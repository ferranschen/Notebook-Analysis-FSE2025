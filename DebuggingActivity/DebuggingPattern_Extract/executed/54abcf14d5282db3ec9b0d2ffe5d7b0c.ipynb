{
 "cells": [
  {
   "cell_type": "code",
   "execution_count": 1,
   "id": "d8e8f22d",
   "metadata": {
    "execution": {
     "iopub.execute_input": "2023-05-10T01:21:39.164750Z",
     "iopub.status.busy": "2023-05-10T01:21:39.164598Z",
     "iopub.status.idle": "2023-05-10T01:21:39.173144Z",
     "shell.execute_reply": "2023-05-10T01:21:39.172749Z"
    }
   },
   "outputs": [],
   "source": [
    "get_ipython().run_cell_magic('capture', '', \"%logstop\\n%logstart -t -r -q ipython_command_log.py global\\n\\n#- IRONHACKS RESEARCH TRACKING CODE\\n#----------------------------------\\n# The following code is used to help our research team understand how you \\n# our notebook environment. We do not collect any personal information with\\n# the following code, it is used to measure when and how often you work on\\n# your submission files.\\n\\nimport os\\nfrom datetime import datetime\\nimport IPython.core.history as history\\n\\nha = history.HistoryAccessor()\\nha_tail = ha.get_tail(1)\\nha_cmd = next(ha_tail)\\nsession_id = str(ha_cmd[0])\\ncommand_id = str(ha_cmd[1])\\ntimestamp = datetime.utcnow().isoformat()\\nhistory_line = ','.join([session_id, command_id, timestamp]) + '\\\\n'\\nlogfile = open(os.environ['HOME']+'/ipython_session_log.csv', 'a')\\nlogfile.write(history_line)\\nlogfile.close()\\n\")"
   ]
  },
  {
   "cell_type": "code",
   "execution_count": 2,
   "id": "74062355",
   "metadata": {
    "execution": {
     "iopub.execute_input": "2023-05-10T01:21:39.175417Z",
     "iopub.status.busy": "2023-05-10T01:21:39.175264Z",
     "iopub.status.idle": "2023-05-10T01:21:42.236456Z",
     "shell.execute_reply": "2023-05-10T01:21:42.235739Z"
    }
   },
   "outputs": [],
   "source": [
    "get_ipython().run_cell_magic('capture', '', \"#- INSTALL ADDITIONAL LIBRARIES IF REQUIRED\\n#------------------------------------------\\n# This is normally not required. The hub environment comes preinstaled with \\n# many packages that you can already use without setup. In case there is some\\n# other library you would like to use that isn't on the list you run this command\\n# once to install them.  If it is already installed this command has no effect.\\n!pip install google-cloud-bigquery\\n!pip install google-cloud-bigquery[pandas]\\n\")"
   ]
  },
  {
   "cell_type": "code",
   "execution_count": 3,
   "id": "a536dfef",
   "metadata": {
    "execution": {
     "iopub.execute_input": "2023-05-10T01:21:42.239773Z",
     "iopub.status.busy": "2023-05-10T01:21:42.239527Z",
     "iopub.status.idle": "2023-05-10T01:21:43.258654Z",
     "shell.execute_reply": "2023-05-10T01:21:43.258349Z"
    }
   },
   "outputs": [],
   "source": [
    "#- IMPORT THE LIBRARIES YOU WILL USE\n",
    "#------------------------------------------\n",
    "# You only need to import packages one time per notebook session. To keep your\n",
    "# notebook clean and organized you can handle all imports at the top of your file.\n",
    "# The following are included for example purposed, feel free to modify or delete \n",
    "# anything in this section.\n",
    "import csv\n",
    "import pandas as pd\n",
    "import numpy as np\n",
    "from google.cloud import bigquery\n",
    "from google.oauth2 import service_account\n",
    "from google.cloud.bigquery import magics\n",
    "from sklearn.model_selection import train_test_split \n",
    "from sklearn.linear_model import LinearRegression\n",
    "from sklearn import metrics\n",
    "import matplotlib.pyplot as plt  \n",
    "import statsmodels.api as sm\n",
    "import itertools\n",
    "from sklearn.tree import DecisionTreeClassifier\n",
    "from sklearn.ensemble import RandomForestClassifier"
   ]
  },
  {
   "cell_type": "code",
   "execution_count": 4,
   "id": "3b1db425",
   "metadata": {
    "execution": {
     "iopub.execute_input": "2023-05-10T01:21:43.260462Z",
     "iopub.status.busy": "2023-05-10T01:21:43.260277Z",
     "iopub.status.idle": "2023-05-10T01:21:43.268210Z",
     "shell.execute_reply": "2023-05-10T01:21:43.267837Z"
    }
   },
   "outputs": [],
   "source": [
    "BIGQUERY_PROJECT = 'ironhacks-data'\n",
    "bigquery_client = bigquery.Client(project=BIGQUERY_PROJECT)"
   ]
  },
  {
   "cell_type": "code",
   "execution_count": 5,
   "id": "d5e04c16",
   "metadata": {
    "execution": {
     "iopub.execute_input": "2023-05-10T01:21:43.270058Z",
     "iopub.status.busy": "2023-05-10T01:21:43.269936Z",
     "iopub.status.idle": "2023-05-10T01:21:46.524069Z",
     "shell.execute_reply": "2023-05-10T01:21:46.523590Z"
    }
   },
   "outputs": [
    {
     "data": {
      "text/html": [
       "<div>\n",
       "<style scoped>\n",
       "    .dataframe tbody tr th:only-of-type {\n",
       "        vertical-align: middle;\n",
       "    }\n",
       "\n",
       "    .dataframe tbody tr th {\n",
       "        vertical-align: top;\n",
       "    }\n",
       "\n",
       "    .dataframe thead th {\n",
       "        text-align: right;\n",
       "    }\n",
       "</style>\n",
       "<table border=\"1\" class=\"dataframe\">\n",
       "  <thead>\n",
       "    <tr style=\"text-align: right;\">\n",
       "      <th></th>\n",
       "      <th>uu_id</th>\n",
       "      <th>timeperiod</th>\n",
       "      <th>week_number</th>\n",
       "      <th>countyfips</th>\n",
       "      <th>tract</th>\n",
       "      <th>tract_name</th>\n",
       "      <th>total_claims</th>\n",
       "      <th>edu_8th_or_less</th>\n",
       "      <th>edu_grades_9_11</th>\n",
       "      <th>edu_hs_grad_equiv</th>\n",
       "      <th>...</th>\n",
       "      <th>gender_female</th>\n",
       "      <th>gender_male</th>\n",
       "      <th>gender_na</th>\n",
       "      <th>race_amerindian</th>\n",
       "      <th>race_asian</th>\n",
       "      <th>race_black</th>\n",
       "      <th>race_noanswer</th>\n",
       "      <th>race_hawaiiannative</th>\n",
       "      <th>race_other</th>\n",
       "      <th>race_white</th>\n",
       "    </tr>\n",
       "  </thead>\n",
       "  <tbody>\n",
       "    <tr>\n",
       "      <th>0</th>\n",
       "      <td>65f24aac652de33abaf3f227b41e2641</td>\n",
       "      <td>20220101</td>\n",
       "      <td>1</td>\n",
       "      <td>18093</td>\n",
       "      <td>950500</td>\n",
       "      <td>Census Tract 9505, Lawrence County, Indiana</td>\n",
       "      <td>10</td>\n",
       "      <td>0</td>\n",
       "      <td>&lt;NA&gt;</td>\n",
       "      <td>&lt;NA&gt;</td>\n",
       "      <td>...</td>\n",
       "      <td>&lt;NA&gt;</td>\n",
       "      <td>&lt;NA&gt;</td>\n",
       "      <td>0</td>\n",
       "      <td>0</td>\n",
       "      <td>0</td>\n",
       "      <td>&lt;NA&gt;</td>\n",
       "      <td>0</td>\n",
       "      <td>0</td>\n",
       "      <td>0</td>\n",
       "      <td>&lt;NA&gt;</td>\n",
       "    </tr>\n",
       "    <tr>\n",
       "      <th>1</th>\n",
       "      <td>14ceb8012cb1b912044297c8933cfcfc</td>\n",
       "      <td>20220101</td>\n",
       "      <td>1</td>\n",
       "      <td>18057</td>\n",
       "      <td>110506</td>\n",
       "      <td>Census Tract 1105.06, Hamilton County, Indiana</td>\n",
       "      <td>39</td>\n",
       "      <td>&lt;NA&gt;</td>\n",
       "      <td>0</td>\n",
       "      <td>&lt;NA&gt;</td>\n",
       "      <td>...</td>\n",
       "      <td>&lt;NA&gt;</td>\n",
       "      <td>&lt;NA&gt;</td>\n",
       "      <td>0</td>\n",
       "      <td>0</td>\n",
       "      <td>0</td>\n",
       "      <td>&lt;NA&gt;</td>\n",
       "      <td>&lt;NA&gt;</td>\n",
       "      <td>0</td>\n",
       "      <td>&lt;NA&gt;</td>\n",
       "      <td>28</td>\n",
       "    </tr>\n",
       "    <tr>\n",
       "      <th>2</th>\n",
       "      <td>f013068de98db1470bd986137a0c6d23</td>\n",
       "      <td>20220101</td>\n",
       "      <td>1</td>\n",
       "      <td>18003</td>\n",
       "      <td>900</td>\n",
       "      <td>Census Tract 9, Allen County, Indiana</td>\n",
       "      <td>10</td>\n",
       "      <td>0</td>\n",
       "      <td>0</td>\n",
       "      <td>&lt;NA&gt;</td>\n",
       "      <td>...</td>\n",
       "      <td>&lt;NA&gt;</td>\n",
       "      <td>&lt;NA&gt;</td>\n",
       "      <td>0</td>\n",
       "      <td>0</td>\n",
       "      <td>0</td>\n",
       "      <td>&lt;NA&gt;</td>\n",
       "      <td>0</td>\n",
       "      <td>0</td>\n",
       "      <td>&lt;NA&gt;</td>\n",
       "      <td>&lt;NA&gt;</td>\n",
       "    </tr>\n",
       "    <tr>\n",
       "      <th>3</th>\n",
       "      <td>f70960d492c2fd067680a14baa0f66e9</td>\n",
       "      <td>20220101</td>\n",
       "      <td>1</td>\n",
       "      <td>18167</td>\n",
       "      <td>10600</td>\n",
       "      <td>Census Tract 106, Vigo County, Indiana</td>\n",
       "      <td>35</td>\n",
       "      <td>0</td>\n",
       "      <td>&lt;NA&gt;</td>\n",
       "      <td>21</td>\n",
       "      <td>...</td>\n",
       "      <td>&lt;NA&gt;</td>\n",
       "      <td>&lt;NA&gt;</td>\n",
       "      <td>0</td>\n",
       "      <td>0</td>\n",
       "      <td>0</td>\n",
       "      <td>0</td>\n",
       "      <td>&lt;NA&gt;</td>\n",
       "      <td>0</td>\n",
       "      <td>&lt;NA&gt;</td>\n",
       "      <td>32</td>\n",
       "    </tr>\n",
       "    <tr>\n",
       "      <th>4</th>\n",
       "      <td>778946d9696cd6c95f57e8b1e6336389</td>\n",
       "      <td>20220101</td>\n",
       "      <td>1</td>\n",
       "      <td>18167</td>\n",
       "      <td>11200</td>\n",
       "      <td>Census Tract 112, Vigo County, Indiana</td>\n",
       "      <td>37</td>\n",
       "      <td>0</td>\n",
       "      <td>&lt;NA&gt;</td>\n",
       "      <td>24</td>\n",
       "      <td>...</td>\n",
       "      <td>26</td>\n",
       "      <td>11</td>\n",
       "      <td>0</td>\n",
       "      <td>0</td>\n",
       "      <td>0</td>\n",
       "      <td>&lt;NA&gt;</td>\n",
       "      <td>&lt;NA&gt;</td>\n",
       "      <td>0</td>\n",
       "      <td>&lt;NA&gt;</td>\n",
       "      <td>&lt;NA&gt;</td>\n",
       "    </tr>\n",
       "  </tbody>\n",
       "</table>\n",
       "<p>5 rows × 25 columns</p>\n",
       "</div>"
      ],
      "text/plain": [
       "                              uu_id  timeperiod  week_number  countyfips  \\\n",
       "0  65f24aac652de33abaf3f227b41e2641    20220101            1       18093   \n",
       "1  14ceb8012cb1b912044297c8933cfcfc    20220101            1       18057   \n",
       "2  f013068de98db1470bd986137a0c6d23    20220101            1       18003   \n",
       "3  f70960d492c2fd067680a14baa0f66e9    20220101            1       18167   \n",
       "4  778946d9696cd6c95f57e8b1e6336389    20220101            1       18167   \n",
       "\n",
       "    tract                                      tract_name  total_claims  \\\n",
       "0  950500     Census Tract 9505, Lawrence County, Indiana            10   \n",
       "1  110506  Census Tract 1105.06, Hamilton County, Indiana            39   \n",
       "2     900           Census Tract 9, Allen County, Indiana            10   \n",
       "3   10600          Census Tract 106, Vigo County, Indiana            35   \n",
       "4   11200          Census Tract 112, Vigo County, Indiana            37   \n",
       "\n",
       "   edu_8th_or_less  edu_grades_9_11  edu_hs_grad_equiv  ...  gender_female  \\\n",
       "0                0             <NA>               <NA>  ...           <NA>   \n",
       "1             <NA>                0               <NA>  ...           <NA>   \n",
       "2                0                0               <NA>  ...           <NA>   \n",
       "3                0             <NA>                 21  ...           <NA>   \n",
       "4                0             <NA>                 24  ...             26   \n",
       "\n",
       "   gender_male gender_na race_amerindian race_asian  race_black  \\\n",
       "0         <NA>         0               0          0        <NA>   \n",
       "1         <NA>         0               0          0        <NA>   \n",
       "2         <NA>         0               0          0        <NA>   \n",
       "3         <NA>         0               0          0           0   \n",
       "4           11         0               0          0        <NA>   \n",
       "\n",
       "   race_noanswer  race_hawaiiannative  race_other  race_white  \n",
       "0              0                    0           0        <NA>  \n",
       "1           <NA>                    0        <NA>          28  \n",
       "2              0                    0        <NA>        <NA>  \n",
       "3           <NA>                    0        <NA>          32  \n",
       "4           <NA>                    0        <NA>        <NA>  \n",
       "\n",
       "[5 rows x 25 columns]"
      ]
     },
     "execution_count": 5,
     "metadata": {},
     "output_type": "execute_result"
    }
   ],
   "source": [
    "#query 3: overview of employment_data(week 41)\n",
    "query = \"\"\"\n",
    "SELECT *\n",
    "FROM `ironhacks-data.ironhacks_competition.unemployment_data`\n",
    "ORDER BY week_number ASC;\n",
    "\"\"\"\n",
    "query_job = bigquery_client.query(query)\n",
    "overview = query_job.to_dataframe()\n",
    "overview.head()"
   ]
  },
  {
   "cell_type": "code",
   "execution_count": 6,
   "id": "6ddfb5e0",
   "metadata": {
    "execution": {
     "iopub.execute_input": "2023-05-10T01:21:46.526659Z",
     "iopub.status.busy": "2023-05-10T01:21:46.526410Z",
     "iopub.status.idle": "2023-05-10T01:21:48.784407Z",
     "shell.execute_reply": "2023-05-10T01:21:48.783699Z"
    }
   },
   "outputs": [
    {
     "name": "stdout",
     "output_type": "stream",
     "text": [
      "                              uu_id  week_number  total_claims\n",
      "0  65f24aac652de33abaf3f227b41e2641            1            10\n",
      "1  14ceb8012cb1b912044297c8933cfcfc            1            39\n",
      "2  f013068de98db1470bd986137a0c6d23            1            10\n",
      "3  f70960d492c2fd067680a14baa0f66e9            1            35\n",
      "4  778946d9696cd6c95f57e8b1e6336389            1            37\n"
     ]
    }
   ],
   "source": [
    "#query 2: overview of important info from unemployment table\n",
    "query = \"\"\"\n",
    "SELECT uu_id, week_number, total_claims\n",
    "FROM `ironhacks-data.ironhacks_competition.unemployment_data` \n",
    "ORDER BY week_number ASC\n",
    "\"\"\"\n",
    "query_jobb = bigquery_client.query(query)\n",
    "employ = query_jobb.to_dataframe()\n",
    "print(employ.head())"
   ]
  },
  {
   "cell_type": "code",
   "execution_count": 7,
   "id": "bb6ce7ce",
   "metadata": {
    "execution": {
     "iopub.execute_input": "2023-05-10T01:21:48.788441Z",
     "iopub.status.busy": "2023-05-10T01:21:48.788117Z",
     "iopub.status.idle": "2023-05-10T01:21:50.518215Z",
     "shell.execute_reply": "2023-05-10T01:21:50.517287Z"
    },
    "lines_to_next_cell": 2
   },
   "outputs": [
    {
     "name": "stdout",
     "output_type": "stream",
     "text": [
      "                              uu_id  week_number\n",
      "0  5bf51fc2e162d6faf9e3cf79e4198378           44\n",
      "1  420b44cc7e3f55d738df565421e59941           44\n",
      "2  e39c66ecceec76ee8f9f811fa4a2d246           44\n",
      "3  a90462cd11ae4e43144239bf7c4828a4           44\n",
      "4  8b20a6749088c7ff1237983076ebfeaa           44\n"
     ]
    }
   ],
   "source": [
    "#query 3: overview of prediction list (week 41)\n",
    "query = \"\"\"\n",
    "SELECT *\n",
    "FROM `ironhacks-data.ironhacks_competition.prediction_list`\n",
    "\"\"\"\n",
    "query_job = bigquery_client.query(query)\n",
    "predn = query_job.to_dataframe()\n",
    "predn.head()\n",
    "print(predn.head())"
   ]
  }
 ],
 "metadata": {
  "jupytext": {
   "cell_metadata_filter": "-all",
   "main_language": "python",
   "notebook_metadata_filter": "-all"
  },
  "language_info": {
   "codemirror_mode": {
    "name": "ipython",
    "version": 3
   },
   "file_extension": ".py",
   "mimetype": "text/x-python",
   "name": "python",
   "nbconvert_exporter": "python",
   "pygments_lexer": "ipython3",
   "version": "3.9.12"
  }
 },
 "nbformat": 4,
 "nbformat_minor": 5
}
