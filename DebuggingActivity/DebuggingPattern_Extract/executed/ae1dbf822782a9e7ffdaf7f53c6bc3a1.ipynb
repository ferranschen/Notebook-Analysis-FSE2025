{
 "cells": [
  {
   "cell_type": "code",
   "execution_count": 1,
   "id": "365d1b53",
   "metadata": {
    "execution": {
     "iopub.execute_input": "2023-05-10T01:27:57.099712Z",
     "iopub.status.busy": "2023-05-10T01:27:57.099595Z",
     "iopub.status.idle": "2023-05-10T01:27:57.488937Z",
     "shell.execute_reply": "2023-05-10T01:27:57.488644Z"
    }
   },
   "outputs": [],
   "source": [
    "import os\n",
    "import pandas\n",
    "from google.cloud import bigquery\n",
    "from google.oauth2 import service_account\n",
    "from google.cloud.bigquery import magics"
   ]
  },
  {
   "cell_type": "markdown",
   "id": "32e4896b",
   "metadata": {},
   "source": [
    "CONFIGURE THE BIGQUERY SETTINGS"
   ]
  },
  {
   "cell_type": "code",
   "execution_count": 2,
   "id": "0a5ccbfb",
   "metadata": {
    "execution": {
     "iopub.execute_input": "2023-05-10T01:27:57.490723Z",
     "iopub.status.busy": "2023-05-10T01:27:57.490566Z",
     "iopub.status.idle": "2023-05-10T01:27:57.497707Z",
     "shell.execute_reply": "2023-05-10T01:27:57.497378Z"
    }
   },
   "outputs": [],
   "source": [
    "BIGQUERY_PROJECT = 'ironhacks-data'\n",
    "bigquery_client = bigquery.Client(project=BIGQUERY_PROJECT)"
   ]
  },
  {
   "cell_type": "code",
   "execution_count": 3,
   "id": "e8acba14",
   "metadata": {
    "execution": {
     "iopub.execute_input": "2023-05-10T01:27:57.499414Z",
     "iopub.status.busy": "2023-05-10T01:27:57.499293Z",
     "iopub.status.idle": "2023-05-10T01:27:57.501218Z",
     "shell.execute_reply": "2023-05-10T01:27:57.500986Z"
    }
   },
   "outputs": [],
   "source": [
    "query = \"\"\"\n",
    "SELECT *\n",
    "FROM `ironhacks-data.ironhacks_training.covid19_cases`\n",
    "\"\"\""
   ]
  },
  {
   "cell_type": "code",
   "execution_count": 4,
   "id": "6b24e9e2",
   "metadata": {
    "execution": {
     "iopub.execute_input": "2023-05-10T01:27:57.502523Z",
     "iopub.status.busy": "2023-05-10T01:27:57.502426Z",
     "iopub.status.idle": "2023-05-10T01:28:00.488752Z",
     "shell.execute_reply": "2023-05-10T01:28:00.488176Z"
    }
   },
   "outputs": [
    {
     "name": "stdout",
     "output_type": "stream",
     "text": [
      "    week_number  start_date      county   fips  cases  deaths\n",
      "0             9  2021-03-01      Marion  18097    664      23\n",
      "1            12  2021-03-22      Marion  18097    623      11\n",
      "2            19  2021-05-10      Marion  18097   1156       4\n",
      "3            11  2021-03-15      Marion  18097    560      13\n",
      "4             6  2021-02-08      Marion  18097   1542     219\n",
      "5            14  2021-04-05      Marion  18097    849       6\n",
      "6             1  2021-01-04      Marion  18097   4714      77\n",
      "7            18  2021-05-03      Marion  18097   1201       9\n",
      "8             5  2021-02-01      Marion  18097   1972      24\n",
      "9            15  2021-04-12      Marion  18097   1278       6\n",
      "10           17  2021-04-26      Marion  18097    933       6\n",
      "11            8  2021-02-22      Marion  18097    743      15\n",
      "12           16  2021-04-19      Marion  18097   1111      17\n",
      "13           23  2021-06-07      Marion  18097    819       3\n",
      "14           13  2021-03-29      Marion  18097    785       6\n",
      "15           10  2021-03-08      Marion  18097    703      13\n",
      "16           20  2021-05-17      Marion  18097    806      12\n",
      "17            3  2021-01-18      Marion  18097   3460      52\n",
      "18            7  2021-02-15      Marion  18097   1108      32\n",
      "19           21  2021-05-24      Marion  18097    710       5\n",
      "20            2  2021-01-11      Marion  18097   5289      77\n",
      "21           22  2021-05-31      Marion  18097    471       8\n",
      "22            4  2021-01-25      Marion  18097   2794      37\n",
      "23           20  2021-05-17  Tippecanoe  18157     78       0\n",
      "24            5  2021-02-01  Tippecanoe  18157    458      10\n",
      "25           22  2021-05-31  Tippecanoe  18157     91       5\n",
      "26            7  2021-02-15  Tippecanoe  18157    391       9\n",
      "27            9  2021-03-01  Tippecanoe  18157    295       5\n",
      "28           15  2021-04-12  Tippecanoe  18157    387       1\n",
      "29            1  2021-01-04  Tippecanoe  18157    964      25\n",
      "30            4  2021-01-25  Tippecanoe  18157    626      19\n",
      "31           13  2021-03-29  Tippecanoe  18157    217       0\n",
      "32           14  2021-04-05  Tippecanoe  18157    338       0\n",
      "33           23  2021-06-07  Tippecanoe  18157     88       0\n",
      "34           16  2021-04-19  Tippecanoe  18157    321       0\n",
      "35           18  2021-05-03  Tippecanoe  18157    197       2\n",
      "36           12  2021-03-22  Tippecanoe  18157    141       3\n",
      "37           10  2021-03-08  Tippecanoe  18157    235       4\n",
      "38            2  2021-01-11  Tippecanoe  18157   1232      15\n",
      "39           17  2021-04-26  Tippecanoe  18157    225       3\n",
      "40           11  2021-03-15  Tippecanoe  18157    188       1\n",
      "41            3  2021-01-18  Tippecanoe  18157    737      10\n",
      "42            8  2021-02-22  Tippecanoe  18157    318       7\n",
      "43           21  2021-05-24  Tippecanoe  18157    121       1\n",
      "44            6  2021-02-08  Tippecanoe  18157    457      32\n",
      "45           19  2021-05-10  Tippecanoe  18157    122       2\n"
     ]
    }
   ],
   "source": [
    "# QUERY THE DATA ONCE\n",
    "query_job = bigquery_client.query(query)\n",
    "covid19_cases_data = query_job.to_dataframe()\n",
    "print(covid19_cases_data)"
   ]
  },
  {
   "cell_type": "code",
   "execution_count": 5,
   "id": "6f2c793f",
   "metadata": {
    "execution": {
     "iopub.execute_input": "2023-05-10T01:28:00.491858Z",
     "iopub.status.busy": "2023-05-10T01:28:00.491616Z",
     "iopub.status.idle": "2023-05-10T01:28:00.494680Z",
     "shell.execute_reply": "2023-05-10T01:28:00.494238Z"
    }
   },
   "outputs": [],
   "source": [
    "import os\n",
    "import pandas\n",
    "from google.cloud import bigquery\n",
    "from google.oauth2 import service_account\n",
    "from google.cloud.bigquery import magics"
   ]
  },
  {
   "cell_type": "markdown",
   "id": "526dc1af",
   "metadata": {},
   "source": [
    "CONFIGURE THE BIGQUERY SETTINGS"
   ]
  },
  {
   "cell_type": "code",
   "execution_count": 6,
   "id": "aba8e0c8",
   "metadata": {
    "execution": {
     "iopub.execute_input": "2023-05-10T01:28:00.497198Z",
     "iopub.status.busy": "2023-05-10T01:28:00.497032Z",
     "iopub.status.idle": "2023-05-10T01:28:00.507088Z",
     "shell.execute_reply": "2023-05-10T01:28:00.506548Z"
    }
   },
   "outputs": [],
   "source": [
    "BIGQUERY_PROJECT = 'ironhacks-data'\n",
    "bigquery_client = bigquery.Client(project=BIGQUERY_PROJECT)"
   ]
  },
  {
   "cell_type": "code",
   "execution_count": 7,
   "id": "2490b61b",
   "metadata": {
    "execution": {
     "iopub.execute_input": "2023-05-10T01:28:00.509697Z",
     "iopub.status.busy": "2023-05-10T01:28:00.509491Z",
     "iopub.status.idle": "2023-05-10T01:28:00.512131Z",
     "shell.execute_reply": "2023-05-10T01:28:00.511688Z"
    }
   },
   "outputs": [],
   "source": [
    "query = \"\"\"\n",
    "SELECT *\n",
    "FROM `ironhacks-data.ironhacks_training.covid19_cases`\n",
    "\"\"\""
   ]
  },
  {
   "cell_type": "code",
   "execution_count": 8,
   "id": "6bb12175",
   "metadata": {
    "execution": {
     "iopub.execute_input": "2023-05-10T01:28:00.514315Z",
     "iopub.status.busy": "2023-05-10T01:28:00.514137Z",
     "iopub.status.idle": "2023-05-10T01:28:02.212994Z",
     "shell.execute_reply": "2023-05-10T01:28:02.212115Z"
    }
   },
   "outputs": [
    {
     "name": "stdout",
     "output_type": "stream",
     "text": [
      "    week_number  start_date      county   fips  cases  deaths\n",
      "0             9  2021-03-01      Marion  18097    664      23\n",
      "1            12  2021-03-22      Marion  18097    623      11\n",
      "2            19  2021-05-10      Marion  18097   1156       4\n",
      "3            11  2021-03-15      Marion  18097    560      13\n",
      "4             6  2021-02-08      Marion  18097   1542     219\n",
      "5            14  2021-04-05      Marion  18097    849       6\n",
      "6             1  2021-01-04      Marion  18097   4714      77\n",
      "7            18  2021-05-03      Marion  18097   1201       9\n",
      "8             5  2021-02-01      Marion  18097   1972      24\n",
      "9            15  2021-04-12      Marion  18097   1278       6\n",
      "10           17  2021-04-26      Marion  18097    933       6\n",
      "11            8  2021-02-22      Marion  18097    743      15\n",
      "12           16  2021-04-19      Marion  18097   1111      17\n",
      "13           23  2021-06-07      Marion  18097    819       3\n",
      "14           13  2021-03-29      Marion  18097    785       6\n",
      "15           10  2021-03-08      Marion  18097    703      13\n",
      "16           20  2021-05-17      Marion  18097    806      12\n",
      "17            3  2021-01-18      Marion  18097   3460      52\n",
      "18            7  2021-02-15      Marion  18097   1108      32\n",
      "19           21  2021-05-24      Marion  18097    710       5\n",
      "20            2  2021-01-11      Marion  18097   5289      77\n",
      "21           22  2021-05-31      Marion  18097    471       8\n",
      "22            4  2021-01-25      Marion  18097   2794      37\n",
      "23           20  2021-05-17  Tippecanoe  18157     78       0\n",
      "24            5  2021-02-01  Tippecanoe  18157    458      10\n",
      "25           22  2021-05-31  Tippecanoe  18157     91       5\n",
      "26            7  2021-02-15  Tippecanoe  18157    391       9\n",
      "27            9  2021-03-01  Tippecanoe  18157    295       5\n",
      "28           15  2021-04-12  Tippecanoe  18157    387       1\n",
      "29            1  2021-01-04  Tippecanoe  18157    964      25\n",
      "30            4  2021-01-25  Tippecanoe  18157    626      19\n",
      "31           13  2021-03-29  Tippecanoe  18157    217       0\n",
      "32           14  2021-04-05  Tippecanoe  18157    338       0\n",
      "33           23  2021-06-07  Tippecanoe  18157     88       0\n",
      "34           16  2021-04-19  Tippecanoe  18157    321       0\n",
      "35           18  2021-05-03  Tippecanoe  18157    197       2\n",
      "36           12  2021-03-22  Tippecanoe  18157    141       3\n",
      "37           10  2021-03-08  Tippecanoe  18157    235       4\n",
      "38            2  2021-01-11  Tippecanoe  18157   1232      15\n",
      "39           17  2021-04-26  Tippecanoe  18157    225       3\n",
      "40           11  2021-03-15  Tippecanoe  18157    188       1\n",
      "41            3  2021-01-18  Tippecanoe  18157    737      10\n",
      "42            8  2021-02-22  Tippecanoe  18157    318       7\n",
      "43           21  2021-05-24  Tippecanoe  18157    121       1\n",
      "44            6  2021-02-08  Tippecanoe  18157    457      32\n",
      "45           19  2021-05-10  Tippecanoe  18157    122       2\n"
     ]
    }
   ],
   "source": [
    "# QUERY THE DATA ONCE\n",
    "query_job = bigquery_client.query(query)\n",
    "covid19_cases_data = query_job.to_dataframe()\n",
    "print(covid19_cases_data)"
   ]
  },
  {
   "cell_type": "code",
   "execution_count": 9,
   "id": "c647804e",
   "metadata": {
    "execution": {
     "iopub.execute_input": "2023-05-10T01:28:02.219664Z",
     "iopub.status.busy": "2023-05-10T01:28:02.219234Z",
     "iopub.status.idle": "2023-05-10T01:28:03.478660Z",
     "shell.execute_reply": "2023-05-10T01:28:03.478020Z"
    },
    "lines_to_next_cell": 2
   },
   "outputs": [
    {
     "name": "stdout",
     "output_type": "stream",
     "text": [
      "\u001b[33mDEPRECATION: Configuring installation scheme with distutils config files is deprecated and will no longer work in the near future. If you are using a Homebrew or Linuxbrew Python, please see discussion at https://github.com/Homebrew/homebrew-core/issues/76621\u001b[0m\u001b[33m\r\n",
      "\u001b[0mRequirement already satisfied: db-dtypes in /opt/homebrew/lib/python3.9/site-packages (1.0.5)\r\n",
      "Requirement already satisfied: packaging>=17.0 in /Users/weihaochen/Library/Python/3.9/lib/python/site-packages (from db-dtypes) (21.3)\r\n",
      "Requirement already satisfied: pandas<2.0dev,>=0.24.2 in /opt/homebrew/lib/python3.9/site-packages (from db-dtypes) (1.5.1)\r\n",
      "Requirement already satisfied: pyarrow>=3.0.0 in /opt/homebrew/lib/python3.9/site-packages (from db-dtypes) (10.0.0)\r\n",
      "Requirement already satisfied: numpy<2.0dev,>=1.16.6 in /opt/homebrew/lib/python3.9/site-packages (from db-dtypes) (1.23.4)\r\n",
      "Requirement already satisfied: pyparsing!=3.0.5,>=2.0.2 in /Users/weihaochen/Library/Python/3.9/lib/python/site-packages (from packaging>=17.0->db-dtypes) (3.0.9)\r\n",
      "Requirement already satisfied: pytz>=2020.1 in /opt/homebrew/lib/python3.9/site-packages (from pandas<2.0dev,>=0.24.2->db-dtypes) (2022.6)\r\n",
      "Requirement already satisfied: python-dateutil>=2.8.1 in /Users/weihaochen/Library/Python/3.9/lib/python/site-packages (from pandas<2.0dev,>=0.24.2->db-dtypes) (2.8.2)\r\n"
     ]
    },
    {
     "name": "stdout",
     "output_type": "stream",
     "text": [
      "Requirement already satisfied: six>=1.5 in /Users/weihaochen/Library/Python/3.9/lib/python/site-packages (from python-dateutil>=2.8.1->pandas<2.0dev,>=0.24.2->db-dtypes) (1.16.0)\r\n"
     ]
    },
    {
     "name": "stdout",
     "output_type": "stream",
     "text": [
      "\u001b[33mDEPRECATION: Configuring installation scheme with distutils config files is deprecated and will no longer work in the near future. If you are using a Homebrew or Linuxbrew Python, please see discussion at https://github.com/Homebrew/homebrew-core/issues/76621\u001b[0m\u001b[33m\r\n",
      "\u001b[0m\u001b[33mWARNING: You are using pip version 22.0.4; however, version 23.1.2 is available.\r\n",
      "You should consider upgrading via the '/opt/homebrew/opt/python@3.9/bin/python3.9 -m pip install --upgrade pip' command.\u001b[0m\u001b[33m\r\n",
      "\u001b[0m"
     ]
    },
    {
     "name": "stdout",
     "output_type": "stream",
     "text": [
      "Note: you may need to restart the kernel to use updated packages.\n"
     ]
    }
   ],
   "source": [
    "get_ipython().run_line_magic('pip', 'install db-dtypes')"
   ]
  }
 ],
 "metadata": {
  "jupytext": {
   "cell_metadata_filter": "-all",
   "main_language": "python",
   "notebook_metadata_filter": "-all"
  },
  "language_info": {
   "codemirror_mode": {
    "name": "ipython",
    "version": 3
   },
   "file_extension": ".py",
   "mimetype": "text/x-python",
   "name": "python",
   "nbconvert_exporter": "python",
   "pygments_lexer": "ipython3",
   "version": "3.9.12"
  }
 },
 "nbformat": 4,
 "nbformat_minor": 5
}
