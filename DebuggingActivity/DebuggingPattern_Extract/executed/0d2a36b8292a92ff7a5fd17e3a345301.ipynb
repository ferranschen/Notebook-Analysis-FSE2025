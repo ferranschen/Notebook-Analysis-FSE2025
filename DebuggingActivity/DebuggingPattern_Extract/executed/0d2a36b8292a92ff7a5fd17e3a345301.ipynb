{
 "cells": [
  {
   "cell_type": "code",
   "execution_count": 1,
   "id": "440645ce",
   "metadata": {
    "execution": {
     "iopub.execute_input": "2023-05-10T00:35:59.021321Z",
     "iopub.status.busy": "2023-05-10T00:35:59.020226Z",
     "iopub.status.idle": "2023-05-10T00:35:59.038762Z",
     "shell.execute_reply": "2023-05-10T00:35:59.037242Z"
    }
   },
   "outputs": [],
   "source": [
    "get_ipython().run_cell_magic('capture', '', \"%logstop\\n%logstart -t -r -q ipython_command_log.py global\\n\\n#- IRONHACKS RESEARCH TRACKING CODE\\n#----------------------------------\\n# The following code is used to help our research team understand how you \\n# our notebook environment. We do not collect any personal information with\\n# the following code, it is used to measure when and how often you work on\\n# your submission files.\\n\\nimport os\\nfrom datetime import datetime\\nimport IPython.core.history as history\\n\\nha = history.HistoryAccessor()\\nha_tail = ha.get_tail(1)\\nha_cmd = next(ha_tail)\\nsession_id = str(ha_cmd[0])\\ncommand_id = str(ha_cmd[1])\\ntimestamp = datetime.utcnow().isoformat()\\nhistory_line = ','.join([session_id, command_id, timestamp]) + '\\\\n'\\nlogfile = open(os.environ['HOME']+'/ipython_session_log.csv', 'a')\\nlogfile.write(history_line)\\nlogfile.close()\\n\")"
   ]
  },
  {
   "cell_type": "markdown",
   "id": "2fa6402b",
   "metadata": {},
   "source": [
    "- INSTALL ADDITIONAL LIBRARIES IF REQUIRED\n",
    "------------------------------------------\n",
    "This is normally not required. The hub environment comes preinstaled with \n",
    "many packages that you can already use without setup. In case there is some\n",
    "other library you would like to use that isn't on the list you run this command\n",
    "once to install them.  If it is already installed this command has no effect."
   ]
  },
  {
   "cell_type": "code",
   "execution_count": 2,
   "id": "2f912f6f",
   "metadata": {
    "execution": {
     "iopub.execute_input": "2023-05-10T00:35:59.047430Z",
     "iopub.status.busy": "2023-05-10T00:35:59.046905Z",
     "iopub.status.idle": "2023-05-10T00:36:00.161356Z",
     "shell.execute_reply": "2023-05-10T00:36:00.160740Z"
    }
   },
   "outputs": [
    {
     "name": "stdout",
     "output_type": "stream",
     "text": [
      "\u001b[33mDEPRECATION: Configuring installation scheme with distutils config files is deprecated and will no longer work in the near future. If you are using a Homebrew or Linuxbrew Python, please see discussion at https://github.com/Homebrew/homebrew-core/issues/76621\u001b[0m\u001b[33m\r\n",
      "\u001b[0m"
     ]
    },
    {
     "name": "stdout",
     "output_type": "stream",
     "text": [
      "Requirement already satisfied: db-dtypes in /opt/homebrew/lib/python3.9/site-packages (1.0.5)\r\n",
      "Requirement already satisfied: pmdarima in /opt/homebrew/lib/python3.9/site-packages (2.0.2)\r\n",
      "Requirement already satisfied: numpy<2.0dev,>=1.16.6 in /opt/homebrew/lib/python3.9/site-packages (from db-dtypes) (1.23.4)\r\n",
      "Requirement already satisfied: pandas<2.0dev,>=0.24.2 in /opt/homebrew/lib/python3.9/site-packages (from db-dtypes) (1.5.1)\r\n",
      "Requirement already satisfied: pyarrow>=3.0.0 in /opt/homebrew/lib/python3.9/site-packages (from db-dtypes) (10.0.0)\r\n",
      "Requirement already satisfied: packaging>=17.0 in /Users/weihaochen/Library/Python/3.9/lib/python/site-packages (from db-dtypes) (21.3)\r\n",
      "Requirement already satisfied: scipy>=1.3.2 in /opt/homebrew/lib/python3.9/site-packages (from pmdarima) (1.9.1)\r\n",
      "Requirement already satisfied: urllib3 in /opt/homebrew/lib/python3.9/site-packages (from pmdarima) (1.26.14)\r\n",
      "Requirement already satisfied: Cython!=0.29.18,!=0.29.31,>=0.29 in /opt/homebrew/lib/python3.9/site-packages (from pmdarima) (0.29.33)\r\n",
      "Requirement already satisfied: setuptools!=50.0.0,>=38.6.0 in /opt/homebrew/lib/python3.9/site-packages (from pmdarima) (60.10.0)\r\n",
      "Requirement already satisfied: joblib>=0.11 in /opt/homebrew/lib/python3.9/site-packages (from pmdarima) (1.2.0)\r\n",
      "Requirement already satisfied: statsmodels>=0.13.2 in /opt/homebrew/lib/python3.9/site-packages (from pmdarima) (0.13.5)\r\n",
      "Requirement already satisfied: scikit-learn>=0.22 in /opt/homebrew/lib/python3.9/site-packages (from pmdarima) (1.2.0)\r\n",
      "Requirement already satisfied: pyparsing!=3.0.5,>=2.0.2 in /Users/weihaochen/Library/Python/3.9/lib/python/site-packages (from packaging>=17.0->db-dtypes) (3.0.9)\r\n",
      "Requirement already satisfied: pytz>=2020.1 in /opt/homebrew/lib/python3.9/site-packages (from pandas<2.0dev,>=0.24.2->db-dtypes) (2022.6)\r\n",
      "Requirement already satisfied: python-dateutil>=2.8.1 in /Users/weihaochen/Library/Python/3.9/lib/python/site-packages (from pandas<2.0dev,>=0.24.2->db-dtypes) (2.8.2)\r\n",
      "Requirement already satisfied: threadpoolctl>=2.0.0 in /opt/homebrew/lib/python3.9/site-packages (from scikit-learn>=0.22->pmdarima) (3.1.0)\r\n"
     ]
    },
    {
     "name": "stdout",
     "output_type": "stream",
     "text": [
      "Requirement already satisfied: patsy>=0.5.2 in /opt/homebrew/lib/python3.9/site-packages (from statsmodels>=0.13.2->pmdarima) (0.5.3)\r\n",
      "Requirement already satisfied: six in /Users/weihaochen/Library/Python/3.9/lib/python/site-packages (from patsy>=0.5.2->statsmodels>=0.13.2->pmdarima) (1.16.0)\r\n"
     ]
    },
    {
     "name": "stdout",
     "output_type": "stream",
     "text": [
      "\u001b[33mDEPRECATION: Configuring installation scheme with distutils config files is deprecated and will no longer work in the near future. If you are using a Homebrew or Linuxbrew Python, please see discussion at https://github.com/Homebrew/homebrew-core/issues/76621\u001b[0m\u001b[33m\r\n",
      "\u001b[0m\u001b[33mWARNING: You are using pip version 22.0.4; however, version 23.1.2 is available.\r\n",
      "You should consider upgrading via the '/opt/homebrew/opt/python@3.9/bin/python3.9 -m pip install --upgrade pip' command.\u001b[0m\u001b[33m\r\n",
      "\u001b[0m"
     ]
    }
   ],
   "source": [
    "get_ipython().system('python3 -m pip install db-dtypes pmdarima')"
   ]
  },
  {
   "cell_type": "markdown",
   "id": "42189212",
   "metadata": {},
   "source": [
    "- IMPORT THE LIBRARIES YOU WILL USE\n",
    "------------------------------------------\n",
    "You only need to import packages one time per notebook session. To keep your\n",
    "notebook clean and organized you can handle all imports at the top of your file.\n",
    "The following are included for example purposed, feel free to modify or delete \n",
    "anything in this section."
   ]
  },
  {
   "cell_type": "code",
   "execution_count": 3,
   "id": "9ff2d6fd",
   "metadata": {
    "execution": {
     "iopub.execute_input": "2023-05-10T00:36:00.164191Z",
     "iopub.status.busy": "2023-05-10T00:36:00.163982Z",
     "iopub.status.idle": "2023-05-10T00:36:01.164662Z",
     "shell.execute_reply": "2023-05-10T00:36:01.164340Z"
    }
   },
   "outputs": [],
   "source": [
    "import csv\n",
    "import pandas as pd\n",
    "import numpy as np\n",
    "from google.cloud import bigquery\n",
    "from google.oauth2 import service_account\n",
    "from google.cloud.bigquery import magics\n",
    "from sklearn.model_selection import train_test_split \n",
    "from sklearn import metrics\n",
    "import matplotlib.pyplot as plt\n",
    "import seaborn as sns\n",
    "import pmdarima as pm\n",
    "from pmdarima.arima import auto_arima"
   ]
  },
  {
   "cell_type": "markdown",
   "id": "ab5132b1",
   "metadata": {},
   "source": [
    "CONFIGURE THE BIGQUERY SETTINGS"
   ]
  },
  {
   "cell_type": "code",
   "execution_count": 4,
   "id": "1b77eb6b",
   "metadata": {
    "execution": {
     "iopub.execute_input": "2023-05-10T00:36:01.166353Z",
     "iopub.status.busy": "2023-05-10T00:36:01.166178Z",
     "iopub.status.idle": "2023-05-10T00:36:01.173855Z",
     "shell.execute_reply": "2023-05-10T00:36:01.173507Z"
    }
   },
   "outputs": [],
   "source": [
    "BIGQUERY_PROJECT = 'ironhacks-data'\n",
    "bigquery_client = bigquery.Client(project=BIGQUERY_PROJECT)"
   ]
  },
  {
   "cell_type": "code",
   "execution_count": 5,
   "id": "b0f96d00",
   "metadata": {
    "execution": {
     "iopub.execute_input": "2023-05-10T00:36:01.175529Z",
     "iopub.status.busy": "2023-05-10T00:36:01.175401Z",
     "iopub.status.idle": "2023-05-10T00:36:01.177474Z",
     "shell.execute_reply": "2023-05-10T00:36:01.177254Z"
    }
   },
   "outputs": [],
   "source": [
    "query = \"\"\"\n",
    "Select a.*, b.average_wage FROM \n",
    "(SELECT * FROM `ironhacks-data.ironhacks_competition.unemployment_data` ) a\n",
    "JOIN `ironhacks-data.ironhacks_competition.wage_data` b \n",
    "ON a.uu_id=b.uu_id\n",
    "order by uu_id, week_number\n",
    "\"\"\""
   ]
  },
  {
   "cell_type": "code",
   "execution_count": 6,
   "id": "ce8111ea",
   "metadata": {
    "execution": {
     "iopub.execute_input": "2023-05-10T00:36:01.178811Z",
     "iopub.status.busy": "2023-05-10T00:36:01.178700Z",
     "iopub.status.idle": "2023-05-10T00:36:04.206245Z",
     "shell.execute_reply": "2023-05-10T00:36:04.205817Z"
    }
   },
   "outputs": [],
   "source": [
    "# QUERY THE DATA ONCE\n",
    "query_job = bigquery_client.query(query)\n",
    "empdata = query_job.to_dataframe().drop_duplicates().fillna(0)"
   ]
  },
  {
   "cell_type": "code",
   "execution_count": 7,
   "id": "7490ee72",
   "metadata": {
    "execution": {
     "iopub.execute_input": "2023-05-10T00:36:04.208653Z",
     "iopub.status.busy": "2023-05-10T00:36:04.208470Z",
     "iopub.status.idle": "2023-05-10T00:36:04.220260Z",
     "shell.execute_reply": "2023-05-10T00:36:04.219939Z"
    }
   },
   "outputs": [
    {
     "data": {
      "text/html": [
       "<div>\n",
       "<style scoped>\n",
       "    .dataframe tbody tr th:only-of-type {\n",
       "        vertical-align: middle;\n",
       "    }\n",
       "\n",
       "    .dataframe tbody tr th {\n",
       "        vertical-align: top;\n",
       "    }\n",
       "\n",
       "    .dataframe thead th {\n",
       "        text-align: right;\n",
       "    }\n",
       "</style>\n",
       "<table border=\"1\" class=\"dataframe\">\n",
       "  <thead>\n",
       "    <tr style=\"text-align: right;\">\n",
       "      <th></th>\n",
       "      <th>0</th>\n",
       "      <th>1</th>\n",
       "      <th>3</th>\n",
       "      <th>5</th>\n",
       "      <th>7</th>\n",
       "    </tr>\n",
       "  </thead>\n",
       "  <tbody>\n",
       "    <tr>\n",
       "      <th>uu_id</th>\n",
       "      <td>001cd9ae23064d7f0fd3cd327c873d8d</td>\n",
       "      <td>001cd9ae23064d7f0fd3cd327c873d8d</td>\n",
       "      <td>001cd9ae23064d7f0fd3cd327c873d8d</td>\n",
       "      <td>001cd9ae23064d7f0fd3cd327c873d8d</td>\n",
       "      <td>001cd9ae23064d7f0fd3cd327c873d8d</td>\n",
       "    </tr>\n",
       "    <tr>\n",
       "      <th>timeperiod</th>\n",
       "      <td>20220730</td>\n",
       "      <td>20220813</td>\n",
       "      <td>20220820</td>\n",
       "      <td>20220827</td>\n",
       "      <td>20220903</td>\n",
       "    </tr>\n",
       "    <tr>\n",
       "      <th>week_number</th>\n",
       "      <td>31</td>\n",
       "      <td>33</td>\n",
       "      <td>34</td>\n",
       "      <td>35</td>\n",
       "      <td>36</td>\n",
       "    </tr>\n",
       "    <tr>\n",
       "      <th>countyfips</th>\n",
       "      <td>18099</td>\n",
       "      <td>18099</td>\n",
       "      <td>18099</td>\n",
       "      <td>18099</td>\n",
       "      <td>18099</td>\n",
       "    </tr>\n",
       "    <tr>\n",
       "      <th>tract</th>\n",
       "      <td>20102</td>\n",
       "      <td>20102</td>\n",
       "      <td>20102</td>\n",
       "      <td>20102</td>\n",
       "      <td>20102</td>\n",
       "    </tr>\n",
       "    <tr>\n",
       "      <th>tract_name</th>\n",
       "      <td>Census Tract 201.02, Marshall County, Indiana</td>\n",
       "      <td>Census Tract 201.02, Marshall County, Indiana</td>\n",
       "      <td>Census Tract 201.02, Marshall County, Indiana</td>\n",
       "      <td>Census Tract 201.02, Marshall County, Indiana</td>\n",
       "      <td>Census Tract 201.02, Marshall County, Indiana</td>\n",
       "    </tr>\n",
       "    <tr>\n",
       "      <th>total_claims</th>\n",
       "      <td>34</td>\n",
       "      <td>10</td>\n",
       "      <td>25</td>\n",
       "      <td>10</td>\n",
       "      <td>10</td>\n",
       "    </tr>\n",
       "    <tr>\n",
       "      <th>edu_8th_or_less</th>\n",
       "      <td>0</td>\n",
       "      <td>0</td>\n",
       "      <td>0</td>\n",
       "      <td>0</td>\n",
       "      <td>0</td>\n",
       "    </tr>\n",
       "    <tr>\n",
       "      <th>edu_grades_9_11</th>\n",
       "      <td>0</td>\n",
       "      <td>0</td>\n",
       "      <td>0</td>\n",
       "      <td>0</td>\n",
       "      <td>0</td>\n",
       "    </tr>\n",
       "    <tr>\n",
       "      <th>edu_hs_grad_equiv</th>\n",
       "      <td>30</td>\n",
       "      <td>0</td>\n",
       "      <td>0</td>\n",
       "      <td>0</td>\n",
       "      <td>0</td>\n",
       "    </tr>\n",
       "    <tr>\n",
       "      <th>edu_post_hs</th>\n",
       "      <td>0</td>\n",
       "      <td>0</td>\n",
       "      <td>0</td>\n",
       "      <td>0</td>\n",
       "      <td>0</td>\n",
       "    </tr>\n",
       "    <tr>\n",
       "      <th>edu_unknown</th>\n",
       "      <td>0</td>\n",
       "      <td>0</td>\n",
       "      <td>0</td>\n",
       "      <td>0</td>\n",
       "      <td>0</td>\n",
       "    </tr>\n",
       "    <tr>\n",
       "      <th>top_category_employer1</th>\n",
       "      <td>31-33</td>\n",
       "      <td>31-33</td>\n",
       "      <td>62</td>\n",
       "      <td>31-33</td>\n",
       "      <td>31-33</td>\n",
       "    </tr>\n",
       "    <tr>\n",
       "      <th>top_category_employer2</th>\n",
       "      <td>23</td>\n",
       "      <td>23</td>\n",
       "      <td>31-33</td>\n",
       "      <td>61</td>\n",
       "      <td>23</td>\n",
       "    </tr>\n",
       "    <tr>\n",
       "      <th>top_category_employer3</th>\n",
       "      <td>81</td>\n",
       "      <td>81</td>\n",
       "      <td>23</td>\n",
       "      <td>23</td>\n",
       "      <td>81</td>\n",
       "    </tr>\n",
       "    <tr>\n",
       "      <th>gender_female</th>\n",
       "      <td>0</td>\n",
       "      <td>0</td>\n",
       "      <td>0</td>\n",
       "      <td>0</td>\n",
       "      <td>0</td>\n",
       "    </tr>\n",
       "    <tr>\n",
       "      <th>gender_male</th>\n",
       "      <td>0</td>\n",
       "      <td>0</td>\n",
       "      <td>22</td>\n",
       "      <td>0</td>\n",
       "      <td>0</td>\n",
       "    </tr>\n",
       "    <tr>\n",
       "      <th>gender_na</th>\n",
       "      <td>0</td>\n",
       "      <td>0</td>\n",
       "      <td>0</td>\n",
       "      <td>0</td>\n",
       "      <td>0</td>\n",
       "    </tr>\n",
       "    <tr>\n",
       "      <th>race_amerindian</th>\n",
       "      <td>0</td>\n",
       "      <td>0</td>\n",
       "      <td>0</td>\n",
       "      <td>0</td>\n",
       "      <td>0</td>\n",
       "    </tr>\n",
       "    <tr>\n",
       "      <th>race_asian</th>\n",
       "      <td>0</td>\n",
       "      <td>0</td>\n",
       "      <td>0</td>\n",
       "      <td>0</td>\n",
       "      <td>0</td>\n",
       "    </tr>\n",
       "    <tr>\n",
       "      <th>race_black</th>\n",
       "      <td>0</td>\n",
       "      <td>0</td>\n",
       "      <td>0</td>\n",
       "      <td>0</td>\n",
       "      <td>0</td>\n",
       "    </tr>\n",
       "    <tr>\n",
       "      <th>race_noanswer</th>\n",
       "      <td>0</td>\n",
       "      <td>0</td>\n",
       "      <td>0</td>\n",
       "      <td>0</td>\n",
       "      <td>0</td>\n",
       "    </tr>\n",
       "    <tr>\n",
       "      <th>race_hawaiiannative</th>\n",
       "      <td>0</td>\n",
       "      <td>0</td>\n",
       "      <td>0</td>\n",
       "      <td>0</td>\n",
       "      <td>0</td>\n",
       "    </tr>\n",
       "    <tr>\n",
       "      <th>race_other</th>\n",
       "      <td>0</td>\n",
       "      <td>0</td>\n",
       "      <td>0</td>\n",
       "      <td>0</td>\n",
       "      <td>0</td>\n",
       "    </tr>\n",
       "    <tr>\n",
       "      <th>race_white</th>\n",
       "      <td>34</td>\n",
       "      <td>10</td>\n",
       "      <td>0</td>\n",
       "      <td>0</td>\n",
       "      <td>0</td>\n",
       "    </tr>\n",
       "    <tr>\n",
       "      <th>average_wage</th>\n",
       "      <td>10484.333333</td>\n",
       "      <td>10484.333333</td>\n",
       "      <td>10484.333333</td>\n",
       "      <td>10484.333333</td>\n",
       "      <td>10484.333333</td>\n",
       "    </tr>\n",
       "  </tbody>\n",
       "</table>\n",
       "</div>"
      ],
      "text/plain": [
       "                                                                    0  \\\n",
       "uu_id                                001cd9ae23064d7f0fd3cd327c873d8d   \n",
       "timeperiod                                                   20220730   \n",
       "week_number                                                        31   \n",
       "countyfips                                                      18099   \n",
       "tract                                                           20102   \n",
       "tract_name              Census Tract 201.02, Marshall County, Indiana   \n",
       "total_claims                                                       34   \n",
       "edu_8th_or_less                                                     0   \n",
       "edu_grades_9_11                                                     0   \n",
       "edu_hs_grad_equiv                                                  30   \n",
       "edu_post_hs                                                         0   \n",
       "edu_unknown                                                         0   \n",
       "top_category_employer1                                          31-33   \n",
       "top_category_employer2                                             23   \n",
       "top_category_employer3                                             81   \n",
       "gender_female                                                       0   \n",
       "gender_male                                                         0   \n",
       "gender_na                                                           0   \n",
       "race_amerindian                                                     0   \n",
       "race_asian                                                          0   \n",
       "race_black                                                          0   \n",
       "race_noanswer                                                       0   \n",
       "race_hawaiiannative                                                 0   \n",
       "race_other                                                          0   \n",
       "race_white                                                         34   \n",
       "average_wage                                             10484.333333   \n",
       "\n",
       "                                                                    1  \\\n",
       "uu_id                                001cd9ae23064d7f0fd3cd327c873d8d   \n",
       "timeperiod                                                   20220813   \n",
       "week_number                                                        33   \n",
       "countyfips                                                      18099   \n",
       "tract                                                           20102   \n",
       "tract_name              Census Tract 201.02, Marshall County, Indiana   \n",
       "total_claims                                                       10   \n",
       "edu_8th_or_less                                                     0   \n",
       "edu_grades_9_11                                                     0   \n",
       "edu_hs_grad_equiv                                                   0   \n",
       "edu_post_hs                                                         0   \n",
       "edu_unknown                                                         0   \n",
       "top_category_employer1                                          31-33   \n",
       "top_category_employer2                                             23   \n",
       "top_category_employer3                                             81   \n",
       "gender_female                                                       0   \n",
       "gender_male                                                         0   \n",
       "gender_na                                                           0   \n",
       "race_amerindian                                                     0   \n",
       "race_asian                                                          0   \n",
       "race_black                                                          0   \n",
       "race_noanswer                                                       0   \n",
       "race_hawaiiannative                                                 0   \n",
       "race_other                                                          0   \n",
       "race_white                                                         10   \n",
       "average_wage                                             10484.333333   \n",
       "\n",
       "                                                                    3  \\\n",
       "uu_id                                001cd9ae23064d7f0fd3cd327c873d8d   \n",
       "timeperiod                                                   20220820   \n",
       "week_number                                                        34   \n",
       "countyfips                                                      18099   \n",
       "tract                                                           20102   \n",
       "tract_name              Census Tract 201.02, Marshall County, Indiana   \n",
       "total_claims                                                       25   \n",
       "edu_8th_or_less                                                     0   \n",
       "edu_grades_9_11                                                     0   \n",
       "edu_hs_grad_equiv                                                   0   \n",
       "edu_post_hs                                                         0   \n",
       "edu_unknown                                                         0   \n",
       "top_category_employer1                                             62   \n",
       "top_category_employer2                                          31-33   \n",
       "top_category_employer3                                             23   \n",
       "gender_female                                                       0   \n",
       "gender_male                                                        22   \n",
       "gender_na                                                           0   \n",
       "race_amerindian                                                     0   \n",
       "race_asian                                                          0   \n",
       "race_black                                                          0   \n",
       "race_noanswer                                                       0   \n",
       "race_hawaiiannative                                                 0   \n",
       "race_other                                                          0   \n",
       "race_white                                                          0   \n",
       "average_wage                                             10484.333333   \n",
       "\n",
       "                                                                    5  \\\n",
       "uu_id                                001cd9ae23064d7f0fd3cd327c873d8d   \n",
       "timeperiod                                                   20220827   \n",
       "week_number                                                        35   \n",
       "countyfips                                                      18099   \n",
       "tract                                                           20102   \n",
       "tract_name              Census Tract 201.02, Marshall County, Indiana   \n",
       "total_claims                                                       10   \n",
       "edu_8th_or_less                                                     0   \n",
       "edu_grades_9_11                                                     0   \n",
       "edu_hs_grad_equiv                                                   0   \n",
       "edu_post_hs                                                         0   \n",
       "edu_unknown                                                         0   \n",
       "top_category_employer1                                          31-33   \n",
       "top_category_employer2                                             61   \n",
       "top_category_employer3                                             23   \n",
       "gender_female                                                       0   \n",
       "gender_male                                                         0   \n",
       "gender_na                                                           0   \n",
       "race_amerindian                                                     0   \n",
       "race_asian                                                          0   \n",
       "race_black                                                          0   \n",
       "race_noanswer                                                       0   \n",
       "race_hawaiiannative                                                 0   \n",
       "race_other                                                          0   \n",
       "race_white                                                          0   \n",
       "average_wage                                             10484.333333   \n",
       "\n",
       "                                                                    7  \n",
       "uu_id                                001cd9ae23064d7f0fd3cd327c873d8d  \n",
       "timeperiod                                                   20220903  \n",
       "week_number                                                        36  \n",
       "countyfips                                                      18099  \n",
       "tract                                                           20102  \n",
       "tract_name              Census Tract 201.02, Marshall County, Indiana  \n",
       "total_claims                                                       10  \n",
       "edu_8th_or_less                                                     0  \n",
       "edu_grades_9_11                                                     0  \n",
       "edu_hs_grad_equiv                                                   0  \n",
       "edu_post_hs                                                         0  \n",
       "edu_unknown                                                         0  \n",
       "top_category_employer1                                          31-33  \n",
       "top_category_employer2                                             23  \n",
       "top_category_employer3                                             81  \n",
       "gender_female                                                       0  \n",
       "gender_male                                                         0  \n",
       "gender_na                                                           0  \n",
       "race_amerindian                                                     0  \n",
       "race_asian                                                          0  \n",
       "race_black                                                          0  \n",
       "race_noanswer                                                       0  \n",
       "race_hawaiiannative                                                 0  \n",
       "race_other                                                          0  \n",
       "race_white                                                          0  \n",
       "average_wage                                             10484.333333  "
      ]
     },
     "execution_count": 7,
     "metadata": {},
     "output_type": "execute_result"
    }
   ],
   "source": [
    "empdata.head().transpose()"
   ]
  },
  {
   "cell_type": "code",
   "execution_count": 8,
   "id": "097c8f9b",
   "metadata": {
    "execution": {
     "iopub.execute_input": "2023-05-10T00:36:04.222018Z",
     "iopub.status.busy": "2023-05-10T00:36:04.221879Z",
     "iopub.status.idle": "2023-05-10T00:36:04.787688Z",
     "shell.execute_reply": "2023-05-10T00:36:04.787352Z"
    }
   },
   "outputs": [
    {
     "data": {
      "image/png": "[encoded data removed]",
      "text/plain": [
       "<Figure size 2000x1500 with 2 Axes>"
      ]
     },
     "metadata": {},
     "output_type": "display_data"
    }
   ],
   "source": [
    "plt.figure(figsize=(20,15))\n",
    "cor = empdata.corr(numeric_only=True)\n",
    "sns.heatmap(cor, annot=True, cmap=plt.cm.Reds)\n",
    "plt.show()"
   ]
  },
  {
   "cell_type": "code",
   "execution_count": 9,
   "id": "073a9cf3",
   "metadata": {
    "execution": {
     "iopub.execute_input": "2023-05-10T00:36:04.791423Z",
     "iopub.status.busy": "2023-05-10T00:36:04.791280Z",
     "iopub.status.idle": "2023-05-10T00:36:04.797623Z",
     "shell.execute_reply": "2023-05-10T00:36:04.797308Z"
    }
   },
   "outputs": [
    {
     "data": {
      "text/html": [
       "<div>\n",
       "<style scoped>\n",
       "    .dataframe tbody tr th:only-of-type {\n",
       "        vertical-align: middle;\n",
       "    }\n",
       "\n",
       "    .dataframe tbody tr th {\n",
       "        vertical-align: top;\n",
       "    }\n",
       "\n",
       "    .dataframe thead th {\n",
       "        text-align: right;\n",
       "    }\n",
       "</style>\n",
       "<table border=\"1\" class=\"dataframe\">\n",
       "  <thead>\n",
       "    <tr style=\"text-align: right;\">\n",
       "      <th></th>\n",
       "      <th>uu_id</th>\n",
       "      <th>week_number</th>\n",
       "      <th>total_claims</th>\n",
       "    </tr>\n",
       "  </thead>\n",
       "  <tbody>\n",
       "    <tr>\n",
       "      <th>0</th>\n",
       "      <td>001cd9ae23064d7f0fd3cd327c873d8d</td>\n",
       "      <td>31</td>\n",
       "      <td>34</td>\n",
       "    </tr>\n",
       "    <tr>\n",
       "      <th>1</th>\n",
       "      <td>001cd9ae23064d7f0fd3cd327c873d8d</td>\n",
       "      <td>33</td>\n",
       "      <td>10</td>\n",
       "    </tr>\n",
       "    <tr>\n",
       "      <th>3</th>\n",
       "      <td>001cd9ae23064d7f0fd3cd327c873d8d</td>\n",
       "      <td>34</td>\n",
       "      <td>25</td>\n",
       "    </tr>\n",
       "    <tr>\n",
       "      <th>5</th>\n",
       "      <td>001cd9ae23064d7f0fd3cd327c873d8d</td>\n",
       "      <td>35</td>\n",
       "      <td>10</td>\n",
       "    </tr>\n",
       "    <tr>\n",
       "      <th>7</th>\n",
       "      <td>001cd9ae23064d7f0fd3cd327c873d8d</td>\n",
       "      <td>36</td>\n",
       "      <td>10</td>\n",
       "    </tr>\n",
       "    <tr>\n",
       "      <th>9</th>\n",
       "      <td>001cd9ae23064d7f0fd3cd327c873d8d</td>\n",
       "      <td>37</td>\n",
       "      <td>13</td>\n",
       "    </tr>\n",
       "    <tr>\n",
       "      <th>11</th>\n",
       "      <td>005be9532fd717dc36d4be318fd9ad25</td>\n",
       "      <td>1</td>\n",
       "      <td>20</td>\n",
       "    </tr>\n",
       "    <tr>\n",
       "      <th>12</th>\n",
       "      <td>005be9532fd717dc36d4be318fd9ad25</td>\n",
       "      <td>2</td>\n",
       "      <td>19</td>\n",
       "    </tr>\n",
       "    <tr>\n",
       "      <th>13</th>\n",
       "      <td>005be9532fd717dc36d4be318fd9ad25</td>\n",
       "      <td>3</td>\n",
       "      <td>19</td>\n",
       "    </tr>\n",
       "    <tr>\n",
       "      <th>14</th>\n",
       "      <td>005be9532fd717dc36d4be318fd9ad25</td>\n",
       "      <td>5</td>\n",
       "      <td>15</td>\n",
       "    </tr>\n",
       "  </tbody>\n",
       "</table>\n",
       "</div>"
      ],
      "text/plain": [
       "                               uu_id  week_number  total_claims\n",
       "0   001cd9ae23064d7f0fd3cd327c873d8d           31            34\n",
       "1   001cd9ae23064d7f0fd3cd327c873d8d           33            10\n",
       "3   001cd9ae23064d7f0fd3cd327c873d8d           34            25\n",
       "5   001cd9ae23064d7f0fd3cd327c873d8d           35            10\n",
       "7   001cd9ae23064d7f0fd3cd327c873d8d           36            10\n",
       "9   001cd9ae23064d7f0fd3cd327c873d8d           37            13\n",
       "11  005be9532fd717dc36d4be318fd9ad25            1            20\n",
       "12  005be9532fd717dc36d4be318fd9ad25            2            19\n",
       "13  005be9532fd717dc36d4be318fd9ad25            3            19\n",
       "14  005be9532fd717dc36d4be318fd9ad25            5            15"
      ]
     },
     "execution_count": 9,
     "metadata": {},
     "output_type": "execute_result"
    }
   ],
   "source": [
    "empdata = empdata[['uu_id', 'week_number', 'total_claims']]\n",
    "empdata.head(10)"
   ]
  },
  {
   "cell_type": "code",
   "execution_count": 10,
   "id": "f12fe0bb",
   "metadata": {
    "execution": {
     "iopub.execute_input": "2023-05-10T00:36:04.799409Z",
     "iopub.status.busy": "2023-05-10T00:36:04.799243Z",
     "iopub.status.idle": "2023-05-10T00:36:04.930597Z",
     "shell.execute_reply": "2023-05-10T00:36:04.929958Z"
    }
   },
   "outputs": [
    {
     "data": {
      "text/plain": [
       "<AxesSubplot: xlabel='week_number'>"
      ]
     },
     "execution_count": 10,
     "metadata": {},
     "output_type": "execute_result"
    },
    {
     "data": {
      "image/png": "[encoded data removed]",
      "text/plain": [
       "<Figure size 640x480 with 1 Axes>"
      ]
     },
     "metadata": {},
     "output_type": "display_data"
    }
   ],
   "source": [
    "empdata.loc[empdata['uu_id'] == \"005be9532fd717dc36d4be318fd9ad25\"].plot(x='week_number', y='total_claims')"
   ]
  },
  {
   "cell_type": "code",
   "execution_count": 11,
   "id": "bcf57924",
   "metadata": {
    "execution": {
     "iopub.execute_input": "2023-05-10T00:36:04.933517Z",
     "iopub.status.busy": "2023-05-10T00:36:04.933338Z",
     "iopub.status.idle": "2023-05-10T00:36:04.945661Z",
     "shell.execute_reply": "2023-05-10T00:36:04.944493Z"
    }
   },
   "outputs": [
    {
     "data": {
      "text/html": [
       "<div>\n",
       "<style scoped>\n",
       "    .dataframe tbody tr th:only-of-type {\n",
       "        vertical-align: middle;\n",
       "    }\n",
       "\n",
       "    .dataframe tbody tr th {\n",
       "        vertical-align: top;\n",
       "    }\n",
       "\n",
       "    .dataframe thead th {\n",
       "        text-align: right;\n",
       "    }\n",
       "</style>\n",
       "<table border=\"1\" class=\"dataframe\">\n",
       "  <thead>\n",
       "    <tr style=\"text-align: right;\">\n",
       "      <th></th>\n",
       "      <th>total_claims</th>\n",
       "    </tr>\n",
       "  </thead>\n",
       "  <tbody>\n",
       "    <tr>\n",
       "      <th>count</th>\n",
       "      <td>13977.0</td>\n",
       "    </tr>\n",
       "    <tr>\n",
       "      <th>mean</th>\n",
       "      <td>23.049796</td>\n",
       "    </tr>\n",
       "    <tr>\n",
       "      <th>std</th>\n",
       "      <td>14.68286</td>\n",
       "    </tr>\n",
       "    <tr>\n",
       "      <th>min</th>\n",
       "      <td>10.0</td>\n",
       "    </tr>\n",
       "    <tr>\n",
       "      <th>25%</th>\n",
       "      <td>14.0</td>\n",
       "    </tr>\n",
       "    <tr>\n",
       "      <th>50%</th>\n",
       "      <td>19.0</td>\n",
       "    </tr>\n",
       "    <tr>\n",
       "      <th>75%</th>\n",
       "      <td>27.0</td>\n",
       "    </tr>\n",
       "    <tr>\n",
       "      <th>max</th>\n",
       "      <td>170.0</td>\n",
       "    </tr>\n",
       "  </tbody>\n",
       "</table>\n",
       "</div>"
      ],
      "text/plain": [
       "       total_claims\n",
       "count       13977.0\n",
       "mean      23.049796\n",
       "std        14.68286\n",
       "min            10.0\n",
       "25%            14.0\n",
       "50%            19.0\n",
       "75%            27.0\n",
       "max           170.0"
      ]
     },
     "execution_count": 11,
     "metadata": {},
     "output_type": "execute_result"
    }
   ],
   "source": [
    "empdata[['total_claims']].describe()"
   ]
  },
  {
   "cell_type": "code",
   "execution_count": 12,
   "id": "fec6f293",
   "metadata": {
    "execution": {
     "iopub.execute_input": "2023-05-10T00:36:04.949927Z",
     "iopub.status.busy": "2023-05-10T00:36:04.949520Z",
     "iopub.status.idle": "2023-05-10T00:36:05.030481Z",
     "shell.execute_reply": "2023-05-10T00:36:05.029977Z"
    }
   },
   "outputs": [
    {
     "data": {
      "text/plain": [
       "[<matplotlib.lines.Line2D at 0x28d308ca0>]"
      ]
     },
     "execution_count": 12,
     "metadata": {},
     "output_type": "execute_result"
    },
    {
     "data": {
      "image/png": "[encoded data removed]",
      "text/plain": [
       "<Figure size 640x480 with 1 Axes>"
      ]
     },
     "metadata": {},
     "output_type": "display_data"
    }
   ],
   "source": [
    "plt.plot(np.sort(empdata['total_claims'].values))"
   ]
  },
  {
   "cell_type": "code",
   "execution_count": 13,
   "id": "f332627b",
   "metadata": {
    "execution": {
     "iopub.execute_input": "2023-05-10T00:36:05.032587Z",
     "iopub.status.busy": "2023-05-10T00:36:05.032304Z",
     "iopub.status.idle": "2023-05-10T00:36:05.159638Z",
     "shell.execute_reply": "2023-05-10T00:36:05.159329Z"
    }
   },
   "outputs": [
    {
     "data": {
      "text/plain": [
       "[<matplotlib.lines.Line2D at 0x28d3b4190>]"
      ]
     },
     "execution_count": 13,
     "metadata": {},
     "output_type": "execute_result"
    },
    {
     "data": {
      "image/png": "[encoded data removed]",
      "text/plain": [
       "<Figure size 640x480 with 1 Axes>"
      ]
     },
     "metadata": {},
     "output_type": "display_data"
    }
   ],
   "source": [
    "meancpw = []\n",
    "for i in np.sort(empdata['week_number'].unique()):\n",
    "    meancpw.append(empdata.loc[empdata['week_number'] == i][['total_claims']].mean())\n",
    "plt.plot(meancpw)"
   ]
  },
  {
   "cell_type": "code",
   "execution_count": 14,
   "id": "14dfec83",
   "metadata": {
    "execution": {
     "iopub.execute_input": "2023-05-10T00:36:05.161257Z",
     "iopub.status.busy": "2023-05-10T00:36:05.161128Z",
     "iopub.status.idle": "2023-05-10T00:36:05.513584Z",
     "shell.execute_reply": "2023-05-10T00:36:05.513284Z"
    }
   },
   "outputs": [
    {
     "data": {
      "text/plain": [
       "total_claims    AxesSubplot(0.125,0.11;0.775x0.77)\n",
       "dtype: object"
      ]
     },
     "execution_count": 14,
     "metadata": {},
     "output_type": "execute_result"
    },
    {
     "data": {
      "image/png": "[encoded data removed]",
      "text/plain": [
       "<Figure size 2500x1500 with 1 Axes>"
      ]
     },
     "metadata": {},
     "output_type": "display_data"
    }
   ],
   "source": [
    "empdata.plot.box('week_number', figsize=(25,15))"
   ]
  },
  {
   "cell_type": "code",
   "execution_count": 15,
   "id": "9809a39f",
   "metadata": {
    "execution": {
     "iopub.execute_input": "2023-05-10T00:36:05.515448Z",
     "iopub.status.busy": "2023-05-10T00:36:05.515323Z",
     "iopub.status.idle": "2023-05-10T00:36:05.520365Z",
     "shell.execute_reply": "2023-05-10T00:36:05.520103Z"
    }
   },
   "outputs": [
    {
     "data": {
      "text/html": [
       "<div>\n",
       "<style scoped>\n",
       "    .dataframe tbody tr th:only-of-type {\n",
       "        vertical-align: middle;\n",
       "    }\n",
       "\n",
       "    .dataframe tbody tr th {\n",
       "        vertical-align: top;\n",
       "    }\n",
       "\n",
       "    .dataframe thead th {\n",
       "        text-align: right;\n",
       "    }\n",
       "</style>\n",
       "<table border=\"1\" class=\"dataframe\">\n",
       "  <thead>\n",
       "    <tr style=\"text-align: right;\">\n",
       "      <th></th>\n",
       "      <th>uu_id</th>\n",
       "      <th>week_number</th>\n",
       "      <th>total_claims</th>\n",
       "    </tr>\n",
       "  </thead>\n",
       "  <tbody>\n",
       "    <tr>\n",
       "      <th>11</th>\n",
       "      <td>005be9532fd717dc36d4be318fd9ad25</td>\n",
       "      <td>1</td>\n",
       "      <td>20</td>\n",
       "    </tr>\n",
       "    <tr>\n",
       "      <th>12</th>\n",
       "      <td>005be9532fd717dc36d4be318fd9ad25</td>\n",
       "      <td>2</td>\n",
       "      <td>19</td>\n",
       "    </tr>\n",
       "    <tr>\n",
       "      <th>13</th>\n",
       "      <td>005be9532fd717dc36d4be318fd9ad25</td>\n",
       "      <td>3</td>\n",
       "      <td>19</td>\n",
       "    </tr>\n",
       "    <tr>\n",
       "      <th>14</th>\n",
       "      <td>005be9532fd717dc36d4be318fd9ad25</td>\n",
       "      <td>5</td>\n",
       "      <td>15</td>\n",
       "    </tr>\n",
       "    <tr>\n",
       "      <th>15</th>\n",
       "      <td>005be9532fd717dc36d4be318fd9ad25</td>\n",
       "      <td>6</td>\n",
       "      <td>10</td>\n",
       "    </tr>\n",
       "    <tr>\n",
       "      <th>16</th>\n",
       "      <td>005be9532fd717dc36d4be318fd9ad25</td>\n",
       "      <td>7</td>\n",
       "      <td>11</td>\n",
       "    </tr>\n",
       "    <tr>\n",
       "      <th>17</th>\n",
       "      <td>005be9532fd717dc36d4be318fd9ad25</td>\n",
       "      <td>8</td>\n",
       "      <td>19</td>\n",
       "    </tr>\n",
       "    <tr>\n",
       "      <th>18</th>\n",
       "      <td>005be9532fd717dc36d4be318fd9ad25</td>\n",
       "      <td>9</td>\n",
       "      <td>18</td>\n",
       "    </tr>\n",
       "    <tr>\n",
       "      <th>19</th>\n",
       "      <td>005be9532fd717dc36d4be318fd9ad25</td>\n",
       "      <td>10</td>\n",
       "      <td>12</td>\n",
       "    </tr>\n",
       "    <tr>\n",
       "      <th>20</th>\n",
       "      <td>005be9532fd717dc36d4be318fd9ad25</td>\n",
       "      <td>14</td>\n",
       "      <td>11</td>\n",
       "    </tr>\n",
       "    <tr>\n",
       "      <th>21</th>\n",
       "      <td>005be9532fd717dc36d4be318fd9ad25</td>\n",
       "      <td>16</td>\n",
       "      <td>11</td>\n",
       "    </tr>\n",
       "    <tr>\n",
       "      <th>22</th>\n",
       "      <td>005be9532fd717dc36d4be318fd9ad25</td>\n",
       "      <td>19</td>\n",
       "      <td>10</td>\n",
       "    </tr>\n",
       "    <tr>\n",
       "      <th>23</th>\n",
       "      <td>005be9532fd717dc36d4be318fd9ad25</td>\n",
       "      <td>20</td>\n",
       "      <td>27</td>\n",
       "    </tr>\n",
       "    <tr>\n",
       "      <th>24</th>\n",
       "      <td>005be9532fd717dc36d4be318fd9ad25</td>\n",
       "      <td>24</td>\n",
       "      <td>10</td>\n",
       "    </tr>\n",
       "    <tr>\n",
       "      <th>25</th>\n",
       "      <td>005be9532fd717dc36d4be318fd9ad25</td>\n",
       "      <td>25</td>\n",
       "      <td>24</td>\n",
       "    </tr>\n",
       "    <tr>\n",
       "      <th>26</th>\n",
       "      <td>005be9532fd717dc36d4be318fd9ad25</td>\n",
       "      <td>26</td>\n",
       "      <td>15</td>\n",
       "    </tr>\n",
       "    <tr>\n",
       "      <th>27</th>\n",
       "      <td>005be9532fd717dc36d4be318fd9ad25</td>\n",
       "      <td>27</td>\n",
       "      <td>36</td>\n",
       "    </tr>\n",
       "    <tr>\n",
       "      <th>28</th>\n",
       "      <td>005be9532fd717dc36d4be318fd9ad25</td>\n",
       "      <td>28</td>\n",
       "      <td>44</td>\n",
       "    </tr>\n",
       "    <tr>\n",
       "      <th>29</th>\n",
       "      <td>005be9532fd717dc36d4be318fd9ad25</td>\n",
       "      <td>29</td>\n",
       "      <td>42</td>\n",
       "    </tr>\n",
       "    <tr>\n",
       "      <th>30</th>\n",
       "      <td>005be9532fd717dc36d4be318fd9ad25</td>\n",
       "      <td>30</td>\n",
       "      <td>15</td>\n",
       "    </tr>\n",
       "    <tr>\n",
       "      <th>31</th>\n",
       "      <td>005be9532fd717dc36d4be318fd9ad25</td>\n",
       "      <td>31</td>\n",
       "      <td>22</td>\n",
       "    </tr>\n",
       "    <tr>\n",
       "      <th>32</th>\n",
       "      <td>005be9532fd717dc36d4be318fd9ad25</td>\n",
       "      <td>32</td>\n",
       "      <td>39</td>\n",
       "    </tr>\n",
       "    <tr>\n",
       "      <th>35</th>\n",
       "      <td>005be9532fd717dc36d4be318fd9ad25</td>\n",
       "      <td>33</td>\n",
       "      <td>75</td>\n",
       "    </tr>\n",
       "    <tr>\n",
       "      <th>37</th>\n",
       "      <td>005be9532fd717dc36d4be318fd9ad25</td>\n",
       "      <td>34</td>\n",
       "      <td>32</td>\n",
       "    </tr>\n",
       "    <tr>\n",
       "      <th>39</th>\n",
       "      <td>005be9532fd717dc36d4be318fd9ad25</td>\n",
       "      <td>35</td>\n",
       "      <td>26</td>\n",
       "    </tr>\n",
       "    <tr>\n",
       "      <th>41</th>\n",
       "      <td>005be9532fd717dc36d4be318fd9ad25</td>\n",
       "      <td>36</td>\n",
       "      <td>57</td>\n",
       "    </tr>\n",
       "    <tr>\n",
       "      <th>43</th>\n",
       "      <td>005be9532fd717dc36d4be318fd9ad25</td>\n",
       "      <td>37</td>\n",
       "      <td>105</td>\n",
       "    </tr>\n",
       "  </tbody>\n",
       "</table>\n",
       "</div>"
      ],
      "text/plain": [
       "                               uu_id  week_number  total_claims\n",
       "11  005be9532fd717dc36d4be318fd9ad25            1            20\n",
       "12  005be9532fd717dc36d4be318fd9ad25            2            19\n",
       "13  005be9532fd717dc36d4be318fd9ad25            3            19\n",
       "14  005be9532fd717dc36d4be318fd9ad25            5            15\n",
       "15  005be9532fd717dc36d4be318fd9ad25            6            10\n",
       "16  005be9532fd717dc36d4be318fd9ad25            7            11\n",
       "17  005be9532fd717dc36d4be318fd9ad25            8            19\n",
       "18  005be9532fd717dc36d4be318fd9ad25            9            18\n",
       "19  005be9532fd717dc36d4be318fd9ad25           10            12\n",
       "20  005be9532fd717dc36d4be318fd9ad25           14            11\n",
       "21  005be9532fd717dc36d4be318fd9ad25           16            11\n",
       "22  005be9532fd717dc36d4be318fd9ad25           19            10\n",
       "23  005be9532fd717dc36d4be318fd9ad25           20            27\n",
       "24  005be9532fd717dc36d4be318fd9ad25           24            10\n",
       "25  005be9532fd717dc36d4be318fd9ad25           25            24\n",
       "26  005be9532fd717dc36d4be318fd9ad25           26            15\n",
       "27  005be9532fd717dc36d4be318fd9ad25           27            36\n",
       "28  005be9532fd717dc36d4be318fd9ad25           28            44\n",
       "29  005be9532fd717dc36d4be318fd9ad25           29            42\n",
       "30  005be9532fd717dc36d4be318fd9ad25           30            15\n",
       "31  005be9532fd717dc36d4be318fd9ad25           31            22\n",
       "32  005be9532fd717dc36d4be318fd9ad25           32            39\n",
       "35  005be9532fd717dc36d4be318fd9ad25           33            75\n",
       "37  005be9532fd717dc36d4be318fd9ad25           34            32\n",
       "39  005be9532fd717dc36d4be318fd9ad25           35            26\n",
       "41  005be9532fd717dc36d4be318fd9ad25           36            57\n",
       "43  005be9532fd717dc36d4be318fd9ad25           37           105"
      ]
     },
     "execution_count": 15,
     "metadata": {},
     "output_type": "execute_result"
    }
   ],
   "source": [
    "empdata.loc[empdata['uu_id'] == \"005be9532fd717dc36d4be318fd9ad25\"]"
   ]
  },
  {
   "cell_type": "code",
   "execution_count": 16,
   "id": "d0287021",
   "metadata": {
    "execution": {
     "iopub.execute_input": "2023-05-10T00:36:05.521812Z",
     "iopub.status.busy": "2023-05-10T00:36:05.521724Z",
     "iopub.status.idle": "2023-05-10T00:36:05.528092Z",
     "shell.execute_reply": "2023-05-10T00:36:05.527827Z"
    }
   },
   "outputs": [
    {
     "data": {
      "text/html": [
       "<div>\n",
       "<style scoped>\n",
       "    .dataframe tbody tr th:only-of-type {\n",
       "        vertical-align: middle;\n",
       "    }\n",
       "\n",
       "    .dataframe tbody tr th {\n",
       "        vertical-align: top;\n",
       "    }\n",
       "\n",
       "    .dataframe thead th {\n",
       "        text-align: right;\n",
       "    }\n",
       "</style>\n",
       "<table border=\"1\" class=\"dataframe\">\n",
       "  <thead>\n",
       "    <tr style=\"text-align: right;\">\n",
       "      <th></th>\n",
       "      <th>week_number</th>\n",
       "      <th>total_claims</th>\n",
       "    </tr>\n",
       "  </thead>\n",
       "  <tbody>\n",
       "    <tr>\n",
       "      <th>0</th>\n",
       "      <td>1</td>\n",
       "      <td>20</td>\n",
       "    </tr>\n",
       "    <tr>\n",
       "      <th>1</th>\n",
       "      <td>2</td>\n",
       "      <td>19</td>\n",
       "    </tr>\n",
       "    <tr>\n",
       "      <th>2</th>\n",
       "      <td>3</td>\n",
       "      <td>19</td>\n",
       "    </tr>\n",
       "    <tr>\n",
       "      <th>3</th>\n",
       "      <td>4</td>\n",
       "      <td>19</td>\n",
       "    </tr>\n",
       "    <tr>\n",
       "      <th>4</th>\n",
       "      <td>5</td>\n",
       "      <td>15</td>\n",
       "    </tr>\n",
       "    <tr>\n",
       "      <th>5</th>\n",
       "      <td>6</td>\n",
       "      <td>10</td>\n",
       "    </tr>\n",
       "    <tr>\n",
       "      <th>6</th>\n",
       "      <td>7</td>\n",
       "      <td>11</td>\n",
       "    </tr>\n",
       "    <tr>\n",
       "      <th>7</th>\n",
       "      <td>8</td>\n",
       "      <td>19</td>\n",
       "    </tr>\n",
       "    <tr>\n",
       "      <th>8</th>\n",
       "      <td>9</td>\n",
       "      <td>18</td>\n",
       "    </tr>\n",
       "    <tr>\n",
       "      <th>9</th>\n",
       "      <td>10</td>\n",
       "      <td>12</td>\n",
       "    </tr>\n",
       "    <tr>\n",
       "      <th>10</th>\n",
       "      <td>11</td>\n",
       "      <td>19</td>\n",
       "    </tr>\n",
       "    <tr>\n",
       "      <th>11</th>\n",
       "      <td>12</td>\n",
       "      <td>19</td>\n",
       "    </tr>\n",
       "    <tr>\n",
       "      <th>12</th>\n",
       "      <td>13</td>\n",
       "      <td>19</td>\n",
       "    </tr>\n",
       "    <tr>\n",
       "      <th>13</th>\n",
       "      <td>14</td>\n",
       "      <td>11</td>\n",
       "    </tr>\n",
       "    <tr>\n",
       "      <th>14</th>\n",
       "      <td>15</td>\n",
       "      <td>19</td>\n",
       "    </tr>\n",
       "    <tr>\n",
       "      <th>15</th>\n",
       "      <td>16</td>\n",
       "      <td>11</td>\n",
       "    </tr>\n",
       "    <tr>\n",
       "      <th>16</th>\n",
       "      <td>17</td>\n",
       "      <td>19</td>\n",
       "    </tr>\n",
       "    <tr>\n",
       "      <th>17</th>\n",
       "      <td>18</td>\n",
       "      <td>19</td>\n",
       "    </tr>\n",
       "    <tr>\n",
       "      <th>18</th>\n",
       "      <td>19</td>\n",
       "      <td>10</td>\n",
       "    </tr>\n",
       "    <tr>\n",
       "      <th>19</th>\n",
       "      <td>20</td>\n",
       "      <td>27</td>\n",
       "    </tr>\n",
       "    <tr>\n",
       "      <th>20</th>\n",
       "      <td>21</td>\n",
       "      <td>19</td>\n",
       "    </tr>\n",
       "    <tr>\n",
       "      <th>21</th>\n",
       "      <td>22</td>\n",
       "      <td>19</td>\n",
       "    </tr>\n",
       "    <tr>\n",
       "      <th>22</th>\n",
       "      <td>23</td>\n",
       "      <td>19</td>\n",
       "    </tr>\n",
       "    <tr>\n",
       "      <th>23</th>\n",
       "      <td>24</td>\n",
       "      <td>10</td>\n",
       "    </tr>\n",
       "    <tr>\n",
       "      <th>24</th>\n",
       "      <td>25</td>\n",
       "      <td>24</td>\n",
       "    </tr>\n",
       "    <tr>\n",
       "      <th>25</th>\n",
       "      <td>26</td>\n",
       "      <td>15</td>\n",
       "    </tr>\n",
       "    <tr>\n",
       "      <th>26</th>\n",
       "      <td>27</td>\n",
       "      <td>36</td>\n",
       "    </tr>\n",
       "    <tr>\n",
       "      <th>27</th>\n",
       "      <td>28</td>\n",
       "      <td>44</td>\n",
       "    </tr>\n",
       "    <tr>\n",
       "      <th>28</th>\n",
       "      <td>29</td>\n",
       "      <td>42</td>\n",
       "    </tr>\n",
       "    <tr>\n",
       "      <th>29</th>\n",
       "      <td>30</td>\n",
       "      <td>15</td>\n",
       "    </tr>\n",
       "    <tr>\n",
       "      <th>30</th>\n",
       "      <td>31</td>\n",
       "      <td>22</td>\n",
       "    </tr>\n",
       "    <tr>\n",
       "      <th>31</th>\n",
       "      <td>32</td>\n",
       "      <td>39</td>\n",
       "    </tr>\n",
       "    <tr>\n",
       "      <th>32</th>\n",
       "      <td>33</td>\n",
       "      <td>75</td>\n",
       "    </tr>\n",
       "    <tr>\n",
       "      <th>33</th>\n",
       "      <td>34</td>\n",
       "      <td>32</td>\n",
       "    </tr>\n",
       "    <tr>\n",
       "      <th>34</th>\n",
       "      <td>35</td>\n",
       "      <td>26</td>\n",
       "    </tr>\n",
       "    <tr>\n",
       "      <th>35</th>\n",
       "      <td>36</td>\n",
       "      <td>57</td>\n",
       "    </tr>\n",
       "    <tr>\n",
       "      <th>36</th>\n",
       "      <td>37</td>\n",
       "      <td>105</td>\n",
       "    </tr>\n",
       "  </tbody>\n",
       "</table>\n",
       "</div>"
      ],
      "text/plain": [
       "    week_number  total_claims\n",
       "0             1            20\n",
       "1             2            19\n",
       "2             3            19\n",
       "3             4            19\n",
       "4             5            15\n",
       "5             6            10\n",
       "6             7            11\n",
       "7             8            19\n",
       "8             9            18\n",
       "9            10            12\n",
       "10           11            19\n",
       "11           12            19\n",
       "12           13            19\n",
       "13           14            11\n",
       "14           15            19\n",
       "15           16            11\n",
       "16           17            19\n",
       "17           18            19\n",
       "18           19            10\n",
       "19           20            27\n",
       "20           21            19\n",
       "21           22            19\n",
       "22           23            19\n",
       "23           24            10\n",
       "24           25            24\n",
       "25           26            15\n",
       "26           27            36\n",
       "27           28            44\n",
       "28           29            42\n",
       "29           30            15\n",
       "30           31            22\n",
       "31           32            39\n",
       "32           33            75\n",
       "33           34            32\n",
       "34           35            26\n",
       "35           36            57\n",
       "36           37           105"
      ]
     },
     "execution_count": 16,
     "metadata": {},
     "output_type": "execute_result"
    }
   ],
   "source": [
    "testuu_id = empdata.loc[empdata['uu_id'] == \"005be9532fd717dc36d4be318fd9ad25\"][['week_number', 'total_claims']]\n",
    "testuu_id = testuu_id.set_index('week_number')\n",
    "allweeks = pd.DataFrame({'week_number':range(1,37+1)}).join(testuu_id, on='week_number').fillna(int(testuu_id.median()))\n",
    "allweeks"
   ]
  },
  {
   "cell_type": "code",
   "execution_count": 17,
   "id": "7251587f",
   "metadata": {
    "execution": {
     "iopub.execute_input": "2023-05-10T00:36:05.529489Z",
     "iopub.status.busy": "2023-05-10T00:36:05.529402Z",
     "iopub.status.idle": "2023-05-10T00:36:05.873444Z",
     "shell.execute_reply": "2023-05-10T00:36:05.873147Z"
    }
   },
   "outputs": [
    {
     "data": {
      "text/plain": [
       "93.69128707806283"
      ]
     },
     "execution_count": 17,
     "metadata": {},
     "output_type": "execute_result"
    }
   ],
   "source": [
    "m = pm.auto_arima(allweeks['total_claims'].values, error_action='ignore')\n",
    "m.predict(n_periods=4)[3]"
   ]
  },
  {
   "cell_type": "code",
   "execution_count": 18,
   "id": "90b65521",
   "metadata": {
    "execution": {
     "iopub.execute_input": "2023-05-10T00:36:05.875002Z",
     "iopub.status.busy": "2023-05-10T00:36:05.874906Z",
     "iopub.status.idle": "2023-05-10T00:36:05.876579Z",
     "shell.execute_reply": "2023-05-10T00:36:05.876329Z"
    }
   },
   "outputs": [],
   "source": [
    "query = \"\"\"\n",
    "SELECT * FROM `ironhacks-data.ironhacks_competition.prediction_list` order by uu_id\n",
    "\"\"\""
   ]
  },
  {
   "cell_type": "code",
   "execution_count": 19,
   "id": "da8b6ffa",
   "metadata": {
    "execution": {
     "iopub.execute_input": "2023-05-10T00:36:05.878020Z",
     "iopub.status.busy": "2023-05-10T00:36:05.877930Z",
     "iopub.status.idle": "2023-05-10T00:36:07.656508Z",
     "shell.execute_reply": "2023-05-10T00:36:07.654673Z"
    }
   },
   "outputs": [],
   "source": [
    "# QUERY THE DATA ONCE\n",
    "query_job = bigquery_client.query(query)\n",
    "uupred = query_job.to_dataframe()"
   ]
  },
  {
   "cell_type": "code",
   "execution_count": 20,
   "id": "460adf44",
   "metadata": {
    "execution": {
     "iopub.execute_input": "2023-05-10T00:36:07.664835Z",
     "iopub.status.busy": "2023-05-10T00:36:07.664146Z",
     "iopub.status.idle": "2023-05-10T00:36:07.676491Z",
     "shell.execute_reply": "2023-05-10T00:36:07.675036Z"
    }
   },
   "outputs": [
    {
     "data": {
      "text/html": [
       "<div>\n",
       "<style scoped>\n",
       "    .dataframe tbody tr th:only-of-type {\n",
       "        vertical-align: middle;\n",
       "    }\n",
       "\n",
       "    .dataframe tbody tr th {\n",
       "        vertical-align: top;\n",
       "    }\n",
       "\n",
       "    .dataframe thead th {\n",
       "        text-align: right;\n",
       "    }\n",
       "</style>\n",
       "<table border=\"1\" class=\"dataframe\">\n",
       "  <thead>\n",
       "    <tr style=\"text-align: right;\">\n",
       "      <th></th>\n",
       "      <th>uu_id</th>\n",
       "      <th>week_number</th>\n",
       "    </tr>\n",
       "  </thead>\n",
       "  <tbody>\n",
       "    <tr>\n",
       "      <th>0</th>\n",
       "      <td>001cd9ae23064d7f0fd3cd327c873d8d</td>\n",
       "      <td>44</td>\n",
       "    </tr>\n",
       "    <tr>\n",
       "      <th>1</th>\n",
       "      <td>005be9532fd717dc36d4be318fd9ad25</td>\n",
       "      <td>44</td>\n",
       "    </tr>\n",
       "    <tr>\n",
       "      <th>2</th>\n",
       "      <td>007c1caccff1fbb3a0b8a10790f77141</td>\n",
       "      <td>44</td>\n",
       "    </tr>\n",
       "    <tr>\n",
       "      <th>3</th>\n",
       "      <td>009683350b175edfc6414d664e4ba873</td>\n",
       "      <td>44</td>\n",
       "    </tr>\n",
       "    <tr>\n",
       "      <th>4</th>\n",
       "      <td>00f962ce727b8dbbf20925abd5a253dd</td>\n",
       "      <td>44</td>\n",
       "    </tr>\n",
       "  </tbody>\n",
       "</table>\n",
       "</div>"
      ],
      "text/plain": [
       "                              uu_id  week_number\n",
       "0  001cd9ae23064d7f0fd3cd327c873d8d           44\n",
       "1  005be9532fd717dc36d4be318fd9ad25           44\n",
       "2  007c1caccff1fbb3a0b8a10790f77141           44\n",
       "3  009683350b175edfc6414d664e4ba873           44\n",
       "4  00f962ce727b8dbbf20925abd5a253dd           44"
      ]
     },
     "execution_count": 20,
     "metadata": {},
     "output_type": "execute_result"
    }
   ],
   "source": [
    "uupred.head()"
   ]
  },
  {
   "cell_type": "code",
   "execution_count": 21,
   "id": "ff86b083",
   "metadata": {
    "execution": {
     "iopub.execute_input": "2023-05-10T00:36:07.681285Z",
     "iopub.status.busy": "2023-05-10T00:36:07.680876Z",
     "iopub.status.idle": "2023-05-10T00:36:07.687002Z",
     "shell.execute_reply": "2023-05-10T00:36:07.686301Z"
    }
   },
   "outputs": [
    {
     "data": {
      "text/plain": [
       "37"
      ]
     },
     "execution_count": 21,
     "metadata": {},
     "output_type": "execute_result"
    }
   ],
   "source": [
    "last_week = int(empdata['week_number'].max())\n",
    "last_week"
   ]
  },
  {
   "cell_type": "code",
   "execution_count": 22,
   "id": "89f0175a",
   "metadata": {
    "execution": {
     "iopub.execute_input": "2023-05-10T00:36:07.690047Z",
     "iopub.status.busy": "2023-05-10T00:36:07.689794Z",
     "iopub.status.idle": "2023-05-10T00:36:07.693965Z",
     "shell.execute_reply": "2023-05-10T00:36:07.693459Z"
    }
   },
   "outputs": [
    {
     "data": {
      "text/plain": [
       "44"
      ]
     },
     "execution_count": 22,
     "metadata": {},
     "output_type": "execute_result"
    }
   ],
   "source": [
    "pred_week = int(uupred['week_number'].max())\n",
    "pred_week"
   ]
  },
  {
   "cell_type": "code",
   "execution_count": 23,
   "id": "85622e43",
   "metadata": {
    "execution": {
     "iopub.execute_input": "2023-05-10T00:36:07.696659Z",
     "iopub.status.busy": "2023-05-10T00:36:07.696485Z",
     "iopub.status.idle": "2023-05-10T00:36:07.702737Z",
     "shell.execute_reply": "2023-05-10T00:36:07.702313Z"
    }
   },
   "outputs": [
    {
     "data": {
      "text/html": [
       "<div>\n",
       "<style scoped>\n",
       "    .dataframe tbody tr th:only-of-type {\n",
       "        vertical-align: middle;\n",
       "    }\n",
       "\n",
       "    .dataframe tbody tr th {\n",
       "        vertical-align: top;\n",
       "    }\n",
       "\n",
       "    .dataframe thead th {\n",
       "        text-align: right;\n",
       "    }\n",
       "</style>\n",
       "<table border=\"1\" class=\"dataframe\">\n",
       "  <thead>\n",
       "    <tr style=\"text-align: right;\">\n",
       "      <th></th>\n",
       "      <th>uu_id</th>\n",
       "      <th>week_number</th>\n",
       "      <th>total_claims</th>\n",
       "    </tr>\n",
       "  </thead>\n",
       "  <tbody>\n",
       "    <tr>\n",
       "      <th>0</th>\n",
       "      <td>001cd9ae23064d7f0fd3cd327c873d8d</td>\n",
       "      <td>44</td>\n",
       "      <td>0</td>\n",
       "    </tr>\n",
       "    <tr>\n",
       "      <th>1</th>\n",
       "      <td>005be9532fd717dc36d4be318fd9ad25</td>\n",
       "      <td>44</td>\n",
       "      <td>0</td>\n",
       "    </tr>\n",
       "    <tr>\n",
       "      <th>2</th>\n",
       "      <td>007c1caccff1fbb3a0b8a10790f77141</td>\n",
       "      <td>44</td>\n",
       "      <td>0</td>\n",
       "    </tr>\n",
       "    <tr>\n",
       "      <th>3</th>\n",
       "      <td>009683350b175edfc6414d664e4ba873</td>\n",
       "      <td>44</td>\n",
       "      <td>0</td>\n",
       "    </tr>\n",
       "    <tr>\n",
       "      <th>4</th>\n",
       "      <td>00f962ce727b8dbbf20925abd5a253dd</td>\n",
       "      <td>44</td>\n",
       "      <td>0</td>\n",
       "    </tr>\n",
       "  </tbody>\n",
       "</table>\n",
       "</div>"
      ],
      "text/plain": [
       "                              uu_id  week_number  total_claims\n",
       "0  001cd9ae23064d7f0fd3cd327c873d8d           44             0\n",
       "1  005be9532fd717dc36d4be318fd9ad25           44             0\n",
       "2  007c1caccff1fbb3a0b8a10790f77141           44             0\n",
       "3  009683350b175edfc6414d664e4ba873           44             0\n",
       "4  00f962ce727b8dbbf20925abd5a253dd           44             0"
      ]
     },
     "execution_count": 23,
     "metadata": {},
     "output_type": "execute_result"
    }
   ],
   "source": [
    "uupred['total_claims'] = 0\n",
    "uupred.head()"
   ]
  },
  {
   "cell_type": "code",
   "execution_count": 24,
   "id": "192aefa8",
   "metadata": {
    "execution": {
     "iopub.execute_input": "2023-05-10T00:36:07.705038Z",
     "iopub.status.busy": "2023-05-10T00:36:07.704855Z",
     "iopub.status.idle": "2023-05-10T00:38:08.059520Z"
    }
   },
   "outputs": [
    {
     "name": "stdout",
     "output_type": "stream",
     "text": [
      "001cd9ae23064d7f0fd3cd327c873d8d 11\n"
     ]
    },
    {
     "name": "stdout",
     "output_type": "stream",
     "text": [
      "005be9532fd717dc36d4be318fd9ad25 45\n",
      "007c1caccff1fbb3a0b8a10790f77141 16\n"
     ]
    },
    {
     "name": "stdout",
     "output_type": "stream",
     "text": [
      "009683350b175edfc6414d664e4ba873 17\n",
      "00f962ce727b8dbbf20925abd5a253dd 39\n"
     ]
    },
    {
     "name": "stdout",
     "output_type": "stream",
     "text": [
      "02a7b845ab6b3fc2c09a50cdc486db2a 11\n"
     ]
    },
    {
     "name": "stdout",
     "output_type": "stream",
     "text": [
      "03ba3a9a63be1a5423457246f2846292 22\n"
     ]
    },
    {
     "name": "stdout",
     "output_type": "stream",
     "text": [
      "050a624d618a68e43fe31189909c644f 22\n"
     ]
    },
    {
     "name": "stdout",
     "output_type": "stream",
     "text": [
      "05298117cbe0fd69f04f89c83aaac091 16\n",
      "05f47cc80d60a67d61e891e2b90c2045 17\n"
     ]
    },
    {
     "name": "stdout",
     "output_type": "stream",
     "text": [
      "06c78e49b4daedfeb808c42e58fb25e4 17\n",
      "06e492b4f29d153af26c659d1f7da2a1 25\n"
     ]
    },
    {
     "name": "stdout",
     "output_type": "stream",
     "text": [
      "07306ce64b3496b7955efaaf7509d73c 13\n"
     ]
    },
    {
     "name": "stdout",
     "output_type": "stream",
     "text": [
      "074f501122885ab9aef5e9d07004209d 16\n",
      "09fbf26479f644ad33186ec51a90d65d 17\n"
     ]
    },
    {
     "name": "stdout",
     "output_type": "stream",
     "text": [
      "0abaea6bbc30d7cf8dbacc64727e7091 17\n"
     ]
    },
    {
     "name": "stdout",
     "output_type": "stream",
     "text": [
      "0ad94f09274e2c9cb0ef5cb77eb334b4 58\n",
      "0aed17ab54d56c6651d331418e8db6be 13\n"
     ]
    },
    {
     "name": "stdout",
     "output_type": "stream",
     "text": [
      "0bdc0df962a3c10541c2aa5220ded58b 17\n",
      "0d165590afad07ce71727d690f4aad80 20\n"
     ]
    },
    {
     "name": "stdout",
     "output_type": "stream",
     "text": [
      "0dc217a2798a141c59b99f5bcff29fa9 13\n"
     ]
    },
    {
     "name": "stdout",
     "output_type": "stream",
     "text": [
      "0e6523fb3fc17f6a2ac7050972bd4bfd 15\n",
      "0eadc4f22396980ecc2e7878ffbaf14a 16\n"
     ]
    },
    {
     "name": "stdout",
     "output_type": "stream",
     "text": [
      "0f3d45341a5b113b813ffb7be7f58bab 16\n",
      "10bd992d086c48a05cb0f1e3df1e20f1 21\n"
     ]
    },
    {
     "name": "stdout",
     "output_type": "stream",
     "text": [
      "10f34862aa77995d009553a1de67db4f 13\n"
     ]
    },
    {
     "name": "stdout",
     "output_type": "stream",
     "text": [
      "11a50500827cd49f0ae130201184724f 14\n"
     ]
    },
    {
     "name": "stdout",
     "output_type": "stream",
     "text": [
      "124fe6d04692c372ffc4f84fc99f480d 23\n",
      "12fbd01c7d92945acd93e0d44a8bed88 18\n"
     ]
    },
    {
     "name": "stdout",
     "output_type": "stream",
     "text": [
      "13b7d682e844ec03d93ed9b77e08e022 14\n",
      "1400fd6122c6fe7582a30ee1280beb4b 21\n"
     ]
    },
    {
     "name": "stdout",
     "output_type": "stream",
     "text": [
      "142aacf840a655687cc387024c43dada 20\n"
     ]
    },
    {
     "name": "stdout",
     "output_type": "stream",
     "text": [
      "147837d751cb44500754e9620204f8d6 27\n"
     ]
    },
    {
     "name": "stdout",
     "output_type": "stream",
     "text": [
      "14ceb8012cb1b912044297c8933cfcfc 25\n"
     ]
    },
    {
     "name": "stdout",
     "output_type": "stream",
     "text": [
      "15118b0768fba87d2ac7770249b5fb36 15\n"
     ]
    },
    {
     "name": "stdout",
     "output_type": "stream",
     "text": [
      "152a373901a20ade58dc56c1f6ef9b96 22\n"
     ]
    },
    {
     "name": "stdout",
     "output_type": "stream",
     "text": [
      "16b7c822c473ad7ae97c31f156448fd1 16\n"
     ]
    },
    {
     "name": "stdout",
     "output_type": "stream",
     "text": [
      "16b9d35c6d253c30527eb2de8d2d1bb9 16\n"
     ]
    },
    {
     "name": "stdout",
     "output_type": "stream",
     "text": [
      "179a3fb4630992ff1f9112970d61f00f 15\n"
     ]
    },
    {
     "name": "stdout",
     "output_type": "stream",
     "text": [
      "17eb58bb239f3bad95a6cac384c3db8f 19\n",
      "17f8641c080bd91fd39d6767f211beb1 19\n"
     ]
    },
    {
     "name": "stdout",
     "output_type": "stream",
     "text": [
      "184e8a1febbf737c9865b40ac43d92ee 14\n"
     ]
    },
    {
     "name": "stdout",
     "output_type": "stream",
     "text": [
      "18792af8852f8d0c77371eb582a87ef9 29\n",
      "1901b891f05515a8c22c05ef58baba38 18\n"
     ]
    },
    {
     "name": "stdout",
     "output_type": "stream",
     "text": [
      "196c37e49c98e0b8cdd142c001431a7a 18\n",
      "1988578e35b2d1211f45cee910250ca6 30\n"
     ]
    },
    {
     "name": "stdout",
     "output_type": "stream",
     "text": [
      "19c0ba2728a6971ff9c1301f3bf17f59 13\n"
     ]
    },
    {
     "name": "stdout",
     "output_type": "stream",
     "text": [
      "1a37add233259107b266614f22bffd9b 13\n",
      "1b7425c1ee8dc2465ef939286316744c 26\n"
     ]
    },
    {
     "name": "stdout",
     "output_type": "stream",
     "text": [
      "1ba8e8f6caf333a10ab33d1add51b960 14\n",
      "1baabe619d226c9e7f1ef756fb41432b 10\n"
     ]
    },
    {
     "name": "stdout",
     "output_type": "stream",
     "text": [
      "1bd2241076381b8c9e85d660512a013e 15\n"
     ]
    },
    {
     "name": "stdout",
     "output_type": "stream",
     "text": [
      "1deebda501712e7595b531b8337bc31a 22\n"
     ]
    },
    {
     "name": "stdout",
     "output_type": "stream",
     "text": [
      "1e86730cef0c1021f0048c175fc96184 23\n",
      "1ec881fbb0021331b2b29c95049284fb 38\n"
     ]
    },
    {
     "name": "stdout",
     "output_type": "stream",
     "text": [
      "1f24014b092a7ba6a1faaac5edaac47b 17\n"
     ]
    },
    {
     "name": "stdout",
     "output_type": "stream",
     "text": [
      "1f53903c302f96fd0e8a36d02364bbca 21\n",
      "1f74f4cecfe9b89fd0350fc0995e8362 12\n"
     ]
    },
    {
     "name": "stdout",
     "output_type": "stream",
     "text": [
      "1fc50fb37c0734d85581fe5e605fe7c5 23\n"
     ]
    },
    {
     "name": "stdout",
     "output_type": "stream",
     "text": [
      "1fe978b588e12780393047c4294e4c8a 13\n"
     ]
    },
    {
     "name": "stdout",
     "output_type": "stream",
     "text": [
      "2094eb904cf826728093f0e2713d2e30 15\n",
      "20db450280ec6846d7a829a6ba40ccac 22\n"
     ]
    },
    {
     "name": "stdout",
     "output_type": "stream",
     "text": [
      "20f6fd3e9f0d1f997481861655cad7e4 23\n"
     ]
    },
    {
     "name": "stdout",
     "output_type": "stream",
     "text": [
      "21957d5517323845818d87623589e1ba 30\n",
      "221c00f760916b30c2df9eff2bc6dc25 13\n"
     ]
    },
    {
     "name": "stdout",
     "output_type": "stream",
     "text": [
      "241f741bee0eb0ce595304d106811776 16\n"
     ]
    },
    {
     "name": "stdout",
     "output_type": "stream",
     "text": [
      "2420ca4ef50459c0bcc8fdeb8ee35a68 23\n"
     ]
    },
    {
     "name": "stdout",
     "output_type": "stream",
     "text": [
      "2456c31231ec5a6931f78f305668d39a 17\n"
     ]
    },
    {
     "name": "stdout",
     "output_type": "stream",
     "text": [
      "248b6a72aba270fd9794b41f53813d5e 12\n"
     ]
    },
    {
     "name": "stdout",
     "output_type": "stream",
     "text": [
      "24c8b349877e075f8d1b3b4e73dd4a53 17\n"
     ]
    },
    {
     "name": "stdout",
     "output_type": "stream",
     "text": [
      "24f871b664684c15caad90bc237ff40d 14\n",
      "258c76c5552e3c876c3e24e9658c0205 25\n"
     ]
    },
    {
     "name": "stdout",
     "output_type": "stream",
     "text": [
      "25a57fe39e03c632125308737a7d3769 23\n",
      "25f9cfb8488ebf12f28e2bf44754984d 24\n"
     ]
    },
    {
     "name": "stdout",
     "output_type": "stream",
     "text": [
      "2686710e45843273cb902096aee8d8ab 22\n"
     ]
    },
    {
     "name": "stdout",
     "output_type": "stream",
     "text": [
      "26c71b31d464bc7bedc8aed7e5c6e641 24\n"
     ]
    },
    {
     "name": "stdout",
     "output_type": "stream",
     "text": [
      "2788f24947b2fc8fcc0ded4a4403d9ff 13\n",
      "27a707c98b1a2316dd00df2309a628c4 29\n"
     ]
    },
    {
     "name": "stdout",
     "output_type": "stream",
     "text": [
      "2835004b63bf80d6929a55a6d14842e1 22\n"
     ]
    },
    {
     "name": "stdout",
     "output_type": "stream",
     "text": [
      "2a0f380e277560b810399f7c6a01e76e 27\n"
     ]
    },
    {
     "name": "stdout",
     "output_type": "stream",
     "text": [
      "2a62116efd5f9a6da7b4ce2803eba96d 18\n",
      "2a7f196a773a4dce36a9f57828d1104f 35\n"
     ]
    },
    {
     "name": "stdout",
     "output_type": "stream",
     "text": [
      "2abe33dadcdb70181a2f693df31247a7 57\n"
     ]
    },
    {
     "name": "stdout",
     "output_type": "stream",
     "text": [
      "2af35a38ee1416c5532a5e35425ecbb8 17\n"
     ]
    },
    {
     "name": "stdout",
     "output_type": "stream",
     "text": [
      "2b4f94600254e0f271c110161e841358 27\n",
      "2b6b2f2e6d3340e7d9ae46cd41eaef1b 12\n"
     ]
    },
    {
     "name": "stdout",
     "output_type": "stream",
     "text": [
      "2ce8c1fbabbed69343d1af45e99c4839 15\n"
     ]
    },
    {
     "name": "stdout",
     "output_type": "stream",
     "text": [
      "2d19305e3ee06c83f1247ddda5c70d57 20\n",
      "2db2c67aed99c51c9d00d01f14030608 20\n"
     ]
    },
    {
     "name": "stdout",
     "output_type": "stream",
     "text": [
      "2ddb832dc6e28aba32224f559c5f0b63 15\n"
     ]
    },
    {
     "name": "stdout",
     "output_type": "stream",
     "text": [
      "2dedb86602589ad3cf8a09380ce032d1 22\n"
     ]
    },
    {
     "name": "stdout",
     "output_type": "stream",
     "text": [
      "2e6f7ee3f6f1ea9096625cbcb38e54cd 14\n",
      "3098ba7b30da9acf99e1d491a22e01e5 21\n"
     ]
    },
    {
     "name": "stdout",
     "output_type": "stream",
     "text": [
      "318f8580dab148310f87b072fd9f6c9f 19\n"
     ]
    },
    {
     "name": "stdout",
     "output_type": "stream",
     "text": [
      "3193b3205553224c47be06622d7b044d 19\n"
     ]
    },
    {
     "name": "stdout",
     "output_type": "stream",
     "text": [
      "3224483a60925de51923d51b10a00141 14\n",
      "32686c399e21429791a419c0146217c9 22\n"
     ]
    },
    {
     "name": "stdout",
     "output_type": "stream",
     "text": [
      "32ce6ba7f7da17932e0e3c53f69f366b 15\n"
     ]
    },
    {
     "name": "stdout",
     "output_type": "stream",
     "text": [
      "33c4302fb88e93ea520a346fe2853209 48\n"
     ]
    },
    {
     "name": "stdout",
     "output_type": "stream",
     "text": [
      "33eee76748953453ca6ea4ba51515157 16\n"
     ]
    },
    {
     "name": "stdout",
     "output_type": "stream",
     "text": [
      "33f8f477e670b3cac704f4c0faa6e318 15\n"
     ]
    },
    {
     "name": "stdout",
     "output_type": "stream",
     "text": [
      "348c852abba65f89cd8af9395d6069d8 19\n"
     ]
    },
    {
     "name": "stdout",
     "output_type": "stream",
     "text": [
      "34ace0fda1bd8217d5cd6928f682a2c7 14\n"
     ]
    },
    {
     "name": "stdout",
     "output_type": "stream",
     "text": [
      "34e6adeedc3b344eb183a0b5e8b4b774 41\n"
     ]
    },
    {
     "name": "stdout",
     "output_type": "stream",
     "text": [
      "358cb073759d71d8abe8d6eaf7a3ead5 47\n"
     ]
    },
    {
     "name": "stdout",
     "output_type": "stream",
     "text": [
      "35ada71743cfb77aca10c389e36caa28 18\n"
     ]
    },
    {
     "name": "stdout",
     "output_type": "stream",
     "text": [
      "3611ab4b321d4532f1f18b13d1fd3b93 16\n",
      "36c489a05d6a987ff961fdc67ccadbc1 16\n"
     ]
    },
    {
     "name": "stdout",
     "output_type": "stream",
     "text": [
      "370a5fb730297d91eb3443d50582515e 22\n"
     ]
    },
    {
     "name": "stdout",
     "output_type": "stream",
     "text": [
      "37495d17e82f7df326bfc2c4c090f7b7 29\n",
      "38e264ca88c300dc19938de0abc88ec4 13\n"
     ]
    },
    {
     "name": "stdout",
     "output_type": "stream",
     "text": [
      "3934b01a1e31d0a6af96867e1afbf03c 45\n"
     ]
    },
    {
     "name": "stdout",
     "output_type": "stream",
     "text": [
      "395702b93c95499f70d36073ba97df97 17\n"
     ]
    },
    {
     "name": "stdout",
     "output_type": "stream",
     "text": [
      "39a100d6d185266c9a61f621e3461ca9 17\n"
     ]
    },
    {
     "name": "stdout",
     "output_type": "stream",
     "text": [
      "3a40f9f36533037a0dc9f426b87bf8d5 27\n",
      "3a6f00be69a3da3b1cacfd1019865c0c 24\n"
     ]
    },
    {
     "name": "stdout",
     "output_type": "stream",
     "text": [
      "3aa0a81e436042726e3913394182a6eb 16\n"
     ]
    },
    {
     "name": "stdout",
     "output_type": "stream",
     "text": [
      "3ac19461ea7efd6c892f9aba99ca55cd 19\n"
     ]
    },
    {
     "name": "stdout",
     "output_type": "stream",
     "text": [
      "3b64b154b842527478b03e19c11e300b 15\n",
      "3c887b182d660a9a6b874c5f9b4f3f61 39\n"
     ]
    },
    {
     "name": "stdout",
     "output_type": "stream",
     "text": [
      "3d5c4d633d7c5171d91cc9a073eceb3a 21\n",
      "3eaeeb015822cc1c6b77c914fae0d087 20\n"
     ]
    },
    {
     "name": "stdout",
     "output_type": "stream",
     "text": [
      "3ebec5c7e13f05f1772dae73f3a1f5e0 22\n"
     ]
    },
    {
     "name": "stdout",
     "output_type": "stream",
     "text": [
      "3f20a7038f07e774663e01dea8a04cd0 19\n"
     ]
    },
    {
     "name": "stdout",
     "output_type": "stream",
     "text": [
      "3fafd824892198e078c4dfcd6a26d7cf 27\n"
     ]
    },
    {
     "name": "stdout",
     "output_type": "stream",
     "text": [
      "4084f9199d73deb5cf6dd200a5db1c80 25\n"
     ]
    },
    {
     "name": "stdout",
     "output_type": "stream",
     "text": [
      "420b44cc7e3f55d738df565421e59941 13\n",
      "4258714000b9209afeb28e3032d8873d 22\n"
     ]
    },
    {
     "name": "stdout",
     "output_type": "stream",
     "text": [
      "42606376eba36d3065753ab0013f4c14 19\n",
      "42dec75b5a3b02de7908789cc6649e6d 30\n"
     ]
    },
    {
     "name": "stdout",
     "output_type": "stream",
     "text": [
      "4338a76c28b57d89da8a28cf06adcf73 11\n",
      "4368ac6502dd50bc209781d0d0f660f4 16\n"
     ]
    },
    {
     "name": "stdout",
     "output_type": "stream",
     "text": [
      "437523120b5bcbb4f6f5502c8216f2d0 11\n"
     ]
    },
    {
     "name": "stdout",
     "output_type": "stream",
     "text": [
      "441519fbb02b948549a2593f0c6a8211 28\n"
     ]
    },
    {
     "name": "stdout",
     "output_type": "stream",
     "text": [
      "442a1b8f964352b0845991efdfe0a83a 14\n"
     ]
    },
    {
     "name": "stdout",
     "output_type": "stream",
     "text": [
      "44585653fcc97ff048845c7718889631 15\n"
     ]
    },
    {
     "name": "stdout",
     "output_type": "stream",
     "text": [
      "445ccda085809824099ff41f0ed427e5 28\n"
     ]
    },
    {
     "name": "stdout",
     "output_type": "stream",
     "text": [
      "44610534f2a03a72609764f95834c7f8 15\n"
     ]
    },
    {
     "name": "stdout",
     "output_type": "stream",
     "text": [
      "447d5984bb8a8179bff002ccd1bba162 18\n"
     ]
    },
    {
     "name": "stdout",
     "output_type": "stream",
     "text": [
      "451262a076827ead70bf9e87ef6d4840 26\n"
     ]
    },
    {
     "name": "stdout",
     "output_type": "stream",
     "text": [
      "45c8cf419dd4c4b442dbf3603ba94379 20\n"
     ]
    },
    {
     "name": "stdout",
     "output_type": "stream",
     "text": [
      "461637d0edf7d72b7ca711e7b019553e 25\n"
     ]
    },
    {
     "name": "stdout",
     "output_type": "stream",
     "text": [
      "461f4a6d476cf7257e9b4ab8b9371885 16\n",
      "46b2882ec4c373527ec33f7bd4f1388d 46\n"
     ]
    },
    {
     "name": "stdout",
     "output_type": "stream",
     "text": [
      "46c4f6c75e663b1ca82ea7994e6d83d3 30\n"
     ]
    },
    {
     "name": "stdout",
     "output_type": "stream",
     "text": [
      "46c92d587470f0bc73b7474ac0fd41ca 20\n"
     ]
    },
    {
     "name": "stdout",
     "output_type": "stream",
     "text": [
      "46e96d9a3529a65f56d9e6a8dd33fc87 17\n"
     ]
    },
    {
     "name": "stdout",
     "output_type": "stream",
     "text": [
      "471301a66d4c4feb1f474cf934be8999 15\n"
     ]
    },
    {
     "name": "stdout",
     "output_type": "stream",
     "text": [
      "4765514a954c2fc3eb7c1993662e60e9 15\n"
     ]
    },
    {
     "name": "stdout",
     "output_type": "stream",
     "text": [
      "47ef7e3c1efab409502a8e4c675654f6 12\n"
     ]
    },
    {
     "name": "stdout",
     "output_type": "stream",
     "text": [
      "47f0290645712229fd4f8f1fe7dc6b05 15\n",
      "481b365a771dc6d05bcfa5e38cf33731 21\n"
     ]
    },
    {
     "name": "stdout",
     "output_type": "stream",
     "text": [
      "4869240f378dd59f04a0a083c0fe6c03 31\n"
     ]
    },
    {
     "name": "stdout",
     "output_type": "stream",
     "text": [
      "48752f9ac7c72819e56bcccceefee7a6 22\n"
     ]
    },
    {
     "name": "stdout",
     "output_type": "stream",
     "text": [
      "489a93264d03adecc4589fd9cd34ad36 13\n",
      "48ac5846d8d781fd5b7c6a863a572359 46\n"
     ]
    },
    {
     "name": "stdout",
     "output_type": "stream",
     "text": [
      "48d1b41c0e356998f9f60ea534f1326f 123\n",
      "4988189262a81dbef85220422f5277fd 21\n"
     ]
    },
    {
     "name": "stdout",
     "output_type": "stream",
     "text": [
      "4a22571b2563761671604973ba849ef5 27\n"
     ]
    },
    {
     "name": "stdout",
     "output_type": "stream",
     "text": [
      "4a6ae3b5be1b9b7c10c177e1b9fded82 14\n"
     ]
    },
    {
     "name": "stdout",
     "output_type": "stream",
     "text": [
      "4b64982fb643e7eee44ce1ef8929cb44 14\n"
     ]
    },
    {
     "name": "stdout",
     "output_type": "stream",
     "text": [
      "4c612ffd5f49d054536c369580b91474 31\n"
     ]
    },
    {
     "name": "stdout",
     "output_type": "stream",
     "text": [
      "4ca0a1c6a388982e4526ff6843825010 45\n"
     ]
    },
    {
     "name": "stdout",
     "output_type": "stream",
     "text": [
      "4cf5a6ca5bc512af4d9c656eaeb4d279 28\n"
     ]
    },
    {
     "name": "stdout",
     "output_type": "stream",
     "text": [
      "4da27496ea51392169807ce30edde6bf 20\n"
     ]
    },
    {
     "name": "stdout",
     "output_type": "stream",
     "text": [
      "4e47a34030916597b6293593de5016a2 27\n"
     ]
    },
    {
     "name": "stdout",
     "output_type": "stream",
     "text": [
      "4ed4b67acaf7b9c4d039e01d9d8c4b6a 14\n"
     ]
    },
    {
     "name": "stdout",
     "output_type": "stream",
     "text": [
      "4f38233021d41195c29f0a206e75a77e 14\n"
     ]
    },
    {
     "name": "stdout",
     "output_type": "stream",
     "text": [
      "4fcf06b3645f8cb516215da638ce5f7f 18\n"
     ]
    },
    {
     "name": "stdout",
     "output_type": "stream",
     "text": [
      "50088293eaca82f8c05e74c7aa38733f 19\n"
     ]
    },
    {
     "name": "stdout",
     "output_type": "stream",
     "text": [
      "50247c509e6c47b550a516f66e35c1d1 20\n"
     ]
    },
    {
     "name": "stdout",
     "output_type": "stream",
     "text": [
      "5091d0be49e94dc89756d9b0dd743214 35\n",
      "516a760c644c21ff41a8cd20b6fb73bf 35\n"
     ]
    },
    {
     "name": "stdout",
     "output_type": "stream",
     "text": [
      "51a955afdcc0c4de1b57a881226925c0 20\n"
     ]
    },
    {
     "name": "stdout",
     "output_type": "stream",
     "text": [
      "51af2e559924bc5ac87f549c8779ba37 18\n"
     ]
    },
    {
     "name": "stdout",
     "output_type": "stream",
     "text": [
      "52341b7215e0fb673d35b8a9638eeecf 35\n"
     ]
    },
    {
     "name": "stdout",
     "output_type": "stream",
     "text": [
      "52f393e27a5d94231575ab9bfa341bcf 31\n"
     ]
    },
    {
     "name": "stdout",
     "output_type": "stream",
     "text": [
      "53405bf66812a9f2623a307de572c11e 72\n",
      "5530c743ed9acfbd5d9ce30aa9b5a394 9\n"
     ]
    },
    {
     "name": "stdout",
     "output_type": "stream",
     "text": [
      "55b3a08bb5ac8ee0f151cd2f7440f246 22\n"
     ]
    },
    {
     "name": "stdout",
     "output_type": "stream",
     "text": [
      "56851c8621607ae081c4e5bfc667057d 22\n"
     ]
    },
    {
     "name": "stdout",
     "output_type": "stream",
     "text": [
      "56d73815bdda97aca8e26051183ed3ba 20\n"
     ]
    },
    {
     "name": "stdout",
     "output_type": "stream",
     "text": [
      "5744a323eb20d22fbe14f2913989cb86 17\n"
     ]
    },
    {
     "name": "stdout",
     "output_type": "stream",
     "text": [
      "574ff76bf046909190b36c41ec5ad4ad 17\n"
     ]
    },
    {
     "name": "stdout",
     "output_type": "stream",
     "text": [
      "58313733000358ab97030c3688616a8b 24\n"
     ]
    },
    {
     "name": "stdout",
     "output_type": "stream",
     "text": [
      "5846c7b267dc6e4b00863277e3582f80 16\n"
     ]
    },
    {
     "name": "stdout",
     "output_type": "stream",
     "text": [
      "585f8731c2255d6b3f817a31180848b9 19\n"
     ]
    },
    {
     "name": "stdout",
     "output_type": "stream",
     "text": [
      "58c85b68415bc08c49b2a430cee9f2f9 28\n"
     ]
    },
    {
     "name": "stdout",
     "output_type": "stream",
     "text": [
      "592a852d462dffe18312976a3da5b7d8 15\n"
     ]
    },
    {
     "name": "stdout",
     "output_type": "stream",
     "text": [
      "592f2bae77a77f0721533ce7f3926d64 20\n"
     ]
    },
    {
     "name": "stdout",
     "output_type": "stream",
     "text": [
      "5977eb9301db6dd318dcf44eee64439c 12\n",
      "5a2c726a9af1492d08478394a7938cc8 14\n"
     ]
    },
    {
     "name": "stdout",
     "output_type": "stream",
     "text": [
      "5a9758f65f001b6432ff31ff64a459d7 16\n"
     ]
    },
    {
     "name": "stdout",
     "output_type": "stream",
     "text": [
      "5aef70478b1bb50e1207bb1864a03ab0 19\n"
     ]
    },
    {
     "name": "stdout",
     "output_type": "stream",
     "text": [
      "5b266c11201654ddb90d1a80cf294645 15\n"
     ]
    },
    {
     "name": "stdout",
     "output_type": "stream",
     "text": [
      "5b5f642bf566e944c9bdac9840bf1e81 15\n"
     ]
    },
    {
     "name": "stdout",
     "output_type": "stream",
     "text": [
      "5b8dd5be2b1e709f1cde61ab9438a8cb 16\n",
      "5ba7caaa7b10591d00eec45bf939284c 16\n"
     ]
    },
    {
     "name": "stdout",
     "output_type": "stream",
     "text": [
      "5bf51fc2e162d6faf9e3cf79e4198378 15\n",
      "5c034ab90d217bb1b993b22daaf1c27e 14\n"
     ]
    },
    {
     "name": "stdout",
     "output_type": "stream",
     "text": [
      "5c04f20bd2f8552aa7ac210dc01292fb 30\n",
      "5c16723691805b4b6a90bce32128b6c9 27\n"
     ]
    },
    {
     "name": "stdout",
     "output_type": "stream",
     "text": [
      "5c43cbf8f0d860e91a9160706ea9b7d8 17\n"
     ]
    },
    {
     "name": "stdout",
     "output_type": "stream",
     "text": [
      "5c79d376ac31aa05924b3adaf6460644 18\n",
      "5db93f554d0a9df617e6e51043049dc4 20\n"
     ]
    },
    {
     "name": "stdout",
     "output_type": "stream",
     "text": [
      "5e819ecea31bac6db64c0ccf48818fa8 34\n",
      "5e9480dba0f8de932f4d9fb55fa6b8b1 34\n"
     ]
    },
    {
     "name": "stdout",
     "output_type": "stream",
     "text": [
      "5f7f03a3797bb112aaadac83bc654303 17\n",
      "5f9844eb68630b75decbafdfa4974943 32\n"
     ]
    },
    {
     "name": "stdout",
     "output_type": "stream",
     "text": [
      "5fe0dbe328785bc4e6bfe3b5609cf17d 19\n"
     ]
    },
    {
     "name": "stdout",
     "output_type": "stream",
     "text": [
      "601ff2c0fd709298f6644ad0e766b2d6 17\n"
     ]
    },
    {
     "name": "stdout",
     "output_type": "stream",
     "text": [
      "60946318ef5818fdfd1e931128ef391a 15\n"
     ]
    },
    {
     "name": "stdout",
     "output_type": "stream",
     "text": [
      "6167d550c0cdd68c799d372c5df97acb 17\n",
      "618bd975f55a022bd54daf828c1f7ce5 36\n"
     ]
    },
    {
     "name": "stdout",
     "output_type": "stream",
     "text": [
      "6239669cbfe444abd0a46536a670d150 44\n",
      "627f0516c61e02f14a399ff99aaf141c 83\n"
     ]
    },
    {
     "name": "stdout",
     "output_type": "stream",
     "text": [
      "639c126e54c9418b800800b6626d118e 41\n"
     ]
    },
    {
     "name": "stdout",
     "output_type": "stream",
     "text": [
      "63b65e67206ef8201d3df16a8fc518b7 21\n"
     ]
    },
    {
     "name": "stdout",
     "output_type": "stream",
     "text": [
      "63cf0d83a2d02d554965073e71e93e08 19\n"
     ]
    },
    {
     "name": "stdout",
     "output_type": "stream",
     "text": [
      "63fc3e82740fcc3de0e5cf76fb4f96fe 15\n"
     ]
    },
    {
     "name": "stdout",
     "output_type": "stream",
     "text": [
      "6505dba31a2e5fa96251a7ba5d2fc1a0 15\n",
      "65c933853ba6f9ad80097936c2924aa6 10\n"
     ]
    },
    {
     "name": "stdout",
     "output_type": "stream",
     "text": [
      "65f24aac652de33abaf3f227b41e2641 13\n"
     ]
    },
    {
     "name": "stdout",
     "output_type": "stream",
     "text": [
      "663b0660c9f85a475e5b7ce499dc48a3 24\n"
     ]
    },
    {
     "name": "stdout",
     "output_type": "stream",
     "text": [
      "6657c9871fa2f67cd168e6f94354060e 20\n"
     ]
    },
    {
     "name": "stdout",
     "output_type": "stream",
     "text": [
      "666c7361f0603c0cb4b783beddb796d8 13\n"
     ]
    },
    {
     "name": "stdout",
     "output_type": "stream",
     "text": [
      "66d134a595bd52251321d496ae2f4e0b 18\n"
     ]
    },
    {
     "name": "stdout",
     "output_type": "stream",
     "text": [
      "67407bf95ef751acc3accd630226b53d 32\n"
     ]
    },
    {
     "name": "stdout",
     "output_type": "stream",
     "text": [
      "676fffaaecefffe4ce93ca264c5c3c36 11\n"
     ]
    },
    {
     "name": "stdout",
     "output_type": "stream",
     "text": [
      "67bbd99237964244c2ad3d0531394291 25\n",
      "6803d35ef14c26cc19b7d9dacaa80672 23\n"
     ]
    },
    {
     "name": "stdout",
     "output_type": "stream",
     "text": [
      "68153b89651358b0e4dab495d4feb3e9 10\n",
      "6877b5946ab2ee471e4c546252057f29 38\n"
     ]
    },
    {
     "name": "stdout",
     "output_type": "stream",
     "text": [
      "68e5bdd9fde563b534c8a38dfddb6146 22\n"
     ]
    },
    {
     "name": "stdout",
     "output_type": "stream",
     "text": [
      "69274b987d26fbed84eb7d2b157badb6 13\n"
     ]
    },
    {
     "name": "stdout",
     "output_type": "stream",
     "text": [
      "695e104bd84215f8226793190ee20baf 16\n",
      "6a5609f385912113b6f1014b958ed748 22\n"
     ]
    },
    {
     "name": "stdout",
     "output_type": "stream",
     "text": [
      "6ac331ecae4b7e4dd2750893612331f9 20\n",
      "6b22ecccaddde4516a88c6981373daf3 11\n"
     ]
    },
    {
     "name": "stdout",
     "output_type": "stream",
     "text": [
      "6b778af080e42bb4b461bbc4ed1b666c 23\n",
      "6bc590ccd895d32877228c363a07d90f 20\n"
     ]
    },
    {
     "name": "stdout",
     "output_type": "stream",
     "text": [
      "6bdcabb0a40d03f8901d1d0e4a5124dc 18\n"
     ]
    },
    {
     "name": "stdout",
     "output_type": "stream",
     "text": [
      "6c1ad176e4007cf241439f6113a927ca 18\n",
      "6c316cb2fc150a2f9fd50925926fc1f8 19\n"
     ]
    },
    {
     "name": "stdout",
     "output_type": "stream",
     "text": [
      "6cd923e2eebf6dbd10f781e8a35e4a99 13\n"
     ]
    },
    {
     "name": "stdout",
     "output_type": "stream",
     "text": [
      "6d4dc6590c52c9b265d5003bf90ddbbb 14\n"
     ]
    },
    {
     "name": "stdout",
     "output_type": "stream",
     "text": [
      "6e585a6e6fc9cd621d7f73b92c292214 27\n",
      "6f483941cceef95c97d28b4f904a0d57 16\n"
     ]
    },
    {
     "name": "stdout",
     "output_type": "stream",
     "text": [
      "6fbb60a508283bc1fb30c13ac419941a 12\n",
      "70077360c4805acada195b59cbbe1c78 18\n"
     ]
    },
    {
     "name": "stdout",
     "output_type": "stream",
     "text": [
      "7322dfe92403d20403f7a527ba733641 12\n",
      "733d0fa66aa7cad3330acffe30d6dc17 11\n"
     ]
    },
    {
     "name": "stdout",
     "output_type": "stream",
     "text": [
      "747f8bc2b0c8c0a04d29caa4cfe327d2 11\n"
     ]
    },
    {
     "name": "stdout",
     "output_type": "stream",
     "text": [
      "74c5fdc6aac736fa7cf9b5d45c501a03 12\n",
      "75db3baff27b92ecda8651b35117d356 26\n"
     ]
    },
    {
     "name": "stdout",
     "output_type": "stream",
     "text": [
      "772f54511e2ccdad04e4fc903bbd19cc 16\n",
      "778946d9696cd6c95f57e8b1e6336389 34\n"
     ]
    },
    {
     "name": "stdout",
     "output_type": "stream",
     "text": [
      "7953cef088684d6a82637fe6a9e7e7a8 35\n"
     ]
    },
    {
     "name": "stdout",
     "output_type": "stream",
     "text": [
      "7a3c45dff186e7416bc95abd6668f65b 17\n",
      "7aad2bd27761397960e7f2e139ad0b9e 15\n"
     ]
    },
    {
     "name": "stdout",
     "output_type": "stream",
     "text": [
      "7ab86f26bdf5e743b0f0adf08df559e3 17\n"
     ]
    },
    {
     "name": "stdout",
     "output_type": "stream",
     "text": [
      "7b1f33221592c5bc981035ecfcd359f9 51\n",
      "7b208b710114a393f20ec464c7849157 34\n"
     ]
    },
    {
     "name": "stdout",
     "output_type": "stream",
     "text": [
      "7b4b81e3e66af9462dc475aa2e7427a1 33\n"
     ]
    },
    {
     "name": "stdout",
     "output_type": "stream",
     "text": [
      "7b67eb2512a721025efe5cb967a38aff 14\n"
     ]
    },
    {
     "name": "stdout",
     "output_type": "stream",
     "text": [
      "7bff91298a7f07d1cdcc7cb13c49eb41 28\n"
     ]
    },
    {
     "name": "stdout",
     "output_type": "stream",
     "text": [
      "7c570ea23642d08f4e1dac443dfca6c0 36\n"
     ]
    },
    {
     "name": "stdout",
     "output_type": "stream",
     "text": [
      "7c8e4a2171c253411138d6e3a4399620 27\n"
     ]
    },
    {
     "name": "stdout",
     "output_type": "stream",
     "text": [
      "7cf24c78c601ab6a16ab1607a5426d29 20\n"
     ]
    },
    {
     "name": "stdout",
     "output_type": "stream",
     "text": [
      "7dd5fff353cd08adc694aa74d7fa31af 15\n"
     ]
    },
    {
     "name": "stdout",
     "output_type": "stream",
     "text": [
      "7df3e38fbdab0a32ca0fa9fb6c8bd8c4 19\n"
     ]
    },
    {
     "name": "stdout",
     "output_type": "stream",
     "text": [
      "7e1a4171a3a5fdf83696d9179174d4cd 18\n"
     ]
    },
    {
     "name": "stdout",
     "output_type": "stream",
     "text": [
      "7e2478517261a19d87c0ab2e737fb25f 22\n"
     ]
    },
    {
     "name": "stdout",
     "output_type": "stream",
     "text": [
      "7e3e3d2f2f2b4f20fa63c425271e08e4 52\n",
      "7ee27423441d3bced123afcec6335da8 18\n"
     ]
    },
    {
     "name": "stdout",
     "output_type": "stream",
     "text": [
      "7eeae8c98cf4678be80f35a01f25fe6c 21\n"
     ]
    },
    {
     "name": "stdout",
     "output_type": "stream",
     "text": [
      "7f9c903be0e820137bd63ee9e9a97af8 14\n",
      "81594c0c7e4ef4c4cdbb7133d01cb361 24\n"
     ]
    },
    {
     "name": "stdout",
     "output_type": "stream",
     "text": [
      "8236e0d2df83f079ad33ff54ad4e518b 25\n",
      "8267c703abd7db102110ec19c18ae372 12\n"
     ]
    },
    {
     "name": "stdout",
     "output_type": "stream",
     "text": [
      "82b9ea58ff3d04a35df8deba80644a0e 16\n"
     ]
    },
    {
     "name": "stdout",
     "output_type": "stream",
     "text": [
      "842c96eacb965c2a1c0cbd6e51a7f741 17\n"
     ]
    },
    {
     "name": "stdout",
     "output_type": "stream",
     "text": [
      "85093fc593ca8c7bc3d9f86346c0c830 15\n"
     ]
    },
    {
     "name": "stdout",
     "output_type": "stream",
     "text": [
      "862f88264e4bdb239089465784dbe203 18\n"
     ]
    },
    {
     "name": "stdout",
     "output_type": "stream",
     "text": [
      "8932b66a9b94dcf03c942facc50ff401 23\n",
      "89399fcb71863c561d2a2703d8bd4a15 21\n"
     ]
    },
    {
     "name": "stdout",
     "output_type": "stream",
     "text": [
      "89ca758dd8e4958d6e8e32ccb439c638 19\n"
     ]
    },
    {
     "name": "stdout",
     "output_type": "stream",
     "text": [
      "8ac85c3e00e200910bf73b909d6f970b 20\n"
     ]
    },
    {
     "name": "stdout",
     "output_type": "stream",
     "text": [
      "8b20a6749088c7ff1237983076ebfeaa 12\n",
      "8b3b762a9010e36e084aae4c305d1b06 18\n"
     ]
    },
    {
     "name": "stdout",
     "output_type": "stream",
     "text": [
      "8b737a167ef2e623abed4c4243ed8b8d 22\n"
     ]
    },
    {
     "name": "stdout",
     "output_type": "stream",
     "text": [
      "8baa08eb0d7462333382e51f72737b14 19\n"
     ]
    },
    {
     "name": "stdout",
     "output_type": "stream",
     "text": [
      "8c9d2aa90948679972a9382aadcc6001 18\n"
     ]
    },
    {
     "name": "stdout",
     "output_type": "stream",
     "text": [
      "8cc5579ada546380bcf2663e0692e520 12\n"
     ]
    },
    {
     "name": "stdout",
     "output_type": "stream",
     "text": [
      "8ce569bbea13d8c92615e2cff87dcb0d 19\n",
      "8d4837b174344462ac0acf31aced69e2 13\n"
     ]
    },
    {
     "name": "stdout",
     "output_type": "stream",
     "text": [
      "8d7022c454fc05456cfb4b9cadf5f109 34\n"
     ]
    },
    {
     "name": "stdout",
     "output_type": "stream",
     "text": [
      "8dad735d80cf4a1768bbf15c68e3afa7 15\n"
     ]
    },
    {
     "name": "stdout",
     "output_type": "stream",
     "text": [
      "8ed377ac3767ffda176fcdea40bcd7e4 22\n"
     ]
    },
    {
     "name": "stdout",
     "output_type": "stream",
     "text": [
      "8eef3f1453830d1939aae4e774e87c53 9\n"
     ]
    },
    {
     "name": "stdout",
     "output_type": "stream",
     "text": [
      "8f782a6153268c6031e31784e2d4eae2 17\n"
     ]
    },
    {
     "name": "stdout",
     "output_type": "stream",
     "text": [
      "9059885d1cfb186d078f691eafd6a24d 16\n"
     ]
    },
    {
     "name": "stdout",
     "output_type": "stream",
     "text": [
      "9067053e8719d5cd878ba6351d817310 23\n"
     ]
    },
    {
     "name": "stdout",
     "output_type": "stream",
     "text": [
      "91ec70e2da02ad3cb9ae962a7452be48 15\n"
     ]
    },
    {
     "name": "stdout",
     "output_type": "stream",
     "text": [
      "9200a2b83d869882f514fa76e6bcd05c 20\n",
      "931e7312a52b294244e6e05d33134c1e 40\n"
     ]
    },
    {
     "name": "stdout",
     "output_type": "stream",
     "text": [
      "932a58530abff8a48558e2a15639d453 21\n"
     ]
    },
    {
     "name": "stdout",
     "output_type": "stream",
     "text": [
      "939e1edba462129ca3442d7e80e3a6df 20\n",
      "93c603c6ec0389076b9f852f9250a231 28\n"
     ]
    },
    {
     "name": "stdout",
     "output_type": "stream",
     "text": [
      "94cfe2eeb9088207be40c491c2b8524e 26\n"
     ]
    },
    {
     "name": "stdout",
     "output_type": "stream",
     "text": [
      "94f1f3cc229ef12ee0659de4ab3b4e94 14\n",
      "953e68b130eaa59a171dc28d594d5303 12\n"
     ]
    },
    {
     "name": "stdout",
     "output_type": "stream",
     "text": [
      "96b3d9311ce32f929ecc8f989d9656e2 21\n"
     ]
    },
    {
     "name": "stdout",
     "output_type": "stream",
     "text": [
      "9748c8d4f8762b4636a18fc95cb596a4 28\n"
     ]
    },
    {
     "name": "stdout",
     "output_type": "stream",
     "text": [
      "97e5bdffc50e369922a89c3946a92e44 30\n"
     ]
    },
    {
     "name": "stdout",
     "output_type": "stream",
     "text": [
      "983badfd7b568728e39a2344a9006078 16\n"
     ]
    },
    {
     "name": "stdout",
     "output_type": "stream",
     "text": [
      "984ffa38c6fdcecc2b57bbcadee3f81f 16\n"
     ]
    },
    {
     "name": "stdout",
     "output_type": "stream",
     "text": [
      "9883a286690ddb549fd39aff729f83ee 18\n"
     ]
    },
    {
     "name": "stdout",
     "output_type": "stream",
     "text": [
      "98c85fec4b8bf095a732ab363e0b2ff3 20\n"
     ]
    },
    {
     "name": "stdout",
     "output_type": "stream",
     "text": [
      "98e63567a2f4907c9cb2637247651530 34\n",
      "99b418342eb86b3aba7061fb1b7584a8 28\n"
     ]
    },
    {
     "name": "stdout",
     "output_type": "stream",
     "text": [
      "99c1cb11273b064dc48649886138eb8e 11\n"
     ]
    },
    {
     "name": "stdout",
     "output_type": "stream",
     "text": [
      "99c75ff0ed83b04f57a0f99dfc1b05b2 15\n",
      "99fc3cb44cdaf10cc69506d7c92b6466 25\n"
     ]
    },
    {
     "name": "stdout",
     "output_type": "stream",
     "text": [
      "9a890bcd3def2cd1ad8270f81fe8adaf 30\n",
      "9a8d8797ae3765b4ca946803c38b8ea6 17\n"
     ]
    },
    {
     "name": "stdout",
     "output_type": "stream",
     "text": [
      "9b461ff4ed0094dc132cb01b2e1db9ba 17\n"
     ]
    },
    {
     "name": "stdout",
     "output_type": "stream",
     "text": [
      "9c62c3bead53d866799d5195059566e6 15\n"
     ]
    },
    {
     "name": "stdout",
     "output_type": "stream",
     "text": [
      "9c7e7feff195285d5b7a47369b68bc4e 14\n",
      "9d137c34d4598e4f67aac16df77037e0 29\n"
     ]
    },
    {
     "name": "stdout",
     "output_type": "stream",
     "text": [
      "9dd9614f2619fd1b8397cabdb3f2248a 21\n"
     ]
    },
    {
     "name": "stdout",
     "output_type": "stream",
     "text": [
      "9e943f3dccee65ed33733a794a4d030e 27\n",
      "9ee08e65a6fc00045b2c609903e65603 17\n"
     ]
    },
    {
     "name": "stdout",
     "output_type": "stream",
     "text": [
      "a01b6cfa3022893470d884ca2534202c 26\n"
     ]
    },
    {
     "name": "stdout",
     "output_type": "stream",
     "text": [
      "a01d4790949ed9261a56c55a5eb2c239 22\n"
     ]
    },
    {
     "name": "stdout",
     "output_type": "stream",
     "text": [
      "a04177f6fbc3ba8065f2681089a0fad7 15\n",
      "a086a7bd8569dff6d9c4fe7db247e86d 13\n"
     ]
    },
    {
     "name": "stdout",
     "output_type": "stream",
     "text": [
      "a0875049afbd1cb4735e07c03fb8baae 20\n"
     ]
    },
    {
     "name": "stdout",
     "output_type": "stream",
     "text": [
      "a0c62bdce75bc5e1d047eae6ab6046ad 16\n"
     ]
    },
    {
     "name": "stdout",
     "output_type": "stream",
     "text": [
      "a0e42a2440ccd1dffe96a0d4cc4a8952 13\n"
     ]
    },
    {
     "name": "stdout",
     "output_type": "stream",
     "text": [
      "a20575f25400fc50aa8377e345b97d41 20\n",
      "a21252ae119bf94fb9343a9d279b1f09 13\n"
     ]
    },
    {
     "name": "stdout",
     "output_type": "stream",
     "text": [
      "a21afcba89ef782fc3d2696b6a60f9c2 15\n"
     ]
    },
    {
     "name": "stdout",
     "output_type": "stream",
     "text": [
      "a253da9e1d743c9579e25c1b69a05eb2 19\n"
     ]
    },
    {
     "name": "stdout",
     "output_type": "stream",
     "text": [
      "a490a9038c51aee1aa41a969308340a8 17\n",
      "a514bda8b5262164df92063a50786753 18\n"
     ]
    },
    {
     "name": "stdout",
     "output_type": "stream",
     "text": [
      "a5af04cc361abb2597b7aeda9c8f05f5 14\n"
     ]
    },
    {
     "name": "stdout",
     "output_type": "stream",
     "text": [
      "a5c01f891423feb7623ecfbeea6d103c 18\n"
     ]
    },
    {
     "name": "stdout",
     "output_type": "stream",
     "text": [
      "a5d7cec02c6005b044e40dd7a42ce4d2 22\n"
     ]
    },
    {
     "name": "stdout",
     "output_type": "stream",
     "text": [
      "a633db168b2c85a2f98be4bd877894d6 20\n"
     ]
    },
    {
     "name": "stdout",
     "output_type": "stream",
     "text": [
      "a7745ca5549c5be27faf5ff747401ccc 23\n"
     ]
    },
    {
     "name": "stdout",
     "output_type": "stream",
     "text": [
      "a7a6e62bcc876979d5f02bdec82c9869 18\n"
     ]
    },
    {
     "name": "stdout",
     "output_type": "stream",
     "text": [
      "a7dee09e9fbf07ce1c880016b3e69f35 14\n"
     ]
    },
    {
     "name": "stdout",
     "output_type": "stream",
     "text": [
      "a90462cd11ae4e43144239bf7c4828a4 21\n"
     ]
    },
    {
     "name": "stdout",
     "output_type": "stream",
     "text": [
      "a949965ca25205c4fb8f47bac724b832 44\n",
      "a993d47c7143bed2a187b0cac7d17983 28\n"
     ]
    },
    {
     "name": "stdout",
     "output_type": "stream",
     "text": [
      "ab1993483e82e85b729f5d958120d50d 13\n"
     ]
    },
    {
     "name": "stdout",
     "output_type": "stream",
     "text": [
      "abd614b6bace46049b465469a384ac0b 13\n",
      "abf354f67e94370068c7141648efe147 13\n"
     ]
    },
    {
     "name": "stdout",
     "output_type": "stream",
     "text": [
      "adef8f4cb061376c14393d4fb9ab3f89 16\n"
     ]
    },
    {
     "name": "stdout",
     "output_type": "stream",
     "text": [
      "adf09caf6306aab8015ea16df0efab86 42\n"
     ]
    },
    {
     "name": "stdout",
     "output_type": "stream",
     "text": [
      "adf57413c8c1462b6c066f14034bea53 17\n"
     ]
    },
    {
     "name": "stdout",
     "output_type": "stream",
     "text": [
      "ae2f6787bb01d859420365f1ab55a3c1 33\n"
     ]
    },
    {
     "name": "stdout",
     "output_type": "stream",
     "text": [
      "aea09a8d8901d51bb5c67eabc50f4379 15\n",
      "aeb668565350951c2e5b983ca5d18873 25\n"
     ]
    },
    {
     "name": "stdout",
     "output_type": "stream",
     "text": [
      "aef08e5cd6bbf488ae574e9462f3e47b 17\n"
     ]
    },
    {
     "name": "stdout",
     "output_type": "stream",
     "text": [
      "b08f608e6e2018affd0eadc6217cd9d6 26\n"
     ]
    },
    {
     "name": "stdout",
     "output_type": "stream",
     "text": [
      "b1d41e64e8d10b7c427570a7f77f1826 42\n"
     ]
    },
    {
     "name": "stdout",
     "output_type": "stream",
     "text": [
      "b249b93771413c68f826e6583566f645 22\n"
     ]
    },
    {
     "name": "stdout",
     "output_type": "stream",
     "text": [
      "b25e809679da1728ba3638a9fb418257 14\n",
      "b2aedbc721bb3852961092b0c46eab8e 18\n"
     ]
    },
    {
     "name": "stdout",
     "output_type": "stream",
     "text": [
      "b3a4cfbf22f45360e7fb11d1f8f86b9e 12\n"
     ]
    },
    {
     "name": "stdout",
     "output_type": "stream",
     "text": [
      "b49552ef5ef12e825e2ac8be26b54033 24\n"
     ]
    },
    {
     "name": "stdout",
     "output_type": "stream",
     "text": [
      "b537d7f73173f1a4227001cef49d1222 16\n",
      "b57c8824284adeabf73b43cf206b3819 12\n"
     ]
    },
    {
     "name": "stdout",
     "output_type": "stream",
     "text": [
      "b5dd82a5d296b283ded47e0110ce386d 21\n",
      "b63901e116eff9653b0bb68135364147 11\n"
     ]
    },
    {
     "name": "stdout",
     "output_type": "stream",
     "text": [
      "b63efd0868b06138b7c8f9da9027e457 14\n",
      "b67c2c4abede3730932f8d53aba0341a 14\n"
     ]
    },
    {
     "name": "stdout",
     "output_type": "stream",
     "text": [
      "b768694827b9ce3faa76db5daf06e523 21\n"
     ]
    },
    {
     "name": "stdout",
     "output_type": "stream",
     "text": [
      "b7d1ab1b8c062f0098dc3ce8ff59a821 15\n"
     ]
    },
    {
     "name": "stdout",
     "output_type": "stream",
     "text": [
      "b7dd087ca5fc64edaad0e6d8ea34bd82 49\n"
     ]
    },
    {
     "name": "stdout",
     "output_type": "stream",
     "text": [
      "b8114861c419dc4c0cdbbc07a943b2b9 41\n",
      "b81bda93a68e51718e7e3f272961f9b4 18\n"
     ]
    },
    {
     "name": "stdout",
     "output_type": "stream",
     "text": [
      "b84d48cb3e210ed3d4ae5522c752bd43 15\n"
     ]
    },
    {
     "name": "stdout",
     "output_type": "stream",
     "text": [
      "b8801e9acd413ba93922af95ab5bc392 31\n",
      "b94dcf22caa499f548c25164e13a8aba 25\n"
     ]
    },
    {
     "name": "stdout",
     "output_type": "stream",
     "text": [
      "b96eda75e8ffe638fff75143380a7ae6 19\n"
     ]
    },
    {
     "name": "stdout",
     "output_type": "stream",
     "text": [
      "ba71cfee2a23d7d3f0845cb5d6f1476f 20\n"
     ]
    },
    {
     "name": "stdout",
     "output_type": "stream",
     "text": [
      "bba6b4d023cec7812f6b6c30c570b278 35\n"
     ]
    },
    {
     "name": "stdout",
     "output_type": "stream",
     "text": [
      "bbcb018f0e5e49e13636f6e78ce9f60f 27\n"
     ]
    },
    {
     "name": "stdout",
     "output_type": "stream",
     "text": [
      "bc281215b12aa7a7b7ef1c769027e041 15\n"
     ]
    },
    {
     "name": "stdout",
     "output_type": "stream",
     "text": [
      "bc7ebe1813e2b66f084289e1b1172f21 24\n"
     ]
    },
    {
     "name": "stdout",
     "output_type": "stream",
     "text": [
      "bc9128e5845a9ef736ccbd42b96f0030 23\n"
     ]
    },
    {
     "name": "stdout",
     "output_type": "stream",
     "text": [
      "bcf10911a28373ba22a779145eaa9942 20\n"
     ]
    },
    {
     "name": "stdout",
     "output_type": "stream",
     "text": [
      "bd42c9bae54ed298a8281caf7b699ff6 16\n",
      "bd98af28b14ebbd3d45f05570ad9b72b 19\n"
     ]
    },
    {
     "name": "stdout",
     "output_type": "stream",
     "text": [
      "bef4a61635998c4d1b2b18327892a332 16\n"
     ]
    },
    {
     "ename": "KeyboardInterrupt",
     "evalue": "",
     "output_type": "error",
     "traceback": [
      "\u001b[0;31m---------------------------------------------------------------------------\u001b[0m",
      "\u001b[0;31mKeyboardInterrupt\u001b[0m                         Traceback (most recent call last)",
      "Cell \u001b[0;32mIn [24], line 5\u001b[0m\n\u001b[1;32m      3\u001b[0m testuu_id \u001b[38;5;241m=\u001b[39m testuu_id\u001b[38;5;241m.\u001b[39mset_index(\u001b[38;5;124m'\u001b[39m\u001b[38;5;124mweek_number\u001b[39m\u001b[38;5;124m'\u001b[39m)\n\u001b[1;32m      4\u001b[0m allweeks \u001b[38;5;241m=\u001b[39m pd\u001b[38;5;241m.\u001b[39mDataFrame({\u001b[38;5;124m'\u001b[39m\u001b[38;5;124mweek_number\u001b[39m\u001b[38;5;124m'\u001b[39m:\u001b[38;5;28mrange\u001b[39m(\u001b[38;5;241m1\u001b[39m,last_week\u001b[38;5;241m+\u001b[39m\u001b[38;5;241m1\u001b[39m)})\u001b[38;5;241m.\u001b[39mjoin(testuu_id, on\u001b[38;5;241m=\u001b[39m\u001b[38;5;124m'\u001b[39m\u001b[38;5;124mweek_number\u001b[39m\u001b[38;5;124m'\u001b[39m)\u001b[38;5;241m.\u001b[39mfillna(\u001b[38;5;28mint\u001b[39m(testuu_id[\u001b[38;5;124m'\u001b[39m\u001b[38;5;124mtotal_claims\u001b[39m\u001b[38;5;124m'\u001b[39m]\u001b[38;5;241m.\u001b[39mmedian()))\n\u001b[0;32m----> 5\u001b[0m m \u001b[38;5;241m=\u001b[39m \u001b[43mpm\u001b[49m\u001b[38;5;241;43m.\u001b[39;49m\u001b[43mauto_arima\u001b[49m\u001b[43m(\u001b[49m\u001b[43mallweeks\u001b[49m\u001b[43m[\u001b[49m\u001b[38;5;124;43m'\u001b[39;49m\u001b[38;5;124;43mtotal_claims\u001b[39;49m\u001b[38;5;124;43m'\u001b[39;49m\u001b[43m]\u001b[49m\u001b[38;5;241;43m.\u001b[39;49m\u001b[43mvalues\u001b[49m\u001b[43m,\u001b[49m\u001b[43m \u001b[49m\u001b[43mseasonal\u001b[49m\u001b[38;5;241;43m=\u001b[39;49m\u001b[38;5;28;43;01mFalse\u001b[39;49;00m\u001b[43m,\u001b[49m\u001b[43m \u001b[49m\u001b[43merror_action\u001b[49m\u001b[38;5;241;43m=\u001b[39;49m\u001b[38;5;124;43m'\u001b[39;49m\u001b[38;5;124;43mignore\u001b[39;49m\u001b[38;5;124;43m'\u001b[39;49m\u001b[43m)\u001b[49m\n\u001b[1;32m      6\u001b[0m pred \u001b[38;5;241m=\u001b[39m \u001b[38;5;28mint\u001b[39m(m\u001b[38;5;241m.\u001b[39mpredict(n_periods\u001b[38;5;241m=\u001b[39mpred_week\u001b[38;5;241m-\u001b[39mlast_week)[pred_week\u001b[38;5;241m-\u001b[39mlast_week\u001b[38;5;241m-\u001b[39m\u001b[38;5;241m1\u001b[39m])\n\u001b[1;32m      7\u001b[0m uupred\u001b[38;5;241m.\u001b[39mloc[uupred[\u001b[38;5;124m'\u001b[39m\u001b[38;5;124muu_id\u001b[39m\u001b[38;5;124m'\u001b[39m] \u001b[38;5;241m==\u001b[39m uu, [\u001b[38;5;124m'\u001b[39m\u001b[38;5;124mtotal_claims\u001b[39m\u001b[38;5;124m'\u001b[39m]] \u001b[38;5;241m=\u001b[39m pred\n",
      "File \u001b[0;32m/opt/homebrew/lib/python3.9/site-packages/pmdarima/arima/auto.py:701\u001b[0m, in \u001b[0;36mauto_arima\u001b[0;34m(y, X, start_p, d, start_q, max_p, max_d, max_q, start_P, D, start_Q, max_P, max_D, max_Q, max_order, m, seasonal, stationary, information_criterion, alpha, test, seasonal_test, stepwise, n_jobs, start_params, trend, method, maxiter, offset_test_args, seasonal_test_args, suppress_warnings, error_action, trace, random, random_state, n_fits, return_valid_fits, out_of_sample_size, scoring, scoring_args, with_intercept, sarimax_kwargs, **fit_args)\u001b[0m\n\u001b[1;32m    669\u001b[0m     \u001b[38;5;66;03m# init the stepwise model wrapper\u001b[39;00m\n\u001b[1;32m    670\u001b[0m     search \u001b[38;5;241m=\u001b[39m solvers\u001b[38;5;241m.\u001b[39m_StepwiseFitWrapper(\n\u001b[1;32m    671\u001b[0m         y,\n\u001b[1;32m    672\u001b[0m         X\u001b[38;5;241m=\u001b[39mX,\n\u001b[0;32m   (...)\u001b[0m\n\u001b[1;32m    698\u001b[0m         \u001b[38;5;241m*\u001b[39m\u001b[38;5;241m*\u001b[39msarimax_kwargs,\n\u001b[1;32m    699\u001b[0m     )\n\u001b[0;32m--> 701\u001b[0m sorted_res \u001b[38;5;241m=\u001b[39m \u001b[43msearch\u001b[49m\u001b[38;5;241;43m.\u001b[39;49m\u001b[43msolve\u001b[49m\u001b[43m(\u001b[49m\u001b[43m)\u001b[49m\n\u001b[1;32m    702\u001b[0m \u001b[38;5;28;01mreturn\u001b[39;00m _return_wrapper(sorted_res, return_valid_fits, start, trace)\n",
      "File \u001b[0;32m/opt/homebrew/lib/python3.9/site-packages/pmdarima/arima/_auto_solvers.py:312\u001b[0m, in \u001b[0;36m_StepwiseFitWrapper.solve\u001b[0;34m(self)\u001b[0m\n\u001b[1;32m    310\u001b[0m \u001b[38;5;66;03m# Null model with NO constant (if we haven't tried it yet)\u001b[39;00m\n\u001b[1;32m    311\u001b[0m \u001b[38;5;28;01mif\u001b[39;00m \u001b[38;5;28mself\u001b[39m\u001b[38;5;241m.\u001b[39mwith_intercept:\n\u001b[0;32m--> 312\u001b[0m     \u001b[38;5;28;01mif\u001b[39;00m \u001b[38;5;28;43mself\u001b[39;49m\u001b[38;5;241;43m.\u001b[39;49m\u001b[43m_do_fit\u001b[49m\u001b[43m(\u001b[49m\u001b[43m(\u001b[49m\u001b[38;5;241;43m0\u001b[39;49m\u001b[43m,\u001b[49m\u001b[43m \u001b[49m\u001b[43md\u001b[49m\u001b[43m,\u001b[49m\u001b[43m \u001b[49m\u001b[38;5;241;43m0\u001b[39;49m\u001b[43m)\u001b[49m\u001b[43m,\u001b[49m\u001b[43m \u001b[49m\u001b[43m(\u001b[49m\u001b[38;5;241;43m0\u001b[39;49m\u001b[43m,\u001b[49m\u001b[43m \u001b[49m\u001b[43mD\u001b[49m\u001b[43m,\u001b[49m\u001b[43m \u001b[49m\u001b[38;5;241;43m0\u001b[39;49m\u001b[43m,\u001b[49m\u001b[43m \u001b[49m\u001b[43mm\u001b[49m\u001b[43m)\u001b[49m\u001b[43m,\u001b[49m\u001b[43m \u001b[49m\u001b[43mconstant\u001b[49m\u001b[38;5;241;43m=\u001b[39;49m\u001b[38;5;28;43;01mFalse\u001b[39;49;00m\u001b[43m)\u001b[49m:\n\u001b[1;32m    313\u001b[0m         p \u001b[38;5;241m=\u001b[39m q \u001b[38;5;241m=\u001b[39m P \u001b[38;5;241m=\u001b[39m Q \u001b[38;5;241m=\u001b[39m \u001b[38;5;241m0\u001b[39m\n\u001b[1;32m    315\u001b[0m \u001b[38;5;28;01mwhile\u001b[39;00m \u001b[38;5;28mself\u001b[39m\u001b[38;5;241m.\u001b[39mstart_k \u001b[38;5;241m<\u001b[39m \u001b[38;5;28mself\u001b[39m\u001b[38;5;241m.\u001b[39mk \u001b[38;5;241m<\u001b[39m \u001b[38;5;28mself\u001b[39m\u001b[38;5;241m.\u001b[39mmax_k:\n",
      "File \u001b[0;32m/opt/homebrew/lib/python3.9/site-packages/pmdarima/arima/_auto_solvers.py:233\u001b[0m, in \u001b[0;36m_StepwiseFitWrapper._do_fit\u001b[0;34m(self, order, seasonal_order, constant)\u001b[0m\n\u001b[1;32m    228\u001b[0m \u001b[38;5;28;01mif\u001b[39;00m (order, seasonal_order, constant) \u001b[38;5;129;01mnot\u001b[39;00m \u001b[38;5;129;01min\u001b[39;00m \u001b[38;5;28mself\u001b[39m\u001b[38;5;241m.\u001b[39mresults_dict:\n\u001b[1;32m    229\u001b[0m \n\u001b[1;32m    230\u001b[0m     \u001b[38;5;66;03m# increment the number of fits\u001b[39;00m\n\u001b[1;32m    231\u001b[0m     \u001b[38;5;28mself\u001b[39m\u001b[38;5;241m.\u001b[39mk \u001b[38;5;241m+\u001b[39m\u001b[38;5;241m=\u001b[39m \u001b[38;5;241m1\u001b[39m\n\u001b[0;32m--> 233\u001b[0m     fit, fit_time, new_ic \u001b[38;5;241m=\u001b[39m \u001b[38;5;28;43mself\u001b[39;49m\u001b[38;5;241;43m.\u001b[39;49m\u001b[43m_fit_arima\u001b[49m\u001b[43m(\u001b[49m\n\u001b[1;32m    234\u001b[0m \u001b[43m        \u001b[49m\u001b[43morder\u001b[49m\u001b[38;5;241;43m=\u001b[39;49m\u001b[43morder\u001b[49m\u001b[43m,\u001b[49m\n\u001b[1;32m    235\u001b[0m \u001b[43m        \u001b[49m\u001b[43mseasonal_order\u001b[49m\u001b[38;5;241;43m=\u001b[39;49m\u001b[43mseasonal_order\u001b[49m\u001b[43m,\u001b[49m\n\u001b[1;32m    236\u001b[0m \u001b[43m        \u001b[49m\u001b[43mwith_intercept\u001b[49m\u001b[38;5;241;43m=\u001b[39;49m\u001b[43mconstant\u001b[49m\u001b[43m)\u001b[49m\n\u001b[1;32m    238\u001b[0m     \u001b[38;5;66;03m# use the orders as a key to be hashed for\u001b[39;00m\n\u001b[1;32m    239\u001b[0m     \u001b[38;5;66;03m# the dictionary (pointing to fit)\u001b[39;00m\n\u001b[1;32m    240\u001b[0m     \u001b[38;5;28mself\u001b[39m\u001b[38;5;241m.\u001b[39mresults_dict[(order, seasonal_order, constant)] \u001b[38;5;241m=\u001b[39m fit\n",
      "File \u001b[0;32m/opt/homebrew/lib/python3.9/site-packages/pmdarima/arima/_auto_solvers.py:506\u001b[0m, in \u001b[0;36m_fit_candidate_model\u001b[0;34m(y, X, order, seasonal_order, start_params, trend, method, maxiter, fit_params, suppress_warnings, trace, error_action, out_of_sample_size, scoring, scoring_args, with_intercept, information_criterion, **kwargs)\u001b[0m\n\u001b[1;32m    498\u001b[0m fit \u001b[38;5;241m=\u001b[39m ARIMA(order\u001b[38;5;241m=\u001b[39morder, seasonal_order\u001b[38;5;241m=\u001b[39mseasonal_order,\n\u001b[1;32m    499\u001b[0m             start_params\u001b[38;5;241m=\u001b[39mstart_params, trend\u001b[38;5;241m=\u001b[39mtrend, method\u001b[38;5;241m=\u001b[39mmethod,\n\u001b[1;32m    500\u001b[0m             maxiter\u001b[38;5;241m=\u001b[39mmaxiter, suppress_warnings\u001b[38;5;241m=\u001b[39msuppress_warnings,\n\u001b[1;32m    501\u001b[0m             out_of_sample_size\u001b[38;5;241m=\u001b[39mout_of_sample_size, scoring\u001b[38;5;241m=\u001b[39mscoring,\n\u001b[1;32m    502\u001b[0m             scoring_args\u001b[38;5;241m=\u001b[39mscoring_args,\n\u001b[1;32m    503\u001b[0m             with_intercept\u001b[38;5;241m=\u001b[39mwith_intercept, \u001b[38;5;241m*\u001b[39m\u001b[38;5;241m*\u001b[39mkwargs)\n\u001b[1;32m    505\u001b[0m \u001b[38;5;28;01mtry\u001b[39;00m:\n\u001b[0;32m--> 506\u001b[0m     \u001b[43mfit\u001b[49m\u001b[38;5;241;43m.\u001b[39;49m\u001b[43mfit\u001b[49m\u001b[43m(\u001b[49m\u001b[43my\u001b[49m\u001b[43m,\u001b[49m\u001b[43m \u001b[49m\u001b[43mX\u001b[49m\u001b[38;5;241;43m=\u001b[39;49m\u001b[43mX\u001b[49m\u001b[43m,\u001b[49m\u001b[43m \u001b[49m\u001b[38;5;241;43m*\u001b[39;49m\u001b[38;5;241;43m*\u001b[39;49m\u001b[43mfit_params\u001b[49m\u001b[43m)\u001b[49m\n\u001b[1;32m    508\u001b[0m \u001b[38;5;66;03m# for non-stationarity errors or singular matrices, return None\u001b[39;00m\n\u001b[1;32m    509\u001b[0m \u001b[38;5;28;01mexcept\u001b[39;00m (LinAlgError, \u001b[38;5;167;01mValueError\u001b[39;00m) \u001b[38;5;28;01mas\u001b[39;00m v:\n",
      "File \u001b[0;32m/opt/homebrew/lib/python3.9/site-packages/pmdarima/arima/arima.py:603\u001b[0m, in \u001b[0;36mARIMA.fit\u001b[0;34m(self, y, X, **fit_args)\u001b[0m\n\u001b[1;32m    600\u001b[0m         X \u001b[38;5;241m=\u001b[39m safe_indexing(X, \u001b[38;5;28mslice\u001b[39m(\u001b[38;5;241m0\u001b[39m, n_exog \u001b[38;5;241m-\u001b[39m cv))\n\u001b[1;32m    602\u001b[0m \u001b[38;5;66;03m# Internal call\u001b[39;00m\n\u001b[0;32m--> 603\u001b[0m \u001b[38;5;28;43mself\u001b[39;49m\u001b[38;5;241;43m.\u001b[39;49m\u001b[43m_fit\u001b[49m\u001b[43m(\u001b[49m\u001b[43my\u001b[49m\u001b[43m,\u001b[49m\u001b[43m \u001b[49m\u001b[43mX\u001b[49m\u001b[43m,\u001b[49m\u001b[43m \u001b[49m\u001b[38;5;241;43m*\u001b[39;49m\u001b[38;5;241;43m*\u001b[39;49m\u001b[43mfit_args\u001b[49m\u001b[43m)\u001b[49m\n\u001b[1;32m    605\u001b[0m \u001b[38;5;66;03m# now make a forecast if we're validating to compute the\u001b[39;00m\n\u001b[1;32m    606\u001b[0m \u001b[38;5;66;03m# out-of-sample score\u001b[39;00m\n\u001b[1;32m    607\u001b[0m \u001b[38;5;28;01mif\u001b[39;00m cv_samples \u001b[38;5;129;01mis\u001b[39;00m \u001b[38;5;129;01mnot\u001b[39;00m \u001b[38;5;28;01mNone\u001b[39;00m:\n\u001b[1;32m    608\u001b[0m     \u001b[38;5;66;03m# get the predictions (use self.predict, which calls forecast\u001b[39;00m\n\u001b[1;32m    609\u001b[0m     \u001b[38;5;66;03m# from statsmodels internally)\u001b[39;00m\n",
      "File \u001b[0;32m/opt/homebrew/lib/python3.9/site-packages/pmdarima/arima/arima.py:524\u001b[0m, in \u001b[0;36mARIMA._fit\u001b[0;34m(self, y, X, **fit_args)\u001b[0m\n\u001b[1;32m    522\u001b[0m     \u001b[38;5;28;01mwith\u001b[39;00m warnings\u001b[38;5;241m.\u001b[39mcatch_warnings(record\u001b[38;5;241m=\u001b[39m\u001b[38;5;28;01mFalse\u001b[39;00m):\n\u001b[1;32m    523\u001b[0m         warnings\u001b[38;5;241m.\u001b[39msimplefilter(\u001b[38;5;124m'\u001b[39m\u001b[38;5;124mignore\u001b[39m\u001b[38;5;124m'\u001b[39m)\n\u001b[0;32m--> 524\u001b[0m         fit, \u001b[38;5;28mself\u001b[39m\u001b[38;5;241m.\u001b[39marima_res_ \u001b[38;5;241m=\u001b[39m \u001b[43m_fit_wrapper\u001b[49m\u001b[43m(\u001b[49m\u001b[43m)\u001b[49m\n\u001b[1;32m    525\u001b[0m \u001b[38;5;28;01melse\u001b[39;00m:\n\u001b[1;32m    526\u001b[0m     fit, \u001b[38;5;28mself\u001b[39m\u001b[38;5;241m.\u001b[39marima_res_ \u001b[38;5;241m=\u001b[39m _fit_wrapper()\n",
      "File \u001b[0;32m/opt/homebrew/lib/python3.9/site-packages/pmdarima/arima/arima.py:489\u001b[0m, in \u001b[0;36mARIMA._fit.<locals>._fit_wrapper\u001b[0;34m()\u001b[0m\n\u001b[1;32m    485\u001b[0m sarimax_kwargs \u001b[38;5;241m=\u001b[39m \\\n\u001b[1;32m    486\u001b[0m     {} \u001b[38;5;28;01mif\u001b[39;00m \u001b[38;5;129;01mnot\u001b[39;00m \u001b[38;5;28mself\u001b[39m\u001b[38;5;241m.\u001b[39msarimax_kwargs \u001b[38;5;28;01melse\u001b[39;00m \u001b[38;5;28mself\u001b[39m\u001b[38;5;241m.\u001b[39msarimax_kwargs\n\u001b[1;32m    487\u001b[0m seasonal_order \u001b[38;5;241m=\u001b[39m \\\n\u001b[1;32m    488\u001b[0m     sm_compat\u001b[38;5;241m.\u001b[39mcheck_seasonal_order(\u001b[38;5;28mself\u001b[39m\u001b[38;5;241m.\u001b[39mseasonal_order)\n\u001b[0;32m--> 489\u001b[0m arima \u001b[38;5;241m=\u001b[39m \u001b[43msm\u001b[49m\u001b[38;5;241;43m.\u001b[39;49m\u001b[43mtsa\u001b[49m\u001b[38;5;241;43m.\u001b[39;49m\u001b[43mstatespace\u001b[49m\u001b[38;5;241;43m.\u001b[39;49m\u001b[43mSARIMAX\u001b[49m\u001b[43m(\u001b[49m\n\u001b[1;32m    490\u001b[0m \u001b[43m    \u001b[49m\u001b[43mendog\u001b[49m\u001b[38;5;241;43m=\u001b[39;49m\u001b[43my\u001b[49m\u001b[43m,\u001b[49m\u001b[43m \u001b[49m\u001b[43mexog\u001b[49m\u001b[38;5;241;43m=\u001b[39;49m\u001b[43mX\u001b[49m\u001b[43m,\u001b[49m\u001b[43m \u001b[49m\u001b[43morder\u001b[49m\u001b[38;5;241;43m=\u001b[39;49m\u001b[38;5;28;43mself\u001b[39;49m\u001b[38;5;241;43m.\u001b[39;49m\u001b[43morder\u001b[49m\u001b[43m,\u001b[49m\n\u001b[1;32m    491\u001b[0m \u001b[43m    \u001b[49m\u001b[43mseasonal_order\u001b[49m\u001b[38;5;241;43m=\u001b[39;49m\u001b[43mseasonal_order\u001b[49m\u001b[43m,\u001b[49m\n\u001b[1;32m    492\u001b[0m \u001b[43m    \u001b[49m\u001b[43mtrend\u001b[49m\u001b[38;5;241;43m=\u001b[39;49m\u001b[43mtrend\u001b[49m\u001b[43m,\u001b[49m\n\u001b[1;32m    493\u001b[0m \u001b[43m    \u001b[49m\u001b[38;5;241;43m*\u001b[39;49m\u001b[38;5;241;43m*\u001b[39;49m\u001b[43msarimax_kwargs\u001b[49m\u001b[43m)\u001b[49m\n\u001b[1;32m    495\u001b[0m \u001b[38;5;66;03m# actually fit the model, now. If this was called from 'update',\u001b[39;00m\n\u001b[1;32m    496\u001b[0m \u001b[38;5;66;03m# give priority to start_params from the fit_args\u001b[39;00m\n\u001b[1;32m    497\u001b[0m start_params \u001b[38;5;241m=\u001b[39m fit_args\u001b[38;5;241m.\u001b[39mpop(\u001b[38;5;124m\"\u001b[39m\u001b[38;5;124mstart_params\u001b[39m\u001b[38;5;124m\"\u001b[39m, \u001b[38;5;28mself\u001b[39m\u001b[38;5;241m.\u001b[39mstart_params)\n",
      "File \u001b[0;32m/opt/homebrew/lib/python3.9/site-packages/statsmodels/tsa/statespace/sarimax.py:370\u001b[0m, in \u001b[0;36mSARIMAX.__init__\u001b[0;34m(self, endog, exog, order, seasonal_order, trend, measurement_error, time_varying_regression, mle_regression, simple_differencing, enforce_stationarity, enforce_invertibility, hamilton_representation, concentrate_scale, trend_offset, use_exact_diffuse, dates, freq, missing, validate_specification, **kwargs)\u001b[0m\n\u001b[1;32m    367\u001b[0m \u001b[38;5;28mself\u001b[39m\u001b[38;5;241m.\u001b[39mpolynomial_ma \u001b[38;5;241m=\u001b[39m \u001b[38;5;28mself\u001b[39m\u001b[38;5;241m.\u001b[39m_params\u001b[38;5;241m.\u001b[39mma_poly\u001b[38;5;241m.\u001b[39mcoef\n\u001b[1;32m    368\u001b[0m \u001b[38;5;28mself\u001b[39m\u001b[38;5;241m.\u001b[39m_polynomial_ma \u001b[38;5;241m=\u001b[39m \u001b[38;5;28mself\u001b[39m\u001b[38;5;241m.\u001b[39mpolynomial_ma\u001b[38;5;241m.\u001b[39mcopy()\n\u001b[0;32m--> 370\u001b[0m \u001b[38;5;28;43mself\u001b[39;49m\u001b[38;5;241;43m.\u001b[39;49m\u001b[43m_params\u001b[49m\u001b[38;5;241;43m.\u001b[39;49m\u001b[43mseasonal_ar_params\u001b[49m \u001b[38;5;241m=\u001b[39m \u001b[38;5;241m-\u001b[39m\u001b[38;5;241m1\u001b[39m\n\u001b[1;32m    371\u001b[0m \u001b[38;5;28mself\u001b[39m\u001b[38;5;241m.\u001b[39mpolynomial_seasonal_ar \u001b[38;5;241m=\u001b[39m \u001b[38;5;28mself\u001b[39m\u001b[38;5;241m.\u001b[39m_params\u001b[38;5;241m.\u001b[39mseasonal_ar_poly\u001b[38;5;241m.\u001b[39mcoef\n\u001b[1;32m    372\u001b[0m \u001b[38;5;28mself\u001b[39m\u001b[38;5;241m.\u001b[39m_polynomial_seasonal_ar \u001b[38;5;241m=\u001b[39m \u001b[38;5;28mself\u001b[39m\u001b[38;5;241m.\u001b[39mpolynomial_seasonal_ar\u001b[38;5;241m.\u001b[39mcopy()\n",
      "File \u001b[0;32m/opt/homebrew/lib/python3.9/site-packages/statsmodels/tsa/arima/params.py:183\u001b[0m, in \u001b[0;36mSARIMAXParams.seasonal_ar_params\u001b[0;34m(self, value)\u001b[0m\n\u001b[1;32m    181\u001b[0m \u001b[38;5;28;01mif\u001b[39;00m np\u001b[38;5;241m.\u001b[39misscalar(value):\n\u001b[1;32m    182\u001b[0m     value \u001b[38;5;241m=\u001b[39m [value] \u001b[38;5;241m*\u001b[39m \u001b[38;5;28mself\u001b[39m\u001b[38;5;241m.\u001b[39mk_seasonal_ar_params\n\u001b[0;32m--> 183\u001b[0m \u001b[38;5;28mself\u001b[39m\u001b[38;5;241m.\u001b[39m_params_split[\u001b[38;5;124m'\u001b[39m\u001b[38;5;124mseasonal_ar_params\u001b[39m\u001b[38;5;124m'\u001b[39m] \u001b[38;5;241m=\u001b[39m \u001b[43mvalidate_basic\u001b[49m\u001b[43m(\u001b[49m\n\u001b[1;32m    184\u001b[0m \u001b[43m    \u001b[49m\u001b[43mvalue\u001b[49m\u001b[43m,\u001b[49m\u001b[43m \u001b[49m\u001b[38;5;28;43mself\u001b[39;49m\u001b[38;5;241;43m.\u001b[39;49m\u001b[43mk_seasonal_ar_params\u001b[49m\u001b[43m,\u001b[49m\u001b[43m \u001b[49m\u001b[43mtitle\u001b[49m\u001b[38;5;241;43m=\u001b[39;49m\u001b[38;5;124;43m'\u001b[39;49m\u001b[38;5;124;43mseasonal AR coefficients\u001b[39;49m\u001b[38;5;124;43m'\u001b[39;49m\u001b[43m)\u001b[49m\n\u001b[1;32m    185\u001b[0m \u001b[38;5;28mself\u001b[39m\u001b[38;5;241m.\u001b[39m_params \u001b[38;5;241m=\u001b[39m \u001b[38;5;28;01mNone\u001b[39;00m\n",
      "File \u001b[0;32m/opt/homebrew/lib/python3.9/site-packages/statsmodels/tsa/arima/tools.py:151\u001b[0m, in \u001b[0;36mvalidate_basic\u001b[0;34m(params, length, allow_infnan, title)\u001b[0m\n\u001b[1;32m    147\u001b[0m     \u001b[38;5;28;01mraise\u001b[39;00m \u001b[38;5;167;01mValueError\u001b[39;00m(\u001b[38;5;124m'\u001b[39m\u001b[38;5;124mParameters vector\u001b[39m\u001b[38;5;132;01m%s\u001b[39;00m\u001b[38;5;124m includes invalid values.\u001b[39m\u001b[38;5;124m'\u001b[39m\n\u001b[1;32m    148\u001b[0m                      \u001b[38;5;241m%\u001b[39m title)\n\u001b[1;32m    150\u001b[0m \u001b[38;5;66;03m# Check for NaN, inf\u001b[39;00m\n\u001b[0;32m--> 151\u001b[0m \u001b[38;5;28;01mif\u001b[39;00m \u001b[38;5;129;01mnot\u001b[39;00m allow_infnan \u001b[38;5;129;01mand\u001b[39;00m (\u001b[43mnp\u001b[49m\u001b[38;5;241;43m.\u001b[39;49m\u001b[43many\u001b[49m\u001b[43m(\u001b[49m\u001b[43mnp\u001b[49m\u001b[38;5;241;43m.\u001b[39;49m\u001b[43misnan\u001b[49m\u001b[43m(\u001b[49m\u001b[43mparams\u001b[49m\u001b[43m)\u001b[49m\u001b[43m)\u001b[49m \u001b[38;5;129;01mor\u001b[39;00m\n\u001b[1;32m    152\u001b[0m                          np\u001b[38;5;241m.\u001b[39many(np\u001b[38;5;241m.\u001b[39misinf(params))):\n\u001b[1;32m    153\u001b[0m     \u001b[38;5;28;01mraise\u001b[39;00m \u001b[38;5;167;01mValueError\u001b[39;00m(\u001b[38;5;124m'\u001b[39m\u001b[38;5;124mParameters vector\u001b[39m\u001b[38;5;132;01m%s\u001b[39;00m\u001b[38;5;124m includes NaN or Inf values.\u001b[39m\u001b[38;5;124m'\u001b[39m\n\u001b[1;32m    154\u001b[0m                      \u001b[38;5;241m%\u001b[39m title)\n\u001b[1;32m    156\u001b[0m params \u001b[38;5;241m=\u001b[39m np\u001b[38;5;241m.\u001b[39matleast_1d(np\u001b[38;5;241m.\u001b[39msqueeze(params))\n",
      "File \u001b[0;32m<__array_function__ internals>:180\u001b[0m, in \u001b[0;36many\u001b[0;34m(*args, **kwargs)\u001b[0m\n",
      "File \u001b[0;32m/opt/homebrew/lib/python3.9/site-packages/numpy/core/fromnumeric.py:2397\u001b[0m, in \u001b[0;36many\u001b[0;34m(a, axis, out, keepdims, where)\u001b[0m\n\u001b[1;32m   2307\u001b[0m \u001b[38;5;129m@array_function_dispatch\u001b[39m(_any_dispatcher)\n\u001b[1;32m   2308\u001b[0m \u001b[38;5;28;01mdef\u001b[39;00m \u001b[38;5;21many\u001b[39m(a, axis\u001b[38;5;241m=\u001b[39m\u001b[38;5;28;01mNone\u001b[39;00m, out\u001b[38;5;241m=\u001b[39m\u001b[38;5;28;01mNone\u001b[39;00m, keepdims\u001b[38;5;241m=\u001b[39mnp\u001b[38;5;241m.\u001b[39m_NoValue, \u001b[38;5;241m*\u001b[39m, where\u001b[38;5;241m=\u001b[39mnp\u001b[38;5;241m.\u001b[39m_NoValue):\n\u001b[1;32m   2309\u001b[0m     \u001b[38;5;124;03m\"\"\"\u001b[39;00m\n\u001b[1;32m   2310\u001b[0m \u001b[38;5;124;03m    Test whether any array element along a given axis evaluates to True.\u001b[39;00m\n\u001b[1;32m   2311\u001b[0m \n\u001b[0;32m   (...)\u001b[0m\n\u001b[1;32m   2395\u001b[0m \n\u001b[1;32m   2396\u001b[0m \u001b[38;5;124;03m    \"\"\"\u001b[39;00m\n\u001b[0;32m-> 2397\u001b[0m     \u001b[38;5;28;01mreturn\u001b[39;00m \u001b[43m_wrapreduction\u001b[49m\u001b[43m(\u001b[49m\u001b[43ma\u001b[49m\u001b[43m,\u001b[49m\u001b[43m \u001b[49m\u001b[43mnp\u001b[49m\u001b[38;5;241;43m.\u001b[39;49m\u001b[43mlogical_or\u001b[49m\u001b[43m,\u001b[49m\u001b[43m \u001b[49m\u001b[38;5;124;43m'\u001b[39;49m\u001b[38;5;124;43many\u001b[39;49m\u001b[38;5;124;43m'\u001b[39;49m\u001b[43m,\u001b[49m\u001b[43m \u001b[49m\u001b[43maxis\u001b[49m\u001b[43m,\u001b[49m\u001b[43m \u001b[49m\u001b[38;5;28;43;01mNone\u001b[39;49;00m\u001b[43m,\u001b[49m\u001b[43m \u001b[49m\u001b[43mout\u001b[49m\u001b[43m,\u001b[49m\n\u001b[1;32m   2398\u001b[0m \u001b[43m                          \u001b[49m\u001b[43mkeepdims\u001b[49m\u001b[38;5;241;43m=\u001b[39;49m\u001b[43mkeepdims\u001b[49m\u001b[43m,\u001b[49m\u001b[43m \u001b[49m\u001b[43mwhere\u001b[49m\u001b[38;5;241;43m=\u001b[39;49m\u001b[43mwhere\u001b[49m\u001b[43m)\u001b[49m\n",
      "File \u001b[0;32m/opt/homebrew/lib/python3.9/site-packages/numpy/core/fromnumeric.py:86\u001b[0m, in \u001b[0;36m_wrapreduction\u001b[0;34m(obj, ufunc, method, axis, dtype, out, **kwargs)\u001b[0m\n\u001b[1;32m     83\u001b[0m         \u001b[38;5;28;01melse\u001b[39;00m:\n\u001b[1;32m     84\u001b[0m             \u001b[38;5;28;01mreturn\u001b[39;00m reduction(axis\u001b[38;5;241m=\u001b[39maxis, out\u001b[38;5;241m=\u001b[39mout, \u001b[38;5;241m*\u001b[39m\u001b[38;5;241m*\u001b[39mpasskwargs)\n\u001b[0;32m---> 86\u001b[0m \u001b[38;5;28;01mreturn\u001b[39;00m \u001b[43mufunc\u001b[49m\u001b[38;5;241;43m.\u001b[39;49m\u001b[43mreduce\u001b[49m(obj, axis, dtype, out, \u001b[38;5;241m*\u001b[39m\u001b[38;5;241m*\u001b[39mpasskwargs)\n",
      "\u001b[0;31mKeyboardInterrupt\u001b[0m: "
     ]
    }
   ],
   "source": [
    "for uu in uupred['uu_id'].values:\n",
    "    testuu_id = empdata.loc[empdata['uu_id'] == uu][['week_number', 'total_claims']]\n",
    "    testuu_id = testuu_id.set_index('week_number')\n",
    "    allweeks = pd.DataFrame({'week_number':range(1,last_week+1)}).join(testuu_id, on='week_number').fillna(int(testuu_id['total_claims'].median()))\n",
    "    m = pm.auto_arima(allweeks['total_claims'].values, seasonal=False, error_action='ignore')\n",
    "    pred = int(m.predict(n_periods=pred_week-last_week)[pred_week-last_week-1])\n",
    "    uupred.loc[uupred['uu_id'] == uu, ['total_claims']] = pred\n",
    "    print(uu, int(pred))"
   ]
  },
  {
   "cell_type": "code",
   "execution_count": 25,
   "id": "1da14028",
   "metadata": {},
   "outputs": [
    {
     "data": {
      "text/html": [
       "<div>\n",
       "<style scoped>\n",
       "    .dataframe tbody tr th:only-of-type {\n",
       "        vertical-align: middle;\n",
       "    }\n",
       "\n",
       "    .dataframe tbody tr th {\n",
       "        vertical-align: top;\n",
       "    }\n",
       "\n",
       "    .dataframe thead th {\n",
       "        text-align: right;\n",
       "    }\n",
       "</style>\n",
       "<table border=\"1\" class=\"dataframe\">\n",
       "  <thead>\n",
       "    <tr style=\"text-align: right;\">\n",
       "      <th></th>\n",
       "      <th>uu_id</th>\n",
       "      <th>week_number</th>\n",
       "      <th>total_claims</th>\n",
       "    </tr>\n",
       "  </thead>\n",
       "  <tbody>\n",
       "    <tr>\n",
       "      <th>0</th>\n",
       "      <td>001cd9ae23064d7f0fd3cd327c873d8d</td>\n",
       "      <td>44</td>\n",
       "      <td>11</td>\n",
       "    </tr>\n",
       "    <tr>\n",
       "      <th>1</th>\n",
       "      <td>005be9532fd717dc36d4be318fd9ad25</td>\n",
       "      <td>44</td>\n",
       "      <td>45</td>\n",
       "    </tr>\n",
       "    <tr>\n",
       "      <th>2</th>\n",
       "      <td>007c1caccff1fbb3a0b8a10790f77141</td>\n",
       "      <td>44</td>\n",
       "      <td>16</td>\n",
       "    </tr>\n",
       "    <tr>\n",
       "      <th>3</th>\n",
       "      <td>009683350b175edfc6414d664e4ba873</td>\n",
       "      <td>44</td>\n",
       "      <td>17</td>\n",
       "    </tr>\n",
       "    <tr>\n",
       "      <th>4</th>\n",
       "      <td>00f962ce727b8dbbf20925abd5a253dd</td>\n",
       "      <td>44</td>\n",
       "      <td>39</td>\n",
       "    </tr>\n",
       "  </tbody>\n",
       "</table>\n",
       "</div>"
      ],
      "text/plain": [
       "                              uu_id  week_number  total_claims\n",
       "0  001cd9ae23064d7f0fd3cd327c873d8d           44            11\n",
       "1  005be9532fd717dc36d4be318fd9ad25           44            45\n",
       "2  007c1caccff1fbb3a0b8a10790f77141           44            16\n",
       "3  009683350b175edfc6414d664e4ba873           44            17\n",
       "4  00f962ce727b8dbbf20925abd5a253dd           44            39"
      ]
     },
     "execution_count": 25,
     "metadata": {},
     "output_type": "execute_result"
    }
   ],
   "source": [
    "uupred.head()"
   ]
  },
  {
   "cell_type": "code",
   "execution_count": 26,
   "id": "83358262",
   "metadata": {},
   "outputs": [],
   "source": [
    "uupred = uupred[['uu_id', 'total_claims', 'week_number']]\n",
    "uupred.to_csv('submission_prediction_output.csv', index=False)"
   ]
  },
  {
   "cell_type": "markdown",
   "id": "34bc0797",
   "metadata": {},
   "source": [
    "# This can also be a good place for you to cleanup any input/output and export your results to a file."
   ]
  },
  {
   "cell_type": "code",
   "execution_count": 27,
   "id": "18a10690",
   "metadata": {
    "lines_to_next_cell": 2
   },
   "outputs": [
    {
     "data": {
      "text/plain": [
       "1"
      ]
     },
     "execution_count": 27,
     "metadata": {},
     "output_type": "execute_result"
    }
   ],
   "source": [
    "1"
   ]
  }
 ],
 "metadata": {
  "jupytext": {
   "cell_metadata_filter": "-all",
   "main_language": "python",
   "notebook_metadata_filter": "-all"
  },
  "kernelspec": {
   "display_name": "base",
   "language": "python",
   "name": "python3"
  },
  "language_info": {
   "codemirror_mode": {
    "name": "ipython",
    "version": 3
   },
   "file_extension": ".py",
   "mimetype": "text/x-python",
   "name": "python",
   "nbconvert_exporter": "python",
   "pygments_lexer": "ipython3",
   "version": "3.9.12"
  }
 },
 "nbformat": 4,
 "nbformat_minor": 5
}
