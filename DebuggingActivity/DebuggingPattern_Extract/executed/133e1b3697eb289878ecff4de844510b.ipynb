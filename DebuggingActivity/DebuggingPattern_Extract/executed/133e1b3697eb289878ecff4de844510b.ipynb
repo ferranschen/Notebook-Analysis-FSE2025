{
 "cells": [
  {
   "cell_type": "code",
   "execution_count": 1,
   "id": "efcc2bd6",
   "metadata": {
    "execution": {
     "iopub.execute_input": "2023-05-10T02:16:37.738189Z",
     "iopub.status.busy": "2023-05-10T02:16:37.738076Z",
     "iopub.status.idle": "2023-05-10T02:16:38.387039Z",
     "shell.execute_reply": "2023-05-10T02:16:38.386729Z"
    }
   },
   "outputs": [
    {
     "name": "stdout",
     "output_type": "stream",
     "text": [
      "tensor([[0.9794, 0.0446, 0.9425],\n",
      "        [0.5333, 0.3077, 0.9591],\n",
      "        [0.4227, 0.8807, 0.9751],\n",
      "        [0.7777, 0.7065, 0.2645],\n",
      "        [0.0256, 0.8101, 0.2584]])\n"
     ]
    }
   ],
   "source": [
    "import torch\n",
    "x = torch.rand(5, 3)\n",
    "print(x)"
   ]
  },
  {
   "cell_type": "code",
   "execution_count": 2,
   "id": "784e3974",
   "metadata": {
    "execution": {
     "iopub.execute_input": "2023-05-10T02:16:38.388599Z",
     "iopub.status.busy": "2023-05-10T02:16:38.388455Z",
     "iopub.status.idle": "2023-05-10T02:16:40.961823Z",
     "shell.execute_reply": "2023-05-10T02:16:40.961177Z"
    }
   },
   "outputs": [
    {
     "name": "stdout",
     "output_type": "stream",
     "text": [
      "\u001b[33mWARNING: Ignoring invalid distribution -umpy (/opt/anaconda3/lib/python3.9/site-packages)\u001b[0m\r\n",
      "\u001b[33mWARNING: Ignoring invalid distribution -umpy (/opt/anaconda3/lib/python3.9/site-packages)\u001b[0m\r\n",
      "Requirement already satisfied: torch in /opt/anaconda3/lib/python3.9/site-packages (1.13.1)\r\n",
      "Requirement already satisfied: typing-extensions in /opt/anaconda3/lib/python3.9/site-packages (from torch) (4.5.0)\r\n",
      "\u001b[33mWARNING: Ignoring invalid distribution -umpy (/opt/anaconda3/lib/python3.9/site-packages)\u001b[0m\r\n"
     ]
    },
    {
     "name": "stdout",
     "output_type": "stream",
     "text": [
      "\u001b[33mWARNING: Ignoring invalid distribution -umpy (/opt/anaconda3/lib/python3.9/site-packages)\u001b[0m\r\n",
      "\u001b[33mWARNING: Ignoring invalid distribution -umpy (/opt/anaconda3/lib/python3.9/site-packages)\u001b[0m\r\n",
      "\u001b[33mWARNING: Ignoring invalid distribution -umpy (/opt/anaconda3/lib/python3.9/site-packages)\u001b[0m\r\n"
     ]
    }
   ],
   "source": [
    "get_ipython().system('pip install torch')"
   ]
  },
  {
   "cell_type": "code",
   "execution_count": 3,
   "id": "f10f544b",
   "metadata": {
    "execution": {
     "iopub.execute_input": "2023-05-10T02:16:40.964802Z",
     "iopub.status.busy": "2023-05-10T02:16:40.964571Z",
     "iopub.status.idle": "2023-05-10T02:16:43.576287Z",
     "shell.execute_reply": "2023-05-10T02:16:43.575610Z"
    }
   },
   "outputs": [
    {
     "name": "stdout",
     "output_type": "stream",
     "text": [
      "\u001b[33mWARNING: Ignoring invalid distribution -umpy (/opt/anaconda3/lib/python3.9/site-packages)\u001b[0m\r\n",
      "\u001b[33mWARNING: Ignoring invalid distribution -umpy (/opt/anaconda3/lib/python3.9/site-packages)\u001b[0m\r\n",
      "Requirement already satisfied: torch in /opt/anaconda3/lib/python3.9/site-packages (1.13.1)\r\n",
      "Requirement already satisfied: typing-extensions in /opt/anaconda3/lib/python3.9/site-packages (from torch) (4.5.0)\r\n",
      "\u001b[33mWARNING: Ignoring invalid distribution -umpy (/opt/anaconda3/lib/python3.9/site-packages)\u001b[0m\r\n"
     ]
    },
    {
     "name": "stdout",
     "output_type": "stream",
     "text": [
      "\u001b[33mWARNING: Ignoring invalid distribution -umpy (/opt/anaconda3/lib/python3.9/site-packages)\u001b[0m\r\n"
     ]
    },
    {
     "name": "stdout",
     "output_type": "stream",
     "text": [
      "\u001b[33mWARNING: Ignoring invalid distribution -umpy (/opt/anaconda3/lib/python3.9/site-packages)\u001b[0m\r\n",
      "\u001b[33mWARNING: Ignoring invalid distribution -umpy (/opt/anaconda3/lib/python3.9/site-packages)\u001b[0m\r\n"
     ]
    }
   ],
   "source": [
    "get_ipython().system('pip install torch')"
   ]
  },
  {
   "cell_type": "code",
   "execution_count": 4,
   "id": "d6ac7feb",
   "metadata": {
    "execution": {
     "iopub.execute_input": "2023-05-10T02:16:43.579364Z",
     "iopub.status.busy": "2023-05-10T02:16:43.579115Z",
     "iopub.status.idle": "2023-05-10T02:16:43.583222Z",
     "shell.execute_reply": "2023-05-10T02:16:43.582785Z"
    },
    "lines_to_next_cell": 2
   },
   "outputs": [
    {
     "name": "stdout",
     "output_type": "stream",
     "text": [
      "tensor([[0.1002, 0.1731, 0.4165],\n",
      "        [0.5153, 0.1089, 0.9118],\n",
      "        [0.3702, 0.6978, 0.1552],\n",
      "        [0.5023, 0.6861, 0.2025],\n",
      "        [0.9561, 0.7205, 0.3709]])\n"
     ]
    }
   ],
   "source": [
    "import torch\n",
    "x = torch.rand(5, 3)\n",
    "print(x)"
   ]
  }
 ],
 "metadata": {
  "jupytext": {
   "cell_metadata_filter": "-all",
   "main_language": "python",
   "notebook_metadata_filter": "-all"
  },
  "kernelspec": {
   "display_name": "base",
   "language": "python",
   "name": "python3"
  },
  "language_info": {
   "codemirror_mode": {
    "name": "ipython",
    "version": 3
   },
   "file_extension": ".py",
   "mimetype": "text/x-python",
   "name": "python",
   "nbconvert_exporter": "python",
   "pygments_lexer": "ipython3",
   "version": "3.9.12"
  }
 },
 "nbformat": 4,
 "nbformat_minor": 5
}
