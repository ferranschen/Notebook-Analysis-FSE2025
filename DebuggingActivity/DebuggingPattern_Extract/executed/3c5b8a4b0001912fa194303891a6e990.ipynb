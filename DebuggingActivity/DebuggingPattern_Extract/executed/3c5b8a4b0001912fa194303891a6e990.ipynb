{
 "cells": [
  {
   "cell_type": "code",
   "execution_count": 1,
   "id": "cea6bdae",
   "metadata": {
    "execution": {
     "iopub.execute_input": "2023-05-10T01:13:04.645149Z",
     "iopub.status.busy": "2023-05-10T01:13:04.645032Z",
     "iopub.status.idle": "2023-05-10T01:13:05.361740Z",
     "shell.execute_reply": "2023-05-10T01:13:05.361412Z"
    }
   },
   "outputs": [
    {
     "name": "stdout",
     "output_type": "stream",
     "text": [
      "tensor([[0.4337, 0.5946, 0.0691],\n",
      "        [0.1747, 0.1747, 0.4375],\n",
      "        [0.1522, 0.7455, 0.6071],\n",
      "        [0.3686, 0.9024, 0.7715],\n",
      "        [0.4662, 0.9600, 0.4756]])\n"
     ]
    }
   ],
   "source": [
    "import torch\n",
    "x = torch.rand(5, 3)\n",
    "print(x)"
   ]
  },
  {
   "cell_type": "code",
   "execution_count": 2,
   "id": "71c5f8a4",
   "metadata": {
    "execution": {
     "iopub.execute_input": "2023-05-10T01:13:05.363382Z",
     "iopub.status.busy": "2023-05-10T01:13:05.363147Z",
     "iopub.status.idle": "2023-05-10T01:13:07.966270Z",
     "shell.execute_reply": "2023-05-10T01:13:07.965547Z"
    }
   },
   "outputs": [
    {
     "name": "stdout",
     "output_type": "stream",
     "text": [
      "\u001b[33mWARNING: Ignoring invalid distribution -umpy (/opt/anaconda3/lib/python3.9/site-packages)\u001b[0m\r\n",
      "\u001b[33mWARNING: Ignoring invalid distribution -umpy (/opt/anaconda3/lib/python3.9/site-packages)\u001b[0m\r\n",
      "Requirement already satisfied: torch in /opt/anaconda3/lib/python3.9/site-packages (1.13.1)\r\n",
      "Requirement already satisfied: typing-extensions in /opt/anaconda3/lib/python3.9/site-packages (from torch) (4.5.0)\r\n",
      "\u001b[33mWARNING: Ignoring invalid distribution -umpy (/opt/anaconda3/lib/python3.9/site-packages)\u001b[0m\r\n"
     ]
    },
    {
     "name": "stdout",
     "output_type": "stream",
     "text": [
      "\u001b[33mWARNING: Ignoring invalid distribution -umpy (/opt/anaconda3/lib/python3.9/site-packages)\u001b[0m\r\n",
      "\u001b[33mWARNING: Ignoring invalid distribution -umpy (/opt/anaconda3/lib/python3.9/site-packages)\u001b[0m\r\n",
      "\u001b[33mWARNING: Ignoring invalid distribution -umpy (/opt/anaconda3/lib/python3.9/site-packages)\u001b[0m\r\n"
     ]
    }
   ],
   "source": [
    "get_ipython().system('pip install torch')"
   ]
  },
  {
   "cell_type": "code",
   "execution_count": 3,
   "id": "ac9d80a7",
   "metadata": {
    "execution": {
     "iopub.execute_input": "2023-05-10T01:13:07.969404Z",
     "iopub.status.busy": "2023-05-10T01:13:07.969131Z",
     "iopub.status.idle": "2023-05-10T01:13:10.567695Z",
     "shell.execute_reply": "2023-05-10T01:13:10.567086Z"
    }
   },
   "outputs": [
    {
     "name": "stdout",
     "output_type": "stream",
     "text": [
      "\u001b[33mWARNING: Ignoring invalid distribution -umpy (/opt/anaconda3/lib/python3.9/site-packages)\u001b[0m\r\n"
     ]
    },
    {
     "name": "stdout",
     "output_type": "stream",
     "text": [
      "\u001b[33mWARNING: Ignoring invalid distribution -umpy (/opt/anaconda3/lib/python3.9/site-packages)\u001b[0m\r\n",
      "Requirement already satisfied: torch in /opt/anaconda3/lib/python3.9/site-packages (1.13.1)\r\n",
      "Requirement already satisfied: typing-extensions in /opt/anaconda3/lib/python3.9/site-packages (from torch) (4.5.0)\r\n",
      "\u001b[33mWARNING: Ignoring invalid distribution -umpy (/opt/anaconda3/lib/python3.9/site-packages)\u001b[0m\r\n"
     ]
    },
    {
     "name": "stdout",
     "output_type": "stream",
     "text": [
      "\u001b[33mWARNING: Ignoring invalid distribution -umpy (/opt/anaconda3/lib/python3.9/site-packages)\u001b[0m\r\n",
      "\u001b[33mWARNING: Ignoring invalid distribution -umpy (/opt/anaconda3/lib/python3.9/site-packages)\u001b[0m\r\n",
      "\u001b[33mWARNING: Ignoring invalid distribution -umpy (/opt/anaconda3/lib/python3.9/site-packages)\u001b[0m\r\n"
     ]
    }
   ],
   "source": [
    "get_ipython().system('pip install torch')"
   ]
  },
  {
   "cell_type": "code",
   "execution_count": 4,
   "id": "ed8e431c",
   "metadata": {
    "execution": {
     "iopub.execute_input": "2023-05-10T01:13:10.571116Z",
     "iopub.status.busy": "2023-05-10T01:13:10.570703Z",
     "iopub.status.idle": "2023-05-10T01:13:10.574901Z",
     "shell.execute_reply": "2023-05-10T01:13:10.574500Z"
    },
    "lines_to_next_cell": 2
   },
   "outputs": [
    {
     "name": "stdout",
     "output_type": "stream",
     "text": [
      "tensor([[0.2189, 0.0416, 0.3993],\n",
      "        [0.1536, 0.1278, 0.1408],\n",
      "        [0.9886, 0.2544, 0.2790],\n",
      "        [0.4841, 0.3053, 0.7355],\n",
      "        [0.1814, 0.5549, 0.7323]])\n"
     ]
    }
   ],
   "source": [
    "import torch\n",
    "x = torch.rand(5, 3)\n",
    "print(x)"
   ]
  }
 ],
 "metadata": {
  "jupytext": {
   "cell_metadata_filter": "-all",
   "main_language": "python",
   "notebook_metadata_filter": "-all"
  },
  "kernelspec": {
   "display_name": "base",
   "language": "python",
   "name": "python3"
  },
  "language_info": {
   "codemirror_mode": {
    "name": "ipython",
    "version": 3
   },
   "file_extension": ".py",
   "mimetype": "text/x-python",
   "name": "python",
   "nbconvert_exporter": "python",
   "pygments_lexer": "ipython3",
   "version": "3.9.12"
  }
 },
 "nbformat": 4,
 "nbformat_minor": 5
}
