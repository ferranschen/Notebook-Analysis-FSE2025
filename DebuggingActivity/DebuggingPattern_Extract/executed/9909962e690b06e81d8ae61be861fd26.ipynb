{
 "cells": [
  {
   "cell_type": "markdown",
   "id": "68b38619",
   "metadata": {},
   "source": [
    "- IMPORT THE LIBRARIES YOU WILL USE\n",
    "------------------------------------------\n",
    "You only need to import packages one time per notebook session. To keep your\n",
    "notebook clean and organized you can handle all imports at the top of your file.\n",
    "The following are included for example purposed, feel free to modify or delete \n",
    "anything in this section."
   ]
  },
  {
   "cell_type": "code",
   "execution_count": 1,
   "id": "2175412b",
   "metadata": {
    "execution": {
     "iopub.execute_input": "2023-05-10T01:11:24.469038Z",
     "iopub.status.busy": "2023-05-10T01:11:24.468560Z",
     "iopub.status.idle": "2023-05-10T01:11:24.906582Z",
     "shell.execute_reply": "2023-05-10T01:11:24.906283Z"
    }
   },
   "outputs": [],
   "source": [
    "import os\n",
    "import csv\n",
    "#import pandas as pd\n",
    "import pandas\n",
    "import numpy as np\n",
    "from google.cloud import bigquery\n",
    "from google.oauth2 import service_account\n",
    "from google.cloud.bigquery import magics"
   ]
  },
  {
   "cell_type": "code",
   "execution_count": 2,
   "id": "2b683bf7",
   "metadata": {
    "execution": {
     "iopub.execute_input": "2023-05-10T01:11:24.908397Z",
     "iopub.status.busy": "2023-05-10T01:11:24.908256Z",
     "iopub.status.idle": "2023-05-10T01:11:27.611372Z",
     "shell.execute_reply": "2023-05-10T01:11:27.611072Z"
    }
   },
   "outputs": [
    {
     "name": "stdout",
     "output_type": "stream",
     "text": [
      "\u001b[33mWARNING: Ignoring invalid distribution -umpy (/opt/anaconda3/lib/python3.9/site-packages)\u001b[0m\r\n",
      "\u001b[33mWARNING: Ignoring invalid distribution -umpy (/opt/anaconda3/lib/python3.9/site-packages)\u001b[0m\r\n",
      "Requirement already satisfied: lightgbm in /opt/anaconda3/lib/python3.9/site-packages (3.3.5)\r\n",
      "Requirement already satisfied: wheel in /opt/anaconda3/lib/python3.9/site-packages (from lightgbm) (0.37.0)\r\n",
      "Requirement already satisfied: scikit-learn!=0.22.0 in /opt/anaconda3/lib/python3.9/site-packages (from lightgbm) (1.2.2)\r\n",
      "Requirement already satisfied: numpy in /opt/anaconda3/lib/python3.9/site-packages (from lightgbm) (1.22.4)\r\n",
      "Requirement already satisfied: scipy in /opt/anaconda3/lib/python3.9/site-packages (from lightgbm) (1.7.1)\r\n",
      "Requirement already satisfied: threadpoolctl>=2.0.0 in /opt/anaconda3/lib/python3.9/site-packages (from scikit-learn!=0.22.0->lightgbm) (2.2.0)\r\n",
      "Requirement already satisfied: joblib>=1.1.1 in /opt/anaconda3/lib/python3.9/site-packages (from scikit-learn!=0.22.0->lightgbm) (1.2.0)\r\n",
      "\u001b[33mWARNING: Ignoring invalid distribution -umpy (/opt/anaconda3/lib/python3.9/site-packages)\u001b[0m\r\n"
     ]
    },
    {
     "name": "stdout",
     "output_type": "stream",
     "text": [
      "\u001b[33mWARNING: Ignoring invalid distribution -umpy (/opt/anaconda3/lib/python3.9/site-packages)\u001b[0m\r\n",
      "\u001b[33mWARNING: Ignoring invalid distribution -umpy (/opt/anaconda3/lib/python3.9/site-packages)\u001b[0m\r\n",
      "\u001b[33mWARNING: Ignoring invalid distribution -umpy (/opt/anaconda3/lib/python3.9/site-packages)\u001b[0m\r\n"
     ]
    },
    {
     "ename": "ModuleNotFoundError",
     "evalue": "No module named 'lightgbm'",
     "output_type": "error",
     "traceback": [
      "\u001b[0;31m---------------------------------------------------------------------------\u001b[0m",
      "\u001b[0;31mModuleNotFoundError\u001b[0m                       Traceback (most recent call last)",
      "Cell \u001b[0;32mIn [2], line 3\u001b[0m\n\u001b[1;32m      1\u001b[0m get_ipython()\u001b[38;5;241m.\u001b[39msystem(\u001b[38;5;124m'\u001b[39m\u001b[38;5;124mpip install lightgbm\u001b[39m\u001b[38;5;124m'\u001b[39m)\n\u001b[1;32m      2\u001b[0m \u001b[38;5;28;01mimport\u001b[39;00m \u001b[38;5;21;01mdb_dtypes\u001b[39;00m\n\u001b[0;32m----> 3\u001b[0m \u001b[38;5;28;01mimport\u001b[39;00m \u001b[38;5;21;01mlightgbm\u001b[39;00m \u001b[38;5;28;01mas\u001b[39;00m \u001b[38;5;21;01mlgb\u001b[39;00m\n\u001b[1;32m      4\u001b[0m \u001b[38;5;66;03m#print(\"OK\")\u001b[39;00m\n",
      "\u001b[0;31mModuleNotFoundError\u001b[0m: No module named 'lightgbm'"
     ]
    }
   ],
   "source": [
    "get_ipython().system('pip install lightgbm')\n",
    "import db_dtypes\n",
    "import lightgbm as lgb\n",
    "#print(\"OK\")"
   ]
  },
  {
   "cell_type": "code",
   "execution_count": 3,
   "id": "af5446c5",
   "metadata": {
    "execution": {
     "iopub.execute_input": "2023-05-10T01:11:27.613190Z",
     "iopub.status.busy": "2023-05-10T01:11:27.612932Z",
     "iopub.status.idle": "2023-05-10T01:11:27.619822Z",
     "shell.execute_reply": "2023-05-10T01:11:27.619488Z"
    }
   },
   "outputs": [],
   "source": [
    "BIGQUERY_PROJECT = 'ironhacks-data'\n",
    "bigquery_client = bigquery.Client(project=BIGQUERY_PROJECT)"
   ]
  },
  {
   "cell_type": "code",
   "execution_count": 4,
   "id": "669d6588",
   "metadata": {
    "execution": {
     "iopub.execute_input": "2023-05-10T01:11:27.621551Z",
     "iopub.status.busy": "2023-05-10T01:11:27.621422Z",
     "iopub.status.idle": "2023-05-10T01:11:30.255910Z",
     "shell.execute_reply": "2023-05-10T01:11:30.255249Z"
    }
   },
   "outputs": [
    {
     "name": "stdout",
     "output_type": "stream",
     "text": [
      "\u001b[33mWARNING: Ignoring invalid distribution -umpy (/opt/anaconda3/lib/python3.9/site-packages)\u001b[0m\r\n",
      "\u001b[33mWARNING: Ignoring invalid distribution -umpy (/opt/anaconda3/lib/python3.9/site-packages)\u001b[0m\r\n",
      "Requirement already satisfied: db-dtypes in /opt/anaconda3/lib/python3.9/site-packages (1.0.5)\r\n",
      "Requirement already satisfied: packaging>=17.0 in /opt/anaconda3/lib/python3.9/site-packages (from db-dtypes) (21.3)\r\n",
      "Requirement already satisfied: numpy<2.0dev,>=1.16.6 in /opt/anaconda3/lib/python3.9/site-packages (from db-dtypes) (1.22.4)\r\n",
      "Requirement already satisfied: pandas<2.0dev,>=0.24.2 in /opt/anaconda3/lib/python3.9/site-packages (from db-dtypes) (1.5.3)\r\n",
      "Requirement already satisfied: pyarrow>=3.0.0 in /opt/anaconda3/lib/python3.9/site-packages (from db-dtypes) (10.0.1)\r\n",
      "Requirement already satisfied: pyparsing!=3.0.5,>=2.0.2 in /opt/anaconda3/lib/python3.9/site-packages (from packaging>=17.0->db-dtypes) (3.0.4)\r\n",
      "Requirement already satisfied: python-dateutil>=2.8.1 in /opt/anaconda3/lib/python3.9/site-packages (from pandas<2.0dev,>=0.24.2->db-dtypes) (2.8.2)\r\n",
      "Requirement already satisfied: pytz>=2020.1 in /opt/anaconda3/lib/python3.9/site-packages (from pandas<2.0dev,>=0.24.2->db-dtypes) (2021.3)\r\n",
      "Requirement already satisfied: six>=1.5 in /opt/anaconda3/lib/python3.9/site-packages (from python-dateutil>=2.8.1->pandas<2.0dev,>=0.24.2->db-dtypes) (1.16.0)\r\n",
      "\u001b[33mWARNING: Ignoring invalid distribution -umpy (/opt/anaconda3/lib/python3.9/site-packages)\u001b[0m\r\n"
     ]
    },
    {
     "name": "stdout",
     "output_type": "stream",
     "text": [
      "\u001b[33mWARNING: Ignoring invalid distribution -umpy (/opt/anaconda3/lib/python3.9/site-packages)\u001b[0m\r\n",
      "\u001b[33mWARNING: Ignoring invalid distribution -umpy (/opt/anaconda3/lib/python3.9/site-packages)\u001b[0m\r\n",
      "\u001b[33mWARNING: Ignoring invalid distribution -umpy (/opt/anaconda3/lib/python3.9/site-packages)\u001b[0m\r\n"
     ]
    }
   ],
   "source": [
    "!pip install db-dtypes"
   ]
  },
  {
   "cell_type": "code",
   "execution_count": 5,
   "id": "b369d36f",
   "metadata": {
    "execution": {
     "iopub.execute_input": "2023-05-10T01:11:30.259189Z",
     "iopub.status.busy": "2023-05-10T01:11:30.258782Z",
     "iopub.status.idle": "2023-05-10T01:11:30.261927Z",
     "shell.execute_reply": "2023-05-10T01:11:30.261489Z"
    }
   },
   "outputs": [],
   "source": [
    "query = \"\"\"\n",
    "SELECT *\n",
    "FROM `ironhacks-data.ironhacks_competition.prediction_list`\n",
    "\"\"\""
   ]
  },
  {
   "cell_type": "code",
   "execution_count": 6,
   "id": "0a36f2e5",
   "metadata": {
    "execution": {
     "iopub.execute_input": "2023-05-10T01:11:30.264136Z",
     "iopub.status.busy": "2023-05-10T01:11:30.263991Z",
     "iopub.status.idle": "2023-05-10T01:11:32.342400Z",
     "shell.execute_reply": "2023-05-10T01:11:32.341459Z"
    }
   },
   "outputs": [
    {
     "data": {
      "text/html": [
       "<div>\n",
       "<style scoped>\n",
       "    .dataframe tbody tr th:only-of-type {\n",
       "        vertical-align: middle;\n",
       "    }\n",
       "\n",
       "    .dataframe tbody tr th {\n",
       "        vertical-align: top;\n",
       "    }\n",
       "\n",
       "    .dataframe thead th {\n",
       "        text-align: right;\n",
       "    }\n",
       "</style>\n",
       "<table border=\"1\" class=\"dataframe\">\n",
       "  <thead>\n",
       "    <tr style=\"text-align: right;\">\n",
       "      <th></th>\n",
       "      <th>uu_id</th>\n",
       "      <th>week_number</th>\n",
       "    </tr>\n",
       "  </thead>\n",
       "  <tbody>\n",
       "    <tr>\n",
       "      <th>0</th>\n",
       "      <td>5bf51fc2e162d6faf9e3cf79e4198378</td>\n",
       "      <td>44</td>\n",
       "    </tr>\n",
       "    <tr>\n",
       "      <th>1</th>\n",
       "      <td>420b44cc7e3f55d738df565421e59941</td>\n",
       "      <td>44</td>\n",
       "    </tr>\n",
       "    <tr>\n",
       "      <th>2</th>\n",
       "      <td>e39c66ecceec76ee8f9f811fa4a2d246</td>\n",
       "      <td>44</td>\n",
       "    </tr>\n",
       "    <tr>\n",
       "      <th>3</th>\n",
       "      <td>a90462cd11ae4e43144239bf7c4828a4</td>\n",
       "      <td>44</td>\n",
       "    </tr>\n",
       "    <tr>\n",
       "      <th>4</th>\n",
       "      <td>8b20a6749088c7ff1237983076ebfeaa</td>\n",
       "      <td>44</td>\n",
       "    </tr>\n",
       "  </tbody>\n",
       "</table>\n",
       "</div>"
      ],
      "text/plain": [
       "                              uu_id  week_number\n",
       "0  5bf51fc2e162d6faf9e3cf79e4198378           44\n",
       "1  420b44cc7e3f55d738df565421e59941           44\n",
       "2  e39c66ecceec76ee8f9f811fa4a2d246           44\n",
       "3  a90462cd11ae4e43144239bf7c4828a4           44\n",
       "4  8b20a6749088c7ff1237983076ebfeaa           44"
      ]
     },
     "execution_count": 6,
     "metadata": {},
     "output_type": "execute_result"
    }
   ],
   "source": [
    "query_job = bigquery_client.query(query)\n",
    "df_unemployment = query_job.to_dataframe()\n",
    "df_unemployment.head()"
   ]
  },
  {
   "cell_type": "code",
   "execution_count": 7,
   "id": "47854b15",
   "metadata": {
    "execution": {
     "iopub.execute_input": "2023-05-10T01:11:32.346282Z",
     "iopub.status.busy": "2023-05-10T01:11:32.345942Z",
     "iopub.status.idle": "2023-05-10T01:11:36.788060Z",
     "shell.execute_reply": "2023-05-10T01:11:36.787384Z"
    }
   },
   "outputs": [
    {
     "name": "stdout",
     "output_type": "stream",
     "text": [
      "\u001b[33mWARNING: Ignoring invalid distribution -umpy (/opt/anaconda3/lib/python3.9/site-packages)\u001b[0m\r\n",
      "\u001b[33mWARNING: Ignoring invalid distribution -umpy (/opt/anaconda3/lib/python3.9/site-packages)\u001b[0m\r\n",
      "Requirement already satisfied: db-dtypes in /opt/anaconda3/lib/python3.9/site-packages (1.0.5)\r\n",
      "Requirement already satisfied: packaging>=17.0 in /opt/anaconda3/lib/python3.9/site-packages (from db-dtypes) (21.3)\r\n",
      "Requirement already satisfied: pandas<2.0dev,>=0.24.2 in /opt/anaconda3/lib/python3.9/site-packages (from db-dtypes) (1.5.3)\r\n",
      "Requirement already satisfied: numpy<2.0dev,>=1.16.6 in /opt/anaconda3/lib/python3.9/site-packages (from db-dtypes) (1.22.4)\r\n",
      "Requirement already satisfied: pyarrow>=3.0.0 in /opt/anaconda3/lib/python3.9/site-packages (from db-dtypes) (10.0.1)\r\n",
      "Requirement already satisfied: pyparsing!=3.0.5,>=2.0.2 in /opt/anaconda3/lib/python3.9/site-packages (from packaging>=17.0->db-dtypes) (3.0.4)\r\n",
      "Requirement already satisfied: python-dateutil>=2.8.1 in /opt/anaconda3/lib/python3.9/site-packages (from pandas<2.0dev,>=0.24.2->db-dtypes) (2.8.2)\r\n",
      "Requirement already satisfied: pytz>=2020.1 in /opt/anaconda3/lib/python3.9/site-packages (from pandas<2.0dev,>=0.24.2->db-dtypes) (2021.3)\r\n",
      "Requirement already satisfied: six>=1.5 in /opt/anaconda3/lib/python3.9/site-packages (from python-dateutil>=2.8.1->pandas<2.0dev,>=0.24.2->db-dtypes) (1.16.0)\r\n",
      "\u001b[33mWARNING: Ignoring invalid distribution -umpy (/opt/anaconda3/lib/python3.9/site-packages)\u001b[0m\r\n"
     ]
    },
    {
     "name": "stdout",
     "output_type": "stream",
     "text": [
      "\u001b[33mWARNING: Ignoring invalid distribution -umpy (/opt/anaconda3/lib/python3.9/site-packages)\u001b[0m\r\n",
      "\u001b[33mWARNING: Ignoring invalid distribution -umpy (/opt/anaconda3/lib/python3.9/site-packages)\u001b[0m\r\n",
      "\u001b[33mWARNING: Ignoring invalid distribution -umpy (/opt/anaconda3/lib/python3.9/site-packages)\u001b[0m\r\n"
     ]
    },
    {
     "data": {
      "text/html": [
       "<div>\n",
       "<style scoped>\n",
       "    .dataframe tbody tr th:only-of-type {\n",
       "        vertical-align: middle;\n",
       "    }\n",
       "\n",
       "    .dataframe tbody tr th {\n",
       "        vertical-align: top;\n",
       "    }\n",
       "\n",
       "    .dataframe thead th {\n",
       "        text-align: right;\n",
       "    }\n",
       "</style>\n",
       "<table border=\"1\" class=\"dataframe\">\n",
       "  <thead>\n",
       "    <tr style=\"text-align: right;\">\n",
       "      <th></th>\n",
       "      <th>uu_id</th>\n",
       "      <th>timeperiod</th>\n",
       "      <th>week_number</th>\n",
       "      <th>countyfips</th>\n",
       "      <th>tract</th>\n",
       "      <th>tract_name</th>\n",
       "      <th>total_claims</th>\n",
       "      <th>edu_8th_or_less</th>\n",
       "      <th>edu_grades_9_11</th>\n",
       "      <th>edu_hs_grad_equiv</th>\n",
       "      <th>...</th>\n",
       "      <th>gender_female</th>\n",
       "      <th>gender_male</th>\n",
       "      <th>gender_na</th>\n",
       "      <th>race_amerindian</th>\n",
       "      <th>race_asian</th>\n",
       "      <th>race_black</th>\n",
       "      <th>race_noanswer</th>\n",
       "      <th>race_hawaiiannative</th>\n",
       "      <th>race_other</th>\n",
       "      <th>race_white</th>\n",
       "    </tr>\n",
       "  </thead>\n",
       "  <tbody>\n",
       "    <tr>\n",
       "      <th>0</th>\n",
       "      <td>f013068de98db1470bd986137a0c6d23</td>\n",
       "      <td>20220416</td>\n",
       "      <td>16</td>\n",
       "      <td>18003</td>\n",
       "      <td>900</td>\n",
       "      <td>Census Tract 9, Allen County, Indiana</td>\n",
       "      <td>22</td>\n",
       "      <td>0</td>\n",
       "      <td>&lt;NA&gt;</td>\n",
       "      <td>14</td>\n",
       "      <td>...</td>\n",
       "      <td>&lt;NA&gt;</td>\n",
       "      <td>&lt;NA&gt;</td>\n",
       "      <td>0</td>\n",
       "      <td>0</td>\n",
       "      <td>0</td>\n",
       "      <td>11</td>\n",
       "      <td>0</td>\n",
       "      <td>0</td>\n",
       "      <td>&lt;NA&gt;</td>\n",
       "      <td>&lt;NA&gt;</td>\n",
       "    </tr>\n",
       "    <tr>\n",
       "      <th>1</th>\n",
       "      <td>21957d5517323845818d87623589e1ba</td>\n",
       "      <td>20220319</td>\n",
       "      <td>12</td>\n",
       "      <td>18089</td>\n",
       "      <td>10400</td>\n",
       "      <td>Census Tract 104, Lake County, Indiana</td>\n",
       "      <td>111</td>\n",
       "      <td>0</td>\n",
       "      <td>&lt;NA&gt;</td>\n",
       "      <td>108</td>\n",
       "      <td>...</td>\n",
       "      <td>76</td>\n",
       "      <td>35</td>\n",
       "      <td>0</td>\n",
       "      <td>0</td>\n",
       "      <td>0</td>\n",
       "      <td>&lt;NA&gt;</td>\n",
       "      <td>&lt;NA&gt;</td>\n",
       "      <td>0</td>\n",
       "      <td>0</td>\n",
       "      <td>0</td>\n",
       "    </tr>\n",
       "    <tr>\n",
       "      <th>2</th>\n",
       "      <td>6a5609f385912113b6f1014b958ed748</td>\n",
       "      <td>20220326</td>\n",
       "      <td>13</td>\n",
       "      <td>18089</td>\n",
       "      <td>11500</td>\n",
       "      <td>Census Tract 115, Lake County, Indiana</td>\n",
       "      <td>39</td>\n",
       "      <td>0</td>\n",
       "      <td>&lt;NA&gt;</td>\n",
       "      <td>&lt;NA&gt;</td>\n",
       "      <td>...</td>\n",
       "      <td>&lt;NA&gt;</td>\n",
       "      <td>&lt;NA&gt;</td>\n",
       "      <td>0</td>\n",
       "      <td>0</td>\n",
       "      <td>0</td>\n",
       "      <td>39</td>\n",
       "      <td>0</td>\n",
       "      <td>0</td>\n",
       "      <td>0</td>\n",
       "      <td>0</td>\n",
       "    </tr>\n",
       "    <tr>\n",
       "      <th>3</th>\n",
       "      <td>46b2882ec4c373527ec33f7bd4f1388d</td>\n",
       "      <td>20220716</td>\n",
       "      <td>29</td>\n",
       "      <td>18089</td>\n",
       "      <td>20700</td>\n",
       "      <td>Census Tract 207, Lake County, Indiana</td>\n",
       "      <td>14</td>\n",
       "      <td>0</td>\n",
       "      <td>&lt;NA&gt;</td>\n",
       "      <td>&lt;NA&gt;</td>\n",
       "      <td>...</td>\n",
       "      <td>&lt;NA&gt;</td>\n",
       "      <td>&lt;NA&gt;</td>\n",
       "      <td>0</td>\n",
       "      <td>0</td>\n",
       "      <td>&lt;NA&gt;</td>\n",
       "      <td>10</td>\n",
       "      <td>0</td>\n",
       "      <td>0</td>\n",
       "      <td>&lt;NA&gt;</td>\n",
       "      <td>&lt;NA&gt;</td>\n",
       "    </tr>\n",
       "    <tr>\n",
       "      <th>4</th>\n",
       "      <td>37495d17e82f7df326bfc2c4c090f7b7</td>\n",
       "      <td>20220409</td>\n",
       "      <td>15</td>\n",
       "      <td>18089</td>\n",
       "      <td>21900</td>\n",
       "      <td>Census Tract 219, Lake County, Indiana</td>\n",
       "      <td>155</td>\n",
       "      <td>0</td>\n",
       "      <td>&lt;NA&gt;</td>\n",
       "      <td>69</td>\n",
       "      <td>...</td>\n",
       "      <td>90</td>\n",
       "      <td>65</td>\n",
       "      <td>0</td>\n",
       "      <td>0</td>\n",
       "      <td>0</td>\n",
       "      <td>135</td>\n",
       "      <td>&lt;NA&gt;</td>\n",
       "      <td>&lt;NA&gt;</td>\n",
       "      <td>&lt;NA&gt;</td>\n",
       "      <td>&lt;NA&gt;</td>\n",
       "    </tr>\n",
       "  </tbody>\n",
       "</table>\n",
       "<p>5 rows × 25 columns</p>\n",
       "</div>"
      ],
      "text/plain": [
       "                              uu_id  timeperiod  week_number  countyfips  \\\n",
       "0  f013068de98db1470bd986137a0c6d23    20220416           16       18003   \n",
       "1  21957d5517323845818d87623589e1ba    20220319           12       18089   \n",
       "2  6a5609f385912113b6f1014b958ed748    20220326           13       18089   \n",
       "3  46b2882ec4c373527ec33f7bd4f1388d    20220716           29       18089   \n",
       "4  37495d17e82f7df326bfc2c4c090f7b7    20220409           15       18089   \n",
       "\n",
       "   tract                              tract_name  total_claims  \\\n",
       "0    900   Census Tract 9, Allen County, Indiana            22   \n",
       "1  10400  Census Tract 104, Lake County, Indiana           111   \n",
       "2  11500  Census Tract 115, Lake County, Indiana            39   \n",
       "3  20700  Census Tract 207, Lake County, Indiana            14   \n",
       "4  21900  Census Tract 219, Lake County, Indiana           155   \n",
       "\n",
       "   edu_8th_or_less  edu_grades_9_11  edu_hs_grad_equiv  ...  gender_female  \\\n",
       "0                0             <NA>                 14  ...           <NA>   \n",
       "1                0             <NA>                108  ...             76   \n",
       "2                0             <NA>               <NA>  ...           <NA>   \n",
       "3                0             <NA>               <NA>  ...           <NA>   \n",
       "4                0             <NA>                 69  ...             90   \n",
       "\n",
       "   gender_male gender_na race_amerindian race_asian  race_black  \\\n",
       "0         <NA>         0               0          0          11   \n",
       "1           35         0               0          0        <NA>   \n",
       "2         <NA>         0               0          0          39   \n",
       "3         <NA>         0               0       <NA>          10   \n",
       "4           65         0               0          0         135   \n",
       "\n",
       "   race_noanswer  race_hawaiiannative  race_other  race_white  \n",
       "0              0                    0        <NA>        <NA>  \n",
       "1           <NA>                    0           0           0  \n",
       "2              0                    0           0           0  \n",
       "3              0                    0        <NA>        <NA>  \n",
       "4           <NA>                 <NA>        <NA>        <NA>  \n",
       "\n",
       "[5 rows x 25 columns]"
      ]
     },
     "execution_count": 7,
     "metadata": {},
     "output_type": "execute_result"
    }
   ],
   "source": [
    "!pip install db-dtypes\n",
    "query_unemployment = \"\"\"\n",
    "SELECT *\n",
    "FROM `ironhacks-data.ironhacks_competition.unemployment_data` \n",
    "\"\"\"\n",
    "query = bigquery_client.query(query_unemployment)\n",
    "df_unemployment = query.to_dataframe()\n",
    "df_unemployment.head()"
   ]
  },
  {
   "cell_type": "code",
   "execution_count": 8,
   "id": "fd3f9d5a",
   "metadata": {
    "execution": {
     "iopub.execute_input": "2023-05-10T01:11:36.791223Z",
     "iopub.status.busy": "2023-05-10T01:11:36.790953Z",
     "iopub.status.idle": "2023-05-10T01:11:38.390154Z",
     "shell.execute_reply": "2023-05-10T01:11:38.388550Z"
    }
   },
   "outputs": [
    {
     "data": {
      "text/html": [
       "<div>\n",
       "<style scoped>\n",
       "    .dataframe tbody tr th:only-of-type {\n",
       "        vertical-align: middle;\n",
       "    }\n",
       "\n",
       "    .dataframe tbody tr th {\n",
       "        vertical-align: top;\n",
       "    }\n",
       "\n",
       "    .dataframe thead th {\n",
       "        text-align: right;\n",
       "    }\n",
       "</style>\n",
       "<table border=\"1\" class=\"dataframe\">\n",
       "  <thead>\n",
       "    <tr style=\"text-align: right;\">\n",
       "      <th></th>\n",
       "      <th>uu_id</th>\n",
       "      <th>countyfips</th>\n",
       "      <th>tract</th>\n",
       "      <th>tract_name</th>\n",
       "      <th>average_wage</th>\n",
       "    </tr>\n",
       "  </thead>\n",
       "  <tbody>\n",
       "    <tr>\n",
       "      <th>0</th>\n",
       "      <td>585f8731c2255d6b3f817a31180848b9</td>\n",
       "      <td>18177</td>\n",
       "      <td>200</td>\n",
       "      <td>Census Tract 2, Wayne County, Indiana</td>\n",
       "      <td>6612.000000</td>\n",
       "    </tr>\n",
       "    <tr>\n",
       "      <th>1</th>\n",
       "      <td>8c9d2aa90948679972a9382aadcc6001</td>\n",
       "      <td>18177</td>\n",
       "      <td>900</td>\n",
       "      <td>Census Tract 9, Wayne County, Indiana</td>\n",
       "      <td>9883.250000</td>\n",
       "    </tr>\n",
       "    <tr>\n",
       "      <th>2</th>\n",
       "      <td>0f3d45341a5b113b813ffb7be7f58bab</td>\n",
       "      <td>18183</td>\n",
       "      <td>50300</td>\n",
       "      <td>Census Tract 503, Whitley County, Indiana</td>\n",
       "      <td>13992.250000</td>\n",
       "    </tr>\n",
       "    <tr>\n",
       "      <th>3</th>\n",
       "      <td>fb55464f8e34af6d750d06968bf719b8</td>\n",
       "      <td>18183</td>\n",
       "      <td>50400</td>\n",
       "      <td>Census Tract 504, Whitley County, Indiana</td>\n",
       "      <td>13613.500000</td>\n",
       "    </tr>\n",
       "    <tr>\n",
       "      <th>4</th>\n",
       "      <td>983badfd7b568728e39a2344a9006078</td>\n",
       "      <td>18001</td>\n",
       "      <td>30200</td>\n",
       "      <td>Census Tract 302, Adams County, Indiana</td>\n",
       "      <td>11816.666667</td>\n",
       "    </tr>\n",
       "  </tbody>\n",
       "</table>\n",
       "</div>"
      ],
      "text/plain": [
       "                              uu_id  countyfips  tract  \\\n",
       "0  585f8731c2255d6b3f817a31180848b9       18177    200   \n",
       "1  8c9d2aa90948679972a9382aadcc6001       18177    900   \n",
       "2  0f3d45341a5b113b813ffb7be7f58bab       18183  50300   \n",
       "3  fb55464f8e34af6d750d06968bf719b8       18183  50400   \n",
       "4  983badfd7b568728e39a2344a9006078       18001  30200   \n",
       "\n",
       "                                  tract_name  average_wage  \n",
       "0      Census Tract 2, Wayne County, Indiana   6612.000000  \n",
       "1      Census Tract 9, Wayne County, Indiana   9883.250000  \n",
       "2  Census Tract 503, Whitley County, Indiana  13992.250000  \n",
       "3  Census Tract 504, Whitley County, Indiana  13613.500000  \n",
       "4    Census Tract 302, Adams County, Indiana  11816.666667  "
      ]
     },
     "execution_count": 8,
     "metadata": {},
     "output_type": "execute_result"
    }
   ],
   "source": [
    "query_wage = \"\"\"\n",
    "SELECT *\n",
    "FROM `ironhacks-data.ironhacks_competition.wage_data`\n",
    "\"\"\"\n",
    "query = bigquery_client.query(query_wage)\n",
    "df_wage = query.to_dataframe()\n",
    "df_wage.head()"
   ]
  },
  {
   "cell_type": "code",
   "execution_count": 9,
   "id": "42dba033",
   "metadata": {
    "execution": {
     "iopub.execute_input": "2023-05-10T01:11:38.395544Z",
     "iopub.status.busy": "2023-05-10T01:11:38.395121Z",
     "iopub.status.idle": "2023-05-10T01:11:40.166188Z",
     "shell.execute_reply": "2023-05-10T01:11:40.165338Z"
    }
   },
   "outputs": [
    {
     "data": {
      "text/html": [
       "<div>\n",
       "<style scoped>\n",
       "    .dataframe tbody tr th:only-of-type {\n",
       "        vertical-align: middle;\n",
       "    }\n",
       "\n",
       "    .dataframe tbody tr th {\n",
       "        vertical-align: top;\n",
       "    }\n",
       "\n",
       "    .dataframe thead th {\n",
       "        text-align: right;\n",
       "    }\n",
       "</style>\n",
       "<table border=\"1\" class=\"dataframe\">\n",
       "  <thead>\n",
       "    <tr style=\"text-align: right;\">\n",
       "      <th></th>\n",
       "      <th>uu_id</th>\n",
       "      <th>week_number</th>\n",
       "    </tr>\n",
       "  </thead>\n",
       "  <tbody>\n",
       "    <tr>\n",
       "      <th>0</th>\n",
       "      <td>5bf51fc2e162d6faf9e3cf79e4198378</td>\n",
       "      <td>44</td>\n",
       "    </tr>\n",
       "    <tr>\n",
       "      <th>1</th>\n",
       "      <td>420b44cc7e3f55d738df565421e59941</td>\n",
       "      <td>44</td>\n",
       "    </tr>\n",
       "    <tr>\n",
       "      <th>2</th>\n",
       "      <td>e39c66ecceec76ee8f9f811fa4a2d246</td>\n",
       "      <td>44</td>\n",
       "    </tr>\n",
       "    <tr>\n",
       "      <th>3</th>\n",
       "      <td>a90462cd11ae4e43144239bf7c4828a4</td>\n",
       "      <td>44</td>\n",
       "    </tr>\n",
       "    <tr>\n",
       "      <th>4</th>\n",
       "      <td>8b20a6749088c7ff1237983076ebfeaa</td>\n",
       "      <td>44</td>\n",
       "    </tr>\n",
       "  </tbody>\n",
       "</table>\n",
       "</div>"
      ],
      "text/plain": [
       "                              uu_id  week_number\n",
       "0  5bf51fc2e162d6faf9e3cf79e4198378           44\n",
       "1  420b44cc7e3f55d738df565421e59941           44\n",
       "2  e39c66ecceec76ee8f9f811fa4a2d246           44\n",
       "3  a90462cd11ae4e43144239bf7c4828a4           44\n",
       "4  8b20a6749088c7ff1237983076ebfeaa           44"
      ]
     },
     "execution_count": 9,
     "metadata": {},
     "output_type": "execute_result"
    }
   ],
   "source": [
    "query_pred_list = \"\"\"\n",
    "SELECT *\n",
    "FROM `ironhacks-data.ironhacks_competition.prediction_list`\n",
    "\"\"\"\n",
    "query = bigquery_client.query(query_pred_list)\n",
    "df_pred_list = query.to_dataframe()\n",
    "df_pred_list.head()"
   ]
  },
  {
   "cell_type": "code",
   "execution_count": 10,
   "id": "35790551",
   "metadata": {
    "execution": {
     "iopub.execute_input": "2023-05-10T01:11:40.170528Z",
     "iopub.status.busy": "2023-05-10T01:11:40.170098Z",
     "iopub.status.idle": "2023-05-10T01:11:42.426498Z",
     "shell.execute_reply": "2023-05-10T01:11:42.425916Z"
    }
   },
   "outputs": [
    {
     "data": {
      "text/html": [
       "<div>\n",
       "<style scoped>\n",
       "    .dataframe tbody tr th:only-of-type {\n",
       "        vertical-align: middle;\n",
       "    }\n",
       "\n",
       "    .dataframe tbody tr th {\n",
       "        vertical-align: top;\n",
       "    }\n",
       "\n",
       "    .dataframe thead th {\n",
       "        text-align: right;\n",
       "    }\n",
       "</style>\n",
       "<table border=\"1\" class=\"dataframe\">\n",
       "  <thead>\n",
       "    <tr style=\"text-align: right;\">\n",
       "      <th></th>\n",
       "      <th>table_catalog</th>\n",
       "      <th>table_schema</th>\n",
       "      <th>table_name</th>\n",
       "      <th>table_type</th>\n",
       "      <th>is_insertable_into</th>\n",
       "      <th>is_typed</th>\n",
       "      <th>creation_time</th>\n",
       "      <th>base_table_catalog</th>\n",
       "      <th>base_table_schema</th>\n",
       "      <th>base_table_name</th>\n",
       "      <th>snapshot_time_ms</th>\n",
       "      <th>ddl</th>\n",
       "      <th>default_collation_name</th>\n",
       "      <th>upsert_stream_apply_watermark</th>\n",
       "    </tr>\n",
       "  </thead>\n",
       "  <tbody>\n",
       "    <tr>\n",
       "      <th>0</th>\n",
       "      <td>ironhacks-data</td>\n",
       "      <td>ironhacks_competition</td>\n",
       "      <td>wage_data</td>\n",
       "      <td>BASE TABLE</td>\n",
       "      <td>YES</td>\n",
       "      <td>NO</td>\n",
       "      <td>2022-11-29 17:00:10.578000+00:00</td>\n",
       "      <td>None</td>\n",
       "      <td>None</td>\n",
       "      <td>None</td>\n",
       "      <td>NaT</td>\n",
       "      <td>CREATE TABLE `ironhacks-data.ironhacks_competi...</td>\n",
       "      <td>NULL</td>\n",
       "      <td>NaT</td>\n",
       "    </tr>\n",
       "    <tr>\n",
       "      <th>1</th>\n",
       "      <td>ironhacks-data</td>\n",
       "      <td>ironhacks_competition</td>\n",
       "      <td>prediction_list</td>\n",
       "      <td>BASE TABLE</td>\n",
       "      <td>YES</td>\n",
       "      <td>NO</td>\n",
       "      <td>2022-11-29 17:00:10.722000+00:00</td>\n",
       "      <td>None</td>\n",
       "      <td>None</td>\n",
       "      <td>None</td>\n",
       "      <td>NaT</td>\n",
       "      <td>CREATE TABLE `ironhacks-data.ironhacks_competi...</td>\n",
       "      <td>NULL</td>\n",
       "      <td>NaT</td>\n",
       "    </tr>\n",
       "    <tr>\n",
       "      <th>2</th>\n",
       "      <td>ironhacks-data</td>\n",
       "      <td>ironhacks_competition</td>\n",
       "      <td>unemployment_data</td>\n",
       "      <td>BASE TABLE</td>\n",
       "      <td>YES</td>\n",
       "      <td>NO</td>\n",
       "      <td>2022-11-29 17:00:14.588000+00:00</td>\n",
       "      <td>None</td>\n",
       "      <td>None</td>\n",
       "      <td>None</td>\n",
       "      <td>NaT</td>\n",
       "      <td>CREATE TABLE `ironhacks-data.ironhacks_competi...</td>\n",
       "      <td>NULL</td>\n",
       "      <td>NaT</td>\n",
       "    </tr>\n",
       "  </tbody>\n",
       "</table>\n",
       "</div>"
      ],
      "text/plain": [
       "    table_catalog           table_schema         table_name  table_type  \\\n",
       "0  ironhacks-data  ironhacks_competition          wage_data  BASE TABLE   \n",
       "1  ironhacks-data  ironhacks_competition    prediction_list  BASE TABLE   \n",
       "2  ironhacks-data  ironhacks_competition  unemployment_data  BASE TABLE   \n",
       "\n",
       "  is_insertable_into is_typed                    creation_time  \\\n",
       "0                YES       NO 2022-11-29 17:00:10.578000+00:00   \n",
       "1                YES       NO 2022-11-29 17:00:10.722000+00:00   \n",
       "2                YES       NO 2022-11-29 17:00:14.588000+00:00   \n",
       "\n",
       "  base_table_catalog base_table_schema base_table_name snapshot_time_ms  \\\n",
       "0               None              None            None              NaT   \n",
       "1               None              None            None              NaT   \n",
       "2               None              None            None              NaT   \n",
       "\n",
       "                                                 ddl default_collation_name  \\\n",
       "0  CREATE TABLE `ironhacks-data.ironhacks_competi...                   NULL   \n",
       "1  CREATE TABLE `ironhacks-data.ironhacks_competi...                   NULL   \n",
       "2  CREATE TABLE `ironhacks-data.ironhacks_competi...                   NULL   \n",
       "\n",
       "  upsert_stream_apply_watermark  \n",
       "0                           NaT  \n",
       "1                           NaT  \n",
       "2                           NaT  "
      ]
     },
     "execution_count": 10,
     "metadata": {},
     "output_type": "execute_result"
    }
   ],
   "source": [
    "query_schema = \"\"\"\n",
    "SELECT *\n",
    "FROM `ironhacks-data.ironhacks_competition.INFORMATION_SCHEMA.TABLES`\n",
    "\"\"\"\n",
    "query = bigquery_client.query(query_schema)\n",
    "df_schema = query.to_dataframe()\n",
    "df_schema.head()"
   ]
  },
  {
   "cell_type": "code",
   "execution_count": 11,
   "id": "b227cfb5",
   "metadata": {
    "execution": {
     "iopub.execute_input": "2023-05-10T01:11:42.429848Z",
     "iopub.status.busy": "2023-05-10T01:11:42.429405Z",
     "iopub.status.idle": "2023-05-10T01:11:42.433815Z",
     "shell.execute_reply": "2023-05-10T01:11:42.433306Z"
    }
   },
   "outputs": [
    {
     "data": {
      "text/plain": [
       "(525, 2)"
      ]
     },
     "execution_count": 11,
     "metadata": {},
     "output_type": "execute_result"
    }
   ],
   "source": [
    "df_unemployment.shape\n",
    "df_wage.shape\n",
    "df_schema.shape\n",
    "df_pred_list.shape"
   ]
  },
  {
   "cell_type": "code",
   "execution_count": 12,
   "id": "818e07c1",
   "metadata": {
    "execution": {
     "iopub.execute_input": "2023-05-10T01:11:42.436678Z",
     "iopub.status.busy": "2023-05-10T01:11:42.436347Z",
     "iopub.status.idle": "2023-05-10T01:11:42.439743Z",
     "shell.execute_reply": "2023-05-10T01:11:42.439154Z"
    }
   },
   "outputs": [
    {
     "name": "stdout",
     "output_type": "stream",
     "text": [
      "(16833, 25)\n",
      "(525, 5)\n",
      "(3, 14)\n",
      "(525, 2)\n"
     ]
    }
   ],
   "source": [
    "print(df_unemployment.shape)\n",
    "print(df_wage.shape)\n",
    "print(df_schema.shape)\n",
    "print(df_pred_list.shape)"
   ]
  },
  {
   "cell_type": "code",
   "execution_count": 13,
   "id": "eb3f010f",
   "metadata": {
    "execution": {
     "iopub.execute_input": "2023-05-10T01:11:42.442307Z",
     "iopub.status.busy": "2023-05-10T01:11:42.442134Z",
     "iopub.status.idle": "2023-05-10T01:11:42.445156Z",
     "shell.execute_reply": "2023-05-10T01:11:42.444782Z"
    }
   },
   "outputs": [
    {
     "name": "stdout",
     "output_type": "stream",
     "text": [
      "(16833, 25)\n",
      "(525, 5)\n",
      "(525, 2)\n",
      "(3, 14)\n"
     ]
    }
   ],
   "source": [
    "print(df_unemployment.shape)\n",
    "print(df_wage.shape)\n",
    "print(df_pred_list.shape)\n",
    "print(df_schema.shape)"
   ]
  },
  {
   "cell_type": "code",
   "execution_count": 14,
   "id": "35ed89e5",
   "metadata": {
    "execution": {
     "iopub.execute_input": "2023-05-10T01:11:42.447239Z",
     "iopub.status.busy": "2023-05-10T01:11:42.447057Z",
     "iopub.status.idle": "2023-05-10T01:11:42.449559Z",
     "shell.execute_reply": "2023-05-10T01:11:42.449080Z"
    }
   },
   "outputs": [
    {
     "name": "stdout",
     "output_type": "stream",
     "text": [
      "OK\n"
     ]
    }
   ],
   "source": [
    "print(\"OK\")"
   ]
  },
  {
   "cell_type": "code",
   "execution_count": 15,
   "id": "d1485a0e",
   "metadata": {
    "execution": {
     "iopub.execute_input": "2023-05-10T01:11:42.451662Z",
     "iopub.status.busy": "2023-05-10T01:11:42.451511Z",
     "iopub.status.idle": "2023-05-10T01:11:42.455111Z",
     "shell.execute_reply": "2023-05-10T01:11:42.454758Z"
    }
   },
   "outputs": [
    {
     "name": "stdout",
     "output_type": "stream",
     "text": [
      "['5bf51fc2e162d6faf9e3cf79e4198378' '420b44cc7e3f55d738df565421e59941'\n",
      " 'e39c66ecceec76ee8f9f811fa4a2d246' 'a90462cd11ae4e43144239bf7c4828a4'\n",
      " '8b20a6749088c7ff1237983076ebfeaa' '489a93264d03adecc4589fd9cd34ad36'\n",
      " 'f61f291c865fe4fe2bfd6dad53e5d058' 'f4520092ddd64f380cc29f27329112a6'\n",
      " '447d5984bb8a8179bff002ccd1bba162' '56d73815bdda97aca8e26051183ed3ba'\n",
      " '050a624d618a68e43fe31189909c644f' '5c43cbf8f0d860e91a9160706ea9b7d8'\n",
      " '1400fd6122c6fe7582a30ee1280beb4b' '02a7b845ab6b3fc2c09a50cdc486db2a'\n",
      " 'a993d47c7143bed2a187b0cac7d17983' '09fbf26479f644ad33186ec51a90d65d'\n",
      " 'ce8723e47ce346b09bc20deb5d27749e' 'b67c2c4abede3730932f8d53aba0341a'\n",
      " '68e5bdd9fde563b534c8a38dfddb6146' '445ccda085809824099ff41f0ed427e5'\n",
      " '5a2c726a9af1492d08478394a7938cc8' 'e7e08825e5ce14c08ad265c2bfc40227'\n",
      " 'd42203d57e7b727be6c74adb6ec01f29' '627f0516c61e02f14a399ff99aaf141c'\n",
      " '676fffaaecefffe4ce93ca264c5c3c36' '7322dfe92403d20403f7a527ba733641'\n",
      " 'd6a4947ec7c2a78bd32ba4e30f3bba53' '1ba8e8f6caf333a10ab33d1add51b960'\n",
      " 'a0e42a2440ccd1dffe96a0d4cc4a8952' '9dd9614f2619fd1b8397cabdb3f2248a'\n",
      " 'd7a8af51ca8eb58392ab833bc0ae516b' '592f2bae77a77f0721533ce7f3926d64'\n",
      " '3934b01a1e31d0a6af96867e1afbf03c' 'c2e8e1c1da5aa1482049619b9f50efca'\n",
      " 'e4e2fbc655aa5270695f8a48f7180cab' 'f25446d4d951867ca7b984ad17c6c1e0'\n",
      " 'ba71cfee2a23d7d3f0845cb5d6f1476f' '03ba3a9a63be1a5423457246f2846292'\n",
      " '20db450280ec6846d7a829a6ba40ccac' '3c887b182d660a9a6b874c5f9b4f3f61'\n",
      " '358cb073759d71d8abe8d6eaf7a3ead5' '7ee27423441d3bced123afcec6335da8'\n",
      " 'b3a4cfbf22f45360e7fb11d1f8f86b9e' 'f4156396854199e5d45a23248e03e379'\n",
      " 'aeb668565350951c2e5b983ca5d18873' '6239669cbfe444abd0a46536a670d150'\n",
      " '2a0f380e277560b810399f7c6a01e76e' '152a373901a20ade58dc56c1f6ef9b96'\n",
      " 'b1d41e64e8d10b7c427570a7f77f1826' '4084f9199d73deb5cf6dd200a5db1c80'\n",
      " '592a852d462dffe18312976a3da5b7d8' '89ca758dd8e4958d6e8e32ccb439c638'\n",
      " 'ce64452a172b006bd45b3c1f147c88c1' '6c316cb2fc150a2f9fd50925926fc1f8'\n",
      " '461637d0edf7d72b7ca711e7b019553e' '44585653fcc97ff048845c7718889631'\n",
      " '20f6fd3e9f0d1f997481861655cad7e4' '3ac19461ea7efd6c892f9aba99ca55cd'\n",
      " 'eccf545fec3a624430ee4b264e4d7c3e' '56851c8621607ae081c4e5bfc667057d'\n",
      " '51af2e559924bc5ac87f549c8779ba37' '4a6ae3b5be1b9b7c10c177e1b9fded82'\n",
      " '4f38233021d41195c29f0a206e75a77e' '3d5c4d633d7c5171d91cc9a073eceb3a'\n",
      " 'c06321bd819be6f5c537c67a2797bd12' '91ec70e2da02ad3cb9ae962a7452be48'\n",
      " '7df3e38fbdab0a32ca0fa9fb6c8bd8c4' '5b8dd5be2b1e709f1cde61ab9438a8cb'\n",
      " '5c16723691805b4b6a90bce32128b6c9' '2094eb904cf826728093f0e2713d2e30'\n",
      " '58313733000358ab97030c3688616a8b' '196c37e49c98e0b8cdd142c001431a7a'\n",
      " 'eb17558d218dbd25eef1e19ecc78248a' 'bc9128e5845a9ef736ccbd42b96f0030'\n",
      " 'e847a8217e0447f92b06d59fa7c88982' '772f54511e2ccdad04e4fc903bbd19cc'\n",
      " '1b7425c1ee8dc2465ef939286316744c' 'cbcb0e04d6b21520dd35c88e304e0a08'\n",
      " '5e819ecea31bac6db64c0ccf48818fa8' '9e943f3dccee65ed33733a794a4d030e'\n",
      " '3f20a7038f07e774663e01dea8a04cd0' 'd2fb0b2935cd696dc7681a74797e86b7'\n",
      " 'ee9da2a37f88c1f0e922757286c26270' 'd6623f71978a56f75cbc167fd3b935f4'\n",
      " '8ce569bbea13d8c92615e2cff87dcb0d' '15118b0768fba87d2ac7770249b5fb36'\n",
      " '5e9480dba0f8de932f4d9fb55fa6b8b1' '516a760c644c21ff41a8cd20b6fb73bf'\n",
      " 'c5ec684089ebc4b152d4bc616685ad1d' '0eadc4f22396980ecc2e7878ffbaf14a'\n",
      " 'bf8df4bed5c89ab2aca38cc649b8038e' '8d7022c454fc05456cfb4b9cadf5f109'\n",
      " '5846c7b267dc6e4b00863277e3582f80' 'edcb2ff4e70a0437347f07e2dd6867e8'\n",
      " 'c8c87872fa559a2fd200ded474e8a8ad' '35ada71743cfb77aca10c389e36caa28'\n",
      " '6803d35ef14c26cc19b7d9dacaa80672' 'db0fbb4c6e88a74d6387efab221c1a7a'\n",
      " 'fec479d0202d6e1e3f051a9ee902ff5d' '7f9c903be0e820137bd63ee9e9a97af8'\n",
      " '5f7f03a3797bb112aaadac83bc654303' '5977eb9301db6dd318dcf44eee64439c'\n",
      " 'b81bda93a68e51718e7e3f272961f9b4' 'bd42c9bae54ed298a8281caf7b699ff6'\n",
      " '9748c8d4f8762b4636a18fc95cb596a4' 'fb55464f8e34af6d750d06968bf719b8'\n",
      " '7c570ea23642d08f4e1dac443dfca6c0' '24c8b349877e075f8d1b3b4e73dd4a53'\n",
      " 'def0c3fa02633394cd2b5041de7710ac' '99c1cb11273b064dc48649886138eb8e'\n",
      " '33eee76748953453ca6ea4ba51515157' 'b537d7f73173f1a4227001cef49d1222'\n",
      " '3a40f9f36533037a0dc9f426b87bf8d5' '60946318ef5818fdfd1e931128ef391a'\n",
      " '9b461ff4ed0094dc132cb01b2e1db9ba' '142aacf840a655687cc387024c43dada'\n",
      " '19c0ba2728a6971ff9c1301f3bf17f59' '48d1b41c0e356998f9f60ea534f1326f'\n",
      " 'e50bc1df1b2b46879a29c009cf17654e' '75db3baff27b92ecda8651b35117d356'\n",
      " '6f483941cceef95c97d28b4f904a0d57' 'd0808351616eaf2e1d5d36d52e6cb669'\n",
      " 'f75b648bd705d4bce859fb3cbb02997f' '862f88264e4bdb239089465784dbe203'\n",
      " 'a04177f6fbc3ba8065f2681089a0fad7' 'cd572640b6e423db8fd7ad50ef0b4473'\n",
      " '93c603c6ec0389076b9f852f9250a231' '05298117cbe0fd69f04f89c83aaac091'\n",
      " '8c9d2aa90948679972a9382aadcc6001' '778946d9696cd6c95f57e8b1e6336389'\n",
      " '16b7c822c473ad7ae97c31f156448fd1' '9059885d1cfb186d078f691eafd6a24d'\n",
      " '17eb58bb239f3bad95a6cac384c3db8f' 'f1bebcc62175d8c0c05ba9e63aa68b2e'\n",
      " '5744a323eb20d22fbe14f2913989cb86' '3611ab4b321d4532f1f18b13d1fd3b93'\n",
      " '574ff76bf046909190b36c41ec5ad4ad' '348c852abba65f89cd8af9395d6069d8'\n",
      " 'a01b6cfa3022893470d884ca2534202c' '395702b93c95499f70d36073ba97df97'\n",
      " '5530c743ed9acfbd5d9ce30aa9b5a394' 'bf3bb60ad8c35a1dc9aba30880f8dbb8'\n",
      " '4da27496ea51392169807ce30edde6bf' '8baa08eb0d7462333382e51f72737b14'\n",
      " '8d4837b174344462ac0acf31aced69e2' 'c008e7a443149c9d5894c5b3d5373140'\n",
      " '7dd5fff353cd08adc694aa74d7fa31af' '009683350b175edfc6414d664e4ba873'\n",
      " 'd526897e467bdc956bbf1d1a7d1f22c0' '7e3e3d2f2f2b4f20fa63c425271e08e4'\n",
      " 'b8114861c419dc4c0cdbbc07a943b2b9' '39a100d6d185266c9a61f621e3461ca9'\n",
      " 'a0875049afbd1cb4735e07c03fb8baae' 'f142e2854cb3408a0daf85c0d1f97e74'\n",
      " 'bba6b4d023cec7812f6b6c30c570b278' '9067053e8719d5cd878ba6351d817310'\n",
      " '1ec881fbb0021331b2b29c95049284fb' '50247c509e6c47b550a516f66e35c1d1'\n",
      " '34e6adeedc3b344eb183a0b5e8b4b774' '32686c399e21429791a419c0146217c9'\n",
      " 'e4c3463c4a946e9301a4f64830eac663' 'ab1993483e82e85b729f5d958120d50d'\n",
      " 'd78d5eaa3a43f2a71683ae0f05ce3a8f' 'bcf10911a28373ba22a779145eaa9942'\n",
      " '32ce6ba7f7da17932e0e3c53f69f366b' '639c126e54c9418b800800b6626d118e'\n",
      " '442a1b8f964352b0845991efdfe0a83a' '2ce8c1fbabbed69343d1af45e99c4839'\n",
      " '7b4b81e3e66af9462dc475aa2e7427a1' '1a37add233259107b266614f22bffd9b'\n",
      " '4b64982fb643e7eee44ce1ef8929cb44' 'db27f7d84ea8ef691d33dbb715272977'\n",
      " 'd1e34bb3edb270f7321788fd307f170e' '666c7361f0603c0cb4b783beddb796d8'\n",
      " '370a5fb730297d91eb3443d50582515e' '747f8bc2b0c8c0a04d29caa4cfe327d2'\n",
      " 'aea09a8d8901d51bb5c67eabc50f4379' '94f1f3cc229ef12ee0659de4ab3b4e94'\n",
      " '5b5f642bf566e944c9bdac9840bf1e81' '82b9ea58ff3d04a35df8deba80644a0e'\n",
      " '47ef7e3c1efab409502a8e4c675654f6' 'f38aacf279329cbb0fd7807a9ddc6f6c'\n",
      " 'd65e188a0e2d9d0b2efdfcf6a1b81783' '52341b7215e0fb673d35b8a9638eeecf'\n",
      " 'd192c7de73aa0a21fb4d99766e5b1b89' 'f328006c7c2a699678d33c97ed0b5dde'\n",
      " '17f8641c080bd91fd39d6767f211beb1' 'f5702bec0e2b40b4c9987e6d656b2721'\n",
      " 'ca479a7052cd4e84391854e800362169' '461f4a6d476cf7257e9b4ab8b9371885'\n",
      " '984ffa38c6fdcecc2b57bbcadee3f81f' 'abf354f67e94370068c7141648efe147'\n",
      " 'a7745ca5549c5be27faf5ff747401ccc' '8932b66a9b94dcf03c942facc50ff401'\n",
      " '06e492b4f29d153af26c659d1f7da2a1' 'e36c60ce269cf6f779cc1e9957f80857'\n",
      " '69274b987d26fbed84eb7d2b157badb6' '4fcf06b3645f8cb516215da638ce5f7f'\n",
      " '663b0660c9f85a475e5b7ce499dc48a3' '70077360c4805acada195b59cbbe1c78'\n",
      " '2dedb86602589ad3cf8a09380ce032d1' 'dfa86215568c869a2e94ce3e5fcf1661'\n",
      " '0f3d45341a5b113b813ffb7be7f58bab' '48752f9ac7c72819e56bcccceefee7a6'\n",
      " '6bc590ccd895d32877228c363a07d90f' 'a21252ae119bf94fb9343a9d279b1f09'\n",
      " 'cd070689c07788f255dab0f996474640' '6b22ecccaddde4516a88c6981373daf3'\n",
      " '124fe6d04692c372ffc4f84fc99f480d' 'd4b2ea25bfcbac86f18ca67712e9ab4f'\n",
      " 'a253da9e1d743c9579e25c1b69a05eb2' '2b6b2f2e6d3340e7d9ae46cd41eaef1b'\n",
      " '6ac331ecae4b7e4dd2750893612331f9' '5aef70478b1bb50e1207bb1864a03ab0'\n",
      " 'b94dcf22caa499f548c25164e13a8aba' '8ed377ac3767ffda176fcdea40bcd7e4'\n",
      " 'a633db168b2c85a2f98be4bd877894d6' '63fc3e82740fcc3de0e5cf76fb4f96fe'\n",
      " '939e1edba462129ca3442d7e80e3a6df' '6cd923e2eebf6dbd10f781e8a35e4a99'\n",
      " '27a707c98b1a2316dd00df2309a628c4' 'bc7ebe1813e2b66f084289e1b1172f21'\n",
      " 'd7fccf988f1d2e7ec1a105f974835ef8' 'c08958366558975968a93e9087aed6db'\n",
      " '4869240f378dd59f04a0a083c0fe6c03' '51a955afdcc0c4de1b57a881226925c0'\n",
      " 'aef08e5cd6bbf488ae574e9462f3e47b' '001cd9ae23064d7f0fd3cd327c873d8d'\n",
      " '94cfe2eeb9088207be40c491c2b8524e' '1901b891f05515a8c22c05ef58baba38'\n",
      " '5c034ab90d217bb1b993b22daaf1c27e' '0ad94f09274e2c9cb0ef5cb77eb334b4'\n",
      " 'f7f087af0599e6b2eaa4045ba1a0be50' 'dd4faebf6a4c2dc95a361236f215caee'\n",
      " 'cdfe175e21e14759b98d9dc9ad03fb10' '6a5609f385912113b6f1014b958ed748'\n",
      " 'fd613eba867c6ad7350a937f743b88f2' 'f85ba39277c72bdc3ded77985721b991'\n",
      " '97e5bdffc50e369922a89c3946a92e44' 'e0e676badd59e9b1f2ecf853d2ca1ecb'\n",
      " 'ae2f6787bb01d859420365f1ab55a3c1' 'cc4a424e97a09fe72e5e9597c12af1df'\n",
      " '1f53903c302f96fd0e8a36d02364bbca' '983badfd7b568728e39a2344a9006078'\n",
      " 'cbc5bb11c092796a7127a349ae8ab045' 'b57c8824284adeabf73b43cf206b3819'\n",
      " 'dd012c5266c9843f1049d7d012b18ed0' 'd4ab328be737d00b398dc4d48963e2a1'\n",
      " '8b737a167ef2e623abed4c4243ed8b8d' 'cb09047c9bc2c7afd2d74daa905f68bf'\n",
      " 'd3bf31d4fda5dd60330943a904ac5d5a' '8b3b762a9010e36e084aae4c305d1b06'\n",
      " 'a21afcba89ef782fc3d2696b6a60f9c2' '06c78e49b4daedfeb808c42e58fb25e4'\n",
      " 'e654962bff96a16d2ce4a43206ca72b1' 'b96eda75e8ffe638fff75143380a7ae6'\n",
      " '2686710e45843273cb902096aee8d8ab' 'f4f5baac978b6ad7f401d5925bc77311'\n",
      " '007c1caccff1fbb3a0b8a10790f77141' '33f8f477e670b3cac704f4c0faa6e318'\n",
      " 'b2aedbc721bb3852961092b0c46eab8e' '5db93f554d0a9df617e6e51043049dc4'\n",
      " 'cbbc75242459ad8a30fba8f8119a5521' '07306ce64b3496b7955efaaf7509d73c'\n",
      " 'b768694827b9ce3faa76db5daf06e523' 'b25e809679da1728ba3638a9fb418257'\n",
      " '26c71b31d464bc7bedc8aed7e5c6e641' '695e104bd84215f8226793190ee20baf'\n",
      " '5091d0be49e94dc89756d9b0dd743214' '7eeae8c98cf4678be80f35a01f25fe6c'\n",
      " '4338a76c28b57d89da8a28cf06adcf73' '6b778af080e42bb4b461bbc4ed1b666c'\n",
      " '5f9844eb68630b75decbafdfa4974943' '3224483a60925de51923d51b10a00141'\n",
      " '00f962ce727b8dbbf20925abd5a253dd' '3fafd824892198e078c4dfcd6a26d7cf'\n",
      " '4cf5a6ca5bc512af4d9c656eaeb4d279' '2b4f94600254e0f271c110161e841358'\n",
      " '21957d5517323845818d87623589e1ba' '2420ca4ef50459c0bcc8fdeb8ee35a68'\n",
      " '953e68b130eaa59a171dc28d594d5303' '0dc217a2798a141c59b99f5bcff29fa9'\n",
      " 'a7a6e62bcc876979d5f02bdec82c9869' '3b64b154b842527478b03e19c11e300b'\n",
      " 'f0fdfe3859cd89a7d30ff7f15e2f06df' '98c85fec4b8bf095a732ab363e0b2ff3'\n",
      " '48ac5846d8d781fd5b7c6a863a572359' 'cd9e56779d1e78b55ee14e0e9d48f5ab'\n",
      " '8f782a6153268c6031e31784e2d4eae2' '1988578e35b2d1211f45cee910250ca6'\n",
      " 'f35320206f3dd1ffc411e4ac127caf92' '9200a2b83d869882f514fa76e6bcd05c'\n",
      " 'bf9e1cf78ce5a29fb59c7e634d596263' '7a3c45dff186e7416bc95abd6668f65b'\n",
      " '9883a286690ddb549fd39aff729f83ee' '437523120b5bcbb4f6f5502c8216f2d0'\n",
      " '5ba7caaa7b10591d00eec45bf939284c' 'c672051724f43ece79af744a5e47668f'\n",
      " '68153b89651358b0e4dab495d4feb3e9' '33c4302fb88e93ea520a346fe2853209'\n",
      " 'ce8b2c0e11c538921c39c06b298d2393' 'b63901e116eff9653b0bb68135364147'\n",
      " 'ef76030f911b99b664285c543a238775' 'e8110fa2ab61007365cb825240af25dd'\n",
      " 'c0391823af85ef75df9d031878d35b5d' '074f501122885ab9aef5e9d07004209d'\n",
      " '63cf0d83a2d02d554965073e71e93e08' '931e7312a52b294244e6e05d33134c1e'\n",
      " '67407bf95ef751acc3accd630226b53d' '1fe978b588e12780393047c4294e4c8a'\n",
      " '4c612ffd5f49d054536c369580b91474' 'b63efd0868b06138b7c8f9da9027e457'\n",
      " '58c85b68415bc08c49b2a430cee9f2f9' 'fe355ff27aa8b2242a558d5e3ec99c18'\n",
      " 'd75d4e493e871d3eb24b1d348ef440a0' '25f9cfb8488ebf12f28e2bf44754984d'\n",
      " 'dd240f0580c98aeff68dfc9ab6a19b4a' '0d165590afad07ce71727d690f4aad80'\n",
      " 'da68e5b292b530606ce5e2f7d9fb4342' '16b9d35c6d253c30527eb2de8d2d1bb9'\n",
      " '81594c0c7e4ef4c4cdbb7133d01cb361' 'f6d5c6d9c9f4d5b9e178ba482f663970'\n",
      " '7aad2bd27761397960e7f2e139ad0b9e' '2d19305e3ee06c83f1247ddda5c70d57'\n",
      " '38e264ca88c300dc19938de0abc88ec4' 'fa339582e0e0e47497dbe039bb00b19f'\n",
      " '4765514a954c2fc3eb7c1993662e60e9' 'ce9d46e559d5457a59ce3b288f2f8e7d'\n",
      " '842c96eacb965c2a1c0cbd6e51a7f741' '14ceb8012cb1b912044297c8933cfcfc'\n",
      " 'f45fb7ce83b62c22c577bca121fdb2c1' '1fc50fb37c0734d85581fe5e605fe7c5'\n",
      " '4258714000b9209afeb28e3032d8873d' 'b84d48cb3e210ed3d4ae5522c752bd43'\n",
      " 'c676fe3aef9660b4e225ac44d2e1174b' '7e1a4171a3a5fdf83696d9179174d4cd'\n",
      " 'bd98af28b14ebbd3d45f05570ad9b72b' '3193b3205553224c47be06622d7b044d'\n",
      " '99b418342eb86b3aba7061fb1b7584a8' 'a01d4790949ed9261a56c55a5eb2c239'\n",
      " 'a7dee09e9fbf07ce1c880016b3e69f35' '42dec75b5a3b02de7908789cc6649e6d'\n",
      " 'fa18717cd28da214ea9a38210fd9dd14' '005be9532fd717dc36d4be318fd9ad25'\n",
      " 'a20575f25400fc50aa8377e345b97d41' '221c00f760916b30c2df9eff2bc6dc25'\n",
      " '66d134a595bd52251321d496ae2f4e0b' '6c1ad176e4007cf241439f6113a927ca'\n",
      " 'dacd3e932f6546f12ba6b7f3e711a0ed' '2abe33dadcdb70181a2f693df31247a7'\n",
      " '7b208b710114a393f20ec464c7849157' '7b1f33221592c5bc981035ecfcd359f9'\n",
      " '4ca0a1c6a388982e4526ff6843825010' 'a490a9038c51aee1aa41a969308340a8'\n",
      " '42606376eba36d3065753ab0013f4c14' 'fca0703f480d461a24d0b68fd994815e'\n",
      " 'fcf9f3effa992cfd552696e4ae7219b6' 'bbcb018f0e5e49e13636f6e78ce9f60f'\n",
      " '4988189262a81dbef85220422f5277fd' '96b3d9311ce32f929ecc8f989d9656e2'\n",
      " 'c82ff1f157906a6e9c37a08989544676' 'dfaf614469f9c8f10d64ceefd9cde4a9'\n",
      " '85093fc593ca8c7bc3d9f86346c0c830' '1f74f4cecfe9b89fd0350fc0995e8362'\n",
      " '6505dba31a2e5fa96251a7ba5d2fc1a0' '7c8e4a2171c253411138d6e3a4399620'\n",
      " '12fbd01c7d92945acd93e0d44a8bed88' '99c75ff0ed83b04f57a0f99dfc1b05b2'\n",
      " 'b8801e9acd413ba93922af95ab5bc392' '9a890bcd3def2cd1ad8270f81fe8adaf'\n",
      " '618bd975f55a022bd54daf828c1f7ce5' '47f0290645712229fd4f8f1fe7dc6b05'\n",
      " '5b266c11201654ddb90d1a80cf294645' '46c92d587470f0bc73b7474ac0fd41ca'\n",
      " '1bd2241076381b8c9e85d660512a013e' '46e96d9a3529a65f56d9e6a8dd33fc87'\n",
      " 'dc370d6cb5c3688ac7fa00f9ee56b4bd' '8ac85c3e00e200910bf73b909d6f970b'\n",
      " '3eaeeb015822cc1c6b77c914fae0d087' '2ddb832dc6e28aba32224f559c5f0b63'\n",
      " '441519fbb02b948549a2593f0c6a8211' '2e6f7ee3f6f1ea9096625cbcb38e54cd'\n",
      " 'a5c01f891423feb7623ecfbeea6d103c' '37495d17e82f7df326bfc2c4c090f7b7'\n",
      " '147837d751cb44500754e9620204f8d6' '45c8cf419dd4c4b442dbf3603ba94379'\n",
      " 'fcfc60d8240e5a51f878fd92e2a352a3' '50088293eaca82f8c05e74c7aa38733f'\n",
      " '0e6523fb3fc17f6a2ac7050972bd4bfd' '7cf24c78c601ab6a16ab1607a5426d29'\n",
      " 'f0c359ea042cfbb7b690ca3b78fd7f60' '13b7d682e844ec03d93ed9b77e08e022'\n",
      " '6d4dc6590c52c9b265d5003bf90ddbbb' '7e2478517261a19d87c0ab2e737fb25f'\n",
      " 'c5db45ff8e2b39f40b282e2cb7e5584a' 'c1f22c61eea660c6176bb4452a7f58b9'\n",
      " '65c933853ba6f9ad80097936c2924aa6' 'dc2a4f701fccdca97a2a8522f607db76'\n",
      " '3098ba7b30da9acf99e1d491a22e01e5' 'dbaba98befa4fc0363b337d5148dd896'\n",
      " '10bd992d086c48a05cb0f1e3df1e20f1' 'd4ce127aa5a02d0660970041b98e3005'\n",
      " 'd022be7b24f488153a47c5ebaec904eb' '241f741bee0eb0ce595304d106811776'\n",
      " '7953cef088684d6a82637fe6a9e7e7a8' '6e585a6e6fc9cd621d7f73b92c292214'\n",
      " '7ab86f26bdf5e743b0f0adf08df559e3' '2788f24947b2fc8fcc0ded4a4403d9ff'\n",
      " '63b65e67206ef8201d3df16a8fc518b7' 'e99e2af4a924268f8dae0beba680b0bf'\n",
      " 'cb304c84e572423d939db1dbb2009609' '6657c9871fa2f67cd168e6f94354060e'\n",
      " '4ed4b67acaf7b9c4d039e01d9d8c4b6a' '6fbb60a508283bc1fb30c13ac419941a'\n",
      " '5fe0dbe328785bc4e6bfe3b5609cf17d' 'e4786a617066d9d27fc324a1120c76f8'\n",
      " '67bbd99237964244c2ad3d0531394291' 'b49552ef5ef12e825e2ac8be26b54033'\n",
      " '2db2c67aed99c51c9d00d01f14030608' 'dbe44146ae677a77353f803391928966'\n",
      " 'f43fb9e90c5ecf879016b159aaa17fcb' '3a6f00be69a3da3b1cacfd1019865c0c'\n",
      " '6877b5946ab2ee471e4c546252057f29' 'e76b18c02d69bdf2a261b733fd441673'\n",
      " 'b08f608e6e2018affd0eadc6217cd9d6' '9d137c34d4598e4f67aac16df77037e0'\n",
      " '179a3fb4630992ff1f9112970d61f00f' 'cfd973395338c6049c4ffea98214e90c'\n",
      " '2a7f196a773a4dce36a9f57828d1104f' 'd637ac269ed7d8542ec0a524d629ffaf'\n",
      " '11a50500827cd49f0ae130201184724f' '9ee08e65a6fc00045b2c609903e65603'\n",
      " '1baabe619d226c9e7f1ef756fb41432b' '36c489a05d6a987ff961fdc67ccadbc1'\n",
      " 'b5dd82a5d296b283ded47e0110ce386d' '4368ac6502dd50bc209781d0d0f660f4'\n",
      " 'd9f6293ea290fd5f01904c594b5a90b9' 'b7d1ab1b8c062f0098dc3ce8ff59a821'\n",
      " '9c7e7feff195285d5b7a47369b68bc4e' '44610534f2a03a72609764f95834c7f8'\n",
      " '55b3a08bb5ac8ee0f151cd2f7440f246' '0aed17ab54d56c6651d331418e8db6be'\n",
      " 'a5af04cc361abb2597b7aeda9c8f05f5' 'c3f6bd78c860c5b2f1f94361ce313085'\n",
      " 'adf57413c8c1462b6c066f14034bea53' 'a086a7bd8569dff6d9c4fe7db247e86d'\n",
      " '0bdc0df962a3c10541c2aa5220ded58b' '8eef3f1453830d1939aae4e774e87c53'\n",
      " '46b2882ec4c373527ec33f7bd4f1388d' '24f871b664684c15caad90bc237ff40d'\n",
      " 'c54e262cc40c41b9095dcb5e08ce6e71' '2456c31231ec5a6931f78f305668d39a'\n",
      " '98e63567a2f4907c9cb2637247651530' 'b249b93771413c68f826e6583566f645'\n",
      " '7bff91298a7f07d1cdcc7cb13c49eb41' '8267c703abd7db102110ec19c18ae372'\n",
      " 'a514bda8b5262164df92063a50786753' '52f393e27a5d94231575ab9bfa341bcf'\n",
      " '601ff2c0fd709298f6644ad0e766b2d6' '74c5fdc6aac736fa7cf9b5d45c501a03'\n",
      " '248b6a72aba270fd9794b41f53813d5e' '1e86730cef0c1021f0048c175fc96184'\n",
      " 'ce3e58980b9240213bd8ea1fbbefd044' '585f8731c2255d6b3f817a31180848b9'\n",
      " '4a22571b2563761671604973ba849ef5' '258c76c5552e3c876c3e24e9658c0205'\n",
      " 'bff474e03c775cd4d326df7044b6911e' '25a57fe39e03c632125308737a7d3769'\n",
      " '733d0fa66aa7cad3330acffe30d6dc17' 'dce4bc75ebe72c6785278052e0af100c'\n",
      " '9a8d8797ae3765b4ca946803c38b8ea6' '2a62116efd5f9a6da7b4ce2803eba96d'\n",
      " '481b365a771dc6d05bcfa5e38cf33731' '2835004b63bf80d6929a55a6d14842e1'\n",
      " 'e8f426c17a7172179be379cb926bd278' 'a949965ca25205c4fb8f47bac724b832'\n",
      " '6167d550c0cdd68c799d372c5df97acb' 'f013068de98db1470bd986137a0c6d23'\n",
      " '10f34862aa77995d009553a1de67db4f' 'd199aebcfab8dd5f47f9a2d645e5e25d'\n",
      " 'b7dd087ca5fc64edaad0e6d8ea34bd82' 'd6d6aa73853ad771aaf7f972661fd2e6'\n",
      " '05f47cc80d60a67d61e891e2b90c2045' '8236e0d2df83f079ad33ff54ad4e518b'\n",
      " '3ebec5c7e13f05f1772dae73f3a1f5e0' 'abd614b6bace46049b465469a384ac0b'\n",
      " '184e8a1febbf737c9865b40ac43d92ee' '318f8580dab148310f87b072fd9f6c9f'\n",
      " 'dc43d4854e85174fd42fe2e9c3c66f12' '8dad735d80cf4a1768bbf15c68e3afa7'\n",
      " '34ace0fda1bd8217d5cd6928f682a2c7' 'cf7ee51cf57f0c735f70a2696fff59a8'\n",
      " 'a5d7cec02c6005b044e40dd7a42ce4d2' 'adf09caf6306aab8015ea16df0efab86'\n",
      " '6bdcabb0a40d03f8901d1d0e4a5124dc' '5c04f20bd2f8552aa7ac210dc01292fb'\n",
      " '451262a076827ead70bf9e87ef6d4840' 'bef4a61635998c4d1b2b18327892a332'\n",
      " 'f70960d492c2fd067680a14baa0f66e9' '8cc5579ada546380bcf2663e0692e520'\n",
      " '0abaea6bbc30d7cf8dbacc64727e7091' '3aa0a81e436042726e3913394182a6eb'\n",
      " '4e47a34030916597b6293593de5016a2' '53405bf66812a9f2623a307de572c11e'\n",
      " 'd44e7a9d13d3730892b6ffff9af4d595' 'adef8f4cb061376c14393d4fb9ab3f89'\n",
      " 'a0c62bdce75bc5e1d047eae6ab6046ad' '9c62c3bead53d866799d5195059566e6'\n",
      " '5c79d376ac31aa05924b3adaf6460644' '7b67eb2512a721025efe5cb967a38aff'\n",
      " '1f24014b092a7ba6a1faaac5edaac47b' 'cfeb7a55105a6e277ebef7dc3df83ffc'\n",
      " '18792af8852f8d0c77371eb582a87ef9' '471301a66d4c4feb1f474cf934be8999'\n",
      " '99fc3cb44cdaf10cc69506d7c92b6466' '65f24aac652de33abaf3f227b41e2641'\n",
      " '2af35a38ee1416c5532a5e35425ecbb8' 'f63ddd4e3eb78163c5b06897f160db5f'\n",
      " '89399fcb71863c561d2a2703d8bd4a15' 'bc281215b12aa7a7b7ef1c769027e041'\n",
      " '46c4f6c75e663b1ca82ea7994e6d83d3' '1deebda501712e7595b531b8337bc31a'\n",
      " '5a9758f65f001b6432ff31ff64a459d7' 'e8b3b95e93a6dc7dbb90f4e72e7ac065'\n",
      " '932a58530abff8a48558e2a15639d453']\n"
     ]
    }
   ],
   "source": [
    "print(df_pred_list[\"uu_id\"].unique())"
   ]
  },
  {
   "cell_type": "code",
   "execution_count": 16,
   "id": "07ce7bc6",
   "metadata": {
    "execution": {
     "iopub.execute_input": "2023-05-10T01:11:42.456992Z",
     "iopub.status.busy": "2023-05-10T01:11:42.456866Z",
     "iopub.status.idle": "2023-05-10T01:11:42.459427Z",
     "shell.execute_reply": "2023-05-10T01:11:42.459101Z"
    }
   },
   "outputs": [
    {
     "name": "stdout",
     "output_type": "stream",
     "text": [
      "<IntegerArray>\n",
      "[44]\n",
      "Length: 1, dtype: Int64\n"
     ]
    }
   ],
   "source": [
    "print(df_pred_list[\"week_number\"].unique())"
   ]
  },
  {
   "cell_type": "code",
   "execution_count": 17,
   "id": "4a23cf4e",
   "metadata": {
    "execution": {
     "iopub.execute_input": "2023-05-10T01:11:42.461089Z",
     "iopub.status.busy": "2023-05-10T01:11:42.460977Z",
     "iopub.status.idle": "2023-05-10T01:11:42.463140Z",
     "shell.execute_reply": "2023-05-10T01:11:42.462847Z"
    }
   },
   "outputs": [
    {
     "name": "stdout",
     "output_type": "stream",
     "text": [
      "1\n"
     ]
    }
   ],
   "source": [
    "print(df_pred_list[\"week_number\"].unique().size) # 39"
   ]
  },
  {
   "cell_type": "code",
   "execution_count": 18,
   "id": "a96387f4",
   "metadata": {
    "execution": {
     "iopub.execute_input": "2023-05-10T01:11:42.464759Z",
     "iopub.status.busy": "2023-05-10T01:11:42.464631Z",
     "iopub.status.idle": "2023-05-10T01:11:42.467485Z",
     "shell.execute_reply": "2023-05-10T01:11:42.467193Z"
    }
   },
   "outputs": [
    {
     "name": "stdout",
     "output_type": "stream",
     "text": [
      "525\n"
     ]
    }
   ],
   "source": [
    "print(df_unemployment[\"uu_id\"].unique().size) # 39"
   ]
  },
  {
   "cell_type": "code",
   "execution_count": 19,
   "id": "76bde838",
   "metadata": {
    "execution": {
     "iopub.execute_input": "2023-05-10T01:11:42.469065Z",
     "iopub.status.busy": "2023-05-10T01:11:42.468939Z",
     "iopub.status.idle": "2023-05-10T01:11:42.471070Z",
     "shell.execute_reply": "2023-05-10T01:11:42.470821Z"
    }
   },
   "outputs": [
    {
     "name": "stdout",
     "output_type": "stream",
     "text": [
      "35\n"
     ]
    }
   ],
   "source": [
    "print(df_unemployment[\"week_number\"].unique().size) # 39"
   ]
  },
  {
   "cell_type": "code",
   "execution_count": 20,
   "id": "f714827c",
   "metadata": {
    "execution": {
     "iopub.execute_input": "2023-05-10T01:11:42.472506Z",
     "iopub.status.busy": "2023-05-10T01:11:42.472397Z",
     "iopub.status.idle": "2023-05-10T01:11:42.474508Z",
     "shell.execute_reply": "2023-05-10T01:11:42.474255Z"
    }
   },
   "outputs": [
    {
     "name": "stdout",
     "output_type": "stream",
     "text": [
      "<IntegerArray>\n",
      "[16, 12, 13, 29, 15, 34,  5, 24, 19, 28, 37, 36, 27, 26, 21, 20, 22,  9,  3,\n",
      " 32, 11, 14, 17,  6, 35,  7, 31,  1, 10, 30, 33,  2, 18,  8, 25]\n",
      "Length: 35, dtype: Int64\n"
     ]
    }
   ],
   "source": [
    "print(df_unemployment[\"week_number\"].unique())  "
   ]
  },
  {
   "cell_type": "code",
   "execution_count": 21,
   "id": "dac4d3d2",
   "metadata": {
    "execution": {
     "iopub.execute_input": "2023-05-10T01:11:42.475890Z",
     "iopub.status.busy": "2023-05-10T01:11:42.475790Z",
     "iopub.status.idle": "2023-05-10T01:11:42.483304Z",
     "shell.execute_reply": "2023-05-10T01:11:42.483076Z"
    }
   },
   "outputs": [
    {
     "ename": "AttributeError",
     "evalue": "'IntegerArray' object has no attribute 'sort'",
     "output_type": "error",
     "traceback": [
      "\u001b[0;31m---------------------------------------------------------------------------\u001b[0m",
      "\u001b[0;31mAttributeError\u001b[0m                            Traceback (most recent call last)",
      "Cell \u001b[0;32mIn [21], line 1\u001b[0m\n\u001b[0;32m----> 1\u001b[0m \u001b[38;5;28mprint\u001b[39m(\u001b[43mdf_unemployment\u001b[49m\u001b[43m[\u001b[49m\u001b[38;5;124;43m\"\u001b[39;49m\u001b[38;5;124;43mweek_number\u001b[39;49m\u001b[38;5;124;43m\"\u001b[39;49m\u001b[43m]\u001b[49m\u001b[38;5;241;43m.\u001b[39;49m\u001b[43munique\u001b[49m\u001b[43m(\u001b[49m\u001b[43m)\u001b[49m\u001b[38;5;241;43m.\u001b[39;49m\u001b[43msort\u001b[49m())  \n",
      "\u001b[0;31mAttributeError\u001b[0m: 'IntegerArray' object has no attribute 'sort'"
     ]
    }
   ],
   "source": [
    "print(df_unemployment[\"week_number\"].unique().sort())  "
   ]
  },
  {
   "cell_type": "code",
   "execution_count": 22,
   "id": "40a814ea",
   "metadata": {
    "execution": {
     "iopub.execute_input": "2023-05-10T01:11:42.484624Z",
     "iopub.status.busy": "2023-05-10T01:11:42.484543Z",
     "iopub.status.idle": "2023-05-10T01:11:42.486467Z",
     "shell.execute_reply": "2023-05-10T01:11:42.486232Z"
    }
   },
   "outputs": [
    {
     "name": "stdout",
     "output_type": "stream",
     "text": [
      "[1, 2, 3, 5, 6, 7, 8, 9, 10, 11, 12, 13, 14, 15, 16, 17, 18, 19, 20, 21, 22, 24, 25, 26, 27, 28, 29, 30, 31, 32, 33, 34, 35, 36, 37]\n"
     ]
    }
   ],
   "source": [
    "print(sorted(df_unemployment[\"week_number\"].unique())) # 35"
   ]
  },
  {
   "cell_type": "code",
   "execution_count": 23,
   "id": "25e4d054",
   "metadata": {
    "execution": {
     "iopub.execute_input": "2023-05-10T01:11:42.487792Z",
     "iopub.status.busy": "2023-05-10T01:11:42.487710Z",
     "iopub.status.idle": "2023-05-10T01:11:42.489825Z",
     "shell.execute_reply": "2023-05-10T01:11:42.489596Z"
    }
   },
   "outputs": [],
   "source": [
    "df_three_col = df_unemployment[[\"uu_id\", \"week_number\", \"total_claims\"]]"
   ]
  },
  {
   "cell_type": "code",
   "execution_count": 24,
   "id": "c423b5e9",
   "metadata": {
    "execution": {
     "iopub.execute_input": "2023-05-10T01:11:42.491185Z",
     "iopub.status.busy": "2023-05-10T01:11:42.491109Z",
     "iopub.status.idle": "2023-05-10T01:11:42.494499Z",
     "shell.execute_reply": "2023-05-10T01:11:42.494260Z"
    }
   },
   "outputs": [
    {
     "data": {
      "text/html": [
       "<div>\n",
       "<style scoped>\n",
       "    .dataframe tbody tr th:only-of-type {\n",
       "        vertical-align: middle;\n",
       "    }\n",
       "\n",
       "    .dataframe tbody tr th {\n",
       "        vertical-align: top;\n",
       "    }\n",
       "\n",
       "    .dataframe thead th {\n",
       "        text-align: right;\n",
       "    }\n",
       "</style>\n",
       "<table border=\"1\" class=\"dataframe\">\n",
       "  <thead>\n",
       "    <tr style=\"text-align: right;\">\n",
       "      <th></th>\n",
       "      <th>uu_id</th>\n",
       "      <th>week_number</th>\n",
       "      <th>total_claims</th>\n",
       "    </tr>\n",
       "  </thead>\n",
       "  <tbody>\n",
       "    <tr>\n",
       "      <th>0</th>\n",
       "      <td>f013068de98db1470bd986137a0c6d23</td>\n",
       "      <td>16</td>\n",
       "      <td>22</td>\n",
       "    </tr>\n",
       "    <tr>\n",
       "      <th>1</th>\n",
       "      <td>21957d5517323845818d87623589e1ba</td>\n",
       "      <td>12</td>\n",
       "      <td>111</td>\n",
       "    </tr>\n",
       "    <tr>\n",
       "      <th>2</th>\n",
       "      <td>6a5609f385912113b6f1014b958ed748</td>\n",
       "      <td>13</td>\n",
       "      <td>39</td>\n",
       "    </tr>\n",
       "    <tr>\n",
       "      <th>3</th>\n",
       "      <td>46b2882ec4c373527ec33f7bd4f1388d</td>\n",
       "      <td>29</td>\n",
       "      <td>14</td>\n",
       "    </tr>\n",
       "    <tr>\n",
       "      <th>4</th>\n",
       "      <td>37495d17e82f7df326bfc2c4c090f7b7</td>\n",
       "      <td>15</td>\n",
       "      <td>155</td>\n",
       "    </tr>\n",
       "  </tbody>\n",
       "</table>\n",
       "</div>"
      ],
      "text/plain": [
       "                              uu_id  week_number  total_claims\n",
       "0  f013068de98db1470bd986137a0c6d23           16            22\n",
       "1  21957d5517323845818d87623589e1ba           12           111\n",
       "2  6a5609f385912113b6f1014b958ed748           13            39\n",
       "3  46b2882ec4c373527ec33f7bd4f1388d           29            14\n",
       "4  37495d17e82f7df326bfc2c4c090f7b7           15           155"
      ]
     },
     "execution_count": 24,
     "metadata": {},
     "output_type": "execute_result"
    }
   ],
   "source": [
    "df_three_col.head()"
   ]
  },
  {
   "cell_type": "code",
   "execution_count": 25,
   "id": "ee565f71",
   "metadata": {
    "execution": {
     "iopub.execute_input": "2023-05-10T01:11:42.495933Z",
     "iopub.status.busy": "2023-05-10T01:11:42.495832Z",
     "iopub.status.idle": "2023-05-10T01:11:42.497860Z",
     "shell.execute_reply": "2023-05-10T01:11:42.497621Z"
    }
   },
   "outputs": [
    {
     "data": {
      "text/plain": [
       "(16833, 3)"
      ]
     },
     "execution_count": 25,
     "metadata": {},
     "output_type": "execute_result"
    }
   ],
   "source": [
    "df_three_col.shape"
   ]
  },
  {
   "cell_type": "code",
   "execution_count": 26,
   "id": "b492a3ff",
   "metadata": {
    "execution": {
     "iopub.execute_input": "2023-05-10T01:11:42.499187Z",
     "iopub.status.busy": "2023-05-10T01:11:42.499089Z",
     "iopub.status.idle": "2023-05-10T01:11:42.501963Z",
     "shell.execute_reply": "2023-05-10T01:11:42.501744Z"
    }
   },
   "outputs": [
    {
     "data": {
      "text/plain": [
       "(120, 3)"
      ]
     },
     "execution_count": 26,
     "metadata": {},
     "output_type": "execute_result"
    }
   ],
   "source": [
    "test_data = df_three_col[df_three_col[\"uu_id\"].isin(['26c71b31d464bc7bedc8aed7e5c6e641', 'd0808351616eaf2e1d5d36d52e6cb669', '241f741bee0eb0ce595304d106811776'])  ]\n",
    "test_data.shape"
   ]
  },
  {
   "cell_type": "markdown",
   "id": "6b55946e",
   "metadata": {},
   "source": [
    "- IMPORT THE LIBRARIES YOU WILL USE\n",
    "------------------------------------------\n",
    "You only need to import packages one time per notebook session. To keep your\n",
    "notebook clean and organized you can handle all imports at the top of your file.\n",
    "The following are included for example purposed, feel free to modify or delete \n",
    "anything in this section."
   ]
  },
  {
   "cell_type": "code",
   "execution_count": 27,
   "id": "aedc342c",
   "metadata": {
    "execution": {
     "iopub.execute_input": "2023-05-10T01:11:42.503378Z",
     "iopub.status.busy": "2023-05-10T01:11:42.503277Z",
     "iopub.status.idle": "2023-05-10T01:11:42.505066Z",
     "shell.execute_reply": "2023-05-10T01:11:42.504841Z"
    }
   },
   "outputs": [],
   "source": [
    "import os\n",
    "import csv\n",
    "#import pandas as pd\n",
    "import pandas\n",
    "import numpy as np\n",
    "from google.cloud import bigquery\n",
    "from google.oauth2 import service_account\n",
    "from google.cloud.bigquery import magics"
   ]
  },
  {
   "cell_type": "code",
   "execution_count": 28,
   "id": "66536f5e",
   "metadata": {
    "execution": {
     "iopub.execute_input": "2023-05-10T01:11:42.506429Z",
     "iopub.status.busy": "2023-05-10T01:11:42.506333Z",
     "iopub.status.idle": "2023-05-10T01:11:45.111909Z",
     "shell.execute_reply": "2023-05-10T01:11:45.111453Z"
    }
   },
   "outputs": [
    {
     "name": "stdout",
     "output_type": "stream",
     "text": [
      "\u001b[33mWARNING: Ignoring invalid distribution -umpy (/opt/anaconda3/lib/python3.9/site-packages)\u001b[0m\r\n",
      "\u001b[33mWARNING: Ignoring invalid distribution -umpy (/opt/anaconda3/lib/python3.9/site-packages)\u001b[0m\r\n",
      "Requirement already satisfied: lightgbm in /opt/anaconda3/lib/python3.9/site-packages (3.3.5)\r\n",
      "Requirement already satisfied: scipy in /opt/anaconda3/lib/python3.9/site-packages (from lightgbm) (1.7.1)\r\n",
      "Requirement already satisfied: scikit-learn!=0.22.0 in /opt/anaconda3/lib/python3.9/site-packages (from lightgbm) (1.2.2)\r\n",
      "Requirement already satisfied: wheel in /opt/anaconda3/lib/python3.9/site-packages (from lightgbm) (0.37.0)\r\n",
      "Requirement already satisfied: numpy in /opt/anaconda3/lib/python3.9/site-packages (from lightgbm) (1.22.4)\r\n",
      "Requirement already satisfied: threadpoolctl>=2.0.0 in /opt/anaconda3/lib/python3.9/site-packages (from scikit-learn!=0.22.0->lightgbm) (2.2.0)\r\n",
      "Requirement already satisfied: joblib>=1.1.1 in /opt/anaconda3/lib/python3.9/site-packages (from scikit-learn!=0.22.0->lightgbm) (1.2.0)\r\n",
      "\u001b[33mWARNING: Ignoring invalid distribution -umpy (/opt/anaconda3/lib/python3.9/site-packages)\u001b[0m\r\n"
     ]
    },
    {
     "name": "stdout",
     "output_type": "stream",
     "text": [
      "\u001b[33mWARNING: Ignoring invalid distribution -umpy (/opt/anaconda3/lib/python3.9/site-packages)\u001b[0m\r\n",
      "\u001b[33mWARNING: Ignoring invalid distribution -umpy (/opt/anaconda3/lib/python3.9/site-packages)\u001b[0m\r\n",
      "\u001b[33mWARNING: Ignoring invalid distribution -umpy (/opt/anaconda3/lib/python3.9/site-packages)\u001b[0m\r\n"
     ]
    },
    {
     "ename": "ModuleNotFoundError",
     "evalue": "No module named 'lightgbm'",
     "output_type": "error",
     "traceback": [
      "\u001b[0;31m---------------------------------------------------------------------------\u001b[0m",
      "\u001b[0;31mModuleNotFoundError\u001b[0m                       Traceback (most recent call last)",
      "Cell \u001b[0;32mIn [28], line 3\u001b[0m\n\u001b[1;32m      1\u001b[0m get_ipython()\u001b[38;5;241m.\u001b[39msystem(\u001b[38;5;124m'\u001b[39m\u001b[38;5;124mpip install lightgbm\u001b[39m\u001b[38;5;124m'\u001b[39m)\n\u001b[1;32m      2\u001b[0m \u001b[38;5;28;01mimport\u001b[39;00m \u001b[38;5;21;01mdb_dtypes\u001b[39;00m\n\u001b[0;32m----> 3\u001b[0m \u001b[38;5;28;01mimport\u001b[39;00m \u001b[38;5;21;01mlightgbm\u001b[39;00m \u001b[38;5;28;01mas\u001b[39;00m \u001b[38;5;21;01mlgb\u001b[39;00m\n\u001b[1;32m      4\u001b[0m \u001b[38;5;66;03m#print(\"OK\")\u001b[39;00m\n",
      "\u001b[0;31mModuleNotFoundError\u001b[0m: No module named 'lightgbm'"
     ]
    }
   ],
   "source": [
    "get_ipython().system('pip install lightgbm')\n",
    "import db_dtypes\n",
    "import lightgbm as lgb\n",
    "#print(\"OK\")"
   ]
  },
  {
   "cell_type": "code",
   "execution_count": 29,
   "id": "bae58007",
   "metadata": {
    "execution": {
     "iopub.execute_input": "2023-05-10T01:11:45.114371Z",
     "iopub.status.busy": "2023-05-10T01:11:45.114000Z",
     "iopub.status.idle": "2023-05-10T01:11:45.507946Z",
     "shell.execute_reply": "2023-05-10T01:11:45.507659Z"
    }
   },
   "outputs": [],
   "source": [
    "import matplotlib\n",
    "import matplotlib.pyplot as plt\n",
    "import seaborn as sns\n",
    "get_ipython().run_line_magic('matplotlib', 'inline')"
   ]
  },
  {
   "cell_type": "code",
   "execution_count": 30,
   "id": "1108bb12",
   "metadata": {
    "execution": {
     "iopub.execute_input": "2023-05-10T01:11:45.509679Z",
     "iopub.status.busy": "2023-05-10T01:11:45.509500Z",
     "iopub.status.idle": "2023-05-10T01:11:45.516861Z",
     "shell.execute_reply": "2023-05-10T01:11:45.516591Z"
    }
   },
   "outputs": [
    {
     "ename": "NameError",
     "evalue": "name 'seaborn' is not defined",
     "output_type": "error",
     "traceback": [
      "\u001b[0;31m---------------------------------------------------------------------------\u001b[0m",
      "\u001b[0;31mNameError\u001b[0m                                 Traceback (most recent call last)",
      "Cell \u001b[0;32mIn [30], line 1\u001b[0m\n\u001b[0;32m----> 1\u001b[0m \u001b[43mseaborn\u001b[49m\u001b[38;5;241m.\u001b[39mlmplot(x\u001b[38;5;241m=\u001b[39m\u001b[38;5;124m\"\u001b[39m\u001b[38;5;124mweek_number\u001b[39m\u001b[38;5;124m\"\u001b[39m, y \u001b[38;5;241m=\u001b[39m \u001b[38;5;124m\"\u001b[39m\u001b[38;5;124mtotal_claims\u001b[39m\u001b[38;5;124m\"\u001b[39m, hue \u001b[38;5;241m=\u001b[39m \u001b[38;5;124m\"\u001b[39m\u001b[38;5;124muu_id\u001b[39m\u001b[38;5;124m\"\u001b[39m, data \u001b[38;5;241m=\u001b[39m test_data)\n",
      "\u001b[0;31mNameError\u001b[0m: name 'seaborn' is not defined"
     ]
    }
   ],
   "source": [
    "seaborn.lmplot(x=\"week_number\", y = \"total_claims\", hue = \"uu_id\", data = test_data)"
   ]
  },
  {
   "cell_type": "code",
   "execution_count": 31,
   "id": "2041448b",
   "metadata": {
    "execution": {
     "iopub.execute_input": "2023-05-10T01:11:45.518188Z",
     "iopub.status.busy": "2023-05-10T01:11:45.518083Z",
     "iopub.status.idle": "2023-05-10T01:11:45.922732Z",
     "shell.execute_reply": "2023-05-10T01:11:45.922393Z"
    }
   },
   "outputs": [
    {
     "ename": "UFuncTypeError",
     "evalue": "Cannot cast ufunc 'svd_n_s' input from dtype('O') to dtype('float64') with casting rule 'same_kind'",
     "output_type": "error",
     "traceback": [
      "\u001b[0;31m---------------------------------------------------------------------------\u001b[0m",
      "\u001b[0;31mUFuncTypeError\u001b[0m                            Traceback (most recent call last)",
      "Cell \u001b[0;32mIn [31], line 1\u001b[0m\n\u001b[0;32m----> 1\u001b[0m \u001b[43msns\u001b[49m\u001b[38;5;241;43m.\u001b[39;49m\u001b[43mlmplot\u001b[49m\u001b[43m(\u001b[49m\u001b[43mx\u001b[49m\u001b[38;5;241;43m=\u001b[39;49m\u001b[38;5;124;43m\"\u001b[39;49m\u001b[38;5;124;43mweek_number\u001b[39;49m\u001b[38;5;124;43m\"\u001b[39;49m\u001b[43m,\u001b[49m\u001b[43m \u001b[49m\u001b[43my\u001b[49m\u001b[43m \u001b[49m\u001b[38;5;241;43m=\u001b[39;49m\u001b[43m \u001b[49m\u001b[38;5;124;43m\"\u001b[39;49m\u001b[38;5;124;43mtotal_claims\u001b[39;49m\u001b[38;5;124;43m\"\u001b[39;49m\u001b[43m,\u001b[49m\u001b[43m \u001b[49m\u001b[43mhue\u001b[49m\u001b[43m \u001b[49m\u001b[38;5;241;43m=\u001b[39;49m\u001b[43m \u001b[49m\u001b[38;5;124;43m\"\u001b[39;49m\u001b[38;5;124;43muu_id\u001b[39;49m\u001b[38;5;124;43m\"\u001b[39;49m\u001b[43m,\u001b[49m\u001b[43m \u001b[49m\u001b[43mdata\u001b[49m\u001b[43m \u001b[49m\u001b[38;5;241;43m=\u001b[39;49m\u001b[43m \u001b[49m\u001b[43mtest_data\u001b[49m\u001b[43m)\u001b[49m\n",
      "File \u001b[0;32m/opt/homebrew/lib/python3.9/site-packages/seaborn/regression.py:635\u001b[0m, in \u001b[0;36mlmplot\u001b[0;34m(data, x, y, hue, col, row, palette, col_wrap, height, aspect, markers, sharex, sharey, hue_order, col_order, row_order, legend, legend_out, x_estimator, x_bins, x_ci, scatter, fit_reg, ci, n_boot, units, seed, order, logistic, lowess, robust, logx, x_partial, y_partial, truncate, x_jitter, y_jitter, scatter_kws, line_kws, facet_kws)\u001b[0m\n\u001b[1;32m    626\u001b[0m \u001b[38;5;66;03m# Draw the regression plot on each facet\u001b[39;00m\n\u001b[1;32m    627\u001b[0m regplot_kws \u001b[38;5;241m=\u001b[39m \u001b[38;5;28mdict\u001b[39m(\n\u001b[1;32m    628\u001b[0m     x_estimator\u001b[38;5;241m=\u001b[39mx_estimator, x_bins\u001b[38;5;241m=\u001b[39mx_bins, x_ci\u001b[38;5;241m=\u001b[39mx_ci,\n\u001b[1;32m    629\u001b[0m     scatter\u001b[38;5;241m=\u001b[39mscatter, fit_reg\u001b[38;5;241m=\u001b[39mfit_reg, ci\u001b[38;5;241m=\u001b[39mci, n_boot\u001b[38;5;241m=\u001b[39mn_boot, units\u001b[38;5;241m=\u001b[39munits,\n\u001b[0;32m   (...)\u001b[0m\n\u001b[1;32m    633\u001b[0m     scatter_kws\u001b[38;5;241m=\u001b[39mscatter_kws, line_kws\u001b[38;5;241m=\u001b[39mline_kws,\n\u001b[1;32m    634\u001b[0m )\n\u001b[0;32m--> 635\u001b[0m \u001b[43mfacets\u001b[49m\u001b[38;5;241;43m.\u001b[39;49m\u001b[43mmap_dataframe\u001b[49m\u001b[43m(\u001b[49m\u001b[43mregplot\u001b[49m\u001b[43m,\u001b[49m\u001b[43m \u001b[49m\u001b[43mx\u001b[49m\u001b[38;5;241;43m=\u001b[39;49m\u001b[43mx\u001b[49m\u001b[43m,\u001b[49m\u001b[43m \u001b[49m\u001b[43my\u001b[49m\u001b[38;5;241;43m=\u001b[39;49m\u001b[43my\u001b[49m\u001b[43m,\u001b[49m\u001b[43m \u001b[49m\u001b[38;5;241;43m*\u001b[39;49m\u001b[38;5;241;43m*\u001b[39;49m\u001b[43mregplot_kws\u001b[49m\u001b[43m)\u001b[49m\n\u001b[1;32m    636\u001b[0m facets\u001b[38;5;241m.\u001b[39mset_axis_labels(x, y)\n\u001b[1;32m    638\u001b[0m \u001b[38;5;66;03m# Add a legend\u001b[39;00m\n",
      "File \u001b[0;32m/opt/homebrew/lib/python3.9/site-packages/seaborn/axisgrid.py:819\u001b[0m, in \u001b[0;36mFacetGrid.map_dataframe\u001b[0;34m(self, func, *args, **kwargs)\u001b[0m\n\u001b[1;32m    816\u001b[0m     kwargs[\u001b[38;5;124m\"\u001b[39m\u001b[38;5;124mdata\u001b[39m\u001b[38;5;124m\"\u001b[39m] \u001b[38;5;241m=\u001b[39m data_ijk\n\u001b[1;32m    818\u001b[0m     \u001b[38;5;66;03m# Draw the plot\u001b[39;00m\n\u001b[0;32m--> 819\u001b[0m     \u001b[38;5;28;43mself\u001b[39;49m\u001b[38;5;241;43m.\u001b[39;49m\u001b[43m_facet_plot\u001b[49m\u001b[43m(\u001b[49m\u001b[43mfunc\u001b[49m\u001b[43m,\u001b[49m\u001b[43m \u001b[49m\u001b[43max\u001b[49m\u001b[43m,\u001b[49m\u001b[43m \u001b[49m\u001b[43margs\u001b[49m\u001b[43m,\u001b[49m\u001b[43m \u001b[49m\u001b[43mkwargs\u001b[49m\u001b[43m)\u001b[49m\n\u001b[1;32m    821\u001b[0m \u001b[38;5;66;03m# For axis labels, prefer to use positional args for backcompat\u001b[39;00m\n\u001b[1;32m    822\u001b[0m \u001b[38;5;66;03m# but also extract the x/y kwargs and use if no corresponding arg\u001b[39;00m\n\u001b[1;32m    823\u001b[0m axis_labels \u001b[38;5;241m=\u001b[39m [kwargs\u001b[38;5;241m.\u001b[39mget(\u001b[38;5;124m\"\u001b[39m\u001b[38;5;124mx\u001b[39m\u001b[38;5;124m\"\u001b[39m, \u001b[38;5;28;01mNone\u001b[39;00m), kwargs\u001b[38;5;241m.\u001b[39mget(\u001b[38;5;124m\"\u001b[39m\u001b[38;5;124my\u001b[39m\u001b[38;5;124m\"\u001b[39m, \u001b[38;5;28;01mNone\u001b[39;00m)]\n",
      "File \u001b[0;32m/opt/homebrew/lib/python3.9/site-packages/seaborn/axisgrid.py:848\u001b[0m, in \u001b[0;36mFacetGrid._facet_plot\u001b[0;34m(self, func, ax, plot_args, plot_kwargs)\u001b[0m\n\u001b[1;32m    846\u001b[0m     plot_args \u001b[38;5;241m=\u001b[39m []\n\u001b[1;32m    847\u001b[0m     plot_kwargs[\u001b[38;5;124m\"\u001b[39m\u001b[38;5;124max\u001b[39m\u001b[38;5;124m\"\u001b[39m] \u001b[38;5;241m=\u001b[39m ax\n\u001b[0;32m--> 848\u001b[0m \u001b[43mfunc\u001b[49m\u001b[43m(\u001b[49m\u001b[38;5;241;43m*\u001b[39;49m\u001b[43mplot_args\u001b[49m\u001b[43m,\u001b[49m\u001b[43m \u001b[49m\u001b[38;5;241;43m*\u001b[39;49m\u001b[38;5;241;43m*\u001b[39;49m\u001b[43mplot_kwargs\u001b[49m\u001b[43m)\u001b[49m\n\u001b[1;32m    850\u001b[0m \u001b[38;5;66;03m# Sort out the supporting information\u001b[39;00m\n\u001b[1;32m    851\u001b[0m \u001b[38;5;28mself\u001b[39m\u001b[38;5;241m.\u001b[39m_update_legend_data(ax)\n",
      "File \u001b[0;32m/opt/homebrew/lib/python3.9/site-packages/seaborn/regression.py:759\u001b[0m, in \u001b[0;36mregplot\u001b[0;34m(data, x, y, x_estimator, x_bins, x_ci, scatter, fit_reg, ci, n_boot, units, seed, order, logistic, lowess, robust, logx, x_partial, y_partial, truncate, dropna, x_jitter, y_jitter, label, color, marker, scatter_kws, line_kws, ax)\u001b[0m\n\u001b[1;32m    757\u001b[0m scatter_kws[\u001b[38;5;124m\"\u001b[39m\u001b[38;5;124mmarker\u001b[39m\u001b[38;5;124m\"\u001b[39m] \u001b[38;5;241m=\u001b[39m marker\n\u001b[1;32m    758\u001b[0m line_kws \u001b[38;5;241m=\u001b[39m {} \u001b[38;5;28;01mif\u001b[39;00m line_kws \u001b[38;5;129;01mis\u001b[39;00m \u001b[38;5;28;01mNone\u001b[39;00m \u001b[38;5;28;01melse\u001b[39;00m copy\u001b[38;5;241m.\u001b[39mcopy(line_kws)\n\u001b[0;32m--> 759\u001b[0m \u001b[43mplotter\u001b[49m\u001b[38;5;241;43m.\u001b[39;49m\u001b[43mplot\u001b[49m\u001b[43m(\u001b[49m\u001b[43max\u001b[49m\u001b[43m,\u001b[49m\u001b[43m \u001b[49m\u001b[43mscatter_kws\u001b[49m\u001b[43m,\u001b[49m\u001b[43m \u001b[49m\u001b[43mline_kws\u001b[49m\u001b[43m)\u001b[49m\n\u001b[1;32m    760\u001b[0m \u001b[38;5;28;01mreturn\u001b[39;00m ax\n",
      "File \u001b[0;32m/opt/homebrew/lib/python3.9/site-packages/seaborn/regression.py:368\u001b[0m, in \u001b[0;36m_RegressionPlotter.plot\u001b[0;34m(self, ax, scatter_kws, line_kws)\u001b[0m\n\u001b[1;32m    365\u001b[0m     \u001b[38;5;28mself\u001b[39m\u001b[38;5;241m.\u001b[39mscatterplot(ax, scatter_kws)\n\u001b[1;32m    367\u001b[0m \u001b[38;5;28;01mif\u001b[39;00m \u001b[38;5;28mself\u001b[39m\u001b[38;5;241m.\u001b[39mfit_reg:\n\u001b[0;32m--> 368\u001b[0m     \u001b[38;5;28;43mself\u001b[39;49m\u001b[38;5;241;43m.\u001b[39;49m\u001b[43mlineplot\u001b[49m\u001b[43m(\u001b[49m\u001b[43max\u001b[49m\u001b[43m,\u001b[49m\u001b[43m \u001b[49m\u001b[43mline_kws\u001b[49m\u001b[43m)\u001b[49m\n\u001b[1;32m    370\u001b[0m \u001b[38;5;66;03m# Label the axes\u001b[39;00m\n\u001b[1;32m    371\u001b[0m \u001b[38;5;28;01mif\u001b[39;00m \u001b[38;5;28mhasattr\u001b[39m(\u001b[38;5;28mself\u001b[39m\u001b[38;5;241m.\u001b[39mx, \u001b[38;5;124m\"\u001b[39m\u001b[38;5;124mname\u001b[39m\u001b[38;5;124m\"\u001b[39m):\n",
      "File \u001b[0;32m/opt/homebrew/lib/python3.9/site-packages/seaborn/regression.py:413\u001b[0m, in \u001b[0;36m_RegressionPlotter.lineplot\u001b[0;34m(self, ax, kws)\u001b[0m\n\u001b[1;32m    411\u001b[0m \u001b[38;5;124;03m\"\"\"Draw the model.\"\"\"\u001b[39;00m\n\u001b[1;32m    412\u001b[0m \u001b[38;5;66;03m# Fit the regression model\u001b[39;00m\n\u001b[0;32m--> 413\u001b[0m grid, yhat, err_bands \u001b[38;5;241m=\u001b[39m \u001b[38;5;28;43mself\u001b[39;49m\u001b[38;5;241;43m.\u001b[39;49m\u001b[43mfit_regression\u001b[49m\u001b[43m(\u001b[49m\u001b[43max\u001b[49m\u001b[43m)\u001b[49m\n\u001b[1;32m    414\u001b[0m edges \u001b[38;5;241m=\u001b[39m grid[\u001b[38;5;241m0\u001b[39m], grid[\u001b[38;5;241m-\u001b[39m\u001b[38;5;241m1\u001b[39m]\n\u001b[1;32m    416\u001b[0m \u001b[38;5;66;03m# Get set default aesthetics\u001b[39;00m\n",
      "File \u001b[0;32m/opt/homebrew/lib/python3.9/site-packages/seaborn/regression.py:219\u001b[0m, in \u001b[0;36m_RegressionPlotter.fit_regression\u001b[0;34m(self, ax, x_range, grid)\u001b[0m\n\u001b[1;32m    217\u001b[0m     yhat, yhat_boots \u001b[38;5;241m=\u001b[39m \u001b[38;5;28mself\u001b[39m\u001b[38;5;241m.\u001b[39mfit_logx(grid)\n\u001b[1;32m    218\u001b[0m \u001b[38;5;28;01melse\u001b[39;00m:\n\u001b[0;32m--> 219\u001b[0m     yhat, yhat_boots \u001b[38;5;241m=\u001b[39m \u001b[38;5;28;43mself\u001b[39;49m\u001b[38;5;241;43m.\u001b[39;49m\u001b[43mfit_fast\u001b[49m\u001b[43m(\u001b[49m\u001b[43mgrid\u001b[49m\u001b[43m)\u001b[49m\n\u001b[1;32m    221\u001b[0m \u001b[38;5;66;03m# Compute the confidence interval at each grid point\u001b[39;00m\n\u001b[1;32m    222\u001b[0m \u001b[38;5;28;01mif\u001b[39;00m ci \u001b[38;5;129;01mis\u001b[39;00m \u001b[38;5;28;01mNone\u001b[39;00m:\n",
      "File \u001b[0;32m/opt/homebrew/lib/python3.9/site-packages/seaborn/regression.py:236\u001b[0m, in \u001b[0;36m_RegressionPlotter.fit_fast\u001b[0;34m(self, grid)\u001b[0m\n\u001b[1;32m    234\u001b[0m X, y \u001b[38;5;241m=\u001b[39m np\u001b[38;5;241m.\u001b[39mc_[np\u001b[38;5;241m.\u001b[39mones(\u001b[38;5;28mlen\u001b[39m(\u001b[38;5;28mself\u001b[39m\u001b[38;5;241m.\u001b[39mx)), \u001b[38;5;28mself\u001b[39m\u001b[38;5;241m.\u001b[39mx], \u001b[38;5;28mself\u001b[39m\u001b[38;5;241m.\u001b[39my\n\u001b[1;32m    235\u001b[0m grid \u001b[38;5;241m=\u001b[39m np\u001b[38;5;241m.\u001b[39mc_[np\u001b[38;5;241m.\u001b[39mones(\u001b[38;5;28mlen\u001b[39m(grid)), grid]\n\u001b[0;32m--> 236\u001b[0m yhat \u001b[38;5;241m=\u001b[39m grid\u001b[38;5;241m.\u001b[39mdot(\u001b[43mreg_func\u001b[49m\u001b[43m(\u001b[49m\u001b[43mX\u001b[49m\u001b[43m,\u001b[49m\u001b[43m \u001b[49m\u001b[43my\u001b[49m\u001b[43m)\u001b[49m)\n\u001b[1;32m    237\u001b[0m \u001b[38;5;28;01mif\u001b[39;00m \u001b[38;5;28mself\u001b[39m\u001b[38;5;241m.\u001b[39mci \u001b[38;5;129;01mis\u001b[39;00m \u001b[38;5;28;01mNone\u001b[39;00m:\n\u001b[1;32m    238\u001b[0m     \u001b[38;5;28;01mreturn\u001b[39;00m yhat, \u001b[38;5;28;01mNone\u001b[39;00m\n",
      "File \u001b[0;32m/opt/homebrew/lib/python3.9/site-packages/seaborn/regression.py:232\u001b[0m, in \u001b[0;36m_RegressionPlotter.fit_fast.<locals>.reg_func\u001b[0;34m(_x, _y)\u001b[0m\n\u001b[1;32m    231\u001b[0m \u001b[38;5;28;01mdef\u001b[39;00m \u001b[38;5;21mreg_func\u001b[39m(_x, _y):\n\u001b[0;32m--> 232\u001b[0m     \u001b[38;5;28;01mreturn\u001b[39;00m \u001b[43mnp\u001b[49m\u001b[38;5;241;43m.\u001b[39;49m\u001b[43mlinalg\u001b[49m\u001b[38;5;241;43m.\u001b[39;49m\u001b[43mpinv\u001b[49m\u001b[43m(\u001b[49m\u001b[43m_x\u001b[49m\u001b[43m)\u001b[49m\u001b[38;5;241m.\u001b[39mdot(_y)\n",
      "File \u001b[0;32m<__array_function__ internals>:180\u001b[0m, in \u001b[0;36mpinv\u001b[0;34m(*args, **kwargs)\u001b[0m\n",
      "File \u001b[0;32m/opt/homebrew/lib/python3.9/site-packages/numpy/linalg/linalg.py:1998\u001b[0m, in \u001b[0;36mpinv\u001b[0;34m(a, rcond, hermitian)\u001b[0m\n\u001b[1;32m   1996\u001b[0m     \u001b[38;5;28;01mreturn\u001b[39;00m wrap(res)\n\u001b[1;32m   1997\u001b[0m a \u001b[38;5;241m=\u001b[39m a\u001b[38;5;241m.\u001b[39mconjugate()\n\u001b[0;32m-> 1998\u001b[0m u, s, vt \u001b[38;5;241m=\u001b[39m \u001b[43msvd\u001b[49m\u001b[43m(\u001b[49m\u001b[43ma\u001b[49m\u001b[43m,\u001b[49m\u001b[43m \u001b[49m\u001b[43mfull_matrices\u001b[49m\u001b[38;5;241;43m=\u001b[39;49m\u001b[38;5;28;43;01mFalse\u001b[39;49;00m\u001b[43m,\u001b[49m\u001b[43m \u001b[49m\u001b[43mhermitian\u001b[49m\u001b[38;5;241;43m=\u001b[39;49m\u001b[43mhermitian\u001b[49m\u001b[43m)\u001b[49m\n\u001b[1;32m   2000\u001b[0m \u001b[38;5;66;03m# discard small singular values\u001b[39;00m\n\u001b[1;32m   2001\u001b[0m cutoff \u001b[38;5;241m=\u001b[39m rcond[\u001b[38;5;241m.\u001b[39m\u001b[38;5;241m.\u001b[39m\u001b[38;5;241m.\u001b[39m, newaxis] \u001b[38;5;241m*\u001b[39m amax(s, axis\u001b[38;5;241m=\u001b[39m\u001b[38;5;241m-\u001b[39m\u001b[38;5;241m1\u001b[39m, keepdims\u001b[38;5;241m=\u001b[39m\u001b[38;5;28;01mTrue\u001b[39;00m)\n",
      "File \u001b[0;32m<__array_function__ internals>:180\u001b[0m, in \u001b[0;36msvd\u001b[0;34m(*args, **kwargs)\u001b[0m\n",
      "File \u001b[0;32m/opt/homebrew/lib/python3.9/site-packages/numpy/linalg/linalg.py:1657\u001b[0m, in \u001b[0;36msvd\u001b[0;34m(a, full_matrices, compute_uv, hermitian)\u001b[0m\n\u001b[1;32m   1654\u001b[0m         gufunc \u001b[38;5;241m=\u001b[39m _umath_linalg\u001b[38;5;241m.\u001b[39msvd_n_s\n\u001b[1;32m   1656\u001b[0m signature \u001b[38;5;241m=\u001b[39m \u001b[38;5;124m'\u001b[39m\u001b[38;5;124mD->DdD\u001b[39m\u001b[38;5;124m'\u001b[39m \u001b[38;5;28;01mif\u001b[39;00m isComplexType(t) \u001b[38;5;28;01melse\u001b[39;00m \u001b[38;5;124m'\u001b[39m\u001b[38;5;124md->ddd\u001b[39m\u001b[38;5;124m'\u001b[39m\n\u001b[0;32m-> 1657\u001b[0m u, s, vh \u001b[38;5;241m=\u001b[39m \u001b[43mgufunc\u001b[49m\u001b[43m(\u001b[49m\u001b[43ma\u001b[49m\u001b[43m,\u001b[49m\u001b[43m \u001b[49m\u001b[43msignature\u001b[49m\u001b[38;5;241;43m=\u001b[39;49m\u001b[43msignature\u001b[49m\u001b[43m,\u001b[49m\u001b[43m \u001b[49m\u001b[43mextobj\u001b[49m\u001b[38;5;241;43m=\u001b[39;49m\u001b[43mextobj\u001b[49m\u001b[43m)\u001b[49m\n\u001b[1;32m   1658\u001b[0m u \u001b[38;5;241m=\u001b[39m u\u001b[38;5;241m.\u001b[39mastype(result_t, copy\u001b[38;5;241m=\u001b[39m\u001b[38;5;28;01mFalse\u001b[39;00m)\n\u001b[1;32m   1659\u001b[0m s \u001b[38;5;241m=\u001b[39m s\u001b[38;5;241m.\u001b[39mastype(_realType(result_t), copy\u001b[38;5;241m=\u001b[39m\u001b[38;5;28;01mFalse\u001b[39;00m)\n",
      "\u001b[0;31mUFuncTypeError\u001b[0m: Cannot cast ufunc 'svd_n_s' input from dtype('O') to dtype('float64') with casting rule 'same_kind'"
     ]
    },
    {
     "data": {
      "image/png": "[encoded data removed]",
      "text/plain": [
       "<Figure size 500x500 with 1 Axes>"
      ]
     },
     "metadata": {},
     "output_type": "display_data"
    }
   ],
   "source": [
    "sns.lmplot(x=\"week_number\", y = \"total_claims\", hue = \"uu_id\", data = test_data)"
   ]
  },
  {
   "cell_type": "code",
   "execution_count": 32,
   "id": "de21b951",
   "metadata": {
    "execution": {
     "iopub.execute_input": "2023-05-10T01:11:45.924355Z",
     "iopub.status.busy": "2023-05-10T01:11:45.924244Z",
     "iopub.status.idle": "2023-05-10T01:11:45.926396Z",
     "shell.execute_reply": "2023-05-10T01:11:45.926159Z"
    }
   },
   "outputs": [
    {
     "ename": "SyntaxError",
     "evalue": "keyword argument repeated: data (2143231646.py, line 2)",
     "output_type": "error",
     "traceback": [
      "\u001b[0;36m  Cell \u001b[0;32mIn [32], line 2\u001b[0;36m\u001b[0m\n\u001b[0;31m    sns.scatterplot(data = test_data, x = 'week_number', y = 'total_claims', data =  'uu_id')\u001b[0m\n\u001b[0m                                                                             ^\u001b[0m\n\u001b[0;31mSyntaxError\u001b[0m\u001b[0;31m:\u001b[0m keyword argument repeated: data\n"
     ]
    }
   ],
   "source": [
    "#sns.lmplot(x=\"week_number\", y = \"total_claims\", hue = \"uu_id\", data = test_data)\n",
    "sns.scatterplot(data = test_data, x = 'week_number', y = 'total_claims', data =  'uu_id')"
   ]
  },
  {
   "cell_type": "code",
   "execution_count": 33,
   "id": "a383ca1d",
   "metadata": {
    "execution": {
     "iopub.execute_input": "2023-05-10T01:11:45.927811Z",
     "iopub.status.busy": "2023-05-10T01:11:45.927710Z",
     "iopub.status.idle": "2023-05-10T01:11:46.035270Z",
     "shell.execute_reply": "2023-05-10T01:11:46.034983Z"
    }
   },
   "outputs": [
    {
     "data": {
      "text/plain": [
       "<AxesSubplot: xlabel='week_number', ylabel='total_claims'>"
      ]
     },
     "execution_count": 33,
     "metadata": {},
     "output_type": "execute_result"
    },
    {
     "data": {
      "image/png": "[encoded data removed]",
      "text/plain": [
       "<Figure size 640x480 with 1 Axes>"
      ]
     },
     "metadata": {},
     "output_type": "display_data"
    }
   ],
   "source": [
    "#sns.lmplot(x=\"week_number\", y = \"total_claims\", hue = \"uu_id\", data = test_data)\n",
    "sns.scatterplot(data = test_data, x = 'week_number', y = 'total_claims', hue =  'uu_id')"
   ]
  },
  {
   "cell_type": "code",
   "execution_count": 34,
   "id": "cafd9fb5",
   "metadata": {
    "execution": {
     "iopub.execute_input": "2023-05-10T01:11:46.036833Z",
     "iopub.status.busy": "2023-05-10T01:11:46.036722Z",
     "iopub.status.idle": "2023-05-10T01:11:46.125709Z",
     "shell.execute_reply": "2023-05-10T01:11:46.125411Z"
    }
   },
   "outputs": [],
   "source": [
    "from sklearn.linear_model import LogisticRegression\n",
    "logisticRegr = LogisticRegression(solver = 'lbfgs')"
   ]
  },
  {
   "cell_type": "code",
   "execution_count": 35,
   "id": "1fb81856",
   "metadata": {
    "execution": {
     "iopub.execute_input": "2023-05-10T01:11:46.127513Z",
     "iopub.status.busy": "2023-05-10T01:11:46.127335Z",
     "iopub.status.idle": "2023-05-10T01:11:46.134609Z",
     "shell.execute_reply": "2023-05-10T01:11:46.134357Z"
    }
   },
   "outputs": [
    {
     "ename": "NameError",
     "evalue": "name 'logreg' is not defined",
     "output_type": "error",
     "traceback": [
      "\u001b[0;31m---------------------------------------------------------------------------\u001b[0m",
      "\u001b[0;31mNameError\u001b[0m                                 Traceback (most recent call last)",
      "Cell \u001b[0;32mIn [35], line 1\u001b[0m\n\u001b[0;32m----> 1\u001b[0m \u001b[43mlogreg\u001b[49m\u001b[38;5;241m.\u001b[39mfit(test_data[\u001b[38;5;124m\"\u001b[39m\u001b[38;5;124mweek_number\u001b[39m\u001b[38;5;124m\"\u001b[39m], test_data[\u001b[38;5;124m\"\u001b[39m\u001b[38;5;124mtotal_claims\u001b[39m\u001b[38;5;124m\"\u001b[39m])\n",
      "\u001b[0;31mNameError\u001b[0m: name 'logreg' is not defined"
     ]
    }
   ],
   "source": [
    "logreg.fit(test_data[\"week_number\"], test_data[\"total_claims\"])"
   ]
  },
  {
   "cell_type": "code",
   "execution_count": 36,
   "id": "8f8b2648",
   "metadata": {
    "execution": {
     "iopub.execute_input": "2023-05-10T01:11:46.136088Z",
     "iopub.status.busy": "2023-05-10T01:11:46.135973Z",
     "iopub.status.idle": "2023-05-10T01:11:46.142722Z",
     "shell.execute_reply": "2023-05-10T01:11:46.142476Z"
    }
   },
   "outputs": [
    {
     "ename": "NameError",
     "evalue": "name 'logreg' is not defined",
     "output_type": "error",
     "traceback": [
      "\u001b[0;31m---------------------------------------------------------------------------\u001b[0m",
      "\u001b[0;31mNameError\u001b[0m                                 Traceback (most recent call last)",
      "Cell \u001b[0;32mIn [36], line 1\u001b[0m\n\u001b[0;32m----> 1\u001b[0m y_pred \u001b[38;5;241m=\u001b[39m \u001b[43mlogreg\u001b[49m\u001b[38;5;241m.\u001b[39mpredict(\u001b[38;5;241m39\u001b[39m)\n\u001b[1;32m      2\u001b[0m \u001b[38;5;28mprint\u001b[39m(y_pred)\n",
      "\u001b[0;31mNameError\u001b[0m: name 'logreg' is not defined"
     ]
    }
   ],
   "source": [
    "y_pred = logreg.predict(39)\n",
    "print(y_pred)"
   ]
  },
  {
   "cell_type": "code",
   "execution_count": 37,
   "id": "458f1458",
   "metadata": {
    "execution": {
     "iopub.execute_input": "2023-05-10T01:11:46.144185Z",
     "iopub.status.busy": "2023-05-10T01:11:46.144081Z",
     "iopub.status.idle": "2023-05-10T01:11:46.145863Z",
     "shell.execute_reply": "2023-05-10T01:11:46.145615Z"
    }
   },
   "outputs": [],
   "source": [
    "from sklearn.linear_model import LogisticRegression\n",
    "logisticRegr = LogisticRegression(solver = 'lbfgs')"
   ]
  },
  {
   "cell_type": "code",
   "execution_count": 38,
   "id": "25f23bc5",
   "metadata": {
    "execution": {
     "iopub.execute_input": "2023-05-10T01:11:46.147338Z",
     "iopub.status.busy": "2023-05-10T01:11:46.147239Z",
     "iopub.status.idle": "2023-05-10T01:11:46.317097Z",
     "shell.execute_reply": "2023-05-10T01:11:46.316808Z"
    }
   },
   "outputs": [
    {
     "ename": "ValueError",
     "evalue": "Expected 2D array, got 1D array instead:\narray=[34. 15. 21. 34.  7.  2. 35. 35. 20. 25. 36. 36. 12. 19.  6. 19. 32.  7.\n 32. 24. 32. 30. 29. 27. 26.  6. 28. 24.  1.  5. 13. 25. 31. 15. 14. 20.\n 37.  2. 33. 21. 35. 35. 37.  1. 19. 33. 37. 37. 32. 29. 32. 32. 27.  8.\n 36. 36.  2. 18. 34. 20. 31. 22. 34. 17. 14. 16.  5. 11. 16. 37. 37.  3.\n 26. 32. 34. 32. 32. 29. 34. 25. 30.  9.  3. 22. 33. 33. 26.  8. 17. 18.\n 10. 33. 31. 33. 22. 16. 27. 30. 10. 11.  1. 13. 24. 15. 10. 13.  8.  6.\n 11.  3. 36. 36. 14. 12. 35. 35. 17. 12. 18.  9.].\nReshape your data either using array.reshape(-1, 1) if your data has a single feature or array.reshape(1, -1) if it contains a single sample.",
     "output_type": "error",
     "traceback": [
      "\u001b[0;31m---------------------------------------------------------------------------\u001b[0m",
      "\u001b[0;31mValueError\u001b[0m                                Traceback (most recent call last)",
      "Cell \u001b[0;32mIn [38], line 1\u001b[0m\n\u001b[0;32m----> 1\u001b[0m \u001b[43mlogisticRegr\u001b[49m\u001b[38;5;241;43m.\u001b[39;49m\u001b[43mfit\u001b[49m\u001b[43m(\u001b[49m\u001b[43mtest_data\u001b[49m\u001b[43m[\u001b[49m\u001b[38;5;124;43m\"\u001b[39;49m\u001b[38;5;124;43mweek_number\u001b[39;49m\u001b[38;5;124;43m\"\u001b[39;49m\u001b[43m]\u001b[49m\u001b[43m,\u001b[49m\u001b[43m \u001b[49m\u001b[43mtest_data\u001b[49m\u001b[43m[\u001b[49m\u001b[38;5;124;43m\"\u001b[39;49m\u001b[38;5;124;43mtotal_claims\u001b[39;49m\u001b[38;5;124;43m\"\u001b[39;49m\u001b[43m]\u001b[49m\u001b[43m)\u001b[49m\n",
      "File \u001b[0;32m/opt/homebrew/lib/python3.9/site-packages/sklearn/linear_model/_logistic.py:1196\u001b[0m, in \u001b[0;36mLogisticRegression.fit\u001b[0;34m(self, X, y, sample_weight)\u001b[0m\n\u001b[1;32m   1193\u001b[0m \u001b[38;5;28;01melse\u001b[39;00m:\n\u001b[1;32m   1194\u001b[0m     _dtype \u001b[38;5;241m=\u001b[39m [np\u001b[38;5;241m.\u001b[39mfloat64, np\u001b[38;5;241m.\u001b[39mfloat32]\n\u001b[0;32m-> 1196\u001b[0m X, y \u001b[38;5;241m=\u001b[39m \u001b[38;5;28;43mself\u001b[39;49m\u001b[38;5;241;43m.\u001b[39;49m\u001b[43m_validate_data\u001b[49m\u001b[43m(\u001b[49m\n\u001b[1;32m   1197\u001b[0m \u001b[43m    \u001b[49m\u001b[43mX\u001b[49m\u001b[43m,\u001b[49m\n\u001b[1;32m   1198\u001b[0m \u001b[43m    \u001b[49m\u001b[43my\u001b[49m\u001b[43m,\u001b[49m\n\u001b[1;32m   1199\u001b[0m \u001b[43m    \u001b[49m\u001b[43maccept_sparse\u001b[49m\u001b[38;5;241;43m=\u001b[39;49m\u001b[38;5;124;43m\"\u001b[39;49m\u001b[38;5;124;43mcsr\u001b[39;49m\u001b[38;5;124;43m\"\u001b[39;49m\u001b[43m,\u001b[49m\n\u001b[1;32m   1200\u001b[0m \u001b[43m    \u001b[49m\u001b[43mdtype\u001b[49m\u001b[38;5;241;43m=\u001b[39;49m\u001b[43m_dtype\u001b[49m\u001b[43m,\u001b[49m\n\u001b[1;32m   1201\u001b[0m \u001b[43m    \u001b[49m\u001b[43morder\u001b[49m\u001b[38;5;241;43m=\u001b[39;49m\u001b[38;5;124;43m\"\u001b[39;49m\u001b[38;5;124;43mC\u001b[39;49m\u001b[38;5;124;43m\"\u001b[39;49m\u001b[43m,\u001b[49m\n\u001b[1;32m   1202\u001b[0m \u001b[43m    \u001b[49m\u001b[43maccept_large_sparse\u001b[49m\u001b[38;5;241;43m=\u001b[39;49m\u001b[43msolver\u001b[49m\u001b[43m \u001b[49m\u001b[38;5;129;43;01mnot\u001b[39;49;00m\u001b[43m \u001b[49m\u001b[38;5;129;43;01min\u001b[39;49;00m\u001b[43m \u001b[49m\u001b[43m[\u001b[49m\u001b[38;5;124;43m\"\u001b[39;49m\u001b[38;5;124;43mliblinear\u001b[39;49m\u001b[38;5;124;43m\"\u001b[39;49m\u001b[43m,\u001b[49m\u001b[43m \u001b[49m\u001b[38;5;124;43m\"\u001b[39;49m\u001b[38;5;124;43msag\u001b[39;49m\u001b[38;5;124;43m\"\u001b[39;49m\u001b[43m,\u001b[49m\u001b[43m \u001b[49m\u001b[38;5;124;43m\"\u001b[39;49m\u001b[38;5;124;43msaga\u001b[39;49m\u001b[38;5;124;43m\"\u001b[39;49m\u001b[43m]\u001b[49m\u001b[43m,\u001b[49m\n\u001b[1;32m   1203\u001b[0m \u001b[43m\u001b[49m\u001b[43m)\u001b[49m\n\u001b[1;32m   1204\u001b[0m check_classification_targets(y)\n\u001b[1;32m   1205\u001b[0m \u001b[38;5;28mself\u001b[39m\u001b[38;5;241m.\u001b[39mclasses_ \u001b[38;5;241m=\u001b[39m np\u001b[38;5;241m.\u001b[39munique(y)\n",
      "File \u001b[0;32m/opt/homebrew/lib/python3.9/site-packages/sklearn/base.py:554\u001b[0m, in \u001b[0;36mBaseEstimator._validate_data\u001b[0;34m(self, X, y, reset, validate_separately, **check_params)\u001b[0m\n\u001b[1;32m    552\u001b[0m         y \u001b[38;5;241m=\u001b[39m check_array(y, input_name\u001b[38;5;241m=\u001b[39m\u001b[38;5;124m\"\u001b[39m\u001b[38;5;124my\u001b[39m\u001b[38;5;124m\"\u001b[39m, \u001b[38;5;241m*\u001b[39m\u001b[38;5;241m*\u001b[39mcheck_y_params)\n\u001b[1;32m    553\u001b[0m     \u001b[38;5;28;01melse\u001b[39;00m:\n\u001b[0;32m--> 554\u001b[0m         X, y \u001b[38;5;241m=\u001b[39m \u001b[43mcheck_X_y\u001b[49m\u001b[43m(\u001b[49m\u001b[43mX\u001b[49m\u001b[43m,\u001b[49m\u001b[43m \u001b[49m\u001b[43my\u001b[49m\u001b[43m,\u001b[49m\u001b[43m \u001b[49m\u001b[38;5;241;43m*\u001b[39;49m\u001b[38;5;241;43m*\u001b[39;49m\u001b[43mcheck_params\u001b[49m\u001b[43m)\u001b[49m\n\u001b[1;32m    555\u001b[0m     out \u001b[38;5;241m=\u001b[39m X, y\n\u001b[1;32m    557\u001b[0m \u001b[38;5;28;01mif\u001b[39;00m \u001b[38;5;129;01mnot\u001b[39;00m no_val_X \u001b[38;5;129;01mand\u001b[39;00m check_params\u001b[38;5;241m.\u001b[39mget(\u001b[38;5;124m\"\u001b[39m\u001b[38;5;124mensure_2d\u001b[39m\u001b[38;5;124m\"\u001b[39m, \u001b[38;5;28;01mTrue\u001b[39;00m):\n",
      "File \u001b[0;32m/opt/homebrew/lib/python3.9/site-packages/sklearn/utils/validation.py:1104\u001b[0m, in \u001b[0;36mcheck_X_y\u001b[0;34m(X, y, accept_sparse, accept_large_sparse, dtype, order, copy, force_all_finite, ensure_2d, allow_nd, multi_output, ensure_min_samples, ensure_min_features, y_numeric, estimator)\u001b[0m\n\u001b[1;32m   1099\u001b[0m         estimator_name \u001b[38;5;241m=\u001b[39m _check_estimator_name(estimator)\n\u001b[1;32m   1100\u001b[0m     \u001b[38;5;28;01mraise\u001b[39;00m \u001b[38;5;167;01mValueError\u001b[39;00m(\n\u001b[1;32m   1101\u001b[0m         \u001b[38;5;124mf\u001b[39m\u001b[38;5;124m\"\u001b[39m\u001b[38;5;132;01m{\u001b[39;00mestimator_name\u001b[38;5;132;01m}\u001b[39;00m\u001b[38;5;124m requires y to be passed, but the target y is None\u001b[39m\u001b[38;5;124m\"\u001b[39m\n\u001b[1;32m   1102\u001b[0m     )\n\u001b[0;32m-> 1104\u001b[0m X \u001b[38;5;241m=\u001b[39m \u001b[43mcheck_array\u001b[49m\u001b[43m(\u001b[49m\n\u001b[1;32m   1105\u001b[0m \u001b[43m    \u001b[49m\u001b[43mX\u001b[49m\u001b[43m,\u001b[49m\n\u001b[1;32m   1106\u001b[0m \u001b[43m    \u001b[49m\u001b[43maccept_sparse\u001b[49m\u001b[38;5;241;43m=\u001b[39;49m\u001b[43maccept_sparse\u001b[49m\u001b[43m,\u001b[49m\n\u001b[1;32m   1107\u001b[0m \u001b[43m    \u001b[49m\u001b[43maccept_large_sparse\u001b[49m\u001b[38;5;241;43m=\u001b[39;49m\u001b[43maccept_large_sparse\u001b[49m\u001b[43m,\u001b[49m\n\u001b[1;32m   1108\u001b[0m \u001b[43m    \u001b[49m\u001b[43mdtype\u001b[49m\u001b[38;5;241;43m=\u001b[39;49m\u001b[43mdtype\u001b[49m\u001b[43m,\u001b[49m\n\u001b[1;32m   1109\u001b[0m \u001b[43m    \u001b[49m\u001b[43morder\u001b[49m\u001b[38;5;241;43m=\u001b[39;49m\u001b[43morder\u001b[49m\u001b[43m,\u001b[49m\n\u001b[1;32m   1110\u001b[0m \u001b[43m    \u001b[49m\u001b[43mcopy\u001b[49m\u001b[38;5;241;43m=\u001b[39;49m\u001b[43mcopy\u001b[49m\u001b[43m,\u001b[49m\n\u001b[1;32m   1111\u001b[0m \u001b[43m    \u001b[49m\u001b[43mforce_all_finite\u001b[49m\u001b[38;5;241;43m=\u001b[39;49m\u001b[43mforce_all_finite\u001b[49m\u001b[43m,\u001b[49m\n\u001b[1;32m   1112\u001b[0m \u001b[43m    \u001b[49m\u001b[43mensure_2d\u001b[49m\u001b[38;5;241;43m=\u001b[39;49m\u001b[43mensure_2d\u001b[49m\u001b[43m,\u001b[49m\n\u001b[1;32m   1113\u001b[0m \u001b[43m    \u001b[49m\u001b[43mallow_nd\u001b[49m\u001b[38;5;241;43m=\u001b[39;49m\u001b[43mallow_nd\u001b[49m\u001b[43m,\u001b[49m\n\u001b[1;32m   1114\u001b[0m \u001b[43m    \u001b[49m\u001b[43mensure_min_samples\u001b[49m\u001b[38;5;241;43m=\u001b[39;49m\u001b[43mensure_min_samples\u001b[49m\u001b[43m,\u001b[49m\n\u001b[1;32m   1115\u001b[0m \u001b[43m    \u001b[49m\u001b[43mensure_min_features\u001b[49m\u001b[38;5;241;43m=\u001b[39;49m\u001b[43mensure_min_features\u001b[49m\u001b[43m,\u001b[49m\n\u001b[1;32m   1116\u001b[0m \u001b[43m    \u001b[49m\u001b[43mestimator\u001b[49m\u001b[38;5;241;43m=\u001b[39;49m\u001b[43mestimator\u001b[49m\u001b[43m,\u001b[49m\n\u001b[1;32m   1117\u001b[0m \u001b[43m    \u001b[49m\u001b[43minput_name\u001b[49m\u001b[38;5;241;43m=\u001b[39;49m\u001b[38;5;124;43m\"\u001b[39;49m\u001b[38;5;124;43mX\u001b[39;49m\u001b[38;5;124;43m\"\u001b[39;49m\u001b[43m,\u001b[49m\n\u001b[1;32m   1118\u001b[0m \u001b[43m\u001b[49m\u001b[43m)\u001b[49m\n\u001b[1;32m   1120\u001b[0m y \u001b[38;5;241m=\u001b[39m _check_y(y, multi_output\u001b[38;5;241m=\u001b[39mmulti_output, y_numeric\u001b[38;5;241m=\u001b[39my_numeric, estimator\u001b[38;5;241m=\u001b[39mestimator)\n\u001b[1;32m   1122\u001b[0m check_consistent_length(X, y)\n",
      "File \u001b[0;32m/opt/homebrew/lib/python3.9/site-packages/sklearn/utils/validation.py:900\u001b[0m, in \u001b[0;36mcheck_array\u001b[0;34m(array, accept_sparse, accept_large_sparse, dtype, order, copy, force_all_finite, ensure_2d, allow_nd, ensure_min_samples, ensure_min_features, estimator, input_name)\u001b[0m\n\u001b[1;32m    898\u001b[0m     \u001b[38;5;66;03m# If input is 1D raise error\u001b[39;00m\n\u001b[1;32m    899\u001b[0m     \u001b[38;5;28;01mif\u001b[39;00m array\u001b[38;5;241m.\u001b[39mndim \u001b[38;5;241m==\u001b[39m \u001b[38;5;241m1\u001b[39m:\n\u001b[0;32m--> 900\u001b[0m         \u001b[38;5;28;01mraise\u001b[39;00m \u001b[38;5;167;01mValueError\u001b[39;00m(\n\u001b[1;32m    901\u001b[0m             \u001b[38;5;124m\"\u001b[39m\u001b[38;5;124mExpected 2D array, got 1D array instead:\u001b[39m\u001b[38;5;130;01m\\n\u001b[39;00m\u001b[38;5;124marray=\u001b[39m\u001b[38;5;132;01m{}\u001b[39;00m\u001b[38;5;124m.\u001b[39m\u001b[38;5;130;01m\\n\u001b[39;00m\u001b[38;5;124m\"\u001b[39m\n\u001b[1;32m    902\u001b[0m             \u001b[38;5;124m\"\u001b[39m\u001b[38;5;124mReshape your data either using array.reshape(-1, 1) if \u001b[39m\u001b[38;5;124m\"\u001b[39m\n\u001b[1;32m    903\u001b[0m             \u001b[38;5;124m\"\u001b[39m\u001b[38;5;124myour data has a single feature or array.reshape(1, -1) \u001b[39m\u001b[38;5;124m\"\u001b[39m\n\u001b[1;32m    904\u001b[0m             \u001b[38;5;124m\"\u001b[39m\u001b[38;5;124mif it contains a single sample.\u001b[39m\u001b[38;5;124m\"\u001b[39m\u001b[38;5;241m.\u001b[39mformat(array)\n\u001b[1;32m    905\u001b[0m         )\n\u001b[1;32m    907\u001b[0m \u001b[38;5;28;01mif\u001b[39;00m dtype_numeric \u001b[38;5;129;01mand\u001b[39;00m array\u001b[38;5;241m.\u001b[39mdtype\u001b[38;5;241m.\u001b[39mkind \u001b[38;5;129;01min\u001b[39;00m \u001b[38;5;124m\"\u001b[39m\u001b[38;5;124mUSV\u001b[39m\u001b[38;5;124m\"\u001b[39m:\n\u001b[1;32m    908\u001b[0m     \u001b[38;5;28;01mraise\u001b[39;00m \u001b[38;5;167;01mValueError\u001b[39;00m(\n\u001b[1;32m    909\u001b[0m         \u001b[38;5;124m\"\u001b[39m\u001b[38;5;124mdtype=\u001b[39m\u001b[38;5;124m'\u001b[39m\u001b[38;5;124mnumeric\u001b[39m\u001b[38;5;124m'\u001b[39m\u001b[38;5;124m is not compatible with arrays of bytes/strings.\u001b[39m\u001b[38;5;124m\"\u001b[39m\n\u001b[1;32m    910\u001b[0m         \u001b[38;5;124m\"\u001b[39m\u001b[38;5;124mConvert your data to numeric values explicitly instead.\u001b[39m\u001b[38;5;124m\"\u001b[39m\n\u001b[1;32m    911\u001b[0m     )\n",
      "\u001b[0;31mValueError\u001b[0m: Expected 2D array, got 1D array instead:\narray=[34. 15. 21. 34.  7.  2. 35. 35. 20. 25. 36. 36. 12. 19.  6. 19. 32.  7.\n 32. 24. 32. 30. 29. 27. 26.  6. 28. 24.  1.  5. 13. 25. 31. 15. 14. 20.\n 37.  2. 33. 21. 35. 35. 37.  1. 19. 33. 37. 37. 32. 29. 32. 32. 27.  8.\n 36. 36.  2. 18. 34. 20. 31. 22. 34. 17. 14. 16.  5. 11. 16. 37. 37.  3.\n 26. 32. 34. 32. 32. 29. 34. 25. 30.  9.  3. 22. 33. 33. 26.  8. 17. 18.\n 10. 33. 31. 33. 22. 16. 27. 30. 10. 11.  1. 13. 24. 15. 10. 13.  8.  6.\n 11.  3. 36. 36. 14. 12. 35. 35. 17. 12. 18.  9.].\nReshape your data either using array.reshape(-1, 1) if your data has a single feature or array.reshape(1, -1) if it contains a single sample."
     ]
    }
   ],
   "source": [
    "logisticRegr.fit(test_data[\"week_number\"], test_data[\"total_claims\"])"
   ]
  },
  {
   "cell_type": "code",
   "execution_count": 39,
   "id": "387a0cd2",
   "metadata": {
    "execution": {
     "iopub.execute_input": "2023-05-10T01:11:46.318752Z",
     "iopub.status.busy": "2023-05-10T01:11:46.318638Z",
     "iopub.status.idle": "2023-05-10T01:11:46.352491Z",
     "shell.execute_reply": "2023-05-10T01:11:46.352211Z"
    }
   },
   "outputs": [
    {
     "ename": "NotFittedError",
     "evalue": "This LogisticRegression instance is not fitted yet. Call 'fit' with appropriate arguments before using this estimator.",
     "output_type": "error",
     "traceback": [
      "\u001b[0;31m---------------------------------------------------------------------------\u001b[0m",
      "\u001b[0;31mNotFittedError\u001b[0m                            Traceback (most recent call last)",
      "Cell \u001b[0;32mIn [39], line 1\u001b[0m\n\u001b[0;32m----> 1\u001b[0m y_pred \u001b[38;5;241m=\u001b[39m \u001b[43mlogisticRegr\u001b[49m\u001b[38;5;241;43m.\u001b[39;49m\u001b[43mpredict\u001b[49m\u001b[43m(\u001b[49m\u001b[38;5;241;43m39\u001b[39;49m\u001b[43m)\u001b[49m\n\u001b[1;32m      2\u001b[0m \u001b[38;5;28mprint\u001b[39m(y_pred)\n",
      "File \u001b[0;32m/opt/homebrew/lib/python3.9/site-packages/sklearn/linear_model/_base.py:420\u001b[0m, in \u001b[0;36mLinearClassifierMixin.predict\u001b[0;34m(self, X)\u001b[0m\n\u001b[1;32m    406\u001b[0m \u001b[38;5;124;03m\"\"\"\u001b[39;00m\n\u001b[1;32m    407\u001b[0m \u001b[38;5;124;03mPredict class labels for samples in X.\u001b[39;00m\n\u001b[1;32m    408\u001b[0m \n\u001b[0;32m   (...)\u001b[0m\n\u001b[1;32m    417\u001b[0m \u001b[38;5;124;03m    Vector containing the class labels for each sample.\u001b[39;00m\n\u001b[1;32m    418\u001b[0m \u001b[38;5;124;03m\"\"\"\u001b[39;00m\n\u001b[1;32m    419\u001b[0m xp, _ \u001b[38;5;241m=\u001b[39m get_namespace(X)\n\u001b[0;32m--> 420\u001b[0m scores \u001b[38;5;241m=\u001b[39m \u001b[38;5;28;43mself\u001b[39;49m\u001b[38;5;241;43m.\u001b[39;49m\u001b[43mdecision_function\u001b[49m\u001b[43m(\u001b[49m\u001b[43mX\u001b[49m\u001b[43m)\u001b[49m\n\u001b[1;32m    421\u001b[0m \u001b[38;5;28;01mif\u001b[39;00m \u001b[38;5;28mlen\u001b[39m(scores\u001b[38;5;241m.\u001b[39mshape) \u001b[38;5;241m==\u001b[39m \u001b[38;5;241m1\u001b[39m:\n\u001b[1;32m    422\u001b[0m     indices \u001b[38;5;241m=\u001b[39m xp\u001b[38;5;241m.\u001b[39mastype(scores \u001b[38;5;241m>\u001b[39m \u001b[38;5;241m0\u001b[39m, \u001b[38;5;28mint\u001b[39m)\n",
      "File \u001b[0;32m/opt/homebrew/lib/python3.9/site-packages/sklearn/linear_model/_base.py:398\u001b[0m, in \u001b[0;36mLinearClassifierMixin.decision_function\u001b[0;34m(self, X)\u001b[0m\n\u001b[1;32m    379\u001b[0m \u001b[38;5;28;01mdef\u001b[39;00m \u001b[38;5;21mdecision_function\u001b[39m(\u001b[38;5;28mself\u001b[39m, X):\n\u001b[1;32m    380\u001b[0m     \u001b[38;5;124;03m\"\"\"\u001b[39;00m\n\u001b[1;32m    381\u001b[0m \u001b[38;5;124;03m    Predict confidence scores for samples.\u001b[39;00m\n\u001b[1;32m    382\u001b[0m \n\u001b[0;32m   (...)\u001b[0m\n\u001b[1;32m    396\u001b[0m \u001b[38;5;124;03m        this class would be predicted.\u001b[39;00m\n\u001b[1;32m    397\u001b[0m \u001b[38;5;124;03m    \"\"\"\u001b[39;00m\n\u001b[0;32m--> 398\u001b[0m     \u001b[43mcheck_is_fitted\u001b[49m\u001b[43m(\u001b[49m\u001b[38;5;28;43mself\u001b[39;49m\u001b[43m)\u001b[49m\n\u001b[1;32m    399\u001b[0m     xp, _ \u001b[38;5;241m=\u001b[39m get_namespace(X)\n\u001b[1;32m    401\u001b[0m     X \u001b[38;5;241m=\u001b[39m \u001b[38;5;28mself\u001b[39m\u001b[38;5;241m.\u001b[39m_validate_data(X, accept_sparse\u001b[38;5;241m=\u001b[39m\u001b[38;5;124m\"\u001b[39m\u001b[38;5;124mcsr\u001b[39m\u001b[38;5;124m\"\u001b[39m, reset\u001b[38;5;241m=\u001b[39m\u001b[38;5;28;01mFalse\u001b[39;00m)\n",
      "File \u001b[0;32m/opt/homebrew/lib/python3.9/site-packages/sklearn/utils/validation.py:1380\u001b[0m, in \u001b[0;36mcheck_is_fitted\u001b[0;34m(estimator, attributes, msg, all_or_any)\u001b[0m\n\u001b[1;32m   1375\u001b[0m     fitted \u001b[38;5;241m=\u001b[39m [\n\u001b[1;32m   1376\u001b[0m         v \u001b[38;5;28;01mfor\u001b[39;00m v \u001b[38;5;129;01min\u001b[39;00m \u001b[38;5;28mvars\u001b[39m(estimator) \u001b[38;5;28;01mif\u001b[39;00m v\u001b[38;5;241m.\u001b[39mendswith(\u001b[38;5;124m\"\u001b[39m\u001b[38;5;124m_\u001b[39m\u001b[38;5;124m\"\u001b[39m) \u001b[38;5;129;01mand\u001b[39;00m \u001b[38;5;129;01mnot\u001b[39;00m v\u001b[38;5;241m.\u001b[39mstartswith(\u001b[38;5;124m\"\u001b[39m\u001b[38;5;124m__\u001b[39m\u001b[38;5;124m\"\u001b[39m)\n\u001b[1;32m   1377\u001b[0m     ]\n\u001b[1;32m   1379\u001b[0m \u001b[38;5;28;01mif\u001b[39;00m \u001b[38;5;129;01mnot\u001b[39;00m fitted:\n\u001b[0;32m-> 1380\u001b[0m     \u001b[38;5;28;01mraise\u001b[39;00m NotFittedError(msg \u001b[38;5;241m%\u001b[39m {\u001b[38;5;124m\"\u001b[39m\u001b[38;5;124mname\u001b[39m\u001b[38;5;124m\"\u001b[39m: \u001b[38;5;28mtype\u001b[39m(estimator)\u001b[38;5;241m.\u001b[39m\u001b[38;5;18m__name__\u001b[39m})\n",
      "\u001b[0;31mNotFittedError\u001b[0m: This LogisticRegression instance is not fitted yet. Call 'fit' with appropriate arguments before using this estimator."
     ]
    }
   ],
   "source": [
    "y_pred = logisticRegr.predict(39)\n",
    "print(y_pred)"
   ]
  },
  {
   "cell_type": "code",
   "execution_count": 40,
   "id": "c3bde5a5",
   "metadata": {
    "execution": {
     "iopub.execute_input": "2023-05-10T01:11:46.354048Z",
     "iopub.status.busy": "2023-05-10T01:11:46.353944Z",
     "iopub.status.idle": "2023-05-10T01:11:46.355620Z",
     "shell.execute_reply": "2023-05-10T01:11:46.355407Z"
    }
   },
   "outputs": [],
   "source": [
    "from sklearn.linear_model import LogisticRegression\n",
    "logisticRegr = LogisticRegression(solver = 'lbfgs')"
   ]
  },
  {
   "cell_type": "code",
   "execution_count": 41,
   "id": "07b618e1",
   "metadata": {
    "execution": {
     "iopub.execute_input": "2023-05-10T01:11:46.356930Z",
     "iopub.status.busy": "2023-05-10T01:11:46.356851Z",
     "iopub.status.idle": "2023-05-10T01:11:46.391612Z",
     "shell.execute_reply": "2023-05-10T01:11:46.391333Z"
    }
   },
   "outputs": [
    {
     "ename": "ValueError",
     "evalue": "Expected 2D array, got 1D array instead:\narray=[34. 15. 21. 34.  7.  2. 35. 35. 20. 25. 36. 36. 12. 19.  6. 19. 32.  7.\n 32. 24. 32. 30. 29. 27. 26.  6. 28. 24.  1.  5. 13. 25. 31. 15. 14. 20.\n 37.  2. 33. 21. 35. 35. 37.  1. 19. 33. 37. 37. 32. 29. 32. 32. 27.  8.\n 36. 36.  2. 18. 34. 20. 31. 22. 34. 17. 14. 16.  5. 11. 16. 37. 37.  3.\n 26. 32. 34. 32. 32. 29. 34. 25. 30.  9.  3. 22. 33. 33. 26.  8. 17. 18.\n 10. 33. 31. 33. 22. 16. 27. 30. 10. 11.  1. 13. 24. 15. 10. 13.  8.  6.\n 11.  3. 36. 36. 14. 12. 35. 35. 17. 12. 18.  9.].\nReshape your data either using array.reshape(-1, 1) if your data has a single feature or array.reshape(1, -1) if it contains a single sample.",
     "output_type": "error",
     "traceback": [
      "\u001b[0;31m---------------------------------------------------------------------------\u001b[0m",
      "\u001b[0;31mValueError\u001b[0m                                Traceback (most recent call last)",
      "Cell \u001b[0;32mIn [41], line 1\u001b[0m\n\u001b[0;32m----> 1\u001b[0m \u001b[43mlogisticRegr\u001b[49m\u001b[38;5;241;43m.\u001b[39;49m\u001b[43mfit\u001b[49m\u001b[43m(\u001b[49m\u001b[43mtest_data\u001b[49m\u001b[43m[\u001b[49m\u001b[38;5;124;43m\"\u001b[39;49m\u001b[38;5;124;43mweek_number\u001b[39;49m\u001b[38;5;124;43m\"\u001b[39;49m\u001b[43m]\u001b[49m\u001b[43m,\u001b[49m\u001b[43m \u001b[49m\u001b[43mtest_data\u001b[49m\u001b[43m[\u001b[49m\u001b[38;5;124;43m\"\u001b[39;49m\u001b[38;5;124;43mtotal_claims\u001b[39;49m\u001b[38;5;124;43m\"\u001b[39;49m\u001b[43m]\u001b[49m\u001b[43m)\u001b[49m\n",
      "File \u001b[0;32m/opt/homebrew/lib/python3.9/site-packages/sklearn/linear_model/_logistic.py:1196\u001b[0m, in \u001b[0;36mLogisticRegression.fit\u001b[0;34m(self, X, y, sample_weight)\u001b[0m\n\u001b[1;32m   1193\u001b[0m \u001b[38;5;28;01melse\u001b[39;00m:\n\u001b[1;32m   1194\u001b[0m     _dtype \u001b[38;5;241m=\u001b[39m [np\u001b[38;5;241m.\u001b[39mfloat64, np\u001b[38;5;241m.\u001b[39mfloat32]\n\u001b[0;32m-> 1196\u001b[0m X, y \u001b[38;5;241m=\u001b[39m \u001b[38;5;28;43mself\u001b[39;49m\u001b[38;5;241;43m.\u001b[39;49m\u001b[43m_validate_data\u001b[49m\u001b[43m(\u001b[49m\n\u001b[1;32m   1197\u001b[0m \u001b[43m    \u001b[49m\u001b[43mX\u001b[49m\u001b[43m,\u001b[49m\n\u001b[1;32m   1198\u001b[0m \u001b[43m    \u001b[49m\u001b[43my\u001b[49m\u001b[43m,\u001b[49m\n\u001b[1;32m   1199\u001b[0m \u001b[43m    \u001b[49m\u001b[43maccept_sparse\u001b[49m\u001b[38;5;241;43m=\u001b[39;49m\u001b[38;5;124;43m\"\u001b[39;49m\u001b[38;5;124;43mcsr\u001b[39;49m\u001b[38;5;124;43m\"\u001b[39;49m\u001b[43m,\u001b[49m\n\u001b[1;32m   1200\u001b[0m \u001b[43m    \u001b[49m\u001b[43mdtype\u001b[49m\u001b[38;5;241;43m=\u001b[39;49m\u001b[43m_dtype\u001b[49m\u001b[43m,\u001b[49m\n\u001b[1;32m   1201\u001b[0m \u001b[43m    \u001b[49m\u001b[43morder\u001b[49m\u001b[38;5;241;43m=\u001b[39;49m\u001b[38;5;124;43m\"\u001b[39;49m\u001b[38;5;124;43mC\u001b[39;49m\u001b[38;5;124;43m\"\u001b[39;49m\u001b[43m,\u001b[49m\n\u001b[1;32m   1202\u001b[0m \u001b[43m    \u001b[49m\u001b[43maccept_large_sparse\u001b[49m\u001b[38;5;241;43m=\u001b[39;49m\u001b[43msolver\u001b[49m\u001b[43m \u001b[49m\u001b[38;5;129;43;01mnot\u001b[39;49;00m\u001b[43m \u001b[49m\u001b[38;5;129;43;01min\u001b[39;49;00m\u001b[43m \u001b[49m\u001b[43m[\u001b[49m\u001b[38;5;124;43m\"\u001b[39;49m\u001b[38;5;124;43mliblinear\u001b[39;49m\u001b[38;5;124;43m\"\u001b[39;49m\u001b[43m,\u001b[49m\u001b[43m \u001b[49m\u001b[38;5;124;43m\"\u001b[39;49m\u001b[38;5;124;43msag\u001b[39;49m\u001b[38;5;124;43m\"\u001b[39;49m\u001b[43m,\u001b[49m\u001b[43m \u001b[49m\u001b[38;5;124;43m\"\u001b[39;49m\u001b[38;5;124;43msaga\u001b[39;49m\u001b[38;5;124;43m\"\u001b[39;49m\u001b[43m]\u001b[49m\u001b[43m,\u001b[49m\n\u001b[1;32m   1203\u001b[0m \u001b[43m\u001b[49m\u001b[43m)\u001b[49m\n\u001b[1;32m   1204\u001b[0m check_classification_targets(y)\n\u001b[1;32m   1205\u001b[0m \u001b[38;5;28mself\u001b[39m\u001b[38;5;241m.\u001b[39mclasses_ \u001b[38;5;241m=\u001b[39m np\u001b[38;5;241m.\u001b[39munique(y)\n",
      "File \u001b[0;32m/opt/homebrew/lib/python3.9/site-packages/sklearn/base.py:554\u001b[0m, in \u001b[0;36mBaseEstimator._validate_data\u001b[0;34m(self, X, y, reset, validate_separately, **check_params)\u001b[0m\n\u001b[1;32m    552\u001b[0m         y \u001b[38;5;241m=\u001b[39m check_array(y, input_name\u001b[38;5;241m=\u001b[39m\u001b[38;5;124m\"\u001b[39m\u001b[38;5;124my\u001b[39m\u001b[38;5;124m\"\u001b[39m, \u001b[38;5;241m*\u001b[39m\u001b[38;5;241m*\u001b[39mcheck_y_params)\n\u001b[1;32m    553\u001b[0m     \u001b[38;5;28;01melse\u001b[39;00m:\n\u001b[0;32m--> 554\u001b[0m         X, y \u001b[38;5;241m=\u001b[39m \u001b[43mcheck_X_y\u001b[49m\u001b[43m(\u001b[49m\u001b[43mX\u001b[49m\u001b[43m,\u001b[49m\u001b[43m \u001b[49m\u001b[43my\u001b[49m\u001b[43m,\u001b[49m\u001b[43m \u001b[49m\u001b[38;5;241;43m*\u001b[39;49m\u001b[38;5;241;43m*\u001b[39;49m\u001b[43mcheck_params\u001b[49m\u001b[43m)\u001b[49m\n\u001b[1;32m    555\u001b[0m     out \u001b[38;5;241m=\u001b[39m X, y\n\u001b[1;32m    557\u001b[0m \u001b[38;5;28;01mif\u001b[39;00m \u001b[38;5;129;01mnot\u001b[39;00m no_val_X \u001b[38;5;129;01mand\u001b[39;00m check_params\u001b[38;5;241m.\u001b[39mget(\u001b[38;5;124m\"\u001b[39m\u001b[38;5;124mensure_2d\u001b[39m\u001b[38;5;124m\"\u001b[39m, \u001b[38;5;28;01mTrue\u001b[39;00m):\n",
      "File \u001b[0;32m/opt/homebrew/lib/python3.9/site-packages/sklearn/utils/validation.py:1104\u001b[0m, in \u001b[0;36mcheck_X_y\u001b[0;34m(X, y, accept_sparse, accept_large_sparse, dtype, order, copy, force_all_finite, ensure_2d, allow_nd, multi_output, ensure_min_samples, ensure_min_features, y_numeric, estimator)\u001b[0m\n\u001b[1;32m   1099\u001b[0m         estimator_name \u001b[38;5;241m=\u001b[39m _check_estimator_name(estimator)\n\u001b[1;32m   1100\u001b[0m     \u001b[38;5;28;01mraise\u001b[39;00m \u001b[38;5;167;01mValueError\u001b[39;00m(\n\u001b[1;32m   1101\u001b[0m         \u001b[38;5;124mf\u001b[39m\u001b[38;5;124m\"\u001b[39m\u001b[38;5;132;01m{\u001b[39;00mestimator_name\u001b[38;5;132;01m}\u001b[39;00m\u001b[38;5;124m requires y to be passed, but the target y is None\u001b[39m\u001b[38;5;124m\"\u001b[39m\n\u001b[1;32m   1102\u001b[0m     )\n\u001b[0;32m-> 1104\u001b[0m X \u001b[38;5;241m=\u001b[39m \u001b[43mcheck_array\u001b[49m\u001b[43m(\u001b[49m\n\u001b[1;32m   1105\u001b[0m \u001b[43m    \u001b[49m\u001b[43mX\u001b[49m\u001b[43m,\u001b[49m\n\u001b[1;32m   1106\u001b[0m \u001b[43m    \u001b[49m\u001b[43maccept_sparse\u001b[49m\u001b[38;5;241;43m=\u001b[39;49m\u001b[43maccept_sparse\u001b[49m\u001b[43m,\u001b[49m\n\u001b[1;32m   1107\u001b[0m \u001b[43m    \u001b[49m\u001b[43maccept_large_sparse\u001b[49m\u001b[38;5;241;43m=\u001b[39;49m\u001b[43maccept_large_sparse\u001b[49m\u001b[43m,\u001b[49m\n\u001b[1;32m   1108\u001b[0m \u001b[43m    \u001b[49m\u001b[43mdtype\u001b[49m\u001b[38;5;241;43m=\u001b[39;49m\u001b[43mdtype\u001b[49m\u001b[43m,\u001b[49m\n\u001b[1;32m   1109\u001b[0m \u001b[43m    \u001b[49m\u001b[43morder\u001b[49m\u001b[38;5;241;43m=\u001b[39;49m\u001b[43morder\u001b[49m\u001b[43m,\u001b[49m\n\u001b[1;32m   1110\u001b[0m \u001b[43m    \u001b[49m\u001b[43mcopy\u001b[49m\u001b[38;5;241;43m=\u001b[39;49m\u001b[43mcopy\u001b[49m\u001b[43m,\u001b[49m\n\u001b[1;32m   1111\u001b[0m \u001b[43m    \u001b[49m\u001b[43mforce_all_finite\u001b[49m\u001b[38;5;241;43m=\u001b[39;49m\u001b[43mforce_all_finite\u001b[49m\u001b[43m,\u001b[49m\n\u001b[1;32m   1112\u001b[0m \u001b[43m    \u001b[49m\u001b[43mensure_2d\u001b[49m\u001b[38;5;241;43m=\u001b[39;49m\u001b[43mensure_2d\u001b[49m\u001b[43m,\u001b[49m\n\u001b[1;32m   1113\u001b[0m \u001b[43m    \u001b[49m\u001b[43mallow_nd\u001b[49m\u001b[38;5;241;43m=\u001b[39;49m\u001b[43mallow_nd\u001b[49m\u001b[43m,\u001b[49m\n\u001b[1;32m   1114\u001b[0m \u001b[43m    \u001b[49m\u001b[43mensure_min_samples\u001b[49m\u001b[38;5;241;43m=\u001b[39;49m\u001b[43mensure_min_samples\u001b[49m\u001b[43m,\u001b[49m\n\u001b[1;32m   1115\u001b[0m \u001b[43m    \u001b[49m\u001b[43mensure_min_features\u001b[49m\u001b[38;5;241;43m=\u001b[39;49m\u001b[43mensure_min_features\u001b[49m\u001b[43m,\u001b[49m\n\u001b[1;32m   1116\u001b[0m \u001b[43m    \u001b[49m\u001b[43mestimator\u001b[49m\u001b[38;5;241;43m=\u001b[39;49m\u001b[43mestimator\u001b[49m\u001b[43m,\u001b[49m\n\u001b[1;32m   1117\u001b[0m \u001b[43m    \u001b[49m\u001b[43minput_name\u001b[49m\u001b[38;5;241;43m=\u001b[39;49m\u001b[38;5;124;43m\"\u001b[39;49m\u001b[38;5;124;43mX\u001b[39;49m\u001b[38;5;124;43m\"\u001b[39;49m\u001b[43m,\u001b[49m\n\u001b[1;32m   1118\u001b[0m \u001b[43m\u001b[49m\u001b[43m)\u001b[49m\n\u001b[1;32m   1120\u001b[0m y \u001b[38;5;241m=\u001b[39m _check_y(y, multi_output\u001b[38;5;241m=\u001b[39mmulti_output, y_numeric\u001b[38;5;241m=\u001b[39my_numeric, estimator\u001b[38;5;241m=\u001b[39mestimator)\n\u001b[1;32m   1122\u001b[0m check_consistent_length(X, y)\n",
      "File \u001b[0;32m/opt/homebrew/lib/python3.9/site-packages/sklearn/utils/validation.py:900\u001b[0m, in \u001b[0;36mcheck_array\u001b[0;34m(array, accept_sparse, accept_large_sparse, dtype, order, copy, force_all_finite, ensure_2d, allow_nd, ensure_min_samples, ensure_min_features, estimator, input_name)\u001b[0m\n\u001b[1;32m    898\u001b[0m     \u001b[38;5;66;03m# If input is 1D raise error\u001b[39;00m\n\u001b[1;32m    899\u001b[0m     \u001b[38;5;28;01mif\u001b[39;00m array\u001b[38;5;241m.\u001b[39mndim \u001b[38;5;241m==\u001b[39m \u001b[38;5;241m1\u001b[39m:\n\u001b[0;32m--> 900\u001b[0m         \u001b[38;5;28;01mraise\u001b[39;00m \u001b[38;5;167;01mValueError\u001b[39;00m(\n\u001b[1;32m    901\u001b[0m             \u001b[38;5;124m\"\u001b[39m\u001b[38;5;124mExpected 2D array, got 1D array instead:\u001b[39m\u001b[38;5;130;01m\\n\u001b[39;00m\u001b[38;5;124marray=\u001b[39m\u001b[38;5;132;01m{}\u001b[39;00m\u001b[38;5;124m.\u001b[39m\u001b[38;5;130;01m\\n\u001b[39;00m\u001b[38;5;124m\"\u001b[39m\n\u001b[1;32m    902\u001b[0m             \u001b[38;5;124m\"\u001b[39m\u001b[38;5;124mReshape your data either using array.reshape(-1, 1) if \u001b[39m\u001b[38;5;124m\"\u001b[39m\n\u001b[1;32m    903\u001b[0m             \u001b[38;5;124m\"\u001b[39m\u001b[38;5;124myour data has a single feature or array.reshape(1, -1) \u001b[39m\u001b[38;5;124m\"\u001b[39m\n\u001b[1;32m    904\u001b[0m             \u001b[38;5;124m\"\u001b[39m\u001b[38;5;124mif it contains a single sample.\u001b[39m\u001b[38;5;124m\"\u001b[39m\u001b[38;5;241m.\u001b[39mformat(array)\n\u001b[1;32m    905\u001b[0m         )\n\u001b[1;32m    907\u001b[0m \u001b[38;5;28;01mif\u001b[39;00m dtype_numeric \u001b[38;5;129;01mand\u001b[39;00m array\u001b[38;5;241m.\u001b[39mdtype\u001b[38;5;241m.\u001b[39mkind \u001b[38;5;129;01min\u001b[39;00m \u001b[38;5;124m\"\u001b[39m\u001b[38;5;124mUSV\u001b[39m\u001b[38;5;124m\"\u001b[39m:\n\u001b[1;32m    908\u001b[0m     \u001b[38;5;28;01mraise\u001b[39;00m \u001b[38;5;167;01mValueError\u001b[39;00m(\n\u001b[1;32m    909\u001b[0m         \u001b[38;5;124m\"\u001b[39m\u001b[38;5;124mdtype=\u001b[39m\u001b[38;5;124m'\u001b[39m\u001b[38;5;124mnumeric\u001b[39m\u001b[38;5;124m'\u001b[39m\u001b[38;5;124m is not compatible with arrays of bytes/strings.\u001b[39m\u001b[38;5;124m\"\u001b[39m\n\u001b[1;32m    910\u001b[0m         \u001b[38;5;124m\"\u001b[39m\u001b[38;5;124mConvert your data to numeric values explicitly instead.\u001b[39m\u001b[38;5;124m\"\u001b[39m\n\u001b[1;32m    911\u001b[0m     )\n",
      "\u001b[0;31mValueError\u001b[0m: Expected 2D array, got 1D array instead:\narray=[34. 15. 21. 34.  7.  2. 35. 35. 20. 25. 36. 36. 12. 19.  6. 19. 32.  7.\n 32. 24. 32. 30. 29. 27. 26.  6. 28. 24.  1.  5. 13. 25. 31. 15. 14. 20.\n 37.  2. 33. 21. 35. 35. 37.  1. 19. 33. 37. 37. 32. 29. 32. 32. 27.  8.\n 36. 36.  2. 18. 34. 20. 31. 22. 34. 17. 14. 16.  5. 11. 16. 37. 37.  3.\n 26. 32. 34. 32. 32. 29. 34. 25. 30.  9.  3. 22. 33. 33. 26.  8. 17. 18.\n 10. 33. 31. 33. 22. 16. 27. 30. 10. 11.  1. 13. 24. 15. 10. 13.  8.  6.\n 11.  3. 36. 36. 14. 12. 35. 35. 17. 12. 18.  9.].\nReshape your data either using array.reshape(-1, 1) if your data has a single feature or array.reshape(1, -1) if it contains a single sample."
     ]
    }
   ],
   "source": [
    "logisticRegr.fit(test_data[\"week_number\"], test_data[\"total_claims\"])"
   ]
  },
  {
   "cell_type": "code",
   "execution_count": 42,
   "id": "588f6a0d",
   "metadata": {
    "execution": {
     "iopub.execute_input": "2023-05-10T01:11:46.393072Z",
     "iopub.status.busy": "2023-05-10T01:11:46.392992Z",
     "iopub.status.idle": "2023-05-10T01:11:46.408565Z",
     "shell.execute_reply": "2023-05-10T01:11:46.408296Z"
    }
   },
   "outputs": [
    {
     "ename": "NotFittedError",
     "evalue": "This LogisticRegression instance is not fitted yet. Call 'fit' with appropriate arguments before using this estimator.",
     "output_type": "error",
     "traceback": [
      "\u001b[0;31m---------------------------------------------------------------------------\u001b[0m",
      "\u001b[0;31mNotFittedError\u001b[0m                            Traceback (most recent call last)",
      "Cell \u001b[0;32mIn [42], line 1\u001b[0m\n\u001b[0;32m----> 1\u001b[0m y_pred \u001b[38;5;241m=\u001b[39m \u001b[43mlogisticRegr\u001b[49m\u001b[38;5;241;43m.\u001b[39;49m\u001b[43mpredict\u001b[49m\u001b[43m(\u001b[49m\u001b[38;5;241;43m39\u001b[39;49m\u001b[43m)\u001b[49m\n\u001b[1;32m      2\u001b[0m \u001b[38;5;28mprint\u001b[39m(y_pred)\n",
      "File \u001b[0;32m/opt/homebrew/lib/python3.9/site-packages/sklearn/linear_model/_base.py:420\u001b[0m, in \u001b[0;36mLinearClassifierMixin.predict\u001b[0;34m(self, X)\u001b[0m\n\u001b[1;32m    406\u001b[0m \u001b[38;5;124;03m\"\"\"\u001b[39;00m\n\u001b[1;32m    407\u001b[0m \u001b[38;5;124;03mPredict class labels for samples in X.\u001b[39;00m\n\u001b[1;32m    408\u001b[0m \n\u001b[0;32m   (...)\u001b[0m\n\u001b[1;32m    417\u001b[0m \u001b[38;5;124;03m    Vector containing the class labels for each sample.\u001b[39;00m\n\u001b[1;32m    418\u001b[0m \u001b[38;5;124;03m\"\"\"\u001b[39;00m\n\u001b[1;32m    419\u001b[0m xp, _ \u001b[38;5;241m=\u001b[39m get_namespace(X)\n\u001b[0;32m--> 420\u001b[0m scores \u001b[38;5;241m=\u001b[39m \u001b[38;5;28;43mself\u001b[39;49m\u001b[38;5;241;43m.\u001b[39;49m\u001b[43mdecision_function\u001b[49m\u001b[43m(\u001b[49m\u001b[43mX\u001b[49m\u001b[43m)\u001b[49m\n\u001b[1;32m    421\u001b[0m \u001b[38;5;28;01mif\u001b[39;00m \u001b[38;5;28mlen\u001b[39m(scores\u001b[38;5;241m.\u001b[39mshape) \u001b[38;5;241m==\u001b[39m \u001b[38;5;241m1\u001b[39m:\n\u001b[1;32m    422\u001b[0m     indices \u001b[38;5;241m=\u001b[39m xp\u001b[38;5;241m.\u001b[39mastype(scores \u001b[38;5;241m>\u001b[39m \u001b[38;5;241m0\u001b[39m, \u001b[38;5;28mint\u001b[39m)\n",
      "File \u001b[0;32m/opt/homebrew/lib/python3.9/site-packages/sklearn/linear_model/_base.py:398\u001b[0m, in \u001b[0;36mLinearClassifierMixin.decision_function\u001b[0;34m(self, X)\u001b[0m\n\u001b[1;32m    379\u001b[0m \u001b[38;5;28;01mdef\u001b[39;00m \u001b[38;5;21mdecision_function\u001b[39m(\u001b[38;5;28mself\u001b[39m, X):\n\u001b[1;32m    380\u001b[0m     \u001b[38;5;124;03m\"\"\"\u001b[39;00m\n\u001b[1;32m    381\u001b[0m \u001b[38;5;124;03m    Predict confidence scores for samples.\u001b[39;00m\n\u001b[1;32m    382\u001b[0m \n\u001b[0;32m   (...)\u001b[0m\n\u001b[1;32m    396\u001b[0m \u001b[38;5;124;03m        this class would be predicted.\u001b[39;00m\n\u001b[1;32m    397\u001b[0m \u001b[38;5;124;03m    \"\"\"\u001b[39;00m\n\u001b[0;32m--> 398\u001b[0m     \u001b[43mcheck_is_fitted\u001b[49m\u001b[43m(\u001b[49m\u001b[38;5;28;43mself\u001b[39;49m\u001b[43m)\u001b[49m\n\u001b[1;32m    399\u001b[0m     xp, _ \u001b[38;5;241m=\u001b[39m get_namespace(X)\n\u001b[1;32m    401\u001b[0m     X \u001b[38;5;241m=\u001b[39m \u001b[38;5;28mself\u001b[39m\u001b[38;5;241m.\u001b[39m_validate_data(X, accept_sparse\u001b[38;5;241m=\u001b[39m\u001b[38;5;124m\"\u001b[39m\u001b[38;5;124mcsr\u001b[39m\u001b[38;5;124m\"\u001b[39m, reset\u001b[38;5;241m=\u001b[39m\u001b[38;5;28;01mFalse\u001b[39;00m)\n",
      "File \u001b[0;32m/opt/homebrew/lib/python3.9/site-packages/sklearn/utils/validation.py:1380\u001b[0m, in \u001b[0;36mcheck_is_fitted\u001b[0;34m(estimator, attributes, msg, all_or_any)\u001b[0m\n\u001b[1;32m   1375\u001b[0m     fitted \u001b[38;5;241m=\u001b[39m [\n\u001b[1;32m   1376\u001b[0m         v \u001b[38;5;28;01mfor\u001b[39;00m v \u001b[38;5;129;01min\u001b[39;00m \u001b[38;5;28mvars\u001b[39m(estimator) \u001b[38;5;28;01mif\u001b[39;00m v\u001b[38;5;241m.\u001b[39mendswith(\u001b[38;5;124m\"\u001b[39m\u001b[38;5;124m_\u001b[39m\u001b[38;5;124m\"\u001b[39m) \u001b[38;5;129;01mand\u001b[39;00m \u001b[38;5;129;01mnot\u001b[39;00m v\u001b[38;5;241m.\u001b[39mstartswith(\u001b[38;5;124m\"\u001b[39m\u001b[38;5;124m__\u001b[39m\u001b[38;5;124m\"\u001b[39m)\n\u001b[1;32m   1377\u001b[0m     ]\n\u001b[1;32m   1379\u001b[0m \u001b[38;5;28;01mif\u001b[39;00m \u001b[38;5;129;01mnot\u001b[39;00m fitted:\n\u001b[0;32m-> 1380\u001b[0m     \u001b[38;5;28;01mraise\u001b[39;00m NotFittedError(msg \u001b[38;5;241m%\u001b[39m {\u001b[38;5;124m\"\u001b[39m\u001b[38;5;124mname\u001b[39m\u001b[38;5;124m\"\u001b[39m: \u001b[38;5;28mtype\u001b[39m(estimator)\u001b[38;5;241m.\u001b[39m\u001b[38;5;18m__name__\u001b[39m})\n",
      "\u001b[0;31mNotFittedError\u001b[0m: This LogisticRegression instance is not fitted yet. Call 'fit' with appropriate arguments before using this estimator."
     ]
    }
   ],
   "source": [
    "y_pred = logisticRegr.predict(39)\n",
    "print(y_pred)"
   ]
  },
  {
   "cell_type": "code",
   "execution_count": 43,
   "id": "5e0dbd58",
   "metadata": {
    "execution": {
     "iopub.execute_input": "2023-05-10T01:11:46.410007Z",
     "iopub.status.busy": "2023-05-10T01:11:46.409923Z",
     "iopub.status.idle": "2023-05-10T01:11:46.412036Z",
     "shell.execute_reply": "2023-05-10T01:11:46.411820Z"
    }
   },
   "outputs": [
    {
     "data": {
      "text/plain": [
       "3"
      ]
     },
     "execution_count": 43,
     "metadata": {},
     "output_type": "execute_result"
    }
   ],
   "source": [
    "test_data.shape[1]"
   ]
  },
  {
   "cell_type": "code",
   "execution_count": 44,
   "id": "c167e94d",
   "metadata": {
    "execution": {
     "iopub.execute_input": "2023-05-10T01:11:46.413368Z",
     "iopub.status.busy": "2023-05-10T01:11:46.413281Z",
     "iopub.status.idle": "2023-05-10T01:11:46.415337Z",
     "shell.execute_reply": "2023-05-10T01:11:46.415091Z"
    }
   },
   "outputs": [
    {
     "data": {
      "text/plain": [
       "120"
      ]
     },
     "execution_count": 44,
     "metadata": {},
     "output_type": "execute_result"
    }
   ],
   "source": [
    "test_data.shape[0]"
   ]
  },
  {
   "cell_type": "code",
   "execution_count": 45,
   "id": "86d2cec4",
   "metadata": {
    "execution": {
     "iopub.execute_input": "2023-05-10T01:11:46.416692Z",
     "iopub.status.busy": "2023-05-10T01:11:46.416602Z",
     "iopub.status.idle": "2023-05-10T01:11:46.418873Z",
     "shell.execute_reply": "2023-05-10T01:11:46.418652Z"
    }
   },
   "outputs": [
    {
     "data": {
      "text/plain": [
       "array([[39]])"
      ]
     },
     "execution_count": 45,
     "metadata": {},
     "output_type": "execute_result"
    }
   ],
   "source": [
    "test_data.shape[0]\n",
    "x_pred = np.reshape([39], (1,1))\n",
    "x_pred"
   ]
  },
  {
   "cell_type": "code",
   "execution_count": 46,
   "id": "f7cdedbe",
   "metadata": {
    "execution": {
     "iopub.execute_input": "2023-05-10T01:11:46.420161Z",
     "iopub.status.busy": "2023-05-10T01:11:46.420084Z",
     "iopub.status.idle": "2023-05-10T01:11:46.421626Z",
     "shell.execute_reply": "2023-05-10T01:11:46.421399Z"
    }
   },
   "outputs": [],
   "source": [
    "from sklearn.linear_model import LogisticRegression\n",
    "logisticRegr = LogisticRegression(solver = 'lbfgs')"
   ]
  },
  {
   "cell_type": "code",
   "execution_count": 47,
   "id": "14e43822",
   "metadata": {
    "execution": {
     "iopub.execute_input": "2023-05-10T01:11:46.422936Z",
     "iopub.status.busy": "2023-05-10T01:11:46.422853Z",
     "iopub.status.idle": "2023-05-10T01:11:46.801067Z",
     "shell.execute_reply": "2023-05-10T01:11:46.800777Z"
    }
   },
   "outputs": [
    {
     "ename": "ValueError",
     "evalue": "Data must be 1-dimensional",
     "output_type": "error",
     "traceback": [
      "\u001b[0;31m---------------------------------------------------------------------------\u001b[0m",
      "\u001b[0;31mValueError\u001b[0m                                Traceback (most recent call last)",
      "Cell \u001b[0;32mIn [47], line 1\u001b[0m\n\u001b[0;32m----> 1\u001b[0m x_train \u001b[38;5;241m=\u001b[39m \u001b[43mnp\u001b[49m\u001b[38;5;241;43m.\u001b[39;49m\u001b[43mreshape\u001b[49m\u001b[43m(\u001b[49m\u001b[43mtest_data\u001b[49m\u001b[43m[\u001b[49m\u001b[38;5;124;43m\"\u001b[39;49m\u001b[38;5;124;43mweek_number\u001b[39;49m\u001b[38;5;124;43m\"\u001b[39;49m\u001b[43m]\u001b[49m\u001b[43m,\u001b[49m\u001b[43m \u001b[49m\u001b[43m(\u001b[49m\u001b[43mtest_data\u001b[49m\u001b[38;5;241;43m.\u001b[39;49m\u001b[43mshape\u001b[49m\u001b[43m[\u001b[49m\u001b[38;5;241;43m0\u001b[39;49m\u001b[43m]\u001b[49m\u001b[43m,\u001b[49m\u001b[38;5;241;43m1\u001b[39;49m\u001b[43m)\u001b[49m\u001b[43m)\u001b[49m\n\u001b[1;32m      2\u001b[0m y_train \u001b[38;5;241m=\u001b[39m np\u001b[38;5;241m.\u001b[39mreshape(test_data[\u001b[38;5;124m\"\u001b[39m\u001b[38;5;124mtotal_claims\u001b[39m\u001b[38;5;124m\"\u001b[39m], (test_data\u001b[38;5;241m.\u001b[39mshape[\u001b[38;5;241m0\u001b[39m],\u001b[38;5;241m1\u001b[39m))\n\u001b[1;32m      3\u001b[0m logreg\u001b[38;5;241m.\u001b[39mfit(x_train, y_train)\n",
      "File \u001b[0;32m<__array_function__ internals>:180\u001b[0m, in \u001b[0;36mreshape\u001b[0;34m(*args, **kwargs)\u001b[0m\n",
      "File \u001b[0;32m/opt/homebrew/lib/python3.9/site-packages/numpy/core/fromnumeric.py:298\u001b[0m, in \u001b[0;36mreshape\u001b[0;34m(a, newshape, order)\u001b[0m\n\u001b[1;32m    198\u001b[0m \u001b[38;5;129m@array_function_dispatch\u001b[39m(_reshape_dispatcher)\n\u001b[1;32m    199\u001b[0m \u001b[38;5;28;01mdef\u001b[39;00m \u001b[38;5;21mreshape\u001b[39m(a, newshape, order\u001b[38;5;241m=\u001b[39m\u001b[38;5;124m'\u001b[39m\u001b[38;5;124mC\u001b[39m\u001b[38;5;124m'\u001b[39m):\n\u001b[1;32m    200\u001b[0m     \u001b[38;5;124;03m\"\"\"\u001b[39;00m\n\u001b[1;32m    201\u001b[0m \u001b[38;5;124;03m    Gives a new shape to an array without changing its data.\u001b[39;00m\n\u001b[1;32m    202\u001b[0m \n\u001b[0;32m   (...)\u001b[0m\n\u001b[1;32m    296\u001b[0m \u001b[38;5;124;03m           [5, 6]])\u001b[39;00m\n\u001b[1;32m    297\u001b[0m \u001b[38;5;124;03m    \"\"\"\u001b[39;00m\n\u001b[0;32m--> 298\u001b[0m     \u001b[38;5;28;01mreturn\u001b[39;00m \u001b[43m_wrapfunc\u001b[49m\u001b[43m(\u001b[49m\u001b[43ma\u001b[49m\u001b[43m,\u001b[49m\u001b[43m \u001b[49m\u001b[38;5;124;43m'\u001b[39;49m\u001b[38;5;124;43mreshape\u001b[39;49m\u001b[38;5;124;43m'\u001b[39;49m\u001b[43m,\u001b[49m\u001b[43m \u001b[49m\u001b[43mnewshape\u001b[49m\u001b[43m,\u001b[49m\u001b[43m \u001b[49m\u001b[43morder\u001b[49m\u001b[38;5;241;43m=\u001b[39;49m\u001b[43morder\u001b[49m\u001b[43m)\u001b[49m\n",
      "File \u001b[0;32m/opt/homebrew/lib/python3.9/site-packages/numpy/core/fromnumeric.py:54\u001b[0m, in \u001b[0;36m_wrapfunc\u001b[0;34m(obj, method, *args, **kwds)\u001b[0m\n\u001b[1;32m     52\u001b[0m bound \u001b[38;5;241m=\u001b[39m \u001b[38;5;28mgetattr\u001b[39m(obj, method, \u001b[38;5;28;01mNone\u001b[39;00m)\n\u001b[1;32m     53\u001b[0m \u001b[38;5;28;01mif\u001b[39;00m bound \u001b[38;5;129;01mis\u001b[39;00m \u001b[38;5;28;01mNone\u001b[39;00m:\n\u001b[0;32m---> 54\u001b[0m     \u001b[38;5;28;01mreturn\u001b[39;00m \u001b[43m_wrapit\u001b[49m\u001b[43m(\u001b[49m\u001b[43mobj\u001b[49m\u001b[43m,\u001b[49m\u001b[43m \u001b[49m\u001b[43mmethod\u001b[49m\u001b[43m,\u001b[49m\u001b[43m \u001b[49m\u001b[38;5;241;43m*\u001b[39;49m\u001b[43margs\u001b[49m\u001b[43m,\u001b[49m\u001b[43m \u001b[49m\u001b[38;5;241;43m*\u001b[39;49m\u001b[38;5;241;43m*\u001b[39;49m\u001b[43mkwds\u001b[49m\u001b[43m)\u001b[49m\n\u001b[1;32m     56\u001b[0m \u001b[38;5;28;01mtry\u001b[39;00m:\n\u001b[1;32m     57\u001b[0m     \u001b[38;5;28;01mreturn\u001b[39;00m bound(\u001b[38;5;241m*\u001b[39margs, \u001b[38;5;241m*\u001b[39m\u001b[38;5;241m*\u001b[39mkwds)\n",
      "File \u001b[0;32m/opt/homebrew/lib/python3.9/site-packages/numpy/core/fromnumeric.py:47\u001b[0m, in \u001b[0;36m_wrapit\u001b[0;34m(obj, method, *args, **kwds)\u001b[0m\n\u001b[1;32m     45\u001b[0m     \u001b[38;5;28;01mif\u001b[39;00m \u001b[38;5;129;01mnot\u001b[39;00m \u001b[38;5;28misinstance\u001b[39m(result, mu\u001b[38;5;241m.\u001b[39mndarray):\n\u001b[1;32m     46\u001b[0m         result \u001b[38;5;241m=\u001b[39m asarray(result)\n\u001b[0;32m---> 47\u001b[0m     result \u001b[38;5;241m=\u001b[39m \u001b[43mwrap\u001b[49m\u001b[43m(\u001b[49m\u001b[43mresult\u001b[49m\u001b[43m)\u001b[49m\n\u001b[1;32m     48\u001b[0m \u001b[38;5;28;01mreturn\u001b[39;00m result\n",
      "File \u001b[0;32m/opt/homebrew/lib/python3.9/site-packages/pandas/core/generic.py:2107\u001b[0m, in \u001b[0;36mNDFrame.__array_wrap__\u001b[0;34m(self, result, context)\u001b[0m\n\u001b[1;32m   2105\u001b[0m     \u001b[38;5;28;01mreturn\u001b[39;00m res\n\u001b[1;32m   2106\u001b[0m d \u001b[38;5;241m=\u001b[39m \u001b[38;5;28mself\u001b[39m\u001b[38;5;241m.\u001b[39m_construct_axes_dict(\u001b[38;5;28mself\u001b[39m\u001b[38;5;241m.\u001b[39m_AXIS_ORDERS, copy\u001b[38;5;241m=\u001b[39m\u001b[38;5;28;01mFalse\u001b[39;00m)\n\u001b[0;32m-> 2107\u001b[0m \u001b[38;5;28;01mreturn\u001b[39;00m \u001b[38;5;28;43mself\u001b[39;49m\u001b[38;5;241;43m.\u001b[39;49m\u001b[43m_constructor\u001b[49m\u001b[43m(\u001b[49m\u001b[43mres\u001b[49m\u001b[43m,\u001b[49m\u001b[43m \u001b[49m\u001b[38;5;241;43m*\u001b[39;49m\u001b[38;5;241;43m*\u001b[39;49m\u001b[43md\u001b[49m\u001b[43m)\u001b[49m\u001b[38;5;241m.\u001b[39m__finalize__(\u001b[38;5;28mself\u001b[39m, method\u001b[38;5;241m=\u001b[39m\u001b[38;5;124m\"\u001b[39m\u001b[38;5;124m__array_wrap__\u001b[39m\u001b[38;5;124m\"\u001b[39m)\n",
      "File \u001b[0;32m/opt/homebrew/lib/python3.9/site-packages/pandas/core/series.py:470\u001b[0m, in \u001b[0;36mSeries.__init__\u001b[0;34m(self, data, index, dtype, name, copy, fastpath)\u001b[0m\n\u001b[1;32m    468\u001b[0m         data \u001b[38;5;241m=\u001b[39m data\u001b[38;5;241m.\u001b[39mcopy()\n\u001b[1;32m    469\u001b[0m \u001b[38;5;28;01melse\u001b[39;00m:\n\u001b[0;32m--> 470\u001b[0m     data \u001b[38;5;241m=\u001b[39m \u001b[43msanitize_array\u001b[49m\u001b[43m(\u001b[49m\u001b[43mdata\u001b[49m\u001b[43m,\u001b[49m\u001b[43m \u001b[49m\u001b[43mindex\u001b[49m\u001b[43m,\u001b[49m\u001b[43m \u001b[49m\u001b[43mdtype\u001b[49m\u001b[43m,\u001b[49m\u001b[43m \u001b[49m\u001b[43mcopy\u001b[49m\u001b[43m)\u001b[49m\n\u001b[1;32m    472\u001b[0m     manager \u001b[38;5;241m=\u001b[39m get_option(\u001b[38;5;124m\"\u001b[39m\u001b[38;5;124mmode.data_manager\u001b[39m\u001b[38;5;124m\"\u001b[39m)\n\u001b[1;32m    473\u001b[0m     \u001b[38;5;28;01mif\u001b[39;00m manager \u001b[38;5;241m==\u001b[39m \u001b[38;5;124m\"\u001b[39m\u001b[38;5;124mblock\u001b[39m\u001b[38;5;124m\"\u001b[39m:\n",
      "File \u001b[0;32m/opt/homebrew/lib/python3.9/site-packages/pandas/core/construction.py:647\u001b[0m, in \u001b[0;36msanitize_array\u001b[0;34m(data, index, dtype, copy, raise_cast_failure, allow_2d)\u001b[0m\n\u001b[1;32m    644\u001b[0m             subarr \u001b[38;5;241m=\u001b[39m cast(np\u001b[38;5;241m.\u001b[39mndarray, subarr)\n\u001b[1;32m    645\u001b[0m             subarr \u001b[38;5;241m=\u001b[39m maybe_infer_to_datetimelike(subarr)\n\u001b[0;32m--> 647\u001b[0m subarr \u001b[38;5;241m=\u001b[39m \u001b[43m_sanitize_ndim\u001b[49m\u001b[43m(\u001b[49m\u001b[43msubarr\u001b[49m\u001b[43m,\u001b[49m\u001b[43m \u001b[49m\u001b[43mdata\u001b[49m\u001b[43m,\u001b[49m\u001b[43m \u001b[49m\u001b[43mdtype\u001b[49m\u001b[43m,\u001b[49m\u001b[43m \u001b[49m\u001b[43mindex\u001b[49m\u001b[43m,\u001b[49m\u001b[43m \u001b[49m\u001b[43mallow_2d\u001b[49m\u001b[38;5;241;43m=\u001b[39;49m\u001b[43mallow_2d\u001b[49m\u001b[43m)\u001b[49m\n\u001b[1;32m    649\u001b[0m \u001b[38;5;28;01mif\u001b[39;00m \u001b[38;5;28misinstance\u001b[39m(subarr, np\u001b[38;5;241m.\u001b[39mndarray):\n\u001b[1;32m    650\u001b[0m     \u001b[38;5;66;03m# at this point we should have dtype be None or subarr.dtype == dtype\u001b[39;00m\n\u001b[1;32m    651\u001b[0m     dtype \u001b[38;5;241m=\u001b[39m cast(np\u001b[38;5;241m.\u001b[39mdtype, dtype)\n",
      "File \u001b[0;32m/opt/homebrew/lib/python3.9/site-packages/pandas/core/construction.py:698\u001b[0m, in \u001b[0;36m_sanitize_ndim\u001b[0;34m(result, data, dtype, index, allow_2d)\u001b[0m\n\u001b[1;32m    696\u001b[0m     \u001b[38;5;28;01mif\u001b[39;00m allow_2d:\n\u001b[1;32m    697\u001b[0m         \u001b[38;5;28;01mreturn\u001b[39;00m result\n\u001b[0;32m--> 698\u001b[0m     \u001b[38;5;28;01mraise\u001b[39;00m \u001b[38;5;167;01mValueError\u001b[39;00m(\u001b[38;5;124m\"\u001b[39m\u001b[38;5;124mData must be 1-dimensional\u001b[39m\u001b[38;5;124m\"\u001b[39m)\n\u001b[1;32m    699\u001b[0m \u001b[38;5;28;01mif\u001b[39;00m is_object_dtype(dtype) \u001b[38;5;129;01mand\u001b[39;00m \u001b[38;5;28misinstance\u001b[39m(dtype, ExtensionDtype):\n\u001b[1;32m    700\u001b[0m     \u001b[38;5;66;03m# i.e. PandasDtype(\"O\")\u001b[39;00m\n\u001b[1;32m    702\u001b[0m     result \u001b[38;5;241m=\u001b[39m com\u001b[38;5;241m.\u001b[39masarray_tuplesafe(data, dtype\u001b[38;5;241m=\u001b[39mnp\u001b[38;5;241m.\u001b[39mdtype(\u001b[38;5;124m\"\u001b[39m\u001b[38;5;124mobject\u001b[39m\u001b[38;5;124m\"\u001b[39m))\n",
      "\u001b[0;31mValueError\u001b[0m: Data must be 1-dimensional"
     ]
    }
   ],
   "source": [
    "x_train = np.reshape(test_data[\"week_number\"], (test_data.shape[0],1))\n",
    "y_train = np.reshape(test_data[\"total_claims\"], (test_data.shape[0],1))\n",
    "logreg.fit(x_train, y_train)"
   ]
  },
  {
   "cell_type": "code",
   "execution_count": 48,
   "id": "3d854656",
   "metadata": {
    "execution": {
     "iopub.execute_input": "2023-05-10T01:11:46.802624Z",
     "iopub.status.busy": "2023-05-10T01:11:46.802513Z",
     "iopub.status.idle": "2023-05-10T01:11:46.809325Z",
     "shell.execute_reply": "2023-05-10T01:11:46.809079Z"
    }
   },
   "outputs": [
    {
     "ename": "NameError",
     "evalue": "name 'logreg' is not defined",
     "output_type": "error",
     "traceback": [
      "\u001b[0;31m---------------------------------------------------------------------------\u001b[0m",
      "\u001b[0;31mNameError\u001b[0m                                 Traceback (most recent call last)",
      "Cell \u001b[0;32mIn [48], line 2\u001b[0m\n\u001b[1;32m      1\u001b[0m x_pred \u001b[38;5;241m=\u001b[39m np\u001b[38;5;241m.\u001b[39mreshape([\u001b[38;5;241m39\u001b[39m], (\u001b[38;5;241m1\u001b[39m,\u001b[38;5;241m1\u001b[39m))\n\u001b[0;32m----> 2\u001b[0m y_pred \u001b[38;5;241m=\u001b[39m \u001b[43mlogreg\u001b[49m\u001b[38;5;241m.\u001b[39mpredict(x_pred)\n\u001b[1;32m      3\u001b[0m \u001b[38;5;28mprint\u001b[39m(y_pred)\n",
      "\u001b[0;31mNameError\u001b[0m: name 'logreg' is not defined"
     ]
    }
   ],
   "source": [
    "x_pred = np.reshape([39], (1,1))\n",
    "y_pred = logreg.predict(x_pred)\n",
    "print(y_pred)"
   ]
  },
  {
   "cell_type": "code",
   "execution_count": 49,
   "id": "0a808894",
   "metadata": {
    "execution": {
     "iopub.execute_input": "2023-05-10T01:11:46.810655Z",
     "iopub.status.busy": "2023-05-10T01:11:46.810574Z",
     "iopub.status.idle": "2023-05-10T01:11:46.812186Z",
     "shell.execute_reply": "2023-05-10T01:11:46.811938Z"
    }
   },
   "outputs": [],
   "source": [
    "from sklearn.linear_model import LogisticRegression\n",
    "logisticRegr = LogisticRegression(solver = 'lbfgs')"
   ]
  },
  {
   "cell_type": "code",
   "execution_count": 50,
   "id": "927b43c0",
   "metadata": {
    "execution": {
     "iopub.execute_input": "2023-05-10T01:11:46.813491Z",
     "iopub.status.busy": "2023-05-10T01:11:46.813413Z",
     "iopub.status.idle": "2023-05-10T01:11:46.820540Z",
     "shell.execute_reply": "2023-05-10T01:11:46.820276Z"
    }
   },
   "outputs": [
    {
     "ename": "NameError",
     "evalue": "name 'logreg' is not defined",
     "output_type": "error",
     "traceback": [
      "\u001b[0;31m---------------------------------------------------------------------------\u001b[0m",
      "\u001b[0;31mNameError\u001b[0m                                 Traceback (most recent call last)",
      "Cell \u001b[0;32mIn [50], line 3\u001b[0m\n\u001b[1;32m      1\u001b[0m x_train \u001b[38;5;241m=\u001b[39m np\u001b[38;5;241m.\u001b[39mreshape(test_data[\u001b[38;5;124m\"\u001b[39m\u001b[38;5;124mweek_number\u001b[39m\u001b[38;5;124m\"\u001b[39m]\u001b[38;5;241m.\u001b[39mto_numpy(), (test_data\u001b[38;5;241m.\u001b[39mshape[\u001b[38;5;241m0\u001b[39m],\u001b[38;5;241m1\u001b[39m))\n\u001b[1;32m      2\u001b[0m y_train \u001b[38;5;241m=\u001b[39m np\u001b[38;5;241m.\u001b[39mreshape(test_data[\u001b[38;5;124m\"\u001b[39m\u001b[38;5;124mtotal_claims\u001b[39m\u001b[38;5;124m\"\u001b[39m]\u001b[38;5;241m.\u001b[39mto_numpy(), (test_data\u001b[38;5;241m.\u001b[39mshape[\u001b[38;5;241m0\u001b[39m],\u001b[38;5;241m1\u001b[39m))\n\u001b[0;32m----> 3\u001b[0m \u001b[43mlogreg\u001b[49m\u001b[38;5;241m.\u001b[39mfit(x_train, y_train)\n",
      "\u001b[0;31mNameError\u001b[0m: name 'logreg' is not defined"
     ]
    }
   ],
   "source": [
    "x_train = np.reshape(test_data[\"week_number\"].to_numpy(), (test_data.shape[0],1))\n",
    "y_train = np.reshape(test_data[\"total_claims\"].to_numpy(), (test_data.shape[0],1))\n",
    "logreg.fit(x_train, y_train)"
   ]
  },
  {
   "cell_type": "code",
   "execution_count": 51,
   "id": "5d0c8d5b",
   "metadata": {
    "execution": {
     "iopub.execute_input": "2023-05-10T01:11:46.821935Z",
     "iopub.status.busy": "2023-05-10T01:11:46.821844Z",
     "iopub.status.idle": "2023-05-10T01:11:46.828209Z",
     "shell.execute_reply": "2023-05-10T01:11:46.827980Z"
    }
   },
   "outputs": [
    {
     "ename": "NameError",
     "evalue": "name 'logreg' is not defined",
     "output_type": "error",
     "traceback": [
      "\u001b[0;31m---------------------------------------------------------------------------\u001b[0m",
      "\u001b[0;31mNameError\u001b[0m                                 Traceback (most recent call last)",
      "Cell \u001b[0;32mIn [51], line 2\u001b[0m\n\u001b[1;32m      1\u001b[0m x_pred \u001b[38;5;241m=\u001b[39m np\u001b[38;5;241m.\u001b[39mreshape([\u001b[38;5;241m39\u001b[39m], (\u001b[38;5;241m1\u001b[39m,\u001b[38;5;241m1\u001b[39m))\n\u001b[0;32m----> 2\u001b[0m y_pred \u001b[38;5;241m=\u001b[39m \u001b[43mlogreg\u001b[49m\u001b[38;5;241m.\u001b[39mpredict(x_pred)\n\u001b[1;32m      3\u001b[0m \u001b[38;5;28mprint\u001b[39m(y_pred)\n",
      "\u001b[0;31mNameError\u001b[0m: name 'logreg' is not defined"
     ]
    }
   ],
   "source": [
    "x_pred = np.reshape([39], (1,1))\n",
    "y_pred = logreg.predict(x_pred)\n",
    "print(y_pred)"
   ]
  },
  {
   "cell_type": "code",
   "execution_count": 52,
   "id": "66814a8d",
   "metadata": {
    "execution": {
     "iopub.execute_input": "2023-05-10T01:11:46.829552Z",
     "iopub.status.busy": "2023-05-10T01:11:46.829473Z",
     "iopub.status.idle": "2023-05-10T01:11:46.831153Z",
     "shell.execute_reply": "2023-05-10T01:11:46.830899Z"
    }
   },
   "outputs": [],
   "source": [
    "from sklearn.linear_model import LogisticRegression\n",
    "logisticRegr = LogisticRegression(solver = 'lbfgs')"
   ]
  },
  {
   "cell_type": "code",
   "execution_count": 53,
   "id": "859e254e",
   "metadata": {
    "execution": {
     "iopub.execute_input": "2023-05-10T01:11:46.832451Z",
     "iopub.status.busy": "2023-05-10T01:11:46.832376Z",
     "iopub.status.idle": "2023-05-10T01:11:46.869069Z",
     "shell.execute_reply": "2023-05-10T01:11:46.868797Z"
    }
   },
   "outputs": [
    {
     "name": "stderr",
     "output_type": "stream",
     "text": [
      "/opt/homebrew/lib/python3.9/site-packages/sklearn/utils/validation.py:1141: DataConversionWarning: A column-vector y was passed when a 1d array was expected. Please change the shape of y to (n_samples, ), for example using ravel().\n",
      "  y = column_or_1d(y, warn=True)\n"
     ]
    },
    {
     "ename": "ValueError",
     "evalue": "Unknown label type: 'unknown'",
     "output_type": "error",
     "traceback": [
      "\u001b[0;31m---------------------------------------------------------------------------\u001b[0m",
      "\u001b[0;31mValueError\u001b[0m                                Traceback (most recent call last)",
      "Cell \u001b[0;32mIn [53], line 3\u001b[0m\n\u001b[1;32m      1\u001b[0m x_train \u001b[38;5;241m=\u001b[39m np\u001b[38;5;241m.\u001b[39mreshape(test_data[\u001b[38;5;124m\"\u001b[39m\u001b[38;5;124mweek_number\u001b[39m\u001b[38;5;124m\"\u001b[39m]\u001b[38;5;241m.\u001b[39mto_numpy(), (test_data\u001b[38;5;241m.\u001b[39mshape[\u001b[38;5;241m0\u001b[39m],\u001b[38;5;241m1\u001b[39m))\n\u001b[1;32m      2\u001b[0m y_train \u001b[38;5;241m=\u001b[39m np\u001b[38;5;241m.\u001b[39mreshape(test_data[\u001b[38;5;124m\"\u001b[39m\u001b[38;5;124mtotal_claims\u001b[39m\u001b[38;5;124m\"\u001b[39m]\u001b[38;5;241m.\u001b[39mto_numpy(), (test_data\u001b[38;5;241m.\u001b[39mshape[\u001b[38;5;241m0\u001b[39m],\u001b[38;5;241m1\u001b[39m))\n\u001b[0;32m----> 3\u001b[0m \u001b[43mlogisticRegr\u001b[49m\u001b[38;5;241;43m.\u001b[39;49m\u001b[43mfit\u001b[49m\u001b[43m(\u001b[49m\u001b[43mx_train\u001b[49m\u001b[43m,\u001b[49m\u001b[43m \u001b[49m\u001b[43my_train\u001b[49m\u001b[43m)\u001b[49m\n",
      "File \u001b[0;32m/opt/homebrew/lib/python3.9/site-packages/sklearn/linear_model/_logistic.py:1204\u001b[0m, in \u001b[0;36mLogisticRegression.fit\u001b[0;34m(self, X, y, sample_weight)\u001b[0m\n\u001b[1;32m   1194\u001b[0m     _dtype \u001b[38;5;241m=\u001b[39m [np\u001b[38;5;241m.\u001b[39mfloat64, np\u001b[38;5;241m.\u001b[39mfloat32]\n\u001b[1;32m   1196\u001b[0m X, y \u001b[38;5;241m=\u001b[39m \u001b[38;5;28mself\u001b[39m\u001b[38;5;241m.\u001b[39m_validate_data(\n\u001b[1;32m   1197\u001b[0m     X,\n\u001b[1;32m   1198\u001b[0m     y,\n\u001b[0;32m   (...)\u001b[0m\n\u001b[1;32m   1202\u001b[0m     accept_large_sparse\u001b[38;5;241m=\u001b[39msolver \u001b[38;5;129;01mnot\u001b[39;00m \u001b[38;5;129;01min\u001b[39;00m [\u001b[38;5;124m\"\u001b[39m\u001b[38;5;124mliblinear\u001b[39m\u001b[38;5;124m\"\u001b[39m, \u001b[38;5;124m\"\u001b[39m\u001b[38;5;124msag\u001b[39m\u001b[38;5;124m\"\u001b[39m, \u001b[38;5;124m\"\u001b[39m\u001b[38;5;124msaga\u001b[39m\u001b[38;5;124m\"\u001b[39m],\n\u001b[1;32m   1203\u001b[0m )\n\u001b[0;32m-> 1204\u001b[0m \u001b[43mcheck_classification_targets\u001b[49m\u001b[43m(\u001b[49m\u001b[43my\u001b[49m\u001b[43m)\u001b[49m\n\u001b[1;32m   1205\u001b[0m \u001b[38;5;28mself\u001b[39m\u001b[38;5;241m.\u001b[39mclasses_ \u001b[38;5;241m=\u001b[39m np\u001b[38;5;241m.\u001b[39munique(y)\n\u001b[1;32m   1207\u001b[0m multi_class \u001b[38;5;241m=\u001b[39m _check_multi_class(\u001b[38;5;28mself\u001b[39m\u001b[38;5;241m.\u001b[39mmulti_class, solver, \u001b[38;5;28mlen\u001b[39m(\u001b[38;5;28mself\u001b[39m\u001b[38;5;241m.\u001b[39mclasses_))\n",
      "File \u001b[0;32m/opt/homebrew/lib/python3.9/site-packages/sklearn/utils/multiclass.py:207\u001b[0m, in \u001b[0;36mcheck_classification_targets\u001b[0;34m(y)\u001b[0m\n\u001b[1;32m    199\u001b[0m y_type \u001b[38;5;241m=\u001b[39m type_of_target(y, input_name\u001b[38;5;241m=\u001b[39m\u001b[38;5;124m\"\u001b[39m\u001b[38;5;124my\u001b[39m\u001b[38;5;124m\"\u001b[39m)\n\u001b[1;32m    200\u001b[0m \u001b[38;5;28;01mif\u001b[39;00m y_type \u001b[38;5;129;01mnot\u001b[39;00m \u001b[38;5;129;01min\u001b[39;00m [\n\u001b[1;32m    201\u001b[0m     \u001b[38;5;124m\"\u001b[39m\u001b[38;5;124mbinary\u001b[39m\u001b[38;5;124m\"\u001b[39m,\n\u001b[1;32m    202\u001b[0m     \u001b[38;5;124m\"\u001b[39m\u001b[38;5;124mmulticlass\u001b[39m\u001b[38;5;124m\"\u001b[39m,\n\u001b[0;32m   (...)\u001b[0m\n\u001b[1;32m    205\u001b[0m     \u001b[38;5;124m\"\u001b[39m\u001b[38;5;124mmultilabel-sequences\u001b[39m\u001b[38;5;124m\"\u001b[39m,\n\u001b[1;32m    206\u001b[0m ]:\n\u001b[0;32m--> 207\u001b[0m     \u001b[38;5;28;01mraise\u001b[39;00m \u001b[38;5;167;01mValueError\u001b[39;00m(\u001b[38;5;124m\"\u001b[39m\u001b[38;5;124mUnknown label type: \u001b[39m\u001b[38;5;132;01m%r\u001b[39;00m\u001b[38;5;124m\"\u001b[39m \u001b[38;5;241m%\u001b[39m y_type)\n",
      "\u001b[0;31mValueError\u001b[0m: Unknown label type: 'unknown'"
     ]
    }
   ],
   "source": [
    "x_train = np.reshape(test_data[\"week_number\"].to_numpy(), (test_data.shape[0],1))\n",
    "y_train = np.reshape(test_data[\"total_claims\"].to_numpy(), (test_data.shape[0],1))\n",
    "logisticRegr.fit(x_train, y_train)"
   ]
  },
  {
   "cell_type": "code",
   "execution_count": 54,
   "id": "78fdf9c7",
   "metadata": {
    "execution": {
     "iopub.execute_input": "2023-05-10T01:11:46.870596Z",
     "iopub.status.busy": "2023-05-10T01:11:46.870493Z",
     "iopub.status.idle": "2023-05-10T01:11:46.885546Z",
     "shell.execute_reply": "2023-05-10T01:11:46.885292Z"
    }
   },
   "outputs": [
    {
     "ename": "AttributeError",
     "evalue": "'LogisticRegression' object has no attribute 'coef_'",
     "output_type": "error",
     "traceback": [
      "\u001b[0;31m---------------------------------------------------------------------------\u001b[0m",
      "\u001b[0;31mAttributeError\u001b[0m                            Traceback (most recent call last)",
      "Cell \u001b[0;32mIn [54], line 2\u001b[0m\n\u001b[1;32m      1\u001b[0m x_pred \u001b[38;5;241m=\u001b[39m np\u001b[38;5;241m.\u001b[39mreshape([\u001b[38;5;241m39\u001b[39m], (\u001b[38;5;241m1\u001b[39m,\u001b[38;5;241m1\u001b[39m))\n\u001b[0;32m----> 2\u001b[0m y_pred \u001b[38;5;241m=\u001b[39m \u001b[43mlogisticRegr\u001b[49m\u001b[38;5;241;43m.\u001b[39;49m\u001b[43mpredict\u001b[49m\u001b[43m(\u001b[49m\u001b[43mx_pred\u001b[49m\u001b[43m)\u001b[49m\n\u001b[1;32m      3\u001b[0m \u001b[38;5;28mprint\u001b[39m(y_pred)\n",
      "File \u001b[0;32m/opt/homebrew/lib/python3.9/site-packages/sklearn/linear_model/_base.py:420\u001b[0m, in \u001b[0;36mLinearClassifierMixin.predict\u001b[0;34m(self, X)\u001b[0m\n\u001b[1;32m    406\u001b[0m \u001b[38;5;124;03m\"\"\"\u001b[39;00m\n\u001b[1;32m    407\u001b[0m \u001b[38;5;124;03mPredict class labels for samples in X.\u001b[39;00m\n\u001b[1;32m    408\u001b[0m \n\u001b[0;32m   (...)\u001b[0m\n\u001b[1;32m    417\u001b[0m \u001b[38;5;124;03m    Vector containing the class labels for each sample.\u001b[39;00m\n\u001b[1;32m    418\u001b[0m \u001b[38;5;124;03m\"\"\"\u001b[39;00m\n\u001b[1;32m    419\u001b[0m xp, _ \u001b[38;5;241m=\u001b[39m get_namespace(X)\n\u001b[0;32m--> 420\u001b[0m scores \u001b[38;5;241m=\u001b[39m \u001b[38;5;28;43mself\u001b[39;49m\u001b[38;5;241;43m.\u001b[39;49m\u001b[43mdecision_function\u001b[49m\u001b[43m(\u001b[49m\u001b[43mX\u001b[49m\u001b[43m)\u001b[49m\n\u001b[1;32m    421\u001b[0m \u001b[38;5;28;01mif\u001b[39;00m \u001b[38;5;28mlen\u001b[39m(scores\u001b[38;5;241m.\u001b[39mshape) \u001b[38;5;241m==\u001b[39m \u001b[38;5;241m1\u001b[39m:\n\u001b[1;32m    422\u001b[0m     indices \u001b[38;5;241m=\u001b[39m xp\u001b[38;5;241m.\u001b[39mastype(scores \u001b[38;5;241m>\u001b[39m \u001b[38;5;241m0\u001b[39m, \u001b[38;5;28mint\u001b[39m)\n",
      "File \u001b[0;32m/opt/homebrew/lib/python3.9/site-packages/sklearn/linear_model/_base.py:402\u001b[0m, in \u001b[0;36mLinearClassifierMixin.decision_function\u001b[0;34m(self, X)\u001b[0m\n\u001b[1;32m    399\u001b[0m xp, _ \u001b[38;5;241m=\u001b[39m get_namespace(X)\n\u001b[1;32m    401\u001b[0m X \u001b[38;5;241m=\u001b[39m \u001b[38;5;28mself\u001b[39m\u001b[38;5;241m.\u001b[39m_validate_data(X, accept_sparse\u001b[38;5;241m=\u001b[39m\u001b[38;5;124m\"\u001b[39m\u001b[38;5;124mcsr\u001b[39m\u001b[38;5;124m\"\u001b[39m, reset\u001b[38;5;241m=\u001b[39m\u001b[38;5;28;01mFalse\u001b[39;00m)\n\u001b[0;32m--> 402\u001b[0m scores \u001b[38;5;241m=\u001b[39m safe_sparse_dot(X, \u001b[38;5;28;43mself\u001b[39;49m\u001b[38;5;241;43m.\u001b[39;49m\u001b[43mcoef_\u001b[49m\u001b[38;5;241m.\u001b[39mT, dense_output\u001b[38;5;241m=\u001b[39m\u001b[38;5;28;01mTrue\u001b[39;00m) \u001b[38;5;241m+\u001b[39m \u001b[38;5;28mself\u001b[39m\u001b[38;5;241m.\u001b[39mintercept_\n\u001b[1;32m    403\u001b[0m \u001b[38;5;28;01mreturn\u001b[39;00m xp\u001b[38;5;241m.\u001b[39mreshape(scores, \u001b[38;5;241m-\u001b[39m\u001b[38;5;241m1\u001b[39m) \u001b[38;5;28;01mif\u001b[39;00m scores\u001b[38;5;241m.\u001b[39mshape[\u001b[38;5;241m1\u001b[39m] \u001b[38;5;241m==\u001b[39m \u001b[38;5;241m1\u001b[39m \u001b[38;5;28;01melse\u001b[39;00m scores\n",
      "\u001b[0;31mAttributeError\u001b[0m: 'LogisticRegression' object has no attribute 'coef_'"
     ]
    }
   ],
   "source": [
    "x_pred = np.reshape([39], (1,1))\n",
    "y_pred = logisticRegr.predict(x_pred)\n",
    "print(y_pred)"
   ]
  },
  {
   "cell_type": "code",
   "execution_count": 55,
   "id": "14fc2500",
   "metadata": {
    "execution": {
     "iopub.execute_input": "2023-05-10T01:11:46.886899Z",
     "iopub.status.busy": "2023-05-10T01:11:46.886811Z",
     "iopub.status.idle": "2023-05-10T01:11:46.888515Z",
     "shell.execute_reply": "2023-05-10T01:11:46.888273Z"
    }
   },
   "outputs": [],
   "source": [
    "from sklearn.linear_model import LogisticRegression\n",
    "logisticRegr = LogisticRegression(solver = 'lbfgs')"
   ]
  },
  {
   "cell_type": "code",
   "execution_count": 56,
   "id": "5083eb1b",
   "metadata": {
    "execution": {
     "iopub.execute_input": "2023-05-10T01:11:46.889896Z",
     "iopub.status.busy": "2023-05-10T01:11:46.889820Z",
     "iopub.status.idle": "2023-05-10T01:11:46.908379Z",
     "shell.execute_reply": "2023-05-10T01:11:46.908125Z"
    }
   },
   "outputs": [
    {
     "name": "stderr",
     "output_type": "stream",
     "text": [
      "/opt/homebrew/lib/python3.9/site-packages/sklearn/utils/validation.py:1141: DataConversionWarning: A column-vector y was passed when a 1d array was expected. Please change the shape of y to (n_samples, ), for example using ravel().\n",
      "  y = column_or_1d(y, warn=True)\n"
     ]
    },
    {
     "ename": "ValueError",
     "evalue": "Unknown label type: 'unknown'",
     "output_type": "error",
     "traceback": [
      "\u001b[0;31m---------------------------------------------------------------------------\u001b[0m",
      "\u001b[0;31mValueError\u001b[0m                                Traceback (most recent call last)",
      "Cell \u001b[0;32mIn [56], line 3\u001b[0m\n\u001b[1;32m      1\u001b[0m x_train \u001b[38;5;241m=\u001b[39m np\u001b[38;5;241m.\u001b[39mreshape(test_data[\u001b[38;5;124m\"\u001b[39m\u001b[38;5;124mweek_number\u001b[39m\u001b[38;5;124m\"\u001b[39m]\u001b[38;5;241m.\u001b[39mto_numpy(), (test_data\u001b[38;5;241m.\u001b[39mshape[\u001b[38;5;241m0\u001b[39m],\u001b[38;5;241m1\u001b[39m))\n\u001b[1;32m      2\u001b[0m y_train \u001b[38;5;241m=\u001b[39m np\u001b[38;5;241m.\u001b[39mreshape(test_data[\u001b[38;5;124m\"\u001b[39m\u001b[38;5;124mtotal_claims\u001b[39m\u001b[38;5;124m\"\u001b[39m]\u001b[38;5;241m.\u001b[39mto_numpy(), (test_data\u001b[38;5;241m.\u001b[39mshape[\u001b[38;5;241m0\u001b[39m],\u001b[38;5;241m1\u001b[39m))\n\u001b[0;32m----> 3\u001b[0m \u001b[43mlogisticRegr\u001b[49m\u001b[38;5;241;43m.\u001b[39;49m\u001b[43mfit\u001b[49m\u001b[43m(\u001b[49m\u001b[43mx_train\u001b[49m\u001b[43m,\u001b[49m\u001b[43m \u001b[49m\u001b[43my_train\u001b[49m\u001b[43m)\u001b[49m\n",
      "File \u001b[0;32m/opt/homebrew/lib/python3.9/site-packages/sklearn/linear_model/_logistic.py:1204\u001b[0m, in \u001b[0;36mLogisticRegression.fit\u001b[0;34m(self, X, y, sample_weight)\u001b[0m\n\u001b[1;32m   1194\u001b[0m     _dtype \u001b[38;5;241m=\u001b[39m [np\u001b[38;5;241m.\u001b[39mfloat64, np\u001b[38;5;241m.\u001b[39mfloat32]\n\u001b[1;32m   1196\u001b[0m X, y \u001b[38;5;241m=\u001b[39m \u001b[38;5;28mself\u001b[39m\u001b[38;5;241m.\u001b[39m_validate_data(\n\u001b[1;32m   1197\u001b[0m     X,\n\u001b[1;32m   1198\u001b[0m     y,\n\u001b[0;32m   (...)\u001b[0m\n\u001b[1;32m   1202\u001b[0m     accept_large_sparse\u001b[38;5;241m=\u001b[39msolver \u001b[38;5;129;01mnot\u001b[39;00m \u001b[38;5;129;01min\u001b[39;00m [\u001b[38;5;124m\"\u001b[39m\u001b[38;5;124mliblinear\u001b[39m\u001b[38;5;124m\"\u001b[39m, \u001b[38;5;124m\"\u001b[39m\u001b[38;5;124msag\u001b[39m\u001b[38;5;124m\"\u001b[39m, \u001b[38;5;124m\"\u001b[39m\u001b[38;5;124msaga\u001b[39m\u001b[38;5;124m\"\u001b[39m],\n\u001b[1;32m   1203\u001b[0m )\n\u001b[0;32m-> 1204\u001b[0m \u001b[43mcheck_classification_targets\u001b[49m\u001b[43m(\u001b[49m\u001b[43my\u001b[49m\u001b[43m)\u001b[49m\n\u001b[1;32m   1205\u001b[0m \u001b[38;5;28mself\u001b[39m\u001b[38;5;241m.\u001b[39mclasses_ \u001b[38;5;241m=\u001b[39m np\u001b[38;5;241m.\u001b[39munique(y)\n\u001b[1;32m   1207\u001b[0m multi_class \u001b[38;5;241m=\u001b[39m _check_multi_class(\u001b[38;5;28mself\u001b[39m\u001b[38;5;241m.\u001b[39mmulti_class, solver, \u001b[38;5;28mlen\u001b[39m(\u001b[38;5;28mself\u001b[39m\u001b[38;5;241m.\u001b[39mclasses_))\n",
      "File \u001b[0;32m/opt/homebrew/lib/python3.9/site-packages/sklearn/utils/multiclass.py:207\u001b[0m, in \u001b[0;36mcheck_classification_targets\u001b[0;34m(y)\u001b[0m\n\u001b[1;32m    199\u001b[0m y_type \u001b[38;5;241m=\u001b[39m type_of_target(y, input_name\u001b[38;5;241m=\u001b[39m\u001b[38;5;124m\"\u001b[39m\u001b[38;5;124my\u001b[39m\u001b[38;5;124m\"\u001b[39m)\n\u001b[1;32m    200\u001b[0m \u001b[38;5;28;01mif\u001b[39;00m y_type \u001b[38;5;129;01mnot\u001b[39;00m \u001b[38;5;129;01min\u001b[39;00m [\n\u001b[1;32m    201\u001b[0m     \u001b[38;5;124m\"\u001b[39m\u001b[38;5;124mbinary\u001b[39m\u001b[38;5;124m\"\u001b[39m,\n\u001b[1;32m    202\u001b[0m     \u001b[38;5;124m\"\u001b[39m\u001b[38;5;124mmulticlass\u001b[39m\u001b[38;5;124m\"\u001b[39m,\n\u001b[0;32m   (...)\u001b[0m\n\u001b[1;32m    205\u001b[0m     \u001b[38;5;124m\"\u001b[39m\u001b[38;5;124mmultilabel-sequences\u001b[39m\u001b[38;5;124m\"\u001b[39m,\n\u001b[1;32m    206\u001b[0m ]:\n\u001b[0;32m--> 207\u001b[0m     \u001b[38;5;28;01mraise\u001b[39;00m \u001b[38;5;167;01mValueError\u001b[39;00m(\u001b[38;5;124m\"\u001b[39m\u001b[38;5;124mUnknown label type: \u001b[39m\u001b[38;5;132;01m%r\u001b[39;00m\u001b[38;5;124m\"\u001b[39m \u001b[38;5;241m%\u001b[39m y_type)\n",
      "\u001b[0;31mValueError\u001b[0m: Unknown label type: 'unknown'"
     ]
    }
   ],
   "source": [
    "x_train = np.reshape(test_data[\"week_number\"].to_numpy(), (test_data.shape[0],1))\n",
    "y_train = np.reshape(test_data[\"total_claims\"].to_numpy(), (test_data.shape[0],1))\n",
    "logisticRegr.fit(x_train, y_train)"
   ]
  },
  {
   "cell_type": "code",
   "execution_count": 57,
   "id": "0feb3f16",
   "metadata": {
    "execution": {
     "iopub.execute_input": "2023-05-10T01:11:46.909828Z",
     "iopub.status.busy": "2023-05-10T01:11:46.909742Z",
     "iopub.status.idle": "2023-05-10T01:11:46.911442Z",
     "shell.execute_reply": "2023-05-10T01:11:46.911203Z"
    }
   },
   "outputs": [],
   "source": [
    "from sklearn.linear_model import LogisticRegression\n",
    "logisticRegr = LogisticRegression(solver = 'lbfgs')"
   ]
  },
  {
   "cell_type": "code",
   "execution_count": 58,
   "id": "e8ceec95",
   "metadata": {
    "execution": {
     "iopub.execute_input": "2023-05-10T01:11:46.912751Z",
     "iopub.status.busy": "2023-05-10T01:11:46.912673Z",
     "iopub.status.idle": "2023-05-10T01:11:46.914610Z",
     "shell.execute_reply": "2023-05-10T01:11:46.914378Z"
    }
   },
   "outputs": [],
   "source": [
    "x_train = np.reshape(test_data[\"week_number\"].to_numpy(), (test_data.shape[0],1))\n",
    "y_train = np.reshape(test_data[\"total_claims\"].to_numpy(), (test_data.shape[0],1))"
   ]
  },
  {
   "cell_type": "code",
   "execution_count": 59,
   "id": "80390082",
   "metadata": {
    "execution": {
     "iopub.execute_input": "2023-05-10T01:11:46.915928Z",
     "iopub.status.busy": "2023-05-10T01:11:46.915846Z",
     "iopub.status.idle": "2023-05-10T01:11:46.918021Z",
     "shell.execute_reply": "2023-05-10T01:11:46.917802Z"
    }
   },
   "outputs": [
    {
     "name": "stdout",
     "output_type": "stream",
     "text": [
      "[[34]\n",
      " [15]\n",
      " [21]\n",
      " [34]\n",
      " [7]\n",
      " [2]\n",
      " [35]\n",
      " [35]\n",
      " [20]\n",
      " [25]\n",
      " [36]\n",
      " [36]\n",
      " [12]\n",
      " [19]\n",
      " [6]\n",
      " [19]\n",
      " [32]\n",
      " [7]\n",
      " [32]\n",
      " [24]\n",
      " [32]\n",
      " [30]\n",
      " [29]\n",
      " [27]\n",
      " [26]\n",
      " [6]\n",
      " [28]\n",
      " [24]\n",
      " [1]\n",
      " [5]\n",
      " [13]\n",
      " [25]\n",
      " [31]\n",
      " [15]\n",
      " [14]\n",
      " [20]\n",
      " [37]\n",
      " [2]\n",
      " [33]\n",
      " [21]\n",
      " [35]\n",
      " [35]\n",
      " [37]\n",
      " [1]\n",
      " [19]\n",
      " [33]\n",
      " [37]\n",
      " [37]\n",
      " [32]\n",
      " [29]\n",
      " [32]\n",
      " [32]\n",
      " [27]\n",
      " [8]\n",
      " [36]\n",
      " [36]\n",
      " [2]\n",
      " [18]\n",
      " [34]\n",
      " [20]\n",
      " [31]\n",
      " [22]\n",
      " [34]\n",
      " [17]\n",
      " [14]\n",
      " [16]\n",
      " [5]\n",
      " [11]\n",
      " [16]\n",
      " [37]\n",
      " [37]\n",
      " [3]\n",
      " [26]\n",
      " [32]\n",
      " [34]\n",
      " [32]\n",
      " [32]\n",
      " [29]\n",
      " [34]\n",
      " [25]\n",
      " [30]\n",
      " [9]\n",
      " [3]\n",
      " [22]\n",
      " [33]\n",
      " [33]\n",
      " [26]\n",
      " [8]\n",
      " [17]\n",
      " [18]\n",
      " [10]\n",
      " [33]\n",
      " [31]\n",
      " [33]\n",
      " [22]\n",
      " [16]\n",
      " [27]\n",
      " [30]\n",
      " [10]\n",
      " [11]\n",
      " [1]\n",
      " [13]\n",
      " [24]\n",
      " [15]\n",
      " [10]\n",
      " [13]\n",
      " [8]\n",
      " [6]\n",
      " [11]\n",
      " [3]\n",
      " [36]\n",
      " [36]\n",
      " [14]\n",
      " [12]\n",
      " [35]\n",
      " [35]\n",
      " [17]\n",
      " [12]\n",
      " [18]\n",
      " [9]]\n",
      "[[19]\n",
      " [52]\n",
      " [18]\n",
      " [19]\n",
      " [45]\n",
      " [38]\n",
      " [19]\n",
      " [19]\n",
      " [31]\n",
      " [14]\n",
      " [33]\n",
      " [33]\n",
      " [19]\n",
      " [21]\n",
      " [24]\n",
      " [14]\n",
      " [17]\n",
      " [20]\n",
      " [17]\n",
      " [23]\n",
      " [17]\n",
      " [11]\n",
      " [16]\n",
      " [16]\n",
      " [11]\n",
      " [11]\n",
      " [10]\n",
      " [17]\n",
      " [18]\n",
      " [24]\n",
      " [35]\n",
      " [17]\n",
      " [51]\n",
      " [14]\n",
      " [34]\n",
      " [13]\n",
      " [21]\n",
      " [17]\n",
      " [18]\n",
      " [13]\n",
      " [14]\n",
      " [14]\n",
      " [21]\n",
      " [17]\n",
      " [14]\n",
      " [18]\n",
      " [25]\n",
      " [25]\n",
      " [27]\n",
      " [20]\n",
      " [27]\n",
      " [27]\n",
      " [16]\n",
      " [22]\n",
      " [12]\n",
      " [12]\n",
      " [12]\n",
      " [31]\n",
      " [13]\n",
      " [11]\n",
      " [22]\n",
      " [13]\n",
      " [13]\n",
      " [22]\n",
      " [21]\n",
      " [19]\n",
      " [18]\n",
      " [24]\n",
      " [32]\n",
      " [19]\n",
      " [19]\n",
      " [12]\n",
      " [12]\n",
      " [14]\n",
      " [10]\n",
      " [14]\n",
      " [14]\n",
      " [10]\n",
      " [10]\n",
      " [19]\n",
      " [21]\n",
      " [30]\n",
      " [17]\n",
      " [13]\n",
      " [11]\n",
      " [11]\n",
      " [15]\n",
      " [31]\n",
      " [19]\n",
      " [16]\n",
      " [31]\n",
      " [24]\n",
      " [20]\n",
      " [24]\n",
      " [16]\n",
      " [15]\n",
      " [12]\n",
      " [59]\n",
      " [11]\n",
      " [10]\n",
      " [16]\n",
      " [13]\n",
      " [11]\n",
      " [14]\n",
      " [14]\n",
      " [14]\n",
      " [36]\n",
      " [21]\n",
      " [21]\n",
      " [22]\n",
      " [45]\n",
      " [45]\n",
      " [27]\n",
      " [32]\n",
      " [15]\n",
      " [15]\n",
      " [13]\n",
      " [14]\n",
      " [11]\n",
      " [34]]\n"
     ]
    }
   ],
   "source": [
    "print(x_train)\n",
    "print(y_train)"
   ]
  },
  {
   "cell_type": "code",
   "execution_count": 60,
   "id": "7b4fe381",
   "metadata": {
    "execution": {
     "iopub.execute_input": "2023-05-10T01:11:46.919342Z",
     "iopub.status.busy": "2023-05-10T01:11:46.919262Z",
     "iopub.status.idle": "2023-05-10T01:11:46.920896Z",
     "shell.execute_reply": "2023-05-10T01:11:46.920675Z"
    }
   },
   "outputs": [],
   "source": [
    "from sklearn.linear_model import LogisticRegression\n",
    "logisticRegr = LogisticRegression(solver = 'lbfgs')"
   ]
  },
  {
   "cell_type": "code",
   "execution_count": 61,
   "id": "71847cc7",
   "metadata": {
    "execution": {
     "iopub.execute_input": "2023-05-10T01:11:46.922209Z",
     "iopub.status.busy": "2023-05-10T01:11:46.922135Z",
     "iopub.status.idle": "2023-05-10T01:11:46.924073Z",
     "shell.execute_reply": "2023-05-10T01:11:46.923848Z"
    }
   },
   "outputs": [],
   "source": [
    "x_train = np.reshape(test_data[\"week_number\"].to_numpy(), (test_data.shape[0],1))\n",
    "y_train = np.reshape(test_data[\"total_claims\"].to_numpy(), (test_data.shape[0],1))"
   ]
  },
  {
   "cell_type": "code",
   "execution_count": 62,
   "id": "4a9ba598",
   "metadata": {
    "execution": {
     "iopub.execute_input": "2023-05-10T01:11:46.925493Z",
     "iopub.status.busy": "2023-05-10T01:11:46.925413Z",
     "iopub.status.idle": "2023-05-10T01:11:46.927561Z",
     "shell.execute_reply": "2023-05-10T01:11:46.927325Z"
    }
   },
   "outputs": [
    {
     "name": "stdout",
     "output_type": "stream",
     "text": [
      "[[34]\n",
      " [15]\n",
      " [21]\n",
      " [34]\n",
      " [7]\n",
      " [2]\n",
      " [35]\n",
      " [35]\n",
      " [20]\n",
      " [25]\n",
      " [36]\n",
      " [36]\n",
      " [12]\n",
      " [19]\n",
      " [6]\n",
      " [19]\n",
      " [32]\n",
      " [7]\n",
      " [32]\n",
      " [24]\n",
      " [32]\n",
      " [30]\n",
      " [29]\n",
      " [27]\n",
      " [26]\n",
      " [6]\n",
      " [28]\n",
      " [24]\n",
      " [1]\n",
      " [5]\n",
      " [13]\n",
      " [25]\n",
      " [31]\n",
      " [15]\n",
      " [14]\n",
      " [20]\n",
      " [37]\n",
      " [2]\n",
      " [33]\n",
      " [21]\n",
      " [35]\n",
      " [35]\n",
      " [37]\n",
      " [1]\n",
      " [19]\n",
      " [33]\n",
      " [37]\n",
      " [37]\n",
      " [32]\n",
      " [29]\n",
      " [32]\n",
      " [32]\n",
      " [27]\n",
      " [8]\n",
      " [36]\n",
      " [36]\n",
      " [2]\n",
      " [18]\n",
      " [34]\n",
      " [20]\n",
      " [31]\n",
      " [22]\n",
      " [34]\n",
      " [17]\n",
      " [14]\n",
      " [16]\n",
      " [5]\n",
      " [11]\n",
      " [16]\n",
      " [37]\n",
      " [37]\n",
      " [3]\n",
      " [26]\n",
      " [32]\n",
      " [34]\n",
      " [32]\n",
      " [32]\n",
      " [29]\n",
      " [34]\n",
      " [25]\n",
      " [30]\n",
      " [9]\n",
      " [3]\n",
      " [22]\n",
      " [33]\n",
      " [33]\n",
      " [26]\n",
      " [8]\n",
      " [17]\n",
      " [18]\n",
      " [10]\n",
      " [33]\n",
      " [31]\n",
      " [33]\n",
      " [22]\n",
      " [16]\n",
      " [27]\n",
      " [30]\n",
      " [10]\n",
      " [11]\n",
      " [1]\n",
      " [13]\n",
      " [24]\n",
      " [15]\n",
      " [10]\n",
      " [13]\n",
      " [8]\n",
      " [6]\n",
      " [11]\n",
      " [3]\n",
      " [36]\n",
      " [36]\n",
      " [14]\n",
      " [12]\n",
      " [35]\n",
      " [35]\n",
      " [17]\n",
      " [12]\n",
      " [18]\n",
      " [9]]\n",
      "OK\n",
      "[[19]\n",
      " [52]\n",
      " [18]\n",
      " [19]\n",
      " [45]\n",
      " [38]\n",
      " [19]\n",
      " [19]\n",
      " [31]\n",
      " [14]\n",
      " [33]\n",
      " [33]\n",
      " [19]\n",
      " [21]\n",
      " [24]\n",
      " [14]\n",
      " [17]\n",
      " [20]\n",
      " [17]\n",
      " [23]\n",
      " [17]\n",
      " [11]\n",
      " [16]\n",
      " [16]\n",
      " [11]\n",
      " [11]\n",
      " [10]\n",
      " [17]\n",
      " [18]\n",
      " [24]\n",
      " [35]\n",
      " [17]\n",
      " [51]\n",
      " [14]\n",
      " [34]\n",
      " [13]\n",
      " [21]\n",
      " [17]\n",
      " [18]\n",
      " [13]\n",
      " [14]\n",
      " [14]\n",
      " [21]\n",
      " [17]\n",
      " [14]\n",
      " [18]\n",
      " [25]\n",
      " [25]\n",
      " [27]\n",
      " [20]\n",
      " [27]\n",
      " [27]\n",
      " [16]\n",
      " [22]\n",
      " [12]\n",
      " [12]\n",
      " [12]\n",
      " [31]\n",
      " [13]\n",
      " [11]\n",
      " [22]\n",
      " [13]\n",
      " [13]\n",
      " [22]\n",
      " [21]\n",
      " [19]\n",
      " [18]\n",
      " [24]\n",
      " [32]\n",
      " [19]\n",
      " [19]\n",
      " [12]\n",
      " [12]\n",
      " [14]\n",
      " [10]\n",
      " [14]\n",
      " [14]\n",
      " [10]\n",
      " [10]\n",
      " [19]\n",
      " [21]\n",
      " [30]\n",
      " [17]\n",
      " [13]\n",
      " [11]\n",
      " [11]\n",
      " [15]\n",
      " [31]\n",
      " [19]\n",
      " [16]\n",
      " [31]\n",
      " [24]\n",
      " [20]\n",
      " [24]\n",
      " [16]\n",
      " [15]\n",
      " [12]\n",
      " [59]\n",
      " [11]\n",
      " [10]\n",
      " [16]\n",
      " [13]\n",
      " [11]\n",
      " [14]\n",
      " [14]\n",
      " [14]\n",
      " [36]\n",
      " [21]\n",
      " [21]\n",
      " [22]\n",
      " [45]\n",
      " [45]\n",
      " [27]\n",
      " [32]\n",
      " [15]\n",
      " [15]\n",
      " [13]\n",
      " [14]\n",
      " [11]\n",
      " [34]]\n"
     ]
    }
   ],
   "source": [
    "print(x_train)\n",
    "print(\"OK\")\n",
    "print(y_train)"
   ]
  },
  {
   "cell_type": "code",
   "execution_count": 63,
   "id": "13a909fe",
   "metadata": {
    "execution": {
     "iopub.execute_input": "2023-05-10T01:11:46.928842Z",
     "iopub.status.busy": "2023-05-10T01:11:46.928761Z",
     "iopub.status.idle": "2023-05-10T01:11:46.947299Z",
     "shell.execute_reply": "2023-05-10T01:11:46.947051Z"
    }
   },
   "outputs": [
    {
     "name": "stderr",
     "output_type": "stream",
     "text": [
      "/opt/homebrew/lib/python3.9/site-packages/sklearn/utils/validation.py:1141: DataConversionWarning: A column-vector y was passed when a 1d array was expected. Please change the shape of y to (n_samples, ), for example using ravel().\n",
      "  y = column_or_1d(y, warn=True)\n"
     ]
    },
    {
     "ename": "ValueError",
     "evalue": "Unknown label type: 'unknown'",
     "output_type": "error",
     "traceback": [
      "\u001b[0;31m---------------------------------------------------------------------------\u001b[0m",
      "\u001b[0;31mValueError\u001b[0m                                Traceback (most recent call last)",
      "Cell \u001b[0;32mIn [63], line 3\u001b[0m\n\u001b[1;32m      1\u001b[0m x_train \u001b[38;5;241m=\u001b[39m np\u001b[38;5;241m.\u001b[39marray(test_data[\u001b[38;5;124m\"\u001b[39m\u001b[38;5;124mweek_number\u001b[39m\u001b[38;5;124m\"\u001b[39m])\u001b[38;5;241m.\u001b[39mreshape(\u001b[38;5;241m-\u001b[39m\u001b[38;5;241m1\u001b[39m, \u001b[38;5;241m1\u001b[39m)\n\u001b[1;32m      2\u001b[0m y_train \u001b[38;5;241m=\u001b[39m np\u001b[38;5;241m.\u001b[39marray(test_data[\u001b[38;5;124m\"\u001b[39m\u001b[38;5;124mtotal_claims\u001b[39m\u001b[38;5;124m\"\u001b[39m])\u001b[38;5;241m.\u001b[39mreshape(\u001b[38;5;241m-\u001b[39m\u001b[38;5;241m1\u001b[39m, \u001b[38;5;241m1\u001b[39m)\n\u001b[0;32m----> 3\u001b[0m \u001b[43mlogisticRegr\u001b[49m\u001b[38;5;241;43m.\u001b[39;49m\u001b[43mfit\u001b[49m\u001b[43m(\u001b[49m\u001b[43mx_train\u001b[49m\u001b[43m,\u001b[49m\u001b[43m \u001b[49m\u001b[43my_train\u001b[49m\u001b[43m)\u001b[49m\n",
      "File \u001b[0;32m/opt/homebrew/lib/python3.9/site-packages/sklearn/linear_model/_logistic.py:1204\u001b[0m, in \u001b[0;36mLogisticRegression.fit\u001b[0;34m(self, X, y, sample_weight)\u001b[0m\n\u001b[1;32m   1194\u001b[0m     _dtype \u001b[38;5;241m=\u001b[39m [np\u001b[38;5;241m.\u001b[39mfloat64, np\u001b[38;5;241m.\u001b[39mfloat32]\n\u001b[1;32m   1196\u001b[0m X, y \u001b[38;5;241m=\u001b[39m \u001b[38;5;28mself\u001b[39m\u001b[38;5;241m.\u001b[39m_validate_data(\n\u001b[1;32m   1197\u001b[0m     X,\n\u001b[1;32m   1198\u001b[0m     y,\n\u001b[0;32m   (...)\u001b[0m\n\u001b[1;32m   1202\u001b[0m     accept_large_sparse\u001b[38;5;241m=\u001b[39msolver \u001b[38;5;129;01mnot\u001b[39;00m \u001b[38;5;129;01min\u001b[39;00m [\u001b[38;5;124m\"\u001b[39m\u001b[38;5;124mliblinear\u001b[39m\u001b[38;5;124m\"\u001b[39m, \u001b[38;5;124m\"\u001b[39m\u001b[38;5;124msag\u001b[39m\u001b[38;5;124m\"\u001b[39m, \u001b[38;5;124m\"\u001b[39m\u001b[38;5;124msaga\u001b[39m\u001b[38;5;124m\"\u001b[39m],\n\u001b[1;32m   1203\u001b[0m )\n\u001b[0;32m-> 1204\u001b[0m \u001b[43mcheck_classification_targets\u001b[49m\u001b[43m(\u001b[49m\u001b[43my\u001b[49m\u001b[43m)\u001b[49m\n\u001b[1;32m   1205\u001b[0m \u001b[38;5;28mself\u001b[39m\u001b[38;5;241m.\u001b[39mclasses_ \u001b[38;5;241m=\u001b[39m np\u001b[38;5;241m.\u001b[39munique(y)\n\u001b[1;32m   1207\u001b[0m multi_class \u001b[38;5;241m=\u001b[39m _check_multi_class(\u001b[38;5;28mself\u001b[39m\u001b[38;5;241m.\u001b[39mmulti_class, solver, \u001b[38;5;28mlen\u001b[39m(\u001b[38;5;28mself\u001b[39m\u001b[38;5;241m.\u001b[39mclasses_))\n",
      "File \u001b[0;32m/opt/homebrew/lib/python3.9/site-packages/sklearn/utils/multiclass.py:207\u001b[0m, in \u001b[0;36mcheck_classification_targets\u001b[0;34m(y)\u001b[0m\n\u001b[1;32m    199\u001b[0m y_type \u001b[38;5;241m=\u001b[39m type_of_target(y, input_name\u001b[38;5;241m=\u001b[39m\u001b[38;5;124m\"\u001b[39m\u001b[38;5;124my\u001b[39m\u001b[38;5;124m\"\u001b[39m)\n\u001b[1;32m    200\u001b[0m \u001b[38;5;28;01mif\u001b[39;00m y_type \u001b[38;5;129;01mnot\u001b[39;00m \u001b[38;5;129;01min\u001b[39;00m [\n\u001b[1;32m    201\u001b[0m     \u001b[38;5;124m\"\u001b[39m\u001b[38;5;124mbinary\u001b[39m\u001b[38;5;124m\"\u001b[39m,\n\u001b[1;32m    202\u001b[0m     \u001b[38;5;124m\"\u001b[39m\u001b[38;5;124mmulticlass\u001b[39m\u001b[38;5;124m\"\u001b[39m,\n\u001b[0;32m   (...)\u001b[0m\n\u001b[1;32m    205\u001b[0m     \u001b[38;5;124m\"\u001b[39m\u001b[38;5;124mmultilabel-sequences\u001b[39m\u001b[38;5;124m\"\u001b[39m,\n\u001b[1;32m    206\u001b[0m ]:\n\u001b[0;32m--> 207\u001b[0m     \u001b[38;5;28;01mraise\u001b[39;00m \u001b[38;5;167;01mValueError\u001b[39;00m(\u001b[38;5;124m\"\u001b[39m\u001b[38;5;124mUnknown label type: \u001b[39m\u001b[38;5;132;01m%r\u001b[39;00m\u001b[38;5;124m\"\u001b[39m \u001b[38;5;241m%\u001b[39m y_type)\n",
      "\u001b[0;31mValueError\u001b[0m: Unknown label type: 'unknown'"
     ]
    }
   ],
   "source": [
    "x_train = np.array(test_data[\"week_number\"]).reshape(-1, 1)\n",
    "y_train = np.array(test_data[\"total_claims\"]).reshape(-1, 1)\n",
    "logisticRegr.fit(x_train, y_train)"
   ]
  },
  {
   "cell_type": "code",
   "execution_count": 64,
   "id": "8072a3eb",
   "metadata": {
    "execution": {
     "iopub.execute_input": "2023-05-10T01:11:46.948660Z",
     "iopub.status.busy": "2023-05-10T01:11:46.948575Z",
     "iopub.status.idle": "2023-05-10T01:11:46.951335Z",
     "shell.execute_reply": "2023-05-10T01:11:46.951109Z"
    }
   },
   "outputs": [
    {
     "data": {
      "text/plain": [
       "1227     19\n",
       "1228     52\n",
       "1229     18\n",
       "1230     19\n",
       "1231     45\n",
       "         ..\n",
       "16533    15\n",
       "16534    13\n",
       "16535    14\n",
       "16748    11\n",
       "16749    34\n",
       "Name: total_claims, Length: 120, dtype: Int64"
      ]
     },
     "execution_count": 64,
     "metadata": {},
     "output_type": "execute_result"
    }
   ],
   "source": [
    "test_data[\"total_claims\"]"
   ]
  },
  {
   "cell_type": "code",
   "execution_count": 65,
   "id": "03d2e7d8",
   "metadata": {
    "execution": {
     "iopub.execute_input": "2023-05-10T01:11:46.952645Z",
     "iopub.status.busy": "2023-05-10T01:11:46.952558Z",
     "iopub.status.idle": "2023-05-10T01:11:46.954773Z",
     "shell.execute_reply": "2023-05-10T01:11:46.954540Z"
    }
   },
   "outputs": [
    {
     "data": {
      "text/plain": [
       "<IntegerArray>\n",
       "[19, 52, 18, 19, 45, 38, 19, 19, 31, 14,\n",
       " ...\n",
       " 45, 45, 27, 32, 15, 15, 13, 14, 11, 34]\n",
       "Length: 120, dtype: Int64"
      ]
     },
     "execution_count": 65,
     "metadata": {},
     "output_type": "execute_result"
    }
   ],
   "source": [
    "test_data[\"total_claims\"].values"
   ]
  },
  {
   "cell_type": "code",
   "execution_count": 66,
   "id": "bca72366",
   "metadata": {
    "execution": {
     "iopub.execute_input": "2023-05-10T01:11:46.956128Z",
     "iopub.status.busy": "2023-05-10T01:11:46.956047Z",
     "iopub.status.idle": "2023-05-10T01:11:46.975540Z",
     "shell.execute_reply": "2023-05-10T01:11:46.975243Z"
    }
   },
   "outputs": [
    {
     "name": "stderr",
     "output_type": "stream",
     "text": [
      "/opt/homebrew/lib/python3.9/site-packages/sklearn/utils/validation.py:1141: DataConversionWarning: A column-vector y was passed when a 1d array was expected. Please change the shape of y to (n_samples, ), for example using ravel().\n",
      "  y = column_or_1d(y, warn=True)\n"
     ]
    },
    {
     "ename": "ValueError",
     "evalue": "Unknown label type: 'unknown'",
     "output_type": "error",
     "traceback": [
      "\u001b[0;31m---------------------------------------------------------------------------\u001b[0m",
      "\u001b[0;31mValueError\u001b[0m                                Traceback (most recent call last)",
      "Cell \u001b[0;32mIn [66], line 3\u001b[0m\n\u001b[1;32m      1\u001b[0m x_train \u001b[38;5;241m=\u001b[39m np\u001b[38;5;241m.\u001b[39marray(test_data[\u001b[38;5;124m\"\u001b[39m\u001b[38;5;124mweek_number\u001b[39m\u001b[38;5;124m\"\u001b[39m]\u001b[38;5;241m.\u001b[39mvalues)\u001b[38;5;241m.\u001b[39mreshape(\u001b[38;5;241m-\u001b[39m\u001b[38;5;241m1\u001b[39m, \u001b[38;5;241m1\u001b[39m)\n\u001b[1;32m      2\u001b[0m y_train \u001b[38;5;241m=\u001b[39m np\u001b[38;5;241m.\u001b[39marray(test_data[\u001b[38;5;124m\"\u001b[39m\u001b[38;5;124mtotal_claims\u001b[39m\u001b[38;5;124m\"\u001b[39m]\u001b[38;5;241m.\u001b[39mvalues)\u001b[38;5;241m.\u001b[39mreshape(\u001b[38;5;241m-\u001b[39m\u001b[38;5;241m1\u001b[39m, \u001b[38;5;241m1\u001b[39m)\n\u001b[0;32m----> 3\u001b[0m \u001b[43mlogisticRegr\u001b[49m\u001b[38;5;241;43m.\u001b[39;49m\u001b[43mfit\u001b[49m\u001b[43m(\u001b[49m\u001b[43mx_train\u001b[49m\u001b[43m,\u001b[49m\u001b[43m \u001b[49m\u001b[43my_train\u001b[49m\u001b[43m)\u001b[49m\n",
      "File \u001b[0;32m/opt/homebrew/lib/python3.9/site-packages/sklearn/linear_model/_logistic.py:1204\u001b[0m, in \u001b[0;36mLogisticRegression.fit\u001b[0;34m(self, X, y, sample_weight)\u001b[0m\n\u001b[1;32m   1194\u001b[0m     _dtype \u001b[38;5;241m=\u001b[39m [np\u001b[38;5;241m.\u001b[39mfloat64, np\u001b[38;5;241m.\u001b[39mfloat32]\n\u001b[1;32m   1196\u001b[0m X, y \u001b[38;5;241m=\u001b[39m \u001b[38;5;28mself\u001b[39m\u001b[38;5;241m.\u001b[39m_validate_data(\n\u001b[1;32m   1197\u001b[0m     X,\n\u001b[1;32m   1198\u001b[0m     y,\n\u001b[0;32m   (...)\u001b[0m\n\u001b[1;32m   1202\u001b[0m     accept_large_sparse\u001b[38;5;241m=\u001b[39msolver \u001b[38;5;129;01mnot\u001b[39;00m \u001b[38;5;129;01min\u001b[39;00m [\u001b[38;5;124m\"\u001b[39m\u001b[38;5;124mliblinear\u001b[39m\u001b[38;5;124m\"\u001b[39m, \u001b[38;5;124m\"\u001b[39m\u001b[38;5;124msag\u001b[39m\u001b[38;5;124m\"\u001b[39m, \u001b[38;5;124m\"\u001b[39m\u001b[38;5;124msaga\u001b[39m\u001b[38;5;124m\"\u001b[39m],\n\u001b[1;32m   1203\u001b[0m )\n\u001b[0;32m-> 1204\u001b[0m \u001b[43mcheck_classification_targets\u001b[49m\u001b[43m(\u001b[49m\u001b[43my\u001b[49m\u001b[43m)\u001b[49m\n\u001b[1;32m   1205\u001b[0m \u001b[38;5;28mself\u001b[39m\u001b[38;5;241m.\u001b[39mclasses_ \u001b[38;5;241m=\u001b[39m np\u001b[38;5;241m.\u001b[39munique(y)\n\u001b[1;32m   1207\u001b[0m multi_class \u001b[38;5;241m=\u001b[39m _check_multi_class(\u001b[38;5;28mself\u001b[39m\u001b[38;5;241m.\u001b[39mmulti_class, solver, \u001b[38;5;28mlen\u001b[39m(\u001b[38;5;28mself\u001b[39m\u001b[38;5;241m.\u001b[39mclasses_))\n",
      "File \u001b[0;32m/opt/homebrew/lib/python3.9/site-packages/sklearn/utils/multiclass.py:207\u001b[0m, in \u001b[0;36mcheck_classification_targets\u001b[0;34m(y)\u001b[0m\n\u001b[1;32m    199\u001b[0m y_type \u001b[38;5;241m=\u001b[39m type_of_target(y, input_name\u001b[38;5;241m=\u001b[39m\u001b[38;5;124m\"\u001b[39m\u001b[38;5;124my\u001b[39m\u001b[38;5;124m\"\u001b[39m)\n\u001b[1;32m    200\u001b[0m \u001b[38;5;28;01mif\u001b[39;00m y_type \u001b[38;5;129;01mnot\u001b[39;00m \u001b[38;5;129;01min\u001b[39;00m [\n\u001b[1;32m    201\u001b[0m     \u001b[38;5;124m\"\u001b[39m\u001b[38;5;124mbinary\u001b[39m\u001b[38;5;124m\"\u001b[39m,\n\u001b[1;32m    202\u001b[0m     \u001b[38;5;124m\"\u001b[39m\u001b[38;5;124mmulticlass\u001b[39m\u001b[38;5;124m\"\u001b[39m,\n\u001b[0;32m   (...)\u001b[0m\n\u001b[1;32m    205\u001b[0m     \u001b[38;5;124m\"\u001b[39m\u001b[38;5;124mmultilabel-sequences\u001b[39m\u001b[38;5;124m\"\u001b[39m,\n\u001b[1;32m    206\u001b[0m ]:\n\u001b[0;32m--> 207\u001b[0m     \u001b[38;5;28;01mraise\u001b[39;00m \u001b[38;5;167;01mValueError\u001b[39;00m(\u001b[38;5;124m\"\u001b[39m\u001b[38;5;124mUnknown label type: \u001b[39m\u001b[38;5;132;01m%r\u001b[39;00m\u001b[38;5;124m\"\u001b[39m \u001b[38;5;241m%\u001b[39m y_type)\n",
      "\u001b[0;31mValueError\u001b[0m: Unknown label type: 'unknown'"
     ]
    }
   ],
   "source": [
    "x_train = np.array(test_data[\"week_number\"].values).reshape(-1, 1)\n",
    "y_train = np.array(test_data[\"total_claims\"].values).reshape(-1, 1)\n",
    "logisticRegr.fit(x_train, y_train)"
   ]
  },
  {
   "cell_type": "code",
   "execution_count": 67,
   "id": "4577bd87",
   "metadata": {
    "execution": {
     "iopub.execute_input": "2023-05-10T01:11:46.977016Z",
     "iopub.status.busy": "2023-05-10T01:11:46.976909Z",
     "iopub.status.idle": "2023-05-10T01:11:46.995564Z",
     "shell.execute_reply": "2023-05-10T01:11:46.995319Z"
    }
   },
   "outputs": [
    {
     "ename": "ValueError",
     "evalue": "Unknown label type: 'unknown'",
     "output_type": "error",
     "traceback": [
      "\u001b[0;31m---------------------------------------------------------------------------\u001b[0m",
      "\u001b[0;31mValueError\u001b[0m                                Traceback (most recent call last)",
      "Cell \u001b[0;32mIn [67], line 3\u001b[0m\n\u001b[1;32m      1\u001b[0m x_train \u001b[38;5;241m=\u001b[39m np\u001b[38;5;241m.\u001b[39marray(test_data[\u001b[38;5;124m\"\u001b[39m\u001b[38;5;124mweek_number\u001b[39m\u001b[38;5;124m\"\u001b[39m]\u001b[38;5;241m.\u001b[39mvalues)\u001b[38;5;241m.\u001b[39mreshape(\u001b[38;5;241m-\u001b[39m\u001b[38;5;241m1\u001b[39m, \u001b[38;5;241m1\u001b[39m)\n\u001b[1;32m      2\u001b[0m y_train \u001b[38;5;241m=\u001b[39m np\u001b[38;5;241m.\u001b[39marray(test_data[\u001b[38;5;124m\"\u001b[39m\u001b[38;5;124mtotal_claims\u001b[39m\u001b[38;5;124m\"\u001b[39m]\u001b[38;5;241m.\u001b[39mvalues)\n\u001b[0;32m----> 3\u001b[0m \u001b[43mlogisticRegr\u001b[49m\u001b[38;5;241;43m.\u001b[39;49m\u001b[43mfit\u001b[49m\u001b[43m(\u001b[49m\u001b[43mx_train\u001b[49m\u001b[43m,\u001b[49m\u001b[43m \u001b[49m\u001b[43my_train\u001b[49m\u001b[43m)\u001b[49m\n",
      "File \u001b[0;32m/opt/homebrew/lib/python3.9/site-packages/sklearn/linear_model/_logistic.py:1204\u001b[0m, in \u001b[0;36mLogisticRegression.fit\u001b[0;34m(self, X, y, sample_weight)\u001b[0m\n\u001b[1;32m   1194\u001b[0m     _dtype \u001b[38;5;241m=\u001b[39m [np\u001b[38;5;241m.\u001b[39mfloat64, np\u001b[38;5;241m.\u001b[39mfloat32]\n\u001b[1;32m   1196\u001b[0m X, y \u001b[38;5;241m=\u001b[39m \u001b[38;5;28mself\u001b[39m\u001b[38;5;241m.\u001b[39m_validate_data(\n\u001b[1;32m   1197\u001b[0m     X,\n\u001b[1;32m   1198\u001b[0m     y,\n\u001b[0;32m   (...)\u001b[0m\n\u001b[1;32m   1202\u001b[0m     accept_large_sparse\u001b[38;5;241m=\u001b[39msolver \u001b[38;5;129;01mnot\u001b[39;00m \u001b[38;5;129;01min\u001b[39;00m [\u001b[38;5;124m\"\u001b[39m\u001b[38;5;124mliblinear\u001b[39m\u001b[38;5;124m\"\u001b[39m, \u001b[38;5;124m\"\u001b[39m\u001b[38;5;124msag\u001b[39m\u001b[38;5;124m\"\u001b[39m, \u001b[38;5;124m\"\u001b[39m\u001b[38;5;124msaga\u001b[39m\u001b[38;5;124m\"\u001b[39m],\n\u001b[1;32m   1203\u001b[0m )\n\u001b[0;32m-> 1204\u001b[0m \u001b[43mcheck_classification_targets\u001b[49m\u001b[43m(\u001b[49m\u001b[43my\u001b[49m\u001b[43m)\u001b[49m\n\u001b[1;32m   1205\u001b[0m \u001b[38;5;28mself\u001b[39m\u001b[38;5;241m.\u001b[39mclasses_ \u001b[38;5;241m=\u001b[39m np\u001b[38;5;241m.\u001b[39munique(y)\n\u001b[1;32m   1207\u001b[0m multi_class \u001b[38;5;241m=\u001b[39m _check_multi_class(\u001b[38;5;28mself\u001b[39m\u001b[38;5;241m.\u001b[39mmulti_class, solver, \u001b[38;5;28mlen\u001b[39m(\u001b[38;5;28mself\u001b[39m\u001b[38;5;241m.\u001b[39mclasses_))\n",
      "File \u001b[0;32m/opt/homebrew/lib/python3.9/site-packages/sklearn/utils/multiclass.py:207\u001b[0m, in \u001b[0;36mcheck_classification_targets\u001b[0;34m(y)\u001b[0m\n\u001b[1;32m    199\u001b[0m y_type \u001b[38;5;241m=\u001b[39m type_of_target(y, input_name\u001b[38;5;241m=\u001b[39m\u001b[38;5;124m\"\u001b[39m\u001b[38;5;124my\u001b[39m\u001b[38;5;124m\"\u001b[39m)\n\u001b[1;32m    200\u001b[0m \u001b[38;5;28;01mif\u001b[39;00m y_type \u001b[38;5;129;01mnot\u001b[39;00m \u001b[38;5;129;01min\u001b[39;00m [\n\u001b[1;32m    201\u001b[0m     \u001b[38;5;124m\"\u001b[39m\u001b[38;5;124mbinary\u001b[39m\u001b[38;5;124m\"\u001b[39m,\n\u001b[1;32m    202\u001b[0m     \u001b[38;5;124m\"\u001b[39m\u001b[38;5;124mmulticlass\u001b[39m\u001b[38;5;124m\"\u001b[39m,\n\u001b[0;32m   (...)\u001b[0m\n\u001b[1;32m    205\u001b[0m     \u001b[38;5;124m\"\u001b[39m\u001b[38;5;124mmultilabel-sequences\u001b[39m\u001b[38;5;124m\"\u001b[39m,\n\u001b[1;32m    206\u001b[0m ]:\n\u001b[0;32m--> 207\u001b[0m     \u001b[38;5;28;01mraise\u001b[39;00m \u001b[38;5;167;01mValueError\u001b[39;00m(\u001b[38;5;124m\"\u001b[39m\u001b[38;5;124mUnknown label type: \u001b[39m\u001b[38;5;132;01m%r\u001b[39;00m\u001b[38;5;124m\"\u001b[39m \u001b[38;5;241m%\u001b[39m y_type)\n",
      "\u001b[0;31mValueError\u001b[0m: Unknown label type: 'unknown'"
     ]
    }
   ],
   "source": [
    "x_train = np.array(test_data[\"week_number\"].values).reshape(-1, 1)\n",
    "y_train = np.array(test_data[\"total_claims\"].values)\n",
    "logisticRegr.fit(x_train, y_train)"
   ]
  },
  {
   "cell_type": "code",
   "execution_count": 68,
   "id": "f0bdc8e4",
   "metadata": {
    "execution": {
     "iopub.execute_input": "2023-05-10T01:11:46.996998Z",
     "iopub.status.busy": "2023-05-10T01:11:46.996909Z",
     "iopub.status.idle": "2023-05-10T01:11:46.999030Z",
     "shell.execute_reply": "2023-05-10T01:11:46.998811Z"
    }
   },
   "outputs": [
    {
     "name": "stdout",
     "output_type": "stream",
     "text": [
      "[19 52 18 19 45 38 19 19 31 14 33 33 19 21 24 14 17 20 17 23 17 11 16 16\n",
      " 11 11 10 17 18 24 35 17 51 14 34 13 21 17 18 13 14 14 21 17 14 18 25 25\n",
      " 27 20 27 27 16 22 12 12 12 31 13 11 22 13 13 22 21 19 18 24 32 19 19 12\n",
      " 12 14 10 14 14 10 10 19 21 30 17 13 11 11 15 31 19 16 31 24 20 24 16 15\n",
      " 12 59 11 10 16 13 11 14 14 14 36 21 21 22 45 45 27 32 15 15 13 14 11 34]\n"
     ]
    }
   ],
   "source": [
    "x_train = np.array(test_data[\"week_number\"].values).reshape(-1, 1)\n",
    "y_train = np.array(test_data[\"total_claims\"].values)\n",
    "print(y_train)"
   ]
  },
  {
   "cell_type": "markdown",
   "id": "7d4eb0bc",
   "metadata": {},
   "source": [
    "logisticRegr.fit(x_train, y_train)"
   ]
  },
  {
   "cell_type": "code",
   "execution_count": 69,
   "id": "0ff0ce26",
   "metadata": {
    "execution": {
     "iopub.execute_input": "2023-05-10T01:11:47.000353Z",
     "iopub.status.busy": "2023-05-10T01:11:47.000268Z",
     "iopub.status.idle": "2023-05-10T01:11:47.002321Z",
     "shell.execute_reply": "2023-05-10T01:11:47.002106Z"
    }
   },
   "outputs": [
    {
     "name": "stdout",
     "output_type": "stream",
     "text": [
      "[19 52 18 19 45 38 19 19 31 14 33 33 19 21 24 14 17 20 17 23 17 11 16 16\n",
      " 11 11 10 17 18 24 35 17 51 14 34 13 21 17 18 13 14 14 21 17 14 18 25 25\n",
      " 27 20 27 27 16 22 12 12 12 31 13 11 22 13 13 22 21 19 18 24 32 19 19 12\n",
      " 12 14 10 14 14 10 10 19 21 30 17 13 11 11 15 31 19 16 31 24 20 24 16 15\n",
      " 12 59 11 10 16 13 11 14 14 14 36 21 21 22 45 45 27 32 15 15 13 14 11 34]\n"
     ]
    }
   ],
   "source": [
    "x_train = np.array(test_data[\"week_number\"].values).reshape(-1, 1)\n",
    "y_train = np.array(test_data[\"total_claims\"].values)\n",
    "print(y_train)"
   ]
  },
  {
   "cell_type": "code",
   "execution_count": 70,
   "id": "1bdca348",
   "metadata": {
    "execution": {
     "iopub.execute_input": "2023-05-10T01:11:47.003630Z",
     "iopub.status.busy": "2023-05-10T01:11:47.003547Z",
     "iopub.status.idle": "2023-05-10T01:11:47.021761Z",
     "shell.execute_reply": "2023-05-10T01:11:47.021487Z"
    }
   },
   "outputs": [
    {
     "ename": "ValueError",
     "evalue": "Unknown label type: 'unknown'",
     "output_type": "error",
     "traceback": [
      "\u001b[0;31m---------------------------------------------------------------------------\u001b[0m",
      "\u001b[0;31mValueError\u001b[0m                                Traceback (most recent call last)",
      "Cell \u001b[0;32mIn [70], line 1\u001b[0m\n\u001b[0;32m----> 1\u001b[0m \u001b[43mlogisticRegr\u001b[49m\u001b[38;5;241;43m.\u001b[39;49m\u001b[43mfit\u001b[49m\u001b[43m(\u001b[49m\u001b[43mx_train\u001b[49m\u001b[43m,\u001b[49m\u001b[43m \u001b[49m\u001b[43my_train\u001b[49m\u001b[43m)\u001b[49m\n",
      "File \u001b[0;32m/opt/homebrew/lib/python3.9/site-packages/sklearn/linear_model/_logistic.py:1204\u001b[0m, in \u001b[0;36mLogisticRegression.fit\u001b[0;34m(self, X, y, sample_weight)\u001b[0m\n\u001b[1;32m   1194\u001b[0m     _dtype \u001b[38;5;241m=\u001b[39m [np\u001b[38;5;241m.\u001b[39mfloat64, np\u001b[38;5;241m.\u001b[39mfloat32]\n\u001b[1;32m   1196\u001b[0m X, y \u001b[38;5;241m=\u001b[39m \u001b[38;5;28mself\u001b[39m\u001b[38;5;241m.\u001b[39m_validate_data(\n\u001b[1;32m   1197\u001b[0m     X,\n\u001b[1;32m   1198\u001b[0m     y,\n\u001b[0;32m   (...)\u001b[0m\n\u001b[1;32m   1202\u001b[0m     accept_large_sparse\u001b[38;5;241m=\u001b[39msolver \u001b[38;5;129;01mnot\u001b[39;00m \u001b[38;5;129;01min\u001b[39;00m [\u001b[38;5;124m\"\u001b[39m\u001b[38;5;124mliblinear\u001b[39m\u001b[38;5;124m\"\u001b[39m, \u001b[38;5;124m\"\u001b[39m\u001b[38;5;124msag\u001b[39m\u001b[38;5;124m\"\u001b[39m, \u001b[38;5;124m\"\u001b[39m\u001b[38;5;124msaga\u001b[39m\u001b[38;5;124m\"\u001b[39m],\n\u001b[1;32m   1203\u001b[0m )\n\u001b[0;32m-> 1204\u001b[0m \u001b[43mcheck_classification_targets\u001b[49m\u001b[43m(\u001b[49m\u001b[43my\u001b[49m\u001b[43m)\u001b[49m\n\u001b[1;32m   1205\u001b[0m \u001b[38;5;28mself\u001b[39m\u001b[38;5;241m.\u001b[39mclasses_ \u001b[38;5;241m=\u001b[39m np\u001b[38;5;241m.\u001b[39munique(y)\n\u001b[1;32m   1207\u001b[0m multi_class \u001b[38;5;241m=\u001b[39m _check_multi_class(\u001b[38;5;28mself\u001b[39m\u001b[38;5;241m.\u001b[39mmulti_class, solver, \u001b[38;5;28mlen\u001b[39m(\u001b[38;5;28mself\u001b[39m\u001b[38;5;241m.\u001b[39mclasses_))\n",
      "File \u001b[0;32m/opt/homebrew/lib/python3.9/site-packages/sklearn/utils/multiclass.py:207\u001b[0m, in \u001b[0;36mcheck_classification_targets\u001b[0;34m(y)\u001b[0m\n\u001b[1;32m    199\u001b[0m y_type \u001b[38;5;241m=\u001b[39m type_of_target(y, input_name\u001b[38;5;241m=\u001b[39m\u001b[38;5;124m\"\u001b[39m\u001b[38;5;124my\u001b[39m\u001b[38;5;124m\"\u001b[39m)\n\u001b[1;32m    200\u001b[0m \u001b[38;5;28;01mif\u001b[39;00m y_type \u001b[38;5;129;01mnot\u001b[39;00m \u001b[38;5;129;01min\u001b[39;00m [\n\u001b[1;32m    201\u001b[0m     \u001b[38;5;124m\"\u001b[39m\u001b[38;5;124mbinary\u001b[39m\u001b[38;5;124m\"\u001b[39m,\n\u001b[1;32m    202\u001b[0m     \u001b[38;5;124m\"\u001b[39m\u001b[38;5;124mmulticlass\u001b[39m\u001b[38;5;124m\"\u001b[39m,\n\u001b[0;32m   (...)\u001b[0m\n\u001b[1;32m    205\u001b[0m     \u001b[38;5;124m\"\u001b[39m\u001b[38;5;124mmultilabel-sequences\u001b[39m\u001b[38;5;124m\"\u001b[39m,\n\u001b[1;32m    206\u001b[0m ]:\n\u001b[0;32m--> 207\u001b[0m     \u001b[38;5;28;01mraise\u001b[39;00m \u001b[38;5;167;01mValueError\u001b[39;00m(\u001b[38;5;124m\"\u001b[39m\u001b[38;5;124mUnknown label type: \u001b[39m\u001b[38;5;132;01m%r\u001b[39;00m\u001b[38;5;124m\"\u001b[39m \u001b[38;5;241m%\u001b[39m y_type)\n",
      "\u001b[0;31mValueError\u001b[0m: Unknown label type: 'unknown'"
     ]
    }
   ],
   "source": [
    "logisticRegr.fit(x_train, y_train)"
   ]
  },
  {
   "cell_type": "code",
   "execution_count": 71,
   "id": "0b5f354c",
   "metadata": {
    "execution": {
     "iopub.execute_input": "2023-05-10T01:11:47.023284Z",
     "iopub.status.busy": "2023-05-10T01:11:47.023174Z",
     "iopub.status.idle": "2023-05-10T01:11:47.024844Z",
     "shell.execute_reply": "2023-05-10T01:11:47.024622Z"
    }
   },
   "outputs": [],
   "source": [
    "from sklearn.linear_model import SGDRegressor\n",
    "sgdr = SGDRegressor()"
   ]
  },
  {
   "cell_type": "markdown",
   "id": "975be2ca",
   "metadata": {},
   "source": [
    "X_new = np.array([1, 2000, 3, 4, 5, 26, 7]).reshape(-1, 1)"
   ]
  },
  {
   "cell_type": "code",
   "execution_count": 72,
   "id": "1816a557",
   "metadata": {
    "execution": {
     "iopub.execute_input": "2023-05-10T01:11:47.026128Z",
     "iopub.status.busy": "2023-05-10T01:11:47.026047Z",
     "iopub.status.idle": "2023-05-10T01:11:47.033646Z",
     "shell.execute_reply": "2023-05-10T01:11:47.033411Z"
    }
   },
   "outputs": [
    {
     "name": "stderr",
     "output_type": "stream",
     "text": [
      "/opt/homebrew/lib/python3.9/site-packages/sklearn/utils/validation.py:1141: DataConversionWarning: A column-vector y was passed when a 1d array was expected. Please change the shape of y to (n_samples, ), for example using ravel().\n",
      "  y = column_or_1d(y, warn=True)\n"
     ]
    },
    {
     "data": {
      "text/html": [
       "<style>#sk-container-id-1 {color: black;background-color: white;}#sk-container-id-1 pre{padding: 0;}#sk-container-id-1 div.sk-toggleable {background-color: white;}#sk-container-id-1 label.sk-toggleable__label {cursor: pointer;display: block;width: 100%;margin-bottom: 0;padding: 0.3em;box-sizing: border-box;text-align: center;}#sk-container-id-1 label.sk-toggleable__label-arrow:before {content: \"▸\";float: left;margin-right: 0.25em;color: #696969;}#sk-container-id-1 label.sk-toggleable__label-arrow:hover:before {color: black;}#sk-container-id-1 div.sk-estimator:hover label.sk-toggleable__label-arrow:before {color: black;}#sk-container-id-1 div.sk-toggleable__content {max-height: 0;max-width: 0;overflow: hidden;text-align: left;background-color: #f0f8ff;}#sk-container-id-1 div.sk-toggleable__content pre {margin: 0.2em;color: black;border-radius: 0.25em;background-color: #f0f8ff;}#sk-container-id-1 input.sk-toggleable__control:checked~div.sk-toggleable__content {max-height: 200px;max-width: 100%;overflow: auto;}#sk-container-id-1 input.sk-toggleable__control:checked~label.sk-toggleable__label-arrow:before {content: \"▾\";}#sk-container-id-1 div.sk-estimator input.sk-toggleable__control:checked~label.sk-toggleable__label {background-color: #d4ebff;}#sk-container-id-1 div.sk-label input.sk-toggleable__control:checked~label.sk-toggleable__label {background-color: #d4ebff;}#sk-container-id-1 input.sk-hidden--visually {border: 0;clip: rect(1px 1px 1px 1px);clip: rect(1px, 1px, 1px, 1px);height: 1px;margin: -1px;overflow: hidden;padding: 0;position: absolute;width: 1px;}#sk-container-id-1 div.sk-estimator {font-family: monospace;background-color: #f0f8ff;border: 1px dotted black;border-radius: 0.25em;box-sizing: border-box;margin-bottom: 0.5em;}#sk-container-id-1 div.sk-estimator:hover {background-color: #d4ebff;}#sk-container-id-1 div.sk-parallel-item::after {content: \"\";width: 100%;border-bottom: 1px solid gray;flex-grow: 1;}#sk-container-id-1 div.sk-label:hover label.sk-toggleable__label {background-color: #d4ebff;}#sk-container-id-1 div.sk-serial::before {content: \"\";position: absolute;border-left: 1px solid gray;box-sizing: border-box;top: 0;bottom: 0;left: 50%;z-index: 0;}#sk-container-id-1 div.sk-serial {display: flex;flex-direction: column;align-items: center;background-color: white;padding-right: 0.2em;padding-left: 0.2em;position: relative;}#sk-container-id-1 div.sk-item {position: relative;z-index: 1;}#sk-container-id-1 div.sk-parallel {display: flex;align-items: stretch;justify-content: center;background-color: white;position: relative;}#sk-container-id-1 div.sk-item::before, #sk-container-id-1 div.sk-parallel-item::before {content: \"\";position: absolute;border-left: 1px solid gray;box-sizing: border-box;top: 0;bottom: 0;left: 50%;z-index: -1;}#sk-container-id-1 div.sk-parallel-item {display: flex;flex-direction: column;z-index: 1;position: relative;background-color: white;}#sk-container-id-1 div.sk-parallel-item:first-child::after {align-self: flex-end;width: 50%;}#sk-container-id-1 div.sk-parallel-item:last-child::after {align-self: flex-start;width: 50%;}#sk-container-id-1 div.sk-parallel-item:only-child::after {width: 0;}#sk-container-id-1 div.sk-dashed-wrapped {border: 1px dashed gray;margin: 0 0.4em 0.5em 0.4em;box-sizing: border-box;padding-bottom: 0.4em;background-color: white;}#sk-container-id-1 div.sk-label label {font-family: monospace;font-weight: bold;display: inline-block;line-height: 1.2em;}#sk-container-id-1 div.sk-label-container {text-align: center;}#sk-container-id-1 div.sk-container {/* jupyter's `normalize.less` sets `[hidden] { display: none; }` but bootstrap.min.css set `[hidden] { display: none !important; }` so we also need the `!important` here to be able to override the default hidden behavior on the sphinx rendered scikit-learn.org. See: https://github.com/scikit-learn/scikit-learn/issues/21755 */display: inline-block !important;position: relative;}#sk-container-id-1 div.sk-text-repr-fallback {display: none;}</style><div id=\"sk-container-id-1\" class=\"sk-top-container\"><div class=\"sk-text-repr-fallback\"><pre>SGDRegressor()</pre><b>In a Jupyter environment, please rerun this cell to show the HTML representation or trust the notebook. <br />On GitHub, the HTML representation is unable to render, please try loading this page with nbviewer.org.</b></div><div class=\"sk-container\" hidden><div class=\"sk-item\"><div class=\"sk-estimator sk-toggleable\"><input class=\"sk-toggleable__control sk-hidden--visually\" id=\"sk-estimator-id-1\" type=\"checkbox\" checked><label for=\"sk-estimator-id-1\" class=\"sk-toggleable__label sk-toggleable__label-arrow\">SGDRegressor</label><div class=\"sk-toggleable__content\"><pre>SGDRegressor()</pre></div></div></div></div></div>"
      ],
      "text/plain": [
       "SGDRegressor()"
      ]
     },
     "execution_count": 72,
     "metadata": {},
     "output_type": "execute_result"
    }
   ],
   "source": [
    "#https://www.datatechnotes.com/2020/09/regression-example-with-sgdregressor-in-python.html\n",
    "x_train = np.array(test_data[\"week_number\"].values).reshape(-1, 1)\n",
    "y_train = np.array(test_data[\"total_claims\"].values).reshape(-1, 1)\n",
    "sgdr.fit(x_train, y_train)"
   ]
  },
  {
   "cell_type": "code",
   "execution_count": 73,
   "id": "fa579493",
   "metadata": {
    "execution": {
     "iopub.execute_input": "2023-05-10T01:11:47.034986Z",
     "iopub.status.busy": "2023-05-10T01:11:47.034907Z",
     "iopub.status.idle": "2023-05-10T01:11:47.036874Z",
     "shell.execute_reply": "2023-05-10T01:11:47.036646Z"
    }
   },
   "outputs": [
    {
     "name": "stdout",
     "output_type": "stream",
     "text": [
      "[32.69037431]\n"
     ]
    }
   ],
   "source": [
    "x_pred = np.array([39]).reshape(-1,1)\n",
    "y_pred = sgdr.predict(x_pred)\n",
    "print(y_pred)"
   ]
  },
  {
   "cell_type": "code",
   "execution_count": 74,
   "id": "59b7c853",
   "metadata": {
    "execution": {
     "iopub.execute_input": "2023-05-10T01:11:47.038181Z",
     "iopub.status.busy": "2023-05-10T01:11:47.038101Z",
     "iopub.status.idle": "2023-05-10T01:11:47.039818Z",
     "shell.execute_reply": "2023-05-10T01:11:47.039591Z"
    }
   },
   "outputs": [],
   "source": [
    "from sklearn.linear_model import SGDRegressor\n",
    "sgdr = SGDRegressor()"
   ]
  },
  {
   "cell_type": "markdown",
   "id": "97c521fc",
   "metadata": {},
   "source": [
    "X_new = np.array([1, 2000, 3, 4, 5, 26, 7]).reshape(-1, 1)"
   ]
  },
  {
   "cell_type": "code",
   "execution_count": 75,
   "id": "f82e4dd4",
   "metadata": {
    "execution": {
     "iopub.execute_input": "2023-05-10T01:11:47.041137Z",
     "iopub.status.busy": "2023-05-10T01:11:47.041064Z",
     "iopub.status.idle": "2023-05-10T01:11:47.048183Z",
     "shell.execute_reply": "2023-05-10T01:11:47.047940Z"
    }
   },
   "outputs": [
    {
     "name": "stderr",
     "output_type": "stream",
     "text": [
      "/opt/homebrew/lib/python3.9/site-packages/sklearn/utils/validation.py:1141: DataConversionWarning: A column-vector y was passed when a 1d array was expected. Please change the shape of y to (n_samples, ), for example using ravel().\n",
      "  y = column_or_1d(y, warn=True)\n",
      "/opt/homebrew/lib/python3.9/site-packages/sklearn/linear_model/_stochastic_gradient.py:1551: ConvergenceWarning: Maximum number of iteration reached before convergence. Consider increasing max_iter to improve the fit.\n",
      "  warnings.warn(\n"
     ]
    },
    {
     "data": {
      "text/html": [
       "<style>#sk-container-id-2 {color: black;background-color: white;}#sk-container-id-2 pre{padding: 0;}#sk-container-id-2 div.sk-toggleable {background-color: white;}#sk-container-id-2 label.sk-toggleable__label {cursor: pointer;display: block;width: 100%;margin-bottom: 0;padding: 0.3em;box-sizing: border-box;text-align: center;}#sk-container-id-2 label.sk-toggleable__label-arrow:before {content: \"▸\";float: left;margin-right: 0.25em;color: #696969;}#sk-container-id-2 label.sk-toggleable__label-arrow:hover:before {color: black;}#sk-container-id-2 div.sk-estimator:hover label.sk-toggleable__label-arrow:before {color: black;}#sk-container-id-2 div.sk-toggleable__content {max-height: 0;max-width: 0;overflow: hidden;text-align: left;background-color: #f0f8ff;}#sk-container-id-2 div.sk-toggleable__content pre {margin: 0.2em;color: black;border-radius: 0.25em;background-color: #f0f8ff;}#sk-container-id-2 input.sk-toggleable__control:checked~div.sk-toggleable__content {max-height: 200px;max-width: 100%;overflow: auto;}#sk-container-id-2 input.sk-toggleable__control:checked~label.sk-toggleable__label-arrow:before {content: \"▾\";}#sk-container-id-2 div.sk-estimator input.sk-toggleable__control:checked~label.sk-toggleable__label {background-color: #d4ebff;}#sk-container-id-2 div.sk-label input.sk-toggleable__control:checked~label.sk-toggleable__label {background-color: #d4ebff;}#sk-container-id-2 input.sk-hidden--visually {border: 0;clip: rect(1px 1px 1px 1px);clip: rect(1px, 1px, 1px, 1px);height: 1px;margin: -1px;overflow: hidden;padding: 0;position: absolute;width: 1px;}#sk-container-id-2 div.sk-estimator {font-family: monospace;background-color: #f0f8ff;border: 1px dotted black;border-radius: 0.25em;box-sizing: border-box;margin-bottom: 0.5em;}#sk-container-id-2 div.sk-estimator:hover {background-color: #d4ebff;}#sk-container-id-2 div.sk-parallel-item::after {content: \"\";width: 100%;border-bottom: 1px solid gray;flex-grow: 1;}#sk-container-id-2 div.sk-label:hover label.sk-toggleable__label {background-color: #d4ebff;}#sk-container-id-2 div.sk-serial::before {content: \"\";position: absolute;border-left: 1px solid gray;box-sizing: border-box;top: 0;bottom: 0;left: 50%;z-index: 0;}#sk-container-id-2 div.sk-serial {display: flex;flex-direction: column;align-items: center;background-color: white;padding-right: 0.2em;padding-left: 0.2em;position: relative;}#sk-container-id-2 div.sk-item {position: relative;z-index: 1;}#sk-container-id-2 div.sk-parallel {display: flex;align-items: stretch;justify-content: center;background-color: white;position: relative;}#sk-container-id-2 div.sk-item::before, #sk-container-id-2 div.sk-parallel-item::before {content: \"\";position: absolute;border-left: 1px solid gray;box-sizing: border-box;top: 0;bottom: 0;left: 50%;z-index: -1;}#sk-container-id-2 div.sk-parallel-item {display: flex;flex-direction: column;z-index: 1;position: relative;background-color: white;}#sk-container-id-2 div.sk-parallel-item:first-child::after {align-self: flex-end;width: 50%;}#sk-container-id-2 div.sk-parallel-item:last-child::after {align-self: flex-start;width: 50%;}#sk-container-id-2 div.sk-parallel-item:only-child::after {width: 0;}#sk-container-id-2 div.sk-dashed-wrapped {border: 1px dashed gray;margin: 0 0.4em 0.5em 0.4em;box-sizing: border-box;padding-bottom: 0.4em;background-color: white;}#sk-container-id-2 div.sk-label label {font-family: monospace;font-weight: bold;display: inline-block;line-height: 1.2em;}#sk-container-id-2 div.sk-label-container {text-align: center;}#sk-container-id-2 div.sk-container {/* jupyter's `normalize.less` sets `[hidden] { display: none; }` but bootstrap.min.css set `[hidden] { display: none !important; }` so we also need the `!important` here to be able to override the default hidden behavior on the sphinx rendered scikit-learn.org. See: https://github.com/scikit-learn/scikit-learn/issues/21755 */display: inline-block !important;position: relative;}#sk-container-id-2 div.sk-text-repr-fallback {display: none;}</style><div id=\"sk-container-id-2\" class=\"sk-top-container\"><div class=\"sk-text-repr-fallback\"><pre>SGDRegressor()</pre><b>In a Jupyter environment, please rerun this cell to show the HTML representation or trust the notebook. <br />On GitHub, the HTML representation is unable to render, please try loading this page with nbviewer.org.</b></div><div class=\"sk-container\" hidden><div class=\"sk-item\"><div class=\"sk-estimator sk-toggleable\"><input class=\"sk-toggleable__control sk-hidden--visually\" id=\"sk-estimator-id-2\" type=\"checkbox\" checked><label for=\"sk-estimator-id-2\" class=\"sk-toggleable__label sk-toggleable__label-arrow\">SGDRegressor</label><div class=\"sk-toggleable__content\"><pre>SGDRegressor()</pre></div></div></div></div></div>"
      ],
      "text/plain": [
       "SGDRegressor()"
      ]
     },
     "execution_count": 75,
     "metadata": {},
     "output_type": "execute_result"
    }
   ],
   "source": [
    "#https://www.datatechnotes.com/2020/09/regression-example-with-sgdregressor-in-python.html\n",
    "x_train = np.array(test_data[\"week_number\"].values).reshape(-1, 1)\n",
    "y_train = np.array(test_data[\"total_claims\"].values).reshape(-1, 1)\n",
    "sgdr.fit(x_train, y_train)"
   ]
  },
  {
   "cell_type": "code",
   "execution_count": 76,
   "id": "ae46ddc6",
   "metadata": {
    "execution": {
     "iopub.execute_input": "2023-05-10T01:11:47.049462Z",
     "iopub.status.busy": "2023-05-10T01:11:47.049361Z",
     "iopub.status.idle": "2023-05-10T01:11:47.051314Z",
     "shell.execute_reply": "2023-05-10T01:11:47.051079Z"
    }
   },
   "outputs": [
    {
     "name": "stdout",
     "output_type": "stream",
     "text": [
      "-16\n"
     ]
    }
   ],
   "source": [
    "x_pred = np.array([39]).reshape(-1,1)\n",
    "y_pred = int(sgdr.predict(x_pred))\n",
    "print(y_pred)"
   ]
  },
  {
   "cell_type": "code",
   "execution_count": 77,
   "id": "f1eb3989",
   "metadata": {
    "execution": {
     "iopub.execute_input": "2023-05-10T01:11:47.052596Z",
     "iopub.status.busy": "2023-05-10T01:11:47.052517Z",
     "iopub.status.idle": "2023-05-10T01:11:47.054207Z",
     "shell.execute_reply": "2023-05-10T01:11:47.053976Z"
    }
   },
   "outputs": [],
   "source": [
    "from sklearn.linear_model import SGDRegressor\n",
    "sgdr = SGDRegressor(max_iter = 10000)"
   ]
  },
  {
   "cell_type": "code",
   "execution_count": 78,
   "id": "ab58cfe0",
   "metadata": {
    "execution": {
     "iopub.execute_input": "2023-05-10T01:11:47.055516Z",
     "iopub.status.busy": "2023-05-10T01:11:47.055433Z",
     "iopub.status.idle": "2023-05-10T01:11:47.061745Z",
     "shell.execute_reply": "2023-05-10T01:11:47.061520Z"
    }
   },
   "outputs": [
    {
     "name": "stderr",
     "output_type": "stream",
     "text": [
      "/opt/homebrew/lib/python3.9/site-packages/sklearn/utils/validation.py:1141: DataConversionWarning: A column-vector y was passed when a 1d array was expected. Please change the shape of y to (n_samples, ), for example using ravel().\n",
      "  y = column_or_1d(y, warn=True)\n"
     ]
    },
    {
     "data": {
      "text/html": [
       "<style>#sk-container-id-3 {color: black;background-color: white;}#sk-container-id-3 pre{padding: 0;}#sk-container-id-3 div.sk-toggleable {background-color: white;}#sk-container-id-3 label.sk-toggleable__label {cursor: pointer;display: block;width: 100%;margin-bottom: 0;padding: 0.3em;box-sizing: border-box;text-align: center;}#sk-container-id-3 label.sk-toggleable__label-arrow:before {content: \"▸\";float: left;margin-right: 0.25em;color: #696969;}#sk-container-id-3 label.sk-toggleable__label-arrow:hover:before {color: black;}#sk-container-id-3 div.sk-estimator:hover label.sk-toggleable__label-arrow:before {color: black;}#sk-container-id-3 div.sk-toggleable__content {max-height: 0;max-width: 0;overflow: hidden;text-align: left;background-color: #f0f8ff;}#sk-container-id-3 div.sk-toggleable__content pre {margin: 0.2em;color: black;border-radius: 0.25em;background-color: #f0f8ff;}#sk-container-id-3 input.sk-toggleable__control:checked~div.sk-toggleable__content {max-height: 200px;max-width: 100%;overflow: auto;}#sk-container-id-3 input.sk-toggleable__control:checked~label.sk-toggleable__label-arrow:before {content: \"▾\";}#sk-container-id-3 div.sk-estimator input.sk-toggleable__control:checked~label.sk-toggleable__label {background-color: #d4ebff;}#sk-container-id-3 div.sk-label input.sk-toggleable__control:checked~label.sk-toggleable__label {background-color: #d4ebff;}#sk-container-id-3 input.sk-hidden--visually {border: 0;clip: rect(1px 1px 1px 1px);clip: rect(1px, 1px, 1px, 1px);height: 1px;margin: -1px;overflow: hidden;padding: 0;position: absolute;width: 1px;}#sk-container-id-3 div.sk-estimator {font-family: monospace;background-color: #f0f8ff;border: 1px dotted black;border-radius: 0.25em;box-sizing: border-box;margin-bottom: 0.5em;}#sk-container-id-3 div.sk-estimator:hover {background-color: #d4ebff;}#sk-container-id-3 div.sk-parallel-item::after {content: \"\";width: 100%;border-bottom: 1px solid gray;flex-grow: 1;}#sk-container-id-3 div.sk-label:hover label.sk-toggleable__label {background-color: #d4ebff;}#sk-container-id-3 div.sk-serial::before {content: \"\";position: absolute;border-left: 1px solid gray;box-sizing: border-box;top: 0;bottom: 0;left: 50%;z-index: 0;}#sk-container-id-3 div.sk-serial {display: flex;flex-direction: column;align-items: center;background-color: white;padding-right: 0.2em;padding-left: 0.2em;position: relative;}#sk-container-id-3 div.sk-item {position: relative;z-index: 1;}#sk-container-id-3 div.sk-parallel {display: flex;align-items: stretch;justify-content: center;background-color: white;position: relative;}#sk-container-id-3 div.sk-item::before, #sk-container-id-3 div.sk-parallel-item::before {content: \"\";position: absolute;border-left: 1px solid gray;box-sizing: border-box;top: 0;bottom: 0;left: 50%;z-index: -1;}#sk-container-id-3 div.sk-parallel-item {display: flex;flex-direction: column;z-index: 1;position: relative;background-color: white;}#sk-container-id-3 div.sk-parallel-item:first-child::after {align-self: flex-end;width: 50%;}#sk-container-id-3 div.sk-parallel-item:last-child::after {align-self: flex-start;width: 50%;}#sk-container-id-3 div.sk-parallel-item:only-child::after {width: 0;}#sk-container-id-3 div.sk-dashed-wrapped {border: 1px dashed gray;margin: 0 0.4em 0.5em 0.4em;box-sizing: border-box;padding-bottom: 0.4em;background-color: white;}#sk-container-id-3 div.sk-label label {font-family: monospace;font-weight: bold;display: inline-block;line-height: 1.2em;}#sk-container-id-3 div.sk-label-container {text-align: center;}#sk-container-id-3 div.sk-container {/* jupyter's `normalize.less` sets `[hidden] { display: none; }` but bootstrap.min.css set `[hidden] { display: none !important; }` so we also need the `!important` here to be able to override the default hidden behavior on the sphinx rendered scikit-learn.org. See: https://github.com/scikit-learn/scikit-learn/issues/21755 */display: inline-block !important;position: relative;}#sk-container-id-3 div.sk-text-repr-fallback {display: none;}</style><div id=\"sk-container-id-3\" class=\"sk-top-container\"><div class=\"sk-text-repr-fallback\"><pre>SGDRegressor(max_iter=10000)</pre><b>In a Jupyter environment, please rerun this cell to show the HTML representation or trust the notebook. <br />On GitHub, the HTML representation is unable to render, please try loading this page with nbviewer.org.</b></div><div class=\"sk-container\" hidden><div class=\"sk-item\"><div class=\"sk-estimator sk-toggleable\"><input class=\"sk-toggleable__control sk-hidden--visually\" id=\"sk-estimator-id-3\" type=\"checkbox\" checked><label for=\"sk-estimator-id-3\" class=\"sk-toggleable__label sk-toggleable__label-arrow\">SGDRegressor</label><div class=\"sk-toggleable__content\"><pre>SGDRegressor(max_iter=10000)</pre></div></div></div></div></div>"
      ],
      "text/plain": [
       "SGDRegressor(max_iter=10000)"
      ]
     },
     "execution_count": 78,
     "metadata": {},
     "output_type": "execute_result"
    }
   ],
   "source": [
    "x_train = np.array(test_data[\"week_number\"].values).reshape(-1, 1)\n",
    "y_train = np.array(test_data[\"total_claims\"].values).reshape(-1, 1)\n",
    "sgdr.fit(x_train, y_train)"
   ]
  },
  {
   "cell_type": "code",
   "execution_count": 79,
   "id": "fccfb9e4",
   "metadata": {
    "execution": {
     "iopub.execute_input": "2023-05-10T01:11:47.063145Z",
     "iopub.status.busy": "2023-05-10T01:11:47.063066Z",
     "iopub.status.idle": "2023-05-10T01:11:47.065053Z",
     "shell.execute_reply": "2023-05-10T01:11:47.064806Z"
    }
   },
   "outputs": [
    {
     "name": "stdout",
     "output_type": "stream",
     "text": [
      "30\n"
     ]
    }
   ],
   "source": [
    "x_pred = np.array([39]).reshape(-1,1)\n",
    "y_pred = int(sgdr.predict(x_pred))\n",
    "print(y_pred)"
   ]
  },
  {
   "cell_type": "code",
   "execution_count": 80,
   "id": "08acd664",
   "metadata": {
    "execution": {
     "iopub.execute_input": "2023-05-10T01:11:47.066368Z",
     "iopub.status.busy": "2023-05-10T01:11:47.066290Z",
     "iopub.status.idle": "2023-05-10T01:11:47.067936Z",
     "shell.execute_reply": "2023-05-10T01:11:47.067713Z"
    }
   },
   "outputs": [],
   "source": [
    "from sklearn.linear_model import SGDRegressor\n",
    "sgdr = SGDRegressor(max_iter = 10000)"
   ]
  },
  {
   "cell_type": "code",
   "execution_count": 81,
   "id": "0d1caaa4",
   "metadata": {
    "execution": {
     "iopub.execute_input": "2023-05-10T01:11:47.069190Z",
     "iopub.status.busy": "2023-05-10T01:11:47.069108Z",
     "iopub.status.idle": "2023-05-10T01:11:47.074700Z",
     "shell.execute_reply": "2023-05-10T01:11:47.074480Z"
    }
   },
   "outputs": [
    {
     "data": {
      "text/html": [
       "<style>#sk-container-id-4 {color: black;background-color: white;}#sk-container-id-4 pre{padding: 0;}#sk-container-id-4 div.sk-toggleable {background-color: white;}#sk-container-id-4 label.sk-toggleable__label {cursor: pointer;display: block;width: 100%;margin-bottom: 0;padding: 0.3em;box-sizing: border-box;text-align: center;}#sk-container-id-4 label.sk-toggleable__label-arrow:before {content: \"▸\";float: left;margin-right: 0.25em;color: #696969;}#sk-container-id-4 label.sk-toggleable__label-arrow:hover:before {color: black;}#sk-container-id-4 div.sk-estimator:hover label.sk-toggleable__label-arrow:before {color: black;}#sk-container-id-4 div.sk-toggleable__content {max-height: 0;max-width: 0;overflow: hidden;text-align: left;background-color: #f0f8ff;}#sk-container-id-4 div.sk-toggleable__content pre {margin: 0.2em;color: black;border-radius: 0.25em;background-color: #f0f8ff;}#sk-container-id-4 input.sk-toggleable__control:checked~div.sk-toggleable__content {max-height: 200px;max-width: 100%;overflow: auto;}#sk-container-id-4 input.sk-toggleable__control:checked~label.sk-toggleable__label-arrow:before {content: \"▾\";}#sk-container-id-4 div.sk-estimator input.sk-toggleable__control:checked~label.sk-toggleable__label {background-color: #d4ebff;}#sk-container-id-4 div.sk-label input.sk-toggleable__control:checked~label.sk-toggleable__label {background-color: #d4ebff;}#sk-container-id-4 input.sk-hidden--visually {border: 0;clip: rect(1px 1px 1px 1px);clip: rect(1px, 1px, 1px, 1px);height: 1px;margin: -1px;overflow: hidden;padding: 0;position: absolute;width: 1px;}#sk-container-id-4 div.sk-estimator {font-family: monospace;background-color: #f0f8ff;border: 1px dotted black;border-radius: 0.25em;box-sizing: border-box;margin-bottom: 0.5em;}#sk-container-id-4 div.sk-estimator:hover {background-color: #d4ebff;}#sk-container-id-4 div.sk-parallel-item::after {content: \"\";width: 100%;border-bottom: 1px solid gray;flex-grow: 1;}#sk-container-id-4 div.sk-label:hover label.sk-toggleable__label {background-color: #d4ebff;}#sk-container-id-4 div.sk-serial::before {content: \"\";position: absolute;border-left: 1px solid gray;box-sizing: border-box;top: 0;bottom: 0;left: 50%;z-index: 0;}#sk-container-id-4 div.sk-serial {display: flex;flex-direction: column;align-items: center;background-color: white;padding-right: 0.2em;padding-left: 0.2em;position: relative;}#sk-container-id-4 div.sk-item {position: relative;z-index: 1;}#sk-container-id-4 div.sk-parallel {display: flex;align-items: stretch;justify-content: center;background-color: white;position: relative;}#sk-container-id-4 div.sk-item::before, #sk-container-id-4 div.sk-parallel-item::before {content: \"\";position: absolute;border-left: 1px solid gray;box-sizing: border-box;top: 0;bottom: 0;left: 50%;z-index: -1;}#sk-container-id-4 div.sk-parallel-item {display: flex;flex-direction: column;z-index: 1;position: relative;background-color: white;}#sk-container-id-4 div.sk-parallel-item:first-child::after {align-self: flex-end;width: 50%;}#sk-container-id-4 div.sk-parallel-item:last-child::after {align-self: flex-start;width: 50%;}#sk-container-id-4 div.sk-parallel-item:only-child::after {width: 0;}#sk-container-id-4 div.sk-dashed-wrapped {border: 1px dashed gray;margin: 0 0.4em 0.5em 0.4em;box-sizing: border-box;padding-bottom: 0.4em;background-color: white;}#sk-container-id-4 div.sk-label label {font-family: monospace;font-weight: bold;display: inline-block;line-height: 1.2em;}#sk-container-id-4 div.sk-label-container {text-align: center;}#sk-container-id-4 div.sk-container {/* jupyter's `normalize.less` sets `[hidden] { display: none; }` but bootstrap.min.css set `[hidden] { display: none !important; }` so we also need the `!important` here to be able to override the default hidden behavior on the sphinx rendered scikit-learn.org. See: https://github.com/scikit-learn/scikit-learn/issues/21755 */display: inline-block !important;position: relative;}#sk-container-id-4 div.sk-text-repr-fallback {display: none;}</style><div id=\"sk-container-id-4\" class=\"sk-top-container\"><div class=\"sk-text-repr-fallback\"><pre>SGDRegressor(max_iter=10000)</pre><b>In a Jupyter environment, please rerun this cell to show the HTML representation or trust the notebook. <br />On GitHub, the HTML representation is unable to render, please try loading this page with nbviewer.org.</b></div><div class=\"sk-container\" hidden><div class=\"sk-item\"><div class=\"sk-estimator sk-toggleable\"><input class=\"sk-toggleable__control sk-hidden--visually\" id=\"sk-estimator-id-4\" type=\"checkbox\" checked><label for=\"sk-estimator-id-4\" class=\"sk-toggleable__label sk-toggleable__label-arrow\">SGDRegressor</label><div class=\"sk-toggleable__content\"><pre>SGDRegressor(max_iter=10000)</pre></div></div></div></div></div>"
      ],
      "text/plain": [
       "SGDRegressor(max_iter=10000)"
      ]
     },
     "execution_count": 81,
     "metadata": {},
     "output_type": "execute_result"
    }
   ],
   "source": [
    "x_train = np.array(test_data[\"week_number\"].values).reshape(-1, 1)\n",
    "y_train = np.array(test_data[\"total_claims\"].values) \n",
    "sgdr.fit(x_train, y_train)"
   ]
  },
  {
   "cell_type": "code",
   "execution_count": 82,
   "id": "c3d4455f",
   "metadata": {
    "execution": {
     "iopub.execute_input": "2023-05-10T01:11:47.076035Z",
     "iopub.status.busy": "2023-05-10T01:11:47.075955Z",
     "iopub.status.idle": "2023-05-10T01:11:47.147047Z",
     "shell.execute_reply": "2023-05-10T01:11:47.146757Z"
    }
   },
   "outputs": [
    {
     "ename": "ValueError",
     "evalue": "Expected 2D array, got 1D array instead:\narray=[39].\nReshape your data either using array.reshape(-1, 1) if your data has a single feature or array.reshape(1, -1) if it contains a single sample.",
     "output_type": "error",
     "traceback": [
      "\u001b[0;31m---------------------------------------------------------------------------\u001b[0m",
      "\u001b[0;31mValueError\u001b[0m                                Traceback (most recent call last)",
      "Cell \u001b[0;32mIn [82], line 2\u001b[0m\n\u001b[1;32m      1\u001b[0m x_pred \u001b[38;5;241m=\u001b[39m np\u001b[38;5;241m.\u001b[39marray([\u001b[38;5;241m39\u001b[39m]) \n\u001b[0;32m----> 2\u001b[0m y_pred \u001b[38;5;241m=\u001b[39m \u001b[38;5;28mint\u001b[39m(\u001b[43msgdr\u001b[49m\u001b[38;5;241;43m.\u001b[39;49m\u001b[43mpredict\u001b[49m\u001b[43m(\u001b[49m\u001b[43mx_pred\u001b[49m\u001b[43m)\u001b[49m)\n\u001b[1;32m      3\u001b[0m \u001b[38;5;28mprint\u001b[39m(y_pred)\n",
      "File \u001b[0;32m/opt/homebrew/lib/python3.9/site-packages/sklearn/linear_model/_stochastic_gradient.py:1632\u001b[0m, in \u001b[0;36mBaseSGDRegressor.predict\u001b[0;34m(self, X)\u001b[0m\n\u001b[1;32m   1619\u001b[0m \u001b[38;5;28;01mdef\u001b[39;00m \u001b[38;5;21mpredict\u001b[39m(\u001b[38;5;28mself\u001b[39m, X):\n\u001b[1;32m   1620\u001b[0m     \u001b[38;5;124;03m\"\"\"Predict using the linear model.\u001b[39;00m\n\u001b[1;32m   1621\u001b[0m \n\u001b[1;32m   1622\u001b[0m \u001b[38;5;124;03m    Parameters\u001b[39;00m\n\u001b[0;32m   (...)\u001b[0m\n\u001b[1;32m   1630\u001b[0m \u001b[38;5;124;03m       Predicted target values per element in X.\u001b[39;00m\n\u001b[1;32m   1631\u001b[0m \u001b[38;5;124;03m    \"\"\"\u001b[39;00m\n\u001b[0;32m-> 1632\u001b[0m     \u001b[38;5;28;01mreturn\u001b[39;00m \u001b[38;5;28;43mself\u001b[39;49m\u001b[38;5;241;43m.\u001b[39;49m\u001b[43m_decision_function\u001b[49m\u001b[43m(\u001b[49m\u001b[43mX\u001b[49m\u001b[43m)\u001b[49m\n",
      "File \u001b[0;32m/opt/homebrew/lib/python3.9/site-packages/sklearn/linear_model/_stochastic_gradient.py:1614\u001b[0m, in \u001b[0;36mBaseSGDRegressor._decision_function\u001b[0;34m(self, X)\u001b[0m\n\u001b[1;32m   1601\u001b[0m \u001b[38;5;124;03m\"\"\"Predict using the linear model\u001b[39;00m\n\u001b[1;32m   1602\u001b[0m \n\u001b[1;32m   1603\u001b[0m \u001b[38;5;124;03mParameters\u001b[39;00m\n\u001b[0;32m   (...)\u001b[0m\n\u001b[1;32m   1610\u001b[0m \u001b[38;5;124;03m   Predicted target values per element in X.\u001b[39;00m\n\u001b[1;32m   1611\u001b[0m \u001b[38;5;124;03m\"\"\"\u001b[39;00m\n\u001b[1;32m   1612\u001b[0m check_is_fitted(\u001b[38;5;28mself\u001b[39m)\n\u001b[0;32m-> 1614\u001b[0m X \u001b[38;5;241m=\u001b[39m \u001b[38;5;28;43mself\u001b[39;49m\u001b[38;5;241;43m.\u001b[39;49m\u001b[43m_validate_data\u001b[49m\u001b[43m(\u001b[49m\u001b[43mX\u001b[49m\u001b[43m,\u001b[49m\u001b[43m \u001b[49m\u001b[43maccept_sparse\u001b[49m\u001b[38;5;241;43m=\u001b[39;49m\u001b[38;5;124;43m\"\u001b[39;49m\u001b[38;5;124;43mcsr\u001b[39;49m\u001b[38;5;124;43m\"\u001b[39;49m\u001b[43m,\u001b[49m\u001b[43m \u001b[49m\u001b[43mreset\u001b[49m\u001b[38;5;241;43m=\u001b[39;49m\u001b[38;5;28;43;01mFalse\u001b[39;49;00m\u001b[43m)\u001b[49m\n\u001b[1;32m   1616\u001b[0m scores \u001b[38;5;241m=\u001b[39m safe_sparse_dot(X, \u001b[38;5;28mself\u001b[39m\u001b[38;5;241m.\u001b[39mcoef_\u001b[38;5;241m.\u001b[39mT, dense_output\u001b[38;5;241m=\u001b[39m\u001b[38;5;28;01mTrue\u001b[39;00m) \u001b[38;5;241m+\u001b[39m \u001b[38;5;28mself\u001b[39m\u001b[38;5;241m.\u001b[39mintercept_\n\u001b[1;32m   1617\u001b[0m \u001b[38;5;28;01mreturn\u001b[39;00m scores\u001b[38;5;241m.\u001b[39mravel()\n",
      "File \u001b[0;32m/opt/homebrew/lib/python3.9/site-packages/sklearn/base.py:535\u001b[0m, in \u001b[0;36mBaseEstimator._validate_data\u001b[0;34m(self, X, y, reset, validate_separately, **check_params)\u001b[0m\n\u001b[1;32m    533\u001b[0m     \u001b[38;5;28;01mraise\u001b[39;00m \u001b[38;5;167;01mValueError\u001b[39;00m(\u001b[38;5;124m\"\u001b[39m\u001b[38;5;124mValidation should be done on X, y or both.\u001b[39m\u001b[38;5;124m\"\u001b[39m)\n\u001b[1;32m    534\u001b[0m \u001b[38;5;28;01melif\u001b[39;00m \u001b[38;5;129;01mnot\u001b[39;00m no_val_X \u001b[38;5;129;01mand\u001b[39;00m no_val_y:\n\u001b[0;32m--> 535\u001b[0m     X \u001b[38;5;241m=\u001b[39m \u001b[43mcheck_array\u001b[49m\u001b[43m(\u001b[49m\u001b[43mX\u001b[49m\u001b[43m,\u001b[49m\u001b[43m \u001b[49m\u001b[43minput_name\u001b[49m\u001b[38;5;241;43m=\u001b[39;49m\u001b[38;5;124;43m\"\u001b[39;49m\u001b[38;5;124;43mX\u001b[39;49m\u001b[38;5;124;43m\"\u001b[39;49m\u001b[43m,\u001b[49m\u001b[43m \u001b[49m\u001b[38;5;241;43m*\u001b[39;49m\u001b[38;5;241;43m*\u001b[39;49m\u001b[43mcheck_params\u001b[49m\u001b[43m)\u001b[49m\n\u001b[1;32m    536\u001b[0m     out \u001b[38;5;241m=\u001b[39m X\n\u001b[1;32m    537\u001b[0m \u001b[38;5;28;01melif\u001b[39;00m no_val_X \u001b[38;5;129;01mand\u001b[39;00m \u001b[38;5;129;01mnot\u001b[39;00m no_val_y:\n",
      "File \u001b[0;32m/opt/homebrew/lib/python3.9/site-packages/sklearn/utils/validation.py:900\u001b[0m, in \u001b[0;36mcheck_array\u001b[0;34m(array, accept_sparse, accept_large_sparse, dtype, order, copy, force_all_finite, ensure_2d, allow_nd, ensure_min_samples, ensure_min_features, estimator, input_name)\u001b[0m\n\u001b[1;32m    898\u001b[0m     \u001b[38;5;66;03m# If input is 1D raise error\u001b[39;00m\n\u001b[1;32m    899\u001b[0m     \u001b[38;5;28;01mif\u001b[39;00m array\u001b[38;5;241m.\u001b[39mndim \u001b[38;5;241m==\u001b[39m \u001b[38;5;241m1\u001b[39m:\n\u001b[0;32m--> 900\u001b[0m         \u001b[38;5;28;01mraise\u001b[39;00m \u001b[38;5;167;01mValueError\u001b[39;00m(\n\u001b[1;32m    901\u001b[0m             \u001b[38;5;124m\"\u001b[39m\u001b[38;5;124mExpected 2D array, got 1D array instead:\u001b[39m\u001b[38;5;130;01m\\n\u001b[39;00m\u001b[38;5;124marray=\u001b[39m\u001b[38;5;132;01m{}\u001b[39;00m\u001b[38;5;124m.\u001b[39m\u001b[38;5;130;01m\\n\u001b[39;00m\u001b[38;5;124m\"\u001b[39m\n\u001b[1;32m    902\u001b[0m             \u001b[38;5;124m\"\u001b[39m\u001b[38;5;124mReshape your data either using array.reshape(-1, 1) if \u001b[39m\u001b[38;5;124m\"\u001b[39m\n\u001b[1;32m    903\u001b[0m             \u001b[38;5;124m\"\u001b[39m\u001b[38;5;124myour data has a single feature or array.reshape(1, -1) \u001b[39m\u001b[38;5;124m\"\u001b[39m\n\u001b[1;32m    904\u001b[0m             \u001b[38;5;124m\"\u001b[39m\u001b[38;5;124mif it contains a single sample.\u001b[39m\u001b[38;5;124m\"\u001b[39m\u001b[38;5;241m.\u001b[39mformat(array)\n\u001b[1;32m    905\u001b[0m         )\n\u001b[1;32m    907\u001b[0m \u001b[38;5;28;01mif\u001b[39;00m dtype_numeric \u001b[38;5;129;01mand\u001b[39;00m array\u001b[38;5;241m.\u001b[39mdtype\u001b[38;5;241m.\u001b[39mkind \u001b[38;5;129;01min\u001b[39;00m \u001b[38;5;124m\"\u001b[39m\u001b[38;5;124mUSV\u001b[39m\u001b[38;5;124m\"\u001b[39m:\n\u001b[1;32m    908\u001b[0m     \u001b[38;5;28;01mraise\u001b[39;00m \u001b[38;5;167;01mValueError\u001b[39;00m(\n\u001b[1;32m    909\u001b[0m         \u001b[38;5;124m\"\u001b[39m\u001b[38;5;124mdtype=\u001b[39m\u001b[38;5;124m'\u001b[39m\u001b[38;5;124mnumeric\u001b[39m\u001b[38;5;124m'\u001b[39m\u001b[38;5;124m is not compatible with arrays of bytes/strings.\u001b[39m\u001b[38;5;124m\"\u001b[39m\n\u001b[1;32m    910\u001b[0m         \u001b[38;5;124m\"\u001b[39m\u001b[38;5;124mConvert your data to numeric values explicitly instead.\u001b[39m\u001b[38;5;124m\"\u001b[39m\n\u001b[1;32m    911\u001b[0m     )\n",
      "\u001b[0;31mValueError\u001b[0m: Expected 2D array, got 1D array instead:\narray=[39].\nReshape your data either using array.reshape(-1, 1) if your data has a single feature or array.reshape(1, -1) if it contains a single sample."
     ]
    }
   ],
   "source": [
    "x_pred = np.array([39]) \n",
    "y_pred = int(sgdr.predict(x_pred))\n",
    "print(y_pred)"
   ]
  },
  {
   "cell_type": "code",
   "execution_count": 83,
   "id": "b96baf6c",
   "metadata": {
    "execution": {
     "iopub.execute_input": "2023-05-10T01:11:47.148563Z",
     "iopub.status.busy": "2023-05-10T01:11:47.148454Z",
     "iopub.status.idle": "2023-05-10T01:11:47.150146Z",
     "shell.execute_reply": "2023-05-10T01:11:47.149918Z"
    }
   },
   "outputs": [],
   "source": [
    "from sklearn.linear_model import SGDRegressor\n",
    "sgdr = SGDRegressor(max_iter = 10000)"
   ]
  },
  {
   "cell_type": "code",
   "execution_count": 84,
   "id": "89fdfe6d",
   "metadata": {
    "execution": {
     "iopub.execute_input": "2023-05-10T01:11:47.151539Z",
     "iopub.status.busy": "2023-05-10T01:11:47.151459Z",
     "iopub.status.idle": "2023-05-10T01:11:47.157535Z",
     "shell.execute_reply": "2023-05-10T01:11:47.157285Z"
    }
   },
   "outputs": [
    {
     "data": {
      "text/html": [
       "<style>#sk-container-id-5 {color: black;background-color: white;}#sk-container-id-5 pre{padding: 0;}#sk-container-id-5 div.sk-toggleable {background-color: white;}#sk-container-id-5 label.sk-toggleable__label {cursor: pointer;display: block;width: 100%;margin-bottom: 0;padding: 0.3em;box-sizing: border-box;text-align: center;}#sk-container-id-5 label.sk-toggleable__label-arrow:before {content: \"▸\";float: left;margin-right: 0.25em;color: #696969;}#sk-container-id-5 label.sk-toggleable__label-arrow:hover:before {color: black;}#sk-container-id-5 div.sk-estimator:hover label.sk-toggleable__label-arrow:before {color: black;}#sk-container-id-5 div.sk-toggleable__content {max-height: 0;max-width: 0;overflow: hidden;text-align: left;background-color: #f0f8ff;}#sk-container-id-5 div.sk-toggleable__content pre {margin: 0.2em;color: black;border-radius: 0.25em;background-color: #f0f8ff;}#sk-container-id-5 input.sk-toggleable__control:checked~div.sk-toggleable__content {max-height: 200px;max-width: 100%;overflow: auto;}#sk-container-id-5 input.sk-toggleable__control:checked~label.sk-toggleable__label-arrow:before {content: \"▾\";}#sk-container-id-5 div.sk-estimator input.sk-toggleable__control:checked~label.sk-toggleable__label {background-color: #d4ebff;}#sk-container-id-5 div.sk-label input.sk-toggleable__control:checked~label.sk-toggleable__label {background-color: #d4ebff;}#sk-container-id-5 input.sk-hidden--visually {border: 0;clip: rect(1px 1px 1px 1px);clip: rect(1px, 1px, 1px, 1px);height: 1px;margin: -1px;overflow: hidden;padding: 0;position: absolute;width: 1px;}#sk-container-id-5 div.sk-estimator {font-family: monospace;background-color: #f0f8ff;border: 1px dotted black;border-radius: 0.25em;box-sizing: border-box;margin-bottom: 0.5em;}#sk-container-id-5 div.sk-estimator:hover {background-color: #d4ebff;}#sk-container-id-5 div.sk-parallel-item::after {content: \"\";width: 100%;border-bottom: 1px solid gray;flex-grow: 1;}#sk-container-id-5 div.sk-label:hover label.sk-toggleable__label {background-color: #d4ebff;}#sk-container-id-5 div.sk-serial::before {content: \"\";position: absolute;border-left: 1px solid gray;box-sizing: border-box;top: 0;bottom: 0;left: 50%;z-index: 0;}#sk-container-id-5 div.sk-serial {display: flex;flex-direction: column;align-items: center;background-color: white;padding-right: 0.2em;padding-left: 0.2em;position: relative;}#sk-container-id-5 div.sk-item {position: relative;z-index: 1;}#sk-container-id-5 div.sk-parallel {display: flex;align-items: stretch;justify-content: center;background-color: white;position: relative;}#sk-container-id-5 div.sk-item::before, #sk-container-id-5 div.sk-parallel-item::before {content: \"\";position: absolute;border-left: 1px solid gray;box-sizing: border-box;top: 0;bottom: 0;left: 50%;z-index: -1;}#sk-container-id-5 div.sk-parallel-item {display: flex;flex-direction: column;z-index: 1;position: relative;background-color: white;}#sk-container-id-5 div.sk-parallel-item:first-child::after {align-self: flex-end;width: 50%;}#sk-container-id-5 div.sk-parallel-item:last-child::after {align-self: flex-start;width: 50%;}#sk-container-id-5 div.sk-parallel-item:only-child::after {width: 0;}#sk-container-id-5 div.sk-dashed-wrapped {border: 1px dashed gray;margin: 0 0.4em 0.5em 0.4em;box-sizing: border-box;padding-bottom: 0.4em;background-color: white;}#sk-container-id-5 div.sk-label label {font-family: monospace;font-weight: bold;display: inline-block;line-height: 1.2em;}#sk-container-id-5 div.sk-label-container {text-align: center;}#sk-container-id-5 div.sk-container {/* jupyter's `normalize.less` sets `[hidden] { display: none; }` but bootstrap.min.css set `[hidden] { display: none !important; }` so we also need the `!important` here to be able to override the default hidden behavior on the sphinx rendered scikit-learn.org. See: https://github.com/scikit-learn/scikit-learn/issues/21755 */display: inline-block !important;position: relative;}#sk-container-id-5 div.sk-text-repr-fallback {display: none;}</style><div id=\"sk-container-id-5\" class=\"sk-top-container\"><div class=\"sk-text-repr-fallback\"><pre>SGDRegressor(max_iter=10000)</pre><b>In a Jupyter environment, please rerun this cell to show the HTML representation or trust the notebook. <br />On GitHub, the HTML representation is unable to render, please try loading this page with nbviewer.org.</b></div><div class=\"sk-container\" hidden><div class=\"sk-item\"><div class=\"sk-estimator sk-toggleable\"><input class=\"sk-toggleable__control sk-hidden--visually\" id=\"sk-estimator-id-5\" type=\"checkbox\" checked><label for=\"sk-estimator-id-5\" class=\"sk-toggleable__label sk-toggleable__label-arrow\">SGDRegressor</label><div class=\"sk-toggleable__content\"><pre>SGDRegressor(max_iter=10000)</pre></div></div></div></div></div>"
      ],
      "text/plain": [
       "SGDRegressor(max_iter=10000)"
      ]
     },
     "execution_count": 84,
     "metadata": {},
     "output_type": "execute_result"
    }
   ],
   "source": [
    "x_train = np.array(test_data[\"week_number\"].values).reshape(-1, 1)\n",
    "y_train = np.array(test_data[\"total_claims\"].values) \n",
    "sgdr.fit(x_train, y_train)"
   ]
  },
  {
   "cell_type": "code",
   "execution_count": 85,
   "id": "198bb3f9",
   "metadata": {
    "execution": {
     "iopub.execute_input": "2023-05-10T01:11:47.158792Z",
     "iopub.status.busy": "2023-05-10T01:11:47.158712Z",
     "iopub.status.idle": "2023-05-10T01:11:47.160647Z",
     "shell.execute_reply": "2023-05-10T01:11:47.160420Z"
    }
   },
   "outputs": [
    {
     "name": "stdout",
     "output_type": "stream",
     "text": [
      "6\n"
     ]
    }
   ],
   "source": [
    "x_pred = np.array([39]).reshape(-1, 1)\n",
    "y_pred = int(sgdr.predict(x_pred))\n",
    "print(y_pred)"
   ]
  },
  {
   "cell_type": "code",
   "execution_count": 86,
   "id": "4ff0788c",
   "metadata": {
    "execution": {
     "iopub.execute_input": "2023-05-10T01:11:47.161977Z",
     "iopub.status.busy": "2023-05-10T01:11:47.161895Z",
     "iopub.status.idle": "2023-05-10T01:11:47.163602Z",
     "shell.execute_reply": "2023-05-10T01:11:47.163388Z"
    }
   },
   "outputs": [],
   "source": [
    "from sklearn.linear_model import SGDRegressor\n",
    "sgdr = SGDRegressor(max_iter = 10000)"
   ]
  },
  {
   "cell_type": "code",
   "execution_count": 87,
   "id": "7b8990c5",
   "metadata": {
    "execution": {
     "iopub.execute_input": "2023-05-10T01:11:47.164966Z",
     "iopub.status.busy": "2023-05-10T01:11:47.164889Z",
     "iopub.status.idle": "2023-05-10T01:11:47.170915Z",
     "shell.execute_reply": "2023-05-10T01:11:47.170668Z"
    }
   },
   "outputs": [
    {
     "data": {
      "text/html": [
       "<style>#sk-container-id-6 {color: black;background-color: white;}#sk-container-id-6 pre{padding: 0;}#sk-container-id-6 div.sk-toggleable {background-color: white;}#sk-container-id-6 label.sk-toggleable__label {cursor: pointer;display: block;width: 100%;margin-bottom: 0;padding: 0.3em;box-sizing: border-box;text-align: center;}#sk-container-id-6 label.sk-toggleable__label-arrow:before {content: \"▸\";float: left;margin-right: 0.25em;color: #696969;}#sk-container-id-6 label.sk-toggleable__label-arrow:hover:before {color: black;}#sk-container-id-6 div.sk-estimator:hover label.sk-toggleable__label-arrow:before {color: black;}#sk-container-id-6 div.sk-toggleable__content {max-height: 0;max-width: 0;overflow: hidden;text-align: left;background-color: #f0f8ff;}#sk-container-id-6 div.sk-toggleable__content pre {margin: 0.2em;color: black;border-radius: 0.25em;background-color: #f0f8ff;}#sk-container-id-6 input.sk-toggleable__control:checked~div.sk-toggleable__content {max-height: 200px;max-width: 100%;overflow: auto;}#sk-container-id-6 input.sk-toggleable__control:checked~label.sk-toggleable__label-arrow:before {content: \"▾\";}#sk-container-id-6 div.sk-estimator input.sk-toggleable__control:checked~label.sk-toggleable__label {background-color: #d4ebff;}#sk-container-id-6 div.sk-label input.sk-toggleable__control:checked~label.sk-toggleable__label {background-color: #d4ebff;}#sk-container-id-6 input.sk-hidden--visually {border: 0;clip: rect(1px 1px 1px 1px);clip: rect(1px, 1px, 1px, 1px);height: 1px;margin: -1px;overflow: hidden;padding: 0;position: absolute;width: 1px;}#sk-container-id-6 div.sk-estimator {font-family: monospace;background-color: #f0f8ff;border: 1px dotted black;border-radius: 0.25em;box-sizing: border-box;margin-bottom: 0.5em;}#sk-container-id-6 div.sk-estimator:hover {background-color: #d4ebff;}#sk-container-id-6 div.sk-parallel-item::after {content: \"\";width: 100%;border-bottom: 1px solid gray;flex-grow: 1;}#sk-container-id-6 div.sk-label:hover label.sk-toggleable__label {background-color: #d4ebff;}#sk-container-id-6 div.sk-serial::before {content: \"\";position: absolute;border-left: 1px solid gray;box-sizing: border-box;top: 0;bottom: 0;left: 50%;z-index: 0;}#sk-container-id-6 div.sk-serial {display: flex;flex-direction: column;align-items: center;background-color: white;padding-right: 0.2em;padding-left: 0.2em;position: relative;}#sk-container-id-6 div.sk-item {position: relative;z-index: 1;}#sk-container-id-6 div.sk-parallel {display: flex;align-items: stretch;justify-content: center;background-color: white;position: relative;}#sk-container-id-6 div.sk-item::before, #sk-container-id-6 div.sk-parallel-item::before {content: \"\";position: absolute;border-left: 1px solid gray;box-sizing: border-box;top: 0;bottom: 0;left: 50%;z-index: -1;}#sk-container-id-6 div.sk-parallel-item {display: flex;flex-direction: column;z-index: 1;position: relative;background-color: white;}#sk-container-id-6 div.sk-parallel-item:first-child::after {align-self: flex-end;width: 50%;}#sk-container-id-6 div.sk-parallel-item:last-child::after {align-self: flex-start;width: 50%;}#sk-container-id-6 div.sk-parallel-item:only-child::after {width: 0;}#sk-container-id-6 div.sk-dashed-wrapped {border: 1px dashed gray;margin: 0 0.4em 0.5em 0.4em;box-sizing: border-box;padding-bottom: 0.4em;background-color: white;}#sk-container-id-6 div.sk-label label {font-family: monospace;font-weight: bold;display: inline-block;line-height: 1.2em;}#sk-container-id-6 div.sk-label-container {text-align: center;}#sk-container-id-6 div.sk-container {/* jupyter's `normalize.less` sets `[hidden] { display: none; }` but bootstrap.min.css set `[hidden] { display: none !important; }` so we also need the `!important` here to be able to override the default hidden behavior on the sphinx rendered scikit-learn.org. See: https://github.com/scikit-learn/scikit-learn/issues/21755 */display: inline-block !important;position: relative;}#sk-container-id-6 div.sk-text-repr-fallback {display: none;}</style><div id=\"sk-container-id-6\" class=\"sk-top-container\"><div class=\"sk-text-repr-fallback\"><pre>SGDRegressor(max_iter=10000)</pre><b>In a Jupyter environment, please rerun this cell to show the HTML representation or trust the notebook. <br />On GitHub, the HTML representation is unable to render, please try loading this page with nbviewer.org.</b></div><div class=\"sk-container\" hidden><div class=\"sk-item\"><div class=\"sk-estimator sk-toggleable\"><input class=\"sk-toggleable__control sk-hidden--visually\" id=\"sk-estimator-id-6\" type=\"checkbox\" checked><label for=\"sk-estimator-id-6\" class=\"sk-toggleable__label sk-toggleable__label-arrow\">SGDRegressor</label><div class=\"sk-toggleable__content\"><pre>SGDRegressor(max_iter=10000)</pre></div></div></div></div></div>"
      ],
      "text/plain": [
       "SGDRegressor(max_iter=10000)"
      ]
     },
     "execution_count": 87,
     "metadata": {},
     "output_type": "execute_result"
    }
   ],
   "source": [
    "x_train = np.array(test_data[\"week_number\"].values).reshape(-1, 1)\n",
    "y_train = np.array(test_data[\"total_claims\"].values) \n",
    "sgdr.fit(x_train, y_train)"
   ]
  },
  {
   "cell_type": "code",
   "execution_count": 88,
   "id": "4ce95f6e",
   "metadata": {
    "execution": {
     "iopub.execute_input": "2023-05-10T01:11:47.172280Z",
     "iopub.status.busy": "2023-05-10T01:11:47.172193Z",
     "iopub.status.idle": "2023-05-10T01:11:47.174186Z",
     "shell.execute_reply": "2023-05-10T01:11:47.173915Z"
    }
   },
   "outputs": [
    {
     "name": "stdout",
     "output_type": "stream",
     "text": [
      "1\n"
     ]
    }
   ],
   "source": [
    "x_pred = np.array([39]).reshape(-1, 1)\n",
    "y_pred = int(sgdr.predict(x_pred))\n",
    "print(y_pred)"
   ]
  },
  {
   "cell_type": "code",
   "execution_count": 89,
   "id": "76e84995",
   "metadata": {
    "execution": {
     "iopub.execute_input": "2023-05-10T01:11:47.175451Z",
     "iopub.status.busy": "2023-05-10T01:11:47.175371Z",
     "iopub.status.idle": "2023-05-10T01:11:47.176996Z",
     "shell.execute_reply": "2023-05-10T01:11:47.176773Z"
    }
   },
   "outputs": [],
   "source": [
    "from sklearn.linear_model import SGDRegressor\n",
    "sgdr = SGDRegressor(max_iter = 10000)"
   ]
  },
  {
   "cell_type": "code",
   "execution_count": 90,
   "id": "fb4e1a40",
   "metadata": {
    "execution": {
     "iopub.execute_input": "2023-05-10T01:11:47.178277Z",
     "iopub.status.busy": "2023-05-10T01:11:47.178194Z",
     "iopub.status.idle": "2023-05-10T01:11:47.183985Z",
     "shell.execute_reply": "2023-05-10T01:11:47.183750Z"
    }
   },
   "outputs": [
    {
     "data": {
      "text/html": [
       "<style>#sk-container-id-7 {color: black;background-color: white;}#sk-container-id-7 pre{padding: 0;}#sk-container-id-7 div.sk-toggleable {background-color: white;}#sk-container-id-7 label.sk-toggleable__label {cursor: pointer;display: block;width: 100%;margin-bottom: 0;padding: 0.3em;box-sizing: border-box;text-align: center;}#sk-container-id-7 label.sk-toggleable__label-arrow:before {content: \"▸\";float: left;margin-right: 0.25em;color: #696969;}#sk-container-id-7 label.sk-toggleable__label-arrow:hover:before {color: black;}#sk-container-id-7 div.sk-estimator:hover label.sk-toggleable__label-arrow:before {color: black;}#sk-container-id-7 div.sk-toggleable__content {max-height: 0;max-width: 0;overflow: hidden;text-align: left;background-color: #f0f8ff;}#sk-container-id-7 div.sk-toggleable__content pre {margin: 0.2em;color: black;border-radius: 0.25em;background-color: #f0f8ff;}#sk-container-id-7 input.sk-toggleable__control:checked~div.sk-toggleable__content {max-height: 200px;max-width: 100%;overflow: auto;}#sk-container-id-7 input.sk-toggleable__control:checked~label.sk-toggleable__label-arrow:before {content: \"▾\";}#sk-container-id-7 div.sk-estimator input.sk-toggleable__control:checked~label.sk-toggleable__label {background-color: #d4ebff;}#sk-container-id-7 div.sk-label input.sk-toggleable__control:checked~label.sk-toggleable__label {background-color: #d4ebff;}#sk-container-id-7 input.sk-hidden--visually {border: 0;clip: rect(1px 1px 1px 1px);clip: rect(1px, 1px, 1px, 1px);height: 1px;margin: -1px;overflow: hidden;padding: 0;position: absolute;width: 1px;}#sk-container-id-7 div.sk-estimator {font-family: monospace;background-color: #f0f8ff;border: 1px dotted black;border-radius: 0.25em;box-sizing: border-box;margin-bottom: 0.5em;}#sk-container-id-7 div.sk-estimator:hover {background-color: #d4ebff;}#sk-container-id-7 div.sk-parallel-item::after {content: \"\";width: 100%;border-bottom: 1px solid gray;flex-grow: 1;}#sk-container-id-7 div.sk-label:hover label.sk-toggleable__label {background-color: #d4ebff;}#sk-container-id-7 div.sk-serial::before {content: \"\";position: absolute;border-left: 1px solid gray;box-sizing: border-box;top: 0;bottom: 0;left: 50%;z-index: 0;}#sk-container-id-7 div.sk-serial {display: flex;flex-direction: column;align-items: center;background-color: white;padding-right: 0.2em;padding-left: 0.2em;position: relative;}#sk-container-id-7 div.sk-item {position: relative;z-index: 1;}#sk-container-id-7 div.sk-parallel {display: flex;align-items: stretch;justify-content: center;background-color: white;position: relative;}#sk-container-id-7 div.sk-item::before, #sk-container-id-7 div.sk-parallel-item::before {content: \"\";position: absolute;border-left: 1px solid gray;box-sizing: border-box;top: 0;bottom: 0;left: 50%;z-index: -1;}#sk-container-id-7 div.sk-parallel-item {display: flex;flex-direction: column;z-index: 1;position: relative;background-color: white;}#sk-container-id-7 div.sk-parallel-item:first-child::after {align-self: flex-end;width: 50%;}#sk-container-id-7 div.sk-parallel-item:last-child::after {align-self: flex-start;width: 50%;}#sk-container-id-7 div.sk-parallel-item:only-child::after {width: 0;}#sk-container-id-7 div.sk-dashed-wrapped {border: 1px dashed gray;margin: 0 0.4em 0.5em 0.4em;box-sizing: border-box;padding-bottom: 0.4em;background-color: white;}#sk-container-id-7 div.sk-label label {font-family: monospace;font-weight: bold;display: inline-block;line-height: 1.2em;}#sk-container-id-7 div.sk-label-container {text-align: center;}#sk-container-id-7 div.sk-container {/* jupyter's `normalize.less` sets `[hidden] { display: none; }` but bootstrap.min.css set `[hidden] { display: none !important; }` so we also need the `!important` here to be able to override the default hidden behavior on the sphinx rendered scikit-learn.org. See: https://github.com/scikit-learn/scikit-learn/issues/21755 */display: inline-block !important;position: relative;}#sk-container-id-7 div.sk-text-repr-fallback {display: none;}</style><div id=\"sk-container-id-7\" class=\"sk-top-container\"><div class=\"sk-text-repr-fallback\"><pre>SGDRegressor(max_iter=10000)</pre><b>In a Jupyter environment, please rerun this cell to show the HTML representation or trust the notebook. <br />On GitHub, the HTML representation is unable to render, please try loading this page with nbviewer.org.</b></div><div class=\"sk-container\" hidden><div class=\"sk-item\"><div class=\"sk-estimator sk-toggleable\"><input class=\"sk-toggleable__control sk-hidden--visually\" id=\"sk-estimator-id-7\" type=\"checkbox\" checked><label for=\"sk-estimator-id-7\" class=\"sk-toggleable__label sk-toggleable__label-arrow\">SGDRegressor</label><div class=\"sk-toggleable__content\"><pre>SGDRegressor(max_iter=10000)</pre></div></div></div></div></div>"
      ],
      "text/plain": [
       "SGDRegressor(max_iter=10000)"
      ]
     },
     "execution_count": 90,
     "metadata": {},
     "output_type": "execute_result"
    }
   ],
   "source": [
    "x_train = np.array(test_data[\"week_number\"].values).reshape(-1, 1)\n",
    "y_train = np.array(test_data[\"total_claims\"].values) \n",
    "sgdr.fit(x_train, y_train)"
   ]
  },
  {
   "cell_type": "code",
   "execution_count": 91,
   "id": "5581ccb8",
   "metadata": {
    "execution": {
     "iopub.execute_input": "2023-05-10T01:11:47.185335Z",
     "iopub.status.busy": "2023-05-10T01:11:47.185259Z",
     "iopub.status.idle": "2023-05-10T01:11:47.187257Z",
     "shell.execute_reply": "2023-05-10T01:11:47.187031Z"
    }
   },
   "outputs": [
    {
     "name": "stdout",
     "output_type": "stream",
     "text": [
      "17\n"
     ]
    }
   ],
   "source": [
    "x_pred = np.array([39]).reshape(-1, 1)\n",
    "y_pred = int(sgdr.predict(x_pred))\n",
    "print(y_pred)"
   ]
  },
  {
   "cell_type": "code",
   "execution_count": 92,
   "id": "1440f2a0",
   "metadata": {
    "execution": {
     "iopub.execute_input": "2023-05-10T01:11:47.188552Z",
     "iopub.status.busy": "2023-05-10T01:11:47.188477Z",
     "iopub.status.idle": "2023-05-10T01:11:47.190095Z",
     "shell.execute_reply": "2023-05-10T01:11:47.189862Z"
    }
   },
   "outputs": [],
   "source": [
    "from sklearn.linear_model import SGDRegressor\n",
    "sgdr = SGDRegressor(max_iter = 10000)"
   ]
  },
  {
   "cell_type": "code",
   "execution_count": 93,
   "id": "fc8aae1d",
   "metadata": {
    "execution": {
     "iopub.execute_input": "2023-05-10T01:11:47.191386Z",
     "iopub.status.busy": "2023-05-10T01:11:47.191310Z",
     "iopub.status.idle": "2023-05-10T01:11:47.197043Z",
     "shell.execute_reply": "2023-05-10T01:11:47.196811Z"
    }
   },
   "outputs": [
    {
     "data": {
      "text/html": [
       "<style>#sk-container-id-8 {color: black;background-color: white;}#sk-container-id-8 pre{padding: 0;}#sk-container-id-8 div.sk-toggleable {background-color: white;}#sk-container-id-8 label.sk-toggleable__label {cursor: pointer;display: block;width: 100%;margin-bottom: 0;padding: 0.3em;box-sizing: border-box;text-align: center;}#sk-container-id-8 label.sk-toggleable__label-arrow:before {content: \"▸\";float: left;margin-right: 0.25em;color: #696969;}#sk-container-id-8 label.sk-toggleable__label-arrow:hover:before {color: black;}#sk-container-id-8 div.sk-estimator:hover label.sk-toggleable__label-arrow:before {color: black;}#sk-container-id-8 div.sk-toggleable__content {max-height: 0;max-width: 0;overflow: hidden;text-align: left;background-color: #f0f8ff;}#sk-container-id-8 div.sk-toggleable__content pre {margin: 0.2em;color: black;border-radius: 0.25em;background-color: #f0f8ff;}#sk-container-id-8 input.sk-toggleable__control:checked~div.sk-toggleable__content {max-height: 200px;max-width: 100%;overflow: auto;}#sk-container-id-8 input.sk-toggleable__control:checked~label.sk-toggleable__label-arrow:before {content: \"▾\";}#sk-container-id-8 div.sk-estimator input.sk-toggleable__control:checked~label.sk-toggleable__label {background-color: #d4ebff;}#sk-container-id-8 div.sk-label input.sk-toggleable__control:checked~label.sk-toggleable__label {background-color: #d4ebff;}#sk-container-id-8 input.sk-hidden--visually {border: 0;clip: rect(1px 1px 1px 1px);clip: rect(1px, 1px, 1px, 1px);height: 1px;margin: -1px;overflow: hidden;padding: 0;position: absolute;width: 1px;}#sk-container-id-8 div.sk-estimator {font-family: monospace;background-color: #f0f8ff;border: 1px dotted black;border-radius: 0.25em;box-sizing: border-box;margin-bottom: 0.5em;}#sk-container-id-8 div.sk-estimator:hover {background-color: #d4ebff;}#sk-container-id-8 div.sk-parallel-item::after {content: \"\";width: 100%;border-bottom: 1px solid gray;flex-grow: 1;}#sk-container-id-8 div.sk-label:hover label.sk-toggleable__label {background-color: #d4ebff;}#sk-container-id-8 div.sk-serial::before {content: \"\";position: absolute;border-left: 1px solid gray;box-sizing: border-box;top: 0;bottom: 0;left: 50%;z-index: 0;}#sk-container-id-8 div.sk-serial {display: flex;flex-direction: column;align-items: center;background-color: white;padding-right: 0.2em;padding-left: 0.2em;position: relative;}#sk-container-id-8 div.sk-item {position: relative;z-index: 1;}#sk-container-id-8 div.sk-parallel {display: flex;align-items: stretch;justify-content: center;background-color: white;position: relative;}#sk-container-id-8 div.sk-item::before, #sk-container-id-8 div.sk-parallel-item::before {content: \"\";position: absolute;border-left: 1px solid gray;box-sizing: border-box;top: 0;bottom: 0;left: 50%;z-index: -1;}#sk-container-id-8 div.sk-parallel-item {display: flex;flex-direction: column;z-index: 1;position: relative;background-color: white;}#sk-container-id-8 div.sk-parallel-item:first-child::after {align-self: flex-end;width: 50%;}#sk-container-id-8 div.sk-parallel-item:last-child::after {align-self: flex-start;width: 50%;}#sk-container-id-8 div.sk-parallel-item:only-child::after {width: 0;}#sk-container-id-8 div.sk-dashed-wrapped {border: 1px dashed gray;margin: 0 0.4em 0.5em 0.4em;box-sizing: border-box;padding-bottom: 0.4em;background-color: white;}#sk-container-id-8 div.sk-label label {font-family: monospace;font-weight: bold;display: inline-block;line-height: 1.2em;}#sk-container-id-8 div.sk-label-container {text-align: center;}#sk-container-id-8 div.sk-container {/* jupyter's `normalize.less` sets `[hidden] { display: none; }` but bootstrap.min.css set `[hidden] { display: none !important; }` so we also need the `!important` here to be able to override the default hidden behavior on the sphinx rendered scikit-learn.org. See: https://github.com/scikit-learn/scikit-learn/issues/21755 */display: inline-block !important;position: relative;}#sk-container-id-8 div.sk-text-repr-fallback {display: none;}</style><div id=\"sk-container-id-8\" class=\"sk-top-container\"><div class=\"sk-text-repr-fallback\"><pre>SGDRegressor(max_iter=10000)</pre><b>In a Jupyter environment, please rerun this cell to show the HTML representation or trust the notebook. <br />On GitHub, the HTML representation is unable to render, please try loading this page with nbviewer.org.</b></div><div class=\"sk-container\" hidden><div class=\"sk-item\"><div class=\"sk-estimator sk-toggleable\"><input class=\"sk-toggleable__control sk-hidden--visually\" id=\"sk-estimator-id-8\" type=\"checkbox\" checked><label for=\"sk-estimator-id-8\" class=\"sk-toggleable__label sk-toggleable__label-arrow\">SGDRegressor</label><div class=\"sk-toggleable__content\"><pre>SGDRegressor(max_iter=10000)</pre></div></div></div></div></div>"
      ],
      "text/plain": [
       "SGDRegressor(max_iter=10000)"
      ]
     },
     "execution_count": 93,
     "metadata": {},
     "output_type": "execute_result"
    }
   ],
   "source": [
    "x_train = np.array(test_data[\"week_number\"].values).reshape(-1, 1)\n",
    "y_train = np.array(test_data[\"total_claims\"].values) \n",
    "sgdr.fit(x_train, y_train)"
   ]
  },
  {
   "cell_type": "code",
   "execution_count": 94,
   "id": "59a9f5e6",
   "metadata": {
    "execution": {
     "iopub.execute_input": "2023-05-10T01:11:47.198600Z",
     "iopub.status.busy": "2023-05-10T01:11:47.198509Z",
     "iopub.status.idle": "2023-05-10T01:11:47.200520Z",
     "shell.execute_reply": "2023-05-10T01:11:47.200281Z"
    }
   },
   "outputs": [
    {
     "name": "stdout",
     "output_type": "stream",
     "text": [
      "23\n"
     ]
    }
   ],
   "source": [
    "x_pred = np.array([39]).reshape(-1, 1)\n",
    "y_pred = int(sgdr.predict(x_pred))\n",
    "print(y_pred)"
   ]
  },
  {
   "cell_type": "code",
   "execution_count": 95,
   "id": "73fcd21f",
   "metadata": {
    "execution": {
     "iopub.execute_input": "2023-05-10T01:11:47.201927Z",
     "iopub.status.busy": "2023-05-10T01:11:47.201836Z",
     "iopub.status.idle": "2023-05-10T01:11:47.203603Z",
     "shell.execute_reply": "2023-05-10T01:11:47.203359Z"
    }
   },
   "outputs": [],
   "source": [
    "from sklearn.linear_model import SGDRegressor\n",
    "sgdr = SGDRegressor(max_iter = 10000)"
   ]
  },
  {
   "cell_type": "code",
   "execution_count": 96,
   "id": "4719f88a",
   "metadata": {
    "execution": {
     "iopub.execute_input": "2023-05-10T01:11:47.204886Z",
     "iopub.status.busy": "2023-05-10T01:11:47.204808Z",
     "iopub.status.idle": "2023-05-10T01:11:47.210840Z",
     "shell.execute_reply": "2023-05-10T01:11:47.210572Z"
    }
   },
   "outputs": [
    {
     "data": {
      "text/html": [
       "<style>#sk-container-id-9 {color: black;background-color: white;}#sk-container-id-9 pre{padding: 0;}#sk-container-id-9 div.sk-toggleable {background-color: white;}#sk-container-id-9 label.sk-toggleable__label {cursor: pointer;display: block;width: 100%;margin-bottom: 0;padding: 0.3em;box-sizing: border-box;text-align: center;}#sk-container-id-9 label.sk-toggleable__label-arrow:before {content: \"▸\";float: left;margin-right: 0.25em;color: #696969;}#sk-container-id-9 label.sk-toggleable__label-arrow:hover:before {color: black;}#sk-container-id-9 div.sk-estimator:hover label.sk-toggleable__label-arrow:before {color: black;}#sk-container-id-9 div.sk-toggleable__content {max-height: 0;max-width: 0;overflow: hidden;text-align: left;background-color: #f0f8ff;}#sk-container-id-9 div.sk-toggleable__content pre {margin: 0.2em;color: black;border-radius: 0.25em;background-color: #f0f8ff;}#sk-container-id-9 input.sk-toggleable__control:checked~div.sk-toggleable__content {max-height: 200px;max-width: 100%;overflow: auto;}#sk-container-id-9 input.sk-toggleable__control:checked~label.sk-toggleable__label-arrow:before {content: \"▾\";}#sk-container-id-9 div.sk-estimator input.sk-toggleable__control:checked~label.sk-toggleable__label {background-color: #d4ebff;}#sk-container-id-9 div.sk-label input.sk-toggleable__control:checked~label.sk-toggleable__label {background-color: #d4ebff;}#sk-container-id-9 input.sk-hidden--visually {border: 0;clip: rect(1px 1px 1px 1px);clip: rect(1px, 1px, 1px, 1px);height: 1px;margin: -1px;overflow: hidden;padding: 0;position: absolute;width: 1px;}#sk-container-id-9 div.sk-estimator {font-family: monospace;background-color: #f0f8ff;border: 1px dotted black;border-radius: 0.25em;box-sizing: border-box;margin-bottom: 0.5em;}#sk-container-id-9 div.sk-estimator:hover {background-color: #d4ebff;}#sk-container-id-9 div.sk-parallel-item::after {content: \"\";width: 100%;border-bottom: 1px solid gray;flex-grow: 1;}#sk-container-id-9 div.sk-label:hover label.sk-toggleable__label {background-color: #d4ebff;}#sk-container-id-9 div.sk-serial::before {content: \"\";position: absolute;border-left: 1px solid gray;box-sizing: border-box;top: 0;bottom: 0;left: 50%;z-index: 0;}#sk-container-id-9 div.sk-serial {display: flex;flex-direction: column;align-items: center;background-color: white;padding-right: 0.2em;padding-left: 0.2em;position: relative;}#sk-container-id-9 div.sk-item {position: relative;z-index: 1;}#sk-container-id-9 div.sk-parallel {display: flex;align-items: stretch;justify-content: center;background-color: white;position: relative;}#sk-container-id-9 div.sk-item::before, #sk-container-id-9 div.sk-parallel-item::before {content: \"\";position: absolute;border-left: 1px solid gray;box-sizing: border-box;top: 0;bottom: 0;left: 50%;z-index: -1;}#sk-container-id-9 div.sk-parallel-item {display: flex;flex-direction: column;z-index: 1;position: relative;background-color: white;}#sk-container-id-9 div.sk-parallel-item:first-child::after {align-self: flex-end;width: 50%;}#sk-container-id-9 div.sk-parallel-item:last-child::after {align-self: flex-start;width: 50%;}#sk-container-id-9 div.sk-parallel-item:only-child::after {width: 0;}#sk-container-id-9 div.sk-dashed-wrapped {border: 1px dashed gray;margin: 0 0.4em 0.5em 0.4em;box-sizing: border-box;padding-bottom: 0.4em;background-color: white;}#sk-container-id-9 div.sk-label label {font-family: monospace;font-weight: bold;display: inline-block;line-height: 1.2em;}#sk-container-id-9 div.sk-label-container {text-align: center;}#sk-container-id-9 div.sk-container {/* jupyter's `normalize.less` sets `[hidden] { display: none; }` but bootstrap.min.css set `[hidden] { display: none !important; }` so we also need the `!important` here to be able to override the default hidden behavior on the sphinx rendered scikit-learn.org. See: https://github.com/scikit-learn/scikit-learn/issues/21755 */display: inline-block !important;position: relative;}#sk-container-id-9 div.sk-text-repr-fallback {display: none;}</style><div id=\"sk-container-id-9\" class=\"sk-top-container\"><div class=\"sk-text-repr-fallback\"><pre>SGDRegressor(max_iter=10000)</pre><b>In a Jupyter environment, please rerun this cell to show the HTML representation or trust the notebook. <br />On GitHub, the HTML representation is unable to render, please try loading this page with nbviewer.org.</b></div><div class=\"sk-container\" hidden><div class=\"sk-item\"><div class=\"sk-estimator sk-toggleable\"><input class=\"sk-toggleable__control sk-hidden--visually\" id=\"sk-estimator-id-9\" type=\"checkbox\" checked><label for=\"sk-estimator-id-9\" class=\"sk-toggleable__label sk-toggleable__label-arrow\">SGDRegressor</label><div class=\"sk-toggleable__content\"><pre>SGDRegressor(max_iter=10000)</pre></div></div></div></div></div>"
      ],
      "text/plain": [
       "SGDRegressor(max_iter=10000)"
      ]
     },
     "execution_count": 96,
     "metadata": {},
     "output_type": "execute_result"
    }
   ],
   "source": [
    "x_train = np.array(test_data[\"week_number\"].values).reshape(-1, 1)\n",
    "y_train = np.array(test_data[\"total_claims\"].values) \n",
    "sgdr.fit(x_train, y_train)"
   ]
  },
  {
   "cell_type": "code",
   "execution_count": 97,
   "id": "618d2ef9",
   "metadata": {
    "execution": {
     "iopub.execute_input": "2023-05-10T01:11:47.212303Z",
     "iopub.status.busy": "2023-05-10T01:11:47.212207Z",
     "iopub.status.idle": "2023-05-10T01:11:47.214137Z",
     "shell.execute_reply": "2023-05-10T01:11:47.213894Z"
    }
   },
   "outputs": [
    {
     "name": "stdout",
     "output_type": "stream",
     "text": [
      "2\n"
     ]
    }
   ],
   "source": [
    "x_pred = np.array([39]).reshape(-1, 1)\n",
    "y_pred = int(sgdr.predict(x_pred))\n",
    "print(y_pred)"
   ]
  },
  {
   "cell_type": "code",
   "execution_count": 98,
   "id": "247fb1c1",
   "metadata": {
    "execution": {
     "iopub.execute_input": "2023-05-10T01:11:47.215498Z",
     "iopub.status.busy": "2023-05-10T01:11:47.215417Z",
     "iopub.status.idle": "2023-05-10T01:11:47.217142Z",
     "shell.execute_reply": "2023-05-10T01:11:47.216914Z"
    }
   },
   "outputs": [],
   "source": [
    "from sklearn.linear_model import SGDRegressor\n",
    "sgdr = SGDRegressor(max_iter = 10000)"
   ]
  },
  {
   "cell_type": "code",
   "execution_count": 99,
   "id": "1670163b",
   "metadata": {
    "execution": {
     "iopub.execute_input": "2023-05-10T01:11:47.218508Z",
     "iopub.status.busy": "2023-05-10T01:11:47.218422Z",
     "iopub.status.idle": "2023-05-10T01:11:47.224387Z",
     "shell.execute_reply": "2023-05-10T01:11:47.224072Z"
    }
   },
   "outputs": [
    {
     "data": {
      "text/html": [
       "<style>#sk-container-id-10 {color: black;background-color: white;}#sk-container-id-10 pre{padding: 0;}#sk-container-id-10 div.sk-toggleable {background-color: white;}#sk-container-id-10 label.sk-toggleable__label {cursor: pointer;display: block;width: 100%;margin-bottom: 0;padding: 0.3em;box-sizing: border-box;text-align: center;}#sk-container-id-10 label.sk-toggleable__label-arrow:before {content: \"▸\";float: left;margin-right: 0.25em;color: #696969;}#sk-container-id-10 label.sk-toggleable__label-arrow:hover:before {color: black;}#sk-container-id-10 div.sk-estimator:hover label.sk-toggleable__label-arrow:before {color: black;}#sk-container-id-10 div.sk-toggleable__content {max-height: 0;max-width: 0;overflow: hidden;text-align: left;background-color: #f0f8ff;}#sk-container-id-10 div.sk-toggleable__content pre {margin: 0.2em;color: black;border-radius: 0.25em;background-color: #f0f8ff;}#sk-container-id-10 input.sk-toggleable__control:checked~div.sk-toggleable__content {max-height: 200px;max-width: 100%;overflow: auto;}#sk-container-id-10 input.sk-toggleable__control:checked~label.sk-toggleable__label-arrow:before {content: \"▾\";}#sk-container-id-10 div.sk-estimator input.sk-toggleable__control:checked~label.sk-toggleable__label {background-color: #d4ebff;}#sk-container-id-10 div.sk-label input.sk-toggleable__control:checked~label.sk-toggleable__label {background-color: #d4ebff;}#sk-container-id-10 input.sk-hidden--visually {border: 0;clip: rect(1px 1px 1px 1px);clip: rect(1px, 1px, 1px, 1px);height: 1px;margin: -1px;overflow: hidden;padding: 0;position: absolute;width: 1px;}#sk-container-id-10 div.sk-estimator {font-family: monospace;background-color: #f0f8ff;border: 1px dotted black;border-radius: 0.25em;box-sizing: border-box;margin-bottom: 0.5em;}#sk-container-id-10 div.sk-estimator:hover {background-color: #d4ebff;}#sk-container-id-10 div.sk-parallel-item::after {content: \"\";width: 100%;border-bottom: 1px solid gray;flex-grow: 1;}#sk-container-id-10 div.sk-label:hover label.sk-toggleable__label {background-color: #d4ebff;}#sk-container-id-10 div.sk-serial::before {content: \"\";position: absolute;border-left: 1px solid gray;box-sizing: border-box;top: 0;bottom: 0;left: 50%;z-index: 0;}#sk-container-id-10 div.sk-serial {display: flex;flex-direction: column;align-items: center;background-color: white;padding-right: 0.2em;padding-left: 0.2em;position: relative;}#sk-container-id-10 div.sk-item {position: relative;z-index: 1;}#sk-container-id-10 div.sk-parallel {display: flex;align-items: stretch;justify-content: center;background-color: white;position: relative;}#sk-container-id-10 div.sk-item::before, #sk-container-id-10 div.sk-parallel-item::before {content: \"\";position: absolute;border-left: 1px solid gray;box-sizing: border-box;top: 0;bottom: 0;left: 50%;z-index: -1;}#sk-container-id-10 div.sk-parallel-item {display: flex;flex-direction: column;z-index: 1;position: relative;background-color: white;}#sk-container-id-10 div.sk-parallel-item:first-child::after {align-self: flex-end;width: 50%;}#sk-container-id-10 div.sk-parallel-item:last-child::after {align-self: flex-start;width: 50%;}#sk-container-id-10 div.sk-parallel-item:only-child::after {width: 0;}#sk-container-id-10 div.sk-dashed-wrapped {border: 1px dashed gray;margin: 0 0.4em 0.5em 0.4em;box-sizing: border-box;padding-bottom: 0.4em;background-color: white;}#sk-container-id-10 div.sk-label label {font-family: monospace;font-weight: bold;display: inline-block;line-height: 1.2em;}#sk-container-id-10 div.sk-label-container {text-align: center;}#sk-container-id-10 div.sk-container {/* jupyter's `normalize.less` sets `[hidden] { display: none; }` but bootstrap.min.css set `[hidden] { display: none !important; }` so we also need the `!important` here to be able to override the default hidden behavior on the sphinx rendered scikit-learn.org. See: https://github.com/scikit-learn/scikit-learn/issues/21755 */display: inline-block !important;position: relative;}#sk-container-id-10 div.sk-text-repr-fallback {display: none;}</style><div id=\"sk-container-id-10\" class=\"sk-top-container\"><div class=\"sk-text-repr-fallback\"><pre>SGDRegressor(max_iter=10000)</pre><b>In a Jupyter environment, please rerun this cell to show the HTML representation or trust the notebook. <br />On GitHub, the HTML representation is unable to render, please try loading this page with nbviewer.org.</b></div><div class=\"sk-container\" hidden><div class=\"sk-item\"><div class=\"sk-estimator sk-toggleable\"><input class=\"sk-toggleable__control sk-hidden--visually\" id=\"sk-estimator-id-10\" type=\"checkbox\" checked><label for=\"sk-estimator-id-10\" class=\"sk-toggleable__label sk-toggleable__label-arrow\">SGDRegressor</label><div class=\"sk-toggleable__content\"><pre>SGDRegressor(max_iter=10000)</pre></div></div></div></div></div>"
      ],
      "text/plain": [
       "SGDRegressor(max_iter=10000)"
      ]
     },
     "execution_count": 99,
     "metadata": {},
     "output_type": "execute_result"
    }
   ],
   "source": [
    "x_train = np.array(test_data[\"week_number\"].values).reshape(-1, 1)\n",
    "y_train = np.array(test_data[\"total_claims\"].values) \n",
    "sgdr.fit(x_train, y_train)"
   ]
  },
  {
   "cell_type": "code",
   "execution_count": 100,
   "id": "58ba695f",
   "metadata": {
    "execution": {
     "iopub.execute_input": "2023-05-10T01:11:47.225852Z",
     "iopub.status.busy": "2023-05-10T01:11:47.225744Z",
     "iopub.status.idle": "2023-05-10T01:11:47.227771Z",
     "shell.execute_reply": "2023-05-10T01:11:47.227538Z"
    }
   },
   "outputs": [
    {
     "name": "stdout",
     "output_type": "stream",
     "text": [
      "9\n"
     ]
    }
   ],
   "source": [
    "x_pred = np.array([39]).reshape(-1, 1)\n",
    "y_pred = int(sgdr.predict(x_pred))\n",
    "print(y_pred)"
   ]
  },
  {
   "cell_type": "code",
   "execution_count": 101,
   "id": "c0667351",
   "metadata": {
    "execution": {
     "iopub.execute_input": "2023-05-10T01:11:47.229090Z",
     "iopub.status.busy": "2023-05-10T01:11:47.228987Z",
     "iopub.status.idle": "2023-05-10T01:11:47.230603Z",
     "shell.execute_reply": "2023-05-10T01:11:47.230381Z"
    }
   },
   "outputs": [],
   "source": [
    "from sklearn.linear_model import SGDRegressor\n",
    "sgdr = SGDRegressor(max_iter = 10000)"
   ]
  },
  {
   "cell_type": "code",
   "execution_count": 102,
   "id": "261c16fc",
   "metadata": {
    "execution": {
     "iopub.execute_input": "2023-05-10T01:11:47.232011Z",
     "iopub.status.busy": "2023-05-10T01:11:47.231918Z",
     "iopub.status.idle": "2023-05-10T01:11:47.237577Z",
     "shell.execute_reply": "2023-05-10T01:11:47.237358Z"
    }
   },
   "outputs": [
    {
     "data": {
      "text/html": [
       "<style>#sk-container-id-11 {color: black;background-color: white;}#sk-container-id-11 pre{padding: 0;}#sk-container-id-11 div.sk-toggleable {background-color: white;}#sk-container-id-11 label.sk-toggleable__label {cursor: pointer;display: block;width: 100%;margin-bottom: 0;padding: 0.3em;box-sizing: border-box;text-align: center;}#sk-container-id-11 label.sk-toggleable__label-arrow:before {content: \"▸\";float: left;margin-right: 0.25em;color: #696969;}#sk-container-id-11 label.sk-toggleable__label-arrow:hover:before {color: black;}#sk-container-id-11 div.sk-estimator:hover label.sk-toggleable__label-arrow:before {color: black;}#sk-container-id-11 div.sk-toggleable__content {max-height: 0;max-width: 0;overflow: hidden;text-align: left;background-color: #f0f8ff;}#sk-container-id-11 div.sk-toggleable__content pre {margin: 0.2em;color: black;border-radius: 0.25em;background-color: #f0f8ff;}#sk-container-id-11 input.sk-toggleable__control:checked~div.sk-toggleable__content {max-height: 200px;max-width: 100%;overflow: auto;}#sk-container-id-11 input.sk-toggleable__control:checked~label.sk-toggleable__label-arrow:before {content: \"▾\";}#sk-container-id-11 div.sk-estimator input.sk-toggleable__control:checked~label.sk-toggleable__label {background-color: #d4ebff;}#sk-container-id-11 div.sk-label input.sk-toggleable__control:checked~label.sk-toggleable__label {background-color: #d4ebff;}#sk-container-id-11 input.sk-hidden--visually {border: 0;clip: rect(1px 1px 1px 1px);clip: rect(1px, 1px, 1px, 1px);height: 1px;margin: -1px;overflow: hidden;padding: 0;position: absolute;width: 1px;}#sk-container-id-11 div.sk-estimator {font-family: monospace;background-color: #f0f8ff;border: 1px dotted black;border-radius: 0.25em;box-sizing: border-box;margin-bottom: 0.5em;}#sk-container-id-11 div.sk-estimator:hover {background-color: #d4ebff;}#sk-container-id-11 div.sk-parallel-item::after {content: \"\";width: 100%;border-bottom: 1px solid gray;flex-grow: 1;}#sk-container-id-11 div.sk-label:hover label.sk-toggleable__label {background-color: #d4ebff;}#sk-container-id-11 div.sk-serial::before {content: \"\";position: absolute;border-left: 1px solid gray;box-sizing: border-box;top: 0;bottom: 0;left: 50%;z-index: 0;}#sk-container-id-11 div.sk-serial {display: flex;flex-direction: column;align-items: center;background-color: white;padding-right: 0.2em;padding-left: 0.2em;position: relative;}#sk-container-id-11 div.sk-item {position: relative;z-index: 1;}#sk-container-id-11 div.sk-parallel {display: flex;align-items: stretch;justify-content: center;background-color: white;position: relative;}#sk-container-id-11 div.sk-item::before, #sk-container-id-11 div.sk-parallel-item::before {content: \"\";position: absolute;border-left: 1px solid gray;box-sizing: border-box;top: 0;bottom: 0;left: 50%;z-index: -1;}#sk-container-id-11 div.sk-parallel-item {display: flex;flex-direction: column;z-index: 1;position: relative;background-color: white;}#sk-container-id-11 div.sk-parallel-item:first-child::after {align-self: flex-end;width: 50%;}#sk-container-id-11 div.sk-parallel-item:last-child::after {align-self: flex-start;width: 50%;}#sk-container-id-11 div.sk-parallel-item:only-child::after {width: 0;}#sk-container-id-11 div.sk-dashed-wrapped {border: 1px dashed gray;margin: 0 0.4em 0.5em 0.4em;box-sizing: border-box;padding-bottom: 0.4em;background-color: white;}#sk-container-id-11 div.sk-label label {font-family: monospace;font-weight: bold;display: inline-block;line-height: 1.2em;}#sk-container-id-11 div.sk-label-container {text-align: center;}#sk-container-id-11 div.sk-container {/* jupyter's `normalize.less` sets `[hidden] { display: none; }` but bootstrap.min.css set `[hidden] { display: none !important; }` so we also need the `!important` here to be able to override the default hidden behavior on the sphinx rendered scikit-learn.org. See: https://github.com/scikit-learn/scikit-learn/issues/21755 */display: inline-block !important;position: relative;}#sk-container-id-11 div.sk-text-repr-fallback {display: none;}</style><div id=\"sk-container-id-11\" class=\"sk-top-container\"><div class=\"sk-text-repr-fallback\"><pre>SGDRegressor(max_iter=10000)</pre><b>In a Jupyter environment, please rerun this cell to show the HTML representation or trust the notebook. <br />On GitHub, the HTML representation is unable to render, please try loading this page with nbviewer.org.</b></div><div class=\"sk-container\" hidden><div class=\"sk-item\"><div class=\"sk-estimator sk-toggleable\"><input class=\"sk-toggleable__control sk-hidden--visually\" id=\"sk-estimator-id-11\" type=\"checkbox\" checked><label for=\"sk-estimator-id-11\" class=\"sk-toggleable__label sk-toggleable__label-arrow\">SGDRegressor</label><div class=\"sk-toggleable__content\"><pre>SGDRegressor(max_iter=10000)</pre></div></div></div></div></div>"
      ],
      "text/plain": [
       "SGDRegressor(max_iter=10000)"
      ]
     },
     "execution_count": 102,
     "metadata": {},
     "output_type": "execute_result"
    }
   ],
   "source": [
    "x_train = np.array(test_data[\"week_number\"].values).reshape(-1, 1)\n",
    "y_train = np.array(test_data[\"total_claims\"].values) \n",
    "sgdr.fit(x_train, y_train)"
   ]
  },
  {
   "cell_type": "code",
   "execution_count": 103,
   "id": "b86dadb7",
   "metadata": {
    "execution": {
     "iopub.execute_input": "2023-05-10T01:11:47.238994Z",
     "iopub.status.busy": "2023-05-10T01:11:47.238874Z",
     "iopub.status.idle": "2023-05-10T01:11:47.241007Z",
     "shell.execute_reply": "2023-05-10T01:11:47.240734Z"
    }
   },
   "outputs": [
    {
     "name": "stdout",
     "output_type": "stream",
     "text": [
      "29\n"
     ]
    }
   ],
   "source": [
    "x_pred = np.array([39]).reshape(-1, 1)\n",
    "y_pred = int(sgdr.predict(x_pred))\n",
    "print(y_pred)"
   ]
  },
  {
   "cell_type": "code",
   "execution_count": 104,
   "id": "320cc7c8",
   "metadata": {
    "execution": {
     "iopub.execute_input": "2023-05-10T01:11:47.242390Z",
     "iopub.status.busy": "2023-05-10T01:11:47.242311Z",
     "iopub.status.idle": "2023-05-10T01:11:47.243988Z",
     "shell.execute_reply": "2023-05-10T01:11:47.243744Z"
    }
   },
   "outputs": [],
   "source": [
    "from sklearn.linear_model import SGDRegressor\n",
    "sgdr = SGDRegressor(max_iter = 10000)"
   ]
  },
  {
   "cell_type": "code",
   "execution_count": 105,
   "id": "a144b066",
   "metadata": {
    "execution": {
     "iopub.execute_input": "2023-05-10T01:11:47.245304Z",
     "iopub.status.busy": "2023-05-10T01:11:47.245226Z",
     "iopub.status.idle": "2023-05-10T01:11:47.250867Z",
     "shell.execute_reply": "2023-05-10T01:11:47.250650Z"
    }
   },
   "outputs": [
    {
     "data": {
      "text/html": [
       "<style>#sk-container-id-12 {color: black;background-color: white;}#sk-container-id-12 pre{padding: 0;}#sk-container-id-12 div.sk-toggleable {background-color: white;}#sk-container-id-12 label.sk-toggleable__label {cursor: pointer;display: block;width: 100%;margin-bottom: 0;padding: 0.3em;box-sizing: border-box;text-align: center;}#sk-container-id-12 label.sk-toggleable__label-arrow:before {content: \"▸\";float: left;margin-right: 0.25em;color: #696969;}#sk-container-id-12 label.sk-toggleable__label-arrow:hover:before {color: black;}#sk-container-id-12 div.sk-estimator:hover label.sk-toggleable__label-arrow:before {color: black;}#sk-container-id-12 div.sk-toggleable__content {max-height: 0;max-width: 0;overflow: hidden;text-align: left;background-color: #f0f8ff;}#sk-container-id-12 div.sk-toggleable__content pre {margin: 0.2em;color: black;border-radius: 0.25em;background-color: #f0f8ff;}#sk-container-id-12 input.sk-toggleable__control:checked~div.sk-toggleable__content {max-height: 200px;max-width: 100%;overflow: auto;}#sk-container-id-12 input.sk-toggleable__control:checked~label.sk-toggleable__label-arrow:before {content: \"▾\";}#sk-container-id-12 div.sk-estimator input.sk-toggleable__control:checked~label.sk-toggleable__label {background-color: #d4ebff;}#sk-container-id-12 div.sk-label input.sk-toggleable__control:checked~label.sk-toggleable__label {background-color: #d4ebff;}#sk-container-id-12 input.sk-hidden--visually {border: 0;clip: rect(1px 1px 1px 1px);clip: rect(1px, 1px, 1px, 1px);height: 1px;margin: -1px;overflow: hidden;padding: 0;position: absolute;width: 1px;}#sk-container-id-12 div.sk-estimator {font-family: monospace;background-color: #f0f8ff;border: 1px dotted black;border-radius: 0.25em;box-sizing: border-box;margin-bottom: 0.5em;}#sk-container-id-12 div.sk-estimator:hover {background-color: #d4ebff;}#sk-container-id-12 div.sk-parallel-item::after {content: \"\";width: 100%;border-bottom: 1px solid gray;flex-grow: 1;}#sk-container-id-12 div.sk-label:hover label.sk-toggleable__label {background-color: #d4ebff;}#sk-container-id-12 div.sk-serial::before {content: \"\";position: absolute;border-left: 1px solid gray;box-sizing: border-box;top: 0;bottom: 0;left: 50%;z-index: 0;}#sk-container-id-12 div.sk-serial {display: flex;flex-direction: column;align-items: center;background-color: white;padding-right: 0.2em;padding-left: 0.2em;position: relative;}#sk-container-id-12 div.sk-item {position: relative;z-index: 1;}#sk-container-id-12 div.sk-parallel {display: flex;align-items: stretch;justify-content: center;background-color: white;position: relative;}#sk-container-id-12 div.sk-item::before, #sk-container-id-12 div.sk-parallel-item::before {content: \"\";position: absolute;border-left: 1px solid gray;box-sizing: border-box;top: 0;bottom: 0;left: 50%;z-index: -1;}#sk-container-id-12 div.sk-parallel-item {display: flex;flex-direction: column;z-index: 1;position: relative;background-color: white;}#sk-container-id-12 div.sk-parallel-item:first-child::after {align-self: flex-end;width: 50%;}#sk-container-id-12 div.sk-parallel-item:last-child::after {align-self: flex-start;width: 50%;}#sk-container-id-12 div.sk-parallel-item:only-child::after {width: 0;}#sk-container-id-12 div.sk-dashed-wrapped {border: 1px dashed gray;margin: 0 0.4em 0.5em 0.4em;box-sizing: border-box;padding-bottom: 0.4em;background-color: white;}#sk-container-id-12 div.sk-label label {font-family: monospace;font-weight: bold;display: inline-block;line-height: 1.2em;}#sk-container-id-12 div.sk-label-container {text-align: center;}#sk-container-id-12 div.sk-container {/* jupyter's `normalize.less` sets `[hidden] { display: none; }` but bootstrap.min.css set `[hidden] { display: none !important; }` so we also need the `!important` here to be able to override the default hidden behavior on the sphinx rendered scikit-learn.org. See: https://github.com/scikit-learn/scikit-learn/issues/21755 */display: inline-block !important;position: relative;}#sk-container-id-12 div.sk-text-repr-fallback {display: none;}</style><div id=\"sk-container-id-12\" class=\"sk-top-container\"><div class=\"sk-text-repr-fallback\"><pre>SGDRegressor(max_iter=10000)</pre><b>In a Jupyter environment, please rerun this cell to show the HTML representation or trust the notebook. <br />On GitHub, the HTML representation is unable to render, please try loading this page with nbviewer.org.</b></div><div class=\"sk-container\" hidden><div class=\"sk-item\"><div class=\"sk-estimator sk-toggleable\"><input class=\"sk-toggleable__control sk-hidden--visually\" id=\"sk-estimator-id-12\" type=\"checkbox\" checked><label for=\"sk-estimator-id-12\" class=\"sk-toggleable__label sk-toggleable__label-arrow\">SGDRegressor</label><div class=\"sk-toggleable__content\"><pre>SGDRegressor(max_iter=10000)</pre></div></div></div></div></div>"
      ],
      "text/plain": [
       "SGDRegressor(max_iter=10000)"
      ]
     },
     "execution_count": 105,
     "metadata": {},
     "output_type": "execute_result"
    }
   ],
   "source": [
    "x_train = np.array(test_data[\"week_number\"].values).reshape(-1, 1)\n",
    "y_train = np.array(test_data[\"total_claims\"].values) \n",
    "sgdr.fit(x_train, y_train)"
   ]
  },
  {
   "cell_type": "code",
   "execution_count": 106,
   "id": "0ebd6de8",
   "metadata": {
    "execution": {
     "iopub.execute_input": "2023-05-10T01:11:47.252209Z",
     "iopub.status.busy": "2023-05-10T01:11:47.252132Z",
     "iopub.status.idle": "2023-05-10T01:11:47.254082Z",
     "shell.execute_reply": "2023-05-10T01:11:47.253854Z"
    }
   },
   "outputs": [
    {
     "name": "stdout",
     "output_type": "stream",
     "text": [
      "19\n"
     ]
    }
   ],
   "source": [
    "x_pred = np.array([39]).reshape(-1, 1)\n",
    "y_pred = int(sgdr.predict(x_pred))\n",
    "print(y_pred)"
   ]
  },
  {
   "cell_type": "code",
   "execution_count": 107,
   "id": "23002695",
   "metadata": {
    "execution": {
     "iopub.execute_input": "2023-05-10T01:11:47.255380Z",
     "iopub.status.busy": "2023-05-10T01:11:47.255298Z",
     "iopub.status.idle": "2023-05-10T01:11:47.256971Z",
     "shell.execute_reply": "2023-05-10T01:11:47.256759Z"
    }
   },
   "outputs": [],
   "source": [
    "from sklearn.linear_model import SGDRegressor\n",
    "sgdr = SGDRegressor(max_iter = 10000)"
   ]
  },
  {
   "cell_type": "code",
   "execution_count": 108,
   "id": "554dea13",
   "metadata": {
    "execution": {
     "iopub.execute_input": "2023-05-10T01:11:47.258219Z",
     "iopub.status.busy": "2023-05-10T01:11:47.258148Z",
     "iopub.status.idle": "2023-05-10T01:11:47.260477Z",
     "shell.execute_reply": "2023-05-10T01:11:47.260252Z"
    }
   },
   "outputs": [
    {
     "name": "stdout",
     "output_type": "stream",
     "text": [
      "5bf51fc2e162d6faf9e3cf79e4198378\n",
      "420b44cc7e3f55d738df565421e59941\n",
      "e39c66ecceec76ee8f9f811fa4a2d246\n",
      "a90462cd11ae4e43144239bf7c4828a4\n",
      "8b20a6749088c7ff1237983076ebfeaa\n",
      "489a93264d03adecc4589fd9cd34ad36\n",
      "f61f291c865fe4fe2bfd6dad53e5d058\n",
      "f4520092ddd64f380cc29f27329112a6\n",
      "447d5984bb8a8179bff002ccd1bba162\n",
      "56d73815bdda97aca8e26051183ed3ba\n",
      "050a624d618a68e43fe31189909c644f\n",
      "5c43cbf8f0d860e91a9160706ea9b7d8\n",
      "1400fd6122c6fe7582a30ee1280beb4b\n",
      "02a7b845ab6b3fc2c09a50cdc486db2a\n",
      "a993d47c7143bed2a187b0cac7d17983\n",
      "09fbf26479f644ad33186ec51a90d65d\n",
      "ce8723e47ce346b09bc20deb5d27749e\n",
      "b67c2c4abede3730932f8d53aba0341a\n",
      "68e5bdd9fde563b534c8a38dfddb6146\n",
      "445ccda085809824099ff41f0ed427e5\n",
      "5a2c726a9af1492d08478394a7938cc8\n",
      "e7e08825e5ce14c08ad265c2bfc40227\n",
      "d42203d57e7b727be6c74adb6ec01f29\n",
      "627f0516c61e02f14a399ff99aaf141c\n",
      "676fffaaecefffe4ce93ca264c5c3c36\n",
      "7322dfe92403d20403f7a527ba733641\n",
      "d6a4947ec7c2a78bd32ba4e30f3bba53\n",
      "1ba8e8f6caf333a10ab33d1add51b960\n",
      "a0e42a2440ccd1dffe96a0d4cc4a8952\n",
      "9dd9614f2619fd1b8397cabdb3f2248a\n",
      "d7a8af51ca8eb58392ab833bc0ae516b\n",
      "592f2bae77a77f0721533ce7f3926d64\n",
      "3934b01a1e31d0a6af96867e1afbf03c\n",
      "c2e8e1c1da5aa1482049619b9f50efca\n",
      "e4e2fbc655aa5270695f8a48f7180cab\n",
      "f25446d4d951867ca7b984ad17c6c1e0\n",
      "ba71cfee2a23d7d3f0845cb5d6f1476f\n",
      "03ba3a9a63be1a5423457246f2846292\n",
      "20db450280ec6846d7a829a6ba40ccac\n",
      "3c887b182d660a9a6b874c5f9b4f3f61\n",
      "358cb073759d71d8abe8d6eaf7a3ead5\n",
      "7ee27423441d3bced123afcec6335da8\n",
      "b3a4cfbf22f45360e7fb11d1f8f86b9e\n",
      "f4156396854199e5d45a23248e03e379\n",
      "aeb668565350951c2e5b983ca5d18873\n",
      "6239669cbfe444abd0a46536a670d150\n",
      "2a0f380e277560b810399f7c6a01e76e\n",
      "152a373901a20ade58dc56c1f6ef9b96\n",
      "b1d41e64e8d10b7c427570a7f77f1826\n",
      "4084f9199d73deb5cf6dd200a5db1c80\n",
      "592a852d462dffe18312976a3da5b7d8\n",
      "89ca758dd8e4958d6e8e32ccb439c638\n",
      "ce64452a172b006bd45b3c1f147c88c1\n",
      "6c316cb2fc150a2f9fd50925926fc1f8\n",
      "461637d0edf7d72b7ca711e7b019553e\n",
      "44585653fcc97ff048845c7718889631\n",
      "20f6fd3e9f0d1f997481861655cad7e4\n",
      "3ac19461ea7efd6c892f9aba99ca55cd\n",
      "eccf545fec3a624430ee4b264e4d7c3e\n",
      "56851c8621607ae081c4e5bfc667057d\n",
      "51af2e559924bc5ac87f549c8779ba37\n",
      "4a6ae3b5be1b9b7c10c177e1b9fded82\n",
      "4f38233021d41195c29f0a206e75a77e\n",
      "3d5c4d633d7c5171d91cc9a073eceb3a\n",
      "c06321bd819be6f5c537c67a2797bd12\n",
      "91ec70e2da02ad3cb9ae962a7452be48\n",
      "7df3e38fbdab0a32ca0fa9fb6c8bd8c4\n",
      "5b8dd5be2b1e709f1cde61ab9438a8cb\n",
      "5c16723691805b4b6a90bce32128b6c9\n",
      "2094eb904cf826728093f0e2713d2e30\n",
      "58313733000358ab97030c3688616a8b\n",
      "196c37e49c98e0b8cdd142c001431a7a\n",
      "eb17558d218dbd25eef1e19ecc78248a\n",
      "bc9128e5845a9ef736ccbd42b96f0030\n",
      "e847a8217e0447f92b06d59fa7c88982\n",
      "772f54511e2ccdad04e4fc903bbd19cc\n",
      "1b7425c1ee8dc2465ef939286316744c\n",
      "cbcb0e04d6b21520dd35c88e304e0a08\n",
      "5e819ecea31bac6db64c0ccf48818fa8\n",
      "9e943f3dccee65ed33733a794a4d030e\n",
      "3f20a7038f07e774663e01dea8a04cd0\n",
      "d2fb0b2935cd696dc7681a74797e86b7\n",
      "ee9da2a37f88c1f0e922757286c26270\n",
      "d6623f71978a56f75cbc167fd3b935f4\n",
      "8ce569bbea13d8c92615e2cff87dcb0d\n",
      "15118b0768fba87d2ac7770249b5fb36\n",
      "5e9480dba0f8de932f4d9fb55fa6b8b1\n",
      "516a760c644c21ff41a8cd20b6fb73bf\n",
      "c5ec684089ebc4b152d4bc616685ad1d\n",
      "0eadc4f22396980ecc2e7878ffbaf14a\n",
      "bf8df4bed5c89ab2aca38cc649b8038e\n",
      "8d7022c454fc05456cfb4b9cadf5f109\n",
      "5846c7b267dc6e4b00863277e3582f80\n",
      "edcb2ff4e70a0437347f07e2dd6867e8\n",
      "c8c87872fa559a2fd200ded474e8a8ad\n",
      "35ada71743cfb77aca10c389e36caa28\n",
      "6803d35ef14c26cc19b7d9dacaa80672\n",
      "db0fbb4c6e88a74d6387efab221c1a7a\n",
      "fec479d0202d6e1e3f051a9ee902ff5d\n",
      "7f9c903be0e820137bd63ee9e9a97af8\n",
      "5f7f03a3797bb112aaadac83bc654303\n",
      "5977eb9301db6dd318dcf44eee64439c\n",
      "b81bda93a68e51718e7e3f272961f9b4\n",
      "bd42c9bae54ed298a8281caf7b699ff6\n",
      "9748c8d4f8762b4636a18fc95cb596a4\n",
      "fb55464f8e34af6d750d06968bf719b8\n",
      "7c570ea23642d08f4e1dac443dfca6c0\n",
      "24c8b349877e075f8d1b3b4e73dd4a53\n",
      "def0c3fa02633394cd2b5041de7710ac\n",
      "99c1cb11273b064dc48649886138eb8e\n",
      "33eee76748953453ca6ea4ba51515157\n",
      "b537d7f73173f1a4227001cef49d1222\n",
      "3a40f9f36533037a0dc9f426b87bf8d5\n",
      "60946318ef5818fdfd1e931128ef391a\n",
      "9b461ff4ed0094dc132cb01b2e1db9ba\n",
      "142aacf840a655687cc387024c43dada\n",
      "19c0ba2728a6971ff9c1301f3bf17f59\n",
      "48d1b41c0e356998f9f60ea534f1326f\n",
      "e50bc1df1b2b46879a29c009cf17654e\n",
      "75db3baff27b92ecda8651b35117d356\n",
      "6f483941cceef95c97d28b4f904a0d57\n",
      "d0808351616eaf2e1d5d36d52e6cb669\n",
      "f75b648bd705d4bce859fb3cbb02997f\n",
      "862f88264e4bdb239089465784dbe203\n",
      "a04177f6fbc3ba8065f2681089a0fad7\n",
      "cd572640b6e423db8fd7ad50ef0b4473\n",
      "93c603c6ec0389076b9f852f9250a231\n",
      "05298117cbe0fd69f04f89c83aaac091\n",
      "8c9d2aa90948679972a9382aadcc6001\n",
      "778946d9696cd6c95f57e8b1e6336389\n",
      "16b7c822c473ad7ae97c31f156448fd1\n",
      "9059885d1cfb186d078f691eafd6a24d\n",
      "17eb58bb239f3bad95a6cac384c3db8f\n",
      "f1bebcc62175d8c0c05ba9e63aa68b2e\n",
      "5744a323eb20d22fbe14f2913989cb86\n",
      "3611ab4b321d4532f1f18b13d1fd3b93\n",
      "574ff76bf046909190b36c41ec5ad4ad\n",
      "348c852abba65f89cd8af9395d6069d8\n",
      "a01b6cfa3022893470d884ca2534202c\n",
      "395702b93c95499f70d36073ba97df97\n",
      "5530c743ed9acfbd5d9ce30aa9b5a394\n",
      "bf3bb60ad8c35a1dc9aba30880f8dbb8\n",
      "4da27496ea51392169807ce30edde6bf\n",
      "8baa08eb0d7462333382e51f72737b14\n",
      "8d4837b174344462ac0acf31aced69e2\n",
      "c008e7a443149c9d5894c5b3d5373140\n",
      "7dd5fff353cd08adc694aa74d7fa31af\n",
      "009683350b175edfc6414d664e4ba873\n",
      "d526897e467bdc956bbf1d1a7d1f22c0\n",
      "7e3e3d2f2f2b4f20fa63c425271e08e4\n",
      "b8114861c419dc4c0cdbbc07a943b2b9\n",
      "39a100d6d185266c9a61f621e3461ca9\n",
      "a0875049afbd1cb4735e07c03fb8baae\n",
      "f142e2854cb3408a0daf85c0d1f97e74\n",
      "bba6b4d023cec7812f6b6c30c570b278\n",
      "9067053e8719d5cd878ba6351d817310\n",
      "1ec881fbb0021331b2b29c95049284fb\n",
      "50247c509e6c47b550a516f66e35c1d1\n",
      "34e6adeedc3b344eb183a0b5e8b4b774\n",
      "32686c399e21429791a419c0146217c9\n",
      "e4c3463c4a946e9301a4f64830eac663\n",
      "ab1993483e82e85b729f5d958120d50d\n",
      "d78d5eaa3a43f2a71683ae0f05ce3a8f\n",
      "bcf10911a28373ba22a779145eaa9942\n",
      "32ce6ba7f7da17932e0e3c53f69f366b\n",
      "639c126e54c9418b800800b6626d118e\n",
      "442a1b8f964352b0845991efdfe0a83a\n",
      "2ce8c1fbabbed69343d1af45e99c4839\n",
      "7b4b81e3e66af9462dc475aa2e7427a1\n",
      "1a37add233259107b266614f22bffd9b\n",
      "4b64982fb643e7eee44ce1ef8929cb44\n",
      "db27f7d84ea8ef691d33dbb715272977\n",
      "d1e34bb3edb270f7321788fd307f170e\n",
      "666c7361f0603c0cb4b783beddb796d8\n",
      "370a5fb730297d91eb3443d50582515e\n",
      "747f8bc2b0c8c0a04d29caa4cfe327d2\n",
      "aea09a8d8901d51bb5c67eabc50f4379\n",
      "94f1f3cc229ef12ee0659de4ab3b4e94\n",
      "5b5f642bf566e944c9bdac9840bf1e81\n",
      "82b9ea58ff3d04a35df8deba80644a0e\n",
      "47ef7e3c1efab409502a8e4c675654f6\n",
      "f38aacf279329cbb0fd7807a9ddc6f6c\n",
      "d65e188a0e2d9d0b2efdfcf6a1b81783\n",
      "52341b7215e0fb673d35b8a9638eeecf\n",
      "d192c7de73aa0a21fb4d99766e5b1b89\n",
      "f328006c7c2a699678d33c97ed0b5dde\n",
      "17f8641c080bd91fd39d6767f211beb1\n",
      "f5702bec0e2b40b4c9987e6d656b2721\n",
      "ca479a7052cd4e84391854e800362169\n",
      "461f4a6d476cf7257e9b4ab8b9371885\n",
      "984ffa38c6fdcecc2b57bbcadee3f81f\n",
      "abf354f67e94370068c7141648efe147\n",
      "a7745ca5549c5be27faf5ff747401ccc\n",
      "8932b66a9b94dcf03c942facc50ff401\n",
      "06e492b4f29d153af26c659d1f7da2a1\n",
      "e36c60ce269cf6f779cc1e9957f80857\n",
      "69274b987d26fbed84eb7d2b157badb6\n",
      "4fcf06b3645f8cb516215da638ce5f7f\n",
      "663b0660c9f85a475e5b7ce499dc48a3\n",
      "70077360c4805acada195b59cbbe1c78\n",
      "2dedb86602589ad3cf8a09380ce032d1\n",
      "dfa86215568c869a2e94ce3e5fcf1661\n",
      "0f3d45341a5b113b813ffb7be7f58bab\n",
      "48752f9ac7c72819e56bcccceefee7a6\n",
      "6bc590ccd895d32877228c363a07d90f\n",
      "a21252ae119bf94fb9343a9d279b1f09\n",
      "cd070689c07788f255dab0f996474640\n",
      "6b22ecccaddde4516a88c6981373daf3\n",
      "124fe6d04692c372ffc4f84fc99f480d\n",
      "d4b2ea25bfcbac86f18ca67712e9ab4f\n",
      "a253da9e1d743c9579e25c1b69a05eb2\n",
      "2b6b2f2e6d3340e7d9ae46cd41eaef1b\n",
      "6ac331ecae4b7e4dd2750893612331f9\n",
      "5aef70478b1bb50e1207bb1864a03ab0\n",
      "b94dcf22caa499f548c25164e13a8aba\n",
      "8ed377ac3767ffda176fcdea40bcd7e4\n",
      "a633db168b2c85a2f98be4bd877894d6\n",
      "63fc3e82740fcc3de0e5cf76fb4f96fe\n",
      "939e1edba462129ca3442d7e80e3a6df\n",
      "6cd923e2eebf6dbd10f781e8a35e4a99\n",
      "27a707c98b1a2316dd00df2309a628c4\n",
      "bc7ebe1813e2b66f084289e1b1172f21\n",
      "d7fccf988f1d2e7ec1a105f974835ef8\n",
      "c08958366558975968a93e9087aed6db\n",
      "4869240f378dd59f04a0a083c0fe6c03\n",
      "51a955afdcc0c4de1b57a881226925c0\n",
      "aef08e5cd6bbf488ae574e9462f3e47b\n",
      "001cd9ae23064d7f0fd3cd327c873d8d\n",
      "94cfe2eeb9088207be40c491c2b8524e\n",
      "1901b891f05515a8c22c05ef58baba38\n",
      "5c034ab90d217bb1b993b22daaf1c27e\n",
      "0ad94f09274e2c9cb0ef5cb77eb334b4\n",
      "f7f087af0599e6b2eaa4045ba1a0be50\n",
      "dd4faebf6a4c2dc95a361236f215caee\n",
      "cdfe175e21e14759b98d9dc9ad03fb10\n",
      "6a5609f385912113b6f1014b958ed748\n",
      "fd613eba867c6ad7350a937f743b88f2\n",
      "f85ba39277c72bdc3ded77985721b991\n",
      "97e5bdffc50e369922a89c3946a92e44\n",
      "e0e676badd59e9b1f2ecf853d2ca1ecb\n",
      "ae2f6787bb01d859420365f1ab55a3c1\n",
      "cc4a424e97a09fe72e5e9597c12af1df\n",
      "1f53903c302f96fd0e8a36d02364bbca\n",
      "983badfd7b568728e39a2344a9006078\n",
      "cbc5bb11c092796a7127a349ae8ab045\n",
      "b57c8824284adeabf73b43cf206b3819\n",
      "dd012c5266c9843f1049d7d012b18ed0\n",
      "d4ab328be737d00b398dc4d48963e2a1\n",
      "8b737a167ef2e623abed4c4243ed8b8d\n",
      "cb09047c9bc2c7afd2d74daa905f68bf\n",
      "d3bf31d4fda5dd60330943a904ac5d5a\n",
      "8b3b762a9010e36e084aae4c305d1b06\n",
      "a21afcba89ef782fc3d2696b6a60f9c2\n",
      "06c78e49b4daedfeb808c42e58fb25e4\n",
      "e654962bff96a16d2ce4a43206ca72b1\n",
      "b96eda75e8ffe638fff75143380a7ae6\n",
      "2686710e45843273cb902096aee8d8ab\n",
      "f4f5baac978b6ad7f401d5925bc77311\n",
      "007c1caccff1fbb3a0b8a10790f77141\n",
      "33f8f477e670b3cac704f4c0faa6e318\n",
      "b2aedbc721bb3852961092b0c46eab8e\n",
      "5db93f554d0a9df617e6e51043049dc4\n",
      "cbbc75242459ad8a30fba8f8119a5521\n",
      "07306ce64b3496b7955efaaf7509d73c\n",
      "b768694827b9ce3faa76db5daf06e523\n",
      "b25e809679da1728ba3638a9fb418257\n",
      "26c71b31d464bc7bedc8aed7e5c6e641\n",
      "695e104bd84215f8226793190ee20baf\n",
      "5091d0be49e94dc89756d9b0dd743214\n",
      "7eeae8c98cf4678be80f35a01f25fe6c\n",
      "4338a76c28b57d89da8a28cf06adcf73\n",
      "6b778af080e42bb4b461bbc4ed1b666c\n",
      "5f9844eb68630b75decbafdfa4974943\n",
      "3224483a60925de51923d51b10a00141\n",
      "00f962ce727b8dbbf20925abd5a253dd\n",
      "3fafd824892198e078c4dfcd6a26d7cf\n",
      "4cf5a6ca5bc512af4d9c656eaeb4d279\n",
      "2b4f94600254e0f271c110161e841358\n",
      "21957d5517323845818d87623589e1ba\n",
      "2420ca4ef50459c0bcc8fdeb8ee35a68\n",
      "953e68b130eaa59a171dc28d594d5303\n",
      "0dc217a2798a141c59b99f5bcff29fa9\n",
      "a7a6e62bcc876979d5f02bdec82c9869\n",
      "3b64b154b842527478b03e19c11e300b\n",
      "f0fdfe3859cd89a7d30ff7f15e2f06df\n",
      "98c85fec4b8bf095a732ab363e0b2ff3\n",
      "48ac5846d8d781fd5b7c6a863a572359\n",
      "cd9e56779d1e78b55ee14e0e9d48f5ab\n",
      "8f782a6153268c6031e31784e2d4eae2\n",
      "1988578e35b2d1211f45cee910250ca6\n",
      "f35320206f3dd1ffc411e4ac127caf92\n",
      "9200a2b83d869882f514fa76e6bcd05c\n",
      "bf9e1cf78ce5a29fb59c7e634d596263\n",
      "7a3c45dff186e7416bc95abd6668f65b\n",
      "9883a286690ddb549fd39aff729f83ee\n",
      "437523120b5bcbb4f6f5502c8216f2d0\n",
      "5ba7caaa7b10591d00eec45bf939284c\n",
      "c672051724f43ece79af744a5e47668f\n",
      "68153b89651358b0e4dab495d4feb3e9\n",
      "33c4302fb88e93ea520a346fe2853209\n",
      "ce8b2c0e11c538921c39c06b298d2393\n",
      "b63901e116eff9653b0bb68135364147\n",
      "ef76030f911b99b664285c543a238775\n",
      "e8110fa2ab61007365cb825240af25dd\n",
      "c0391823af85ef75df9d031878d35b5d\n",
      "074f501122885ab9aef5e9d07004209d\n",
      "63cf0d83a2d02d554965073e71e93e08\n",
      "931e7312a52b294244e6e05d33134c1e\n",
      "67407bf95ef751acc3accd630226b53d\n",
      "1fe978b588e12780393047c4294e4c8a\n",
      "4c612ffd5f49d054536c369580b91474\n",
      "b63efd0868b06138b7c8f9da9027e457\n",
      "58c85b68415bc08c49b2a430cee9f2f9\n",
      "fe355ff27aa8b2242a558d5e3ec99c18\n",
      "d75d4e493e871d3eb24b1d348ef440a0\n",
      "25f9cfb8488ebf12f28e2bf44754984d\n",
      "dd240f0580c98aeff68dfc9ab6a19b4a\n",
      "0d165590afad07ce71727d690f4aad80\n",
      "da68e5b292b530606ce5e2f7d9fb4342\n",
      "16b9d35c6d253c30527eb2de8d2d1bb9\n",
      "81594c0c7e4ef4c4cdbb7133d01cb361\n",
      "f6d5c6d9c9f4d5b9e178ba482f663970\n",
      "7aad2bd27761397960e7f2e139ad0b9e\n",
      "2d19305e3ee06c83f1247ddda5c70d57\n",
      "38e264ca88c300dc19938de0abc88ec4\n",
      "fa339582e0e0e47497dbe039bb00b19f\n",
      "4765514a954c2fc3eb7c1993662e60e9\n",
      "ce9d46e559d5457a59ce3b288f2f8e7d\n",
      "842c96eacb965c2a1c0cbd6e51a7f741\n",
      "14ceb8012cb1b912044297c8933cfcfc\n",
      "f45fb7ce83b62c22c577bca121fdb2c1\n",
      "1fc50fb37c0734d85581fe5e605fe7c5\n",
      "4258714000b9209afeb28e3032d8873d\n",
      "b84d48cb3e210ed3d4ae5522c752bd43\n",
      "c676fe3aef9660b4e225ac44d2e1174b\n",
      "7e1a4171a3a5fdf83696d9179174d4cd\n",
      "bd98af28b14ebbd3d45f05570ad9b72b\n",
      "3193b3205553224c47be06622d7b044d\n",
      "99b418342eb86b3aba7061fb1b7584a8\n",
      "a01d4790949ed9261a56c55a5eb2c239\n",
      "a7dee09e9fbf07ce1c880016b3e69f35\n",
      "42dec75b5a3b02de7908789cc6649e6d\n",
      "fa18717cd28da214ea9a38210fd9dd14\n",
      "005be9532fd717dc36d4be318fd9ad25\n",
      "a20575f25400fc50aa8377e345b97d41\n",
      "221c00f760916b30c2df9eff2bc6dc25\n",
      "66d134a595bd52251321d496ae2f4e0b\n",
      "6c1ad176e4007cf241439f6113a927ca\n",
      "dacd3e932f6546f12ba6b7f3e711a0ed\n",
      "2abe33dadcdb70181a2f693df31247a7\n",
      "7b208b710114a393f20ec464c7849157\n",
      "7b1f33221592c5bc981035ecfcd359f9\n",
      "4ca0a1c6a388982e4526ff6843825010\n",
      "a490a9038c51aee1aa41a969308340a8\n",
      "42606376eba36d3065753ab0013f4c14\n",
      "fca0703f480d461a24d0b68fd994815e\n",
      "fcf9f3effa992cfd552696e4ae7219b6\n",
      "bbcb018f0e5e49e13636f6e78ce9f60f\n",
      "4988189262a81dbef85220422f5277fd\n",
      "96b3d9311ce32f929ecc8f989d9656e2\n",
      "c82ff1f157906a6e9c37a08989544676\n",
      "dfaf614469f9c8f10d64ceefd9cde4a9\n",
      "85093fc593ca8c7bc3d9f86346c0c830\n",
      "1f74f4cecfe9b89fd0350fc0995e8362\n",
      "6505dba31a2e5fa96251a7ba5d2fc1a0\n",
      "7c8e4a2171c253411138d6e3a4399620\n",
      "12fbd01c7d92945acd93e0d44a8bed88\n",
      "99c75ff0ed83b04f57a0f99dfc1b05b2\n",
      "b8801e9acd413ba93922af95ab5bc392\n",
      "9a890bcd3def2cd1ad8270f81fe8adaf\n",
      "618bd975f55a022bd54daf828c1f7ce5\n",
      "47f0290645712229fd4f8f1fe7dc6b05\n",
      "5b266c11201654ddb90d1a80cf294645\n",
      "46c92d587470f0bc73b7474ac0fd41ca\n",
      "1bd2241076381b8c9e85d660512a013e\n",
      "46e96d9a3529a65f56d9e6a8dd33fc87\n",
      "dc370d6cb5c3688ac7fa00f9ee56b4bd\n",
      "8ac85c3e00e200910bf73b909d6f970b\n",
      "3eaeeb015822cc1c6b77c914fae0d087\n",
      "2ddb832dc6e28aba32224f559c5f0b63\n",
      "441519fbb02b948549a2593f0c6a8211\n",
      "2e6f7ee3f6f1ea9096625cbcb38e54cd\n",
      "a5c01f891423feb7623ecfbeea6d103c\n",
      "37495d17e82f7df326bfc2c4c090f7b7\n",
      "147837d751cb44500754e9620204f8d6\n",
      "45c8cf419dd4c4b442dbf3603ba94379\n",
      "fcfc60d8240e5a51f878fd92e2a352a3\n",
      "50088293eaca82f8c05e74c7aa38733f\n",
      "0e6523fb3fc17f6a2ac7050972bd4bfd\n",
      "7cf24c78c601ab6a16ab1607a5426d29\n",
      "f0c359ea042cfbb7b690ca3b78fd7f60\n",
      "13b7d682e844ec03d93ed9b77e08e022\n",
      "6d4dc6590c52c9b265d5003bf90ddbbb\n",
      "7e2478517261a19d87c0ab2e737fb25f\n",
      "c5db45ff8e2b39f40b282e2cb7e5584a\n",
      "c1f22c61eea660c6176bb4452a7f58b9\n",
      "65c933853ba6f9ad80097936c2924aa6\n",
      "dc2a4f701fccdca97a2a8522f607db76\n",
      "3098ba7b30da9acf99e1d491a22e01e5\n",
      "dbaba98befa4fc0363b337d5148dd896\n",
      "10bd992d086c48a05cb0f1e3df1e20f1\n",
      "d4ce127aa5a02d0660970041b98e3005\n",
      "d022be7b24f488153a47c5ebaec904eb\n",
      "241f741bee0eb0ce595304d106811776\n",
      "7953cef088684d6a82637fe6a9e7e7a8\n",
      "6e585a6e6fc9cd621d7f73b92c292214\n",
      "7ab86f26bdf5e743b0f0adf08df559e3\n",
      "2788f24947b2fc8fcc0ded4a4403d9ff\n",
      "63b65e67206ef8201d3df16a8fc518b7\n",
      "e99e2af4a924268f8dae0beba680b0bf\n",
      "cb304c84e572423d939db1dbb2009609\n",
      "6657c9871fa2f67cd168e6f94354060e\n",
      "4ed4b67acaf7b9c4d039e01d9d8c4b6a\n",
      "6fbb60a508283bc1fb30c13ac419941a\n",
      "5fe0dbe328785bc4e6bfe3b5609cf17d\n",
      "e4786a617066d9d27fc324a1120c76f8\n",
      "67bbd99237964244c2ad3d0531394291\n",
      "b49552ef5ef12e825e2ac8be26b54033\n",
      "2db2c67aed99c51c9d00d01f14030608\n",
      "dbe44146ae677a77353f803391928966\n",
      "f43fb9e90c5ecf879016b159aaa17fcb\n",
      "3a6f00be69a3da3b1cacfd1019865c0c\n",
      "6877b5946ab2ee471e4c546252057f29\n",
      "e76b18c02d69bdf2a261b733fd441673\n",
      "b08f608e6e2018affd0eadc6217cd9d6\n",
      "9d137c34d4598e4f67aac16df77037e0\n",
      "179a3fb4630992ff1f9112970d61f00f\n",
      "cfd973395338c6049c4ffea98214e90c\n",
      "2a7f196a773a4dce36a9f57828d1104f\n",
      "d637ac269ed7d8542ec0a524d629ffaf\n",
      "11a50500827cd49f0ae130201184724f\n",
      "9ee08e65a6fc00045b2c609903e65603\n",
      "1baabe619d226c9e7f1ef756fb41432b\n",
      "36c489a05d6a987ff961fdc67ccadbc1\n",
      "b5dd82a5d296b283ded47e0110ce386d\n",
      "4368ac6502dd50bc209781d0d0f660f4\n",
      "d9f6293ea290fd5f01904c594b5a90b9\n",
      "b7d1ab1b8c062f0098dc3ce8ff59a821\n",
      "9c7e7feff195285d5b7a47369b68bc4e\n",
      "44610534f2a03a72609764f95834c7f8\n",
      "55b3a08bb5ac8ee0f151cd2f7440f246\n",
      "0aed17ab54d56c6651d331418e8db6be\n",
      "a5af04cc361abb2597b7aeda9c8f05f5\n",
      "c3f6bd78c860c5b2f1f94361ce313085\n",
      "adf57413c8c1462b6c066f14034bea53\n",
      "a086a7bd8569dff6d9c4fe7db247e86d\n",
      "0bdc0df962a3c10541c2aa5220ded58b\n",
      "8eef3f1453830d1939aae4e774e87c53\n",
      "46b2882ec4c373527ec33f7bd4f1388d\n",
      "24f871b664684c15caad90bc237ff40d\n",
      "c54e262cc40c41b9095dcb5e08ce6e71\n",
      "2456c31231ec5a6931f78f305668d39a\n",
      "98e63567a2f4907c9cb2637247651530\n",
      "b249b93771413c68f826e6583566f645\n",
      "7bff91298a7f07d1cdcc7cb13c49eb41\n",
      "8267c703abd7db102110ec19c18ae372\n",
      "a514bda8b5262164df92063a50786753\n",
      "52f393e27a5d94231575ab9bfa341bcf\n",
      "601ff2c0fd709298f6644ad0e766b2d6\n",
      "74c5fdc6aac736fa7cf9b5d45c501a03\n",
      "248b6a72aba270fd9794b41f53813d5e\n",
      "1e86730cef0c1021f0048c175fc96184\n",
      "ce3e58980b9240213bd8ea1fbbefd044\n",
      "585f8731c2255d6b3f817a31180848b9\n",
      "4a22571b2563761671604973ba849ef5\n",
      "258c76c5552e3c876c3e24e9658c0205\n",
      "bff474e03c775cd4d326df7044b6911e\n",
      "25a57fe39e03c632125308737a7d3769\n",
      "733d0fa66aa7cad3330acffe30d6dc17\n",
      "dce4bc75ebe72c6785278052e0af100c\n",
      "9a8d8797ae3765b4ca946803c38b8ea6\n",
      "2a62116efd5f9a6da7b4ce2803eba96d\n",
      "481b365a771dc6d05bcfa5e38cf33731\n",
      "2835004b63bf80d6929a55a6d14842e1\n",
      "e8f426c17a7172179be379cb926bd278\n",
      "a949965ca25205c4fb8f47bac724b832\n",
      "6167d550c0cdd68c799d372c5df97acb\n",
      "f013068de98db1470bd986137a0c6d23\n",
      "10f34862aa77995d009553a1de67db4f\n",
      "d199aebcfab8dd5f47f9a2d645e5e25d\n",
      "b7dd087ca5fc64edaad0e6d8ea34bd82\n",
      "d6d6aa73853ad771aaf7f972661fd2e6\n",
      "05f47cc80d60a67d61e891e2b90c2045\n",
      "8236e0d2df83f079ad33ff54ad4e518b\n",
      "3ebec5c7e13f05f1772dae73f3a1f5e0\n",
      "abd614b6bace46049b465469a384ac0b\n",
      "184e8a1febbf737c9865b40ac43d92ee\n",
      "318f8580dab148310f87b072fd9f6c9f\n",
      "dc43d4854e85174fd42fe2e9c3c66f12\n",
      "8dad735d80cf4a1768bbf15c68e3afa7\n",
      "34ace0fda1bd8217d5cd6928f682a2c7\n",
      "cf7ee51cf57f0c735f70a2696fff59a8\n",
      "a5d7cec02c6005b044e40dd7a42ce4d2\n",
      "adf09caf6306aab8015ea16df0efab86\n",
      "6bdcabb0a40d03f8901d1d0e4a5124dc\n",
      "5c04f20bd2f8552aa7ac210dc01292fb\n",
      "451262a076827ead70bf9e87ef6d4840\n",
      "bef4a61635998c4d1b2b18327892a332\n",
      "f70960d492c2fd067680a14baa0f66e9\n",
      "8cc5579ada546380bcf2663e0692e520\n",
      "0abaea6bbc30d7cf8dbacc64727e7091\n",
      "3aa0a81e436042726e3913394182a6eb\n",
      "4e47a34030916597b6293593de5016a2\n",
      "53405bf66812a9f2623a307de572c11e\n",
      "d44e7a9d13d3730892b6ffff9af4d595\n",
      "adef8f4cb061376c14393d4fb9ab3f89\n",
      "a0c62bdce75bc5e1d047eae6ab6046ad\n",
      "9c62c3bead53d866799d5195059566e6\n",
      "5c79d376ac31aa05924b3adaf6460644\n",
      "7b67eb2512a721025efe5cb967a38aff\n",
      "1f24014b092a7ba6a1faaac5edaac47b\n",
      "cfeb7a55105a6e277ebef7dc3df83ffc\n",
      "18792af8852f8d0c77371eb582a87ef9\n",
      "471301a66d4c4feb1f474cf934be8999\n",
      "99fc3cb44cdaf10cc69506d7c92b6466\n",
      "65f24aac652de33abaf3f227b41e2641\n",
      "2af35a38ee1416c5532a5e35425ecbb8\n",
      "f63ddd4e3eb78163c5b06897f160db5f\n",
      "89399fcb71863c561d2a2703d8bd4a15\n",
      "bc281215b12aa7a7b7ef1c769027e041\n",
      "46c4f6c75e663b1ca82ea7994e6d83d3\n",
      "1deebda501712e7595b531b8337bc31a\n",
      "5a9758f65f001b6432ff31ff64a459d7\n",
      "e8b3b95e93a6dc7dbb90f4e72e7ac065\n",
      "932a58530abff8a48558e2a15639d453\n"
     ]
    }
   ],
   "source": [
    "for uu_id in df_pred_list['uu_id']:\n",
    "    print(uu_id)"
   ]
  },
  {
   "cell_type": "markdown",
   "id": "58ffcaf9",
   "metadata": {},
   "source": [
    "x_train = np.array(test_data[\"week_number\"].values).reshape(-1, 1)\n",
    "y_train = np.array(test_data[\"total_claims\"].values) \n",
    "sgdr.fit(x_train, y_train)"
   ]
  },
  {
   "cell_type": "markdown",
   "id": "f25f4aa2",
   "metadata": {},
   "source": [
    "x_pred = np.array([39]).reshape(-1, 1)\n",
    "y_pred = int(sgdr.predict(x_pred))\n",
    "print(y_pred)"
   ]
  },
  {
   "cell_type": "code",
   "execution_count": 109,
   "id": "7a105fb5",
   "metadata": {
    "execution": {
     "iopub.execute_input": "2023-05-10T01:11:47.261791Z",
     "iopub.status.busy": "2023-05-10T01:11:47.261715Z",
     "iopub.status.idle": "2023-05-10T01:11:47.263394Z",
     "shell.execute_reply": "2023-05-10T01:11:47.263182Z"
    }
   },
   "outputs": [],
   "source": [
    "sgdr = SGDRegressor(max_iter = 10000)"
   ]
  },
  {
   "cell_type": "code",
   "execution_count": 110,
   "id": "bbfb29ad",
   "metadata": {
    "execution": {
     "iopub.execute_input": "2023-05-10T01:11:47.264676Z",
     "iopub.status.busy": "2023-05-10T01:11:47.264602Z",
     "iopub.status.idle": "2023-05-10T01:11:47.270883Z",
     "shell.execute_reply": "2023-05-10T01:11:47.270635Z"
    }
   },
   "outputs": [
    {
     "ename": "NameError",
     "evalue": "name 'random' is not defined",
     "output_type": "error",
     "traceback": [
      "\u001b[0;31m---------------------------------------------------------------------------\u001b[0m",
      "\u001b[0;31mNameError\u001b[0m                                 Traceback (most recent call last)",
      "Cell \u001b[0;32mIn [110], line 1\u001b[0m\n\u001b[0;32m----> 1\u001b[0m \u001b[43mrandom\u001b[49m\u001b[38;5;241m.\u001b[39mseed(\u001b[38;5;241m0\u001b[39m)\n",
      "\u001b[0;31mNameError\u001b[0m: name 'random' is not defined"
     ]
    }
   ],
   "source": [
    "random.seed(0)"
   ]
  },
  {
   "cell_type": "code",
   "execution_count": 111,
   "id": "2ad84bab",
   "metadata": {
    "execution": {
     "iopub.execute_input": "2023-05-10T01:11:47.272222Z",
     "iopub.status.busy": "2023-05-10T01:11:47.272139Z",
     "iopub.status.idle": "2023-05-10T01:11:47.274539Z",
     "shell.execute_reply": "2023-05-10T01:11:47.274291Z"
    }
   },
   "outputs": [],
   "source": [
    "res = pandas.DataFrame(columns = ['Name', 'Articles', 'Improved'])"
   ]
  },
  {
   "cell_type": "code",
   "execution_count": 112,
   "id": "7ad8c56e",
   "metadata": {
    "execution": {
     "iopub.execute_input": "2023-05-10T01:11:47.276108Z",
     "iopub.status.busy": "2023-05-10T01:11:47.275970Z",
     "iopub.status.idle": "2023-05-10T01:11:47.287127Z",
     "shell.execute_reply": "2023-05-10T01:11:47.286879Z"
    },
    "lines_to_next_cell": 2
   },
   "outputs": [
    {
     "ename": "NameError",
     "evalue": "name 'pd' is not defined",
     "output_type": "error",
     "traceback": [
      "\u001b[0;31m---------------------------------------------------------------------------\u001b[0m",
      "\u001b[0;31mNameError\u001b[0m                                 Traceback (most recent call last)",
      "Cell \u001b[0;32mIn [112], line 9\u001b[0m\n\u001b[1;32m      7\u001b[0m x_pred \u001b[38;5;241m=\u001b[39m np\u001b[38;5;241m.\u001b[39marray([\u001b[38;5;241m39\u001b[39m])\u001b[38;5;241m.\u001b[39mreshape(\u001b[38;5;241m-\u001b[39m\u001b[38;5;241m1\u001b[39m, \u001b[38;5;241m1\u001b[39m)\n\u001b[1;32m      8\u001b[0m y_pred \u001b[38;5;241m=\u001b[39m \u001b[38;5;28mint\u001b[39m(sgdr\u001b[38;5;241m.\u001b[39mpredict(x_pred))\n\u001b[0;32m----> 9\u001b[0m res \u001b[38;5;241m=\u001b[39m \u001b[43mpd\u001b[49m\u001b[38;5;241m.\u001b[39mDataFrame(columns \u001b[38;5;241m=\u001b[39m [\u001b[38;5;124m'\u001b[39m\u001b[38;5;124muu_id\u001b[39m\u001b[38;5;124m'\u001b[39m, \u001b[38;5;124m'\u001b[39m\u001b[38;5;124mweek_number\u001b[39m\u001b[38;5;124m'\u001b[39m, \u001b[38;5;124m'\u001b[39m\u001b[38;5;124mtotal_claims\u001b[39m\u001b[38;5;124m'\u001b[39m])\n\u001b[1;32m     10\u001b[0m res \u001b[38;5;241m=\u001b[39m df\u001b[38;5;241m.\u001b[39mappend({\u001b[38;5;124m'\u001b[39m\u001b[38;5;124muu_id\u001b[39m\u001b[38;5;124m'\u001b[39m : cur_uu_id, \u001b[38;5;124m'\u001b[39m\u001b[38;5;124mweek_number\u001b[39m\u001b[38;5;124m'\u001b[39m : \u001b[38;5;241m37\u001b[39m, \u001b[38;5;124m'\u001b[39m\u001b[38;5;124mtotal_claims\u001b[39m\u001b[38;5;124m'\u001b[39m : y_pred},ignore_index \u001b[38;5;241m=\u001b[39m \u001b[38;5;28;01mTrue\u001b[39;00m)\n",
      "\u001b[0;31mNameError\u001b[0m: name 'pd' is not defined"
     ]
    }
   ],
   "source": [
    "for cur_uu_id in df_pred_list['uu_id']:\n",
    "    #print(uu_id)\n",
    "    test_data = df_three_col[df_three_col[\"uu_id\"].isin([cur_uu_id]) ]\n",
    "    x_train = np.array(test_data[\"week_number\"].values).reshape(-1, 1)\n",
    "    y_train = np.array(test_data[\"total_claims\"].values) \n",
    "    sgdr.fit(x_train, y_train)\n",
    "    x_pred = np.array([39]).reshape(-1, 1)\n",
    "    y_pred = int(sgdr.predict(x_pred))\n",
    "    res = pd.DataFrame(columns = ['uu_id', 'week_number', 'total_claims'])\n",
    "    res = df.append({'uu_id' : cur_uu_id, 'week_number' : 37, 'total_claims' : y_pred},ignore_index = True)"
   ]
  },
  {
   "cell_type": "code",
   "execution_count": 113,
   "id": "4052bf5f",
   "metadata": {
    "execution": {
     "iopub.execute_input": "2023-05-10T01:11:47.288575Z",
     "iopub.status.busy": "2023-05-10T01:11:47.288494Z",
     "iopub.status.idle": "2023-05-10T01:11:47.290427Z",
     "shell.execute_reply": "2023-05-10T01:11:47.290187Z"
    }
   },
   "outputs": [
    {
     "ename": "SyntaxError",
     "evalue": "invalid syntax (3062987005.py, line 1)",
     "output_type": "error",
     "traceback": [
      "\u001b[0;36m  Cell \u001b[0;32mIn [113], line 1\u001b[0;36m\u001b[0m\n\u001b[0;31m    res.to_csv(\"submission_prediction_output.csv\", index=False)s\u001b[0m\n\u001b[0m                                                               ^\u001b[0m\n\u001b[0;31mSyntaxError\u001b[0m\u001b[0;31m:\u001b[0m invalid syntax\n"
     ]
    }
   ],
   "source": [
    "res.to_csv(\"submission_prediction_output.csv\", index=False)s"
   ]
  },
  {
   "cell_type": "code",
   "execution_count": 114,
   "id": "b953925a",
   "metadata": {
    "execution": {
     "iopub.execute_input": "2023-05-10T01:11:47.291805Z",
     "iopub.status.busy": "2023-05-10T01:11:47.291706Z",
     "iopub.status.idle": "2023-05-10T01:11:47.293310Z",
     "shell.execute_reply": "2023-05-10T01:11:47.293070Z"
    }
   },
   "outputs": [],
   "source": [
    "sgdr = SGDRegressor(max_iter = 10000)"
   ]
  },
  {
   "cell_type": "code",
   "execution_count": 115,
   "id": "f515ef8b",
   "metadata": {
    "execution": {
     "iopub.execute_input": "2023-05-10T01:11:47.294589Z",
     "iopub.status.busy": "2023-05-10T01:11:47.294498Z",
     "iopub.status.idle": "2023-05-10T01:11:47.300659Z",
     "shell.execute_reply": "2023-05-10T01:11:47.300429Z"
    }
   },
   "outputs": [
    {
     "ename": "NameError",
     "evalue": "name 'random' is not defined",
     "output_type": "error",
     "traceback": [
      "\u001b[0;31m---------------------------------------------------------------------------\u001b[0m",
      "\u001b[0;31mNameError\u001b[0m                                 Traceback (most recent call last)",
      "Cell \u001b[0;32mIn [115], line 1\u001b[0m\n\u001b[0;32m----> 1\u001b[0m \u001b[43mrandom\u001b[49m\u001b[38;5;241m.\u001b[39mseed(\u001b[38;5;241m0\u001b[39m)\n",
      "\u001b[0;31mNameError\u001b[0m: name 'random' is not defined"
     ]
    }
   ],
   "source": [
    "random.seed(0)"
   ]
  },
  {
   "cell_type": "code",
   "execution_count": 116,
   "id": "3ce64978",
   "metadata": {
    "execution": {
     "iopub.execute_input": "2023-05-10T01:11:47.302014Z",
     "iopub.status.busy": "2023-05-10T01:11:47.301938Z",
     "iopub.status.idle": "2023-05-10T01:11:47.304194Z",
     "shell.execute_reply": "2023-05-10T01:11:47.303964Z"
    }
   },
   "outputs": [],
   "source": [
    "res = pandas.DataFrame(columns = ['Name', 'Articles', 'Improved'])"
   ]
  },
  {
   "cell_type": "code",
   "execution_count": 117,
   "id": "6d908f63",
   "metadata": {
    "execution": {
     "iopub.execute_input": "2023-05-10T01:11:47.305544Z",
     "iopub.status.busy": "2023-05-10T01:11:47.305469Z",
     "iopub.status.idle": "2023-05-10T01:11:47.315021Z",
     "shell.execute_reply": "2023-05-10T01:11:47.314781Z"
    },
    "lines_to_next_cell": 2
   },
   "outputs": [
    {
     "ename": "NameError",
     "evalue": "name 'pd' is not defined",
     "output_type": "error",
     "traceback": [
      "\u001b[0;31m---------------------------------------------------------------------------\u001b[0m",
      "\u001b[0;31mNameError\u001b[0m                                 Traceback (most recent call last)",
      "Cell \u001b[0;32mIn [117], line 9\u001b[0m\n\u001b[1;32m      7\u001b[0m x_pred \u001b[38;5;241m=\u001b[39m np\u001b[38;5;241m.\u001b[39marray([\u001b[38;5;241m39\u001b[39m])\u001b[38;5;241m.\u001b[39mreshape(\u001b[38;5;241m-\u001b[39m\u001b[38;5;241m1\u001b[39m, \u001b[38;5;241m1\u001b[39m)\n\u001b[1;32m      8\u001b[0m y_pred \u001b[38;5;241m=\u001b[39m \u001b[38;5;28mint\u001b[39m(sgdr\u001b[38;5;241m.\u001b[39mpredict(x_pred))\n\u001b[0;32m----> 9\u001b[0m res \u001b[38;5;241m=\u001b[39m \u001b[43mpd\u001b[49m\u001b[38;5;241m.\u001b[39mDataFrame(columns \u001b[38;5;241m=\u001b[39m [\u001b[38;5;124m'\u001b[39m\u001b[38;5;124muu_id\u001b[39m\u001b[38;5;124m'\u001b[39m, \u001b[38;5;124m'\u001b[39m\u001b[38;5;124mweek_number\u001b[39m\u001b[38;5;124m'\u001b[39m, \u001b[38;5;124m'\u001b[39m\u001b[38;5;124mtotal_claims\u001b[39m\u001b[38;5;124m'\u001b[39m])\n\u001b[1;32m     10\u001b[0m res \u001b[38;5;241m=\u001b[39m df\u001b[38;5;241m.\u001b[39mappend({\u001b[38;5;124m'\u001b[39m\u001b[38;5;124muu_id\u001b[39m\u001b[38;5;124m'\u001b[39m : cur_uu_id, \u001b[38;5;124m'\u001b[39m\u001b[38;5;124mweek_number\u001b[39m\u001b[38;5;124m'\u001b[39m : \u001b[38;5;241m37\u001b[39m, \u001b[38;5;124m'\u001b[39m\u001b[38;5;124mtotal_claims\u001b[39m\u001b[38;5;124m'\u001b[39m : y_pred},ignore_index \u001b[38;5;241m=\u001b[39m \u001b[38;5;28;01mTrue\u001b[39;00m)\n",
      "\u001b[0;31mNameError\u001b[0m: name 'pd' is not defined"
     ]
    }
   ],
   "source": [
    "for cur_uu_id in df_pred_list['uu_id']:\n",
    "    #print(uu_id)\n",
    "    test_data = df_three_col[df_three_col[\"uu_id\"].isin([cur_uu_id]) ]\n",
    "    x_train = np.array(test_data[\"week_number\"].values).reshape(-1, 1)\n",
    "    y_train = np.array(test_data[\"total_claims\"].values) \n",
    "    sgdr.fit(x_train, y_train)\n",
    "    x_pred = np.array([39]).reshape(-1, 1)\n",
    "    y_pred = int(sgdr.predict(x_pred))\n",
    "    res = pd.DataFrame(columns = ['uu_id', 'week_number', 'total_claims'])\n",
    "    res = df.append({'uu_id' : cur_uu_id, 'week_number' : 37, 'total_claims' : y_pred},ignore_index = True)"
   ]
  },
  {
   "cell_type": "code",
   "execution_count": 118,
   "id": "cb7f56fd",
   "metadata": {
    "execution": {
     "iopub.execute_input": "2023-05-10T01:11:47.316396Z",
     "iopub.status.busy": "2023-05-10T01:11:47.316310Z",
     "iopub.status.idle": "2023-05-10T01:11:47.318987Z",
     "shell.execute_reply": "2023-05-10T01:11:47.318729Z"
    }
   },
   "outputs": [],
   "source": [
    "res.to_csv(\"submission_prediction_output.csv\", index=False)"
   ]
  },
  {
   "cell_type": "markdown",
   "id": "9953f953",
   "metadata": {},
   "source": [
    "- IMPORT THE LIBRARIES YOU WILL USE\n",
    "------------------------------------------\n",
    "You only need to import packages one time per notebook session. To keep your\n",
    "notebook clean and organized you can handle all imports at the top of your file.\n",
    "The following are included for example purposed, feel free to modify or delete \n",
    "anything in this section."
   ]
  },
  {
   "cell_type": "code",
   "execution_count": 119,
   "id": "53b22af7",
   "metadata": {
    "execution": {
     "iopub.execute_input": "2023-05-10T01:11:47.320393Z",
     "iopub.status.busy": "2023-05-10T01:11:47.320289Z",
     "iopub.status.idle": "2023-05-10T01:11:47.322149Z",
     "shell.execute_reply": "2023-05-10T01:11:47.321912Z"
    }
   },
   "outputs": [],
   "source": [
    "#import os\n",
    "import csv\n",
    "#import pandas as pd\n",
    "import pandas\n",
    "import numpy as np\n",
    "from google.cloud import bigquery\n",
    "from google.oauth2 import service_account\n",
    "from google.cloud.bigquery import magics"
   ]
  },
  {
   "cell_type": "code",
   "execution_count": 120,
   "id": "0561e95f",
   "metadata": {
    "execution": {
     "iopub.execute_input": "2023-05-10T01:11:47.323451Z",
     "iopub.status.busy": "2023-05-10T01:11:47.323348Z",
     "iopub.status.idle": "2023-05-10T01:11:47.324980Z",
     "shell.execute_reply": "2023-05-10T01:11:47.324764Z"
    }
   },
   "outputs": [],
   "source": [
    "from sklearn.linear_model import SGDRegressor\n",
    "import random"
   ]
  },
  {
   "cell_type": "code",
   "execution_count": 121,
   "id": "14f808bb",
   "metadata": {
    "execution": {
     "iopub.execute_input": "2023-05-10T01:11:47.326278Z",
     "iopub.status.busy": "2023-05-10T01:11:47.326202Z",
     "iopub.status.idle": "2023-05-10T01:11:47.327804Z",
     "shell.execute_reply": "2023-05-10T01:11:47.327566Z"
    }
   },
   "outputs": [],
   "source": [
    "sgdr = SGDRegressor(max_iter = 10000)"
   ]
  },
  {
   "cell_type": "code",
   "execution_count": 122,
   "id": "34a86d99",
   "metadata": {
    "execution": {
     "iopub.execute_input": "2023-05-10T01:11:47.329069Z",
     "iopub.status.busy": "2023-05-10T01:11:47.328992Z",
     "iopub.status.idle": "2023-05-10T01:11:47.330520Z",
     "shell.execute_reply": "2023-05-10T01:11:47.330306Z"
    }
   },
   "outputs": [],
   "source": [
    "random.seed(0)"
   ]
  },
  {
   "cell_type": "code",
   "execution_count": 123,
   "id": "b9cdd393",
   "metadata": {
    "execution": {
     "iopub.execute_input": "2023-05-10T01:11:47.331725Z",
     "iopub.status.busy": "2023-05-10T01:11:47.331634Z",
     "iopub.status.idle": "2023-05-10T01:11:47.333756Z",
     "shell.execute_reply": "2023-05-10T01:11:47.333538Z"
    }
   },
   "outputs": [],
   "source": [
    "res = pandas.DataFrame(columns = ['Name', 'Articles', 'Improved'])"
   ]
  },
  {
   "cell_type": "code",
   "execution_count": 124,
   "id": "c8fefa14",
   "metadata": {
    "execution": {
     "iopub.execute_input": "2023-05-10T01:11:47.335108Z",
     "iopub.status.busy": "2023-05-10T01:11:47.335013Z",
     "iopub.status.idle": "2023-05-10T01:11:47.344771Z",
     "shell.execute_reply": "2023-05-10T01:11:47.344422Z"
    },
    "lines_to_next_cell": 2
   },
   "outputs": [
    {
     "ename": "NameError",
     "evalue": "name 'pd' is not defined",
     "output_type": "error",
     "traceback": [
      "\u001b[0;31m---------------------------------------------------------------------------\u001b[0m",
      "\u001b[0;31mNameError\u001b[0m                                 Traceback (most recent call last)",
      "Cell \u001b[0;32mIn [124], line 9\u001b[0m\n\u001b[1;32m      7\u001b[0m x_pred \u001b[38;5;241m=\u001b[39m np\u001b[38;5;241m.\u001b[39marray([\u001b[38;5;241m39\u001b[39m])\u001b[38;5;241m.\u001b[39mreshape(\u001b[38;5;241m-\u001b[39m\u001b[38;5;241m1\u001b[39m, \u001b[38;5;241m1\u001b[39m)\n\u001b[1;32m      8\u001b[0m y_pred \u001b[38;5;241m=\u001b[39m \u001b[38;5;28mint\u001b[39m(sgdr\u001b[38;5;241m.\u001b[39mpredict(x_pred))\n\u001b[0;32m----> 9\u001b[0m res \u001b[38;5;241m=\u001b[39m \u001b[43mpd\u001b[49m\u001b[38;5;241m.\u001b[39mDataFrame(columns \u001b[38;5;241m=\u001b[39m [\u001b[38;5;124m'\u001b[39m\u001b[38;5;124muu_id\u001b[39m\u001b[38;5;124m'\u001b[39m, \u001b[38;5;124m'\u001b[39m\u001b[38;5;124mweek_number\u001b[39m\u001b[38;5;124m'\u001b[39m, \u001b[38;5;124m'\u001b[39m\u001b[38;5;124mtotal_claims\u001b[39m\u001b[38;5;124m'\u001b[39m])\n\u001b[1;32m     10\u001b[0m res \u001b[38;5;241m=\u001b[39m df\u001b[38;5;241m.\u001b[39mappend({\u001b[38;5;124m'\u001b[39m\u001b[38;5;124muu_id\u001b[39m\u001b[38;5;124m'\u001b[39m : cur_uu_id, \u001b[38;5;124m'\u001b[39m\u001b[38;5;124mweek_number\u001b[39m\u001b[38;5;124m'\u001b[39m : \u001b[38;5;241m37\u001b[39m, \u001b[38;5;124m'\u001b[39m\u001b[38;5;124mtotal_claims\u001b[39m\u001b[38;5;124m'\u001b[39m : y_pred},ignore_index \u001b[38;5;241m=\u001b[39m \u001b[38;5;28;01mTrue\u001b[39;00m)\n",
      "\u001b[0;31mNameError\u001b[0m: name 'pd' is not defined"
     ]
    }
   ],
   "source": [
    "for cur_uu_id in df_pred_list['uu_id']:\n",
    "    #print(uu_id)\n",
    "    test_data = df_three_col[df_three_col[\"uu_id\"].isin([cur_uu_id]) ]\n",
    "    x_train = np.array(test_data[\"week_number\"].values).reshape(-1, 1)\n",
    "    y_train = np.array(test_data[\"total_claims\"].values) \n",
    "    sgdr.fit(x_train, y_train)\n",
    "    x_pred = np.array([39]).reshape(-1, 1)\n",
    "    y_pred = int(sgdr.predict(x_pred))\n",
    "    res = pd.DataFrame(columns = ['uu_id', 'week_number', 'total_claims'])\n",
    "    res = df.append({'uu_id' : cur_uu_id, 'week_number' : 37, 'total_claims' : y_pred},ignore_index = True)"
   ]
  },
  {
   "cell_type": "code",
   "execution_count": 125,
   "id": "cb58196a",
   "metadata": {
    "execution": {
     "iopub.execute_input": "2023-05-10T01:11:47.346187Z",
     "iopub.status.busy": "2023-05-10T01:11:47.346077Z",
     "iopub.status.idle": "2023-05-10T01:11:47.348211Z",
     "shell.execute_reply": "2023-05-10T01:11:47.347949Z"
    }
   },
   "outputs": [],
   "source": [
    "res.to_csv(\"submission_prediction_output.csv\", index=False)"
   ]
  },
  {
   "cell_type": "code",
   "execution_count": 126,
   "id": "d309dbd5",
   "metadata": {
    "execution": {
     "iopub.execute_input": "2023-05-10T01:11:47.349529Z",
     "iopub.status.busy": "2023-05-10T01:11:47.349333Z",
     "iopub.status.idle": "2023-05-10T01:11:47.350984Z",
     "shell.execute_reply": "2023-05-10T01:11:47.350766Z"
    }
   },
   "outputs": [],
   "source": [
    "sgdr = SGDRegressor(max_iter = 10000)"
   ]
  },
  {
   "cell_type": "code",
   "execution_count": 127,
   "id": "c632d308",
   "metadata": {
    "execution": {
     "iopub.execute_input": "2023-05-10T01:11:47.352223Z",
     "iopub.status.busy": "2023-05-10T01:11:47.352123Z",
     "iopub.status.idle": "2023-05-10T01:11:47.353765Z",
     "shell.execute_reply": "2023-05-10T01:11:47.353535Z"
    }
   },
   "outputs": [],
   "source": [
    "random.seed(0)"
   ]
  },
  {
   "cell_type": "code",
   "execution_count": 128,
   "id": "15b11ef9",
   "metadata": {
    "execution": {
     "iopub.execute_input": "2023-05-10T01:11:47.355016Z",
     "iopub.status.busy": "2023-05-10T01:11:47.354919Z",
     "iopub.status.idle": "2023-05-10T01:11:47.357200Z",
     "shell.execute_reply": "2023-05-10T01:11:47.356954Z"
    }
   },
   "outputs": [],
   "source": [
    "res = pandas.DataFrame(columns = ['Name', 'Articles', 'Improved'])"
   ]
  },
  {
   "cell_type": "code",
   "execution_count": 129,
   "id": "d9d80dd4",
   "metadata": {
    "execution": {
     "iopub.execute_input": "2023-05-10T01:11:47.358514Z",
     "iopub.status.busy": "2023-05-10T01:11:47.358436Z",
     "iopub.status.idle": "2023-05-10T01:11:48.023414Z",
     "shell.execute_reply": "2023-05-10T01:11:48.023103Z"
    },
    "lines_to_next_cell": 2
   },
   "outputs": [
    {
     "name": "stderr",
     "output_type": "stream",
     "text": [
      "/var/folders/l2/cnhff0_n1470l4xf0p7v7l_40000gn/T/ipykernel_15919/1760040075.py:10: FutureWarning: The frame.append method is deprecated and will be removed from pandas in a future version. Use pandas.concat instead.\n",
      "  res = res.append({'uu_id' : cur_uu_id, 'week_number' : 37, 'total_claims' : y_pred},ignore_index = True)\n",
      "/var/folders/l2/cnhff0_n1470l4xf0p7v7l_40000gn/T/ipykernel_15919/1760040075.py:10: FutureWarning: The frame.append method is deprecated and will be removed from pandas in a future version. Use pandas.concat instead.\n",
      "  res = res.append({'uu_id' : cur_uu_id, 'week_number' : 37, 'total_claims' : y_pred},ignore_index = True)\n",
      "/var/folders/l2/cnhff0_n1470l4xf0p7v7l_40000gn/T/ipykernel_15919/1760040075.py:10: FutureWarning: The frame.append method is deprecated and will be removed from pandas in a future version. Use pandas.concat instead.\n",
      "  res = res.append({'uu_id' : cur_uu_id, 'week_number' : 37, 'total_claims' : y_pred},ignore_index = True)\n",
      "/var/folders/l2/cnhff0_n1470l4xf0p7v7l_40000gn/T/ipykernel_15919/1760040075.py:10: FutureWarning: The frame.append method is deprecated and will be removed from pandas in a future version. Use pandas.concat instead.\n",
      "  res = res.append({'uu_id' : cur_uu_id, 'week_number' : 37, 'total_claims' : y_pred},ignore_index = True)\n",
      "/var/folders/l2/cnhff0_n1470l4xf0p7v7l_40000gn/T/ipykernel_15919/1760040075.py:10: FutureWarning: The frame.append method is deprecated and will be removed from pandas in a future version. Use pandas.concat instead.\n",
      "  res = res.append({'uu_id' : cur_uu_id, 'week_number' : 37, 'total_claims' : y_pred},ignore_index = True)\n",
      "/var/folders/l2/cnhff0_n1470l4xf0p7v7l_40000gn/T/ipykernel_15919/1760040075.py:10: FutureWarning: The frame.append method is deprecated and will be removed from pandas in a future version. Use pandas.concat instead.\n",
      "  res = res.append({'uu_id' : cur_uu_id, 'week_number' : 37, 'total_claims' : y_pred},ignore_index = True)\n",
      "/var/folders/l2/cnhff0_n1470l4xf0p7v7l_40000gn/T/ipykernel_15919/1760040075.py:10: FutureWarning: The frame.append method is deprecated and will be removed from pandas in a future version. Use pandas.concat instead.\n",
      "  res = res.append({'uu_id' : cur_uu_id, 'week_number' : 37, 'total_claims' : y_pred},ignore_index = True)\n",
      "/var/folders/l2/cnhff0_n1470l4xf0p7v7l_40000gn/T/ipykernel_15919/1760040075.py:10: FutureWarning: The frame.append method is deprecated and will be removed from pandas in a future version. Use pandas.concat instead.\n",
      "  res = res.append({'uu_id' : cur_uu_id, 'week_number' : 37, 'total_claims' : y_pred},ignore_index = True)\n",
      "/var/folders/l2/cnhff0_n1470l4xf0p7v7l_40000gn/T/ipykernel_15919/1760040075.py:10: FutureWarning: The frame.append method is deprecated and will be removed from pandas in a future version. Use pandas.concat instead.\n",
      "  res = res.append({'uu_id' : cur_uu_id, 'week_number' : 37, 'total_claims' : y_pred},ignore_index = True)\n",
      "/var/folders/l2/cnhff0_n1470l4xf0p7v7l_40000gn/T/ipykernel_15919/1760040075.py:10: FutureWarning: The frame.append method is deprecated and will be removed from pandas in a future version. Use pandas.concat instead.\n",
      "  res = res.append({'uu_id' : cur_uu_id, 'week_number' : 37, 'total_claims' : y_pred},ignore_index = True)\n",
      "/var/folders/l2/cnhff0_n1470l4xf0p7v7l_40000gn/T/ipykernel_15919/1760040075.py:10: FutureWarning: The frame.append method is deprecated and will be removed from pandas in a future version. Use pandas.concat instead.\n",
      "  res = res.append({'uu_id' : cur_uu_id, 'week_number' : 37, 'total_claims' : y_pred},ignore_index = True)\n",
      "/var/folders/l2/cnhff0_n1470l4xf0p7v7l_40000gn/T/ipykernel_15919/1760040075.py:10: FutureWarning: The frame.append method is deprecated and will be removed from pandas in a future version. Use pandas.concat instead.\n",
      "  res = res.append({'uu_id' : cur_uu_id, 'week_number' : 37, 'total_claims' : y_pred},ignore_index = True)\n",
      "/var/folders/l2/cnhff0_n1470l4xf0p7v7l_40000gn/T/ipykernel_15919/1760040075.py:10: FutureWarning: The frame.append method is deprecated and will be removed from pandas in a future version. Use pandas.concat instead.\n",
      "  res = res.append({'uu_id' : cur_uu_id, 'week_number' : 37, 'total_claims' : y_pred},ignore_index = True)\n",
      "/var/folders/l2/cnhff0_n1470l4xf0p7v7l_40000gn/T/ipykernel_15919/1760040075.py:10: FutureWarning: The frame.append method is deprecated and will be removed from pandas in a future version. Use pandas.concat instead.\n",
      "  res = res.append({'uu_id' : cur_uu_id, 'week_number' : 37, 'total_claims' : y_pred},ignore_index = True)\n",
      "/var/folders/l2/cnhff0_n1470l4xf0p7v7l_40000gn/T/ipykernel_15919/1760040075.py:10: FutureWarning: The frame.append method is deprecated and will be removed from pandas in a future version. Use pandas.concat instead.\n",
      "  res = res.append({'uu_id' : cur_uu_id, 'week_number' : 37, 'total_claims' : y_pred},ignore_index = True)\n",
      "/var/folders/l2/cnhff0_n1470l4xf0p7v7l_40000gn/T/ipykernel_15919/1760040075.py:10: FutureWarning: The frame.append method is deprecated and will be removed from pandas in a future version. Use pandas.concat instead.\n",
      "  res = res.append({'uu_id' : cur_uu_id, 'week_number' : 37, 'total_claims' : y_pred},ignore_index = True)\n",
      "/var/folders/l2/cnhff0_n1470l4xf0p7v7l_40000gn/T/ipykernel_15919/1760040075.py:10: FutureWarning: The frame.append method is deprecated and will be removed from pandas in a future version. Use pandas.concat instead.\n",
      "  res = res.append({'uu_id' : cur_uu_id, 'week_number' : 37, 'total_claims' : y_pred},ignore_index = True)\n",
      "/var/folders/l2/cnhff0_n1470l4xf0p7v7l_40000gn/T/ipykernel_15919/1760040075.py:10: FutureWarning: The frame.append method is deprecated and will be removed from pandas in a future version. Use pandas.concat instead.\n",
      "  res = res.append({'uu_id' : cur_uu_id, 'week_number' : 37, 'total_claims' : y_pred},ignore_index = True)\n",
      "/var/folders/l2/cnhff0_n1470l4xf0p7v7l_40000gn/T/ipykernel_15919/1760040075.py:10: FutureWarning: The frame.append method is deprecated and will be removed from pandas in a future version. Use pandas.concat instead.\n",
      "  res = res.append({'uu_id' : cur_uu_id, 'week_number' : 37, 'total_claims' : y_pred},ignore_index = True)\n",
      "/var/folders/l2/cnhff0_n1470l4xf0p7v7l_40000gn/T/ipykernel_15919/1760040075.py:10: FutureWarning: The frame.append method is deprecated and will be removed from pandas in a future version. Use pandas.concat instead.\n",
      "  res = res.append({'uu_id' : cur_uu_id, 'week_number' : 37, 'total_claims' : y_pred},ignore_index = True)\n",
      "/var/folders/l2/cnhff0_n1470l4xf0p7v7l_40000gn/T/ipykernel_15919/1760040075.py:10: FutureWarning: The frame.append method is deprecated and will be removed from pandas in a future version. Use pandas.concat instead.\n",
      "  res = res.append({'uu_id' : cur_uu_id, 'week_number' : 37, 'total_claims' : y_pred},ignore_index = True)\n",
      "/var/folders/l2/cnhff0_n1470l4xf0p7v7l_40000gn/T/ipykernel_15919/1760040075.py:10: FutureWarning: The frame.append method is deprecated and will be removed from pandas in a future version. Use pandas.concat instead.\n",
      "  res = res.append({'uu_id' : cur_uu_id, 'week_number' : 37, 'total_claims' : y_pred},ignore_index = True)\n",
      "/var/folders/l2/cnhff0_n1470l4xf0p7v7l_40000gn/T/ipykernel_15919/1760040075.py:10: FutureWarning: The frame.append method is deprecated and will be removed from pandas in a future version. Use pandas.concat instead.\n",
      "  res = res.append({'uu_id' : cur_uu_id, 'week_number' : 37, 'total_claims' : y_pred},ignore_index = True)\n",
      "/var/folders/l2/cnhff0_n1470l4xf0p7v7l_40000gn/T/ipykernel_15919/1760040075.py:10: FutureWarning: The frame.append method is deprecated and will be removed from pandas in a future version. Use pandas.concat instead.\n",
      "  res = res.append({'uu_id' : cur_uu_id, 'week_number' : 37, 'total_claims' : y_pred},ignore_index = True)\n",
      "/var/folders/l2/cnhff0_n1470l4xf0p7v7l_40000gn/T/ipykernel_15919/1760040075.py:10: FutureWarning: The frame.append method is deprecated and will be removed from pandas in a future version. Use pandas.concat instead.\n",
      "  res = res.append({'uu_id' : cur_uu_id, 'week_number' : 37, 'total_claims' : y_pred},ignore_index = True)\n",
      "/var/folders/l2/cnhff0_n1470l4xf0p7v7l_40000gn/T/ipykernel_15919/1760040075.py:10: FutureWarning: The frame.append method is deprecated and will be removed from pandas in a future version. Use pandas.concat instead.\n",
      "  res = res.append({'uu_id' : cur_uu_id, 'week_number' : 37, 'total_claims' : y_pred},ignore_index = True)\n",
      "/var/folders/l2/cnhff0_n1470l4xf0p7v7l_40000gn/T/ipykernel_15919/1760040075.py:10: FutureWarning: The frame.append method is deprecated and will be removed from pandas in a future version. Use pandas.concat instead.\n",
      "  res = res.append({'uu_id' : cur_uu_id, 'week_number' : 37, 'total_claims' : y_pred},ignore_index = True)\n",
      "/var/folders/l2/cnhff0_n1470l4xf0p7v7l_40000gn/T/ipykernel_15919/1760040075.py:10: FutureWarning: The frame.append method is deprecated and will be removed from pandas in a future version. Use pandas.concat instead.\n",
      "  res = res.append({'uu_id' : cur_uu_id, 'week_number' : 37, 'total_claims' : y_pred},ignore_index = True)\n",
      "/var/folders/l2/cnhff0_n1470l4xf0p7v7l_40000gn/T/ipykernel_15919/1760040075.py:10: FutureWarning: The frame.append method is deprecated and will be removed from pandas in a future version. Use pandas.concat instead.\n",
      "  res = res.append({'uu_id' : cur_uu_id, 'week_number' : 37, 'total_claims' : y_pred},ignore_index = True)\n",
      "/var/folders/l2/cnhff0_n1470l4xf0p7v7l_40000gn/T/ipykernel_15919/1760040075.py:10: FutureWarning: The frame.append method is deprecated and will be removed from pandas in a future version. Use pandas.concat instead.\n",
      "  res = res.append({'uu_id' : cur_uu_id, 'week_number' : 37, 'total_claims' : y_pred},ignore_index = True)\n",
      "/var/folders/l2/cnhff0_n1470l4xf0p7v7l_40000gn/T/ipykernel_15919/1760040075.py:10: FutureWarning: The frame.append method is deprecated and will be removed from pandas in a future version. Use pandas.concat instead.\n",
      "  res = res.append({'uu_id' : cur_uu_id, 'week_number' : 37, 'total_claims' : y_pred},ignore_index = True)\n",
      "/var/folders/l2/cnhff0_n1470l4xf0p7v7l_40000gn/T/ipykernel_15919/1760040075.py:10: FutureWarning: The frame.append method is deprecated and will be removed from pandas in a future version. Use pandas.concat instead.\n",
      "  res = res.append({'uu_id' : cur_uu_id, 'week_number' : 37, 'total_claims' : y_pred},ignore_index = True)\n",
      "/var/folders/l2/cnhff0_n1470l4xf0p7v7l_40000gn/T/ipykernel_15919/1760040075.py:10: FutureWarning: The frame.append method is deprecated and will be removed from pandas in a future version. Use pandas.concat instead.\n",
      "  res = res.append({'uu_id' : cur_uu_id, 'week_number' : 37, 'total_claims' : y_pred},ignore_index = True)\n",
      "/var/folders/l2/cnhff0_n1470l4xf0p7v7l_40000gn/T/ipykernel_15919/1760040075.py:10: FutureWarning: The frame.append method is deprecated and will be removed from pandas in a future version. Use pandas.concat instead.\n",
      "  res = res.append({'uu_id' : cur_uu_id, 'week_number' : 37, 'total_claims' : y_pred},ignore_index = True)\n",
      "/var/folders/l2/cnhff0_n1470l4xf0p7v7l_40000gn/T/ipykernel_15919/1760040075.py:10: FutureWarning: The frame.append method is deprecated and will be removed from pandas in a future version. Use pandas.concat instead.\n",
      "  res = res.append({'uu_id' : cur_uu_id, 'week_number' : 37, 'total_claims' : y_pred},ignore_index = True)\n",
      "/var/folders/l2/cnhff0_n1470l4xf0p7v7l_40000gn/T/ipykernel_15919/1760040075.py:10: FutureWarning: The frame.append method is deprecated and will be removed from pandas in a future version. Use pandas.concat instead.\n",
      "  res = res.append({'uu_id' : cur_uu_id, 'week_number' : 37, 'total_claims' : y_pred},ignore_index = True)\n",
      "/var/folders/l2/cnhff0_n1470l4xf0p7v7l_40000gn/T/ipykernel_15919/1760040075.py:10: FutureWarning: The frame.append method is deprecated and will be removed from pandas in a future version. Use pandas.concat instead.\n",
      "  res = res.append({'uu_id' : cur_uu_id, 'week_number' : 37, 'total_claims' : y_pred},ignore_index = True)\n",
      "/var/folders/l2/cnhff0_n1470l4xf0p7v7l_40000gn/T/ipykernel_15919/1760040075.py:10: FutureWarning: The frame.append method is deprecated and will be removed from pandas in a future version. Use pandas.concat instead.\n",
      "  res = res.append({'uu_id' : cur_uu_id, 'week_number' : 37, 'total_claims' : y_pred},ignore_index = True)\n",
      "/var/folders/l2/cnhff0_n1470l4xf0p7v7l_40000gn/T/ipykernel_15919/1760040075.py:10: FutureWarning: The frame.append method is deprecated and will be removed from pandas in a future version. Use pandas.concat instead.\n",
      "  res = res.append({'uu_id' : cur_uu_id, 'week_number' : 37, 'total_claims' : y_pred},ignore_index = True)\n",
      "/var/folders/l2/cnhff0_n1470l4xf0p7v7l_40000gn/T/ipykernel_15919/1760040075.py:10: FutureWarning: The frame.append method is deprecated and will be removed from pandas in a future version. Use pandas.concat instead.\n",
      "  res = res.append({'uu_id' : cur_uu_id, 'week_number' : 37, 'total_claims' : y_pred},ignore_index = True)\n",
      "/var/folders/l2/cnhff0_n1470l4xf0p7v7l_40000gn/T/ipykernel_15919/1760040075.py:10: FutureWarning: The frame.append method is deprecated and will be removed from pandas in a future version. Use pandas.concat instead.\n",
      "  res = res.append({'uu_id' : cur_uu_id, 'week_number' : 37, 'total_claims' : y_pred},ignore_index = True)\n",
      "/var/folders/l2/cnhff0_n1470l4xf0p7v7l_40000gn/T/ipykernel_15919/1760040075.py:10: FutureWarning: The frame.append method is deprecated and will be removed from pandas in a future version. Use pandas.concat instead.\n",
      "  res = res.append({'uu_id' : cur_uu_id, 'week_number' : 37, 'total_claims' : y_pred},ignore_index = True)\n",
      "/var/folders/l2/cnhff0_n1470l4xf0p7v7l_40000gn/T/ipykernel_15919/1760040075.py:10: FutureWarning: The frame.append method is deprecated and will be removed from pandas in a future version. Use pandas.concat instead.\n",
      "  res = res.append({'uu_id' : cur_uu_id, 'week_number' : 37, 'total_claims' : y_pred},ignore_index = True)\n",
      "/var/folders/l2/cnhff0_n1470l4xf0p7v7l_40000gn/T/ipykernel_15919/1760040075.py:10: FutureWarning: The frame.append method is deprecated and will be removed from pandas in a future version. Use pandas.concat instead.\n",
      "  res = res.append({'uu_id' : cur_uu_id, 'week_number' : 37, 'total_claims' : y_pred},ignore_index = True)\n",
      "/var/folders/l2/cnhff0_n1470l4xf0p7v7l_40000gn/T/ipykernel_15919/1760040075.py:10: FutureWarning: The frame.append method is deprecated and will be removed from pandas in a future version. Use pandas.concat instead.\n",
      "  res = res.append({'uu_id' : cur_uu_id, 'week_number' : 37, 'total_claims' : y_pred},ignore_index = True)\n",
      "/var/folders/l2/cnhff0_n1470l4xf0p7v7l_40000gn/T/ipykernel_15919/1760040075.py:10: FutureWarning: The frame.append method is deprecated and will be removed from pandas in a future version. Use pandas.concat instead.\n",
      "  res = res.append({'uu_id' : cur_uu_id, 'week_number' : 37, 'total_claims' : y_pred},ignore_index = True)\n",
      "/var/folders/l2/cnhff0_n1470l4xf0p7v7l_40000gn/T/ipykernel_15919/1760040075.py:10: FutureWarning: The frame.append method is deprecated and will be removed from pandas in a future version. Use pandas.concat instead.\n",
      "  res = res.append({'uu_id' : cur_uu_id, 'week_number' : 37, 'total_claims' : y_pred},ignore_index = True)\n",
      "/var/folders/l2/cnhff0_n1470l4xf0p7v7l_40000gn/T/ipykernel_15919/1760040075.py:10: FutureWarning: The frame.append method is deprecated and will be removed from pandas in a future version. Use pandas.concat instead.\n",
      "  res = res.append({'uu_id' : cur_uu_id, 'week_number' : 37, 'total_claims' : y_pred},ignore_index = True)\n",
      "/var/folders/l2/cnhff0_n1470l4xf0p7v7l_40000gn/T/ipykernel_15919/1760040075.py:10: FutureWarning: The frame.append method is deprecated and will be removed from pandas in a future version. Use pandas.concat instead.\n",
      "  res = res.append({'uu_id' : cur_uu_id, 'week_number' : 37, 'total_claims' : y_pred},ignore_index = True)\n",
      "/var/folders/l2/cnhff0_n1470l4xf0p7v7l_40000gn/T/ipykernel_15919/1760040075.py:10: FutureWarning: The frame.append method is deprecated and will be removed from pandas in a future version. Use pandas.concat instead.\n",
      "  res = res.append({'uu_id' : cur_uu_id, 'week_number' : 37, 'total_claims' : y_pred},ignore_index = True)\n",
      "/var/folders/l2/cnhff0_n1470l4xf0p7v7l_40000gn/T/ipykernel_15919/1760040075.py:10: FutureWarning: The frame.append method is deprecated and will be removed from pandas in a future version. Use pandas.concat instead.\n",
      "  res = res.append({'uu_id' : cur_uu_id, 'week_number' : 37, 'total_claims' : y_pred},ignore_index = True)\n",
      "/var/folders/l2/cnhff0_n1470l4xf0p7v7l_40000gn/T/ipykernel_15919/1760040075.py:10: FutureWarning: The frame.append method is deprecated and will be removed from pandas in a future version. Use pandas.concat instead.\n",
      "  res = res.append({'uu_id' : cur_uu_id, 'week_number' : 37, 'total_claims' : y_pred},ignore_index = True)\n",
      "/var/folders/l2/cnhff0_n1470l4xf0p7v7l_40000gn/T/ipykernel_15919/1760040075.py:10: FutureWarning: The frame.append method is deprecated and will be removed from pandas in a future version. Use pandas.concat instead.\n",
      "  res = res.append({'uu_id' : cur_uu_id, 'week_number' : 37, 'total_claims' : y_pred},ignore_index = True)\n",
      "/var/folders/l2/cnhff0_n1470l4xf0p7v7l_40000gn/T/ipykernel_15919/1760040075.py:10: FutureWarning: The frame.append method is deprecated and will be removed from pandas in a future version. Use pandas.concat instead.\n",
      "  res = res.append({'uu_id' : cur_uu_id, 'week_number' : 37, 'total_claims' : y_pred},ignore_index = True)\n",
      "/var/folders/l2/cnhff0_n1470l4xf0p7v7l_40000gn/T/ipykernel_15919/1760040075.py:10: FutureWarning: The frame.append method is deprecated and will be removed from pandas in a future version. Use pandas.concat instead.\n",
      "  res = res.append({'uu_id' : cur_uu_id, 'week_number' : 37, 'total_claims' : y_pred},ignore_index = True)\n",
      "/var/folders/l2/cnhff0_n1470l4xf0p7v7l_40000gn/T/ipykernel_15919/1760040075.py:10: FutureWarning: The frame.append method is deprecated and will be removed from pandas in a future version. Use pandas.concat instead.\n",
      "  res = res.append({'uu_id' : cur_uu_id, 'week_number' : 37, 'total_claims' : y_pred},ignore_index = True)\n",
      "/var/folders/l2/cnhff0_n1470l4xf0p7v7l_40000gn/T/ipykernel_15919/1760040075.py:10: FutureWarning: The frame.append method is deprecated and will be removed from pandas in a future version. Use pandas.concat instead.\n",
      "  res = res.append({'uu_id' : cur_uu_id, 'week_number' : 37, 'total_claims' : y_pred},ignore_index = True)\n",
      "/var/folders/l2/cnhff0_n1470l4xf0p7v7l_40000gn/T/ipykernel_15919/1760040075.py:10: FutureWarning: The frame.append method is deprecated and will be removed from pandas in a future version. Use pandas.concat instead.\n",
      "  res = res.append({'uu_id' : cur_uu_id, 'week_number' : 37, 'total_claims' : y_pred},ignore_index = True)\n",
      "/var/folders/l2/cnhff0_n1470l4xf0p7v7l_40000gn/T/ipykernel_15919/1760040075.py:10: FutureWarning: The frame.append method is deprecated and will be removed from pandas in a future version. Use pandas.concat instead.\n",
      "  res = res.append({'uu_id' : cur_uu_id, 'week_number' : 37, 'total_claims' : y_pred},ignore_index = True)\n",
      "/var/folders/l2/cnhff0_n1470l4xf0p7v7l_40000gn/T/ipykernel_15919/1760040075.py:10: FutureWarning: The frame.append method is deprecated and will be removed from pandas in a future version. Use pandas.concat instead.\n",
      "  res = res.append({'uu_id' : cur_uu_id, 'week_number' : 37, 'total_claims' : y_pred},ignore_index = True)\n",
      "/var/folders/l2/cnhff0_n1470l4xf0p7v7l_40000gn/T/ipykernel_15919/1760040075.py:10: FutureWarning: The frame.append method is deprecated and will be removed from pandas in a future version. Use pandas.concat instead.\n",
      "  res = res.append({'uu_id' : cur_uu_id, 'week_number' : 37, 'total_claims' : y_pred},ignore_index = True)\n",
      "/var/folders/l2/cnhff0_n1470l4xf0p7v7l_40000gn/T/ipykernel_15919/1760040075.py:10: FutureWarning: The frame.append method is deprecated and will be removed from pandas in a future version. Use pandas.concat instead.\n",
      "  res = res.append({'uu_id' : cur_uu_id, 'week_number' : 37, 'total_claims' : y_pred},ignore_index = True)\n",
      "/var/folders/l2/cnhff0_n1470l4xf0p7v7l_40000gn/T/ipykernel_15919/1760040075.py:10: FutureWarning: The frame.append method is deprecated and will be removed from pandas in a future version. Use pandas.concat instead.\n",
      "  res = res.append({'uu_id' : cur_uu_id, 'week_number' : 37, 'total_claims' : y_pred},ignore_index = True)\n",
      "/var/folders/l2/cnhff0_n1470l4xf0p7v7l_40000gn/T/ipykernel_15919/1760040075.py:10: FutureWarning: The frame.append method is deprecated and will be removed from pandas in a future version. Use pandas.concat instead.\n",
      "  res = res.append({'uu_id' : cur_uu_id, 'week_number' : 37, 'total_claims' : y_pred},ignore_index = True)\n",
      "/var/folders/l2/cnhff0_n1470l4xf0p7v7l_40000gn/T/ipykernel_15919/1760040075.py:10: FutureWarning: The frame.append method is deprecated and will be removed from pandas in a future version. Use pandas.concat instead.\n",
      "  res = res.append({'uu_id' : cur_uu_id, 'week_number' : 37, 'total_claims' : y_pred},ignore_index = True)\n",
      "/var/folders/l2/cnhff0_n1470l4xf0p7v7l_40000gn/T/ipykernel_15919/1760040075.py:10: FutureWarning: The frame.append method is deprecated and will be removed from pandas in a future version. Use pandas.concat instead.\n",
      "  res = res.append({'uu_id' : cur_uu_id, 'week_number' : 37, 'total_claims' : y_pred},ignore_index = True)\n",
      "/var/folders/l2/cnhff0_n1470l4xf0p7v7l_40000gn/T/ipykernel_15919/1760040075.py:10: FutureWarning: The frame.append method is deprecated and will be removed from pandas in a future version. Use pandas.concat instead.\n",
      "  res = res.append({'uu_id' : cur_uu_id, 'week_number' : 37, 'total_claims' : y_pred},ignore_index = True)\n",
      "/var/folders/l2/cnhff0_n1470l4xf0p7v7l_40000gn/T/ipykernel_15919/1760040075.py:10: FutureWarning: The frame.append method is deprecated and will be removed from pandas in a future version. Use pandas.concat instead.\n",
      "  res = res.append({'uu_id' : cur_uu_id, 'week_number' : 37, 'total_claims' : y_pred},ignore_index = True)\n",
      "/var/folders/l2/cnhff0_n1470l4xf0p7v7l_40000gn/T/ipykernel_15919/1760040075.py:10: FutureWarning: The frame.append method is deprecated and will be removed from pandas in a future version. Use pandas.concat instead.\n",
      "  res = res.append({'uu_id' : cur_uu_id, 'week_number' : 37, 'total_claims' : y_pred},ignore_index = True)\n",
      "/var/folders/l2/cnhff0_n1470l4xf0p7v7l_40000gn/T/ipykernel_15919/1760040075.py:10: FutureWarning: The frame.append method is deprecated and will be removed from pandas in a future version. Use pandas.concat instead.\n",
      "  res = res.append({'uu_id' : cur_uu_id, 'week_number' : 37, 'total_claims' : y_pred},ignore_index = True)\n",
      "/var/folders/l2/cnhff0_n1470l4xf0p7v7l_40000gn/T/ipykernel_15919/1760040075.py:10: FutureWarning: The frame.append method is deprecated and will be removed from pandas in a future version. Use pandas.concat instead.\n",
      "  res = res.append({'uu_id' : cur_uu_id, 'week_number' : 37, 'total_claims' : y_pred},ignore_index = True)\n",
      "/var/folders/l2/cnhff0_n1470l4xf0p7v7l_40000gn/T/ipykernel_15919/1760040075.py:10: FutureWarning: The frame.append method is deprecated and will be removed from pandas in a future version. Use pandas.concat instead.\n",
      "  res = res.append({'uu_id' : cur_uu_id, 'week_number' : 37, 'total_claims' : y_pred},ignore_index = True)\n",
      "/var/folders/l2/cnhff0_n1470l4xf0p7v7l_40000gn/T/ipykernel_15919/1760040075.py:10: FutureWarning: The frame.append method is deprecated and will be removed from pandas in a future version. Use pandas.concat instead.\n",
      "  res = res.append({'uu_id' : cur_uu_id, 'week_number' : 37, 'total_claims' : y_pred},ignore_index = True)\n",
      "/var/folders/l2/cnhff0_n1470l4xf0p7v7l_40000gn/T/ipykernel_15919/1760040075.py:10: FutureWarning: The frame.append method is deprecated and will be removed from pandas in a future version. Use pandas.concat instead.\n",
      "  res = res.append({'uu_id' : cur_uu_id, 'week_number' : 37, 'total_claims' : y_pred},ignore_index = True)\n",
      "/var/folders/l2/cnhff0_n1470l4xf0p7v7l_40000gn/T/ipykernel_15919/1760040075.py:10: FutureWarning: The frame.append method is deprecated and will be removed from pandas in a future version. Use pandas.concat instead.\n",
      "  res = res.append({'uu_id' : cur_uu_id, 'week_number' : 37, 'total_claims' : y_pred},ignore_index = True)\n",
      "/var/folders/l2/cnhff0_n1470l4xf0p7v7l_40000gn/T/ipykernel_15919/1760040075.py:10: FutureWarning: The frame.append method is deprecated and will be removed from pandas in a future version. Use pandas.concat instead.\n",
      "  res = res.append({'uu_id' : cur_uu_id, 'week_number' : 37, 'total_claims' : y_pred},ignore_index = True)\n",
      "/var/folders/l2/cnhff0_n1470l4xf0p7v7l_40000gn/T/ipykernel_15919/1760040075.py:10: FutureWarning: The frame.append method is deprecated and will be removed from pandas in a future version. Use pandas.concat instead.\n",
      "  res = res.append({'uu_id' : cur_uu_id, 'week_number' : 37, 'total_claims' : y_pred},ignore_index = True)\n",
      "/var/folders/l2/cnhff0_n1470l4xf0p7v7l_40000gn/T/ipykernel_15919/1760040075.py:10: FutureWarning: The frame.append method is deprecated and will be removed from pandas in a future version. Use pandas.concat instead.\n",
      "  res = res.append({'uu_id' : cur_uu_id, 'week_number' : 37, 'total_claims' : y_pred},ignore_index = True)\n",
      "/var/folders/l2/cnhff0_n1470l4xf0p7v7l_40000gn/T/ipykernel_15919/1760040075.py:10: FutureWarning: The frame.append method is deprecated and will be removed from pandas in a future version. Use pandas.concat instead.\n",
      "  res = res.append({'uu_id' : cur_uu_id, 'week_number' : 37, 'total_claims' : y_pred},ignore_index = True)\n",
      "/var/folders/l2/cnhff0_n1470l4xf0p7v7l_40000gn/T/ipykernel_15919/1760040075.py:10: FutureWarning: The frame.append method is deprecated and will be removed from pandas in a future version. Use pandas.concat instead.\n",
      "  res = res.append({'uu_id' : cur_uu_id, 'week_number' : 37, 'total_claims' : y_pred},ignore_index = True)\n",
      "/var/folders/l2/cnhff0_n1470l4xf0p7v7l_40000gn/T/ipykernel_15919/1760040075.py:10: FutureWarning: The frame.append method is deprecated and will be removed from pandas in a future version. Use pandas.concat instead.\n",
      "  res = res.append({'uu_id' : cur_uu_id, 'week_number' : 37, 'total_claims' : y_pred},ignore_index = True)\n",
      "/var/folders/l2/cnhff0_n1470l4xf0p7v7l_40000gn/T/ipykernel_15919/1760040075.py:10: FutureWarning: The frame.append method is deprecated and will be removed from pandas in a future version. Use pandas.concat instead.\n",
      "  res = res.append({'uu_id' : cur_uu_id, 'week_number' : 37, 'total_claims' : y_pred},ignore_index = True)\n",
      "/var/folders/l2/cnhff0_n1470l4xf0p7v7l_40000gn/T/ipykernel_15919/1760040075.py:10: FutureWarning: The frame.append method is deprecated and will be removed from pandas in a future version. Use pandas.concat instead.\n",
      "  res = res.append({'uu_id' : cur_uu_id, 'week_number' : 37, 'total_claims' : y_pred},ignore_index = True)\n",
      "/var/folders/l2/cnhff0_n1470l4xf0p7v7l_40000gn/T/ipykernel_15919/1760040075.py:10: FutureWarning: The frame.append method is deprecated and will be removed from pandas in a future version. Use pandas.concat instead.\n",
      "  res = res.append({'uu_id' : cur_uu_id, 'week_number' : 37, 'total_claims' : y_pred},ignore_index = True)\n",
      "/var/folders/l2/cnhff0_n1470l4xf0p7v7l_40000gn/T/ipykernel_15919/1760040075.py:10: FutureWarning: The frame.append method is deprecated and will be removed from pandas in a future version. Use pandas.concat instead.\n",
      "  res = res.append({'uu_id' : cur_uu_id, 'week_number' : 37, 'total_claims' : y_pred},ignore_index = True)\n",
      "/var/folders/l2/cnhff0_n1470l4xf0p7v7l_40000gn/T/ipykernel_15919/1760040075.py:10: FutureWarning: The frame.append method is deprecated and will be removed from pandas in a future version. Use pandas.concat instead.\n",
      "  res = res.append({'uu_id' : cur_uu_id, 'week_number' : 37, 'total_claims' : y_pred},ignore_index = True)\n",
      "/var/folders/l2/cnhff0_n1470l4xf0p7v7l_40000gn/T/ipykernel_15919/1760040075.py:10: FutureWarning: The frame.append method is deprecated and will be removed from pandas in a future version. Use pandas.concat instead.\n",
      "  res = res.append({'uu_id' : cur_uu_id, 'week_number' : 37, 'total_claims' : y_pred},ignore_index = True)\n",
      "/var/folders/l2/cnhff0_n1470l4xf0p7v7l_40000gn/T/ipykernel_15919/1760040075.py:10: FutureWarning: The frame.append method is deprecated and will be removed from pandas in a future version. Use pandas.concat instead.\n",
      "  res = res.append({'uu_id' : cur_uu_id, 'week_number' : 37, 'total_claims' : y_pred},ignore_index = True)\n",
      "/var/folders/l2/cnhff0_n1470l4xf0p7v7l_40000gn/T/ipykernel_15919/1760040075.py:10: FutureWarning: The frame.append method is deprecated and will be removed from pandas in a future version. Use pandas.concat instead.\n",
      "  res = res.append({'uu_id' : cur_uu_id, 'week_number' : 37, 'total_claims' : y_pred},ignore_index = True)\n",
      "/var/folders/l2/cnhff0_n1470l4xf0p7v7l_40000gn/T/ipykernel_15919/1760040075.py:10: FutureWarning: The frame.append method is deprecated and will be removed from pandas in a future version. Use pandas.concat instead.\n",
      "  res = res.append({'uu_id' : cur_uu_id, 'week_number' : 37, 'total_claims' : y_pred},ignore_index = True)\n",
      "/var/folders/l2/cnhff0_n1470l4xf0p7v7l_40000gn/T/ipykernel_15919/1760040075.py:10: FutureWarning: The frame.append method is deprecated and will be removed from pandas in a future version. Use pandas.concat instead.\n",
      "  res = res.append({'uu_id' : cur_uu_id, 'week_number' : 37, 'total_claims' : y_pred},ignore_index = True)\n",
      "/var/folders/l2/cnhff0_n1470l4xf0p7v7l_40000gn/T/ipykernel_15919/1760040075.py:10: FutureWarning: The frame.append method is deprecated and will be removed from pandas in a future version. Use pandas.concat instead.\n",
      "  res = res.append({'uu_id' : cur_uu_id, 'week_number' : 37, 'total_claims' : y_pred},ignore_index = True)\n",
      "/var/folders/l2/cnhff0_n1470l4xf0p7v7l_40000gn/T/ipykernel_15919/1760040075.py:10: FutureWarning: The frame.append method is deprecated and will be removed from pandas in a future version. Use pandas.concat instead.\n",
      "  res = res.append({'uu_id' : cur_uu_id, 'week_number' : 37, 'total_claims' : y_pred},ignore_index = True)\n",
      "/var/folders/l2/cnhff0_n1470l4xf0p7v7l_40000gn/T/ipykernel_15919/1760040075.py:10: FutureWarning: The frame.append method is deprecated and will be removed from pandas in a future version. Use pandas.concat instead.\n",
      "  res = res.append({'uu_id' : cur_uu_id, 'week_number' : 37, 'total_claims' : y_pred},ignore_index = True)\n",
      "/var/folders/l2/cnhff0_n1470l4xf0p7v7l_40000gn/T/ipykernel_15919/1760040075.py:10: FutureWarning: The frame.append method is deprecated and will be removed from pandas in a future version. Use pandas.concat instead.\n",
      "  res = res.append({'uu_id' : cur_uu_id, 'week_number' : 37, 'total_claims' : y_pred},ignore_index = True)\n",
      "/var/folders/l2/cnhff0_n1470l4xf0p7v7l_40000gn/T/ipykernel_15919/1760040075.py:10: FutureWarning: The frame.append method is deprecated and will be removed from pandas in a future version. Use pandas.concat instead.\n",
      "  res = res.append({'uu_id' : cur_uu_id, 'week_number' : 37, 'total_claims' : y_pred},ignore_index = True)\n",
      "/var/folders/l2/cnhff0_n1470l4xf0p7v7l_40000gn/T/ipykernel_15919/1760040075.py:10: FutureWarning: The frame.append method is deprecated and will be removed from pandas in a future version. Use pandas.concat instead.\n",
      "  res = res.append({'uu_id' : cur_uu_id, 'week_number' : 37, 'total_claims' : y_pred},ignore_index = True)\n",
      "/var/folders/l2/cnhff0_n1470l4xf0p7v7l_40000gn/T/ipykernel_15919/1760040075.py:10: FutureWarning: The frame.append method is deprecated and will be removed from pandas in a future version. Use pandas.concat instead.\n",
      "  res = res.append({'uu_id' : cur_uu_id, 'week_number' : 37, 'total_claims' : y_pred},ignore_index = True)\n",
      "/var/folders/l2/cnhff0_n1470l4xf0p7v7l_40000gn/T/ipykernel_15919/1760040075.py:10: FutureWarning: The frame.append method is deprecated and will be removed from pandas in a future version. Use pandas.concat instead.\n",
      "  res = res.append({'uu_id' : cur_uu_id, 'week_number' : 37, 'total_claims' : y_pred},ignore_index = True)\n",
      "/var/folders/l2/cnhff0_n1470l4xf0p7v7l_40000gn/T/ipykernel_15919/1760040075.py:10: FutureWarning: The frame.append method is deprecated and will be removed from pandas in a future version. Use pandas.concat instead.\n",
      "  res = res.append({'uu_id' : cur_uu_id, 'week_number' : 37, 'total_claims' : y_pred},ignore_index = True)\n",
      "/var/folders/l2/cnhff0_n1470l4xf0p7v7l_40000gn/T/ipykernel_15919/1760040075.py:10: FutureWarning: The frame.append method is deprecated and will be removed from pandas in a future version. Use pandas.concat instead.\n",
      "  res = res.append({'uu_id' : cur_uu_id, 'week_number' : 37, 'total_claims' : y_pred},ignore_index = True)\n",
      "/var/folders/l2/cnhff0_n1470l4xf0p7v7l_40000gn/T/ipykernel_15919/1760040075.py:10: FutureWarning: The frame.append method is deprecated and will be removed from pandas in a future version. Use pandas.concat instead.\n",
      "  res = res.append({'uu_id' : cur_uu_id, 'week_number' : 37, 'total_claims' : y_pred},ignore_index = True)\n",
      "/var/folders/l2/cnhff0_n1470l4xf0p7v7l_40000gn/T/ipykernel_15919/1760040075.py:10: FutureWarning: The frame.append method is deprecated and will be removed from pandas in a future version. Use pandas.concat instead.\n",
      "  res = res.append({'uu_id' : cur_uu_id, 'week_number' : 37, 'total_claims' : y_pred},ignore_index = True)\n",
      "/var/folders/l2/cnhff0_n1470l4xf0p7v7l_40000gn/T/ipykernel_15919/1760040075.py:10: FutureWarning: The frame.append method is deprecated and will be removed from pandas in a future version. Use pandas.concat instead.\n",
      "  res = res.append({'uu_id' : cur_uu_id, 'week_number' : 37, 'total_claims' : y_pred},ignore_index = True)\n",
      "/var/folders/l2/cnhff0_n1470l4xf0p7v7l_40000gn/T/ipykernel_15919/1760040075.py:10: FutureWarning: The frame.append method is deprecated and will be removed from pandas in a future version. Use pandas.concat instead.\n",
      "  res = res.append({'uu_id' : cur_uu_id, 'week_number' : 37, 'total_claims' : y_pred},ignore_index = True)\n",
      "/var/folders/l2/cnhff0_n1470l4xf0p7v7l_40000gn/T/ipykernel_15919/1760040075.py:10: FutureWarning: The frame.append method is deprecated and will be removed from pandas in a future version. Use pandas.concat instead.\n",
      "  res = res.append({'uu_id' : cur_uu_id, 'week_number' : 37, 'total_claims' : y_pred},ignore_index = True)\n",
      "/var/folders/l2/cnhff0_n1470l4xf0p7v7l_40000gn/T/ipykernel_15919/1760040075.py:10: FutureWarning: The frame.append method is deprecated and will be removed from pandas in a future version. Use pandas.concat instead.\n",
      "  res = res.append({'uu_id' : cur_uu_id, 'week_number' : 37, 'total_claims' : y_pred},ignore_index = True)\n",
      "/var/folders/l2/cnhff0_n1470l4xf0p7v7l_40000gn/T/ipykernel_15919/1760040075.py:10: FutureWarning: The frame.append method is deprecated and will be removed from pandas in a future version. Use pandas.concat instead.\n",
      "  res = res.append({'uu_id' : cur_uu_id, 'week_number' : 37, 'total_claims' : y_pred},ignore_index = True)\n",
      "/var/folders/l2/cnhff0_n1470l4xf0p7v7l_40000gn/T/ipykernel_15919/1760040075.py:10: FutureWarning: The frame.append method is deprecated and will be removed from pandas in a future version. Use pandas.concat instead.\n",
      "  res = res.append({'uu_id' : cur_uu_id, 'week_number' : 37, 'total_claims' : y_pred},ignore_index = True)\n",
      "/var/folders/l2/cnhff0_n1470l4xf0p7v7l_40000gn/T/ipykernel_15919/1760040075.py:10: FutureWarning: The frame.append method is deprecated and will be removed from pandas in a future version. Use pandas.concat instead.\n",
      "  res = res.append({'uu_id' : cur_uu_id, 'week_number' : 37, 'total_claims' : y_pred},ignore_index = True)\n",
      "/var/folders/l2/cnhff0_n1470l4xf0p7v7l_40000gn/T/ipykernel_15919/1760040075.py:10: FutureWarning: The frame.append method is deprecated and will be removed from pandas in a future version. Use pandas.concat instead.\n",
      "  res = res.append({'uu_id' : cur_uu_id, 'week_number' : 37, 'total_claims' : y_pred},ignore_index = True)\n",
      "/var/folders/l2/cnhff0_n1470l4xf0p7v7l_40000gn/T/ipykernel_15919/1760040075.py:10: FutureWarning: The frame.append method is deprecated and will be removed from pandas in a future version. Use pandas.concat instead.\n",
      "  res = res.append({'uu_id' : cur_uu_id, 'week_number' : 37, 'total_claims' : y_pred},ignore_index = True)\n",
      "/var/folders/l2/cnhff0_n1470l4xf0p7v7l_40000gn/T/ipykernel_15919/1760040075.py:10: FutureWarning: The frame.append method is deprecated and will be removed from pandas in a future version. Use pandas.concat instead.\n",
      "  res = res.append({'uu_id' : cur_uu_id, 'week_number' : 37, 'total_claims' : y_pred},ignore_index = True)\n",
      "/var/folders/l2/cnhff0_n1470l4xf0p7v7l_40000gn/T/ipykernel_15919/1760040075.py:10: FutureWarning: The frame.append method is deprecated and will be removed from pandas in a future version. Use pandas.concat instead.\n",
      "  res = res.append({'uu_id' : cur_uu_id, 'week_number' : 37, 'total_claims' : y_pred},ignore_index = True)\n",
      "/var/folders/l2/cnhff0_n1470l4xf0p7v7l_40000gn/T/ipykernel_15919/1760040075.py:10: FutureWarning: The frame.append method is deprecated and will be removed from pandas in a future version. Use pandas.concat instead.\n",
      "  res = res.append({'uu_id' : cur_uu_id, 'week_number' : 37, 'total_claims' : y_pred},ignore_index = True)\n",
      "/var/folders/l2/cnhff0_n1470l4xf0p7v7l_40000gn/T/ipykernel_15919/1760040075.py:10: FutureWarning: The frame.append method is deprecated and will be removed from pandas in a future version. Use pandas.concat instead.\n",
      "  res = res.append({'uu_id' : cur_uu_id, 'week_number' : 37, 'total_claims' : y_pred},ignore_index = True)\n",
      "/var/folders/l2/cnhff0_n1470l4xf0p7v7l_40000gn/T/ipykernel_15919/1760040075.py:10: FutureWarning: The frame.append method is deprecated and will be removed from pandas in a future version. Use pandas.concat instead.\n",
      "  res = res.append({'uu_id' : cur_uu_id, 'week_number' : 37, 'total_claims' : y_pred},ignore_index = True)\n",
      "/var/folders/l2/cnhff0_n1470l4xf0p7v7l_40000gn/T/ipykernel_15919/1760040075.py:10: FutureWarning: The frame.append method is deprecated and will be removed from pandas in a future version. Use pandas.concat instead.\n",
      "  res = res.append({'uu_id' : cur_uu_id, 'week_number' : 37, 'total_claims' : y_pred},ignore_index = True)\n",
      "/var/folders/l2/cnhff0_n1470l4xf0p7v7l_40000gn/T/ipykernel_15919/1760040075.py:10: FutureWarning: The frame.append method is deprecated and will be removed from pandas in a future version. Use pandas.concat instead.\n",
      "  res = res.append({'uu_id' : cur_uu_id, 'week_number' : 37, 'total_claims' : y_pred},ignore_index = True)\n",
      "/var/folders/l2/cnhff0_n1470l4xf0p7v7l_40000gn/T/ipykernel_15919/1760040075.py:10: FutureWarning: The frame.append method is deprecated and will be removed from pandas in a future version. Use pandas.concat instead.\n",
      "  res = res.append({'uu_id' : cur_uu_id, 'week_number' : 37, 'total_claims' : y_pred},ignore_index = True)\n",
      "/var/folders/l2/cnhff0_n1470l4xf0p7v7l_40000gn/T/ipykernel_15919/1760040075.py:10: FutureWarning: The frame.append method is deprecated and will be removed from pandas in a future version. Use pandas.concat instead.\n",
      "  res = res.append({'uu_id' : cur_uu_id, 'week_number' : 37, 'total_claims' : y_pred},ignore_index = True)\n",
      "/var/folders/l2/cnhff0_n1470l4xf0p7v7l_40000gn/T/ipykernel_15919/1760040075.py:10: FutureWarning: The frame.append method is deprecated and will be removed from pandas in a future version. Use pandas.concat instead.\n",
      "  res = res.append({'uu_id' : cur_uu_id, 'week_number' : 37, 'total_claims' : y_pred},ignore_index = True)\n",
      "/var/folders/l2/cnhff0_n1470l4xf0p7v7l_40000gn/T/ipykernel_15919/1760040075.py:10: FutureWarning: The frame.append method is deprecated and will be removed from pandas in a future version. Use pandas.concat instead.\n",
      "  res = res.append({'uu_id' : cur_uu_id, 'week_number' : 37, 'total_claims' : y_pred},ignore_index = True)\n",
      "/var/folders/l2/cnhff0_n1470l4xf0p7v7l_40000gn/T/ipykernel_15919/1760040075.py:10: FutureWarning: The frame.append method is deprecated and will be removed from pandas in a future version. Use pandas.concat instead.\n",
      "  res = res.append({'uu_id' : cur_uu_id, 'week_number' : 37, 'total_claims' : y_pred},ignore_index = True)\n",
      "/var/folders/l2/cnhff0_n1470l4xf0p7v7l_40000gn/T/ipykernel_15919/1760040075.py:10: FutureWarning: The frame.append method is deprecated and will be removed from pandas in a future version. Use pandas.concat instead.\n",
      "  res = res.append({'uu_id' : cur_uu_id, 'week_number' : 37, 'total_claims' : y_pred},ignore_index = True)\n",
      "/var/folders/l2/cnhff0_n1470l4xf0p7v7l_40000gn/T/ipykernel_15919/1760040075.py:10: FutureWarning: The frame.append method is deprecated and will be removed from pandas in a future version. Use pandas.concat instead.\n",
      "  res = res.append({'uu_id' : cur_uu_id, 'week_number' : 37, 'total_claims' : y_pred},ignore_index = True)\n",
      "/var/folders/l2/cnhff0_n1470l4xf0p7v7l_40000gn/T/ipykernel_15919/1760040075.py:10: FutureWarning: The frame.append method is deprecated and will be removed from pandas in a future version. Use pandas.concat instead.\n",
      "  res = res.append({'uu_id' : cur_uu_id, 'week_number' : 37, 'total_claims' : y_pred},ignore_index = True)\n",
      "/var/folders/l2/cnhff0_n1470l4xf0p7v7l_40000gn/T/ipykernel_15919/1760040075.py:10: FutureWarning: The frame.append method is deprecated and will be removed from pandas in a future version. Use pandas.concat instead.\n",
      "  res = res.append({'uu_id' : cur_uu_id, 'week_number' : 37, 'total_claims' : y_pred},ignore_index = True)\n",
      "/var/folders/l2/cnhff0_n1470l4xf0p7v7l_40000gn/T/ipykernel_15919/1760040075.py:10: FutureWarning: The frame.append method is deprecated and will be removed from pandas in a future version. Use pandas.concat instead.\n",
      "  res = res.append({'uu_id' : cur_uu_id, 'week_number' : 37, 'total_claims' : y_pred},ignore_index = True)\n",
      "/var/folders/l2/cnhff0_n1470l4xf0p7v7l_40000gn/T/ipykernel_15919/1760040075.py:10: FutureWarning: The frame.append method is deprecated and will be removed from pandas in a future version. Use pandas.concat instead.\n",
      "  res = res.append({'uu_id' : cur_uu_id, 'week_number' : 37, 'total_claims' : y_pred},ignore_index = True)\n",
      "/var/folders/l2/cnhff0_n1470l4xf0p7v7l_40000gn/T/ipykernel_15919/1760040075.py:10: FutureWarning: The frame.append method is deprecated and will be removed from pandas in a future version. Use pandas.concat instead.\n",
      "  res = res.append({'uu_id' : cur_uu_id, 'week_number' : 37, 'total_claims' : y_pred},ignore_index = True)\n",
      "/var/folders/l2/cnhff0_n1470l4xf0p7v7l_40000gn/T/ipykernel_15919/1760040075.py:10: FutureWarning: The frame.append method is deprecated and will be removed from pandas in a future version. Use pandas.concat instead.\n",
      "  res = res.append({'uu_id' : cur_uu_id, 'week_number' : 37, 'total_claims' : y_pred},ignore_index = True)\n",
      "/var/folders/l2/cnhff0_n1470l4xf0p7v7l_40000gn/T/ipykernel_15919/1760040075.py:10: FutureWarning: The frame.append method is deprecated and will be removed from pandas in a future version. Use pandas.concat instead.\n",
      "  res = res.append({'uu_id' : cur_uu_id, 'week_number' : 37, 'total_claims' : y_pred},ignore_index = True)\n",
      "/var/folders/l2/cnhff0_n1470l4xf0p7v7l_40000gn/T/ipykernel_15919/1760040075.py:10: FutureWarning: The frame.append method is deprecated and will be removed from pandas in a future version. Use pandas.concat instead.\n",
      "  res = res.append({'uu_id' : cur_uu_id, 'week_number' : 37, 'total_claims' : y_pred},ignore_index = True)\n",
      "/var/folders/l2/cnhff0_n1470l4xf0p7v7l_40000gn/T/ipykernel_15919/1760040075.py:10: FutureWarning: The frame.append method is deprecated and will be removed from pandas in a future version. Use pandas.concat instead.\n",
      "  res = res.append({'uu_id' : cur_uu_id, 'week_number' : 37, 'total_claims' : y_pred},ignore_index = True)\n",
      "/var/folders/l2/cnhff0_n1470l4xf0p7v7l_40000gn/T/ipykernel_15919/1760040075.py:10: FutureWarning: The frame.append method is deprecated and will be removed from pandas in a future version. Use pandas.concat instead.\n",
      "  res = res.append({'uu_id' : cur_uu_id, 'week_number' : 37, 'total_claims' : y_pred},ignore_index = True)\n",
      "/var/folders/l2/cnhff0_n1470l4xf0p7v7l_40000gn/T/ipykernel_15919/1760040075.py:10: FutureWarning: The frame.append method is deprecated and will be removed from pandas in a future version. Use pandas.concat instead.\n",
      "  res = res.append({'uu_id' : cur_uu_id, 'week_number' : 37, 'total_claims' : y_pred},ignore_index = True)\n",
      "/var/folders/l2/cnhff0_n1470l4xf0p7v7l_40000gn/T/ipykernel_15919/1760040075.py:10: FutureWarning: The frame.append method is deprecated and will be removed from pandas in a future version. Use pandas.concat instead.\n",
      "  res = res.append({'uu_id' : cur_uu_id, 'week_number' : 37, 'total_claims' : y_pred},ignore_index = True)\n",
      "/var/folders/l2/cnhff0_n1470l4xf0p7v7l_40000gn/T/ipykernel_15919/1760040075.py:10: FutureWarning: The frame.append method is deprecated and will be removed from pandas in a future version. Use pandas.concat instead.\n",
      "  res = res.append({'uu_id' : cur_uu_id, 'week_number' : 37, 'total_claims' : y_pred},ignore_index = True)\n",
      "/var/folders/l2/cnhff0_n1470l4xf0p7v7l_40000gn/T/ipykernel_15919/1760040075.py:10: FutureWarning: The frame.append method is deprecated and will be removed from pandas in a future version. Use pandas.concat instead.\n",
      "  res = res.append({'uu_id' : cur_uu_id, 'week_number' : 37, 'total_claims' : y_pred},ignore_index = True)\n",
      "/var/folders/l2/cnhff0_n1470l4xf0p7v7l_40000gn/T/ipykernel_15919/1760040075.py:10: FutureWarning: The frame.append method is deprecated and will be removed from pandas in a future version. Use pandas.concat instead.\n",
      "  res = res.append({'uu_id' : cur_uu_id, 'week_number' : 37, 'total_claims' : y_pred},ignore_index = True)\n",
      "/var/folders/l2/cnhff0_n1470l4xf0p7v7l_40000gn/T/ipykernel_15919/1760040075.py:10: FutureWarning: The frame.append method is deprecated and will be removed from pandas in a future version. Use pandas.concat instead.\n",
      "  res = res.append({'uu_id' : cur_uu_id, 'week_number' : 37, 'total_claims' : y_pred},ignore_index = True)\n",
      "/var/folders/l2/cnhff0_n1470l4xf0p7v7l_40000gn/T/ipykernel_15919/1760040075.py:10: FutureWarning: The frame.append method is deprecated and will be removed from pandas in a future version. Use pandas.concat instead.\n",
      "  res = res.append({'uu_id' : cur_uu_id, 'week_number' : 37, 'total_claims' : y_pred},ignore_index = True)\n",
      "/var/folders/l2/cnhff0_n1470l4xf0p7v7l_40000gn/T/ipykernel_15919/1760040075.py:10: FutureWarning: The frame.append method is deprecated and will be removed from pandas in a future version. Use pandas.concat instead.\n",
      "  res = res.append({'uu_id' : cur_uu_id, 'week_number' : 37, 'total_claims' : y_pred},ignore_index = True)\n",
      "/var/folders/l2/cnhff0_n1470l4xf0p7v7l_40000gn/T/ipykernel_15919/1760040075.py:10: FutureWarning: The frame.append method is deprecated and will be removed from pandas in a future version. Use pandas.concat instead.\n",
      "  res = res.append({'uu_id' : cur_uu_id, 'week_number' : 37, 'total_claims' : y_pred},ignore_index = True)\n",
      "/var/folders/l2/cnhff0_n1470l4xf0p7v7l_40000gn/T/ipykernel_15919/1760040075.py:10: FutureWarning: The frame.append method is deprecated and will be removed from pandas in a future version. Use pandas.concat instead.\n",
      "  res = res.append({'uu_id' : cur_uu_id, 'week_number' : 37, 'total_claims' : y_pred},ignore_index = True)\n",
      "/var/folders/l2/cnhff0_n1470l4xf0p7v7l_40000gn/T/ipykernel_15919/1760040075.py:10: FutureWarning: The frame.append method is deprecated and will be removed from pandas in a future version. Use pandas.concat instead.\n",
      "  res = res.append({'uu_id' : cur_uu_id, 'week_number' : 37, 'total_claims' : y_pred},ignore_index = True)\n",
      "/var/folders/l2/cnhff0_n1470l4xf0p7v7l_40000gn/T/ipykernel_15919/1760040075.py:10: FutureWarning: The frame.append method is deprecated and will be removed from pandas in a future version. Use pandas.concat instead.\n",
      "  res = res.append({'uu_id' : cur_uu_id, 'week_number' : 37, 'total_claims' : y_pred},ignore_index = True)\n",
      "/var/folders/l2/cnhff0_n1470l4xf0p7v7l_40000gn/T/ipykernel_15919/1760040075.py:10: FutureWarning: The frame.append method is deprecated and will be removed from pandas in a future version. Use pandas.concat instead.\n",
      "  res = res.append({'uu_id' : cur_uu_id, 'week_number' : 37, 'total_claims' : y_pred},ignore_index = True)\n",
      "/var/folders/l2/cnhff0_n1470l4xf0p7v7l_40000gn/T/ipykernel_15919/1760040075.py:10: FutureWarning: The frame.append method is deprecated and will be removed from pandas in a future version. Use pandas.concat instead.\n",
      "  res = res.append({'uu_id' : cur_uu_id, 'week_number' : 37, 'total_claims' : y_pred},ignore_index = True)\n",
      "/var/folders/l2/cnhff0_n1470l4xf0p7v7l_40000gn/T/ipykernel_15919/1760040075.py:10: FutureWarning: The frame.append method is deprecated and will be removed from pandas in a future version. Use pandas.concat instead.\n",
      "  res = res.append({'uu_id' : cur_uu_id, 'week_number' : 37, 'total_claims' : y_pred},ignore_index = True)\n",
      "/var/folders/l2/cnhff0_n1470l4xf0p7v7l_40000gn/T/ipykernel_15919/1760040075.py:10: FutureWarning: The frame.append method is deprecated and will be removed from pandas in a future version. Use pandas.concat instead.\n",
      "  res = res.append({'uu_id' : cur_uu_id, 'week_number' : 37, 'total_claims' : y_pred},ignore_index = True)\n",
      "/var/folders/l2/cnhff0_n1470l4xf0p7v7l_40000gn/T/ipykernel_15919/1760040075.py:10: FutureWarning: The frame.append method is deprecated and will be removed from pandas in a future version. Use pandas.concat instead.\n",
      "  res = res.append({'uu_id' : cur_uu_id, 'week_number' : 37, 'total_claims' : y_pred},ignore_index = True)\n",
      "/var/folders/l2/cnhff0_n1470l4xf0p7v7l_40000gn/T/ipykernel_15919/1760040075.py:10: FutureWarning: The frame.append method is deprecated and will be removed from pandas in a future version. Use pandas.concat instead.\n",
      "  res = res.append({'uu_id' : cur_uu_id, 'week_number' : 37, 'total_claims' : y_pred},ignore_index = True)\n",
      "/var/folders/l2/cnhff0_n1470l4xf0p7v7l_40000gn/T/ipykernel_15919/1760040075.py:10: FutureWarning: The frame.append method is deprecated and will be removed from pandas in a future version. Use pandas.concat instead.\n",
      "  res = res.append({'uu_id' : cur_uu_id, 'week_number' : 37, 'total_claims' : y_pred},ignore_index = True)\n",
      "/var/folders/l2/cnhff0_n1470l4xf0p7v7l_40000gn/T/ipykernel_15919/1760040075.py:10: FutureWarning: The frame.append method is deprecated and will be removed from pandas in a future version. Use pandas.concat instead.\n",
      "  res = res.append({'uu_id' : cur_uu_id, 'week_number' : 37, 'total_claims' : y_pred},ignore_index = True)\n",
      "/var/folders/l2/cnhff0_n1470l4xf0p7v7l_40000gn/T/ipykernel_15919/1760040075.py:10: FutureWarning: The frame.append method is deprecated and will be removed from pandas in a future version. Use pandas.concat instead.\n",
      "  res = res.append({'uu_id' : cur_uu_id, 'week_number' : 37, 'total_claims' : y_pred},ignore_index = True)\n",
      "/var/folders/l2/cnhff0_n1470l4xf0p7v7l_40000gn/T/ipykernel_15919/1760040075.py:10: FutureWarning: The frame.append method is deprecated and will be removed from pandas in a future version. Use pandas.concat instead.\n",
      "  res = res.append({'uu_id' : cur_uu_id, 'week_number' : 37, 'total_claims' : y_pred},ignore_index = True)\n",
      "/var/folders/l2/cnhff0_n1470l4xf0p7v7l_40000gn/T/ipykernel_15919/1760040075.py:10: FutureWarning: The frame.append method is deprecated and will be removed from pandas in a future version. Use pandas.concat instead.\n",
      "  res = res.append({'uu_id' : cur_uu_id, 'week_number' : 37, 'total_claims' : y_pred},ignore_index = True)\n",
      "/var/folders/l2/cnhff0_n1470l4xf0p7v7l_40000gn/T/ipykernel_15919/1760040075.py:10: FutureWarning: The frame.append method is deprecated and will be removed from pandas in a future version. Use pandas.concat instead.\n",
      "  res = res.append({'uu_id' : cur_uu_id, 'week_number' : 37, 'total_claims' : y_pred},ignore_index = True)\n",
      "/var/folders/l2/cnhff0_n1470l4xf0p7v7l_40000gn/T/ipykernel_15919/1760040075.py:10: FutureWarning: The frame.append method is deprecated and will be removed from pandas in a future version. Use pandas.concat instead.\n",
      "  res = res.append({'uu_id' : cur_uu_id, 'week_number' : 37, 'total_claims' : y_pred},ignore_index = True)\n",
      "/var/folders/l2/cnhff0_n1470l4xf0p7v7l_40000gn/T/ipykernel_15919/1760040075.py:10: FutureWarning: The frame.append method is deprecated and will be removed from pandas in a future version. Use pandas.concat instead.\n",
      "  res = res.append({'uu_id' : cur_uu_id, 'week_number' : 37, 'total_claims' : y_pred},ignore_index = True)\n"
     ]
    },
    {
     "name": "stderr",
     "output_type": "stream",
     "text": [
      "/var/folders/l2/cnhff0_n1470l4xf0p7v7l_40000gn/T/ipykernel_15919/1760040075.py:10: FutureWarning: The frame.append method is deprecated and will be removed from pandas in a future version. Use pandas.concat instead.\n",
      "  res = res.append({'uu_id' : cur_uu_id, 'week_number' : 37, 'total_claims' : y_pred},ignore_index = True)\n",
      "/var/folders/l2/cnhff0_n1470l4xf0p7v7l_40000gn/T/ipykernel_15919/1760040075.py:10: FutureWarning: The frame.append method is deprecated and will be removed from pandas in a future version. Use pandas.concat instead.\n",
      "  res = res.append({'uu_id' : cur_uu_id, 'week_number' : 37, 'total_claims' : y_pred},ignore_index = True)\n",
      "/var/folders/l2/cnhff0_n1470l4xf0p7v7l_40000gn/T/ipykernel_15919/1760040075.py:10: FutureWarning: The frame.append method is deprecated and will be removed from pandas in a future version. Use pandas.concat instead.\n",
      "  res = res.append({'uu_id' : cur_uu_id, 'week_number' : 37, 'total_claims' : y_pred},ignore_index = True)\n",
      "/var/folders/l2/cnhff0_n1470l4xf0p7v7l_40000gn/T/ipykernel_15919/1760040075.py:10: FutureWarning: The frame.append method is deprecated and will be removed from pandas in a future version. Use pandas.concat instead.\n",
      "  res = res.append({'uu_id' : cur_uu_id, 'week_number' : 37, 'total_claims' : y_pred},ignore_index = True)\n",
      "/var/folders/l2/cnhff0_n1470l4xf0p7v7l_40000gn/T/ipykernel_15919/1760040075.py:10: FutureWarning: The frame.append method is deprecated and will be removed from pandas in a future version. Use pandas.concat instead.\n",
      "  res = res.append({'uu_id' : cur_uu_id, 'week_number' : 37, 'total_claims' : y_pred},ignore_index = True)\n",
      "/var/folders/l2/cnhff0_n1470l4xf0p7v7l_40000gn/T/ipykernel_15919/1760040075.py:10: FutureWarning: The frame.append method is deprecated and will be removed from pandas in a future version. Use pandas.concat instead.\n",
      "  res = res.append({'uu_id' : cur_uu_id, 'week_number' : 37, 'total_claims' : y_pred},ignore_index = True)\n",
      "/var/folders/l2/cnhff0_n1470l4xf0p7v7l_40000gn/T/ipykernel_15919/1760040075.py:10: FutureWarning: The frame.append method is deprecated and will be removed from pandas in a future version. Use pandas.concat instead.\n",
      "  res = res.append({'uu_id' : cur_uu_id, 'week_number' : 37, 'total_claims' : y_pred},ignore_index = True)\n",
      "/var/folders/l2/cnhff0_n1470l4xf0p7v7l_40000gn/T/ipykernel_15919/1760040075.py:10: FutureWarning: The frame.append method is deprecated and will be removed from pandas in a future version. Use pandas.concat instead.\n",
      "  res = res.append({'uu_id' : cur_uu_id, 'week_number' : 37, 'total_claims' : y_pred},ignore_index = True)\n",
      "/var/folders/l2/cnhff0_n1470l4xf0p7v7l_40000gn/T/ipykernel_15919/1760040075.py:10: FutureWarning: The frame.append method is deprecated and will be removed from pandas in a future version. Use pandas.concat instead.\n",
      "  res = res.append({'uu_id' : cur_uu_id, 'week_number' : 37, 'total_claims' : y_pred},ignore_index = True)\n",
      "/var/folders/l2/cnhff0_n1470l4xf0p7v7l_40000gn/T/ipykernel_15919/1760040075.py:10: FutureWarning: The frame.append method is deprecated and will be removed from pandas in a future version. Use pandas.concat instead.\n",
      "  res = res.append({'uu_id' : cur_uu_id, 'week_number' : 37, 'total_claims' : y_pred},ignore_index = True)\n",
      "/var/folders/l2/cnhff0_n1470l4xf0p7v7l_40000gn/T/ipykernel_15919/1760040075.py:10: FutureWarning: The frame.append method is deprecated and will be removed from pandas in a future version. Use pandas.concat instead.\n",
      "  res = res.append({'uu_id' : cur_uu_id, 'week_number' : 37, 'total_claims' : y_pred},ignore_index = True)\n",
      "/var/folders/l2/cnhff0_n1470l4xf0p7v7l_40000gn/T/ipykernel_15919/1760040075.py:10: FutureWarning: The frame.append method is deprecated and will be removed from pandas in a future version. Use pandas.concat instead.\n",
      "  res = res.append({'uu_id' : cur_uu_id, 'week_number' : 37, 'total_claims' : y_pred},ignore_index = True)\n",
      "/var/folders/l2/cnhff0_n1470l4xf0p7v7l_40000gn/T/ipykernel_15919/1760040075.py:10: FutureWarning: The frame.append method is deprecated and will be removed from pandas in a future version. Use pandas.concat instead.\n",
      "  res = res.append({'uu_id' : cur_uu_id, 'week_number' : 37, 'total_claims' : y_pred},ignore_index = True)\n",
      "/var/folders/l2/cnhff0_n1470l4xf0p7v7l_40000gn/T/ipykernel_15919/1760040075.py:10: FutureWarning: The frame.append method is deprecated and will be removed from pandas in a future version. Use pandas.concat instead.\n",
      "  res = res.append({'uu_id' : cur_uu_id, 'week_number' : 37, 'total_claims' : y_pred},ignore_index = True)\n",
      "/var/folders/l2/cnhff0_n1470l4xf0p7v7l_40000gn/T/ipykernel_15919/1760040075.py:10: FutureWarning: The frame.append method is deprecated and will be removed from pandas in a future version. Use pandas.concat instead.\n",
      "  res = res.append({'uu_id' : cur_uu_id, 'week_number' : 37, 'total_claims' : y_pred},ignore_index = True)\n",
      "/var/folders/l2/cnhff0_n1470l4xf0p7v7l_40000gn/T/ipykernel_15919/1760040075.py:10: FutureWarning: The frame.append method is deprecated and will be removed from pandas in a future version. Use pandas.concat instead.\n",
      "  res = res.append({'uu_id' : cur_uu_id, 'week_number' : 37, 'total_claims' : y_pred},ignore_index = True)\n",
      "/var/folders/l2/cnhff0_n1470l4xf0p7v7l_40000gn/T/ipykernel_15919/1760040075.py:10: FutureWarning: The frame.append method is deprecated and will be removed from pandas in a future version. Use pandas.concat instead.\n",
      "  res = res.append({'uu_id' : cur_uu_id, 'week_number' : 37, 'total_claims' : y_pred},ignore_index = True)\n",
      "/var/folders/l2/cnhff0_n1470l4xf0p7v7l_40000gn/T/ipykernel_15919/1760040075.py:10: FutureWarning: The frame.append method is deprecated and will be removed from pandas in a future version. Use pandas.concat instead.\n",
      "  res = res.append({'uu_id' : cur_uu_id, 'week_number' : 37, 'total_claims' : y_pred},ignore_index = True)\n",
      "/var/folders/l2/cnhff0_n1470l4xf0p7v7l_40000gn/T/ipykernel_15919/1760040075.py:10: FutureWarning: The frame.append method is deprecated and will be removed from pandas in a future version. Use pandas.concat instead.\n",
      "  res = res.append({'uu_id' : cur_uu_id, 'week_number' : 37, 'total_claims' : y_pred},ignore_index = True)\n",
      "/var/folders/l2/cnhff0_n1470l4xf0p7v7l_40000gn/T/ipykernel_15919/1760040075.py:10: FutureWarning: The frame.append method is deprecated and will be removed from pandas in a future version. Use pandas.concat instead.\n",
      "  res = res.append({'uu_id' : cur_uu_id, 'week_number' : 37, 'total_claims' : y_pred},ignore_index = True)\n",
      "/var/folders/l2/cnhff0_n1470l4xf0p7v7l_40000gn/T/ipykernel_15919/1760040075.py:10: FutureWarning: The frame.append method is deprecated and will be removed from pandas in a future version. Use pandas.concat instead.\n",
      "  res = res.append({'uu_id' : cur_uu_id, 'week_number' : 37, 'total_claims' : y_pred},ignore_index = True)\n",
      "/var/folders/l2/cnhff0_n1470l4xf0p7v7l_40000gn/T/ipykernel_15919/1760040075.py:10: FutureWarning: The frame.append method is deprecated and will be removed from pandas in a future version. Use pandas.concat instead.\n",
      "  res = res.append({'uu_id' : cur_uu_id, 'week_number' : 37, 'total_claims' : y_pred},ignore_index = True)\n",
      "/var/folders/l2/cnhff0_n1470l4xf0p7v7l_40000gn/T/ipykernel_15919/1760040075.py:10: FutureWarning: The frame.append method is deprecated and will be removed from pandas in a future version. Use pandas.concat instead.\n",
      "  res = res.append({'uu_id' : cur_uu_id, 'week_number' : 37, 'total_claims' : y_pred},ignore_index = True)\n",
      "/var/folders/l2/cnhff0_n1470l4xf0p7v7l_40000gn/T/ipykernel_15919/1760040075.py:10: FutureWarning: The frame.append method is deprecated and will be removed from pandas in a future version. Use pandas.concat instead.\n",
      "  res = res.append({'uu_id' : cur_uu_id, 'week_number' : 37, 'total_claims' : y_pred},ignore_index = True)\n",
      "/var/folders/l2/cnhff0_n1470l4xf0p7v7l_40000gn/T/ipykernel_15919/1760040075.py:10: FutureWarning: The frame.append method is deprecated and will be removed from pandas in a future version. Use pandas.concat instead.\n",
      "  res = res.append({'uu_id' : cur_uu_id, 'week_number' : 37, 'total_claims' : y_pred},ignore_index = True)\n",
      "/var/folders/l2/cnhff0_n1470l4xf0p7v7l_40000gn/T/ipykernel_15919/1760040075.py:10: FutureWarning: The frame.append method is deprecated and will be removed from pandas in a future version. Use pandas.concat instead.\n",
      "  res = res.append({'uu_id' : cur_uu_id, 'week_number' : 37, 'total_claims' : y_pred},ignore_index = True)\n",
      "/var/folders/l2/cnhff0_n1470l4xf0p7v7l_40000gn/T/ipykernel_15919/1760040075.py:10: FutureWarning: The frame.append method is deprecated and will be removed from pandas in a future version. Use pandas.concat instead.\n",
      "  res = res.append({'uu_id' : cur_uu_id, 'week_number' : 37, 'total_claims' : y_pred},ignore_index = True)\n",
      "/var/folders/l2/cnhff0_n1470l4xf0p7v7l_40000gn/T/ipykernel_15919/1760040075.py:10: FutureWarning: The frame.append method is deprecated and will be removed from pandas in a future version. Use pandas.concat instead.\n",
      "  res = res.append({'uu_id' : cur_uu_id, 'week_number' : 37, 'total_claims' : y_pred},ignore_index = True)\n",
      "/var/folders/l2/cnhff0_n1470l4xf0p7v7l_40000gn/T/ipykernel_15919/1760040075.py:10: FutureWarning: The frame.append method is deprecated and will be removed from pandas in a future version. Use pandas.concat instead.\n",
      "  res = res.append({'uu_id' : cur_uu_id, 'week_number' : 37, 'total_claims' : y_pred},ignore_index = True)\n",
      "/var/folders/l2/cnhff0_n1470l4xf0p7v7l_40000gn/T/ipykernel_15919/1760040075.py:10: FutureWarning: The frame.append method is deprecated and will be removed from pandas in a future version. Use pandas.concat instead.\n",
      "  res = res.append({'uu_id' : cur_uu_id, 'week_number' : 37, 'total_claims' : y_pred},ignore_index = True)\n",
      "/var/folders/l2/cnhff0_n1470l4xf0p7v7l_40000gn/T/ipykernel_15919/1760040075.py:10: FutureWarning: The frame.append method is deprecated and will be removed from pandas in a future version. Use pandas.concat instead.\n",
      "  res = res.append({'uu_id' : cur_uu_id, 'week_number' : 37, 'total_claims' : y_pred},ignore_index = True)\n",
      "/var/folders/l2/cnhff0_n1470l4xf0p7v7l_40000gn/T/ipykernel_15919/1760040075.py:10: FutureWarning: The frame.append method is deprecated and will be removed from pandas in a future version. Use pandas.concat instead.\n",
      "  res = res.append({'uu_id' : cur_uu_id, 'week_number' : 37, 'total_claims' : y_pred},ignore_index = True)\n",
      "/var/folders/l2/cnhff0_n1470l4xf0p7v7l_40000gn/T/ipykernel_15919/1760040075.py:10: FutureWarning: The frame.append method is deprecated and will be removed from pandas in a future version. Use pandas.concat instead.\n",
      "  res = res.append({'uu_id' : cur_uu_id, 'week_number' : 37, 'total_claims' : y_pred},ignore_index = True)\n",
      "/var/folders/l2/cnhff0_n1470l4xf0p7v7l_40000gn/T/ipykernel_15919/1760040075.py:10: FutureWarning: The frame.append method is deprecated and will be removed from pandas in a future version. Use pandas.concat instead.\n",
      "  res = res.append({'uu_id' : cur_uu_id, 'week_number' : 37, 'total_claims' : y_pred},ignore_index = True)\n",
      "/var/folders/l2/cnhff0_n1470l4xf0p7v7l_40000gn/T/ipykernel_15919/1760040075.py:10: FutureWarning: The frame.append method is deprecated and will be removed from pandas in a future version. Use pandas.concat instead.\n",
      "  res = res.append({'uu_id' : cur_uu_id, 'week_number' : 37, 'total_claims' : y_pred},ignore_index = True)\n",
      "/var/folders/l2/cnhff0_n1470l4xf0p7v7l_40000gn/T/ipykernel_15919/1760040075.py:10: FutureWarning: The frame.append method is deprecated and will be removed from pandas in a future version. Use pandas.concat instead.\n",
      "  res = res.append({'uu_id' : cur_uu_id, 'week_number' : 37, 'total_claims' : y_pred},ignore_index = True)\n",
      "/var/folders/l2/cnhff0_n1470l4xf0p7v7l_40000gn/T/ipykernel_15919/1760040075.py:10: FutureWarning: The frame.append method is deprecated and will be removed from pandas in a future version. Use pandas.concat instead.\n",
      "  res = res.append({'uu_id' : cur_uu_id, 'week_number' : 37, 'total_claims' : y_pred},ignore_index = True)\n",
      "/var/folders/l2/cnhff0_n1470l4xf0p7v7l_40000gn/T/ipykernel_15919/1760040075.py:10: FutureWarning: The frame.append method is deprecated and will be removed from pandas in a future version. Use pandas.concat instead.\n",
      "  res = res.append({'uu_id' : cur_uu_id, 'week_number' : 37, 'total_claims' : y_pred},ignore_index = True)\n",
      "/var/folders/l2/cnhff0_n1470l4xf0p7v7l_40000gn/T/ipykernel_15919/1760040075.py:10: FutureWarning: The frame.append method is deprecated and will be removed from pandas in a future version. Use pandas.concat instead.\n",
      "  res = res.append({'uu_id' : cur_uu_id, 'week_number' : 37, 'total_claims' : y_pred},ignore_index = True)\n",
      "/var/folders/l2/cnhff0_n1470l4xf0p7v7l_40000gn/T/ipykernel_15919/1760040075.py:10: FutureWarning: The frame.append method is deprecated and will be removed from pandas in a future version. Use pandas.concat instead.\n",
      "  res = res.append({'uu_id' : cur_uu_id, 'week_number' : 37, 'total_claims' : y_pred},ignore_index = True)\n",
      "/var/folders/l2/cnhff0_n1470l4xf0p7v7l_40000gn/T/ipykernel_15919/1760040075.py:10: FutureWarning: The frame.append method is deprecated and will be removed from pandas in a future version. Use pandas.concat instead.\n",
      "  res = res.append({'uu_id' : cur_uu_id, 'week_number' : 37, 'total_claims' : y_pred},ignore_index = True)\n",
      "/var/folders/l2/cnhff0_n1470l4xf0p7v7l_40000gn/T/ipykernel_15919/1760040075.py:10: FutureWarning: The frame.append method is deprecated and will be removed from pandas in a future version. Use pandas.concat instead.\n",
      "  res = res.append({'uu_id' : cur_uu_id, 'week_number' : 37, 'total_claims' : y_pred},ignore_index = True)\n",
      "/var/folders/l2/cnhff0_n1470l4xf0p7v7l_40000gn/T/ipykernel_15919/1760040075.py:10: FutureWarning: The frame.append method is deprecated and will be removed from pandas in a future version. Use pandas.concat instead.\n",
      "  res = res.append({'uu_id' : cur_uu_id, 'week_number' : 37, 'total_claims' : y_pred},ignore_index = True)\n",
      "/var/folders/l2/cnhff0_n1470l4xf0p7v7l_40000gn/T/ipykernel_15919/1760040075.py:10: FutureWarning: The frame.append method is deprecated and will be removed from pandas in a future version. Use pandas.concat instead.\n",
      "  res = res.append({'uu_id' : cur_uu_id, 'week_number' : 37, 'total_claims' : y_pred},ignore_index = True)\n",
      "/var/folders/l2/cnhff0_n1470l4xf0p7v7l_40000gn/T/ipykernel_15919/1760040075.py:10: FutureWarning: The frame.append method is deprecated and will be removed from pandas in a future version. Use pandas.concat instead.\n",
      "  res = res.append({'uu_id' : cur_uu_id, 'week_number' : 37, 'total_claims' : y_pred},ignore_index = True)\n",
      "/var/folders/l2/cnhff0_n1470l4xf0p7v7l_40000gn/T/ipykernel_15919/1760040075.py:10: FutureWarning: The frame.append method is deprecated and will be removed from pandas in a future version. Use pandas.concat instead.\n",
      "  res = res.append({'uu_id' : cur_uu_id, 'week_number' : 37, 'total_claims' : y_pred},ignore_index = True)\n",
      "/var/folders/l2/cnhff0_n1470l4xf0p7v7l_40000gn/T/ipykernel_15919/1760040075.py:10: FutureWarning: The frame.append method is deprecated and will be removed from pandas in a future version. Use pandas.concat instead.\n",
      "  res = res.append({'uu_id' : cur_uu_id, 'week_number' : 37, 'total_claims' : y_pred},ignore_index = True)\n",
      "/var/folders/l2/cnhff0_n1470l4xf0p7v7l_40000gn/T/ipykernel_15919/1760040075.py:10: FutureWarning: The frame.append method is deprecated and will be removed from pandas in a future version. Use pandas.concat instead.\n",
      "  res = res.append({'uu_id' : cur_uu_id, 'week_number' : 37, 'total_claims' : y_pred},ignore_index = True)\n",
      "/var/folders/l2/cnhff0_n1470l4xf0p7v7l_40000gn/T/ipykernel_15919/1760040075.py:10: FutureWarning: The frame.append method is deprecated and will be removed from pandas in a future version. Use pandas.concat instead.\n",
      "  res = res.append({'uu_id' : cur_uu_id, 'week_number' : 37, 'total_claims' : y_pred},ignore_index = True)\n",
      "/var/folders/l2/cnhff0_n1470l4xf0p7v7l_40000gn/T/ipykernel_15919/1760040075.py:10: FutureWarning: The frame.append method is deprecated and will be removed from pandas in a future version. Use pandas.concat instead.\n",
      "  res = res.append({'uu_id' : cur_uu_id, 'week_number' : 37, 'total_claims' : y_pred},ignore_index = True)\n",
      "/var/folders/l2/cnhff0_n1470l4xf0p7v7l_40000gn/T/ipykernel_15919/1760040075.py:10: FutureWarning: The frame.append method is deprecated and will be removed from pandas in a future version. Use pandas.concat instead.\n",
      "  res = res.append({'uu_id' : cur_uu_id, 'week_number' : 37, 'total_claims' : y_pred},ignore_index = True)\n",
      "/var/folders/l2/cnhff0_n1470l4xf0p7v7l_40000gn/T/ipykernel_15919/1760040075.py:10: FutureWarning: The frame.append method is deprecated and will be removed from pandas in a future version. Use pandas.concat instead.\n",
      "  res = res.append({'uu_id' : cur_uu_id, 'week_number' : 37, 'total_claims' : y_pred},ignore_index = True)\n",
      "/var/folders/l2/cnhff0_n1470l4xf0p7v7l_40000gn/T/ipykernel_15919/1760040075.py:10: FutureWarning: The frame.append method is deprecated and will be removed from pandas in a future version. Use pandas.concat instead.\n",
      "  res = res.append({'uu_id' : cur_uu_id, 'week_number' : 37, 'total_claims' : y_pred},ignore_index = True)\n",
      "/var/folders/l2/cnhff0_n1470l4xf0p7v7l_40000gn/T/ipykernel_15919/1760040075.py:10: FutureWarning: The frame.append method is deprecated and will be removed from pandas in a future version. Use pandas.concat instead.\n",
      "  res = res.append({'uu_id' : cur_uu_id, 'week_number' : 37, 'total_claims' : y_pred},ignore_index = True)\n",
      "/var/folders/l2/cnhff0_n1470l4xf0p7v7l_40000gn/T/ipykernel_15919/1760040075.py:10: FutureWarning: The frame.append method is deprecated and will be removed from pandas in a future version. Use pandas.concat instead.\n",
      "  res = res.append({'uu_id' : cur_uu_id, 'week_number' : 37, 'total_claims' : y_pred},ignore_index = True)\n",
      "/var/folders/l2/cnhff0_n1470l4xf0p7v7l_40000gn/T/ipykernel_15919/1760040075.py:10: FutureWarning: The frame.append method is deprecated and will be removed from pandas in a future version. Use pandas.concat instead.\n",
      "  res = res.append({'uu_id' : cur_uu_id, 'week_number' : 37, 'total_claims' : y_pred},ignore_index = True)\n",
      "/var/folders/l2/cnhff0_n1470l4xf0p7v7l_40000gn/T/ipykernel_15919/1760040075.py:10: FutureWarning: The frame.append method is deprecated and will be removed from pandas in a future version. Use pandas.concat instead.\n",
      "  res = res.append({'uu_id' : cur_uu_id, 'week_number' : 37, 'total_claims' : y_pred},ignore_index = True)\n",
      "/var/folders/l2/cnhff0_n1470l4xf0p7v7l_40000gn/T/ipykernel_15919/1760040075.py:10: FutureWarning: The frame.append method is deprecated and will be removed from pandas in a future version. Use pandas.concat instead.\n",
      "  res = res.append({'uu_id' : cur_uu_id, 'week_number' : 37, 'total_claims' : y_pred},ignore_index = True)\n",
      "/var/folders/l2/cnhff0_n1470l4xf0p7v7l_40000gn/T/ipykernel_15919/1760040075.py:10: FutureWarning: The frame.append method is deprecated and will be removed from pandas in a future version. Use pandas.concat instead.\n",
      "  res = res.append({'uu_id' : cur_uu_id, 'week_number' : 37, 'total_claims' : y_pred},ignore_index = True)\n",
      "/var/folders/l2/cnhff0_n1470l4xf0p7v7l_40000gn/T/ipykernel_15919/1760040075.py:10: FutureWarning: The frame.append method is deprecated and will be removed from pandas in a future version. Use pandas.concat instead.\n",
      "  res = res.append({'uu_id' : cur_uu_id, 'week_number' : 37, 'total_claims' : y_pred},ignore_index = True)\n",
      "/var/folders/l2/cnhff0_n1470l4xf0p7v7l_40000gn/T/ipykernel_15919/1760040075.py:10: FutureWarning: The frame.append method is deprecated and will be removed from pandas in a future version. Use pandas.concat instead.\n",
      "  res = res.append({'uu_id' : cur_uu_id, 'week_number' : 37, 'total_claims' : y_pred},ignore_index = True)\n",
      "/var/folders/l2/cnhff0_n1470l4xf0p7v7l_40000gn/T/ipykernel_15919/1760040075.py:10: FutureWarning: The frame.append method is deprecated and will be removed from pandas in a future version. Use pandas.concat instead.\n",
      "  res = res.append({'uu_id' : cur_uu_id, 'week_number' : 37, 'total_claims' : y_pred},ignore_index = True)\n",
      "/var/folders/l2/cnhff0_n1470l4xf0p7v7l_40000gn/T/ipykernel_15919/1760040075.py:10: FutureWarning: The frame.append method is deprecated and will be removed from pandas in a future version. Use pandas.concat instead.\n",
      "  res = res.append({'uu_id' : cur_uu_id, 'week_number' : 37, 'total_claims' : y_pred},ignore_index = True)\n",
      "/var/folders/l2/cnhff0_n1470l4xf0p7v7l_40000gn/T/ipykernel_15919/1760040075.py:10: FutureWarning: The frame.append method is deprecated and will be removed from pandas in a future version. Use pandas.concat instead.\n",
      "  res = res.append({'uu_id' : cur_uu_id, 'week_number' : 37, 'total_claims' : y_pred},ignore_index = True)\n",
      "/var/folders/l2/cnhff0_n1470l4xf0p7v7l_40000gn/T/ipykernel_15919/1760040075.py:10: FutureWarning: The frame.append method is deprecated and will be removed from pandas in a future version. Use pandas.concat instead.\n",
      "  res = res.append({'uu_id' : cur_uu_id, 'week_number' : 37, 'total_claims' : y_pred},ignore_index = True)\n",
      "/var/folders/l2/cnhff0_n1470l4xf0p7v7l_40000gn/T/ipykernel_15919/1760040075.py:10: FutureWarning: The frame.append method is deprecated and will be removed from pandas in a future version. Use pandas.concat instead.\n",
      "  res = res.append({'uu_id' : cur_uu_id, 'week_number' : 37, 'total_claims' : y_pred},ignore_index = True)\n",
      "/var/folders/l2/cnhff0_n1470l4xf0p7v7l_40000gn/T/ipykernel_15919/1760040075.py:10: FutureWarning: The frame.append method is deprecated and will be removed from pandas in a future version. Use pandas.concat instead.\n",
      "  res = res.append({'uu_id' : cur_uu_id, 'week_number' : 37, 'total_claims' : y_pred},ignore_index = True)\n",
      "/var/folders/l2/cnhff0_n1470l4xf0p7v7l_40000gn/T/ipykernel_15919/1760040075.py:10: FutureWarning: The frame.append method is deprecated and will be removed from pandas in a future version. Use pandas.concat instead.\n",
      "  res = res.append({'uu_id' : cur_uu_id, 'week_number' : 37, 'total_claims' : y_pred},ignore_index = True)\n",
      "/var/folders/l2/cnhff0_n1470l4xf0p7v7l_40000gn/T/ipykernel_15919/1760040075.py:10: FutureWarning: The frame.append method is deprecated and will be removed from pandas in a future version. Use pandas.concat instead.\n",
      "  res = res.append({'uu_id' : cur_uu_id, 'week_number' : 37, 'total_claims' : y_pred},ignore_index = True)\n",
      "/var/folders/l2/cnhff0_n1470l4xf0p7v7l_40000gn/T/ipykernel_15919/1760040075.py:10: FutureWarning: The frame.append method is deprecated and will be removed from pandas in a future version. Use pandas.concat instead.\n",
      "  res = res.append({'uu_id' : cur_uu_id, 'week_number' : 37, 'total_claims' : y_pred},ignore_index = True)\n",
      "/var/folders/l2/cnhff0_n1470l4xf0p7v7l_40000gn/T/ipykernel_15919/1760040075.py:10: FutureWarning: The frame.append method is deprecated and will be removed from pandas in a future version. Use pandas.concat instead.\n",
      "  res = res.append({'uu_id' : cur_uu_id, 'week_number' : 37, 'total_claims' : y_pred},ignore_index = True)\n",
      "/var/folders/l2/cnhff0_n1470l4xf0p7v7l_40000gn/T/ipykernel_15919/1760040075.py:10: FutureWarning: The frame.append method is deprecated and will be removed from pandas in a future version. Use pandas.concat instead.\n",
      "  res = res.append({'uu_id' : cur_uu_id, 'week_number' : 37, 'total_claims' : y_pred},ignore_index = True)\n",
      "/var/folders/l2/cnhff0_n1470l4xf0p7v7l_40000gn/T/ipykernel_15919/1760040075.py:10: FutureWarning: The frame.append method is deprecated and will be removed from pandas in a future version. Use pandas.concat instead.\n",
      "  res = res.append({'uu_id' : cur_uu_id, 'week_number' : 37, 'total_claims' : y_pred},ignore_index = True)\n",
      "/var/folders/l2/cnhff0_n1470l4xf0p7v7l_40000gn/T/ipykernel_15919/1760040075.py:10: FutureWarning: The frame.append method is deprecated and will be removed from pandas in a future version. Use pandas.concat instead.\n",
      "  res = res.append({'uu_id' : cur_uu_id, 'week_number' : 37, 'total_claims' : y_pred},ignore_index = True)\n",
      "/var/folders/l2/cnhff0_n1470l4xf0p7v7l_40000gn/T/ipykernel_15919/1760040075.py:10: FutureWarning: The frame.append method is deprecated and will be removed from pandas in a future version. Use pandas.concat instead.\n",
      "  res = res.append({'uu_id' : cur_uu_id, 'week_number' : 37, 'total_claims' : y_pred},ignore_index = True)\n",
      "/var/folders/l2/cnhff0_n1470l4xf0p7v7l_40000gn/T/ipykernel_15919/1760040075.py:10: FutureWarning: The frame.append method is deprecated and will be removed from pandas in a future version. Use pandas.concat instead.\n",
      "  res = res.append({'uu_id' : cur_uu_id, 'week_number' : 37, 'total_claims' : y_pred},ignore_index = True)\n",
      "/var/folders/l2/cnhff0_n1470l4xf0p7v7l_40000gn/T/ipykernel_15919/1760040075.py:10: FutureWarning: The frame.append method is deprecated and will be removed from pandas in a future version. Use pandas.concat instead.\n",
      "  res = res.append({'uu_id' : cur_uu_id, 'week_number' : 37, 'total_claims' : y_pred},ignore_index = True)\n",
      "/var/folders/l2/cnhff0_n1470l4xf0p7v7l_40000gn/T/ipykernel_15919/1760040075.py:10: FutureWarning: The frame.append method is deprecated and will be removed from pandas in a future version. Use pandas.concat instead.\n",
      "  res = res.append({'uu_id' : cur_uu_id, 'week_number' : 37, 'total_claims' : y_pred},ignore_index = True)\n",
      "/var/folders/l2/cnhff0_n1470l4xf0p7v7l_40000gn/T/ipykernel_15919/1760040075.py:10: FutureWarning: The frame.append method is deprecated and will be removed from pandas in a future version. Use pandas.concat instead.\n",
      "  res = res.append({'uu_id' : cur_uu_id, 'week_number' : 37, 'total_claims' : y_pred},ignore_index = True)\n",
      "/var/folders/l2/cnhff0_n1470l4xf0p7v7l_40000gn/T/ipykernel_15919/1760040075.py:10: FutureWarning: The frame.append method is deprecated and will be removed from pandas in a future version. Use pandas.concat instead.\n",
      "  res = res.append({'uu_id' : cur_uu_id, 'week_number' : 37, 'total_claims' : y_pred},ignore_index = True)\n",
      "/var/folders/l2/cnhff0_n1470l4xf0p7v7l_40000gn/T/ipykernel_15919/1760040075.py:10: FutureWarning: The frame.append method is deprecated and will be removed from pandas in a future version. Use pandas.concat instead.\n",
      "  res = res.append({'uu_id' : cur_uu_id, 'week_number' : 37, 'total_claims' : y_pred},ignore_index = True)\n",
      "/var/folders/l2/cnhff0_n1470l4xf0p7v7l_40000gn/T/ipykernel_15919/1760040075.py:10: FutureWarning: The frame.append method is deprecated and will be removed from pandas in a future version. Use pandas.concat instead.\n",
      "  res = res.append({'uu_id' : cur_uu_id, 'week_number' : 37, 'total_claims' : y_pred},ignore_index = True)\n",
      "/var/folders/l2/cnhff0_n1470l4xf0p7v7l_40000gn/T/ipykernel_15919/1760040075.py:10: FutureWarning: The frame.append method is deprecated and will be removed from pandas in a future version. Use pandas.concat instead.\n",
      "  res = res.append({'uu_id' : cur_uu_id, 'week_number' : 37, 'total_claims' : y_pred},ignore_index = True)\n",
      "/var/folders/l2/cnhff0_n1470l4xf0p7v7l_40000gn/T/ipykernel_15919/1760040075.py:10: FutureWarning: The frame.append method is deprecated and will be removed from pandas in a future version. Use pandas.concat instead.\n",
      "  res = res.append({'uu_id' : cur_uu_id, 'week_number' : 37, 'total_claims' : y_pred},ignore_index = True)\n",
      "/var/folders/l2/cnhff0_n1470l4xf0p7v7l_40000gn/T/ipykernel_15919/1760040075.py:10: FutureWarning: The frame.append method is deprecated and will be removed from pandas in a future version. Use pandas.concat instead.\n",
      "  res = res.append({'uu_id' : cur_uu_id, 'week_number' : 37, 'total_claims' : y_pred},ignore_index = True)\n",
      "/var/folders/l2/cnhff0_n1470l4xf0p7v7l_40000gn/T/ipykernel_15919/1760040075.py:10: FutureWarning: The frame.append method is deprecated and will be removed from pandas in a future version. Use pandas.concat instead.\n",
      "  res = res.append({'uu_id' : cur_uu_id, 'week_number' : 37, 'total_claims' : y_pred},ignore_index = True)\n",
      "/var/folders/l2/cnhff0_n1470l4xf0p7v7l_40000gn/T/ipykernel_15919/1760040075.py:10: FutureWarning: The frame.append method is deprecated and will be removed from pandas in a future version. Use pandas.concat instead.\n",
      "  res = res.append({'uu_id' : cur_uu_id, 'week_number' : 37, 'total_claims' : y_pred},ignore_index = True)\n",
      "/var/folders/l2/cnhff0_n1470l4xf0p7v7l_40000gn/T/ipykernel_15919/1760040075.py:10: FutureWarning: The frame.append method is deprecated and will be removed from pandas in a future version. Use pandas.concat instead.\n",
      "  res = res.append({'uu_id' : cur_uu_id, 'week_number' : 37, 'total_claims' : y_pred},ignore_index = True)\n",
      "/var/folders/l2/cnhff0_n1470l4xf0p7v7l_40000gn/T/ipykernel_15919/1760040075.py:10: FutureWarning: The frame.append method is deprecated and will be removed from pandas in a future version. Use pandas.concat instead.\n",
      "  res = res.append({'uu_id' : cur_uu_id, 'week_number' : 37, 'total_claims' : y_pred},ignore_index = True)\n",
      "/var/folders/l2/cnhff0_n1470l4xf0p7v7l_40000gn/T/ipykernel_15919/1760040075.py:10: FutureWarning: The frame.append method is deprecated and will be removed from pandas in a future version. Use pandas.concat instead.\n",
      "  res = res.append({'uu_id' : cur_uu_id, 'week_number' : 37, 'total_claims' : y_pred},ignore_index = True)\n",
      "/var/folders/l2/cnhff0_n1470l4xf0p7v7l_40000gn/T/ipykernel_15919/1760040075.py:10: FutureWarning: The frame.append method is deprecated and will be removed from pandas in a future version. Use pandas.concat instead.\n",
      "  res = res.append({'uu_id' : cur_uu_id, 'week_number' : 37, 'total_claims' : y_pred},ignore_index = True)\n",
      "/var/folders/l2/cnhff0_n1470l4xf0p7v7l_40000gn/T/ipykernel_15919/1760040075.py:10: FutureWarning: The frame.append method is deprecated and will be removed from pandas in a future version. Use pandas.concat instead.\n",
      "  res = res.append({'uu_id' : cur_uu_id, 'week_number' : 37, 'total_claims' : y_pred},ignore_index = True)\n",
      "/var/folders/l2/cnhff0_n1470l4xf0p7v7l_40000gn/T/ipykernel_15919/1760040075.py:10: FutureWarning: The frame.append method is deprecated and will be removed from pandas in a future version. Use pandas.concat instead.\n",
      "  res = res.append({'uu_id' : cur_uu_id, 'week_number' : 37, 'total_claims' : y_pred},ignore_index = True)\n",
      "/var/folders/l2/cnhff0_n1470l4xf0p7v7l_40000gn/T/ipykernel_15919/1760040075.py:10: FutureWarning: The frame.append method is deprecated and will be removed from pandas in a future version. Use pandas.concat instead.\n",
      "  res = res.append({'uu_id' : cur_uu_id, 'week_number' : 37, 'total_claims' : y_pred},ignore_index = True)\n",
      "/var/folders/l2/cnhff0_n1470l4xf0p7v7l_40000gn/T/ipykernel_15919/1760040075.py:10: FutureWarning: The frame.append method is deprecated and will be removed from pandas in a future version. Use pandas.concat instead.\n",
      "  res = res.append({'uu_id' : cur_uu_id, 'week_number' : 37, 'total_claims' : y_pred},ignore_index = True)\n",
      "/var/folders/l2/cnhff0_n1470l4xf0p7v7l_40000gn/T/ipykernel_15919/1760040075.py:10: FutureWarning: The frame.append method is deprecated and will be removed from pandas in a future version. Use pandas.concat instead.\n",
      "  res = res.append({'uu_id' : cur_uu_id, 'week_number' : 37, 'total_claims' : y_pred},ignore_index = True)\n",
      "/var/folders/l2/cnhff0_n1470l4xf0p7v7l_40000gn/T/ipykernel_15919/1760040075.py:10: FutureWarning: The frame.append method is deprecated and will be removed from pandas in a future version. Use pandas.concat instead.\n",
      "  res = res.append({'uu_id' : cur_uu_id, 'week_number' : 37, 'total_claims' : y_pred},ignore_index = True)\n",
      "/var/folders/l2/cnhff0_n1470l4xf0p7v7l_40000gn/T/ipykernel_15919/1760040075.py:10: FutureWarning: The frame.append method is deprecated and will be removed from pandas in a future version. Use pandas.concat instead.\n",
      "  res = res.append({'uu_id' : cur_uu_id, 'week_number' : 37, 'total_claims' : y_pred},ignore_index = True)\n",
      "/var/folders/l2/cnhff0_n1470l4xf0p7v7l_40000gn/T/ipykernel_15919/1760040075.py:10: FutureWarning: The frame.append method is deprecated and will be removed from pandas in a future version. Use pandas.concat instead.\n",
      "  res = res.append({'uu_id' : cur_uu_id, 'week_number' : 37, 'total_claims' : y_pred},ignore_index = True)\n",
      "/var/folders/l2/cnhff0_n1470l4xf0p7v7l_40000gn/T/ipykernel_15919/1760040075.py:10: FutureWarning: The frame.append method is deprecated and will be removed from pandas in a future version. Use pandas.concat instead.\n",
      "  res = res.append({'uu_id' : cur_uu_id, 'week_number' : 37, 'total_claims' : y_pred},ignore_index = True)\n",
      "/var/folders/l2/cnhff0_n1470l4xf0p7v7l_40000gn/T/ipykernel_15919/1760040075.py:10: FutureWarning: The frame.append method is deprecated and will be removed from pandas in a future version. Use pandas.concat instead.\n",
      "  res = res.append({'uu_id' : cur_uu_id, 'week_number' : 37, 'total_claims' : y_pred},ignore_index = True)\n",
      "/var/folders/l2/cnhff0_n1470l4xf0p7v7l_40000gn/T/ipykernel_15919/1760040075.py:10: FutureWarning: The frame.append method is deprecated and will be removed from pandas in a future version. Use pandas.concat instead.\n",
      "  res = res.append({'uu_id' : cur_uu_id, 'week_number' : 37, 'total_claims' : y_pred},ignore_index = True)\n",
      "/var/folders/l2/cnhff0_n1470l4xf0p7v7l_40000gn/T/ipykernel_15919/1760040075.py:10: FutureWarning: The frame.append method is deprecated and will be removed from pandas in a future version. Use pandas.concat instead.\n",
      "  res = res.append({'uu_id' : cur_uu_id, 'week_number' : 37, 'total_claims' : y_pred},ignore_index = True)\n",
      "/var/folders/l2/cnhff0_n1470l4xf0p7v7l_40000gn/T/ipykernel_15919/1760040075.py:10: FutureWarning: The frame.append method is deprecated and will be removed from pandas in a future version. Use pandas.concat instead.\n",
      "  res = res.append({'uu_id' : cur_uu_id, 'week_number' : 37, 'total_claims' : y_pred},ignore_index = True)\n",
      "/var/folders/l2/cnhff0_n1470l4xf0p7v7l_40000gn/T/ipykernel_15919/1760040075.py:10: FutureWarning: The frame.append method is deprecated and will be removed from pandas in a future version. Use pandas.concat instead.\n",
      "  res = res.append({'uu_id' : cur_uu_id, 'week_number' : 37, 'total_claims' : y_pred},ignore_index = True)\n",
      "/var/folders/l2/cnhff0_n1470l4xf0p7v7l_40000gn/T/ipykernel_15919/1760040075.py:10: FutureWarning: The frame.append method is deprecated and will be removed from pandas in a future version. Use pandas.concat instead.\n",
      "  res = res.append({'uu_id' : cur_uu_id, 'week_number' : 37, 'total_claims' : y_pred},ignore_index = True)\n",
      "/var/folders/l2/cnhff0_n1470l4xf0p7v7l_40000gn/T/ipykernel_15919/1760040075.py:10: FutureWarning: The frame.append method is deprecated and will be removed from pandas in a future version. Use pandas.concat instead.\n",
      "  res = res.append({'uu_id' : cur_uu_id, 'week_number' : 37, 'total_claims' : y_pred},ignore_index = True)\n",
      "/var/folders/l2/cnhff0_n1470l4xf0p7v7l_40000gn/T/ipykernel_15919/1760040075.py:10: FutureWarning: The frame.append method is deprecated and will be removed from pandas in a future version. Use pandas.concat instead.\n",
      "  res = res.append({'uu_id' : cur_uu_id, 'week_number' : 37, 'total_claims' : y_pred},ignore_index = True)\n",
      "/var/folders/l2/cnhff0_n1470l4xf0p7v7l_40000gn/T/ipykernel_15919/1760040075.py:10: FutureWarning: The frame.append method is deprecated and will be removed from pandas in a future version. Use pandas.concat instead.\n",
      "  res = res.append({'uu_id' : cur_uu_id, 'week_number' : 37, 'total_claims' : y_pred},ignore_index = True)\n",
      "/var/folders/l2/cnhff0_n1470l4xf0p7v7l_40000gn/T/ipykernel_15919/1760040075.py:10: FutureWarning: The frame.append method is deprecated and will be removed from pandas in a future version. Use pandas.concat instead.\n",
      "  res = res.append({'uu_id' : cur_uu_id, 'week_number' : 37, 'total_claims' : y_pred},ignore_index = True)\n",
      "/var/folders/l2/cnhff0_n1470l4xf0p7v7l_40000gn/T/ipykernel_15919/1760040075.py:10: FutureWarning: The frame.append method is deprecated and will be removed from pandas in a future version. Use pandas.concat instead.\n",
      "  res = res.append({'uu_id' : cur_uu_id, 'week_number' : 37, 'total_claims' : y_pred},ignore_index = True)\n",
      "/var/folders/l2/cnhff0_n1470l4xf0p7v7l_40000gn/T/ipykernel_15919/1760040075.py:10: FutureWarning: The frame.append method is deprecated and will be removed from pandas in a future version. Use pandas.concat instead.\n",
      "  res = res.append({'uu_id' : cur_uu_id, 'week_number' : 37, 'total_claims' : y_pred},ignore_index = True)\n",
      "/var/folders/l2/cnhff0_n1470l4xf0p7v7l_40000gn/T/ipykernel_15919/1760040075.py:10: FutureWarning: The frame.append method is deprecated and will be removed from pandas in a future version. Use pandas.concat instead.\n",
      "  res = res.append({'uu_id' : cur_uu_id, 'week_number' : 37, 'total_claims' : y_pred},ignore_index = True)\n",
      "/var/folders/l2/cnhff0_n1470l4xf0p7v7l_40000gn/T/ipykernel_15919/1760040075.py:10: FutureWarning: The frame.append method is deprecated and will be removed from pandas in a future version. Use pandas.concat instead.\n",
      "  res = res.append({'uu_id' : cur_uu_id, 'week_number' : 37, 'total_claims' : y_pred},ignore_index = True)\n",
      "/var/folders/l2/cnhff0_n1470l4xf0p7v7l_40000gn/T/ipykernel_15919/1760040075.py:10: FutureWarning: The frame.append method is deprecated and will be removed from pandas in a future version. Use pandas.concat instead.\n",
      "  res = res.append({'uu_id' : cur_uu_id, 'week_number' : 37, 'total_claims' : y_pred},ignore_index = True)\n",
      "/var/folders/l2/cnhff0_n1470l4xf0p7v7l_40000gn/T/ipykernel_15919/1760040075.py:10: FutureWarning: The frame.append method is deprecated and will be removed from pandas in a future version. Use pandas.concat instead.\n",
      "  res = res.append({'uu_id' : cur_uu_id, 'week_number' : 37, 'total_claims' : y_pred},ignore_index = True)\n",
      "/var/folders/l2/cnhff0_n1470l4xf0p7v7l_40000gn/T/ipykernel_15919/1760040075.py:10: FutureWarning: The frame.append method is deprecated and will be removed from pandas in a future version. Use pandas.concat instead.\n",
      "  res = res.append({'uu_id' : cur_uu_id, 'week_number' : 37, 'total_claims' : y_pred},ignore_index = True)\n",
      "/var/folders/l2/cnhff0_n1470l4xf0p7v7l_40000gn/T/ipykernel_15919/1760040075.py:10: FutureWarning: The frame.append method is deprecated and will be removed from pandas in a future version. Use pandas.concat instead.\n",
      "  res = res.append({'uu_id' : cur_uu_id, 'week_number' : 37, 'total_claims' : y_pred},ignore_index = True)\n",
      "/var/folders/l2/cnhff0_n1470l4xf0p7v7l_40000gn/T/ipykernel_15919/1760040075.py:10: FutureWarning: The frame.append method is deprecated and will be removed from pandas in a future version. Use pandas.concat instead.\n",
      "  res = res.append({'uu_id' : cur_uu_id, 'week_number' : 37, 'total_claims' : y_pred},ignore_index = True)\n",
      "/var/folders/l2/cnhff0_n1470l4xf0p7v7l_40000gn/T/ipykernel_15919/1760040075.py:10: FutureWarning: The frame.append method is deprecated and will be removed from pandas in a future version. Use pandas.concat instead.\n",
      "  res = res.append({'uu_id' : cur_uu_id, 'week_number' : 37, 'total_claims' : y_pred},ignore_index = True)\n",
      "/var/folders/l2/cnhff0_n1470l4xf0p7v7l_40000gn/T/ipykernel_15919/1760040075.py:10: FutureWarning: The frame.append method is deprecated and will be removed from pandas in a future version. Use pandas.concat instead.\n",
      "  res = res.append({'uu_id' : cur_uu_id, 'week_number' : 37, 'total_claims' : y_pred},ignore_index = True)\n",
      "/var/folders/l2/cnhff0_n1470l4xf0p7v7l_40000gn/T/ipykernel_15919/1760040075.py:10: FutureWarning: The frame.append method is deprecated and will be removed from pandas in a future version. Use pandas.concat instead.\n",
      "  res = res.append({'uu_id' : cur_uu_id, 'week_number' : 37, 'total_claims' : y_pred},ignore_index = True)\n",
      "/var/folders/l2/cnhff0_n1470l4xf0p7v7l_40000gn/T/ipykernel_15919/1760040075.py:10: FutureWarning: The frame.append method is deprecated and will be removed from pandas in a future version. Use pandas.concat instead.\n",
      "  res = res.append({'uu_id' : cur_uu_id, 'week_number' : 37, 'total_claims' : y_pred},ignore_index = True)\n",
      "/var/folders/l2/cnhff0_n1470l4xf0p7v7l_40000gn/T/ipykernel_15919/1760040075.py:10: FutureWarning: The frame.append method is deprecated and will be removed from pandas in a future version. Use pandas.concat instead.\n",
      "  res = res.append({'uu_id' : cur_uu_id, 'week_number' : 37, 'total_claims' : y_pred},ignore_index = True)\n",
      "/var/folders/l2/cnhff0_n1470l4xf0p7v7l_40000gn/T/ipykernel_15919/1760040075.py:10: FutureWarning: The frame.append method is deprecated and will be removed from pandas in a future version. Use pandas.concat instead.\n",
      "  res = res.append({'uu_id' : cur_uu_id, 'week_number' : 37, 'total_claims' : y_pred},ignore_index = True)\n",
      "/var/folders/l2/cnhff0_n1470l4xf0p7v7l_40000gn/T/ipykernel_15919/1760040075.py:10: FutureWarning: The frame.append method is deprecated and will be removed from pandas in a future version. Use pandas.concat instead.\n",
      "  res = res.append({'uu_id' : cur_uu_id, 'week_number' : 37, 'total_claims' : y_pred},ignore_index = True)\n",
      "/var/folders/l2/cnhff0_n1470l4xf0p7v7l_40000gn/T/ipykernel_15919/1760040075.py:10: FutureWarning: The frame.append method is deprecated and will be removed from pandas in a future version. Use pandas.concat instead.\n",
      "  res = res.append({'uu_id' : cur_uu_id, 'week_number' : 37, 'total_claims' : y_pred},ignore_index = True)\n",
      "/var/folders/l2/cnhff0_n1470l4xf0p7v7l_40000gn/T/ipykernel_15919/1760040075.py:10: FutureWarning: The frame.append method is deprecated and will be removed from pandas in a future version. Use pandas.concat instead.\n",
      "  res = res.append({'uu_id' : cur_uu_id, 'week_number' : 37, 'total_claims' : y_pred},ignore_index = True)\n",
      "/var/folders/l2/cnhff0_n1470l4xf0p7v7l_40000gn/T/ipykernel_15919/1760040075.py:10: FutureWarning: The frame.append method is deprecated and will be removed from pandas in a future version. Use pandas.concat instead.\n",
      "  res = res.append({'uu_id' : cur_uu_id, 'week_number' : 37, 'total_claims' : y_pred},ignore_index = True)\n",
      "/var/folders/l2/cnhff0_n1470l4xf0p7v7l_40000gn/T/ipykernel_15919/1760040075.py:10: FutureWarning: The frame.append method is deprecated and will be removed from pandas in a future version. Use pandas.concat instead.\n",
      "  res = res.append({'uu_id' : cur_uu_id, 'week_number' : 37, 'total_claims' : y_pred},ignore_index = True)\n",
      "/var/folders/l2/cnhff0_n1470l4xf0p7v7l_40000gn/T/ipykernel_15919/1760040075.py:10: FutureWarning: The frame.append method is deprecated and will be removed from pandas in a future version. Use pandas.concat instead.\n",
      "  res = res.append({'uu_id' : cur_uu_id, 'week_number' : 37, 'total_claims' : y_pred},ignore_index = True)\n",
      "/var/folders/l2/cnhff0_n1470l4xf0p7v7l_40000gn/T/ipykernel_15919/1760040075.py:10: FutureWarning: The frame.append method is deprecated and will be removed from pandas in a future version. Use pandas.concat instead.\n",
      "  res = res.append({'uu_id' : cur_uu_id, 'week_number' : 37, 'total_claims' : y_pred},ignore_index = True)\n",
      "/var/folders/l2/cnhff0_n1470l4xf0p7v7l_40000gn/T/ipykernel_15919/1760040075.py:10: FutureWarning: The frame.append method is deprecated and will be removed from pandas in a future version. Use pandas.concat instead.\n",
      "  res = res.append({'uu_id' : cur_uu_id, 'week_number' : 37, 'total_claims' : y_pred},ignore_index = True)\n",
      "/var/folders/l2/cnhff0_n1470l4xf0p7v7l_40000gn/T/ipykernel_15919/1760040075.py:10: FutureWarning: The frame.append method is deprecated and will be removed from pandas in a future version. Use pandas.concat instead.\n",
      "  res = res.append({'uu_id' : cur_uu_id, 'week_number' : 37, 'total_claims' : y_pred},ignore_index = True)\n",
      "/var/folders/l2/cnhff0_n1470l4xf0p7v7l_40000gn/T/ipykernel_15919/1760040075.py:10: FutureWarning: The frame.append method is deprecated and will be removed from pandas in a future version. Use pandas.concat instead.\n",
      "  res = res.append({'uu_id' : cur_uu_id, 'week_number' : 37, 'total_claims' : y_pred},ignore_index = True)\n",
      "/var/folders/l2/cnhff0_n1470l4xf0p7v7l_40000gn/T/ipykernel_15919/1760040075.py:10: FutureWarning: The frame.append method is deprecated and will be removed from pandas in a future version. Use pandas.concat instead.\n",
      "  res = res.append({'uu_id' : cur_uu_id, 'week_number' : 37, 'total_claims' : y_pred},ignore_index = True)\n",
      "/var/folders/l2/cnhff0_n1470l4xf0p7v7l_40000gn/T/ipykernel_15919/1760040075.py:10: FutureWarning: The frame.append method is deprecated and will be removed from pandas in a future version. Use pandas.concat instead.\n",
      "  res = res.append({'uu_id' : cur_uu_id, 'week_number' : 37, 'total_claims' : y_pred},ignore_index = True)\n",
      "/var/folders/l2/cnhff0_n1470l4xf0p7v7l_40000gn/T/ipykernel_15919/1760040075.py:10: FutureWarning: The frame.append method is deprecated and will be removed from pandas in a future version. Use pandas.concat instead.\n",
      "  res = res.append({'uu_id' : cur_uu_id, 'week_number' : 37, 'total_claims' : y_pred},ignore_index = True)\n",
      "/var/folders/l2/cnhff0_n1470l4xf0p7v7l_40000gn/T/ipykernel_15919/1760040075.py:10: FutureWarning: The frame.append method is deprecated and will be removed from pandas in a future version. Use pandas.concat instead.\n",
      "  res = res.append({'uu_id' : cur_uu_id, 'week_number' : 37, 'total_claims' : y_pred},ignore_index = True)\n",
      "/var/folders/l2/cnhff0_n1470l4xf0p7v7l_40000gn/T/ipykernel_15919/1760040075.py:10: FutureWarning: The frame.append method is deprecated and will be removed from pandas in a future version. Use pandas.concat instead.\n",
      "  res = res.append({'uu_id' : cur_uu_id, 'week_number' : 37, 'total_claims' : y_pred},ignore_index = True)\n",
      "/var/folders/l2/cnhff0_n1470l4xf0p7v7l_40000gn/T/ipykernel_15919/1760040075.py:10: FutureWarning: The frame.append method is deprecated and will be removed from pandas in a future version. Use pandas.concat instead.\n",
      "  res = res.append({'uu_id' : cur_uu_id, 'week_number' : 37, 'total_claims' : y_pred},ignore_index = True)\n",
      "/var/folders/l2/cnhff0_n1470l4xf0p7v7l_40000gn/T/ipykernel_15919/1760040075.py:10: FutureWarning: The frame.append method is deprecated and will be removed from pandas in a future version. Use pandas.concat instead.\n",
      "  res = res.append({'uu_id' : cur_uu_id, 'week_number' : 37, 'total_claims' : y_pred},ignore_index = True)\n",
      "/var/folders/l2/cnhff0_n1470l4xf0p7v7l_40000gn/T/ipykernel_15919/1760040075.py:10: FutureWarning: The frame.append method is deprecated and will be removed from pandas in a future version. Use pandas.concat instead.\n",
      "  res = res.append({'uu_id' : cur_uu_id, 'week_number' : 37, 'total_claims' : y_pred},ignore_index = True)\n",
      "/var/folders/l2/cnhff0_n1470l4xf0p7v7l_40000gn/T/ipykernel_15919/1760040075.py:10: FutureWarning: The frame.append method is deprecated and will be removed from pandas in a future version. Use pandas.concat instead.\n",
      "  res = res.append({'uu_id' : cur_uu_id, 'week_number' : 37, 'total_claims' : y_pred},ignore_index = True)\n",
      "/var/folders/l2/cnhff0_n1470l4xf0p7v7l_40000gn/T/ipykernel_15919/1760040075.py:10: FutureWarning: The frame.append method is deprecated and will be removed from pandas in a future version. Use pandas.concat instead.\n",
      "  res = res.append({'uu_id' : cur_uu_id, 'week_number' : 37, 'total_claims' : y_pred},ignore_index = True)\n",
      "/var/folders/l2/cnhff0_n1470l4xf0p7v7l_40000gn/T/ipykernel_15919/1760040075.py:10: FutureWarning: The frame.append method is deprecated and will be removed from pandas in a future version. Use pandas.concat instead.\n",
      "  res = res.append({'uu_id' : cur_uu_id, 'week_number' : 37, 'total_claims' : y_pred},ignore_index = True)\n",
      "/var/folders/l2/cnhff0_n1470l4xf0p7v7l_40000gn/T/ipykernel_15919/1760040075.py:10: FutureWarning: The frame.append method is deprecated and will be removed from pandas in a future version. Use pandas.concat instead.\n",
      "  res = res.append({'uu_id' : cur_uu_id, 'week_number' : 37, 'total_claims' : y_pred},ignore_index = True)\n",
      "/var/folders/l2/cnhff0_n1470l4xf0p7v7l_40000gn/T/ipykernel_15919/1760040075.py:10: FutureWarning: The frame.append method is deprecated and will be removed from pandas in a future version. Use pandas.concat instead.\n",
      "  res = res.append({'uu_id' : cur_uu_id, 'week_number' : 37, 'total_claims' : y_pred},ignore_index = True)\n",
      "/var/folders/l2/cnhff0_n1470l4xf0p7v7l_40000gn/T/ipykernel_15919/1760040075.py:10: FutureWarning: The frame.append method is deprecated and will be removed from pandas in a future version. Use pandas.concat instead.\n",
      "  res = res.append({'uu_id' : cur_uu_id, 'week_number' : 37, 'total_claims' : y_pred},ignore_index = True)\n",
      "/var/folders/l2/cnhff0_n1470l4xf0p7v7l_40000gn/T/ipykernel_15919/1760040075.py:10: FutureWarning: The frame.append method is deprecated and will be removed from pandas in a future version. Use pandas.concat instead.\n",
      "  res = res.append({'uu_id' : cur_uu_id, 'week_number' : 37, 'total_claims' : y_pred},ignore_index = True)\n",
      "/var/folders/l2/cnhff0_n1470l4xf0p7v7l_40000gn/T/ipykernel_15919/1760040075.py:10: FutureWarning: The frame.append method is deprecated and will be removed from pandas in a future version. Use pandas.concat instead.\n",
      "  res = res.append({'uu_id' : cur_uu_id, 'week_number' : 37, 'total_claims' : y_pred},ignore_index = True)\n",
      "/var/folders/l2/cnhff0_n1470l4xf0p7v7l_40000gn/T/ipykernel_15919/1760040075.py:10: FutureWarning: The frame.append method is deprecated and will be removed from pandas in a future version. Use pandas.concat instead.\n",
      "  res = res.append({'uu_id' : cur_uu_id, 'week_number' : 37, 'total_claims' : y_pred},ignore_index = True)\n",
      "/var/folders/l2/cnhff0_n1470l4xf0p7v7l_40000gn/T/ipykernel_15919/1760040075.py:10: FutureWarning: The frame.append method is deprecated and will be removed from pandas in a future version. Use pandas.concat instead.\n",
      "  res = res.append({'uu_id' : cur_uu_id, 'week_number' : 37, 'total_claims' : y_pred},ignore_index = True)\n",
      "/var/folders/l2/cnhff0_n1470l4xf0p7v7l_40000gn/T/ipykernel_15919/1760040075.py:10: FutureWarning: The frame.append method is deprecated and will be removed from pandas in a future version. Use pandas.concat instead.\n",
      "  res = res.append({'uu_id' : cur_uu_id, 'week_number' : 37, 'total_claims' : y_pred},ignore_index = True)\n",
      "/var/folders/l2/cnhff0_n1470l4xf0p7v7l_40000gn/T/ipykernel_15919/1760040075.py:10: FutureWarning: The frame.append method is deprecated and will be removed from pandas in a future version. Use pandas.concat instead.\n",
      "  res = res.append({'uu_id' : cur_uu_id, 'week_number' : 37, 'total_claims' : y_pred},ignore_index = True)\n",
      "/var/folders/l2/cnhff0_n1470l4xf0p7v7l_40000gn/T/ipykernel_15919/1760040075.py:10: FutureWarning: The frame.append method is deprecated and will be removed from pandas in a future version. Use pandas.concat instead.\n",
      "  res = res.append({'uu_id' : cur_uu_id, 'week_number' : 37, 'total_claims' : y_pred},ignore_index = True)\n",
      "/var/folders/l2/cnhff0_n1470l4xf0p7v7l_40000gn/T/ipykernel_15919/1760040075.py:10: FutureWarning: The frame.append method is deprecated and will be removed from pandas in a future version. Use pandas.concat instead.\n",
      "  res = res.append({'uu_id' : cur_uu_id, 'week_number' : 37, 'total_claims' : y_pred},ignore_index = True)\n",
      "/var/folders/l2/cnhff0_n1470l4xf0p7v7l_40000gn/T/ipykernel_15919/1760040075.py:10: FutureWarning: The frame.append method is deprecated and will be removed from pandas in a future version. Use pandas.concat instead.\n",
      "  res = res.append({'uu_id' : cur_uu_id, 'week_number' : 37, 'total_claims' : y_pred},ignore_index = True)\n",
      "/var/folders/l2/cnhff0_n1470l4xf0p7v7l_40000gn/T/ipykernel_15919/1760040075.py:10: FutureWarning: The frame.append method is deprecated and will be removed from pandas in a future version. Use pandas.concat instead.\n",
      "  res = res.append({'uu_id' : cur_uu_id, 'week_number' : 37, 'total_claims' : y_pred},ignore_index = True)\n",
      "/var/folders/l2/cnhff0_n1470l4xf0p7v7l_40000gn/T/ipykernel_15919/1760040075.py:10: FutureWarning: The frame.append method is deprecated and will be removed from pandas in a future version. Use pandas.concat instead.\n",
      "  res = res.append({'uu_id' : cur_uu_id, 'week_number' : 37, 'total_claims' : y_pred},ignore_index = True)\n",
      "/var/folders/l2/cnhff0_n1470l4xf0p7v7l_40000gn/T/ipykernel_15919/1760040075.py:10: FutureWarning: The frame.append method is deprecated and will be removed from pandas in a future version. Use pandas.concat instead.\n",
      "  res = res.append({'uu_id' : cur_uu_id, 'week_number' : 37, 'total_claims' : y_pred},ignore_index = True)\n",
      "/var/folders/l2/cnhff0_n1470l4xf0p7v7l_40000gn/T/ipykernel_15919/1760040075.py:10: FutureWarning: The frame.append method is deprecated and will be removed from pandas in a future version. Use pandas.concat instead.\n",
      "  res = res.append({'uu_id' : cur_uu_id, 'week_number' : 37, 'total_claims' : y_pred},ignore_index = True)\n",
      "/var/folders/l2/cnhff0_n1470l4xf0p7v7l_40000gn/T/ipykernel_15919/1760040075.py:10: FutureWarning: The frame.append method is deprecated and will be removed from pandas in a future version. Use pandas.concat instead.\n",
      "  res = res.append({'uu_id' : cur_uu_id, 'week_number' : 37, 'total_claims' : y_pred},ignore_index = True)\n",
      "/var/folders/l2/cnhff0_n1470l4xf0p7v7l_40000gn/T/ipykernel_15919/1760040075.py:10: FutureWarning: The frame.append method is deprecated and will be removed from pandas in a future version. Use pandas.concat instead.\n",
      "  res = res.append({'uu_id' : cur_uu_id, 'week_number' : 37, 'total_claims' : y_pred},ignore_index = True)\n",
      "/var/folders/l2/cnhff0_n1470l4xf0p7v7l_40000gn/T/ipykernel_15919/1760040075.py:10: FutureWarning: The frame.append method is deprecated and will be removed from pandas in a future version. Use pandas.concat instead.\n",
      "  res = res.append({'uu_id' : cur_uu_id, 'week_number' : 37, 'total_claims' : y_pred},ignore_index = True)\n",
      "/var/folders/l2/cnhff0_n1470l4xf0p7v7l_40000gn/T/ipykernel_15919/1760040075.py:10: FutureWarning: The frame.append method is deprecated and will be removed from pandas in a future version. Use pandas.concat instead.\n",
      "  res = res.append({'uu_id' : cur_uu_id, 'week_number' : 37, 'total_claims' : y_pred},ignore_index = True)\n",
      "/var/folders/l2/cnhff0_n1470l4xf0p7v7l_40000gn/T/ipykernel_15919/1760040075.py:10: FutureWarning: The frame.append method is deprecated and will be removed from pandas in a future version. Use pandas.concat instead.\n",
      "  res = res.append({'uu_id' : cur_uu_id, 'week_number' : 37, 'total_claims' : y_pred},ignore_index = True)\n",
      "/var/folders/l2/cnhff0_n1470l4xf0p7v7l_40000gn/T/ipykernel_15919/1760040075.py:10: FutureWarning: The frame.append method is deprecated and will be removed from pandas in a future version. Use pandas.concat instead.\n",
      "  res = res.append({'uu_id' : cur_uu_id, 'week_number' : 37, 'total_claims' : y_pred},ignore_index = True)\n",
      "/var/folders/l2/cnhff0_n1470l4xf0p7v7l_40000gn/T/ipykernel_15919/1760040075.py:10: FutureWarning: The frame.append method is deprecated and will be removed from pandas in a future version. Use pandas.concat instead.\n",
      "  res = res.append({'uu_id' : cur_uu_id, 'week_number' : 37, 'total_claims' : y_pred},ignore_index = True)\n",
      "/var/folders/l2/cnhff0_n1470l4xf0p7v7l_40000gn/T/ipykernel_15919/1760040075.py:10: FutureWarning: The frame.append method is deprecated and will be removed from pandas in a future version. Use pandas.concat instead.\n",
      "  res = res.append({'uu_id' : cur_uu_id, 'week_number' : 37, 'total_claims' : y_pred},ignore_index = True)\n",
      "/var/folders/l2/cnhff0_n1470l4xf0p7v7l_40000gn/T/ipykernel_15919/1760040075.py:10: FutureWarning: The frame.append method is deprecated and will be removed from pandas in a future version. Use pandas.concat instead.\n",
      "  res = res.append({'uu_id' : cur_uu_id, 'week_number' : 37, 'total_claims' : y_pred},ignore_index = True)\n",
      "/var/folders/l2/cnhff0_n1470l4xf0p7v7l_40000gn/T/ipykernel_15919/1760040075.py:10: FutureWarning: The frame.append method is deprecated and will be removed from pandas in a future version. Use pandas.concat instead.\n",
      "  res = res.append({'uu_id' : cur_uu_id, 'week_number' : 37, 'total_claims' : y_pred},ignore_index = True)\n",
      "/var/folders/l2/cnhff0_n1470l4xf0p7v7l_40000gn/T/ipykernel_15919/1760040075.py:10: FutureWarning: The frame.append method is deprecated and will be removed from pandas in a future version. Use pandas.concat instead.\n",
      "  res = res.append({'uu_id' : cur_uu_id, 'week_number' : 37, 'total_claims' : y_pred},ignore_index = True)\n",
      "/var/folders/l2/cnhff0_n1470l4xf0p7v7l_40000gn/T/ipykernel_15919/1760040075.py:10: FutureWarning: The frame.append method is deprecated and will be removed from pandas in a future version. Use pandas.concat instead.\n",
      "  res = res.append({'uu_id' : cur_uu_id, 'week_number' : 37, 'total_claims' : y_pred},ignore_index = True)\n",
      "/var/folders/l2/cnhff0_n1470l4xf0p7v7l_40000gn/T/ipykernel_15919/1760040075.py:10: FutureWarning: The frame.append method is deprecated and will be removed from pandas in a future version. Use pandas.concat instead.\n",
      "  res = res.append({'uu_id' : cur_uu_id, 'week_number' : 37, 'total_claims' : y_pred},ignore_index = True)\n"
     ]
    },
    {
     "name": "stderr",
     "output_type": "stream",
     "text": [
      "/var/folders/l2/cnhff0_n1470l4xf0p7v7l_40000gn/T/ipykernel_15919/1760040075.py:10: FutureWarning: The frame.append method is deprecated and will be removed from pandas in a future version. Use pandas.concat instead.\n",
      "  res = res.append({'uu_id' : cur_uu_id, 'week_number' : 37, 'total_claims' : y_pred},ignore_index = True)\n",
      "/var/folders/l2/cnhff0_n1470l4xf0p7v7l_40000gn/T/ipykernel_15919/1760040075.py:10: FutureWarning: The frame.append method is deprecated and will be removed from pandas in a future version. Use pandas.concat instead.\n",
      "  res = res.append({'uu_id' : cur_uu_id, 'week_number' : 37, 'total_claims' : y_pred},ignore_index = True)\n",
      "/var/folders/l2/cnhff0_n1470l4xf0p7v7l_40000gn/T/ipykernel_15919/1760040075.py:10: FutureWarning: The frame.append method is deprecated and will be removed from pandas in a future version. Use pandas.concat instead.\n",
      "  res = res.append({'uu_id' : cur_uu_id, 'week_number' : 37, 'total_claims' : y_pred},ignore_index = True)\n",
      "/var/folders/l2/cnhff0_n1470l4xf0p7v7l_40000gn/T/ipykernel_15919/1760040075.py:10: FutureWarning: The frame.append method is deprecated and will be removed from pandas in a future version. Use pandas.concat instead.\n",
      "  res = res.append({'uu_id' : cur_uu_id, 'week_number' : 37, 'total_claims' : y_pred},ignore_index = True)\n",
      "/var/folders/l2/cnhff0_n1470l4xf0p7v7l_40000gn/T/ipykernel_15919/1760040075.py:10: FutureWarning: The frame.append method is deprecated and will be removed from pandas in a future version. Use pandas.concat instead.\n",
      "  res = res.append({'uu_id' : cur_uu_id, 'week_number' : 37, 'total_claims' : y_pred},ignore_index = True)\n",
      "/var/folders/l2/cnhff0_n1470l4xf0p7v7l_40000gn/T/ipykernel_15919/1760040075.py:10: FutureWarning: The frame.append method is deprecated and will be removed from pandas in a future version. Use pandas.concat instead.\n",
      "  res = res.append({'uu_id' : cur_uu_id, 'week_number' : 37, 'total_claims' : y_pred},ignore_index = True)\n",
      "/var/folders/l2/cnhff0_n1470l4xf0p7v7l_40000gn/T/ipykernel_15919/1760040075.py:10: FutureWarning: The frame.append method is deprecated and will be removed from pandas in a future version. Use pandas.concat instead.\n",
      "  res = res.append({'uu_id' : cur_uu_id, 'week_number' : 37, 'total_claims' : y_pred},ignore_index = True)\n",
      "/var/folders/l2/cnhff0_n1470l4xf0p7v7l_40000gn/T/ipykernel_15919/1760040075.py:10: FutureWarning: The frame.append method is deprecated and will be removed from pandas in a future version. Use pandas.concat instead.\n",
      "  res = res.append({'uu_id' : cur_uu_id, 'week_number' : 37, 'total_claims' : y_pred},ignore_index = True)\n",
      "/var/folders/l2/cnhff0_n1470l4xf0p7v7l_40000gn/T/ipykernel_15919/1760040075.py:10: FutureWarning: The frame.append method is deprecated and will be removed from pandas in a future version. Use pandas.concat instead.\n",
      "  res = res.append({'uu_id' : cur_uu_id, 'week_number' : 37, 'total_claims' : y_pred},ignore_index = True)\n",
      "/var/folders/l2/cnhff0_n1470l4xf0p7v7l_40000gn/T/ipykernel_15919/1760040075.py:10: FutureWarning: The frame.append method is deprecated and will be removed from pandas in a future version. Use pandas.concat instead.\n",
      "  res = res.append({'uu_id' : cur_uu_id, 'week_number' : 37, 'total_claims' : y_pred},ignore_index = True)\n",
      "/var/folders/l2/cnhff0_n1470l4xf0p7v7l_40000gn/T/ipykernel_15919/1760040075.py:10: FutureWarning: The frame.append method is deprecated and will be removed from pandas in a future version. Use pandas.concat instead.\n",
      "  res = res.append({'uu_id' : cur_uu_id, 'week_number' : 37, 'total_claims' : y_pred},ignore_index = True)\n",
      "/var/folders/l2/cnhff0_n1470l4xf0p7v7l_40000gn/T/ipykernel_15919/1760040075.py:10: FutureWarning: The frame.append method is deprecated and will be removed from pandas in a future version. Use pandas.concat instead.\n",
      "  res = res.append({'uu_id' : cur_uu_id, 'week_number' : 37, 'total_claims' : y_pred},ignore_index = True)\n",
      "/var/folders/l2/cnhff0_n1470l4xf0p7v7l_40000gn/T/ipykernel_15919/1760040075.py:10: FutureWarning: The frame.append method is deprecated and will be removed from pandas in a future version. Use pandas.concat instead.\n",
      "  res = res.append({'uu_id' : cur_uu_id, 'week_number' : 37, 'total_claims' : y_pred},ignore_index = True)\n",
      "/var/folders/l2/cnhff0_n1470l4xf0p7v7l_40000gn/T/ipykernel_15919/1760040075.py:10: FutureWarning: The frame.append method is deprecated and will be removed from pandas in a future version. Use pandas.concat instead.\n",
      "  res = res.append({'uu_id' : cur_uu_id, 'week_number' : 37, 'total_claims' : y_pred},ignore_index = True)\n",
      "/var/folders/l2/cnhff0_n1470l4xf0p7v7l_40000gn/T/ipykernel_15919/1760040075.py:10: FutureWarning: The frame.append method is deprecated and will be removed from pandas in a future version. Use pandas.concat instead.\n",
      "  res = res.append({'uu_id' : cur_uu_id, 'week_number' : 37, 'total_claims' : y_pred},ignore_index = True)\n",
      "/var/folders/l2/cnhff0_n1470l4xf0p7v7l_40000gn/T/ipykernel_15919/1760040075.py:10: FutureWarning: The frame.append method is deprecated and will be removed from pandas in a future version. Use pandas.concat instead.\n",
      "  res = res.append({'uu_id' : cur_uu_id, 'week_number' : 37, 'total_claims' : y_pred},ignore_index = True)\n",
      "/var/folders/l2/cnhff0_n1470l4xf0p7v7l_40000gn/T/ipykernel_15919/1760040075.py:10: FutureWarning: The frame.append method is deprecated and will be removed from pandas in a future version. Use pandas.concat instead.\n",
      "  res = res.append({'uu_id' : cur_uu_id, 'week_number' : 37, 'total_claims' : y_pred},ignore_index = True)\n",
      "/var/folders/l2/cnhff0_n1470l4xf0p7v7l_40000gn/T/ipykernel_15919/1760040075.py:10: FutureWarning: The frame.append method is deprecated and will be removed from pandas in a future version. Use pandas.concat instead.\n",
      "  res = res.append({'uu_id' : cur_uu_id, 'week_number' : 37, 'total_claims' : y_pred},ignore_index = True)\n",
      "/var/folders/l2/cnhff0_n1470l4xf0p7v7l_40000gn/T/ipykernel_15919/1760040075.py:10: FutureWarning: The frame.append method is deprecated and will be removed from pandas in a future version. Use pandas.concat instead.\n",
      "  res = res.append({'uu_id' : cur_uu_id, 'week_number' : 37, 'total_claims' : y_pred},ignore_index = True)\n",
      "/var/folders/l2/cnhff0_n1470l4xf0p7v7l_40000gn/T/ipykernel_15919/1760040075.py:10: FutureWarning: The frame.append method is deprecated and will be removed from pandas in a future version. Use pandas.concat instead.\n",
      "  res = res.append({'uu_id' : cur_uu_id, 'week_number' : 37, 'total_claims' : y_pred},ignore_index = True)\n",
      "/var/folders/l2/cnhff0_n1470l4xf0p7v7l_40000gn/T/ipykernel_15919/1760040075.py:10: FutureWarning: The frame.append method is deprecated and will be removed from pandas in a future version. Use pandas.concat instead.\n",
      "  res = res.append({'uu_id' : cur_uu_id, 'week_number' : 37, 'total_claims' : y_pred},ignore_index = True)\n",
      "/var/folders/l2/cnhff0_n1470l4xf0p7v7l_40000gn/T/ipykernel_15919/1760040075.py:10: FutureWarning: The frame.append method is deprecated and will be removed from pandas in a future version. Use pandas.concat instead.\n",
      "  res = res.append({'uu_id' : cur_uu_id, 'week_number' : 37, 'total_claims' : y_pred},ignore_index = True)\n",
      "/var/folders/l2/cnhff0_n1470l4xf0p7v7l_40000gn/T/ipykernel_15919/1760040075.py:10: FutureWarning: The frame.append method is deprecated and will be removed from pandas in a future version. Use pandas.concat instead.\n",
      "  res = res.append({'uu_id' : cur_uu_id, 'week_number' : 37, 'total_claims' : y_pred},ignore_index = True)\n",
      "/var/folders/l2/cnhff0_n1470l4xf0p7v7l_40000gn/T/ipykernel_15919/1760040075.py:10: FutureWarning: The frame.append method is deprecated and will be removed from pandas in a future version. Use pandas.concat instead.\n",
      "  res = res.append({'uu_id' : cur_uu_id, 'week_number' : 37, 'total_claims' : y_pred},ignore_index = True)\n",
      "/var/folders/l2/cnhff0_n1470l4xf0p7v7l_40000gn/T/ipykernel_15919/1760040075.py:10: FutureWarning: The frame.append method is deprecated and will be removed from pandas in a future version. Use pandas.concat instead.\n",
      "  res = res.append({'uu_id' : cur_uu_id, 'week_number' : 37, 'total_claims' : y_pred},ignore_index = True)\n",
      "/var/folders/l2/cnhff0_n1470l4xf0p7v7l_40000gn/T/ipykernel_15919/1760040075.py:10: FutureWarning: The frame.append method is deprecated and will be removed from pandas in a future version. Use pandas.concat instead.\n",
      "  res = res.append({'uu_id' : cur_uu_id, 'week_number' : 37, 'total_claims' : y_pred},ignore_index = True)\n",
      "/var/folders/l2/cnhff0_n1470l4xf0p7v7l_40000gn/T/ipykernel_15919/1760040075.py:10: FutureWarning: The frame.append method is deprecated and will be removed from pandas in a future version. Use pandas.concat instead.\n",
      "  res = res.append({'uu_id' : cur_uu_id, 'week_number' : 37, 'total_claims' : y_pred},ignore_index = True)\n",
      "/var/folders/l2/cnhff0_n1470l4xf0p7v7l_40000gn/T/ipykernel_15919/1760040075.py:10: FutureWarning: The frame.append method is deprecated and will be removed from pandas in a future version. Use pandas.concat instead.\n",
      "  res = res.append({'uu_id' : cur_uu_id, 'week_number' : 37, 'total_claims' : y_pred},ignore_index = True)\n",
      "/var/folders/l2/cnhff0_n1470l4xf0p7v7l_40000gn/T/ipykernel_15919/1760040075.py:10: FutureWarning: The frame.append method is deprecated and will be removed from pandas in a future version. Use pandas.concat instead.\n",
      "  res = res.append({'uu_id' : cur_uu_id, 'week_number' : 37, 'total_claims' : y_pred},ignore_index = True)\n",
      "/var/folders/l2/cnhff0_n1470l4xf0p7v7l_40000gn/T/ipykernel_15919/1760040075.py:10: FutureWarning: The frame.append method is deprecated and will be removed from pandas in a future version. Use pandas.concat instead.\n",
      "  res = res.append({'uu_id' : cur_uu_id, 'week_number' : 37, 'total_claims' : y_pred},ignore_index = True)\n",
      "/var/folders/l2/cnhff0_n1470l4xf0p7v7l_40000gn/T/ipykernel_15919/1760040075.py:10: FutureWarning: The frame.append method is deprecated and will be removed from pandas in a future version. Use pandas.concat instead.\n",
      "  res = res.append({'uu_id' : cur_uu_id, 'week_number' : 37, 'total_claims' : y_pred},ignore_index = True)\n",
      "/var/folders/l2/cnhff0_n1470l4xf0p7v7l_40000gn/T/ipykernel_15919/1760040075.py:10: FutureWarning: The frame.append method is deprecated and will be removed from pandas in a future version. Use pandas.concat instead.\n",
      "  res = res.append({'uu_id' : cur_uu_id, 'week_number' : 37, 'total_claims' : y_pred},ignore_index = True)\n",
      "/var/folders/l2/cnhff0_n1470l4xf0p7v7l_40000gn/T/ipykernel_15919/1760040075.py:10: FutureWarning: The frame.append method is deprecated and will be removed from pandas in a future version. Use pandas.concat instead.\n",
      "  res = res.append({'uu_id' : cur_uu_id, 'week_number' : 37, 'total_claims' : y_pred},ignore_index = True)\n",
      "/var/folders/l2/cnhff0_n1470l4xf0p7v7l_40000gn/T/ipykernel_15919/1760040075.py:10: FutureWarning: The frame.append method is deprecated and will be removed from pandas in a future version. Use pandas.concat instead.\n",
      "  res = res.append({'uu_id' : cur_uu_id, 'week_number' : 37, 'total_claims' : y_pred},ignore_index = True)\n",
      "/var/folders/l2/cnhff0_n1470l4xf0p7v7l_40000gn/T/ipykernel_15919/1760040075.py:10: FutureWarning: The frame.append method is deprecated and will be removed from pandas in a future version. Use pandas.concat instead.\n",
      "  res = res.append({'uu_id' : cur_uu_id, 'week_number' : 37, 'total_claims' : y_pred},ignore_index = True)\n",
      "/var/folders/l2/cnhff0_n1470l4xf0p7v7l_40000gn/T/ipykernel_15919/1760040075.py:10: FutureWarning: The frame.append method is deprecated and will be removed from pandas in a future version. Use pandas.concat instead.\n",
      "  res = res.append({'uu_id' : cur_uu_id, 'week_number' : 37, 'total_claims' : y_pred},ignore_index = True)\n",
      "/var/folders/l2/cnhff0_n1470l4xf0p7v7l_40000gn/T/ipykernel_15919/1760040075.py:10: FutureWarning: The frame.append method is deprecated and will be removed from pandas in a future version. Use pandas.concat instead.\n",
      "  res = res.append({'uu_id' : cur_uu_id, 'week_number' : 37, 'total_claims' : y_pred},ignore_index = True)\n",
      "/var/folders/l2/cnhff0_n1470l4xf0p7v7l_40000gn/T/ipykernel_15919/1760040075.py:10: FutureWarning: The frame.append method is deprecated and will be removed from pandas in a future version. Use pandas.concat instead.\n",
      "  res = res.append({'uu_id' : cur_uu_id, 'week_number' : 37, 'total_claims' : y_pred},ignore_index = True)\n",
      "/var/folders/l2/cnhff0_n1470l4xf0p7v7l_40000gn/T/ipykernel_15919/1760040075.py:10: FutureWarning: The frame.append method is deprecated and will be removed from pandas in a future version. Use pandas.concat instead.\n",
      "  res = res.append({'uu_id' : cur_uu_id, 'week_number' : 37, 'total_claims' : y_pred},ignore_index = True)\n",
      "/var/folders/l2/cnhff0_n1470l4xf0p7v7l_40000gn/T/ipykernel_15919/1760040075.py:10: FutureWarning: The frame.append method is deprecated and will be removed from pandas in a future version. Use pandas.concat instead.\n",
      "  res = res.append({'uu_id' : cur_uu_id, 'week_number' : 37, 'total_claims' : y_pred},ignore_index = True)\n",
      "/var/folders/l2/cnhff0_n1470l4xf0p7v7l_40000gn/T/ipykernel_15919/1760040075.py:10: FutureWarning: The frame.append method is deprecated and will be removed from pandas in a future version. Use pandas.concat instead.\n",
      "  res = res.append({'uu_id' : cur_uu_id, 'week_number' : 37, 'total_claims' : y_pred},ignore_index = True)\n",
      "/var/folders/l2/cnhff0_n1470l4xf0p7v7l_40000gn/T/ipykernel_15919/1760040075.py:10: FutureWarning: The frame.append method is deprecated and will be removed from pandas in a future version. Use pandas.concat instead.\n",
      "  res = res.append({'uu_id' : cur_uu_id, 'week_number' : 37, 'total_claims' : y_pred},ignore_index = True)\n",
      "/var/folders/l2/cnhff0_n1470l4xf0p7v7l_40000gn/T/ipykernel_15919/1760040075.py:10: FutureWarning: The frame.append method is deprecated and will be removed from pandas in a future version. Use pandas.concat instead.\n",
      "  res = res.append({'uu_id' : cur_uu_id, 'week_number' : 37, 'total_claims' : y_pred},ignore_index = True)\n",
      "/var/folders/l2/cnhff0_n1470l4xf0p7v7l_40000gn/T/ipykernel_15919/1760040075.py:10: FutureWarning: The frame.append method is deprecated and will be removed from pandas in a future version. Use pandas.concat instead.\n",
      "  res = res.append({'uu_id' : cur_uu_id, 'week_number' : 37, 'total_claims' : y_pred},ignore_index = True)\n",
      "/var/folders/l2/cnhff0_n1470l4xf0p7v7l_40000gn/T/ipykernel_15919/1760040075.py:10: FutureWarning: The frame.append method is deprecated and will be removed from pandas in a future version. Use pandas.concat instead.\n",
      "  res = res.append({'uu_id' : cur_uu_id, 'week_number' : 37, 'total_claims' : y_pred},ignore_index = True)\n",
      "/var/folders/l2/cnhff0_n1470l4xf0p7v7l_40000gn/T/ipykernel_15919/1760040075.py:10: FutureWarning: The frame.append method is deprecated and will be removed from pandas in a future version. Use pandas.concat instead.\n",
      "  res = res.append({'uu_id' : cur_uu_id, 'week_number' : 37, 'total_claims' : y_pred},ignore_index = True)\n",
      "/var/folders/l2/cnhff0_n1470l4xf0p7v7l_40000gn/T/ipykernel_15919/1760040075.py:10: FutureWarning: The frame.append method is deprecated and will be removed from pandas in a future version. Use pandas.concat instead.\n",
      "  res = res.append({'uu_id' : cur_uu_id, 'week_number' : 37, 'total_claims' : y_pred},ignore_index = True)\n",
      "/var/folders/l2/cnhff0_n1470l4xf0p7v7l_40000gn/T/ipykernel_15919/1760040075.py:10: FutureWarning: The frame.append method is deprecated and will be removed from pandas in a future version. Use pandas.concat instead.\n",
      "  res = res.append({'uu_id' : cur_uu_id, 'week_number' : 37, 'total_claims' : y_pred},ignore_index = True)\n",
      "/var/folders/l2/cnhff0_n1470l4xf0p7v7l_40000gn/T/ipykernel_15919/1760040075.py:10: FutureWarning: The frame.append method is deprecated and will be removed from pandas in a future version. Use pandas.concat instead.\n",
      "  res = res.append({'uu_id' : cur_uu_id, 'week_number' : 37, 'total_claims' : y_pred},ignore_index = True)\n",
      "/var/folders/l2/cnhff0_n1470l4xf0p7v7l_40000gn/T/ipykernel_15919/1760040075.py:10: FutureWarning: The frame.append method is deprecated and will be removed from pandas in a future version. Use pandas.concat instead.\n",
      "  res = res.append({'uu_id' : cur_uu_id, 'week_number' : 37, 'total_claims' : y_pred},ignore_index = True)\n",
      "/var/folders/l2/cnhff0_n1470l4xf0p7v7l_40000gn/T/ipykernel_15919/1760040075.py:10: FutureWarning: The frame.append method is deprecated and will be removed from pandas in a future version. Use pandas.concat instead.\n",
      "  res = res.append({'uu_id' : cur_uu_id, 'week_number' : 37, 'total_claims' : y_pred},ignore_index = True)\n",
      "/var/folders/l2/cnhff0_n1470l4xf0p7v7l_40000gn/T/ipykernel_15919/1760040075.py:10: FutureWarning: The frame.append method is deprecated and will be removed from pandas in a future version. Use pandas.concat instead.\n",
      "  res = res.append({'uu_id' : cur_uu_id, 'week_number' : 37, 'total_claims' : y_pred},ignore_index = True)\n",
      "/var/folders/l2/cnhff0_n1470l4xf0p7v7l_40000gn/T/ipykernel_15919/1760040075.py:10: FutureWarning: The frame.append method is deprecated and will be removed from pandas in a future version. Use pandas.concat instead.\n",
      "  res = res.append({'uu_id' : cur_uu_id, 'week_number' : 37, 'total_claims' : y_pred},ignore_index = True)\n",
      "/var/folders/l2/cnhff0_n1470l4xf0p7v7l_40000gn/T/ipykernel_15919/1760040075.py:10: FutureWarning: The frame.append method is deprecated and will be removed from pandas in a future version. Use pandas.concat instead.\n",
      "  res = res.append({'uu_id' : cur_uu_id, 'week_number' : 37, 'total_claims' : y_pred},ignore_index = True)\n",
      "/var/folders/l2/cnhff0_n1470l4xf0p7v7l_40000gn/T/ipykernel_15919/1760040075.py:10: FutureWarning: The frame.append method is deprecated and will be removed from pandas in a future version. Use pandas.concat instead.\n",
      "  res = res.append({'uu_id' : cur_uu_id, 'week_number' : 37, 'total_claims' : y_pred},ignore_index = True)\n",
      "/var/folders/l2/cnhff0_n1470l4xf0p7v7l_40000gn/T/ipykernel_15919/1760040075.py:10: FutureWarning: The frame.append method is deprecated and will be removed from pandas in a future version. Use pandas.concat instead.\n",
      "  res = res.append({'uu_id' : cur_uu_id, 'week_number' : 37, 'total_claims' : y_pred},ignore_index = True)\n",
      "/var/folders/l2/cnhff0_n1470l4xf0p7v7l_40000gn/T/ipykernel_15919/1760040075.py:10: FutureWarning: The frame.append method is deprecated and will be removed from pandas in a future version. Use pandas.concat instead.\n",
      "  res = res.append({'uu_id' : cur_uu_id, 'week_number' : 37, 'total_claims' : y_pred},ignore_index = True)\n",
      "/var/folders/l2/cnhff0_n1470l4xf0p7v7l_40000gn/T/ipykernel_15919/1760040075.py:10: FutureWarning: The frame.append method is deprecated and will be removed from pandas in a future version. Use pandas.concat instead.\n",
      "  res = res.append({'uu_id' : cur_uu_id, 'week_number' : 37, 'total_claims' : y_pred},ignore_index = True)\n",
      "/var/folders/l2/cnhff0_n1470l4xf0p7v7l_40000gn/T/ipykernel_15919/1760040075.py:10: FutureWarning: The frame.append method is deprecated and will be removed from pandas in a future version. Use pandas.concat instead.\n",
      "  res = res.append({'uu_id' : cur_uu_id, 'week_number' : 37, 'total_claims' : y_pred},ignore_index = True)\n",
      "/var/folders/l2/cnhff0_n1470l4xf0p7v7l_40000gn/T/ipykernel_15919/1760040075.py:10: FutureWarning: The frame.append method is deprecated and will be removed from pandas in a future version. Use pandas.concat instead.\n",
      "  res = res.append({'uu_id' : cur_uu_id, 'week_number' : 37, 'total_claims' : y_pred},ignore_index = True)\n",
      "/var/folders/l2/cnhff0_n1470l4xf0p7v7l_40000gn/T/ipykernel_15919/1760040075.py:10: FutureWarning: The frame.append method is deprecated and will be removed from pandas in a future version. Use pandas.concat instead.\n",
      "  res = res.append({'uu_id' : cur_uu_id, 'week_number' : 37, 'total_claims' : y_pred},ignore_index = True)\n",
      "/var/folders/l2/cnhff0_n1470l4xf0p7v7l_40000gn/T/ipykernel_15919/1760040075.py:10: FutureWarning: The frame.append method is deprecated and will be removed from pandas in a future version. Use pandas.concat instead.\n",
      "  res = res.append({'uu_id' : cur_uu_id, 'week_number' : 37, 'total_claims' : y_pred},ignore_index = True)\n",
      "/var/folders/l2/cnhff0_n1470l4xf0p7v7l_40000gn/T/ipykernel_15919/1760040075.py:10: FutureWarning: The frame.append method is deprecated and will be removed from pandas in a future version. Use pandas.concat instead.\n",
      "  res = res.append({'uu_id' : cur_uu_id, 'week_number' : 37, 'total_claims' : y_pred},ignore_index = True)\n",
      "/var/folders/l2/cnhff0_n1470l4xf0p7v7l_40000gn/T/ipykernel_15919/1760040075.py:10: FutureWarning: The frame.append method is deprecated and will be removed from pandas in a future version. Use pandas.concat instead.\n",
      "  res = res.append({'uu_id' : cur_uu_id, 'week_number' : 37, 'total_claims' : y_pred},ignore_index = True)\n",
      "/var/folders/l2/cnhff0_n1470l4xf0p7v7l_40000gn/T/ipykernel_15919/1760040075.py:10: FutureWarning: The frame.append method is deprecated and will be removed from pandas in a future version. Use pandas.concat instead.\n",
      "  res = res.append({'uu_id' : cur_uu_id, 'week_number' : 37, 'total_claims' : y_pred},ignore_index = True)\n",
      "/var/folders/l2/cnhff0_n1470l4xf0p7v7l_40000gn/T/ipykernel_15919/1760040075.py:10: FutureWarning: The frame.append method is deprecated and will be removed from pandas in a future version. Use pandas.concat instead.\n",
      "  res = res.append({'uu_id' : cur_uu_id, 'week_number' : 37, 'total_claims' : y_pred},ignore_index = True)\n",
      "/var/folders/l2/cnhff0_n1470l4xf0p7v7l_40000gn/T/ipykernel_15919/1760040075.py:10: FutureWarning: The frame.append method is deprecated and will be removed from pandas in a future version. Use pandas.concat instead.\n",
      "  res = res.append({'uu_id' : cur_uu_id, 'week_number' : 37, 'total_claims' : y_pred},ignore_index = True)\n",
      "/var/folders/l2/cnhff0_n1470l4xf0p7v7l_40000gn/T/ipykernel_15919/1760040075.py:10: FutureWarning: The frame.append method is deprecated and will be removed from pandas in a future version. Use pandas.concat instead.\n",
      "  res = res.append({'uu_id' : cur_uu_id, 'week_number' : 37, 'total_claims' : y_pred},ignore_index = True)\n",
      "/var/folders/l2/cnhff0_n1470l4xf0p7v7l_40000gn/T/ipykernel_15919/1760040075.py:10: FutureWarning: The frame.append method is deprecated and will be removed from pandas in a future version. Use pandas.concat instead.\n",
      "  res = res.append({'uu_id' : cur_uu_id, 'week_number' : 37, 'total_claims' : y_pred},ignore_index = True)\n",
      "/var/folders/l2/cnhff0_n1470l4xf0p7v7l_40000gn/T/ipykernel_15919/1760040075.py:10: FutureWarning: The frame.append method is deprecated and will be removed from pandas in a future version. Use pandas.concat instead.\n",
      "  res = res.append({'uu_id' : cur_uu_id, 'week_number' : 37, 'total_claims' : y_pred},ignore_index = True)\n",
      "/var/folders/l2/cnhff0_n1470l4xf0p7v7l_40000gn/T/ipykernel_15919/1760040075.py:10: FutureWarning: The frame.append method is deprecated and will be removed from pandas in a future version. Use pandas.concat instead.\n",
      "  res = res.append({'uu_id' : cur_uu_id, 'week_number' : 37, 'total_claims' : y_pred},ignore_index = True)\n",
      "/var/folders/l2/cnhff0_n1470l4xf0p7v7l_40000gn/T/ipykernel_15919/1760040075.py:10: FutureWarning: The frame.append method is deprecated and will be removed from pandas in a future version. Use pandas.concat instead.\n",
      "  res = res.append({'uu_id' : cur_uu_id, 'week_number' : 37, 'total_claims' : y_pred},ignore_index = True)\n",
      "/var/folders/l2/cnhff0_n1470l4xf0p7v7l_40000gn/T/ipykernel_15919/1760040075.py:10: FutureWarning: The frame.append method is deprecated and will be removed from pandas in a future version. Use pandas.concat instead.\n",
      "  res = res.append({'uu_id' : cur_uu_id, 'week_number' : 37, 'total_claims' : y_pred},ignore_index = True)\n",
      "/var/folders/l2/cnhff0_n1470l4xf0p7v7l_40000gn/T/ipykernel_15919/1760040075.py:10: FutureWarning: The frame.append method is deprecated and will be removed from pandas in a future version. Use pandas.concat instead.\n",
      "  res = res.append({'uu_id' : cur_uu_id, 'week_number' : 37, 'total_claims' : y_pred},ignore_index = True)\n",
      "/var/folders/l2/cnhff0_n1470l4xf0p7v7l_40000gn/T/ipykernel_15919/1760040075.py:10: FutureWarning: The frame.append method is deprecated and will be removed from pandas in a future version. Use pandas.concat instead.\n",
      "  res = res.append({'uu_id' : cur_uu_id, 'week_number' : 37, 'total_claims' : y_pred},ignore_index = True)\n",
      "/var/folders/l2/cnhff0_n1470l4xf0p7v7l_40000gn/T/ipykernel_15919/1760040075.py:10: FutureWarning: The frame.append method is deprecated and will be removed from pandas in a future version. Use pandas.concat instead.\n",
      "  res = res.append({'uu_id' : cur_uu_id, 'week_number' : 37, 'total_claims' : y_pred},ignore_index = True)\n",
      "/var/folders/l2/cnhff0_n1470l4xf0p7v7l_40000gn/T/ipykernel_15919/1760040075.py:10: FutureWarning: The frame.append method is deprecated and will be removed from pandas in a future version. Use pandas.concat instead.\n",
      "  res = res.append({'uu_id' : cur_uu_id, 'week_number' : 37, 'total_claims' : y_pred},ignore_index = True)\n",
      "/var/folders/l2/cnhff0_n1470l4xf0p7v7l_40000gn/T/ipykernel_15919/1760040075.py:10: FutureWarning: The frame.append method is deprecated and will be removed from pandas in a future version. Use pandas.concat instead.\n",
      "  res = res.append({'uu_id' : cur_uu_id, 'week_number' : 37, 'total_claims' : y_pred},ignore_index = True)\n",
      "/var/folders/l2/cnhff0_n1470l4xf0p7v7l_40000gn/T/ipykernel_15919/1760040075.py:10: FutureWarning: The frame.append method is deprecated and will be removed from pandas in a future version. Use pandas.concat instead.\n",
      "  res = res.append({'uu_id' : cur_uu_id, 'week_number' : 37, 'total_claims' : y_pred},ignore_index = True)\n",
      "/var/folders/l2/cnhff0_n1470l4xf0p7v7l_40000gn/T/ipykernel_15919/1760040075.py:10: FutureWarning: The frame.append method is deprecated and will be removed from pandas in a future version. Use pandas.concat instead.\n",
      "  res = res.append({'uu_id' : cur_uu_id, 'week_number' : 37, 'total_claims' : y_pred},ignore_index = True)\n",
      "/var/folders/l2/cnhff0_n1470l4xf0p7v7l_40000gn/T/ipykernel_15919/1760040075.py:10: FutureWarning: The frame.append method is deprecated and will be removed from pandas in a future version. Use pandas.concat instead.\n",
      "  res = res.append({'uu_id' : cur_uu_id, 'week_number' : 37, 'total_claims' : y_pred},ignore_index = True)\n",
      "/var/folders/l2/cnhff0_n1470l4xf0p7v7l_40000gn/T/ipykernel_15919/1760040075.py:10: FutureWarning: The frame.append method is deprecated and will be removed from pandas in a future version. Use pandas.concat instead.\n",
      "  res = res.append({'uu_id' : cur_uu_id, 'week_number' : 37, 'total_claims' : y_pred},ignore_index = True)\n",
      "/var/folders/l2/cnhff0_n1470l4xf0p7v7l_40000gn/T/ipykernel_15919/1760040075.py:10: FutureWarning: The frame.append method is deprecated and will be removed from pandas in a future version. Use pandas.concat instead.\n",
      "  res = res.append({'uu_id' : cur_uu_id, 'week_number' : 37, 'total_claims' : y_pred},ignore_index = True)\n",
      "/var/folders/l2/cnhff0_n1470l4xf0p7v7l_40000gn/T/ipykernel_15919/1760040075.py:10: FutureWarning: The frame.append method is deprecated and will be removed from pandas in a future version. Use pandas.concat instead.\n",
      "  res = res.append({'uu_id' : cur_uu_id, 'week_number' : 37, 'total_claims' : y_pred},ignore_index = True)\n",
      "/var/folders/l2/cnhff0_n1470l4xf0p7v7l_40000gn/T/ipykernel_15919/1760040075.py:10: FutureWarning: The frame.append method is deprecated and will be removed from pandas in a future version. Use pandas.concat instead.\n",
      "  res = res.append({'uu_id' : cur_uu_id, 'week_number' : 37, 'total_claims' : y_pred},ignore_index = True)\n",
      "/var/folders/l2/cnhff0_n1470l4xf0p7v7l_40000gn/T/ipykernel_15919/1760040075.py:10: FutureWarning: The frame.append method is deprecated and will be removed from pandas in a future version. Use pandas.concat instead.\n",
      "  res = res.append({'uu_id' : cur_uu_id, 'week_number' : 37, 'total_claims' : y_pred},ignore_index = True)\n",
      "/var/folders/l2/cnhff0_n1470l4xf0p7v7l_40000gn/T/ipykernel_15919/1760040075.py:10: FutureWarning: The frame.append method is deprecated and will be removed from pandas in a future version. Use pandas.concat instead.\n",
      "  res = res.append({'uu_id' : cur_uu_id, 'week_number' : 37, 'total_claims' : y_pred},ignore_index = True)\n",
      "/var/folders/l2/cnhff0_n1470l4xf0p7v7l_40000gn/T/ipykernel_15919/1760040075.py:10: FutureWarning: The frame.append method is deprecated and will be removed from pandas in a future version. Use pandas.concat instead.\n",
      "  res = res.append({'uu_id' : cur_uu_id, 'week_number' : 37, 'total_claims' : y_pred},ignore_index = True)\n",
      "/var/folders/l2/cnhff0_n1470l4xf0p7v7l_40000gn/T/ipykernel_15919/1760040075.py:10: FutureWarning: The frame.append method is deprecated and will be removed from pandas in a future version. Use pandas.concat instead.\n",
      "  res = res.append({'uu_id' : cur_uu_id, 'week_number' : 37, 'total_claims' : y_pred},ignore_index = True)\n",
      "/var/folders/l2/cnhff0_n1470l4xf0p7v7l_40000gn/T/ipykernel_15919/1760040075.py:10: FutureWarning: The frame.append method is deprecated and will be removed from pandas in a future version. Use pandas.concat instead.\n",
      "  res = res.append({'uu_id' : cur_uu_id, 'week_number' : 37, 'total_claims' : y_pred},ignore_index = True)\n",
      "/var/folders/l2/cnhff0_n1470l4xf0p7v7l_40000gn/T/ipykernel_15919/1760040075.py:10: FutureWarning: The frame.append method is deprecated and will be removed from pandas in a future version. Use pandas.concat instead.\n",
      "  res = res.append({'uu_id' : cur_uu_id, 'week_number' : 37, 'total_claims' : y_pred},ignore_index = True)\n",
      "/var/folders/l2/cnhff0_n1470l4xf0p7v7l_40000gn/T/ipykernel_15919/1760040075.py:10: FutureWarning: The frame.append method is deprecated and will be removed from pandas in a future version. Use pandas.concat instead.\n",
      "  res = res.append({'uu_id' : cur_uu_id, 'week_number' : 37, 'total_claims' : y_pred},ignore_index = True)\n",
      "/var/folders/l2/cnhff0_n1470l4xf0p7v7l_40000gn/T/ipykernel_15919/1760040075.py:10: FutureWarning: The frame.append method is deprecated and will be removed from pandas in a future version. Use pandas.concat instead.\n",
      "  res = res.append({'uu_id' : cur_uu_id, 'week_number' : 37, 'total_claims' : y_pred},ignore_index = True)\n",
      "/var/folders/l2/cnhff0_n1470l4xf0p7v7l_40000gn/T/ipykernel_15919/1760040075.py:10: FutureWarning: The frame.append method is deprecated and will be removed from pandas in a future version. Use pandas.concat instead.\n",
      "  res = res.append({'uu_id' : cur_uu_id, 'week_number' : 37, 'total_claims' : y_pred},ignore_index = True)\n",
      "/var/folders/l2/cnhff0_n1470l4xf0p7v7l_40000gn/T/ipykernel_15919/1760040075.py:10: FutureWarning: The frame.append method is deprecated and will be removed from pandas in a future version. Use pandas.concat instead.\n",
      "  res = res.append({'uu_id' : cur_uu_id, 'week_number' : 37, 'total_claims' : y_pred},ignore_index = True)\n",
      "/var/folders/l2/cnhff0_n1470l4xf0p7v7l_40000gn/T/ipykernel_15919/1760040075.py:10: FutureWarning: The frame.append method is deprecated and will be removed from pandas in a future version. Use pandas.concat instead.\n",
      "  res = res.append({'uu_id' : cur_uu_id, 'week_number' : 37, 'total_claims' : y_pred},ignore_index = True)\n",
      "/var/folders/l2/cnhff0_n1470l4xf0p7v7l_40000gn/T/ipykernel_15919/1760040075.py:10: FutureWarning: The frame.append method is deprecated and will be removed from pandas in a future version. Use pandas.concat instead.\n",
      "  res = res.append({'uu_id' : cur_uu_id, 'week_number' : 37, 'total_claims' : y_pred},ignore_index = True)\n",
      "/var/folders/l2/cnhff0_n1470l4xf0p7v7l_40000gn/T/ipykernel_15919/1760040075.py:10: FutureWarning: The frame.append method is deprecated and will be removed from pandas in a future version. Use pandas.concat instead.\n",
      "  res = res.append({'uu_id' : cur_uu_id, 'week_number' : 37, 'total_claims' : y_pred},ignore_index = True)\n",
      "/var/folders/l2/cnhff0_n1470l4xf0p7v7l_40000gn/T/ipykernel_15919/1760040075.py:10: FutureWarning: The frame.append method is deprecated and will be removed from pandas in a future version. Use pandas.concat instead.\n",
      "  res = res.append({'uu_id' : cur_uu_id, 'week_number' : 37, 'total_claims' : y_pred},ignore_index = True)\n",
      "/var/folders/l2/cnhff0_n1470l4xf0p7v7l_40000gn/T/ipykernel_15919/1760040075.py:10: FutureWarning: The frame.append method is deprecated and will be removed from pandas in a future version. Use pandas.concat instead.\n",
      "  res = res.append({'uu_id' : cur_uu_id, 'week_number' : 37, 'total_claims' : y_pred},ignore_index = True)\n",
      "/var/folders/l2/cnhff0_n1470l4xf0p7v7l_40000gn/T/ipykernel_15919/1760040075.py:10: FutureWarning: The frame.append method is deprecated and will be removed from pandas in a future version. Use pandas.concat instead.\n",
      "  res = res.append({'uu_id' : cur_uu_id, 'week_number' : 37, 'total_claims' : y_pred},ignore_index = True)\n",
      "/var/folders/l2/cnhff0_n1470l4xf0p7v7l_40000gn/T/ipykernel_15919/1760040075.py:10: FutureWarning: The frame.append method is deprecated and will be removed from pandas in a future version. Use pandas.concat instead.\n",
      "  res = res.append({'uu_id' : cur_uu_id, 'week_number' : 37, 'total_claims' : y_pred},ignore_index = True)\n",
      "/var/folders/l2/cnhff0_n1470l4xf0p7v7l_40000gn/T/ipykernel_15919/1760040075.py:10: FutureWarning: The frame.append method is deprecated and will be removed from pandas in a future version. Use pandas.concat instead.\n",
      "  res = res.append({'uu_id' : cur_uu_id, 'week_number' : 37, 'total_claims' : y_pred},ignore_index = True)\n",
      "/var/folders/l2/cnhff0_n1470l4xf0p7v7l_40000gn/T/ipykernel_15919/1760040075.py:10: FutureWarning: The frame.append method is deprecated and will be removed from pandas in a future version. Use pandas.concat instead.\n",
      "  res = res.append({'uu_id' : cur_uu_id, 'week_number' : 37, 'total_claims' : y_pred},ignore_index = True)\n",
      "/var/folders/l2/cnhff0_n1470l4xf0p7v7l_40000gn/T/ipykernel_15919/1760040075.py:10: FutureWarning: The frame.append method is deprecated and will be removed from pandas in a future version. Use pandas.concat instead.\n",
      "  res = res.append({'uu_id' : cur_uu_id, 'week_number' : 37, 'total_claims' : y_pred},ignore_index = True)\n",
      "/var/folders/l2/cnhff0_n1470l4xf0p7v7l_40000gn/T/ipykernel_15919/1760040075.py:10: FutureWarning: The frame.append method is deprecated and will be removed from pandas in a future version. Use pandas.concat instead.\n",
      "  res = res.append({'uu_id' : cur_uu_id, 'week_number' : 37, 'total_claims' : y_pred},ignore_index = True)\n",
      "/var/folders/l2/cnhff0_n1470l4xf0p7v7l_40000gn/T/ipykernel_15919/1760040075.py:10: FutureWarning: The frame.append method is deprecated and will be removed from pandas in a future version. Use pandas.concat instead.\n",
      "  res = res.append({'uu_id' : cur_uu_id, 'week_number' : 37, 'total_claims' : y_pred},ignore_index = True)\n",
      "/var/folders/l2/cnhff0_n1470l4xf0p7v7l_40000gn/T/ipykernel_15919/1760040075.py:10: FutureWarning: The frame.append method is deprecated and will be removed from pandas in a future version. Use pandas.concat instead.\n",
      "  res = res.append({'uu_id' : cur_uu_id, 'week_number' : 37, 'total_claims' : y_pred},ignore_index = True)\n",
      "/var/folders/l2/cnhff0_n1470l4xf0p7v7l_40000gn/T/ipykernel_15919/1760040075.py:10: FutureWarning: The frame.append method is deprecated and will be removed from pandas in a future version. Use pandas.concat instead.\n",
      "  res = res.append({'uu_id' : cur_uu_id, 'week_number' : 37, 'total_claims' : y_pred},ignore_index = True)\n",
      "/var/folders/l2/cnhff0_n1470l4xf0p7v7l_40000gn/T/ipykernel_15919/1760040075.py:10: FutureWarning: The frame.append method is deprecated and will be removed from pandas in a future version. Use pandas.concat instead.\n",
      "  res = res.append({'uu_id' : cur_uu_id, 'week_number' : 37, 'total_claims' : y_pred},ignore_index = True)\n",
      "/var/folders/l2/cnhff0_n1470l4xf0p7v7l_40000gn/T/ipykernel_15919/1760040075.py:10: FutureWarning: The frame.append method is deprecated and will be removed from pandas in a future version. Use pandas.concat instead.\n",
      "  res = res.append({'uu_id' : cur_uu_id, 'week_number' : 37, 'total_claims' : y_pred},ignore_index = True)\n",
      "/var/folders/l2/cnhff0_n1470l4xf0p7v7l_40000gn/T/ipykernel_15919/1760040075.py:10: FutureWarning: The frame.append method is deprecated and will be removed from pandas in a future version. Use pandas.concat instead.\n",
      "  res = res.append({'uu_id' : cur_uu_id, 'week_number' : 37, 'total_claims' : y_pred},ignore_index = True)\n",
      "/var/folders/l2/cnhff0_n1470l4xf0p7v7l_40000gn/T/ipykernel_15919/1760040075.py:10: FutureWarning: The frame.append method is deprecated and will be removed from pandas in a future version. Use pandas.concat instead.\n",
      "  res = res.append({'uu_id' : cur_uu_id, 'week_number' : 37, 'total_claims' : y_pred},ignore_index = True)\n",
      "/var/folders/l2/cnhff0_n1470l4xf0p7v7l_40000gn/T/ipykernel_15919/1760040075.py:10: FutureWarning: The frame.append method is deprecated and will be removed from pandas in a future version. Use pandas.concat instead.\n",
      "  res = res.append({'uu_id' : cur_uu_id, 'week_number' : 37, 'total_claims' : y_pred},ignore_index = True)\n",
      "/var/folders/l2/cnhff0_n1470l4xf0p7v7l_40000gn/T/ipykernel_15919/1760040075.py:10: FutureWarning: The frame.append method is deprecated and will be removed from pandas in a future version. Use pandas.concat instead.\n",
      "  res = res.append({'uu_id' : cur_uu_id, 'week_number' : 37, 'total_claims' : y_pred},ignore_index = True)\n",
      "/var/folders/l2/cnhff0_n1470l4xf0p7v7l_40000gn/T/ipykernel_15919/1760040075.py:10: FutureWarning: The frame.append method is deprecated and will be removed from pandas in a future version. Use pandas.concat instead.\n",
      "  res = res.append({'uu_id' : cur_uu_id, 'week_number' : 37, 'total_claims' : y_pred},ignore_index = True)\n",
      "/var/folders/l2/cnhff0_n1470l4xf0p7v7l_40000gn/T/ipykernel_15919/1760040075.py:10: FutureWarning: The frame.append method is deprecated and will be removed from pandas in a future version. Use pandas.concat instead.\n",
      "  res = res.append({'uu_id' : cur_uu_id, 'week_number' : 37, 'total_claims' : y_pred},ignore_index = True)\n",
      "/var/folders/l2/cnhff0_n1470l4xf0p7v7l_40000gn/T/ipykernel_15919/1760040075.py:10: FutureWarning: The frame.append method is deprecated and will be removed from pandas in a future version. Use pandas.concat instead.\n",
      "  res = res.append({'uu_id' : cur_uu_id, 'week_number' : 37, 'total_claims' : y_pred},ignore_index = True)\n",
      "/var/folders/l2/cnhff0_n1470l4xf0p7v7l_40000gn/T/ipykernel_15919/1760040075.py:10: FutureWarning: The frame.append method is deprecated and will be removed from pandas in a future version. Use pandas.concat instead.\n",
      "  res = res.append({'uu_id' : cur_uu_id, 'week_number' : 37, 'total_claims' : y_pred},ignore_index = True)\n",
      "/var/folders/l2/cnhff0_n1470l4xf0p7v7l_40000gn/T/ipykernel_15919/1760040075.py:10: FutureWarning: The frame.append method is deprecated and will be removed from pandas in a future version. Use pandas.concat instead.\n",
      "  res = res.append({'uu_id' : cur_uu_id, 'week_number' : 37, 'total_claims' : y_pred},ignore_index = True)\n",
      "/var/folders/l2/cnhff0_n1470l4xf0p7v7l_40000gn/T/ipykernel_15919/1760040075.py:10: FutureWarning: The frame.append method is deprecated and will be removed from pandas in a future version. Use pandas.concat instead.\n",
      "  res = res.append({'uu_id' : cur_uu_id, 'week_number' : 37, 'total_claims' : y_pred},ignore_index = True)\n",
      "/var/folders/l2/cnhff0_n1470l4xf0p7v7l_40000gn/T/ipykernel_15919/1760040075.py:10: FutureWarning: The frame.append method is deprecated and will be removed from pandas in a future version. Use pandas.concat instead.\n",
      "  res = res.append({'uu_id' : cur_uu_id, 'week_number' : 37, 'total_claims' : y_pred},ignore_index = True)\n",
      "/var/folders/l2/cnhff0_n1470l4xf0p7v7l_40000gn/T/ipykernel_15919/1760040075.py:10: FutureWarning: The frame.append method is deprecated and will be removed from pandas in a future version. Use pandas.concat instead.\n",
      "  res = res.append({'uu_id' : cur_uu_id, 'week_number' : 37, 'total_claims' : y_pred},ignore_index = True)\n",
      "/var/folders/l2/cnhff0_n1470l4xf0p7v7l_40000gn/T/ipykernel_15919/1760040075.py:10: FutureWarning: The frame.append method is deprecated and will be removed from pandas in a future version. Use pandas.concat instead.\n",
      "  res = res.append({'uu_id' : cur_uu_id, 'week_number' : 37, 'total_claims' : y_pred},ignore_index = True)\n",
      "/var/folders/l2/cnhff0_n1470l4xf0p7v7l_40000gn/T/ipykernel_15919/1760040075.py:10: FutureWarning: The frame.append method is deprecated and will be removed from pandas in a future version. Use pandas.concat instead.\n",
      "  res = res.append({'uu_id' : cur_uu_id, 'week_number' : 37, 'total_claims' : y_pred},ignore_index = True)\n",
      "/var/folders/l2/cnhff0_n1470l4xf0p7v7l_40000gn/T/ipykernel_15919/1760040075.py:10: FutureWarning: The frame.append method is deprecated and will be removed from pandas in a future version. Use pandas.concat instead.\n",
      "  res = res.append({'uu_id' : cur_uu_id, 'week_number' : 37, 'total_claims' : y_pred},ignore_index = True)\n",
      "/var/folders/l2/cnhff0_n1470l4xf0p7v7l_40000gn/T/ipykernel_15919/1760040075.py:10: FutureWarning: The frame.append method is deprecated and will be removed from pandas in a future version. Use pandas.concat instead.\n",
      "  res = res.append({'uu_id' : cur_uu_id, 'week_number' : 37, 'total_claims' : y_pred},ignore_index = True)\n",
      "/var/folders/l2/cnhff0_n1470l4xf0p7v7l_40000gn/T/ipykernel_15919/1760040075.py:10: FutureWarning: The frame.append method is deprecated and will be removed from pandas in a future version. Use pandas.concat instead.\n",
      "  res = res.append({'uu_id' : cur_uu_id, 'week_number' : 37, 'total_claims' : y_pred},ignore_index = True)\n",
      "/var/folders/l2/cnhff0_n1470l4xf0p7v7l_40000gn/T/ipykernel_15919/1760040075.py:10: FutureWarning: The frame.append method is deprecated and will be removed from pandas in a future version. Use pandas.concat instead.\n",
      "  res = res.append({'uu_id' : cur_uu_id, 'week_number' : 37, 'total_claims' : y_pred},ignore_index = True)\n",
      "/var/folders/l2/cnhff0_n1470l4xf0p7v7l_40000gn/T/ipykernel_15919/1760040075.py:10: FutureWarning: The frame.append method is deprecated and will be removed from pandas in a future version. Use pandas.concat instead.\n",
      "  res = res.append({'uu_id' : cur_uu_id, 'week_number' : 37, 'total_claims' : y_pred},ignore_index = True)\n",
      "/var/folders/l2/cnhff0_n1470l4xf0p7v7l_40000gn/T/ipykernel_15919/1760040075.py:10: FutureWarning: The frame.append method is deprecated and will be removed from pandas in a future version. Use pandas.concat instead.\n",
      "  res = res.append({'uu_id' : cur_uu_id, 'week_number' : 37, 'total_claims' : y_pred},ignore_index = True)\n",
      "/var/folders/l2/cnhff0_n1470l4xf0p7v7l_40000gn/T/ipykernel_15919/1760040075.py:10: FutureWarning: The frame.append method is deprecated and will be removed from pandas in a future version. Use pandas.concat instead.\n",
      "  res = res.append({'uu_id' : cur_uu_id, 'week_number' : 37, 'total_claims' : y_pred},ignore_index = True)\n",
      "/var/folders/l2/cnhff0_n1470l4xf0p7v7l_40000gn/T/ipykernel_15919/1760040075.py:10: FutureWarning: The frame.append method is deprecated and will be removed from pandas in a future version. Use pandas.concat instead.\n",
      "  res = res.append({'uu_id' : cur_uu_id, 'week_number' : 37, 'total_claims' : y_pred},ignore_index = True)\n",
      "/var/folders/l2/cnhff0_n1470l4xf0p7v7l_40000gn/T/ipykernel_15919/1760040075.py:10: FutureWarning: The frame.append method is deprecated and will be removed from pandas in a future version. Use pandas.concat instead.\n",
      "  res = res.append({'uu_id' : cur_uu_id, 'week_number' : 37, 'total_claims' : y_pred},ignore_index = True)\n",
      "/var/folders/l2/cnhff0_n1470l4xf0p7v7l_40000gn/T/ipykernel_15919/1760040075.py:10: FutureWarning: The frame.append method is deprecated and will be removed from pandas in a future version. Use pandas.concat instead.\n",
      "  res = res.append({'uu_id' : cur_uu_id, 'week_number' : 37, 'total_claims' : y_pred},ignore_index = True)\n",
      "/var/folders/l2/cnhff0_n1470l4xf0p7v7l_40000gn/T/ipykernel_15919/1760040075.py:10: FutureWarning: The frame.append method is deprecated and will be removed from pandas in a future version. Use pandas.concat instead.\n",
      "  res = res.append({'uu_id' : cur_uu_id, 'week_number' : 37, 'total_claims' : y_pred},ignore_index = True)\n",
      "/var/folders/l2/cnhff0_n1470l4xf0p7v7l_40000gn/T/ipykernel_15919/1760040075.py:10: FutureWarning: The frame.append method is deprecated and will be removed from pandas in a future version. Use pandas.concat instead.\n",
      "  res = res.append({'uu_id' : cur_uu_id, 'week_number' : 37, 'total_claims' : y_pred},ignore_index = True)\n",
      "/var/folders/l2/cnhff0_n1470l4xf0p7v7l_40000gn/T/ipykernel_15919/1760040075.py:10: FutureWarning: The frame.append method is deprecated and will be removed from pandas in a future version. Use pandas.concat instead.\n",
      "  res = res.append({'uu_id' : cur_uu_id, 'week_number' : 37, 'total_claims' : y_pred},ignore_index = True)\n",
      "/var/folders/l2/cnhff0_n1470l4xf0p7v7l_40000gn/T/ipykernel_15919/1760040075.py:10: FutureWarning: The frame.append method is deprecated and will be removed from pandas in a future version. Use pandas.concat instead.\n",
      "  res = res.append({'uu_id' : cur_uu_id, 'week_number' : 37, 'total_claims' : y_pred},ignore_index = True)\n",
      "/var/folders/l2/cnhff0_n1470l4xf0p7v7l_40000gn/T/ipykernel_15919/1760040075.py:10: FutureWarning: The frame.append method is deprecated and will be removed from pandas in a future version. Use pandas.concat instead.\n",
      "  res = res.append({'uu_id' : cur_uu_id, 'week_number' : 37, 'total_claims' : y_pred},ignore_index = True)\n",
      "/var/folders/l2/cnhff0_n1470l4xf0p7v7l_40000gn/T/ipykernel_15919/1760040075.py:10: FutureWarning: The frame.append method is deprecated and will be removed from pandas in a future version. Use pandas.concat instead.\n",
      "  res = res.append({'uu_id' : cur_uu_id, 'week_number' : 37, 'total_claims' : y_pred},ignore_index = True)\n",
      "/var/folders/l2/cnhff0_n1470l4xf0p7v7l_40000gn/T/ipykernel_15919/1760040075.py:10: FutureWarning: The frame.append method is deprecated and will be removed from pandas in a future version. Use pandas.concat instead.\n",
      "  res = res.append({'uu_id' : cur_uu_id, 'week_number' : 37, 'total_claims' : y_pred},ignore_index = True)\n",
      "/var/folders/l2/cnhff0_n1470l4xf0p7v7l_40000gn/T/ipykernel_15919/1760040075.py:10: FutureWarning: The frame.append method is deprecated and will be removed from pandas in a future version. Use pandas.concat instead.\n",
      "  res = res.append({'uu_id' : cur_uu_id, 'week_number' : 37, 'total_claims' : y_pred},ignore_index = True)\n",
      "/var/folders/l2/cnhff0_n1470l4xf0p7v7l_40000gn/T/ipykernel_15919/1760040075.py:10: FutureWarning: The frame.append method is deprecated and will be removed from pandas in a future version. Use pandas.concat instead.\n",
      "  res = res.append({'uu_id' : cur_uu_id, 'week_number' : 37, 'total_claims' : y_pred},ignore_index = True)\n",
      "/var/folders/l2/cnhff0_n1470l4xf0p7v7l_40000gn/T/ipykernel_15919/1760040075.py:10: FutureWarning: The frame.append method is deprecated and will be removed from pandas in a future version. Use pandas.concat instead.\n",
      "  res = res.append({'uu_id' : cur_uu_id, 'week_number' : 37, 'total_claims' : y_pred},ignore_index = True)\n",
      "/var/folders/l2/cnhff0_n1470l4xf0p7v7l_40000gn/T/ipykernel_15919/1760040075.py:10: FutureWarning: The frame.append method is deprecated and will be removed from pandas in a future version. Use pandas.concat instead.\n",
      "  res = res.append({'uu_id' : cur_uu_id, 'week_number' : 37, 'total_claims' : y_pred},ignore_index = True)\n",
      "/var/folders/l2/cnhff0_n1470l4xf0p7v7l_40000gn/T/ipykernel_15919/1760040075.py:10: FutureWarning: The frame.append method is deprecated and will be removed from pandas in a future version. Use pandas.concat instead.\n",
      "  res = res.append({'uu_id' : cur_uu_id, 'week_number' : 37, 'total_claims' : y_pred},ignore_index = True)\n",
      "/var/folders/l2/cnhff0_n1470l4xf0p7v7l_40000gn/T/ipykernel_15919/1760040075.py:10: FutureWarning: The frame.append method is deprecated and will be removed from pandas in a future version. Use pandas.concat instead.\n",
      "  res = res.append({'uu_id' : cur_uu_id, 'week_number' : 37, 'total_claims' : y_pred},ignore_index = True)\n",
      "/var/folders/l2/cnhff0_n1470l4xf0p7v7l_40000gn/T/ipykernel_15919/1760040075.py:10: FutureWarning: The frame.append method is deprecated and will be removed from pandas in a future version. Use pandas.concat instead.\n",
      "  res = res.append({'uu_id' : cur_uu_id, 'week_number' : 37, 'total_claims' : y_pred},ignore_index = True)\n",
      "/var/folders/l2/cnhff0_n1470l4xf0p7v7l_40000gn/T/ipykernel_15919/1760040075.py:10: FutureWarning: The frame.append method is deprecated and will be removed from pandas in a future version. Use pandas.concat instead.\n",
      "  res = res.append({'uu_id' : cur_uu_id, 'week_number' : 37, 'total_claims' : y_pred},ignore_index = True)\n",
      "/var/folders/l2/cnhff0_n1470l4xf0p7v7l_40000gn/T/ipykernel_15919/1760040075.py:10: FutureWarning: The frame.append method is deprecated and will be removed from pandas in a future version. Use pandas.concat instead.\n",
      "  res = res.append({'uu_id' : cur_uu_id, 'week_number' : 37, 'total_claims' : y_pred},ignore_index = True)\n",
      "/var/folders/l2/cnhff0_n1470l4xf0p7v7l_40000gn/T/ipykernel_15919/1760040075.py:10: FutureWarning: The frame.append method is deprecated and will be removed from pandas in a future version. Use pandas.concat instead.\n",
      "  res = res.append({'uu_id' : cur_uu_id, 'week_number' : 37, 'total_claims' : y_pred},ignore_index = True)\n",
      "/var/folders/l2/cnhff0_n1470l4xf0p7v7l_40000gn/T/ipykernel_15919/1760040075.py:10: FutureWarning: The frame.append method is deprecated and will be removed from pandas in a future version. Use pandas.concat instead.\n",
      "  res = res.append({'uu_id' : cur_uu_id, 'week_number' : 37, 'total_claims' : y_pred},ignore_index = True)\n",
      "/var/folders/l2/cnhff0_n1470l4xf0p7v7l_40000gn/T/ipykernel_15919/1760040075.py:10: FutureWarning: The frame.append method is deprecated and will be removed from pandas in a future version. Use pandas.concat instead.\n",
      "  res = res.append({'uu_id' : cur_uu_id, 'week_number' : 37, 'total_claims' : y_pred},ignore_index = True)\n",
      "/var/folders/l2/cnhff0_n1470l4xf0p7v7l_40000gn/T/ipykernel_15919/1760040075.py:10: FutureWarning: The frame.append method is deprecated and will be removed from pandas in a future version. Use pandas.concat instead.\n",
      "  res = res.append({'uu_id' : cur_uu_id, 'week_number' : 37, 'total_claims' : y_pred},ignore_index = True)\n",
      "/var/folders/l2/cnhff0_n1470l4xf0p7v7l_40000gn/T/ipykernel_15919/1760040075.py:10: FutureWarning: The frame.append method is deprecated and will be removed from pandas in a future version. Use pandas.concat instead.\n",
      "  res = res.append({'uu_id' : cur_uu_id, 'week_number' : 37, 'total_claims' : y_pred},ignore_index = True)\n",
      "/var/folders/l2/cnhff0_n1470l4xf0p7v7l_40000gn/T/ipykernel_15919/1760040075.py:10: FutureWarning: The frame.append method is deprecated and will be removed from pandas in a future version. Use pandas.concat instead.\n",
      "  res = res.append({'uu_id' : cur_uu_id, 'week_number' : 37, 'total_claims' : y_pred},ignore_index = True)\n",
      "/var/folders/l2/cnhff0_n1470l4xf0p7v7l_40000gn/T/ipykernel_15919/1760040075.py:10: FutureWarning: The frame.append method is deprecated and will be removed from pandas in a future version. Use pandas.concat instead.\n",
      "  res = res.append({'uu_id' : cur_uu_id, 'week_number' : 37, 'total_claims' : y_pred},ignore_index = True)\n",
      "/var/folders/l2/cnhff0_n1470l4xf0p7v7l_40000gn/T/ipykernel_15919/1760040075.py:10: FutureWarning: The frame.append method is deprecated and will be removed from pandas in a future version. Use pandas.concat instead.\n",
      "  res = res.append({'uu_id' : cur_uu_id, 'week_number' : 37, 'total_claims' : y_pred},ignore_index = True)\n"
     ]
    },
    {
     "name": "stderr",
     "output_type": "stream",
     "text": [
      "/var/folders/l2/cnhff0_n1470l4xf0p7v7l_40000gn/T/ipykernel_15919/1760040075.py:10: FutureWarning: The frame.append method is deprecated and will be removed from pandas in a future version. Use pandas.concat instead.\n",
      "  res = res.append({'uu_id' : cur_uu_id, 'week_number' : 37, 'total_claims' : y_pred},ignore_index = True)\n",
      "/var/folders/l2/cnhff0_n1470l4xf0p7v7l_40000gn/T/ipykernel_15919/1760040075.py:10: FutureWarning: The frame.append method is deprecated and will be removed from pandas in a future version. Use pandas.concat instead.\n",
      "  res = res.append({'uu_id' : cur_uu_id, 'week_number' : 37, 'total_claims' : y_pred},ignore_index = True)\n",
      "/var/folders/l2/cnhff0_n1470l4xf0p7v7l_40000gn/T/ipykernel_15919/1760040075.py:10: FutureWarning: The frame.append method is deprecated and will be removed from pandas in a future version. Use pandas.concat instead.\n",
      "  res = res.append({'uu_id' : cur_uu_id, 'week_number' : 37, 'total_claims' : y_pred},ignore_index = True)\n",
      "/var/folders/l2/cnhff0_n1470l4xf0p7v7l_40000gn/T/ipykernel_15919/1760040075.py:10: FutureWarning: The frame.append method is deprecated and will be removed from pandas in a future version. Use pandas.concat instead.\n",
      "  res = res.append({'uu_id' : cur_uu_id, 'week_number' : 37, 'total_claims' : y_pred},ignore_index = True)\n",
      "/var/folders/l2/cnhff0_n1470l4xf0p7v7l_40000gn/T/ipykernel_15919/1760040075.py:10: FutureWarning: The frame.append method is deprecated and will be removed from pandas in a future version. Use pandas.concat instead.\n",
      "  res = res.append({'uu_id' : cur_uu_id, 'week_number' : 37, 'total_claims' : y_pred},ignore_index = True)\n",
      "/var/folders/l2/cnhff0_n1470l4xf0p7v7l_40000gn/T/ipykernel_15919/1760040075.py:10: FutureWarning: The frame.append method is deprecated and will be removed from pandas in a future version. Use pandas.concat instead.\n",
      "  res = res.append({'uu_id' : cur_uu_id, 'week_number' : 37, 'total_claims' : y_pred},ignore_index = True)\n",
      "/var/folders/l2/cnhff0_n1470l4xf0p7v7l_40000gn/T/ipykernel_15919/1760040075.py:10: FutureWarning: The frame.append method is deprecated and will be removed from pandas in a future version. Use pandas.concat instead.\n",
      "  res = res.append({'uu_id' : cur_uu_id, 'week_number' : 37, 'total_claims' : y_pred},ignore_index = True)\n",
      "/var/folders/l2/cnhff0_n1470l4xf0p7v7l_40000gn/T/ipykernel_15919/1760040075.py:10: FutureWarning: The frame.append method is deprecated and will be removed from pandas in a future version. Use pandas.concat instead.\n",
      "  res = res.append({'uu_id' : cur_uu_id, 'week_number' : 37, 'total_claims' : y_pred},ignore_index = True)\n",
      "/var/folders/l2/cnhff0_n1470l4xf0p7v7l_40000gn/T/ipykernel_15919/1760040075.py:10: FutureWarning: The frame.append method is deprecated and will be removed from pandas in a future version. Use pandas.concat instead.\n",
      "  res = res.append({'uu_id' : cur_uu_id, 'week_number' : 37, 'total_claims' : y_pred},ignore_index = True)\n",
      "/var/folders/l2/cnhff0_n1470l4xf0p7v7l_40000gn/T/ipykernel_15919/1760040075.py:10: FutureWarning: The frame.append method is deprecated and will be removed from pandas in a future version. Use pandas.concat instead.\n",
      "  res = res.append({'uu_id' : cur_uu_id, 'week_number' : 37, 'total_claims' : y_pred},ignore_index = True)\n",
      "/var/folders/l2/cnhff0_n1470l4xf0p7v7l_40000gn/T/ipykernel_15919/1760040075.py:10: FutureWarning: The frame.append method is deprecated and will be removed from pandas in a future version. Use pandas.concat instead.\n",
      "  res = res.append({'uu_id' : cur_uu_id, 'week_number' : 37, 'total_claims' : y_pred},ignore_index = True)\n",
      "/var/folders/l2/cnhff0_n1470l4xf0p7v7l_40000gn/T/ipykernel_15919/1760040075.py:10: FutureWarning: The frame.append method is deprecated and will be removed from pandas in a future version. Use pandas.concat instead.\n",
      "  res = res.append({'uu_id' : cur_uu_id, 'week_number' : 37, 'total_claims' : y_pred},ignore_index = True)\n",
      "/var/folders/l2/cnhff0_n1470l4xf0p7v7l_40000gn/T/ipykernel_15919/1760040075.py:10: FutureWarning: The frame.append method is deprecated and will be removed from pandas in a future version. Use pandas.concat instead.\n",
      "  res = res.append({'uu_id' : cur_uu_id, 'week_number' : 37, 'total_claims' : y_pred},ignore_index = True)\n",
      "/var/folders/l2/cnhff0_n1470l4xf0p7v7l_40000gn/T/ipykernel_15919/1760040075.py:10: FutureWarning: The frame.append method is deprecated and will be removed from pandas in a future version. Use pandas.concat instead.\n",
      "  res = res.append({'uu_id' : cur_uu_id, 'week_number' : 37, 'total_claims' : y_pred},ignore_index = True)\n",
      "/var/folders/l2/cnhff0_n1470l4xf0p7v7l_40000gn/T/ipykernel_15919/1760040075.py:10: FutureWarning: The frame.append method is deprecated and will be removed from pandas in a future version. Use pandas.concat instead.\n",
      "  res = res.append({'uu_id' : cur_uu_id, 'week_number' : 37, 'total_claims' : y_pred},ignore_index = True)\n",
      "/var/folders/l2/cnhff0_n1470l4xf0p7v7l_40000gn/T/ipykernel_15919/1760040075.py:10: FutureWarning: The frame.append method is deprecated and will be removed from pandas in a future version. Use pandas.concat instead.\n",
      "  res = res.append({'uu_id' : cur_uu_id, 'week_number' : 37, 'total_claims' : y_pred},ignore_index = True)\n",
      "/var/folders/l2/cnhff0_n1470l4xf0p7v7l_40000gn/T/ipykernel_15919/1760040075.py:10: FutureWarning: The frame.append method is deprecated and will be removed from pandas in a future version. Use pandas.concat instead.\n",
      "  res = res.append({'uu_id' : cur_uu_id, 'week_number' : 37, 'total_claims' : y_pred},ignore_index = True)\n",
      "/var/folders/l2/cnhff0_n1470l4xf0p7v7l_40000gn/T/ipykernel_15919/1760040075.py:10: FutureWarning: The frame.append method is deprecated and will be removed from pandas in a future version. Use pandas.concat instead.\n",
      "  res = res.append({'uu_id' : cur_uu_id, 'week_number' : 37, 'total_claims' : y_pred},ignore_index = True)\n",
      "/var/folders/l2/cnhff0_n1470l4xf0p7v7l_40000gn/T/ipykernel_15919/1760040075.py:10: FutureWarning: The frame.append method is deprecated and will be removed from pandas in a future version. Use pandas.concat instead.\n",
      "  res = res.append({'uu_id' : cur_uu_id, 'week_number' : 37, 'total_claims' : y_pred},ignore_index = True)\n",
      "/var/folders/l2/cnhff0_n1470l4xf0p7v7l_40000gn/T/ipykernel_15919/1760040075.py:10: FutureWarning: The frame.append method is deprecated and will be removed from pandas in a future version. Use pandas.concat instead.\n",
      "  res = res.append({'uu_id' : cur_uu_id, 'week_number' : 37, 'total_claims' : y_pred},ignore_index = True)\n",
      "/var/folders/l2/cnhff0_n1470l4xf0p7v7l_40000gn/T/ipykernel_15919/1760040075.py:10: FutureWarning: The frame.append method is deprecated and will be removed from pandas in a future version. Use pandas.concat instead.\n",
      "  res = res.append({'uu_id' : cur_uu_id, 'week_number' : 37, 'total_claims' : y_pred},ignore_index = True)\n",
      "/var/folders/l2/cnhff0_n1470l4xf0p7v7l_40000gn/T/ipykernel_15919/1760040075.py:10: FutureWarning: The frame.append method is deprecated and will be removed from pandas in a future version. Use pandas.concat instead.\n",
      "  res = res.append({'uu_id' : cur_uu_id, 'week_number' : 37, 'total_claims' : y_pred},ignore_index = True)\n",
      "/var/folders/l2/cnhff0_n1470l4xf0p7v7l_40000gn/T/ipykernel_15919/1760040075.py:10: FutureWarning: The frame.append method is deprecated and will be removed from pandas in a future version. Use pandas.concat instead.\n",
      "  res = res.append({'uu_id' : cur_uu_id, 'week_number' : 37, 'total_claims' : y_pred},ignore_index = True)\n",
      "/var/folders/l2/cnhff0_n1470l4xf0p7v7l_40000gn/T/ipykernel_15919/1760040075.py:10: FutureWarning: The frame.append method is deprecated and will be removed from pandas in a future version. Use pandas.concat instead.\n",
      "  res = res.append({'uu_id' : cur_uu_id, 'week_number' : 37, 'total_claims' : y_pred},ignore_index = True)\n",
      "/var/folders/l2/cnhff0_n1470l4xf0p7v7l_40000gn/T/ipykernel_15919/1760040075.py:10: FutureWarning: The frame.append method is deprecated and will be removed from pandas in a future version. Use pandas.concat instead.\n",
      "  res = res.append({'uu_id' : cur_uu_id, 'week_number' : 37, 'total_claims' : y_pred},ignore_index = True)\n",
      "/var/folders/l2/cnhff0_n1470l4xf0p7v7l_40000gn/T/ipykernel_15919/1760040075.py:10: FutureWarning: The frame.append method is deprecated and will be removed from pandas in a future version. Use pandas.concat instead.\n",
      "  res = res.append({'uu_id' : cur_uu_id, 'week_number' : 37, 'total_claims' : y_pred},ignore_index = True)\n",
      "/var/folders/l2/cnhff0_n1470l4xf0p7v7l_40000gn/T/ipykernel_15919/1760040075.py:10: FutureWarning: The frame.append method is deprecated and will be removed from pandas in a future version. Use pandas.concat instead.\n",
      "  res = res.append({'uu_id' : cur_uu_id, 'week_number' : 37, 'total_claims' : y_pred},ignore_index = True)\n",
      "/var/folders/l2/cnhff0_n1470l4xf0p7v7l_40000gn/T/ipykernel_15919/1760040075.py:10: FutureWarning: The frame.append method is deprecated and will be removed from pandas in a future version. Use pandas.concat instead.\n",
      "  res = res.append({'uu_id' : cur_uu_id, 'week_number' : 37, 'total_claims' : y_pred},ignore_index = True)\n",
      "/var/folders/l2/cnhff0_n1470l4xf0p7v7l_40000gn/T/ipykernel_15919/1760040075.py:10: FutureWarning: The frame.append method is deprecated and will be removed from pandas in a future version. Use pandas.concat instead.\n",
      "  res = res.append({'uu_id' : cur_uu_id, 'week_number' : 37, 'total_claims' : y_pred},ignore_index = True)\n"
     ]
    }
   ],
   "source": [
    "for cur_uu_id in df_pred_list['uu_id']:\n",
    "    #print(uu_id)\n",
    "    test_data = df_three_col[df_three_col[\"uu_id\"].isin([cur_uu_id]) ]\n",
    "    x_train = np.array(test_data[\"week_number\"].values).reshape(-1, 1)\n",
    "    y_train = np.array(test_data[\"total_claims\"].values) \n",
    "    sgdr.fit(x_train, y_train)\n",
    "    x_pred = np.array([39]).reshape(-1, 1)\n",
    "    y_pred = int(sgdr.predict(x_pred))\n",
    "    res = pandas.DataFrame(columns = ['uu_id', 'week_number', 'total_claims'])\n",
    "    res = res.append({'uu_id' : cur_uu_id, 'week_number' : 37, 'total_claims' : y_pred},ignore_index = True)"
   ]
  },
  {
   "cell_type": "code",
   "execution_count": 130,
   "id": "721cf9b8",
   "metadata": {
    "execution": {
     "iopub.execute_input": "2023-05-10T01:11:48.024937Z",
     "iopub.status.busy": "2023-05-10T01:11:48.024845Z",
     "iopub.status.idle": "2023-05-10T01:11:48.027103Z",
     "shell.execute_reply": "2023-05-10T01:11:48.026842Z"
    }
   },
   "outputs": [],
   "source": [
    "res.to_csv(\"submission_prediction_output.csv\", index=False)"
   ]
  },
  {
   "cell_type": "code",
   "execution_count": 131,
   "id": "32f4a355",
   "metadata": {
    "execution": {
     "iopub.execute_input": "2023-05-10T01:11:48.028447Z",
     "iopub.status.busy": "2023-05-10T01:11:48.028368Z",
     "iopub.status.idle": "2023-05-10T01:11:48.029940Z",
     "shell.execute_reply": "2023-05-10T01:11:48.029687Z"
    }
   },
   "outputs": [],
   "source": [
    "sgdr = SGDRegressor(max_iter = 10000)"
   ]
  },
  {
   "cell_type": "code",
   "execution_count": 132,
   "id": "ab1d14d6",
   "metadata": {
    "execution": {
     "iopub.execute_input": "2023-05-10T01:11:48.031189Z",
     "iopub.status.busy": "2023-05-10T01:11:48.031089Z",
     "iopub.status.idle": "2023-05-10T01:11:48.032613Z",
     "shell.execute_reply": "2023-05-10T01:11:48.032396Z"
    }
   },
   "outputs": [],
   "source": [
    "random.seed(0)"
   ]
  },
  {
   "cell_type": "code",
   "execution_count": 133,
   "id": "fffd96cd",
   "metadata": {
    "execution": {
     "iopub.execute_input": "2023-05-10T01:11:48.033917Z",
     "iopub.status.busy": "2023-05-10T01:11:48.033821Z",
     "iopub.status.idle": "2023-05-10T01:11:48.035966Z",
     "shell.execute_reply": "2023-05-10T01:11:48.035738Z"
    }
   },
   "outputs": [],
   "source": [
    "res = pandas.DataFrame(columns = ['Name', 'Articles', 'Improved'])"
   ]
  },
  {
   "cell_type": "code",
   "execution_count": 134,
   "id": "e2cf46ef",
   "metadata": {
    "execution": {
     "iopub.execute_input": "2023-05-10T01:11:48.037314Z",
     "iopub.status.busy": "2023-05-10T01:11:48.037212Z",
     "iopub.status.idle": "2023-05-10T01:11:48.073004Z",
     "shell.execute_reply": "2023-05-10T01:11:48.072675Z"
    },
    "lines_to_next_cell": 2
   },
   "outputs": [
    {
     "ename": "AttributeError",
     "evalue": "'DataFrame' object has no attribute 'concat'",
     "output_type": "error",
     "traceback": [
      "\u001b[0;31m---------------------------------------------------------------------------\u001b[0m",
      "\u001b[0;31mAttributeError\u001b[0m                            Traceback (most recent call last)",
      "Cell \u001b[0;32mIn [134], line 10\u001b[0m\n\u001b[1;32m      8\u001b[0m y_pred \u001b[38;5;241m=\u001b[39m \u001b[38;5;28mint\u001b[39m(sgdr\u001b[38;5;241m.\u001b[39mpredict(x_pred))\n\u001b[1;32m      9\u001b[0m res \u001b[38;5;241m=\u001b[39m pandas\u001b[38;5;241m.\u001b[39mDataFrame(columns \u001b[38;5;241m=\u001b[39m [\u001b[38;5;124m'\u001b[39m\u001b[38;5;124muu_id\u001b[39m\u001b[38;5;124m'\u001b[39m, \u001b[38;5;124m'\u001b[39m\u001b[38;5;124mweek_number\u001b[39m\u001b[38;5;124m'\u001b[39m, \u001b[38;5;124m'\u001b[39m\u001b[38;5;124mtotal_claims\u001b[39m\u001b[38;5;124m'\u001b[39m])\n\u001b[0;32m---> 10\u001b[0m res \u001b[38;5;241m=\u001b[39m \u001b[43mres\u001b[49m\u001b[38;5;241;43m.\u001b[39;49m\u001b[43mconcat\u001b[49m({\u001b[38;5;124m'\u001b[39m\u001b[38;5;124muu_id\u001b[39m\u001b[38;5;124m'\u001b[39m : cur_uu_id, \u001b[38;5;124m'\u001b[39m\u001b[38;5;124mweek_number\u001b[39m\u001b[38;5;124m'\u001b[39m : \u001b[38;5;241m37\u001b[39m, \u001b[38;5;124m'\u001b[39m\u001b[38;5;124mtotal_claims\u001b[39m\u001b[38;5;124m'\u001b[39m : y_pred},ignore_index \u001b[38;5;241m=\u001b[39m \u001b[38;5;28;01mTrue\u001b[39;00m)\n",
      "File \u001b[0;32m/opt/homebrew/lib/python3.9/site-packages/pandas/core/generic.py:5902\u001b[0m, in \u001b[0;36mNDFrame.__getattr__\u001b[0;34m(self, name)\u001b[0m\n\u001b[1;32m   5895\u001b[0m \u001b[38;5;28;01mif\u001b[39;00m (\n\u001b[1;32m   5896\u001b[0m     name \u001b[38;5;129;01mnot\u001b[39;00m \u001b[38;5;129;01min\u001b[39;00m \u001b[38;5;28mself\u001b[39m\u001b[38;5;241m.\u001b[39m_internal_names_set\n\u001b[1;32m   5897\u001b[0m     \u001b[38;5;129;01mand\u001b[39;00m name \u001b[38;5;129;01mnot\u001b[39;00m \u001b[38;5;129;01min\u001b[39;00m \u001b[38;5;28mself\u001b[39m\u001b[38;5;241m.\u001b[39m_metadata\n\u001b[1;32m   5898\u001b[0m     \u001b[38;5;129;01mand\u001b[39;00m name \u001b[38;5;129;01mnot\u001b[39;00m \u001b[38;5;129;01min\u001b[39;00m \u001b[38;5;28mself\u001b[39m\u001b[38;5;241m.\u001b[39m_accessors\n\u001b[1;32m   5899\u001b[0m     \u001b[38;5;129;01mand\u001b[39;00m \u001b[38;5;28mself\u001b[39m\u001b[38;5;241m.\u001b[39m_info_axis\u001b[38;5;241m.\u001b[39m_can_hold_identifiers_and_holds_name(name)\n\u001b[1;32m   5900\u001b[0m ):\n\u001b[1;32m   5901\u001b[0m     \u001b[38;5;28;01mreturn\u001b[39;00m \u001b[38;5;28mself\u001b[39m[name]\n\u001b[0;32m-> 5902\u001b[0m \u001b[38;5;28;01mreturn\u001b[39;00m \u001b[38;5;28;43mobject\u001b[39;49m\u001b[38;5;241;43m.\u001b[39;49m\u001b[38;5;21;43m__getattribute__\u001b[39;49m\u001b[43m(\u001b[49m\u001b[38;5;28;43mself\u001b[39;49m\u001b[43m,\u001b[49m\u001b[43m \u001b[49m\u001b[43mname\u001b[49m\u001b[43m)\u001b[49m\n",
      "\u001b[0;31mAttributeError\u001b[0m: 'DataFrame' object has no attribute 'concat'"
     ]
    }
   ],
   "source": [
    "for cur_uu_id in df_pred_list['uu_id']:\n",
    "    #print(uu_id)\n",
    "    test_data = df_three_col[df_three_col[\"uu_id\"].isin([cur_uu_id]) ]\n",
    "    x_train = np.array(test_data[\"week_number\"].values).reshape(-1, 1)\n",
    "    y_train = np.array(test_data[\"total_claims\"].values) \n",
    "    sgdr.fit(x_train, y_train)\n",
    "    x_pred = np.array([39]).reshape(-1, 1)\n",
    "    y_pred = int(sgdr.predict(x_pred))\n",
    "    res = pandas.DataFrame(columns = ['uu_id', 'week_number', 'total_claims'])\n",
    "    res = res.concat({'uu_id' : cur_uu_id, 'week_number' : 37, 'total_claims' : y_pred},ignore_index = True)"
   ]
  },
  {
   "cell_type": "code",
   "execution_count": 135,
   "id": "f77fc6f8",
   "metadata": {
    "execution": {
     "iopub.execute_input": "2023-05-10T01:11:48.074573Z",
     "iopub.status.busy": "2023-05-10T01:11:48.074464Z",
     "iopub.status.idle": "2023-05-10T01:11:48.076769Z",
     "shell.execute_reply": "2023-05-10T01:11:48.076516Z"
    }
   },
   "outputs": [],
   "source": [
    "res.to_csv(\"submission_prediction_output.csv\", index=False)"
   ]
  },
  {
   "cell_type": "code",
   "execution_count": 136,
   "id": "e727dca4",
   "metadata": {
    "execution": {
     "iopub.execute_input": "2023-05-10T01:11:48.078103Z",
     "iopub.status.busy": "2023-05-10T01:11:48.078000Z",
     "iopub.status.idle": "2023-05-10T01:11:48.079588Z",
     "shell.execute_reply": "2023-05-10T01:11:48.079368Z"
    }
   },
   "outputs": [],
   "source": [
    "sgdr = SGDRegressor(max_iter = 10000)"
   ]
  },
  {
   "cell_type": "code",
   "execution_count": 137,
   "id": "2f4bf7db",
   "metadata": {
    "execution": {
     "iopub.execute_input": "2023-05-10T01:11:48.080848Z",
     "iopub.status.busy": "2023-05-10T01:11:48.080744Z",
     "iopub.status.idle": "2023-05-10T01:11:48.082436Z",
     "shell.execute_reply": "2023-05-10T01:11:48.082197Z"
    }
   },
   "outputs": [],
   "source": [
    "random.seed(0)"
   ]
  },
  {
   "cell_type": "code",
   "execution_count": 138,
   "id": "a6acbb9b",
   "metadata": {
    "execution": {
     "iopub.execute_input": "2023-05-10T01:11:48.083715Z",
     "iopub.status.busy": "2023-05-10T01:11:48.083617Z",
     "iopub.status.idle": "2023-05-10T01:11:48.085819Z",
     "shell.execute_reply": "2023-05-10T01:11:48.085586Z"
    }
   },
   "outputs": [],
   "source": [
    "res = pandas.DataFrame(columns = ['Name', 'Articles', 'Improved'])"
   ]
  },
  {
   "cell_type": "code",
   "execution_count": 139,
   "id": "9ed6a255",
   "metadata": {
    "execution": {
     "iopub.execute_input": "2023-05-10T01:11:48.087112Z",
     "iopub.status.busy": "2023-05-10T01:11:48.087032Z",
     "iopub.status.idle": "2023-05-10T01:11:48.143624Z",
     "shell.execute_reply": "2023-05-10T01:11:48.143299Z"
    },
    "lines_to_next_cell": 2
   },
   "outputs": [
    {
     "name": "stderr",
     "output_type": "stream",
     "text": [
      "/var/folders/l2/cnhff0_n1470l4xf0p7v7l_40000gn/T/ipykernel_15919/1610189853.py:10: FutureWarning: In a future version of pandas all arguments of concat except for the argument 'objs' will be keyword-only.\n",
      "  res = pandas.concat(res, {'uu_id' : cur_uu_id, 'week_number' : 37, 'total_claims' : y_pred},ignore_index = True)\n"
     ]
    },
    {
     "ename": "TypeError",
     "evalue": "first argument must be an iterable of pandas objects, you passed an object of type \"DataFrame\"",
     "output_type": "error",
     "traceback": [
      "\u001b[0;31m---------------------------------------------------------------------------\u001b[0m",
      "\u001b[0;31mTypeError\u001b[0m                                 Traceback (most recent call last)",
      "Cell \u001b[0;32mIn [139], line 10\u001b[0m\n\u001b[1;32m      8\u001b[0m y_pred \u001b[38;5;241m=\u001b[39m \u001b[38;5;28mint\u001b[39m(sgdr\u001b[38;5;241m.\u001b[39mpredict(x_pred))\n\u001b[1;32m      9\u001b[0m res \u001b[38;5;241m=\u001b[39m pandas\u001b[38;5;241m.\u001b[39mDataFrame(columns \u001b[38;5;241m=\u001b[39m [\u001b[38;5;124m'\u001b[39m\u001b[38;5;124muu_id\u001b[39m\u001b[38;5;124m'\u001b[39m, \u001b[38;5;124m'\u001b[39m\u001b[38;5;124mweek_number\u001b[39m\u001b[38;5;124m'\u001b[39m, \u001b[38;5;124m'\u001b[39m\u001b[38;5;124mtotal_claims\u001b[39m\u001b[38;5;124m'\u001b[39m])\n\u001b[0;32m---> 10\u001b[0m res \u001b[38;5;241m=\u001b[39m \u001b[43mpandas\u001b[49m\u001b[38;5;241;43m.\u001b[39;49m\u001b[43mconcat\u001b[49m\u001b[43m(\u001b[49m\u001b[43mres\u001b[49m\u001b[43m,\u001b[49m\u001b[43m \u001b[49m\u001b[43m{\u001b[49m\u001b[38;5;124;43m'\u001b[39;49m\u001b[38;5;124;43muu_id\u001b[39;49m\u001b[38;5;124;43m'\u001b[39;49m\u001b[43m \u001b[49m\u001b[43m:\u001b[49m\u001b[43m \u001b[49m\u001b[43mcur_uu_id\u001b[49m\u001b[43m,\u001b[49m\u001b[43m \u001b[49m\u001b[38;5;124;43m'\u001b[39;49m\u001b[38;5;124;43mweek_number\u001b[39;49m\u001b[38;5;124;43m'\u001b[39;49m\u001b[43m \u001b[49m\u001b[43m:\u001b[49m\u001b[43m \u001b[49m\u001b[38;5;241;43m37\u001b[39;49m\u001b[43m,\u001b[49m\u001b[43m \u001b[49m\u001b[38;5;124;43m'\u001b[39;49m\u001b[38;5;124;43mtotal_claims\u001b[39;49m\u001b[38;5;124;43m'\u001b[39;49m\u001b[43m \u001b[49m\u001b[43m:\u001b[49m\u001b[43m \u001b[49m\u001b[43my_pred\u001b[49m\u001b[43m}\u001b[49m\u001b[43m,\u001b[49m\u001b[43mignore_index\u001b[49m\u001b[43m \u001b[49m\u001b[38;5;241;43m=\u001b[39;49m\u001b[43m \u001b[49m\u001b[38;5;28;43;01mTrue\u001b[39;49;00m\u001b[43m)\u001b[49m\n",
      "File \u001b[0;32m/opt/homebrew/lib/python3.9/site-packages/pandas/util/_decorators.py:331\u001b[0m, in \u001b[0;36mdeprecate_nonkeyword_arguments.<locals>.decorate.<locals>.wrapper\u001b[0;34m(*args, **kwargs)\u001b[0m\n\u001b[1;32m    325\u001b[0m \u001b[38;5;28;01mif\u001b[39;00m \u001b[38;5;28mlen\u001b[39m(args) \u001b[38;5;241m>\u001b[39m num_allow_args:\n\u001b[1;32m    326\u001b[0m     warnings\u001b[38;5;241m.\u001b[39mwarn(\n\u001b[1;32m    327\u001b[0m         msg\u001b[38;5;241m.\u001b[39mformat(arguments\u001b[38;5;241m=\u001b[39m_format_argument_list(allow_args)),\n\u001b[1;32m    328\u001b[0m         \u001b[38;5;167;01mFutureWarning\u001b[39;00m,\n\u001b[1;32m    329\u001b[0m         stacklevel\u001b[38;5;241m=\u001b[39mfind_stack_level(),\n\u001b[1;32m    330\u001b[0m     )\n\u001b[0;32m--> 331\u001b[0m \u001b[38;5;28;01mreturn\u001b[39;00m \u001b[43mfunc\u001b[49m\u001b[43m(\u001b[49m\u001b[38;5;241;43m*\u001b[39;49m\u001b[43margs\u001b[49m\u001b[43m,\u001b[49m\u001b[43m \u001b[49m\u001b[38;5;241;43m*\u001b[39;49m\u001b[38;5;241;43m*\u001b[39;49m\u001b[43mkwargs\u001b[49m\u001b[43m)\u001b[49m\n",
      "File \u001b[0;32m/opt/homebrew/lib/python3.9/site-packages/pandas/core/reshape/concat.py:368\u001b[0m, in \u001b[0;36mconcat\u001b[0;34m(objs, axis, join, ignore_index, keys, levels, names, verify_integrity, sort, copy)\u001b[0m\n\u001b[1;32m    146\u001b[0m \u001b[38;5;129m@deprecate_nonkeyword_arguments\u001b[39m(version\u001b[38;5;241m=\u001b[39m\u001b[38;5;28;01mNone\u001b[39;00m, allowed_args\u001b[38;5;241m=\u001b[39m[\u001b[38;5;124m\"\u001b[39m\u001b[38;5;124mobjs\u001b[39m\u001b[38;5;124m\"\u001b[39m])\n\u001b[1;32m    147\u001b[0m \u001b[38;5;28;01mdef\u001b[39;00m \u001b[38;5;21mconcat\u001b[39m(\n\u001b[1;32m    148\u001b[0m     objs: Iterable[NDFrame] \u001b[38;5;241m|\u001b[39m Mapping[HashableT, NDFrame],\n\u001b[0;32m   (...)\u001b[0m\n\u001b[1;32m    157\u001b[0m     copy: \u001b[38;5;28mbool\u001b[39m \u001b[38;5;241m=\u001b[39m \u001b[38;5;28;01mTrue\u001b[39;00m,\n\u001b[1;32m    158\u001b[0m ) \u001b[38;5;241m-\u001b[39m\u001b[38;5;241m>\u001b[39m DataFrame \u001b[38;5;241m|\u001b[39m Series:\n\u001b[1;32m    159\u001b[0m     \u001b[38;5;124;03m\"\"\"\u001b[39;00m\n\u001b[1;32m    160\u001b[0m \u001b[38;5;124;03m    Concatenate pandas objects along a particular axis.\u001b[39;00m\n\u001b[1;32m    161\u001b[0m \n\u001b[0;32m   (...)\u001b[0m\n\u001b[1;32m    366\u001b[0m \u001b[38;5;124;03m    1   3   4\u001b[39;00m\n\u001b[1;32m    367\u001b[0m \u001b[38;5;124;03m    \"\"\"\u001b[39;00m\n\u001b[0;32m--> 368\u001b[0m     op \u001b[38;5;241m=\u001b[39m \u001b[43m_Concatenator\u001b[49m\u001b[43m(\u001b[49m\n\u001b[1;32m    369\u001b[0m \u001b[43m        \u001b[49m\u001b[43mobjs\u001b[49m\u001b[43m,\u001b[49m\n\u001b[1;32m    370\u001b[0m \u001b[43m        \u001b[49m\u001b[43maxis\u001b[49m\u001b[38;5;241;43m=\u001b[39;49m\u001b[43maxis\u001b[49m\u001b[43m,\u001b[49m\n\u001b[1;32m    371\u001b[0m \u001b[43m        \u001b[49m\u001b[43mignore_index\u001b[49m\u001b[38;5;241;43m=\u001b[39;49m\u001b[43mignore_index\u001b[49m\u001b[43m,\u001b[49m\n\u001b[1;32m    372\u001b[0m \u001b[43m        \u001b[49m\u001b[43mjoin\u001b[49m\u001b[38;5;241;43m=\u001b[39;49m\u001b[43mjoin\u001b[49m\u001b[43m,\u001b[49m\n\u001b[1;32m    373\u001b[0m \u001b[43m        \u001b[49m\u001b[43mkeys\u001b[49m\u001b[38;5;241;43m=\u001b[39;49m\u001b[43mkeys\u001b[49m\u001b[43m,\u001b[49m\n\u001b[1;32m    374\u001b[0m \u001b[43m        \u001b[49m\u001b[43mlevels\u001b[49m\u001b[38;5;241;43m=\u001b[39;49m\u001b[43mlevels\u001b[49m\u001b[43m,\u001b[49m\n\u001b[1;32m    375\u001b[0m \u001b[43m        \u001b[49m\u001b[43mnames\u001b[49m\u001b[38;5;241;43m=\u001b[39;49m\u001b[43mnames\u001b[49m\u001b[43m,\u001b[49m\n\u001b[1;32m    376\u001b[0m \u001b[43m        \u001b[49m\u001b[43mverify_integrity\u001b[49m\u001b[38;5;241;43m=\u001b[39;49m\u001b[43mverify_integrity\u001b[49m\u001b[43m,\u001b[49m\n\u001b[1;32m    377\u001b[0m \u001b[43m        \u001b[49m\u001b[43mcopy\u001b[49m\u001b[38;5;241;43m=\u001b[39;49m\u001b[43mcopy\u001b[49m\u001b[43m,\u001b[49m\n\u001b[1;32m    378\u001b[0m \u001b[43m        \u001b[49m\u001b[43msort\u001b[49m\u001b[38;5;241;43m=\u001b[39;49m\u001b[43msort\u001b[49m\u001b[43m,\u001b[49m\n\u001b[1;32m    379\u001b[0m \u001b[43m    \u001b[49m\u001b[43m)\u001b[49m\n\u001b[1;32m    381\u001b[0m     \u001b[38;5;28;01mreturn\u001b[39;00m op\u001b[38;5;241m.\u001b[39mget_result()\n",
      "File \u001b[0;32m/opt/homebrew/lib/python3.9/site-packages/pandas/core/reshape/concat.py:403\u001b[0m, in \u001b[0;36m_Concatenator.__init__\u001b[0;34m(self, objs, axis, join, keys, levels, names, ignore_index, verify_integrity, copy, sort)\u001b[0m\n\u001b[1;32m    389\u001b[0m \u001b[38;5;28;01mdef\u001b[39;00m \u001b[38;5;21m__init__\u001b[39m(\n\u001b[1;32m    390\u001b[0m     \u001b[38;5;28mself\u001b[39m,\n\u001b[1;32m    391\u001b[0m     objs: Iterable[NDFrame] \u001b[38;5;241m|\u001b[39m Mapping[HashableT, NDFrame],\n\u001b[0;32m   (...)\u001b[0m\n\u001b[1;32m    400\u001b[0m     sort\u001b[38;5;241m=\u001b[39m\u001b[38;5;28;01mFalse\u001b[39;00m,\n\u001b[1;32m    401\u001b[0m ) \u001b[38;5;241m-\u001b[39m\u001b[38;5;241m>\u001b[39m \u001b[38;5;28;01mNone\u001b[39;00m:\n\u001b[1;32m    402\u001b[0m     \u001b[38;5;28;01mif\u001b[39;00m \u001b[38;5;28misinstance\u001b[39m(objs, (ABCSeries, ABCDataFrame, \u001b[38;5;28mstr\u001b[39m)):\n\u001b[0;32m--> 403\u001b[0m         \u001b[38;5;28;01mraise\u001b[39;00m \u001b[38;5;167;01mTypeError\u001b[39;00m(\n\u001b[1;32m    404\u001b[0m             \u001b[38;5;124m\"\u001b[39m\u001b[38;5;124mfirst argument must be an iterable of pandas \u001b[39m\u001b[38;5;124m\"\u001b[39m\n\u001b[1;32m    405\u001b[0m             \u001b[38;5;124mf\u001b[39m\u001b[38;5;124m'\u001b[39m\u001b[38;5;124mobjects, you passed an object of type \u001b[39m\u001b[38;5;124m\"\u001b[39m\u001b[38;5;132;01m{\u001b[39;00m\u001b[38;5;28mtype\u001b[39m(objs)\u001b[38;5;241m.\u001b[39m\u001b[38;5;18m__name__\u001b[39m\u001b[38;5;132;01m}\u001b[39;00m\u001b[38;5;124m\"\u001b[39m\u001b[38;5;124m'\u001b[39m\n\u001b[1;32m    406\u001b[0m         )\n\u001b[1;32m    408\u001b[0m     \u001b[38;5;28;01mif\u001b[39;00m join \u001b[38;5;241m==\u001b[39m \u001b[38;5;124m\"\u001b[39m\u001b[38;5;124mouter\u001b[39m\u001b[38;5;124m\"\u001b[39m:\n\u001b[1;32m    409\u001b[0m         \u001b[38;5;28mself\u001b[39m\u001b[38;5;241m.\u001b[39mintersect \u001b[38;5;241m=\u001b[39m \u001b[38;5;28;01mFalse\u001b[39;00m\n",
      "\u001b[0;31mTypeError\u001b[0m: first argument must be an iterable of pandas objects, you passed an object of type \"DataFrame\""
     ]
    }
   ],
   "source": [
    "for cur_uu_id in df_pred_list['uu_id']:\n",
    "    #print(uu_id)\n",
    "    test_data = df_three_col[df_three_col[\"uu_id\"].isin([cur_uu_id]) ]\n",
    "    x_train = np.array(test_data[\"week_number\"].values).reshape(-1, 1)\n",
    "    y_train = np.array(test_data[\"total_claims\"].values) \n",
    "    sgdr.fit(x_train, y_train)\n",
    "    x_pred = np.array([39]).reshape(-1, 1)\n",
    "    y_pred = int(sgdr.predict(x_pred))\n",
    "    res = pandas.DataFrame(columns = ['uu_id', 'week_number', 'total_claims'])\n",
    "    res = pandas.concat(res, {'uu_id' : cur_uu_id, 'week_number' : 37, 'total_claims' : y_pred},ignore_index = True)"
   ]
  },
  {
   "cell_type": "code",
   "execution_count": 140,
   "id": "87cbf137",
   "metadata": {
    "execution": {
     "iopub.execute_input": "2023-05-10T01:11:48.145167Z",
     "iopub.status.busy": "2023-05-10T01:11:48.145070Z",
     "iopub.status.idle": "2023-05-10T01:11:48.147355Z",
     "shell.execute_reply": "2023-05-10T01:11:48.147078Z"
    }
   },
   "outputs": [],
   "source": [
    "res.to_csv(\"submission_prediction_output.csv\", index=False)"
   ]
  },
  {
   "cell_type": "markdown",
   "id": "f98737be",
   "metadata": {},
   "source": [
    "- IMPORT THE LIBRARIES YOU WILL USE\n",
    "------------------------------------------\n",
    "You only need to import packages one time per notebook session. To keep your\n",
    "notebook clean and organized you can handle all imports at the top of your file.\n",
    "The following are included for example purposed, feel free to modify or delete \n",
    "anything in this section."
   ]
  },
  {
   "cell_type": "code",
   "execution_count": 141,
   "id": "57e2593b",
   "metadata": {
    "execution": {
     "iopub.execute_input": "2023-05-10T01:11:48.148711Z",
     "iopub.status.busy": "2023-05-10T01:11:48.148609Z",
     "iopub.status.idle": "2023-05-10T01:11:48.150401Z",
     "shell.execute_reply": "2023-05-10T01:11:48.150157Z"
    }
   },
   "outputs": [],
   "source": [
    "#import os\n",
    "import csv\n",
    "import pandas as pd\n",
    "import numpy as np\n",
    "from google.cloud import bigquery\n",
    "from google.oauth2 import service_account\n",
    "from google.cloud.bigquery import magics"
   ]
  },
  {
   "cell_type": "code",
   "execution_count": 142,
   "id": "a26f0cb4",
   "metadata": {
    "execution": {
     "iopub.execute_input": "2023-05-10T01:11:48.151715Z",
     "iopub.status.busy": "2023-05-10T01:11:48.151613Z",
     "iopub.status.idle": "2023-05-10T01:11:48.153135Z",
     "shell.execute_reply": "2023-05-10T01:11:48.152874Z"
    }
   },
   "outputs": [],
   "source": [
    "from sklearn.linear_model import SGDRegressor\n",
    "import random"
   ]
  },
  {
   "cell_type": "code",
   "execution_count": 143,
   "id": "a3b92179",
   "metadata": {
    "execution": {
     "iopub.execute_input": "2023-05-10T01:11:48.154448Z",
     "iopub.status.busy": "2023-05-10T01:11:48.154346Z",
     "iopub.status.idle": "2023-05-10T01:11:48.155895Z",
     "shell.execute_reply": "2023-05-10T01:11:48.155651Z"
    }
   },
   "outputs": [],
   "source": [
    "sgdr = SGDRegressor(max_iter = 10000)"
   ]
  },
  {
   "cell_type": "code",
   "execution_count": 144,
   "id": "c02d4316",
   "metadata": {
    "execution": {
     "iopub.execute_input": "2023-05-10T01:11:48.157175Z",
     "iopub.status.busy": "2023-05-10T01:11:48.157098Z",
     "iopub.status.idle": "2023-05-10T01:11:48.158755Z",
     "shell.execute_reply": "2023-05-10T01:11:48.158522Z"
    }
   },
   "outputs": [],
   "source": [
    "random.seed(0)"
   ]
  },
  {
   "cell_type": "code",
   "execution_count": 145,
   "id": "0df29934",
   "metadata": {
    "execution": {
     "iopub.execute_input": "2023-05-10T01:11:48.159995Z",
     "iopub.status.busy": "2023-05-10T01:11:48.159921Z",
     "iopub.status.idle": "2023-05-10T01:11:48.162137Z",
     "shell.execute_reply": "2023-05-10T01:11:48.161881Z"
    }
   },
   "outputs": [],
   "source": [
    "res = pd.DataFrame(columns = ['uu_id', 'week_number', 'total_claims'])"
   ]
  },
  {
   "cell_type": "code",
   "execution_count": 146,
   "id": "4543dd13",
   "metadata": {
    "execution": {
     "iopub.execute_input": "2023-05-10T01:11:48.163406Z",
     "iopub.status.busy": "2023-05-10T01:11:48.163322Z",
     "iopub.status.idle": "2023-05-10T01:11:48.457912Z",
     "shell.execute_reply": "2023-05-10T01:11:48.457617Z"
    },
    "lines_to_next_cell": 2
   },
   "outputs": [
    {
     "ename": "ValueError",
     "evalue": "If using all scalar values, you must pass an index",
     "output_type": "error",
     "traceback": [
      "\u001b[0;31m---------------------------------------------------------------------------\u001b[0m",
      "\u001b[0;31mValueError\u001b[0m                                Traceback (most recent call last)",
      "Cell \u001b[0;32mIn [146], line 9\u001b[0m\n\u001b[1;32m      7\u001b[0m x_pred \u001b[38;5;241m=\u001b[39m np\u001b[38;5;241m.\u001b[39marray([\u001b[38;5;241m39\u001b[39m])\u001b[38;5;241m.\u001b[39mreshape(\u001b[38;5;241m-\u001b[39m\u001b[38;5;241m1\u001b[39m, \u001b[38;5;241m1\u001b[39m)\n\u001b[1;32m      8\u001b[0m y_pred \u001b[38;5;241m=\u001b[39m \u001b[38;5;28mint\u001b[39m(sgdr\u001b[38;5;241m.\u001b[39mpredict(x_pred))\n\u001b[0;32m----> 9\u001b[0m cur_row \u001b[38;5;241m=\u001b[39m  \u001b[43mpd\u001b[49m\u001b[38;5;241;43m.\u001b[39;49m\u001b[43mDataFrame\u001b[49m\u001b[43m(\u001b[49m\u001b[43m \u001b[49m\u001b[43m{\u001b[49m\u001b[38;5;124;43m'\u001b[39;49m\u001b[38;5;124;43muu_id\u001b[39;49m\u001b[38;5;124;43m'\u001b[39;49m\u001b[43m \u001b[49m\u001b[43m:\u001b[49m\u001b[43m \u001b[49m\u001b[43mcur_uu_id\u001b[49m\u001b[43m,\u001b[49m\u001b[43m \u001b[49m\u001b[38;5;124;43m'\u001b[39;49m\u001b[38;5;124;43mweek_number\u001b[39;49m\u001b[38;5;124;43m'\u001b[39;49m\u001b[43m \u001b[49m\u001b[43m:\u001b[49m\u001b[43m \u001b[49m\u001b[38;5;241;43m37\u001b[39;49m\u001b[43m,\u001b[49m\u001b[43m \u001b[49m\u001b[38;5;124;43m'\u001b[39;49m\u001b[38;5;124;43mtotal_claims\u001b[39;49m\u001b[38;5;124;43m'\u001b[39;49m\u001b[43m \u001b[49m\u001b[43m:\u001b[49m\u001b[43m \u001b[49m\u001b[43my_pred\u001b[49m\u001b[43m}\u001b[49m\u001b[43m)\u001b[49m\n\u001b[1;32m     10\u001b[0m res \u001b[38;5;241m=\u001b[39m pd\u001b[38;5;241m.\u001b[39mconcat(res,cur_row,ignore_index \u001b[38;5;241m=\u001b[39m \u001b[38;5;28;01mTrue\u001b[39;00m)\n",
      "File \u001b[0;32m/opt/homebrew/lib/python3.9/site-packages/pandas/core/frame.py:662\u001b[0m, in \u001b[0;36mDataFrame.__init__\u001b[0;34m(self, data, index, columns, dtype, copy)\u001b[0m\n\u001b[1;32m    656\u001b[0m     mgr \u001b[38;5;241m=\u001b[39m \u001b[38;5;28mself\u001b[39m\u001b[38;5;241m.\u001b[39m_init_mgr(\n\u001b[1;32m    657\u001b[0m         data, axes\u001b[38;5;241m=\u001b[39m{\u001b[38;5;124m\"\u001b[39m\u001b[38;5;124mindex\u001b[39m\u001b[38;5;124m\"\u001b[39m: index, \u001b[38;5;124m\"\u001b[39m\u001b[38;5;124mcolumns\u001b[39m\u001b[38;5;124m\"\u001b[39m: columns}, dtype\u001b[38;5;241m=\u001b[39mdtype, copy\u001b[38;5;241m=\u001b[39mcopy\n\u001b[1;32m    658\u001b[0m     )\n\u001b[1;32m    660\u001b[0m \u001b[38;5;28;01melif\u001b[39;00m \u001b[38;5;28misinstance\u001b[39m(data, \u001b[38;5;28mdict\u001b[39m):\n\u001b[1;32m    661\u001b[0m     \u001b[38;5;66;03m# GH#38939 de facto copy defaults to False only in non-dict cases\u001b[39;00m\n\u001b[0;32m--> 662\u001b[0m     mgr \u001b[38;5;241m=\u001b[39m \u001b[43mdict_to_mgr\u001b[49m\u001b[43m(\u001b[49m\u001b[43mdata\u001b[49m\u001b[43m,\u001b[49m\u001b[43m \u001b[49m\u001b[43mindex\u001b[49m\u001b[43m,\u001b[49m\u001b[43m \u001b[49m\u001b[43mcolumns\u001b[49m\u001b[43m,\u001b[49m\u001b[43m \u001b[49m\u001b[43mdtype\u001b[49m\u001b[38;5;241;43m=\u001b[39;49m\u001b[43mdtype\u001b[49m\u001b[43m,\u001b[49m\u001b[43m \u001b[49m\u001b[43mcopy\u001b[49m\u001b[38;5;241;43m=\u001b[39;49m\u001b[43mcopy\u001b[49m\u001b[43m,\u001b[49m\u001b[43m \u001b[49m\u001b[43mtyp\u001b[49m\u001b[38;5;241;43m=\u001b[39;49m\u001b[43mmanager\u001b[49m\u001b[43m)\u001b[49m\n\u001b[1;32m    663\u001b[0m \u001b[38;5;28;01melif\u001b[39;00m \u001b[38;5;28misinstance\u001b[39m(data, ma\u001b[38;5;241m.\u001b[39mMaskedArray):\n\u001b[1;32m    664\u001b[0m     \u001b[38;5;28;01mimport\u001b[39;00m \u001b[38;5;21;01mnumpy\u001b[39;00m\u001b[38;5;21;01m.\u001b[39;00m\u001b[38;5;21;01mma\u001b[39;00m\u001b[38;5;21;01m.\u001b[39;00m\u001b[38;5;21;01mmrecords\u001b[39;00m \u001b[38;5;28;01mas\u001b[39;00m \u001b[38;5;21;01mmrecords\u001b[39;00m\n",
      "File \u001b[0;32m/opt/homebrew/lib/python3.9/site-packages/pandas/core/internals/construction.py:493\u001b[0m, in \u001b[0;36mdict_to_mgr\u001b[0;34m(data, index, columns, dtype, typ, copy)\u001b[0m\n\u001b[1;32m    489\u001b[0m     \u001b[38;5;28;01melse\u001b[39;00m:\n\u001b[1;32m    490\u001b[0m         \u001b[38;5;66;03m# dtype check to exclude e.g. range objects, scalars\u001b[39;00m\n\u001b[1;32m    491\u001b[0m         arrays \u001b[38;5;241m=\u001b[39m [x\u001b[38;5;241m.\u001b[39mcopy() \u001b[38;5;28;01mif\u001b[39;00m \u001b[38;5;28mhasattr\u001b[39m(x, \u001b[38;5;124m\"\u001b[39m\u001b[38;5;124mdtype\u001b[39m\u001b[38;5;124m\"\u001b[39m) \u001b[38;5;28;01melse\u001b[39;00m x \u001b[38;5;28;01mfor\u001b[39;00m x \u001b[38;5;129;01min\u001b[39;00m arrays]\n\u001b[0;32m--> 493\u001b[0m \u001b[38;5;28;01mreturn\u001b[39;00m \u001b[43marrays_to_mgr\u001b[49m\u001b[43m(\u001b[49m\u001b[43marrays\u001b[49m\u001b[43m,\u001b[49m\u001b[43m \u001b[49m\u001b[43mcolumns\u001b[49m\u001b[43m,\u001b[49m\u001b[43m \u001b[49m\u001b[43mindex\u001b[49m\u001b[43m,\u001b[49m\u001b[43m \u001b[49m\u001b[43mdtype\u001b[49m\u001b[38;5;241;43m=\u001b[39;49m\u001b[43mdtype\u001b[49m\u001b[43m,\u001b[49m\u001b[43m \u001b[49m\u001b[43mtyp\u001b[49m\u001b[38;5;241;43m=\u001b[39;49m\u001b[43mtyp\u001b[49m\u001b[43m,\u001b[49m\u001b[43m \u001b[49m\u001b[43mconsolidate\u001b[49m\u001b[38;5;241;43m=\u001b[39;49m\u001b[43mcopy\u001b[49m\u001b[43m)\u001b[49m\n",
      "File \u001b[0;32m/opt/homebrew/lib/python3.9/site-packages/pandas/core/internals/construction.py:118\u001b[0m, in \u001b[0;36marrays_to_mgr\u001b[0;34m(arrays, columns, index, dtype, verify_integrity, typ, consolidate)\u001b[0m\n\u001b[1;32m    115\u001b[0m \u001b[38;5;28;01mif\u001b[39;00m verify_integrity:\n\u001b[1;32m    116\u001b[0m     \u001b[38;5;66;03m# figure out the index, if necessary\u001b[39;00m\n\u001b[1;32m    117\u001b[0m     \u001b[38;5;28;01mif\u001b[39;00m index \u001b[38;5;129;01mis\u001b[39;00m \u001b[38;5;28;01mNone\u001b[39;00m:\n\u001b[0;32m--> 118\u001b[0m         index \u001b[38;5;241m=\u001b[39m \u001b[43m_extract_index\u001b[49m\u001b[43m(\u001b[49m\u001b[43marrays\u001b[49m\u001b[43m)\u001b[49m\n\u001b[1;32m    119\u001b[0m     \u001b[38;5;28;01melse\u001b[39;00m:\n\u001b[1;32m    120\u001b[0m         index \u001b[38;5;241m=\u001b[39m ensure_index(index)\n",
      "File \u001b[0;32m/opt/homebrew/lib/python3.9/site-packages/pandas/core/internals/construction.py:656\u001b[0m, in \u001b[0;36m_extract_index\u001b[0;34m(data)\u001b[0m\n\u001b[1;32m    653\u001b[0m         \u001b[38;5;28;01mraise\u001b[39;00m \u001b[38;5;167;01mValueError\u001b[39;00m(\u001b[38;5;124m\"\u001b[39m\u001b[38;5;124mPer-column arrays must each be 1-dimensional\u001b[39m\u001b[38;5;124m\"\u001b[39m)\n\u001b[1;32m    655\u001b[0m \u001b[38;5;28;01mif\u001b[39;00m \u001b[38;5;129;01mnot\u001b[39;00m indexes \u001b[38;5;129;01mand\u001b[39;00m \u001b[38;5;129;01mnot\u001b[39;00m raw_lengths:\n\u001b[0;32m--> 656\u001b[0m     \u001b[38;5;28;01mraise\u001b[39;00m \u001b[38;5;167;01mValueError\u001b[39;00m(\u001b[38;5;124m\"\u001b[39m\u001b[38;5;124mIf using all scalar values, you must pass an index\u001b[39m\u001b[38;5;124m\"\u001b[39m)\n\u001b[1;32m    658\u001b[0m \u001b[38;5;28;01melif\u001b[39;00m have_series:\n\u001b[1;32m    659\u001b[0m     index \u001b[38;5;241m=\u001b[39m union_indexes(indexes)\n",
      "\u001b[0;31mValueError\u001b[0m: If using all scalar values, you must pass an index"
     ]
    }
   ],
   "source": [
    "for cur_uu_id in df_pred_list['uu_id']:\n",
    "    #print(uu_id)\n",
    "    test_data = df_three_col[df_three_col[\"uu_id\"].isin([cur_uu_id]) ]\n",
    "    x_train = np.array(test_data[\"week_number\"].values).reshape(-1, 1)\n",
    "    y_train = np.array(test_data[\"total_claims\"].values) \n",
    "    sgdr.fit(x_train, y_train)\n",
    "    x_pred = np.array([39]).reshape(-1, 1)\n",
    "    y_pred = int(sgdr.predict(x_pred))\n",
    "    cur_row =  pd.DataFrame( {'uu_id' : cur_uu_id, 'week_number' : 37, 'total_claims' : y_pred})\n",
    "    res = pd.concat(res,cur_row,ignore_index = True)"
   ]
  },
  {
   "cell_type": "code",
   "execution_count": 147,
   "id": "060584db",
   "metadata": {
    "execution": {
     "iopub.execute_input": "2023-05-10T01:11:48.459386Z",
     "iopub.status.busy": "2023-05-10T01:11:48.459282Z",
     "iopub.status.idle": "2023-05-10T01:11:48.461426Z",
     "shell.execute_reply": "2023-05-10T01:11:48.461188Z"
    }
   },
   "outputs": [],
   "source": [
    "res.to_csv(\"submission_prediction_output.csv\", index=False)"
   ]
  },
  {
   "cell_type": "code",
   "execution_count": 148,
   "id": "b61de8c6",
   "metadata": {
    "execution": {
     "iopub.execute_input": "2023-05-10T01:11:48.462836Z",
     "iopub.status.busy": "2023-05-10T01:11:48.462729Z",
     "iopub.status.idle": "2023-05-10T01:11:48.464355Z",
     "shell.execute_reply": "2023-05-10T01:11:48.464118Z"
    }
   },
   "outputs": [],
   "source": [
    "sgdr = SGDRegressor(max_iter = 10000)"
   ]
  },
  {
   "cell_type": "code",
   "execution_count": 149,
   "id": "b1be4686",
   "metadata": {
    "execution": {
     "iopub.execute_input": "2023-05-10T01:11:48.465709Z",
     "iopub.status.busy": "2023-05-10T01:11:48.465595Z",
     "iopub.status.idle": "2023-05-10T01:11:48.467229Z",
     "shell.execute_reply": "2023-05-10T01:11:48.467004Z"
    }
   },
   "outputs": [],
   "source": [
    "random.seed(0)"
   ]
  },
  {
   "cell_type": "code",
   "execution_count": 150,
   "id": "25b9424d",
   "metadata": {
    "execution": {
     "iopub.execute_input": "2023-05-10T01:11:48.468519Z",
     "iopub.status.busy": "2023-05-10T01:11:48.468432Z",
     "iopub.status.idle": "2023-05-10T01:11:48.470704Z",
     "shell.execute_reply": "2023-05-10T01:11:48.470451Z"
    }
   },
   "outputs": [],
   "source": [
    "res = pd.DataFrame(columns = ['uu_id', 'week_number', 'total_claims'])"
   ]
  },
  {
   "cell_type": "code",
   "execution_count": 151,
   "id": "d4404bf4",
   "metadata": {
    "execution": {
     "iopub.execute_input": "2023-05-10T01:11:48.472062Z",
     "iopub.status.busy": "2023-05-10T01:11:48.471984Z",
     "iopub.status.idle": "2023-05-10T01:11:48.497488Z",
     "shell.execute_reply": "2023-05-10T01:11:48.497189Z"
    },
    "lines_to_next_cell": 2
   },
   "outputs": [
    {
     "name": "stderr",
     "output_type": "stream",
     "text": [
      "/var/folders/l2/cnhff0_n1470l4xf0p7v7l_40000gn/T/ipykernel_15919/1114565338.py:10: FutureWarning: In a future version of pandas all arguments of concat except for the argument 'objs' will be keyword-only.\n",
      "  res = pd.concat(res,cur_row,ignore_index = True)\n"
     ]
    },
    {
     "ename": "TypeError",
     "evalue": "first argument must be an iterable of pandas objects, you passed an object of type \"DataFrame\"",
     "output_type": "error",
     "traceback": [
      "\u001b[0;31m---------------------------------------------------------------------------\u001b[0m",
      "\u001b[0;31mTypeError\u001b[0m                                 Traceback (most recent call last)",
      "Cell \u001b[0;32mIn [151], line 10\u001b[0m\n\u001b[1;32m      8\u001b[0m y_pred \u001b[38;5;241m=\u001b[39m \u001b[38;5;28mint\u001b[39m(sgdr\u001b[38;5;241m.\u001b[39mpredict(x_pred))\n\u001b[1;32m      9\u001b[0m cur_row \u001b[38;5;241m=\u001b[39m  pd\u001b[38;5;241m.\u001b[39mDataFrame([[cur_uu_id, \u001b[38;5;241m39\u001b[39m, y_pred]], columns\u001b[38;5;241m=\u001b[39m[\u001b[38;5;124m'\u001b[39m\u001b[38;5;124muu_id\u001b[39m\u001b[38;5;124m'\u001b[39m, \u001b[38;5;124m'\u001b[39m\u001b[38;5;124mweek_number\u001b[39m\u001b[38;5;124m'\u001b[39m, \u001b[38;5;124m'\u001b[39m\u001b[38;5;124mtotal_claims\u001b[39m\u001b[38;5;124m'\u001b[39m] )\n\u001b[0;32m---> 10\u001b[0m res \u001b[38;5;241m=\u001b[39m \u001b[43mpd\u001b[49m\u001b[38;5;241;43m.\u001b[39;49m\u001b[43mconcat\u001b[49m\u001b[43m(\u001b[49m\u001b[43mres\u001b[49m\u001b[43m,\u001b[49m\u001b[43mcur_row\u001b[49m\u001b[43m,\u001b[49m\u001b[43mignore_index\u001b[49m\u001b[43m \u001b[49m\u001b[38;5;241;43m=\u001b[39;49m\u001b[43m \u001b[49m\u001b[38;5;28;43;01mTrue\u001b[39;49;00m\u001b[43m)\u001b[49m\n",
      "File \u001b[0;32m/opt/homebrew/lib/python3.9/site-packages/pandas/util/_decorators.py:331\u001b[0m, in \u001b[0;36mdeprecate_nonkeyword_arguments.<locals>.decorate.<locals>.wrapper\u001b[0;34m(*args, **kwargs)\u001b[0m\n\u001b[1;32m    325\u001b[0m \u001b[38;5;28;01mif\u001b[39;00m \u001b[38;5;28mlen\u001b[39m(args) \u001b[38;5;241m>\u001b[39m num_allow_args:\n\u001b[1;32m    326\u001b[0m     warnings\u001b[38;5;241m.\u001b[39mwarn(\n\u001b[1;32m    327\u001b[0m         msg\u001b[38;5;241m.\u001b[39mformat(arguments\u001b[38;5;241m=\u001b[39m_format_argument_list(allow_args)),\n\u001b[1;32m    328\u001b[0m         \u001b[38;5;167;01mFutureWarning\u001b[39;00m,\n\u001b[1;32m    329\u001b[0m         stacklevel\u001b[38;5;241m=\u001b[39mfind_stack_level(),\n\u001b[1;32m    330\u001b[0m     )\n\u001b[0;32m--> 331\u001b[0m \u001b[38;5;28;01mreturn\u001b[39;00m \u001b[43mfunc\u001b[49m\u001b[43m(\u001b[49m\u001b[38;5;241;43m*\u001b[39;49m\u001b[43margs\u001b[49m\u001b[43m,\u001b[49m\u001b[43m \u001b[49m\u001b[38;5;241;43m*\u001b[39;49m\u001b[38;5;241;43m*\u001b[39;49m\u001b[43mkwargs\u001b[49m\u001b[43m)\u001b[49m\n",
      "File \u001b[0;32m/opt/homebrew/lib/python3.9/site-packages/pandas/core/reshape/concat.py:368\u001b[0m, in \u001b[0;36mconcat\u001b[0;34m(objs, axis, join, ignore_index, keys, levels, names, verify_integrity, sort, copy)\u001b[0m\n\u001b[1;32m    146\u001b[0m \u001b[38;5;129m@deprecate_nonkeyword_arguments\u001b[39m(version\u001b[38;5;241m=\u001b[39m\u001b[38;5;28;01mNone\u001b[39;00m, allowed_args\u001b[38;5;241m=\u001b[39m[\u001b[38;5;124m\"\u001b[39m\u001b[38;5;124mobjs\u001b[39m\u001b[38;5;124m\"\u001b[39m])\n\u001b[1;32m    147\u001b[0m \u001b[38;5;28;01mdef\u001b[39;00m \u001b[38;5;21mconcat\u001b[39m(\n\u001b[1;32m    148\u001b[0m     objs: Iterable[NDFrame] \u001b[38;5;241m|\u001b[39m Mapping[HashableT, NDFrame],\n\u001b[0;32m   (...)\u001b[0m\n\u001b[1;32m    157\u001b[0m     copy: \u001b[38;5;28mbool\u001b[39m \u001b[38;5;241m=\u001b[39m \u001b[38;5;28;01mTrue\u001b[39;00m,\n\u001b[1;32m    158\u001b[0m ) \u001b[38;5;241m-\u001b[39m\u001b[38;5;241m>\u001b[39m DataFrame \u001b[38;5;241m|\u001b[39m Series:\n\u001b[1;32m    159\u001b[0m     \u001b[38;5;124;03m\"\"\"\u001b[39;00m\n\u001b[1;32m    160\u001b[0m \u001b[38;5;124;03m    Concatenate pandas objects along a particular axis.\u001b[39;00m\n\u001b[1;32m    161\u001b[0m \n\u001b[0;32m   (...)\u001b[0m\n\u001b[1;32m    366\u001b[0m \u001b[38;5;124;03m    1   3   4\u001b[39;00m\n\u001b[1;32m    367\u001b[0m \u001b[38;5;124;03m    \"\"\"\u001b[39;00m\n\u001b[0;32m--> 368\u001b[0m     op \u001b[38;5;241m=\u001b[39m \u001b[43m_Concatenator\u001b[49m\u001b[43m(\u001b[49m\n\u001b[1;32m    369\u001b[0m \u001b[43m        \u001b[49m\u001b[43mobjs\u001b[49m\u001b[43m,\u001b[49m\n\u001b[1;32m    370\u001b[0m \u001b[43m        \u001b[49m\u001b[43maxis\u001b[49m\u001b[38;5;241;43m=\u001b[39;49m\u001b[43maxis\u001b[49m\u001b[43m,\u001b[49m\n\u001b[1;32m    371\u001b[0m \u001b[43m        \u001b[49m\u001b[43mignore_index\u001b[49m\u001b[38;5;241;43m=\u001b[39;49m\u001b[43mignore_index\u001b[49m\u001b[43m,\u001b[49m\n\u001b[1;32m    372\u001b[0m \u001b[43m        \u001b[49m\u001b[43mjoin\u001b[49m\u001b[38;5;241;43m=\u001b[39;49m\u001b[43mjoin\u001b[49m\u001b[43m,\u001b[49m\n\u001b[1;32m    373\u001b[0m \u001b[43m        \u001b[49m\u001b[43mkeys\u001b[49m\u001b[38;5;241;43m=\u001b[39;49m\u001b[43mkeys\u001b[49m\u001b[43m,\u001b[49m\n\u001b[1;32m    374\u001b[0m \u001b[43m        \u001b[49m\u001b[43mlevels\u001b[49m\u001b[38;5;241;43m=\u001b[39;49m\u001b[43mlevels\u001b[49m\u001b[43m,\u001b[49m\n\u001b[1;32m    375\u001b[0m \u001b[43m        \u001b[49m\u001b[43mnames\u001b[49m\u001b[38;5;241;43m=\u001b[39;49m\u001b[43mnames\u001b[49m\u001b[43m,\u001b[49m\n\u001b[1;32m    376\u001b[0m \u001b[43m        \u001b[49m\u001b[43mverify_integrity\u001b[49m\u001b[38;5;241;43m=\u001b[39;49m\u001b[43mverify_integrity\u001b[49m\u001b[43m,\u001b[49m\n\u001b[1;32m    377\u001b[0m \u001b[43m        \u001b[49m\u001b[43mcopy\u001b[49m\u001b[38;5;241;43m=\u001b[39;49m\u001b[43mcopy\u001b[49m\u001b[43m,\u001b[49m\n\u001b[1;32m    378\u001b[0m \u001b[43m        \u001b[49m\u001b[43msort\u001b[49m\u001b[38;5;241;43m=\u001b[39;49m\u001b[43msort\u001b[49m\u001b[43m,\u001b[49m\n\u001b[1;32m    379\u001b[0m \u001b[43m    \u001b[49m\u001b[43m)\u001b[49m\n\u001b[1;32m    381\u001b[0m     \u001b[38;5;28;01mreturn\u001b[39;00m op\u001b[38;5;241m.\u001b[39mget_result()\n",
      "File \u001b[0;32m/opt/homebrew/lib/python3.9/site-packages/pandas/core/reshape/concat.py:403\u001b[0m, in \u001b[0;36m_Concatenator.__init__\u001b[0;34m(self, objs, axis, join, keys, levels, names, ignore_index, verify_integrity, copy, sort)\u001b[0m\n\u001b[1;32m    389\u001b[0m \u001b[38;5;28;01mdef\u001b[39;00m \u001b[38;5;21m__init__\u001b[39m(\n\u001b[1;32m    390\u001b[0m     \u001b[38;5;28mself\u001b[39m,\n\u001b[1;32m    391\u001b[0m     objs: Iterable[NDFrame] \u001b[38;5;241m|\u001b[39m Mapping[HashableT, NDFrame],\n\u001b[0;32m   (...)\u001b[0m\n\u001b[1;32m    400\u001b[0m     sort\u001b[38;5;241m=\u001b[39m\u001b[38;5;28;01mFalse\u001b[39;00m,\n\u001b[1;32m    401\u001b[0m ) \u001b[38;5;241m-\u001b[39m\u001b[38;5;241m>\u001b[39m \u001b[38;5;28;01mNone\u001b[39;00m:\n\u001b[1;32m    402\u001b[0m     \u001b[38;5;28;01mif\u001b[39;00m \u001b[38;5;28misinstance\u001b[39m(objs, (ABCSeries, ABCDataFrame, \u001b[38;5;28mstr\u001b[39m)):\n\u001b[0;32m--> 403\u001b[0m         \u001b[38;5;28;01mraise\u001b[39;00m \u001b[38;5;167;01mTypeError\u001b[39;00m(\n\u001b[1;32m    404\u001b[0m             \u001b[38;5;124m\"\u001b[39m\u001b[38;5;124mfirst argument must be an iterable of pandas \u001b[39m\u001b[38;5;124m\"\u001b[39m\n\u001b[1;32m    405\u001b[0m             \u001b[38;5;124mf\u001b[39m\u001b[38;5;124m'\u001b[39m\u001b[38;5;124mobjects, you passed an object of type \u001b[39m\u001b[38;5;124m\"\u001b[39m\u001b[38;5;132;01m{\u001b[39;00m\u001b[38;5;28mtype\u001b[39m(objs)\u001b[38;5;241m.\u001b[39m\u001b[38;5;18m__name__\u001b[39m\u001b[38;5;132;01m}\u001b[39;00m\u001b[38;5;124m\"\u001b[39m\u001b[38;5;124m'\u001b[39m\n\u001b[1;32m    406\u001b[0m         )\n\u001b[1;32m    408\u001b[0m     \u001b[38;5;28;01mif\u001b[39;00m join \u001b[38;5;241m==\u001b[39m \u001b[38;5;124m\"\u001b[39m\u001b[38;5;124mouter\u001b[39m\u001b[38;5;124m\"\u001b[39m:\n\u001b[1;32m    409\u001b[0m         \u001b[38;5;28mself\u001b[39m\u001b[38;5;241m.\u001b[39mintersect \u001b[38;5;241m=\u001b[39m \u001b[38;5;28;01mFalse\u001b[39;00m\n",
      "\u001b[0;31mTypeError\u001b[0m: first argument must be an iterable of pandas objects, you passed an object of type \"DataFrame\""
     ]
    }
   ],
   "source": [
    "for cur_uu_id in df_pred_list['uu_id']:\n",
    "    #print(uu_id)\n",
    "    test_data = df_three_col[df_three_col[\"uu_id\"].isin([cur_uu_id]) ]\n",
    "    x_train = np.array(test_data[\"week_number\"].values).reshape(-1, 1)\n",
    "    y_train = np.array(test_data[\"total_claims\"].values) \n",
    "    sgdr.fit(x_train, y_train)\n",
    "    x_pred = np.array([39]).reshape(-1, 1)\n",
    "    y_pred = int(sgdr.predict(x_pred))\n",
    "    cur_row =  pd.DataFrame([[cur_uu_id, 39, y_pred]], columns=['uu_id', 'week_number', 'total_claims'] )\n",
    "    res = pd.concat(res,cur_row,ignore_index = True)"
   ]
  },
  {
   "cell_type": "code",
   "execution_count": 152,
   "id": "ffd76311",
   "metadata": {
    "execution": {
     "iopub.execute_input": "2023-05-10T01:11:48.498931Z",
     "iopub.status.busy": "2023-05-10T01:11:48.498826Z",
     "iopub.status.idle": "2023-05-10T01:11:48.500954Z",
     "shell.execute_reply": "2023-05-10T01:11:48.500684Z"
    }
   },
   "outputs": [],
   "source": [
    "res.to_csv(\"submission_prediction_output.csv\", index=False)"
   ]
  },
  {
   "cell_type": "code",
   "execution_count": 153,
   "id": "3a6739b7",
   "metadata": {
    "execution": {
     "iopub.execute_input": "2023-05-10T01:11:48.502269Z",
     "iopub.status.busy": "2023-05-10T01:11:48.502167Z",
     "iopub.status.idle": "2023-05-10T01:11:48.503769Z",
     "shell.execute_reply": "2023-05-10T01:11:48.503553Z"
    }
   },
   "outputs": [],
   "source": [
    "sgdr = SGDRegressor(max_iter = 10000)"
   ]
  },
  {
   "cell_type": "code",
   "execution_count": 154,
   "id": "f8d240ff",
   "metadata": {
    "execution": {
     "iopub.execute_input": "2023-05-10T01:11:48.504939Z",
     "iopub.status.busy": "2023-05-10T01:11:48.504843Z",
     "iopub.status.idle": "2023-05-10T01:11:48.506465Z",
     "shell.execute_reply": "2023-05-10T01:11:48.506234Z"
    }
   },
   "outputs": [],
   "source": [
    "random.seed(0)"
   ]
  },
  {
   "cell_type": "code",
   "execution_count": 155,
   "id": "28cbf296",
   "metadata": {
    "execution": {
     "iopub.execute_input": "2023-05-10T01:11:48.507774Z",
     "iopub.status.busy": "2023-05-10T01:11:48.507681Z",
     "iopub.status.idle": "2023-05-10T01:11:48.509887Z",
     "shell.execute_reply": "2023-05-10T01:11:48.509663Z"
    }
   },
   "outputs": [],
   "source": [
    "res = pd.DataFrame(columns = ['uu_id', 'week_number', 'total_claims'])"
   ]
  },
  {
   "cell_type": "code",
   "execution_count": 156,
   "id": "a4c48211",
   "metadata": {
    "execution": {
     "iopub.execute_input": "2023-05-10T01:11:48.511216Z",
     "iopub.status.busy": "2023-05-10T01:11:48.511136Z",
     "iopub.status.idle": "2023-05-10T01:11:48.910286Z",
     "shell.execute_reply": "2023-05-10T01:11:48.909971Z"
    },
    "lines_to_next_cell": 2
   },
   "outputs": [],
   "source": [
    "for cur_uu_id in df_pred_list['uu_id']:\n",
    "    #print(uu_id)\n",
    "    test_data = df_three_col[df_three_col[\"uu_id\"].isin([cur_uu_id]) ]\n",
    "    x_train = np.array(test_data[\"week_number\"].values).reshape(-1, 1)\n",
    "    y_train = np.array(test_data[\"total_claims\"].values) \n",
    "    sgdr.fit(x_train, y_train)\n",
    "    x_pred = np.array([39]).reshape(-1, 1)\n",
    "    y_pred = int(sgdr.predict(x_pred))\n",
    "    cur_row =  pd.DataFrame([[cur_uu_id, 39, y_pred]], columns=['uu_id', 'week_number', 'total_claims'] )\n",
    "    res = pd.concat([res,cur_row] ,ignore_index = True)"
   ]
  },
  {
   "cell_type": "code",
   "execution_count": 157,
   "id": "b27a5884",
   "metadata": {
    "execution": {
     "iopub.execute_input": "2023-05-10T01:11:48.911986Z",
     "iopub.status.busy": "2023-05-10T01:11:48.911891Z",
     "iopub.status.idle": "2023-05-10T01:11:48.914770Z",
     "shell.execute_reply": "2023-05-10T01:11:48.914532Z"
    }
   },
   "outputs": [],
   "source": [
    "res.to_csv(\"submission_prediction_output.csv\", index=False)"
   ]
  },
  {
   "cell_type": "code",
   "execution_count": 158,
   "id": "5b05d9d9",
   "metadata": {
    "execution": {
     "iopub.execute_input": "2023-05-10T01:11:48.916142Z",
     "iopub.status.busy": "2023-05-10T01:11:48.916053Z",
     "iopub.status.idle": "2023-05-10T01:11:48.917641Z",
     "shell.execute_reply": "2023-05-10T01:11:48.917421Z"
    }
   },
   "outputs": [],
   "source": [
    "sgdr = SGDRegressor(max_iter = 100000)"
   ]
  },
  {
   "cell_type": "code",
   "execution_count": 159,
   "id": "6a95a1cb",
   "metadata": {
    "execution": {
     "iopub.execute_input": "2023-05-10T01:11:48.918940Z",
     "iopub.status.busy": "2023-05-10T01:11:48.918841Z",
     "iopub.status.idle": "2023-05-10T01:11:48.920395Z",
     "shell.execute_reply": "2023-05-10T01:11:48.920159Z"
    }
   },
   "outputs": [],
   "source": [
    "random.seed(0)"
   ]
  },
  {
   "cell_type": "code",
   "execution_count": 160,
   "id": "2571b8fb",
   "metadata": {
    "execution": {
     "iopub.execute_input": "2023-05-10T01:11:48.921775Z",
     "iopub.status.busy": "2023-05-10T01:11:48.921680Z",
     "iopub.status.idle": "2023-05-10T01:11:48.923805Z",
     "shell.execute_reply": "2023-05-10T01:11:48.923544Z"
    }
   },
   "outputs": [],
   "source": [
    "res = pd.DataFrame(columns = ['uu_id', 'week_number', 'total_claims'])"
   ]
  },
  {
   "cell_type": "code",
   "execution_count": 161,
   "id": "7c6f4688",
   "metadata": {
    "execution": {
     "iopub.execute_input": "2023-05-10T01:11:48.925246Z",
     "iopub.status.busy": "2023-05-10T01:11:48.925144Z",
     "iopub.status.idle": "2023-05-10T01:11:49.323699Z",
     "shell.execute_reply": "2023-05-10T01:11:49.323403Z"
    },
    "lines_to_next_cell": 2
   },
   "outputs": [],
   "source": [
    "for cur_uu_id in df_pred_list['uu_id']:\n",
    "    #print(uu_id)\n",
    "    test_data = df_three_col[df_three_col[\"uu_id\"].isin([cur_uu_id]) ]\n",
    "    x_train = np.array(test_data[\"week_number\"].values).reshape(-1, 1)\n",
    "    y_train = np.array(test_data[\"total_claims\"].values) \n",
    "    sgdr.fit(x_train, y_train)\n",
    "    x_pred = np.array([39]).reshape(-1, 1)\n",
    "    y_pred = int(sgdr.predict(x_pred))\n",
    "    cur_row =  pd.DataFrame([[cur_uu_id, 39, y_pred]], columns=['uu_id', 'week_number', 'total_claims'] )\n",
    "    res = pd.concat([res,cur_row] ,ignore_index = True)"
   ]
  },
  {
   "cell_type": "code",
   "execution_count": 162,
   "id": "7f9b4994",
   "metadata": {
    "execution": {
     "iopub.execute_input": "2023-05-10T01:11:49.325347Z",
     "iopub.status.busy": "2023-05-10T01:11:49.325254Z",
     "iopub.status.idle": "2023-05-10T01:11:49.328193Z",
     "shell.execute_reply": "2023-05-10T01:11:49.327940Z"
    }
   },
   "outputs": [],
   "source": [
    "res.to_csv(\"submission_prediction_output.csv\", index=False)"
   ]
  },
  {
   "cell_type": "code",
   "execution_count": 163,
   "id": "51a76bd0",
   "metadata": {
    "execution": {
     "iopub.execute_input": "2023-05-10T01:11:49.329522Z",
     "iopub.status.busy": "2023-05-10T01:11:49.329441Z",
     "iopub.status.idle": "2023-05-10T01:11:49.331047Z",
     "shell.execute_reply": "2023-05-10T01:11:49.330792Z"
    }
   },
   "outputs": [],
   "source": [
    "sgdr = SGDRegressor(max_iter = 100000)"
   ]
  },
  {
   "cell_type": "code",
   "execution_count": 164,
   "id": "d11a06b5",
   "metadata": {
    "execution": {
     "iopub.execute_input": "2023-05-10T01:11:49.332279Z",
     "iopub.status.busy": "2023-05-10T01:11:49.332174Z",
     "iopub.status.idle": "2023-05-10T01:11:49.333773Z",
     "shell.execute_reply": "2023-05-10T01:11:49.333547Z"
    }
   },
   "outputs": [],
   "source": [
    "random.seed(0)"
   ]
  },
  {
   "cell_type": "code",
   "execution_count": 165,
   "id": "aceaca4f",
   "metadata": {
    "execution": {
     "iopub.execute_input": "2023-05-10T01:11:49.335011Z",
     "iopub.status.busy": "2023-05-10T01:11:49.334911Z",
     "iopub.status.idle": "2023-05-10T01:11:49.336971Z",
     "shell.execute_reply": "2023-05-10T01:11:49.336736Z"
    }
   },
   "outputs": [],
   "source": [
    "res = pd.DataFrame(columns = ['uu_id', 'week_number', 'total_claims'])"
   ]
  },
  {
   "cell_type": "code",
   "execution_count": 166,
   "id": "f3ab186c",
   "metadata": {
    "execution": {
     "iopub.execute_input": "2023-05-10T01:11:49.338406Z",
     "iopub.status.busy": "2023-05-10T01:11:49.338303Z",
     "iopub.status.idle": "2023-05-10T01:11:49.729955Z",
     "shell.execute_reply": "2023-05-10T01:11:49.729660Z"
    },
    "lines_to_next_cell": 2
   },
   "outputs": [],
   "source": [
    "for cur_uu_id in df_pred_list['uu_id']:\n",
    "    #print(uu_id)\n",
    "    test_data = df_three_col[df_three_col[\"uu_id\"].isin([cur_uu_id]) ]\n",
    "    x_train = np.array(test_data[\"week_number\"].values).reshape(-1, 1)\n",
    "    y_train = np.array(test_data[\"total_claims\"].values) \n",
    "    sgdr.fit(x_train, y_train)\n",
    "    x_pred = np.array([39]).reshape(-1, 1)\n",
    "    y_pred = int(sgdr.predict(x_pred))\n",
    "    cur_row =  pd.DataFrame([[cur_uu_id, 39, y_pred]], columns=['uu_id', 'week_number', 'total_claims'] )\n",
    "    res = pd.concat([res,cur_row] ,ignore_index = True)"
   ]
  },
  {
   "cell_type": "code",
   "execution_count": 167,
   "id": "33389466",
   "metadata": {
    "execution": {
     "iopub.execute_input": "2023-05-10T01:11:49.731598Z",
     "iopub.status.busy": "2023-05-10T01:11:49.731506Z",
     "iopub.status.idle": "2023-05-10T01:11:49.734432Z",
     "shell.execute_reply": "2023-05-10T01:11:49.734194Z"
    }
   },
   "outputs": [
    {
     "name": "stdout",
     "output_type": "stream",
     "text": [
      "done\n"
     ]
    }
   ],
   "source": [
    "res.to_csv(\"submission_prediction_output.csv\", index=False)\n",
    "print(\"done\")"
   ]
  },
  {
   "cell_type": "code",
   "execution_count": 168,
   "id": "f38b1b09",
   "metadata": {
    "execution": {
     "iopub.execute_input": "2023-05-10T01:11:49.735763Z",
     "iopub.status.busy": "2023-05-10T01:11:49.735657Z",
     "iopub.status.idle": "2023-05-10T01:11:49.742108Z",
     "shell.execute_reply": "2023-05-10T01:11:49.741859Z"
    }
   },
   "outputs": [
    {
     "ename": "NameError",
     "evalue": "name 'LinearRegression' is not defined",
     "output_type": "error",
     "traceback": [
      "\u001b[0;31m---------------------------------------------------------------------------\u001b[0m",
      "\u001b[0;31mNameError\u001b[0m                                 Traceback (most recent call last)",
      "Cell \u001b[0;32mIn [168], line 1\u001b[0m\n\u001b[0;32m----> 1\u001b[0m reg \u001b[38;5;241m=\u001b[39m \u001b[43mLinearRegression\u001b[49m()\n",
      "\u001b[0;31mNameError\u001b[0m: name 'LinearRegression' is not defined"
     ]
    }
   ],
   "source": [
    "reg = LinearRegression()"
   ]
  },
  {
   "cell_type": "code",
   "execution_count": 169,
   "id": "9ff295d2",
   "metadata": {
    "execution": {
     "iopub.execute_input": "2023-05-10T01:11:49.743493Z",
     "iopub.status.busy": "2023-05-10T01:11:49.743410Z",
     "iopub.status.idle": "2023-05-10T01:11:49.745078Z",
     "shell.execute_reply": "2023-05-10T01:11:49.744857Z"
    }
   },
   "outputs": [],
   "source": [
    "random.seed(0)"
   ]
  },
  {
   "cell_type": "code",
   "execution_count": 170,
   "id": "22684b0f",
   "metadata": {
    "execution": {
     "iopub.execute_input": "2023-05-10T01:11:49.746373Z",
     "iopub.status.busy": "2023-05-10T01:11:49.746293Z",
     "iopub.status.idle": "2023-05-10T01:11:49.748529Z",
     "shell.execute_reply": "2023-05-10T01:11:49.748301Z"
    }
   },
   "outputs": [],
   "source": [
    "res = pd.DataFrame(columns = ['uu_id', 'week_number', 'total_claims'])"
   ]
  },
  {
   "cell_type": "code",
   "execution_count": 171,
   "id": "cacfaf81",
   "metadata": {
    "execution": {
     "iopub.execute_input": "2023-05-10T01:11:49.749822Z",
     "iopub.status.busy": "2023-05-10T01:11:49.749746Z",
     "iopub.status.idle": "2023-05-10T01:11:49.759617Z",
     "shell.execute_reply": "2023-05-10T01:11:49.759343Z"
    },
    "lines_to_next_cell": 2
   },
   "outputs": [
    {
     "ename": "NameError",
     "evalue": "name 'reg' is not defined",
     "output_type": "error",
     "traceback": [
      "\u001b[0;31m---------------------------------------------------------------------------\u001b[0m",
      "\u001b[0;31mNameError\u001b[0m                                 Traceback (most recent call last)",
      "Cell \u001b[0;32mIn [171], line 6\u001b[0m\n\u001b[1;32m      4\u001b[0m x_train \u001b[38;5;241m=\u001b[39m np\u001b[38;5;241m.\u001b[39marray(test_data[\u001b[38;5;124m\"\u001b[39m\u001b[38;5;124mweek_number\u001b[39m\u001b[38;5;124m\"\u001b[39m]\u001b[38;5;241m.\u001b[39mvalues)\u001b[38;5;241m.\u001b[39mreshape(\u001b[38;5;241m-\u001b[39m\u001b[38;5;241m1\u001b[39m, \u001b[38;5;241m1\u001b[39m)\n\u001b[1;32m      5\u001b[0m y_train \u001b[38;5;241m=\u001b[39m np\u001b[38;5;241m.\u001b[39marray(test_data[\u001b[38;5;124m\"\u001b[39m\u001b[38;5;124mtotal_claims\u001b[39m\u001b[38;5;124m\"\u001b[39m]\u001b[38;5;241m.\u001b[39mvalues) \n\u001b[0;32m----> 6\u001b[0m \u001b[43mreg\u001b[49m\u001b[38;5;241m.\u001b[39mfit(x_train, y_train)\n\u001b[1;32m      7\u001b[0m x_pred \u001b[38;5;241m=\u001b[39m np\u001b[38;5;241m.\u001b[39marray([\u001b[38;5;241m39\u001b[39m])\u001b[38;5;241m.\u001b[39mreshape(\u001b[38;5;241m-\u001b[39m\u001b[38;5;241m1\u001b[39m, \u001b[38;5;241m1\u001b[39m)\n\u001b[1;32m      8\u001b[0m y_pred \u001b[38;5;241m=\u001b[39m \u001b[38;5;28mint\u001b[39m(reg\u001b[38;5;241m.\u001b[39mpredict(x_pred))\n",
      "\u001b[0;31mNameError\u001b[0m: name 'reg' is not defined"
     ]
    }
   ],
   "source": [
    "for cur_uu_id in df_pred_list['uu_id']:\n",
    "    #print(uu_id)\n",
    "    test_data = df_three_col[df_three_col[\"uu_id\"].isin([cur_uu_id]) ]\n",
    "    x_train = np.array(test_data[\"week_number\"].values).reshape(-1, 1)\n",
    "    y_train = np.array(test_data[\"total_claims\"].values) \n",
    "    reg.fit(x_train, y_train)\n",
    "    x_pred = np.array([39]).reshape(-1, 1)\n",
    "    y_pred = int(reg.predict(x_pred))\n",
    "    cur_row =  pd.DataFrame([[cur_uu_id, 39, y_pred]], columns=['uu_id', 'week_number', 'total_claims'] )\n",
    "    res = pd.concat([res,cur_row] ,ignore_index = True)"
   ]
  },
  {
   "cell_type": "code",
   "execution_count": 172,
   "id": "5a06a863",
   "metadata": {
    "execution": {
     "iopub.execute_input": "2023-05-10T01:11:49.760996Z",
     "iopub.status.busy": "2023-05-10T01:11:49.760910Z",
     "iopub.status.idle": "2023-05-10T01:11:49.763161Z",
     "shell.execute_reply": "2023-05-10T01:11:49.762921Z"
    }
   },
   "outputs": [
    {
     "name": "stdout",
     "output_type": "stream",
     "text": [
      "done\n"
     ]
    }
   ],
   "source": [
    "res.to_csv(\"submission_prediction_output.csv\", index=False)\n",
    "print(\"done\")"
   ]
  },
  {
   "cell_type": "code",
   "execution_count": 173,
   "id": "32a110cc",
   "metadata": {
    "execution": {
     "iopub.execute_input": "2023-05-10T01:11:49.764466Z",
     "iopub.status.busy": "2023-05-10T01:11:49.764366Z",
     "iopub.status.idle": "2023-05-10T01:11:49.765970Z",
     "shell.execute_reply": "2023-05-10T01:11:49.765750Z"
    }
   },
   "outputs": [],
   "source": [
    "from sklearn.linear_model import LinearRegression\n",
    "import random"
   ]
  },
  {
   "cell_type": "code",
   "execution_count": 174,
   "id": "72940afd",
   "metadata": {
    "execution": {
     "iopub.execute_input": "2023-05-10T01:11:49.767151Z",
     "iopub.status.busy": "2023-05-10T01:11:49.767052Z",
     "iopub.status.idle": "2023-05-10T01:11:49.768606Z",
     "shell.execute_reply": "2023-05-10T01:11:49.768355Z"
    }
   },
   "outputs": [],
   "source": [
    "reg = LinearRegression()"
   ]
  },
  {
   "cell_type": "code",
   "execution_count": 175,
   "id": "4a422478",
   "metadata": {
    "execution": {
     "iopub.execute_input": "2023-05-10T01:11:49.769898Z",
     "iopub.status.busy": "2023-05-10T01:11:49.769796Z",
     "iopub.status.idle": "2023-05-10T01:11:49.771359Z",
     "shell.execute_reply": "2023-05-10T01:11:49.771139Z"
    }
   },
   "outputs": [],
   "source": [
    "random.seed(0)"
   ]
  },
  {
   "cell_type": "code",
   "execution_count": 176,
   "id": "f0743c0b",
   "metadata": {
    "execution": {
     "iopub.execute_input": "2023-05-10T01:11:49.772639Z",
     "iopub.status.busy": "2023-05-10T01:11:49.772546Z",
     "iopub.status.idle": "2023-05-10T01:11:49.774722Z",
     "shell.execute_reply": "2023-05-10T01:11:49.774468Z"
    }
   },
   "outputs": [],
   "source": [
    "res = pd.DataFrame(columns = ['uu_id', 'week_number', 'total_claims'])"
   ]
  },
  {
   "cell_type": "code",
   "execution_count": 177,
   "id": "de8588b1",
   "metadata": {
    "execution": {
     "iopub.execute_input": "2023-05-10T01:11:49.776064Z",
     "iopub.status.busy": "2023-05-10T01:11:49.775968Z",
     "iopub.status.idle": "2023-05-10T01:11:50.149274Z",
     "shell.execute_reply": "2023-05-10T01:11:50.148974Z"
    },
    "lines_to_next_cell": 2
   },
   "outputs": [],
   "source": [
    "for cur_uu_id in df_pred_list['uu_id']:\n",
    "    #print(uu_id)\n",
    "    test_data = df_three_col[df_three_col[\"uu_id\"].isin([cur_uu_id]) ]\n",
    "    x_train = np.array(test_data[\"week_number\"].values).reshape(-1, 1)\n",
    "    y_train = np.array(test_data[\"total_claims\"].values) \n",
    "    reg.fit(x_train, y_train)\n",
    "    x_pred = np.array([39]).reshape(-1, 1)\n",
    "    y_pred = int(reg.predict(x_pred))\n",
    "    cur_row =  pd.DataFrame([[cur_uu_id, 39, y_pred]], columns=['uu_id', 'week_number', 'total_claims'] )\n",
    "    res = pd.concat([res,cur_row] ,ignore_index = True)"
   ]
  },
  {
   "cell_type": "code",
   "execution_count": 178,
   "id": "96d1cb97",
   "metadata": {
    "execution": {
     "iopub.execute_input": "2023-05-10T01:11:50.150975Z",
     "iopub.status.busy": "2023-05-10T01:11:50.150881Z",
     "iopub.status.idle": "2023-05-10T01:11:50.153790Z",
     "shell.execute_reply": "2023-05-10T01:11:50.153559Z"
    }
   },
   "outputs": [
    {
     "name": "stdout",
     "output_type": "stream",
     "text": [
      "done\n"
     ]
    }
   ],
   "source": [
    "res.to_csv(\"submission_prediction_output.csv\", index=False)\n",
    "print(\"done\")"
   ]
  },
  {
   "cell_type": "code",
   "execution_count": 179,
   "id": "cb4f42d8",
   "metadata": {
    "execution": {
     "iopub.execute_input": "2023-05-10T01:11:50.155172Z",
     "iopub.status.busy": "2023-05-10T01:11:50.155076Z",
     "iopub.status.idle": "2023-05-10T01:11:50.160404Z",
     "shell.execute_reply": "2023-05-10T01:11:50.160165Z"
    }
   },
   "outputs": [],
   "source": [
    "get_ipython().run_cell_magic('capture', '', \"%logstop\\n%logstart -t -r -q ipython_command_log.py global\\n\\n#- IRONHACKS RESEARCH TRACKING CODE\\n#----------------------------------\\n# The following code is used to help our research team understand how you \\n# our notebook environment. We do not collect any personal information with\\n# the following code, it is used to measure when and how often you work on\\n# your submission files.\\n\\nimport os\\nfrom datetime import datetime\\nimport IPython.core.history as history\\n\\nha = history.HistoryAccessor()\\nha_tail = ha.get_tail(1)\\nha_cmd = next(ha_tail)\\nsession_id = str(ha_cmd[0])\\ncommand_id = str(ha_cmd[1])\\ntimestamp = datetime.utcnow().isoformat()\\nhistory_line = ','.join([session_id, command_id, timestamp]) + '\\\\n'\\nlogfile = open(os.environ['HOME']+'/ipython_session_log.csv', 'a')\\nlogfile.write(history_line)\\nlogfile.close()\\n\")"
   ]
  },
  {
   "cell_type": "code",
   "execution_count": 180,
   "id": "bb1572b8",
   "metadata": {
    "execution": {
     "iopub.execute_input": "2023-05-10T01:11:50.161732Z",
     "iopub.status.busy": "2023-05-10T01:11:50.161629Z",
     "iopub.status.idle": "2023-05-10T01:11:50.163796Z",
     "shell.execute_reply": "2023-05-10T01:11:50.163570Z"
    }
   },
   "outputs": [],
   "source": [
    "get_ipython().run_cell_magic('capture', '', \"\\n#- INSTALL ADDITIONAL LIBRARIES IF REQUIRED\\n#------------------------------------------\\n# This is normally not required. The hub environment comes preinstaled with \\n# many packages that you can already use without setup. In case there is some\\n# other library you would like to use that isn't on the list you run this command\\n# once to install them.  If it is already installed this command has no effect.\\n\\n#!python3 -m pip install pandas\\n\")"
   ]
  },
  {
   "cell_type": "markdown",
   "id": "97f928a0",
   "metadata": {},
   "source": [
    "- IMPORT THE LIBRARIES YOU WILL USE\n",
    "------------------------------------------\n",
    "You only need to import packages one time per notebook session. To keep your\n",
    "notebook clean and organized you can handle all imports at the top of your file.\n",
    "The following are included for example purposed, feel free to modify or delete \n",
    "anything in this section."
   ]
  },
  {
   "cell_type": "code",
   "execution_count": 181,
   "id": "f0560478",
   "metadata": {
    "execution": {
     "iopub.execute_input": "2023-05-10T01:11:50.165056Z",
     "iopub.status.busy": "2023-05-10T01:11:50.164956Z",
     "iopub.status.idle": "2023-05-10T01:11:50.166815Z",
     "shell.execute_reply": "2023-05-10T01:11:50.166591Z"
    }
   },
   "outputs": [],
   "source": [
    "import csv\n",
    "import pandas as pd\n",
    "import numpy as np\n",
    "from google.cloud import bigquery\n",
    "from google.oauth2 import service_account\n",
    "from google.cloud.bigquery import magics"
   ]
  },
  {
   "cell_type": "code",
   "execution_count": 182,
   "id": "19e78103",
   "metadata": {
    "execution": {
     "iopub.execute_input": "2023-05-10T01:11:50.168110Z",
     "iopub.status.busy": "2023-05-10T01:11:50.168012Z",
     "iopub.status.idle": "2023-05-10T01:11:50.169708Z",
     "shell.execute_reply": "2023-05-10T01:11:50.169437Z"
    }
   },
   "outputs": [],
   "source": [
    "from sklearn.linear_model import LinearRegression\n",
    "import random"
   ]
  },
  {
   "cell_type": "markdown",
   "id": "1db16e18",
   "metadata": {},
   "source": [
    "- DEFINE YOUR CLASSES AND FUNCTIONS \n",
    "-----------------------------------\n",
    "This is not required, but is helpful in keeping your notebook organized. \n",
    "You can use the following cell or several cells to define your functions\n",
    "and classes to keep them separate from your analysis or results code.\n",
    "In general it useful to define your methods in a separate cell from where\n",
    "it is run."
   ]
  },
  {
   "cell_type": "code",
   "execution_count": 183,
   "id": "75e80369",
   "metadata": {
    "execution": {
     "iopub.execute_input": "2023-05-10T01:11:50.171028Z",
     "iopub.status.busy": "2023-05-10T01:11:50.170940Z",
     "iopub.status.idle": "2023-05-10T01:11:50.178796Z",
     "shell.execute_reply": "2023-05-10T01:11:50.178429Z"
    }
   },
   "outputs": [],
   "source": [
    "BIGQUERY_PROJECT = 'ironhacks-data'\n",
    "bigquery_client = bigquery.Client(project=BIGQUERY_PROJECT)"
   ]
  },
  {
   "cell_type": "code",
   "execution_count": 184,
   "id": "6da5a89e",
   "metadata": {
    "execution": {
     "iopub.execute_input": "2023-05-10T01:11:50.180423Z",
     "iopub.status.busy": "2023-05-10T01:11:50.180311Z",
     "iopub.status.idle": "2023-05-10T01:11:54.536114Z",
     "shell.execute_reply": "2023-05-10T01:11:54.535297Z"
    }
   },
   "outputs": [
    {
     "name": "stdout",
     "output_type": "stream",
     "text": [
      "\u001b[33mWARNING: Ignoring invalid distribution -umpy (/opt/anaconda3/lib/python3.9/site-packages)\u001b[0m\r\n",
      "\u001b[33mWARNING: Ignoring invalid distribution -umpy (/opt/anaconda3/lib/python3.9/site-packages)\u001b[0m\r\n",
      "Requirement already satisfied: db-dtypes in /opt/anaconda3/lib/python3.9/site-packages (1.0.5)\r\n",
      "Requirement already satisfied: packaging>=17.0 in /opt/anaconda3/lib/python3.9/site-packages (from db-dtypes) (21.3)\r\n",
      "Requirement already satisfied: numpy<2.0dev,>=1.16.6 in /opt/anaconda3/lib/python3.9/site-packages (from db-dtypes) (1.22.4)\r\n",
      "Requirement already satisfied: pyarrow>=3.0.0 in /opt/anaconda3/lib/python3.9/site-packages (from db-dtypes) (10.0.1)\r\n",
      "Requirement already satisfied: pandas<2.0dev,>=0.24.2 in /opt/anaconda3/lib/python3.9/site-packages (from db-dtypes) (1.5.3)\r\n",
      "Requirement already satisfied: pyparsing!=3.0.5,>=2.0.2 in /opt/anaconda3/lib/python3.9/site-packages (from packaging>=17.0->db-dtypes) (3.0.4)\r\n",
      "Requirement already satisfied: python-dateutil>=2.8.1 in /opt/anaconda3/lib/python3.9/site-packages (from pandas<2.0dev,>=0.24.2->db-dtypes) (2.8.2)\r\n",
      "Requirement already satisfied: pytz>=2020.1 in /opt/anaconda3/lib/python3.9/site-packages (from pandas<2.0dev,>=0.24.2->db-dtypes) (2021.3)\r\n",
      "Requirement already satisfied: six>=1.5 in /opt/anaconda3/lib/python3.9/site-packages (from python-dateutil>=2.8.1->pandas<2.0dev,>=0.24.2->db-dtypes) (1.16.0)\r\n",
      "\u001b[33mWARNING: Ignoring invalid distribution -umpy (/opt/anaconda3/lib/python3.9/site-packages)\u001b[0m\r\n"
     ]
    },
    {
     "name": "stdout",
     "output_type": "stream",
     "text": [
      "\u001b[33mWARNING: Ignoring invalid distribution -umpy (/opt/anaconda3/lib/python3.9/site-packages)\u001b[0m\r\n",
      "\u001b[33mWARNING: Ignoring invalid distribution -umpy (/opt/anaconda3/lib/python3.9/site-packages)\u001b[0m\r\n",
      "\u001b[33mWARNING: Ignoring invalid distribution -umpy (/opt/anaconda3/lib/python3.9/site-packages)\u001b[0m\r\n"
     ]
    }
   ],
   "source": [
    "!pip install db-dtypes\n",
    "query_unemployment = \"\"\"\n",
    "SELECT *\n",
    "FROM `ironhacks-data.ironhacks_competition.unemployment_data` \n",
    "\"\"\"\n",
    "query = bigquery_client.query(query_unemployment)\n",
    "df_unemployment = query.to_dataframe()\n",
    "#df_unemployment.head()"
   ]
  },
  {
   "cell_type": "code",
   "execution_count": 185,
   "id": "89505acb",
   "metadata": {
    "execution": {
     "iopub.execute_input": "2023-05-10T01:11:54.540339Z",
     "iopub.status.busy": "2023-05-10T01:11:54.540027Z",
     "iopub.status.idle": "2023-05-10T01:11:55.837956Z",
     "shell.execute_reply": "2023-05-10T01:11:55.836983Z"
    }
   },
   "outputs": [],
   "source": [
    "query_wage = \"\"\"\n",
    "SELECT *\n",
    "FROM `ironhacks-data.ironhacks_competition.wage_data`\n",
    "\"\"\"\n",
    "query = bigquery_client.query(query_wage)\n",
    "df_wage = query.to_dataframe()\n",
    "#df_wage.head()"
   ]
  },
  {
   "cell_type": "code",
   "execution_count": 186,
   "id": "4b4c0515",
   "metadata": {
    "execution": {
     "iopub.execute_input": "2023-05-10T01:11:55.843464Z",
     "iopub.status.busy": "2023-05-10T01:11:55.843039Z",
     "iopub.status.idle": "2023-05-10T01:11:57.227816Z",
     "shell.execute_reply": "2023-05-10T01:11:57.227053Z"
    }
   },
   "outputs": [],
   "source": [
    "query_pred_list = \"\"\"\n",
    "SELECT *\n",
    "FROM `ironhacks-data.ironhacks_competition.prediction_list`\n",
    "\"\"\"\n",
    "query = bigquery_client.query(query_pred_list)\n",
    "df_pred_list = query.to_dataframe()\n",
    "#df_pred_list.head()"
   ]
  },
  {
   "cell_type": "code",
   "execution_count": 187,
   "id": "5dff8ec1",
   "metadata": {
    "execution": {
     "iopub.execute_input": "2023-05-10T01:11:57.232389Z",
     "iopub.status.busy": "2023-05-10T01:11:57.232026Z",
     "iopub.status.idle": "2023-05-10T01:11:59.052310Z",
     "shell.execute_reply": "2023-05-10T01:11:59.051038Z"
    }
   },
   "outputs": [],
   "source": [
    "query_schema = \"\"\"\n",
    "SELECT *\n",
    "FROM `ironhacks-data.ironhacks_competition.INFORMATION_SCHEMA.TABLES`\n",
    "\"\"\"\n",
    "query = bigquery_client.query(query_schema)\n",
    "df_schema = query.to_dataframe()\n",
    "#df_schema.head()"
   ]
  },
  {
   "cell_type": "code",
   "execution_count": 188,
   "id": "c3f9e240",
   "metadata": {
    "execution": {
     "iopub.execute_input": "2023-05-10T01:11:59.058288Z",
     "iopub.status.busy": "2023-05-10T01:11:59.057837Z",
     "iopub.status.idle": "2023-05-10T01:11:59.064177Z",
     "shell.execute_reply": "2023-05-10T01:11:59.063385Z"
    }
   },
   "outputs": [],
   "source": [
    "df_three_col = df_unemployment[[\"uu_id\", \"week_number\", \"total_claims\"]]"
   ]
  },
  {
   "cell_type": "code",
   "execution_count": 189,
   "id": "d48df56a",
   "metadata": {
    "execution": {
     "iopub.execute_input": "2023-05-10T01:11:59.068109Z",
     "iopub.status.busy": "2023-05-10T01:11:59.067733Z",
     "iopub.status.idle": "2023-05-10T01:11:59.072482Z",
     "shell.execute_reply": "2023-05-10T01:11:59.071246Z"
    }
   },
   "outputs": [],
   "source": [
    "reg = LinearRegression()"
   ]
  },
  {
   "cell_type": "code",
   "execution_count": 190,
   "id": "c5c06c17",
   "metadata": {
    "execution": {
     "iopub.execute_input": "2023-05-10T01:11:59.076678Z",
     "iopub.status.busy": "2023-05-10T01:11:59.076328Z",
     "iopub.status.idle": "2023-05-10T01:11:59.080217Z",
     "shell.execute_reply": "2023-05-10T01:11:59.079558Z"
    }
   },
   "outputs": [],
   "source": [
    "random.seed(0)"
   ]
  },
  {
   "cell_type": "code",
   "execution_count": 191,
   "id": "87560b48",
   "metadata": {
    "execution": {
     "iopub.execute_input": "2023-05-10T01:11:59.083529Z",
     "iopub.status.busy": "2023-05-10T01:11:59.083285Z",
     "iopub.status.idle": "2023-05-10T01:11:59.088108Z",
     "shell.execute_reply": "2023-05-10T01:11:59.087595Z"
    }
   },
   "outputs": [],
   "source": [
    "res = pd.DataFrame(columns = ['uu_id', 'week_number', 'total_claims'])"
   ]
  },
  {
   "cell_type": "code",
   "execution_count": 192,
   "id": "29b99f8b",
   "metadata": {
    "execution": {
     "iopub.execute_input": "2023-05-10T01:11:59.091128Z",
     "iopub.status.busy": "2023-05-10T01:11:59.090708Z",
     "iopub.status.idle": "2023-05-10T01:11:59.482192Z",
     "shell.execute_reply": "2023-05-10T01:11:59.481899Z"
    },
    "lines_to_next_cell": 2
   },
   "outputs": [],
   "source": [
    "for cur_uu_id in df_pred_list['uu_id']:\n",
    "    #print(uu_id)\n",
    "    test_data = df_three_col[df_three_col[\"uu_id\"].isin([cur_uu_id]) ]\n",
    "    x_train = np.array(test_data[\"week_number\"].values).reshape(-1, 1)\n",
    "    y_train = np.array(test_data[\"total_claims\"].values) \n",
    "    reg.fit(x_train, y_train)\n",
    "    x_pred = np.array([39]).reshape(-1, 1)\n",
    "    y_pred = int(reg.predict(x_pred))\n",
    "    cur_row =  pd.DataFrame([[cur_uu_id, 39, y_pred]], columns=['uu_id', 'week_number', 'total_claims'] )\n",
    "    res = pd.concat([res,cur_row] ,ignore_index = True)"
   ]
  },
  {
   "cell_type": "code",
   "execution_count": 193,
   "id": "c6b0d4df",
   "metadata": {
    "execution": {
     "iopub.execute_input": "2023-05-10T01:11:59.483805Z",
     "iopub.status.busy": "2023-05-10T01:11:59.483722Z",
     "iopub.status.idle": "2023-05-10T01:11:59.486653Z",
     "shell.execute_reply": "2023-05-10T01:11:59.486418Z"
    },
    "lines_to_next_cell": 2
   },
   "outputs": [],
   "source": [
    "res.to_csv(\"submission_prediction_output.csv\", index=False)"
   ]
  }
 ],
 "metadata": {
  "jupytext": {
   "cell_metadata_filter": "-all",
   "main_language": "python",
   "notebook_metadata_filter": "-all"
  },
  "language_info": {
   "codemirror_mode": {
    "name": "ipython",
    "version": 3
   },
   "file_extension": ".py",
   "mimetype": "text/x-python",
   "name": "python",
   "nbconvert_exporter": "python",
   "pygments_lexer": "ipython3",
   "version": "3.9.12"
  }
 },
 "nbformat": 4,
 "nbformat_minor": 5
}
