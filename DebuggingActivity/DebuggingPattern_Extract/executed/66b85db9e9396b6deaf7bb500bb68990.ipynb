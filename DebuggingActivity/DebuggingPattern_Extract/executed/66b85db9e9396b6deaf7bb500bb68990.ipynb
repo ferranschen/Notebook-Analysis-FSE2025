{
 "cells": [
  {
   "cell_type": "markdown",
   "id": "362e88ea",
   "metadata": {},
   "source": [
    "CONFIGURE THE BIGQUERY SETTINGS"
   ]
  },
  {
   "cell_type": "code",
   "execution_count": 1,
   "id": "461169d1",
   "metadata": {
    "execution": {
     "iopub.execute_input": "2023-05-10T02:15:59.020578Z",
     "iopub.status.busy": "2023-05-10T02:15:59.020305Z",
     "iopub.status.idle": "2023-05-10T02:15:59.112500Z",
     "shell.execute_reply": "2023-05-10T02:15:59.111962Z"
    }
   },
   "outputs": [
    {
     "ename": "AttributeError",
     "evalue": "'str' object has no attribute 'Client'",
     "output_type": "error",
     "traceback": [
      "\u001b[0;31m---------------------------------------------------------------------------\u001b[0m",
      "\u001b[0;31mAttributeError\u001b[0m                            Traceback (most recent call last)",
      "Cell \u001b[0;32mIn [1], line 2\u001b[0m\n\u001b[1;32m      1\u001b[0m BIGQUERY_PROJECT \u001b[38;5;241m=\u001b[39m \u001b[38;5;124m'\u001b[39m\u001b[38;5;124mironhacks-data\u001b[39m\u001b[38;5;124m'\u001b[39m\n\u001b[0;32m----> 2\u001b[0m bigquery_client \u001b[38;5;241m=\u001b[39m \u001b[43mBIGQUERY_PROJECT\u001b[49m\u001b[38;5;241;43m.\u001b[39;49m\u001b[43mClient\u001b[49m(project\u001b[38;5;241m=\u001b[39mBIGQUERY_PROJECT)\n",
      "\u001b[0;31mAttributeError\u001b[0m: 'str' object has no attribute 'Client'"
     ]
    }
   ],
   "source": [
    "BIGQUERY_PROJECT = 'ironhacks-data'\n",
    "bigquery_client = BIGQUERY_PROJECT.Client(project=BIGQUERY_PROJECT)"
   ]
  },
  {
   "cell_type": "markdown",
   "id": "f25a3e48",
   "metadata": {},
   "source": [
    "CONFIGURE THE BIGQUERY SETTINGS"
   ]
  },
  {
   "cell_type": "code",
   "execution_count": 2,
   "id": "a0ef322d",
   "metadata": {
    "execution": {
     "iopub.execute_input": "2023-05-10T02:15:59.114873Z",
     "iopub.status.busy": "2023-05-10T02:15:59.114642Z",
     "iopub.status.idle": "2023-05-10T02:15:59.122259Z",
     "shell.execute_reply": "2023-05-10T02:15:59.122001Z"
    }
   },
   "outputs": [
    {
     "ename": "NameError",
     "evalue": "name 'ironhacks' is not defined",
     "output_type": "error",
     "traceback": [
      "\u001b[0;31m---------------------------------------------------------------------------\u001b[0m",
      "\u001b[0;31mNameError\u001b[0m                                 Traceback (most recent call last)",
      "Cell \u001b[0;32mIn [2], line 2\u001b[0m\n\u001b[1;32m      1\u001b[0m BIGQUERY_PROJECT \u001b[38;5;241m=\u001b[39m \u001b[38;5;124m'\u001b[39m\u001b[38;5;124mironhacks-data\u001b[39m\u001b[38;5;124m'\u001b[39m\n\u001b[0;32m----> 2\u001b[0m bigquery_client \u001b[38;5;241m=\u001b[39m \u001b[43mironhacks\u001b[49m\u001b[38;5;241m-\u001b[39mdata\u001b[38;5;241m.\u001b[39mClient(project\u001b[38;5;241m=\u001b[39mBIGQUERY_PROJECT)\n",
      "\u001b[0;31mNameError\u001b[0m: name 'ironhacks' is not defined"
     ]
    }
   ],
   "source": [
    "BIGQUERY_PROJECT = 'ironhacks-data'\n",
    "bigquery_client = ironhacks-data.Client(project=BIGQUERY_PROJECT)"
   ]
  },
  {
   "cell_type": "code",
   "execution_count": 3,
   "id": "e4b0f233",
   "metadata": {
    "execution": {
     "iopub.execute_input": "2023-05-10T02:15:59.123740Z",
     "iopub.status.busy": "2023-05-10T02:15:59.123627Z",
     "iopub.status.idle": "2023-05-10T02:15:59.554867Z",
     "shell.execute_reply": "2023-05-10T02:15:59.554561Z"
    }
   },
   "outputs": [],
   "source": [
    "import os\n",
    "import pandas\n",
    "from google.cloud import bigquery\n",
    "from google.oauth2 import service_account\n",
    "from google.cloud.bigquery import magics"
   ]
  },
  {
   "cell_type": "markdown",
   "id": "bf51845e",
   "metadata": {},
   "source": [
    "CONFIGURE THE BIGQUERY SETTINGS"
   ]
  },
  {
   "cell_type": "code",
   "execution_count": 4,
   "id": "a532c311",
   "metadata": {
    "execution": {
     "iopub.execute_input": "2023-05-10T02:15:59.556636Z",
     "iopub.status.busy": "2023-05-10T02:15:59.556486Z",
     "iopub.status.idle": "2023-05-10T02:15:59.563394Z",
     "shell.execute_reply": "2023-05-10T02:15:59.563118Z"
    }
   },
   "outputs": [
    {
     "ename": "NameError",
     "evalue": "name 'BIGQUERY' is not defined",
     "output_type": "error",
     "traceback": [
      "\u001b[0;31m---------------------------------------------------------------------------\u001b[0m",
      "\u001b[0;31mNameError\u001b[0m                                 Traceback (most recent call last)",
      "Cell \u001b[0;32mIn [4], line 2\u001b[0m\n\u001b[1;32m      1\u001b[0m BIGQUERY_PROJECT \u001b[38;5;241m=\u001b[39m \u001b[38;5;124m'\u001b[39m\u001b[38;5;124mironhacks-data\u001b[39m\u001b[38;5;124m'\u001b[39m\n\u001b[0;32m----> 2\u001b[0m bigquery_client \u001b[38;5;241m=\u001b[39m \u001b[43mBIGQUERY\u001b[49m\u001b[38;5;241m.\u001b[39mClient(project\u001b[38;5;241m=\u001b[39mBIGQUERY_PROJECT)\n",
      "\u001b[0;31mNameError\u001b[0m: name 'BIGQUERY' is not defined"
     ]
    }
   ],
   "source": [
    "BIGQUERY_PROJECT = 'ironhacks-data'\n",
    "bigquery_client = BIGQUERY.Client(project=BIGQUERY_PROJECT)"
   ]
  },
  {
   "cell_type": "markdown",
   "id": "3a5742c5",
   "metadata": {},
   "source": [
    "CONFIGURE THE BIGQUERY SETTINGS"
   ]
  },
  {
   "cell_type": "code",
   "execution_count": 5,
   "id": "20a21cb3",
   "metadata": {
    "execution": {
     "iopub.execute_input": "2023-05-10T02:15:59.564873Z",
     "iopub.status.busy": "2023-05-10T02:15:59.564773Z",
     "iopub.status.idle": "2023-05-10T02:15:59.572017Z",
     "shell.execute_reply": "2023-05-10T02:15:59.571667Z"
    }
   },
   "outputs": [],
   "source": [
    "BIGQUERY_PROJECT = 'ironhacks-data'\n",
    "bigquery_client = bigquery.Client(project=BIGQUERY_PROJECT)"
   ]
  },
  {
   "cell_type": "markdown",
   "id": "e9165743",
   "metadata": {},
   "source": [
    "CONFIGURE THE BIGQUERY SETTINGS"
   ]
  },
  {
   "cell_type": "code",
   "execution_count": 6,
   "id": "1bb4fb1b",
   "metadata": {
    "execution": {
     "iopub.execute_input": "2023-05-10T02:15:59.573765Z",
     "iopub.status.busy": "2023-05-10T02:15:59.573649Z",
     "iopub.status.idle": "2023-05-10T02:15:59.579650Z",
     "shell.execute_reply": "2023-05-10T02:15:59.579187Z"
    }
   },
   "outputs": [],
   "source": [
    "BIGQUERY_PROJECT = 'ironhacks-data'\n",
    "bigquery_client = bigquery.Client(project=BIGQUERY_PROJECT)"
   ]
  },
  {
   "cell_type": "code",
   "execution_count": 7,
   "id": "59d4c8f0",
   "metadata": {
    "execution": {
     "iopub.execute_input": "2023-05-10T02:15:59.581969Z",
     "iopub.status.busy": "2023-05-10T02:15:59.581823Z",
     "iopub.status.idle": "2023-05-10T02:15:59.583880Z",
     "shell.execute_reply": "2023-05-10T02:15:59.583627Z"
    }
   },
   "outputs": [],
   "source": [
    "query = \"\"\"\n",
    "SELECT *\n",
    "FROM `ironhacks-data.ironhacks_training.covid19_cases`\n",
    "\"\"\""
   ]
  },
  {
   "cell_type": "code",
   "execution_count": 8,
   "id": "2b7a7a44",
   "metadata": {
    "execution": {
     "iopub.execute_input": "2023-05-10T02:15:59.585213Z",
     "iopub.status.busy": "2023-05-10T02:15:59.585106Z",
     "iopub.status.idle": "2023-05-10T02:16:02.743434Z",
     "shell.execute_reply": "2023-05-10T02:16:02.742667Z"
    }
   },
   "outputs": [],
   "source": [
    "# QUERY THE DATA ONCE\n",
    "query_job = bigquery_client.query(query)\n",
    "covid19_cases_data = query_job.to_dataframe()"
   ]
  },
  {
   "cell_type": "code",
   "execution_count": 9,
   "id": "3e65fa6b",
   "metadata": {
    "execution": {
     "iopub.execute_input": "2023-05-10T02:16:02.747523Z",
     "iopub.status.busy": "2023-05-10T02:16:02.747202Z",
     "iopub.status.idle": "2023-05-10T02:16:02.755044Z",
     "shell.execute_reply": "2023-05-10T02:16:02.754528Z"
    }
   },
   "outputs": [
    {
     "name": "stdout",
     "output_type": "stream",
     "text": [
      "Columns:\n",
      "week_number\n",
      "start_date\n",
      "county\n",
      "fips\n",
      "cases\n",
      "deaths\n",
      "\n",
      "Results:\n",
      "   week_number  start_date  county   fips  cases  deaths\n",
      "0            9  2021-03-01  Marion  18097    664      23\n",
      "1           12  2021-03-22  Marion  18097    623      11\n",
      "2           19  2021-05-10  Marion  18097   1156       4\n",
      "3           11  2021-03-15  Marion  18097    560      13\n",
      "4            6  2021-02-08  Marion  18097   1542     219\n"
     ]
    }
   ],
   "source": [
    "# THEN WORK BELOW TO DO SOMETHING THE RESULTS\n",
    "print(\"Columns:\")\n",
    "print('\\n'.join(covid19_cases_data.columns))\n",
    "print(\"\\nResults:\")\n",
    "print(covid19_cases_data.head())"
   ]
  },
  {
   "cell_type": "code",
   "execution_count": 10,
   "id": "b1c4f824",
   "metadata": {
    "execution": {
     "iopub.execute_input": "2023-05-10T02:16:02.758136Z",
     "iopub.status.busy": "2023-05-10T02:16:02.757675Z",
     "iopub.status.idle": "2023-05-10T02:16:02.760453Z",
     "shell.execute_reply": "2023-05-10T02:16:02.760007Z"
    }
   },
   "outputs": [],
   "source": [
    "query = \"\"\"\n",
    "SELECT COUNT(*)\n",
    "FROM `ironhacks-data.ironhacks_training.covid19_cases`\n",
    "\"\"\""
   ]
  },
  {
   "cell_type": "code",
   "execution_count": 11,
   "id": "067fc115",
   "metadata": {
    "execution": {
     "iopub.execute_input": "2023-05-10T02:16:02.762812Z",
     "iopub.status.busy": "2023-05-10T02:16:02.762618Z",
     "iopub.status.idle": "2023-05-10T02:16:04.357318Z",
     "shell.execute_reply": "2023-05-10T02:16:04.355881Z"
    }
   },
   "outputs": [],
   "source": [
    "query_job = bigquery_client.query(query)\n",
    "covid19_cases_data = query_job.to_dataframe()"
   ]
  },
  {
   "cell_type": "code",
   "execution_count": 12,
   "id": "66c3add6",
   "metadata": {
    "execution": {
     "iopub.execute_input": "2023-05-10T02:16:04.365176Z",
     "iopub.status.busy": "2023-05-10T02:16:04.364716Z",
     "iopub.status.idle": "2023-05-10T02:16:04.373022Z",
     "shell.execute_reply": "2023-05-10T02:16:04.372156Z"
    }
   },
   "outputs": [
    {
     "name": "stdout",
     "output_type": "stream",
     "text": [
      "   f0_\n",
      "0   46\n"
     ]
    }
   ],
   "source": [
    "print(covid19_cases_data)"
   ]
  },
  {
   "cell_type": "code",
   "execution_count": 13,
   "id": "3d7fadf1",
   "metadata": {
    "execution": {
     "iopub.execute_input": "2023-05-10T02:16:04.377942Z",
     "iopub.status.busy": "2023-05-10T02:16:04.377609Z",
     "iopub.status.idle": "2023-05-10T02:16:04.382433Z",
     "shell.execute_reply": "2023-05-10T02:16:04.381433Z"
    }
   },
   "outputs": [],
   "source": [
    "query = \"\"\"\n",
    "SELECT \n",
    "week_number,\n",
    "cases \n",
    "FROM `ironhacks-data.ironhacks_training.covid19_cases`\n",
    "Where week_number between 1 and 3\n",
    "order by week_number\n",
    "\"\"\""
   ]
  },
  {
   "cell_type": "code",
   "execution_count": 14,
   "id": "864c9fb3",
   "metadata": {
    "execution": {
     "iopub.execute_input": "2023-05-10T02:16:04.386364Z",
     "iopub.status.busy": "2023-05-10T02:16:04.386017Z",
     "iopub.status.idle": "2023-05-10T02:16:06.216314Z",
     "shell.execute_reply": "2023-05-10T02:16:06.214587Z"
    }
   },
   "outputs": [],
   "source": [
    "query_job = bigquery_client.query(query)\n",
    "covid19_cases_data = query_job.to_dataframe()"
   ]
  },
  {
   "cell_type": "code",
   "execution_count": 15,
   "id": "81cbd46e",
   "metadata": {
    "execution": {
     "iopub.execute_input": "2023-05-10T02:16:06.223665Z",
     "iopub.status.busy": "2023-05-10T02:16:06.223197Z",
     "iopub.status.idle": "2023-05-10T02:16:06.232154Z",
     "shell.execute_reply": "2023-05-10T02:16:06.231426Z"
    },
    "lines_to_next_cell": 2
   },
   "outputs": [
    {
     "name": "stdout",
     "output_type": "stream",
     "text": [
      "mean:  cases    2732.666667\n",
      "dtype: float64\n"
     ]
    }
   ],
   "source": [
    "df = pandas.DataFrame(covid19_cases_data, columns = ['cases'])\n",
    "print(\"mean: \", df.mean()); "
   ]
  }
 ],
 "metadata": {
  "jupytext": {
   "cell_metadata_filter": "-all",
   "main_language": "python",
   "notebook_metadata_filter": "-all"
  },
  "kernelspec": {
   "display_name": "base",
   "language": "python",
   "name": "python3"
  },
  "language_info": {
   "codemirror_mode": {
    "name": "ipython",
    "version": 3
   },
   "file_extension": ".py",
   "mimetype": "text/x-python",
   "name": "python",
   "nbconvert_exporter": "python",
   "pygments_lexer": "ipython3",
   "version": "3.9.12"
  }
 },
 "nbformat": 4,
 "nbformat_minor": 5
}
