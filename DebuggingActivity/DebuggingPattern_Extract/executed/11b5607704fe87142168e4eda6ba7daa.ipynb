{
 "cells": [
  {
   "cell_type": "code",
   "execution_count": 1,
   "id": "5954e605",
   "metadata": {
    "execution": {
     "iopub.execute_input": "2023-05-10T02:02:52.192782Z",
     "iopub.status.busy": "2023-05-10T02:02:52.192651Z",
     "iopub.status.idle": "2023-05-10T02:02:52.598804Z",
     "shell.execute_reply": "2023-05-10T02:02:52.598494Z"
    }
   },
   "outputs": [],
   "source": [
    "import os\n",
    "import pandas\n",
    "from google.cloud import bigquery\n",
    "from google.oauth2 import service_account\n",
    "from google.cloud.bigquery import magics"
   ]
  },
  {
   "cell_type": "code",
   "execution_count": 2,
   "id": "abd8d66c",
   "metadata": {
    "execution": {
     "iopub.execute_input": "2023-05-10T02:02:52.600740Z",
     "iopub.status.busy": "2023-05-10T02:02:52.600572Z",
     "iopub.status.idle": "2023-05-10T02:02:53.188913Z",
     "shell.execute_reply": "2023-05-10T02:02:53.188318Z"
    }
   },
   "outputs": [
    {
     "name": "stdout",
     "output_type": "stream",
     "text": [
      "zsh:1: command not found: gcloud\r\n"
     ]
    },
    {
     "name": "stdout",
     "output_type": "stream",
     "text": [
      "zsh:1: command not found: gcloud\r\n"
     ]
    }
   ],
   "source": [
    "# # Run these terminal commands when your Notebook Session begins\n",
    "!gcloud auth login\n",
    "!gcloud auth application-default set-quota-project ironhacks-data"
   ]
  },
  {
   "cell_type": "markdown",
   "id": "7401b114",
   "metadata": {},
   "source": [
    "CONFIGURE THE BIGQUERY SETTINGS"
   ]
  },
  {
   "cell_type": "code",
   "execution_count": 3,
   "id": "59a85446",
   "metadata": {
    "execution": {
     "iopub.execute_input": "2023-05-10T02:02:53.191680Z",
     "iopub.status.busy": "2023-05-10T02:02:53.191473Z",
     "iopub.status.idle": "2023-05-10T02:02:53.202380Z",
     "shell.execute_reply": "2023-05-10T02:02:53.201862Z"
    }
   },
   "outputs": [],
   "source": [
    "BIGQUERY_PROJECT = 'ironhacks-data'\n",
    "bigquery_client = bigquery.Client(project=BIGQUERY_PROJECT)"
   ]
  },
  {
   "cell_type": "code",
   "execution_count": 4,
   "id": "64b0c148",
   "metadata": {
    "execution": {
     "iopub.execute_input": "2023-05-10T02:02:53.205121Z",
     "iopub.status.busy": "2023-05-10T02:02:53.204742Z",
     "iopub.status.idle": "2023-05-10T02:02:53.207471Z",
     "shell.execute_reply": "2023-05-10T02:02:53.207129Z"
    }
   },
   "outputs": [],
   "source": [
    "query = \"\"\"\n",
    "SELECT *\n",
    "FROM `ironhacks-data.ironhacks_training.covid19_cases`\n",
    "\"\"\""
   ]
  },
  {
   "cell_type": "code",
   "execution_count": 5,
   "id": "4d427054",
   "metadata": {
    "execution": {
     "iopub.execute_input": "2023-05-10T02:02:53.209383Z",
     "iopub.status.busy": "2023-05-10T02:02:53.209230Z",
     "iopub.status.idle": "2023-05-10T02:02:55.605876Z",
     "shell.execute_reply": "2023-05-10T02:02:55.605407Z"
    },
    "lines_to_next_cell": 2
   },
   "outputs": [
    {
     "name": "stdout",
     "output_type": "stream",
     "text": [
      "    week_number  start_date      county   fips  cases  deaths\n",
      "0             9  2021-03-01      Marion  18097    664      23\n",
      "1            12  2021-03-22      Marion  18097    623      11\n",
      "2            19  2021-05-10      Marion  18097   1156       4\n",
      "3            11  2021-03-15      Marion  18097    560      13\n",
      "4             6  2021-02-08      Marion  18097   1542     219\n",
      "5            14  2021-04-05      Marion  18097    849       6\n",
      "6             1  2021-01-04      Marion  18097   4714      77\n",
      "7            18  2021-05-03      Marion  18097   1201       9\n",
      "8             5  2021-02-01      Marion  18097   1972      24\n",
      "9            15  2021-04-12      Marion  18097   1278       6\n",
      "10           17  2021-04-26      Marion  18097    933       6\n",
      "11            8  2021-02-22      Marion  18097    743      15\n",
      "12           16  2021-04-19      Marion  18097   1111      17\n",
      "13           23  2021-06-07      Marion  18097    819       3\n",
      "14           13  2021-03-29      Marion  18097    785       6\n",
      "15           10  2021-03-08      Marion  18097    703      13\n",
      "16           20  2021-05-17      Marion  18097    806      12\n",
      "17            3  2021-01-18      Marion  18097   3460      52\n",
      "18            7  2021-02-15      Marion  18097   1108      32\n",
      "19           21  2021-05-24      Marion  18097    710       5\n",
      "20            2  2021-01-11      Marion  18097   5289      77\n",
      "21           22  2021-05-31      Marion  18097    471       8\n",
      "22            4  2021-01-25      Marion  18097   2794      37\n",
      "23           20  2021-05-17  Tippecanoe  18157     78       0\n",
      "24            5  2021-02-01  Tippecanoe  18157    458      10\n",
      "25           22  2021-05-31  Tippecanoe  18157     91       5\n",
      "26            7  2021-02-15  Tippecanoe  18157    391       9\n",
      "27            9  2021-03-01  Tippecanoe  18157    295       5\n",
      "28           15  2021-04-12  Tippecanoe  18157    387       1\n",
      "29            1  2021-01-04  Tippecanoe  18157    964      25\n",
      "30            4  2021-01-25  Tippecanoe  18157    626      19\n",
      "31           13  2021-03-29  Tippecanoe  18157    217       0\n",
      "32           14  2021-04-05  Tippecanoe  18157    338       0\n",
      "33           23  2021-06-07  Tippecanoe  18157     88       0\n",
      "34           16  2021-04-19  Tippecanoe  18157    321       0\n",
      "35           18  2021-05-03  Tippecanoe  18157    197       2\n",
      "36           12  2021-03-22  Tippecanoe  18157    141       3\n",
      "37           10  2021-03-08  Tippecanoe  18157    235       4\n",
      "38            2  2021-01-11  Tippecanoe  18157   1232      15\n",
      "39           17  2021-04-26  Tippecanoe  18157    225       3\n",
      "40           11  2021-03-15  Tippecanoe  18157    188       1\n",
      "41            3  2021-01-18  Tippecanoe  18157    737      10\n",
      "42            8  2021-02-22  Tippecanoe  18157    318       7\n",
      "43           21  2021-05-24  Tippecanoe  18157    121       1\n",
      "44            6  2021-02-08  Tippecanoe  18157    457      32\n",
      "45           19  2021-05-10  Tippecanoe  18157    122       2\n"
     ]
    }
   ],
   "source": [
    "# QUERY THE DATA ONCE\n",
    "query_job = bigquery_client.query(query)\n",
    "covid19_cases_data = query_job.to_dataframe()\n",
    "print(covid19_cases_data)"
   ]
  }
 ],
 "metadata": {
  "jupytext": {
   "cell_metadata_filter": "-all",
   "main_language": "python",
   "notebook_metadata_filter": "-all"
  },
  "language_info": {
   "codemirror_mode": {
    "name": "ipython",
    "version": 3
   },
   "file_extension": ".py",
   "mimetype": "text/x-python",
   "name": "python",
   "nbconvert_exporter": "python",
   "pygments_lexer": "ipython3",
   "version": "3.9.12"
  }
 },
 "nbformat": 4,
 "nbformat_minor": 5
}
