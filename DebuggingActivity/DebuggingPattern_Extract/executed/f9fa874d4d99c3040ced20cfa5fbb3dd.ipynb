{
 "cells": [
  {
   "cell_type": "code",
   "execution_count": 1,
   "id": "36a102a2",
   "metadata": {
    "execution": {
     "iopub.execute_input": "2023-05-09T21:30:21.764167Z",
     "iopub.status.busy": "2023-05-09T21:30:21.764014Z",
     "iopub.status.idle": "2023-05-09T21:30:21.773044Z",
     "shell.execute_reply": "2023-05-09T21:30:21.772776Z"
    }
   },
   "outputs": [],
   "source": [
    "get_ipython().run_cell_magic('capture', '', \"%logstop\\n%logstart -t -r -q ipython_command_log.py global\\n\\n#- IRONHACKS RESEARCH TRACKING CODE\\n#----------------------------------\\n# The following code is used to help our research team understand how you \\n# our notebook environment. We do not collect any personal information with\\n# the following code, it is used to measure when and how often you work on\\n# your submission files.\\n\\nimport os\\nfrom datetime import datetime\\nimport IPython.core.history as history\\n\\nha = history.HistoryAccessor()\\nha_tail = ha.get_tail(1)\\nha_cmd = next(ha_tail)\\nsession_id = str(ha_cmd[0])\\ncommand_id = str(ha_cmd[1])\\ntimestamp = datetime.utcnow().isoformat()\\nhistory_line = ','.join([session_id, command_id, timestamp]) + '\\\\n'\\nlogfile = open(os.environ['HOME']+'/ipython_session_log.csv', 'a')\\nlogfile.write(history_line)\\nlogfile.close()\\n\")"
   ]
  },
  {
   "cell_type": "code",
   "execution_count": 2,
   "id": "9b8cf762",
   "metadata": {
    "execution": {
     "iopub.execute_input": "2023-05-09T21:30:21.775373Z",
     "iopub.status.busy": "2023-05-09T21:30:21.775178Z",
     "iopub.status.idle": "2023-05-09T21:30:21.778083Z",
     "shell.execute_reply": "2023-05-09T21:30:21.777791Z"
    }
   },
   "outputs": [],
   "source": [
    "get_ipython().run_cell_magic('capture', '', \"\\n#- INSTALL ADDITIONAL LIBRARIES IF REQUIRED\\n#------------------------------------------\\n# This is normally not required. The hub environment comes preinstaled with \\n# many packages that you can already use without setup. In case there is some\\n# other library you would like to use that isn't on the list you run this command\\n# once to install them.  If it is already installed this command has no effect.\\n\\n#!python3 -m pip install pandas\\n\")"
   ]
  },
  {
   "cell_type": "markdown",
   "id": "5f85c7dc",
   "metadata": {},
   "source": [
    "- IMPORT THE LIBRARIES YOU WILL USE\n",
    "------------------------------------------\n",
    "You only need to import packages one time per notebook session. To keep your\n",
    "notebook clean and organized you can handle all imports at the top of your file.\n",
    "The following are included for example purposed, feel free to modify or delete \n",
    "anything in this section."
   ]
  },
  {
   "cell_type": "code",
   "execution_count": 3,
   "id": "dc833dab",
   "metadata": {
    "execution": {
     "iopub.execute_input": "2023-05-09T21:30:21.779619Z",
     "iopub.status.busy": "2023-05-09T21:30:21.779500Z",
     "iopub.status.idle": "2023-05-09T21:30:22.164771Z",
     "shell.execute_reply": "2023-05-09T21:30:22.164435Z"
    }
   },
   "outputs": [],
   "source": [
    "import csv\n",
    "import pandas as pd\n",
    "import numpy as np\n",
    "from google.cloud import bigquery\n",
    "from google.oauth2 import service_account\n",
    "from google.cloud.bigquery import magics"
   ]
  },
  {
   "cell_type": "markdown",
   "id": "2126de06",
   "metadata": {},
   "source": [
    "- DEFINE YOUR CLASSES AND FUNCTIONS \n",
    "-----------------------------------\n",
    "This is not required, but is helpful in keeping your notebook organized. \n",
    "You can use the following cell or several cells to define your functions\n",
    "and classes to keep them separate from your analysis or results code.\n",
    "In general it useful to define your methods in a separate cell from where\n",
    "it is run."
   ]
  },
  {
   "cell_type": "code",
   "execution_count": 4,
   "id": "78086f73",
   "metadata": {
    "execution": {
     "iopub.execute_input": "2023-05-09T21:30:22.166455Z",
     "iopub.status.busy": "2023-05-09T21:30:22.166320Z",
     "iopub.status.idle": "2023-05-09T21:30:22.173394Z",
     "shell.execute_reply": "2023-05-09T21:30:22.173070Z"
    }
   },
   "outputs": [],
   "source": [
    "BIGQUERY_PROJECT = 'ironhacks-data'\n",
    "bigquery_client = bigquery.Client(project=BIGQUERY_PROJECT)"
   ]
  },
  {
   "cell_type": "code",
   "execution_count": 5,
   "id": "fdb0f95f",
   "metadata": {
    "execution": {
     "iopub.execute_input": "2023-05-09T21:30:22.174981Z",
     "iopub.status.busy": "2023-05-09T21:30:22.174897Z",
     "iopub.status.idle": "2023-05-09T21:30:28.252194Z",
     "shell.execute_reply": "2023-05-09T21:30:28.251542Z"
    }
   },
   "outputs": [
    {
     "name": "stdout",
     "output_type": "stream",
     "text": [
      "\u001b[33mWARNING: Ignoring invalid distribution -umpy (/opt/anaconda3/lib/python3.9/site-packages)\u001b[0m\r\n",
      "\u001b[33mWARNING: Ignoring invalid distribution -umpy (/opt/anaconda3/lib/python3.9/site-packages)\u001b[0m\r\n",
      "Requirement already satisfied: db-dtypes in /opt/anaconda3/lib/python3.9/site-packages (1.0.5)\r\n",
      "Requirement already satisfied: pyarrow>=3.0.0 in /opt/anaconda3/lib/python3.9/site-packages (from db-dtypes) (10.0.1)\r\n",
      "Requirement already satisfied: pandas<2.0dev,>=0.24.2 in /opt/anaconda3/lib/python3.9/site-packages (from db-dtypes) (1.5.3)\r\n",
      "Requirement already satisfied: numpy<2.0dev,>=1.16.6 in /opt/anaconda3/lib/python3.9/site-packages (from db-dtypes) (1.22.4)\r\n",
      "Requirement already satisfied: packaging>=17.0 in /opt/anaconda3/lib/python3.9/site-packages (from db-dtypes) (21.3)\r\n",
      "Requirement already satisfied: pyparsing!=3.0.5,>=2.0.2 in /opt/anaconda3/lib/python3.9/site-packages (from packaging>=17.0->db-dtypes) (3.0.4)\r\n"
     ]
    },
    {
     "name": "stdout",
     "output_type": "stream",
     "text": [
      "Requirement already satisfied: pytz>=2020.1 in /opt/anaconda3/lib/python3.9/site-packages (from pandas<2.0dev,>=0.24.2->db-dtypes) (2021.3)\r\n",
      "Requirement already satisfied: python-dateutil>=2.8.1 in /opt/anaconda3/lib/python3.9/site-packages (from pandas<2.0dev,>=0.24.2->db-dtypes) (2.8.2)\r\n",
      "Requirement already satisfied: six>=1.5 in /opt/anaconda3/lib/python3.9/site-packages (from python-dateutil>=2.8.1->pandas<2.0dev,>=0.24.2->db-dtypes) (1.16.0)\r\n",
      "\u001b[33mWARNING: Ignoring invalid distribution -umpy (/opt/anaconda3/lib/python3.9/site-packages)\u001b[0m\r\n"
     ]
    },
    {
     "name": "stdout",
     "output_type": "stream",
     "text": [
      "\u001b[33mWARNING: Ignoring invalid distribution -umpy (/opt/anaconda3/lib/python3.9/site-packages)\u001b[0m\r\n",
      "\u001b[33mWARNING: Ignoring invalid distribution -umpy (/opt/anaconda3/lib/python3.9/site-packages)\u001b[0m\r\n",
      "\u001b[33mWARNING: Ignoring invalid distribution -umpy (/opt/anaconda3/lib/python3.9/site-packages)\u001b[0m\r\n"
     ]
    }
   ],
   "source": [
    "!pip install db-dtypes\n",
    "query_unemployment = \"\"\"\n",
    "SELECT *\n",
    "FROM `ironhacks-data.ironhacks_competition.unemployment_data` \n",
    "\"\"\"\n",
    "query = bigquery_client.query(query_unemployment)\n",
    "df_unemployment = query.to_dataframe()\n",
    "#df_unemployment.head()"
   ]
  },
  {
   "cell_type": "code",
   "execution_count": 6,
   "id": "24a87f6d",
   "metadata": {
    "execution": {
     "iopub.execute_input": "2023-05-09T21:30:28.255866Z",
     "iopub.status.busy": "2023-05-09T21:30:28.255374Z",
     "iopub.status.idle": "2023-05-09T21:30:30.215978Z",
     "shell.execute_reply": "2023-05-09T21:30:30.215080Z"
    }
   },
   "outputs": [],
   "source": [
    "query_wage = \"\"\"\n",
    "SELECT *\n",
    "FROM `ironhacks-data.ironhacks_competition.wage_data`\n",
    "\"\"\"\n",
    "query = bigquery_client.query(query_wage)\n",
    "df_wage = query.to_dataframe()\n",
    "#df_wage.head()"
   ]
  },
  {
   "cell_type": "code",
   "execution_count": 7,
   "id": "ca501c69",
   "metadata": {
    "execution": {
     "iopub.execute_input": "2023-05-09T21:30:30.220300Z",
     "iopub.status.busy": "2023-05-09T21:30:30.219983Z",
     "iopub.status.idle": "2023-05-09T21:30:31.986272Z",
     "shell.execute_reply": "2023-05-09T21:30:31.985376Z"
    }
   },
   "outputs": [],
   "source": [
    "query_pred_list = \"\"\"\n",
    "SELECT *\n",
    "FROM `ironhacks-data.ironhacks_competition.prediction_list`\n",
    "\"\"\"\n",
    "query = bigquery_client.query(query_pred_list)\n",
    "df_pred_list = query.to_dataframe()\n",
    "#df_pred_list.head()"
   ]
  },
  {
   "cell_type": "code",
   "execution_count": 8,
   "id": "1d82f20e",
   "metadata": {
    "execution": {
     "iopub.execute_input": "2023-05-09T21:30:31.990511Z",
     "iopub.status.busy": "2023-05-09T21:30:31.990196Z",
     "iopub.status.idle": "2023-05-09T21:30:33.859067Z",
     "shell.execute_reply": "2023-05-09T21:30:33.858473Z"
    }
   },
   "outputs": [],
   "source": [
    "query_schema = \"\"\"\n",
    "SELECT *\n",
    "FROM `ironhacks-data.ironhacks_competition.INFORMATION_SCHEMA.TABLES`\n",
    "\"\"\"\n",
    "query = bigquery_client.query(query_schema)\n",
    "df_schema = query.to_dataframe()\n",
    "#df_schema.head()"
   ]
  },
  {
   "cell_type": "code",
   "execution_count": 9,
   "id": "6419afae",
   "metadata": {
    "execution": {
     "iopub.execute_input": "2023-05-09T21:30:33.862564Z",
     "iopub.status.busy": "2023-05-09T21:30:33.862124Z",
     "iopub.status.idle": "2023-05-09T21:30:33.866958Z",
     "shell.execute_reply": "2023-05-09T21:30:33.866448Z"
    }
   },
   "outputs": [],
   "source": [
    "df_three_col = df_unemployment[[\"uu_id\", \"week_number\", \"total_claims\"]]\n",
    "#df_three_col.shape"
   ]
  },
  {
   "cell_type": "code",
   "execution_count": 10,
   "id": "d23df1e1",
   "metadata": {
    "execution": {
     "iopub.execute_input": "2023-05-09T21:30:33.869482Z",
     "iopub.status.busy": "2023-05-09T21:30:33.869275Z",
     "iopub.status.idle": "2023-05-09T21:30:33.876510Z",
     "shell.execute_reply": "2023-05-09T21:30:33.876064Z"
    }
   },
   "outputs": [],
   "source": [
    "df_three_col = df_three_col.drop_duplicates()\n",
    "#print(df_three_col.shape)"
   ]
  },
  {
   "cell_type": "code",
   "execution_count": 11,
   "id": "b46efe14",
   "metadata": {
    "execution": {
     "iopub.execute_input": "2023-05-09T21:30:33.878992Z",
     "iopub.status.busy": "2023-05-09T21:30:33.878782Z",
     "iopub.status.idle": "2023-05-09T21:30:33.886488Z",
     "shell.execute_reply": "2023-05-09T21:30:33.886101Z"
    }
   },
   "outputs": [],
   "source": [
    "df_three_col.sort_values(by=['uu_id', \"week_number\"],inplace=True)\n",
    "#df_three_col.head(21)\n",
    "#df_three_col.tail(3)\n",
    "#uu_id\tweek_number\ttotal_claims\n",
    "#1876\t001cd9ae23064d7f0fd3cd327c873d8d\t31\t34"
   ]
  },
  {
   "cell_type": "markdown",
   "id": "bfcfd069",
   "metadata": {},
   "source": [
    "print (df_three_col['week_number'].drop_duplicates())"
   ]
  },
  {
   "cell_type": "code",
   "execution_count": 12,
   "id": "6938c3f0",
   "metadata": {
    "execution": {
     "iopub.execute_input": "2023-05-09T21:30:33.888733Z",
     "iopub.status.busy": "2023-05-09T21:30:33.888563Z",
     "iopub.status.idle": "2023-05-09T21:30:33.892373Z",
     "shell.execute_reply": "2023-05-09T21:30:33.891944Z"
    }
   },
   "outputs": [],
   "source": [
    "res = pd.DataFrame(columns = ['uu_id', 'total_claims', 'week_number'])"
   ]
  },
  {
   "cell_type": "code",
   "execution_count": 13,
   "id": "df08b1c1",
   "metadata": {
    "execution": {
     "iopub.execute_input": "2023-05-09T21:30:33.894423Z",
     "iopub.status.busy": "2023-05-09T21:30:33.894293Z",
     "iopub.status.idle": "2023-05-09T21:30:34.575603Z",
     "shell.execute_reply": "2023-05-09T21:30:34.575319Z"
    },
    "lines_to_next_cell": 2
   },
   "outputs": [],
   "source": [
    "for cur_uu_id in df_pred_list['uu_id']:\n",
    "    #print(uu_id)\n",
    "    test_data = df_three_col[df_three_col[\"uu_id\"].isin([cur_uu_id]) ]\n",
    "    #test_data = test_data.tail(3)\n",
    "    week_list = test_data['week_number'].tolist()\n",
    "    y_pred = -1\n",
    "    count = 0\n",
    "    sum = 0\n",
    "    for week_id in range(31,38):\n",
    "        if week_id in week_list:\n",
    "            count+=1\n",
    "            tmp_row = test_data[test_data['week_number'] == week_id  ]\n",
    "            sum+= int( tmp_row['total_claims'])\n",
    "    if count > 0:\n",
    "        y_pred = int(sum/count)\n",
    "    else:\n",
    "        max_week = max(week_list)\n",
    "        tmp_row = test_data[test_data['week_number'] ==  max_week  ] \n",
    "        y_pre = tmp_row['total_claims']\n",
    "    cur_row =  pd.DataFrame([[cur_uu_id, y_pred, 44]], columns=['uu_id', 'total_claims', 'week_number'] )\n",
    "    res = pd.concat([res,cur_row] ,ignore_index = True)"
   ]
  },
  {
   "cell_type": "code",
   "execution_count": 14,
   "id": "aab8fc3e",
   "metadata": {
    "execution": {
     "iopub.execute_input": "2023-05-09T21:30:34.577083Z",
     "iopub.status.busy": "2023-05-09T21:30:34.576993Z",
     "iopub.status.idle": "2023-05-09T21:30:34.580763Z",
     "shell.execute_reply": "2023-05-09T21:30:34.580529Z"
    }
   },
   "outputs": [],
   "source": [
    "res.to_csv(\"Dec5_submission_prediction_output.csv\", index=False)"
   ]
  },
  {
   "cell_type": "code",
   "execution_count": 15,
   "id": "951e4159",
   "metadata": {
    "execution": {
     "iopub.execute_input": "2023-05-09T21:30:34.582103Z",
     "iopub.status.busy": "2023-05-09T21:30:34.582004Z",
     "iopub.status.idle": "2023-05-09T21:30:34.587171Z",
     "shell.execute_reply": "2023-05-09T21:30:34.586949Z"
    }
   },
   "outputs": [],
   "source": [
    "get_ipython().run_cell_magic('capture', '', \"%logstop\\n%logstart -t -r -q ipython_command_log.py global\\n\\n#- IRONHACKS RESEARCH TRACKING CODE\\n#----------------------------------\\n# The following code is used to help our research team understand how you \\n# our notebook environment. We do not collect any personal information with\\n# the following code, it is used to measure when and how often you work on\\n# your submission files.\\n\\nimport os\\nfrom datetime import datetime\\nimport IPython.core.history as history\\n\\nha = history.HistoryAccessor()\\nha_tail = ha.get_tail(1)\\nha_cmd = next(ha_tail)\\nsession_id = str(ha_cmd[0])\\ncommand_id = str(ha_cmd[1])\\ntimestamp = datetime.utcnow().isoformat()\\nhistory_line = ','.join([session_id, command_id, timestamp]) + '\\\\n'\\nlogfile = open(os.environ['HOME']+'/ipython_session_log.csv', 'a')\\nlogfile.write(history_line)\\nlogfile.close()\\n\")"
   ]
  },
  {
   "cell_type": "code",
   "execution_count": 16,
   "id": "be18edd2",
   "metadata": {
    "execution": {
     "iopub.execute_input": "2023-05-09T21:30:34.588464Z",
     "iopub.status.busy": "2023-05-09T21:30:34.588371Z",
     "iopub.status.idle": "2023-05-09T21:30:34.590725Z",
     "shell.execute_reply": "2023-05-09T21:30:34.590459Z"
    }
   },
   "outputs": [],
   "source": [
    "get_ipython().run_cell_magic('capture', '', \"\\n#- INSTALL ADDITIONAL LIBRARIES IF REQUIRED\\n#------------------------------------------\\n# This is normally not required. The hub environment comes preinstaled with \\n# many packages that you can already use without setup. In case there is some\\n# other library you would like to use that isn't on the list you run this command\\n# once to install them.  If it is already installed this command has no effect.\\n\\n#!python3 -m pip install pandas\\n\")"
   ]
  },
  {
   "cell_type": "markdown",
   "id": "2273187c",
   "metadata": {},
   "source": [
    "- IMPORT THE LIBRARIES YOU WILL USE\n",
    "------------------------------------------\n",
    "You only need to import packages one time per notebook session. To keep your\n",
    "notebook clean and organized you can handle all imports at the top of your file.\n",
    "The following are included for example purposed, feel free to modify or delete \n",
    "anything in this section."
   ]
  },
  {
   "cell_type": "code",
   "execution_count": 17,
   "id": "0673036c",
   "metadata": {
    "execution": {
     "iopub.execute_input": "2023-05-09T21:30:34.592034Z",
     "iopub.status.busy": "2023-05-09T21:30:34.591943Z",
     "iopub.status.idle": "2023-05-09T21:30:34.593894Z",
     "shell.execute_reply": "2023-05-09T21:30:34.593671Z"
    }
   },
   "outputs": [],
   "source": [
    "import csv\n",
    "import pandas as pd\n",
    "import numpy as np\n",
    "from google.cloud import bigquery\n",
    "from google.oauth2 import service_account\n",
    "from google.cloud.bigquery import magics"
   ]
  },
  {
   "cell_type": "markdown",
   "id": "b6a3e3a1",
   "metadata": {},
   "source": [
    "- DEFINE YOUR CLASSES AND FUNCTIONS \n",
    "-----------------------------------\n",
    "This is not required, but is helpful in keeping your notebook organized. \n",
    "You can use the following cell or several cells to define your functions\n",
    "and classes to keep them separate from your analysis or results code.\n",
    "In general it useful to define your methods in a separate cell from where\n",
    "it is run."
   ]
  },
  {
   "cell_type": "code",
   "execution_count": 18,
   "id": "5b54f026",
   "metadata": {
    "execution": {
     "iopub.execute_input": "2023-05-09T21:30:34.595230Z",
     "iopub.status.busy": "2023-05-09T21:30:34.595129Z",
     "iopub.status.idle": "2023-05-09T21:30:34.601714Z",
     "shell.execute_reply": "2023-05-09T21:30:34.601376Z"
    }
   },
   "outputs": [],
   "source": [
    "BIGQUERY_PROJECT = 'ironhacks-data'\n",
    "bigquery_client = bigquery.Client(project=BIGQUERY_PROJECT)"
   ]
  },
  {
   "cell_type": "code",
   "execution_count": 19,
   "id": "8614d455",
   "metadata": {
    "execution": {
     "iopub.execute_input": "2023-05-09T21:30:34.603255Z",
     "iopub.status.busy": "2023-05-09T21:30:34.603166Z",
     "iopub.status.idle": "2023-05-09T21:30:39.222019Z",
     "shell.execute_reply": "2023-05-09T21:30:39.221342Z"
    }
   },
   "outputs": [
    {
     "name": "stdout",
     "output_type": "stream",
     "text": [
      "\u001b[33mWARNING: Ignoring invalid distribution -umpy (/opt/anaconda3/lib/python3.9/site-packages)\u001b[0m\r\n",
      "\u001b[33mWARNING: Ignoring invalid distribution -umpy (/opt/anaconda3/lib/python3.9/site-packages)\u001b[0m\r\n",
      "Requirement already satisfied: db-dtypes in /opt/anaconda3/lib/python3.9/site-packages (1.0.5)\r\n"
     ]
    },
    {
     "name": "stdout",
     "output_type": "stream",
     "text": [
      "Requirement already satisfied: packaging>=17.0 in /opt/anaconda3/lib/python3.9/site-packages (from db-dtypes) (21.3)\r\n",
      "Requirement already satisfied: pandas<2.0dev,>=0.24.2 in /opt/anaconda3/lib/python3.9/site-packages (from db-dtypes) (1.5.3)\r\n",
      "Requirement already satisfied: pyarrow>=3.0.0 in /opt/anaconda3/lib/python3.9/site-packages (from db-dtypes) (10.0.1)\r\n",
      "Requirement already satisfied: numpy<2.0dev,>=1.16.6 in /opt/anaconda3/lib/python3.9/site-packages (from db-dtypes) (1.22.4)\r\n",
      "Requirement already satisfied: pyparsing!=3.0.5,>=2.0.2 in /opt/anaconda3/lib/python3.9/site-packages (from packaging>=17.0->db-dtypes) (3.0.4)\r\n",
      "Requirement already satisfied: python-dateutil>=2.8.1 in /opt/anaconda3/lib/python3.9/site-packages (from pandas<2.0dev,>=0.24.2->db-dtypes) (2.8.2)\r\n",
      "Requirement already satisfied: pytz>=2020.1 in /opt/anaconda3/lib/python3.9/site-packages (from pandas<2.0dev,>=0.24.2->db-dtypes) (2021.3)\r\n",
      "Requirement already satisfied: six>=1.5 in /opt/anaconda3/lib/python3.9/site-packages (from python-dateutil>=2.8.1->pandas<2.0dev,>=0.24.2->db-dtypes) (1.16.0)\r\n",
      "\u001b[33mWARNING: Ignoring invalid distribution -umpy (/opt/anaconda3/lib/python3.9/site-packages)\u001b[0m\r\n"
     ]
    },
    {
     "name": "stdout",
     "output_type": "stream",
     "text": [
      "\u001b[33mWARNING: Ignoring invalid distribution -umpy (/opt/anaconda3/lib/python3.9/site-packages)\u001b[0m\r\n",
      "\u001b[33mWARNING: Ignoring invalid distribution -umpy (/opt/anaconda3/lib/python3.9/site-packages)\u001b[0m\r\n",
      "\u001b[33mWARNING: Ignoring invalid distribution -umpy (/opt/anaconda3/lib/python3.9/site-packages)\u001b[0m\r\n"
     ]
    }
   ],
   "source": [
    "!pip install db-dtypes\n",
    "query_unemployment = \"\"\"\n",
    "SELECT *\n",
    "FROM `ironhacks-data.ironhacks_competition.unemployment_data` \n",
    "\"\"\"\n",
    "query = bigquery_client.query(query_unemployment)\n",
    "df_unemployment = query.to_dataframe()\n",
    "#df_unemployment.head()"
   ]
  },
  {
   "cell_type": "code",
   "execution_count": 20,
   "id": "0c28a9de",
   "metadata": {
    "execution": {
     "iopub.execute_input": "2023-05-09T21:30:39.225665Z",
     "iopub.status.busy": "2023-05-09T21:30:39.225215Z",
     "iopub.status.idle": "2023-05-09T21:30:40.845716Z",
     "shell.execute_reply": "2023-05-09T21:30:40.844600Z"
    }
   },
   "outputs": [],
   "source": [
    "query_wage = \"\"\"\n",
    "SELECT *\n",
    "FROM `ironhacks-data.ironhacks_competition.wage_data`\n",
    "\"\"\"\n",
    "query = bigquery_client.query(query_wage)\n",
    "df_wage = query.to_dataframe()\n",
    "#df_wage.head()"
   ]
  },
  {
   "cell_type": "code",
   "execution_count": 21,
   "id": "e848ced7",
   "metadata": {
    "execution": {
     "iopub.execute_input": "2023-05-09T21:30:40.850115Z",
     "iopub.status.busy": "2023-05-09T21:30:40.849784Z",
     "iopub.status.idle": "2023-05-09T21:30:42.380948Z",
     "shell.execute_reply": "2023-05-09T21:30:42.379968Z"
    }
   },
   "outputs": [],
   "source": [
    "query_pred_list = \"\"\"\n",
    "SELECT *\n",
    "FROM `ironhacks-data.ironhacks_competition.prediction_list`\n",
    "\"\"\"\n",
    "query = bigquery_client.query(query_pred_list)\n",
    "df_pred_list = query.to_dataframe()\n",
    "#df_pred_list.head()"
   ]
  },
  {
   "cell_type": "code",
   "execution_count": 22,
   "id": "58405a2f",
   "metadata": {
    "execution": {
     "iopub.execute_input": "2023-05-09T21:30:42.385225Z",
     "iopub.status.busy": "2023-05-09T21:30:42.384890Z",
     "iopub.status.idle": "2023-05-09T21:30:44.341719Z",
     "shell.execute_reply": "2023-05-09T21:30:44.340816Z"
    }
   },
   "outputs": [],
   "source": [
    "query_schema = \"\"\"\n",
    "SELECT *\n",
    "FROM `ironhacks-data.ironhacks_competition.INFORMATION_SCHEMA.TABLES`\n",
    "\"\"\"\n",
    "query = bigquery_client.query(query_schema)\n",
    "df_schema = query.to_dataframe()\n",
    "#df_schema.head()"
   ]
  },
  {
   "cell_type": "code",
   "execution_count": 23,
   "id": "f9e1a9c2",
   "metadata": {
    "execution": {
     "iopub.execute_input": "2023-05-09T21:30:44.345947Z",
     "iopub.status.busy": "2023-05-09T21:30:44.345611Z",
     "iopub.status.idle": "2023-05-09T21:30:44.351418Z",
     "shell.execute_reply": "2023-05-09T21:30:44.350765Z"
    }
   },
   "outputs": [],
   "source": [
    "df_three_col = df_unemployment[[\"uu_id\", \"week_number\", \"total_claims\"]]\n",
    "#df_three_col.shape"
   ]
  },
  {
   "cell_type": "code",
   "execution_count": 24,
   "id": "ab98f662",
   "metadata": {
    "execution": {
     "iopub.execute_input": "2023-05-09T21:30:44.354821Z",
     "iopub.status.busy": "2023-05-09T21:30:44.354516Z",
     "iopub.status.idle": "2023-05-09T21:30:44.362725Z",
     "shell.execute_reply": "2023-05-09T21:30:44.362215Z"
    }
   },
   "outputs": [],
   "source": [
    "df_three_col = df_three_col.drop_duplicates()\n",
    "#print(df_three_col.shape)"
   ]
  },
  {
   "cell_type": "code",
   "execution_count": 25,
   "id": "9c12fce6",
   "metadata": {
    "execution": {
     "iopub.execute_input": "2023-05-09T21:30:44.365596Z",
     "iopub.status.busy": "2023-05-09T21:30:44.365353Z",
     "iopub.status.idle": "2023-05-09T21:30:44.374299Z",
     "shell.execute_reply": "2023-05-09T21:30:44.373832Z"
    }
   },
   "outputs": [],
   "source": [
    "df_three_col.sort_values(by=['uu_id', \"week_number\"],inplace=True)\n",
    "#df_three_col.head(21)\n",
    "#df_three_col.tail(3)\n",
    "#uu_id\tweek_number\ttotal_claims\n",
    "#1876\t001cd9ae23064d7f0fd3cd327c873d8d\t31\t34"
   ]
  },
  {
   "cell_type": "markdown",
   "id": "d351fb53",
   "metadata": {},
   "source": [
    "print (df_three_col['week_number'].drop_duplicates())"
   ]
  },
  {
   "cell_type": "code",
   "execution_count": 26,
   "id": "ed05f0b5",
   "metadata": {
    "execution": {
     "iopub.execute_input": "2023-05-09T21:30:44.376815Z",
     "iopub.status.busy": "2023-05-09T21:30:44.376615Z",
     "iopub.status.idle": "2023-05-09T21:30:44.380738Z",
     "shell.execute_reply": "2023-05-09T21:30:44.380320Z"
    }
   },
   "outputs": [],
   "source": [
    "res = pd.DataFrame(columns = ['uu_id', 'total_claims', 'week_number'])"
   ]
  },
  {
   "cell_type": "code",
   "execution_count": 27,
   "id": "50cba708",
   "metadata": {
    "execution": {
     "iopub.execute_input": "2023-05-09T21:30:44.382836Z",
     "iopub.status.busy": "2023-05-09T21:30:44.382695Z",
     "iopub.status.idle": "2023-05-09T21:30:45.056792Z",
     "shell.execute_reply": "2023-05-09T21:30:45.056495Z"
    },
    "lines_to_next_cell": 2
   },
   "outputs": [],
   "source": [
    "for cur_uu_id in df_pred_list['uu_id']:\n",
    "    #print(uu_id)\n",
    "    test_data = df_three_col[df_three_col[\"uu_id\"].isin([cur_uu_id]) ]\n",
    "    #test_data = test_data.tail(3)\n",
    "    week_list = test_data['week_number'].tolist()\n",
    "    y_pred = -1\n",
    "    count = 0\n",
    "    sum = 0\n",
    "    for week_id in range(31,38):\n",
    "        if week_id in week_list:\n",
    "            count+=1\n",
    "            tmp_row = test_data[test_data['week_number'] == week_id  ]\n",
    "            sum+= int( tmp_row['total_claims'])\n",
    "    if count > 0:\n",
    "        y_pred = int(sum/count)\n",
    "    else:\n",
    "        max_week = max(week_list)\n",
    "        tmp_row = test_data[test_data['week_number'] ==  max_week  ] \n",
    "        y_pred = tmp_row['total_claims']\n",
    "    cur_row =  pd.DataFrame([[cur_uu_id, y_pred, 44]], columns=['uu_id', 'total_claims', 'week_number'] )\n",
    "    res = pd.concat([res,cur_row] ,ignore_index = True)"
   ]
  },
  {
   "cell_type": "code",
   "execution_count": 28,
   "id": "ed8741f8",
   "metadata": {
    "execution": {
     "iopub.execute_input": "2023-05-09T21:30:45.058376Z",
     "iopub.status.busy": "2023-05-09T21:30:45.058289Z",
     "iopub.status.idle": "2023-05-09T21:30:45.062236Z",
     "shell.execute_reply": "2023-05-09T21:30:45.061964Z"
    }
   },
   "outputs": [],
   "source": [
    "res.to_csv(\"Dec5_submission_prediction_output.csv\", index=False)"
   ]
  },
  {
   "cell_type": "code",
   "execution_count": 29,
   "id": "4323e365",
   "metadata": {
    "execution": {
     "iopub.execute_input": "2023-05-09T21:30:45.063690Z",
     "iopub.status.busy": "2023-05-09T21:30:45.063577Z",
     "iopub.status.idle": "2023-05-09T21:30:45.068787Z",
     "shell.execute_reply": "2023-05-09T21:30:45.068553Z"
    }
   },
   "outputs": [],
   "source": [
    "get_ipython().run_cell_magic('capture', '', \"%logstop\\n%logstart -t -r -q ipython_command_log.py global\\n\\n#- IRONHACKS RESEARCH TRACKING CODE\\n#----------------------------------\\n# The following code is used to help our research team understand how you \\n# our notebook environment. We do not collect any personal information with\\n# the following code, it is used to measure when and how often you work on\\n# your submission files.\\n\\nimport os\\nfrom datetime import datetime\\nimport IPython.core.history as history\\n\\nha = history.HistoryAccessor()\\nha_tail = ha.get_tail(1)\\nha_cmd = next(ha_tail)\\nsession_id = str(ha_cmd[0])\\ncommand_id = str(ha_cmd[1])\\ntimestamp = datetime.utcnow().isoformat()\\nhistory_line = ','.join([session_id, command_id, timestamp]) + '\\\\n'\\nlogfile = open(os.environ['HOME']+'/ipython_session_log.csv', 'a')\\nlogfile.write(history_line)\\nlogfile.close()\\n\")"
   ]
  },
  {
   "cell_type": "code",
   "execution_count": 30,
   "id": "074b462e",
   "metadata": {
    "execution": {
     "iopub.execute_input": "2023-05-09T21:30:45.070144Z",
     "iopub.status.busy": "2023-05-09T21:30:45.070039Z",
     "iopub.status.idle": "2023-05-09T21:30:45.072619Z",
     "shell.execute_reply": "2023-05-09T21:30:45.072227Z"
    }
   },
   "outputs": [],
   "source": [
    "get_ipython().run_cell_magic('capture', '', \"\\n#- INSTALL ADDITIONAL LIBRARIES IF REQUIRED\\n#------------------------------------------\\n# This is normally not required. The hub environment comes preinstaled with \\n# many packages that you can already use without setup. In case there is some\\n# other library you would like to use that isn't on the list you run this command\\n# once to install them.  If it is already installed this command has no effect.\\n\\n#!python3 -m pip install pandas\\n\")"
   ]
  },
  {
   "cell_type": "markdown",
   "id": "f0154168",
   "metadata": {},
   "source": [
    "- IMPORT THE LIBRARIES YOU WILL USE\n",
    "------------------------------------------\n",
    "You only need to import packages one time per notebook session. To keep your\n",
    "notebook clean and organized you can handle all imports at the top of your file.\n",
    "The following are included for example purposed, feel free to modify or delete \n",
    "anything in this section."
   ]
  },
  {
   "cell_type": "code",
   "execution_count": 31,
   "id": "24688bcb",
   "metadata": {
    "execution": {
     "iopub.execute_input": "2023-05-09T21:30:45.074149Z",
     "iopub.status.busy": "2023-05-09T21:30:45.074036Z",
     "iopub.status.idle": "2023-05-09T21:30:45.076106Z",
     "shell.execute_reply": "2023-05-09T21:30:45.075874Z"
    }
   },
   "outputs": [],
   "source": [
    "import csv\n",
    "import pandas as pd\n",
    "import numpy as np\n",
    "from google.cloud import bigquery\n",
    "from google.oauth2 import service_account\n",
    "from google.cloud.bigquery import magics"
   ]
  },
  {
   "cell_type": "markdown",
   "id": "ceb5ae5b",
   "metadata": {},
   "source": [
    "- DEFINE YOUR CLASSES AND FUNCTIONS \n",
    "-----------------------------------\n",
    "This is not required, but is helpful in keeping your notebook organized. \n",
    "You can use the following cell or several cells to define your functions\n",
    "and classes to keep them separate from your analysis or results code.\n",
    "In general it useful to define your methods in a separate cell from where\n",
    "it is run."
   ]
  },
  {
   "cell_type": "code",
   "execution_count": 32,
   "id": "854a395a",
   "metadata": {
    "execution": {
     "iopub.execute_input": "2023-05-09T21:30:45.077443Z",
     "iopub.status.busy": "2023-05-09T21:30:45.077347Z",
     "iopub.status.idle": "2023-05-09T21:30:45.083812Z",
     "shell.execute_reply": "2023-05-09T21:30:45.083505Z"
    }
   },
   "outputs": [],
   "source": [
    "BIGQUERY_PROJECT = 'ironhacks-data'\n",
    "bigquery_client = bigquery.Client(project=BIGQUERY_PROJECT)"
   ]
  },
  {
   "cell_type": "code",
   "execution_count": 33,
   "id": "986eed2a",
   "metadata": {
    "execution": {
     "iopub.execute_input": "2023-05-09T21:30:45.085362Z",
     "iopub.status.busy": "2023-05-09T21:30:45.085270Z",
     "iopub.status.idle": "2023-05-09T21:30:49.593971Z",
     "shell.execute_reply": "2023-05-09T21:30:49.593306Z"
    }
   },
   "outputs": [
    {
     "name": "stdout",
     "output_type": "stream",
     "text": [
      "\u001b[33mWARNING: Ignoring invalid distribution -umpy (/opt/anaconda3/lib/python3.9/site-packages)\u001b[0m\r\n",
      "\u001b[33mWARNING: Ignoring invalid distribution -umpy (/opt/anaconda3/lib/python3.9/site-packages)\u001b[0m\r\n",
      "Requirement already satisfied: db-dtypes in /opt/anaconda3/lib/python3.9/site-packages (1.0.5)\r\n",
      "Requirement already satisfied: pandas<2.0dev,>=0.24.2 in /opt/anaconda3/lib/python3.9/site-packages (from db-dtypes) (1.5.3)\r\n",
      "Requirement already satisfied: pyarrow>=3.0.0 in /opt/anaconda3/lib/python3.9/site-packages (from db-dtypes) (10.0.1)\r\n",
      "Requirement already satisfied: numpy<2.0dev,>=1.16.6 in /opt/anaconda3/lib/python3.9/site-packages (from db-dtypes) (1.22.4)\r\n",
      "Requirement already satisfied: packaging>=17.0 in /opt/anaconda3/lib/python3.9/site-packages (from db-dtypes) (21.3)\r\n",
      "Requirement already satisfied: pyparsing!=3.0.5,>=2.0.2 in /opt/anaconda3/lib/python3.9/site-packages (from packaging>=17.0->db-dtypes) (3.0.4)\r\n",
      "Requirement already satisfied: python-dateutil>=2.8.1 in /opt/anaconda3/lib/python3.9/site-packages (from pandas<2.0dev,>=0.24.2->db-dtypes) (2.8.2)\r\n"
     ]
    },
    {
     "name": "stdout",
     "output_type": "stream",
     "text": [
      "Requirement already satisfied: pytz>=2020.1 in /opt/anaconda3/lib/python3.9/site-packages (from pandas<2.0dev,>=0.24.2->db-dtypes) (2021.3)\r\n",
      "Requirement already satisfied: six>=1.5 in /opt/anaconda3/lib/python3.9/site-packages (from python-dateutil>=2.8.1->pandas<2.0dev,>=0.24.2->db-dtypes) (1.16.0)\r\n",
      "\u001b[33mWARNING: Ignoring invalid distribution -umpy (/opt/anaconda3/lib/python3.9/site-packages)\u001b[0m\r\n"
     ]
    },
    {
     "name": "stdout",
     "output_type": "stream",
     "text": [
      "\u001b[33mWARNING: Ignoring invalid distribution -umpy (/opt/anaconda3/lib/python3.9/site-packages)\u001b[0m\r\n",
      "\u001b[33mWARNING: Ignoring invalid distribution -umpy (/opt/anaconda3/lib/python3.9/site-packages)\u001b[0m\r\n",
      "\u001b[33mWARNING: Ignoring invalid distribution -umpy (/opt/anaconda3/lib/python3.9/site-packages)\u001b[0m\r\n"
     ]
    }
   ],
   "source": [
    "!pip install db-dtypes\n",
    "query_unemployment = \"\"\"\n",
    "SELECT *\n",
    "FROM `ironhacks-data.ironhacks_competition.unemployment_data` \n",
    "\"\"\"\n",
    "query = bigquery_client.query(query_unemployment)\n",
    "df_unemployment = query.to_dataframe()\n",
    "#df_unemployment.head()"
   ]
  },
  {
   "cell_type": "code",
   "execution_count": 34,
   "id": "675b6518",
   "metadata": {
    "execution": {
     "iopub.execute_input": "2023-05-09T21:30:49.597562Z",
     "iopub.status.busy": "2023-05-09T21:30:49.597128Z",
     "iopub.status.idle": "2023-05-09T21:30:50.981625Z",
     "shell.execute_reply": "2023-05-09T21:30:50.980751Z"
    }
   },
   "outputs": [],
   "source": [
    "query_wage = \"\"\"\n",
    "SELECT *\n",
    "FROM `ironhacks-data.ironhacks_competition.wage_data`\n",
    "\"\"\"\n",
    "query = bigquery_client.query(query_wage)\n",
    "df_wage = query.to_dataframe()\n",
    "#df_wage.head()"
   ]
  },
  {
   "cell_type": "code",
   "execution_count": 35,
   "id": "e01e69b0",
   "metadata": {
    "execution": {
     "iopub.execute_input": "2023-05-09T21:30:50.986005Z",
     "iopub.status.busy": "2023-05-09T21:30:50.985672Z",
     "iopub.status.idle": "2023-05-09T21:30:52.485353Z",
     "shell.execute_reply": "2023-05-09T21:30:52.484381Z"
    }
   },
   "outputs": [],
   "source": [
    "query_pred_list = \"\"\"\n",
    "SELECT *\n",
    "FROM `ironhacks-data.ironhacks_competition.prediction_list`\n",
    "\"\"\"\n",
    "query = bigquery_client.query(query_pred_list)\n",
    "df_pred_list = query.to_dataframe()\n",
    "#df_pred_list.head()"
   ]
  },
  {
   "cell_type": "code",
   "execution_count": 36,
   "id": "7f1b3c45",
   "metadata": {
    "execution": {
     "iopub.execute_input": "2023-05-09T21:30:52.489767Z",
     "iopub.status.busy": "2023-05-09T21:30:52.489213Z",
     "iopub.status.idle": "2023-05-09T21:30:54.357679Z",
     "shell.execute_reply": "2023-05-09T21:30:54.356960Z"
    }
   },
   "outputs": [],
   "source": [
    "query_schema = \"\"\"\n",
    "SELECT *\n",
    "FROM `ironhacks-data.ironhacks_competition.INFORMATION_SCHEMA.TABLES`\n",
    "\"\"\"\n",
    "query = bigquery_client.query(query_schema)\n",
    "df_schema = query.to_dataframe()\n",
    "#df_schema.head()"
   ]
  },
  {
   "cell_type": "code",
   "execution_count": 37,
   "id": "ef580f45",
   "metadata": {
    "execution": {
     "iopub.execute_input": "2023-05-09T21:30:54.361647Z",
     "iopub.status.busy": "2023-05-09T21:30:54.361350Z",
     "iopub.status.idle": "2023-05-09T21:30:54.367200Z",
     "shell.execute_reply": "2023-05-09T21:30:54.366562Z"
    }
   },
   "outputs": [],
   "source": [
    "df_three_col = df_unemployment[[\"uu_id\", \"week_number\", \"total_claims\"]]\n",
    "#df_three_col.shape"
   ]
  },
  {
   "cell_type": "code",
   "execution_count": 38,
   "id": "beda71d1",
   "metadata": {
    "execution": {
     "iopub.execute_input": "2023-05-09T21:30:54.370250Z",
     "iopub.status.busy": "2023-05-09T21:30:54.370014Z",
     "iopub.status.idle": "2023-05-09T21:30:54.378075Z",
     "shell.execute_reply": "2023-05-09T21:30:54.377520Z"
    }
   },
   "outputs": [],
   "source": [
    "df_three_col = df_three_col.drop_duplicates()\n",
    "#print(df_three_col.shape)"
   ]
  },
  {
   "cell_type": "code",
   "execution_count": 39,
   "id": "94eb15cb",
   "metadata": {
    "execution": {
     "iopub.execute_input": "2023-05-09T21:30:54.381343Z",
     "iopub.status.busy": "2023-05-09T21:30:54.380794Z",
     "iopub.status.idle": "2023-05-09T21:30:54.390025Z",
     "shell.execute_reply": "2023-05-09T21:30:54.389561Z"
    }
   },
   "outputs": [],
   "source": [
    "df_three_col.sort_values(by=['uu_id', \"week_number\"],inplace=True)\n",
    "#df_three_col.head(21)\n",
    "#df_three_col.tail(3)\n",
    "#uu_id\tweek_number\ttotal_claims\n",
    "#1876\t001cd9ae23064d7f0fd3cd327c873d8d\t31\t34"
   ]
  },
  {
   "cell_type": "markdown",
   "id": "a62727d4",
   "metadata": {},
   "source": [
    "print (df_three_col['week_number'].drop_duplicates())"
   ]
  },
  {
   "cell_type": "code",
   "execution_count": 40,
   "id": "a9b90a74",
   "metadata": {
    "execution": {
     "iopub.execute_input": "2023-05-09T21:30:54.392747Z",
     "iopub.status.busy": "2023-05-09T21:30:54.392534Z",
     "iopub.status.idle": "2023-05-09T21:30:54.396506Z",
     "shell.execute_reply": "2023-05-09T21:30:54.396076Z"
    }
   },
   "outputs": [],
   "source": [
    "res = pd.DataFrame(columns = ['uu_id', 'total_claims', 'week_number'])"
   ]
  },
  {
   "cell_type": "code",
   "execution_count": 41,
   "id": "0c4ad72b",
   "metadata": {
    "execution": {
     "iopub.execute_input": "2023-05-09T21:30:54.398660Z",
     "iopub.status.busy": "2023-05-09T21:30:54.398515Z",
     "iopub.status.idle": "2023-05-09T21:30:55.047888Z",
     "shell.execute_reply": "2023-05-09T21:30:55.047579Z"
    },
    "lines_to_next_cell": 2
   },
   "outputs": [],
   "source": [
    "for cur_uu_id in df_pred_list['uu_id']:\n",
    "    #print(uu_id)\n",
    "    test_data = df_three_col[df_three_col[\"uu_id\"].isin([cur_uu_id]) ]\n",
    "    #test_data = test_data.tail(3)\n",
    "    week_list = test_data['week_number'].tolist()\n",
    "    y_pred = -1\n",
    "    count = 0\n",
    "    sum = 0\n",
    "    for week_id in range(31,38):\n",
    "        if week_id in week_list:\n",
    "            count+=1\n",
    "            tmp_row = test_data[test_data['week_number'] == week_id  ]\n",
    "            sum+= int( tmp_row['total_claims'])\n",
    "    if count > 0:\n",
    "        y_pred = int(sum/count)\n",
    "    else:\n",
    "        max_week = max(week_list)\n",
    "        tmp_row = test_data[test_data['week_number'] ==  max_week  ] \n",
    "        y_pred = int( tmp_row['total_claims'] )\n",
    "    cur_row =  pd.DataFrame([[cur_uu_id, y_pred, 44]], columns=['uu_id', 'total_claims', 'week_number'] )\n",
    "    res = pd.concat([res,cur_row] ,ignore_index = True)"
   ]
  },
  {
   "cell_type": "code",
   "execution_count": 42,
   "id": "1a0b5972",
   "metadata": {
    "execution": {
     "iopub.execute_input": "2023-05-09T21:30:55.049552Z",
     "iopub.status.busy": "2023-05-09T21:30:55.049463Z",
     "iopub.status.idle": "2023-05-09T21:30:55.052517Z",
     "shell.execute_reply": "2023-05-09T21:30:55.052283Z"
    },
    "lines_to_next_cell": 2
   },
   "outputs": [],
   "source": [
    "res.to_csv(\"Dec5_submission_prediction_output.csv\", index=False)"
   ]
  }
 ],
 "metadata": {
  "jupytext": {
   "cell_metadata_filter": "-all",
   "main_language": "python",
   "notebook_metadata_filter": "-all"
  },
  "language_info": {
   "codemirror_mode": {
    "name": "ipython",
    "version": 3
   },
   "file_extension": ".py",
   "mimetype": "text/x-python",
   "name": "python",
   "nbconvert_exporter": "python",
   "pygments_lexer": "ipython3",
   "version": "3.9.12"
  }
 },
 "nbformat": 4,
 "nbformat_minor": 5
}
