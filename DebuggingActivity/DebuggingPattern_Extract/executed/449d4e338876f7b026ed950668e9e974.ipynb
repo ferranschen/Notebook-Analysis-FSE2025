{
 "cells": [
  {
   "cell_type": "code",
   "execution_count": 1,
   "id": "2693109e",
   "metadata": {
    "execution": {
     "iopub.execute_input": "2023-05-10T02:16:51.941080Z",
     "iopub.status.busy": "2023-05-10T02:16:51.940967Z",
     "iopub.status.idle": "2023-05-10T02:16:52.235414Z",
     "shell.execute_reply": "2023-05-10T02:16:52.234839Z"
    },
    "lines_to_next_cell": 2
   },
   "outputs": [
    {
     "name": "stdout",
     "output_type": "stream",
     "text": [
      "zsh:1: command not found: nvidia-smi\r\n"
     ]
    }
   ],
   "source": [
    "get_ipython().system('nvidia-smi')"
   ]
  }
 ],
 "metadata": {
  "jupytext": {
   "cell_metadata_filter": "-all",
   "main_language": "python",
   "notebook_metadata_filter": "-all"
  },
  "kernelspec": {
   "display_name": "base",
   "language": "python",
   "name": "python3"
  },
  "language_info": {
   "codemirror_mode": {
    "name": "ipython",
    "version": 3
   },
   "file_extension": ".py",
   "mimetype": "text/x-python",
   "name": "python",
   "nbconvert_exporter": "python",
   "pygments_lexer": "ipython3",
   "version": "3.9.12"
  }
 },
 "nbformat": 4,
 "nbformat_minor": 5
}
