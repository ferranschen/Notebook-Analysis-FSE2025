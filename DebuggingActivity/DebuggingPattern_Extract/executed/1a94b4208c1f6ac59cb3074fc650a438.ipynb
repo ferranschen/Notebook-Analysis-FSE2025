{
 "cells": [
  {
   "cell_type": "code",
   "execution_count": 1,
   "id": "cadf2933",
   "metadata": {
    "execution": {
     "iopub.execute_input": "2023-05-10T02:25:38.789683Z",
     "iopub.status.busy": "2023-05-10T02:25:38.789343Z",
     "iopub.status.idle": "2023-05-10T02:25:41.408472Z",
     "shell.execute_reply": "2023-05-10T02:25:41.407811Z"
    }
   },
   "outputs": [
    {
     "name": "stdout",
     "output_type": "stream",
     "text": [
      "\u001b[33mWARNING: Ignoring invalid distribution -umpy (/opt/anaconda3/lib/python3.9/site-packages)\u001b[0m\r\n"
     ]
    },
    {
     "name": "stdout",
     "output_type": "stream",
     "text": [
      "\u001b[33mWARNING: Ignoring invalid distribution -umpy (/opt/anaconda3/lib/python3.9/site-packages)\u001b[0m\r\n",
      "Requirement already satisfied: torch in /opt/anaconda3/lib/python3.9/site-packages (1.13.1)\r\n",
      "Requirement already satisfied: typing-extensions in /opt/anaconda3/lib/python3.9/site-packages (from torch) (4.5.0)\r\n",
      "\u001b[33mWARNING: Ignoring invalid distribution -umpy (/opt/anaconda3/lib/python3.9/site-packages)\u001b[0m\r\n"
     ]
    },
    {
     "name": "stdout",
     "output_type": "stream",
     "text": [
      "\u001b[33mWARNING: Ignoring invalid distribution -umpy (/opt/anaconda3/lib/python3.9/site-packages)\u001b[0m\r\n"
     ]
    },
    {
     "name": "stdout",
     "output_type": "stream",
     "text": [
      "\u001b[33mWARNING: Ignoring invalid distribution -umpy (/opt/anaconda3/lib/python3.9/site-packages)\u001b[0m\r\n",
      "\u001b[33mWARNING: Ignoring invalid distribution -umpy (/opt/anaconda3/lib/python3.9/site-packages)\u001b[0m\r\n"
     ]
    }
   ],
   "source": [
    "get_ipython().system('pip install torch')"
   ]
  },
  {
   "cell_type": "code",
   "execution_count": 2,
   "id": "74291909",
   "metadata": {
    "execution": {
     "iopub.execute_input": "2023-05-10T02:25:41.411631Z",
     "iopub.status.busy": "2023-05-10T02:25:41.411396Z",
     "iopub.status.idle": "2023-05-10T02:25:42.070913Z",
     "shell.execute_reply": "2023-05-10T02:25:42.070596Z"
    },
    "lines_to_next_cell": 2
   },
   "outputs": [
    {
     "name": "stdout",
     "output_type": "stream",
     "text": [
      "tensor([[0.5724, 0.8517, 0.7106],\n",
      "        [0.1365, 0.6371, 0.1546],\n",
      "        [0.7898, 0.0071, 0.8336],\n",
      "        [0.5360, 0.0906, 0.1300],\n",
      "        [0.3544, 0.6408, 0.4290]])\n"
     ]
    }
   ],
   "source": [
    "import torch\n",
    "x = torch.rand(5, 3)\n",
    "print(x)"
   ]
  }
 ],
 "metadata": {
  "jupytext": {
   "cell_metadata_filter": "-all",
   "main_language": "python",
   "notebook_metadata_filter": "-all"
  },
  "kernelspec": {
   "display_name": "base",
   "language": "python",
   "name": "python3"
  },
  "language_info": {
   "codemirror_mode": {
    "name": "ipython",
    "version": 3
   },
   "file_extension": ".py",
   "mimetype": "text/x-python",
   "name": "python",
   "nbconvert_exporter": "python",
   "pygments_lexer": "ipython3",
   "version": "3.9.12"
  }
 },
 "nbformat": 4,
 "nbformat_minor": 5
}
