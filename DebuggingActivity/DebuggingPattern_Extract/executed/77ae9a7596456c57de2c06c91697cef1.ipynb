{
 "cells": [
  {
   "cell_type": "code",
   "execution_count": 1,
   "id": "8b268e54",
   "metadata": {
    "execution": {
     "iopub.execute_input": "2023-05-10T01:32:26.458231Z",
     "iopub.status.busy": "2023-05-10T01:32:26.458065Z",
     "iopub.status.idle": "2023-05-10T01:32:26.900217Z",
     "shell.execute_reply": "2023-05-10T01:32:26.899784Z"
    }
   },
   "outputs": [],
   "source": [
    "import os\n",
    "import pandas as pd\n",
    "import numpy as np\n",
    "from google.cloud import bigquery\n",
    "from google.oauth2 import service_account\n",
    "from google.cloud.bigquery import magics\n",
    "BIGQUERY_PROJECT = 'ironhacks-data'\n",
    "bigquery_client = bigquery.Client(project=BIGQUERY_PROJECT)"
   ]
  },
  {
   "cell_type": "code",
   "execution_count": 2,
   "id": "3255348d",
   "metadata": {
    "execution": {
     "iopub.execute_input": "2023-05-10T01:32:26.902383Z",
     "iopub.status.busy": "2023-05-10T01:32:26.902246Z",
     "iopub.status.idle": "2023-05-10T01:32:28.763467Z",
     "shell.execute_reply": "2023-05-10T01:32:28.762886Z"
    }
   },
   "outputs": [
    {
     "data": {
      "text/html": [
       "<div>\n",
       "<style scoped>\n",
       "    .dataframe tbody tr th:only-of-type {\n",
       "        vertical-align: middle;\n",
       "    }\n",
       "\n",
       "    .dataframe tbody tr th {\n",
       "        vertical-align: top;\n",
       "    }\n",
       "\n",
       "    .dataframe thead th {\n",
       "        text-align: right;\n",
       "    }\n",
       "</style>\n",
       "<table border=\"1\" class=\"dataframe\">\n",
       "  <thead>\n",
       "    <tr style=\"text-align: right;\">\n",
       "      <th></th>\n",
       "      <th>uu_id</th>\n",
       "      <th>timeperiod</th>\n",
       "      <th>week_number</th>\n",
       "      <th>countyfips</th>\n",
       "      <th>tract</th>\n",
       "      <th>tract_name</th>\n",
       "      <th>total_claims</th>\n",
       "      <th>edu_8th_or_less</th>\n",
       "      <th>edu_grades_9_11</th>\n",
       "      <th>edu_hs_grad_equiv</th>\n",
       "      <th>...</th>\n",
       "      <th>gender_female</th>\n",
       "      <th>gender_male</th>\n",
       "      <th>gender_na</th>\n",
       "      <th>race_amerindian</th>\n",
       "      <th>race_asian</th>\n",
       "      <th>race_black</th>\n",
       "      <th>race_noanswer</th>\n",
       "      <th>race_hawaiiannative</th>\n",
       "      <th>race_other</th>\n",
       "      <th>race_white</th>\n",
       "    </tr>\n",
       "  </thead>\n",
       "  <tbody>\n",
       "    <tr>\n",
       "      <th>0</th>\n",
       "      <td>f013068de98db1470bd986137a0c6d23</td>\n",
       "      <td>20220416</td>\n",
       "      <td>16</td>\n",
       "      <td>18003</td>\n",
       "      <td>900</td>\n",
       "      <td>Census Tract 9, Allen County, Indiana</td>\n",
       "      <td>22</td>\n",
       "      <td>0</td>\n",
       "      <td>&lt;NA&gt;</td>\n",
       "      <td>14</td>\n",
       "      <td>...</td>\n",
       "      <td>&lt;NA&gt;</td>\n",
       "      <td>&lt;NA&gt;</td>\n",
       "      <td>0</td>\n",
       "      <td>0</td>\n",
       "      <td>0</td>\n",
       "      <td>11</td>\n",
       "      <td>0</td>\n",
       "      <td>0</td>\n",
       "      <td>&lt;NA&gt;</td>\n",
       "      <td>&lt;NA&gt;</td>\n",
       "    </tr>\n",
       "    <tr>\n",
       "      <th>1</th>\n",
       "      <td>21957d5517323845818d87623589e1ba</td>\n",
       "      <td>20220319</td>\n",
       "      <td>12</td>\n",
       "      <td>18089</td>\n",
       "      <td>10400</td>\n",
       "      <td>Census Tract 104, Lake County, Indiana</td>\n",
       "      <td>111</td>\n",
       "      <td>0</td>\n",
       "      <td>&lt;NA&gt;</td>\n",
       "      <td>108</td>\n",
       "      <td>...</td>\n",
       "      <td>76</td>\n",
       "      <td>35</td>\n",
       "      <td>0</td>\n",
       "      <td>0</td>\n",
       "      <td>0</td>\n",
       "      <td>&lt;NA&gt;</td>\n",
       "      <td>&lt;NA&gt;</td>\n",
       "      <td>0</td>\n",
       "      <td>0</td>\n",
       "      <td>0</td>\n",
       "    </tr>\n",
       "    <tr>\n",
       "      <th>2</th>\n",
       "      <td>6a5609f385912113b6f1014b958ed748</td>\n",
       "      <td>20220326</td>\n",
       "      <td>13</td>\n",
       "      <td>18089</td>\n",
       "      <td>11500</td>\n",
       "      <td>Census Tract 115, Lake County, Indiana</td>\n",
       "      <td>39</td>\n",
       "      <td>0</td>\n",
       "      <td>&lt;NA&gt;</td>\n",
       "      <td>&lt;NA&gt;</td>\n",
       "      <td>...</td>\n",
       "      <td>&lt;NA&gt;</td>\n",
       "      <td>&lt;NA&gt;</td>\n",
       "      <td>0</td>\n",
       "      <td>0</td>\n",
       "      <td>0</td>\n",
       "      <td>39</td>\n",
       "      <td>0</td>\n",
       "      <td>0</td>\n",
       "      <td>0</td>\n",
       "      <td>0</td>\n",
       "    </tr>\n",
       "    <tr>\n",
       "      <th>3</th>\n",
       "      <td>46b2882ec4c373527ec33f7bd4f1388d</td>\n",
       "      <td>20220716</td>\n",
       "      <td>29</td>\n",
       "      <td>18089</td>\n",
       "      <td>20700</td>\n",
       "      <td>Census Tract 207, Lake County, Indiana</td>\n",
       "      <td>14</td>\n",
       "      <td>0</td>\n",
       "      <td>&lt;NA&gt;</td>\n",
       "      <td>&lt;NA&gt;</td>\n",
       "      <td>...</td>\n",
       "      <td>&lt;NA&gt;</td>\n",
       "      <td>&lt;NA&gt;</td>\n",
       "      <td>0</td>\n",
       "      <td>0</td>\n",
       "      <td>&lt;NA&gt;</td>\n",
       "      <td>10</td>\n",
       "      <td>0</td>\n",
       "      <td>0</td>\n",
       "      <td>&lt;NA&gt;</td>\n",
       "      <td>&lt;NA&gt;</td>\n",
       "    </tr>\n",
       "    <tr>\n",
       "      <th>4</th>\n",
       "      <td>37495d17e82f7df326bfc2c4c090f7b7</td>\n",
       "      <td>20220409</td>\n",
       "      <td>15</td>\n",
       "      <td>18089</td>\n",
       "      <td>21900</td>\n",
       "      <td>Census Tract 219, Lake County, Indiana</td>\n",
       "      <td>155</td>\n",
       "      <td>0</td>\n",
       "      <td>&lt;NA&gt;</td>\n",
       "      <td>69</td>\n",
       "      <td>...</td>\n",
       "      <td>90</td>\n",
       "      <td>65</td>\n",
       "      <td>0</td>\n",
       "      <td>0</td>\n",
       "      <td>0</td>\n",
       "      <td>135</td>\n",
       "      <td>&lt;NA&gt;</td>\n",
       "      <td>&lt;NA&gt;</td>\n",
       "      <td>&lt;NA&gt;</td>\n",
       "      <td>&lt;NA&gt;</td>\n",
       "    </tr>\n",
       "  </tbody>\n",
       "</table>\n",
       "<p>5 rows × 25 columns</p>\n",
       "</div>"
      ],
      "text/plain": [
       "                              uu_id  timeperiod  week_number  countyfips  \\\n",
       "0  f013068de98db1470bd986137a0c6d23    20220416           16       18003   \n",
       "1  21957d5517323845818d87623589e1ba    20220319           12       18089   \n",
       "2  6a5609f385912113b6f1014b958ed748    20220326           13       18089   \n",
       "3  46b2882ec4c373527ec33f7bd4f1388d    20220716           29       18089   \n",
       "4  37495d17e82f7df326bfc2c4c090f7b7    20220409           15       18089   \n",
       "\n",
       "   tract                              tract_name  total_claims  \\\n",
       "0    900   Census Tract 9, Allen County, Indiana            22   \n",
       "1  10400  Census Tract 104, Lake County, Indiana           111   \n",
       "2  11500  Census Tract 115, Lake County, Indiana            39   \n",
       "3  20700  Census Tract 207, Lake County, Indiana            14   \n",
       "4  21900  Census Tract 219, Lake County, Indiana           155   \n",
       "\n",
       "   edu_8th_or_less  edu_grades_9_11  edu_hs_grad_equiv  ...  gender_female  \\\n",
       "0                0             <NA>                 14  ...           <NA>   \n",
       "1                0             <NA>                108  ...             76   \n",
       "2                0             <NA>               <NA>  ...           <NA>   \n",
       "3                0             <NA>               <NA>  ...           <NA>   \n",
       "4                0             <NA>                 69  ...             90   \n",
       "\n",
       "   gender_male gender_na race_amerindian race_asian  race_black  \\\n",
       "0         <NA>         0               0          0          11   \n",
       "1           35         0               0          0        <NA>   \n",
       "2         <NA>         0               0          0          39   \n",
       "3         <NA>         0               0       <NA>          10   \n",
       "4           65         0               0          0         135   \n",
       "\n",
       "   race_noanswer  race_hawaiiannative  race_other  race_white  \n",
       "0              0                    0        <NA>        <NA>  \n",
       "1           <NA>                    0           0           0  \n",
       "2              0                    0           0           0  \n",
       "3              0                    0        <NA>        <NA>  \n",
       "4           <NA>                 <NA>        <NA>        <NA>  \n",
       "\n",
       "[5 rows x 25 columns]"
      ]
     },
     "execution_count": 2,
     "metadata": {},
     "output_type": "execute_result"
    }
   ],
   "source": [
    "query = \"\"\"\n",
    "SELECT *\n",
    "FROM `ironhacks-data.ironhacks_competition.unemployment_data`\n",
    "\"\"\"\n",
    "# QUERY THE DATA ONCE\n",
    "query_job = bigquery_client.query(query)\n",
    "unemp_data = query_job.to_dataframe()\n",
    "unemp_data.head(5)"
   ]
  },
  {
   "cell_type": "code",
   "execution_count": 3,
   "id": "13646b9e",
   "metadata": {
    "execution": {
     "iopub.execute_input": "2023-05-10T01:32:28.766200Z",
     "iopub.status.busy": "2023-05-10T01:32:28.765984Z",
     "iopub.status.idle": "2023-05-10T01:32:30.206341Z",
     "shell.execute_reply": "2023-05-10T01:32:30.205346Z"
    }
   },
   "outputs": [
    {
     "data": {
      "text/html": [
       "<div>\n",
       "<style scoped>\n",
       "    .dataframe tbody tr th:only-of-type {\n",
       "        vertical-align: middle;\n",
       "    }\n",
       "\n",
       "    .dataframe tbody tr th {\n",
       "        vertical-align: top;\n",
       "    }\n",
       "\n",
       "    .dataframe thead th {\n",
       "        text-align: right;\n",
       "    }\n",
       "</style>\n",
       "<table border=\"1\" class=\"dataframe\">\n",
       "  <thead>\n",
       "    <tr style=\"text-align: right;\">\n",
       "      <th></th>\n",
       "      <th>uu_id</th>\n",
       "      <th>countyfips</th>\n",
       "      <th>tract</th>\n",
       "      <th>tract_name</th>\n",
       "      <th>average_wage</th>\n",
       "    </tr>\n",
       "  </thead>\n",
       "  <tbody>\n",
       "    <tr>\n",
       "      <th>0</th>\n",
       "      <td>585f8731c2255d6b3f817a31180848b9</td>\n",
       "      <td>18177</td>\n",
       "      <td>200</td>\n",
       "      <td>Census Tract 2, Wayne County, Indiana</td>\n",
       "      <td>6612.000000</td>\n",
       "    </tr>\n",
       "    <tr>\n",
       "      <th>1</th>\n",
       "      <td>8c9d2aa90948679972a9382aadcc6001</td>\n",
       "      <td>18177</td>\n",
       "      <td>900</td>\n",
       "      <td>Census Tract 9, Wayne County, Indiana</td>\n",
       "      <td>9883.250000</td>\n",
       "    </tr>\n",
       "    <tr>\n",
       "      <th>2</th>\n",
       "      <td>0f3d45341a5b113b813ffb7be7f58bab</td>\n",
       "      <td>18183</td>\n",
       "      <td>50300</td>\n",
       "      <td>Census Tract 503, Whitley County, Indiana</td>\n",
       "      <td>13992.250000</td>\n",
       "    </tr>\n",
       "    <tr>\n",
       "      <th>3</th>\n",
       "      <td>fb55464f8e34af6d750d06968bf719b8</td>\n",
       "      <td>18183</td>\n",
       "      <td>50400</td>\n",
       "      <td>Census Tract 504, Whitley County, Indiana</td>\n",
       "      <td>13613.500000</td>\n",
       "    </tr>\n",
       "    <tr>\n",
       "      <th>4</th>\n",
       "      <td>983badfd7b568728e39a2344a9006078</td>\n",
       "      <td>18001</td>\n",
       "      <td>30200</td>\n",
       "      <td>Census Tract 302, Adams County, Indiana</td>\n",
       "      <td>11816.666667</td>\n",
       "    </tr>\n",
       "  </tbody>\n",
       "</table>\n",
       "</div>"
      ],
      "text/plain": [
       "                              uu_id  countyfips  tract  \\\n",
       "0  585f8731c2255d6b3f817a31180848b9       18177    200   \n",
       "1  8c9d2aa90948679972a9382aadcc6001       18177    900   \n",
       "2  0f3d45341a5b113b813ffb7be7f58bab       18183  50300   \n",
       "3  fb55464f8e34af6d750d06968bf719b8       18183  50400   \n",
       "4  983badfd7b568728e39a2344a9006078       18001  30200   \n",
       "\n",
       "                                  tract_name  average_wage  \n",
       "0      Census Tract 2, Wayne County, Indiana   6612.000000  \n",
       "1      Census Tract 9, Wayne County, Indiana   9883.250000  \n",
       "2  Census Tract 503, Whitley County, Indiana  13992.250000  \n",
       "3  Census Tract 504, Whitley County, Indiana  13613.500000  \n",
       "4    Census Tract 302, Adams County, Indiana  11816.666667  "
      ]
     },
     "execution_count": 3,
     "metadata": {},
     "output_type": "execute_result"
    }
   ],
   "source": [
    "query = \"\"\"\n",
    "SELECT *\n",
    "FROM `ironhacks-data.ironhacks_competition.wage_data`\n",
    "\"\"\"\n",
    "# QUERY THE DATA ONCE\n",
    "query_job = bigquery_client.query(query)\n",
    "wage_data = query_job.to_dataframe()\n",
    "wage_data.head()"
   ]
  },
  {
   "cell_type": "code",
   "execution_count": 4,
   "id": "e88bcda4",
   "metadata": {
    "execution": {
     "iopub.execute_input": "2023-05-10T01:32:30.211646Z",
     "iopub.status.busy": "2023-05-10T01:32:30.211178Z",
     "iopub.status.idle": "2023-05-10T01:32:31.958532Z",
     "shell.execute_reply": "2023-05-10T01:32:31.957872Z"
    }
   },
   "outputs": [
    {
     "data": {
      "text/html": [
       "<div>\n",
       "<style scoped>\n",
       "    .dataframe tbody tr th:only-of-type {\n",
       "        vertical-align: middle;\n",
       "    }\n",
       "\n",
       "    .dataframe tbody tr th {\n",
       "        vertical-align: top;\n",
       "    }\n",
       "\n",
       "    .dataframe thead th {\n",
       "        text-align: right;\n",
       "    }\n",
       "</style>\n",
       "<table border=\"1\" class=\"dataframe\">\n",
       "  <thead>\n",
       "    <tr style=\"text-align: right;\">\n",
       "      <th></th>\n",
       "      <th>uu_id</th>\n",
       "      <th>week_number</th>\n",
       "    </tr>\n",
       "  </thead>\n",
       "  <tbody>\n",
       "    <tr>\n",
       "      <th>0</th>\n",
       "      <td>5bf51fc2e162d6faf9e3cf79e4198378</td>\n",
       "      <td>44</td>\n",
       "    </tr>\n",
       "    <tr>\n",
       "      <th>1</th>\n",
       "      <td>420b44cc7e3f55d738df565421e59941</td>\n",
       "      <td>44</td>\n",
       "    </tr>\n",
       "    <tr>\n",
       "      <th>2</th>\n",
       "      <td>e39c66ecceec76ee8f9f811fa4a2d246</td>\n",
       "      <td>44</td>\n",
       "    </tr>\n",
       "    <tr>\n",
       "      <th>3</th>\n",
       "      <td>a90462cd11ae4e43144239bf7c4828a4</td>\n",
       "      <td>44</td>\n",
       "    </tr>\n",
       "    <tr>\n",
       "      <th>4</th>\n",
       "      <td>8b20a6749088c7ff1237983076ebfeaa</td>\n",
       "      <td>44</td>\n",
       "    </tr>\n",
       "  </tbody>\n",
       "</table>\n",
       "</div>"
      ],
      "text/plain": [
       "                              uu_id  week_number\n",
       "0  5bf51fc2e162d6faf9e3cf79e4198378           44\n",
       "1  420b44cc7e3f55d738df565421e59941           44\n",
       "2  e39c66ecceec76ee8f9f811fa4a2d246           44\n",
       "3  a90462cd11ae4e43144239bf7c4828a4           44\n",
       "4  8b20a6749088c7ff1237983076ebfeaa           44"
      ]
     },
     "execution_count": 4,
     "metadata": {},
     "output_type": "execute_result"
    }
   ],
   "source": [
    "query = \"\"\"\n",
    "SELECT *\n",
    "FROM `ironhacks-data.ironhacks_competition.prediction_list`\n",
    "\"\"\"\n",
    "# QUERY THE DATA ONCE\n",
    "query_job = bigquery_client.query(query)\n",
    "pred_data = query_job.to_dataframe()\n",
    "pred_data.head()"
   ]
  },
  {
   "cell_type": "code",
   "execution_count": 5,
   "id": "ee61c648",
   "metadata": {
    "execution": {
     "iopub.execute_input": "2023-05-10T01:32:31.962547Z",
     "iopub.status.busy": "2023-05-10T01:32:31.962185Z",
     "iopub.status.idle": "2023-05-10T01:32:31.989409Z",
     "shell.execute_reply": "2023-05-10T01:32:31.988824Z"
    }
   },
   "outputs": [
    {
     "name": "stdout",
     "output_type": "stream",
     "text": [
      "<class 'pandas.core.frame.DataFrame'>\n",
      "RangeIndex: 16833 entries, 0 to 16832\n",
      "Data columns (total 25 columns):\n",
      " #   Column                  Non-Null Count  Dtype \n",
      "---  ------                  --------------  ----- \n",
      " 0   uu_id                   16833 non-null  object\n",
      " 1   timeperiod              16833 non-null  Int64 \n",
      " 2   week_number             16833 non-null  Int64 \n",
      " 3   countyfips              16833 non-null  Int64 \n",
      " 4   tract                   16833 non-null  Int64 \n",
      " 5   tract_name              16833 non-null  object\n",
      " 6   total_claims            16833 non-null  Int64 \n",
      " 7   edu_8th_or_less         13748 non-null  Int64 \n",
      " 8   edu_grades_9_11         5942 non-null   Int64 \n",
      " 9   edu_hs_grad_equiv       6036 non-null   Int64 \n",
      " 10  edu_post_hs             3246 non-null   Int64 \n",
      " 11  edu_unknown             12031 non-null  Int64 \n",
      " 12  top_category_employer1  16833 non-null  object\n",
      " 13  top_category_employer2  16833 non-null  object\n",
      " 14  top_category_employer3  16833 non-null  object\n",
      " 15  gender_female           3835 non-null   Int64 \n",
      " 16  gender_male             3931 non-null   Int64 \n",
      " 17  gender_na               15868 non-null  Int64 \n",
      " 18  race_amerindian         15285 non-null  Int64 \n",
      " 19  race_asian              14939 non-null  Int64 \n",
      " 20  race_black              7124 non-null   Int64 \n",
      " 21  race_noanswer           10089 non-null  Int64 \n",
      " 22  race_hawaiiannative     16426 non-null  Int64 \n",
      " 23  race_other              8075 non-null   Int64 \n",
      " 24  race_white              6392 non-null   Int64 \n",
      "dtypes: Int64(20), object(5)\n",
      "memory usage: 3.5+ MB\n"
     ]
    }
   ],
   "source": [
    "unemp_data.info()"
   ]
  },
  {
   "cell_type": "code",
   "execution_count": 6,
   "id": "5dab1013",
   "metadata": {
    "execution": {
     "iopub.execute_input": "2023-05-10T01:32:31.992712Z",
     "iopub.status.busy": "2023-05-10T01:32:31.992416Z",
     "iopub.status.idle": "2023-05-10T01:32:31.999525Z",
     "shell.execute_reply": "2023-05-10T01:32:31.999040Z"
    }
   },
   "outputs": [
    {
     "name": "stdout",
     "output_type": "stream",
     "text": [
      "<class 'pandas.core.frame.DataFrame'>\n",
      "RangeIndex: 525 entries, 0 to 524\n",
      "Data columns (total 5 columns):\n",
      " #   Column        Non-Null Count  Dtype  \n",
      "---  ------        --------------  -----  \n",
      " 0   uu_id         525 non-null    object \n",
      " 1   countyfips    525 non-null    Int64  \n",
      " 2   tract         525 non-null    Int64  \n",
      " 3   tract_name    525 non-null    object \n",
      " 4   average_wage  525 non-null    float64\n",
      "dtypes: Int64(2), float64(1), object(2)\n",
      "memory usage: 21.7+ KB\n"
     ]
    }
   ],
   "source": [
    "wage_data.info()"
   ]
  },
  {
   "cell_type": "code",
   "execution_count": 7,
   "id": "fb829823",
   "metadata": {
    "execution": {
     "iopub.execute_input": "2023-05-10T01:32:32.002136Z",
     "iopub.status.busy": "2023-05-10T01:32:32.001925Z",
     "iopub.status.idle": "2023-05-10T01:32:32.015993Z",
     "shell.execute_reply": "2023-05-10T01:32:32.015612Z"
    }
   },
   "outputs": [
    {
     "data": {
      "text/plain": [
       "uu_id                         0\n",
       "timeperiod                    0\n",
       "week_number                   0\n",
       "countyfips                    0\n",
       "tract                         0\n",
       "tract_name                    0\n",
       "total_claims                  0\n",
       "edu_8th_or_less            3085\n",
       "edu_grades_9_11           10891\n",
       "edu_hs_grad_equiv         10797\n",
       "edu_post_hs               13587\n",
       "edu_unknown                4802\n",
       "top_category_employer1        0\n",
       "top_category_employer2        0\n",
       "top_category_employer3        0\n",
       "gender_female             12998\n",
       "gender_male               12902\n",
       "gender_na                   965\n",
       "race_amerindian            1548\n",
       "race_asian                 1894\n",
       "race_black                 9709\n",
       "race_noanswer              6744\n",
       "race_hawaiiannative         407\n",
       "race_other                 8758\n",
       "race_white                10441\n",
       "dtype: int64"
      ]
     },
     "execution_count": 7,
     "metadata": {},
     "output_type": "execute_result"
    }
   ],
   "source": [
    "unemp_data.isna().sum()"
   ]
  },
  {
   "cell_type": "code",
   "execution_count": 8,
   "id": "fb425b9b",
   "metadata": {
    "execution": {
     "iopub.execute_input": "2023-05-10T01:32:32.018007Z",
     "iopub.status.busy": "2023-05-10T01:32:32.017838Z",
     "iopub.status.idle": "2023-05-10T01:32:32.021373Z",
     "shell.execute_reply": "2023-05-10T01:32:32.021041Z"
    }
   },
   "outputs": [
    {
     "data": {
      "text/plain": [
       "{'11',\n",
       " '21',\n",
       " '22',\n",
       " '23',\n",
       " '31-33',\n",
       " '42',\n",
       " '44-45',\n",
       " '48-49',\n",
       " '51',\n",
       " '52',\n",
       " '53',\n",
       " '54',\n",
       " '55',\n",
       " '56',\n",
       " '61',\n",
       " '62',\n",
       " '71',\n",
       " '72',\n",
       " '81',\n",
       " '92',\n",
       " '99'}"
      ]
     },
     "execution_count": 8,
     "metadata": {},
     "output_type": "execute_result"
    }
   ],
   "source": [
    "set1 = set(list(unemp_data['top_category_employer1'].unique()))\n",
    "set1"
   ]
  },
  {
   "cell_type": "code",
   "execution_count": 9,
   "id": "0249d099",
   "metadata": {
    "execution": {
     "iopub.execute_input": "2023-05-10T01:32:32.023021Z",
     "iopub.status.busy": "2023-05-10T01:32:32.022917Z",
     "iopub.status.idle": "2023-05-10T01:32:32.026102Z",
     "shell.execute_reply": "2023-05-10T01:32:32.025770Z"
    }
   },
   "outputs": [
    {
     "data": {
      "text/plain": [
       "{'11',\n",
       " '21',\n",
       " '22',\n",
       " '23',\n",
       " '31-33',\n",
       " '42',\n",
       " '44-45',\n",
       " '48-49',\n",
       " '51',\n",
       " '52',\n",
       " '53',\n",
       " '54',\n",
       " '55',\n",
       " '56',\n",
       " '61',\n",
       " '62',\n",
       " '71',\n",
       " '72',\n",
       " '81',\n",
       " '92',\n",
       " '99',\n",
       " 'N/A'}"
      ]
     },
     "execution_count": 9,
     "metadata": {},
     "output_type": "execute_result"
    }
   ],
   "source": [
    "set2 = set(list(unemp_data['top_category_employer2'].unique()))\n",
    "set2"
   ]
  },
  {
   "cell_type": "code",
   "execution_count": 10,
   "id": "4f416c5b",
   "metadata": {
    "execution": {
     "iopub.execute_input": "2023-05-10T01:32:32.028138Z",
     "iopub.status.busy": "2023-05-10T01:32:32.027899Z",
     "iopub.status.idle": "2023-05-10T01:32:32.031364Z",
     "shell.execute_reply": "2023-05-10T01:32:32.031044Z"
    }
   },
   "outputs": [
    {
     "data": {
      "text/plain": [
       "{'11',\n",
       " '21',\n",
       " '22',\n",
       " '23',\n",
       " '31-33',\n",
       " '42',\n",
       " '44-45',\n",
       " '48-49',\n",
       " '51',\n",
       " '52',\n",
       " '53',\n",
       " '54',\n",
       " '55',\n",
       " '56',\n",
       " '61',\n",
       " '62',\n",
       " '71',\n",
       " '72',\n",
       " '81',\n",
       " '92',\n",
       " '99',\n",
       " 'N/A'}"
      ]
     },
     "execution_count": 10,
     "metadata": {},
     "output_type": "execute_result"
    }
   ],
   "source": [
    "set3 = set(list(unemp_data['top_category_employer3'].unique()))\n",
    "set3"
   ]
  },
  {
   "cell_type": "code",
   "execution_count": 11,
   "id": "7a08a2f6",
   "metadata": {
    "execution": {
     "iopub.execute_input": "2023-05-10T01:32:32.032972Z",
     "iopub.status.busy": "2023-05-10T01:32:32.032873Z",
     "iopub.status.idle": "2023-05-10T01:32:32.036970Z",
     "shell.execute_reply": "2023-05-10T01:32:32.036607Z"
    }
   },
   "outputs": [],
   "source": [
    "unemp_data['top_category_employer2'] = unemp_data['top_category_employer2'].replace('N/A',np.NaN)\n",
    "unemp_data['top_category_employer3'] = unemp_data['top_category_employer3'].replace('N/A',np.NaN)"
   ]
  },
  {
   "cell_type": "code",
   "execution_count": 12,
   "id": "42361730",
   "metadata": {
    "execution": {
     "iopub.execute_input": "2023-05-10T01:32:32.038645Z",
     "iopub.status.busy": "2023-05-10T01:32:32.038550Z",
     "iopub.status.idle": "2023-05-10T01:32:32.041310Z",
     "shell.execute_reply": "2023-05-10T01:32:32.041041Z"
    }
   },
   "outputs": [
    {
     "data": {
      "text/plain": [
       "<IntegerArray>\n",
       "[18003, 18089, 18067, 18039, 18095, 18033, 18035, 18103, 18065, 18173, 18097,\n",
       " 18091, 18109, 18149, 18099, 18019, 18141, 18157, 18127, 18163, 18093, 18087,\n",
       " 18085, 18081, 18057, 18063, 18053, 18167, 18177, 18021, 18105, 18001, 18043,\n",
       " 18017, 18083, 18159, 18011, 18143, 18113, 18073, 18169, 18183, 18049, 18133,\n",
       " 18059, 18153, 18061, 18023, 18041, 18015, 18135, 18047, 18165, 18077, 18009,\n",
       " 18005, 18069, 18071, 18079, 18151]\n",
       "Length: 60, dtype: Int64"
      ]
     },
     "execution_count": 12,
     "metadata": {},
     "output_type": "execute_result"
    }
   ],
   "source": [
    "unemp_data['countyfips'].unique()"
   ]
  },
  {
   "cell_type": "code",
   "execution_count": 13,
   "id": "e9008f71",
   "metadata": {
    "execution": {
     "iopub.execute_input": "2023-05-10T01:32:32.042795Z",
     "iopub.status.busy": "2023-05-10T01:32:32.042680Z",
     "iopub.status.idle": "2023-05-10T01:32:32.052584Z",
     "shell.execute_reply": "2023-05-10T01:32:32.052301Z"
    }
   },
   "outputs": [
    {
     "data": {
      "text/plain": [
       "uu_id                      0.000000\n",
       "timeperiod                 0.000000\n",
       "week_number                0.000000\n",
       "countyfips                 0.000000\n",
       "tract                      0.000000\n",
       "tract_name                 0.000000\n",
       "total_claims               0.000000\n",
       "edu_8th_or_less           18.327096\n",
       "edu_grades_9_11           64.700291\n",
       "edu_hs_grad_equiv         64.141864\n",
       "edu_post_hs               80.716450\n",
       "edu_unknown               28.527298\n",
       "top_category_employer1     0.000000\n",
       "top_category_employer2     0.291095\n",
       "top_category_employer3     1.627755\n",
       "gender_female             77.217371\n",
       "gender_male               76.647062\n",
       "gender_na                  5.732787\n",
       "race_amerindian            9.196222\n",
       "race_asian                11.251708\n",
       "race_black                57.678370\n",
       "race_noanswer             40.064160\n",
       "race_hawaiiannative        2.417870\n",
       "race_other                52.028753\n",
       "race_white                62.026971\n",
       "dtype: float64"
      ]
     },
     "execution_count": 13,
     "metadata": {},
     "output_type": "execute_result"
    }
   ],
   "source": [
    "(unemp_data.isna().sum()/len(unemp_data))*100"
   ]
  },
  {
   "cell_type": "code",
   "execution_count": 14,
   "id": "fb562433",
   "metadata": {
    "execution": {
     "iopub.execute_input": "2023-05-10T01:32:32.054092Z",
     "iopub.status.busy": "2023-05-10T01:32:32.053995Z",
     "iopub.status.idle": "2023-05-10T01:32:32.064041Z",
     "shell.execute_reply": "2023-05-10T01:32:32.063767Z"
    }
   },
   "outputs": [
    {
     "data": {
      "text/plain": [
       "uu_id                      0.000000\n",
       "timeperiod                 0.000000\n",
       "week_number                0.000000\n",
       "countyfips                 0.000000\n",
       "tract                      0.000000\n",
       "tract_name                 0.000000\n",
       "total_claims               0.000000\n",
       "edu_8th_or_less           18.327096\n",
       "edu_grades_9_11           64.700291\n",
       "edu_hs_grad_equiv         64.141864\n",
       "edu_post_hs               80.716450\n",
       "edu_unknown               28.527298\n",
       "top_category_employer1     0.000000\n",
       "top_category_employer2     0.291095\n",
       "top_category_employer3     1.627755\n",
       "gender_female             77.217371\n",
       "gender_male               76.647062\n",
       "gender_na                  5.732787\n",
       "race_amerindian            9.196222\n",
       "race_asian                11.251708\n",
       "race_black                57.678370\n",
       "race_noanswer             40.064160\n",
       "race_hawaiiannative        2.417870\n",
       "race_other                52.028753\n",
       "race_white                62.026971\n",
       "dtype: float64"
      ]
     },
     "execution_count": 14,
     "metadata": {},
     "output_type": "execute_result"
    }
   ],
   "source": [
    "(unemp_data.isna().sum()/len(unemp_data))*100"
   ]
  },
  {
   "cell_type": "code",
   "execution_count": 15,
   "id": "528cf0f7",
   "metadata": {
    "execution": {
     "iopub.execute_input": "2023-05-10T01:32:32.065589Z",
     "iopub.status.busy": "2023-05-10T01:32:32.065497Z",
     "iopub.status.idle": "2023-05-10T01:32:32.091269Z",
     "shell.execute_reply": "2023-05-10T01:32:32.090977Z"
    }
   },
   "outputs": [],
   "source": [
    "unemp_data['edu_8th_or_less'] = unemp_data.groupby('countyfips')['edu_8th_or_less'].transform(lambda x: x.fillna(int(x.mean())))\n",
    "unemp_data['edu_grades_9_11'] = unemp_data.groupby('countyfips')['edu_grades_9_11'].transform(lambda x: x.fillna(int(x.mean())))\n",
    "unemp_data['edu_hs_grad_equiv'] = unemp_data.groupby('countyfips')['edu_hs_grad_equiv'].transform(lambda x: x.fillna(int(x.mean())))"
   ]
  },
  {
   "cell_type": "code",
   "execution_count": 16,
   "id": "bbe9db55",
   "metadata": {
    "execution": {
     "iopub.execute_input": "2023-05-10T01:32:32.093007Z",
     "iopub.status.busy": "2023-05-10T01:32:32.092898Z",
     "iopub.status.idle": "2023-05-10T01:32:32.138575Z",
     "shell.execute_reply": "2023-05-10T01:32:32.138275Z"
    }
   },
   "outputs": [],
   "source": [
    "unemp_data['race_asian'] = unemp_data.groupby('countyfips')['race_asian'].transform(lambda x: x.fillna(int(x.mean())))\n",
    "unemp_data['race_amerindian'] = unemp_data.groupby('countyfips')['race_amerindian'].transform(lambda x: x.fillna(int(x.mean())))\n",
    "unemp_data['race_black'] = unemp_data.groupby('countyfips')['race_black'].transform(lambda x: x.fillna(int(x.mean())))\n",
    "unemp_data['race_hawaiiannative'] = unemp_data.groupby('countyfips')['race_hawaiiannative'].transform(lambda x: x.fillna(int(x.mean())))\n",
    "unemp_data['race_other'] = unemp_data.groupby('countyfips')['race_other'].transform(lambda x: x.fillna(int(x.mean())))\n",
    "unemp_data['race_white'] = unemp_data.groupby('countyfips')['race_white'].transform(lambda x: x.fillna(int(x.mean())))"
   ]
  },
  {
   "cell_type": "code",
   "execution_count": 17,
   "id": "0ad4c657",
   "metadata": {
    "execution": {
     "iopub.execute_input": "2023-05-10T01:32:32.140269Z",
     "iopub.status.busy": "2023-05-10T01:32:32.140168Z",
     "iopub.status.idle": "2023-05-10T01:32:32.143164Z",
     "shell.execute_reply": "2023-05-10T01:32:32.142812Z"
    }
   },
   "outputs": [],
   "source": [
    "unemp_data['race_noanswer'] = unemp_data['race_noanswer'].fillna(0)\n",
    "unemp_data['gender_na'] = unemp_data['gender_na'].fillna(0)\n",
    "unemp_data['edu_unknown'] = unemp_data['edu_unknown'].fillna(0)"
   ]
  },
  {
   "cell_type": "code",
   "execution_count": 18,
   "id": "56fc443a",
   "metadata": {
    "execution": {
     "iopub.execute_input": "2023-05-10T01:32:32.145193Z",
     "iopub.status.busy": "2023-05-10T01:32:32.145035Z",
     "iopub.status.idle": "2023-05-10T01:32:32.172453Z",
     "shell.execute_reply": "2023-05-10T01:32:32.172157Z"
    }
   },
   "outputs": [],
   "source": [
    "unemp_data['top_category_employer2'] = unemp_data.groupby('countyfips')['top_category_employer2'].transform(lambda x: x.fillna(x.mode()[0] if not x.mode().empty else 'unknown'))\n",
    "unemp_data['top_category_employer3'] = unemp_data.groupby('countyfips')['top_category_employer3'].transform(lambda x: x.fillna(x.mode()[0] if not x.mode().empty else 'unknown'))"
   ]
  },
  {
   "cell_type": "code",
   "execution_count": 19,
   "id": "0e357ace",
   "metadata": {
    "execution": {
     "iopub.execute_input": "2023-05-10T01:32:32.174165Z",
     "iopub.status.busy": "2023-05-10T01:32:32.174071Z",
     "iopub.status.idle": "2023-05-10T01:32:32.177259Z",
     "shell.execute_reply": "2023-05-10T01:32:32.176858Z"
    }
   },
   "outputs": [],
   "source": [
    "unemp_data['gender_male'] = unemp_data['gender_male'].astype(float)\n",
    "unemp_data['gender_female'] = unemp_data['gender_female'].astype(float)\n",
    "unemp_data['edu_post_hs'] = unemp_data['edu_post_hs'].astype(float)"
   ]
  },
  {
   "cell_type": "code",
   "execution_count": 20,
   "id": "95bc7746",
   "metadata": {
    "execution": {
     "iopub.execute_input": "2023-05-10T01:32:32.179193Z",
     "iopub.status.busy": "2023-05-10T01:32:32.179072Z",
     "iopub.status.idle": "2023-05-10T01:32:32.183531Z",
     "shell.execute_reply": "2023-05-10T01:32:32.183265Z"
    }
   },
   "outputs": [],
   "source": [
    "unemp_data['gender_male'] = unemp_data['gender_male'].fillna(unemp_data.groupby('countyfips')['gender_male'].transform('mean'))\n",
    "unemp_data['gender_female'] = unemp_data['gender_female'].fillna(unemp_data.groupby('countyfips')['gender_female'].transform('mean'))\n",
    "unemp_data['edu_post_hs'] = unemp_data['edu_post_hs'].fillna(unemp_data.groupby('countyfips')['edu_post_hs'].transform('mean'))"
   ]
  },
  {
   "cell_type": "code",
   "execution_count": 21,
   "id": "938c5c6b",
   "metadata": {
    "execution": {
     "iopub.execute_input": "2023-05-10T01:32:32.185023Z",
     "iopub.status.busy": "2023-05-10T01:32:32.184935Z",
     "iopub.status.idle": "2023-05-10T01:32:32.193731Z",
     "shell.execute_reply": "2023-05-10T01:32:32.193298Z"
    }
   },
   "outputs": [
    {
     "data": {
      "text/plain": [
       "uu_id                       0\n",
       "timeperiod                  0\n",
       "week_number                 0\n",
       "countyfips                  0\n",
       "tract                       0\n",
       "tract_name                  0\n",
       "total_claims                0\n",
       "edu_8th_or_less             0\n",
       "edu_grades_9_11             0\n",
       "edu_hs_grad_equiv           0\n",
       "edu_post_hs               124\n",
       "edu_unknown                 0\n",
       "top_category_employer1      0\n",
       "top_category_employer2      0\n",
       "top_category_employer3      0\n",
       "gender_female             113\n",
       "gender_male               113\n",
       "gender_na                   0\n",
       "race_amerindian             0\n",
       "race_asian                  0\n",
       "race_black                  0\n",
       "race_noanswer               0\n",
       "race_hawaiiannative         0\n",
       "race_other                  0\n",
       "race_white                  0\n",
       "dtype: int64"
      ]
     },
     "execution_count": 21,
     "metadata": {},
     "output_type": "execute_result"
    }
   ],
   "source": [
    "unemp_data.isna().sum()"
   ]
  },
  {
   "cell_type": "code",
   "execution_count": 22,
   "id": "b67bc4bf",
   "metadata": {
    "execution": {
     "iopub.execute_input": "2023-05-10T01:32:32.196292Z",
     "iopub.status.busy": "2023-05-10T01:32:32.196071Z",
     "iopub.status.idle": "2023-05-10T01:32:32.208314Z",
     "shell.execute_reply": "2023-05-10T01:32:32.208026Z"
    }
   },
   "outputs": [
    {
     "data": {
      "text/html": [
       "<div>\n",
       "<style scoped>\n",
       "    .dataframe tbody tr th:only-of-type {\n",
       "        vertical-align: middle;\n",
       "    }\n",
       "\n",
       "    .dataframe tbody tr th {\n",
       "        vertical-align: top;\n",
       "    }\n",
       "\n",
       "    .dataframe thead th {\n",
       "        text-align: right;\n",
       "    }\n",
       "</style>\n",
       "<table border=\"1\" class=\"dataframe\">\n",
       "  <thead>\n",
       "    <tr style=\"text-align: right;\">\n",
       "      <th></th>\n",
       "      <th>uu_id</th>\n",
       "      <th>timeperiod</th>\n",
       "      <th>week_number</th>\n",
       "      <th>countyfips</th>\n",
       "      <th>tract</th>\n",
       "      <th>tract_name</th>\n",
       "      <th>total_claims</th>\n",
       "      <th>edu_8th_or_less</th>\n",
       "      <th>edu_grades_9_11</th>\n",
       "      <th>edu_hs_grad_equiv</th>\n",
       "      <th>...</th>\n",
       "      <th>gender_female</th>\n",
       "      <th>gender_male</th>\n",
       "      <th>gender_na</th>\n",
       "      <th>race_amerindian</th>\n",
       "      <th>race_asian</th>\n",
       "      <th>race_black</th>\n",
       "      <th>race_noanswer</th>\n",
       "      <th>race_hawaiiannative</th>\n",
       "      <th>race_other</th>\n",
       "      <th>race_white</th>\n",
       "    </tr>\n",
       "  </thead>\n",
       "  <tbody>\n",
       "    <tr>\n",
       "      <th>540</th>\n",
       "      <td>420b44cc7e3f55d738df565421e59941</td>\n",
       "      <td>20220108</td>\n",
       "      <td>2</td>\n",
       "      <td>18043</td>\n",
       "      <td>70400</td>\n",
       "      <td>Census Tract 704, Floyd County, Indiana</td>\n",
       "      <td>15</td>\n",
       "      <td>0</td>\n",
       "      <td>3</td>\n",
       "      <td>11</td>\n",
       "      <td>...</td>\n",
       "      <td>NaN</td>\n",
       "      <td>NaN</td>\n",
       "      <td>0</td>\n",
       "      <td>0</td>\n",
       "      <td>0</td>\n",
       "      <td>0</td>\n",
       "      <td>0</td>\n",
       "      <td>0</td>\n",
       "      <td>0</td>\n",
       "      <td>12</td>\n",
       "    </tr>\n",
       "    <tr>\n",
       "      <th>541</th>\n",
       "      <td>420b44cc7e3f55d738df565421e59941</td>\n",
       "      <td>20220115</td>\n",
       "      <td>3</td>\n",
       "      <td>18043</td>\n",
       "      <td>70400</td>\n",
       "      <td>Census Tract 704, Floyd County, Indiana</td>\n",
       "      <td>11</td>\n",
       "      <td>0</td>\n",
       "      <td>3</td>\n",
       "      <td>11</td>\n",
       "      <td>...</td>\n",
       "      <td>NaN</td>\n",
       "      <td>NaN</td>\n",
       "      <td>0</td>\n",
       "      <td>0</td>\n",
       "      <td>0</td>\n",
       "      <td>0</td>\n",
       "      <td>0</td>\n",
       "      <td>0</td>\n",
       "      <td>0</td>\n",
       "      <td>13</td>\n",
       "    </tr>\n",
       "    <tr>\n",
       "      <th>558</th>\n",
       "      <td>d7a8af51ca8eb58392ab833bc0ae516b</td>\n",
       "      <td>20220312</td>\n",
       "      <td>11</td>\n",
       "      <td>18083</td>\n",
       "      <td>955200</td>\n",
       "      <td>Census Tract 9552, Knox County, Indiana</td>\n",
       "      <td>16</td>\n",
       "      <td>0</td>\n",
       "      <td>0</td>\n",
       "      <td>11</td>\n",
       "      <td>...</td>\n",
       "      <td>NaN</td>\n",
       "      <td>NaN</td>\n",
       "      <td>0</td>\n",
       "      <td>0</td>\n",
       "      <td>0</td>\n",
       "      <td>0</td>\n",
       "      <td>0</td>\n",
       "      <td>0</td>\n",
       "      <td>0</td>\n",
       "      <td>16</td>\n",
       "    </tr>\n",
       "    <tr>\n",
       "      <th>559</th>\n",
       "      <td>d7a8af51ca8eb58392ab833bc0ae516b</td>\n",
       "      <td>20220212</td>\n",
       "      <td>7</td>\n",
       "      <td>18083</td>\n",
       "      <td>955200</td>\n",
       "      <td>Census Tract 9552, Knox County, Indiana</td>\n",
       "      <td>15</td>\n",
       "      <td>0</td>\n",
       "      <td>0</td>\n",
       "      <td>11</td>\n",
       "      <td>...</td>\n",
       "      <td>NaN</td>\n",
       "      <td>NaN</td>\n",
       "      <td>0</td>\n",
       "      <td>0</td>\n",
       "      <td>0</td>\n",
       "      <td>0</td>\n",
       "      <td>0</td>\n",
       "      <td>0</td>\n",
       "      <td>0</td>\n",
       "      <td>15</td>\n",
       "    </tr>\n",
       "    <tr>\n",
       "      <th>766</th>\n",
       "      <td>4a6ae3b5be1b9b7c10c177e1b9fded82</td>\n",
       "      <td>20220205</td>\n",
       "      <td>6</td>\n",
       "      <td>18169</td>\n",
       "      <td>102800</td>\n",
       "      <td>Census Tract 1028, Wabash County, Indiana</td>\n",
       "      <td>16</td>\n",
       "      <td>0</td>\n",
       "      <td>0</td>\n",
       "      <td>11</td>\n",
       "      <td>...</td>\n",
       "      <td>NaN</td>\n",
       "      <td>NaN</td>\n",
       "      <td>0</td>\n",
       "      <td>0</td>\n",
       "      <td>0</td>\n",
       "      <td>0</td>\n",
       "      <td>0</td>\n",
       "      <td>0</td>\n",
       "      <td>0</td>\n",
       "      <td>16</td>\n",
       "    </tr>\n",
       "    <tr>\n",
       "      <th>...</th>\n",
       "      <td>...</td>\n",
       "      <td>...</td>\n",
       "      <td>...</td>\n",
       "      <td>...</td>\n",
       "      <td>...</td>\n",
       "      <td>...</td>\n",
       "      <td>...</td>\n",
       "      <td>...</td>\n",
       "      <td>...</td>\n",
       "      <td>...</td>\n",
       "      <td>...</td>\n",
       "      <td>...</td>\n",
       "      <td>...</td>\n",
       "      <td>...</td>\n",
       "      <td>...</td>\n",
       "      <td>...</td>\n",
       "      <td>...</td>\n",
       "      <td>...</td>\n",
       "      <td>...</td>\n",
       "      <td>...</td>\n",
       "      <td>...</td>\n",
       "    </tr>\n",
       "    <tr>\n",
       "      <th>16347</th>\n",
       "      <td>ce8b2c0e11c538921c39c06b298d2393</td>\n",
       "      <td>20220730</td>\n",
       "      <td>31</td>\n",
       "      <td>18043</td>\n",
       "      <td>70901</td>\n",
       "      <td>Census Tract 709.01, Floyd County, Indiana</td>\n",
       "      <td>13</td>\n",
       "      <td>0</td>\n",
       "      <td>0</td>\n",
       "      <td>11</td>\n",
       "      <td>...</td>\n",
       "      <td>NaN</td>\n",
       "      <td>NaN</td>\n",
       "      <td>0</td>\n",
       "      <td>0</td>\n",
       "      <td>0</td>\n",
       "      <td>0</td>\n",
       "      <td>0</td>\n",
       "      <td>0</td>\n",
       "      <td>0</td>\n",
       "      <td>13</td>\n",
       "    </tr>\n",
       "    <tr>\n",
       "      <th>16348</th>\n",
       "      <td>ce8b2c0e11c538921c39c06b298d2393</td>\n",
       "      <td>20220716</td>\n",
       "      <td>29</td>\n",
       "      <td>18043</td>\n",
       "      <td>70901</td>\n",
       "      <td>Census Tract 709.01, Floyd County, Indiana</td>\n",
       "      <td>12</td>\n",
       "      <td>0</td>\n",
       "      <td>3</td>\n",
       "      <td>11</td>\n",
       "      <td>...</td>\n",
       "      <td>NaN</td>\n",
       "      <td>NaN</td>\n",
       "      <td>0</td>\n",
       "      <td>0</td>\n",
       "      <td>0</td>\n",
       "      <td>0</td>\n",
       "      <td>0</td>\n",
       "      <td>0</td>\n",
       "      <td>0</td>\n",
       "      <td>13</td>\n",
       "    </tr>\n",
       "    <tr>\n",
       "      <th>16431</th>\n",
       "      <td>6b22ecccaddde4516a88c6981373daf3</td>\n",
       "      <td>20220319</td>\n",
       "      <td>12</td>\n",
       "      <td>18135</td>\n",
       "      <td>951900</td>\n",
       "      <td>Census Tract 9519, Randolph County, Indiana</td>\n",
       "      <td>10</td>\n",
       "      <td>0</td>\n",
       "      <td>0</td>\n",
       "      <td>10</td>\n",
       "      <td>...</td>\n",
       "      <td>NaN</td>\n",
       "      <td>NaN</td>\n",
       "      <td>0</td>\n",
       "      <td>0</td>\n",
       "      <td>0</td>\n",
       "      <td>0</td>\n",
       "      <td>0</td>\n",
       "      <td>0</td>\n",
       "      <td>0</td>\n",
       "      <td>10</td>\n",
       "    </tr>\n",
       "    <tr>\n",
       "      <th>16432</th>\n",
       "      <td>6b22ecccaddde4516a88c6981373daf3</td>\n",
       "      <td>20220219</td>\n",
       "      <td>8</td>\n",
       "      <td>18135</td>\n",
       "      <td>951900</td>\n",
       "      <td>Census Tract 9519, Randolph County, Indiana</td>\n",
       "      <td>11</td>\n",
       "      <td>0</td>\n",
       "      <td>0</td>\n",
       "      <td>10</td>\n",
       "      <td>...</td>\n",
       "      <td>NaN</td>\n",
       "      <td>NaN</td>\n",
       "      <td>0</td>\n",
       "      <td>0</td>\n",
       "      <td>0</td>\n",
       "      <td>0</td>\n",
       "      <td>0</td>\n",
       "      <td>0</td>\n",
       "      <td>0</td>\n",
       "      <td>11</td>\n",
       "    </tr>\n",
       "    <tr>\n",
       "      <th>16433</th>\n",
       "      <td>6b22ecccaddde4516a88c6981373daf3</td>\n",
       "      <td>20220212</td>\n",
       "      <td>7</td>\n",
       "      <td>18135</td>\n",
       "      <td>951900</td>\n",
       "      <td>Census Tract 9519, Randolph County, Indiana</td>\n",
       "      <td>11</td>\n",
       "      <td>0</td>\n",
       "      <td>0</td>\n",
       "      <td>10</td>\n",
       "      <td>...</td>\n",
       "      <td>NaN</td>\n",
       "      <td>NaN</td>\n",
       "      <td>0</td>\n",
       "      <td>0</td>\n",
       "      <td>0</td>\n",
       "      <td>0</td>\n",
       "      <td>0</td>\n",
       "      <td>0</td>\n",
       "      <td>0</td>\n",
       "      <td>11</td>\n",
       "    </tr>\n",
       "  </tbody>\n",
       "</table>\n",
       "<p>113 rows × 25 columns</p>\n",
       "</div>"
      ],
      "text/plain": [
       "                                  uu_id  timeperiod  week_number  countyfips  \\\n",
       "540    420b44cc7e3f55d738df565421e59941    20220108            2       18043   \n",
       "541    420b44cc7e3f55d738df565421e59941    20220115            3       18043   \n",
       "558    d7a8af51ca8eb58392ab833bc0ae516b    20220312           11       18083   \n",
       "559    d7a8af51ca8eb58392ab833bc0ae516b    20220212            7       18083   \n",
       "766    4a6ae3b5be1b9b7c10c177e1b9fded82    20220205            6       18169   \n",
       "...                                 ...         ...          ...         ...   \n",
       "16347  ce8b2c0e11c538921c39c06b298d2393    20220730           31       18043   \n",
       "16348  ce8b2c0e11c538921c39c06b298d2393    20220716           29       18043   \n",
       "16431  6b22ecccaddde4516a88c6981373daf3    20220319           12       18135   \n",
       "16432  6b22ecccaddde4516a88c6981373daf3    20220219            8       18135   \n",
       "16433  6b22ecccaddde4516a88c6981373daf3    20220212            7       18135   \n",
       "\n",
       "        tract                                   tract_name  total_claims  \\\n",
       "540     70400      Census Tract 704, Floyd County, Indiana            15   \n",
       "541     70400      Census Tract 704, Floyd County, Indiana            11   \n",
       "558    955200      Census Tract 9552, Knox County, Indiana            16   \n",
       "559    955200      Census Tract 9552, Knox County, Indiana            15   \n",
       "766    102800    Census Tract 1028, Wabash County, Indiana            16   \n",
       "...       ...                                          ...           ...   \n",
       "16347   70901   Census Tract 709.01, Floyd County, Indiana            13   \n",
       "16348   70901   Census Tract 709.01, Floyd County, Indiana            12   \n",
       "16431  951900  Census Tract 9519, Randolph County, Indiana            10   \n",
       "16432  951900  Census Tract 9519, Randolph County, Indiana            11   \n",
       "16433  951900  Census Tract 9519, Randolph County, Indiana            11   \n",
       "\n",
       "       edu_8th_or_less  edu_grades_9_11  edu_hs_grad_equiv  ...  \\\n",
       "540                  0                3                 11  ...   \n",
       "541                  0                3                 11  ...   \n",
       "558                  0                0                 11  ...   \n",
       "559                  0                0                 11  ...   \n",
       "766                  0                0                 11  ...   \n",
       "...                ...              ...                ...  ...   \n",
       "16347                0                0                 11  ...   \n",
       "16348                0                3                 11  ...   \n",
       "16431                0                0                 10  ...   \n",
       "16432                0                0                 10  ...   \n",
       "16433                0                0                 10  ...   \n",
       "\n",
       "       gender_female  gender_male gender_na race_amerindian race_asian  \\\n",
       "540              NaN          NaN         0               0          0   \n",
       "541              NaN          NaN         0               0          0   \n",
       "558              NaN          NaN         0               0          0   \n",
       "559              NaN          NaN         0               0          0   \n",
       "766              NaN          NaN         0               0          0   \n",
       "...              ...          ...       ...             ...        ...   \n",
       "16347            NaN          NaN         0               0          0   \n",
       "16348            NaN          NaN         0               0          0   \n",
       "16431            NaN          NaN         0               0          0   \n",
       "16432            NaN          NaN         0               0          0   \n",
       "16433            NaN          NaN         0               0          0   \n",
       "\n",
       "       race_black  race_noanswer  race_hawaiiannative  race_other  race_white  \n",
       "540             0              0                    0           0          12  \n",
       "541             0              0                    0           0          13  \n",
       "558             0              0                    0           0          16  \n",
       "559             0              0                    0           0          15  \n",
       "766             0              0                    0           0          16  \n",
       "...           ...            ...                  ...         ...         ...  \n",
       "16347           0              0                    0           0          13  \n",
       "16348           0              0                    0           0          13  \n",
       "16431           0              0                    0           0          10  \n",
       "16432           0              0                    0           0          11  \n",
       "16433           0              0                    0           0          11  \n",
       "\n",
       "[113 rows x 25 columns]"
      ]
     },
     "execution_count": 22,
     "metadata": {},
     "output_type": "execute_result"
    }
   ],
   "source": [
    "unemp_data[unemp_data.gender_male.isnull()]"
   ]
  },
  {
   "cell_type": "code",
   "execution_count": 23,
   "id": "f69f4f46",
   "metadata": {
    "execution": {
     "iopub.execute_input": "2023-05-10T01:32:32.209915Z",
     "iopub.status.busy": "2023-05-10T01:32:32.209791Z",
     "iopub.status.idle": "2023-05-10T01:32:32.215136Z",
     "shell.execute_reply": "2023-05-10T01:32:32.214857Z"
    }
   },
   "outputs": [],
   "source": [
    "unemp_data['gender_male'] = unemp_data['gender_male'].fillna(unemp_data.groupby('countyfips')['gender_male'].transform('mean'))\n",
    "unemp_data['gender_female'] = unemp_data['gender_female'].fillna(unemp_data.groupby('countyfips')['gender_female'].transform('mean'))\n",
    "unemp_data['edu_post_hs'] = unemp_data['edu_post_hs'].fillna(unemp_data.groupby('countyfips')['edu_post_hs'].transform('mean'))"
   ]
  },
  {
   "cell_type": "code",
   "execution_count": 24,
   "id": "1648311f",
   "metadata": {
    "execution": {
     "iopub.execute_input": "2023-05-10T01:32:32.216648Z",
     "iopub.status.busy": "2023-05-10T01:32:32.216564Z",
     "iopub.status.idle": "2023-05-10T01:32:32.225132Z",
     "shell.execute_reply": "2023-05-10T01:32:32.224908Z"
    }
   },
   "outputs": [
    {
     "data": {
      "text/plain": [
       "uu_id                       0\n",
       "timeperiod                  0\n",
       "week_number                 0\n",
       "countyfips                  0\n",
       "tract                       0\n",
       "tract_name                  0\n",
       "total_claims                0\n",
       "edu_8th_or_less             0\n",
       "edu_grades_9_11             0\n",
       "edu_hs_grad_equiv           0\n",
       "edu_post_hs               124\n",
       "edu_unknown                 0\n",
       "top_category_employer1      0\n",
       "top_category_employer2      0\n",
       "top_category_employer3      0\n",
       "gender_female             113\n",
       "gender_male               113\n",
       "gender_na                   0\n",
       "race_amerindian             0\n",
       "race_asian                  0\n",
       "race_black                  0\n",
       "race_noanswer               0\n",
       "race_hawaiiannative         0\n",
       "race_other                  0\n",
       "race_white                  0\n",
       "dtype: int64"
      ]
     },
     "execution_count": 24,
     "metadata": {},
     "output_type": "execute_result"
    }
   ],
   "source": [
    "unemp_data.isna().sum()"
   ]
  },
  {
   "cell_type": "code",
   "execution_count": 25,
   "id": "803ad6c2",
   "metadata": {
    "execution": {
     "iopub.execute_input": "2023-05-10T01:32:32.226567Z",
     "iopub.status.busy": "2023-05-10T01:32:32.226476Z",
     "iopub.status.idle": "2023-05-10T01:32:32.247529Z",
     "shell.execute_reply": "2023-05-10T01:32:32.247240Z"
    }
   },
   "outputs": [],
   "source": [
    "unemp_data['gender_male'] = unemp_data.groupby('countyfips')['gender_male'].transform(lambda x: x.fillna(x.mean()))\n",
    "unemp_data['gender_female'] = unemp_data.groupby('countyfips')['gender_female'].transform(lambda x: x.fillna(x.mean()))\n",
    "unemp_data['edu_post_hs'] = unemp_data.groupby('countyfips')['edu_post_hs'].transform(lambda x: x.fillna(x.mean()))"
   ]
  },
  {
   "cell_type": "code",
   "execution_count": 26,
   "id": "563e1ba4",
   "metadata": {
    "execution": {
     "iopub.execute_input": "2023-05-10T01:32:32.249145Z",
     "iopub.status.busy": "2023-05-10T01:32:32.249051Z",
     "iopub.status.idle": "2023-05-10T01:32:32.257463Z",
     "shell.execute_reply": "2023-05-10T01:32:32.257218Z"
    }
   },
   "outputs": [
    {
     "data": {
      "text/plain": [
       "uu_id                       0\n",
       "timeperiod                  0\n",
       "week_number                 0\n",
       "countyfips                  0\n",
       "tract                       0\n",
       "tract_name                  0\n",
       "total_claims                0\n",
       "edu_8th_or_less             0\n",
       "edu_grades_9_11             0\n",
       "edu_hs_grad_equiv           0\n",
       "edu_post_hs               124\n",
       "edu_unknown                 0\n",
       "top_category_employer1      0\n",
       "top_category_employer2      0\n",
       "top_category_employer3      0\n",
       "gender_female             113\n",
       "gender_male               113\n",
       "gender_na                   0\n",
       "race_amerindian             0\n",
       "race_asian                  0\n",
       "race_black                  0\n",
       "race_noanswer               0\n",
       "race_hawaiiannative         0\n",
       "race_other                  0\n",
       "race_white                  0\n",
       "dtype: int64"
      ]
     },
     "execution_count": 26,
     "metadata": {},
     "output_type": "execute_result"
    }
   ],
   "source": [
    "unemp_data.isna().sum()"
   ]
  },
  {
   "cell_type": "code",
   "execution_count": 27,
   "id": "db8b5e10",
   "metadata": {
    "execution": {
     "iopub.execute_input": "2023-05-10T01:32:32.258894Z",
     "iopub.status.busy": "2023-05-10T01:32:32.258813Z",
     "iopub.status.idle": "2023-05-10T01:32:32.272544Z",
     "shell.execute_reply": "2023-05-10T01:32:32.272274Z"
    }
   },
   "outputs": [
    {
     "data": {
      "text/html": [
       "<div>\n",
       "<style scoped>\n",
       "    .dataframe tbody tr th:only-of-type {\n",
       "        vertical-align: middle;\n",
       "    }\n",
       "\n",
       "    .dataframe tbody tr th {\n",
       "        vertical-align: top;\n",
       "    }\n",
       "\n",
       "    .dataframe thead th {\n",
       "        text-align: right;\n",
       "    }\n",
       "</style>\n",
       "<table border=\"1\" class=\"dataframe\">\n",
       "  <thead>\n",
       "    <tr style=\"text-align: right;\">\n",
       "      <th></th>\n",
       "      <th>uu_id</th>\n",
       "      <th>timeperiod</th>\n",
       "      <th>week_number</th>\n",
       "      <th>countyfips</th>\n",
       "      <th>tract</th>\n",
       "      <th>tract_name</th>\n",
       "      <th>total_claims</th>\n",
       "      <th>edu_8th_or_less</th>\n",
       "      <th>edu_grades_9_11</th>\n",
       "      <th>edu_hs_grad_equiv</th>\n",
       "      <th>...</th>\n",
       "      <th>gender_female</th>\n",
       "      <th>gender_male</th>\n",
       "      <th>gender_na</th>\n",
       "      <th>race_amerindian</th>\n",
       "      <th>race_asian</th>\n",
       "      <th>race_black</th>\n",
       "      <th>race_noanswer</th>\n",
       "      <th>race_hawaiiannative</th>\n",
       "      <th>race_other</th>\n",
       "      <th>race_white</th>\n",
       "    </tr>\n",
       "  </thead>\n",
       "  <tbody>\n",
       "    <tr>\n",
       "      <th>0</th>\n",
       "      <td>False</td>\n",
       "      <td>False</td>\n",
       "      <td>False</td>\n",
       "      <td>False</td>\n",
       "      <td>False</td>\n",
       "      <td>False</td>\n",
       "      <td>False</td>\n",
       "      <td>False</td>\n",
       "      <td>False</td>\n",
       "      <td>False</td>\n",
       "      <td>...</td>\n",
       "      <td>False</td>\n",
       "      <td>False</td>\n",
       "      <td>False</td>\n",
       "      <td>False</td>\n",
       "      <td>False</td>\n",
       "      <td>False</td>\n",
       "      <td>False</td>\n",
       "      <td>False</td>\n",
       "      <td>False</td>\n",
       "      <td>False</td>\n",
       "    </tr>\n",
       "    <tr>\n",
       "      <th>1</th>\n",
       "      <td>False</td>\n",
       "      <td>False</td>\n",
       "      <td>False</td>\n",
       "      <td>False</td>\n",
       "      <td>False</td>\n",
       "      <td>False</td>\n",
       "      <td>False</td>\n",
       "      <td>False</td>\n",
       "      <td>False</td>\n",
       "      <td>False</td>\n",
       "      <td>...</td>\n",
       "      <td>False</td>\n",
       "      <td>False</td>\n",
       "      <td>False</td>\n",
       "      <td>False</td>\n",
       "      <td>False</td>\n",
       "      <td>False</td>\n",
       "      <td>False</td>\n",
       "      <td>False</td>\n",
       "      <td>False</td>\n",
       "      <td>False</td>\n",
       "    </tr>\n",
       "    <tr>\n",
       "      <th>2</th>\n",
       "      <td>False</td>\n",
       "      <td>False</td>\n",
       "      <td>False</td>\n",
       "      <td>False</td>\n",
       "      <td>False</td>\n",
       "      <td>False</td>\n",
       "      <td>False</td>\n",
       "      <td>False</td>\n",
       "      <td>False</td>\n",
       "      <td>False</td>\n",
       "      <td>...</td>\n",
       "      <td>False</td>\n",
       "      <td>False</td>\n",
       "      <td>False</td>\n",
       "      <td>False</td>\n",
       "      <td>False</td>\n",
       "      <td>False</td>\n",
       "      <td>False</td>\n",
       "      <td>False</td>\n",
       "      <td>False</td>\n",
       "      <td>False</td>\n",
       "    </tr>\n",
       "    <tr>\n",
       "      <th>3</th>\n",
       "      <td>False</td>\n",
       "      <td>False</td>\n",
       "      <td>False</td>\n",
       "      <td>False</td>\n",
       "      <td>False</td>\n",
       "      <td>False</td>\n",
       "      <td>False</td>\n",
       "      <td>False</td>\n",
       "      <td>False</td>\n",
       "      <td>False</td>\n",
       "      <td>...</td>\n",
       "      <td>False</td>\n",
       "      <td>False</td>\n",
       "      <td>False</td>\n",
       "      <td>False</td>\n",
       "      <td>False</td>\n",
       "      <td>False</td>\n",
       "      <td>False</td>\n",
       "      <td>False</td>\n",
       "      <td>False</td>\n",
       "      <td>False</td>\n",
       "    </tr>\n",
       "    <tr>\n",
       "      <th>4</th>\n",
       "      <td>False</td>\n",
       "      <td>False</td>\n",
       "      <td>False</td>\n",
       "      <td>False</td>\n",
       "      <td>False</td>\n",
       "      <td>False</td>\n",
       "      <td>False</td>\n",
       "      <td>False</td>\n",
       "      <td>False</td>\n",
       "      <td>False</td>\n",
       "      <td>...</td>\n",
       "      <td>False</td>\n",
       "      <td>False</td>\n",
       "      <td>False</td>\n",
       "      <td>False</td>\n",
       "      <td>False</td>\n",
       "      <td>False</td>\n",
       "      <td>False</td>\n",
       "      <td>False</td>\n",
       "      <td>False</td>\n",
       "      <td>False</td>\n",
       "    </tr>\n",
       "    <tr>\n",
       "      <th>...</th>\n",
       "      <td>...</td>\n",
       "      <td>...</td>\n",
       "      <td>...</td>\n",
       "      <td>...</td>\n",
       "      <td>...</td>\n",
       "      <td>...</td>\n",
       "      <td>...</td>\n",
       "      <td>...</td>\n",
       "      <td>...</td>\n",
       "      <td>...</td>\n",
       "      <td>...</td>\n",
       "      <td>...</td>\n",
       "      <td>...</td>\n",
       "      <td>...</td>\n",
       "      <td>...</td>\n",
       "      <td>...</td>\n",
       "      <td>...</td>\n",
       "      <td>...</td>\n",
       "      <td>...</td>\n",
       "      <td>...</td>\n",
       "      <td>...</td>\n",
       "    </tr>\n",
       "    <tr>\n",
       "      <th>16828</th>\n",
       "      <td>False</td>\n",
       "      <td>False</td>\n",
       "      <td>False</td>\n",
       "      <td>False</td>\n",
       "      <td>False</td>\n",
       "      <td>False</td>\n",
       "      <td>False</td>\n",
       "      <td>False</td>\n",
       "      <td>False</td>\n",
       "      <td>False</td>\n",
       "      <td>...</td>\n",
       "      <td>False</td>\n",
       "      <td>False</td>\n",
       "      <td>False</td>\n",
       "      <td>False</td>\n",
       "      <td>False</td>\n",
       "      <td>False</td>\n",
       "      <td>False</td>\n",
       "      <td>False</td>\n",
       "      <td>False</td>\n",
       "      <td>False</td>\n",
       "    </tr>\n",
       "    <tr>\n",
       "      <th>16829</th>\n",
       "      <td>False</td>\n",
       "      <td>False</td>\n",
       "      <td>False</td>\n",
       "      <td>False</td>\n",
       "      <td>False</td>\n",
       "      <td>False</td>\n",
       "      <td>False</td>\n",
       "      <td>False</td>\n",
       "      <td>False</td>\n",
       "      <td>False</td>\n",
       "      <td>...</td>\n",
       "      <td>False</td>\n",
       "      <td>False</td>\n",
       "      <td>False</td>\n",
       "      <td>False</td>\n",
       "      <td>False</td>\n",
       "      <td>False</td>\n",
       "      <td>False</td>\n",
       "      <td>False</td>\n",
       "      <td>False</td>\n",
       "      <td>False</td>\n",
       "    </tr>\n",
       "    <tr>\n",
       "      <th>16830</th>\n",
       "      <td>False</td>\n",
       "      <td>False</td>\n",
       "      <td>False</td>\n",
       "      <td>False</td>\n",
       "      <td>False</td>\n",
       "      <td>False</td>\n",
       "      <td>False</td>\n",
       "      <td>False</td>\n",
       "      <td>False</td>\n",
       "      <td>False</td>\n",
       "      <td>...</td>\n",
       "      <td>False</td>\n",
       "      <td>False</td>\n",
       "      <td>False</td>\n",
       "      <td>False</td>\n",
       "      <td>False</td>\n",
       "      <td>False</td>\n",
       "      <td>False</td>\n",
       "      <td>False</td>\n",
       "      <td>False</td>\n",
       "      <td>False</td>\n",
       "    </tr>\n",
       "    <tr>\n",
       "      <th>16831</th>\n",
       "      <td>False</td>\n",
       "      <td>False</td>\n",
       "      <td>False</td>\n",
       "      <td>False</td>\n",
       "      <td>False</td>\n",
       "      <td>False</td>\n",
       "      <td>False</td>\n",
       "      <td>False</td>\n",
       "      <td>False</td>\n",
       "      <td>False</td>\n",
       "      <td>...</td>\n",
       "      <td>False</td>\n",
       "      <td>False</td>\n",
       "      <td>False</td>\n",
       "      <td>False</td>\n",
       "      <td>False</td>\n",
       "      <td>False</td>\n",
       "      <td>False</td>\n",
       "      <td>False</td>\n",
       "      <td>False</td>\n",
       "      <td>False</td>\n",
       "    </tr>\n",
       "    <tr>\n",
       "      <th>16832</th>\n",
       "      <td>False</td>\n",
       "      <td>False</td>\n",
       "      <td>False</td>\n",
       "      <td>False</td>\n",
       "      <td>False</td>\n",
       "      <td>False</td>\n",
       "      <td>False</td>\n",
       "      <td>False</td>\n",
       "      <td>False</td>\n",
       "      <td>False</td>\n",
       "      <td>...</td>\n",
       "      <td>False</td>\n",
       "      <td>False</td>\n",
       "      <td>False</td>\n",
       "      <td>False</td>\n",
       "      <td>False</td>\n",
       "      <td>False</td>\n",
       "      <td>False</td>\n",
       "      <td>False</td>\n",
       "      <td>False</td>\n",
       "      <td>False</td>\n",
       "    </tr>\n",
       "  </tbody>\n",
       "</table>\n",
       "<p>16833 rows × 25 columns</p>\n",
       "</div>"
      ],
      "text/plain": [
       "       uu_id  timeperiod  week_number  countyfips  tract  tract_name  \\\n",
       "0      False       False        False       False  False       False   \n",
       "1      False       False        False       False  False       False   \n",
       "2      False       False        False       False  False       False   \n",
       "3      False       False        False       False  False       False   \n",
       "4      False       False        False       False  False       False   \n",
       "...      ...         ...          ...         ...    ...         ...   \n",
       "16828  False       False        False       False  False       False   \n",
       "16829  False       False        False       False  False       False   \n",
       "16830  False       False        False       False  False       False   \n",
       "16831  False       False        False       False  False       False   \n",
       "16832  False       False        False       False  False       False   \n",
       "\n",
       "       total_claims  edu_8th_or_less  edu_grades_9_11  edu_hs_grad_equiv  ...  \\\n",
       "0             False            False            False              False  ...   \n",
       "1             False            False            False              False  ...   \n",
       "2             False            False            False              False  ...   \n",
       "3             False            False            False              False  ...   \n",
       "4             False            False            False              False  ...   \n",
       "...             ...              ...              ...                ...  ...   \n",
       "16828         False            False            False              False  ...   \n",
       "16829         False            False            False              False  ...   \n",
       "16830         False            False            False              False  ...   \n",
       "16831         False            False            False              False  ...   \n",
       "16832         False            False            False              False  ...   \n",
       "\n",
       "       gender_female  gender_male  gender_na  race_amerindian  race_asian  \\\n",
       "0              False        False      False            False       False   \n",
       "1              False        False      False            False       False   \n",
       "2              False        False      False            False       False   \n",
       "3              False        False      False            False       False   \n",
       "4              False        False      False            False       False   \n",
       "...              ...          ...        ...              ...         ...   \n",
       "16828          False        False      False            False       False   \n",
       "16829          False        False      False            False       False   \n",
       "16830          False        False      False            False       False   \n",
       "16831          False        False      False            False       False   \n",
       "16832          False        False      False            False       False   \n",
       "\n",
       "       race_black  race_noanswer  race_hawaiiannative  race_other  race_white  \n",
       "0           False          False                False       False       False  \n",
       "1           False          False                False       False       False  \n",
       "2           False          False                False       False       False  \n",
       "3           False          False                False       False       False  \n",
       "4           False          False                False       False       False  \n",
       "...           ...            ...                  ...         ...         ...  \n",
       "16828       False          False                False       False       False  \n",
       "16829       False          False                False       False       False  \n",
       "16830       False          False                False       False       False  \n",
       "16831       False          False                False       False       False  \n",
       "16832       False          False                False       False       False  \n",
       "\n",
       "[16833 rows x 25 columns]"
      ]
     },
     "execution_count": 27,
     "metadata": {},
     "output_type": "execute_result"
    }
   ],
   "source": [
    "unemp_data.isnull()"
   ]
  },
  {
   "cell_type": "code",
   "execution_count": 28,
   "id": "07f988fc",
   "metadata": {
    "execution": {
     "iopub.execute_input": "2023-05-10T01:32:32.273918Z",
     "iopub.status.busy": "2023-05-10T01:32:32.273837Z",
     "iopub.status.idle": "2023-05-10T01:32:32.284041Z",
     "shell.execute_reply": "2023-05-10T01:32:32.283791Z"
    }
   },
   "outputs": [
    {
     "data": {
      "text/html": [
       "<div>\n",
       "<style scoped>\n",
       "    .dataframe tbody tr th:only-of-type {\n",
       "        vertical-align: middle;\n",
       "    }\n",
       "\n",
       "    .dataframe tbody tr th {\n",
       "        vertical-align: top;\n",
       "    }\n",
       "\n",
       "    .dataframe thead th {\n",
       "        text-align: right;\n",
       "    }\n",
       "</style>\n",
       "<table border=\"1\" class=\"dataframe\">\n",
       "  <thead>\n",
       "    <tr style=\"text-align: right;\">\n",
       "      <th></th>\n",
       "      <th>uu_id</th>\n",
       "      <th>timeperiod</th>\n",
       "      <th>week_number</th>\n",
       "      <th>countyfips</th>\n",
       "      <th>tract</th>\n",
       "      <th>tract_name</th>\n",
       "      <th>total_claims</th>\n",
       "      <th>edu_8th_or_less</th>\n",
       "      <th>edu_grades_9_11</th>\n",
       "      <th>edu_hs_grad_equiv</th>\n",
       "      <th>...</th>\n",
       "      <th>gender_female</th>\n",
       "      <th>gender_male</th>\n",
       "      <th>gender_na</th>\n",
       "      <th>race_amerindian</th>\n",
       "      <th>race_asian</th>\n",
       "      <th>race_black</th>\n",
       "      <th>race_noanswer</th>\n",
       "      <th>race_hawaiiannative</th>\n",
       "      <th>race_other</th>\n",
       "      <th>race_white</th>\n",
       "    </tr>\n",
       "  </thead>\n",
       "  <tbody>\n",
       "    <tr>\n",
       "      <th>540</th>\n",
       "      <td>420b44cc7e3f55d738df565421e59941</td>\n",
       "      <td>20220108</td>\n",
       "      <td>2</td>\n",
       "      <td>18043</td>\n",
       "      <td>70400</td>\n",
       "      <td>Census Tract 704, Floyd County, Indiana</td>\n",
       "      <td>15</td>\n",
       "      <td>0</td>\n",
       "      <td>3</td>\n",
       "      <td>11</td>\n",
       "      <td>...</td>\n",
       "      <td>NaN</td>\n",
       "      <td>NaN</td>\n",
       "      <td>0</td>\n",
       "      <td>0</td>\n",
       "      <td>0</td>\n",
       "      <td>0</td>\n",
       "      <td>0</td>\n",
       "      <td>0</td>\n",
       "      <td>0</td>\n",
       "      <td>12</td>\n",
       "    </tr>\n",
       "    <tr>\n",
       "      <th>541</th>\n",
       "      <td>420b44cc7e3f55d738df565421e59941</td>\n",
       "      <td>20220115</td>\n",
       "      <td>3</td>\n",
       "      <td>18043</td>\n",
       "      <td>70400</td>\n",
       "      <td>Census Tract 704, Floyd County, Indiana</td>\n",
       "      <td>11</td>\n",
       "      <td>0</td>\n",
       "      <td>3</td>\n",
       "      <td>11</td>\n",
       "      <td>...</td>\n",
       "      <td>NaN</td>\n",
       "      <td>NaN</td>\n",
       "      <td>0</td>\n",
       "      <td>0</td>\n",
       "      <td>0</td>\n",
       "      <td>0</td>\n",
       "      <td>0</td>\n",
       "      <td>0</td>\n",
       "      <td>0</td>\n",
       "      <td>13</td>\n",
       "    </tr>\n",
       "    <tr>\n",
       "      <th>558</th>\n",
       "      <td>d7a8af51ca8eb58392ab833bc0ae516b</td>\n",
       "      <td>20220312</td>\n",
       "      <td>11</td>\n",
       "      <td>18083</td>\n",
       "      <td>955200</td>\n",
       "      <td>Census Tract 9552, Knox County, Indiana</td>\n",
       "      <td>16</td>\n",
       "      <td>0</td>\n",
       "      <td>0</td>\n",
       "      <td>11</td>\n",
       "      <td>...</td>\n",
       "      <td>NaN</td>\n",
       "      <td>NaN</td>\n",
       "      <td>0</td>\n",
       "      <td>0</td>\n",
       "      <td>0</td>\n",
       "      <td>0</td>\n",
       "      <td>0</td>\n",
       "      <td>0</td>\n",
       "      <td>0</td>\n",
       "      <td>16</td>\n",
       "    </tr>\n",
       "    <tr>\n",
       "      <th>559</th>\n",
       "      <td>d7a8af51ca8eb58392ab833bc0ae516b</td>\n",
       "      <td>20220212</td>\n",
       "      <td>7</td>\n",
       "      <td>18083</td>\n",
       "      <td>955200</td>\n",
       "      <td>Census Tract 9552, Knox County, Indiana</td>\n",
       "      <td>15</td>\n",
       "      <td>0</td>\n",
       "      <td>0</td>\n",
       "      <td>11</td>\n",
       "      <td>...</td>\n",
       "      <td>NaN</td>\n",
       "      <td>NaN</td>\n",
       "      <td>0</td>\n",
       "      <td>0</td>\n",
       "      <td>0</td>\n",
       "      <td>0</td>\n",
       "      <td>0</td>\n",
       "      <td>0</td>\n",
       "      <td>0</td>\n",
       "      <td>15</td>\n",
       "    </tr>\n",
       "    <tr>\n",
       "      <th>766</th>\n",
       "      <td>4a6ae3b5be1b9b7c10c177e1b9fded82</td>\n",
       "      <td>20220205</td>\n",
       "      <td>6</td>\n",
       "      <td>18169</td>\n",
       "      <td>102800</td>\n",
       "      <td>Census Tract 1028, Wabash County, Indiana</td>\n",
       "      <td>16</td>\n",
       "      <td>0</td>\n",
       "      <td>0</td>\n",
       "      <td>11</td>\n",
       "      <td>...</td>\n",
       "      <td>NaN</td>\n",
       "      <td>NaN</td>\n",
       "      <td>0</td>\n",
       "      <td>0</td>\n",
       "      <td>0</td>\n",
       "      <td>0</td>\n",
       "      <td>0</td>\n",
       "      <td>0</td>\n",
       "      <td>0</td>\n",
       "      <td>16</td>\n",
       "    </tr>\n",
       "    <tr>\n",
       "      <th>...</th>\n",
       "      <td>...</td>\n",
       "      <td>...</td>\n",
       "      <td>...</td>\n",
       "      <td>...</td>\n",
       "      <td>...</td>\n",
       "      <td>...</td>\n",
       "      <td>...</td>\n",
       "      <td>...</td>\n",
       "      <td>...</td>\n",
       "      <td>...</td>\n",
       "      <td>...</td>\n",
       "      <td>...</td>\n",
       "      <td>...</td>\n",
       "      <td>...</td>\n",
       "      <td>...</td>\n",
       "      <td>...</td>\n",
       "      <td>...</td>\n",
       "      <td>...</td>\n",
       "      <td>...</td>\n",
       "      <td>...</td>\n",
       "      <td>...</td>\n",
       "    </tr>\n",
       "    <tr>\n",
       "      <th>16347</th>\n",
       "      <td>ce8b2c0e11c538921c39c06b298d2393</td>\n",
       "      <td>20220730</td>\n",
       "      <td>31</td>\n",
       "      <td>18043</td>\n",
       "      <td>70901</td>\n",
       "      <td>Census Tract 709.01, Floyd County, Indiana</td>\n",
       "      <td>13</td>\n",
       "      <td>0</td>\n",
       "      <td>0</td>\n",
       "      <td>11</td>\n",
       "      <td>...</td>\n",
       "      <td>NaN</td>\n",
       "      <td>NaN</td>\n",
       "      <td>0</td>\n",
       "      <td>0</td>\n",
       "      <td>0</td>\n",
       "      <td>0</td>\n",
       "      <td>0</td>\n",
       "      <td>0</td>\n",
       "      <td>0</td>\n",
       "      <td>13</td>\n",
       "    </tr>\n",
       "    <tr>\n",
       "      <th>16348</th>\n",
       "      <td>ce8b2c0e11c538921c39c06b298d2393</td>\n",
       "      <td>20220716</td>\n",
       "      <td>29</td>\n",
       "      <td>18043</td>\n",
       "      <td>70901</td>\n",
       "      <td>Census Tract 709.01, Floyd County, Indiana</td>\n",
       "      <td>12</td>\n",
       "      <td>0</td>\n",
       "      <td>3</td>\n",
       "      <td>11</td>\n",
       "      <td>...</td>\n",
       "      <td>NaN</td>\n",
       "      <td>NaN</td>\n",
       "      <td>0</td>\n",
       "      <td>0</td>\n",
       "      <td>0</td>\n",
       "      <td>0</td>\n",
       "      <td>0</td>\n",
       "      <td>0</td>\n",
       "      <td>0</td>\n",
       "      <td>13</td>\n",
       "    </tr>\n",
       "    <tr>\n",
       "      <th>16431</th>\n",
       "      <td>6b22ecccaddde4516a88c6981373daf3</td>\n",
       "      <td>20220319</td>\n",
       "      <td>12</td>\n",
       "      <td>18135</td>\n",
       "      <td>951900</td>\n",
       "      <td>Census Tract 9519, Randolph County, Indiana</td>\n",
       "      <td>10</td>\n",
       "      <td>0</td>\n",
       "      <td>0</td>\n",
       "      <td>10</td>\n",
       "      <td>...</td>\n",
       "      <td>NaN</td>\n",
       "      <td>NaN</td>\n",
       "      <td>0</td>\n",
       "      <td>0</td>\n",
       "      <td>0</td>\n",
       "      <td>0</td>\n",
       "      <td>0</td>\n",
       "      <td>0</td>\n",
       "      <td>0</td>\n",
       "      <td>10</td>\n",
       "    </tr>\n",
       "    <tr>\n",
       "      <th>16432</th>\n",
       "      <td>6b22ecccaddde4516a88c6981373daf3</td>\n",
       "      <td>20220219</td>\n",
       "      <td>8</td>\n",
       "      <td>18135</td>\n",
       "      <td>951900</td>\n",
       "      <td>Census Tract 9519, Randolph County, Indiana</td>\n",
       "      <td>11</td>\n",
       "      <td>0</td>\n",
       "      <td>0</td>\n",
       "      <td>10</td>\n",
       "      <td>...</td>\n",
       "      <td>NaN</td>\n",
       "      <td>NaN</td>\n",
       "      <td>0</td>\n",
       "      <td>0</td>\n",
       "      <td>0</td>\n",
       "      <td>0</td>\n",
       "      <td>0</td>\n",
       "      <td>0</td>\n",
       "      <td>0</td>\n",
       "      <td>11</td>\n",
       "    </tr>\n",
       "    <tr>\n",
       "      <th>16433</th>\n",
       "      <td>6b22ecccaddde4516a88c6981373daf3</td>\n",
       "      <td>20220212</td>\n",
       "      <td>7</td>\n",
       "      <td>18135</td>\n",
       "      <td>951900</td>\n",
       "      <td>Census Tract 9519, Randolph County, Indiana</td>\n",
       "      <td>11</td>\n",
       "      <td>0</td>\n",
       "      <td>0</td>\n",
       "      <td>10</td>\n",
       "      <td>...</td>\n",
       "      <td>NaN</td>\n",
       "      <td>NaN</td>\n",
       "      <td>0</td>\n",
       "      <td>0</td>\n",
       "      <td>0</td>\n",
       "      <td>0</td>\n",
       "      <td>0</td>\n",
       "      <td>0</td>\n",
       "      <td>0</td>\n",
       "      <td>11</td>\n",
       "    </tr>\n",
       "  </tbody>\n",
       "</table>\n",
       "<p>113 rows × 25 columns</p>\n",
       "</div>"
      ],
      "text/plain": [
       "                                  uu_id  timeperiod  week_number  countyfips  \\\n",
       "540    420b44cc7e3f55d738df565421e59941    20220108            2       18043   \n",
       "541    420b44cc7e3f55d738df565421e59941    20220115            3       18043   \n",
       "558    d7a8af51ca8eb58392ab833bc0ae516b    20220312           11       18083   \n",
       "559    d7a8af51ca8eb58392ab833bc0ae516b    20220212            7       18083   \n",
       "766    4a6ae3b5be1b9b7c10c177e1b9fded82    20220205            6       18169   \n",
       "...                                 ...         ...          ...         ...   \n",
       "16347  ce8b2c0e11c538921c39c06b298d2393    20220730           31       18043   \n",
       "16348  ce8b2c0e11c538921c39c06b298d2393    20220716           29       18043   \n",
       "16431  6b22ecccaddde4516a88c6981373daf3    20220319           12       18135   \n",
       "16432  6b22ecccaddde4516a88c6981373daf3    20220219            8       18135   \n",
       "16433  6b22ecccaddde4516a88c6981373daf3    20220212            7       18135   \n",
       "\n",
       "        tract                                   tract_name  total_claims  \\\n",
       "540     70400      Census Tract 704, Floyd County, Indiana            15   \n",
       "541     70400      Census Tract 704, Floyd County, Indiana            11   \n",
       "558    955200      Census Tract 9552, Knox County, Indiana            16   \n",
       "559    955200      Census Tract 9552, Knox County, Indiana            15   \n",
       "766    102800    Census Tract 1028, Wabash County, Indiana            16   \n",
       "...       ...                                          ...           ...   \n",
       "16347   70901   Census Tract 709.01, Floyd County, Indiana            13   \n",
       "16348   70901   Census Tract 709.01, Floyd County, Indiana            12   \n",
       "16431  951900  Census Tract 9519, Randolph County, Indiana            10   \n",
       "16432  951900  Census Tract 9519, Randolph County, Indiana            11   \n",
       "16433  951900  Census Tract 9519, Randolph County, Indiana            11   \n",
       "\n",
       "       edu_8th_or_less  edu_grades_9_11  edu_hs_grad_equiv  ...  \\\n",
       "540                  0                3                 11  ...   \n",
       "541                  0                3                 11  ...   \n",
       "558                  0                0                 11  ...   \n",
       "559                  0                0                 11  ...   \n",
       "766                  0                0                 11  ...   \n",
       "...                ...              ...                ...  ...   \n",
       "16347                0                0                 11  ...   \n",
       "16348                0                3                 11  ...   \n",
       "16431                0                0                 10  ...   \n",
       "16432                0                0                 10  ...   \n",
       "16433                0                0                 10  ...   \n",
       "\n",
       "       gender_female  gender_male gender_na race_amerindian race_asian  \\\n",
       "540              NaN          NaN         0               0          0   \n",
       "541              NaN          NaN         0               0          0   \n",
       "558              NaN          NaN         0               0          0   \n",
       "559              NaN          NaN         0               0          0   \n",
       "766              NaN          NaN         0               0          0   \n",
       "...              ...          ...       ...             ...        ...   \n",
       "16347            NaN          NaN         0               0          0   \n",
       "16348            NaN          NaN         0               0          0   \n",
       "16431            NaN          NaN         0               0          0   \n",
       "16432            NaN          NaN         0               0          0   \n",
       "16433            NaN          NaN         0               0          0   \n",
       "\n",
       "       race_black  race_noanswer  race_hawaiiannative  race_other  race_white  \n",
       "540             0              0                    0           0          12  \n",
       "541             0              0                    0           0          13  \n",
       "558             0              0                    0           0          16  \n",
       "559             0              0                    0           0          15  \n",
       "766             0              0                    0           0          16  \n",
       "...           ...            ...                  ...         ...         ...  \n",
       "16347           0              0                    0           0          13  \n",
       "16348           0              0                    0           0          13  \n",
       "16431           0              0                    0           0          10  \n",
       "16432           0              0                    0           0          11  \n",
       "16433           0              0                    0           0          11  \n",
       "\n",
       "[113 rows x 25 columns]"
      ]
     },
     "execution_count": 28,
     "metadata": {},
     "output_type": "execute_result"
    }
   ],
   "source": [
    "unemp_data[unemp_data['gender_male'].isnull()]"
   ]
  },
  {
   "cell_type": "code",
   "execution_count": 29,
   "id": "56b78634",
   "metadata": {
    "execution": {
     "iopub.execute_input": "2023-05-10T01:32:32.285461Z",
     "iopub.status.busy": "2023-05-10T01:32:32.285380Z",
     "iopub.status.idle": "2023-05-10T01:32:32.287945Z",
     "shell.execute_reply": "2023-05-10T01:32:32.287715Z"
    }
   },
   "outputs": [],
   "source": [
    "unemp_data['gender_male'] = unemp_data['gender_male'].fillna(0)\n",
    "unemp_data['gender_female'] = unemp_data['gender_female'].fillna(0)\n",
    "unemp_data['edu_post_hs'] = unemp_data['edu_post_hs'].fillna(0)"
   ]
  },
  {
   "cell_type": "code",
   "execution_count": 30,
   "id": "359b0f99",
   "metadata": {
    "execution": {
     "iopub.execute_input": "2023-05-10T01:32:32.289357Z",
     "iopub.status.busy": "2023-05-10T01:32:32.289279Z",
     "iopub.status.idle": "2023-05-10T01:32:32.297525Z",
     "shell.execute_reply": "2023-05-10T01:32:32.297274Z"
    }
   },
   "outputs": [
    {
     "data": {
      "text/plain": [
       "uu_id                     0\n",
       "timeperiod                0\n",
       "week_number               0\n",
       "countyfips                0\n",
       "tract                     0\n",
       "tract_name                0\n",
       "total_claims              0\n",
       "edu_8th_or_less           0\n",
       "edu_grades_9_11           0\n",
       "edu_hs_grad_equiv         0\n",
       "edu_post_hs               0\n",
       "edu_unknown               0\n",
       "top_category_employer1    0\n",
       "top_category_employer2    0\n",
       "top_category_employer3    0\n",
       "gender_female             0\n",
       "gender_male               0\n",
       "gender_na                 0\n",
       "race_amerindian           0\n",
       "race_asian                0\n",
       "race_black                0\n",
       "race_noanswer             0\n",
       "race_hawaiiannative       0\n",
       "race_other                0\n",
       "race_white                0\n",
       "dtype: int64"
      ]
     },
     "execution_count": 30,
     "metadata": {},
     "output_type": "execute_result"
    }
   ],
   "source": [
    "unemp_data.isna().sum()"
   ]
  },
  {
   "cell_type": "code",
   "execution_count": 31,
   "id": "8687824c",
   "metadata": {
    "execution": {
     "iopub.execute_input": "2023-05-10T01:32:32.298910Z",
     "iopub.status.busy": "2023-05-10T01:32:32.298828Z",
     "iopub.status.idle": "2023-05-10T01:32:32.307000Z",
     "shell.execute_reply": "2023-05-10T01:32:32.306754Z"
    }
   },
   "outputs": [
    {
     "data": {
      "text/plain": [
       "uu_id                     0\n",
       "timeperiod                0\n",
       "week_number               0\n",
       "countyfips                0\n",
       "tract                     0\n",
       "tract_name                0\n",
       "total_claims              0\n",
       "edu_8th_or_less           0\n",
       "edu_grades_9_11           0\n",
       "edu_hs_grad_equiv         0\n",
       "edu_post_hs               0\n",
       "edu_unknown               0\n",
       "top_category_employer1    0\n",
       "top_category_employer2    0\n",
       "top_category_employer3    0\n",
       "gender_female             0\n",
       "gender_male               0\n",
       "gender_na                 0\n",
       "race_amerindian           0\n",
       "race_asian                0\n",
       "race_black                0\n",
       "race_noanswer             0\n",
       "race_hawaiiannative       0\n",
       "race_other                0\n",
       "race_white                0\n",
       "dtype: int64"
      ]
     },
     "execution_count": 31,
     "metadata": {},
     "output_type": "execute_result"
    }
   ],
   "source": [
    "unemp_data.isna().sum()"
   ]
  },
  {
   "cell_type": "code",
   "execution_count": 32,
   "id": "a8478c1f",
   "metadata": {
    "execution": {
     "iopub.execute_input": "2023-05-10T01:32:32.308379Z",
     "iopub.status.busy": "2023-05-10T01:32:32.308295Z",
     "iopub.status.idle": "2023-05-10T01:32:32.311629Z",
     "shell.execute_reply": "2023-05-10T01:32:32.311385Z"
    }
   },
   "outputs": [
    {
     "name": "stdout",
     "output_type": "stream",
     "text": [
      "<class 'pandas.core.frame.DataFrame'>\n",
      "RangeIndex: 525 entries, 0 to 524\n",
      "Data columns (total 5 columns):\n",
      " #   Column        Non-Null Count  Dtype  \n",
      "---  ------        --------------  -----  \n",
      " 0   uu_id         525 non-null    object \n",
      " 1   countyfips    525 non-null    Int64  \n",
      " 2   tract         525 non-null    Int64  \n",
      " 3   tract_name    525 non-null    object \n",
      " 4   average_wage  525 non-null    float64\n",
      "dtypes: Int64(2), float64(1), object(2)\n",
      "memory usage: 21.7+ KB\n"
     ]
    }
   ],
   "source": [
    "wage_data.info()"
   ]
  },
  {
   "cell_type": "code",
   "execution_count": 33,
   "id": "72e90b6a",
   "metadata": {
    "execution": {
     "iopub.execute_input": "2023-05-10T01:32:32.312979Z",
     "iopub.status.busy": "2023-05-10T01:32:32.312901Z",
     "iopub.status.idle": "2023-05-10T01:32:32.318721Z",
     "shell.execute_reply": "2023-05-10T01:32:32.318471Z"
    }
   },
   "outputs": [
    {
     "data": {
      "text/html": [
       "<div>\n",
       "<style scoped>\n",
       "    .dataframe tbody tr th:only-of-type {\n",
       "        vertical-align: middle;\n",
       "    }\n",
       "\n",
       "    .dataframe tbody tr th {\n",
       "        vertical-align: top;\n",
       "    }\n",
       "\n",
       "    .dataframe thead th {\n",
       "        text-align: right;\n",
       "    }\n",
       "</style>\n",
       "<table border=\"1\" class=\"dataframe\">\n",
       "  <thead>\n",
       "    <tr style=\"text-align: right;\">\n",
       "      <th></th>\n",
       "      <th>countyfips</th>\n",
       "      <th>tract</th>\n",
       "      <th>average_wage</th>\n",
       "    </tr>\n",
       "  </thead>\n",
       "  <tbody>\n",
       "    <tr>\n",
       "      <th>count</th>\n",
       "      <td>525.0</td>\n",
       "      <td>525.0</td>\n",
       "      <td>525.000000</td>\n",
       "    </tr>\n",
       "    <tr>\n",
       "      <th>mean</th>\n",
       "      <td>18087.15619</td>\n",
       "      <td>236688.508571</td>\n",
       "      <td>11864.620446</td>\n",
       "    </tr>\n",
       "    <tr>\n",
       "      <th>std</th>\n",
       "      <td>41.969982</td>\n",
       "      <td>323355.706854</td>\n",
       "      <td>4334.564054</td>\n",
       "    </tr>\n",
       "    <tr>\n",
       "      <th>min</th>\n",
       "      <td>18001.0</td>\n",
       "      <td>100.0</td>\n",
       "      <td>3992.500000</td>\n",
       "    </tr>\n",
       "    <tr>\n",
       "      <th>25%</th>\n",
       "      <td>18059.0</td>\n",
       "      <td>10200.0</td>\n",
       "      <td>8797.600000</td>\n",
       "    </tr>\n",
       "    <tr>\n",
       "      <th>50%</th>\n",
       "      <td>18093.0</td>\n",
       "      <td>42902.0</td>\n",
       "      <td>11140.333333</td>\n",
       "    </tr>\n",
       "    <tr>\n",
       "      <th>75%</th>\n",
       "      <td>18103.0</td>\n",
       "      <td>353600.0</td>\n",
       "      <td>14241.727273</td>\n",
       "    </tr>\n",
       "    <tr>\n",
       "      <th>max</th>\n",
       "      <td>18183.0</td>\n",
       "      <td>976400.0</td>\n",
       "      <td>41267.000000</td>\n",
       "    </tr>\n",
       "  </tbody>\n",
       "</table>\n",
       "</div>"
      ],
      "text/plain": [
       "        countyfips          tract  average_wage\n",
       "count        525.0          525.0    525.000000\n",
       "mean   18087.15619  236688.508571  11864.620446\n",
       "std      41.969982  323355.706854   4334.564054\n",
       "min        18001.0          100.0   3992.500000\n",
       "25%        18059.0        10200.0   8797.600000\n",
       "50%        18093.0        42902.0  11140.333333\n",
       "75%        18103.0       353600.0  14241.727273\n",
       "max        18183.0       976400.0  41267.000000"
      ]
     },
     "execution_count": 33,
     "metadata": {},
     "output_type": "execute_result"
    }
   ],
   "source": [
    "wage_data.describe()"
   ]
  },
  {
   "cell_type": "code",
   "execution_count": 34,
   "id": "7a20af28",
   "metadata": {
    "execution": {
     "iopub.execute_input": "2023-05-10T01:32:32.320070Z",
     "iopub.status.busy": "2023-05-10T01:32:32.319986Z",
     "iopub.status.idle": "2023-05-10T01:32:32.322368Z",
     "shell.execute_reply": "2023-05-10T01:32:32.322140Z"
    }
   },
   "outputs": [],
   "source": [
    "wage_data['average_wage'] = wage_data['average_wage'].fillna(wage_data.groupby('countyfips')['average_wage'].transform('mean'))"
   ]
  },
  {
   "cell_type": "code",
   "execution_count": 35,
   "id": "21c41d43",
   "metadata": {
    "execution": {
     "iopub.execute_input": "2023-05-10T01:32:32.323692Z",
     "iopub.status.busy": "2023-05-10T01:32:32.323618Z",
     "iopub.status.idle": "2023-05-10T01:32:32.326760Z",
     "shell.execute_reply": "2023-05-10T01:32:32.326525Z"
    }
   },
   "outputs": [
    {
     "name": "stdout",
     "output_type": "stream",
     "text": [
      "<class 'pandas.core.frame.DataFrame'>\n",
      "RangeIndex: 525 entries, 0 to 524\n",
      "Data columns (total 5 columns):\n",
      " #   Column        Non-Null Count  Dtype  \n",
      "---  ------        --------------  -----  \n",
      " 0   uu_id         525 non-null    object \n",
      " 1   countyfips    525 non-null    Int64  \n",
      " 2   tract         525 non-null    Int64  \n",
      " 3   tract_name    525 non-null    object \n",
      " 4   average_wage  525 non-null    float64\n",
      "dtypes: Int64(2), float64(1), object(2)\n",
      "memory usage: 21.7+ KB\n"
     ]
    }
   ],
   "source": [
    "wage_data.info()"
   ]
  },
  {
   "cell_type": "code",
   "execution_count": 36,
   "id": "5871a13e",
   "metadata": {
    "execution": {
     "iopub.execute_input": "2023-05-10T01:32:32.328172Z",
     "iopub.status.busy": "2023-05-10T01:32:32.328086Z",
     "iopub.status.idle": "2023-05-10T01:32:33.728021Z",
     "shell.execute_reply": "2023-05-10T01:32:33.727166Z"
    }
   },
   "outputs": [
    {
     "data": {
      "text/html": [
       "<div>\n",
       "<style scoped>\n",
       "    .dataframe tbody tr th:only-of-type {\n",
       "        vertical-align: middle;\n",
       "    }\n",
       "\n",
       "    .dataframe tbody tr th {\n",
       "        vertical-align: top;\n",
       "    }\n",
       "\n",
       "    .dataframe thead th {\n",
       "        text-align: right;\n",
       "    }\n",
       "</style>\n",
       "<table border=\"1\" class=\"dataframe\">\n",
       "  <thead>\n",
       "    <tr style=\"text-align: right;\">\n",
       "      <th></th>\n",
       "      <th>uu_id</th>\n",
       "      <th>countyfips</th>\n",
       "      <th>tract</th>\n",
       "      <th>tract_name</th>\n",
       "      <th>average_wage</th>\n",
       "    </tr>\n",
       "  </thead>\n",
       "  <tbody>\n",
       "    <tr>\n",
       "      <th>0</th>\n",
       "      <td>585f8731c2255d6b3f817a31180848b9</td>\n",
       "      <td>18177</td>\n",
       "      <td>200</td>\n",
       "      <td>Census Tract 2, Wayne County, Indiana</td>\n",
       "      <td>6612.000000</td>\n",
       "    </tr>\n",
       "    <tr>\n",
       "      <th>1</th>\n",
       "      <td>8c9d2aa90948679972a9382aadcc6001</td>\n",
       "      <td>18177</td>\n",
       "      <td>900</td>\n",
       "      <td>Census Tract 9, Wayne County, Indiana</td>\n",
       "      <td>9883.250000</td>\n",
       "    </tr>\n",
       "    <tr>\n",
       "      <th>2</th>\n",
       "      <td>0f3d45341a5b113b813ffb7be7f58bab</td>\n",
       "      <td>18183</td>\n",
       "      <td>50300</td>\n",
       "      <td>Census Tract 503, Whitley County, Indiana</td>\n",
       "      <td>13992.250000</td>\n",
       "    </tr>\n",
       "    <tr>\n",
       "      <th>3</th>\n",
       "      <td>fb55464f8e34af6d750d06968bf719b8</td>\n",
       "      <td>18183</td>\n",
       "      <td>50400</td>\n",
       "      <td>Census Tract 504, Whitley County, Indiana</td>\n",
       "      <td>13613.500000</td>\n",
       "    </tr>\n",
       "    <tr>\n",
       "      <th>4</th>\n",
       "      <td>983badfd7b568728e39a2344a9006078</td>\n",
       "      <td>18001</td>\n",
       "      <td>30200</td>\n",
       "      <td>Census Tract 302, Adams County, Indiana</td>\n",
       "      <td>11816.666667</td>\n",
       "    </tr>\n",
       "  </tbody>\n",
       "</table>\n",
       "</div>"
      ],
      "text/plain": [
       "                              uu_id  countyfips  tract  \\\n",
       "0  585f8731c2255d6b3f817a31180848b9       18177    200   \n",
       "1  8c9d2aa90948679972a9382aadcc6001       18177    900   \n",
       "2  0f3d45341a5b113b813ffb7be7f58bab       18183  50300   \n",
       "3  fb55464f8e34af6d750d06968bf719b8       18183  50400   \n",
       "4  983badfd7b568728e39a2344a9006078       18001  30200   \n",
       "\n",
       "                                  tract_name  average_wage  \n",
       "0      Census Tract 2, Wayne County, Indiana   6612.000000  \n",
       "1      Census Tract 9, Wayne County, Indiana   9883.250000  \n",
       "2  Census Tract 503, Whitley County, Indiana  13992.250000  \n",
       "3  Census Tract 504, Whitley County, Indiana  13613.500000  \n",
       "4    Census Tract 302, Adams County, Indiana  11816.666667  "
      ]
     },
     "execution_count": 36,
     "metadata": {},
     "output_type": "execute_result"
    }
   ],
   "source": [
    "query = \"\"\"\n",
    "SELECT *\n",
    "FROM `ironhacks-data.ironhacks_competition.wage_data`\n",
    "\"\"\"\n",
    "# QUERY THE DATA ONCE\n",
    "query_job = bigquery_client.query(query)\n",
    "wage_data = query_job.to_dataframe()\n",
    "wage_data.head()"
   ]
  },
  {
   "cell_type": "code",
   "execution_count": 37,
   "id": "3cf3f83f",
   "metadata": {
    "execution": {
     "iopub.execute_input": "2023-05-10T01:32:33.732093Z",
     "iopub.status.busy": "2023-05-10T01:32:33.731788Z",
     "iopub.status.idle": "2023-05-10T01:32:33.742313Z",
     "shell.execute_reply": "2023-05-10T01:32:33.741620Z"
    }
   },
   "outputs": [
    {
     "name": "stdout",
     "output_type": "stream",
     "text": [
      "<class 'pandas.core.frame.DataFrame'>\n",
      "RangeIndex: 525 entries, 0 to 524\n",
      "Data columns (total 5 columns):\n",
      " #   Column        Non-Null Count  Dtype  \n",
      "---  ------        --------------  -----  \n",
      " 0   uu_id         525 non-null    object \n",
      " 1   countyfips    525 non-null    Int64  \n",
      " 2   tract         525 non-null    Int64  \n",
      " 3   tract_name    525 non-null    object \n",
      " 4   average_wage  525 non-null    float64\n",
      "dtypes: Int64(2), float64(1), object(2)\n",
      "memory usage: 21.7+ KB\n"
     ]
    }
   ],
   "source": [
    "wage_data.info()"
   ]
  },
  {
   "cell_type": "code",
   "execution_count": 38,
   "id": "a9a279c4",
   "metadata": {
    "execution": {
     "iopub.execute_input": "2023-05-10T01:32:33.745797Z",
     "iopub.status.busy": "2023-05-10T01:32:33.745511Z",
     "iopub.status.idle": "2023-05-10T01:32:33.750572Z",
     "shell.execute_reply": "2023-05-10T01:32:33.750033Z"
    }
   },
   "outputs": [],
   "source": [
    "wage_data['average_wage'] = wage_data['average_wage'].fillna(wage_data.groupby('countyfips')['average_wage'].transform('mean'))"
   ]
  },
  {
   "cell_type": "code",
   "execution_count": 39,
   "id": "3ecf746f",
   "metadata": {
    "execution": {
     "iopub.execute_input": "2023-05-10T01:32:33.754153Z",
     "iopub.status.busy": "2023-05-10T01:32:33.753713Z",
     "iopub.status.idle": "2023-05-10T01:32:33.757657Z",
     "shell.execute_reply": "2023-05-10T01:32:33.757126Z"
    }
   },
   "outputs": [
    {
     "ename": "SyntaxError",
     "evalue": "EOL while scanning string literal (1578303965.py, line 1)",
     "output_type": "error",
     "traceback": [
      "\u001b[0;36m  Cell \u001b[0;32mIn [39], line 1\u001b[0;36m\u001b[0m\n\u001b[0;31m    final_data = unemp_data.merge(wage_data,how='left', on = 'uu_id)\u001b[0m\n\u001b[0m                                                                    ^\u001b[0m\n\u001b[0;31mSyntaxError\u001b[0m\u001b[0;31m:\u001b[0m EOL while scanning string literal\n"
     ]
    }
   ],
   "source": [
    "final_data = unemp_data.merge(wage_data,how='left', on = 'uu_id)\n",
    "final_data"
   ]
  },
  {
   "cell_type": "code",
   "execution_count": 40,
   "id": "3d906441",
   "metadata": {
    "execution": {
     "iopub.execute_input": "2023-05-10T01:32:33.760260Z",
     "iopub.status.busy": "2023-05-10T01:32:33.760092Z",
     "iopub.status.idle": "2023-05-10T01:32:33.789620Z",
     "shell.execute_reply": "2023-05-10T01:32:33.789238Z"
    }
   },
   "outputs": [
    {
     "data": {
      "text/html": [
       "<div>\n",
       "<style scoped>\n",
       "    .dataframe tbody tr th:only-of-type {\n",
       "        vertical-align: middle;\n",
       "    }\n",
       "\n",
       "    .dataframe tbody tr th {\n",
       "        vertical-align: top;\n",
       "    }\n",
       "\n",
       "    .dataframe thead th {\n",
       "        text-align: right;\n",
       "    }\n",
       "</style>\n",
       "<table border=\"1\" class=\"dataframe\">\n",
       "  <thead>\n",
       "    <tr style=\"text-align: right;\">\n",
       "      <th></th>\n",
       "      <th>uu_id</th>\n",
       "      <th>timeperiod</th>\n",
       "      <th>week_number</th>\n",
       "      <th>countyfips_x</th>\n",
       "      <th>tract_x</th>\n",
       "      <th>tract_name_x</th>\n",
       "      <th>total_claims</th>\n",
       "      <th>edu_8th_or_less</th>\n",
       "      <th>edu_grades_9_11</th>\n",
       "      <th>edu_hs_grad_equiv</th>\n",
       "      <th>...</th>\n",
       "      <th>race_asian</th>\n",
       "      <th>race_black</th>\n",
       "      <th>race_noanswer</th>\n",
       "      <th>race_hawaiiannative</th>\n",
       "      <th>race_other</th>\n",
       "      <th>race_white</th>\n",
       "      <th>countyfips_y</th>\n",
       "      <th>tract_y</th>\n",
       "      <th>tract_name_y</th>\n",
       "      <th>average_wage</th>\n",
       "    </tr>\n",
       "  </thead>\n",
       "  <tbody>\n",
       "    <tr>\n",
       "      <th>0</th>\n",
       "      <td>f013068de98db1470bd986137a0c6d23</td>\n",
       "      <td>20220416</td>\n",
       "      <td>16</td>\n",
       "      <td>18003</td>\n",
       "      <td>900</td>\n",
       "      <td>Census Tract 9, Allen County, Indiana</td>\n",
       "      <td>22</td>\n",
       "      <td>0</td>\n",
       "      <td>1</td>\n",
       "      <td>14</td>\n",
       "      <td>...</td>\n",
       "      <td>0</td>\n",
       "      <td>11</td>\n",
       "      <td>0</td>\n",
       "      <td>0</td>\n",
       "      <td>0</td>\n",
       "      <td>11</td>\n",
       "      <td>18003</td>\n",
       "      <td>900</td>\n",
       "      <td>Census Tract 9, Allen County, Indiana</td>\n",
       "      <td>8347.125000</td>\n",
       "    </tr>\n",
       "    <tr>\n",
       "      <th>1</th>\n",
       "      <td>21957d5517323845818d87623589e1ba</td>\n",
       "      <td>20220319</td>\n",
       "      <td>12</td>\n",
       "      <td>18089</td>\n",
       "      <td>10400</td>\n",
       "      <td>Census Tract 104, Lake County, Indiana</td>\n",
       "      <td>111</td>\n",
       "      <td>0</td>\n",
       "      <td>0</td>\n",
       "      <td>108</td>\n",
       "      <td>...</td>\n",
       "      <td>0</td>\n",
       "      <td>20</td>\n",
       "      <td>0</td>\n",
       "      <td>0</td>\n",
       "      <td>0</td>\n",
       "      <td>0</td>\n",
       "      <td>18089</td>\n",
       "      <td>10400</td>\n",
       "      <td>Census Tract 104, Lake County, Indiana</td>\n",
       "      <td>7036.636364</td>\n",
       "    </tr>\n",
       "    <tr>\n",
       "      <th>2</th>\n",
       "      <td>6a5609f385912113b6f1014b958ed748</td>\n",
       "      <td>20220326</td>\n",
       "      <td>13</td>\n",
       "      <td>18089</td>\n",
       "      <td>11500</td>\n",
       "      <td>Census Tract 115, Lake County, Indiana</td>\n",
       "      <td>39</td>\n",
       "      <td>0</td>\n",
       "      <td>0</td>\n",
       "      <td>22</td>\n",
       "      <td>...</td>\n",
       "      <td>0</td>\n",
       "      <td>39</td>\n",
       "      <td>0</td>\n",
       "      <td>0</td>\n",
       "      <td>0</td>\n",
       "      <td>0</td>\n",
       "      <td>18089</td>\n",
       "      <td>11500</td>\n",
       "      <td>Census Tract 115, Lake County, Indiana</td>\n",
       "      <td>7890.142857</td>\n",
       "    </tr>\n",
       "    <tr>\n",
       "      <th>3</th>\n",
       "      <td>46b2882ec4c373527ec33f7bd4f1388d</td>\n",
       "      <td>20220716</td>\n",
       "      <td>29</td>\n",
       "      <td>18089</td>\n",
       "      <td>20700</td>\n",
       "      <td>Census Tract 207, Lake County, Indiana</td>\n",
       "      <td>14</td>\n",
       "      <td>0</td>\n",
       "      <td>0</td>\n",
       "      <td>22</td>\n",
       "      <td>...</td>\n",
       "      <td>0</td>\n",
       "      <td>10</td>\n",
       "      <td>0</td>\n",
       "      <td>0</td>\n",
       "      <td>1</td>\n",
       "      <td>11</td>\n",
       "      <td>18089</td>\n",
       "      <td>20700</td>\n",
       "      <td>Census Tract 207, Lake County, Indiana</td>\n",
       "      <td>7534.375000</td>\n",
       "    </tr>\n",
       "    <tr>\n",
       "      <th>4</th>\n",
       "      <td>37495d17e82f7df326bfc2c4c090f7b7</td>\n",
       "      <td>20220409</td>\n",
       "      <td>15</td>\n",
       "      <td>18089</td>\n",
       "      <td>21900</td>\n",
       "      <td>Census Tract 219, Lake County, Indiana</td>\n",
       "      <td>155</td>\n",
       "      <td>0</td>\n",
       "      <td>0</td>\n",
       "      <td>69</td>\n",
       "      <td>...</td>\n",
       "      <td>0</td>\n",
       "      <td>135</td>\n",
       "      <td>0</td>\n",
       "      <td>0</td>\n",
       "      <td>1</td>\n",
       "      <td>11</td>\n",
       "      <td>18089</td>\n",
       "      <td>21900</td>\n",
       "      <td>Census Tract 219, Lake County, Indiana</td>\n",
       "      <td>11825.125000</td>\n",
       "    </tr>\n",
       "    <tr>\n",
       "      <th>...</th>\n",
       "      <td>...</td>\n",
       "      <td>...</td>\n",
       "      <td>...</td>\n",
       "      <td>...</td>\n",
       "      <td>...</td>\n",
       "      <td>...</td>\n",
       "      <td>...</td>\n",
       "      <td>...</td>\n",
       "      <td>...</td>\n",
       "      <td>...</td>\n",
       "      <td>...</td>\n",
       "      <td>...</td>\n",
       "      <td>...</td>\n",
       "      <td>...</td>\n",
       "      <td>...</td>\n",
       "      <td>...</td>\n",
       "      <td>...</td>\n",
       "      <td>...</td>\n",
       "      <td>...</td>\n",
       "      <td>...</td>\n",
       "      <td>...</td>\n",
       "    </tr>\n",
       "    <tr>\n",
       "      <th>16828</th>\n",
       "      <td>f35320206f3dd1ffc411e4ac127caf92</td>\n",
       "      <td>20220618</td>\n",
       "      <td>25</td>\n",
       "      <td>18163</td>\n",
       "      <td>3804</td>\n",
       "      <td>Census Tract 38.04, Vanderburgh County, Indiana</td>\n",
       "      <td>21</td>\n",
       "      <td>0</td>\n",
       "      <td>1</td>\n",
       "      <td>18</td>\n",
       "      <td>...</td>\n",
       "      <td>0</td>\n",
       "      <td>6</td>\n",
       "      <td>0</td>\n",
       "      <td>0</td>\n",
       "      <td>0</td>\n",
       "      <td>14</td>\n",
       "      <td>18163</td>\n",
       "      <td>3804</td>\n",
       "      <td>Census Tract 38.04, Vanderburgh County, Indiana</td>\n",
       "      <td>13163.083333</td>\n",
       "    </tr>\n",
       "    <tr>\n",
       "      <th>16829</th>\n",
       "      <td>f35320206f3dd1ffc411e4ac127caf92</td>\n",
       "      <td>20220827</td>\n",
       "      <td>35</td>\n",
       "      <td>18163</td>\n",
       "      <td>3804</td>\n",
       "      <td>Census Tract 38.04, Vanderburgh County, Indiana</td>\n",
       "      <td>22</td>\n",
       "      <td>0</td>\n",
       "      <td>1</td>\n",
       "      <td>13</td>\n",
       "      <td>...</td>\n",
       "      <td>0</td>\n",
       "      <td>6</td>\n",
       "      <td>0</td>\n",
       "      <td>0</td>\n",
       "      <td>0</td>\n",
       "      <td>15</td>\n",
       "      <td>18163</td>\n",
       "      <td>3804</td>\n",
       "      <td>Census Tract 38.04, Vanderburgh County, Indiana</td>\n",
       "      <td>13163.083333</td>\n",
       "    </tr>\n",
       "    <tr>\n",
       "      <th>16830</th>\n",
       "      <td>f35320206f3dd1ffc411e4ac127caf92</td>\n",
       "      <td>20220827</td>\n",
       "      <td>35</td>\n",
       "      <td>18163</td>\n",
       "      <td>3804</td>\n",
       "      <td>Census Tract 38.04, Vanderburgh County, Indiana</td>\n",
       "      <td>22</td>\n",
       "      <td>0</td>\n",
       "      <td>1</td>\n",
       "      <td>13</td>\n",
       "      <td>...</td>\n",
       "      <td>0</td>\n",
       "      <td>6</td>\n",
       "      <td>0</td>\n",
       "      <td>0</td>\n",
       "      <td>0</td>\n",
       "      <td>15</td>\n",
       "      <td>18163</td>\n",
       "      <td>3804</td>\n",
       "      <td>Census Tract 38.04, Vanderburgh County, Indiana</td>\n",
       "      <td>13163.083333</td>\n",
       "    </tr>\n",
       "    <tr>\n",
       "      <th>16831</th>\n",
       "      <td>bbcb018f0e5e49e13636f6e78ce9f60f</td>\n",
       "      <td>20220326</td>\n",
       "      <td>13</td>\n",
       "      <td>18163</td>\n",
       "      <td>10203</td>\n",
       "      <td>Census Tract 102.03, Vanderburgh County, Indiana</td>\n",
       "      <td>53</td>\n",
       "      <td>0</td>\n",
       "      <td>1</td>\n",
       "      <td>48</td>\n",
       "      <td>...</td>\n",
       "      <td>0</td>\n",
       "      <td>6</td>\n",
       "      <td>0</td>\n",
       "      <td>0</td>\n",
       "      <td>0</td>\n",
       "      <td>15</td>\n",
       "      <td>18163</td>\n",
       "      <td>10203</td>\n",
       "      <td>Census Tract 102.03, Vanderburgh County, Indiana</td>\n",
       "      <td>10040.111111</td>\n",
       "    </tr>\n",
       "    <tr>\n",
       "      <th>16832</th>\n",
       "      <td>bbcb018f0e5e49e13636f6e78ce9f60f</td>\n",
       "      <td>20220416</td>\n",
       "      <td>16</td>\n",
       "      <td>18163</td>\n",
       "      <td>10203</td>\n",
       "      <td>Census Tract 102.03, Vanderburgh County, Indiana</td>\n",
       "      <td>24</td>\n",
       "      <td>0</td>\n",
       "      <td>1</td>\n",
       "      <td>18</td>\n",
       "      <td>...</td>\n",
       "      <td>0</td>\n",
       "      <td>6</td>\n",
       "      <td>0</td>\n",
       "      <td>0</td>\n",
       "      <td>0</td>\n",
       "      <td>15</td>\n",
       "      <td>18163</td>\n",
       "      <td>10203</td>\n",
       "      <td>Census Tract 102.03, Vanderburgh County, Indiana</td>\n",
       "      <td>10040.111111</td>\n",
       "    </tr>\n",
       "  </tbody>\n",
       "</table>\n",
       "<p>16833 rows × 29 columns</p>\n",
       "</div>"
      ],
      "text/plain": [
       "                                  uu_id  timeperiod  week_number  \\\n",
       "0      f013068de98db1470bd986137a0c6d23    20220416           16   \n",
       "1      21957d5517323845818d87623589e1ba    20220319           12   \n",
       "2      6a5609f385912113b6f1014b958ed748    20220326           13   \n",
       "3      46b2882ec4c373527ec33f7bd4f1388d    20220716           29   \n",
       "4      37495d17e82f7df326bfc2c4c090f7b7    20220409           15   \n",
       "...                                 ...         ...          ...   \n",
       "16828  f35320206f3dd1ffc411e4ac127caf92    20220618           25   \n",
       "16829  f35320206f3dd1ffc411e4ac127caf92    20220827           35   \n",
       "16830  f35320206f3dd1ffc411e4ac127caf92    20220827           35   \n",
       "16831  bbcb018f0e5e49e13636f6e78ce9f60f    20220326           13   \n",
       "16832  bbcb018f0e5e49e13636f6e78ce9f60f    20220416           16   \n",
       "\n",
       "       countyfips_x  tract_x  \\\n",
       "0             18003      900   \n",
       "1             18089    10400   \n",
       "2             18089    11500   \n",
       "3             18089    20700   \n",
       "4             18089    21900   \n",
       "...             ...      ...   \n",
       "16828         18163     3804   \n",
       "16829         18163     3804   \n",
       "16830         18163     3804   \n",
       "16831         18163    10203   \n",
       "16832         18163    10203   \n",
       "\n",
       "                                           tract_name_x  total_claims  \\\n",
       "0                 Census Tract 9, Allen County, Indiana            22   \n",
       "1                Census Tract 104, Lake County, Indiana           111   \n",
       "2                Census Tract 115, Lake County, Indiana            39   \n",
       "3                Census Tract 207, Lake County, Indiana            14   \n",
       "4                Census Tract 219, Lake County, Indiana           155   \n",
       "...                                                 ...           ...   \n",
       "16828   Census Tract 38.04, Vanderburgh County, Indiana            21   \n",
       "16829   Census Tract 38.04, Vanderburgh County, Indiana            22   \n",
       "16830   Census Tract 38.04, Vanderburgh County, Indiana            22   \n",
       "16831  Census Tract 102.03, Vanderburgh County, Indiana            53   \n",
       "16832  Census Tract 102.03, Vanderburgh County, Indiana            24   \n",
       "\n",
       "       edu_8th_or_less  edu_grades_9_11  edu_hs_grad_equiv  ...  race_asian  \\\n",
       "0                    0                1                 14  ...           0   \n",
       "1                    0                0                108  ...           0   \n",
       "2                    0                0                 22  ...           0   \n",
       "3                    0                0                 22  ...           0   \n",
       "4                    0                0                 69  ...           0   \n",
       "...                ...              ...                ...  ...         ...   \n",
       "16828                0                1                 18  ...           0   \n",
       "16829                0                1                 13  ...           0   \n",
       "16830                0                1                 13  ...           0   \n",
       "16831                0                1                 48  ...           0   \n",
       "16832                0                1                 18  ...           0   \n",
       "\n",
       "       race_black race_noanswer race_hawaiiannative race_other  race_white  \\\n",
       "0              11             0                   0          0          11   \n",
       "1              20             0                   0          0           0   \n",
       "2              39             0                   0          0           0   \n",
       "3              10             0                   0          1          11   \n",
       "4             135             0                   0          1          11   \n",
       "...           ...           ...                 ...        ...         ...   \n",
       "16828           6             0                   0          0          14   \n",
       "16829           6             0                   0          0          15   \n",
       "16830           6             0                   0          0          15   \n",
       "16831           6             0                   0          0          15   \n",
       "16832           6             0                   0          0          15   \n",
       "\n",
       "       countyfips_y  tract_y  \\\n",
       "0             18003      900   \n",
       "1             18089    10400   \n",
       "2             18089    11500   \n",
       "3             18089    20700   \n",
       "4             18089    21900   \n",
       "...             ...      ...   \n",
       "16828         18163     3804   \n",
       "16829         18163     3804   \n",
       "16830         18163     3804   \n",
       "16831         18163    10203   \n",
       "16832         18163    10203   \n",
       "\n",
       "                                           tract_name_y  average_wage  \n",
       "0                 Census Tract 9, Allen County, Indiana   8347.125000  \n",
       "1                Census Tract 104, Lake County, Indiana   7036.636364  \n",
       "2                Census Tract 115, Lake County, Indiana   7890.142857  \n",
       "3                Census Tract 207, Lake County, Indiana   7534.375000  \n",
       "4                Census Tract 219, Lake County, Indiana  11825.125000  \n",
       "...                                                 ...           ...  \n",
       "16828   Census Tract 38.04, Vanderburgh County, Indiana  13163.083333  \n",
       "16829   Census Tract 38.04, Vanderburgh County, Indiana  13163.083333  \n",
       "16830   Census Tract 38.04, Vanderburgh County, Indiana  13163.083333  \n",
       "16831  Census Tract 102.03, Vanderburgh County, Indiana  10040.111111  \n",
       "16832  Census Tract 102.03, Vanderburgh County, Indiana  10040.111111  \n",
       "\n",
       "[16833 rows x 29 columns]"
      ]
     },
     "execution_count": 40,
     "metadata": {},
     "output_type": "execute_result"
    }
   ],
   "source": [
    "final_data = unemp_data.merge(wage_data,how='left', on = 'uu_id')\n",
    "final_data"
   ]
  },
  {
   "cell_type": "code",
   "execution_count": 41,
   "id": "319f9b2b",
   "metadata": {
    "execution": {
     "iopub.execute_input": "2023-05-10T01:32:33.791452Z",
     "iopub.status.busy": "2023-05-10T01:32:33.791315Z",
     "iopub.status.idle": "2023-05-10T01:32:33.800116Z",
     "shell.execute_reply": "2023-05-10T01:32:33.799795Z"
    }
   },
   "outputs": [],
   "source": [
    "final_data = unemp_data.merge(wage_data,how='left', on = 'uu_id')"
   ]
  },
  {
   "cell_type": "code",
   "execution_count": 42,
   "id": "e2719de8",
   "metadata": {
    "execution": {
     "iopub.execute_input": "2023-05-10T01:32:33.801803Z",
     "iopub.status.busy": "2023-05-10T01:32:33.801699Z",
     "iopub.status.idle": "2023-05-10T01:32:34.429735Z",
     "shell.execute_reply": "2023-05-10T01:32:34.429431Z"
    }
   },
   "outputs": [
    {
     "ename": "KeyError",
     "evalue": "\"['tract', 'tract_name'] not found in axis\"",
     "output_type": "error",
     "traceback": [
      "\u001b[0;31m---------------------------------------------------------------------------\u001b[0m",
      "\u001b[0;31mKeyError\u001b[0m                                  Traceback (most recent call last)",
      "Cell \u001b[0;32mIn [42], line 1\u001b[0m\n\u001b[0;32m----> 1\u001b[0m final_data1 \u001b[38;5;241m=\u001b[39m \u001b[43mfinal_data\u001b[49m\u001b[38;5;241;43m.\u001b[39;49m\u001b[43mdrop\u001b[49m\u001b[43m(\u001b[49m\u001b[43m[\u001b[49m\u001b[38;5;124;43m'\u001b[39;49m\u001b[38;5;124;43mtimeperiod\u001b[39;49m\u001b[38;5;124;43m'\u001b[39;49m\u001b[43m,\u001b[49m\u001b[38;5;124;43m'\u001b[39;49m\u001b[38;5;124;43mtract\u001b[39;49m\u001b[38;5;124;43m'\u001b[39;49m\u001b[43m,\u001b[49m\u001b[38;5;124;43m'\u001b[39;49m\u001b[38;5;124;43mtract_name\u001b[39;49m\u001b[38;5;124;43m'\u001b[39;49m\u001b[43m]\u001b[49m\u001b[43m,\u001b[49m\u001b[43maxis\u001b[49m\u001b[38;5;241;43m=\u001b[39;49m\u001b[38;5;241;43m1\u001b[39;49m\u001b[43m)\u001b[49m\n",
      "File \u001b[0;32m/opt/homebrew/lib/python3.9/site-packages/pandas/util/_decorators.py:331\u001b[0m, in \u001b[0;36mdeprecate_nonkeyword_arguments.<locals>.decorate.<locals>.wrapper\u001b[0;34m(*args, **kwargs)\u001b[0m\n\u001b[1;32m    325\u001b[0m \u001b[38;5;28;01mif\u001b[39;00m \u001b[38;5;28mlen\u001b[39m(args) \u001b[38;5;241m>\u001b[39m num_allow_args:\n\u001b[1;32m    326\u001b[0m     warnings\u001b[38;5;241m.\u001b[39mwarn(\n\u001b[1;32m    327\u001b[0m         msg\u001b[38;5;241m.\u001b[39mformat(arguments\u001b[38;5;241m=\u001b[39m_format_argument_list(allow_args)),\n\u001b[1;32m    328\u001b[0m         \u001b[38;5;167;01mFutureWarning\u001b[39;00m,\n\u001b[1;32m    329\u001b[0m         stacklevel\u001b[38;5;241m=\u001b[39mfind_stack_level(),\n\u001b[1;32m    330\u001b[0m     )\n\u001b[0;32m--> 331\u001b[0m \u001b[38;5;28;01mreturn\u001b[39;00m \u001b[43mfunc\u001b[49m\u001b[43m(\u001b[49m\u001b[38;5;241;43m*\u001b[39;49m\u001b[43margs\u001b[49m\u001b[43m,\u001b[49m\u001b[43m \u001b[49m\u001b[38;5;241;43m*\u001b[39;49m\u001b[38;5;241;43m*\u001b[39;49m\u001b[43mkwargs\u001b[49m\u001b[43m)\u001b[49m\n",
      "File \u001b[0;32m/opt/homebrew/lib/python3.9/site-packages/pandas/core/frame.py:5388\u001b[0m, in \u001b[0;36mDataFrame.drop\u001b[0;34m(self, labels, axis, index, columns, level, inplace, errors)\u001b[0m\n\u001b[1;32m   5240\u001b[0m \u001b[38;5;129m@deprecate_nonkeyword_arguments\u001b[39m(version\u001b[38;5;241m=\u001b[39m\u001b[38;5;28;01mNone\u001b[39;00m, allowed_args\u001b[38;5;241m=\u001b[39m[\u001b[38;5;124m\"\u001b[39m\u001b[38;5;124mself\u001b[39m\u001b[38;5;124m\"\u001b[39m, \u001b[38;5;124m\"\u001b[39m\u001b[38;5;124mlabels\u001b[39m\u001b[38;5;124m\"\u001b[39m])\n\u001b[1;32m   5241\u001b[0m \u001b[38;5;28;01mdef\u001b[39;00m \u001b[38;5;21mdrop\u001b[39m(  \u001b[38;5;66;03m# type: ignore[override]\u001b[39;00m\n\u001b[1;32m   5242\u001b[0m     \u001b[38;5;28mself\u001b[39m,\n\u001b[0;32m   (...)\u001b[0m\n\u001b[1;32m   5249\u001b[0m     errors: IgnoreRaise \u001b[38;5;241m=\u001b[39m \u001b[38;5;124m\"\u001b[39m\u001b[38;5;124mraise\u001b[39m\u001b[38;5;124m\"\u001b[39m,\n\u001b[1;32m   5250\u001b[0m ) \u001b[38;5;241m-\u001b[39m\u001b[38;5;241m>\u001b[39m DataFrame \u001b[38;5;241m|\u001b[39m \u001b[38;5;28;01mNone\u001b[39;00m:\n\u001b[1;32m   5251\u001b[0m     \u001b[38;5;124;03m\"\"\"\u001b[39;00m\n\u001b[1;32m   5252\u001b[0m \u001b[38;5;124;03m    Drop specified labels from rows or columns.\u001b[39;00m\n\u001b[1;32m   5253\u001b[0m \n\u001b[0;32m   (...)\u001b[0m\n\u001b[1;32m   5386\u001b[0m \u001b[38;5;124;03m            weight  1.0     0.8\u001b[39;00m\n\u001b[1;32m   5387\u001b[0m \u001b[38;5;124;03m    \"\"\"\u001b[39;00m\n\u001b[0;32m-> 5388\u001b[0m     \u001b[38;5;28;01mreturn\u001b[39;00m \u001b[38;5;28;43msuper\u001b[39;49m\u001b[43m(\u001b[49m\u001b[43m)\u001b[49m\u001b[38;5;241;43m.\u001b[39;49m\u001b[43mdrop\u001b[49m\u001b[43m(\u001b[49m\n\u001b[1;32m   5389\u001b[0m \u001b[43m        \u001b[49m\u001b[43mlabels\u001b[49m\u001b[38;5;241;43m=\u001b[39;49m\u001b[43mlabels\u001b[49m\u001b[43m,\u001b[49m\n\u001b[1;32m   5390\u001b[0m \u001b[43m        \u001b[49m\u001b[43maxis\u001b[49m\u001b[38;5;241;43m=\u001b[39;49m\u001b[43maxis\u001b[49m\u001b[43m,\u001b[49m\n\u001b[1;32m   5391\u001b[0m \u001b[43m        \u001b[49m\u001b[43mindex\u001b[49m\u001b[38;5;241;43m=\u001b[39;49m\u001b[43mindex\u001b[49m\u001b[43m,\u001b[49m\n\u001b[1;32m   5392\u001b[0m \u001b[43m        \u001b[49m\u001b[43mcolumns\u001b[49m\u001b[38;5;241;43m=\u001b[39;49m\u001b[43mcolumns\u001b[49m\u001b[43m,\u001b[49m\n\u001b[1;32m   5393\u001b[0m \u001b[43m        \u001b[49m\u001b[43mlevel\u001b[49m\u001b[38;5;241;43m=\u001b[39;49m\u001b[43mlevel\u001b[49m\u001b[43m,\u001b[49m\n\u001b[1;32m   5394\u001b[0m \u001b[43m        \u001b[49m\u001b[43minplace\u001b[49m\u001b[38;5;241;43m=\u001b[39;49m\u001b[43minplace\u001b[49m\u001b[43m,\u001b[49m\n\u001b[1;32m   5395\u001b[0m \u001b[43m        \u001b[49m\u001b[43merrors\u001b[49m\u001b[38;5;241;43m=\u001b[39;49m\u001b[43merrors\u001b[49m\u001b[43m,\u001b[49m\n\u001b[1;32m   5396\u001b[0m \u001b[43m    \u001b[49m\u001b[43m)\u001b[49m\n",
      "File \u001b[0;32m/opt/homebrew/lib/python3.9/site-packages/pandas/util/_decorators.py:331\u001b[0m, in \u001b[0;36mdeprecate_nonkeyword_arguments.<locals>.decorate.<locals>.wrapper\u001b[0;34m(*args, **kwargs)\u001b[0m\n\u001b[1;32m    325\u001b[0m \u001b[38;5;28;01mif\u001b[39;00m \u001b[38;5;28mlen\u001b[39m(args) \u001b[38;5;241m>\u001b[39m num_allow_args:\n\u001b[1;32m    326\u001b[0m     warnings\u001b[38;5;241m.\u001b[39mwarn(\n\u001b[1;32m    327\u001b[0m         msg\u001b[38;5;241m.\u001b[39mformat(arguments\u001b[38;5;241m=\u001b[39m_format_argument_list(allow_args)),\n\u001b[1;32m    328\u001b[0m         \u001b[38;5;167;01mFutureWarning\u001b[39;00m,\n\u001b[1;32m    329\u001b[0m         stacklevel\u001b[38;5;241m=\u001b[39mfind_stack_level(),\n\u001b[1;32m    330\u001b[0m     )\n\u001b[0;32m--> 331\u001b[0m \u001b[38;5;28;01mreturn\u001b[39;00m \u001b[43mfunc\u001b[49m\u001b[43m(\u001b[49m\u001b[38;5;241;43m*\u001b[39;49m\u001b[43margs\u001b[49m\u001b[43m,\u001b[49m\u001b[43m \u001b[49m\u001b[38;5;241;43m*\u001b[39;49m\u001b[38;5;241;43m*\u001b[39;49m\u001b[43mkwargs\u001b[49m\u001b[43m)\u001b[49m\n",
      "File \u001b[0;32m/opt/homebrew/lib/python3.9/site-packages/pandas/core/generic.py:4505\u001b[0m, in \u001b[0;36mNDFrame.drop\u001b[0;34m(self, labels, axis, index, columns, level, inplace, errors)\u001b[0m\n\u001b[1;32m   4503\u001b[0m \u001b[38;5;28;01mfor\u001b[39;00m axis, labels \u001b[38;5;129;01min\u001b[39;00m axes\u001b[38;5;241m.\u001b[39mitems():\n\u001b[1;32m   4504\u001b[0m     \u001b[38;5;28;01mif\u001b[39;00m labels \u001b[38;5;129;01mis\u001b[39;00m \u001b[38;5;129;01mnot\u001b[39;00m \u001b[38;5;28;01mNone\u001b[39;00m:\n\u001b[0;32m-> 4505\u001b[0m         obj \u001b[38;5;241m=\u001b[39m \u001b[43mobj\u001b[49m\u001b[38;5;241;43m.\u001b[39;49m\u001b[43m_drop_axis\u001b[49m\u001b[43m(\u001b[49m\u001b[43mlabels\u001b[49m\u001b[43m,\u001b[49m\u001b[43m \u001b[49m\u001b[43maxis\u001b[49m\u001b[43m,\u001b[49m\u001b[43m \u001b[49m\u001b[43mlevel\u001b[49m\u001b[38;5;241;43m=\u001b[39;49m\u001b[43mlevel\u001b[49m\u001b[43m,\u001b[49m\u001b[43m \u001b[49m\u001b[43merrors\u001b[49m\u001b[38;5;241;43m=\u001b[39;49m\u001b[43merrors\u001b[49m\u001b[43m)\u001b[49m\n\u001b[1;32m   4507\u001b[0m \u001b[38;5;28;01mif\u001b[39;00m inplace:\n\u001b[1;32m   4508\u001b[0m     \u001b[38;5;28mself\u001b[39m\u001b[38;5;241m.\u001b[39m_update_inplace(obj)\n",
      "File \u001b[0;32m/opt/homebrew/lib/python3.9/site-packages/pandas/core/generic.py:4546\u001b[0m, in \u001b[0;36mNDFrame._drop_axis\u001b[0;34m(self, labels, axis, level, errors, only_slice)\u001b[0m\n\u001b[1;32m   4544\u001b[0m         new_axis \u001b[38;5;241m=\u001b[39m axis\u001b[38;5;241m.\u001b[39mdrop(labels, level\u001b[38;5;241m=\u001b[39mlevel, errors\u001b[38;5;241m=\u001b[39merrors)\n\u001b[1;32m   4545\u001b[0m     \u001b[38;5;28;01melse\u001b[39;00m:\n\u001b[0;32m-> 4546\u001b[0m         new_axis \u001b[38;5;241m=\u001b[39m \u001b[43maxis\u001b[49m\u001b[38;5;241;43m.\u001b[39;49m\u001b[43mdrop\u001b[49m\u001b[43m(\u001b[49m\u001b[43mlabels\u001b[49m\u001b[43m,\u001b[49m\u001b[43m \u001b[49m\u001b[43merrors\u001b[49m\u001b[38;5;241;43m=\u001b[39;49m\u001b[43merrors\u001b[49m\u001b[43m)\u001b[49m\n\u001b[1;32m   4547\u001b[0m     indexer \u001b[38;5;241m=\u001b[39m axis\u001b[38;5;241m.\u001b[39mget_indexer(new_axis)\n\u001b[1;32m   4549\u001b[0m \u001b[38;5;66;03m# Case for non-unique axis\u001b[39;00m\n\u001b[1;32m   4550\u001b[0m \u001b[38;5;28;01melse\u001b[39;00m:\n",
      "File \u001b[0;32m/opt/homebrew/lib/python3.9/site-packages/pandas/core/indexes/base.py:6975\u001b[0m, in \u001b[0;36mIndex.drop\u001b[0;34m(self, labels, errors)\u001b[0m\n\u001b[1;32m   6973\u001b[0m \u001b[38;5;28;01mif\u001b[39;00m mask\u001b[38;5;241m.\u001b[39many():\n\u001b[1;32m   6974\u001b[0m     \u001b[38;5;28;01mif\u001b[39;00m errors \u001b[38;5;241m!=\u001b[39m \u001b[38;5;124m\"\u001b[39m\u001b[38;5;124mignore\u001b[39m\u001b[38;5;124m\"\u001b[39m:\n\u001b[0;32m-> 6975\u001b[0m         \u001b[38;5;28;01mraise\u001b[39;00m \u001b[38;5;167;01mKeyError\u001b[39;00m(\u001b[38;5;124mf\u001b[39m\u001b[38;5;124m\"\u001b[39m\u001b[38;5;132;01m{\u001b[39;00m\u001b[38;5;28mlist\u001b[39m(labels[mask])\u001b[38;5;132;01m}\u001b[39;00m\u001b[38;5;124m not found in axis\u001b[39m\u001b[38;5;124m\"\u001b[39m)\n\u001b[1;32m   6976\u001b[0m     indexer \u001b[38;5;241m=\u001b[39m indexer[\u001b[38;5;241m~\u001b[39mmask]\n\u001b[1;32m   6977\u001b[0m \u001b[38;5;28;01mreturn\u001b[39;00m \u001b[38;5;28mself\u001b[39m\u001b[38;5;241m.\u001b[39mdelete(indexer)\n",
      "\u001b[0;31mKeyError\u001b[0m: \"['tract', 'tract_name'] not found in axis\""
     ]
    }
   ],
   "source": [
    "final_data1 = final_data.drop(['timeperiod','tract','tract_name'],axis=1)"
   ]
  },
  {
   "cell_type": "code",
   "execution_count": 43,
   "id": "2b65db92",
   "metadata": {
    "execution": {
     "iopub.execute_input": "2023-05-10T01:32:34.431350Z",
     "iopub.status.busy": "2023-05-10T01:32:34.431238Z",
     "iopub.status.idle": "2023-05-10T01:32:34.442164Z",
     "shell.execute_reply": "2023-05-10T01:32:34.441914Z"
    }
   },
   "outputs": [
    {
     "name": "stdout",
     "output_type": "stream",
     "text": [
      "<class 'pandas.core.frame.DataFrame'>\n",
      "Int64Index: 16833 entries, 0 to 16832\n",
      "Data columns (total 29 columns):\n",
      " #   Column                  Non-Null Count  Dtype  \n",
      "---  ------                  --------------  -----  \n",
      " 0   uu_id                   16833 non-null  object \n",
      " 1   timeperiod              16833 non-null  Int64  \n",
      " 2   week_number             16833 non-null  Int64  \n",
      " 3   countyfips_x            16833 non-null  Int64  \n",
      " 4   tract_x                 16833 non-null  Int64  \n",
      " 5   tract_name_x            16833 non-null  object \n",
      " 6   total_claims            16833 non-null  Int64  \n",
      " 7   edu_8th_or_less         16833 non-null  Int64  \n",
      " 8   edu_grades_9_11         16833 non-null  Int64  \n",
      " 9   edu_hs_grad_equiv       16833 non-null  Int64  \n",
      " 10  edu_post_hs             16833 non-null  float64\n",
      " 11  edu_unknown             16833 non-null  Int64  \n",
      " 12  top_category_employer1  16833 non-null  object \n",
      " 13  top_category_employer2  16833 non-null  object \n",
      " 14  top_category_employer3  16833 non-null  object \n",
      " 15  gender_female           16833 non-null  float64\n",
      " 16  gender_male             16833 non-null  float64\n",
      " 17  gender_na               16833 non-null  Int64  \n",
      " 18  race_amerindian         16833 non-null  Int64  \n",
      " 19  race_asian              16833 non-null  Int64  \n",
      " 20  race_black              16833 non-null  Int64  \n",
      " 21  race_noanswer           16833 non-null  Int64  \n",
      " 22  race_hawaiiannative     16833 non-null  Int64  \n",
      " 23  race_other              16833 non-null  Int64  \n",
      " 24  race_white              16833 non-null  Int64  \n",
      " 25  countyfips_y            16833 non-null  Int64  \n",
      " 26  tract_y                 16833 non-null  Int64  \n",
      " 27  tract_name_y            16833 non-null  object \n",
      " 28  average_wage            16833 non-null  float64\n",
      "dtypes: Int64(19), float64(4), object(6)\n",
      "memory usage: 4.2+ MB\n"
     ]
    }
   ],
   "source": [
    "final_data.info()"
   ]
  },
  {
   "cell_type": "code",
   "execution_count": 44,
   "id": "b5bfeee5",
   "metadata": {
    "execution": {
     "iopub.execute_input": "2023-05-10T01:32:34.443590Z",
     "iopub.status.busy": "2023-05-10T01:32:34.443502Z",
     "iopub.status.idle": "2023-05-10T01:32:34.446115Z",
     "shell.execute_reply": "2023-05-10T01:32:34.445875Z"
    }
   },
   "outputs": [],
   "source": [
    "final_data1 = final_data.drop(['timeperiod','tract_x','tract_name_x','tract_y','tract_name_y','countyfips_y'],axis=1)"
   ]
  },
  {
   "cell_type": "markdown",
   "id": "58af444b",
   "metadata": {},
   "source": [
    "#Modelling"
   ]
  },
  {
   "cell_type": "code",
   "execution_count": 45,
   "id": "faaacf00",
   "metadata": {
    "execution": {
     "iopub.execute_input": "2023-05-10T01:32:34.447465Z",
     "iopub.status.busy": "2023-05-10T01:32:34.447384Z",
     "iopub.status.idle": "2023-05-10T01:32:34.449956Z",
     "shell.execute_reply": "2023-05-10T01:32:34.449716Z"
    }
   },
   "outputs": [],
   "source": [
    "final_data1 = final_data.drop(['timeperiod','tract_x','tract_name_x','tract_y','tract_name_y','countyfips_y','uu_id'],axis=1)"
   ]
  },
  {
   "cell_type": "code",
   "execution_count": 46,
   "id": "ae99e9d3",
   "metadata": {
    "execution": {
     "iopub.execute_input": "2023-05-10T01:32:34.451342Z",
     "iopub.status.busy": "2023-05-10T01:32:34.451259Z",
     "iopub.status.idle": "2023-05-10T01:32:34.461785Z",
     "shell.execute_reply": "2023-05-10T01:32:34.461516Z"
    }
   },
   "outputs": [],
   "source": [
    "fin = pd.get_dummies(final_data1,columns = ['week_number','countyfips_x','top_category_employer1','top_category_employer2','top_category_employer3'])"
   ]
  },
  {
   "cell_type": "code",
   "execution_count": 47,
   "id": "98db1a71",
   "metadata": {
    "execution": {
     "iopub.execute_input": "2023-05-10T01:32:34.463211Z",
     "iopub.status.busy": "2023-05-10T01:32:34.463128Z",
     "iopub.status.idle": "2023-05-10T01:32:34.469645Z",
     "shell.execute_reply": "2023-05-10T01:32:34.469367Z"
    }
   },
   "outputs": [
    {
     "ename": "TypeError",
     "evalue": "'tuple' object is not callable",
     "output_type": "error",
     "traceback": [
      "\u001b[0;31m---------------------------------------------------------------------------\u001b[0m",
      "\u001b[0;31mTypeError\u001b[0m                                 Traceback (most recent call last)",
      "Cell \u001b[0;32mIn [47], line 1\u001b[0m\n\u001b[0;32m----> 1\u001b[0m \u001b[43mfin\u001b[49m\u001b[38;5;241;43m.\u001b[39;49m\u001b[43mshape\u001b[49m\u001b[43m(\u001b[49m\u001b[43m)\u001b[49m\n",
      "\u001b[0;31mTypeError\u001b[0m: 'tuple' object is not callable"
     ]
    }
   ],
   "source": [
    "fin.shape()"
   ]
  },
  {
   "cell_type": "code",
   "execution_count": 48,
   "id": "af456226",
   "metadata": {
    "execution": {
     "iopub.execute_input": "2023-05-10T01:32:34.471360Z",
     "iopub.status.busy": "2023-05-10T01:32:34.471234Z",
     "iopub.status.idle": "2023-05-10T01:32:34.473458Z",
     "shell.execute_reply": "2023-05-10T01:32:34.473199Z"
    }
   },
   "outputs": [
    {
     "data": {
      "text/plain": [
       "(16833, 175)"
      ]
     },
     "execution_count": 48,
     "metadata": {},
     "output_type": "execute_result"
    }
   ],
   "source": [
    "fin.shape"
   ]
  },
  {
   "cell_type": "code",
   "execution_count": 49,
   "id": "73b49496",
   "metadata": {
    "execution": {
     "iopub.execute_input": "2023-05-10T01:32:34.474759Z",
     "iopub.status.busy": "2023-05-10T01:32:34.474660Z",
     "iopub.status.idle": "2023-05-10T01:32:34.477665Z",
     "shell.execute_reply": "2023-05-10T01:32:34.477226Z"
    }
   },
   "outputs": [],
   "source": [
    "X = fin.drop(['total_claims'],axis=1)\n",
    "Y = fin['total_claims']"
   ]
  },
  {
   "cell_type": "code",
   "execution_count": 50,
   "id": "57e9779a",
   "metadata": {
    "execution": {
     "iopub.execute_input": "2023-05-10T01:32:34.479224Z",
     "iopub.status.busy": "2023-05-10T01:32:34.479135Z",
     "iopub.status.idle": "2023-05-10T01:32:35.937721Z",
     "shell.execute_reply": "2023-05-10T01:32:35.936867Z"
    }
   },
   "outputs": [],
   "source": [
    "from sklearn.decomposition import PCA\n",
    "pca = PCA(n_components=50)\n",
    "principalComponents = pca.fit_transform(X)"
   ]
  },
  {
   "cell_type": "code",
   "execution_count": 51,
   "id": "205b5886",
   "metadata": {
    "execution": {
     "iopub.execute_input": "2023-05-10T01:32:35.942076Z",
     "iopub.status.busy": "2023-05-10T01:32:35.941573Z",
     "iopub.status.idle": "2023-05-10T01:32:35.947123Z",
     "shell.execute_reply": "2023-05-10T01:32:35.946320Z"
    }
   },
   "outputs": [
    {
     "data": {
      "text/plain": [
       "array([[-3.34822986e+03, -2.64007018e+00, -3.16860568e+00, ...,\n",
       "         2.89784363e-01,  1.35329082e-01, -2.23108996e-01],\n",
       "       [-4.65874176e+03,  6.55827964e+01,  3.57040468e+01, ...,\n",
       "        -1.18087856e-01, -9.90654936e-03, -1.76582605e-02],\n",
       "       [-3.80523585e+03,  2.39696662e+01, -1.79858245e+01, ...,\n",
       "        -4.06602636e-02, -1.62765678e-01,  4.33400519e-02],\n",
       "       ...,\n",
       "       [ 1.46773188e+03, -7.22179003e+00, -3.28672487e+00, ...,\n",
       "        -2.12252790e-01, -1.28403730e-01,  1.45835934e-01],\n",
       "       [-1.65524425e+03,  5.45629141e+00,  1.17897046e+01, ...,\n",
       "        -1.44102457e-01,  1.21108940e-02,  1.42642712e-01],\n",
       "       [-1.65524023e+03, -9.07100561e+00, -1.50430472e+00, ...,\n",
       "        -1.49132155e-01,  2.77319994e-02, -5.26415533e-02]])"
      ]
     },
     "execution_count": 51,
     "metadata": {},
     "output_type": "execute_result"
    }
   ],
   "source": [
    "principalComponents"
   ]
  },
  {
   "cell_type": "code",
   "execution_count": 52,
   "id": "cb61d9d6",
   "metadata": {
    "execution": {
     "iopub.execute_input": "2023-05-10T01:32:35.950331Z",
     "iopub.status.busy": "2023-05-10T01:32:35.950048Z",
     "iopub.status.idle": "2023-05-10T01:32:35.955600Z",
     "shell.execute_reply": "2023-05-10T01:32:35.953256Z"
    }
   },
   "outputs": [],
   "source": [
    "df_X = pd.DataFrame(principalComponents)"
   ]
  },
  {
   "cell_type": "code",
   "execution_count": 53,
   "id": "b5a57243",
   "metadata": {
    "execution": {
     "iopub.execute_input": "2023-05-10T01:32:35.958862Z",
     "iopub.status.busy": "2023-05-10T01:32:35.958577Z",
     "iopub.status.idle": "2023-05-10T01:32:35.982021Z",
     "shell.execute_reply": "2023-05-10T01:32:35.981274Z"
    }
   },
   "outputs": [],
   "source": [
    "from sklearn.model_selection import train_test_split\n",
    "from sklearn.linear_model import LinearRegression\n",
    "from sklearn.feature_selection import RFE\n",
    "X_train, X_test,Y_train, Y_test = train_test_split(X,Y,test_size = 0.2, random_state=28)"
   ]
  },
  {
   "cell_type": "code",
   "execution_count": 54,
   "id": "518a9fed",
   "metadata": {
    "execution": {
     "iopub.execute_input": "2023-05-10T01:32:35.985664Z",
     "iopub.status.busy": "2023-05-10T01:32:35.985363Z",
     "iopub.status.idle": "2023-05-10T01:32:36.237519Z",
     "shell.execute_reply": "2023-05-10T01:32:36.237270Z"
    }
   },
   "outputs": [
    {
     "ename": "NameError",
     "evalue": "name 'model' is not defined",
     "output_type": "error",
     "traceback": [
      "\u001b[0;31m---------------------------------------------------------------------------\u001b[0m",
      "\u001b[0;31mNameError\u001b[0m                                 Traceback (most recent call last)",
      "Cell \u001b[0;32mIn [54], line 2\u001b[0m\n\u001b[1;32m      1\u001b[0m lm \u001b[38;5;241m=\u001b[39m LinearRegression()\u001b[38;5;241m.\u001b[39mfit(X_train,Y_train)\n\u001b[0;32m----> 2\u001b[0m prediction \u001b[38;5;241m=\u001b[39m \u001b[43mmodel\u001b[49m\u001b[38;5;241m.\u001b[39mpredict(X_test)\n",
      "\u001b[0;31mNameError\u001b[0m: name 'model' is not defined"
     ]
    }
   ],
   "source": [
    "lm = LinearRegression().fit(X_train,Y_train)\n",
    "prediction = model.predict(X_test)"
   ]
  },
  {
   "cell_type": "code",
   "execution_count": 55,
   "id": "70885ded",
   "metadata": {
    "execution": {
     "iopub.execute_input": "2023-05-10T01:32:36.239100Z",
     "iopub.status.busy": "2023-05-10T01:32:36.238990Z",
     "iopub.status.idle": "2023-05-10T01:32:36.341419Z",
     "shell.execute_reply": "2023-05-10T01:32:36.340241Z"
    }
   },
   "outputs": [],
   "source": [
    "lm = LinearRegression().fit(X_train,Y_train)\n",
    "prediction = lm.predict(X_test)"
   ]
  },
  {
   "cell_type": "code",
   "execution_count": 56,
   "id": "eee7a5ca",
   "metadata": {
    "execution": {
     "iopub.execute_input": "2023-05-10T01:32:36.346203Z",
     "iopub.status.busy": "2023-05-10T01:32:36.345556Z",
     "iopub.status.idle": "2023-05-10T01:32:36.361670Z",
     "shell.execute_reply": "2023-05-10T01:32:36.360995Z"
    }
   },
   "outputs": [
    {
     "data": {
      "text/plain": [
       "0.7275411262156158"
      ]
     },
     "execution_count": 56,
     "metadata": {},
     "output_type": "execute_result"
    }
   ],
   "source": [
    "lm.score(X_test, Y_test)"
   ]
  },
  {
   "cell_type": "code",
   "execution_count": 57,
   "id": "ba958506",
   "metadata": {
    "execution": {
     "iopub.execute_input": "2023-05-10T01:32:36.366129Z",
     "iopub.status.busy": "2023-05-10T01:32:36.365614Z",
     "iopub.status.idle": "2023-05-10T01:32:36.378786Z",
     "shell.execute_reply": "2023-05-10T01:32:36.377961Z"
    }
   },
   "outputs": [],
   "source": [
    "from sklearn.model_selection import train_test_split\n",
    "from sklearn.linear_model import LinearRegression\n",
    "X_train, X_test,Y_train, Y_test = train_test_split(df_X,Y,test_size = 0.2, random_state=28)"
   ]
  },
  {
   "cell_type": "code",
   "execution_count": 58,
   "id": "2262e1f9",
   "metadata": {
    "execution": {
     "iopub.execute_input": "2023-05-10T01:32:36.383588Z",
     "iopub.status.busy": "2023-05-10T01:32:36.383058Z",
     "iopub.status.idle": "2023-05-10T01:32:36.514676Z",
     "shell.execute_reply": "2023-05-10T01:32:36.513764Z"
    }
   },
   "outputs": [],
   "source": [
    "lm = LinearRegression().fit(X_train,Y_train)\n",
    "prediction = lm.predict(X_test)"
   ]
  },
  {
   "cell_type": "code",
   "execution_count": 59,
   "id": "08e53c37",
   "metadata": {
    "execution": {
     "iopub.execute_input": "2023-05-10T01:32:36.519179Z",
     "iopub.status.busy": "2023-05-10T01:32:36.518733Z",
     "iopub.status.idle": "2023-05-10T01:32:36.528967Z",
     "shell.execute_reply": "2023-05-10T01:32:36.528214Z"
    }
   },
   "outputs": [
    {
     "data": {
      "text/plain": [
       "0.6878504303520505"
      ]
     },
     "execution_count": 59,
     "metadata": {},
     "output_type": "execute_result"
    }
   ],
   "source": [
    "lm.score(X_test, Y_test)"
   ]
  },
  {
   "cell_type": "code",
   "execution_count": 60,
   "id": "142d19c4",
   "metadata": {
    "execution": {
     "iopub.execute_input": "2023-05-10T01:32:36.533134Z",
     "iopub.status.busy": "2023-05-10T01:32:36.532439Z",
     "iopub.status.idle": "2023-05-10T01:32:36.803601Z",
     "shell.execute_reply": "2023-05-10T01:32:36.802801Z"
    }
   },
   "outputs": [],
   "source": [
    "from sklearn.decomposition import PCA\n",
    "pca = PCA(n_components=10)\n",
    "principalComponents = pca.fit_transform(X)"
   ]
  },
  {
   "cell_type": "code",
   "execution_count": 61,
   "id": "a4f6c256",
   "metadata": {
    "execution": {
     "iopub.execute_input": "2023-05-10T01:32:36.808191Z",
     "iopub.status.busy": "2023-05-10T01:32:36.807873Z",
     "iopub.status.idle": "2023-05-10T01:32:36.812538Z",
     "shell.execute_reply": "2023-05-10T01:32:36.811109Z"
    }
   },
   "outputs": [],
   "source": [
    "df_X = pd.DataFrame(principalComponents)"
   ]
  },
  {
   "cell_type": "code",
   "execution_count": 62,
   "id": "b5dd7abe",
   "metadata": {
    "execution": {
     "iopub.execute_input": "2023-05-10T01:32:36.816582Z",
     "iopub.status.busy": "2023-05-10T01:32:36.816239Z",
     "iopub.status.idle": "2023-05-10T01:32:36.825071Z",
     "shell.execute_reply": "2023-05-10T01:32:36.823844Z"
    }
   },
   "outputs": [],
   "source": [
    "from sklearn.model_selection import train_test_split\n",
    "from sklearn.linear_model import LinearRegression\n",
    "X_train, X_test,Y_train, Y_test = train_test_split(df_X,Y,test_size = 0.2, random_state=28)"
   ]
  },
  {
   "cell_type": "code",
   "execution_count": 63,
   "id": "b75fc976",
   "metadata": {
    "execution": {
     "iopub.execute_input": "2023-05-10T01:32:36.829301Z",
     "iopub.status.busy": "2023-05-10T01:32:36.828974Z",
     "iopub.status.idle": "2023-05-10T01:32:36.851862Z",
     "shell.execute_reply": "2023-05-10T01:32:36.851132Z"
    }
   },
   "outputs": [],
   "source": [
    "lm = LinearRegression().fit(X_train,Y_train)\n",
    "prediction = lm.predict(X_test)"
   ]
  },
  {
   "cell_type": "code",
   "execution_count": 64,
   "id": "39e33220",
   "metadata": {
    "execution": {
     "iopub.execute_input": "2023-05-10T01:32:36.856305Z",
     "iopub.status.busy": "2023-05-10T01:32:36.856002Z",
     "iopub.status.idle": "2023-05-10T01:32:36.866064Z",
     "shell.execute_reply": "2023-05-10T01:32:36.865358Z"
    }
   },
   "outputs": [
    {
     "data": {
      "text/plain": [
       "0.6544127729762899"
      ]
     },
     "execution_count": 64,
     "metadata": {},
     "output_type": "execute_result"
    }
   ],
   "source": [
    "lm.score(X_test, Y_test)"
   ]
  },
  {
   "cell_type": "code",
   "execution_count": 65,
   "id": "77c17bed",
   "metadata": {
    "execution": {
     "iopub.execute_input": "2023-05-10T01:32:36.870441Z",
     "iopub.status.busy": "2023-05-10T01:32:36.870090Z",
     "iopub.status.idle": "2023-05-10T01:32:36.893051Z",
     "shell.execute_reply": "2023-05-10T01:32:36.892116Z"
    }
   },
   "outputs": [],
   "source": [
    "lm = LinearRegression().fit(X_train,Y_train)\n",
    "prediction = lm.predict(X_test)"
   ]
  },
  {
   "cell_type": "code",
   "execution_count": 66,
   "id": "f2296d13",
   "metadata": {
    "execution": {
     "iopub.execute_input": "2023-05-10T01:32:36.897307Z",
     "iopub.status.busy": "2023-05-10T01:32:36.897011Z",
     "iopub.status.idle": "2023-05-10T01:32:36.921993Z",
     "shell.execute_reply": "2023-05-10T01:32:36.921255Z"
    }
   },
   "outputs": [],
   "source": [
    "lm = LinearRegression().fit(X_train,Y_train)\n",
    "prediction = lm.predict(X_test)"
   ]
  },
  {
   "cell_type": "code",
   "execution_count": 67,
   "id": "160e19b4",
   "metadata": {
    "execution": {
     "iopub.execute_input": "2023-05-10T01:32:36.926833Z",
     "iopub.status.busy": "2023-05-10T01:32:36.926535Z",
     "iopub.status.idle": "2023-05-10T01:32:36.936094Z",
     "shell.execute_reply": "2023-05-10T01:32:36.935286Z"
    }
   },
   "outputs": [
    {
     "data": {
      "text/plain": [
       "0.6544127729762899"
      ]
     },
     "execution_count": 67,
     "metadata": {},
     "output_type": "execute_result"
    }
   ],
   "source": [
    "lm.score(X_test, Y_test)"
   ]
  },
  {
   "cell_type": "code",
   "execution_count": 68,
   "id": "8fac984a",
   "metadata": {
    "execution": {
     "iopub.execute_input": "2023-05-10T01:32:36.940250Z",
     "iopub.status.busy": "2023-05-10T01:32:36.939945Z",
     "iopub.status.idle": "2023-05-10T01:32:36.965568Z",
     "shell.execute_reply": "2023-05-10T01:32:36.964721Z"
    }
   },
   "outputs": [],
   "source": [
    "from sklearn.model_selection import train_test_split\n",
    "from sklearn.linear_model import LinearRegression\n",
    "X_train, X_test,Y_train, Y_test = train_test_split(X,Y,test_size = 0.2, random_state=28)"
   ]
  },
  {
   "cell_type": "code",
   "execution_count": 69,
   "id": "3b62b035",
   "metadata": {
    "execution": {
     "iopub.execute_input": "2023-05-10T01:32:36.969780Z",
     "iopub.status.busy": "2023-05-10T01:32:36.969412Z",
     "iopub.status.idle": "2023-05-10T01:32:37.258262Z",
     "shell.execute_reply": "2023-05-10T01:32:37.257183Z"
    }
   },
   "outputs": [],
   "source": [
    "lm = LinearRegression().fit(X_train,Y_train)\n",
    "prediction = lm.predict(X_test)"
   ]
  },
  {
   "cell_type": "code",
   "execution_count": 70,
   "id": "5e4a25e1",
   "metadata": {
    "execution": {
     "iopub.execute_input": "2023-05-10T01:32:37.262822Z",
     "iopub.status.busy": "2023-05-10T01:32:37.262329Z",
     "iopub.status.idle": "2023-05-10T01:32:37.277839Z",
     "shell.execute_reply": "2023-05-10T01:32:37.277006Z"
    }
   },
   "outputs": [
    {
     "data": {
      "text/plain": [
       "0.7275411262156158"
      ]
     },
     "execution_count": 70,
     "metadata": {},
     "output_type": "execute_result"
    }
   ],
   "source": [
    "lm.score(X_test, Y_test)"
   ]
  },
  {
   "cell_type": "code",
   "execution_count": 71,
   "id": "c2e70982",
   "metadata": {
    "execution": {
     "iopub.execute_input": "2023-05-10T01:32:37.281897Z",
     "iopub.status.busy": "2023-05-10T01:32:37.281429Z",
     "iopub.status.idle": "2023-05-10T01:32:37.300802Z",
     "shell.execute_reply": "2023-05-10T01:32:37.300198Z"
    }
   },
   "outputs": [
    {
     "ename": "NameError",
     "evalue": "name 'mean_squared_error' is not defined",
     "output_type": "error",
     "traceback": [
      "\u001b[0;31m---------------------------------------------------------------------------\u001b[0m",
      "\u001b[0;31mNameError\u001b[0m                                 Traceback (most recent call last)",
      "Cell \u001b[0;32mIn [71], line 1\u001b[0m\n\u001b[0;32m----> 1\u001b[0m \u001b[43mmean_squared_error\u001b[49m(Y_train, prediction)\n",
      "\u001b[0;31mNameError\u001b[0m: name 'mean_squared_error' is not defined"
     ]
    }
   ],
   "source": [
    "mean_squared_error(Y_train, prediction)"
   ]
  },
  {
   "cell_type": "code",
   "execution_count": 72,
   "id": "4f4c41c5",
   "metadata": {
    "execution": {
     "iopub.execute_input": "2023-05-10T01:32:37.304149Z",
     "iopub.status.busy": "2023-05-10T01:32:37.303869Z",
     "iopub.status.idle": "2023-05-10T01:32:37.322019Z",
     "shell.execute_reply": "2023-05-10T01:32:37.321392Z"
    }
   },
   "outputs": [
    {
     "ename": "AttributeError",
     "evalue": "'LinearRegression' object has no attribute 'mean_squared_error'",
     "output_type": "error",
     "traceback": [
      "\u001b[0;31m---------------------------------------------------------------------------\u001b[0m",
      "\u001b[0;31mAttributeError\u001b[0m                            Traceback (most recent call last)",
      "Cell \u001b[0;32mIn [72], line 1\u001b[0m\n\u001b[0;32m----> 1\u001b[0m \u001b[43mlm\u001b[49m\u001b[38;5;241;43m.\u001b[39;49m\u001b[43mmean_squared_error\u001b[49m(Y_train, prediction)\n",
      "\u001b[0;31mAttributeError\u001b[0m: 'LinearRegression' object has no attribute 'mean_squared_error'"
     ]
    }
   ],
   "source": [
    "lm.mean_squared_error(Y_train, prediction)"
   ]
  },
  {
   "cell_type": "code",
   "execution_count": 73,
   "id": "81b3a6d8",
   "metadata": {
    "execution": {
     "iopub.execute_input": "2023-05-10T01:32:37.325656Z",
     "iopub.status.busy": "2023-05-10T01:32:37.325380Z",
     "iopub.status.idle": "2023-05-10T01:32:37.343971Z",
     "shell.execute_reply": "2023-05-10T01:32:37.343324Z"
    }
   },
   "outputs": [
    {
     "ename": "NameError",
     "evalue": "name 'XGBRegressor' is not defined",
     "output_type": "error",
     "traceback": [
      "\u001b[0;31m---------------------------------------------------------------------------\u001b[0m",
      "\u001b[0;31mNameError\u001b[0m                                 Traceback (most recent call last)",
      "Cell \u001b[0;32mIn [73], line 1\u001b[0m\n\u001b[0;32m----> 1\u001b[0m model \u001b[38;5;241m=\u001b[39m \u001b[43mXGBRegressor\u001b[49m(n_estimators\u001b[38;5;241m=\u001b[39m\u001b[38;5;241m500\u001b[39m, max_depth\u001b[38;5;241m=\u001b[39m\u001b[38;5;241m4\u001b[39m,eta\u001b[38;5;241m=\u001b[39m\u001b[38;5;241m0.1\u001b[39m)\u001b[38;5;241m.\u001b[39mfit(X_train,Y_train)\n\u001b[1;32m      2\u001b[0m y_pred \u001b[38;5;241m=\u001b[39m model\u001b[38;5;241m.\u001b[39mpredict(X_test)\n",
      "\u001b[0;31mNameError\u001b[0m: name 'XGBRegressor' is not defined"
     ]
    }
   ],
   "source": [
    "model = XGBRegressor(n_estimators=500, max_depth=4,eta=0.1).fit(X_train,Y_train)\n",
    "y_pred = model.predict(X_test)"
   ]
  },
  {
   "cell_type": "code",
   "execution_count": 74,
   "id": "39aeca19",
   "metadata": {
    "execution": {
     "iopub.execute_input": "2023-05-10T01:32:37.348228Z",
     "iopub.status.busy": "2023-05-10T01:32:37.347675Z",
     "iopub.status.idle": "2023-05-10T01:32:37.363960Z",
     "shell.execute_reply": "2023-05-10T01:32:37.363242Z"
    }
   },
   "outputs": [],
   "source": [
    "import xgboost as xgb"
   ]
  },
  {
   "cell_type": "code",
   "execution_count": 75,
   "id": "357ef6d6",
   "metadata": {
    "execution": {
     "iopub.execute_input": "2023-05-10T01:32:37.368190Z",
     "iopub.status.busy": "2023-05-10T01:32:37.367615Z",
     "iopub.status.idle": "2023-05-10T01:32:37.371209Z",
     "shell.execute_reply": "2023-05-10T01:32:37.370531Z"
    }
   },
   "outputs": [],
   "source": [
    "import xgboost as xgb"
   ]
  },
  {
   "cell_type": "code",
   "execution_count": 76,
   "id": "1a6610d7",
   "metadata": {
    "execution": {
     "iopub.execute_input": "2023-05-10T01:32:37.374729Z",
     "iopub.status.busy": "2023-05-10T01:32:37.374432Z",
     "iopub.status.idle": "2023-05-10T01:32:40.062878Z",
     "shell.execute_reply": "2023-05-10T01:32:40.062203Z"
    }
   },
   "outputs": [
    {
     "name": "stdout",
     "output_type": "stream",
     "text": [
      "\u001b[33mWARNING: Ignoring invalid distribution -umpy (/opt/anaconda3/lib/python3.9/site-packages)\u001b[0m\r\n"
     ]
    },
    {
     "name": "stdout",
     "output_type": "stream",
     "text": [
      "\u001b[33mWARNING: Ignoring invalid distribution -umpy (/opt/anaconda3/lib/python3.9/site-packages)\u001b[0m\r\n",
      "Requirement already satisfied: xgboost in /opt/anaconda3/lib/python3.9/site-packages (1.7.5)\r\n",
      "Requirement already satisfied: numpy in /opt/anaconda3/lib/python3.9/site-packages (from xgboost) (1.22.4)\r\n",
      "Requirement already satisfied: scipy in /opt/anaconda3/lib/python3.9/site-packages (from xgboost) (1.7.1)\r\n",
      "\u001b[33mWARNING: Ignoring invalid distribution -umpy (/opt/anaconda3/lib/python3.9/site-packages)\u001b[0m\r\n"
     ]
    },
    {
     "name": "stdout",
     "output_type": "stream",
     "text": [
      "\u001b[33mWARNING: Ignoring invalid distribution -umpy (/opt/anaconda3/lib/python3.9/site-packages)\u001b[0m\r\n",
      "\u001b[33mWARNING: Ignoring invalid distribution -umpy (/opt/anaconda3/lib/python3.9/site-packages)\u001b[0m\r\n",
      "\u001b[33mWARNING: Ignoring invalid distribution -umpy (/opt/anaconda3/lib/python3.9/site-packages)\u001b[0m\r\n"
     ]
    }
   ],
   "source": [
    "get_ipython().system('pip install xgboost')"
   ]
  },
  {
   "cell_type": "code",
   "execution_count": 77,
   "id": "6cc4f57c",
   "metadata": {
    "execution": {
     "iopub.execute_input": "2023-05-10T01:32:40.065984Z",
     "iopub.status.busy": "2023-05-10T01:32:40.065741Z",
     "iopub.status.idle": "2023-05-10T01:32:40.068372Z",
     "shell.execute_reply": "2023-05-10T01:32:40.067975Z"
    }
   },
   "outputs": [],
   "source": [
    "import xgboost as xgb"
   ]
  },
  {
   "cell_type": "code",
   "execution_count": 78,
   "id": "d4c486f4",
   "metadata": {
    "execution": {
     "iopub.execute_input": "2023-05-10T01:32:40.070632Z",
     "iopub.status.busy": "2023-05-10T01:32:40.070457Z",
     "iopub.status.idle": "2023-05-10T01:32:40.082264Z",
     "shell.execute_reply": "2023-05-10T01:32:40.081886Z"
    }
   },
   "outputs": [
    {
     "ename": "NameError",
     "evalue": "name 'XGBRegressor' is not defined",
     "output_type": "error",
     "traceback": [
      "\u001b[0;31m---------------------------------------------------------------------------\u001b[0m",
      "\u001b[0;31mNameError\u001b[0m                                 Traceback (most recent call last)",
      "Cell \u001b[0;32mIn [78], line 1\u001b[0m\n\u001b[0;32m----> 1\u001b[0m model \u001b[38;5;241m=\u001b[39m \u001b[43mXGBRegressor\u001b[49m(n_estimators\u001b[38;5;241m=\u001b[39m\u001b[38;5;241m500\u001b[39m, max_depth\u001b[38;5;241m=\u001b[39m\u001b[38;5;241m4\u001b[39m,eta\u001b[38;5;241m=\u001b[39m\u001b[38;5;241m0.1\u001b[39m)\u001b[38;5;241m.\u001b[39mfit(X_train,Y_train)\n\u001b[1;32m      2\u001b[0m y_pred \u001b[38;5;241m=\u001b[39m model\u001b[38;5;241m.\u001b[39mpredict(X_test)\n",
      "\u001b[0;31mNameError\u001b[0m: name 'XGBRegressor' is not defined"
     ]
    }
   ],
   "source": [
    "model = XGBRegressor(n_estimators=500, max_depth=4,eta=0.1).fit(X_train,Y_train)\n",
    "y_pred = model.predict(X_test)"
   ]
  },
  {
   "cell_type": "code",
   "execution_count": 79,
   "id": "472c42a4",
   "metadata": {
    "execution": {
     "iopub.execute_input": "2023-05-10T01:32:40.084080Z",
     "iopub.status.busy": "2023-05-10T01:32:40.083936Z",
     "iopub.status.idle": "2023-05-10T01:32:45.512214Z",
     "shell.execute_reply": "2023-05-10T01:32:45.511861Z"
    }
   },
   "outputs": [],
   "source": [
    "model = xgb.XGBRegressor(n_estimators=500, max_depth=4,eta=0.1).fit(X_train,Y_train)\n",
    "y_pred = model.predict(X_test)"
   ]
  },
  {
   "cell_type": "code",
   "execution_count": 80,
   "id": "65cc4686",
   "metadata": {
    "execution": {
     "iopub.execute_input": "2023-05-10T01:32:45.514229Z",
     "iopub.status.busy": "2023-05-10T01:32:45.514113Z",
     "iopub.status.idle": "2023-05-10T01:32:45.526383Z",
     "shell.execute_reply": "2023-05-10T01:32:45.525985Z"
    }
   },
   "outputs": [
    {
     "data": {
      "text/plain": [
       "0.9108049625244061"
      ]
     },
     "execution_count": 80,
     "metadata": {},
     "output_type": "execute_result"
    }
   ],
   "source": [
    "model.score(X_test, Y_test)"
   ]
  },
  {
   "cell_type": "code",
   "execution_count": 81,
   "id": "0c370599",
   "metadata": {
    "execution": {
     "iopub.execute_input": "2023-05-10T01:32:45.528552Z",
     "iopub.status.busy": "2023-05-10T01:32:45.528432Z",
     "iopub.status.idle": "2023-05-10T01:32:50.966264Z",
     "shell.execute_reply": "2023-05-10T01:32:50.965890Z"
    }
   },
   "outputs": [],
   "source": [
    "import xgboost as xgb\n",
    "model = xgb.XGBRegressor(n_estimators=500, max_depth=4,eta=0.1).fit(X_train,Y_train)\n",
    "y_pred = model.predict(X_test)"
   ]
  },
  {
   "cell_type": "code",
   "execution_count": 82,
   "id": "7eec41a8",
   "metadata": {
    "execution": {
     "iopub.execute_input": "2023-05-10T01:32:50.968283Z",
     "iopub.status.busy": "2023-05-10T01:32:50.968168Z",
     "iopub.status.idle": "2023-05-10T01:32:50.980517Z",
     "shell.execute_reply": "2023-05-10T01:32:50.980173Z"
    }
   },
   "outputs": [
    {
     "data": {
      "text/plain": [
       "0.9108049625244061"
      ]
     },
     "execution_count": 82,
     "metadata": {},
     "output_type": "execute_result"
    }
   ],
   "source": [
    "model.score(X_test, Y_test)"
   ]
  },
  {
   "cell_type": "code",
   "execution_count": 83,
   "id": "81e639e5",
   "metadata": {
    "execution": {
     "iopub.execute_input": "2023-05-10T01:32:50.982385Z",
     "iopub.status.busy": "2023-05-10T01:32:50.982207Z",
     "iopub.status.idle": "2023-05-10T01:32:55.751287Z",
     "shell.execute_reply": "2023-05-10T01:32:55.750940Z"
    }
   },
   "outputs": [],
   "source": [
    "import xgboost as xgb\n",
    "model = xgb.XGBRegressor(n_estimators=400, max_depth=4,eta=0.1).fit(X_train,Y_train)\n",
    "y_pred = model.predict(X_test)"
   ]
  },
  {
   "cell_type": "code",
   "execution_count": 84,
   "id": "1a01d64e",
   "metadata": {
    "execution": {
     "iopub.execute_input": "2023-05-10T01:32:55.753395Z",
     "iopub.status.busy": "2023-05-10T01:32:55.753248Z",
     "iopub.status.idle": "2023-05-10T01:32:55.764024Z",
     "shell.execute_reply": "2023-05-10T01:32:55.763723Z"
    }
   },
   "outputs": [
    {
     "data": {
      "text/plain": [
       "0.9071078207301947"
      ]
     },
     "execution_count": 84,
     "metadata": {},
     "output_type": "execute_result"
    }
   ],
   "source": [
    "model.score(X_test, Y_test)"
   ]
  },
  {
   "cell_type": "code",
   "execution_count": 85,
   "id": "55801a32",
   "metadata": {
    "execution": {
     "iopub.execute_input": "2023-05-10T01:32:55.765842Z",
     "iopub.status.busy": "2023-05-10T01:32:55.765715Z",
     "iopub.status.idle": "2023-05-10T01:33:02.552569Z",
     "shell.execute_reply": "2023-05-10T01:33:02.552155Z"
    }
   },
   "outputs": [],
   "source": [
    "import xgboost as xgb\n",
    "model = xgb.XGBRegressor(n_estimators=600, max_depth=4,eta=0.1).fit(X_train,Y_train)\n",
    "y_pred = model.predict(X_test)"
   ]
  },
  {
   "cell_type": "code",
   "execution_count": 86,
   "id": "dfaa9217",
   "metadata": {
    "execution": {
     "iopub.execute_input": "2023-05-10T01:33:02.554607Z",
     "iopub.status.busy": "2023-05-10T01:33:02.554478Z",
     "iopub.status.idle": "2023-05-10T01:33:02.566073Z",
     "shell.execute_reply": "2023-05-10T01:33:02.565729Z"
    }
   },
   "outputs": [
    {
     "data": {
      "text/plain": [
       "0.913941243290783"
      ]
     },
     "execution_count": 86,
     "metadata": {},
     "output_type": "execute_result"
    }
   ],
   "source": [
    "model.score(X_test, Y_test)"
   ]
  },
  {
   "cell_type": "code",
   "execution_count": 87,
   "id": "6d4fec18",
   "metadata": {
    "execution": {
     "iopub.execute_input": "2023-05-10T01:33:02.567793Z",
     "iopub.status.busy": "2023-05-10T01:33:02.567671Z",
     "iopub.status.idle": "2023-05-10T01:33:02.577783Z",
     "shell.execute_reply": "2023-05-10T01:33:02.577424Z"
    }
   },
   "outputs": [],
   "source": [
    "from sklearn.model_selection import train_test_split\n",
    "from sklearn.linear_model import LinearRegression\n",
    "X_train, X_test,Y_train, Y_test = train_test_split(X,Y,test_size = 0.2, random_state=28)"
   ]
  },
  {
   "cell_type": "code",
   "execution_count": 88,
   "id": "1b07d7a9",
   "metadata": {
    "execution": {
     "iopub.execute_input": "2023-05-10T01:33:02.579627Z",
     "iopub.status.busy": "2023-05-10T01:33:02.579510Z",
     "iopub.status.idle": "2023-05-10T01:33:09.400280Z",
     "shell.execute_reply": "2023-05-10T01:33:09.399888Z"
    }
   },
   "outputs": [],
   "source": [
    "import xgboost as xgb\n",
    "model = xgb.XGBRegressor(n_estimators=600, max_depth=4,eta=0.1).fit(X_train,Y_train)\n",
    "y_pred = model.predict(X_test)"
   ]
  },
  {
   "cell_type": "code",
   "execution_count": 89,
   "id": "e9259ff5",
   "metadata": {
    "execution": {
     "iopub.execute_input": "2023-05-10T01:33:09.402300Z",
     "iopub.status.busy": "2023-05-10T01:33:09.402179Z",
     "iopub.status.idle": "2023-05-10T01:33:09.415954Z",
     "shell.execute_reply": "2023-05-10T01:33:09.415596Z"
    }
   },
   "outputs": [
    {
     "data": {
      "text/plain": [
       "0.913941243290783"
      ]
     },
     "execution_count": 89,
     "metadata": {},
     "output_type": "execute_result"
    }
   ],
   "source": [
    "model.score(X_test, Y_test)"
   ]
  },
  {
   "cell_type": "code",
   "execution_count": 90,
   "id": "30f62ad9",
   "metadata": {
    "execution": {
     "iopub.execute_input": "2023-05-10T01:33:09.417748Z",
     "iopub.status.busy": "2023-05-10T01:33:09.417638Z",
     "iopub.status.idle": "2023-05-10T01:33:09.427363Z",
     "shell.execute_reply": "2023-05-10T01:33:09.426999Z"
    }
   },
   "outputs": [],
   "source": [
    "from sklearn.model_selection import train_test_split\n",
    "from sklearn.linear_model import LinearRegression\n",
    "X_train, X_test,Y_train, Y_test = train_test_split(X,Y,test_size = 0.2, random_state=32)"
   ]
  },
  {
   "cell_type": "code",
   "execution_count": 91,
   "id": "565eb1f4",
   "metadata": {
    "execution": {
     "iopub.execute_input": "2023-05-10T01:33:09.429109Z",
     "iopub.status.busy": "2023-05-10T01:33:09.429013Z",
     "iopub.status.idle": "2023-05-10T01:33:16.327441Z",
     "shell.execute_reply": "2023-05-10T01:33:16.327044Z"
    }
   },
   "outputs": [],
   "source": [
    "import xgboost as xgb\n",
    "model = xgb.XGBRegressor(n_estimators=600, max_depth=4,eta=0.1).fit(X_train,Y_train)\n",
    "y_pred = model.predict(X_test)"
   ]
  },
  {
   "cell_type": "code",
   "execution_count": 92,
   "id": "3af762b4",
   "metadata": {
    "execution": {
     "iopub.execute_input": "2023-05-10T01:33:16.329709Z",
     "iopub.status.busy": "2023-05-10T01:33:16.329395Z",
     "iopub.status.idle": "2023-05-10T01:33:16.341857Z",
     "shell.execute_reply": "2023-05-10T01:33:16.341529Z"
    }
   },
   "outputs": [
    {
     "data": {
      "text/plain": [
       "0.9102761242741739"
      ]
     },
     "execution_count": 92,
     "metadata": {},
     "output_type": "execute_result"
    }
   ],
   "source": [
    "model.score(X_test, Y_test)"
   ]
  },
  {
   "cell_type": "code",
   "execution_count": 93,
   "id": "0761a88d",
   "metadata": {
    "execution": {
     "iopub.execute_input": "2023-05-10T01:33:16.343793Z",
     "iopub.status.busy": "2023-05-10T01:33:16.343489Z",
     "iopub.status.idle": "2023-05-10T01:33:21.989524Z",
     "shell.execute_reply": "2023-05-10T01:33:21.989143Z"
    }
   },
   "outputs": [],
   "source": [
    "import xgboost as xgb\n",
    "model = xgb.XGBRegressor(n_estimators=500, max_depth=4,eta=0.1).fit(X_train,Y_train)\n",
    "y_pred = model.predict(X_test)"
   ]
  },
  {
   "cell_type": "code",
   "execution_count": 94,
   "id": "a88eb8c1",
   "metadata": {
    "execution": {
     "iopub.execute_input": "2023-05-10T01:33:21.991635Z",
     "iopub.status.busy": "2023-05-10T01:33:21.991290Z",
     "iopub.status.idle": "2023-05-10T01:33:22.003667Z",
     "shell.execute_reply": "2023-05-10T01:33:22.003309Z"
    }
   },
   "outputs": [
    {
     "data": {
      "text/plain": [
       "0.9066691665646758"
      ]
     },
     "execution_count": 94,
     "metadata": {},
     "output_type": "execute_result"
    }
   ],
   "source": [
    "model.score(X_test, Y_test)"
   ]
  },
  {
   "cell_type": "code",
   "execution_count": 95,
   "id": "b0ebed2e",
   "metadata": {
    "execution": {
     "iopub.execute_input": "2023-05-10T01:33:22.005369Z",
     "iopub.status.busy": "2023-05-10T01:33:22.005254Z",
     "iopub.status.idle": "2023-05-10T01:33:22.010894Z",
     "shell.execute_reply": "2023-05-10T01:33:22.010575Z"
    }
   },
   "outputs": [],
   "source": [
    "get_ipython().run_cell_magic('capture', '', \"%logstop\\n%logstart -t -r -q ipython_command_log.py global\\n\\n#- IRONHACKS RESEARCH TRACKING CODE\\n#----------------------------------\\n# The following code is used to help our research team understand how you \\n# our notebook environment. We do not collect any personal information with\\n# the following code, it is used to measure when and how often you work on\\n# your submission files.\\n\\nimport os\\nfrom datetime import datetime\\nimport IPython.core.history as history\\n\\nha = history.HistoryAccessor()\\nha_tail = ha.get_tail(1)\\nha_cmd = next(ha_tail)\\nsession_id = str(ha_cmd[0])\\ncommand_id = str(ha_cmd[1])\\ntimestamp = datetime.utcnow().isoformat()\\nhistory_line = ','.join([session_id, command_id, timestamp]) + '\\\\n'\\nlogfile = open(os.environ['HOME']+'/ipython_session_log.csv', 'a')\\nlogfile.write(history_line)\\nlogfile.close()\\n\")"
   ]
  },
  {
   "cell_type": "code",
   "execution_count": 96,
   "id": "b9a1d0f8",
   "metadata": {
    "execution": {
     "iopub.execute_input": "2023-05-10T01:33:22.012515Z",
     "iopub.status.busy": "2023-05-10T01:33:22.012398Z",
     "iopub.status.idle": "2023-05-10T01:33:22.094244Z",
     "shell.execute_reply": "2023-05-10T01:33:22.093891Z"
    }
   },
   "outputs": [
    {
     "ename": "TypeError",
     "evalue": "fit() missing 1 required positional argument: 'y'",
     "output_type": "error",
     "traceback": [
      "\u001b[0;31m---------------------------------------------------------------------------\u001b[0m",
      "\u001b[0;31mTypeError\u001b[0m                                 Traceback (most recent call last)",
      "Cell \u001b[0;32mIn [96], line 1\u001b[0m\n\u001b[0;32m----> 1\u001b[0m ttt \u001b[38;5;241m=\u001b[39m \u001b[43mmodel\u001b[49m\u001b[38;5;241;43m.\u001b[39;49m\u001b[43mfit\u001b[49m\u001b[43m(\u001b[49m\u001b[43mpred_data\u001b[49m\u001b[43m)\u001b[49m\n",
      "File \u001b[0;32m/opt/homebrew/lib/python3.9/site-packages/xgboost/core.py:620\u001b[0m, in \u001b[0;36mrequire_keyword_args.<locals>.throw_if.<locals>.inner_f\u001b[0;34m(*args, **kwargs)\u001b[0m\n\u001b[1;32m    618\u001b[0m \u001b[38;5;28;01mfor\u001b[39;00m k, arg \u001b[38;5;129;01min\u001b[39;00m \u001b[38;5;28mzip\u001b[39m(sig\u001b[38;5;241m.\u001b[39mparameters, args):\n\u001b[1;32m    619\u001b[0m     kwargs[k] \u001b[38;5;241m=\u001b[39m arg\n\u001b[0;32m--> 620\u001b[0m \u001b[38;5;28;01mreturn\u001b[39;00m \u001b[43mfunc\u001b[49m\u001b[43m(\u001b[49m\u001b[38;5;241;43m*\u001b[39;49m\u001b[38;5;241;43m*\u001b[39;49m\u001b[43mkwargs\u001b[49m\u001b[43m)\u001b[49m\n",
      "\u001b[0;31mTypeError\u001b[0m: fit() missing 1 required positional argument: 'y'"
     ]
    }
   ],
   "source": [
    "ttt = model.fit(pred_data)"
   ]
  },
  {
   "cell_type": "code",
   "execution_count": 97,
   "id": "8750fb43",
   "metadata": {
    "execution": {
     "iopub.execute_input": "2023-05-10T01:33:22.095935Z",
     "iopub.status.busy": "2023-05-10T01:33:22.095817Z",
     "iopub.status.idle": "2023-05-10T01:33:22.157570Z",
     "shell.execute_reply": "2023-05-10T01:33:22.157195Z"
    }
   },
   "outputs": [
    {
     "ename": "ValueError",
     "evalue": "Feature shape mismatch, expected: 174, got 2",
     "output_type": "error",
     "traceback": [
      "\u001b[0;31m---------------------------------------------------------------------------\u001b[0m",
      "\u001b[0;31mValueError\u001b[0m                                Traceback (most recent call last)",
      "Cell \u001b[0;32mIn [97], line 1\u001b[0m\n\u001b[0;32m----> 1\u001b[0m pred \u001b[38;5;241m=\u001b[39m \u001b[43mmodel\u001b[49m\u001b[38;5;241;43m.\u001b[39;49m\u001b[43mpredict\u001b[49m\u001b[43m(\u001b[49m\u001b[43mpred_data\u001b[49m\u001b[43m)\u001b[49m\n",
      "File \u001b[0;32m/opt/homebrew/lib/python3.9/site-packages/xgboost/sklearn.py:1114\u001b[0m, in \u001b[0;36mXGBModel.predict\u001b[0;34m(self, X, output_margin, ntree_limit, validate_features, base_margin, iteration_range)\u001b[0m\n\u001b[1;32m   1112\u001b[0m \u001b[38;5;28;01mif\u001b[39;00m \u001b[38;5;28mself\u001b[39m\u001b[38;5;241m.\u001b[39m_can_use_inplace_predict():\n\u001b[1;32m   1113\u001b[0m     \u001b[38;5;28;01mtry\u001b[39;00m:\n\u001b[0;32m-> 1114\u001b[0m         predts \u001b[38;5;241m=\u001b[39m \u001b[38;5;28;43mself\u001b[39;49m\u001b[38;5;241;43m.\u001b[39;49m\u001b[43mget_booster\u001b[49m\u001b[43m(\u001b[49m\u001b[43m)\u001b[49m\u001b[38;5;241;43m.\u001b[39;49m\u001b[43minplace_predict\u001b[49m\u001b[43m(\u001b[49m\n\u001b[1;32m   1115\u001b[0m \u001b[43m            \u001b[49m\u001b[43mdata\u001b[49m\u001b[38;5;241;43m=\u001b[39;49m\u001b[43mX\u001b[49m\u001b[43m,\u001b[49m\n\u001b[1;32m   1116\u001b[0m \u001b[43m            \u001b[49m\u001b[43miteration_range\u001b[49m\u001b[38;5;241;43m=\u001b[39;49m\u001b[43miteration_range\u001b[49m\u001b[43m,\u001b[49m\n\u001b[1;32m   1117\u001b[0m \u001b[43m            \u001b[49m\u001b[43mpredict_type\u001b[49m\u001b[38;5;241;43m=\u001b[39;49m\u001b[38;5;124;43m\"\u001b[39;49m\u001b[38;5;124;43mmargin\u001b[39;49m\u001b[38;5;124;43m\"\u001b[39;49m\u001b[43m \u001b[49m\u001b[38;5;28;43;01mif\u001b[39;49;00m\u001b[43m \u001b[49m\u001b[43moutput_margin\u001b[49m\u001b[43m \u001b[49m\u001b[38;5;28;43;01melse\u001b[39;49;00m\u001b[43m \u001b[49m\u001b[38;5;124;43m\"\u001b[39;49m\u001b[38;5;124;43mvalue\u001b[39;49m\u001b[38;5;124;43m\"\u001b[39;49m\u001b[43m,\u001b[49m\n\u001b[1;32m   1118\u001b[0m \u001b[43m            \u001b[49m\u001b[43mmissing\u001b[49m\u001b[38;5;241;43m=\u001b[39;49m\u001b[38;5;28;43mself\u001b[39;49m\u001b[38;5;241;43m.\u001b[39;49m\u001b[43mmissing\u001b[49m\u001b[43m,\u001b[49m\n\u001b[1;32m   1119\u001b[0m \u001b[43m            \u001b[49m\u001b[43mbase_margin\u001b[49m\u001b[38;5;241;43m=\u001b[39;49m\u001b[43mbase_margin\u001b[49m\u001b[43m,\u001b[49m\n\u001b[1;32m   1120\u001b[0m \u001b[43m            \u001b[49m\u001b[43mvalidate_features\u001b[49m\u001b[38;5;241;43m=\u001b[39;49m\u001b[43mvalidate_features\u001b[49m\u001b[43m,\u001b[49m\n\u001b[1;32m   1121\u001b[0m \u001b[43m        \u001b[49m\u001b[43m)\u001b[49m\n\u001b[1;32m   1122\u001b[0m         \u001b[38;5;28;01mif\u001b[39;00m _is_cupy_array(predts):\n\u001b[1;32m   1123\u001b[0m             \u001b[38;5;28;01mimport\u001b[39;00m \u001b[38;5;21;01mcupy\u001b[39;00m  \u001b[38;5;66;03m# pylint: disable=import-error\u001b[39;00m\n",
      "File \u001b[0;32m/opt/homebrew/lib/python3.9/site-packages/xgboost/core.py:2269\u001b[0m, in \u001b[0;36mBooster.inplace_predict\u001b[0;34m(self, data, iteration_range, predict_type, missing, validate_features, base_margin, strict_shape)\u001b[0m\n\u001b[1;32m   2265\u001b[0m         \u001b[38;5;28;01mraise\u001b[39;00m \u001b[38;5;167;01mTypeError\u001b[39;00m(\n\u001b[1;32m   2266\u001b[0m             \u001b[38;5;124m\"\u001b[39m\u001b[38;5;124m`shape` attribute is required when `validate_features` is True.\u001b[39m\u001b[38;5;124m\"\u001b[39m\n\u001b[1;32m   2267\u001b[0m         )\n\u001b[1;32m   2268\u001b[0m     \u001b[38;5;28;01mif\u001b[39;00m \u001b[38;5;28mlen\u001b[39m(data\u001b[38;5;241m.\u001b[39mshape) \u001b[38;5;241m!=\u001b[39m \u001b[38;5;241m1\u001b[39m \u001b[38;5;129;01mand\u001b[39;00m \u001b[38;5;28mself\u001b[39m\u001b[38;5;241m.\u001b[39mnum_features() \u001b[38;5;241m!=\u001b[39m data\u001b[38;5;241m.\u001b[39mshape[\u001b[38;5;241m1\u001b[39m]:\n\u001b[0;32m-> 2269\u001b[0m         \u001b[38;5;28;01mraise\u001b[39;00m \u001b[38;5;167;01mValueError\u001b[39;00m(\n\u001b[1;32m   2270\u001b[0m             \u001b[38;5;124mf\u001b[39m\u001b[38;5;124m\"\u001b[39m\u001b[38;5;124mFeature shape mismatch, expected: \u001b[39m\u001b[38;5;132;01m{\u001b[39;00m\u001b[38;5;28mself\u001b[39m\u001b[38;5;241m.\u001b[39mnum_features()\u001b[38;5;132;01m}\u001b[39;00m\u001b[38;5;124m, \u001b[39m\u001b[38;5;124m\"\u001b[39m\n\u001b[1;32m   2271\u001b[0m             \u001b[38;5;124mf\u001b[39m\u001b[38;5;124m\"\u001b[39m\u001b[38;5;124mgot \u001b[39m\u001b[38;5;132;01m{\u001b[39;00mdata\u001b[38;5;241m.\u001b[39mshape[\u001b[38;5;241m1\u001b[39m]\u001b[38;5;132;01m}\u001b[39;00m\u001b[38;5;124m\"\u001b[39m\n\u001b[1;32m   2272\u001b[0m         )\n\u001b[1;32m   2274\u001b[0m \u001b[38;5;28;01mfrom\u001b[39;00m \u001b[38;5;21;01m.\u001b[39;00m\u001b[38;5;21;01mdata\u001b[39;00m \u001b[38;5;28;01mimport\u001b[39;00m (\n\u001b[1;32m   2275\u001b[0m     _array_interface,\n\u001b[1;32m   2276\u001b[0m     _is_cudf_df,\n\u001b[0;32m   (...)\u001b[0m\n\u001b[1;32m   2279\u001b[0m     _transform_pandas_df,\n\u001b[1;32m   2280\u001b[0m )\n\u001b[1;32m   2282\u001b[0m enable_categorical \u001b[38;5;241m=\u001b[39m _has_categorical(\u001b[38;5;28mself\u001b[39m, data)\n",
      "\u001b[0;31mValueError\u001b[0m: Feature shape mismatch, expected: 174, got 2"
     ]
    }
   ],
   "source": [
    "pred = model.predict(pred_data)"
   ]
  },
  {
   "cell_type": "code",
   "execution_count": 98,
   "id": "e74ab4c7",
   "metadata": {
    "execution": {
     "iopub.execute_input": "2023-05-10T01:33:22.159315Z",
     "iopub.status.busy": "2023-05-10T01:33:22.159206Z",
     "iopub.status.idle": "2023-05-10T01:33:22.163772Z",
     "shell.execute_reply": "2023-05-10T01:33:22.163412Z"
    }
   },
   "outputs": [
    {
     "name": "stdout",
     "output_type": "stream",
     "text": [
      "<class 'pandas.core.frame.DataFrame'>\n",
      "RangeIndex: 525 entries, 0 to 524\n",
      "Data columns (total 2 columns):\n",
      " #   Column       Non-Null Count  Dtype \n",
      "---  ------       --------------  ----- \n",
      " 0   uu_id        525 non-null    object\n",
      " 1   week_number  525 non-null    Int64 \n",
      "dtypes: Int64(1), object(1)\n",
      "memory usage: 8.8+ KB\n"
     ]
    }
   ],
   "source": [
    "pred_data.info()"
   ]
  },
  {
   "cell_type": "code",
   "execution_count": 99,
   "id": "add08378",
   "metadata": {
    "execution": {
     "iopub.execute_input": "2023-05-10T01:33:22.165445Z",
     "iopub.status.busy": "2023-05-10T01:33:22.165333Z",
     "iopub.status.idle": "2023-05-10T01:33:22.189397Z",
     "shell.execute_reply": "2023-05-10T01:33:22.189088Z"
    }
   },
   "outputs": [
    {
     "data": {
      "text/html": [
       "<div>\n",
       "<style scoped>\n",
       "    .dataframe tbody tr th:only-of-type {\n",
       "        vertical-align: middle;\n",
       "    }\n",
       "\n",
       "    .dataframe tbody tr th {\n",
       "        vertical-align: top;\n",
       "    }\n",
       "\n",
       "    .dataframe thead th {\n",
       "        text-align: right;\n",
       "    }\n",
       "</style>\n",
       "<table border=\"1\" class=\"dataframe\">\n",
       "  <thead>\n",
       "    <tr style=\"text-align: right;\">\n",
       "      <th></th>\n",
       "      <th>timeperiod</th>\n",
       "      <th>week_number</th>\n",
       "      <th>countyfips</th>\n",
       "      <th>tract</th>\n",
       "      <th>total_claims</th>\n",
       "      <th>edu_8th_or_less</th>\n",
       "      <th>edu_grades_9_11</th>\n",
       "      <th>edu_hs_grad_equiv</th>\n",
       "      <th>edu_post_hs</th>\n",
       "      <th>edu_unknown</th>\n",
       "      <th>gender_female</th>\n",
       "      <th>gender_male</th>\n",
       "      <th>gender_na</th>\n",
       "      <th>race_amerindian</th>\n",
       "      <th>race_asian</th>\n",
       "      <th>race_black</th>\n",
       "      <th>race_noanswer</th>\n",
       "      <th>race_hawaiiannative</th>\n",
       "      <th>race_other</th>\n",
       "      <th>race_white</th>\n",
       "    </tr>\n",
       "  </thead>\n",
       "  <tbody>\n",
       "    <tr>\n",
       "      <th>count</th>\n",
       "      <td>16833.0</td>\n",
       "      <td>16833.0</td>\n",
       "      <td>16833.0</td>\n",
       "      <td>16833.0</td>\n",
       "      <td>16833.0</td>\n",
       "      <td>16833.0</td>\n",
       "      <td>16833.0</td>\n",
       "      <td>16833.0</td>\n",
       "      <td>16833.000000</td>\n",
       "      <td>16833.0</td>\n",
       "      <td>16833.000000</td>\n",
       "      <td>16833.000000</td>\n",
       "      <td>16833.0</td>\n",
       "      <td>16833.0</td>\n",
       "      <td>16833.0</td>\n",
       "      <td>16833.0</td>\n",
       "      <td>16833.0</td>\n",
       "      <td>16833.0</td>\n",
       "      <td>16833.0</td>\n",
       "      <td>16833.0</td>\n",
       "    </tr>\n",
       "    <tr>\n",
       "      <th>mean</th>\n",
       "      <td>20220540.093329</td>\n",
       "      <td>21.329531</td>\n",
       "      <td>18088.919682</td>\n",
       "      <td>211605.900315</td>\n",
       "      <td>22.952712</td>\n",
       "      <td>0.065348</td>\n",
       "      <td>1.340462</td>\n",
       "      <td>18.376879</td>\n",
       "      <td>16.171548</td>\n",
       "      <td>0.094339</td>\n",
       "      <td>17.669458</td>\n",
       "      <td>18.869913</td>\n",
       "      <td>0.005228</td>\n",
       "      <td>0.009921</td>\n",
       "      <td>0.012475</td>\n",
       "      <td>11.101705</td>\n",
       "      <td>0.124161</td>\n",
       "      <td>0.0</td>\n",
       "      <td>0.446801</td>\n",
       "      <td>16.257233</td>\n",
       "    </tr>\n",
       "    <tr>\n",
       "      <th>std</th>\n",
       "      <td>268.366832</td>\n",
       "      <td>11.618554</td>\n",
       "      <td>41.019467</td>\n",
       "      <td>288715.02492</td>\n",
       "      <td>14.583655</td>\n",
       "      <td>1.03561</td>\n",
       "      <td>3.451816</td>\n",
       "      <td>8.139188</td>\n",
       "      <td>5.892916</td>\n",
       "      <td>1.499568</td>\n",
       "      <td>6.761315</td>\n",
       "      <td>6.507586</td>\n",
       "      <td>0.441002</td>\n",
       "      <td>0.469947</td>\n",
       "      <td>0.535979</td>\n",
       "      <td>12.039616</td>\n",
       "      <td>1.947116</td>\n",
       "      <td>0.0</td>\n",
       "      <td>2.40954</td>\n",
       "      <td>7.670217</td>\n",
       "    </tr>\n",
       "    <tr>\n",
       "      <th>min</th>\n",
       "      <td>20220101.0</td>\n",
       "      <td>1.0</td>\n",
       "      <td>18001.0</td>\n",
       "      <td>100.0</td>\n",
       "      <td>10.0</td>\n",
       "      <td>0.0</td>\n",
       "      <td>0.0</td>\n",
       "      <td>0.0</td>\n",
       "      <td>0.000000</td>\n",
       "      <td>0.0</td>\n",
       "      <td>0.000000</td>\n",
       "      <td>0.000000</td>\n",
       "      <td>0.0</td>\n",
       "      <td>0.0</td>\n",
       "      <td>0.0</td>\n",
       "      <td>0.0</td>\n",
       "      <td>0.0</td>\n",
       "      <td>0.0</td>\n",
       "      <td>0.0</td>\n",
       "      <td>0.0</td>\n",
       "    </tr>\n",
       "    <tr>\n",
       "      <th>25%</th>\n",
       "      <td>20220312.0</td>\n",
       "      <td>11.0</td>\n",
       "      <td>18063.0</td>\n",
       "      <td>10100.0</td>\n",
       "      <td>14.0</td>\n",
       "      <td>0.0</td>\n",
       "      <td>0.0</td>\n",
       "      <td>14.0</td>\n",
       "      <td>14.539683</td>\n",
       "      <td>0.0</td>\n",
       "      <td>15.032258</td>\n",
       "      <td>16.550898</td>\n",
       "      <td>0.0</td>\n",
       "      <td>0.0</td>\n",
       "      <td>0.0</td>\n",
       "      <td>0.0</td>\n",
       "      <td>0.0</td>\n",
       "      <td>0.0</td>\n",
       "      <td>0.0</td>\n",
       "      <td>13.0</td>\n",
       "    </tr>\n",
       "    <tr>\n",
       "      <th>50%</th>\n",
       "      <td>20220528.0</td>\n",
       "      <td>22.0</td>\n",
       "      <td>18095.0</td>\n",
       "      <td>42801.0</td>\n",
       "      <td>18.0</td>\n",
       "      <td>0.0</td>\n",
       "      <td>0.0</td>\n",
       "      <td>18.0</td>\n",
       "      <td>17.219048</td>\n",
       "      <td>0.0</td>\n",
       "      <td>17.381818</td>\n",
       "      <td>18.784314</td>\n",
       "      <td>0.0</td>\n",
       "      <td>0.0</td>\n",
       "      <td>0.0</td>\n",
       "      <td>7.0</td>\n",
       "      <td>0.0</td>\n",
       "      <td>0.0</td>\n",
       "      <td>0.0</td>\n",
       "      <td>15.0</td>\n",
       "    </tr>\n",
       "    <tr>\n",
       "      <th>75%</th>\n",
       "      <td>20220806.0</td>\n",
       "      <td>32.0</td>\n",
       "      <td>18103.0</td>\n",
       "      <td>342600.0</td>\n",
       "      <td>27.0</td>\n",
       "      <td>0.0</td>\n",
       "      <td>2.0</td>\n",
       "      <td>21.0</td>\n",
       "      <td>17.775814</td>\n",
       "      <td>0.0</td>\n",
       "      <td>20.487537</td>\n",
       "      <td>20.147059</td>\n",
       "      <td>0.0</td>\n",
       "      <td>0.0</td>\n",
       "      <td>0.0</td>\n",
       "      <td>20.0</td>\n",
       "      <td>0.0</td>\n",
       "      <td>0.0</td>\n",
       "      <td>0.0</td>\n",
       "      <td>18.0</td>\n",
       "    </tr>\n",
       "    <tr>\n",
       "      <th>max</th>\n",
       "      <td>20220910.0</td>\n",
       "      <td>37.0</td>\n",
       "      <td>18183.0</td>\n",
       "      <td>976400.0</td>\n",
       "      <td>170.0</td>\n",
       "      <td>41.0</td>\n",
       "      <td>78.0</td>\n",
       "      <td>137.0</td>\n",
       "      <td>154.000000</td>\n",
       "      <td>60.0</td>\n",
       "      <td>126.000000</td>\n",
       "      <td>139.000000</td>\n",
       "      <td>49.0</td>\n",
       "      <td>36.0</td>\n",
       "      <td>41.0</td>\n",
       "      <td>163.0</td>\n",
       "      <td>110.0</td>\n",
       "      <td>0.0</td>\n",
       "      <td>74.0</td>\n",
       "      <td>155.0</td>\n",
       "    </tr>\n",
       "  </tbody>\n",
       "</table>\n",
       "</div>"
      ],
      "text/plain": [
       "            timeperiod  week_number    countyfips          tract  \\\n",
       "count          16833.0      16833.0       16833.0        16833.0   \n",
       "mean   20220540.093329    21.329531  18088.919682  211605.900315   \n",
       "std         268.366832    11.618554     41.019467   288715.02492   \n",
       "min         20220101.0          1.0       18001.0          100.0   \n",
       "25%         20220312.0         11.0       18063.0        10100.0   \n",
       "50%         20220528.0         22.0       18095.0        42801.0   \n",
       "75%         20220806.0         32.0       18103.0       342600.0   \n",
       "max         20220910.0         37.0       18183.0       976400.0   \n",
       "\n",
       "       total_claims  edu_8th_or_less  edu_grades_9_11  edu_hs_grad_equiv  \\\n",
       "count       16833.0          16833.0          16833.0            16833.0   \n",
       "mean      22.952712         0.065348         1.340462          18.376879   \n",
       "std       14.583655          1.03561         3.451816           8.139188   \n",
       "min            10.0              0.0              0.0                0.0   \n",
       "25%            14.0              0.0              0.0               14.0   \n",
       "50%            18.0              0.0              0.0               18.0   \n",
       "75%            27.0              0.0              2.0               21.0   \n",
       "max           170.0             41.0             78.0              137.0   \n",
       "\n",
       "        edu_post_hs  edu_unknown  gender_female   gender_male  gender_na  \\\n",
       "count  16833.000000      16833.0   16833.000000  16833.000000    16833.0   \n",
       "mean      16.171548     0.094339      17.669458     18.869913   0.005228   \n",
       "std        5.892916     1.499568       6.761315      6.507586   0.441002   \n",
       "min        0.000000          0.0       0.000000      0.000000        0.0   \n",
       "25%       14.539683          0.0      15.032258     16.550898        0.0   \n",
       "50%       17.219048          0.0      17.381818     18.784314        0.0   \n",
       "75%       17.775814          0.0      20.487537     20.147059        0.0   \n",
       "max      154.000000         60.0     126.000000    139.000000       49.0   \n",
       "\n",
       "       race_amerindian  race_asian  race_black  race_noanswer  \\\n",
       "count          16833.0     16833.0     16833.0        16833.0   \n",
       "mean          0.009921    0.012475   11.101705       0.124161   \n",
       "std           0.469947    0.535979   12.039616       1.947116   \n",
       "min                0.0         0.0         0.0            0.0   \n",
       "25%                0.0         0.0         0.0            0.0   \n",
       "50%                0.0         0.0         7.0            0.0   \n",
       "75%                0.0         0.0        20.0            0.0   \n",
       "max               36.0        41.0       163.0          110.0   \n",
       "\n",
       "       race_hawaiiannative  race_other  race_white  \n",
       "count              16833.0     16833.0     16833.0  \n",
       "mean                   0.0    0.446801   16.257233  \n",
       "std                    0.0     2.40954    7.670217  \n",
       "min                    0.0         0.0         0.0  \n",
       "25%                    0.0         0.0        13.0  \n",
       "50%                    0.0         0.0        15.0  \n",
       "75%                    0.0         0.0        18.0  \n",
       "max                    0.0        74.0       155.0  "
      ]
     },
     "execution_count": 99,
     "metadata": {},
     "output_type": "execute_result"
    }
   ],
   "source": [
    "unemp_data.describe()"
   ]
  },
  {
   "cell_type": "code",
   "execution_count": 100,
   "id": "d478128f",
   "metadata": {
    "execution": {
     "iopub.execute_input": "2023-05-10T01:33:22.191086Z",
     "iopub.status.busy": "2023-05-10T01:33:22.190973Z",
     "iopub.status.idle": "2023-05-10T01:33:22.322932Z",
     "shell.execute_reply": "2023-05-10T01:33:22.322650Z"
    }
   },
   "outputs": [
    {
     "ename": "KeyError",
     "evalue": "'uu_id'",
     "output_type": "error",
     "traceback": [
      "\u001b[0;31m---------------------------------------------------------------------------\u001b[0m",
      "\u001b[0;31mKeyError\u001b[0m                                  Traceback (most recent call last)",
      "Cell \u001b[0;32mIn [100], line 1\u001b[0m\n\u001b[0;32m----> 1\u001b[0m tt \u001b[38;5;241m=\u001b[39m \u001b[43mpred_data\u001b[49m\u001b[38;5;241;43m.\u001b[39;49m\u001b[43mmerge\u001b[49m\u001b[43m(\u001b[49m\u001b[43mfin\u001b[49m\u001b[43m,\u001b[49m\u001b[43mhow\u001b[49m\u001b[43m \u001b[49m\u001b[38;5;241;43m=\u001b[39;49m\u001b[43m \u001b[49m\u001b[38;5;124;43m'\u001b[39;49m\u001b[38;5;124;43mleft\u001b[39;49m\u001b[38;5;124;43m'\u001b[39;49m\u001b[43m,\u001b[49m\u001b[43mon\u001b[49m\u001b[38;5;241;43m=\u001b[39;49m\u001b[43m \u001b[49m\u001b[38;5;124;43m'\u001b[39;49m\u001b[38;5;124;43muu_id\u001b[39;49m\u001b[38;5;124;43m'\u001b[39;49m\u001b[43m)\u001b[49m\n\u001b[1;32m      2\u001b[0m tt                     \n",
      "File \u001b[0;32m/opt/homebrew/lib/python3.9/site-packages/pandas/core/frame.py:10080\u001b[0m, in \u001b[0;36mDataFrame.merge\u001b[0;34m(self, right, how, on, left_on, right_on, left_index, right_index, sort, suffixes, copy, indicator, validate)\u001b[0m\n\u001b[1;32m  10061\u001b[0m \u001b[38;5;129m@Substitution\u001b[39m(\u001b[38;5;124m\"\u001b[39m\u001b[38;5;124m\"\u001b[39m)\n\u001b[1;32m  10062\u001b[0m \u001b[38;5;129m@Appender\u001b[39m(_merge_doc, indents\u001b[38;5;241m=\u001b[39m\u001b[38;5;241m2\u001b[39m)\n\u001b[1;32m  10063\u001b[0m \u001b[38;5;28;01mdef\u001b[39;00m \u001b[38;5;21mmerge\u001b[39m(\n\u001b[0;32m   (...)\u001b[0m\n\u001b[1;32m  10076\u001b[0m     validate: \u001b[38;5;28mstr\u001b[39m \u001b[38;5;241m|\u001b[39m \u001b[38;5;28;01mNone\u001b[39;00m \u001b[38;5;241m=\u001b[39m \u001b[38;5;28;01mNone\u001b[39;00m,\n\u001b[1;32m  10077\u001b[0m ) \u001b[38;5;241m-\u001b[39m\u001b[38;5;241m>\u001b[39m DataFrame:\n\u001b[1;32m  10078\u001b[0m     \u001b[38;5;28;01mfrom\u001b[39;00m \u001b[38;5;21;01mpandas\u001b[39;00m\u001b[38;5;21;01m.\u001b[39;00m\u001b[38;5;21;01mcore\u001b[39;00m\u001b[38;5;21;01m.\u001b[39;00m\u001b[38;5;21;01mreshape\u001b[39;00m\u001b[38;5;21;01m.\u001b[39;00m\u001b[38;5;21;01mmerge\u001b[39;00m \u001b[38;5;28;01mimport\u001b[39;00m merge\n\u001b[0;32m> 10080\u001b[0m     \u001b[38;5;28;01mreturn\u001b[39;00m \u001b[43mmerge\u001b[49m\u001b[43m(\u001b[49m\n\u001b[1;32m  10081\u001b[0m \u001b[43m        \u001b[49m\u001b[38;5;28;43mself\u001b[39;49m\u001b[43m,\u001b[49m\n\u001b[1;32m  10082\u001b[0m \u001b[43m        \u001b[49m\u001b[43mright\u001b[49m\u001b[43m,\u001b[49m\n\u001b[1;32m  10083\u001b[0m \u001b[43m        \u001b[49m\u001b[43mhow\u001b[49m\u001b[38;5;241;43m=\u001b[39;49m\u001b[43mhow\u001b[49m\u001b[43m,\u001b[49m\n\u001b[1;32m  10084\u001b[0m \u001b[43m        \u001b[49m\u001b[43mon\u001b[49m\u001b[38;5;241;43m=\u001b[39;49m\u001b[43mon\u001b[49m\u001b[43m,\u001b[49m\n\u001b[1;32m  10085\u001b[0m \u001b[43m        \u001b[49m\u001b[43mleft_on\u001b[49m\u001b[38;5;241;43m=\u001b[39;49m\u001b[43mleft_on\u001b[49m\u001b[43m,\u001b[49m\n\u001b[1;32m  10086\u001b[0m \u001b[43m        \u001b[49m\u001b[43mright_on\u001b[49m\u001b[38;5;241;43m=\u001b[39;49m\u001b[43mright_on\u001b[49m\u001b[43m,\u001b[49m\n\u001b[1;32m  10087\u001b[0m \u001b[43m        \u001b[49m\u001b[43mleft_index\u001b[49m\u001b[38;5;241;43m=\u001b[39;49m\u001b[43mleft_index\u001b[49m\u001b[43m,\u001b[49m\n\u001b[1;32m  10088\u001b[0m \u001b[43m        \u001b[49m\u001b[43mright_index\u001b[49m\u001b[38;5;241;43m=\u001b[39;49m\u001b[43mright_index\u001b[49m\u001b[43m,\u001b[49m\n\u001b[1;32m  10089\u001b[0m \u001b[43m        \u001b[49m\u001b[43msort\u001b[49m\u001b[38;5;241;43m=\u001b[39;49m\u001b[43msort\u001b[49m\u001b[43m,\u001b[49m\n\u001b[1;32m  10090\u001b[0m \u001b[43m        \u001b[49m\u001b[43msuffixes\u001b[49m\u001b[38;5;241;43m=\u001b[39;49m\u001b[43msuffixes\u001b[49m\u001b[43m,\u001b[49m\n\u001b[1;32m  10091\u001b[0m \u001b[43m        \u001b[49m\u001b[43mcopy\u001b[49m\u001b[38;5;241;43m=\u001b[39;49m\u001b[43mcopy\u001b[49m\u001b[43m,\u001b[49m\n\u001b[1;32m  10092\u001b[0m \u001b[43m        \u001b[49m\u001b[43mindicator\u001b[49m\u001b[38;5;241;43m=\u001b[39;49m\u001b[43mindicator\u001b[49m\u001b[43m,\u001b[49m\n\u001b[1;32m  10093\u001b[0m \u001b[43m        \u001b[49m\u001b[43mvalidate\u001b[49m\u001b[38;5;241;43m=\u001b[39;49m\u001b[43mvalidate\u001b[49m\u001b[43m,\u001b[49m\n\u001b[1;32m  10094\u001b[0m \u001b[43m    \u001b[49m\u001b[43m)\u001b[49m\n",
      "File \u001b[0;32m/opt/homebrew/lib/python3.9/site-packages/pandas/core/reshape/merge.py:110\u001b[0m, in \u001b[0;36mmerge\u001b[0;34m(left, right, how, on, left_on, right_on, left_index, right_index, sort, suffixes, copy, indicator, validate)\u001b[0m\n\u001b[1;32m     93\u001b[0m \u001b[38;5;129m@Substitution\u001b[39m(\u001b[38;5;124m\"\u001b[39m\u001b[38;5;130;01m\\n\u001b[39;00m\u001b[38;5;124mleft : DataFrame or named Series\u001b[39m\u001b[38;5;124m\"\u001b[39m)\n\u001b[1;32m     94\u001b[0m \u001b[38;5;129m@Appender\u001b[39m(_merge_doc, indents\u001b[38;5;241m=\u001b[39m\u001b[38;5;241m0\u001b[39m)\n\u001b[1;32m     95\u001b[0m \u001b[38;5;28;01mdef\u001b[39;00m \u001b[38;5;21mmerge\u001b[39m(\n\u001b[0;32m   (...)\u001b[0m\n\u001b[1;32m    108\u001b[0m     validate: \u001b[38;5;28mstr\u001b[39m \u001b[38;5;241m|\u001b[39m \u001b[38;5;28;01mNone\u001b[39;00m \u001b[38;5;241m=\u001b[39m \u001b[38;5;28;01mNone\u001b[39;00m,\n\u001b[1;32m    109\u001b[0m ) \u001b[38;5;241m-\u001b[39m\u001b[38;5;241m>\u001b[39m DataFrame:\n\u001b[0;32m--> 110\u001b[0m     op \u001b[38;5;241m=\u001b[39m \u001b[43m_MergeOperation\u001b[49m\u001b[43m(\u001b[49m\n\u001b[1;32m    111\u001b[0m \u001b[43m        \u001b[49m\u001b[43mleft\u001b[49m\u001b[43m,\u001b[49m\n\u001b[1;32m    112\u001b[0m \u001b[43m        \u001b[49m\u001b[43mright\u001b[49m\u001b[43m,\u001b[49m\n\u001b[1;32m    113\u001b[0m \u001b[43m        \u001b[49m\u001b[43mhow\u001b[49m\u001b[38;5;241;43m=\u001b[39;49m\u001b[43mhow\u001b[49m\u001b[43m,\u001b[49m\n\u001b[1;32m    114\u001b[0m \u001b[43m        \u001b[49m\u001b[43mon\u001b[49m\u001b[38;5;241;43m=\u001b[39;49m\u001b[43mon\u001b[49m\u001b[43m,\u001b[49m\n\u001b[1;32m    115\u001b[0m \u001b[43m        \u001b[49m\u001b[43mleft_on\u001b[49m\u001b[38;5;241;43m=\u001b[39;49m\u001b[43mleft_on\u001b[49m\u001b[43m,\u001b[49m\n\u001b[1;32m    116\u001b[0m \u001b[43m        \u001b[49m\u001b[43mright_on\u001b[49m\u001b[38;5;241;43m=\u001b[39;49m\u001b[43mright_on\u001b[49m\u001b[43m,\u001b[49m\n\u001b[1;32m    117\u001b[0m \u001b[43m        \u001b[49m\u001b[43mleft_index\u001b[49m\u001b[38;5;241;43m=\u001b[39;49m\u001b[43mleft_index\u001b[49m\u001b[43m,\u001b[49m\n\u001b[1;32m    118\u001b[0m \u001b[43m        \u001b[49m\u001b[43mright_index\u001b[49m\u001b[38;5;241;43m=\u001b[39;49m\u001b[43mright_index\u001b[49m\u001b[43m,\u001b[49m\n\u001b[1;32m    119\u001b[0m \u001b[43m        \u001b[49m\u001b[43msort\u001b[49m\u001b[38;5;241;43m=\u001b[39;49m\u001b[43msort\u001b[49m\u001b[43m,\u001b[49m\n\u001b[1;32m    120\u001b[0m \u001b[43m        \u001b[49m\u001b[43msuffixes\u001b[49m\u001b[38;5;241;43m=\u001b[39;49m\u001b[43msuffixes\u001b[49m\u001b[43m,\u001b[49m\n\u001b[1;32m    121\u001b[0m \u001b[43m        \u001b[49m\u001b[43mindicator\u001b[49m\u001b[38;5;241;43m=\u001b[39;49m\u001b[43mindicator\u001b[49m\u001b[43m,\u001b[49m\n\u001b[1;32m    122\u001b[0m \u001b[43m        \u001b[49m\u001b[43mvalidate\u001b[49m\u001b[38;5;241;43m=\u001b[39;49m\u001b[43mvalidate\u001b[49m\u001b[43m,\u001b[49m\n\u001b[1;32m    123\u001b[0m \u001b[43m    \u001b[49m\u001b[43m)\u001b[49m\n\u001b[1;32m    124\u001b[0m     \u001b[38;5;28;01mreturn\u001b[39;00m op\u001b[38;5;241m.\u001b[39mget_result(copy\u001b[38;5;241m=\u001b[39mcopy)\n",
      "File \u001b[0;32m/opt/homebrew/lib/python3.9/site-packages/pandas/core/reshape/merge.py:703\u001b[0m, in \u001b[0;36m_MergeOperation.__init__\u001b[0;34m(self, left, right, how, on, left_on, right_on, axis, left_index, right_index, sort, suffixes, indicator, validate)\u001b[0m\n\u001b[1;32m    696\u001b[0m \u001b[38;5;28mself\u001b[39m\u001b[38;5;241m.\u001b[39m_cross \u001b[38;5;241m=\u001b[39m cross_col\n\u001b[1;32m    698\u001b[0m \u001b[38;5;66;03m# note this function has side effects\u001b[39;00m\n\u001b[1;32m    699\u001b[0m (\n\u001b[1;32m    700\u001b[0m     \u001b[38;5;28mself\u001b[39m\u001b[38;5;241m.\u001b[39mleft_join_keys,\n\u001b[1;32m    701\u001b[0m     \u001b[38;5;28mself\u001b[39m\u001b[38;5;241m.\u001b[39mright_join_keys,\n\u001b[1;32m    702\u001b[0m     \u001b[38;5;28mself\u001b[39m\u001b[38;5;241m.\u001b[39mjoin_names,\n\u001b[0;32m--> 703\u001b[0m ) \u001b[38;5;241m=\u001b[39m \u001b[38;5;28;43mself\u001b[39;49m\u001b[38;5;241;43m.\u001b[39;49m\u001b[43m_get_merge_keys\u001b[49m\u001b[43m(\u001b[49m\u001b[43m)\u001b[49m\n\u001b[1;32m    705\u001b[0m \u001b[38;5;66;03m# validate the merge keys dtypes. We may need to coerce\u001b[39;00m\n\u001b[1;32m    706\u001b[0m \u001b[38;5;66;03m# to avoid incompatible dtypes\u001b[39;00m\n\u001b[1;32m    707\u001b[0m \u001b[38;5;28mself\u001b[39m\u001b[38;5;241m.\u001b[39m_maybe_coerce_merge_keys()\n",
      "File \u001b[0;32m/opt/homebrew/lib/python3.9/site-packages/pandas/core/reshape/merge.py:1162\u001b[0m, in \u001b[0;36m_MergeOperation._get_merge_keys\u001b[0;34m(self)\u001b[0m\n\u001b[1;32m   1160\u001b[0m rk \u001b[38;5;241m=\u001b[39m cast(Hashable, rk)\n\u001b[1;32m   1161\u001b[0m \u001b[38;5;28;01mif\u001b[39;00m rk \u001b[38;5;129;01mis\u001b[39;00m \u001b[38;5;129;01mnot\u001b[39;00m \u001b[38;5;28;01mNone\u001b[39;00m:\n\u001b[0;32m-> 1162\u001b[0m     right_keys\u001b[38;5;241m.\u001b[39mappend(\u001b[43mright\u001b[49m\u001b[38;5;241;43m.\u001b[39;49m\u001b[43m_get_label_or_level_values\u001b[49m\u001b[43m(\u001b[49m\u001b[43mrk\u001b[49m\u001b[43m)\u001b[49m)\n\u001b[1;32m   1163\u001b[0m \u001b[38;5;28;01melse\u001b[39;00m:\n\u001b[1;32m   1164\u001b[0m     \u001b[38;5;66;03m# work-around for merge_asof(right_index=True)\u001b[39;00m\n\u001b[1;32m   1165\u001b[0m     right_keys\u001b[38;5;241m.\u001b[39mappend(right\u001b[38;5;241m.\u001b[39mindex)\n",
      "File \u001b[0;32m/opt/homebrew/lib/python3.9/site-packages/pandas/core/generic.py:1850\u001b[0m, in \u001b[0;36mNDFrame._get_label_or_level_values\u001b[0;34m(self, key, axis)\u001b[0m\n\u001b[1;32m   1844\u001b[0m     values \u001b[38;5;241m=\u001b[39m (\n\u001b[1;32m   1845\u001b[0m         \u001b[38;5;28mself\u001b[39m\u001b[38;5;241m.\u001b[39maxes[axis]\n\u001b[1;32m   1846\u001b[0m         \u001b[38;5;241m.\u001b[39mget_level_values(key)  \u001b[38;5;66;03m# type: ignore[assignment]\u001b[39;00m\n\u001b[1;32m   1847\u001b[0m         \u001b[38;5;241m.\u001b[39m_values\n\u001b[1;32m   1848\u001b[0m     )\n\u001b[1;32m   1849\u001b[0m \u001b[38;5;28;01melse\u001b[39;00m:\n\u001b[0;32m-> 1850\u001b[0m     \u001b[38;5;28;01mraise\u001b[39;00m \u001b[38;5;167;01mKeyError\u001b[39;00m(key)\n\u001b[1;32m   1852\u001b[0m \u001b[38;5;66;03m# Check for duplicates\u001b[39;00m\n\u001b[1;32m   1853\u001b[0m \u001b[38;5;28;01mif\u001b[39;00m values\u001b[38;5;241m.\u001b[39mndim \u001b[38;5;241m>\u001b[39m \u001b[38;5;241m1\u001b[39m:\n",
      "\u001b[0;31mKeyError\u001b[0m: 'uu_id'"
     ]
    }
   ],
   "source": [
    "tt = pred_data.merge(fin,how = 'left',on= 'uu_id')\n",
    "tt                     "
   ]
  },
  {
   "cell_type": "code",
   "execution_count": 101,
   "id": "f72fcda1",
   "metadata": {
    "execution": {
     "iopub.execute_input": "2023-05-10T01:33:22.324541Z",
     "iopub.status.busy": "2023-05-10T01:33:22.324435Z",
     "iopub.status.idle": "2023-05-10T01:33:22.331250Z",
     "shell.execute_reply": "2023-05-10T01:33:22.330987Z"
    }
   },
   "outputs": [
    {
     "ename": "TypeError",
     "evalue": "merge() got an unexpected keyword argument 'final_data'",
     "output_type": "error",
     "traceback": [
      "\u001b[0;31m---------------------------------------------------------------------------\u001b[0m",
      "\u001b[0;31mTypeError\u001b[0m                                 Traceback (most recent call last)",
      "Cell \u001b[0;32mIn [101], line 1\u001b[0m\n\u001b[0;32m----> 1\u001b[0m tt \u001b[38;5;241m=\u001b[39m \u001b[43mpred_data\u001b[49m\u001b[38;5;241;43m.\u001b[39;49m\u001b[43mmerge\u001b[49m\u001b[43m(\u001b[49m\u001b[43mfin\u001b[49m\u001b[43m,\u001b[49m\u001b[43mhow\u001b[49m\u001b[43m \u001b[49m\u001b[38;5;241;43m=\u001b[39;49m\u001b[43m \u001b[49m\u001b[38;5;124;43m'\u001b[39;49m\u001b[38;5;124;43mleft\u001b[39;49m\u001b[38;5;124;43m'\u001b[39;49m\u001b[43m,\u001b[49m\u001b[43m \u001b[49m\u001b[43mfinal_data\u001b[49m\u001b[38;5;241;43m=\u001b[39;49m\u001b[43m \u001b[49m\u001b[38;5;124;43m'\u001b[39;49m\u001b[38;5;124;43muu_id\u001b[39;49m\u001b[38;5;124;43m'\u001b[39;49m\u001b[43m)\u001b[49m\n\u001b[1;32m      2\u001b[0m tt                     \n",
      "\u001b[0;31mTypeError\u001b[0m: merge() got an unexpected keyword argument 'final_data'"
     ]
    }
   ],
   "source": [
    "tt = pred_data.merge(fin,how = 'left', final_data= 'uu_id')\n",
    "tt                     "
   ]
  },
  {
   "cell_type": "code",
   "execution_count": 102,
   "id": "8fdad112",
   "metadata": {
    "execution": {
     "iopub.execute_input": "2023-05-10T01:33:22.332592Z",
     "iopub.status.busy": "2023-05-10T01:33:22.332514Z",
     "iopub.status.idle": "2023-05-10T01:33:22.352624Z",
     "shell.execute_reply": "2023-05-10T01:33:22.352355Z"
    }
   },
   "outputs": [
    {
     "data": {
      "text/html": [
       "<div>\n",
       "<style scoped>\n",
       "    .dataframe tbody tr th:only-of-type {\n",
       "        vertical-align: middle;\n",
       "    }\n",
       "\n",
       "    .dataframe tbody tr th {\n",
       "        vertical-align: top;\n",
       "    }\n",
       "\n",
       "    .dataframe thead th {\n",
       "        text-align: right;\n",
       "    }\n",
       "</style>\n",
       "<table border=\"1\" class=\"dataframe\">\n",
       "  <thead>\n",
       "    <tr style=\"text-align: right;\">\n",
       "      <th></th>\n",
       "      <th>uu_id</th>\n",
       "      <th>week_number_x</th>\n",
       "      <th>timeperiod</th>\n",
       "      <th>week_number_y</th>\n",
       "      <th>countyfips_x</th>\n",
       "      <th>tract_x</th>\n",
       "      <th>tract_name_x</th>\n",
       "      <th>total_claims</th>\n",
       "      <th>edu_8th_or_less</th>\n",
       "      <th>edu_grades_9_11</th>\n",
       "      <th>...</th>\n",
       "      <th>race_asian</th>\n",
       "      <th>race_black</th>\n",
       "      <th>race_noanswer</th>\n",
       "      <th>race_hawaiiannative</th>\n",
       "      <th>race_other</th>\n",
       "      <th>race_white</th>\n",
       "      <th>countyfips_y</th>\n",
       "      <th>tract_y</th>\n",
       "      <th>tract_name_y</th>\n",
       "      <th>average_wage</th>\n",
       "    </tr>\n",
       "  </thead>\n",
       "  <tbody>\n",
       "    <tr>\n",
       "      <th>0</th>\n",
       "      <td>5bf51fc2e162d6faf9e3cf79e4198378</td>\n",
       "      <td>44</td>\n",
       "      <td>20220625</td>\n",
       "      <td>26</td>\n",
       "      <td>18103</td>\n",
       "      <td>952800</td>\n",
       "      <td>Census Tract 9528, Miami County, Indiana</td>\n",
       "      <td>20</td>\n",
       "      <td>0</td>\n",
       "      <td>0</td>\n",
       "      <td>...</td>\n",
       "      <td>0</td>\n",
       "      <td>0</td>\n",
       "      <td>0</td>\n",
       "      <td>0</td>\n",
       "      <td>0</td>\n",
       "      <td>15</td>\n",
       "      <td>18103</td>\n",
       "      <td>952800</td>\n",
       "      <td>Census Tract 9528, Miami County, Indiana</td>\n",
       "      <td>5008.5</td>\n",
       "    </tr>\n",
       "    <tr>\n",
       "      <th>1</th>\n",
       "      <td>5bf51fc2e162d6faf9e3cf79e4198378</td>\n",
       "      <td>44</td>\n",
       "      <td>20220820</td>\n",
       "      <td>34</td>\n",
       "      <td>18103</td>\n",
       "      <td>952800</td>\n",
       "      <td>Census Tract 9528, Miami County, Indiana</td>\n",
       "      <td>11</td>\n",
       "      <td>0</td>\n",
       "      <td>0</td>\n",
       "      <td>...</td>\n",
       "      <td>0</td>\n",
       "      <td>0</td>\n",
       "      <td>0</td>\n",
       "      <td>0</td>\n",
       "      <td>0</td>\n",
       "      <td>15</td>\n",
       "      <td>18103</td>\n",
       "      <td>952800</td>\n",
       "      <td>Census Tract 9528, Miami County, Indiana</td>\n",
       "      <td>5008.5</td>\n",
       "    </tr>\n",
       "    <tr>\n",
       "      <th>2</th>\n",
       "      <td>5bf51fc2e162d6faf9e3cf79e4198378</td>\n",
       "      <td>44</td>\n",
       "      <td>20220820</td>\n",
       "      <td>34</td>\n",
       "      <td>18103</td>\n",
       "      <td>952800</td>\n",
       "      <td>Census Tract 9528, Miami County, Indiana</td>\n",
       "      <td>11</td>\n",
       "      <td>0</td>\n",
       "      <td>0</td>\n",
       "      <td>...</td>\n",
       "      <td>0</td>\n",
       "      <td>0</td>\n",
       "      <td>0</td>\n",
       "      <td>0</td>\n",
       "      <td>0</td>\n",
       "      <td>15</td>\n",
       "      <td>18103</td>\n",
       "      <td>952800</td>\n",
       "      <td>Census Tract 9528, Miami County, Indiana</td>\n",
       "      <td>5008.5</td>\n",
       "    </tr>\n",
       "    <tr>\n",
       "      <th>3</th>\n",
       "      <td>5bf51fc2e162d6faf9e3cf79e4198378</td>\n",
       "      <td>44</td>\n",
       "      <td>20220827</td>\n",
       "      <td>35</td>\n",
       "      <td>18103</td>\n",
       "      <td>952800</td>\n",
       "      <td>Census Tract 9528, Miami County, Indiana</td>\n",
       "      <td>20</td>\n",
       "      <td>0</td>\n",
       "      <td>0</td>\n",
       "      <td>...</td>\n",
       "      <td>0</td>\n",
       "      <td>0</td>\n",
       "      <td>0</td>\n",
       "      <td>0</td>\n",
       "      <td>0</td>\n",
       "      <td>15</td>\n",
       "      <td>18103</td>\n",
       "      <td>952800</td>\n",
       "      <td>Census Tract 9528, Miami County, Indiana</td>\n",
       "      <td>5008.5</td>\n",
       "    </tr>\n",
       "    <tr>\n",
       "      <th>4</th>\n",
       "      <td>5bf51fc2e162d6faf9e3cf79e4198378</td>\n",
       "      <td>44</td>\n",
       "      <td>20220827</td>\n",
       "      <td>35</td>\n",
       "      <td>18103</td>\n",
       "      <td>952800</td>\n",
       "      <td>Census Tract 9528, Miami County, Indiana</td>\n",
       "      <td>20</td>\n",
       "      <td>0</td>\n",
       "      <td>0</td>\n",
       "      <td>...</td>\n",
       "      <td>0</td>\n",
       "      <td>0</td>\n",
       "      <td>0</td>\n",
       "      <td>0</td>\n",
       "      <td>0</td>\n",
       "      <td>15</td>\n",
       "      <td>18103</td>\n",
       "      <td>952800</td>\n",
       "      <td>Census Tract 9528, Miami County, Indiana</td>\n",
       "      <td>5008.5</td>\n",
       "    </tr>\n",
       "    <tr>\n",
       "      <th>...</th>\n",
       "      <td>...</td>\n",
       "      <td>...</td>\n",
       "      <td>...</td>\n",
       "      <td>...</td>\n",
       "      <td>...</td>\n",
       "      <td>...</td>\n",
       "      <td>...</td>\n",
       "      <td>...</td>\n",
       "      <td>...</td>\n",
       "      <td>...</td>\n",
       "      <td>...</td>\n",
       "      <td>...</td>\n",
       "      <td>...</td>\n",
       "      <td>...</td>\n",
       "      <td>...</td>\n",
       "      <td>...</td>\n",
       "      <td>...</td>\n",
       "      <td>...</td>\n",
       "      <td>...</td>\n",
       "      <td>...</td>\n",
       "      <td>...</td>\n",
       "    </tr>\n",
       "    <tr>\n",
       "      <th>16828</th>\n",
       "      <td>932a58530abff8a48558e2a15639d453</td>\n",
       "      <td>44</td>\n",
       "      <td>20220813</td>\n",
       "      <td>33</td>\n",
       "      <td>18091</td>\n",
       "      <td>41500</td>\n",
       "      <td>Census Tract 415, LaPorte County, Indiana</td>\n",
       "      <td>17</td>\n",
       "      <td>0</td>\n",
       "      <td>0</td>\n",
       "      <td>...</td>\n",
       "      <td>0</td>\n",
       "      <td>0</td>\n",
       "      <td>0</td>\n",
       "      <td>0</td>\n",
       "      <td>0</td>\n",
       "      <td>17</td>\n",
       "      <td>18091</td>\n",
       "      <td>41500</td>\n",
       "      <td>Census Tract 415, LaPorte County, Indiana</td>\n",
       "      <td>8306.0</td>\n",
       "    </tr>\n",
       "    <tr>\n",
       "      <th>16829</th>\n",
       "      <td>932a58530abff8a48558e2a15639d453</td>\n",
       "      <td>44</td>\n",
       "      <td>20220507</td>\n",
       "      <td>19</td>\n",
       "      <td>18091</td>\n",
       "      <td>41500</td>\n",
       "      <td>Census Tract 415, LaPorte County, Indiana</td>\n",
       "      <td>11</td>\n",
       "      <td>0</td>\n",
       "      <td>0</td>\n",
       "      <td>...</td>\n",
       "      <td>0</td>\n",
       "      <td>0</td>\n",
       "      <td>0</td>\n",
       "      <td>0</td>\n",
       "      <td>0</td>\n",
       "      <td>17</td>\n",
       "      <td>18091</td>\n",
       "      <td>41500</td>\n",
       "      <td>Census Tract 415, LaPorte County, Indiana</td>\n",
       "      <td>8306.0</td>\n",
       "    </tr>\n",
       "    <tr>\n",
       "      <th>16830</th>\n",
       "      <td>932a58530abff8a48558e2a15639d453</td>\n",
       "      <td>44</td>\n",
       "      <td>20220716</td>\n",
       "      <td>29</td>\n",
       "      <td>18091</td>\n",
       "      <td>41500</td>\n",
       "      <td>Census Tract 415, LaPorte County, Indiana</td>\n",
       "      <td>25</td>\n",
       "      <td>0</td>\n",
       "      <td>15</td>\n",
       "      <td>...</td>\n",
       "      <td>0</td>\n",
       "      <td>0</td>\n",
       "      <td>0</td>\n",
       "      <td>0</td>\n",
       "      <td>0</td>\n",
       "      <td>17</td>\n",
       "      <td>18091</td>\n",
       "      <td>41500</td>\n",
       "      <td>Census Tract 415, LaPorte County, Indiana</td>\n",
       "      <td>8306.0</td>\n",
       "    </tr>\n",
       "    <tr>\n",
       "      <th>16831</th>\n",
       "      <td>932a58530abff8a48558e2a15639d453</td>\n",
       "      <td>44</td>\n",
       "      <td>20220409</td>\n",
       "      <td>15</td>\n",
       "      <td>18091</td>\n",
       "      <td>41500</td>\n",
       "      <td>Census Tract 415, LaPorte County, Indiana</td>\n",
       "      <td>13</td>\n",
       "      <td>0</td>\n",
       "      <td>0</td>\n",
       "      <td>...</td>\n",
       "      <td>0</td>\n",
       "      <td>7</td>\n",
       "      <td>0</td>\n",
       "      <td>0</td>\n",
       "      <td>0</td>\n",
       "      <td>17</td>\n",
       "      <td>18091</td>\n",
       "      <td>41500</td>\n",
       "      <td>Census Tract 415, LaPorte County, Indiana</td>\n",
       "      <td>8306.0</td>\n",
       "    </tr>\n",
       "    <tr>\n",
       "      <th>16832</th>\n",
       "      <td>932a58530abff8a48558e2a15639d453</td>\n",
       "      <td>44</td>\n",
       "      <td>20220430</td>\n",
       "      <td>18</td>\n",
       "      <td>18091</td>\n",
       "      <td>41500</td>\n",
       "      <td>Census Tract 415, LaPorte County, Indiana</td>\n",
       "      <td>30</td>\n",
       "      <td>0</td>\n",
       "      <td>0</td>\n",
       "      <td>...</td>\n",
       "      <td>0</td>\n",
       "      <td>7</td>\n",
       "      <td>0</td>\n",
       "      <td>0</td>\n",
       "      <td>0</td>\n",
       "      <td>26</td>\n",
       "      <td>18091</td>\n",
       "      <td>41500</td>\n",
       "      <td>Census Tract 415, LaPorte County, Indiana</td>\n",
       "      <td>8306.0</td>\n",
       "    </tr>\n",
       "  </tbody>\n",
       "</table>\n",
       "<p>16833 rows × 30 columns</p>\n",
       "</div>"
      ],
      "text/plain": [
       "                                  uu_id  week_number_x  timeperiod  \\\n",
       "0      5bf51fc2e162d6faf9e3cf79e4198378             44    20220625   \n",
       "1      5bf51fc2e162d6faf9e3cf79e4198378             44    20220820   \n",
       "2      5bf51fc2e162d6faf9e3cf79e4198378             44    20220820   \n",
       "3      5bf51fc2e162d6faf9e3cf79e4198378             44    20220827   \n",
       "4      5bf51fc2e162d6faf9e3cf79e4198378             44    20220827   \n",
       "...                                 ...            ...         ...   \n",
       "16828  932a58530abff8a48558e2a15639d453             44    20220813   \n",
       "16829  932a58530abff8a48558e2a15639d453             44    20220507   \n",
       "16830  932a58530abff8a48558e2a15639d453             44    20220716   \n",
       "16831  932a58530abff8a48558e2a15639d453             44    20220409   \n",
       "16832  932a58530abff8a48558e2a15639d453             44    20220430   \n",
       "\n",
       "       week_number_y  countyfips_x  tract_x  \\\n",
       "0                 26         18103   952800   \n",
       "1                 34         18103   952800   \n",
       "2                 34         18103   952800   \n",
       "3                 35         18103   952800   \n",
       "4                 35         18103   952800   \n",
       "...              ...           ...      ...   \n",
       "16828             33         18091    41500   \n",
       "16829             19         18091    41500   \n",
       "16830             29         18091    41500   \n",
       "16831             15         18091    41500   \n",
       "16832             18         18091    41500   \n",
       "\n",
       "                                    tract_name_x  total_claims  \\\n",
       "0       Census Tract 9528, Miami County, Indiana            20   \n",
       "1       Census Tract 9528, Miami County, Indiana            11   \n",
       "2       Census Tract 9528, Miami County, Indiana            11   \n",
       "3       Census Tract 9528, Miami County, Indiana            20   \n",
       "4       Census Tract 9528, Miami County, Indiana            20   \n",
       "...                                          ...           ...   \n",
       "16828  Census Tract 415, LaPorte County, Indiana            17   \n",
       "16829  Census Tract 415, LaPorte County, Indiana            11   \n",
       "16830  Census Tract 415, LaPorte County, Indiana            25   \n",
       "16831  Census Tract 415, LaPorte County, Indiana            13   \n",
       "16832  Census Tract 415, LaPorte County, Indiana            30   \n",
       "\n",
       "       edu_8th_or_less  edu_grades_9_11  ...  race_asian  race_black  \\\n",
       "0                    0                0  ...           0           0   \n",
       "1                    0                0  ...           0           0   \n",
       "2                    0                0  ...           0           0   \n",
       "3                    0                0  ...           0           0   \n",
       "4                    0                0  ...           0           0   \n",
       "...                ...              ...  ...         ...         ...   \n",
       "16828                0                0  ...           0           0   \n",
       "16829                0                0  ...           0           0   \n",
       "16830                0               15  ...           0           0   \n",
       "16831                0                0  ...           0           7   \n",
       "16832                0                0  ...           0           7   \n",
       "\n",
       "       race_noanswer race_hawaiiannative race_other race_white  countyfips_y  \\\n",
       "0                  0                   0          0         15         18103   \n",
       "1                  0                   0          0         15         18103   \n",
       "2                  0                   0          0         15         18103   \n",
       "3                  0                   0          0         15         18103   \n",
       "4                  0                   0          0         15         18103   \n",
       "...              ...                 ...        ...        ...           ...   \n",
       "16828              0                   0          0         17         18091   \n",
       "16829              0                   0          0         17         18091   \n",
       "16830              0                   0          0         17         18091   \n",
       "16831              0                   0          0         17         18091   \n",
       "16832              0                   0          0         26         18091   \n",
       "\n",
       "       tract_y                               tract_name_y  average_wage  \n",
       "0       952800   Census Tract 9528, Miami County, Indiana        5008.5  \n",
       "1       952800   Census Tract 9528, Miami County, Indiana        5008.5  \n",
       "2       952800   Census Tract 9528, Miami County, Indiana        5008.5  \n",
       "3       952800   Census Tract 9528, Miami County, Indiana        5008.5  \n",
       "4       952800   Census Tract 9528, Miami County, Indiana        5008.5  \n",
       "...        ...                                        ...           ...  \n",
       "16828    41500  Census Tract 415, LaPorte County, Indiana        8306.0  \n",
       "16829    41500  Census Tract 415, LaPorte County, Indiana        8306.0  \n",
       "16830    41500  Census Tract 415, LaPorte County, Indiana        8306.0  \n",
       "16831    41500  Census Tract 415, LaPorte County, Indiana        8306.0  \n",
       "16832    41500  Census Tract 415, LaPorte County, Indiana        8306.0  \n",
       "\n",
       "[16833 rows x 30 columns]"
      ]
     },
     "execution_count": 102,
     "metadata": {},
     "output_type": "execute_result"
    }
   ],
   "source": [
    "tt = pred_data.merge(final_data,how = 'left', on= 'uu_id')\n",
    "tt                     "
   ]
  },
  {
   "cell_type": "code",
   "execution_count": 103,
   "id": "00028d78",
   "metadata": {
    "execution": {
     "iopub.execute_input": "2023-05-10T01:33:22.354068Z",
     "iopub.status.busy": "2023-05-10T01:33:22.353987Z",
     "iopub.status.idle": "2023-05-10T01:33:22.356831Z",
     "shell.execute_reply": "2023-05-10T01:33:22.356574Z"
    }
   },
   "outputs": [],
   "source": [
    "final_data1 = final_data.drop(['timeperiod','tract_x','tract_name_x','tract_y','tract_name_y','countyfips_y'],axis=1)"
   ]
  },
  {
   "cell_type": "code",
   "execution_count": 104,
   "id": "1a415b93",
   "metadata": {
    "execution": {
     "iopub.execute_input": "2023-05-10T01:33:22.358271Z",
     "iopub.status.busy": "2023-05-10T01:33:22.358183Z",
     "iopub.status.idle": "2023-05-10T01:33:22.361506Z",
     "shell.execute_reply": "2023-05-10T01:33:22.361259Z"
    }
   },
   "outputs": [],
   "source": [
    "fin = final_data1.set_index('uu_id')"
   ]
  },
  {
   "cell_type": "code",
   "execution_count": 105,
   "id": "f06491ac",
   "metadata": {
    "execution": {
     "iopub.execute_input": "2023-05-10T01:33:22.362833Z",
     "iopub.status.busy": "2023-05-10T01:33:22.362755Z",
     "iopub.status.idle": "2023-05-10T01:33:22.374255Z",
     "shell.execute_reply": "2023-05-10T01:33:22.373965Z"
    }
   },
   "outputs": [],
   "source": [
    "fin = pd.get_dummies(final_data1,columns = ['week_number','countyfips_x','top_category_employer1','top_category_employer2','top_category_employer3'])"
   ]
  },
  {
   "cell_type": "code",
   "execution_count": 106,
   "id": "81709ae6",
   "metadata": {
    "execution": {
     "iopub.execute_input": "2023-05-10T01:33:22.375876Z",
     "iopub.status.busy": "2023-05-10T01:33:22.375786Z",
     "iopub.status.idle": "2023-05-10T01:33:22.378059Z",
     "shell.execute_reply": "2023-05-10T01:33:22.377823Z"
    }
   },
   "outputs": [
    {
     "data": {
      "text/plain": [
       "(16833, 176)"
      ]
     },
     "execution_count": 106,
     "metadata": {},
     "output_type": "execute_result"
    }
   ],
   "source": [
    "fin.shape"
   ]
  },
  {
   "cell_type": "code",
   "execution_count": 107,
   "id": "5c57a496",
   "metadata": {
    "execution": {
     "iopub.execute_input": "2023-05-10T01:33:22.379370Z",
     "iopub.status.busy": "2023-05-10T01:33:22.379291Z",
     "iopub.status.idle": "2023-05-10T01:33:22.382150Z",
     "shell.execute_reply": "2023-05-10T01:33:22.381901Z"
    }
   },
   "outputs": [],
   "source": [
    "X = fin.drop(['total_claims'],axis=1)\n",
    "Y = fin['total_claims']"
   ]
  },
  {
   "cell_type": "code",
   "execution_count": 108,
   "id": "c38d8484",
   "metadata": {
    "execution": {
     "iopub.execute_input": "2023-05-10T01:33:22.383473Z",
     "iopub.status.busy": "2023-05-10T01:33:22.383387Z",
     "iopub.status.idle": "2023-05-10T01:33:22.393302Z",
     "shell.execute_reply": "2023-05-10T01:33:22.393054Z"
    }
   },
   "outputs": [],
   "source": [
    "from sklearn.model_selection import train_test_split\n",
    "from sklearn.linear_model import LinearRegression\n",
    "X_train, X_test,Y_train, Y_test = train_test_split(X,Y,test_size = 0.2, random_state=32)"
   ]
  },
  {
   "cell_type": "code",
   "execution_count": 109,
   "id": "9a16c8f3",
   "metadata": {
    "execution": {
     "iopub.execute_input": "2023-05-10T01:33:22.394762Z",
     "iopub.status.busy": "2023-05-10T01:33:22.394680Z",
     "iopub.status.idle": "2023-05-10T01:33:22.586007Z",
     "shell.execute_reply": "2023-05-10T01:33:22.585680Z"
    }
   },
   "outputs": [
    {
     "ename": "ValueError",
     "evalue": "DataFrame.dtypes for data must be int, float, bool or category. When categorical type is supplied, The experimental DMatrix parameter`enable_categorical` must be set to `True`.  Invalid columns:uu_id: object",
     "output_type": "error",
     "traceback": [
      "\u001b[0;31m---------------------------------------------------------------------------\u001b[0m",
      "\u001b[0;31mValueError\u001b[0m                                Traceback (most recent call last)",
      "Cell \u001b[0;32mIn [109], line 2\u001b[0m\n\u001b[1;32m      1\u001b[0m \u001b[38;5;28;01mimport\u001b[39;00m \u001b[38;5;21;01mxgboost\u001b[39;00m \u001b[38;5;28;01mas\u001b[39;00m \u001b[38;5;21;01mxgb\u001b[39;00m\n\u001b[0;32m----> 2\u001b[0m model \u001b[38;5;241m=\u001b[39m \u001b[43mxgb\u001b[49m\u001b[38;5;241;43m.\u001b[39;49m\u001b[43mXGBRegressor\u001b[49m\u001b[43m(\u001b[49m\u001b[43mn_estimators\u001b[49m\u001b[38;5;241;43m=\u001b[39;49m\u001b[38;5;241;43m500\u001b[39;49m\u001b[43m,\u001b[49m\u001b[43m \u001b[49m\u001b[43mmax_depth\u001b[49m\u001b[38;5;241;43m=\u001b[39;49m\u001b[38;5;241;43m4\u001b[39;49m\u001b[43m,\u001b[49m\u001b[43meta\u001b[49m\u001b[38;5;241;43m=\u001b[39;49m\u001b[38;5;241;43m0.1\u001b[39;49m\u001b[43m)\u001b[49m\u001b[38;5;241;43m.\u001b[39;49m\u001b[43mfit\u001b[49m\u001b[43m(\u001b[49m\u001b[43mX_train\u001b[49m\u001b[43m,\u001b[49m\u001b[43mY_train\u001b[49m\u001b[43m)\u001b[49m\n\u001b[1;32m      3\u001b[0m y_pred \u001b[38;5;241m=\u001b[39m model\u001b[38;5;241m.\u001b[39mpredict(X_test)\n",
      "File \u001b[0;32m/opt/homebrew/lib/python3.9/site-packages/xgboost/core.py:620\u001b[0m, in \u001b[0;36mrequire_keyword_args.<locals>.throw_if.<locals>.inner_f\u001b[0;34m(*args, **kwargs)\u001b[0m\n\u001b[1;32m    618\u001b[0m \u001b[38;5;28;01mfor\u001b[39;00m k, arg \u001b[38;5;129;01min\u001b[39;00m \u001b[38;5;28mzip\u001b[39m(sig\u001b[38;5;241m.\u001b[39mparameters, args):\n\u001b[1;32m    619\u001b[0m     kwargs[k] \u001b[38;5;241m=\u001b[39m arg\n\u001b[0;32m--> 620\u001b[0m \u001b[38;5;28;01mreturn\u001b[39;00m \u001b[43mfunc\u001b[49m\u001b[43m(\u001b[49m\u001b[38;5;241;43m*\u001b[39;49m\u001b[38;5;241;43m*\u001b[39;49m\u001b[43mkwargs\u001b[49m\u001b[43m)\u001b[49m\n",
      "File \u001b[0;32m/opt/homebrew/lib/python3.9/site-packages/xgboost/sklearn.py:988\u001b[0m, in \u001b[0;36mXGBModel.fit\u001b[0;34m(self, X, y, sample_weight, base_margin, eval_set, eval_metric, early_stopping_rounds, verbose, xgb_model, sample_weight_eval_set, base_margin_eval_set, feature_weights, callbacks)\u001b[0m\n\u001b[1;32m    986\u001b[0m \u001b[38;5;28;01mwith\u001b[39;00m config_context(verbosity\u001b[38;5;241m=\u001b[39m\u001b[38;5;28mself\u001b[39m\u001b[38;5;241m.\u001b[39mverbosity):\n\u001b[1;32m    987\u001b[0m     evals_result: TrainingCallback\u001b[38;5;241m.\u001b[39mEvalsLog \u001b[38;5;241m=\u001b[39m {}\n\u001b[0;32m--> 988\u001b[0m     train_dmatrix, evals \u001b[38;5;241m=\u001b[39m \u001b[43m_wrap_evaluation_matrices\u001b[49m\u001b[43m(\u001b[49m\n\u001b[1;32m    989\u001b[0m \u001b[43m        \u001b[49m\u001b[43mmissing\u001b[49m\u001b[38;5;241;43m=\u001b[39;49m\u001b[38;5;28;43mself\u001b[39;49m\u001b[38;5;241;43m.\u001b[39;49m\u001b[43mmissing\u001b[49m\u001b[43m,\u001b[49m\n\u001b[1;32m    990\u001b[0m \u001b[43m        \u001b[49m\u001b[43mX\u001b[49m\u001b[38;5;241;43m=\u001b[39;49m\u001b[43mX\u001b[49m\u001b[43m,\u001b[49m\n\u001b[1;32m    991\u001b[0m \u001b[43m        \u001b[49m\u001b[43my\u001b[49m\u001b[38;5;241;43m=\u001b[39;49m\u001b[43my\u001b[49m\u001b[43m,\u001b[49m\n\u001b[1;32m    992\u001b[0m \u001b[43m        \u001b[49m\u001b[43mgroup\u001b[49m\u001b[38;5;241;43m=\u001b[39;49m\u001b[38;5;28;43;01mNone\u001b[39;49;00m\u001b[43m,\u001b[49m\n\u001b[1;32m    993\u001b[0m \u001b[43m        \u001b[49m\u001b[43mqid\u001b[49m\u001b[38;5;241;43m=\u001b[39;49m\u001b[38;5;28;43;01mNone\u001b[39;49;00m\u001b[43m,\u001b[49m\n\u001b[1;32m    994\u001b[0m \u001b[43m        \u001b[49m\u001b[43msample_weight\u001b[49m\u001b[38;5;241;43m=\u001b[39;49m\u001b[43msample_weight\u001b[49m\u001b[43m,\u001b[49m\n\u001b[1;32m    995\u001b[0m \u001b[43m        \u001b[49m\u001b[43mbase_margin\u001b[49m\u001b[38;5;241;43m=\u001b[39;49m\u001b[43mbase_margin\u001b[49m\u001b[43m,\u001b[49m\n\u001b[1;32m    996\u001b[0m \u001b[43m        \u001b[49m\u001b[43mfeature_weights\u001b[49m\u001b[38;5;241;43m=\u001b[39;49m\u001b[43mfeature_weights\u001b[49m\u001b[43m,\u001b[49m\n\u001b[1;32m    997\u001b[0m \u001b[43m        \u001b[49m\u001b[43meval_set\u001b[49m\u001b[38;5;241;43m=\u001b[39;49m\u001b[43meval_set\u001b[49m\u001b[43m,\u001b[49m\n\u001b[1;32m    998\u001b[0m \u001b[43m        \u001b[49m\u001b[43msample_weight_eval_set\u001b[49m\u001b[38;5;241;43m=\u001b[39;49m\u001b[43msample_weight_eval_set\u001b[49m\u001b[43m,\u001b[49m\n\u001b[1;32m    999\u001b[0m \u001b[43m        \u001b[49m\u001b[43mbase_margin_eval_set\u001b[49m\u001b[38;5;241;43m=\u001b[39;49m\u001b[43mbase_margin_eval_set\u001b[49m\u001b[43m,\u001b[49m\n\u001b[1;32m   1000\u001b[0m \u001b[43m        \u001b[49m\u001b[43meval_group\u001b[49m\u001b[38;5;241;43m=\u001b[39;49m\u001b[38;5;28;43;01mNone\u001b[39;49;00m\u001b[43m,\u001b[49m\n\u001b[1;32m   1001\u001b[0m \u001b[43m        \u001b[49m\u001b[43meval_qid\u001b[49m\u001b[38;5;241;43m=\u001b[39;49m\u001b[38;5;28;43;01mNone\u001b[39;49;00m\u001b[43m,\u001b[49m\n\u001b[1;32m   1002\u001b[0m \u001b[43m        \u001b[49m\u001b[43mcreate_dmatrix\u001b[49m\u001b[38;5;241;43m=\u001b[39;49m\u001b[38;5;28;43mself\u001b[39;49m\u001b[38;5;241;43m.\u001b[39;49m\u001b[43m_create_dmatrix\u001b[49m\u001b[43m,\u001b[49m\n\u001b[1;32m   1003\u001b[0m \u001b[43m        \u001b[49m\u001b[43menable_categorical\u001b[49m\u001b[38;5;241;43m=\u001b[39;49m\u001b[38;5;28;43mself\u001b[39;49m\u001b[38;5;241;43m.\u001b[39;49m\u001b[43menable_categorical\u001b[49m\u001b[43m,\u001b[49m\n\u001b[1;32m   1004\u001b[0m \u001b[43m        \u001b[49m\u001b[43mfeature_types\u001b[49m\u001b[38;5;241;43m=\u001b[39;49m\u001b[38;5;28;43mself\u001b[39;49m\u001b[38;5;241;43m.\u001b[39;49m\u001b[43mfeature_types\u001b[49m\u001b[43m,\u001b[49m\n\u001b[1;32m   1005\u001b[0m \u001b[43m    \u001b[49m\u001b[43m)\u001b[49m\n\u001b[1;32m   1006\u001b[0m     params \u001b[38;5;241m=\u001b[39m \u001b[38;5;28mself\u001b[39m\u001b[38;5;241m.\u001b[39mget_xgb_params()\n\u001b[1;32m   1008\u001b[0m     \u001b[38;5;28;01mif\u001b[39;00m callable(\u001b[38;5;28mself\u001b[39m\u001b[38;5;241m.\u001b[39mobjective):\n",
      "File \u001b[0;32m/opt/homebrew/lib/python3.9/site-packages/xgboost/sklearn.py:448\u001b[0m, in \u001b[0;36m_wrap_evaluation_matrices\u001b[0;34m(missing, X, y, group, qid, sample_weight, base_margin, feature_weights, eval_set, sample_weight_eval_set, base_margin_eval_set, eval_group, eval_qid, create_dmatrix, enable_categorical, feature_types)\u001b[0m\n\u001b[1;32m    428\u001b[0m \u001b[38;5;28;01mdef\u001b[39;00m \u001b[38;5;21m_wrap_evaluation_matrices\u001b[39m(\n\u001b[1;32m    429\u001b[0m     missing: \u001b[38;5;28mfloat\u001b[39m,\n\u001b[1;32m    430\u001b[0m     X: Any,\n\u001b[0;32m   (...)\u001b[0m\n\u001b[1;32m    444\u001b[0m     feature_types: Optional[FeatureTypes],\n\u001b[1;32m    445\u001b[0m ) \u001b[38;5;241m-\u001b[39m\u001b[38;5;241m>\u001b[39m Tuple[Any, List[Tuple[Any, \u001b[38;5;28mstr\u001b[39m]]]:\n\u001b[1;32m    446\u001b[0m     \u001b[38;5;124;03m\"\"\"Convert array_like evaluation matrices into DMatrix.  Perform validation on the\u001b[39;00m\n\u001b[1;32m    447\u001b[0m \u001b[38;5;124;03m    way.\"\"\"\u001b[39;00m\n\u001b[0;32m--> 448\u001b[0m     train_dmatrix \u001b[38;5;241m=\u001b[39m \u001b[43mcreate_dmatrix\u001b[49m\u001b[43m(\u001b[49m\n\u001b[1;32m    449\u001b[0m \u001b[43m        \u001b[49m\u001b[43mdata\u001b[49m\u001b[38;5;241;43m=\u001b[39;49m\u001b[43mX\u001b[49m\u001b[43m,\u001b[49m\n\u001b[1;32m    450\u001b[0m \u001b[43m        \u001b[49m\u001b[43mlabel\u001b[49m\u001b[38;5;241;43m=\u001b[39;49m\u001b[43my\u001b[49m\u001b[43m,\u001b[49m\n\u001b[1;32m    451\u001b[0m \u001b[43m        \u001b[49m\u001b[43mgroup\u001b[49m\u001b[38;5;241;43m=\u001b[39;49m\u001b[43mgroup\u001b[49m\u001b[43m,\u001b[49m\n\u001b[1;32m    452\u001b[0m \u001b[43m        \u001b[49m\u001b[43mqid\u001b[49m\u001b[38;5;241;43m=\u001b[39;49m\u001b[43mqid\u001b[49m\u001b[43m,\u001b[49m\n\u001b[1;32m    453\u001b[0m \u001b[43m        \u001b[49m\u001b[43mweight\u001b[49m\u001b[38;5;241;43m=\u001b[39;49m\u001b[43msample_weight\u001b[49m\u001b[43m,\u001b[49m\n\u001b[1;32m    454\u001b[0m \u001b[43m        \u001b[49m\u001b[43mbase_margin\u001b[49m\u001b[38;5;241;43m=\u001b[39;49m\u001b[43mbase_margin\u001b[49m\u001b[43m,\u001b[49m\n\u001b[1;32m    455\u001b[0m \u001b[43m        \u001b[49m\u001b[43mfeature_weights\u001b[49m\u001b[38;5;241;43m=\u001b[39;49m\u001b[43mfeature_weights\u001b[49m\u001b[43m,\u001b[49m\n\u001b[1;32m    456\u001b[0m \u001b[43m        \u001b[49m\u001b[43mmissing\u001b[49m\u001b[38;5;241;43m=\u001b[39;49m\u001b[43mmissing\u001b[49m\u001b[43m,\u001b[49m\n\u001b[1;32m    457\u001b[0m \u001b[43m        \u001b[49m\u001b[43menable_categorical\u001b[49m\u001b[38;5;241;43m=\u001b[39;49m\u001b[43menable_categorical\u001b[49m\u001b[43m,\u001b[49m\n\u001b[1;32m    458\u001b[0m \u001b[43m        \u001b[49m\u001b[43mfeature_types\u001b[49m\u001b[38;5;241;43m=\u001b[39;49m\u001b[43mfeature_types\u001b[49m\u001b[43m,\u001b[49m\n\u001b[1;32m    459\u001b[0m \u001b[43m        \u001b[49m\u001b[43mref\u001b[49m\u001b[38;5;241;43m=\u001b[39;49m\u001b[38;5;28;43;01mNone\u001b[39;49;00m\u001b[43m,\u001b[49m\n\u001b[1;32m    460\u001b[0m \u001b[43m    \u001b[49m\u001b[43m)\u001b[49m\n\u001b[1;32m    462\u001b[0m     n_validation \u001b[38;5;241m=\u001b[39m \u001b[38;5;241m0\u001b[39m \u001b[38;5;28;01mif\u001b[39;00m eval_set \u001b[38;5;129;01mis\u001b[39;00m \u001b[38;5;28;01mNone\u001b[39;00m \u001b[38;5;28;01melse\u001b[39;00m \u001b[38;5;28mlen\u001b[39m(eval_set)\n\u001b[1;32m    464\u001b[0m     \u001b[38;5;28;01mdef\u001b[39;00m \u001b[38;5;21mvalidate_or_none\u001b[39m(meta: Optional[Sequence], name: \u001b[38;5;28mstr\u001b[39m) \u001b[38;5;241m-\u001b[39m\u001b[38;5;241m>\u001b[39m Sequence:\n",
      "File \u001b[0;32m/opt/homebrew/lib/python3.9/site-packages/xgboost/sklearn.py:908\u001b[0m, in \u001b[0;36mXGBModel._create_dmatrix\u001b[0;34m(self, ref, **kwargs)\u001b[0m\n\u001b[1;32m    906\u001b[0m     \u001b[38;5;28;01mexcept\u001b[39;00m \u001b[38;5;167;01mTypeError\u001b[39;00m:  \u001b[38;5;66;03m# `QuantileDMatrix` supports lesser types than DMatrix\u001b[39;00m\n\u001b[1;32m    907\u001b[0m         \u001b[38;5;28;01mpass\u001b[39;00m\n\u001b[0;32m--> 908\u001b[0m \u001b[38;5;28;01mreturn\u001b[39;00m \u001b[43mDMatrix\u001b[49m\u001b[43m(\u001b[49m\u001b[38;5;241;43m*\u001b[39;49m\u001b[38;5;241;43m*\u001b[39;49m\u001b[43mkwargs\u001b[49m\u001b[43m,\u001b[49m\u001b[43m \u001b[49m\u001b[43mnthread\u001b[49m\u001b[38;5;241;43m=\u001b[39;49m\u001b[38;5;28;43mself\u001b[39;49m\u001b[38;5;241;43m.\u001b[39;49m\u001b[43mn_jobs\u001b[49m\u001b[43m)\u001b[49m\n",
      "File \u001b[0;32m/opt/homebrew/lib/python3.9/site-packages/xgboost/core.py:620\u001b[0m, in \u001b[0;36mrequire_keyword_args.<locals>.throw_if.<locals>.inner_f\u001b[0;34m(*args, **kwargs)\u001b[0m\n\u001b[1;32m    618\u001b[0m \u001b[38;5;28;01mfor\u001b[39;00m k, arg \u001b[38;5;129;01min\u001b[39;00m \u001b[38;5;28mzip\u001b[39m(sig\u001b[38;5;241m.\u001b[39mparameters, args):\n\u001b[1;32m    619\u001b[0m     kwargs[k] \u001b[38;5;241m=\u001b[39m arg\n\u001b[0;32m--> 620\u001b[0m \u001b[38;5;28;01mreturn\u001b[39;00m \u001b[43mfunc\u001b[49m\u001b[43m(\u001b[49m\u001b[38;5;241;43m*\u001b[39;49m\u001b[38;5;241;43m*\u001b[39;49m\u001b[43mkwargs\u001b[49m\u001b[43m)\u001b[49m\n",
      "File \u001b[0;32m/opt/homebrew/lib/python3.9/site-packages/xgboost/core.py:743\u001b[0m, in \u001b[0;36mDMatrix.__init__\u001b[0;34m(self, data, label, weight, base_margin, missing, silent, feature_names, feature_types, nthread, group, qid, label_lower_bound, label_upper_bound, feature_weights, enable_categorical)\u001b[0m\n\u001b[1;32m    740\u001b[0m     \u001b[38;5;28;01massert\u001b[39;00m \u001b[38;5;28mself\u001b[39m\u001b[38;5;241m.\u001b[39mhandle \u001b[38;5;129;01mis\u001b[39;00m \u001b[38;5;129;01mnot\u001b[39;00m \u001b[38;5;28;01mNone\u001b[39;00m\n\u001b[1;32m    741\u001b[0m     \u001b[38;5;28;01mreturn\u001b[39;00m\n\u001b[0;32m--> 743\u001b[0m handle, feature_names, feature_types \u001b[38;5;241m=\u001b[39m \u001b[43mdispatch_data_backend\u001b[49m\u001b[43m(\u001b[49m\n\u001b[1;32m    744\u001b[0m \u001b[43m    \u001b[49m\u001b[43mdata\u001b[49m\u001b[43m,\u001b[49m\n\u001b[1;32m    745\u001b[0m \u001b[43m    \u001b[49m\u001b[43mmissing\u001b[49m\u001b[38;5;241;43m=\u001b[39;49m\u001b[38;5;28;43mself\u001b[39;49m\u001b[38;5;241;43m.\u001b[39;49m\u001b[43mmissing\u001b[49m\u001b[43m,\u001b[49m\n\u001b[1;32m    746\u001b[0m \u001b[43m    \u001b[49m\u001b[43mthreads\u001b[49m\u001b[38;5;241;43m=\u001b[39;49m\u001b[38;5;28;43mself\u001b[39;49m\u001b[38;5;241;43m.\u001b[39;49m\u001b[43mnthread\u001b[49m\u001b[43m,\u001b[49m\n\u001b[1;32m    747\u001b[0m \u001b[43m    \u001b[49m\u001b[43mfeature_names\u001b[49m\u001b[38;5;241;43m=\u001b[39;49m\u001b[43mfeature_names\u001b[49m\u001b[43m,\u001b[49m\n\u001b[1;32m    748\u001b[0m \u001b[43m    \u001b[49m\u001b[43mfeature_types\u001b[49m\u001b[38;5;241;43m=\u001b[39;49m\u001b[43mfeature_types\u001b[49m\u001b[43m,\u001b[49m\n\u001b[1;32m    749\u001b[0m \u001b[43m    \u001b[49m\u001b[43menable_categorical\u001b[49m\u001b[38;5;241;43m=\u001b[39;49m\u001b[43menable_categorical\u001b[49m\u001b[43m,\u001b[49m\n\u001b[1;32m    750\u001b[0m \u001b[43m\u001b[49m\u001b[43m)\u001b[49m\n\u001b[1;32m    751\u001b[0m \u001b[38;5;28;01massert\u001b[39;00m handle \u001b[38;5;129;01mis\u001b[39;00m \u001b[38;5;129;01mnot\u001b[39;00m \u001b[38;5;28;01mNone\u001b[39;00m\n\u001b[1;32m    752\u001b[0m \u001b[38;5;28mself\u001b[39m\u001b[38;5;241m.\u001b[39mhandle \u001b[38;5;241m=\u001b[39m handle\n",
      "File \u001b[0;32m/opt/homebrew/lib/python3.9/site-packages/xgboost/data.py:970\u001b[0m, in \u001b[0;36mdispatch_data_backend\u001b[0;34m(data, missing, threads, feature_names, feature_types, enable_categorical)\u001b[0m\n\u001b[1;32m    968\u001b[0m     \u001b[38;5;28;01mreturn\u001b[39;00m _from_tuple(data, missing, threads, feature_names, feature_types)\n\u001b[1;32m    969\u001b[0m \u001b[38;5;28;01mif\u001b[39;00m _is_pandas_df(data):\n\u001b[0;32m--> 970\u001b[0m     \u001b[38;5;28;01mreturn\u001b[39;00m \u001b[43m_from_pandas_df\u001b[49m\u001b[43m(\u001b[49m\u001b[43mdata\u001b[49m\u001b[43m,\u001b[49m\u001b[43m \u001b[49m\u001b[43menable_categorical\u001b[49m\u001b[43m,\u001b[49m\u001b[43m \u001b[49m\u001b[43mmissing\u001b[49m\u001b[43m,\u001b[49m\u001b[43m \u001b[49m\u001b[43mthreads\u001b[49m\u001b[43m,\u001b[49m\n\u001b[1;32m    971\u001b[0m \u001b[43m                           \u001b[49m\u001b[43mfeature_names\u001b[49m\u001b[43m,\u001b[49m\u001b[43m \u001b[49m\u001b[43mfeature_types\u001b[49m\u001b[43m)\u001b[49m\n\u001b[1;32m    972\u001b[0m \u001b[38;5;28;01mif\u001b[39;00m _is_pandas_series(data):\n\u001b[1;32m    973\u001b[0m     \u001b[38;5;28;01mreturn\u001b[39;00m _from_pandas_series(\n\u001b[1;32m    974\u001b[0m         data, missing, threads, enable_categorical, feature_names, feature_types\n\u001b[1;32m    975\u001b[0m     )\n",
      "File \u001b[0;32m/opt/homebrew/lib/python3.9/site-packages/xgboost/data.py:417\u001b[0m, in \u001b[0;36m_from_pandas_df\u001b[0;34m(data, enable_categorical, missing, nthread, feature_names, feature_types)\u001b[0m\n\u001b[1;32m    409\u001b[0m \u001b[38;5;28;01mdef\u001b[39;00m \u001b[38;5;21m_from_pandas_df\u001b[39m(\n\u001b[1;32m    410\u001b[0m     data: DataFrame,\n\u001b[1;32m    411\u001b[0m     enable_categorical: \u001b[38;5;28mbool\u001b[39m,\n\u001b[0;32m   (...)\u001b[0m\n\u001b[1;32m    415\u001b[0m     feature_types: Optional[FeatureTypes],\n\u001b[1;32m    416\u001b[0m ) \u001b[38;5;241m-\u001b[39m\u001b[38;5;241m>\u001b[39m DispatchedDataBackendReturnType:\n\u001b[0;32m--> 417\u001b[0m     data, feature_names, feature_types \u001b[38;5;241m=\u001b[39m \u001b[43m_transform_pandas_df\u001b[49m\u001b[43m(\u001b[49m\n\u001b[1;32m    418\u001b[0m \u001b[43m        \u001b[49m\u001b[43mdata\u001b[49m\u001b[43m,\u001b[49m\u001b[43m \u001b[49m\u001b[43menable_categorical\u001b[49m\u001b[43m,\u001b[49m\u001b[43m \u001b[49m\u001b[43mfeature_names\u001b[49m\u001b[43m,\u001b[49m\u001b[43m \u001b[49m\u001b[43mfeature_types\u001b[49m\n\u001b[1;32m    419\u001b[0m \u001b[43m    \u001b[49m\u001b[43m)\u001b[49m\n\u001b[1;32m    420\u001b[0m     \u001b[38;5;28;01mreturn\u001b[39;00m _from_numpy_array(data, missing, nthread, feature_names, feature_types)\n",
      "File \u001b[0;32m/opt/homebrew/lib/python3.9/site-packages/xgboost/data.py:391\u001b[0m, in \u001b[0;36m_transform_pandas_df\u001b[0;34m(data, enable_categorical, feature_names, feature_types, meta, meta_type)\u001b[0m\n\u001b[1;32m    379\u001b[0m \u001b[38;5;28;01mfrom\u001b[39;00m \u001b[38;5;21;01mpandas\u001b[39;00m\u001b[38;5;21;01m.\u001b[39;00m\u001b[38;5;21;01mapi\u001b[39;00m\u001b[38;5;21;01m.\u001b[39;00m\u001b[38;5;21;01mtypes\u001b[39;00m \u001b[38;5;28;01mimport\u001b[39;00m (\n\u001b[1;32m    380\u001b[0m     is_sparse,\n\u001b[1;32m    381\u001b[0m     is_categorical_dtype,\n\u001b[1;32m    382\u001b[0m )\n\u001b[1;32m    384\u001b[0m \u001b[38;5;28;01mif\u001b[39;00m \u001b[38;5;129;01mnot\u001b[39;00m \u001b[38;5;28mall\u001b[39m(\n\u001b[1;32m    385\u001b[0m     dtype\u001b[38;5;241m.\u001b[39mname \u001b[38;5;129;01min\u001b[39;00m _pandas_dtype_mapper\n\u001b[1;32m    386\u001b[0m     \u001b[38;5;129;01mor\u001b[39;00m is_sparse(dtype)\n\u001b[0;32m   (...)\u001b[0m\n\u001b[1;32m    389\u001b[0m     \u001b[38;5;28;01mfor\u001b[39;00m dtype \u001b[38;5;129;01min\u001b[39;00m data\u001b[38;5;241m.\u001b[39mdtypes\n\u001b[1;32m    390\u001b[0m ):\n\u001b[0;32m--> 391\u001b[0m     \u001b[43m_invalid_dataframe_dtype\u001b[49m\u001b[43m(\u001b[49m\u001b[43mdata\u001b[49m\u001b[43m)\u001b[49m\n\u001b[1;32m    393\u001b[0m feature_names, feature_types \u001b[38;5;241m=\u001b[39m _pandas_feature_info(\n\u001b[1;32m    394\u001b[0m     data, meta, feature_names, feature_types, enable_categorical\n\u001b[1;32m    395\u001b[0m )\n\u001b[1;32m    397\u001b[0m transformed \u001b[38;5;241m=\u001b[39m _pandas_cat_null(data)\n",
      "File \u001b[0;32m/opt/homebrew/lib/python3.9/site-packages/xgboost/data.py:283\u001b[0m, in \u001b[0;36m_invalid_dataframe_dtype\u001b[0;34m(data)\u001b[0m\n\u001b[1;32m    281\u001b[0m type_err \u001b[38;5;241m=\u001b[39m \u001b[38;5;124m\"\u001b[39m\u001b[38;5;124mDataFrame.dtypes for data must be int, float, bool or category.\u001b[39m\u001b[38;5;124m\"\u001b[39m\n\u001b[1;32m    282\u001b[0m msg \u001b[38;5;241m=\u001b[39m \u001b[38;5;124mf\u001b[39m\u001b[38;5;124m\"\"\"\u001b[39m\u001b[38;5;132;01m{\u001b[39;00mtype_err\u001b[38;5;132;01m}\u001b[39;00m\u001b[38;5;124m \u001b[39m\u001b[38;5;132;01m{\u001b[39;00m_ENABLE_CAT_ERR\u001b[38;5;132;01m}\u001b[39;00m\u001b[38;5;124m \u001b[39m\u001b[38;5;132;01m{\u001b[39;00merr\u001b[38;5;132;01m}\u001b[39;00m\u001b[38;5;124m\"\"\"\u001b[39m\n\u001b[0;32m--> 283\u001b[0m \u001b[38;5;28;01mraise\u001b[39;00m \u001b[38;5;167;01mValueError\u001b[39;00m(msg)\n",
      "\u001b[0;31mValueError\u001b[0m: DataFrame.dtypes for data must be int, float, bool or category. When categorical type is supplied, The experimental DMatrix parameter`enable_categorical` must be set to `True`.  Invalid columns:uu_id: object"
     ]
    }
   ],
   "source": [
    "import xgboost as xgb\n",
    "model = xgb.XGBRegressor(n_estimators=500, max_depth=4,eta=0.1).fit(X_train,Y_train)\n",
    "y_pred = model.predict(X_test)"
   ]
  },
  {
   "cell_type": "code",
   "execution_count": 110,
   "id": "e029995e",
   "metadata": {
    "execution": {
     "iopub.execute_input": "2023-05-10T01:33:22.587590Z",
     "iopub.status.busy": "2023-05-10T01:33:22.587476Z",
     "iopub.status.idle": "2023-05-10T01:33:22.590359Z",
     "shell.execute_reply": "2023-05-10T01:33:22.590131Z"
    }
   },
   "outputs": [],
   "source": [
    "final_data1 = final_data.drop(['timeperiod','tract_x','tract_name_x','tract_y','tract_name_y','countyfips_y'],axis=1)"
   ]
  },
  {
   "cell_type": "code",
   "execution_count": 111,
   "id": "4ea537b9",
   "metadata": {
    "execution": {
     "iopub.execute_input": "2023-05-10T01:33:22.591734Z",
     "iopub.status.busy": "2023-05-10T01:33:22.591639Z",
     "iopub.status.idle": "2023-05-10T01:33:22.602889Z",
     "shell.execute_reply": "2023-05-10T01:33:22.602615Z"
    }
   },
   "outputs": [],
   "source": [
    "fin = pd.get_dummies(final_data1,columns = ['week_number','countyfips_x','top_category_employer1','top_category_employer2','top_category_employer3'])"
   ]
  },
  {
   "cell_type": "code",
   "execution_count": 112,
   "id": "28292453",
   "metadata": {
    "execution": {
     "iopub.execute_input": "2023-05-10T01:33:22.604378Z",
     "iopub.status.busy": "2023-05-10T01:33:22.604293Z",
     "iopub.status.idle": "2023-05-10T01:33:22.607041Z",
     "shell.execute_reply": "2023-05-10T01:33:22.606789Z"
    }
   },
   "outputs": [],
   "source": [
    "X = fin.drop(['total_claims'],axis=1)\n",
    "Y = fin['total_claims']"
   ]
  },
  {
   "cell_type": "code",
   "execution_count": 113,
   "id": "d8cff492",
   "metadata": {
    "execution": {
     "iopub.execute_input": "2023-05-10T01:33:22.608518Z",
     "iopub.status.busy": "2023-05-10T01:33:22.608438Z",
     "iopub.status.idle": "2023-05-10T01:33:22.618133Z",
     "shell.execute_reply": "2023-05-10T01:33:22.617853Z"
    }
   },
   "outputs": [],
   "source": [
    "from sklearn.model_selection import train_test_split\n",
    "from sklearn.linear_model import LinearRegression\n",
    "X_train, X_test,Y_train, Y_test = train_test_split(X,Y,test_size = 0.2, random_state=32)"
   ]
  },
  {
   "cell_type": "code",
   "execution_count": 114,
   "id": "fe521c43",
   "metadata": {
    "execution": {
     "iopub.execute_input": "2023-05-10T01:33:22.619600Z",
     "iopub.status.busy": "2023-05-10T01:33:22.619519Z",
     "iopub.status.idle": "2023-05-10T01:33:22.622500Z",
     "shell.execute_reply": "2023-05-10T01:33:22.622232Z"
    }
   },
   "outputs": [],
   "source": [
    "X_train_data = X_train.drop(['uu_id'],axis=1)\n",
    "X_test_data = X_test.drop(['uu_id'],axis=1)"
   ]
  },
  {
   "cell_type": "code",
   "execution_count": 115,
   "id": "a30befca",
   "metadata": {
    "execution": {
     "iopub.execute_input": "2023-05-10T01:33:22.623804Z",
     "iopub.status.busy": "2023-05-10T01:33:22.623730Z",
     "iopub.status.idle": "2023-05-10T01:33:22.733259Z",
     "shell.execute_reply": "2023-05-10T01:33:22.732382Z"
    }
   },
   "outputs": [],
   "source": [
    "lm = LinearRegression().fit(X_train_data,Y_train)\n",
    "prediction = lm.predict(X_test_data)"
   ]
  },
  {
   "cell_type": "code",
   "execution_count": 116,
   "id": "30b5bad8",
   "metadata": {
    "execution": {
     "iopub.execute_input": "2023-05-10T01:33:22.737777Z",
     "iopub.status.busy": "2023-05-10T01:33:22.737479Z",
     "iopub.status.idle": "2023-05-10T01:33:22.758055Z",
     "shell.execute_reply": "2023-05-10T01:33:22.757272Z"
    }
   },
   "outputs": [
    {
     "data": {
      "text/plain": [
       "0.7231720964615613"
      ]
     },
     "execution_count": 116,
     "metadata": {},
     "output_type": "execute_result"
    }
   ],
   "source": [
    "lm.score(X_test_data, Y_test)"
   ]
  },
  {
   "cell_type": "code",
   "execution_count": 117,
   "id": "b8f20575",
   "metadata": {
    "execution": {
     "iopub.execute_input": "2023-05-10T01:33:22.762660Z",
     "iopub.status.busy": "2023-05-10T01:33:22.762352Z",
     "iopub.status.idle": "2023-05-10T01:33:22.790051Z",
     "shell.execute_reply": "2023-05-10T01:33:22.788917Z"
    }
   },
   "outputs": [
    {
     "ename": "NameError",
     "evalue": "name 'test_train_split' is not defined",
     "output_type": "error",
     "traceback": [
      "\u001b[0;31m---------------------------------------------------------------------------\u001b[0m",
      "\u001b[0;31mNameError\u001b[0m                                 Traceback (most recent call last)",
      "Cell \u001b[0;32mIn [117], line 2\u001b[0m\n\u001b[1;32m      1\u001b[0m fin \u001b[38;5;241m=\u001b[39m fin\u001b[38;5;241m.\u001b[39mset_index(\u001b[38;5;124m'\u001b[39m\u001b[38;5;124muu_id\u001b[39m\u001b[38;5;124m'\u001b[39m)\n\u001b[0;32m----> 2\u001b[0m X_train, X_test, y_train, y_test \u001b[38;5;241m=\u001b[39m \u001b[43mtest_train_split\u001b[49m(fin\u001b[38;5;241m.\u001b[39mix[:, \u001b[38;5;241m~\u001b[39mfin\u001b[38;5;241m.\u001b[39mcolumns\u001b[38;5;241m.\u001b[39misin([\u001b[38;5;124m'\u001b[39m\u001b[38;5;124mtotal_claims\u001b[39m\u001b[38;5;124m'\u001b[39m])], fin\u001b[38;5;241m.\u001b[39mtotal_claims)\n",
      "\u001b[0;31mNameError\u001b[0m: name 'test_train_split' is not defined"
     ]
    }
   ],
   "source": [
    "fin = fin.set_index('uu_id')\n",
    "X_train, X_test, y_train, y_test = test_train_split(fin.ix[:, ~fin.columns.isin(['total_claims'])], fin.total_claims)"
   ]
  },
  {
   "cell_type": "code",
   "execution_count": 118,
   "id": "dca15d23",
   "metadata": {
    "execution": {
     "iopub.execute_input": "2023-05-10T01:33:22.794289Z",
     "iopub.status.busy": "2023-05-10T01:33:22.793954Z",
     "iopub.status.idle": "2023-05-10T01:33:22.837339Z",
     "shell.execute_reply": "2023-05-10T01:33:22.836372Z"
    }
   },
   "outputs": [
    {
     "ename": "KeyError",
     "evalue": "\"None of ['uu_id'] are in the columns\"",
     "output_type": "error",
     "traceback": [
      "\u001b[0;31m---------------------------------------------------------------------------\u001b[0m",
      "\u001b[0;31mKeyError\u001b[0m                                  Traceback (most recent call last)",
      "Cell \u001b[0;32mIn [118], line 1\u001b[0m\n\u001b[0;32m----> 1\u001b[0m fin \u001b[38;5;241m=\u001b[39m \u001b[43mfin\u001b[49m\u001b[38;5;241;43m.\u001b[39;49m\u001b[43mset_index\u001b[49m\u001b[43m(\u001b[49m\u001b[38;5;124;43m'\u001b[39;49m\u001b[38;5;124;43muu_id\u001b[39;49m\u001b[38;5;124;43m'\u001b[39;49m\u001b[43m)\u001b[49m\n\u001b[1;32m      2\u001b[0m X_train, X_test, y_train, y_test \u001b[38;5;241m=\u001b[39m train_test_split(fin\u001b[38;5;241m.\u001b[39mix[:, \u001b[38;5;241m~\u001b[39mfin\u001b[38;5;241m.\u001b[39mcolumns\u001b[38;5;241m.\u001b[39misin([\u001b[38;5;124m'\u001b[39m\u001b[38;5;124mtotal_claims\u001b[39m\u001b[38;5;124m'\u001b[39m])], fin\u001b[38;5;241m.\u001b[39mtotal_claims)\n",
      "File \u001b[0;32m/opt/homebrew/lib/python3.9/site-packages/pandas/util/_decorators.py:331\u001b[0m, in \u001b[0;36mdeprecate_nonkeyword_arguments.<locals>.decorate.<locals>.wrapper\u001b[0;34m(*args, **kwargs)\u001b[0m\n\u001b[1;32m    325\u001b[0m \u001b[38;5;28;01mif\u001b[39;00m \u001b[38;5;28mlen\u001b[39m(args) \u001b[38;5;241m>\u001b[39m num_allow_args:\n\u001b[1;32m    326\u001b[0m     warnings\u001b[38;5;241m.\u001b[39mwarn(\n\u001b[1;32m    327\u001b[0m         msg\u001b[38;5;241m.\u001b[39mformat(arguments\u001b[38;5;241m=\u001b[39m_format_argument_list(allow_args)),\n\u001b[1;32m    328\u001b[0m         \u001b[38;5;167;01mFutureWarning\u001b[39;00m,\n\u001b[1;32m    329\u001b[0m         stacklevel\u001b[38;5;241m=\u001b[39mfind_stack_level(),\n\u001b[1;32m    330\u001b[0m     )\n\u001b[0;32m--> 331\u001b[0m \u001b[38;5;28;01mreturn\u001b[39;00m \u001b[43mfunc\u001b[49m\u001b[43m(\u001b[49m\u001b[38;5;241;43m*\u001b[39;49m\u001b[43margs\u001b[49m\u001b[43m,\u001b[49m\u001b[43m \u001b[49m\u001b[38;5;241;43m*\u001b[39;49m\u001b[38;5;241;43m*\u001b[39;49m\u001b[43mkwargs\u001b[49m\u001b[43m)\u001b[49m\n",
      "File \u001b[0;32m/opt/homebrew/lib/python3.9/site-packages/pandas/core/frame.py:6001\u001b[0m, in \u001b[0;36mDataFrame.set_index\u001b[0;34m(self, keys, drop, append, inplace, verify_integrity)\u001b[0m\n\u001b[1;32m   5998\u001b[0m                 missing\u001b[38;5;241m.\u001b[39mappend(col)\n\u001b[1;32m   6000\u001b[0m \u001b[38;5;28;01mif\u001b[39;00m missing:\n\u001b[0;32m-> 6001\u001b[0m     \u001b[38;5;28;01mraise\u001b[39;00m \u001b[38;5;167;01mKeyError\u001b[39;00m(\u001b[38;5;124mf\u001b[39m\u001b[38;5;124m\"\u001b[39m\u001b[38;5;124mNone of \u001b[39m\u001b[38;5;132;01m{\u001b[39;00mmissing\u001b[38;5;132;01m}\u001b[39;00m\u001b[38;5;124m are in the columns\u001b[39m\u001b[38;5;124m\"\u001b[39m)\n\u001b[1;32m   6003\u001b[0m \u001b[38;5;28;01mif\u001b[39;00m inplace:\n\u001b[1;32m   6004\u001b[0m     frame \u001b[38;5;241m=\u001b[39m \u001b[38;5;28mself\u001b[39m\n",
      "\u001b[0;31mKeyError\u001b[0m: \"None of ['uu_id'] are in the columns\""
     ]
    }
   ],
   "source": [
    "fin = fin.set_index('uu_id')\n",
    "X_train, X_test, y_train, y_test = train_test_split(fin.ix[:, ~fin.columns.isin(['total_claims'])], fin.total_claims)"
   ]
  },
  {
   "cell_type": "code",
   "execution_count": 119,
   "id": "02698dc0",
   "metadata": {
    "execution": {
     "iopub.execute_input": "2023-05-10T01:33:22.842742Z",
     "iopub.status.busy": "2023-05-10T01:33:22.842295Z",
     "iopub.status.idle": "2023-05-10T01:33:22.850036Z",
     "shell.execute_reply": "2023-05-10T01:33:22.849372Z"
    }
   },
   "outputs": [],
   "source": [
    "final_data1 = final_data.drop(['timeperiod','tract_x','tract_name_x','tract_y','tract_name_y','countyfips_y'],axis=1)"
   ]
  },
  {
   "cell_type": "code",
   "execution_count": 120,
   "id": "fbcffcff",
   "metadata": {
    "execution": {
     "iopub.execute_input": "2023-05-10T01:33:22.854354Z",
     "iopub.status.busy": "2023-05-10T01:33:22.853800Z",
     "iopub.status.idle": "2023-05-10T01:33:22.877883Z",
     "shell.execute_reply": "2023-05-10T01:33:22.877156Z"
    }
   },
   "outputs": [],
   "source": [
    "fin = pd.get_dummies(final_data1,columns = ['week_number','countyfips_x','top_category_employer1','top_category_employer2','top_category_employer3'])"
   ]
  },
  {
   "cell_type": "code",
   "execution_count": 121,
   "id": "07e47a52",
   "metadata": {
    "execution": {
     "iopub.execute_input": "2023-05-10T01:33:22.882371Z",
     "iopub.status.busy": "2023-05-10T01:33:22.882073Z",
     "iopub.status.idle": "2023-05-10T01:33:22.947861Z",
     "shell.execute_reply": "2023-05-10T01:33:22.947174Z"
    }
   },
   "outputs": [
    {
     "ename": "AttributeError",
     "evalue": "'DataFrame' object has no attribute 'ix'",
     "output_type": "error",
     "traceback": [
      "\u001b[0;31m---------------------------------------------------------------------------\u001b[0m",
      "\u001b[0;31mAttributeError\u001b[0m                            Traceback (most recent call last)",
      "Cell \u001b[0;32mIn [121], line 2\u001b[0m\n\u001b[1;32m      1\u001b[0m fin \u001b[38;5;241m=\u001b[39m fin\u001b[38;5;241m.\u001b[39mset_index(\u001b[38;5;124m'\u001b[39m\u001b[38;5;124muu_id\u001b[39m\u001b[38;5;124m'\u001b[39m)\n\u001b[0;32m----> 2\u001b[0m X_train, X_test, y_train, y_test \u001b[38;5;241m=\u001b[39m train_test_split(\u001b[43mfin\u001b[49m\u001b[38;5;241;43m.\u001b[39;49m\u001b[43mix\u001b[49m[:, \u001b[38;5;241m~\u001b[39mfin\u001b[38;5;241m.\u001b[39mcolumns\u001b[38;5;241m.\u001b[39misin([\u001b[38;5;124m'\u001b[39m\u001b[38;5;124mtotal_claims\u001b[39m\u001b[38;5;124m'\u001b[39m])], fin\u001b[38;5;241m.\u001b[39mtotal_claims)\n",
      "File \u001b[0;32m/opt/homebrew/lib/python3.9/site-packages/pandas/core/generic.py:5902\u001b[0m, in \u001b[0;36mNDFrame.__getattr__\u001b[0;34m(self, name)\u001b[0m\n\u001b[1;32m   5895\u001b[0m \u001b[38;5;28;01mif\u001b[39;00m (\n\u001b[1;32m   5896\u001b[0m     name \u001b[38;5;129;01mnot\u001b[39;00m \u001b[38;5;129;01min\u001b[39;00m \u001b[38;5;28mself\u001b[39m\u001b[38;5;241m.\u001b[39m_internal_names_set\n\u001b[1;32m   5897\u001b[0m     \u001b[38;5;129;01mand\u001b[39;00m name \u001b[38;5;129;01mnot\u001b[39;00m \u001b[38;5;129;01min\u001b[39;00m \u001b[38;5;28mself\u001b[39m\u001b[38;5;241m.\u001b[39m_metadata\n\u001b[1;32m   5898\u001b[0m     \u001b[38;5;129;01mand\u001b[39;00m name \u001b[38;5;129;01mnot\u001b[39;00m \u001b[38;5;129;01min\u001b[39;00m \u001b[38;5;28mself\u001b[39m\u001b[38;5;241m.\u001b[39m_accessors\n\u001b[1;32m   5899\u001b[0m     \u001b[38;5;129;01mand\u001b[39;00m \u001b[38;5;28mself\u001b[39m\u001b[38;5;241m.\u001b[39m_info_axis\u001b[38;5;241m.\u001b[39m_can_hold_identifiers_and_holds_name(name)\n\u001b[1;32m   5900\u001b[0m ):\n\u001b[1;32m   5901\u001b[0m     \u001b[38;5;28;01mreturn\u001b[39;00m \u001b[38;5;28mself\u001b[39m[name]\n\u001b[0;32m-> 5902\u001b[0m \u001b[38;5;28;01mreturn\u001b[39;00m \u001b[38;5;28;43mobject\u001b[39;49m\u001b[38;5;241;43m.\u001b[39;49m\u001b[38;5;21;43m__getattribute__\u001b[39;49m\u001b[43m(\u001b[49m\u001b[38;5;28;43mself\u001b[39;49m\u001b[43m,\u001b[49m\u001b[43m \u001b[49m\u001b[43mname\u001b[49m\u001b[43m)\u001b[49m\n",
      "\u001b[0;31mAttributeError\u001b[0m: 'DataFrame' object has no attribute 'ix'"
     ]
    }
   ],
   "source": [
    "fin = fin.set_index('uu_id')\n",
    "X_train, X_test, y_train, y_test = train_test_split(fin.ix[:, ~fin.columns.isin(['total_claims'])], fin.total_claims)"
   ]
  },
  {
   "cell_type": "code",
   "execution_count": 122,
   "id": "8c7f6630",
   "metadata": {
    "execution": {
     "iopub.execute_input": "2023-05-10T01:33:22.952352Z",
     "iopub.status.busy": "2023-05-10T01:33:22.951814Z",
     "iopub.status.idle": "2023-05-10T01:33:22.988024Z",
     "shell.execute_reply": "2023-05-10T01:33:22.985658Z"
    }
   },
   "outputs": [
    {
     "ename": "KeyError",
     "evalue": "\"None of ['uu_id'] are in the columns\"",
     "output_type": "error",
     "traceback": [
      "\u001b[0;31m---------------------------------------------------------------------------\u001b[0m",
      "\u001b[0;31mKeyError\u001b[0m                                  Traceback (most recent call last)",
      "Cell \u001b[0;32mIn [122], line 1\u001b[0m\n\u001b[0;32m----> 1\u001b[0m fin \u001b[38;5;241m=\u001b[39m \u001b[43mfin\u001b[49m\u001b[38;5;241;43m.\u001b[39;49m\u001b[43mset_index\u001b[49m\u001b[43m(\u001b[49m\u001b[38;5;124;43m'\u001b[39;49m\u001b[38;5;124;43muu_id\u001b[39;49m\u001b[38;5;124;43m'\u001b[39;49m\u001b[43m)\u001b[49m\n\u001b[1;32m      2\u001b[0m X \u001b[38;5;241m=\u001b[39m fin\u001b[38;5;241m.\u001b[39mdrop([\u001b[38;5;124m'\u001b[39m\u001b[38;5;124mtotal_claims\u001b[39m\u001b[38;5;124m'\u001b[39m],axis\u001b[38;5;241m=\u001b[39m\u001b[38;5;241m1\u001b[39m)\n\u001b[1;32m      3\u001b[0m Y\u001b[38;5;241m=\u001b[39mfin[\u001b[38;5;124m'\u001b[39m\u001b[38;5;124mtotal_claims\u001b[39m\u001b[38;5;124m'\u001b[39m]\n",
      "File \u001b[0;32m/opt/homebrew/lib/python3.9/site-packages/pandas/util/_decorators.py:331\u001b[0m, in \u001b[0;36mdeprecate_nonkeyword_arguments.<locals>.decorate.<locals>.wrapper\u001b[0;34m(*args, **kwargs)\u001b[0m\n\u001b[1;32m    325\u001b[0m \u001b[38;5;28;01mif\u001b[39;00m \u001b[38;5;28mlen\u001b[39m(args) \u001b[38;5;241m>\u001b[39m num_allow_args:\n\u001b[1;32m    326\u001b[0m     warnings\u001b[38;5;241m.\u001b[39mwarn(\n\u001b[1;32m    327\u001b[0m         msg\u001b[38;5;241m.\u001b[39mformat(arguments\u001b[38;5;241m=\u001b[39m_format_argument_list(allow_args)),\n\u001b[1;32m    328\u001b[0m         \u001b[38;5;167;01mFutureWarning\u001b[39;00m,\n\u001b[1;32m    329\u001b[0m         stacklevel\u001b[38;5;241m=\u001b[39mfind_stack_level(),\n\u001b[1;32m    330\u001b[0m     )\n\u001b[0;32m--> 331\u001b[0m \u001b[38;5;28;01mreturn\u001b[39;00m \u001b[43mfunc\u001b[49m\u001b[43m(\u001b[49m\u001b[38;5;241;43m*\u001b[39;49m\u001b[43margs\u001b[49m\u001b[43m,\u001b[49m\u001b[43m \u001b[49m\u001b[38;5;241;43m*\u001b[39;49m\u001b[38;5;241;43m*\u001b[39;49m\u001b[43mkwargs\u001b[49m\u001b[43m)\u001b[49m\n",
      "File \u001b[0;32m/opt/homebrew/lib/python3.9/site-packages/pandas/core/frame.py:6001\u001b[0m, in \u001b[0;36mDataFrame.set_index\u001b[0;34m(self, keys, drop, append, inplace, verify_integrity)\u001b[0m\n\u001b[1;32m   5998\u001b[0m                 missing\u001b[38;5;241m.\u001b[39mappend(col)\n\u001b[1;32m   6000\u001b[0m \u001b[38;5;28;01mif\u001b[39;00m missing:\n\u001b[0;32m-> 6001\u001b[0m     \u001b[38;5;28;01mraise\u001b[39;00m \u001b[38;5;167;01mKeyError\u001b[39;00m(\u001b[38;5;124mf\u001b[39m\u001b[38;5;124m\"\u001b[39m\u001b[38;5;124mNone of \u001b[39m\u001b[38;5;132;01m{\u001b[39;00mmissing\u001b[38;5;132;01m}\u001b[39;00m\u001b[38;5;124m are in the columns\u001b[39m\u001b[38;5;124m\"\u001b[39m)\n\u001b[1;32m   6003\u001b[0m \u001b[38;5;28;01mif\u001b[39;00m inplace:\n\u001b[1;32m   6004\u001b[0m     frame \u001b[38;5;241m=\u001b[39m \u001b[38;5;28mself\u001b[39m\n",
      "\u001b[0;31mKeyError\u001b[0m: \"None of ['uu_id'] are in the columns\""
     ]
    }
   ],
   "source": [
    "fin = fin.set_index('uu_id')\n",
    "X = fin.drop(['total_claims'],axis=1)\n",
    "Y=fin['total_claims']\n",
    "#X_train, X_test, y_train, y_test = train_test_split(fin.ix[:, ~fin.columns.isin(['total_claims'])], fin.total_claims)"
   ]
  },
  {
   "cell_type": "code",
   "execution_count": 123,
   "id": "196ea8b2",
   "metadata": {
    "execution": {
     "iopub.execute_input": "2023-05-10T01:33:22.993234Z",
     "iopub.status.busy": "2023-05-10T01:33:22.992588Z",
     "iopub.status.idle": "2023-05-10T01:33:23.021245Z",
     "shell.execute_reply": "2023-05-10T01:33:23.020642Z"
    }
   },
   "outputs": [],
   "source": [
    "fin = pd.get_dummies(final_data1,columns = ['week_number','countyfips_x','top_category_employer1','top_category_employer2','top_category_employer3'])"
   ]
  },
  {
   "cell_type": "code",
   "execution_count": 124,
   "id": "5eacbcf8",
   "metadata": {
    "execution": {
     "iopub.execute_input": "2023-05-10T01:33:23.022927Z",
     "iopub.status.busy": "2023-05-10T01:33:23.022818Z",
     "iopub.status.idle": "2023-05-10T01:33:23.028216Z",
     "shell.execute_reply": "2023-05-10T01:33:23.027951Z"
    }
   },
   "outputs": [],
   "source": [
    "fin = fin.set_index('uu_id')\n",
    "X = fin.drop(['total_claims'],axis=1)\n",
    "Y=fin['total_claims']\n",
    "#X_train, X_test, y_train, y_test = train_test_split(fin.ix[:, ~fin.columns.isin(['total_claims'])], fin.total_claims)"
   ]
  },
  {
   "cell_type": "code",
   "execution_count": 125,
   "id": "74842806",
   "metadata": {
    "execution": {
     "iopub.execute_input": "2023-05-10T01:33:23.029645Z",
     "iopub.status.busy": "2023-05-10T01:33:23.029564Z",
     "iopub.status.idle": "2023-05-10T01:33:23.039096Z",
     "shell.execute_reply": "2023-05-10T01:33:23.038820Z"
    }
   },
   "outputs": [],
   "source": [
    "from sklearn.model_selection import train_test_split\n",
    "from sklearn.linear_model import LinearRegression\n",
    "X_train, X_test,Y_train, Y_test = train_test_split(X,Y,test_size = 0.2, random_state=32)"
   ]
  },
  {
   "cell_type": "code",
   "execution_count": 126,
   "id": "f697a06c",
   "metadata": {
    "execution": {
     "iopub.execute_input": "2023-05-10T01:33:23.040563Z",
     "iopub.status.busy": "2023-05-10T01:33:23.040486Z",
     "iopub.status.idle": "2023-05-10T01:33:23.148328Z",
     "shell.execute_reply": "2023-05-10T01:33:23.147543Z"
    }
   },
   "outputs": [],
   "source": [
    "lm = LinearRegression().fit(X_train_data,Y_train)\n",
    "prediction = lm.predict(X_test_data)"
   ]
  },
  {
   "cell_type": "code",
   "execution_count": 127,
   "id": "e033bd84",
   "metadata": {
    "execution": {
     "iopub.execute_input": "2023-05-10T01:33:23.152828Z",
     "iopub.status.busy": "2023-05-10T01:33:23.152410Z",
     "iopub.status.idle": "2023-05-10T01:33:23.167885Z",
     "shell.execute_reply": "2023-05-10T01:33:23.166904Z"
    }
   },
   "outputs": [
    {
     "data": {
      "text/plain": [
       "0.7231720964615613"
      ]
     },
     "execution_count": 127,
     "metadata": {},
     "output_type": "execute_result"
    }
   ],
   "source": [
    "lm.score(X_test_data, Y_test)"
   ]
  },
  {
   "cell_type": "code",
   "execution_count": 128,
   "id": "100fb61b",
   "metadata": {
    "execution": {
     "iopub.execute_input": "2023-05-10T01:33:23.172341Z",
     "iopub.status.busy": "2023-05-10T01:33:23.171885Z",
     "iopub.status.idle": "2023-05-10T01:33:23.491387Z",
     "shell.execute_reply": "2023-05-10T01:33:23.490506Z"
    }
   },
   "outputs": [],
   "source": [
    "lm = LinearRegression().fit(X_train,Y_train)\n",
    "prediction = lm.predict(X_test)"
   ]
  },
  {
   "cell_type": "code",
   "execution_count": 129,
   "id": "2479face",
   "metadata": {
    "execution": {
     "iopub.execute_input": "2023-05-10T01:33:23.495870Z",
     "iopub.status.busy": "2023-05-10T01:33:23.495397Z",
     "iopub.status.idle": "2023-05-10T01:33:23.510734Z",
     "shell.execute_reply": "2023-05-10T01:33:23.510038Z"
    }
   },
   "outputs": [
    {
     "data": {
      "text/plain": [
       "0.7231720964615613"
      ]
     },
     "execution_count": 129,
     "metadata": {},
     "output_type": "execute_result"
    }
   ],
   "source": [
    "lm.score(X_test, Y_test)"
   ]
  },
  {
   "cell_type": "code",
   "execution_count": 130,
   "id": "15cb7228",
   "metadata": {
    "execution": {
     "iopub.execute_input": "2023-05-10T01:33:23.514315Z",
     "iopub.status.busy": "2023-05-10T01:33:23.514027Z",
     "iopub.status.idle": "2023-05-10T01:33:23.520587Z",
     "shell.execute_reply": "2023-05-10T01:33:23.519922Z"
    }
   },
   "outputs": [],
   "source": [
    "final_data1 = final_data.drop(['timeperiod','tract_x','tract_name_x','tract_y','tract_name_y','countyfips_y'],axis=1)"
   ]
  },
  {
   "cell_type": "code",
   "execution_count": 131,
   "id": "29b92271",
   "metadata": {
    "execution": {
     "iopub.execute_input": "2023-05-10T01:33:23.524823Z",
     "iopub.status.busy": "2023-05-10T01:33:23.524283Z",
     "iopub.status.idle": "2023-05-10T01:33:23.545317Z",
     "shell.execute_reply": "2023-05-10T01:33:23.544662Z"
    }
   },
   "outputs": [],
   "source": [
    "fin = pd.get_dummies(final_data1,columns = ['week_number','countyfips_x','top_category_employer1','top_category_employer2','top_category_employer3'])"
   ]
  },
  {
   "cell_type": "code",
   "execution_count": 132,
   "id": "8ec95a29",
   "metadata": {
    "execution": {
     "iopub.execute_input": "2023-05-10T01:33:23.549315Z",
     "iopub.status.busy": "2023-05-10T01:33:23.549029Z",
     "iopub.status.idle": "2023-05-10T01:33:23.560857Z",
     "shell.execute_reply": "2023-05-10T01:33:23.560065Z"
    }
   },
   "outputs": [],
   "source": [
    "fin = fin.set_index('uu_id')\n",
    "X = fin.drop(['total_claims'],axis=1)\n",
    "Y=fin['total_claims']\n",
    "#X_train, X_test, y_train, y_test = train_test_split(fin.ix[:, ~fin.columns.isin(['total_claims'])], fin.total_claims)"
   ]
  },
  {
   "cell_type": "code",
   "execution_count": 133,
   "id": "aca006fb",
   "metadata": {
    "execution": {
     "iopub.execute_input": "2023-05-10T01:33:23.564609Z",
     "iopub.status.busy": "2023-05-10T01:33:23.564311Z",
     "iopub.status.idle": "2023-05-10T01:33:23.584743Z",
     "shell.execute_reply": "2023-05-10T01:33:23.584013Z"
    }
   },
   "outputs": [],
   "source": [
    "from sklearn.model_selection import train_test_split\n",
    "from sklearn.linear_model import LinearRegression\n",
    "X_train, X_test,Y_train, Y_test = train_test_split(X,Y,test_size = 0.2, random_state=32)"
   ]
  },
  {
   "cell_type": "code",
   "execution_count": 134,
   "id": "b8a55066",
   "metadata": {
    "execution": {
     "iopub.execute_input": "2023-05-10T01:33:23.589426Z",
     "iopub.status.busy": "2023-05-10T01:33:23.589035Z",
     "iopub.status.idle": "2023-05-10T01:33:23.849206Z",
     "shell.execute_reply": "2023-05-10T01:33:23.848304Z"
    }
   },
   "outputs": [],
   "source": [
    "lm = LinearRegression().fit(X_train,Y_train)\n",
    "prediction = lm.predict(X_test)"
   ]
  },
  {
   "cell_type": "code",
   "execution_count": 135,
   "id": "801963a4",
   "metadata": {
    "execution": {
     "iopub.execute_input": "2023-05-10T01:33:23.854034Z",
     "iopub.status.busy": "2023-05-10T01:33:23.853574Z",
     "iopub.status.idle": "2023-05-10T01:33:23.870330Z",
     "shell.execute_reply": "2023-05-10T01:33:23.869500Z"
    }
   },
   "outputs": [
    {
     "data": {
      "text/plain": [
       "0.7231720964615613"
      ]
     },
     "execution_count": 135,
     "metadata": {},
     "output_type": "execute_result"
    }
   ],
   "source": [
    "lm.score(X_test, Y_test)"
   ]
  },
  {
   "cell_type": "code",
   "execution_count": 136,
   "id": "f4f4f9f4",
   "metadata": {
    "execution": {
     "iopub.execute_input": "2023-05-10T01:33:23.875381Z",
     "iopub.status.busy": "2023-05-10T01:33:23.874046Z",
     "iopub.status.idle": "2023-05-10T01:33:23.882178Z",
     "shell.execute_reply": "2023-05-10T01:33:23.881327Z"
    }
   },
   "outputs": [],
   "source": [
    "final_data1 = final_data.drop(['timeperiod','tract_x','tract_name_x','tract_y','tract_name_y','countyfips_y'],axis=1)"
   ]
  },
  {
   "cell_type": "code",
   "execution_count": 137,
   "id": "bd699c04",
   "metadata": {
    "execution": {
     "iopub.execute_input": "2023-05-10T01:33:23.886148Z",
     "iopub.status.busy": "2023-05-10T01:33:23.885706Z",
     "iopub.status.idle": "2023-05-10T01:33:23.918510Z",
     "shell.execute_reply": "2023-05-10T01:33:23.917649Z"
    }
   },
   "outputs": [],
   "source": [
    "fin = pd.get_dummies(final_data1,columns = ['week_number','countyfips_x','top_category_employer1','top_category_employer2','top_category_employer3'])"
   ]
  },
  {
   "cell_type": "code",
   "execution_count": 138,
   "id": "9d5a4b9c",
   "metadata": {
    "execution": {
     "iopub.execute_input": "2023-05-10T01:33:23.924308Z",
     "iopub.status.busy": "2023-05-10T01:33:23.922611Z",
     "iopub.status.idle": "2023-05-10T01:33:23.930383Z",
     "shell.execute_reply": "2023-05-10T01:33:23.929410Z"
    }
   },
   "outputs": [],
   "source": [
    "X = fin.drop(['uu_id','total_claims'],axis=1)\n",
    "Y=fin['total_claims']"
   ]
  },
  {
   "cell_type": "code",
   "execution_count": 139,
   "id": "7093815b",
   "metadata": {
    "execution": {
     "iopub.execute_input": "2023-05-10T01:33:23.935822Z",
     "iopub.status.busy": "2023-05-10T01:33:23.934426Z",
     "iopub.status.idle": "2023-05-10T01:33:23.963511Z",
     "shell.execute_reply": "2023-05-10T01:33:23.962713Z"
    }
   },
   "outputs": [],
   "source": [
    "from sklearn.model_selection import train_test_split\n",
    "from sklearn.linear_model import LinearRegression\n",
    "X_train, X_test,Y_train, Y_test = train_test_split(X,Y,test_size = 0.2, random_state=32)"
   ]
  },
  {
   "cell_type": "code",
   "execution_count": 140,
   "id": "b8502469",
   "metadata": {
    "execution": {
     "iopub.execute_input": "2023-05-10T01:33:23.967328Z",
     "iopub.status.busy": "2023-05-10T01:33:23.967035Z",
     "iopub.status.idle": "2023-05-10T01:33:24.205751Z",
     "shell.execute_reply": "2023-05-10T01:33:24.204725Z"
    }
   },
   "outputs": [],
   "source": [
    "lm = LinearRegression().fit(X_train,Y_train)\n",
    "prediction = lm.predict(X_test)"
   ]
  },
  {
   "cell_type": "code",
   "execution_count": 141,
   "id": "32c52f83",
   "metadata": {
    "execution": {
     "iopub.execute_input": "2023-05-10T01:33:24.210234Z",
     "iopub.status.busy": "2023-05-10T01:33:24.209743Z",
     "iopub.status.idle": "2023-05-10T01:33:24.225303Z",
     "shell.execute_reply": "2023-05-10T01:33:24.224421Z"
    }
   },
   "outputs": [
    {
     "data": {
      "text/plain": [
       "0.7231720964615613"
      ]
     },
     "execution_count": 141,
     "metadata": {},
     "output_type": "execute_result"
    }
   ],
   "source": [
    "lm.score(X_test, Y_test)"
   ]
  },
  {
   "cell_type": "code",
   "execution_count": 142,
   "id": "68c6efe0",
   "metadata": {
    "execution": {
     "iopub.execute_input": "2023-05-10T01:33:24.230342Z",
     "iopub.status.busy": "2023-05-10T01:33:24.228990Z",
     "iopub.status.idle": "2023-05-10T01:33:24.249320Z",
     "shell.execute_reply": "2023-05-10T01:33:24.248449Z"
    }
   },
   "outputs": [],
   "source": [
    "final_data = unemp_data.merge(wage_data,how='left', on = 'uu_id')"
   ]
  },
  {
   "cell_type": "code",
   "execution_count": 143,
   "id": "9a74f70d",
   "metadata": {
    "execution": {
     "iopub.execute_input": "2023-05-10T01:33:24.253978Z",
     "iopub.status.busy": "2023-05-10T01:33:24.253504Z",
     "iopub.status.idle": "2023-05-10T01:33:24.291223Z",
     "shell.execute_reply": "2023-05-10T01:33:24.290355Z"
    }
   },
   "outputs": [
    {
     "name": "stdout",
     "output_type": "stream",
     "text": [
      "<class 'pandas.core.frame.DataFrame'>\n",
      "Int64Index: 16833 entries, 0 to 16832\n",
      "Data columns (total 29 columns):\n",
      " #   Column                  Non-Null Count  Dtype  \n",
      "---  ------                  --------------  -----  \n",
      " 0   uu_id                   16833 non-null  object \n",
      " 1   timeperiod              16833 non-null  Int64  \n",
      " 2   week_number             16833 non-null  Int64  \n",
      " 3   countyfips_x            16833 non-null  Int64  \n",
      " 4   tract_x                 16833 non-null  Int64  \n",
      " 5   tract_name_x            16833 non-null  object \n",
      " 6   total_claims            16833 non-null  Int64  \n",
      " 7   edu_8th_or_less         16833 non-null  Int64  \n",
      " 8   edu_grades_9_11         16833 non-null  Int64  \n",
      " 9   edu_hs_grad_equiv       16833 non-null  Int64  \n",
      " 10  edu_post_hs             16833 non-null  float64\n",
      " 11  edu_unknown             16833 non-null  Int64  \n",
      " 12  top_category_employer1  16833 non-null  object \n",
      " 13  top_category_employer2  16833 non-null  object \n",
      " 14  top_category_employer3  16833 non-null  object \n",
      " 15  gender_female           16833 non-null  float64\n",
      " 16  gender_male             16833 non-null  float64\n",
      " 17  gender_na               16833 non-null  Int64  \n",
      " 18  race_amerindian         16833 non-null  Int64  \n",
      " 19  race_asian              16833 non-null  Int64  \n",
      " 20  race_black              16833 non-null  Int64  \n",
      " 21  race_noanswer           16833 non-null  Int64  \n",
      " 22  race_hawaiiannative     16833 non-null  Int64  \n",
      " 23  race_other              16833 non-null  Int64  \n",
      " 24  race_white              16833 non-null  Int64  \n",
      " 25  countyfips_y            16833 non-null  Int64  \n",
      " 26  tract_y                 16833 non-null  Int64  \n",
      " 27  tract_name_y            16833 non-null  object \n",
      " 28  average_wage            16833 non-null  float64\n",
      "dtypes: Int64(19), float64(4), object(6)\n",
      "memory usage: 4.2+ MB\n"
     ]
    }
   ],
   "source": [
    "final_data.info()"
   ]
  },
  {
   "cell_type": "code",
   "execution_count": 144,
   "id": "710578bc",
   "metadata": {
    "execution": {
     "iopub.execute_input": "2023-05-10T01:33:24.295328Z",
     "iopub.status.busy": "2023-05-10T01:33:24.294860Z",
     "iopub.status.idle": "2023-05-10T01:33:24.303064Z",
     "shell.execute_reply": "2023-05-10T01:33:24.302275Z"
    }
   },
   "outputs": [],
   "source": [
    "final_data1 = final_data.drop(['timeperiod','tract_x','tract_name_x','tract_y','tract_name_y','countyfips_y'],axis=1)"
   ]
  },
  {
   "cell_type": "code",
   "execution_count": 145,
   "id": "1db131cd",
   "metadata": {
    "execution": {
     "iopub.execute_input": "2023-05-10T01:33:24.307181Z",
     "iopub.status.busy": "2023-05-10T01:33:24.306830Z",
     "iopub.status.idle": "2023-05-10T01:33:24.328312Z",
     "shell.execute_reply": "2023-05-10T01:33:24.327393Z"
    }
   },
   "outputs": [],
   "source": [
    "fin = pd.get_dummies(final_data1,columns = ['week_number','countyfips_x','top_category_employer1','top_category_employer2','top_category_employer3'])"
   ]
  },
  {
   "cell_type": "code",
   "execution_count": 146,
   "id": "e771d11c",
   "metadata": {
    "execution": {
     "iopub.execute_input": "2023-05-10T01:33:24.332907Z",
     "iopub.status.busy": "2023-05-10T01:33:24.332441Z",
     "iopub.status.idle": "2023-05-10T01:33:24.342945Z",
     "shell.execute_reply": "2023-05-10T01:33:24.342124Z"
    }
   },
   "outputs": [],
   "source": [
    "X = fin.drop(['uu_id','total_claims'],axis=1)\n",
    "Y=fin['total_claims']"
   ]
  },
  {
   "cell_type": "code",
   "execution_count": 147,
   "id": "abade4d4",
   "metadata": {
    "execution": {
     "iopub.execute_input": "2023-05-10T01:33:24.347270Z",
     "iopub.status.busy": "2023-05-10T01:33:24.346611Z",
     "iopub.status.idle": "2023-05-10T01:33:24.354498Z",
     "shell.execute_reply": "2023-05-10T01:33:24.353819Z"
    }
   },
   "outputs": [],
   "source": [
    "X = fin.drop(['uu_id','total_claims'],axis=1)\n",
    "Y=fin[['total_claims']]"
   ]
  },
  {
   "cell_type": "code",
   "execution_count": 148,
   "id": "7b76978a",
   "metadata": {
    "execution": {
     "iopub.execute_input": "2023-05-10T01:33:24.359954Z",
     "iopub.status.busy": "2023-05-10T01:33:24.359599Z",
     "iopub.status.idle": "2023-05-10T01:33:24.387878Z",
     "shell.execute_reply": "2023-05-10T01:33:24.387165Z"
    }
   },
   "outputs": [],
   "source": [
    "from sklearn.model_selection import train_test_split\n",
    "from sklearn.linear_model import LinearRegression\n",
    "X_train, X_test,Y_train, Y_test = train_test_split(X,Y,test_size = 0.2, random_state=32)"
   ]
  },
  {
   "cell_type": "code",
   "execution_count": 149,
   "id": "93834295",
   "metadata": {
    "execution": {
     "iopub.execute_input": "2023-05-10T01:33:24.393869Z",
     "iopub.status.busy": "2023-05-10T01:33:24.393472Z",
     "iopub.status.idle": "2023-05-10T01:33:24.566470Z",
     "shell.execute_reply": "2023-05-10T01:33:24.565695Z"
    }
   },
   "outputs": [],
   "source": [
    "lm = LinearRegression().fit(X_train,Y_train)\n",
    "prediction = lm.predict(X_test)"
   ]
  },
  {
   "cell_type": "code",
   "execution_count": 150,
   "id": "7ddfefa1",
   "metadata": {
    "execution": {
     "iopub.execute_input": "2023-05-10T01:33:24.571532Z",
     "iopub.status.busy": "2023-05-10T01:33:24.571090Z",
     "iopub.status.idle": "2023-05-10T01:33:24.589740Z",
     "shell.execute_reply": "2023-05-10T01:33:24.588556Z"
    }
   },
   "outputs": [
    {
     "data": {
      "text/plain": [
       "0.7231720964615613"
      ]
     },
     "execution_count": 150,
     "metadata": {},
     "output_type": "execute_result"
    }
   ],
   "source": [
    "lm.score(X_test, Y_test)"
   ]
  },
  {
   "cell_type": "code",
   "execution_count": 151,
   "id": "355f276f",
   "metadata": {
    "execution": {
     "iopub.execute_input": "2023-05-10T01:33:24.597671Z",
     "iopub.status.busy": "2023-05-10T01:33:24.597325Z",
     "iopub.status.idle": "2023-05-10T01:33:24.607215Z",
     "shell.execute_reply": "2023-05-10T01:33:24.606278Z"
    }
   },
   "outputs": [],
   "source": [
    "X = fin.drop(['uu_id','total_claims'],axis=1)\n",
    "Y=fin['total_claims']"
   ]
  },
  {
   "cell_type": "code",
   "execution_count": 152,
   "id": "621186f3",
   "metadata": {
    "execution": {
     "iopub.execute_input": "2023-05-10T01:33:24.613845Z",
     "iopub.status.busy": "2023-05-10T01:33:24.613488Z",
     "iopub.status.idle": "2023-05-10T01:33:24.641677Z",
     "shell.execute_reply": "2023-05-10T01:33:24.640762Z"
    }
   },
   "outputs": [],
   "source": [
    "from sklearn.model_selection import train_test_split\n",
    "from sklearn.linear_model import LinearRegression\n",
    "X_train, X_test,Y_train, Y_test = train_test_split(X,Y,test_size = 0.2, random_state=32)"
   ]
  },
  {
   "cell_type": "code",
   "execution_count": 153,
   "id": "cd251eec",
   "metadata": {
    "execution": {
     "iopub.execute_input": "2023-05-10T01:33:24.645669Z",
     "iopub.status.busy": "2023-05-10T01:33:24.645097Z",
     "iopub.status.idle": "2023-05-10T01:33:24.903030Z",
     "shell.execute_reply": "2023-05-10T01:33:24.902247Z"
    }
   },
   "outputs": [],
   "source": [
    "lm = LinearRegression().fit(X_train,Y_train)\n",
    "prediction = lm.predict(X_test)"
   ]
  },
  {
   "cell_type": "code",
   "execution_count": 154,
   "id": "285095a5",
   "metadata": {
    "execution": {
     "iopub.execute_input": "2023-05-10T01:33:24.910034Z",
     "iopub.status.busy": "2023-05-10T01:33:24.908035Z",
     "iopub.status.idle": "2023-05-10T01:33:24.948695Z",
     "shell.execute_reply": "2023-05-10T01:33:24.947271Z"
    }
   },
   "outputs": [
    {
     "data": {
      "text/plain": [
       "0.7231720964615613"
      ]
     },
     "execution_count": 154,
     "metadata": {},
     "output_type": "execute_result"
    }
   ],
   "source": [
    "lm.score(X_test, Y_test)"
   ]
  },
  {
   "cell_type": "code",
   "execution_count": 155,
   "id": "bcdb15cc",
   "metadata": {
    "execution": {
     "iopub.execute_input": "2023-05-10T01:33:24.952762Z",
     "iopub.status.busy": "2023-05-10T01:33:24.952431Z",
     "iopub.status.idle": "2023-05-10T01:33:31.325510Z",
     "shell.execute_reply": "2023-05-10T01:33:31.325074Z"
    }
   },
   "outputs": [],
   "source": [
    "import xgboost as xgb\n",
    "model = xgb.XGBRegressor(n_estimators=500, max_depth=4,eta=0.1).fit(X_train,Y_train)\n",
    "y_pred = model.predict(X_test)"
   ]
  },
  {
   "cell_type": "code",
   "execution_count": 156,
   "id": "625f8bbf",
   "metadata": {
    "execution": {
     "iopub.execute_input": "2023-05-10T01:33:31.328953Z",
     "iopub.status.busy": "2023-05-10T01:33:31.328375Z",
     "iopub.status.idle": "2023-05-10T01:33:31.355617Z",
     "shell.execute_reply": "2023-05-10T01:33:31.355040Z"
    }
   },
   "outputs": [
    {
     "data": {
      "text/plain": [
       "0.9066691665646758"
      ]
     },
     "execution_count": 156,
     "metadata": {},
     "output_type": "execute_result"
    }
   ],
   "source": [
    "model.score(X_test, Y_test)"
   ]
  },
  {
   "cell_type": "code",
   "execution_count": 157,
   "id": "d3d13ccc",
   "metadata": {
    "execution": {
     "iopub.execute_input": "2023-05-10T01:33:31.358481Z",
     "iopub.status.busy": "2023-05-10T01:33:31.357888Z",
     "iopub.status.idle": "2023-05-10T01:33:31.465061Z",
     "shell.execute_reply": "2023-05-10T01:33:31.464645Z"
    }
   },
   "outputs": [
    {
     "ename": "ValueError",
     "evalue": "Length of values (3367) does not match length of index (525)",
     "output_type": "error",
     "traceback": [
      "\u001b[0;31m---------------------------------------------------------------------------\u001b[0m",
      "\u001b[0;31mValueError\u001b[0m                                Traceback (most recent call last)",
      "Cell \u001b[0;32mIn [157], line 3\u001b[0m\n\u001b[1;32m      1\u001b[0m df_pred_final \u001b[38;5;241m=\u001b[39m pred_data[[\u001b[38;5;124m'\u001b[39m\u001b[38;5;124muu_id\u001b[39m\u001b[38;5;124m'\u001b[39m]]\n\u001b[1;32m      2\u001b[0m df_pred_final[\u001b[38;5;124m'\u001b[39m\u001b[38;5;124mweek_number\u001b[39m\u001b[38;5;124m'\u001b[39m] \u001b[38;5;241m=\u001b[39m pred_data[[\u001b[38;5;124m'\u001b[39m\u001b[38;5;124mweek_number\u001b[39m\u001b[38;5;124m'\u001b[39m]]\n\u001b[0;32m----> 3\u001b[0m \u001b[43mdf_pred_final\u001b[49m\u001b[43m[\u001b[49m\u001b[38;5;124;43m\"\u001b[39;49m\u001b[38;5;124;43mtotal_claims\u001b[39;49m\u001b[38;5;124;43m\"\u001b[39;49m\u001b[43m]\u001b[49m \u001b[38;5;241m=\u001b[39m y_pred\n",
      "File \u001b[0;32m/opt/homebrew/lib/python3.9/site-packages/pandas/core/frame.py:3977\u001b[0m, in \u001b[0;36mDataFrame.__setitem__\u001b[0;34m(self, key, value)\u001b[0m\n\u001b[1;32m   3974\u001b[0m     \u001b[38;5;28mself\u001b[39m\u001b[38;5;241m.\u001b[39m_setitem_array([key], value)\n\u001b[1;32m   3975\u001b[0m \u001b[38;5;28;01melse\u001b[39;00m:\n\u001b[1;32m   3976\u001b[0m     \u001b[38;5;66;03m# set column\u001b[39;00m\n\u001b[0;32m-> 3977\u001b[0m     \u001b[38;5;28;43mself\u001b[39;49m\u001b[38;5;241;43m.\u001b[39;49m\u001b[43m_set_item\u001b[49m\u001b[43m(\u001b[49m\u001b[43mkey\u001b[49m\u001b[43m,\u001b[49m\u001b[43m \u001b[49m\u001b[43mvalue\u001b[49m\u001b[43m)\u001b[49m\n",
      "File \u001b[0;32m/opt/homebrew/lib/python3.9/site-packages/pandas/core/frame.py:4171\u001b[0m, in \u001b[0;36mDataFrame._set_item\u001b[0;34m(self, key, value)\u001b[0m\n\u001b[1;32m   4161\u001b[0m \u001b[38;5;28;01mdef\u001b[39;00m \u001b[38;5;21m_set_item\u001b[39m(\u001b[38;5;28mself\u001b[39m, key, value) \u001b[38;5;241m-\u001b[39m\u001b[38;5;241m>\u001b[39m \u001b[38;5;28;01mNone\u001b[39;00m:\n\u001b[1;32m   4162\u001b[0m     \u001b[38;5;124;03m\"\"\"\u001b[39;00m\n\u001b[1;32m   4163\u001b[0m \u001b[38;5;124;03m    Add series to DataFrame in specified column.\u001b[39;00m\n\u001b[1;32m   4164\u001b[0m \n\u001b[0;32m   (...)\u001b[0m\n\u001b[1;32m   4169\u001b[0m \u001b[38;5;124;03m    ensure homogeneity.\u001b[39;00m\n\u001b[1;32m   4170\u001b[0m \u001b[38;5;124;03m    \"\"\"\u001b[39;00m\n\u001b[0;32m-> 4171\u001b[0m     value \u001b[38;5;241m=\u001b[39m \u001b[38;5;28;43mself\u001b[39;49m\u001b[38;5;241;43m.\u001b[39;49m\u001b[43m_sanitize_column\u001b[49m\u001b[43m(\u001b[49m\u001b[43mvalue\u001b[49m\u001b[43m)\u001b[49m\n\u001b[1;32m   4173\u001b[0m     \u001b[38;5;28;01mif\u001b[39;00m (\n\u001b[1;32m   4174\u001b[0m         key \u001b[38;5;129;01min\u001b[39;00m \u001b[38;5;28mself\u001b[39m\u001b[38;5;241m.\u001b[39mcolumns\n\u001b[1;32m   4175\u001b[0m         \u001b[38;5;129;01mand\u001b[39;00m value\u001b[38;5;241m.\u001b[39mndim \u001b[38;5;241m==\u001b[39m \u001b[38;5;241m1\u001b[39m\n\u001b[1;32m   4176\u001b[0m         \u001b[38;5;129;01mand\u001b[39;00m \u001b[38;5;129;01mnot\u001b[39;00m is_extension_array_dtype(value)\n\u001b[1;32m   4177\u001b[0m     ):\n\u001b[1;32m   4178\u001b[0m         \u001b[38;5;66;03m# broadcast across multiple columns if necessary\u001b[39;00m\n\u001b[1;32m   4179\u001b[0m         \u001b[38;5;28;01mif\u001b[39;00m \u001b[38;5;129;01mnot\u001b[39;00m \u001b[38;5;28mself\u001b[39m\u001b[38;5;241m.\u001b[39mcolumns\u001b[38;5;241m.\u001b[39mis_unique \u001b[38;5;129;01mor\u001b[39;00m \u001b[38;5;28misinstance\u001b[39m(\u001b[38;5;28mself\u001b[39m\u001b[38;5;241m.\u001b[39mcolumns, MultiIndex):\n",
      "File \u001b[0;32m/opt/homebrew/lib/python3.9/site-packages/pandas/core/frame.py:4904\u001b[0m, in \u001b[0;36mDataFrame._sanitize_column\u001b[0;34m(self, value)\u001b[0m\n\u001b[1;32m   4901\u001b[0m     \u001b[38;5;28;01mreturn\u001b[39;00m _reindex_for_setitem(Series(value), \u001b[38;5;28mself\u001b[39m\u001b[38;5;241m.\u001b[39mindex)\n\u001b[1;32m   4903\u001b[0m \u001b[38;5;28;01mif\u001b[39;00m is_list_like(value):\n\u001b[0;32m-> 4904\u001b[0m     \u001b[43mcom\u001b[49m\u001b[38;5;241;43m.\u001b[39;49m\u001b[43mrequire_length_match\u001b[49m\u001b[43m(\u001b[49m\u001b[43mvalue\u001b[49m\u001b[43m,\u001b[49m\u001b[43m \u001b[49m\u001b[38;5;28;43mself\u001b[39;49m\u001b[38;5;241;43m.\u001b[39;49m\u001b[43mindex\u001b[49m\u001b[43m)\u001b[49m\n\u001b[1;32m   4905\u001b[0m \u001b[38;5;28;01mreturn\u001b[39;00m sanitize_array(value, \u001b[38;5;28mself\u001b[39m\u001b[38;5;241m.\u001b[39mindex, copy\u001b[38;5;241m=\u001b[39m\u001b[38;5;28;01mTrue\u001b[39;00m, allow_2d\u001b[38;5;241m=\u001b[39m\u001b[38;5;28;01mTrue\u001b[39;00m)\n",
      "File \u001b[0;32m/opt/homebrew/lib/python3.9/site-packages/pandas/core/common.py:561\u001b[0m, in \u001b[0;36mrequire_length_match\u001b[0;34m(data, index)\u001b[0m\n\u001b[1;32m    557\u001b[0m \u001b[38;5;124;03m\"\"\"\u001b[39;00m\n\u001b[1;32m    558\u001b[0m \u001b[38;5;124;03mCheck the length of data matches the length of the index.\u001b[39;00m\n\u001b[1;32m    559\u001b[0m \u001b[38;5;124;03m\"\"\"\u001b[39;00m\n\u001b[1;32m    560\u001b[0m \u001b[38;5;28;01mif\u001b[39;00m \u001b[38;5;28mlen\u001b[39m(data) \u001b[38;5;241m!=\u001b[39m \u001b[38;5;28mlen\u001b[39m(index):\n\u001b[0;32m--> 561\u001b[0m     \u001b[38;5;28;01mraise\u001b[39;00m \u001b[38;5;167;01mValueError\u001b[39;00m(\n\u001b[1;32m    562\u001b[0m         \u001b[38;5;124m\"\u001b[39m\u001b[38;5;124mLength of values \u001b[39m\u001b[38;5;124m\"\u001b[39m\n\u001b[1;32m    563\u001b[0m         \u001b[38;5;124mf\u001b[39m\u001b[38;5;124m\"\u001b[39m\u001b[38;5;124m(\u001b[39m\u001b[38;5;132;01m{\u001b[39;00m\u001b[38;5;28mlen\u001b[39m(data)\u001b[38;5;132;01m}\u001b[39;00m\u001b[38;5;124m) \u001b[39m\u001b[38;5;124m\"\u001b[39m\n\u001b[1;32m    564\u001b[0m         \u001b[38;5;124m\"\u001b[39m\u001b[38;5;124mdoes not match length of index \u001b[39m\u001b[38;5;124m\"\u001b[39m\n\u001b[1;32m    565\u001b[0m         \u001b[38;5;124mf\u001b[39m\u001b[38;5;124m\"\u001b[39m\u001b[38;5;124m(\u001b[39m\u001b[38;5;132;01m{\u001b[39;00m\u001b[38;5;28mlen\u001b[39m(index)\u001b[38;5;132;01m}\u001b[39;00m\u001b[38;5;124m)\u001b[39m\u001b[38;5;124m\"\u001b[39m\n\u001b[1;32m    566\u001b[0m     )\n",
      "\u001b[0;31mValueError\u001b[0m: Length of values (3367) does not match length of index (525)"
     ]
    }
   ],
   "source": [
    "df_pred_final = pred_data[['uu_id']]\n",
    "df_pred_final['week_number'] = pred_data[['week_number']]\n",
    "df_pred_final[\"total_claims\"] = y_pred"
   ]
  },
  {
   "cell_type": "code",
   "execution_count": 158,
   "id": "eea07eda",
   "metadata": {
    "execution": {
     "iopub.execute_input": "2023-05-10T01:33:31.466897Z",
     "iopub.status.busy": "2023-05-10T01:33:31.466771Z",
     "iopub.status.idle": "2023-05-10T01:33:31.480432Z",
     "shell.execute_reply": "2023-05-10T01:33:31.479992Z"
    }
   },
   "outputs": [],
   "source": [
    "Y_test_final = pred_data.merge(fin,how='left',on= 'uu_id')"
   ]
  },
  {
   "cell_type": "code",
   "execution_count": 159,
   "id": "7583e235",
   "metadata": {
    "execution": {
     "iopub.execute_input": "2023-05-10T01:33:31.482605Z",
     "iopub.status.busy": "2023-05-10T01:33:31.482325Z",
     "iopub.status.idle": "2023-05-10T01:33:31.492789Z",
     "shell.execute_reply": "2023-05-10T01:33:31.492076Z"
    }
   },
   "outputs": [
    {
     "data": {
      "text/html": [
       "<div>\n",
       "<style scoped>\n",
       "    .dataframe tbody tr th:only-of-type {\n",
       "        vertical-align: middle;\n",
       "    }\n",
       "\n",
       "    .dataframe tbody tr th {\n",
       "        vertical-align: top;\n",
       "    }\n",
       "\n",
       "    .dataframe thead th {\n",
       "        text-align: right;\n",
       "    }\n",
       "</style>\n",
       "<table border=\"1\" class=\"dataframe\">\n",
       "  <thead>\n",
       "    <tr style=\"text-align: right;\">\n",
       "      <th></th>\n",
       "      <th>uu_id</th>\n",
       "      <th>week_number</th>\n",
       "      <th>total_claims</th>\n",
       "      <th>edu_8th_or_less</th>\n",
       "      <th>edu_grades_9_11</th>\n",
       "      <th>edu_hs_grad_equiv</th>\n",
       "      <th>edu_post_hs</th>\n",
       "      <th>edu_unknown</th>\n",
       "      <th>gender_female</th>\n",
       "      <th>gender_male</th>\n",
       "      <th>...</th>\n",
       "      <th>top_category_employer3_54</th>\n",
       "      <th>top_category_employer3_55</th>\n",
       "      <th>top_category_employer3_56</th>\n",
       "      <th>top_category_employer3_61</th>\n",
       "      <th>top_category_employer3_62</th>\n",
       "      <th>top_category_employer3_71</th>\n",
       "      <th>top_category_employer3_72</th>\n",
       "      <th>top_category_employer3_81</th>\n",
       "      <th>top_category_employer3_92</th>\n",
       "      <th>top_category_employer3_99</th>\n",
       "    </tr>\n",
       "  </thead>\n",
       "  <tbody>\n",
       "    <tr>\n",
       "      <th>0</th>\n",
       "      <td>5bf51fc2e162d6faf9e3cf79e4198378</td>\n",
       "      <td>44</td>\n",
       "      <td>20</td>\n",
       "      <td>0</td>\n",
       "      <td>0</td>\n",
       "      <td>11</td>\n",
       "      <td>9.166667</td>\n",
       "      <td>0</td>\n",
       "      <td>17.416667</td>\n",
       "      <td>14.800000</td>\n",
       "      <td>...</td>\n",
       "      <td>0</td>\n",
       "      <td>0</td>\n",
       "      <td>0</td>\n",
       "      <td>0</td>\n",
       "      <td>0</td>\n",
       "      <td>0</td>\n",
       "      <td>0</td>\n",
       "      <td>0</td>\n",
       "      <td>0</td>\n",
       "      <td>0</td>\n",
       "    </tr>\n",
       "    <tr>\n",
       "      <th>1</th>\n",
       "      <td>5bf51fc2e162d6faf9e3cf79e4198378</td>\n",
       "      <td>44</td>\n",
       "      <td>11</td>\n",
       "      <td>0</td>\n",
       "      <td>0</td>\n",
       "      <td>13</td>\n",
       "      <td>9.166667</td>\n",
       "      <td>0</td>\n",
       "      <td>17.416667</td>\n",
       "      <td>14.800000</td>\n",
       "      <td>...</td>\n",
       "      <td>0</td>\n",
       "      <td>0</td>\n",
       "      <td>0</td>\n",
       "      <td>0</td>\n",
       "      <td>0</td>\n",
       "      <td>0</td>\n",
       "      <td>0</td>\n",
       "      <td>0</td>\n",
       "      <td>0</td>\n",
       "      <td>0</td>\n",
       "    </tr>\n",
       "    <tr>\n",
       "      <th>2</th>\n",
       "      <td>5bf51fc2e162d6faf9e3cf79e4198378</td>\n",
       "      <td>44</td>\n",
       "      <td>11</td>\n",
       "      <td>0</td>\n",
       "      <td>0</td>\n",
       "      <td>13</td>\n",
       "      <td>9.166667</td>\n",
       "      <td>0</td>\n",
       "      <td>17.416667</td>\n",
       "      <td>14.800000</td>\n",
       "      <td>...</td>\n",
       "      <td>0</td>\n",
       "      <td>0</td>\n",
       "      <td>0</td>\n",
       "      <td>0</td>\n",
       "      <td>0</td>\n",
       "      <td>0</td>\n",
       "      <td>0</td>\n",
       "      <td>0</td>\n",
       "      <td>0</td>\n",
       "      <td>0</td>\n",
       "    </tr>\n",
       "    <tr>\n",
       "      <th>3</th>\n",
       "      <td>5bf51fc2e162d6faf9e3cf79e4198378</td>\n",
       "      <td>44</td>\n",
       "      <td>20</td>\n",
       "      <td>0</td>\n",
       "      <td>0</td>\n",
       "      <td>13</td>\n",
       "      <td>9.166667</td>\n",
       "      <td>0</td>\n",
       "      <td>17.416667</td>\n",
       "      <td>14.800000</td>\n",
       "      <td>...</td>\n",
       "      <td>0</td>\n",
       "      <td>0</td>\n",
       "      <td>0</td>\n",
       "      <td>0</td>\n",
       "      <td>0</td>\n",
       "      <td>0</td>\n",
       "      <td>0</td>\n",
       "      <td>0</td>\n",
       "      <td>0</td>\n",
       "      <td>0</td>\n",
       "    </tr>\n",
       "    <tr>\n",
       "      <th>4</th>\n",
       "      <td>5bf51fc2e162d6faf9e3cf79e4198378</td>\n",
       "      <td>44</td>\n",
       "      <td>20</td>\n",
       "      <td>0</td>\n",
       "      <td>0</td>\n",
       "      <td>13</td>\n",
       "      <td>9.166667</td>\n",
       "      <td>0</td>\n",
       "      <td>17.416667</td>\n",
       "      <td>14.800000</td>\n",
       "      <td>...</td>\n",
       "      <td>0</td>\n",
       "      <td>0</td>\n",
       "      <td>0</td>\n",
       "      <td>0</td>\n",
       "      <td>0</td>\n",
       "      <td>0</td>\n",
       "      <td>0</td>\n",
       "      <td>0</td>\n",
       "      <td>0</td>\n",
       "      <td>0</td>\n",
       "    </tr>\n",
       "    <tr>\n",
       "      <th>...</th>\n",
       "      <td>...</td>\n",
       "      <td>...</td>\n",
       "      <td>...</td>\n",
       "      <td>...</td>\n",
       "      <td>...</td>\n",
       "      <td>...</td>\n",
       "      <td>...</td>\n",
       "      <td>...</td>\n",
       "      <td>...</td>\n",
       "      <td>...</td>\n",
       "      <td>...</td>\n",
       "      <td>...</td>\n",
       "      <td>...</td>\n",
       "      <td>...</td>\n",
       "      <td>...</td>\n",
       "      <td>...</td>\n",
       "      <td>...</td>\n",
       "      <td>...</td>\n",
       "      <td>...</td>\n",
       "      <td>...</td>\n",
       "      <td>...</td>\n",
       "    </tr>\n",
       "    <tr>\n",
       "      <th>16828</th>\n",
       "      <td>932a58530abff8a48558e2a15639d453</td>\n",
       "      <td>44</td>\n",
       "      <td>17</td>\n",
       "      <td>0</td>\n",
       "      <td>0</td>\n",
       "      <td>17</td>\n",
       "      <td>0.000000</td>\n",
       "      <td>0</td>\n",
       "      <td>17.859649</td>\n",
       "      <td>17.985075</td>\n",
       "      <td>...</td>\n",
       "      <td>0</td>\n",
       "      <td>0</td>\n",
       "      <td>0</td>\n",
       "      <td>0</td>\n",
       "      <td>0</td>\n",
       "      <td>0</td>\n",
       "      <td>0</td>\n",
       "      <td>1</td>\n",
       "      <td>0</td>\n",
       "      <td>0</td>\n",
       "    </tr>\n",
       "    <tr>\n",
       "      <th>16829</th>\n",
       "      <td>932a58530abff8a48558e2a15639d453</td>\n",
       "      <td>44</td>\n",
       "      <td>11</td>\n",
       "      <td>0</td>\n",
       "      <td>0</td>\n",
       "      <td>17</td>\n",
       "      <td>14.539683</td>\n",
       "      <td>0</td>\n",
       "      <td>17.859649</td>\n",
       "      <td>17.985075</td>\n",
       "      <td>...</td>\n",
       "      <td>0</td>\n",
       "      <td>0</td>\n",
       "      <td>0</td>\n",
       "      <td>0</td>\n",
       "      <td>0</td>\n",
       "      <td>0</td>\n",
       "      <td>0</td>\n",
       "      <td>1</td>\n",
       "      <td>0</td>\n",
       "      <td>0</td>\n",
       "    </tr>\n",
       "    <tr>\n",
       "      <th>16830</th>\n",
       "      <td>932a58530abff8a48558e2a15639d453</td>\n",
       "      <td>44</td>\n",
       "      <td>25</td>\n",
       "      <td>0</td>\n",
       "      <td>15</td>\n",
       "      <td>10</td>\n",
       "      <td>0.000000</td>\n",
       "      <td>0</td>\n",
       "      <td>17.859649</td>\n",
       "      <td>17.985075</td>\n",
       "      <td>...</td>\n",
       "      <td>0</td>\n",
       "      <td>0</td>\n",
       "      <td>0</td>\n",
       "      <td>0</td>\n",
       "      <td>0</td>\n",
       "      <td>0</td>\n",
       "      <td>0</td>\n",
       "      <td>1</td>\n",
       "      <td>0</td>\n",
       "      <td>0</td>\n",
       "    </tr>\n",
       "    <tr>\n",
       "      <th>16831</th>\n",
       "      <td>932a58530abff8a48558e2a15639d453</td>\n",
       "      <td>44</td>\n",
       "      <td>13</td>\n",
       "      <td>0</td>\n",
       "      <td>0</td>\n",
       "      <td>17</td>\n",
       "      <td>14.539683</td>\n",
       "      <td>0</td>\n",
       "      <td>17.859649</td>\n",
       "      <td>17.985075</td>\n",
       "      <td>...</td>\n",
       "      <td>0</td>\n",
       "      <td>0</td>\n",
       "      <td>0</td>\n",
       "      <td>0</td>\n",
       "      <td>0</td>\n",
       "      <td>1</td>\n",
       "      <td>0</td>\n",
       "      <td>0</td>\n",
       "      <td>0</td>\n",
       "      <td>0</td>\n",
       "    </tr>\n",
       "    <tr>\n",
       "      <th>16832</th>\n",
       "      <td>932a58530abff8a48558e2a15639d453</td>\n",
       "      <td>44</td>\n",
       "      <td>30</td>\n",
       "      <td>0</td>\n",
       "      <td>0</td>\n",
       "      <td>14</td>\n",
       "      <td>16.000000</td>\n",
       "      <td>0</td>\n",
       "      <td>12.000000</td>\n",
       "      <td>18.000000</td>\n",
       "      <td>...</td>\n",
       "      <td>0</td>\n",
       "      <td>0</td>\n",
       "      <td>1</td>\n",
       "      <td>0</td>\n",
       "      <td>0</td>\n",
       "      <td>0</td>\n",
       "      <td>0</td>\n",
       "      <td>0</td>\n",
       "      <td>0</td>\n",
       "      <td>0</td>\n",
       "    </tr>\n",
       "  </tbody>\n",
       "</table>\n",
       "<p>16833 rows × 177 columns</p>\n",
       "</div>"
      ],
      "text/plain": [
       "                                  uu_id  week_number  total_claims  \\\n",
       "0      5bf51fc2e162d6faf9e3cf79e4198378           44            20   \n",
       "1      5bf51fc2e162d6faf9e3cf79e4198378           44            11   \n",
       "2      5bf51fc2e162d6faf9e3cf79e4198378           44            11   \n",
       "3      5bf51fc2e162d6faf9e3cf79e4198378           44            20   \n",
       "4      5bf51fc2e162d6faf9e3cf79e4198378           44            20   \n",
       "...                                 ...          ...           ...   \n",
       "16828  932a58530abff8a48558e2a15639d453           44            17   \n",
       "16829  932a58530abff8a48558e2a15639d453           44            11   \n",
       "16830  932a58530abff8a48558e2a15639d453           44            25   \n",
       "16831  932a58530abff8a48558e2a15639d453           44            13   \n",
       "16832  932a58530abff8a48558e2a15639d453           44            30   \n",
       "\n",
       "       edu_8th_or_less  edu_grades_9_11  edu_hs_grad_equiv  edu_post_hs  \\\n",
       "0                    0                0                 11     9.166667   \n",
       "1                    0                0                 13     9.166667   \n",
       "2                    0                0                 13     9.166667   \n",
       "3                    0                0                 13     9.166667   \n",
       "4                    0                0                 13     9.166667   \n",
       "...                ...              ...                ...          ...   \n",
       "16828                0                0                 17     0.000000   \n",
       "16829                0                0                 17    14.539683   \n",
       "16830                0               15                 10     0.000000   \n",
       "16831                0                0                 17    14.539683   \n",
       "16832                0                0                 14    16.000000   \n",
       "\n",
       "       edu_unknown  gender_female  gender_male  ...  \\\n",
       "0                0      17.416667    14.800000  ...   \n",
       "1                0      17.416667    14.800000  ...   \n",
       "2                0      17.416667    14.800000  ...   \n",
       "3                0      17.416667    14.800000  ...   \n",
       "4                0      17.416667    14.800000  ...   \n",
       "...            ...            ...          ...  ...   \n",
       "16828            0      17.859649    17.985075  ...   \n",
       "16829            0      17.859649    17.985075  ...   \n",
       "16830            0      17.859649    17.985075  ...   \n",
       "16831            0      17.859649    17.985075  ...   \n",
       "16832            0      12.000000    18.000000  ...   \n",
       "\n",
       "       top_category_employer3_54  top_category_employer3_55  \\\n",
       "0                              0                          0   \n",
       "1                              0                          0   \n",
       "2                              0                          0   \n",
       "3                              0                          0   \n",
       "4                              0                          0   \n",
       "...                          ...                        ...   \n",
       "16828                          0                          0   \n",
       "16829                          0                          0   \n",
       "16830                          0                          0   \n",
       "16831                          0                          0   \n",
       "16832                          0                          0   \n",
       "\n",
       "       top_category_employer3_56  top_category_employer3_61  \\\n",
       "0                              0                          0   \n",
       "1                              0                          0   \n",
       "2                              0                          0   \n",
       "3                              0                          0   \n",
       "4                              0                          0   \n",
       "...                          ...                        ...   \n",
       "16828                          0                          0   \n",
       "16829                          0                          0   \n",
       "16830                          0                          0   \n",
       "16831                          0                          0   \n",
       "16832                          1                          0   \n",
       "\n",
       "       top_category_employer3_62  top_category_employer3_71  \\\n",
       "0                              0                          0   \n",
       "1                              0                          0   \n",
       "2                              0                          0   \n",
       "3                              0                          0   \n",
       "4                              0                          0   \n",
       "...                          ...                        ...   \n",
       "16828                          0                          0   \n",
       "16829                          0                          0   \n",
       "16830                          0                          0   \n",
       "16831                          0                          1   \n",
       "16832                          0                          0   \n",
       "\n",
       "       top_category_employer3_72  top_category_employer3_81  \\\n",
       "0                              0                          0   \n",
       "1                              0                          0   \n",
       "2                              0                          0   \n",
       "3                              0                          0   \n",
       "4                              0                          0   \n",
       "...                          ...                        ...   \n",
       "16828                          0                          1   \n",
       "16829                          0                          1   \n",
       "16830                          0                          1   \n",
       "16831                          0                          0   \n",
       "16832                          0                          0   \n",
       "\n",
       "       top_category_employer3_92  top_category_employer3_99  \n",
       "0                              0                          0  \n",
       "1                              0                          0  \n",
       "2                              0                          0  \n",
       "3                              0                          0  \n",
       "4                              0                          0  \n",
       "...                          ...                        ...  \n",
       "16828                          0                          0  \n",
       "16829                          0                          0  \n",
       "16830                          0                          0  \n",
       "16831                          0                          0  \n",
       "16832                          0                          0  \n",
       "\n",
       "[16833 rows x 177 columns]"
      ]
     },
     "execution_count": 159,
     "metadata": {},
     "output_type": "execute_result"
    }
   ],
   "source": [
    "Y_test_final"
   ]
  },
  {
   "cell_type": "code",
   "execution_count": 160,
   "id": "510ae70e",
   "metadata": {
    "execution": {
     "iopub.execute_input": "2023-05-10T01:33:31.495009Z",
     "iopub.status.busy": "2023-05-10T01:33:31.494758Z",
     "iopub.status.idle": "2023-05-10T01:33:31.507362Z",
     "shell.execute_reply": "2023-05-10T01:33:31.506952Z"
    }
   },
   "outputs": [],
   "source": [
    "Y_test_final = pred_data.merge(fin,how='inner',on= 'uu_id')"
   ]
  },
  {
   "cell_type": "code",
   "execution_count": 161,
   "id": "67a637a0",
   "metadata": {
    "execution": {
     "iopub.execute_input": "2023-05-10T01:33:31.509860Z",
     "iopub.status.busy": "2023-05-10T01:33:31.509539Z",
     "iopub.status.idle": "2023-05-10T01:33:31.520108Z",
     "shell.execute_reply": "2023-05-10T01:33:31.519724Z"
    }
   },
   "outputs": [
    {
     "data": {
      "text/html": [
       "<div>\n",
       "<style scoped>\n",
       "    .dataframe tbody tr th:only-of-type {\n",
       "        vertical-align: middle;\n",
       "    }\n",
       "\n",
       "    .dataframe tbody tr th {\n",
       "        vertical-align: top;\n",
       "    }\n",
       "\n",
       "    .dataframe thead th {\n",
       "        text-align: right;\n",
       "    }\n",
       "</style>\n",
       "<table border=\"1\" class=\"dataframe\">\n",
       "  <thead>\n",
       "    <tr style=\"text-align: right;\">\n",
       "      <th></th>\n",
       "      <th>uu_id</th>\n",
       "      <th>week_number</th>\n",
       "      <th>total_claims</th>\n",
       "      <th>edu_8th_or_less</th>\n",
       "      <th>edu_grades_9_11</th>\n",
       "      <th>edu_hs_grad_equiv</th>\n",
       "      <th>edu_post_hs</th>\n",
       "      <th>edu_unknown</th>\n",
       "      <th>gender_female</th>\n",
       "      <th>gender_male</th>\n",
       "      <th>...</th>\n",
       "      <th>top_category_employer3_54</th>\n",
       "      <th>top_category_employer3_55</th>\n",
       "      <th>top_category_employer3_56</th>\n",
       "      <th>top_category_employer3_61</th>\n",
       "      <th>top_category_employer3_62</th>\n",
       "      <th>top_category_employer3_71</th>\n",
       "      <th>top_category_employer3_72</th>\n",
       "      <th>top_category_employer3_81</th>\n",
       "      <th>top_category_employer3_92</th>\n",
       "      <th>top_category_employer3_99</th>\n",
       "    </tr>\n",
       "  </thead>\n",
       "  <tbody>\n",
       "    <tr>\n",
       "      <th>0</th>\n",
       "      <td>5bf51fc2e162d6faf9e3cf79e4198378</td>\n",
       "      <td>44</td>\n",
       "      <td>20</td>\n",
       "      <td>0</td>\n",
       "      <td>0</td>\n",
       "      <td>11</td>\n",
       "      <td>9.166667</td>\n",
       "      <td>0</td>\n",
       "      <td>17.416667</td>\n",
       "      <td>14.800000</td>\n",
       "      <td>...</td>\n",
       "      <td>0</td>\n",
       "      <td>0</td>\n",
       "      <td>0</td>\n",
       "      <td>0</td>\n",
       "      <td>0</td>\n",
       "      <td>0</td>\n",
       "      <td>0</td>\n",
       "      <td>0</td>\n",
       "      <td>0</td>\n",
       "      <td>0</td>\n",
       "    </tr>\n",
       "    <tr>\n",
       "      <th>1</th>\n",
       "      <td>5bf51fc2e162d6faf9e3cf79e4198378</td>\n",
       "      <td>44</td>\n",
       "      <td>11</td>\n",
       "      <td>0</td>\n",
       "      <td>0</td>\n",
       "      <td>13</td>\n",
       "      <td>9.166667</td>\n",
       "      <td>0</td>\n",
       "      <td>17.416667</td>\n",
       "      <td>14.800000</td>\n",
       "      <td>...</td>\n",
       "      <td>0</td>\n",
       "      <td>0</td>\n",
       "      <td>0</td>\n",
       "      <td>0</td>\n",
       "      <td>0</td>\n",
       "      <td>0</td>\n",
       "      <td>0</td>\n",
       "      <td>0</td>\n",
       "      <td>0</td>\n",
       "      <td>0</td>\n",
       "    </tr>\n",
       "    <tr>\n",
       "      <th>2</th>\n",
       "      <td>5bf51fc2e162d6faf9e3cf79e4198378</td>\n",
       "      <td>44</td>\n",
       "      <td>11</td>\n",
       "      <td>0</td>\n",
       "      <td>0</td>\n",
       "      <td>13</td>\n",
       "      <td>9.166667</td>\n",
       "      <td>0</td>\n",
       "      <td>17.416667</td>\n",
       "      <td>14.800000</td>\n",
       "      <td>...</td>\n",
       "      <td>0</td>\n",
       "      <td>0</td>\n",
       "      <td>0</td>\n",
       "      <td>0</td>\n",
       "      <td>0</td>\n",
       "      <td>0</td>\n",
       "      <td>0</td>\n",
       "      <td>0</td>\n",
       "      <td>0</td>\n",
       "      <td>0</td>\n",
       "    </tr>\n",
       "    <tr>\n",
       "      <th>3</th>\n",
       "      <td>5bf51fc2e162d6faf9e3cf79e4198378</td>\n",
       "      <td>44</td>\n",
       "      <td>20</td>\n",
       "      <td>0</td>\n",
       "      <td>0</td>\n",
       "      <td>13</td>\n",
       "      <td>9.166667</td>\n",
       "      <td>0</td>\n",
       "      <td>17.416667</td>\n",
       "      <td>14.800000</td>\n",
       "      <td>...</td>\n",
       "      <td>0</td>\n",
       "      <td>0</td>\n",
       "      <td>0</td>\n",
       "      <td>0</td>\n",
       "      <td>0</td>\n",
       "      <td>0</td>\n",
       "      <td>0</td>\n",
       "      <td>0</td>\n",
       "      <td>0</td>\n",
       "      <td>0</td>\n",
       "    </tr>\n",
       "    <tr>\n",
       "      <th>4</th>\n",
       "      <td>5bf51fc2e162d6faf9e3cf79e4198378</td>\n",
       "      <td>44</td>\n",
       "      <td>20</td>\n",
       "      <td>0</td>\n",
       "      <td>0</td>\n",
       "      <td>13</td>\n",
       "      <td>9.166667</td>\n",
       "      <td>0</td>\n",
       "      <td>17.416667</td>\n",
       "      <td>14.800000</td>\n",
       "      <td>...</td>\n",
       "      <td>0</td>\n",
       "      <td>0</td>\n",
       "      <td>0</td>\n",
       "      <td>0</td>\n",
       "      <td>0</td>\n",
       "      <td>0</td>\n",
       "      <td>0</td>\n",
       "      <td>0</td>\n",
       "      <td>0</td>\n",
       "      <td>0</td>\n",
       "    </tr>\n",
       "    <tr>\n",
       "      <th>...</th>\n",
       "      <td>...</td>\n",
       "      <td>...</td>\n",
       "      <td>...</td>\n",
       "      <td>...</td>\n",
       "      <td>...</td>\n",
       "      <td>...</td>\n",
       "      <td>...</td>\n",
       "      <td>...</td>\n",
       "      <td>...</td>\n",
       "      <td>...</td>\n",
       "      <td>...</td>\n",
       "      <td>...</td>\n",
       "      <td>...</td>\n",
       "      <td>...</td>\n",
       "      <td>...</td>\n",
       "      <td>...</td>\n",
       "      <td>...</td>\n",
       "      <td>...</td>\n",
       "      <td>...</td>\n",
       "      <td>...</td>\n",
       "      <td>...</td>\n",
       "    </tr>\n",
       "    <tr>\n",
       "      <th>16828</th>\n",
       "      <td>932a58530abff8a48558e2a15639d453</td>\n",
       "      <td>44</td>\n",
       "      <td>17</td>\n",
       "      <td>0</td>\n",
       "      <td>0</td>\n",
       "      <td>17</td>\n",
       "      <td>0.000000</td>\n",
       "      <td>0</td>\n",
       "      <td>17.859649</td>\n",
       "      <td>17.985075</td>\n",
       "      <td>...</td>\n",
       "      <td>0</td>\n",
       "      <td>0</td>\n",
       "      <td>0</td>\n",
       "      <td>0</td>\n",
       "      <td>0</td>\n",
       "      <td>0</td>\n",
       "      <td>0</td>\n",
       "      <td>1</td>\n",
       "      <td>0</td>\n",
       "      <td>0</td>\n",
       "    </tr>\n",
       "    <tr>\n",
       "      <th>16829</th>\n",
       "      <td>932a58530abff8a48558e2a15639d453</td>\n",
       "      <td>44</td>\n",
       "      <td>11</td>\n",
       "      <td>0</td>\n",
       "      <td>0</td>\n",
       "      <td>17</td>\n",
       "      <td>14.539683</td>\n",
       "      <td>0</td>\n",
       "      <td>17.859649</td>\n",
       "      <td>17.985075</td>\n",
       "      <td>...</td>\n",
       "      <td>0</td>\n",
       "      <td>0</td>\n",
       "      <td>0</td>\n",
       "      <td>0</td>\n",
       "      <td>0</td>\n",
       "      <td>0</td>\n",
       "      <td>0</td>\n",
       "      <td>1</td>\n",
       "      <td>0</td>\n",
       "      <td>0</td>\n",
       "    </tr>\n",
       "    <tr>\n",
       "      <th>16830</th>\n",
       "      <td>932a58530abff8a48558e2a15639d453</td>\n",
       "      <td>44</td>\n",
       "      <td>25</td>\n",
       "      <td>0</td>\n",
       "      <td>15</td>\n",
       "      <td>10</td>\n",
       "      <td>0.000000</td>\n",
       "      <td>0</td>\n",
       "      <td>17.859649</td>\n",
       "      <td>17.985075</td>\n",
       "      <td>...</td>\n",
       "      <td>0</td>\n",
       "      <td>0</td>\n",
       "      <td>0</td>\n",
       "      <td>0</td>\n",
       "      <td>0</td>\n",
       "      <td>0</td>\n",
       "      <td>0</td>\n",
       "      <td>1</td>\n",
       "      <td>0</td>\n",
       "      <td>0</td>\n",
       "    </tr>\n",
       "    <tr>\n",
       "      <th>16831</th>\n",
       "      <td>932a58530abff8a48558e2a15639d453</td>\n",
       "      <td>44</td>\n",
       "      <td>13</td>\n",
       "      <td>0</td>\n",
       "      <td>0</td>\n",
       "      <td>17</td>\n",
       "      <td>14.539683</td>\n",
       "      <td>0</td>\n",
       "      <td>17.859649</td>\n",
       "      <td>17.985075</td>\n",
       "      <td>...</td>\n",
       "      <td>0</td>\n",
       "      <td>0</td>\n",
       "      <td>0</td>\n",
       "      <td>0</td>\n",
       "      <td>0</td>\n",
       "      <td>1</td>\n",
       "      <td>0</td>\n",
       "      <td>0</td>\n",
       "      <td>0</td>\n",
       "      <td>0</td>\n",
       "    </tr>\n",
       "    <tr>\n",
       "      <th>16832</th>\n",
       "      <td>932a58530abff8a48558e2a15639d453</td>\n",
       "      <td>44</td>\n",
       "      <td>30</td>\n",
       "      <td>0</td>\n",
       "      <td>0</td>\n",
       "      <td>14</td>\n",
       "      <td>16.000000</td>\n",
       "      <td>0</td>\n",
       "      <td>12.000000</td>\n",
       "      <td>18.000000</td>\n",
       "      <td>...</td>\n",
       "      <td>0</td>\n",
       "      <td>0</td>\n",
       "      <td>1</td>\n",
       "      <td>0</td>\n",
       "      <td>0</td>\n",
       "      <td>0</td>\n",
       "      <td>0</td>\n",
       "      <td>0</td>\n",
       "      <td>0</td>\n",
       "      <td>0</td>\n",
       "    </tr>\n",
       "  </tbody>\n",
       "</table>\n",
       "<p>16833 rows × 177 columns</p>\n",
       "</div>"
      ],
      "text/plain": [
       "                                  uu_id  week_number  total_claims  \\\n",
       "0      5bf51fc2e162d6faf9e3cf79e4198378           44            20   \n",
       "1      5bf51fc2e162d6faf9e3cf79e4198378           44            11   \n",
       "2      5bf51fc2e162d6faf9e3cf79e4198378           44            11   \n",
       "3      5bf51fc2e162d6faf9e3cf79e4198378           44            20   \n",
       "4      5bf51fc2e162d6faf9e3cf79e4198378           44            20   \n",
       "...                                 ...          ...           ...   \n",
       "16828  932a58530abff8a48558e2a15639d453           44            17   \n",
       "16829  932a58530abff8a48558e2a15639d453           44            11   \n",
       "16830  932a58530abff8a48558e2a15639d453           44            25   \n",
       "16831  932a58530abff8a48558e2a15639d453           44            13   \n",
       "16832  932a58530abff8a48558e2a15639d453           44            30   \n",
       "\n",
       "       edu_8th_or_less  edu_grades_9_11  edu_hs_grad_equiv  edu_post_hs  \\\n",
       "0                    0                0                 11     9.166667   \n",
       "1                    0                0                 13     9.166667   \n",
       "2                    0                0                 13     9.166667   \n",
       "3                    0                0                 13     9.166667   \n",
       "4                    0                0                 13     9.166667   \n",
       "...                ...              ...                ...          ...   \n",
       "16828                0                0                 17     0.000000   \n",
       "16829                0                0                 17    14.539683   \n",
       "16830                0               15                 10     0.000000   \n",
       "16831                0                0                 17    14.539683   \n",
       "16832                0                0                 14    16.000000   \n",
       "\n",
       "       edu_unknown  gender_female  gender_male  ...  \\\n",
       "0                0      17.416667    14.800000  ...   \n",
       "1                0      17.416667    14.800000  ...   \n",
       "2                0      17.416667    14.800000  ...   \n",
       "3                0      17.416667    14.800000  ...   \n",
       "4                0      17.416667    14.800000  ...   \n",
       "...            ...            ...          ...  ...   \n",
       "16828            0      17.859649    17.985075  ...   \n",
       "16829            0      17.859649    17.985075  ...   \n",
       "16830            0      17.859649    17.985075  ...   \n",
       "16831            0      17.859649    17.985075  ...   \n",
       "16832            0      12.000000    18.000000  ...   \n",
       "\n",
       "       top_category_employer3_54  top_category_employer3_55  \\\n",
       "0                              0                          0   \n",
       "1                              0                          0   \n",
       "2                              0                          0   \n",
       "3                              0                          0   \n",
       "4                              0                          0   \n",
       "...                          ...                        ...   \n",
       "16828                          0                          0   \n",
       "16829                          0                          0   \n",
       "16830                          0                          0   \n",
       "16831                          0                          0   \n",
       "16832                          0                          0   \n",
       "\n",
       "       top_category_employer3_56  top_category_employer3_61  \\\n",
       "0                              0                          0   \n",
       "1                              0                          0   \n",
       "2                              0                          0   \n",
       "3                              0                          0   \n",
       "4                              0                          0   \n",
       "...                          ...                        ...   \n",
       "16828                          0                          0   \n",
       "16829                          0                          0   \n",
       "16830                          0                          0   \n",
       "16831                          0                          0   \n",
       "16832                          1                          0   \n",
       "\n",
       "       top_category_employer3_62  top_category_employer3_71  \\\n",
       "0                              0                          0   \n",
       "1                              0                          0   \n",
       "2                              0                          0   \n",
       "3                              0                          0   \n",
       "4                              0                          0   \n",
       "...                          ...                        ...   \n",
       "16828                          0                          0   \n",
       "16829                          0                          0   \n",
       "16830                          0                          0   \n",
       "16831                          0                          1   \n",
       "16832                          0                          0   \n",
       "\n",
       "       top_category_employer3_72  top_category_employer3_81  \\\n",
       "0                              0                          0   \n",
       "1                              0                          0   \n",
       "2                              0                          0   \n",
       "3                              0                          0   \n",
       "4                              0                          0   \n",
       "...                          ...                        ...   \n",
       "16828                          0                          1   \n",
       "16829                          0                          1   \n",
       "16830                          0                          1   \n",
       "16831                          0                          0   \n",
       "16832                          0                          0   \n",
       "\n",
       "       top_category_employer3_92  top_category_employer3_99  \n",
       "0                              0                          0  \n",
       "1                              0                          0  \n",
       "2                              0                          0  \n",
       "3                              0                          0  \n",
       "4                              0                          0  \n",
       "...                          ...                        ...  \n",
       "16828                          0                          0  \n",
       "16829                          0                          0  \n",
       "16830                          0                          0  \n",
       "16831                          0                          0  \n",
       "16832                          0                          0  \n",
       "\n",
       "[16833 rows x 177 columns]"
      ]
     },
     "execution_count": 161,
     "metadata": {},
     "output_type": "execute_result"
    }
   ],
   "source": [
    "Y_test_final"
   ]
  },
  {
   "cell_type": "code",
   "execution_count": 162,
   "id": "b96a7a73",
   "metadata": {
    "execution": {
     "iopub.execute_input": "2023-05-10T01:33:31.521892Z",
     "iopub.status.busy": "2023-05-10T01:33:31.521775Z",
     "iopub.status.idle": "2023-05-10T01:33:31.532188Z",
     "shell.execute_reply": "2023-05-10T01:33:31.531791Z"
    }
   },
   "outputs": [
    {
     "data": {
      "text/html": [
       "<div>\n",
       "<style scoped>\n",
       "    .dataframe tbody tr th:only-of-type {\n",
       "        vertical-align: middle;\n",
       "    }\n",
       "\n",
       "    .dataframe tbody tr th {\n",
       "        vertical-align: top;\n",
       "    }\n",
       "\n",
       "    .dataframe thead th {\n",
       "        text-align: right;\n",
       "    }\n",
       "</style>\n",
       "<table border=\"1\" class=\"dataframe\">\n",
       "  <thead>\n",
       "    <tr style=\"text-align: right;\">\n",
       "      <th></th>\n",
       "      <th>uu_id</th>\n",
       "      <th>week_number</th>\n",
       "      <th>total_claims</th>\n",
       "      <th>edu_8th_or_less</th>\n",
       "      <th>edu_grades_9_11</th>\n",
       "      <th>edu_hs_grad_equiv</th>\n",
       "      <th>edu_post_hs</th>\n",
       "      <th>edu_unknown</th>\n",
       "      <th>gender_female</th>\n",
       "      <th>gender_male</th>\n",
       "      <th>...</th>\n",
       "      <th>top_category_employer3_54</th>\n",
       "      <th>top_category_employer3_55</th>\n",
       "      <th>top_category_employer3_56</th>\n",
       "      <th>top_category_employer3_61</th>\n",
       "      <th>top_category_employer3_62</th>\n",
       "      <th>top_category_employer3_71</th>\n",
       "      <th>top_category_employer3_72</th>\n",
       "      <th>top_category_employer3_81</th>\n",
       "      <th>top_category_employer3_92</th>\n",
       "      <th>top_category_employer3_99</th>\n",
       "    </tr>\n",
       "  </thead>\n",
       "  <tbody>\n",
       "    <tr>\n",
       "      <th>0</th>\n",
       "      <td>5bf51fc2e162d6faf9e3cf79e4198378</td>\n",
       "      <td>44</td>\n",
       "      <td>20</td>\n",
       "      <td>0</td>\n",
       "      <td>0</td>\n",
       "      <td>11</td>\n",
       "      <td>9.166667</td>\n",
       "      <td>0</td>\n",
       "      <td>17.416667</td>\n",
       "      <td>14.800000</td>\n",
       "      <td>...</td>\n",
       "      <td>0</td>\n",
       "      <td>0</td>\n",
       "      <td>0</td>\n",
       "      <td>0</td>\n",
       "      <td>0</td>\n",
       "      <td>0</td>\n",
       "      <td>0</td>\n",
       "      <td>0</td>\n",
       "      <td>0</td>\n",
       "      <td>0</td>\n",
       "    </tr>\n",
       "    <tr>\n",
       "      <th>1</th>\n",
       "      <td>5bf51fc2e162d6faf9e3cf79e4198378</td>\n",
       "      <td>44</td>\n",
       "      <td>11</td>\n",
       "      <td>0</td>\n",
       "      <td>0</td>\n",
       "      <td>13</td>\n",
       "      <td>9.166667</td>\n",
       "      <td>0</td>\n",
       "      <td>17.416667</td>\n",
       "      <td>14.800000</td>\n",
       "      <td>...</td>\n",
       "      <td>0</td>\n",
       "      <td>0</td>\n",
       "      <td>0</td>\n",
       "      <td>0</td>\n",
       "      <td>0</td>\n",
       "      <td>0</td>\n",
       "      <td>0</td>\n",
       "      <td>0</td>\n",
       "      <td>0</td>\n",
       "      <td>0</td>\n",
       "    </tr>\n",
       "    <tr>\n",
       "      <th>2</th>\n",
       "      <td>5bf51fc2e162d6faf9e3cf79e4198378</td>\n",
       "      <td>44</td>\n",
       "      <td>11</td>\n",
       "      <td>0</td>\n",
       "      <td>0</td>\n",
       "      <td>13</td>\n",
       "      <td>9.166667</td>\n",
       "      <td>0</td>\n",
       "      <td>17.416667</td>\n",
       "      <td>14.800000</td>\n",
       "      <td>...</td>\n",
       "      <td>0</td>\n",
       "      <td>0</td>\n",
       "      <td>0</td>\n",
       "      <td>0</td>\n",
       "      <td>0</td>\n",
       "      <td>0</td>\n",
       "      <td>0</td>\n",
       "      <td>0</td>\n",
       "      <td>0</td>\n",
       "      <td>0</td>\n",
       "    </tr>\n",
       "    <tr>\n",
       "      <th>3</th>\n",
       "      <td>5bf51fc2e162d6faf9e3cf79e4198378</td>\n",
       "      <td>44</td>\n",
       "      <td>20</td>\n",
       "      <td>0</td>\n",
       "      <td>0</td>\n",
       "      <td>13</td>\n",
       "      <td>9.166667</td>\n",
       "      <td>0</td>\n",
       "      <td>17.416667</td>\n",
       "      <td>14.800000</td>\n",
       "      <td>...</td>\n",
       "      <td>0</td>\n",
       "      <td>0</td>\n",
       "      <td>0</td>\n",
       "      <td>0</td>\n",
       "      <td>0</td>\n",
       "      <td>0</td>\n",
       "      <td>0</td>\n",
       "      <td>0</td>\n",
       "      <td>0</td>\n",
       "      <td>0</td>\n",
       "    </tr>\n",
       "    <tr>\n",
       "      <th>4</th>\n",
       "      <td>5bf51fc2e162d6faf9e3cf79e4198378</td>\n",
       "      <td>44</td>\n",
       "      <td>20</td>\n",
       "      <td>0</td>\n",
       "      <td>0</td>\n",
       "      <td>13</td>\n",
       "      <td>9.166667</td>\n",
       "      <td>0</td>\n",
       "      <td>17.416667</td>\n",
       "      <td>14.800000</td>\n",
       "      <td>...</td>\n",
       "      <td>0</td>\n",
       "      <td>0</td>\n",
       "      <td>0</td>\n",
       "      <td>0</td>\n",
       "      <td>0</td>\n",
       "      <td>0</td>\n",
       "      <td>0</td>\n",
       "      <td>0</td>\n",
       "      <td>0</td>\n",
       "      <td>0</td>\n",
       "    </tr>\n",
       "    <tr>\n",
       "      <th>...</th>\n",
       "      <td>...</td>\n",
       "      <td>...</td>\n",
       "      <td>...</td>\n",
       "      <td>...</td>\n",
       "      <td>...</td>\n",
       "      <td>...</td>\n",
       "      <td>...</td>\n",
       "      <td>...</td>\n",
       "      <td>...</td>\n",
       "      <td>...</td>\n",
       "      <td>...</td>\n",
       "      <td>...</td>\n",
       "      <td>...</td>\n",
       "      <td>...</td>\n",
       "      <td>...</td>\n",
       "      <td>...</td>\n",
       "      <td>...</td>\n",
       "      <td>...</td>\n",
       "      <td>...</td>\n",
       "      <td>...</td>\n",
       "      <td>...</td>\n",
       "    </tr>\n",
       "    <tr>\n",
       "      <th>16828</th>\n",
       "      <td>932a58530abff8a48558e2a15639d453</td>\n",
       "      <td>44</td>\n",
       "      <td>17</td>\n",
       "      <td>0</td>\n",
       "      <td>0</td>\n",
       "      <td>17</td>\n",
       "      <td>0.000000</td>\n",
       "      <td>0</td>\n",
       "      <td>17.859649</td>\n",
       "      <td>17.985075</td>\n",
       "      <td>...</td>\n",
       "      <td>0</td>\n",
       "      <td>0</td>\n",
       "      <td>0</td>\n",
       "      <td>0</td>\n",
       "      <td>0</td>\n",
       "      <td>0</td>\n",
       "      <td>0</td>\n",
       "      <td>1</td>\n",
       "      <td>0</td>\n",
       "      <td>0</td>\n",
       "    </tr>\n",
       "    <tr>\n",
       "      <th>16829</th>\n",
       "      <td>932a58530abff8a48558e2a15639d453</td>\n",
       "      <td>44</td>\n",
       "      <td>11</td>\n",
       "      <td>0</td>\n",
       "      <td>0</td>\n",
       "      <td>17</td>\n",
       "      <td>14.539683</td>\n",
       "      <td>0</td>\n",
       "      <td>17.859649</td>\n",
       "      <td>17.985075</td>\n",
       "      <td>...</td>\n",
       "      <td>0</td>\n",
       "      <td>0</td>\n",
       "      <td>0</td>\n",
       "      <td>0</td>\n",
       "      <td>0</td>\n",
       "      <td>0</td>\n",
       "      <td>0</td>\n",
       "      <td>1</td>\n",
       "      <td>0</td>\n",
       "      <td>0</td>\n",
       "    </tr>\n",
       "    <tr>\n",
       "      <th>16830</th>\n",
       "      <td>932a58530abff8a48558e2a15639d453</td>\n",
       "      <td>44</td>\n",
       "      <td>25</td>\n",
       "      <td>0</td>\n",
       "      <td>15</td>\n",
       "      <td>10</td>\n",
       "      <td>0.000000</td>\n",
       "      <td>0</td>\n",
       "      <td>17.859649</td>\n",
       "      <td>17.985075</td>\n",
       "      <td>...</td>\n",
       "      <td>0</td>\n",
       "      <td>0</td>\n",
       "      <td>0</td>\n",
       "      <td>0</td>\n",
       "      <td>0</td>\n",
       "      <td>0</td>\n",
       "      <td>0</td>\n",
       "      <td>1</td>\n",
       "      <td>0</td>\n",
       "      <td>0</td>\n",
       "    </tr>\n",
       "    <tr>\n",
       "      <th>16831</th>\n",
       "      <td>932a58530abff8a48558e2a15639d453</td>\n",
       "      <td>44</td>\n",
       "      <td>13</td>\n",
       "      <td>0</td>\n",
       "      <td>0</td>\n",
       "      <td>17</td>\n",
       "      <td>14.539683</td>\n",
       "      <td>0</td>\n",
       "      <td>17.859649</td>\n",
       "      <td>17.985075</td>\n",
       "      <td>...</td>\n",
       "      <td>0</td>\n",
       "      <td>0</td>\n",
       "      <td>0</td>\n",
       "      <td>0</td>\n",
       "      <td>0</td>\n",
       "      <td>1</td>\n",
       "      <td>0</td>\n",
       "      <td>0</td>\n",
       "      <td>0</td>\n",
       "      <td>0</td>\n",
       "    </tr>\n",
       "    <tr>\n",
       "      <th>16832</th>\n",
       "      <td>932a58530abff8a48558e2a15639d453</td>\n",
       "      <td>44</td>\n",
       "      <td>30</td>\n",
       "      <td>0</td>\n",
       "      <td>0</td>\n",
       "      <td>14</td>\n",
       "      <td>16.000000</td>\n",
       "      <td>0</td>\n",
       "      <td>12.000000</td>\n",
       "      <td>18.000000</td>\n",
       "      <td>...</td>\n",
       "      <td>0</td>\n",
       "      <td>0</td>\n",
       "      <td>1</td>\n",
       "      <td>0</td>\n",
       "      <td>0</td>\n",
       "      <td>0</td>\n",
       "      <td>0</td>\n",
       "      <td>0</td>\n",
       "      <td>0</td>\n",
       "      <td>0</td>\n",
       "    </tr>\n",
       "  </tbody>\n",
       "</table>\n",
       "<p>16833 rows × 177 columns</p>\n",
       "</div>"
      ],
      "text/plain": [
       "                                  uu_id  week_number  total_claims  \\\n",
       "0      5bf51fc2e162d6faf9e3cf79e4198378           44            20   \n",
       "1      5bf51fc2e162d6faf9e3cf79e4198378           44            11   \n",
       "2      5bf51fc2e162d6faf9e3cf79e4198378           44            11   \n",
       "3      5bf51fc2e162d6faf9e3cf79e4198378           44            20   \n",
       "4      5bf51fc2e162d6faf9e3cf79e4198378           44            20   \n",
       "...                                 ...          ...           ...   \n",
       "16828  932a58530abff8a48558e2a15639d453           44            17   \n",
       "16829  932a58530abff8a48558e2a15639d453           44            11   \n",
       "16830  932a58530abff8a48558e2a15639d453           44            25   \n",
       "16831  932a58530abff8a48558e2a15639d453           44            13   \n",
       "16832  932a58530abff8a48558e2a15639d453           44            30   \n",
       "\n",
       "       edu_8th_or_less  edu_grades_9_11  edu_hs_grad_equiv  edu_post_hs  \\\n",
       "0                    0                0                 11     9.166667   \n",
       "1                    0                0                 13     9.166667   \n",
       "2                    0                0                 13     9.166667   \n",
       "3                    0                0                 13     9.166667   \n",
       "4                    0                0                 13     9.166667   \n",
       "...                ...              ...                ...          ...   \n",
       "16828                0                0                 17     0.000000   \n",
       "16829                0                0                 17    14.539683   \n",
       "16830                0               15                 10     0.000000   \n",
       "16831                0                0                 17    14.539683   \n",
       "16832                0                0                 14    16.000000   \n",
       "\n",
       "       edu_unknown  gender_female  gender_male  ...  \\\n",
       "0                0      17.416667    14.800000  ...   \n",
       "1                0      17.416667    14.800000  ...   \n",
       "2                0      17.416667    14.800000  ...   \n",
       "3                0      17.416667    14.800000  ...   \n",
       "4                0      17.416667    14.800000  ...   \n",
       "...            ...            ...          ...  ...   \n",
       "16828            0      17.859649    17.985075  ...   \n",
       "16829            0      17.859649    17.985075  ...   \n",
       "16830            0      17.859649    17.985075  ...   \n",
       "16831            0      17.859649    17.985075  ...   \n",
       "16832            0      12.000000    18.000000  ...   \n",
       "\n",
       "       top_category_employer3_54  top_category_employer3_55  \\\n",
       "0                              0                          0   \n",
       "1                              0                          0   \n",
       "2                              0                          0   \n",
       "3                              0                          0   \n",
       "4                              0                          0   \n",
       "...                          ...                        ...   \n",
       "16828                          0                          0   \n",
       "16829                          0                          0   \n",
       "16830                          0                          0   \n",
       "16831                          0                          0   \n",
       "16832                          0                          0   \n",
       "\n",
       "       top_category_employer3_56  top_category_employer3_61  \\\n",
       "0                              0                          0   \n",
       "1                              0                          0   \n",
       "2                              0                          0   \n",
       "3                              0                          0   \n",
       "4                              0                          0   \n",
       "...                          ...                        ...   \n",
       "16828                          0                          0   \n",
       "16829                          0                          0   \n",
       "16830                          0                          0   \n",
       "16831                          0                          0   \n",
       "16832                          1                          0   \n",
       "\n",
       "       top_category_employer3_62  top_category_employer3_71  \\\n",
       "0                              0                          0   \n",
       "1                              0                          0   \n",
       "2                              0                          0   \n",
       "3                              0                          0   \n",
       "4                              0                          0   \n",
       "...                          ...                        ...   \n",
       "16828                          0                          0   \n",
       "16829                          0                          0   \n",
       "16830                          0                          0   \n",
       "16831                          0                          1   \n",
       "16832                          0                          0   \n",
       "\n",
       "       top_category_employer3_72  top_category_employer3_81  \\\n",
       "0                              0                          0   \n",
       "1                              0                          0   \n",
       "2                              0                          0   \n",
       "3                              0                          0   \n",
       "4                              0                          0   \n",
       "...                          ...                        ...   \n",
       "16828                          0                          1   \n",
       "16829                          0                          1   \n",
       "16830                          0                          1   \n",
       "16831                          0                          0   \n",
       "16832                          0                          0   \n",
       "\n",
       "       top_category_employer3_92  top_category_employer3_99  \n",
       "0                              0                          0  \n",
       "1                              0                          0  \n",
       "2                              0                          0  \n",
       "3                              0                          0  \n",
       "4                              0                          0  \n",
       "...                          ...                        ...  \n",
       "16828                          0                          0  \n",
       "16829                          0                          0  \n",
       "16830                          0                          0  \n",
       "16831                          0                          0  \n",
       "16832                          0                          0  \n",
       "\n",
       "[16833 rows x 177 columns]"
      ]
     },
     "execution_count": 162,
     "metadata": {},
     "output_type": "execute_result"
    }
   ],
   "source": [
    "Y_test_final"
   ]
  },
  {
   "cell_type": "code",
   "execution_count": 163,
   "id": "0cdbb2f2",
   "metadata": {
    "execution": {
     "iopub.execute_input": "2023-05-10T01:33:31.533973Z",
     "iopub.status.busy": "2023-05-10T01:33:31.533856Z",
     "iopub.status.idle": "2023-05-10T01:33:31.546512Z",
     "shell.execute_reply": "2023-05-10T01:33:31.546133Z"
    }
   },
   "outputs": [],
   "source": [
    "Y_test_final = pred_data.merge(fin,how='right',on= 'uu_id')"
   ]
  },
  {
   "cell_type": "code",
   "execution_count": 164,
   "id": "4b09f4fb",
   "metadata": {
    "execution": {
     "iopub.execute_input": "2023-05-10T01:33:31.548386Z",
     "iopub.status.busy": "2023-05-10T01:33:31.548271Z",
     "iopub.status.idle": "2023-05-10T01:33:31.560907Z",
     "shell.execute_reply": "2023-05-10T01:33:31.560365Z"
    }
   },
   "outputs": [
    {
     "data": {
      "text/html": [
       "<div>\n",
       "<style scoped>\n",
       "    .dataframe tbody tr th:only-of-type {\n",
       "        vertical-align: middle;\n",
       "    }\n",
       "\n",
       "    .dataframe tbody tr th {\n",
       "        vertical-align: top;\n",
       "    }\n",
       "\n",
       "    .dataframe thead th {\n",
       "        text-align: right;\n",
       "    }\n",
       "</style>\n",
       "<table border=\"1\" class=\"dataframe\">\n",
       "  <thead>\n",
       "    <tr style=\"text-align: right;\">\n",
       "      <th></th>\n",
       "      <th>uu_id</th>\n",
       "      <th>week_number</th>\n",
       "      <th>total_claims</th>\n",
       "      <th>edu_8th_or_less</th>\n",
       "      <th>edu_grades_9_11</th>\n",
       "      <th>edu_hs_grad_equiv</th>\n",
       "      <th>edu_post_hs</th>\n",
       "      <th>edu_unknown</th>\n",
       "      <th>gender_female</th>\n",
       "      <th>gender_male</th>\n",
       "      <th>...</th>\n",
       "      <th>top_category_employer3_54</th>\n",
       "      <th>top_category_employer3_55</th>\n",
       "      <th>top_category_employer3_56</th>\n",
       "      <th>top_category_employer3_61</th>\n",
       "      <th>top_category_employer3_62</th>\n",
       "      <th>top_category_employer3_71</th>\n",
       "      <th>top_category_employer3_72</th>\n",
       "      <th>top_category_employer3_81</th>\n",
       "      <th>top_category_employer3_92</th>\n",
       "      <th>top_category_employer3_99</th>\n",
       "    </tr>\n",
       "  </thead>\n",
       "  <tbody>\n",
       "    <tr>\n",
       "      <th>0</th>\n",
       "      <td>f013068de98db1470bd986137a0c6d23</td>\n",
       "      <td>44</td>\n",
       "      <td>22</td>\n",
       "      <td>0</td>\n",
       "      <td>1</td>\n",
       "      <td>14</td>\n",
       "      <td>17.321101</td>\n",
       "      <td>0</td>\n",
       "      <td>19.757282</td>\n",
       "      <td>20.147059</td>\n",
       "      <td>...</td>\n",
       "      <td>0</td>\n",
       "      <td>0</td>\n",
       "      <td>0</td>\n",
       "      <td>0</td>\n",
       "      <td>1</td>\n",
       "      <td>0</td>\n",
       "      <td>0</td>\n",
       "      <td>0</td>\n",
       "      <td>0</td>\n",
       "      <td>0</td>\n",
       "    </tr>\n",
       "    <tr>\n",
       "      <th>1</th>\n",
       "      <td>21957d5517323845818d87623589e1ba</td>\n",
       "      <td>44</td>\n",
       "      <td>111</td>\n",
       "      <td>0</td>\n",
       "      <td>0</td>\n",
       "      <td>108</td>\n",
       "      <td>19.138743</td>\n",
       "      <td>0</td>\n",
       "      <td>76.000000</td>\n",
       "      <td>35.000000</td>\n",
       "      <td>...</td>\n",
       "      <td>0</td>\n",
       "      <td>0</td>\n",
       "      <td>1</td>\n",
       "      <td>0</td>\n",
       "      <td>0</td>\n",
       "      <td>0</td>\n",
       "      <td>0</td>\n",
       "      <td>0</td>\n",
       "      <td>0</td>\n",
       "      <td>0</td>\n",
       "    </tr>\n",
       "    <tr>\n",
       "      <th>2</th>\n",
       "      <td>6a5609f385912113b6f1014b958ed748</td>\n",
       "      <td>44</td>\n",
       "      <td>39</td>\n",
       "      <td>0</td>\n",
       "      <td>0</td>\n",
       "      <td>22</td>\n",
       "      <td>19.138743</td>\n",
       "      <td>0</td>\n",
       "      <td>22.363248</td>\n",
       "      <td>20.787276</td>\n",
       "      <td>...</td>\n",
       "      <td>0</td>\n",
       "      <td>0</td>\n",
       "      <td>1</td>\n",
       "      <td>0</td>\n",
       "      <td>0</td>\n",
       "      <td>0</td>\n",
       "      <td>0</td>\n",
       "      <td>0</td>\n",
       "      <td>0</td>\n",
       "      <td>0</td>\n",
       "    </tr>\n",
       "    <tr>\n",
       "      <th>3</th>\n",
       "      <td>46b2882ec4c373527ec33f7bd4f1388d</td>\n",
       "      <td>44</td>\n",
       "      <td>14</td>\n",
       "      <td>0</td>\n",
       "      <td>0</td>\n",
       "      <td>22</td>\n",
       "      <td>19.138743</td>\n",
       "      <td>0</td>\n",
       "      <td>22.363248</td>\n",
       "      <td>20.787276</td>\n",
       "      <td>...</td>\n",
       "      <td>0</td>\n",
       "      <td>0</td>\n",
       "      <td>0</td>\n",
       "      <td>0</td>\n",
       "      <td>0</td>\n",
       "      <td>0</td>\n",
       "      <td>0</td>\n",
       "      <td>0</td>\n",
       "      <td>0</td>\n",
       "      <td>0</td>\n",
       "    </tr>\n",
       "    <tr>\n",
       "      <th>4</th>\n",
       "      <td>37495d17e82f7df326bfc2c4c090f7b7</td>\n",
       "      <td>44</td>\n",
       "      <td>155</td>\n",
       "      <td>0</td>\n",
       "      <td>0</td>\n",
       "      <td>69</td>\n",
       "      <td>83.000000</td>\n",
       "      <td>0</td>\n",
       "      <td>90.000000</td>\n",
       "      <td>65.000000</td>\n",
       "      <td>...</td>\n",
       "      <td>0</td>\n",
       "      <td>0</td>\n",
       "      <td>1</td>\n",
       "      <td>0</td>\n",
       "      <td>0</td>\n",
       "      <td>0</td>\n",
       "      <td>0</td>\n",
       "      <td>0</td>\n",
       "      <td>0</td>\n",
       "      <td>0</td>\n",
       "    </tr>\n",
       "    <tr>\n",
       "      <th>...</th>\n",
       "      <td>...</td>\n",
       "      <td>...</td>\n",
       "      <td>...</td>\n",
       "      <td>...</td>\n",
       "      <td>...</td>\n",
       "      <td>...</td>\n",
       "      <td>...</td>\n",
       "      <td>...</td>\n",
       "      <td>...</td>\n",
       "      <td>...</td>\n",
       "      <td>...</td>\n",
       "      <td>...</td>\n",
       "      <td>...</td>\n",
       "      <td>...</td>\n",
       "      <td>...</td>\n",
       "      <td>...</td>\n",
       "      <td>...</td>\n",
       "      <td>...</td>\n",
       "      <td>...</td>\n",
       "      <td>...</td>\n",
       "      <td>...</td>\n",
       "    </tr>\n",
       "    <tr>\n",
       "      <th>16828</th>\n",
       "      <td>f35320206f3dd1ffc411e4ac127caf92</td>\n",
       "      <td>44</td>\n",
       "      <td>21</td>\n",
       "      <td>0</td>\n",
       "      <td>1</td>\n",
       "      <td>18</td>\n",
       "      <td>12.000000</td>\n",
       "      <td>0</td>\n",
       "      <td>14.853333</td>\n",
       "      <td>16.133333</td>\n",
       "      <td>...</td>\n",
       "      <td>0</td>\n",
       "      <td>0</td>\n",
       "      <td>0</td>\n",
       "      <td>0</td>\n",
       "      <td>0</td>\n",
       "      <td>0</td>\n",
       "      <td>0</td>\n",
       "      <td>1</td>\n",
       "      <td>0</td>\n",
       "      <td>0</td>\n",
       "    </tr>\n",
       "    <tr>\n",
       "      <th>16829</th>\n",
       "      <td>f35320206f3dd1ffc411e4ac127caf92</td>\n",
       "      <td>44</td>\n",
       "      <td>22</td>\n",
       "      <td>0</td>\n",
       "      <td>1</td>\n",
       "      <td>13</td>\n",
       "      <td>14.921053</td>\n",
       "      <td>0</td>\n",
       "      <td>14.853333</td>\n",
       "      <td>16.133333</td>\n",
       "      <td>...</td>\n",
       "      <td>0</td>\n",
       "      <td>0</td>\n",
       "      <td>0</td>\n",
       "      <td>0</td>\n",
       "      <td>0</td>\n",
       "      <td>0</td>\n",
       "      <td>0</td>\n",
       "      <td>0</td>\n",
       "      <td>0</td>\n",
       "      <td>0</td>\n",
       "    </tr>\n",
       "    <tr>\n",
       "      <th>16830</th>\n",
       "      <td>f35320206f3dd1ffc411e4ac127caf92</td>\n",
       "      <td>44</td>\n",
       "      <td>22</td>\n",
       "      <td>0</td>\n",
       "      <td>1</td>\n",
       "      <td>13</td>\n",
       "      <td>14.921053</td>\n",
       "      <td>0</td>\n",
       "      <td>14.853333</td>\n",
       "      <td>16.133333</td>\n",
       "      <td>...</td>\n",
       "      <td>0</td>\n",
       "      <td>0</td>\n",
       "      <td>0</td>\n",
       "      <td>0</td>\n",
       "      <td>0</td>\n",
       "      <td>0</td>\n",
       "      <td>0</td>\n",
       "      <td>0</td>\n",
       "      <td>0</td>\n",
       "      <td>0</td>\n",
       "    </tr>\n",
       "    <tr>\n",
       "      <th>16831</th>\n",
       "      <td>bbcb018f0e5e49e13636f6e78ce9f60f</td>\n",
       "      <td>44</td>\n",
       "      <td>53</td>\n",
       "      <td>0</td>\n",
       "      <td>1</td>\n",
       "      <td>48</td>\n",
       "      <td>14.921053</td>\n",
       "      <td>0</td>\n",
       "      <td>14.853333</td>\n",
       "      <td>16.133333</td>\n",
       "      <td>...</td>\n",
       "      <td>0</td>\n",
       "      <td>0</td>\n",
       "      <td>0</td>\n",
       "      <td>0</td>\n",
       "      <td>0</td>\n",
       "      <td>0</td>\n",
       "      <td>0</td>\n",
       "      <td>0</td>\n",
       "      <td>0</td>\n",
       "      <td>0</td>\n",
       "    </tr>\n",
       "    <tr>\n",
       "      <th>16832</th>\n",
       "      <td>bbcb018f0e5e49e13636f6e78ce9f60f</td>\n",
       "      <td>44</td>\n",
       "      <td>24</td>\n",
       "      <td>0</td>\n",
       "      <td>1</td>\n",
       "      <td>18</td>\n",
       "      <td>14.921053</td>\n",
       "      <td>0</td>\n",
       "      <td>11.000000</td>\n",
       "      <td>13.000000</td>\n",
       "      <td>...</td>\n",
       "      <td>0</td>\n",
       "      <td>0</td>\n",
       "      <td>0</td>\n",
       "      <td>0</td>\n",
       "      <td>0</td>\n",
       "      <td>0</td>\n",
       "      <td>0</td>\n",
       "      <td>0</td>\n",
       "      <td>0</td>\n",
       "      <td>0</td>\n",
       "    </tr>\n",
       "  </tbody>\n",
       "</table>\n",
       "<p>16833 rows × 177 columns</p>\n",
       "</div>"
      ],
      "text/plain": [
       "                                  uu_id  week_number  total_claims  \\\n",
       "0      f013068de98db1470bd986137a0c6d23           44            22   \n",
       "1      21957d5517323845818d87623589e1ba           44           111   \n",
       "2      6a5609f385912113b6f1014b958ed748           44            39   \n",
       "3      46b2882ec4c373527ec33f7bd4f1388d           44            14   \n",
       "4      37495d17e82f7df326bfc2c4c090f7b7           44           155   \n",
       "...                                 ...          ...           ...   \n",
       "16828  f35320206f3dd1ffc411e4ac127caf92           44            21   \n",
       "16829  f35320206f3dd1ffc411e4ac127caf92           44            22   \n",
       "16830  f35320206f3dd1ffc411e4ac127caf92           44            22   \n",
       "16831  bbcb018f0e5e49e13636f6e78ce9f60f           44            53   \n",
       "16832  bbcb018f0e5e49e13636f6e78ce9f60f           44            24   \n",
       "\n",
       "       edu_8th_or_less  edu_grades_9_11  edu_hs_grad_equiv  edu_post_hs  \\\n",
       "0                    0                1                 14    17.321101   \n",
       "1                    0                0                108    19.138743   \n",
       "2                    0                0                 22    19.138743   \n",
       "3                    0                0                 22    19.138743   \n",
       "4                    0                0                 69    83.000000   \n",
       "...                ...              ...                ...          ...   \n",
       "16828                0                1                 18    12.000000   \n",
       "16829                0                1                 13    14.921053   \n",
       "16830                0                1                 13    14.921053   \n",
       "16831                0                1                 48    14.921053   \n",
       "16832                0                1                 18    14.921053   \n",
       "\n",
       "       edu_unknown  gender_female  gender_male  ...  \\\n",
       "0                0      19.757282    20.147059  ...   \n",
       "1                0      76.000000    35.000000  ...   \n",
       "2                0      22.363248    20.787276  ...   \n",
       "3                0      22.363248    20.787276  ...   \n",
       "4                0      90.000000    65.000000  ...   \n",
       "...            ...            ...          ...  ...   \n",
       "16828            0      14.853333    16.133333  ...   \n",
       "16829            0      14.853333    16.133333  ...   \n",
       "16830            0      14.853333    16.133333  ...   \n",
       "16831            0      14.853333    16.133333  ...   \n",
       "16832            0      11.000000    13.000000  ...   \n",
       "\n",
       "       top_category_employer3_54  top_category_employer3_55  \\\n",
       "0                              0                          0   \n",
       "1                              0                          0   \n",
       "2                              0                          0   \n",
       "3                              0                          0   \n",
       "4                              0                          0   \n",
       "...                          ...                        ...   \n",
       "16828                          0                          0   \n",
       "16829                          0                          0   \n",
       "16830                          0                          0   \n",
       "16831                          0                          0   \n",
       "16832                          0                          0   \n",
       "\n",
       "       top_category_employer3_56  top_category_employer3_61  \\\n",
       "0                              0                          0   \n",
       "1                              1                          0   \n",
       "2                              1                          0   \n",
       "3                              0                          0   \n",
       "4                              1                          0   \n",
       "...                          ...                        ...   \n",
       "16828                          0                          0   \n",
       "16829                          0                          0   \n",
       "16830                          0                          0   \n",
       "16831                          0                          0   \n",
       "16832                          0                          0   \n",
       "\n",
       "       top_category_employer3_62  top_category_employer3_71  \\\n",
       "0                              1                          0   \n",
       "1                              0                          0   \n",
       "2                              0                          0   \n",
       "3                              0                          0   \n",
       "4                              0                          0   \n",
       "...                          ...                        ...   \n",
       "16828                          0                          0   \n",
       "16829                          0                          0   \n",
       "16830                          0                          0   \n",
       "16831                          0                          0   \n",
       "16832                          0                          0   \n",
       "\n",
       "       top_category_employer3_72  top_category_employer3_81  \\\n",
       "0                              0                          0   \n",
       "1                              0                          0   \n",
       "2                              0                          0   \n",
       "3                              0                          0   \n",
       "4                              0                          0   \n",
       "...                          ...                        ...   \n",
       "16828                          0                          1   \n",
       "16829                          0                          0   \n",
       "16830                          0                          0   \n",
       "16831                          0                          0   \n",
       "16832                          0                          0   \n",
       "\n",
       "       top_category_employer3_92  top_category_employer3_99  \n",
       "0                              0                          0  \n",
       "1                              0                          0  \n",
       "2                              0                          0  \n",
       "3                              0                          0  \n",
       "4                              0                          0  \n",
       "...                          ...                        ...  \n",
       "16828                          0                          0  \n",
       "16829                          0                          0  \n",
       "16830                          0                          0  \n",
       "16831                          0                          0  \n",
       "16832                          0                          0  \n",
       "\n",
       "[16833 rows x 177 columns]"
      ]
     },
     "execution_count": 164,
     "metadata": {},
     "output_type": "execute_result"
    }
   ],
   "source": [
    "Y_test_final"
   ]
  },
  {
   "cell_type": "code",
   "execution_count": 165,
   "id": "e1859b7b",
   "metadata": {
    "execution": {
     "iopub.execute_input": "2023-05-10T01:33:31.562757Z",
     "iopub.status.busy": "2023-05-10T01:33:31.562647Z",
     "iopub.status.idle": "2023-05-10T01:33:31.576010Z",
     "shell.execute_reply": "2023-05-10T01:33:31.575458Z"
    }
   },
   "outputs": [],
   "source": [
    "Y_test_final = pred_data.merge(fin,how='left',on= 'uu_id')"
   ]
  },
  {
   "cell_type": "code",
   "execution_count": 166,
   "id": "04dd2faf",
   "metadata": {
    "execution": {
     "iopub.execute_input": "2023-05-10T01:33:31.578305Z",
     "iopub.status.busy": "2023-05-10T01:33:31.578154Z",
     "iopub.status.idle": "2023-05-10T01:33:31.587499Z",
     "shell.execute_reply": "2023-05-10T01:33:31.587232Z"
    }
   },
   "outputs": [
    {
     "data": {
      "text/html": [
       "<div>\n",
       "<style scoped>\n",
       "    .dataframe tbody tr th:only-of-type {\n",
       "        vertical-align: middle;\n",
       "    }\n",
       "\n",
       "    .dataframe tbody tr th {\n",
       "        vertical-align: top;\n",
       "    }\n",
       "\n",
       "    .dataframe thead th {\n",
       "        text-align: right;\n",
       "    }\n",
       "</style>\n",
       "<table border=\"1\" class=\"dataframe\">\n",
       "  <thead>\n",
       "    <tr style=\"text-align: right;\">\n",
       "      <th></th>\n",
       "      <th>uu_id</th>\n",
       "      <th>week_number</th>\n",
       "      <th>total_claims</th>\n",
       "      <th>edu_8th_or_less</th>\n",
       "      <th>edu_grades_9_11</th>\n",
       "      <th>edu_hs_grad_equiv</th>\n",
       "      <th>edu_post_hs</th>\n",
       "      <th>edu_unknown</th>\n",
       "      <th>gender_female</th>\n",
       "      <th>gender_male</th>\n",
       "      <th>...</th>\n",
       "      <th>top_category_employer3_54</th>\n",
       "      <th>top_category_employer3_55</th>\n",
       "      <th>top_category_employer3_56</th>\n",
       "      <th>top_category_employer3_61</th>\n",
       "      <th>top_category_employer3_62</th>\n",
       "      <th>top_category_employer3_71</th>\n",
       "      <th>top_category_employer3_72</th>\n",
       "      <th>top_category_employer3_81</th>\n",
       "      <th>top_category_employer3_92</th>\n",
       "      <th>top_category_employer3_99</th>\n",
       "    </tr>\n",
       "  </thead>\n",
       "  <tbody>\n",
       "    <tr>\n",
       "      <th>0</th>\n",
       "      <td>5bf51fc2e162d6faf9e3cf79e4198378</td>\n",
       "      <td>44</td>\n",
       "      <td>20</td>\n",
       "      <td>0</td>\n",
       "      <td>0</td>\n",
       "      <td>11</td>\n",
       "      <td>9.166667</td>\n",
       "      <td>0</td>\n",
       "      <td>17.416667</td>\n",
       "      <td>14.800000</td>\n",
       "      <td>...</td>\n",
       "      <td>0</td>\n",
       "      <td>0</td>\n",
       "      <td>0</td>\n",
       "      <td>0</td>\n",
       "      <td>0</td>\n",
       "      <td>0</td>\n",
       "      <td>0</td>\n",
       "      <td>0</td>\n",
       "      <td>0</td>\n",
       "      <td>0</td>\n",
       "    </tr>\n",
       "    <tr>\n",
       "      <th>1</th>\n",
       "      <td>5bf51fc2e162d6faf9e3cf79e4198378</td>\n",
       "      <td>44</td>\n",
       "      <td>11</td>\n",
       "      <td>0</td>\n",
       "      <td>0</td>\n",
       "      <td>13</td>\n",
       "      <td>9.166667</td>\n",
       "      <td>0</td>\n",
       "      <td>17.416667</td>\n",
       "      <td>14.800000</td>\n",
       "      <td>...</td>\n",
       "      <td>0</td>\n",
       "      <td>0</td>\n",
       "      <td>0</td>\n",
       "      <td>0</td>\n",
       "      <td>0</td>\n",
       "      <td>0</td>\n",
       "      <td>0</td>\n",
       "      <td>0</td>\n",
       "      <td>0</td>\n",
       "      <td>0</td>\n",
       "    </tr>\n",
       "    <tr>\n",
       "      <th>2</th>\n",
       "      <td>5bf51fc2e162d6faf9e3cf79e4198378</td>\n",
       "      <td>44</td>\n",
       "      <td>11</td>\n",
       "      <td>0</td>\n",
       "      <td>0</td>\n",
       "      <td>13</td>\n",
       "      <td>9.166667</td>\n",
       "      <td>0</td>\n",
       "      <td>17.416667</td>\n",
       "      <td>14.800000</td>\n",
       "      <td>...</td>\n",
       "      <td>0</td>\n",
       "      <td>0</td>\n",
       "      <td>0</td>\n",
       "      <td>0</td>\n",
       "      <td>0</td>\n",
       "      <td>0</td>\n",
       "      <td>0</td>\n",
       "      <td>0</td>\n",
       "      <td>0</td>\n",
       "      <td>0</td>\n",
       "    </tr>\n",
       "    <tr>\n",
       "      <th>3</th>\n",
       "      <td>5bf51fc2e162d6faf9e3cf79e4198378</td>\n",
       "      <td>44</td>\n",
       "      <td>20</td>\n",
       "      <td>0</td>\n",
       "      <td>0</td>\n",
       "      <td>13</td>\n",
       "      <td>9.166667</td>\n",
       "      <td>0</td>\n",
       "      <td>17.416667</td>\n",
       "      <td>14.800000</td>\n",
       "      <td>...</td>\n",
       "      <td>0</td>\n",
       "      <td>0</td>\n",
       "      <td>0</td>\n",
       "      <td>0</td>\n",
       "      <td>0</td>\n",
       "      <td>0</td>\n",
       "      <td>0</td>\n",
       "      <td>0</td>\n",
       "      <td>0</td>\n",
       "      <td>0</td>\n",
       "    </tr>\n",
       "    <tr>\n",
       "      <th>4</th>\n",
       "      <td>5bf51fc2e162d6faf9e3cf79e4198378</td>\n",
       "      <td>44</td>\n",
       "      <td>20</td>\n",
       "      <td>0</td>\n",
       "      <td>0</td>\n",
       "      <td>13</td>\n",
       "      <td>9.166667</td>\n",
       "      <td>0</td>\n",
       "      <td>17.416667</td>\n",
       "      <td>14.800000</td>\n",
       "      <td>...</td>\n",
       "      <td>0</td>\n",
       "      <td>0</td>\n",
       "      <td>0</td>\n",
       "      <td>0</td>\n",
       "      <td>0</td>\n",
       "      <td>0</td>\n",
       "      <td>0</td>\n",
       "      <td>0</td>\n",
       "      <td>0</td>\n",
       "      <td>0</td>\n",
       "    </tr>\n",
       "    <tr>\n",
       "      <th>...</th>\n",
       "      <td>...</td>\n",
       "      <td>...</td>\n",
       "      <td>...</td>\n",
       "      <td>...</td>\n",
       "      <td>...</td>\n",
       "      <td>...</td>\n",
       "      <td>...</td>\n",
       "      <td>...</td>\n",
       "      <td>...</td>\n",
       "      <td>...</td>\n",
       "      <td>...</td>\n",
       "      <td>...</td>\n",
       "      <td>...</td>\n",
       "      <td>...</td>\n",
       "      <td>...</td>\n",
       "      <td>...</td>\n",
       "      <td>...</td>\n",
       "      <td>...</td>\n",
       "      <td>...</td>\n",
       "      <td>...</td>\n",
       "      <td>...</td>\n",
       "    </tr>\n",
       "    <tr>\n",
       "      <th>16828</th>\n",
       "      <td>932a58530abff8a48558e2a15639d453</td>\n",
       "      <td>44</td>\n",
       "      <td>17</td>\n",
       "      <td>0</td>\n",
       "      <td>0</td>\n",
       "      <td>17</td>\n",
       "      <td>0.000000</td>\n",
       "      <td>0</td>\n",
       "      <td>17.859649</td>\n",
       "      <td>17.985075</td>\n",
       "      <td>...</td>\n",
       "      <td>0</td>\n",
       "      <td>0</td>\n",
       "      <td>0</td>\n",
       "      <td>0</td>\n",
       "      <td>0</td>\n",
       "      <td>0</td>\n",
       "      <td>0</td>\n",
       "      <td>1</td>\n",
       "      <td>0</td>\n",
       "      <td>0</td>\n",
       "    </tr>\n",
       "    <tr>\n",
       "      <th>16829</th>\n",
       "      <td>932a58530abff8a48558e2a15639d453</td>\n",
       "      <td>44</td>\n",
       "      <td>11</td>\n",
       "      <td>0</td>\n",
       "      <td>0</td>\n",
       "      <td>17</td>\n",
       "      <td>14.539683</td>\n",
       "      <td>0</td>\n",
       "      <td>17.859649</td>\n",
       "      <td>17.985075</td>\n",
       "      <td>...</td>\n",
       "      <td>0</td>\n",
       "      <td>0</td>\n",
       "      <td>0</td>\n",
       "      <td>0</td>\n",
       "      <td>0</td>\n",
       "      <td>0</td>\n",
       "      <td>0</td>\n",
       "      <td>1</td>\n",
       "      <td>0</td>\n",
       "      <td>0</td>\n",
       "    </tr>\n",
       "    <tr>\n",
       "      <th>16830</th>\n",
       "      <td>932a58530abff8a48558e2a15639d453</td>\n",
       "      <td>44</td>\n",
       "      <td>25</td>\n",
       "      <td>0</td>\n",
       "      <td>15</td>\n",
       "      <td>10</td>\n",
       "      <td>0.000000</td>\n",
       "      <td>0</td>\n",
       "      <td>17.859649</td>\n",
       "      <td>17.985075</td>\n",
       "      <td>...</td>\n",
       "      <td>0</td>\n",
       "      <td>0</td>\n",
       "      <td>0</td>\n",
       "      <td>0</td>\n",
       "      <td>0</td>\n",
       "      <td>0</td>\n",
       "      <td>0</td>\n",
       "      <td>1</td>\n",
       "      <td>0</td>\n",
       "      <td>0</td>\n",
       "    </tr>\n",
       "    <tr>\n",
       "      <th>16831</th>\n",
       "      <td>932a58530abff8a48558e2a15639d453</td>\n",
       "      <td>44</td>\n",
       "      <td>13</td>\n",
       "      <td>0</td>\n",
       "      <td>0</td>\n",
       "      <td>17</td>\n",
       "      <td>14.539683</td>\n",
       "      <td>0</td>\n",
       "      <td>17.859649</td>\n",
       "      <td>17.985075</td>\n",
       "      <td>...</td>\n",
       "      <td>0</td>\n",
       "      <td>0</td>\n",
       "      <td>0</td>\n",
       "      <td>0</td>\n",
       "      <td>0</td>\n",
       "      <td>1</td>\n",
       "      <td>0</td>\n",
       "      <td>0</td>\n",
       "      <td>0</td>\n",
       "      <td>0</td>\n",
       "    </tr>\n",
       "    <tr>\n",
       "      <th>16832</th>\n",
       "      <td>932a58530abff8a48558e2a15639d453</td>\n",
       "      <td>44</td>\n",
       "      <td>30</td>\n",
       "      <td>0</td>\n",
       "      <td>0</td>\n",
       "      <td>14</td>\n",
       "      <td>16.000000</td>\n",
       "      <td>0</td>\n",
       "      <td>12.000000</td>\n",
       "      <td>18.000000</td>\n",
       "      <td>...</td>\n",
       "      <td>0</td>\n",
       "      <td>0</td>\n",
       "      <td>1</td>\n",
       "      <td>0</td>\n",
       "      <td>0</td>\n",
       "      <td>0</td>\n",
       "      <td>0</td>\n",
       "      <td>0</td>\n",
       "      <td>0</td>\n",
       "      <td>0</td>\n",
       "    </tr>\n",
       "  </tbody>\n",
       "</table>\n",
       "<p>16833 rows × 177 columns</p>\n",
       "</div>"
      ],
      "text/plain": [
       "                                  uu_id  week_number  total_claims  \\\n",
       "0      5bf51fc2e162d6faf9e3cf79e4198378           44            20   \n",
       "1      5bf51fc2e162d6faf9e3cf79e4198378           44            11   \n",
       "2      5bf51fc2e162d6faf9e3cf79e4198378           44            11   \n",
       "3      5bf51fc2e162d6faf9e3cf79e4198378           44            20   \n",
       "4      5bf51fc2e162d6faf9e3cf79e4198378           44            20   \n",
       "...                                 ...          ...           ...   \n",
       "16828  932a58530abff8a48558e2a15639d453           44            17   \n",
       "16829  932a58530abff8a48558e2a15639d453           44            11   \n",
       "16830  932a58530abff8a48558e2a15639d453           44            25   \n",
       "16831  932a58530abff8a48558e2a15639d453           44            13   \n",
       "16832  932a58530abff8a48558e2a15639d453           44            30   \n",
       "\n",
       "       edu_8th_or_less  edu_grades_9_11  edu_hs_grad_equiv  edu_post_hs  \\\n",
       "0                    0                0                 11     9.166667   \n",
       "1                    0                0                 13     9.166667   \n",
       "2                    0                0                 13     9.166667   \n",
       "3                    0                0                 13     9.166667   \n",
       "4                    0                0                 13     9.166667   \n",
       "...                ...              ...                ...          ...   \n",
       "16828                0                0                 17     0.000000   \n",
       "16829                0                0                 17    14.539683   \n",
       "16830                0               15                 10     0.000000   \n",
       "16831                0                0                 17    14.539683   \n",
       "16832                0                0                 14    16.000000   \n",
       "\n",
       "       edu_unknown  gender_female  gender_male  ...  \\\n",
       "0                0      17.416667    14.800000  ...   \n",
       "1                0      17.416667    14.800000  ...   \n",
       "2                0      17.416667    14.800000  ...   \n",
       "3                0      17.416667    14.800000  ...   \n",
       "4                0      17.416667    14.800000  ...   \n",
       "...            ...            ...          ...  ...   \n",
       "16828            0      17.859649    17.985075  ...   \n",
       "16829            0      17.859649    17.985075  ...   \n",
       "16830            0      17.859649    17.985075  ...   \n",
       "16831            0      17.859649    17.985075  ...   \n",
       "16832            0      12.000000    18.000000  ...   \n",
       "\n",
       "       top_category_employer3_54  top_category_employer3_55  \\\n",
       "0                              0                          0   \n",
       "1                              0                          0   \n",
       "2                              0                          0   \n",
       "3                              0                          0   \n",
       "4                              0                          0   \n",
       "...                          ...                        ...   \n",
       "16828                          0                          0   \n",
       "16829                          0                          0   \n",
       "16830                          0                          0   \n",
       "16831                          0                          0   \n",
       "16832                          0                          0   \n",
       "\n",
       "       top_category_employer3_56  top_category_employer3_61  \\\n",
       "0                              0                          0   \n",
       "1                              0                          0   \n",
       "2                              0                          0   \n",
       "3                              0                          0   \n",
       "4                              0                          0   \n",
       "...                          ...                        ...   \n",
       "16828                          0                          0   \n",
       "16829                          0                          0   \n",
       "16830                          0                          0   \n",
       "16831                          0                          0   \n",
       "16832                          1                          0   \n",
       "\n",
       "       top_category_employer3_62  top_category_employer3_71  \\\n",
       "0                              0                          0   \n",
       "1                              0                          0   \n",
       "2                              0                          0   \n",
       "3                              0                          0   \n",
       "4                              0                          0   \n",
       "...                          ...                        ...   \n",
       "16828                          0                          0   \n",
       "16829                          0                          0   \n",
       "16830                          0                          0   \n",
       "16831                          0                          1   \n",
       "16832                          0                          0   \n",
       "\n",
       "       top_category_employer3_72  top_category_employer3_81  \\\n",
       "0                              0                          0   \n",
       "1                              0                          0   \n",
       "2                              0                          0   \n",
       "3                              0                          0   \n",
       "4                              0                          0   \n",
       "...                          ...                        ...   \n",
       "16828                          0                          1   \n",
       "16829                          0                          1   \n",
       "16830                          0                          1   \n",
       "16831                          0                          0   \n",
       "16832                          0                          0   \n",
       "\n",
       "       top_category_employer3_92  top_category_employer3_99  \n",
       "0                              0                          0  \n",
       "1                              0                          0  \n",
       "2                              0                          0  \n",
       "3                              0                          0  \n",
       "4                              0                          0  \n",
       "...                          ...                        ...  \n",
       "16828                          0                          0  \n",
       "16829                          0                          0  \n",
       "16830                          0                          0  \n",
       "16831                          0                          0  \n",
       "16832                          0                          0  \n",
       "\n",
       "[16833 rows x 177 columns]"
      ]
     },
     "execution_count": 166,
     "metadata": {},
     "output_type": "execute_result"
    }
   ],
   "source": [
    "Y_test_final"
   ]
  },
  {
   "cell_type": "code",
   "execution_count": 167,
   "id": "ace238ea",
   "metadata": {
    "execution": {
     "iopub.execute_input": "2023-05-10T01:33:31.589041Z",
     "iopub.status.busy": "2023-05-10T01:33:31.588953Z",
     "iopub.status.idle": "2023-05-10T01:33:31.591156Z",
     "shell.execute_reply": "2023-05-10T01:33:31.590856Z"
    }
   },
   "outputs": [
    {
     "ename": "SyntaxError",
     "evalue": "invalid syntax (953381775.py, line 1)",
     "output_type": "error",
     "traceback": [
      "\u001b[0;36m  Cell \u001b[0;32mIn [167], line 1\u001b[0;36m\u001b[0m\n\u001b[0;31m    df_test = fin[fin.uu_id == i for i in pred_data['uu_id']]\u001b[0m\n\u001b[0m                                 ^\u001b[0m\n\u001b[0;31mSyntaxError\u001b[0m\u001b[0;31m:\u001b[0m invalid syntax\n"
     ]
    }
   ],
   "source": [
    "df_test = fin[fin.uu_id == i for i in pred_data['uu_id']]\n",
    "df_test"
   ]
  },
  {
   "cell_type": "code",
   "execution_count": 168,
   "id": "e5192ef5",
   "metadata": {
    "execution": {
     "iopub.execute_input": "2023-05-10T01:33:31.593095Z",
     "iopub.status.busy": "2023-05-10T01:33:31.592947Z",
     "iopub.status.idle": "2023-05-10T01:33:31.696498Z",
     "shell.execute_reply": "2023-05-10T01:33:31.696162Z"
    }
   },
   "outputs": [
    {
     "ename": "ValueError",
     "evalue": "columns overlap but no suffix specified: Index(['uu_id'], dtype='object')",
     "output_type": "error",
     "traceback": [
      "\u001b[0;31m---------------------------------------------------------------------------\u001b[0m",
      "\u001b[0;31mValueError\u001b[0m                                Traceback (most recent call last)",
      "Cell \u001b[0;32mIn [168], line 1\u001b[0m\n\u001b[0;32m----> 1\u001b[0m Y_test_final \u001b[38;5;241m=\u001b[39m \u001b[43mpred_data\u001b[49m\u001b[38;5;241;43m.\u001b[39;49m\u001b[43mjoin\u001b[49m\u001b[43m(\u001b[49m\u001b[43mfin\u001b[49m\u001b[43m)\u001b[49m\n",
      "File \u001b[0;32m/opt/homebrew/lib/python3.9/site-packages/pandas/core/frame.py:9966\u001b[0m, in \u001b[0;36mDataFrame.join\u001b[0;34m(self, other, on, how, lsuffix, rsuffix, sort, validate)\u001b[0m\n\u001b[1;32m   9803\u001b[0m \u001b[38;5;28;01mdef\u001b[39;00m \u001b[38;5;21mjoin\u001b[39m(\n\u001b[1;32m   9804\u001b[0m     \u001b[38;5;28mself\u001b[39m,\n\u001b[1;32m   9805\u001b[0m     other: DataFrame \u001b[38;5;241m|\u001b[39m Series \u001b[38;5;241m|\u001b[39m \u001b[38;5;28mlist\u001b[39m[DataFrame \u001b[38;5;241m|\u001b[39m Series],\n\u001b[0;32m   (...)\u001b[0m\n\u001b[1;32m   9811\u001b[0m     validate: \u001b[38;5;28mstr\u001b[39m \u001b[38;5;241m|\u001b[39m \u001b[38;5;28;01mNone\u001b[39;00m \u001b[38;5;241m=\u001b[39m \u001b[38;5;28;01mNone\u001b[39;00m,\n\u001b[1;32m   9812\u001b[0m ) \u001b[38;5;241m-\u001b[39m\u001b[38;5;241m>\u001b[39m DataFrame:\n\u001b[1;32m   9813\u001b[0m     \u001b[38;5;124;03m\"\"\"\u001b[39;00m\n\u001b[1;32m   9814\u001b[0m \u001b[38;5;124;03m    Join columns of another DataFrame.\u001b[39;00m\n\u001b[1;32m   9815\u001b[0m \n\u001b[0;32m   (...)\u001b[0m\n\u001b[1;32m   9964\u001b[0m \u001b[38;5;124;03m    5  K1  A5   B1\u001b[39;00m\n\u001b[1;32m   9965\u001b[0m \u001b[38;5;124;03m    \"\"\"\u001b[39;00m\n\u001b[0;32m-> 9966\u001b[0m     \u001b[38;5;28;01mreturn\u001b[39;00m \u001b[38;5;28;43mself\u001b[39;49m\u001b[38;5;241;43m.\u001b[39;49m\u001b[43m_join_compat\u001b[49m\u001b[43m(\u001b[49m\n\u001b[1;32m   9967\u001b[0m \u001b[43m        \u001b[49m\u001b[43mother\u001b[49m\u001b[43m,\u001b[49m\n\u001b[1;32m   9968\u001b[0m \u001b[43m        \u001b[49m\u001b[43mon\u001b[49m\u001b[38;5;241;43m=\u001b[39;49m\u001b[43mon\u001b[49m\u001b[43m,\u001b[49m\n\u001b[1;32m   9969\u001b[0m \u001b[43m        \u001b[49m\u001b[43mhow\u001b[49m\u001b[38;5;241;43m=\u001b[39;49m\u001b[43mhow\u001b[49m\u001b[43m,\u001b[49m\n\u001b[1;32m   9970\u001b[0m \u001b[43m        \u001b[49m\u001b[43mlsuffix\u001b[49m\u001b[38;5;241;43m=\u001b[39;49m\u001b[43mlsuffix\u001b[49m\u001b[43m,\u001b[49m\n\u001b[1;32m   9971\u001b[0m \u001b[43m        \u001b[49m\u001b[43mrsuffix\u001b[49m\u001b[38;5;241;43m=\u001b[39;49m\u001b[43mrsuffix\u001b[49m\u001b[43m,\u001b[49m\n\u001b[1;32m   9972\u001b[0m \u001b[43m        \u001b[49m\u001b[43msort\u001b[49m\u001b[38;5;241;43m=\u001b[39;49m\u001b[43msort\u001b[49m\u001b[43m,\u001b[49m\n\u001b[1;32m   9973\u001b[0m \u001b[43m        \u001b[49m\u001b[43mvalidate\u001b[49m\u001b[38;5;241;43m=\u001b[39;49m\u001b[43mvalidate\u001b[49m\u001b[43m,\u001b[49m\n\u001b[1;32m   9974\u001b[0m \u001b[43m    \u001b[49m\u001b[43m)\u001b[49m\n",
      "File \u001b[0;32m/opt/homebrew/lib/python3.9/site-packages/pandas/core/frame.py:10005\u001b[0m, in \u001b[0;36mDataFrame._join_compat\u001b[0;34m(self, other, on, how, lsuffix, rsuffix, sort, validate)\u001b[0m\n\u001b[1;32m   9995\u001b[0m     \u001b[38;5;28;01mif\u001b[39;00m how \u001b[38;5;241m==\u001b[39m \u001b[38;5;124m\"\u001b[39m\u001b[38;5;124mcross\u001b[39m\u001b[38;5;124m\"\u001b[39m:\n\u001b[1;32m   9996\u001b[0m         \u001b[38;5;28;01mreturn\u001b[39;00m merge(\n\u001b[1;32m   9997\u001b[0m             \u001b[38;5;28mself\u001b[39m,\n\u001b[1;32m   9998\u001b[0m             other,\n\u001b[0;32m   (...)\u001b[0m\n\u001b[1;32m  10003\u001b[0m             validate\u001b[38;5;241m=\u001b[39mvalidate,\n\u001b[1;32m  10004\u001b[0m         )\n\u001b[0;32m> 10005\u001b[0m     \u001b[38;5;28;01mreturn\u001b[39;00m \u001b[43mmerge\u001b[49m\u001b[43m(\u001b[49m\n\u001b[1;32m  10006\u001b[0m \u001b[43m        \u001b[49m\u001b[38;5;28;43mself\u001b[39;49m\u001b[43m,\u001b[49m\n\u001b[1;32m  10007\u001b[0m \u001b[43m        \u001b[49m\u001b[43mother\u001b[49m\u001b[43m,\u001b[49m\n\u001b[1;32m  10008\u001b[0m \u001b[43m        \u001b[49m\u001b[43mleft_on\u001b[49m\u001b[38;5;241;43m=\u001b[39;49m\u001b[43mon\u001b[49m\u001b[43m,\u001b[49m\n\u001b[1;32m  10009\u001b[0m \u001b[43m        \u001b[49m\u001b[43mhow\u001b[49m\u001b[38;5;241;43m=\u001b[39;49m\u001b[43mhow\u001b[49m\u001b[43m,\u001b[49m\n\u001b[1;32m  10010\u001b[0m \u001b[43m        \u001b[49m\u001b[43mleft_index\u001b[49m\u001b[38;5;241;43m=\u001b[39;49m\u001b[43mon\u001b[49m\u001b[43m \u001b[49m\u001b[38;5;129;43;01mis\u001b[39;49;00m\u001b[43m \u001b[49m\u001b[38;5;28;43;01mNone\u001b[39;49;00m\u001b[43m,\u001b[49m\n\u001b[1;32m  10011\u001b[0m \u001b[43m        \u001b[49m\u001b[43mright_index\u001b[49m\u001b[38;5;241;43m=\u001b[39;49m\u001b[38;5;28;43;01mTrue\u001b[39;49;00m\u001b[43m,\u001b[49m\n\u001b[1;32m  10012\u001b[0m \u001b[43m        \u001b[49m\u001b[43msuffixes\u001b[49m\u001b[38;5;241;43m=\u001b[39;49m\u001b[43m(\u001b[49m\u001b[43mlsuffix\u001b[49m\u001b[43m,\u001b[49m\u001b[43m \u001b[49m\u001b[43mrsuffix\u001b[49m\u001b[43m)\u001b[49m\u001b[43m,\u001b[49m\n\u001b[1;32m  10013\u001b[0m \u001b[43m        \u001b[49m\u001b[43msort\u001b[49m\u001b[38;5;241;43m=\u001b[39;49m\u001b[43msort\u001b[49m\u001b[43m,\u001b[49m\n\u001b[1;32m  10014\u001b[0m \u001b[43m        \u001b[49m\u001b[43mvalidate\u001b[49m\u001b[38;5;241;43m=\u001b[39;49m\u001b[43mvalidate\u001b[49m\u001b[43m,\u001b[49m\n\u001b[1;32m  10015\u001b[0m \u001b[43m    \u001b[49m\u001b[43m)\u001b[49m\n\u001b[1;32m  10016\u001b[0m \u001b[38;5;28;01melse\u001b[39;00m:\n\u001b[1;32m  10017\u001b[0m     \u001b[38;5;28;01mif\u001b[39;00m on \u001b[38;5;129;01mis\u001b[39;00m \u001b[38;5;129;01mnot\u001b[39;00m \u001b[38;5;28;01mNone\u001b[39;00m:\n",
      "File \u001b[0;32m/opt/homebrew/lib/python3.9/site-packages/pandas/core/reshape/merge.py:124\u001b[0m, in \u001b[0;36mmerge\u001b[0;34m(left, right, how, on, left_on, right_on, left_index, right_index, sort, suffixes, copy, indicator, validate)\u001b[0m\n\u001b[1;32m     93\u001b[0m \u001b[38;5;129m@Substitution\u001b[39m(\u001b[38;5;124m\"\u001b[39m\u001b[38;5;130;01m\\n\u001b[39;00m\u001b[38;5;124mleft : DataFrame or named Series\u001b[39m\u001b[38;5;124m\"\u001b[39m)\n\u001b[1;32m     94\u001b[0m \u001b[38;5;129m@Appender\u001b[39m(_merge_doc, indents\u001b[38;5;241m=\u001b[39m\u001b[38;5;241m0\u001b[39m)\n\u001b[1;32m     95\u001b[0m \u001b[38;5;28;01mdef\u001b[39;00m \u001b[38;5;21mmerge\u001b[39m(\n\u001b[0;32m   (...)\u001b[0m\n\u001b[1;32m    108\u001b[0m     validate: \u001b[38;5;28mstr\u001b[39m \u001b[38;5;241m|\u001b[39m \u001b[38;5;28;01mNone\u001b[39;00m \u001b[38;5;241m=\u001b[39m \u001b[38;5;28;01mNone\u001b[39;00m,\n\u001b[1;32m    109\u001b[0m ) \u001b[38;5;241m-\u001b[39m\u001b[38;5;241m>\u001b[39m DataFrame:\n\u001b[1;32m    110\u001b[0m     op \u001b[38;5;241m=\u001b[39m _MergeOperation(\n\u001b[1;32m    111\u001b[0m         left,\n\u001b[1;32m    112\u001b[0m         right,\n\u001b[0;32m   (...)\u001b[0m\n\u001b[1;32m    122\u001b[0m         validate\u001b[38;5;241m=\u001b[39mvalidate,\n\u001b[1;32m    123\u001b[0m     )\n\u001b[0;32m--> 124\u001b[0m     \u001b[38;5;28;01mreturn\u001b[39;00m \u001b[43mop\u001b[49m\u001b[38;5;241;43m.\u001b[39;49m\u001b[43mget_result\u001b[49m\u001b[43m(\u001b[49m\u001b[43mcopy\u001b[49m\u001b[38;5;241;43m=\u001b[39;49m\u001b[43mcopy\u001b[49m\u001b[43m)\u001b[49m\n",
      "File \u001b[0;32m/opt/homebrew/lib/python3.9/site-packages/pandas/core/reshape/merge.py:775\u001b[0m, in \u001b[0;36m_MergeOperation.get_result\u001b[0;34m(self, copy)\u001b[0m\n\u001b[1;32m    771\u001b[0m     \u001b[38;5;28mself\u001b[39m\u001b[38;5;241m.\u001b[39mleft, \u001b[38;5;28mself\u001b[39m\u001b[38;5;241m.\u001b[39mright \u001b[38;5;241m=\u001b[39m \u001b[38;5;28mself\u001b[39m\u001b[38;5;241m.\u001b[39m_indicator_pre_merge(\u001b[38;5;28mself\u001b[39m\u001b[38;5;241m.\u001b[39mleft, \u001b[38;5;28mself\u001b[39m\u001b[38;5;241m.\u001b[39mright)\n\u001b[1;32m    773\u001b[0m join_index, left_indexer, right_indexer \u001b[38;5;241m=\u001b[39m \u001b[38;5;28mself\u001b[39m\u001b[38;5;241m.\u001b[39m_get_join_info()\n\u001b[0;32m--> 775\u001b[0m result \u001b[38;5;241m=\u001b[39m \u001b[38;5;28;43mself\u001b[39;49m\u001b[38;5;241;43m.\u001b[39;49m\u001b[43m_reindex_and_concat\u001b[49m\u001b[43m(\u001b[49m\n\u001b[1;32m    776\u001b[0m \u001b[43m    \u001b[49m\u001b[43mjoin_index\u001b[49m\u001b[43m,\u001b[49m\u001b[43m \u001b[49m\u001b[43mleft_indexer\u001b[49m\u001b[43m,\u001b[49m\u001b[43m \u001b[49m\u001b[43mright_indexer\u001b[49m\u001b[43m,\u001b[49m\u001b[43m \u001b[49m\u001b[43mcopy\u001b[49m\u001b[38;5;241;43m=\u001b[39;49m\u001b[43mcopy\u001b[49m\n\u001b[1;32m    777\u001b[0m \u001b[43m\u001b[49m\u001b[43m)\u001b[49m\n\u001b[1;32m    778\u001b[0m result \u001b[38;5;241m=\u001b[39m result\u001b[38;5;241m.\u001b[39m__finalize__(\u001b[38;5;28mself\u001b[39m, method\u001b[38;5;241m=\u001b[39m\u001b[38;5;28mself\u001b[39m\u001b[38;5;241m.\u001b[39m_merge_type)\n\u001b[1;32m    780\u001b[0m \u001b[38;5;28;01mif\u001b[39;00m \u001b[38;5;28mself\u001b[39m\u001b[38;5;241m.\u001b[39mindicator:\n",
      "File \u001b[0;32m/opt/homebrew/lib/python3.9/site-packages/pandas/core/reshape/merge.py:729\u001b[0m, in \u001b[0;36m_MergeOperation._reindex_and_concat\u001b[0;34m(self, join_index, left_indexer, right_indexer, copy)\u001b[0m\n\u001b[1;32m    726\u001b[0m left \u001b[38;5;241m=\u001b[39m \u001b[38;5;28mself\u001b[39m\u001b[38;5;241m.\u001b[39mleft[:]\n\u001b[1;32m    727\u001b[0m right \u001b[38;5;241m=\u001b[39m \u001b[38;5;28mself\u001b[39m\u001b[38;5;241m.\u001b[39mright[:]\n\u001b[0;32m--> 729\u001b[0m llabels, rlabels \u001b[38;5;241m=\u001b[39m \u001b[43m_items_overlap_with_suffix\u001b[49m\u001b[43m(\u001b[49m\n\u001b[1;32m    730\u001b[0m \u001b[43m    \u001b[49m\u001b[38;5;28;43mself\u001b[39;49m\u001b[38;5;241;43m.\u001b[39;49m\u001b[43mleft\u001b[49m\u001b[38;5;241;43m.\u001b[39;49m\u001b[43m_info_axis\u001b[49m\u001b[43m,\u001b[49m\u001b[43m \u001b[49m\u001b[38;5;28;43mself\u001b[39;49m\u001b[38;5;241;43m.\u001b[39;49m\u001b[43mright\u001b[49m\u001b[38;5;241;43m.\u001b[39;49m\u001b[43m_info_axis\u001b[49m\u001b[43m,\u001b[49m\u001b[43m \u001b[49m\u001b[38;5;28;43mself\u001b[39;49m\u001b[38;5;241;43m.\u001b[39;49m\u001b[43msuffixes\u001b[49m\n\u001b[1;32m    731\u001b[0m \u001b[43m\u001b[49m\u001b[43m)\u001b[49m\n\u001b[1;32m    733\u001b[0m \u001b[38;5;28;01mif\u001b[39;00m left_indexer \u001b[38;5;129;01mis\u001b[39;00m \u001b[38;5;129;01mnot\u001b[39;00m \u001b[38;5;28;01mNone\u001b[39;00m:\n\u001b[1;32m    734\u001b[0m     \u001b[38;5;66;03m# Pinning the index here (and in the right code just below) is not\u001b[39;00m\n\u001b[1;32m    735\u001b[0m     \u001b[38;5;66;03m#  necessary, but makes the `.take` more performant if we have e.g.\u001b[39;00m\n\u001b[1;32m    736\u001b[0m     \u001b[38;5;66;03m#  a MultiIndex for left.index.\u001b[39;00m\n\u001b[1;32m    737\u001b[0m     lmgr \u001b[38;5;241m=\u001b[39m left\u001b[38;5;241m.\u001b[39m_mgr\u001b[38;5;241m.\u001b[39mreindex_indexer(\n\u001b[1;32m    738\u001b[0m         join_index,\n\u001b[1;32m    739\u001b[0m         left_indexer,\n\u001b[0;32m   (...)\u001b[0m\n\u001b[1;32m    744\u001b[0m         use_na_proxy\u001b[38;5;241m=\u001b[39m\u001b[38;5;28;01mTrue\u001b[39;00m,\n\u001b[1;32m    745\u001b[0m     )\n",
      "File \u001b[0;32m/opt/homebrew/lib/python3.9/site-packages/pandas/core/reshape/merge.py:2458\u001b[0m, in \u001b[0;36m_items_overlap_with_suffix\u001b[0;34m(left, right, suffixes)\u001b[0m\n\u001b[1;32m   2455\u001b[0m lsuffix, rsuffix \u001b[38;5;241m=\u001b[39m suffixes\n\u001b[1;32m   2457\u001b[0m \u001b[38;5;28;01mif\u001b[39;00m \u001b[38;5;129;01mnot\u001b[39;00m lsuffix \u001b[38;5;129;01mand\u001b[39;00m \u001b[38;5;129;01mnot\u001b[39;00m rsuffix:\n\u001b[0;32m-> 2458\u001b[0m     \u001b[38;5;28;01mraise\u001b[39;00m \u001b[38;5;167;01mValueError\u001b[39;00m(\u001b[38;5;124mf\u001b[39m\u001b[38;5;124m\"\u001b[39m\u001b[38;5;124mcolumns overlap but no suffix specified: \u001b[39m\u001b[38;5;132;01m{\u001b[39;00mto_rename\u001b[38;5;132;01m}\u001b[39;00m\u001b[38;5;124m\"\u001b[39m)\n\u001b[1;32m   2460\u001b[0m \u001b[38;5;28;01mdef\u001b[39;00m \u001b[38;5;21mrenamer\u001b[39m(x, suffix):\n\u001b[1;32m   2461\u001b[0m     \u001b[38;5;124;03m\"\"\"\u001b[39;00m\n\u001b[1;32m   2462\u001b[0m \u001b[38;5;124;03m    Rename the left and right indices.\u001b[39;00m\n\u001b[1;32m   2463\u001b[0m \n\u001b[0;32m   (...)\u001b[0m\n\u001b[1;32m   2474\u001b[0m \u001b[38;5;124;03m    x : renamed column name\u001b[39;00m\n\u001b[1;32m   2475\u001b[0m \u001b[38;5;124;03m    \"\"\"\u001b[39;00m\n",
      "\u001b[0;31mValueError\u001b[0m: columns overlap but no suffix specified: Index(['uu_id'], dtype='object')"
     ]
    }
   ],
   "source": [
    "Y_test_final = pred_data.join(fin)"
   ]
  },
  {
   "cell_type": "code",
   "execution_count": 169,
   "id": "7fe2343e",
   "metadata": {
    "execution": {
     "iopub.execute_input": "2023-05-10T01:33:31.698132Z",
     "iopub.status.busy": "2023-05-10T01:33:31.698018Z",
     "iopub.status.idle": "2023-05-10T01:33:31.700941Z",
     "shell.execute_reply": "2023-05-10T01:33:31.700690Z"
    }
   },
   "outputs": [],
   "source": [
    "final_data1 = final_data.drop(['timeperiod','tract_x','tract_name_x','tract_y','tract_name_y','countyfips_y'],axis=1)"
   ]
  },
  {
   "cell_type": "code",
   "execution_count": 170,
   "id": "d969043b",
   "metadata": {
    "execution": {
     "iopub.execute_input": "2023-05-10T01:33:31.702404Z",
     "iopub.status.busy": "2023-05-10T01:33:31.702298Z",
     "iopub.status.idle": "2023-05-10T01:33:31.713843Z",
     "shell.execute_reply": "2023-05-10T01:33:31.713535Z"
    }
   },
   "outputs": [],
   "source": [
    "fin = pd.get_dummies(final_data1,columns = ['week_number','countyfips_x','top_category_employer1','top_category_employer2','top_category_employer3'])"
   ]
  },
  {
   "cell_type": "code",
   "execution_count": 171,
   "id": "8fc12be2",
   "metadata": {
    "execution": {
     "iopub.execute_input": "2023-05-10T01:33:31.715519Z",
     "iopub.status.busy": "2023-05-10T01:33:31.715435Z",
     "iopub.status.idle": "2023-05-10T01:33:31.746989Z",
     "shell.execute_reply": "2023-05-10T01:33:31.746673Z"
    }
   },
   "outputs": [
    {
     "ename": "ValueError",
     "evalue": "columns overlap but no suffix specified: Index(['uu_id'], dtype='object')",
     "output_type": "error",
     "traceback": [
      "\u001b[0;31m---------------------------------------------------------------------------\u001b[0m",
      "\u001b[0;31mValueError\u001b[0m                                Traceback (most recent call last)",
      "Cell \u001b[0;32mIn [171], line 1\u001b[0m\n\u001b[0;32m----> 1\u001b[0m Y_test_final \u001b[38;5;241m=\u001b[39m \u001b[43mpred_data\u001b[49m\u001b[38;5;241;43m.\u001b[39;49m\u001b[43mjoin\u001b[49m\u001b[43m(\u001b[49m\u001b[43mfin\u001b[49m\u001b[43m)\u001b[49m\n",
      "File \u001b[0;32m/opt/homebrew/lib/python3.9/site-packages/pandas/core/frame.py:9966\u001b[0m, in \u001b[0;36mDataFrame.join\u001b[0;34m(self, other, on, how, lsuffix, rsuffix, sort, validate)\u001b[0m\n\u001b[1;32m   9803\u001b[0m \u001b[38;5;28;01mdef\u001b[39;00m \u001b[38;5;21mjoin\u001b[39m(\n\u001b[1;32m   9804\u001b[0m     \u001b[38;5;28mself\u001b[39m,\n\u001b[1;32m   9805\u001b[0m     other: DataFrame \u001b[38;5;241m|\u001b[39m Series \u001b[38;5;241m|\u001b[39m \u001b[38;5;28mlist\u001b[39m[DataFrame \u001b[38;5;241m|\u001b[39m Series],\n\u001b[0;32m   (...)\u001b[0m\n\u001b[1;32m   9811\u001b[0m     validate: \u001b[38;5;28mstr\u001b[39m \u001b[38;5;241m|\u001b[39m \u001b[38;5;28;01mNone\u001b[39;00m \u001b[38;5;241m=\u001b[39m \u001b[38;5;28;01mNone\u001b[39;00m,\n\u001b[1;32m   9812\u001b[0m ) \u001b[38;5;241m-\u001b[39m\u001b[38;5;241m>\u001b[39m DataFrame:\n\u001b[1;32m   9813\u001b[0m     \u001b[38;5;124;03m\"\"\"\u001b[39;00m\n\u001b[1;32m   9814\u001b[0m \u001b[38;5;124;03m    Join columns of another DataFrame.\u001b[39;00m\n\u001b[1;32m   9815\u001b[0m \n\u001b[0;32m   (...)\u001b[0m\n\u001b[1;32m   9964\u001b[0m \u001b[38;5;124;03m    5  K1  A5   B1\u001b[39;00m\n\u001b[1;32m   9965\u001b[0m \u001b[38;5;124;03m    \"\"\"\u001b[39;00m\n\u001b[0;32m-> 9966\u001b[0m     \u001b[38;5;28;01mreturn\u001b[39;00m \u001b[38;5;28;43mself\u001b[39;49m\u001b[38;5;241;43m.\u001b[39;49m\u001b[43m_join_compat\u001b[49m\u001b[43m(\u001b[49m\n\u001b[1;32m   9967\u001b[0m \u001b[43m        \u001b[49m\u001b[43mother\u001b[49m\u001b[43m,\u001b[49m\n\u001b[1;32m   9968\u001b[0m \u001b[43m        \u001b[49m\u001b[43mon\u001b[49m\u001b[38;5;241;43m=\u001b[39;49m\u001b[43mon\u001b[49m\u001b[43m,\u001b[49m\n\u001b[1;32m   9969\u001b[0m \u001b[43m        \u001b[49m\u001b[43mhow\u001b[49m\u001b[38;5;241;43m=\u001b[39;49m\u001b[43mhow\u001b[49m\u001b[43m,\u001b[49m\n\u001b[1;32m   9970\u001b[0m \u001b[43m        \u001b[49m\u001b[43mlsuffix\u001b[49m\u001b[38;5;241;43m=\u001b[39;49m\u001b[43mlsuffix\u001b[49m\u001b[43m,\u001b[49m\n\u001b[1;32m   9971\u001b[0m \u001b[43m        \u001b[49m\u001b[43mrsuffix\u001b[49m\u001b[38;5;241;43m=\u001b[39;49m\u001b[43mrsuffix\u001b[49m\u001b[43m,\u001b[49m\n\u001b[1;32m   9972\u001b[0m \u001b[43m        \u001b[49m\u001b[43msort\u001b[49m\u001b[38;5;241;43m=\u001b[39;49m\u001b[43msort\u001b[49m\u001b[43m,\u001b[49m\n\u001b[1;32m   9973\u001b[0m \u001b[43m        \u001b[49m\u001b[43mvalidate\u001b[49m\u001b[38;5;241;43m=\u001b[39;49m\u001b[43mvalidate\u001b[49m\u001b[43m,\u001b[49m\n\u001b[1;32m   9974\u001b[0m \u001b[43m    \u001b[49m\u001b[43m)\u001b[49m\n",
      "File \u001b[0;32m/opt/homebrew/lib/python3.9/site-packages/pandas/core/frame.py:10005\u001b[0m, in \u001b[0;36mDataFrame._join_compat\u001b[0;34m(self, other, on, how, lsuffix, rsuffix, sort, validate)\u001b[0m\n\u001b[1;32m   9995\u001b[0m     \u001b[38;5;28;01mif\u001b[39;00m how \u001b[38;5;241m==\u001b[39m \u001b[38;5;124m\"\u001b[39m\u001b[38;5;124mcross\u001b[39m\u001b[38;5;124m\"\u001b[39m:\n\u001b[1;32m   9996\u001b[0m         \u001b[38;5;28;01mreturn\u001b[39;00m merge(\n\u001b[1;32m   9997\u001b[0m             \u001b[38;5;28mself\u001b[39m,\n\u001b[1;32m   9998\u001b[0m             other,\n\u001b[0;32m   (...)\u001b[0m\n\u001b[1;32m  10003\u001b[0m             validate\u001b[38;5;241m=\u001b[39mvalidate,\n\u001b[1;32m  10004\u001b[0m         )\n\u001b[0;32m> 10005\u001b[0m     \u001b[38;5;28;01mreturn\u001b[39;00m \u001b[43mmerge\u001b[49m\u001b[43m(\u001b[49m\n\u001b[1;32m  10006\u001b[0m \u001b[43m        \u001b[49m\u001b[38;5;28;43mself\u001b[39;49m\u001b[43m,\u001b[49m\n\u001b[1;32m  10007\u001b[0m \u001b[43m        \u001b[49m\u001b[43mother\u001b[49m\u001b[43m,\u001b[49m\n\u001b[1;32m  10008\u001b[0m \u001b[43m        \u001b[49m\u001b[43mleft_on\u001b[49m\u001b[38;5;241;43m=\u001b[39;49m\u001b[43mon\u001b[49m\u001b[43m,\u001b[49m\n\u001b[1;32m  10009\u001b[0m \u001b[43m        \u001b[49m\u001b[43mhow\u001b[49m\u001b[38;5;241;43m=\u001b[39;49m\u001b[43mhow\u001b[49m\u001b[43m,\u001b[49m\n\u001b[1;32m  10010\u001b[0m \u001b[43m        \u001b[49m\u001b[43mleft_index\u001b[49m\u001b[38;5;241;43m=\u001b[39;49m\u001b[43mon\u001b[49m\u001b[43m \u001b[49m\u001b[38;5;129;43;01mis\u001b[39;49;00m\u001b[43m \u001b[49m\u001b[38;5;28;43;01mNone\u001b[39;49;00m\u001b[43m,\u001b[49m\n\u001b[1;32m  10011\u001b[0m \u001b[43m        \u001b[49m\u001b[43mright_index\u001b[49m\u001b[38;5;241;43m=\u001b[39;49m\u001b[38;5;28;43;01mTrue\u001b[39;49;00m\u001b[43m,\u001b[49m\n\u001b[1;32m  10012\u001b[0m \u001b[43m        \u001b[49m\u001b[43msuffixes\u001b[49m\u001b[38;5;241;43m=\u001b[39;49m\u001b[43m(\u001b[49m\u001b[43mlsuffix\u001b[49m\u001b[43m,\u001b[49m\u001b[43m \u001b[49m\u001b[43mrsuffix\u001b[49m\u001b[43m)\u001b[49m\u001b[43m,\u001b[49m\n\u001b[1;32m  10013\u001b[0m \u001b[43m        \u001b[49m\u001b[43msort\u001b[49m\u001b[38;5;241;43m=\u001b[39;49m\u001b[43msort\u001b[49m\u001b[43m,\u001b[49m\n\u001b[1;32m  10014\u001b[0m \u001b[43m        \u001b[49m\u001b[43mvalidate\u001b[49m\u001b[38;5;241;43m=\u001b[39;49m\u001b[43mvalidate\u001b[49m\u001b[43m,\u001b[49m\n\u001b[1;32m  10015\u001b[0m \u001b[43m    \u001b[49m\u001b[43m)\u001b[49m\n\u001b[1;32m  10016\u001b[0m \u001b[38;5;28;01melse\u001b[39;00m:\n\u001b[1;32m  10017\u001b[0m     \u001b[38;5;28;01mif\u001b[39;00m on \u001b[38;5;129;01mis\u001b[39;00m \u001b[38;5;129;01mnot\u001b[39;00m \u001b[38;5;28;01mNone\u001b[39;00m:\n",
      "File \u001b[0;32m/opt/homebrew/lib/python3.9/site-packages/pandas/core/reshape/merge.py:124\u001b[0m, in \u001b[0;36mmerge\u001b[0;34m(left, right, how, on, left_on, right_on, left_index, right_index, sort, suffixes, copy, indicator, validate)\u001b[0m\n\u001b[1;32m     93\u001b[0m \u001b[38;5;129m@Substitution\u001b[39m(\u001b[38;5;124m\"\u001b[39m\u001b[38;5;130;01m\\n\u001b[39;00m\u001b[38;5;124mleft : DataFrame or named Series\u001b[39m\u001b[38;5;124m\"\u001b[39m)\n\u001b[1;32m     94\u001b[0m \u001b[38;5;129m@Appender\u001b[39m(_merge_doc, indents\u001b[38;5;241m=\u001b[39m\u001b[38;5;241m0\u001b[39m)\n\u001b[1;32m     95\u001b[0m \u001b[38;5;28;01mdef\u001b[39;00m \u001b[38;5;21mmerge\u001b[39m(\n\u001b[0;32m   (...)\u001b[0m\n\u001b[1;32m    108\u001b[0m     validate: \u001b[38;5;28mstr\u001b[39m \u001b[38;5;241m|\u001b[39m \u001b[38;5;28;01mNone\u001b[39;00m \u001b[38;5;241m=\u001b[39m \u001b[38;5;28;01mNone\u001b[39;00m,\n\u001b[1;32m    109\u001b[0m ) \u001b[38;5;241m-\u001b[39m\u001b[38;5;241m>\u001b[39m DataFrame:\n\u001b[1;32m    110\u001b[0m     op \u001b[38;5;241m=\u001b[39m _MergeOperation(\n\u001b[1;32m    111\u001b[0m         left,\n\u001b[1;32m    112\u001b[0m         right,\n\u001b[0;32m   (...)\u001b[0m\n\u001b[1;32m    122\u001b[0m         validate\u001b[38;5;241m=\u001b[39mvalidate,\n\u001b[1;32m    123\u001b[0m     )\n\u001b[0;32m--> 124\u001b[0m     \u001b[38;5;28;01mreturn\u001b[39;00m \u001b[43mop\u001b[49m\u001b[38;5;241;43m.\u001b[39;49m\u001b[43mget_result\u001b[49m\u001b[43m(\u001b[49m\u001b[43mcopy\u001b[49m\u001b[38;5;241;43m=\u001b[39;49m\u001b[43mcopy\u001b[49m\u001b[43m)\u001b[49m\n",
      "File \u001b[0;32m/opt/homebrew/lib/python3.9/site-packages/pandas/core/reshape/merge.py:775\u001b[0m, in \u001b[0;36m_MergeOperation.get_result\u001b[0;34m(self, copy)\u001b[0m\n\u001b[1;32m    771\u001b[0m     \u001b[38;5;28mself\u001b[39m\u001b[38;5;241m.\u001b[39mleft, \u001b[38;5;28mself\u001b[39m\u001b[38;5;241m.\u001b[39mright \u001b[38;5;241m=\u001b[39m \u001b[38;5;28mself\u001b[39m\u001b[38;5;241m.\u001b[39m_indicator_pre_merge(\u001b[38;5;28mself\u001b[39m\u001b[38;5;241m.\u001b[39mleft, \u001b[38;5;28mself\u001b[39m\u001b[38;5;241m.\u001b[39mright)\n\u001b[1;32m    773\u001b[0m join_index, left_indexer, right_indexer \u001b[38;5;241m=\u001b[39m \u001b[38;5;28mself\u001b[39m\u001b[38;5;241m.\u001b[39m_get_join_info()\n\u001b[0;32m--> 775\u001b[0m result \u001b[38;5;241m=\u001b[39m \u001b[38;5;28;43mself\u001b[39;49m\u001b[38;5;241;43m.\u001b[39;49m\u001b[43m_reindex_and_concat\u001b[49m\u001b[43m(\u001b[49m\n\u001b[1;32m    776\u001b[0m \u001b[43m    \u001b[49m\u001b[43mjoin_index\u001b[49m\u001b[43m,\u001b[49m\u001b[43m \u001b[49m\u001b[43mleft_indexer\u001b[49m\u001b[43m,\u001b[49m\u001b[43m \u001b[49m\u001b[43mright_indexer\u001b[49m\u001b[43m,\u001b[49m\u001b[43m \u001b[49m\u001b[43mcopy\u001b[49m\u001b[38;5;241;43m=\u001b[39;49m\u001b[43mcopy\u001b[49m\n\u001b[1;32m    777\u001b[0m \u001b[43m\u001b[49m\u001b[43m)\u001b[49m\n\u001b[1;32m    778\u001b[0m result \u001b[38;5;241m=\u001b[39m result\u001b[38;5;241m.\u001b[39m__finalize__(\u001b[38;5;28mself\u001b[39m, method\u001b[38;5;241m=\u001b[39m\u001b[38;5;28mself\u001b[39m\u001b[38;5;241m.\u001b[39m_merge_type)\n\u001b[1;32m    780\u001b[0m \u001b[38;5;28;01mif\u001b[39;00m \u001b[38;5;28mself\u001b[39m\u001b[38;5;241m.\u001b[39mindicator:\n",
      "File \u001b[0;32m/opt/homebrew/lib/python3.9/site-packages/pandas/core/reshape/merge.py:729\u001b[0m, in \u001b[0;36m_MergeOperation._reindex_and_concat\u001b[0;34m(self, join_index, left_indexer, right_indexer, copy)\u001b[0m\n\u001b[1;32m    726\u001b[0m left \u001b[38;5;241m=\u001b[39m \u001b[38;5;28mself\u001b[39m\u001b[38;5;241m.\u001b[39mleft[:]\n\u001b[1;32m    727\u001b[0m right \u001b[38;5;241m=\u001b[39m \u001b[38;5;28mself\u001b[39m\u001b[38;5;241m.\u001b[39mright[:]\n\u001b[0;32m--> 729\u001b[0m llabels, rlabels \u001b[38;5;241m=\u001b[39m \u001b[43m_items_overlap_with_suffix\u001b[49m\u001b[43m(\u001b[49m\n\u001b[1;32m    730\u001b[0m \u001b[43m    \u001b[49m\u001b[38;5;28;43mself\u001b[39;49m\u001b[38;5;241;43m.\u001b[39;49m\u001b[43mleft\u001b[49m\u001b[38;5;241;43m.\u001b[39;49m\u001b[43m_info_axis\u001b[49m\u001b[43m,\u001b[49m\u001b[43m \u001b[49m\u001b[38;5;28;43mself\u001b[39;49m\u001b[38;5;241;43m.\u001b[39;49m\u001b[43mright\u001b[49m\u001b[38;5;241;43m.\u001b[39;49m\u001b[43m_info_axis\u001b[49m\u001b[43m,\u001b[49m\u001b[43m \u001b[49m\u001b[38;5;28;43mself\u001b[39;49m\u001b[38;5;241;43m.\u001b[39;49m\u001b[43msuffixes\u001b[49m\n\u001b[1;32m    731\u001b[0m \u001b[43m\u001b[49m\u001b[43m)\u001b[49m\n\u001b[1;32m    733\u001b[0m \u001b[38;5;28;01mif\u001b[39;00m left_indexer \u001b[38;5;129;01mis\u001b[39;00m \u001b[38;5;129;01mnot\u001b[39;00m \u001b[38;5;28;01mNone\u001b[39;00m:\n\u001b[1;32m    734\u001b[0m     \u001b[38;5;66;03m# Pinning the index here (and in the right code just below) is not\u001b[39;00m\n\u001b[1;32m    735\u001b[0m     \u001b[38;5;66;03m#  necessary, but makes the `.take` more performant if we have e.g.\u001b[39;00m\n\u001b[1;32m    736\u001b[0m     \u001b[38;5;66;03m#  a MultiIndex for left.index.\u001b[39;00m\n\u001b[1;32m    737\u001b[0m     lmgr \u001b[38;5;241m=\u001b[39m left\u001b[38;5;241m.\u001b[39m_mgr\u001b[38;5;241m.\u001b[39mreindex_indexer(\n\u001b[1;32m    738\u001b[0m         join_index,\n\u001b[1;32m    739\u001b[0m         left_indexer,\n\u001b[0;32m   (...)\u001b[0m\n\u001b[1;32m    744\u001b[0m         use_na_proxy\u001b[38;5;241m=\u001b[39m\u001b[38;5;28;01mTrue\u001b[39;00m,\n\u001b[1;32m    745\u001b[0m     )\n",
      "File \u001b[0;32m/opt/homebrew/lib/python3.9/site-packages/pandas/core/reshape/merge.py:2458\u001b[0m, in \u001b[0;36m_items_overlap_with_suffix\u001b[0;34m(left, right, suffixes)\u001b[0m\n\u001b[1;32m   2455\u001b[0m lsuffix, rsuffix \u001b[38;5;241m=\u001b[39m suffixes\n\u001b[1;32m   2457\u001b[0m \u001b[38;5;28;01mif\u001b[39;00m \u001b[38;5;129;01mnot\u001b[39;00m lsuffix \u001b[38;5;129;01mand\u001b[39;00m \u001b[38;5;129;01mnot\u001b[39;00m rsuffix:\n\u001b[0;32m-> 2458\u001b[0m     \u001b[38;5;28;01mraise\u001b[39;00m \u001b[38;5;167;01mValueError\u001b[39;00m(\u001b[38;5;124mf\u001b[39m\u001b[38;5;124m\"\u001b[39m\u001b[38;5;124mcolumns overlap but no suffix specified: \u001b[39m\u001b[38;5;132;01m{\u001b[39;00mto_rename\u001b[38;5;132;01m}\u001b[39;00m\u001b[38;5;124m\"\u001b[39m)\n\u001b[1;32m   2460\u001b[0m \u001b[38;5;28;01mdef\u001b[39;00m \u001b[38;5;21mrenamer\u001b[39m(x, suffix):\n\u001b[1;32m   2461\u001b[0m     \u001b[38;5;124;03m\"\"\"\u001b[39;00m\n\u001b[1;32m   2462\u001b[0m \u001b[38;5;124;03m    Rename the left and right indices.\u001b[39;00m\n\u001b[1;32m   2463\u001b[0m \n\u001b[0;32m   (...)\u001b[0m\n\u001b[1;32m   2474\u001b[0m \u001b[38;5;124;03m    x : renamed column name\u001b[39;00m\n\u001b[1;32m   2475\u001b[0m \u001b[38;5;124;03m    \"\"\"\u001b[39;00m\n",
      "\u001b[0;31mValueError\u001b[0m: columns overlap but no suffix specified: Index(['uu_id'], dtype='object')"
     ]
    }
   ],
   "source": [
    "Y_test_final = pred_data.join(fin)"
   ]
  },
  {
   "cell_type": "code",
   "execution_count": 172,
   "id": "556c5aad",
   "metadata": {
    "execution": {
     "iopub.execute_input": "2023-05-10T01:33:31.748682Z",
     "iopub.status.busy": "2023-05-10T01:33:31.748563Z",
     "iopub.status.idle": "2023-05-10T01:33:31.762497Z",
     "shell.execute_reply": "2023-05-10T01:33:31.762166Z"
    }
   },
   "outputs": [],
   "source": [
    "Y_test_final = pred_data.merge(fin,how='left',on = 'uu_id')"
   ]
  },
  {
   "cell_type": "code",
   "execution_count": 173,
   "id": "40c55297",
   "metadata": {
    "execution": {
     "iopub.execute_input": "2023-05-10T01:33:31.764341Z",
     "iopub.status.busy": "2023-05-10T01:33:31.764230Z",
     "iopub.status.idle": "2023-05-10T01:33:31.774131Z",
     "shell.execute_reply": "2023-05-10T01:33:31.773707Z"
    }
   },
   "outputs": [
    {
     "data": {
      "text/html": [
       "<div>\n",
       "<style scoped>\n",
       "    .dataframe tbody tr th:only-of-type {\n",
       "        vertical-align: middle;\n",
       "    }\n",
       "\n",
       "    .dataframe tbody tr th {\n",
       "        vertical-align: top;\n",
       "    }\n",
       "\n",
       "    .dataframe thead th {\n",
       "        text-align: right;\n",
       "    }\n",
       "</style>\n",
       "<table border=\"1\" class=\"dataframe\">\n",
       "  <thead>\n",
       "    <tr style=\"text-align: right;\">\n",
       "      <th></th>\n",
       "      <th>uu_id</th>\n",
       "      <th>week_number</th>\n",
       "      <th>total_claims</th>\n",
       "      <th>edu_8th_or_less</th>\n",
       "      <th>edu_grades_9_11</th>\n",
       "      <th>edu_hs_grad_equiv</th>\n",
       "      <th>edu_post_hs</th>\n",
       "      <th>edu_unknown</th>\n",
       "      <th>gender_female</th>\n",
       "      <th>gender_male</th>\n",
       "      <th>...</th>\n",
       "      <th>top_category_employer3_54</th>\n",
       "      <th>top_category_employer3_55</th>\n",
       "      <th>top_category_employer3_56</th>\n",
       "      <th>top_category_employer3_61</th>\n",
       "      <th>top_category_employer3_62</th>\n",
       "      <th>top_category_employer3_71</th>\n",
       "      <th>top_category_employer3_72</th>\n",
       "      <th>top_category_employer3_81</th>\n",
       "      <th>top_category_employer3_92</th>\n",
       "      <th>top_category_employer3_99</th>\n",
       "    </tr>\n",
       "  </thead>\n",
       "  <tbody>\n",
       "    <tr>\n",
       "      <th>0</th>\n",
       "      <td>5bf51fc2e162d6faf9e3cf79e4198378</td>\n",
       "      <td>44</td>\n",
       "      <td>20</td>\n",
       "      <td>0</td>\n",
       "      <td>0</td>\n",
       "      <td>11</td>\n",
       "      <td>9.166667</td>\n",
       "      <td>0</td>\n",
       "      <td>17.416667</td>\n",
       "      <td>14.800000</td>\n",
       "      <td>...</td>\n",
       "      <td>0</td>\n",
       "      <td>0</td>\n",
       "      <td>0</td>\n",
       "      <td>0</td>\n",
       "      <td>0</td>\n",
       "      <td>0</td>\n",
       "      <td>0</td>\n",
       "      <td>0</td>\n",
       "      <td>0</td>\n",
       "      <td>0</td>\n",
       "    </tr>\n",
       "    <tr>\n",
       "      <th>1</th>\n",
       "      <td>5bf51fc2e162d6faf9e3cf79e4198378</td>\n",
       "      <td>44</td>\n",
       "      <td>11</td>\n",
       "      <td>0</td>\n",
       "      <td>0</td>\n",
       "      <td>13</td>\n",
       "      <td>9.166667</td>\n",
       "      <td>0</td>\n",
       "      <td>17.416667</td>\n",
       "      <td>14.800000</td>\n",
       "      <td>...</td>\n",
       "      <td>0</td>\n",
       "      <td>0</td>\n",
       "      <td>0</td>\n",
       "      <td>0</td>\n",
       "      <td>0</td>\n",
       "      <td>0</td>\n",
       "      <td>0</td>\n",
       "      <td>0</td>\n",
       "      <td>0</td>\n",
       "      <td>0</td>\n",
       "    </tr>\n",
       "    <tr>\n",
       "      <th>2</th>\n",
       "      <td>5bf51fc2e162d6faf9e3cf79e4198378</td>\n",
       "      <td>44</td>\n",
       "      <td>11</td>\n",
       "      <td>0</td>\n",
       "      <td>0</td>\n",
       "      <td>13</td>\n",
       "      <td>9.166667</td>\n",
       "      <td>0</td>\n",
       "      <td>17.416667</td>\n",
       "      <td>14.800000</td>\n",
       "      <td>...</td>\n",
       "      <td>0</td>\n",
       "      <td>0</td>\n",
       "      <td>0</td>\n",
       "      <td>0</td>\n",
       "      <td>0</td>\n",
       "      <td>0</td>\n",
       "      <td>0</td>\n",
       "      <td>0</td>\n",
       "      <td>0</td>\n",
       "      <td>0</td>\n",
       "    </tr>\n",
       "    <tr>\n",
       "      <th>3</th>\n",
       "      <td>5bf51fc2e162d6faf9e3cf79e4198378</td>\n",
       "      <td>44</td>\n",
       "      <td>20</td>\n",
       "      <td>0</td>\n",
       "      <td>0</td>\n",
       "      <td>13</td>\n",
       "      <td>9.166667</td>\n",
       "      <td>0</td>\n",
       "      <td>17.416667</td>\n",
       "      <td>14.800000</td>\n",
       "      <td>...</td>\n",
       "      <td>0</td>\n",
       "      <td>0</td>\n",
       "      <td>0</td>\n",
       "      <td>0</td>\n",
       "      <td>0</td>\n",
       "      <td>0</td>\n",
       "      <td>0</td>\n",
       "      <td>0</td>\n",
       "      <td>0</td>\n",
       "      <td>0</td>\n",
       "    </tr>\n",
       "    <tr>\n",
       "      <th>4</th>\n",
       "      <td>5bf51fc2e162d6faf9e3cf79e4198378</td>\n",
       "      <td>44</td>\n",
       "      <td>20</td>\n",
       "      <td>0</td>\n",
       "      <td>0</td>\n",
       "      <td>13</td>\n",
       "      <td>9.166667</td>\n",
       "      <td>0</td>\n",
       "      <td>17.416667</td>\n",
       "      <td>14.800000</td>\n",
       "      <td>...</td>\n",
       "      <td>0</td>\n",
       "      <td>0</td>\n",
       "      <td>0</td>\n",
       "      <td>0</td>\n",
       "      <td>0</td>\n",
       "      <td>0</td>\n",
       "      <td>0</td>\n",
       "      <td>0</td>\n",
       "      <td>0</td>\n",
       "      <td>0</td>\n",
       "    </tr>\n",
       "    <tr>\n",
       "      <th>...</th>\n",
       "      <td>...</td>\n",
       "      <td>...</td>\n",
       "      <td>...</td>\n",
       "      <td>...</td>\n",
       "      <td>...</td>\n",
       "      <td>...</td>\n",
       "      <td>...</td>\n",
       "      <td>...</td>\n",
       "      <td>...</td>\n",
       "      <td>...</td>\n",
       "      <td>...</td>\n",
       "      <td>...</td>\n",
       "      <td>...</td>\n",
       "      <td>...</td>\n",
       "      <td>...</td>\n",
       "      <td>...</td>\n",
       "      <td>...</td>\n",
       "      <td>...</td>\n",
       "      <td>...</td>\n",
       "      <td>...</td>\n",
       "      <td>...</td>\n",
       "    </tr>\n",
       "    <tr>\n",
       "      <th>16828</th>\n",
       "      <td>932a58530abff8a48558e2a15639d453</td>\n",
       "      <td>44</td>\n",
       "      <td>17</td>\n",
       "      <td>0</td>\n",
       "      <td>0</td>\n",
       "      <td>17</td>\n",
       "      <td>0.000000</td>\n",
       "      <td>0</td>\n",
       "      <td>17.859649</td>\n",
       "      <td>17.985075</td>\n",
       "      <td>...</td>\n",
       "      <td>0</td>\n",
       "      <td>0</td>\n",
       "      <td>0</td>\n",
       "      <td>0</td>\n",
       "      <td>0</td>\n",
       "      <td>0</td>\n",
       "      <td>0</td>\n",
       "      <td>1</td>\n",
       "      <td>0</td>\n",
       "      <td>0</td>\n",
       "    </tr>\n",
       "    <tr>\n",
       "      <th>16829</th>\n",
       "      <td>932a58530abff8a48558e2a15639d453</td>\n",
       "      <td>44</td>\n",
       "      <td>11</td>\n",
       "      <td>0</td>\n",
       "      <td>0</td>\n",
       "      <td>17</td>\n",
       "      <td>14.539683</td>\n",
       "      <td>0</td>\n",
       "      <td>17.859649</td>\n",
       "      <td>17.985075</td>\n",
       "      <td>...</td>\n",
       "      <td>0</td>\n",
       "      <td>0</td>\n",
       "      <td>0</td>\n",
       "      <td>0</td>\n",
       "      <td>0</td>\n",
       "      <td>0</td>\n",
       "      <td>0</td>\n",
       "      <td>1</td>\n",
       "      <td>0</td>\n",
       "      <td>0</td>\n",
       "    </tr>\n",
       "    <tr>\n",
       "      <th>16830</th>\n",
       "      <td>932a58530abff8a48558e2a15639d453</td>\n",
       "      <td>44</td>\n",
       "      <td>25</td>\n",
       "      <td>0</td>\n",
       "      <td>15</td>\n",
       "      <td>10</td>\n",
       "      <td>0.000000</td>\n",
       "      <td>0</td>\n",
       "      <td>17.859649</td>\n",
       "      <td>17.985075</td>\n",
       "      <td>...</td>\n",
       "      <td>0</td>\n",
       "      <td>0</td>\n",
       "      <td>0</td>\n",
       "      <td>0</td>\n",
       "      <td>0</td>\n",
       "      <td>0</td>\n",
       "      <td>0</td>\n",
       "      <td>1</td>\n",
       "      <td>0</td>\n",
       "      <td>0</td>\n",
       "    </tr>\n",
       "    <tr>\n",
       "      <th>16831</th>\n",
       "      <td>932a58530abff8a48558e2a15639d453</td>\n",
       "      <td>44</td>\n",
       "      <td>13</td>\n",
       "      <td>0</td>\n",
       "      <td>0</td>\n",
       "      <td>17</td>\n",
       "      <td>14.539683</td>\n",
       "      <td>0</td>\n",
       "      <td>17.859649</td>\n",
       "      <td>17.985075</td>\n",
       "      <td>...</td>\n",
       "      <td>0</td>\n",
       "      <td>0</td>\n",
       "      <td>0</td>\n",
       "      <td>0</td>\n",
       "      <td>0</td>\n",
       "      <td>1</td>\n",
       "      <td>0</td>\n",
       "      <td>0</td>\n",
       "      <td>0</td>\n",
       "      <td>0</td>\n",
       "    </tr>\n",
       "    <tr>\n",
       "      <th>16832</th>\n",
       "      <td>932a58530abff8a48558e2a15639d453</td>\n",
       "      <td>44</td>\n",
       "      <td>30</td>\n",
       "      <td>0</td>\n",
       "      <td>0</td>\n",
       "      <td>14</td>\n",
       "      <td>16.000000</td>\n",
       "      <td>0</td>\n",
       "      <td>12.000000</td>\n",
       "      <td>18.000000</td>\n",
       "      <td>...</td>\n",
       "      <td>0</td>\n",
       "      <td>0</td>\n",
       "      <td>1</td>\n",
       "      <td>0</td>\n",
       "      <td>0</td>\n",
       "      <td>0</td>\n",
       "      <td>0</td>\n",
       "      <td>0</td>\n",
       "      <td>0</td>\n",
       "      <td>0</td>\n",
       "    </tr>\n",
       "  </tbody>\n",
       "</table>\n",
       "<p>16833 rows × 177 columns</p>\n",
       "</div>"
      ],
      "text/plain": [
       "                                  uu_id  week_number  total_claims  \\\n",
       "0      5bf51fc2e162d6faf9e3cf79e4198378           44            20   \n",
       "1      5bf51fc2e162d6faf9e3cf79e4198378           44            11   \n",
       "2      5bf51fc2e162d6faf9e3cf79e4198378           44            11   \n",
       "3      5bf51fc2e162d6faf9e3cf79e4198378           44            20   \n",
       "4      5bf51fc2e162d6faf9e3cf79e4198378           44            20   \n",
       "...                                 ...          ...           ...   \n",
       "16828  932a58530abff8a48558e2a15639d453           44            17   \n",
       "16829  932a58530abff8a48558e2a15639d453           44            11   \n",
       "16830  932a58530abff8a48558e2a15639d453           44            25   \n",
       "16831  932a58530abff8a48558e2a15639d453           44            13   \n",
       "16832  932a58530abff8a48558e2a15639d453           44            30   \n",
       "\n",
       "       edu_8th_or_less  edu_grades_9_11  edu_hs_grad_equiv  edu_post_hs  \\\n",
       "0                    0                0                 11     9.166667   \n",
       "1                    0                0                 13     9.166667   \n",
       "2                    0                0                 13     9.166667   \n",
       "3                    0                0                 13     9.166667   \n",
       "4                    0                0                 13     9.166667   \n",
       "...                ...              ...                ...          ...   \n",
       "16828                0                0                 17     0.000000   \n",
       "16829                0                0                 17    14.539683   \n",
       "16830                0               15                 10     0.000000   \n",
       "16831                0                0                 17    14.539683   \n",
       "16832                0                0                 14    16.000000   \n",
       "\n",
       "       edu_unknown  gender_female  gender_male  ...  \\\n",
       "0                0      17.416667    14.800000  ...   \n",
       "1                0      17.416667    14.800000  ...   \n",
       "2                0      17.416667    14.800000  ...   \n",
       "3                0      17.416667    14.800000  ...   \n",
       "4                0      17.416667    14.800000  ...   \n",
       "...            ...            ...          ...  ...   \n",
       "16828            0      17.859649    17.985075  ...   \n",
       "16829            0      17.859649    17.985075  ...   \n",
       "16830            0      17.859649    17.985075  ...   \n",
       "16831            0      17.859649    17.985075  ...   \n",
       "16832            0      12.000000    18.000000  ...   \n",
       "\n",
       "       top_category_employer3_54  top_category_employer3_55  \\\n",
       "0                              0                          0   \n",
       "1                              0                          0   \n",
       "2                              0                          0   \n",
       "3                              0                          0   \n",
       "4                              0                          0   \n",
       "...                          ...                        ...   \n",
       "16828                          0                          0   \n",
       "16829                          0                          0   \n",
       "16830                          0                          0   \n",
       "16831                          0                          0   \n",
       "16832                          0                          0   \n",
       "\n",
       "       top_category_employer3_56  top_category_employer3_61  \\\n",
       "0                              0                          0   \n",
       "1                              0                          0   \n",
       "2                              0                          0   \n",
       "3                              0                          0   \n",
       "4                              0                          0   \n",
       "...                          ...                        ...   \n",
       "16828                          0                          0   \n",
       "16829                          0                          0   \n",
       "16830                          0                          0   \n",
       "16831                          0                          0   \n",
       "16832                          1                          0   \n",
       "\n",
       "       top_category_employer3_62  top_category_employer3_71  \\\n",
       "0                              0                          0   \n",
       "1                              0                          0   \n",
       "2                              0                          0   \n",
       "3                              0                          0   \n",
       "4                              0                          0   \n",
       "...                          ...                        ...   \n",
       "16828                          0                          0   \n",
       "16829                          0                          0   \n",
       "16830                          0                          0   \n",
       "16831                          0                          1   \n",
       "16832                          0                          0   \n",
       "\n",
       "       top_category_employer3_72  top_category_employer3_81  \\\n",
       "0                              0                          0   \n",
       "1                              0                          0   \n",
       "2                              0                          0   \n",
       "3                              0                          0   \n",
       "4                              0                          0   \n",
       "...                          ...                        ...   \n",
       "16828                          0                          1   \n",
       "16829                          0                          1   \n",
       "16830                          0                          1   \n",
       "16831                          0                          0   \n",
       "16832                          0                          0   \n",
       "\n",
       "       top_category_employer3_92  top_category_employer3_99  \n",
       "0                              0                          0  \n",
       "1                              0                          0  \n",
       "2                              0                          0  \n",
       "3                              0                          0  \n",
       "4                              0                          0  \n",
       "...                          ...                        ...  \n",
       "16828                          0                          0  \n",
       "16829                          0                          0  \n",
       "16830                          0                          0  \n",
       "16831                          0                          0  \n",
       "16832                          0                          0  \n",
       "\n",
       "[16833 rows x 177 columns]"
      ]
     },
     "execution_count": 173,
     "metadata": {},
     "output_type": "execute_result"
    }
   ],
   "source": [
    "Y_test_final"
   ]
  },
  {
   "cell_type": "code",
   "execution_count": 174,
   "id": "3b6f55bd",
   "metadata": {
    "execution": {
     "iopub.execute_input": "2023-05-10T01:33:31.776174Z",
     "iopub.status.busy": "2023-05-10T01:33:31.775984Z",
     "iopub.status.idle": "2023-05-10T01:33:31.778671Z",
     "shell.execute_reply": "2023-05-10T01:33:31.778395Z"
    }
   },
   "outputs": [
    {
     "ename": "SyntaxError",
     "evalue": "EOL while scanning string literal (2086564235.py, line 2)",
     "output_type": "error",
     "traceback": [
      "\u001b[0;36m  Cell \u001b[0;32mIn [174], line 2\u001b[0;36m\u001b[0m\n\u001b[0;31m    fin = fin.set_index('uu_id)\u001b[0m\n\u001b[0m                               ^\u001b[0m\n\u001b[0;31mSyntaxError\u001b[0m\u001b[0;31m:\u001b[0m EOL while scanning string literal\n"
     ]
    }
   ],
   "source": [
    "pred_data = pred_data.set_index('uu_id')\n",
    "fin = fin.set_index('uu_id)\n",
    "Y_test_final = pred_data.join(fin)"
   ]
  },
  {
   "cell_type": "code",
   "execution_count": 175,
   "id": "428594d8",
   "metadata": {
    "execution": {
     "iopub.execute_input": "2023-05-10T01:33:31.780284Z",
     "iopub.status.busy": "2023-05-10T01:33:31.780156Z",
     "iopub.status.idle": "2023-05-10T01:33:31.793684Z",
     "shell.execute_reply": "2023-05-10T01:33:31.793257Z"
    }
   },
   "outputs": [],
   "source": [
    "pred_data = pred_data.set_index('uu_id')\n",
    "fin = fin.set_index('uu_id')\n",
    "Y_test_final = pred_data.join(fin)"
   ]
  },
  {
   "cell_type": "code",
   "execution_count": 176,
   "id": "6ecef208",
   "metadata": {
    "execution": {
     "iopub.execute_input": "2023-05-10T01:33:31.796232Z",
     "iopub.status.busy": "2023-05-10T01:33:31.795835Z",
     "iopub.status.idle": "2023-05-10T01:33:31.806605Z",
     "shell.execute_reply": "2023-05-10T01:33:31.806341Z"
    }
   },
   "outputs": [
    {
     "data": {
      "text/html": [
       "<div>\n",
       "<style scoped>\n",
       "    .dataframe tbody tr th:only-of-type {\n",
       "        vertical-align: middle;\n",
       "    }\n",
       "\n",
       "    .dataframe tbody tr th {\n",
       "        vertical-align: top;\n",
       "    }\n",
       "\n",
       "    .dataframe thead th {\n",
       "        text-align: right;\n",
       "    }\n",
       "</style>\n",
       "<table border=\"1\" class=\"dataframe\">\n",
       "  <thead>\n",
       "    <tr style=\"text-align: right;\">\n",
       "      <th></th>\n",
       "      <th>week_number</th>\n",
       "      <th>total_claims</th>\n",
       "      <th>edu_8th_or_less</th>\n",
       "      <th>edu_grades_9_11</th>\n",
       "      <th>edu_hs_grad_equiv</th>\n",
       "      <th>edu_post_hs</th>\n",
       "      <th>edu_unknown</th>\n",
       "      <th>gender_female</th>\n",
       "      <th>gender_male</th>\n",
       "      <th>gender_na</th>\n",
       "      <th>...</th>\n",
       "      <th>top_category_employer3_54</th>\n",
       "      <th>top_category_employer3_55</th>\n",
       "      <th>top_category_employer3_56</th>\n",
       "      <th>top_category_employer3_61</th>\n",
       "      <th>top_category_employer3_62</th>\n",
       "      <th>top_category_employer3_71</th>\n",
       "      <th>top_category_employer3_72</th>\n",
       "      <th>top_category_employer3_81</th>\n",
       "      <th>top_category_employer3_92</th>\n",
       "      <th>top_category_employer3_99</th>\n",
       "    </tr>\n",
       "    <tr>\n",
       "      <th>uu_id</th>\n",
       "      <th></th>\n",
       "      <th></th>\n",
       "      <th></th>\n",
       "      <th></th>\n",
       "      <th></th>\n",
       "      <th></th>\n",
       "      <th></th>\n",
       "      <th></th>\n",
       "      <th></th>\n",
       "      <th></th>\n",
       "      <th></th>\n",
       "      <th></th>\n",
       "      <th></th>\n",
       "      <th></th>\n",
       "      <th></th>\n",
       "      <th></th>\n",
       "      <th></th>\n",
       "      <th></th>\n",
       "      <th></th>\n",
       "      <th></th>\n",
       "      <th></th>\n",
       "    </tr>\n",
       "  </thead>\n",
       "  <tbody>\n",
       "    <tr>\n",
       "      <th>001cd9ae23064d7f0fd3cd327c873d8d</th>\n",
       "      <td>44</td>\n",
       "      <td>13</td>\n",
       "      <td>0</td>\n",
       "      <td>0</td>\n",
       "      <td>14</td>\n",
       "      <td>12.166667</td>\n",
       "      <td>0</td>\n",
       "      <td>7.500000</td>\n",
       "      <td>19.187500</td>\n",
       "      <td>0</td>\n",
       "      <td>...</td>\n",
       "      <td>0</td>\n",
       "      <td>0</td>\n",
       "      <td>0</td>\n",
       "      <td>0</td>\n",
       "      <td>0</td>\n",
       "      <td>0</td>\n",
       "      <td>0</td>\n",
       "      <td>1</td>\n",
       "      <td>0</td>\n",
       "      <td>0</td>\n",
       "    </tr>\n",
       "    <tr>\n",
       "      <th>001cd9ae23064d7f0fd3cd327c873d8d</th>\n",
       "      <td>44</td>\n",
       "      <td>10</td>\n",
       "      <td>0</td>\n",
       "      <td>0</td>\n",
       "      <td>14</td>\n",
       "      <td>12.166667</td>\n",
       "      <td>0</td>\n",
       "      <td>7.500000</td>\n",
       "      <td>19.187500</td>\n",
       "      <td>0</td>\n",
       "      <td>...</td>\n",
       "      <td>0</td>\n",
       "      <td>0</td>\n",
       "      <td>0</td>\n",
       "      <td>0</td>\n",
       "      <td>0</td>\n",
       "      <td>0</td>\n",
       "      <td>0</td>\n",
       "      <td>1</td>\n",
       "      <td>0</td>\n",
       "      <td>0</td>\n",
       "    </tr>\n",
       "    <tr>\n",
       "      <th>001cd9ae23064d7f0fd3cd327c873d8d</th>\n",
       "      <td>44</td>\n",
       "      <td>10</td>\n",
       "      <td>0</td>\n",
       "      <td>0</td>\n",
       "      <td>14</td>\n",
       "      <td>12.166667</td>\n",
       "      <td>0</td>\n",
       "      <td>7.500000</td>\n",
       "      <td>19.187500</td>\n",
       "      <td>0</td>\n",
       "      <td>...</td>\n",
       "      <td>0</td>\n",
       "      <td>0</td>\n",
       "      <td>0</td>\n",
       "      <td>0</td>\n",
       "      <td>0</td>\n",
       "      <td>0</td>\n",
       "      <td>0</td>\n",
       "      <td>1</td>\n",
       "      <td>0</td>\n",
       "      <td>0</td>\n",
       "    </tr>\n",
       "    <tr>\n",
       "      <th>001cd9ae23064d7f0fd3cd327c873d8d</th>\n",
       "      <td>44</td>\n",
       "      <td>13</td>\n",
       "      <td>0</td>\n",
       "      <td>0</td>\n",
       "      <td>14</td>\n",
       "      <td>12.166667</td>\n",
       "      <td>0</td>\n",
       "      <td>7.500000</td>\n",
       "      <td>19.187500</td>\n",
       "      <td>0</td>\n",
       "      <td>...</td>\n",
       "      <td>0</td>\n",
       "      <td>0</td>\n",
       "      <td>0</td>\n",
       "      <td>0</td>\n",
       "      <td>0</td>\n",
       "      <td>0</td>\n",
       "      <td>0</td>\n",
       "      <td>1</td>\n",
       "      <td>0</td>\n",
       "      <td>0</td>\n",
       "    </tr>\n",
       "    <tr>\n",
       "      <th>001cd9ae23064d7f0fd3cd327c873d8d</th>\n",
       "      <td>44</td>\n",
       "      <td>10</td>\n",
       "      <td>0</td>\n",
       "      <td>0</td>\n",
       "      <td>14</td>\n",
       "      <td>12.166667</td>\n",
       "      <td>0</td>\n",
       "      <td>7.500000</td>\n",
       "      <td>19.187500</td>\n",
       "      <td>0</td>\n",
       "      <td>...</td>\n",
       "      <td>0</td>\n",
       "      <td>0</td>\n",
       "      <td>0</td>\n",
       "      <td>0</td>\n",
       "      <td>0</td>\n",
       "      <td>0</td>\n",
       "      <td>0</td>\n",
       "      <td>1</td>\n",
       "      <td>0</td>\n",
       "      <td>0</td>\n",
       "    </tr>\n",
       "    <tr>\n",
       "      <th>...</th>\n",
       "      <td>...</td>\n",
       "      <td>...</td>\n",
       "      <td>...</td>\n",
       "      <td>...</td>\n",
       "      <td>...</td>\n",
       "      <td>...</td>\n",
       "      <td>...</td>\n",
       "      <td>...</td>\n",
       "      <td>...</td>\n",
       "      <td>...</td>\n",
       "      <td>...</td>\n",
       "      <td>...</td>\n",
       "      <td>...</td>\n",
       "      <td>...</td>\n",
       "      <td>...</td>\n",
       "      <td>...</td>\n",
       "      <td>...</td>\n",
       "      <td>...</td>\n",
       "      <td>...</td>\n",
       "      <td>...</td>\n",
       "      <td>...</td>\n",
       "    </tr>\n",
       "    <tr>\n",
       "      <th>fec479d0202d6e1e3f051a9ee902ff5d</th>\n",
       "      <td>44</td>\n",
       "      <td>26</td>\n",
       "      <td>0</td>\n",
       "      <td>0</td>\n",
       "      <td>16</td>\n",
       "      <td>19.138743</td>\n",
       "      <td>0</td>\n",
       "      <td>22.363248</td>\n",
       "      <td>20.787276</td>\n",
       "      <td>0</td>\n",
       "      <td>...</td>\n",
       "      <td>0</td>\n",
       "      <td>0</td>\n",
       "      <td>0</td>\n",
       "      <td>0</td>\n",
       "      <td>0</td>\n",
       "      <td>0</td>\n",
       "      <td>0</td>\n",
       "      <td>0</td>\n",
       "      <td>0</td>\n",
       "      <td>0</td>\n",
       "    </tr>\n",
       "    <tr>\n",
       "      <th>fec479d0202d6e1e3f051a9ee902ff5d</th>\n",
       "      <td>44</td>\n",
       "      <td>30</td>\n",
       "      <td>0</td>\n",
       "      <td>0</td>\n",
       "      <td>19</td>\n",
       "      <td>19.138743</td>\n",
       "      <td>0</td>\n",
       "      <td>22.363248</td>\n",
       "      <td>20.787276</td>\n",
       "      <td>0</td>\n",
       "      <td>...</td>\n",
       "      <td>0</td>\n",
       "      <td>0</td>\n",
       "      <td>1</td>\n",
       "      <td>0</td>\n",
       "      <td>0</td>\n",
       "      <td>0</td>\n",
       "      <td>0</td>\n",
       "      <td>0</td>\n",
       "      <td>0</td>\n",
       "      <td>0</td>\n",
       "    </tr>\n",
       "    <tr>\n",
       "      <th>fec479d0202d6e1e3f051a9ee902ff5d</th>\n",
       "      <td>44</td>\n",
       "      <td>34</td>\n",
       "      <td>0</td>\n",
       "      <td>0</td>\n",
       "      <td>18</td>\n",
       "      <td>12.000000</td>\n",
       "      <td>0</td>\n",
       "      <td>10.000000</td>\n",
       "      <td>24.000000</td>\n",
       "      <td>0</td>\n",
       "      <td>...</td>\n",
       "      <td>0</td>\n",
       "      <td>0</td>\n",
       "      <td>0</td>\n",
       "      <td>0</td>\n",
       "      <td>0</td>\n",
       "      <td>0</td>\n",
       "      <td>0</td>\n",
       "      <td>0</td>\n",
       "      <td>0</td>\n",
       "      <td>0</td>\n",
       "    </tr>\n",
       "    <tr>\n",
       "      <th>fec479d0202d6e1e3f051a9ee902ff5d</th>\n",
       "      <td>44</td>\n",
       "      <td>21</td>\n",
       "      <td>0</td>\n",
       "      <td>0</td>\n",
       "      <td>22</td>\n",
       "      <td>19.138743</td>\n",
       "      <td>0</td>\n",
       "      <td>22.363248</td>\n",
       "      <td>20.787276</td>\n",
       "      <td>0</td>\n",
       "      <td>...</td>\n",
       "      <td>0</td>\n",
       "      <td>0</td>\n",
       "      <td>0</td>\n",
       "      <td>0</td>\n",
       "      <td>0</td>\n",
       "      <td>0</td>\n",
       "      <td>0</td>\n",
       "      <td>0</td>\n",
       "      <td>0</td>\n",
       "      <td>0</td>\n",
       "    </tr>\n",
       "    <tr>\n",
       "      <th>fec479d0202d6e1e3f051a9ee902ff5d</th>\n",
       "      <td>44</td>\n",
       "      <td>45</td>\n",
       "      <td>0</td>\n",
       "      <td>0</td>\n",
       "      <td>22</td>\n",
       "      <td>22.000000</td>\n",
       "      <td>0</td>\n",
       "      <td>22.363248</td>\n",
       "      <td>20.787276</td>\n",
       "      <td>0</td>\n",
       "      <td>...</td>\n",
       "      <td>0</td>\n",
       "      <td>0</td>\n",
       "      <td>0</td>\n",
       "      <td>0</td>\n",
       "      <td>0</td>\n",
       "      <td>0</td>\n",
       "      <td>0</td>\n",
       "      <td>0</td>\n",
       "      <td>0</td>\n",
       "      <td>0</td>\n",
       "    </tr>\n",
       "  </tbody>\n",
       "</table>\n",
       "<p>16833 rows × 176 columns</p>\n",
       "</div>"
      ],
      "text/plain": [
       "                                  week_number  total_claims  edu_8th_or_less  \\\n",
       "uu_id                                                                          \n",
       "001cd9ae23064d7f0fd3cd327c873d8d           44            13                0   \n",
       "001cd9ae23064d7f0fd3cd327c873d8d           44            10                0   \n",
       "001cd9ae23064d7f0fd3cd327c873d8d           44            10                0   \n",
       "001cd9ae23064d7f0fd3cd327c873d8d           44            13                0   \n",
       "001cd9ae23064d7f0fd3cd327c873d8d           44            10                0   \n",
       "...                                       ...           ...              ...   \n",
       "fec479d0202d6e1e3f051a9ee902ff5d           44            26                0   \n",
       "fec479d0202d6e1e3f051a9ee902ff5d           44            30                0   \n",
       "fec479d0202d6e1e3f051a9ee902ff5d           44            34                0   \n",
       "fec479d0202d6e1e3f051a9ee902ff5d           44            21                0   \n",
       "fec479d0202d6e1e3f051a9ee902ff5d           44            45                0   \n",
       "\n",
       "                                  edu_grades_9_11  edu_hs_grad_equiv  \\\n",
       "uu_id                                                                  \n",
       "001cd9ae23064d7f0fd3cd327c873d8d                0                 14   \n",
       "001cd9ae23064d7f0fd3cd327c873d8d                0                 14   \n",
       "001cd9ae23064d7f0fd3cd327c873d8d                0                 14   \n",
       "001cd9ae23064d7f0fd3cd327c873d8d                0                 14   \n",
       "001cd9ae23064d7f0fd3cd327c873d8d                0                 14   \n",
       "...                                           ...                ...   \n",
       "fec479d0202d6e1e3f051a9ee902ff5d                0                 16   \n",
       "fec479d0202d6e1e3f051a9ee902ff5d                0                 19   \n",
       "fec479d0202d6e1e3f051a9ee902ff5d                0                 18   \n",
       "fec479d0202d6e1e3f051a9ee902ff5d                0                 22   \n",
       "fec479d0202d6e1e3f051a9ee902ff5d                0                 22   \n",
       "\n",
       "                                  edu_post_hs  edu_unknown  gender_female  \\\n",
       "uu_id                                                                       \n",
       "001cd9ae23064d7f0fd3cd327c873d8d    12.166667            0       7.500000   \n",
       "001cd9ae23064d7f0fd3cd327c873d8d    12.166667            0       7.500000   \n",
       "001cd9ae23064d7f0fd3cd327c873d8d    12.166667            0       7.500000   \n",
       "001cd9ae23064d7f0fd3cd327c873d8d    12.166667            0       7.500000   \n",
       "001cd9ae23064d7f0fd3cd327c873d8d    12.166667            0       7.500000   \n",
       "...                                       ...          ...            ...   \n",
       "fec479d0202d6e1e3f051a9ee902ff5d    19.138743            0      22.363248   \n",
       "fec479d0202d6e1e3f051a9ee902ff5d    19.138743            0      22.363248   \n",
       "fec479d0202d6e1e3f051a9ee902ff5d    12.000000            0      10.000000   \n",
       "fec479d0202d6e1e3f051a9ee902ff5d    19.138743            0      22.363248   \n",
       "fec479d0202d6e1e3f051a9ee902ff5d    22.000000            0      22.363248   \n",
       "\n",
       "                                  gender_male  gender_na  ...  \\\n",
       "uu_id                                                     ...   \n",
       "001cd9ae23064d7f0fd3cd327c873d8d    19.187500          0  ...   \n",
       "001cd9ae23064d7f0fd3cd327c873d8d    19.187500          0  ...   \n",
       "001cd9ae23064d7f0fd3cd327c873d8d    19.187500          0  ...   \n",
       "001cd9ae23064d7f0fd3cd327c873d8d    19.187500          0  ...   \n",
       "001cd9ae23064d7f0fd3cd327c873d8d    19.187500          0  ...   \n",
       "...                                       ...        ...  ...   \n",
       "fec479d0202d6e1e3f051a9ee902ff5d    20.787276          0  ...   \n",
       "fec479d0202d6e1e3f051a9ee902ff5d    20.787276          0  ...   \n",
       "fec479d0202d6e1e3f051a9ee902ff5d    24.000000          0  ...   \n",
       "fec479d0202d6e1e3f051a9ee902ff5d    20.787276          0  ...   \n",
       "fec479d0202d6e1e3f051a9ee902ff5d    20.787276          0  ...   \n",
       "\n",
       "                                  top_category_employer3_54  \\\n",
       "uu_id                                                         \n",
       "001cd9ae23064d7f0fd3cd327c873d8d                          0   \n",
       "001cd9ae23064d7f0fd3cd327c873d8d                          0   \n",
       "001cd9ae23064d7f0fd3cd327c873d8d                          0   \n",
       "001cd9ae23064d7f0fd3cd327c873d8d                          0   \n",
       "001cd9ae23064d7f0fd3cd327c873d8d                          0   \n",
       "...                                                     ...   \n",
       "fec479d0202d6e1e3f051a9ee902ff5d                          0   \n",
       "fec479d0202d6e1e3f051a9ee902ff5d                          0   \n",
       "fec479d0202d6e1e3f051a9ee902ff5d                          0   \n",
       "fec479d0202d6e1e3f051a9ee902ff5d                          0   \n",
       "fec479d0202d6e1e3f051a9ee902ff5d                          0   \n",
       "\n",
       "                                  top_category_employer3_55  \\\n",
       "uu_id                                                         \n",
       "001cd9ae23064d7f0fd3cd327c873d8d                          0   \n",
       "001cd9ae23064d7f0fd3cd327c873d8d                          0   \n",
       "001cd9ae23064d7f0fd3cd327c873d8d                          0   \n",
       "001cd9ae23064d7f0fd3cd327c873d8d                          0   \n",
       "001cd9ae23064d7f0fd3cd327c873d8d                          0   \n",
       "...                                                     ...   \n",
       "fec479d0202d6e1e3f051a9ee902ff5d                          0   \n",
       "fec479d0202d6e1e3f051a9ee902ff5d                          0   \n",
       "fec479d0202d6e1e3f051a9ee902ff5d                          0   \n",
       "fec479d0202d6e1e3f051a9ee902ff5d                          0   \n",
       "fec479d0202d6e1e3f051a9ee902ff5d                          0   \n",
       "\n",
       "                                  top_category_employer3_56  \\\n",
       "uu_id                                                         \n",
       "001cd9ae23064d7f0fd3cd327c873d8d                          0   \n",
       "001cd9ae23064d7f0fd3cd327c873d8d                          0   \n",
       "001cd9ae23064d7f0fd3cd327c873d8d                          0   \n",
       "001cd9ae23064d7f0fd3cd327c873d8d                          0   \n",
       "001cd9ae23064d7f0fd3cd327c873d8d                          0   \n",
       "...                                                     ...   \n",
       "fec479d0202d6e1e3f051a9ee902ff5d                          0   \n",
       "fec479d0202d6e1e3f051a9ee902ff5d                          1   \n",
       "fec479d0202d6e1e3f051a9ee902ff5d                          0   \n",
       "fec479d0202d6e1e3f051a9ee902ff5d                          0   \n",
       "fec479d0202d6e1e3f051a9ee902ff5d                          0   \n",
       "\n",
       "                                  top_category_employer3_61  \\\n",
       "uu_id                                                         \n",
       "001cd9ae23064d7f0fd3cd327c873d8d                          0   \n",
       "001cd9ae23064d7f0fd3cd327c873d8d                          0   \n",
       "001cd9ae23064d7f0fd3cd327c873d8d                          0   \n",
       "001cd9ae23064d7f0fd3cd327c873d8d                          0   \n",
       "001cd9ae23064d7f0fd3cd327c873d8d                          0   \n",
       "...                                                     ...   \n",
       "fec479d0202d6e1e3f051a9ee902ff5d                          0   \n",
       "fec479d0202d6e1e3f051a9ee902ff5d                          0   \n",
       "fec479d0202d6e1e3f051a9ee902ff5d                          0   \n",
       "fec479d0202d6e1e3f051a9ee902ff5d                          0   \n",
       "fec479d0202d6e1e3f051a9ee902ff5d                          0   \n",
       "\n",
       "                                  top_category_employer3_62  \\\n",
       "uu_id                                                         \n",
       "001cd9ae23064d7f0fd3cd327c873d8d                          0   \n",
       "001cd9ae23064d7f0fd3cd327c873d8d                          0   \n",
       "001cd9ae23064d7f0fd3cd327c873d8d                          0   \n",
       "001cd9ae23064d7f0fd3cd327c873d8d                          0   \n",
       "001cd9ae23064d7f0fd3cd327c873d8d                          0   \n",
       "...                                                     ...   \n",
       "fec479d0202d6e1e3f051a9ee902ff5d                          0   \n",
       "fec479d0202d6e1e3f051a9ee902ff5d                          0   \n",
       "fec479d0202d6e1e3f051a9ee902ff5d                          0   \n",
       "fec479d0202d6e1e3f051a9ee902ff5d                          0   \n",
       "fec479d0202d6e1e3f051a9ee902ff5d                          0   \n",
       "\n",
       "                                  top_category_employer3_71  \\\n",
       "uu_id                                                         \n",
       "001cd9ae23064d7f0fd3cd327c873d8d                          0   \n",
       "001cd9ae23064d7f0fd3cd327c873d8d                          0   \n",
       "001cd9ae23064d7f0fd3cd327c873d8d                          0   \n",
       "001cd9ae23064d7f0fd3cd327c873d8d                          0   \n",
       "001cd9ae23064d7f0fd3cd327c873d8d                          0   \n",
       "...                                                     ...   \n",
       "fec479d0202d6e1e3f051a9ee902ff5d                          0   \n",
       "fec479d0202d6e1e3f051a9ee902ff5d                          0   \n",
       "fec479d0202d6e1e3f051a9ee902ff5d                          0   \n",
       "fec479d0202d6e1e3f051a9ee902ff5d                          0   \n",
       "fec479d0202d6e1e3f051a9ee902ff5d                          0   \n",
       "\n",
       "                                  top_category_employer3_72  \\\n",
       "uu_id                                                         \n",
       "001cd9ae23064d7f0fd3cd327c873d8d                          0   \n",
       "001cd9ae23064d7f0fd3cd327c873d8d                          0   \n",
       "001cd9ae23064d7f0fd3cd327c873d8d                          0   \n",
       "001cd9ae23064d7f0fd3cd327c873d8d                          0   \n",
       "001cd9ae23064d7f0fd3cd327c873d8d                          0   \n",
       "...                                                     ...   \n",
       "fec479d0202d6e1e3f051a9ee902ff5d                          0   \n",
       "fec479d0202d6e1e3f051a9ee902ff5d                          0   \n",
       "fec479d0202d6e1e3f051a9ee902ff5d                          0   \n",
       "fec479d0202d6e1e3f051a9ee902ff5d                          0   \n",
       "fec479d0202d6e1e3f051a9ee902ff5d                          0   \n",
       "\n",
       "                                  top_category_employer3_81  \\\n",
       "uu_id                                                         \n",
       "001cd9ae23064d7f0fd3cd327c873d8d                          1   \n",
       "001cd9ae23064d7f0fd3cd327c873d8d                          1   \n",
       "001cd9ae23064d7f0fd3cd327c873d8d                          1   \n",
       "001cd9ae23064d7f0fd3cd327c873d8d                          1   \n",
       "001cd9ae23064d7f0fd3cd327c873d8d                          1   \n",
       "...                                                     ...   \n",
       "fec479d0202d6e1e3f051a9ee902ff5d                          0   \n",
       "fec479d0202d6e1e3f051a9ee902ff5d                          0   \n",
       "fec479d0202d6e1e3f051a9ee902ff5d                          0   \n",
       "fec479d0202d6e1e3f051a9ee902ff5d                          0   \n",
       "fec479d0202d6e1e3f051a9ee902ff5d                          0   \n",
       "\n",
       "                                  top_category_employer3_92  \\\n",
       "uu_id                                                         \n",
       "001cd9ae23064d7f0fd3cd327c873d8d                          0   \n",
       "001cd9ae23064d7f0fd3cd327c873d8d                          0   \n",
       "001cd9ae23064d7f0fd3cd327c873d8d                          0   \n",
       "001cd9ae23064d7f0fd3cd327c873d8d                          0   \n",
       "001cd9ae23064d7f0fd3cd327c873d8d                          0   \n",
       "...                                                     ...   \n",
       "fec479d0202d6e1e3f051a9ee902ff5d                          0   \n",
       "fec479d0202d6e1e3f051a9ee902ff5d                          0   \n",
       "fec479d0202d6e1e3f051a9ee902ff5d                          0   \n",
       "fec479d0202d6e1e3f051a9ee902ff5d                          0   \n",
       "fec479d0202d6e1e3f051a9ee902ff5d                          0   \n",
       "\n",
       "                                  top_category_employer3_99  \n",
       "uu_id                                                        \n",
       "001cd9ae23064d7f0fd3cd327c873d8d                          0  \n",
       "001cd9ae23064d7f0fd3cd327c873d8d                          0  \n",
       "001cd9ae23064d7f0fd3cd327c873d8d                          0  \n",
       "001cd9ae23064d7f0fd3cd327c873d8d                          0  \n",
       "001cd9ae23064d7f0fd3cd327c873d8d                          0  \n",
       "...                                                     ...  \n",
       "fec479d0202d6e1e3f051a9ee902ff5d                          0  \n",
       "fec479d0202d6e1e3f051a9ee902ff5d                          0  \n",
       "fec479d0202d6e1e3f051a9ee902ff5d                          0  \n",
       "fec479d0202d6e1e3f051a9ee902ff5d                          0  \n",
       "fec479d0202d6e1e3f051a9ee902ff5d                          0  \n",
       "\n",
       "[16833 rows x 176 columns]"
      ]
     },
     "execution_count": 176,
     "metadata": {},
     "output_type": "execute_result"
    }
   ],
   "source": [
    "Y_test_final"
   ]
  },
  {
   "cell_type": "code",
   "execution_count": 177,
   "id": "faf400a7",
   "metadata": {
    "execution": {
     "iopub.execute_input": "2023-05-10T01:33:31.808498Z",
     "iopub.status.busy": "2023-05-10T01:33:31.808148Z",
     "iopub.status.idle": "2023-05-10T01:33:31.838415Z",
     "shell.execute_reply": "2023-05-10T01:33:31.838110Z"
    }
   },
   "outputs": [
    {
     "ename": "KeyError",
     "evalue": "\"['uu_id'] not found in axis\"",
     "output_type": "error",
     "traceback": [
      "\u001b[0;31m---------------------------------------------------------------------------\u001b[0m",
      "\u001b[0;31mKeyError\u001b[0m                                  Traceback (most recent call last)",
      "Cell \u001b[0;32mIn [177], line 1\u001b[0m\n\u001b[0;32m----> 1\u001b[0m X \u001b[38;5;241m=\u001b[39m \u001b[43mfin\u001b[49m\u001b[38;5;241;43m.\u001b[39;49m\u001b[43mdrop\u001b[49m\u001b[43m(\u001b[49m\u001b[43m[\u001b[49m\u001b[38;5;124;43m'\u001b[39;49m\u001b[38;5;124;43muu_id\u001b[39;49m\u001b[38;5;124;43m'\u001b[39;49m\u001b[43m,\u001b[49m\u001b[38;5;124;43m'\u001b[39;49m\u001b[38;5;124;43mtotal_claims\u001b[39;49m\u001b[38;5;124;43m'\u001b[39;49m\u001b[43m]\u001b[49m\u001b[43m,\u001b[49m\u001b[43maxis\u001b[49m\u001b[38;5;241;43m=\u001b[39;49m\u001b[38;5;241;43m1\u001b[39;49m\u001b[43m)\u001b[49m\n\u001b[1;32m      2\u001b[0m Y\u001b[38;5;241m=\u001b[39mfin[\u001b[38;5;124m'\u001b[39m\u001b[38;5;124mtotal_claims\u001b[39m\u001b[38;5;124m'\u001b[39m]\n",
      "File \u001b[0;32m/opt/homebrew/lib/python3.9/site-packages/pandas/util/_decorators.py:331\u001b[0m, in \u001b[0;36mdeprecate_nonkeyword_arguments.<locals>.decorate.<locals>.wrapper\u001b[0;34m(*args, **kwargs)\u001b[0m\n\u001b[1;32m    325\u001b[0m \u001b[38;5;28;01mif\u001b[39;00m \u001b[38;5;28mlen\u001b[39m(args) \u001b[38;5;241m>\u001b[39m num_allow_args:\n\u001b[1;32m    326\u001b[0m     warnings\u001b[38;5;241m.\u001b[39mwarn(\n\u001b[1;32m    327\u001b[0m         msg\u001b[38;5;241m.\u001b[39mformat(arguments\u001b[38;5;241m=\u001b[39m_format_argument_list(allow_args)),\n\u001b[1;32m    328\u001b[0m         \u001b[38;5;167;01mFutureWarning\u001b[39;00m,\n\u001b[1;32m    329\u001b[0m         stacklevel\u001b[38;5;241m=\u001b[39mfind_stack_level(),\n\u001b[1;32m    330\u001b[0m     )\n\u001b[0;32m--> 331\u001b[0m \u001b[38;5;28;01mreturn\u001b[39;00m \u001b[43mfunc\u001b[49m\u001b[43m(\u001b[49m\u001b[38;5;241;43m*\u001b[39;49m\u001b[43margs\u001b[49m\u001b[43m,\u001b[49m\u001b[43m \u001b[49m\u001b[38;5;241;43m*\u001b[39;49m\u001b[38;5;241;43m*\u001b[39;49m\u001b[43mkwargs\u001b[49m\u001b[43m)\u001b[49m\n",
      "File \u001b[0;32m/opt/homebrew/lib/python3.9/site-packages/pandas/core/frame.py:5388\u001b[0m, in \u001b[0;36mDataFrame.drop\u001b[0;34m(self, labels, axis, index, columns, level, inplace, errors)\u001b[0m\n\u001b[1;32m   5240\u001b[0m \u001b[38;5;129m@deprecate_nonkeyword_arguments\u001b[39m(version\u001b[38;5;241m=\u001b[39m\u001b[38;5;28;01mNone\u001b[39;00m, allowed_args\u001b[38;5;241m=\u001b[39m[\u001b[38;5;124m\"\u001b[39m\u001b[38;5;124mself\u001b[39m\u001b[38;5;124m\"\u001b[39m, \u001b[38;5;124m\"\u001b[39m\u001b[38;5;124mlabels\u001b[39m\u001b[38;5;124m\"\u001b[39m])\n\u001b[1;32m   5241\u001b[0m \u001b[38;5;28;01mdef\u001b[39;00m \u001b[38;5;21mdrop\u001b[39m(  \u001b[38;5;66;03m# type: ignore[override]\u001b[39;00m\n\u001b[1;32m   5242\u001b[0m     \u001b[38;5;28mself\u001b[39m,\n\u001b[0;32m   (...)\u001b[0m\n\u001b[1;32m   5249\u001b[0m     errors: IgnoreRaise \u001b[38;5;241m=\u001b[39m \u001b[38;5;124m\"\u001b[39m\u001b[38;5;124mraise\u001b[39m\u001b[38;5;124m\"\u001b[39m,\n\u001b[1;32m   5250\u001b[0m ) \u001b[38;5;241m-\u001b[39m\u001b[38;5;241m>\u001b[39m DataFrame \u001b[38;5;241m|\u001b[39m \u001b[38;5;28;01mNone\u001b[39;00m:\n\u001b[1;32m   5251\u001b[0m     \u001b[38;5;124;03m\"\"\"\u001b[39;00m\n\u001b[1;32m   5252\u001b[0m \u001b[38;5;124;03m    Drop specified labels from rows or columns.\u001b[39;00m\n\u001b[1;32m   5253\u001b[0m \n\u001b[0;32m   (...)\u001b[0m\n\u001b[1;32m   5386\u001b[0m \u001b[38;5;124;03m            weight  1.0     0.8\u001b[39;00m\n\u001b[1;32m   5387\u001b[0m \u001b[38;5;124;03m    \"\"\"\u001b[39;00m\n\u001b[0;32m-> 5388\u001b[0m     \u001b[38;5;28;01mreturn\u001b[39;00m \u001b[38;5;28;43msuper\u001b[39;49m\u001b[43m(\u001b[49m\u001b[43m)\u001b[49m\u001b[38;5;241;43m.\u001b[39;49m\u001b[43mdrop\u001b[49m\u001b[43m(\u001b[49m\n\u001b[1;32m   5389\u001b[0m \u001b[43m        \u001b[49m\u001b[43mlabels\u001b[49m\u001b[38;5;241;43m=\u001b[39;49m\u001b[43mlabels\u001b[49m\u001b[43m,\u001b[49m\n\u001b[1;32m   5390\u001b[0m \u001b[43m        \u001b[49m\u001b[43maxis\u001b[49m\u001b[38;5;241;43m=\u001b[39;49m\u001b[43maxis\u001b[49m\u001b[43m,\u001b[49m\n\u001b[1;32m   5391\u001b[0m \u001b[43m        \u001b[49m\u001b[43mindex\u001b[49m\u001b[38;5;241;43m=\u001b[39;49m\u001b[43mindex\u001b[49m\u001b[43m,\u001b[49m\n\u001b[1;32m   5392\u001b[0m \u001b[43m        \u001b[49m\u001b[43mcolumns\u001b[49m\u001b[38;5;241;43m=\u001b[39;49m\u001b[43mcolumns\u001b[49m\u001b[43m,\u001b[49m\n\u001b[1;32m   5393\u001b[0m \u001b[43m        \u001b[49m\u001b[43mlevel\u001b[49m\u001b[38;5;241;43m=\u001b[39;49m\u001b[43mlevel\u001b[49m\u001b[43m,\u001b[49m\n\u001b[1;32m   5394\u001b[0m \u001b[43m        \u001b[49m\u001b[43minplace\u001b[49m\u001b[38;5;241;43m=\u001b[39;49m\u001b[43minplace\u001b[49m\u001b[43m,\u001b[49m\n\u001b[1;32m   5395\u001b[0m \u001b[43m        \u001b[49m\u001b[43merrors\u001b[49m\u001b[38;5;241;43m=\u001b[39;49m\u001b[43merrors\u001b[49m\u001b[43m,\u001b[49m\n\u001b[1;32m   5396\u001b[0m \u001b[43m    \u001b[49m\u001b[43m)\u001b[49m\n",
      "File \u001b[0;32m/opt/homebrew/lib/python3.9/site-packages/pandas/util/_decorators.py:331\u001b[0m, in \u001b[0;36mdeprecate_nonkeyword_arguments.<locals>.decorate.<locals>.wrapper\u001b[0;34m(*args, **kwargs)\u001b[0m\n\u001b[1;32m    325\u001b[0m \u001b[38;5;28;01mif\u001b[39;00m \u001b[38;5;28mlen\u001b[39m(args) \u001b[38;5;241m>\u001b[39m num_allow_args:\n\u001b[1;32m    326\u001b[0m     warnings\u001b[38;5;241m.\u001b[39mwarn(\n\u001b[1;32m    327\u001b[0m         msg\u001b[38;5;241m.\u001b[39mformat(arguments\u001b[38;5;241m=\u001b[39m_format_argument_list(allow_args)),\n\u001b[1;32m    328\u001b[0m         \u001b[38;5;167;01mFutureWarning\u001b[39;00m,\n\u001b[1;32m    329\u001b[0m         stacklevel\u001b[38;5;241m=\u001b[39mfind_stack_level(),\n\u001b[1;32m    330\u001b[0m     )\n\u001b[0;32m--> 331\u001b[0m \u001b[38;5;28;01mreturn\u001b[39;00m \u001b[43mfunc\u001b[49m\u001b[43m(\u001b[49m\u001b[38;5;241;43m*\u001b[39;49m\u001b[43margs\u001b[49m\u001b[43m,\u001b[49m\u001b[43m \u001b[49m\u001b[38;5;241;43m*\u001b[39;49m\u001b[38;5;241;43m*\u001b[39;49m\u001b[43mkwargs\u001b[49m\u001b[43m)\u001b[49m\n",
      "File \u001b[0;32m/opt/homebrew/lib/python3.9/site-packages/pandas/core/generic.py:4505\u001b[0m, in \u001b[0;36mNDFrame.drop\u001b[0;34m(self, labels, axis, index, columns, level, inplace, errors)\u001b[0m\n\u001b[1;32m   4503\u001b[0m \u001b[38;5;28;01mfor\u001b[39;00m axis, labels \u001b[38;5;129;01min\u001b[39;00m axes\u001b[38;5;241m.\u001b[39mitems():\n\u001b[1;32m   4504\u001b[0m     \u001b[38;5;28;01mif\u001b[39;00m labels \u001b[38;5;129;01mis\u001b[39;00m \u001b[38;5;129;01mnot\u001b[39;00m \u001b[38;5;28;01mNone\u001b[39;00m:\n\u001b[0;32m-> 4505\u001b[0m         obj \u001b[38;5;241m=\u001b[39m \u001b[43mobj\u001b[49m\u001b[38;5;241;43m.\u001b[39;49m\u001b[43m_drop_axis\u001b[49m\u001b[43m(\u001b[49m\u001b[43mlabels\u001b[49m\u001b[43m,\u001b[49m\u001b[43m \u001b[49m\u001b[43maxis\u001b[49m\u001b[43m,\u001b[49m\u001b[43m \u001b[49m\u001b[43mlevel\u001b[49m\u001b[38;5;241;43m=\u001b[39;49m\u001b[43mlevel\u001b[49m\u001b[43m,\u001b[49m\u001b[43m \u001b[49m\u001b[43merrors\u001b[49m\u001b[38;5;241;43m=\u001b[39;49m\u001b[43merrors\u001b[49m\u001b[43m)\u001b[49m\n\u001b[1;32m   4507\u001b[0m \u001b[38;5;28;01mif\u001b[39;00m inplace:\n\u001b[1;32m   4508\u001b[0m     \u001b[38;5;28mself\u001b[39m\u001b[38;5;241m.\u001b[39m_update_inplace(obj)\n",
      "File \u001b[0;32m/opt/homebrew/lib/python3.9/site-packages/pandas/core/generic.py:4546\u001b[0m, in \u001b[0;36mNDFrame._drop_axis\u001b[0;34m(self, labels, axis, level, errors, only_slice)\u001b[0m\n\u001b[1;32m   4544\u001b[0m         new_axis \u001b[38;5;241m=\u001b[39m axis\u001b[38;5;241m.\u001b[39mdrop(labels, level\u001b[38;5;241m=\u001b[39mlevel, errors\u001b[38;5;241m=\u001b[39merrors)\n\u001b[1;32m   4545\u001b[0m     \u001b[38;5;28;01melse\u001b[39;00m:\n\u001b[0;32m-> 4546\u001b[0m         new_axis \u001b[38;5;241m=\u001b[39m \u001b[43maxis\u001b[49m\u001b[38;5;241;43m.\u001b[39;49m\u001b[43mdrop\u001b[49m\u001b[43m(\u001b[49m\u001b[43mlabels\u001b[49m\u001b[43m,\u001b[49m\u001b[43m \u001b[49m\u001b[43merrors\u001b[49m\u001b[38;5;241;43m=\u001b[39;49m\u001b[43merrors\u001b[49m\u001b[43m)\u001b[49m\n\u001b[1;32m   4547\u001b[0m     indexer \u001b[38;5;241m=\u001b[39m axis\u001b[38;5;241m.\u001b[39mget_indexer(new_axis)\n\u001b[1;32m   4549\u001b[0m \u001b[38;5;66;03m# Case for non-unique axis\u001b[39;00m\n\u001b[1;32m   4550\u001b[0m \u001b[38;5;28;01melse\u001b[39;00m:\n",
      "File \u001b[0;32m/opt/homebrew/lib/python3.9/site-packages/pandas/core/indexes/base.py:6975\u001b[0m, in \u001b[0;36mIndex.drop\u001b[0;34m(self, labels, errors)\u001b[0m\n\u001b[1;32m   6973\u001b[0m \u001b[38;5;28;01mif\u001b[39;00m mask\u001b[38;5;241m.\u001b[39many():\n\u001b[1;32m   6974\u001b[0m     \u001b[38;5;28;01mif\u001b[39;00m errors \u001b[38;5;241m!=\u001b[39m \u001b[38;5;124m\"\u001b[39m\u001b[38;5;124mignore\u001b[39m\u001b[38;5;124m\"\u001b[39m:\n\u001b[0;32m-> 6975\u001b[0m         \u001b[38;5;28;01mraise\u001b[39;00m \u001b[38;5;167;01mKeyError\u001b[39;00m(\u001b[38;5;124mf\u001b[39m\u001b[38;5;124m\"\u001b[39m\u001b[38;5;132;01m{\u001b[39;00m\u001b[38;5;28mlist\u001b[39m(labels[mask])\u001b[38;5;132;01m}\u001b[39;00m\u001b[38;5;124m not found in axis\u001b[39m\u001b[38;5;124m\"\u001b[39m)\n\u001b[1;32m   6976\u001b[0m     indexer \u001b[38;5;241m=\u001b[39m indexer[\u001b[38;5;241m~\u001b[39mmask]\n\u001b[1;32m   6977\u001b[0m \u001b[38;5;28;01mreturn\u001b[39;00m \u001b[38;5;28mself\u001b[39m\u001b[38;5;241m.\u001b[39mdelete(indexer)\n",
      "\u001b[0;31mKeyError\u001b[0m: \"['uu_id'] not found in axis\""
     ]
    }
   ],
   "source": [
    "X = fin.drop(['uu_id','total_claims'],axis=1)\n",
    "Y=fin['total_claims']"
   ]
  },
  {
   "cell_type": "code",
   "execution_count": 178,
   "id": "af4fd3bc",
   "metadata": {
    "execution": {
     "iopub.execute_input": "2023-05-10T01:33:31.840056Z",
     "iopub.status.busy": "2023-05-10T01:33:31.839937Z",
     "iopub.status.idle": "2023-05-10T01:33:31.843480Z",
     "shell.execute_reply": "2023-05-10T01:33:31.842927Z"
    }
   },
   "outputs": [],
   "source": [
    "final_data1 = final_data.drop(['timeperiod','tract_x','tract_name_x','tract_y','tract_name_y','countyfips_y'],axis=1)"
   ]
  },
  {
   "cell_type": "code",
   "execution_count": 179,
   "id": "9641d753",
   "metadata": {
    "execution": {
     "iopub.execute_input": "2023-05-10T01:33:31.845148Z",
     "iopub.status.busy": "2023-05-10T01:33:31.845038Z",
     "iopub.status.idle": "2023-05-10T01:33:31.856738Z",
     "shell.execute_reply": "2023-05-10T01:33:31.856465Z"
    }
   },
   "outputs": [],
   "source": [
    "fin = pd.get_dummies(final_data1,columns = ['week_number','countyfips_x','top_category_employer1','top_category_employer2','top_category_employer3'])"
   ]
  },
  {
   "cell_type": "code",
   "execution_count": 180,
   "id": "cff3dc67",
   "metadata": {
    "execution": {
     "iopub.execute_input": "2023-05-10T01:33:31.858605Z",
     "iopub.status.busy": "2023-05-10T01:33:31.858490Z",
     "iopub.status.idle": "2023-05-10T01:33:31.862396Z",
     "shell.execute_reply": "2023-05-10T01:33:31.862047Z"
    }
   },
   "outputs": [],
   "source": [
    "X = fin.drop(['uu_id','total_claims'],axis=1)\n",
    "Y=fin['total_claims']"
   ]
  },
  {
   "cell_type": "code",
   "execution_count": 181,
   "id": "71f2b16b",
   "metadata": {
    "execution": {
     "iopub.execute_input": "2023-05-10T01:33:31.864140Z",
     "iopub.status.busy": "2023-05-10T01:33:31.864037Z",
     "iopub.status.idle": "2023-05-10T01:33:31.873976Z",
     "shell.execute_reply": "2023-05-10T01:33:31.873692Z"
    }
   },
   "outputs": [],
   "source": [
    "from sklearn.model_selection import train_test_split\n",
    "X_train, X_test,Y_train, Y_test = train_test_split(X,Y,test_size = 0.2, random_state=32)"
   ]
  },
  {
   "cell_type": "code",
   "execution_count": 182,
   "id": "14adac88",
   "metadata": {
    "execution": {
     "iopub.execute_input": "2023-05-10T01:33:31.876194Z",
     "iopub.status.busy": "2023-05-10T01:33:31.876013Z",
     "iopub.status.idle": "2023-05-10T01:33:38.398492Z",
     "shell.execute_reply": "2023-05-10T01:33:38.398113Z"
    }
   },
   "outputs": [],
   "source": [
    "import xgboost as xgb\n",
    "model = xgb.XGBRegressor(n_estimators=500, max_depth=4,eta=0.1).fit(X_train,Y_train)\n",
    "y_pred = model.predict(X_test)"
   ]
  },
  {
   "cell_type": "code",
   "execution_count": 183,
   "id": "ccda56c1",
   "metadata": {
    "execution": {
     "iopub.execute_input": "2023-05-10T01:33:38.400615Z",
     "iopub.status.busy": "2023-05-10T01:33:38.400490Z",
     "iopub.status.idle": "2023-05-10T01:33:38.414278Z",
     "shell.execute_reply": "2023-05-10T01:33:38.413895Z"
    }
   },
   "outputs": [],
   "source": [
    "df_test = pred_data.merge(fin,how='left',on= 'uu_id')"
   ]
  },
  {
   "cell_type": "code",
   "execution_count": 184,
   "id": "f12d5408",
   "metadata": {
    "execution": {
     "iopub.execute_input": "2023-05-10T01:33:38.416223Z",
     "iopub.status.busy": "2023-05-10T01:33:38.416108Z",
     "iopub.status.idle": "2023-05-10T01:33:38.419184Z",
     "shell.execute_reply": "2023-05-10T01:33:38.418868Z"
    }
   },
   "outputs": [],
   "source": [
    "X_df_test = df_test.drop(['uu_id','total_claims'],axis=1)\n",
    "Y_df_test = df_test['total_claims']"
   ]
  },
  {
   "cell_type": "code",
   "execution_count": 185,
   "id": "9e7117cb",
   "metadata": {
    "execution": {
     "iopub.execute_input": "2023-05-10T01:33:38.420917Z",
     "iopub.status.busy": "2023-05-10T01:33:38.420806Z",
     "iopub.status.idle": "2023-05-10T01:33:38.442389Z",
     "shell.execute_reply": "2023-05-10T01:33:38.441890Z"
    }
   },
   "outputs": [
    {
     "ename": "ValueError",
     "evalue": "Feature shape mismatch, expected: 174, got 175",
     "output_type": "error",
     "traceback": [
      "\u001b[0;31m---------------------------------------------------------------------------\u001b[0m",
      "\u001b[0;31mValueError\u001b[0m                                Traceback (most recent call last)",
      "Cell \u001b[0;32mIn [185], line 1\u001b[0m\n\u001b[0;32m----> 1\u001b[0m prediction \u001b[38;5;241m=\u001b[39m \u001b[43mmodel\u001b[49m\u001b[38;5;241;43m.\u001b[39;49m\u001b[43mpredict\u001b[49m\u001b[43m(\u001b[49m\u001b[43mX_df_test\u001b[49m\u001b[43m)\u001b[49m\n",
      "File \u001b[0;32m/opt/homebrew/lib/python3.9/site-packages/xgboost/sklearn.py:1114\u001b[0m, in \u001b[0;36mXGBModel.predict\u001b[0;34m(self, X, output_margin, ntree_limit, validate_features, base_margin, iteration_range)\u001b[0m\n\u001b[1;32m   1112\u001b[0m \u001b[38;5;28;01mif\u001b[39;00m \u001b[38;5;28mself\u001b[39m\u001b[38;5;241m.\u001b[39m_can_use_inplace_predict():\n\u001b[1;32m   1113\u001b[0m     \u001b[38;5;28;01mtry\u001b[39;00m:\n\u001b[0;32m-> 1114\u001b[0m         predts \u001b[38;5;241m=\u001b[39m \u001b[38;5;28;43mself\u001b[39;49m\u001b[38;5;241;43m.\u001b[39;49m\u001b[43mget_booster\u001b[49m\u001b[43m(\u001b[49m\u001b[43m)\u001b[49m\u001b[38;5;241;43m.\u001b[39;49m\u001b[43minplace_predict\u001b[49m\u001b[43m(\u001b[49m\n\u001b[1;32m   1115\u001b[0m \u001b[43m            \u001b[49m\u001b[43mdata\u001b[49m\u001b[38;5;241;43m=\u001b[39;49m\u001b[43mX\u001b[49m\u001b[43m,\u001b[49m\n\u001b[1;32m   1116\u001b[0m \u001b[43m            \u001b[49m\u001b[43miteration_range\u001b[49m\u001b[38;5;241;43m=\u001b[39;49m\u001b[43miteration_range\u001b[49m\u001b[43m,\u001b[49m\n\u001b[1;32m   1117\u001b[0m \u001b[43m            \u001b[49m\u001b[43mpredict_type\u001b[49m\u001b[38;5;241;43m=\u001b[39;49m\u001b[38;5;124;43m\"\u001b[39;49m\u001b[38;5;124;43mmargin\u001b[39;49m\u001b[38;5;124;43m\"\u001b[39;49m\u001b[43m \u001b[49m\u001b[38;5;28;43;01mif\u001b[39;49;00m\u001b[43m \u001b[49m\u001b[43moutput_margin\u001b[49m\u001b[43m \u001b[49m\u001b[38;5;28;43;01melse\u001b[39;49;00m\u001b[43m \u001b[49m\u001b[38;5;124;43m\"\u001b[39;49m\u001b[38;5;124;43mvalue\u001b[39;49m\u001b[38;5;124;43m\"\u001b[39;49m\u001b[43m,\u001b[49m\n\u001b[1;32m   1118\u001b[0m \u001b[43m            \u001b[49m\u001b[43mmissing\u001b[49m\u001b[38;5;241;43m=\u001b[39;49m\u001b[38;5;28;43mself\u001b[39;49m\u001b[38;5;241;43m.\u001b[39;49m\u001b[43mmissing\u001b[49m\u001b[43m,\u001b[49m\n\u001b[1;32m   1119\u001b[0m \u001b[43m            \u001b[49m\u001b[43mbase_margin\u001b[49m\u001b[38;5;241;43m=\u001b[39;49m\u001b[43mbase_margin\u001b[49m\u001b[43m,\u001b[49m\n\u001b[1;32m   1120\u001b[0m \u001b[43m            \u001b[49m\u001b[43mvalidate_features\u001b[49m\u001b[38;5;241;43m=\u001b[39;49m\u001b[43mvalidate_features\u001b[49m\u001b[43m,\u001b[49m\n\u001b[1;32m   1121\u001b[0m \u001b[43m        \u001b[49m\u001b[43m)\u001b[49m\n\u001b[1;32m   1122\u001b[0m         \u001b[38;5;28;01mif\u001b[39;00m _is_cupy_array(predts):\n\u001b[1;32m   1123\u001b[0m             \u001b[38;5;28;01mimport\u001b[39;00m \u001b[38;5;21;01mcupy\u001b[39;00m  \u001b[38;5;66;03m# pylint: disable=import-error\u001b[39;00m\n",
      "File \u001b[0;32m/opt/homebrew/lib/python3.9/site-packages/xgboost/core.py:2269\u001b[0m, in \u001b[0;36mBooster.inplace_predict\u001b[0;34m(self, data, iteration_range, predict_type, missing, validate_features, base_margin, strict_shape)\u001b[0m\n\u001b[1;32m   2265\u001b[0m         \u001b[38;5;28;01mraise\u001b[39;00m \u001b[38;5;167;01mTypeError\u001b[39;00m(\n\u001b[1;32m   2266\u001b[0m             \u001b[38;5;124m\"\u001b[39m\u001b[38;5;124m`shape` attribute is required when `validate_features` is True.\u001b[39m\u001b[38;5;124m\"\u001b[39m\n\u001b[1;32m   2267\u001b[0m         )\n\u001b[1;32m   2268\u001b[0m     \u001b[38;5;28;01mif\u001b[39;00m \u001b[38;5;28mlen\u001b[39m(data\u001b[38;5;241m.\u001b[39mshape) \u001b[38;5;241m!=\u001b[39m \u001b[38;5;241m1\u001b[39m \u001b[38;5;129;01mand\u001b[39;00m \u001b[38;5;28mself\u001b[39m\u001b[38;5;241m.\u001b[39mnum_features() \u001b[38;5;241m!=\u001b[39m data\u001b[38;5;241m.\u001b[39mshape[\u001b[38;5;241m1\u001b[39m]:\n\u001b[0;32m-> 2269\u001b[0m         \u001b[38;5;28;01mraise\u001b[39;00m \u001b[38;5;167;01mValueError\u001b[39;00m(\n\u001b[1;32m   2270\u001b[0m             \u001b[38;5;124mf\u001b[39m\u001b[38;5;124m\"\u001b[39m\u001b[38;5;124mFeature shape mismatch, expected: \u001b[39m\u001b[38;5;132;01m{\u001b[39;00m\u001b[38;5;28mself\u001b[39m\u001b[38;5;241m.\u001b[39mnum_features()\u001b[38;5;132;01m}\u001b[39;00m\u001b[38;5;124m, \u001b[39m\u001b[38;5;124m\"\u001b[39m\n\u001b[1;32m   2271\u001b[0m             \u001b[38;5;124mf\u001b[39m\u001b[38;5;124m\"\u001b[39m\u001b[38;5;124mgot \u001b[39m\u001b[38;5;132;01m{\u001b[39;00mdata\u001b[38;5;241m.\u001b[39mshape[\u001b[38;5;241m1\u001b[39m]\u001b[38;5;132;01m}\u001b[39;00m\u001b[38;5;124m\"\u001b[39m\n\u001b[1;32m   2272\u001b[0m         )\n\u001b[1;32m   2274\u001b[0m \u001b[38;5;28;01mfrom\u001b[39;00m \u001b[38;5;21;01m.\u001b[39;00m\u001b[38;5;21;01mdata\u001b[39;00m \u001b[38;5;28;01mimport\u001b[39;00m (\n\u001b[1;32m   2275\u001b[0m     _array_interface,\n\u001b[1;32m   2276\u001b[0m     _is_cudf_df,\n\u001b[0;32m   (...)\u001b[0m\n\u001b[1;32m   2279\u001b[0m     _transform_pandas_df,\n\u001b[1;32m   2280\u001b[0m )\n\u001b[1;32m   2282\u001b[0m enable_categorical \u001b[38;5;241m=\u001b[39m _has_categorical(\u001b[38;5;28mself\u001b[39m, data)\n",
      "\u001b[0;31mValueError\u001b[0m: Feature shape mismatch, expected: 174, got 175"
     ]
    }
   ],
   "source": [
    "prediction = model.predict(X_df_test)"
   ]
  },
  {
   "cell_type": "code",
   "execution_count": 186,
   "id": "fd859045",
   "metadata": {
    "execution": {
     "iopub.execute_input": "2023-05-10T01:33:38.444430Z",
     "iopub.status.busy": "2023-05-10T01:33:38.444301Z",
     "iopub.status.idle": "2023-05-10T01:33:38.454386Z",
     "shell.execute_reply": "2023-05-10T01:33:38.454051Z"
    }
   },
   "outputs": [
    {
     "data": {
      "text/html": [
       "<div>\n",
       "<style scoped>\n",
       "    .dataframe tbody tr th:only-of-type {\n",
       "        vertical-align: middle;\n",
       "    }\n",
       "\n",
       "    .dataframe tbody tr th {\n",
       "        vertical-align: top;\n",
       "    }\n",
       "\n",
       "    .dataframe thead th {\n",
       "        text-align: right;\n",
       "    }\n",
       "</style>\n",
       "<table border=\"1\" class=\"dataframe\">\n",
       "  <thead>\n",
       "    <tr style=\"text-align: right;\">\n",
       "      <th></th>\n",
       "      <th>uu_id</th>\n",
       "      <th>week_number</th>\n",
       "      <th>total_claims</th>\n",
       "      <th>edu_8th_or_less</th>\n",
       "      <th>edu_grades_9_11</th>\n",
       "      <th>edu_hs_grad_equiv</th>\n",
       "      <th>edu_post_hs</th>\n",
       "      <th>edu_unknown</th>\n",
       "      <th>gender_female</th>\n",
       "      <th>gender_male</th>\n",
       "      <th>...</th>\n",
       "      <th>top_category_employer3_54</th>\n",
       "      <th>top_category_employer3_55</th>\n",
       "      <th>top_category_employer3_56</th>\n",
       "      <th>top_category_employer3_61</th>\n",
       "      <th>top_category_employer3_62</th>\n",
       "      <th>top_category_employer3_71</th>\n",
       "      <th>top_category_employer3_72</th>\n",
       "      <th>top_category_employer3_81</th>\n",
       "      <th>top_category_employer3_92</th>\n",
       "      <th>top_category_employer3_99</th>\n",
       "    </tr>\n",
       "  </thead>\n",
       "  <tbody>\n",
       "    <tr>\n",
       "      <th>0</th>\n",
       "      <td>5bf51fc2e162d6faf9e3cf79e4198378</td>\n",
       "      <td>44</td>\n",
       "      <td>20</td>\n",
       "      <td>0</td>\n",
       "      <td>0</td>\n",
       "      <td>11</td>\n",
       "      <td>9.166667</td>\n",
       "      <td>0</td>\n",
       "      <td>17.416667</td>\n",
       "      <td>14.800000</td>\n",
       "      <td>...</td>\n",
       "      <td>0</td>\n",
       "      <td>0</td>\n",
       "      <td>0</td>\n",
       "      <td>0</td>\n",
       "      <td>0</td>\n",
       "      <td>0</td>\n",
       "      <td>0</td>\n",
       "      <td>0</td>\n",
       "      <td>0</td>\n",
       "      <td>0</td>\n",
       "    </tr>\n",
       "    <tr>\n",
       "      <th>1</th>\n",
       "      <td>5bf51fc2e162d6faf9e3cf79e4198378</td>\n",
       "      <td>44</td>\n",
       "      <td>11</td>\n",
       "      <td>0</td>\n",
       "      <td>0</td>\n",
       "      <td>13</td>\n",
       "      <td>9.166667</td>\n",
       "      <td>0</td>\n",
       "      <td>17.416667</td>\n",
       "      <td>14.800000</td>\n",
       "      <td>...</td>\n",
       "      <td>0</td>\n",
       "      <td>0</td>\n",
       "      <td>0</td>\n",
       "      <td>0</td>\n",
       "      <td>0</td>\n",
       "      <td>0</td>\n",
       "      <td>0</td>\n",
       "      <td>0</td>\n",
       "      <td>0</td>\n",
       "      <td>0</td>\n",
       "    </tr>\n",
       "    <tr>\n",
       "      <th>2</th>\n",
       "      <td>5bf51fc2e162d6faf9e3cf79e4198378</td>\n",
       "      <td>44</td>\n",
       "      <td>11</td>\n",
       "      <td>0</td>\n",
       "      <td>0</td>\n",
       "      <td>13</td>\n",
       "      <td>9.166667</td>\n",
       "      <td>0</td>\n",
       "      <td>17.416667</td>\n",
       "      <td>14.800000</td>\n",
       "      <td>...</td>\n",
       "      <td>0</td>\n",
       "      <td>0</td>\n",
       "      <td>0</td>\n",
       "      <td>0</td>\n",
       "      <td>0</td>\n",
       "      <td>0</td>\n",
       "      <td>0</td>\n",
       "      <td>0</td>\n",
       "      <td>0</td>\n",
       "      <td>0</td>\n",
       "    </tr>\n",
       "    <tr>\n",
       "      <th>3</th>\n",
       "      <td>5bf51fc2e162d6faf9e3cf79e4198378</td>\n",
       "      <td>44</td>\n",
       "      <td>20</td>\n",
       "      <td>0</td>\n",
       "      <td>0</td>\n",
       "      <td>13</td>\n",
       "      <td>9.166667</td>\n",
       "      <td>0</td>\n",
       "      <td>17.416667</td>\n",
       "      <td>14.800000</td>\n",
       "      <td>...</td>\n",
       "      <td>0</td>\n",
       "      <td>0</td>\n",
       "      <td>0</td>\n",
       "      <td>0</td>\n",
       "      <td>0</td>\n",
       "      <td>0</td>\n",
       "      <td>0</td>\n",
       "      <td>0</td>\n",
       "      <td>0</td>\n",
       "      <td>0</td>\n",
       "    </tr>\n",
       "    <tr>\n",
       "      <th>4</th>\n",
       "      <td>5bf51fc2e162d6faf9e3cf79e4198378</td>\n",
       "      <td>44</td>\n",
       "      <td>20</td>\n",
       "      <td>0</td>\n",
       "      <td>0</td>\n",
       "      <td>13</td>\n",
       "      <td>9.166667</td>\n",
       "      <td>0</td>\n",
       "      <td>17.416667</td>\n",
       "      <td>14.800000</td>\n",
       "      <td>...</td>\n",
       "      <td>0</td>\n",
       "      <td>0</td>\n",
       "      <td>0</td>\n",
       "      <td>0</td>\n",
       "      <td>0</td>\n",
       "      <td>0</td>\n",
       "      <td>0</td>\n",
       "      <td>0</td>\n",
       "      <td>0</td>\n",
       "      <td>0</td>\n",
       "    </tr>\n",
       "    <tr>\n",
       "      <th>...</th>\n",
       "      <td>...</td>\n",
       "      <td>...</td>\n",
       "      <td>...</td>\n",
       "      <td>...</td>\n",
       "      <td>...</td>\n",
       "      <td>...</td>\n",
       "      <td>...</td>\n",
       "      <td>...</td>\n",
       "      <td>...</td>\n",
       "      <td>...</td>\n",
       "      <td>...</td>\n",
       "      <td>...</td>\n",
       "      <td>...</td>\n",
       "      <td>...</td>\n",
       "      <td>...</td>\n",
       "      <td>...</td>\n",
       "      <td>...</td>\n",
       "      <td>...</td>\n",
       "      <td>...</td>\n",
       "      <td>...</td>\n",
       "      <td>...</td>\n",
       "    </tr>\n",
       "    <tr>\n",
       "      <th>16828</th>\n",
       "      <td>932a58530abff8a48558e2a15639d453</td>\n",
       "      <td>44</td>\n",
       "      <td>17</td>\n",
       "      <td>0</td>\n",
       "      <td>0</td>\n",
       "      <td>17</td>\n",
       "      <td>0.000000</td>\n",
       "      <td>0</td>\n",
       "      <td>17.859649</td>\n",
       "      <td>17.985075</td>\n",
       "      <td>...</td>\n",
       "      <td>0</td>\n",
       "      <td>0</td>\n",
       "      <td>0</td>\n",
       "      <td>0</td>\n",
       "      <td>0</td>\n",
       "      <td>0</td>\n",
       "      <td>0</td>\n",
       "      <td>1</td>\n",
       "      <td>0</td>\n",
       "      <td>0</td>\n",
       "    </tr>\n",
       "    <tr>\n",
       "      <th>16829</th>\n",
       "      <td>932a58530abff8a48558e2a15639d453</td>\n",
       "      <td>44</td>\n",
       "      <td>11</td>\n",
       "      <td>0</td>\n",
       "      <td>0</td>\n",
       "      <td>17</td>\n",
       "      <td>14.539683</td>\n",
       "      <td>0</td>\n",
       "      <td>17.859649</td>\n",
       "      <td>17.985075</td>\n",
       "      <td>...</td>\n",
       "      <td>0</td>\n",
       "      <td>0</td>\n",
       "      <td>0</td>\n",
       "      <td>0</td>\n",
       "      <td>0</td>\n",
       "      <td>0</td>\n",
       "      <td>0</td>\n",
       "      <td>1</td>\n",
       "      <td>0</td>\n",
       "      <td>0</td>\n",
       "    </tr>\n",
       "    <tr>\n",
       "      <th>16830</th>\n",
       "      <td>932a58530abff8a48558e2a15639d453</td>\n",
       "      <td>44</td>\n",
       "      <td>25</td>\n",
       "      <td>0</td>\n",
       "      <td>15</td>\n",
       "      <td>10</td>\n",
       "      <td>0.000000</td>\n",
       "      <td>0</td>\n",
       "      <td>17.859649</td>\n",
       "      <td>17.985075</td>\n",
       "      <td>...</td>\n",
       "      <td>0</td>\n",
       "      <td>0</td>\n",
       "      <td>0</td>\n",
       "      <td>0</td>\n",
       "      <td>0</td>\n",
       "      <td>0</td>\n",
       "      <td>0</td>\n",
       "      <td>1</td>\n",
       "      <td>0</td>\n",
       "      <td>0</td>\n",
       "    </tr>\n",
       "    <tr>\n",
       "      <th>16831</th>\n",
       "      <td>932a58530abff8a48558e2a15639d453</td>\n",
       "      <td>44</td>\n",
       "      <td>13</td>\n",
       "      <td>0</td>\n",
       "      <td>0</td>\n",
       "      <td>17</td>\n",
       "      <td>14.539683</td>\n",
       "      <td>0</td>\n",
       "      <td>17.859649</td>\n",
       "      <td>17.985075</td>\n",
       "      <td>...</td>\n",
       "      <td>0</td>\n",
       "      <td>0</td>\n",
       "      <td>0</td>\n",
       "      <td>0</td>\n",
       "      <td>0</td>\n",
       "      <td>1</td>\n",
       "      <td>0</td>\n",
       "      <td>0</td>\n",
       "      <td>0</td>\n",
       "      <td>0</td>\n",
       "    </tr>\n",
       "    <tr>\n",
       "      <th>16832</th>\n",
       "      <td>932a58530abff8a48558e2a15639d453</td>\n",
       "      <td>44</td>\n",
       "      <td>30</td>\n",
       "      <td>0</td>\n",
       "      <td>0</td>\n",
       "      <td>14</td>\n",
       "      <td>16.000000</td>\n",
       "      <td>0</td>\n",
       "      <td>12.000000</td>\n",
       "      <td>18.000000</td>\n",
       "      <td>...</td>\n",
       "      <td>0</td>\n",
       "      <td>0</td>\n",
       "      <td>1</td>\n",
       "      <td>0</td>\n",
       "      <td>0</td>\n",
       "      <td>0</td>\n",
       "      <td>0</td>\n",
       "      <td>0</td>\n",
       "      <td>0</td>\n",
       "      <td>0</td>\n",
       "    </tr>\n",
       "  </tbody>\n",
       "</table>\n",
       "<p>16833 rows × 177 columns</p>\n",
       "</div>"
      ],
      "text/plain": [
       "                                  uu_id  week_number  total_claims  \\\n",
       "0      5bf51fc2e162d6faf9e3cf79e4198378           44            20   \n",
       "1      5bf51fc2e162d6faf9e3cf79e4198378           44            11   \n",
       "2      5bf51fc2e162d6faf9e3cf79e4198378           44            11   \n",
       "3      5bf51fc2e162d6faf9e3cf79e4198378           44            20   \n",
       "4      5bf51fc2e162d6faf9e3cf79e4198378           44            20   \n",
       "...                                 ...          ...           ...   \n",
       "16828  932a58530abff8a48558e2a15639d453           44            17   \n",
       "16829  932a58530abff8a48558e2a15639d453           44            11   \n",
       "16830  932a58530abff8a48558e2a15639d453           44            25   \n",
       "16831  932a58530abff8a48558e2a15639d453           44            13   \n",
       "16832  932a58530abff8a48558e2a15639d453           44            30   \n",
       "\n",
       "       edu_8th_or_less  edu_grades_9_11  edu_hs_grad_equiv  edu_post_hs  \\\n",
       "0                    0                0                 11     9.166667   \n",
       "1                    0                0                 13     9.166667   \n",
       "2                    0                0                 13     9.166667   \n",
       "3                    0                0                 13     9.166667   \n",
       "4                    0                0                 13     9.166667   \n",
       "...                ...              ...                ...          ...   \n",
       "16828                0                0                 17     0.000000   \n",
       "16829                0                0                 17    14.539683   \n",
       "16830                0               15                 10     0.000000   \n",
       "16831                0                0                 17    14.539683   \n",
       "16832                0                0                 14    16.000000   \n",
       "\n",
       "       edu_unknown  gender_female  gender_male  ...  \\\n",
       "0                0      17.416667    14.800000  ...   \n",
       "1                0      17.416667    14.800000  ...   \n",
       "2                0      17.416667    14.800000  ...   \n",
       "3                0      17.416667    14.800000  ...   \n",
       "4                0      17.416667    14.800000  ...   \n",
       "...            ...            ...          ...  ...   \n",
       "16828            0      17.859649    17.985075  ...   \n",
       "16829            0      17.859649    17.985075  ...   \n",
       "16830            0      17.859649    17.985075  ...   \n",
       "16831            0      17.859649    17.985075  ...   \n",
       "16832            0      12.000000    18.000000  ...   \n",
       "\n",
       "       top_category_employer3_54  top_category_employer3_55  \\\n",
       "0                              0                          0   \n",
       "1                              0                          0   \n",
       "2                              0                          0   \n",
       "3                              0                          0   \n",
       "4                              0                          0   \n",
       "...                          ...                        ...   \n",
       "16828                          0                          0   \n",
       "16829                          0                          0   \n",
       "16830                          0                          0   \n",
       "16831                          0                          0   \n",
       "16832                          0                          0   \n",
       "\n",
       "       top_category_employer3_56  top_category_employer3_61  \\\n",
       "0                              0                          0   \n",
       "1                              0                          0   \n",
       "2                              0                          0   \n",
       "3                              0                          0   \n",
       "4                              0                          0   \n",
       "...                          ...                        ...   \n",
       "16828                          0                          0   \n",
       "16829                          0                          0   \n",
       "16830                          0                          0   \n",
       "16831                          0                          0   \n",
       "16832                          1                          0   \n",
       "\n",
       "       top_category_employer3_62  top_category_employer3_71  \\\n",
       "0                              0                          0   \n",
       "1                              0                          0   \n",
       "2                              0                          0   \n",
       "3                              0                          0   \n",
       "4                              0                          0   \n",
       "...                          ...                        ...   \n",
       "16828                          0                          0   \n",
       "16829                          0                          0   \n",
       "16830                          0                          0   \n",
       "16831                          0                          1   \n",
       "16832                          0                          0   \n",
       "\n",
       "       top_category_employer3_72  top_category_employer3_81  \\\n",
       "0                              0                          0   \n",
       "1                              0                          0   \n",
       "2                              0                          0   \n",
       "3                              0                          0   \n",
       "4                              0                          0   \n",
       "...                          ...                        ...   \n",
       "16828                          0                          1   \n",
       "16829                          0                          1   \n",
       "16830                          0                          1   \n",
       "16831                          0                          0   \n",
       "16832                          0                          0   \n",
       "\n",
       "       top_category_employer3_92  top_category_employer3_99  \n",
       "0                              0                          0  \n",
       "1                              0                          0  \n",
       "2                              0                          0  \n",
       "3                              0                          0  \n",
       "4                              0                          0  \n",
       "...                          ...                        ...  \n",
       "16828                          0                          0  \n",
       "16829                          0                          0  \n",
       "16830                          0                          0  \n",
       "16831                          0                          0  \n",
       "16832                          0                          0  \n",
       "\n",
       "[16833 rows x 177 columns]"
      ]
     },
     "execution_count": 186,
     "metadata": {},
     "output_type": "execute_result"
    }
   ],
   "source": [
    "df_test"
   ]
  },
  {
   "cell_type": "code",
   "execution_count": 187,
   "id": "9791706d",
   "metadata": {
    "execution": {
     "iopub.execute_input": "2023-05-10T01:33:38.456174Z",
     "iopub.status.busy": "2023-05-10T01:33:38.456068Z",
     "iopub.status.idle": "2023-05-10T01:33:38.459494Z",
     "shell.execute_reply": "2023-05-10T01:33:38.459028Z"
    }
   },
   "outputs": [],
   "source": [
    "final_data1 = final_data.drop(['timeperiod','tract_x','tract_name_x','tract_y','tract_name_y','countyfips_y','week_number'],axis=1)"
   ]
  },
  {
   "cell_type": "code",
   "execution_count": 188,
   "id": "90051958",
   "metadata": {
    "execution": {
     "iopub.execute_input": "2023-05-10T01:33:38.461364Z",
     "iopub.status.busy": "2023-05-10T01:33:38.461269Z",
     "iopub.status.idle": "2023-05-10T01:33:38.472112Z",
     "shell.execute_reply": "2023-05-10T01:33:38.471770Z"
    }
   },
   "outputs": [],
   "source": [
    "fin = pd.get_dummies(final_data1,columns = ['countyfips_x','top_category_employer1','top_category_employer2','top_category_employer3'])"
   ]
  },
  {
   "cell_type": "code",
   "execution_count": 189,
   "id": "efe7ca2f",
   "metadata": {
    "execution": {
     "iopub.execute_input": "2023-05-10T01:33:38.473930Z",
     "iopub.status.busy": "2023-05-10T01:33:38.473790Z",
     "iopub.status.idle": "2023-05-10T01:33:38.477610Z",
     "shell.execute_reply": "2023-05-10T01:33:38.477244Z"
    }
   },
   "outputs": [],
   "source": [
    "X = fin.drop(['uu_id','total_claims'],axis=1)\n",
    "Y=fin['total_claims']"
   ]
  },
  {
   "cell_type": "code",
   "execution_count": 190,
   "id": "e14a619e",
   "metadata": {
    "execution": {
     "iopub.execute_input": "2023-05-10T01:33:38.479442Z",
     "iopub.status.busy": "2023-05-10T01:33:38.479311Z",
     "iopub.status.idle": "2023-05-10T01:33:38.488315Z",
     "shell.execute_reply": "2023-05-10T01:33:38.487957Z"
    }
   },
   "outputs": [],
   "source": [
    "from sklearn.model_selection import train_test_split\n",
    "X_train, X_test,Y_train, Y_test = train_test_split(X,Y,test_size = 0.2, random_state=32)"
   ]
  },
  {
   "cell_type": "code",
   "execution_count": 191,
   "id": "5b44a55b",
   "metadata": {
    "execution": {
     "iopub.execute_input": "2023-05-10T01:33:38.489959Z",
     "iopub.status.busy": "2023-05-10T01:33:38.489868Z",
     "iopub.status.idle": "2023-05-10T01:33:43.838620Z",
     "shell.execute_reply": "2023-05-10T01:33:43.838225Z"
    }
   },
   "outputs": [],
   "source": [
    "import xgboost as xgb\n",
    "model = xgb.XGBRegressor(n_estimators=500, max_depth=4,eta=0.1).fit(X_train,Y_train)\n",
    "y_pred = model.predict(X_test)"
   ]
  },
  {
   "cell_type": "code",
   "execution_count": 192,
   "id": "8518bb61",
   "metadata": {
    "execution": {
     "iopub.execute_input": "2023-05-10T01:33:43.840665Z",
     "iopub.status.busy": "2023-05-10T01:33:43.840529Z",
     "iopub.status.idle": "2023-05-10T01:33:43.851558Z",
     "shell.execute_reply": "2023-05-10T01:33:43.851203Z"
    }
   },
   "outputs": [
    {
     "data": {
      "text/plain": [
       "0.9108679506131394"
      ]
     },
     "execution_count": 192,
     "metadata": {},
     "output_type": "execute_result"
    }
   ],
   "source": [
    "model.score(X_test, Y_test)"
   ]
  },
  {
   "cell_type": "code",
   "execution_count": 193,
   "id": "f1f0c1bd",
   "metadata": {
    "execution": {
     "iopub.execute_input": "2023-05-10T01:33:43.853386Z",
     "iopub.status.busy": "2023-05-10T01:33:43.853269Z",
     "iopub.status.idle": "2023-05-10T01:33:43.864935Z",
     "shell.execute_reply": "2023-05-10T01:33:43.864558Z"
    }
   },
   "outputs": [],
   "source": [
    "df_test = pred_data.merge(fin,how='left',on= 'uu_id')"
   ]
  },
  {
   "cell_type": "code",
   "execution_count": 194,
   "id": "62228fc5",
   "metadata": {
    "execution": {
     "iopub.execute_input": "2023-05-10T01:33:43.866815Z",
     "iopub.status.busy": "2023-05-10T01:33:43.866696Z",
     "iopub.status.idle": "2023-05-10T01:33:43.869775Z",
     "shell.execute_reply": "2023-05-10T01:33:43.869454Z"
    }
   },
   "outputs": [],
   "source": [
    "X_df_test = df_test.drop(['uu_id','week_number','total_claims'],axis=1)\n",
    "Y_df_test = df_test['total_claims']"
   ]
  },
  {
   "cell_type": "code",
   "execution_count": 195,
   "id": "2366842d",
   "metadata": {
    "execution": {
     "iopub.execute_input": "2023-05-10T01:33:43.871572Z",
     "iopub.status.busy": "2023-05-10T01:33:43.871485Z",
     "iopub.status.idle": "2023-05-10T01:33:43.896912Z",
     "shell.execute_reply": "2023-05-10T01:33:43.896528Z"
    }
   },
   "outputs": [],
   "source": [
    "prediction = model.predict(X_df_test)"
   ]
  },
  {
   "cell_type": "code",
   "execution_count": 196,
   "id": "a8caedcb",
   "metadata": {
    "execution": {
     "iopub.execute_input": "2023-05-10T01:33:43.898824Z",
     "iopub.status.busy": "2023-05-10T01:33:43.898692Z",
     "iopub.status.idle": "2023-05-10T01:33:43.926146Z",
     "shell.execute_reply": "2023-05-10T01:33:43.925838Z"
    }
   },
   "outputs": [
    {
     "data": {
      "text/plain": [
       "0.933632854698625"
      ]
     },
     "execution_count": 196,
     "metadata": {},
     "output_type": "execute_result"
    }
   ],
   "source": [
    "model.score(X_df_test,Y_df_test)"
   ]
  },
  {
   "cell_type": "code",
   "execution_count": 197,
   "id": "9cd5d8f8",
   "metadata": {
    "execution": {
     "iopub.execute_input": "2023-05-10T01:33:43.927884Z",
     "iopub.status.busy": "2023-05-10T01:33:43.927704Z",
     "iopub.status.idle": "2023-05-10T01:33:43.993089Z",
     "shell.execute_reply": "2023-05-10T01:33:43.992745Z"
    }
   },
   "outputs": [
    {
     "ename": "KeyError",
     "evalue": "\"None of [Index(['uu_id'], dtype='object')] are in the [columns]\"",
     "output_type": "error",
     "traceback": [
      "\u001b[0;31m---------------------------------------------------------------------------\u001b[0m",
      "\u001b[0;31mKeyError\u001b[0m                                  Traceback (most recent call last)",
      "Cell \u001b[0;32mIn [197], line 1\u001b[0m\n\u001b[0;32m----> 1\u001b[0m df_pred_final \u001b[38;5;241m=\u001b[39m \u001b[43mpred_data\u001b[49m\u001b[43m[\u001b[49m\u001b[43m[\u001b[49m\u001b[38;5;124;43m'\u001b[39;49m\u001b[38;5;124;43muu_id\u001b[39;49m\u001b[38;5;124;43m'\u001b[39;49m\u001b[43m]\u001b[49m\u001b[43m]\u001b[49m\n\u001b[1;32m      2\u001b[0m df_pred_final[\u001b[38;5;124m'\u001b[39m\u001b[38;5;124mweek_number\u001b[39m\u001b[38;5;124m'\u001b[39m] \u001b[38;5;241m=\u001b[39m pred_data[[\u001b[38;5;124m'\u001b[39m\u001b[38;5;124mweek_number\u001b[39m\u001b[38;5;124m'\u001b[39m]]\n\u001b[1;32m      3\u001b[0m df_pred_final[\u001b[38;5;124m\"\u001b[39m\u001b[38;5;124mtotal_claims\u001b[39m\u001b[38;5;124m\"\u001b[39m] \u001b[38;5;241m=\u001b[39m prediction\n",
      "File \u001b[0;32m/opt/homebrew/lib/python3.9/site-packages/pandas/core/frame.py:3810\u001b[0m, in \u001b[0;36mDataFrame.__getitem__\u001b[0;34m(self, key)\u001b[0m\n\u001b[1;32m   3808\u001b[0m     \u001b[38;5;28;01mif\u001b[39;00m is_iterator(key):\n\u001b[1;32m   3809\u001b[0m         key \u001b[38;5;241m=\u001b[39m \u001b[38;5;28mlist\u001b[39m(key)\n\u001b[0;32m-> 3810\u001b[0m     indexer \u001b[38;5;241m=\u001b[39m \u001b[38;5;28;43mself\u001b[39;49m\u001b[38;5;241;43m.\u001b[39;49m\u001b[43mcolumns\u001b[49m\u001b[38;5;241;43m.\u001b[39;49m\u001b[43m_get_indexer_strict\u001b[49m\u001b[43m(\u001b[49m\u001b[43mkey\u001b[49m\u001b[43m,\u001b[49m\u001b[43m \u001b[49m\u001b[38;5;124;43m\"\u001b[39;49m\u001b[38;5;124;43mcolumns\u001b[39;49m\u001b[38;5;124;43m\"\u001b[39;49m\u001b[43m)\u001b[49m[\u001b[38;5;241m1\u001b[39m]\n\u001b[1;32m   3812\u001b[0m \u001b[38;5;66;03m# take() does not accept boolean indexers\u001b[39;00m\n\u001b[1;32m   3813\u001b[0m \u001b[38;5;28;01mif\u001b[39;00m \u001b[38;5;28mgetattr\u001b[39m(indexer, \u001b[38;5;124m\"\u001b[39m\u001b[38;5;124mdtype\u001b[39m\u001b[38;5;124m\"\u001b[39m, \u001b[38;5;28;01mNone\u001b[39;00m) \u001b[38;5;241m==\u001b[39m \u001b[38;5;28mbool\u001b[39m:\n",
      "File \u001b[0;32m/opt/homebrew/lib/python3.9/site-packages/pandas/core/indexes/base.py:6111\u001b[0m, in \u001b[0;36mIndex._get_indexer_strict\u001b[0;34m(self, key, axis_name)\u001b[0m\n\u001b[1;32m   6108\u001b[0m \u001b[38;5;28;01melse\u001b[39;00m:\n\u001b[1;32m   6109\u001b[0m     keyarr, indexer, new_indexer \u001b[38;5;241m=\u001b[39m \u001b[38;5;28mself\u001b[39m\u001b[38;5;241m.\u001b[39m_reindex_non_unique(keyarr)\n\u001b[0;32m-> 6111\u001b[0m \u001b[38;5;28;43mself\u001b[39;49m\u001b[38;5;241;43m.\u001b[39;49m\u001b[43m_raise_if_missing\u001b[49m\u001b[43m(\u001b[49m\u001b[43mkeyarr\u001b[49m\u001b[43m,\u001b[49m\u001b[43m \u001b[49m\u001b[43mindexer\u001b[49m\u001b[43m,\u001b[49m\u001b[43m \u001b[49m\u001b[43maxis_name\u001b[49m\u001b[43m)\u001b[49m\n\u001b[1;32m   6113\u001b[0m keyarr \u001b[38;5;241m=\u001b[39m \u001b[38;5;28mself\u001b[39m\u001b[38;5;241m.\u001b[39mtake(indexer)\n\u001b[1;32m   6114\u001b[0m \u001b[38;5;28;01mif\u001b[39;00m \u001b[38;5;28misinstance\u001b[39m(key, Index):\n\u001b[1;32m   6115\u001b[0m     \u001b[38;5;66;03m# GH 42790 - Preserve name from an Index\u001b[39;00m\n",
      "File \u001b[0;32m/opt/homebrew/lib/python3.9/site-packages/pandas/core/indexes/base.py:6171\u001b[0m, in \u001b[0;36mIndex._raise_if_missing\u001b[0;34m(self, key, indexer, axis_name)\u001b[0m\n\u001b[1;32m   6169\u001b[0m     \u001b[38;5;28;01mif\u001b[39;00m use_interval_msg:\n\u001b[1;32m   6170\u001b[0m         key \u001b[38;5;241m=\u001b[39m \u001b[38;5;28mlist\u001b[39m(key)\n\u001b[0;32m-> 6171\u001b[0m     \u001b[38;5;28;01mraise\u001b[39;00m \u001b[38;5;167;01mKeyError\u001b[39;00m(\u001b[38;5;124mf\u001b[39m\u001b[38;5;124m\"\u001b[39m\u001b[38;5;124mNone of [\u001b[39m\u001b[38;5;132;01m{\u001b[39;00mkey\u001b[38;5;132;01m}\u001b[39;00m\u001b[38;5;124m] are in the [\u001b[39m\u001b[38;5;132;01m{\u001b[39;00maxis_name\u001b[38;5;132;01m}\u001b[39;00m\u001b[38;5;124m]\u001b[39m\u001b[38;5;124m\"\u001b[39m)\n\u001b[1;32m   6173\u001b[0m not_found \u001b[38;5;241m=\u001b[39m \u001b[38;5;28mlist\u001b[39m(ensure_index(key)[missing_mask\u001b[38;5;241m.\u001b[39mnonzero()[\u001b[38;5;241m0\u001b[39m]]\u001b[38;5;241m.\u001b[39munique())\n\u001b[1;32m   6174\u001b[0m \u001b[38;5;28;01mraise\u001b[39;00m \u001b[38;5;167;01mKeyError\u001b[39;00m(\u001b[38;5;124mf\u001b[39m\u001b[38;5;124m\"\u001b[39m\u001b[38;5;132;01m{\u001b[39;00mnot_found\u001b[38;5;132;01m}\u001b[39;00m\u001b[38;5;124m not in index\u001b[39m\u001b[38;5;124m\"\u001b[39m)\n",
      "\u001b[0;31mKeyError\u001b[0m: \"None of [Index(['uu_id'], dtype='object')] are in the [columns]\""
     ]
    }
   ],
   "source": [
    "df_pred_final = pred_data[['uu_id']]\n",
    "df_pred_final['week_number'] = pred_data[['week_number']]\n",
    "df_pred_final[\"total_claims\"] = prediction"
   ]
  },
  {
   "cell_type": "code",
   "execution_count": 198,
   "id": "c89add68",
   "metadata": {
    "execution": {
     "iopub.execute_input": "2023-05-10T01:33:43.994763Z",
     "iopub.status.busy": "2023-05-10T01:33:43.994639Z",
     "iopub.status.idle": "2023-05-10T01:33:44.014903Z",
     "shell.execute_reply": "2023-05-10T01:33:44.014547Z"
    }
   },
   "outputs": [
    {
     "ename": "KeyError",
     "evalue": "\"None of [Index(['uu_id'], dtype='object')] are in the [columns]\"",
     "output_type": "error",
     "traceback": [
      "\u001b[0;31m---------------------------------------------------------------------------\u001b[0m",
      "\u001b[0;31mKeyError\u001b[0m                                  Traceback (most recent call last)",
      "Cell \u001b[0;32mIn [198], line 1\u001b[0m\n\u001b[0;32m----> 1\u001b[0m df_pred_final \u001b[38;5;241m=\u001b[39m \u001b[43mpred_data\u001b[49m\u001b[43m[\u001b[49m\u001b[43m[\u001b[49m\u001b[38;5;124;43m'\u001b[39;49m\u001b[38;5;124;43muu_id\u001b[39;49m\u001b[38;5;124;43m'\u001b[39;49m\u001b[43m]\u001b[49m\u001b[43m]\u001b[49m\n",
      "File \u001b[0;32m/opt/homebrew/lib/python3.9/site-packages/pandas/core/frame.py:3810\u001b[0m, in \u001b[0;36mDataFrame.__getitem__\u001b[0;34m(self, key)\u001b[0m\n\u001b[1;32m   3808\u001b[0m     \u001b[38;5;28;01mif\u001b[39;00m is_iterator(key):\n\u001b[1;32m   3809\u001b[0m         key \u001b[38;5;241m=\u001b[39m \u001b[38;5;28mlist\u001b[39m(key)\n\u001b[0;32m-> 3810\u001b[0m     indexer \u001b[38;5;241m=\u001b[39m \u001b[38;5;28;43mself\u001b[39;49m\u001b[38;5;241;43m.\u001b[39;49m\u001b[43mcolumns\u001b[49m\u001b[38;5;241;43m.\u001b[39;49m\u001b[43m_get_indexer_strict\u001b[49m\u001b[43m(\u001b[49m\u001b[43mkey\u001b[49m\u001b[43m,\u001b[49m\u001b[43m \u001b[49m\u001b[38;5;124;43m\"\u001b[39;49m\u001b[38;5;124;43mcolumns\u001b[39;49m\u001b[38;5;124;43m\"\u001b[39;49m\u001b[43m)\u001b[49m[\u001b[38;5;241m1\u001b[39m]\n\u001b[1;32m   3812\u001b[0m \u001b[38;5;66;03m# take() does not accept boolean indexers\u001b[39;00m\n\u001b[1;32m   3813\u001b[0m \u001b[38;5;28;01mif\u001b[39;00m \u001b[38;5;28mgetattr\u001b[39m(indexer, \u001b[38;5;124m\"\u001b[39m\u001b[38;5;124mdtype\u001b[39m\u001b[38;5;124m\"\u001b[39m, \u001b[38;5;28;01mNone\u001b[39;00m) \u001b[38;5;241m==\u001b[39m \u001b[38;5;28mbool\u001b[39m:\n",
      "File \u001b[0;32m/opt/homebrew/lib/python3.9/site-packages/pandas/core/indexes/base.py:6111\u001b[0m, in \u001b[0;36mIndex._get_indexer_strict\u001b[0;34m(self, key, axis_name)\u001b[0m\n\u001b[1;32m   6108\u001b[0m \u001b[38;5;28;01melse\u001b[39;00m:\n\u001b[1;32m   6109\u001b[0m     keyarr, indexer, new_indexer \u001b[38;5;241m=\u001b[39m \u001b[38;5;28mself\u001b[39m\u001b[38;5;241m.\u001b[39m_reindex_non_unique(keyarr)\n\u001b[0;32m-> 6111\u001b[0m \u001b[38;5;28;43mself\u001b[39;49m\u001b[38;5;241;43m.\u001b[39;49m\u001b[43m_raise_if_missing\u001b[49m\u001b[43m(\u001b[49m\u001b[43mkeyarr\u001b[49m\u001b[43m,\u001b[49m\u001b[43m \u001b[49m\u001b[43mindexer\u001b[49m\u001b[43m,\u001b[49m\u001b[43m \u001b[49m\u001b[43maxis_name\u001b[49m\u001b[43m)\u001b[49m\n\u001b[1;32m   6113\u001b[0m keyarr \u001b[38;5;241m=\u001b[39m \u001b[38;5;28mself\u001b[39m\u001b[38;5;241m.\u001b[39mtake(indexer)\n\u001b[1;32m   6114\u001b[0m \u001b[38;5;28;01mif\u001b[39;00m \u001b[38;5;28misinstance\u001b[39m(key, Index):\n\u001b[1;32m   6115\u001b[0m     \u001b[38;5;66;03m# GH 42790 - Preserve name from an Index\u001b[39;00m\n",
      "File \u001b[0;32m/opt/homebrew/lib/python3.9/site-packages/pandas/core/indexes/base.py:6171\u001b[0m, in \u001b[0;36mIndex._raise_if_missing\u001b[0;34m(self, key, indexer, axis_name)\u001b[0m\n\u001b[1;32m   6169\u001b[0m     \u001b[38;5;28;01mif\u001b[39;00m use_interval_msg:\n\u001b[1;32m   6170\u001b[0m         key \u001b[38;5;241m=\u001b[39m \u001b[38;5;28mlist\u001b[39m(key)\n\u001b[0;32m-> 6171\u001b[0m     \u001b[38;5;28;01mraise\u001b[39;00m \u001b[38;5;167;01mKeyError\u001b[39;00m(\u001b[38;5;124mf\u001b[39m\u001b[38;5;124m\"\u001b[39m\u001b[38;5;124mNone of [\u001b[39m\u001b[38;5;132;01m{\u001b[39;00mkey\u001b[38;5;132;01m}\u001b[39;00m\u001b[38;5;124m] are in the [\u001b[39m\u001b[38;5;132;01m{\u001b[39;00maxis_name\u001b[38;5;132;01m}\u001b[39;00m\u001b[38;5;124m]\u001b[39m\u001b[38;5;124m\"\u001b[39m)\n\u001b[1;32m   6173\u001b[0m not_found \u001b[38;5;241m=\u001b[39m \u001b[38;5;28mlist\u001b[39m(ensure_index(key)[missing_mask\u001b[38;5;241m.\u001b[39mnonzero()[\u001b[38;5;241m0\u001b[39m]]\u001b[38;5;241m.\u001b[39munique())\n\u001b[1;32m   6174\u001b[0m \u001b[38;5;28;01mraise\u001b[39;00m \u001b[38;5;167;01mKeyError\u001b[39;00m(\u001b[38;5;124mf\u001b[39m\u001b[38;5;124m\"\u001b[39m\u001b[38;5;132;01m{\u001b[39;00mnot_found\u001b[38;5;132;01m}\u001b[39;00m\u001b[38;5;124m not in index\u001b[39m\u001b[38;5;124m\"\u001b[39m)\n",
      "\u001b[0;31mKeyError\u001b[0m: \"None of [Index(['uu_id'], dtype='object')] are in the [columns]\""
     ]
    }
   ],
   "source": [
    "df_pred_final = pred_data[['uu_id']]"
   ]
  },
  {
   "cell_type": "code",
   "execution_count": 199,
   "id": "05675089",
   "metadata": {
    "execution": {
     "iopub.execute_input": "2023-05-10T01:33:44.016641Z",
     "iopub.status.busy": "2023-05-10T01:33:44.016528Z",
     "iopub.status.idle": "2023-05-10T01:33:44.084512Z",
     "shell.execute_reply": "2023-05-10T01:33:44.084152Z"
    }
   },
   "outputs": [
    {
     "ename": "KeyError",
     "evalue": "'uu_id'",
     "output_type": "error",
     "traceback": [
      "\u001b[0;31m---------------------------------------------------------------------------\u001b[0m",
      "\u001b[0;31mKeyError\u001b[0m                                  Traceback (most recent call last)",
      "File \u001b[0;32m/opt/homebrew/lib/python3.9/site-packages/pandas/core/indexes/base.py:3803\u001b[0m, in \u001b[0;36mIndex.get_loc\u001b[0;34m(self, key, method, tolerance)\u001b[0m\n\u001b[1;32m   3802\u001b[0m \u001b[38;5;28;01mtry\u001b[39;00m:\n\u001b[0;32m-> 3803\u001b[0m     \u001b[38;5;28;01mreturn\u001b[39;00m \u001b[38;5;28;43mself\u001b[39;49m\u001b[38;5;241;43m.\u001b[39;49m\u001b[43m_engine\u001b[49m\u001b[38;5;241;43m.\u001b[39;49m\u001b[43mget_loc\u001b[49m\u001b[43m(\u001b[49m\u001b[43mcasted_key\u001b[49m\u001b[43m)\u001b[49m\n\u001b[1;32m   3804\u001b[0m \u001b[38;5;28;01mexcept\u001b[39;00m \u001b[38;5;167;01mKeyError\u001b[39;00m \u001b[38;5;28;01mas\u001b[39;00m err:\n",
      "File \u001b[0;32m/opt/homebrew/lib/python3.9/site-packages/pandas/_libs/index.pyx:138\u001b[0m, in \u001b[0;36mpandas._libs.index.IndexEngine.get_loc\u001b[0;34m()\u001b[0m\n",
      "File \u001b[0;32m/opt/homebrew/lib/python3.9/site-packages/pandas/_libs/index.pyx:165\u001b[0m, in \u001b[0;36mpandas._libs.index.IndexEngine.get_loc\u001b[0;34m()\u001b[0m\n",
      "File \u001b[0;32mpandas/_libs/hashtable_class_helper.pxi:5745\u001b[0m, in \u001b[0;36mpandas._libs.hashtable.PyObjectHashTable.get_item\u001b[0;34m()\u001b[0m\n",
      "File \u001b[0;32mpandas/_libs/hashtable_class_helper.pxi:5753\u001b[0m, in \u001b[0;36mpandas._libs.hashtable.PyObjectHashTable.get_item\u001b[0;34m()\u001b[0m\n",
      "\u001b[0;31mKeyError\u001b[0m: 'uu_id'",
      "\nThe above exception was the direct cause of the following exception:\n",
      "\u001b[0;31mKeyError\u001b[0m                                  Traceback (most recent call last)",
      "Cell \u001b[0;32mIn [199], line 1\u001b[0m\n\u001b[0;32m----> 1\u001b[0m df_pred_final \u001b[38;5;241m=\u001b[39m \u001b[43mpred_data\u001b[49m\u001b[43m[\u001b[49m\u001b[38;5;124;43m'\u001b[39;49m\u001b[38;5;124;43muu_id\u001b[39;49m\u001b[38;5;124;43m'\u001b[39;49m\u001b[43m]\u001b[49m\n",
      "File \u001b[0;32m/opt/homebrew/lib/python3.9/site-packages/pandas/core/frame.py:3804\u001b[0m, in \u001b[0;36mDataFrame.__getitem__\u001b[0;34m(self, key)\u001b[0m\n\u001b[1;32m   3802\u001b[0m \u001b[38;5;28;01mif\u001b[39;00m \u001b[38;5;28mself\u001b[39m\u001b[38;5;241m.\u001b[39mcolumns\u001b[38;5;241m.\u001b[39mnlevels \u001b[38;5;241m>\u001b[39m \u001b[38;5;241m1\u001b[39m:\n\u001b[1;32m   3803\u001b[0m     \u001b[38;5;28;01mreturn\u001b[39;00m \u001b[38;5;28mself\u001b[39m\u001b[38;5;241m.\u001b[39m_getitem_multilevel(key)\n\u001b[0;32m-> 3804\u001b[0m indexer \u001b[38;5;241m=\u001b[39m \u001b[38;5;28;43mself\u001b[39;49m\u001b[38;5;241;43m.\u001b[39;49m\u001b[43mcolumns\u001b[49m\u001b[38;5;241;43m.\u001b[39;49m\u001b[43mget_loc\u001b[49m\u001b[43m(\u001b[49m\u001b[43mkey\u001b[49m\u001b[43m)\u001b[49m\n\u001b[1;32m   3805\u001b[0m \u001b[38;5;28;01mif\u001b[39;00m is_integer(indexer):\n\u001b[1;32m   3806\u001b[0m     indexer \u001b[38;5;241m=\u001b[39m [indexer]\n",
      "File \u001b[0;32m/opt/homebrew/lib/python3.9/site-packages/pandas/core/indexes/base.py:3805\u001b[0m, in \u001b[0;36mIndex.get_loc\u001b[0;34m(self, key, method, tolerance)\u001b[0m\n\u001b[1;32m   3803\u001b[0m     \u001b[38;5;28;01mreturn\u001b[39;00m \u001b[38;5;28mself\u001b[39m\u001b[38;5;241m.\u001b[39m_engine\u001b[38;5;241m.\u001b[39mget_loc(casted_key)\n\u001b[1;32m   3804\u001b[0m \u001b[38;5;28;01mexcept\u001b[39;00m \u001b[38;5;167;01mKeyError\u001b[39;00m \u001b[38;5;28;01mas\u001b[39;00m err:\n\u001b[0;32m-> 3805\u001b[0m     \u001b[38;5;28;01mraise\u001b[39;00m \u001b[38;5;167;01mKeyError\u001b[39;00m(key) \u001b[38;5;28;01mfrom\u001b[39;00m \u001b[38;5;21;01merr\u001b[39;00m\n\u001b[1;32m   3806\u001b[0m \u001b[38;5;28;01mexcept\u001b[39;00m \u001b[38;5;167;01mTypeError\u001b[39;00m:\n\u001b[1;32m   3807\u001b[0m     \u001b[38;5;66;03m# If we have a listlike key, _check_indexing_error will raise\u001b[39;00m\n\u001b[1;32m   3808\u001b[0m     \u001b[38;5;66;03m#  InvalidIndexError. Otherwise we fall through and re-raise\u001b[39;00m\n\u001b[1;32m   3809\u001b[0m     \u001b[38;5;66;03m#  the TypeError.\u001b[39;00m\n\u001b[1;32m   3810\u001b[0m     \u001b[38;5;28mself\u001b[39m\u001b[38;5;241m.\u001b[39m_check_indexing_error(key)\n",
      "\u001b[0;31mKeyError\u001b[0m: 'uu_id'"
     ]
    }
   ],
   "source": [
    "df_pred_final = pred_data['uu_id']"
   ]
  },
  {
   "cell_type": "code",
   "execution_count": 200,
   "id": "54b7819e",
   "metadata": {
    "execution": {
     "iopub.execute_input": "2023-05-10T01:33:44.086421Z",
     "iopub.status.busy": "2023-05-10T01:33:44.086311Z",
     "iopub.status.idle": "2023-05-10T01:33:44.110790Z",
     "shell.execute_reply": "2023-05-10T01:33:44.110203Z"
    }
   },
   "outputs": [
    {
     "ename": "KeyError",
     "evalue": "'uu_id'",
     "output_type": "error",
     "traceback": [
      "\u001b[0;31m---------------------------------------------------------------------------\u001b[0m",
      "\u001b[0;31mKeyError\u001b[0m                                  Traceback (most recent call last)",
      "File \u001b[0;32m/opt/homebrew/lib/python3.9/site-packages/pandas/core/indexes/base.py:3803\u001b[0m, in \u001b[0;36mIndex.get_loc\u001b[0;34m(self, key, method, tolerance)\u001b[0m\n\u001b[1;32m   3802\u001b[0m \u001b[38;5;28;01mtry\u001b[39;00m:\n\u001b[0;32m-> 3803\u001b[0m     \u001b[38;5;28;01mreturn\u001b[39;00m \u001b[38;5;28;43mself\u001b[39;49m\u001b[38;5;241;43m.\u001b[39;49m\u001b[43m_engine\u001b[49m\u001b[38;5;241;43m.\u001b[39;49m\u001b[43mget_loc\u001b[49m\u001b[43m(\u001b[49m\u001b[43mcasted_key\u001b[49m\u001b[43m)\u001b[49m\n\u001b[1;32m   3804\u001b[0m \u001b[38;5;28;01mexcept\u001b[39;00m \u001b[38;5;167;01mKeyError\u001b[39;00m \u001b[38;5;28;01mas\u001b[39;00m err:\n",
      "File \u001b[0;32m/opt/homebrew/lib/python3.9/site-packages/pandas/_libs/index.pyx:138\u001b[0m, in \u001b[0;36mpandas._libs.index.IndexEngine.get_loc\u001b[0;34m()\u001b[0m\n",
      "File \u001b[0;32m/opt/homebrew/lib/python3.9/site-packages/pandas/_libs/index.pyx:165\u001b[0m, in \u001b[0;36mpandas._libs.index.IndexEngine.get_loc\u001b[0;34m()\u001b[0m\n",
      "File \u001b[0;32mpandas/_libs/hashtable_class_helper.pxi:5745\u001b[0m, in \u001b[0;36mpandas._libs.hashtable.PyObjectHashTable.get_item\u001b[0;34m()\u001b[0m\n",
      "File \u001b[0;32mpandas/_libs/hashtable_class_helper.pxi:5753\u001b[0m, in \u001b[0;36mpandas._libs.hashtable.PyObjectHashTable.get_item\u001b[0;34m()\u001b[0m\n",
      "\u001b[0;31mKeyError\u001b[0m: 'uu_id'",
      "\nThe above exception was the direct cause of the following exception:\n",
      "\u001b[0;31mKeyError\u001b[0m                                  Traceback (most recent call last)",
      "Cell \u001b[0;32mIn [200], line 1\u001b[0m\n\u001b[0;32m----> 1\u001b[0m df_pred_final[\u001b[38;5;124m'\u001b[39m\u001b[38;5;124muu_id\u001b[39m\u001b[38;5;124m'\u001b[39m] \u001b[38;5;241m=\u001b[39m \u001b[43mpred_data\u001b[49m\u001b[43m[\u001b[49m\u001b[38;5;124;43m'\u001b[39;49m\u001b[38;5;124;43muu_id\u001b[39;49m\u001b[38;5;124;43m'\u001b[39;49m\u001b[43m]\u001b[49m\n",
      "File \u001b[0;32m/opt/homebrew/lib/python3.9/site-packages/pandas/core/frame.py:3804\u001b[0m, in \u001b[0;36mDataFrame.__getitem__\u001b[0;34m(self, key)\u001b[0m\n\u001b[1;32m   3802\u001b[0m \u001b[38;5;28;01mif\u001b[39;00m \u001b[38;5;28mself\u001b[39m\u001b[38;5;241m.\u001b[39mcolumns\u001b[38;5;241m.\u001b[39mnlevels \u001b[38;5;241m>\u001b[39m \u001b[38;5;241m1\u001b[39m:\n\u001b[1;32m   3803\u001b[0m     \u001b[38;5;28;01mreturn\u001b[39;00m \u001b[38;5;28mself\u001b[39m\u001b[38;5;241m.\u001b[39m_getitem_multilevel(key)\n\u001b[0;32m-> 3804\u001b[0m indexer \u001b[38;5;241m=\u001b[39m \u001b[38;5;28;43mself\u001b[39;49m\u001b[38;5;241;43m.\u001b[39;49m\u001b[43mcolumns\u001b[49m\u001b[38;5;241;43m.\u001b[39;49m\u001b[43mget_loc\u001b[49m\u001b[43m(\u001b[49m\u001b[43mkey\u001b[49m\u001b[43m)\u001b[49m\n\u001b[1;32m   3805\u001b[0m \u001b[38;5;28;01mif\u001b[39;00m is_integer(indexer):\n\u001b[1;32m   3806\u001b[0m     indexer \u001b[38;5;241m=\u001b[39m [indexer]\n",
      "File \u001b[0;32m/opt/homebrew/lib/python3.9/site-packages/pandas/core/indexes/base.py:3805\u001b[0m, in \u001b[0;36mIndex.get_loc\u001b[0;34m(self, key, method, tolerance)\u001b[0m\n\u001b[1;32m   3803\u001b[0m     \u001b[38;5;28;01mreturn\u001b[39;00m \u001b[38;5;28mself\u001b[39m\u001b[38;5;241m.\u001b[39m_engine\u001b[38;5;241m.\u001b[39mget_loc(casted_key)\n\u001b[1;32m   3804\u001b[0m \u001b[38;5;28;01mexcept\u001b[39;00m \u001b[38;5;167;01mKeyError\u001b[39;00m \u001b[38;5;28;01mas\u001b[39;00m err:\n\u001b[0;32m-> 3805\u001b[0m     \u001b[38;5;28;01mraise\u001b[39;00m \u001b[38;5;167;01mKeyError\u001b[39;00m(key) \u001b[38;5;28;01mfrom\u001b[39;00m \u001b[38;5;21;01merr\u001b[39;00m\n\u001b[1;32m   3806\u001b[0m \u001b[38;5;28;01mexcept\u001b[39;00m \u001b[38;5;167;01mTypeError\u001b[39;00m:\n\u001b[1;32m   3807\u001b[0m     \u001b[38;5;66;03m# If we have a listlike key, _check_indexing_error will raise\u001b[39;00m\n\u001b[1;32m   3808\u001b[0m     \u001b[38;5;66;03m#  InvalidIndexError. Otherwise we fall through and re-raise\u001b[39;00m\n\u001b[1;32m   3809\u001b[0m     \u001b[38;5;66;03m#  the TypeError.\u001b[39;00m\n\u001b[1;32m   3810\u001b[0m     \u001b[38;5;28mself\u001b[39m\u001b[38;5;241m.\u001b[39m_check_indexing_error(key)\n",
      "\u001b[0;31mKeyError\u001b[0m: 'uu_id'"
     ]
    }
   ],
   "source": [
    "df_pred_final['uu_id'] = pred_data['uu_id']"
   ]
  },
  {
   "cell_type": "code",
   "execution_count": 201,
   "id": "b0311d00",
   "metadata": {
    "execution": {
     "iopub.execute_input": "2023-05-10T01:33:44.113280Z",
     "iopub.status.busy": "2023-05-10T01:33:44.113020Z",
     "iopub.status.idle": "2023-05-10T01:33:44.133249Z",
     "shell.execute_reply": "2023-05-10T01:33:44.132973Z"
    }
   },
   "outputs": [
    {
     "ename": "KeyError",
     "evalue": "\"None of [Index(['uu_id'], dtype='object')] are in the [columns]\"",
     "output_type": "error",
     "traceback": [
      "\u001b[0;31m---------------------------------------------------------------------------\u001b[0m",
      "\u001b[0;31mKeyError\u001b[0m                                  Traceback (most recent call last)",
      "Cell \u001b[0;32mIn [201], line 1\u001b[0m\n\u001b[0;32m----> 1\u001b[0m df_pred_final[\u001b[38;5;124m'\u001b[39m\u001b[38;5;124muu_id\u001b[39m\u001b[38;5;124m'\u001b[39m] \u001b[38;5;241m=\u001b[39m \u001b[43mpred_data\u001b[49m\u001b[43m[\u001b[49m\u001b[43m[\u001b[49m\u001b[38;5;124;43m'\u001b[39;49m\u001b[38;5;124;43muu_id\u001b[39;49m\u001b[38;5;124;43m'\u001b[39;49m\u001b[43m]\u001b[49m\u001b[43m]\u001b[49m\n",
      "File \u001b[0;32m/opt/homebrew/lib/python3.9/site-packages/pandas/core/frame.py:3810\u001b[0m, in \u001b[0;36mDataFrame.__getitem__\u001b[0;34m(self, key)\u001b[0m\n\u001b[1;32m   3808\u001b[0m     \u001b[38;5;28;01mif\u001b[39;00m is_iterator(key):\n\u001b[1;32m   3809\u001b[0m         key \u001b[38;5;241m=\u001b[39m \u001b[38;5;28mlist\u001b[39m(key)\n\u001b[0;32m-> 3810\u001b[0m     indexer \u001b[38;5;241m=\u001b[39m \u001b[38;5;28;43mself\u001b[39;49m\u001b[38;5;241;43m.\u001b[39;49m\u001b[43mcolumns\u001b[49m\u001b[38;5;241;43m.\u001b[39;49m\u001b[43m_get_indexer_strict\u001b[49m\u001b[43m(\u001b[49m\u001b[43mkey\u001b[49m\u001b[43m,\u001b[49m\u001b[43m \u001b[49m\u001b[38;5;124;43m\"\u001b[39;49m\u001b[38;5;124;43mcolumns\u001b[39;49m\u001b[38;5;124;43m\"\u001b[39;49m\u001b[43m)\u001b[49m[\u001b[38;5;241m1\u001b[39m]\n\u001b[1;32m   3812\u001b[0m \u001b[38;5;66;03m# take() does not accept boolean indexers\u001b[39;00m\n\u001b[1;32m   3813\u001b[0m \u001b[38;5;28;01mif\u001b[39;00m \u001b[38;5;28mgetattr\u001b[39m(indexer, \u001b[38;5;124m\"\u001b[39m\u001b[38;5;124mdtype\u001b[39m\u001b[38;5;124m\"\u001b[39m, \u001b[38;5;28;01mNone\u001b[39;00m) \u001b[38;5;241m==\u001b[39m \u001b[38;5;28mbool\u001b[39m:\n",
      "File \u001b[0;32m/opt/homebrew/lib/python3.9/site-packages/pandas/core/indexes/base.py:6111\u001b[0m, in \u001b[0;36mIndex._get_indexer_strict\u001b[0;34m(self, key, axis_name)\u001b[0m\n\u001b[1;32m   6108\u001b[0m \u001b[38;5;28;01melse\u001b[39;00m:\n\u001b[1;32m   6109\u001b[0m     keyarr, indexer, new_indexer \u001b[38;5;241m=\u001b[39m \u001b[38;5;28mself\u001b[39m\u001b[38;5;241m.\u001b[39m_reindex_non_unique(keyarr)\n\u001b[0;32m-> 6111\u001b[0m \u001b[38;5;28;43mself\u001b[39;49m\u001b[38;5;241;43m.\u001b[39;49m\u001b[43m_raise_if_missing\u001b[49m\u001b[43m(\u001b[49m\u001b[43mkeyarr\u001b[49m\u001b[43m,\u001b[49m\u001b[43m \u001b[49m\u001b[43mindexer\u001b[49m\u001b[43m,\u001b[49m\u001b[43m \u001b[49m\u001b[43maxis_name\u001b[49m\u001b[43m)\u001b[49m\n\u001b[1;32m   6113\u001b[0m keyarr \u001b[38;5;241m=\u001b[39m \u001b[38;5;28mself\u001b[39m\u001b[38;5;241m.\u001b[39mtake(indexer)\n\u001b[1;32m   6114\u001b[0m \u001b[38;5;28;01mif\u001b[39;00m \u001b[38;5;28misinstance\u001b[39m(key, Index):\n\u001b[1;32m   6115\u001b[0m     \u001b[38;5;66;03m# GH 42790 - Preserve name from an Index\u001b[39;00m\n",
      "File \u001b[0;32m/opt/homebrew/lib/python3.9/site-packages/pandas/core/indexes/base.py:6171\u001b[0m, in \u001b[0;36mIndex._raise_if_missing\u001b[0;34m(self, key, indexer, axis_name)\u001b[0m\n\u001b[1;32m   6169\u001b[0m     \u001b[38;5;28;01mif\u001b[39;00m use_interval_msg:\n\u001b[1;32m   6170\u001b[0m         key \u001b[38;5;241m=\u001b[39m \u001b[38;5;28mlist\u001b[39m(key)\n\u001b[0;32m-> 6171\u001b[0m     \u001b[38;5;28;01mraise\u001b[39;00m \u001b[38;5;167;01mKeyError\u001b[39;00m(\u001b[38;5;124mf\u001b[39m\u001b[38;5;124m\"\u001b[39m\u001b[38;5;124mNone of [\u001b[39m\u001b[38;5;132;01m{\u001b[39;00mkey\u001b[38;5;132;01m}\u001b[39;00m\u001b[38;5;124m] are in the [\u001b[39m\u001b[38;5;132;01m{\u001b[39;00maxis_name\u001b[38;5;132;01m}\u001b[39;00m\u001b[38;5;124m]\u001b[39m\u001b[38;5;124m\"\u001b[39m)\n\u001b[1;32m   6173\u001b[0m not_found \u001b[38;5;241m=\u001b[39m \u001b[38;5;28mlist\u001b[39m(ensure_index(key)[missing_mask\u001b[38;5;241m.\u001b[39mnonzero()[\u001b[38;5;241m0\u001b[39m]]\u001b[38;5;241m.\u001b[39munique())\n\u001b[1;32m   6174\u001b[0m \u001b[38;5;28;01mraise\u001b[39;00m \u001b[38;5;167;01mKeyError\u001b[39;00m(\u001b[38;5;124mf\u001b[39m\u001b[38;5;124m\"\u001b[39m\u001b[38;5;132;01m{\u001b[39;00mnot_found\u001b[38;5;132;01m}\u001b[39;00m\u001b[38;5;124m not in index\u001b[39m\u001b[38;5;124m\"\u001b[39m)\n",
      "\u001b[0;31mKeyError\u001b[0m: \"None of [Index(['uu_id'], dtype='object')] are in the [columns]\""
     ]
    }
   ],
   "source": [
    "df_pred_final['uu_id'] = pred_data[['uu_id']]"
   ]
  },
  {
   "cell_type": "code",
   "execution_count": 202,
   "id": "31592a45",
   "metadata": {
    "execution": {
     "iopub.execute_input": "2023-05-10T01:33:44.134728Z",
     "iopub.status.busy": "2023-05-10T01:33:44.134630Z",
     "iopub.status.idle": "2023-05-10T01:33:44.154480Z",
     "shell.execute_reply": "2023-05-10T01:33:44.154205Z"
    }
   },
   "outputs": [
    {
     "ename": "KeyError",
     "evalue": "\"None of [Index(['uu_id'], dtype='object')] are in the [columns]\"",
     "output_type": "error",
     "traceback": [
      "\u001b[0;31m---------------------------------------------------------------------------\u001b[0m",
      "\u001b[0;31mKeyError\u001b[0m                                  Traceback (most recent call last)",
      "Cell \u001b[0;32mIn [202], line 1\u001b[0m\n\u001b[0;32m----> 1\u001b[0m df_pred_final1[\u001b[38;5;124m'\u001b[39m\u001b[38;5;124muu_id\u001b[39m\u001b[38;5;124m'\u001b[39m] \u001b[38;5;241m=\u001b[39m \u001b[43mpred_data\u001b[49m\u001b[43m[\u001b[49m\u001b[43m[\u001b[49m\u001b[38;5;124;43m'\u001b[39;49m\u001b[38;5;124;43muu_id\u001b[39;49m\u001b[38;5;124;43m'\u001b[39;49m\u001b[43m]\u001b[49m\u001b[43m]\u001b[49m\n",
      "File \u001b[0;32m/opt/homebrew/lib/python3.9/site-packages/pandas/core/frame.py:3810\u001b[0m, in \u001b[0;36mDataFrame.__getitem__\u001b[0;34m(self, key)\u001b[0m\n\u001b[1;32m   3808\u001b[0m     \u001b[38;5;28;01mif\u001b[39;00m is_iterator(key):\n\u001b[1;32m   3809\u001b[0m         key \u001b[38;5;241m=\u001b[39m \u001b[38;5;28mlist\u001b[39m(key)\n\u001b[0;32m-> 3810\u001b[0m     indexer \u001b[38;5;241m=\u001b[39m \u001b[38;5;28;43mself\u001b[39;49m\u001b[38;5;241;43m.\u001b[39;49m\u001b[43mcolumns\u001b[49m\u001b[38;5;241;43m.\u001b[39;49m\u001b[43m_get_indexer_strict\u001b[49m\u001b[43m(\u001b[49m\u001b[43mkey\u001b[49m\u001b[43m,\u001b[49m\u001b[43m \u001b[49m\u001b[38;5;124;43m\"\u001b[39;49m\u001b[38;5;124;43mcolumns\u001b[39;49m\u001b[38;5;124;43m\"\u001b[39;49m\u001b[43m)\u001b[49m[\u001b[38;5;241m1\u001b[39m]\n\u001b[1;32m   3812\u001b[0m \u001b[38;5;66;03m# take() does not accept boolean indexers\u001b[39;00m\n\u001b[1;32m   3813\u001b[0m \u001b[38;5;28;01mif\u001b[39;00m \u001b[38;5;28mgetattr\u001b[39m(indexer, \u001b[38;5;124m\"\u001b[39m\u001b[38;5;124mdtype\u001b[39m\u001b[38;5;124m\"\u001b[39m, \u001b[38;5;28;01mNone\u001b[39;00m) \u001b[38;5;241m==\u001b[39m \u001b[38;5;28mbool\u001b[39m:\n",
      "File \u001b[0;32m/opt/homebrew/lib/python3.9/site-packages/pandas/core/indexes/base.py:6111\u001b[0m, in \u001b[0;36mIndex._get_indexer_strict\u001b[0;34m(self, key, axis_name)\u001b[0m\n\u001b[1;32m   6108\u001b[0m \u001b[38;5;28;01melse\u001b[39;00m:\n\u001b[1;32m   6109\u001b[0m     keyarr, indexer, new_indexer \u001b[38;5;241m=\u001b[39m \u001b[38;5;28mself\u001b[39m\u001b[38;5;241m.\u001b[39m_reindex_non_unique(keyarr)\n\u001b[0;32m-> 6111\u001b[0m \u001b[38;5;28;43mself\u001b[39;49m\u001b[38;5;241;43m.\u001b[39;49m\u001b[43m_raise_if_missing\u001b[49m\u001b[43m(\u001b[49m\u001b[43mkeyarr\u001b[49m\u001b[43m,\u001b[49m\u001b[43m \u001b[49m\u001b[43mindexer\u001b[49m\u001b[43m,\u001b[49m\u001b[43m \u001b[49m\u001b[43maxis_name\u001b[49m\u001b[43m)\u001b[49m\n\u001b[1;32m   6113\u001b[0m keyarr \u001b[38;5;241m=\u001b[39m \u001b[38;5;28mself\u001b[39m\u001b[38;5;241m.\u001b[39mtake(indexer)\n\u001b[1;32m   6114\u001b[0m \u001b[38;5;28;01mif\u001b[39;00m \u001b[38;5;28misinstance\u001b[39m(key, Index):\n\u001b[1;32m   6115\u001b[0m     \u001b[38;5;66;03m# GH 42790 - Preserve name from an Index\u001b[39;00m\n",
      "File \u001b[0;32m/opt/homebrew/lib/python3.9/site-packages/pandas/core/indexes/base.py:6171\u001b[0m, in \u001b[0;36mIndex._raise_if_missing\u001b[0;34m(self, key, indexer, axis_name)\u001b[0m\n\u001b[1;32m   6169\u001b[0m     \u001b[38;5;28;01mif\u001b[39;00m use_interval_msg:\n\u001b[1;32m   6170\u001b[0m         key \u001b[38;5;241m=\u001b[39m \u001b[38;5;28mlist\u001b[39m(key)\n\u001b[0;32m-> 6171\u001b[0m     \u001b[38;5;28;01mraise\u001b[39;00m \u001b[38;5;167;01mKeyError\u001b[39;00m(\u001b[38;5;124mf\u001b[39m\u001b[38;5;124m\"\u001b[39m\u001b[38;5;124mNone of [\u001b[39m\u001b[38;5;132;01m{\u001b[39;00mkey\u001b[38;5;132;01m}\u001b[39;00m\u001b[38;5;124m] are in the [\u001b[39m\u001b[38;5;132;01m{\u001b[39;00maxis_name\u001b[38;5;132;01m}\u001b[39;00m\u001b[38;5;124m]\u001b[39m\u001b[38;5;124m\"\u001b[39m)\n\u001b[1;32m   6173\u001b[0m not_found \u001b[38;5;241m=\u001b[39m \u001b[38;5;28mlist\u001b[39m(ensure_index(key)[missing_mask\u001b[38;5;241m.\u001b[39mnonzero()[\u001b[38;5;241m0\u001b[39m]]\u001b[38;5;241m.\u001b[39munique())\n\u001b[1;32m   6174\u001b[0m \u001b[38;5;28;01mraise\u001b[39;00m \u001b[38;5;167;01mKeyError\u001b[39;00m(\u001b[38;5;124mf\u001b[39m\u001b[38;5;124m\"\u001b[39m\u001b[38;5;132;01m{\u001b[39;00mnot_found\u001b[38;5;132;01m}\u001b[39;00m\u001b[38;5;124m not in index\u001b[39m\u001b[38;5;124m\"\u001b[39m)\n",
      "\u001b[0;31mKeyError\u001b[0m: \"None of [Index(['uu_id'], dtype='object')] are in the [columns]\""
     ]
    }
   ],
   "source": [
    "df_pred_final1['uu_id'] = pred_data[['uu_id']]"
   ]
  },
  {
   "cell_type": "code",
   "execution_count": 203,
   "id": "ebf3db84",
   "metadata": {
    "execution": {
     "iopub.execute_input": "2023-05-10T01:33:44.156003Z",
     "iopub.status.busy": "2023-05-10T01:33:44.155892Z",
     "iopub.status.idle": "2023-05-10T01:33:44.174864Z",
     "shell.execute_reply": "2023-05-10T01:33:44.174578Z"
    }
   },
   "outputs": [
    {
     "ename": "KeyError",
     "evalue": "\"None of [Index(['uu_id'], dtype='object')] are in the [columns]\"",
     "output_type": "error",
     "traceback": [
      "\u001b[0;31m---------------------------------------------------------------------------\u001b[0m",
      "\u001b[0;31mKeyError\u001b[0m                                  Traceback (most recent call last)",
      "Cell \u001b[0;32mIn [203], line 1\u001b[0m\n\u001b[0;32m----> 1\u001b[0m df_pred_final2 \u001b[38;5;241m=\u001b[39m \u001b[43mpred_data\u001b[49m\u001b[43m[\u001b[49m\u001b[43m[\u001b[49m\u001b[38;5;124;43m'\u001b[39;49m\u001b[38;5;124;43muu_id\u001b[39;49m\u001b[38;5;124;43m'\u001b[39;49m\u001b[43m]\u001b[49m\u001b[43m]\u001b[49m\n",
      "File \u001b[0;32m/opt/homebrew/lib/python3.9/site-packages/pandas/core/frame.py:3810\u001b[0m, in \u001b[0;36mDataFrame.__getitem__\u001b[0;34m(self, key)\u001b[0m\n\u001b[1;32m   3808\u001b[0m     \u001b[38;5;28;01mif\u001b[39;00m is_iterator(key):\n\u001b[1;32m   3809\u001b[0m         key \u001b[38;5;241m=\u001b[39m \u001b[38;5;28mlist\u001b[39m(key)\n\u001b[0;32m-> 3810\u001b[0m     indexer \u001b[38;5;241m=\u001b[39m \u001b[38;5;28;43mself\u001b[39;49m\u001b[38;5;241;43m.\u001b[39;49m\u001b[43mcolumns\u001b[49m\u001b[38;5;241;43m.\u001b[39;49m\u001b[43m_get_indexer_strict\u001b[49m\u001b[43m(\u001b[49m\u001b[43mkey\u001b[49m\u001b[43m,\u001b[49m\u001b[43m \u001b[49m\u001b[38;5;124;43m\"\u001b[39;49m\u001b[38;5;124;43mcolumns\u001b[39;49m\u001b[38;5;124;43m\"\u001b[39;49m\u001b[43m)\u001b[49m[\u001b[38;5;241m1\u001b[39m]\n\u001b[1;32m   3812\u001b[0m \u001b[38;5;66;03m# take() does not accept boolean indexers\u001b[39;00m\n\u001b[1;32m   3813\u001b[0m \u001b[38;5;28;01mif\u001b[39;00m \u001b[38;5;28mgetattr\u001b[39m(indexer, \u001b[38;5;124m\"\u001b[39m\u001b[38;5;124mdtype\u001b[39m\u001b[38;5;124m\"\u001b[39m, \u001b[38;5;28;01mNone\u001b[39;00m) \u001b[38;5;241m==\u001b[39m \u001b[38;5;28mbool\u001b[39m:\n",
      "File \u001b[0;32m/opt/homebrew/lib/python3.9/site-packages/pandas/core/indexes/base.py:6111\u001b[0m, in \u001b[0;36mIndex._get_indexer_strict\u001b[0;34m(self, key, axis_name)\u001b[0m\n\u001b[1;32m   6108\u001b[0m \u001b[38;5;28;01melse\u001b[39;00m:\n\u001b[1;32m   6109\u001b[0m     keyarr, indexer, new_indexer \u001b[38;5;241m=\u001b[39m \u001b[38;5;28mself\u001b[39m\u001b[38;5;241m.\u001b[39m_reindex_non_unique(keyarr)\n\u001b[0;32m-> 6111\u001b[0m \u001b[38;5;28;43mself\u001b[39;49m\u001b[38;5;241;43m.\u001b[39;49m\u001b[43m_raise_if_missing\u001b[49m\u001b[43m(\u001b[49m\u001b[43mkeyarr\u001b[49m\u001b[43m,\u001b[49m\u001b[43m \u001b[49m\u001b[43mindexer\u001b[49m\u001b[43m,\u001b[49m\u001b[43m \u001b[49m\u001b[43maxis_name\u001b[49m\u001b[43m)\u001b[49m\n\u001b[1;32m   6113\u001b[0m keyarr \u001b[38;5;241m=\u001b[39m \u001b[38;5;28mself\u001b[39m\u001b[38;5;241m.\u001b[39mtake(indexer)\n\u001b[1;32m   6114\u001b[0m \u001b[38;5;28;01mif\u001b[39;00m \u001b[38;5;28misinstance\u001b[39m(key, Index):\n\u001b[1;32m   6115\u001b[0m     \u001b[38;5;66;03m# GH 42790 - Preserve name from an Index\u001b[39;00m\n",
      "File \u001b[0;32m/opt/homebrew/lib/python3.9/site-packages/pandas/core/indexes/base.py:6171\u001b[0m, in \u001b[0;36mIndex._raise_if_missing\u001b[0;34m(self, key, indexer, axis_name)\u001b[0m\n\u001b[1;32m   6169\u001b[0m     \u001b[38;5;28;01mif\u001b[39;00m use_interval_msg:\n\u001b[1;32m   6170\u001b[0m         key \u001b[38;5;241m=\u001b[39m \u001b[38;5;28mlist\u001b[39m(key)\n\u001b[0;32m-> 6171\u001b[0m     \u001b[38;5;28;01mraise\u001b[39;00m \u001b[38;5;167;01mKeyError\u001b[39;00m(\u001b[38;5;124mf\u001b[39m\u001b[38;5;124m\"\u001b[39m\u001b[38;5;124mNone of [\u001b[39m\u001b[38;5;132;01m{\u001b[39;00mkey\u001b[38;5;132;01m}\u001b[39;00m\u001b[38;5;124m] are in the [\u001b[39m\u001b[38;5;132;01m{\u001b[39;00maxis_name\u001b[38;5;132;01m}\u001b[39;00m\u001b[38;5;124m]\u001b[39m\u001b[38;5;124m\"\u001b[39m)\n\u001b[1;32m   6173\u001b[0m not_found \u001b[38;5;241m=\u001b[39m \u001b[38;5;28mlist\u001b[39m(ensure_index(key)[missing_mask\u001b[38;5;241m.\u001b[39mnonzero()[\u001b[38;5;241m0\u001b[39m]]\u001b[38;5;241m.\u001b[39munique())\n\u001b[1;32m   6174\u001b[0m \u001b[38;5;28;01mraise\u001b[39;00m \u001b[38;5;167;01mKeyError\u001b[39;00m(\u001b[38;5;124mf\u001b[39m\u001b[38;5;124m\"\u001b[39m\u001b[38;5;132;01m{\u001b[39;00mnot_found\u001b[38;5;132;01m}\u001b[39;00m\u001b[38;5;124m not in index\u001b[39m\u001b[38;5;124m\"\u001b[39m)\n",
      "\u001b[0;31mKeyError\u001b[0m: \"None of [Index(['uu_id'], dtype='object')] are in the [columns]\""
     ]
    }
   ],
   "source": [
    "df_pred_final2 = pred_data[['uu_id']]"
   ]
  },
  {
   "cell_type": "code",
   "execution_count": 204,
   "id": "4809b424",
   "metadata": {
    "execution": {
     "iopub.execute_input": "2023-05-10T01:33:44.176362Z",
     "iopub.status.busy": "2023-05-10T01:33:44.176277Z",
     "iopub.status.idle": "2023-05-10T01:33:44.196242Z",
     "shell.execute_reply": "2023-05-10T01:33:44.195956Z"
    }
   },
   "outputs": [
    {
     "ename": "ValueError",
     "evalue": "Length of values (16833) does not match length of index (525)",
     "output_type": "error",
     "traceback": [
      "\u001b[0;31m---------------------------------------------------------------------------\u001b[0m",
      "\u001b[0;31mValueError\u001b[0m                                Traceback (most recent call last)",
      "Cell \u001b[0;32mIn [204], line 2\u001b[0m\n\u001b[1;32m      1\u001b[0m df_pred_final[\u001b[38;5;124m'\u001b[39m\u001b[38;5;124mweek_number\u001b[39m\u001b[38;5;124m'\u001b[39m] \u001b[38;5;241m=\u001b[39m pred_data[[\u001b[38;5;124m'\u001b[39m\u001b[38;5;124mweek_number\u001b[39m\u001b[38;5;124m'\u001b[39m]]\n\u001b[0;32m----> 2\u001b[0m \u001b[43mdf_pred_final\u001b[49m\u001b[43m[\u001b[49m\u001b[38;5;124;43m\"\u001b[39;49m\u001b[38;5;124;43mtotal_claims\u001b[39;49m\u001b[38;5;124;43m\"\u001b[39;49m\u001b[43m]\u001b[49m \u001b[38;5;241m=\u001b[39m prediction\n",
      "File \u001b[0;32m/opt/homebrew/lib/python3.9/site-packages/pandas/core/frame.py:3977\u001b[0m, in \u001b[0;36mDataFrame.__setitem__\u001b[0;34m(self, key, value)\u001b[0m\n\u001b[1;32m   3974\u001b[0m     \u001b[38;5;28mself\u001b[39m\u001b[38;5;241m.\u001b[39m_setitem_array([key], value)\n\u001b[1;32m   3975\u001b[0m \u001b[38;5;28;01melse\u001b[39;00m:\n\u001b[1;32m   3976\u001b[0m     \u001b[38;5;66;03m# set column\u001b[39;00m\n\u001b[0;32m-> 3977\u001b[0m     \u001b[38;5;28;43mself\u001b[39;49m\u001b[38;5;241;43m.\u001b[39;49m\u001b[43m_set_item\u001b[49m\u001b[43m(\u001b[49m\u001b[43mkey\u001b[49m\u001b[43m,\u001b[49m\u001b[43m \u001b[49m\u001b[43mvalue\u001b[49m\u001b[43m)\u001b[49m\n",
      "File \u001b[0;32m/opt/homebrew/lib/python3.9/site-packages/pandas/core/frame.py:4171\u001b[0m, in \u001b[0;36mDataFrame._set_item\u001b[0;34m(self, key, value)\u001b[0m\n\u001b[1;32m   4161\u001b[0m \u001b[38;5;28;01mdef\u001b[39;00m \u001b[38;5;21m_set_item\u001b[39m(\u001b[38;5;28mself\u001b[39m, key, value) \u001b[38;5;241m-\u001b[39m\u001b[38;5;241m>\u001b[39m \u001b[38;5;28;01mNone\u001b[39;00m:\n\u001b[1;32m   4162\u001b[0m     \u001b[38;5;124;03m\"\"\"\u001b[39;00m\n\u001b[1;32m   4163\u001b[0m \u001b[38;5;124;03m    Add series to DataFrame in specified column.\u001b[39;00m\n\u001b[1;32m   4164\u001b[0m \n\u001b[0;32m   (...)\u001b[0m\n\u001b[1;32m   4169\u001b[0m \u001b[38;5;124;03m    ensure homogeneity.\u001b[39;00m\n\u001b[1;32m   4170\u001b[0m \u001b[38;5;124;03m    \"\"\"\u001b[39;00m\n\u001b[0;32m-> 4171\u001b[0m     value \u001b[38;5;241m=\u001b[39m \u001b[38;5;28;43mself\u001b[39;49m\u001b[38;5;241;43m.\u001b[39;49m\u001b[43m_sanitize_column\u001b[49m\u001b[43m(\u001b[49m\u001b[43mvalue\u001b[49m\u001b[43m)\u001b[49m\n\u001b[1;32m   4173\u001b[0m     \u001b[38;5;28;01mif\u001b[39;00m (\n\u001b[1;32m   4174\u001b[0m         key \u001b[38;5;129;01min\u001b[39;00m \u001b[38;5;28mself\u001b[39m\u001b[38;5;241m.\u001b[39mcolumns\n\u001b[1;32m   4175\u001b[0m         \u001b[38;5;129;01mand\u001b[39;00m value\u001b[38;5;241m.\u001b[39mndim \u001b[38;5;241m==\u001b[39m \u001b[38;5;241m1\u001b[39m\n\u001b[1;32m   4176\u001b[0m         \u001b[38;5;129;01mand\u001b[39;00m \u001b[38;5;129;01mnot\u001b[39;00m is_extension_array_dtype(value)\n\u001b[1;32m   4177\u001b[0m     ):\n\u001b[1;32m   4178\u001b[0m         \u001b[38;5;66;03m# broadcast across multiple columns if necessary\u001b[39;00m\n\u001b[1;32m   4179\u001b[0m         \u001b[38;5;28;01mif\u001b[39;00m \u001b[38;5;129;01mnot\u001b[39;00m \u001b[38;5;28mself\u001b[39m\u001b[38;5;241m.\u001b[39mcolumns\u001b[38;5;241m.\u001b[39mis_unique \u001b[38;5;129;01mor\u001b[39;00m \u001b[38;5;28misinstance\u001b[39m(\u001b[38;5;28mself\u001b[39m\u001b[38;5;241m.\u001b[39mcolumns, MultiIndex):\n",
      "File \u001b[0;32m/opt/homebrew/lib/python3.9/site-packages/pandas/core/frame.py:4904\u001b[0m, in \u001b[0;36mDataFrame._sanitize_column\u001b[0;34m(self, value)\u001b[0m\n\u001b[1;32m   4901\u001b[0m     \u001b[38;5;28;01mreturn\u001b[39;00m _reindex_for_setitem(Series(value), \u001b[38;5;28mself\u001b[39m\u001b[38;5;241m.\u001b[39mindex)\n\u001b[1;32m   4903\u001b[0m \u001b[38;5;28;01mif\u001b[39;00m is_list_like(value):\n\u001b[0;32m-> 4904\u001b[0m     \u001b[43mcom\u001b[49m\u001b[38;5;241;43m.\u001b[39;49m\u001b[43mrequire_length_match\u001b[49m\u001b[43m(\u001b[49m\u001b[43mvalue\u001b[49m\u001b[43m,\u001b[49m\u001b[43m \u001b[49m\u001b[38;5;28;43mself\u001b[39;49m\u001b[38;5;241;43m.\u001b[39;49m\u001b[43mindex\u001b[49m\u001b[43m)\u001b[49m\n\u001b[1;32m   4905\u001b[0m \u001b[38;5;28;01mreturn\u001b[39;00m sanitize_array(value, \u001b[38;5;28mself\u001b[39m\u001b[38;5;241m.\u001b[39mindex, copy\u001b[38;5;241m=\u001b[39m\u001b[38;5;28;01mTrue\u001b[39;00m, allow_2d\u001b[38;5;241m=\u001b[39m\u001b[38;5;28;01mTrue\u001b[39;00m)\n",
      "File \u001b[0;32m/opt/homebrew/lib/python3.9/site-packages/pandas/core/common.py:561\u001b[0m, in \u001b[0;36mrequire_length_match\u001b[0;34m(data, index)\u001b[0m\n\u001b[1;32m    557\u001b[0m \u001b[38;5;124;03m\"\"\"\u001b[39;00m\n\u001b[1;32m    558\u001b[0m \u001b[38;5;124;03mCheck the length of data matches the length of the index.\u001b[39;00m\n\u001b[1;32m    559\u001b[0m \u001b[38;5;124;03m\"\"\"\u001b[39;00m\n\u001b[1;32m    560\u001b[0m \u001b[38;5;28;01mif\u001b[39;00m \u001b[38;5;28mlen\u001b[39m(data) \u001b[38;5;241m!=\u001b[39m \u001b[38;5;28mlen\u001b[39m(index):\n\u001b[0;32m--> 561\u001b[0m     \u001b[38;5;28;01mraise\u001b[39;00m \u001b[38;5;167;01mValueError\u001b[39;00m(\n\u001b[1;32m    562\u001b[0m         \u001b[38;5;124m\"\u001b[39m\u001b[38;5;124mLength of values \u001b[39m\u001b[38;5;124m\"\u001b[39m\n\u001b[1;32m    563\u001b[0m         \u001b[38;5;124mf\u001b[39m\u001b[38;5;124m\"\u001b[39m\u001b[38;5;124m(\u001b[39m\u001b[38;5;132;01m{\u001b[39;00m\u001b[38;5;28mlen\u001b[39m(data)\u001b[38;5;132;01m}\u001b[39;00m\u001b[38;5;124m) \u001b[39m\u001b[38;5;124m\"\u001b[39m\n\u001b[1;32m    564\u001b[0m         \u001b[38;5;124m\"\u001b[39m\u001b[38;5;124mdoes not match length of index \u001b[39m\u001b[38;5;124m\"\u001b[39m\n\u001b[1;32m    565\u001b[0m         \u001b[38;5;124mf\u001b[39m\u001b[38;5;124m\"\u001b[39m\u001b[38;5;124m(\u001b[39m\u001b[38;5;132;01m{\u001b[39;00m\u001b[38;5;28mlen\u001b[39m(index)\u001b[38;5;132;01m}\u001b[39;00m\u001b[38;5;124m)\u001b[39m\u001b[38;5;124m\"\u001b[39m\n\u001b[1;32m    566\u001b[0m     )\n",
      "\u001b[0;31mValueError\u001b[0m: Length of values (16833) does not match length of index (525)"
     ]
    }
   ],
   "source": [
    "df_pred_final['week_number'] = pred_data[['week_number']]\n",
    "df_pred_final[\"total_claims\"] = prediction"
   ]
  },
  {
   "cell_type": "code",
   "execution_count": 205,
   "id": "a5cba250",
   "metadata": {
    "execution": {
     "iopub.execute_input": "2023-05-10T01:33:44.197766Z",
     "iopub.status.busy": "2023-05-10T01:33:44.197663Z",
     "iopub.status.idle": "2023-05-10T01:33:44.217585Z",
     "shell.execute_reply": "2023-05-10T01:33:44.217305Z"
    }
   },
   "outputs": [
    {
     "ename": "KeyError",
     "evalue": "\"None of [Index(['uu_id'], dtype='object')] are in the [columns]\"",
     "output_type": "error",
     "traceback": [
      "\u001b[0;31m---------------------------------------------------------------------------\u001b[0m",
      "\u001b[0;31mKeyError\u001b[0m                                  Traceback (most recent call last)",
      "Cell \u001b[0;32mIn [205], line 1\u001b[0m\n\u001b[0;32m----> 1\u001b[0m df_pred_final_yams \u001b[38;5;241m=\u001b[39m \u001b[43mpred_data\u001b[49m\u001b[43m[\u001b[49m\u001b[43m[\u001b[49m\u001b[38;5;124;43m'\u001b[39;49m\u001b[38;5;124;43muu_id\u001b[39;49m\u001b[38;5;124;43m'\u001b[39;49m\u001b[43m]\u001b[49m\u001b[43m]\u001b[49m\n",
      "File \u001b[0;32m/opt/homebrew/lib/python3.9/site-packages/pandas/core/frame.py:3810\u001b[0m, in \u001b[0;36mDataFrame.__getitem__\u001b[0;34m(self, key)\u001b[0m\n\u001b[1;32m   3808\u001b[0m     \u001b[38;5;28;01mif\u001b[39;00m is_iterator(key):\n\u001b[1;32m   3809\u001b[0m         key \u001b[38;5;241m=\u001b[39m \u001b[38;5;28mlist\u001b[39m(key)\n\u001b[0;32m-> 3810\u001b[0m     indexer \u001b[38;5;241m=\u001b[39m \u001b[38;5;28;43mself\u001b[39;49m\u001b[38;5;241;43m.\u001b[39;49m\u001b[43mcolumns\u001b[49m\u001b[38;5;241;43m.\u001b[39;49m\u001b[43m_get_indexer_strict\u001b[49m\u001b[43m(\u001b[49m\u001b[43mkey\u001b[49m\u001b[43m,\u001b[49m\u001b[43m \u001b[49m\u001b[38;5;124;43m\"\u001b[39;49m\u001b[38;5;124;43mcolumns\u001b[39;49m\u001b[38;5;124;43m\"\u001b[39;49m\u001b[43m)\u001b[49m[\u001b[38;5;241m1\u001b[39m]\n\u001b[1;32m   3812\u001b[0m \u001b[38;5;66;03m# take() does not accept boolean indexers\u001b[39;00m\n\u001b[1;32m   3813\u001b[0m \u001b[38;5;28;01mif\u001b[39;00m \u001b[38;5;28mgetattr\u001b[39m(indexer, \u001b[38;5;124m\"\u001b[39m\u001b[38;5;124mdtype\u001b[39m\u001b[38;5;124m\"\u001b[39m, \u001b[38;5;28;01mNone\u001b[39;00m) \u001b[38;5;241m==\u001b[39m \u001b[38;5;28mbool\u001b[39m:\n",
      "File \u001b[0;32m/opt/homebrew/lib/python3.9/site-packages/pandas/core/indexes/base.py:6111\u001b[0m, in \u001b[0;36mIndex._get_indexer_strict\u001b[0;34m(self, key, axis_name)\u001b[0m\n\u001b[1;32m   6108\u001b[0m \u001b[38;5;28;01melse\u001b[39;00m:\n\u001b[1;32m   6109\u001b[0m     keyarr, indexer, new_indexer \u001b[38;5;241m=\u001b[39m \u001b[38;5;28mself\u001b[39m\u001b[38;5;241m.\u001b[39m_reindex_non_unique(keyarr)\n\u001b[0;32m-> 6111\u001b[0m \u001b[38;5;28;43mself\u001b[39;49m\u001b[38;5;241;43m.\u001b[39;49m\u001b[43m_raise_if_missing\u001b[49m\u001b[43m(\u001b[49m\u001b[43mkeyarr\u001b[49m\u001b[43m,\u001b[49m\u001b[43m \u001b[49m\u001b[43mindexer\u001b[49m\u001b[43m,\u001b[49m\u001b[43m \u001b[49m\u001b[43maxis_name\u001b[49m\u001b[43m)\u001b[49m\n\u001b[1;32m   6113\u001b[0m keyarr \u001b[38;5;241m=\u001b[39m \u001b[38;5;28mself\u001b[39m\u001b[38;5;241m.\u001b[39mtake(indexer)\n\u001b[1;32m   6114\u001b[0m \u001b[38;5;28;01mif\u001b[39;00m \u001b[38;5;28misinstance\u001b[39m(key, Index):\n\u001b[1;32m   6115\u001b[0m     \u001b[38;5;66;03m# GH 42790 - Preserve name from an Index\u001b[39;00m\n",
      "File \u001b[0;32m/opt/homebrew/lib/python3.9/site-packages/pandas/core/indexes/base.py:6171\u001b[0m, in \u001b[0;36mIndex._raise_if_missing\u001b[0;34m(self, key, indexer, axis_name)\u001b[0m\n\u001b[1;32m   6169\u001b[0m     \u001b[38;5;28;01mif\u001b[39;00m use_interval_msg:\n\u001b[1;32m   6170\u001b[0m         key \u001b[38;5;241m=\u001b[39m \u001b[38;5;28mlist\u001b[39m(key)\n\u001b[0;32m-> 6171\u001b[0m     \u001b[38;5;28;01mraise\u001b[39;00m \u001b[38;5;167;01mKeyError\u001b[39;00m(\u001b[38;5;124mf\u001b[39m\u001b[38;5;124m\"\u001b[39m\u001b[38;5;124mNone of [\u001b[39m\u001b[38;5;132;01m{\u001b[39;00mkey\u001b[38;5;132;01m}\u001b[39;00m\u001b[38;5;124m] are in the [\u001b[39m\u001b[38;5;132;01m{\u001b[39;00maxis_name\u001b[38;5;132;01m}\u001b[39;00m\u001b[38;5;124m]\u001b[39m\u001b[38;5;124m\"\u001b[39m)\n\u001b[1;32m   6173\u001b[0m not_found \u001b[38;5;241m=\u001b[39m \u001b[38;5;28mlist\u001b[39m(ensure_index(key)[missing_mask\u001b[38;5;241m.\u001b[39mnonzero()[\u001b[38;5;241m0\u001b[39m]]\u001b[38;5;241m.\u001b[39munique())\n\u001b[1;32m   6174\u001b[0m \u001b[38;5;28;01mraise\u001b[39;00m \u001b[38;5;167;01mKeyError\u001b[39;00m(\u001b[38;5;124mf\u001b[39m\u001b[38;5;124m\"\u001b[39m\u001b[38;5;132;01m{\u001b[39;00mnot_found\u001b[38;5;132;01m}\u001b[39;00m\u001b[38;5;124m not in index\u001b[39m\u001b[38;5;124m\"\u001b[39m)\n",
      "\u001b[0;31mKeyError\u001b[0m: \"None of [Index(['uu_id'], dtype='object')] are in the [columns]\""
     ]
    }
   ],
   "source": [
    "df_pred_final_yams = pred_data[['uu_id']]"
   ]
  },
  {
   "cell_type": "code",
   "execution_count": 206,
   "id": "5ec70624",
   "metadata": {
    "execution": {
     "iopub.execute_input": "2023-05-10T01:33:44.219104Z",
     "iopub.status.busy": "2023-05-10T01:33:44.219003Z",
     "iopub.status.idle": "2023-05-10T01:33:44.225554Z",
     "shell.execute_reply": "2023-05-10T01:33:44.225296Z"
    }
   },
   "outputs": [
    {
     "ename": "NameError",
     "evalue": "name 'df_pred_final_yams' is not defined",
     "output_type": "error",
     "traceback": [
      "\u001b[0;31m---------------------------------------------------------------------------\u001b[0m",
      "\u001b[0;31mNameError\u001b[0m                                 Traceback (most recent call last)",
      "Cell \u001b[0;32mIn [206], line 1\u001b[0m\n\u001b[0;32m----> 1\u001b[0m \u001b[43mdf_pred_final_yams\u001b[49m \u001b[38;5;241m==\u001b[39m pred_data[[\u001b[38;5;124m'\u001b[39m\u001b[38;5;124muu_id\u001b[39m\u001b[38;5;124m'\u001b[39m]]\n",
      "\u001b[0;31mNameError\u001b[0m: name 'df_pred_final_yams' is not defined"
     ]
    }
   ],
   "source": [
    "df_pred_final_yams == pred_data[['uu_id']]"
   ]
  },
  {
   "cell_type": "code",
   "execution_count": 207,
   "id": "8e0df5c7",
   "metadata": {
    "execution": {
     "iopub.execute_input": "2023-05-10T01:33:44.226996Z",
     "iopub.status.busy": "2023-05-10T01:33:44.226914Z",
     "iopub.status.idle": "2023-05-10T01:33:44.246719Z",
     "shell.execute_reply": "2023-05-10T01:33:44.246405Z"
    }
   },
   "outputs": [
    {
     "ename": "KeyError",
     "evalue": "\"None of [Index(['uu_id'], dtype='object')] are in the [columns]\"",
     "output_type": "error",
     "traceback": [
      "\u001b[0;31m---------------------------------------------------------------------------\u001b[0m",
      "\u001b[0;31mKeyError\u001b[0m                                  Traceback (most recent call last)",
      "Cell \u001b[0;32mIn [207], line 2\u001b[0m\n\u001b[1;32m      1\u001b[0m df_pred_final_yams\u001b[38;5;241m=\u001b[39m[]\n\u001b[0;32m----> 2\u001b[0m df_pred_final_yams \u001b[38;5;241m==\u001b[39m \u001b[43mpred_data\u001b[49m\u001b[43m[\u001b[49m\u001b[43m[\u001b[49m\u001b[38;5;124;43m'\u001b[39;49m\u001b[38;5;124;43muu_id\u001b[39;49m\u001b[38;5;124;43m'\u001b[39;49m\u001b[43m]\u001b[49m\u001b[43m]\u001b[49m\n",
      "File \u001b[0;32m/opt/homebrew/lib/python3.9/site-packages/pandas/core/frame.py:3810\u001b[0m, in \u001b[0;36mDataFrame.__getitem__\u001b[0;34m(self, key)\u001b[0m\n\u001b[1;32m   3808\u001b[0m     \u001b[38;5;28;01mif\u001b[39;00m is_iterator(key):\n\u001b[1;32m   3809\u001b[0m         key \u001b[38;5;241m=\u001b[39m \u001b[38;5;28mlist\u001b[39m(key)\n\u001b[0;32m-> 3810\u001b[0m     indexer \u001b[38;5;241m=\u001b[39m \u001b[38;5;28;43mself\u001b[39;49m\u001b[38;5;241;43m.\u001b[39;49m\u001b[43mcolumns\u001b[49m\u001b[38;5;241;43m.\u001b[39;49m\u001b[43m_get_indexer_strict\u001b[49m\u001b[43m(\u001b[49m\u001b[43mkey\u001b[49m\u001b[43m,\u001b[49m\u001b[43m \u001b[49m\u001b[38;5;124;43m\"\u001b[39;49m\u001b[38;5;124;43mcolumns\u001b[39;49m\u001b[38;5;124;43m\"\u001b[39;49m\u001b[43m)\u001b[49m[\u001b[38;5;241m1\u001b[39m]\n\u001b[1;32m   3812\u001b[0m \u001b[38;5;66;03m# take() does not accept boolean indexers\u001b[39;00m\n\u001b[1;32m   3813\u001b[0m \u001b[38;5;28;01mif\u001b[39;00m \u001b[38;5;28mgetattr\u001b[39m(indexer, \u001b[38;5;124m\"\u001b[39m\u001b[38;5;124mdtype\u001b[39m\u001b[38;5;124m\"\u001b[39m, \u001b[38;5;28;01mNone\u001b[39;00m) \u001b[38;5;241m==\u001b[39m \u001b[38;5;28mbool\u001b[39m:\n",
      "File \u001b[0;32m/opt/homebrew/lib/python3.9/site-packages/pandas/core/indexes/base.py:6111\u001b[0m, in \u001b[0;36mIndex._get_indexer_strict\u001b[0;34m(self, key, axis_name)\u001b[0m\n\u001b[1;32m   6108\u001b[0m \u001b[38;5;28;01melse\u001b[39;00m:\n\u001b[1;32m   6109\u001b[0m     keyarr, indexer, new_indexer \u001b[38;5;241m=\u001b[39m \u001b[38;5;28mself\u001b[39m\u001b[38;5;241m.\u001b[39m_reindex_non_unique(keyarr)\n\u001b[0;32m-> 6111\u001b[0m \u001b[38;5;28;43mself\u001b[39;49m\u001b[38;5;241;43m.\u001b[39;49m\u001b[43m_raise_if_missing\u001b[49m\u001b[43m(\u001b[49m\u001b[43mkeyarr\u001b[49m\u001b[43m,\u001b[49m\u001b[43m \u001b[49m\u001b[43mindexer\u001b[49m\u001b[43m,\u001b[49m\u001b[43m \u001b[49m\u001b[43maxis_name\u001b[49m\u001b[43m)\u001b[49m\n\u001b[1;32m   6113\u001b[0m keyarr \u001b[38;5;241m=\u001b[39m \u001b[38;5;28mself\u001b[39m\u001b[38;5;241m.\u001b[39mtake(indexer)\n\u001b[1;32m   6114\u001b[0m \u001b[38;5;28;01mif\u001b[39;00m \u001b[38;5;28misinstance\u001b[39m(key, Index):\n\u001b[1;32m   6115\u001b[0m     \u001b[38;5;66;03m# GH 42790 - Preserve name from an Index\u001b[39;00m\n",
      "File \u001b[0;32m/opt/homebrew/lib/python3.9/site-packages/pandas/core/indexes/base.py:6171\u001b[0m, in \u001b[0;36mIndex._raise_if_missing\u001b[0;34m(self, key, indexer, axis_name)\u001b[0m\n\u001b[1;32m   6169\u001b[0m     \u001b[38;5;28;01mif\u001b[39;00m use_interval_msg:\n\u001b[1;32m   6170\u001b[0m         key \u001b[38;5;241m=\u001b[39m \u001b[38;5;28mlist\u001b[39m(key)\n\u001b[0;32m-> 6171\u001b[0m     \u001b[38;5;28;01mraise\u001b[39;00m \u001b[38;5;167;01mKeyError\u001b[39;00m(\u001b[38;5;124mf\u001b[39m\u001b[38;5;124m\"\u001b[39m\u001b[38;5;124mNone of [\u001b[39m\u001b[38;5;132;01m{\u001b[39;00mkey\u001b[38;5;132;01m}\u001b[39;00m\u001b[38;5;124m] are in the [\u001b[39m\u001b[38;5;132;01m{\u001b[39;00maxis_name\u001b[38;5;132;01m}\u001b[39;00m\u001b[38;5;124m]\u001b[39m\u001b[38;5;124m\"\u001b[39m)\n\u001b[1;32m   6173\u001b[0m not_found \u001b[38;5;241m=\u001b[39m \u001b[38;5;28mlist\u001b[39m(ensure_index(key)[missing_mask\u001b[38;5;241m.\u001b[39mnonzero()[\u001b[38;5;241m0\u001b[39m]]\u001b[38;5;241m.\u001b[39munique())\n\u001b[1;32m   6174\u001b[0m \u001b[38;5;28;01mraise\u001b[39;00m \u001b[38;5;167;01mKeyError\u001b[39;00m(\u001b[38;5;124mf\u001b[39m\u001b[38;5;124m\"\u001b[39m\u001b[38;5;132;01m{\u001b[39;00mnot_found\u001b[38;5;132;01m}\u001b[39;00m\u001b[38;5;124m not in index\u001b[39m\u001b[38;5;124m\"\u001b[39m)\n",
      "\u001b[0;31mKeyError\u001b[0m: \"None of [Index(['uu_id'], dtype='object')] are in the [columns]\""
     ]
    }
   ],
   "source": [
    "df_pred_final_yams=[]\n",
    "df_pred_final_yams == pred_data[['uu_id']]"
   ]
  },
  {
   "cell_type": "code",
   "execution_count": 208,
   "id": "df519673",
   "metadata": {
    "execution": {
     "iopub.execute_input": "2023-05-10T01:33:44.248279Z",
     "iopub.status.busy": "2023-05-10T01:33:44.248168Z",
     "iopub.status.idle": "2023-05-10T01:33:44.250732Z",
     "shell.execute_reply": "2023-05-10T01:33:44.250488Z"
    }
   },
   "outputs": [],
   "source": [
    "df_pred_final_1 = df_test[['uu_id']]"
   ]
  },
  {
   "cell_type": "code",
   "execution_count": 209,
   "id": "c8c1b764",
   "metadata": {
    "execution": {
     "iopub.execute_input": "2023-05-10T01:33:44.252169Z",
     "iopub.status.busy": "2023-05-10T01:33:44.252065Z",
     "iopub.status.idle": "2023-05-10T01:33:44.254279Z",
     "shell.execute_reply": "2023-05-10T01:33:44.254043Z"
    }
   },
   "outputs": [
    {
     "name": "stderr",
     "output_type": "stream",
     "text": [
      "/var/folders/l2/cnhff0_n1470l4xf0p7v7l_40000gn/T/ipykernel_16522/2415140912.py:1: SettingWithCopyWarning: \n",
      "A value is trying to be set on a copy of a slice from a DataFrame.\n",
      "Try using .loc[row_indexer,col_indexer] = value instead\n",
      "\n",
      "See the caveats in the documentation: https://pandas.pydata.org/pandas-docs/stable/user_guide/indexing.html#returning-a-view-versus-a-copy\n",
      "  df_pred_final_1['week_number'] = df_test[['week_number']]\n"
     ]
    }
   ],
   "source": [
    "df_pred_final_1['week_number'] = df_test[['week_number']]"
   ]
  },
  {
   "cell_type": "code",
   "execution_count": 210,
   "id": "c17dc147",
   "metadata": {
    "execution": {
     "iopub.execute_input": "2023-05-10T01:33:44.255669Z",
     "iopub.status.busy": "2023-05-10T01:33:44.255570Z",
     "iopub.status.idle": "2023-05-10T01:33:44.257345Z",
     "shell.execute_reply": "2023-05-10T01:33:44.257070Z"
    }
   },
   "outputs": [
    {
     "name": "stderr",
     "output_type": "stream",
     "text": [
      "/var/folders/l2/cnhff0_n1470l4xf0p7v7l_40000gn/T/ipykernel_16522/461191629.py:1: SettingWithCopyWarning: \n",
      "A value is trying to be set on a copy of a slice from a DataFrame.\n",
      "Try using .loc[row_indexer,col_indexer] = value instead\n",
      "\n",
      "See the caveats in the documentation: https://pandas.pydata.org/pandas-docs/stable/user_guide/indexing.html#returning-a-view-versus-a-copy\n",
      "  df_pred_final_1['total_claims'] = prediction\n"
     ]
    }
   ],
   "source": [
    "df_pred_final_1['total_claims'] = prediction"
   ]
  },
  {
   "cell_type": "code",
   "execution_count": 211,
   "id": "4fe41ca9",
   "metadata": {
    "execution": {
     "iopub.execute_input": "2023-05-10T01:33:44.258815Z",
     "iopub.status.busy": "2023-05-10T01:33:44.258712Z",
     "iopub.status.idle": "2023-05-10T01:33:44.263162Z",
     "shell.execute_reply": "2023-05-10T01:33:44.262887Z"
    }
   },
   "outputs": [
    {
     "data": {
      "text/html": [
       "<div>\n",
       "<style scoped>\n",
       "    .dataframe tbody tr th:only-of-type {\n",
       "        vertical-align: middle;\n",
       "    }\n",
       "\n",
       "    .dataframe tbody tr th {\n",
       "        vertical-align: top;\n",
       "    }\n",
       "\n",
       "    .dataframe thead th {\n",
       "        text-align: right;\n",
       "    }\n",
       "</style>\n",
       "<table border=\"1\" class=\"dataframe\">\n",
       "  <thead>\n",
       "    <tr style=\"text-align: right;\">\n",
       "      <th></th>\n",
       "      <th>uu_id</th>\n",
       "      <th>week_number</th>\n",
       "      <th>total_claims</th>\n",
       "    </tr>\n",
       "  </thead>\n",
       "  <tbody>\n",
       "    <tr>\n",
       "      <th>0</th>\n",
       "      <td>5bf51fc2e162d6faf9e3cf79e4198378</td>\n",
       "      <td>44</td>\n",
       "      <td>16.201878</td>\n",
       "    </tr>\n",
       "    <tr>\n",
       "      <th>1</th>\n",
       "      <td>5bf51fc2e162d6faf9e3cf79e4198378</td>\n",
       "      <td>44</td>\n",
       "      <td>16.052597</td>\n",
       "    </tr>\n",
       "    <tr>\n",
       "      <th>2</th>\n",
       "      <td>5bf51fc2e162d6faf9e3cf79e4198378</td>\n",
       "      <td>44</td>\n",
       "      <td>16.052597</td>\n",
       "    </tr>\n",
       "    <tr>\n",
       "      <th>3</th>\n",
       "      <td>5bf51fc2e162d6faf9e3cf79e4198378</td>\n",
       "      <td>44</td>\n",
       "      <td>16.083286</td>\n",
       "    </tr>\n",
       "    <tr>\n",
       "      <th>4</th>\n",
       "      <td>5bf51fc2e162d6faf9e3cf79e4198378</td>\n",
       "      <td>44</td>\n",
       "      <td>16.083286</td>\n",
       "    </tr>\n",
       "    <tr>\n",
       "      <th>...</th>\n",
       "      <td>...</td>\n",
       "      <td>...</td>\n",
       "      <td>...</td>\n",
       "    </tr>\n",
       "    <tr>\n",
       "      <th>16828</th>\n",
       "      <td>932a58530abff8a48558e2a15639d453</td>\n",
       "      <td>44</td>\n",
       "      <td>14.932419</td>\n",
       "    </tr>\n",
       "    <tr>\n",
       "      <th>16829</th>\n",
       "      <td>932a58530abff8a48558e2a15639d453</td>\n",
       "      <td>44</td>\n",
       "      <td>15.301217</td>\n",
       "    </tr>\n",
       "    <tr>\n",
       "      <th>16830</th>\n",
       "      <td>932a58530abff8a48558e2a15639d453</td>\n",
       "      <td>44</td>\n",
       "      <td>24.040972</td>\n",
       "    </tr>\n",
       "    <tr>\n",
       "      <th>16831</th>\n",
       "      <td>932a58530abff8a48558e2a15639d453</td>\n",
       "      <td>44</td>\n",
       "      <td>15.256616</td>\n",
       "    </tr>\n",
       "    <tr>\n",
       "      <th>16832</th>\n",
       "      <td>932a58530abff8a48558e2a15639d453</td>\n",
       "      <td>44</td>\n",
       "      <td>34.608929</td>\n",
       "    </tr>\n",
       "  </tbody>\n",
       "</table>\n",
       "<p>16833 rows × 3 columns</p>\n",
       "</div>"
      ],
      "text/plain": [
       "                                  uu_id  week_number  total_claims\n",
       "0      5bf51fc2e162d6faf9e3cf79e4198378           44     16.201878\n",
       "1      5bf51fc2e162d6faf9e3cf79e4198378           44     16.052597\n",
       "2      5bf51fc2e162d6faf9e3cf79e4198378           44     16.052597\n",
       "3      5bf51fc2e162d6faf9e3cf79e4198378           44     16.083286\n",
       "4      5bf51fc2e162d6faf9e3cf79e4198378           44     16.083286\n",
       "...                                 ...          ...           ...\n",
       "16828  932a58530abff8a48558e2a15639d453           44     14.932419\n",
       "16829  932a58530abff8a48558e2a15639d453           44     15.301217\n",
       "16830  932a58530abff8a48558e2a15639d453           44     24.040972\n",
       "16831  932a58530abff8a48558e2a15639d453           44     15.256616\n",
       "16832  932a58530abff8a48558e2a15639d453           44     34.608929\n",
       "\n",
       "[16833 rows x 3 columns]"
      ]
     },
     "execution_count": 211,
     "metadata": {},
     "output_type": "execute_result"
    }
   ],
   "source": [
    "df_pred_final_1"
   ]
  },
  {
   "cell_type": "code",
   "execution_count": 212,
   "id": "069ef44c",
   "metadata": {
    "execution": {
     "iopub.execute_input": "2023-05-10T01:33:44.264573Z",
     "iopub.status.busy": "2023-05-10T01:33:44.264490Z",
     "iopub.status.idle": "2023-05-10T01:33:44.266901Z",
     "shell.execute_reply": "2023-05-10T01:33:44.266658Z"
    }
   },
   "outputs": [],
   "source": [
    "df_final = df_pred_final_1.drop_duplicates(subset=['uu_id'])"
   ]
  },
  {
   "cell_type": "code",
   "execution_count": 213,
   "id": "ceaf60df",
   "metadata": {
    "execution": {
     "iopub.execute_input": "2023-05-10T01:33:44.268224Z",
     "iopub.status.busy": "2023-05-10T01:33:44.268140Z",
     "iopub.status.idle": "2023-05-10T01:33:44.272227Z",
     "shell.execute_reply": "2023-05-10T01:33:44.271993Z"
    }
   },
   "outputs": [
    {
     "data": {
      "text/html": [
       "<div>\n",
       "<style scoped>\n",
       "    .dataframe tbody tr th:only-of-type {\n",
       "        vertical-align: middle;\n",
       "    }\n",
       "\n",
       "    .dataframe tbody tr th {\n",
       "        vertical-align: top;\n",
       "    }\n",
       "\n",
       "    .dataframe thead th {\n",
       "        text-align: right;\n",
       "    }\n",
       "</style>\n",
       "<table border=\"1\" class=\"dataframe\">\n",
       "  <thead>\n",
       "    <tr style=\"text-align: right;\">\n",
       "      <th></th>\n",
       "      <th>uu_id</th>\n",
       "      <th>week_number</th>\n",
       "      <th>total_claims</th>\n",
       "    </tr>\n",
       "  </thead>\n",
       "  <tbody>\n",
       "    <tr>\n",
       "      <th>0</th>\n",
       "      <td>5bf51fc2e162d6faf9e3cf79e4198378</td>\n",
       "      <td>44</td>\n",
       "      <td>16.201878</td>\n",
       "    </tr>\n",
       "    <tr>\n",
       "      <th>10</th>\n",
       "      <td>420b44cc7e3f55d738df565421e59941</td>\n",
       "      <td>44</td>\n",
       "      <td>11.360290</td>\n",
       "    </tr>\n",
       "    <tr>\n",
       "      <th>18</th>\n",
       "      <td>e39c66ecceec76ee8f9f811fa4a2d246</td>\n",
       "      <td>44</td>\n",
       "      <td>14.550637</td>\n",
       "    </tr>\n",
       "    <tr>\n",
       "      <th>32</th>\n",
       "      <td>a90462cd11ae4e43144239bf7c4828a4</td>\n",
       "      <td>44</td>\n",
       "      <td>31.378025</td>\n",
       "    </tr>\n",
       "    <tr>\n",
       "      <th>58</th>\n",
       "      <td>8b20a6749088c7ff1237983076ebfeaa</td>\n",
       "      <td>44</td>\n",
       "      <td>14.060472</td>\n",
       "    </tr>\n",
       "    <tr>\n",
       "      <th>...</th>\n",
       "      <td>...</td>\n",
       "      <td>...</td>\n",
       "      <td>...</td>\n",
       "    </tr>\n",
       "    <tr>\n",
       "      <th>16684</th>\n",
       "      <td>46c4f6c75e663b1ca82ea7994e6d83d3</td>\n",
       "      <td>44</td>\n",
       "      <td>14.884317</td>\n",
       "    </tr>\n",
       "    <tr>\n",
       "      <th>16722</th>\n",
       "      <td>1deebda501712e7595b531b8337bc31a</td>\n",
       "      <td>44</td>\n",
       "      <td>17.802004</td>\n",
       "    </tr>\n",
       "    <tr>\n",
       "      <th>16757</th>\n",
       "      <td>5a9758f65f001b6432ff31ff64a459d7</td>\n",
       "      <td>44</td>\n",
       "      <td>24.659317</td>\n",
       "    </tr>\n",
       "    <tr>\n",
       "      <th>16781</th>\n",
       "      <td>e8b3b95e93a6dc7dbb90f4e72e7ac065</td>\n",
       "      <td>44</td>\n",
       "      <td>16.755768</td>\n",
       "    </tr>\n",
       "    <tr>\n",
       "      <th>16804</th>\n",
       "      <td>932a58530abff8a48558e2a15639d453</td>\n",
       "      <td>44</td>\n",
       "      <td>20.280573</td>\n",
       "    </tr>\n",
       "  </tbody>\n",
       "</table>\n",
       "<p>525 rows × 3 columns</p>\n",
       "</div>"
      ],
      "text/plain": [
       "                                  uu_id  week_number  total_claims\n",
       "0      5bf51fc2e162d6faf9e3cf79e4198378           44     16.201878\n",
       "10     420b44cc7e3f55d738df565421e59941           44     11.360290\n",
       "18     e39c66ecceec76ee8f9f811fa4a2d246           44     14.550637\n",
       "32     a90462cd11ae4e43144239bf7c4828a4           44     31.378025\n",
       "58     8b20a6749088c7ff1237983076ebfeaa           44     14.060472\n",
       "...                                 ...          ...           ...\n",
       "16684  46c4f6c75e663b1ca82ea7994e6d83d3           44     14.884317\n",
       "16722  1deebda501712e7595b531b8337bc31a           44     17.802004\n",
       "16757  5a9758f65f001b6432ff31ff64a459d7           44     24.659317\n",
       "16781  e8b3b95e93a6dc7dbb90f4e72e7ac065           44     16.755768\n",
       "16804  932a58530abff8a48558e2a15639d453           44     20.280573\n",
       "\n",
       "[525 rows x 3 columns]"
      ]
     },
     "execution_count": 213,
     "metadata": {},
     "output_type": "execute_result"
    }
   ],
   "source": [
    "df_final"
   ]
  },
  {
   "cell_type": "code",
   "execution_count": 214,
   "id": "e9ff9eba",
   "metadata": {
    "execution": {
     "iopub.execute_input": "2023-05-10T01:33:44.273622Z",
     "iopub.status.busy": "2023-05-10T01:33:44.273541Z",
     "iopub.status.idle": "2023-05-10T01:33:44.275689Z",
     "shell.execute_reply": "2023-05-10T01:33:44.275463Z"
    }
   },
   "outputs": [
    {
     "data": {
      "text/plain": [
       "(16833, 141)"
      ]
     },
     "execution_count": 214,
     "metadata": {},
     "output_type": "execute_result"
    }
   ],
   "source": [
    "fin.shape"
   ]
  },
  {
   "cell_type": "code",
   "execution_count": 215,
   "id": "4fccea01",
   "metadata": {
    "execution": {
     "iopub.execute_input": "2023-05-10T01:33:44.277124Z",
     "iopub.status.busy": "2023-05-10T01:33:44.277049Z",
     "iopub.status.idle": "2023-05-10T01:33:44.282371Z",
     "shell.execute_reply": "2023-05-10T01:33:44.282126Z"
    }
   },
   "outputs": [],
   "source": [
    "get_ipython().run_cell_magic('capture', '', \"%logstop\\n%logstart -t -r -q ipython_command_log.py global\\n\\n#- IRONHACKS RESEARCH TRACKING CODE\\n#----------------------------------\\n# The following code is used to help our research team understand how you \\n# our notebook environment. We do not collect any personal information with\\n# the following code, it is used to measure when and how often you work on\\n# your submission files.\\n\\nimport os\\nfrom datetime import datetime\\nimport IPython.core.history as history\\n\\nha = history.HistoryAccessor()\\nha_tail = ha.get_tail(1)\\nha_cmd = next(ha_tail)\\nsession_id = str(ha_cmd[0])\\ncommand_id = str(ha_cmd[1])\\ntimestamp = datetime.utcnow().isoformat()\\nhistory_line = ','.join([session_id, command_id, timestamp]) + '\\\\n'\\nlogfile = open(os.environ['HOME']+'/ipython_session_log.csv', 'a')\\nlogfile.write(history_line)\\nlogfile.close()\\n\")"
   ]
  },
  {
   "cell_type": "code",
   "execution_count": 216,
   "id": "3c8a559e",
   "metadata": {
    "execution": {
     "iopub.execute_input": "2023-05-10T01:33:44.283719Z",
     "iopub.status.busy": "2023-05-10T01:33:44.283615Z",
     "iopub.status.idle": "2023-05-10T01:33:44.287221Z",
     "shell.execute_reply": "2023-05-10T01:33:44.286995Z"
    }
   },
   "outputs": [],
   "source": [
    "df_final.to_csv('submission_prediction_output.csv')"
   ]
  },
  {
   "cell_type": "code",
   "execution_count": 217,
   "id": "1cd2c25b",
   "metadata": {
    "execution": {
     "iopub.execute_input": "2023-05-10T01:33:44.288597Z",
     "iopub.status.busy": "2023-05-10T01:33:44.288492Z",
     "iopub.status.idle": "2023-05-10T01:33:44.293346Z",
     "shell.execute_reply": "2023-05-10T01:33:44.293101Z"
    },
    "lines_to_next_cell": 2
   },
   "outputs": [],
   "source": [
    "get_ipython().run_cell_magic('capture', '', \"%logstop\\n%logstart -t -r -q ipython_command_log.py global\\n\\n#- IRONHACKS RESEARCH TRACKING CODE\\n#----------------------------------\\n# The following code is used to help our research team understand how you \\n# our notebook environment. We do not collect any personal information with\\n# the following code, it is used to measure when and how often you work on\\n# your submission files.\\n\\nimport os\\nfrom datetime import datetime\\nimport IPython.core.history as history\\n\\nha = history.HistoryAccessor()\\nha_tail = ha.get_tail(1)\\nha_cmd = next(ha_tail)\\nsession_id = str(ha_cmd[0])\\ncommand_id = str(ha_cmd[1])\\ntimestamp = datetime.utcnow().isoformat()\\nhistory_line = ','.join([session_id, command_id, timestamp]) + '\\\\n'\\nlogfile = open(os.environ['HOME']+'/ipython_session_log.csv', 'a')\\nlogfile.write(history_line)\\nlogfile.close()\\n\")"
   ]
  }
 ],
 "metadata": {
  "jupytext": {
   "cell_metadata_filter": "-all",
   "main_language": "python",
   "notebook_metadata_filter": "-all"
  },
  "language_info": {
   "codemirror_mode": {
    "name": "ipython",
    "version": 3
   },
   "file_extension": ".py",
   "mimetype": "text/x-python",
   "name": "python",
   "nbconvert_exporter": "python",
   "pygments_lexer": "ipython3",
   "version": "3.9.12"
  }
 },
 "nbformat": 4,
 "nbformat_minor": 5
}
