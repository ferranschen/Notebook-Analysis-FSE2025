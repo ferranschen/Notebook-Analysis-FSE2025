{
 "cells": [
  {
   "cell_type": "code",
   "execution_count": 1,
   "id": "15006bab",
   "metadata": {
    "execution": {
     "iopub.execute_input": "2023-05-10T00:35:32.852601Z",
     "iopub.status.busy": "2023-05-10T00:35:32.851970Z",
     "iopub.status.idle": "2023-05-10T00:35:33.296725Z",
     "shell.execute_reply": "2023-05-10T00:35:33.296433Z"
    }
   },
   "outputs": [],
   "source": [
    "import os\n",
    "import pandas\n",
    "from google.cloud import bigquery\n",
    "from google.oauth2 import service_account\n",
    "from google.cloud.bigquery import magics"
   ]
  },
  {
   "cell_type": "markdown",
   "id": "ee67e51a",
   "metadata": {},
   "source": [
    "CONFIGURE THE BIGQUERY SETTINGS"
   ]
  },
  {
   "cell_type": "code",
   "execution_count": 2,
   "id": "e6f3eefe",
   "metadata": {
    "execution": {
     "iopub.execute_input": "2023-05-10T00:35:33.298585Z",
     "iopub.status.busy": "2023-05-10T00:35:33.298432Z",
     "iopub.status.idle": "2023-05-10T00:35:33.306114Z",
     "shell.execute_reply": "2023-05-10T00:35:33.305769Z"
    }
   },
   "outputs": [],
   "source": [
    "BIGQUERY_PROJECT = 'ironhacks-data'\n",
    "bigquery_client = bigquery.Client(project=BIGQUERY_PROJECT)"
   ]
  },
  {
   "cell_type": "code",
   "execution_count": 3,
   "id": "c7419f10",
   "metadata": {
    "execution": {
     "iopub.execute_input": "2023-05-10T00:35:33.307969Z",
     "iopub.status.busy": "2023-05-10T00:35:33.307849Z",
     "iopub.status.idle": "2023-05-10T00:35:33.309780Z",
     "shell.execute_reply": "2023-05-10T00:35:33.309538Z"
    }
   },
   "outputs": [],
   "source": [
    "query = \"\"\"\n",
    "SELECT *\n",
    "FROM `ironhacks-data.ironhacks_training.covid19_cases`\n",
    "\"\"\""
   ]
  },
  {
   "cell_type": "code",
   "execution_count": 4,
   "id": "fc545f38",
   "metadata": {
    "execution": {
     "iopub.execute_input": "2023-05-10T00:35:33.311213Z",
     "iopub.status.busy": "2023-05-10T00:35:33.311112Z",
     "iopub.status.idle": "2023-05-10T00:35:36.326512Z",
     "shell.execute_reply": "2023-05-10T00:35:36.325787Z"
    }
   },
   "outputs": [],
   "source": [
    "# QUERY THE DATA ONCE\n",
    "query_job = bigquery_client.query(query)\n",
    "covid19_cases_data = query_job.to_dataframe()"
   ]
  },
  {
   "cell_type": "code",
   "execution_count": 5,
   "id": "a21b6609",
   "metadata": {
    "execution": {
     "iopub.execute_input": "2023-05-10T00:35:36.330598Z",
     "iopub.status.busy": "2023-05-10T00:35:36.330277Z",
     "iopub.status.idle": "2023-05-10T00:35:36.338776Z",
     "shell.execute_reply": "2023-05-10T00:35:36.338228Z"
    }
   },
   "outputs": [
    {
     "name": "stdout",
     "output_type": "stream",
     "text": [
      "Columns:\n",
      "week_number\n",
      "start_date\n",
      "county\n",
      "fips\n",
      "cases\n",
      "deaths\n",
      "\n",
      "Results:\n",
      "   week_number  start_date  county   fips  cases  deaths\n",
      "0            9  2021-03-01  Marion  18097    664      23\n",
      "1           12  2021-03-22  Marion  18097    623      11\n",
      "2           19  2021-05-10  Marion  18097   1156       4\n",
      "3           11  2021-03-15  Marion  18097    560      13\n",
      "4            6  2021-02-08  Marion  18097   1542     219\n"
     ]
    }
   ],
   "source": [
    "# THEN WORK BELOW TO DO SOMETHING THE RESULTS\n",
    "print(\"Columns:\")\n",
    "print('\\n'.join(covid19_cases_data.columns))\n",
    "print(\"\\nResults:\")\n",
    "print(covid19_cases_data.head())"
   ]
  },
  {
   "cell_type": "code",
   "execution_count": 6,
   "id": "a5fd8dc8",
   "metadata": {
    "execution": {
     "iopub.execute_input": "2023-05-10T00:35:36.341673Z",
     "iopub.status.busy": "2023-05-10T00:35:36.341442Z",
     "iopub.status.idle": "2023-05-10T00:35:36.344156Z",
     "shell.execute_reply": "2023-05-10T00:35:36.343666Z"
    }
   },
   "outputs": [],
   "source": [
    "query = \"\"\"\n",
    "SELECT COUNT(*)\n",
    "FROM `ironhacks-data.ironhacks_training.covid19_cases`\n",
    "\"\"\""
   ]
  },
  {
   "cell_type": "code",
   "execution_count": 7,
   "id": "9ced526d",
   "metadata": {
    "execution": {
     "iopub.execute_input": "2023-05-10T00:35:36.346635Z",
     "iopub.status.busy": "2023-05-10T00:35:36.346443Z",
     "iopub.status.idle": "2023-05-10T00:35:38.361208Z",
     "shell.execute_reply": "2023-05-10T00:35:38.359787Z"
    }
   },
   "outputs": [],
   "source": [
    "query_job = bigquery_client.query(query)\n",
    "covid19_cases_data = query_job.to_dataframe()"
   ]
  },
  {
   "cell_type": "code",
   "execution_count": 8,
   "id": "8ca97289",
   "metadata": {
    "execution": {
     "iopub.execute_input": "2023-05-10T00:35:38.369037Z",
     "iopub.status.busy": "2023-05-10T00:35:38.368406Z",
     "iopub.status.idle": "2023-05-10T00:35:38.376979Z",
     "shell.execute_reply": "2023-05-10T00:35:38.376298Z"
    }
   },
   "outputs": [
    {
     "name": "stdout",
     "output_type": "stream",
     "text": [
      "   f0_\n",
      "0   46\n"
     ]
    }
   ],
   "source": [
    "print(covid19_cases_data)"
   ]
  },
  {
   "cell_type": "code",
   "execution_count": 9,
   "id": "b87341f0",
   "metadata": {
    "execution": {
     "iopub.execute_input": "2023-05-10T00:35:38.382991Z",
     "iopub.status.busy": "2023-05-10T00:35:38.382536Z",
     "iopub.status.idle": "2023-05-10T00:35:38.386648Z",
     "shell.execute_reply": "2023-05-10T00:35:38.385949Z"
    }
   },
   "outputs": [],
   "source": [
    "query = \"\"\"\n",
    "SELECT \n",
    "week_number,\n",
    "cases \n",
    "FROM `ironhacks-data.ironhacks_training.covid19_cases`\n",
    "Where week_number between 1 and 3\n",
    "order by week_number\n",
    "\"\"\""
   ]
  },
  {
   "cell_type": "code",
   "execution_count": 10,
   "id": "ad0fa3e6",
   "metadata": {
    "execution": {
     "iopub.execute_input": "2023-05-10T00:35:38.390178Z",
     "iopub.status.busy": "2023-05-10T00:35:38.389889Z",
     "iopub.status.idle": "2023-05-10T00:35:40.183045Z",
     "shell.execute_reply": "2023-05-10T00:35:40.181603Z"
    }
   },
   "outputs": [],
   "source": [
    "query_job = bigquery_client.query(query)\n",
    "covid19_cases_data = query_job.to_dataframe()"
   ]
  },
  {
   "cell_type": "code",
   "execution_count": 11,
   "id": "190a9754",
   "metadata": {
    "execution": {
     "iopub.execute_input": "2023-05-10T00:35:40.190397Z",
     "iopub.status.busy": "2023-05-10T00:35:40.189936Z",
     "iopub.status.idle": "2023-05-10T00:35:40.199076Z",
     "shell.execute_reply": "2023-05-10T00:35:40.198285Z"
    }
   },
   "outputs": [
    {
     "name": "stdout",
     "output_type": "stream",
     "text": [
      "   week_number  cases\n",
      "0            1   4714\n",
      "1            1    964\n",
      "2            2   5289\n",
      "3            2   1232\n",
      "4            3   3460\n"
     ]
    }
   ],
   "source": [
    "print(covid19_cases_data.head())"
   ]
  },
  {
   "cell_type": "code",
   "execution_count": 12,
   "id": "c171a559",
   "metadata": {
    "execution": {
     "iopub.execute_input": "2023-05-10T00:35:40.204065Z",
     "iopub.status.busy": "2023-05-10T00:35:40.203730Z",
     "iopub.status.idle": "2023-05-10T00:35:40.211604Z",
     "shell.execute_reply": "2023-05-10T00:35:40.210851Z"
    },
    "lines_to_next_cell": 2
   },
   "outputs": [
    {
     "name": "stdout",
     "output_type": "stream",
     "text": [
      "mean:  cases    2732.666667\n",
      "dtype: float64\n"
     ]
    }
   ],
   "source": [
    "df = pandas.DataFrame(covid19_cases_data, columns = ['cases'])\n",
    "print(\"mean: \", df.mean()); "
   ]
  }
 ],
 "metadata": {
  "jupytext": {
   "cell_metadata_filter": "-all",
   "main_language": "python",
   "notebook_metadata_filter": "-all"
  },
  "kernelspec": {
   "display_name": "base",
   "language": "python",
   "name": "python3"
  },
  "language_info": {
   "codemirror_mode": {
    "name": "ipython",
    "version": 3
   },
   "file_extension": ".py",
   "mimetype": "text/x-python",
   "name": "python",
   "nbconvert_exporter": "python",
   "pygments_lexer": "ipython3",
   "version": "3.9.12"
  }
 },
 "nbformat": 4,
 "nbformat_minor": 5
}
