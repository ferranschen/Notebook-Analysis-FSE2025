{
 "cells": [
  {
   "cell_type": "code",
   "execution_count": 1,
   "id": "89e426fb",
   "metadata": {
    "execution": {
     "iopub.execute_input": "2023-05-09T23:06:44.763272Z",
     "iopub.status.busy": "2023-05-09T23:06:44.762684Z",
     "iopub.status.idle": "2023-05-09T23:06:45.435072Z",
     "shell.execute_reply": "2023-05-09T23:06:45.434787Z"
    }
   },
   "outputs": [],
   "source": [
    "import csv\n",
    "import pandas as pd\n",
    "import numpy as np\n",
    "from google.cloud import bigquery\n",
    "from google.oauth2 import service_account\n",
    "from google.cloud.bigquery import magics\n",
    "from sklearn.model_selection import train_test_split \n",
    "from sklearn.linear_model import LinearRegression\n",
    "from sklearn import metrics"
   ]
  },
  {
   "cell_type": "code",
   "execution_count": 2,
   "id": "2882df12",
   "metadata": {
    "execution": {
     "iopub.execute_input": "2023-05-09T23:06:45.436881Z",
     "iopub.status.busy": "2023-05-09T23:06:45.436721Z",
     "iopub.status.idle": "2023-05-09T23:06:45.539580Z",
     "shell.execute_reply": "2023-05-09T23:06:45.539228Z"
    }
   },
   "outputs": [
    {
     "ename": "ModuleNotFoundError",
     "evalue": "No module named 'xgboost'",
     "output_type": "error",
     "traceback": [
      "\u001b[0;31m---------------------------------------------------------------------------\u001b[0m",
      "\u001b[0;31mModuleNotFoundError\u001b[0m                       Traceback (most recent call last)",
      "Cell \u001b[0;32mIn [2], line 3\u001b[0m\n\u001b[1;32m      1\u001b[0m \u001b[38;5;28;01mimport\u001b[39;00m \u001b[38;5;21;01mnumpy\u001b[39;00m \u001b[38;5;28;01mas\u001b[39;00m \u001b[38;5;21;01mnp\u001b[39;00m \u001b[38;5;66;03m# linear algebra\u001b[39;00m\n\u001b[1;32m      2\u001b[0m \u001b[38;5;28;01mimport\u001b[39;00m \u001b[38;5;21;01mpandas\u001b[39;00m \u001b[38;5;28;01mas\u001b[39;00m \u001b[38;5;21;01mpd\u001b[39;00m\n\u001b[0;32m----> 3\u001b[0m \u001b[38;5;28;01mfrom\u001b[39;00m \u001b[38;5;21;01mxgboost\u001b[39;00m \u001b[38;5;28;01mimport\u001b[39;00m plot_importance, plot_tree\n\u001b[1;32m      4\u001b[0m \u001b[38;5;28;01mimport\u001b[39;00m \u001b[38;5;21;01mxgboost\u001b[39;00m \u001b[38;5;28;01mas\u001b[39;00m \u001b[38;5;21;01mxgb\u001b[39;00m\n\u001b[1;32m      5\u001b[0m \u001b[38;5;28;01mimport\u001b[39;00m \u001b[38;5;21;01mmatplotlib\u001b[39;00m\u001b[38;5;21;01m.\u001b[39;00m\u001b[38;5;21;01mpyplot\u001b[39;00m \u001b[38;5;28;01mas\u001b[39;00m \u001b[38;5;21;01mplt\u001b[39;00m\n",
      "\u001b[0;31mModuleNotFoundError\u001b[0m: No module named 'xgboost'"
     ]
    }
   ],
   "source": [
    "import numpy as np # linear algebra\n",
    "import pandas as pd\n",
    "from xgboost import plot_importance, plot_tree\n",
    "import xgboost as xgb\n",
    "import matplotlib.pyplot as plt\n",
    "from sklearn.metrics import r2_score\n",
    "from sklearn.model_selection import GridSearchCV\n",
    "from sklearn.metrics import mean_squared_error, mean_absolute_error\n",
    "import seaborn as sns\n",
    "sns.set_style('whitegrid')\n",
    "plt.rcParams['figure.figsize']=(20,10) # for graphs styling\n",
    "plt.style.use('tableau-colorblind10')"
   ]
  },
  {
   "cell_type": "code",
   "execution_count": 3,
   "id": "8150d3e8",
   "metadata": {
    "execution": {
     "iopub.execute_input": "2023-05-09T23:06:45.541304Z",
     "iopub.status.busy": "2023-05-09T23:06:45.541183Z",
     "iopub.status.idle": "2023-05-09T23:06:47.964501Z",
     "shell.execute_reply": "2023-05-09T23:06:47.963797Z"
    }
   },
   "outputs": [
    {
     "name": "stdout",
     "output_type": "stream",
     "text": [
      "\u001b[33mWARNING: Ignoring invalid distribution -umpy (/opt/anaconda3/lib/python3.9/site-packages)\u001b[0m\r\n",
      "\u001b[33mWARNING: Ignoring invalid distribution -umpy (/opt/anaconda3/lib/python3.9/site-packages)\u001b[0m\r\n",
      "Requirement already satisfied: xgboost in /opt/anaconda3/lib/python3.9/site-packages (1.7.5)\r\n",
      "Requirement already satisfied: numpy in /opt/anaconda3/lib/python3.9/site-packages (from xgboost) (1.22.4)\r\n",
      "Requirement already satisfied: scipy in /opt/anaconda3/lib/python3.9/site-packages (from xgboost) (1.7.1)\r\n",
      "\u001b[33mWARNING: Ignoring invalid distribution -umpy (/opt/anaconda3/lib/python3.9/site-packages)\u001b[0m\r\n"
     ]
    },
    {
     "name": "stdout",
     "output_type": "stream",
     "text": [
      "\u001b[33mWARNING: Ignoring invalid distribution -umpy (/opt/anaconda3/lib/python3.9/site-packages)\u001b[0m\r\n",
      "\u001b[33mWARNING: Ignoring invalid distribution -umpy (/opt/anaconda3/lib/python3.9/site-packages)\u001b[0m\r\n"
     ]
    },
    {
     "name": "stdout",
     "output_type": "stream",
     "text": [
      "\u001b[33mWARNING: Ignoring invalid distribution -umpy (/opt/anaconda3/lib/python3.9/site-packages)\u001b[0m\r\n"
     ]
    }
   ],
   "source": [
    "get_ipython().system('pip install xgboost')"
   ]
  },
  {
   "cell_type": "code",
   "execution_count": 4,
   "id": "f3b921c5",
   "metadata": {
    "execution": {
     "iopub.execute_input": "2023-05-09T23:06:47.967512Z",
     "iopub.status.busy": "2023-05-09T23:06:47.967292Z",
     "iopub.status.idle": "2023-05-09T23:06:47.980837Z",
     "shell.execute_reply": "2023-05-09T23:06:47.980472Z"
    }
   },
   "outputs": [
    {
     "ename": "ModuleNotFoundError",
     "evalue": "No module named 'xgboost'",
     "output_type": "error",
     "traceback": [
      "\u001b[0;31m---------------------------------------------------------------------------\u001b[0m",
      "\u001b[0;31mModuleNotFoundError\u001b[0m                       Traceback (most recent call last)",
      "Cell \u001b[0;32mIn [4], line 3\u001b[0m\n\u001b[1;32m      1\u001b[0m \u001b[38;5;28;01mimport\u001b[39;00m \u001b[38;5;21;01mnumpy\u001b[39;00m \u001b[38;5;28;01mas\u001b[39;00m \u001b[38;5;21;01mnp\u001b[39;00m \u001b[38;5;66;03m# linear algebra\u001b[39;00m\n\u001b[1;32m      2\u001b[0m \u001b[38;5;28;01mimport\u001b[39;00m \u001b[38;5;21;01mpandas\u001b[39;00m \u001b[38;5;28;01mas\u001b[39;00m \u001b[38;5;21;01mpd\u001b[39;00m\n\u001b[0;32m----> 3\u001b[0m \u001b[38;5;28;01mfrom\u001b[39;00m \u001b[38;5;21;01mxgboost\u001b[39;00m \u001b[38;5;28;01mimport\u001b[39;00m plot_importance, plot_tree\n\u001b[1;32m      4\u001b[0m \u001b[38;5;28;01mimport\u001b[39;00m \u001b[38;5;21;01mxgboost\u001b[39;00m \u001b[38;5;28;01mas\u001b[39;00m \u001b[38;5;21;01mxgb\u001b[39;00m\n\u001b[1;32m      5\u001b[0m \u001b[38;5;28;01mimport\u001b[39;00m \u001b[38;5;21;01mmatplotlib\u001b[39;00m\u001b[38;5;21;01m.\u001b[39;00m\u001b[38;5;21;01mpyplot\u001b[39;00m \u001b[38;5;28;01mas\u001b[39;00m \u001b[38;5;21;01mplt\u001b[39;00m\n",
      "\u001b[0;31mModuleNotFoundError\u001b[0m: No module named 'xgboost'"
     ]
    }
   ],
   "source": [
    "import numpy as np # linear algebra\n",
    "import pandas as pd\n",
    "from xgboost import plot_importance, plot_tree\n",
    "import xgboost as xgb\n",
    "import matplotlib.pyplot as plt\n",
    "from sklearn.metrics import r2_score\n",
    "from sklearn.model_selection import GridSearchCV\n",
    "from sklearn.metrics import mean_squared_error, mean_absolute_error\n",
    "import seaborn as sns\n",
    "sns.set_style('whitegrid')\n",
    "plt.rcParams['figure.figsize']=(20,10) # for graphs styling\n",
    "plt.style.use('tableau-colorblind10')"
   ]
  },
  {
   "cell_type": "code",
   "execution_count": 5,
   "id": "3bb97a4d",
   "metadata": {
    "execution": {
     "iopub.execute_input": "2023-05-09T23:06:47.982917Z",
     "iopub.status.busy": "2023-05-09T23:06:47.982754Z",
     "iopub.status.idle": "2023-05-09T23:06:47.991708Z",
     "shell.execute_reply": "2023-05-09T23:06:47.991234Z"
    }
   },
   "outputs": [],
   "source": [
    "import os\n",
    "BIGQUERY_PROJECT = 'ironhacks-data'\n",
    "bigquery_client = bigquery.Client(project=BIGQUERY_PROJECT)"
   ]
  },
  {
   "cell_type": "code",
   "execution_count": 6,
   "id": "811e8c2e",
   "metadata": {
    "execution": {
     "iopub.execute_input": "2023-05-09T23:06:47.993707Z",
     "iopub.status.busy": "2023-05-09T23:06:47.993552Z",
     "iopub.status.idle": "2023-05-09T23:06:47.995869Z",
     "shell.execute_reply": "2023-05-09T23:06:47.995508Z"
    }
   },
   "outputs": [],
   "source": [
    "query = \"\"\"\n",
    "SELECT * FROM `ironhacks-data.ironhacks_training.weather_data`\n",
    "\"\"\""
   ]
  },
  {
   "cell_type": "code",
   "execution_count": 7,
   "id": "7fad39b6",
   "metadata": {
    "execution": {
     "iopub.execute_input": "2023-05-09T23:06:47.997505Z",
     "iopub.status.busy": "2023-05-09T23:06:47.997369Z",
     "iopub.status.idle": "2023-05-09T23:06:50.479195Z",
     "shell.execute_reply": "2023-05-09T23:06:50.478665Z"
    },
    "lines_to_next_cell": 2
   },
   "outputs": [
    {
     "data": {
      "text/html": [
       "<div>\n",
       "<style scoped>\n",
       "    .dataframe tbody tr th:only-of-type {\n",
       "        vertical-align: middle;\n",
       "    }\n",
       "\n",
       "    .dataframe tbody tr th {\n",
       "        vertical-align: top;\n",
       "    }\n",
       "\n",
       "    .dataframe thead th {\n",
       "        text-align: right;\n",
       "    }\n",
       "</style>\n",
       "<table border=\"1\" class=\"dataframe\">\n",
       "  <thead>\n",
       "    <tr style=\"text-align: right;\">\n",
       "      <th></th>\n",
       "      <th>date</th>\n",
       "      <th>max_rel_humidity</th>\n",
       "      <th>max_temperature</th>\n",
       "      <th>mean_temperature</th>\n",
       "      <th>min_rel_humidity</th>\n",
       "      <th>min_temperature</th>\n",
       "      <th>potential_water_deficit</th>\n",
       "      <th>precipitation_data</th>\n",
       "      <th>wind_speed</th>\n",
       "    </tr>\n",
       "  </thead>\n",
       "  <tbody>\n",
       "    <tr>\n",
       "      <th>0</th>\n",
       "      <td>2019-09-04</td>\n",
       "      <td>99.9498</td>\n",
       "      <td>25.4570</td>\n",
       "      <td>18.6242</td>\n",
       "      <td>56.4720</td>\n",
       "      <td>11.7913</td>\n",
       "      <td>-3.6142</td>\n",
       "      <td>0.0</td>\n",
       "      <td>3.6461</td>\n",
       "    </tr>\n",
       "    <tr>\n",
       "      <th>1</th>\n",
       "      <td>2020-02-16</td>\n",
       "      <td>84.4966</td>\n",
       "      <td>8.6228</td>\n",
       "      <td>3.1896</td>\n",
       "      <td>40.7666</td>\n",
       "      <td>-2.2436</td>\n",
       "      <td>-1.4307</td>\n",
       "      <td>0.0</td>\n",
       "      <td>2.2398</td>\n",
       "    </tr>\n",
       "    <tr>\n",
       "      <th>2</th>\n",
       "      <td>2019-12-19</td>\n",
       "      <td>95.9017</td>\n",
       "      <td>2.8886</td>\n",
       "      <td>-3.4884</td>\n",
       "      <td>39.0330</td>\n",
       "      <td>-9.8654</td>\n",
       "      <td>-0.9389</td>\n",
       "      <td>0.0</td>\n",
       "      <td>4.1230</td>\n",
       "    </tr>\n",
       "    <tr>\n",
       "      <th>3</th>\n",
       "      <td>2020-02-20</td>\n",
       "      <td>70.0359</td>\n",
       "      <td>0.7939</td>\n",
       "      <td>-4.0254</td>\n",
       "      <td>34.7544</td>\n",
       "      <td>-8.8446</td>\n",
       "      <td>-1.4427</td>\n",
       "      <td>0.0</td>\n",
       "      <td>4.8531</td>\n",
       "    </tr>\n",
       "    <tr>\n",
       "      <th>4</th>\n",
       "      <td>2019-12-23</td>\n",
       "      <td>97.1634</td>\n",
       "      <td>13.8411</td>\n",
       "      <td>5.7818</td>\n",
       "      <td>31.2553</td>\n",
       "      <td>-2.2774</td>\n",
       "      <td>-1.2787</td>\n",
       "      <td>0.0</td>\n",
       "      <td>2.3404</td>\n",
       "    </tr>\n",
       "  </tbody>\n",
       "</table>\n",
       "</div>"
      ],
      "text/plain": [
       "         date  max_rel_humidity  max_temperature  mean_temperature  \\\n",
       "0  2019-09-04           99.9498          25.4570           18.6242   \n",
       "1  2020-02-16           84.4966           8.6228            3.1896   \n",
       "2  2019-12-19           95.9017           2.8886           -3.4884   \n",
       "3  2020-02-20           70.0359           0.7939           -4.0254   \n",
       "4  2019-12-23           97.1634          13.8411            5.7818   \n",
       "\n",
       "   min_rel_humidity  min_temperature  potential_water_deficit  \\\n",
       "0           56.4720          11.7913                  -3.6142   \n",
       "1           40.7666          -2.2436                  -1.4307   \n",
       "2           39.0330          -9.8654                  -0.9389   \n",
       "3           34.7544          -8.8446                  -1.4427   \n",
       "4           31.2553          -2.2774                  -1.2787   \n",
       "\n",
       "   precipitation_data  wind_speed  \n",
       "0                 0.0      3.6461  \n",
       "1                 0.0      2.2398  \n",
       "2                 0.0      4.1230  \n",
       "3                 0.0      4.8531  \n",
       "4                 0.0      2.3404  "
      ]
     },
     "execution_count": 7,
     "metadata": {},
     "output_type": "execute_result"
    }
   ],
   "source": [
    "query_job = bigquery_client.query(query)\n",
    "df = query_job.to_dataframe()\n",
    "df.head()"
   ]
  }
 ],
 "metadata": {
  "jupytext": {
   "cell_metadata_filter": "-all",
   "main_language": "python",
   "notebook_metadata_filter": "-all"
  },
  "language_info": {
   "codemirror_mode": {
    "name": "ipython",
    "version": 3
   },
   "file_extension": ".py",
   "mimetype": "text/x-python",
   "name": "python",
   "nbconvert_exporter": "python",
   "pygments_lexer": "ipython3",
   "version": "3.9.12"
  }
 },
 "nbformat": 4,
 "nbformat_minor": 5
}
