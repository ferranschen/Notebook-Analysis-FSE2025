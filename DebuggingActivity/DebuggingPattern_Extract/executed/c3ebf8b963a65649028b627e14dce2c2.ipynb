{
 "cells": [
  {
   "cell_type": "markdown",
   "id": "dd1c1aa4",
   "metadata": {},
   "source": [
    "This script reads a text file, clean it in part and generates a word cloud using the words in the text"
   ]
  },
  {
   "cell_type": "code",
   "execution_count": 1,
   "id": "cd0c1925",
   "metadata": {
    "execution": {
     "iopub.execute_input": "2023-05-10T01:43:08.106505Z",
     "iopub.status.busy": "2023-05-10T01:43:08.106376Z",
     "iopub.status.idle": "2023-05-10T01:43:08.184569Z",
     "shell.execute_reply": "2023-05-10T01:43:08.184182Z"
    }
   },
   "outputs": [
    {
     "ename": "ModuleNotFoundError",
     "evalue": "No module named 'wordcloud'",
     "output_type": "error",
     "traceback": [
      "\u001b[0;31m---------------------------------------------------------------------------\u001b[0m",
      "\u001b[0;31mModuleNotFoundError\u001b[0m                       Traceback (most recent call last)",
      "Cell \u001b[0;32mIn [1], line 2\u001b[0m\n\u001b[1;32m      1\u001b[0m \u001b[38;5;66;03m# Importing the required libraries\u001b[39;00m\n\u001b[0;32m----> 2\u001b[0m \u001b[38;5;28;01mfrom\u001b[39;00m \u001b[38;5;21;01mwordcloud\u001b[39;00m \u001b[38;5;28;01mimport\u001b[39;00m WordCloud, STOPWORDS\n\u001b[1;32m      3\u001b[0m \u001b[38;5;28;01mimport\u001b[39;00m \u001b[38;5;21;01mmatplotlib\u001b[39;00m\u001b[38;5;21;01m.\u001b[39;00m\u001b[38;5;21;01mpyplot\u001b[39;00m \u001b[38;5;28;01mas\u001b[39;00m \u001b[38;5;21;01mplt\u001b[39;00m\n",
      "\u001b[0;31mModuleNotFoundError\u001b[0m: No module named 'wordcloud'"
     ]
    }
   ],
   "source": [
    "# Importing the required libraries\n",
    "from wordcloud import WordCloud, STOPWORDS\n",
    "import matplotlib.pyplot as plt"
   ]
  },
  {
   "cell_type": "code",
   "execution_count": 2,
   "id": "bc68465d",
   "metadata": {
    "execution": {
     "iopub.execute_input": "2023-05-10T01:43:08.186458Z",
     "iopub.status.busy": "2023-05-10T01:43:08.186336Z",
     "iopub.status.idle": "2023-05-10T01:43:08.248316Z",
     "shell.execute_reply": "2023-05-10T01:43:08.248033Z"
    }
   },
   "outputs": [
    {
     "ename": "FileNotFoundError",
     "evalue": "[Errno 2] No such file or directory: 'ai_trends.txtrU'",
     "output_type": "error",
     "traceback": [
      "\u001b[0;31m---------------------------------------------------------------------------\u001b[0m",
      "\u001b[0;31mFileNotFoundError\u001b[0m                         Traceback (most recent call last)",
      "Cell \u001b[0;32mIn [2], line 2\u001b[0m\n\u001b[1;32m      1\u001b[0m \u001b[38;5;66;03m# Read the whole text\u001b[39;00m\n\u001b[0;32m----> 2\u001b[0m file_read \u001b[38;5;241m=\u001b[39m \u001b[38;5;28;43mopen\u001b[39;49m\u001b[43m(\u001b[49m\u001b[38;5;124;43m'\u001b[39;49m\u001b[38;5;124;43mai_trends.txt\u001b[39;49m\u001b[38;5;124;43m'\u001b[39;49m\u001b[43m \u001b[49m\u001b[38;5;124;43m'\u001b[39;49m\u001b[38;5;124;43mrU\u001b[39;49m\u001b[38;5;124;43m'\u001b[39;49m\u001b[43m)\u001b[49m\n\u001b[1;32m      3\u001b[0m text_raw \u001b[38;5;241m=\u001b[39m file_read\u001b[38;5;241m.\u001b[39mread()\n",
      "File \u001b[0;32m~/Library/Python/3.9/lib/python/site-packages/IPython/core/interactiveshell.py:282\u001b[0m, in \u001b[0;36m_modified_open\u001b[0;34m(file, *args, **kwargs)\u001b[0m\n\u001b[1;32m    275\u001b[0m \u001b[38;5;28;01mif\u001b[39;00m file \u001b[38;5;129;01min\u001b[39;00m {\u001b[38;5;241m0\u001b[39m, \u001b[38;5;241m1\u001b[39m, \u001b[38;5;241m2\u001b[39m}:\n\u001b[1;32m    276\u001b[0m     \u001b[38;5;28;01mraise\u001b[39;00m \u001b[38;5;167;01mValueError\u001b[39;00m(\n\u001b[1;32m    277\u001b[0m         \u001b[38;5;124mf\u001b[39m\u001b[38;5;124m\"\u001b[39m\u001b[38;5;124mIPython won\u001b[39m\u001b[38;5;124m'\u001b[39m\u001b[38;5;124mt let you open fd=\u001b[39m\u001b[38;5;132;01m{\u001b[39;00mfile\u001b[38;5;132;01m}\u001b[39;00m\u001b[38;5;124m by default \u001b[39m\u001b[38;5;124m\"\u001b[39m\n\u001b[1;32m    278\u001b[0m         \u001b[38;5;124m\"\u001b[39m\u001b[38;5;124mas it is likely to crash IPython. If you know what you are doing, \u001b[39m\u001b[38;5;124m\"\u001b[39m\n\u001b[1;32m    279\u001b[0m         \u001b[38;5;124m\"\u001b[39m\u001b[38;5;124myou can use builtins\u001b[39m\u001b[38;5;124m'\u001b[39m\u001b[38;5;124m open.\u001b[39m\u001b[38;5;124m\"\u001b[39m\n\u001b[1;32m    280\u001b[0m     )\n\u001b[0;32m--> 282\u001b[0m \u001b[38;5;28;01mreturn\u001b[39;00m \u001b[43mio_open\u001b[49m\u001b[43m(\u001b[49m\u001b[43mfile\u001b[49m\u001b[43m,\u001b[49m\u001b[43m \u001b[49m\u001b[38;5;241;43m*\u001b[39;49m\u001b[43margs\u001b[49m\u001b[43m,\u001b[49m\u001b[43m \u001b[49m\u001b[38;5;241;43m*\u001b[39;49m\u001b[38;5;241;43m*\u001b[39;49m\u001b[43mkwargs\u001b[49m\u001b[43m)\u001b[49m\n",
      "\u001b[0;31mFileNotFoundError\u001b[0m: [Errno 2] No such file or directory: 'ai_trends.txtrU'"
     ]
    }
   ],
   "source": [
    "# Read the whole text\n",
    "file_read = open('ai_trends.txt' 'rU')\n",
    "text_raw = file_read.read()"
   ]
  },
  {
   "cell_type": "code",
   "execution_count": 3,
   "id": "d3021079",
   "metadata": {
    "execution": {
     "iopub.execute_input": "2023-05-10T01:43:08.249883Z",
     "iopub.status.busy": "2023-05-10T01:43:08.249778Z",
     "iopub.status.idle": "2023-05-10T01:43:08.256146Z",
     "shell.execute_reply": "2023-05-10T01:43:08.255885Z"
    }
   },
   "outputs": [
    {
     "ename": "NameError",
     "evalue": "name 'text_raw' is not defined",
     "output_type": "error",
     "traceback": [
      "\u001b[0;31m---------------------------------------------------------------------------\u001b[0m",
      "\u001b[0;31mNameError\u001b[0m                                 Traceback (most recent call last)",
      "Cell \u001b[0;32mIn [3], line 2\u001b[0m\n\u001b[1;32m      1\u001b[0m \u001b[38;5;66;03m# Replace end of line character with space\u001b[39;00m\n\u001b[0;32m----> 2\u001b[0m \u001b[43mtext_raw\u001b[49m\u001b[38;5;241m.\u001b[39mreplace(\u001b[38;5;124m'\u001b[39m\u001b[38;5;130;01m\\n\u001b[39;00m\u001b[38;5;124m'\u001b[39m, \u001b[38;5;124m'\u001b[39m\u001b[38;5;124m \u001b[39m\u001b[38;5;124m'\u001b[39m)\n",
      "\u001b[0;31mNameError\u001b[0m: name 'text_raw' is not defined"
     ]
    }
   ],
   "source": [
    "# Replace end of line character with space\n",
    "text_raw.replace('\\n', ' ')"
   ]
  },
  {
   "cell_type": "code",
   "execution_count": 4,
   "id": "93fb9a50",
   "metadata": {
    "execution": {
     "iopub.execute_input": "2023-05-10T01:43:08.257543Z",
     "iopub.status.busy": "2023-05-10T01:43:08.257438Z",
     "iopub.status.idle": "2023-05-10T01:43:08.264148Z",
     "shell.execute_reply": "2023-05-10T01:43:08.263904Z"
    }
   },
   "outputs": [
    {
     "ename": "NameError",
     "evalue": "name 'text_raw' is not defined",
     "output_type": "error",
     "traceback": [
      "\u001b[0;31m---------------------------------------------------------------------------\u001b[0m",
      "\u001b[0;31mNameError\u001b[0m                                 Traceback (most recent call last)",
      "Cell \u001b[0;32mIn [4], line 3\u001b[0m\n\u001b[1;32m      1\u001b[0m \u001b[38;5;66;03m# Save a lower-case version of each word to a list\u001b[39;00m\n\u001b[1;32m      2\u001b[0m words_list \u001b[38;5;241m=\u001b[39m []\n\u001b[0;32m----> 3\u001b[0m \u001b[38;5;28;01mfor\u001b[39;00m word \u001b[38;5;129;01min\u001b[39;00m \u001b[43mtext_raw\u001b[49m\u001b[38;5;241m.\u001b[39mstrip()\u001b[38;5;241m.\u001b[39msplit(): \n\u001b[1;32m      4\u001b[0m \twords_list\u001b[38;5;241m.\u001b[39mappend(word\u001b[38;5;241m.\u001b[39mlower())\n",
      "\u001b[0;31mNameError\u001b[0m: name 'text_raw' is not defined"
     ]
    }
   ],
   "source": [
    "# Save a lower-case version of each word to a list\n",
    "words_list = []\n",
    "for word in text_raw.strip().split(): \n",
    "\twords_list.append(word.lower())"
   ]
  },
  {
   "cell_type": "code",
   "execution_count": 5,
   "id": "0ccaffbb",
   "metadata": {
    "execution": {
     "iopub.execute_input": "2023-05-10T01:43:08.265541Z",
     "iopub.status.busy": "2023-05-10T01:43:08.265461Z",
     "iopub.status.idle": "2023-05-10T01:43:08.267193Z",
     "shell.execute_reply": "2023-05-10T01:43:08.266945Z"
    }
   },
   "outputs": [],
   "source": [
    "# Eliminate non alpha elements\n",
    "text_list = [word.lower() for word in words_list if word.isalpha()]"
   ]
  },
  {
   "cell_type": "code",
   "execution_count": 6,
   "id": "e69a3310",
   "metadata": {
    "execution": {
     "iopub.execute_input": "2023-05-10T01:43:08.268510Z",
     "iopub.status.busy": "2023-05-10T01:43:08.268432Z",
     "iopub.status.idle": "2023-05-10T01:43:08.270081Z",
     "shell.execute_reply": "2023-05-10T01:43:08.269866Z"
    }
   },
   "outputs": [],
   "source": [
    "# Transforming the list into a string for displaying\n",
    "text_str = ' '.join(text_list)"
   ]
  },
  {
   "cell_type": "code",
   "execution_count": 7,
   "id": "5b664307",
   "metadata": {
    "execution": {
     "iopub.execute_input": "2023-05-10T01:43:08.271480Z",
     "iopub.status.busy": "2023-05-10T01:43:08.271404Z",
     "iopub.status.idle": "2023-05-10T01:43:08.277885Z",
     "shell.execute_reply": "2023-05-10T01:43:08.277649Z"
    }
   },
   "outputs": [
    {
     "ename": "NameError",
     "evalue": "name 'STOPWORDS' is not defined",
     "output_type": "error",
     "traceback": [
      "\u001b[0;31m---------------------------------------------------------------------------\u001b[0m",
      "\u001b[0;31mNameError\u001b[0m                                 Traceback (most recent call last)",
      "Cell \u001b[0;32mIn [7], line 2\u001b[0m\n\u001b[1;32m      1\u001b[0m \u001b[38;5;66;03m# Crating and updating the stopword list\u001b[39;00m\n\u001b[0;32m----> 2\u001b[0m stpwords \u001b[38;5;241m=\u001b[39m \u001b[38;5;28mset\u001b[39m(\u001b[43mSTOPWORDS\u001b[49m)\n\u001b[1;32m      3\u001b[0m stpwords\u001b[38;5;241m.\u001b[39madd(\u001b[38;5;124m'\u001b[39m\u001b[38;5;124mwill\u001b[39m\u001b[38;5;124m'\u001b[39m)\n\u001b[1;32m      4\u001b[0m stpwords\u001b[38;5;241m.\u001b[39madd(\u001b[38;5;124m'\u001b[39m\u001b[38;5;124msaid\u001b[39m\u001b[38;5;124m'\u001b[39m)\n",
      "\u001b[0;31mNameError\u001b[0m: name 'STOPWORDS' is not defined"
     ]
    }
   ],
   "source": [
    "# Crating and updating the stopword list\n",
    "stpwords = set(STOPWORDS)\n",
    "stpwords.add('will')\n",
    "stpwords.add('said')"
   ]
  },
  {
   "cell_type": "code",
   "execution_count": 8,
   "id": "e55fc7e8",
   "metadata": {
    "execution": {
     "iopub.execute_input": "2023-05-10T01:43:08.279300Z",
     "iopub.status.busy": "2023-05-10T01:43:08.279226Z",
     "iopub.status.idle": "2023-05-10T01:43:08.285645Z",
     "shell.execute_reply": "2023-05-10T01:43:08.285382Z"
    }
   },
   "outputs": [
    {
     "ename": "NameError",
     "evalue": "name 'WordCloud' is not defined",
     "output_type": "error",
     "traceback": [
      "\u001b[0;31m---------------------------------------------------------------------------\u001b[0m",
      "\u001b[0;31mNameError\u001b[0m                                 Traceback (most recent call last)",
      "Cell \u001b[0;32mIn [8], line 2\u001b[0m\n\u001b[1;32m      1\u001b[0m \u001b[38;5;66;03m# Defining the wordcloud parameters\u001b[39;00m\n\u001b[0;32m----> 2\u001b[0m wc \u001b[38;5;241m=\u001b[39m \u001b[43mWordCloud\u001b[49m(background_color\u001b[38;5;241m=\u001b[39m\u001b[38;5;124m\"\u001b[39m\u001b[38;5;124mwhite\u001b[39m\u001b[38;5;124m\"\u001b[39m, max_words\u001b[38;5;241m=\u001b[39m\u001b[38;5;241m2000\u001b[39m,\n\u001b[1;32m      3\u001b[0m                stopwords\u001b[38;5;241m=\u001b[39mstpwords)\n",
      "\u001b[0;31mNameError\u001b[0m: name 'WordCloud' is not defined"
     ]
    }
   ],
   "source": [
    "# Defining the wordcloud parameters\n",
    "wc = WordCloud(background_color=\"white\", max_words=2000,\n",
    "               stopwords=stpwords)"
   ]
  },
  {
   "cell_type": "code",
   "execution_count": 9,
   "id": "4a61ed99",
   "metadata": {
    "execution": {
     "iopub.execute_input": "2023-05-10T01:43:08.287052Z",
     "iopub.status.busy": "2023-05-10T01:43:08.286969Z",
     "iopub.status.idle": "2023-05-10T01:43:08.293327Z",
     "shell.execute_reply": "2023-05-10T01:43:08.293088Z"
    }
   },
   "outputs": [
    {
     "ename": "NameError",
     "evalue": "name 'wc' is not defined",
     "output_type": "error",
     "traceback": [
      "\u001b[0;31m---------------------------------------------------------------------------\u001b[0m",
      "\u001b[0;31mNameError\u001b[0m                                 Traceback (most recent call last)",
      "Cell \u001b[0;32mIn [9], line 2\u001b[0m\n\u001b[1;32m      1\u001b[0m \u001b[38;5;66;03m# Generate word cloud\u001b[39;00m\n\u001b[0;32m----> 2\u001b[0m \u001b[43mwc\u001b[49m\u001b[38;5;241m.\u001b[39mgenerate(text_str)\n",
      "\u001b[0;31mNameError\u001b[0m: name 'wc' is not defined"
     ]
    }
   ],
   "source": [
    "# Generate word cloud\n",
    "wc.generate(text_str)"
   ]
  },
  {
   "cell_type": "code",
   "execution_count": 10,
   "id": "e68f1c31",
   "metadata": {
    "execution": {
     "iopub.execute_input": "2023-05-10T01:43:08.294615Z",
     "iopub.status.busy": "2023-05-10T01:43:08.294533Z",
     "iopub.status.idle": "2023-05-10T01:43:08.301199Z",
     "shell.execute_reply": "2023-05-10T01:43:08.300967Z"
    }
   },
   "outputs": [
    {
     "ename": "NameError",
     "evalue": "name 'wc' is not defined",
     "output_type": "error",
     "traceback": [
      "\u001b[0;31m---------------------------------------------------------------------------\u001b[0m",
      "\u001b[0;31mNameError\u001b[0m                                 Traceback (most recent call last)",
      "Cell \u001b[0;32mIn [10], line 2\u001b[0m\n\u001b[1;32m      1\u001b[0m \u001b[38;5;66;03m# Store to file\u001b[39;00m\n\u001b[0;32m----> 2\u001b[0m \u001b[43mwc\u001b[49m\u001b[38;5;241m.\u001b[39mto_file(\u001b[38;5;124m'\u001b[39m\u001b[38;5;124mTrump.png\u001b[39m\u001b[38;5;124m'\u001b[39m)\n",
      "\u001b[0;31mNameError\u001b[0m: name 'wc' is not defined"
     ]
    }
   ],
   "source": [
    "# Store to file\n",
    "wc.to_file('Trump.png')"
   ]
  },
  {
   "cell_type": "code",
   "execution_count": 11,
   "id": "56216948",
   "metadata": {
    "execution": {
     "iopub.execute_input": "2023-05-10T01:43:08.302577Z",
     "iopub.status.busy": "2023-05-10T01:43:08.302494Z",
     "iopub.status.idle": "2023-05-10T01:43:08.308939Z",
     "shell.execute_reply": "2023-05-10T01:43:08.308685Z"
    }
   },
   "outputs": [
    {
     "ename": "NameError",
     "evalue": "name 'plt' is not defined",
     "output_type": "error",
     "traceback": [
      "\u001b[0;31m---------------------------------------------------------------------------\u001b[0m",
      "\u001b[0;31mNameError\u001b[0m                                 Traceback (most recent call last)",
      "Cell \u001b[0;32mIn [11], line 2\u001b[0m\n\u001b[1;32m      1\u001b[0m \u001b[38;5;66;03m# Show the cloud\u001b[39;00m\n\u001b[0;32m----> 2\u001b[0m \u001b[43mplt\u001b[49m\u001b[38;5;241m.\u001b[39mimshow(wc)\n\u001b[1;32m      3\u001b[0m plt\u001b[38;5;241m.\u001b[39maxis(\u001b[38;5;124m'\u001b[39m\u001b[38;5;124moff\u001b[39m\u001b[38;5;124m'\u001b[39m)\n\u001b[1;32m      4\u001b[0m plt\u001b[38;5;241m.\u001b[39mshow()\n",
      "\u001b[0;31mNameError\u001b[0m: name 'plt' is not defined"
     ]
    }
   ],
   "source": [
    "# Show the cloud\n",
    "plt.imshow(wc)\n",
    "plt.axis('off')\n",
    "plt.show()"
   ]
  },
  {
   "cell_type": "markdown",
   "id": "18754306",
   "metadata": {},
   "source": [
    "This script reads a text file, clean it in part and generates a word cloud using the words in the text"
   ]
  },
  {
   "cell_type": "code",
   "execution_count": 12,
   "id": "e7721ce1",
   "metadata": {
    "execution": {
     "iopub.execute_input": "2023-05-10T01:43:08.310278Z",
     "iopub.status.busy": "2023-05-10T01:43:08.310198Z",
     "iopub.status.idle": "2023-05-10T01:43:08.316574Z",
     "shell.execute_reply": "2023-05-10T01:43:08.316337Z"
    }
   },
   "outputs": [
    {
     "ename": "ModuleNotFoundError",
     "evalue": "No module named 'wordcloud'",
     "output_type": "error",
     "traceback": [
      "\u001b[0;31m---------------------------------------------------------------------------\u001b[0m",
      "\u001b[0;31mModuleNotFoundError\u001b[0m                       Traceback (most recent call last)",
      "Cell \u001b[0;32mIn [12], line 2\u001b[0m\n\u001b[1;32m      1\u001b[0m \u001b[38;5;66;03m# Importing the required libraries\u001b[39;00m\n\u001b[0;32m----> 2\u001b[0m \u001b[38;5;28;01mfrom\u001b[39;00m \u001b[38;5;21;01mwordcloud\u001b[39;00m \u001b[38;5;28;01mimport\u001b[39;00m WordCloud, STOPWORDS\n\u001b[1;32m      3\u001b[0m \u001b[38;5;28;01mimport\u001b[39;00m \u001b[38;5;21;01mmatplotlib\u001b[39;00m\u001b[38;5;21;01m.\u001b[39;00m\u001b[38;5;21;01mpyplot\u001b[39;00m \u001b[38;5;28;01mas\u001b[39;00m \u001b[38;5;21;01mplt\u001b[39;00m\n",
      "\u001b[0;31mModuleNotFoundError\u001b[0m: No module named 'wordcloud'"
     ]
    }
   ],
   "source": [
    "# Importing the required libraries\n",
    "from wordcloud import WordCloud, STOPWORDS\n",
    "import matplotlib.pyplot as plt"
   ]
  },
  {
   "cell_type": "code",
   "execution_count": 13,
   "id": "d8192495",
   "metadata": {
    "execution": {
     "iopub.execute_input": "2023-05-10T01:43:08.317939Z",
     "iopub.status.busy": "2023-05-10T01:43:08.317855Z",
     "iopub.status.idle": "2023-05-10T01:43:08.326758Z",
     "shell.execute_reply": "2023-05-10T01:43:08.326521Z"
    }
   },
   "outputs": [
    {
     "ename": "FileNotFoundError",
     "evalue": "[Errno 2] No such file or directory: 'ai_trends.txtrU'",
     "output_type": "error",
     "traceback": [
      "\u001b[0;31m---------------------------------------------------------------------------\u001b[0m",
      "\u001b[0;31mFileNotFoundError\u001b[0m                         Traceback (most recent call last)",
      "Cell \u001b[0;32mIn [13], line 2\u001b[0m\n\u001b[1;32m      1\u001b[0m \u001b[38;5;66;03m# Read the whole text\u001b[39;00m\n\u001b[0;32m----> 2\u001b[0m file_read \u001b[38;5;241m=\u001b[39m \u001b[38;5;28;43mopen\u001b[39;49m\u001b[43m(\u001b[49m\u001b[38;5;124;43m'\u001b[39;49m\u001b[38;5;124;43mai_trends.txt\u001b[39;49m\u001b[38;5;124;43m'\u001b[39;49m\u001b[43m \u001b[49m\u001b[38;5;124;43m'\u001b[39;49m\u001b[38;5;124;43mrU\u001b[39;49m\u001b[38;5;124;43m'\u001b[39;49m\u001b[43m)\u001b[49m\n\u001b[1;32m      3\u001b[0m text_raw \u001b[38;5;241m=\u001b[39m file_read\u001b[38;5;241m.\u001b[39mread()\n",
      "File \u001b[0;32m~/Library/Python/3.9/lib/python/site-packages/IPython/core/interactiveshell.py:282\u001b[0m, in \u001b[0;36m_modified_open\u001b[0;34m(file, *args, **kwargs)\u001b[0m\n\u001b[1;32m    275\u001b[0m \u001b[38;5;28;01mif\u001b[39;00m file \u001b[38;5;129;01min\u001b[39;00m {\u001b[38;5;241m0\u001b[39m, \u001b[38;5;241m1\u001b[39m, \u001b[38;5;241m2\u001b[39m}:\n\u001b[1;32m    276\u001b[0m     \u001b[38;5;28;01mraise\u001b[39;00m \u001b[38;5;167;01mValueError\u001b[39;00m(\n\u001b[1;32m    277\u001b[0m         \u001b[38;5;124mf\u001b[39m\u001b[38;5;124m\"\u001b[39m\u001b[38;5;124mIPython won\u001b[39m\u001b[38;5;124m'\u001b[39m\u001b[38;5;124mt let you open fd=\u001b[39m\u001b[38;5;132;01m{\u001b[39;00mfile\u001b[38;5;132;01m}\u001b[39;00m\u001b[38;5;124m by default \u001b[39m\u001b[38;5;124m\"\u001b[39m\n\u001b[1;32m    278\u001b[0m         \u001b[38;5;124m\"\u001b[39m\u001b[38;5;124mas it is likely to crash IPython. If you know what you are doing, \u001b[39m\u001b[38;5;124m\"\u001b[39m\n\u001b[1;32m    279\u001b[0m         \u001b[38;5;124m\"\u001b[39m\u001b[38;5;124myou can use builtins\u001b[39m\u001b[38;5;124m'\u001b[39m\u001b[38;5;124m open.\u001b[39m\u001b[38;5;124m\"\u001b[39m\n\u001b[1;32m    280\u001b[0m     )\n\u001b[0;32m--> 282\u001b[0m \u001b[38;5;28;01mreturn\u001b[39;00m \u001b[43mio_open\u001b[49m\u001b[43m(\u001b[49m\u001b[43mfile\u001b[49m\u001b[43m,\u001b[49m\u001b[43m \u001b[49m\u001b[38;5;241;43m*\u001b[39;49m\u001b[43margs\u001b[49m\u001b[43m,\u001b[49m\u001b[43m \u001b[49m\u001b[38;5;241;43m*\u001b[39;49m\u001b[38;5;241;43m*\u001b[39;49m\u001b[43mkwargs\u001b[49m\u001b[43m)\u001b[49m\n",
      "\u001b[0;31mFileNotFoundError\u001b[0m: [Errno 2] No such file or directory: 'ai_trends.txtrU'"
     ]
    }
   ],
   "source": [
    "# Read the whole text\n",
    "file_read = open('ai_trends.txt' 'rU')\n",
    "text_raw = file_read.read()"
   ]
  },
  {
   "cell_type": "code",
   "execution_count": 14,
   "id": "3ca33fbe",
   "metadata": {
    "execution": {
     "iopub.execute_input": "2023-05-10T01:43:08.328113Z",
     "iopub.status.busy": "2023-05-10T01:43:08.328028Z",
     "iopub.status.idle": "2023-05-10T01:43:08.334167Z",
     "shell.execute_reply": "2023-05-10T01:43:08.333938Z"
    }
   },
   "outputs": [
    {
     "ename": "NameError",
     "evalue": "name 'text_raw' is not defined",
     "output_type": "error",
     "traceback": [
      "\u001b[0;31m---------------------------------------------------------------------------\u001b[0m",
      "\u001b[0;31mNameError\u001b[0m                                 Traceback (most recent call last)",
      "Cell \u001b[0;32mIn [14], line 2\u001b[0m\n\u001b[1;32m      1\u001b[0m \u001b[38;5;66;03m# Replace end of line character with space\u001b[39;00m\n\u001b[0;32m----> 2\u001b[0m \u001b[43mtext_raw\u001b[49m\u001b[38;5;241m.\u001b[39mreplace(\u001b[38;5;124m'\u001b[39m\u001b[38;5;130;01m\\n\u001b[39;00m\u001b[38;5;124m'\u001b[39m, \u001b[38;5;124m'\u001b[39m\u001b[38;5;124m \u001b[39m\u001b[38;5;124m'\u001b[39m)\n",
      "\u001b[0;31mNameError\u001b[0m: name 'text_raw' is not defined"
     ]
    }
   ],
   "source": [
    "# Replace end of line character with space\n",
    "text_raw.replace('\\n', ' ')"
   ]
  },
  {
   "cell_type": "code",
   "execution_count": 15,
   "id": "3318bd8f",
   "metadata": {
    "execution": {
     "iopub.execute_input": "2023-05-10T01:43:08.335579Z",
     "iopub.status.busy": "2023-05-10T01:43:08.335500Z",
     "iopub.status.idle": "2023-05-10T01:43:08.341953Z",
     "shell.execute_reply": "2023-05-10T01:43:08.341702Z"
    }
   },
   "outputs": [
    {
     "ename": "NameError",
     "evalue": "name 'text_raw' is not defined",
     "output_type": "error",
     "traceback": [
      "\u001b[0;31m---------------------------------------------------------------------------\u001b[0m",
      "\u001b[0;31mNameError\u001b[0m                                 Traceback (most recent call last)",
      "Cell \u001b[0;32mIn [15], line 3\u001b[0m\n\u001b[1;32m      1\u001b[0m \u001b[38;5;66;03m# Save a lower-case version of each word to a list\u001b[39;00m\n\u001b[1;32m      2\u001b[0m words_list \u001b[38;5;241m=\u001b[39m []\n\u001b[0;32m----> 3\u001b[0m \u001b[38;5;28;01mfor\u001b[39;00m word \u001b[38;5;129;01min\u001b[39;00m \u001b[43mtext_raw\u001b[49m\u001b[38;5;241m.\u001b[39mstrip()\u001b[38;5;241m.\u001b[39msplit(): \n\u001b[1;32m      4\u001b[0m \twords_list\u001b[38;5;241m.\u001b[39mappend(word\u001b[38;5;241m.\u001b[39mlower())\n",
      "\u001b[0;31mNameError\u001b[0m: name 'text_raw' is not defined"
     ]
    }
   ],
   "source": [
    "# Save a lower-case version of each word to a list\n",
    "words_list = []\n",
    "for word in text_raw.strip().split(): \n",
    "\twords_list.append(word.lower())"
   ]
  },
  {
   "cell_type": "code",
   "execution_count": 16,
   "id": "f9f2b75c",
   "metadata": {
    "execution": {
     "iopub.execute_input": "2023-05-10T01:43:08.343323Z",
     "iopub.status.busy": "2023-05-10T01:43:08.343246Z",
     "iopub.status.idle": "2023-05-10T01:43:08.344971Z",
     "shell.execute_reply": "2023-05-10T01:43:08.344721Z"
    }
   },
   "outputs": [],
   "source": [
    "# Eliminate non alpha elements\n",
    "text_list = [word.lower() for word in words_list if word.isalpha()]"
   ]
  },
  {
   "cell_type": "code",
   "execution_count": 17,
   "id": "8d1cf5a2",
   "metadata": {
    "execution": {
     "iopub.execute_input": "2023-05-10T01:43:08.346289Z",
     "iopub.status.busy": "2023-05-10T01:43:08.346205Z",
     "iopub.status.idle": "2023-05-10T01:43:08.347781Z",
     "shell.execute_reply": "2023-05-10T01:43:08.347554Z"
    }
   },
   "outputs": [],
   "source": [
    "# Transforming the list into a string for displaying\n",
    "text_str = ' '.join(text_list)"
   ]
  },
  {
   "cell_type": "code",
   "execution_count": 18,
   "id": "c075ca99",
   "metadata": {
    "execution": {
     "iopub.execute_input": "2023-05-10T01:43:08.349104Z",
     "iopub.status.busy": "2023-05-10T01:43:08.349019Z",
     "iopub.status.idle": "2023-05-10T01:43:08.355767Z",
     "shell.execute_reply": "2023-05-10T01:43:08.355503Z"
    }
   },
   "outputs": [
    {
     "ename": "NameError",
     "evalue": "name 'STOPWORDS' is not defined",
     "output_type": "error",
     "traceback": [
      "\u001b[0;31m---------------------------------------------------------------------------\u001b[0m",
      "\u001b[0;31mNameError\u001b[0m                                 Traceback (most recent call last)",
      "Cell \u001b[0;32mIn [18], line 2\u001b[0m\n\u001b[1;32m      1\u001b[0m \u001b[38;5;66;03m# Crating and updating the stopword list\u001b[39;00m\n\u001b[0;32m----> 2\u001b[0m stpwords \u001b[38;5;241m=\u001b[39m \u001b[38;5;28mset\u001b[39m(\u001b[43mSTOPWORDS\u001b[49m)\n\u001b[1;32m      3\u001b[0m stpwords\u001b[38;5;241m.\u001b[39madd(\u001b[38;5;124m'\u001b[39m\u001b[38;5;124mwill\u001b[39m\u001b[38;5;124m'\u001b[39m)\n\u001b[1;32m      4\u001b[0m stpwords\u001b[38;5;241m.\u001b[39madd(\u001b[38;5;124m'\u001b[39m\u001b[38;5;124msaid\u001b[39m\u001b[38;5;124m'\u001b[39m)\n",
      "\u001b[0;31mNameError\u001b[0m: name 'STOPWORDS' is not defined"
     ]
    }
   ],
   "source": [
    "# Crating and updating the stopword list\n",
    "stpwords = set(STOPWORDS)\n",
    "stpwords.add('will')\n",
    "stpwords.add('said')"
   ]
  },
  {
   "cell_type": "code",
   "execution_count": 19,
   "id": "a79938a5",
   "metadata": {
    "execution": {
     "iopub.execute_input": "2023-05-10T01:43:08.357282Z",
     "iopub.status.busy": "2023-05-10T01:43:08.357167Z",
     "iopub.status.idle": "2023-05-10T01:43:08.364723Z",
     "shell.execute_reply": "2023-05-10T01:43:08.364468Z"
    }
   },
   "outputs": [
    {
     "ename": "NameError",
     "evalue": "name 'WordCloud' is not defined",
     "output_type": "error",
     "traceback": [
      "\u001b[0;31m---------------------------------------------------------------------------\u001b[0m",
      "\u001b[0;31mNameError\u001b[0m                                 Traceback (most recent call last)",
      "Cell \u001b[0;32mIn [19], line 2\u001b[0m\n\u001b[1;32m      1\u001b[0m \u001b[38;5;66;03m# Defining the wordcloud parameters\u001b[39;00m\n\u001b[0;32m----> 2\u001b[0m wc \u001b[38;5;241m=\u001b[39m \u001b[43mWordCloud\u001b[49m(background_color\u001b[38;5;241m=\u001b[39m\u001b[38;5;124m\"\u001b[39m\u001b[38;5;124mwhite\u001b[39m\u001b[38;5;124m\"\u001b[39m, max_words\u001b[38;5;241m=\u001b[39m\u001b[38;5;241m2000\u001b[39m,\n\u001b[1;32m      3\u001b[0m                stopwords\u001b[38;5;241m=\u001b[39mstpwords)\n",
      "\u001b[0;31mNameError\u001b[0m: name 'WordCloud' is not defined"
     ]
    }
   ],
   "source": [
    "# Defining the wordcloud parameters\n",
    "wc = WordCloud(background_color=\"white\", max_words=2000,\n",
    "               stopwords=stpwords)"
   ]
  },
  {
   "cell_type": "code",
   "execution_count": 20,
   "id": "b65f8541",
   "metadata": {
    "execution": {
     "iopub.execute_input": "2023-05-10T01:43:08.366361Z",
     "iopub.status.busy": "2023-05-10T01:43:08.366250Z",
     "iopub.status.idle": "2023-05-10T01:43:08.372818Z",
     "shell.execute_reply": "2023-05-10T01:43:08.372564Z"
    }
   },
   "outputs": [
    {
     "ename": "NameError",
     "evalue": "name 'wc' is not defined",
     "output_type": "error",
     "traceback": [
      "\u001b[0;31m---------------------------------------------------------------------------\u001b[0m",
      "\u001b[0;31mNameError\u001b[0m                                 Traceback (most recent call last)",
      "Cell \u001b[0;32mIn [20], line 2\u001b[0m\n\u001b[1;32m      1\u001b[0m \u001b[38;5;66;03m# Generate word cloud\u001b[39;00m\n\u001b[0;32m----> 2\u001b[0m \u001b[43mwc\u001b[49m\u001b[38;5;241m.\u001b[39mgenerate(text_str)\n",
      "\u001b[0;31mNameError\u001b[0m: name 'wc' is not defined"
     ]
    }
   ],
   "source": [
    "# Generate word cloud\n",
    "wc.generate(text_str)"
   ]
  },
  {
   "cell_type": "code",
   "execution_count": 21,
   "id": "c098279e",
   "metadata": {
    "execution": {
     "iopub.execute_input": "2023-05-10T01:43:08.374356Z",
     "iopub.status.busy": "2023-05-10T01:43:08.374235Z",
     "iopub.status.idle": "2023-05-10T01:43:08.380878Z",
     "shell.execute_reply": "2023-05-10T01:43:08.380625Z"
    }
   },
   "outputs": [
    {
     "ename": "NameError",
     "evalue": "name 'wc' is not defined",
     "output_type": "error",
     "traceback": [
      "\u001b[0;31m---------------------------------------------------------------------------\u001b[0m",
      "\u001b[0;31mNameError\u001b[0m                                 Traceback (most recent call last)",
      "Cell \u001b[0;32mIn [21], line 2\u001b[0m\n\u001b[1;32m      1\u001b[0m \u001b[38;5;66;03m# Store to file\u001b[39;00m\n\u001b[0;32m----> 2\u001b[0m \u001b[43mwc\u001b[49m\u001b[38;5;241m.\u001b[39mto_file(\u001b[38;5;124m'\u001b[39m\u001b[38;5;124mTrump.png\u001b[39m\u001b[38;5;124m'\u001b[39m)\n",
      "\u001b[0;31mNameError\u001b[0m: name 'wc' is not defined"
     ]
    }
   ],
   "source": [
    "# Store to file\n",
    "wc.to_file('Trump.png')"
   ]
  },
  {
   "cell_type": "code",
   "execution_count": 22,
   "id": "a8906da2",
   "metadata": {
    "execution": {
     "iopub.execute_input": "2023-05-10T01:43:08.382308Z",
     "iopub.status.busy": "2023-05-10T01:43:08.382224Z",
     "iopub.status.idle": "2023-05-10T01:43:08.388621Z",
     "shell.execute_reply": "2023-05-10T01:43:08.388395Z"
    }
   },
   "outputs": [
    {
     "ename": "NameError",
     "evalue": "name 'plt' is not defined",
     "output_type": "error",
     "traceback": [
      "\u001b[0;31m---------------------------------------------------------------------------\u001b[0m",
      "\u001b[0;31mNameError\u001b[0m                                 Traceback (most recent call last)",
      "Cell \u001b[0;32mIn [22], line 2\u001b[0m\n\u001b[1;32m      1\u001b[0m \u001b[38;5;66;03m# Show the cloud\u001b[39;00m\n\u001b[0;32m----> 2\u001b[0m \u001b[43mplt\u001b[49m\u001b[38;5;241m.\u001b[39mimshow(wc)\n\u001b[1;32m      3\u001b[0m plt\u001b[38;5;241m.\u001b[39maxis(\u001b[38;5;124m'\u001b[39m\u001b[38;5;124moff\u001b[39m\u001b[38;5;124m'\u001b[39m)\n\u001b[1;32m      4\u001b[0m plt\u001b[38;5;241m.\u001b[39mshow()\n",
      "\u001b[0;31mNameError\u001b[0m: name 'plt' is not defined"
     ]
    }
   ],
   "source": [
    "# Show the cloud\n",
    "plt.imshow(wc)\n",
    "plt.axis('off')\n",
    "plt.show()"
   ]
  },
  {
   "cell_type": "markdown",
   "id": "cb6be5ef",
   "metadata": {},
   "source": [
    "This script reads a text file, clean it in part and generates a word cloud using the words in the text"
   ]
  },
  {
   "cell_type": "code",
   "execution_count": 23,
   "id": "3b87642d",
   "metadata": {
    "execution": {
     "iopub.execute_input": "2023-05-10T01:43:08.389986Z",
     "iopub.status.busy": "2023-05-10T01:43:08.389904Z",
     "iopub.status.idle": "2023-05-10T01:43:08.396203Z",
     "shell.execute_reply": "2023-05-10T01:43:08.395979Z"
    }
   },
   "outputs": [
    {
     "ename": "ModuleNotFoundError",
     "evalue": "No module named 'wordcloud'",
     "output_type": "error",
     "traceback": [
      "\u001b[0;31m---------------------------------------------------------------------------\u001b[0m",
      "\u001b[0;31mModuleNotFoundError\u001b[0m                       Traceback (most recent call last)",
      "Cell \u001b[0;32mIn [23], line 2\u001b[0m\n\u001b[1;32m      1\u001b[0m \u001b[38;5;66;03m# Importing the required libraries\u001b[39;00m\n\u001b[0;32m----> 2\u001b[0m \u001b[38;5;28;01mfrom\u001b[39;00m \u001b[38;5;21;01mwordcloud\u001b[39;00m \u001b[38;5;28;01mimport\u001b[39;00m WordCloud, STOPWORDS\n\u001b[1;32m      3\u001b[0m \u001b[38;5;28;01mimport\u001b[39;00m \u001b[38;5;21;01mmatplotlib\u001b[39;00m\u001b[38;5;21;01m.\u001b[39;00m\u001b[38;5;21;01mpyplot\u001b[39;00m \u001b[38;5;28;01mas\u001b[39;00m \u001b[38;5;21;01mplt\u001b[39;00m\n",
      "\u001b[0;31mModuleNotFoundError\u001b[0m: No module named 'wordcloud'"
     ]
    }
   ],
   "source": [
    "# Importing the required libraries\n",
    "from wordcloud import WordCloud, STOPWORDS\n",
    "import matplotlib.pyplot as plt"
   ]
  },
  {
   "cell_type": "code",
   "execution_count": 24,
   "id": "0036c403",
   "metadata": {
    "execution": {
     "iopub.execute_input": "2023-05-10T01:43:08.397576Z",
     "iopub.status.busy": "2023-05-10T01:43:08.397494Z",
     "iopub.status.idle": "2023-05-10T01:43:08.401405Z",
     "shell.execute_reply": "2023-05-10T01:43:08.401176Z"
    }
   },
   "outputs": [],
   "source": [
    "# Read the whole text\n",
    "# file_read = open('ai_trends.txt' 'rU')\n",
    "text_raw = \"\"\"Increase security Drones are going to change the way we live I think of drones now as the equivalent of what phones were in the 90s Drones open up the ability to transport things through the air over short distances and in complex spaces which is just not something we have another solution for today Whether thats package delivery or emergency response or delivering medical products urgently all of those things become possible immediately One of the amazing things about drones is that they fly The idea that you can have something routinely inspect places that are hard to look at will make our world dramatically safer It will be another way in which drones will help us realize this future vision a lot of us have of whats going to happen this network of autonomous drones flying around taking care of things and interacting with us It will bring an immediacy to what theyre doing in the same way a smartphone in your hand made that change so readily apparent\n",
    "Generate new services and potentially social issues Artificial intelligence really means the extension of our ability to solve problems and to generate new ideas Its quite possible that 10 years will get us to an inflection point after which we will see advancement at an unprecedented rate AI and and robotics will have been assimilated into business operations and will be having a major impact on efficiency in organizations Entirely new AI-based products and services will have created new consumer and industrial markets At the same time AI will bring along new challenges perhaps most importantly increasing inequality and possibly unemployment as routine predictable types of work are automated There will also be critical challenges in areas like privacy security algorithmic bias and military applications of AI Ten years from now a vibrant debate about these issues will have likely come to the forefront of our political and social discourse Finding a way to address these issues on behalf of humanity will soon be one of the defining challenges for the coming decades\n",
    "Empower businesses The consumer-facing applications of AI and ML feel stuck to me relegated to doing what humans can already do or more critically only what we trust them to do Over the next ten years I think well start seeing trust barriers decrease and as a result dependence on AI powered algorithms and machines will increase We started learning this lesson years ago building our consumer applications If youre going on a trip to Paris for example youd trust almost anything your friend recommends even if theyd only been to Paris once for a short trip just because they said so In the same situation we use sophisticated ML techniques to deliver extremely personalized recommendations but algorithms dont get the benefit of trust like a friend In order to gain user trust we had to try and explain the what the AI thought which defeats the power of it Today these ideas are starting to grow in acceptance and expectation as brands such as Foursquare continue to use ML to build location-aware technology that push the boundaries of mobile capabilitiesand gives developers analysts marketers and beyond a unique way of understanding and interacting with their users The industry excitement around this technology and the rich experiences built on top of it I hope and believe represent the tides of change\n",
    "Improve healthcare When it comes to healthcare theres a lot machines can do to help the doctor I dont see a future where we actually dont have doctors guiding but a lot of the busy work doctors have to do is better done using artificial intelligence If you think about a doctors career thirty or forty years the number of patients you can see during that time period is very limited Many doctors are burnt out overworked its a serious issue They also dont have time to keep themselves up to date on the most recent research treatment techniques and advancements in medication Machines can play a very important role here Artificial intelligence can access a much larger set of patient data of how they were treated and what the outcomes were You can imagine machines being in a much better position because machines can start doing the busy work around the diagnosis and humans can actually interact with the patient and work with artificial intelligence to improve outcomes That in my mind is super exciting\n",
    "Facilitate sustainability Artificial intelligence is going to impact every single industry and everything that we do On a bigger level areas like sustainability climate change environmental issues they are becoming more at the forefront of everybodys minds as we move more into the 21st century and think about the huge challenges we need to tackle like population increases urbanization and energy Theres so many different areas within urbanization that touch on city planning We can do that much more efficiently once we can track the movements of residents within cities and once we can map which areas we can use to improve the density of cities In the AI floodgates conversation Ive seen in the past six months or so a lot more companies wanting to focus on AI instead of just thinking about the quick goals of making workloads and businesses more efficient If we look at the bigger picture of AI for good then it connects us with more purpose and meaning\n",
    "Blend the lines of digital and physical Personally Im most interested in furthering spatial computing When you live in a world where your computer is not just bound to a specific device but can be anywhere you want to put it it means computers will have to react to humans much more intelligently than they do now Right now if you do something wrong today your computer throws up an error you close it and thats it But imagine if for example you had a full-scale game that was in your apartment and something went wrong Where does the dialog box go then Should there be one at all There are a lot of open questions around how humans will want to interact with their computers For example Foursquare did a really great job with having with having location-based notifications designed to give you the right information at the right time There are many many applications that should be making use of that kind of awareness today And in the future having these really intelligent ways of surfacing information are going to move from nice-to-haves to essentials And I for one will be looking forward to that because I want computers to be smarter already\n",
    "Make us smarter Computational power is going to continue to increase giving us more power to train our models The amount of data being created is going to continue to grow exponentially as well allowing us to monitor more elements in our platforms and our world Combine the two together with AI and it gives us the ability to be able to make more intelligent projections on future behavior and events as you can train more intelligent models and knowledge systems However in the financial services industry regulatory pressures could actually curb the power of AI to some degree by siloing off information used to train models thus cutting off one source of fuel AI needs to thrive slowing its ability to make an impact I believe peoples worries about AI becoming all powerful are unfounded Ultimately training an AI platform it is very much like molding a child If you treat it the right way and teach it the right things train it to know whats right and wrong it will inherently grow up to become a productive member of society that cares about people and the future Just like any one of us\n",
    "Inspire artists In ten years there will be some sort of algorithm involved in most decisions made big or small Artists like myself can get involved in artificial intelligence While such a mission may sound daunting its really about starting to use it exploring the capabilities of algorithms as well as what they can express through AI systems I encourage artists to try to use AI to create something beautiful and expressive the way they would with any other medium However I never want to see the technology become the artist We must think about AI as a tool for the augmentation of human thought and creation and make every effort not to turn the reigns of creativity or ethics over to the machines When deploying AI individuals businesses governments etc must consider how to maintain a sense of civility creativity and equity in the AI system being released into the world For industries the driving question is how can AI be used to increase productivity while respecting human diversity dignity and our cultural specificities\"\"\""
   ]
  },
  {
   "cell_type": "code",
   "execution_count": 25,
   "id": "937c17f1",
   "metadata": {
    "execution": {
     "iopub.execute_input": "2023-05-10T01:43:08.402748Z",
     "iopub.status.busy": "2023-05-10T01:43:08.402673Z",
     "iopub.status.idle": "2023-05-10T01:43:08.406703Z",
     "shell.execute_reply": "2023-05-10T01:43:08.406457Z"
    }
   },
   "outputs": [
    {
     "data": {
      "text/plain": [
       "'Increase security Drones are going to change the way we live I think of drones now as the equivalent of what phones were in the 90s Drones open up the ability to transport things through the air over short distances and in complex spaces which is just not something we have another solution for today Whether thats package delivery or emergency response or delivering medical products urgently all of those things become possible immediately One of the amazing things about drones is that they fly The idea that you can have something routinely inspect places that are hard to look at will make our world dramatically safer It will be another way in which drones will help us realize this future vision a lot of us have of whats going to happen this network of autonomous drones flying around taking care of things and interacting with us It will bring an immediacy to what theyre doing in the same way a smartphone in your hand made that change so readily apparent Generate new services and potentially social issues Artificial intelligence really means the extension of our ability to solve problems and to generate new ideas Its quite possible that 10 years will get us to an inflection point after which we will see advancement at an unprecedented rate AI and and robotics will have been assimilated into business operations and will be having a major impact on efficiency in organizations Entirely new AI-based products and services will have created new consumer and industrial markets At the same time AI will bring along new challenges perhaps most importantly increasing inequality and possibly unemployment as routine predictable types of work are automated There will also be critical challenges in areas like privacy security algorithmic bias and military applications of AI Ten years from now a vibrant debate about these issues will have likely come to the forefront of our political and social discourse Finding a way to address these issues on behalf of humanity will soon be one of the defining challenges for the coming decades Empower businesses The consumer-facing applications of AI and ML feel stuck to me relegated to doing what humans can already do or more critically only what we trust them to do Over the next ten years I think well start seeing trust barriers decrease and as a result dependence on AI powered algorithms and machines will increase We started learning this lesson years ago building our consumer applications If youre going on a trip to Paris for example youd trust almost anything your friend recommends even if theyd only been to Paris once for a short trip just because they said so In the same situation we use sophisticated ML techniques to deliver extremely personalized recommendations but algorithms dont get the benefit of trust like a friend In order to gain user trust we had to try and explain the what the AI thought which defeats the power of it Today these ideas are starting to grow in acceptance and expectation as brands such as Foursquare continue to use ML to build location-aware technology that push the boundaries of mobile capabilitiesand gives developers analysts marketers and beyond a unique way of understanding and interacting with their users The industry excitement around this technology and the rich experiences built on top of it I hope and believe represent the tides of change Improve healthcare When it comes to healthcare theres a lot machines can do to help the doctor I dont see a future where we actually dont have doctors guiding but a lot of the busy work doctors have to do is better done using artificial intelligence If you think about a doctors career thirty or forty years the number of patients you can see during that time period is very limited Many doctors are burnt out overworked its a serious issue They also dont have time to keep themselves up to date on the most recent research treatment techniques and advancements in medication Machines can play a very important role here Artificial intelligence can access a much larger set of patient data of how they were treated and what the outcomes were You can imagine machines being in a much better position because machines can start doing the busy work around the diagnosis and humans can actually interact with the patient and work with artificial intelligence to improve outcomes That in my mind is super exciting Facilitate sustainability Artificial intelligence is going to impact every single industry and everything that we do On a bigger level areas like sustainability climate change environmental issues they are becoming more at the forefront of everybodys minds as we move more into the 21st century and think about the huge challenges we need to tackle like population increases urbanization and energy Theres so many different areas within urbanization that touch on city planning We can do that much more efficiently once we can track the movements of residents within cities and once we can map which areas we can use to improve the density of cities In the AI floodgates conversation Ive seen in the past six months or so a lot more companies wanting to focus on AI instead of just thinking about the quick goals of making workloads and businesses more efficient If we look at the bigger picture of AI for good then it connects us with more purpose and meaning Blend the lines of digital and physical Personally Im most interested in furthering spatial computing When you live in a world where your computer is not just bound to a specific device but can be anywhere you want to put it it means computers will have to react to humans much more intelligently than they do now Right now if you do something wrong today your computer throws up an error you close it and thats it But imagine if for example you had a full-scale game that was in your apartment and something went wrong Where does the dialog box go then Should there be one at all There are a lot of open questions around how humans will want to interact with their computers For example Foursquare did a really great job with having with having location-based notifications designed to give you the right information at the right time There are many many applications that should be making use of that kind of awareness today And in the future having these really intelligent ways of surfacing information are going to move from nice-to-haves to essentials And I for one will be looking forward to that because I want computers to be smarter already Make us smarter Computational power is going to continue to increase giving us more power to train our models The amount of data being created is going to continue to grow exponentially as well allowing us to monitor more elements in our platforms and our world Combine the two together with AI and it gives us the ability to be able to make more intelligent projections on future behavior and events as you can train more intelligent models and knowledge systems However in the financial services industry regulatory pressures could actually curb the power of AI to some degree by siloing off information used to train models thus cutting off one source of fuel AI needs to thrive slowing its ability to make an impact I believe peoples worries about AI becoming all powerful are unfounded Ultimately training an AI platform it is very much like molding a child If you treat it the right way and teach it the right things train it to know whats right and wrong it will inherently grow up to become a productive member of society that cares about people and the future Just like any one of us Inspire artists In ten years there will be some sort of algorithm involved in most decisions made big or small Artists like myself can get involved in artificial intelligence While such a mission may sound daunting its really about starting to use it exploring the capabilities of algorithms as well as what they can express through AI systems I encourage artists to try to use AI to create something beautiful and expressive the way they would with any other medium However I never want to see the technology become the artist We must think about AI as a tool for the augmentation of human thought and creation and make every effort not to turn the reigns of creativity or ethics over to the machines When deploying AI individuals businesses governments etc must consider how to maintain a sense of civility creativity and equity in the AI system being released into the world For industries the driving question is how can AI be used to increase productivity while respecting human diversity dignity and our cultural specificities'"
      ]
     },
     "execution_count": 25,
     "metadata": {},
     "output_type": "execute_result"
    }
   ],
   "source": [
    "# Replace end of line character with space\n",
    "text_raw.replace('\\n', ' ')"
   ]
  },
  {
   "cell_type": "code",
   "execution_count": 26,
   "id": "e06ae240",
   "metadata": {
    "execution": {
     "iopub.execute_input": "2023-05-10T01:43:08.408022Z",
     "iopub.status.busy": "2023-05-10T01:43:08.407943Z",
     "iopub.status.idle": "2023-05-10T01:43:08.409842Z",
     "shell.execute_reply": "2023-05-10T01:43:08.409620Z"
    }
   },
   "outputs": [],
   "source": [
    "# Save a lower-case version of each word to a list\n",
    "words_list = []\n",
    "for word in text_raw.strip().split(): \n",
    "\twords_list.append(word.lower())"
   ]
  },
  {
   "cell_type": "code",
   "execution_count": 27,
   "id": "d92bcc3a",
   "metadata": {
    "execution": {
     "iopub.execute_input": "2023-05-10T01:43:08.411144Z",
     "iopub.status.busy": "2023-05-10T01:43:08.411066Z",
     "iopub.status.idle": "2023-05-10T01:43:08.412783Z",
     "shell.execute_reply": "2023-05-10T01:43:08.412559Z"
    }
   },
   "outputs": [],
   "source": [
    "# Eliminate non alpha elements\n",
    "text_list = [word.lower() for word in words_list if word.isalpha()]"
   ]
  },
  {
   "cell_type": "code",
   "execution_count": 28,
   "id": "e64309b4",
   "metadata": {
    "execution": {
     "iopub.execute_input": "2023-05-10T01:43:08.415241Z",
     "iopub.status.busy": "2023-05-10T01:43:08.415148Z",
     "iopub.status.idle": "2023-05-10T01:43:08.416678Z",
     "shell.execute_reply": "2023-05-10T01:43:08.416468Z"
    }
   },
   "outputs": [],
   "source": [
    "# Transforming the list into a string for displaying\n",
    "text_str = ' '.join(text_list)"
   ]
  },
  {
   "cell_type": "code",
   "execution_count": 29,
   "id": "9b015d57",
   "metadata": {
    "execution": {
     "iopub.execute_input": "2023-05-10T01:43:08.417982Z",
     "iopub.status.busy": "2023-05-10T01:43:08.417909Z",
     "iopub.status.idle": "2023-05-10T01:43:08.424249Z",
     "shell.execute_reply": "2023-05-10T01:43:08.424020Z"
    }
   },
   "outputs": [
    {
     "ename": "NameError",
     "evalue": "name 'STOPWORDS' is not defined",
     "output_type": "error",
     "traceback": [
      "\u001b[0;31m---------------------------------------------------------------------------\u001b[0m",
      "\u001b[0;31mNameError\u001b[0m                                 Traceback (most recent call last)",
      "Cell \u001b[0;32mIn [29], line 2\u001b[0m\n\u001b[1;32m      1\u001b[0m \u001b[38;5;66;03m# Crating and updating the stopword list\u001b[39;00m\n\u001b[0;32m----> 2\u001b[0m stpwords \u001b[38;5;241m=\u001b[39m \u001b[38;5;28mset\u001b[39m(\u001b[43mSTOPWORDS\u001b[49m)\n\u001b[1;32m      3\u001b[0m stpwords\u001b[38;5;241m.\u001b[39madd(\u001b[38;5;124m'\u001b[39m\u001b[38;5;124mwill\u001b[39m\u001b[38;5;124m'\u001b[39m)\n\u001b[1;32m      4\u001b[0m stpwords\u001b[38;5;241m.\u001b[39madd(\u001b[38;5;124m'\u001b[39m\u001b[38;5;124msaid\u001b[39m\u001b[38;5;124m'\u001b[39m)\n",
      "\u001b[0;31mNameError\u001b[0m: name 'STOPWORDS' is not defined"
     ]
    }
   ],
   "source": [
    "# Crating and updating the stopword list\n",
    "stpwords = set(STOPWORDS)\n",
    "stpwords.add('will')\n",
    "stpwords.add('said')"
   ]
  },
  {
   "cell_type": "code",
   "execution_count": 30,
   "id": "425b449e",
   "metadata": {
    "execution": {
     "iopub.execute_input": "2023-05-10T01:43:08.425677Z",
     "iopub.status.busy": "2023-05-10T01:43:08.425598Z",
     "iopub.status.idle": "2023-05-10T01:43:08.431900Z",
     "shell.execute_reply": "2023-05-10T01:43:08.431659Z"
    }
   },
   "outputs": [
    {
     "ename": "NameError",
     "evalue": "name 'WordCloud' is not defined",
     "output_type": "error",
     "traceback": [
      "\u001b[0;31m---------------------------------------------------------------------------\u001b[0m",
      "\u001b[0;31mNameError\u001b[0m                                 Traceback (most recent call last)",
      "Cell \u001b[0;32mIn [30], line 2\u001b[0m\n\u001b[1;32m      1\u001b[0m \u001b[38;5;66;03m# Defining the wordcloud parameters\u001b[39;00m\n\u001b[0;32m----> 2\u001b[0m wc \u001b[38;5;241m=\u001b[39m \u001b[43mWordCloud\u001b[49m(background_color\u001b[38;5;241m=\u001b[39m\u001b[38;5;124m\"\u001b[39m\u001b[38;5;124mwhite\u001b[39m\u001b[38;5;124m\"\u001b[39m, max_words\u001b[38;5;241m=\u001b[39m\u001b[38;5;241m2000\u001b[39m,\n\u001b[1;32m      3\u001b[0m                stopwords\u001b[38;5;241m=\u001b[39mstpwords)\n",
      "\u001b[0;31mNameError\u001b[0m: name 'WordCloud' is not defined"
     ]
    }
   ],
   "source": [
    "# Defining the wordcloud parameters\n",
    "wc = WordCloud(background_color=\"white\", max_words=2000,\n",
    "               stopwords=stpwords)"
   ]
  },
  {
   "cell_type": "code",
   "execution_count": 31,
   "id": "fb2388b0",
   "metadata": {
    "execution": {
     "iopub.execute_input": "2023-05-10T01:43:08.433254Z",
     "iopub.status.busy": "2023-05-10T01:43:08.433177Z",
     "iopub.status.idle": "2023-05-10T01:43:08.439171Z",
     "shell.execute_reply": "2023-05-10T01:43:08.438933Z"
    }
   },
   "outputs": [
    {
     "ename": "NameError",
     "evalue": "name 'wc' is not defined",
     "output_type": "error",
     "traceback": [
      "\u001b[0;31m---------------------------------------------------------------------------\u001b[0m",
      "\u001b[0;31mNameError\u001b[0m                                 Traceback (most recent call last)",
      "Cell \u001b[0;32mIn [31], line 2\u001b[0m\n\u001b[1;32m      1\u001b[0m \u001b[38;5;66;03m# Generate word cloud\u001b[39;00m\n\u001b[0;32m----> 2\u001b[0m \u001b[43mwc\u001b[49m\u001b[38;5;241m.\u001b[39mgenerate(text_str)\n",
      "\u001b[0;31mNameError\u001b[0m: name 'wc' is not defined"
     ]
    }
   ],
   "source": [
    "# Generate word cloud\n",
    "wc.generate(text_str)"
   ]
  },
  {
   "cell_type": "code",
   "execution_count": 32,
   "id": "af3e320b",
   "metadata": {
    "execution": {
     "iopub.execute_input": "2023-05-10T01:43:08.440515Z",
     "iopub.status.busy": "2023-05-10T01:43:08.440439Z",
     "iopub.status.idle": "2023-05-10T01:43:08.447045Z",
     "shell.execute_reply": "2023-05-10T01:43:08.446813Z"
    }
   },
   "outputs": [
    {
     "ename": "NameError",
     "evalue": "name 'wc' is not defined",
     "output_type": "error",
     "traceback": [
      "\u001b[0;31m---------------------------------------------------------------------------\u001b[0m",
      "\u001b[0;31mNameError\u001b[0m                                 Traceback (most recent call last)",
      "Cell \u001b[0;32mIn [32], line 2\u001b[0m\n\u001b[1;32m      1\u001b[0m \u001b[38;5;66;03m# Store to file\u001b[39;00m\n\u001b[0;32m----> 2\u001b[0m \u001b[43mwc\u001b[49m\u001b[38;5;241m.\u001b[39mto_file(\u001b[38;5;124m'\u001b[39m\u001b[38;5;124mTrump.png\u001b[39m\u001b[38;5;124m'\u001b[39m)\n",
      "\u001b[0;31mNameError\u001b[0m: name 'wc' is not defined"
     ]
    }
   ],
   "source": [
    "# Store to file\n",
    "wc.to_file('Trump.png')"
   ]
  },
  {
   "cell_type": "code",
   "execution_count": 33,
   "id": "12612eaa",
   "metadata": {
    "execution": {
     "iopub.execute_input": "2023-05-10T01:43:08.448410Z",
     "iopub.status.busy": "2023-05-10T01:43:08.448333Z",
     "iopub.status.idle": "2023-05-10T01:43:08.454574Z",
     "shell.execute_reply": "2023-05-10T01:43:08.454324Z"
    }
   },
   "outputs": [
    {
     "ename": "NameError",
     "evalue": "name 'plt' is not defined",
     "output_type": "error",
     "traceback": [
      "\u001b[0;31m---------------------------------------------------------------------------\u001b[0m",
      "\u001b[0;31mNameError\u001b[0m                                 Traceback (most recent call last)",
      "Cell \u001b[0;32mIn [33], line 2\u001b[0m\n\u001b[1;32m      1\u001b[0m \u001b[38;5;66;03m# Show the cloud\u001b[39;00m\n\u001b[0;32m----> 2\u001b[0m \u001b[43mplt\u001b[49m\u001b[38;5;241m.\u001b[39mimshow(wc)\n\u001b[1;32m      3\u001b[0m plt\u001b[38;5;241m.\u001b[39maxis(\u001b[38;5;124m'\u001b[39m\u001b[38;5;124moff\u001b[39m\u001b[38;5;124m'\u001b[39m)\n\u001b[1;32m      4\u001b[0m plt\u001b[38;5;241m.\u001b[39mshow()\n",
      "\u001b[0;31mNameError\u001b[0m: name 'plt' is not defined"
     ]
    }
   ],
   "source": [
    "# Show the cloud\n",
    "plt.imshow(wc)\n",
    "plt.axis('off')\n",
    "plt.show()"
   ]
  },
  {
   "cell_type": "markdown",
   "id": "33c01449",
   "metadata": {},
   "source": [
    "This script reads a text file, clean it in part and generates a word cloud using the words in the text"
   ]
  },
  {
   "cell_type": "code",
   "execution_count": 34,
   "id": "28926d74",
   "metadata": {
    "execution": {
     "iopub.execute_input": "2023-05-10T01:43:08.455954Z",
     "iopub.status.busy": "2023-05-10T01:43:08.455872Z",
     "iopub.status.idle": "2023-05-10T01:43:08.462076Z",
     "shell.execute_reply": "2023-05-10T01:43:08.461847Z"
    }
   },
   "outputs": [
    {
     "ename": "ModuleNotFoundError",
     "evalue": "No module named 'wordcloud'",
     "output_type": "error",
     "traceback": [
      "\u001b[0;31m---------------------------------------------------------------------------\u001b[0m",
      "\u001b[0;31mModuleNotFoundError\u001b[0m                       Traceback (most recent call last)",
      "Cell \u001b[0;32mIn [34], line 2\u001b[0m\n\u001b[1;32m      1\u001b[0m \u001b[38;5;66;03m# Importing the required libraries\u001b[39;00m\n\u001b[0;32m----> 2\u001b[0m \u001b[38;5;28;01mfrom\u001b[39;00m \u001b[38;5;21;01mwordcloud\u001b[39;00m \u001b[38;5;28;01mimport\u001b[39;00m WordCloud, STOPWORDS\n\u001b[1;32m      3\u001b[0m \u001b[38;5;28;01mimport\u001b[39;00m \u001b[38;5;21;01mmatplotlib\u001b[39;00m\u001b[38;5;21;01m.\u001b[39;00m\u001b[38;5;21;01mpyplot\u001b[39;00m \u001b[38;5;28;01mas\u001b[39;00m \u001b[38;5;21;01mplt\u001b[39;00m\n",
      "\u001b[0;31mModuleNotFoundError\u001b[0m: No module named 'wordcloud'"
     ]
    }
   ],
   "source": [
    "# Importing the required libraries\n",
    "from wordcloud import WordCloud, STOPWORDS\n",
    "import matplotlib.pyplot as plt"
   ]
  },
  {
   "cell_type": "markdown",
   "id": "9c2ee28d",
   "metadata": {},
   "source": [
    "Read the whole text\n",
    "file_read = open('ai_trends.txt' 'rU')\n",
    "text_raw = file_read.read()"
   ]
  },
  {
   "cell_type": "code",
   "execution_count": 35,
   "id": "6614fef7",
   "metadata": {
    "execution": {
     "iopub.execute_input": "2023-05-10T01:43:08.463392Z",
     "iopub.status.busy": "2023-05-10T01:43:08.463317Z",
     "iopub.status.idle": "2023-05-10T01:43:08.465371Z",
     "shell.execute_reply": "2023-05-10T01:43:08.465151Z"
    }
   },
   "outputs": [
    {
     "data": {
      "text/plain": [
       "'Increase security Drones are going to change the way we live I think of drones now as the equivalent of what phones were in the 90s Drones open up the ability to transport things through the air over short distances and in complex spaces which is just not something we have another solution for today Whether thats package delivery or emergency response or delivering medical products urgently all of those things become possible immediately One of the amazing things about drones is that they fly The idea that you can have something routinely inspect places that are hard to look at will make our world dramatically safer It will be another way in which drones will help us realize this future vision a lot of us have of whats going to happen this network of autonomous drones flying around taking care of things and interacting with us It will bring an immediacy to what theyre doing in the same way a smartphone in your hand made that change so readily apparent Generate new services and potentially social issues Artificial intelligence really means the extension of our ability to solve problems and to generate new ideas Its quite possible that 10 years will get us to an inflection point after which we will see advancement at an unprecedented rate AI and and robotics will have been assimilated into business operations and will be having a major impact on efficiency in organizations Entirely new AI-based products and services will have created new consumer and industrial markets At the same time AI will bring along new challenges perhaps most importantly increasing inequality and possibly unemployment as routine predictable types of work are automated There will also be critical challenges in areas like privacy security algorithmic bias and military applications of AI Ten years from now a vibrant debate about these issues will have likely come to the forefront of our political and social discourse Finding a way to address these issues on behalf of humanity will soon be one of the defining challenges for the coming decades Empower businesses The consumer-facing applications of AI and ML feel stuck to me relegated to doing what humans can already do or more critically only what we trust them to do Over the next ten years I think well start seeing trust barriers decrease and as a result dependence on AI powered algorithms and machines will increase We started learning this lesson years ago building our consumer applications If youre going on a trip to Paris for example youd trust almost anything your friend recommends even if theyd only been to Paris once for a short trip just because they said so In the same situation we use sophisticated ML techniques to deliver extremely personalized recommendations but algorithms dont get the benefit of trust like a friend In order to gain user trust we had to try and explain the what the AI thought which defeats the power of it Today these ideas are starting to grow in acceptance and expectation as brands such as Foursquare continue to use ML to build location-aware technology that push the boundaries of mobile capabilitiesand gives developers analysts marketers and beyond a unique way of understanding and interacting with their users The industry excitement around this technology and the rich experiences built on top of it I hope and believe represent the tides of change Improve healthcare When it comes to healthcare theres a lot machines can do to help the doctor I dont see a future where we actually dont have doctors guiding but a lot of the busy work doctors have to do is better done using artificial intelligence If you think about a doctors career thirty or forty years the number of patients you can see during that time period is very limited Many doctors are burnt out overworked its a serious issue They also dont have time to keep themselves up to date on the most recent research treatment techniques and advancements in medication Machines can play a very important role here Artificial intelligence can access a much larger set of patient data of how they were treated and what the outcomes were You can imagine machines being in a much better position because machines can start doing the busy work around the diagnosis and humans can actually interact with the patient and work with artificial intelligence to improve outcomes That in my mind is super exciting Facilitate sustainability Artificial intelligence is going to impact every single industry and everything that we do On a bigger level areas like sustainability climate change environmental issues they are becoming more at the forefront of everybodys minds as we move more into the 21st century and think about the huge challenges we need to tackle like population increases urbanization and energy Theres so many different areas within urbanization that touch on city planning We can do that much more efficiently once we can track the movements of residents within cities and once we can map which areas we can use to improve the density of cities In the AI floodgates conversation Ive seen in the past six months or so a lot more companies wanting to focus on AI instead of just thinking about the quick goals of making workloads and businesses more efficient If we look at the bigger picture of AI for good then it connects us with more purpose and meaning Blend the lines of digital and physical Personally Im most interested in furthering spatial computing When you live in a world where your computer is not just bound to a specific device but can be anywhere you want to put it it means computers will have to react to humans much more intelligently than they do now Right now if you do something wrong today your computer throws up an error you close it and thats it But imagine if for example you had a full-scale game that was in your apartment and something went wrong Where does the dialog box go then Should there be one at all There are a lot of open questions around how humans will want to interact with their computers For example Foursquare did a really great job with having with having location-based notifications designed to give you the right information at the right time There are many many applications that should be making use of that kind of awareness today And in the future having these really intelligent ways of surfacing information are going to move from nice-to-haves to essentials And I for one will be looking forward to that because I want computers to be smarter already Make us smarter Computational power is going to continue to increase giving us more power to train our models The amount of data being created is going to continue to grow exponentially as well allowing us to monitor more elements in our platforms and our world Combine the two together with AI and it gives us the ability to be able to make more intelligent projections on future behavior and events as you can train more intelligent models and knowledge systems However in the financial services industry regulatory pressures could actually curb the power of AI to some degree by siloing off information used to train models thus cutting off one source of fuel AI needs to thrive slowing its ability to make an impact I believe peoples worries about AI becoming all powerful are unfounded Ultimately training an AI platform it is very much like molding a child If you treat it the right way and teach it the right things train it to know whats right and wrong it will inherently grow up to become a productive member of society that cares about people and the future Just like any one of us Inspire artists In ten years there will be some sort of algorithm involved in most decisions made big or small Artists like myself can get involved in artificial intelligence While such a mission may sound daunting its really about starting to use it exploring the capabilities of algorithms as well as what they can express through AI systems I encourage artists to try to use AI to create something beautiful and expressive the way they would with any other medium However I never want to see the technology become the artist We must think about AI as a tool for the augmentation of human thought and creation and make every effort not to turn the reigns of creativity or ethics over to the machines When deploying AI individuals businesses governments etc must consider how to maintain a sense of civility creativity and equity in the AI system being released into the world For industries the driving question is how can AI be used to increase productivity while respecting human diversity dignity and our cultural specificities'"
      ]
     },
     "execution_count": 35,
     "metadata": {},
     "output_type": "execute_result"
    }
   ],
   "source": [
    "# Replace end of line character with space\n",
    "text_raw.replace('\\n', ' ')"
   ]
  },
  {
   "cell_type": "code",
   "execution_count": 36,
   "id": "e42232dc",
   "metadata": {
    "execution": {
     "iopub.execute_input": "2023-05-10T01:43:08.466700Z",
     "iopub.status.busy": "2023-05-10T01:43:08.466624Z",
     "iopub.status.idle": "2023-05-10T01:43:08.468514Z",
     "shell.execute_reply": "2023-05-10T01:43:08.468293Z"
    }
   },
   "outputs": [],
   "source": [
    "# Save a lower-case version of each word to a list\n",
    "words_list = []\n",
    "for word in text_raw.strip().split(): \n",
    "\twords_list.append(word.lower())"
   ]
  },
  {
   "cell_type": "code",
   "execution_count": 37,
   "id": "4b1b7a5d",
   "metadata": {
    "execution": {
     "iopub.execute_input": "2023-05-10T01:43:08.469899Z",
     "iopub.status.busy": "2023-05-10T01:43:08.469822Z",
     "iopub.status.idle": "2023-05-10T01:43:08.471580Z",
     "shell.execute_reply": "2023-05-10T01:43:08.471362Z"
    }
   },
   "outputs": [],
   "source": [
    "# Eliminate non alpha elements\n",
    "text_list = [word.lower() for word in words_list if word.isalpha()]"
   ]
  },
  {
   "cell_type": "code",
   "execution_count": 38,
   "id": "f66642ec",
   "metadata": {
    "execution": {
     "iopub.execute_input": "2023-05-10T01:43:08.472920Z",
     "iopub.status.busy": "2023-05-10T01:43:08.472836Z",
     "iopub.status.idle": "2023-05-10T01:43:08.474318Z",
     "shell.execute_reply": "2023-05-10T01:43:08.474080Z"
    }
   },
   "outputs": [],
   "source": [
    "# Transforming the list into a string for displaying\n",
    "text_str = ' '.join(text_list)"
   ]
  },
  {
   "cell_type": "code",
   "execution_count": 39,
   "id": "bbeca2d3",
   "metadata": {
    "execution": {
     "iopub.execute_input": "2023-05-10T01:43:08.475620Z",
     "iopub.status.busy": "2023-05-10T01:43:08.475543Z",
     "iopub.status.idle": "2023-05-10T01:43:08.481802Z",
     "shell.execute_reply": "2023-05-10T01:43:08.481563Z"
    }
   },
   "outputs": [
    {
     "ename": "NameError",
     "evalue": "name 'STOPWORDS' is not defined",
     "output_type": "error",
     "traceback": [
      "\u001b[0;31m---------------------------------------------------------------------------\u001b[0m",
      "\u001b[0;31mNameError\u001b[0m                                 Traceback (most recent call last)",
      "Cell \u001b[0;32mIn [39], line 2\u001b[0m\n\u001b[1;32m      1\u001b[0m \u001b[38;5;66;03m# Crating and updating the stopword list\u001b[39;00m\n\u001b[0;32m----> 2\u001b[0m stpwords \u001b[38;5;241m=\u001b[39m \u001b[38;5;28mset\u001b[39m(\u001b[43mSTOPWORDS\u001b[49m)\n\u001b[1;32m      3\u001b[0m stpwords\u001b[38;5;241m.\u001b[39madd(\u001b[38;5;124m'\u001b[39m\u001b[38;5;124mwill\u001b[39m\u001b[38;5;124m'\u001b[39m)\n\u001b[1;32m      4\u001b[0m stpwords\u001b[38;5;241m.\u001b[39madd(\u001b[38;5;124m'\u001b[39m\u001b[38;5;124msaid\u001b[39m\u001b[38;5;124m'\u001b[39m)\n",
      "\u001b[0;31mNameError\u001b[0m: name 'STOPWORDS' is not defined"
     ]
    }
   ],
   "source": [
    "# Crating and updating the stopword list\n",
    "stpwords = set(STOPWORDS)\n",
    "stpwords.add('will')\n",
    "stpwords.add('said')"
   ]
  },
  {
   "cell_type": "code",
   "execution_count": 40,
   "id": "13189426",
   "metadata": {
    "execution": {
     "iopub.execute_input": "2023-05-10T01:43:08.483156Z",
     "iopub.status.busy": "2023-05-10T01:43:08.483078Z",
     "iopub.status.idle": "2023-05-10T01:43:08.489393Z",
     "shell.execute_reply": "2023-05-10T01:43:08.489157Z"
    }
   },
   "outputs": [
    {
     "ename": "NameError",
     "evalue": "name 'WordCloud' is not defined",
     "output_type": "error",
     "traceback": [
      "\u001b[0;31m---------------------------------------------------------------------------\u001b[0m",
      "\u001b[0;31mNameError\u001b[0m                                 Traceback (most recent call last)",
      "Cell \u001b[0;32mIn [40], line 2\u001b[0m\n\u001b[1;32m      1\u001b[0m \u001b[38;5;66;03m# Defining the wordcloud parameters\u001b[39;00m\n\u001b[0;32m----> 2\u001b[0m wc \u001b[38;5;241m=\u001b[39m \u001b[43mWordCloud\u001b[49m(background_color\u001b[38;5;241m=\u001b[39m\u001b[38;5;124m\"\u001b[39m\u001b[38;5;124mwhite\u001b[39m\u001b[38;5;124m\"\u001b[39m, max_words\u001b[38;5;241m=\u001b[39m\u001b[38;5;241m2000\u001b[39m,stopwords\u001b[38;5;241m=\u001b[39mstpwords)\n",
      "\u001b[0;31mNameError\u001b[0m: name 'WordCloud' is not defined"
     ]
    }
   ],
   "source": [
    "# Defining the wordcloud parameters\n",
    "wc = WordCloud(background_color=\"white\", max_words=2000,stopwords=stpwords)"
   ]
  },
  {
   "cell_type": "code",
   "execution_count": 41,
   "id": "e142b49f",
   "metadata": {
    "execution": {
     "iopub.execute_input": "2023-05-10T01:43:08.490687Z",
     "iopub.status.busy": "2023-05-10T01:43:08.490612Z",
     "iopub.status.idle": "2023-05-10T01:43:08.496625Z",
     "shell.execute_reply": "2023-05-10T01:43:08.496411Z"
    }
   },
   "outputs": [
    {
     "ename": "NameError",
     "evalue": "name 'wc' is not defined",
     "output_type": "error",
     "traceback": [
      "\u001b[0;31m---------------------------------------------------------------------------\u001b[0m",
      "\u001b[0;31mNameError\u001b[0m                                 Traceback (most recent call last)",
      "Cell \u001b[0;32mIn [41], line 2\u001b[0m\n\u001b[1;32m      1\u001b[0m \u001b[38;5;66;03m# Generate word cloud\u001b[39;00m\n\u001b[0;32m----> 2\u001b[0m \u001b[43mwc\u001b[49m\u001b[38;5;241m.\u001b[39mgenerate(text_str)\n",
      "\u001b[0;31mNameError\u001b[0m: name 'wc' is not defined"
     ]
    }
   ],
   "source": [
    "# Generate word cloud\n",
    "wc.generate(text_str)"
   ]
  },
  {
   "cell_type": "code",
   "execution_count": 42,
   "id": "6f1ae8de",
   "metadata": {
    "execution": {
     "iopub.execute_input": "2023-05-10T01:43:08.498075Z",
     "iopub.status.busy": "2023-05-10T01:43:08.497993Z",
     "iopub.status.idle": "2023-05-10T01:43:08.504023Z",
     "shell.execute_reply": "2023-05-10T01:43:08.503777Z"
    }
   },
   "outputs": [
    {
     "ename": "NameError",
     "evalue": "name 'wc' is not defined",
     "output_type": "error",
     "traceback": [
      "\u001b[0;31m---------------------------------------------------------------------------\u001b[0m",
      "\u001b[0;31mNameError\u001b[0m                                 Traceback (most recent call last)",
      "Cell \u001b[0;32mIn [42], line 2\u001b[0m\n\u001b[1;32m      1\u001b[0m \u001b[38;5;66;03m# Store to file\u001b[39;00m\n\u001b[0;32m----> 2\u001b[0m \u001b[43mwc\u001b[49m\u001b[38;5;241m.\u001b[39mto_file(\u001b[38;5;124m'\u001b[39m\u001b[38;5;124mTrump.png\u001b[39m\u001b[38;5;124m'\u001b[39m)\n",
      "\u001b[0;31mNameError\u001b[0m: name 'wc' is not defined"
     ]
    }
   ],
   "source": [
    "# Store to file\n",
    "wc.to_file('Trump.png')"
   ]
  },
  {
   "cell_type": "code",
   "execution_count": 43,
   "id": "c2c92eff",
   "metadata": {
    "execution": {
     "iopub.execute_input": "2023-05-10T01:43:08.505359Z",
     "iopub.status.busy": "2023-05-10T01:43:08.505281Z",
     "iopub.status.idle": "2023-05-10T01:43:08.511434Z",
     "shell.execute_reply": "2023-05-10T01:43:08.511186Z"
    }
   },
   "outputs": [
    {
     "ename": "NameError",
     "evalue": "name 'plt' is not defined",
     "output_type": "error",
     "traceback": [
      "\u001b[0;31m---------------------------------------------------------------------------\u001b[0m",
      "\u001b[0;31mNameError\u001b[0m                                 Traceback (most recent call last)",
      "Cell \u001b[0;32mIn [43], line 2\u001b[0m\n\u001b[1;32m      1\u001b[0m \u001b[38;5;66;03m# Show the cloud\u001b[39;00m\n\u001b[0;32m----> 2\u001b[0m \u001b[43mplt\u001b[49m\u001b[38;5;241m.\u001b[39mimshow(wc)\n\u001b[1;32m      3\u001b[0m plt\u001b[38;5;241m.\u001b[39maxis(\u001b[38;5;124m'\u001b[39m\u001b[38;5;124moff\u001b[39m\u001b[38;5;124m'\u001b[39m)\n\u001b[1;32m      4\u001b[0m plt\u001b[38;5;241m.\u001b[39mshow()\n",
      "\u001b[0;31mNameError\u001b[0m: name 'plt' is not defined"
     ]
    }
   ],
   "source": [
    "# Show the cloud\n",
    "plt.imshow(wc)\n",
    "plt.axis('off')\n",
    "plt.show()"
   ]
  },
  {
   "cell_type": "markdown",
   "id": "e24ba1bb",
   "metadata": {},
   "source": [
    "This script reads a text file, clean it in part and generates a word cloud using the words in the text"
   ]
  },
  {
   "cell_type": "code",
   "execution_count": 44,
   "id": "f734ba14",
   "metadata": {
    "execution": {
     "iopub.execute_input": "2023-05-10T01:43:08.512780Z",
     "iopub.status.busy": "2023-05-10T01:43:08.512703Z",
     "iopub.status.idle": "2023-05-10T01:43:08.519445Z",
     "shell.execute_reply": "2023-05-10T01:43:08.519209Z"
    }
   },
   "outputs": [
    {
     "ename": "ModuleNotFoundError",
     "evalue": "No module named 'wordcloud'",
     "output_type": "error",
     "traceback": [
      "\u001b[0;31m---------------------------------------------------------------------------\u001b[0m",
      "\u001b[0;31mModuleNotFoundError\u001b[0m                       Traceback (most recent call last)",
      "Cell \u001b[0;32mIn [44], line 2\u001b[0m\n\u001b[1;32m      1\u001b[0m \u001b[38;5;66;03m# Importing the required libraries\u001b[39;00m\n\u001b[0;32m----> 2\u001b[0m \u001b[38;5;28;01mfrom\u001b[39;00m \u001b[38;5;21;01mwordcloud\u001b[39;00m \u001b[38;5;28;01mimport\u001b[39;00m WordCloud, STOPWORDS\n\u001b[1;32m      3\u001b[0m \u001b[38;5;28;01mimport\u001b[39;00m \u001b[38;5;21;01mmatplotlib\u001b[39;00m\u001b[38;5;21;01m.\u001b[39;00m\u001b[38;5;21;01mpyplot\u001b[39;00m \u001b[38;5;28;01mas\u001b[39;00m \u001b[38;5;21;01mplt\u001b[39;00m\n",
      "\u001b[0;31mModuleNotFoundError\u001b[0m: No module named 'wordcloud'"
     ]
    }
   ],
   "source": [
    "# Importing the required libraries\n",
    "from wordcloud import WordCloud, STOPWORDS\n",
    "import matplotlib.pyplot as plt"
   ]
  },
  {
   "cell_type": "markdown",
   "id": "255534a8",
   "metadata": {},
   "source": [
    "Read the whole text\n",
    "file_read = open('ai_trends.txt' 'rU')\n",
    "text_raw = file_read.read()"
   ]
  },
  {
   "cell_type": "code",
   "execution_count": 45,
   "id": "e37d84d3",
   "metadata": {
    "execution": {
     "iopub.execute_input": "2023-05-10T01:43:08.520797Z",
     "iopub.status.busy": "2023-05-10T01:43:08.520711Z",
     "iopub.status.idle": "2023-05-10T01:43:08.522845Z",
     "shell.execute_reply": "2023-05-10T01:43:08.522592Z"
    }
   },
   "outputs": [
    {
     "data": {
      "text/plain": [
       "'Increase security Drones are going to change the way we live I think of drones now as the equivalent of what phones were in the 90s Drones open up the ability to transport things through the air over short distances and in complex spaces which is just not something we have another solution for today Whether thats package delivery or emergency response or delivering medical products urgently all of those things become possible immediately One of the amazing things about drones is that they fly The idea that you can have something routinely inspect places that are hard to look at will make our world dramatically safer It will be another way in which drones will help us realize this future vision a lot of us have of whats going to happen this network of autonomous drones flying around taking care of things and interacting with us It will bring an immediacy to what theyre doing in the same way a smartphone in your hand made that change so readily apparent Generate new services and potentially social issues Artificial intelligence really means the extension of our ability to solve problems and to generate new ideas Its quite possible that 10 years will get us to an inflection point after which we will see advancement at an unprecedented rate AI and and robotics will have been assimilated into business operations and will be having a major impact on efficiency in organizations Entirely new AI-based products and services will have created new consumer and industrial markets At the same time AI will bring along new challenges perhaps most importantly increasing inequality and possibly unemployment as routine predictable types of work are automated There will also be critical challenges in areas like privacy security algorithmic bias and military applications of AI Ten years from now a vibrant debate about these issues will have likely come to the forefront of our political and social discourse Finding a way to address these issues on behalf of humanity will soon be one of the defining challenges for the coming decades Empower businesses The consumer-facing applications of AI and ML feel stuck to me relegated to doing what humans can already do or more critically only what we trust them to do Over the next ten years I think well start seeing trust barriers decrease and as a result dependence on AI powered algorithms and machines will increase We started learning this lesson years ago building our consumer applications If youre going on a trip to Paris for example youd trust almost anything your friend recommends even if theyd only been to Paris once for a short trip just because they said so In the same situation we use sophisticated ML techniques to deliver extremely personalized recommendations but algorithms dont get the benefit of trust like a friend In order to gain user trust we had to try and explain the what the AI thought which defeats the power of it Today these ideas are starting to grow in acceptance and expectation as brands such as Foursquare continue to use ML to build location-aware technology that push the boundaries of mobile capabilitiesand gives developers analysts marketers and beyond a unique way of understanding and interacting with their users The industry excitement around this technology and the rich experiences built on top of it I hope and believe represent the tides of change Improve healthcare When it comes to healthcare theres a lot machines can do to help the doctor I dont see a future where we actually dont have doctors guiding but a lot of the busy work doctors have to do is better done using artificial intelligence If you think about a doctors career thirty or forty years the number of patients you can see during that time period is very limited Many doctors are burnt out overworked its a serious issue They also dont have time to keep themselves up to date on the most recent research treatment techniques and advancements in medication Machines can play a very important role here Artificial intelligence can access a much larger set of patient data of how they were treated and what the outcomes were You can imagine machines being in a much better position because machines can start doing the busy work around the diagnosis and humans can actually interact with the patient and work with artificial intelligence to improve outcomes That in my mind is super exciting Facilitate sustainability Artificial intelligence is going to impact every single industry and everything that we do On a bigger level areas like sustainability climate change environmental issues they are becoming more at the forefront of everybodys minds as we move more into the 21st century and think about the huge challenges we need to tackle like population increases urbanization and energy Theres so many different areas within urbanization that touch on city planning We can do that much more efficiently once we can track the movements of residents within cities and once we can map which areas we can use to improve the density of cities In the AI floodgates conversation Ive seen in the past six months or so a lot more companies wanting to focus on AI instead of just thinking about the quick goals of making workloads and businesses more efficient If we look at the bigger picture of AI for good then it connects us with more purpose and meaning Blend the lines of digital and physical Personally Im most interested in furthering spatial computing When you live in a world where your computer is not just bound to a specific device but can be anywhere you want to put it it means computers will have to react to humans much more intelligently than they do now Right now if you do something wrong today your computer throws up an error you close it and thats it But imagine if for example you had a full-scale game that was in your apartment and something went wrong Where does the dialog box go then Should there be one at all There are a lot of open questions around how humans will want to interact with their computers For example Foursquare did a really great job with having with having location-based notifications designed to give you the right information at the right time There are many many applications that should be making use of that kind of awareness today And in the future having these really intelligent ways of surfacing information are going to move from nice-to-haves to essentials And I for one will be looking forward to that because I want computers to be smarter already Make us smarter Computational power is going to continue to increase giving us more power to train our models The amount of data being created is going to continue to grow exponentially as well allowing us to monitor more elements in our platforms and our world Combine the two together with AI and it gives us the ability to be able to make more intelligent projections on future behavior and events as you can train more intelligent models and knowledge systems However in the financial services industry regulatory pressures could actually curb the power of AI to some degree by siloing off information used to train models thus cutting off one source of fuel AI needs to thrive slowing its ability to make an impact I believe peoples worries about AI becoming all powerful are unfounded Ultimately training an AI platform it is very much like molding a child If you treat it the right way and teach it the right things train it to know whats right and wrong it will inherently grow up to become a productive member of society that cares about people and the future Just like any one of us Inspire artists In ten years there will be some sort of algorithm involved in most decisions made big or small Artists like myself can get involved in artificial intelligence While such a mission may sound daunting its really about starting to use it exploring the capabilities of algorithms as well as what they can express through AI systems I encourage artists to try to use AI to create something beautiful and expressive the way they would with any other medium However I never want to see the technology become the artist We must think about AI as a tool for the augmentation of human thought and creation and make every effort not to turn the reigns of creativity or ethics over to the machines When deploying AI individuals businesses governments etc must consider how to maintain a sense of civility creativity and equity in the AI system being released into the world For industries the driving question is how can AI be used to increase productivity while respecting human diversity dignity and our cultural specificities'"
      ]
     },
     "execution_count": 45,
     "metadata": {},
     "output_type": "execute_result"
    }
   ],
   "source": [
    "# Replace end of line character with space\n",
    "text_raw.replace('\\n', ' ')"
   ]
  },
  {
   "cell_type": "code",
   "execution_count": 46,
   "id": "4f1da6c5",
   "metadata": {
    "execution": {
     "iopub.execute_input": "2023-05-10T01:43:08.524289Z",
     "iopub.status.busy": "2023-05-10T01:43:08.524196Z",
     "iopub.status.idle": "2023-05-10T01:43:08.526169Z",
     "shell.execute_reply": "2023-05-10T01:43:08.525927Z"
    }
   },
   "outputs": [],
   "source": [
    "# Save a lower-case version of each word to a list\n",
    "words_list = []\n",
    "for word in text_raw.strip().split(): \n",
    "    words_list.append(word.lower())"
   ]
  },
  {
   "cell_type": "code",
   "execution_count": 47,
   "id": "994d4330",
   "metadata": {
    "execution": {
     "iopub.execute_input": "2023-05-10T01:43:08.527516Z",
     "iopub.status.busy": "2023-05-10T01:43:08.527422Z",
     "iopub.status.idle": "2023-05-10T01:43:08.529140Z",
     "shell.execute_reply": "2023-05-10T01:43:08.528905Z"
    }
   },
   "outputs": [],
   "source": [
    "# Eliminate non alpha elements\n",
    "text_list = [word.lower() for word in words_list if word.isalpha()]"
   ]
  },
  {
   "cell_type": "code",
   "execution_count": 48,
   "id": "a56ca53a",
   "metadata": {
    "execution": {
     "iopub.execute_input": "2023-05-10T01:43:08.530440Z",
     "iopub.status.busy": "2023-05-10T01:43:08.530363Z",
     "iopub.status.idle": "2023-05-10T01:43:08.531908Z",
     "shell.execute_reply": "2023-05-10T01:43:08.531673Z"
    }
   },
   "outputs": [],
   "source": [
    "# Transforming the list into a string for displaying\n",
    "text_str = ' '.join(text_list)"
   ]
  },
  {
   "cell_type": "code",
   "execution_count": 49,
   "id": "53c82585",
   "metadata": {
    "execution": {
     "iopub.execute_input": "2023-05-10T01:43:08.533221Z",
     "iopub.status.busy": "2023-05-10T01:43:08.533149Z",
     "iopub.status.idle": "2023-05-10T01:43:08.539331Z",
     "shell.execute_reply": "2023-05-10T01:43:08.539093Z"
    }
   },
   "outputs": [
    {
     "ename": "NameError",
     "evalue": "name 'STOPWORDS' is not defined",
     "output_type": "error",
     "traceback": [
      "\u001b[0;31m---------------------------------------------------------------------------\u001b[0m",
      "\u001b[0;31mNameError\u001b[0m                                 Traceback (most recent call last)",
      "Cell \u001b[0;32mIn [49], line 2\u001b[0m\n\u001b[1;32m      1\u001b[0m \u001b[38;5;66;03m# Crating and updating the stopword list\u001b[39;00m\n\u001b[0;32m----> 2\u001b[0m stpwords \u001b[38;5;241m=\u001b[39m \u001b[38;5;28mset\u001b[39m(\u001b[43mSTOPWORDS\u001b[49m)\n\u001b[1;32m      3\u001b[0m stpwords\u001b[38;5;241m.\u001b[39madd(\u001b[38;5;124m'\u001b[39m\u001b[38;5;124mwill\u001b[39m\u001b[38;5;124m'\u001b[39m)\n\u001b[1;32m      4\u001b[0m stpwords\u001b[38;5;241m.\u001b[39madd(\u001b[38;5;124m'\u001b[39m\u001b[38;5;124msaid\u001b[39m\u001b[38;5;124m'\u001b[39m)\n",
      "\u001b[0;31mNameError\u001b[0m: name 'STOPWORDS' is not defined"
     ]
    }
   ],
   "source": [
    "# Crating and updating the stopword list\n",
    "stpwords = set(STOPWORDS)\n",
    "stpwords.add('will')\n",
    "stpwords.add('said')"
   ]
  },
  {
   "cell_type": "code",
   "execution_count": 50,
   "id": "397986b4",
   "metadata": {
    "execution": {
     "iopub.execute_input": "2023-05-10T01:43:08.540692Z",
     "iopub.status.busy": "2023-05-10T01:43:08.540610Z",
     "iopub.status.idle": "2023-05-10T01:43:08.546854Z",
     "shell.execute_reply": "2023-05-10T01:43:08.546636Z"
    }
   },
   "outputs": [
    {
     "ename": "NameError",
     "evalue": "name 'WordCloud' is not defined",
     "output_type": "error",
     "traceback": [
      "\u001b[0;31m---------------------------------------------------------------------------\u001b[0m",
      "\u001b[0;31mNameError\u001b[0m                                 Traceback (most recent call last)",
      "Cell \u001b[0;32mIn [50], line 2\u001b[0m\n\u001b[1;32m      1\u001b[0m \u001b[38;5;66;03m# Defining the wordcloud parameters\u001b[39;00m\n\u001b[0;32m----> 2\u001b[0m wc \u001b[38;5;241m=\u001b[39m \u001b[43mWordCloud\u001b[49m(background_color\u001b[38;5;241m=\u001b[39m\u001b[38;5;124m\"\u001b[39m\u001b[38;5;124mwhite\u001b[39m\u001b[38;5;124m\"\u001b[39m, max_words\u001b[38;5;241m=\u001b[39m\u001b[38;5;241m2000\u001b[39m,stopwords\u001b[38;5;241m=\u001b[39mstpwords)\n",
      "\u001b[0;31mNameError\u001b[0m: name 'WordCloud' is not defined"
     ]
    }
   ],
   "source": [
    "# Defining the wordcloud parameters\n",
    "wc = WordCloud(background_color=\"white\", max_words=2000,stopwords=stpwords)"
   ]
  },
  {
   "cell_type": "code",
   "execution_count": 51,
   "id": "3d6fcfbd",
   "metadata": {
    "execution": {
     "iopub.execute_input": "2023-05-10T01:43:08.548160Z",
     "iopub.status.busy": "2023-05-10T01:43:08.548085Z",
     "iopub.status.idle": "2023-05-10T01:43:08.554087Z",
     "shell.execute_reply": "2023-05-10T01:43:08.553840Z"
    }
   },
   "outputs": [
    {
     "ename": "NameError",
     "evalue": "name 'wc' is not defined",
     "output_type": "error",
     "traceback": [
      "\u001b[0;31m---------------------------------------------------------------------------\u001b[0m",
      "\u001b[0;31mNameError\u001b[0m                                 Traceback (most recent call last)",
      "Cell \u001b[0;32mIn [51], line 2\u001b[0m\n\u001b[1;32m      1\u001b[0m \u001b[38;5;66;03m# Generate word cloud\u001b[39;00m\n\u001b[0;32m----> 2\u001b[0m \u001b[43mwc\u001b[49m\u001b[38;5;241m.\u001b[39mgenerate(text_str)\n",
      "\u001b[0;31mNameError\u001b[0m: name 'wc' is not defined"
     ]
    }
   ],
   "source": [
    "# Generate word cloud\n",
    "wc.generate(text_str)"
   ]
  },
  {
   "cell_type": "code",
   "execution_count": 52,
   "id": "e9ba1763",
   "metadata": {
    "execution": {
     "iopub.execute_input": "2023-05-10T01:43:08.555472Z",
     "iopub.status.busy": "2023-05-10T01:43:08.555390Z",
     "iopub.status.idle": "2023-05-10T01:43:08.562024Z",
     "shell.execute_reply": "2023-05-10T01:43:08.561750Z"
    }
   },
   "outputs": [
    {
     "ename": "NameError",
     "evalue": "name 'wc' is not defined",
     "output_type": "error",
     "traceback": [
      "\u001b[0;31m---------------------------------------------------------------------------\u001b[0m",
      "\u001b[0;31mNameError\u001b[0m                                 Traceback (most recent call last)",
      "Cell \u001b[0;32mIn [52], line 2\u001b[0m\n\u001b[1;32m      1\u001b[0m \u001b[38;5;66;03m# Store to file\u001b[39;00m\n\u001b[0;32m----> 2\u001b[0m \u001b[43mwc\u001b[49m\u001b[38;5;241m.\u001b[39mto_file(\u001b[38;5;124m'\u001b[39m\u001b[38;5;124mTrump.png\u001b[39m\u001b[38;5;124m'\u001b[39m)\n",
      "\u001b[0;31mNameError\u001b[0m: name 'wc' is not defined"
     ]
    }
   ],
   "source": [
    "# Store to file\n",
    "wc.to_file('Trump.png')"
   ]
  },
  {
   "cell_type": "code",
   "execution_count": 53,
   "id": "f5abd0a2",
   "metadata": {
    "execution": {
     "iopub.execute_input": "2023-05-10T01:43:08.563444Z",
     "iopub.status.busy": "2023-05-10T01:43:08.563342Z",
     "iopub.status.idle": "2023-05-10T01:43:08.569851Z",
     "shell.execute_reply": "2023-05-10T01:43:08.569577Z"
    }
   },
   "outputs": [
    {
     "ename": "NameError",
     "evalue": "name 'plt' is not defined",
     "output_type": "error",
     "traceback": [
      "\u001b[0;31m---------------------------------------------------------------------------\u001b[0m",
      "\u001b[0;31mNameError\u001b[0m                                 Traceback (most recent call last)",
      "Cell \u001b[0;32mIn [53], line 2\u001b[0m\n\u001b[1;32m      1\u001b[0m \u001b[38;5;66;03m# Show the cloud\u001b[39;00m\n\u001b[0;32m----> 2\u001b[0m \u001b[43mplt\u001b[49m\u001b[38;5;241m.\u001b[39mimshow(wc)\n\u001b[1;32m      3\u001b[0m plt\u001b[38;5;241m.\u001b[39maxis(\u001b[38;5;124m'\u001b[39m\u001b[38;5;124moff\u001b[39m\u001b[38;5;124m'\u001b[39m)\n\u001b[1;32m      4\u001b[0m plt\u001b[38;5;241m.\u001b[39mshow()\n",
      "\u001b[0;31mNameError\u001b[0m: name 'plt' is not defined"
     ]
    }
   ],
   "source": [
    "# Show the cloud\n",
    "plt.imshow(wc)\n",
    "plt.axis('off')\n",
    "plt.show()"
   ]
  },
  {
   "cell_type": "markdown",
   "id": "d1384b4f",
   "metadata": {},
   "source": [
    "This script reads a text file, clean it in part and generates a word cloud using the words in the text"
   ]
  },
  {
   "cell_type": "code",
   "execution_count": 54,
   "id": "f765bbd3",
   "metadata": {
    "execution": {
     "iopub.execute_input": "2023-05-10T01:43:08.571290Z",
     "iopub.status.busy": "2023-05-10T01:43:08.571184Z",
     "iopub.status.idle": "2023-05-10T01:43:08.577602Z",
     "shell.execute_reply": "2023-05-10T01:43:08.577352Z"
    }
   },
   "outputs": [
    {
     "ename": "ModuleNotFoundError",
     "evalue": "No module named 'wordcloud'",
     "output_type": "error",
     "traceback": [
      "\u001b[0;31m---------------------------------------------------------------------------\u001b[0m",
      "\u001b[0;31mModuleNotFoundError\u001b[0m                       Traceback (most recent call last)",
      "Cell \u001b[0;32mIn [54], line 2\u001b[0m\n\u001b[1;32m      1\u001b[0m \u001b[38;5;66;03m# Importing the required libraries\u001b[39;00m\n\u001b[0;32m----> 2\u001b[0m \u001b[38;5;28;01mfrom\u001b[39;00m \u001b[38;5;21;01mwordcloud\u001b[39;00m \u001b[38;5;28;01mimport\u001b[39;00m WordCloud, STOPWORDS\n\u001b[1;32m      3\u001b[0m \u001b[38;5;28;01mimport\u001b[39;00m \u001b[38;5;21;01mmatplotlib\u001b[39;00m\u001b[38;5;21;01m.\u001b[39;00m\u001b[38;5;21;01mpyplot\u001b[39;00m \u001b[38;5;28;01mas\u001b[39;00m \u001b[38;5;21;01mplt\u001b[39;00m\n",
      "\u001b[0;31mModuleNotFoundError\u001b[0m: No module named 'wordcloud'"
     ]
    }
   ],
   "source": [
    "# Importing the required libraries\n",
    "from wordcloud import WordCloud, STOPWORDS\n",
    "import matplotlib.pyplot as plt"
   ]
  },
  {
   "cell_type": "markdown",
   "id": "c303048b",
   "metadata": {},
   "source": [
    "Read the whole text\n",
    "file_read = open('ai_trends.txt' 'rU')\n",
    "text_raw = file_read.read()"
   ]
  },
  {
   "cell_type": "code",
   "execution_count": 55,
   "id": "5acf29db",
   "metadata": {
    "execution": {
     "iopub.execute_input": "2023-05-10T01:43:08.579039Z",
     "iopub.status.busy": "2023-05-10T01:43:08.578962Z",
     "iopub.status.idle": "2023-05-10T01:43:08.581155Z",
     "shell.execute_reply": "2023-05-10T01:43:08.580915Z"
    }
   },
   "outputs": [
    {
     "data": {
      "text/plain": [
       "'Increase security Drones are going to change the way we live I think of drones now as the equivalent of what phones were in the 90s Drones open up the ability to transport things through the air over short distances and in complex spaces which is just not something we have another solution for today Whether thats package delivery or emergency response or delivering medical products urgently all of those things become possible immediately One of the amazing things about drones is that they fly The idea that you can have something routinely inspect places that are hard to look at will make our world dramatically safer It will be another way in which drones will help us realize this future vision a lot of us have of whats going to happen this network of autonomous drones flying around taking care of things and interacting with us It will bring an immediacy to what theyre doing in the same way a smartphone in your hand made that change so readily apparent Generate new services and potentially social issues Artificial intelligence really means the extension of our ability to solve problems and to generate new ideas Its quite possible that 10 years will get us to an inflection point after which we will see advancement at an unprecedented rate AI and and robotics will have been assimilated into business operations and will be having a major impact on efficiency in organizations Entirely new AI-based products and services will have created new consumer and industrial markets At the same time AI will bring along new challenges perhaps most importantly increasing inequality and possibly unemployment as routine predictable types of work are automated There will also be critical challenges in areas like privacy security algorithmic bias and military applications of AI Ten years from now a vibrant debate about these issues will have likely come to the forefront of our political and social discourse Finding a way to address these issues on behalf of humanity will soon be one of the defining challenges for the coming decades Empower businesses The consumer-facing applications of AI and ML feel stuck to me relegated to doing what humans can already do or more critically only what we trust them to do Over the next ten years I think well start seeing trust barriers decrease and as a result dependence on AI powered algorithms and machines will increase We started learning this lesson years ago building our consumer applications If youre going on a trip to Paris for example youd trust almost anything your friend recommends even if theyd only been to Paris once for a short trip just because they said so In the same situation we use sophisticated ML techniques to deliver extremely personalized recommendations but algorithms dont get the benefit of trust like a friend In order to gain user trust we had to try and explain the what the AI thought which defeats the power of it Today these ideas are starting to grow in acceptance and expectation as brands such as Foursquare continue to use ML to build location-aware technology that push the boundaries of mobile capabilitiesand gives developers analysts marketers and beyond a unique way of understanding and interacting with their users The industry excitement around this technology and the rich experiences built on top of it I hope and believe represent the tides of change Improve healthcare When it comes to healthcare theres a lot machines can do to help the doctor I dont see a future where we actually dont have doctors guiding but a lot of the busy work doctors have to do is better done using artificial intelligence If you think about a doctors career thirty or forty years the number of patients you can see during that time period is very limited Many doctors are burnt out overworked its a serious issue They also dont have time to keep themselves up to date on the most recent research treatment techniques and advancements in medication Machines can play a very important role here Artificial intelligence can access a much larger set of patient data of how they were treated and what the outcomes were You can imagine machines being in a much better position because machines can start doing the busy work around the diagnosis and humans can actually interact with the patient and work with artificial intelligence to improve outcomes That in my mind is super exciting Facilitate sustainability Artificial intelligence is going to impact every single industry and everything that we do On a bigger level areas like sustainability climate change environmental issues they are becoming more at the forefront of everybodys minds as we move more into the 21st century and think about the huge challenges we need to tackle like population increases urbanization and energy Theres so many different areas within urbanization that touch on city planning We can do that much more efficiently once we can track the movements of residents within cities and once we can map which areas we can use to improve the density of cities In the AI floodgates conversation Ive seen in the past six months or so a lot more companies wanting to focus on AI instead of just thinking about the quick goals of making workloads and businesses more efficient If we look at the bigger picture of AI for good then it connects us with more purpose and meaning Blend the lines of digital and physical Personally Im most interested in furthering spatial computing When you live in a world where your computer is not just bound to a specific device but can be anywhere you want to put it it means computers will have to react to humans much more intelligently than they do now Right now if you do something wrong today your computer throws up an error you close it and thats it But imagine if for example you had a full-scale game that was in your apartment and something went wrong Where does the dialog box go then Should there be one at all There are a lot of open questions around how humans will want to interact with their computers For example Foursquare did a really great job with having with having location-based notifications designed to give you the right information at the right time There are many many applications that should be making use of that kind of awareness today And in the future having these really intelligent ways of surfacing information are going to move from nice-to-haves to essentials And I for one will be looking forward to that because I want computers to be smarter already Make us smarter Computational power is going to continue to increase giving us more power to train our models The amount of data being created is going to continue to grow exponentially as well allowing us to monitor more elements in our platforms and our world Combine the two together with AI and it gives us the ability to be able to make more intelligent projections on future behavior and events as you can train more intelligent models and knowledge systems However in the financial services industry regulatory pressures could actually curb the power of AI to some degree by siloing off information used to train models thus cutting off one source of fuel AI needs to thrive slowing its ability to make an impact I believe peoples worries about AI becoming all powerful are unfounded Ultimately training an AI platform it is very much like molding a child If you treat it the right way and teach it the right things train it to know whats right and wrong it will inherently grow up to become a productive member of society that cares about people and the future Just like any one of us Inspire artists In ten years there will be some sort of algorithm involved in most decisions made big or small Artists like myself can get involved in artificial intelligence While such a mission may sound daunting its really about starting to use it exploring the capabilities of algorithms as well as what they can express through AI systems I encourage artists to try to use AI to create something beautiful and expressive the way they would with any other medium However I never want to see the technology become the artist We must think about AI as a tool for the augmentation of human thought and creation and make every effort not to turn the reigns of creativity or ethics over to the machines When deploying AI individuals businesses governments etc must consider how to maintain a sense of civility creativity and equity in the AI system being released into the world For industries the driving question is how can AI be used to increase productivity while respecting human diversity dignity and our cultural specificities'"
      ]
     },
     "execution_count": 55,
     "metadata": {},
     "output_type": "execute_result"
    }
   ],
   "source": [
    "# Replace end of line character with space\n",
    "text_raw.replace('\\n', ' ')"
   ]
  },
  {
   "cell_type": "code",
   "execution_count": 56,
   "id": "fc3173ea",
   "metadata": {
    "execution": {
     "iopub.execute_input": "2023-05-10T01:43:08.582516Z",
     "iopub.status.busy": "2023-05-10T01:43:08.582436Z",
     "iopub.status.idle": "2023-05-10T01:43:08.585609Z",
     "shell.execute_reply": "2023-05-10T01:43:08.585311Z"
    }
   },
   "outputs": [],
   "source": [
    "# Save a lower-case version of each word to a list\n",
    "words_list = ['Inspire', 'artists', 'In', 'years', 'sort', 'algorithm', 'involved', 'decisions', 'big', 'small', 'Artists', 'like', 'involved', 'artificial', 'intelligence', 'While', 'mission', 'sound', 'daunting', 'really', 'starting', 'use', 'exploring', 'capabilities', 'algorithms', 'express', 'AI', 'systems', 'I', 'encourage', 'artists', 'try', 'use', 'AI', 'create', 'beautiful', 'expressive', 'way', 'medium', 'However', 'I', 'want', 'technology', 'artist', 'We', 'think', 'AI', 'tool', 'augmentation', 'human', 'thought', 'creation', 'make', 'effort', 'turn', 'reigns', 'creativity', 'ethics', 'machines', 'When', 'deploying', 'AI', 'individuals', 'businesses', 'governments', 'consider', 'maintain', 'sense', 'civility', 'creativity', 'equity', 'AI', 'released', 'world', 'For', 'industries', 'driving', 'question', 'AI', 'used', 'increase', 'productivity', 'respecting', 'human', 'diversity', 'dignity', 'cultural', 'specificities']\n",
    "for word in text_raw.strip().split(): \n",
    "    words_list.append(word.lower())"
   ]
  },
  {
   "cell_type": "code",
   "execution_count": 57,
   "id": "b955b9f4",
   "metadata": {
    "execution": {
     "iopub.execute_input": "2023-05-10T01:43:08.586942Z",
     "iopub.status.busy": "2023-05-10T01:43:08.586864Z",
     "iopub.status.idle": "2023-05-10T01:43:08.588704Z",
     "shell.execute_reply": "2023-05-10T01:43:08.588482Z"
    }
   },
   "outputs": [],
   "source": [
    "# Eliminate non alpha elements\n",
    "text_list = [word.lower() for word in words_list if word.isalpha()]"
   ]
  },
  {
   "cell_type": "code",
   "execution_count": 58,
   "id": "1800c81a",
   "metadata": {
    "execution": {
     "iopub.execute_input": "2023-05-10T01:43:08.590005Z",
     "iopub.status.busy": "2023-05-10T01:43:08.589927Z",
     "iopub.status.idle": "2023-05-10T01:43:08.591583Z",
     "shell.execute_reply": "2023-05-10T01:43:08.591358Z"
    }
   },
   "outputs": [],
   "source": [
    "# Transforming the list into a string for displaying\n",
    "text_str = ' '.join(text_list)"
   ]
  },
  {
   "cell_type": "code",
   "execution_count": 59,
   "id": "86fbd1c0",
   "metadata": {
    "execution": {
     "iopub.execute_input": "2023-05-10T01:43:08.592845Z",
     "iopub.status.busy": "2023-05-10T01:43:08.592771Z",
     "iopub.status.idle": "2023-05-10T01:43:08.599110Z",
     "shell.execute_reply": "2023-05-10T01:43:08.598834Z"
    }
   },
   "outputs": [
    {
     "ename": "NameError",
     "evalue": "name 'STOPWORDS' is not defined",
     "output_type": "error",
     "traceback": [
      "\u001b[0;31m---------------------------------------------------------------------------\u001b[0m",
      "\u001b[0;31mNameError\u001b[0m                                 Traceback (most recent call last)",
      "Cell \u001b[0;32mIn [59], line 2\u001b[0m\n\u001b[1;32m      1\u001b[0m \u001b[38;5;66;03m# Crating and updating the stopword list\u001b[39;00m\n\u001b[0;32m----> 2\u001b[0m stpwords \u001b[38;5;241m=\u001b[39m \u001b[38;5;28mset\u001b[39m(\u001b[43mSTOPWORDS\u001b[49m)\n\u001b[1;32m      3\u001b[0m stpwords\u001b[38;5;241m.\u001b[39madd(\u001b[38;5;124m'\u001b[39m\u001b[38;5;124mwill\u001b[39m\u001b[38;5;124m'\u001b[39m)\n\u001b[1;32m      4\u001b[0m stpwords\u001b[38;5;241m.\u001b[39madd(\u001b[38;5;124m'\u001b[39m\u001b[38;5;124msaid\u001b[39m\u001b[38;5;124m'\u001b[39m)\n",
      "\u001b[0;31mNameError\u001b[0m: name 'STOPWORDS' is not defined"
     ]
    }
   ],
   "source": [
    "# Crating and updating the stopword list\n",
    "stpwords = set(STOPWORDS)\n",
    "stpwords.add('will')\n",
    "stpwords.add('said')"
   ]
  },
  {
   "cell_type": "code",
   "execution_count": 60,
   "id": "0435bcaa",
   "metadata": {
    "execution": {
     "iopub.execute_input": "2023-05-10T01:43:08.600455Z",
     "iopub.status.busy": "2023-05-10T01:43:08.600368Z",
     "iopub.status.idle": "2023-05-10T01:43:08.606926Z",
     "shell.execute_reply": "2023-05-10T01:43:08.606671Z"
    }
   },
   "outputs": [
    {
     "ename": "NameError",
     "evalue": "name 'WordCloud' is not defined",
     "output_type": "error",
     "traceback": [
      "\u001b[0;31m---------------------------------------------------------------------------\u001b[0m",
      "\u001b[0;31mNameError\u001b[0m                                 Traceback (most recent call last)",
      "Cell \u001b[0;32mIn [60], line 2\u001b[0m\n\u001b[1;32m      1\u001b[0m \u001b[38;5;66;03m# Defining the wordcloud parameters\u001b[39;00m\n\u001b[0;32m----> 2\u001b[0m wc \u001b[38;5;241m=\u001b[39m \u001b[43mWordCloud\u001b[49m(background_color\u001b[38;5;241m=\u001b[39m\u001b[38;5;124m\"\u001b[39m\u001b[38;5;124mwhite\u001b[39m\u001b[38;5;124m\"\u001b[39m, max_words\u001b[38;5;241m=\u001b[39m\u001b[38;5;241m2000\u001b[39m,stopwords\u001b[38;5;241m=\u001b[39mstpwords)\n",
      "\u001b[0;31mNameError\u001b[0m: name 'WordCloud' is not defined"
     ]
    }
   ],
   "source": [
    "# Defining the wordcloud parameters\n",
    "wc = WordCloud(background_color=\"white\", max_words=2000,stopwords=stpwords)"
   ]
  },
  {
   "cell_type": "code",
   "execution_count": 61,
   "id": "beef426f",
   "metadata": {
    "execution": {
     "iopub.execute_input": "2023-05-10T01:43:08.608324Z",
     "iopub.status.busy": "2023-05-10T01:43:08.608222Z",
     "iopub.status.idle": "2023-05-10T01:43:08.614951Z",
     "shell.execute_reply": "2023-05-10T01:43:08.614720Z"
    }
   },
   "outputs": [
    {
     "ename": "NameError",
     "evalue": "name 'wc' is not defined",
     "output_type": "error",
     "traceback": [
      "\u001b[0;31m---------------------------------------------------------------------------\u001b[0m",
      "\u001b[0;31mNameError\u001b[0m                                 Traceback (most recent call last)",
      "Cell \u001b[0;32mIn [61], line 2\u001b[0m\n\u001b[1;32m      1\u001b[0m \u001b[38;5;66;03m# Generate word cloud\u001b[39;00m\n\u001b[0;32m----> 2\u001b[0m \u001b[43mwc\u001b[49m\u001b[38;5;241m.\u001b[39mgenerate(text_str)\n",
      "\u001b[0;31mNameError\u001b[0m: name 'wc' is not defined"
     ]
    }
   ],
   "source": [
    "# Generate word cloud\n",
    "wc.generate(text_str)"
   ]
  },
  {
   "cell_type": "code",
   "execution_count": 62,
   "id": "7dde9633",
   "metadata": {
    "execution": {
     "iopub.execute_input": "2023-05-10T01:43:08.616318Z",
     "iopub.status.busy": "2023-05-10T01:43:08.616239Z",
     "iopub.status.idle": "2023-05-10T01:43:08.622526Z",
     "shell.execute_reply": "2023-05-10T01:43:08.622304Z"
    }
   },
   "outputs": [
    {
     "ename": "NameError",
     "evalue": "name 'wc' is not defined",
     "output_type": "error",
     "traceback": [
      "\u001b[0;31m---------------------------------------------------------------------------\u001b[0m",
      "\u001b[0;31mNameError\u001b[0m                                 Traceback (most recent call last)",
      "Cell \u001b[0;32mIn [62], line 2\u001b[0m\n\u001b[1;32m      1\u001b[0m \u001b[38;5;66;03m# Store to file\u001b[39;00m\n\u001b[0;32m----> 2\u001b[0m \u001b[43mwc\u001b[49m\u001b[38;5;241m.\u001b[39mto_file(\u001b[38;5;124m'\u001b[39m\u001b[38;5;124mTrump.png\u001b[39m\u001b[38;5;124m'\u001b[39m)\n",
      "\u001b[0;31mNameError\u001b[0m: name 'wc' is not defined"
     ]
    }
   ],
   "source": [
    "# Store to file\n",
    "wc.to_file('Trump.png')"
   ]
  },
  {
   "cell_type": "code",
   "execution_count": 63,
   "id": "b7c1ecac",
   "metadata": {
    "execution": {
     "iopub.execute_input": "2023-05-10T01:43:08.623944Z",
     "iopub.status.busy": "2023-05-10T01:43:08.623845Z",
     "iopub.status.idle": "2023-05-10T01:43:08.630117Z",
     "shell.execute_reply": "2023-05-10T01:43:08.629880Z"
    }
   },
   "outputs": [
    {
     "ename": "NameError",
     "evalue": "name 'plt' is not defined",
     "output_type": "error",
     "traceback": [
      "\u001b[0;31m---------------------------------------------------------------------------\u001b[0m",
      "\u001b[0;31mNameError\u001b[0m                                 Traceback (most recent call last)",
      "Cell \u001b[0;32mIn [63], line 2\u001b[0m\n\u001b[1;32m      1\u001b[0m \u001b[38;5;66;03m# Show the cloud\u001b[39;00m\n\u001b[0;32m----> 2\u001b[0m \u001b[43mplt\u001b[49m\u001b[38;5;241m.\u001b[39mimshow(wc)\n\u001b[1;32m      3\u001b[0m plt\u001b[38;5;241m.\u001b[39maxis(\u001b[38;5;124m'\u001b[39m\u001b[38;5;124moff\u001b[39m\u001b[38;5;124m'\u001b[39m)\n\u001b[1;32m      4\u001b[0m plt\u001b[38;5;241m.\u001b[39mshow()\n",
      "\u001b[0;31mNameError\u001b[0m: name 'plt' is not defined"
     ]
    }
   ],
   "source": [
    "# Show the cloud\n",
    "plt.imshow(wc)\n",
    "plt.axis('off')\n",
    "plt.show()"
   ]
  },
  {
   "cell_type": "markdown",
   "id": "bc7d8054",
   "metadata": {},
   "source": [
    "This script reads a text file, clean it in part and generates a word cloud using the words in the text"
   ]
  },
  {
   "cell_type": "code",
   "execution_count": 64,
   "id": "7672526f",
   "metadata": {
    "execution": {
     "iopub.execute_input": "2023-05-10T01:43:08.631475Z",
     "iopub.status.busy": "2023-05-10T01:43:08.631391Z",
     "iopub.status.idle": "2023-05-10T01:43:08.637753Z",
     "shell.execute_reply": "2023-05-10T01:43:08.637513Z"
    }
   },
   "outputs": [
    {
     "ename": "ModuleNotFoundError",
     "evalue": "No module named 'wordcloud'",
     "output_type": "error",
     "traceback": [
      "\u001b[0;31m---------------------------------------------------------------------------\u001b[0m",
      "\u001b[0;31mModuleNotFoundError\u001b[0m                       Traceback (most recent call last)",
      "Cell \u001b[0;32mIn [64], line 2\u001b[0m\n\u001b[1;32m      1\u001b[0m \u001b[38;5;66;03m# Importing the required libraries\u001b[39;00m\n\u001b[0;32m----> 2\u001b[0m \u001b[38;5;28;01mfrom\u001b[39;00m \u001b[38;5;21;01mwordcloud\u001b[39;00m \u001b[38;5;28;01mimport\u001b[39;00m WordCloud, STOPWORDS\n\u001b[1;32m      3\u001b[0m \u001b[38;5;28;01mimport\u001b[39;00m \u001b[38;5;21;01mmatplotlib\u001b[39;00m\u001b[38;5;21;01m.\u001b[39;00m\u001b[38;5;21;01mpyplot\u001b[39;00m \u001b[38;5;28;01mas\u001b[39;00m \u001b[38;5;21;01mplt\u001b[39;00m\n",
      "\u001b[0;31mModuleNotFoundError\u001b[0m: No module named 'wordcloud'"
     ]
    }
   ],
   "source": [
    "# Importing the required libraries\n",
    "from wordcloud import WordCloud, STOPWORDS\n",
    "import matplotlib.pyplot as plt"
   ]
  },
  {
   "cell_type": "markdown",
   "id": "95ecbb6e",
   "metadata": {},
   "source": [
    "Read the whole text\n",
    "file_read = open('ai_trends.txt' 'rU')\n",
    "text_raw = file_read.read()"
   ]
  },
  {
   "cell_type": "code",
   "execution_count": 65,
   "id": "08001b28",
   "metadata": {
    "execution": {
     "iopub.execute_input": "2023-05-10T01:43:08.639211Z",
     "iopub.status.busy": "2023-05-10T01:43:08.639130Z",
     "iopub.status.idle": "2023-05-10T01:43:08.641265Z",
     "shell.execute_reply": "2023-05-10T01:43:08.641036Z"
    }
   },
   "outputs": [
    {
     "data": {
      "text/plain": [
       "'Increase security Drones are going to change the way we live I think of drones now as the equivalent of what phones were in the 90s Drones open up the ability to transport things through the air over short distances and in complex spaces which is just not something we have another solution for today Whether thats package delivery or emergency response or delivering medical products urgently all of those things become possible immediately One of the amazing things about drones is that they fly The idea that you can have something routinely inspect places that are hard to look at will make our world dramatically safer It will be another way in which drones will help us realize this future vision a lot of us have of whats going to happen this network of autonomous drones flying around taking care of things and interacting with us It will bring an immediacy to what theyre doing in the same way a smartphone in your hand made that change so readily apparent Generate new services and potentially social issues Artificial intelligence really means the extension of our ability to solve problems and to generate new ideas Its quite possible that 10 years will get us to an inflection point after which we will see advancement at an unprecedented rate AI and and robotics will have been assimilated into business operations and will be having a major impact on efficiency in organizations Entirely new AI-based products and services will have created new consumer and industrial markets At the same time AI will bring along new challenges perhaps most importantly increasing inequality and possibly unemployment as routine predictable types of work are automated There will also be critical challenges in areas like privacy security algorithmic bias and military applications of AI Ten years from now a vibrant debate about these issues will have likely come to the forefront of our political and social discourse Finding a way to address these issues on behalf of humanity will soon be one of the defining challenges for the coming decades Empower businesses The consumer-facing applications of AI and ML feel stuck to me relegated to doing what humans can already do or more critically only what we trust them to do Over the next ten years I think well start seeing trust barriers decrease and as a result dependence on AI powered algorithms and machines will increase We started learning this lesson years ago building our consumer applications If youre going on a trip to Paris for example youd trust almost anything your friend recommends even if theyd only been to Paris once for a short trip just because they said so In the same situation we use sophisticated ML techniques to deliver extremely personalized recommendations but algorithms dont get the benefit of trust like a friend In order to gain user trust we had to try and explain the what the AI thought which defeats the power of it Today these ideas are starting to grow in acceptance and expectation as brands such as Foursquare continue to use ML to build location-aware technology that push the boundaries of mobile capabilitiesand gives developers analysts marketers and beyond a unique way of understanding and interacting with their users The industry excitement around this technology and the rich experiences built on top of it I hope and believe represent the tides of change Improve healthcare When it comes to healthcare theres a lot machines can do to help the doctor I dont see a future where we actually dont have doctors guiding but a lot of the busy work doctors have to do is better done using artificial intelligence If you think about a doctors career thirty or forty years the number of patients you can see during that time period is very limited Many doctors are burnt out overworked its a serious issue They also dont have time to keep themselves up to date on the most recent research treatment techniques and advancements in medication Machines can play a very important role here Artificial intelligence can access a much larger set of patient data of how they were treated and what the outcomes were You can imagine machines being in a much better position because machines can start doing the busy work around the diagnosis and humans can actually interact with the patient and work with artificial intelligence to improve outcomes That in my mind is super exciting Facilitate sustainability Artificial intelligence is going to impact every single industry and everything that we do On a bigger level areas like sustainability climate change environmental issues they are becoming more at the forefront of everybodys minds as we move more into the 21st century and think about the huge challenges we need to tackle like population increases urbanization and energy Theres so many different areas within urbanization that touch on city planning We can do that much more efficiently once we can track the movements of residents within cities and once we can map which areas we can use to improve the density of cities In the AI floodgates conversation Ive seen in the past six months or so a lot more companies wanting to focus on AI instead of just thinking about the quick goals of making workloads and businesses more efficient If we look at the bigger picture of AI for good then it connects us with more purpose and meaning Blend the lines of digital and physical Personally Im most interested in furthering spatial computing When you live in a world where your computer is not just bound to a specific device but can be anywhere you want to put it it means computers will have to react to humans much more intelligently than they do now Right now if you do something wrong today your computer throws up an error you close it and thats it But imagine if for example you had a full-scale game that was in your apartment and something went wrong Where does the dialog box go then Should there be one at all There are a lot of open questions around how humans will want to interact with their computers For example Foursquare did a really great job with having with having location-based notifications designed to give you the right information at the right time There are many many applications that should be making use of that kind of awareness today And in the future having these really intelligent ways of surfacing information are going to move from nice-to-haves to essentials And I for one will be looking forward to that because I want computers to be smarter already Make us smarter Computational power is going to continue to increase giving us more power to train our models The amount of data being created is going to continue to grow exponentially as well allowing us to monitor more elements in our platforms and our world Combine the two together with AI and it gives us the ability to be able to make more intelligent projections on future behavior and events as you can train more intelligent models and knowledge systems However in the financial services industry regulatory pressures could actually curb the power of AI to some degree by siloing off information used to train models thus cutting off one source of fuel AI needs to thrive slowing its ability to make an impact I believe peoples worries about AI becoming all powerful are unfounded Ultimately training an AI platform it is very much like molding a child If you treat it the right way and teach it the right things train it to know whats right and wrong it will inherently grow up to become a productive member of society that cares about people and the future Just like any one of us Inspire artists In ten years there will be some sort of algorithm involved in most decisions made big or small Artists like myself can get involved in artificial intelligence While such a mission may sound daunting its really about starting to use it exploring the capabilities of algorithms as well as what they can express through AI systems I encourage artists to try to use AI to create something beautiful and expressive the way they would with any other medium However I never want to see the technology become the artist We must think about AI as a tool for the augmentation of human thought and creation and make every effort not to turn the reigns of creativity or ethics over to the machines When deploying AI individuals businesses governments etc must consider how to maintain a sense of civility creativity and equity in the AI system being released into the world For industries the driving question is how can AI be used to increase productivity while respecting human diversity dignity and our cultural specificities'"
      ]
     },
     "execution_count": 65,
     "metadata": {},
     "output_type": "execute_result"
    }
   ],
   "source": [
    "# Replace end of line character with space\n",
    "text_raw.replace('\\n', ' ')"
   ]
  },
  {
   "cell_type": "code",
   "execution_count": 66,
   "id": "3e4cd014",
   "metadata": {
    "execution": {
     "iopub.execute_input": "2023-05-10T01:43:08.642596Z",
     "iopub.status.busy": "2023-05-10T01:43:08.642514Z",
     "iopub.status.idle": "2023-05-10T01:43:08.645566Z",
     "shell.execute_reply": "2023-05-10T01:43:08.645330Z"
    }
   },
   "outputs": [],
   "source": [
    "# Save a lower-case version of each word to a list\n",
    "words_list = ['Inspire', 'artists', 'In', 'years', 'sort', 'algorithm', 'involved', 'decisions', 'big', 'small', 'Artists', 'like', 'involved', 'artificial', 'intelligence', 'While', 'mission', 'sound', 'daunting', 'really', 'starting', 'use', 'exploring', 'capabilities', 'algorithms', 'express', 'AI', 'systems', 'I', 'encourage', 'artists', 'try', 'use', 'AI', 'create', 'beautiful', 'expressive', 'way', 'medium', 'However', 'I', 'want', 'technology', 'artist', 'We', 'think', 'AI', 'tool', 'augmentation', 'human', 'thought', 'creation', 'make', 'effort', 'turn', 'reigns', 'creativity', 'ethics', 'machines', 'When', 'deploying', 'AI', 'individuals', 'businesses', 'governments', 'consider', 'maintain', 'sense', 'civility', 'creativity', 'equity', 'AI', 'released', 'world', 'For', 'industries', 'driving', 'question', 'AI', 'used', 'increase', 'productivity', 'respecting', 'human', 'diversity', 'dignity', 'cultural', 'specificities']\n",
    "for word in text_raw.strip().split(): \n",
    "    words_list.append(word.lower())"
   ]
  },
  {
   "cell_type": "code",
   "execution_count": 67,
   "id": "b18272a3",
   "metadata": {
    "execution": {
     "iopub.execute_input": "2023-05-10T01:43:08.646941Z",
     "iopub.status.busy": "2023-05-10T01:43:08.646864Z",
     "iopub.status.idle": "2023-05-10T01:43:08.648548Z",
     "shell.execute_reply": "2023-05-10T01:43:08.648304Z"
    }
   },
   "outputs": [],
   "source": [
    "# Eliminate non alpha elements\n",
    "text_list = [word.lower() for word in words_list if word.isalpha()]"
   ]
  },
  {
   "cell_type": "code",
   "execution_count": 68,
   "id": "922adb88",
   "metadata": {
    "execution": {
     "iopub.execute_input": "2023-05-10T01:43:08.649876Z",
     "iopub.status.busy": "2023-05-10T01:43:08.649796Z",
     "iopub.status.idle": "2023-05-10T01:43:08.651519Z",
     "shell.execute_reply": "2023-05-10T01:43:08.651227Z"
    }
   },
   "outputs": [],
   "source": [
    "# Transforming the list into a string for displaying\n",
    "text_str = ' '.join(text_list)"
   ]
  },
  {
   "cell_type": "code",
   "execution_count": 69,
   "id": "6c288288",
   "metadata": {
    "execution": {
     "iopub.execute_input": "2023-05-10T01:43:08.652873Z",
     "iopub.status.busy": "2023-05-10T01:43:08.652799Z",
     "iopub.status.idle": "2023-05-10T01:43:08.659209Z",
     "shell.execute_reply": "2023-05-10T01:43:08.658957Z"
    }
   },
   "outputs": [
    {
     "ename": "NameError",
     "evalue": "name 'STOPWORDS' is not defined",
     "output_type": "error",
     "traceback": [
      "\u001b[0;31m---------------------------------------------------------------------------\u001b[0m",
      "\u001b[0;31mNameError\u001b[0m                                 Traceback (most recent call last)",
      "Cell \u001b[0;32mIn [69], line 2\u001b[0m\n\u001b[1;32m      1\u001b[0m \u001b[38;5;66;03m# Crating and updating the stopword list\u001b[39;00m\n\u001b[0;32m----> 2\u001b[0m stpwords \u001b[38;5;241m=\u001b[39m \u001b[38;5;28mset\u001b[39m(\u001b[43mSTOPWORDS\u001b[49m)\n\u001b[1;32m      3\u001b[0m stpwords\u001b[38;5;241m.\u001b[39madd(\u001b[38;5;124m'\u001b[39m\u001b[38;5;124mwill\u001b[39m\u001b[38;5;124m'\u001b[39m)\n\u001b[1;32m      4\u001b[0m stpwords\u001b[38;5;241m.\u001b[39madd(\u001b[38;5;124m'\u001b[39m\u001b[38;5;124msaid\u001b[39m\u001b[38;5;124m'\u001b[39m)\n",
      "\u001b[0;31mNameError\u001b[0m: name 'STOPWORDS' is not defined"
     ]
    }
   ],
   "source": [
    "# Crating and updating the stopword list\n",
    "stpwords = set(STOPWORDS)\n",
    "stpwords.add('will')\n",
    "stpwords.add('said')"
   ]
  },
  {
   "cell_type": "code",
   "execution_count": 70,
   "id": "45cbd49b",
   "metadata": {
    "execution": {
     "iopub.execute_input": "2023-05-10T01:43:08.660624Z",
     "iopub.status.busy": "2023-05-10T01:43:08.660546Z",
     "iopub.status.idle": "2023-05-10T01:43:08.666827Z",
     "shell.execute_reply": "2023-05-10T01:43:08.666561Z"
    }
   },
   "outputs": [
    {
     "ename": "NameError",
     "evalue": "name 'WordCloud' is not defined",
     "output_type": "error",
     "traceback": [
      "\u001b[0;31m---------------------------------------------------------------------------\u001b[0m",
      "\u001b[0;31mNameError\u001b[0m                                 Traceback (most recent call last)",
      "Cell \u001b[0;32mIn [70], line 2\u001b[0m\n\u001b[1;32m      1\u001b[0m \u001b[38;5;66;03m# Defining the wordcloud parameters\u001b[39;00m\n\u001b[0;32m----> 2\u001b[0m wc \u001b[38;5;241m=\u001b[39m \u001b[43mWordCloud\u001b[49m(background_color\u001b[38;5;241m=\u001b[39m\u001b[38;5;124m\"\u001b[39m\u001b[38;5;124mwhite\u001b[39m\u001b[38;5;124m\"\u001b[39m, max_words\u001b[38;5;241m=\u001b[39m\u001b[38;5;241m2000\u001b[39m,stopwords\u001b[38;5;241m=\u001b[39mstpwords)\n",
      "\u001b[0;31mNameError\u001b[0m: name 'WordCloud' is not defined"
     ]
    }
   ],
   "source": [
    "# Defining the wordcloud parameters\n",
    "wc = WordCloud(background_color=\"white\", max_words=2000,stopwords=stpwords)"
   ]
  },
  {
   "cell_type": "code",
   "execution_count": 71,
   "id": "6b6e9af1",
   "metadata": {
    "execution": {
     "iopub.execute_input": "2023-05-10T01:43:08.668212Z",
     "iopub.status.busy": "2023-05-10T01:43:08.668126Z",
     "iopub.status.idle": "2023-05-10T01:43:08.674239Z",
     "shell.execute_reply": "2023-05-10T01:43:08.673983Z"
    }
   },
   "outputs": [
    {
     "ename": "NameError",
     "evalue": "name 'wc' is not defined",
     "output_type": "error",
     "traceback": [
      "\u001b[0;31m---------------------------------------------------------------------------\u001b[0m",
      "\u001b[0;31mNameError\u001b[0m                                 Traceback (most recent call last)",
      "Cell \u001b[0;32mIn [71], line 2\u001b[0m\n\u001b[1;32m      1\u001b[0m \u001b[38;5;66;03m# Generate word cloud\u001b[39;00m\n\u001b[0;32m----> 2\u001b[0m \u001b[43mwc\u001b[49m\u001b[38;5;241m.\u001b[39mgenerate(text_str)\n",
      "\u001b[0;31mNameError\u001b[0m: name 'wc' is not defined"
     ]
    }
   ],
   "source": [
    "# Generate word cloud\n",
    "wc.generate(text_str)"
   ]
  },
  {
   "cell_type": "markdown",
   "id": "89ccd4df",
   "metadata": {},
   "source": [
    "Store to file\n",
    "wc.to_file('Trump.png')"
   ]
  },
  {
   "cell_type": "code",
   "execution_count": 72,
   "id": "d984bc00",
   "metadata": {
    "execution": {
     "iopub.execute_input": "2023-05-10T01:43:08.675630Z",
     "iopub.status.busy": "2023-05-10T01:43:08.675547Z",
     "iopub.status.idle": "2023-05-10T01:43:08.681815Z",
     "shell.execute_reply": "2023-05-10T01:43:08.681586Z"
    }
   },
   "outputs": [
    {
     "ename": "NameError",
     "evalue": "name 'plt' is not defined",
     "output_type": "error",
     "traceback": [
      "\u001b[0;31m---------------------------------------------------------------------------\u001b[0m",
      "\u001b[0;31mNameError\u001b[0m                                 Traceback (most recent call last)",
      "Cell \u001b[0;32mIn [72], line 2\u001b[0m\n\u001b[1;32m      1\u001b[0m \u001b[38;5;66;03m# Show the cloud\u001b[39;00m\n\u001b[0;32m----> 2\u001b[0m \u001b[43mplt\u001b[49m\u001b[38;5;241m.\u001b[39mimshow(wc)\n\u001b[1;32m      3\u001b[0m plt\u001b[38;5;241m.\u001b[39maxis(\u001b[38;5;124m'\u001b[39m\u001b[38;5;124moff\u001b[39m\u001b[38;5;124m'\u001b[39m)\n\u001b[1;32m      4\u001b[0m plt\u001b[38;5;241m.\u001b[39mshow()\n",
      "\u001b[0;31mNameError\u001b[0m: name 'plt' is not defined"
     ]
    }
   ],
   "source": [
    "# Show the cloud\n",
    "plt.imshow(wc)\n",
    "plt.axis('off')\n",
    "plt.show()"
   ]
  },
  {
   "cell_type": "markdown",
   "id": "d0306f76",
   "metadata": {},
   "source": [
    "This script reads a text file, clean it in part and generates a word cloud using the words in the text"
   ]
  },
  {
   "cell_type": "code",
   "execution_count": 73,
   "id": "71b5e879",
   "metadata": {
    "execution": {
     "iopub.execute_input": "2023-05-10T01:43:08.683217Z",
     "iopub.status.busy": "2023-05-10T01:43:08.683137Z",
     "iopub.status.idle": "2023-05-10T01:43:08.689561Z",
     "shell.execute_reply": "2023-05-10T01:43:08.689299Z"
    }
   },
   "outputs": [
    {
     "ename": "ModuleNotFoundError",
     "evalue": "No module named 'wordcloud'",
     "output_type": "error",
     "traceback": [
      "\u001b[0;31m---------------------------------------------------------------------------\u001b[0m",
      "\u001b[0;31mModuleNotFoundError\u001b[0m                       Traceback (most recent call last)",
      "Cell \u001b[0;32mIn [73], line 2\u001b[0m\n\u001b[1;32m      1\u001b[0m \u001b[38;5;66;03m# Importing the required libraries\u001b[39;00m\n\u001b[0;32m----> 2\u001b[0m \u001b[38;5;28;01mfrom\u001b[39;00m \u001b[38;5;21;01mwordcloud\u001b[39;00m \u001b[38;5;28;01mimport\u001b[39;00m WordCloud, STOPWORDS\n\u001b[1;32m      3\u001b[0m \u001b[38;5;28;01mimport\u001b[39;00m \u001b[38;5;21;01mmatplotlib\u001b[39;00m\u001b[38;5;21;01m.\u001b[39;00m\u001b[38;5;21;01mpyplot\u001b[39;00m \u001b[38;5;28;01mas\u001b[39;00m \u001b[38;5;21;01mplt\u001b[39;00m\n",
      "\u001b[0;31mModuleNotFoundError\u001b[0m: No module named 'wordcloud'"
     ]
    }
   ],
   "source": [
    "# Importing the required libraries\n",
    "from wordcloud import WordCloud, STOPWORDS\n",
    "import matplotlib.pyplot as plt"
   ]
  },
  {
   "cell_type": "markdown",
   "id": "b0247538",
   "metadata": {},
   "source": [
    "Read the whole text\n",
    "file_read = open('ai_trends.txt' 'rU')\n",
    "text_raw = file_read.read()"
   ]
  },
  {
   "cell_type": "code",
   "execution_count": 74,
   "id": "196bcd45",
   "metadata": {
    "execution": {
     "iopub.execute_input": "2023-05-10T01:43:08.690967Z",
     "iopub.status.busy": "2023-05-10T01:43:08.690890Z",
     "iopub.status.idle": "2023-05-10T01:43:08.693059Z",
     "shell.execute_reply": "2023-05-10T01:43:08.692839Z"
    }
   },
   "outputs": [
    {
     "data": {
      "text/plain": [
       "'Increase security Drones are going to change the way we live I think of drones now as the equivalent of what phones were in the 90s Drones open up the ability to transport things through the air over short distances and in complex spaces which is just not something we have another solution for today Whether thats package delivery or emergency response or delivering medical products urgently all of those things become possible immediately One of the amazing things about drones is that they fly The idea that you can have something routinely inspect places that are hard to look at will make our world dramatically safer It will be another way in which drones will help us realize this future vision a lot of us have of whats going to happen this network of autonomous drones flying around taking care of things and interacting with us It will bring an immediacy to what theyre doing in the same way a smartphone in your hand made that change so readily apparent Generate new services and potentially social issues Artificial intelligence really means the extension of our ability to solve problems and to generate new ideas Its quite possible that 10 years will get us to an inflection point after which we will see advancement at an unprecedented rate AI and and robotics will have been assimilated into business operations and will be having a major impact on efficiency in organizations Entirely new AI-based products and services will have created new consumer and industrial markets At the same time AI will bring along new challenges perhaps most importantly increasing inequality and possibly unemployment as routine predictable types of work are automated There will also be critical challenges in areas like privacy security algorithmic bias and military applications of AI Ten years from now a vibrant debate about these issues will have likely come to the forefront of our political and social discourse Finding a way to address these issues on behalf of humanity will soon be one of the defining challenges for the coming decades Empower businesses The consumer-facing applications of AI and ML feel stuck to me relegated to doing what humans can already do or more critically only what we trust them to do Over the next ten years I think well start seeing trust barriers decrease and as a result dependence on AI powered algorithms and machines will increase We started learning this lesson years ago building our consumer applications If youre going on a trip to Paris for example youd trust almost anything your friend recommends even if theyd only been to Paris once for a short trip just because they said so In the same situation we use sophisticated ML techniques to deliver extremely personalized recommendations but algorithms dont get the benefit of trust like a friend In order to gain user trust we had to try and explain the what the AI thought which defeats the power of it Today these ideas are starting to grow in acceptance and expectation as brands such as Foursquare continue to use ML to build location-aware technology that push the boundaries of mobile capabilitiesand gives developers analysts marketers and beyond a unique way of understanding and interacting with their users The industry excitement around this technology and the rich experiences built on top of it I hope and believe represent the tides of change Improve healthcare When it comes to healthcare theres a lot machines can do to help the doctor I dont see a future where we actually dont have doctors guiding but a lot of the busy work doctors have to do is better done using artificial intelligence If you think about a doctors career thirty or forty years the number of patients you can see during that time period is very limited Many doctors are burnt out overworked its a serious issue They also dont have time to keep themselves up to date on the most recent research treatment techniques and advancements in medication Machines can play a very important role here Artificial intelligence can access a much larger set of patient data of how they were treated and what the outcomes were You can imagine machines being in a much better position because machines can start doing the busy work around the diagnosis and humans can actually interact with the patient and work with artificial intelligence to improve outcomes That in my mind is super exciting Facilitate sustainability Artificial intelligence is going to impact every single industry and everything that we do On a bigger level areas like sustainability climate change environmental issues they are becoming more at the forefront of everybodys minds as we move more into the 21st century and think about the huge challenges we need to tackle like population increases urbanization and energy Theres so many different areas within urbanization that touch on city planning We can do that much more efficiently once we can track the movements of residents within cities and once we can map which areas we can use to improve the density of cities In the AI floodgates conversation Ive seen in the past six months or so a lot more companies wanting to focus on AI instead of just thinking about the quick goals of making workloads and businesses more efficient If we look at the bigger picture of AI for good then it connects us with more purpose and meaning Blend the lines of digital and physical Personally Im most interested in furthering spatial computing When you live in a world where your computer is not just bound to a specific device but can be anywhere you want to put it it means computers will have to react to humans much more intelligently than they do now Right now if you do something wrong today your computer throws up an error you close it and thats it But imagine if for example you had a full-scale game that was in your apartment and something went wrong Where does the dialog box go then Should there be one at all There are a lot of open questions around how humans will want to interact with their computers For example Foursquare did a really great job with having with having location-based notifications designed to give you the right information at the right time There are many many applications that should be making use of that kind of awareness today And in the future having these really intelligent ways of surfacing information are going to move from nice-to-haves to essentials And I for one will be looking forward to that because I want computers to be smarter already Make us smarter Computational power is going to continue to increase giving us more power to train our models The amount of data being created is going to continue to grow exponentially as well allowing us to monitor more elements in our platforms and our world Combine the two together with AI and it gives us the ability to be able to make more intelligent projections on future behavior and events as you can train more intelligent models and knowledge systems However in the financial services industry regulatory pressures could actually curb the power of AI to some degree by siloing off information used to train models thus cutting off one source of fuel AI needs to thrive slowing its ability to make an impact I believe peoples worries about AI becoming all powerful are unfounded Ultimately training an AI platform it is very much like molding a child If you treat it the right way and teach it the right things train it to know whats right and wrong it will inherently grow up to become a productive member of society that cares about people and the future Just like any one of us Inspire artists In ten years there will be some sort of algorithm involved in most decisions made big or small Artists like myself can get involved in artificial intelligence While such a mission may sound daunting its really about starting to use it exploring the capabilities of algorithms as well as what they can express through AI systems I encourage artists to try to use AI to create something beautiful and expressive the way they would with any other medium However I never want to see the technology become the artist We must think about AI as a tool for the augmentation of human thought and creation and make every effort not to turn the reigns of creativity or ethics over to the machines When deploying AI individuals businesses governments etc must consider how to maintain a sense of civility creativity and equity in the AI system being released into the world For industries the driving question is how can AI be used to increase productivity while respecting human diversity dignity and our cultural specificities'"
      ]
     },
     "execution_count": 74,
     "metadata": {},
     "output_type": "execute_result"
    }
   ],
   "source": [
    "# Replace end of line character with space\n",
    "text_raw.replace('\\n', ' ')"
   ]
  },
  {
   "cell_type": "code",
   "execution_count": 75,
   "id": "a0b129d4",
   "metadata": {
    "execution": {
     "iopub.execute_input": "2023-05-10T01:43:08.694397Z",
     "iopub.status.busy": "2023-05-10T01:43:08.694325Z",
     "iopub.status.idle": "2023-05-10T01:43:08.697180Z",
     "shell.execute_reply": "2023-05-10T01:43:08.696952Z"
    }
   },
   "outputs": [],
   "source": [
    "# Save a lower-case version of each word to a list\n",
    "words_list = ['Inspire', 'artists', 'In', 'years', 'sort', 'algorithm', 'involved', 'decisions', 'big', 'small', 'Artists', 'like', 'involved', 'artificial', 'intelligence', 'While', 'mission', 'sound', 'daunting', 'really', 'starting', 'use', 'exploring', 'capabilities', 'algorithms', 'express', 'AI', 'systems', 'I', 'encourage', 'artists', 'try', 'use', 'AI', 'create', 'beautiful', 'expressive', 'way', 'medium', 'However', 'I', 'want', 'technology', 'artist', 'We', 'think', 'AI', 'tool', 'augmentation', 'human', 'thought', 'creation', 'make', 'effort', 'turn', 'reigns', 'creativity', 'ethics', 'machines', 'When', 'deploying', 'AI', 'individuals', 'businesses', 'governments', 'consider', 'maintain', 'sense', 'civility', 'creativity', 'equity', 'AI', 'released', 'world', 'For', 'industries', 'driving', 'question', 'AI', 'used', 'increase', 'productivity', 'respecting', 'human', 'diversity', 'dignity', 'cultural', 'specificities']\n",
    "for word in text_raw.strip().split(): \n",
    "    words_list.append(word.lower())"
   ]
  },
  {
   "cell_type": "code",
   "execution_count": 76,
   "id": "d218ef16",
   "metadata": {
    "execution": {
     "iopub.execute_input": "2023-05-10T01:43:08.698515Z",
     "iopub.status.busy": "2023-05-10T01:43:08.698429Z",
     "iopub.status.idle": "2023-05-10T01:43:08.700293Z",
     "shell.execute_reply": "2023-05-10T01:43:08.700071Z"
    }
   },
   "outputs": [],
   "source": [
    "# Eliminate non alpha elements\n",
    "text_list = [word.lower() for word in words_list if word.isalpha()]"
   ]
  },
  {
   "cell_type": "code",
   "execution_count": 77,
   "id": "56b57fe7",
   "metadata": {
    "execution": {
     "iopub.execute_input": "2023-05-10T01:43:08.701823Z",
     "iopub.status.busy": "2023-05-10T01:43:08.701737Z",
     "iopub.status.idle": "2023-05-10T01:43:08.703480Z",
     "shell.execute_reply": "2023-05-10T01:43:08.703243Z"
    }
   },
   "outputs": [],
   "source": [
    "# Transforming the list into a string for displaying\n",
    "text_str = ' '.join(text_list)"
   ]
  },
  {
   "cell_type": "code",
   "execution_count": 78,
   "id": "06953a22",
   "metadata": {
    "execution": {
     "iopub.execute_input": "2023-05-10T01:43:08.704846Z",
     "iopub.status.busy": "2023-05-10T01:43:08.704759Z",
     "iopub.status.idle": "2023-05-10T01:43:08.711885Z",
     "shell.execute_reply": "2023-05-10T01:43:08.711639Z"
    }
   },
   "outputs": [
    {
     "ename": "NameError",
     "evalue": "name 'STOPWORDS' is not defined",
     "output_type": "error",
     "traceback": [
      "\u001b[0;31m---------------------------------------------------------------------------\u001b[0m",
      "\u001b[0;31mNameError\u001b[0m                                 Traceback (most recent call last)",
      "Cell \u001b[0;32mIn [78], line 2\u001b[0m\n\u001b[1;32m      1\u001b[0m \u001b[38;5;66;03m# Crating and updating the stopword list\u001b[39;00m\n\u001b[0;32m----> 2\u001b[0m stpwords \u001b[38;5;241m=\u001b[39m \u001b[38;5;28mset\u001b[39m(\u001b[43mSTOPWORDS\u001b[49m)\n\u001b[1;32m      3\u001b[0m stpwords\u001b[38;5;241m.\u001b[39madd(\u001b[38;5;124m'\u001b[39m\u001b[38;5;124mwill\u001b[39m\u001b[38;5;124m'\u001b[39m)\n\u001b[1;32m      4\u001b[0m stpwords\u001b[38;5;241m.\u001b[39madd(\u001b[38;5;124m'\u001b[39m\u001b[38;5;124msaid\u001b[39m\u001b[38;5;124m'\u001b[39m)\n",
      "\u001b[0;31mNameError\u001b[0m: name 'STOPWORDS' is not defined"
     ]
    }
   ],
   "source": [
    "# Crating and updating the stopword list\n",
    "stpwords = set(STOPWORDS)\n",
    "stpwords.add('will')\n",
    "stpwords.add('said')"
   ]
  },
  {
   "cell_type": "code",
   "execution_count": 79,
   "id": "f2ff077e",
   "metadata": {
    "execution": {
     "iopub.execute_input": "2023-05-10T01:43:08.713311Z",
     "iopub.status.busy": "2023-05-10T01:43:08.713231Z",
     "iopub.status.idle": "2023-05-10T01:43:08.719707Z",
     "shell.execute_reply": "2023-05-10T01:43:08.719462Z"
    }
   },
   "outputs": [
    {
     "ename": "NameError",
     "evalue": "name 'WordCloud' is not defined",
     "output_type": "error",
     "traceback": [
      "\u001b[0;31m---------------------------------------------------------------------------\u001b[0m",
      "\u001b[0;31mNameError\u001b[0m                                 Traceback (most recent call last)",
      "Cell \u001b[0;32mIn [79], line 2\u001b[0m\n\u001b[1;32m      1\u001b[0m \u001b[38;5;66;03m# Defining the wordcloud parameters\u001b[39;00m\n\u001b[0;32m----> 2\u001b[0m wc \u001b[38;5;241m=\u001b[39m \u001b[43mWordCloud\u001b[49m(background_color\u001b[38;5;241m=\u001b[39m\u001b[38;5;124m\"\u001b[39m\u001b[38;5;124mwhite\u001b[39m\u001b[38;5;124m\"\u001b[39m, max_words\u001b[38;5;241m=\u001b[39m\u001b[38;5;241m2000\u001b[39m,stopwords\u001b[38;5;241m=\u001b[39mstpwords)\n",
      "\u001b[0;31mNameError\u001b[0m: name 'WordCloud' is not defined"
     ]
    }
   ],
   "source": [
    "# Defining the wordcloud parameters\n",
    "wc = WordCloud(background_color=\"white\", max_words=2000,stopwords=stpwords)"
   ]
  },
  {
   "cell_type": "code",
   "execution_count": 80,
   "id": "f266fb23",
   "metadata": {
    "execution": {
     "iopub.execute_input": "2023-05-10T01:43:08.721107Z",
     "iopub.status.busy": "2023-05-10T01:43:08.721013Z",
     "iopub.status.idle": "2023-05-10T01:43:08.727181Z",
     "shell.execute_reply": "2023-05-10T01:43:08.726941Z"
    }
   },
   "outputs": [
    {
     "ename": "NameError",
     "evalue": "name 'wc' is not defined",
     "output_type": "error",
     "traceback": [
      "\u001b[0;31m---------------------------------------------------------------------------\u001b[0m",
      "\u001b[0;31mNameError\u001b[0m                                 Traceback (most recent call last)",
      "Cell \u001b[0;32mIn [80], line 2\u001b[0m\n\u001b[1;32m      1\u001b[0m \u001b[38;5;66;03m# Generate word cloud\u001b[39;00m\n\u001b[0;32m----> 2\u001b[0m \u001b[43mwc\u001b[49m\u001b[38;5;241m.\u001b[39mgenerate(text_str)\n",
      "\u001b[0;31mNameError\u001b[0m: name 'wc' is not defined"
     ]
    }
   ],
   "source": [
    "# Generate word cloud\n",
    "wc.generate(text_str)"
   ]
  },
  {
   "cell_type": "markdown",
   "id": "550a201f",
   "metadata": {},
   "source": [
    "Store to file\n",
    "wc.to_file('Trump.png')"
   ]
  },
  {
   "cell_type": "code",
   "execution_count": 81,
   "id": "eaa22363",
   "metadata": {
    "execution": {
     "iopub.execute_input": "2023-05-10T01:43:08.728527Z",
     "iopub.status.busy": "2023-05-10T01:43:08.728445Z",
     "iopub.status.idle": "2023-05-10T01:43:08.734696Z",
     "shell.execute_reply": "2023-05-10T01:43:08.734419Z"
    }
   },
   "outputs": [
    {
     "ename": "NameError",
     "evalue": "name 'plt' is not defined",
     "output_type": "error",
     "traceback": [
      "\u001b[0;31m---------------------------------------------------------------------------\u001b[0m",
      "\u001b[0;31mNameError\u001b[0m                                 Traceback (most recent call last)",
      "Cell \u001b[0;32mIn [81], line 2\u001b[0m\n\u001b[1;32m      1\u001b[0m \u001b[38;5;66;03m# Show the cloud\u001b[39;00m\n\u001b[0;32m----> 2\u001b[0m \u001b[43mplt\u001b[49m\u001b[38;5;241m.\u001b[39mimshow(wc)\n\u001b[1;32m      3\u001b[0m plt\u001b[38;5;241m.\u001b[39maxis(\u001b[38;5;124m'\u001b[39m\u001b[38;5;124moff\u001b[39m\u001b[38;5;124m'\u001b[39m)\n\u001b[1;32m      4\u001b[0m plt\u001b[38;5;241m.\u001b[39mshow()\n",
      "\u001b[0;31mNameError\u001b[0m: name 'plt' is not defined"
     ]
    }
   ],
   "source": [
    "# Show the cloud\n",
    "plt.imshow(wc)\n",
    "plt.axis('off')\n",
    "plt.show()"
   ]
  },
  {
   "cell_type": "markdown",
   "id": "82338265",
   "metadata": {},
   "source": [
    "This script reads a text file, clean it in part and generates a word cloud using the words in the text"
   ]
  },
  {
   "cell_type": "code",
   "execution_count": 82,
   "id": "6b6a1100",
   "metadata": {
    "execution": {
     "iopub.execute_input": "2023-05-10T01:43:08.736174Z",
     "iopub.status.busy": "2023-05-10T01:43:08.736070Z",
     "iopub.status.idle": "2023-05-10T01:43:08.742302Z",
     "shell.execute_reply": "2023-05-10T01:43:08.742051Z"
    }
   },
   "outputs": [
    {
     "ename": "ModuleNotFoundError",
     "evalue": "No module named 'wordcloud'",
     "output_type": "error",
     "traceback": [
      "\u001b[0;31m---------------------------------------------------------------------------\u001b[0m",
      "\u001b[0;31mModuleNotFoundError\u001b[0m                       Traceback (most recent call last)",
      "Cell \u001b[0;32mIn [82], line 2\u001b[0m\n\u001b[1;32m      1\u001b[0m \u001b[38;5;66;03m# Importing the required libraries\u001b[39;00m\n\u001b[0;32m----> 2\u001b[0m \u001b[38;5;28;01mfrom\u001b[39;00m \u001b[38;5;21;01mwordcloud\u001b[39;00m \u001b[38;5;28;01mimport\u001b[39;00m WordCloud, STOPWORDS\n\u001b[1;32m      3\u001b[0m \u001b[38;5;28;01mimport\u001b[39;00m \u001b[38;5;21;01mmatplotlib\u001b[39;00m\u001b[38;5;21;01m.\u001b[39;00m\u001b[38;5;21;01mpyplot\u001b[39;00m \u001b[38;5;28;01mas\u001b[39;00m \u001b[38;5;21;01mplt\u001b[39;00m\n",
      "\u001b[0;31mModuleNotFoundError\u001b[0m: No module named 'wordcloud'"
     ]
    }
   ],
   "source": [
    "# Importing the required libraries\n",
    "from wordcloud import WordCloud, STOPWORDS\n",
    "import matplotlib.pyplot as plt"
   ]
  },
  {
   "cell_type": "markdown",
   "id": "51104429",
   "metadata": {},
   "source": [
    "Read the whole text\n",
    "file_read = open('ai_trends.txt' 'rU')\n",
    "text_raw = file_read.read()"
   ]
  },
  {
   "cell_type": "code",
   "execution_count": 83,
   "id": "6dbb3874",
   "metadata": {
    "execution": {
     "iopub.execute_input": "2023-05-10T01:43:08.743691Z",
     "iopub.status.busy": "2023-05-10T01:43:08.743611Z",
     "iopub.status.idle": "2023-05-10T01:43:08.745783Z",
     "shell.execute_reply": "2023-05-10T01:43:08.745552Z"
    }
   },
   "outputs": [
    {
     "data": {
      "text/plain": [
       "'Increase security Drones are going to change the way we live I think of drones now as the equivalent of what phones were in the 90s Drones open up the ability to transport things through the air over short distances and in complex spaces which is just not something we have another solution for today Whether thats package delivery or emergency response or delivering medical products urgently all of those things become possible immediately One of the amazing things about drones is that they fly The idea that you can have something routinely inspect places that are hard to look at will make our world dramatically safer It will be another way in which drones will help us realize this future vision a lot of us have of whats going to happen this network of autonomous drones flying around taking care of things and interacting with us It will bring an immediacy to what theyre doing in the same way a smartphone in your hand made that change so readily apparent Generate new services and potentially social issues Artificial intelligence really means the extension of our ability to solve problems and to generate new ideas Its quite possible that 10 years will get us to an inflection point after which we will see advancement at an unprecedented rate AI and and robotics will have been assimilated into business operations and will be having a major impact on efficiency in organizations Entirely new AI-based products and services will have created new consumer and industrial markets At the same time AI will bring along new challenges perhaps most importantly increasing inequality and possibly unemployment as routine predictable types of work are automated There will also be critical challenges in areas like privacy security algorithmic bias and military applications of AI Ten years from now a vibrant debate about these issues will have likely come to the forefront of our political and social discourse Finding a way to address these issues on behalf of humanity will soon be one of the defining challenges for the coming decades Empower businesses The consumer-facing applications of AI and ML feel stuck to me relegated to doing what humans can already do or more critically only what we trust them to do Over the next ten years I think well start seeing trust barriers decrease and as a result dependence on AI powered algorithms and machines will increase We started learning this lesson years ago building our consumer applications If youre going on a trip to Paris for example youd trust almost anything your friend recommends even if theyd only been to Paris once for a short trip just because they said so In the same situation we use sophisticated ML techniques to deliver extremely personalized recommendations but algorithms dont get the benefit of trust like a friend In order to gain user trust we had to try and explain the what the AI thought which defeats the power of it Today these ideas are starting to grow in acceptance and expectation as brands such as Foursquare continue to use ML to build location-aware technology that push the boundaries of mobile capabilitiesand gives developers analysts marketers and beyond a unique way of understanding and interacting with their users The industry excitement around this technology and the rich experiences built on top of it I hope and believe represent the tides of change Improve healthcare When it comes to healthcare theres a lot machines can do to help the doctor I dont see a future where we actually dont have doctors guiding but a lot of the busy work doctors have to do is better done using artificial intelligence If you think about a doctors career thirty or forty years the number of patients you can see during that time period is very limited Many doctors are burnt out overworked its a serious issue They also dont have time to keep themselves up to date on the most recent research treatment techniques and advancements in medication Machines can play a very important role here Artificial intelligence can access a much larger set of patient data of how they were treated and what the outcomes were You can imagine machines being in a much better position because machines can start doing the busy work around the diagnosis and humans can actually interact with the patient and work with artificial intelligence to improve outcomes That in my mind is super exciting Facilitate sustainability Artificial intelligence is going to impact every single industry and everything that we do On a bigger level areas like sustainability climate change environmental issues they are becoming more at the forefront of everybodys minds as we move more into the 21st century and think about the huge challenges we need to tackle like population increases urbanization and energy Theres so many different areas within urbanization that touch on city planning We can do that much more efficiently once we can track the movements of residents within cities and once we can map which areas we can use to improve the density of cities In the AI floodgates conversation Ive seen in the past six months or so a lot more companies wanting to focus on AI instead of just thinking about the quick goals of making workloads and businesses more efficient If we look at the bigger picture of AI for good then it connects us with more purpose and meaning Blend the lines of digital and physical Personally Im most interested in furthering spatial computing When you live in a world where your computer is not just bound to a specific device but can be anywhere you want to put it it means computers will have to react to humans much more intelligently than they do now Right now if you do something wrong today your computer throws up an error you close it and thats it But imagine if for example you had a full-scale game that was in your apartment and something went wrong Where does the dialog box go then Should there be one at all There are a lot of open questions around how humans will want to interact with their computers For example Foursquare did a really great job with having with having location-based notifications designed to give you the right information at the right time There are many many applications that should be making use of that kind of awareness today And in the future having these really intelligent ways of surfacing information are going to move from nice-to-haves to essentials And I for one will be looking forward to that because I want computers to be smarter already Make us smarter Computational power is going to continue to increase giving us more power to train our models The amount of data being created is going to continue to grow exponentially as well allowing us to monitor more elements in our platforms and our world Combine the two together with AI and it gives us the ability to be able to make more intelligent projections on future behavior and events as you can train more intelligent models and knowledge systems However in the financial services industry regulatory pressures could actually curb the power of AI to some degree by siloing off information used to train models thus cutting off one source of fuel AI needs to thrive slowing its ability to make an impact I believe peoples worries about AI becoming all powerful are unfounded Ultimately training an AI platform it is very much like molding a child If you treat it the right way and teach it the right things train it to know whats right and wrong it will inherently grow up to become a productive member of society that cares about people and the future Just like any one of us Inspire artists In ten years there will be some sort of algorithm involved in most decisions made big or small Artists like myself can get involved in artificial intelligence While such a mission may sound daunting its really about starting to use it exploring the capabilities of algorithms as well as what they can express through AI systems I encourage artists to try to use AI to create something beautiful and expressive the way they would with any other medium However I never want to see the technology become the artist We must think about AI as a tool for the augmentation of human thought and creation and make every effort not to turn the reigns of creativity or ethics over to the machines When deploying AI individuals businesses governments etc must consider how to maintain a sense of civility creativity and equity in the AI system being released into the world For industries the driving question is how can AI be used to increase productivity while respecting human diversity dignity and our cultural specificities'"
      ]
     },
     "execution_count": 83,
     "metadata": {},
     "output_type": "execute_result"
    }
   ],
   "source": [
    "# Replace end of line character with space\n",
    "text_raw.replace('\\n', ' ')"
   ]
  },
  {
   "cell_type": "code",
   "execution_count": 84,
   "id": "3c7eb61a",
   "metadata": {
    "execution": {
     "iopub.execute_input": "2023-05-10T01:43:08.747166Z",
     "iopub.status.busy": "2023-05-10T01:43:08.747081Z",
     "iopub.status.idle": "2023-05-10T01:43:08.750256Z",
     "shell.execute_reply": "2023-05-10T01:43:08.749978Z"
    }
   },
   "outputs": [],
   "source": [
    "# Save a lower-case version of each word to a list\n",
    "words_list = ['Inspire', 'artists', 'In', 'years', 'sort', 'algorithm', 'involved', 'decisions', 'big', 'small', 'Artists', 'like', 'involved', 'artificial', 'intelligence', 'While', 'mission', 'sound', 'daunting', 'really', 'starting', 'use', 'exploring', 'capabilities', 'algorithms', 'express', 'AI', 'systems', 'I', 'encourage', 'artists', 'try', 'use', 'AI', 'create', 'beautiful', 'expressive', 'way', 'medium', 'However', 'I', 'want', 'technology', 'artist', 'We', 'think', 'AI', 'tool', 'augmentation', 'human', 'thought', 'creation', 'make', 'effort', 'turn', 'reigns', 'creativity', 'ethics', 'machines', 'When', 'deploying', 'AI', 'individuals', 'businesses', 'governments', 'consider', 'maintain', 'sense', 'civility', 'creativity', 'equity', 'AI', 'released', 'world', 'For', 'industries', 'driving', 'question', 'AI', 'used', 'increase', 'productivity', 'respecting', 'human', 'diversity', 'dignity', 'cultural', 'specificities']\n",
    "for word in text_raw.strip().split(): \n",
    "    words_list.append(word.lower())"
   ]
  },
  {
   "cell_type": "code",
   "execution_count": 85,
   "id": "9b59e725",
   "metadata": {
    "execution": {
     "iopub.execute_input": "2023-05-10T01:43:08.751812Z",
     "iopub.status.busy": "2023-05-10T01:43:08.751723Z",
     "iopub.status.idle": "2023-05-10T01:43:08.753577Z",
     "shell.execute_reply": "2023-05-10T01:43:08.753352Z"
    }
   },
   "outputs": [],
   "source": [
    "# Eliminate non alpha elements\n",
    "text_list = [word.lower() for word in words_list if word.isalpha()]"
   ]
  },
  {
   "cell_type": "code",
   "execution_count": 86,
   "id": "a022102c",
   "metadata": {
    "execution": {
     "iopub.execute_input": "2023-05-10T01:43:08.754914Z",
     "iopub.status.busy": "2023-05-10T01:43:08.754838Z",
     "iopub.status.idle": "2023-05-10T01:43:08.756443Z",
     "shell.execute_reply": "2023-05-10T01:43:08.756211Z"
    }
   },
   "outputs": [],
   "source": [
    "# Transforming the list into a string for displaying\n",
    "text_str = ' '.join(text_list)"
   ]
  },
  {
   "cell_type": "code",
   "execution_count": 87,
   "id": "032eda35",
   "metadata": {
    "execution": {
     "iopub.execute_input": "2023-05-10T01:43:08.757756Z",
     "iopub.status.busy": "2023-05-10T01:43:08.757679Z",
     "iopub.status.idle": "2023-05-10T01:43:08.764020Z",
     "shell.execute_reply": "2023-05-10T01:43:08.763782Z"
    }
   },
   "outputs": [
    {
     "ename": "NameError",
     "evalue": "name 'STOPWORDS' is not defined",
     "output_type": "error",
     "traceback": [
      "\u001b[0;31m---------------------------------------------------------------------------\u001b[0m",
      "\u001b[0;31mNameError\u001b[0m                                 Traceback (most recent call last)",
      "Cell \u001b[0;32mIn [87], line 2\u001b[0m\n\u001b[1;32m      1\u001b[0m \u001b[38;5;66;03m# Crating and updating the stopword list\u001b[39;00m\n\u001b[0;32m----> 2\u001b[0m stpwords \u001b[38;5;241m=\u001b[39m \u001b[38;5;28mset\u001b[39m(\u001b[43mSTOPWORDS\u001b[49m)\n\u001b[1;32m      3\u001b[0m stpwords\u001b[38;5;241m.\u001b[39madd(\u001b[38;5;124m'\u001b[39m\u001b[38;5;124mwill\u001b[39m\u001b[38;5;124m'\u001b[39m)\n\u001b[1;32m      4\u001b[0m stpwords\u001b[38;5;241m.\u001b[39madd(\u001b[38;5;124m'\u001b[39m\u001b[38;5;124msaid\u001b[39m\u001b[38;5;124m'\u001b[39m)\n",
      "\u001b[0;31mNameError\u001b[0m: name 'STOPWORDS' is not defined"
     ]
    }
   ],
   "source": [
    "# Crating and updating the stopword list\n",
    "stpwords = set(STOPWORDS)\n",
    "stpwords.add('will')\n",
    "stpwords.add('said')"
   ]
  },
  {
   "cell_type": "code",
   "execution_count": 88,
   "id": "7d3036ee",
   "metadata": {
    "execution": {
     "iopub.execute_input": "2023-05-10T01:43:08.765372Z",
     "iopub.status.busy": "2023-05-10T01:43:08.765297Z",
     "iopub.status.idle": "2023-05-10T01:43:08.771977Z",
     "shell.execute_reply": "2023-05-10T01:43:08.771719Z"
    }
   },
   "outputs": [
    {
     "ename": "NameError",
     "evalue": "name 'WordCloud' is not defined",
     "output_type": "error",
     "traceback": [
      "\u001b[0;31m---------------------------------------------------------------------------\u001b[0m",
      "\u001b[0;31mNameError\u001b[0m                                 Traceback (most recent call last)",
      "Cell \u001b[0;32mIn [88], line 2\u001b[0m\n\u001b[1;32m      1\u001b[0m \u001b[38;5;66;03m# Defining the wordcloud parameters\u001b[39;00m\n\u001b[0;32m----> 2\u001b[0m wc \u001b[38;5;241m=\u001b[39m \u001b[43mWordCloud\u001b[49m(background_color\u001b[38;5;241m=\u001b[39m\u001b[38;5;124m\"\u001b[39m\u001b[38;5;124mwhite\u001b[39m\u001b[38;5;124m\"\u001b[39m, max_words\u001b[38;5;241m=\u001b[39m\u001b[38;5;241m2000\u001b[39m,stopwords\u001b[38;5;241m=\u001b[39mstpwords)\n",
      "\u001b[0;31mNameError\u001b[0m: name 'WordCloud' is not defined"
     ]
    }
   ],
   "source": [
    "# Defining the wordcloud parameters\n",
    "wc = WordCloud(background_color=\"white\", max_words=2000,stopwords=stpwords)"
   ]
  },
  {
   "cell_type": "code",
   "execution_count": 89,
   "id": "913dd588",
   "metadata": {
    "execution": {
     "iopub.execute_input": "2023-05-10T01:43:08.773370Z",
     "iopub.status.busy": "2023-05-10T01:43:08.773276Z",
     "iopub.status.idle": "2023-05-10T01:43:08.779287Z",
     "shell.execute_reply": "2023-05-10T01:43:08.779036Z"
    }
   },
   "outputs": [
    {
     "ename": "NameError",
     "evalue": "name 'wc' is not defined",
     "output_type": "error",
     "traceback": [
      "\u001b[0;31m---------------------------------------------------------------------------\u001b[0m",
      "\u001b[0;31mNameError\u001b[0m                                 Traceback (most recent call last)",
      "Cell \u001b[0;32mIn [89], line 2\u001b[0m\n\u001b[1;32m      1\u001b[0m \u001b[38;5;66;03m# Generate word cloud\u001b[39;00m\n\u001b[0;32m----> 2\u001b[0m \u001b[43mwc\u001b[49m\u001b[38;5;241m.\u001b[39mgenerate(text_str)\n",
      "\u001b[0;31mNameError\u001b[0m: name 'wc' is not defined"
     ]
    }
   ],
   "source": [
    "# Generate word cloud\n",
    "wc.generate(text_str)"
   ]
  },
  {
   "cell_type": "markdown",
   "id": "75c37781",
   "metadata": {},
   "source": [
    "Store to file\n",
    "wc.to_file('Trump.png')"
   ]
  },
  {
   "cell_type": "code",
   "execution_count": 90,
   "id": "682eb97d",
   "metadata": {
    "execution": {
     "iopub.execute_input": "2023-05-10T01:43:08.780688Z",
     "iopub.status.busy": "2023-05-10T01:43:08.780612Z",
     "iopub.status.idle": "2023-05-10T01:43:08.787747Z",
     "shell.execute_reply": "2023-05-10T01:43:08.787506Z"
    }
   },
   "outputs": [
    {
     "ename": "NameError",
     "evalue": "name 'plt' is not defined",
     "output_type": "error",
     "traceback": [
      "\u001b[0;31m---------------------------------------------------------------------------\u001b[0m",
      "\u001b[0;31mNameError\u001b[0m                                 Traceback (most recent call last)",
      "Cell \u001b[0;32mIn [90], line 2\u001b[0m\n\u001b[1;32m      1\u001b[0m \u001b[38;5;66;03m# Show the cloud\u001b[39;00m\n\u001b[0;32m----> 2\u001b[0m \u001b[43mplt\u001b[49m\u001b[38;5;241m.\u001b[39mimshow(wc)\n\u001b[1;32m      3\u001b[0m plt\u001b[38;5;241m.\u001b[39maxis(\u001b[38;5;124m'\u001b[39m\u001b[38;5;124moff\u001b[39m\u001b[38;5;124m'\u001b[39m)\n\u001b[1;32m      4\u001b[0m plt\u001b[38;5;241m.\u001b[39mshow()\n",
      "\u001b[0;31mNameError\u001b[0m: name 'plt' is not defined"
     ]
    }
   ],
   "source": [
    "# Show the cloud\n",
    "plt.imshow(wc)\n",
    "plt.axis('off')\n",
    "plt.show()"
   ]
  },
  {
   "cell_type": "markdown",
   "id": "9f4ed9cd",
   "metadata": {},
   "source": [
    "This script reads a text file, clean it in part and generates a word cloud using the words in the text"
   ]
  },
  {
   "cell_type": "code",
   "execution_count": 91,
   "id": "4849cd72",
   "metadata": {
    "execution": {
     "iopub.execute_input": "2023-05-10T01:43:08.789222Z",
     "iopub.status.busy": "2023-05-10T01:43:08.789124Z",
     "iopub.status.idle": "2023-05-10T01:43:08.795399Z",
     "shell.execute_reply": "2023-05-10T01:43:08.795149Z"
    }
   },
   "outputs": [
    {
     "ename": "ModuleNotFoundError",
     "evalue": "No module named 'wordcloud'",
     "output_type": "error",
     "traceback": [
      "\u001b[0;31m---------------------------------------------------------------------------\u001b[0m",
      "\u001b[0;31mModuleNotFoundError\u001b[0m                       Traceback (most recent call last)",
      "Cell \u001b[0;32mIn [91], line 2\u001b[0m\n\u001b[1;32m      1\u001b[0m \u001b[38;5;66;03m# Importing the required libraries\u001b[39;00m\n\u001b[0;32m----> 2\u001b[0m \u001b[38;5;28;01mfrom\u001b[39;00m \u001b[38;5;21;01mwordcloud\u001b[39;00m \u001b[38;5;28;01mimport\u001b[39;00m WordCloud, STOPWORDS\n\u001b[1;32m      3\u001b[0m \u001b[38;5;28;01mimport\u001b[39;00m \u001b[38;5;21;01mmatplotlib\u001b[39;00m\u001b[38;5;21;01m.\u001b[39;00m\u001b[38;5;21;01mpyplot\u001b[39;00m \u001b[38;5;28;01mas\u001b[39;00m \u001b[38;5;21;01mplt\u001b[39;00m\n",
      "\u001b[0;31mModuleNotFoundError\u001b[0m: No module named 'wordcloud'"
     ]
    }
   ],
   "source": [
    "# Importing the required libraries\n",
    "from wordcloud import WordCloud, STOPWORDS\n",
    "import matplotlib.pyplot as plt"
   ]
  },
  {
   "cell_type": "markdown",
   "id": "52779af0",
   "metadata": {},
   "source": [
    "Read the whole text\n",
    "file_read = open('ai_trends.txt' 'rU')\n",
    "text_raw = file_read.read()"
   ]
  },
  {
   "cell_type": "code",
   "execution_count": 92,
   "id": "1ee91154",
   "metadata": {
    "execution": {
     "iopub.execute_input": "2023-05-10T01:43:08.796770Z",
     "iopub.status.busy": "2023-05-10T01:43:08.796692Z",
     "iopub.status.idle": "2023-05-10T01:43:08.798879Z",
     "shell.execute_reply": "2023-05-10T01:43:08.798642Z"
    }
   },
   "outputs": [
    {
     "data": {
      "text/plain": [
       "'Increase security Drones are going to change the way we live I think of drones now as the equivalent of what phones were in the 90s Drones open up the ability to transport things through the air over short distances and in complex spaces which is just not something we have another solution for today Whether thats package delivery or emergency response or delivering medical products urgently all of those things become possible immediately One of the amazing things about drones is that they fly The idea that you can have something routinely inspect places that are hard to look at will make our world dramatically safer It will be another way in which drones will help us realize this future vision a lot of us have of whats going to happen this network of autonomous drones flying around taking care of things and interacting with us It will bring an immediacy to what theyre doing in the same way a smartphone in your hand made that change so readily apparent Generate new services and potentially social issues Artificial intelligence really means the extension of our ability to solve problems and to generate new ideas Its quite possible that 10 years will get us to an inflection point after which we will see advancement at an unprecedented rate AI and and robotics will have been assimilated into business operations and will be having a major impact on efficiency in organizations Entirely new AI-based products and services will have created new consumer and industrial markets At the same time AI will bring along new challenges perhaps most importantly increasing inequality and possibly unemployment as routine predictable types of work are automated There will also be critical challenges in areas like privacy security algorithmic bias and military applications of AI Ten years from now a vibrant debate about these issues will have likely come to the forefront of our political and social discourse Finding a way to address these issues on behalf of humanity will soon be one of the defining challenges for the coming decades Empower businesses The consumer-facing applications of AI and ML feel stuck to me relegated to doing what humans can already do or more critically only what we trust them to do Over the next ten years I think well start seeing trust barriers decrease and as a result dependence on AI powered algorithms and machines will increase We started learning this lesson years ago building our consumer applications If youre going on a trip to Paris for example youd trust almost anything your friend recommends even if theyd only been to Paris once for a short trip just because they said so In the same situation we use sophisticated ML techniques to deliver extremely personalized recommendations but algorithms dont get the benefit of trust like a friend In order to gain user trust we had to try and explain the what the AI thought which defeats the power of it Today these ideas are starting to grow in acceptance and expectation as brands such as Foursquare continue to use ML to build location-aware technology that push the boundaries of mobile capabilitiesand gives developers analysts marketers and beyond a unique way of understanding and interacting with their users The industry excitement around this technology and the rich experiences built on top of it I hope and believe represent the tides of change Improve healthcare When it comes to healthcare theres a lot machines can do to help the doctor I dont see a future where we actually dont have doctors guiding but a lot of the busy work doctors have to do is better done using artificial intelligence If you think about a doctors career thirty or forty years the number of patients you can see during that time period is very limited Many doctors are burnt out overworked its a serious issue They also dont have time to keep themselves up to date on the most recent research treatment techniques and advancements in medication Machines can play a very important role here Artificial intelligence can access a much larger set of patient data of how they were treated and what the outcomes were You can imagine machines being in a much better position because machines can start doing the busy work around the diagnosis and humans can actually interact with the patient and work with artificial intelligence to improve outcomes That in my mind is super exciting Facilitate sustainability Artificial intelligence is going to impact every single industry and everything that we do On a bigger level areas like sustainability climate change environmental issues they are becoming more at the forefront of everybodys minds as we move more into the 21st century and think about the huge challenges we need to tackle like population increases urbanization and energy Theres so many different areas within urbanization that touch on city planning We can do that much more efficiently once we can track the movements of residents within cities and once we can map which areas we can use to improve the density of cities In the AI floodgates conversation Ive seen in the past six months or so a lot more companies wanting to focus on AI instead of just thinking about the quick goals of making workloads and businesses more efficient If we look at the bigger picture of AI for good then it connects us with more purpose and meaning Blend the lines of digital and physical Personally Im most interested in furthering spatial computing When you live in a world where your computer is not just bound to a specific device but can be anywhere you want to put it it means computers will have to react to humans much more intelligently than they do now Right now if you do something wrong today your computer throws up an error you close it and thats it But imagine if for example you had a full-scale game that was in your apartment and something went wrong Where does the dialog box go then Should there be one at all There are a lot of open questions around how humans will want to interact with their computers For example Foursquare did a really great job with having with having location-based notifications designed to give you the right information at the right time There are many many applications that should be making use of that kind of awareness today And in the future having these really intelligent ways of surfacing information are going to move from nice-to-haves to essentials And I for one will be looking forward to that because I want computers to be smarter already Make us smarter Computational power is going to continue to increase giving us more power to train our models The amount of data being created is going to continue to grow exponentially as well allowing us to monitor more elements in our platforms and our world Combine the two together with AI and it gives us the ability to be able to make more intelligent projections on future behavior and events as you can train more intelligent models and knowledge systems However in the financial services industry regulatory pressures could actually curb the power of AI to some degree by siloing off information used to train models thus cutting off one source of fuel AI needs to thrive slowing its ability to make an impact I believe peoples worries about AI becoming all powerful are unfounded Ultimately training an AI platform it is very much like molding a child If you treat it the right way and teach it the right things train it to know whats right and wrong it will inherently grow up to become a productive member of society that cares about people and the future Just like any one of us Inspire artists In ten years there will be some sort of algorithm involved in most decisions made big or small Artists like myself can get involved in artificial intelligence While such a mission may sound daunting its really about starting to use it exploring the capabilities of algorithms as well as what they can express through AI systems I encourage artists to try to use AI to create something beautiful and expressive the way they would with any other medium However I never want to see the technology become the artist We must think about AI as a tool for the augmentation of human thought and creation and make every effort not to turn the reigns of creativity or ethics over to the machines When deploying AI individuals businesses governments etc must consider how to maintain a sense of civility creativity and equity in the AI system being released into the world For industries the driving question is how can AI be used to increase productivity while respecting human diversity dignity and our cultural specificities'"
      ]
     },
     "execution_count": 92,
     "metadata": {},
     "output_type": "execute_result"
    }
   ],
   "source": [
    "# Replace end of line character with space\n",
    "text_raw.replace('\\n', ' ')"
   ]
  },
  {
   "cell_type": "code",
   "execution_count": 93,
   "id": "c79771e9",
   "metadata": {
    "execution": {
     "iopub.execute_input": "2023-05-10T01:43:08.800156Z",
     "iopub.status.busy": "2023-05-10T01:43:08.800080Z",
     "iopub.status.idle": "2023-05-10T01:43:08.803156Z",
     "shell.execute_reply": "2023-05-10T01:43:08.802914Z"
    }
   },
   "outputs": [],
   "source": [
    "# Save a lower-case version of each word to a list\n",
    "words_list = ['Inspire', 'artists', 'In', 'years', 'sort', 'algorithm', 'involved', 'decisions', 'big', 'small', 'Artists', 'like', 'involved', 'artificial', 'intelligence', 'While', 'mission', 'sound', 'daunting', 'really', 'starting', 'use', 'exploring', 'capabilities', 'algorithms', 'express', 'AI', 'systems', 'I', 'encourage', 'artists', 'try', 'use', 'AI', 'create', 'beautiful', 'expressive', 'way', 'medium', 'However', 'I', 'want', 'technology', 'artist', 'We', 'think', 'AI', 'tool', 'augmentation', 'human', 'thought', 'creation', 'make', 'effort', 'turn', 'reigns', 'creativity', 'ethics', 'machines', 'When', 'deploying', 'AI', 'individuals', 'businesses', 'governments', 'consider', 'maintain', 'sense', 'civility', 'creativity', 'equity', 'AI', 'released', 'world', 'For', 'industries', 'driving', 'question', 'AI', 'used', 'increase', 'productivity', 'respecting', 'human', 'diversity', 'dignity', 'cultural', 'specificities']\n",
    "for word in text_raw.strip().split(): \n",
    "    words_list.append(word.lower())"
   ]
  },
  {
   "cell_type": "code",
   "execution_count": 94,
   "id": "4079bd6a",
   "metadata": {
    "execution": {
     "iopub.execute_input": "2023-05-10T01:43:08.804489Z",
     "iopub.status.busy": "2023-05-10T01:43:08.804405Z",
     "iopub.status.idle": "2023-05-10T01:43:08.806233Z",
     "shell.execute_reply": "2023-05-10T01:43:08.805988Z"
    }
   },
   "outputs": [],
   "source": [
    "# Eliminate non alpha elements\n",
    "text_list = [word.lower() for word in words_list if word.isalpha()]"
   ]
  },
  {
   "cell_type": "code",
   "execution_count": 95,
   "id": "b257c2ac",
   "metadata": {
    "execution": {
     "iopub.execute_input": "2023-05-10T01:43:08.807579Z",
     "iopub.status.busy": "2023-05-10T01:43:08.807507Z",
     "iopub.status.idle": "2023-05-10T01:43:08.809150Z",
     "shell.execute_reply": "2023-05-10T01:43:08.808938Z"
    }
   },
   "outputs": [],
   "source": [
    "# Transforming the list into a string for displaying\n",
    "text_str = ' '.join(text_list)"
   ]
  },
  {
   "cell_type": "code",
   "execution_count": 96,
   "id": "17d6bf9f",
   "metadata": {
    "execution": {
     "iopub.execute_input": "2023-05-10T01:43:08.810435Z",
     "iopub.status.busy": "2023-05-10T01:43:08.810365Z",
     "iopub.status.idle": "2023-05-10T01:43:08.816718Z",
     "shell.execute_reply": "2023-05-10T01:43:08.816495Z"
    }
   },
   "outputs": [
    {
     "ename": "NameError",
     "evalue": "name 'STOPWORDS' is not defined",
     "output_type": "error",
     "traceback": [
      "\u001b[0;31m---------------------------------------------------------------------------\u001b[0m",
      "\u001b[0;31mNameError\u001b[0m                                 Traceback (most recent call last)",
      "Cell \u001b[0;32mIn [96], line 2\u001b[0m\n\u001b[1;32m      1\u001b[0m \u001b[38;5;66;03m# Crating and updating the stopword list\u001b[39;00m\n\u001b[0;32m----> 2\u001b[0m stpwords \u001b[38;5;241m=\u001b[39m \u001b[38;5;28mset\u001b[39m(\u001b[43mSTOPWORDS\u001b[49m)\n\u001b[1;32m      3\u001b[0m stpwords\u001b[38;5;241m.\u001b[39madd(\u001b[38;5;124m'\u001b[39m\u001b[38;5;124mwill\u001b[39m\u001b[38;5;124m'\u001b[39m)\n\u001b[1;32m      4\u001b[0m stpwords\u001b[38;5;241m.\u001b[39madd(\u001b[38;5;124m'\u001b[39m\u001b[38;5;124msaid\u001b[39m\u001b[38;5;124m'\u001b[39m)\n",
      "\u001b[0;31mNameError\u001b[0m: name 'STOPWORDS' is not defined"
     ]
    }
   ],
   "source": [
    "# Crating and updating the stopword list\n",
    "stpwords = set(STOPWORDS)\n",
    "stpwords.add('will')\n",
    "stpwords.add('said')"
   ]
  },
  {
   "cell_type": "code",
   "execution_count": 97,
   "id": "d69048c8",
   "metadata": {
    "execution": {
     "iopub.execute_input": "2023-05-10T01:43:08.818195Z",
     "iopub.status.busy": "2023-05-10T01:43:08.818100Z",
     "iopub.status.idle": "2023-05-10T01:43:08.824620Z",
     "shell.execute_reply": "2023-05-10T01:43:08.824347Z"
    }
   },
   "outputs": [
    {
     "ename": "NameError",
     "evalue": "name 'WordCloud' is not defined",
     "output_type": "error",
     "traceback": [
      "\u001b[0;31m---------------------------------------------------------------------------\u001b[0m",
      "\u001b[0;31mNameError\u001b[0m                                 Traceback (most recent call last)",
      "Cell \u001b[0;32mIn [97], line 2\u001b[0m\n\u001b[1;32m      1\u001b[0m \u001b[38;5;66;03m# Defining the wordcloud parameters\u001b[39;00m\n\u001b[0;32m----> 2\u001b[0m wc \u001b[38;5;241m=\u001b[39m \u001b[43mWordCloud\u001b[49m(background_color\u001b[38;5;241m=\u001b[39m\u001b[38;5;124m\"\u001b[39m\u001b[38;5;124mwhite\u001b[39m\u001b[38;5;124m\"\u001b[39m, max_words\u001b[38;5;241m=\u001b[39m\u001b[38;5;241m2000\u001b[39m,stopwords\u001b[38;5;241m=\u001b[39mstpwords)\n",
      "\u001b[0;31mNameError\u001b[0m: name 'WordCloud' is not defined"
     ]
    }
   ],
   "source": [
    "# Defining the wordcloud parameters\n",
    "wc = WordCloud(background_color=\"white\", max_words=2000,stopwords=stpwords)"
   ]
  },
  {
   "cell_type": "code",
   "execution_count": 98,
   "id": "895c5af1",
   "metadata": {
    "execution": {
     "iopub.execute_input": "2023-05-10T01:43:08.825951Z",
     "iopub.status.busy": "2023-05-10T01:43:08.825873Z",
     "iopub.status.idle": "2023-05-10T01:43:08.831894Z",
     "shell.execute_reply": "2023-05-10T01:43:08.831657Z"
    }
   },
   "outputs": [
    {
     "ename": "NameError",
     "evalue": "name 'wc' is not defined",
     "output_type": "error",
     "traceback": [
      "\u001b[0;31m---------------------------------------------------------------------------\u001b[0m",
      "\u001b[0;31mNameError\u001b[0m                                 Traceback (most recent call last)",
      "Cell \u001b[0;32mIn [98], line 2\u001b[0m\n\u001b[1;32m      1\u001b[0m \u001b[38;5;66;03m# Generate word cloud\u001b[39;00m\n\u001b[0;32m----> 2\u001b[0m \u001b[43mwc\u001b[49m\u001b[38;5;241m.\u001b[39mgenerate(text_str)\n",
      "\u001b[0;31mNameError\u001b[0m: name 'wc' is not defined"
     ]
    }
   ],
   "source": [
    "# Generate word cloud\n",
    "wc.generate(text_str)"
   ]
  },
  {
   "cell_type": "markdown",
   "id": "1a9e2b76",
   "metadata": {},
   "source": [
    "Store to file\n",
    "wc.to_file('Trump.png')"
   ]
  },
  {
   "cell_type": "code",
   "execution_count": 99,
   "id": "04004ca5",
   "metadata": {
    "execution": {
     "iopub.execute_input": "2023-05-10T01:43:08.833274Z",
     "iopub.status.busy": "2023-05-10T01:43:08.833198Z",
     "iopub.status.idle": "2023-05-10T01:43:08.839580Z",
     "shell.execute_reply": "2023-05-10T01:43:08.839335Z"
    }
   },
   "outputs": [
    {
     "ename": "NameError",
     "evalue": "name 'plt' is not defined",
     "output_type": "error",
     "traceback": [
      "\u001b[0;31m---------------------------------------------------------------------------\u001b[0m",
      "\u001b[0;31mNameError\u001b[0m                                 Traceback (most recent call last)",
      "Cell \u001b[0;32mIn [99], line 2\u001b[0m\n\u001b[1;32m      1\u001b[0m \u001b[38;5;66;03m# Show the cloud\u001b[39;00m\n\u001b[0;32m----> 2\u001b[0m \u001b[43mplt\u001b[49m\u001b[38;5;241m.\u001b[39mimshow(wc)\n\u001b[1;32m      3\u001b[0m plt\u001b[38;5;241m.\u001b[39maxis(\u001b[38;5;124m'\u001b[39m\u001b[38;5;124moff\u001b[39m\u001b[38;5;124m'\u001b[39m)\n\u001b[1;32m      4\u001b[0m plt\u001b[38;5;241m.\u001b[39mshow()\n",
      "\u001b[0;31mNameError\u001b[0m: name 'plt' is not defined"
     ]
    }
   ],
   "source": [
    "# Show the cloud\n",
    "plt.imshow(wc)\n",
    "plt.axis('off')\n",
    "plt.show()"
   ]
  },
  {
   "cell_type": "markdown",
   "id": "2d7ab92d",
   "metadata": {},
   "source": [
    "This script reads a text file, clean it in part and generates a word cloud using the words in the text"
   ]
  },
  {
   "cell_type": "code",
   "execution_count": 100,
   "id": "91090e94",
   "metadata": {
    "execution": {
     "iopub.execute_input": "2023-05-10T01:43:08.840969Z",
     "iopub.status.busy": "2023-05-10T01:43:08.840882Z",
     "iopub.status.idle": "2023-05-10T01:43:08.847209Z",
     "shell.execute_reply": "2023-05-10T01:43:08.846944Z"
    }
   },
   "outputs": [
    {
     "ename": "ModuleNotFoundError",
     "evalue": "No module named 'wordcloud'",
     "output_type": "error",
     "traceback": [
      "\u001b[0;31m---------------------------------------------------------------------------\u001b[0m",
      "\u001b[0;31mModuleNotFoundError\u001b[0m                       Traceback (most recent call last)",
      "Cell \u001b[0;32mIn [100], line 2\u001b[0m\n\u001b[1;32m      1\u001b[0m \u001b[38;5;66;03m# Importing the required libraries\u001b[39;00m\n\u001b[0;32m----> 2\u001b[0m \u001b[38;5;28;01mfrom\u001b[39;00m \u001b[38;5;21;01mwordcloud\u001b[39;00m \u001b[38;5;28;01mimport\u001b[39;00m WordCloud, STOPWORDS\n\u001b[1;32m      3\u001b[0m \u001b[38;5;28;01mimport\u001b[39;00m \u001b[38;5;21;01mmatplotlib\u001b[39;00m\u001b[38;5;21;01m.\u001b[39;00m\u001b[38;5;21;01mpyplot\u001b[39;00m \u001b[38;5;28;01mas\u001b[39;00m \u001b[38;5;21;01mplt\u001b[39;00m\n",
      "\u001b[0;31mModuleNotFoundError\u001b[0m: No module named 'wordcloud'"
     ]
    }
   ],
   "source": [
    "# Importing the required libraries\n",
    "from wordcloud import WordCloud, STOPWORDS\n",
    "import matplotlib.pyplot as plt"
   ]
  },
  {
   "cell_type": "markdown",
   "id": "c609a762",
   "metadata": {},
   "source": [
    "Read the whole text\n",
    "file_read = open('ai_trends.txt' 'rU')\n",
    "text_raw = file_read.read()"
   ]
  },
  {
   "cell_type": "code",
   "execution_count": 101,
   "id": "c179745b",
   "metadata": {
    "execution": {
     "iopub.execute_input": "2023-05-10T01:43:08.848554Z",
     "iopub.status.busy": "2023-05-10T01:43:08.848471Z",
     "iopub.status.idle": "2023-05-10T01:43:08.850654Z",
     "shell.execute_reply": "2023-05-10T01:43:08.850352Z"
    }
   },
   "outputs": [
    {
     "data": {
      "text/plain": [
       "'Increase security Drones are going to change the way we live I think of drones now as the equivalent of what phones were in the 90s Drones open up the ability to transport things through the air over short distances and in complex spaces which is just not something we have another solution for today Whether thats package delivery or emergency response or delivering medical products urgently all of those things become possible immediately One of the amazing things about drones is that they fly The idea that you can have something routinely inspect places that are hard to look at will make our world dramatically safer It will be another way in which drones will help us realize this future vision a lot of us have of whats going to happen this network of autonomous drones flying around taking care of things and interacting with us It will bring an immediacy to what theyre doing in the same way a smartphone in your hand made that change so readily apparent Generate new services and potentially social issues Artificial intelligence really means the extension of our ability to solve problems and to generate new ideas Its quite possible that 10 years will get us to an inflection point after which we will see advancement at an unprecedented rate AI and and robotics will have been assimilated into business operations and will be having a major impact on efficiency in organizations Entirely new AI-based products and services will have created new consumer and industrial markets At the same time AI will bring along new challenges perhaps most importantly increasing inequality and possibly unemployment as routine predictable types of work are automated There will also be critical challenges in areas like privacy security algorithmic bias and military applications of AI Ten years from now a vibrant debate about these issues will have likely come to the forefront of our political and social discourse Finding a way to address these issues on behalf of humanity will soon be one of the defining challenges for the coming decades Empower businesses The consumer-facing applications of AI and ML feel stuck to me relegated to doing what humans can already do or more critically only what we trust them to do Over the next ten years I think well start seeing trust barriers decrease and as a result dependence on AI powered algorithms and machines will increase We started learning this lesson years ago building our consumer applications If youre going on a trip to Paris for example youd trust almost anything your friend recommends even if theyd only been to Paris once for a short trip just because they said so In the same situation we use sophisticated ML techniques to deliver extremely personalized recommendations but algorithms dont get the benefit of trust like a friend In order to gain user trust we had to try and explain the what the AI thought which defeats the power of it Today these ideas are starting to grow in acceptance and expectation as brands such as Foursquare continue to use ML to build location-aware technology that push the boundaries of mobile capabilitiesand gives developers analysts marketers and beyond a unique way of understanding and interacting with their users The industry excitement around this technology and the rich experiences built on top of it I hope and believe represent the tides of change Improve healthcare When it comes to healthcare theres a lot machines can do to help the doctor I dont see a future where we actually dont have doctors guiding but a lot of the busy work doctors have to do is better done using artificial intelligence If you think about a doctors career thirty or forty years the number of patients you can see during that time period is very limited Many doctors are burnt out overworked its a serious issue They also dont have time to keep themselves up to date on the most recent research treatment techniques and advancements in medication Machines can play a very important role here Artificial intelligence can access a much larger set of patient data of how they were treated and what the outcomes were You can imagine machines being in a much better position because machines can start doing the busy work around the diagnosis and humans can actually interact with the patient and work with artificial intelligence to improve outcomes That in my mind is super exciting Facilitate sustainability Artificial intelligence is going to impact every single industry and everything that we do On a bigger level areas like sustainability climate change environmental issues they are becoming more at the forefront of everybodys minds as we move more into the 21st century and think about the huge challenges we need to tackle like population increases urbanization and energy Theres so many different areas within urbanization that touch on city planning We can do that much more efficiently once we can track the movements of residents within cities and once we can map which areas we can use to improve the density of cities In the AI floodgates conversation Ive seen in the past six months or so a lot more companies wanting to focus on AI instead of just thinking about the quick goals of making workloads and businesses more efficient If we look at the bigger picture of AI for good then it connects us with more purpose and meaning Blend the lines of digital and physical Personally Im most interested in furthering spatial computing When you live in a world where your computer is not just bound to a specific device but can be anywhere you want to put it it means computers will have to react to humans much more intelligently than they do now Right now if you do something wrong today your computer throws up an error you close it and thats it But imagine if for example you had a full-scale game that was in your apartment and something went wrong Where does the dialog box go then Should there be one at all There are a lot of open questions around how humans will want to interact with their computers For example Foursquare did a really great job with having with having location-based notifications designed to give you the right information at the right time There are many many applications that should be making use of that kind of awareness today And in the future having these really intelligent ways of surfacing information are going to move from nice-to-haves to essentials And I for one will be looking forward to that because I want computers to be smarter already Make us smarter Computational power is going to continue to increase giving us more power to train our models The amount of data being created is going to continue to grow exponentially as well allowing us to monitor more elements in our platforms and our world Combine the two together with AI and it gives us the ability to be able to make more intelligent projections on future behavior and events as you can train more intelligent models and knowledge systems However in the financial services industry regulatory pressures could actually curb the power of AI to some degree by siloing off information used to train models thus cutting off one source of fuel AI needs to thrive slowing its ability to make an impact I believe peoples worries about AI becoming all powerful are unfounded Ultimately training an AI platform it is very much like molding a child If you treat it the right way and teach it the right things train it to know whats right and wrong it will inherently grow up to become a productive member of society that cares about people and the future Just like any one of us Inspire artists In ten years there will be some sort of algorithm involved in most decisions made big or small Artists like myself can get involved in artificial intelligence While such a mission may sound daunting its really about starting to use it exploring the capabilities of algorithms as well as what they can express through AI systems I encourage artists to try to use AI to create something beautiful and expressive the way they would with any other medium However I never want to see the technology become the artist We must think about AI as a tool for the augmentation of human thought and creation and make every effort not to turn the reigns of creativity or ethics over to the machines When deploying AI individuals businesses governments etc must consider how to maintain a sense of civility creativity and equity in the AI system being released into the world For industries the driving question is how can AI be used to increase productivity while respecting human diversity dignity and our cultural specificities'"
      ]
     },
     "execution_count": 101,
     "metadata": {},
     "output_type": "execute_result"
    }
   ],
   "source": [
    "# Replace end of line character with space\n",
    "text_raw.replace('\\n', ' ')"
   ]
  },
  {
   "cell_type": "code",
   "execution_count": 102,
   "id": "1917bbc7",
   "metadata": {
    "execution": {
     "iopub.execute_input": "2023-05-10T01:43:08.852125Z",
     "iopub.status.busy": "2023-05-10T01:43:08.852032Z",
     "iopub.status.idle": "2023-05-10T01:43:08.855132Z",
     "shell.execute_reply": "2023-05-10T01:43:08.854891Z"
    }
   },
   "outputs": [],
   "source": [
    "# Save a lower-case version of each word to a list\n",
    "words_list = ['Inspire', 'artists', 'In', 'years', 'sort', 'algorithm', 'involved', 'decisions', 'big', 'small', 'Artists', 'like', 'involved', 'artificial', 'intelligence', 'While', 'mission', 'sound', 'daunting', 'really', 'starting', 'use', 'exploring', 'capabilities', 'algorithms', 'express', 'AI', 'systems', 'I', 'encourage', 'artists', 'try', 'use', 'AI', 'create', 'beautiful', 'expressive', 'way', 'medium', 'However', 'I', 'want', 'technology', 'artist', 'We', 'think', 'AI', 'tool', 'augmentation', 'human', 'thought', 'creation', 'make', 'effort', 'turn', 'reigns', 'creativity', 'ethics', 'machines', 'When', 'deploying', 'AI', 'individuals', 'businesses', 'governments', 'consider', 'maintain', 'sense', 'civility', 'creativity', 'equity', 'AI', 'released', 'world', 'For', 'industries', 'driving', 'question', 'AI', 'used', 'increase', 'productivity', 'respecting', 'human', 'diversity', 'dignity', 'cultural', 'specificities']\n",
    "for word in text_raw.strip().split(): \n",
    "    words_list.append(word.lower())"
   ]
  },
  {
   "cell_type": "markdown",
   "id": "7660602f",
   "metadata": {},
   "source": [
    "Eliminate non alpha elements\n",
    "text_list = [word.lower() for word in words_list if word.isalpha()]"
   ]
  },
  {
   "cell_type": "code",
   "execution_count": 103,
   "id": "01f1737e",
   "metadata": {
    "execution": {
     "iopub.execute_input": "2023-05-10T01:43:08.856519Z",
     "iopub.status.busy": "2023-05-10T01:43:08.856444Z",
     "iopub.status.idle": "2023-05-10T01:43:08.858063Z",
     "shell.execute_reply": "2023-05-10T01:43:08.857848Z"
    }
   },
   "outputs": [],
   "source": [
    "# Transforming the list into a string for displaying\n",
    "text_str = ' '.join(text_list)"
   ]
  },
  {
   "cell_type": "code",
   "execution_count": 104,
   "id": "f58a1f05",
   "metadata": {
    "execution": {
     "iopub.execute_input": "2023-05-10T01:43:08.859339Z",
     "iopub.status.busy": "2023-05-10T01:43:08.859239Z",
     "iopub.status.idle": "2023-05-10T01:43:08.865641Z",
     "shell.execute_reply": "2023-05-10T01:43:08.865394Z"
    }
   },
   "outputs": [
    {
     "ename": "NameError",
     "evalue": "name 'STOPWORDS' is not defined",
     "output_type": "error",
     "traceback": [
      "\u001b[0;31m---------------------------------------------------------------------------\u001b[0m",
      "\u001b[0;31mNameError\u001b[0m                                 Traceback (most recent call last)",
      "Cell \u001b[0;32mIn [104], line 2\u001b[0m\n\u001b[1;32m      1\u001b[0m \u001b[38;5;66;03m# Crating and updating the stopword list\u001b[39;00m\n\u001b[0;32m----> 2\u001b[0m stpwords \u001b[38;5;241m=\u001b[39m \u001b[38;5;28mset\u001b[39m(\u001b[43mSTOPWORDS\u001b[49m)\n\u001b[1;32m      3\u001b[0m stpwords\u001b[38;5;241m.\u001b[39madd(\u001b[38;5;124m'\u001b[39m\u001b[38;5;124mwill\u001b[39m\u001b[38;5;124m'\u001b[39m)\n\u001b[1;32m      4\u001b[0m stpwords\u001b[38;5;241m.\u001b[39madd(\u001b[38;5;124m'\u001b[39m\u001b[38;5;124msaid\u001b[39m\u001b[38;5;124m'\u001b[39m)\n",
      "\u001b[0;31mNameError\u001b[0m: name 'STOPWORDS' is not defined"
     ]
    }
   ],
   "source": [
    "# Crating and updating the stopword list\n",
    "stpwords = set(STOPWORDS)\n",
    "stpwords.add('will')\n",
    "stpwords.add('said')"
   ]
  },
  {
   "cell_type": "code",
   "execution_count": 105,
   "id": "2e21fe1d",
   "metadata": {
    "execution": {
     "iopub.execute_input": "2023-05-10T01:43:08.867008Z",
     "iopub.status.busy": "2023-05-10T01:43:08.866925Z",
     "iopub.status.idle": "2023-05-10T01:43:08.873488Z",
     "shell.execute_reply": "2023-05-10T01:43:08.873222Z"
    }
   },
   "outputs": [
    {
     "ename": "NameError",
     "evalue": "name 'WordCloud' is not defined",
     "output_type": "error",
     "traceback": [
      "\u001b[0;31m---------------------------------------------------------------------------\u001b[0m",
      "\u001b[0;31mNameError\u001b[0m                                 Traceback (most recent call last)",
      "Cell \u001b[0;32mIn [105], line 2\u001b[0m\n\u001b[1;32m      1\u001b[0m \u001b[38;5;66;03m# Defining the wordcloud parameters\u001b[39;00m\n\u001b[0;32m----> 2\u001b[0m wc \u001b[38;5;241m=\u001b[39m \u001b[43mWordCloud\u001b[49m(background_color\u001b[38;5;241m=\u001b[39m\u001b[38;5;124m\"\u001b[39m\u001b[38;5;124mwhite\u001b[39m\u001b[38;5;124m\"\u001b[39m, max_words\u001b[38;5;241m=\u001b[39m\u001b[38;5;241m2000\u001b[39m,stopwords\u001b[38;5;241m=\u001b[39mstpwords)\n",
      "\u001b[0;31mNameError\u001b[0m: name 'WordCloud' is not defined"
     ]
    }
   ],
   "source": [
    "# Defining the wordcloud parameters\n",
    "wc = WordCloud(background_color=\"white\", max_words=2000,stopwords=stpwords)"
   ]
  },
  {
   "cell_type": "code",
   "execution_count": 106,
   "id": "40ea4b41",
   "metadata": {
    "execution": {
     "iopub.execute_input": "2023-05-10T01:43:08.874836Z",
     "iopub.status.busy": "2023-05-10T01:43:08.874757Z",
     "iopub.status.idle": "2023-05-10T01:43:08.881598Z",
     "shell.execute_reply": "2023-05-10T01:43:08.881346Z"
    }
   },
   "outputs": [
    {
     "ename": "NameError",
     "evalue": "name 'wc' is not defined",
     "output_type": "error",
     "traceback": [
      "\u001b[0;31m---------------------------------------------------------------------------\u001b[0m",
      "\u001b[0;31mNameError\u001b[0m                                 Traceback (most recent call last)",
      "Cell \u001b[0;32mIn [106], line 2\u001b[0m\n\u001b[1;32m      1\u001b[0m \u001b[38;5;66;03m# Generate word cloud\u001b[39;00m\n\u001b[0;32m----> 2\u001b[0m \u001b[43mwc\u001b[49m\u001b[38;5;241m.\u001b[39mgenerate(text_str)\n",
      "\u001b[0;31mNameError\u001b[0m: name 'wc' is not defined"
     ]
    }
   ],
   "source": [
    "# Generate word cloud\n",
    "wc.generate(text_str)"
   ]
  },
  {
   "cell_type": "markdown",
   "id": "5239d6b1",
   "metadata": {},
   "source": [
    "Store to file\n",
    "wc.to_file('Trump.png')"
   ]
  },
  {
   "cell_type": "code",
   "execution_count": 107,
   "id": "2cde6666",
   "metadata": {
    "execution": {
     "iopub.execute_input": "2023-05-10T01:43:08.882989Z",
     "iopub.status.busy": "2023-05-10T01:43:08.882908Z",
     "iopub.status.idle": "2023-05-10T01:43:08.889368Z",
     "shell.execute_reply": "2023-05-10T01:43:08.889115Z"
    }
   },
   "outputs": [
    {
     "ename": "NameError",
     "evalue": "name 'plt' is not defined",
     "output_type": "error",
     "traceback": [
      "\u001b[0;31m---------------------------------------------------------------------------\u001b[0m",
      "\u001b[0;31mNameError\u001b[0m                                 Traceback (most recent call last)",
      "Cell \u001b[0;32mIn [107], line 2\u001b[0m\n\u001b[1;32m      1\u001b[0m \u001b[38;5;66;03m# Show the cloud\u001b[39;00m\n\u001b[0;32m----> 2\u001b[0m \u001b[43mplt\u001b[49m\u001b[38;5;241m.\u001b[39mimshow(wc)\n\u001b[1;32m      3\u001b[0m plt\u001b[38;5;241m.\u001b[39maxis(\u001b[38;5;124m'\u001b[39m\u001b[38;5;124moff\u001b[39m\u001b[38;5;124m'\u001b[39m)\n\u001b[1;32m      4\u001b[0m plt\u001b[38;5;241m.\u001b[39mshow()\n",
      "\u001b[0;31mNameError\u001b[0m: name 'plt' is not defined"
     ]
    }
   ],
   "source": [
    "# Show the cloud\n",
    "plt.imshow(wc)\n",
    "plt.axis('off')\n",
    "plt.show()"
   ]
  },
  {
   "cell_type": "markdown",
   "id": "4ac4e1af",
   "metadata": {},
   "source": [
    "This script reads a text file, clean it in part and generates a word cloud using the words in the text"
   ]
  },
  {
   "cell_type": "code",
   "execution_count": 108,
   "id": "487c5265",
   "metadata": {
    "execution": {
     "iopub.execute_input": "2023-05-10T01:43:08.890820Z",
     "iopub.status.busy": "2023-05-10T01:43:08.890704Z",
     "iopub.status.idle": "2023-05-10T01:43:08.897031Z",
     "shell.execute_reply": "2023-05-10T01:43:08.896808Z"
    }
   },
   "outputs": [
    {
     "ename": "ModuleNotFoundError",
     "evalue": "No module named 'wordcloud'",
     "output_type": "error",
     "traceback": [
      "\u001b[0;31m---------------------------------------------------------------------------\u001b[0m",
      "\u001b[0;31mModuleNotFoundError\u001b[0m                       Traceback (most recent call last)",
      "Cell \u001b[0;32mIn [108], line 2\u001b[0m\n\u001b[1;32m      1\u001b[0m \u001b[38;5;66;03m# Importing the required libraries\u001b[39;00m\n\u001b[0;32m----> 2\u001b[0m \u001b[38;5;28;01mfrom\u001b[39;00m \u001b[38;5;21;01mwordcloud\u001b[39;00m \u001b[38;5;28;01mimport\u001b[39;00m WordCloud, STOPWORDS\n\u001b[1;32m      3\u001b[0m \u001b[38;5;28;01mimport\u001b[39;00m \u001b[38;5;21;01mmatplotlib\u001b[39;00m\u001b[38;5;21;01m.\u001b[39;00m\u001b[38;5;21;01mpyplot\u001b[39;00m \u001b[38;5;28;01mas\u001b[39;00m \u001b[38;5;21;01mplt\u001b[39;00m\n",
      "\u001b[0;31mModuleNotFoundError\u001b[0m: No module named 'wordcloud'"
     ]
    }
   ],
   "source": [
    "# Importing the required libraries\n",
    "from wordcloud import WordCloud, STOPWORDS\n",
    "import matplotlib.pyplot as plt"
   ]
  },
  {
   "cell_type": "markdown",
   "id": "e4d9f4ac",
   "metadata": {},
   "source": [
    "Read the whole text\n",
    "file_read = open('ai_trends.txt' 'rU')\n",
    "text_raw = file_read.read()"
   ]
  },
  {
   "cell_type": "code",
   "execution_count": 109,
   "id": "99a4aaf7",
   "metadata": {
    "execution": {
     "iopub.execute_input": "2023-05-10T01:43:08.898429Z",
     "iopub.status.busy": "2023-05-10T01:43:08.898350Z",
     "iopub.status.idle": "2023-05-10T01:43:08.900584Z",
     "shell.execute_reply": "2023-05-10T01:43:08.900320Z"
    }
   },
   "outputs": [
    {
     "data": {
      "text/plain": [
       "'Increase security Drones are going to change the way we live I think of drones now as the equivalent of what phones were in the 90s Drones open up the ability to transport things through the air over short distances and in complex spaces which is just not something we have another solution for today Whether thats package delivery or emergency response or delivering medical products urgently all of those things become possible immediately One of the amazing things about drones is that they fly The idea that you can have something routinely inspect places that are hard to look at will make our world dramatically safer It will be another way in which drones will help us realize this future vision a lot of us have of whats going to happen this network of autonomous drones flying around taking care of things and interacting with us It will bring an immediacy to what theyre doing in the same way a smartphone in your hand made that change so readily apparent Generate new services and potentially social issues Artificial intelligence really means the extension of our ability to solve problems and to generate new ideas Its quite possible that 10 years will get us to an inflection point after which we will see advancement at an unprecedented rate AI and and robotics will have been assimilated into business operations and will be having a major impact on efficiency in organizations Entirely new AI-based products and services will have created new consumer and industrial markets At the same time AI will bring along new challenges perhaps most importantly increasing inequality and possibly unemployment as routine predictable types of work are automated There will also be critical challenges in areas like privacy security algorithmic bias and military applications of AI Ten years from now a vibrant debate about these issues will have likely come to the forefront of our political and social discourse Finding a way to address these issues on behalf of humanity will soon be one of the defining challenges for the coming decades Empower businesses The consumer-facing applications of AI and ML feel stuck to me relegated to doing what humans can already do or more critically only what we trust them to do Over the next ten years I think well start seeing trust barriers decrease and as a result dependence on AI powered algorithms and machines will increase We started learning this lesson years ago building our consumer applications If youre going on a trip to Paris for example youd trust almost anything your friend recommends even if theyd only been to Paris once for a short trip just because they said so In the same situation we use sophisticated ML techniques to deliver extremely personalized recommendations but algorithms dont get the benefit of trust like a friend In order to gain user trust we had to try and explain the what the AI thought which defeats the power of it Today these ideas are starting to grow in acceptance and expectation as brands such as Foursquare continue to use ML to build location-aware technology that push the boundaries of mobile capabilitiesand gives developers analysts marketers and beyond a unique way of understanding and interacting with their users The industry excitement around this technology and the rich experiences built on top of it I hope and believe represent the tides of change Improve healthcare When it comes to healthcare theres a lot machines can do to help the doctor I dont see a future where we actually dont have doctors guiding but a lot of the busy work doctors have to do is better done using artificial intelligence If you think about a doctors career thirty or forty years the number of patients you can see during that time period is very limited Many doctors are burnt out overworked its a serious issue They also dont have time to keep themselves up to date on the most recent research treatment techniques and advancements in medication Machines can play a very important role here Artificial intelligence can access a much larger set of patient data of how they were treated and what the outcomes were You can imagine machines being in a much better position because machines can start doing the busy work around the diagnosis and humans can actually interact with the patient and work with artificial intelligence to improve outcomes That in my mind is super exciting Facilitate sustainability Artificial intelligence is going to impact every single industry and everything that we do On a bigger level areas like sustainability climate change environmental issues they are becoming more at the forefront of everybodys minds as we move more into the 21st century and think about the huge challenges we need to tackle like population increases urbanization and energy Theres so many different areas within urbanization that touch on city planning We can do that much more efficiently once we can track the movements of residents within cities and once we can map which areas we can use to improve the density of cities In the AI floodgates conversation Ive seen in the past six months or so a lot more companies wanting to focus on AI instead of just thinking about the quick goals of making workloads and businesses more efficient If we look at the bigger picture of AI for good then it connects us with more purpose and meaning Blend the lines of digital and physical Personally Im most interested in furthering spatial computing When you live in a world where your computer is not just bound to a specific device but can be anywhere you want to put it it means computers will have to react to humans much more intelligently than they do now Right now if you do something wrong today your computer throws up an error you close it and thats it But imagine if for example you had a full-scale game that was in your apartment and something went wrong Where does the dialog box go then Should there be one at all There are a lot of open questions around how humans will want to interact with their computers For example Foursquare did a really great job with having with having location-based notifications designed to give you the right information at the right time There are many many applications that should be making use of that kind of awareness today And in the future having these really intelligent ways of surfacing information are going to move from nice-to-haves to essentials And I for one will be looking forward to that because I want computers to be smarter already Make us smarter Computational power is going to continue to increase giving us more power to train our models The amount of data being created is going to continue to grow exponentially as well allowing us to monitor more elements in our platforms and our world Combine the two together with AI and it gives us the ability to be able to make more intelligent projections on future behavior and events as you can train more intelligent models and knowledge systems However in the financial services industry regulatory pressures could actually curb the power of AI to some degree by siloing off information used to train models thus cutting off one source of fuel AI needs to thrive slowing its ability to make an impact I believe peoples worries about AI becoming all powerful are unfounded Ultimately training an AI platform it is very much like molding a child If you treat it the right way and teach it the right things train it to know whats right and wrong it will inherently grow up to become a productive member of society that cares about people and the future Just like any one of us Inspire artists In ten years there will be some sort of algorithm involved in most decisions made big or small Artists like myself can get involved in artificial intelligence While such a mission may sound daunting its really about starting to use it exploring the capabilities of algorithms as well as what they can express through AI systems I encourage artists to try to use AI to create something beautiful and expressive the way they would with any other medium However I never want to see the technology become the artist We must think about AI as a tool for the augmentation of human thought and creation and make every effort not to turn the reigns of creativity or ethics over to the machines When deploying AI individuals businesses governments etc must consider how to maintain a sense of civility creativity and equity in the AI system being released into the world For industries the driving question is how can AI be used to increase productivity while respecting human diversity dignity and our cultural specificities'"
      ]
     },
     "execution_count": 109,
     "metadata": {},
     "output_type": "execute_result"
    }
   ],
   "source": [
    "# Replace end of line character with space\n",
    "text_raw.replace('\\n', ' ')"
   ]
  },
  {
   "cell_type": "code",
   "execution_count": 110,
   "id": "2aa14ce3",
   "metadata": {
    "execution": {
     "iopub.execute_input": "2023-05-10T01:43:08.902127Z",
     "iopub.status.busy": "2023-05-10T01:43:08.902019Z",
     "iopub.status.idle": "2023-05-10T01:43:08.904699Z",
     "shell.execute_reply": "2023-05-10T01:43:08.904470Z"
    }
   },
   "outputs": [],
   "source": [
    "# Save a lower-case version of each word to a list\n",
    "words_list = ['Inspire', 'artists', 'In', 'years', 'sort', 'algorithm', 'involved', 'decisions', 'big', 'small', 'Artists', 'like', 'involved', 'artificial', 'intelligence', 'While', 'mission', 'sound', 'daunting', 'really', 'starting', 'use', 'exploring', 'capabilities', 'algorithms', 'express', 'AI', 'systems', 'I', 'encourage', 'artists', 'try', 'use', 'AI', 'create', 'beautiful', 'expressive', 'way', 'medium', 'However', 'I', 'want', 'technology', 'artist', 'We', 'think', 'AI', 'tool', 'augmentation', 'human', 'thought', 'creation', 'make', 'effort', 'turn', 'reigns', 'creativity', 'ethics', 'machines', 'When', 'deploying', 'AI', 'individuals', 'businesses', 'governments', 'consider', 'maintain', 'sense', 'civility', 'creativity', 'equity', 'AI', 'released', 'world', 'For', 'industries', 'driving', 'question', 'AI', 'used', 'increase', 'productivity', 'respecting', 'human', 'diversity', 'dignity', 'cultural', 'specificities']\n",
    "# for word in text_raw.strip().split(): \n",
    "#     words_list.append(word.lower())"
   ]
  },
  {
   "cell_type": "code",
   "execution_count": 111,
   "id": "62ff2519",
   "metadata": {
    "execution": {
     "iopub.execute_input": "2023-05-10T01:43:08.906073Z",
     "iopub.status.busy": "2023-05-10T01:43:08.905970Z",
     "iopub.status.idle": "2023-05-10T01:43:08.907594Z",
     "shell.execute_reply": "2023-05-10T01:43:08.907349Z"
    }
   },
   "outputs": [],
   "source": [
    "# Eliminate non alpha elements\n",
    "text_list = [word.lower() for word in words_list if word.isalpha()]"
   ]
  },
  {
   "cell_type": "code",
   "execution_count": 112,
   "id": "0a3e9731",
   "metadata": {
    "execution": {
     "iopub.execute_input": "2023-05-10T01:43:08.908917Z",
     "iopub.status.busy": "2023-05-10T01:43:08.908839Z",
     "iopub.status.idle": "2023-05-10T01:43:08.910487Z",
     "shell.execute_reply": "2023-05-10T01:43:08.910269Z"
    }
   },
   "outputs": [],
   "source": [
    "# Transforming the list into a string for displaying\n",
    "text_str = ' '.join(text_list)"
   ]
  },
  {
   "cell_type": "code",
   "execution_count": 113,
   "id": "24cb02c5",
   "metadata": {
    "execution": {
     "iopub.execute_input": "2023-05-10T01:43:08.911815Z",
     "iopub.status.busy": "2023-05-10T01:43:08.911732Z",
     "iopub.status.idle": "2023-05-10T01:43:08.918142Z",
     "shell.execute_reply": "2023-05-10T01:43:08.917871Z"
    }
   },
   "outputs": [
    {
     "ename": "NameError",
     "evalue": "name 'STOPWORDS' is not defined",
     "output_type": "error",
     "traceback": [
      "\u001b[0;31m---------------------------------------------------------------------------\u001b[0m",
      "\u001b[0;31mNameError\u001b[0m                                 Traceback (most recent call last)",
      "Cell \u001b[0;32mIn [113], line 2\u001b[0m\n\u001b[1;32m      1\u001b[0m \u001b[38;5;66;03m# Crating and updating the stopword list\u001b[39;00m\n\u001b[0;32m----> 2\u001b[0m stpwords \u001b[38;5;241m=\u001b[39m \u001b[38;5;28mset\u001b[39m(\u001b[43mSTOPWORDS\u001b[49m)\n\u001b[1;32m      3\u001b[0m stpwords\u001b[38;5;241m.\u001b[39madd(\u001b[38;5;124m'\u001b[39m\u001b[38;5;124mwill\u001b[39m\u001b[38;5;124m'\u001b[39m)\n\u001b[1;32m      4\u001b[0m stpwords\u001b[38;5;241m.\u001b[39madd(\u001b[38;5;124m'\u001b[39m\u001b[38;5;124msaid\u001b[39m\u001b[38;5;124m'\u001b[39m)\n",
      "\u001b[0;31mNameError\u001b[0m: name 'STOPWORDS' is not defined"
     ]
    }
   ],
   "source": [
    "# Crating and updating the stopword list\n",
    "stpwords = set(STOPWORDS)\n",
    "stpwords.add('will')\n",
    "stpwords.add('said')"
   ]
  },
  {
   "cell_type": "code",
   "execution_count": 114,
   "id": "c0c48eef",
   "metadata": {
    "execution": {
     "iopub.execute_input": "2023-05-10T01:43:08.919566Z",
     "iopub.status.busy": "2023-05-10T01:43:08.919488Z",
     "iopub.status.idle": "2023-05-10T01:43:08.925823Z",
     "shell.execute_reply": "2023-05-10T01:43:08.925591Z"
    }
   },
   "outputs": [
    {
     "ename": "NameError",
     "evalue": "name 'WordCloud' is not defined",
     "output_type": "error",
     "traceback": [
      "\u001b[0;31m---------------------------------------------------------------------------\u001b[0m",
      "\u001b[0;31mNameError\u001b[0m                                 Traceback (most recent call last)",
      "Cell \u001b[0;32mIn [114], line 2\u001b[0m\n\u001b[1;32m      1\u001b[0m \u001b[38;5;66;03m# Defining the wordcloud parameters\u001b[39;00m\n\u001b[0;32m----> 2\u001b[0m wc \u001b[38;5;241m=\u001b[39m \u001b[43mWordCloud\u001b[49m(background_color\u001b[38;5;241m=\u001b[39m\u001b[38;5;124m\"\u001b[39m\u001b[38;5;124mwhite\u001b[39m\u001b[38;5;124m\"\u001b[39m, max_words\u001b[38;5;241m=\u001b[39m\u001b[38;5;241m2000\u001b[39m,stopwords\u001b[38;5;241m=\u001b[39mstpwords)\n",
      "\u001b[0;31mNameError\u001b[0m: name 'WordCloud' is not defined"
     ]
    }
   ],
   "source": [
    "# Defining the wordcloud parameters\n",
    "wc = WordCloud(background_color=\"white\", max_words=2000,stopwords=stpwords)"
   ]
  },
  {
   "cell_type": "code",
   "execution_count": 115,
   "id": "0d549aaa",
   "metadata": {
    "execution": {
     "iopub.execute_input": "2023-05-10T01:43:08.927147Z",
     "iopub.status.busy": "2023-05-10T01:43:08.927063Z",
     "iopub.status.idle": "2023-05-10T01:43:08.933086Z",
     "shell.execute_reply": "2023-05-10T01:43:08.932867Z"
    }
   },
   "outputs": [
    {
     "ename": "NameError",
     "evalue": "name 'wc' is not defined",
     "output_type": "error",
     "traceback": [
      "\u001b[0;31m---------------------------------------------------------------------------\u001b[0m",
      "\u001b[0;31mNameError\u001b[0m                                 Traceback (most recent call last)",
      "Cell \u001b[0;32mIn [115], line 2\u001b[0m\n\u001b[1;32m      1\u001b[0m \u001b[38;5;66;03m# Generate word cloud\u001b[39;00m\n\u001b[0;32m----> 2\u001b[0m \u001b[43mwc\u001b[49m\u001b[38;5;241m.\u001b[39mgenerate(text_str)\n",
      "\u001b[0;31mNameError\u001b[0m: name 'wc' is not defined"
     ]
    }
   ],
   "source": [
    "# Generate word cloud\n",
    "wc.generate(text_str)"
   ]
  },
  {
   "cell_type": "markdown",
   "id": "6a67d0ec",
   "metadata": {},
   "source": [
    "Store to file\n",
    "wc.to_file('Trump.png')"
   ]
  },
  {
   "cell_type": "code",
   "execution_count": 116,
   "id": "d8b3c703",
   "metadata": {
    "execution": {
     "iopub.execute_input": "2023-05-10T01:43:08.934618Z",
     "iopub.status.busy": "2023-05-10T01:43:08.934528Z",
     "iopub.status.idle": "2023-05-10T01:43:08.940952Z",
     "shell.execute_reply": "2023-05-10T01:43:08.940722Z"
    }
   },
   "outputs": [
    {
     "ename": "NameError",
     "evalue": "name 'plt' is not defined",
     "output_type": "error",
     "traceback": [
      "\u001b[0;31m---------------------------------------------------------------------------\u001b[0m",
      "\u001b[0;31mNameError\u001b[0m                                 Traceback (most recent call last)",
      "Cell \u001b[0;32mIn [116], line 2\u001b[0m\n\u001b[1;32m      1\u001b[0m \u001b[38;5;66;03m# Show the cloud\u001b[39;00m\n\u001b[0;32m----> 2\u001b[0m \u001b[43mplt\u001b[49m\u001b[38;5;241m.\u001b[39mimshow(wc)\n\u001b[1;32m      3\u001b[0m plt\u001b[38;5;241m.\u001b[39maxis(\u001b[38;5;124m'\u001b[39m\u001b[38;5;124moff\u001b[39m\u001b[38;5;124m'\u001b[39m)\n\u001b[1;32m      4\u001b[0m plt\u001b[38;5;241m.\u001b[39mshow()\n",
      "\u001b[0;31mNameError\u001b[0m: name 'plt' is not defined"
     ]
    }
   ],
   "source": [
    "# Show the cloud\n",
    "plt.imshow(wc)\n",
    "plt.axis('off')\n",
    "plt.show()"
   ]
  },
  {
   "cell_type": "markdown",
   "id": "7700b112",
   "metadata": {},
   "source": [
    "This script reads a text file, clean it in part and generates a word cloud using the words in the text"
   ]
  },
  {
   "cell_type": "code",
   "execution_count": 117,
   "id": "8eefbd1c",
   "metadata": {
    "execution": {
     "iopub.execute_input": "2023-05-10T01:43:08.942279Z",
     "iopub.status.busy": "2023-05-10T01:43:08.942198Z",
     "iopub.status.idle": "2023-05-10T01:43:08.948472Z",
     "shell.execute_reply": "2023-05-10T01:43:08.948228Z"
    }
   },
   "outputs": [
    {
     "ename": "ModuleNotFoundError",
     "evalue": "No module named 'wordcloud'",
     "output_type": "error",
     "traceback": [
      "\u001b[0;31m---------------------------------------------------------------------------\u001b[0m",
      "\u001b[0;31mModuleNotFoundError\u001b[0m                       Traceback (most recent call last)",
      "Cell \u001b[0;32mIn [117], line 2\u001b[0m\n\u001b[1;32m      1\u001b[0m \u001b[38;5;66;03m# Importing the required libraries\u001b[39;00m\n\u001b[0;32m----> 2\u001b[0m \u001b[38;5;28;01mfrom\u001b[39;00m \u001b[38;5;21;01mwordcloud\u001b[39;00m \u001b[38;5;28;01mimport\u001b[39;00m WordCloud, STOPWORDS\n\u001b[1;32m      3\u001b[0m \u001b[38;5;28;01mimport\u001b[39;00m \u001b[38;5;21;01mmatplotlib\u001b[39;00m\u001b[38;5;21;01m.\u001b[39;00m\u001b[38;5;21;01mpyplot\u001b[39;00m \u001b[38;5;28;01mas\u001b[39;00m \u001b[38;5;21;01mplt\u001b[39;00m\n",
      "\u001b[0;31mModuleNotFoundError\u001b[0m: No module named 'wordcloud'"
     ]
    }
   ],
   "source": [
    "# Importing the required libraries\n",
    "from wordcloud import WordCloud, STOPWORDS\n",
    "import matplotlib.pyplot as plt"
   ]
  },
  {
   "cell_type": "markdown",
   "id": "34f09e0c",
   "metadata": {},
   "source": [
    "Read the whole text\n",
    "file_read = open('ai_trends.txt' 'rU')\n",
    "text_raw = file_read.read()"
   ]
  },
  {
   "cell_type": "code",
   "execution_count": 118,
   "id": "4a93e9c1",
   "metadata": {
    "execution": {
     "iopub.execute_input": "2023-05-10T01:43:08.949737Z",
     "iopub.status.busy": "2023-05-10T01:43:08.949661Z",
     "iopub.status.idle": "2023-05-10T01:43:08.952057Z",
     "shell.execute_reply": "2023-05-10T01:43:08.951772Z"
    }
   },
   "outputs": [
    {
     "data": {
      "text/plain": [
       "'Increase security Drones are going to change the way we live I think of drones now as the equivalent of what phones were in the 90s Drones open up the ability to transport things through the air over short distances and in complex spaces which is just not something we have another solution for today Whether thats package delivery or emergency response or delivering medical products urgently all of those things become possible immediately One of the amazing things about drones is that they fly The idea that you can have something routinely inspect places that are hard to look at will make our world dramatically safer It will be another way in which drones will help us realize this future vision a lot of us have of whats going to happen this network of autonomous drones flying around taking care of things and interacting with us It will bring an immediacy to what theyre doing in the same way a smartphone in your hand made that change so readily apparent Generate new services and potentially social issues Artificial intelligence really means the extension of our ability to solve problems and to generate new ideas Its quite possible that 10 years will get us to an inflection point after which we will see advancement at an unprecedented rate AI and and robotics will have been assimilated into business operations and will be having a major impact on efficiency in organizations Entirely new AI-based products and services will have created new consumer and industrial markets At the same time AI will bring along new challenges perhaps most importantly increasing inequality and possibly unemployment as routine predictable types of work are automated There will also be critical challenges in areas like privacy security algorithmic bias and military applications of AI Ten years from now a vibrant debate about these issues will have likely come to the forefront of our political and social discourse Finding a way to address these issues on behalf of humanity will soon be one of the defining challenges for the coming decades Empower businesses The consumer-facing applications of AI and ML feel stuck to me relegated to doing what humans can already do or more critically only what we trust them to do Over the next ten years I think well start seeing trust barriers decrease and as a result dependence on AI powered algorithms and machines will increase We started learning this lesson years ago building our consumer applications If youre going on a trip to Paris for example youd trust almost anything your friend recommends even if theyd only been to Paris once for a short trip just because they said so In the same situation we use sophisticated ML techniques to deliver extremely personalized recommendations but algorithms dont get the benefit of trust like a friend In order to gain user trust we had to try and explain the what the AI thought which defeats the power of it Today these ideas are starting to grow in acceptance and expectation as brands such as Foursquare continue to use ML to build location-aware technology that push the boundaries of mobile capabilitiesand gives developers analysts marketers and beyond a unique way of understanding and interacting with their users The industry excitement around this technology and the rich experiences built on top of it I hope and believe represent the tides of change Improve healthcare When it comes to healthcare theres a lot machines can do to help the doctor I dont see a future where we actually dont have doctors guiding but a lot of the busy work doctors have to do is better done using artificial intelligence If you think about a doctors career thirty or forty years the number of patients you can see during that time period is very limited Many doctors are burnt out overworked its a serious issue They also dont have time to keep themselves up to date on the most recent research treatment techniques and advancements in medication Machines can play a very important role here Artificial intelligence can access a much larger set of patient data of how they were treated and what the outcomes were You can imagine machines being in a much better position because machines can start doing the busy work around the diagnosis and humans can actually interact with the patient and work with artificial intelligence to improve outcomes That in my mind is super exciting Facilitate sustainability Artificial intelligence is going to impact every single industry and everything that we do On a bigger level areas like sustainability climate change environmental issues they are becoming more at the forefront of everybodys minds as we move more into the 21st century and think about the huge challenges we need to tackle like population increases urbanization and energy Theres so many different areas within urbanization that touch on city planning We can do that much more efficiently once we can track the movements of residents within cities and once we can map which areas we can use to improve the density of cities In the AI floodgates conversation Ive seen in the past six months or so a lot more companies wanting to focus on AI instead of just thinking about the quick goals of making workloads and businesses more efficient If we look at the bigger picture of AI for good then it connects us with more purpose and meaning Blend the lines of digital and physical Personally Im most interested in furthering spatial computing When you live in a world where your computer is not just bound to a specific device but can be anywhere you want to put it it means computers will have to react to humans much more intelligently than they do now Right now if you do something wrong today your computer throws up an error you close it and thats it But imagine if for example you had a full-scale game that was in your apartment and something went wrong Where does the dialog box go then Should there be one at all There are a lot of open questions around how humans will want to interact with their computers For example Foursquare did a really great job with having with having location-based notifications designed to give you the right information at the right time There are many many applications that should be making use of that kind of awareness today And in the future having these really intelligent ways of surfacing information are going to move from nice-to-haves to essentials And I for one will be looking forward to that because I want computers to be smarter already Make us smarter Computational power is going to continue to increase giving us more power to train our models The amount of data being created is going to continue to grow exponentially as well allowing us to monitor more elements in our platforms and our world Combine the two together with AI and it gives us the ability to be able to make more intelligent projections on future behavior and events as you can train more intelligent models and knowledge systems However in the financial services industry regulatory pressures could actually curb the power of AI to some degree by siloing off information used to train models thus cutting off one source of fuel AI needs to thrive slowing its ability to make an impact I believe peoples worries about AI becoming all powerful are unfounded Ultimately training an AI platform it is very much like molding a child If you treat it the right way and teach it the right things train it to know whats right and wrong it will inherently grow up to become a productive member of society that cares about people and the future Just like any one of us Inspire artists In ten years there will be some sort of algorithm involved in most decisions made big or small Artists like myself can get involved in artificial intelligence While such a mission may sound daunting its really about starting to use it exploring the capabilities of algorithms as well as what they can express through AI systems I encourage artists to try to use AI to create something beautiful and expressive the way they would with any other medium However I never want to see the technology become the artist We must think about AI as a tool for the augmentation of human thought and creation and make every effort not to turn the reigns of creativity or ethics over to the machines When deploying AI individuals businesses governments etc must consider how to maintain a sense of civility creativity and equity in the AI system being released into the world For industries the driving question is how can AI be used to increase productivity while respecting human diversity dignity and our cultural specificities'"
      ]
     },
     "execution_count": 118,
     "metadata": {},
     "output_type": "execute_result"
    }
   ],
   "source": [
    "# Replace end of line character with space\n",
    "text_raw.replace('\\n', ' ')"
   ]
  },
  {
   "cell_type": "code",
   "execution_count": 119,
   "id": "fdaf7e62",
   "metadata": {
    "execution": {
     "iopub.execute_input": "2023-05-10T01:43:08.953393Z",
     "iopub.status.busy": "2023-05-10T01:43:08.953289Z",
     "iopub.status.idle": "2023-05-10T01:43:08.955941Z",
     "shell.execute_reply": "2023-05-10T01:43:08.955725Z"
    }
   },
   "outputs": [],
   "source": [
    "# Save a lower-case version of each word to a list\n",
    "words_list = ['Inspire', 'artists', 'In', 'years', 'sort', 'algorithm', 'involved', 'decisions', 'big', 'small', 'Artists', 'like', 'involved', 'artificial', 'intelligence', 'While', 'mission', 'sound', 'daunting', 'really', 'starting', 'use', 'exploring', 'capabilities', 'algorithms', 'express', 'AI', 'systems', 'I', 'encourage', 'artists', 'try', 'use', 'AI', 'create', 'beautiful', 'expressive', 'way', 'medium', 'However', 'I', 'want', 'technology', 'artist', 'We', 'think', 'AI', 'tool', 'augmentation', 'human', 'thought', 'creation', 'make', 'effort', 'turn', 'reigns', 'creativity', 'ethics', 'machines', 'When', 'deploying', 'AI', 'individuals', 'businesses', 'governments', 'consider', 'maintain', 'sense', 'civility', 'creativity', 'equity', 'AI', 'released', 'world', 'For', 'industries', 'driving', 'question', 'AI', 'used', 'increase', 'productivity', 'respecting', 'human', 'diversity', 'dignity', 'cultural', 'specificities']"
   ]
  },
  {
   "cell_type": "code",
   "execution_count": 120,
   "id": "3c875a77",
   "metadata": {
    "execution": {
     "iopub.execute_input": "2023-05-10T01:43:08.957343Z",
     "iopub.status.busy": "2023-05-10T01:43:08.957241Z",
     "iopub.status.idle": "2023-05-10T01:43:08.958864Z",
     "shell.execute_reply": "2023-05-10T01:43:08.958624Z"
    }
   },
   "outputs": [],
   "source": [
    "# Eliminate non alpha elements\n",
    "text_list = [word.lower() for word in words_list if word.isalpha()]"
   ]
  },
  {
   "cell_type": "code",
   "execution_count": 121,
   "id": "b753bcde",
   "metadata": {
    "execution": {
     "iopub.execute_input": "2023-05-10T01:43:08.960203Z",
     "iopub.status.busy": "2023-05-10T01:43:08.960125Z",
     "iopub.status.idle": "2023-05-10T01:43:08.961728Z",
     "shell.execute_reply": "2023-05-10T01:43:08.961510Z"
    }
   },
   "outputs": [],
   "source": [
    "# Transforming the list into a string for displaying\n",
    "text_str = ' '.join(text_list)"
   ]
  },
  {
   "cell_type": "code",
   "execution_count": 122,
   "id": "8ff8c32b",
   "metadata": {
    "execution": {
     "iopub.execute_input": "2023-05-10T01:43:08.963007Z",
     "iopub.status.busy": "2023-05-10T01:43:08.962928Z",
     "iopub.status.idle": "2023-05-10T01:43:08.969469Z",
     "shell.execute_reply": "2023-05-10T01:43:08.969208Z"
    }
   },
   "outputs": [
    {
     "ename": "NameError",
     "evalue": "name 'STOPWORDS' is not defined",
     "output_type": "error",
     "traceback": [
      "\u001b[0;31m---------------------------------------------------------------------------\u001b[0m",
      "\u001b[0;31mNameError\u001b[0m                                 Traceback (most recent call last)",
      "Cell \u001b[0;32mIn [122], line 2\u001b[0m\n\u001b[1;32m      1\u001b[0m \u001b[38;5;66;03m# Crating and updating the stopword list\u001b[39;00m\n\u001b[0;32m----> 2\u001b[0m stpwords \u001b[38;5;241m=\u001b[39m \u001b[38;5;28mset\u001b[39m(\u001b[43mSTOPWORDS\u001b[49m)\n\u001b[1;32m      3\u001b[0m stpwords\u001b[38;5;241m.\u001b[39madd(\u001b[38;5;124m'\u001b[39m\u001b[38;5;124mwill\u001b[39m\u001b[38;5;124m'\u001b[39m)\n\u001b[1;32m      4\u001b[0m stpwords\u001b[38;5;241m.\u001b[39madd(\u001b[38;5;124m'\u001b[39m\u001b[38;5;124msaid\u001b[39m\u001b[38;5;124m'\u001b[39m)\n",
      "\u001b[0;31mNameError\u001b[0m: name 'STOPWORDS' is not defined"
     ]
    }
   ],
   "source": [
    "# Crating and updating the stopword list\n",
    "stpwords = set(STOPWORDS)\n",
    "stpwords.add('will')\n",
    "stpwords.add('said')"
   ]
  },
  {
   "cell_type": "code",
   "execution_count": 123,
   "id": "a35f0573",
   "metadata": {
    "execution": {
     "iopub.execute_input": "2023-05-10T01:43:08.970804Z",
     "iopub.status.busy": "2023-05-10T01:43:08.970726Z",
     "iopub.status.idle": "2023-05-10T01:43:08.977797Z",
     "shell.execute_reply": "2023-05-10T01:43:08.977567Z"
    }
   },
   "outputs": [
    {
     "ename": "NameError",
     "evalue": "name 'WordCloud' is not defined",
     "output_type": "error",
     "traceback": [
      "\u001b[0;31m---------------------------------------------------------------------------\u001b[0m",
      "\u001b[0;31mNameError\u001b[0m                                 Traceback (most recent call last)",
      "Cell \u001b[0;32mIn [123], line 2\u001b[0m\n\u001b[1;32m      1\u001b[0m \u001b[38;5;66;03m# Defining the wordcloud parameters\u001b[39;00m\n\u001b[0;32m----> 2\u001b[0m wc \u001b[38;5;241m=\u001b[39m \u001b[43mWordCloud\u001b[49m(background_color\u001b[38;5;241m=\u001b[39m\u001b[38;5;124m\"\u001b[39m\u001b[38;5;124mwhite\u001b[39m\u001b[38;5;124m\"\u001b[39m, max_words\u001b[38;5;241m=\u001b[39m\u001b[38;5;241m2000\u001b[39m,stopwords\u001b[38;5;241m=\u001b[39mstpwords)\n",
      "\u001b[0;31mNameError\u001b[0m: name 'WordCloud' is not defined"
     ]
    }
   ],
   "source": [
    "# Defining the wordcloud parameters\n",
    "wc = WordCloud(background_color=\"white\", max_words=2000,stopwords=stpwords)"
   ]
  },
  {
   "cell_type": "code",
   "execution_count": 124,
   "id": "359054f3",
   "metadata": {
    "execution": {
     "iopub.execute_input": "2023-05-10T01:43:08.979236Z",
     "iopub.status.busy": "2023-05-10T01:43:08.979160Z",
     "iopub.status.idle": "2023-05-10T01:43:08.985380Z",
     "shell.execute_reply": "2023-05-10T01:43:08.985120Z"
    }
   },
   "outputs": [
    {
     "ename": "NameError",
     "evalue": "name 'wc' is not defined",
     "output_type": "error",
     "traceback": [
      "\u001b[0;31m---------------------------------------------------------------------------\u001b[0m",
      "\u001b[0;31mNameError\u001b[0m                                 Traceback (most recent call last)",
      "Cell \u001b[0;32mIn [124], line 2\u001b[0m\n\u001b[1;32m      1\u001b[0m \u001b[38;5;66;03m# Generate word cloud\u001b[39;00m\n\u001b[0;32m----> 2\u001b[0m \u001b[43mwc\u001b[49m\u001b[38;5;241m.\u001b[39mgenerate(text_str)\n",
      "\u001b[0;31mNameError\u001b[0m: name 'wc' is not defined"
     ]
    }
   ],
   "source": [
    "# Generate word cloud\n",
    "wc.generate(text_str)"
   ]
  },
  {
   "cell_type": "markdown",
   "id": "8e61e125",
   "metadata": {},
   "source": [
    "Store to file\n",
    "wc.to_file('Trump.png')"
   ]
  },
  {
   "cell_type": "code",
   "execution_count": 125,
   "id": "721487cc",
   "metadata": {
    "execution": {
     "iopub.execute_input": "2023-05-10T01:43:08.986923Z",
     "iopub.status.busy": "2023-05-10T01:43:08.986823Z",
     "iopub.status.idle": "2023-05-10T01:43:08.993204Z",
     "shell.execute_reply": "2023-05-10T01:43:08.992959Z"
    }
   },
   "outputs": [
    {
     "ename": "NameError",
     "evalue": "name 'plt' is not defined",
     "output_type": "error",
     "traceback": [
      "\u001b[0;31m---------------------------------------------------------------------------\u001b[0m",
      "\u001b[0;31mNameError\u001b[0m                                 Traceback (most recent call last)",
      "Cell \u001b[0;32mIn [125], line 2\u001b[0m\n\u001b[1;32m      1\u001b[0m \u001b[38;5;66;03m# Show the cloud\u001b[39;00m\n\u001b[0;32m----> 2\u001b[0m \u001b[43mplt\u001b[49m\u001b[38;5;241m.\u001b[39mimshow(wc)\n\u001b[1;32m      3\u001b[0m plt\u001b[38;5;241m.\u001b[39maxis(\u001b[38;5;124m'\u001b[39m\u001b[38;5;124moff\u001b[39m\u001b[38;5;124m'\u001b[39m)\n\u001b[1;32m      4\u001b[0m plt\u001b[38;5;241m.\u001b[39mshow()\n",
      "\u001b[0;31mNameError\u001b[0m: name 'plt' is not defined"
     ]
    }
   ],
   "source": [
    "# Show the cloud\n",
    "plt.imshow(wc)\n",
    "plt.axis('off')\n",
    "plt.show()"
   ]
  },
  {
   "cell_type": "markdown",
   "id": "e6804461",
   "metadata": {},
   "source": [
    "This script reads a text file, clean it in part and generates a word cloud using the words in the text"
   ]
  },
  {
   "cell_type": "code",
   "execution_count": 126,
   "id": "7d673ab6",
   "metadata": {
    "execution": {
     "iopub.execute_input": "2023-05-10T01:43:08.994563Z",
     "iopub.status.busy": "2023-05-10T01:43:08.994484Z",
     "iopub.status.idle": "2023-05-10T01:43:09.000729Z",
     "shell.execute_reply": "2023-05-10T01:43:09.000450Z"
    }
   },
   "outputs": [
    {
     "ename": "ModuleNotFoundError",
     "evalue": "No module named 'wordcloud'",
     "output_type": "error",
     "traceback": [
      "\u001b[0;31m---------------------------------------------------------------------------\u001b[0m",
      "\u001b[0;31mModuleNotFoundError\u001b[0m                       Traceback (most recent call last)",
      "Cell \u001b[0;32mIn [126], line 2\u001b[0m\n\u001b[1;32m      1\u001b[0m \u001b[38;5;66;03m# Importing the required libraries\u001b[39;00m\n\u001b[0;32m----> 2\u001b[0m \u001b[38;5;28;01mfrom\u001b[39;00m \u001b[38;5;21;01mwordcloud\u001b[39;00m \u001b[38;5;28;01mimport\u001b[39;00m WordCloud, STOPWORDS\n\u001b[1;32m      3\u001b[0m \u001b[38;5;28;01mimport\u001b[39;00m \u001b[38;5;21;01mmatplotlib\u001b[39;00m\u001b[38;5;21;01m.\u001b[39;00m\u001b[38;5;21;01mpyplot\u001b[39;00m \u001b[38;5;28;01mas\u001b[39;00m \u001b[38;5;21;01mplt\u001b[39;00m\n",
      "\u001b[0;31mModuleNotFoundError\u001b[0m: No module named 'wordcloud'"
     ]
    }
   ],
   "source": [
    "# Importing the required libraries\n",
    "from wordcloud import WordCloud, STOPWORDS\n",
    "import matplotlib.pyplot as plt"
   ]
  },
  {
   "cell_type": "markdown",
   "id": "88ee71cd",
   "metadata": {},
   "source": [
    "Read the whole text\n",
    "file_read = open('ai_trends.txt' 'rU')\n",
    "text_raw = file_read.read()"
   ]
  },
  {
   "cell_type": "code",
   "execution_count": 127,
   "id": "a6c8e72e",
   "metadata": {
    "execution": {
     "iopub.execute_input": "2023-05-10T01:43:09.002129Z",
     "iopub.status.busy": "2023-05-10T01:43:09.002047Z",
     "iopub.status.idle": "2023-05-10T01:43:09.004295Z",
     "shell.execute_reply": "2023-05-10T01:43:09.004068Z"
    }
   },
   "outputs": [
    {
     "data": {
      "text/plain": [
       "'Increase security Drones are going to change the way we live I think of drones now as the equivalent of what phones were in the 90s Drones open up the ability to transport things through the air over short distances and in complex spaces which is just not something we have another solution for today Whether thats package delivery or emergency response or delivering medical products urgently all of those things become possible immediately One of the amazing things about drones is that they fly The idea that you can have something routinely inspect places that are hard to look at will make our world dramatically safer It will be another way in which drones will help us realize this future vision a lot of us have of whats going to happen this network of autonomous drones flying around taking care of things and interacting with us It will bring an immediacy to what theyre doing in the same way a smartphone in your hand made that change so readily apparent Generate new services and potentially social issues Artificial intelligence really means the extension of our ability to solve problems and to generate new ideas Its quite possible that 10 years will get us to an inflection point after which we will see advancement at an unprecedented rate AI and and robotics will have been assimilated into business operations and will be having a major impact on efficiency in organizations Entirely new AI-based products and services will have created new consumer and industrial markets At the same time AI will bring along new challenges perhaps most importantly increasing inequality and possibly unemployment as routine predictable types of work are automated There will also be critical challenges in areas like privacy security algorithmic bias and military applications of AI Ten years from now a vibrant debate about these issues will have likely come to the forefront of our political and social discourse Finding a way to address these issues on behalf of humanity will soon be one of the defining challenges for the coming decades Empower businesses The consumer-facing applications of AI and ML feel stuck to me relegated to doing what humans can already do or more critically only what we trust them to do Over the next ten years I think well start seeing trust barriers decrease and as a result dependence on AI powered algorithms and machines will increase We started learning this lesson years ago building our consumer applications If youre going on a trip to Paris for example youd trust almost anything your friend recommends even if theyd only been to Paris once for a short trip just because they said so In the same situation we use sophisticated ML techniques to deliver extremely personalized recommendations but algorithms dont get the benefit of trust like a friend In order to gain user trust we had to try and explain the what the AI thought which defeats the power of it Today these ideas are starting to grow in acceptance and expectation as brands such as Foursquare continue to use ML to build location-aware technology that push the boundaries of mobile capabilitiesand gives developers analysts marketers and beyond a unique way of understanding and interacting with their users The industry excitement around this technology and the rich experiences built on top of it I hope and believe represent the tides of change Improve healthcare When it comes to healthcare theres a lot machines can do to help the doctor I dont see a future where we actually dont have doctors guiding but a lot of the busy work doctors have to do is better done using artificial intelligence If you think about a doctors career thirty or forty years the number of patients you can see during that time period is very limited Many doctors are burnt out overworked its a serious issue They also dont have time to keep themselves up to date on the most recent research treatment techniques and advancements in medication Machines can play a very important role here Artificial intelligence can access a much larger set of patient data of how they were treated and what the outcomes were You can imagine machines being in a much better position because machines can start doing the busy work around the diagnosis and humans can actually interact with the patient and work with artificial intelligence to improve outcomes That in my mind is super exciting Facilitate sustainability Artificial intelligence is going to impact every single industry and everything that we do On a bigger level areas like sustainability climate change environmental issues they are becoming more at the forefront of everybodys minds as we move more into the 21st century and think about the huge challenges we need to tackle like population increases urbanization and energy Theres so many different areas within urbanization that touch on city planning We can do that much more efficiently once we can track the movements of residents within cities and once we can map which areas we can use to improve the density of cities In the AI floodgates conversation Ive seen in the past six months or so a lot more companies wanting to focus on AI instead of just thinking about the quick goals of making workloads and businesses more efficient If we look at the bigger picture of AI for good then it connects us with more purpose and meaning Blend the lines of digital and physical Personally Im most interested in furthering spatial computing When you live in a world where your computer is not just bound to a specific device but can be anywhere you want to put it it means computers will have to react to humans much more intelligently than they do now Right now if you do something wrong today your computer throws up an error you close it and thats it But imagine if for example you had a full-scale game that was in your apartment and something went wrong Where does the dialog box go then Should there be one at all There are a lot of open questions around how humans will want to interact with their computers For example Foursquare did a really great job with having with having location-based notifications designed to give you the right information at the right time There are many many applications that should be making use of that kind of awareness today And in the future having these really intelligent ways of surfacing information are going to move from nice-to-haves to essentials And I for one will be looking forward to that because I want computers to be smarter already Make us smarter Computational power is going to continue to increase giving us more power to train our models The amount of data being created is going to continue to grow exponentially as well allowing us to monitor more elements in our platforms and our world Combine the two together with AI and it gives us the ability to be able to make more intelligent projections on future behavior and events as you can train more intelligent models and knowledge systems However in the financial services industry regulatory pressures could actually curb the power of AI to some degree by siloing off information used to train models thus cutting off one source of fuel AI needs to thrive slowing its ability to make an impact I believe peoples worries about AI becoming all powerful are unfounded Ultimately training an AI platform it is very much like molding a child If you treat it the right way and teach it the right things train it to know whats right and wrong it will inherently grow up to become a productive member of society that cares about people and the future Just like any one of us Inspire artists In ten years there will be some sort of algorithm involved in most decisions made big or small Artists like myself can get involved in artificial intelligence While such a mission may sound daunting its really about starting to use it exploring the capabilities of algorithms as well as what they can express through AI systems I encourage artists to try to use AI to create something beautiful and expressive the way they would with any other medium However I never want to see the technology become the artist We must think about AI as a tool for the augmentation of human thought and creation and make every effort not to turn the reigns of creativity or ethics over to the machines When deploying AI individuals businesses governments etc must consider how to maintain a sense of civility creativity and equity in the AI system being released into the world For industries the driving question is how can AI be used to increase productivity while respecting human diversity dignity and our cultural specificities'"
      ]
     },
     "execution_count": 127,
     "metadata": {},
     "output_type": "execute_result"
    }
   ],
   "source": [
    "# Replace end of line character with space\n",
    "text_raw.replace('\\n', ' ')"
   ]
  },
  {
   "cell_type": "code",
   "execution_count": 128,
   "id": "9347ff49",
   "metadata": {
    "execution": {
     "iopub.execute_input": "2023-05-10T01:43:09.005615Z",
     "iopub.status.busy": "2023-05-10T01:43:09.005538Z",
     "iopub.status.idle": "2023-05-10T01:43:09.008211Z",
     "shell.execute_reply": "2023-05-10T01:43:09.007990Z"
    }
   },
   "outputs": [],
   "source": [
    "# Save a lower-case version of each word to a list\n",
    "words_list = ['Inspire', 'artists', 'In', 'years', 'sort', 'algorithm', 'involved', 'decisions', 'big', 'small', 'Artists', 'like', 'involved', 'artificial', 'intelligence', 'While', 'mission', 'sound', 'daunting', 'really', 'starting', 'use', 'exploring', 'capabilities', 'algorithms', 'express', 'AI', 'systems', 'I', 'encourage', 'artists', 'try', 'use', 'AI', 'create', 'beautiful', 'expressive', 'way', 'medium', 'However', 'I', 'want', 'technology', 'artist', 'We', 'think', 'AI', 'tool', 'augmentation', 'human', 'thought', 'creation', 'make', 'effort', 'turn', 'reigns', 'creativity', 'ethics', 'machines', 'When', 'deploying', 'AI', 'individuals', 'businesses', 'governments', 'consider', 'maintain', 'sense', 'civility', 'creativity', 'equity', 'AI', 'released', 'world', 'For', 'industries', 'driving', 'question', 'AI', 'used', 'increase', 'productivity', 'respecting', 'human', 'diversity', 'dignity', 'cultural', 'specificities']"
   ]
  },
  {
   "cell_type": "code",
   "execution_count": 129,
   "id": "4dcbd62b",
   "metadata": {
    "execution": {
     "iopub.execute_input": "2023-05-10T01:43:09.009553Z",
     "iopub.status.busy": "2023-05-10T01:43:09.009482Z",
     "iopub.status.idle": "2023-05-10T01:43:09.011169Z",
     "shell.execute_reply": "2023-05-10T01:43:09.010954Z"
    }
   },
   "outputs": [],
   "source": [
    "# Eliminate non alpha elements\n",
    "text_list = [word.lower() for word in words_list if word.isalpha()]"
   ]
  },
  {
   "cell_type": "code",
   "execution_count": 130,
   "id": "4688bc99",
   "metadata": {
    "execution": {
     "iopub.execute_input": "2023-05-10T01:43:09.012487Z",
     "iopub.status.busy": "2023-05-10T01:43:09.012405Z",
     "iopub.status.idle": "2023-05-10T01:43:09.013887Z",
     "shell.execute_reply": "2023-05-10T01:43:09.013661Z"
    }
   },
   "outputs": [],
   "source": [
    "# Transforming the list into a string for displaying\n",
    "text_str = ' '.join(text_list)"
   ]
  },
  {
   "cell_type": "markdown",
   "id": "586104d9",
   "metadata": {},
   "source": [
    "Crating and updating the stopword list\n",
    "stpwords = set(STOPWORDS)\n",
    "stpwords.add('will')\n",
    "stpwords.add('said')"
   ]
  },
  {
   "cell_type": "code",
   "execution_count": 131,
   "id": "f67e7cd0",
   "metadata": {
    "execution": {
     "iopub.execute_input": "2023-05-10T01:43:09.015200Z",
     "iopub.status.busy": "2023-05-10T01:43:09.015115Z",
     "iopub.status.idle": "2023-05-10T01:43:09.021708Z",
     "shell.execute_reply": "2023-05-10T01:43:09.021463Z"
    }
   },
   "outputs": [
    {
     "ename": "NameError",
     "evalue": "name 'WordCloud' is not defined",
     "output_type": "error",
     "traceback": [
      "\u001b[0;31m---------------------------------------------------------------------------\u001b[0m",
      "\u001b[0;31mNameError\u001b[0m                                 Traceback (most recent call last)",
      "Cell \u001b[0;32mIn [131], line 2\u001b[0m\n\u001b[1;32m      1\u001b[0m \u001b[38;5;66;03m# Defining the wordcloud parameters\u001b[39;00m\n\u001b[0;32m----> 2\u001b[0m wc \u001b[38;5;241m=\u001b[39m \u001b[43mWordCloud\u001b[49m(background_color\u001b[38;5;241m=\u001b[39m\u001b[38;5;124m\"\u001b[39m\u001b[38;5;124mwhite\u001b[39m\u001b[38;5;124m\"\u001b[39m, max_words\u001b[38;5;241m=\u001b[39m\u001b[38;5;241m2000\u001b[39m,stopwords\u001b[38;5;241m=\u001b[39mstpwords)\n",
      "\u001b[0;31mNameError\u001b[0m: name 'WordCloud' is not defined"
     ]
    }
   ],
   "source": [
    "# Defining the wordcloud parameters\n",
    "wc = WordCloud(background_color=\"white\", max_words=2000,stopwords=stpwords)"
   ]
  },
  {
   "cell_type": "code",
   "execution_count": 132,
   "id": "390b201b",
   "metadata": {
    "execution": {
     "iopub.execute_input": "2023-05-10T01:43:09.023136Z",
     "iopub.status.busy": "2023-05-10T01:43:09.023031Z",
     "iopub.status.idle": "2023-05-10T01:43:09.029145Z",
     "shell.execute_reply": "2023-05-10T01:43:09.028917Z"
    }
   },
   "outputs": [
    {
     "ename": "NameError",
     "evalue": "name 'wc' is not defined",
     "output_type": "error",
     "traceback": [
      "\u001b[0;31m---------------------------------------------------------------------------\u001b[0m",
      "\u001b[0;31mNameError\u001b[0m                                 Traceback (most recent call last)",
      "Cell \u001b[0;32mIn [132], line 2\u001b[0m\n\u001b[1;32m      1\u001b[0m \u001b[38;5;66;03m# Generate word cloud\u001b[39;00m\n\u001b[0;32m----> 2\u001b[0m \u001b[43mwc\u001b[49m\u001b[38;5;241m.\u001b[39mgenerate(text_str)\n",
      "\u001b[0;31mNameError\u001b[0m: name 'wc' is not defined"
     ]
    }
   ],
   "source": [
    "# Generate word cloud\n",
    "wc.generate(text_str)"
   ]
  },
  {
   "cell_type": "markdown",
   "id": "e3aac943",
   "metadata": {},
   "source": [
    "Store to file\n",
    "wc.to_file('Trump.png')"
   ]
  },
  {
   "cell_type": "code",
   "execution_count": 133,
   "id": "530ed4d4",
   "metadata": {
    "execution": {
     "iopub.execute_input": "2023-05-10T01:43:09.030487Z",
     "iopub.status.busy": "2023-05-10T01:43:09.030403Z",
     "iopub.status.idle": "2023-05-10T01:43:09.036701Z",
     "shell.execute_reply": "2023-05-10T01:43:09.036447Z"
    }
   },
   "outputs": [
    {
     "ename": "NameError",
     "evalue": "name 'plt' is not defined",
     "output_type": "error",
     "traceback": [
      "\u001b[0;31m---------------------------------------------------------------------------\u001b[0m",
      "\u001b[0;31mNameError\u001b[0m                                 Traceback (most recent call last)",
      "Cell \u001b[0;32mIn [133], line 2\u001b[0m\n\u001b[1;32m      1\u001b[0m \u001b[38;5;66;03m# Show the cloud\u001b[39;00m\n\u001b[0;32m----> 2\u001b[0m \u001b[43mplt\u001b[49m\u001b[38;5;241m.\u001b[39mimshow(wc)\n\u001b[1;32m      3\u001b[0m plt\u001b[38;5;241m.\u001b[39maxis(\u001b[38;5;124m'\u001b[39m\u001b[38;5;124moff\u001b[39m\u001b[38;5;124m'\u001b[39m)\n\u001b[1;32m      4\u001b[0m plt\u001b[38;5;241m.\u001b[39mshow()\n",
      "\u001b[0;31mNameError\u001b[0m: name 'plt' is not defined"
     ]
    }
   ],
   "source": [
    "# Show the cloud\n",
    "plt.imshow(wc)\n",
    "plt.axis('off')\n",
    "plt.show()"
   ]
  },
  {
   "cell_type": "markdown",
   "id": "bae3af4e",
   "metadata": {},
   "source": [
    "This script reads a text file, clean it in part and generates a word cloud using the words in the text"
   ]
  },
  {
   "cell_type": "code",
   "execution_count": 134,
   "id": "3a5c6809",
   "metadata": {
    "execution": {
     "iopub.execute_input": "2023-05-10T01:43:09.038110Z",
     "iopub.status.busy": "2023-05-10T01:43:09.038032Z",
     "iopub.status.idle": "2023-05-10T01:43:09.044396Z",
     "shell.execute_reply": "2023-05-10T01:43:09.044161Z"
    }
   },
   "outputs": [
    {
     "ename": "ModuleNotFoundError",
     "evalue": "No module named 'wordcloud'",
     "output_type": "error",
     "traceback": [
      "\u001b[0;31m---------------------------------------------------------------------------\u001b[0m",
      "\u001b[0;31mModuleNotFoundError\u001b[0m                       Traceback (most recent call last)",
      "Cell \u001b[0;32mIn [134], line 2\u001b[0m\n\u001b[1;32m      1\u001b[0m \u001b[38;5;66;03m# Importing the required libraries\u001b[39;00m\n\u001b[0;32m----> 2\u001b[0m \u001b[38;5;28;01mfrom\u001b[39;00m \u001b[38;5;21;01mwordcloud\u001b[39;00m \u001b[38;5;28;01mimport\u001b[39;00m WordCloud, STOPWORDS\n\u001b[1;32m      3\u001b[0m \u001b[38;5;28;01mimport\u001b[39;00m \u001b[38;5;21;01mmatplotlib\u001b[39;00m\u001b[38;5;21;01m.\u001b[39;00m\u001b[38;5;21;01mpyplot\u001b[39;00m \u001b[38;5;28;01mas\u001b[39;00m \u001b[38;5;21;01mplt\u001b[39;00m\n",
      "\u001b[0;31mModuleNotFoundError\u001b[0m: No module named 'wordcloud'"
     ]
    }
   ],
   "source": [
    "# Importing the required libraries\n",
    "from wordcloud import WordCloud, STOPWORDS\n",
    "import matplotlib.pyplot as plt"
   ]
  },
  {
   "cell_type": "markdown",
   "id": "baa97d8b",
   "metadata": {},
   "source": [
    "Read the whole text\n",
    "file_read = open('ai_trends.txt' 'rU')\n",
    "text_raw = file_read.read()"
   ]
  },
  {
   "cell_type": "code",
   "execution_count": 135,
   "id": "3c9a20fe",
   "metadata": {
    "execution": {
     "iopub.execute_input": "2023-05-10T01:43:09.045799Z",
     "iopub.status.busy": "2023-05-10T01:43:09.045715Z",
     "iopub.status.idle": "2023-05-10T01:43:09.047870Z",
     "shell.execute_reply": "2023-05-10T01:43:09.047644Z"
    }
   },
   "outputs": [
    {
     "data": {
      "text/plain": [
       "'Increase security Drones are going to change the way we live I think of drones now as the equivalent of what phones were in the 90s Drones open up the ability to transport things through the air over short distances and in complex spaces which is just not something we have another solution for today Whether thats package delivery or emergency response or delivering medical products urgently all of those things become possible immediately One of the amazing things about drones is that they fly The idea that you can have something routinely inspect places that are hard to look at will make our world dramatically safer It will be another way in which drones will help us realize this future vision a lot of us have of whats going to happen this network of autonomous drones flying around taking care of things and interacting with us It will bring an immediacy to what theyre doing in the same way a smartphone in your hand made that change so readily apparent Generate new services and potentially social issues Artificial intelligence really means the extension of our ability to solve problems and to generate new ideas Its quite possible that 10 years will get us to an inflection point after which we will see advancement at an unprecedented rate AI and and robotics will have been assimilated into business operations and will be having a major impact on efficiency in organizations Entirely new AI-based products and services will have created new consumer and industrial markets At the same time AI will bring along new challenges perhaps most importantly increasing inequality and possibly unemployment as routine predictable types of work are automated There will also be critical challenges in areas like privacy security algorithmic bias and military applications of AI Ten years from now a vibrant debate about these issues will have likely come to the forefront of our political and social discourse Finding a way to address these issues on behalf of humanity will soon be one of the defining challenges for the coming decades Empower businesses The consumer-facing applications of AI and ML feel stuck to me relegated to doing what humans can already do or more critically only what we trust them to do Over the next ten years I think well start seeing trust barriers decrease and as a result dependence on AI powered algorithms and machines will increase We started learning this lesson years ago building our consumer applications If youre going on a trip to Paris for example youd trust almost anything your friend recommends even if theyd only been to Paris once for a short trip just because they said so In the same situation we use sophisticated ML techniques to deliver extremely personalized recommendations but algorithms dont get the benefit of trust like a friend In order to gain user trust we had to try and explain the what the AI thought which defeats the power of it Today these ideas are starting to grow in acceptance and expectation as brands such as Foursquare continue to use ML to build location-aware technology that push the boundaries of mobile capabilitiesand gives developers analysts marketers and beyond a unique way of understanding and interacting with their users The industry excitement around this technology and the rich experiences built on top of it I hope and believe represent the tides of change Improve healthcare When it comes to healthcare theres a lot machines can do to help the doctor I dont see a future where we actually dont have doctors guiding but a lot of the busy work doctors have to do is better done using artificial intelligence If you think about a doctors career thirty or forty years the number of patients you can see during that time period is very limited Many doctors are burnt out overworked its a serious issue They also dont have time to keep themselves up to date on the most recent research treatment techniques and advancements in medication Machines can play a very important role here Artificial intelligence can access a much larger set of patient data of how they were treated and what the outcomes were You can imagine machines being in a much better position because machines can start doing the busy work around the diagnosis and humans can actually interact with the patient and work with artificial intelligence to improve outcomes That in my mind is super exciting Facilitate sustainability Artificial intelligence is going to impact every single industry and everything that we do On a bigger level areas like sustainability climate change environmental issues they are becoming more at the forefront of everybodys minds as we move more into the 21st century and think about the huge challenges we need to tackle like population increases urbanization and energy Theres so many different areas within urbanization that touch on city planning We can do that much more efficiently once we can track the movements of residents within cities and once we can map which areas we can use to improve the density of cities In the AI floodgates conversation Ive seen in the past six months or so a lot more companies wanting to focus on AI instead of just thinking about the quick goals of making workloads and businesses more efficient If we look at the bigger picture of AI for good then it connects us with more purpose and meaning Blend the lines of digital and physical Personally Im most interested in furthering spatial computing When you live in a world where your computer is not just bound to a specific device but can be anywhere you want to put it it means computers will have to react to humans much more intelligently than they do now Right now if you do something wrong today your computer throws up an error you close it and thats it But imagine if for example you had a full-scale game that was in your apartment and something went wrong Where does the dialog box go then Should there be one at all There are a lot of open questions around how humans will want to interact with their computers For example Foursquare did a really great job with having with having location-based notifications designed to give you the right information at the right time There are many many applications that should be making use of that kind of awareness today And in the future having these really intelligent ways of surfacing information are going to move from nice-to-haves to essentials And I for one will be looking forward to that because I want computers to be smarter already Make us smarter Computational power is going to continue to increase giving us more power to train our models The amount of data being created is going to continue to grow exponentially as well allowing us to monitor more elements in our platforms and our world Combine the two together with AI and it gives us the ability to be able to make more intelligent projections on future behavior and events as you can train more intelligent models and knowledge systems However in the financial services industry regulatory pressures could actually curb the power of AI to some degree by siloing off information used to train models thus cutting off one source of fuel AI needs to thrive slowing its ability to make an impact I believe peoples worries about AI becoming all powerful are unfounded Ultimately training an AI platform it is very much like molding a child If you treat it the right way and teach it the right things train it to know whats right and wrong it will inherently grow up to become a productive member of society that cares about people and the future Just like any one of us Inspire artists In ten years there will be some sort of algorithm involved in most decisions made big or small Artists like myself can get involved in artificial intelligence While such a mission may sound daunting its really about starting to use it exploring the capabilities of algorithms as well as what they can express through AI systems I encourage artists to try to use AI to create something beautiful and expressive the way they would with any other medium However I never want to see the technology become the artist We must think about AI as a tool for the augmentation of human thought and creation and make every effort not to turn the reigns of creativity or ethics over to the machines When deploying AI individuals businesses governments etc must consider how to maintain a sense of civility creativity and equity in the AI system being released into the world For industries the driving question is how can AI be used to increase productivity while respecting human diversity dignity and our cultural specificities'"
      ]
     },
     "execution_count": 135,
     "metadata": {},
     "output_type": "execute_result"
    }
   ],
   "source": [
    "# Replace end of line character with space\n",
    "text_raw.replace('\\n', ' ')"
   ]
  },
  {
   "cell_type": "code",
   "execution_count": 136,
   "id": "aab3e407",
   "metadata": {
    "execution": {
     "iopub.execute_input": "2023-05-10T01:43:09.049247Z",
     "iopub.status.busy": "2023-05-10T01:43:09.049165Z",
     "iopub.status.idle": "2023-05-10T01:43:09.051912Z",
     "shell.execute_reply": "2023-05-10T01:43:09.051650Z"
    }
   },
   "outputs": [],
   "source": [
    "# Save a lower-case version of each word to a list\n",
    "words_list = ['Inspire', 'artists', 'In', 'years', 'sort', 'algorithm', 'involved', 'decisions', 'big', 'small', 'Artists', 'like', 'involved', 'artificial', 'intelligence', 'While', 'mission', 'sound', 'daunting', 'really', 'starting', 'use', 'exploring', 'capabilities', 'algorithms', 'express', 'AI', 'systems', 'I', 'encourage', 'artists', 'try', 'use', 'AI', 'create', 'beautiful', 'expressive', 'way', 'medium', 'However', 'I', 'want', 'technology', 'artist', 'We', 'think', 'AI', 'tool', 'augmentation', 'human', 'thought', 'creation', 'make', 'effort', 'turn', 'reigns', 'creativity', 'ethics', 'machines', 'When', 'deploying', 'AI', 'individuals', 'businesses', 'governments', 'consider', 'maintain', 'sense', 'civility', 'creativity', 'equity', 'AI', 'released', 'world', 'For', 'industries', 'driving', 'question', 'AI', 'used', 'increase', 'productivity', 'respecting', 'human', 'diversity', 'dignity', 'cultural', 'specificities']"
   ]
  },
  {
   "cell_type": "code",
   "execution_count": 137,
   "id": "4cc71414",
   "metadata": {
    "execution": {
     "iopub.execute_input": "2023-05-10T01:43:09.053298Z",
     "iopub.status.busy": "2023-05-10T01:43:09.053212Z",
     "iopub.status.idle": "2023-05-10T01:43:09.054967Z",
     "shell.execute_reply": "2023-05-10T01:43:09.054748Z"
    }
   },
   "outputs": [],
   "source": [
    "# Eliminate non alpha elements\n",
    "text_list = [word.lower() for word in words_list if word.isalpha()]"
   ]
  },
  {
   "cell_type": "code",
   "execution_count": 138,
   "id": "69a63935",
   "metadata": {
    "execution": {
     "iopub.execute_input": "2023-05-10T01:43:09.056251Z",
     "iopub.status.busy": "2023-05-10T01:43:09.056177Z",
     "iopub.status.idle": "2023-05-10T01:43:09.057717Z",
     "shell.execute_reply": "2023-05-10T01:43:09.057501Z"
    }
   },
   "outputs": [],
   "source": [
    "# Transforming the list into a string for displaying\n",
    "text_str = ' '.join(text_list)"
   ]
  },
  {
   "cell_type": "markdown",
   "id": "54506eb6",
   "metadata": {},
   "source": [
    "Crating and updating the stopword list\n",
    "stpwords = set(STOPWORDS)\n",
    "stpwords.add('will')\n",
    "stpwords.add('said')"
   ]
  },
  {
   "cell_type": "code",
   "execution_count": 139,
   "id": "3e4d5fa6",
   "metadata": {
    "execution": {
     "iopub.execute_input": "2023-05-10T01:43:09.059036Z",
     "iopub.status.busy": "2023-05-10T01:43:09.058959Z",
     "iopub.status.idle": "2023-05-10T01:43:09.065423Z",
     "shell.execute_reply": "2023-05-10T01:43:09.065188Z"
    }
   },
   "outputs": [
    {
     "ename": "NameError",
     "evalue": "name 'WordCloud' is not defined",
     "output_type": "error",
     "traceback": [
      "\u001b[0;31m---------------------------------------------------------------------------\u001b[0m",
      "\u001b[0;31mNameError\u001b[0m                                 Traceback (most recent call last)",
      "Cell \u001b[0;32mIn [139], line 2\u001b[0m\n\u001b[1;32m      1\u001b[0m \u001b[38;5;66;03m# Defining the wordcloud parameters\u001b[39;00m\n\u001b[0;32m----> 2\u001b[0m wc \u001b[38;5;241m=\u001b[39m \u001b[43mWordCloud\u001b[49m(background_color\u001b[38;5;241m=\u001b[39m\u001b[38;5;124m\"\u001b[39m\u001b[38;5;124mblack\u001b[39m\u001b[38;5;124m\"\u001b[39m, max_words\u001b[38;5;241m=\u001b[39m\u001b[38;5;241m2000\u001b[39m,stopwords\u001b[38;5;241m=\u001b[39mstpwords)\n",
      "\u001b[0;31mNameError\u001b[0m: name 'WordCloud' is not defined"
     ]
    }
   ],
   "source": [
    "# Defining the wordcloud parameters\n",
    "wc = WordCloud(background_color=\"black\", max_words=2000,stopwords=stpwords)"
   ]
  },
  {
   "cell_type": "code",
   "execution_count": 140,
   "id": "5ddbf6ff",
   "metadata": {
    "execution": {
     "iopub.execute_input": "2023-05-10T01:43:09.066809Z",
     "iopub.status.busy": "2023-05-10T01:43:09.066729Z",
     "iopub.status.idle": "2023-05-10T01:43:09.073022Z",
     "shell.execute_reply": "2023-05-10T01:43:09.072779Z"
    }
   },
   "outputs": [
    {
     "ename": "NameError",
     "evalue": "name 'wc' is not defined",
     "output_type": "error",
     "traceback": [
      "\u001b[0;31m---------------------------------------------------------------------------\u001b[0m",
      "\u001b[0;31mNameError\u001b[0m                                 Traceback (most recent call last)",
      "Cell \u001b[0;32mIn [140], line 2\u001b[0m\n\u001b[1;32m      1\u001b[0m \u001b[38;5;66;03m# Generate word cloud\u001b[39;00m\n\u001b[0;32m----> 2\u001b[0m \u001b[43mwc\u001b[49m\u001b[38;5;241m.\u001b[39mgenerate(text_str)\n",
      "\u001b[0;31mNameError\u001b[0m: name 'wc' is not defined"
     ]
    }
   ],
   "source": [
    "# Generate word cloud\n",
    "wc.generate(text_str)"
   ]
  },
  {
   "cell_type": "markdown",
   "id": "76b8a2fa",
   "metadata": {},
   "source": [
    "Store to file\n",
    "wc.to_file('Trump.png')"
   ]
  },
  {
   "cell_type": "code",
   "execution_count": 141,
   "id": "50b0414c",
   "metadata": {
    "execution": {
     "iopub.execute_input": "2023-05-10T01:43:09.074420Z",
     "iopub.status.busy": "2023-05-10T01:43:09.074342Z",
     "iopub.status.idle": "2023-05-10T01:43:09.081388Z",
     "shell.execute_reply": "2023-05-10T01:43:09.081130Z"
    }
   },
   "outputs": [
    {
     "ename": "NameError",
     "evalue": "name 'plt' is not defined",
     "output_type": "error",
     "traceback": [
      "\u001b[0;31m---------------------------------------------------------------------------\u001b[0m",
      "\u001b[0;31mNameError\u001b[0m                                 Traceback (most recent call last)",
      "Cell \u001b[0;32mIn [141], line 2\u001b[0m\n\u001b[1;32m      1\u001b[0m \u001b[38;5;66;03m# Show the cloud\u001b[39;00m\n\u001b[0;32m----> 2\u001b[0m \u001b[43mplt\u001b[49m\u001b[38;5;241m.\u001b[39mimshow(wc)\n\u001b[1;32m      3\u001b[0m plt\u001b[38;5;241m.\u001b[39maxis(\u001b[38;5;124m'\u001b[39m\u001b[38;5;124moff\u001b[39m\u001b[38;5;124m'\u001b[39m)\n\u001b[1;32m      4\u001b[0m plt\u001b[38;5;241m.\u001b[39mshow()\n",
      "\u001b[0;31mNameError\u001b[0m: name 'plt' is not defined"
     ]
    }
   ],
   "source": [
    "# Show the cloud\n",
    "plt.imshow(wc)\n",
    "plt.axis('off')\n",
    "plt.show()"
   ]
  },
  {
   "cell_type": "markdown",
   "id": "9ba32544",
   "metadata": {},
   "source": [
    "This script reads a text file, clean it in part and generates a word cloud using the words in the text"
   ]
  },
  {
   "cell_type": "code",
   "execution_count": 142,
   "id": "3569459c",
   "metadata": {
    "execution": {
     "iopub.execute_input": "2023-05-10T01:43:09.082764Z",
     "iopub.status.busy": "2023-05-10T01:43:09.082682Z",
     "iopub.status.idle": "2023-05-10T01:43:09.089202Z",
     "shell.execute_reply": "2023-05-10T01:43:09.088946Z"
    }
   },
   "outputs": [
    {
     "ename": "ModuleNotFoundError",
     "evalue": "No module named 'wordcloud'",
     "output_type": "error",
     "traceback": [
      "\u001b[0;31m---------------------------------------------------------------------------\u001b[0m",
      "\u001b[0;31mModuleNotFoundError\u001b[0m                       Traceback (most recent call last)",
      "Cell \u001b[0;32mIn [142], line 2\u001b[0m\n\u001b[1;32m      1\u001b[0m \u001b[38;5;66;03m# Importing the required libraries\u001b[39;00m\n\u001b[0;32m----> 2\u001b[0m \u001b[38;5;28;01mfrom\u001b[39;00m \u001b[38;5;21;01mwordcloud\u001b[39;00m \u001b[38;5;28;01mimport\u001b[39;00m WordCloud, STOPWORDS\n\u001b[1;32m      3\u001b[0m \u001b[38;5;28;01mimport\u001b[39;00m \u001b[38;5;21;01mmatplotlib\u001b[39;00m\u001b[38;5;21;01m.\u001b[39;00m\u001b[38;5;21;01mpyplot\u001b[39;00m \u001b[38;5;28;01mas\u001b[39;00m \u001b[38;5;21;01mplt\u001b[39;00m\n",
      "\u001b[0;31mModuleNotFoundError\u001b[0m: No module named 'wordcloud'"
     ]
    }
   ],
   "source": [
    "# Importing the required libraries\n",
    "from wordcloud import WordCloud, STOPWORDS\n",
    "import matplotlib.pyplot as plt"
   ]
  },
  {
   "cell_type": "markdown",
   "id": "4db06e28",
   "metadata": {},
   "source": [
    "Read the whole text\n",
    "file_read = open('ai_trends.txt' 'rU')\n",
    "text_raw = file_read.read()"
   ]
  },
  {
   "cell_type": "code",
   "execution_count": 143,
   "id": "b745ba92",
   "metadata": {
    "execution": {
     "iopub.execute_input": "2023-05-10T01:43:09.090578Z",
     "iopub.status.busy": "2023-05-10T01:43:09.090495Z",
     "iopub.status.idle": "2023-05-10T01:43:09.092699Z",
     "shell.execute_reply": "2023-05-10T01:43:09.092475Z"
    }
   },
   "outputs": [
    {
     "data": {
      "text/plain": [
       "'Increase security Drones are going to change the way we live I think of drones now as the equivalent of what phones were in the 90s Drones open up the ability to transport things through the air over short distances and in complex spaces which is just not something we have another solution for today Whether thats package delivery or emergency response or delivering medical products urgently all of those things become possible immediately One of the amazing things about drones is that they fly The idea that you can have something routinely inspect places that are hard to look at will make our world dramatically safer It will be another way in which drones will help us realize this future vision a lot of us have of whats going to happen this network of autonomous drones flying around taking care of things and interacting with us It will bring an immediacy to what theyre doing in the same way a smartphone in your hand made that change so readily apparent Generate new services and potentially social issues Artificial intelligence really means the extension of our ability to solve problems and to generate new ideas Its quite possible that 10 years will get us to an inflection point after which we will see advancement at an unprecedented rate AI and and robotics will have been assimilated into business operations and will be having a major impact on efficiency in organizations Entirely new AI-based products and services will have created new consumer and industrial markets At the same time AI will bring along new challenges perhaps most importantly increasing inequality and possibly unemployment as routine predictable types of work are automated There will also be critical challenges in areas like privacy security algorithmic bias and military applications of AI Ten years from now a vibrant debate about these issues will have likely come to the forefront of our political and social discourse Finding a way to address these issues on behalf of humanity will soon be one of the defining challenges for the coming decades Empower businesses The consumer-facing applications of AI and ML feel stuck to me relegated to doing what humans can already do or more critically only what we trust them to do Over the next ten years I think well start seeing trust barriers decrease and as a result dependence on AI powered algorithms and machines will increase We started learning this lesson years ago building our consumer applications If youre going on a trip to Paris for example youd trust almost anything your friend recommends even if theyd only been to Paris once for a short trip just because they said so In the same situation we use sophisticated ML techniques to deliver extremely personalized recommendations but algorithms dont get the benefit of trust like a friend In order to gain user trust we had to try and explain the what the AI thought which defeats the power of it Today these ideas are starting to grow in acceptance and expectation as brands such as Foursquare continue to use ML to build location-aware technology that push the boundaries of mobile capabilitiesand gives developers analysts marketers and beyond a unique way of understanding and interacting with their users The industry excitement around this technology and the rich experiences built on top of it I hope and believe represent the tides of change Improve healthcare When it comes to healthcare theres a lot machines can do to help the doctor I dont see a future where we actually dont have doctors guiding but a lot of the busy work doctors have to do is better done using artificial intelligence If you think about a doctors career thirty or forty years the number of patients you can see during that time period is very limited Many doctors are burnt out overworked its a serious issue They also dont have time to keep themselves up to date on the most recent research treatment techniques and advancements in medication Machines can play a very important role here Artificial intelligence can access a much larger set of patient data of how they were treated and what the outcomes were You can imagine machines being in a much better position because machines can start doing the busy work around the diagnosis and humans can actually interact with the patient and work with artificial intelligence to improve outcomes That in my mind is super exciting Facilitate sustainability Artificial intelligence is going to impact every single industry and everything that we do On a bigger level areas like sustainability climate change environmental issues they are becoming more at the forefront of everybodys minds as we move more into the 21st century and think about the huge challenges we need to tackle like population increases urbanization and energy Theres so many different areas within urbanization that touch on city planning We can do that much more efficiently once we can track the movements of residents within cities and once we can map which areas we can use to improve the density of cities In the AI floodgates conversation Ive seen in the past six months or so a lot more companies wanting to focus on AI instead of just thinking about the quick goals of making workloads and businesses more efficient If we look at the bigger picture of AI for good then it connects us with more purpose and meaning Blend the lines of digital and physical Personally Im most interested in furthering spatial computing When you live in a world where your computer is not just bound to a specific device but can be anywhere you want to put it it means computers will have to react to humans much more intelligently than they do now Right now if you do something wrong today your computer throws up an error you close it and thats it But imagine if for example you had a full-scale game that was in your apartment and something went wrong Where does the dialog box go then Should there be one at all There are a lot of open questions around how humans will want to interact with their computers For example Foursquare did a really great job with having with having location-based notifications designed to give you the right information at the right time There are many many applications that should be making use of that kind of awareness today And in the future having these really intelligent ways of surfacing information are going to move from nice-to-haves to essentials And I for one will be looking forward to that because I want computers to be smarter already Make us smarter Computational power is going to continue to increase giving us more power to train our models The amount of data being created is going to continue to grow exponentially as well allowing us to monitor more elements in our platforms and our world Combine the two together with AI and it gives us the ability to be able to make more intelligent projections on future behavior and events as you can train more intelligent models and knowledge systems However in the financial services industry regulatory pressures could actually curb the power of AI to some degree by siloing off information used to train models thus cutting off one source of fuel AI needs to thrive slowing its ability to make an impact I believe peoples worries about AI becoming all powerful are unfounded Ultimately training an AI platform it is very much like molding a child If you treat it the right way and teach it the right things train it to know whats right and wrong it will inherently grow up to become a productive member of society that cares about people and the future Just like any one of us Inspire artists In ten years there will be some sort of algorithm involved in most decisions made big or small Artists like myself can get involved in artificial intelligence While such a mission may sound daunting its really about starting to use it exploring the capabilities of algorithms as well as what they can express through AI systems I encourage artists to try to use AI to create something beautiful and expressive the way they would with any other medium However I never want to see the technology become the artist We must think about AI as a tool for the augmentation of human thought and creation and make every effort not to turn the reigns of creativity or ethics over to the machines When deploying AI individuals businesses governments etc must consider how to maintain a sense of civility creativity and equity in the AI system being released into the world For industries the driving question is how can AI be used to increase productivity while respecting human diversity dignity and our cultural specificities'"
      ]
     },
     "execution_count": 143,
     "metadata": {},
     "output_type": "execute_result"
    }
   ],
   "source": [
    "# Replace end of line character with space\n",
    "text_raw.replace('\\n', ' ')"
   ]
  },
  {
   "cell_type": "code",
   "execution_count": 144,
   "id": "0c78e9e1",
   "metadata": {
    "execution": {
     "iopub.execute_input": "2023-05-10T01:43:09.094028Z",
     "iopub.status.busy": "2023-05-10T01:43:09.093948Z",
     "iopub.status.idle": "2023-05-10T01:43:09.096547Z",
     "shell.execute_reply": "2023-05-10T01:43:09.096321Z"
    }
   },
   "outputs": [],
   "source": [
    "# Save a lower-case version of each word to a list\n",
    "words_list = ['Inspire', 'artists', 'In', 'years', 'sort', 'algorithm', 'involved', 'decisions', 'big', 'small', 'Artists', 'like', 'involved', 'artificial', 'intelligence', 'While', 'mission', 'sound', 'daunting', 'really', 'starting', 'use', 'exploring', 'capabilities', 'algorithms', 'express', 'AI', 'systems', 'I', 'encourage', 'artists', 'try', 'use', 'AI', 'create', 'beautiful', 'expressive', 'way', 'medium', 'However', 'I', 'want', 'technology', 'artist', 'We', 'think', 'AI', 'tool', 'augmentation', 'human', 'thought', 'creation', 'make', 'effort', 'turn', 'reigns', 'creativity', 'ethics', 'machines', 'When', 'deploying', 'AI', 'individuals', 'businesses', 'governments', 'consider', 'maintain', 'sense', 'civility', 'creativity', 'equity', 'AI', 'released', 'world', 'For', 'industries', 'driving', 'question', 'AI', 'used', 'increase', 'productivity', 'respecting', 'human', 'diversity', 'dignity', 'cultural', 'specificities']"
   ]
  },
  {
   "cell_type": "code",
   "execution_count": 145,
   "id": "0ec12717",
   "metadata": {
    "execution": {
     "iopub.execute_input": "2023-05-10T01:43:09.097831Z",
     "iopub.status.busy": "2023-05-10T01:43:09.097755Z",
     "iopub.status.idle": "2023-05-10T01:43:09.099481Z",
     "shell.execute_reply": "2023-05-10T01:43:09.099261Z"
    }
   },
   "outputs": [],
   "source": [
    "# Eliminate non alpha elements\n",
    "text_list = [word.lower() for word in words_list if word.isalpha()]"
   ]
  },
  {
   "cell_type": "code",
   "execution_count": 146,
   "id": "49a1eef7",
   "metadata": {
    "execution": {
     "iopub.execute_input": "2023-05-10T01:43:09.100987Z",
     "iopub.status.busy": "2023-05-10T01:43:09.100894Z",
     "iopub.status.idle": "2023-05-10T01:43:09.102552Z",
     "shell.execute_reply": "2023-05-10T01:43:09.102327Z"
    }
   },
   "outputs": [],
   "source": [
    "# Transforming the list into a string for displaying\n",
    "text_str = ' '.join(text_list)"
   ]
  },
  {
   "cell_type": "markdown",
   "id": "78d86644",
   "metadata": {},
   "source": [
    "Crating and updating the stopword list\n",
    "stpwords = set(STOPWORDS)\n",
    "stpwords.add('will')\n",
    "stpwords.add('said')"
   ]
  },
  {
   "cell_type": "code",
   "execution_count": 147,
   "id": "d3b7f239",
   "metadata": {
    "execution": {
     "iopub.execute_input": "2023-05-10T01:43:09.103943Z",
     "iopub.status.busy": "2023-05-10T01:43:09.103866Z",
     "iopub.status.idle": "2023-05-10T01:43:09.110162Z",
     "shell.execute_reply": "2023-05-10T01:43:09.109893Z"
    }
   },
   "outputs": [
    {
     "ename": "NameError",
     "evalue": "name 'WordCloud' is not defined",
     "output_type": "error",
     "traceback": [
      "\u001b[0;31m---------------------------------------------------------------------------\u001b[0m",
      "\u001b[0;31mNameError\u001b[0m                                 Traceback (most recent call last)",
      "Cell \u001b[0;32mIn [147], line 2\u001b[0m\n\u001b[1;32m      1\u001b[0m \u001b[38;5;66;03m# Defining the wordcloud parameters\u001b[39;00m\n\u001b[0;32m----> 2\u001b[0m wc \u001b[38;5;241m=\u001b[39m \u001b[43mWordCloud\u001b[49m(background_color\u001b[38;5;241m=\u001b[39m\u001b[38;5;124m\"\u001b[39m\u001b[38;5;124mblack\u001b[39m\u001b[38;5;124m\"\u001b[39m, max_words\u001b[38;5;241m=\u001b[39m\u001b[38;5;241m2000\u001b[39m,stopwords\u001b[38;5;241m=\u001b[39mstpwords)\n",
      "\u001b[0;31mNameError\u001b[0m: name 'WordCloud' is not defined"
     ]
    }
   ],
   "source": [
    "# Defining the wordcloud parameters\n",
    "wc = WordCloud(background_color=\"black\", max_words=2000,stopwords=stpwords)"
   ]
  },
  {
   "cell_type": "code",
   "execution_count": 148,
   "id": "7e2d0cc1",
   "metadata": {
    "execution": {
     "iopub.execute_input": "2023-05-10T01:43:09.111572Z",
     "iopub.status.busy": "2023-05-10T01:43:09.111492Z",
     "iopub.status.idle": "2023-05-10T01:43:09.117564Z",
     "shell.execute_reply": "2023-05-10T01:43:09.117343Z"
    }
   },
   "outputs": [
    {
     "ename": "NameError",
     "evalue": "name 'wc' is not defined",
     "output_type": "error",
     "traceback": [
      "\u001b[0;31m---------------------------------------------------------------------------\u001b[0m",
      "\u001b[0;31mNameError\u001b[0m                                 Traceback (most recent call last)",
      "Cell \u001b[0;32mIn [148], line 2\u001b[0m\n\u001b[1;32m      1\u001b[0m \u001b[38;5;66;03m# Generate word cloud\u001b[39;00m\n\u001b[0;32m----> 2\u001b[0m \u001b[43mwc\u001b[49m\u001b[38;5;241m.\u001b[39mgenerate(text_str)\n",
      "\u001b[0;31mNameError\u001b[0m: name 'wc' is not defined"
     ]
    }
   ],
   "source": [
    "# Generate word cloud\n",
    "wc.generate(text_str)"
   ]
  },
  {
   "cell_type": "code",
   "execution_count": 149,
   "id": "780d6f5e",
   "metadata": {
    "execution": {
     "iopub.execute_input": "2023-05-10T01:43:09.119115Z",
     "iopub.status.busy": "2023-05-10T01:43:09.118990Z",
     "iopub.status.idle": "2023-05-10T01:43:09.125354Z",
     "shell.execute_reply": "2023-05-10T01:43:09.125121Z"
    }
   },
   "outputs": [
    {
     "ename": "NameError",
     "evalue": "name 'wc' is not defined",
     "output_type": "error",
     "traceback": [
      "\u001b[0;31m---------------------------------------------------------------------------\u001b[0m",
      "\u001b[0;31mNameError\u001b[0m                                 Traceback (most recent call last)",
      "Cell \u001b[0;32mIn [149], line 2\u001b[0m\n\u001b[1;32m      1\u001b[0m \u001b[38;5;66;03m# Store to file\u001b[39;00m\n\u001b[0;32m----> 2\u001b[0m \u001b[43mwc\u001b[49m\u001b[38;5;241m.\u001b[39mto_file(\u001b[38;5;124m'\u001b[39m\u001b[38;5;124mTrump.png\u001b[39m\u001b[38;5;124m'\u001b[39m)\n",
      "\u001b[0;31mNameError\u001b[0m: name 'wc' is not defined"
     ]
    }
   ],
   "source": [
    "# Store to file\n",
    "wc.to_file('Trump.png')"
   ]
  },
  {
   "cell_type": "code",
   "execution_count": 150,
   "id": "ea999627",
   "metadata": {
    "execution": {
     "iopub.execute_input": "2023-05-10T01:43:09.126794Z",
     "iopub.status.busy": "2023-05-10T01:43:09.126708Z",
     "iopub.status.idle": "2023-05-10T01:43:09.132909Z",
     "shell.execute_reply": "2023-05-10T01:43:09.132684Z"
    },
    "lines_to_next_cell": 2
   },
   "outputs": [
    {
     "ename": "NameError",
     "evalue": "name 'plt' is not defined",
     "output_type": "error",
     "traceback": [
      "\u001b[0;31m---------------------------------------------------------------------------\u001b[0m",
      "\u001b[0;31mNameError\u001b[0m                                 Traceback (most recent call last)",
      "Cell \u001b[0;32mIn [150], line 2\u001b[0m\n\u001b[1;32m      1\u001b[0m \u001b[38;5;66;03m# Show the cloud\u001b[39;00m\n\u001b[0;32m----> 2\u001b[0m \u001b[43mplt\u001b[49m\u001b[38;5;241m.\u001b[39mimshow(wc)\n\u001b[1;32m      3\u001b[0m plt\u001b[38;5;241m.\u001b[39maxis(\u001b[38;5;124m'\u001b[39m\u001b[38;5;124moff\u001b[39m\u001b[38;5;124m'\u001b[39m)\n\u001b[1;32m      4\u001b[0m plt\u001b[38;5;241m.\u001b[39mshow()\n",
      "\u001b[0;31mNameError\u001b[0m: name 'plt' is not defined"
     ]
    }
   ],
   "source": [
    "# Show the cloud\n",
    "plt.imshow(wc)\n",
    "plt.axis('off')\n",
    "plt.show()"
   ]
  }
 ],
 "metadata": {
  "jupytext": {
   "cell_metadata_filter": "-all",
   "main_language": "python",
   "notebook_metadata_filter": "-all"
  },
  "language_info": {
   "codemirror_mode": {
    "name": "ipython",
    "version": 3
   },
   "file_extension": ".py",
   "mimetype": "text/x-python",
   "name": "python",
   "nbconvert_exporter": "python",
   "pygments_lexer": "ipython3",
   "version": "3.9.12"
  }
 },
 "nbformat": 4,
 "nbformat_minor": 5
}
