{
 "cells": [
  {
   "cell_type": "code",
   "execution_count": 1,
   "id": "addb10bf",
   "metadata": {
    "execution": {
     "iopub.execute_input": "2023-05-10T01:02:54.491316Z",
     "iopub.status.busy": "2023-05-10T01:02:54.491009Z",
     "iopub.status.idle": "2023-05-10T01:02:54.500606Z",
     "shell.execute_reply": "2023-05-10T01:02:54.500037Z"
    },
    "lines_to_next_cell": 2
   },
   "outputs": [
    {
     "name": "stdout",
     "output_type": "stream",
     "text": [
      "2\n"
     ]
    }
   ],
   "source": [
    "print(1+1)"
   ]
  }
 ],
 "metadata": {
  "jupytext": {
   "cell_metadata_filter": "-all",
   "main_language": "python",
   "notebook_metadata_filter": "-all"
  },
  "kernelspec": {
   "display_name": "base",
   "language": "python",
   "name": "python3"
  },
  "language_info": {
   "codemirror_mode": {
    "name": "ipython",
    "version": 3
   },
   "file_extension": ".py",
   "mimetype": "text/x-python",
   "name": "python",
   "nbconvert_exporter": "python",
   "pygments_lexer": "ipython3",
   "version": "3.9.12"
  }
 },
 "nbformat": 4,
 "nbformat_minor": 5
}
