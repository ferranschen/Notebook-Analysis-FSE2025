{
 "cells": [
  {
   "cell_type": "code",
   "execution_count": 1,
   "id": "c63e4bf5",
   "metadata": {
    "execution": {
     "iopub.execute_input": "2023-05-10T02:23:43.591040Z",
     "iopub.status.busy": "2023-05-10T02:23:43.590810Z",
     "iopub.status.idle": "2023-05-10T02:23:47.506638Z",
     "shell.execute_reply": "2023-05-10T02:23:47.505862Z"
    }
   },
   "outputs": [],
   "source": [
    "get_ipython().run_cell_magic('capture', '', \"\\n#- INSTALL ADDITIONAL LIBRARIES IF REQUIRED\\n#------------------------------------------\\n# This is normally not required. The hub environment comes preinstaled with \\n# many packages that you can already use without setup. In case there is some\\n# other library you would like to use that isn't on the list you run this command\\n# once to install them.  If it is already installed this command has no effect.\\n!pip install db-dtypes\\n!python3 -m pip install pandas\\n\")"
   ]
  },
  {
   "cell_type": "markdown",
   "id": "f50e38e6",
   "metadata": {},
   "source": [
    "- IMPORT THE LIBRARIES YOU WILL USE\n",
    "------------------------------------------\n",
    "You only need to import packages one time per notebook session. To keep your\n",
    "notebook clean and organized you can handle all imports at the top of your file.\n",
    "The following are included for example purposed, feel free to modify or delete \n",
    "anything in this section."
   ]
  },
  {
   "cell_type": "code",
   "execution_count": 2,
   "id": "4be4a0c7",
   "metadata": {
    "execution": {
     "iopub.execute_input": "2023-05-10T02:23:47.510020Z",
     "iopub.status.busy": "2023-05-10T02:23:47.509781Z",
     "iopub.status.idle": "2023-05-10T02:23:48.375450Z",
     "shell.execute_reply": "2023-05-10T02:23:48.375151Z"
    }
   },
   "outputs": [],
   "source": [
    "import csv\n",
    "import pandas as pd\n",
    "import numpy as np\n",
    "from google.cloud import bigquery\n",
    "from google.oauth2 import service_account\n",
    "from google.cloud.bigquery import magics\n",
    "import statsmodels.api as sm\n",
    "import math"
   ]
  },
  {
   "cell_type": "code",
   "execution_count": 3,
   "id": "5c0bf77d",
   "metadata": {
    "execution": {
     "iopub.execute_input": "2023-05-10T02:23:48.377264Z",
     "iopub.status.busy": "2023-05-10T02:23:48.377079Z",
     "iopub.status.idle": "2023-05-10T02:23:52.178119Z",
     "shell.execute_reply": "2023-05-10T02:23:52.177369Z"
    }
   },
   "outputs": [],
   "source": [
    "get_ipython().run_cell_magic('capture', '', \"\\n#- INSTALL ADDITIONAL LIBRARIES IF REQUIRED\\n#------------------------------------------\\n# This is normally not required. The hub environment comes preinstaled with \\n# many packages that you can already use without setup. In case there is some\\n# other library you would like to use that isn't on the list you run this command\\n# once to install them.  If it is already installed this command has no effect.\\n!pip install db-dtypes\\n!python3 -m pip install pandas\\n\")"
   ]
  },
  {
   "cell_type": "markdown",
   "id": "ea0a3a4f",
   "metadata": {},
   "source": [
    "- IMPORT THE LIBRARIES YOU WILL USE\n",
    "------------------------------------------\n",
    "You only need to import packages one time per notebook session. To keep your\n",
    "notebook clean and organized you can handle all imports at the top of your file.\n",
    "The following are included for example purposed, feel free to modify or delete \n",
    "anything in this section."
   ]
  },
  {
   "cell_type": "code",
   "execution_count": 4,
   "id": "c044c7e7",
   "metadata": {
    "execution": {
     "iopub.execute_input": "2023-05-10T02:23:52.181411Z",
     "iopub.status.busy": "2023-05-10T02:23:52.181171Z",
     "iopub.status.idle": "2023-05-10T02:23:52.184678Z",
     "shell.execute_reply": "2023-05-10T02:23:52.184204Z"
    }
   },
   "outputs": [],
   "source": [
    "import csv\n",
    "import pandas as pd\n",
    "import numpy as np\n",
    "from google.cloud import bigquery\n",
    "from google.oauth2 import service_account\n",
    "from google.cloud.bigquery import magics\n",
    "import statsmodels.api as sm\n",
    "import math"
   ]
  },
  {
   "cell_type": "markdown",
   "id": "f5bc76ab",
   "metadata": {
    "lines_to_next_cell": 2
   },
   "source": [
    "- DEFINE YOUR CLASSES AND FUNCTIONS \n",
    "-----------------------------------\n",
    "This is not required, but is helpful in keeping your notebook organized. \n",
    "You can use the following cell or several cells to define your functions\n",
    "and classes to keep them separate from your analysis or results code.\n",
    "In general it useful to define your methods in a separate cell from where\n",
    "it is run."
   ]
  },
  {
   "cell_type": "code",
   "execution_count": 5,
   "id": "a63d4e79",
   "metadata": {
    "execution": {
     "iopub.execute_input": "2023-05-10T02:23:52.186833Z",
     "iopub.status.busy": "2023-05-10T02:23:52.186694Z",
     "iopub.status.idle": "2023-05-10T02:23:52.190730Z",
     "shell.execute_reply": "2023-05-10T02:23:52.190323Z"
    },
    "lines_to_next_cell": 1
   },
   "outputs": [],
   "source": [
    "def dataExplore(data):\n",
    "    '''\n",
    "    Explore dataframe\n",
    "    '''\n",
    "    print(\"# of observations: \", data.shape[0])\n",
    "    for col in data.columns:\n",
    "        if col in [\"uu_id\", \"timeperiod\", \"week_number\", \"countyfips\", \"tract\", \"tract_name\", \"date\"]:\n",
    "            print(\"# of %s: %s\" % (col, len(pd.unique(data[col]))))\n",
    "        else:\n",
    "            print(\"Unique value of %s: %s\" % (col, pd.unique(data[col])))"
   ]
  },
  {
   "cell_type": "code",
   "execution_count": 6,
   "id": "552f45b8",
   "metadata": {
    "execution": {
     "iopub.execute_input": "2023-05-10T02:23:52.192779Z",
     "iopub.status.busy": "2023-05-10T02:23:52.192618Z",
     "iopub.status.idle": "2023-05-10T02:23:52.196130Z",
     "shell.execute_reply": "2023-05-10T02:23:52.195753Z"
    }
   },
   "outputs": [],
   "source": [
    "def dataBalanceCheck(data):\n",
    "    '''\n",
    "    Check the balance of data frame\n",
    "    '''\n",
    "    unbalance_count = 0\n",
    "    print(\"# of observations in complete time series: \", len(pd.unique(data[\"week_number\"])))\n",
    "    for id in pd.unique(data[\"uu_id\"]):\n",
    "        if len(data[data[\"uu_id\"] == id]) <  len(pd.unique(data[\"week_number\"])):\n",
    "            print(id, len(data[data[\"uu_id\"] == id]))\n",
    "            unbalance_count += 1\n",
    "    print(\"% of tracts with incomplete time series: \", unbalance_count / len(pd.unique(data[\"uu_id\"]))*100)"
   ]
  },
  {
   "cell_type": "code",
   "execution_count": 7,
   "id": "8af1cc98",
   "metadata": {
    "execution": {
     "iopub.execute_input": "2023-05-10T02:23:52.198177Z",
     "iopub.status.busy": "2023-05-10T02:23:52.198049Z",
     "iopub.status.idle": "2023-05-10T02:23:52.201232Z",
     "shell.execute_reply": "2023-05-10T02:23:52.200921Z"
    },
    "lines_to_next_cell": 1
   },
   "outputs": [],
   "source": [
    "def dataFillNa(data, value):\n",
    "    \"\"\"\n",
    "   fill NA with given value in the dataframe\n",
    "    \"\"\"\n",
    "    for col in data.columns:\n",
    "        if col in [\"uu_id\", \"timeperiod\", \"week_number\", \"countyfips\", \"tract\", \"tract_name\", \"date\"]:\n",
    "            pass\n",
    "        elif col in [\"top_category_employer1\", \"top_category_employer2\", \"top_category_employer3\"]:\n",
    "            data[col] = data[col].replace({'N/A':str(value)})\n",
    "        else:\n",
    "            data[col] = data[col].fillna(value)\n",
    "    return(data)"
   ]
  },
  {
   "cell_type": "code",
   "execution_count": 8,
   "id": "feb40001",
   "metadata": {
    "execution": {
     "iopub.execute_input": "2023-05-10T02:23:52.202989Z",
     "iopub.status.busy": "2023-05-10T02:23:52.202851Z",
     "iopub.status.idle": "2023-05-10T02:23:52.205786Z",
     "shell.execute_reply": "2023-05-10T02:23:52.205443Z"
    },
    "lines_to_next_cell": 1
   },
   "outputs": [],
   "source": [
    "def dataIdentifyDWM(data):\n",
    "    '''\n",
    "    Input: # of week. Output: data for the first day, its month and week order in the month\n",
    "    '''\n",
    "    data[\"date\"] = pd.to_datetime(2022 * 1000 + (1+(data[\"week_number\"]-1)*7), format='%Y%j')\n",
    "    data[\"month\"] = pd.DatetimeIndex(data[\"date\"]).month\n",
    "    data[\"weekofmonth\"]= pd.to_numeric(data[\"date\"].dt.day/7)\n",
    "    data['weekofmonth'] = data['weekofmonth'].apply(lambda x: math.ceil(x))\n",
    "    return(data)"
   ]
  },
  {
   "cell_type": "code",
   "execution_count": 9,
   "id": "f59987b9",
   "metadata": {
    "execution": {
     "iopub.execute_input": "2023-05-10T02:23:52.207440Z",
     "iopub.status.busy": "2023-05-10T02:23:52.207316Z",
     "iopub.status.idle": "2023-05-10T02:23:52.209290Z",
     "shell.execute_reply": "2023-05-10T02:23:52.208997Z"
    },
    "lines_to_next_cell": 1
   },
   "outputs": [],
   "source": [
    "def MSPE(s1, s2):\n",
    "    print(\"MSPE: \", sum((s1 - s2)**2)/len(s1))"
   ]
  },
  {
   "cell_type": "code",
   "execution_count": 10,
   "id": "955aee09",
   "metadata": {
    "execution": {
     "iopub.execute_input": "2023-05-10T02:23:52.210928Z",
     "iopub.status.busy": "2023-05-10T02:23:52.210798Z",
     "iopub.status.idle": "2023-05-10T02:23:52.212731Z",
     "shell.execute_reply": "2023-05-10T02:23:52.212460Z"
    },
    "lines_to_next_cell": 1
   },
   "outputs": [],
   "source": [
    "def MAPE(s1, s2):\n",
    "    print(\"MAPE: \", sum(abs(s1 - s2))/len(s1))"
   ]
  },
  {
   "cell_type": "code",
   "execution_count": 11,
   "id": "c97bec98",
   "metadata": {
    "execution": {
     "iopub.execute_input": "2023-05-10T02:23:52.214384Z",
     "iopub.status.busy": "2023-05-10T02:23:52.214255Z",
     "iopub.status.idle": "2023-05-10T02:23:52.221812Z",
     "shell.execute_reply": "2023-05-10T02:23:52.221471Z"
    }
   },
   "outputs": [],
   "source": [
    "# Obtain data using BigQuery\n",
    "BIGQUERY_PROJECT = 'ironhacks-data'\n",
    "bigquery_client = bigquery.Client(project=BIGQUERY_PROJECT)"
   ]
  },
  {
   "cell_type": "code",
   "execution_count": 12,
   "id": "039f22da",
   "metadata": {
    "execution": {
     "iopub.execute_input": "2023-05-10T02:23:52.223598Z",
     "iopub.status.busy": "2023-05-10T02:23:52.223475Z",
     "iopub.status.idle": "2023-05-10T02:23:52.225369Z",
     "shell.execute_reply": "2023-05-10T02:23:52.225117Z"
    }
   },
   "outputs": [],
   "source": [
    "query = \"\"\"\n",
    "SELECT\n",
    "a.*,\n",
    "b.average_wage\n",
    "FROM \n",
    "(SELECT \n",
    "*\n",
    "FROM `ironhacks-data.ironhacks_competition.unemployment_data`) a\n",
    "JOIN `ironhacks-data.ironhacks_competition.wage_data` b \n",
    "ON a.uu_id=b.uu_id\n",
    "\"\"\""
   ]
  },
  {
   "cell_type": "code",
   "execution_count": 13,
   "id": "923ce9a0",
   "metadata": {
    "execution": {
     "iopub.execute_input": "2023-05-10T02:23:52.226846Z",
     "iopub.status.busy": "2023-05-10T02:23:52.226744Z",
     "iopub.status.idle": "2023-05-10T02:23:53.881462Z",
     "shell.execute_reply": "2023-05-10T02:23:53.880669Z"
    }
   },
   "outputs": [],
   "source": [
    "query_job = bigquery_client.query(query)\n",
    "data = query_job.to_dataframe()"
   ]
  },
  {
   "cell_type": "code",
   "execution_count": 14,
   "id": "6761092d",
   "metadata": {
    "execution": {
     "iopub.execute_input": "2023-05-10T02:23:53.885548Z",
     "iopub.status.busy": "2023-05-10T02:23:53.885218Z",
     "iopub.status.idle": "2023-05-10T02:23:53.888899Z",
     "shell.execute_reply": "2023-05-10T02:23:53.887996Z"
    }
   },
   "outputs": [],
   "source": [
    "query_pred = \"\"\"\n",
    "SELECT * FROM `ironhacks-data.ironhacks_competition.prediction_list`\n",
    "\"\"\""
   ]
  },
  {
   "cell_type": "code",
   "execution_count": 15,
   "id": "1a10735e",
   "metadata": {
    "execution": {
     "iopub.execute_input": "2023-05-10T02:23:53.892576Z",
     "iopub.status.busy": "2023-05-10T02:23:53.892249Z",
     "iopub.status.idle": "2023-05-10T02:23:55.635596Z",
     "shell.execute_reply": "2023-05-10T02:23:55.634881Z"
    }
   },
   "outputs": [],
   "source": [
    "query_job_pred = bigquery_client.query(query_pred)\n",
    "data_pred_query= query_job_pred.to_dataframe()"
   ]
  },
  {
   "cell_type": "code",
   "execution_count": 16,
   "id": "4be63ea5",
   "metadata": {
    "execution": {
     "iopub.execute_input": "2023-05-10T02:23:55.640353Z",
     "iopub.status.busy": "2023-05-10T02:23:55.639968Z",
     "iopub.status.idle": "2023-05-10T02:23:55.650189Z",
     "shell.execute_reply": "2023-05-10T02:23:55.649184Z"
    }
   },
   "outputs": [],
   "source": [
    "# Further check tracts with average_wage as Nan\n",
    "# I find three tracts with all average_wage as Nan. If I drop these tracts due to Nan value, they cannot be predicted\n",
    "for id in pd.unique(data[data['average_wage'].isna()][\"uu_id\"]):\n",
    "    print(id)\n",
    "    print(\"All value are nan?\", data[data['uu_id'] == id][\"average_wage\"].isnull().all())\n",
    "    print(\"Included in prediction list?\", len(data_pred_query[data_pred_query['uu_id'] == id]) > 0)"
   ]
  },
  {
   "cell_type": "code",
   "execution_count": 17,
   "id": "949585e9",
   "metadata": {
    "execution": {
     "iopub.execute_input": "2023-05-10T02:23:55.654178Z",
     "iopub.status.busy": "2023-05-10T02:23:55.653816Z",
     "iopub.status.idle": "2023-05-10T02:23:55.659715Z",
     "shell.execute_reply": "2023-05-10T02:23:55.659127Z"
    }
   },
   "outputs": [],
   "source": [
    "# Backup the data before pre-treatment\n",
    "data_backup = data.copy()\n",
    "data_pred_query_backup = data_pred_query.copy()"
   ]
  },
  {
   "cell_type": "code",
   "execution_count": 18,
   "id": "01b8cef1",
   "metadata": {
    "execution": {
     "iopub.execute_input": "2023-05-10T02:23:55.662729Z",
     "iopub.status.busy": "2023-05-10T02:23:55.662467Z",
     "iopub.status.idle": "2023-05-10T02:23:55.683373Z",
     "shell.execute_reply": "2023-05-10T02:23:55.682778Z"
    }
   },
   "outputs": [],
   "source": [
    "# Pretreatment: convert week_number to month and week of month, to capture seasonality\n",
    "data = dataIdentifyDWM(data)"
   ]
  },
  {
   "cell_type": "code",
   "execution_count": 19,
   "id": "4911727b",
   "metadata": {
    "execution": {
     "iopub.execute_input": "2023-05-10T02:23:55.686732Z",
     "iopub.status.busy": "2023-05-10T02:23:55.686471Z",
     "iopub.status.idle": "2023-05-10T02:23:55.707844Z",
     "shell.execute_reply": "2023-05-10T02:23:55.707403Z"
    }
   },
   "outputs": [],
   "source": [
    "# To balance the dataset as panel data\n",
    "data_balance = data.set_index('week_number')\n",
    "data_balance = data_balance.sort_index(ascending=False)\n",
    "data_balance = data_balance.set_index('uu_id',append=True)\n",
    "data_balance = data_balance[~data_balance.index.duplicated(keep='first')]"
   ]
  },
  {
   "cell_type": "code",
   "execution_count": 20,
   "id": "50d71744",
   "metadata": {
    "execution": {
     "iopub.execute_input": "2023-05-10T02:23:55.710091Z",
     "iopub.status.busy": "2023-05-10T02:23:55.709918Z",
     "iopub.status.idle": "2023-05-10T02:23:55.729544Z",
     "shell.execute_reply": "2023-05-10T02:23:55.729183Z"
    }
   },
   "outputs": [],
   "source": [
    "data_balance = data_balance.reset_index(level=['week_number'])\n",
    "data_balance = (data_balance.set_index('week_number',append=True).reindex(pd.MultiIndex.from_product([data_balance.index.unique(),\n",
    "                                                      range(data_balance.week_number.min(),data_balance.week_number.max()+1)],\n",
    "                                                     names=['uu_id','week_number'])).reset_index(level=1))"
   ]
  },
  {
   "cell_type": "code",
   "execution_count": 21,
   "id": "58220c37",
   "metadata": {
    "execution": {
     "iopub.execute_input": "2023-05-10T02:23:55.731391Z",
     "iopub.status.busy": "2023-05-10T02:23:55.731251Z",
     "iopub.status.idle": "2023-05-10T02:23:55.738418Z",
     "shell.execute_reply": "2023-05-10T02:23:55.737949Z"
    }
   },
   "outputs": [],
   "source": [
    "data_balance = data_balance.set_index('week_number',append=True)\n",
    "data_balance['total_claims'] = data_balance['total_claims'].fillna(0)\n",
    "data_balance['average_wage'] = data_balance['average_wage'].interpolate(method = \"linear\")"
   ]
  },
  {
   "cell_type": "code",
   "execution_count": 22,
   "id": "4d177056",
   "metadata": {
    "execution": {
     "iopub.execute_input": "2023-05-10T02:23:55.740836Z",
     "iopub.status.busy": "2023-05-10T02:23:55.740678Z",
     "iopub.status.idle": "2023-05-10T02:23:55.750891Z",
     "shell.execute_reply": "2023-05-10T02:23:55.750591Z"
    }
   },
   "outputs": [],
   "source": [
    "data_balance = data_balance.reset_index(level=['uu_id', \"week_number\"])\n",
    "data_balance = dataIdentifyDWM(data_balance)"
   ]
  },
  {
   "cell_type": "code",
   "execution_count": 23,
   "id": "d99e0149",
   "metadata": {
    "execution": {
     "iopub.execute_input": "2023-05-10T02:23:55.752397Z",
     "iopub.status.busy": "2023-05-10T02:23:55.752307Z",
     "iopub.status.idle": "2023-05-10T02:23:56.318415Z",
     "shell.execute_reply": "2023-05-10T02:23:56.318101Z"
    }
   },
   "outputs": [
    {
     "name": "stdout",
     "output_type": "stream",
     "text": [
      "# of observations in complete time series:  37\n"
     ]
    },
    {
     "name": "stdout",
     "output_type": "stream",
     "text": [
      "% of tracts with incomplete time series:  0.0\n"
     ]
    }
   ],
   "source": [
    "dataBalanceCheck(data_balance)"
   ]
  },
  {
   "cell_type": "code",
   "execution_count": 24,
   "id": "182e8e16",
   "metadata": {
    "execution": {
     "iopub.execute_input": "2023-05-10T02:23:56.319972Z",
     "iopub.status.busy": "2023-05-10T02:23:56.319874Z",
     "iopub.status.idle": "2023-05-10T02:23:56.328779Z",
     "shell.execute_reply": "2023-05-10T02:23:56.328517Z"
    }
   },
   "outputs": [],
   "source": [
    "# Data clean up: convert NA to 0 for gender, race, education and top employer and recalculate unknown category\n",
    "# Based on the check of Nan in average_wage above, I also convert Nan to zero as well, but try models with and without \"average_wage\" variable\n",
    "data = dataFillNa(data, 0)"
   ]
  },
  {
   "cell_type": "code",
   "execution_count": 25,
   "id": "fd6d8c5c",
   "metadata": {
    "execution": {
     "iopub.execute_input": "2023-05-10T02:23:56.330315Z",
     "iopub.status.busy": "2023-05-10T02:23:56.330230Z",
     "iopub.status.idle": "2023-05-10T02:23:56.332215Z",
     "shell.execute_reply": "2023-05-10T02:23:56.331979Z"
    }
   },
   "outputs": [],
   "source": [
    "# Split data to training and validaton sets\n",
    "train_week = max(pd.unique(data[\"week_number\"]))"
   ]
  },
  {
   "cell_type": "code",
   "execution_count": 26,
   "id": "2e950596",
   "metadata": {
    "execution": {
     "iopub.execute_input": "2023-05-10T02:23:56.333580Z",
     "iopub.status.busy": "2023-05-10T02:23:56.333502Z",
     "iopub.status.idle": "2023-05-10T02:23:56.338820Z",
     "shell.execute_reply": "2023-05-10T02:23:56.338535Z"
    }
   },
   "outputs": [],
   "source": [
    "data_train = data[data[\"week_number\"] < train_week]\n",
    "data_valid = data[data[\"week_number\"] >= train_week]"
   ]
  },
  {
   "cell_type": "code",
   "execution_count": 27,
   "id": "8970c491",
   "metadata": {
    "execution": {
     "iopub.execute_input": "2023-05-10T02:23:56.340429Z",
     "iopub.status.busy": "2023-05-10T02:23:56.340344Z",
     "iopub.status.idle": "2023-05-10T02:23:56.343882Z",
     "shell.execute_reply": "2023-05-10T02:23:56.343636Z"
    }
   },
   "outputs": [
    {
     "name": "stderr",
     "output_type": "stream",
     "text": [
      "/var/folders/l2/cnhff0_n1470l4xf0p7v7l_40000gn/T/ipykernel_18169/3749289176.py:1: FutureWarning: In a future version of pandas all arguments of DataFrame.drop except for the argument 'labels' will be keyword-only.\n",
      "  data_train_x = data_train.drop(\"total_claims\",1)\n"
     ]
    }
   ],
   "source": [
    "data_train_x = data_train.drop(\"total_claims\",1)\n",
    "data_train_y = data_train[\"total_claims\"]"
   ]
  },
  {
   "cell_type": "code",
   "execution_count": 28,
   "id": "9969b762",
   "metadata": {
    "execution": {
     "iopub.execute_input": "2023-05-10T02:23:56.345269Z",
     "iopub.status.busy": "2023-05-10T02:23:56.345162Z",
     "iopub.status.idle": "2023-05-10T02:23:56.347258Z",
     "shell.execute_reply": "2023-05-10T02:23:56.347037Z"
    }
   },
   "outputs": [
    {
     "name": "stderr",
     "output_type": "stream",
     "text": [
      "/var/folders/l2/cnhff0_n1470l4xf0p7v7l_40000gn/T/ipykernel_18169/3745287416.py:1: FutureWarning: In a future version of pandas all arguments of DataFrame.drop except for the argument 'labels' will be keyword-only.\n",
      "  data_valid_x = data_valid.drop(\"total_claims\",1)\n"
     ]
    }
   ],
   "source": [
    "data_valid_x = data_valid.drop(\"total_claims\",1)\n",
    "data_valid_y = data_valid[\"total_claims\"]"
   ]
  },
  {
   "cell_type": "markdown",
   "id": "e1a9dcb0",
   "metadata": {},
   "source": [
    "Also prepare it for balanced dataset"
   ]
  },
  {
   "cell_type": "code",
   "execution_count": 29,
   "id": "fccf92be",
   "metadata": {
    "execution": {
     "iopub.execute_input": "2023-05-10T02:23:56.348560Z",
     "iopub.status.busy": "2023-05-10T02:23:56.348456Z",
     "iopub.status.idle": "2023-05-10T02:23:56.353066Z",
     "shell.execute_reply": "2023-05-10T02:23:56.352803Z"
    }
   },
   "outputs": [],
   "source": [
    "data_balance_train = data_balance[data_balance[\"week_number\"] < train_week]\n",
    "data_balance_valid = data_balance[data_balance[\"week_number\"] >= train_week]"
   ]
  },
  {
   "cell_type": "code",
   "execution_count": 30,
   "id": "626d4446",
   "metadata": {
    "execution": {
     "iopub.execute_input": "2023-05-10T02:23:56.354543Z",
     "iopub.status.busy": "2023-05-10T02:23:56.354458Z",
     "iopub.status.idle": "2023-05-10T02:23:56.357441Z",
     "shell.execute_reply": "2023-05-10T02:23:56.357192Z"
    }
   },
   "outputs": [
    {
     "name": "stderr",
     "output_type": "stream",
     "text": [
      "/var/folders/l2/cnhff0_n1470l4xf0p7v7l_40000gn/T/ipykernel_18169/246331275.py:1: FutureWarning: In a future version of pandas all arguments of DataFrame.drop except for the argument 'labels' will be keyword-only.\n",
      "  data_balance_train_x = data_balance_train.drop(\"total_claims\",1)\n"
     ]
    }
   ],
   "source": [
    "data_balance_train_x = data_balance_train.drop(\"total_claims\",1)\n",
    "data_balance_train_y = data_balance_train[\"total_claims\"]"
   ]
  },
  {
   "cell_type": "code",
   "execution_count": 31,
   "id": "5763d310",
   "metadata": {
    "execution": {
     "iopub.execute_input": "2023-05-10T02:23:56.358819Z",
     "iopub.status.busy": "2023-05-10T02:23:56.358721Z",
     "iopub.status.idle": "2023-05-10T02:23:56.360801Z",
     "shell.execute_reply": "2023-05-10T02:23:56.360553Z"
    }
   },
   "outputs": [
    {
     "name": "stderr",
     "output_type": "stream",
     "text": [
      "/var/folders/l2/cnhff0_n1470l4xf0p7v7l_40000gn/T/ipykernel_18169/3492149196.py:1: FutureWarning: In a future version of pandas all arguments of DataFrame.drop except for the argument 'labels' will be keyword-only.\n",
      "  data_balance_valid_x = data_balance_valid.drop(\"total_claims\",1)\n"
     ]
    }
   ],
   "source": [
    "data_balance_valid_x = data_balance_valid.drop(\"total_claims\",1)\n",
    "data_balance_valid_y = data_balance_valid[\"total_claims\"]"
   ]
  },
  {
   "cell_type": "code",
   "execution_count": 32,
   "id": "76755901",
   "metadata": {
    "execution": {
     "iopub.execute_input": "2023-05-10T02:23:56.362215Z",
     "iopub.status.busy": "2023-05-10T02:23:56.362119Z",
     "iopub.status.idle": "2023-05-10T02:23:56.372686Z",
     "shell.execute_reply": "2023-05-10T02:23:56.372435Z"
    }
   },
   "outputs": [
    {
     "name": "stderr",
     "output_type": "stream",
     "text": [
      "/var/folders/l2/cnhff0_n1470l4xf0p7v7l_40000gn/T/ipykernel_18169/4175230888.py:3: SettingWithCopyWarning: \n",
      "A value is trying to be set on a copy of a slice from a DataFrame.\n",
      "Try using .loc[row_indexer,col_indexer] = value instead\n",
      "\n",
      "See the caveats in the documentation: https://pandas.pydata.org/pandas-docs/stable/user_guide/indexing.html#returning-a-view-versus-a-copy\n",
      "  data_train_x_m1[\"month\"] = data_train_x_m1[\"month\"].astype(str)\n",
      "/var/folders/l2/cnhff0_n1470l4xf0p7v7l_40000gn/T/ipykernel_18169/4175230888.py:4: SettingWithCopyWarning: \n",
      "A value is trying to be set on a copy of a slice from a DataFrame.\n",
      "Try using .loc[row_indexer,col_indexer] = value instead\n",
      "\n",
      "See the caveats in the documentation: https://pandas.pydata.org/pandas-docs/stable/user_guide/indexing.html#returning-a-view-versus-a-copy\n",
      "  data_train_x_m1[\"weekofmonth\"] = data_train_x_m1[\"weekofmonth\"].astype(str)\n",
      "/var/folders/l2/cnhff0_n1470l4xf0p7v7l_40000gn/T/ipykernel_18169/4175230888.py:5: SettingWithCopyWarning: \n",
      "A value is trying to be set on a copy of a slice from a DataFrame.\n",
      "Try using .loc[row_indexer,col_indexer] = value instead\n",
      "\n",
      "See the caveats in the documentation: https://pandas.pydata.org/pandas-docs/stable/user_guide/indexing.html#returning-a-view-versus-a-copy\n",
      "  data_train_x_m1[\"week_number2\"] = data_train_x_m1[\"week_number\"]**2\n"
     ]
    }
   ],
   "source": [
    "# Model 1 : Poisson regression with unbalanced data\n",
    "data_train_x_m1 = data_train_x[[\"week_number\",\"month\", \"weekofmonth\",  \"average_wage\"]]\n",
    "data_train_x_m1[\"month\"] = data_train_x_m1[\"month\"].astype(str)\n",
    "data_train_x_m1[\"weekofmonth\"] = data_train_x_m1[\"weekofmonth\"].astype(str)\n",
    "data_train_x_m1[\"week_number2\"] = data_train_x_m1[\"week_number\"]**2\n",
    "data_train_x_m1 = pd.get_dummies(data_train_x_m1)"
   ]
  },
  {
   "cell_type": "code",
   "execution_count": 33,
   "id": "7e042790",
   "metadata": {
    "execution": {
     "iopub.execute_input": "2023-05-10T02:23:56.374082Z",
     "iopub.status.busy": "2023-05-10T02:23:56.373996Z",
     "iopub.status.idle": "2023-05-10T02:23:56.378081Z",
     "shell.execute_reply": "2023-05-10T02:23:56.377839Z"
    }
   },
   "outputs": [
    {
     "name": "stderr",
     "output_type": "stream",
     "text": [
      "/var/folders/l2/cnhff0_n1470l4xf0p7v7l_40000gn/T/ipykernel_18169/997101271.py:2: SettingWithCopyWarning: \n",
      "A value is trying to be set on a copy of a slice from a DataFrame.\n",
      "Try using .loc[row_indexer,col_indexer] = value instead\n",
      "\n",
      "See the caveats in the documentation: https://pandas.pydata.org/pandas-docs/stable/user_guide/indexing.html#returning-a-view-versus-a-copy\n",
      "  data_valid_x_m1[\"month\"] = data_valid_x_m1[\"month\"].astype(str)\n",
      "/var/folders/l2/cnhff0_n1470l4xf0p7v7l_40000gn/T/ipykernel_18169/997101271.py:3: SettingWithCopyWarning: \n",
      "A value is trying to be set on a copy of a slice from a DataFrame.\n",
      "Try using .loc[row_indexer,col_indexer] = value instead\n",
      "\n",
      "See the caveats in the documentation: https://pandas.pydata.org/pandas-docs/stable/user_guide/indexing.html#returning-a-view-versus-a-copy\n",
      "  data_valid_x_m1[\"weekofmonth\"] = data_valid_x_m1[\"weekofmonth\"].astype(str)\n",
      "/var/folders/l2/cnhff0_n1470l4xf0p7v7l_40000gn/T/ipykernel_18169/997101271.py:4: SettingWithCopyWarning: \n",
      "A value is trying to be set on a copy of a slice from a DataFrame.\n",
      "Try using .loc[row_indexer,col_indexer] = value instead\n",
      "\n",
      "See the caveats in the documentation: https://pandas.pydata.org/pandas-docs/stable/user_guide/indexing.html#returning-a-view-versus-a-copy\n",
      "  data_valid_x_m1[\"week_number2\"] = data_valid_x_m1[\"week_number\"]**2\n"
     ]
    }
   ],
   "source": [
    "data_valid_x_m1 = data_valid_x[[\"week_number\",\"month\", \"weekofmonth\",  \"average_wage\"]]\n",
    "data_valid_x_m1[\"month\"] = data_valid_x_m1[\"month\"].astype(str)\n",
    "data_valid_x_m1[\"weekofmonth\"] = data_valid_x_m1[\"weekofmonth\"].astype(str)\n",
    "data_valid_x_m1[\"week_number2\"] = data_valid_x_m1[\"week_number\"]**2\n",
    "data_valid_x_m1 = pd.get_dummies(data_valid_x_m1)"
   ]
  },
  {
   "cell_type": "code",
   "execution_count": 34,
   "id": "c73101e3",
   "metadata": {
    "execution": {
     "iopub.execute_input": "2023-05-10T02:23:56.379398Z",
     "iopub.status.busy": "2023-05-10T02:23:56.379296Z",
     "iopub.status.idle": "2023-05-10T02:23:56.381763Z",
     "shell.execute_reply": "2023-05-10T02:23:56.381502Z"
    }
   },
   "outputs": [],
   "source": [
    "for i in range(8):\n",
    "    data_valid_x_m1[\"month_\"+str(1+i)] = 0"
   ]
  },
  {
   "cell_type": "code",
   "execution_count": 35,
   "id": "aee0bd04",
   "metadata": {
    "execution": {
     "iopub.execute_input": "2023-05-10T02:23:56.383123Z",
     "iopub.status.busy": "2023-05-10T02:23:56.383015Z",
     "iopub.status.idle": "2023-05-10T02:23:56.385157Z",
     "shell.execute_reply": "2023-05-10T02:23:56.384913Z"
    }
   },
   "outputs": [],
   "source": [
    "for i in range(5):\n",
    "    if i == 1:\n",
    "        pass\n",
    "    data_valid_x_m1[\"weekofmonth_\"+str(1+i)] = 0"
   ]
  },
  {
   "cell_type": "code",
   "execution_count": 36,
   "id": "4da948fe",
   "metadata": {
    "execution": {
     "iopub.execute_input": "2023-05-10T02:23:56.386551Z",
     "iopub.status.busy": "2023-05-10T02:23:56.386449Z",
     "iopub.status.idle": "2023-05-10T02:23:56.464825Z",
     "shell.execute_reply": "2023-05-10T02:23:56.464154Z"
    }
   },
   "outputs": [
    {
     "data": {
      "text/html": [
       "<table class=\"simpletable\">\n",
       "<caption>Generalized Linear Model Regression Results</caption>\n",
       "<tr>\n",
       "  <th>Dep. Variable:</th>     <td>total_claims</td>   <th>  No. Observations:  </th>   <td> 15987</td>  \n",
       "</tr>\n",
       "<tr>\n",
       "  <th>Model:</th>                  <td>GLM</td>       <th>  Df Residuals:      </th>   <td> 15972</td>  \n",
       "</tr>\n",
       "<tr>\n",
       "  <th>Model Family:</th>         <td>Poisson</td>     <th>  Df Model:          </th>   <td>    14</td>  \n",
       "</tr>\n",
       "<tr>\n",
       "  <th>Link Function:</th>          <td>Log</td>       <th>  Scale:             </th>  <td>  1.0000</td> \n",
       "</tr>\n",
       "<tr>\n",
       "  <th>Method:</th>                <td>IRLS</td>       <th>  Log-Likelihood:    </th>  <td> -91741.</td> \n",
       "</tr>\n",
       "<tr>\n",
       "  <th>Date:</th>            <td>Tue, 09 May 2023</td> <th>  Deviance:          </th> <td>1.0617e+05</td>\n",
       "</tr>\n",
       "<tr>\n",
       "  <th>Time:</th>                <td>22:23:56</td>     <th>  Pearson chi2:      </th>  <td>1.33e+05</td> \n",
       "</tr>\n",
       "<tr>\n",
       "  <th>No. Iterations:</th>          <td>5</td>        <th>  Pseudo R-squ. (CS):</th>   <td>0.2356</td>  \n",
       "</tr>\n",
       "<tr>\n",
       "  <th>Covariance Type:</th>     <td>nonrobust</td>    <th>                     </th>      <td> </td>    \n",
       "</tr>\n",
       "</table>\n",
       "<table class=\"simpletable\">\n",
       "<tr>\n",
       "        <td></td>           <th>coef</th>     <th>std err</th>      <th>z</th>      <th>P>|z|</th>  <th>[0.025</th>    <th>0.975]</th>  \n",
       "</tr>\n",
       "<tr>\n",
       "  <th>week_number</th>   <td>    0.0995</td> <td>    0.002</td> <td>   47.746</td> <td> 0.000</td> <td>    0.095</td> <td>    0.104</td>\n",
       "</tr>\n",
       "<tr>\n",
       "  <th>average_wage</th>  <td>-1.341e-05</td> <td> 4.17e-07</td> <td>  -32.198</td> <td> 0.000</td> <td>-1.42e-05</td> <td>-1.26e-05</td>\n",
       "</tr>\n",
       "<tr>\n",
       "  <th>week_number2</th>  <td>   -0.0004</td> <td> 6.42e-05</td> <td>   -6.565</td> <td> 0.000</td> <td>   -0.001</td> <td>   -0.000</td>\n",
       "</tr>\n",
       "<tr>\n",
       "  <th>month_1</th>       <td>    2.1226</td> <td>    0.005</td> <td>  406.869</td> <td> 0.000</td> <td>    2.112</td> <td>    2.133</td>\n",
       "</tr>\n",
       "<tr>\n",
       "  <th>month_2</th>       <td>    1.6196</td> <td>    0.009</td> <td>  187.307</td> <td> 0.000</td> <td>    1.603</td> <td>    1.637</td>\n",
       "</tr>\n",
       "<tr>\n",
       "  <th>month_3</th>       <td>    1.2621</td> <td>    0.012</td> <td>  108.911</td> <td> 0.000</td> <td>    1.239</td> <td>    1.285</td>\n",
       "</tr>\n",
       "<tr>\n",
       "  <th>month_4</th>       <td>    0.9807</td> <td>    0.012</td> <td>   79.097</td> <td> 0.000</td> <td>    0.956</td> <td>    1.005</td>\n",
       "</tr>\n",
       "<tr>\n",
       "  <th>month_5</th>       <td>    0.3220</td> <td>    0.012</td> <td>   26.872</td> <td> 0.000</td> <td>    0.299</td> <td>    0.346</td>\n",
       "</tr>\n",
       "<tr>\n",
       "  <th>month_6</th>       <td>   -0.0113</td> <td>    0.009</td> <td>   -1.193</td> <td> 0.233</td> <td>   -0.030</td> <td>    0.007</td>\n",
       "</tr>\n",
       "<tr>\n",
       "  <th>month_7</th>       <td>   -0.2598</td> <td>    0.005</td> <td>  -51.383</td> <td> 0.000</td> <td>   -0.270</td> <td>   -0.250</td>\n",
       "</tr>\n",
       "<tr>\n",
       "  <th>month_8</th>       <td>   -0.6277</td> <td>    0.008</td> <td>  -75.898</td> <td> 0.000</td> <td>   -0.644</td> <td>   -0.611</td>\n",
       "</tr>\n",
       "<tr>\n",
       "  <th>month_9</th>       <td>   -0.7077</td> <td>    0.015</td> <td>  -46.552</td> <td> 0.000</td> <td>   -0.737</td> <td>   -0.678</td>\n",
       "</tr>\n",
       "<tr>\n",
       "  <th>weekofmonth_1</th> <td>    1.0676</td> <td>    0.007</td> <td>  156.084</td> <td> 0.000</td> <td>    1.054</td> <td>    1.081</td>\n",
       "</tr>\n",
       "<tr>\n",
       "  <th>weekofmonth_2</th> <td>    1.0678</td> <td>    0.006</td> <td>  168.216</td> <td> 0.000</td> <td>    1.055</td> <td>    1.080</td>\n",
       "</tr>\n",
       "<tr>\n",
       "  <th>weekofmonth_3</th> <td>    0.9275</td> <td>    0.006</td> <td>  150.945</td> <td> 0.000</td> <td>    0.915</td> <td>    0.940</td>\n",
       "</tr>\n",
       "<tr>\n",
       "  <th>weekofmonth_4</th> <td>    0.8476</td> <td>    0.006</td> <td>  149.460</td> <td> 0.000</td> <td>    0.836</td> <td>    0.859</td>\n",
       "</tr>\n",
       "<tr>\n",
       "  <th>weekofmonth_5</th> <td>    0.7901</td> <td>    0.008</td> <td>  101.001</td> <td> 0.000</td> <td>    0.775</td> <td>    0.805</td>\n",
       "</tr>\n",
       "</table>"
      ],
      "text/plain": [
       "<class 'statsmodels.iolib.summary.Summary'>\n",
       "\"\"\"\n",
       "                 Generalized Linear Model Regression Results                  \n",
       "==============================================================================\n",
       "Dep. Variable:           total_claims   No. Observations:                15987\n",
       "Model:                            GLM   Df Residuals:                    15972\n",
       "Model Family:                 Poisson   Df Model:                           14\n",
       "Link Function:                    Log   Scale:                          1.0000\n",
       "Method:                          IRLS   Log-Likelihood:                -91741.\n",
       "Date:                Tue, 09 May 2023   Deviance:                   1.0617e+05\n",
       "Time:                        22:23:56   Pearson chi2:                 1.33e+05\n",
       "No. Iterations:                     5   Pseudo R-squ. (CS):             0.2356\n",
       "Covariance Type:            nonrobust                                         \n",
       "=================================================================================\n",
       "                    coef    std err          z      P>|z|      [0.025      0.975]\n",
       "---------------------------------------------------------------------------------\n",
       "week_number       0.0995      0.002     47.746      0.000       0.095       0.104\n",
       "average_wage  -1.341e-05   4.17e-07    -32.198      0.000   -1.42e-05   -1.26e-05\n",
       "week_number2     -0.0004   6.42e-05     -6.565      0.000      -0.001      -0.000\n",
       "month_1           2.1226      0.005    406.869      0.000       2.112       2.133\n",
       "month_2           1.6196      0.009    187.307      0.000       1.603       1.637\n",
       "month_3           1.2621      0.012    108.911      0.000       1.239       1.285\n",
       "month_4           0.9807      0.012     79.097      0.000       0.956       1.005\n",
       "month_5           0.3220      0.012     26.872      0.000       0.299       0.346\n",
       "month_6          -0.0113      0.009     -1.193      0.233      -0.030       0.007\n",
       "month_7          -0.2598      0.005    -51.383      0.000      -0.270      -0.250\n",
       "month_8          -0.6277      0.008    -75.898      0.000      -0.644      -0.611\n",
       "month_9          -0.7077      0.015    -46.552      0.000      -0.737      -0.678\n",
       "weekofmonth_1     1.0676      0.007    156.084      0.000       1.054       1.081\n",
       "weekofmonth_2     1.0678      0.006    168.216      0.000       1.055       1.080\n",
       "weekofmonth_3     0.9275      0.006    150.945      0.000       0.915       0.940\n",
       "weekofmonth_4     0.8476      0.006    149.460      0.000       0.836       0.859\n",
       "weekofmonth_5     0.7901      0.008    101.001      0.000       0.775       0.805\n",
       "=================================================================================\n",
       "\"\"\""
      ]
     },
     "execution_count": 36,
     "metadata": {},
     "output_type": "execute_result"
    }
   ],
   "source": [
    "poission_model = sm.GLM(data_train_y.astype(int), data_train_x_m1.astype(float), family=sm.families.Poisson())\n",
    "result = poission_model.fit()\n",
    "result.summary()"
   ]
  },
  {
   "cell_type": "code",
   "execution_count": 37,
   "id": "c82cda3a",
   "metadata": {
    "execution": {
     "iopub.execute_input": "2023-05-10T02:23:56.468298Z",
     "iopub.status.busy": "2023-05-10T02:23:56.468010Z",
     "iopub.status.idle": "2023-05-10T02:23:56.477318Z",
     "shell.execute_reply": "2023-05-10T02:23:56.476683Z"
    }
   },
   "outputs": [
    {
     "name": "stdout",
     "output_type": "stream",
     "text": [
      "MSPE:  18014.47202658045\n",
      "MAPE:  132.17734114950738\n"
     ]
    }
   ],
   "source": [
    "data_estimate_m1 = result.predict(data_valid_x_m1.astype(float))\n",
    "MSPE(data_estimate_m1, data_valid_y)\n",
    "MAPE(data_estimate_m1, data_valid_y)"
   ]
  },
  {
   "cell_type": "code",
   "execution_count": 38,
   "id": "c1b3af17",
   "metadata": {
    "execution": {
     "iopub.execute_input": "2023-05-10T02:23:56.480774Z",
     "iopub.status.busy": "2023-05-10T02:23:56.480453Z",
     "iopub.status.idle": "2023-05-10T02:23:56.504824Z",
     "shell.execute_reply": "2023-05-10T02:23:56.503943Z"
    }
   },
   "outputs": [
    {
     "name": "stderr",
     "output_type": "stream",
     "text": [
      "/var/folders/l2/cnhff0_n1470l4xf0p7v7l_40000gn/T/ipykernel_18169/544760508.py:3: SettingWithCopyWarning: \n",
      "A value is trying to be set on a copy of a slice from a DataFrame.\n",
      "Try using .loc[row_indexer,col_indexer] = value instead\n",
      "\n",
      "See the caveats in the documentation: https://pandas.pydata.org/pandas-docs/stable/user_guide/indexing.html#returning-a-view-versus-a-copy\n",
      "  data_balance_train_x_m1[\"month\"] = data_balance_train_x_m1[\"month\"].astype(str)\n",
      "/var/folders/l2/cnhff0_n1470l4xf0p7v7l_40000gn/T/ipykernel_18169/544760508.py:4: SettingWithCopyWarning: \n",
      "A value is trying to be set on a copy of a slice from a DataFrame.\n",
      "Try using .loc[row_indexer,col_indexer] = value instead\n",
      "\n",
      "See the caveats in the documentation: https://pandas.pydata.org/pandas-docs/stable/user_guide/indexing.html#returning-a-view-versus-a-copy\n",
      "  data_balance_train_x_m1[\"weekofmonth\"] = data_balance_train_x_m1[\"weekofmonth\"].astype(str)\n",
      "/var/folders/l2/cnhff0_n1470l4xf0p7v7l_40000gn/T/ipykernel_18169/544760508.py:5: SettingWithCopyWarning: \n",
      "A value is trying to be set on a copy of a slice from a DataFrame.\n",
      "Try using .loc[row_indexer,col_indexer] = value instead\n",
      "\n",
      "See the caveats in the documentation: https://pandas.pydata.org/pandas-docs/stable/user_guide/indexing.html#returning-a-view-versus-a-copy\n",
      "  data_balance_train_x_m1[\"week_number2\"] = data_balance_train_x_m1[\"week_number\"]**2\n"
     ]
    }
   ],
   "source": [
    "# Model 2: Poisson with balanced data\n",
    "data_balance_train_x_m1 = data_balance_train_x[[\"week_number\",\"month\", \"weekofmonth\",  \"average_wage\"]]\n",
    "data_balance_train_x_m1[\"month\"] = data_balance_train_x_m1[\"month\"].astype(str)\n",
    "data_balance_train_x_m1[\"weekofmonth\"] = data_balance_train_x_m1[\"weekofmonth\"].astype(str)\n",
    "data_balance_train_x_m1[\"week_number2\"] = data_balance_train_x_m1[\"week_number\"]**2\n",
    "data_balance_train_x_m1 = pd.get_dummies(data_balance_train_x_m1)"
   ]
  },
  {
   "cell_type": "code",
   "execution_count": 39,
   "id": "461785d4",
   "metadata": {
    "execution": {
     "iopub.execute_input": "2023-05-10T02:23:56.509522Z",
     "iopub.status.busy": "2023-05-10T02:23:56.509174Z",
     "iopub.status.idle": "2023-05-10T02:23:56.520041Z",
     "shell.execute_reply": "2023-05-10T02:23:56.519259Z"
    }
   },
   "outputs": [
    {
     "name": "stderr",
     "output_type": "stream",
     "text": [
      "/var/folders/l2/cnhff0_n1470l4xf0p7v7l_40000gn/T/ipykernel_18169/236819202.py:2: SettingWithCopyWarning: \n",
      "A value is trying to be set on a copy of a slice from a DataFrame.\n",
      "Try using .loc[row_indexer,col_indexer] = value instead\n",
      "\n",
      "See the caveats in the documentation: https://pandas.pydata.org/pandas-docs/stable/user_guide/indexing.html#returning-a-view-versus-a-copy\n",
      "  data_balance_valid_x_m1[\"month\"] = data_balance_valid_x_m1[\"month\"].astype(str)\n",
      "/var/folders/l2/cnhff0_n1470l4xf0p7v7l_40000gn/T/ipykernel_18169/236819202.py:3: SettingWithCopyWarning: \n",
      "A value is trying to be set on a copy of a slice from a DataFrame.\n",
      "Try using .loc[row_indexer,col_indexer] = value instead\n",
      "\n",
      "See the caveats in the documentation: https://pandas.pydata.org/pandas-docs/stable/user_guide/indexing.html#returning-a-view-versus-a-copy\n",
      "  data_balance_valid_x_m1[\"weekofmonth\"] = data_balance_valid_x_m1[\"weekofmonth\"].astype(str)\n",
      "/var/folders/l2/cnhff0_n1470l4xf0p7v7l_40000gn/T/ipykernel_18169/236819202.py:4: SettingWithCopyWarning: \n",
      "A value is trying to be set on a copy of a slice from a DataFrame.\n",
      "Try using .loc[row_indexer,col_indexer] = value instead\n",
      "\n",
      "See the caveats in the documentation: https://pandas.pydata.org/pandas-docs/stable/user_guide/indexing.html#returning-a-view-versus-a-copy\n",
      "  data_balance_valid_x_m1[\"week_number2\"] = data_balance_valid_x_m1[\"week_number\"]**2\n"
     ]
    }
   ],
   "source": [
    "data_balance_valid_x_m1 = data_balance_valid_x[[\"week_number\",\"month\", \"weekofmonth\",  \"average_wage\"]]\n",
    "data_balance_valid_x_m1[\"month\"] = data_balance_valid_x_m1[\"month\"].astype(str)\n",
    "data_balance_valid_x_m1[\"weekofmonth\"] = data_balance_valid_x_m1[\"weekofmonth\"].astype(str)\n",
    "data_balance_valid_x_m1[\"week_number2\"] = data_balance_valid_x_m1[\"week_number\"]**2\n",
    "data_balance_valid_x_m1 = pd.get_dummies(data_balance_valid_x_m1)"
   ]
  },
  {
   "cell_type": "code",
   "execution_count": 40,
   "id": "f9b4c3e7",
   "metadata": {
    "execution": {
     "iopub.execute_input": "2023-05-10T02:23:56.525594Z",
     "iopub.status.busy": "2023-05-10T02:23:56.525234Z",
     "iopub.status.idle": "2023-05-10T02:23:56.531720Z",
     "shell.execute_reply": "2023-05-10T02:23:56.531012Z"
    }
   },
   "outputs": [],
   "source": [
    "for i in range(8):\n",
    "    data_balance_valid_x_m1[\"month_\"+str(1+i)] = 0"
   ]
  },
  {
   "cell_type": "code",
   "execution_count": 41,
   "id": "eac04fab",
   "metadata": {
    "execution": {
     "iopub.execute_input": "2023-05-10T02:23:56.535432Z",
     "iopub.status.busy": "2023-05-10T02:23:56.535128Z",
     "iopub.status.idle": "2023-05-10T02:23:56.541434Z",
     "shell.execute_reply": "2023-05-10T02:23:56.540739Z"
    }
   },
   "outputs": [],
   "source": [
    "for i in range(5):\n",
    "    if i == 1:\n",
    "        pass\n",
    "    data_balance_valid_x_m1[\"weekofmonth_\"+str(1+i)] = 0"
   ]
  },
  {
   "cell_type": "code",
   "execution_count": 42,
   "id": "b3ba1727",
   "metadata": {
    "execution": {
     "iopub.execute_input": "2023-05-10T02:23:56.544801Z",
     "iopub.status.busy": "2023-05-10T02:23:56.544522Z",
     "iopub.status.idle": "2023-05-10T02:23:56.646786Z",
     "shell.execute_reply": "2023-05-10T02:23:56.645863Z"
    }
   },
   "outputs": [
    {
     "data": {
      "text/html": [
       "<table class=\"simpletable\">\n",
       "<caption>Generalized Linear Model Regression Results</caption>\n",
       "<tr>\n",
       "  <th>Dep. Variable:</th>     <td>total_claims</td>   <th>  No. Observations:  </th>   <td> 18900</td>   \n",
       "</tr>\n",
       "<tr>\n",
       "  <th>Model:</th>                  <td>GLM</td>       <th>  Df Residuals:      </th>   <td> 18885</td>   \n",
       "</tr>\n",
       "<tr>\n",
       "  <th>Model Family:</th>         <td>Poisson</td>     <th>  Df Model:          </th>   <td>    14</td>   \n",
       "</tr>\n",
       "<tr>\n",
       "  <th>Link Function:</th>          <td>Log</td>       <th>  Scale:             </th>  <td>  1.0000</td>  \n",
       "</tr>\n",
       "<tr>\n",
       "  <th>Method:</th>                <td>IRLS</td>       <th>  Log-Likelihood:    </th> <td>-1.7382e+05</td>\n",
       "</tr>\n",
       "<tr>\n",
       "  <th>Date:</th>            <td>Tue, 09 May 2023</td> <th>  Deviance:          </th> <td>2.8202e+05</td> \n",
       "</tr>\n",
       "<tr>\n",
       "  <th>Time:</th>                <td>22:23:56</td>     <th>  Pearson chi2:      </th>  <td>2.76e+05</td>  \n",
       "</tr>\n",
       "<tr>\n",
       "  <th>No. Iterations:</th>          <td>5</td>        <th>  Pseudo R-squ. (CS):</th>   <td>0.6626</td>   \n",
       "</tr>\n",
       "<tr>\n",
       "  <th>Covariance Type:</th>     <td>nonrobust</td>    <th>                     </th>      <td> </td>     \n",
       "</tr>\n",
       "</table>\n",
       "<table class=\"simpletable\">\n",
       "<tr>\n",
       "        <td></td>           <th>coef</th>     <th>std err</th>      <th>z</th>      <th>P>|z|</th>  <th>[0.025</th>    <th>0.975]</th>  \n",
       "</tr>\n",
       "<tr>\n",
       "  <th>week_number</th>   <td>   -0.0230</td> <td>    0.002</td> <td>   -9.760</td> <td> 0.000</td> <td>   -0.028</td> <td>   -0.018</td>\n",
       "</tr>\n",
       "<tr>\n",
       "  <th>average_wage</th>  <td>-2.722e-05</td> <td> 4.49e-07</td> <td>  -60.632</td> <td> 0.000</td> <td>-2.81e-05</td> <td>-2.63e-05</td>\n",
       "</tr>\n",
       "<tr>\n",
       "  <th>week_number2</th>  <td>    0.0032</td> <td> 7.26e-05</td> <td>   44.588</td> <td> 0.000</td> <td>    0.003</td> <td>    0.003</td>\n",
       "</tr>\n",
       "<tr>\n",
       "  <th>month_1</th>       <td>    2.0364</td> <td>    0.005</td> <td>  387.843</td> <td> 0.000</td> <td>    2.026</td> <td>    2.047</td>\n",
       "</tr>\n",
       "<tr>\n",
       "  <th>month_2</th>       <td>    2.0818</td> <td>    0.009</td> <td>  225.369</td> <td> 0.000</td> <td>    2.064</td> <td>    2.100</td>\n",
       "</tr>\n",
       "<tr>\n",
       "  <th>month_3</th>       <td>    1.8232</td> <td>    0.013</td> <td>  143.545</td> <td> 0.000</td> <td>    1.798</td> <td>    1.848</td>\n",
       "</tr>\n",
       "<tr>\n",
       "  <th>month_4</th>       <td>    1.6441</td> <td>    0.014</td> <td>  118.539</td> <td> 0.000</td> <td>    1.617</td> <td>    1.671</td>\n",
       "</tr>\n",
       "<tr>\n",
       "  <th>month_5</th>       <td>    0.8062</td> <td>    0.013</td> <td>   61.293</td> <td> 0.000</td> <td>    0.780</td> <td>    0.832</td>\n",
       "</tr>\n",
       "<tr>\n",
       "  <th>month_6</th>       <td>    0.0769</td> <td>    0.010</td> <td>    7.472</td> <td> 0.000</td> <td>    0.057</td> <td>    0.097</td>\n",
       "</tr>\n",
       "<tr>\n",
       "  <th>month_7</th>       <td>   -0.2897</td> <td>    0.005</td> <td>  -53.410</td> <td> 0.000</td> <td>   -0.300</td> <td>   -0.279</td>\n",
       "</tr>\n",
       "<tr>\n",
       "  <th>month_8</th>       <td>   -0.9624</td> <td>    0.010</td> <td>  -92.404</td> <td> 0.000</td> <td>   -0.983</td> <td>   -0.942</td>\n",
       "</tr>\n",
       "<tr>\n",
       "  <th>month_9</th>       <td>   -1.2666</td> <td>    0.017</td> <td>  -74.508</td> <td> 0.000</td> <td>   -1.300</td> <td>   -1.233</td>\n",
       "</tr>\n",
       "<tr>\n",
       "  <th>weekofmonth_1</th> <td>    1.2472</td> <td>    0.007</td> <td>  175.029</td> <td> 0.000</td> <td>    1.233</td> <td>    1.261</td>\n",
       "</tr>\n",
       "<tr>\n",
       "  <th>weekofmonth_2</th> <td>    1.3475</td> <td>    0.007</td> <td>  189.744</td> <td> 0.000</td> <td>    1.334</td> <td>    1.361</td>\n",
       "</tr>\n",
       "<tr>\n",
       "  <th>weekofmonth_3</th> <td>    1.2469</td> <td>    0.007</td> <td>  177.009</td> <td> 0.000</td> <td>    1.233</td> <td>    1.261</td>\n",
       "</tr>\n",
       "<tr>\n",
       "  <th>weekofmonth_4</th> <td>    0.9476</td> <td>    0.007</td> <td>  138.124</td> <td> 0.000</td> <td>    0.934</td> <td>    0.961</td>\n",
       "</tr>\n",
       "<tr>\n",
       "  <th>weekofmonth_5</th> <td>    1.1608</td> <td>    0.008</td> <td>  145.799</td> <td> 0.000</td> <td>    1.145</td> <td>    1.176</td>\n",
       "</tr>\n",
       "</table>"
      ],
      "text/plain": [
       "<class 'statsmodels.iolib.summary.Summary'>\n",
       "\"\"\"\n",
       "                 Generalized Linear Model Regression Results                  \n",
       "==============================================================================\n",
       "Dep. Variable:           total_claims   No. Observations:                18900\n",
       "Model:                            GLM   Df Residuals:                    18885\n",
       "Model Family:                 Poisson   Df Model:                           14\n",
       "Link Function:                    Log   Scale:                          1.0000\n",
       "Method:                          IRLS   Log-Likelihood:            -1.7382e+05\n",
       "Date:                Tue, 09 May 2023   Deviance:                   2.8202e+05\n",
       "Time:                        22:23:56   Pearson chi2:                 2.76e+05\n",
       "No. Iterations:                     5   Pseudo R-squ. (CS):             0.6626\n",
       "Covariance Type:            nonrobust                                         \n",
       "=================================================================================\n",
       "                    coef    std err          z      P>|z|      [0.025      0.975]\n",
       "---------------------------------------------------------------------------------\n",
       "week_number      -0.0230      0.002     -9.760      0.000      -0.028      -0.018\n",
       "average_wage  -2.722e-05   4.49e-07    -60.632      0.000   -2.81e-05   -2.63e-05\n",
       "week_number2      0.0032   7.26e-05     44.588      0.000       0.003       0.003\n",
       "month_1           2.0364      0.005    387.843      0.000       2.026       2.047\n",
       "month_2           2.0818      0.009    225.369      0.000       2.064       2.100\n",
       "month_3           1.8232      0.013    143.545      0.000       1.798       1.848\n",
       "month_4           1.6441      0.014    118.539      0.000       1.617       1.671\n",
       "month_5           0.8062      0.013     61.293      0.000       0.780       0.832\n",
       "month_6           0.0769      0.010      7.472      0.000       0.057       0.097\n",
       "month_7          -0.2897      0.005    -53.410      0.000      -0.300      -0.279\n",
       "month_8          -0.9624      0.010    -92.404      0.000      -0.983      -0.942\n",
       "month_9          -1.2666      0.017    -74.508      0.000      -1.300      -1.233\n",
       "weekofmonth_1     1.2472      0.007    175.029      0.000       1.233       1.261\n",
       "weekofmonth_2     1.3475      0.007    189.744      0.000       1.334       1.361\n",
       "weekofmonth_3     1.2469      0.007    177.009      0.000       1.233       1.261\n",
       "weekofmonth_4     0.9476      0.007    138.124      0.000       0.934       0.961\n",
       "weekofmonth_5     1.1608      0.008    145.799      0.000       1.145       1.176\n",
       "=================================================================================\n",
       "\"\"\""
      ]
     },
     "execution_count": 42,
     "metadata": {},
     "output_type": "execute_result"
    }
   ],
   "source": [
    "poission_model_m2 = sm.GLM(data_balance_train_y.astype(int), data_balance_train_x_m1.astype(float), family=sm.families.Poisson())\n",
    "result_m2 = poission_model_m2.fit()\n",
    "result_m2.summary()"
   ]
  },
  {
   "cell_type": "code",
   "execution_count": 43,
   "id": "a04f665d",
   "metadata": {
    "execution": {
     "iopub.execute_input": "2023-05-10T02:23:56.653098Z",
     "iopub.status.busy": "2023-05-10T02:23:56.652757Z",
     "iopub.status.idle": "2023-05-10T02:23:56.664926Z",
     "shell.execute_reply": "2023-05-10T02:23:56.662311Z"
    }
   },
   "outputs": [
    {
     "name": "stdout",
     "output_type": "stream",
     "text": [
      "MSPE:  33104.78877060478\n",
      "MAPE:  179.04910982927015\n"
     ]
    }
   ],
   "source": [
    "data_balance_estimate_m2 = result_m2.predict(data_balance_valid_x_m1.astype(float))\n",
    "MSPE(data_balance_estimate_m2, data_balance_valid_y)\n",
    "MAPE(data_balance_estimate_m2, data_balance_valid_y)"
   ]
  },
  {
   "cell_type": "code",
   "execution_count": 44,
   "id": "cf5353f9",
   "metadata": {
    "execution": {
     "iopub.execute_input": "2023-05-10T02:23:56.677741Z",
     "iopub.status.busy": "2023-05-10T02:23:56.677381Z",
     "iopub.status.idle": "2023-05-10T02:23:56.690477Z",
     "shell.execute_reply": "2023-05-10T02:23:56.687670Z"
    }
   },
   "outputs": [],
   "source": [
    "# Although using a balanced model has better fit on the training set, the MSPE and MAPE are still larger then the first model.\n",
    "# So for this submission, I sitll use the m1 for prediction.\n",
    "data_lastWeek = data[data[\"week_number\"] == train_week][[\"uu_id\", \"average_wage\"]]\n",
    "data_lastWeek = data_lastWeek.drop_duplicates()"
   ]
  },
  {
   "cell_type": "code",
   "execution_count": 45,
   "id": "59287a73",
   "metadata": {
    "execution": {
     "iopub.execute_input": "2023-05-10T02:23:56.694699Z",
     "iopub.status.busy": "2023-05-10T02:23:56.694274Z",
     "iopub.status.idle": "2023-05-10T02:23:56.717473Z",
     "shell.execute_reply": "2023-05-10T02:23:56.715927Z"
    }
   },
   "outputs": [
    {
     "name": "stderr",
     "output_type": "stream",
     "text": [
      "/var/folders/l2/cnhff0_n1470l4xf0p7v7l_40000gn/T/ipykernel_18169/2532250046.py:7: FutureWarning: In a future version of pandas all arguments of DataFrame.drop except for the argument 'labels' will be keyword-only.\n",
      "  data_pred = data_pred.drop(\"date\",1)\n"
     ]
    }
   ],
   "source": [
    "data_pred = data_pred_query.copy()\n",
    "data_pred = data_pred.set_index('uu_id').join(data_lastWeek.set_index('uu_id'))\n",
    "data_pred.head()\n",
    "data_pred = dataIdentifyDWM(data_pred)\n",
    "data_pred = dataFillNa(data_pred, 0)\n",
    "data_pred[\"month\"] = data_pred[\"month\"].astype(str)\n",
    "data_pred = data_pred.drop(\"date\",1)\n",
    "data_pred = pd.get_dummies(data_pred)\n",
    "for i in range(8):\n",
    "    data_pred[\"month_\"+str(1+i)] = 0\n",
    "for i in range(5):\n",
    "    if i == 1:\n",
    "        pass\n",
    "    data_pred[\"weekofmonth_\"+str(1+i)] = 0"
   ]
  },
  {
   "cell_type": "code",
   "execution_count": 46,
   "id": "63f1df9e",
   "metadata": {
    "execution": {
     "iopub.execute_input": "2023-05-10T02:23:56.725680Z",
     "iopub.status.busy": "2023-05-10T02:23:56.721210Z",
     "iopub.status.idle": "2023-05-10T02:23:56.732477Z",
     "shell.execute_reply": "2023-05-10T02:23:56.731837Z"
    }
   },
   "outputs": [],
   "source": [
    "output = result.predict(data_pred.astype(float))\n",
    "output_df = pd.DataFrame(output, columns=[\"total_claims\"])[\"total_claims\"]\n",
    "output_df[\"uu_id\"] = output_df.index"
   ]
  },
  {
   "cell_type": "code",
   "execution_count": 47,
   "id": "b89f7e2f",
   "metadata": {
    "execution": {
     "iopub.execute_input": "2023-05-10T02:23:56.735962Z",
     "iopub.status.busy": "2023-05-10T02:23:56.735679Z",
     "iopub.status.idle": "2023-05-10T02:23:56.745981Z",
     "shell.execute_reply": "2023-05-10T02:23:56.745149Z"
    }
   },
   "outputs": [],
   "source": [
    "data_pred_query = data_pred_query.merge(output_df, on = \"uu_id\")\n",
    "data_pred_query = data_pred_query[[\"uu_id\", \"total_claims\", \"week_number\"]]"
   ]
  },
  {
   "cell_type": "code",
   "execution_count": 48,
   "id": "f2f65631",
   "metadata": {
    "execution": {
     "iopub.execute_input": "2023-05-10T02:23:56.749532Z",
     "iopub.status.busy": "2023-05-10T02:23:56.749241Z",
     "iopub.status.idle": "2023-05-10T02:23:56.756553Z",
     "shell.execute_reply": "2023-05-10T02:23:56.755235Z"
    },
    "lines_to_next_cell": 2
   },
   "outputs": [],
   "source": [
    "## This can also be a good place for you to cleanup any input/output and export your results to a file.\n",
    "data_pred_query.to_csv(\"submission_prediction_output.csv\", index=False)"
   ]
  }
 ],
 "metadata": {
  "jupytext": {
   "cell_metadata_filter": "-all",
   "main_language": "python",
   "notebook_metadata_filter": "-all"
  },
  "language_info": {
   "codemirror_mode": {
    "name": "ipython",
    "version": 3
   },
   "file_extension": ".py",
   "mimetype": "text/x-python",
   "name": "python",
   "nbconvert_exporter": "python",
   "pygments_lexer": "ipython3",
   "version": "3.9.12"
  }
 },
 "nbformat": 4,
 "nbformat_minor": 5
}
