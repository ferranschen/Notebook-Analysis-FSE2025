{
 "cells": [
  {
   "cell_type": "code",
   "execution_count": 1,
   "id": "87b670a3",
   "metadata": {
    "execution": {
     "iopub.execute_input": "2023-05-09T23:06:51.534884Z",
     "iopub.status.busy": "2023-05-09T23:06:51.534759Z",
     "iopub.status.idle": "2023-05-09T23:06:51.543173Z",
     "shell.execute_reply": "2023-05-09T23:06:51.542846Z"
    }
   },
   "outputs": [],
   "source": [
    "get_ipython().run_cell_magic('capture', '', \"%logstop\\n%logstart -t -r -q ipython_command_log.py global\\n\\n#- IRONHACKS RESEARCH TRACKING CODE\\n#----------------------------------\\n# The following code is used to help our research team understand how you \\n# our notebook environment. We do not collect any personal information with\\n# the following code, it is used to measure when and how often you work on\\n# your submission files.\\n\\nimport os\\nfrom datetime import datetime\\nimport IPython.core.history as history\\n\\nha = history.HistoryAccessor()\\nha_tail = ha.get_tail(1)\\nha_cmd = next(ha_tail)\\nsession_id = str(ha_cmd[0])\\ncommand_id = str(ha_cmd[1])\\ntimestamp = datetime.utcnow().isoformat()\\nhistory_line = ','.join([session_id, command_id, timestamp]) + '\\\\n'\\nlogfile = open(os.environ['HOME']+'/ipython_session_log.csv', 'a')\\nlogfile.write(history_line)\\nlogfile.close()\\n\")"
   ]
  },
  {
   "cell_type": "code",
   "execution_count": 2,
   "id": "5c44140c",
   "metadata": {
    "execution": {
     "iopub.execute_input": "2023-05-09T23:06:51.544900Z",
     "iopub.status.busy": "2023-05-09T23:06:51.544784Z",
     "iopub.status.idle": "2023-05-09T23:06:51.547138Z",
     "shell.execute_reply": "2023-05-09T23:06:51.546923Z"
    }
   },
   "outputs": [],
   "source": [
    "get_ipython().run_cell_magic('capture', '', \"\\n#- INSTALL ADDITIONAL LIBRARIES IF REQUIRED\\n#------------------------------------------\\n# This is normally not required. The hub environment comes preinstaled with \\n# many packages that you can already use without setup. In case there is some\\n# other library you would like to use that isn't on the list you run this command\\n# once to install them.  If it is already installed this command has no effect.\\n\\n#!python3 -m pip install pandas\\n\")"
   ]
  },
  {
   "cell_type": "markdown",
   "id": "9b8110fb",
   "metadata": {},
   "source": [
    "- IMPORT THE LIBRARIES YOU WILL USE\n",
    "------------------------------------------\n",
    "You only need to import packages one time per notebook session. To keep your\n",
    "notebook clean and organized you can handle all imports at the top of your file.\n",
    "The following are included for example purposed, feel free to modify or delete \n",
    "anything in this section."
   ]
  },
  {
   "cell_type": "code",
   "execution_count": 3,
   "id": "0d8e265c",
   "metadata": {
    "execution": {
     "iopub.execute_input": "2023-05-09T23:06:51.548468Z",
     "iopub.status.busy": "2023-05-09T23:06:51.548376Z",
     "iopub.status.idle": "2023-05-09T23:06:51.929055Z",
     "shell.execute_reply": "2023-05-09T23:06:51.928754Z"
    }
   },
   "outputs": [],
   "source": [
    "import csv\n",
    "import pandas as pd\n",
    "import numpy as np\n",
    "from google.cloud import bigquery\n",
    "from google.oauth2 import service_account\n",
    "from google.cloud.bigquery import magics"
   ]
  },
  {
   "cell_type": "markdown",
   "id": "d94d58d3",
   "metadata": {},
   "source": [
    "- DEFINE YOUR CLASSES AND FUNCTIONS \n",
    "-----------------------------------\n",
    "This is not required, but is helpful in keeping your notebook organized. \n",
    "You can use the following cell or several cells to define your functions\n",
    "and classes to keep them separate from your analysis or results code.\n",
    "In general it useful to define your methods in a separate cell from where\n",
    "it is run."
   ]
  },
  {
   "cell_type": "code",
   "execution_count": 4,
   "id": "849d8652",
   "metadata": {
    "execution": {
     "iopub.execute_input": "2023-05-09T23:06:51.930761Z",
     "iopub.status.busy": "2023-05-09T23:06:51.930624Z",
     "iopub.status.idle": "2023-05-09T23:06:51.937612Z",
     "shell.execute_reply": "2023-05-09T23:06:51.937293Z"
    }
   },
   "outputs": [],
   "source": [
    "BIGQUERY_PROJECT = 'ironhacks-data'\n",
    "bigquery_client = bigquery.Client(project=BIGQUERY_PROJECT)"
   ]
  },
  {
   "cell_type": "code",
   "execution_count": 5,
   "id": "45415bae",
   "metadata": {
    "execution": {
     "iopub.execute_input": "2023-05-09T23:06:51.939176Z",
     "iopub.status.busy": "2023-05-09T23:06:51.939089Z",
     "iopub.status.idle": "2023-05-09T23:06:56.377125Z",
     "shell.execute_reply": "2023-05-09T23:06:56.376341Z"
    }
   },
   "outputs": [
    {
     "name": "stdout",
     "output_type": "stream",
     "text": [
      "\u001b[33mWARNING: Ignoring invalid distribution -umpy (/opt/anaconda3/lib/python3.9/site-packages)\u001b[0m\r\n"
     ]
    },
    {
     "name": "stdout",
     "output_type": "stream",
     "text": [
      "\u001b[33mWARNING: Ignoring invalid distribution -umpy (/opt/anaconda3/lib/python3.9/site-packages)\u001b[0m\r\n",
      "Requirement already satisfied: db-dtypes in /opt/anaconda3/lib/python3.9/site-packages (1.0.5)\r\n",
      "Requirement already satisfied: numpy<2.0dev,>=1.16.6 in /opt/anaconda3/lib/python3.9/site-packages (from db-dtypes) (1.22.4)\r\n",
      "Requirement already satisfied: pyarrow>=3.0.0 in /opt/anaconda3/lib/python3.9/site-packages (from db-dtypes) (10.0.1)\r\n",
      "Requirement already satisfied: packaging>=17.0 in /opt/anaconda3/lib/python3.9/site-packages (from db-dtypes) (21.3)\r\n",
      "Requirement already satisfied: pandas<2.0dev,>=0.24.2 in /opt/anaconda3/lib/python3.9/site-packages (from db-dtypes) (1.5.3)\r\n",
      "Requirement already satisfied: pyparsing!=3.0.5,>=2.0.2 in /opt/anaconda3/lib/python3.9/site-packages (from packaging>=17.0->db-dtypes) (3.0.4)\r\n",
      "Requirement already satisfied: python-dateutil>=2.8.1 in /opt/anaconda3/lib/python3.9/site-packages (from pandas<2.0dev,>=0.24.2->db-dtypes) (2.8.2)\r\n",
      "Requirement already satisfied: pytz>=2020.1 in /opt/anaconda3/lib/python3.9/site-packages (from pandas<2.0dev,>=0.24.2->db-dtypes) (2021.3)\r\n",
      "Requirement already satisfied: six>=1.5 in /opt/anaconda3/lib/python3.9/site-packages (from python-dateutil>=2.8.1->pandas<2.0dev,>=0.24.2->db-dtypes) (1.16.0)\r\n",
      "\u001b[33mWARNING: Ignoring invalid distribution -umpy (/opt/anaconda3/lib/python3.9/site-packages)\u001b[0m\r\n"
     ]
    },
    {
     "name": "stdout",
     "output_type": "stream",
     "text": [
      "\u001b[33mWARNING: Ignoring invalid distribution -umpy (/opt/anaconda3/lib/python3.9/site-packages)\u001b[0m\r\n",
      "\u001b[33mWARNING: Ignoring invalid distribution -umpy (/opt/anaconda3/lib/python3.9/site-packages)\u001b[0m\r\n",
      "\u001b[33mWARNING: Ignoring invalid distribution -umpy (/opt/anaconda3/lib/python3.9/site-packages)\u001b[0m\r\n"
     ]
    }
   ],
   "source": [
    "!pip install db-dtypes\n",
    "query_unemployment = \"\"\"\n",
    "SELECT *\n",
    "FROM `ironhacks-data.ironhacks_competition.unemployment_data` \n",
    "\"\"\"\n",
    "query = bigquery_client.query(query_unemployment)\n",
    "df_unemployment = query.to_dataframe()\n",
    "#df_unemployment.head()"
   ]
  },
  {
   "cell_type": "code",
   "execution_count": 6,
   "id": "64acb333",
   "metadata": {
    "execution": {
     "iopub.execute_input": "2023-05-09T23:06:56.381411Z",
     "iopub.status.busy": "2023-05-09T23:06:56.380868Z",
     "iopub.status.idle": "2023-05-09T23:06:58.049916Z",
     "shell.execute_reply": "2023-05-09T23:06:58.048652Z"
    }
   },
   "outputs": [],
   "source": [
    "query_wage = \"\"\"\n",
    "SELECT *\n",
    "FROM `ironhacks-data.ironhacks_competition.wage_data`\n",
    "\"\"\"\n",
    "query = bigquery_client.query(query_wage)\n",
    "df_wage = query.to_dataframe()\n",
    "#df_wage.head()"
   ]
  },
  {
   "cell_type": "code",
   "execution_count": 7,
   "id": "ab74525c",
   "metadata": {
    "execution": {
     "iopub.execute_input": "2023-05-09T23:06:58.056933Z",
     "iopub.status.busy": "2023-05-09T23:06:58.056444Z",
     "iopub.status.idle": "2023-05-09T23:07:00.067504Z",
     "shell.execute_reply": "2023-05-09T23:07:00.066270Z"
    }
   },
   "outputs": [],
   "source": [
    "query_pred_list = \"\"\"\n",
    "SELECT *\n",
    "FROM `ironhacks-data.ironhacks_competition.prediction_list`\n",
    "\"\"\"\n",
    "query = bigquery_client.query(query_pred_list)\n",
    "df_pred_list = query.to_dataframe()\n",
    "#df_pred_list.head()"
   ]
  },
  {
   "cell_type": "code",
   "execution_count": 8,
   "id": "ea4e081a",
   "metadata": {
    "execution": {
     "iopub.execute_input": "2023-05-09T23:07:00.074111Z",
     "iopub.status.busy": "2023-05-09T23:07:00.073646Z",
     "iopub.status.idle": "2023-05-09T23:07:02.163981Z",
     "shell.execute_reply": "2023-05-09T23:07:02.163019Z"
    }
   },
   "outputs": [],
   "source": [
    "query_schema = \"\"\"\n",
    "SELECT *\n",
    "FROM `ironhacks-data.ironhacks_competition.INFORMATION_SCHEMA.TABLES`\n",
    "\"\"\"\n",
    "query = bigquery_client.query(query_schema)\n",
    "df_schema = query.to_dataframe()\n",
    "#df_schema.head()"
   ]
  },
  {
   "cell_type": "code",
   "execution_count": 9,
   "id": "ea9bad64",
   "metadata": {
    "execution": {
     "iopub.execute_input": "2023-05-09T23:07:02.168829Z",
     "iopub.status.busy": "2023-05-09T23:07:02.168452Z",
     "iopub.status.idle": "2023-05-09T23:07:02.174486Z",
     "shell.execute_reply": "2023-05-09T23:07:02.173862Z"
    }
   },
   "outputs": [],
   "source": [
    "df_three_col = df_unemployment[[\"uu_id\", \"week_number\", \"total_claims\"]]\n",
    "#df_three_col.shape"
   ]
  },
  {
   "cell_type": "code",
   "execution_count": 10,
   "id": "487a4877",
   "metadata": {
    "execution": {
     "iopub.execute_input": "2023-05-09T23:07:02.177830Z",
     "iopub.status.busy": "2023-05-09T23:07:02.177567Z",
     "iopub.status.idle": "2023-05-09T23:07:02.186096Z",
     "shell.execute_reply": "2023-05-09T23:07:02.185565Z"
    }
   },
   "outputs": [],
   "source": [
    "df_three_col = df_three_col.drop_duplicates()\n",
    "#print(df_three_col.shape)"
   ]
  },
  {
   "cell_type": "code",
   "execution_count": 11,
   "id": "f69405d9",
   "metadata": {
    "execution": {
     "iopub.execute_input": "2023-05-09T23:07:02.189321Z",
     "iopub.status.busy": "2023-05-09T23:07:02.188785Z",
     "iopub.status.idle": "2023-05-09T23:07:02.197825Z",
     "shell.execute_reply": "2023-05-09T23:07:02.197378Z"
    }
   },
   "outputs": [],
   "source": [
    "df_three_col.sort_values(by=['uu_id', \"week_number\"],inplace=True)\n",
    "#df_three_col.head(21)\n",
    "#df_three_col.tail(3)\n",
    "#uu_id\tweek_number\ttotal_claims\n",
    "#1876\t001cd9ae23064d7f0fd3cd327c873d8d\t31\t34"
   ]
  },
  {
   "cell_type": "code",
   "execution_count": 12,
   "id": "aae1d1fd",
   "metadata": {
    "execution": {
     "iopub.execute_input": "2023-05-09T23:07:02.200392Z",
     "iopub.status.busy": "2023-05-09T23:07:02.200184Z",
     "iopub.status.idle": "2023-05-09T23:07:02.204203Z",
     "shell.execute_reply": "2023-05-09T23:07:02.203784Z"
    }
   },
   "outputs": [
    {
     "name": "stdout",
     "output_type": "stream",
     "text": [
      "1877     31\n",
      "1873     33\n",
      "14073    34\n",
      "7254     35\n",
      "1872     36\n",
      "1871     37\n",
      "10905     1\n",
      "10906     2\n",
      "10910     3\n",
      "8603      5\n",
      "8604      6\n",
      "10907     7\n",
      "3813      8\n",
      "10902     9\n",
      "8602     10\n",
      "3350     14\n",
      "3814     16\n",
      "10903    19\n",
      "13455    20\n",
      "8601     24\n",
      "13456    25\n",
      "11905    26\n",
      "10901    27\n",
      "3812     28\n",
      "3816     29\n",
      "11904    30\n",
      "3811     32\n",
      "16345    11\n",
      "3349     13\n",
      "10894    15\n",
      "13441    22\n",
      "5265     17\n",
      "4818     12\n",
      "4812     18\n",
      "4811     21\n",
      "Name: week_number, dtype: Int64\n"
     ]
    }
   ],
   "source": [
    "tmp_df = df_three_col['week_number']\n",
    "tmp_df = tmp_df.drop_duplicates()\n",
    "print(tmp_df)"
   ]
  },
  {
   "cell_type": "code",
   "execution_count": 13,
   "id": "2499dd78",
   "metadata": {
    "execution": {
     "iopub.execute_input": "2023-05-09T23:07:02.206375Z",
     "iopub.status.busy": "2023-05-09T23:07:02.206233Z",
     "iopub.status.idle": "2023-05-09T23:07:02.209875Z",
     "shell.execute_reply": "2023-05-09T23:07:02.209504Z"
    }
   },
   "outputs": [],
   "source": [
    "res = pd.DataFrame(columns = ['uu_id', 'total_claims', 'week_number'])"
   ]
  },
  {
   "cell_type": "code",
   "execution_count": 14,
   "id": "da328046",
   "metadata": {
    "execution": {
     "iopub.execute_input": "2023-05-09T23:07:02.211959Z",
     "iopub.status.busy": "2023-05-09T23:07:02.211788Z",
     "iopub.status.idle": "2023-05-09T23:07:02.765583Z",
     "shell.execute_reply": "2023-05-09T23:07:02.765298Z"
    },
    "lines_to_next_cell": 2
   },
   "outputs": [],
   "source": [
    "for cur_uu_id in df_pred_list['uu_id']:\n",
    "    #print(uu_id)\n",
    "    test_data = df_three_col[df_three_col[\"uu_id\"].isin([cur_uu_id]) ]\n",
    "    #test_data = test_data.tail(3)\n",
    "    week_list = test_data['week_number'].tolist()\n",
    "    y_pred = -1\n",
    "    count = 0\n",
    "    sum = 0\n",
    "    for week_id in range(33,38):\n",
    "        if week_id in week_list:\n",
    "            count+=1\n",
    "            tmp_row = test_data[test_data['week_number'] == week_id  ]\n",
    "            sum+= int( tmp_row['total_claims'])\n",
    "    if count > 0:\n",
    "        y_pred = int(sum/count)\n",
    "    else:\n",
    "        max_week = max(week_list)\n",
    "        tmp_row = test_data[test_data['week_number'] ==  max_week  ] \n",
    "        y_pre = tmp_row['total_claims']\n",
    "    cur_row =  pd.DataFrame([[cur_uu_id, y_pred, 42]], columns=['uu_id', 'total_claims', 'week_number'] )\n",
    "    res = pd.concat([res,cur_row] ,ignore_index = True)"
   ]
  },
  {
   "cell_type": "code",
   "execution_count": 15,
   "id": "d8610300",
   "metadata": {
    "execution": {
     "iopub.execute_input": "2023-05-09T23:07:02.767138Z",
     "iopub.status.busy": "2023-05-09T23:07:02.767053Z",
     "iopub.status.idle": "2023-05-09T23:07:02.770516Z",
     "shell.execute_reply": "2023-05-09T23:07:02.770263Z"
    },
    "lines_to_next_cell": 2
   },
   "outputs": [],
   "source": [
    "res.to_csv(\"Nov28_submission_prediction_output.csv\", index=False)"
   ]
  }
 ],
 "metadata": {
  "jupytext": {
   "cell_metadata_filter": "-all",
   "main_language": "python",
   "notebook_metadata_filter": "-all"
  },
  "language_info": {
   "codemirror_mode": {
    "name": "ipython",
    "version": 3
   },
   "file_extension": ".py",
   "mimetype": "text/x-python",
   "name": "python",
   "nbconvert_exporter": "python",
   "pygments_lexer": "ipython3",
   "version": "3.9.12"
  }
 },
 "nbformat": 4,
 "nbformat_minor": 5
}
