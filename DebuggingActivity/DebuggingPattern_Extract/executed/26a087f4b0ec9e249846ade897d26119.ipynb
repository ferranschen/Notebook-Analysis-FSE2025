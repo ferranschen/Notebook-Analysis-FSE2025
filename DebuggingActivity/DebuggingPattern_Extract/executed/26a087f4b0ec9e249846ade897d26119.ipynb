{
 "cells": [
  {
   "cell_type": "code",
   "execution_count": 1,
   "id": "b055093b",
   "metadata": {
    "execution": {
     "iopub.execute_input": "2023-05-10T01:22:23.223865Z",
     "iopub.status.busy": "2023-05-10T01:22:23.223690Z",
     "iopub.status.idle": "2023-05-10T01:22:23.235409Z",
     "shell.execute_reply": "2023-05-10T01:22:23.235054Z"
    }
   },
   "outputs": [],
   "source": [
    "get_ipython().run_cell_magic('capture', '', \"%logstop\\n%logstart -t -r -q ipython_command_log.py global\\n\\n#- IRONHACKS RESEARCH TRACKING CODE\\n#----------------------------------\\n# The following code is used to help our research team understand how you \\n# our notebook environment. We do not collect any personal information with\\n# the following code, it is used to measure when and how often you work on\\n# your submission files.\\n\\nimport os\\nfrom datetime import datetime\\nimport IPython.core.history as history\\n\\nha = history.HistoryAccessor()\\nha_tail = ha.get_tail(1)\\nha_cmd = next(ha_tail)\\nsession_id = str(ha_cmd[0])\\ncommand_id = str(ha_cmd[1])\\ntimestamp = datetime.utcnow().isoformat()\\nhistory_line = ','.join([session_id, command_id, timestamp]) + '\\\\n'\\nlogfile = open(os.environ['HOME']+'/ipython_session_log.csv', 'a')\\nlogfile.write(history_line)\\nlogfile.close()\\n\")"
   ]
  },
  {
   "cell_type": "code",
   "execution_count": 2,
   "id": "371cdcd4",
   "metadata": {
    "execution": {
     "iopub.execute_input": "2023-05-10T01:22:23.237624Z",
     "iopub.status.busy": "2023-05-10T01:22:23.237353Z",
     "iopub.status.idle": "2023-05-10T01:22:23.240002Z",
     "shell.execute_reply": "2023-05-10T01:22:23.239671Z"
    }
   },
   "outputs": [],
   "source": [
    "get_ipython().run_cell_magic('capture', '', \"\\n#- INSTALL ADDITIONAL LIBRARIES IF REQUIRED\\n#------------------------------------------\\n# This is normally not required. The hub environment comes preinstaled with \\n# many packages that you can already use without setup. In case there is some\\n# other library you would like to use that isn't on the list you run this command\\n# once to install them.  If it is already installed this command has no effect.\\n\\n#!python3 -m pip install pandas\\n\")"
   ]
  },
  {
   "cell_type": "markdown",
   "id": "6d666a6f",
   "metadata": {},
   "source": [
    "- IMPORT THE LIBRARIES YOU WILL USE\n",
    "------------------------------------------\n",
    "You only need to import packages one time per notebook session. To keep your\n",
    "notebook clean and organized you can handle all imports at the top of your file.\n",
    "The following are included for example purposed, feel free to modify or delete \n",
    "anything in this section."
   ]
  },
  {
   "cell_type": "code",
   "execution_count": 3,
   "id": "4b87c5c9",
   "metadata": {
    "execution": {
     "iopub.execute_input": "2023-05-10T01:22:23.241605Z",
     "iopub.status.busy": "2023-05-10T01:22:23.241479Z",
     "iopub.status.idle": "2023-05-10T01:22:23.703524Z",
     "shell.execute_reply": "2023-05-10T01:22:23.703191Z"
    }
   },
   "outputs": [],
   "source": [
    "import csv\n",
    "import pandas as pd\n",
    "import numpy as np\n",
    "from google.cloud import bigquery\n",
    "from google.oauth2 import service_account\n",
    "from google.cloud.bigquery import magics"
   ]
  },
  {
   "cell_type": "markdown",
   "id": "0ec36ffa",
   "metadata": {},
   "source": [
    "- DEFINE YOUR CLASSES AND FUNCTIONS \n",
    "-----------------------------------\n",
    "This is not required, but is helpful in keeping your notebook organized. \n",
    "You can use the following cell or several cells to define your functions\n",
    "and classes to keep them separate from your analysis or results code.\n",
    "In general it useful to define your methods in a separate cell from where\n",
    "it is run."
   ]
  },
  {
   "cell_type": "code",
   "execution_count": 4,
   "id": "7bc147c6",
   "metadata": {
    "execution": {
     "iopub.execute_input": "2023-05-10T01:22:23.705262Z",
     "iopub.status.busy": "2023-05-10T01:22:23.705116Z",
     "iopub.status.idle": "2023-05-10T01:22:23.713134Z",
     "shell.execute_reply": "2023-05-10T01:22:23.712649Z"
    }
   },
   "outputs": [],
   "source": [
    "BIGQUERY_PROJECT = 'ironhacks-data'\n",
    "bigquery_client = bigquery.Client(project=BIGQUERY_PROJECT)"
   ]
  },
  {
   "cell_type": "code",
   "execution_count": 5,
   "id": "c71af9d3",
   "metadata": {
    "execution": {
     "iopub.execute_input": "2023-05-10T01:22:23.715315Z",
     "iopub.status.busy": "2023-05-10T01:22:23.715182Z",
     "iopub.status.idle": "2023-05-10T01:22:28.366262Z",
     "shell.execute_reply": "2023-05-10T01:22:28.365472Z"
    }
   },
   "outputs": [
    {
     "name": "stdout",
     "output_type": "stream",
     "text": [
      "\u001b[33mWARNING: Ignoring invalid distribution -umpy (/opt/anaconda3/lib/python3.9/site-packages)\u001b[0m\r\n",
      "\u001b[33mWARNING: Ignoring invalid distribution -umpy (/opt/anaconda3/lib/python3.9/site-packages)\u001b[0m\r\n"
     ]
    },
    {
     "name": "stdout",
     "output_type": "stream",
     "text": [
      "Requirement already satisfied: db-dtypes in /opt/anaconda3/lib/python3.9/site-packages (1.0.5)\r\n",
      "Requirement already satisfied: numpy<2.0dev,>=1.16.6 in /opt/anaconda3/lib/python3.9/site-packages (from db-dtypes) (1.22.4)\r\n",
      "Requirement already satisfied: pyarrow>=3.0.0 in /opt/anaconda3/lib/python3.9/site-packages (from db-dtypes) (10.0.1)\r\n",
      "Requirement already satisfied: packaging>=17.0 in /opt/anaconda3/lib/python3.9/site-packages (from db-dtypes) (21.3)\r\n",
      "Requirement already satisfied: pandas<2.0dev,>=0.24.2 in /opt/anaconda3/lib/python3.9/site-packages (from db-dtypes) (1.5.3)\r\n",
      "Requirement already satisfied: pyparsing!=3.0.5,>=2.0.2 in /opt/anaconda3/lib/python3.9/site-packages (from packaging>=17.0->db-dtypes) (3.0.4)\r\n",
      "Requirement already satisfied: python-dateutil>=2.8.1 in /opt/anaconda3/lib/python3.9/site-packages (from pandas<2.0dev,>=0.24.2->db-dtypes) (2.8.2)\r\n",
      "Requirement already satisfied: pytz>=2020.1 in /opt/anaconda3/lib/python3.9/site-packages (from pandas<2.0dev,>=0.24.2->db-dtypes) (2021.3)\r\n",
      "Requirement already satisfied: six>=1.5 in /opt/anaconda3/lib/python3.9/site-packages (from python-dateutil>=2.8.1->pandas<2.0dev,>=0.24.2->db-dtypes) (1.16.0)\r\n",
      "\u001b[33mWARNING: Ignoring invalid distribution -umpy (/opt/anaconda3/lib/python3.9/site-packages)\u001b[0m\r\n"
     ]
    },
    {
     "name": "stdout",
     "output_type": "stream",
     "text": [
      "\u001b[33mWARNING: Ignoring invalid distribution -umpy (/opt/anaconda3/lib/python3.9/site-packages)\u001b[0m\r\n",
      "\u001b[33mWARNING: Ignoring invalid distribution -umpy (/opt/anaconda3/lib/python3.9/site-packages)\u001b[0m\r\n",
      "\u001b[33mWARNING: Ignoring invalid distribution -umpy (/opt/anaconda3/lib/python3.9/site-packages)\u001b[0m\r\n"
     ]
    }
   ],
   "source": [
    "!pip install db-dtypes\n",
    "query_unemployment = \"\"\"\n",
    "SELECT *\n",
    "FROM `ironhacks-data.ironhacks_competition.unemployment_data` \n",
    "\"\"\"\n",
    "query = bigquery_client.query(query_unemployment)\n",
    "df_unemployment = query.to_dataframe()\n",
    "#df_unemployment.head()"
   ]
  },
  {
   "cell_type": "code",
   "execution_count": 6,
   "id": "c38c3e9e",
   "metadata": {
    "execution": {
     "iopub.execute_input": "2023-05-10T01:22:28.370486Z",
     "iopub.status.busy": "2023-05-10T01:22:28.370148Z",
     "iopub.status.idle": "2023-05-10T01:22:30.451731Z",
     "shell.execute_reply": "2023-05-10T01:22:30.450399Z"
    }
   },
   "outputs": [],
   "source": [
    "query_wage = \"\"\"\n",
    "SELECT *\n",
    "FROM `ironhacks-data.ironhacks_competition.wage_data`\n",
    "\"\"\"\n",
    "query = bigquery_client.query(query_wage)\n",
    "df_wage = query.to_dataframe()\n",
    "#df_wage.head()"
   ]
  },
  {
   "cell_type": "code",
   "execution_count": 7,
   "id": "f7a65ee1",
   "metadata": {
    "execution": {
     "iopub.execute_input": "2023-05-10T01:22:30.458637Z",
     "iopub.status.busy": "2023-05-10T01:22:30.458216Z",
     "iopub.status.idle": "2023-05-10T01:22:31.992516Z",
     "shell.execute_reply": "2023-05-10T01:22:31.990519Z"
    }
   },
   "outputs": [],
   "source": [
    "query_pred_list = \"\"\"\n",
    "SELECT *\n",
    "FROM `ironhacks-data.ironhacks_competition.prediction_list`\n",
    "\"\"\"\n",
    "query = bigquery_client.query(query_pred_list)\n",
    "df_pred_list = query.to_dataframe()\n",
    "#df_pred_list.head()"
   ]
  },
  {
   "cell_type": "code",
   "execution_count": 8,
   "id": "863ba6e6",
   "metadata": {
    "execution": {
     "iopub.execute_input": "2023-05-10T01:22:31.998879Z",
     "iopub.status.busy": "2023-05-10T01:22:31.998308Z",
     "iopub.status.idle": "2023-05-10T01:22:33.727599Z",
     "shell.execute_reply": "2023-05-10T01:22:33.726672Z"
    }
   },
   "outputs": [],
   "source": [
    "query_schema = \"\"\"\n",
    "SELECT *\n",
    "FROM `ironhacks-data.ironhacks_competition.INFORMATION_SCHEMA.TABLES`\n",
    "\"\"\"\n",
    "query = bigquery_client.query(query_schema)\n",
    "df_schema = query.to_dataframe()\n",
    "#df_schema.head()"
   ]
  },
  {
   "cell_type": "code",
   "execution_count": 9,
   "id": "9e76d152",
   "metadata": {
    "execution": {
     "iopub.execute_input": "2023-05-10T01:22:33.733715Z",
     "iopub.status.busy": "2023-05-10T01:22:33.733198Z",
     "iopub.status.idle": "2023-05-10T01:22:33.739486Z",
     "shell.execute_reply": "2023-05-10T01:22:33.738820Z"
    }
   },
   "outputs": [],
   "source": [
    "df_three_col = df_unemployment[[\"uu_id\", \"week_number\", \"total_claims\"]]\n",
    "#df_three_col.shape"
   ]
  },
  {
   "cell_type": "code",
   "execution_count": 10,
   "id": "45167d43",
   "metadata": {
    "execution": {
     "iopub.execute_input": "2023-05-10T01:22:33.743268Z",
     "iopub.status.busy": "2023-05-10T01:22:33.742962Z",
     "iopub.status.idle": "2023-05-10T01:22:33.751357Z",
     "shell.execute_reply": "2023-05-10T01:22:33.750815Z"
    }
   },
   "outputs": [],
   "source": [
    "df_three_col = df_three_col.drop_duplicates()\n",
    "#print(df_three_col.shape)"
   ]
  },
  {
   "cell_type": "code",
   "execution_count": 11,
   "id": "8aaec06d",
   "metadata": {
    "execution": {
     "iopub.execute_input": "2023-05-10T01:22:33.754564Z",
     "iopub.status.busy": "2023-05-10T01:22:33.754124Z",
     "iopub.status.idle": "2023-05-10T01:22:33.762975Z",
     "shell.execute_reply": "2023-05-10T01:22:33.762505Z"
    }
   },
   "outputs": [],
   "source": [
    "df_three_col.sort_values(by=['uu_id', \"week_number\"],inplace=True)\n",
    "#df_three_col.head(21)\n",
    "#df_three_col.tail(3)"
   ]
  },
  {
   "cell_type": "code",
   "execution_count": 12,
   "id": "cef5cbaa",
   "metadata": {
    "execution": {
     "iopub.execute_input": "2023-05-10T01:22:33.765840Z",
     "iopub.status.busy": "2023-05-10T01:22:33.765591Z",
     "iopub.status.idle": "2023-05-10T01:22:33.770139Z",
     "shell.execute_reply": "2023-05-10T01:22:33.769638Z"
    }
   },
   "outputs": [
    {
     "name": "stdout",
     "output_type": "stream",
     "text": [
      "1877     31\n",
      "1873     33\n",
      "14073    34\n",
      "7254     35\n",
      "1872     36\n",
      "1871     37\n",
      "10905     1\n",
      "10906     2\n",
      "10910     3\n",
      "8603      5\n",
      "8604      6\n",
      "10907     7\n",
      "3813      8\n",
      "10902     9\n",
      "8602     10\n",
      "3350     14\n",
      "3814     16\n",
      "10903    19\n",
      "13455    20\n",
      "8601     24\n",
      "13456    25\n",
      "11905    26\n",
      "10901    27\n",
      "3812     28\n",
      "3816     29\n",
      "11904    30\n",
      "3811     32\n",
      "16345    11\n",
      "3349     13\n",
      "10894    15\n",
      "13441    22\n",
      "5265     17\n",
      "4818     12\n",
      "4812     18\n",
      "4811     21\n",
      "Name: week_number, dtype: Int64\n"
     ]
    }
   ],
   "source": [
    "print (df_three_col['week_number'].drop_duplicates())"
   ]
  },
  {
   "cell_type": "code",
   "execution_count": 13,
   "id": "d8a75a9a",
   "metadata": {
    "execution": {
     "iopub.execute_input": "2023-05-10T01:22:33.772414Z",
     "iopub.status.busy": "2023-05-10T01:22:33.772237Z",
     "iopub.status.idle": "2023-05-10T01:22:33.777595Z",
     "shell.execute_reply": "2023-05-10T01:22:33.777189Z"
    }
   },
   "outputs": [],
   "source": [
    "df_three_col = df_three_col.drop_duplicates()\n",
    "#print(df_three_col.shape)"
   ]
  },
  {
   "cell_type": "code",
   "execution_count": 14,
   "id": "827a5a47",
   "metadata": {
    "execution": {
     "iopub.execute_input": "2023-05-10T01:22:33.779790Z",
     "iopub.status.busy": "2023-05-10T01:22:33.779614Z",
     "iopub.status.idle": "2023-05-10T01:22:33.792781Z",
     "shell.execute_reply": "2023-05-10T01:22:33.792454Z"
    }
   },
   "outputs": [
    {
     "data": {
      "text/html": [
       "<div>\n",
       "<style scoped>\n",
       "    .dataframe tbody tr th:only-of-type {\n",
       "        vertical-align: middle;\n",
       "    }\n",
       "\n",
       "    .dataframe tbody tr th {\n",
       "        vertical-align: top;\n",
       "    }\n",
       "\n",
       "    .dataframe thead th {\n",
       "        text-align: right;\n",
       "    }\n",
       "</style>\n",
       "<table border=\"1\" class=\"dataframe\">\n",
       "  <thead>\n",
       "    <tr style=\"text-align: right;\">\n",
       "      <th></th>\n",
       "      <th>uu_id</th>\n",
       "      <th>week_number</th>\n",
       "      <th>total_claims</th>\n",
       "    </tr>\n",
       "  </thead>\n",
       "  <tbody>\n",
       "    <tr>\n",
       "      <th>1877</th>\n",
       "      <td>001cd9ae23064d7f0fd3cd327c873d8d</td>\n",
       "      <td>31</td>\n",
       "      <td>34</td>\n",
       "    </tr>\n",
       "    <tr>\n",
       "      <th>1873</th>\n",
       "      <td>001cd9ae23064d7f0fd3cd327c873d8d</td>\n",
       "      <td>33</td>\n",
       "      <td>10</td>\n",
       "    </tr>\n",
       "    <tr>\n",
       "      <th>14073</th>\n",
       "      <td>001cd9ae23064d7f0fd3cd327c873d8d</td>\n",
       "      <td>34</td>\n",
       "      <td>25</td>\n",
       "    </tr>\n",
       "    <tr>\n",
       "      <th>7254</th>\n",
       "      <td>001cd9ae23064d7f0fd3cd327c873d8d</td>\n",
       "      <td>35</td>\n",
       "      <td>10</td>\n",
       "    </tr>\n",
       "    <tr>\n",
       "      <th>1872</th>\n",
       "      <td>001cd9ae23064d7f0fd3cd327c873d8d</td>\n",
       "      <td>36</td>\n",
       "      <td>10</td>\n",
       "    </tr>\n",
       "    <tr>\n",
       "      <th>1871</th>\n",
       "      <td>001cd9ae23064d7f0fd3cd327c873d8d</td>\n",
       "      <td>37</td>\n",
       "      <td>13</td>\n",
       "    </tr>\n",
       "    <tr>\n",
       "      <th>10905</th>\n",
       "      <td>005be9532fd717dc36d4be318fd9ad25</td>\n",
       "      <td>1</td>\n",
       "      <td>20</td>\n",
       "    </tr>\n",
       "    <tr>\n",
       "      <th>10906</th>\n",
       "      <td>005be9532fd717dc36d4be318fd9ad25</td>\n",
       "      <td>2</td>\n",
       "      <td>19</td>\n",
       "    </tr>\n",
       "    <tr>\n",
       "      <th>10910</th>\n",
       "      <td>005be9532fd717dc36d4be318fd9ad25</td>\n",
       "      <td>3</td>\n",
       "      <td>19</td>\n",
       "    </tr>\n",
       "    <tr>\n",
       "      <th>8603</th>\n",
       "      <td>005be9532fd717dc36d4be318fd9ad25</td>\n",
       "      <td>5</td>\n",
       "      <td>15</td>\n",
       "    </tr>\n",
       "    <tr>\n",
       "      <th>8604</th>\n",
       "      <td>005be9532fd717dc36d4be318fd9ad25</td>\n",
       "      <td>6</td>\n",
       "      <td>10</td>\n",
       "    </tr>\n",
       "    <tr>\n",
       "      <th>10907</th>\n",
       "      <td>005be9532fd717dc36d4be318fd9ad25</td>\n",
       "      <td>7</td>\n",
       "      <td>11</td>\n",
       "    </tr>\n",
       "    <tr>\n",
       "      <th>3813</th>\n",
       "      <td>005be9532fd717dc36d4be318fd9ad25</td>\n",
       "      <td>8</td>\n",
       "      <td>19</td>\n",
       "    </tr>\n",
       "    <tr>\n",
       "      <th>10902</th>\n",
       "      <td>005be9532fd717dc36d4be318fd9ad25</td>\n",
       "      <td>9</td>\n",
       "      <td>18</td>\n",
       "    </tr>\n",
       "    <tr>\n",
       "      <th>8602</th>\n",
       "      <td>005be9532fd717dc36d4be318fd9ad25</td>\n",
       "      <td>10</td>\n",
       "      <td>12</td>\n",
       "    </tr>\n",
       "    <tr>\n",
       "      <th>3350</th>\n",
       "      <td>005be9532fd717dc36d4be318fd9ad25</td>\n",
       "      <td>14</td>\n",
       "      <td>11</td>\n",
       "    </tr>\n",
       "    <tr>\n",
       "      <th>3814</th>\n",
       "      <td>005be9532fd717dc36d4be318fd9ad25</td>\n",
       "      <td>16</td>\n",
       "      <td>11</td>\n",
       "    </tr>\n",
       "    <tr>\n",
       "      <th>10903</th>\n",
       "      <td>005be9532fd717dc36d4be318fd9ad25</td>\n",
       "      <td>19</td>\n",
       "      <td>10</td>\n",
       "    </tr>\n",
       "    <tr>\n",
       "      <th>13455</th>\n",
       "      <td>005be9532fd717dc36d4be318fd9ad25</td>\n",
       "      <td>20</td>\n",
       "      <td>27</td>\n",
       "    </tr>\n",
       "    <tr>\n",
       "      <th>8601</th>\n",
       "      <td>005be9532fd717dc36d4be318fd9ad25</td>\n",
       "      <td>24</td>\n",
       "      <td>10</td>\n",
       "    </tr>\n",
       "    <tr>\n",
       "      <th>13456</th>\n",
       "      <td>005be9532fd717dc36d4be318fd9ad25</td>\n",
       "      <td>25</td>\n",
       "      <td>24</td>\n",
       "    </tr>\n",
       "  </tbody>\n",
       "</table>\n",
       "</div>"
      ],
      "text/plain": [
       "                                  uu_id  week_number  total_claims\n",
       "1877   001cd9ae23064d7f0fd3cd327c873d8d           31            34\n",
       "1873   001cd9ae23064d7f0fd3cd327c873d8d           33            10\n",
       "14073  001cd9ae23064d7f0fd3cd327c873d8d           34            25\n",
       "7254   001cd9ae23064d7f0fd3cd327c873d8d           35            10\n",
       "1872   001cd9ae23064d7f0fd3cd327c873d8d           36            10\n",
       "1871   001cd9ae23064d7f0fd3cd327c873d8d           37            13\n",
       "10905  005be9532fd717dc36d4be318fd9ad25            1            20\n",
       "10906  005be9532fd717dc36d4be318fd9ad25            2            19\n",
       "10910  005be9532fd717dc36d4be318fd9ad25            3            19\n",
       "8603   005be9532fd717dc36d4be318fd9ad25            5            15\n",
       "8604   005be9532fd717dc36d4be318fd9ad25            6            10\n",
       "10907  005be9532fd717dc36d4be318fd9ad25            7            11\n",
       "3813   005be9532fd717dc36d4be318fd9ad25            8            19\n",
       "10902  005be9532fd717dc36d4be318fd9ad25            9            18\n",
       "8602   005be9532fd717dc36d4be318fd9ad25           10            12\n",
       "3350   005be9532fd717dc36d4be318fd9ad25           14            11\n",
       "3814   005be9532fd717dc36d4be318fd9ad25           16            11\n",
       "10903  005be9532fd717dc36d4be318fd9ad25           19            10\n",
       "13455  005be9532fd717dc36d4be318fd9ad25           20            27\n",
       "8601   005be9532fd717dc36d4be318fd9ad25           24            10\n",
       "13456  005be9532fd717dc36d4be318fd9ad25           25            24"
      ]
     },
     "execution_count": 14,
     "metadata": {},
     "output_type": "execute_result"
    }
   ],
   "source": [
    "df_three_col.sort_values(by=['uu_id', \"week_number\"],inplace=True)\n",
    "df_three_col.head(21)\n",
    "#df_three_col.tail(3)"
   ]
  },
  {
   "cell_type": "code",
   "execution_count": 15,
   "id": "558e7c75",
   "metadata": {
    "execution": {
     "iopub.execute_input": "2023-05-10T01:22:33.794588Z",
     "iopub.status.busy": "2023-05-10T01:22:33.794444Z",
     "iopub.status.idle": "2023-05-10T01:22:33.797333Z",
     "shell.execute_reply": "2023-05-10T01:22:33.797026Z"
    }
   },
   "outputs": [],
   "source": [
    "res = pd.DataFrame(columns = ['uu_id', 'total_claims', 'week_number'])"
   ]
  },
  {
   "cell_type": "code",
   "execution_count": 16,
   "id": "a4c5bf74",
   "metadata": {
    "execution": {
     "iopub.execute_input": "2023-05-10T01:22:33.799020Z",
     "iopub.status.busy": "2023-05-10T01:22:33.798884Z",
     "iopub.status.idle": "2023-05-10T01:22:33.802568Z",
     "shell.execute_reply": "2023-05-10T01:22:33.802255Z"
    },
    "lines_to_next_cell": 2
   },
   "outputs": [
    {
     "ename": "SyntaxError",
     "evalue": "invalid syntax (3103802953.py, line 11)",
     "output_type": "error",
     "traceback": [
      "\u001b[0;36m  Cell \u001b[0;32mIn [16], line 11\u001b[0;36m\u001b[0m\n\u001b[0;31m    count++\u001b[0m\n\u001b[0m           ^\u001b[0m\n\u001b[0;31mSyntaxError\u001b[0m\u001b[0;31m:\u001b[0m invalid syntax\n"
     ]
    }
   ],
   "source": [
    "for cur_uu_id in df_pred_list['uu_id']:\n",
    "    #print(uu_id)\n",
    "    test_data = df_three_col[df_three_col[\"uu_id\"].isin([cur_uu_id]) ]\n",
    "    #test_data = test_data.tail(3)\n",
    "    week_list = test_data['week_number'].tolist()\n",
    "    y_pred = -1\n",
    "    count = 0\n",
    "    sum = 0\n",
    "    for week_id in range(31,38):\n",
    "        if week_id in week_list:\n",
    "            count++\n",
    "            sum += test_data[test_data['week_number].isin(week_id) ]].values(2)\n",
    "    if count > 0:\n",
    "        y_pred = int(sum/count)\n",
    "    else:\n",
    "        max_week = max(week_list)\n",
    "        y_pred = test_data[test_data['week_number].isin(max_week) ]].values(2)\n",
    "    cur_row =  pd.DataFrame([[cur_uu_id, y_pred, 41]], columns=['uu_id', 'total_claims', 'week_number'] )\n",
    "    res = pd.concat([res,cur_row] ,ignore_index = True)"
   ]
  },
  {
   "cell_type": "code",
   "execution_count": 17,
   "id": "d76e2dbc",
   "metadata": {
    "execution": {
     "iopub.execute_input": "2023-05-10T01:22:33.804068Z",
     "iopub.status.busy": "2023-05-10T01:22:33.803969Z",
     "iopub.status.idle": "2023-05-10T01:22:33.806930Z",
     "shell.execute_reply": "2023-05-10T01:22:33.806642Z"
    }
   },
   "outputs": [],
   "source": [
    "res.to_csv(\"Nov21_submission_prediction_output.csv\", index=False)"
   ]
  },
  {
   "cell_type": "code",
   "execution_count": 18,
   "id": "43fc334f",
   "metadata": {
    "execution": {
     "iopub.execute_input": "2023-05-10T01:22:33.808429Z",
     "iopub.status.busy": "2023-05-10T01:22:33.808304Z",
     "iopub.status.idle": "2023-05-10T01:22:33.810775Z",
     "shell.execute_reply": "2023-05-10T01:22:33.810490Z"
    }
   },
   "outputs": [],
   "source": [
    "res = pd.DataFrame(columns = ['uu_id', 'total_claims', 'week_number'])"
   ]
  },
  {
   "cell_type": "code",
   "execution_count": 19,
   "id": "9e0b5ae6",
   "metadata": {
    "execution": {
     "iopub.execute_input": "2023-05-10T01:22:33.812298Z",
     "iopub.status.busy": "2023-05-10T01:22:33.812204Z",
     "iopub.status.idle": "2023-05-10T01:22:33.815648Z",
     "shell.execute_reply": "2023-05-10T01:22:33.815385Z"
    },
    "lines_to_next_cell": 2
   },
   "outputs": [
    {
     "ename": "SyntaxError",
     "evalue": "invalid syntax (2509376314.py, line 11)",
     "output_type": "error",
     "traceback": [
      "\u001b[0;36m  Cell \u001b[0;32mIn [19], line 11\u001b[0;36m\u001b[0m\n\u001b[0;31m    count++\u001b[0m\n\u001b[0m           ^\u001b[0m\n\u001b[0;31mSyntaxError\u001b[0m\u001b[0;31m:\u001b[0m invalid syntax\n"
     ]
    }
   ],
   "source": [
    "for cur_uu_id in df_pred_list['uu_id']:\n",
    "    #print(uu_id)\n",
    "    test_data = df_three_col[df_three_col[\"uu_id\"].isin([cur_uu_id]) ]\n",
    "    #test_data = test_data.tail(3)\n",
    "    week_list = test_data['week_number'].tolist()\n",
    "    y_pred = -1\n",
    "    count = 0\n",
    "    sum = 0\n",
    "    for week_id in range(31,38):\n",
    "        if week_id in week_list:\n",
    "            count++\n",
    "            sum += test_data[test_data['week_number].isin(week_id) ]].values(2)\n",
    "    if count > 0:\n",
    "        y_pred = int(sum/count)\n",
    "    else:\n",
    "        max_week = max(week_list)\n",
    "        y_pred = test_data[test_data['week_number'.isin(max_week) ]].values(2)\n",
    "    cur_row =  pd.DataFrame([[cur_uu_id, y_pred, 41]], columns=['uu_id', 'total_claims', 'week_number'] )\n",
    "    res = pd.concat([res,cur_row] ,ignore_index = True)"
   ]
  },
  {
   "cell_type": "code",
   "execution_count": 20,
   "id": "d9a1813d",
   "metadata": {
    "execution": {
     "iopub.execute_input": "2023-05-10T01:22:33.817015Z",
     "iopub.status.busy": "2023-05-10T01:22:33.816932Z",
     "iopub.status.idle": "2023-05-10T01:22:33.819104Z",
     "shell.execute_reply": "2023-05-10T01:22:33.818839Z"
    }
   },
   "outputs": [],
   "source": [
    "res.to_csv(\"Nov21_submission_prediction_output.csv\", index=False)"
   ]
  },
  {
   "cell_type": "code",
   "execution_count": 21,
   "id": "b6f8b5f7",
   "metadata": {
    "execution": {
     "iopub.execute_input": "2023-05-10T01:22:33.820477Z",
     "iopub.status.busy": "2023-05-10T01:22:33.820375Z",
     "iopub.status.idle": "2023-05-10T01:22:33.822661Z",
     "shell.execute_reply": "2023-05-10T01:22:33.822421Z"
    }
   },
   "outputs": [],
   "source": [
    "res = pd.DataFrame(columns = ['uu_id', 'total_claims', 'week_number'])"
   ]
  },
  {
   "cell_type": "code",
   "execution_count": 22,
   "id": "ee67987d",
   "metadata": {
    "execution": {
     "iopub.execute_input": "2023-05-10T01:22:33.824045Z",
     "iopub.status.busy": "2023-05-10T01:22:33.823943Z",
     "iopub.status.idle": "2023-05-10T01:22:33.827021Z",
     "shell.execute_reply": "2023-05-10T01:22:33.826771Z"
    },
    "lines_to_next_cell": 2
   },
   "outputs": [
    {
     "ename": "SyntaxError",
     "evalue": "invalid syntax (3662261505.py, line 11)",
     "output_type": "error",
     "traceback": [
      "\u001b[0;36m  Cell \u001b[0;32mIn [22], line 11\u001b[0;36m\u001b[0m\n\u001b[0;31m    count++\u001b[0m\n\u001b[0m           ^\u001b[0m\n\u001b[0;31mSyntaxError\u001b[0m\u001b[0;31m:\u001b[0m invalid syntax\n"
     ]
    }
   ],
   "source": [
    "for cur_uu_id in df_pred_list['uu_id']:\n",
    "    #print(uu_id)\n",
    "    test_data = df_three_col[df_three_col[\"uu_id\"].isin([cur_uu_id]) ]\n",
    "    #test_data = test_data.tail(3)\n",
    "    week_list = test_data['week_number'].tolist()\n",
    "    y_pred = -1\n",
    "    count = 0\n",
    "    sum = 0\n",
    "    for week_id in range(31,38):\n",
    "        if week_id in week_list:\n",
    "            count++\n",
    "            sum += test_data[test_data['week_number'.isin(week_id) ]].values(2)\n",
    "    if count > 0:\n",
    "        y_pred = int(sum/count)\n",
    "    else:\n",
    "        max_week = max(week_list)\n",
    "        y_pred = test_data[test_data['week_number'.isin(max_week) ]].values(2)\n",
    "    cur_row =  pd.DataFrame([[cur_uu_id, y_pred, 41]], columns=['uu_id', 'total_claims', 'week_number'] )\n",
    "    res = pd.concat([res,cur_row] ,ignore_index = True)"
   ]
  },
  {
   "cell_type": "code",
   "execution_count": 23,
   "id": "be4a8b23",
   "metadata": {
    "execution": {
     "iopub.execute_input": "2023-05-10T01:22:33.828476Z",
     "iopub.status.busy": "2023-05-10T01:22:33.828385Z",
     "iopub.status.idle": "2023-05-10T01:22:33.830558Z",
     "shell.execute_reply": "2023-05-10T01:22:33.830317Z"
    }
   },
   "outputs": [],
   "source": [
    "res.to_csv(\"Nov21_submission_prediction_output.csv\", index=False)"
   ]
  },
  {
   "cell_type": "code",
   "execution_count": 24,
   "id": "23fc79a2",
   "metadata": {
    "execution": {
     "iopub.execute_input": "2023-05-10T01:22:33.831883Z",
     "iopub.status.busy": "2023-05-10T01:22:33.831790Z",
     "iopub.status.idle": "2023-05-10T01:22:33.833983Z",
     "shell.execute_reply": "2023-05-10T01:22:33.833775Z"
    }
   },
   "outputs": [],
   "source": [
    "res = pd.DataFrame(columns = ['uu_id', 'total_claims', 'week_number'])"
   ]
  },
  {
   "cell_type": "code",
   "execution_count": 25,
   "id": "4c152c20",
   "metadata": {
    "execution": {
     "iopub.execute_input": "2023-05-10T01:22:33.835270Z",
     "iopub.status.busy": "2023-05-10T01:22:33.835175Z",
     "iopub.status.idle": "2023-05-10T01:22:33.912891Z",
     "shell.execute_reply": "2023-05-10T01:22:33.912634Z"
    },
    "lines_to_next_cell": 2
   },
   "outputs": [
    {
     "ename": "AttributeError",
     "evalue": "'str' object has no attribute 'isin'",
     "output_type": "error",
     "traceback": [
      "\u001b[0;31m---------------------------------------------------------------------------\u001b[0m",
      "\u001b[0;31mAttributeError\u001b[0m                            Traceback (most recent call last)",
      "Cell \u001b[0;32mIn [25], line 12\u001b[0m\n\u001b[1;32m     10\u001b[0m     \u001b[38;5;28;01mif\u001b[39;00m week_id \u001b[38;5;129;01min\u001b[39;00m week_list:\n\u001b[1;32m     11\u001b[0m         count\u001b[38;5;241m+\u001b[39m\u001b[38;5;241m=\u001b[39m\u001b[38;5;241m1\u001b[39m\n\u001b[0;32m---> 12\u001b[0m         \u001b[38;5;28msum\u001b[39m \u001b[38;5;241m+\u001b[39m\u001b[38;5;241m=\u001b[39m test_data[test_data[\u001b[38;5;124;43m'\u001b[39;49m\u001b[38;5;124;43mweek_number\u001b[39;49m\u001b[38;5;124;43m'\u001b[39;49m\u001b[38;5;241;43m.\u001b[39;49m\u001b[43misin\u001b[49m(week_id) ]]\u001b[38;5;241m.\u001b[39mvalues(\u001b[38;5;241m2\u001b[39m)\n\u001b[1;32m     13\u001b[0m \u001b[38;5;28;01mif\u001b[39;00m count \u001b[38;5;241m>\u001b[39m \u001b[38;5;241m0\u001b[39m:\n\u001b[1;32m     14\u001b[0m     y_pred \u001b[38;5;241m=\u001b[39m \u001b[38;5;28mint\u001b[39m(\u001b[38;5;28msum\u001b[39m\u001b[38;5;241m/\u001b[39mcount)\n",
      "\u001b[0;31mAttributeError\u001b[0m: 'str' object has no attribute 'isin'"
     ]
    }
   ],
   "source": [
    "for cur_uu_id in df_pred_list['uu_id']:\n",
    "    #print(uu_id)\n",
    "    test_data = df_three_col[df_three_col[\"uu_id\"].isin([cur_uu_id]) ]\n",
    "    #test_data = test_data.tail(3)\n",
    "    week_list = test_data['week_number'].tolist()\n",
    "    y_pred = -1\n",
    "    count = 0\n",
    "    sum = 0\n",
    "    for week_id in range(31,38):\n",
    "        if week_id in week_list:\n",
    "            count+=1\n",
    "            sum += test_data[test_data['week_number'.isin(week_id) ]].values(2)\n",
    "    if count > 0:\n",
    "        y_pred = int(sum/count)\n",
    "    else:\n",
    "        max_week = max(week_list)\n",
    "        y_pred = test_data[test_data['week_number'.isin(max_week) ]].values(2)\n",
    "    cur_row =  pd.DataFrame([[cur_uu_id, y_pred, 41]], columns=['uu_id', 'total_claims', 'week_number'] )\n",
    "    res = pd.concat([res,cur_row] ,ignore_index = True)"
   ]
  },
  {
   "cell_type": "code",
   "execution_count": 26,
   "id": "d93656a3",
   "metadata": {
    "execution": {
     "iopub.execute_input": "2023-05-10T01:22:33.914382Z",
     "iopub.status.busy": "2023-05-10T01:22:33.914279Z",
     "iopub.status.idle": "2023-05-10T01:22:33.916462Z",
     "shell.execute_reply": "2023-05-10T01:22:33.916236Z"
    }
   },
   "outputs": [],
   "source": [
    "res.to_csv(\"Nov21_submission_prediction_output.csv\", index=False)"
   ]
  },
  {
   "cell_type": "code",
   "execution_count": 27,
   "id": "9228ee93",
   "metadata": {
    "execution": {
     "iopub.execute_input": "2023-05-10T01:22:33.917749Z",
     "iopub.status.busy": "2023-05-10T01:22:33.917650Z",
     "iopub.status.idle": "2023-05-10T01:22:33.919890Z",
     "shell.execute_reply": "2023-05-10T01:22:33.919668Z"
    }
   },
   "outputs": [],
   "source": [
    "res = pd.DataFrame(columns = ['uu_id', 'total_claims', 'week_number'])"
   ]
  },
  {
   "cell_type": "code",
   "execution_count": 28,
   "id": "dd2d755a",
   "metadata": {
    "execution": {
     "iopub.execute_input": "2023-05-10T01:22:33.921118Z",
     "iopub.status.busy": "2023-05-10T01:22:33.921015Z",
     "iopub.status.idle": "2023-05-10T01:22:33.923854Z",
     "shell.execute_reply": "2023-05-10T01:22:33.923599Z"
    },
    "lines_to_next_cell": 2
   },
   "outputs": [
    {
     "ename": "SyntaxError",
     "evalue": "unmatched ']' (2085152070.py, line 12)",
     "output_type": "error",
     "traceback": [
      "\u001b[0;36m  Cell \u001b[0;32mIn [28], line 12\u001b[0;36m\u001b[0m\n\u001b[0;31m    sum += test_data[test_data['week_number'].isin(week_id) ]].values(2)\u001b[0m\n\u001b[0m                                                             ^\u001b[0m\n\u001b[0;31mSyntaxError\u001b[0m\u001b[0;31m:\u001b[0m unmatched ']'\n"
     ]
    }
   ],
   "source": [
    "for cur_uu_id in df_pred_list['uu_id']:\n",
    "    #print(uu_id)\n",
    "    test_data = df_three_col[df_three_col[\"uu_id\"].isin([cur_uu_id]) ]\n",
    "    #test_data = test_data.tail(3)\n",
    "    week_list = test_data['week_number'].tolist()\n",
    "    y_pred = -1\n",
    "    count = 0\n",
    "    sum = 0\n",
    "    for week_id in range(31,38):\n",
    "        if week_id in week_list:\n",
    "            count+=1\n",
    "            sum += test_data[test_data['week_number'].isin(week_id) ]].values(2)\n",
    "    if count > 0:\n",
    "        y_pred = int(sum/count)\n",
    "    else:\n",
    "        max_week = max(week_list)\n",
    "        y_pred = test_data[test_data['week_number'.isin(max_week) ]].values(2)\n",
    "    cur_row =  pd.DataFrame([[cur_uu_id, y_pred, 41]], columns=['uu_id', 'total_claims', 'week_number'] )\n",
    "    res = pd.concat([res,cur_row] ,ignore_index = True)"
   ]
  },
  {
   "cell_type": "code",
   "execution_count": 29,
   "id": "20c59eb8",
   "metadata": {
    "execution": {
     "iopub.execute_input": "2023-05-10T01:22:33.925145Z",
     "iopub.status.busy": "2023-05-10T01:22:33.925044Z",
     "iopub.status.idle": "2023-05-10T01:22:33.926832Z",
     "shell.execute_reply": "2023-05-10T01:22:33.926592Z"
    }
   },
   "outputs": [],
   "source": [
    "res.to_csv(\"Nov21_submission_prediction_output.csv\", index=False)"
   ]
  },
  {
   "cell_type": "code",
   "execution_count": 30,
   "id": "aaae0b0c",
   "metadata": {
    "execution": {
     "iopub.execute_input": "2023-05-10T01:22:33.928255Z",
     "iopub.status.busy": "2023-05-10T01:22:33.928154Z",
     "iopub.status.idle": "2023-05-10T01:22:33.930364Z",
     "shell.execute_reply": "2023-05-10T01:22:33.930128Z"
    }
   },
   "outputs": [],
   "source": [
    "res = pd.DataFrame(columns = ['uu_id', 'total_claims', 'week_number'])"
   ]
  },
  {
   "cell_type": "code",
   "execution_count": 31,
   "id": "c220cca8",
   "metadata": {
    "execution": {
     "iopub.execute_input": "2023-05-10T01:22:33.931639Z",
     "iopub.status.busy": "2023-05-10T01:22:33.931540Z",
     "iopub.status.idle": "2023-05-10T01:22:34.054374Z",
     "shell.execute_reply": "2023-05-10T01:22:34.054090Z"
    },
    "lines_to_next_cell": 2
   },
   "outputs": [
    {
     "ename": "TypeError",
     "evalue": "only list-like objects are allowed to be passed to isin(), you passed a [int]",
     "output_type": "error",
     "traceback": [
      "\u001b[0;31m---------------------------------------------------------------------------\u001b[0m",
      "\u001b[0;31mTypeError\u001b[0m                                 Traceback (most recent call last)",
      "Cell \u001b[0;32mIn [31], line 12\u001b[0m\n\u001b[1;32m     10\u001b[0m     \u001b[38;5;28;01mif\u001b[39;00m week_id \u001b[38;5;129;01min\u001b[39;00m week_list:\n\u001b[1;32m     11\u001b[0m         count\u001b[38;5;241m+\u001b[39m\u001b[38;5;241m=\u001b[39m\u001b[38;5;241m1\u001b[39m\n\u001b[0;32m---> 12\u001b[0m         \u001b[38;5;28msum\u001b[39m \u001b[38;5;241m+\u001b[39m\u001b[38;5;241m=\u001b[39m test_data[\u001b[43mtest_data\u001b[49m\u001b[43m[\u001b[49m\u001b[38;5;124;43m'\u001b[39;49m\u001b[38;5;124;43mweek_number\u001b[39;49m\u001b[38;5;124;43m'\u001b[39;49m\u001b[43m]\u001b[49m\u001b[38;5;241;43m.\u001b[39;49m\u001b[43misin\u001b[49m\u001b[43m(\u001b[49m\u001b[43mweek_id\u001b[49m\u001b[43m)\u001b[49m ]\u001b[38;5;241m.\u001b[39mvalues(\u001b[38;5;241m2\u001b[39m)\n\u001b[1;32m     13\u001b[0m \u001b[38;5;28;01mif\u001b[39;00m count \u001b[38;5;241m>\u001b[39m \u001b[38;5;241m0\u001b[39m:\n\u001b[1;32m     14\u001b[0m     y_pred \u001b[38;5;241m=\u001b[39m \u001b[38;5;28mint\u001b[39m(\u001b[38;5;28msum\u001b[39m\u001b[38;5;241m/\u001b[39mcount)\n",
      "File \u001b[0;32m/opt/homebrew/lib/python3.9/site-packages/pandas/core/series.py:5563\u001b[0m, in \u001b[0;36mSeries.isin\u001b[0;34m(self, values)\u001b[0m\n\u001b[1;32m   5490\u001b[0m \u001b[38;5;28;01mdef\u001b[39;00m \u001b[38;5;21misin\u001b[39m(\u001b[38;5;28mself\u001b[39m, values) \u001b[38;5;241m-\u001b[39m\u001b[38;5;241m>\u001b[39m Series:\n\u001b[1;32m   5491\u001b[0m     \u001b[38;5;124;03m\"\"\"\u001b[39;00m\n\u001b[1;32m   5492\u001b[0m \u001b[38;5;124;03m    Whether elements in Series are contained in `values`.\u001b[39;00m\n\u001b[1;32m   5493\u001b[0m \n\u001b[0;32m   (...)\u001b[0m\n\u001b[1;32m   5561\u001b[0m \u001b[38;5;124;03m    dtype: bool\u001b[39;00m\n\u001b[1;32m   5562\u001b[0m \u001b[38;5;124;03m    \"\"\"\u001b[39;00m\n\u001b[0;32m-> 5563\u001b[0m     result \u001b[38;5;241m=\u001b[39m \u001b[43malgorithms\u001b[49m\u001b[38;5;241;43m.\u001b[39;49m\u001b[43misin\u001b[49m\u001b[43m(\u001b[49m\u001b[38;5;28;43mself\u001b[39;49m\u001b[38;5;241;43m.\u001b[39;49m\u001b[43m_values\u001b[49m\u001b[43m,\u001b[49m\u001b[43m \u001b[49m\u001b[43mvalues\u001b[49m\u001b[43m)\u001b[49m\n\u001b[1;32m   5564\u001b[0m     \u001b[38;5;28;01mreturn\u001b[39;00m \u001b[38;5;28mself\u001b[39m\u001b[38;5;241m.\u001b[39m_constructor(result, index\u001b[38;5;241m=\u001b[39m\u001b[38;5;28mself\u001b[39m\u001b[38;5;241m.\u001b[39mindex)\u001b[38;5;241m.\u001b[39m__finalize__(\n\u001b[1;32m   5565\u001b[0m         \u001b[38;5;28mself\u001b[39m, method\u001b[38;5;241m=\u001b[39m\u001b[38;5;124m\"\u001b[39m\u001b[38;5;124misin\u001b[39m\u001b[38;5;124m\"\u001b[39m\n\u001b[1;32m   5566\u001b[0m     )\n",
      "File \u001b[0;32m/opt/homebrew/lib/python3.9/site-packages/pandas/core/algorithms.py:459\u001b[0m, in \u001b[0;36misin\u001b[0;34m(comps, values)\u001b[0m\n\u001b[1;32m    454\u001b[0m     \u001b[38;5;28;01mraise\u001b[39;00m \u001b[38;5;167;01mTypeError\u001b[39;00m(\n\u001b[1;32m    455\u001b[0m         \u001b[38;5;124m\"\u001b[39m\u001b[38;5;124monly list-like objects are allowed to be passed \u001b[39m\u001b[38;5;124m\"\u001b[39m\n\u001b[1;32m    456\u001b[0m         \u001b[38;5;124mf\u001b[39m\u001b[38;5;124m\"\u001b[39m\u001b[38;5;124mto isin(), you passed a [\u001b[39m\u001b[38;5;132;01m{\u001b[39;00m\u001b[38;5;28mtype\u001b[39m(comps)\u001b[38;5;241m.\u001b[39m\u001b[38;5;18m__name__\u001b[39m\u001b[38;5;132;01m}\u001b[39;00m\u001b[38;5;124m]\u001b[39m\u001b[38;5;124m\"\u001b[39m\n\u001b[1;32m    457\u001b[0m     )\n\u001b[1;32m    458\u001b[0m \u001b[38;5;28;01mif\u001b[39;00m \u001b[38;5;129;01mnot\u001b[39;00m is_list_like(values):\n\u001b[0;32m--> 459\u001b[0m     \u001b[38;5;28;01mraise\u001b[39;00m \u001b[38;5;167;01mTypeError\u001b[39;00m(\n\u001b[1;32m    460\u001b[0m         \u001b[38;5;124m\"\u001b[39m\u001b[38;5;124monly list-like objects are allowed to be passed \u001b[39m\u001b[38;5;124m\"\u001b[39m\n\u001b[1;32m    461\u001b[0m         \u001b[38;5;124mf\u001b[39m\u001b[38;5;124m\"\u001b[39m\u001b[38;5;124mto isin(), you passed a [\u001b[39m\u001b[38;5;132;01m{\u001b[39;00m\u001b[38;5;28mtype\u001b[39m(values)\u001b[38;5;241m.\u001b[39m\u001b[38;5;18m__name__\u001b[39m\u001b[38;5;132;01m}\u001b[39;00m\u001b[38;5;124m]\u001b[39m\u001b[38;5;124m\"\u001b[39m\n\u001b[1;32m    462\u001b[0m     )\n\u001b[1;32m    464\u001b[0m \u001b[38;5;28;01mif\u001b[39;00m \u001b[38;5;129;01mnot\u001b[39;00m \u001b[38;5;28misinstance\u001b[39m(values, (ABCIndex, ABCSeries, ABCExtensionArray, np\u001b[38;5;241m.\u001b[39mndarray)):\n\u001b[1;32m    465\u001b[0m     orig_values \u001b[38;5;241m=\u001b[39m values\n",
      "\u001b[0;31mTypeError\u001b[0m: only list-like objects are allowed to be passed to isin(), you passed a [int]"
     ]
    }
   ],
   "source": [
    "for cur_uu_id in df_pred_list['uu_id']:\n",
    "    #print(uu_id)\n",
    "    test_data = df_three_col[df_three_col[\"uu_id\"].isin([cur_uu_id]) ]\n",
    "    #test_data = test_data.tail(3)\n",
    "    week_list = test_data['week_number'].tolist()\n",
    "    y_pred = -1\n",
    "    count = 0\n",
    "    sum = 0\n",
    "    for week_id in range(31,38):\n",
    "        if week_id in week_list:\n",
    "            count+=1\n",
    "            sum += test_data[test_data['week_number'].isin(week_id) ].values(2)\n",
    "    if count > 0:\n",
    "        y_pred = int(sum/count)\n",
    "    else:\n",
    "        max_week = max(week_list)\n",
    "        tmp_row = test_data[test_data['week_number'].isin(max_week) ].values(2)\n",
    "        #y_pre\n",
    "    cur_row =  pd.DataFrame([[cur_uu_id, y_pred, 41]], columns=['uu_id', 'total_claims', 'week_number'] )\n",
    "    res = pd.concat([res,cur_row] ,ignore_index = True)"
   ]
  },
  {
   "cell_type": "code",
   "execution_count": 32,
   "id": "b2333d69",
   "metadata": {
    "execution": {
     "iopub.execute_input": "2023-05-10T01:22:34.055983Z",
     "iopub.status.busy": "2023-05-10T01:22:34.055799Z",
     "iopub.status.idle": "2023-05-10T01:22:34.058003Z",
     "shell.execute_reply": "2023-05-10T01:22:34.057775Z"
    }
   },
   "outputs": [],
   "source": [
    "res.to_csv(\"Nov21_submission_prediction_output.csv\", index=False)"
   ]
  },
  {
   "cell_type": "code",
   "execution_count": 33,
   "id": "ac1ba8be",
   "metadata": {
    "execution": {
     "iopub.execute_input": "2023-05-10T01:22:34.059382Z",
     "iopub.status.busy": "2023-05-10T01:22:34.059286Z",
     "iopub.status.idle": "2023-05-10T01:22:34.061589Z",
     "shell.execute_reply": "2023-05-10T01:22:34.061342Z"
    }
   },
   "outputs": [],
   "source": [
    "res = pd.DataFrame(columns = ['uu_id', 'total_claims', 'week_number'])"
   ]
  },
  {
   "cell_type": "code",
   "execution_count": 34,
   "id": "2716f3f6",
   "metadata": {
    "execution": {
     "iopub.execute_input": "2023-05-10T01:22:34.062966Z",
     "iopub.status.busy": "2023-05-10T01:22:34.062865Z",
     "iopub.status.idle": "2023-05-10T01:22:34.123080Z",
     "shell.execute_reply": "2023-05-10T01:22:34.122785Z"
    },
    "lines_to_next_cell": 2
   },
   "outputs": [
    {
     "ename": "TypeError",
     "evalue": "int() argument must be a string, a bytes-like object or a number, not 'NAType'",
     "output_type": "error",
     "traceback": [
      "\u001b[0;31m---------------------------------------------------------------------------\u001b[0m",
      "\u001b[0;31mTypeError\u001b[0m                                 Traceback (most recent call last)",
      "Cell \u001b[0;32mIn [34], line 15\u001b[0m\n\u001b[1;32m     13\u001b[0m         \u001b[38;5;28msum\u001b[39m\u001b[38;5;241m+\u001b[39m\u001b[38;5;241m=\u001b[39m tmp_row[\u001b[38;5;124m'\u001b[39m\u001b[38;5;124mtotal_claims\u001b[39m\u001b[38;5;124m'\u001b[39m]\n\u001b[1;32m     14\u001b[0m \u001b[38;5;28;01mif\u001b[39;00m count \u001b[38;5;241m>\u001b[39m \u001b[38;5;241m0\u001b[39m:\n\u001b[0;32m---> 15\u001b[0m     y_pred \u001b[38;5;241m=\u001b[39m \u001b[38;5;28;43mint\u001b[39;49m\u001b[43m(\u001b[49m\u001b[38;5;28;43msum\u001b[39;49m\u001b[38;5;241;43m/\u001b[39;49m\u001b[43mcount\u001b[49m\u001b[43m)\u001b[49m\n\u001b[1;32m     16\u001b[0m \u001b[38;5;28;01melse\u001b[39;00m:\n\u001b[1;32m     17\u001b[0m     max_week \u001b[38;5;241m=\u001b[39m \u001b[38;5;28mmax\u001b[39m(week_list)\n",
      "File \u001b[0;32m/opt/homebrew/lib/python3.9/site-packages/pandas/core/series.py:205\u001b[0m, in \u001b[0;36m_coerce_method.<locals>.wrapper\u001b[0;34m(self)\u001b[0m\n\u001b[1;32m    203\u001b[0m \u001b[38;5;28;01mdef\u001b[39;00m \u001b[38;5;21mwrapper\u001b[39m(\u001b[38;5;28mself\u001b[39m):\n\u001b[1;32m    204\u001b[0m     \u001b[38;5;28;01mif\u001b[39;00m \u001b[38;5;28mlen\u001b[39m(\u001b[38;5;28mself\u001b[39m) \u001b[38;5;241m==\u001b[39m \u001b[38;5;241m1\u001b[39m:\n\u001b[0;32m--> 205\u001b[0m         \u001b[38;5;28;01mreturn\u001b[39;00m \u001b[43mconverter\u001b[49m\u001b[43m(\u001b[49m\u001b[38;5;28;43mself\u001b[39;49m\u001b[38;5;241;43m.\u001b[39;49m\u001b[43miloc\u001b[49m\u001b[43m[\u001b[49m\u001b[38;5;241;43m0\u001b[39;49m\u001b[43m]\u001b[49m\u001b[43m)\u001b[49m\n\u001b[1;32m    206\u001b[0m     \u001b[38;5;28;01mraise\u001b[39;00m \u001b[38;5;167;01mTypeError\u001b[39;00m(\u001b[38;5;124mf\u001b[39m\u001b[38;5;124m\"\u001b[39m\u001b[38;5;124mcannot convert the series to \u001b[39m\u001b[38;5;132;01m{\u001b[39;00mconverter\u001b[38;5;132;01m}\u001b[39;00m\u001b[38;5;124m\"\u001b[39m)\n",
      "\u001b[0;31mTypeError\u001b[0m: int() argument must be a string, a bytes-like object or a number, not 'NAType'"
     ]
    }
   ],
   "source": [
    "for cur_uu_id in df_pred_list['uu_id']:\n",
    "    #print(uu_id)\n",
    "    test_data = df_three_col[df_three_col[\"uu_id\"].isin([cur_uu_id]) ]\n",
    "    #test_data = test_data.tail(3)\n",
    "    week_list = test_data['week_number'].tolist()\n",
    "    y_pred = -1\n",
    "    count = 0\n",
    "    sum = 0\n",
    "    for week_id in range(31,38):\n",
    "        if week_id in week_list:\n",
    "            count+=1\n",
    "            tmp_row = test_data[test_data['week_number'] == week_id  ]\n",
    "            sum+= tmp_row['total_claims']\n",
    "    if count > 0:\n",
    "        y_pred = int(sum/count)\n",
    "    else:\n",
    "        max_week = max(week_list)\n",
    "        tmp_row = test_data[test_data['week_number'] ==  max_week  ] \n",
    "        y_pre = tmp_row['total_claims']\n",
    "    cur_row =  pd.DataFrame([[cur_uu_id, y_pred, 41]], columns=['uu_id', 'total_claims', 'week_number'] )\n",
    "    res = pd.concat([res,cur_row] ,ignore_index = True)"
   ]
  },
  {
   "cell_type": "code",
   "execution_count": 35,
   "id": "e66d6736",
   "metadata": {
    "execution": {
     "iopub.execute_input": "2023-05-10T01:22:34.124597Z",
     "iopub.status.busy": "2023-05-10T01:22:34.124491Z",
     "iopub.status.idle": "2023-05-10T01:22:34.126640Z",
     "shell.execute_reply": "2023-05-10T01:22:34.126408Z"
    }
   },
   "outputs": [],
   "source": [
    "res.to_csv(\"Nov21_submission_prediction_output.csv\", index=False)"
   ]
  },
  {
   "cell_type": "code",
   "execution_count": 36,
   "id": "63f02d54",
   "metadata": {
    "execution": {
     "iopub.execute_input": "2023-05-10T01:22:34.127978Z",
     "iopub.status.busy": "2023-05-10T01:22:34.127864Z",
     "iopub.status.idle": "2023-05-10T01:22:34.130294Z",
     "shell.execute_reply": "2023-05-10T01:22:34.130034Z"
    }
   },
   "outputs": [],
   "source": [
    "res = pd.DataFrame(columns = ['uu_id', 'total_claims', 'week_number'])"
   ]
  },
  {
   "cell_type": "code",
   "execution_count": 37,
   "id": "2334b859",
   "metadata": {
    "execution": {
     "iopub.execute_input": "2023-05-10T01:22:34.131769Z",
     "iopub.status.busy": "2023-05-10T01:22:34.131658Z",
     "iopub.status.idle": "2023-05-10T01:22:34.824336Z",
     "shell.execute_reply": "2023-05-10T01:22:34.824052Z"
    },
    "lines_to_next_cell": 2
   },
   "outputs": [],
   "source": [
    "for cur_uu_id in df_pred_list['uu_id']:\n",
    "    #print(uu_id)\n",
    "    test_data = df_three_col[df_three_col[\"uu_id\"].isin([cur_uu_id]) ]\n",
    "    #test_data = test_data.tail(3)\n",
    "    week_list = test_data['week_number'].tolist()\n",
    "    y_pred = -1\n",
    "    count = 0\n",
    "    sum = 0\n",
    "    for week_id in range(31,38):\n",
    "        if week_id in week_list:\n",
    "            count+=1\n",
    "            tmp_row = test_data[test_data['week_number'] == week_id  ]\n",
    "            sum+= int( tmp_row['total_claims'])\n",
    "    if count > 0:\n",
    "        y_pred = int(sum/count)\n",
    "    else:\n",
    "        max_week = max(week_list)\n",
    "        tmp_row = test_data[test_data['week_number'] ==  max_week  ] \n",
    "        y_pre = tmp_row['total_claims']\n",
    "    cur_row =  pd.DataFrame([[cur_uu_id, y_pred, 41]], columns=['uu_id', 'total_claims', 'week_number'] )\n",
    "    res = pd.concat([res,cur_row] ,ignore_index = True)"
   ]
  },
  {
   "cell_type": "code",
   "execution_count": 38,
   "id": "a191bbeb",
   "metadata": {
    "execution": {
     "iopub.execute_input": "2023-05-10T01:22:34.826060Z",
     "iopub.status.busy": "2023-05-10T01:22:34.825967Z",
     "iopub.status.idle": "2023-05-10T01:22:34.829693Z",
     "shell.execute_reply": "2023-05-10T01:22:34.829340Z"
    },
    "lines_to_next_cell": 2
   },
   "outputs": [],
   "source": [
    "res.to_csv(\"Nov21_submission_prediction_output.csv\", index=False)"
   ]
  }
 ],
 "metadata": {
  "jupytext": {
   "cell_metadata_filter": "-all",
   "main_language": "python",
   "notebook_metadata_filter": "-all"
  },
  "language_info": {
   "codemirror_mode": {
    "name": "ipython",
    "version": 3
   },
   "file_extension": ".py",
   "mimetype": "text/x-python",
   "name": "python",
   "nbconvert_exporter": "python",
   "pygments_lexer": "ipython3",
   "version": "3.9.12"
  }
 },
 "nbformat": 4,
 "nbformat_minor": 5
}
