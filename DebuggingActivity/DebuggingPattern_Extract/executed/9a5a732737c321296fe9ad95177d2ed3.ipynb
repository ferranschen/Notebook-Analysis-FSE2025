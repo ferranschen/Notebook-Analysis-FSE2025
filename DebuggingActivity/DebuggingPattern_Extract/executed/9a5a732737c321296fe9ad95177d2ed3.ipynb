{
 "cells": [
  {
   "cell_type": "code",
   "execution_count": 1,
   "id": "dc512e89",
   "metadata": {
    "execution": {
     "iopub.execute_input": "2023-05-10T02:15:02.491565Z",
     "iopub.status.busy": "2023-05-10T02:15:02.491022Z",
     "iopub.status.idle": "2023-05-10T02:15:02.505871Z",
     "shell.execute_reply": "2023-05-10T02:15:02.504330Z"
    }
   },
   "outputs": [],
   "source": [
    "get_ipython().run_cell_magic('capture', '', \"%logstop\\n%logstart -t -r -q ipython_command_log.py global\\n\\n#- IRONHACKS RESEARCH TRACKING CODE\\n#----------------------------------\\n# The following code is used to help our research team understand how you \\n# our notebook environment. We do not collect any personal information with\\n# the following code, it is used to measure when and how often you work on\\n# your submission files.\\n\\nimport os\\nfrom datetime import datetime\\nimport IPython.core.history as history\\n\\nha = history.HistoryAccessor()\\nha_tail = ha.get_tail(1)\\nha_cmd = next(ha_tail)\\nsession_id = str(ha_cmd[0])\\ncommand_id = str(ha_cmd[1])\\ntimestamp = datetime.utcnow().isoformat()\\nhistory_line = ','.join([session_id, command_id, timestamp]) + '\\\\n'\\nlogfile = open(os.environ['HOME']+'/ipython_session_log.csv', 'a')\\nlogfile.write(history_line)\\nlogfile.close()\\n\")"
   ]
  },
  {
   "cell_type": "code",
   "execution_count": 2,
   "id": "e21fd767",
   "metadata": {
    "execution": {
     "iopub.execute_input": "2023-05-10T02:15:02.519835Z",
     "iopub.status.busy": "2023-05-10T02:15:02.519221Z",
     "iopub.status.idle": "2023-05-10T02:15:05.461611Z",
     "shell.execute_reply": "2023-05-10T02:15:05.460877Z"
    }
   },
   "outputs": [],
   "source": [
    "get_ipython().run_cell_magic('capture', '', \"#- INSTALL ADDITIONAL LIBRARIES IF REQUIRED\\n#------------------------------------------\\n# This is normally not required. The hub environment comes preinstaled with \\n# many packages that you can already use without setup. In case there is some\\n# other library you would like to use that isn't on the list you run this command\\n# once to install them.  If it is already installed this command has no effect.\\n!pip install google-cloud-bigquery\\n!pip install google-cloud-bigquery[pandas]\\n\")"
   ]
  },
  {
   "cell_type": "code",
   "execution_count": 3,
   "id": "227f6aa3",
   "metadata": {
    "execution": {
     "iopub.execute_input": "2023-05-10T02:15:05.464746Z",
     "iopub.status.busy": "2023-05-10T02:15:05.464515Z",
     "iopub.status.idle": "2023-05-10T02:15:06.447320Z",
     "shell.execute_reply": "2023-05-10T02:15:06.447019Z"
    }
   },
   "outputs": [],
   "source": [
    "#- IMPORT THE LIBRARIES YOU WILL USE\n",
    "#------------------------------------------\n",
    "# You only need to import packages one time per notebook session. To keep your\n",
    "# notebook clean and organized you can handle all imports at the top of your file.\n",
    "# The following are included for example purposed, feel free to modify or delete \n",
    "# anything in this section.\n",
    "import csv\n",
    "import pandas as pd\n",
    "import numpy as np\n",
    "from google.cloud import bigquery\n",
    "from google.oauth2 import service_account\n",
    "from google.cloud.bigquery import magics\n",
    "from sklearn.model_selection import train_test_split \n",
    "from sklearn.linear_model import LinearRegression\n",
    "from sklearn import metrics\n",
    "import matplotlib.pyplot as plt  \n",
    "import statsmodels.api as sm\n",
    "import itertools\n",
    "from sklearn.tree import DecisionTreeClassifier\n",
    "from sklearn.ensemble import RandomForestClassifier"
   ]
  },
  {
   "cell_type": "code",
   "execution_count": 4,
   "id": "56a44116",
   "metadata": {
    "execution": {
     "iopub.execute_input": "2023-05-10T02:15:06.449080Z",
     "iopub.status.busy": "2023-05-10T02:15:06.448927Z",
     "iopub.status.idle": "2023-05-10T02:15:06.457244Z",
     "shell.execute_reply": "2023-05-10T02:15:06.456882Z"
    }
   },
   "outputs": [],
   "source": [
    "BIGQUERY_PROJECT = 'ironhacks-data'\n",
    "bigquery_client = bigquery.Client(project=BIGQUERY_PROJECT)"
   ]
  },
  {
   "cell_type": "code",
   "execution_count": 5,
   "id": "caf3c23b",
   "metadata": {
    "execution": {
     "iopub.execute_input": "2023-05-10T02:15:06.458896Z",
     "iopub.status.busy": "2023-05-10T02:15:06.458777Z",
     "iopub.status.idle": "2023-05-10T02:15:08.772286Z",
     "shell.execute_reply": "2023-05-10T02:15:08.771846Z"
    }
   },
   "outputs": [
    {
     "data": {
      "text/html": [
       "<div>\n",
       "<style scoped>\n",
       "    .dataframe tbody tr th:only-of-type {\n",
       "        vertical-align: middle;\n",
       "    }\n",
       "\n",
       "    .dataframe tbody tr th {\n",
       "        vertical-align: top;\n",
       "    }\n",
       "\n",
       "    .dataframe thead th {\n",
       "        text-align: right;\n",
       "    }\n",
       "</style>\n",
       "<table border=\"1\" class=\"dataframe\">\n",
       "  <thead>\n",
       "    <tr style=\"text-align: right;\">\n",
       "      <th></th>\n",
       "      <th>uu_id</th>\n",
       "      <th>timeperiod</th>\n",
       "      <th>week_number</th>\n",
       "      <th>countyfips</th>\n",
       "      <th>tract</th>\n",
       "      <th>tract_name</th>\n",
       "      <th>total_claims</th>\n",
       "      <th>edu_8th_or_less</th>\n",
       "      <th>edu_grades_9_11</th>\n",
       "      <th>edu_hs_grad_equiv</th>\n",
       "      <th>...</th>\n",
       "      <th>gender_female</th>\n",
       "      <th>gender_male</th>\n",
       "      <th>gender_na</th>\n",
       "      <th>race_amerindian</th>\n",
       "      <th>race_asian</th>\n",
       "      <th>race_black</th>\n",
       "      <th>race_noanswer</th>\n",
       "      <th>race_hawaiiannative</th>\n",
       "      <th>race_other</th>\n",
       "      <th>race_white</th>\n",
       "    </tr>\n",
       "  </thead>\n",
       "  <tbody>\n",
       "    <tr>\n",
       "      <th>0</th>\n",
       "      <td>65f24aac652de33abaf3f227b41e2641</td>\n",
       "      <td>20220101</td>\n",
       "      <td>1</td>\n",
       "      <td>18093</td>\n",
       "      <td>950500</td>\n",
       "      <td>Census Tract 9505, Lawrence County, Indiana</td>\n",
       "      <td>10</td>\n",
       "      <td>0</td>\n",
       "      <td>&lt;NA&gt;</td>\n",
       "      <td>&lt;NA&gt;</td>\n",
       "      <td>...</td>\n",
       "      <td>&lt;NA&gt;</td>\n",
       "      <td>&lt;NA&gt;</td>\n",
       "      <td>0</td>\n",
       "      <td>0</td>\n",
       "      <td>0</td>\n",
       "      <td>&lt;NA&gt;</td>\n",
       "      <td>0</td>\n",
       "      <td>0</td>\n",
       "      <td>0</td>\n",
       "      <td>&lt;NA&gt;</td>\n",
       "    </tr>\n",
       "    <tr>\n",
       "      <th>1</th>\n",
       "      <td>14ceb8012cb1b912044297c8933cfcfc</td>\n",
       "      <td>20220101</td>\n",
       "      <td>1</td>\n",
       "      <td>18057</td>\n",
       "      <td>110506</td>\n",
       "      <td>Census Tract 1105.06, Hamilton County, Indiana</td>\n",
       "      <td>39</td>\n",
       "      <td>&lt;NA&gt;</td>\n",
       "      <td>0</td>\n",
       "      <td>&lt;NA&gt;</td>\n",
       "      <td>...</td>\n",
       "      <td>&lt;NA&gt;</td>\n",
       "      <td>&lt;NA&gt;</td>\n",
       "      <td>0</td>\n",
       "      <td>0</td>\n",
       "      <td>0</td>\n",
       "      <td>&lt;NA&gt;</td>\n",
       "      <td>&lt;NA&gt;</td>\n",
       "      <td>0</td>\n",
       "      <td>&lt;NA&gt;</td>\n",
       "      <td>28</td>\n",
       "    </tr>\n",
       "    <tr>\n",
       "      <th>2</th>\n",
       "      <td>f013068de98db1470bd986137a0c6d23</td>\n",
       "      <td>20220101</td>\n",
       "      <td>1</td>\n",
       "      <td>18003</td>\n",
       "      <td>900</td>\n",
       "      <td>Census Tract 9, Allen County, Indiana</td>\n",
       "      <td>10</td>\n",
       "      <td>0</td>\n",
       "      <td>0</td>\n",
       "      <td>&lt;NA&gt;</td>\n",
       "      <td>...</td>\n",
       "      <td>&lt;NA&gt;</td>\n",
       "      <td>&lt;NA&gt;</td>\n",
       "      <td>0</td>\n",
       "      <td>0</td>\n",
       "      <td>0</td>\n",
       "      <td>&lt;NA&gt;</td>\n",
       "      <td>0</td>\n",
       "      <td>0</td>\n",
       "      <td>&lt;NA&gt;</td>\n",
       "      <td>&lt;NA&gt;</td>\n",
       "    </tr>\n",
       "    <tr>\n",
       "      <th>3</th>\n",
       "      <td>f70960d492c2fd067680a14baa0f66e9</td>\n",
       "      <td>20220101</td>\n",
       "      <td>1</td>\n",
       "      <td>18167</td>\n",
       "      <td>10600</td>\n",
       "      <td>Census Tract 106, Vigo County, Indiana</td>\n",
       "      <td>35</td>\n",
       "      <td>0</td>\n",
       "      <td>&lt;NA&gt;</td>\n",
       "      <td>21</td>\n",
       "      <td>...</td>\n",
       "      <td>&lt;NA&gt;</td>\n",
       "      <td>&lt;NA&gt;</td>\n",
       "      <td>0</td>\n",
       "      <td>0</td>\n",
       "      <td>0</td>\n",
       "      <td>0</td>\n",
       "      <td>&lt;NA&gt;</td>\n",
       "      <td>0</td>\n",
       "      <td>&lt;NA&gt;</td>\n",
       "      <td>32</td>\n",
       "    </tr>\n",
       "    <tr>\n",
       "      <th>4</th>\n",
       "      <td>778946d9696cd6c95f57e8b1e6336389</td>\n",
       "      <td>20220101</td>\n",
       "      <td>1</td>\n",
       "      <td>18167</td>\n",
       "      <td>11200</td>\n",
       "      <td>Census Tract 112, Vigo County, Indiana</td>\n",
       "      <td>37</td>\n",
       "      <td>0</td>\n",
       "      <td>&lt;NA&gt;</td>\n",
       "      <td>24</td>\n",
       "      <td>...</td>\n",
       "      <td>26</td>\n",
       "      <td>11</td>\n",
       "      <td>0</td>\n",
       "      <td>0</td>\n",
       "      <td>0</td>\n",
       "      <td>&lt;NA&gt;</td>\n",
       "      <td>&lt;NA&gt;</td>\n",
       "      <td>0</td>\n",
       "      <td>&lt;NA&gt;</td>\n",
       "      <td>&lt;NA&gt;</td>\n",
       "    </tr>\n",
       "  </tbody>\n",
       "</table>\n",
       "<p>5 rows × 25 columns</p>\n",
       "</div>"
      ],
      "text/plain": [
       "                              uu_id  timeperiod  week_number  countyfips  \\\n",
       "0  65f24aac652de33abaf3f227b41e2641    20220101            1       18093   \n",
       "1  14ceb8012cb1b912044297c8933cfcfc    20220101            1       18057   \n",
       "2  f013068de98db1470bd986137a0c6d23    20220101            1       18003   \n",
       "3  f70960d492c2fd067680a14baa0f66e9    20220101            1       18167   \n",
       "4  778946d9696cd6c95f57e8b1e6336389    20220101            1       18167   \n",
       "\n",
       "    tract                                      tract_name  total_claims  \\\n",
       "0  950500     Census Tract 9505, Lawrence County, Indiana            10   \n",
       "1  110506  Census Tract 1105.06, Hamilton County, Indiana            39   \n",
       "2     900           Census Tract 9, Allen County, Indiana            10   \n",
       "3   10600          Census Tract 106, Vigo County, Indiana            35   \n",
       "4   11200          Census Tract 112, Vigo County, Indiana            37   \n",
       "\n",
       "   edu_8th_or_less  edu_grades_9_11  edu_hs_grad_equiv  ...  gender_female  \\\n",
       "0                0             <NA>               <NA>  ...           <NA>   \n",
       "1             <NA>                0               <NA>  ...           <NA>   \n",
       "2                0                0               <NA>  ...           <NA>   \n",
       "3                0             <NA>                 21  ...           <NA>   \n",
       "4                0             <NA>                 24  ...             26   \n",
       "\n",
       "   gender_male gender_na race_amerindian race_asian  race_black  \\\n",
       "0         <NA>         0               0          0        <NA>   \n",
       "1         <NA>         0               0          0        <NA>   \n",
       "2         <NA>         0               0          0        <NA>   \n",
       "3         <NA>         0               0          0           0   \n",
       "4           11         0               0          0        <NA>   \n",
       "\n",
       "   race_noanswer  race_hawaiiannative  race_other  race_white  \n",
       "0              0                    0           0        <NA>  \n",
       "1           <NA>                    0        <NA>          28  \n",
       "2              0                    0        <NA>        <NA>  \n",
       "3           <NA>                    0        <NA>          32  \n",
       "4           <NA>                    0        <NA>        <NA>  \n",
       "\n",
       "[5 rows x 25 columns]"
      ]
     },
     "execution_count": 5,
     "metadata": {},
     "output_type": "execute_result"
    }
   ],
   "source": [
    "#query 3: overview of employment_data(week 41)\n",
    "query = \"\"\"\n",
    "SELECT *\n",
    "FROM `ironhacks-data.ironhacks_competition.unemployment_data`\n",
    "ORDER BY week_number ASC;\n",
    "\"\"\"\n",
    "query_job = bigquery_client.query(query)\n",
    "overview = query_job.to_dataframe()\n",
    "overview.head()"
   ]
  },
  {
   "cell_type": "code",
   "execution_count": 6,
   "id": "c5e03cad",
   "metadata": {
    "execution": {
     "iopub.execute_input": "2023-05-10T02:15:08.775050Z",
     "iopub.status.busy": "2023-05-10T02:15:08.774718Z",
     "iopub.status.idle": "2023-05-10T02:15:10.386095Z",
     "shell.execute_reply": "2023-05-10T02:15:10.385072Z"
    }
   },
   "outputs": [
    {
     "name": "stdout",
     "output_type": "stream",
     "text": [
      "                              uu_id  week_number  total_claims\n",
      "0  65f24aac652de33abaf3f227b41e2641            1            10\n",
      "1  14ceb8012cb1b912044297c8933cfcfc            1            39\n",
      "2  f013068de98db1470bd986137a0c6d23            1            10\n",
      "3  f70960d492c2fd067680a14baa0f66e9            1            35\n",
      "4  778946d9696cd6c95f57e8b1e6336389            1            37\n"
     ]
    }
   ],
   "source": [
    "#query 2: overview of important info from unemployment table\n",
    "query = \"\"\"\n",
    "SELECT uu_id, week_number, total_claims\n",
    "FROM `ironhacks-data.ironhacks_competition.unemployment_data` \n",
    "ORDER BY week_number ASC\n",
    "\"\"\"\n",
    "query_jobb = bigquery_client.query(query)\n",
    "employ = query_jobb.to_dataframe()\n",
    "print(employ.head())"
   ]
  },
  {
   "cell_type": "code",
   "execution_count": 7,
   "id": "0ab955ec",
   "metadata": {
    "execution": {
     "iopub.execute_input": "2023-05-10T02:15:10.391552Z",
     "iopub.status.busy": "2023-05-10T02:15:10.391018Z",
     "iopub.status.idle": "2023-05-10T02:15:12.008703Z",
     "shell.execute_reply": "2023-05-10T02:15:12.007646Z"
    }
   },
   "outputs": [
    {
     "name": "stdout",
     "output_type": "stream",
     "text": [
      "                              uu_id  week_number\n",
      "0  5bf51fc2e162d6faf9e3cf79e4198378           44\n",
      "1  420b44cc7e3f55d738df565421e59941           44\n",
      "2  e39c66ecceec76ee8f9f811fa4a2d246           44\n",
      "3  a90462cd11ae4e43144239bf7c4828a4           44\n",
      "4  8b20a6749088c7ff1237983076ebfeaa           44\n"
     ]
    }
   ],
   "source": [
    "#query 3: overview of prediction list (week 41)\n",
    "query = \"\"\"\n",
    "SELECT *\n",
    "FROM `ironhacks-data.ironhacks_competition.prediction_list`\n",
    "\"\"\"\n",
    "query_job = bigquery_client.query(query)\n",
    "predn = query_job.to_dataframe()\n",
    "predn.head()\n",
    "print(predn.head())"
   ]
  },
  {
   "cell_type": "code",
   "execution_count": 8,
   "id": "cce9de7d",
   "metadata": {
    "execution": {
     "iopub.execute_input": "2023-05-10T02:15:12.014488Z",
     "iopub.status.busy": "2023-05-10T02:15:12.014089Z",
     "iopub.status.idle": "2023-05-10T02:15:15.775150Z",
     "shell.execute_reply": "2023-05-10T02:15:15.774887Z"
    }
   },
   "outputs": [
    {
     "data": {
      "image/png": "[encoded data removed]",
      "text/plain": [
       "<Figure size 640x480 with 1 Axes>"
      ]
     },
     "metadata": {},
     "output_type": "display_data"
    }
   ],
   "source": [
    "fig = plt.figure()\n",
    "plt.plot([employ.week_number], [employ.total_claims],'bs')\n",
    "plt.title('Distribution of claims through week')\n",
    "plt.xlabel('Weeks')\n",
    "plt.ylabel('Total claims')\n",
    "plt.show()"
   ]
  },
  {
   "cell_type": "code",
   "execution_count": 9,
   "id": "3e7a4c7c",
   "metadata": {
    "execution": {
     "iopub.execute_input": "2023-05-10T02:15:15.776769Z",
     "iopub.status.busy": "2023-05-10T02:15:15.776652Z",
     "iopub.status.idle": "2023-05-10T02:15:15.779811Z",
     "shell.execute_reply": "2023-05-10T02:15:15.779535Z"
    }
   },
   "outputs": [],
   "source": [
    "labels = np.array(overview['total_claims'])\n",
    "features = employ.drop(['uu_id'], axis=1)\n",
    "feature_list = list(features.columns)\n",
    "features = np.array(features)"
   ]
  },
  {
   "cell_type": "code",
   "execution_count": 10,
   "id": "305955ce",
   "metadata": {
    "execution": {
     "iopub.execute_input": "2023-05-10T02:15:15.781173Z",
     "iopub.status.busy": "2023-05-10T02:15:15.781084Z",
     "iopub.status.idle": "2023-05-10T02:15:15.783501Z",
     "shell.execute_reply": "2023-05-10T02:15:15.783267Z"
    }
   },
   "outputs": [],
   "source": [
    "#split data into train and test sets, split first 20% data\n",
    "x_train, x_test, y_train,y_test = train_test_split(features, labels, test_size = 0.20, random_state = 42)"
   ]
  },
  {
   "cell_type": "code",
   "execution_count": 11,
   "id": "45aac8b6",
   "metadata": {
    "execution": {
     "iopub.execute_input": "2023-05-10T02:15:15.784932Z",
     "iopub.status.busy": "2023-05-10T02:15:15.784851Z",
     "iopub.status.idle": "2023-05-10T02:15:15.786701Z",
     "shell.execute_reply": "2023-05-10T02:15:15.786409Z"
    }
   },
   "outputs": [
    {
     "name": "stdout",
     "output_type": "stream",
     "text": [
      "Training Features Shape: (13466, 2)\n",
      "Testing Features Shape: (3367, 2)\n",
      "Training Labels Shape: (13466,)\n",
      "Testing Labels Shape: (3367,)\n"
     ]
    }
   ],
   "source": [
    "print(f'Training Features Shape: {x_train.shape}')\n",
    "print(f'Testing Features Shape: {x_test.shape}')\n",
    "print(f'Training Labels Shape: {y_train.shape}')\n",
    "print(f'Testing Labels Shape: {y_test.shape}')"
   ]
  },
  {
   "cell_type": "code",
   "execution_count": 12,
   "id": "d398136e",
   "metadata": {
    "execution": {
     "iopub.execute_input": "2023-05-10T02:15:15.788073Z",
     "iopub.status.busy": "2023-05-10T02:15:15.787991Z",
     "iopub.status.idle": "2023-05-10T02:15:18.821594Z",
     "shell.execute_reply": "2023-05-10T02:15:18.821307Z"
    }
   },
   "outputs": [
    {
     "data": {
      "text/html": [
       "<style>#sk-container-id-1 {color: black;background-color: white;}#sk-container-id-1 pre{padding: 0;}#sk-container-id-1 div.sk-toggleable {background-color: white;}#sk-container-id-1 label.sk-toggleable__label {cursor: pointer;display: block;width: 100%;margin-bottom: 0;padding: 0.3em;box-sizing: border-box;text-align: center;}#sk-container-id-1 label.sk-toggleable__label-arrow:before {content: \"▸\";float: left;margin-right: 0.25em;color: #696969;}#sk-container-id-1 label.sk-toggleable__label-arrow:hover:before {color: black;}#sk-container-id-1 div.sk-estimator:hover label.sk-toggleable__label-arrow:before {color: black;}#sk-container-id-1 div.sk-toggleable__content {max-height: 0;max-width: 0;overflow: hidden;text-align: left;background-color: #f0f8ff;}#sk-container-id-1 div.sk-toggleable__content pre {margin: 0.2em;color: black;border-radius: 0.25em;background-color: #f0f8ff;}#sk-container-id-1 input.sk-toggleable__control:checked~div.sk-toggleable__content {max-height: 200px;max-width: 100%;overflow: auto;}#sk-container-id-1 input.sk-toggleable__control:checked~label.sk-toggleable__label-arrow:before {content: \"▾\";}#sk-container-id-1 div.sk-estimator input.sk-toggleable__control:checked~label.sk-toggleable__label {background-color: #d4ebff;}#sk-container-id-1 div.sk-label input.sk-toggleable__control:checked~label.sk-toggleable__label {background-color: #d4ebff;}#sk-container-id-1 input.sk-hidden--visually {border: 0;clip: rect(1px 1px 1px 1px);clip: rect(1px, 1px, 1px, 1px);height: 1px;margin: -1px;overflow: hidden;padding: 0;position: absolute;width: 1px;}#sk-container-id-1 div.sk-estimator {font-family: monospace;background-color: #f0f8ff;border: 1px dotted black;border-radius: 0.25em;box-sizing: border-box;margin-bottom: 0.5em;}#sk-container-id-1 div.sk-estimator:hover {background-color: #d4ebff;}#sk-container-id-1 div.sk-parallel-item::after {content: \"\";width: 100%;border-bottom: 1px solid gray;flex-grow: 1;}#sk-container-id-1 div.sk-label:hover label.sk-toggleable__label {background-color: #d4ebff;}#sk-container-id-1 div.sk-serial::before {content: \"\";position: absolute;border-left: 1px solid gray;box-sizing: border-box;top: 0;bottom: 0;left: 50%;z-index: 0;}#sk-container-id-1 div.sk-serial {display: flex;flex-direction: column;align-items: center;background-color: white;padding-right: 0.2em;padding-left: 0.2em;position: relative;}#sk-container-id-1 div.sk-item {position: relative;z-index: 1;}#sk-container-id-1 div.sk-parallel {display: flex;align-items: stretch;justify-content: center;background-color: white;position: relative;}#sk-container-id-1 div.sk-item::before, #sk-container-id-1 div.sk-parallel-item::before {content: \"\";position: absolute;border-left: 1px solid gray;box-sizing: border-box;top: 0;bottom: 0;left: 50%;z-index: -1;}#sk-container-id-1 div.sk-parallel-item {display: flex;flex-direction: column;z-index: 1;position: relative;background-color: white;}#sk-container-id-1 div.sk-parallel-item:first-child::after {align-self: flex-end;width: 50%;}#sk-container-id-1 div.sk-parallel-item:last-child::after {align-self: flex-start;width: 50%;}#sk-container-id-1 div.sk-parallel-item:only-child::after {width: 0;}#sk-container-id-1 div.sk-dashed-wrapped {border: 1px dashed gray;margin: 0 0.4em 0.5em 0.4em;box-sizing: border-box;padding-bottom: 0.4em;background-color: white;}#sk-container-id-1 div.sk-label label {font-family: monospace;font-weight: bold;display: inline-block;line-height: 1.2em;}#sk-container-id-1 div.sk-label-container {text-align: center;}#sk-container-id-1 div.sk-container {/* jupyter's `normalize.less` sets `[hidden] { display: none; }` but bootstrap.min.css set `[hidden] { display: none !important; }` so we also need the `!important` here to be able to override the default hidden behavior on the sphinx rendered scikit-learn.org. See: https://github.com/scikit-learn/scikit-learn/issues/21755 */display: inline-block !important;position: relative;}#sk-container-id-1 div.sk-text-repr-fallback {display: none;}</style><div id=\"sk-container-id-1\" class=\"sk-top-container\"><div class=\"sk-text-repr-fallback\"><pre>RandomForestRegressor(n_estimators=1000, random_state=42)</pre><b>In a Jupyter environment, please rerun this cell to show the HTML representation or trust the notebook. <br />On GitHub, the HTML representation is unable to render, please try loading this page with nbviewer.org.</b></div><div class=\"sk-container\" hidden><div class=\"sk-item\"><div class=\"sk-estimator sk-toggleable\"><input class=\"sk-toggleable__control sk-hidden--visually\" id=\"sk-estimator-id-1\" type=\"checkbox\" checked><label for=\"sk-estimator-id-1\" class=\"sk-toggleable__label sk-toggleable__label-arrow\">RandomForestRegressor</label><div class=\"sk-toggleable__content\"><pre>RandomForestRegressor(n_estimators=1000, random_state=42)</pre></div></div></div></div></div>"
      ],
      "text/plain": [
       "RandomForestRegressor(n_estimators=1000, random_state=42)"
      ]
     },
     "execution_count": 12,
     "metadata": {},
     "output_type": "execute_result"
    }
   ],
   "source": [
    "from sklearn.ensemble import RandomForestRegressor\n",
    "regressor = RandomForestRegressor(n_estimators=1000, random_state=42)\n",
    "x = x_train\n",
    "y = y_train\n",
    "regressor.fit(x,y) "
   ]
  },
  {
   "cell_type": "code",
   "execution_count": 13,
   "id": "22a82bb6",
   "metadata": {
    "execution": {
     "iopub.execute_input": "2023-05-10T02:15:18.823114Z",
     "iopub.status.busy": "2023-05-10T02:15:18.823027Z",
     "iopub.status.idle": "2023-05-10T02:15:21.839779Z",
     "shell.execute_reply": "2023-05-10T02:15:21.839477Z"
    }
   },
   "outputs": [
    {
     "data": {
      "text/plain": [
       "[Text(0.3367228835978836, 0.95, 'x[1] <= 34.5\\nsquared_error = 215.074\\nsamples = 8517\\nvalue = 23.007'),\n",
       " Text(0.09854497354497355, 0.85, 'x[1] <= 19.5\\nsquared_error = 41.043\\nsamples = 7247\\nvalue = 18.237'),\n",
       " Text(0.042328042328042326, 0.75, 'x[1] <= 14.5\\nsquared_error = 7.766\\nsamples = 4594\\nvalue = 14.074'),\n",
       " Text(0.021164021164021163, 0.65, 'x[1] <= 11.5\\nsquared_error = 2.01\\nsamples = 2617\\nvalue = 11.987'),\n",
       " Text(0.010582010582010581, 0.55, 'x[1] <= 10.5\\nsquared_error = 0.25\\nsamples = 1063\\nvalue = 10.497'),\n",
       " Text(0.005291005291005291, 0.45, 'squared_error = 0.0\\nsamples = 538\\nvalue = 10.0'),\n",
       " Text(0.015873015873015872, 0.45, 'squared_error = 0.0\\nsamples = 525\\nvalue = 11.0'),\n",
       " Text(0.031746031746031744, 0.55, 'x[1] <= 13.5\\nsquared_error = 0.669\\nsamples = 1554\\nvalue = 13.001'),\n",
       " Text(0.026455026455026454, 0.45, 'x[1] <= 12.5\\nsquared_error = 0.25\\nsamples = 1029\\nvalue = 12.498'),\n",
       " Text(0.021164021164021163, 0.35, 'squared_error = 0.0\\nsamples = 531\\nvalue = 12.0'),\n",
       " Text(0.031746031746031744, 0.35, 'squared_error = 0.0\\nsamples = 498\\nvalue = 13.0'),\n",
       " Text(0.037037037037037035, 0.45, 'squared_error = 0.0\\nsamples = 525\\nvalue = 14.0'),\n",
       " Text(0.06349206349206349, 0.65, 'x[1] <= 16.5\\nsquared_error = 1.941\\nsamples = 1977\\nvalue = 16.846'),\n",
       " Text(0.05291005291005291, 0.55, 'x[1] <= 15.5\\nsquared_error = 0.25\\nsamples = 873\\nvalue = 15.485'),\n",
       " Text(0.047619047619047616, 0.45, 'squared_error = 0.0\\nsamples = 448\\nvalue = 15.0'),\n",
       " Text(0.0582010582010582, 0.45, 'squared_error = 0.0\\nsamples = 425\\nvalue = 16.0'),\n",
       " Text(0.07407407407407407, 0.55, 'x[1] <= 17.5\\nsquared_error = 0.691\\nsamples = 1104\\nvalue = 17.906'),\n",
       " Text(0.06878306878306878, 0.45, 'squared_error = 0.0\\nsamples = 425\\nvalue = 17.0'),\n",
       " Text(0.07936507936507936, 0.45, 'x[1] <= 18.5\\nsquared_error = 0.25\\nsamples = 679\\nvalue = 18.503'),\n",
       " Text(0.07407407407407407, 0.35, 'squared_error = 0.0\\nsamples = 336\\nvalue = 18.0'),\n",
       " Text(0.08465608465608465, 0.35, 'squared_error = 0.0\\nsamples = 343\\nvalue = 19.0'),\n",
       " Text(0.15476190476190477, 0.75, 'x[1] <= 26.5\\nsquared_error = 17.461\\nsamples = 2653\\nvalue = 25.372'),\n",
       " Text(0.11375661375661375, 0.65, 'x[1] <= 22.5\\nsquared_error = 3.965\\nsamples = 1691\\nvalue = 22.63'),\n",
       " Text(0.09523809523809523, 0.55, 'x[1] <= 20.5\\nsquared_error = 0.67\\nsamples = 868\\nvalue = 20.953'),\n",
       " Text(0.08994708994708994, 0.45, 'squared_error = 0.0\\nsamples = 310\\nvalue = 20.0'),\n",
       " Text(0.10052910052910052, 0.45, 'x[1] <= 21.5\\nsquared_error = 0.25\\nsamples = 558\\nvalue = 21.489'),\n",
       " Text(0.09523809523809523, 0.35, 'squared_error = 0.0\\nsamples = 279\\nvalue = 21.0'),\n",
       " Text(0.10582010582010581, 0.35, 'squared_error = 0.0\\nsamples = 279\\nvalue = 22.0'),\n",
       " Text(0.13227513227513227, 0.55, 'x[1] <= 24.5\\nsquared_error = 1.227\\nsamples = 823\\nvalue = 24.435'),\n",
       " Text(0.12169312169312169, 0.45, 'x[1] <= 23.5\\nsquared_error = 0.25\\nsamples = 439\\nvalue = 23.503'),\n",
       " Text(0.1164021164021164, 0.35, 'squared_error = 0.0\\nsamples = 219\\nvalue = 23.0'),\n",
       " Text(0.12698412698412698, 0.35, 'squared_error = 0.0\\nsamples = 220\\nvalue = 24.0'),\n",
       " Text(0.14285714285714285, 0.45, 'x[1] <= 25.5\\nsquared_error = 0.25\\nsamples = 384\\nvalue = 25.483'),\n",
       " Text(0.13756613756613756, 0.35, 'squared_error = 0.0\\nsamples = 199\\nvalue = 25.0'),\n",
       " Text(0.14814814814814814, 0.35, 'squared_error = 0.0\\nsamples = 185\\nvalue = 26.0'),\n",
       " Text(0.19576719576719576, 0.65, 'x[1] <= 30.5\\nsquared_error = 5.493\\nsamples = 962\\nvalue = 30.088'),\n",
       " Text(0.1746031746031746, 0.55, 'x[1] <= 28.5\\nsquared_error = 1.281\\nsamples = 544\\nvalue = 28.294'),\n",
       " Text(0.164021164021164, 0.45, 'x[1] <= 27.5\\nsquared_error = 0.244\\nsamples = 311\\nvalue = 27.426'),\n",
       " Text(0.15873015873015872, 0.35, 'squared_error = 0.0\\nsamples = 173\\nvalue = 27.0'),\n",
       " Text(0.1693121693121693, 0.35, 'squared_error = 0.0\\nsamples = 138\\nvalue = 28.0'),\n",
       " Text(0.18518518518518517, 0.45, 'x[1] <= 29.5\\nsquared_error = 0.25\\nsamples = 233\\nvalue = 29.485'),\n",
       " Text(0.17989417989417988, 0.35, 'squared_error = 0.0\\nsamples = 117\\nvalue = 29.0'),\n",
       " Text(0.19047619047619047, 0.35, 'squared_error = 0.0\\nsamples = 116\\nvalue = 30.0'),\n",
       " Text(0.21693121693121692, 0.55, 'x[1] <= 32.5\\nsquared_error = 1.202\\nsamples = 418\\nvalue = 32.455'),\n",
       " Text(0.20634920634920634, 0.45, 'x[1] <= 31.5\\nsquared_error = 0.25\\nsamples = 215\\nvalue = 31.479'),\n",
       " Text(0.20105820105820105, 0.35, 'squared_error = 0.0\\nsamples = 108\\nvalue = 31.0'),\n",
       " Text(0.21164021164021163, 0.35, 'squared_error = 0.0\\nsamples = 107\\nvalue = 32.0'),\n",
       " Text(0.2275132275132275, 0.45, 'x[1] <= 33.5\\nsquared_error = 0.245\\nsamples = 203\\nvalue = 33.433'),\n",
       " Text(0.2222222222222222, 0.35, 'squared_error = 0.0\\nsamples = 118\\nvalue = 33.0'),\n",
       " Text(0.2328042328042328, 0.35, 'squared_error = 0.0\\nsamples = 85\\nvalue = 34.0'),\n",
       " Text(0.5749007936507936, 0.85, 'x[1] <= 64.5\\nsquared_error = 328.015\\nsamples = 1270\\nvalue = 50.631'),\n",
       " Text(0.3492063492063492, 0.75, 'x[1] <= 46.5\\nsquared_error = 61.993\\nsamples = 1085\\nvalue = 44.644'),\n",
       " Text(0.2857142857142857, 0.65, 'x[1] <= 40.5\\nsquared_error = 12.83\\nsamples = 706\\nvalue = 39.661'),\n",
       " Text(0.25925925925925924, 0.55, 'x[1] <= 37.5\\nsquared_error = 2.87\\nsamples = 424\\nvalue = 37.086'),\n",
       " Text(0.24867724867724866, 0.45, 'x[1] <= 35.5\\nsquared_error = 0.684\\nsamples = 251\\nvalue = 35.897'),\n",
       " Text(0.24338624338624337, 0.35, 'squared_error = 0.0\\nsamples = 97\\nvalue = 35.0'),\n",
       " Text(0.25396825396825395, 0.35, 'x[1] <= 36.5\\nsquared_error = 0.25\\nsamples = 154\\nvalue = 36.492'),\n",
       " Text(0.24867724867724866, 0.25, 'squared_error = 0.0\\nsamples = 75\\nvalue = 36.0'),\n",
       " Text(0.25925925925925924, 0.25, 'squared_error = 0.0\\nsamples = 79\\nvalue = 37.0'),\n",
       " Text(0.2698412698412698, 0.45, 'x[1] <= 38.5\\nsquared_error = 0.624\\nsamples = 173\\nvalue = 38.945'),\n",
       " Text(0.26455026455026454, 0.35, 'squared_error = 0.0\\nsamples = 60\\nvalue = 38.0'),\n",
       " Text(0.2751322751322751, 0.35, 'x[1] <= 39.5\\nsquared_error = 0.246\\nsamples = 113\\nvalue = 39.435'),\n",
       " Text(0.2698412698412698, 0.25, 'squared_error = 0.0\\nsamples = 66\\nvalue = 39.0'),\n",
       " Text(0.2804232804232804, 0.25, 'squared_error = 0.0\\nsamples = 47\\nvalue = 40.0'),\n",
       " Text(0.31216931216931215, 0.55, 'x[1] <= 43.5\\nsquared_error = 3.075\\nsamples = 282\\nvalue = 43.497'),\n",
       " Text(0.30158730158730157, 0.45, 'x[1] <= 42.5\\nsquared_error = 0.601\\nsamples = 146\\nvalue = 42.013'),\n",
       " Text(0.2962962962962963, 0.35, 'x[1] <= 41.5\\nsquared_error = 0.244\\nsamples = 104\\nvalue = 41.576'),\n",
       " Text(0.291005291005291, 0.25, 'squared_error = 0.0\\nsamples = 45\\nvalue = 41.0'),\n",
       " Text(0.30158730158730157, 0.25, 'squared_error = 0.0\\nsamples = 59\\nvalue = 42.0'),\n",
       " Text(0.30687830687830686, 0.35, 'squared_error = 0.0\\nsamples = 42\\nvalue = 43.0'),\n",
       " Text(0.32275132275132273, 0.45, 'x[1] <= 45.5\\nsquared_error = 0.801\\nsamples = 136\\nvalue = 45.1'),\n",
       " Text(0.31746031746031744, 0.35, 'x[1] <= 44.5\\nsquared_error = 0.227\\nsamples = 80\\nvalue = 44.348'),\n",
       " Text(0.31216931216931215, 0.25, 'squared_error = 0.0\\nsamples = 51\\nvalue = 44.0'),\n",
       " Text(0.32275132275132273, 0.25, 'squared_error = 0.0\\nsamples = 29\\nvalue = 45.0'),\n",
       " Text(0.328042328042328, 0.35, 'squared_error = 0.0\\nsamples = 56\\nvalue = 46.0'),\n",
       " Text(0.4126984126984127, 0.65, 'x[1] <= 54.5\\nsquared_error = 22.687\\nsamples = 379\\nvalue = 53.813'),\n",
       " Text(0.37037037037037035, 0.55, 'x[1] <= 50.5\\nsquared_error = 5.455\\nsamples = 223\\nvalue = 50.309'),\n",
       " Text(0.3492063492063492, 0.45, 'x[1] <= 48.5\\nsquared_error = 1.271\\nsamples = 122\\nvalue = 48.489'),\n",
       " Text(0.3386243386243386, 0.35, 'x[1] <= 47.5\\nsquared_error = 0.249\\nsamples = 65\\nvalue = 47.468'),\n",
       " Text(0.3333333333333333, 0.25, 'squared_error = 0.0\\nsamples = 34\\nvalue = 47.0'),\n",
       " Text(0.3439153439153439, 0.25, 'squared_error = 0.0\\nsamples = 31\\nvalue = 48.0'),\n",
       " Text(0.35978835978835977, 0.35, 'x[1] <= 49.5\\nsquared_error = 0.25\\nsamples = 57\\nvalue = 49.49'),\n",
       " Text(0.3544973544973545, 0.25, 'squared_error = 0.0\\nsamples = 33\\nvalue = 49.0'),\n",
       " Text(0.36507936507936506, 0.25, 'squared_error = 0.0\\nsamples = 24\\nvalue = 50.0'),\n",
       " Text(0.3915343915343915, 0.45, 'x[1] <= 52.5\\nsquared_error = 1.25\\nsamples = 101\\nvalue = 52.613'),\n",
       " Text(0.38095238095238093, 0.35, 'x[1] <= 51.5\\nsquared_error = 0.25\\nsamples = 47\\nvalue = 51.485'),\n",
       " Text(0.37566137566137564, 0.25, 'squared_error = 0.0\\nsamples = 25\\nvalue = 51.0'),\n",
       " Text(0.3862433862433862, 0.25, 'squared_error = 0.0\\nsamples = 22\\nvalue = 52.0'),\n",
       " Text(0.4021164021164021, 0.35, 'x[1] <= 53.5\\nsquared_error = 0.25\\nsamples = 54\\nvalue = 53.5'),\n",
       " Text(0.3968253968253968, 0.25, 'squared_error = 0.0\\nsamples = 27\\nvalue = 53.0'),\n",
       " Text(0.4074074074074074, 0.25, 'squared_error = 0.0\\nsamples = 27\\nvalue = 54.0'),\n",
       " Text(0.455026455026455, 0.55, 'x[1] <= 59.5\\nsquared_error = 7.313\\nsamples = 156\\nvalue = 58.504'),\n",
       " Text(0.43386243386243384, 0.45, 'x[1] <= 57.5\\nsquared_error = 2.142\\nsamples = 103\\nvalue = 56.971'),\n",
       " Text(0.42328042328042326, 0.35, 'x[1] <= 55.5\\nsquared_error = 0.536\\nsamples = 64\\nvalue = 55.925'),\n",
       " Text(0.41798941798941797, 0.25, 'squared_error = 0.0\\nsamples = 23\\nvalue = 55.0'),\n",
       " Text(0.42857142857142855, 0.25, 'x[1] <= 56.5\\nsquared_error = 0.224\\nsamples = 41\\nvalue = 56.338'),\n",
       " Text(0.42328042328042326, 0.15, 'squared_error = 0.0\\nsamples = 26\\nvalue = 56.0'),\n",
       " Text(0.43386243386243384, 0.15, 'squared_error = 0.0\\nsamples = 15\\nvalue = 57.0'),\n",
       " Text(0.4444444444444444, 0.35, 'x[1] <= 58.5\\nsquared_error = 0.236\\nsamples = 39\\nvalue = 58.618'),\n",
       " Text(0.43915343915343913, 0.25, 'squared_error = 0.0\\nsamples = 16\\nvalue = 58.0'),\n",
       " Text(0.4497354497354497, 0.25, 'squared_error = 0.0\\nsamples = 23\\nvalue = 59.0'),\n",
       " Text(0.47619047619047616, 0.45, 'x[1] <= 61.5\\nsquared_error = 2.04\\nsamples = 53\\nvalue = 61.899'),\n",
       " Text(0.4656084656084656, 0.35, 'x[1] <= 60.5\\nsquared_error = 0.241\\nsamples = 21\\nvalue = 60.406'),\n",
       " Text(0.4603174603174603, 0.25, 'squared_error = 0.0\\nsamples = 12\\nvalue = 60.0'),\n",
       " Text(0.4708994708994709, 0.25, 'squared_error = 0.0\\nsamples = 9\\nvalue = 61.0'),\n",
       " Text(0.48677248677248675, 0.35, 'x[1] <= 62.5\\nsquared_error = 0.716\\nsamples = 32\\nvalue = 62.915'),\n",
       " Text(0.48148148148148145, 0.25, 'squared_error = 0.0\\nsamples = 14\\nvalue = 62.0'),\n",
       " Text(0.49206349206349204, 0.25, 'x[1] <= 63.5\\nsquared_error = 0.249\\nsamples = 18\\nvalue = 63.536'),\n",
       " Text(0.48677248677248675, 0.15, 'squared_error = 0.0\\nsamples = 7\\nvalue = 63.0'),\n",
       " Text(0.4973544973544973, 0.15, 'squared_error = 0.0\\nsamples = 11\\nvalue = 64.0'),\n",
       " Text(0.8005952380952381, 0.75, 'x[1] <= 104.0\\nsquared_error = 475.517\\nsamples = 185\\nvalue = 84.753'),\n",
       " Text(0.673941798941799, 0.65, 'x[1] <= 81.5\\nsquared_error = 101.023\\nsamples = 162\\nvalue = 77.142'),\n",
       " Text(0.5873015873015873, 0.55, 'x[1] <= 72.5\\nsquared_error = 22.279\\nsamples = 119\\nvalue = 71.742'),\n",
       " Text(0.544973544973545, 0.45, 'x[1] <= 68.5\\nsquared_error = 5.265\\nsamples = 70\\nvalue = 68.255'),\n",
       " Text(0.5238095238095238, 0.35, 'x[1] <= 66.5\\nsquared_error = 0.963\\nsamples = 38\\nvalue = 66.397'),\n",
       " Text(0.5132275132275133, 0.25, 'x[1] <= 65.5\\nsquared_error = 0.246\\nsamples = 19\\nvalue = 65.567'),\n",
       " Text(0.5079365079365079, 0.15, 'squared_error = 0.0\\nsamples = 7\\nvalue = 65.0'),\n",
       " Text(0.5185185185185185, 0.15, 'squared_error = 0.0\\nsamples = 12\\nvalue = 66.0'),\n",
       " Text(0.5343915343915344, 0.25, 'x[1] <= 67.5\\nsquared_error = 0.204\\nsamples = 19\\nvalue = 67.286'),\n",
       " Text(0.5291005291005291, 0.15, 'squared_error = 0.0\\nsamples = 13\\nvalue = 67.0'),\n",
       " Text(0.5396825396825397, 0.15, 'squared_error = 0.0\\nsamples = 6\\nvalue = 68.0'),\n",
       " Text(0.5661375661375662, 0.35, 'x[1] <= 70.5\\nsquared_error = 1.25\\nsamples = 32\\nvalue = 70.5'),\n",
       " Text(0.5555555555555556, 0.25, 'x[1] <= 69.5\\nsquared_error = 0.25\\nsamples = 16\\nvalue = 69.5'),\n",
       " Text(0.5502645502645502, 0.15, 'squared_error = 0.0\\nsamples = 7\\nvalue = 69.0'),\n",
       " Text(0.5608465608465608, 0.15, 'squared_error = 0.0\\nsamples = 9\\nvalue = 70.0'),\n",
       " Text(0.5767195767195767, 0.25, 'x[1] <= 71.5\\nsquared_error = 0.25\\nsamples = 16\\nvalue = 71.5'),\n",
       " Text(0.5714285714285714, 0.15, 'squared_error = 0.0\\nsamples = 9\\nvalue = 71.0'),\n",
       " Text(0.582010582010582, 0.15, 'squared_error = 0.0\\nsamples = 7\\nvalue = 72.0'),\n",
       " Text(0.6296296296296297, 0.45, 'x[1] <= 77.5\\nsquared_error = 5.397\\nsamples = 49\\nvalue = 76.605'),\n",
       " Text(0.6084656084656085, 0.35, 'x[1] <= 75.5\\nsquared_error = 1.518\\nsamples = 31\\nvalue = 75.176'),\n",
       " Text(0.5978835978835979, 0.25, 'x[1] <= 74.5\\nsquared_error = 0.679\\nsamples = 20\\nvalue = 74.406'),\n",
       " Text(0.5925925925925926, 0.15, 'x[1] <= 73.5\\nsquared_error = 0.243\\nsamples = 8\\nvalue = 73.417'),\n",
       " Text(0.5873015873015873, 0.05, 'squared_error = 0.0\\nsamples = 4\\nvalue = 73.0'),\n",
       " Text(0.5978835978835979, 0.05, 'squared_error = 0.0\\nsamples = 4\\nvalue = 74.0'),\n",
       " Text(0.6031746031746031, 0.15, 'squared_error = 0.0\\nsamples = 12\\nvalue = 75.0'),\n",
       " Text(0.6190476190476191, 0.25, 'x[1] <= 76.5\\nsquared_error = 0.249\\nsamples = 11\\nvalue = 76.474'),\n",
       " Text(0.6137566137566137, 0.15, 'squared_error = 0.0\\nsamples = 6\\nvalue = 76.0'),\n",
       " Text(0.6243386243386243, 0.15, 'squared_error = 0.0\\nsamples = 5\\nvalue = 77.0'),\n",
       " Text(0.6507936507936508, 0.35, 'x[1] <= 79.5\\nsquared_error = 0.65\\nsamples = 18\\nvalue = 79.52'),\n",
       " Text(0.6402116402116402, 0.25, 'x[1] <= 78.5\\nsquared_error = 0.13\\nsamples = 9\\nvalue = 78.846'),\n",
       " Text(0.6349206349206349, 0.15, 'squared_error = 0.0\\nsamples = 2\\nvalue = 78.0'),\n",
       " Text(0.6455026455026455, 0.15, 'squared_error = 0.0\\nsamples = 7\\nvalue = 79.0'),\n",
       " Text(0.6613756613756614, 0.25, 'x[1] <= 80.5\\nsquared_error = 0.188\\nsamples = 9\\nvalue = 80.25'),\n",
       " Text(0.656084656084656, 0.15, 'squared_error = 0.0\\nsamples = 6\\nvalue = 80.0'),\n",
       " Text(0.6666666666666666, 0.15, 'squared_error = 0.0\\nsamples = 3\\nvalue = 81.0'),\n",
       " Text(0.7605820105820106, 0.55, 'x[1] <= 91.5\\nsquared_error = 36.465\\nsamples = 43\\nvalue = 90.986'),\n",
       " Text(0.7142857142857143, 0.45, 'x[1] <= 86.5\\nsquared_error = 7.599\\nsamples = 23\\nvalue = 86.275'),\n",
       " Text(0.6931216931216931, 0.35, 'x[1] <= 84.5\\nsquared_error = 1.622\\nsamples = 11\\nvalue = 84.174'),\n",
       " Text(0.6825396825396826, 0.25, 'x[1] <= 83.5\\nsquared_error = 0.356\\nsamples = 7\\nvalue = 83.333'),\n",
       " Text(0.6772486772486772, 0.15, 'x[1] <= 82.5\\nsquared_error = 0.099\\nsamples = 4\\nvalue = 82.889'),\n",
       " Text(0.671957671957672, 0.05, 'squared_error = 0.0\\nsamples = 1\\nvalue = 82.0'),\n",
       " Text(0.6825396825396826, 0.05, 'squared_error = 0.0\\nsamples = 3\\nvalue = 83.0'),\n",
       " Text(0.6878306878306878, 0.15, 'squared_error = 0.0\\nsamples = 3\\nvalue = 84.0'),\n",
       " Text(0.7037037037037037, 0.25, 'x[1] <= 85.5\\nsquared_error = 0.188\\nsamples = 4\\nvalue = 85.75'),\n",
       " Text(0.6984126984126984, 0.15, 'squared_error = 0.0\\nsamples = 1\\nvalue = 85.0'),\n",
       " Text(0.708994708994709, 0.15, 'squared_error = 0.0\\nsamples = 3\\nvalue = 86.0'),\n",
       " Text(0.7354497354497355, 0.35, 'x[1] <= 88.5\\nsquared_error = 1.633\\nsamples = 12\\nvalue = 89.118'),\n",
       " Text(0.7248677248677249, 0.25, 'x[1] <= 87.5\\nsquared_error = 0.188\\nsamples = 3\\nvalue = 87.25'),\n",
       " Text(0.7195767195767195, 0.15, 'squared_error = 0.0\\nsamples = 2\\nvalue = 87.0'),\n",
       " Text(0.7301587301587301, 0.15, 'squared_error = 0.0\\nsamples = 1\\nvalue = 88.0'),\n",
       " Text(0.746031746031746, 0.25, 'x[1] <= 89.5\\nsquared_error = 0.675\\nsamples = 9\\nvalue = 89.692'),\n",
       " Text(0.7407407407407407, 0.15, 'squared_error = 0.0\\nsamples = 4\\nvalue = 89.0'),\n",
       " Text(0.7513227513227513, 0.15, 'x[1] <= 90.5\\nsquared_error = 0.25\\nsamples = 5\\nvalue = 90.5'),\n",
       " Text(0.746031746031746, 0.05, 'squared_error = 0.0\\nsamples = 2\\nvalue = 90.0'),\n",
       " Text(0.7566137566137566, 0.05, 'squared_error = 0.0\\nsamples = 3\\nvalue = 91.0'),\n",
       " Text(0.8068783068783069, 0.45, 'x[1] <= 97.5\\nsquared_error = 8.125\\nsamples = 20\\nvalue = 97.065'),\n",
       " Text(0.7883597883597884, 0.35, 'x[1] <= 94.5\\nsquared_error = 1.792\\nsamples = 11\\nvalue = 94.824'),\n",
       " Text(0.7777777777777778, 0.25, 'x[1] <= 93.5\\nsquared_error = 0.484\\nsamples = 5\\nvalue = 93.625'),\n",
       " Text(0.7724867724867724, 0.15, 'x[0] <= 23.0\\nsquared_error = 0.25\\nsamples = 2\\nvalue = 92.5'),\n",
       " Text(0.7671957671957672, 0.05, 'squared_error = 0.0\\nsamples = 1\\nvalue = 93.0'),\n",
       " Text(0.7777777777777778, 0.05, 'squared_error = 0.0\\nsamples = 1\\nvalue = 92.0'),\n",
       " Text(0.783068783068783, 0.15, 'squared_error = 0.0\\nsamples = 3\\nvalue = 94.0'),\n",
       " Text(0.798941798941799, 0.25, 'x[1] <= 95.5\\nsquared_error = 0.543\\nsamples = 6\\nvalue = 95.889'),\n",
       " Text(0.7936507936507936, 0.15, 'squared_error = 0.0\\nsamples = 1\\nvalue = 95.0'),\n",
       " Text(0.8042328042328042, 0.15, 'x[1] <= 96.5\\nsquared_error = 0.222\\nsamples = 5\\nvalue = 96.333'),\n",
       " Text(0.798941798941799, 0.05, 'squared_error = 0.0\\nsamples = 3\\nvalue = 96.0'),\n",
       " Text(0.8095238095238095, 0.05, 'squared_error = 0.0\\nsamples = 2\\nvalue = 97.0'),\n",
       " Text(0.8253968253968254, 0.35, 'x[1] <= 99.0\\nsquared_error = 2.311\\nsamples = 9\\nvalue = 99.786'),\n",
       " Text(0.8201058201058201, 0.25, 'squared_error = 0.0\\nsamples = 3\\nvalue = 98.0'),\n",
       " Text(0.8306878306878307, 0.25, 'x[1] <= 102.0\\nsquared_error = 0.84\\nsamples = 6\\nvalue = 100.778'),\n",
       " Text(0.8253968253968254, 0.15, 'x[1] <= 100.5\\nsquared_error = 0.25\\nsamples = 5\\nvalue = 100.5'),\n",
       " Text(0.8201058201058201, 0.05, 'squared_error = 0.0\\nsamples = 3\\nvalue = 100.0'),\n",
       " Text(0.8306878306878307, 0.05, 'squared_error = 0.0\\nsamples = 2\\nvalue = 101.0'),\n",
       " Text(0.8359788359788359, 0.15, 'squared_error = 0.0\\nsamples = 1\\nvalue = 103.0'),\n",
       " Text(0.9272486772486772, 0.65, 'x[1] <= 131.5\\nsquared_error = 332.714\\nsamples = 23\\nvalue = 129.535'),\n",
       " Text(0.8835978835978836, 0.55, 'x[1] <= 114.5\\nsquared_error = 47.959\\nsamples = 12\\nvalue = 113.636'),\n",
       " Text(0.8571428571428571, 0.45, 'x[1] <= 107.5\\nsquared_error = 8.521\\nsamples = 6\\nvalue = 108.25'),\n",
       " Text(0.8465608465608465, 0.35, 'x[0] <= 16.5\\nsquared_error = 0.222\\nsamples = 3\\nvalue = 105.667'),\n",
       " Text(0.8412698412698413, 0.25, 'squared_error = 0.0\\nsamples = 2\\nvalue = 106.0'),\n",
       " Text(0.8518518518518519, 0.25, 'squared_error = 0.0\\nsamples = 1\\nvalue = 105.0'),\n",
       " Text(0.8677248677248677, 0.35, 'x[1] <= 110.5\\nsquared_error = 3.472\\nsamples = 3\\nvalue = 110.833'),\n",
       " Text(0.8624338624338624, 0.25, 'squared_error = 0.0\\nsamples = 1\\nvalue = 109.0'),\n",
       " Text(0.873015873015873, 0.25, 'x[1] <= 112.5\\nsquared_error = 0.222\\nsamples = 2\\nvalue = 112.667'),\n",
       " Text(0.8677248677248677, 0.15, 'squared_error = 0.0\\nsamples = 1\\nvalue = 112.0'),\n",
       " Text(0.8783068783068783, 0.15, 'squared_error = 0.0\\nsamples = 1\\nvalue = 113.0'),\n",
       " Text(0.91005291005291, 0.45, 'x[1] <= 120.5\\nsquared_error = 18.69\\nsamples = 6\\nvalue = 120.1'),\n",
       " Text(0.8994708994708994, 0.35, 'x[1] <= 117.5\\nsquared_error = 0.531\\nsamples = 4\\nvalue = 117.429'),\n",
       " Text(0.8941798941798942, 0.25, 'x[1] <= 116.5\\nsquared_error = 0.222\\nsamples = 2\\nvalue = 116.667'),\n",
       " Text(0.8888888888888888, 0.15, 'squared_error = 0.0\\nsamples = 1\\nvalue = 116.0'),\n",
       " Text(0.8994708994708994, 0.15, 'squared_error = 0.0\\nsamples = 1\\nvalue = 117.0'),\n",
       " Text(0.9047619047619048, 0.25, 'squared_error = 0.0\\nsamples = 2\\nvalue = 118.0'),\n",
       " Text(0.9206349206349206, 0.35, 'x[1] <= 125.5\\nsquared_error = 5.556\\nsamples = 2\\nvalue = 126.333'),\n",
       " Text(0.9153439153439153, 0.25, 'squared_error = 0.0\\nsamples = 1\\nvalue = 123.0'),\n",
       " Text(0.9259259259259259, 0.25, 'squared_error = 0.0\\nsamples = 1\\nvalue = 128.0'),\n",
       " Text(0.9708994708994709, 0.55, 'x[1] <= 148.5\\nsquared_error = 88.821\\nsamples = 11\\nvalue = 146.19'),\n",
       " Text(0.9523809523809523, 0.45, 'x[1] <= 141.5\\nsquared_error = 15.716\\nsamples = 6\\nvalue = 139.769'),\n",
       " Text(0.9417989417989417, 0.35, 'x[0] <= 35.0\\nsquared_error = 1.506\\nsamples = 4\\nvalue = 137.222'),\n",
       " Text(0.9365079365079365, 0.25, 'x[1] <= 137.5\\nsquared_error = 0.122\\nsamples = 3\\nvalue = 137.857'),\n",
       " Text(0.9312169312169312, 0.15, 'squared_error = 0.0\\nsamples = 1\\nvalue = 137.0'),\n",
       " Text(0.9417989417989417, 0.15, 'squared_error = 0.0\\nsamples = 2\\nvalue = 138.0'),\n",
       " Text(0.9470899470899471, 0.25, 'squared_error = 0.0\\nsamples = 1\\nvalue = 135.0'),\n",
       " Text(0.9629629629629629, 0.35, 'x[1] <= 145.5\\nsquared_error = 0.25\\nsamples = 2\\nvalue = 145.5'),\n",
       " Text(0.9576719576719577, 0.25, 'squared_error = 0.0\\nsamples = 1\\nvalue = 145.0'),\n",
       " Text(0.9682539682539683, 0.25, 'squared_error = 0.0\\nsamples = 1\\nvalue = 146.0'),\n",
       " Text(0.9894179894179894, 0.45, 'x[1] <= 164.0\\nsquared_error = 31.734\\nsamples = 5\\nvalue = 156.625'),\n",
       " Text(0.9841269841269841, 0.35, 'x[1] <= 153.0\\nsquared_error = 7.061\\nsamples = 4\\nvalue = 154.714'),\n",
       " Text(0.9788359788359788, 0.25, 'squared_error = 0.0\\nsamples = 1\\nvalue = 151.0'),\n",
       " Text(0.9894179894179894, 0.25, 'x[1] <= 156.5\\nsquared_error = 2.16\\nsamples = 3\\nvalue = 156.2'),\n",
       " Text(0.9841269841269841, 0.15, 'squared_error = 0.0\\nsamples = 2\\nvalue = 155.0'),\n",
       " Text(0.9947089947089947, 0.15, 'squared_error = 0.0\\nsamples = 1\\nvalue = 158.0'),\n",
       " Text(0.9947089947089947, 0.35, 'squared_error = 0.0\\nsamples = 1\\nvalue = 170.0')]"
      ]
     },
     "execution_count": 13,
     "metadata": {},
     "output_type": "execute_result"
    },
    {
     "data": {
      "image/png": "[encoded data removed]",
      "text/plain": [
       "<Figure size 640x480 with 1 Axes>"
      ]
     },
     "metadata": {},
     "output_type": "display_data"
    }
   ],
   "source": [
    "#visualizing the decision tree from the regressor\n",
    "from sklearn import tree\n",
    "tree.plot_tree(regressor.estimators_[0])"
   ]
  },
  {
   "cell_type": "code",
   "execution_count": 14,
   "id": "872ad6af",
   "metadata": {
    "execution": {
     "iopub.execute_input": "2023-05-10T02:15:21.841340Z",
     "iopub.status.busy": "2023-05-10T02:15:21.841224Z",
     "iopub.status.idle": "2023-05-10T02:15:21.990708Z",
     "shell.execute_reply": "2023-05-10T02:15:21.990445Z"
    }
   },
   "outputs": [
    {
     "name": "stdout",
     "output_type": "stream",
     "text": [
      "[15 25 21 ... 21 17 13]\n"
     ]
    }
   ],
   "source": [
    "predictions = regressor.predict(x_test).astype(int)\n",
    "predictions = np.round(predictions,decimals = 0, out = None)\n",
    "print(predictions)"
   ]
  },
  {
   "cell_type": "code",
   "execution_count": 15,
   "id": "93ddddcb",
   "metadata": {
    "execution": {
     "iopub.execute_input": "2023-05-10T02:15:21.992201Z",
     "iopub.status.busy": "2023-05-10T02:15:21.992119Z",
     "iopub.status.idle": "2023-05-10T02:15:21.994272Z",
     "shell.execute_reply": "2023-05-10T02:15:21.993991Z"
    }
   },
   "outputs": [
    {
     "name": "stdout",
     "output_type": "stream",
     "text": [
      "List of Errors: [0 0 0 ... 0 0 0]\n",
      "Mean Absolute Error: 0.0950%\n"
     ]
    }
   ],
   "source": [
    "errors = abs(y_test - predictions)\n",
    "print(f'List of Errors: {errors}')\n",
    "print(f'Mean Absolute Error: {np.mean(errors)*10:.4f}%')"
   ]
  },
  {
   "cell_type": "markdown",
   "id": "438d9e0f",
   "metadata": {},
   "source": [
    "as the mean absolute error is less than 10%, we could take prediction as final outcome."
   ]
  },
  {
   "cell_type": "code",
   "execution_count": 16,
   "id": "c87f6a3b",
   "metadata": {
    "execution": {
     "iopub.execute_input": "2023-05-10T02:15:21.995639Z",
     "iopub.status.busy": "2023-05-10T02:15:21.995555Z",
     "iopub.status.idle": "2023-05-10T02:15:21.999485Z",
     "shell.execute_reply": "2023-05-10T02:15:21.999200Z"
    }
   },
   "outputs": [
    {
     "name": "stdout",
     "output_type": "stream",
     "text": [
      "                                uu_id  total_claims  week_number\n",
      "0    5bf51fc2e162d6faf9e3cf79e4198378            15           44\n",
      "1    420b44cc7e3f55d738df565421e59941            25           44\n",
      "2    e39c66ecceec76ee8f9f811fa4a2d246            21           44\n",
      "3    a90462cd11ae4e43144239bf7c4828a4            20           44\n",
      "4    8b20a6749088c7ff1237983076ebfeaa            26           44\n",
      "..                                ...           ...          ...\n",
      "520  46c4f6c75e663b1ca82ea7994e6d83d3            56           44\n",
      "521  1deebda501712e7595b531b8337bc31a            16           44\n",
      "522  5a9758f65f001b6432ff31ff64a459d7            19           44\n",
      "523  e8b3b95e93a6dc7dbb90f4e72e7ac065            32           44\n",
      "524  932a58530abff8a48558e2a15639d453            35           44\n",
      "\n",
      "[525 rows x 3 columns]\n",
      "Total predicting number of unemployment claims of week 41: 78477\n"
     ]
    }
   ],
   "source": [
    "df = pd.DataFrame(predictions, columns=['total_claims'])\n",
    "week41 = predn.join(df).iloc[:,[0,2,1]]\n",
    "print(week41)\n",
    "print(f'Total predicting number of unemployment claims of week 41: {sum(predictions):.0f}')"
   ]
  },
  {
   "cell_type": "code",
   "execution_count": 17,
   "id": "28c383ed",
   "metadata": {
    "execution": {
     "iopub.execute_input": "2023-05-10T02:15:22.000864Z",
     "iopub.status.busy": "2023-05-10T02:15:22.000779Z",
     "iopub.status.idle": "2023-05-10T02:15:22.003984Z",
     "shell.execute_reply": "2023-05-10T02:15:22.003735Z"
    },
    "lines_to_next_cell": 2
   },
   "outputs": [],
   "source": [
    "csv_data = week41.to_csv(\"submission_prediction_output.csv\",index=False)"
   ]
  }
 ],
 "metadata": {
  "jupytext": {
   "cell_metadata_filter": "-all",
   "main_language": "python",
   "notebook_metadata_filter": "-all"
  },
  "language_info": {
   "codemirror_mode": {
    "name": "ipython",
    "version": 3
   },
   "file_extension": ".py",
   "mimetype": "text/x-python",
   "name": "python",
   "nbconvert_exporter": "python",
   "pygments_lexer": "ipython3",
   "version": "3.9.12"
  }
 },
 "nbformat": 4,
 "nbformat_minor": 5
}
