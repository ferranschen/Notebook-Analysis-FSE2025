{
 "cells": [
  {
   "cell_type": "code",
   "execution_count": 1,
   "id": "3000c00a",
   "metadata": {
    "execution": {
     "iopub.execute_input": "2023-05-10T01:23:50.279122Z",
     "iopub.status.busy": "2023-05-10T01:23:50.278391Z",
     "iopub.status.idle": "2023-05-10T01:23:50.293960Z",
     "shell.execute_reply": "2023-05-10T01:23:50.291062Z"
    }
   },
   "outputs": [],
   "source": [
    "query = \"\"\"\n",
    "SELECT * FROM 'ironhacks-data.ironhacks_competition.unemployment_data'\n",
    "\"\"\""
   ]
  },
  {
   "cell_type": "code",
   "execution_count": 2,
   "id": "8d83aca8",
   "metadata": {
    "execution": {
     "iopub.execute_input": "2023-05-10T01:23:50.299226Z",
     "iopub.status.busy": "2023-05-10T01:23:50.298877Z",
     "iopub.status.idle": "2023-05-10T01:23:50.440205Z",
     "shell.execute_reply": "2023-05-10T01:23:50.429352Z"
    },
    "lines_to_next_cell": 2
   },
   "outputs": [
    {
     "ename": "NameError",
     "evalue": "name 'bigquery_client' is not defined",
     "output_type": "error",
     "traceback": [
      "\u001b[0;31m---------------------------------------------------------------------------\u001b[0m",
      "\u001b[0;31mNameError\u001b[0m                                 Traceback (most recent call last)",
      "Cell \u001b[0;32mIn [2], line 1\u001b[0m\n\u001b[0;32m----> 1\u001b[0m query_job \u001b[38;5;241m=\u001b[39m \u001b[43mbigquery_client\u001b[49m\u001b[38;5;241m.\u001b[39mquery(query)\n\u001b[1;32m      2\u001b[0m data \u001b[38;5;241m=\u001b[39m query_job\u001b[38;5;241m.\u001b[39mto_dataframe()\n\u001b[1;32m      3\u001b[0m data\u001b[38;5;241m.\u001b[39mhead()\n",
      "\u001b[0;31mNameError\u001b[0m: name 'bigquery_client' is not defined"
     ]
    }
   ],
   "source": [
    "query_job = bigquery_client.query(query)\n",
    "data = query_job.to_dataframe()\n",
    "data.head()"
   ]
  }
 ],
 "metadata": {
  "jupytext": {
   "cell_metadata_filter": "-all",
   "main_language": "python",
   "notebook_metadata_filter": "-all"
  },
  "kernelspec": {
   "display_name": "base",
   "language": "python",
   "name": "python3"
  },
  "language_info": {
   "codemirror_mode": {
    "name": "ipython",
    "version": 3
   },
   "file_extension": ".py",
   "mimetype": "text/x-python",
   "name": "python",
   "nbconvert_exporter": "python",
   "pygments_lexer": "ipython3",
   "version": "3.9.12"
  }
 },
 "nbformat": 4,
 "nbformat_minor": 5
}
