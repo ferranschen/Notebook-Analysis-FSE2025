{
 "cells": [
  {
   "cell_type": "code",
   "execution_count": 1,
   "id": "f34d7017",
   "metadata": {
    "execution": {
     "iopub.execute_input": "2023-05-09T21:26:26.612881Z",
     "iopub.status.busy": "2023-05-09T21:26:26.612742Z",
     "iopub.status.idle": "2023-05-09T21:26:26.617877Z",
     "shell.execute_reply": "2023-05-09T21:26:26.617591Z"
    }
   },
   "outputs": [],
   "source": [
    "query = \"\"\"\n",
    "SELECT *\n",
    "FROM `ironhacks-data.ironhacks_competition.prediction_list`\n",
    "\"\"\""
   ]
  },
  {
   "cell_type": "code",
   "execution_count": 2,
   "id": "f4460f27",
   "metadata": {
    "execution": {
     "iopub.execute_input": "2023-05-09T21:26:26.619634Z",
     "iopub.status.busy": "2023-05-09T21:26:26.619499Z",
     "iopub.status.idle": "2023-05-09T21:26:26.697948Z",
     "shell.execute_reply": "2023-05-09T21:26:26.697662Z"
    }
   },
   "outputs": [
    {
     "ename": "NameError",
     "evalue": "name 'bigquery_client' is not defined",
     "output_type": "error",
     "traceback": [
      "\u001b[0;31m---------------------------------------------------------------------------\u001b[0m",
      "\u001b[0;31mNameError\u001b[0m                                 Traceback (most recent call last)",
      "Cell \u001b[0;32mIn [2], line 1\u001b[0m\n\u001b[0;32m----> 1\u001b[0m query_job3 \u001b[38;5;241m=\u001b[39m \u001b[43mbigquery_client\u001b[49m\u001b[38;5;241m.\u001b[39mquery(query)\n\u001b[1;32m      2\u001b[0m test_df \u001b[38;5;241m=\u001b[39m query_job3\u001b[38;5;241m.\u001b[39mto_dataframe()\n\u001b[1;32m      3\u001b[0m \u001b[38;5;66;03m#test_df[\"time\"] = pd.datetime(2022-09-24, format = %Y%m%d)\u001b[39;00m\n",
      "\u001b[0;31mNameError\u001b[0m: name 'bigquery_client' is not defined"
     ]
    }
   ],
   "source": [
    "query_job3 = bigquery_client.query(query)\n",
    "test_df = query_job3.to_dataframe()\n",
    "#test_df[\"time\"] = pd.datetime(2022-09-24, format = %Y%m%d)\n",
    "test_df[\"day\"] = 7\n",
    "test_df[\"month\"]=10"
   ]
  },
  {
   "cell_type": "code",
   "execution_count": 3,
   "id": "8397125a",
   "metadata": {
    "execution": {
     "iopub.execute_input": "2023-05-09T21:26:26.699542Z",
     "iopub.status.busy": "2023-05-09T21:26:26.699436Z",
     "iopub.status.idle": "2023-05-09T21:26:26.705851Z",
     "shell.execute_reply": "2023-05-09T21:26:26.705584Z"
    },
    "lines_to_next_cell": 2
   },
   "outputs": [
    {
     "ename": "NameError",
     "evalue": "name 'test_df' is not defined",
     "output_type": "error",
     "traceback": [
      "\u001b[0;31m---------------------------------------------------------------------------\u001b[0m",
      "\u001b[0;31mNameError\u001b[0m                                 Traceback (most recent call last)",
      "Cell \u001b[0;32mIn [3], line 1\u001b[0m\n\u001b[0;32m----> 1\u001b[0m \u001b[43mtest_df\u001b[49m\u001b[38;5;241m.\u001b[39mdrop_duplicates()\n",
      "\u001b[0;31mNameError\u001b[0m: name 'test_df' is not defined"
     ]
    }
   ],
   "source": [
    "test_df.drop_duplicates()"
   ]
  }
 ],
 "metadata": {
  "jupytext": {
   "cell_metadata_filter": "-all",
   "main_language": "python",
   "notebook_metadata_filter": "-all"
  },
  "kernelspec": {
   "display_name": "base",
   "language": "python",
   "name": "python3"
  },
  "language_info": {
   "codemirror_mode": {
    "name": "ipython",
    "version": 3
   },
   "file_extension": ".py",
   "mimetype": "text/x-python",
   "name": "python",
   "nbconvert_exporter": "python",
   "pygments_lexer": "ipython3",
   "version": "3.9.12"
  }
 },
 "nbformat": 4,
 "nbformat_minor": 5
}
