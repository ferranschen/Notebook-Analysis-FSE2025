{
 "cells": [
  {
   "cell_type": "code",
   "execution_count": 1,
   "id": "c8aff5cf",
   "metadata": {
    "execution": {
     "iopub.execute_input": "2023-05-10T02:21:33.839381Z",
     "iopub.status.busy": "2023-05-10T02:21:33.839062Z",
     "iopub.status.idle": "2023-05-10T02:21:33.853452Z",
     "shell.execute_reply": "2023-05-10T02:21:33.852974Z"
    },
    "lines_to_next_cell": 1
   },
   "outputs": [],
   "source": [
    "get_ipython().run_cell_magic('capture', '', \"%logstop\\n%logstart -t -r -q ipython_command_log.py global\\n#- IRONHACKS RESEARCH TRACKING CODE\\n#----------------------------------\\n# The following code is used to help our research team understand how you \\n# our notebook environment. We do not collect any personal information with\\n# the following code, it is used to measure when and how often you work on\\n# your submission files.\\nimport os\\nfrom datetime import datetime\\nimport IPython.core.history as history\\nha = history.HistoryAccessor()\\nha_tail = ha.get_tail(1)\\nha_cmd = next(ha_tail)\\nsession_id = str(ha_cmd[0])\\ncommand_id = str(ha_cmd[1])\\ntimestamp = datetime.utcnow().isoformat()\\nhistory_line = ','.join([session_id, command_id, timestamp]) + '\\\\n'\\nlogfile = open(os.environ['HOME']+'/ipython_session_log.csv', 'a')\\nlogfile.write(history_line)\\nlogfile.close()\\n\")"
   ]
  },
  {
   "cell_type": "code",
   "execution_count": 2,
   "id": "f3a61a66",
   "metadata": {
    "execution": {
     "iopub.execute_input": "2023-05-10T02:21:33.855961Z",
     "iopub.status.busy": "2023-05-10T02:21:33.855785Z",
     "iopub.status.idle": "2023-05-10T02:21:33.860941Z",
     "shell.execute_reply": "2023-05-10T02:21:33.860526Z"
    },
    "lines_to_next_cell": 1
   },
   "outputs": [],
   "source": [
    "# query all total_claims data and store in raw_total_claims_data dict\n",
    "def query_all_total_claims():\n",
    "    temp_query_list = prediction_list[\"uu_id\"] # the list of uuids to be queried\n",
    "    raw_total_claims_data = {uuid:[] for uuid in temp_query_list} # dict to store all query results\n",
    "    total_week = 37\n",
    "\n",
    "    progress = 0\n",
    "    total = len(temp_query_list)\n",
    "    for uuid in temp_query_list:\n",
    "        progress = progress + 1\n",
    "        print('\\r', \"Querying\", str(progress) + \"/\" + str(total), \"uuid's data...\", end='\\r')\n",
    "        QUERY=\"\"\"\n",
    "        SELECT week_number, total_claims\n",
    "        FROM ironhacks-data.ironhacks_competition.unemployment_data\n",
    "        WHERE uu_id=\"%s\"\n",
    "        ORDER BY week_number\n",
    "        \"\"\"%(uuid)\n",
    "        query_job = bigquery_client.query(QUERY)\n",
    "        res = query_job.to_dataframe().drop_duplicates(ignore_index=True).to_numpy()\n",
    "\n",
    "        # Fill the missing total_claims between week 1 and week 37 with value 0\n",
    "        index = 0\n",
    "        for w in range(1,total_week + 1):\n",
    "            if index == len(res):\n",
    "                raw_total_claims_data[uuid].append({w:0})\n",
    "                continue\n",
    "            if w == res[index][0]:\n",
    "                raw_total_claims_data[uuid].append({w:res[index][1]})\n",
    "                index = index + 1\n",
    "            else:\n",
    "                raw_total_claims_data[uuid].append({w:0})\n",
    "        return raw_total_claims_data"
   ]
  },
  {
   "cell_type": "code",
   "execution_count": 3,
   "id": "f27a78e1",
   "metadata": {
    "execution": {
     "iopub.execute_input": "2023-05-10T02:21:33.862931Z",
     "iopub.status.busy": "2023-05-10T02:21:33.862767Z",
     "iopub.status.idle": "2023-05-10T02:21:33.948546Z",
     "shell.execute_reply": "2023-05-10T02:21:33.948298Z"
    }
   },
   "outputs": [
    {
     "ename": "NameError",
     "evalue": "name 'prediction_list' is not defined",
     "output_type": "error",
     "traceback": [
      "\u001b[0;31m---------------------------------------------------------------------------\u001b[0m",
      "\u001b[0;31mNameError\u001b[0m                                 Traceback (most recent call last)",
      "Cell \u001b[0;32mIn [3], line 2\u001b[0m\n\u001b[1;32m      1\u001b[0m \u001b[38;5;66;03m# commented for only excuting once\u001b[39;00m\n\u001b[0;32m----> 2\u001b[0m raw_total_claims_data \u001b[38;5;241m=\u001b[39m \u001b[43mquery_all_total_claims\u001b[49m\u001b[43m(\u001b[49m\u001b[43m)\u001b[49m\n",
      "Cell \u001b[0;32mIn [2], line 3\u001b[0m, in \u001b[0;36mquery_all_total_claims\u001b[0;34m()\u001b[0m\n\u001b[1;32m      2\u001b[0m \u001b[38;5;28;01mdef\u001b[39;00m \u001b[38;5;21mquery_all_total_claims\u001b[39m():\n\u001b[0;32m----> 3\u001b[0m     temp_query_list \u001b[38;5;241m=\u001b[39m \u001b[43mprediction_list\u001b[49m[\u001b[38;5;124m\"\u001b[39m\u001b[38;5;124muu_id\u001b[39m\u001b[38;5;124m\"\u001b[39m] \u001b[38;5;66;03m# the list of uuids to be queried\u001b[39;00m\n\u001b[1;32m      4\u001b[0m     raw_total_claims_data \u001b[38;5;241m=\u001b[39m {uuid:[] \u001b[38;5;28;01mfor\u001b[39;00m uuid \u001b[38;5;129;01min\u001b[39;00m temp_query_list} \u001b[38;5;66;03m# dict to store all query results\u001b[39;00m\n\u001b[1;32m      5\u001b[0m     total_week \u001b[38;5;241m=\u001b[39m \u001b[38;5;241m37\u001b[39m\n",
      "\u001b[0;31mNameError\u001b[0m: name 'prediction_list' is not defined"
     ]
    }
   ],
   "source": [
    "# commented for only excuting once\n",
    "raw_total_claims_data = query_all_total_claims()"
   ]
  },
  {
   "cell_type": "code",
   "execution_count": 4,
   "id": "e9b82375",
   "metadata": {
    "execution": {
     "iopub.execute_input": "2023-05-10T02:21:33.950128Z",
     "iopub.status.busy": "2023-05-10T02:21:33.950018Z",
     "iopub.status.idle": "2023-05-10T02:21:33.951763Z",
     "shell.execute_reply": "2023-05-10T02:21:33.951536Z"
    }
   },
   "outputs": [],
   "source": [
    "# Query the three provided data tables \n",
    "unemployement_data_query = \"\"\"\n",
    "SELECT *\n",
    "FROM `ironhacks-data.ironhacks_competition.unemployment_data`\n",
    "\"\"\""
   ]
  },
  {
   "cell_type": "code",
   "execution_count": 5,
   "id": "4689181c",
   "metadata": {
    "execution": {
     "iopub.execute_input": "2023-05-10T02:21:33.953138Z",
     "iopub.status.busy": "2023-05-10T02:21:33.953041Z",
     "iopub.status.idle": "2023-05-10T02:21:33.954625Z",
     "shell.execute_reply": "2023-05-10T02:21:33.954408Z"
    }
   },
   "outputs": [],
   "source": [
    "wage_data_query = \"\"\"\n",
    "SELECT *\n",
    "FROM `ironhacks-data.ironhacks_competition.wage_data`\n",
    "\"\"\""
   ]
  },
  {
   "cell_type": "code",
   "execution_count": 6,
   "id": "b4523291",
   "metadata": {
    "execution": {
     "iopub.execute_input": "2023-05-10T02:21:33.955941Z",
     "iopub.status.busy": "2023-05-10T02:21:33.955868Z",
     "iopub.status.idle": "2023-05-10T02:21:33.957320Z",
     "shell.execute_reply": "2023-05-10T02:21:33.957090Z"
    }
   },
   "outputs": [],
   "source": [
    "prediction_list_query = \"\"\"\n",
    "SELECT *\n",
    "FROM `ironhacks-data.ironhacks_competition.prediction_list`\n",
    "\"\"\""
   ]
  },
  {
   "cell_type": "code",
   "execution_count": 7,
   "id": "761791aa",
   "metadata": {
    "execution": {
     "iopub.execute_input": "2023-05-10T02:21:33.958647Z",
     "iopub.status.busy": "2023-05-10T02:21:33.958572Z",
     "iopub.status.idle": "2023-05-10T02:21:33.965850Z",
     "shell.execute_reply": "2023-05-10T02:21:33.965612Z"
    }
   },
   "outputs": [
    {
     "ename": "NameError",
     "evalue": "name 'bigquery_client' is not defined",
     "output_type": "error",
     "traceback": [
      "\u001b[0;31m---------------------------------------------------------------------------\u001b[0m",
      "\u001b[0;31mNameError\u001b[0m                                 Traceback (most recent call last)",
      "Cell \u001b[0;32mIn [7], line 2\u001b[0m\n\u001b[1;32m      1\u001b[0m \u001b[38;5;66;03m# QUERY THE DATA ONCE\u001b[39;00m\n\u001b[0;32m----> 2\u001b[0m ud_query_job \u001b[38;5;241m=\u001b[39m \u001b[43mbigquery_client\u001b[49m\u001b[38;5;241m.\u001b[39mquery(unemployement_data_query)\n\u001b[1;32m      3\u001b[0m wd_query_job \u001b[38;5;241m=\u001b[39m bigquery_client\u001b[38;5;241m.\u001b[39mquery(wage_data_query)\n\u001b[1;32m      4\u001b[0m pl_query_job \u001b[38;5;241m=\u001b[39m bigquery_client\u001b[38;5;241m.\u001b[39mquery(prediction_list_query)\n",
      "\u001b[0;31mNameError\u001b[0m: name 'bigquery_client' is not defined"
     ]
    }
   ],
   "source": [
    "# QUERY THE DATA ONCE\n",
    "ud_query_job = bigquery_client.query(unemployement_data_query)\n",
    "wd_query_job = bigquery_client.query(wage_data_query)\n",
    "pl_query_job = bigquery_client.query(prediction_list_query)"
   ]
  },
  {
   "cell_type": "code",
   "execution_count": 8,
   "id": "2d20d64d",
   "metadata": {
    "execution": {
     "iopub.execute_input": "2023-05-10T02:21:33.967288Z",
     "iopub.status.busy": "2023-05-10T02:21:33.967183Z",
     "iopub.status.idle": "2023-05-10T02:21:33.974063Z",
     "shell.execute_reply": "2023-05-10T02:21:33.973829Z"
    }
   },
   "outputs": [
    {
     "ename": "NameError",
     "evalue": "name 'ud_query_job' is not defined",
     "output_type": "error",
     "traceback": [
      "\u001b[0;31m---------------------------------------------------------------------------\u001b[0m",
      "\u001b[0;31mNameError\u001b[0m                                 Traceback (most recent call last)",
      "Cell \u001b[0;32mIn [8], line 1\u001b[0m\n\u001b[0;32m----> 1\u001b[0m unemployement_data \u001b[38;5;241m=\u001b[39m \u001b[43mud_query_job\u001b[49m\u001b[38;5;241m.\u001b[39mto_dataframe()\n\u001b[1;32m      2\u001b[0m wage_data \u001b[38;5;241m=\u001b[39m wd_query_job\u001b[38;5;241m.\u001b[39mto_dataframe()\n\u001b[1;32m      3\u001b[0m prediction_list \u001b[38;5;241m=\u001b[39m pl_query_job\u001b[38;5;241m.\u001b[39mto_dataframe()\n",
      "\u001b[0;31mNameError\u001b[0m: name 'ud_query_job' is not defined"
     ]
    }
   ],
   "source": [
    "unemployement_data = ud_query_job.to_dataframe()\n",
    "wage_data = wd_query_job.to_dataframe()\n",
    "prediction_list = pl_query_job.to_dataframe()"
   ]
  },
  {
   "cell_type": "code",
   "execution_count": 9,
   "id": "f542497e",
   "metadata": {
    "execution": {
     "iopub.execute_input": "2023-05-10T02:21:33.975510Z",
     "iopub.status.busy": "2023-05-10T02:21:33.975429Z",
     "iopub.status.idle": "2023-05-10T02:21:33.981022Z",
     "shell.execute_reply": "2023-05-10T02:21:33.980695Z"
    }
   },
   "outputs": [],
   "source": [
    "get_ipython().run_cell_magic('capture', '', \"%logstop\\n%logstart -t -r -q ipython_command_log.py global\\n#- IRONHACKS RESEARCH TRACKING CODE\\n#----------------------------------\\n# The following code is used to help our research team understand how you \\n# our notebook environment. We do not collect any personal information with\\n# the following code, it is used to measure when and how often you work on\\n# your submission files.\\nimport os\\nfrom datetime import datetime\\nimport IPython.core.history as history\\nha = history.HistoryAccessor()\\nha_tail = ha.get_tail(1)\\nha_cmd = next(ha_tail)\\nsession_id = str(ha_cmd[0])\\ncommand_id = str(ha_cmd[1])\\ntimestamp = datetime.utcnow().isoformat()\\nhistory_line = ','.join([session_id, command_id, timestamp]) + '\\\\n'\\nlogfile = open(os.environ['HOME']+'/ipython_session_log.csv', 'a')\\nlogfile.write(history_line)\\nlogfile.close()\\n\")"
   ]
  },
  {
   "cell_type": "code",
   "execution_count": 10,
   "id": "23596b07",
   "metadata": {
    "execution": {
     "iopub.execute_input": "2023-05-10T02:21:33.982862Z",
     "iopub.status.busy": "2023-05-10T02:21:33.982718Z",
     "iopub.status.idle": "2023-05-10T02:21:35.189054Z",
     "shell.execute_reply": "2023-05-10T02:21:35.188365Z"
    }
   },
   "outputs": [],
   "source": [
    "get_ipython().run_cell_magic('capture', '--no-display', '!pip3 install db-dtypes\\n')"
   ]
  },
  {
   "cell_type": "code",
   "execution_count": 11,
   "id": "834ab1a2",
   "metadata": {
    "execution": {
     "iopub.execute_input": "2023-05-10T02:21:35.191994Z",
     "iopub.status.busy": "2023-05-10T02:21:35.191758Z",
     "iopub.status.idle": "2023-05-10T02:21:35.747157Z",
     "shell.execute_reply": "2023-05-10T02:21:35.746579Z"
    }
   },
   "outputs": [],
   "source": [
    "import os\n",
    "import pandas as pd\n",
    "import numpy as np\n",
    "import matplotlib.pyplot as plt\n",
    "import warnings\n",
    "warnings.filterwarnings('ignore')"
   ]
  },
  {
   "cell_type": "code",
   "execution_count": 12,
   "id": "249a6532",
   "metadata": {
    "execution": {
     "iopub.execute_input": "2023-05-10T02:21:35.749042Z",
     "iopub.status.busy": "2023-05-10T02:21:35.748870Z",
     "iopub.status.idle": "2023-05-10T02:21:35.891329Z",
     "shell.execute_reply": "2023-05-10T02:21:35.891008Z"
    }
   },
   "outputs": [],
   "source": [
    "from google.cloud import bigquery\n",
    "from google.oauth2 import service_account\n",
    "from google.cloud.bigquery import magics"
   ]
  },
  {
   "cell_type": "code",
   "execution_count": 13,
   "id": "66156ef0",
   "metadata": {
    "execution": {
     "iopub.execute_input": "2023-05-10T02:21:35.893117Z",
     "iopub.status.busy": "2023-05-10T02:21:35.892932Z",
     "iopub.status.idle": "2023-05-10T02:21:36.019944Z",
     "shell.execute_reply": "2023-05-10T02:21:36.019620Z"
    }
   },
   "outputs": [
    {
     "ename": "DefaultCredentialsError",
     "evalue": "File key.json was not found.",
     "output_type": "error",
     "traceback": [
      "\u001b[0;31m---------------------------------------------------------------------------\u001b[0m",
      "\u001b[0;31mDefaultCredentialsError\u001b[0m                   Traceback (most recent call last)",
      "Cell \u001b[0;32mIn [13], line 3\u001b[0m\n\u001b[1;32m      1\u001b[0m \u001b[38;5;66;03m# Google Credential\u001b[39;00m\n\u001b[1;32m      2\u001b[0m os\u001b[38;5;241m.\u001b[39menviron[\u001b[38;5;124m'\u001b[39m\u001b[38;5;124mGOOGLE_APPLICATION_CREDENTIALS\u001b[39m\u001b[38;5;124m'\u001b[39m] \u001b[38;5;241m=\u001b[39m\u001b[38;5;124m'\u001b[39m\u001b[38;5;124mkey.json\u001b[39m\u001b[38;5;124m'\u001b[39m\n\u001b[0;32m----> 3\u001b[0m bigquery_client \u001b[38;5;241m=\u001b[39m \u001b[43mbigquery\u001b[49m\u001b[38;5;241;43m.\u001b[39;49m\u001b[43mClient\u001b[49m\u001b[43m(\u001b[49m\u001b[43mproject\u001b[49m\u001b[38;5;241;43m=\u001b[39;49m\u001b[38;5;124;43m'\u001b[39;49m\u001b[38;5;124;43mironhacks-data\u001b[39;49m\u001b[38;5;124;43m'\u001b[39;49m\u001b[43m)\u001b[49m\n",
      "File \u001b[0;32m/opt/homebrew/lib/python3.9/site-packages/google/cloud/bigquery/client.py:244\u001b[0m, in \u001b[0;36mClient.__init__\u001b[0;34m(self, project, credentials, _http, location, default_query_job_config, client_info, client_options)\u001b[0m\n\u001b[1;32m    234\u001b[0m \u001b[38;5;28;01mdef\u001b[39;00m \u001b[38;5;21m__init__\u001b[39m(\n\u001b[1;32m    235\u001b[0m     \u001b[38;5;28mself\u001b[39m,\n\u001b[1;32m    236\u001b[0m     project\u001b[38;5;241m=\u001b[39m\u001b[38;5;28;01mNone\u001b[39;00m,\n\u001b[0;32m   (...)\u001b[0m\n\u001b[1;32m    242\u001b[0m     client_options\u001b[38;5;241m=\u001b[39m\u001b[38;5;28;01mNone\u001b[39;00m,\n\u001b[1;32m    243\u001b[0m ) \u001b[38;5;241m-\u001b[39m\u001b[38;5;241m>\u001b[39m \u001b[38;5;28;01mNone\u001b[39;00m:\n\u001b[0;32m--> 244\u001b[0m     \u001b[38;5;28;43msuper\u001b[39;49m\u001b[43m(\u001b[49m\u001b[43mClient\u001b[49m\u001b[43m,\u001b[49m\u001b[43m \u001b[49m\u001b[38;5;28;43mself\u001b[39;49m\u001b[43m)\u001b[49m\u001b[38;5;241;43m.\u001b[39;49m\u001b[38;5;21;43m__init__\u001b[39;49m\u001b[43m(\u001b[49m\n\u001b[1;32m    245\u001b[0m \u001b[43m        \u001b[49m\u001b[43mproject\u001b[49m\u001b[38;5;241;43m=\u001b[39;49m\u001b[43mproject\u001b[49m\u001b[43m,\u001b[49m\n\u001b[1;32m    246\u001b[0m \u001b[43m        \u001b[49m\u001b[43mcredentials\u001b[49m\u001b[38;5;241;43m=\u001b[39;49m\u001b[43mcredentials\u001b[49m\u001b[43m,\u001b[49m\n\u001b[1;32m    247\u001b[0m \u001b[43m        \u001b[49m\u001b[43mclient_options\u001b[49m\u001b[38;5;241;43m=\u001b[39;49m\u001b[43mclient_options\u001b[49m\u001b[43m,\u001b[49m\n\u001b[1;32m    248\u001b[0m \u001b[43m        \u001b[49m\u001b[43m_http\u001b[49m\u001b[38;5;241;43m=\u001b[39;49m\u001b[43m_http\u001b[49m\u001b[43m,\u001b[49m\n\u001b[1;32m    249\u001b[0m \u001b[43m    \u001b[49m\u001b[43m)\u001b[49m\n\u001b[1;32m    251\u001b[0m     kw_args \u001b[38;5;241m=\u001b[39m {\u001b[38;5;124m\"\u001b[39m\u001b[38;5;124mclient_info\u001b[39m\u001b[38;5;124m\"\u001b[39m: client_info}\n\u001b[1;32m    252\u001b[0m     bq_host \u001b[38;5;241m=\u001b[39m _get_bigquery_host()\n",
      "File \u001b[0;32m/opt/homebrew/lib/python3.9/site-packages/google/cloud/client/__init__.py:321\u001b[0m, in \u001b[0;36mClientWithProject.__init__\u001b[0;34m(self, project, credentials, client_options, _http)\u001b[0m\n\u001b[1;32m    319\u001b[0m \u001b[38;5;28;01mdef\u001b[39;00m \u001b[38;5;21m__init__\u001b[39m(\u001b[38;5;28mself\u001b[39m, project\u001b[38;5;241m=\u001b[39m\u001b[38;5;28;01mNone\u001b[39;00m, credentials\u001b[38;5;241m=\u001b[39m\u001b[38;5;28;01mNone\u001b[39;00m, client_options\u001b[38;5;241m=\u001b[39m\u001b[38;5;28;01mNone\u001b[39;00m, _http\u001b[38;5;241m=\u001b[39m\u001b[38;5;28;01mNone\u001b[39;00m):\n\u001b[1;32m    320\u001b[0m     _ClientProjectMixin\u001b[38;5;241m.\u001b[39m\u001b[38;5;21m__init__\u001b[39m(\u001b[38;5;28mself\u001b[39m, project\u001b[38;5;241m=\u001b[39mproject, credentials\u001b[38;5;241m=\u001b[39mcredentials)\n\u001b[0;32m--> 321\u001b[0m     \u001b[43mClient\u001b[49m\u001b[38;5;241;43m.\u001b[39;49m\u001b[38;5;21;43m__init__\u001b[39;49m\u001b[43m(\u001b[49m\n\u001b[1;32m    322\u001b[0m \u001b[43m        \u001b[49m\u001b[38;5;28;43mself\u001b[39;49m\u001b[43m,\u001b[49m\u001b[43m \u001b[49m\u001b[43mcredentials\u001b[49m\u001b[38;5;241;43m=\u001b[39;49m\u001b[43mcredentials\u001b[49m\u001b[43m,\u001b[49m\u001b[43m \u001b[49m\u001b[43mclient_options\u001b[49m\u001b[38;5;241;43m=\u001b[39;49m\u001b[43mclient_options\u001b[49m\u001b[43m,\u001b[49m\u001b[43m \u001b[49m\u001b[43m_http\u001b[49m\u001b[38;5;241;43m=\u001b[39;49m\u001b[43m_http\u001b[49m\n\u001b[1;32m    323\u001b[0m \u001b[43m    \u001b[49m\u001b[43m)\u001b[49m\n",
      "File \u001b[0;32m/opt/homebrew/lib/python3.9/site-packages/google/cloud/client/__init__.py:178\u001b[0m, in \u001b[0;36mClient.__init__\u001b[0;34m(self, credentials, _http, client_options)\u001b[0m\n\u001b[1;32m    174\u001b[0m         credentials, _ \u001b[38;5;241m=\u001b[39m google\u001b[38;5;241m.\u001b[39mauth\u001b[38;5;241m.\u001b[39mload_credentials_from_file(\n\u001b[1;32m    175\u001b[0m             client_options\u001b[38;5;241m.\u001b[39mcredentials_file, scopes\u001b[38;5;241m=\u001b[39mscopes\n\u001b[1;32m    176\u001b[0m         )\n\u001b[1;32m    177\u001b[0m     \u001b[38;5;28;01melse\u001b[39;00m:\n\u001b[0;32m--> 178\u001b[0m         credentials, _ \u001b[38;5;241m=\u001b[39m \u001b[43mgoogle\u001b[49m\u001b[38;5;241;43m.\u001b[39;49m\u001b[43mauth\u001b[49m\u001b[38;5;241;43m.\u001b[39;49m\u001b[43mdefault\u001b[49m\u001b[43m(\u001b[49m\u001b[43mscopes\u001b[49m\u001b[38;5;241;43m=\u001b[39;49m\u001b[43mscopes\u001b[49m\u001b[43m)\u001b[49m\n\u001b[1;32m    180\u001b[0m \u001b[38;5;28mself\u001b[39m\u001b[38;5;241m.\u001b[39m_credentials \u001b[38;5;241m=\u001b[39m google\u001b[38;5;241m.\u001b[39mauth\u001b[38;5;241m.\u001b[39mcredentials\u001b[38;5;241m.\u001b[39mwith_scopes_if_required(\n\u001b[1;32m    181\u001b[0m     credentials, scopes\u001b[38;5;241m=\u001b[39mscopes\n\u001b[1;32m    182\u001b[0m )\n\u001b[1;32m    184\u001b[0m \u001b[38;5;28;01mif\u001b[39;00m client_options\u001b[38;5;241m.\u001b[39mquota_project_id:\n",
      "File \u001b[0;32m/opt/homebrew/lib/python3.9/site-packages/google/auth/_default.py:620\u001b[0m, in \u001b[0;36mdefault\u001b[0;34m(scopes, request, quota_project_id, default_scopes)\u001b[0m\n\u001b[1;32m    608\u001b[0m checkers \u001b[38;5;241m=\u001b[39m (\n\u001b[1;32m    609\u001b[0m     \u001b[38;5;66;03m# Avoid passing scopes here to prevent passing scopes to user credentials.\u001b[39;00m\n\u001b[1;32m    610\u001b[0m     \u001b[38;5;66;03m# with_scopes_if_required() below will ensure scopes/default scopes are\u001b[39;00m\n\u001b[0;32m   (...)\u001b[0m\n\u001b[1;32m    616\u001b[0m     \u001b[38;5;28;01mlambda\u001b[39;00m: _get_gce_credentials(request, quota_project_id\u001b[38;5;241m=\u001b[39mquota_project_id),\n\u001b[1;32m    617\u001b[0m )\n\u001b[1;32m    619\u001b[0m \u001b[38;5;28;01mfor\u001b[39;00m checker \u001b[38;5;129;01min\u001b[39;00m checkers:\n\u001b[0;32m--> 620\u001b[0m     credentials, project_id \u001b[38;5;241m=\u001b[39m \u001b[43mchecker\u001b[49m\u001b[43m(\u001b[49m\u001b[43m)\u001b[49m\n\u001b[1;32m    621\u001b[0m     \u001b[38;5;28;01mif\u001b[39;00m credentials \u001b[38;5;129;01mis\u001b[39;00m \u001b[38;5;129;01mnot\u001b[39;00m \u001b[38;5;28;01mNone\u001b[39;00m:\n\u001b[1;32m    622\u001b[0m         credentials \u001b[38;5;241m=\u001b[39m with_scopes_if_required(\n\u001b[1;32m    623\u001b[0m             credentials, scopes, default_scopes\u001b[38;5;241m=\u001b[39mdefault_scopes\n\u001b[1;32m    624\u001b[0m         )\n",
      "File \u001b[0;32m/opt/homebrew/lib/python3.9/site-packages/google/auth/_default.py:613\u001b[0m, in \u001b[0;36mdefault.<locals>.<lambda>\u001b[0;34m()\u001b[0m\n\u001b[1;32m    602\u001b[0m \u001b[38;5;28;01mfrom\u001b[39;00m \u001b[38;5;21;01mgoogle\u001b[39;00m\u001b[38;5;21;01m.\u001b[39;00m\u001b[38;5;21;01mauth\u001b[39;00m\u001b[38;5;21;01m.\u001b[39;00m\u001b[38;5;21;01mcredentials\u001b[39;00m \u001b[38;5;28;01mimport\u001b[39;00m CredentialsWithQuotaProject\n\u001b[1;32m    604\u001b[0m explicit_project_id \u001b[38;5;241m=\u001b[39m os\u001b[38;5;241m.\u001b[39menviron\u001b[38;5;241m.\u001b[39mget(\n\u001b[1;32m    605\u001b[0m     environment_vars\u001b[38;5;241m.\u001b[39mPROJECT, os\u001b[38;5;241m.\u001b[39menviron\u001b[38;5;241m.\u001b[39mget(environment_vars\u001b[38;5;241m.\u001b[39mLEGACY_PROJECT)\n\u001b[1;32m    606\u001b[0m )\n\u001b[1;32m    608\u001b[0m checkers \u001b[38;5;241m=\u001b[39m (\n\u001b[1;32m    609\u001b[0m     \u001b[38;5;66;03m# Avoid passing scopes here to prevent passing scopes to user credentials.\u001b[39;00m\n\u001b[1;32m    610\u001b[0m     \u001b[38;5;66;03m# with_scopes_if_required() below will ensure scopes/default scopes are\u001b[39;00m\n\u001b[1;32m    611\u001b[0m     \u001b[38;5;66;03m# safely set on the returned credentials since requires_scopes will\u001b[39;00m\n\u001b[1;32m    612\u001b[0m     \u001b[38;5;66;03m# guard against setting scopes on user credentials.\u001b[39;00m\n\u001b[0;32m--> 613\u001b[0m     \u001b[38;5;28;01mlambda\u001b[39;00m: \u001b[43m_get_explicit_environ_credentials\u001b[49m\u001b[43m(\u001b[49m\u001b[43mquota_project_id\u001b[49m\u001b[38;5;241;43m=\u001b[39;49m\u001b[43mquota_project_id\u001b[49m\u001b[43m)\u001b[49m,\n\u001b[1;32m    614\u001b[0m     \u001b[38;5;28;01mlambda\u001b[39;00m: _get_gcloud_sdk_credentials(quota_project_id\u001b[38;5;241m=\u001b[39mquota_project_id),\n\u001b[1;32m    615\u001b[0m     _get_gae_credentials,\n\u001b[1;32m    616\u001b[0m     \u001b[38;5;28;01mlambda\u001b[39;00m: _get_gce_credentials(request, quota_project_id\u001b[38;5;241m=\u001b[39mquota_project_id),\n\u001b[1;32m    617\u001b[0m )\n\u001b[1;32m    619\u001b[0m \u001b[38;5;28;01mfor\u001b[39;00m checker \u001b[38;5;129;01min\u001b[39;00m checkers:\n\u001b[1;32m    620\u001b[0m     credentials, project_id \u001b[38;5;241m=\u001b[39m checker()\n",
      "File \u001b[0;32m/opt/homebrew/lib/python3.9/site-packages/google/auth/_default.py:233\u001b[0m, in \u001b[0;36m_get_explicit_environ_credentials\u001b[0;34m(quota_project_id)\u001b[0m\n\u001b[1;32m    230\u001b[0m     \u001b[38;5;28;01mreturn\u001b[39;00m _get_gcloud_sdk_credentials(quota_project_id\u001b[38;5;241m=\u001b[39mquota_project_id)\n\u001b[1;32m    232\u001b[0m \u001b[38;5;28;01mif\u001b[39;00m explicit_file \u001b[38;5;129;01mis\u001b[39;00m \u001b[38;5;129;01mnot\u001b[39;00m \u001b[38;5;28;01mNone\u001b[39;00m:\n\u001b[0;32m--> 233\u001b[0m     credentials, project_id \u001b[38;5;241m=\u001b[39m \u001b[43mload_credentials_from_file\u001b[49m\u001b[43m(\u001b[49m\n\u001b[1;32m    234\u001b[0m \u001b[43m        \u001b[49m\u001b[43mos\u001b[49m\u001b[38;5;241;43m.\u001b[39;49m\u001b[43menviron\u001b[49m\u001b[43m[\u001b[49m\u001b[43menvironment_vars\u001b[49m\u001b[38;5;241;43m.\u001b[39;49m\u001b[43mCREDENTIALS\u001b[49m\u001b[43m]\u001b[49m\u001b[43m,\u001b[49m\u001b[43m \u001b[49m\u001b[43mquota_project_id\u001b[49m\u001b[38;5;241;43m=\u001b[39;49m\u001b[43mquota_project_id\u001b[49m\n\u001b[1;32m    235\u001b[0m \u001b[43m    \u001b[49m\u001b[43m)\u001b[49m\n\u001b[1;32m    237\u001b[0m     \u001b[38;5;28;01mreturn\u001b[39;00m credentials, project_id\n\u001b[1;32m    239\u001b[0m \u001b[38;5;28;01melse\u001b[39;00m:\n",
      "File \u001b[0;32m/opt/homebrew/lib/python3.9/site-packages/google/auth/_default.py:121\u001b[0m, in \u001b[0;36mload_credentials_from_file\u001b[0;34m(filename, scopes, default_scopes, quota_project_id, request)\u001b[0m\n\u001b[1;32m     89\u001b[0m \u001b[38;5;124;03m\"\"\"Loads Google credentials from a file.\u001b[39;00m\n\u001b[1;32m     90\u001b[0m \n\u001b[1;32m     91\u001b[0m \u001b[38;5;124;03mThe credentials file must be a service account key, stored authorized\u001b[39;00m\n\u001b[0;32m   (...)\u001b[0m\n\u001b[1;32m    118\u001b[0m \u001b[38;5;124;03m        wrong format or is missing.\u001b[39;00m\n\u001b[1;32m    119\u001b[0m \u001b[38;5;124;03m\"\"\"\u001b[39;00m\n\u001b[1;32m    120\u001b[0m \u001b[38;5;28;01mif\u001b[39;00m \u001b[38;5;129;01mnot\u001b[39;00m os\u001b[38;5;241m.\u001b[39mpath\u001b[38;5;241m.\u001b[39mexists(filename):\n\u001b[0;32m--> 121\u001b[0m     \u001b[38;5;28;01mraise\u001b[39;00m exceptions\u001b[38;5;241m.\u001b[39mDefaultCredentialsError(\n\u001b[1;32m    122\u001b[0m         \u001b[38;5;124m\"\u001b[39m\u001b[38;5;124mFile \u001b[39m\u001b[38;5;132;01m{}\u001b[39;00m\u001b[38;5;124m was not found.\u001b[39m\u001b[38;5;124m\"\u001b[39m\u001b[38;5;241m.\u001b[39mformat(filename)\n\u001b[1;32m    123\u001b[0m     )\n\u001b[1;32m    125\u001b[0m \u001b[38;5;28;01mwith\u001b[39;00m io\u001b[38;5;241m.\u001b[39mopen(filename, \u001b[38;5;124m\"\u001b[39m\u001b[38;5;124mr\u001b[39m\u001b[38;5;124m\"\u001b[39m) \u001b[38;5;28;01mas\u001b[39;00m file_obj:\n\u001b[1;32m    126\u001b[0m     \u001b[38;5;28;01mtry\u001b[39;00m:\n",
      "\u001b[0;31mDefaultCredentialsError\u001b[0m: File key.json was not found."
     ]
    }
   ],
   "source": [
    "# Google Credential\n",
    "os.environ['GOOGLE_APPLICATION_CREDENTIALS'] ='key.json'\n",
    "bigquery_client = bigquery.Client(project='ironhacks-data')"
   ]
  },
  {
   "cell_type": "code",
   "execution_count": 14,
   "id": "6a168280",
   "metadata": {
    "execution": {
     "iopub.execute_input": "2023-05-10T02:21:36.021569Z",
     "iopub.status.busy": "2023-05-10T02:21:36.021462Z",
     "iopub.status.idle": "2023-05-10T02:21:36.023205Z",
     "shell.execute_reply": "2023-05-10T02:21:36.022924Z"
    }
   },
   "outputs": [],
   "source": [
    "# Query the three provided data tables \n",
    "unemployement_data_query = \"\"\"\n",
    "SELECT *\n",
    "FROM `ironhacks-data.ironhacks_competition.unemployment_data`\n",
    "\"\"\""
   ]
  },
  {
   "cell_type": "code",
   "execution_count": 15,
   "id": "1abf08d3",
   "metadata": {
    "execution": {
     "iopub.execute_input": "2023-05-10T02:21:36.024817Z",
     "iopub.status.busy": "2023-05-10T02:21:36.024707Z",
     "iopub.status.idle": "2023-05-10T02:21:36.026422Z",
     "shell.execute_reply": "2023-05-10T02:21:36.026169Z"
    }
   },
   "outputs": [],
   "source": [
    "wage_data_query = \"\"\"\n",
    "SELECT *\n",
    "FROM `ironhacks-data.ironhacks_competition.wage_data`\n",
    "\"\"\""
   ]
  },
  {
   "cell_type": "code",
   "execution_count": 16,
   "id": "e7d1463a",
   "metadata": {
    "execution": {
     "iopub.execute_input": "2023-05-10T02:21:36.027826Z",
     "iopub.status.busy": "2023-05-10T02:21:36.027729Z",
     "iopub.status.idle": "2023-05-10T02:21:36.029309Z",
     "shell.execute_reply": "2023-05-10T02:21:36.029091Z"
    }
   },
   "outputs": [],
   "source": [
    "prediction_list_query = \"\"\"\n",
    "SELECT *\n",
    "FROM `ironhacks-data.ironhacks_competition.prediction_list`\n",
    "\"\"\""
   ]
  },
  {
   "cell_type": "code",
   "execution_count": 17,
   "id": "6b91b7fb",
   "metadata": {
    "execution": {
     "iopub.execute_input": "2023-05-10T02:21:36.030691Z",
     "iopub.status.busy": "2023-05-10T02:21:36.030608Z",
     "iopub.status.idle": "2023-05-10T02:21:36.037683Z",
     "shell.execute_reply": "2023-05-10T02:21:36.037437Z"
    }
   },
   "outputs": [
    {
     "ename": "NameError",
     "evalue": "name 'bigquery_client' is not defined",
     "output_type": "error",
     "traceback": [
      "\u001b[0;31m---------------------------------------------------------------------------\u001b[0m",
      "\u001b[0;31mNameError\u001b[0m                                 Traceback (most recent call last)",
      "Cell \u001b[0;32mIn [17], line 2\u001b[0m\n\u001b[1;32m      1\u001b[0m \u001b[38;5;66;03m# QUERY THE DATA ONCE\u001b[39;00m\n\u001b[0;32m----> 2\u001b[0m ud_query_job \u001b[38;5;241m=\u001b[39m \u001b[43mbigquery_client\u001b[49m\u001b[38;5;241m.\u001b[39mquery(unemployement_data_query)\n\u001b[1;32m      3\u001b[0m wd_query_job \u001b[38;5;241m=\u001b[39m bigquery_client\u001b[38;5;241m.\u001b[39mquery(wage_data_query)\n\u001b[1;32m      4\u001b[0m pl_query_job \u001b[38;5;241m=\u001b[39m bigquery_client\u001b[38;5;241m.\u001b[39mquery(prediction_list_query)\n",
      "\u001b[0;31mNameError\u001b[0m: name 'bigquery_client' is not defined"
     ]
    }
   ],
   "source": [
    "# QUERY THE DATA ONCE\n",
    "ud_query_job = bigquery_client.query(unemployement_data_query)\n",
    "wd_query_job = bigquery_client.query(wage_data_query)\n",
    "pl_query_job = bigquery_client.query(prediction_list_query)"
   ]
  },
  {
   "cell_type": "code",
   "execution_count": 18,
   "id": "81f00665",
   "metadata": {
    "execution": {
     "iopub.execute_input": "2023-05-10T02:21:36.039105Z",
     "iopub.status.busy": "2023-05-10T02:21:36.039013Z",
     "iopub.status.idle": "2023-05-10T02:21:36.045497Z",
     "shell.execute_reply": "2023-05-10T02:21:36.045263Z"
    }
   },
   "outputs": [
    {
     "ename": "NameError",
     "evalue": "name 'ud_query_job' is not defined",
     "output_type": "error",
     "traceback": [
      "\u001b[0;31m---------------------------------------------------------------------------\u001b[0m",
      "\u001b[0;31mNameError\u001b[0m                                 Traceback (most recent call last)",
      "Cell \u001b[0;32mIn [18], line 1\u001b[0m\n\u001b[0;32m----> 1\u001b[0m unemployement_data \u001b[38;5;241m=\u001b[39m \u001b[43mud_query_job\u001b[49m\u001b[38;5;241m.\u001b[39mto_dataframe()\n\u001b[1;32m      2\u001b[0m wage_data \u001b[38;5;241m=\u001b[39m wd_query_job\u001b[38;5;241m.\u001b[39mto_dataframe()\n\u001b[1;32m      3\u001b[0m prediction_list \u001b[38;5;241m=\u001b[39m pl_query_job\u001b[38;5;241m.\u001b[39mto_dataframe()\n",
      "\u001b[0;31mNameError\u001b[0m: name 'ud_query_job' is not defined"
     ]
    }
   ],
   "source": [
    "unemployement_data = ud_query_job.to_dataframe()\n",
    "wage_data = wd_query_job.to_dataframe()\n",
    "prediction_list = pl_query_job.to_dataframe()"
   ]
  },
  {
   "cell_type": "code",
   "execution_count": 19,
   "id": "7d0ac11f",
   "metadata": {
    "execution": {
     "iopub.execute_input": "2023-05-10T02:21:36.046922Z",
     "iopub.status.busy": "2023-05-10T02:21:36.046830Z",
     "iopub.status.idle": "2023-05-10T02:21:36.053344Z",
     "shell.execute_reply": "2023-05-10T02:21:36.053107Z"
    }
   },
   "outputs": [
    {
     "ename": "NameError",
     "evalue": "name 'unemployement_data' is not defined",
     "output_type": "error",
     "traceback": [
      "\u001b[0;31m---------------------------------------------------------------------------\u001b[0m",
      "\u001b[0;31mNameError\u001b[0m                                 Traceback (most recent call last)",
      "Cell \u001b[0;32mIn [19], line 2\u001b[0m\n\u001b[1;32m      1\u001b[0m \u001b[38;5;66;03m# save the query results to csv files\u001b[39;00m\n\u001b[0;32m----> 2\u001b[0m \u001b[43munemployement_data\u001b[49m\u001b[38;5;241m.\u001b[39mto_csv(\u001b[38;5;124m\"\u001b[39m\u001b[38;5;124mdata/unemployment_data.csv\u001b[39m\u001b[38;5;124m\"\u001b[39m)\n\u001b[1;32m      3\u001b[0m \u001b[38;5;28mprint\u001b[39m(\u001b[38;5;124m\"\u001b[39m\u001b[38;5;124munemployment_data shape:\u001b[39m\u001b[38;5;124m\"\u001b[39m, unemployement_data\u001b[38;5;241m.\u001b[39mshape)\n",
      "\u001b[0;31mNameError\u001b[0m: name 'unemployement_data' is not defined"
     ]
    }
   ],
   "source": [
    "# save the query results to csv files\n",
    "unemployement_data.to_csv(\"data/unemployment_data.csv\")\n",
    "print(\"unemployment_data shape:\", unemployement_data.shape)"
   ]
  },
  {
   "cell_type": "code",
   "execution_count": 20,
   "id": "0f8721e5",
   "metadata": {
    "execution": {
     "iopub.execute_input": "2023-05-10T02:21:36.054771Z",
     "iopub.status.busy": "2023-05-10T02:21:36.054681Z",
     "iopub.status.idle": "2023-05-10T02:21:36.061146Z",
     "shell.execute_reply": "2023-05-10T02:21:36.060894Z"
    }
   },
   "outputs": [
    {
     "ename": "NameError",
     "evalue": "name 'wage_data' is not defined",
     "output_type": "error",
     "traceback": [
      "\u001b[0;31m---------------------------------------------------------------------------\u001b[0m",
      "\u001b[0;31mNameError\u001b[0m                                 Traceback (most recent call last)",
      "Cell \u001b[0;32mIn [20], line 1\u001b[0m\n\u001b[0;32m----> 1\u001b[0m \u001b[43mwage_data\u001b[49m\u001b[38;5;241m.\u001b[39mto_csv(\u001b[38;5;124m\"\u001b[39m\u001b[38;5;124mdata/wage_data.csv\u001b[39m\u001b[38;5;124m\"\u001b[39m)\n\u001b[1;32m      2\u001b[0m \u001b[38;5;28mprint\u001b[39m(\u001b[38;5;124m\"\u001b[39m\u001b[38;5;124mwage_data shape:\u001b[39m\u001b[38;5;124m\"\u001b[39m, wage_data\u001b[38;5;241m.\u001b[39mshape)\n",
      "\u001b[0;31mNameError\u001b[0m: name 'wage_data' is not defined"
     ]
    }
   ],
   "source": [
    "wage_data.to_csv(\"data/wage_data.csv\")\n",
    "print(\"wage_data shape:\", wage_data.shape)"
   ]
  },
  {
   "cell_type": "code",
   "execution_count": 21,
   "id": "e3c9d2df",
   "metadata": {
    "execution": {
     "iopub.execute_input": "2023-05-10T02:21:36.062614Z",
     "iopub.status.busy": "2023-05-10T02:21:36.062532Z",
     "iopub.status.idle": "2023-05-10T02:21:36.069022Z",
     "shell.execute_reply": "2023-05-10T02:21:36.068770Z"
    },
    "lines_to_next_cell": 1
   },
   "outputs": [
    {
     "ename": "NameError",
     "evalue": "name 'prediction_list' is not defined",
     "output_type": "error",
     "traceback": [
      "\u001b[0;31m---------------------------------------------------------------------------\u001b[0m",
      "\u001b[0;31mNameError\u001b[0m                                 Traceback (most recent call last)",
      "Cell \u001b[0;32mIn [21], line 1\u001b[0m\n\u001b[0;32m----> 1\u001b[0m \u001b[43mprediction_list\u001b[49m\u001b[38;5;241m.\u001b[39mto_csv(\u001b[38;5;124m\"\u001b[39m\u001b[38;5;124mdata/prediction_list.csv\u001b[39m\u001b[38;5;124m\"\u001b[39m)\n\u001b[1;32m      2\u001b[0m \u001b[38;5;28mprint\u001b[39m(\u001b[38;5;124m\"\u001b[39m\u001b[38;5;124mprediction_list shape:\u001b[39m\u001b[38;5;124m\"\u001b[39m, prediction_list\u001b[38;5;241m.\u001b[39mshape)\n",
      "\u001b[0;31mNameError\u001b[0m: name 'prediction_list' is not defined"
     ]
    }
   ],
   "source": [
    "prediction_list.to_csv(\"data/prediction_list.csv\")\n",
    "print(\"prediction_list shape:\", prediction_list.shape)"
   ]
  },
  {
   "cell_type": "code",
   "execution_count": 22,
   "id": "5ab3241b",
   "metadata": {
    "execution": {
     "iopub.execute_input": "2023-05-10T02:21:36.070636Z",
     "iopub.status.busy": "2023-05-10T02:21:36.070526Z",
     "iopub.status.idle": "2023-05-10T02:21:36.073801Z",
     "shell.execute_reply": "2023-05-10T02:21:36.073562Z"
    },
    "lines_to_next_cell": 1
   },
   "outputs": [],
   "source": [
    "# query all total_claims data and store in raw_total_claims_data dict\n",
    "def query_all_total_claims():\n",
    "    temp_query_list = prediction_list[\"uu_id\"] # the list of uuids to be queried\n",
    "    raw_total_claims_data = {uuid:[] for uuid in temp_query_list} # dict to store all query results\n",
    "    total_week = 37\n",
    "\n",
    "    progress = 0\n",
    "    total = len(temp_query_list)\n",
    "    for uuid in temp_query_list:\n",
    "        progress = progress + 1\n",
    "        print('\\r', \"Querying\", str(progress) + \"/\" + str(total), \"uuid's data...\", end='\\r')\n",
    "        QUERY=\"\"\"\n",
    "        SELECT week_number, total_claims\n",
    "        FROM ironhacks-data.ironhacks_competition.unemployment_data\n",
    "        WHERE uu_id=\"%s\"\n",
    "        ORDER BY week_number\n",
    "        \"\"\"%(uuid)\n",
    "        query_job = bigquery_client.query(QUERY)\n",
    "        res = query_job.to_dataframe().drop_duplicates(ignore_index=True).to_numpy()\n",
    "\n",
    "        # Fill the missing total_claims between week 1 and week 37 with value 0\n",
    "        index = 0\n",
    "        for w in range(1,total_week + 1):\n",
    "            if index == len(res):\n",
    "                raw_total_claims_data[uuid].append({w:0})\n",
    "                continue\n",
    "            if w == res[index][0]:\n",
    "                raw_total_claims_data[uuid].append({w:res[index][1]})\n",
    "                index = index + 1\n",
    "            else:\n",
    "                raw_total_claims_data[uuid].append({w:0})\n",
    "        return raw_total_claims_data"
   ]
  },
  {
   "cell_type": "code",
   "execution_count": 23,
   "id": "5f9f18b3",
   "metadata": {
    "execution": {
     "iopub.execute_input": "2023-05-10T02:21:36.075223Z",
     "iopub.status.busy": "2023-05-10T02:21:36.075136Z",
     "iopub.status.idle": "2023-05-10T02:21:36.086121Z",
     "shell.execute_reply": "2023-05-10T02:21:36.085871Z"
    },
    "lines_to_next_cell": 2
   },
   "outputs": [
    {
     "ename": "NameError",
     "evalue": "name 'prediction_list' is not defined",
     "output_type": "error",
     "traceback": [
      "\u001b[0;31m---------------------------------------------------------------------------\u001b[0m",
      "\u001b[0;31mNameError\u001b[0m                                 Traceback (most recent call last)",
      "Cell \u001b[0;32mIn [23], line 2\u001b[0m\n\u001b[1;32m      1\u001b[0m \u001b[38;5;66;03m# commented for only excuting once\u001b[39;00m\n\u001b[0;32m----> 2\u001b[0m raw_total_claims_data \u001b[38;5;241m=\u001b[39m \u001b[43mquery_all_total_claims\u001b[49m\u001b[43m(\u001b[49m\u001b[43m)\u001b[49m\n",
      "Cell \u001b[0;32mIn [22], line 3\u001b[0m, in \u001b[0;36mquery_all_total_claims\u001b[0;34m()\u001b[0m\n\u001b[1;32m      2\u001b[0m \u001b[38;5;28;01mdef\u001b[39;00m \u001b[38;5;21mquery_all_total_claims\u001b[39m():\n\u001b[0;32m----> 3\u001b[0m     temp_query_list \u001b[38;5;241m=\u001b[39m \u001b[43mprediction_list\u001b[49m[\u001b[38;5;124m\"\u001b[39m\u001b[38;5;124muu_id\u001b[39m\u001b[38;5;124m\"\u001b[39m] \u001b[38;5;66;03m# the list of uuids to be queried\u001b[39;00m\n\u001b[1;32m      4\u001b[0m     raw_total_claims_data \u001b[38;5;241m=\u001b[39m {uuid:[] \u001b[38;5;28;01mfor\u001b[39;00m uuid \u001b[38;5;129;01min\u001b[39;00m temp_query_list} \u001b[38;5;66;03m# dict to store all query results\u001b[39;00m\n\u001b[1;32m      5\u001b[0m     total_week \u001b[38;5;241m=\u001b[39m \u001b[38;5;241m37\u001b[39m\n",
      "\u001b[0;31mNameError\u001b[0m: name 'prediction_list' is not defined"
     ]
    }
   ],
   "source": [
    "# commented for only excuting once\n",
    "raw_total_claims_data = query_all_total_claims()"
   ]
  }
 ],
 "metadata": {
  "jupytext": {
   "cell_metadata_filter": "-all",
   "main_language": "python",
   "notebook_metadata_filter": "-all"
  },
  "language_info": {
   "codemirror_mode": {
    "name": "ipython",
    "version": 3
   },
   "file_extension": ".py",
   "mimetype": "text/x-python",
   "name": "python",
   "nbconvert_exporter": "python",
   "pygments_lexer": "ipython3",
   "version": "3.9.12"
  }
 },
 "nbformat": 4,
 "nbformat_minor": 5
}
