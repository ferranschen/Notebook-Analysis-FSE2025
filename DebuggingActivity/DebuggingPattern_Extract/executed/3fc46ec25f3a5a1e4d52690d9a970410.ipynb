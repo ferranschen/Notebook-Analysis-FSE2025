{
 "cells": [
  {
   "cell_type": "code",
   "execution_count": 1,
   "id": "1377046b",
   "metadata": {
    "execution": {
     "iopub.execute_input": "2023-05-10T00:46:39.701064Z",
     "iopub.status.busy": "2023-05-10T00:46:39.700462Z",
     "iopub.status.idle": "2023-05-10T00:46:45.546705Z",
     "shell.execute_reply": "2023-05-10T00:46:45.546075Z"
    }
   },
   "outputs": [
    {
     "name": "stdout",
     "output_type": "stream",
     "text": [
      "\u001b[33mWARNING: Ignoring invalid distribution -umpy (/opt/anaconda3/lib/python3.9/site-packages)\u001b[0m\r\n",
      "\u001b[33mWARNING: Ignoring invalid distribution -umpy (/opt/anaconda3/lib/python3.9/site-packages)\u001b[0m\r\n"
     ]
    },
    {
     "name": "stdout",
     "output_type": "stream",
     "text": [
      "Requirement already satisfied: transformers in /opt/anaconda3/lib/python3.9/site-packages (4.28.1)\r\n"
     ]
    },
    {
     "name": "stdout",
     "output_type": "stream",
     "text": [
      "Requirement already satisfied: huggingface-hub<1.0,>=0.11.0 in /opt/anaconda3/lib/python3.9/site-packages (from transformers) (0.13.4)\r\n",
      "Requirement already satisfied: requests in /opt/anaconda3/lib/python3.9/site-packages (from transformers) (2.26.0)\r\n",
      "Requirement already satisfied: packaging>=20.0 in /opt/anaconda3/lib/python3.9/site-packages (from transformers) (21.3)\r\n",
      "Requirement already satisfied: filelock in /opt/anaconda3/lib/python3.9/site-packages (from transformers) (3.11.0)\r\n",
      "Requirement already satisfied: numpy>=1.17 in /opt/anaconda3/lib/python3.9/site-packages (from transformers) (1.22.4)\r\n",
      "Requirement already satisfied: tqdm>=4.27 in /opt/anaconda3/lib/python3.9/site-packages (from transformers) (4.62.3)\r\n",
      "Requirement already satisfied: pyyaml>=5.1 in /opt/anaconda3/lib/python3.9/site-packages (from transformers) (6.0)\r\n",
      "Requirement already satisfied: regex!=2019.12.17 in /opt/anaconda3/lib/python3.9/site-packages (from transformers) (2021.8.3)\r\n",
      "Requirement already satisfied: tokenizers!=0.11.3,<0.14,>=0.11.1 in /opt/anaconda3/lib/python3.9/site-packages (from transformers) (0.13.3)\r\n"
     ]
    },
    {
     "name": "stdout",
     "output_type": "stream",
     "text": [
      "Requirement already satisfied: typing-extensions>=3.7.4.3 in /opt/anaconda3/lib/python3.9/site-packages (from huggingface-hub<1.0,>=0.11.0->transformers) (4.5.0)\r\n",
      "Requirement already satisfied: pyparsing!=3.0.5,>=2.0.2 in /opt/anaconda3/lib/python3.9/site-packages (from packaging>=20.0->transformers) (3.0.4)\r\n"
     ]
    },
    {
     "name": "stdout",
     "output_type": "stream",
     "text": [
      "Requirement already satisfied: idna<4,>=2.5 in /opt/anaconda3/lib/python3.9/site-packages (from requests->transformers) (3.2)\r\n",
      "Requirement already satisfied: urllib3<1.27,>=1.21.1 in /opt/anaconda3/lib/python3.9/site-packages (from requests->transformers) (1.26.7)\r\n",
      "Requirement already satisfied: charset-normalizer~=2.0.0 in /opt/anaconda3/lib/python3.9/site-packages (from requests->transformers) (2.0.4)\r\n",
      "Requirement already satisfied: certifi>=2017.4.17 in /opt/anaconda3/lib/python3.9/site-packages (from requests->transformers) (2021.10.8)\r\n",
      "\u001b[33mWARNING: Ignoring invalid distribution -umpy (/opt/anaconda3/lib/python3.9/site-packages)\u001b[0m\r\n"
     ]
    },
    {
     "name": "stdout",
     "output_type": "stream",
     "text": [
      "\u001b[33mWARNING: Ignoring invalid distribution -umpy (/opt/anaconda3/lib/python3.9/site-packages)\u001b[0m\r\n",
      "\u001b[33mWARNING: Ignoring invalid distribution -umpy (/opt/anaconda3/lib/python3.9/site-packages)\u001b[0m\r\n",
      "\u001b[33mWARNING: Ignoring invalid distribution -umpy (/opt/anaconda3/lib/python3.9/site-packages)\u001b[0m\r\n"
     ]
    },
    {
     "name": "stdout",
     "output_type": "stream",
     "text": [
      "\u001b[33mWARNING: Ignoring invalid distribution -umpy (/opt/anaconda3/lib/python3.9/site-packages)\u001b[0m\r\n",
      "\u001b[33mWARNING: Ignoring invalid distribution -umpy (/opt/anaconda3/lib/python3.9/site-packages)\u001b[0m\r\n",
      "Requirement already satisfied: torch in /opt/anaconda3/lib/python3.9/site-packages (1.13.1)\r\n",
      "Requirement already satisfied: typing-extensions in /opt/anaconda3/lib/python3.9/site-packages (from torch) (4.5.0)\r\n",
      "\u001b[33mWARNING: Ignoring invalid distribution -umpy (/opt/anaconda3/lib/python3.9/site-packages)\u001b[0m\r\n"
     ]
    },
    {
     "name": "stdout",
     "output_type": "stream",
     "text": [
      "\u001b[33mWARNING: Ignoring invalid distribution -umpy (/opt/anaconda3/lib/python3.9/site-packages)\u001b[0m\r\n",
      "\u001b[33mWARNING: Ignoring invalid distribution -umpy (/opt/anaconda3/lib/python3.9/site-packages)\u001b[0m\r\n",
      "\u001b[33mWARNING: Ignoring invalid distribution -umpy (/opt/anaconda3/lib/python3.9/site-packages)\u001b[0m\r\n"
     ]
    },
    {
     "name": "stdout",
     "output_type": "stream",
     "text": [
      "\u001b[33mWARNING: Ignoring invalid distribution -umpy (/opt/anaconda3/lib/python3.9/site-packages)\u001b[0m\r\n",
      "\u001b[31mERROR: Could not open requirements file: [Errno 2] No such file or directory: 'requirements.txt'\u001b[0m\r\n",
      "\u001b[33mWARNING: Ignoring invalid distribution -umpy (/opt/anaconda3/lib/python3.9/site-packages)\u001b[0m\r\n",
      "\u001b[33mWARNING: Ignoring invalid distribution -umpy (/opt/anaconda3/lib/python3.9/site-packages)\u001b[0m\r\n",
      "\u001b[33mWARNING: Ignoring invalid distribution -umpy (/opt/anaconda3/lib/python3.9/site-packages)\u001b[0m\r\n"
     ]
    }
   ],
   "source": [
    "get_ipython().system('pip install transformers')\n",
    "get_ipython().system('pip install torch')\n",
    "get_ipython().system('pip install -r requirements.txt')"
   ]
  },
  {
   "cell_type": "code",
   "execution_count": 2,
   "id": "0ed0165b",
   "metadata": {
    "execution": {
     "iopub.execute_input": "2023-05-10T00:46:45.549698Z",
     "iopub.status.busy": "2023-05-10T00:46:45.549458Z",
     "iopub.status.idle": "2023-05-10T00:46:46.242612Z",
     "shell.execute_reply": "2023-05-10T00:46:46.242325Z"
    }
   },
   "outputs": [
    {
     "ename": "ModuleNotFoundError",
     "evalue": "No module named 'transformers'",
     "output_type": "error",
     "traceback": [
      "\u001b[0;31m---------------------------------------------------------------------------\u001b[0m",
      "\u001b[0;31mModuleNotFoundError\u001b[0m                       Traceback (most recent call last)",
      "Cell \u001b[0;32mIn [2], line 2\u001b[0m\n\u001b[1;32m      1\u001b[0m \u001b[38;5;28;01mimport\u001b[39;00m \u001b[38;5;21;01mtorch\u001b[39;00m\n\u001b[0;32m----> 2\u001b[0m \u001b[38;5;28;01mfrom\u001b[39;00m \u001b[38;5;21;01mtransformers\u001b[39;00m \u001b[38;5;28;01mimport\u001b[39;00m AutoTokenizer, AutoModel\n\u001b[1;32m      3\u001b[0m tokenizer \u001b[38;5;241m=\u001b[39m AutoTokenizer\u001b[38;5;241m.\u001b[39mfrom_pretrained(\u001b[38;5;124m\"\u001b[39m\u001b[38;5;124mGanjinZero/UMLSBert_ENG\u001b[39m\u001b[38;5;124m\"\u001b[39m)\n\u001b[1;32m      4\u001b[0m model \u001b[38;5;241m=\u001b[39m AutoModel\u001b[38;5;241m.\u001b[39mfrom_pretrained(\u001b[38;5;124m\"\u001b[39m\u001b[38;5;124mGanjinZero/UMLSBert_ENG\u001b[39m\u001b[38;5;124m\"\u001b[39m)\n",
      "\u001b[0;31mModuleNotFoundError\u001b[0m: No module named 'transformers'"
     ]
    }
   ],
   "source": [
    "import torch\n",
    "from transformers import AutoTokenizer, AutoModel\n",
    "tokenizer = AutoTokenizer.from_pretrained(\"GanjinZero/UMLSBert_ENG\")\n",
    "model = AutoModel.from_pretrained(\"GanjinZero/UMLSBert_ENG\")\n",
    "import pandas as pd"
   ]
  },
  {
   "cell_type": "code",
   "execution_count": 3,
   "id": "b1d2f831",
   "metadata": {
    "execution": {
     "iopub.execute_input": "2023-05-10T00:46:46.244198Z",
     "iopub.status.busy": "2023-05-10T00:46:46.244090Z",
     "iopub.status.idle": "2023-05-10T00:46:46.292291Z",
     "shell.execute_reply": "2023-05-10T00:46:46.292022Z"
    }
   },
   "outputs": [
    {
     "ename": "FileNotFoundError",
     "evalue": "[Errno 2] No such file or directory: 'mayo_data.json'",
     "output_type": "error",
     "traceback": [
      "\u001b[0;31m---------------------------------------------------------------------------\u001b[0m",
      "\u001b[0;31mFileNotFoundError\u001b[0m                         Traceback (most recent call last)",
      "Cell \u001b[0;32mIn [3], line 2\u001b[0m\n\u001b[1;32m      1\u001b[0m \u001b[38;5;66;03m# read in scraped mayo symptoms\u001b[39;00m\n\u001b[0;32m----> 2\u001b[0m \u001b[38;5;28;01mwith\u001b[39;00m \u001b[38;5;28;43mopen\u001b[39;49m\u001b[43m(\u001b[49m\u001b[38;5;124;43m\"\u001b[39;49m\u001b[38;5;124;43mmayo_data.json\u001b[39;49m\u001b[38;5;124;43m\"\u001b[39;49m\u001b[43m,\u001b[49m\u001b[43m \u001b[49m\u001b[38;5;124;43m'\u001b[39;49m\u001b[38;5;124;43mr\u001b[39;49m\u001b[38;5;124;43m'\u001b[39;49m\u001b[43m)\u001b[49m \u001b[38;5;28;01mas\u001b[39;00m j:\n\u001b[1;32m      3\u001b[0m      data \u001b[38;5;241m=\u001b[39m json\u001b[38;5;241m.\u001b[39mloads(j\u001b[38;5;241m.\u001b[39mread())\n",
      "File \u001b[0;32m~/Library/Python/3.9/lib/python/site-packages/IPython/core/interactiveshell.py:282\u001b[0m, in \u001b[0;36m_modified_open\u001b[0;34m(file, *args, **kwargs)\u001b[0m\n\u001b[1;32m    275\u001b[0m \u001b[38;5;28;01mif\u001b[39;00m file \u001b[38;5;129;01min\u001b[39;00m {\u001b[38;5;241m0\u001b[39m, \u001b[38;5;241m1\u001b[39m, \u001b[38;5;241m2\u001b[39m}:\n\u001b[1;32m    276\u001b[0m     \u001b[38;5;28;01mraise\u001b[39;00m \u001b[38;5;167;01mValueError\u001b[39;00m(\n\u001b[1;32m    277\u001b[0m         \u001b[38;5;124mf\u001b[39m\u001b[38;5;124m\"\u001b[39m\u001b[38;5;124mIPython won\u001b[39m\u001b[38;5;124m'\u001b[39m\u001b[38;5;124mt let you open fd=\u001b[39m\u001b[38;5;132;01m{\u001b[39;00mfile\u001b[38;5;132;01m}\u001b[39;00m\u001b[38;5;124m by default \u001b[39m\u001b[38;5;124m\"\u001b[39m\n\u001b[1;32m    278\u001b[0m         \u001b[38;5;124m\"\u001b[39m\u001b[38;5;124mas it is likely to crash IPython. If you know what you are doing, \u001b[39m\u001b[38;5;124m\"\u001b[39m\n\u001b[1;32m    279\u001b[0m         \u001b[38;5;124m\"\u001b[39m\u001b[38;5;124myou can use builtins\u001b[39m\u001b[38;5;124m'\u001b[39m\u001b[38;5;124m open.\u001b[39m\u001b[38;5;124m\"\u001b[39m\n\u001b[1;32m    280\u001b[0m     )\n\u001b[0;32m--> 282\u001b[0m \u001b[38;5;28;01mreturn\u001b[39;00m \u001b[43mio_open\u001b[49m\u001b[43m(\u001b[49m\u001b[43mfile\u001b[49m\u001b[43m,\u001b[49m\u001b[43m \u001b[49m\u001b[38;5;241;43m*\u001b[39;49m\u001b[43margs\u001b[49m\u001b[43m,\u001b[49m\u001b[43m \u001b[49m\u001b[38;5;241;43m*\u001b[39;49m\u001b[38;5;241;43m*\u001b[39;49m\u001b[43mkwargs\u001b[49m\u001b[43m)\u001b[49m\n",
      "\u001b[0;31mFileNotFoundError\u001b[0m: [Errno 2] No such file or directory: 'mayo_data.json'"
     ]
    }
   ],
   "source": [
    "# read in scraped mayo symptoms\n",
    "with open(\"mayo_data.json\", 'r') as j:\n",
    "     data = json.loads(j.read())"
   ]
  },
  {
   "cell_type": "code",
   "execution_count": 4,
   "id": "144715bd",
   "metadata": {
    "execution": {
     "iopub.execute_input": "2023-05-10T00:46:46.293742Z",
     "iopub.status.busy": "2023-05-10T00:46:46.293653Z",
     "iopub.status.idle": "2023-05-10T00:46:46.295414Z",
     "shell.execute_reply": "2023-05-10T00:46:46.295191Z"
    }
   },
   "outputs": [],
   "source": [
    "symptoms=[]\n",
    "specialties=[]\n",
    "diseases=[]"
   ]
  },
  {
   "cell_type": "code",
   "execution_count": 5,
   "id": "3ce3b6e1",
   "metadata": {
    "execution": {
     "iopub.execute_input": "2023-05-10T00:46:46.296800Z",
     "iopub.status.busy": "2023-05-10T00:46:46.296720Z",
     "iopub.status.idle": "2023-05-10T00:46:46.305452Z",
     "shell.execute_reply": "2023-05-10T00:46:46.305215Z"
    },
    "lines_to_next_cell": 1
   },
   "outputs": [
    {
     "ename": "NameError",
     "evalue": "name 'data' is not defined",
     "output_type": "error",
     "traceback": [
      "\u001b[0;31m---------------------------------------------------------------------------\u001b[0m",
      "\u001b[0;31mNameError\u001b[0m                                 Traceback (most recent call last)",
      "Cell \u001b[0;32mIn [5], line 1\u001b[0m\n\u001b[0;32m----> 1\u001b[0m \u001b[38;5;28;01mfor\u001b[39;00m disease \u001b[38;5;129;01min\u001b[39;00m \u001b[38;5;28mlist\u001b[39m(\u001b[43mdata\u001b[49m\u001b[38;5;241m.\u001b[39mkeys()):\n\u001b[1;32m      2\u001b[0m     list_of_symptoms\u001b[38;5;241m=\u001b[39mdata[disease][\u001b[38;5;124m'\u001b[39m\u001b[38;5;124msymptoms\u001b[39m\u001b[38;5;124m'\u001b[39m]\n\u001b[1;32m      3\u001b[0m     \u001b[38;5;28;01mif\u001b[39;00m \u001b[38;5;28mlen\u001b[39m(list_of_symptoms)\u001b[38;5;241m==\u001b[39m\u001b[38;5;241m0\u001b[39m:\n",
      "\u001b[0;31mNameError\u001b[0m: name 'data' is not defined"
     ]
    }
   ],
   "source": [
    "for disease in list(data.keys()):\n",
    "    list_of_symptoms=data[disease]['symptoms']\n",
    "    if len(list_of_symptoms)==0:\n",
    "        pass\n",
    "    symptoms.append(list_of_symptoms)\n",
    "    diseases.append([disease]*len(list_of_symptoms))\n",
    "    list_of_specialties=data[disease]['specialties']\n",
    "    specialtystr=','.join(list_of_specialties)\n",
    "    specialties.append([specialtystr]*len(list_of_symptoms))"
   ]
  },
  {
   "cell_type": "code",
   "execution_count": 6,
   "id": "ab679e87",
   "metadata": {
    "execution": {
     "iopub.execute_input": "2023-05-10T00:46:46.306818Z",
     "iopub.status.busy": "2023-05-10T00:46:46.306742Z",
     "iopub.status.idle": "2023-05-10T00:46:46.308437Z",
     "shell.execute_reply": "2023-05-10T00:46:46.308216Z"
    },
    "lines_to_next_cell": 1
   },
   "outputs": [],
   "source": [
    "def flatten(l):\n",
    "    return [item for sublist in l for item in sublist]"
   ]
  },
  {
   "cell_type": "code",
   "execution_count": 7,
   "id": "5dc17582",
   "metadata": {
    "execution": {
     "iopub.execute_input": "2023-05-10T00:46:46.309718Z",
     "iopub.status.busy": "2023-05-10T00:46:46.309637Z",
     "iopub.status.idle": "2023-05-10T00:46:46.311415Z",
     "shell.execute_reply": "2023-05-10T00:46:46.311165Z"
    }
   },
   "outputs": [],
   "source": [
    "diseases=flatten(diseases)\n",
    "symptoms=flatten(symptoms)\n",
    "specialties=flatten(specialties)"
   ]
  },
  {
   "cell_type": "code",
   "execution_count": 8,
   "id": "59885e1b",
   "metadata": {
    "execution": {
     "iopub.execute_input": "2023-05-10T00:46:46.312765Z",
     "iopub.status.busy": "2023-05-10T00:46:46.312685Z",
     "iopub.status.idle": "2023-05-10T00:46:46.319475Z",
     "shell.execute_reply": "2023-05-10T00:46:46.319209Z"
    },
    "lines_to_next_cell": 1
   },
   "outputs": [
    {
     "ename": "NameError",
     "evalue": "name 'pd' is not defined",
     "output_type": "error",
     "traceback": [
      "\u001b[0;31m---------------------------------------------------------------------------\u001b[0m",
      "\u001b[0;31mNameError\u001b[0m                                 Traceback (most recent call last)",
      "Cell \u001b[0;32mIn [8], line 2\u001b[0m\n\u001b[1;32m      1\u001b[0m lst \u001b[38;5;241m=\u001b[39m [diseases,symptoms,specialties]\n\u001b[0;32m----> 2\u001b[0m df \u001b[38;5;241m=\u001b[39m \u001b[43mpd\u001b[49m\u001b[38;5;241m.\u001b[39mDataFrame(\n\u001b[1;32m      3\u001b[0m     {\u001b[38;5;124m'\u001b[39m\u001b[38;5;124mdisease\u001b[39m\u001b[38;5;124m'\u001b[39m: diseases,\n\u001b[1;32m      4\u001b[0m      \u001b[38;5;124m'\u001b[39m\u001b[38;5;124msymptoms\u001b[39m\u001b[38;5;124m'\u001b[39m: symptoms,\n\u001b[1;32m      5\u001b[0m      \u001b[38;5;124m'\u001b[39m\u001b[38;5;124mspecialties\u001b[39m\u001b[38;5;124m'\u001b[39m: specialties\n\u001b[1;32m      6\u001b[0m     })\n",
      "\u001b[0;31mNameError\u001b[0m: name 'pd' is not defined"
     ]
    }
   ],
   "source": [
    "lst = [diseases,symptoms,specialties]\n",
    "df = pd.DataFrame(\n",
    "    {'disease': diseases,\n",
    "     'symptoms': symptoms,\n",
    "     'specialties': specialties\n",
    "    })"
   ]
  },
  {
   "cell_type": "code",
   "execution_count": 9,
   "id": "3bd99794",
   "metadata": {
    "execution": {
     "iopub.execute_input": "2023-05-10T00:46:46.320845Z",
     "iopub.status.busy": "2023-05-10T00:46:46.320765Z",
     "iopub.status.idle": "2023-05-10T00:46:46.322587Z",
     "shell.execute_reply": "2023-05-10T00:46:46.322355Z"
    },
    "lines_to_next_cell": 1
   },
   "outputs": [],
   "source": [
    "def get_pooled_embedding(text, model, tokenizer):\n",
    "    tokenized_input = tokenizer(text, return_tensors='pt')\n",
    "    output = model(**tokenized_input)\n",
    "    \n",
    "    return output.pooler_output.detach().numpy()[0]"
   ]
  },
  {
   "cell_type": "code",
   "execution_count": 10,
   "id": "5cb1264e",
   "metadata": {
    "execution": {
     "iopub.execute_input": "2023-05-10T00:46:46.323880Z",
     "iopub.status.busy": "2023-05-10T00:46:46.323802Z",
     "iopub.status.idle": "2023-05-10T00:46:46.325506Z",
     "shell.execute_reply": "2023-05-10T00:46:46.325287Z"
    },
    "lines_to_next_cell": 1
   },
   "outputs": [],
   "source": [
    "def create_pooled_embedding_df(model, tokenizer, df):\n",
    "    df['pooled_embedding'] = df.symptoms.apply(get_pooled_embedding, args=(model, tokenizer))\n",
    "    \n",
    "    return df"
   ]
  },
  {
   "cell_type": "code",
   "execution_count": 11,
   "id": "1a0e0b3c",
   "metadata": {
    "execution": {
     "iopub.execute_input": "2023-05-10T00:46:46.326877Z",
     "iopub.status.busy": "2023-05-10T00:46:46.326791Z",
     "iopub.status.idle": "2023-05-10T00:46:46.333322Z",
     "shell.execute_reply": "2023-05-10T00:46:46.333062Z"
    },
    "lines_to_next_cell": 2
   },
   "outputs": [
    {
     "ename": "NameError",
     "evalue": "name 'model' is not defined",
     "output_type": "error",
     "traceback": [
      "\u001b[0;31m---------------------------------------------------------------------------\u001b[0m",
      "\u001b[0;31mNameError\u001b[0m                                 Traceback (most recent call last)",
      "Cell \u001b[0;32mIn [11], line 2\u001b[0m\n\u001b[1;32m      1\u001b[0m \u001b[38;5;66;03m# add embedding column and save to pickle obj\u001b[39;00m\n\u001b[0;32m----> 2\u001b[0m df\u001b[38;5;241m=\u001b[39m create_pooled_embedding_df(\u001b[43mmodel\u001b[49m, tokenizer, df)\n\u001b[1;32m      3\u001b[0m \u001b[38;5;28mprint\u001b[39m(df)\n\u001b[1;32m      4\u001b[0m \u001b[38;5;66;03m#df.to_pickle(\"mayo_symptoms_embeddings.plk\")\u001b[39;00m\n",
      "\u001b[0;31mNameError\u001b[0m: name 'model' is not defined"
     ]
    }
   ],
   "source": [
    "# add embedding column and save to pickle obj\n",
    "df= create_pooled_embedding_df(model, tokenizer, df)\n",
    "print(df)\n",
    "#df.to_pickle(\"mayo_symptoms_embeddings.plk\")"
   ]
  }
 ],
 "metadata": {
  "jupytext": {
   "cell_metadata_filter": "-all",
   "main_language": "python",
   "notebook_metadata_filter": "-all"
  },
  "kernelspec": {
   "display_name": "base",
   "language": "python",
   "name": "python3"
  },
  "language_info": {
   "codemirror_mode": {
    "name": "ipython",
    "version": 3
   },
   "file_extension": ".py",
   "mimetype": "text/x-python",
   "name": "python",
   "nbconvert_exporter": "python",
   "pygments_lexer": "ipython3",
   "version": "3.9.12"
  }
 },
 "nbformat": 4,
 "nbformat_minor": 5
}
