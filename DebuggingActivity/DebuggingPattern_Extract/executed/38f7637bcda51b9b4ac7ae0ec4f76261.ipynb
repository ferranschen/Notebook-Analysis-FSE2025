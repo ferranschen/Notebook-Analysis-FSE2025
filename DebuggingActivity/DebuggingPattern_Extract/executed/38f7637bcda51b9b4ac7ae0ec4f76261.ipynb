{
 "cells": [
  {
   "cell_type": "code",
   "execution_count": 1,
   "id": "1eb045ac",
   "metadata": {
    "execution": {
     "iopub.execute_input": "2023-05-10T01:49:44.654646Z",
     "iopub.status.busy": "2023-05-10T01:49:44.654340Z",
     "iopub.status.idle": "2023-05-10T01:49:44.667008Z",
     "shell.execute_reply": "2023-05-10T01:49:44.666629Z"
    }
   },
   "outputs": [],
   "source": [
    "get_ipython().run_cell_magic('capture', '', \"%logstop\\n%logstart -t -r -q ipython_command_log.py global\\n\\n#- IRONHACKS RESEARCH TRACKING CODE\\n#----------------------------------\\n# The following code is used to help our research team understand how you \\n# our notebook environment. We do not collect any personal information with\\n# the following code, it is used to measure when and how often you work on\\n# your submission files.\\n\\nimport os\\nfrom datetime import datetime\\nimport IPython.core.history as history\\n\\nha = history.HistoryAccessor()\\nha_tail = ha.get_tail(1)\\nha_cmd = next(ha_tail)\\nsession_id = str(ha_cmd[0])\\ncommand_id = str(ha_cmd[1])\\ntimestamp = datetime.utcnow().isoformat()\\nhistory_line = ','.join([session_id, command_id, timestamp]) + '\\\\n'\\nlogfile = open(os.environ['HOME']+'/ipython_session_log.csv', 'a')\\nlogfile.write(history_line)\\nlogfile.close()\\n\")"
   ]
  },
  {
   "cell_type": "code",
   "execution_count": 2,
   "id": "8f1297ee",
   "metadata": {
    "execution": {
     "iopub.execute_input": "2023-05-10T01:49:44.669290Z",
     "iopub.status.busy": "2023-05-10T01:49:44.669121Z",
     "iopub.status.idle": "2023-05-10T01:49:45.848036Z",
     "shell.execute_reply": "2023-05-10T01:49:45.847331Z"
    }
   },
   "outputs": [],
   "source": [
    "get_ipython().run_cell_magic('capture', '', \"\\n#- INSTALL ADDITIONAL LIBRARIES IF REQUIRED\\n#------------------------------------------\\n# This is normally not required. The hub environment comes preinstaled with \\n# many packages that you can already use without setup. In case there is some\\n# other library you would like to use that isn't on the list you run this command\\n# once to install them.  If it is already installed this command has no effect.\\n\\n!python3 -m pip install pandas\\n\")"
   ]
  },
  {
   "cell_type": "markdown",
   "id": "fe67b553",
   "metadata": {},
   "source": [
    "- IMPORT THE LIBRARIES YOU WILL USE\n",
    "------------------------------------------\n",
    "You only need to import packages one time per notebook session. To keep your\n",
    "notebook clean and organized you can handle all imports at the top of your file.\n",
    "The following are included for example purposed, feel free to modify or delete \n",
    "anything in this section."
   ]
  },
  {
   "cell_type": "code",
   "execution_count": 3,
   "id": "976478ea",
   "metadata": {
    "execution": {
     "iopub.execute_input": "2023-05-10T01:49:45.851062Z",
     "iopub.status.busy": "2023-05-10T01:49:45.850839Z",
     "iopub.status.idle": "2023-05-10T01:49:46.258519Z",
     "shell.execute_reply": "2023-05-10T01:49:46.258201Z"
    },
    "lines_to_next_cell": 1
   },
   "outputs": [],
   "source": [
    "import csv\n",
    "import pandas as pd\n",
    "import numpy as np\n",
    "from google.cloud import bigquery\n",
    "from google.oauth2 import service_account\n",
    "from google.cloud.bigquery import magics"
   ]
  },
  {
   "cell_type": "markdown",
   "id": "c1393e3a",
   "metadata": {},
   "source": [
    "- DEFINE YOUR CLASSES AND FUNCTIONS \n",
    "-----------------------------------\n",
    "This is not required, but is helpful in keeping your notebook organized. \n",
    "You can use the following cell or several cells to define your functions\n",
    "and classes to keep them separate from your analysis or results code.\n",
    "In general it useful to define your methods in a separate cell from where\n",
    "it is run."
   ]
  },
  {
   "cell_type": "code",
   "execution_count": 4,
   "id": "7c57b29e",
   "metadata": {
    "execution": {
     "iopub.execute_input": "2023-05-10T01:49:46.260241Z",
     "iopub.status.busy": "2023-05-10T01:49:46.260105Z",
     "iopub.status.idle": "2023-05-10T01:49:46.261855Z",
     "shell.execute_reply": "2023-05-10T01:49:46.261588Z"
    },
    "lines_to_next_cell": 1
   },
   "outputs": [],
   "source": [
    "def example_function():\n",
    "    print('Hello World')"
   ]
  },
  {
   "cell_type": "code",
   "execution_count": 5,
   "id": "6bd55e2b",
   "metadata": {
    "execution": {
     "iopub.execute_input": "2023-05-10T01:49:46.263261Z",
     "iopub.status.busy": "2023-05-10T01:49:46.263181Z",
     "iopub.status.idle": "2023-05-10T01:49:46.269868Z",
     "shell.execute_reply": "2023-05-10T01:49:46.269545Z"
    },
    "lines_to_next_cell": 1
   },
   "outputs": [],
   "source": [
    "BIGQUERY_PROJECT = 'ironhacks-data'\n",
    "bigquery_client = bigquery.Client(project=BIGQUERY_PROJECT)"
   ]
  },
  {
   "cell_type": "code",
   "execution_count": 6,
   "id": "05a85939",
   "metadata": {
    "execution": {
     "iopub.execute_input": "2023-05-10T01:49:46.271438Z",
     "iopub.status.busy": "2023-05-10T01:49:46.271346Z",
     "iopub.status.idle": "2023-05-10T01:49:46.273630Z",
     "shell.execute_reply": "2023-05-10T01:49:46.273406Z"
    },
    "lines_to_next_cell": 1
   },
   "outputs": [],
   "source": [
    "def get_data(table_name):\n",
    "    query = f\"\"\"\n",
    "    SELECT *\n",
    "    FROM `ironhacks-data.ironhacks_competition.{table_name}`\n",
    "    \"\"\"\n",
    "\n",
    "    # QUERY THE DATA ONCE\n",
    "    query_job = bigquery_client.query(query)\n",
    "    return query_job.to_dataframe()"
   ]
  },
  {
   "cell_type": "code",
   "execution_count": 7,
   "id": "637171e9",
   "metadata": {
    "execution": {
     "iopub.execute_input": "2023-05-10T01:49:46.275093Z",
     "iopub.status.busy": "2023-05-10T01:49:46.275002Z",
     "iopub.status.idle": "2023-05-10T01:49:47.981262Z",
     "shell.execute_reply": "2023-05-10T01:49:47.980552Z"
    }
   },
   "outputs": [],
   "source": [
    "unemploy = get_data('unemployment_data')"
   ]
  },
  {
   "cell_type": "code",
   "execution_count": 8,
   "id": "b39fe6e5",
   "metadata": {
    "execution": {
     "iopub.execute_input": "2023-05-10T01:49:47.985550Z",
     "iopub.status.busy": "2023-05-10T01:49:47.985010Z",
     "iopub.status.idle": "2023-05-10T01:49:51.022334Z",
     "shell.execute_reply": "2023-05-10T01:49:51.020974Z"
    }
   },
   "outputs": [],
   "source": [
    "wage = get_data('wage_data')"
   ]
  },
  {
   "cell_type": "code",
   "execution_count": 9,
   "id": "6666dc6c",
   "metadata": {
    "execution": {
     "iopub.execute_input": "2023-05-10T01:49:51.028823Z",
     "iopub.status.busy": "2023-05-10T01:49:51.028300Z",
     "iopub.status.idle": "2023-05-10T01:49:52.654292Z",
     "shell.execute_reply": "2023-05-10T01:49:52.652436Z"
    }
   },
   "outputs": [],
   "source": [
    "sub = get_data('prediction_list')"
   ]
  },
  {
   "cell_type": "code",
   "execution_count": 10,
   "id": "b9f3be10",
   "metadata": {
    "execution": {
     "iopub.execute_input": "2023-05-10T01:49:52.660560Z",
     "iopub.status.busy": "2023-05-10T01:49:52.660085Z",
     "iopub.status.idle": "2023-05-10T01:49:52.671772Z",
     "shell.execute_reply": "2023-05-10T01:49:52.671058Z"
    }
   },
   "outputs": [],
   "source": [
    "pred = unemploy.groupby('uu_id')['total_claims'].mean().apply(lambda x: int(x))"
   ]
  },
  {
   "cell_type": "code",
   "execution_count": 11,
   "id": "3571993e",
   "metadata": {
    "execution": {
     "iopub.execute_input": "2023-05-10T01:49:52.676903Z",
     "iopub.status.busy": "2023-05-10T01:49:52.676301Z",
     "iopub.status.idle": "2023-05-10T01:49:52.992972Z",
     "shell.execute_reply": "2023-05-10T01:49:52.992639Z"
    }
   },
   "outputs": [],
   "source": [
    "pred = unemploy.groupby('uu_id').apply(lambda x: x.sort_values('week_number')['total_claims'].ewm(alpha=1/3).mean().to_numpy()[-1])"
   ]
  },
  {
   "cell_type": "code",
   "execution_count": 12,
   "id": "a7266af5",
   "metadata": {
    "execution": {
     "iopub.execute_input": "2023-05-10T01:49:52.994701Z",
     "iopub.status.busy": "2023-05-10T01:49:52.994599Z",
     "iopub.status.idle": "2023-05-10T01:49:52.996969Z",
     "shell.execute_reply": "2023-05-10T01:49:52.996731Z"
    }
   },
   "outputs": [],
   "source": [
    "pred = pred[sub['uu_id'].to_list()]"
   ]
  },
  {
   "cell_type": "code",
   "execution_count": 13,
   "id": "cbd84444",
   "metadata": {
    "execution": {
     "iopub.execute_input": "2023-05-10T01:49:52.998472Z",
     "iopub.status.busy": "2023-05-10T01:49:52.998385Z",
     "iopub.status.idle": "2023-05-10T01:49:53.000568Z",
     "shell.execute_reply": "2023-05-10T01:49:53.000307Z"
    }
   },
   "outputs": [],
   "source": [
    "pred = pd.DataFrame({\n",
    "    'uu_id': pred.index,\n",
    "    'week_number': 39,\n",
    "    'total_claims': pred.to_list()\n",
    "})"
   ]
  },
  {
   "cell_type": "code",
   "execution_count": 14,
   "id": "8b0a4e25",
   "metadata": {
    "execution": {
     "iopub.execute_input": "2023-05-10T01:49:53.001924Z",
     "iopub.status.busy": "2023-05-10T01:49:53.001846Z",
     "iopub.status.idle": "2023-05-10T01:49:53.008515Z",
     "shell.execute_reply": "2023-05-10T01:49:53.008275Z"
    }
   },
   "outputs": [
    {
     "data": {
      "text/html": [
       "<div>\n",
       "<style scoped>\n",
       "    .dataframe tbody tr th:only-of-type {\n",
       "        vertical-align: middle;\n",
       "    }\n",
       "\n",
       "    .dataframe tbody tr th {\n",
       "        vertical-align: top;\n",
       "    }\n",
       "\n",
       "    .dataframe thead th {\n",
       "        text-align: right;\n",
       "    }\n",
       "</style>\n",
       "<table border=\"1\" class=\"dataframe\">\n",
       "  <thead>\n",
       "    <tr style=\"text-align: right;\">\n",
       "      <th></th>\n",
       "      <th>uu_id</th>\n",
       "      <th>week_number</th>\n",
       "      <th>total_claims</th>\n",
       "    </tr>\n",
       "  </thead>\n",
       "  <tbody>\n",
       "    <tr>\n",
       "      <th>0</th>\n",
       "      <td>5bf51fc2e162d6faf9e3cf79e4198378</td>\n",
       "      <td>39</td>\n",
       "      <td>17.147919</td>\n",
       "    </tr>\n",
       "    <tr>\n",
       "      <th>1</th>\n",
       "      <td>420b44cc7e3f55d738df565421e59941</td>\n",
       "      <td>39</td>\n",
       "      <td>12.426487</td>\n",
       "    </tr>\n",
       "    <tr>\n",
       "      <th>2</th>\n",
       "      <td>e39c66ecceec76ee8f9f811fa4a2d246</td>\n",
       "      <td>39</td>\n",
       "      <td>11.941053</td>\n",
       "    </tr>\n",
       "    <tr>\n",
       "      <th>3</th>\n",
       "      <td>a90462cd11ae4e43144239bf7c4828a4</td>\n",
       "      <td>39</td>\n",
       "      <td>15.785333</td>\n",
       "    </tr>\n",
       "    <tr>\n",
       "      <th>4</th>\n",
       "      <td>8b20a6749088c7ff1237983076ebfeaa</td>\n",
       "      <td>39</td>\n",
       "      <td>12.524471</td>\n",
       "    </tr>\n",
       "    <tr>\n",
       "      <th>...</th>\n",
       "      <td>...</td>\n",
       "      <td>...</td>\n",
       "      <td>...</td>\n",
       "    </tr>\n",
       "    <tr>\n",
       "      <th>520</th>\n",
       "      <td>46c4f6c75e663b1ca82ea7994e6d83d3</td>\n",
       "      <td>39</td>\n",
       "      <td>40.479998</td>\n",
       "    </tr>\n",
       "    <tr>\n",
       "      <th>521</th>\n",
       "      <td>1deebda501712e7595b531b8337bc31a</td>\n",
       "      <td>39</td>\n",
       "      <td>24.644789</td>\n",
       "    </tr>\n",
       "    <tr>\n",
       "      <th>522</th>\n",
       "      <td>5a9758f65f001b6432ff31ff64a459d7</td>\n",
       "      <td>39</td>\n",
       "      <td>14.306051</td>\n",
       "    </tr>\n",
       "    <tr>\n",
       "      <th>523</th>\n",
       "      <td>e8b3b95e93a6dc7dbb90f4e72e7ac065</td>\n",
       "      <td>39</td>\n",
       "      <td>13.729455</td>\n",
       "    </tr>\n",
       "    <tr>\n",
       "      <th>524</th>\n",
       "      <td>932a58530abff8a48558e2a15639d453</td>\n",
       "      <td>39</td>\n",
       "      <td>21.275644</td>\n",
       "    </tr>\n",
       "  </tbody>\n",
       "</table>\n",
       "<p>525 rows × 3 columns</p>\n",
       "</div>"
      ],
      "text/plain": [
       "                                uu_id  week_number  total_claims\n",
       "0    5bf51fc2e162d6faf9e3cf79e4198378           39     17.147919\n",
       "1    420b44cc7e3f55d738df565421e59941           39     12.426487\n",
       "2    e39c66ecceec76ee8f9f811fa4a2d246           39     11.941053\n",
       "3    a90462cd11ae4e43144239bf7c4828a4           39     15.785333\n",
       "4    8b20a6749088c7ff1237983076ebfeaa           39     12.524471\n",
       "..                                ...          ...           ...\n",
       "520  46c4f6c75e663b1ca82ea7994e6d83d3           39     40.479998\n",
       "521  1deebda501712e7595b531b8337bc31a           39     24.644789\n",
       "522  5a9758f65f001b6432ff31ff64a459d7           39     14.306051\n",
       "523  e8b3b95e93a6dc7dbb90f4e72e7ac065           39     13.729455\n",
       "524  932a58530abff8a48558e2a15639d453           39     21.275644\n",
       "\n",
       "[525 rows x 3 columns]"
      ]
     },
     "execution_count": 14,
     "metadata": {},
     "output_type": "execute_result"
    }
   ],
   "source": [
    "pred"
   ]
  },
  {
   "cell_type": "code",
   "execution_count": 15,
   "id": "6335838c",
   "metadata": {
    "execution": {
     "iopub.execute_input": "2023-05-10T01:49:53.009937Z",
     "iopub.status.busy": "2023-05-10T01:49:53.009844Z",
     "iopub.status.idle": "2023-05-10T01:49:53.014083Z",
     "shell.execute_reply": "2023-05-10T01:49:53.013855Z"
    }
   },
   "outputs": [],
   "source": [
    "pred.to_csv('submission_prediction_output.csv', index=False)"
   ]
  },
  {
   "cell_type": "code",
   "execution_count": 16,
   "id": "4aa44b12",
   "metadata": {
    "execution": {
     "iopub.execute_input": "2023-05-10T01:49:53.015509Z",
     "iopub.status.busy": "2023-05-10T01:49:53.015428Z",
     "iopub.status.idle": "2023-05-10T01:49:53.337996Z",
     "shell.execute_reply": "2023-05-10T01:49:53.337723Z"
    }
   },
   "outputs": [
    {
     "ename": "ValueError",
     "evalue": "Per-column arrays must each be 1-dimensional",
     "output_type": "error",
     "traceback": [
      "\u001b[0;31m---------------------------------------------------------------------------\u001b[0m",
      "\u001b[0;31mValueError\u001b[0m                                Traceback (most recent call last)",
      "Cell \u001b[0;32mIn [16], line 1\u001b[0m\n\u001b[0;32m----> 1\u001b[0m pred \u001b[38;5;241m=\u001b[39m \u001b[43mpd\u001b[49m\u001b[38;5;241;43m.\u001b[39;49m\u001b[43mDataFrame\u001b[49m\u001b[43m(\u001b[49m\u001b[43m{\u001b[49m\n\u001b[1;32m      2\u001b[0m \u001b[43m    \u001b[49m\u001b[38;5;124;43m'\u001b[39;49m\u001b[38;5;124;43muu_id\u001b[39;49m\u001b[38;5;124;43m'\u001b[39;49m\u001b[43m:\u001b[49m\u001b[43m \u001b[49m\u001b[43mpred\u001b[49m\u001b[38;5;241;43m.\u001b[39;49m\u001b[43mindex\u001b[49m\u001b[43m,\u001b[49m\n\u001b[1;32m      3\u001b[0m \u001b[43m    \u001b[49m\u001b[38;5;124;43m'\u001b[39;49m\u001b[38;5;124;43mweek_number\u001b[39;49m\u001b[38;5;124;43m'\u001b[39;49m\u001b[43m:\u001b[49m\u001b[43m \u001b[49m\u001b[38;5;241;43m39\u001b[39;49m\u001b[43m,\u001b[49m\n\u001b[1;32m      4\u001b[0m \u001b[43m    \u001b[49m\u001b[38;5;124;43m'\u001b[39;49m\u001b[38;5;124;43mtotal_claims\u001b[39;49m\u001b[38;5;124;43m'\u001b[39;49m\u001b[43m:\u001b[49m\u001b[43m \u001b[49m\u001b[43mpred\u001b[49m\u001b[38;5;241;43m.\u001b[39;49m\u001b[43mto_numpy\u001b[49m\u001b[43m(\u001b[49m\u001b[43m)\u001b[49m\n\u001b[1;32m      5\u001b[0m \u001b[43m}\u001b[49m\u001b[43m)\u001b[49m\n",
      "File \u001b[0;32m/opt/homebrew/lib/python3.9/site-packages/pandas/core/frame.py:662\u001b[0m, in \u001b[0;36mDataFrame.__init__\u001b[0;34m(self, data, index, columns, dtype, copy)\u001b[0m\n\u001b[1;32m    656\u001b[0m     mgr \u001b[38;5;241m=\u001b[39m \u001b[38;5;28mself\u001b[39m\u001b[38;5;241m.\u001b[39m_init_mgr(\n\u001b[1;32m    657\u001b[0m         data, axes\u001b[38;5;241m=\u001b[39m{\u001b[38;5;124m\"\u001b[39m\u001b[38;5;124mindex\u001b[39m\u001b[38;5;124m\"\u001b[39m: index, \u001b[38;5;124m\"\u001b[39m\u001b[38;5;124mcolumns\u001b[39m\u001b[38;5;124m\"\u001b[39m: columns}, dtype\u001b[38;5;241m=\u001b[39mdtype, copy\u001b[38;5;241m=\u001b[39mcopy\n\u001b[1;32m    658\u001b[0m     )\n\u001b[1;32m    660\u001b[0m \u001b[38;5;28;01melif\u001b[39;00m \u001b[38;5;28misinstance\u001b[39m(data, \u001b[38;5;28mdict\u001b[39m):\n\u001b[1;32m    661\u001b[0m     \u001b[38;5;66;03m# GH#38939 de facto copy defaults to False only in non-dict cases\u001b[39;00m\n\u001b[0;32m--> 662\u001b[0m     mgr \u001b[38;5;241m=\u001b[39m \u001b[43mdict_to_mgr\u001b[49m\u001b[43m(\u001b[49m\u001b[43mdata\u001b[49m\u001b[43m,\u001b[49m\u001b[43m \u001b[49m\u001b[43mindex\u001b[49m\u001b[43m,\u001b[49m\u001b[43m \u001b[49m\u001b[43mcolumns\u001b[49m\u001b[43m,\u001b[49m\u001b[43m \u001b[49m\u001b[43mdtype\u001b[49m\u001b[38;5;241;43m=\u001b[39;49m\u001b[43mdtype\u001b[49m\u001b[43m,\u001b[49m\u001b[43m \u001b[49m\u001b[43mcopy\u001b[49m\u001b[38;5;241;43m=\u001b[39;49m\u001b[43mcopy\u001b[49m\u001b[43m,\u001b[49m\u001b[43m \u001b[49m\u001b[43mtyp\u001b[49m\u001b[38;5;241;43m=\u001b[39;49m\u001b[43mmanager\u001b[49m\u001b[43m)\u001b[49m\n\u001b[1;32m    663\u001b[0m \u001b[38;5;28;01melif\u001b[39;00m \u001b[38;5;28misinstance\u001b[39m(data, ma\u001b[38;5;241m.\u001b[39mMaskedArray):\n\u001b[1;32m    664\u001b[0m     \u001b[38;5;28;01mimport\u001b[39;00m \u001b[38;5;21;01mnumpy\u001b[39;00m\u001b[38;5;21;01m.\u001b[39;00m\u001b[38;5;21;01mma\u001b[39;00m\u001b[38;5;21;01m.\u001b[39;00m\u001b[38;5;21;01mmrecords\u001b[39;00m \u001b[38;5;28;01mas\u001b[39;00m \u001b[38;5;21;01mmrecords\u001b[39;00m\n",
      "File \u001b[0;32m/opt/homebrew/lib/python3.9/site-packages/pandas/core/internals/construction.py:493\u001b[0m, in \u001b[0;36mdict_to_mgr\u001b[0;34m(data, index, columns, dtype, typ, copy)\u001b[0m\n\u001b[1;32m    489\u001b[0m     \u001b[38;5;28;01melse\u001b[39;00m:\n\u001b[1;32m    490\u001b[0m         \u001b[38;5;66;03m# dtype check to exclude e.g. range objects, scalars\u001b[39;00m\n\u001b[1;32m    491\u001b[0m         arrays \u001b[38;5;241m=\u001b[39m [x\u001b[38;5;241m.\u001b[39mcopy() \u001b[38;5;28;01mif\u001b[39;00m \u001b[38;5;28mhasattr\u001b[39m(x, \u001b[38;5;124m\"\u001b[39m\u001b[38;5;124mdtype\u001b[39m\u001b[38;5;124m\"\u001b[39m) \u001b[38;5;28;01melse\u001b[39;00m x \u001b[38;5;28;01mfor\u001b[39;00m x \u001b[38;5;129;01min\u001b[39;00m arrays]\n\u001b[0;32m--> 493\u001b[0m \u001b[38;5;28;01mreturn\u001b[39;00m \u001b[43marrays_to_mgr\u001b[49m\u001b[43m(\u001b[49m\u001b[43marrays\u001b[49m\u001b[43m,\u001b[49m\u001b[43m \u001b[49m\u001b[43mcolumns\u001b[49m\u001b[43m,\u001b[49m\u001b[43m \u001b[49m\u001b[43mindex\u001b[49m\u001b[43m,\u001b[49m\u001b[43m \u001b[49m\u001b[43mdtype\u001b[49m\u001b[38;5;241;43m=\u001b[39;49m\u001b[43mdtype\u001b[49m\u001b[43m,\u001b[49m\u001b[43m \u001b[49m\u001b[43mtyp\u001b[49m\u001b[38;5;241;43m=\u001b[39;49m\u001b[43mtyp\u001b[49m\u001b[43m,\u001b[49m\u001b[43m \u001b[49m\u001b[43mconsolidate\u001b[49m\u001b[38;5;241;43m=\u001b[39;49m\u001b[43mcopy\u001b[49m\u001b[43m)\u001b[49m\n",
      "File \u001b[0;32m/opt/homebrew/lib/python3.9/site-packages/pandas/core/internals/construction.py:118\u001b[0m, in \u001b[0;36marrays_to_mgr\u001b[0;34m(arrays, columns, index, dtype, verify_integrity, typ, consolidate)\u001b[0m\n\u001b[1;32m    115\u001b[0m \u001b[38;5;28;01mif\u001b[39;00m verify_integrity:\n\u001b[1;32m    116\u001b[0m     \u001b[38;5;66;03m# figure out the index, if necessary\u001b[39;00m\n\u001b[1;32m    117\u001b[0m     \u001b[38;5;28;01mif\u001b[39;00m index \u001b[38;5;129;01mis\u001b[39;00m \u001b[38;5;28;01mNone\u001b[39;00m:\n\u001b[0;32m--> 118\u001b[0m         index \u001b[38;5;241m=\u001b[39m \u001b[43m_extract_index\u001b[49m\u001b[43m(\u001b[49m\u001b[43marrays\u001b[49m\u001b[43m)\u001b[49m\n\u001b[1;32m    119\u001b[0m     \u001b[38;5;28;01melse\u001b[39;00m:\n\u001b[1;32m    120\u001b[0m         index \u001b[38;5;241m=\u001b[39m ensure_index(index)\n",
      "File \u001b[0;32m/opt/homebrew/lib/python3.9/site-packages/pandas/core/internals/construction.py:653\u001b[0m, in \u001b[0;36m_extract_index\u001b[0;34m(data)\u001b[0m\n\u001b[1;32m    651\u001b[0m         raw_lengths\u001b[38;5;241m.\u001b[39mappend(\u001b[38;5;28mlen\u001b[39m(val))\n\u001b[1;32m    652\u001b[0m     \u001b[38;5;28;01melif\u001b[39;00m \u001b[38;5;28misinstance\u001b[39m(val, np\u001b[38;5;241m.\u001b[39mndarray) \u001b[38;5;129;01mand\u001b[39;00m val\u001b[38;5;241m.\u001b[39mndim \u001b[38;5;241m>\u001b[39m \u001b[38;5;241m1\u001b[39m:\n\u001b[0;32m--> 653\u001b[0m         \u001b[38;5;28;01mraise\u001b[39;00m \u001b[38;5;167;01mValueError\u001b[39;00m(\u001b[38;5;124m\"\u001b[39m\u001b[38;5;124mPer-column arrays must each be 1-dimensional\u001b[39m\u001b[38;5;124m\"\u001b[39m)\n\u001b[1;32m    655\u001b[0m \u001b[38;5;28;01mif\u001b[39;00m \u001b[38;5;129;01mnot\u001b[39;00m indexes \u001b[38;5;129;01mand\u001b[39;00m \u001b[38;5;129;01mnot\u001b[39;00m raw_lengths:\n\u001b[1;32m    656\u001b[0m     \u001b[38;5;28;01mraise\u001b[39;00m \u001b[38;5;167;01mValueError\u001b[39;00m(\u001b[38;5;124m\"\u001b[39m\u001b[38;5;124mIf using all scalar values, you must pass an index\u001b[39m\u001b[38;5;124m\"\u001b[39m)\n",
      "\u001b[0;31mValueError\u001b[0m: Per-column arrays must each be 1-dimensional"
     ]
    }
   ],
   "source": [
    "pred = pd.DataFrame({\n",
    "    'uu_id': pred.index,\n",
    "    'week_number': 39,\n",
    "    'total_claims': pred.to_numpy()\n",
    "})"
   ]
  },
  {
   "cell_type": "code",
   "execution_count": 17,
   "id": "fc86dadd",
   "metadata": {
    "execution": {
     "iopub.execute_input": "2023-05-10T01:49:53.339630Z",
     "iopub.status.busy": "2023-05-10T01:49:53.339519Z",
     "iopub.status.idle": "2023-05-10T01:49:53.539875Z",
     "shell.execute_reply": "2023-05-10T01:49:53.539614Z"
    }
   },
   "outputs": [
    {
     "ename": "AttributeError",
     "evalue": "'DataFrame' object has no attribute 'to_list'",
     "output_type": "error",
     "traceback": [
      "\u001b[0;31m---------------------------------------------------------------------------\u001b[0m",
      "\u001b[0;31mAttributeError\u001b[0m                            Traceback (most recent call last)",
      "Cell \u001b[0;32mIn [17], line 4\u001b[0m\n\u001b[1;32m      1\u001b[0m pred \u001b[38;5;241m=\u001b[39m pd\u001b[38;5;241m.\u001b[39mDataFrame({\n\u001b[1;32m      2\u001b[0m     \u001b[38;5;124m'\u001b[39m\u001b[38;5;124muu_id\u001b[39m\u001b[38;5;124m'\u001b[39m: pred\u001b[38;5;241m.\u001b[39mindex,\n\u001b[1;32m      3\u001b[0m     \u001b[38;5;124m'\u001b[39m\u001b[38;5;124mweek_number\u001b[39m\u001b[38;5;124m'\u001b[39m: \u001b[38;5;241m39\u001b[39m,\n\u001b[0;32m----> 4\u001b[0m     \u001b[38;5;124m'\u001b[39m\u001b[38;5;124mtotal_claims\u001b[39m\u001b[38;5;124m'\u001b[39m: \u001b[43mpred\u001b[49m\u001b[38;5;241;43m.\u001b[39;49m\u001b[43mto_list\u001b[49m()\n\u001b[1;32m      5\u001b[0m })\n",
      "File \u001b[0;32m/opt/homebrew/lib/python3.9/site-packages/pandas/core/generic.py:5902\u001b[0m, in \u001b[0;36mNDFrame.__getattr__\u001b[0;34m(self, name)\u001b[0m\n\u001b[1;32m   5895\u001b[0m \u001b[38;5;28;01mif\u001b[39;00m (\n\u001b[1;32m   5896\u001b[0m     name \u001b[38;5;129;01mnot\u001b[39;00m \u001b[38;5;129;01min\u001b[39;00m \u001b[38;5;28mself\u001b[39m\u001b[38;5;241m.\u001b[39m_internal_names_set\n\u001b[1;32m   5897\u001b[0m     \u001b[38;5;129;01mand\u001b[39;00m name \u001b[38;5;129;01mnot\u001b[39;00m \u001b[38;5;129;01min\u001b[39;00m \u001b[38;5;28mself\u001b[39m\u001b[38;5;241m.\u001b[39m_metadata\n\u001b[1;32m   5898\u001b[0m     \u001b[38;5;129;01mand\u001b[39;00m name \u001b[38;5;129;01mnot\u001b[39;00m \u001b[38;5;129;01min\u001b[39;00m \u001b[38;5;28mself\u001b[39m\u001b[38;5;241m.\u001b[39m_accessors\n\u001b[1;32m   5899\u001b[0m     \u001b[38;5;129;01mand\u001b[39;00m \u001b[38;5;28mself\u001b[39m\u001b[38;5;241m.\u001b[39m_info_axis\u001b[38;5;241m.\u001b[39m_can_hold_identifiers_and_holds_name(name)\n\u001b[1;32m   5900\u001b[0m ):\n\u001b[1;32m   5901\u001b[0m     \u001b[38;5;28;01mreturn\u001b[39;00m \u001b[38;5;28mself\u001b[39m[name]\n\u001b[0;32m-> 5902\u001b[0m \u001b[38;5;28;01mreturn\u001b[39;00m \u001b[38;5;28;43mobject\u001b[39;49m\u001b[38;5;241;43m.\u001b[39;49m\u001b[38;5;21;43m__getattribute__\u001b[39;49m\u001b[43m(\u001b[49m\u001b[38;5;28;43mself\u001b[39;49m\u001b[43m,\u001b[49m\u001b[43m \u001b[49m\u001b[43mname\u001b[49m\u001b[43m)\u001b[49m\n",
      "\u001b[0;31mAttributeError\u001b[0m: 'DataFrame' object has no attribute 'to_list'"
     ]
    }
   ],
   "source": [
    "pred = pd.DataFrame({\n",
    "    'uu_id': pred.index,\n",
    "    'week_number': 39,\n",
    "    'total_claims': pred.to_list()\n",
    "})"
   ]
  },
  {
   "cell_type": "code",
   "execution_count": 18,
   "id": "5dc76e84",
   "metadata": {
    "execution": {
     "iopub.execute_input": "2023-05-10T01:49:53.541402Z",
     "iopub.status.busy": "2023-05-10T01:49:53.541299Z",
     "iopub.status.idle": "2023-05-10T01:49:53.544826Z",
     "shell.execute_reply": "2023-05-10T01:49:53.544576Z"
    }
   },
   "outputs": [],
   "source": [
    "pred = unemploy.groupby('uu_id')['total_claims'].mean().apply(lambda x: int(x))"
   ]
  },
  {
   "cell_type": "code",
   "execution_count": 19,
   "id": "7027f387",
   "metadata": {
    "execution": {
     "iopub.execute_input": "2023-05-10T01:49:53.546189Z",
     "iopub.status.busy": "2023-05-10T01:49:53.546109Z",
     "iopub.status.idle": "2023-05-10T01:49:53.831540Z",
     "shell.execute_reply": "2023-05-10T01:49:53.831252Z"
    }
   },
   "outputs": [],
   "source": [
    "pred = unemploy.groupby('uu_id').apply(lambda x: x.sort_values('week_number')['total_claims'].ewm(alpha=1/3).mean().to_numpy()[-1])"
   ]
  },
  {
   "cell_type": "code",
   "execution_count": 20,
   "id": "49a10251",
   "metadata": {
    "execution": {
     "iopub.execute_input": "2023-05-10T01:49:53.833413Z",
     "iopub.status.busy": "2023-05-10T01:49:53.833311Z",
     "iopub.status.idle": "2023-05-10T01:49:53.835768Z",
     "shell.execute_reply": "2023-05-10T01:49:53.835527Z"
    }
   },
   "outputs": [],
   "source": [
    "pred = pred[sub['uu_id'].to_list()]"
   ]
  },
  {
   "cell_type": "code",
   "execution_count": 21,
   "id": "fea925b9",
   "metadata": {
    "execution": {
     "iopub.execute_input": "2023-05-10T01:49:53.837127Z",
     "iopub.status.busy": "2023-05-10T01:49:53.837024Z",
     "iopub.status.idle": "2023-05-10T01:49:53.838863Z",
     "shell.execute_reply": "2023-05-10T01:49:53.838641Z"
    }
   },
   "outputs": [],
   "source": [
    "pred = pd.DataFrame({\n",
    "    'uu_id': pred.index,\n",
    "    'week_number': 39,\n",
    "    'total_claims': pred.to_numpy()\n",
    "})"
   ]
  },
  {
   "cell_type": "code",
   "execution_count": 22,
   "id": "c481ae6a",
   "metadata": {
    "execution": {
     "iopub.execute_input": "2023-05-10T01:49:53.840293Z",
     "iopub.status.busy": "2023-05-10T01:49:53.840183Z",
     "iopub.status.idle": "2023-05-10T01:49:53.843517Z",
     "shell.execute_reply": "2023-05-10T01:49:53.843265Z"
    }
   },
   "outputs": [],
   "source": [
    "pred = unemploy.groupby('uu_id')['total_claims'].mean().apply(lambda x: int(x))"
   ]
  },
  {
   "cell_type": "code",
   "execution_count": 23,
   "id": "635d1a17",
   "metadata": {
    "execution": {
     "iopub.execute_input": "2023-05-10T01:49:53.844876Z",
     "iopub.status.busy": "2023-05-10T01:49:53.844794Z",
     "iopub.status.idle": "2023-05-10T01:49:54.128687Z",
     "shell.execute_reply": "2023-05-10T01:49:54.128391Z"
    }
   },
   "outputs": [],
   "source": [
    "pred = unemploy.groupby('uu_id').apply(lambda x: x.sort_values('week_number')['total_claims'].ewm(alpha=1/3).mean().to_numpy()[-1])"
   ]
  },
  {
   "cell_type": "code",
   "execution_count": 24,
   "id": "57ec4e58",
   "metadata": {
    "execution": {
     "iopub.execute_input": "2023-05-10T01:49:54.130342Z",
     "iopub.status.busy": "2023-05-10T01:49:54.130245Z",
     "iopub.status.idle": "2023-05-10T01:49:54.132509Z",
     "shell.execute_reply": "2023-05-10T01:49:54.132277Z"
    }
   },
   "outputs": [],
   "source": [
    "pred = pred[sub['uu_id'].to_list()]"
   ]
  },
  {
   "cell_type": "code",
   "execution_count": 25,
   "id": "b0e1fc0f",
   "metadata": {
    "execution": {
     "iopub.execute_input": "2023-05-10T01:49:54.133868Z",
     "iopub.status.busy": "2023-05-10T01:49:54.133780Z",
     "iopub.status.idle": "2023-05-10T01:49:54.140858Z",
     "shell.execute_reply": "2023-05-10T01:49:54.140597Z"
    }
   },
   "outputs": [
    {
     "ename": "AttributeError",
     "evalue": "'numpy.ndarray' object has no attribute 'as_type'",
     "output_type": "error",
     "traceback": [
      "\u001b[0;31m---------------------------------------------------------------------------\u001b[0m",
      "\u001b[0;31mAttributeError\u001b[0m                            Traceback (most recent call last)",
      "Cell \u001b[0;32mIn [25], line 4\u001b[0m\n\u001b[1;32m      1\u001b[0m df \u001b[38;5;241m=\u001b[39m pd\u001b[38;5;241m.\u001b[39mDataFrame({\n\u001b[1;32m      2\u001b[0m     \u001b[38;5;124m'\u001b[39m\u001b[38;5;124muu_id\u001b[39m\u001b[38;5;124m'\u001b[39m: pred\u001b[38;5;241m.\u001b[39mindex,\n\u001b[1;32m      3\u001b[0m     \u001b[38;5;124m'\u001b[39m\u001b[38;5;124mweek_number\u001b[39m\u001b[38;5;124m'\u001b[39m: \u001b[38;5;241m39\u001b[39m,\n\u001b[0;32m----> 4\u001b[0m     \u001b[38;5;124m'\u001b[39m\u001b[38;5;124mtotal_claims\u001b[39m\u001b[38;5;124m'\u001b[39m: \u001b[43mpred\u001b[49m\u001b[38;5;241;43m.\u001b[39;49m\u001b[43mto_numpy\u001b[49m\u001b[43m(\u001b[49m\u001b[43m)\u001b[49m\u001b[38;5;241;43m.\u001b[39;49m\u001b[43mas_type\u001b[49m(np\u001b[38;5;241m.\u001b[39mint)\n\u001b[1;32m      5\u001b[0m })\n",
      "\u001b[0;31mAttributeError\u001b[0m: 'numpy.ndarray' object has no attribute 'as_type'"
     ]
    }
   ],
   "source": [
    "df = pd.DataFrame({\n",
    "    'uu_id': pred.index,\n",
    "    'week_number': 39,\n",
    "    'total_claims': pred.to_numpy().as_type(np.int)\n",
    "})"
   ]
  },
  {
   "cell_type": "code",
   "execution_count": 26,
   "id": "1f731f7a",
   "metadata": {
    "execution": {
     "iopub.execute_input": "2023-05-10T01:49:54.142286Z",
     "iopub.status.busy": "2023-05-10T01:49:54.142200Z",
     "iopub.status.idle": "2023-05-10T01:49:54.144439Z",
     "shell.execute_reply": "2023-05-10T01:49:54.144209Z"
    }
   },
   "outputs": [
    {
     "name": "stderr",
     "output_type": "stream",
     "text": [
      "/var/folders/l2/cnhff0_n1470l4xf0p7v7l_40000gn/T/ipykernel_16974/165098964.py:4: DeprecationWarning: `np.int` is a deprecated alias for the builtin `int`. To silence this warning, use `int` by itself. Doing this will not modify any behavior and is safe. When replacing `np.int`, you may wish to use e.g. `np.int64` or `np.int32` to specify the precision. If you wish to review your current use, check the release note link for additional information.\n",
      "Deprecated in NumPy 1.20; for more details and guidance: https://numpy.org/devdocs/release/1.20.0-notes.html#deprecations\n",
      "  'total_claims': pred.to_numpy().astype(np.int)\n"
     ]
    }
   ],
   "source": [
    "df = pd.DataFrame({\n",
    "    'uu_id': pred.index,\n",
    "    'week_number': 39,\n",
    "    'total_claims': pred.to_numpy().astype(np.int)\n",
    "})"
   ]
  },
  {
   "cell_type": "code",
   "execution_count": 27,
   "id": "b80b5f90",
   "metadata": {
    "execution": {
     "iopub.execute_input": "2023-05-10T01:49:54.145804Z",
     "iopub.status.busy": "2023-05-10T01:49:54.145704Z",
     "iopub.status.idle": "2023-05-10T01:49:54.147619Z",
     "shell.execute_reply": "2023-05-10T01:49:54.147362Z"
    }
   },
   "outputs": [],
   "source": [
    "df = pd.DataFrame({\n",
    "    'uu_id': pred.index,\n",
    "    'week_number': 39,\n",
    "    'total_claims': pred.to_numpy().astype(np.int32)\n",
    "})"
   ]
  },
  {
   "cell_type": "code",
   "execution_count": 28,
   "id": "b06b1ef5",
   "metadata": {
    "execution": {
     "iopub.execute_input": "2023-05-10T01:49:54.148983Z",
     "iopub.status.busy": "2023-05-10T01:49:54.148878Z",
     "iopub.status.idle": "2023-05-10T01:49:54.152608Z",
     "shell.execute_reply": "2023-05-10T01:49:54.152362Z"
    }
   },
   "outputs": [
    {
     "data": {
      "text/html": [
       "<div>\n",
       "<style scoped>\n",
       "    .dataframe tbody tr th:only-of-type {\n",
       "        vertical-align: middle;\n",
       "    }\n",
       "\n",
       "    .dataframe tbody tr th {\n",
       "        vertical-align: top;\n",
       "    }\n",
       "\n",
       "    .dataframe thead th {\n",
       "        text-align: right;\n",
       "    }\n",
       "</style>\n",
       "<table border=\"1\" class=\"dataframe\">\n",
       "  <thead>\n",
       "    <tr style=\"text-align: right;\">\n",
       "      <th></th>\n",
       "      <th>uu_id</th>\n",
       "      <th>week_number</th>\n",
       "      <th>total_claims</th>\n",
       "    </tr>\n",
       "  </thead>\n",
       "  <tbody>\n",
       "    <tr>\n",
       "      <th>0</th>\n",
       "      <td>5bf51fc2e162d6faf9e3cf79e4198378</td>\n",
       "      <td>39</td>\n",
       "      <td>17</td>\n",
       "    </tr>\n",
       "    <tr>\n",
       "      <th>1</th>\n",
       "      <td>420b44cc7e3f55d738df565421e59941</td>\n",
       "      <td>39</td>\n",
       "      <td>12</td>\n",
       "    </tr>\n",
       "    <tr>\n",
       "      <th>2</th>\n",
       "      <td>e39c66ecceec76ee8f9f811fa4a2d246</td>\n",
       "      <td>39</td>\n",
       "      <td>11</td>\n",
       "    </tr>\n",
       "    <tr>\n",
       "      <th>3</th>\n",
       "      <td>a90462cd11ae4e43144239bf7c4828a4</td>\n",
       "      <td>39</td>\n",
       "      <td>15</td>\n",
       "    </tr>\n",
       "    <tr>\n",
       "      <th>4</th>\n",
       "      <td>8b20a6749088c7ff1237983076ebfeaa</td>\n",
       "      <td>39</td>\n",
       "      <td>12</td>\n",
       "    </tr>\n",
       "    <tr>\n",
       "      <th>...</th>\n",
       "      <td>...</td>\n",
       "      <td>...</td>\n",
       "      <td>...</td>\n",
       "    </tr>\n",
       "    <tr>\n",
       "      <th>520</th>\n",
       "      <td>46c4f6c75e663b1ca82ea7994e6d83d3</td>\n",
       "      <td>39</td>\n",
       "      <td>40</td>\n",
       "    </tr>\n",
       "    <tr>\n",
       "      <th>521</th>\n",
       "      <td>1deebda501712e7595b531b8337bc31a</td>\n",
       "      <td>39</td>\n",
       "      <td>24</td>\n",
       "    </tr>\n",
       "    <tr>\n",
       "      <th>522</th>\n",
       "      <td>5a9758f65f001b6432ff31ff64a459d7</td>\n",
       "      <td>39</td>\n",
       "      <td>14</td>\n",
       "    </tr>\n",
       "    <tr>\n",
       "      <th>523</th>\n",
       "      <td>e8b3b95e93a6dc7dbb90f4e72e7ac065</td>\n",
       "      <td>39</td>\n",
       "      <td>13</td>\n",
       "    </tr>\n",
       "    <tr>\n",
       "      <th>524</th>\n",
       "      <td>932a58530abff8a48558e2a15639d453</td>\n",
       "      <td>39</td>\n",
       "      <td>21</td>\n",
       "    </tr>\n",
       "  </tbody>\n",
       "</table>\n",
       "<p>525 rows × 3 columns</p>\n",
       "</div>"
      ],
      "text/plain": [
       "                                uu_id  week_number  total_claims\n",
       "0    5bf51fc2e162d6faf9e3cf79e4198378           39            17\n",
       "1    420b44cc7e3f55d738df565421e59941           39            12\n",
       "2    e39c66ecceec76ee8f9f811fa4a2d246           39            11\n",
       "3    a90462cd11ae4e43144239bf7c4828a4           39            15\n",
       "4    8b20a6749088c7ff1237983076ebfeaa           39            12\n",
       "..                                ...          ...           ...\n",
       "520  46c4f6c75e663b1ca82ea7994e6d83d3           39            40\n",
       "521  1deebda501712e7595b531b8337bc31a           39            24\n",
       "522  5a9758f65f001b6432ff31ff64a459d7           39            14\n",
       "523  e8b3b95e93a6dc7dbb90f4e72e7ac065           39            13\n",
       "524  932a58530abff8a48558e2a15639d453           39            21\n",
       "\n",
       "[525 rows x 3 columns]"
      ]
     },
     "execution_count": 28,
     "metadata": {},
     "output_type": "execute_result"
    }
   ],
   "source": [
    "df"
   ]
  },
  {
   "cell_type": "code",
   "execution_count": 29,
   "id": "63ac8e44",
   "metadata": {
    "execution": {
     "iopub.execute_input": "2023-05-10T01:49:54.154003Z",
     "iopub.status.busy": "2023-05-10T01:49:54.153914Z",
     "iopub.status.idle": "2023-05-10T01:49:54.156556Z",
     "shell.execute_reply": "2023-05-10T01:49:54.156292Z"
    }
   },
   "outputs": [],
   "source": [
    "pred.to_csv('submission_prediction_output.csv', index=False)"
   ]
  },
  {
   "cell_type": "code",
   "execution_count": 30,
   "id": "e5aa9cbf",
   "metadata": {
    "execution": {
     "iopub.execute_input": "2023-05-10T01:49:54.157849Z",
     "iopub.status.busy": "2023-05-10T01:49:54.157754Z",
     "iopub.status.idle": "2023-05-10T01:49:54.160278Z",
     "shell.execute_reply": "2023-05-10T01:49:54.160051Z"
    },
    "lines_to_next_cell": 2
   },
   "outputs": [],
   "source": [
    "df.to_csv('submission_prediction_output.csv', index=False)"
   ]
  }
 ],
 "metadata": {
  "jupytext": {
   "cell_metadata_filter": "-all",
   "main_language": "python",
   "notebook_metadata_filter": "-all"
  },
  "language_info": {
   "codemirror_mode": {
    "name": "ipython",
    "version": 3
   },
   "file_extension": ".py",
   "mimetype": "text/x-python",
   "name": "python",
   "nbconvert_exporter": "python",
   "pygments_lexer": "ipython3",
   "version": "3.9.12"
  }
 },
 "nbformat": 4,
 "nbformat_minor": 5
}
