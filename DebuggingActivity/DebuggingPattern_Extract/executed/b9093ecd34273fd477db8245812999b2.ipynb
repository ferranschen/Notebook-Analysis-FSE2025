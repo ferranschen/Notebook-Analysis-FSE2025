{
 "cells": [
  {
   "cell_type": "code",
   "execution_count": 1,
   "id": "d7f72aa0",
   "metadata": {
    "execution": {
     "iopub.execute_input": "2023-05-10T01:14:22.639145Z",
     "iopub.status.busy": "2023-05-10T01:14:22.638886Z",
     "iopub.status.idle": "2023-05-10T01:14:22.651433Z",
     "shell.execute_reply": "2023-05-10T01:14:22.651082Z"
    }
   },
   "outputs": [],
   "source": [
    "get_ipython().run_cell_magic('capture', '', \"%logstop\\n%logstart -t -r -q ipython_command_log.py global\\n\\n#- IRONHACKS RESEARCH TRACKING CODE\\n#----------------------------------\\n# The following code is used to help our research team understand how you \\n# our notebook environment. We do not collect any personal information with\\n# the following code, it is used to measure when and how often you work on\\n# your submission files.\\n\\nimport os\\nfrom datetime import datetime\\nimport IPython.core.history as history\\n\\nha = history.HistoryAccessor()\\nha_tail = ha.get_tail(1)\\nha_cmd = next(ha_tail)\\nsession_id = str(ha_cmd[0])\\ncommand_id = str(ha_cmd[1])\\ntimestamp = datetime.utcnow().isoformat()\\nhistory_line = ','.join([session_id, command_id, timestamp]) + '\\\\n'\\nlogfile = open(os.environ['HOME']+'/ipython_session_log.csv', 'a')\\nlogfile.write(history_line)\\nlogfile.close()\\n\")"
   ]
  },
  {
   "cell_type": "code",
   "execution_count": 2,
   "id": "904d42c3",
   "metadata": {
    "execution": {
     "iopub.execute_input": "2023-05-10T01:14:22.653617Z",
     "iopub.status.busy": "2023-05-10T01:14:22.653453Z",
     "iopub.status.idle": "2023-05-10T01:14:23.834215Z",
     "shell.execute_reply": "2023-05-10T01:14:23.833507Z"
    }
   },
   "outputs": [],
   "source": [
    "get_ipython().run_cell_magic('capture', '', \"\\n#- INSTALL ADDITIONAL LIBRARIES IF REQUIRED\\n#------------------------------------------\\n# This is normally not required. The hub environment comes preinstaled with \\n# many packages that you can already use without setup. In case there is some\\n# other library you would like to use that isn't on the list you run this command\\n# once to install them.  If it is already installed this command has no effect.\\n\\n!python3 -m pip install pandas\\n\")"
   ]
  },
  {
   "cell_type": "markdown",
   "id": "d2f5a9ee",
   "metadata": {},
   "source": [
    "- IMPORT THE LIBRARIES YOU WILL USE\n",
    "------------------------------------------\n",
    "You only need to import packages one time per notebook session. To keep your\n",
    "notebook clean and organized you can handle all imports at the top of your file.\n",
    "The following are included for example purposed, feel free to modify or delete \n",
    "anything in this section."
   ]
  },
  {
   "cell_type": "code",
   "execution_count": 3,
   "id": "f7bb8716",
   "metadata": {
    "execution": {
     "iopub.execute_input": "2023-05-10T01:14:23.837219Z",
     "iopub.status.busy": "2023-05-10T01:14:23.836985Z",
     "iopub.status.idle": "2023-05-10T01:14:24.235011Z",
     "shell.execute_reply": "2023-05-10T01:14:24.234699Z"
    },
    "lines_to_next_cell": 1
   },
   "outputs": [],
   "source": [
    "import csv\n",
    "import pandas as pd\n",
    "import numpy as np\n",
    "from google.cloud import bigquery\n",
    "from google.oauth2 import service_account\n",
    "from google.cloud.bigquery import magics"
   ]
  },
  {
   "cell_type": "markdown",
   "id": "2b897bbb",
   "metadata": {},
   "source": [
    "- DEFINE YOUR CLASSES AND FUNCTIONS \n",
    "-----------------------------------\n",
    "This is not required, but is helpful in keeping your notebook organized. \n",
    "You can use the following cell or several cells to define your functions\n",
    "and classes to keep them separate from your analysis or results code.\n",
    "In general it useful to define your methods in a separate cell from where\n",
    "it is run."
   ]
  },
  {
   "cell_type": "code",
   "execution_count": 4,
   "id": "8a731671",
   "metadata": {
    "execution": {
     "iopub.execute_input": "2023-05-10T01:14:24.236749Z",
     "iopub.status.busy": "2023-05-10T01:14:24.236601Z",
     "iopub.status.idle": "2023-05-10T01:14:24.238453Z",
     "shell.execute_reply": "2023-05-10T01:14:24.238200Z"
    },
    "lines_to_next_cell": 1
   },
   "outputs": [],
   "source": [
    "def example_function():\n",
    "    print('Hello World')"
   ]
  },
  {
   "cell_type": "code",
   "execution_count": 5,
   "id": "846ec40f",
   "metadata": {
    "execution": {
     "iopub.execute_input": "2023-05-10T01:14:24.239821Z",
     "iopub.status.busy": "2023-05-10T01:14:24.239741Z",
     "iopub.status.idle": "2023-05-10T01:14:24.246645Z",
     "shell.execute_reply": "2023-05-10T01:14:24.246330Z"
    },
    "lines_to_next_cell": 1
   },
   "outputs": [],
   "source": [
    "BIGQUERY_PROJECT = 'ironhacks-data'\n",
    "bigquery_client = bigquery.Client(project=BIGQUERY_PROJECT)"
   ]
  },
  {
   "cell_type": "code",
   "execution_count": 6,
   "id": "692a5cce",
   "metadata": {
    "execution": {
     "iopub.execute_input": "2023-05-10T01:14:24.248245Z",
     "iopub.status.busy": "2023-05-10T01:14:24.248157Z",
     "iopub.status.idle": "2023-05-10T01:14:24.250279Z",
     "shell.execute_reply": "2023-05-10T01:14:24.250060Z"
    },
    "lines_to_next_cell": 1
   },
   "outputs": [],
   "source": [
    "def get_data(table_name):\n",
    "    query = f\"\"\"\n",
    "    SELECT *\n",
    "    FROM `ironhacks-data.ironhacks_competition.{table_name}`\n",
    "    \"\"\"\n",
    "\n",
    "    # QUERY THE DATA ONCE\n",
    "    query_job = bigquery_client.query(query)\n",
    "    return query_job.to_dataframe()"
   ]
  },
  {
   "cell_type": "code",
   "execution_count": 7,
   "id": "9a2bdc2d",
   "metadata": {
    "execution": {
     "iopub.execute_input": "2023-05-10T01:14:24.251653Z",
     "iopub.status.busy": "2023-05-10T01:14:24.251576Z",
     "iopub.status.idle": "2023-05-10T01:14:25.848820Z",
     "shell.execute_reply": "2023-05-10T01:14:25.848064Z"
    }
   },
   "outputs": [],
   "source": [
    "unemploy = get_data('unemployment_data')"
   ]
  },
  {
   "cell_type": "code",
   "execution_count": 8,
   "id": "bf110513",
   "metadata": {
    "execution": {
     "iopub.execute_input": "2023-05-10T01:14:25.852919Z",
     "iopub.status.busy": "2023-05-10T01:14:25.852590Z",
     "iopub.status.idle": "2023-05-10T01:14:27.372412Z",
     "shell.execute_reply": "2023-05-10T01:14:27.370712Z"
    }
   },
   "outputs": [],
   "source": [
    "wage = get_data('wage_data')"
   ]
  },
  {
   "cell_type": "code",
   "execution_count": 9,
   "id": "4970b3ee",
   "metadata": {
    "execution": {
     "iopub.execute_input": "2023-05-10T01:14:27.379994Z",
     "iopub.status.busy": "2023-05-10T01:14:27.379213Z",
     "iopub.status.idle": "2023-05-10T01:14:28.754499Z",
     "shell.execute_reply": "2023-05-10T01:14:28.752668Z"
    }
   },
   "outputs": [],
   "source": [
    "sub = get_data('prediction_list')"
   ]
  },
  {
   "cell_type": "code",
   "execution_count": 10,
   "id": "26a8af1f",
   "metadata": {
    "execution": {
     "iopub.execute_input": "2023-05-10T01:14:28.762919Z",
     "iopub.status.busy": "2023-05-10T01:14:28.761545Z",
     "iopub.status.idle": "2023-05-10T01:14:28.776172Z",
     "shell.execute_reply": "2023-05-10T01:14:28.774823Z"
    }
   },
   "outputs": [],
   "source": [
    "pred = unemploy.groupby('uu_id')['total_claims'].mean().apply(lambda x: int(x))"
   ]
  },
  {
   "cell_type": "code",
   "execution_count": 11,
   "id": "9acb2c0e",
   "metadata": {
    "execution": {
     "iopub.execute_input": "2023-05-10T01:14:28.781211Z",
     "iopub.status.busy": "2023-05-10T01:14:28.780826Z",
     "iopub.status.idle": "2023-05-10T01:14:29.313281Z",
     "shell.execute_reply": "2023-05-10T01:14:29.312945Z"
    }
   },
   "outputs": [],
   "source": [
    "pred = unemploy.groupby('uu_id').apply(lambda x: x.sort_values('week_number').drop_duplicates('week_number')['total_claims'].ewm(alpha=1/3).mean().to_numpy()[-1])"
   ]
  },
  {
   "cell_type": "code",
   "execution_count": 12,
   "id": "90d24614",
   "metadata": {
    "execution": {
     "iopub.execute_input": "2023-05-10T01:14:29.314926Z",
     "iopub.status.busy": "2023-05-10T01:14:29.314840Z",
     "iopub.status.idle": "2023-05-10T01:14:29.317199Z",
     "shell.execute_reply": "2023-05-10T01:14:29.316998Z"
    }
   },
   "outputs": [],
   "source": [
    "pred = pred[sub['uu_id'].to_list()]"
   ]
  },
  {
   "cell_type": "code",
   "execution_count": 13,
   "id": "bb45060f",
   "metadata": {
    "execution": {
     "iopub.execute_input": "2023-05-10T01:14:29.318487Z",
     "iopub.status.busy": "2023-05-10T01:14:29.318412Z",
     "iopub.status.idle": "2023-05-10T01:14:29.320613Z",
     "shell.execute_reply": "2023-05-10T01:14:29.320358Z"
    }
   },
   "outputs": [],
   "source": [
    "df = pd.DataFrame({\n",
    "    'uu_id': pred.index,\n",
    "    'week_number': 39,\n",
    "    'total_claims': pred.to_numpy().astype(np.int32)\n",
    "})"
   ]
  },
  {
   "cell_type": "code",
   "execution_count": 14,
   "id": "59530d5a",
   "metadata": {
    "execution": {
     "iopub.execute_input": "2023-05-10T01:14:29.322008Z",
     "iopub.status.busy": "2023-05-10T01:14:29.321926Z",
     "iopub.status.idle": "2023-05-10T01:14:29.328347Z",
     "shell.execute_reply": "2023-05-10T01:14:29.328097Z"
    }
   },
   "outputs": [
    {
     "data": {
      "text/html": [
       "<div>\n",
       "<style scoped>\n",
       "    .dataframe tbody tr th:only-of-type {\n",
       "        vertical-align: middle;\n",
       "    }\n",
       "\n",
       "    .dataframe tbody tr th {\n",
       "        vertical-align: top;\n",
       "    }\n",
       "\n",
       "    .dataframe thead th {\n",
       "        text-align: right;\n",
       "    }\n",
       "</style>\n",
       "<table border=\"1\" class=\"dataframe\">\n",
       "  <thead>\n",
       "    <tr style=\"text-align: right;\">\n",
       "      <th></th>\n",
       "      <th>uu_id</th>\n",
       "      <th>week_number</th>\n",
       "      <th>total_claims</th>\n",
       "    </tr>\n",
       "  </thead>\n",
       "  <tbody>\n",
       "    <tr>\n",
       "      <th>0</th>\n",
       "      <td>5bf51fc2e162d6faf9e3cf79e4198378</td>\n",
       "      <td>39</td>\n",
       "      <td>16</td>\n",
       "    </tr>\n",
       "    <tr>\n",
       "      <th>1</th>\n",
       "      <td>420b44cc7e3f55d738df565421e59941</td>\n",
       "      <td>39</td>\n",
       "      <td>12</td>\n",
       "    </tr>\n",
       "    <tr>\n",
       "      <th>2</th>\n",
       "      <td>e39c66ecceec76ee8f9f811fa4a2d246</td>\n",
       "      <td>39</td>\n",
       "      <td>12</td>\n",
       "    </tr>\n",
       "    <tr>\n",
       "      <th>3</th>\n",
       "      <td>a90462cd11ae4e43144239bf7c4828a4</td>\n",
       "      <td>39</td>\n",
       "      <td>15</td>\n",
       "    </tr>\n",
       "    <tr>\n",
       "      <th>4</th>\n",
       "      <td>8b20a6749088c7ff1237983076ebfeaa</td>\n",
       "      <td>39</td>\n",
       "      <td>13</td>\n",
       "    </tr>\n",
       "    <tr>\n",
       "      <th>...</th>\n",
       "      <td>...</td>\n",
       "      <td>...</td>\n",
       "      <td>...</td>\n",
       "    </tr>\n",
       "    <tr>\n",
       "      <th>520</th>\n",
       "      <td>46c4f6c75e663b1ca82ea7994e6d83d3</td>\n",
       "      <td>39</td>\n",
       "      <td>37</td>\n",
       "    </tr>\n",
       "    <tr>\n",
       "      <th>521</th>\n",
       "      <td>1deebda501712e7595b531b8337bc31a</td>\n",
       "      <td>39</td>\n",
       "      <td>22</td>\n",
       "    </tr>\n",
       "    <tr>\n",
       "      <th>522</th>\n",
       "      <td>5a9758f65f001b6432ff31ff64a459d7</td>\n",
       "      <td>39</td>\n",
       "      <td>14</td>\n",
       "    </tr>\n",
       "    <tr>\n",
       "      <th>523</th>\n",
       "      <td>e8b3b95e93a6dc7dbb90f4e72e7ac065</td>\n",
       "      <td>39</td>\n",
       "      <td>13</td>\n",
       "    </tr>\n",
       "    <tr>\n",
       "      <th>524</th>\n",
       "      <td>932a58530abff8a48558e2a15639d453</td>\n",
       "      <td>39</td>\n",
       "      <td>19</td>\n",
       "    </tr>\n",
       "  </tbody>\n",
       "</table>\n",
       "<p>525 rows × 3 columns</p>\n",
       "</div>"
      ],
      "text/plain": [
       "                                uu_id  week_number  total_claims\n",
       "0    5bf51fc2e162d6faf9e3cf79e4198378           39            16\n",
       "1    420b44cc7e3f55d738df565421e59941           39            12\n",
       "2    e39c66ecceec76ee8f9f811fa4a2d246           39            12\n",
       "3    a90462cd11ae4e43144239bf7c4828a4           39            15\n",
       "4    8b20a6749088c7ff1237983076ebfeaa           39            13\n",
       "..                                ...          ...           ...\n",
       "520  46c4f6c75e663b1ca82ea7994e6d83d3           39            37\n",
       "521  1deebda501712e7595b531b8337bc31a           39            22\n",
       "522  5a9758f65f001b6432ff31ff64a459d7           39            14\n",
       "523  e8b3b95e93a6dc7dbb90f4e72e7ac065           39            13\n",
       "524  932a58530abff8a48558e2a15639d453           39            19\n",
       "\n",
       "[525 rows x 3 columns]"
      ]
     },
     "execution_count": 14,
     "metadata": {},
     "output_type": "execute_result"
    }
   ],
   "source": [
    "df"
   ]
  },
  {
   "cell_type": "code",
   "execution_count": 15,
   "id": "0b1015eb",
   "metadata": {
    "execution": {
     "iopub.execute_input": "2023-05-10T01:14:29.329774Z",
     "iopub.status.busy": "2023-05-10T01:14:29.329690Z",
     "iopub.status.idle": "2023-05-10T01:14:29.332943Z",
     "shell.execute_reply": "2023-05-10T01:14:29.332718Z"
    },
    "lines_to_next_cell": 2
   },
   "outputs": [],
   "source": [
    "df.to_csv('submission_prediction_output.csv', index=False)"
   ]
  }
 ],
 "metadata": {
  "jupytext": {
   "cell_metadata_filter": "-all",
   "main_language": "python",
   "notebook_metadata_filter": "-all"
  },
  "language_info": {
   "codemirror_mode": {
    "name": "ipython",
    "version": 3
   },
   "file_extension": ".py",
   "mimetype": "text/x-python",
   "name": "python",
   "nbconvert_exporter": "python",
   "pygments_lexer": "ipython3",
   "version": "3.9.12"
  }
 },
 "nbformat": 4,
 "nbformat_minor": 5
}
