{
 "cells": [
  {
   "cell_type": "code",
   "execution_count": 1,
   "id": "b2e9cdf7",
   "metadata": {
    "execution": {
     "iopub.execute_input": "2023-05-10T00:31:38.423675Z",
     "iopub.status.busy": "2023-05-10T00:31:38.423559Z",
     "iopub.status.idle": "2023-05-10T00:31:38.432328Z",
     "shell.execute_reply": "2023-05-10T00:31:38.432038Z"
    }
   },
   "outputs": [],
   "source": [
    "get_ipython().run_cell_magic('capture', '', \"%logstop\\n%logstart -t -r -q ipython_command_log.py global\\n\\n#- IRONHACKS RESEARCH TRACKING CODE\\n#----------------------------------\\n# The following code is used to help our research team understand how you \\n# our notebook environment. We do not collect any personal information with\\n# the following code, it is used to measure when and how often you work on\\n# your submission files.\\n\\nimport os\\nfrom datetime import datetime\\nimport IPython.core.history as history\\n\\nha = history.HistoryAccessor()\\nha_tail = ha.get_tail(1)\\nha_cmd = next(ha_tail)\\nsession_id = str(ha_cmd[0])\\ncommand_id = str(ha_cmd[1])\\ntimestamp = datetime.utcnow().isoformat()\\nhistory_line = ','.join([session_id, command_id, timestamp]) + '\\\\n'\\nlogfile = open(os.environ['HOME']+'/ipython_session_log.csv', 'a')\\nlogfile.write(history_line)\\nlogfile.close()\\n\")"
   ]
  },
  {
   "cell_type": "code",
   "execution_count": 2,
   "id": "806367ec",
   "metadata": {
    "execution": {
     "iopub.execute_input": "2023-05-10T00:31:38.433974Z",
     "iopub.status.busy": "2023-05-10T00:31:38.433889Z",
     "iopub.status.idle": "2023-05-10T00:31:38.826040Z",
     "shell.execute_reply": "2023-05-10T00:31:38.825772Z"
    }
   },
   "outputs": [],
   "source": [
    "import os\n",
    "import pandas\n",
    "from google.cloud import bigquery\n",
    "from google.oauth2 import service_account\n",
    "from google.cloud.bigquery import magics"
   ]
  },
  {
   "cell_type": "code",
   "execution_count": 3,
   "id": "2c8513a9",
   "metadata": {
    "execution": {
     "iopub.execute_input": "2023-05-10T00:31:38.827711Z",
     "iopub.status.busy": "2023-05-10T00:31:38.827583Z",
     "iopub.status.idle": "2023-05-10T00:31:38.834300Z",
     "shell.execute_reply": "2023-05-10T00:31:38.833995Z"
    }
   },
   "outputs": [],
   "source": [
    "BIGQUERY_PROJECT = 'ironhacks-data'\n",
    "bigquery_client = bigquery.Client(project=BIGQUERY_PROJECT)"
   ]
  },
  {
   "cell_type": "code",
   "execution_count": 4,
   "id": "c08cb9c7",
   "metadata": {
    "execution": {
     "iopub.execute_input": "2023-05-10T00:31:38.835945Z",
     "iopub.status.busy": "2023-05-10T00:31:38.835850Z",
     "iopub.status.idle": "2023-05-10T00:31:38.837768Z",
     "shell.execute_reply": "2023-05-10T00:31:38.837553Z"
    }
   },
   "outputs": [],
   "source": [
    "query = \"\"\"\n",
    "SELECT *\n",
    "FROM `ironhacks-data.ironhacks_competition.unemployment_data`\n",
    "\"\"\""
   ]
  },
  {
   "cell_type": "code",
   "execution_count": 5,
   "id": "0c479d6a",
   "metadata": {
    "execution": {
     "iopub.execute_input": "2023-05-10T00:31:38.839109Z",
     "iopub.status.busy": "2023-05-10T00:31:38.839031Z",
     "iopub.status.idle": "2023-05-10T00:31:41.197967Z",
     "shell.execute_reply": "2023-05-10T00:31:41.197484Z"
    }
   },
   "outputs": [
    {
     "data": {
      "text/html": [
       "<div>\n",
       "<style scoped>\n",
       "    .dataframe tbody tr th:only-of-type {\n",
       "        vertical-align: middle;\n",
       "    }\n",
       "\n",
       "    .dataframe tbody tr th {\n",
       "        vertical-align: top;\n",
       "    }\n",
       "\n",
       "    .dataframe thead th {\n",
       "        text-align: right;\n",
       "    }\n",
       "</style>\n",
       "<table border=\"1\" class=\"dataframe\">\n",
       "  <thead>\n",
       "    <tr style=\"text-align: right;\">\n",
       "      <th></th>\n",
       "      <th>uu_id</th>\n",
       "      <th>timeperiod</th>\n",
       "      <th>week_number</th>\n",
       "      <th>countyfips</th>\n",
       "      <th>tract</th>\n",
       "      <th>tract_name</th>\n",
       "      <th>total_claims</th>\n",
       "      <th>edu_8th_or_less</th>\n",
       "      <th>edu_grades_9_11</th>\n",
       "      <th>edu_hs_grad_equiv</th>\n",
       "      <th>...</th>\n",
       "      <th>gender_female</th>\n",
       "      <th>gender_male</th>\n",
       "      <th>gender_na</th>\n",
       "      <th>race_amerindian</th>\n",
       "      <th>race_asian</th>\n",
       "      <th>race_black</th>\n",
       "      <th>race_noanswer</th>\n",
       "      <th>race_hawaiiannative</th>\n",
       "      <th>race_other</th>\n",
       "      <th>race_white</th>\n",
       "    </tr>\n",
       "  </thead>\n",
       "  <tbody>\n",
       "    <tr>\n",
       "      <th>0</th>\n",
       "      <td>f013068de98db1470bd986137a0c6d23</td>\n",
       "      <td>20220416</td>\n",
       "      <td>16</td>\n",
       "      <td>18003</td>\n",
       "      <td>900</td>\n",
       "      <td>Census Tract 9, Allen County, Indiana</td>\n",
       "      <td>22</td>\n",
       "      <td>0</td>\n",
       "      <td>&lt;NA&gt;</td>\n",
       "      <td>14</td>\n",
       "      <td>...</td>\n",
       "      <td>&lt;NA&gt;</td>\n",
       "      <td>&lt;NA&gt;</td>\n",
       "      <td>0</td>\n",
       "      <td>0</td>\n",
       "      <td>0</td>\n",
       "      <td>11</td>\n",
       "      <td>0</td>\n",
       "      <td>0</td>\n",
       "      <td>&lt;NA&gt;</td>\n",
       "      <td>&lt;NA&gt;</td>\n",
       "    </tr>\n",
       "    <tr>\n",
       "      <th>1</th>\n",
       "      <td>21957d5517323845818d87623589e1ba</td>\n",
       "      <td>20220319</td>\n",
       "      <td>12</td>\n",
       "      <td>18089</td>\n",
       "      <td>10400</td>\n",
       "      <td>Census Tract 104, Lake County, Indiana</td>\n",
       "      <td>111</td>\n",
       "      <td>0</td>\n",
       "      <td>&lt;NA&gt;</td>\n",
       "      <td>108</td>\n",
       "      <td>...</td>\n",
       "      <td>76</td>\n",
       "      <td>35</td>\n",
       "      <td>0</td>\n",
       "      <td>0</td>\n",
       "      <td>0</td>\n",
       "      <td>&lt;NA&gt;</td>\n",
       "      <td>&lt;NA&gt;</td>\n",
       "      <td>0</td>\n",
       "      <td>0</td>\n",
       "      <td>0</td>\n",
       "    </tr>\n",
       "    <tr>\n",
       "      <th>2</th>\n",
       "      <td>6a5609f385912113b6f1014b958ed748</td>\n",
       "      <td>20220326</td>\n",
       "      <td>13</td>\n",
       "      <td>18089</td>\n",
       "      <td>11500</td>\n",
       "      <td>Census Tract 115, Lake County, Indiana</td>\n",
       "      <td>39</td>\n",
       "      <td>0</td>\n",
       "      <td>&lt;NA&gt;</td>\n",
       "      <td>&lt;NA&gt;</td>\n",
       "      <td>...</td>\n",
       "      <td>&lt;NA&gt;</td>\n",
       "      <td>&lt;NA&gt;</td>\n",
       "      <td>0</td>\n",
       "      <td>0</td>\n",
       "      <td>0</td>\n",
       "      <td>39</td>\n",
       "      <td>0</td>\n",
       "      <td>0</td>\n",
       "      <td>0</td>\n",
       "      <td>0</td>\n",
       "    </tr>\n",
       "    <tr>\n",
       "      <th>3</th>\n",
       "      <td>46b2882ec4c373527ec33f7bd4f1388d</td>\n",
       "      <td>20220716</td>\n",
       "      <td>29</td>\n",
       "      <td>18089</td>\n",
       "      <td>20700</td>\n",
       "      <td>Census Tract 207, Lake County, Indiana</td>\n",
       "      <td>14</td>\n",
       "      <td>0</td>\n",
       "      <td>&lt;NA&gt;</td>\n",
       "      <td>&lt;NA&gt;</td>\n",
       "      <td>...</td>\n",
       "      <td>&lt;NA&gt;</td>\n",
       "      <td>&lt;NA&gt;</td>\n",
       "      <td>0</td>\n",
       "      <td>0</td>\n",
       "      <td>&lt;NA&gt;</td>\n",
       "      <td>10</td>\n",
       "      <td>0</td>\n",
       "      <td>0</td>\n",
       "      <td>&lt;NA&gt;</td>\n",
       "      <td>&lt;NA&gt;</td>\n",
       "    </tr>\n",
       "    <tr>\n",
       "      <th>4</th>\n",
       "      <td>37495d17e82f7df326bfc2c4c090f7b7</td>\n",
       "      <td>20220409</td>\n",
       "      <td>15</td>\n",
       "      <td>18089</td>\n",
       "      <td>21900</td>\n",
       "      <td>Census Tract 219, Lake County, Indiana</td>\n",
       "      <td>155</td>\n",
       "      <td>0</td>\n",
       "      <td>&lt;NA&gt;</td>\n",
       "      <td>69</td>\n",
       "      <td>...</td>\n",
       "      <td>90</td>\n",
       "      <td>65</td>\n",
       "      <td>0</td>\n",
       "      <td>0</td>\n",
       "      <td>0</td>\n",
       "      <td>135</td>\n",
       "      <td>&lt;NA&gt;</td>\n",
       "      <td>&lt;NA&gt;</td>\n",
       "      <td>&lt;NA&gt;</td>\n",
       "      <td>&lt;NA&gt;</td>\n",
       "    </tr>\n",
       "  </tbody>\n",
       "</table>\n",
       "<p>5 rows × 25 columns</p>\n",
       "</div>"
      ],
      "text/plain": [
       "                              uu_id  timeperiod  week_number  countyfips  \\\n",
       "0  f013068de98db1470bd986137a0c6d23    20220416           16       18003   \n",
       "1  21957d5517323845818d87623589e1ba    20220319           12       18089   \n",
       "2  6a5609f385912113b6f1014b958ed748    20220326           13       18089   \n",
       "3  46b2882ec4c373527ec33f7bd4f1388d    20220716           29       18089   \n",
       "4  37495d17e82f7df326bfc2c4c090f7b7    20220409           15       18089   \n",
       "\n",
       "   tract                              tract_name  total_claims  \\\n",
       "0    900   Census Tract 9, Allen County, Indiana            22   \n",
       "1  10400  Census Tract 104, Lake County, Indiana           111   \n",
       "2  11500  Census Tract 115, Lake County, Indiana            39   \n",
       "3  20700  Census Tract 207, Lake County, Indiana            14   \n",
       "4  21900  Census Tract 219, Lake County, Indiana           155   \n",
       "\n",
       "   edu_8th_or_less  edu_grades_9_11  edu_hs_grad_equiv  ...  gender_female  \\\n",
       "0                0             <NA>                 14  ...           <NA>   \n",
       "1                0             <NA>                108  ...             76   \n",
       "2                0             <NA>               <NA>  ...           <NA>   \n",
       "3                0             <NA>               <NA>  ...           <NA>   \n",
       "4                0             <NA>                 69  ...             90   \n",
       "\n",
       "   gender_male gender_na race_amerindian race_asian  race_black  \\\n",
       "0         <NA>         0               0          0          11   \n",
       "1           35         0               0          0        <NA>   \n",
       "2         <NA>         0               0          0          39   \n",
       "3         <NA>         0               0       <NA>          10   \n",
       "4           65         0               0          0         135   \n",
       "\n",
       "   race_noanswer  race_hawaiiannative  race_other  race_white  \n",
       "0              0                    0        <NA>        <NA>  \n",
       "1           <NA>                    0           0           0  \n",
       "2              0                    0           0           0  \n",
       "3              0                    0        <NA>        <NA>  \n",
       "4           <NA>                 <NA>        <NA>        <NA>  \n",
       "\n",
       "[5 rows x 25 columns]"
      ]
     },
     "execution_count": 5,
     "metadata": {},
     "output_type": "execute_result"
    }
   ],
   "source": [
    "# QUERY THE DATA ONCE\n",
    "query_job = bigquery_client.query(query)\n",
    "unemployment_data = query_job.to_dataframe()\n",
    "unemployment_data.head()"
   ]
  },
  {
   "cell_type": "code",
   "execution_count": 6,
   "id": "ca099568",
   "metadata": {
    "execution": {
     "iopub.execute_input": "2023-05-10T00:31:41.200418Z",
     "iopub.status.busy": "2023-05-10T00:31:41.200226Z",
     "iopub.status.idle": "2023-05-10T00:31:41.202509Z",
     "shell.execute_reply": "2023-05-10T00:31:41.202123Z"
    }
   },
   "outputs": [],
   "source": [
    "query = \"\"\"\n",
    "SELECT *\n",
    "FROM `ironhacks-data.ironhacks_competition.wage_data`\n",
    "\"\"\""
   ]
  },
  {
   "cell_type": "code",
   "execution_count": 7,
   "id": "a79d10d0",
   "metadata": {
    "execution": {
     "iopub.execute_input": "2023-05-10T00:31:41.204699Z",
     "iopub.status.busy": "2023-05-10T00:31:41.204530Z",
     "iopub.status.idle": "2023-05-10T00:31:43.072719Z",
     "shell.execute_reply": "2023-05-10T00:31:43.071714Z"
    }
   },
   "outputs": [
    {
     "data": {
      "text/html": [
       "<div>\n",
       "<style scoped>\n",
       "    .dataframe tbody tr th:only-of-type {\n",
       "        vertical-align: middle;\n",
       "    }\n",
       "\n",
       "    .dataframe tbody tr th {\n",
       "        vertical-align: top;\n",
       "    }\n",
       "\n",
       "    .dataframe thead th {\n",
       "        text-align: right;\n",
       "    }\n",
       "</style>\n",
       "<table border=\"1\" class=\"dataframe\">\n",
       "  <thead>\n",
       "    <tr style=\"text-align: right;\">\n",
       "      <th></th>\n",
       "      <th>uu_id</th>\n",
       "      <th>countyfips</th>\n",
       "      <th>tract</th>\n",
       "      <th>tract_name</th>\n",
       "      <th>average_wage</th>\n",
       "    </tr>\n",
       "  </thead>\n",
       "  <tbody>\n",
       "    <tr>\n",
       "      <th>0</th>\n",
       "      <td>585f8731c2255d6b3f817a31180848b9</td>\n",
       "      <td>18177</td>\n",
       "      <td>200</td>\n",
       "      <td>Census Tract 2, Wayne County, Indiana</td>\n",
       "      <td>6612.000000</td>\n",
       "    </tr>\n",
       "    <tr>\n",
       "      <th>1</th>\n",
       "      <td>8c9d2aa90948679972a9382aadcc6001</td>\n",
       "      <td>18177</td>\n",
       "      <td>900</td>\n",
       "      <td>Census Tract 9, Wayne County, Indiana</td>\n",
       "      <td>9883.250000</td>\n",
       "    </tr>\n",
       "    <tr>\n",
       "      <th>2</th>\n",
       "      <td>0f3d45341a5b113b813ffb7be7f58bab</td>\n",
       "      <td>18183</td>\n",
       "      <td>50300</td>\n",
       "      <td>Census Tract 503, Whitley County, Indiana</td>\n",
       "      <td>13992.250000</td>\n",
       "    </tr>\n",
       "    <tr>\n",
       "      <th>3</th>\n",
       "      <td>fb55464f8e34af6d750d06968bf719b8</td>\n",
       "      <td>18183</td>\n",
       "      <td>50400</td>\n",
       "      <td>Census Tract 504, Whitley County, Indiana</td>\n",
       "      <td>13613.500000</td>\n",
       "    </tr>\n",
       "    <tr>\n",
       "      <th>4</th>\n",
       "      <td>983badfd7b568728e39a2344a9006078</td>\n",
       "      <td>18001</td>\n",
       "      <td>30200</td>\n",
       "      <td>Census Tract 302, Adams County, Indiana</td>\n",
       "      <td>11816.666667</td>\n",
       "    </tr>\n",
       "  </tbody>\n",
       "</table>\n",
       "</div>"
      ],
      "text/plain": [
       "                              uu_id  countyfips  tract  \\\n",
       "0  585f8731c2255d6b3f817a31180848b9       18177    200   \n",
       "1  8c9d2aa90948679972a9382aadcc6001       18177    900   \n",
       "2  0f3d45341a5b113b813ffb7be7f58bab       18183  50300   \n",
       "3  fb55464f8e34af6d750d06968bf719b8       18183  50400   \n",
       "4  983badfd7b568728e39a2344a9006078       18001  30200   \n",
       "\n",
       "                                  tract_name  average_wage  \n",
       "0      Census Tract 2, Wayne County, Indiana   6612.000000  \n",
       "1      Census Tract 9, Wayne County, Indiana   9883.250000  \n",
       "2  Census Tract 503, Whitley County, Indiana  13992.250000  \n",
       "3  Census Tract 504, Whitley County, Indiana  13613.500000  \n",
       "4    Census Tract 302, Adams County, Indiana  11816.666667  "
      ]
     },
     "execution_count": 7,
     "metadata": {},
     "output_type": "execute_result"
    }
   ],
   "source": [
    "# QUERY THE DATA ONCE\n",
    "query_job = bigquery_client.query(query)\n",
    "wage_data = query_job.to_dataframe()\n",
    "wage_data.head()"
   ]
  },
  {
   "cell_type": "code",
   "execution_count": 8,
   "id": "bedffa00",
   "metadata": {
    "execution": {
     "iopub.execute_input": "2023-05-10T00:31:43.077810Z",
     "iopub.status.busy": "2023-05-10T00:31:43.077343Z",
     "iopub.status.idle": "2023-05-10T00:31:43.081175Z",
     "shell.execute_reply": "2023-05-10T00:31:43.080529Z"
    }
   },
   "outputs": [],
   "source": [
    "query = \"\"\"\n",
    "SELECT *\n",
    "FROM `ironhacks-data.ironhacks_competition.prediction_list`\n",
    "\"\"\""
   ]
  },
  {
   "cell_type": "code",
   "execution_count": 9,
   "id": "502cfb5a",
   "metadata": {
    "execution": {
     "iopub.execute_input": "2023-05-10T00:31:43.084581Z",
     "iopub.status.busy": "2023-05-10T00:31:43.084278Z",
     "iopub.status.idle": "2023-05-10T00:31:44.772215Z",
     "shell.execute_reply": "2023-05-10T00:31:44.771273Z"
    }
   },
   "outputs": [
    {
     "data": {
      "text/html": [
       "<div>\n",
       "<style scoped>\n",
       "    .dataframe tbody tr th:only-of-type {\n",
       "        vertical-align: middle;\n",
       "    }\n",
       "\n",
       "    .dataframe tbody tr th {\n",
       "        vertical-align: top;\n",
       "    }\n",
       "\n",
       "    .dataframe thead th {\n",
       "        text-align: right;\n",
       "    }\n",
       "</style>\n",
       "<table border=\"1\" class=\"dataframe\">\n",
       "  <thead>\n",
       "    <tr style=\"text-align: right;\">\n",
       "      <th></th>\n",
       "      <th>uu_id</th>\n",
       "      <th>week_number</th>\n",
       "    </tr>\n",
       "  </thead>\n",
       "  <tbody>\n",
       "    <tr>\n",
       "      <th>0</th>\n",
       "      <td>5bf51fc2e162d6faf9e3cf79e4198378</td>\n",
       "      <td>44</td>\n",
       "    </tr>\n",
       "    <tr>\n",
       "      <th>1</th>\n",
       "      <td>420b44cc7e3f55d738df565421e59941</td>\n",
       "      <td>44</td>\n",
       "    </tr>\n",
       "    <tr>\n",
       "      <th>2</th>\n",
       "      <td>e39c66ecceec76ee8f9f811fa4a2d246</td>\n",
       "      <td>44</td>\n",
       "    </tr>\n",
       "    <tr>\n",
       "      <th>3</th>\n",
       "      <td>a90462cd11ae4e43144239bf7c4828a4</td>\n",
       "      <td>44</td>\n",
       "    </tr>\n",
       "    <tr>\n",
       "      <th>4</th>\n",
       "      <td>8b20a6749088c7ff1237983076ebfeaa</td>\n",
       "      <td>44</td>\n",
       "    </tr>\n",
       "  </tbody>\n",
       "</table>\n",
       "</div>"
      ],
      "text/plain": [
       "                              uu_id  week_number\n",
       "0  5bf51fc2e162d6faf9e3cf79e4198378           44\n",
       "1  420b44cc7e3f55d738df565421e59941           44\n",
       "2  e39c66ecceec76ee8f9f811fa4a2d246           44\n",
       "3  a90462cd11ae4e43144239bf7c4828a4           44\n",
       "4  8b20a6749088c7ff1237983076ebfeaa           44"
      ]
     },
     "execution_count": 9,
     "metadata": {},
     "output_type": "execute_result"
    }
   ],
   "source": [
    "# QUERY THE DATA ONCE\n",
    "query_job = bigquery_client.query(query)\n",
    "prediction_list = query_job.to_dataframe()\n",
    "prediction_list.head()"
   ]
  },
  {
   "cell_type": "code",
   "execution_count": 10,
   "id": "094a0516",
   "metadata": {
    "execution": {
     "iopub.execute_input": "2023-05-10T00:31:44.776459Z",
     "iopub.status.busy": "2023-05-10T00:31:44.776124Z",
     "iopub.status.idle": "2023-05-10T00:31:44.788459Z",
     "shell.execute_reply": "2023-05-10T00:31:44.787827Z"
    }
   },
   "outputs": [
    {
     "data": {
      "text/plain": [
       "count      16833.0\n",
       "mean     22.952712\n",
       "std      14.583655\n",
       "min           10.0\n",
       "25%           14.0\n",
       "50%           18.0\n",
       "75%           27.0\n",
       "max          170.0\n",
       "Name: total_claims, dtype: Float64"
      ]
     },
     "execution_count": 10,
     "metadata": {},
     "output_type": "execute_result"
    }
   ],
   "source": [
    "unemployment_data.total_claims.describe()"
   ]
  },
  {
   "cell_type": "code",
   "execution_count": 11,
   "id": "2d03ac51",
   "metadata": {
    "execution": {
     "iopub.execute_input": "2023-05-10T00:31:44.791851Z",
     "iopub.status.busy": "2023-05-10T00:31:44.791592Z",
     "iopub.status.idle": "2023-05-10T00:31:44.795113Z",
     "shell.execute_reply": "2023-05-10T00:31:44.794595Z"
    }
   },
   "outputs": [],
   "source": [
    "avg = 22.64\n",
    "prediction_list[\"total_claims\"] = avg"
   ]
  },
  {
   "cell_type": "code",
   "execution_count": 12,
   "id": "f0bc268b",
   "metadata": {
    "execution": {
     "iopub.execute_input": "2023-05-10T00:31:44.797874Z",
     "iopub.status.busy": "2023-05-10T00:31:44.797671Z",
     "iopub.status.idle": "2023-05-10T00:31:44.804028Z",
     "shell.execute_reply": "2023-05-10T00:31:44.803563Z"
    }
   },
   "outputs": [
    {
     "data": {
      "text/html": [
       "<div>\n",
       "<style scoped>\n",
       "    .dataframe tbody tr th:only-of-type {\n",
       "        vertical-align: middle;\n",
       "    }\n",
       "\n",
       "    .dataframe tbody tr th {\n",
       "        vertical-align: top;\n",
       "    }\n",
       "\n",
       "    .dataframe thead th {\n",
       "        text-align: right;\n",
       "    }\n",
       "</style>\n",
       "<table border=\"1\" class=\"dataframe\">\n",
       "  <thead>\n",
       "    <tr style=\"text-align: right;\">\n",
       "      <th></th>\n",
       "      <th>uu_id</th>\n",
       "      <th>week_number</th>\n",
       "      <th>total_claims</th>\n",
       "    </tr>\n",
       "  </thead>\n",
       "  <tbody>\n",
       "    <tr>\n",
       "      <th>0</th>\n",
       "      <td>5bf51fc2e162d6faf9e3cf79e4198378</td>\n",
       "      <td>44</td>\n",
       "      <td>22.64</td>\n",
       "    </tr>\n",
       "    <tr>\n",
       "      <th>1</th>\n",
       "      <td>420b44cc7e3f55d738df565421e59941</td>\n",
       "      <td>44</td>\n",
       "      <td>22.64</td>\n",
       "    </tr>\n",
       "    <tr>\n",
       "      <th>2</th>\n",
       "      <td>e39c66ecceec76ee8f9f811fa4a2d246</td>\n",
       "      <td>44</td>\n",
       "      <td>22.64</td>\n",
       "    </tr>\n",
       "    <tr>\n",
       "      <th>3</th>\n",
       "      <td>a90462cd11ae4e43144239bf7c4828a4</td>\n",
       "      <td>44</td>\n",
       "      <td>22.64</td>\n",
       "    </tr>\n",
       "    <tr>\n",
       "      <th>4</th>\n",
       "      <td>8b20a6749088c7ff1237983076ebfeaa</td>\n",
       "      <td>44</td>\n",
       "      <td>22.64</td>\n",
       "    </tr>\n",
       "  </tbody>\n",
       "</table>\n",
       "</div>"
      ],
      "text/plain": [
       "                              uu_id  week_number  total_claims\n",
       "0  5bf51fc2e162d6faf9e3cf79e4198378           44         22.64\n",
       "1  420b44cc7e3f55d738df565421e59941           44         22.64\n",
       "2  e39c66ecceec76ee8f9f811fa4a2d246           44         22.64\n",
       "3  a90462cd11ae4e43144239bf7c4828a4           44         22.64\n",
       "4  8b20a6749088c7ff1237983076ebfeaa           44         22.64"
      ]
     },
     "execution_count": 12,
     "metadata": {},
     "output_type": "execute_result"
    }
   ],
   "source": [
    "prediction_list.head()"
   ]
  },
  {
   "cell_type": "code",
   "execution_count": 13,
   "id": "56466a86",
   "metadata": {
    "execution": {
     "iopub.execute_input": "2023-05-10T00:31:44.806411Z",
     "iopub.status.busy": "2023-05-10T00:31:44.806208Z",
     "iopub.status.idle": "2023-05-10T00:31:44.809271Z",
     "shell.execute_reply": "2023-05-10T00:31:44.808860Z"
    }
   },
   "outputs": [],
   "source": [
    "prediction_list = prediction_list[['uu_id', 'total_claims', 'week_number']]"
   ]
  },
  {
   "cell_type": "code",
   "execution_count": 14,
   "id": "9a69ab4a",
   "metadata": {
    "execution": {
     "iopub.execute_input": "2023-05-10T00:31:44.811383Z",
     "iopub.status.busy": "2023-05-10T00:31:44.811239Z",
     "iopub.status.idle": "2023-05-10T00:31:44.816476Z",
     "shell.execute_reply": "2023-05-10T00:31:44.816130Z"
    }
   },
   "outputs": [
    {
     "data": {
      "text/html": [
       "<div>\n",
       "<style scoped>\n",
       "    .dataframe tbody tr th:only-of-type {\n",
       "        vertical-align: middle;\n",
       "    }\n",
       "\n",
       "    .dataframe tbody tr th {\n",
       "        vertical-align: top;\n",
       "    }\n",
       "\n",
       "    .dataframe thead th {\n",
       "        text-align: right;\n",
       "    }\n",
       "</style>\n",
       "<table border=\"1\" class=\"dataframe\">\n",
       "  <thead>\n",
       "    <tr style=\"text-align: right;\">\n",
       "      <th></th>\n",
       "      <th>uu_id</th>\n",
       "      <th>total_claims</th>\n",
       "      <th>week_number</th>\n",
       "    </tr>\n",
       "  </thead>\n",
       "  <tbody>\n",
       "    <tr>\n",
       "      <th>0</th>\n",
       "      <td>5bf51fc2e162d6faf9e3cf79e4198378</td>\n",
       "      <td>22.64</td>\n",
       "      <td>44</td>\n",
       "    </tr>\n",
       "    <tr>\n",
       "      <th>1</th>\n",
       "      <td>420b44cc7e3f55d738df565421e59941</td>\n",
       "      <td>22.64</td>\n",
       "      <td>44</td>\n",
       "    </tr>\n",
       "    <tr>\n",
       "      <th>2</th>\n",
       "      <td>e39c66ecceec76ee8f9f811fa4a2d246</td>\n",
       "      <td>22.64</td>\n",
       "      <td>44</td>\n",
       "    </tr>\n",
       "    <tr>\n",
       "      <th>3</th>\n",
       "      <td>a90462cd11ae4e43144239bf7c4828a4</td>\n",
       "      <td>22.64</td>\n",
       "      <td>44</td>\n",
       "    </tr>\n",
       "    <tr>\n",
       "      <th>4</th>\n",
       "      <td>8b20a6749088c7ff1237983076ebfeaa</td>\n",
       "      <td>22.64</td>\n",
       "      <td>44</td>\n",
       "    </tr>\n",
       "  </tbody>\n",
       "</table>\n",
       "</div>"
      ],
      "text/plain": [
       "                              uu_id  total_claims  week_number\n",
       "0  5bf51fc2e162d6faf9e3cf79e4198378         22.64           44\n",
       "1  420b44cc7e3f55d738df565421e59941         22.64           44\n",
       "2  e39c66ecceec76ee8f9f811fa4a2d246         22.64           44\n",
       "3  a90462cd11ae4e43144239bf7c4828a4         22.64           44\n",
       "4  8b20a6749088c7ff1237983076ebfeaa         22.64           44"
      ]
     },
     "execution_count": 14,
     "metadata": {},
     "output_type": "execute_result"
    }
   ],
   "source": [
    "prediction_list.head()"
   ]
  },
  {
   "cell_type": "code",
   "execution_count": 15,
   "id": "fdfc6648",
   "metadata": {
    "execution": {
     "iopub.execute_input": "2023-05-10T00:31:44.818466Z",
     "iopub.status.busy": "2023-05-10T00:31:44.818315Z",
     "iopub.status.idle": "2023-05-10T00:31:45.254577Z",
     "shell.execute_reply": "2023-05-10T00:31:45.254283Z"
    },
    "lines_to_next_cell": 2
   },
   "outputs": [],
   "source": [
    "import csv\n",
    "import pandas as pd\n",
    "import numpy as np\n",
    "from google.cloud import bigquery\n",
    "from google.oauth2 import service_account\n",
    "from google.cloud.bigquery import magics\n",
    "from sklearn.model_selection import train_test_split \n",
    "from sklearn.linear_model import LinearRegression\n",
    "from sklearn import metrics\n",
    "import matplotlib.pyplot as plt  "
   ]
  }
 ],
 "metadata": {
  "jupytext": {
   "cell_metadata_filter": "-all",
   "main_language": "python",
   "notebook_metadata_filter": "-all"
  },
  "language_info": {
   "codemirror_mode": {
    "name": "ipython",
    "version": 3
   },
   "file_extension": ".py",
   "mimetype": "text/x-python",
   "name": "python",
   "nbconvert_exporter": "python",
   "pygments_lexer": "ipython3",
   "version": "3.9.12"
  }
 },
 "nbformat": 4,
 "nbformat_minor": 5
}
