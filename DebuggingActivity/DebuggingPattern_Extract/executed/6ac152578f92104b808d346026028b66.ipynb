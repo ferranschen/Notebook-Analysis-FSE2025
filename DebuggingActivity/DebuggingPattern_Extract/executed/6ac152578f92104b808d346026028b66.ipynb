{
 "cells": [
  {
   "cell_type": "code",
   "execution_count": 1,
   "id": "340cca78",
   "metadata": {
    "execution": {
     "iopub.execute_input": "2023-05-10T00:57:40.554061Z",
     "iopub.status.busy": "2023-05-10T00:57:40.553910Z",
     "iopub.status.idle": "2023-05-10T00:57:41.680454Z",
     "shell.execute_reply": "2023-05-10T00:57:41.679922Z"
    }
   },
   "outputs": [
    {
     "name": "stdout",
     "output_type": "stream",
     "text": [
      "\u001b[33mDEPRECATION: Configuring installation scheme with distutils config files is deprecated and will no longer work in the near future. If you are using a Homebrew or Linuxbrew Python, please see discussion at https://github.com/Homebrew/homebrew-core/issues/76621\u001b[0m\u001b[33m\r\n",
      "\u001b[0m"
     ]
    },
    {
     "name": "stdout",
     "output_type": "stream",
     "text": [
      "Requirement already satisfied: db-dtypes in /opt/homebrew/lib/python3.9/site-packages (1.0.5)\r\n",
      "Requirement already satisfied: pandas<2.0dev,>=0.24.2 in /opt/homebrew/lib/python3.9/site-packages (from db-dtypes) (1.5.1)\r\n",
      "Requirement already satisfied: packaging>=17.0 in /Users/weihaochen/Library/Python/3.9/lib/python/site-packages (from db-dtypes) (21.3)\r\n",
      "Requirement already satisfied: pyarrow>=3.0.0 in /opt/homebrew/lib/python3.9/site-packages (from db-dtypes) (10.0.0)\r\n",
      "Requirement already satisfied: numpy<2.0dev,>=1.16.6 in /opt/homebrew/lib/python3.9/site-packages (from db-dtypes) (1.23.4)\r\n",
      "Requirement already satisfied: pyparsing!=3.0.5,>=2.0.2 in /Users/weihaochen/Library/Python/3.9/lib/python/site-packages (from packaging>=17.0->db-dtypes) (3.0.9)\r\n",
      "Requirement already satisfied: python-dateutil>=2.8.1 in /Users/weihaochen/Library/Python/3.9/lib/python/site-packages (from pandas<2.0dev,>=0.24.2->db-dtypes) (2.8.2)\r\n",
      "Requirement already satisfied: pytz>=2020.1 in /opt/homebrew/lib/python3.9/site-packages (from pandas<2.0dev,>=0.24.2->db-dtypes) (2022.6)\r\n",
      "Requirement already satisfied: six>=1.5 in /Users/weihaochen/Library/Python/3.9/lib/python/site-packages (from python-dateutil>=2.8.1->pandas<2.0dev,>=0.24.2->db-dtypes) (1.16.0)\r\n"
     ]
    },
    {
     "name": "stdout",
     "output_type": "stream",
     "text": [
      "\u001b[33mDEPRECATION: Configuring installation scheme with distutils config files is deprecated and will no longer work in the near future. If you are using a Homebrew or Linuxbrew Python, please see discussion at https://github.com/Homebrew/homebrew-core/issues/76621\u001b[0m\u001b[33m\r\n",
      "\u001b[0m\u001b[33mWARNING: You are using pip version 22.0.4; however, version 23.1.2 is available.\r\n",
      "You should consider upgrading via the '/opt/homebrew/opt/python@3.9/bin/python3.9 -m pip install --upgrade pip' command.\u001b[0m\u001b[33m\r\n",
      "\u001b[0m"
     ]
    },
    {
     "name": "stdout",
     "output_type": "stream",
     "text": [
      "Note: you may need to restart the kernel to use updated packages.\n"
     ]
    }
   ],
   "source": [
    "get_ipython().run_line_magic('pip', 'install db-dtypes')"
   ]
  },
  {
   "cell_type": "code",
   "execution_count": 2,
   "id": "c6cbe2dc",
   "metadata": {
    "execution": {
     "iopub.execute_input": "2023-05-10T00:57:41.683013Z",
     "iopub.status.busy": "2023-05-10T00:57:41.682815Z",
     "iopub.status.idle": "2023-05-10T00:57:46.738858Z",
     "shell.execute_reply": "2023-05-10T00:57:46.738197Z"
    }
   },
   "outputs": [
    {
     "name": "stdout",
     "output_type": "stream",
     "text": [
      "\u001b[33mWARNING: Ignoring invalid distribution -umpy (/opt/anaconda3/lib/python3.9/site-packages)\u001b[0m\r\n",
      "\u001b[33mWARNING: Ignoring invalid distribution -umpy (/opt/anaconda3/lib/python3.9/site-packages)\u001b[0m\r\n",
      "Requirement already satisfied: keras in /opt/anaconda3/lib/python3.9/site-packages (2.12.0)\r\n",
      "\u001b[33mWARNING: Ignoring invalid distribution -umpy (/opt/anaconda3/lib/python3.9/site-packages)\u001b[0m\r\n"
     ]
    },
    {
     "name": "stdout",
     "output_type": "stream",
     "text": [
      "\u001b[33mWARNING: Ignoring invalid distribution -umpy (/opt/anaconda3/lib/python3.9/site-packages)\u001b[0m\r\n",
      "\u001b[33mWARNING: Ignoring invalid distribution -umpy (/opt/anaconda3/lib/python3.9/site-packages)\u001b[0m\r\n",
      "\u001b[33mWARNING: Ignoring invalid distribution -umpy (/opt/anaconda3/lib/python3.9/site-packages)\u001b[0m\r\n"
     ]
    },
    {
     "name": "stdout",
     "output_type": "stream",
     "text": [
      "\u001b[33mWARNING: Ignoring invalid distribution -umpy (/opt/anaconda3/lib/python3.9/site-packages)\u001b[0m\r\n",
      "\u001b[33mWARNING: Ignoring invalid distribution -umpy (/opt/anaconda3/lib/python3.9/site-packages)\u001b[0m\r\n",
      "Requirement already satisfied: tensorflow in /opt/anaconda3/lib/python3.9/site-packages (2.12.0)\r\n",
      "Requirement already satisfied: gast<=0.4.0,>=0.2.1 in /opt/anaconda3/lib/python3.9/site-packages (from tensorflow) (0.4.0)\r\n",
      "Requirement already satisfied: libclang>=13.0.0 in /opt/anaconda3/lib/python3.9/site-packages (from tensorflow) (16.0.0)\r\n",
      "Requirement already satisfied: absl-py>=1.0.0 in /opt/anaconda3/lib/python3.9/site-packages (from tensorflow) (1.4.0)\r\n",
      "Requirement already satisfied: typing-extensions>=3.6.6 in /opt/anaconda3/lib/python3.9/site-packages (from tensorflow) (4.5.0)\r\n",
      "Requirement already satisfied: numpy<1.24,>=1.22 in /opt/anaconda3/lib/python3.9/site-packages (from tensorflow) (1.22.4)\r\n",
      "Requirement already satisfied: jax>=0.3.15 in /opt/anaconda3/lib/python3.9/site-packages (from tensorflow) (0.4.8)\r\n",
      "Requirement already satisfied: tensorflow-estimator<2.13,>=2.12.0 in /opt/anaconda3/lib/python3.9/site-packages (from tensorflow) (2.12.0)\r\n",
      "Requirement already satisfied: keras<2.13,>=2.12.0 in /opt/anaconda3/lib/python3.9/site-packages (from tensorflow) (2.12.0)\r\n",
      "Requirement already satisfied: astunparse>=1.6.0 in /opt/anaconda3/lib/python3.9/site-packages (from tensorflow) (1.6.3)\r\n",
      "Requirement already satisfied: six>=1.12.0 in /opt/anaconda3/lib/python3.9/site-packages (from tensorflow) (1.16.0)\r\n",
      "Requirement already satisfied: protobuf!=4.21.0,!=4.21.1,!=4.21.2,!=4.21.3,!=4.21.4,!=4.21.5,<5.0.0dev,>=3.20.3 in /opt/anaconda3/lib/python3.9/site-packages (from tensorflow) (4.21.12)\r\n",
      "Requirement already satisfied: h5py>=2.9.0 in /opt/anaconda3/lib/python3.9/site-packages (from tensorflow) (3.2.1)\r\n",
      "Requirement already satisfied: setuptools in /opt/anaconda3/lib/python3.9/site-packages (from tensorflow) (58.0.4)\r\n",
      "Requirement already satisfied: tensorflow-io-gcs-filesystem>=0.23.1 in /opt/anaconda3/lib/python3.9/site-packages (from tensorflow) (0.32.0)\r\n",
      "Requirement already satisfied: wrapt<1.15,>=1.11.0 in /opt/anaconda3/lib/python3.9/site-packages (from tensorflow) (1.12.1)\r\n",
      "Requirement already satisfied: grpcio<2.0,>=1.24.3 in /opt/anaconda3/lib/python3.9/site-packages (from tensorflow) (1.54.0)\r\n",
      "Requirement already satisfied: packaging in /opt/anaconda3/lib/python3.9/site-packages (from tensorflow) (21.3)\r\n",
      "Requirement already satisfied: tensorboard<2.13,>=2.12 in /opt/anaconda3/lib/python3.9/site-packages (from tensorflow) (2.12.0)\r\n",
      "Requirement already satisfied: termcolor>=1.1.0 in /opt/anaconda3/lib/python3.9/site-packages (from tensorflow) (2.2.0)\r\n",
      "Requirement already satisfied: flatbuffers>=2.0 in /opt/anaconda3/lib/python3.9/site-packages (from tensorflow) (23.3.3)\r\n",
      "Requirement already satisfied: google-pasta>=0.1.1 in /opt/anaconda3/lib/python3.9/site-packages (from tensorflow) (0.2.0)\r\n",
      "Requirement already satisfied: opt-einsum>=2.3.2 in /opt/anaconda3/lib/python3.9/site-packages (from tensorflow) (3.3.0)\r\n",
      "Requirement already satisfied: wheel<1.0,>=0.23.0 in /opt/anaconda3/lib/python3.9/site-packages (from astunparse>=1.6.0->tensorflow) (0.37.0)\r\n"
     ]
    },
    {
     "name": "stdout",
     "output_type": "stream",
     "text": [
      "Requirement already satisfied: ml-dtypes>=0.0.3 in /opt/anaconda3/lib/python3.9/site-packages (from jax>=0.3.15->tensorflow) (0.1.0)\r\n",
      "Requirement already satisfied: scipy>=1.7 in /opt/anaconda3/lib/python3.9/site-packages (from jax>=0.3.15->tensorflow) (1.7.1)\r\n",
      "Requirement already satisfied: werkzeug>=1.0.1 in /opt/anaconda3/lib/python3.9/site-packages (from tensorboard<2.13,>=2.12->tensorflow) (2.0.2)\r\n",
      "Requirement already satisfied: tensorboard-plugin-wit>=1.6.0 in /opt/anaconda3/lib/python3.9/site-packages (from tensorboard<2.13,>=2.12->tensorflow) (1.8.1)\r\n",
      "Requirement already satisfied: google-auth<3,>=1.6.3 in /opt/anaconda3/lib/python3.9/site-packages (from tensorboard<2.13,>=2.12->tensorflow) (2.16.0)\r\n",
      "Requirement already satisfied: markdown>=2.6.8 in /opt/anaconda3/lib/python3.9/site-packages (from tensorboard<2.13,>=2.12->tensorflow) (3.4.1)\r\n",
      "Requirement already satisfied: tensorboard-data-server<0.8.0,>=0.7.0 in /opt/anaconda3/lib/python3.9/site-packages (from tensorboard<2.13,>=2.12->tensorflow) (0.7.0)\r\n",
      "Requirement already satisfied: requests<3,>=2.21.0 in /opt/anaconda3/lib/python3.9/site-packages (from tensorboard<2.13,>=2.12->tensorflow) (2.26.0)\r\n",
      "Requirement already satisfied: google-auth-oauthlib<0.5,>=0.4.1 in /opt/anaconda3/lib/python3.9/site-packages (from tensorboard<2.13,>=2.12->tensorflow) (0.4.6)\r\n",
      "Requirement already satisfied: pyasn1-modules>=0.2.1 in /opt/anaconda3/lib/python3.9/site-packages (from google-auth<3,>=1.6.3->tensorboard<2.13,>=2.12->tensorflow) (0.2.8)\r\n",
      "Requirement already satisfied: cachetools<6.0,>=2.0.0 in /opt/anaconda3/lib/python3.9/site-packages (from google-auth<3,>=1.6.3->tensorboard<2.13,>=2.12->tensorflow) (5.2.1)\r\n",
      "Requirement already satisfied: rsa<5,>=3.1.4 in /opt/anaconda3/lib/python3.9/site-packages (from google-auth<3,>=1.6.3->tensorboard<2.13,>=2.12->tensorflow) (4.9)\r\n"
     ]
    },
    {
     "name": "stdout",
     "output_type": "stream",
     "text": [
      "Requirement already satisfied: requests-oauthlib>=0.7.0 in /opt/anaconda3/lib/python3.9/site-packages (from google-auth-oauthlib<0.5,>=0.4.1->tensorboard<2.13,>=2.12->tensorflow) (1.3.1)\r\n",
      "Requirement already satisfied: importlib-metadata>=4.4 in /opt/anaconda3/lib/python3.9/site-packages (from markdown>=2.6.8->tensorboard<2.13,>=2.12->tensorflow) (4.8.1)\r\n",
      "Requirement already satisfied: zipp>=0.5 in /opt/anaconda3/lib/python3.9/site-packages (from importlib-metadata>=4.4->markdown>=2.6.8->tensorboard<2.13,>=2.12->tensorflow) (3.6.0)\r\n",
      "Requirement already satisfied: pyasn1<0.5.0,>=0.4.6 in /opt/anaconda3/lib/python3.9/site-packages (from pyasn1-modules>=0.2.1->google-auth<3,>=1.6.3->tensorboard<2.13,>=2.12->tensorflow) (0.4.8)\r\n",
      "Requirement already satisfied: certifi>=2017.4.17 in /opt/anaconda3/lib/python3.9/site-packages (from requests<3,>=2.21.0->tensorboard<2.13,>=2.12->tensorflow) (2021.10.8)\r\n",
      "Requirement already satisfied: urllib3<1.27,>=1.21.1 in /opt/anaconda3/lib/python3.9/site-packages (from requests<3,>=2.21.0->tensorboard<2.13,>=2.12->tensorflow) (1.26.7)\r\n",
      "Requirement already satisfied: charset-normalizer~=2.0.0 in /opt/anaconda3/lib/python3.9/site-packages (from requests<3,>=2.21.0->tensorboard<2.13,>=2.12->tensorflow) (2.0.4)\r\n",
      "Requirement already satisfied: idna<4,>=2.5 in /opt/anaconda3/lib/python3.9/site-packages (from requests<3,>=2.21.0->tensorboard<2.13,>=2.12->tensorflow) (3.2)\r\n",
      "Requirement already satisfied: oauthlib>=3.0.0 in /opt/anaconda3/lib/python3.9/site-packages (from requests-oauthlib>=0.7.0->google-auth-oauthlib<0.5,>=0.4.1->tensorboard<2.13,>=2.12->tensorflow) (3.2.2)\r\n"
     ]
    },
    {
     "name": "stdout",
     "output_type": "stream",
     "text": [
      "Requirement already satisfied: pyparsing!=3.0.5,>=2.0.2 in /opt/anaconda3/lib/python3.9/site-packages (from packaging->tensorflow) (3.0.4)\r\n",
      "\u001b[33mWARNING: Ignoring invalid distribution -umpy (/opt/anaconda3/lib/python3.9/site-packages)\u001b[0m\r\n"
     ]
    },
    {
     "name": "stdout",
     "output_type": "stream",
     "text": [
      "\u001b[33mWARNING: Ignoring invalid distribution -umpy (/opt/anaconda3/lib/python3.9/site-packages)\u001b[0m\r\n"
     ]
    },
    {
     "name": "stdout",
     "output_type": "stream",
     "text": [
      "\u001b[33mWARNING: Ignoring invalid distribution -umpy (/opt/anaconda3/lib/python3.9/site-packages)\u001b[0m\r\n",
      "\u001b[33mWARNING: Ignoring invalid distribution -umpy (/opt/anaconda3/lib/python3.9/site-packages)\u001b[0m\r\n"
     ]
    }
   ],
   "source": [
    "get_ipython().system('pip install keras')\n",
    "get_ipython().system('pip install tensorflow')"
   ]
  },
  {
   "cell_type": "code",
   "execution_count": 3,
   "id": "7ca1469b",
   "metadata": {
    "execution": {
     "iopub.execute_input": "2023-05-10T00:57:46.742423Z",
     "iopub.status.busy": "2023-05-10T00:57:46.742023Z",
     "iopub.status.idle": "2023-05-10T00:57:46.751671Z",
     "shell.execute_reply": "2023-05-10T00:57:46.751208Z"
    }
   },
   "outputs": [],
   "source": [
    "get_ipython().run_cell_magic('capture', '', \"%logstop\\n%logstart -t -r -q ipython_command_log.py global\\n\\n#- IRONHACKS RESEARCH TRACKING CODE\\n#----------------------------------\\n# The following code is used to help our research team understand how you \\n# our notebook environment. We do not collect any personal information with\\n# the following code, it is used to measure when and how often you work on\\n# your submission files.\\n\\nimport os\\nfrom datetime import datetime\\nimport IPython.core.history as history\\n\\nha = history.HistoryAccessor()\\nha_tail = ha.get_tail(1)\\nha_cmd = next(ha_tail)\\nsession_id = str(ha_cmd[0])\\ncommand_id = str(ha_cmd[1])\\ntimestamp = datetime.utcnow().isoformat()\\nhistory_line = ','.join([session_id, command_id, timestamp]) + '\\\\n'\\nlogfile = open(os.environ['HOME']+'/ipython_session_log.csv', 'a')\\nlogfile.write(history_line)\\nlogfile.close()\\n\")"
   ]
  },
  {
   "cell_type": "code",
   "execution_count": 4,
   "id": "d644dd9a",
   "metadata": {
    "execution": {
     "iopub.execute_input": "2023-05-10T00:57:46.754075Z",
     "iopub.status.busy": "2023-05-10T00:57:46.753874Z",
     "iopub.status.idle": "2023-05-10T00:57:47.801705Z",
     "shell.execute_reply": "2023-05-10T00:57:47.801354Z"
    }
   },
   "outputs": [],
   "source": [
    "import os\n",
    "import csv\n",
    "import pandas as pd\n",
    "import numpy as np\n",
    "from google.cloud import bigquery\n",
    "from google.oauth2 import service_account\n",
    "from google.cloud.bigquery import magics\n",
    "from sklearn.model_selection import train_test_split \n",
    "from sklearn.linear_model import LinearRegression\n",
    "from sklearn import metrics\n",
    "import matplotlib.pyplot as plt  \n",
    "import statsmodels.api as sm\n",
    "import itertools"
   ]
  },
  {
   "cell_type": "code",
   "execution_count": 5,
   "id": "cfa980a5",
   "metadata": {
    "execution": {
     "iopub.execute_input": "2023-05-10T00:57:47.803488Z",
     "iopub.status.busy": "2023-05-10T00:57:47.803340Z",
     "iopub.status.idle": "2023-05-10T00:57:47.805214Z",
     "shell.execute_reply": "2023-05-10T00:57:47.804960Z"
    }
   },
   "outputs": [],
   "source": [
    "BIGQUERY_PROJECT = 'ironhacks-data'"
   ]
  },
  {
   "cell_type": "code",
   "execution_count": 6,
   "id": "4df05e63",
   "metadata": {
    "execution": {
     "iopub.execute_input": "2023-05-10T00:57:47.806719Z",
     "iopub.status.busy": "2023-05-10T00:57:47.806606Z",
     "iopub.status.idle": "2023-05-10T00:57:47.816832Z",
     "shell.execute_reply": "2023-05-10T00:57:47.816424Z"
    }
   },
   "outputs": [],
   "source": [
    "bigquery_client = bigquery.Client(project=BIGQUERY_PROJECT)"
   ]
  },
  {
   "cell_type": "code",
   "execution_count": 7,
   "id": "9c56cfed",
   "metadata": {
    "execution": {
     "iopub.execute_input": "2023-05-10T00:57:47.818705Z",
     "iopub.status.busy": "2023-05-10T00:57:47.818587Z",
     "iopub.status.idle": "2023-05-10T00:57:47.820713Z",
     "shell.execute_reply": "2023-05-10T00:57:47.820457Z"
    }
   },
   "outputs": [],
   "source": [
    "query = \"\"\"\n",
    "SELECT *\n",
    "FROM `ironhacks-data.ironhacks_competition.unemployment_data` \n",
    "\"\"\""
   ]
  },
  {
   "cell_type": "code",
   "execution_count": 8,
   "id": "64039a40",
   "metadata": {
    "execution": {
     "iopub.execute_input": "2023-05-10T00:57:47.822200Z",
     "iopub.status.busy": "2023-05-10T00:57:47.822088Z",
     "iopub.status.idle": "2023-05-10T00:57:50.129055Z",
     "shell.execute_reply": "2023-05-10T00:57:50.128130Z"
    }
   },
   "outputs": [],
   "source": [
    "# QUERY THE DATA ONCE\n",
    "query_job = bigquery_client.query(query)\n",
    "data = query_job.to_dataframe()"
   ]
  },
  {
   "cell_type": "code",
   "execution_count": 9,
   "id": "b3ddefa5",
   "metadata": {
    "execution": {
     "iopub.execute_input": "2023-05-10T00:57:50.134000Z",
     "iopub.status.busy": "2023-05-10T00:57:50.133483Z",
     "iopub.status.idle": "2023-05-10T00:57:50.137311Z",
     "shell.execute_reply": "2023-05-10T00:57:50.136529Z"
    }
   },
   "outputs": [],
   "source": [
    "query = \"\"\"\n",
    "SELECT *\n",
    "FROM `ironhacks-data.ironhacks_competition.wage_data` \n",
    "\"\"\""
   ]
  },
  {
   "cell_type": "code",
   "execution_count": 10,
   "id": "08db9c0e",
   "metadata": {
    "execution": {
     "iopub.execute_input": "2023-05-10T00:57:50.140772Z",
     "iopub.status.busy": "2023-05-10T00:57:50.140470Z",
     "iopub.status.idle": "2023-05-10T00:57:51.634287Z",
     "shell.execute_reply": "2023-05-10T00:57:51.632917Z"
    }
   },
   "outputs": [],
   "source": [
    "# QUERY THE DATA ONCE\n",
    "query_job = bigquery_client.query(query)\n",
    "wagedata = query_job.to_dataframe()"
   ]
  },
  {
   "cell_type": "code",
   "execution_count": 11,
   "id": "a233d105",
   "metadata": {
    "execution": {
     "iopub.execute_input": "2023-05-10T00:57:51.641500Z",
     "iopub.status.busy": "2023-05-10T00:57:51.640893Z",
     "iopub.status.idle": "2023-05-10T00:57:51.646279Z",
     "shell.execute_reply": "2023-05-10T00:57:51.645364Z"
    }
   },
   "outputs": [],
   "source": [
    "query = \"\"\"\n",
    "SELECT *\n",
    "FROM `ironhacks-data.ironhacks_competition.prediction_list` \n",
    "\"\"\""
   ]
  },
  {
   "cell_type": "code",
   "execution_count": 12,
   "id": "07126054",
   "metadata": {
    "execution": {
     "iopub.execute_input": "2023-05-10T00:57:51.650192Z",
     "iopub.status.busy": "2023-05-10T00:57:51.649859Z",
     "iopub.status.idle": "2023-05-10T00:57:53.112273Z",
     "shell.execute_reply": "2023-05-10T00:57:53.111369Z"
    }
   },
   "outputs": [],
   "source": [
    "# QUERY THE DATA ONCE\n",
    "query_job = bigquery_client.query(query)\n",
    "prediction_list = query_job.to_dataframe()"
   ]
  },
  {
   "cell_type": "code",
   "execution_count": 13,
   "id": "863018f8",
   "metadata": {
    "execution": {
     "iopub.execute_input": "2023-05-10T00:57:53.119011Z",
     "iopub.status.busy": "2023-05-10T00:57:53.118507Z",
     "iopub.status.idle": "2023-05-10T00:57:53.150706Z",
     "shell.execute_reply": "2023-05-10T00:57:53.150057Z"
    }
   },
   "outputs": [],
   "source": [
    "import pandas as pd\n",
    "import numpy as np\n",
    "combined = pd.merge(data,wagedata,on=['uu_id','countyfips', 'tract','tract_name'],how = 'left')"
   ]
  },
  {
   "cell_type": "code",
   "execution_count": 14,
   "id": "297c2bf0",
   "metadata": {
    "execution": {
     "iopub.execute_input": "2023-05-10T00:57:53.154066Z",
     "iopub.status.busy": "2023-05-10T00:57:53.153804Z",
     "iopub.status.idle": "2023-05-10T00:57:53.167802Z",
     "shell.execute_reply": "2023-05-10T00:57:53.167273Z"
    }
   },
   "outputs": [
    {
     "data": {
      "text/html": [
       "<div>\n",
       "<style scoped>\n",
       "    .dataframe tbody tr th:only-of-type {\n",
       "        vertical-align: middle;\n",
       "    }\n",
       "\n",
       "    .dataframe tbody tr th {\n",
       "        vertical-align: top;\n",
       "    }\n",
       "\n",
       "    .dataframe thead th {\n",
       "        text-align: right;\n",
       "    }\n",
       "</style>\n",
       "<table border=\"1\" class=\"dataframe\">\n",
       "  <thead>\n",
       "    <tr style=\"text-align: right;\">\n",
       "      <th></th>\n",
       "      <th>uu_id</th>\n",
       "      <th>countyfips</th>\n",
       "      <th>tract</th>\n",
       "      <th>tract_name</th>\n",
       "      <th>average_wage</th>\n",
       "    </tr>\n",
       "  </thead>\n",
       "  <tbody>\n",
       "  </tbody>\n",
       "</table>\n",
       "</div>"
      ],
      "text/plain": [
       "Empty DataFrame\n",
       "Columns: [uu_id, countyfips, tract, tract_name, average_wage]\n",
       "Index: []"
      ]
     },
     "execution_count": 14,
     "metadata": {},
     "output_type": "execute_result"
    }
   ],
   "source": [
    "wagedata[wagedata['uu_id']=='a5c6dcff737e183f7931b472f10c3235']"
   ]
  },
  {
   "cell_type": "code",
   "execution_count": 15,
   "id": "879251dc",
   "metadata": {
    "execution": {
     "iopub.execute_input": "2023-05-10T00:57:53.170393Z",
     "iopub.status.busy": "2023-05-10T00:57:53.170199Z",
     "iopub.status.idle": "2023-05-10T00:57:53.173594Z",
     "shell.execute_reply": "2023-05-10T00:57:53.173166Z"
    }
   },
   "outputs": [],
   "source": [
    "combined['average_wage'].fillna(combined['average_wage'].mean(),inplace = True)\n",
    "## Using the mean for the missing wage"
   ]
  },
  {
   "cell_type": "code",
   "execution_count": 16,
   "id": "ae2cece8",
   "metadata": {
    "execution": {
     "iopub.execute_input": "2023-05-10T00:57:53.175734Z",
     "iopub.status.busy": "2023-05-10T00:57:53.175593Z",
     "iopub.status.idle": "2023-05-10T00:57:53.178358Z",
     "shell.execute_reply": "2023-05-10T00:57:53.177987Z"
    }
   },
   "outputs": [],
   "source": [
    "firstgroup = ['edu_8th_or_less','edu_grades_9_11','edu_hs_grad_equiv','edu_post_hs','edu_unknown']\n",
    "secondgroup = ['gender_female','gender_male','gender_na']\n",
    "thirdgroup = ['race_amerindian','race_asian','race_black','race_noanswer','race_hawaiiannative','race_other','race_white']\n",
    "## columns to impute"
   ]
  },
  {
   "cell_type": "code",
   "execution_count": 17,
   "id": "ac960b2f",
   "metadata": {
    "execution": {
     "iopub.execute_input": "2023-05-10T00:57:53.180579Z",
     "iopub.status.busy": "2023-05-10T00:57:53.180399Z",
     "iopub.status.idle": "2023-05-10T00:57:53.196303Z",
     "shell.execute_reply": "2023-05-10T00:57:53.195944Z"
    }
   },
   "outputs": [],
   "source": [
    "complete = combined.dropna(axis = 0)\n",
    "#using the complete rows to estimate the ratio of each catagory occupying the claims\n",
    "prob = {}\n",
    "for i in firstgroup:\n",
    "    prob[i] = (complete[i]/complete['total_claims']).mean()\n",
    "for i in secondgroup:\n",
    "    prob[i] = (complete[i]/complete['total_claims']).mean()\n",
    "for i in thirdgroup:\n",
    "    prob[i] = (complete[i]/complete['total_claims']).mean()"
   ]
  },
  {
   "cell_type": "code",
   "execution_count": 18,
   "id": "9ddfabc3",
   "metadata": {
    "execution": {
     "iopub.execute_input": "2023-05-10T00:57:53.198175Z",
     "iopub.status.busy": "2023-05-10T00:57:53.198035Z",
     "iopub.status.idle": "2023-05-10T00:57:53.200231Z",
     "shell.execute_reply": "2023-05-10T00:57:53.199926Z"
    }
   },
   "outputs": [],
   "source": [
    "prediction_list['total_claims'] = 0"
   ]
  },
  {
   "cell_type": "code",
   "execution_count": 19,
   "id": "fff6aa2a",
   "metadata": {
    "execution": {
     "iopub.execute_input": "2023-05-10T00:57:53.201781Z",
     "iopub.status.busy": "2023-05-10T00:57:53.201667Z",
     "iopub.status.idle": "2023-05-10T00:57:53.206139Z",
     "shell.execute_reply": "2023-05-10T00:57:53.205863Z"
    }
   },
   "outputs": [
    {
     "data": {
      "text/html": [
       "<div>\n",
       "<style scoped>\n",
       "    .dataframe tbody tr th:only-of-type {\n",
       "        vertical-align: middle;\n",
       "    }\n",
       "\n",
       "    .dataframe tbody tr th {\n",
       "        vertical-align: top;\n",
       "    }\n",
       "\n",
       "    .dataframe thead th {\n",
       "        text-align: right;\n",
       "    }\n",
       "</style>\n",
       "<table border=\"1\" class=\"dataframe\">\n",
       "  <thead>\n",
       "    <tr style=\"text-align: right;\">\n",
       "      <th></th>\n",
       "      <th>uu_id</th>\n",
       "      <th>week_number</th>\n",
       "      <th>total_claims</th>\n",
       "    </tr>\n",
       "  </thead>\n",
       "  <tbody>\n",
       "    <tr>\n",
       "      <th>0</th>\n",
       "      <td>5bf51fc2e162d6faf9e3cf79e4198378</td>\n",
       "      <td>44</td>\n",
       "      <td>0</td>\n",
       "    </tr>\n",
       "    <tr>\n",
       "      <th>1</th>\n",
       "      <td>420b44cc7e3f55d738df565421e59941</td>\n",
       "      <td>44</td>\n",
       "      <td>0</td>\n",
       "    </tr>\n",
       "    <tr>\n",
       "      <th>2</th>\n",
       "      <td>e39c66ecceec76ee8f9f811fa4a2d246</td>\n",
       "      <td>44</td>\n",
       "      <td>0</td>\n",
       "    </tr>\n",
       "    <tr>\n",
       "      <th>3</th>\n",
       "      <td>a90462cd11ae4e43144239bf7c4828a4</td>\n",
       "      <td>44</td>\n",
       "      <td>0</td>\n",
       "    </tr>\n",
       "    <tr>\n",
       "      <th>4</th>\n",
       "      <td>8b20a6749088c7ff1237983076ebfeaa</td>\n",
       "      <td>44</td>\n",
       "      <td>0</td>\n",
       "    </tr>\n",
       "    <tr>\n",
       "      <th>...</th>\n",
       "      <td>...</td>\n",
       "      <td>...</td>\n",
       "      <td>...</td>\n",
       "    </tr>\n",
       "    <tr>\n",
       "      <th>520</th>\n",
       "      <td>46c4f6c75e663b1ca82ea7994e6d83d3</td>\n",
       "      <td>44</td>\n",
       "      <td>0</td>\n",
       "    </tr>\n",
       "    <tr>\n",
       "      <th>521</th>\n",
       "      <td>1deebda501712e7595b531b8337bc31a</td>\n",
       "      <td>44</td>\n",
       "      <td>0</td>\n",
       "    </tr>\n",
       "    <tr>\n",
       "      <th>522</th>\n",
       "      <td>5a9758f65f001b6432ff31ff64a459d7</td>\n",
       "      <td>44</td>\n",
       "      <td>0</td>\n",
       "    </tr>\n",
       "    <tr>\n",
       "      <th>523</th>\n",
       "      <td>e8b3b95e93a6dc7dbb90f4e72e7ac065</td>\n",
       "      <td>44</td>\n",
       "      <td>0</td>\n",
       "    </tr>\n",
       "    <tr>\n",
       "      <th>524</th>\n",
       "      <td>932a58530abff8a48558e2a15639d453</td>\n",
       "      <td>44</td>\n",
       "      <td>0</td>\n",
       "    </tr>\n",
       "  </tbody>\n",
       "</table>\n",
       "<p>525 rows × 3 columns</p>\n",
       "</div>"
      ],
      "text/plain": [
       "                                uu_id  week_number  total_claims\n",
       "0    5bf51fc2e162d6faf9e3cf79e4198378           44             0\n",
       "1    420b44cc7e3f55d738df565421e59941           44             0\n",
       "2    e39c66ecceec76ee8f9f811fa4a2d246           44             0\n",
       "3    a90462cd11ae4e43144239bf7c4828a4           44             0\n",
       "4    8b20a6749088c7ff1237983076ebfeaa           44             0\n",
       "..                                ...          ...           ...\n",
       "520  46c4f6c75e663b1ca82ea7994e6d83d3           44             0\n",
       "521  1deebda501712e7595b531b8337bc31a           44             0\n",
       "522  5a9758f65f001b6432ff31ff64a459d7           44             0\n",
       "523  e8b3b95e93a6dc7dbb90f4e72e7ac065           44             0\n",
       "524  932a58530abff8a48558e2a15639d453           44             0\n",
       "\n",
       "[525 rows x 3 columns]"
      ]
     },
     "execution_count": 19,
     "metadata": {},
     "output_type": "execute_result"
    }
   ],
   "source": [
    "prediction_list"
   ]
  },
  {
   "cell_type": "code",
   "execution_count": 20,
   "id": "3bd37768",
   "metadata": {
    "execution": {
     "iopub.execute_input": "2023-05-10T00:57:53.207671Z",
     "iopub.status.busy": "2023-05-10T00:57:53.207578Z",
     "iopub.status.idle": "2023-05-10T00:57:53.211724Z",
     "shell.execute_reply": "2023-05-10T00:57:53.211427Z"
    }
   },
   "outputs": [],
   "source": [
    "prediction_list.loc[:,['uu_id','total_claims','week_number']].to_csv('submission_prediction_output(2).csv',index = False)"
   ]
  },
  {
   "cell_type": "code",
   "execution_count": 21,
   "id": "e0030459",
   "metadata": {
    "execution": {
     "iopub.execute_input": "2023-05-10T00:57:53.213382Z",
     "iopub.status.busy": "2023-05-10T00:57:53.213287Z",
     "iopub.status.idle": "2023-05-10T00:57:53.287485Z",
     "shell.execute_reply": "2023-05-10T00:57:53.287225Z"
    },
    "lines_to_next_cell": 1
   },
   "outputs": [
    {
     "ename": "NameError",
     "evalue": "name 'approximatedimputation' is not defined",
     "output_type": "error",
     "traceback": [
      "\u001b[0;31m---------------------------------------------------------------------------\u001b[0m",
      "\u001b[0;31mNameError\u001b[0m                                 Traceback (most recent call last)",
      "Cell \u001b[0;32mIn [21], line 1\u001b[0m\n\u001b[0;32m----> 1\u001b[0m \u001b[43mapproximatedimputation\u001b[49m(combined)\n\u001b[1;32m      2\u001b[0m combined\u001b[38;5;241m.\u001b[39mto_csv(\u001b[38;5;124m'\u001b[39m\u001b[38;5;124msubmission_prediction_output(1).csv\u001b[39m\u001b[38;5;124m'\u001b[39m,index \u001b[38;5;241m=\u001b[39m \u001b[38;5;28;01mFalse\u001b[39;00m)\n",
      "\u001b[0;31mNameError\u001b[0m: name 'approximatedimputation' is not defined"
     ]
    }
   ],
   "source": [
    "approximatedimputation(combined)\n",
    "combined.to_csv('submission_prediction_output(1).csv',index = False)"
   ]
  },
  {
   "cell_type": "code",
   "execution_count": 22,
   "id": "e4f56c6c",
   "metadata": {
    "execution": {
     "iopub.execute_input": "2023-05-10T00:57:53.289123Z",
     "iopub.status.busy": "2023-05-10T00:57:53.289013Z",
     "iopub.status.idle": "2023-05-10T00:57:53.292385Z",
     "shell.execute_reply": "2023-05-10T00:57:53.292133Z"
    },
    "lines_to_next_cell": 1
   },
   "outputs": [],
   "source": [
    "def approximatedimputation(data):\n",
    "    firstgroup = ['edu_8th_or_less','edu_grades_9_11','edu_hs_grad_equiv','edu_post_hs','edu_unknown']\n",
    "    secondgroup = ['gender_female','gender_male','gender_na']\n",
    "    thirdgroup = ['race_amerindian','race_asian','race_black','race_noanswer','race_hawaiiannative','race_other','race_white']\n",
    "    for i in firstgroup:\n",
    "        for j in range(data.shape[0]):\n",
    "            # if is nan, we use the approximation method to try to impute\n",
    "            if pd.isna(data[i].values[j]):\n",
    "                data[i].values[j] = int(prob[i]*data['total_claims'].values[j])\n",
    "    for i in secondgroup:\n",
    "        for j in range(data.shape[0]):\n",
    "            if pd.isna(data[i].values[j]):\n",
    "                data[i].values[j] = int(prob[i]*data['total_claims'].values[j])\n",
    "    for i in thirdgroup:\n",
    "        for j in range(data.shape[0]):\n",
    "            if pd.isna(data[i].values[j]):\n",
    "                data[i].values[j] = int(prob[i]*data['total_claims'].values[j])"
   ]
  },
  {
   "cell_type": "code",
   "execution_count": 23,
   "id": "130b6650",
   "metadata": {
    "execution": {
     "iopub.execute_input": "2023-05-10T00:57:53.293845Z",
     "iopub.status.busy": "2023-05-10T00:57:53.293762Z",
     "iopub.status.idle": "2023-05-10T00:57:54.478839Z",
     "shell.execute_reply": "2023-05-10T00:57:54.478514Z"
    },
    "lines_to_next_cell": 2
   },
   "outputs": [],
   "source": [
    "approximatedimputation(combined)\n",
    "combined.to_csv('submission_prediction_output(1).csv',index = False)"
   ]
  }
 ],
 "metadata": {
  "jupytext": {
   "cell_metadata_filter": "-all",
   "main_language": "python",
   "notebook_metadata_filter": "-all"
  },
  "language_info": {
   "codemirror_mode": {
    "name": "ipython",
    "version": 3
   },
   "file_extension": ".py",
   "mimetype": "text/x-python",
   "name": "python",
   "nbconvert_exporter": "python",
   "pygments_lexer": "ipython3",
   "version": "3.9.12"
  }
 },
 "nbformat": 4,
 "nbformat_minor": 5
}
