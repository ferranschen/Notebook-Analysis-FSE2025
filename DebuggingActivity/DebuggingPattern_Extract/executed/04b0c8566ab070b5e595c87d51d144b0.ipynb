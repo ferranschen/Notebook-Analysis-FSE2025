{
 "cells": [
  {
   "cell_type": "code",
   "execution_count": 1,
   "id": "53ddec83",
   "metadata": {
    "execution": {
     "iopub.execute_input": "2023-05-10T02:14:01.766788Z",
     "iopub.status.busy": "2023-05-10T02:14:01.766497Z",
     "iopub.status.idle": "2023-05-10T02:14:02.178092Z",
     "shell.execute_reply": "2023-05-10T02:14:02.177794Z"
    }
   },
   "outputs": [],
   "source": [
    "import os\n",
    "import pandas\n",
    "from google.cloud import bigquery\n",
    "from google.oauth2 import service_account\n",
    "from google.cloud.bigquery import magics"
   ]
  },
  {
   "cell_type": "markdown",
   "id": "b339d0f7",
   "metadata": {},
   "source": [
    "CONFIGURE THE BIGQUERY SETTINGS"
   ]
  },
  {
   "cell_type": "code",
   "execution_count": 2,
   "id": "2c9f9cae",
   "metadata": {
    "execution": {
     "iopub.execute_input": "2023-05-10T02:14:02.179865Z",
     "iopub.status.busy": "2023-05-10T02:14:02.179719Z",
     "iopub.status.idle": "2023-05-10T02:14:02.186701Z",
     "shell.execute_reply": "2023-05-10T02:14:02.186348Z"
    }
   },
   "outputs": [],
   "source": [
    "BIGQUERY_PROJECT = 'ironhacks-data'\n",
    "bigquery_client = bigquery.Client(project=BIGQUERY_PROJECT)"
   ]
  },
  {
   "cell_type": "code",
   "execution_count": 3,
   "id": "8251004b",
   "metadata": {
    "execution": {
     "iopub.execute_input": "2023-05-10T02:14:02.188329Z",
     "iopub.status.busy": "2023-05-10T02:14:02.188240Z",
     "iopub.status.idle": "2023-05-10T02:14:02.190205Z",
     "shell.execute_reply": "2023-05-10T02:14:02.189962Z"
    }
   },
   "outputs": [],
   "source": [
    "import os\n",
    "import pandas\n",
    "from google.cloud import bigquery\n",
    "from google.oauth2 import service_account\n",
    "from google.cloud.bigquery import magics"
   ]
  },
  {
   "cell_type": "markdown",
   "id": "f0059547",
   "metadata": {},
   "source": [
    "CONFIGURE THE BIGQUERY SETTINGS"
   ]
  },
  {
   "cell_type": "code",
   "execution_count": 4,
   "id": "d831cfd1",
   "metadata": {
    "execution": {
     "iopub.execute_input": "2023-05-10T02:14:02.191522Z",
     "iopub.status.busy": "2023-05-10T02:14:02.191420Z",
     "iopub.status.idle": "2023-05-10T02:14:02.200358Z",
     "shell.execute_reply": "2023-05-10T02:14:02.200034Z"
    }
   },
   "outputs": [],
   "source": [
    "BIGQUERY_PROJECT = 'ironhacks-data'\n",
    "bigquery_client = bigquery.Client(project=BIGQUERY_PROJECT)"
   ]
  },
  {
   "cell_type": "code",
   "execution_count": 5,
   "id": "9521b70e",
   "metadata": {
    "execution": {
     "iopub.execute_input": "2023-05-10T02:14:02.201894Z",
     "iopub.status.busy": "2023-05-10T02:14:02.201805Z",
     "iopub.status.idle": "2023-05-10T02:14:02.203719Z",
     "shell.execute_reply": "2023-05-10T02:14:02.203447Z"
    }
   },
   "outputs": [],
   "source": [
    "query = \"\"\"\n",
    "SELECT *\n",
    "FROM `ironhacks-data.ironhacks_training.covid19_cases`\n",
    "\"\"\""
   ]
  },
  {
   "cell_type": "code",
   "execution_count": 6,
   "id": "c83bd97d",
   "metadata": {
    "execution": {
     "iopub.execute_input": "2023-05-10T02:14:02.205124Z",
     "iopub.status.busy": "2023-05-10T02:14:02.205044Z",
     "iopub.status.idle": "2023-05-10T02:14:04.211737Z",
     "shell.execute_reply": "2023-05-10T02:14:04.211018Z"
    },
    "lines_to_next_cell": 2
   },
   "outputs": [],
   "source": [
    "# QUERY THE DATA ONCE\n",
    "query_job = bigquery_client.query(query)\n",
    "covid19_cases_data = query_job.to_dataframe()"
   ]
  }
 ],
 "metadata": {
  "jupytext": {
   "cell_metadata_filter": "-all",
   "main_language": "python",
   "notebook_metadata_filter": "-all"
  },
  "kernelspec": {
   "display_name": "base",
   "language": "python",
   "name": "python3"
  },
  "language_info": {
   "codemirror_mode": {
    "name": "ipython",
    "version": 3
   },
   "file_extension": ".py",
   "mimetype": "text/x-python",
   "name": "python",
   "nbconvert_exporter": "python",
   "pygments_lexer": "ipython3",
   "version": "3.9.12"
  }
 },
 "nbformat": 4,
 "nbformat_minor": 5
}
