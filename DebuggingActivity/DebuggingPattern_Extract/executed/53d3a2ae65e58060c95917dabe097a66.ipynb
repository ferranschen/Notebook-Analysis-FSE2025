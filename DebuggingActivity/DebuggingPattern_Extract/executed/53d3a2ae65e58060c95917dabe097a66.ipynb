{
 "cells": [
  {
   "cell_type": "code",
   "execution_count": 1,
   "id": "54fca173",
   "metadata": {
    "execution": {
     "iopub.execute_input": "2023-05-10T01:43:30.090665Z",
     "iopub.status.busy": "2023-05-10T01:43:30.090558Z",
     "iopub.status.idle": "2023-05-10T01:43:30.098234Z",
     "shell.execute_reply": "2023-05-10T01:43:30.097987Z"
    }
   },
   "outputs": [],
   "source": [
    "get_ipython().run_cell_magic('capture', '', \"%logstop\\n%logstart -t -r -q ipython_command_log.py global\\n#- IRONHACKS RESEARCH TRACKING CODE\\n#----------------------------------\\n# The following code is used to help our research team understand how you \\n# our notebook environment. We do not collect any personal information with\\n# the following code, it is used to measure when and how often you work on\\n# your submission files.\\nimport os\\nfrom datetime import datetime\\nimport IPython.core.history as history\\nha = history.HistoryAccessor()\\nha_tail = ha.get_tail(1)\\nha_cmd = next(ha_tail)\\nsession_id = str(ha_cmd[0])\\ncommand_id = str(ha_cmd[1])\\ntimestamp = datetime.utcnow().isoformat()\\nhistory_line = ','.join([session_id, command_id, timestamp]) + '\\\\n'\\nlogfile = open(os.environ['HOME']+'/ipython_session_log.csv', 'a')\\nlogfile.write(history_line)\\nlogfile.close()\\n\")"
   ]
  },
  {
   "cell_type": "code",
   "execution_count": 2,
   "id": "f6962f43",
   "metadata": {
    "execution": {
     "iopub.execute_input": "2023-05-10T01:43:30.099675Z",
     "iopub.status.busy": "2023-05-10T01:43:30.099582Z",
     "iopub.status.idle": "2023-05-10T01:43:31.258845Z",
     "shell.execute_reply": "2023-05-10T01:43:31.258120Z"
    }
   },
   "outputs": [],
   "source": [
    "get_ipython().run_cell_magic('capture', '--no-display', '!pip3 install db-dtypes\\n')"
   ]
  },
  {
   "cell_type": "code",
   "execution_count": 3,
   "id": "e565c4fa",
   "metadata": {
    "execution": {
     "iopub.execute_input": "2023-05-10T01:43:31.261725Z",
     "iopub.status.busy": "2023-05-10T01:43:31.261511Z",
     "iopub.status.idle": "2023-05-10T01:43:31.717588Z",
     "shell.execute_reply": "2023-05-10T01:43:31.717211Z"
    }
   },
   "outputs": [],
   "source": [
    "import os\n",
    "import pandas as pd\n",
    "import numpy as np\n",
    "import matplotlib.pyplot as plt\n",
    "import warnings\n",
    "warnings.filterwarnings('ignore')"
   ]
  },
  {
   "cell_type": "code",
   "execution_count": 4,
   "id": "66c7cd17",
   "metadata": {
    "execution": {
     "iopub.execute_input": "2023-05-10T01:43:31.719396Z",
     "iopub.status.busy": "2023-05-10T01:43:31.719235Z",
     "iopub.status.idle": "2023-05-10T01:43:31.827490Z",
     "shell.execute_reply": "2023-05-10T01:43:31.827168Z"
    }
   },
   "outputs": [],
   "source": [
    "from google.cloud import bigquery\n",
    "from google.oauth2 import service_account\n",
    "from google.cloud.bigquery import magics"
   ]
  },
  {
   "cell_type": "code",
   "execution_count": 5,
   "id": "af117021",
   "metadata": {
    "execution": {
     "iopub.execute_input": "2023-05-10T01:43:31.829235Z",
     "iopub.status.busy": "2023-05-10T01:43:31.829089Z",
     "iopub.status.idle": "2023-05-10T01:43:32.041198Z",
     "shell.execute_reply": "2023-05-10T01:43:32.040868Z"
    }
   },
   "outputs": [
    {
     "ename": "DefaultCredentialsError",
     "evalue": "File key.json was not found.",
     "output_type": "error",
     "traceback": [
      "\u001b[0;31m---------------------------------------------------------------------------\u001b[0m",
      "\u001b[0;31mDefaultCredentialsError\u001b[0m                   Traceback (most recent call last)",
      "Cell \u001b[0;32mIn [5], line 3\u001b[0m\n\u001b[1;32m      1\u001b[0m \u001b[38;5;66;03m# Google Credential\u001b[39;00m\n\u001b[1;32m      2\u001b[0m os\u001b[38;5;241m.\u001b[39menviron[\u001b[38;5;124m'\u001b[39m\u001b[38;5;124mGOOGLE_APPLICATION_CREDENTIALS\u001b[39m\u001b[38;5;124m'\u001b[39m] \u001b[38;5;241m=\u001b[39m\u001b[38;5;124m'\u001b[39m\u001b[38;5;124mkey.json\u001b[39m\u001b[38;5;124m'\u001b[39m\n\u001b[0;32m----> 3\u001b[0m bigquery_client \u001b[38;5;241m=\u001b[39m \u001b[43mbigquery\u001b[49m\u001b[38;5;241;43m.\u001b[39;49m\u001b[43mClient\u001b[49m\u001b[43m(\u001b[49m\u001b[43mproject\u001b[49m\u001b[38;5;241;43m=\u001b[39;49m\u001b[38;5;124;43m'\u001b[39;49m\u001b[38;5;124;43mironhacks-data\u001b[39;49m\u001b[38;5;124;43m'\u001b[39;49m\u001b[43m)\u001b[49m\n",
      "File \u001b[0;32m/opt/homebrew/lib/python3.9/site-packages/google/cloud/bigquery/client.py:244\u001b[0m, in \u001b[0;36mClient.__init__\u001b[0;34m(self, project, credentials, _http, location, default_query_job_config, client_info, client_options)\u001b[0m\n\u001b[1;32m    234\u001b[0m \u001b[38;5;28;01mdef\u001b[39;00m \u001b[38;5;21m__init__\u001b[39m(\n\u001b[1;32m    235\u001b[0m     \u001b[38;5;28mself\u001b[39m,\n\u001b[1;32m    236\u001b[0m     project\u001b[38;5;241m=\u001b[39m\u001b[38;5;28;01mNone\u001b[39;00m,\n\u001b[0;32m   (...)\u001b[0m\n\u001b[1;32m    242\u001b[0m     client_options\u001b[38;5;241m=\u001b[39m\u001b[38;5;28;01mNone\u001b[39;00m,\n\u001b[1;32m    243\u001b[0m ) \u001b[38;5;241m-\u001b[39m\u001b[38;5;241m>\u001b[39m \u001b[38;5;28;01mNone\u001b[39;00m:\n\u001b[0;32m--> 244\u001b[0m     \u001b[38;5;28;43msuper\u001b[39;49m\u001b[43m(\u001b[49m\u001b[43mClient\u001b[49m\u001b[43m,\u001b[49m\u001b[43m \u001b[49m\u001b[38;5;28;43mself\u001b[39;49m\u001b[43m)\u001b[49m\u001b[38;5;241;43m.\u001b[39;49m\u001b[38;5;21;43m__init__\u001b[39;49m\u001b[43m(\u001b[49m\n\u001b[1;32m    245\u001b[0m \u001b[43m        \u001b[49m\u001b[43mproject\u001b[49m\u001b[38;5;241;43m=\u001b[39;49m\u001b[43mproject\u001b[49m\u001b[43m,\u001b[49m\n\u001b[1;32m    246\u001b[0m \u001b[43m        \u001b[49m\u001b[43mcredentials\u001b[49m\u001b[38;5;241;43m=\u001b[39;49m\u001b[43mcredentials\u001b[49m\u001b[43m,\u001b[49m\n\u001b[1;32m    247\u001b[0m \u001b[43m        \u001b[49m\u001b[43mclient_options\u001b[49m\u001b[38;5;241;43m=\u001b[39;49m\u001b[43mclient_options\u001b[49m\u001b[43m,\u001b[49m\n\u001b[1;32m    248\u001b[0m \u001b[43m        \u001b[49m\u001b[43m_http\u001b[49m\u001b[38;5;241;43m=\u001b[39;49m\u001b[43m_http\u001b[49m\u001b[43m,\u001b[49m\n\u001b[1;32m    249\u001b[0m \u001b[43m    \u001b[49m\u001b[43m)\u001b[49m\n\u001b[1;32m    251\u001b[0m     kw_args \u001b[38;5;241m=\u001b[39m {\u001b[38;5;124m\"\u001b[39m\u001b[38;5;124mclient_info\u001b[39m\u001b[38;5;124m\"\u001b[39m: client_info}\n\u001b[1;32m    252\u001b[0m     bq_host \u001b[38;5;241m=\u001b[39m _get_bigquery_host()\n",
      "File \u001b[0;32m/opt/homebrew/lib/python3.9/site-packages/google/cloud/client/__init__.py:321\u001b[0m, in \u001b[0;36mClientWithProject.__init__\u001b[0;34m(self, project, credentials, client_options, _http)\u001b[0m\n\u001b[1;32m    319\u001b[0m \u001b[38;5;28;01mdef\u001b[39;00m \u001b[38;5;21m__init__\u001b[39m(\u001b[38;5;28mself\u001b[39m, project\u001b[38;5;241m=\u001b[39m\u001b[38;5;28;01mNone\u001b[39;00m, credentials\u001b[38;5;241m=\u001b[39m\u001b[38;5;28;01mNone\u001b[39;00m, client_options\u001b[38;5;241m=\u001b[39m\u001b[38;5;28;01mNone\u001b[39;00m, _http\u001b[38;5;241m=\u001b[39m\u001b[38;5;28;01mNone\u001b[39;00m):\n\u001b[1;32m    320\u001b[0m     _ClientProjectMixin\u001b[38;5;241m.\u001b[39m\u001b[38;5;21m__init__\u001b[39m(\u001b[38;5;28mself\u001b[39m, project\u001b[38;5;241m=\u001b[39mproject, credentials\u001b[38;5;241m=\u001b[39mcredentials)\n\u001b[0;32m--> 321\u001b[0m     \u001b[43mClient\u001b[49m\u001b[38;5;241;43m.\u001b[39;49m\u001b[38;5;21;43m__init__\u001b[39;49m\u001b[43m(\u001b[49m\n\u001b[1;32m    322\u001b[0m \u001b[43m        \u001b[49m\u001b[38;5;28;43mself\u001b[39;49m\u001b[43m,\u001b[49m\u001b[43m \u001b[49m\u001b[43mcredentials\u001b[49m\u001b[38;5;241;43m=\u001b[39;49m\u001b[43mcredentials\u001b[49m\u001b[43m,\u001b[49m\u001b[43m \u001b[49m\u001b[43mclient_options\u001b[49m\u001b[38;5;241;43m=\u001b[39;49m\u001b[43mclient_options\u001b[49m\u001b[43m,\u001b[49m\u001b[43m \u001b[49m\u001b[43m_http\u001b[49m\u001b[38;5;241;43m=\u001b[39;49m\u001b[43m_http\u001b[49m\n\u001b[1;32m    323\u001b[0m \u001b[43m    \u001b[49m\u001b[43m)\u001b[49m\n",
      "File \u001b[0;32m/opt/homebrew/lib/python3.9/site-packages/google/cloud/client/__init__.py:178\u001b[0m, in \u001b[0;36mClient.__init__\u001b[0;34m(self, credentials, _http, client_options)\u001b[0m\n\u001b[1;32m    174\u001b[0m         credentials, _ \u001b[38;5;241m=\u001b[39m google\u001b[38;5;241m.\u001b[39mauth\u001b[38;5;241m.\u001b[39mload_credentials_from_file(\n\u001b[1;32m    175\u001b[0m             client_options\u001b[38;5;241m.\u001b[39mcredentials_file, scopes\u001b[38;5;241m=\u001b[39mscopes\n\u001b[1;32m    176\u001b[0m         )\n\u001b[1;32m    177\u001b[0m     \u001b[38;5;28;01melse\u001b[39;00m:\n\u001b[0;32m--> 178\u001b[0m         credentials, _ \u001b[38;5;241m=\u001b[39m \u001b[43mgoogle\u001b[49m\u001b[38;5;241;43m.\u001b[39;49m\u001b[43mauth\u001b[49m\u001b[38;5;241;43m.\u001b[39;49m\u001b[43mdefault\u001b[49m\u001b[43m(\u001b[49m\u001b[43mscopes\u001b[49m\u001b[38;5;241;43m=\u001b[39;49m\u001b[43mscopes\u001b[49m\u001b[43m)\u001b[49m\n\u001b[1;32m    180\u001b[0m \u001b[38;5;28mself\u001b[39m\u001b[38;5;241m.\u001b[39m_credentials \u001b[38;5;241m=\u001b[39m google\u001b[38;5;241m.\u001b[39mauth\u001b[38;5;241m.\u001b[39mcredentials\u001b[38;5;241m.\u001b[39mwith_scopes_if_required(\n\u001b[1;32m    181\u001b[0m     credentials, scopes\u001b[38;5;241m=\u001b[39mscopes\n\u001b[1;32m    182\u001b[0m )\n\u001b[1;32m    184\u001b[0m \u001b[38;5;28;01mif\u001b[39;00m client_options\u001b[38;5;241m.\u001b[39mquota_project_id:\n",
      "File \u001b[0;32m/opt/homebrew/lib/python3.9/site-packages/google/auth/_default.py:620\u001b[0m, in \u001b[0;36mdefault\u001b[0;34m(scopes, request, quota_project_id, default_scopes)\u001b[0m\n\u001b[1;32m    608\u001b[0m checkers \u001b[38;5;241m=\u001b[39m (\n\u001b[1;32m    609\u001b[0m     \u001b[38;5;66;03m# Avoid passing scopes here to prevent passing scopes to user credentials.\u001b[39;00m\n\u001b[1;32m    610\u001b[0m     \u001b[38;5;66;03m# with_scopes_if_required() below will ensure scopes/default scopes are\u001b[39;00m\n\u001b[0;32m   (...)\u001b[0m\n\u001b[1;32m    616\u001b[0m     \u001b[38;5;28;01mlambda\u001b[39;00m: _get_gce_credentials(request, quota_project_id\u001b[38;5;241m=\u001b[39mquota_project_id),\n\u001b[1;32m    617\u001b[0m )\n\u001b[1;32m    619\u001b[0m \u001b[38;5;28;01mfor\u001b[39;00m checker \u001b[38;5;129;01min\u001b[39;00m checkers:\n\u001b[0;32m--> 620\u001b[0m     credentials, project_id \u001b[38;5;241m=\u001b[39m \u001b[43mchecker\u001b[49m\u001b[43m(\u001b[49m\u001b[43m)\u001b[49m\n\u001b[1;32m    621\u001b[0m     \u001b[38;5;28;01mif\u001b[39;00m credentials \u001b[38;5;129;01mis\u001b[39;00m \u001b[38;5;129;01mnot\u001b[39;00m \u001b[38;5;28;01mNone\u001b[39;00m:\n\u001b[1;32m    622\u001b[0m         credentials \u001b[38;5;241m=\u001b[39m with_scopes_if_required(\n\u001b[1;32m    623\u001b[0m             credentials, scopes, default_scopes\u001b[38;5;241m=\u001b[39mdefault_scopes\n\u001b[1;32m    624\u001b[0m         )\n",
      "File \u001b[0;32m/opt/homebrew/lib/python3.9/site-packages/google/auth/_default.py:613\u001b[0m, in \u001b[0;36mdefault.<locals>.<lambda>\u001b[0;34m()\u001b[0m\n\u001b[1;32m    602\u001b[0m \u001b[38;5;28;01mfrom\u001b[39;00m \u001b[38;5;21;01mgoogle\u001b[39;00m\u001b[38;5;21;01m.\u001b[39;00m\u001b[38;5;21;01mauth\u001b[39;00m\u001b[38;5;21;01m.\u001b[39;00m\u001b[38;5;21;01mcredentials\u001b[39;00m \u001b[38;5;28;01mimport\u001b[39;00m CredentialsWithQuotaProject\n\u001b[1;32m    604\u001b[0m explicit_project_id \u001b[38;5;241m=\u001b[39m os\u001b[38;5;241m.\u001b[39menviron\u001b[38;5;241m.\u001b[39mget(\n\u001b[1;32m    605\u001b[0m     environment_vars\u001b[38;5;241m.\u001b[39mPROJECT, os\u001b[38;5;241m.\u001b[39menviron\u001b[38;5;241m.\u001b[39mget(environment_vars\u001b[38;5;241m.\u001b[39mLEGACY_PROJECT)\n\u001b[1;32m    606\u001b[0m )\n\u001b[1;32m    608\u001b[0m checkers \u001b[38;5;241m=\u001b[39m (\n\u001b[1;32m    609\u001b[0m     \u001b[38;5;66;03m# Avoid passing scopes here to prevent passing scopes to user credentials.\u001b[39;00m\n\u001b[1;32m    610\u001b[0m     \u001b[38;5;66;03m# with_scopes_if_required() below will ensure scopes/default scopes are\u001b[39;00m\n\u001b[1;32m    611\u001b[0m     \u001b[38;5;66;03m# safely set on the returned credentials since requires_scopes will\u001b[39;00m\n\u001b[1;32m    612\u001b[0m     \u001b[38;5;66;03m# guard against setting scopes on user credentials.\u001b[39;00m\n\u001b[0;32m--> 613\u001b[0m     \u001b[38;5;28;01mlambda\u001b[39;00m: \u001b[43m_get_explicit_environ_credentials\u001b[49m\u001b[43m(\u001b[49m\u001b[43mquota_project_id\u001b[49m\u001b[38;5;241;43m=\u001b[39;49m\u001b[43mquota_project_id\u001b[49m\u001b[43m)\u001b[49m,\n\u001b[1;32m    614\u001b[0m     \u001b[38;5;28;01mlambda\u001b[39;00m: _get_gcloud_sdk_credentials(quota_project_id\u001b[38;5;241m=\u001b[39mquota_project_id),\n\u001b[1;32m    615\u001b[0m     _get_gae_credentials,\n\u001b[1;32m    616\u001b[0m     \u001b[38;5;28;01mlambda\u001b[39;00m: _get_gce_credentials(request, quota_project_id\u001b[38;5;241m=\u001b[39mquota_project_id),\n\u001b[1;32m    617\u001b[0m )\n\u001b[1;32m    619\u001b[0m \u001b[38;5;28;01mfor\u001b[39;00m checker \u001b[38;5;129;01min\u001b[39;00m checkers:\n\u001b[1;32m    620\u001b[0m     credentials, project_id \u001b[38;5;241m=\u001b[39m checker()\n",
      "File \u001b[0;32m/opt/homebrew/lib/python3.9/site-packages/google/auth/_default.py:233\u001b[0m, in \u001b[0;36m_get_explicit_environ_credentials\u001b[0;34m(quota_project_id)\u001b[0m\n\u001b[1;32m    230\u001b[0m     \u001b[38;5;28;01mreturn\u001b[39;00m _get_gcloud_sdk_credentials(quota_project_id\u001b[38;5;241m=\u001b[39mquota_project_id)\n\u001b[1;32m    232\u001b[0m \u001b[38;5;28;01mif\u001b[39;00m explicit_file \u001b[38;5;129;01mis\u001b[39;00m \u001b[38;5;129;01mnot\u001b[39;00m \u001b[38;5;28;01mNone\u001b[39;00m:\n\u001b[0;32m--> 233\u001b[0m     credentials, project_id \u001b[38;5;241m=\u001b[39m \u001b[43mload_credentials_from_file\u001b[49m\u001b[43m(\u001b[49m\n\u001b[1;32m    234\u001b[0m \u001b[43m        \u001b[49m\u001b[43mos\u001b[49m\u001b[38;5;241;43m.\u001b[39;49m\u001b[43menviron\u001b[49m\u001b[43m[\u001b[49m\u001b[43menvironment_vars\u001b[49m\u001b[38;5;241;43m.\u001b[39;49m\u001b[43mCREDENTIALS\u001b[49m\u001b[43m]\u001b[49m\u001b[43m,\u001b[49m\u001b[43m \u001b[49m\u001b[43mquota_project_id\u001b[49m\u001b[38;5;241;43m=\u001b[39;49m\u001b[43mquota_project_id\u001b[49m\n\u001b[1;32m    235\u001b[0m \u001b[43m    \u001b[49m\u001b[43m)\u001b[49m\n\u001b[1;32m    237\u001b[0m     \u001b[38;5;28;01mreturn\u001b[39;00m credentials, project_id\n\u001b[1;32m    239\u001b[0m \u001b[38;5;28;01melse\u001b[39;00m:\n",
      "File \u001b[0;32m/opt/homebrew/lib/python3.9/site-packages/google/auth/_default.py:121\u001b[0m, in \u001b[0;36mload_credentials_from_file\u001b[0;34m(filename, scopes, default_scopes, quota_project_id, request)\u001b[0m\n\u001b[1;32m     89\u001b[0m \u001b[38;5;124;03m\"\"\"Loads Google credentials from a file.\u001b[39;00m\n\u001b[1;32m     90\u001b[0m \n\u001b[1;32m     91\u001b[0m \u001b[38;5;124;03mThe credentials file must be a service account key, stored authorized\u001b[39;00m\n\u001b[0;32m   (...)\u001b[0m\n\u001b[1;32m    118\u001b[0m \u001b[38;5;124;03m        wrong format or is missing.\u001b[39;00m\n\u001b[1;32m    119\u001b[0m \u001b[38;5;124;03m\"\"\"\u001b[39;00m\n\u001b[1;32m    120\u001b[0m \u001b[38;5;28;01mif\u001b[39;00m \u001b[38;5;129;01mnot\u001b[39;00m os\u001b[38;5;241m.\u001b[39mpath\u001b[38;5;241m.\u001b[39mexists(filename):\n\u001b[0;32m--> 121\u001b[0m     \u001b[38;5;28;01mraise\u001b[39;00m exceptions\u001b[38;5;241m.\u001b[39mDefaultCredentialsError(\n\u001b[1;32m    122\u001b[0m         \u001b[38;5;124m\"\u001b[39m\u001b[38;5;124mFile \u001b[39m\u001b[38;5;132;01m{}\u001b[39;00m\u001b[38;5;124m was not found.\u001b[39m\u001b[38;5;124m\"\u001b[39m\u001b[38;5;241m.\u001b[39mformat(filename)\n\u001b[1;32m    123\u001b[0m     )\n\u001b[1;32m    125\u001b[0m \u001b[38;5;28;01mwith\u001b[39;00m io\u001b[38;5;241m.\u001b[39mopen(filename, \u001b[38;5;124m\"\u001b[39m\u001b[38;5;124mr\u001b[39m\u001b[38;5;124m\"\u001b[39m) \u001b[38;5;28;01mas\u001b[39;00m file_obj:\n\u001b[1;32m    126\u001b[0m     \u001b[38;5;28;01mtry\u001b[39;00m:\n",
      "\u001b[0;31mDefaultCredentialsError\u001b[0m: File key.json was not found."
     ]
    }
   ],
   "source": [
    "# Google Credential\n",
    "os.environ['GOOGLE_APPLICATION_CREDENTIALS'] ='key.json'\n",
    "bigquery_client = bigquery.Client(project='ironhacks-data')"
   ]
  },
  {
   "cell_type": "code",
   "execution_count": 6,
   "id": "585dfd95",
   "metadata": {
    "execution": {
     "iopub.execute_input": "2023-05-10T01:43:32.042898Z",
     "iopub.status.busy": "2023-05-10T01:43:32.042793Z",
     "iopub.status.idle": "2023-05-10T01:43:32.044590Z",
     "shell.execute_reply": "2023-05-10T01:43:32.044371Z"
    }
   },
   "outputs": [],
   "source": [
    "# Query the three provided data tables \n",
    "unemployement_data_query = \"\"\"\n",
    "SELECT *\n",
    "FROM `ironhacks-data.ironhacks_competition.unemployment_data`\n",
    "\"\"\""
   ]
  },
  {
   "cell_type": "code",
   "execution_count": 7,
   "id": "3b945d49",
   "metadata": {
    "execution": {
     "iopub.execute_input": "2023-05-10T01:43:32.045949Z",
     "iopub.status.busy": "2023-05-10T01:43:32.045854Z",
     "iopub.status.idle": "2023-05-10T01:43:32.047369Z",
     "shell.execute_reply": "2023-05-10T01:43:32.047142Z"
    }
   },
   "outputs": [],
   "source": [
    "wage_data_query = \"\"\"\n",
    "SELECT *\n",
    "FROM `ironhacks-data.ironhacks_competition.wage_data`\n",
    "\"\"\""
   ]
  },
  {
   "cell_type": "code",
   "execution_count": 8,
   "id": "8327b831",
   "metadata": {
    "execution": {
     "iopub.execute_input": "2023-05-10T01:43:32.048785Z",
     "iopub.status.busy": "2023-05-10T01:43:32.048695Z",
     "iopub.status.idle": "2023-05-10T01:43:32.050304Z",
     "shell.execute_reply": "2023-05-10T01:43:32.050080Z"
    }
   },
   "outputs": [],
   "source": [
    "prediction_list_query = \"\"\"\n",
    "SELECT *\n",
    "FROM `ironhacks-data.ironhacks_competition.prediction_list`\n",
    "\"\"\""
   ]
  },
  {
   "cell_type": "code",
   "execution_count": 9,
   "id": "64f78fbc",
   "metadata": {
    "execution": {
     "iopub.execute_input": "2023-05-10T01:43:32.051755Z",
     "iopub.status.busy": "2023-05-10T01:43:32.051667Z",
     "iopub.status.idle": "2023-05-10T01:43:32.058331Z",
     "shell.execute_reply": "2023-05-10T01:43:32.058093Z"
    }
   },
   "outputs": [
    {
     "ename": "NameError",
     "evalue": "name 'bigquery_client' is not defined",
     "output_type": "error",
     "traceback": [
      "\u001b[0;31m---------------------------------------------------------------------------\u001b[0m",
      "\u001b[0;31mNameError\u001b[0m                                 Traceback (most recent call last)",
      "Cell \u001b[0;32mIn [9], line 2\u001b[0m\n\u001b[1;32m      1\u001b[0m \u001b[38;5;66;03m# QUERY THE DATA ONCE\u001b[39;00m\n\u001b[0;32m----> 2\u001b[0m ud_query_job \u001b[38;5;241m=\u001b[39m \u001b[43mbigquery_client\u001b[49m\u001b[38;5;241m.\u001b[39mquery(unemployement_data_query)\n\u001b[1;32m      3\u001b[0m wd_query_job \u001b[38;5;241m=\u001b[39m bigquery_client\u001b[38;5;241m.\u001b[39mquery(wage_data_query)\n\u001b[1;32m      4\u001b[0m pl_query_job \u001b[38;5;241m=\u001b[39m bigquery_client\u001b[38;5;241m.\u001b[39mquery(prediction_list_query)\n",
      "\u001b[0;31mNameError\u001b[0m: name 'bigquery_client' is not defined"
     ]
    }
   ],
   "source": [
    "# QUERY THE DATA ONCE\n",
    "ud_query_job = bigquery_client.query(unemployement_data_query)\n",
    "wd_query_job = bigquery_client.query(wage_data_query)\n",
    "pl_query_job = bigquery_client.query(prediction_list_query)"
   ]
  },
  {
   "cell_type": "code",
   "execution_count": 10,
   "id": "bdef78c1",
   "metadata": {
    "execution": {
     "iopub.execute_input": "2023-05-10T01:43:32.059737Z",
     "iopub.status.busy": "2023-05-10T01:43:32.059656Z",
     "iopub.status.idle": "2023-05-10T01:43:32.066274Z",
     "shell.execute_reply": "2023-05-10T01:43:32.066036Z"
    }
   },
   "outputs": [
    {
     "ename": "NameError",
     "evalue": "name 'ud_query_job' is not defined",
     "output_type": "error",
     "traceback": [
      "\u001b[0;31m---------------------------------------------------------------------------\u001b[0m",
      "\u001b[0;31mNameError\u001b[0m                                 Traceback (most recent call last)",
      "Cell \u001b[0;32mIn [10], line 1\u001b[0m\n\u001b[0;32m----> 1\u001b[0m unemployement_data \u001b[38;5;241m=\u001b[39m \u001b[43mud_query_job\u001b[49m\u001b[38;5;241m.\u001b[39mto_dataframe()\n\u001b[1;32m      2\u001b[0m wage_data \u001b[38;5;241m=\u001b[39m wd_query_job\u001b[38;5;241m.\u001b[39mto_dataframe()\n\u001b[1;32m      3\u001b[0m prediction_list \u001b[38;5;241m=\u001b[39m pl_query_job\u001b[38;5;241m.\u001b[39mto_dataframe()\n",
      "\u001b[0;31mNameError\u001b[0m: name 'ud_query_job' is not defined"
     ]
    }
   ],
   "source": [
    "unemployement_data = ud_query_job.to_dataframe()\n",
    "wage_data = wd_query_job.to_dataframe()\n",
    "prediction_list = pl_query_job.to_dataframe()"
   ]
  },
  {
   "cell_type": "code",
   "execution_count": 11,
   "id": "cdc4d1ac",
   "metadata": {
    "execution": {
     "iopub.execute_input": "2023-05-10T01:43:32.067726Z",
     "iopub.status.busy": "2023-05-10T01:43:32.067646Z",
     "iopub.status.idle": "2023-05-10T01:43:32.074137Z",
     "shell.execute_reply": "2023-05-10T01:43:32.073875Z"
    }
   },
   "outputs": [
    {
     "ename": "NameError",
     "evalue": "name 'unemployement_data' is not defined",
     "output_type": "error",
     "traceback": [
      "\u001b[0;31m---------------------------------------------------------------------------\u001b[0m",
      "\u001b[0;31mNameError\u001b[0m                                 Traceback (most recent call last)",
      "Cell \u001b[0;32mIn [11], line 2\u001b[0m\n\u001b[1;32m      1\u001b[0m \u001b[38;5;66;03m# save the query results to csv files\u001b[39;00m\n\u001b[0;32m----> 2\u001b[0m \u001b[43munemployement_data\u001b[49m\u001b[38;5;241m.\u001b[39mto_csv(\u001b[38;5;124m\"\u001b[39m\u001b[38;5;124mdata/unemployment_data.csv\u001b[39m\u001b[38;5;124m\"\u001b[39m)\n\u001b[1;32m      3\u001b[0m \u001b[38;5;28mprint\u001b[39m(\u001b[38;5;124m\"\u001b[39m\u001b[38;5;124munemployment_data shape:\u001b[39m\u001b[38;5;124m\"\u001b[39m, unemployement_data\u001b[38;5;241m.\u001b[39mshape)\n",
      "\u001b[0;31mNameError\u001b[0m: name 'unemployement_data' is not defined"
     ]
    }
   ],
   "source": [
    "# save the query results to csv files\n",
    "unemployement_data.to_csv(\"data/unemployment_data.csv\")\n",
    "print(\"unemployment_data shape:\", unemployement_data.shape)"
   ]
  },
  {
   "cell_type": "code",
   "execution_count": 12,
   "id": "c8e35ef9",
   "metadata": {
    "execution": {
     "iopub.execute_input": "2023-05-10T01:43:32.075553Z",
     "iopub.status.busy": "2023-05-10T01:43:32.075470Z",
     "iopub.status.idle": "2023-05-10T01:43:32.081802Z",
     "shell.execute_reply": "2023-05-10T01:43:32.081539Z"
    }
   },
   "outputs": [
    {
     "ename": "NameError",
     "evalue": "name 'wage_data' is not defined",
     "output_type": "error",
     "traceback": [
      "\u001b[0;31m---------------------------------------------------------------------------\u001b[0m",
      "\u001b[0;31mNameError\u001b[0m                                 Traceback (most recent call last)",
      "Cell \u001b[0;32mIn [12], line 1\u001b[0m\n\u001b[0;32m----> 1\u001b[0m \u001b[43mwage_data\u001b[49m\u001b[38;5;241m.\u001b[39mto_csv(\u001b[38;5;124m\"\u001b[39m\u001b[38;5;124mdata/wage_data.csv\u001b[39m\u001b[38;5;124m\"\u001b[39m)\n\u001b[1;32m      2\u001b[0m \u001b[38;5;28mprint\u001b[39m(\u001b[38;5;124m\"\u001b[39m\u001b[38;5;124mwage_data shape:\u001b[39m\u001b[38;5;124m\"\u001b[39m, wage_data\u001b[38;5;241m.\u001b[39mshape)\n",
      "\u001b[0;31mNameError\u001b[0m: name 'wage_data' is not defined"
     ]
    }
   ],
   "source": [
    "wage_data.to_csv(\"data/wage_data.csv\")\n",
    "print(\"wage_data shape:\", wage_data.shape)"
   ]
  },
  {
   "cell_type": "code",
   "execution_count": 13,
   "id": "113ca5f7",
   "metadata": {
    "execution": {
     "iopub.execute_input": "2023-05-10T01:43:32.083104Z",
     "iopub.status.busy": "2023-05-10T01:43:32.083023Z",
     "iopub.status.idle": "2023-05-10T01:43:32.089280Z",
     "shell.execute_reply": "2023-05-10T01:43:32.089028Z"
    }
   },
   "outputs": [
    {
     "ename": "NameError",
     "evalue": "name 'prediction_list' is not defined",
     "output_type": "error",
     "traceback": [
      "\u001b[0;31m---------------------------------------------------------------------------\u001b[0m",
      "\u001b[0;31mNameError\u001b[0m                                 Traceback (most recent call last)",
      "Cell \u001b[0;32mIn [13], line 1\u001b[0m\n\u001b[0;32m----> 1\u001b[0m \u001b[43mprediction_list\u001b[49m\u001b[38;5;241m.\u001b[39mto_csv(\u001b[38;5;124m\"\u001b[39m\u001b[38;5;124mdata/prediction_list.csv\u001b[39m\u001b[38;5;124m\"\u001b[39m)\n\u001b[1;32m      2\u001b[0m \u001b[38;5;28mprint\u001b[39m(\u001b[38;5;124m\"\u001b[39m\u001b[38;5;124mprediction_list shape:\u001b[39m\u001b[38;5;124m\"\u001b[39m, prediction_list\u001b[38;5;241m.\u001b[39mshape)\n",
      "\u001b[0;31mNameError\u001b[0m: name 'prediction_list' is not defined"
     ]
    }
   ],
   "source": [
    "prediction_list.to_csv(\"data/prediction_list.csv\")\n",
    "print(\"prediction_list shape:\", prediction_list.shape)"
   ]
  },
  {
   "cell_type": "code",
   "execution_count": 14,
   "id": "904f4908",
   "metadata": {
    "execution": {
     "iopub.execute_input": "2023-05-10T01:43:32.090623Z",
     "iopub.status.busy": "2023-05-10T01:43:32.090538Z",
     "iopub.status.idle": "2023-05-10T01:43:32.092215Z",
     "shell.execute_reply": "2023-05-10T01:43:32.091987Z"
    }
   },
   "outputs": [],
   "source": [
    "# check if how many weeks of data are provided for each uu_id\n",
    "query = \"\"\"\n",
    "SELECT uu_id, COUNT(week_number) as num_of_weeks\n",
    "FROM ironhacks-data.ironhacks_competition.unemployment_data\n",
    "GROUP BY uu_id\n",
    "ORDER BY num_of_weeks DESC\n",
    "\"\"\""
   ]
  },
  {
   "cell_type": "code",
   "execution_count": 15,
   "id": "fdb23382",
   "metadata": {
    "execution": {
     "iopub.execute_input": "2023-05-10T01:43:32.093583Z",
     "iopub.status.busy": "2023-05-10T01:43:32.093498Z",
     "iopub.status.idle": "2023-05-10T01:43:32.099801Z",
     "shell.execute_reply": "2023-05-10T01:43:32.099581Z"
    }
   },
   "outputs": [
    {
     "ename": "NameError",
     "evalue": "name 'bigquery_client' is not defined",
     "output_type": "error",
     "traceback": [
      "\u001b[0;31m---------------------------------------------------------------------------\u001b[0m",
      "\u001b[0;31mNameError\u001b[0m                                 Traceback (most recent call last)",
      "Cell \u001b[0;32mIn [15], line 1\u001b[0m\n\u001b[0;32m----> 1\u001b[0m \u001b[43mbigquery_client\u001b[49m\u001b[38;5;241m.\u001b[39mquery(query)\u001b[38;5;241m.\u001b[39mto_dataframe()\n",
      "\u001b[0;31mNameError\u001b[0m: name 'bigquery_client' is not defined"
     ]
    }
   ],
   "source": [
    "bigquery_client.query(query).to_dataframe()"
   ]
  },
  {
   "cell_type": "code",
   "execution_count": 16,
   "id": "cfc936ae",
   "metadata": {
    "execution": {
     "iopub.execute_input": "2023-05-10T01:43:32.101147Z",
     "iopub.status.busy": "2023-05-10T01:43:32.101064Z",
     "iopub.status.idle": "2023-05-10T01:43:32.108239Z",
     "shell.execute_reply": "2023-05-10T01:43:32.107968Z"
    }
   },
   "outputs": [
    {
     "ename": "NameError",
     "evalue": "name 'bigquery_client' is not defined",
     "output_type": "error",
     "traceback": [
      "\u001b[0;31m---------------------------------------------------------------------------\u001b[0m",
      "\u001b[0;31mNameError\u001b[0m                                 Traceback (most recent call last)",
      "Cell \u001b[0;32mIn [16], line 8\u001b[0m\n\u001b[1;32m      1\u001b[0m \u001b[38;5;66;03m# query week_number data for uu_id 920b9820c654673d472494c346da5651\u001b[39;00m\n\u001b[1;32m      2\u001b[0m query \u001b[38;5;241m=\u001b[39m \u001b[38;5;124m\"\"\"\u001b[39m\n\u001b[1;32m      3\u001b[0m \u001b[38;5;124mSELECT uu_id, week_number\u001b[39m\n\u001b[1;32m      4\u001b[0m \u001b[38;5;124mFROM ironhacks-data.ironhacks_competition.unemployment_data\u001b[39m\n\u001b[1;32m      5\u001b[0m \u001b[38;5;124mWHERE uu_id=\u001b[39m\u001b[38;5;124m\"\u001b[39m\u001b[38;5;124m920b9820c654673d472494c346da5651\u001b[39m\u001b[38;5;124m\"\u001b[39m\n\u001b[1;32m      6\u001b[0m \u001b[38;5;124mORDER BY week_number\u001b[39m\n\u001b[1;32m      7\u001b[0m \u001b[38;5;124m\"\"\"\u001b[39m\n\u001b[0;32m----> 8\u001b[0m \u001b[38;5;28mprint\u001b[39m(\u001b[43mbigquery_client\u001b[49m\u001b[38;5;241m.\u001b[39mquery(query)\u001b[38;5;241m.\u001b[39mto_dataframe()\u001b[38;5;241m.\u001b[39mto_string(index\u001b[38;5;241m=\u001b[39m\u001b[38;5;28;01mFalse\u001b[39;00m))\n",
      "\u001b[0;31mNameError\u001b[0m: name 'bigquery_client' is not defined"
     ]
    }
   ],
   "source": [
    "# query week_number data for uu_id 920b9820c654673d472494c346da5651\n",
    "query = \"\"\"\n",
    "SELECT uu_id, week_number\n",
    "FROM ironhacks-data.ironhacks_competition.unemployment_data\n",
    "WHERE uu_id=\"920b9820c654673d472494c346da5651\"\n",
    "ORDER BY week_number\n",
    "\"\"\"\n",
    "print(bigquery_client.query(query).to_dataframe().to_string(index=False))"
   ]
  },
  {
   "cell_type": "code",
   "execution_count": 17,
   "id": "4332dc77",
   "metadata": {
    "execution": {
     "iopub.execute_input": "2023-05-10T01:43:32.109600Z",
     "iopub.status.busy": "2023-05-10T01:43:32.109520Z",
     "iopub.status.idle": "2023-05-10T01:43:32.111130Z",
     "shell.execute_reply": "2023-05-10T01:43:32.110910Z"
    }
   },
   "outputs": [],
   "source": [
    "# use distinct to remove the duplication and re-count the number of weeks\n",
    "query = \"\"\"\n",
    "SELECT uu_id, COUNT(DISTINCT(week_number)) as num_of_weeks\n",
    "FROM ironhacks-data.ironhacks_competition.unemployment_data\n",
    "GROUP BY uu_id\n",
    "ORDER BY num_of_weeks DESC\n",
    "\"\"\""
   ]
  },
  {
   "cell_type": "code",
   "execution_count": 18,
   "id": "0bb647d3",
   "metadata": {
    "execution": {
     "iopub.execute_input": "2023-05-10T01:43:32.112395Z",
     "iopub.status.busy": "2023-05-10T01:43:32.112312Z",
     "iopub.status.idle": "2023-05-10T01:43:32.118483Z",
     "shell.execute_reply": "2023-05-10T01:43:32.118268Z"
    }
   },
   "outputs": [
    {
     "ename": "NameError",
     "evalue": "name 'bigquery_client' is not defined",
     "output_type": "error",
     "traceback": [
      "\u001b[0;31m---------------------------------------------------------------------------\u001b[0m",
      "\u001b[0;31mNameError\u001b[0m                                 Traceback (most recent call last)",
      "Cell \u001b[0;32mIn [18], line 1\u001b[0m\n\u001b[0;32m----> 1\u001b[0m \u001b[43mbigquery_client\u001b[49m\u001b[38;5;241m.\u001b[39mquery(query)\u001b[38;5;241m.\u001b[39mto_dataframe()\n",
      "\u001b[0;31mNameError\u001b[0m: name 'bigquery_client' is not defined"
     ]
    }
   ],
   "source": [
    "bigquery_client.query(query).to_dataframe()"
   ]
  },
  {
   "cell_type": "code",
   "execution_count": 19,
   "id": "4c224643",
   "metadata": {
    "execution": {
     "iopub.execute_input": "2023-05-10T01:43:32.119775Z",
     "iopub.status.busy": "2023-05-10T01:43:32.119693Z",
     "iopub.status.idle": "2023-05-10T01:43:32.121341Z",
     "shell.execute_reply": "2023-05-10T01:43:32.121127Z"
    }
   },
   "outputs": [],
   "source": [
    "# use sub-query to retrieve the num_of_uuids vs num_of_weeks, plot the results\n",
    "query = \"\"\"\n",
    "SELECT num_of_weeks, COUNT(num_of_weeks) as num_of_uuids\n",
    "FROM (\n",
    "    SELECT uu_id, COUNT(DISTINCT(week_number)) as num_of_weeks\n",
    "    FROM ironhacks-data.ironhacks_competition.unemployment_data\n",
    "    GROUP BY uu_id\n",
    "    ORDER BY num_of_weeks DESC\n",
    ")\n",
    "GROUP BY num_of_weeks\n",
    "ORDER BY num_of_weeks\n",
    "\"\"\""
   ]
  },
  {
   "cell_type": "code",
   "execution_count": 20,
   "id": "0882f2d7",
   "metadata": {
    "execution": {
     "iopub.execute_input": "2023-05-10T01:43:32.122593Z",
     "iopub.status.busy": "2023-05-10T01:43:32.122519Z",
     "iopub.status.idle": "2023-05-10T01:43:32.128775Z",
     "shell.execute_reply": "2023-05-10T01:43:32.128545Z"
    }
   },
   "outputs": [
    {
     "ename": "NameError",
     "evalue": "name 'bigquery_client' is not defined",
     "output_type": "error",
     "traceback": [
      "\u001b[0;31m---------------------------------------------------------------------------\u001b[0m",
      "\u001b[0;31mNameError\u001b[0m                                 Traceback (most recent call last)",
      "Cell \u001b[0;32mIn [20], line 1\u001b[0m\n\u001b[0;32m----> 1\u001b[0m uuid_weeks \u001b[38;5;241m=\u001b[39m \u001b[43mbigquery_client\u001b[49m\u001b[38;5;241m.\u001b[39mquery(query)\u001b[38;5;241m.\u001b[39mto_dataframe()\n",
      "\u001b[0;31mNameError\u001b[0m: name 'bigquery_client' is not defined"
     ]
    }
   ],
   "source": [
    "uuid_weeks = bigquery_client.query(query).to_dataframe()"
   ]
  },
  {
   "cell_type": "code",
   "execution_count": 21,
   "id": "7c451973",
   "metadata": {
    "execution": {
     "iopub.execute_input": "2023-05-10T01:43:32.130113Z",
     "iopub.status.busy": "2023-05-10T01:43:32.130035Z",
     "iopub.status.idle": "2023-05-10T01:43:32.138192Z",
     "shell.execute_reply": "2023-05-10T01:43:32.137938Z"
    }
   },
   "outputs": [
    {
     "ename": "NameError",
     "evalue": "name 'uuid_weeks' is not defined",
     "output_type": "error",
     "traceback": [
      "\u001b[0;31m---------------------------------------------------------------------------\u001b[0m",
      "\u001b[0;31mNameError\u001b[0m                                 Traceback (most recent call last)",
      "Cell \u001b[0;32mIn [21], line 1\u001b[0m\n\u001b[0;32m----> 1\u001b[0m week_count_label \u001b[38;5;241m=\u001b[39m \u001b[38;5;28mlist\u001b[39m(\u001b[38;5;28mmap\u001b[39m(\u001b[38;5;28mstr\u001b[39m, \u001b[38;5;28mlist\u001b[39m(\u001b[43muuid_weeks\u001b[49m[\u001b[38;5;124m\"\u001b[39m\u001b[38;5;124mnum_of_weeks\u001b[39m\u001b[38;5;124m\"\u001b[39m])))\n\u001b[1;32m      2\u001b[0m num_of_uuids \u001b[38;5;241m=\u001b[39m \u001b[38;5;28mlist\u001b[39m(uuid_weeks[\u001b[38;5;124m\"\u001b[39m\u001b[38;5;124mnum_of_uuids\u001b[39m\u001b[38;5;124m\"\u001b[39m])\n\u001b[1;32m      3\u001b[0m plt\u001b[38;5;241m.\u001b[39mfigure(figsize\u001b[38;5;241m=\u001b[39m(\u001b[38;5;241m6\u001b[39m,\u001b[38;5;241m6\u001b[39m))\n",
      "\u001b[0;31mNameError\u001b[0m: name 'uuid_weeks' is not defined"
     ]
    }
   ],
   "source": [
    "week_count_label = list(map(str, list(uuid_weeks[\"num_of_weeks\"])))\n",
    "num_of_uuids = list(uuid_weeks[\"num_of_uuids\"])\n",
    "plt.figure(figsize=(6,6))\n",
    "plt.barh(week_count_label, num_of_uuids)\n",
    "plt.yticks(week_count_label)\n",
    "plt.ylabel(\"How many weeks of data are included\")\n",
    "plt.xlabel(\"Number of UUIDs\")\n",
    "for i, v in enumerate(num_of_uuids):\n",
    "    plt.text(v + 1, i - 0.4, str(v), size=\"small\")\n",
    "plt.tight_layout()\n",
    "plt.show()"
   ]
  },
  {
   "cell_type": "code",
   "execution_count": 22,
   "id": "0718aa07",
   "metadata": {
    "execution": {
     "iopub.execute_input": "2023-05-10T01:43:32.139541Z",
     "iopub.status.busy": "2023-05-10T01:43:32.139461Z",
     "iopub.status.idle": "2023-05-10T01:43:32.146371Z",
     "shell.execute_reply": "2023-05-10T01:43:32.146130Z"
    }
   },
   "outputs": [
    {
     "ename": "NameError",
     "evalue": "name 'num_of_uuids' is not defined",
     "output_type": "error",
     "traceback": [
      "\u001b[0;31m---------------------------------------------------------------------------\u001b[0m",
      "\u001b[0;31mNameError\u001b[0m                                 Traceback (most recent call last)",
      "Cell \u001b[0;32mIn [22], line 1\u001b[0m\n\u001b[0;32m----> 1\u001b[0m \u001b[38;5;28mprint\u001b[39m(\u001b[38;5;28mstr\u001b[39m(np\u001b[38;5;241m.\u001b[39marray(\u001b[43mnum_of_uuids\u001b[49m)[\u001b[38;5;241m-\u001b[39m\u001b[38;5;241m6\u001b[39m:]\u001b[38;5;241m.\u001b[39msum()), \u001b[38;5;124m\"\u001b[39m\u001b[38;5;124mout of 573 uuids have no less than 30 weeks of datapoints.\u001b[39m\u001b[38;5;124m\"\u001b[39m)\n\u001b[1;32m      2\u001b[0m \u001b[38;5;28mprint\u001b[39m(\u001b[38;5;28mstr\u001b[39m(np\u001b[38;5;241m.\u001b[39marray(num_of_uuids)[:\u001b[38;5;241m9\u001b[39m]\u001b[38;5;241m.\u001b[39msum()), \u001b[38;5;124m\"\u001b[39m\u001b[38;5;124mout of 573 uuids have no more than 10 weeks of datapoints.\u001b[39m\u001b[38;5;124m\"\u001b[39m)\n",
      "\u001b[0;31mNameError\u001b[0m: name 'num_of_uuids' is not defined"
     ]
    }
   ],
   "source": [
    "print(str(np.array(num_of_uuids)[-6:].sum()), \"out of 573 uuids have no less than 30 weeks of datapoints.\")\n",
    "print(str(np.array(num_of_uuids)[:9].sum()), \"out of 573 uuids have no more than 10 weeks of datapoints.\")"
   ]
  },
  {
   "cell_type": "code",
   "execution_count": 23,
   "id": "71d35b11",
   "metadata": {
    "execution": {
     "iopub.execute_input": "2023-05-10T01:43:32.147763Z",
     "iopub.status.busy": "2023-05-10T01:43:32.147683Z",
     "iopub.status.idle": "2023-05-10T01:43:32.155133Z",
     "shell.execute_reply": "2023-05-10T01:43:32.154898Z"
    }
   },
   "outputs": [
    {
     "ename": "NameError",
     "evalue": "name 'bigquery_client' is not defined",
     "output_type": "error",
     "traceback": [
      "\u001b[0;31m---------------------------------------------------------------------------\u001b[0m",
      "\u001b[0;31mNameError\u001b[0m                                 Traceback (most recent call last)",
      "Cell \u001b[0;32mIn [23], line 8\u001b[0m\n\u001b[1;32m      1\u001b[0m \u001b[38;5;66;03m# query the number of datapoints for each week, use DISTINCT on uu_id to remove duplication\u001b[39;00m\n\u001b[1;32m      2\u001b[0m QUERY \u001b[38;5;241m=\u001b[39m \u001b[38;5;124m\"\"\"\u001b[39m\n\u001b[1;32m      3\u001b[0m \u001b[38;5;124mSELECT week_number, Count(DISTINCT(uu_id)) as count\u001b[39m\n\u001b[1;32m      4\u001b[0m \u001b[38;5;124mFROM ironhacks-data.ironhacks_competition.unemployment_data\u001b[39m\n\u001b[1;32m      5\u001b[0m \u001b[38;5;124mGROUP BY week_number\u001b[39m\n\u001b[1;32m      6\u001b[0m \u001b[38;5;124mORDER BY week_number\u001b[39m\n\u001b[1;32m      7\u001b[0m \u001b[38;5;124m\"\"\"\u001b[39m\n\u001b[0;32m----> 8\u001b[0m query_job \u001b[38;5;241m=\u001b[39m \u001b[43mbigquery_client\u001b[49m\u001b[38;5;241m.\u001b[39mquery(QUERY)\n\u001b[1;32m      9\u001b[0m week_number_count \u001b[38;5;241m=\u001b[39m query_job\u001b[38;5;241m.\u001b[39mto_dataframe()\n\u001b[1;32m     10\u001b[0m display(week_number_count\u001b[38;5;241m.\u001b[39mT)\n",
      "\u001b[0;31mNameError\u001b[0m: name 'bigquery_client' is not defined"
     ]
    }
   ],
   "source": [
    "# query the number of datapoints for each week, use DISTINCT on uu_id to remove duplication\n",
    "QUERY = \"\"\"\n",
    "SELECT week_number, Count(DISTINCT(uu_id)) as count\n",
    "FROM ironhacks-data.ironhacks_competition.unemployment_data\n",
    "GROUP BY week_number\n",
    "ORDER BY week_number\n",
    "\"\"\"\n",
    "query_job = bigquery_client.query(QUERY)\n",
    "week_number_count = query_job.to_dataframe()\n",
    "display(week_number_count.T)\n",
    "print(\"week_number: \\n\" + str(week_number_count.T.to_numpy()[0]))\n",
    "print(\"count: \\n\" + str(week_number_count.T.to_numpy()[1]))"
   ]
  },
  {
   "cell_type": "code",
   "execution_count": 24,
   "id": "0cb569ee",
   "metadata": {
    "execution": {
     "iopub.execute_input": "2023-05-10T01:43:32.156465Z",
     "iopub.status.busy": "2023-05-10T01:43:32.156382Z",
     "iopub.status.idle": "2023-05-10T01:43:32.164430Z",
     "shell.execute_reply": "2023-05-10T01:43:32.164190Z"
    }
   },
   "outputs": [
    {
     "ename": "NameError",
     "evalue": "name 'week_number_count' is not defined",
     "output_type": "error",
     "traceback": [
      "\u001b[0;31m---------------------------------------------------------------------------\u001b[0m",
      "\u001b[0;31mNameError\u001b[0m                                 Traceback (most recent call last)",
      "Cell \u001b[0;32mIn [24], line 4\u001b[0m\n\u001b[1;32m      2\u001b[0m i \u001b[38;5;241m=\u001b[39m \u001b[38;5;241m0\u001b[39m\n\u001b[1;32m      3\u001b[0m week_number_count_filled \u001b[38;5;241m=\u001b[39m []\n\u001b[0;32m----> 4\u001b[0m \u001b[38;5;28;01mfor\u001b[39;00m w_c \u001b[38;5;129;01min\u001b[39;00m \u001b[43mweek_number_count\u001b[49m\u001b[38;5;241m.\u001b[39mto_numpy():\n\u001b[1;32m      5\u001b[0m     i \u001b[38;5;241m=\u001b[39m i \u001b[38;5;241m+\u001b[39m \u001b[38;5;241m1\u001b[39m\n\u001b[1;32m      6\u001b[0m     \u001b[38;5;28;01mif\u001b[39;00m w_c[\u001b[38;5;241m0\u001b[39m] \u001b[38;5;241m==\u001b[39m i:\n",
      "\u001b[0;31mNameError\u001b[0m: name 'week_number_count' is not defined"
     ]
    }
   ],
   "source": [
    "# fill the missing weeks' count with 0 for week 4 and week 23\n",
    "i = 0\n",
    "week_number_count_filled = []\n",
    "for w_c in week_number_count.to_numpy():\n",
    "    i = i + 1\n",
    "    if w_c[0] == i:\n",
    "        week_number_count_filled.append(list(w_c))\n",
    "    else:\n",
    "        week_number_count_filled.append(list([i, 0]))\n",
    "        week_number_count_filled.append(list(w_c))\n",
    "        i = i + 1\n",
    "print(\"Total number of weeks:\", i)"
   ]
  },
  {
   "cell_type": "code",
   "execution_count": 25,
   "id": "6f06ad7f",
   "metadata": {
    "execution": {
     "iopub.execute_input": "2023-05-10T01:43:32.165789Z",
     "iopub.status.busy": "2023-05-10T01:43:32.165708Z",
     "iopub.status.idle": "2023-05-10T01:43:32.174480Z",
     "shell.execute_reply": "2023-05-10T01:43:32.174241Z"
    }
   },
   "outputs": [
    {
     "ename": "IndexError",
     "evalue": "too many indices for array: array is 1-dimensional, but 2 were indexed",
     "output_type": "error",
     "traceback": [
      "\u001b[0;31m---------------------------------------------------------------------------\u001b[0m",
      "\u001b[0;31mIndexError\u001b[0m                                Traceback (most recent call last)",
      "Cell \u001b[0;32mIn [25], line 2\u001b[0m\n\u001b[1;32m      1\u001b[0m \u001b[38;5;66;03m# plot the filled result\u001b[39;00m\n\u001b[0;32m----> 2\u001b[0m week_number \u001b[38;5;241m=\u001b[39m \u001b[38;5;28mlist\u001b[39m(\u001b[43mnp\u001b[49m\u001b[38;5;241;43m.\u001b[39;49m\u001b[43marray\u001b[49m\u001b[43m(\u001b[49m\u001b[43mweek_number_count_filled\u001b[49m\u001b[43m)\u001b[49m\u001b[43m[\u001b[49m\u001b[43m:\u001b[49m\u001b[43m,\u001b[49m\u001b[38;5;241;43m0\u001b[39;49m\u001b[43m]\u001b[49m)\n\u001b[1;32m      3\u001b[0m week_count \u001b[38;5;241m=\u001b[39m \u001b[38;5;28mlist\u001b[39m(np\u001b[38;5;241m.\u001b[39marray(week_number_count_filled)[:,\u001b[38;5;241m1\u001b[39m])\n\u001b[1;32m      4\u001b[0m plt\u001b[38;5;241m.\u001b[39mfigure(figsize\u001b[38;5;241m=\u001b[39m(\u001b[38;5;241m8\u001b[39m,\u001b[38;5;241m6\u001b[39m))\n",
      "\u001b[0;31mIndexError\u001b[0m: too many indices for array: array is 1-dimensional, but 2 were indexed"
     ]
    }
   ],
   "source": [
    "# plot the filled result\n",
    "week_number = list(np.array(week_number_count_filled)[:,0])\n",
    "week_count = list(np.array(week_number_count_filled)[:,1])\n",
    "plt.figure(figsize=(8,6))\n",
    "plt.barh(week_number, week_count)\n",
    "plt.yticks(week_number)\n",
    "plt.ylabel(\"Week number\") \n",
    "plt.xlabel(\"Number of Datapoints\")\n",
    "for i, v in enumerate(week_count):\n",
    "    plt.text(v + 2, i + 0.7, str(v), size=\"small\")\n",
    "plt.tight_layout()\n",
    "plt.show()"
   ]
  },
  {
   "cell_type": "code",
   "execution_count": 26,
   "id": "fa323e51",
   "metadata": {
    "execution": {
     "iopub.execute_input": "2023-05-10T01:43:32.175886Z",
     "iopub.status.busy": "2023-05-10T01:43:32.175806Z",
     "iopub.status.idle": "2023-05-10T01:43:32.182376Z",
     "shell.execute_reply": "2023-05-10T01:43:32.182103Z"
    }
   },
   "outputs": [
    {
     "ename": "NameError",
     "evalue": "name 'bigquery_client' is not defined",
     "output_type": "error",
     "traceback": [
      "\u001b[0;31m---------------------------------------------------------------------------\u001b[0m",
      "\u001b[0;31mNameError\u001b[0m                                 Traceback (most recent call last)",
      "Cell \u001b[0;32mIn [26], line 12\u001b[0m\n\u001b[1;32m      1\u001b[0m \u001b[38;5;66;03m# select 10 of 96 uuids with 3 weeks' data\u001b[39;00m\n\u001b[1;32m      2\u001b[0m QUERY \u001b[38;5;241m=\u001b[39m \u001b[38;5;124m\"\"\"\u001b[39m\n\u001b[1;32m      3\u001b[0m \u001b[38;5;124mSELECT uu_id\u001b[39m\n\u001b[1;32m      4\u001b[0m \u001b[38;5;124mFROM (\u001b[39m\n\u001b[0;32m   (...)\u001b[0m\n\u001b[1;32m     10\u001b[0m \u001b[38;5;124mLIMIT 10\u001b[39m\n\u001b[1;32m     11\u001b[0m \u001b[38;5;124m\"\"\"\u001b[39m\n\u001b[0;32m---> 12\u001b[0m query_job \u001b[38;5;241m=\u001b[39m \u001b[43mbigquery_client\u001b[49m\u001b[38;5;241m.\u001b[39mquery(QUERY)\n\u001b[1;32m     13\u001b[0m ten_uuid_with_35_weeks \u001b[38;5;241m=\u001b[39m query_job\u001b[38;5;241m.\u001b[39mto_dataframe()\n\u001b[1;32m     14\u001b[0m ten_uuid_with_35_weeks\n",
      "\u001b[0;31mNameError\u001b[0m: name 'bigquery_client' is not defined"
     ]
    }
   ],
   "source": [
    "# select 10 of 96 uuids with 3 weeks' data\n",
    "QUERY = \"\"\"\n",
    "SELECT uu_id\n",
    "FROM (\n",
    "    SELECT uu_id, COUNT(DISTINCT(week_number)) as week_count\n",
    "    FROM ironhacks-data.ironhacks_competition.unemployment_data\n",
    "    GROUP BY uu_id\n",
    ")\n",
    "WHERE week_count = 35\n",
    "LIMIT 10\n",
    "\"\"\"\n",
    "query_job = bigquery_client.query(QUERY)\n",
    "ten_uuid_with_35_weeks = query_job.to_dataframe()\n",
    "ten_uuid_with_35_weeks"
   ]
  },
  {
   "cell_type": "code",
   "execution_count": 27,
   "id": "9d8e3451",
   "metadata": {
    "execution": {
     "iopub.execute_input": "2023-05-10T01:43:32.184650Z",
     "iopub.status.busy": "2023-05-10T01:43:32.184492Z",
     "iopub.status.idle": "2023-05-10T01:43:32.192296Z",
     "shell.execute_reply": "2023-05-10T01:43:32.192010Z"
    },
    "lines_to_next_cell": 1
   },
   "outputs": [
    {
     "ename": "NameError",
     "evalue": "name 'ten_uuid_with_35_weeks' is not defined",
     "output_type": "error",
     "traceback": [
      "\u001b[0;31m---------------------------------------------------------------------------\u001b[0m",
      "\u001b[0;31mNameError\u001b[0m                                 Traceback (most recent call last)",
      "Cell \u001b[0;32mIn [27], line 3\u001b[0m\n\u001b[1;32m      1\u001b[0m \u001b[38;5;66;03m# query the 10 selected UUID data\u001b[39;00m\n\u001b[1;32m      2\u001b[0m ten_35w_data \u001b[38;5;241m=\u001b[39m []\n\u001b[0;32m----> 3\u001b[0m \u001b[38;5;28;01mfor\u001b[39;00m uu_id \u001b[38;5;129;01min\u001b[39;00m \u001b[43mten_uuid_with_35_weeks\u001b[49m[\u001b[38;5;124m\"\u001b[39m\u001b[38;5;124muu_id\u001b[39m\u001b[38;5;124m\"\u001b[39m]:\n\u001b[1;32m      4\u001b[0m     QUERY\u001b[38;5;241m=\u001b[39m\u001b[38;5;124m\"\"\"\u001b[39m\n\u001b[1;32m      5\u001b[0m \u001b[38;5;124m    SELECT uu_id, week_number, total_claims\u001b[39m\n\u001b[1;32m      6\u001b[0m \u001b[38;5;124m    FROM ironhacks-data.ironhacks_competition.unemployment_data\u001b[39m\n\u001b[1;32m      7\u001b[0m \u001b[38;5;124m    WHERE uu_id=\u001b[39m\u001b[38;5;124m\"\u001b[39m\u001b[38;5;132;01m%s\u001b[39;00m\u001b[38;5;124m\"\u001b[39m\n\u001b[1;32m      8\u001b[0m \u001b[38;5;124m    ORDER BY week_number\u001b[39m\n\u001b[1;32m      9\u001b[0m \u001b[38;5;124m    \u001b[39m\u001b[38;5;124m\"\"\"\u001b[39m\u001b[38;5;241m%\u001b[39m(uu_id)\n\u001b[1;32m     10\u001b[0m     query_job \u001b[38;5;241m=\u001b[39m bigquery_client\u001b[38;5;241m.\u001b[39mquery(QUERY)\n",
      "\u001b[0;31mNameError\u001b[0m: name 'ten_uuid_with_35_weeks' is not defined"
     ]
    }
   ],
   "source": [
    "# query the 10 selected UUID data\n",
    "ten_35w_data = []\n",
    "for uu_id in ten_uuid_with_35_weeks[\"uu_id\"]:\n",
    "    QUERY=\"\"\"\n",
    "    SELECT uu_id, week_number, total_claims\n",
    "    FROM ironhacks-data.ironhacks_competition.unemployment_data\n",
    "    WHERE uu_id=\"%s\"\n",
    "    ORDER BY week_number\n",
    "    \"\"\"%(uu_id)\n",
    "    query_job = bigquery_client.query(QUERY)\n",
    "    ten_35w_data.append(query_job.to_dataframe().drop_duplicates(ignore_index=True))"
   ]
  },
  {
   "cell_type": "code",
   "execution_count": 28,
   "id": "270364ec",
   "metadata": {
    "execution": {
     "iopub.execute_input": "2023-05-10T01:43:32.193718Z",
     "iopub.status.busy": "2023-05-10T01:43:32.193635Z",
     "iopub.status.idle": "2023-05-10T01:43:32.197607Z",
     "shell.execute_reply": "2023-05-10T01:43:32.197386Z"
    },
    "lines_to_next_cell": 1
   },
   "outputs": [],
   "source": [
    "# manually add week 4 and week 23 missing data\n",
    "def fill_week4_and_week23(df, method, replace=False):\n",
    "    \"\"\"\n",
    "    Fill or replace the week 4 and week 23 missing total_claims data.\n",
    "    Args:\n",
    "        df: Dataframe\n",
    "            The input dataframe with missing total claims or to be replaced.\n",
    "        method: string\n",
    "            prev - use previous week's value\n",
    "            next - use next week's value\n",
    "            mid - use mean value of previous and next weeks\n",
    "        replace: bool\n",
    "            True - replace the existing week 4 and week 23 total_claim values\n",
    "            False - add the missing values\n",
    "    Returns:\n",
    "        Dataframe:\n",
    "            Dataframe with added total_claim values or replaced values.\n",
    "    \"\"\"\n",
    "    uuid = df[\"uu_id\"][0]\n",
    "    week_list = list(df[\"week_number\"])\n",
    "    if 4 in week_list and 23 in week_list and not replace:\n",
    "        print(\"Week 4 and week 23 data already exist, please use replace=True\")\n",
    "        return df\n",
    "    if 4 not in week_list and 23 not in week_list and replace:\n",
    "        print(\"Week 4 and week 23 data do not exist, replace failed\")\n",
    "        return df\n",
    "    if 4 not in week_list and 23 not in week_list and not replace:\n",
    "        print(\"Fill uuid\", uuid, \"week 4 and week 23 data with\", method, \"values\")\n",
    "    if 4 in week_list and 23 in week_list and replace:\n",
    "        print(\"Replace uuid\", uuid, \"week 4 and week 23 data with\", method, \"values\")\n",
    "        # remove exisiting value and insert again\n",
    "        df = df.drop(df.index[[3, 22]])\n",
    "        df = df.sort_index().reset_index(drop=True)\n",
    "        \n",
    "    if method == \"prev\":\n",
    "        # use previous avaliable week's value\n",
    "        val_4 = df[\"total_claims\"][2]\n",
    "        val_23 = df[\"total_claims\"][20]\n",
    "    if method == \"next\":\n",
    "        # use next avaliable week's value\n",
    "        val_4 = df[\"total_claims\"][3]\n",
    "        val_23 = df[\"total_claims\"][21]\n",
    "    if method == \"mid\":\n",
    "        # use mean value of previous and next avaliable weeks\n",
    "        val_4 = int((df[\"total_claims\"][2] + df[\"total_claims\"][3]) * 0.5)\n",
    "        val_23 = int((df[\"total_claims\"][20] + df[\"total_claims\"][21]) * 0.5)\n",
    "    \n",
    "    # week 4\n",
    "    df.loc[2.5] = [uuid, 4, val_4]\n",
    "    # week 23\n",
    "    df.loc[20.5] = [uuid, 23, val_23]\n",
    "    return df.sort_index().reset_index(drop=True)"
   ]
  },
  {
   "cell_type": "code",
   "execution_count": 29,
   "id": "49eb434f",
   "metadata": {
    "execution": {
     "iopub.execute_input": "2023-05-10T01:43:32.198885Z",
     "iopub.status.busy": "2023-05-10T01:43:32.198800Z",
     "iopub.status.idle": "2023-05-10T01:43:32.200536Z",
     "shell.execute_reply": "2023-05-10T01:43:32.200327Z"
    }
   },
   "outputs": [],
   "source": [
    "# fill the missing data using mean value of prev week and next week for all 10 uuids\n",
    "for i in range(len(ten_35w_data)):\n",
    "    ten_35w_data[i] = fill_week4_and_week23(ten_35w_data[i], \"mid\")"
   ]
  },
  {
   "cell_type": "code",
   "execution_count": 30,
   "id": "ee939317",
   "metadata": {
    "execution": {
     "iopub.execute_input": "2023-05-10T01:43:32.201872Z",
     "iopub.status.busy": "2023-05-10T01:43:32.201790Z",
     "iopub.status.idle": "2023-05-10T01:43:32.284471Z",
     "shell.execute_reply": "2023-05-10T01:43:32.284194Z"
    }
   },
   "outputs": [
    {
     "data": {
      "image/png": "[encoded data removed]",
      "text/plain": [
       "<Figure size 1200x400 with 1 Axes>"
      ]
     },
     "metadata": {},
     "output_type": "display_data"
    }
   ],
   "source": [
    "# plot the 10 uuid total_claim data from week 1 to week 37\n",
    "plt.figure(figsize=(12,4))\n",
    "plt.title(\"10 selected uuid with 37 weeks of data total_claim plot\")\n",
    "for i in range(len(ten_35w_data)):\n",
    "    plt.plot(list(map(str, ten_35w_data[i][\"week_number\"])), \n",
    "             ten_35w_data[i][\"total_claims\"], \n",
    "             \"o-\", linewidth=1, markersize=5, alpha=0.7,\n",
    "             label=ten_35w_data[i][\"uu_id\"][0])\n",
    "    plt.legend(bbox_to_anchor=(1.01, 1), loc='upper left', borderaxespad=0.)\n",
    "plt.xlabel(\"week_number\")\n",
    "plt.ylabel(\"total_claims\")\n",
    "plt.grid(axis=\"y\")\n",
    "plt.tight_layout()\n",
    "plt.show()"
   ]
  },
  {
   "cell_type": "code",
   "execution_count": 31,
   "id": "9453f584",
   "metadata": {
    "execution": {
     "iopub.execute_input": "2023-05-10T01:43:32.286001Z",
     "iopub.status.busy": "2023-05-10T01:43:32.285882Z",
     "iopub.status.idle": "2023-05-10T01:43:32.293332Z",
     "shell.execute_reply": "2023-05-10T01:43:32.293076Z"
    }
   },
   "outputs": [
    {
     "ename": "NameError",
     "evalue": "name 'bigquery_client' is not defined",
     "output_type": "error",
     "traceback": [
      "\u001b[0;31m---------------------------------------------------------------------------\u001b[0m",
      "\u001b[0;31mNameError\u001b[0m                                 Traceback (most recent call last)",
      "Cell \u001b[0;32mIn [31], line 11\u001b[0m\n\u001b[1;32m      1\u001b[0m \u001b[38;5;66;03m# select 10 of 96 uuids with 3 weeks' data\u001b[39;00m\n\u001b[1;32m      2\u001b[0m QUERY \u001b[38;5;241m=\u001b[39m \u001b[38;5;124m\"\"\"\u001b[39m\n\u001b[1;32m      3\u001b[0m \u001b[38;5;124mSELECT uu_id\u001b[39m\n\u001b[1;32m      4\u001b[0m \u001b[38;5;124mFROM (\u001b[39m\n\u001b[0;32m   (...)\u001b[0m\n\u001b[1;32m      9\u001b[0m \u001b[38;5;124mWHERE week_count <= 10\u001b[39m\n\u001b[1;32m     10\u001b[0m \u001b[38;5;124m\"\"\"\u001b[39m\n\u001b[0;32m---> 11\u001b[0m query_job \u001b[38;5;241m=\u001b[39m \u001b[43mbigquery_client\u001b[49m\u001b[38;5;241m.\u001b[39mquery(QUERY)\n\u001b[1;32m     12\u001b[0m uuid_less_10w \u001b[38;5;241m=\u001b[39m query_job\u001b[38;5;241m.\u001b[39mto_dataframe()\n\u001b[1;32m     13\u001b[0m uuid_less_10w\u001b[38;5;241m.\u001b[39mshape\n",
      "\u001b[0;31mNameError\u001b[0m: name 'bigquery_client' is not defined"
     ]
    }
   ],
   "source": [
    "# select 10 of 96 uuids with 3 weeks' data\n",
    "QUERY = \"\"\"\n",
    "SELECT uu_id\n",
    "FROM (\n",
    "    SELECT uu_id, COUNT(DISTINCT(week_number)) as week_count\n",
    "    FROM ironhacks-data.ironhacks_competition.unemployment_data\n",
    "    GROUP BY uu_id\n",
    ")\n",
    "WHERE week_count <= 10\n",
    "\"\"\"\n",
    "query_job = bigquery_client.query(QUERY)\n",
    "uuid_less_10w = query_job.to_dataframe()\n",
    "uuid_less_10w.shape"
   ]
  },
  {
   "cell_type": "code",
   "execution_count": 32,
   "id": "b1df7482",
   "metadata": {
    "execution": {
     "iopub.execute_input": "2023-05-10T01:43:32.294762Z",
     "iopub.status.busy": "2023-05-10T01:43:32.294675Z",
     "iopub.status.idle": "2023-05-10T01:43:32.302459Z",
     "shell.execute_reply": "2023-05-10T01:43:32.302193Z"
    }
   },
   "outputs": [
    {
     "ename": "NameError",
     "evalue": "name 'uuid_less_10w' is not defined",
     "output_type": "error",
     "traceback": [
      "\u001b[0;31m---------------------------------------------------------------------------\u001b[0m",
      "\u001b[0;31mNameError\u001b[0m                                 Traceback (most recent call last)",
      "Cell \u001b[0;32mIn [32], line 3\u001b[0m\n\u001b[1;32m      1\u001b[0m \u001b[38;5;66;03m# select all POIs data with no more than 5 weeks of data\u001b[39;00m\n\u001b[1;32m      2\u001b[0m data_less_10w \u001b[38;5;241m=\u001b[39m []\n\u001b[0;32m----> 3\u001b[0m \u001b[38;5;28;01mfor\u001b[39;00m uuid \u001b[38;5;129;01min\u001b[39;00m \u001b[43muuid_less_10w\u001b[49m[\u001b[38;5;124m\"\u001b[39m\u001b[38;5;124muu_id\u001b[39m\u001b[38;5;124m\"\u001b[39m]:\n\u001b[1;32m      4\u001b[0m     QUERY\u001b[38;5;241m=\u001b[39m\u001b[38;5;124m\"\"\"\u001b[39m\n\u001b[1;32m      5\u001b[0m \u001b[38;5;124m    SELECT *\u001b[39m\n\u001b[1;32m      6\u001b[0m \u001b[38;5;124m    FROM ironhacks-data.ironhacks_competition.unemployment_data\u001b[39m\n\u001b[1;32m      7\u001b[0m \u001b[38;5;124m    WHERE uu_id=\u001b[39m\u001b[38;5;124m\"\u001b[39m\u001b[38;5;132;01m%s\u001b[39;00m\u001b[38;5;124m\"\u001b[39m\n\u001b[1;32m      8\u001b[0m \u001b[38;5;124m    ORDER BY week_number\u001b[39m\n\u001b[1;32m      9\u001b[0m \u001b[38;5;124m    \u001b[39m\u001b[38;5;124m\"\"\"\u001b[39m\u001b[38;5;241m%\u001b[39m(uuid)\n\u001b[1;32m     10\u001b[0m     query_job \u001b[38;5;241m=\u001b[39m bigquery_client\u001b[38;5;241m.\u001b[39mquery(QUERY)\n",
      "\u001b[0;31mNameError\u001b[0m: name 'uuid_less_10w' is not defined"
     ]
    }
   ],
   "source": [
    "# select all POIs data with no more than 5 weeks of data\n",
    "data_less_10w = []\n",
    "for uuid in uuid_less_10w[\"uu_id\"]:\n",
    "    QUERY=\"\"\"\n",
    "    SELECT *\n",
    "    FROM ironhacks-data.ironhacks_competition.unemployment_data\n",
    "    WHERE uu_id=\"%s\"\n",
    "    ORDER BY week_number\n",
    "    \"\"\"%(uuid)\n",
    "    query_job = bigquery_client.query(QUERY)\n",
    "    data_less_10w.append(query_job.to_dataframe().drop_duplicates(ignore_index=True))"
   ]
  },
  {
   "cell_type": "code",
   "execution_count": 33,
   "id": "d6c6ad39",
   "metadata": {
    "execution": {
     "iopub.execute_input": "2023-05-10T01:43:32.303870Z",
     "iopub.status.busy": "2023-05-10T01:43:32.303792Z",
     "iopub.status.idle": "2023-05-10T01:43:32.305802Z",
     "shell.execute_reply": "2023-05-10T01:43:32.305548Z"
    }
   },
   "outputs": [],
   "source": [
    "# find out which weeks are available for these uuids\n",
    "week_available = []\n",
    "for i in range(len(data_less_10w)):\n",
    "    week_available.append(list(data_less_10w[i][\"week_number\"]))"
   ]
  },
  {
   "cell_type": "code",
   "execution_count": 34,
   "id": "9130e8b6",
   "metadata": {
    "execution": {
     "iopub.execute_input": "2023-05-10T01:43:32.307269Z",
     "iopub.status.busy": "2023-05-10T01:43:32.307152Z",
     "iopub.status.idle": "2023-05-10T01:43:32.658932Z",
     "shell.execute_reply": "2023-05-10T01:43:32.658546Z"
    }
   },
   "outputs": [
    {
     "ename": "ValueError",
     "evalue": "colors and positions are unequal sized sequences",
     "output_type": "error",
     "traceback": [
      "\u001b[0;31m---------------------------------------------------------------------------\u001b[0m",
      "\u001b[0;31mValueError\u001b[0m                                Traceback (most recent call last)",
      "Cell \u001b[0;32mIn [34], line 5\u001b[0m\n\u001b[1;32m      3\u001b[0m plt\u001b[38;5;241m.\u001b[39mtitle(\u001b[38;5;124m\"\u001b[39m\u001b[38;5;124mweek_number distribution for uuid with no more than 10 weeks of data\u001b[39m\u001b[38;5;124m\"\u001b[39m)\n\u001b[1;32m      4\u001b[0m colors \u001b[38;5;241m=\u001b[39m [\u001b[38;5;124m'\u001b[39m\u001b[38;5;124mC\u001b[39m\u001b[38;5;132;01m{}\u001b[39;00m\u001b[38;5;124m'\u001b[39m\u001b[38;5;241m.\u001b[39mformat(i) \u001b[38;5;28;01mfor\u001b[39;00m i \u001b[38;5;129;01min\u001b[39;00m \u001b[38;5;28mrange\u001b[39m(\u001b[38;5;241m37\u001b[39m)]\n\u001b[0;32m----> 5\u001b[0m \u001b[43mplt\u001b[49m\u001b[38;5;241;43m.\u001b[39;49m\u001b[43meventplot\u001b[49m\u001b[43m(\u001b[49m\u001b[43mweek_available\u001b[49m\u001b[43m,\u001b[49m\u001b[43m \u001b[49m\u001b[43morientation\u001b[49m\u001b[38;5;241;43m=\u001b[39;49m\u001b[38;5;124;43m'\u001b[39;49m\u001b[38;5;124;43mvertical\u001b[39;49m\u001b[38;5;124;43m'\u001b[39;49m\u001b[43m,\u001b[49m\u001b[43m \u001b[49m\u001b[43mlinelengths\u001b[49m\u001b[38;5;241;43m=\u001b[39;49m\u001b[38;5;241;43m0.2\u001b[39;49m\u001b[43m,\u001b[49m\u001b[43m \u001b[49m\u001b[43mlinewidths\u001b[49m\u001b[38;5;241;43m=\u001b[39;49m\u001b[38;5;241;43m4\u001b[39;49m\u001b[43m,\u001b[49m\u001b[43m \u001b[49m\u001b[43mcolors\u001b[49m\u001b[38;5;241;43m=\u001b[39;49m\u001b[43mcolors\u001b[49m\u001b[43m)\u001b[49m\n\u001b[1;32m      6\u001b[0m plt\u001b[38;5;241m.\u001b[39myticks([i \u001b[38;5;28;01mfor\u001b[39;00m i \u001b[38;5;129;01min\u001b[39;00m \u001b[38;5;28mrange\u001b[39m(\u001b[38;5;241m1\u001b[39m,\u001b[38;5;241m38\u001b[39m,\u001b[38;5;241m2\u001b[39m)])\n\u001b[1;32m      7\u001b[0m plt\u001b[38;5;241m.\u001b[39mylabel(\u001b[38;5;124m\"\u001b[39m\u001b[38;5;124mweek_number\u001b[39m\u001b[38;5;124m\"\u001b[39m)\n",
      "File \u001b[0;32m/opt/homebrew/lib/python3.9/site-packages/matplotlib/pyplot.py:2514\u001b[0m, in \u001b[0;36meventplot\u001b[0;34m(positions, orientation, lineoffsets, linelengths, linewidths, colors, linestyles, data, **kwargs)\u001b[0m\n\u001b[1;32m   2509\u001b[0m \u001b[38;5;129m@_copy_docstring_and_deprecators\u001b[39m(Axes\u001b[38;5;241m.\u001b[39meventplot)\n\u001b[1;32m   2510\u001b[0m \u001b[38;5;28;01mdef\u001b[39;00m \u001b[38;5;21meventplot\u001b[39m(\n\u001b[1;32m   2511\u001b[0m         positions, orientation\u001b[38;5;241m=\u001b[39m\u001b[38;5;124m'\u001b[39m\u001b[38;5;124mhorizontal\u001b[39m\u001b[38;5;124m'\u001b[39m, lineoffsets\u001b[38;5;241m=\u001b[39m\u001b[38;5;241m1\u001b[39m,\n\u001b[1;32m   2512\u001b[0m         linelengths\u001b[38;5;241m=\u001b[39m\u001b[38;5;241m1\u001b[39m, linewidths\u001b[38;5;241m=\u001b[39m\u001b[38;5;28;01mNone\u001b[39;00m, colors\u001b[38;5;241m=\u001b[39m\u001b[38;5;28;01mNone\u001b[39;00m,\n\u001b[1;32m   2513\u001b[0m         linestyles\u001b[38;5;241m=\u001b[39m\u001b[38;5;124m'\u001b[39m\u001b[38;5;124msolid\u001b[39m\u001b[38;5;124m'\u001b[39m, \u001b[38;5;241m*\u001b[39m, data\u001b[38;5;241m=\u001b[39m\u001b[38;5;28;01mNone\u001b[39;00m, \u001b[38;5;241m*\u001b[39m\u001b[38;5;241m*\u001b[39mkwargs):\n\u001b[0;32m-> 2514\u001b[0m     \u001b[38;5;28;01mreturn\u001b[39;00m \u001b[43mgca\u001b[49m\u001b[43m(\u001b[49m\u001b[43m)\u001b[49m\u001b[38;5;241;43m.\u001b[39;49m\u001b[43meventplot\u001b[49m\u001b[43m(\u001b[49m\n\u001b[1;32m   2515\u001b[0m \u001b[43m        \u001b[49m\u001b[43mpositions\u001b[49m\u001b[43m,\u001b[49m\u001b[43m \u001b[49m\u001b[43morientation\u001b[49m\u001b[38;5;241;43m=\u001b[39;49m\u001b[43morientation\u001b[49m\u001b[43m,\u001b[49m\u001b[43m \u001b[49m\u001b[43mlineoffsets\u001b[49m\u001b[38;5;241;43m=\u001b[39;49m\u001b[43mlineoffsets\u001b[49m\u001b[43m,\u001b[49m\n\u001b[1;32m   2516\u001b[0m \u001b[43m        \u001b[49m\u001b[43mlinelengths\u001b[49m\u001b[38;5;241;43m=\u001b[39;49m\u001b[43mlinelengths\u001b[49m\u001b[43m,\u001b[49m\u001b[43m \u001b[49m\u001b[43mlinewidths\u001b[49m\u001b[38;5;241;43m=\u001b[39;49m\u001b[43mlinewidths\u001b[49m\u001b[43m,\u001b[49m\u001b[43m \u001b[49m\u001b[43mcolors\u001b[49m\u001b[38;5;241;43m=\u001b[39;49m\u001b[43mcolors\u001b[49m\u001b[43m,\u001b[49m\n\u001b[1;32m   2517\u001b[0m \u001b[43m        \u001b[49m\u001b[43mlinestyles\u001b[49m\u001b[38;5;241;43m=\u001b[39;49m\u001b[43mlinestyles\u001b[49m\u001b[43m,\u001b[49m\n\u001b[1;32m   2518\u001b[0m \u001b[43m        \u001b[49m\u001b[38;5;241;43m*\u001b[39;49m\u001b[38;5;241;43m*\u001b[39;49m\u001b[43m(\u001b[49m\u001b[43m{\u001b[49m\u001b[38;5;124;43m\"\u001b[39;49m\u001b[38;5;124;43mdata\u001b[39;49m\u001b[38;5;124;43m\"\u001b[39;49m\u001b[43m:\u001b[49m\u001b[43m \u001b[49m\u001b[43mdata\u001b[49m\u001b[43m}\u001b[49m\u001b[43m \u001b[49m\u001b[38;5;28;43;01mif\u001b[39;49;00m\u001b[43m \u001b[49m\u001b[43mdata\u001b[49m\u001b[43m \u001b[49m\u001b[38;5;129;43;01mis\u001b[39;49;00m\u001b[43m \u001b[49m\u001b[38;5;129;43;01mnot\u001b[39;49;00m\u001b[43m \u001b[49m\u001b[38;5;28;43;01mNone\u001b[39;49;00m\u001b[43m \u001b[49m\u001b[38;5;28;43;01melse\u001b[39;49;00m\u001b[43m \u001b[49m\u001b[43m{\u001b[49m\u001b[43m}\u001b[49m\u001b[43m)\u001b[49m\u001b[43m,\u001b[49m\u001b[43m \u001b[49m\u001b[38;5;241;43m*\u001b[39;49m\u001b[38;5;241;43m*\u001b[39;49m\u001b[43mkwargs\u001b[49m\u001b[43m)\u001b[49m\n",
      "File \u001b[0;32m/opt/homebrew/lib/python3.9/site-packages/matplotlib/__init__.py:1433\u001b[0m, in \u001b[0;36m_preprocess_data.<locals>.inner\u001b[0;34m(ax, data, *args, **kwargs)\u001b[0m\n\u001b[1;32m   1430\u001b[0m \u001b[38;5;129m@functools\u001b[39m\u001b[38;5;241m.\u001b[39mwraps(func)\n\u001b[1;32m   1431\u001b[0m \u001b[38;5;28;01mdef\u001b[39;00m \u001b[38;5;21minner\u001b[39m(ax, \u001b[38;5;241m*\u001b[39margs, data\u001b[38;5;241m=\u001b[39m\u001b[38;5;28;01mNone\u001b[39;00m, \u001b[38;5;241m*\u001b[39m\u001b[38;5;241m*\u001b[39mkwargs):\n\u001b[1;32m   1432\u001b[0m     \u001b[38;5;28;01mif\u001b[39;00m data \u001b[38;5;129;01mis\u001b[39;00m \u001b[38;5;28;01mNone\u001b[39;00m:\n\u001b[0;32m-> 1433\u001b[0m         \u001b[38;5;28;01mreturn\u001b[39;00m \u001b[43mfunc\u001b[49m\u001b[43m(\u001b[49m\u001b[43max\u001b[49m\u001b[43m,\u001b[49m\u001b[43m \u001b[49m\u001b[38;5;241;43m*\u001b[39;49m\u001b[38;5;28;43mmap\u001b[39;49m\u001b[43m(\u001b[49m\u001b[43msanitize_sequence\u001b[49m\u001b[43m,\u001b[49m\u001b[43m \u001b[49m\u001b[43margs\u001b[49m\u001b[43m)\u001b[49m\u001b[43m,\u001b[49m\u001b[43m \u001b[49m\u001b[38;5;241;43m*\u001b[39;49m\u001b[38;5;241;43m*\u001b[39;49m\u001b[43mkwargs\u001b[49m\u001b[43m)\u001b[49m\n\u001b[1;32m   1435\u001b[0m     bound \u001b[38;5;241m=\u001b[39m new_sig\u001b[38;5;241m.\u001b[39mbind(ax, \u001b[38;5;241m*\u001b[39margs, \u001b[38;5;241m*\u001b[39m\u001b[38;5;241m*\u001b[39mkwargs)\n\u001b[1;32m   1436\u001b[0m     auto_label \u001b[38;5;241m=\u001b[39m (bound\u001b[38;5;241m.\u001b[39marguments\u001b[38;5;241m.\u001b[39mget(label_namer)\n\u001b[1;32m   1437\u001b[0m                   \u001b[38;5;129;01mor\u001b[39;00m bound\u001b[38;5;241m.\u001b[39mkwargs\u001b[38;5;241m.\u001b[39mget(label_namer))\n",
      "File \u001b[0;32m/opt/homebrew/lib/python3.9/site-packages/matplotlib/axes/_axes.py:1376\u001b[0m, in \u001b[0;36mAxes.eventplot\u001b[0;34m(self, positions, orientation, lineoffsets, linelengths, linewidths, colors, linestyles, **kwargs)\u001b[0m\n\u001b[1;32m   1373\u001b[0m     \u001b[38;5;28;01mraise\u001b[39;00m \u001b[38;5;167;01mValueError\u001b[39;00m(\u001b[38;5;124m'\u001b[39m\u001b[38;5;124mlinewidths and positions are unequal sized \u001b[39m\u001b[38;5;124m'\u001b[39m\n\u001b[1;32m   1374\u001b[0m                      \u001b[38;5;124m'\u001b[39m\u001b[38;5;124msequences\u001b[39m\u001b[38;5;124m'\u001b[39m)\n\u001b[1;32m   1375\u001b[0m \u001b[38;5;28;01mif\u001b[39;00m \u001b[38;5;28mlen\u001b[39m(colors) \u001b[38;5;241m!=\u001b[39m \u001b[38;5;28mlen\u001b[39m(positions):\n\u001b[0;32m-> 1376\u001b[0m     \u001b[38;5;28;01mraise\u001b[39;00m \u001b[38;5;167;01mValueError\u001b[39;00m(\u001b[38;5;124m'\u001b[39m\u001b[38;5;124mcolors and positions are unequal sized \u001b[39m\u001b[38;5;124m'\u001b[39m\n\u001b[1;32m   1377\u001b[0m                      \u001b[38;5;124m'\u001b[39m\u001b[38;5;124msequences\u001b[39m\u001b[38;5;124m'\u001b[39m)\n\u001b[1;32m   1378\u001b[0m \u001b[38;5;28;01mif\u001b[39;00m \u001b[38;5;28mlen\u001b[39m(linestyles) \u001b[38;5;241m!=\u001b[39m \u001b[38;5;28mlen\u001b[39m(positions):\n\u001b[1;32m   1379\u001b[0m     \u001b[38;5;28;01mraise\u001b[39;00m \u001b[38;5;167;01mValueError\u001b[39;00m(\u001b[38;5;124m'\u001b[39m\u001b[38;5;124mlinestyles and positions are unequal sized \u001b[39m\u001b[38;5;124m'\u001b[39m\n\u001b[1;32m   1380\u001b[0m                      \u001b[38;5;124m'\u001b[39m\u001b[38;5;124msequences\u001b[39m\u001b[38;5;124m'\u001b[39m)\n",
      "\u001b[0;31mValueError\u001b[0m: colors and positions are unequal sized sequences"
     ]
    },
    {
     "data": {
      "image/png": "[encoded data removed]",
      "text/plain": [
       "<Figure size 1200x400 with 1 Axes>"
      ]
     },
     "metadata": {},
     "output_type": "display_data"
    }
   ],
   "source": [
    "# plot the avaliable weeks vs uu_id\n",
    "plt.figure(figsize=(12,4))\n",
    "plt.title(\"week_number distribution for uuid with no more than 10 weeks of data\")\n",
    "colors = ['C{}'.format(i) for i in range(37)]\n",
    "plt.eventplot(week_available, orientation='vertical', linelengths=0.2, linewidths=4, colors=colors)\n",
    "plt.yticks([i for i in range(1,38,2)])\n",
    "plt.ylabel(\"week_number\")\n",
    "plt.xticks([i for i in range(37)])\n",
    "plt.xlabel(\"uu_id\")\n",
    "plt.grid(axis=\"x\")\n",
    "plt.tight_layout()\n",
    "plt.show()"
   ]
  },
  {
   "cell_type": "code",
   "execution_count": 35,
   "id": "18b2d558",
   "metadata": {
    "execution": {
     "iopub.execute_input": "2023-05-10T01:43:32.660542Z",
     "iopub.status.busy": "2023-05-10T01:43:32.660426Z",
     "iopub.status.idle": "2023-05-10T01:43:32.667476Z",
     "shell.execute_reply": "2023-05-10T01:43:32.667221Z"
    }
   },
   "outputs": [
    {
     "ename": "AttributeError",
     "evalue": "'list' object has no attribute 'shape'",
     "output_type": "error",
     "traceback": [
      "\u001b[0;31m---------------------------------------------------------------------------\u001b[0m",
      "\u001b[0;31mAttributeError\u001b[0m                            Traceback (most recent call last)",
      "Cell \u001b[0;32mIn [35], line 1\u001b[0m\n\u001b[0;32m----> 1\u001b[0m \u001b[43mweek_available\u001b[49m\u001b[38;5;241;43m.\u001b[39;49m\u001b[43mshape\u001b[49m\n",
      "\u001b[0;31mAttributeError\u001b[0m: 'list' object has no attribute 'shape'"
     ]
    }
   ],
   "source": [
    "week_available.shape"
   ]
  },
  {
   "cell_type": "code",
   "execution_count": 36,
   "id": "97c89d45",
   "metadata": {
    "execution": {
     "iopub.execute_input": "2023-05-10T01:43:32.668982Z",
     "iopub.status.busy": "2023-05-10T01:43:32.668879Z",
     "iopub.status.idle": "2023-05-10T01:43:32.675612Z",
     "shell.execute_reply": "2023-05-10T01:43:32.675353Z"
    }
   },
   "outputs": [
    {
     "ename": "AttributeError",
     "evalue": "'list' object has no attribute 'shape'",
     "output_type": "error",
     "traceback": [
      "\u001b[0;31m---------------------------------------------------------------------------\u001b[0m",
      "\u001b[0;31mAttributeError\u001b[0m                            Traceback (most recent call last)",
      "Cell \u001b[0;32mIn [36], line 1\u001b[0m\n\u001b[0;32m----> 1\u001b[0m \u001b[43mweek_available\u001b[49m\u001b[38;5;241;43m.\u001b[39;49m\u001b[43mshape\u001b[49m()\n",
      "\u001b[0;31mAttributeError\u001b[0m: 'list' object has no attribute 'shape'"
     ]
    }
   ],
   "source": [
    "week_available.shape()"
   ]
  },
  {
   "cell_type": "code",
   "execution_count": 37,
   "id": "237fa79e",
   "metadata": {
    "execution": {
     "iopub.execute_input": "2023-05-10T01:43:32.677031Z",
     "iopub.status.busy": "2023-05-10T01:43:32.676942Z",
     "iopub.status.idle": "2023-05-10T01:43:32.679305Z",
     "shell.execute_reply": "2023-05-10T01:43:32.679003Z"
    }
   },
   "outputs": [
    {
     "data": {
      "text/plain": [
       "0"
      ]
     },
     "execution_count": 37,
     "metadata": {},
     "output_type": "execute_result"
    }
   ],
   "source": [
    "len(week_available)"
   ]
  },
  {
   "cell_type": "code",
   "execution_count": 38,
   "id": "ca223af3",
   "metadata": {
    "execution": {
     "iopub.execute_input": "2023-05-10T01:43:32.680780Z",
     "iopub.status.busy": "2023-05-10T01:43:32.680676Z",
     "iopub.status.idle": "2023-05-10T01:43:32.682776Z",
     "shell.execute_reply": "2023-05-10T01:43:32.682537Z"
    }
   },
   "outputs": [
    {
     "data": {
      "text/plain": [
       "[]"
      ]
     },
     "execution_count": 38,
     "metadata": {},
     "output_type": "execute_result"
    }
   ],
   "source": [
    "week_available"
   ]
  },
  {
   "cell_type": "code",
   "execution_count": 39,
   "id": "7210c705",
   "metadata": {
    "execution": {
     "iopub.execute_input": "2023-05-10T01:43:32.684262Z",
     "iopub.status.busy": "2023-05-10T01:43:32.684132Z",
     "iopub.status.idle": "2023-05-10T01:43:32.691011Z",
     "shell.execute_reply": "2023-05-10T01:43:32.690750Z"
    }
   },
   "outputs": [
    {
     "ename": "NameError",
     "evalue": "name 'prediction_list' is not defined",
     "output_type": "error",
     "traceback": [
      "\u001b[0;31m---------------------------------------------------------------------------\u001b[0m",
      "\u001b[0;31mNameError\u001b[0m                                 Traceback (most recent call last)",
      "Cell \u001b[0;32mIn [39], line 1\u001b[0m\n\u001b[0;32m----> 1\u001b[0m \u001b[43mprediction_list\u001b[49m\u001b[38;5;241m.\u001b[39mshape[\u001b[38;5;241m0\u001b[39m]\n",
      "\u001b[0;31mNameError\u001b[0m: name 'prediction_list' is not defined"
     ]
    }
   ],
   "source": [
    "prediction_list.shape[0]"
   ]
  },
  {
   "cell_type": "code",
   "execution_count": 40,
   "id": "f779ad2e",
   "metadata": {
    "execution": {
     "iopub.execute_input": "2023-05-10T01:43:32.692476Z",
     "iopub.status.busy": "2023-05-10T01:43:32.692374Z",
     "iopub.status.idle": "2023-05-10T01:43:32.699093Z",
     "shell.execute_reply": "2023-05-10T01:43:32.698831Z"
    }
   },
   "outputs": [
    {
     "ename": "NameError",
     "evalue": "name 'unemployement_data' is not defined",
     "output_type": "error",
     "traceback": [
      "\u001b[0;31m---------------------------------------------------------------------------\u001b[0m",
      "\u001b[0;31mNameError\u001b[0m                                 Traceback (most recent call last)",
      "Cell \u001b[0;32mIn [40], line 2\u001b[0m\n\u001b[1;32m      1\u001b[0m \u001b[38;5;66;03m# save the query results to csv files\u001b[39;00m\n\u001b[0;32m----> 2\u001b[0m \u001b[43munemployement_data\u001b[49m\u001b[38;5;241m.\u001b[39mto_csv(\u001b[38;5;124m\"\u001b[39m\u001b[38;5;124mdata/unemployment_data.csv\u001b[39m\u001b[38;5;124m\"\u001b[39m)\n\u001b[1;32m      3\u001b[0m \u001b[38;5;28mprint\u001b[39m(\u001b[38;5;124m\"\u001b[39m\u001b[38;5;124munemployment_data shape:\u001b[39m\u001b[38;5;124m\"\u001b[39m, unemployement_data\u001b[38;5;241m.\u001b[39mshape)\n",
      "\u001b[0;31mNameError\u001b[0m: name 'unemployement_data' is not defined"
     ]
    }
   ],
   "source": [
    "# save the query results to csv files\n",
    "unemployement_data.to_csv(\"data/unemployment_data.csv\")\n",
    "print(\"unemployment_data shape:\", unemployement_data.shape)"
   ]
  },
  {
   "cell_type": "code",
   "execution_count": 41,
   "id": "11eaadb6",
   "metadata": {
    "execution": {
     "iopub.execute_input": "2023-05-10T01:43:32.700487Z",
     "iopub.status.busy": "2023-05-10T01:43:32.700407Z",
     "iopub.status.idle": "2023-05-10T01:43:32.707549Z",
     "shell.execute_reply": "2023-05-10T01:43:32.707278Z"
    }
   },
   "outputs": [
    {
     "ename": "NameError",
     "evalue": "name 'wage_data' is not defined",
     "output_type": "error",
     "traceback": [
      "\u001b[0;31m---------------------------------------------------------------------------\u001b[0m",
      "\u001b[0;31mNameError\u001b[0m                                 Traceback (most recent call last)",
      "Cell \u001b[0;32mIn [41], line 1\u001b[0m\n\u001b[0;32m----> 1\u001b[0m \u001b[43mwage_data\u001b[49m\u001b[38;5;241m.\u001b[39mto_csv(\u001b[38;5;124m\"\u001b[39m\u001b[38;5;124mdata/wage_data.csv\u001b[39m\u001b[38;5;124m\"\u001b[39m)\n\u001b[1;32m      2\u001b[0m \u001b[38;5;28mprint\u001b[39m(\u001b[38;5;124m\"\u001b[39m\u001b[38;5;124mwage_data shape:\u001b[39m\u001b[38;5;124m\"\u001b[39m, wage_data\u001b[38;5;241m.\u001b[39mshape)\n",
      "\u001b[0;31mNameError\u001b[0m: name 'wage_data' is not defined"
     ]
    }
   ],
   "source": [
    "wage_data.to_csv(\"data/wage_data.csv\")\n",
    "print(\"wage_data shape:\", wage_data.shape)"
   ]
  },
  {
   "cell_type": "code",
   "execution_count": 42,
   "id": "f0cda3f2",
   "metadata": {
    "execution": {
     "iopub.execute_input": "2023-05-10T01:43:32.708941Z",
     "iopub.status.busy": "2023-05-10T01:43:32.708858Z",
     "iopub.status.idle": "2023-05-10T01:43:32.716118Z",
     "shell.execute_reply": "2023-05-10T01:43:32.715868Z"
    }
   },
   "outputs": [
    {
     "ename": "NameError",
     "evalue": "name 'prediction_list' is not defined",
     "output_type": "error",
     "traceback": [
      "\u001b[0;31m---------------------------------------------------------------------------\u001b[0m",
      "\u001b[0;31mNameError\u001b[0m                                 Traceback (most recent call last)",
      "Cell \u001b[0;32mIn [42], line 1\u001b[0m\n\u001b[0;32m----> 1\u001b[0m \u001b[43mprediction_list\u001b[49m\u001b[38;5;241m.\u001b[39mto_csv(\u001b[38;5;124m\"\u001b[39m\u001b[38;5;124mdata/prediction_list.csv\u001b[39m\u001b[38;5;124m\"\u001b[39m)\n\u001b[1;32m      2\u001b[0m \u001b[38;5;28mprint\u001b[39m(\u001b[38;5;124m\"\u001b[39m\u001b[38;5;124mprediction_list shape:\u001b[39m\u001b[38;5;124m\"\u001b[39m, prediction_list\u001b[38;5;241m.\u001b[39mshape)\n\u001b[1;32m      3\u001b[0m total_uuid \u001b[38;5;241m=\u001b[39m prediction_list\u001b[38;5;241m.\u001b[39mshape[\u001b[38;5;241m0\u001b[39m]\n",
      "\u001b[0;31mNameError\u001b[0m: name 'prediction_list' is not defined"
     ]
    }
   ],
   "source": [
    "prediction_list.to_csv(\"data/prediction_list.csv\")\n",
    "print(\"prediction_list shape:\", prediction_list.shape)\n",
    "total_uuid = prediction_list.shape[0]"
   ]
  },
  {
   "cell_type": "code",
   "execution_count": 43,
   "id": "ea6fcb16",
   "metadata": {
    "execution": {
     "iopub.execute_input": "2023-05-10T01:43:32.717622Z",
     "iopub.status.busy": "2023-05-10T01:43:32.717512Z",
     "iopub.status.idle": "2023-05-10T01:43:32.724847Z",
     "shell.execute_reply": "2023-05-10T01:43:32.724591Z"
    }
   },
   "outputs": [
    {
     "ename": "NameError",
     "evalue": "name 'bigquery_client' is not defined",
     "output_type": "error",
     "traceback": [
      "\u001b[0;31m---------------------------------------------------------------------------\u001b[0m",
      "\u001b[0;31mNameError\u001b[0m                                 Traceback (most recent call last)",
      "Cell \u001b[0;32mIn [43], line 8\u001b[0m\n\u001b[1;32m      1\u001b[0m \u001b[38;5;66;03m# query week_number data for uu_id f43fb9e90c5ecf879016b159aaa17fcb\u001b[39;00m\n\u001b[1;32m      2\u001b[0m query \u001b[38;5;241m=\u001b[39m \u001b[38;5;124m\"\"\"\u001b[39m\n\u001b[1;32m      3\u001b[0m \u001b[38;5;124mSELECT uu_id, week_number\u001b[39m\n\u001b[1;32m      4\u001b[0m \u001b[38;5;124mFROM ironhacks-data.ironhacks_competition.unemployment_data\u001b[39m\n\u001b[1;32m      5\u001b[0m \u001b[38;5;124mWHERE uu_id=\u001b[39m\u001b[38;5;124m\"\u001b[39m\u001b[38;5;124mf43fb9e90c5ecf879016b159aaa17fcb\u001b[39m\u001b[38;5;124m\"\u001b[39m\n\u001b[1;32m      6\u001b[0m \u001b[38;5;124mORDER BY week_number\u001b[39m\n\u001b[1;32m      7\u001b[0m \u001b[38;5;124m\"\"\"\u001b[39m\n\u001b[0;32m----> 8\u001b[0m \u001b[38;5;28mprint\u001b[39m(\u001b[43mbigquery_client\u001b[49m\u001b[38;5;241m.\u001b[39mquery(query)\u001b[38;5;241m.\u001b[39mto_dataframe()\u001b[38;5;241m.\u001b[39mto_string(index\u001b[38;5;241m=\u001b[39m\u001b[38;5;28;01mFalse\u001b[39;00m))\n",
      "\u001b[0;31mNameError\u001b[0m: name 'bigquery_client' is not defined"
     ]
    }
   ],
   "source": [
    "# query week_number data for uu_id f43fb9e90c5ecf879016b159aaa17fcb\n",
    "query = \"\"\"\n",
    "SELECT uu_id, week_number\n",
    "FROM ironhacks-data.ironhacks_competition.unemployment_data\n",
    "WHERE uu_id=\"f43fb9e90c5ecf879016b159aaa17fcb\"\n",
    "ORDER BY week_number\n",
    "\"\"\"\n",
    "print(bigquery_client.query(query).to_dataframe().to_string(index=False))"
   ]
  },
  {
   "cell_type": "code",
   "execution_count": 44,
   "id": "5f6800a2",
   "metadata": {
    "execution": {
     "iopub.execute_input": "2023-05-10T01:43:32.726394Z",
     "iopub.status.busy": "2023-05-10T01:43:32.726310Z",
     "iopub.status.idle": "2023-05-10T01:43:32.733875Z",
     "shell.execute_reply": "2023-05-10T01:43:32.733613Z"
    }
   },
   "outputs": [
    {
     "ename": "NameError",
     "evalue": "name 'num_of_uuids' is not defined",
     "output_type": "error",
     "traceback": [
      "\u001b[0;31m---------------------------------------------------------------------------\u001b[0m",
      "\u001b[0;31mNameError\u001b[0m                                 Traceback (most recent call last)",
      "Cell \u001b[0;32mIn [44], line 1\u001b[0m\n\u001b[0;32m----> 1\u001b[0m \u001b[38;5;28mprint\u001b[39m(\u001b[38;5;28mstr\u001b[39m(np\u001b[38;5;241m.\u001b[39marray(\u001b[43mnum_of_uuids\u001b[49m)[\u001b[38;5;241m-\u001b[39m\u001b[38;5;241m6\u001b[39m:]\u001b[38;5;241m.\u001b[39msum()), \u001b[38;5;124m\"\u001b[39m\u001b[38;5;124mout of\u001b[39m\u001b[38;5;124m\"\u001b[39m, total_uuid, \u001b[38;5;124m\"\u001b[39m\u001b[38;5;124muuids have no less than 30 weeks of datapoints.\u001b[39m\u001b[38;5;124m\"\u001b[39m)\n\u001b[1;32m      2\u001b[0m \u001b[38;5;28mprint\u001b[39m(\u001b[38;5;28mstr\u001b[39m(np\u001b[38;5;241m.\u001b[39marray(num_of_uuids)[:\u001b[38;5;241m9\u001b[39m]\u001b[38;5;241m.\u001b[39msum()), \u001b[38;5;124m\"\u001b[39m\u001b[38;5;124mout of 573 uuids have no more than 10 weeks of datapoints.\u001b[39m\u001b[38;5;124m\"\u001b[39m)\n",
      "\u001b[0;31mNameError\u001b[0m: name 'num_of_uuids' is not defined"
     ]
    }
   ],
   "source": [
    "print(str(np.array(num_of_uuids)[-6:].sum()), \"out of\", total_uuid, \"uuids have no less than 30 weeks of datapoints.\")\n",
    "print(str(np.array(num_of_uuids)[:9].sum()), \"out of 573 uuids have no more than 10 weeks of datapoints.\")"
   ]
  },
  {
   "cell_type": "code",
   "execution_count": 45,
   "id": "becc4eb0",
   "metadata": {
    "execution": {
     "iopub.execute_input": "2023-05-10T01:43:32.735316Z",
     "iopub.status.busy": "2023-05-10T01:43:32.735236Z",
     "iopub.status.idle": "2023-05-10T01:43:32.743110Z",
     "shell.execute_reply": "2023-05-10T01:43:32.742745Z"
    }
   },
   "outputs": [
    {
     "ename": "NameError",
     "evalue": "name 'num_of_uuids' is not defined",
     "output_type": "error",
     "traceback": [
      "\u001b[0;31m---------------------------------------------------------------------------\u001b[0m",
      "\u001b[0;31mNameError\u001b[0m                                 Traceback (most recent call last)",
      "Cell \u001b[0;32mIn [45], line 1\u001b[0m\n\u001b[0;32m----> 1\u001b[0m \u001b[38;5;28mprint\u001b[39m(\u001b[38;5;28mstr\u001b[39m(np\u001b[38;5;241m.\u001b[39marray(\u001b[43mnum_of_uuids\u001b[49m)[\u001b[38;5;241m-\u001b[39m\u001b[38;5;241m6\u001b[39m:]\u001b[38;5;241m.\u001b[39msum()), \u001b[38;5;124m\"\u001b[39m\u001b[38;5;124mout of\u001b[39m\u001b[38;5;124m\"\u001b[39m, total_uuid, \u001b[38;5;124m\"\u001b[39m\u001b[38;5;124muuids have no less than 30 weeks of datapoints.\u001b[39m\u001b[38;5;124m\"\u001b[39m)\n\u001b[1;32m      2\u001b[0m \u001b[38;5;28mprint\u001b[39m(\u001b[38;5;28mstr\u001b[39m(np\u001b[38;5;241m.\u001b[39marray(num_of_uuids)[:\u001b[38;5;241m9\u001b[39m]\u001b[38;5;241m.\u001b[39msum()), \u001b[38;5;124m\"\u001b[39m\u001b[38;5;124mout of\u001b[39m\u001b[38;5;124m\"\u001b[39m, total_uuid, \u001b[38;5;124m\"\u001b[39m\u001b[38;5;124muuids have no more than 10 weeks of datapoints.\u001b[39m\u001b[38;5;124m\"\u001b[39m)\n",
      "\u001b[0;31mNameError\u001b[0m: name 'num_of_uuids' is not defined"
     ]
    }
   ],
   "source": [
    "print(str(np.array(num_of_uuids)[-6:].sum()), \"out of\", total_uuid, \"uuids have no less than 30 weeks of datapoints.\")\n",
    "print(str(np.array(num_of_uuids)[:9].sum()), \"out of\", total_uuid, \"uuids have no more than 10 weeks of datapoints.\")"
   ]
  },
  {
   "cell_type": "code",
   "execution_count": 46,
   "id": "21fb20ef",
   "metadata": {
    "execution": {
     "iopub.execute_input": "2023-05-10T01:43:32.744581Z",
     "iopub.status.busy": "2023-05-10T01:43:32.744470Z",
     "iopub.status.idle": "2023-05-10T01:43:32.818833Z",
     "shell.execute_reply": "2023-05-10T01:43:32.818550Z"
    }
   },
   "outputs": [
    {
     "ename": "NameError",
     "evalue": "name 'uuid_less_10w' is not defined",
     "output_type": "error",
     "traceback": [
      "\u001b[0;31m---------------------------------------------------------------------------\u001b[0m",
      "\u001b[0;31mNameError\u001b[0m                                 Traceback (most recent call last)",
      "Cell \u001b[0;32mIn [46], line 4\u001b[0m\n\u001b[1;32m      2\u001b[0m plt\u001b[38;5;241m.\u001b[39mfigure(figsize\u001b[38;5;241m=\u001b[39m(\u001b[38;5;241m12\u001b[39m,\u001b[38;5;241m4\u001b[39m))\n\u001b[1;32m      3\u001b[0m plt\u001b[38;5;241m.\u001b[39mtitle(\u001b[38;5;124m\"\u001b[39m\u001b[38;5;124mweek_number distribution for uuid with no more than 10 weeks of data\u001b[39m\u001b[38;5;124m\"\u001b[39m)\n\u001b[0;32m----> 4\u001b[0m colors \u001b[38;5;241m=\u001b[39m [\u001b[38;5;124m'\u001b[39m\u001b[38;5;124mC\u001b[39m\u001b[38;5;132;01m{}\u001b[39;00m\u001b[38;5;124m'\u001b[39m\u001b[38;5;241m.\u001b[39mformat(i) \u001b[38;5;28;01mfor\u001b[39;00m i \u001b[38;5;129;01min\u001b[39;00m \u001b[38;5;28mrange\u001b[39m(\u001b[43muuid_less_10w\u001b[49m\u001b[38;5;241m.\u001b[39mshape[\u001b[38;5;241m0\u001b[39m])]\n\u001b[1;32m      5\u001b[0m plt\u001b[38;5;241m.\u001b[39meventplot(week_available, orientation\u001b[38;5;241m=\u001b[39m\u001b[38;5;124m'\u001b[39m\u001b[38;5;124mvertical\u001b[39m\u001b[38;5;124m'\u001b[39m, linelengths\u001b[38;5;241m=\u001b[39m\u001b[38;5;241m0.2\u001b[39m, linewidths\u001b[38;5;241m=\u001b[39m\u001b[38;5;241m4\u001b[39m, colors\u001b[38;5;241m=\u001b[39mcolors)\n\u001b[1;32m      6\u001b[0m plt\u001b[38;5;241m.\u001b[39myticks([i \u001b[38;5;28;01mfor\u001b[39;00m i \u001b[38;5;129;01min\u001b[39;00m \u001b[38;5;28mrange\u001b[39m(\u001b[38;5;241m1\u001b[39m,\u001b[38;5;241m38\u001b[39m,\u001b[38;5;241m2\u001b[39m)])\n",
      "\u001b[0;31mNameError\u001b[0m: name 'uuid_less_10w' is not defined"
     ]
    },
    {
     "data": {
      "image/png": "[encoded data removed]",
      "text/plain": [
       "<Figure size 1200x400 with 1 Axes>"
      ]
     },
     "metadata": {},
     "output_type": "display_data"
    }
   ],
   "source": [
    "# plot the avaliable weeks vs uu_id\n",
    "plt.figure(figsize=(12,4))\n",
    "plt.title(\"week_number distribution for uuid with no more than 10 weeks of data\")\n",
    "colors = ['C{}'.format(i) for i in range(uuid_less_10w.shape[0])]\n",
    "plt.eventplot(week_available, orientation='vertical', linelengths=0.2, linewidths=4, colors=colors)\n",
    "plt.yticks([i for i in range(1,38,2)])\n",
    "plt.ylabel(\"week_number\")\n",
    "plt.xticks([i for i in range(37)])\n",
    "plt.xlabel(\"uu_id\")\n",
    "plt.grid(axis=\"x\")\n",
    "plt.tight_layout()\n",
    "plt.show()"
   ]
  },
  {
   "cell_type": "code",
   "execution_count": 47,
   "id": "2109510f",
   "metadata": {
    "execution": {
     "iopub.execute_input": "2023-05-10T01:43:32.820409Z",
     "iopub.status.busy": "2023-05-10T01:43:32.820289Z",
     "iopub.status.idle": "2023-05-10T01:43:32.894108Z",
     "shell.execute_reply": "2023-05-10T01:43:32.893800Z"
    }
   },
   "outputs": [
    {
     "ename": "NameError",
     "evalue": "name 'total_uuid_less_10w' is not defined",
     "output_type": "error",
     "traceback": [
      "\u001b[0;31m---------------------------------------------------------------------------\u001b[0m",
      "\u001b[0;31mNameError\u001b[0m                                 Traceback (most recent call last)",
      "Cell \u001b[0;32mIn [47], line 4\u001b[0m\n\u001b[1;32m      2\u001b[0m plt\u001b[38;5;241m.\u001b[39mfigure(figsize\u001b[38;5;241m=\u001b[39m(\u001b[38;5;241m12\u001b[39m,\u001b[38;5;241m4\u001b[39m))\n\u001b[1;32m      3\u001b[0m plt\u001b[38;5;241m.\u001b[39mtitle(\u001b[38;5;124m\"\u001b[39m\u001b[38;5;124mweek_number distribution for uuid with no more than 10 weeks of data\u001b[39m\u001b[38;5;124m\"\u001b[39m)\n\u001b[0;32m----> 4\u001b[0m colors \u001b[38;5;241m=\u001b[39m [\u001b[38;5;124m'\u001b[39m\u001b[38;5;124mC\u001b[39m\u001b[38;5;132;01m{}\u001b[39;00m\u001b[38;5;124m'\u001b[39m\u001b[38;5;241m.\u001b[39mformat(i) \u001b[38;5;28;01mfor\u001b[39;00m i \u001b[38;5;129;01min\u001b[39;00m \u001b[38;5;28mrange\u001b[39m(\u001b[43mtotal_uuid_less_10w\u001b[49m)]\n\u001b[1;32m      5\u001b[0m plt\u001b[38;5;241m.\u001b[39meventplot(week_available, orientation\u001b[38;5;241m=\u001b[39m\u001b[38;5;124m'\u001b[39m\u001b[38;5;124mvertical\u001b[39m\u001b[38;5;124m'\u001b[39m, linelengths\u001b[38;5;241m=\u001b[39m\u001b[38;5;241m0.2\u001b[39m, linewidths\u001b[38;5;241m=\u001b[39m\u001b[38;5;241m4\u001b[39m, colors\u001b[38;5;241m=\u001b[39mcolors)\n\u001b[1;32m      6\u001b[0m plt\u001b[38;5;241m.\u001b[39myticks([i \u001b[38;5;28;01mfor\u001b[39;00m i \u001b[38;5;129;01min\u001b[39;00m \u001b[38;5;28mrange\u001b[39m(\u001b[38;5;241m1\u001b[39m,\u001b[38;5;241m38\u001b[39m,\u001b[38;5;241m2\u001b[39m)])\n",
      "\u001b[0;31mNameError\u001b[0m: name 'total_uuid_less_10w' is not defined"
     ]
    },
    {
     "data": {
      "image/png": "[encoded data removed]",
      "text/plain": [
       "<Figure size 1200x400 with 1 Axes>"
      ]
     },
     "metadata": {},
     "output_type": "display_data"
    }
   ],
   "source": [
    "# plot the avaliable weeks vs uu_id\n",
    "plt.figure(figsize=(12,4))\n",
    "plt.title(\"week_number distribution for uuid with no more than 10 weeks of data\")\n",
    "colors = ['C{}'.format(i) for i in range(total_uuid_less_10w)]\n",
    "plt.eventplot(week_available, orientation='vertical', linelengths=0.2, linewidths=4, colors=colors)\n",
    "plt.yticks([i for i in range(1,38,2)])\n",
    "plt.ylabel(\"week_number\")\n",
    "plt.xticks([i for i in range(total_uuid_less_10w)])\n",
    "plt.xlabel(\"uu_id\")\n",
    "plt.grid(axis=\"x\")\n",
    "plt.tight_layout()\n",
    "plt.show()"
   ]
  },
  {
   "cell_type": "code",
   "execution_count": 48,
   "id": "166d333b",
   "metadata": {
    "execution": {
     "iopub.execute_input": "2023-05-10T01:43:32.895744Z",
     "iopub.status.busy": "2023-05-10T01:43:32.895625Z",
     "iopub.status.idle": "2023-05-10T01:43:32.903187Z",
     "shell.execute_reply": "2023-05-10T01:43:32.902942Z"
    }
   },
   "outputs": [
    {
     "ename": "NameError",
     "evalue": "name 'bigquery_client' is not defined",
     "output_type": "error",
     "traceback": [
      "\u001b[0;31m---------------------------------------------------------------------------\u001b[0m",
      "\u001b[0;31mNameError\u001b[0m                                 Traceback (most recent call last)",
      "Cell \u001b[0;32mIn [48], line 11\u001b[0m\n\u001b[1;32m      1\u001b[0m \u001b[38;5;66;03m# select 10 of 96 uuids with 3 weeks' data\u001b[39;00m\n\u001b[1;32m      2\u001b[0m QUERY \u001b[38;5;241m=\u001b[39m \u001b[38;5;124m\"\"\"\u001b[39m\n\u001b[1;32m      3\u001b[0m \u001b[38;5;124mSELECT uu_id\u001b[39m\n\u001b[1;32m      4\u001b[0m \u001b[38;5;124mFROM (\u001b[39m\n\u001b[0;32m   (...)\u001b[0m\n\u001b[1;32m      9\u001b[0m \u001b[38;5;124mWHERE week_count <= 10\u001b[39m\n\u001b[1;32m     10\u001b[0m \u001b[38;5;124m\"\"\"\u001b[39m\n\u001b[0;32m---> 11\u001b[0m query_job \u001b[38;5;241m=\u001b[39m \u001b[43mbigquery_client\u001b[49m\u001b[38;5;241m.\u001b[39mquery(QUERY)\n\u001b[1;32m     12\u001b[0m uuid_less_10w \u001b[38;5;241m=\u001b[39m query_job\u001b[38;5;241m.\u001b[39mto_dataframe()\n\u001b[1;32m     13\u001b[0m uuid_less_10w\u001b[38;5;241m.\u001b[39mshape\n",
      "\u001b[0;31mNameError\u001b[0m: name 'bigquery_client' is not defined"
     ]
    }
   ],
   "source": [
    "# select 10 of 96 uuids with 3 weeks' data\n",
    "QUERY = \"\"\"\n",
    "SELECT uu_id\n",
    "FROM (\n",
    "    SELECT uu_id, COUNT(DISTINCT(week_number)) as week_count\n",
    "    FROM ironhacks-data.ironhacks_competition.unemployment_data\n",
    "    GROUP BY uu_id\n",
    ")\n",
    "WHERE week_count <= 10\n",
    "\"\"\"\n",
    "query_job = bigquery_client.query(QUERY)\n",
    "uuid_less_10w = query_job.to_dataframe()\n",
    "uuid_less_10w.shape\n",
    "total_uuid_less_10w = uuid_less_10w.shape"
   ]
  },
  {
   "cell_type": "code",
   "execution_count": 49,
   "id": "87fb6c67",
   "metadata": {
    "execution": {
     "iopub.execute_input": "2023-05-10T01:43:32.904725Z",
     "iopub.status.busy": "2023-05-10T01:43:32.904611Z",
     "iopub.status.idle": "2023-05-10T01:43:32.962341Z",
     "shell.execute_reply": "2023-05-10T01:43:32.962062Z"
    }
   },
   "outputs": [
    {
     "ename": "NameError",
     "evalue": "name 'uuid_less_10w' is not defined",
     "output_type": "error",
     "traceback": [
      "\u001b[0;31m---------------------------------------------------------------------------\u001b[0m",
      "\u001b[0;31mNameError\u001b[0m                                 Traceback (most recent call last)",
      "Cell \u001b[0;32mIn [49], line 3\u001b[0m\n\u001b[1;32m      1\u001b[0m \u001b[38;5;66;03m# select all uuid data with no more than 10 weeks of data\u001b[39;00m\n\u001b[1;32m      2\u001b[0m data_less_10w \u001b[38;5;241m=\u001b[39m []\n\u001b[0;32m----> 3\u001b[0m \u001b[38;5;28;01mfor\u001b[39;00m uuid \u001b[38;5;129;01min\u001b[39;00m \u001b[43muuid_less_10w\u001b[49m[\u001b[38;5;124m\"\u001b[39m\u001b[38;5;124muu_id\u001b[39m\u001b[38;5;124m\"\u001b[39m]:\n\u001b[1;32m      4\u001b[0m     QUERY\u001b[38;5;241m=\u001b[39m\u001b[38;5;124m\"\"\"\u001b[39m\n\u001b[1;32m      5\u001b[0m \u001b[38;5;124m    SELECT *\u001b[39m\n\u001b[1;32m      6\u001b[0m \u001b[38;5;124m    FROM ironhacks-data.ironhacks_competition.unemployment_data\u001b[39m\n\u001b[1;32m      7\u001b[0m \u001b[38;5;124m    WHERE uu_id=\u001b[39m\u001b[38;5;124m\"\u001b[39m\u001b[38;5;132;01m%s\u001b[39;00m\u001b[38;5;124m\"\u001b[39m\n\u001b[1;32m      8\u001b[0m \u001b[38;5;124m    ORDER BY week_number\u001b[39m\n\u001b[1;32m      9\u001b[0m \u001b[38;5;124m    \u001b[39m\u001b[38;5;124m\"\"\"\u001b[39m\u001b[38;5;241m%\u001b[39m(uuid)\n\u001b[1;32m     10\u001b[0m     query_job \u001b[38;5;241m=\u001b[39m bigquery_client\u001b[38;5;241m.\u001b[39mquery(QUERY)\n",
      "\u001b[0;31mNameError\u001b[0m: name 'uuid_less_10w' is not defined"
     ]
    }
   ],
   "source": [
    "# select all uuid data with no more than 10 weeks of data\n",
    "data_less_10w = []\n",
    "for uuid in uuid_less_10w[\"uu_id\"]:\n",
    "    QUERY=\"\"\"\n",
    "    SELECT *\n",
    "    FROM ironhacks-data.ironhacks_competition.unemployment_data\n",
    "    WHERE uu_id=\"%s\"\n",
    "    ORDER BY week_number\n",
    "    \"\"\"%(uuid)\n",
    "    query_job = bigquery_client.query(QUERY)\n",
    "    data_less_10w.append(query_job.to_dataframe().drop_duplicates(ignore_index=True))"
   ]
  },
  {
   "cell_type": "code",
   "execution_count": 50,
   "id": "d5f3a60d",
   "metadata": {
    "execution": {
     "iopub.execute_input": "2023-05-10T01:43:32.963896Z",
     "iopub.status.busy": "2023-05-10T01:43:32.963781Z",
     "iopub.status.idle": "2023-05-10T01:43:32.965876Z",
     "shell.execute_reply": "2023-05-10T01:43:32.965610Z"
    }
   },
   "outputs": [],
   "source": [
    "# find out which weeks are available for these uuids\n",
    "week_available = []\n",
    "for i in range(len(data_less_10w)):\n",
    "    week_available.append(list(data_less_10w[i][\"week_number\"]))"
   ]
  },
  {
   "cell_type": "code",
   "execution_count": 51,
   "id": "0bc11eed",
   "metadata": {
    "execution": {
     "iopub.execute_input": "2023-05-10T01:43:32.967252Z",
     "iopub.status.busy": "2023-05-10T01:43:32.967148Z",
     "iopub.status.idle": "2023-05-10T01:43:33.042867Z",
     "shell.execute_reply": "2023-05-10T01:43:33.042242Z"
    }
   },
   "outputs": [
    {
     "ename": "NameError",
     "evalue": "name 'total_uuid_less_10w' is not defined",
     "output_type": "error",
     "traceback": [
      "\u001b[0;31m---------------------------------------------------------------------------\u001b[0m",
      "\u001b[0;31mNameError\u001b[0m                                 Traceback (most recent call last)",
      "Cell \u001b[0;32mIn [51], line 4\u001b[0m\n\u001b[1;32m      2\u001b[0m plt\u001b[38;5;241m.\u001b[39mfigure(figsize\u001b[38;5;241m=\u001b[39m(\u001b[38;5;241m12\u001b[39m,\u001b[38;5;241m4\u001b[39m))\n\u001b[1;32m      3\u001b[0m plt\u001b[38;5;241m.\u001b[39mtitle(\u001b[38;5;124m\"\u001b[39m\u001b[38;5;124mweek_number distribution for uuid with no more than 10 weeks of data\u001b[39m\u001b[38;5;124m\"\u001b[39m)\n\u001b[0;32m----> 4\u001b[0m colors \u001b[38;5;241m=\u001b[39m [\u001b[38;5;124m'\u001b[39m\u001b[38;5;124mC\u001b[39m\u001b[38;5;132;01m{}\u001b[39;00m\u001b[38;5;124m'\u001b[39m\u001b[38;5;241m.\u001b[39mformat(i) \u001b[38;5;28;01mfor\u001b[39;00m i \u001b[38;5;129;01min\u001b[39;00m \u001b[38;5;28mrange\u001b[39m(\u001b[43mtotal_uuid_less_10w\u001b[49m)]\n\u001b[1;32m      5\u001b[0m plt\u001b[38;5;241m.\u001b[39meventplot(week_available, orientation\u001b[38;5;241m=\u001b[39m\u001b[38;5;124m'\u001b[39m\u001b[38;5;124mvertical\u001b[39m\u001b[38;5;124m'\u001b[39m, linelengths\u001b[38;5;241m=\u001b[39m\u001b[38;5;241m0.2\u001b[39m, linewidths\u001b[38;5;241m=\u001b[39m\u001b[38;5;241m4\u001b[39m, colors\u001b[38;5;241m=\u001b[39mcolors)\n\u001b[1;32m      6\u001b[0m plt\u001b[38;5;241m.\u001b[39myticks([i \u001b[38;5;28;01mfor\u001b[39;00m i \u001b[38;5;129;01min\u001b[39;00m \u001b[38;5;28mrange\u001b[39m(\u001b[38;5;241m1\u001b[39m,\u001b[38;5;241m38\u001b[39m,\u001b[38;5;241m2\u001b[39m)])\n",
      "\u001b[0;31mNameError\u001b[0m: name 'total_uuid_less_10w' is not defined"
     ]
    },
    {
     "data": {
      "image/png": "[encoded data removed]",
      "text/plain": [
       "<Figure size 1200x400 with 1 Axes>"
      ]
     },
     "metadata": {},
     "output_type": "display_data"
    }
   ],
   "source": [
    "# plot the avaliable weeks vs uu_id\n",
    "plt.figure(figsize=(12,4))\n",
    "plt.title(\"week_number distribution for uuid with no more than 10 weeks of data\")\n",
    "colors = ['C{}'.format(i) for i in range(total_uuid_less_10w)]\n",
    "plt.eventplot(week_available, orientation='vertical', linelengths=0.2, linewidths=4, colors=colors)\n",
    "plt.yticks([i for i in range(1,38,2)])\n",
    "plt.ylabel(\"week_number\")\n",
    "plt.xticks([i for i in range(total_uuid_less_10w)])\n",
    "plt.xlabel(\"uu_id\")\n",
    "plt.grid(axis=\"x\")\n",
    "plt.tight_layout()\n",
    "plt.show()"
   ]
  },
  {
   "cell_type": "code",
   "execution_count": 52,
   "id": "a83f4cdb",
   "metadata": {
    "execution": {
     "iopub.execute_input": "2023-05-10T01:43:33.044910Z",
     "iopub.status.busy": "2023-05-10T01:43:33.044749Z",
     "iopub.status.idle": "2023-05-10T01:43:33.121323Z",
     "shell.execute_reply": "2023-05-10T01:43:33.121041Z"
    }
   },
   "outputs": [
    {
     "ename": "NameError",
     "evalue": "name 'total_uuid_less_10w' is not defined",
     "output_type": "error",
     "traceback": [
      "\u001b[0;31m---------------------------------------------------------------------------\u001b[0m",
      "\u001b[0;31mNameError\u001b[0m                                 Traceback (most recent call last)",
      "Cell \u001b[0;32mIn [52], line 4\u001b[0m\n\u001b[1;32m      2\u001b[0m plt\u001b[38;5;241m.\u001b[39mfigure(figsize\u001b[38;5;241m=\u001b[39m(\u001b[38;5;241m12\u001b[39m,\u001b[38;5;241m4\u001b[39m))\n\u001b[1;32m      3\u001b[0m plt\u001b[38;5;241m.\u001b[39mtitle(\u001b[38;5;124m\"\u001b[39m\u001b[38;5;124mweek_number distribution for uuid with no more than 10 weeks of data\u001b[39m\u001b[38;5;124m\"\u001b[39m)\n\u001b[0;32m----> 4\u001b[0m colors \u001b[38;5;241m=\u001b[39m [\u001b[38;5;124m'\u001b[39m\u001b[38;5;124mC\u001b[39m\u001b[38;5;132;01m{}\u001b[39;00m\u001b[38;5;124m'\u001b[39m\u001b[38;5;241m.\u001b[39mformat(i) \u001b[38;5;28;01mfor\u001b[39;00m i \u001b[38;5;129;01min\u001b[39;00m \u001b[38;5;28mrange\u001b[39m(\u001b[43mtotal_uuid_less_10w\u001b[49m)]\n\u001b[1;32m      5\u001b[0m plt\u001b[38;5;241m.\u001b[39meventplot(week_available, orientation\u001b[38;5;241m=\u001b[39m\u001b[38;5;124m'\u001b[39m\u001b[38;5;124mvertical\u001b[39m\u001b[38;5;124m'\u001b[39m, linelengths\u001b[38;5;241m=\u001b[39m\u001b[38;5;241m0.2\u001b[39m, linewidths\u001b[38;5;241m=\u001b[39m\u001b[38;5;241m4\u001b[39m, colors\u001b[38;5;241m=\u001b[39mcolors)\n\u001b[1;32m      6\u001b[0m plt\u001b[38;5;241m.\u001b[39myticks([i \u001b[38;5;28;01mfor\u001b[39;00m i \u001b[38;5;129;01min\u001b[39;00m \u001b[38;5;28mrange\u001b[39m(\u001b[38;5;241m1\u001b[39m,\u001b[38;5;241m38\u001b[39m,\u001b[38;5;241m2\u001b[39m)])\n",
      "\u001b[0;31mNameError\u001b[0m: name 'total_uuid_less_10w' is not defined"
     ]
    },
    {
     "data": {
      "image/png": "[encoded data removed]",
      "text/plain": [
       "<Figure size 1200x400 with 1 Axes>"
      ]
     },
     "metadata": {},
     "output_type": "display_data"
    }
   ],
   "source": [
    "# plot the avaliable weeks vs uu_id\n",
    "plt.figure(figsize=(12,4))\n",
    "plt.title(\"week_number distribution for uuid with no more than 10 weeks of data\")\n",
    "colors = ['C{}'.format(i) for i in range(total_uuid_less_10w)]\n",
    "plt.eventplot(week_available, orientation='vertical', linelengths=0.2, linewidths=4, colors=colors)\n",
    "plt.yticks([i for i in range(1,38,2)])\n",
    "plt.ylabel(\"week_number\")\n",
    "plt.xticks([i for i in range(total_uuid_less_10w)])\n",
    "plt.xlabel(\"uu_id\")\n",
    "plt.grid(axis=\"x\")\n",
    "plt.axhline(4, color='black')\n",
    "plt.axhline(23, color='black')\n",
    "plt.tight_layout()\n",
    "plt.show()"
   ]
  },
  {
   "cell_type": "code",
   "execution_count": 53,
   "id": "6836c24d",
   "metadata": {
    "execution": {
     "iopub.execute_input": "2023-05-10T01:43:33.122872Z",
     "iopub.status.busy": "2023-05-10T01:43:33.122746Z",
     "iopub.status.idle": "2023-05-10T01:43:33.130359Z",
     "shell.execute_reply": "2023-05-10T01:43:33.130104Z"
    }
   },
   "outputs": [
    {
     "ename": "NameError",
     "evalue": "name 'bigquery_client' is not defined",
     "output_type": "error",
     "traceback": [
      "\u001b[0;31m---------------------------------------------------------------------------\u001b[0m",
      "\u001b[0;31mNameError\u001b[0m                                 Traceback (most recent call last)",
      "Cell \u001b[0;32mIn [53], line 11\u001b[0m\n\u001b[1;32m      1\u001b[0m \u001b[38;5;66;03m# select 10 of 96 uuids with 3 weeks' data\u001b[39;00m\n\u001b[1;32m      2\u001b[0m QUERY \u001b[38;5;241m=\u001b[39m \u001b[38;5;124m\"\"\"\u001b[39m\n\u001b[1;32m      3\u001b[0m \u001b[38;5;124mSELECT uu_id\u001b[39m\n\u001b[1;32m      4\u001b[0m \u001b[38;5;124mFROM (\u001b[39m\n\u001b[0;32m   (...)\u001b[0m\n\u001b[1;32m      9\u001b[0m \u001b[38;5;124mWHERE week_count <= 10\u001b[39m\n\u001b[1;32m     10\u001b[0m \u001b[38;5;124m\"\"\"\u001b[39m\n\u001b[0;32m---> 11\u001b[0m query_job \u001b[38;5;241m=\u001b[39m \u001b[43mbigquery_client\u001b[49m\u001b[38;5;241m.\u001b[39mquery(QUERY)\n\u001b[1;32m     12\u001b[0m uuid_less_10w \u001b[38;5;241m=\u001b[39m query_job\u001b[38;5;241m.\u001b[39mto_dataframe()\n\u001b[1;32m     13\u001b[0m uuid_less_10w\u001b[38;5;241m.\u001b[39mshape\n",
      "\u001b[0;31mNameError\u001b[0m: name 'bigquery_client' is not defined"
     ]
    }
   ],
   "source": [
    "# select 10 of 96 uuids with 3 weeks' data\n",
    "QUERY = \"\"\"\n",
    "SELECT uu_id\n",
    "FROM (\n",
    "    SELECT uu_id, COUNT(DISTINCT(week_number)) as week_count\n",
    "    FROM ironhacks-data.ironhacks_competition.unemployment_data\n",
    "    GROUP BY uu_id\n",
    ")\n",
    "WHERE week_count <= 10\n",
    "\"\"\"\n",
    "query_job = bigquery_client.query(QUERY)\n",
    "uuid_less_10w = query_job.to_dataframe()\n",
    "uuid_less_10w.shape\n",
    "total_uuid_less_10w = uuid_less_10w.shape[0]"
   ]
  },
  {
   "cell_type": "code",
   "execution_count": 54,
   "id": "a4d6f692",
   "metadata": {
    "execution": {
     "iopub.execute_input": "2023-05-10T01:43:33.131767Z",
     "iopub.status.busy": "2023-05-10T01:43:33.131679Z",
     "iopub.status.idle": "2023-05-10T01:43:33.205298Z",
     "shell.execute_reply": "2023-05-10T01:43:33.205021Z"
    }
   },
   "outputs": [
    {
     "ename": "NameError",
     "evalue": "name 'total_uuid_less_10w' is not defined",
     "output_type": "error",
     "traceback": [
      "\u001b[0;31m---------------------------------------------------------------------------\u001b[0m",
      "\u001b[0;31mNameError\u001b[0m                                 Traceback (most recent call last)",
      "Cell \u001b[0;32mIn [54], line 4\u001b[0m\n\u001b[1;32m      2\u001b[0m plt\u001b[38;5;241m.\u001b[39mfigure(figsize\u001b[38;5;241m=\u001b[39m(\u001b[38;5;241m12\u001b[39m,\u001b[38;5;241m4\u001b[39m))\n\u001b[1;32m      3\u001b[0m plt\u001b[38;5;241m.\u001b[39mtitle(\u001b[38;5;124m\"\u001b[39m\u001b[38;5;124mweek_number distribution for uuid with no more than 10 weeks of data\u001b[39m\u001b[38;5;124m\"\u001b[39m)\n\u001b[0;32m----> 4\u001b[0m colors \u001b[38;5;241m=\u001b[39m [\u001b[38;5;124m'\u001b[39m\u001b[38;5;124mC\u001b[39m\u001b[38;5;132;01m{}\u001b[39;00m\u001b[38;5;124m'\u001b[39m\u001b[38;5;241m.\u001b[39mformat(i) \u001b[38;5;28;01mfor\u001b[39;00m i \u001b[38;5;129;01min\u001b[39;00m \u001b[38;5;28mrange\u001b[39m(\u001b[43mtotal_uuid_less_10w\u001b[49m)]\n\u001b[1;32m      5\u001b[0m plt\u001b[38;5;241m.\u001b[39meventplot(week_available, orientation\u001b[38;5;241m=\u001b[39m\u001b[38;5;124m'\u001b[39m\u001b[38;5;124mvertical\u001b[39m\u001b[38;5;124m'\u001b[39m, linelengths\u001b[38;5;241m=\u001b[39m\u001b[38;5;241m0.2\u001b[39m, linewidths\u001b[38;5;241m=\u001b[39m\u001b[38;5;241m4\u001b[39m, colors\u001b[38;5;241m=\u001b[39mcolors)\n\u001b[1;32m      6\u001b[0m plt\u001b[38;5;241m.\u001b[39myticks([i \u001b[38;5;28;01mfor\u001b[39;00m i \u001b[38;5;129;01min\u001b[39;00m \u001b[38;5;28mrange\u001b[39m(\u001b[38;5;241m1\u001b[39m,\u001b[38;5;241m38\u001b[39m,\u001b[38;5;241m2\u001b[39m)])\n",
      "\u001b[0;31mNameError\u001b[0m: name 'total_uuid_less_10w' is not defined"
     ]
    },
    {
     "data": {
      "image/png": "[encoded data removed]",
      "text/plain": [
       "<Figure size 1200x400 with 1 Axes>"
      ]
     },
     "metadata": {},
     "output_type": "display_data"
    }
   ],
   "source": [
    "# plot the avaliable weeks vs uu_id\n",
    "plt.figure(figsize=(12,4))\n",
    "plt.title(\"week_number distribution for uuid with no more than 10 weeks of data\")\n",
    "colors = ['C{}'.format(i) for i in range(total_uuid_less_10w)]\n",
    "plt.eventplot(week_available, orientation='vertical', linelengths=0.2, linewidths=4, colors=colors)\n",
    "plt.yticks([i for i in range(1,38,2)])\n",
    "plt.ylabel(\"week_number\")\n",
    "plt.xticks([i for i in range(total_uuid_less_10w)])\n",
    "plt.xlabel(\"uu_id\")\n",
    "plt.grid(axis=\"x\")\n",
    "plt.axhline(4, color='black')\n",
    "plt.axhline(23, color='black')\n",
    "plt.tight_layout()\n",
    "plt.show()"
   ]
  },
  {
   "cell_type": "code",
   "execution_count": 55,
   "id": "30235b76",
   "metadata": {
    "execution": {
     "iopub.execute_input": "2023-05-10T01:43:33.206925Z",
     "iopub.status.busy": "2023-05-10T01:43:33.206809Z",
     "iopub.status.idle": "2023-05-10T01:43:33.280604Z",
     "shell.execute_reply": "2023-05-10T01:43:33.280333Z"
    }
   },
   "outputs": [
    {
     "ename": "NameError",
     "evalue": "name 'total_uuid_less_10w' is not defined",
     "output_type": "error",
     "traceback": [
      "\u001b[0;31m---------------------------------------------------------------------------\u001b[0m",
      "\u001b[0;31mNameError\u001b[0m                                 Traceback (most recent call last)",
      "Cell \u001b[0;32mIn [55], line 4\u001b[0m\n\u001b[1;32m      2\u001b[0m plt\u001b[38;5;241m.\u001b[39mfigure(figsize\u001b[38;5;241m=\u001b[39m(\u001b[38;5;241m12\u001b[39m,\u001b[38;5;241m4\u001b[39m))\n\u001b[1;32m      3\u001b[0m plt\u001b[38;5;241m.\u001b[39mtitle(\u001b[38;5;124m\"\u001b[39m\u001b[38;5;124mweek_number distribution for uuid with no more than 10 weeks of data\u001b[39m\u001b[38;5;124m\"\u001b[39m)\n\u001b[0;32m----> 4\u001b[0m colors \u001b[38;5;241m=\u001b[39m [\u001b[38;5;124m'\u001b[39m\u001b[38;5;124mC\u001b[39m\u001b[38;5;132;01m{}\u001b[39;00m\u001b[38;5;124m'\u001b[39m\u001b[38;5;241m.\u001b[39mformat(i) \u001b[38;5;28;01mfor\u001b[39;00m i \u001b[38;5;129;01min\u001b[39;00m \u001b[38;5;28mrange\u001b[39m(\u001b[43mtotal_uuid_less_10w\u001b[49m)]\n\u001b[1;32m      5\u001b[0m plt\u001b[38;5;241m.\u001b[39meventplot(week_available, orientation\u001b[38;5;241m=\u001b[39m\u001b[38;5;124m'\u001b[39m\u001b[38;5;124mvertical\u001b[39m\u001b[38;5;124m'\u001b[39m, linelengths\u001b[38;5;241m=\u001b[39m\u001b[38;5;241m0.2\u001b[39m, linewidths\u001b[38;5;241m=\u001b[39m\u001b[38;5;241m4\u001b[39m, colors\u001b[38;5;241m=\u001b[39mcolors)\n\u001b[1;32m      6\u001b[0m plt\u001b[38;5;241m.\u001b[39myticks([i \u001b[38;5;28;01mfor\u001b[39;00m i \u001b[38;5;129;01min\u001b[39;00m \u001b[38;5;28mrange\u001b[39m(\u001b[38;5;241m1\u001b[39m,\u001b[38;5;241m38\u001b[39m,\u001b[38;5;241m2\u001b[39m)])\n",
      "\u001b[0;31mNameError\u001b[0m: name 'total_uuid_less_10w' is not defined"
     ]
    },
    {
     "data": {
      "image/png": "[encoded data removed]",
      "text/plain": [
       "<Figure size 1200x400 with 1 Axes>"
      ]
     },
     "metadata": {},
     "output_type": "display_data"
    }
   ],
   "source": [
    "# plot the avaliable weeks vs uu_id\n",
    "plt.figure(figsize=(12,4))\n",
    "plt.title(\"week_number distribution for uuid with no more than 10 weeks of data\")\n",
    "colors = ['C{}'.format(i) for i in range(total_uuid_less_10w)]\n",
    "plt.eventplot(week_available, orientation='vertical', linelengths=0.2, linewidths=4, colors=colors)\n",
    "plt.yticks([i for i in range(1,38,2)])\n",
    "plt.ylabel(\"week_number\")\n",
    "plt.xticks([i for i in range(total_uuid_less_10w)])\n",
    "plt.xlabel(\"uu_id\")\n",
    "plt.grid(axis=\"x\")\n",
    "plt.axhline(4, color='grey')\n",
    "plt.axhline(23, color='grey')\n",
    "plt.tight_layout()\n",
    "plt.show()"
   ]
  },
  {
   "cell_type": "code",
   "execution_count": 56,
   "id": "8933dbb4",
   "metadata": {
    "execution": {
     "iopub.execute_input": "2023-05-10T01:43:33.282195Z",
     "iopub.status.busy": "2023-05-10T01:43:33.282062Z",
     "iopub.status.idle": "2023-05-10T01:43:33.356179Z",
     "shell.execute_reply": "2023-05-10T01:43:33.355907Z"
    }
   },
   "outputs": [
    {
     "ename": "NameError",
     "evalue": "name 'total_uuid_less_10w' is not defined",
     "output_type": "error",
     "traceback": [
      "\u001b[0;31m---------------------------------------------------------------------------\u001b[0m",
      "\u001b[0;31mNameError\u001b[0m                                 Traceback (most recent call last)",
      "Cell \u001b[0;32mIn [56], line 4\u001b[0m\n\u001b[1;32m      2\u001b[0m plt\u001b[38;5;241m.\u001b[39mfigure(figsize\u001b[38;5;241m=\u001b[39m(\u001b[38;5;241m12\u001b[39m,\u001b[38;5;241m4\u001b[39m))\n\u001b[1;32m      3\u001b[0m plt\u001b[38;5;241m.\u001b[39mtitle(\u001b[38;5;124m\"\u001b[39m\u001b[38;5;124mweek_number distribution for uuid with no more than 10 weeks of data\u001b[39m\u001b[38;5;124m\"\u001b[39m)\n\u001b[0;32m----> 4\u001b[0m colors \u001b[38;5;241m=\u001b[39m [\u001b[38;5;124m'\u001b[39m\u001b[38;5;124mC\u001b[39m\u001b[38;5;132;01m{}\u001b[39;00m\u001b[38;5;124m'\u001b[39m\u001b[38;5;241m.\u001b[39mformat(i) \u001b[38;5;28;01mfor\u001b[39;00m i \u001b[38;5;129;01min\u001b[39;00m \u001b[38;5;28mrange\u001b[39m(\u001b[43mtotal_uuid_less_10w\u001b[49m)]\n\u001b[1;32m      5\u001b[0m plt\u001b[38;5;241m.\u001b[39meventplot(week_available, orientation\u001b[38;5;241m=\u001b[39m\u001b[38;5;124m'\u001b[39m\u001b[38;5;124mvertical\u001b[39m\u001b[38;5;124m'\u001b[39m, linelengths\u001b[38;5;241m=\u001b[39m\u001b[38;5;241m0.2\u001b[39m, linewidths\u001b[38;5;241m=\u001b[39m\u001b[38;5;241m4\u001b[39m, colors\u001b[38;5;241m=\u001b[39mcolors)\n\u001b[1;32m      6\u001b[0m plt\u001b[38;5;241m.\u001b[39myticks([i \u001b[38;5;28;01mfor\u001b[39;00m i \u001b[38;5;129;01min\u001b[39;00m \u001b[38;5;28mrange\u001b[39m(\u001b[38;5;241m1\u001b[39m,\u001b[38;5;241m38\u001b[39m,\u001b[38;5;241m2\u001b[39m)])\n",
      "\u001b[0;31mNameError\u001b[0m: name 'total_uuid_less_10w' is not defined"
     ]
    },
    {
     "data": {
      "image/png": "[encoded data removed]",
      "text/plain": [
       "<Figure size 1200x400 with 1 Axes>"
      ]
     },
     "metadata": {},
     "output_type": "display_data"
    }
   ],
   "source": [
    "# plot the avaliable weeks vs uu_id\n",
    "plt.figure(figsize=(12,4))\n",
    "plt.title(\"week_number distribution for uuid with no more than 10 weeks of data\")\n",
    "colors = ['C{}'.format(i) for i in range(total_uuid_less_10w)]\n",
    "plt.eventplot(week_available, orientation='vertical', linelengths=0.2, linewidths=4, colors=colors)\n",
    "plt.yticks([i for i in range(1,38,2)])\n",
    "plt.ylabel(\"week_number\")\n",
    "plt.xticks([i for i in range(total_uuid_less_10w)])\n",
    "plt.xlabel(\"uu_id\")\n",
    "plt.grid(axis=\"x\")\n",
    "plt.axhline(4)\n",
    "plt.axhline(23)\n",
    "plt.tight_layout()\n",
    "plt.show()"
   ]
  },
  {
   "cell_type": "code",
   "execution_count": 57,
   "id": "cc045035",
   "metadata": {
    "execution": {
     "iopub.execute_input": "2023-05-10T01:43:33.357758Z",
     "iopub.status.busy": "2023-05-10T01:43:33.357643Z",
     "iopub.status.idle": "2023-05-10T01:43:33.431223Z",
     "shell.execute_reply": "2023-05-10T01:43:33.430948Z"
    }
   },
   "outputs": [
    {
     "ename": "NameError",
     "evalue": "name 'total_uuid_less_10w' is not defined",
     "output_type": "error",
     "traceback": [
      "\u001b[0;31m---------------------------------------------------------------------------\u001b[0m",
      "\u001b[0;31mNameError\u001b[0m                                 Traceback (most recent call last)",
      "Cell \u001b[0;32mIn [57], line 4\u001b[0m\n\u001b[1;32m      2\u001b[0m plt\u001b[38;5;241m.\u001b[39mfigure(figsize\u001b[38;5;241m=\u001b[39m(\u001b[38;5;241m12\u001b[39m,\u001b[38;5;241m4\u001b[39m))\n\u001b[1;32m      3\u001b[0m plt\u001b[38;5;241m.\u001b[39mtitle(\u001b[38;5;124m\"\u001b[39m\u001b[38;5;124mweek_number distribution for uuid with no more than 10 weeks of data\u001b[39m\u001b[38;5;124m\"\u001b[39m)\n\u001b[0;32m----> 4\u001b[0m colors \u001b[38;5;241m=\u001b[39m [\u001b[38;5;124m'\u001b[39m\u001b[38;5;124mC\u001b[39m\u001b[38;5;132;01m{}\u001b[39;00m\u001b[38;5;124m'\u001b[39m\u001b[38;5;241m.\u001b[39mformat(i) \u001b[38;5;28;01mfor\u001b[39;00m i \u001b[38;5;129;01min\u001b[39;00m \u001b[38;5;28mrange\u001b[39m(\u001b[43mtotal_uuid_less_10w\u001b[49m)]\n\u001b[1;32m      5\u001b[0m plt\u001b[38;5;241m.\u001b[39meventplot(week_available, orientation\u001b[38;5;241m=\u001b[39m\u001b[38;5;124m'\u001b[39m\u001b[38;5;124mvertical\u001b[39m\u001b[38;5;124m'\u001b[39m, linelengths\u001b[38;5;241m=\u001b[39m\u001b[38;5;241m0.2\u001b[39m, linewidths\u001b[38;5;241m=\u001b[39m\u001b[38;5;241m4\u001b[39m, colors\u001b[38;5;241m=\u001b[39mcolors)\n\u001b[1;32m      6\u001b[0m plt\u001b[38;5;241m.\u001b[39myticks([i \u001b[38;5;28;01mfor\u001b[39;00m i \u001b[38;5;129;01min\u001b[39;00m \u001b[38;5;28mrange\u001b[39m(\u001b[38;5;241m1\u001b[39m,\u001b[38;5;241m38\u001b[39m,\u001b[38;5;241m2\u001b[39m)])\n",
      "\u001b[0;31mNameError\u001b[0m: name 'total_uuid_less_10w' is not defined"
     ]
    },
    {
     "data": {
      "image/png": "[encoded data removed]",
      "text/plain": [
       "<Figure size 1200x400 with 1 Axes>"
      ]
     },
     "metadata": {},
     "output_type": "display_data"
    }
   ],
   "source": [
    "# plot the avaliable weeks vs uu_id\n",
    "plt.figure(figsize=(12,4))\n",
    "plt.title(\"week_number distribution for uuid with no more than 10 weeks of data\")\n",
    "colors = ['C{}'.format(i) for i in range(total_uuid_less_10w)]\n",
    "plt.eventplot(week_available, orientation='vertical', linelengths=0.2, linewidths=4, colors=colors)\n",
    "plt.yticks([i for i in range(1,38,2)])\n",
    "plt.ylabel(\"week_number\")\n",
    "plt.xticks([i for i in range(total_uuid_less_10w)])\n",
    "plt.xlabel(\"uu_id\")\n",
    "plt.grid(axis=\"x\")\n",
    "plt.axhline(4, alpha=0.5)\n",
    "plt.axhline(23)\n",
    "plt.tight_layout()\n",
    "plt.show()"
   ]
  },
  {
   "cell_type": "code",
   "execution_count": 58,
   "id": "33846eca",
   "metadata": {
    "execution": {
     "iopub.execute_input": "2023-05-10T01:43:33.432830Z",
     "iopub.status.busy": "2023-05-10T01:43:33.432715Z",
     "iopub.status.idle": "2023-05-10T01:43:33.506612Z",
     "shell.execute_reply": "2023-05-10T01:43:33.506332Z"
    }
   },
   "outputs": [
    {
     "ename": "NameError",
     "evalue": "name 'total_uuid_less_10w' is not defined",
     "output_type": "error",
     "traceback": [
      "\u001b[0;31m---------------------------------------------------------------------------\u001b[0m",
      "\u001b[0;31mNameError\u001b[0m                                 Traceback (most recent call last)",
      "Cell \u001b[0;32mIn [58], line 4\u001b[0m\n\u001b[1;32m      2\u001b[0m plt\u001b[38;5;241m.\u001b[39mfigure(figsize\u001b[38;5;241m=\u001b[39m(\u001b[38;5;241m12\u001b[39m,\u001b[38;5;241m4\u001b[39m))\n\u001b[1;32m      3\u001b[0m plt\u001b[38;5;241m.\u001b[39mtitle(\u001b[38;5;124m\"\u001b[39m\u001b[38;5;124mweek_number distribution for uuid with no more than 10 weeks of data\u001b[39m\u001b[38;5;124m\"\u001b[39m)\n\u001b[0;32m----> 4\u001b[0m colors \u001b[38;5;241m=\u001b[39m [\u001b[38;5;124m'\u001b[39m\u001b[38;5;124mC\u001b[39m\u001b[38;5;132;01m{}\u001b[39;00m\u001b[38;5;124m'\u001b[39m\u001b[38;5;241m.\u001b[39mformat(i) \u001b[38;5;28;01mfor\u001b[39;00m i \u001b[38;5;129;01min\u001b[39;00m \u001b[38;5;28mrange\u001b[39m(\u001b[43mtotal_uuid_less_10w\u001b[49m)]\n\u001b[1;32m      5\u001b[0m plt\u001b[38;5;241m.\u001b[39meventplot(week_available, orientation\u001b[38;5;241m=\u001b[39m\u001b[38;5;124m'\u001b[39m\u001b[38;5;124mvertical\u001b[39m\u001b[38;5;124m'\u001b[39m, linelengths\u001b[38;5;241m=\u001b[39m\u001b[38;5;241m0.2\u001b[39m, linewidths\u001b[38;5;241m=\u001b[39m\u001b[38;5;241m4\u001b[39m, colors\u001b[38;5;241m=\u001b[39mcolors)\n\u001b[1;32m      6\u001b[0m plt\u001b[38;5;241m.\u001b[39myticks([i \u001b[38;5;28;01mfor\u001b[39;00m i \u001b[38;5;129;01min\u001b[39;00m \u001b[38;5;28mrange\u001b[39m(\u001b[38;5;241m1\u001b[39m,\u001b[38;5;241m38\u001b[39m,\u001b[38;5;241m2\u001b[39m)])\n",
      "\u001b[0;31mNameError\u001b[0m: name 'total_uuid_less_10w' is not defined"
     ]
    },
    {
     "data": {
      "image/png": "[encoded data removed]",
      "text/plain": [
       "<Figure size 1200x400 with 1 Axes>"
      ]
     },
     "metadata": {},
     "output_type": "display_data"
    }
   ],
   "source": [
    "# plot the avaliable weeks vs uu_id\n",
    "plt.figure(figsize=(12,4))\n",
    "plt.title(\"week_number distribution for uuid with no more than 10 weeks of data\")\n",
    "colors = ['C{}'.format(i) for i in range(total_uuid_less_10w)]\n",
    "plt.eventplot(week_available, orientation='vertical', linelengths=0.2, linewidths=4, colors=colors)\n",
    "plt.yticks([i for i in range(1,38,2)])\n",
    "plt.ylabel(\"week_number\")\n",
    "plt.xticks([i for i in range(total_uuid_less_10w)])\n",
    "plt.xlabel(\"uu_id\")\n",
    "plt.grid(axis=\"x\")\n",
    "plt.axhline(4, alpha=0.5)\n",
    "plt.axhline(23,  alpha=0.5)\n",
    "plt.tight_layout()\n",
    "plt.show()"
   ]
  },
  {
   "cell_type": "code",
   "execution_count": 59,
   "id": "21888c15",
   "metadata": {
    "execution": {
     "iopub.execute_input": "2023-05-10T01:43:33.508198Z",
     "iopub.status.busy": "2023-05-10T01:43:33.508081Z",
     "iopub.status.idle": "2023-05-10T01:43:33.582081Z",
     "shell.execute_reply": "2023-05-10T01:43:33.581754Z"
    }
   },
   "outputs": [
    {
     "ename": "NameError",
     "evalue": "name 'total_uuid_less_10w' is not defined",
     "output_type": "error",
     "traceback": [
      "\u001b[0;31m---------------------------------------------------------------------------\u001b[0m",
      "\u001b[0;31mNameError\u001b[0m                                 Traceback (most recent call last)",
      "Cell \u001b[0;32mIn [59], line 4\u001b[0m\n\u001b[1;32m      2\u001b[0m plt\u001b[38;5;241m.\u001b[39mfigure(figsize\u001b[38;5;241m=\u001b[39m(\u001b[38;5;241m12\u001b[39m,\u001b[38;5;241m4\u001b[39m))\n\u001b[1;32m      3\u001b[0m plt\u001b[38;5;241m.\u001b[39mtitle(\u001b[38;5;124m\"\u001b[39m\u001b[38;5;124mweek_number distribution for uuid with no more than 10 weeks of data\u001b[39m\u001b[38;5;124m\"\u001b[39m)\n\u001b[0;32m----> 4\u001b[0m colors \u001b[38;5;241m=\u001b[39m [\u001b[38;5;124m'\u001b[39m\u001b[38;5;124mC\u001b[39m\u001b[38;5;132;01m{}\u001b[39;00m\u001b[38;5;124m'\u001b[39m\u001b[38;5;241m.\u001b[39mformat(i) \u001b[38;5;28;01mfor\u001b[39;00m i \u001b[38;5;129;01min\u001b[39;00m \u001b[38;5;28mrange\u001b[39m(\u001b[43mtotal_uuid_less_10w\u001b[49m)]\n\u001b[1;32m      5\u001b[0m plt\u001b[38;5;241m.\u001b[39meventplot(week_available, orientation\u001b[38;5;241m=\u001b[39m\u001b[38;5;124m'\u001b[39m\u001b[38;5;124mvertical\u001b[39m\u001b[38;5;124m'\u001b[39m, linelengths\u001b[38;5;241m=\u001b[39m\u001b[38;5;241m0.2\u001b[39m, linewidths\u001b[38;5;241m=\u001b[39m\u001b[38;5;241m4\u001b[39m, colors\u001b[38;5;241m=\u001b[39mcolors)\n\u001b[1;32m      6\u001b[0m plt\u001b[38;5;241m.\u001b[39myticks([i \u001b[38;5;28;01mfor\u001b[39;00m i \u001b[38;5;129;01min\u001b[39;00m \u001b[38;5;28mrange\u001b[39m(\u001b[38;5;241m1\u001b[39m,\u001b[38;5;241m38\u001b[39m,\u001b[38;5;241m2\u001b[39m)])\n",
      "\u001b[0;31mNameError\u001b[0m: name 'total_uuid_less_10w' is not defined"
     ]
    },
    {
     "data": {
      "image/png": "[encoded data removed]",
      "text/plain": [
       "<Figure size 1200x400 with 1 Axes>"
      ]
     },
     "metadata": {},
     "output_type": "display_data"
    }
   ],
   "source": [
    "# plot the avaliable weeks vs uu_id\n",
    "plt.figure(figsize=(12,4))\n",
    "plt.title(\"week_number distribution for uuid with no more than 10 weeks of data\")\n",
    "colors = ['C{}'.format(i) for i in range(total_uuid_less_10w)]\n",
    "plt.eventplot(week_available, orientation='vertical', linelengths=0.2, linewidths=4, colors=colors)\n",
    "plt.yticks([i for i in range(1,38,2)])\n",
    "plt.ylabel(\"week_number\")\n",
    "plt.xticks([i for i in range(total_uuid_less_10w)])\n",
    "plt.xlabel(\"uu_id\")\n",
    "plt.grid(axis=\"x\")\n",
    "plt.axhline(4, alpha=0.5)\n",
    "plt.axhline(23, alpha=0.5)\n",
    "plt.tight_layout()\n",
    "plt.show()"
   ]
  },
  {
   "cell_type": "code",
   "execution_count": 60,
   "id": "e40db13c",
   "metadata": {
    "execution": {
     "iopub.execute_input": "2023-05-10T01:43:33.583702Z",
     "iopub.status.busy": "2023-05-10T01:43:33.583586Z",
     "iopub.status.idle": "2023-05-10T01:43:33.592330Z",
     "shell.execute_reply": "2023-05-10T01:43:33.592044Z"
    },
    "lines_to_next_cell": 1
   },
   "outputs": [
    {
     "ename": "NameError",
     "evalue": "name 'raw_total_claims_data' is not defined",
     "output_type": "error",
     "traceback": [
      "\u001b[0;31m---------------------------------------------------------------------------\u001b[0m",
      "\u001b[0;31mNameError\u001b[0m                                 Traceback (most recent call last)",
      "Cell \u001b[0;32mIn [60], line 2\u001b[0m\n\u001b[1;32m      1\u001b[0m \u001b[38;5;66;03m# save query result into csv file\u001b[39;00m\n\u001b[0;32m----> 2\u001b[0m raw_total_claims_df \u001b[38;5;241m=\u001b[39m pd\u001b[38;5;241m.\u001b[39mDataFrame\u001b[38;5;241m.\u001b[39mfrom_dict(\u001b[43mraw_total_claims_data\u001b[49m)\n\u001b[1;32m      3\u001b[0m raw_total_claims_df\u001b[38;5;241m.\u001b[39mto_csv(\u001b[38;5;124m\"\u001b[39m\u001b[38;5;124mraw_total_claims.csv\u001b[39m\u001b[38;5;124m\"\u001b[39m, index\u001b[38;5;241m=\u001b[39m\u001b[38;5;28;01mFalse\u001b[39;00m)\n",
      "\u001b[0;31mNameError\u001b[0m: name 'raw_total_claims_data' is not defined"
     ]
    }
   ],
   "source": [
    "# save query result into csv file\n",
    "raw_total_claims_df = pd.DataFrame.from_dict(raw_total_claims_data)\n",
    "raw_total_claims_df.to_csv(\"raw_total_claims.csv\", index=False)"
   ]
  },
  {
   "cell_type": "code",
   "execution_count": 61,
   "id": "b96d33ec",
   "metadata": {
    "execution": {
     "iopub.execute_input": "2023-05-10T01:43:33.593889Z",
     "iopub.status.busy": "2023-05-10T01:43:33.593771Z",
     "iopub.status.idle": "2023-05-10T01:43:33.597327Z",
     "shell.execute_reply": "2023-05-10T01:43:33.597064Z"
    },
    "lines_to_next_cell": 1
   },
   "outputs": [],
   "source": [
    "# query all total_claims data and store in raw_total_claims_data dict\n",
    "def query_all_total_claims():\n",
    "    temp_query_list = prediction_list[\"uu_id\"] # the list of uuids to be queried\n",
    "    raw_total_claims_data = {uuid:[] for uuid in temp_query_list} # dict to store all query results\n",
    "    total_week = 37\n",
    "\n",
    "    progress = 0\n",
    "    total = len(temp_query_list)\n",
    "    for uuid in temp_query_list:\n",
    "        progress = progress + 1\n",
    "        print('\\r', \"Querying\", str(progress) + \"/\" + str(total), \"uuid's data...\", end='\\r')\n",
    "        QUERY=\"\"\"\n",
    "        SELECT week_number, total_claims\n",
    "        FROM ironhacks-data.ironhacks_competition.unemployment_data\n",
    "        WHERE uu_id=\"%s\"\n",
    "        ORDER BY week_number\n",
    "        \"\"\"%(uuid)\n",
    "        query_job = bigquery_client.query(QUERY)\n",
    "        res = query_job.to_dataframe().drop_duplicates(ignore_index=True).to_numpy()\n",
    "\n",
    "        # Fill the missing total_claims between week 1 and week 37 with value 0\n",
    "        index = 0\n",
    "        for w in range(1,total_week + 1):\n",
    "            if index == len(res):\n",
    "                raw_total_claims_data[uuid].append({w:0})\n",
    "                continue\n",
    "            if w == res[index][0]:\n",
    "                raw_total_claims_data[uuid].append({w:res[index][1]})\n",
    "                index = index + 1\n",
    "            else:\n",
    "                raw_total_claims_data[uuid].append({w:0})\n",
    "        return raw_total_claims_data"
   ]
  },
  {
   "cell_type": "code",
   "execution_count": 62,
   "id": "f867d7ee",
   "metadata": {
    "execution": {
     "iopub.execute_input": "2023-05-10T01:43:33.598749Z",
     "iopub.status.busy": "2023-05-10T01:43:33.598662Z",
     "iopub.status.idle": "2023-05-10T01:43:33.612441Z",
     "shell.execute_reply": "2023-05-10T01:43:33.612168Z"
    }
   },
   "outputs": [
    {
     "ename": "NameError",
     "evalue": "name 'prediction_list' is not defined",
     "output_type": "error",
     "traceback": [
      "\u001b[0;31m---------------------------------------------------------------------------\u001b[0m",
      "\u001b[0;31mNameError\u001b[0m                                 Traceback (most recent call last)",
      "Cell \u001b[0;32mIn [62], line 2\u001b[0m\n\u001b[1;32m      1\u001b[0m \u001b[38;5;66;03m# commented for only excuting once\u001b[39;00m\n\u001b[0;32m----> 2\u001b[0m raw_total_claims_data \u001b[38;5;241m=\u001b[39m \u001b[43mquery_all_total_claims\u001b[49m\u001b[43m(\u001b[49m\u001b[43m)\u001b[49m\n",
      "Cell \u001b[0;32mIn [61], line 3\u001b[0m, in \u001b[0;36mquery_all_total_claims\u001b[0;34m()\u001b[0m\n\u001b[1;32m      2\u001b[0m \u001b[38;5;28;01mdef\u001b[39;00m \u001b[38;5;21mquery_all_total_claims\u001b[39m():\n\u001b[0;32m----> 3\u001b[0m     temp_query_list \u001b[38;5;241m=\u001b[39m \u001b[43mprediction_list\u001b[49m[\u001b[38;5;124m\"\u001b[39m\u001b[38;5;124muu_id\u001b[39m\u001b[38;5;124m\"\u001b[39m] \u001b[38;5;66;03m# the list of uuids to be queried\u001b[39;00m\n\u001b[1;32m      4\u001b[0m     raw_total_claims_data \u001b[38;5;241m=\u001b[39m {uuid:[] \u001b[38;5;28;01mfor\u001b[39;00m uuid \u001b[38;5;129;01min\u001b[39;00m temp_query_list} \u001b[38;5;66;03m# dict to store all query results\u001b[39;00m\n\u001b[1;32m      5\u001b[0m     total_week \u001b[38;5;241m=\u001b[39m \u001b[38;5;241m37\u001b[39m\n",
      "\u001b[0;31mNameError\u001b[0m: name 'prediction_list' is not defined"
     ]
    }
   ],
   "source": [
    "# commented for only excuting once\n",
    "raw_total_claims_data = query_all_total_claims()"
   ]
  },
  {
   "cell_type": "code",
   "execution_count": 63,
   "id": "085eea24",
   "metadata": {
    "execution": {
     "iopub.execute_input": "2023-05-10T01:43:33.613883Z",
     "iopub.status.busy": "2023-05-10T01:43:33.613776Z",
     "iopub.status.idle": "2023-05-10T01:43:33.620800Z",
     "shell.execute_reply": "2023-05-10T01:43:33.620528Z"
    },
    "lines_to_next_cell": 1
   },
   "outputs": [
    {
     "ename": "NameError",
     "evalue": "name 'raw_total_claims_data' is not defined",
     "output_type": "error",
     "traceback": [
      "\u001b[0;31m---------------------------------------------------------------------------\u001b[0m",
      "\u001b[0;31mNameError\u001b[0m                                 Traceback (most recent call last)",
      "Cell \u001b[0;32mIn [63], line 2\u001b[0m\n\u001b[1;32m      1\u001b[0m \u001b[38;5;66;03m# save query result into csv file\u001b[39;00m\n\u001b[0;32m----> 2\u001b[0m raw_total_claims_df \u001b[38;5;241m=\u001b[39m pd\u001b[38;5;241m.\u001b[39mDataFrame\u001b[38;5;241m.\u001b[39mfrom_dict(\u001b[43mraw_total_claims_data\u001b[49m)\n\u001b[1;32m      3\u001b[0m raw_total_claims_df\u001b[38;5;241m.\u001b[39mto_csv(\u001b[38;5;124m\"\u001b[39m\u001b[38;5;124mraw_total_claims.csv\u001b[39m\u001b[38;5;124m\"\u001b[39m, index\u001b[38;5;241m=\u001b[39m\u001b[38;5;28;01mFalse\u001b[39;00m)\n",
      "\u001b[0;31mNameError\u001b[0m: name 'raw_total_claims_data' is not defined"
     ]
    }
   ],
   "source": [
    "# save query result into csv file\n",
    "raw_total_claims_df = pd.DataFrame.from_dict(raw_total_claims_data)\n",
    "raw_total_claims_df.to_csv(\"raw_total_claims.csv\", index=False)"
   ]
  },
  {
   "cell_type": "code",
   "execution_count": 64,
   "id": "c35f6a10",
   "metadata": {
    "execution": {
     "iopub.execute_input": "2023-05-10T01:43:33.622246Z",
     "iopub.status.busy": "2023-05-10T01:43:33.622157Z",
     "iopub.status.idle": "2023-05-10T01:43:33.625686Z",
     "shell.execute_reply": "2023-05-10T01:43:33.625418Z"
    },
    "lines_to_next_cell": 1
   },
   "outputs": [],
   "source": [
    "# query all total_claims data and store in raw_total_claims_data dict\n",
    "def query_all_total_claims():\n",
    "    temp_query_list = prediction_list[\"uu_id\"] # the list of uuids to be queried\n",
    "    raw_total_claims_data = {uuid:[] for uuid in temp_query_list} # dict to store all query results\n",
    "    total_week = 37\n",
    "\n",
    "    progress = 0\n",
    "    total = len(temp_query_list)\n",
    "    for uuid in temp_query_list:\n",
    "        progress = progress + 1\n",
    "        print('\\r', \"Querying\", str(progress) + \"/\" + str(total), \"uuid's data...\", end='\\r')\n",
    "        QUERY=\"\"\"\n",
    "        SELECT week_number, total_claims\n",
    "        FROM ironhacks-data.ironhacks_competition.unemployment_data\n",
    "        WHERE uu_id=\"%s\"\n",
    "        ORDER BY week_number\n",
    "        \"\"\"%(uuid)\n",
    "        query_job = bigquery_client.query(QUERY)\n",
    "        res = query_job.to_dataframe().drop_duplicates(ignore_index=True).to_numpy()\n",
    "\n",
    "        # Fill the missing total_claims between week 1 and week 37 with value 0\n",
    "        index = 0\n",
    "        for w in range(1,total_week + 1):\n",
    "            if index == len(res):\n",
    "                raw_total_claims_data[uuid].append({w:0})\n",
    "                continue\n",
    "            if w == res[index][0]:\n",
    "                raw_total_claims_data[uuid].append({w:res[index][1]})\n",
    "                index = index + 1\n",
    "            else:\n",
    "                raw_total_claims_data[uuid].append({w:0})\n",
    "        return raw_total_claims_data"
   ]
  },
  {
   "cell_type": "code",
   "execution_count": 65,
   "id": "ac0834e1",
   "metadata": {
    "execution": {
     "iopub.execute_input": "2023-05-10T01:43:33.627068Z",
     "iopub.status.busy": "2023-05-10T01:43:33.626982Z",
     "iopub.status.idle": "2023-05-10T01:43:33.638570Z",
     "shell.execute_reply": "2023-05-10T01:43:33.638318Z"
    },
    "lines_to_next_cell": 1
   },
   "outputs": [
    {
     "ename": "NameError",
     "evalue": "name 'prediction_list' is not defined",
     "output_type": "error",
     "traceback": [
      "\u001b[0;31m---------------------------------------------------------------------------\u001b[0m",
      "\u001b[0;31mNameError\u001b[0m                                 Traceback (most recent call last)",
      "Cell \u001b[0;32mIn [65], line 2\u001b[0m\n\u001b[1;32m      1\u001b[0m \u001b[38;5;66;03m# commented for only excuting once\u001b[39;00m\n\u001b[0;32m----> 2\u001b[0m raw_total_claims_data \u001b[38;5;241m=\u001b[39m \u001b[43mquery_all_total_claims\u001b[49m\u001b[43m(\u001b[49m\u001b[43m)\u001b[49m\n",
      "Cell \u001b[0;32mIn [64], line 3\u001b[0m, in \u001b[0;36mquery_all_total_claims\u001b[0;34m()\u001b[0m\n\u001b[1;32m      2\u001b[0m \u001b[38;5;28;01mdef\u001b[39;00m \u001b[38;5;21mquery_all_total_claims\u001b[39m():\n\u001b[0;32m----> 3\u001b[0m     temp_query_list \u001b[38;5;241m=\u001b[39m \u001b[43mprediction_list\u001b[49m[\u001b[38;5;124m\"\u001b[39m\u001b[38;5;124muu_id\u001b[39m\u001b[38;5;124m\"\u001b[39m] \u001b[38;5;66;03m# the list of uuids to be queried\u001b[39;00m\n\u001b[1;32m      4\u001b[0m     raw_total_claims_data \u001b[38;5;241m=\u001b[39m {uuid:[] \u001b[38;5;28;01mfor\u001b[39;00m uuid \u001b[38;5;129;01min\u001b[39;00m temp_query_list} \u001b[38;5;66;03m# dict to store all query results\u001b[39;00m\n\u001b[1;32m      5\u001b[0m     total_week \u001b[38;5;241m=\u001b[39m \u001b[38;5;241m37\u001b[39m\n",
      "\u001b[0;31mNameError\u001b[0m: name 'prediction_list' is not defined"
     ]
    }
   ],
   "source": [
    "# commented for only excuting once\n",
    "raw_total_claims_data = query_all_total_claims()"
   ]
  },
  {
   "cell_type": "code",
   "execution_count": 66,
   "id": "f1cd15fd",
   "metadata": {
    "execution": {
     "iopub.execute_input": "2023-05-10T01:43:33.640041Z",
     "iopub.status.busy": "2023-05-10T01:43:33.639959Z",
     "iopub.status.idle": "2023-05-10T01:43:33.643366Z",
     "shell.execute_reply": "2023-05-10T01:43:33.643121Z"
    },
    "lines_to_next_cell": 1
   },
   "outputs": [],
   "source": [
    "# query all total_claims data and store in raw_total_claims_data dict\n",
    "def query_all_total_claims():\n",
    "    temp_query_list = prediction_list[\"uu_id\"] # the list of uuids to be queried\n",
    "    raw_total_claims_data = {uuid:[] for uuid in temp_query_list} # dict to store all query results\n",
    "    total_week = 37\n",
    "\n",
    "    progress = 0\n",
    "    total = len(temp_query_list)\n",
    "    for uuid in temp_query_list:\n",
    "        progress = progress + 1\n",
    "        print('\\r', \"Querying\", str(progress) + \"/\" + str(total), \"uuid's data...\", end='\\r')\n",
    "        QUERY=\"\"\"\n",
    "        SELECT week_number, total_claims\n",
    "        FROM ironhacks-data.ironhacks_competition.unemployment_data\n",
    "        WHERE uu_id=\"%s\"\n",
    "        ORDER BY week_number\n",
    "        \"\"\"%(uuid)\n",
    "        query_job = bigquery_client.query(QUERY)\n",
    "        res = query_job.to_dataframe().drop_duplicates(ignore_index=True).to_numpy()\n",
    "\n",
    "        # Fill the missing total_claims between week 1 and week 37 with value 0\n",
    "        index = 0\n",
    "        for w in range(1,total_week + 1):\n",
    "            if index == len(res):\n",
    "                raw_total_claims_data[uuid].append({w:0})\n",
    "                continue\n",
    "            if w == res[index][0]:\n",
    "                raw_total_claims_data[uuid].append({w:res[index][1]})\n",
    "                index = index + 1\n",
    "            else:\n",
    "                raw_total_claims_data[uuid].append({w:0})\n",
    "    return raw_total_claims_data"
   ]
  },
  {
   "cell_type": "code",
   "execution_count": 67,
   "id": "9ac697c4",
   "metadata": {
    "execution": {
     "iopub.execute_input": "2023-05-10T01:43:33.644805Z",
     "iopub.status.busy": "2023-05-10T01:43:33.644718Z",
     "iopub.status.idle": "2023-05-10T01:43:33.658649Z",
     "shell.execute_reply": "2023-05-10T01:43:33.658127Z"
    }
   },
   "outputs": [
    {
     "ename": "NameError",
     "evalue": "name 'prediction_list' is not defined",
     "output_type": "error",
     "traceback": [
      "\u001b[0;31m---------------------------------------------------------------------------\u001b[0m",
      "\u001b[0;31mNameError\u001b[0m                                 Traceback (most recent call last)",
      "Cell \u001b[0;32mIn [67], line 2\u001b[0m\n\u001b[1;32m      1\u001b[0m \u001b[38;5;66;03m# commented for only excuting once\u001b[39;00m\n\u001b[0;32m----> 2\u001b[0m raw_total_claims_data \u001b[38;5;241m=\u001b[39m \u001b[43mquery_all_total_claims\u001b[49m\u001b[43m(\u001b[49m\u001b[43m)\u001b[49m\n",
      "Cell \u001b[0;32mIn [66], line 3\u001b[0m, in \u001b[0;36mquery_all_total_claims\u001b[0;34m()\u001b[0m\n\u001b[1;32m      2\u001b[0m \u001b[38;5;28;01mdef\u001b[39;00m \u001b[38;5;21mquery_all_total_claims\u001b[39m():\n\u001b[0;32m----> 3\u001b[0m     temp_query_list \u001b[38;5;241m=\u001b[39m \u001b[43mprediction_list\u001b[49m[\u001b[38;5;124m\"\u001b[39m\u001b[38;5;124muu_id\u001b[39m\u001b[38;5;124m\"\u001b[39m] \u001b[38;5;66;03m# the list of uuids to be queried\u001b[39;00m\n\u001b[1;32m      4\u001b[0m     raw_total_claims_data \u001b[38;5;241m=\u001b[39m {uuid:[] \u001b[38;5;28;01mfor\u001b[39;00m uuid \u001b[38;5;129;01min\u001b[39;00m temp_query_list} \u001b[38;5;66;03m# dict to store all query results\u001b[39;00m\n\u001b[1;32m      5\u001b[0m     total_week \u001b[38;5;241m=\u001b[39m \u001b[38;5;241m37\u001b[39m\n",
      "\u001b[0;31mNameError\u001b[0m: name 'prediction_list' is not defined"
     ]
    }
   ],
   "source": [
    "# commented for only excuting once\n",
    "raw_total_claims_data = query_all_total_claims()"
   ]
  },
  {
   "cell_type": "code",
   "execution_count": 68,
   "id": "ee8327eb",
   "metadata": {
    "execution": {
     "iopub.execute_input": "2023-05-10T01:43:33.661211Z",
     "iopub.status.busy": "2023-05-10T01:43:33.661064Z",
     "iopub.status.idle": "2023-05-10T01:43:33.669055Z",
     "shell.execute_reply": "2023-05-10T01:43:33.668687Z"
    }
   },
   "outputs": [
    {
     "ename": "NameError",
     "evalue": "name 'raw_total_claims_data' is not defined",
     "output_type": "error",
     "traceback": [
      "\u001b[0;31m---------------------------------------------------------------------------\u001b[0m",
      "\u001b[0;31mNameError\u001b[0m                                 Traceback (most recent call last)",
      "Cell \u001b[0;32mIn [68], line 2\u001b[0m\n\u001b[1;32m      1\u001b[0m \u001b[38;5;66;03m# save query result into csv file\u001b[39;00m\n\u001b[0;32m----> 2\u001b[0m raw_total_claims_df \u001b[38;5;241m=\u001b[39m pd\u001b[38;5;241m.\u001b[39mDataFrame\u001b[38;5;241m.\u001b[39mfrom_dict(\u001b[43mraw_total_claims_data\u001b[49m)\n\u001b[1;32m      3\u001b[0m raw_total_claims_df\u001b[38;5;241m.\u001b[39mto_csv(\u001b[38;5;124m\"\u001b[39m\u001b[38;5;124mraw_total_claims.csv\u001b[39m\u001b[38;5;124m\"\u001b[39m, index\u001b[38;5;241m=\u001b[39m\u001b[38;5;28;01mFalse\u001b[39;00m)\n",
      "\u001b[0;31mNameError\u001b[0m: name 'raw_total_claims_data' is not defined"
     ]
    }
   ],
   "source": [
    "# save query result into csv file\n",
    "raw_total_claims_df = pd.DataFrame.from_dict(raw_total_claims_data)\n",
    "raw_total_claims_df.to_csv(\"raw_total_claims.csv\", index=False)"
   ]
  },
  {
   "cell_type": "code",
   "execution_count": 69,
   "id": "e089a8e6",
   "metadata": {
    "execution": {
     "iopub.execute_input": "2023-05-10T01:43:33.670695Z",
     "iopub.status.busy": "2023-05-10T01:43:33.670578Z",
     "iopub.status.idle": "2023-05-10T01:43:33.837753Z",
     "shell.execute_reply": "2023-05-10T01:43:33.837447Z"
    }
   },
   "outputs": [
    {
     "ename": "FileNotFoundError",
     "evalue": "[Errno 2] No such file or directory: 'raw_total_claims.csv'",
     "output_type": "error",
     "traceback": [
      "\u001b[0;31m---------------------------------------------------------------------------\u001b[0m",
      "\u001b[0;31mFileNotFoundError\u001b[0m                         Traceback (most recent call last)",
      "Cell \u001b[0;32mIn [69], line 1\u001b[0m\n\u001b[0;32m----> 1\u001b[0m raw_total_claims_df \u001b[38;5;241m=\u001b[39m \u001b[43mpd\u001b[49m\u001b[38;5;241;43m.\u001b[39;49m\u001b[43mread_csv\u001b[49m\u001b[43m(\u001b[49m\u001b[38;5;124;43m\"\u001b[39;49m\u001b[38;5;124;43mraw_total_claims.csv\u001b[39;49m\u001b[38;5;124;43m\"\u001b[39;49m\u001b[43m)\u001b[49m\n",
      "File \u001b[0;32m/opt/homebrew/lib/python3.9/site-packages/pandas/util/_decorators.py:211\u001b[0m, in \u001b[0;36mdeprecate_kwarg.<locals>._deprecate_kwarg.<locals>.wrapper\u001b[0;34m(*args, **kwargs)\u001b[0m\n\u001b[1;32m    209\u001b[0m     \u001b[38;5;28;01melse\u001b[39;00m:\n\u001b[1;32m    210\u001b[0m         kwargs[new_arg_name] \u001b[38;5;241m=\u001b[39m new_arg_value\n\u001b[0;32m--> 211\u001b[0m \u001b[38;5;28;01mreturn\u001b[39;00m \u001b[43mfunc\u001b[49m\u001b[43m(\u001b[49m\u001b[38;5;241;43m*\u001b[39;49m\u001b[43margs\u001b[49m\u001b[43m,\u001b[49m\u001b[43m \u001b[49m\u001b[38;5;241;43m*\u001b[39;49m\u001b[38;5;241;43m*\u001b[39;49m\u001b[43mkwargs\u001b[49m\u001b[43m)\u001b[49m\n",
      "File \u001b[0;32m/opt/homebrew/lib/python3.9/site-packages/pandas/util/_decorators.py:331\u001b[0m, in \u001b[0;36mdeprecate_nonkeyword_arguments.<locals>.decorate.<locals>.wrapper\u001b[0;34m(*args, **kwargs)\u001b[0m\n\u001b[1;32m    325\u001b[0m \u001b[38;5;28;01mif\u001b[39;00m \u001b[38;5;28mlen\u001b[39m(args) \u001b[38;5;241m>\u001b[39m num_allow_args:\n\u001b[1;32m    326\u001b[0m     warnings\u001b[38;5;241m.\u001b[39mwarn(\n\u001b[1;32m    327\u001b[0m         msg\u001b[38;5;241m.\u001b[39mformat(arguments\u001b[38;5;241m=\u001b[39m_format_argument_list(allow_args)),\n\u001b[1;32m    328\u001b[0m         \u001b[38;5;167;01mFutureWarning\u001b[39;00m,\n\u001b[1;32m    329\u001b[0m         stacklevel\u001b[38;5;241m=\u001b[39mfind_stack_level(),\n\u001b[1;32m    330\u001b[0m     )\n\u001b[0;32m--> 331\u001b[0m \u001b[38;5;28;01mreturn\u001b[39;00m \u001b[43mfunc\u001b[49m\u001b[43m(\u001b[49m\u001b[38;5;241;43m*\u001b[39;49m\u001b[43margs\u001b[49m\u001b[43m,\u001b[49m\u001b[43m \u001b[49m\u001b[38;5;241;43m*\u001b[39;49m\u001b[38;5;241;43m*\u001b[39;49m\u001b[43mkwargs\u001b[49m\u001b[43m)\u001b[49m\n",
      "File \u001b[0;32m/opt/homebrew/lib/python3.9/site-packages/pandas/io/parsers/readers.py:950\u001b[0m, in \u001b[0;36mread_csv\u001b[0;34m(filepath_or_buffer, sep, delimiter, header, names, index_col, usecols, squeeze, prefix, mangle_dupe_cols, dtype, engine, converters, true_values, false_values, skipinitialspace, skiprows, skipfooter, nrows, na_values, keep_default_na, na_filter, verbose, skip_blank_lines, parse_dates, infer_datetime_format, keep_date_col, date_parser, dayfirst, cache_dates, iterator, chunksize, compression, thousands, decimal, lineterminator, quotechar, quoting, doublequote, escapechar, comment, encoding, encoding_errors, dialect, error_bad_lines, warn_bad_lines, on_bad_lines, delim_whitespace, low_memory, memory_map, float_precision, storage_options)\u001b[0m\n\u001b[1;32m    935\u001b[0m kwds_defaults \u001b[38;5;241m=\u001b[39m _refine_defaults_read(\n\u001b[1;32m    936\u001b[0m     dialect,\n\u001b[1;32m    937\u001b[0m     delimiter,\n\u001b[0;32m   (...)\u001b[0m\n\u001b[1;32m    946\u001b[0m     defaults\u001b[38;5;241m=\u001b[39m{\u001b[38;5;124m\"\u001b[39m\u001b[38;5;124mdelimiter\u001b[39m\u001b[38;5;124m\"\u001b[39m: \u001b[38;5;124m\"\u001b[39m\u001b[38;5;124m,\u001b[39m\u001b[38;5;124m\"\u001b[39m},\n\u001b[1;32m    947\u001b[0m )\n\u001b[1;32m    948\u001b[0m kwds\u001b[38;5;241m.\u001b[39mupdate(kwds_defaults)\n\u001b[0;32m--> 950\u001b[0m \u001b[38;5;28;01mreturn\u001b[39;00m \u001b[43m_read\u001b[49m\u001b[43m(\u001b[49m\u001b[43mfilepath_or_buffer\u001b[49m\u001b[43m,\u001b[49m\u001b[43m \u001b[49m\u001b[43mkwds\u001b[49m\u001b[43m)\u001b[49m\n",
      "File \u001b[0;32m/opt/homebrew/lib/python3.9/site-packages/pandas/io/parsers/readers.py:605\u001b[0m, in \u001b[0;36m_read\u001b[0;34m(filepath_or_buffer, kwds)\u001b[0m\n\u001b[1;32m    602\u001b[0m _validate_names(kwds\u001b[38;5;241m.\u001b[39mget(\u001b[38;5;124m\"\u001b[39m\u001b[38;5;124mnames\u001b[39m\u001b[38;5;124m\"\u001b[39m, \u001b[38;5;28;01mNone\u001b[39;00m))\n\u001b[1;32m    604\u001b[0m \u001b[38;5;66;03m# Create the parser.\u001b[39;00m\n\u001b[0;32m--> 605\u001b[0m parser \u001b[38;5;241m=\u001b[39m \u001b[43mTextFileReader\u001b[49m\u001b[43m(\u001b[49m\u001b[43mfilepath_or_buffer\u001b[49m\u001b[43m,\u001b[49m\u001b[43m \u001b[49m\u001b[38;5;241;43m*\u001b[39;49m\u001b[38;5;241;43m*\u001b[39;49m\u001b[43mkwds\u001b[49m\u001b[43m)\u001b[49m\n\u001b[1;32m    607\u001b[0m \u001b[38;5;28;01mif\u001b[39;00m chunksize \u001b[38;5;129;01mor\u001b[39;00m iterator:\n\u001b[1;32m    608\u001b[0m     \u001b[38;5;28;01mreturn\u001b[39;00m parser\n",
      "File \u001b[0;32m/opt/homebrew/lib/python3.9/site-packages/pandas/io/parsers/readers.py:1442\u001b[0m, in \u001b[0;36mTextFileReader.__init__\u001b[0;34m(self, f, engine, **kwds)\u001b[0m\n\u001b[1;32m   1439\u001b[0m     \u001b[38;5;28mself\u001b[39m\u001b[38;5;241m.\u001b[39moptions[\u001b[38;5;124m\"\u001b[39m\u001b[38;5;124mhas_index_names\u001b[39m\u001b[38;5;124m\"\u001b[39m] \u001b[38;5;241m=\u001b[39m kwds[\u001b[38;5;124m\"\u001b[39m\u001b[38;5;124mhas_index_names\u001b[39m\u001b[38;5;124m\"\u001b[39m]\n\u001b[1;32m   1441\u001b[0m \u001b[38;5;28mself\u001b[39m\u001b[38;5;241m.\u001b[39mhandles: IOHandles \u001b[38;5;241m|\u001b[39m \u001b[38;5;28;01mNone\u001b[39;00m \u001b[38;5;241m=\u001b[39m \u001b[38;5;28;01mNone\u001b[39;00m\n\u001b[0;32m-> 1442\u001b[0m \u001b[38;5;28mself\u001b[39m\u001b[38;5;241m.\u001b[39m_engine \u001b[38;5;241m=\u001b[39m \u001b[38;5;28;43mself\u001b[39;49m\u001b[38;5;241;43m.\u001b[39;49m\u001b[43m_make_engine\u001b[49m\u001b[43m(\u001b[49m\u001b[43mf\u001b[49m\u001b[43m,\u001b[49m\u001b[43m \u001b[49m\u001b[38;5;28;43mself\u001b[39;49m\u001b[38;5;241;43m.\u001b[39;49m\u001b[43mengine\u001b[49m\u001b[43m)\u001b[49m\n",
      "File \u001b[0;32m/opt/homebrew/lib/python3.9/site-packages/pandas/io/parsers/readers.py:1735\u001b[0m, in \u001b[0;36mTextFileReader._make_engine\u001b[0;34m(self, f, engine)\u001b[0m\n\u001b[1;32m   1733\u001b[0m     \u001b[38;5;28;01mif\u001b[39;00m \u001b[38;5;124m\"\u001b[39m\u001b[38;5;124mb\u001b[39m\u001b[38;5;124m\"\u001b[39m \u001b[38;5;129;01mnot\u001b[39;00m \u001b[38;5;129;01min\u001b[39;00m mode:\n\u001b[1;32m   1734\u001b[0m         mode \u001b[38;5;241m+\u001b[39m\u001b[38;5;241m=\u001b[39m \u001b[38;5;124m\"\u001b[39m\u001b[38;5;124mb\u001b[39m\u001b[38;5;124m\"\u001b[39m\n\u001b[0;32m-> 1735\u001b[0m \u001b[38;5;28mself\u001b[39m\u001b[38;5;241m.\u001b[39mhandles \u001b[38;5;241m=\u001b[39m \u001b[43mget_handle\u001b[49m\u001b[43m(\u001b[49m\n\u001b[1;32m   1736\u001b[0m \u001b[43m    \u001b[49m\u001b[43mf\u001b[49m\u001b[43m,\u001b[49m\n\u001b[1;32m   1737\u001b[0m \u001b[43m    \u001b[49m\u001b[43mmode\u001b[49m\u001b[43m,\u001b[49m\n\u001b[1;32m   1738\u001b[0m \u001b[43m    \u001b[49m\u001b[43mencoding\u001b[49m\u001b[38;5;241;43m=\u001b[39;49m\u001b[38;5;28;43mself\u001b[39;49m\u001b[38;5;241;43m.\u001b[39;49m\u001b[43moptions\u001b[49m\u001b[38;5;241;43m.\u001b[39;49m\u001b[43mget\u001b[49m\u001b[43m(\u001b[49m\u001b[38;5;124;43m\"\u001b[39;49m\u001b[38;5;124;43mencoding\u001b[39;49m\u001b[38;5;124;43m\"\u001b[39;49m\u001b[43m,\u001b[49m\u001b[43m \u001b[49m\u001b[38;5;28;43;01mNone\u001b[39;49;00m\u001b[43m)\u001b[49m\u001b[43m,\u001b[49m\n\u001b[1;32m   1739\u001b[0m \u001b[43m    \u001b[49m\u001b[43mcompression\u001b[49m\u001b[38;5;241;43m=\u001b[39;49m\u001b[38;5;28;43mself\u001b[39;49m\u001b[38;5;241;43m.\u001b[39;49m\u001b[43moptions\u001b[49m\u001b[38;5;241;43m.\u001b[39;49m\u001b[43mget\u001b[49m\u001b[43m(\u001b[49m\u001b[38;5;124;43m\"\u001b[39;49m\u001b[38;5;124;43mcompression\u001b[39;49m\u001b[38;5;124;43m\"\u001b[39;49m\u001b[43m,\u001b[49m\u001b[43m \u001b[49m\u001b[38;5;28;43;01mNone\u001b[39;49;00m\u001b[43m)\u001b[49m\u001b[43m,\u001b[49m\n\u001b[1;32m   1740\u001b[0m \u001b[43m    \u001b[49m\u001b[43mmemory_map\u001b[49m\u001b[38;5;241;43m=\u001b[39;49m\u001b[38;5;28;43mself\u001b[39;49m\u001b[38;5;241;43m.\u001b[39;49m\u001b[43moptions\u001b[49m\u001b[38;5;241;43m.\u001b[39;49m\u001b[43mget\u001b[49m\u001b[43m(\u001b[49m\u001b[38;5;124;43m\"\u001b[39;49m\u001b[38;5;124;43mmemory_map\u001b[39;49m\u001b[38;5;124;43m\"\u001b[39;49m\u001b[43m,\u001b[49m\u001b[43m \u001b[49m\u001b[38;5;28;43;01mFalse\u001b[39;49;00m\u001b[43m)\u001b[49m\u001b[43m,\u001b[49m\n\u001b[1;32m   1741\u001b[0m \u001b[43m    \u001b[49m\u001b[43mis_text\u001b[49m\u001b[38;5;241;43m=\u001b[39;49m\u001b[43mis_text\u001b[49m\u001b[43m,\u001b[49m\n\u001b[1;32m   1742\u001b[0m \u001b[43m    \u001b[49m\u001b[43merrors\u001b[49m\u001b[38;5;241;43m=\u001b[39;49m\u001b[38;5;28;43mself\u001b[39;49m\u001b[38;5;241;43m.\u001b[39;49m\u001b[43moptions\u001b[49m\u001b[38;5;241;43m.\u001b[39;49m\u001b[43mget\u001b[49m\u001b[43m(\u001b[49m\u001b[38;5;124;43m\"\u001b[39;49m\u001b[38;5;124;43mencoding_errors\u001b[39;49m\u001b[38;5;124;43m\"\u001b[39;49m\u001b[43m,\u001b[49m\u001b[43m \u001b[49m\u001b[38;5;124;43m\"\u001b[39;49m\u001b[38;5;124;43mstrict\u001b[39;49m\u001b[38;5;124;43m\"\u001b[39;49m\u001b[43m)\u001b[49m\u001b[43m,\u001b[49m\n\u001b[1;32m   1743\u001b[0m \u001b[43m    \u001b[49m\u001b[43mstorage_options\u001b[49m\u001b[38;5;241;43m=\u001b[39;49m\u001b[38;5;28;43mself\u001b[39;49m\u001b[38;5;241;43m.\u001b[39;49m\u001b[43moptions\u001b[49m\u001b[38;5;241;43m.\u001b[39;49m\u001b[43mget\u001b[49m\u001b[43m(\u001b[49m\u001b[38;5;124;43m\"\u001b[39;49m\u001b[38;5;124;43mstorage_options\u001b[39;49m\u001b[38;5;124;43m\"\u001b[39;49m\u001b[43m,\u001b[49m\u001b[43m \u001b[49m\u001b[38;5;28;43;01mNone\u001b[39;49;00m\u001b[43m)\u001b[49m\u001b[43m,\u001b[49m\n\u001b[1;32m   1744\u001b[0m \u001b[43m\u001b[49m\u001b[43m)\u001b[49m\n\u001b[1;32m   1745\u001b[0m \u001b[38;5;28;01massert\u001b[39;00m \u001b[38;5;28mself\u001b[39m\u001b[38;5;241m.\u001b[39mhandles \u001b[38;5;129;01mis\u001b[39;00m \u001b[38;5;129;01mnot\u001b[39;00m \u001b[38;5;28;01mNone\u001b[39;00m\n\u001b[1;32m   1746\u001b[0m f \u001b[38;5;241m=\u001b[39m \u001b[38;5;28mself\u001b[39m\u001b[38;5;241m.\u001b[39mhandles\u001b[38;5;241m.\u001b[39mhandle\n",
      "File \u001b[0;32m/opt/homebrew/lib/python3.9/site-packages/pandas/io/common.py:856\u001b[0m, in \u001b[0;36mget_handle\u001b[0;34m(path_or_buf, mode, encoding, compression, memory_map, is_text, errors, storage_options)\u001b[0m\n\u001b[1;32m    851\u001b[0m \u001b[38;5;28;01melif\u001b[39;00m \u001b[38;5;28misinstance\u001b[39m(handle, \u001b[38;5;28mstr\u001b[39m):\n\u001b[1;32m    852\u001b[0m     \u001b[38;5;66;03m# Check whether the filename is to be opened in binary mode.\u001b[39;00m\n\u001b[1;32m    853\u001b[0m     \u001b[38;5;66;03m# Binary mode does not support 'encoding' and 'newline'.\u001b[39;00m\n\u001b[1;32m    854\u001b[0m     \u001b[38;5;28;01mif\u001b[39;00m ioargs\u001b[38;5;241m.\u001b[39mencoding \u001b[38;5;129;01mand\u001b[39;00m \u001b[38;5;124m\"\u001b[39m\u001b[38;5;124mb\u001b[39m\u001b[38;5;124m\"\u001b[39m \u001b[38;5;129;01mnot\u001b[39;00m \u001b[38;5;129;01min\u001b[39;00m ioargs\u001b[38;5;241m.\u001b[39mmode:\n\u001b[1;32m    855\u001b[0m         \u001b[38;5;66;03m# Encoding\u001b[39;00m\n\u001b[0;32m--> 856\u001b[0m         handle \u001b[38;5;241m=\u001b[39m \u001b[38;5;28;43mopen\u001b[39;49m\u001b[43m(\u001b[49m\n\u001b[1;32m    857\u001b[0m \u001b[43m            \u001b[49m\u001b[43mhandle\u001b[49m\u001b[43m,\u001b[49m\n\u001b[1;32m    858\u001b[0m \u001b[43m            \u001b[49m\u001b[43mioargs\u001b[49m\u001b[38;5;241;43m.\u001b[39;49m\u001b[43mmode\u001b[49m\u001b[43m,\u001b[49m\n\u001b[1;32m    859\u001b[0m \u001b[43m            \u001b[49m\u001b[43mencoding\u001b[49m\u001b[38;5;241;43m=\u001b[39;49m\u001b[43mioargs\u001b[49m\u001b[38;5;241;43m.\u001b[39;49m\u001b[43mencoding\u001b[49m\u001b[43m,\u001b[49m\n\u001b[1;32m    860\u001b[0m \u001b[43m            \u001b[49m\u001b[43merrors\u001b[49m\u001b[38;5;241;43m=\u001b[39;49m\u001b[43merrors\u001b[49m\u001b[43m,\u001b[49m\n\u001b[1;32m    861\u001b[0m \u001b[43m            \u001b[49m\u001b[43mnewline\u001b[49m\u001b[38;5;241;43m=\u001b[39;49m\u001b[38;5;124;43m\"\u001b[39;49m\u001b[38;5;124;43m\"\u001b[39;49m\u001b[43m,\u001b[49m\n\u001b[1;32m    862\u001b[0m \u001b[43m        \u001b[49m\u001b[43m)\u001b[49m\n\u001b[1;32m    863\u001b[0m     \u001b[38;5;28;01melse\u001b[39;00m:\n\u001b[1;32m    864\u001b[0m         \u001b[38;5;66;03m# Binary mode\u001b[39;00m\n\u001b[1;32m    865\u001b[0m         handle \u001b[38;5;241m=\u001b[39m \u001b[38;5;28mopen\u001b[39m(handle, ioargs\u001b[38;5;241m.\u001b[39mmode)\n",
      "\u001b[0;31mFileNotFoundError\u001b[0m: [Errno 2] No such file or directory: 'raw_total_claims.csv'"
     ]
    }
   ],
   "source": [
    "raw_total_claims_df = pd.read_csv(\"raw_total_claims.csv\")"
   ]
  },
  {
   "cell_type": "code",
   "execution_count": 70,
   "id": "e8c478fd",
   "metadata": {
    "execution": {
     "iopub.execute_input": "2023-05-10T01:43:33.839312Z",
     "iopub.status.busy": "2023-05-10T01:43:33.839204Z",
     "iopub.status.idle": "2023-05-10T01:43:33.847042Z",
     "shell.execute_reply": "2023-05-10T01:43:33.846785Z"
    }
   },
   "outputs": [
    {
     "ename": "NameError",
     "evalue": "name 'raw_total_claims_df' is not defined",
     "output_type": "error",
     "traceback": [
      "\u001b[0;31m---------------------------------------------------------------------------\u001b[0m",
      "\u001b[0;31mNameError\u001b[0m                                 Traceback (most recent call last)",
      "Cell \u001b[0;32mIn [70], line 3\u001b[0m\n\u001b[1;32m      1\u001b[0m \u001b[38;5;28;01mfor\u001b[39;00m i \u001b[38;5;129;01min\u001b[39;00m \u001b[38;5;28mrange\u001b[39m(\u001b[38;5;241m0\u001b[39m, \u001b[38;5;241m37\u001b[39m):\n\u001b[1;32m      2\u001b[0m     \u001b[38;5;28;01mfor\u001b[39;00m j \u001b[38;5;129;01min\u001b[39;00m \u001b[38;5;28mrange\u001b[39m(\u001b[38;5;241m0\u001b[39m, \u001b[38;5;241m573\u001b[39m):\n\u001b[0;32m----> 3\u001b[0m         d \u001b[38;5;241m=\u001b[39m \u001b[43mraw_total_claims_df\u001b[49m\u001b[38;5;241m.\u001b[39miloc[i,j]\n\u001b[1;32m      4\u001b[0m         \u001b[38;5;66;03m# print(int(d.split(\":\")[1].split(\"}\")[0]))\u001b[39;00m\n\u001b[1;32m      5\u001b[0m         raw_total_claims_df\u001b[38;5;241m.\u001b[39miloc[i,j] \u001b[38;5;241m=\u001b[39m \u001b[38;5;28mint\u001b[39m(d\u001b[38;5;241m.\u001b[39msplit(\u001b[38;5;124m\"\u001b[39m\u001b[38;5;124m:\u001b[39m\u001b[38;5;124m\"\u001b[39m)[\u001b[38;5;241m1\u001b[39m]\u001b[38;5;241m.\u001b[39msplit(\u001b[38;5;124m\"\u001b[39m\u001b[38;5;124m}\u001b[39m\u001b[38;5;124m\"\u001b[39m)[\u001b[38;5;241m0\u001b[39m])\n",
      "\u001b[0;31mNameError\u001b[0m: name 'raw_total_claims_df' is not defined"
     ]
    }
   ],
   "source": [
    "for i in range(0, 37):\n",
    "    for j in range(0, 573):\n",
    "        d = raw_total_claims_df.iloc[i,j]\n",
    "        # print(int(d.split(\":\")[1].split(\"}\")[0]))\n",
    "        raw_total_claims_df.iloc[i,j] = int(d.split(\":\")[1].split(\"}\")[0])"
   ]
  },
  {
   "cell_type": "code",
   "execution_count": 71,
   "id": "940a667c",
   "metadata": {
    "execution": {
     "iopub.execute_input": "2023-05-10T01:43:33.848485Z",
     "iopub.status.busy": "2023-05-10T01:43:33.848395Z",
     "iopub.status.idle": "2023-05-10T01:43:33.854835Z",
     "shell.execute_reply": "2023-05-10T01:43:33.854573Z"
    }
   },
   "outputs": [
    {
     "ename": "NameError",
     "evalue": "name 'raw_total_claims_df' is not defined",
     "output_type": "error",
     "traceback": [
      "\u001b[0;31m---------------------------------------------------------------------------\u001b[0m",
      "\u001b[0;31mNameError\u001b[0m                                 Traceback (most recent call last)",
      "Cell \u001b[0;32mIn [71], line 1\u001b[0m\n\u001b[0;32m----> 1\u001b[0m raw_total_claims_list \u001b[38;5;241m=\u001b[39m \u001b[43mraw_total_claims_df\u001b[49m\u001b[38;5;241m.\u001b[39mT\u001b[38;5;241m.\u001b[39mto_numpy()\n\u001b[1;32m      2\u001b[0m raw_total_claims_list \u001b[38;5;241m=\u001b[39m raw_total_claims_list[:]\n",
      "\u001b[0;31mNameError\u001b[0m: name 'raw_total_claims_df' is not defined"
     ]
    }
   ],
   "source": [
    "raw_total_claims_list = raw_total_claims_df.T.to_numpy()\n",
    "raw_total_claims_list = raw_total_claims_list[:]"
   ]
  },
  {
   "cell_type": "code",
   "execution_count": 72,
   "id": "211dc515",
   "metadata": {
    "execution": {
     "iopub.execute_input": "2023-05-10T01:43:33.856284Z",
     "iopub.status.busy": "2023-05-10T01:43:33.856201Z",
     "iopub.status.idle": "2023-05-10T01:43:33.863472Z",
     "shell.execute_reply": "2023-05-10T01:43:33.863227Z"
    }
   },
   "outputs": [
    {
     "ename": "NameError",
     "evalue": "name 'raw_total_claims_list' is not defined",
     "output_type": "error",
     "traceback": [
      "\u001b[0;31m---------------------------------------------------------------------------\u001b[0m",
      "\u001b[0;31mNameError\u001b[0m                                 Traceback (most recent call last)",
      "Cell \u001b[0;32mIn [72], line 2\u001b[0m\n\u001b[1;32m      1\u001b[0m x_labels \u001b[38;5;241m=\u001b[39m [w \u001b[38;5;28;01mfor\u001b[39;00m w \u001b[38;5;129;01min\u001b[39;00m \u001b[38;5;28mrange\u001b[39m(\u001b[38;5;241m1\u001b[39m, \u001b[38;5;241m38\u001b[39m)]\n\u001b[0;32m----> 2\u001b[0m NUM_PLOTS \u001b[38;5;241m=\u001b[39m \u001b[38;5;28mlen\u001b[39m(\u001b[43mraw_total_claims_list\u001b[49m)\n",
      "\u001b[0;31mNameError\u001b[0m: name 'raw_total_claims_list' is not defined"
     ]
    }
   ],
   "source": [
    "x_labels = [w for w in range(1, 38)]\n",
    "NUM_PLOTS = len(raw_total_claims_list)"
   ]
  },
  {
   "cell_type": "code",
   "execution_count": 73,
   "id": "dbddf3a6",
   "metadata": {
    "execution": {
     "iopub.execute_input": "2023-05-10T01:43:33.864817Z",
     "iopub.status.busy": "2023-05-10T01:43:33.864729Z",
     "iopub.status.idle": "2023-05-10T01:43:33.977997Z",
     "shell.execute_reply": "2023-05-10T01:43:33.977708Z"
    }
   },
   "outputs": [
    {
     "ename": "NameError",
     "evalue": "name 'NUM_PLOTS' is not defined",
     "output_type": "error",
     "traceback": [
      "\u001b[0;31m---------------------------------------------------------------------------\u001b[0m",
      "\u001b[0;31mNameError\u001b[0m                                 Traceback (most recent call last)",
      "Cell \u001b[0;32mIn [73], line 3\u001b[0m\n\u001b[1;32m      1\u001b[0m plt\u001b[38;5;241m.\u001b[39mfigure(figsize\u001b[38;5;241m=\u001b[39m(\u001b[38;5;241m15\u001b[39m,\u001b[38;5;241m5\u001b[39m))\n\u001b[1;32m      2\u001b[0m plt\u001b[38;5;241m.\u001b[39mxticks(x_labels)\n\u001b[0;32m----> 3\u001b[0m \u001b[38;5;28;01mfor\u001b[39;00m i \u001b[38;5;129;01min\u001b[39;00m \u001b[38;5;28mrange\u001b[39m(\u001b[38;5;241m0\u001b[39m, \u001b[43mNUM_PLOTS\u001b[49m):\n\u001b[1;32m      4\u001b[0m     plt\u001b[38;5;241m.\u001b[39mplot(x_labels, raw_total_claims_list[i], \u001b[38;5;124m\"\u001b[39m\u001b[38;5;124m.-\u001b[39m\u001b[38;5;124m\"\u001b[39m)\n",
      "\u001b[0;31mNameError\u001b[0m: name 'NUM_PLOTS' is not defined"
     ]
    },
    {
     "data": {
      "image/png": "[encoded data removed]",
      "text/plain": [
       "<Figure size 1500x500 with 1 Axes>"
      ]
     },
     "metadata": {},
     "output_type": "display_data"
    }
   ],
   "source": [
    "plt.figure(figsize=(15,5))\n",
    "plt.xticks(x_labels)\n",
    "for i in range(0, NUM_PLOTS):\n",
    "    plt.plot(x_labels, raw_total_claims_list[i], \".-\")"
   ]
  },
  {
   "cell_type": "code",
   "execution_count": 74,
   "id": "bc3510b5",
   "metadata": {
    "execution": {
     "iopub.execute_input": "2023-05-10T01:43:33.979533Z",
     "iopub.status.busy": "2023-05-10T01:43:33.979417Z",
     "iopub.status.idle": "2023-05-10T01:43:34.023779Z",
     "shell.execute_reply": "2023-05-10T01:43:34.023465Z"
    }
   },
   "outputs": [
    {
     "ename": "FileNotFoundError",
     "evalue": "[Errno 2] No such file or directory: 'raw_total_claims.csv'",
     "output_type": "error",
     "traceback": [
      "\u001b[0;31m---------------------------------------------------------------------------\u001b[0m",
      "\u001b[0;31mFileNotFoundError\u001b[0m                         Traceback (most recent call last)",
      "Cell \u001b[0;32mIn [74], line 1\u001b[0m\n\u001b[0;32m----> 1\u001b[0m raw_total_claims_df \u001b[38;5;241m=\u001b[39m \u001b[43mpd\u001b[49m\u001b[38;5;241;43m.\u001b[39;49m\u001b[43mread_csv\u001b[49m\u001b[43m(\u001b[49m\u001b[38;5;124;43m\"\u001b[39;49m\u001b[38;5;124;43mraw_total_claims.csv\u001b[39;49m\u001b[38;5;124;43m\"\u001b[39;49m\u001b[43m)\u001b[49m\n",
      "File \u001b[0;32m/opt/homebrew/lib/python3.9/site-packages/pandas/util/_decorators.py:211\u001b[0m, in \u001b[0;36mdeprecate_kwarg.<locals>._deprecate_kwarg.<locals>.wrapper\u001b[0;34m(*args, **kwargs)\u001b[0m\n\u001b[1;32m    209\u001b[0m     \u001b[38;5;28;01melse\u001b[39;00m:\n\u001b[1;32m    210\u001b[0m         kwargs[new_arg_name] \u001b[38;5;241m=\u001b[39m new_arg_value\n\u001b[0;32m--> 211\u001b[0m \u001b[38;5;28;01mreturn\u001b[39;00m \u001b[43mfunc\u001b[49m\u001b[43m(\u001b[49m\u001b[38;5;241;43m*\u001b[39;49m\u001b[43margs\u001b[49m\u001b[43m,\u001b[49m\u001b[43m \u001b[49m\u001b[38;5;241;43m*\u001b[39;49m\u001b[38;5;241;43m*\u001b[39;49m\u001b[43mkwargs\u001b[49m\u001b[43m)\u001b[49m\n",
      "File \u001b[0;32m/opt/homebrew/lib/python3.9/site-packages/pandas/util/_decorators.py:331\u001b[0m, in \u001b[0;36mdeprecate_nonkeyword_arguments.<locals>.decorate.<locals>.wrapper\u001b[0;34m(*args, **kwargs)\u001b[0m\n\u001b[1;32m    325\u001b[0m \u001b[38;5;28;01mif\u001b[39;00m \u001b[38;5;28mlen\u001b[39m(args) \u001b[38;5;241m>\u001b[39m num_allow_args:\n\u001b[1;32m    326\u001b[0m     warnings\u001b[38;5;241m.\u001b[39mwarn(\n\u001b[1;32m    327\u001b[0m         msg\u001b[38;5;241m.\u001b[39mformat(arguments\u001b[38;5;241m=\u001b[39m_format_argument_list(allow_args)),\n\u001b[1;32m    328\u001b[0m         \u001b[38;5;167;01mFutureWarning\u001b[39;00m,\n\u001b[1;32m    329\u001b[0m         stacklevel\u001b[38;5;241m=\u001b[39mfind_stack_level(),\n\u001b[1;32m    330\u001b[0m     )\n\u001b[0;32m--> 331\u001b[0m \u001b[38;5;28;01mreturn\u001b[39;00m \u001b[43mfunc\u001b[49m\u001b[43m(\u001b[49m\u001b[38;5;241;43m*\u001b[39;49m\u001b[43margs\u001b[49m\u001b[43m,\u001b[49m\u001b[43m \u001b[49m\u001b[38;5;241;43m*\u001b[39;49m\u001b[38;5;241;43m*\u001b[39;49m\u001b[43mkwargs\u001b[49m\u001b[43m)\u001b[49m\n",
      "File \u001b[0;32m/opt/homebrew/lib/python3.9/site-packages/pandas/io/parsers/readers.py:950\u001b[0m, in \u001b[0;36mread_csv\u001b[0;34m(filepath_or_buffer, sep, delimiter, header, names, index_col, usecols, squeeze, prefix, mangle_dupe_cols, dtype, engine, converters, true_values, false_values, skipinitialspace, skiprows, skipfooter, nrows, na_values, keep_default_na, na_filter, verbose, skip_blank_lines, parse_dates, infer_datetime_format, keep_date_col, date_parser, dayfirst, cache_dates, iterator, chunksize, compression, thousands, decimal, lineterminator, quotechar, quoting, doublequote, escapechar, comment, encoding, encoding_errors, dialect, error_bad_lines, warn_bad_lines, on_bad_lines, delim_whitespace, low_memory, memory_map, float_precision, storage_options)\u001b[0m\n\u001b[1;32m    935\u001b[0m kwds_defaults \u001b[38;5;241m=\u001b[39m _refine_defaults_read(\n\u001b[1;32m    936\u001b[0m     dialect,\n\u001b[1;32m    937\u001b[0m     delimiter,\n\u001b[0;32m   (...)\u001b[0m\n\u001b[1;32m    946\u001b[0m     defaults\u001b[38;5;241m=\u001b[39m{\u001b[38;5;124m\"\u001b[39m\u001b[38;5;124mdelimiter\u001b[39m\u001b[38;5;124m\"\u001b[39m: \u001b[38;5;124m\"\u001b[39m\u001b[38;5;124m,\u001b[39m\u001b[38;5;124m\"\u001b[39m},\n\u001b[1;32m    947\u001b[0m )\n\u001b[1;32m    948\u001b[0m kwds\u001b[38;5;241m.\u001b[39mupdate(kwds_defaults)\n\u001b[0;32m--> 950\u001b[0m \u001b[38;5;28;01mreturn\u001b[39;00m \u001b[43m_read\u001b[49m\u001b[43m(\u001b[49m\u001b[43mfilepath_or_buffer\u001b[49m\u001b[43m,\u001b[49m\u001b[43m \u001b[49m\u001b[43mkwds\u001b[49m\u001b[43m)\u001b[49m\n",
      "File \u001b[0;32m/opt/homebrew/lib/python3.9/site-packages/pandas/io/parsers/readers.py:605\u001b[0m, in \u001b[0;36m_read\u001b[0;34m(filepath_or_buffer, kwds)\u001b[0m\n\u001b[1;32m    602\u001b[0m _validate_names(kwds\u001b[38;5;241m.\u001b[39mget(\u001b[38;5;124m\"\u001b[39m\u001b[38;5;124mnames\u001b[39m\u001b[38;5;124m\"\u001b[39m, \u001b[38;5;28;01mNone\u001b[39;00m))\n\u001b[1;32m    604\u001b[0m \u001b[38;5;66;03m# Create the parser.\u001b[39;00m\n\u001b[0;32m--> 605\u001b[0m parser \u001b[38;5;241m=\u001b[39m \u001b[43mTextFileReader\u001b[49m\u001b[43m(\u001b[49m\u001b[43mfilepath_or_buffer\u001b[49m\u001b[43m,\u001b[49m\u001b[43m \u001b[49m\u001b[38;5;241;43m*\u001b[39;49m\u001b[38;5;241;43m*\u001b[39;49m\u001b[43mkwds\u001b[49m\u001b[43m)\u001b[49m\n\u001b[1;32m    607\u001b[0m \u001b[38;5;28;01mif\u001b[39;00m chunksize \u001b[38;5;129;01mor\u001b[39;00m iterator:\n\u001b[1;32m    608\u001b[0m     \u001b[38;5;28;01mreturn\u001b[39;00m parser\n",
      "File \u001b[0;32m/opt/homebrew/lib/python3.9/site-packages/pandas/io/parsers/readers.py:1442\u001b[0m, in \u001b[0;36mTextFileReader.__init__\u001b[0;34m(self, f, engine, **kwds)\u001b[0m\n\u001b[1;32m   1439\u001b[0m     \u001b[38;5;28mself\u001b[39m\u001b[38;5;241m.\u001b[39moptions[\u001b[38;5;124m\"\u001b[39m\u001b[38;5;124mhas_index_names\u001b[39m\u001b[38;5;124m\"\u001b[39m] \u001b[38;5;241m=\u001b[39m kwds[\u001b[38;5;124m\"\u001b[39m\u001b[38;5;124mhas_index_names\u001b[39m\u001b[38;5;124m\"\u001b[39m]\n\u001b[1;32m   1441\u001b[0m \u001b[38;5;28mself\u001b[39m\u001b[38;5;241m.\u001b[39mhandles: IOHandles \u001b[38;5;241m|\u001b[39m \u001b[38;5;28;01mNone\u001b[39;00m \u001b[38;5;241m=\u001b[39m \u001b[38;5;28;01mNone\u001b[39;00m\n\u001b[0;32m-> 1442\u001b[0m \u001b[38;5;28mself\u001b[39m\u001b[38;5;241m.\u001b[39m_engine \u001b[38;5;241m=\u001b[39m \u001b[38;5;28;43mself\u001b[39;49m\u001b[38;5;241;43m.\u001b[39;49m\u001b[43m_make_engine\u001b[49m\u001b[43m(\u001b[49m\u001b[43mf\u001b[49m\u001b[43m,\u001b[49m\u001b[43m \u001b[49m\u001b[38;5;28;43mself\u001b[39;49m\u001b[38;5;241;43m.\u001b[39;49m\u001b[43mengine\u001b[49m\u001b[43m)\u001b[49m\n",
      "File \u001b[0;32m/opt/homebrew/lib/python3.9/site-packages/pandas/io/parsers/readers.py:1735\u001b[0m, in \u001b[0;36mTextFileReader._make_engine\u001b[0;34m(self, f, engine)\u001b[0m\n\u001b[1;32m   1733\u001b[0m     \u001b[38;5;28;01mif\u001b[39;00m \u001b[38;5;124m\"\u001b[39m\u001b[38;5;124mb\u001b[39m\u001b[38;5;124m\"\u001b[39m \u001b[38;5;129;01mnot\u001b[39;00m \u001b[38;5;129;01min\u001b[39;00m mode:\n\u001b[1;32m   1734\u001b[0m         mode \u001b[38;5;241m+\u001b[39m\u001b[38;5;241m=\u001b[39m \u001b[38;5;124m\"\u001b[39m\u001b[38;5;124mb\u001b[39m\u001b[38;5;124m\"\u001b[39m\n\u001b[0;32m-> 1735\u001b[0m \u001b[38;5;28mself\u001b[39m\u001b[38;5;241m.\u001b[39mhandles \u001b[38;5;241m=\u001b[39m \u001b[43mget_handle\u001b[49m\u001b[43m(\u001b[49m\n\u001b[1;32m   1736\u001b[0m \u001b[43m    \u001b[49m\u001b[43mf\u001b[49m\u001b[43m,\u001b[49m\n\u001b[1;32m   1737\u001b[0m \u001b[43m    \u001b[49m\u001b[43mmode\u001b[49m\u001b[43m,\u001b[49m\n\u001b[1;32m   1738\u001b[0m \u001b[43m    \u001b[49m\u001b[43mencoding\u001b[49m\u001b[38;5;241;43m=\u001b[39;49m\u001b[38;5;28;43mself\u001b[39;49m\u001b[38;5;241;43m.\u001b[39;49m\u001b[43moptions\u001b[49m\u001b[38;5;241;43m.\u001b[39;49m\u001b[43mget\u001b[49m\u001b[43m(\u001b[49m\u001b[38;5;124;43m\"\u001b[39;49m\u001b[38;5;124;43mencoding\u001b[39;49m\u001b[38;5;124;43m\"\u001b[39;49m\u001b[43m,\u001b[49m\u001b[43m \u001b[49m\u001b[38;5;28;43;01mNone\u001b[39;49;00m\u001b[43m)\u001b[49m\u001b[43m,\u001b[49m\n\u001b[1;32m   1739\u001b[0m \u001b[43m    \u001b[49m\u001b[43mcompression\u001b[49m\u001b[38;5;241;43m=\u001b[39;49m\u001b[38;5;28;43mself\u001b[39;49m\u001b[38;5;241;43m.\u001b[39;49m\u001b[43moptions\u001b[49m\u001b[38;5;241;43m.\u001b[39;49m\u001b[43mget\u001b[49m\u001b[43m(\u001b[49m\u001b[38;5;124;43m\"\u001b[39;49m\u001b[38;5;124;43mcompression\u001b[39;49m\u001b[38;5;124;43m\"\u001b[39;49m\u001b[43m,\u001b[49m\u001b[43m \u001b[49m\u001b[38;5;28;43;01mNone\u001b[39;49;00m\u001b[43m)\u001b[49m\u001b[43m,\u001b[49m\n\u001b[1;32m   1740\u001b[0m \u001b[43m    \u001b[49m\u001b[43mmemory_map\u001b[49m\u001b[38;5;241;43m=\u001b[39;49m\u001b[38;5;28;43mself\u001b[39;49m\u001b[38;5;241;43m.\u001b[39;49m\u001b[43moptions\u001b[49m\u001b[38;5;241;43m.\u001b[39;49m\u001b[43mget\u001b[49m\u001b[43m(\u001b[49m\u001b[38;5;124;43m\"\u001b[39;49m\u001b[38;5;124;43mmemory_map\u001b[39;49m\u001b[38;5;124;43m\"\u001b[39;49m\u001b[43m,\u001b[49m\u001b[43m \u001b[49m\u001b[38;5;28;43;01mFalse\u001b[39;49;00m\u001b[43m)\u001b[49m\u001b[43m,\u001b[49m\n\u001b[1;32m   1741\u001b[0m \u001b[43m    \u001b[49m\u001b[43mis_text\u001b[49m\u001b[38;5;241;43m=\u001b[39;49m\u001b[43mis_text\u001b[49m\u001b[43m,\u001b[49m\n\u001b[1;32m   1742\u001b[0m \u001b[43m    \u001b[49m\u001b[43merrors\u001b[49m\u001b[38;5;241;43m=\u001b[39;49m\u001b[38;5;28;43mself\u001b[39;49m\u001b[38;5;241;43m.\u001b[39;49m\u001b[43moptions\u001b[49m\u001b[38;5;241;43m.\u001b[39;49m\u001b[43mget\u001b[49m\u001b[43m(\u001b[49m\u001b[38;5;124;43m\"\u001b[39;49m\u001b[38;5;124;43mencoding_errors\u001b[39;49m\u001b[38;5;124;43m\"\u001b[39;49m\u001b[43m,\u001b[49m\u001b[43m \u001b[49m\u001b[38;5;124;43m\"\u001b[39;49m\u001b[38;5;124;43mstrict\u001b[39;49m\u001b[38;5;124;43m\"\u001b[39;49m\u001b[43m)\u001b[49m\u001b[43m,\u001b[49m\n\u001b[1;32m   1743\u001b[0m \u001b[43m    \u001b[49m\u001b[43mstorage_options\u001b[49m\u001b[38;5;241;43m=\u001b[39;49m\u001b[38;5;28;43mself\u001b[39;49m\u001b[38;5;241;43m.\u001b[39;49m\u001b[43moptions\u001b[49m\u001b[38;5;241;43m.\u001b[39;49m\u001b[43mget\u001b[49m\u001b[43m(\u001b[49m\u001b[38;5;124;43m\"\u001b[39;49m\u001b[38;5;124;43mstorage_options\u001b[39;49m\u001b[38;5;124;43m\"\u001b[39;49m\u001b[43m,\u001b[49m\u001b[43m \u001b[49m\u001b[38;5;28;43;01mNone\u001b[39;49;00m\u001b[43m)\u001b[49m\u001b[43m,\u001b[49m\n\u001b[1;32m   1744\u001b[0m \u001b[43m\u001b[49m\u001b[43m)\u001b[49m\n\u001b[1;32m   1745\u001b[0m \u001b[38;5;28;01massert\u001b[39;00m \u001b[38;5;28mself\u001b[39m\u001b[38;5;241m.\u001b[39mhandles \u001b[38;5;129;01mis\u001b[39;00m \u001b[38;5;129;01mnot\u001b[39;00m \u001b[38;5;28;01mNone\u001b[39;00m\n\u001b[1;32m   1746\u001b[0m f \u001b[38;5;241m=\u001b[39m \u001b[38;5;28mself\u001b[39m\u001b[38;5;241m.\u001b[39mhandles\u001b[38;5;241m.\u001b[39mhandle\n",
      "File \u001b[0;32m/opt/homebrew/lib/python3.9/site-packages/pandas/io/common.py:856\u001b[0m, in \u001b[0;36mget_handle\u001b[0;34m(path_or_buf, mode, encoding, compression, memory_map, is_text, errors, storage_options)\u001b[0m\n\u001b[1;32m    851\u001b[0m \u001b[38;5;28;01melif\u001b[39;00m \u001b[38;5;28misinstance\u001b[39m(handle, \u001b[38;5;28mstr\u001b[39m):\n\u001b[1;32m    852\u001b[0m     \u001b[38;5;66;03m# Check whether the filename is to be opened in binary mode.\u001b[39;00m\n\u001b[1;32m    853\u001b[0m     \u001b[38;5;66;03m# Binary mode does not support 'encoding' and 'newline'.\u001b[39;00m\n\u001b[1;32m    854\u001b[0m     \u001b[38;5;28;01mif\u001b[39;00m ioargs\u001b[38;5;241m.\u001b[39mencoding \u001b[38;5;129;01mand\u001b[39;00m \u001b[38;5;124m\"\u001b[39m\u001b[38;5;124mb\u001b[39m\u001b[38;5;124m\"\u001b[39m \u001b[38;5;129;01mnot\u001b[39;00m \u001b[38;5;129;01min\u001b[39;00m ioargs\u001b[38;5;241m.\u001b[39mmode:\n\u001b[1;32m    855\u001b[0m         \u001b[38;5;66;03m# Encoding\u001b[39;00m\n\u001b[0;32m--> 856\u001b[0m         handle \u001b[38;5;241m=\u001b[39m \u001b[38;5;28;43mopen\u001b[39;49m\u001b[43m(\u001b[49m\n\u001b[1;32m    857\u001b[0m \u001b[43m            \u001b[49m\u001b[43mhandle\u001b[49m\u001b[43m,\u001b[49m\n\u001b[1;32m    858\u001b[0m \u001b[43m            \u001b[49m\u001b[43mioargs\u001b[49m\u001b[38;5;241;43m.\u001b[39;49m\u001b[43mmode\u001b[49m\u001b[43m,\u001b[49m\n\u001b[1;32m    859\u001b[0m \u001b[43m            \u001b[49m\u001b[43mencoding\u001b[49m\u001b[38;5;241;43m=\u001b[39;49m\u001b[43mioargs\u001b[49m\u001b[38;5;241;43m.\u001b[39;49m\u001b[43mencoding\u001b[49m\u001b[43m,\u001b[49m\n\u001b[1;32m    860\u001b[0m \u001b[43m            \u001b[49m\u001b[43merrors\u001b[49m\u001b[38;5;241;43m=\u001b[39;49m\u001b[43merrors\u001b[49m\u001b[43m,\u001b[49m\n\u001b[1;32m    861\u001b[0m \u001b[43m            \u001b[49m\u001b[43mnewline\u001b[49m\u001b[38;5;241;43m=\u001b[39;49m\u001b[38;5;124;43m\"\u001b[39;49m\u001b[38;5;124;43m\"\u001b[39;49m\u001b[43m,\u001b[49m\n\u001b[1;32m    862\u001b[0m \u001b[43m        \u001b[49m\u001b[43m)\u001b[49m\n\u001b[1;32m    863\u001b[0m     \u001b[38;5;28;01melse\u001b[39;00m:\n\u001b[1;32m    864\u001b[0m         \u001b[38;5;66;03m# Binary mode\u001b[39;00m\n\u001b[1;32m    865\u001b[0m         handle \u001b[38;5;241m=\u001b[39m \u001b[38;5;28mopen\u001b[39m(handle, ioargs\u001b[38;5;241m.\u001b[39mmode)\n",
      "\u001b[0;31mFileNotFoundError\u001b[0m: [Errno 2] No such file or directory: 'raw_total_claims.csv'"
     ]
    }
   ],
   "source": [
    "raw_total_claims_df = pd.read_csv(\"raw_total_claims.csv\")"
   ]
  },
  {
   "cell_type": "code",
   "execution_count": 75,
   "id": "7104c0b8",
   "metadata": {
    "execution": {
     "iopub.execute_input": "2023-05-10T01:43:34.025382Z",
     "iopub.status.busy": "2023-05-10T01:43:34.025267Z",
     "iopub.status.idle": "2023-05-10T01:43:34.035578Z",
     "shell.execute_reply": "2023-05-10T01:43:34.035126Z"
    }
   },
   "outputs": [
    {
     "ename": "NameError",
     "evalue": "name 'total_uuid' is not defined",
     "output_type": "error",
     "traceback": [
      "\u001b[0;31m---------------------------------------------------------------------------\u001b[0m",
      "\u001b[0;31mNameError\u001b[0m                                 Traceback (most recent call last)",
      "Cell \u001b[0;32mIn [75], line 2\u001b[0m\n\u001b[1;32m      1\u001b[0m \u001b[38;5;28;01mfor\u001b[39;00m i \u001b[38;5;129;01min\u001b[39;00m \u001b[38;5;28mrange\u001b[39m(\u001b[38;5;241m0\u001b[39m, \u001b[38;5;241m37\u001b[39m):\n\u001b[0;32m----> 2\u001b[0m     \u001b[38;5;28;01mfor\u001b[39;00m j \u001b[38;5;129;01min\u001b[39;00m \u001b[38;5;28mrange\u001b[39m(\u001b[38;5;241m0\u001b[39m, \u001b[43mtotal_uuid\u001b[49m):\n\u001b[1;32m      3\u001b[0m         d \u001b[38;5;241m=\u001b[39m raw_total_claims_df\u001b[38;5;241m.\u001b[39miloc[i,j]\n\u001b[1;32m      4\u001b[0m         \u001b[38;5;66;03m# print(int(d.split(\":\")[1].split(\"}\")[0]))\u001b[39;00m\n",
      "\u001b[0;31mNameError\u001b[0m: name 'total_uuid' is not defined"
     ]
    }
   ],
   "source": [
    "for i in range(0, 37):\n",
    "    for j in range(0, total_uuid):\n",
    "        d = raw_total_claims_df.iloc[i,j]\n",
    "        # print(int(d.split(\":\")[1].split(\"}\")[0]))\n",
    "        raw_total_claims_df.iloc[i,j] = int(d.split(\":\")[1].split(\"}\")[0])"
   ]
  },
  {
   "cell_type": "code",
   "execution_count": 76,
   "id": "82417997",
   "metadata": {
    "execution": {
     "iopub.execute_input": "2023-05-10T01:43:34.037667Z",
     "iopub.status.busy": "2023-05-10T01:43:34.037520Z",
     "iopub.status.idle": "2023-05-10T01:43:34.045500Z",
     "shell.execute_reply": "2023-05-10T01:43:34.045106Z"
    }
   },
   "outputs": [
    {
     "ename": "NameError",
     "evalue": "name 'raw_total_claims_df' is not defined",
     "output_type": "error",
     "traceback": [
      "\u001b[0;31m---------------------------------------------------------------------------\u001b[0m",
      "\u001b[0;31mNameError\u001b[0m                                 Traceback (most recent call last)",
      "Cell \u001b[0;32mIn [76], line 1\u001b[0m\n\u001b[0;32m----> 1\u001b[0m raw_total_claims_list \u001b[38;5;241m=\u001b[39m \u001b[43mraw_total_claims_df\u001b[49m\u001b[38;5;241m.\u001b[39mT\u001b[38;5;241m.\u001b[39mto_numpy()\n\u001b[1;32m      2\u001b[0m raw_total_claims_list \u001b[38;5;241m=\u001b[39m raw_total_claims_list[:]\n",
      "\u001b[0;31mNameError\u001b[0m: name 'raw_total_claims_df' is not defined"
     ]
    }
   ],
   "source": [
    "raw_total_claims_list = raw_total_claims_df.T.to_numpy()\n",
    "raw_total_claims_list = raw_total_claims_list[:]"
   ]
  },
  {
   "cell_type": "code",
   "execution_count": 77,
   "id": "108f7fe5",
   "metadata": {
    "execution": {
     "iopub.execute_input": "2023-05-10T01:43:34.047049Z",
     "iopub.status.busy": "2023-05-10T01:43:34.046870Z",
     "iopub.status.idle": "2023-05-10T01:43:34.054021Z",
     "shell.execute_reply": "2023-05-10T01:43:34.053515Z"
    }
   },
   "outputs": [
    {
     "ename": "NameError",
     "evalue": "name 'raw_total_claims_list' is not defined",
     "output_type": "error",
     "traceback": [
      "\u001b[0;31m---------------------------------------------------------------------------\u001b[0m",
      "\u001b[0;31mNameError\u001b[0m                                 Traceback (most recent call last)",
      "Cell \u001b[0;32mIn [77], line 2\u001b[0m\n\u001b[1;32m      1\u001b[0m x_labels \u001b[38;5;241m=\u001b[39m [w \u001b[38;5;28;01mfor\u001b[39;00m w \u001b[38;5;129;01min\u001b[39;00m \u001b[38;5;28mrange\u001b[39m(\u001b[38;5;241m1\u001b[39m, \u001b[38;5;241m38\u001b[39m)]\n\u001b[0;32m----> 2\u001b[0m NUM_PLOTS \u001b[38;5;241m=\u001b[39m \u001b[38;5;28mlen\u001b[39m(\u001b[43mraw_total_claims_list\u001b[49m)\n",
      "\u001b[0;31mNameError\u001b[0m: name 'raw_total_claims_list' is not defined"
     ]
    }
   ],
   "source": [
    "x_labels = [w for w in range(1, 38)]\n",
    "NUM_PLOTS = len(raw_total_claims_list)"
   ]
  },
  {
   "cell_type": "code",
   "execution_count": 78,
   "id": "4a8a27e5",
   "metadata": {
    "execution": {
     "iopub.execute_input": "2023-05-10T01:43:34.056733Z",
     "iopub.status.busy": "2023-05-10T01:43:34.056563Z",
     "iopub.status.idle": "2023-05-10T01:43:34.173820Z",
     "shell.execute_reply": "2023-05-10T01:43:34.173541Z"
    }
   },
   "outputs": [
    {
     "ename": "NameError",
     "evalue": "name 'NUM_PLOTS' is not defined",
     "output_type": "error",
     "traceback": [
      "\u001b[0;31m---------------------------------------------------------------------------\u001b[0m",
      "\u001b[0;31mNameError\u001b[0m                                 Traceback (most recent call last)",
      "Cell \u001b[0;32mIn [78], line 3\u001b[0m\n\u001b[1;32m      1\u001b[0m plt\u001b[38;5;241m.\u001b[39mfigure(figsize\u001b[38;5;241m=\u001b[39m(\u001b[38;5;241m15\u001b[39m,\u001b[38;5;241m5\u001b[39m))\n\u001b[1;32m      2\u001b[0m plt\u001b[38;5;241m.\u001b[39mxticks(x_labels)\n\u001b[0;32m----> 3\u001b[0m \u001b[38;5;28;01mfor\u001b[39;00m i \u001b[38;5;129;01min\u001b[39;00m \u001b[38;5;28mrange\u001b[39m(\u001b[38;5;241m0\u001b[39m, \u001b[43mNUM_PLOTS\u001b[49m):\n\u001b[1;32m      4\u001b[0m     plt\u001b[38;5;241m.\u001b[39mplot(x_labels, raw_total_claims_list[i], \u001b[38;5;124m\"\u001b[39m\u001b[38;5;124m.-\u001b[39m\u001b[38;5;124m\"\u001b[39m)\n",
      "\u001b[0;31mNameError\u001b[0m: name 'NUM_PLOTS' is not defined"
     ]
    },
    {
     "data": {
      "image/png": "[encoded data removed]",
      "text/plain": [
       "<Figure size 1500x500 with 1 Axes>"
      ]
     },
     "metadata": {},
     "output_type": "display_data"
    }
   ],
   "source": [
    "plt.figure(figsize=(15,5))\n",
    "plt.xticks(x_labels)\n",
    "for i in range(0, NUM_PLOTS):\n",
    "    plt.plot(x_labels, raw_total_claims_list[i], \".-\")"
   ]
  },
  {
   "cell_type": "code",
   "execution_count": 79,
   "id": "afaafa54",
   "metadata": {
    "execution": {
     "iopub.execute_input": "2023-05-10T01:43:34.175395Z",
     "iopub.status.busy": "2023-05-10T01:43:34.175268Z",
     "iopub.status.idle": "2023-05-10T01:43:34.184543Z",
     "shell.execute_reply": "2023-05-10T01:43:34.183734Z"
    }
   },
   "outputs": [
    {
     "ename": "NameError",
     "evalue": "name 'raw_total_claims_list' is not defined",
     "output_type": "error",
     "traceback": [
      "\u001b[0;31m---------------------------------------------------------------------------\u001b[0m",
      "\u001b[0;31mNameError\u001b[0m                                 Traceback (most recent call last)",
      "Cell \u001b[0;32mIn [79], line 2\u001b[0m\n\u001b[1;32m      1\u001b[0m \u001b[38;5;66;03m# fill week 4 and week 23 data with mean values for all uuids\u001b[39;00m\n\u001b[0;32m----> 2\u001b[0m \u001b[38;5;28;01mfor\u001b[39;00m row \u001b[38;5;129;01min\u001b[39;00m \u001b[43mraw_total_claims_list\u001b[49m:\n\u001b[1;32m      3\u001b[0m     temp_sum \u001b[38;5;241m=\u001b[39m \u001b[38;5;241m0\u001b[39m\n\u001b[1;32m      4\u001b[0m     w4_val \u001b[38;5;241m=\u001b[39m \u001b[38;5;28mround\u001b[39m(\u001b[38;5;241m0.5\u001b[39m \u001b[38;5;241m*\u001b[39m (row[\u001b[38;5;241m2\u001b[39m] \u001b[38;5;241m+\u001b[39m row[\u001b[38;5;241m4\u001b[39m]) \u001b[38;5;241m+\u001b[39m \u001b[38;5;241m0.01\u001b[39m)\n",
      "\u001b[0;31mNameError\u001b[0m: name 'raw_total_claims_list' is not defined"
     ]
    }
   ],
   "source": [
    "# fill week 4 and week 23 data with mean values for all uuids\n",
    "for row in raw_total_claims_list:\n",
    "    temp_sum = 0\n",
    "    w4_val = round(0.5 * (row[2] + row[4]) + 0.01)\n",
    "    w23_val = round(0.5 * (row[21] + row[23]) + 0.01)\n",
    "    row[3] = w4_val\n",
    "    row[22] = w23_val"
   ]
  },
  {
   "cell_type": "code",
   "execution_count": 80,
   "id": "8f875c77",
   "metadata": {
    "execution": {
     "iopub.execute_input": "2023-05-10T01:43:34.186320Z",
     "iopub.status.busy": "2023-05-10T01:43:34.186188Z",
     "iopub.status.idle": "2023-05-10T01:43:34.302165Z",
     "shell.execute_reply": "2023-05-10T01:43:34.301885Z"
    },
    "lines_to_next_cell": 1
   },
   "outputs": [
    {
     "ename": "NameError",
     "evalue": "name 'NUM_PLOTS' is not defined",
     "output_type": "error",
     "traceback": [
      "\u001b[0;31m---------------------------------------------------------------------------\u001b[0m",
      "\u001b[0;31mNameError\u001b[0m                                 Traceback (most recent call last)",
      "Cell \u001b[0;32mIn [80], line 3\u001b[0m\n\u001b[1;32m      1\u001b[0m plt\u001b[38;5;241m.\u001b[39mfigure(figsize\u001b[38;5;241m=\u001b[39m(\u001b[38;5;241m15\u001b[39m,\u001b[38;5;241m5\u001b[39m))\n\u001b[1;32m      2\u001b[0m plt\u001b[38;5;241m.\u001b[39mxticks(x_labels)\n\u001b[0;32m----> 3\u001b[0m \u001b[38;5;28;01mfor\u001b[39;00m i \u001b[38;5;129;01min\u001b[39;00m \u001b[38;5;28mrange\u001b[39m(\u001b[38;5;241m0\u001b[39m, \u001b[43mNUM_PLOTS\u001b[49m):\n\u001b[1;32m      4\u001b[0m     plt\u001b[38;5;241m.\u001b[39mplot(x_labels, raw_total_claims_list[i])\n",
      "\u001b[0;31mNameError\u001b[0m: name 'NUM_PLOTS' is not defined"
     ]
    },
    {
     "data": {
      "image/png": "[encoded data removed]",
      "text/plain": [
       "<Figure size 1500x500 with 1 Axes>"
      ]
     },
     "metadata": {},
     "output_type": "display_data"
    }
   ],
   "source": [
    "plt.figure(figsize=(15,5))\n",
    "plt.xticks(x_labels)\n",
    "for i in range(0, NUM_PLOTS):\n",
    "    plt.plot(x_labels, raw_total_claims_list[i])"
   ]
  },
  {
   "cell_type": "code",
   "execution_count": 81,
   "id": "964441a4",
   "metadata": {
    "execution": {
     "iopub.execute_input": "2023-05-10T01:43:34.303838Z",
     "iopub.status.busy": "2023-05-10T01:43:34.303723Z",
     "iopub.status.idle": "2023-05-10T01:43:34.306170Z",
     "shell.execute_reply": "2023-05-10T01:43:34.305907Z"
    },
    "lines_to_next_cell": 1
   },
   "outputs": [],
   "source": [
    "def mse_loss(y_true, y_pred):\n",
    "    \"\"\"\n",
    "    MSE loss function\n",
    "    Inputs param\n",
    "    -------------------------\n",
    "    y_true: list\n",
    "    The ground truth values\n",
    "    y_pred: list\n",
    "    The predicted values\n",
    "    -------------------------\n",
    "    return: number\n",
    "    mean square error of the two input lists\n",
    "    \"\"\"\n",
    "    if(len(y_true) != len(y_pred)):\n",
    "        print(\"True label len:\" + str(len(y_true)) + \", Predict label len: \" + str(len(y_pred)))\n",
    "        raise Exception(\"Input lists have different length\")\n",
    "    mse = np.mean(np.array(y_true) - np.array(y_pred))**2\n",
    "    return mse"
   ]
  },
  {
   "cell_type": "code",
   "execution_count": 82,
   "id": "9ed36f45",
   "metadata": {
    "execution": {
     "iopub.execute_input": "2023-05-10T01:43:34.307594Z",
     "iopub.status.busy": "2023-05-10T01:43:34.307494Z",
     "iopub.status.idle": "2023-05-10T01:43:34.309910Z",
     "shell.execute_reply": "2023-05-10T01:43:34.309663Z"
    },
    "lines_to_next_cell": 1
   },
   "outputs": [],
   "source": [
    "def mae_loss(y_true, y_pred):\n",
    "    \"\"\"\n",
    "    MAE loss function\n",
    "    Inputs param\n",
    "    -------------------------\n",
    "    y_true: list\n",
    "    The ground truth values\n",
    "    y_pred: list\n",
    "    The predicted values\n",
    "    -------------------------\n",
    "    return: number\n",
    "    mean absolute error of the two input lists\n",
    "    \"\"\"\n",
    "    if(len(y_true) != len(y_pred)):\n",
    "        print(\"True label len:\" + str(len(y_true)) + \", Predict label len: \" + str(len(y_pred)))\n",
    "        raise Exception(\"Input lists have different length\")\n",
    "    mae = np.mean(np.absolute(np.array(y_true) - np.array(y_pred)))\n",
    "    return mae"
   ]
  },
  {
   "cell_type": "code",
   "execution_count": 83,
   "id": "656e8d8a",
   "metadata": {
    "execution": {
     "iopub.execute_input": "2023-05-10T01:43:34.311307Z",
     "iopub.status.busy": "2023-05-10T01:43:34.311209Z",
     "iopub.status.idle": "2023-05-10T01:43:34.318487Z",
     "shell.execute_reply": "2023-05-10T01:43:34.318207Z"
    }
   },
   "outputs": [
    {
     "ename": "NameError",
     "evalue": "name 'raw_total_claims_df' is not defined",
     "output_type": "error",
     "traceback": [
      "\u001b[0;31m---------------------------------------------------------------------------\u001b[0m",
      "\u001b[0;31mNameError\u001b[0m                                 Traceback (most recent call last)",
      "Cell \u001b[0;32mIn [83], line 1\u001b[0m\n\u001b[0;32m----> 1\u001b[0m uuid_list \u001b[38;5;241m=\u001b[39m \u001b[38;5;28mlist\u001b[39m(\u001b[43mraw_total_claims_df\u001b[49m\u001b[38;5;241m.\u001b[39mcolumns)\n\u001b[1;32m      2\u001b[0m pred_results \u001b[38;5;241m=\u001b[39m [\u001b[38;5;28mround\u001b[39m(np\u001b[38;5;241m.\u001b[39marray(row)\u001b[38;5;241m.\u001b[39mmean() \u001b[38;5;241m+\u001b[39m \u001b[38;5;241m0.01\u001b[39m) \u001b[38;5;28;01mfor\u001b[39;00m row \u001b[38;5;129;01min\u001b[39;00m raw_total_claims_list]\n",
      "\u001b[0;31mNameError\u001b[0m: name 'raw_total_claims_df' is not defined"
     ]
    }
   ],
   "source": [
    "uuid_list = list(raw_total_claims_df.columns)\n",
    "pred_results = [round(np.array(row).mean() + 0.01) for row in raw_total_claims_list]"
   ]
  },
  {
   "cell_type": "code",
   "execution_count": 84,
   "id": "86ab8552",
   "metadata": {
    "execution": {
     "iopub.execute_input": "2023-05-10T01:43:34.320004Z",
     "iopub.status.busy": "2023-05-10T01:43:34.319916Z",
     "iopub.status.idle": "2023-05-10T01:43:34.328230Z",
     "shell.execute_reply": "2023-05-10T01:43:34.327955Z"
    }
   },
   "outputs": [
    {
     "ename": "NameError",
     "evalue": "name 'uuid_list' is not defined",
     "output_type": "error",
     "traceback": [
      "\u001b[0;31m---------------------------------------------------------------------------\u001b[0m",
      "\u001b[0;31mNameError\u001b[0m                                 Traceback (most recent call last)",
      "Cell \u001b[0;32mIn [84], line 3\u001b[0m\n\u001b[1;32m      1\u001b[0m \u001b[38;5;66;03m# Mean value as the prediction result\u001b[39;00m\n\u001b[1;32m      2\u001b[0m result_dict \u001b[38;5;241m=\u001b[39m {\n\u001b[0;32m----> 3\u001b[0m     \u001b[38;5;124m'\u001b[39m\u001b[38;5;124muu_id\u001b[39m\u001b[38;5;124m'\u001b[39m:\u001b[43muuid_list\u001b[49m, \n\u001b[1;32m      4\u001b[0m     \u001b[38;5;124m'\u001b[39m\u001b[38;5;124mtotal_claims\u001b[39m\u001b[38;5;124m'\u001b[39m: pred_results,\n\u001b[1;32m      5\u001b[0m     \u001b[38;5;124m'\u001b[39m\u001b[38;5;124mweek_number\u001b[39m\u001b[38;5;124m'\u001b[39m: [\u001b[38;5;241m39\u001b[39m \u001b[38;5;28;01mfor\u001b[39;00m i \u001b[38;5;129;01min\u001b[39;00m \u001b[38;5;28mrange\u001b[39m(\u001b[38;5;241m573\u001b[39m)]\n\u001b[1;32m      6\u001b[0m }\n\u001b[1;32m      7\u001b[0m result_to_csv \u001b[38;5;241m=\u001b[39m pd\u001b[38;5;241m.\u001b[39mDataFrame(result_dict)\n\u001b[1;32m      8\u001b[0m result_to_csv\n",
      "\u001b[0;31mNameError\u001b[0m: name 'uuid_list' is not defined"
     ]
    }
   ],
   "source": [
    "# Mean value as the prediction result\n",
    "result_dict = {\n",
    "    'uu_id':uuid_list, \n",
    "    'total_claims': pred_results,\n",
    "    'week_number': [39 for i in range(573)]\n",
    "}\n",
    "result_to_csv = pd.DataFrame(result_dict)\n",
    "result_to_csv"
   ]
  },
  {
   "cell_type": "code",
   "execution_count": 85,
   "id": "af772f1d",
   "metadata": {
    "execution": {
     "iopub.execute_input": "2023-05-10T01:43:34.329683Z",
     "iopub.status.busy": "2023-05-10T01:43:34.329569Z",
     "iopub.status.idle": "2023-05-10T01:43:34.336566Z",
     "shell.execute_reply": "2023-05-10T01:43:34.336294Z"
    },
    "lines_to_next_cell": 1
   },
   "outputs": [
    {
     "ename": "NameError",
     "evalue": "name 'uuid_list' is not defined",
     "output_type": "error",
     "traceback": [
      "\u001b[0;31m---------------------------------------------------------------------------\u001b[0m",
      "\u001b[0;31mNameError\u001b[0m                                 Traceback (most recent call last)",
      "Cell \u001b[0;32mIn [85], line 1\u001b[0m\n\u001b[0;32m----> 1\u001b[0m \u001b[38;5;28mprint\u001b[39m(\u001b[43muuid_list\u001b[49m[\u001b[38;5;241m0\u001b[39m])\n\u001b[1;32m      2\u001b[0m \u001b[38;5;28mprint\u001b[39m(\u001b[38;5;28mlist\u001b[39m(raw_total_claims_list[\u001b[38;5;241m0\u001b[39m]))\n",
      "\u001b[0;31mNameError\u001b[0m: name 'uuid_list' is not defined"
     ]
    }
   ],
   "source": [
    "print(uuid_list[0])\n",
    "print(list(raw_total_claims_list[0]))"
   ]
  },
  {
   "cell_type": "code",
   "execution_count": 86,
   "id": "ccc33770",
   "metadata": {
    "execution": {
     "iopub.execute_input": "2023-05-10T01:43:34.338071Z",
     "iopub.status.busy": "2023-05-10T01:43:34.337980Z",
     "iopub.status.idle": "2023-05-10T01:43:34.340441Z",
     "shell.execute_reply": "2023-05-10T01:43:34.340174Z"
    },
    "lines_to_next_cell": 1
   },
   "outputs": [],
   "source": [
    "def mse_loss(y_true, y_pred):\n",
    "    \"\"\"\n",
    "    MSE loss function\n",
    "    Inputs param\n",
    "    -------------------------\n",
    "    y_true: list\n",
    "    The ground truth values\n",
    "    y_pred: list\n",
    "    The predicted values\n",
    "    -------------------------\n",
    "    return: number\n",
    "    mean square error of the two input lists\n",
    "    \"\"\"\n",
    "    if(len(y_true) != len(y_pred)):\n",
    "        print(\"True label len:\" + str(len(y_true)) + \", Predict label len: \" + str(len(y_pred)))\n",
    "        raise Exception(\"Input lists have different length\")\n",
    "    mse = np.mean(np.array(y_true) - np.array(y_pred))**2\n",
    "    return mse"
   ]
  },
  {
   "cell_type": "code",
   "execution_count": 87,
   "id": "c4e02177",
   "metadata": {
    "execution": {
     "iopub.execute_input": "2023-05-10T01:43:34.341888Z",
     "iopub.status.busy": "2023-05-10T01:43:34.341807Z",
     "iopub.status.idle": "2023-05-10T01:43:34.344180Z",
     "shell.execute_reply": "2023-05-10T01:43:34.343931Z"
    },
    "lines_to_next_cell": 1
   },
   "outputs": [],
   "source": [
    "def mae_loss(y_true, y_pred):\n",
    "    \"\"\"\n",
    "    MAE loss function\n",
    "    Inputs param\n",
    "    -------------------------\n",
    "    y_true: list\n",
    "    The ground truth values\n",
    "    y_pred: list\n",
    "    The predicted values\n",
    "    -------------------------\n",
    "    return: number\n",
    "    mean absolute error of the two input lists\n",
    "    \"\"\"\n",
    "    if(len(y_true) != len(y_pred)):\n",
    "        print(\"True label len:\" + str(len(y_true)) + \", Predict label len: \" + str(len(y_pred)))\n",
    "        raise Exception(\"Input lists have different length\")\n",
    "    mae = np.mean(np.absolute(np.array(y_true) - np.array(y_pred)))\n",
    "    return mae"
   ]
  },
  {
   "cell_type": "code",
   "execution_count": 88,
   "id": "3e4d1c18",
   "metadata": {
    "execution": {
     "iopub.execute_input": "2023-05-10T01:43:34.345606Z",
     "iopub.status.busy": "2023-05-10T01:43:34.345519Z",
     "iopub.status.idle": "2023-05-10T01:43:34.352512Z",
     "shell.execute_reply": "2023-05-10T01:43:34.352256Z"
    }
   },
   "outputs": [
    {
     "ename": "NameError",
     "evalue": "name 'raw_total_claims_df' is not defined",
     "output_type": "error",
     "traceback": [
      "\u001b[0;31m---------------------------------------------------------------------------\u001b[0m",
      "\u001b[0;31mNameError\u001b[0m                                 Traceback (most recent call last)",
      "Cell \u001b[0;32mIn [88], line 1\u001b[0m\n\u001b[0;32m----> 1\u001b[0m uuid_list \u001b[38;5;241m=\u001b[39m \u001b[38;5;28mlist\u001b[39m(\u001b[43mraw_total_claims_df\u001b[49m\u001b[38;5;241m.\u001b[39mcolumns)\n\u001b[1;32m      2\u001b[0m pred_results \u001b[38;5;241m=\u001b[39m [\u001b[38;5;28mround\u001b[39m(np\u001b[38;5;241m.\u001b[39marray(row)\u001b[38;5;241m.\u001b[39mmean() \u001b[38;5;241m+\u001b[39m \u001b[38;5;241m0.01\u001b[39m) \u001b[38;5;28;01mfor\u001b[39;00m row \u001b[38;5;129;01min\u001b[39;00m raw_total_claims_list]\n",
      "\u001b[0;31mNameError\u001b[0m: name 'raw_total_claims_df' is not defined"
     ]
    }
   ],
   "source": [
    "uuid_list = list(raw_total_claims_df.columns)\n",
    "pred_results = [round(np.array(row).mean() + 0.01) for row in raw_total_claims_list]"
   ]
  },
  {
   "cell_type": "code",
   "execution_count": 89,
   "id": "a85b2e56",
   "metadata": {
    "execution": {
     "iopub.execute_input": "2023-05-10T01:43:34.353940Z",
     "iopub.status.busy": "2023-05-10T01:43:34.353847Z",
     "iopub.status.idle": "2023-05-10T01:43:34.361232Z",
     "shell.execute_reply": "2023-05-10T01:43:34.360929Z"
    }
   },
   "outputs": [
    {
     "ename": "NameError",
     "evalue": "name 'uuid_list' is not defined",
     "output_type": "error",
     "traceback": [
      "\u001b[0;31m---------------------------------------------------------------------------\u001b[0m",
      "\u001b[0;31mNameError\u001b[0m                                 Traceback (most recent call last)",
      "Cell \u001b[0;32mIn [89], line 3\u001b[0m\n\u001b[1;32m      1\u001b[0m \u001b[38;5;66;03m# Mean value as the prediction result\u001b[39;00m\n\u001b[1;32m      2\u001b[0m result_dict \u001b[38;5;241m=\u001b[39m {\n\u001b[0;32m----> 3\u001b[0m     \u001b[38;5;124m'\u001b[39m\u001b[38;5;124muu_id\u001b[39m\u001b[38;5;124m'\u001b[39m:\u001b[43muuid_list\u001b[49m, \n\u001b[1;32m      4\u001b[0m     \u001b[38;5;124m'\u001b[39m\u001b[38;5;124mtotal_claims\u001b[39m\u001b[38;5;124m'\u001b[39m: pred_results,\n\u001b[1;32m      5\u001b[0m     \u001b[38;5;124m'\u001b[39m\u001b[38;5;124mweek_number\u001b[39m\u001b[38;5;124m'\u001b[39m: [\u001b[38;5;241m39\u001b[39m \u001b[38;5;28;01mfor\u001b[39;00m i \u001b[38;5;129;01min\u001b[39;00m \u001b[38;5;28mrange\u001b[39m(total_uuid)]\n\u001b[1;32m      6\u001b[0m }\n\u001b[1;32m      7\u001b[0m result_to_csv \u001b[38;5;241m=\u001b[39m pd\u001b[38;5;241m.\u001b[39mDataFrame(result_dict)\n\u001b[1;32m      8\u001b[0m result_to_csv\n",
      "\u001b[0;31mNameError\u001b[0m: name 'uuid_list' is not defined"
     ]
    }
   ],
   "source": [
    "# Mean value as the prediction result\n",
    "result_dict = {\n",
    "    'uu_id':uuid_list, \n",
    "    'total_claims': pred_results,\n",
    "    'week_number': [39 for i in range(total_uuid)]\n",
    "}\n",
    "result_to_csv = pd.DataFrame(result_dict)\n",
    "result_to_csv"
   ]
  },
  {
   "cell_type": "code",
   "execution_count": 90,
   "id": "913a50a1",
   "metadata": {
    "execution": {
     "iopub.execute_input": "2023-05-10T01:43:34.362689Z",
     "iopub.status.busy": "2023-05-10T01:43:34.362599Z",
     "iopub.status.idle": "2023-05-10T01:43:34.369276Z",
     "shell.execute_reply": "2023-05-10T01:43:34.369032Z"
    }
   },
   "outputs": [
    {
     "ename": "NameError",
     "evalue": "name 'uuid_list' is not defined",
     "output_type": "error",
     "traceback": [
      "\u001b[0;31m---------------------------------------------------------------------------\u001b[0m",
      "\u001b[0;31mNameError\u001b[0m                                 Traceback (most recent call last)",
      "Cell \u001b[0;32mIn [90], line 1\u001b[0m\n\u001b[0;32m----> 1\u001b[0m \u001b[38;5;28mprint\u001b[39m(\u001b[43muuid_list\u001b[49m[\u001b[38;5;241m0\u001b[39m])\n\u001b[1;32m      2\u001b[0m \u001b[38;5;28mprint\u001b[39m(\u001b[38;5;28mlist\u001b[39m(raw_total_claims_list[\u001b[38;5;241m0\u001b[39m]))\n",
      "\u001b[0;31mNameError\u001b[0m: name 'uuid_list' is not defined"
     ]
    }
   ],
   "source": [
    "print(uuid_list[0])\n",
    "print(list(raw_total_claims_list[0]))"
   ]
  },
  {
   "cell_type": "code",
   "execution_count": 91,
   "id": "ab599992",
   "metadata": {
    "execution": {
     "iopub.execute_input": "2023-05-10T01:43:34.370683Z",
     "iopub.status.busy": "2023-05-10T01:43:34.370604Z",
     "iopub.status.idle": "2023-05-10T01:43:34.377853Z",
     "shell.execute_reply": "2023-05-10T01:43:34.377397Z"
    }
   },
   "outputs": [
    {
     "ename": "NameError",
     "evalue": "name 'raw_total_claims_df' is not defined",
     "output_type": "error",
     "traceback": [
      "\u001b[0;31m---------------------------------------------------------------------------\u001b[0m",
      "\u001b[0;31mNameError\u001b[0m                                 Traceback (most recent call last)",
      "Cell \u001b[0;32mIn [91], line 1\u001b[0m\n\u001b[0;32m----> 1\u001b[0m \u001b[38;5;28mprint\u001b[39m(\u001b[38;5;28mlist\u001b[39m(\u001b[43mraw_total_claims_df\u001b[49m[\u001b[38;5;124m\"\u001b[39m\u001b[38;5;124m26c71b31d464bc7bedc8aed7e5c6e641\u001b[39m\u001b[38;5;124m\"\u001b[39m]))\n",
      "\u001b[0;31mNameError\u001b[0m: name 'raw_total_claims_df' is not defined"
     ]
    }
   ],
   "source": [
    "print(list(raw_total_claims_df[\"26c71b31d464bc7bedc8aed7e5c6e641\"]))"
   ]
  },
  {
   "cell_type": "code",
   "execution_count": 92,
   "id": "774c7d9f",
   "metadata": {
    "execution": {
     "iopub.execute_input": "2023-05-10T01:43:34.379700Z",
     "iopub.status.busy": "2023-05-10T01:43:34.379590Z",
     "iopub.status.idle": "2023-05-10T01:43:34.386822Z",
     "shell.execute_reply": "2023-05-10T01:43:34.386561Z"
    }
   },
   "outputs": [
    {
     "ename": "NameError",
     "evalue": "name 'result_to_csv' is not defined",
     "output_type": "error",
     "traceback": [
      "\u001b[0;31m---------------------------------------------------------------------------\u001b[0m",
      "\u001b[0;31mNameError\u001b[0m                                 Traceback (most recent call last)",
      "Cell \u001b[0;32mIn [92], line 1\u001b[0m\n\u001b[0;32m----> 1\u001b[0m \u001b[43mresult_to_csv\u001b[49m\u001b[38;5;241m.\u001b[39mto_csv(\u001b[38;5;124m\"\u001b[39m\u001b[38;5;124msubmission_prediction_output.csv\u001b[39m\u001b[38;5;124m\"\u001b[39m, index\u001b[38;5;241m=\u001b[39m\u001b[38;5;28;01mFalse\u001b[39;00m)\n",
      "\u001b[0;31mNameError\u001b[0m: name 'result_to_csv' is not defined"
     ]
    }
   ],
   "source": [
    "result_to_csv.to_csv(\"submission_prediction_output.csv\", index=False)"
   ]
  },
  {
   "cell_type": "code",
   "execution_count": 93,
   "id": "00c76c01",
   "metadata": {
    "execution": {
     "iopub.execute_input": "2023-05-10T01:43:34.388360Z",
     "iopub.status.busy": "2023-05-10T01:43:34.388261Z",
     "iopub.status.idle": "2023-05-10T01:43:34.395284Z",
     "shell.execute_reply": "2023-05-10T01:43:34.395021Z"
    }
   },
   "outputs": [
    {
     "ename": "NameError",
     "evalue": "name 'raw_total_claims_list' is not defined",
     "output_type": "error",
     "traceback": [
      "\u001b[0;31m---------------------------------------------------------------------------\u001b[0m",
      "\u001b[0;31mNameError\u001b[0m                                 Traceback (most recent call last)",
      "Cell \u001b[0;32mIn [93], line 1\u001b[0m\n\u001b[0;32m----> 1\u001b[0m temp_res \u001b[38;5;241m=\u001b[39m [row[\u001b[38;5;241m-\u001b[39m\u001b[38;5;241m1\u001b[39m] \u001b[38;5;28;01mfor\u001b[39;00m row \u001b[38;5;129;01min\u001b[39;00m \u001b[43mraw_total_claims_list\u001b[49m]\n",
      "\u001b[0;31mNameError\u001b[0m: name 'raw_total_claims_list' is not defined"
     ]
    }
   ],
   "source": [
    "temp_res = [row[-1] for row in raw_total_claims_list]"
   ]
  },
  {
   "cell_type": "code",
   "execution_count": 94,
   "id": "e647052f",
   "metadata": {
    "execution": {
     "iopub.execute_input": "2023-05-10T01:43:34.396673Z",
     "iopub.status.busy": "2023-05-10T01:43:34.396587Z",
     "iopub.status.idle": "2023-05-10T01:43:34.403882Z",
     "shell.execute_reply": "2023-05-10T01:43:34.403614Z"
    }
   },
   "outputs": [
    {
     "ename": "NameError",
     "evalue": "name 'raw_total_claims_df' is not defined",
     "output_type": "error",
     "traceback": [
      "\u001b[0;31m---------------------------------------------------------------------------\u001b[0m",
      "\u001b[0;31mNameError\u001b[0m                                 Traceback (most recent call last)",
      "Cell \u001b[0;32mIn [94], line 1\u001b[0m\n\u001b[0;32m----> 1\u001b[0m \u001b[38;5;28mprint\u001b[39m(\u001b[38;5;28mlist\u001b[39m(\u001b[43mraw_total_claims_df\u001b[49m[\u001b[38;5;124m\"\u001b[39m\u001b[38;5;124m8ba19786b86ae124a9d7eaa054f15d23\u001b[39m\u001b[38;5;124m\"\u001b[39m]))\n",
      "\u001b[0;31mNameError\u001b[0m: name 'raw_total_claims_df' is not defined"
     ]
    }
   ],
   "source": [
    "print(list(raw_total_claims_df[\"8ba19786b86ae124a9d7eaa054f15d23\"]))"
   ]
  },
  {
   "cell_type": "code",
   "execution_count": 95,
   "id": "755e9203",
   "metadata": {
    "execution": {
     "iopub.execute_input": "2023-05-10T01:43:34.405412Z",
     "iopub.status.busy": "2023-05-10T01:43:34.405304Z",
     "iopub.status.idle": "2023-05-10T01:43:34.412829Z",
     "shell.execute_reply": "2023-05-10T01:43:34.412581Z"
    }
   },
   "outputs": [
    {
     "ename": "NameError",
     "evalue": "name 'result_to_csv' is not defined",
     "output_type": "error",
     "traceback": [
      "\u001b[0;31m---------------------------------------------------------------------------\u001b[0m",
      "\u001b[0;31mNameError\u001b[0m                                 Traceback (most recent call last)",
      "Cell \u001b[0;32mIn [95], line 1\u001b[0m\n\u001b[0;32m----> 1\u001b[0m \u001b[43mresult_to_csv\u001b[49m\u001b[38;5;241m.\u001b[39mto_csv(\u001b[38;5;124m\"\u001b[39m\u001b[38;5;124msubmission_prediction_output.csv\u001b[39m\u001b[38;5;124m\"\u001b[39m, index\u001b[38;5;241m=\u001b[39m\u001b[38;5;28;01mFalse\u001b[39;00m)\n",
      "\u001b[0;31mNameError\u001b[0m: name 'result_to_csv' is not defined"
     ]
    }
   ],
   "source": [
    "result_to_csv.to_csv(\"submission_prediction_output.csv\", index=False)"
   ]
  },
  {
   "cell_type": "code",
   "execution_count": 96,
   "id": "f11cdca0",
   "metadata": {
    "execution": {
     "iopub.execute_input": "2023-05-10T01:43:34.414265Z",
     "iopub.status.busy": "2023-05-10T01:43:34.414182Z",
     "iopub.status.idle": "2023-05-10T01:43:34.420959Z",
     "shell.execute_reply": "2023-05-10T01:43:34.420696Z"
    }
   },
   "outputs": [
    {
     "ename": "NameError",
     "evalue": "name 'raw_total_claims_list' is not defined",
     "output_type": "error",
     "traceback": [
      "\u001b[0;31m---------------------------------------------------------------------------\u001b[0m",
      "\u001b[0;31mNameError\u001b[0m                                 Traceback (most recent call last)",
      "Cell \u001b[0;32mIn [96], line 1\u001b[0m\n\u001b[0;32m----> 1\u001b[0m temp_res \u001b[38;5;241m=\u001b[39m [row[\u001b[38;5;241m-\u001b[39m\u001b[38;5;241m1\u001b[39m] \u001b[38;5;28;01mfor\u001b[39;00m row \u001b[38;5;129;01min\u001b[39;00m \u001b[43mraw_total_claims_list\u001b[49m]\n",
      "\u001b[0;31mNameError\u001b[0m: name 'raw_total_claims_list' is not defined"
     ]
    }
   ],
   "source": [
    "temp_res = [row[-1] for row in raw_total_claims_list]"
   ]
  },
  {
   "cell_type": "code",
   "execution_count": 97,
   "id": "3313518a",
   "metadata": {
    "execution": {
     "iopub.execute_input": "2023-05-10T01:43:34.422321Z",
     "iopub.status.busy": "2023-05-10T01:43:34.422241Z",
     "iopub.status.idle": "2023-05-10T01:43:34.428750Z",
     "shell.execute_reply": "2023-05-10T01:43:34.428495Z"
    }
   },
   "outputs": [
    {
     "ename": "NameError",
     "evalue": "name 'temp_res' is not defined",
     "output_type": "error",
     "traceback": [
      "\u001b[0;31m---------------------------------------------------------------------------\u001b[0m",
      "\u001b[0;31mNameError\u001b[0m                                 Traceback (most recent call last)",
      "Cell \u001b[0;32mIn [97], line 1\u001b[0m\n\u001b[0;32m----> 1\u001b[0m mae_loss(\u001b[43mtemp_res\u001b[49m, pred_results)\n",
      "\u001b[0;31mNameError\u001b[0m: name 'temp_res' is not defined"
     ]
    }
   ],
   "source": [
    "mae_loss(temp_res, pred_results)"
   ]
  },
  {
   "cell_type": "code",
   "execution_count": 98,
   "id": "108ef767",
   "metadata": {
    "execution": {
     "iopub.execute_input": "2023-05-10T01:43:34.430105Z",
     "iopub.status.busy": "2023-05-10T01:43:34.430020Z",
     "iopub.status.idle": "2023-05-10T01:43:34.503549Z",
     "shell.execute_reply": "2023-05-10T01:43:34.503284Z"
    },
    "lines_to_next_cell": 2
   },
   "outputs": [
    {
     "ename": "NameError",
     "evalue": "name 'total_uuid_less_10w' is not defined",
     "output_type": "error",
     "traceback": [
      "\u001b[0;31m---------------------------------------------------------------------------\u001b[0m",
      "\u001b[0;31mNameError\u001b[0m                                 Traceback (most recent call last)",
      "Cell \u001b[0;32mIn [98], line 4\u001b[0m\n\u001b[1;32m      2\u001b[0m plt\u001b[38;5;241m.\u001b[39mfigure(figsize\u001b[38;5;241m=\u001b[39m(\u001b[38;5;241m12\u001b[39m,\u001b[38;5;241m4\u001b[39m))\n\u001b[1;32m      3\u001b[0m plt\u001b[38;5;241m.\u001b[39mtitle(\u001b[38;5;124m\"\u001b[39m\u001b[38;5;124mweek_number distribution for uuid with no more than 10 weeks of data\u001b[39m\u001b[38;5;124m\"\u001b[39m)\n\u001b[0;32m----> 4\u001b[0m colors \u001b[38;5;241m=\u001b[39m [\u001b[38;5;124m'\u001b[39m\u001b[38;5;124mC\u001b[39m\u001b[38;5;132;01m{}\u001b[39;00m\u001b[38;5;124m'\u001b[39m\u001b[38;5;241m.\u001b[39mformat(i) \u001b[38;5;28;01mfor\u001b[39;00m i \u001b[38;5;129;01min\u001b[39;00m \u001b[38;5;28mrange\u001b[39m(\u001b[43mtotal_uuid_less_10w\u001b[49m)]\n\u001b[1;32m      5\u001b[0m plt\u001b[38;5;241m.\u001b[39meventplot(week_available, orientation\u001b[38;5;241m=\u001b[39m\u001b[38;5;124m'\u001b[39m\u001b[38;5;124mvertical\u001b[39m\u001b[38;5;124m'\u001b[39m, linelengths\u001b[38;5;241m=\u001b[39m\u001b[38;5;241m0.2\u001b[39m, linewidths\u001b[38;5;241m=\u001b[39m\u001b[38;5;241m4\u001b[39m, colors\u001b[38;5;241m=\u001b[39mcolors)\n\u001b[1;32m      6\u001b[0m plt\u001b[38;5;241m.\u001b[39myticks([i \u001b[38;5;28;01mfor\u001b[39;00m i \u001b[38;5;129;01min\u001b[39;00m \u001b[38;5;28mrange\u001b[39m(\u001b[38;5;241m1\u001b[39m,\u001b[38;5;241m38\u001b[39m,\u001b[38;5;241m2\u001b[39m)])\n",
      "\u001b[0;31mNameError\u001b[0m: name 'total_uuid_less_10w' is not defined"
     ]
    },
    {
     "data": {
      "image/png": "[encoded data removed]",
      "text/plain": [
       "<Figure size 1200x400 with 1 Axes>"
      ]
     },
     "metadata": {},
     "output_type": "display_data"
    }
   ],
   "source": [
    "# plot the avaliable weeks vs uu_id\n",
    "plt.figure(figsize=(12,4))\n",
    "plt.title(\"week_number distribution for uuid with no more than 10 weeks of data\")\n",
    "colors = ['C{}'.format(i) for i in range(total_uuid_less_10w)]\n",
    "plt.eventplot(week_available, orientation='vertical', linelengths=0.2, linewidths=4, colors=colors)\n",
    "plt.yticks([i for i in range(1,38,2)])\n",
    "plt.ylabel(\"week_number\")\n",
    "plt.xticks([i for i in range(total_uuid_less_10w)])\n",
    "plt.xlabel(\"uu_id\")\n",
    "plt.grid(axis=\"x\")\n",
    "plt.axhline(4, alpha=0.5)\n",
    "plt.axhline(23, alpha=0.5)\n",
    "plt.axhline(37, alpha=0.5)\n",
    "plt.tight_layout()\n",
    "plt.show()"
   ]
  }
 ],
 "metadata": {
  "jupytext": {
   "cell_metadata_filter": "-all",
   "main_language": "python",
   "notebook_metadata_filter": "-all"
  },
  "language_info": {
   "codemirror_mode": {
    "name": "ipython",
    "version": 3
   },
   "file_extension": ".py",
   "mimetype": "text/x-python",
   "name": "python",
   "nbconvert_exporter": "python",
   "pygments_lexer": "ipython3",
   "version": "3.9.12"
  }
 },
 "nbformat": 4,
 "nbformat_minor": 5
}
