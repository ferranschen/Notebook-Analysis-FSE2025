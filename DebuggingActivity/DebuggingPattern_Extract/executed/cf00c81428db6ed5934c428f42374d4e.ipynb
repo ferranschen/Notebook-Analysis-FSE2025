{
 "cells": [
  {
   "cell_type": "code",
   "execution_count": 1,
   "id": "6267aa8f",
   "metadata": {
    "execution": {
     "iopub.execute_input": "2023-05-10T02:53:12.029924Z",
     "iopub.status.busy": "2023-05-10T02:53:12.029361Z",
     "iopub.status.idle": "2023-05-10T02:53:12.051368Z",
     "shell.execute_reply": "2023-05-10T02:53:12.050677Z"
    }
   },
   "outputs": [],
   "source": [
    "get_ipython().run_cell_magic('capture', '', \"%logstop\\n%logstart -t -r -q ipython_command_log.py global\\n\\n#- IRONHACKS RESEARCH TRACKING CODE\\n#----------------------------------\\n\\nimport os\\nfrom datetime import datetime\\nimport IPython.core.history as history\\n\\nha = history.HistoryAccessor()\\nha_tail = ha.get_tail(1)\\nha_cmd = next(ha_tail)\\nsession_id = str(ha_cmd[0])\\ncommand_id = str(ha_cmd[1])\\ntimestamp = datetime.utcnow().isoformat()\\nhistory_line = ','.join([session_id, command_id, timestamp]) + '\\\\n'\\nlogfile = open(os.environ['HOME']+'/ipython_session_log.csv', 'a')\\nlogfile.write(history_line)\\nlogfile.close()\\n\")"
   ]
  },
  {
   "cell_type": "markdown",
   "id": "7c4b5185",
   "metadata": {},
   "source": [
    "- LIBRARIES\n",
    "------------------------------------------\n",
    "DATA PROCESSING\n",
    "import pandas, google-cloud-bigquery, chardet, click, cytoolz, dask, decorator, pyjson5, jsonschema, tables"
   ]
  },
  {
   "cell_type": "markdown",
   "id": "40ec37b1",
   "metadata": {},
   "source": [
    "STATISTICAL MODELING\n",
    "import numpy, scipy, statsmodels, statistics, scikit-learn, patsy, simpy"
   ]
  },
  {
   "cell_type": "markdown",
   "id": "e1d5f540",
   "metadata": {},
   "source": [
    "DATA VISUALIZATION\n",
    "import plotly, bokeh, seaborn, matplotlib, vincent"
   ]
  },
  {
   "cell_type": "code",
   "execution_count": 2,
   "id": "9250bab0",
   "metadata": {
    "execution": {
     "iopub.execute_input": "2023-05-10T02:53:12.055505Z",
     "iopub.status.busy": "2023-05-10T02:53:12.055199Z",
     "iopub.status.idle": "2023-05-10T02:53:12.353782Z",
     "shell.execute_reply": "2023-05-10T02:53:12.353480Z"
    }
   },
   "outputs": [],
   "source": [
    "import csv\n",
    "import pandas as pd\n",
    "import numpy as np"
   ]
  },
  {
   "cell_type": "code",
   "execution_count": 3,
   "id": "c6a6a240",
   "metadata": {
    "execution": {
     "iopub.execute_input": "2023-05-10T02:53:12.355556Z",
     "iopub.status.busy": "2023-05-10T02:53:12.355427Z",
     "iopub.status.idle": "2023-05-10T02:53:12.484595Z",
     "shell.execute_reply": "2023-05-10T02:53:12.484316Z"
    }
   },
   "outputs": [],
   "source": [
    "from google.cloud import bigquery\n",
    "from google.oauth2 import service_account\n",
    "from google.cloud.bigquery import magics"
   ]
  },
  {
   "cell_type": "code",
   "execution_count": 4,
   "id": "12cd4711",
   "metadata": {
    "execution": {
     "iopub.execute_input": "2023-05-10T02:53:12.486282Z",
     "iopub.status.busy": "2023-05-10T02:53:12.486145Z",
     "iopub.status.idle": "2023-05-10T02:53:12.939784Z",
     "shell.execute_reply": "2023-05-10T02:53:12.939501Z"
    }
   },
   "outputs": [],
   "source": [
    "from sklearn.model_selection import train_test_split \n",
    "from sklearn.linear_model import LinearRegression\n",
    "from sklearn import metrics\n",
    "import seaborn as sns\n",
    "import matplotlib.pyplot as plt "
   ]
  },
  {
   "cell_type": "markdown",
   "id": "064fea49",
   "metadata": {},
   "source": [
    "- PROJECT INFORMATION\n",
    "------------------------------------------\n",
    "These details for the Ironhack project are needed for the Query client"
   ]
  },
  {
   "cell_type": "code",
   "execution_count": 5,
   "id": "1a48ad3f",
   "metadata": {
    "execution": {
     "iopub.execute_input": "2023-05-10T02:53:12.941497Z",
     "iopub.status.busy": "2023-05-10T02:53:12.941352Z",
     "iopub.status.idle": "2023-05-10T02:53:12.950686Z",
     "shell.execute_reply": "2023-05-10T02:53:12.950323Z"
    },
    "lines_to_next_cell": 1
   },
   "outputs": [],
   "source": [
    "BIGQUERY_PROJECT = 'ironhacks-data'\n",
    "bigquery_client = bigquery.Client(project=BIGQUERY_PROJECT)"
   ]
  },
  {
   "cell_type": "markdown",
   "id": "bb88e865",
   "metadata": {},
   "source": [
    "- DEFINE YOUR CLASSES AND FUNCTIONS \n",
    "----------------------------------"
   ]
  },
  {
   "cell_type": "markdown",
   "id": "9ff88d67",
   "metadata": {},
   "source": [
    "QUERY FUNCTION"
   ]
  },
  {
   "cell_type": "code",
   "execution_count": 6,
   "id": "891fdedf",
   "metadata": {
    "execution": {
     "iopub.execute_input": "2023-05-10T02:53:12.952287Z",
     "iopub.status.busy": "2023-05-10T02:53:12.952196Z",
     "iopub.status.idle": "2023-05-10T02:53:12.954470Z",
     "shell.execute_reply": "2023-05-10T02:53:12.954210Z"
    },
    "lines_to_next_cell": 1
   },
   "outputs": [],
   "source": [
    "def query_from_statement(query):\n",
    "    query_job = bigquery_client.query(query)  # BIGQUERY \n",
    "    df = query_job.to_dataframe() # TURNING INTO PANDAS DF\n",
    "    #display(df.tail(n=5))\n",
    "    #print(df.shape)\n",
    "    return df"
   ]
  },
  {
   "cell_type": "code",
   "execution_count": 7,
   "id": "fcefb737",
   "metadata": {
    "execution": {
     "iopub.execute_input": "2023-05-10T02:53:12.955815Z",
     "iopub.status.busy": "2023-05-10T02:53:12.955714Z",
     "iopub.status.idle": "2023-05-10T02:53:12.957489Z",
     "shell.execute_reply": "2023-05-10T02:53:12.957255Z"
    }
   },
   "outputs": [],
   "source": [
    "u_claims_query = \"\"\"\n",
    "SELECT *\n",
    "FROM `ironhacks-data.ironhacks_competition.unemployment_data`\n",
    "Where week_number between 1 and 37\n",
    "order by week_number\n",
    "\"\"\""
   ]
  },
  {
   "cell_type": "code",
   "execution_count": 8,
   "id": "1242d345",
   "metadata": {
    "execution": {
     "iopub.execute_input": "2023-05-10T02:53:12.958820Z",
     "iopub.status.busy": "2023-05-10T02:53:12.958725Z",
     "iopub.status.idle": "2023-05-10T02:53:15.371126Z",
     "shell.execute_reply": "2023-05-10T02:53:15.369996Z"
    }
   },
   "outputs": [],
   "source": [
    "unemployment_claims_data = query_from_statement(u_claims_query)"
   ]
  },
  {
   "cell_type": "code",
   "execution_count": 9,
   "id": "a6d2927c",
   "metadata": {
    "execution": {
     "iopub.execute_input": "2023-05-10T02:53:15.376097Z",
     "iopub.status.busy": "2023-05-10T02:53:15.375805Z",
     "iopub.status.idle": "2023-05-10T02:53:15.380067Z",
     "shell.execute_reply": "2023-05-10T02:53:15.379187Z"
    }
   },
   "outputs": [],
   "source": [
    "wage_query = \"\"\"\n",
    "SELECT *\n",
    "FROM `ironhacks-data.ironhacks_competition.wage_data`\n",
    "\"\"\""
   ]
  },
  {
   "cell_type": "code",
   "execution_count": 10,
   "id": "6d154203",
   "metadata": {
    "execution": {
     "iopub.execute_input": "2023-05-10T02:53:15.382182Z",
     "iopub.status.busy": "2023-05-10T02:53:15.382038Z",
     "iopub.status.idle": "2023-05-10T02:53:16.917234Z",
     "shell.execute_reply": "2023-05-10T02:53:16.916536Z"
    }
   },
   "outputs": [],
   "source": [
    "unemployment_wage_data = query_from_statement(wage_query)"
   ]
  },
  {
   "cell_type": "code",
   "execution_count": 11,
   "id": "59c9d7ec",
   "metadata": {
    "execution": {
     "iopub.execute_input": "2023-05-10T02:53:16.921907Z",
     "iopub.status.busy": "2023-05-10T02:53:16.921583Z",
     "iopub.status.idle": "2023-05-10T02:53:16.972595Z",
     "shell.execute_reply": "2023-05-10T02:53:16.972093Z"
    }
   },
   "outputs": [],
   "source": [
    "duplicated_rows = sum(unemployment_claims_data.duplicated()) # CHECKING FOR DUPLICATED ROWS\n",
    "# THERE ARE 3079 DUPLICATED ROWS BETWEEN WEEKS 1 and 37\n",
    "unemployment_claims_data = unemployment_claims_data.drop_duplicates()"
   ]
  },
  {
   "cell_type": "code",
   "execution_count": 12,
   "id": "de9de9a3",
   "metadata": {
    "execution": {
     "iopub.execute_input": "2023-05-10T02:53:16.975256Z",
     "iopub.status.busy": "2023-05-10T02:53:16.975062Z",
     "iopub.status.idle": "2023-05-10T02:53:16.978935Z",
     "shell.execute_reply": "2023-05-10T02:53:16.978497Z"
    }
   },
   "outputs": [],
   "source": [
    "duplicated_rows = sum(unemployment_wage_data.duplicated()) # CHECKING FOR DUPLICATED ROWS\n",
    "# THERE ARE NO DUPLICATES"
   ]
  },
  {
   "cell_type": "code",
   "execution_count": 13,
   "id": "8f1b7749",
   "metadata": {
    "execution": {
     "iopub.execute_input": "2023-05-10T02:53:16.981137Z",
     "iopub.status.busy": "2023-05-10T02:53:16.980994Z",
     "iopub.status.idle": "2023-05-10T02:53:16.993512Z",
     "shell.execute_reply": "2023-05-10T02:53:16.993132Z"
    }
   },
   "outputs": [
    {
     "name": "stdout",
     "output_type": "stream",
     "text": [
      "uu_id                         0\n",
      "timeperiod                    0\n",
      "week_number                   0\n",
      "countyfips                    0\n",
      "tract                         0\n",
      "tract_name                    0\n",
      "total_claims                  0\n",
      "edu_8th_or_less            2532\n",
      "edu_grades_9_11            9084\n",
      "edu_hs_grad_equiv          8895\n",
      "edu_post_hs               11305\n",
      "edu_unknown                3922\n",
      "top_category_employer1        0\n",
      "top_category_employer2        0\n",
      "top_category_employer3        0\n",
      "gender_female             10800\n",
      "gender_male               10703\n",
      "gender_na                   784\n",
      "race_amerindian            1275\n",
      "race_asian                 1552\n",
      "race_black                 8044\n",
      "race_noanswer              5469\n",
      "race_hawaiiannative         335\n",
      "race_other                 7213\n",
      "race_white                 8693\n",
      "dtype: int64\n",
      "uu_id           0\n",
      "countyfips      0\n",
      "tract           0\n",
      "tract_name      0\n",
      "average_wage    0\n",
      "dtype: int64\n"
     ]
    }
   ],
   "source": [
    "print(unemployment_claims_data.isna().sum())\n",
    "print(unemployment_wage_data.isna().sum())"
   ]
  },
  {
   "cell_type": "code",
   "execution_count": 14,
   "id": "0b6fe1b3",
   "metadata": {
    "execution": {
     "iopub.execute_input": "2023-05-10T02:53:16.995285Z",
     "iopub.status.busy": "2023-05-10T02:53:16.995145Z",
     "iopub.status.idle": "2023-05-10T02:53:17.006202Z",
     "shell.execute_reply": "2023-05-10T02:53:17.005919Z"
    }
   },
   "outputs": [],
   "source": [
    "unemployment_claims_data = unemployment_claims_data.fillna(0)\n",
    "unemployment_wage_data = unemployment_wage_data.fillna(0)"
   ]
  },
  {
   "cell_type": "code",
   "execution_count": 15,
   "id": "62246b98",
   "metadata": {
    "execution": {
     "iopub.execute_input": "2023-05-10T02:53:17.007757Z",
     "iopub.status.busy": "2023-05-10T02:53:17.007654Z",
     "iopub.status.idle": "2023-05-10T02:53:17.013831Z",
     "shell.execute_reply": "2023-05-10T02:53:17.013524Z"
    }
   },
   "outputs": [],
   "source": [
    "data = unemployment_claims_data.join(unemployment_wage_data.set_index('uu_id'), on='uu_id',  rsuffix='_other') # JOINING \n",
    "data = data.drop(['countyfips_other', 'tract_other','tract_name_other'], axis=1) # REMOVING REPEATED COLUMNS IN BOTH TABLES"
   ]
  },
  {
   "cell_type": "code",
   "execution_count": 16,
   "id": "da337117",
   "metadata": {
    "execution": {
     "iopub.execute_input": "2023-05-10T02:53:17.015502Z",
     "iopub.status.busy": "2023-05-10T02:53:17.015373Z",
     "iopub.status.idle": "2023-05-10T02:53:17.027878Z",
     "shell.execute_reply": "2023-05-10T02:53:17.027606Z"
    }
   },
   "outputs": [
    {
     "name": "stdout",
     "output_type": "stream",
     "text": [
      "(13977, 22)\n"
     ]
    },
    {
     "data": {
      "text/html": [
       "<div>\n",
       "<style scoped>\n",
       "    .dataframe tbody tr th:only-of-type {\n",
       "        vertical-align: middle;\n",
       "    }\n",
       "\n",
       "    .dataframe tbody tr th {\n",
       "        vertical-align: top;\n",
       "    }\n",
       "\n",
       "    .dataframe thead th {\n",
       "        text-align: right;\n",
       "    }\n",
       "</style>\n",
       "<table border=\"1\" class=\"dataframe\">\n",
       "  <thead>\n",
       "    <tr style=\"text-align: right;\">\n",
       "      <th></th>\n",
       "      <th>uu_id</th>\n",
       "      <th>timeperiod</th>\n",
       "      <th>week_number</th>\n",
       "      <th>countyfips</th>\n",
       "      <th>tract</th>\n",
       "      <th>total_claims</th>\n",
       "      <th>edu_8th_or_less</th>\n",
       "      <th>edu_grades_9_11</th>\n",
       "      <th>edu_hs_grad_equiv</th>\n",
       "      <th>edu_post_hs</th>\n",
       "      <th>...</th>\n",
       "      <th>gender_male</th>\n",
       "      <th>gender_na</th>\n",
       "      <th>race_amerindian</th>\n",
       "      <th>race_asian</th>\n",
       "      <th>race_black</th>\n",
       "      <th>race_noanswer</th>\n",
       "      <th>race_hawaiiannative</th>\n",
       "      <th>race_other</th>\n",
       "      <th>race_white</th>\n",
       "      <th>average_wage</th>\n",
       "    </tr>\n",
       "  </thead>\n",
       "  <tbody>\n",
       "    <tr>\n",
       "      <th>16823</th>\n",
       "      <td>1ec881fbb0021331b2b29c95049284fb</td>\n",
       "      <td>20220910</td>\n",
       "      <td>37</td>\n",
       "      <td>18097</td>\n",
       "      <td>360201</td>\n",
       "      <td>30</td>\n",
       "      <td>0</td>\n",
       "      <td>0</td>\n",
       "      <td>20</td>\n",
       "      <td>0</td>\n",
       "      <td>...</td>\n",
       "      <td>20</td>\n",
       "      <td>0</td>\n",
       "      <td>0</td>\n",
       "      <td>0</td>\n",
       "      <td>25</td>\n",
       "      <td>0</td>\n",
       "      <td>0</td>\n",
       "      <td>0</td>\n",
       "      <td>0</td>\n",
       "      <td>10851.090909</td>\n",
       "    </tr>\n",
       "    <tr>\n",
       "      <th>16825</th>\n",
       "      <td>7f9c903be0e820137bd63ee9e9a97af8</td>\n",
       "      <td>20220910</td>\n",
       "      <td>37</td>\n",
       "      <td>18097</td>\n",
       "      <td>380403</td>\n",
       "      <td>14</td>\n",
       "      <td>0</td>\n",
       "      <td>0</td>\n",
       "      <td>0</td>\n",
       "      <td>0</td>\n",
       "      <td>...</td>\n",
       "      <td>0</td>\n",
       "      <td>0</td>\n",
       "      <td>0</td>\n",
       "      <td>0</td>\n",
       "      <td>0</td>\n",
       "      <td>0</td>\n",
       "      <td>0</td>\n",
       "      <td>0</td>\n",
       "      <td>0</td>\n",
       "      <td>10175.769231</td>\n",
       "    </tr>\n",
       "    <tr>\n",
       "      <th>16827</th>\n",
       "      <td>447d5984bb8a8179bff002ccd1bba162</td>\n",
       "      <td>20220910</td>\n",
       "      <td>37</td>\n",
       "      <td>18081</td>\n",
       "      <td>610802</td>\n",
       "      <td>10</td>\n",
       "      <td>0</td>\n",
       "      <td>0</td>\n",
       "      <td>0</td>\n",
       "      <td>0</td>\n",
       "      <td>...</td>\n",
       "      <td>0</td>\n",
       "      <td>0</td>\n",
       "      <td>0</td>\n",
       "      <td>0</td>\n",
       "      <td>0</td>\n",
       "      <td>0</td>\n",
       "      <td>0</td>\n",
       "      <td>0</td>\n",
       "      <td>0</td>\n",
       "      <td>13225.250000</td>\n",
       "    </tr>\n",
       "    <tr>\n",
       "      <th>16829</th>\n",
       "      <td>7dd5fff353cd08adc694aa74d7fa31af</td>\n",
       "      <td>20220910</td>\n",
       "      <td>37</td>\n",
       "      <td>18063</td>\n",
       "      <td>210202</td>\n",
       "      <td>13</td>\n",
       "      <td>0</td>\n",
       "      <td>0</td>\n",
       "      <td>0</td>\n",
       "      <td>0</td>\n",
       "      <td>...</td>\n",
       "      <td>0</td>\n",
       "      <td>0</td>\n",
       "      <td>0</td>\n",
       "      <td>0</td>\n",
       "      <td>0</td>\n",
       "      <td>0</td>\n",
       "      <td>0</td>\n",
       "      <td>0</td>\n",
       "      <td>13</td>\n",
       "      <td>10836.181818</td>\n",
       "    </tr>\n",
       "    <tr>\n",
       "      <th>16831</th>\n",
       "      <td>06c78e49b4daedfeb808c42e58fb25e4</td>\n",
       "      <td>20220910</td>\n",
       "      <td>37</td>\n",
       "      <td>18063</td>\n",
       "      <td>210603</td>\n",
       "      <td>11</td>\n",
       "      <td>0</td>\n",
       "      <td>0</td>\n",
       "      <td>0</td>\n",
       "      <td>0</td>\n",
       "      <td>...</td>\n",
       "      <td>0</td>\n",
       "      <td>0</td>\n",
       "      <td>0</td>\n",
       "      <td>0</td>\n",
       "      <td>0</td>\n",
       "      <td>0</td>\n",
       "      <td>0</td>\n",
       "      <td>0</td>\n",
       "      <td>0</td>\n",
       "      <td>14976.000000</td>\n",
       "    </tr>\n",
       "  </tbody>\n",
       "</table>\n",
       "<p>5 rows × 22 columns</p>\n",
       "</div>"
      ],
      "text/plain": [
       "                                  uu_id  timeperiod  week_number  countyfips  \\\n",
       "16823  1ec881fbb0021331b2b29c95049284fb    20220910           37       18097   \n",
       "16825  7f9c903be0e820137bd63ee9e9a97af8    20220910           37       18097   \n",
       "16827  447d5984bb8a8179bff002ccd1bba162    20220910           37       18081   \n",
       "16829  7dd5fff353cd08adc694aa74d7fa31af    20220910           37       18063   \n",
       "16831  06c78e49b4daedfeb808c42e58fb25e4    20220910           37       18063   \n",
       "\n",
       "        tract  total_claims  edu_8th_or_less  edu_grades_9_11  \\\n",
       "16823  360201            30                0                0   \n",
       "16825  380403            14                0                0   \n",
       "16827  610802            10                0                0   \n",
       "16829  210202            13                0                0   \n",
       "16831  210603            11                0                0   \n",
       "\n",
       "       edu_hs_grad_equiv  edu_post_hs  ...  gender_male  gender_na  \\\n",
       "16823                 20            0  ...           20          0   \n",
       "16825                  0            0  ...            0          0   \n",
       "16827                  0            0  ...            0          0   \n",
       "16829                  0            0  ...            0          0   \n",
       "16831                  0            0  ...            0          0   \n",
       "\n",
       "       race_amerindian  race_asian  race_black  race_noanswer  \\\n",
       "16823                0           0          25              0   \n",
       "16825                0           0           0              0   \n",
       "16827                0           0           0              0   \n",
       "16829                0           0           0              0   \n",
       "16831                0           0           0              0   \n",
       "\n",
       "       race_hawaiiannative  race_other  race_white  average_wage  \n",
       "16823                    0           0           0  10851.090909  \n",
       "16825                    0           0           0  10175.769231  \n",
       "16827                    0           0           0  13225.250000  \n",
       "16829                    0           0          13  10836.181818  \n",
       "16831                    0           0           0  14976.000000  \n",
       "\n",
       "[5 rows x 22 columns]"
      ]
     },
     "metadata": {},
     "output_type": "display_data"
    }
   ],
   "source": [
    "data = data.drop(['tract_name', 'top_category_employer1', 'top_category_employer2',\n",
    "                  'top_category_employer3'], axis=1)\n",
    "print(data.shape)\n",
    "display(data.tail(n=5))"
   ]
  },
  {
   "cell_type": "code",
   "execution_count": 17,
   "id": "53c0a2fc",
   "metadata": {
    "execution": {
     "iopub.execute_input": "2023-05-10T02:53:17.029384Z",
     "iopub.status.busy": "2023-05-10T02:53:17.029282Z",
     "iopub.status.idle": "2023-05-10T02:53:17.553612Z",
     "shell.execute_reply": "2023-05-10T02:53:17.553339Z"
    }
   },
   "outputs": [
    {
     "name": "stderr",
     "output_type": "stream",
     "text": [
      "/var/folders/l2/cnhff0_n1470l4xf0p7v7l_40000gn/T/ipykernel_19200/4266320550.py:2: FutureWarning: The default value of numeric_only in DataFrame.corr is deprecated. In a future version, it will default to False. Select only valid columns or specify the value of numeric_only to silence this warning.\n",
      "  cor = data.corr().round(2)\n"
     ]
    },
    {
     "data": {
      "image/png": "[encoded data removed]",
      "text/plain": [
       "<Figure size 800x600 with 2 Axes>"
      ]
     },
     "metadata": {},
     "output_type": "display_data"
    }
   ],
   "source": [
    "plt.figure(figsize=(8,6))\n",
    "cor = data.corr().round(2)\n",
    "sns.heatmap(cor, annot=True, cmap=plt.cm.Reds, annot_kws={\"size\": 6})\n",
    "plt.show()"
   ]
  },
  {
   "cell_type": "code",
   "execution_count": 18,
   "id": "3c3c50eb",
   "metadata": {
    "execution": {
     "iopub.execute_input": "2023-05-10T02:53:17.555799Z",
     "iopub.status.busy": "2023-05-10T02:53:17.555707Z",
     "iopub.status.idle": "2023-05-10T02:53:17.558007Z",
     "shell.execute_reply": "2023-05-10T02:53:17.557759Z"
    }
   },
   "outputs": [],
   "source": [
    "data = data.drop(['uu_id','timeperiod'], axis=1)"
   ]
  },
  {
   "cell_type": "code",
   "execution_count": 19,
   "id": "cca98175",
   "metadata": {
    "execution": {
     "iopub.execute_input": "2023-05-10T02:53:17.559446Z",
     "iopub.status.busy": "2023-05-10T02:53:17.559351Z",
     "iopub.status.idle": "2023-05-10T02:53:17.561425Z",
     "shell.execute_reply": "2023-05-10T02:53:17.561155Z"
    }
   },
   "outputs": [],
   "source": [
    "y = np.array(data['total_claims'].values).reshape(-1,1)"
   ]
  },
  {
   "cell_type": "code",
   "execution_count": 20,
   "id": "3a560778",
   "metadata": {
    "execution": {
     "iopub.execute_input": "2023-05-10T02:53:17.562765Z",
     "iopub.status.busy": "2023-05-10T02:53:17.562672Z",
     "iopub.status.idle": "2023-05-10T02:53:17.568253Z",
     "shell.execute_reply": "2023-05-10T02:53:17.567955Z"
    }
   },
   "outputs": [],
   "source": [
    "data = data.drop(['total_claims'], axis=1)\n",
    "X = data.values"
   ]
  },
  {
   "cell_type": "code",
   "execution_count": 21,
   "id": "dc60478d",
   "metadata": {
    "execution": {
     "iopub.execute_input": "2023-05-10T02:53:17.569704Z",
     "iopub.status.busy": "2023-05-10T02:53:17.569616Z",
     "iopub.status.idle": "2023-05-10T02:53:17.573124Z",
     "shell.execute_reply": "2023-05-10T02:53:17.572863Z"
    }
   },
   "outputs": [
    {
     "name": "stdout",
     "output_type": "stream",
     "text": [
      "Training Features Shape: (11181, 19)\n",
      "Testing Features Shape: (2796, 19)\n",
      "Training Labels Shape: (11181, 1)\n",
      "Testing Labels Shape: (2796, 1)\n"
     ]
    }
   ],
   "source": [
    "X_train, X_test, y_train, y_test = train_test_split(X, y, test_size=0.2, random_state=0)\n",
    "print(f'Training Features Shape: {X_train.shape}')\n",
    "print(f'Testing Features Shape: {X_test.shape}')\n",
    "print(f'Training Labels Shape: {y_train.shape}')\n",
    "print(f'Testing Labels Shape: {y_test.shape}')"
   ]
  },
  {
   "cell_type": "code",
   "execution_count": 22,
   "id": "b64999b4",
   "metadata": {
    "execution": {
     "iopub.execute_input": "2023-05-10T02:53:17.574491Z",
     "iopub.status.busy": "2023-05-10T02:53:17.574413Z",
     "iopub.status.idle": "2023-05-10T02:53:17.585316Z",
     "shell.execute_reply": "2023-05-10T02:53:17.585047Z"
    }
   },
   "outputs": [
    {
     "name": "stdout",
     "output_type": "stream",
     "text": [
      "[-35.26931273]\n",
      "[[-1.22283925e-03  2.69316416e-03 -4.69568365e-07  5.86020942e-01\n",
      "   6.32881163e-01  5.10283623e-01  4.94158541e-01  6.68495665e-01\n",
      "   1.61705948e-01  1.95442303e-01  2.23485955e-01 -4.57243957e-03\n",
      "   3.18155841e-01  2.65015149e-01  3.23418086e-01 -1.33226763e-15\n",
      "   3.74661880e-01  1.97184023e-01 -7.41196437e-06]]\n"
     ]
    }
   ],
   "source": [
    "regressor = LinearRegression()  \n",
    "regressor.fit(X_train, y_train)\n",
    "print(regressor.intercept_)\n",
    "print(regressor.coef_)"
   ]
  },
  {
   "cell_type": "code",
   "execution_count": 23,
   "id": "e11b8db4",
   "metadata": {
    "execution": {
     "iopub.execute_input": "2023-05-10T02:53:17.587478Z",
     "iopub.status.busy": "2023-05-10T02:53:17.587366Z",
     "iopub.status.idle": "2023-05-10T02:53:17.593164Z",
     "shell.execute_reply": "2023-05-10T02:53:17.592408Z"
    }
   },
   "outputs": [],
   "source": [
    "y_pred = regressor.predict(X_test)"
   ]
  },
  {
   "cell_type": "code",
   "execution_count": 24,
   "id": "6fa4a2fd",
   "metadata": {
    "execution": {
     "iopub.execute_input": "2023-05-10T02:53:17.598196Z",
     "iopub.status.busy": "2023-05-10T02:53:17.597777Z",
     "iopub.status.idle": "2023-05-10T02:53:17.749826Z",
     "shell.execute_reply": "2023-05-10T02:53:17.748313Z"
    }
   },
   "outputs": [
    {
     "data": {
      "image/png": "[encoded data removed]",
      "text/plain": [
       "<Figure size 640x480 with 1 Axes>"
      ]
     },
     "metadata": {},
     "output_type": "display_data"
    }
   ],
   "source": [
    "plt.scatter(y_test, y_pred,  color='gray')\n",
    "plt.show()"
   ]
  },
  {
   "cell_type": "code",
   "execution_count": 25,
   "id": "39e726b5",
   "metadata": {
    "execution": {
     "iopub.execute_input": "2023-05-10T02:53:17.754022Z",
     "iopub.status.busy": "2023-05-10T02:53:17.753372Z",
     "iopub.status.idle": "2023-05-10T02:53:17.759844Z",
     "shell.execute_reply": "2023-05-10T02:53:17.759118Z"
    }
   },
   "outputs": [
    {
     "data": {
      "text/plain": [
       "0.15931644849722298"
      ]
     },
     "execution_count": 25,
     "metadata": {},
     "output_type": "execute_result"
    }
   ],
   "source": [
    "metrics.mean_absolute_percentage_error(y_test, y_pred)"
   ]
  },
  {
   "cell_type": "code",
   "execution_count": 26,
   "id": "216a4f67",
   "metadata": {
    "execution": {
     "iopub.execute_input": "2023-05-10T02:53:17.763781Z",
     "iopub.status.busy": "2023-05-10T02:53:17.763410Z",
     "iopub.status.idle": "2023-05-10T02:53:17.767731Z",
     "shell.execute_reply": "2023-05-10T02:53:17.766697Z"
    }
   },
   "outputs": [],
   "source": [
    "prediction_query = \"\"\"\n",
    "SELECT *\n",
    "FROM `ironhacks-data.ironhacks_competition.prediction_list`\n",
    "\"\"\""
   ]
  },
  {
   "cell_type": "code",
   "execution_count": 27,
   "id": "2542d8f4",
   "metadata": {
    "execution": {
     "iopub.execute_input": "2023-05-10T02:53:17.771200Z",
     "iopub.status.busy": "2023-05-10T02:53:17.770915Z",
     "iopub.status.idle": "2023-05-10T02:53:19.359146Z",
     "shell.execute_reply": "2023-05-10T02:53:19.358465Z"
    }
   },
   "outputs": [
    {
     "name": "stdout",
     "output_type": "stream",
     "text": [
      "(525, 2)\n"
     ]
    },
    {
     "data": {
      "text/html": [
       "<div>\n",
       "<style scoped>\n",
       "    .dataframe tbody tr th:only-of-type {\n",
       "        vertical-align: middle;\n",
       "    }\n",
       "\n",
       "    .dataframe tbody tr th {\n",
       "        vertical-align: top;\n",
       "    }\n",
       "\n",
       "    .dataframe thead th {\n",
       "        text-align: right;\n",
       "    }\n",
       "</style>\n",
       "<table border=\"1\" class=\"dataframe\">\n",
       "  <thead>\n",
       "    <tr style=\"text-align: right;\">\n",
       "      <th></th>\n",
       "      <th>uu_id</th>\n",
       "      <th>week_number</th>\n",
       "    </tr>\n",
       "  </thead>\n",
       "  <tbody>\n",
       "    <tr>\n",
       "      <th>0</th>\n",
       "      <td>5bf51fc2e162d6faf9e3cf79e4198378</td>\n",
       "      <td>44</td>\n",
       "    </tr>\n",
       "    <tr>\n",
       "      <th>1</th>\n",
       "      <td>420b44cc7e3f55d738df565421e59941</td>\n",
       "      <td>44</td>\n",
       "    </tr>\n",
       "    <tr>\n",
       "      <th>2</th>\n",
       "      <td>e39c66ecceec76ee8f9f811fa4a2d246</td>\n",
       "      <td>44</td>\n",
       "    </tr>\n",
       "    <tr>\n",
       "      <th>3</th>\n",
       "      <td>a90462cd11ae4e43144239bf7c4828a4</td>\n",
       "      <td>44</td>\n",
       "    </tr>\n",
       "    <tr>\n",
       "      <th>4</th>\n",
       "      <td>8b20a6749088c7ff1237983076ebfeaa</td>\n",
       "      <td>44</td>\n",
       "    </tr>\n",
       "  </tbody>\n",
       "</table>\n",
       "</div>"
      ],
      "text/plain": [
       "                              uu_id  week_number\n",
       "0  5bf51fc2e162d6faf9e3cf79e4198378           44\n",
       "1  420b44cc7e3f55d738df565421e59941           44\n",
       "2  e39c66ecceec76ee8f9f811fa4a2d246           44\n",
       "3  a90462cd11ae4e43144239bf7c4828a4           44\n",
       "4  8b20a6749088c7ff1237983076ebfeaa           44"
      ]
     },
     "metadata": {},
     "output_type": "display_data"
    }
   ],
   "source": [
    "unemployment_prediction_data = query_from_statement(prediction_query)\n",
    "print(unemployment_prediction_data.shape)\n",
    "display(unemployment_prediction_data.head(n=5))"
   ]
  },
  {
   "cell_type": "code",
   "execution_count": 28,
   "id": "10f45586",
   "metadata": {
    "execution": {
     "iopub.execute_input": "2023-05-10T02:53:19.363899Z",
     "iopub.status.busy": "2023-05-10T02:53:19.363319Z",
     "iopub.status.idle": "2023-05-10T02:53:19.367760Z",
     "shell.execute_reply": "2023-05-10T02:53:19.366898Z"
    }
   },
   "outputs": [],
   "source": [
    "unemployclaims_supplemental_query = \"\"\"\n",
    "SELECT *\n",
    "FROM `ironhacks-data.ironhacks_competition.unemployment_data`\n",
    "Where week_number between 1 and 37\n",
    "order by week_number\n",
    "\"\"\""
   ]
  },
  {
   "cell_type": "code",
   "execution_count": 29,
   "id": "77d3d78c",
   "metadata": {
    "execution": {
     "iopub.execute_input": "2023-05-10T02:53:19.371989Z",
     "iopub.status.busy": "2023-05-10T02:53:19.371585Z",
     "iopub.status.idle": "2023-05-10T02:53:20.697952Z",
     "shell.execute_reply": "2023-05-10T02:53:20.697285Z"
    }
   },
   "outputs": [],
   "source": [
    "unemployclaims_supplemental_data = query_from_statement(unemployclaims_supplemental_query)"
   ]
  },
  {
   "cell_type": "code",
   "execution_count": 30,
   "id": "4815dacf",
   "metadata": {
    "execution": {
     "iopub.execute_input": "2023-05-10T02:53:20.701378Z",
     "iopub.status.busy": "2023-05-10T02:53:20.700966Z",
     "iopub.status.idle": "2023-05-10T02:53:20.706970Z",
     "shell.execute_reply": "2023-05-10T02:53:20.706430Z"
    }
   },
   "outputs": [],
   "source": [
    "# APPLYING ALL TRANSFORMATIONS TO THE LATEST WEEK ONLY DATAFRAME\n",
    "unemployclaims_supplemental_data = unemployclaims_supplemental_data.drop_duplicates(subset=['uu_id'], keep='last')"
   ]
  },
  {
   "cell_type": "code",
   "execution_count": 31,
   "id": "411ae076",
   "metadata": {
    "execution": {
     "iopub.execute_input": "2023-05-10T02:53:20.710156Z",
     "iopub.status.busy": "2023-05-10T02:53:20.709699Z",
     "iopub.status.idle": "2023-05-10T02:53:20.719179Z",
     "shell.execute_reply": "2023-05-10T02:53:20.718222Z"
    }
   },
   "outputs": [],
   "source": [
    "unemployclaims_supplemental_data = unemployclaims_supplemental_data.join(unemployment_wage_data.set_index('uu_id'), on='uu_id',  rsuffix='_other') # JOINING\n",
    "unemployclaims_supplemental_data = unemployclaims_supplemental_data.drop(['countyfips_other', 'tract_other','tract_name_other'], axis=1) # REMOVING REPEATED COLUMNS IN BOTH TABLES\n",
    "unemployclaims_supplemental_data = unemployclaims_supplemental_data.drop(['tract_name', 'top_category_employer1', 'top_category_employer2', 'top_category_employer3'], axis=1)\n",
    "unemployclaims_supplemental_data = unemployclaims_supplemental_data.drop(['timeperiod'], axis=1)\n",
    "unemployclaims_supplemental_data = unemployclaims_supplemental_data.drop(['total_claims'], axis=1)"
   ]
  },
  {
   "cell_type": "code",
   "execution_count": 32,
   "id": "b90fe26d",
   "metadata": {
    "execution": {
     "iopub.execute_input": "2023-05-10T02:53:20.723134Z",
     "iopub.status.busy": "2023-05-10T02:53:20.722879Z",
     "iopub.status.idle": "2023-05-10T02:53:20.727743Z",
     "shell.execute_reply": "2023-05-10T02:53:20.727209Z"
    }
   },
   "outputs": [],
   "source": [
    "unemployclaims_supplemental_data = unemployclaims_supplemental_data.fillna(0)"
   ]
  },
  {
   "cell_type": "code",
   "execution_count": 33,
   "id": "9e882dbe",
   "metadata": {
    "execution": {
     "iopub.execute_input": "2023-05-10T02:53:20.730269Z",
     "iopub.status.busy": "2023-05-10T02:53:20.730053Z",
     "iopub.status.idle": "2023-05-10T02:53:20.742995Z",
     "shell.execute_reply": "2023-05-10T02:53:20.742506Z"
    }
   },
   "outputs": [
    {
     "name": "stdout",
     "output_type": "stream",
     "text": [
      "(525, 20)\n"
     ]
    },
    {
     "data": {
      "text/html": [
       "<div>\n",
       "<style scoped>\n",
       "    .dataframe tbody tr th:only-of-type {\n",
       "        vertical-align: middle;\n",
       "    }\n",
       "\n",
       "    .dataframe tbody tr th {\n",
       "        vertical-align: top;\n",
       "    }\n",
       "\n",
       "    .dataframe thead th {\n",
       "        text-align: right;\n",
       "    }\n",
       "</style>\n",
       "<table border=\"1\" class=\"dataframe\">\n",
       "  <thead>\n",
       "    <tr style=\"text-align: right;\">\n",
       "      <th></th>\n",
       "      <th>uu_id</th>\n",
       "      <th>week_number</th>\n",
       "      <th>countyfips</th>\n",
       "      <th>tract</th>\n",
       "      <th>edu_8th_or_less</th>\n",
       "      <th>edu_grades_9_11</th>\n",
       "      <th>edu_hs_grad_equiv</th>\n",
       "      <th>edu_post_hs</th>\n",
       "      <th>edu_unknown</th>\n",
       "      <th>gender_female</th>\n",
       "      <th>gender_male</th>\n",
       "      <th>gender_na</th>\n",
       "      <th>race_amerindian</th>\n",
       "      <th>race_asian</th>\n",
       "      <th>race_black</th>\n",
       "      <th>race_noanswer</th>\n",
       "      <th>race_hawaiiannative</th>\n",
       "      <th>race_other</th>\n",
       "      <th>race_white</th>\n",
       "      <th>average_wage</th>\n",
       "    </tr>\n",
       "  </thead>\n",
       "  <tbody>\n",
       "    <tr>\n",
       "      <th>5793</th>\n",
       "      <td>420b44cc7e3f55d738df565421e59941</td>\n",
       "      <td>15</td>\n",
       "      <td>18043</td>\n",
       "      <td>70400</td>\n",
       "      <td>0</td>\n",
       "      <td>0</td>\n",
       "      <td>0</td>\n",
       "      <td>0</td>\n",
       "      <td>0</td>\n",
       "      <td>0</td>\n",
       "      <td>0</td>\n",
       "      <td>0</td>\n",
       "      <td>0</td>\n",
       "      <td>0</td>\n",
       "      <td>0</td>\n",
       "      <td>0</td>\n",
       "      <td>0</td>\n",
       "      <td>0</td>\n",
       "      <td>0</td>\n",
       "      <td>9019.666667</td>\n",
       "    </tr>\n",
       "    <tr>\n",
       "      <th>9226</th>\n",
       "      <td>aef08e5cd6bbf488ae574e9462f3e47b</td>\n",
       "      <td>25</td>\n",
       "      <td>18089</td>\n",
       "      <td>42704</td>\n",
       "      <td>0</td>\n",
       "      <td>0</td>\n",
       "      <td>0</td>\n",
       "      <td>0</td>\n",
       "      <td>0</td>\n",
       "      <td>0</td>\n",
       "      <td>0</td>\n",
       "      <td>0</td>\n",
       "      <td>0</td>\n",
       "      <td>0</td>\n",
       "      <td>0</td>\n",
       "      <td>0</td>\n",
       "      <td>0</td>\n",
       "      <td>0</td>\n",
       "      <td>0</td>\n",
       "      <td>8861.000000</td>\n",
       "    </tr>\n",
       "    <tr>\n",
       "      <th>9576</th>\n",
       "      <td>38e264ca88c300dc19938de0abc88ec4</td>\n",
       "      <td>26</td>\n",
       "      <td>18019</td>\n",
       "      <td>50701</td>\n",
       "      <td>0</td>\n",
       "      <td>0</td>\n",
       "      <td>0</td>\n",
       "      <td>0</td>\n",
       "      <td>0</td>\n",
       "      <td>0</td>\n",
       "      <td>0</td>\n",
       "      <td>0</td>\n",
       "      <td>0</td>\n",
       "      <td>0</td>\n",
       "      <td>0</td>\n",
       "      <td>0</td>\n",
       "      <td>0</td>\n",
       "      <td>0</td>\n",
       "      <td>0</td>\n",
       "      <td>19289.000000</td>\n",
       "    </tr>\n",
       "    <tr>\n",
       "      <th>9768</th>\n",
       "      <td>dfa86215568c869a2e94ce3e5fcf1661</td>\n",
       "      <td>27</td>\n",
       "      <td>18063</td>\n",
       "      <td>210900</td>\n",
       "      <td>0</td>\n",
       "      <td>0</td>\n",
       "      <td>0</td>\n",
       "      <td>0</td>\n",
       "      <td>0</td>\n",
       "      <td>0</td>\n",
       "      <td>0</td>\n",
       "      <td>0</td>\n",
       "      <td>0</td>\n",
       "      <td>0</td>\n",
       "      <td>0</td>\n",
       "      <td>0</td>\n",
       "      <td>0</td>\n",
       "      <td>0</td>\n",
       "      <td>0</td>\n",
       "      <td>5426.250000</td>\n",
       "    </tr>\n",
       "    <tr>\n",
       "      <th>9849</th>\n",
       "      <td>2ce8c1fbabbed69343d1af45e99c4839</td>\n",
       "      <td>27</td>\n",
       "      <td>18023</td>\n",
       "      <td>950200</td>\n",
       "      <td>0</td>\n",
       "      <td>0</td>\n",
       "      <td>0</td>\n",
       "      <td>0</td>\n",
       "      <td>0</td>\n",
       "      <td>0</td>\n",
       "      <td>0</td>\n",
       "      <td>0</td>\n",
       "      <td>0</td>\n",
       "      <td>0</td>\n",
       "      <td>0</td>\n",
       "      <td>0</td>\n",
       "      <td>0</td>\n",
       "      <td>0</td>\n",
       "      <td>12</td>\n",
       "      <td>11884.333333</td>\n",
       "    </tr>\n",
       "  </tbody>\n",
       "</table>\n",
       "</div>"
      ],
      "text/plain": [
       "                                 uu_id  week_number  countyfips   tract  \\\n",
       "5793  420b44cc7e3f55d738df565421e59941           15       18043   70400   \n",
       "9226  aef08e5cd6bbf488ae574e9462f3e47b           25       18089   42704   \n",
       "9576  38e264ca88c300dc19938de0abc88ec4           26       18019   50701   \n",
       "9768  dfa86215568c869a2e94ce3e5fcf1661           27       18063  210900   \n",
       "9849  2ce8c1fbabbed69343d1af45e99c4839           27       18023  950200   \n",
       "\n",
       "      edu_8th_or_less  edu_grades_9_11  edu_hs_grad_equiv  edu_post_hs  \\\n",
       "5793                0                0                  0            0   \n",
       "9226                0                0                  0            0   \n",
       "9576                0                0                  0            0   \n",
       "9768                0                0                  0            0   \n",
       "9849                0                0                  0            0   \n",
       "\n",
       "      edu_unknown  gender_female  gender_male  gender_na  race_amerindian  \\\n",
       "5793            0              0            0          0                0   \n",
       "9226            0              0            0          0                0   \n",
       "9576            0              0            0          0                0   \n",
       "9768            0              0            0          0                0   \n",
       "9849            0              0            0          0                0   \n",
       "\n",
       "      race_asian  race_black  race_noanswer  race_hawaiiannative  race_other  \\\n",
       "5793           0           0              0                    0           0   \n",
       "9226           0           0              0                    0           0   \n",
       "9576           0           0              0                    0           0   \n",
       "9768           0           0              0                    0           0   \n",
       "9849           0           0              0                    0           0   \n",
       "\n",
       "      race_white  average_wage  \n",
       "5793           0   9019.666667  \n",
       "9226           0   8861.000000  \n",
       "9576           0  19289.000000  \n",
       "9768           0   5426.250000  \n",
       "9849          12  11884.333333  "
      ]
     },
     "metadata": {},
     "output_type": "display_data"
    }
   ],
   "source": [
    "print(unemployclaims_supplemental_data.shape)\n",
    "display(unemployclaims_supplemental_data.head(n=5))"
   ]
  },
  {
   "cell_type": "code",
   "execution_count": 34,
   "id": "8bca2518",
   "metadata": {
    "execution": {
     "iopub.execute_input": "2023-05-10T02:53:20.745503Z",
     "iopub.status.busy": "2023-05-10T02:53:20.745319Z",
     "iopub.status.idle": "2023-05-10T02:53:20.751346Z",
     "shell.execute_reply": "2023-05-10T02:53:20.750992Z"
    }
   },
   "outputs": [
    {
     "name": "stdout",
     "output_type": "stream",
     "text": [
      "(525, 19)\n"
     ]
    }
   ],
   "source": [
    "final_prediction_data = unemployment_prediction_data.join(unemployclaims_supplemental_data.set_index('uu_id'), on='uu_id',  rsuffix='_other') # JOINING\n",
    "final_prediction_data = final_prediction_data.drop(['uu_id', 'week_number_other'], axis=1)\n",
    "print(final_prediction_data.shape)"
   ]
  },
  {
   "cell_type": "code",
   "execution_count": 35,
   "id": "7ce6ba0f",
   "metadata": {
    "execution": {
     "iopub.execute_input": "2023-05-10T02:53:20.753269Z",
     "iopub.status.busy": "2023-05-10T02:53:20.753119Z",
     "iopub.status.idle": "2023-05-10T02:53:20.768795Z",
     "shell.execute_reply": "2023-05-10T02:53:20.768485Z"
    }
   },
   "outputs": [
    {
     "name": "stdout",
     "output_type": "stream",
     "text": [
      "[-41.39462189]\n",
      "[[-5.12364419e-03  3.03800474e-03 -5.01349894e-07  5.95519055e-01\n",
      "   6.36126746e-01  5.12920241e-01  4.99500873e-01  6.74193663e-01\n",
      "   1.63003984e-01  1.95331329e-01  2.24198554e-01  3.62074727e-02\n",
      "   5.04750001e-01  2.55214249e-01  3.38748011e-01  0.00000000e+00\n",
      "   3.74923562e-01  1.92725327e-01 -9.44606555e-06]]\n"
     ]
    }
   ],
   "source": [
    "future_regressor = LinearRegression()  \n",
    "future_regressor.fit(X, y)\n",
    "print(future_regressor.intercept_)\n",
    "print(future_regressor.coef_)"
   ]
  },
  {
   "cell_type": "code",
   "execution_count": 36,
   "id": "bcfad413",
   "metadata": {
    "execution": {
     "iopub.execute_input": "2023-05-10T02:53:20.770306Z",
     "iopub.status.busy": "2023-05-10T02:53:20.770213Z",
     "iopub.status.idle": "2023-05-10T02:53:20.775173Z",
     "shell.execute_reply": "2023-05-10T02:53:20.774377Z"
    }
   },
   "outputs": [
    {
     "name": "stdout",
     "output_type": "stream",
     "text": [
      "(525, 1)\n"
     ]
    }
   ],
   "source": [
    "future = final_prediction_data.values\n",
    "future_weeks_pred = future_regressor.predict(future)\n",
    "print(future_weeks_pred.shape)"
   ]
  },
  {
   "cell_type": "code",
   "execution_count": 37,
   "id": "457dd379",
   "metadata": {
    "execution": {
     "iopub.execute_input": "2023-05-10T02:53:20.779737Z",
     "iopub.status.busy": "2023-05-10T02:53:20.779325Z",
     "iopub.status.idle": "2023-05-10T02:53:20.805421Z",
     "shell.execute_reply": "2023-05-10T02:53:20.804318Z"
    }
   },
   "outputs": [
    {
     "data": {
      "text/html": [
       "<div>\n",
       "<style scoped>\n",
       "    .dataframe tbody tr th:only-of-type {\n",
       "        vertical-align: middle;\n",
       "    }\n",
       "\n",
       "    .dataframe tbody tr th {\n",
       "        vertical-align: top;\n",
       "    }\n",
       "\n",
       "    .dataframe thead th {\n",
       "        text-align: right;\n",
       "    }\n",
       "</style>\n",
       "<table border=\"1\" class=\"dataframe\">\n",
       "  <thead>\n",
       "    <tr style=\"text-align: right;\">\n",
       "      <th></th>\n",
       "      <th>uu_id</th>\n",
       "      <th>week_number</th>\n",
       "      <th>total_claims</th>\n",
       "    </tr>\n",
       "  </thead>\n",
       "  <tbody>\n",
       "    <tr>\n",
       "      <th>0</th>\n",
       "      <td>5bf51fc2e162d6faf9e3cf79e4198378</td>\n",
       "      <td>44</td>\n",
       "      <td>12</td>\n",
       "    </tr>\n",
       "    <tr>\n",
       "      <th>1</th>\n",
       "      <td>420b44cc7e3f55d738df565421e59941</td>\n",
       "      <td>44</td>\n",
       "      <td>13</td>\n",
       "    </tr>\n",
       "    <tr>\n",
       "      <th>2</th>\n",
       "      <td>e39c66ecceec76ee8f9f811fa4a2d246</td>\n",
       "      <td>44</td>\n",
       "      <td>13</td>\n",
       "    </tr>\n",
       "    <tr>\n",
       "      <th>3</th>\n",
       "      <td>a90462cd11ae4e43144239bf7c4828a4</td>\n",
       "      <td>44</td>\n",
       "      <td>15</td>\n",
       "    </tr>\n",
       "    <tr>\n",
       "      <th>4</th>\n",
       "      <td>8b20a6749088c7ff1237983076ebfeaa</td>\n",
       "      <td>44</td>\n",
       "      <td>15</td>\n",
       "    </tr>\n",
       "    <tr>\n",
       "      <th>...</th>\n",
       "      <td>...</td>\n",
       "      <td>...</td>\n",
       "      <td>...</td>\n",
       "    </tr>\n",
       "    <tr>\n",
       "      <th>520</th>\n",
       "      <td>46c4f6c75e663b1ca82ea7994e6d83d3</td>\n",
       "      <td>44</td>\n",
       "      <td>35</td>\n",
       "    </tr>\n",
       "    <tr>\n",
       "      <th>521</th>\n",
       "      <td>1deebda501712e7595b531b8337bc31a</td>\n",
       "      <td>44</td>\n",
       "      <td>21</td>\n",
       "    </tr>\n",
       "    <tr>\n",
       "      <th>522</th>\n",
       "      <td>5a9758f65f001b6432ff31ff64a459d7</td>\n",
       "      <td>44</td>\n",
       "      <td>19</td>\n",
       "    </tr>\n",
       "    <tr>\n",
       "      <th>523</th>\n",
       "      <td>e8b3b95e93a6dc7dbb90f4e72e7ac065</td>\n",
       "      <td>44</td>\n",
       "      <td>18</td>\n",
       "    </tr>\n",
       "    <tr>\n",
       "      <th>524</th>\n",
       "      <td>932a58530abff8a48558e2a15639d453</td>\n",
       "      <td>44</td>\n",
       "      <td>24</td>\n",
       "    </tr>\n",
       "  </tbody>\n",
       "</table>\n",
       "<p>525 rows × 3 columns</p>\n",
       "</div>"
      ],
      "text/plain": [
       "                                uu_id  week_number  total_claims\n",
       "0    5bf51fc2e162d6faf9e3cf79e4198378           44            12\n",
       "1    420b44cc7e3f55d738df565421e59941           44            13\n",
       "2    e39c66ecceec76ee8f9f811fa4a2d246           44            13\n",
       "3    a90462cd11ae4e43144239bf7c4828a4           44            15\n",
       "4    8b20a6749088c7ff1237983076ebfeaa           44            15\n",
       "..                                ...          ...           ...\n",
       "520  46c4f6c75e663b1ca82ea7994e6d83d3           44            35\n",
       "521  1deebda501712e7595b531b8337bc31a           44            21\n",
       "522  5a9758f65f001b6432ff31ff64a459d7           44            19\n",
       "523  e8b3b95e93a6dc7dbb90f4e72e7ac065           44            18\n",
       "524  932a58530abff8a48558e2a15639d453           44            24\n",
       "\n",
       "[525 rows x 3 columns]"
      ]
     },
     "metadata": {},
     "output_type": "display_data"
    }
   ],
   "source": [
    "unemployment_prediction_data['total_claims'] = future_weeks_pred.astype(int)\n",
    "display(unemployment_prediction_data)"
   ]
  },
  {
   "cell_type": "code",
   "execution_count": 38,
   "id": "a2f6c9de",
   "metadata": {
    "execution": {
     "iopub.execute_input": "2023-05-10T02:53:20.809765Z",
     "iopub.status.busy": "2023-05-10T02:53:20.809394Z",
     "iopub.status.idle": "2023-05-10T02:53:20.818211Z",
     "shell.execute_reply": "2023-05-10T02:53:20.817450Z"
    },
    "lines_to_next_cell": 2
   },
   "outputs": [],
   "source": [
    "unemployment_prediction_data.to_csv(\"submission_prediction_output.csv\",index=False)"
   ]
  }
 ],
 "metadata": {
  "jupytext": {
   "cell_metadata_filter": "-all",
   "main_language": "python",
   "notebook_metadata_filter": "-all"
  },
  "language_info": {
   "codemirror_mode": {
    "name": "ipython",
    "version": 3
   },
   "file_extension": ".py",
   "mimetype": "text/x-python",
   "name": "python",
   "nbconvert_exporter": "python",
   "pygments_lexer": "ipython3",
   "version": "3.9.12"
  }
 },
 "nbformat": 4,
 "nbformat_minor": 5
}
