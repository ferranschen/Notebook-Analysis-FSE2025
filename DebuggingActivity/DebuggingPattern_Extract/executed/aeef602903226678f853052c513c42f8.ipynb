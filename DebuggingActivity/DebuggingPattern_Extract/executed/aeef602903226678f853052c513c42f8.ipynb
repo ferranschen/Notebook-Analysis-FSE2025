{
 "cells": [
  {
   "cell_type": "markdown",
   "id": "434b1097",
   "metadata": {},
   "source": [
    "- IMPORT THE LIBRARIES YOU WILL USE\n",
    "------------------------------------------\n",
    "You only need to import packages one time per notebook session. To keep your\n",
    "notebook clean and organized you can handle all imports at the top of your file.\n",
    "The following are included for example purposed, feel free to modify or delete \n",
    "anything in this section."
   ]
  },
  {
   "cell_type": "code",
   "execution_count": 1,
   "id": "a575d460",
   "metadata": {
    "execution": {
     "iopub.execute_input": "2023-05-10T02:49:08.932815Z",
     "iopub.status.busy": "2023-05-10T02:49:08.932411Z",
     "iopub.status.idle": "2023-05-10T02:49:10.082100Z",
     "shell.execute_reply": "2023-05-10T02:49:10.081809Z"
    }
   },
   "outputs": [],
   "source": [
    "import csv\n",
    "import pandas as pd\n",
    "import numpy as np\n",
    "import matplotlib\n",
    "import matplotlib.pyplot as plt\n",
    "import seaborn as sns\n",
    "get_ipython().run_line_magic('matplotlib', 'inline')\n",
    "from sklearn.model_selection import train_test_split \n",
    "from sklearn.linear_model import LinearRegression\n",
    "from sklearn import metrics"
   ]
  },
  {
   "cell_type": "code",
   "execution_count": 2,
   "id": "41fcb764",
   "metadata": {
    "execution": {
     "iopub.execute_input": "2023-05-10T02:49:10.083855Z",
     "iopub.status.busy": "2023-05-10T02:49:10.083698Z",
     "iopub.status.idle": "2023-05-10T02:49:10.175103Z",
     "shell.execute_reply": "2023-05-10T02:49:10.174787Z"
    }
   },
   "outputs": [],
   "source": [
    "from google.cloud import bigquery\n",
    "from google.oauth2 import service_account\n",
    "from google.cloud.bigquery import magics"
   ]
  },
  {
   "cell_type": "code",
   "execution_count": 3,
   "id": "38525321",
   "metadata": {
    "execution": {
     "iopub.execute_input": "2023-05-10T02:49:10.176842Z",
     "iopub.status.busy": "2023-05-10T02:49:10.176675Z",
     "iopub.status.idle": "2023-05-10T02:49:10.178648Z",
     "shell.execute_reply": "2023-05-10T02:49:10.178414Z"
    }
   },
   "outputs": [],
   "source": [
    "query = \"\"\"\n",
    "SELECT *\n",
    "FROM `ironhacks-data.ironhacks_competition.unemployment_data` \n",
    "\"\"\""
   ]
  },
  {
   "cell_type": "code",
   "execution_count": 4,
   "id": "09a9e18c",
   "metadata": {
    "execution": {
     "iopub.execute_input": "2023-05-10T02:49:10.197077Z",
     "iopub.status.busy": "2023-05-10T02:49:10.196914Z",
     "iopub.status.idle": "2023-05-10T02:49:10.199491Z",
     "shell.execute_reply": "2023-05-10T02:49:10.199242Z"
    }
   },
   "outputs": [
    {
     "ename": "SyntaxError",
     "evalue": "invalid syntax (1332658177.py, line 6)",
     "output_type": "error",
     "traceback": [
      "\u001b[0;36m  Cell \u001b[0;32mIn [4], line 6\u001b[0;36m\u001b[0m\n\u001b[0;31m    9/59:\u001b[0m\n\u001b[0m         ^\u001b[0m\n\u001b[0;31mSyntaxError\u001b[0m\u001b[0;31m:\u001b[0m invalid syntax\n"
     ]
    }
   ],
   "source": [
    "# QUERY THE DATA ONCE\n",
    "query_job = bigquery_client.query(query)\n",
    "unemployment_data = query_job.to_dataframe()\n",
    "unemployment_data.head(5)\n",
    "print(unemployment_data.columns)\n",
    "9/59:\n",
    "#SPLIT training set"
   ]
  },
  {
   "cell_type": "code",
   "execution_count": 5,
   "id": "d1333741",
   "metadata": {
    "execution": {
     "iopub.execute_input": "2023-05-10T02:49:10.200885Z",
     "iopub.status.busy": "2023-05-10T02:49:10.200783Z",
     "iopub.status.idle": "2023-05-10T02:49:10.202846Z",
     "shell.execute_reply": "2023-05-10T02:49:10.202583Z"
    }
   },
   "outputs": [
    {
     "ename": "SyntaxError",
     "evalue": "invalid syntax (2617227960.py, line 3)",
     "output_type": "error",
     "traceback": [
      "\u001b[0;36m  Cell \u001b[0;32mIn [5], line 3\u001b[0;36m\u001b[0m\n\u001b[0;31m    9/60:\u001b[0m\n\u001b[0m         ^\u001b[0m\n\u001b[0;31mSyntaxError\u001b[0m\u001b[0;31m:\u001b[0m invalid syntax\n"
     ]
    }
   ],
   "source": [
    "x = df['edu_post_hs'].values.reshape(-1,1)\n",
    "y = df['total_claims'].values.reshape(-1,1)\n",
    "9/60:\n",
    "#SPLIT training set"
   ]
  },
  {
   "cell_type": "code",
   "execution_count": 6,
   "id": "c20b6d31",
   "metadata": {
    "execution": {
     "iopub.execute_input": "2023-05-10T02:49:10.204225Z",
     "iopub.status.busy": "2023-05-10T02:49:10.204123Z",
     "iopub.status.idle": "2023-05-10T02:49:10.206545Z",
     "shell.execute_reply": "2023-05-10T02:49:10.206290Z"
    }
   },
   "outputs": [
    {
     "ename": "SyntaxError",
     "evalue": "illegal target for annotation (212994395.py, line 3)",
     "output_type": "error",
     "traceback": [
      "\u001b[0;36m  Cell \u001b[0;32mIn [6], line 3\u001b[0;36m\u001b[0m\n\u001b[0;31m    9/61: X_train, X_test, y_train, y_test = train_test_split(X, y, test_size=0.2, random_state=0)\u001b[0m\n\u001b[0m    ^\u001b[0m\n\u001b[0;31mSyntaxError\u001b[0m\u001b[0;31m:\u001b[0m illegal target for annotation\n"
     ]
    }
   ],
   "source": [
    "X = df['edu_post_hs'].values.reshape(-1,1)\n",
    "Y = df['total_claims'].values.reshape(-1,1)\n",
    "9/61: X_train, X_test, y_train, y_test = train_test_split(X, y, test_size=0.2, random_state=0)\n",
    "9/62:\n",
    "regressor = LinearRegression()  \n",
    "regressor.fit(X_train, y_train)\n",
    "9/63:\n",
    "#To retrieve the intercept:\n",
    "print(regressor.intercept_)"
   ]
  },
  {
   "cell_type": "code",
   "execution_count": 7,
   "id": "2dae95fc",
   "metadata": {
    "execution": {
     "iopub.execute_input": "2023-05-10T02:49:10.207886Z",
     "iopub.status.busy": "2023-05-10T02:49:10.207788Z",
     "iopub.status.idle": "2023-05-10T02:49:10.209932Z",
     "shell.execute_reply": "2023-05-10T02:49:10.209668Z"
    }
   },
   "outputs": [
    {
     "ename": "SyntaxError",
     "evalue": "illegal target for annotation (7914315.py, line 3)",
     "output_type": "error",
     "traceback": [
      "\u001b[0;36m  Cell \u001b[0;32mIn [7], line 3\u001b[0;36m\u001b[0m\n\u001b[0;31m    9/64: y_pred = regressor.predict(X_test)\u001b[0m\n\u001b[0m    ^\u001b[0m\n\u001b[0;31mSyntaxError\u001b[0m\u001b[0;31m:\u001b[0m illegal target for annotation\n"
     ]
    }
   ],
   "source": [
    "#For retrieving the slope:\n",
    "print(regressor.coef_)\n",
    "9/64: y_pred = regressor.predict(X_test)\n",
    "9/65:\n",
    "df2 = pd.DataFrame({'Actual': y_test.flatten(), 'Predicted': y_pred.flatten()})\n",
    "df2"
   ]
  },
  {
   "cell_type": "code",
   "execution_count": 8,
   "id": "2bb8fe3f",
   "metadata": {
    "execution": {
     "iopub.execute_input": "2023-05-10T02:49:10.211330Z",
     "iopub.status.busy": "2023-05-10T02:49:10.211229Z",
     "iopub.status.idle": "2023-05-10T02:49:10.212789Z",
     "shell.execute_reply": "2023-05-10T02:49:10.212540Z"
    }
   },
   "outputs": [],
   "source": [
    "query = \"\"\"\n",
    "SELECT *\n",
    "FROM `ironhacks-data.ironhacks_competition.unemployment_data` \n",
    "\"\"\""
   ]
  },
  {
   "cell_type": "code",
   "execution_count": 9,
   "id": "fe4e7dac",
   "metadata": {
    "execution": {
     "iopub.execute_input": "2023-05-10T02:49:10.215427Z",
     "iopub.status.busy": "2023-05-10T02:49:10.215328Z",
     "iopub.status.idle": "2023-05-10T02:49:10.335909Z",
     "shell.execute_reply": "2023-05-10T02:49:10.335388Z"
    }
   },
   "outputs": [
    {
     "ename": "NameError",
     "evalue": "name 'bigquery_client' is not defined",
     "output_type": "error",
     "traceback": [
      "\u001b[0;31m---------------------------------------------------------------------------\u001b[0m",
      "\u001b[0;31mNameError\u001b[0m                                 Traceback (most recent call last)",
      "Cell \u001b[0;32mIn [9], line 2\u001b[0m\n\u001b[1;32m      1\u001b[0m \u001b[38;5;66;03m# QUERY THE DATA ONCE\u001b[39;00m\n\u001b[0;32m----> 2\u001b[0m query_job \u001b[38;5;241m=\u001b[39m \u001b[43mbigquery_client\u001b[49m\u001b[38;5;241m.\u001b[39mquery(query)\n\u001b[1;32m      3\u001b[0m unemployment_data \u001b[38;5;241m=\u001b[39m query_job\u001b[38;5;241m.\u001b[39mto_dataframe()\n\u001b[1;32m      4\u001b[0m unemployment_data\u001b[38;5;241m.\u001b[39mhead(\u001b[38;5;241m5\u001b[39m)\n",
      "\u001b[0;31mNameError\u001b[0m: name 'bigquery_client' is not defined"
     ]
    }
   ],
   "source": [
    "# QUERY THE DATA ONCE\n",
    "query_job = bigquery_client.query(query)\n",
    "unemployment_data = query_job.to_dataframe()\n",
    "unemployment_data.head(5)\n",
    "print(unemployment_data.columns)"
   ]
  },
  {
   "cell_type": "markdown",
   "id": "e8f54764",
   "metadata": {},
   "source": [
    "CONFIGURE THE BIGQUERY SETTINGS"
   ]
  },
  {
   "cell_type": "code",
   "execution_count": 10,
   "id": "a1880ee9",
   "metadata": {
    "execution": {
     "iopub.execute_input": "2023-05-10T02:49:10.338850Z",
     "iopub.status.busy": "2023-05-10T02:49:10.338690Z",
     "iopub.status.idle": "2023-05-10T02:49:10.349723Z",
     "shell.execute_reply": "2023-05-10T02:49:10.349247Z"
    }
   },
   "outputs": [],
   "source": [
    "BIGQUERY_PROJECT = 'ironhacks-data'\n",
    "bigquery_client = bigquery.Client(project=BIGQUERY_PROJECT)"
   ]
  },
  {
   "cell_type": "code",
   "execution_count": 11,
   "id": "1ddcf648",
   "metadata": {
    "execution": {
     "iopub.execute_input": "2023-05-10T02:49:10.352374Z",
     "iopub.status.busy": "2023-05-10T02:49:10.351624Z",
     "iopub.status.idle": "2023-05-10T02:49:10.354338Z",
     "shell.execute_reply": "2023-05-10T02:49:10.354030Z"
    }
   },
   "outputs": [],
   "source": [
    "query = \"\"\"\n",
    "SELECT *\n",
    "FROM `ironhacks-data.ironhacks_competition.unemployment_data` \n",
    "\"\"\""
   ]
  },
  {
   "cell_type": "code",
   "execution_count": 12,
   "id": "0dbfa326",
   "metadata": {
    "execution": {
     "iopub.execute_input": "2023-05-10T02:49:10.355993Z",
     "iopub.status.busy": "2023-05-10T02:49:10.355865Z",
     "iopub.status.idle": "2023-05-10T02:49:11.859505Z",
     "shell.execute_reply": "2023-05-10T02:49:11.859002Z"
    }
   },
   "outputs": [
    {
     "name": "stdout",
     "output_type": "stream",
     "text": [
      "Index(['uu_id', 'timeperiod', 'week_number', 'countyfips', 'tract',\n",
      "       'tract_name', 'total_claims', 'edu_8th_or_less', 'edu_grades_9_11',\n",
      "       'edu_hs_grad_equiv', 'edu_post_hs', 'edu_unknown',\n",
      "       'top_category_employer1', 'top_category_employer2',\n",
      "       'top_category_employer3', 'gender_female', 'gender_male', 'gender_na',\n",
      "       'race_amerindian', 'race_asian', 'race_black', 'race_noanswer',\n",
      "       'race_hawaiiannative', 'race_other', 'race_white'],\n",
      "      dtype='object')\n"
     ]
    }
   ],
   "source": [
    "# QUERY THE DATA ONCE\n",
    "query_job = bigquery_client.query(query)\n",
    "unemployment_data = query_job.to_dataframe()\n",
    "unemployment_data.head(5)\n",
    "print(unemployment_data.columns)"
   ]
  },
  {
   "cell_type": "code",
   "execution_count": 13,
   "id": "0ad820b5",
   "metadata": {
    "execution": {
     "iopub.execute_input": "2023-05-10T02:49:11.861658Z",
     "iopub.status.busy": "2023-05-10T02:49:11.861481Z",
     "iopub.status.idle": "2023-05-10T02:49:11.879503Z",
     "shell.execute_reply": "2023-05-10T02:49:11.879050Z"
    }
   },
   "outputs": [],
   "source": [
    "df = unemployment_data.dropna()"
   ]
  },
  {
   "cell_type": "markdown",
   "id": "163ae1d2",
   "metadata": {},
   "source": [
    "SPLIT training set"
   ]
  },
  {
   "cell_type": "code",
   "execution_count": 14,
   "id": "52c5ec04",
   "metadata": {
    "execution": {
     "iopub.execute_input": "2023-05-10T02:49:11.881866Z",
     "iopub.status.busy": "2023-05-10T02:49:11.881683Z",
     "iopub.status.idle": "2023-05-10T02:49:11.885064Z",
     "shell.execute_reply": "2023-05-10T02:49:11.884625Z"
    }
   },
   "outputs": [
    {
     "ename": "SyntaxError",
     "evalue": "invalid syntax (2617227960.py, line 3)",
     "output_type": "error",
     "traceback": [
      "\u001b[0;36m  Cell \u001b[0;32mIn [14], line 3\u001b[0;36m\u001b[0m\n\u001b[0;31m    9/60:\u001b[0m\n\u001b[0m         ^\u001b[0m\n\u001b[0;31mSyntaxError\u001b[0m\u001b[0;31m:\u001b[0m invalid syntax\n"
     ]
    }
   ],
   "source": [
    "x = df['edu_post_hs'].values.reshape(-1,1)\n",
    "y = df['total_claims'].values.reshape(-1,1)\n",
    "9/60:\n",
    "#SPLIT training set"
   ]
  },
  {
   "cell_type": "code",
   "execution_count": 15,
   "id": "286f8a15",
   "metadata": {
    "execution": {
     "iopub.execute_input": "2023-05-10T02:49:11.887243Z",
     "iopub.status.busy": "2023-05-10T02:49:11.887098Z",
     "iopub.status.idle": "2023-05-10T02:49:11.890860Z",
     "shell.execute_reply": "2023-05-10T02:49:11.890442Z"
    }
   },
   "outputs": [
    {
     "ename": "SyntaxError",
     "evalue": "illegal target for annotation (212994395.py, line 3)",
     "output_type": "error",
     "traceback": [
      "\u001b[0;36m  Cell \u001b[0;32mIn [15], line 3\u001b[0;36m\u001b[0m\n\u001b[0;31m    9/61: X_train, X_test, y_train, y_test = train_test_split(X, y, test_size=0.2, random_state=0)\u001b[0m\n\u001b[0m    ^\u001b[0m\n\u001b[0;31mSyntaxError\u001b[0m\u001b[0;31m:\u001b[0m illegal target for annotation\n"
     ]
    }
   ],
   "source": [
    "X = df['edu_post_hs'].values.reshape(-1,1)\n",
    "Y = df['total_claims'].values.reshape(-1,1)\n",
    "9/61: X_train, X_test, y_train, y_test = train_test_split(X, y, test_size=0.2, random_state=0)\n",
    "9/62:\n",
    "regressor = LinearRegression()  \n",
    "regressor.fit(X_train, y_train)\n",
    "9/63:\n",
    "#To retrieve the intercept:\n",
    "print(regressor.intercept_)"
   ]
  },
  {
   "cell_type": "code",
   "execution_count": 16,
   "id": "c7867296",
   "metadata": {
    "execution": {
     "iopub.execute_input": "2023-05-10T02:49:11.892782Z",
     "iopub.status.busy": "2023-05-10T02:49:11.892626Z",
     "iopub.status.idle": "2023-05-10T02:49:11.895365Z",
     "shell.execute_reply": "2023-05-10T02:49:11.895028Z"
    }
   },
   "outputs": [
    {
     "ename": "SyntaxError",
     "evalue": "illegal target for annotation (7914315.py, line 3)",
     "output_type": "error",
     "traceback": [
      "\u001b[0;36m  Cell \u001b[0;32mIn [16], line 3\u001b[0;36m\u001b[0m\n\u001b[0;31m    9/64: y_pred = regressor.predict(X_test)\u001b[0m\n\u001b[0m    ^\u001b[0m\n\u001b[0;31mSyntaxError\u001b[0m\u001b[0;31m:\u001b[0m illegal target for annotation\n"
     ]
    }
   ],
   "source": [
    "#For retrieving the slope:\n",
    "print(regressor.coef_)\n",
    "9/64: y_pred = regressor.predict(X_test)\n",
    "9/65:\n",
    "df2 = pd.DataFrame({'Actual': y_test.flatten(), 'Predicted': y_pred.flatten()})\n",
    "df2"
   ]
  },
  {
   "cell_type": "markdown",
   "id": "12ce98f6",
   "metadata": {},
   "source": [
    "SPLIT training set"
   ]
  },
  {
   "cell_type": "code",
   "execution_count": 17,
   "id": "a42d1110",
   "metadata": {
    "execution": {
     "iopub.execute_input": "2023-05-10T02:49:11.897254Z",
     "iopub.status.busy": "2023-05-10T02:49:11.897099Z",
     "iopub.status.idle": "2023-05-10T02:49:11.899398Z",
     "shell.execute_reply": "2023-05-10T02:49:11.899104Z"
    }
   },
   "outputs": [],
   "source": [
    "x = df['edu_post_hs'].values.reshape(-1,1)\n",
    "y = df['total_claims'].values.reshape(-1,1)"
   ]
  },
  {
   "cell_type": "markdown",
   "id": "e769143d",
   "metadata": {},
   "source": [
    "SPLIT training set"
   ]
  },
  {
   "cell_type": "code",
   "execution_count": 18,
   "id": "d81211e1",
   "metadata": {
    "execution": {
     "iopub.execute_input": "2023-05-10T02:49:11.901119Z",
     "iopub.status.busy": "2023-05-10T02:49:11.900979Z",
     "iopub.status.idle": "2023-05-10T02:49:11.903680Z",
     "shell.execute_reply": "2023-05-10T02:49:11.903402Z"
    }
   },
   "outputs": [],
   "source": [
    "X = df['edu_post_hs'].values.reshape(-1,1)\n",
    "Y = df['total_claims'].values.reshape(-1,1)\n",
    "X_train, X_test, y_train, y_test = train_test_split(X, y, test_size=0.2, random_state=0)"
   ]
  },
  {
   "cell_type": "code",
   "execution_count": 19,
   "id": "6dc9e2e2",
   "metadata": {
    "execution": {
     "iopub.execute_input": "2023-05-10T02:49:11.905288Z",
     "iopub.status.busy": "2023-05-10T02:49:11.905163Z",
     "iopub.status.idle": "2023-05-10T02:49:11.912671Z",
     "shell.execute_reply": "2023-05-10T02:49:11.912412Z"
    }
   },
   "outputs": [
    {
     "data": {
      "text/html": [
       "<style>#sk-container-id-1 {color: black;background-color: white;}#sk-container-id-1 pre{padding: 0;}#sk-container-id-1 div.sk-toggleable {background-color: white;}#sk-container-id-1 label.sk-toggleable__label {cursor: pointer;display: block;width: 100%;margin-bottom: 0;padding: 0.3em;box-sizing: border-box;text-align: center;}#sk-container-id-1 label.sk-toggleable__label-arrow:before {content: \"▸\";float: left;margin-right: 0.25em;color: #696969;}#sk-container-id-1 label.sk-toggleable__label-arrow:hover:before {color: black;}#sk-container-id-1 div.sk-estimator:hover label.sk-toggleable__label-arrow:before {color: black;}#sk-container-id-1 div.sk-toggleable__content {max-height: 0;max-width: 0;overflow: hidden;text-align: left;background-color: #f0f8ff;}#sk-container-id-1 div.sk-toggleable__content pre {margin: 0.2em;color: black;border-radius: 0.25em;background-color: #f0f8ff;}#sk-container-id-1 input.sk-toggleable__control:checked~div.sk-toggleable__content {max-height: 200px;max-width: 100%;overflow: auto;}#sk-container-id-1 input.sk-toggleable__control:checked~label.sk-toggleable__label-arrow:before {content: \"▾\";}#sk-container-id-1 div.sk-estimator input.sk-toggleable__control:checked~label.sk-toggleable__label {background-color: #d4ebff;}#sk-container-id-1 div.sk-label input.sk-toggleable__control:checked~label.sk-toggleable__label {background-color: #d4ebff;}#sk-container-id-1 input.sk-hidden--visually {border: 0;clip: rect(1px 1px 1px 1px);clip: rect(1px, 1px, 1px, 1px);height: 1px;margin: -1px;overflow: hidden;padding: 0;position: absolute;width: 1px;}#sk-container-id-1 div.sk-estimator {font-family: monospace;background-color: #f0f8ff;border: 1px dotted black;border-radius: 0.25em;box-sizing: border-box;margin-bottom: 0.5em;}#sk-container-id-1 div.sk-estimator:hover {background-color: #d4ebff;}#sk-container-id-1 div.sk-parallel-item::after {content: \"\";width: 100%;border-bottom: 1px solid gray;flex-grow: 1;}#sk-container-id-1 div.sk-label:hover label.sk-toggleable__label {background-color: #d4ebff;}#sk-container-id-1 div.sk-serial::before {content: \"\";position: absolute;border-left: 1px solid gray;box-sizing: border-box;top: 0;bottom: 0;left: 50%;z-index: 0;}#sk-container-id-1 div.sk-serial {display: flex;flex-direction: column;align-items: center;background-color: white;padding-right: 0.2em;padding-left: 0.2em;position: relative;}#sk-container-id-1 div.sk-item {position: relative;z-index: 1;}#sk-container-id-1 div.sk-parallel {display: flex;align-items: stretch;justify-content: center;background-color: white;position: relative;}#sk-container-id-1 div.sk-item::before, #sk-container-id-1 div.sk-parallel-item::before {content: \"\";position: absolute;border-left: 1px solid gray;box-sizing: border-box;top: 0;bottom: 0;left: 50%;z-index: -1;}#sk-container-id-1 div.sk-parallel-item {display: flex;flex-direction: column;z-index: 1;position: relative;background-color: white;}#sk-container-id-1 div.sk-parallel-item:first-child::after {align-self: flex-end;width: 50%;}#sk-container-id-1 div.sk-parallel-item:last-child::after {align-self: flex-start;width: 50%;}#sk-container-id-1 div.sk-parallel-item:only-child::after {width: 0;}#sk-container-id-1 div.sk-dashed-wrapped {border: 1px dashed gray;margin: 0 0.4em 0.5em 0.4em;box-sizing: border-box;padding-bottom: 0.4em;background-color: white;}#sk-container-id-1 div.sk-label label {font-family: monospace;font-weight: bold;display: inline-block;line-height: 1.2em;}#sk-container-id-1 div.sk-label-container {text-align: center;}#sk-container-id-1 div.sk-container {/* jupyter's `normalize.less` sets `[hidden] { display: none; }` but bootstrap.min.css set `[hidden] { display: none !important; }` so we also need the `!important` here to be able to override the default hidden behavior on the sphinx rendered scikit-learn.org. See: https://github.com/scikit-learn/scikit-learn/issues/21755 */display: inline-block !important;position: relative;}#sk-container-id-1 div.sk-text-repr-fallback {display: none;}</style><div id=\"sk-container-id-1\" class=\"sk-top-container\"><div class=\"sk-text-repr-fallback\"><pre>LinearRegression()</pre><b>In a Jupyter environment, please rerun this cell to show the HTML representation or trust the notebook. <br />On GitHub, the HTML representation is unable to render, please try loading this page with nbviewer.org.</b></div><div class=\"sk-container\" hidden><div class=\"sk-item\"><div class=\"sk-estimator sk-toggleable\"><input class=\"sk-toggleable__control sk-hidden--visually\" id=\"sk-estimator-id-1\" type=\"checkbox\" checked><label for=\"sk-estimator-id-1\" class=\"sk-toggleable__label sk-toggleable__label-arrow\">LinearRegression</label><div class=\"sk-toggleable__content\"><pre>LinearRegression()</pre></div></div></div></div></div>"
      ],
      "text/plain": [
       "LinearRegression()"
      ]
     },
     "execution_count": 19,
     "metadata": {},
     "output_type": "execute_result"
    }
   ],
   "source": [
    "regressor = LinearRegression()  \n",
    "regressor.fit(X_train, y_train)"
   ]
  },
  {
   "cell_type": "code",
   "execution_count": 20,
   "id": "f7d3555a",
   "metadata": {
    "execution": {
     "iopub.execute_input": "2023-05-10T02:49:11.914166Z",
     "iopub.status.busy": "2023-05-10T02:49:11.914057Z",
     "iopub.status.idle": "2023-05-10T02:49:11.916061Z",
     "shell.execute_reply": "2023-05-10T02:49:11.915822Z"
    }
   },
   "outputs": [
    {
     "name": "stdout",
     "output_type": "stream",
     "text": [
      "[30.28846154]\n"
     ]
    }
   ],
   "source": [
    "#To retrieve the intercept:\n",
    "print(regressor.intercept_)"
   ]
  },
  {
   "cell_type": "code",
   "execution_count": 21,
   "id": "14817a23",
   "metadata": {
    "execution": {
     "iopub.execute_input": "2023-05-10T02:49:11.917455Z",
     "iopub.status.busy": "2023-05-10T02:49:11.917351Z",
     "iopub.status.idle": "2023-05-10T02:49:11.919361Z",
     "shell.execute_reply": "2023-05-10T02:49:11.919135Z"
    }
   },
   "outputs": [
    {
     "ename": "IndentationError",
     "evalue": "unexpected indent (1311846525.py, line 3)",
     "output_type": "error",
     "traceback": [
      "\u001b[0;36m  Cell \u001b[0;32mIn [21], line 3\u001b[0;36m\u001b[0m\n\u001b[0;31m    y_pred = regressor.predict(X_test)\u001b[0m\n\u001b[0m    ^\u001b[0m\n\u001b[0;31mIndentationError\u001b[0m\u001b[0;31m:\u001b[0m unexpected indent\n"
     ]
    }
   ],
   "source": [
    "#For retrieving the slope:\n",
    "print(regressor.coef_)\n",
    " y_pred = regressor.predict(X_test)"
   ]
  },
  {
   "cell_type": "markdown",
   "id": "cfeebf3a",
   "metadata": {},
   "source": [
    "SPLIT training set"
   ]
  },
  {
   "cell_type": "code",
   "execution_count": 22,
   "id": "862c1e96",
   "metadata": {
    "execution": {
     "iopub.execute_input": "2023-05-10T02:49:11.920770Z",
     "iopub.status.busy": "2023-05-10T02:49:11.920673Z",
     "iopub.status.idle": "2023-05-10T02:49:11.922507Z",
     "shell.execute_reply": "2023-05-10T02:49:11.922260Z"
    }
   },
   "outputs": [],
   "source": [
    "x = df['edu_post_hs'].values.reshape(-1,1)\n",
    "y = df['total_claims'].values.reshape(-1,1)"
   ]
  },
  {
   "cell_type": "markdown",
   "id": "60dc18a2",
   "metadata": {},
   "source": [
    "SPLIT training set"
   ]
  },
  {
   "cell_type": "code",
   "execution_count": 23,
   "id": "ae2d20a7",
   "metadata": {
    "execution": {
     "iopub.execute_input": "2023-05-10T02:49:11.923871Z",
     "iopub.status.busy": "2023-05-10T02:49:11.923789Z",
     "iopub.status.idle": "2023-05-10T02:49:11.926092Z",
     "shell.execute_reply": "2023-05-10T02:49:11.925856Z"
    }
   },
   "outputs": [],
   "source": [
    "X = df['edu_post_hs'].values.reshape(-1,1)\n",
    "Y = df['total_claims'].values.reshape(-1,1)\n",
    "X_train, X_test, y_train, y_test = train_test_split(X, y, test_size=0.2, random_state=0)"
   ]
  },
  {
   "cell_type": "code",
   "execution_count": 24,
   "id": "73e801fd",
   "metadata": {
    "execution": {
     "iopub.execute_input": "2023-05-10T02:49:11.927354Z",
     "iopub.status.busy": "2023-05-10T02:49:11.927280Z",
     "iopub.status.idle": "2023-05-10T02:49:11.929893Z",
     "shell.execute_reply": "2023-05-10T02:49:11.929671Z"
    }
   },
   "outputs": [
    {
     "data": {
      "text/html": [
       "<style>#sk-container-id-2 {color: black;background-color: white;}#sk-container-id-2 pre{padding: 0;}#sk-container-id-2 div.sk-toggleable {background-color: white;}#sk-container-id-2 label.sk-toggleable__label {cursor: pointer;display: block;width: 100%;margin-bottom: 0;padding: 0.3em;box-sizing: border-box;text-align: center;}#sk-container-id-2 label.sk-toggleable__label-arrow:before {content: \"▸\";float: left;margin-right: 0.25em;color: #696969;}#sk-container-id-2 label.sk-toggleable__label-arrow:hover:before {color: black;}#sk-container-id-2 div.sk-estimator:hover label.sk-toggleable__label-arrow:before {color: black;}#sk-container-id-2 div.sk-toggleable__content {max-height: 0;max-width: 0;overflow: hidden;text-align: left;background-color: #f0f8ff;}#sk-container-id-2 div.sk-toggleable__content pre {margin: 0.2em;color: black;border-radius: 0.25em;background-color: #f0f8ff;}#sk-container-id-2 input.sk-toggleable__control:checked~div.sk-toggleable__content {max-height: 200px;max-width: 100%;overflow: auto;}#sk-container-id-2 input.sk-toggleable__control:checked~label.sk-toggleable__label-arrow:before {content: \"▾\";}#sk-container-id-2 div.sk-estimator input.sk-toggleable__control:checked~label.sk-toggleable__label {background-color: #d4ebff;}#sk-container-id-2 div.sk-label input.sk-toggleable__control:checked~label.sk-toggleable__label {background-color: #d4ebff;}#sk-container-id-2 input.sk-hidden--visually {border: 0;clip: rect(1px 1px 1px 1px);clip: rect(1px, 1px, 1px, 1px);height: 1px;margin: -1px;overflow: hidden;padding: 0;position: absolute;width: 1px;}#sk-container-id-2 div.sk-estimator {font-family: monospace;background-color: #f0f8ff;border: 1px dotted black;border-radius: 0.25em;box-sizing: border-box;margin-bottom: 0.5em;}#sk-container-id-2 div.sk-estimator:hover {background-color: #d4ebff;}#sk-container-id-2 div.sk-parallel-item::after {content: \"\";width: 100%;border-bottom: 1px solid gray;flex-grow: 1;}#sk-container-id-2 div.sk-label:hover label.sk-toggleable__label {background-color: #d4ebff;}#sk-container-id-2 div.sk-serial::before {content: \"\";position: absolute;border-left: 1px solid gray;box-sizing: border-box;top: 0;bottom: 0;left: 50%;z-index: 0;}#sk-container-id-2 div.sk-serial {display: flex;flex-direction: column;align-items: center;background-color: white;padding-right: 0.2em;padding-left: 0.2em;position: relative;}#sk-container-id-2 div.sk-item {position: relative;z-index: 1;}#sk-container-id-2 div.sk-parallel {display: flex;align-items: stretch;justify-content: center;background-color: white;position: relative;}#sk-container-id-2 div.sk-item::before, #sk-container-id-2 div.sk-parallel-item::before {content: \"\";position: absolute;border-left: 1px solid gray;box-sizing: border-box;top: 0;bottom: 0;left: 50%;z-index: -1;}#sk-container-id-2 div.sk-parallel-item {display: flex;flex-direction: column;z-index: 1;position: relative;background-color: white;}#sk-container-id-2 div.sk-parallel-item:first-child::after {align-self: flex-end;width: 50%;}#sk-container-id-2 div.sk-parallel-item:last-child::after {align-self: flex-start;width: 50%;}#sk-container-id-2 div.sk-parallel-item:only-child::after {width: 0;}#sk-container-id-2 div.sk-dashed-wrapped {border: 1px dashed gray;margin: 0 0.4em 0.5em 0.4em;box-sizing: border-box;padding-bottom: 0.4em;background-color: white;}#sk-container-id-2 div.sk-label label {font-family: monospace;font-weight: bold;display: inline-block;line-height: 1.2em;}#sk-container-id-2 div.sk-label-container {text-align: center;}#sk-container-id-2 div.sk-container {/* jupyter's `normalize.less` sets `[hidden] { display: none; }` but bootstrap.min.css set `[hidden] { display: none !important; }` so we also need the `!important` here to be able to override the default hidden behavior on the sphinx rendered scikit-learn.org. See: https://github.com/scikit-learn/scikit-learn/issues/21755 */display: inline-block !important;position: relative;}#sk-container-id-2 div.sk-text-repr-fallback {display: none;}</style><div id=\"sk-container-id-2\" class=\"sk-top-container\"><div class=\"sk-text-repr-fallback\"><pre>LinearRegression()</pre><b>In a Jupyter environment, please rerun this cell to show the HTML representation or trust the notebook. <br />On GitHub, the HTML representation is unable to render, please try loading this page with nbviewer.org.</b></div><div class=\"sk-container\" hidden><div class=\"sk-item\"><div class=\"sk-estimator sk-toggleable\"><input class=\"sk-toggleable__control sk-hidden--visually\" id=\"sk-estimator-id-2\" type=\"checkbox\" checked><label for=\"sk-estimator-id-2\" class=\"sk-toggleable__label sk-toggleable__label-arrow\">LinearRegression</label><div class=\"sk-toggleable__content\"><pre>LinearRegression()</pre></div></div></div></div></div>"
      ],
      "text/plain": [
       "LinearRegression()"
      ]
     },
     "execution_count": 24,
     "metadata": {},
     "output_type": "execute_result"
    }
   ],
   "source": [
    "regressor = LinearRegression()  \n",
    "regressor.fit(X_train, y_train)"
   ]
  },
  {
   "cell_type": "code",
   "execution_count": 25,
   "id": "e86d4283",
   "metadata": {
    "execution": {
     "iopub.execute_input": "2023-05-10T02:49:11.931336Z",
     "iopub.status.busy": "2023-05-10T02:49:11.931253Z",
     "iopub.status.idle": "2023-05-10T02:49:11.933005Z",
     "shell.execute_reply": "2023-05-10T02:49:11.932749Z"
    }
   },
   "outputs": [
    {
     "name": "stdout",
     "output_type": "stream",
     "text": [
      "[30.28846154]\n"
     ]
    }
   ],
   "source": [
    "#To retrieve the intercept:\n",
    "print(regressor.intercept_)"
   ]
  },
  {
   "cell_type": "code",
   "execution_count": 26,
   "id": "9837deeb",
   "metadata": {
    "execution": {
     "iopub.execute_input": "2023-05-10T02:49:11.934302Z",
     "iopub.status.busy": "2023-05-10T02:49:11.934218Z",
     "iopub.status.idle": "2023-05-10T02:49:11.936133Z",
     "shell.execute_reply": "2023-05-10T02:49:11.935878Z"
    }
   },
   "outputs": [
    {
     "ename": "IndentationError",
     "evalue": "unexpected indent (1311846525.py, line 3)",
     "output_type": "error",
     "traceback": [
      "\u001b[0;36m  Cell \u001b[0;32mIn [26], line 3\u001b[0;36m\u001b[0m\n\u001b[0;31m    y_pred = regressor.predict(X_test)\u001b[0m\n\u001b[0m    ^\u001b[0m\n\u001b[0;31mIndentationError\u001b[0m\u001b[0;31m:\u001b[0m unexpected indent\n"
     ]
    }
   ],
   "source": [
    "#For retrieving the slope:\n",
    "print(regressor.coef_)\n",
    " y_pred = regressor.predict(X_test)"
   ]
  },
  {
   "cell_type": "markdown",
   "id": "70b60df8",
   "metadata": {},
   "source": [
    "SPLIT training set"
   ]
  },
  {
   "cell_type": "code",
   "execution_count": 27,
   "id": "a52e84dc",
   "metadata": {
    "execution": {
     "iopub.execute_input": "2023-05-10T02:49:11.937571Z",
     "iopub.status.busy": "2023-05-10T02:49:11.937494Z",
     "iopub.status.idle": "2023-05-10T02:49:11.939291Z",
     "shell.execute_reply": "2023-05-10T02:49:11.939069Z"
    }
   },
   "outputs": [],
   "source": [
    "x = df['edu_post_hs'].values.reshape(-1,1)\n",
    "y = df['total_claims'].values.reshape(-1,1)"
   ]
  },
  {
   "cell_type": "markdown",
   "id": "c41d8d63",
   "metadata": {},
   "source": [
    "SPLIT training set"
   ]
  },
  {
   "cell_type": "code",
   "execution_count": 28,
   "id": "3a233d1d",
   "metadata": {
    "execution": {
     "iopub.execute_input": "2023-05-10T02:49:11.940676Z",
     "iopub.status.busy": "2023-05-10T02:49:11.940600Z",
     "iopub.status.idle": "2023-05-10T02:49:11.942787Z",
     "shell.execute_reply": "2023-05-10T02:49:11.942560Z"
    }
   },
   "outputs": [],
   "source": [
    "X = df['edu_post_hs'].values.reshape(-1,1)\n",
    "Y = df['total_claims'].values.reshape(-1,1)\n",
    "X_train, X_test, y_train, y_test = train_test_split(X, y, test_size=0.2, random_state=0)"
   ]
  },
  {
   "cell_type": "code",
   "execution_count": 29,
   "id": "7a3b1874",
   "metadata": {
    "execution": {
     "iopub.execute_input": "2023-05-10T02:49:11.944065Z",
     "iopub.status.busy": "2023-05-10T02:49:11.943990Z",
     "iopub.status.idle": "2023-05-10T02:49:11.946585Z",
     "shell.execute_reply": "2023-05-10T02:49:11.946349Z"
    }
   },
   "outputs": [
    {
     "data": {
      "text/html": [
       "<style>#sk-container-id-3 {color: black;background-color: white;}#sk-container-id-3 pre{padding: 0;}#sk-container-id-3 div.sk-toggleable {background-color: white;}#sk-container-id-3 label.sk-toggleable__label {cursor: pointer;display: block;width: 100%;margin-bottom: 0;padding: 0.3em;box-sizing: border-box;text-align: center;}#sk-container-id-3 label.sk-toggleable__label-arrow:before {content: \"▸\";float: left;margin-right: 0.25em;color: #696969;}#sk-container-id-3 label.sk-toggleable__label-arrow:hover:before {color: black;}#sk-container-id-3 div.sk-estimator:hover label.sk-toggleable__label-arrow:before {color: black;}#sk-container-id-3 div.sk-toggleable__content {max-height: 0;max-width: 0;overflow: hidden;text-align: left;background-color: #f0f8ff;}#sk-container-id-3 div.sk-toggleable__content pre {margin: 0.2em;color: black;border-radius: 0.25em;background-color: #f0f8ff;}#sk-container-id-3 input.sk-toggleable__control:checked~div.sk-toggleable__content {max-height: 200px;max-width: 100%;overflow: auto;}#sk-container-id-3 input.sk-toggleable__control:checked~label.sk-toggleable__label-arrow:before {content: \"▾\";}#sk-container-id-3 div.sk-estimator input.sk-toggleable__control:checked~label.sk-toggleable__label {background-color: #d4ebff;}#sk-container-id-3 div.sk-label input.sk-toggleable__control:checked~label.sk-toggleable__label {background-color: #d4ebff;}#sk-container-id-3 input.sk-hidden--visually {border: 0;clip: rect(1px 1px 1px 1px);clip: rect(1px, 1px, 1px, 1px);height: 1px;margin: -1px;overflow: hidden;padding: 0;position: absolute;width: 1px;}#sk-container-id-3 div.sk-estimator {font-family: monospace;background-color: #f0f8ff;border: 1px dotted black;border-radius: 0.25em;box-sizing: border-box;margin-bottom: 0.5em;}#sk-container-id-3 div.sk-estimator:hover {background-color: #d4ebff;}#sk-container-id-3 div.sk-parallel-item::after {content: \"\";width: 100%;border-bottom: 1px solid gray;flex-grow: 1;}#sk-container-id-3 div.sk-label:hover label.sk-toggleable__label {background-color: #d4ebff;}#sk-container-id-3 div.sk-serial::before {content: \"\";position: absolute;border-left: 1px solid gray;box-sizing: border-box;top: 0;bottom: 0;left: 50%;z-index: 0;}#sk-container-id-3 div.sk-serial {display: flex;flex-direction: column;align-items: center;background-color: white;padding-right: 0.2em;padding-left: 0.2em;position: relative;}#sk-container-id-3 div.sk-item {position: relative;z-index: 1;}#sk-container-id-3 div.sk-parallel {display: flex;align-items: stretch;justify-content: center;background-color: white;position: relative;}#sk-container-id-3 div.sk-item::before, #sk-container-id-3 div.sk-parallel-item::before {content: \"\";position: absolute;border-left: 1px solid gray;box-sizing: border-box;top: 0;bottom: 0;left: 50%;z-index: -1;}#sk-container-id-3 div.sk-parallel-item {display: flex;flex-direction: column;z-index: 1;position: relative;background-color: white;}#sk-container-id-3 div.sk-parallel-item:first-child::after {align-self: flex-end;width: 50%;}#sk-container-id-3 div.sk-parallel-item:last-child::after {align-self: flex-start;width: 50%;}#sk-container-id-3 div.sk-parallel-item:only-child::after {width: 0;}#sk-container-id-3 div.sk-dashed-wrapped {border: 1px dashed gray;margin: 0 0.4em 0.5em 0.4em;box-sizing: border-box;padding-bottom: 0.4em;background-color: white;}#sk-container-id-3 div.sk-label label {font-family: monospace;font-weight: bold;display: inline-block;line-height: 1.2em;}#sk-container-id-3 div.sk-label-container {text-align: center;}#sk-container-id-3 div.sk-container {/* jupyter's `normalize.less` sets `[hidden] { display: none; }` but bootstrap.min.css set `[hidden] { display: none !important; }` so we also need the `!important` here to be able to override the default hidden behavior on the sphinx rendered scikit-learn.org. See: https://github.com/scikit-learn/scikit-learn/issues/21755 */display: inline-block !important;position: relative;}#sk-container-id-3 div.sk-text-repr-fallback {display: none;}</style><div id=\"sk-container-id-3\" class=\"sk-top-container\"><div class=\"sk-text-repr-fallback\"><pre>LinearRegression()</pre><b>In a Jupyter environment, please rerun this cell to show the HTML representation or trust the notebook. <br />On GitHub, the HTML representation is unable to render, please try loading this page with nbviewer.org.</b></div><div class=\"sk-container\" hidden><div class=\"sk-item\"><div class=\"sk-estimator sk-toggleable\"><input class=\"sk-toggleable__control sk-hidden--visually\" id=\"sk-estimator-id-3\" type=\"checkbox\" checked><label for=\"sk-estimator-id-3\" class=\"sk-toggleable__label sk-toggleable__label-arrow\">LinearRegression</label><div class=\"sk-toggleable__content\"><pre>LinearRegression()</pre></div></div></div></div></div>"
      ],
      "text/plain": [
       "LinearRegression()"
      ]
     },
     "execution_count": 29,
     "metadata": {},
     "output_type": "execute_result"
    }
   ],
   "source": [
    "regressor = LinearRegression()  \n",
    "regressor.fit(X_train, y_train)"
   ]
  },
  {
   "cell_type": "code",
   "execution_count": 30,
   "id": "3008fe52",
   "metadata": {
    "execution": {
     "iopub.execute_input": "2023-05-10T02:49:11.947904Z",
     "iopub.status.busy": "2023-05-10T02:49:11.947825Z",
     "iopub.status.idle": "2023-05-10T02:49:11.949550Z",
     "shell.execute_reply": "2023-05-10T02:49:11.949326Z"
    }
   },
   "outputs": [
    {
     "name": "stdout",
     "output_type": "stream",
     "text": [
      "[30.28846154]\n"
     ]
    }
   ],
   "source": [
    "#To retrieve the intercept:\n",
    "print(regressor.intercept_)"
   ]
  },
  {
   "cell_type": "code",
   "execution_count": 31,
   "id": "4c0dfed0",
   "metadata": {
    "execution": {
     "iopub.execute_input": "2023-05-10T02:49:11.950823Z",
     "iopub.status.busy": "2023-05-10T02:49:11.950747Z",
     "iopub.status.idle": "2023-05-10T02:49:11.952563Z",
     "shell.execute_reply": "2023-05-10T02:49:11.952336Z"
    }
   },
   "outputs": [
    {
     "name": "stdout",
     "output_type": "stream",
     "text": [
      "[[0.90811966]]\n"
     ]
    }
   ],
   "source": [
    "#For retrieving the slope:\n",
    "print(regressor.coef_)\n",
    "y_pred = regressor.predict(X_test)"
   ]
  },
  {
   "cell_type": "code",
   "execution_count": 32,
   "id": "db93e3a6",
   "metadata": {
    "execution": {
     "iopub.execute_input": "2023-05-10T02:49:11.953938Z",
     "iopub.status.busy": "2023-05-10T02:49:11.953863Z",
     "iopub.status.idle": "2023-05-10T02:49:11.960950Z",
     "shell.execute_reply": "2023-05-10T02:49:11.960681Z"
    }
   },
   "outputs": [
    {
     "ename": "AttributeError",
     "evalue": "'IntegerArray' object has no attribute 'flatten'",
     "output_type": "error",
     "traceback": [
      "\u001b[0;31m---------------------------------------------------------------------------\u001b[0m",
      "\u001b[0;31mAttributeError\u001b[0m                            Traceback (most recent call last)",
      "Cell \u001b[0;32mIn [32], line 1\u001b[0m\n\u001b[0;32m----> 1\u001b[0m df2 \u001b[38;5;241m=\u001b[39m pd\u001b[38;5;241m.\u001b[39mDataFrame({\u001b[38;5;124m'\u001b[39m\u001b[38;5;124mActual\u001b[39m\u001b[38;5;124m'\u001b[39m: \u001b[43my_test\u001b[49m\u001b[38;5;241;43m.\u001b[39;49m\u001b[43mflatten\u001b[49m(), \u001b[38;5;124m'\u001b[39m\u001b[38;5;124mPredicted\u001b[39m\u001b[38;5;124m'\u001b[39m: y_pred\u001b[38;5;241m.\u001b[39mflatten()})\n\u001b[1;32m      2\u001b[0m df2\n",
      "\u001b[0;31mAttributeError\u001b[0m: 'IntegerArray' object has no attribute 'flatten'"
     ]
    }
   ],
   "source": [
    "df2 = pd.DataFrame({'Actual': y_test.flatten(), 'Predicted': y_pred.flatten()})\n",
    "df2"
   ]
  },
  {
   "cell_type": "code",
   "execution_count": 33,
   "id": "a9d81449",
   "metadata": {
    "execution": {
     "iopub.execute_input": "2023-05-10T02:49:11.962339Z",
     "iopub.status.busy": "2023-05-10T02:49:11.962251Z",
     "iopub.status.idle": "2023-05-10T02:49:11.967403Z",
     "shell.execute_reply": "2023-05-10T02:49:11.967162Z"
    },
    "lines_to_next_cell": 2
   },
   "outputs": [
    {
     "data": {
      "text/html": [
       "<div>\n",
       "<style scoped>\n",
       "    .dataframe tbody tr th:only-of-type {\n",
       "        vertical-align: middle;\n",
       "    }\n",
       "\n",
       "    .dataframe tbody tr th {\n",
       "        vertical-align: top;\n",
       "    }\n",
       "\n",
       "    .dataframe thead th {\n",
       "        text-align: right;\n",
       "    }\n",
       "</style>\n",
       "<table border=\"1\" class=\"dataframe\">\n",
       "  <thead>\n",
       "    <tr style=\"text-align: right;\">\n",
       "      <th></th>\n",
       "      <th>Actual</th>\n",
       "      <th>Predicted</th>\n",
       "    </tr>\n",
       "  </thead>\n",
       "  <tbody>\n",
       "    <tr>\n",
       "      <th>0</th>\n",
       "      <td>(28,)</td>\n",
       "      <td>42.094017</td>\n",
       "    </tr>\n",
       "    <tr>\n",
       "      <th>1</th>\n",
       "      <td>(73,)</td>\n",
       "      <td>48.450855</td>\n",
       "    </tr>\n",
       "    <tr>\n",
       "      <th>2</th>\n",
       "      <td>(53,)</td>\n",
       "      <td>49.358974</td>\n",
       "    </tr>\n",
       "    <tr>\n",
       "      <th>3</th>\n",
       "      <td>(37,)</td>\n",
       "      <td>39.369658</td>\n",
       "    </tr>\n",
       "  </tbody>\n",
       "</table>\n",
       "</div>"
      ],
      "text/plain": [
       "  Actual  Predicted\n",
       "0  (28,)  42.094017\n",
       "1  (73,)  48.450855\n",
       "2  (53,)  49.358974\n",
       "3  (37,)  39.369658"
      ]
     },
     "execution_count": 33,
     "metadata": {},
     "output_type": "execute_result"
    }
   ],
   "source": [
    "df2 = pd.DataFrame({'Actual': y_test, 'Predicted': y_pred.flatten()})\n",
    "df2"
   ]
  }
 ],
 "metadata": {
  "jupytext": {
   "cell_metadata_filter": "-all",
   "main_language": "python",
   "notebook_metadata_filter": "-all"
  },
  "language_info": {
   "codemirror_mode": {
    "name": "ipython",
    "version": 3
   },
   "file_extension": ".py",
   "mimetype": "text/x-python",
   "name": "python",
   "nbconvert_exporter": "python",
   "pygments_lexer": "ipython3",
   "version": "3.9.12"
  }
 },
 "nbformat": 4,
 "nbformat_minor": 5
}
