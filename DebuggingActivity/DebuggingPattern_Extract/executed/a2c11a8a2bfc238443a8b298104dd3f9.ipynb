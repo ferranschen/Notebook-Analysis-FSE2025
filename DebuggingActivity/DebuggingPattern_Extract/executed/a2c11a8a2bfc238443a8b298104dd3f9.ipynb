{
 "cells": [
  {
   "cell_type": "code",
   "execution_count": 1,
   "id": "ac67286d",
   "metadata": {
    "execution": {
     "iopub.execute_input": "2023-05-10T01:13:11.416084Z",
     "iopub.status.busy": "2023-05-10T01:13:11.415352Z",
     "iopub.status.idle": "2023-05-10T01:13:12.339915Z",
     "shell.execute_reply": "2023-05-10T01:13:12.339477Z"
    }
   },
   "outputs": [],
   "source": [
    "import csv\n",
    "import pandas as pd\n",
    "import numpy as np\n",
    "from google.cloud import bigquery\n",
    "from google.oauth2 import service_account\n",
    "from google.cloud.bigquery import magics\n",
    "from sklearn.model_selection import train_test_split \n",
    "from sklearn.linear_model import LinearRegression\n",
    "from sklearn import metrics\n",
    "import matplotlib.pyplot as plt  "
   ]
  },
  {
   "cell_type": "code",
   "execution_count": 2,
   "id": "a9d0e2a7",
   "metadata": {
    "execution": {
     "iopub.execute_input": "2023-05-10T01:13:12.342038Z",
     "iopub.status.busy": "2023-05-10T01:13:12.341833Z",
     "iopub.status.idle": "2023-05-10T01:13:12.344073Z",
     "shell.execute_reply": "2023-05-10T01:13:12.343801Z"
    }
   },
   "outputs": [],
   "source": [
    "import csv\n",
    "import pandas as pd\n",
    "import numpy as np\n",
    "from google.cloud import bigquery\n",
    "from google.oauth2 import service_account\n",
    "from google.cloud.bigquery import magics\n",
    "from sklearn.model_selection import train_test_split \n",
    "from sklearn.linear_model import LinearRegression\n",
    "from sklearn import metrics\n",
    "import matplotlib.pyplot as plt  "
   ]
  },
  {
   "cell_type": "code",
   "execution_count": 3,
   "id": "e4e02633",
   "metadata": {
    "execution": {
     "iopub.execute_input": "2023-05-10T01:13:12.345497Z",
     "iopub.status.busy": "2023-05-10T01:13:12.345392Z",
     "iopub.status.idle": "2023-05-10T01:13:12.353538Z",
     "shell.execute_reply": "2023-05-10T01:13:12.353213Z"
    }
   },
   "outputs": [],
   "source": [
    "import os\n",
    "BIGQUERY_PROJECT = 'ironhacks-data'\n",
    "bigquery_client = bigquery.Client(project=BIGQUERY_PROJECT)"
   ]
  },
  {
   "cell_type": "code",
   "execution_count": 4,
   "id": "d0d80533",
   "metadata": {
    "execution": {
     "iopub.execute_input": "2023-05-10T01:13:12.355297Z",
     "iopub.status.busy": "2023-05-10T01:13:12.355165Z",
     "iopub.status.idle": "2023-05-10T01:13:12.357147Z",
     "shell.execute_reply": "2023-05-10T01:13:12.356930Z"
    }
   },
   "outputs": [],
   "source": [
    "query = \"\"\"\n",
    "SELECT *\n",
    "FROM `ironhacks-data.ironhacks_competition.unemployment_data`\n",
    "\"\"\""
   ]
  },
  {
   "cell_type": "code",
   "execution_count": 5,
   "id": "442861d1",
   "metadata": {
    "execution": {
     "iopub.execute_input": "2023-05-10T01:13:12.358728Z",
     "iopub.status.busy": "2023-05-10T01:13:12.358580Z",
     "iopub.status.idle": "2023-05-10T01:13:14.749901Z",
     "shell.execute_reply": "2023-05-10T01:13:14.749095Z"
    }
   },
   "outputs": [
    {
     "name": "stdout",
     "output_type": "stream",
     "text": [
      "QueryJob<project=ironhacks-data, location=US, id=f150939f-49fa-4f34-9d53-5ebbee3d391c>\n"
     ]
    }
   ],
   "source": [
    "#QUERY DATA\n",
    "query_job = bigquery_client.query(query)\n",
    "print(query_job)\n",
    "unemp = query_job.to_dataframe()"
   ]
  },
  {
   "cell_type": "code",
   "execution_count": 6,
   "id": "97022774",
   "metadata": {
    "execution": {
     "iopub.execute_input": "2023-05-10T01:13:14.754168Z",
     "iopub.status.busy": "2023-05-10T01:13:14.753588Z",
     "iopub.status.idle": "2023-05-10T01:13:14.758919Z",
     "shell.execute_reply": "2023-05-10T01:13:14.758352Z"
    }
   },
   "outputs": [
    {
     "ename": "SyntaxError",
     "evalue": "invalid syntax (2518029149.py, line 11)",
     "output_type": "error",
     "traceback": [
      "\u001b[0;36m  Cell \u001b[0;32mIn [6], line 11\u001b[0;36m\u001b[0m\n\u001b[0;31m    import db-dtypes\u001b[0m\n\u001b[0m             ^\u001b[0m\n\u001b[0;31mSyntaxError\u001b[0m\u001b[0;31m:\u001b[0m invalid syntax\n"
     ]
    }
   ],
   "source": [
    "import csv\n",
    "import pandas as pd\n",
    "import numpy as np\n",
    "from google.cloud import bigquery\n",
    "from google.oauth2 import service_account\n",
    "from google.cloud.bigquery import magics\n",
    "from sklearn.model_selection import train_test_split \n",
    "from sklearn.linear_model import LinearRegression\n",
    "from sklearn import metrics\n",
    "import matplotlib.pyplot as plt  \n",
    "import db-dtypes"
   ]
  },
  {
   "cell_type": "code",
   "execution_count": 7,
   "id": "bbc29f03",
   "metadata": {
    "execution": {
     "iopub.execute_input": "2023-05-10T01:13:14.761966Z",
     "iopub.status.busy": "2023-05-10T01:13:14.761712Z",
     "iopub.status.idle": "2023-05-10T01:13:14.765418Z",
     "shell.execute_reply": "2023-05-10T01:13:14.764965Z"
    }
   },
   "outputs": [],
   "source": [
    "import csv\n",
    "import pandas as pd\n",
    "import numpy as np\n",
    "from google.cloud import bigquery\n",
    "from google.oauth2 import service_account\n",
    "from google.cloud.bigquery import magics\n",
    "from sklearn.model_selection import train_test_split \n",
    "from sklearn.linear_model import LinearRegression\n",
    "from sklearn import metrics\n",
    "import matplotlib.pyplot as plt  \n",
    "import db_dtypes"
   ]
  },
  {
   "cell_type": "code",
   "execution_count": 8,
   "id": "5a500422",
   "metadata": {
    "execution": {
     "iopub.execute_input": "2023-05-10T01:13:14.767870Z",
     "iopub.status.busy": "2023-05-10T01:13:14.767698Z",
     "iopub.status.idle": "2023-05-10T01:13:14.771023Z",
     "shell.execute_reply": "2023-05-10T01:13:14.770628Z"
    }
   },
   "outputs": [],
   "source": [
    "import csv\n",
    "import pandas as pd\n",
    "import numpy as np\n",
    "from google.cloud import bigquery\n",
    "from google.oauth2 import service_account\n",
    "from google.cloud.bigquery import magics\n",
    "from sklearn.model_selection import train_test_split \n",
    "from sklearn.linear_model import LinearRegression\n",
    "from sklearn import metrics\n",
    "import matplotlib.pyplot as plt  \n",
    "import db_dtypes"
   ]
  },
  {
   "cell_type": "code",
   "execution_count": 9,
   "id": "2fec7c61",
   "metadata": {
    "execution": {
     "iopub.execute_input": "2023-05-10T01:13:14.773276Z",
     "iopub.status.busy": "2023-05-10T01:13:14.773095Z",
     "iopub.status.idle": "2023-05-10T01:13:14.783563Z",
     "shell.execute_reply": "2023-05-10T01:13:14.783052Z"
    }
   },
   "outputs": [],
   "source": [
    "import os\n",
    "BIGQUERY_PROJECT = 'ironhacks-data'\n",
    "bigquery_client = bigquery.Client(project=BIGQUERY_PROJECT)"
   ]
  },
  {
   "cell_type": "code",
   "execution_count": 10,
   "id": "17539eba",
   "metadata": {
    "execution": {
     "iopub.execute_input": "2023-05-10T01:13:14.785920Z",
     "iopub.status.busy": "2023-05-10T01:13:14.785733Z",
     "iopub.status.idle": "2023-05-10T01:13:14.788072Z",
     "shell.execute_reply": "2023-05-10T01:13:14.787718Z"
    }
   },
   "outputs": [],
   "source": [
    "query = \"\"\"\n",
    "SELECT *\n",
    "FROM `ironhacks-data.ironhacks_competition.unemployment_data`\n",
    "\"\"\""
   ]
  },
  {
   "cell_type": "code",
   "execution_count": 11,
   "id": "0ce107a4",
   "metadata": {
    "execution": {
     "iopub.execute_input": "2023-05-10T01:13:14.790000Z",
     "iopub.status.busy": "2023-05-10T01:13:14.789835Z",
     "iopub.status.idle": "2023-05-10T01:13:17.444109Z",
     "shell.execute_reply": "2023-05-10T01:13:17.443367Z"
    }
   },
   "outputs": [
    {
     "name": "stdout",
     "output_type": "stream",
     "text": [
      "QueryJob<project=ironhacks-data, location=US, id=19d8b601-aa7d-44ca-ba0c-858b54e68a8e>\n"
     ]
    }
   ],
   "source": [
    "#QUERY DATA\n",
    "query_job = bigquery_client.query(query)\n",
    "print(query_job)\n",
    "unemp = query_job.to_dataframe()"
   ]
  },
  {
   "cell_type": "code",
   "execution_count": 12,
   "id": "6d7c634a",
   "metadata": {
    "execution": {
     "iopub.execute_input": "2023-05-10T01:13:17.448080Z",
     "iopub.status.busy": "2023-05-10T01:13:17.447753Z",
     "iopub.status.idle": "2023-05-10T01:13:17.453498Z",
     "shell.execute_reply": "2023-05-10T01:13:17.452894Z"
    }
   },
   "outputs": [
    {
     "ename": "SyntaxError",
     "evalue": "invalid syntax (2518029149.py, line 11)",
     "output_type": "error",
     "traceback": [
      "\u001b[0;36m  Cell \u001b[0;32mIn [12], line 11\u001b[0;36m\u001b[0m\n\u001b[0;31m    import db-dtypes\u001b[0m\n\u001b[0m             ^\u001b[0m\n\u001b[0;31mSyntaxError\u001b[0m\u001b[0;31m:\u001b[0m invalid syntax\n"
     ]
    }
   ],
   "source": [
    "import csv\n",
    "import pandas as pd\n",
    "import numpy as np\n",
    "from google.cloud import bigquery\n",
    "from google.oauth2 import service_account\n",
    "from google.cloud.bigquery import magics\n",
    "from sklearn.model_selection import train_test_split \n",
    "from sklearn.linear_model import LinearRegression\n",
    "from sklearn import metrics\n",
    "import matplotlib.pyplot as plt  \n",
    "import db-dtypes"
   ]
  },
  {
   "cell_type": "code",
   "execution_count": 13,
   "id": "1ab47006",
   "metadata": {
    "execution": {
     "iopub.execute_input": "2023-05-10T01:13:17.456588Z",
     "iopub.status.busy": "2023-05-10T01:13:17.456335Z",
     "iopub.status.idle": "2023-05-10T01:13:17.460806Z",
     "shell.execute_reply": "2023-05-10T01:13:17.460207Z"
    },
    "lines_to_next_cell": 2
   },
   "outputs": [],
   "source": [
    "import csv\n",
    "import pandas as pd\n",
    "import numpy as np\n",
    "from google.cloud import bigquery\n",
    "from google.oauth2 import service_account\n",
    "from google.cloud.bigquery import magics\n",
    "from sklearn.model_selection import train_test_split \n",
    "from sklearn.linear_model import LinearRegression\n",
    "from sklearn import metrics\n",
    "import matplotlib.pyplot as plt  \n",
    "import db_dtypes"
   ]
  }
 ],
 "metadata": {
  "jupytext": {
   "cell_metadata_filter": "-all",
   "main_language": "python",
   "notebook_metadata_filter": "-all"
  },
  "kernelspec": {
   "display_name": "base",
   "language": "python",
   "name": "python3"
  },
  "language_info": {
   "codemirror_mode": {
    "name": "ipython",
    "version": 3
   },
   "file_extension": ".py",
   "mimetype": "text/x-python",
   "name": "python",
   "nbconvert_exporter": "python",
   "pygments_lexer": "ipython3",
   "version": "3.9.12"
  }
 },
 "nbformat": 4,
 "nbformat_minor": 5
}
