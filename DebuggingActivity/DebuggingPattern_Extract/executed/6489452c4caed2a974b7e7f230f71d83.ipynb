{
 "cells": [
  {
   "cell_type": "code",
   "execution_count": 1,
   "id": "b4c6fa66",
   "metadata": {
    "execution": {
     "iopub.execute_input": "2023-05-10T01:23:19.907846Z",
     "iopub.status.busy": "2023-05-10T01:23:19.907567Z",
     "iopub.status.idle": "2023-05-10T01:23:19.924079Z",
     "shell.execute_reply": "2023-05-10T01:23:19.923487Z"
    }
   },
   "outputs": [],
   "source": [
    "get_ipython().run_cell_magic('capture', '', \"%logstop\\n%logstart -t -r -q ipython_command_log.py global\\n\\n#- IRONHACKS RESEARCH TRACKING CODE\\n#----------------------------------\\n# The following code is used to help our research team understand how you \\n# our notebook environment. We do not collect any personal information with\\n# the following code, it is used to measure when and how often you work on\\n# your submission files.\\n\\nimport os\\nfrom datetime import datetime\\nimport IPython.core.history as history\\n\\nha = history.HistoryAccessor()\\nha_tail = ha.get_tail(1)\\nha_cmd = next(ha_tail)\\nsession_id = str(ha_cmd[0])\\ncommand_id = str(ha_cmd[1])\\ntimestamp = datetime.utcnow().isoformat()\\nhistory_line = ','.join([session_id, command_id, timestamp]) + '\\\\n'\\nlogfile = open(os.environ['HOME']+'/ipython_session_log.csv', 'a')\\nlogfile.write(history_line)\\nlogfile.close()\\n\")"
   ]
  },
  {
   "cell_type": "markdown",
   "id": "a6306aec",
   "metadata": {},
   "source": [
    "SUBMISSION 11 Milestone\n",
    "The task was to predict the total_claims for week 42\n",
    "For each week there is a distinct list of uu_ids with unique uu_id in the table called prediction_list\n",
    "Predict a value for each of those uu_ids\n",
    "The list is changing over time (given the streaming nature of the data)"
   ]
  },
  {
   "cell_type": "code",
   "execution_count": 2,
   "id": "7f5702d9",
   "metadata": {
    "execution": {
     "iopub.execute_input": "2023-05-10T01:23:19.927051Z",
     "iopub.status.busy": "2023-05-10T01:23:19.926835Z",
     "iopub.status.idle": "2023-05-10T01:23:22.002921Z",
     "shell.execute_reply": "2023-05-10T01:23:22.002206Z"
    }
   },
   "outputs": [],
   "source": [
    "get_ipython().run_cell_magic('capture', '', \"\\n# INSTALL ADDITIONAL LIBRARIES IF REQUIRED\\n# ------------------------------------------\\n# This is normally not required. The hub environment comes preinstaled with \\n# many packages that you can already use without setup. In case there is some\\n# other library you would like to use that isn't on the list you run this command\\n# once to install them.  If it is already installed this command has no effect.\\n\\n!python3 -m pip install pandas\\n!python3 -m pip install [ensorflow]\\n!python3 -m pip install [Keras]\\n!python3 -m pip install [Pytorch]\\n\")"
   ]
  },
  {
   "cell_type": "markdown",
   "id": "47ebdc12",
   "metadata": {},
   "source": [
    "INSTALL PACKAGES"
   ]
  },
  {
   "cell_type": "code",
   "execution_count": 3,
   "id": "4e7bd49f",
   "metadata": {
    "execution": {
     "iopub.execute_input": "2023-05-10T01:23:22.006501Z",
     "iopub.status.busy": "2023-05-10T01:23:22.006110Z",
     "iopub.status.idle": "2023-05-10T01:23:24.671194Z",
     "shell.execute_reply": "2023-05-10T01:23:24.670627Z"
    }
   },
   "outputs": [
    {
     "name": "stdout",
     "output_type": "stream",
     "text": [
      "\u001b[33mWARNING: Ignoring invalid distribution -umpy (/opt/anaconda3/lib/python3.9/site-packages)\u001b[0m\r\n",
      "\u001b[33mWARNING: Ignoring invalid distribution -umpy (/opt/anaconda3/lib/python3.9/site-packages)\u001b[0m\r\n",
      "Requirement already satisfied: db-dtypes in /opt/anaconda3/lib/python3.9/site-packages (1.0.5)\r\n",
      "Requirement already satisfied: numpy<2.0dev,>=1.16.6 in /opt/anaconda3/lib/python3.9/site-packages (from db-dtypes) (1.22.4)\r\n",
      "Requirement already satisfied: packaging>=17.0 in /opt/anaconda3/lib/python3.9/site-packages (from db-dtypes) (21.3)\r\n",
      "Requirement already satisfied: pyarrow>=3.0.0 in /opt/anaconda3/lib/python3.9/site-packages (from db-dtypes) (10.0.1)\r\n",
      "Requirement already satisfied: pandas<2.0dev,>=0.24.2 in /opt/anaconda3/lib/python3.9/site-packages (from db-dtypes) (1.5.3)\r\n",
      "Requirement already satisfied: pyparsing!=3.0.5,>=2.0.2 in /opt/anaconda3/lib/python3.9/site-packages (from packaging>=17.0->db-dtypes) (3.0.4)\r\n",
      "Requirement already satisfied: python-dateutil>=2.8.1 in /opt/anaconda3/lib/python3.9/site-packages (from pandas<2.0dev,>=0.24.2->db-dtypes) (2.8.2)\r\n",
      "Requirement already satisfied: pytz>=2020.1 in /opt/anaconda3/lib/python3.9/site-packages (from pandas<2.0dev,>=0.24.2->db-dtypes) (2021.3)\r\n",
      "Requirement already satisfied: six>=1.5 in /opt/anaconda3/lib/python3.9/site-packages (from python-dateutil>=2.8.1->pandas<2.0dev,>=0.24.2->db-dtypes) (1.16.0)\r\n",
      "\u001b[33mWARNING: Ignoring invalid distribution -umpy (/opt/anaconda3/lib/python3.9/site-packages)\u001b[0m\r\n"
     ]
    },
    {
     "name": "stdout",
     "output_type": "stream",
     "text": [
      "\u001b[33mWARNING: Ignoring invalid distribution -umpy (/opt/anaconda3/lib/python3.9/site-packages)\u001b[0m\r\n",
      "\u001b[33mWARNING: Ignoring invalid distribution -umpy (/opt/anaconda3/lib/python3.9/site-packages)\u001b[0m\r\n",
      "\u001b[33mWARNING: Ignoring invalid distribution -umpy (/opt/anaconda3/lib/python3.9/site-packages)\u001b[0m\r\n"
     ]
    }
   ],
   "source": [
    "get_ipython().system('pip install db-dtypes')"
   ]
  },
  {
   "cell_type": "markdown",
   "id": "b8653076",
   "metadata": {},
   "source": [
    "IMPORT THE LIBRARIES YOU WILL USE\n",
    "------------------------------------------\n",
    "You only need to import packages one time per notebook session. To keep your\n",
    "notebook clean and organized you can handle all imports at the top of your file.\n",
    "The following are included for example purposed, feel free to modify or delete \n",
    "anything in this section."
   ]
  },
  {
   "cell_type": "code",
   "execution_count": 4,
   "id": "2251bd71",
   "metadata": {
    "execution": {
     "iopub.execute_input": "2023-05-10T01:23:24.673956Z",
     "iopub.status.busy": "2023-05-10T01:23:24.673750Z",
     "iopub.status.idle": "2023-05-10T01:23:25.420533Z",
     "shell.execute_reply": "2023-05-10T01:23:25.420231Z"
    }
   },
   "outputs": [],
   "source": [
    "import csv\n",
    "import pandas as pd\n",
    "import numpy as np\n",
    "from google.cloud import bigquery\n",
    "from google.oauth2 import service_account\n",
    "from google.cloud.bigquery import magics\n",
    "import statsmodels.api as sm\n",
    "import math"
   ]
  },
  {
   "cell_type": "markdown",
   "id": "15aeca57",
   "metadata": {},
   "source": [
    "IMPORT THE DATASET"
   ]
  },
  {
   "cell_type": "code",
   "execution_count": 5,
   "id": "1d27c5a6",
   "metadata": {
    "execution": {
     "iopub.execute_input": "2023-05-10T01:23:25.422241Z",
     "iopub.status.busy": "2023-05-10T01:23:25.422085Z",
     "iopub.status.idle": "2023-05-10T01:23:25.639277Z",
     "shell.execute_reply": "2023-05-10T01:23:25.638945Z"
    }
   },
   "outputs": [],
   "source": [
    "import pandas as pd\n",
    "import numpy as np\n",
    "import matplotlib.pyplot as plt\n",
    "import seaborn as sns\n",
    "get_ipython().run_line_magic('matplotlib', 'inline')"
   ]
  },
  {
   "cell_type": "code",
   "execution_count": 6,
   "id": "cb11506b",
   "metadata": {
    "execution": {
     "iopub.execute_input": "2023-05-10T01:23:25.641055Z",
     "iopub.status.busy": "2023-05-10T01:23:25.640895Z",
     "iopub.status.idle": "2023-05-10T01:23:25.642856Z",
     "shell.execute_reply": "2023-05-10T01:23:25.642606Z"
    }
   },
   "outputs": [],
   "source": [
    "import os\n",
    "from google.cloud import bigquery\n",
    "from google.oauth2 import service_account\n",
    "from google.cloud.bigquery import magics"
   ]
  },
  {
   "cell_type": "markdown",
   "id": "d47f031d",
   "metadata": {},
   "source": [
    "IMPORT IRONHACKS DATA"
   ]
  },
  {
   "cell_type": "code",
   "execution_count": 7,
   "id": "dbe4b423",
   "metadata": {
    "execution": {
     "iopub.execute_input": "2023-05-10T01:23:25.644310Z",
     "iopub.status.busy": "2023-05-10T01:23:25.644197Z",
     "iopub.status.idle": "2023-05-10T01:23:25.646050Z",
     "shell.execute_reply": "2023-05-10T01:23:25.645688Z"
    }
   },
   "outputs": [],
   "source": [
    "import os\n",
    "BIGQUERY_PROJECT = 'ironhacks-data'"
   ]
  },
  {
   "cell_type": "code",
   "execution_count": 8,
   "id": "7784a00a",
   "metadata": {
    "execution": {
     "iopub.execute_input": "2023-05-10T01:23:25.647687Z",
     "iopub.status.busy": "2023-05-10T01:23:25.647551Z",
     "iopub.status.idle": "2023-05-10T01:23:25.657358Z",
     "shell.execute_reply": "2023-05-10T01:23:25.657098Z"
    }
   },
   "outputs": [
    {
     "data": {
      "text/plain": [
       "<google.cloud.bigquery.client.Client at 0x10739a430>"
      ]
     },
     "execution_count": 8,
     "metadata": {},
     "output_type": "execute_result"
    }
   ],
   "source": [
    "bigquery.Client(project=BIGQUERY_PROJECT)"
   ]
  },
  {
   "cell_type": "markdown",
   "id": "f3fcf41c",
   "metadata": {},
   "source": [
    "IMPORT THE LINEAR REGRESSION MODEL"
   ]
  },
  {
   "cell_type": "code",
   "execution_count": 9,
   "id": "54f2eb98",
   "metadata": {
    "execution": {
     "iopub.execute_input": "2023-05-10T01:23:25.659067Z",
     "iopub.status.busy": "2023-05-10T01:23:25.658947Z",
     "iopub.status.idle": "2023-05-10T01:23:25.725520Z",
     "shell.execute_reply": "2023-05-10T01:23:25.725239Z"
    }
   },
   "outputs": [],
   "source": [
    "import csv\n",
    "import pandas as pd\n",
    "import numpy as np\n",
    "from google.cloud import bigquery\n",
    "from google.oauth2 import service_account\n",
    "from google.cloud.bigquery import magics\n",
    "from sklearn.model_selection import train_test_split \n",
    "from sklearn.linear_model import LinearRegression\n",
    "from sklearn import metrics\n",
    "import matplotlib.pyplot as plt  "
   ]
  },
  {
   "cell_type": "markdown",
   "id": "d611946c",
   "metadata": {},
   "source": [
    "IMPORT PACKAGE THE LINEAR REGRESSION MODEL- SCIKIT-LEARN \n",
    "SOURCE: https://realpython.com/linear-regression-in-python/#simple-linear-regression-with-scikit-learn\n",
    "NUMPY IS A FUNDAMENTAL PUYTHON SCIENTIFIC PACKAGE THAT ALLOWS MANY HIGH PEROFORMATION OPERATION SON A SINGLE AND MULTI DIMENSIONAL ARRAYS.\n",
    "SOURCE: https://realpython.com/linear-regression-in-python/#python-packages-for-linear-regression"
   ]
  },
  {
   "cell_type": "code",
   "execution_count": 10,
   "id": "16dfa8c5",
   "metadata": {
    "execution": {
     "iopub.execute_input": "2023-05-10T01:23:25.727706Z",
     "iopub.status.busy": "2023-05-10T01:23:25.727516Z",
     "iopub.status.idle": "2023-05-10T01:23:25.729782Z",
     "shell.execute_reply": "2023-05-10T01:23:25.729490Z"
    }
   },
   "outputs": [],
   "source": [
    "import numpy as np\n",
    "from sklearn.linear_model import LinearRegression"
   ]
  },
  {
   "cell_type": "code",
   "execution_count": 11,
   "id": "8a318ee3",
   "metadata": {
    "execution": {
     "iopub.execute_input": "2023-05-10T01:23:25.731307Z",
     "iopub.status.busy": "2023-05-10T01:23:25.731194Z",
     "iopub.status.idle": "2023-05-10T01:23:25.733274Z",
     "shell.execute_reply": "2023-05-10T01:23:25.733048Z"
    },
    "lines_to_next_cell": 1
   },
   "outputs": [],
   "source": [
    "# DEFINING THE DATA; INPUTS (REGRESSOR.X) AND OUTPUTS (RESPONSE.Y)\n",
    "x = np.array([5, 15, 25, 35, 45, 55]).reshape((-1, 1))\n",
    "y = np.array([5, 20, 14, 32, 22, 38])"
   ]
  },
  {
   "cell_type": "markdown",
   "id": "8a155b96",
   "metadata": {},
   "source": [
    "DEFINE YOUR CLASSES AND FUNCTIONS \n",
    "-----------------------------------\n",
    "This is not required, but is helpful in keeping your notebook organized. \n",
    "You can use the following cell or several cells to define your functions\n",
    "and classes to keep them separate from your analysis or results code.\n",
    "In general it useful to define your methods in a separate cell from where\n",
    "it is run."
   ]
  },
  {
   "cell_type": "code",
   "execution_count": 12,
   "id": "f9737fc8",
   "metadata": {
    "execution": {
     "iopub.execute_input": "2023-05-10T01:23:25.734639Z",
     "iopub.status.busy": "2023-05-10T01:23:25.734529Z",
     "iopub.status.idle": "2023-05-10T01:23:25.736100Z",
     "shell.execute_reply": "2023-05-10T01:23:25.735859Z"
    },
    "lines_to_next_cell": 1
   },
   "outputs": [],
   "source": [
    "def example_function():\n",
    "    print('Hello World')"
   ]
  },
  {
   "cell_type": "code",
   "execution_count": 13,
   "id": "88c65d4d",
   "metadata": {
    "execution": {
     "iopub.execute_input": "2023-05-10T01:23:25.737388Z",
     "iopub.status.busy": "2023-05-10T01:23:25.737311Z",
     "iopub.status.idle": "2023-05-10T01:23:25.738926Z",
     "shell.execute_reply": "2023-05-10T01:23:25.738698Z"
    }
   },
   "outputs": [],
   "source": [
    "# CREATE A LINEAR REGRESSION MODEL\n",
    "model = LinearRegression()"
   ]
  },
  {
   "cell_type": "markdown",
   "id": "2b19b70b",
   "metadata": {},
   "source": [
    "START USING A MODEL - .fit() fits the model\n",
    "SOURCE: REAL PYTHON - https://realpython.com/linear-regression-in-python/#simple-linear-regression-with-scikit-learn"
   ]
  },
  {
   "cell_type": "code",
   "execution_count": 14,
   "id": "9efe58f6",
   "metadata": {
    "execution": {
     "iopub.execute_input": "2023-05-10T01:23:25.740244Z",
     "iopub.status.busy": "2023-05-10T01:23:25.740159Z",
     "iopub.status.idle": "2023-05-10T01:23:25.743019Z",
     "shell.execute_reply": "2023-05-10T01:23:25.742766Z"
    }
   },
   "outputs": [
    {
     "data": {
      "text/plain": [
       "sklearn.linear_model._base.LinearRegression"
      ]
     },
     "execution_count": 14,
     "metadata": {},
     "output_type": "execute_result"
    }
   ],
   "source": [
    "model.fit(x,y)\n",
    "LinearRegression"
   ]
  },
  {
   "cell_type": "code",
   "execution_count": 15,
   "id": "d6536a7b",
   "metadata": {
    "execution": {
     "iopub.execute_input": "2023-05-10T01:23:25.744440Z",
     "iopub.status.busy": "2023-05-10T01:23:25.744352Z",
     "iopub.status.idle": "2023-05-10T01:23:25.746395Z",
     "shell.execute_reply": "2023-05-10T01:23:25.746150Z"
    }
   },
   "outputs": [
    {
     "name": "stdout",
     "output_type": "stream",
     "text": [
      "coefficient of determination: 0.715875613747954\n"
     ]
    }
   ],
   "source": [
    "# GET RESULTS - NOW THAT THE MODEL HAS BEEN FITTED; LET SEE IF IT WORKS!\n",
    "r_sq = model.score(x, y)\n",
    "print(f\"coefficient of determination: {r_sq}\")"
   ]
  },
  {
   "cell_type": "markdown",
   "id": "d7ee0729",
   "metadata": {},
   "source": [
    "THE RETURN VALUE SHOULD BE R2"
   ]
  },
  {
   "cell_type": "markdown",
   "id": "7f2adc70",
   "metadata": {},
   "source": [
    "DETERMIINE HOW TO GET b0 and b1 (scikit-learn)\n",
    "intercept and coefficient are estimated values"
   ]
  },
  {
   "cell_type": "code",
   "execution_count": 16,
   "id": "90a7398b",
   "metadata": {
    "execution": {
     "iopub.execute_input": "2023-05-10T01:23:25.747823Z",
     "iopub.status.busy": "2023-05-10T01:23:25.747708Z",
     "iopub.status.idle": "2023-05-10T01:23:25.750471Z",
     "shell.execute_reply": "2023-05-10T01:23:25.750214Z"
    }
   },
   "outputs": [
    {
     "name": "stdout",
     "output_type": "stream",
     "text": [
      "intercept: [5.63333333]\n"
     ]
    }
   ],
   "source": [
    "new_model = LinearRegression().fit(x,y.reshape((-1,1)))\n",
    "print(f\"intercept: {new_model.intercept_}\")"
   ]
  },
  {
   "cell_type": "code",
   "execution_count": 17,
   "id": "261887fb",
   "metadata": {
    "execution": {
     "iopub.execute_input": "2023-05-10T01:23:25.751882Z",
     "iopub.status.busy": "2023-05-10T01:23:25.751778Z",
     "iopub.status.idle": "2023-05-10T01:23:25.753685Z",
     "shell.execute_reply": "2023-05-10T01:23:25.753458Z"
    }
   },
   "outputs": [
    {
     "name": "stdout",
     "output_type": "stream",
     "text": [
      "slope: [[0.54]]\n"
     ]
    }
   ],
   "source": [
    "# DETERMIINE HOW TO GET b0 and b1 (scikit-learn)\n",
    "# intercept and coefficient are estimated values\n",
    "print(f\"slope: {new_model.coef_}\")"
   ]
  },
  {
   "cell_type": "code",
   "execution_count": 18,
   "id": "69eb21ca",
   "metadata": {
    "execution": {
     "iopub.execute_input": "2023-05-10T01:23:25.755024Z",
     "iopub.status.busy": "2023-05-10T01:23:25.754924Z",
     "iopub.status.idle": "2023-05-10T01:23:25.756796Z",
     "shell.execute_reply": "2023-05-10T01:23:25.756547Z"
    }
   },
   "outputs": [
    {
     "name": "stdout",
     "output_type": "stream",
     "text": [
      "predicted response:\n",
      "[ 8.33333333 13.73333333 19.13333333 24.53333333 29.93333333 35.33333333]\n"
     ]
    }
   ],
   "source": [
    "# NOW THAT WE KNOW OUR MODEL IS WORKING; LET'S PREDICT A RESPONSE!\n",
    "y_pred = model.predict(x)\n",
    "print(f\"predicted response:\\n{y_pred}\")"
   ]
  },
  {
   "cell_type": "markdown",
   "id": "5736d778",
   "metadata": {},
   "source": [
    "HERE'S ANOTHER WAY TO PREDICT THE RESPONSE\n",
    "THIS IS WERE EACH ELEMENT OF X WERE MULTIPLIED BY WITH THE MODEL COEFFICIENT"
   ]
  },
  {
   "cell_type": "code",
   "execution_count": 19,
   "id": "55228002",
   "metadata": {
    "execution": {
     "iopub.execute_input": "2023-05-10T01:23:25.758133Z",
     "iopub.status.busy": "2023-05-10T01:23:25.758038Z",
     "iopub.status.idle": "2023-05-10T01:23:25.759723Z",
     "shell.execute_reply": "2023-05-10T01:23:25.759485Z"
    }
   },
   "outputs": [
    {
     "name": "stdout",
     "output_type": "stream",
     "text": [
      "predicted response:\n",
      "[[ 8.33333333]\n",
      " [13.73333333]\n",
      " [19.13333333]\n",
      " [24.53333333]\n",
      " [29.93333333]\n",
      " [35.33333333]]\n"
     ]
    }
   ],
   "source": [
    "y_pred = model.intercept_ + model.coef_ * x\n",
    "print(f\"predicted response:\\n{y_pred}\")"
   ]
  },
  {
   "cell_type": "markdown",
   "id": "d32dd198",
   "metadata": {},
   "source": [
    "REGRESSION MODELS ARE TYPCIALLY USED FOR FORECASTS\n",
    "FITTED MODELS CAN BE USED TO CALCULATE THE OUTPUTS"
   ]
  },
  {
   "cell_type": "code",
   "execution_count": 20,
   "id": "c98c6964",
   "metadata": {
    "execution": {
     "iopub.execute_input": "2023-05-10T01:23:25.761042Z",
     "iopub.status.busy": "2023-05-10T01:23:25.760965Z",
     "iopub.status.idle": "2023-05-10T01:23:25.763240Z",
     "shell.execute_reply": "2023-05-10T01:23:25.762995Z"
    }
   },
   "outputs": [
    {
     "data": {
      "text/plain": [
       "array([[0],\n",
       "       [1],\n",
       "       [2],\n",
       "       [3],\n",
       "       [4]])"
      ]
     },
     "execution_count": 20,
     "metadata": {},
     "output_type": "execute_result"
    }
   ],
   "source": [
    "x_new = np.arange(5). reshape((-1, 1))\n",
    "x_new"
   ]
  },
  {
   "cell_type": "code",
   "execution_count": 21,
   "id": "dc4993e7",
   "metadata": {
    "execution": {
     "iopub.execute_input": "2023-05-10T01:23:25.765047Z",
     "iopub.status.busy": "2023-05-10T01:23:25.764828Z",
     "iopub.status.idle": "2023-05-10T01:23:25.767388Z",
     "shell.execute_reply": "2023-05-10T01:23:25.767138Z"
    }
   },
   "outputs": [
    {
     "data": {
      "text/plain": [
       "array([5.63333333, 6.17333333, 6.71333333, 7.25333333, 7.79333333])"
      ]
     },
     "execution_count": 21,
     "metadata": {},
     "output_type": "execute_result"
    }
   ],
   "source": [
    "# REGRESSION MODELS ARE TYPCIALLY USED FOR FORECASTS\n",
    "# FITTED MODELS CAN BE USED TO CALCULATE THE OUTPUTS\n",
    "y_new = model.predict(x_new)\n",
    "y_new"
   ]
  },
  {
   "cell_type": "markdown",
   "id": "8b32bafd",
   "metadata": {},
   "source": [
    "Obtain data using BigQuery"
   ]
  },
  {
   "cell_type": "code",
   "execution_count": 22,
   "id": "810ff449",
   "metadata": {
    "execution": {
     "iopub.execute_input": "2023-05-10T01:23:25.768741Z",
     "iopub.status.busy": "2023-05-10T01:23:25.768645Z",
     "iopub.status.idle": "2023-05-10T01:23:25.775507Z",
     "shell.execute_reply": "2023-05-10T01:23:25.775181Z"
    }
   },
   "outputs": [],
   "source": [
    "BIGQUERY_PROJECT = 'ironhacks-data'\n",
    "bigquery_client = bigquery.Client(project=BIGQUERY_PROJECT)"
   ]
  },
  {
   "cell_type": "code",
   "execution_count": 23,
   "id": "0332a9fa",
   "metadata": {
    "execution": {
     "iopub.execute_input": "2023-05-10T01:23:25.777860Z",
     "iopub.status.busy": "2023-05-10T01:23:25.777491Z",
     "iopub.status.idle": "2023-05-10T01:23:25.779860Z",
     "shell.execute_reply": "2023-05-10T01:23:25.779625Z"
    }
   },
   "outputs": [],
   "source": [
    "query = \"\"\"\n",
    "SELECT\n",
    "x.*,\n",
    "y.average_wage\n",
    "FROM\n",
    "(SELECT\n",
    "*\n",
    "FROM `ironhacks-data.ironhacks_competition.unemployment_data`) x\n",
    "JOIN `ironhacks-data.ironhacks_competition.wage_data` y\n",
    "ON x.uu_id = y.uu_id\n",
    "\"\"\""
   ]
  },
  {
   "cell_type": "code",
   "execution_count": 24,
   "id": "9211cd98",
   "metadata": {
    "execution": {
     "iopub.execute_input": "2023-05-10T01:23:25.781341Z",
     "iopub.status.busy": "2023-05-10T01:23:25.781230Z",
     "iopub.status.idle": "2023-05-10T01:23:27.964457Z",
     "shell.execute_reply": "2023-05-10T01:23:27.963649Z"
    }
   },
   "outputs": [],
   "source": [
    "query_job = bigquery_client.query(query)\n",
    "data = query_job.to_dataframe()"
   ]
  },
  {
   "cell_type": "code",
   "execution_count": 25,
   "id": "1fa59bd6",
   "metadata": {
    "execution": {
     "iopub.execute_input": "2023-05-10T01:23:27.968484Z",
     "iopub.status.busy": "2023-05-10T01:23:27.968125Z",
     "iopub.status.idle": "2023-05-10T01:23:27.971793Z",
     "shell.execute_reply": "2023-05-10T01:23:27.971100Z"
    }
   },
   "outputs": [],
   "source": [
    "query_pred = \"\"\"\n",
    "SELECT * FROM `ironhacks-data.ironhacks_competition.prediction_list`\n",
    "\"\"\""
   ]
  },
  {
   "cell_type": "code",
   "execution_count": 26,
   "id": "bc6a9c60",
   "metadata": {
    "execution": {
     "iopub.execute_input": "2023-05-10T01:23:27.974967Z",
     "iopub.status.busy": "2023-05-10T01:23:27.974540Z",
     "iopub.status.idle": "2023-05-10T01:23:29.578025Z",
     "shell.execute_reply": "2023-05-10T01:23:29.576763Z"
    }
   },
   "outputs": [],
   "source": [
    "query_job_pred = bigquery_client.query(query_pred)\n",
    "data_pred_query= query_job_pred.to_dataframe()"
   ]
  },
  {
   "cell_type": "code",
   "execution_count": 27,
   "id": "8c64db27",
   "metadata": {
    "execution": {
     "iopub.execute_input": "2023-05-10T01:23:29.584719Z",
     "iopub.status.busy": "2023-05-10T01:23:29.584196Z",
     "iopub.status.idle": "2023-05-10T01:23:29.593091Z",
     "shell.execute_reply": "2023-05-10T01:23:29.592118Z"
    }
   },
   "outputs": [],
   "source": [
    "# START USING A MODEL - Same statement written differently\n",
    "model = LinearRegression().fit(x,y)"
   ]
  },
  {
   "cell_type": "code",
   "execution_count": 28,
   "id": "a24d28be",
   "metadata": {
    "execution": {
     "iopub.execute_input": "2023-05-10T01:23:29.598031Z",
     "iopub.status.busy": "2023-05-10T01:23:29.597612Z",
     "iopub.status.idle": "2023-05-10T01:23:29.604376Z",
     "shell.execute_reply": "2023-05-10T01:23:29.603337Z"
    }
   },
   "outputs": [
    {
     "name": "stdout",
     "output_type": "stream",
     "text": [
      "coefficient of determination: 0.715875613747954\n"
     ]
    }
   ],
   "source": [
    "# GET RESULTS - NOW THAT THE MODEL HAS BEEN FITTED; LET SEE IF IT WORKS!\n",
    "r_sq = model.score(x, y)\n",
    "print(f\"coefficient of determination: {r_sq}\")"
   ]
  },
  {
   "cell_type": "markdown",
   "id": "a0acf7cd",
   "metadata": {},
   "source": [
    "THE RETURN VALUE SHOULD BE R2"
   ]
  },
  {
   "cell_type": "code",
   "execution_count": 29,
   "id": "4a37df85",
   "metadata": {
    "execution": {
     "iopub.execute_input": "2023-05-10T01:23:29.608647Z",
     "iopub.status.busy": "2023-05-10T01:23:29.608314Z",
     "iopub.status.idle": "2023-05-10T01:23:29.615924Z",
     "shell.execute_reply": "2023-05-10T01:23:29.615400Z"
    }
   },
   "outputs": [
    {
     "data": {
      "text/html": [
       "<style>#sk-container-id-1 {color: black;background-color: white;}#sk-container-id-1 pre{padding: 0;}#sk-container-id-1 div.sk-toggleable {background-color: white;}#sk-container-id-1 label.sk-toggleable__label {cursor: pointer;display: block;width: 100%;margin-bottom: 0;padding: 0.3em;box-sizing: border-box;text-align: center;}#sk-container-id-1 label.sk-toggleable__label-arrow:before {content: \"▸\";float: left;margin-right: 0.25em;color: #696969;}#sk-container-id-1 label.sk-toggleable__label-arrow:hover:before {color: black;}#sk-container-id-1 div.sk-estimator:hover label.sk-toggleable__label-arrow:before {color: black;}#sk-container-id-1 div.sk-toggleable__content {max-height: 0;max-width: 0;overflow: hidden;text-align: left;background-color: #f0f8ff;}#sk-container-id-1 div.sk-toggleable__content pre {margin: 0.2em;color: black;border-radius: 0.25em;background-color: #f0f8ff;}#sk-container-id-1 input.sk-toggleable__control:checked~div.sk-toggleable__content {max-height: 200px;max-width: 100%;overflow: auto;}#sk-container-id-1 input.sk-toggleable__control:checked~label.sk-toggleable__label-arrow:before {content: \"▾\";}#sk-container-id-1 div.sk-estimator input.sk-toggleable__control:checked~label.sk-toggleable__label {background-color: #d4ebff;}#sk-container-id-1 div.sk-label input.sk-toggleable__control:checked~label.sk-toggleable__label {background-color: #d4ebff;}#sk-container-id-1 input.sk-hidden--visually {border: 0;clip: rect(1px 1px 1px 1px);clip: rect(1px, 1px, 1px, 1px);height: 1px;margin: -1px;overflow: hidden;padding: 0;position: absolute;width: 1px;}#sk-container-id-1 div.sk-estimator {font-family: monospace;background-color: #f0f8ff;border: 1px dotted black;border-radius: 0.25em;box-sizing: border-box;margin-bottom: 0.5em;}#sk-container-id-1 div.sk-estimator:hover {background-color: #d4ebff;}#sk-container-id-1 div.sk-parallel-item::after {content: \"\";width: 100%;border-bottom: 1px solid gray;flex-grow: 1;}#sk-container-id-1 div.sk-label:hover label.sk-toggleable__label {background-color: #d4ebff;}#sk-container-id-1 div.sk-serial::before {content: \"\";position: absolute;border-left: 1px solid gray;box-sizing: border-box;top: 0;bottom: 0;left: 50%;z-index: 0;}#sk-container-id-1 div.sk-serial {display: flex;flex-direction: column;align-items: center;background-color: white;padding-right: 0.2em;padding-left: 0.2em;position: relative;}#sk-container-id-1 div.sk-item {position: relative;z-index: 1;}#sk-container-id-1 div.sk-parallel {display: flex;align-items: stretch;justify-content: center;background-color: white;position: relative;}#sk-container-id-1 div.sk-item::before, #sk-container-id-1 div.sk-parallel-item::before {content: \"\";position: absolute;border-left: 1px solid gray;box-sizing: border-box;top: 0;bottom: 0;left: 50%;z-index: -1;}#sk-container-id-1 div.sk-parallel-item {display: flex;flex-direction: column;z-index: 1;position: relative;background-color: white;}#sk-container-id-1 div.sk-parallel-item:first-child::after {align-self: flex-end;width: 50%;}#sk-container-id-1 div.sk-parallel-item:last-child::after {align-self: flex-start;width: 50%;}#sk-container-id-1 div.sk-parallel-item:only-child::after {width: 0;}#sk-container-id-1 div.sk-dashed-wrapped {border: 1px dashed gray;margin: 0 0.4em 0.5em 0.4em;box-sizing: border-box;padding-bottom: 0.4em;background-color: white;}#sk-container-id-1 div.sk-label label {font-family: monospace;font-weight: bold;display: inline-block;line-height: 1.2em;}#sk-container-id-1 div.sk-label-container {text-align: center;}#sk-container-id-1 div.sk-container {/* jupyter's `normalize.less` sets `[hidden] { display: none; }` but bootstrap.min.css set `[hidden] { display: none !important; }` so we also need the `!important` here to be able to override the default hidden behavior on the sphinx rendered scikit-learn.org. See: https://github.com/scikit-learn/scikit-learn/issues/21755 */display: inline-block !important;position: relative;}#sk-container-id-1 div.sk-text-repr-fallback {display: none;}</style><div id=\"sk-container-id-1\" class=\"sk-top-container\"><div class=\"sk-text-repr-fallback\"><pre>LinearRegression()</pre><b>In a Jupyter environment, please rerun this cell to show the HTML representation or trust the notebook. <br />On GitHub, the HTML representation is unable to render, please try loading this page with nbviewer.org.</b></div><div class=\"sk-container\" hidden><div class=\"sk-item\"><div class=\"sk-estimator sk-toggleable\"><input class=\"sk-toggleable__control sk-hidden--visually\" id=\"sk-estimator-id-1\" type=\"checkbox\" checked><label for=\"sk-estimator-id-1\" class=\"sk-toggleable__label sk-toggleable__label-arrow\">LinearRegression</label><div class=\"sk-toggleable__content\"><pre>LinearRegression()</pre></div></div></div></div></div>"
      ],
      "text/plain": [
       "LinearRegression()"
      ]
     },
     "execution_count": 29,
     "metadata": {},
     "output_type": "execute_result"
    }
   ],
   "source": [
    "# Linear Regression\n",
    "model.fit(x, y)\n",
    "LinearRegression()"
   ]
  },
  {
   "cell_type": "code",
   "execution_count": 30,
   "id": "9836d1fc",
   "metadata": {
    "execution": {
     "iopub.execute_input": "2023-05-10T01:23:29.618867Z",
     "iopub.status.busy": "2023-05-10T01:23:29.618586Z",
     "iopub.status.idle": "2023-05-10T01:23:29.622655Z",
     "shell.execute_reply": "2023-05-10T01:23:29.622109Z"
    }
   },
   "outputs": [],
   "source": [
    "# Test Linear Regression\n",
    "model = LinearRegression().fit(x, y)"
   ]
  },
  {
   "cell_type": "code",
   "execution_count": 31,
   "id": "1e005647",
   "metadata": {
    "execution": {
     "iopub.execute_input": "2023-05-10T01:23:29.625130Z",
     "iopub.status.busy": "2023-05-10T01:23:29.624951Z",
     "iopub.status.idle": "2023-05-10T01:23:29.628369Z",
     "shell.execute_reply": "2023-05-10T01:23:29.627901Z"
    }
   },
   "outputs": [
    {
     "name": "stdout",
     "output_type": "stream",
     "text": [
      "coefficient of determination: 0.715875613747954\n"
     ]
    }
   ],
   "source": [
    "# Test Linear Regression\n",
    "r_sq = model.score(x, y)\n",
    "print(f\"coefficient of determination: {r_sq}\")"
   ]
  },
  {
   "cell_type": "code",
   "execution_count": 32,
   "id": "2464bbf8",
   "metadata": {
    "execution": {
     "iopub.execute_input": "2023-05-10T01:23:29.630817Z",
     "iopub.status.busy": "2023-05-10T01:23:29.630589Z",
     "iopub.status.idle": "2023-05-10T01:23:29.633626Z",
     "shell.execute_reply": "2023-05-10T01:23:29.633153Z"
    }
   },
   "outputs": [
    {
     "name": "stdout",
     "output_type": "stream",
     "text": [
      "predicted response:\n",
      "[[ 8.33333333]\n",
      " [13.73333333]\n",
      " [19.13333333]\n",
      " [24.53333333]\n",
      " [29.93333333]\n",
      " [35.33333333]]\n"
     ]
    }
   ],
   "source": [
    "# Test Linear Regression\n",
    "print(f\"predicted response:\\n{y_pred}\")"
   ]
  },
  {
   "cell_type": "code",
   "execution_count": 33,
   "id": "df1e3da3",
   "metadata": {
    "execution": {
     "iopub.execute_input": "2023-05-10T01:23:29.635751Z",
     "iopub.status.busy": "2023-05-10T01:23:29.635613Z",
     "iopub.status.idle": "2023-05-10T01:23:29.639095Z",
     "shell.execute_reply": "2023-05-10T01:23:29.638686Z"
    }
   },
   "outputs": [
    {
     "name": "stdout",
     "output_type": "stream",
     "text": [
      "intercept: [5.63333333]\n"
     ]
    }
   ],
   "source": [
    "# Test Linear Regression\n",
    "new_model = LinearRegression().fit(x, y.reshape((-1, 1)))\n",
    "print(f\"intercept: {new_model.intercept_}\")"
   ]
  },
  {
   "cell_type": "code",
   "execution_count": 34,
   "id": "77343e97",
   "metadata": {
    "execution": {
     "iopub.execute_input": "2023-05-10T01:23:29.641266Z",
     "iopub.status.busy": "2023-05-10T01:23:29.641091Z",
     "iopub.status.idle": "2023-05-10T01:23:29.643584Z",
     "shell.execute_reply": "2023-05-10T01:23:29.643248Z"
    }
   },
   "outputs": [
    {
     "name": "stdout",
     "output_type": "stream",
     "text": [
      "slope: [[0.54]]\n"
     ]
    }
   ],
   "source": [
    "print(f\"slope: {new_model.coef_}\")"
   ]
  },
  {
   "cell_type": "code",
   "execution_count": 35,
   "id": "a96f8fd8",
   "metadata": {
    "execution": {
     "iopub.execute_input": "2023-05-10T01:23:29.645566Z",
     "iopub.status.busy": "2023-05-10T01:23:29.645410Z",
     "iopub.status.idle": "2023-05-10T01:23:29.648318Z",
     "shell.execute_reply": "2023-05-10T01:23:29.648002Z"
    }
   },
   "outputs": [
    {
     "data": {
      "text/plain": [
       "array([[0],\n",
       "       [1],\n",
       "       [2],\n",
       "       [3],\n",
       "       [4]])"
      ]
     },
     "execution_count": 35,
     "metadata": {},
     "output_type": "execute_result"
    }
   ],
   "source": [
    "# Test Linear Regression\n",
    "x_new = np.arange(5).reshape((-1, 1))\n",
    "x_new"
   ]
  },
  {
   "cell_type": "code",
   "execution_count": 36,
   "id": "185c5ec8",
   "metadata": {
    "execution": {
     "iopub.execute_input": "2023-05-10T01:23:29.649993Z",
     "iopub.status.busy": "2023-05-10T01:23:29.649849Z",
     "iopub.status.idle": "2023-05-10T01:23:29.652279Z",
     "shell.execute_reply": "2023-05-10T01:23:29.651971Z"
    }
   },
   "outputs": [
    {
     "data": {
      "text/plain": [
       "array([[ 5],\n",
       "       [15],\n",
       "       [25],\n",
       "       [35],\n",
       "       [45],\n",
       "       [55]])"
      ]
     },
     "execution_count": 36,
     "metadata": {},
     "output_type": "execute_result"
    }
   ],
   "source": [
    "# Test Linear Regression\n",
    "x"
   ]
  },
  {
   "cell_type": "code",
   "execution_count": 37,
   "id": "c2a62eb0",
   "metadata": {
    "execution": {
     "iopub.execute_input": "2023-05-10T01:23:29.653963Z",
     "iopub.status.busy": "2023-05-10T01:23:29.653836Z",
     "iopub.status.idle": "2023-05-10T01:23:29.656213Z",
     "shell.execute_reply": "2023-05-10T01:23:29.655928Z"
    }
   },
   "outputs": [
    {
     "data": {
      "text/plain": [
       "array([ 5, 20, 14, 32, 22, 38])"
      ]
     },
     "execution_count": 37,
     "metadata": {},
     "output_type": "execute_result"
    }
   ],
   "source": [
    "# Test Linear Regression\n",
    "y"
   ]
  },
  {
   "cell_type": "code",
   "execution_count": 38,
   "id": "b7c5f96f",
   "metadata": {
    "execution": {
     "iopub.execute_input": "2023-05-10T01:23:29.657881Z",
     "iopub.status.busy": "2023-05-10T01:23:29.657748Z",
     "iopub.status.idle": "2023-05-10T01:23:29.659994Z",
     "shell.execute_reply": "2023-05-10T01:23:29.659697Z"
    }
   },
   "outputs": [],
   "source": [
    "# Test Linear Regression\n",
    "model = LinearRegression().fit(x, y)"
   ]
  },
  {
   "cell_type": "code",
   "execution_count": 39,
   "id": "9c85a39e",
   "metadata": {
    "execution": {
     "iopub.execute_input": "2023-05-10T01:23:29.661613Z",
     "iopub.status.busy": "2023-05-10T01:23:29.661487Z",
     "iopub.status.idle": "2023-05-10T01:23:29.663600Z",
     "shell.execute_reply": "2023-05-10T01:23:29.663329Z"
    }
   },
   "outputs": [],
   "source": [
    "# Test Linear Regression\n",
    "model = sm.OLS(y, x)"
   ]
  },
  {
   "cell_type": "code",
   "execution_count": 40,
   "id": "23d63c42",
   "metadata": {
    "execution": {
     "iopub.execute_input": "2023-05-10T01:23:29.665100Z",
     "iopub.status.busy": "2023-05-10T01:23:29.664984Z",
     "iopub.status.idle": "2023-05-10T01:23:29.666906Z",
     "shell.execute_reply": "2023-05-10T01:23:29.666653Z"
    }
   },
   "outputs": [],
   "source": [
    "# Test Linear Regression\n",
    "results = model.fit()"
   ]
  },
  {
   "cell_type": "markdown",
   "id": "978820ad",
   "metadata": {},
   "source": [
    "install conda install module_name"
   ]
  },
  {
   "cell_type": "code",
   "execution_count": 41,
   "id": "23a16e72",
   "metadata": {
    "execution": {
     "iopub.execute_input": "2023-05-10T01:23:29.668330Z",
     "iopub.status.busy": "2023-05-10T01:23:29.668225Z",
     "iopub.status.idle": "2023-05-10T01:23:29.673919Z",
     "shell.execute_reply": "2023-05-10T01:23:29.673671Z"
    }
   },
   "outputs": [
    {
     "name": "stdout",
     "output_type": "stream",
     "text": [
      "                                 OLS Regression Results                                \n",
      "=======================================================================================\n",
      "Dep. Variable:                      y   R-squared (uncentered):                   0.930\n",
      "Model:                            OLS   Adj. R-squared (uncentered):              0.916\n",
      "Method:                 Least Squares   F-statistic:                              66.71\n",
      "Date:                Tue, 09 May 2023   Prob (F-statistic):                    0.000447\n",
      "Time:                        21:23:29   Log-Likelihood:                         -19.692\n",
      "No. Observations:                   6   AIC:                                      41.38\n",
      "Df Residuals:                       5   BIC:                                      41.18\n",
      "Df Model:                           1                                                  \n",
      "Covariance Type:            nonrobust                                                  \n",
      "==============================================================================\n",
      "                 coef    std err          t      P>|t|      [0.025      0.975]\n",
      "------------------------------------------------------------------------------\n",
      "x1             0.6818      0.083      8.167      0.000       0.467       0.896\n",
      "==============================================================================\n",
      "Omnibus:                          nan   Durbin-Watson:                   2.904\n",
      "Prob(Omnibus):                    nan   Jarque-Bera (JB):                0.334\n",
      "Skew:                          -0.137   Prob(JB):                        0.846\n",
      "Kurtosis:                       1.877   Cond. No.                         1.00\n",
      "==============================================================================\n",
      "\n",
      "Notes:\n",
      "[1] R² is computed without centering (uncentered) since the model does not contain a constant.\n",
      "[2] Standard Errors assume that the covariance matrix of the errors is correctly specified.\n"
     ]
    },
    {
     "name": "stderr",
     "output_type": "stream",
     "text": [
      "/opt/homebrew/lib/python3.9/site-packages/statsmodels/stats/stattools.py:74: ValueWarning: omni_normtest is not valid with less than 8 observations; 6 samples were given.\n",
      "  warn(\"omni_normtest is not valid with less than 8 observations; %i \"\n"
     ]
    }
   ],
   "source": [
    "# Test Linear Regression\n",
    "print(results.summary())"
   ]
  },
  {
   "cell_type": "code",
   "execution_count": 42,
   "id": "4273cd4f",
   "metadata": {
    "execution": {
     "iopub.execute_input": "2023-05-10T01:23:29.675333Z",
     "iopub.status.busy": "2023-05-10T01:23:29.675248Z",
     "iopub.status.idle": "2023-05-10T01:23:29.677227Z",
     "shell.execute_reply": "2023-05-10T01:23:29.676987Z"
    }
   },
   "outputs": [],
   "source": [
    "from statsmodels.compat import lzip\n",
    "import numpy as np\n",
    "import matplotlib.pyplot as plt\n",
    "import statsmodels.api as sm\n",
    "from statsmodels.formula.api import ols"
   ]
  },
  {
   "cell_type": "code",
   "execution_count": 43,
   "id": "e93c72d7",
   "metadata": {
    "execution": {
     "iopub.execute_input": "2023-05-10T01:23:29.678501Z",
     "iopub.status.busy": "2023-05-10T01:23:29.678427Z",
     "iopub.status.idle": "2023-05-10T01:23:29.680200Z",
     "shell.execute_reply": "2023-05-10T01:23:29.679958Z"
    }
   },
   "outputs": [],
   "source": [
    "plt.rc(\"figure\", figsize=(16, 8))\n",
    "plt.rc(\"font\", size=14)"
   ]
  },
  {
   "cell_type": "code",
   "execution_count": 44,
   "id": "799e17da",
   "metadata": {
    "execution": {
     "iopub.execute_input": "2023-05-10T01:23:29.681480Z",
     "iopub.status.busy": "2023-05-10T01:23:29.681395Z",
     "iopub.status.idle": "2023-05-10T01:23:29.754486Z",
     "shell.execute_reply": "2023-05-10T01:23:29.754204Z"
    }
   },
   "outputs": [
    {
     "ename": "NameError",
     "evalue": "name 'prestige_model' is not defined",
     "output_type": "error",
     "traceback": [
      "\u001b[0;31m---------------------------------------------------------------------------\u001b[0m",
      "\u001b[0;31mNameError\u001b[0m                                 Traceback (most recent call last)",
      "Cell \u001b[0;32mIn [44], line 1\u001b[0m\n\u001b[0;32m----> 1\u001b[0m \u001b[38;5;28mprint\u001b[39m(\u001b[43mprestige_model\u001b[49m\u001b[38;5;241m.\u001b[39msummary())\n",
      "\u001b[0;31mNameError\u001b[0m: name 'prestige_model' is not defined"
     ]
    }
   ],
   "source": [
    "print(prestige_model.summary())"
   ]
  },
  {
   "cell_type": "markdown",
   "id": "892aea69",
   "metadata": {},
   "source": [
    "https://www.statsmodels.org/dev/examples/notebooks/generated/regression_plots.html"
   ]
  },
  {
   "cell_type": "markdown",
   "id": "928c7958",
   "metadata": {},
   "source": [
    "dta = pd.read_csv(\"http://www.stat.ufl.edu/~aa/social/csv_files/statewide-crime-2.csv\")\n",
    "dta = dta.set_index(\"State\", inplace=True).dropna()\n",
    "dta.rename(columns={\"VR\" : \"crime\",\n",
    "                   \"MR\" : \"murder\",\n",
    "                   \"M\"  : \"pctmetro\",\n",
    "                   \"W\"  : \"pctwhite\",\n",
    "                   \"H\"  : \"pcths\",\n",
    "                   \"P\"  : \"poverty\",\n",
    "                   \"S\"  : \"single\"\n",
    "                   }, inplace=True)\n",
    "\n",
    "crime_model = ols(\"murder ~ pctmetro + poverty + pcths + single\", data=dta).fit()"
   ]
  },
  {
   "cell_type": "markdown",
   "id": "3ac47922",
   "metadata": {},
   "source": [
    "https://www.statsmodels.org/dev/examples/notebooks/generated/regression_plots.html"
   ]
  },
  {
   "cell_type": "markdown",
   "id": "124bd0de",
   "metadata": {},
   "source": [
    "dta = pd.read_csv(\"http://www.stat.ufl.edu/~aa/social/csv_files/statewide-crime-2.csv\")\n",
    "dta = dta.set_index(\"State\", inplace=True).dropna()\n",
    "dta.rename(columns={\"VR\" : \"crime\",\n",
    "                   \"MR\" : \"murder\",\n",
    "                   \"M\"  : \"pctmetro\",\n",
    "                   \"W\"  : \"pctwhite\",\n",
    "                   \"H\"  : \"pcths\",\n",
    "                   \"P\"  : \"poverty\",\n",
    "                   \"S\"  : \"single\"\n",
    "                   }, inplace=True)\n",
    "\n",
    "crime_model = ols(\"murder ~ pctmetro + poverty + pcths + single\", data=dta).fit()"
   ]
  },
  {
   "cell_type": "code",
   "execution_count": 45,
   "id": "b5548c3b",
   "metadata": {
    "execution": {
     "iopub.execute_input": "2023-05-10T01:23:29.756090Z",
     "iopub.status.busy": "2023-05-10T01:23:29.755961Z",
     "iopub.status.idle": "2023-05-10T01:23:29.760199Z",
     "shell.execute_reply": "2023-05-10T01:23:29.759914Z"
    }
   },
   "outputs": [],
   "source": [
    "dta = sm.datasets.statecrime.load_pandas().data"
   ]
  },
  {
   "cell_type": "code",
   "execution_count": 46,
   "id": "85fc35a0",
   "metadata": {
    "execution": {
     "iopub.execute_input": "2023-05-10T01:23:29.761737Z",
     "iopub.status.busy": "2023-05-10T01:23:29.761647Z",
     "iopub.status.idle": "2023-05-10T01:23:29.763928Z",
     "shell.execute_reply": "2023-05-10T01:23:29.763679Z"
    }
   },
   "outputs": [],
   "source": [
    "# https://www.statsmodels.org/dev/examples/notebooks/generated/plots_boxplots.html\n",
    "get_ipython().run_line_magic('matplotlib', 'inline')"
   ]
  },
  {
   "cell_type": "code",
   "execution_count": 47,
   "id": "7e2292cf",
   "metadata": {
    "execution": {
     "iopub.execute_input": "2023-05-10T01:23:29.765413Z",
     "iopub.status.busy": "2023-05-10T01:23:29.765323Z",
     "iopub.status.idle": "2023-05-10T01:23:29.767259Z",
     "shell.execute_reply": "2023-05-10T01:23:29.767007Z"
    }
   },
   "outputs": [],
   "source": [
    "import numpy as np\n",
    "import matplotlib.pyplot as plt\n",
    "import statsmodels.api as sm"
   ]
  },
  {
   "cell_type": "markdown",
   "id": "9def415a",
   "metadata": {},
   "source": [
    "STAT Models\n",
    "https://www.statsmodels.org/dev/examples/notebooks/generated/plots_boxplots.html"
   ]
  },
  {
   "cell_type": "code",
   "execution_count": 48,
   "id": "fa980a85",
   "metadata": {
    "execution": {
     "iopub.execute_input": "2023-05-10T01:23:29.768666Z",
     "iopub.status.busy": "2023-05-10T01:23:29.768570Z",
     "iopub.status.idle": "2023-05-10T01:23:29.777187Z",
     "shell.execute_reply": "2023-05-10T01:23:29.776875Z"
    }
   },
   "outputs": [],
   "source": [
    "data = sm.datasets.anes96.load_pandas()\n",
    "party_ID = np.arange(7)\n",
    "labels = [\n",
    "    \"Strong Democrat\",\n",
    "    \"Weak Democrat\",\n",
    "    \"Independent-Democrat\",\n",
    "    \"Independent-Independent\",\n",
    "    \"Independent-Republican\",\n",
    "    \"Weak Republican\",\n",
    "    \"Strong Republican\",\n",
    "]"
   ]
  },
  {
   "cell_type": "markdown",
   "id": "deb332be",
   "metadata": {},
   "source": [
    "STAT Models\n",
    "https://www.statsmodels.org/dev/examples/notebooks/generated/plots_boxplots.html"
   ]
  },
  {
   "cell_type": "code",
   "execution_count": 49,
   "id": "a3c50fa0",
   "metadata": {
    "execution": {
     "iopub.execute_input": "2023-05-10T01:23:29.779620Z",
     "iopub.status.busy": "2023-05-10T01:23:29.779469Z",
     "iopub.status.idle": "2023-05-10T01:23:29.787244Z",
     "shell.execute_reply": "2023-05-10T01:23:29.786935Z"
    }
   },
   "outputs": [],
   "source": [
    "data = sm.datasets.anes96.load_pandas()\n",
    "party_ID = np.arange(7)\n",
    "labels = [\n",
    "    \"Strong Democrat\",\n",
    "    \"Weak Democrat\",\n",
    "    \"Independent-Democrat\",\n",
    "    \"Independent-Independent\",\n",
    "    \"Independent-Republican\",\n",
    "    \"Weak Republican\",\n",
    "    \"Strong Republican\",\n",
    "]"
   ]
  },
  {
   "cell_type": "code",
   "execution_count": 50,
   "id": "816ad191",
   "metadata": {
    "execution": {
     "iopub.execute_input": "2023-05-10T01:23:29.788890Z",
     "iopub.status.busy": "2023-05-10T01:23:29.788797Z",
     "iopub.status.idle": "2023-05-10T01:23:29.794343Z",
     "shell.execute_reply": "2023-05-10T01:23:29.793996Z"
    }
   },
   "outputs": [],
   "source": [
    "get_ipython().run_cell_magic('capture', '', \"%logstop\\n%logstart -t -r -q ipython_command_log.py global\\n\\n#- IRONHACKS RESEARCH TRACKING CODE\\n#----------------------------------\\n# The following code is used to help our research team understand how you \\n# our notebook environment. We do not collect any personal information with\\n# the following code, it is used to measure when and how often you work on\\n# your submission files.\\n\\nimport os\\nfrom datetime import datetime\\nimport IPython.core.history as history\\n\\nha = history.HistoryAccessor()\\nha_tail = ha.get_tail(1)\\nha_cmd = next(ha_tail)\\nsession_id = str(ha_cmd[0])\\ncommand_id = str(ha_cmd[1])\\ntimestamp = datetime.utcnow().isoformat()\\nhistory_line = ','.join([session_id, command_id, timestamp]) + '\\\\n'\\nlogfile = open(os.environ['HOME']+'/ipython_session_log.csv', 'a')\\nlogfile.write(history_line)\\nlogfile.close()\\n\")"
   ]
  },
  {
   "cell_type": "markdown",
   "id": "4b4d2e01",
   "metadata": {},
   "source": [
    "SUBMISSION 11 Milestone\n",
    "The task was to predict the total_claims for week 42\n",
    "For each week there is a distinct list of uu_ids with unique uu_id in the table called prediction_list\n",
    "Predict a value for each of those uu_ids\n",
    "The list is changing over time (given the streaming nature of the data)"
   ]
  },
  {
   "cell_type": "code",
   "execution_count": 51,
   "id": "06ddf547",
   "metadata": {
    "execution": {
     "iopub.execute_input": "2023-05-10T01:23:29.796177Z",
     "iopub.status.busy": "2023-05-10T01:23:29.796049Z",
     "iopub.status.idle": "2023-05-10T01:23:31.874737Z",
     "shell.execute_reply": "2023-05-10T01:23:31.873897Z"
    }
   },
   "outputs": [],
   "source": [
    "get_ipython().run_cell_magic('capture', '', \"\\n# INSTALL ADDITIONAL LIBRARIES IF REQUIRED\\n# ------------------------------------------\\n# This is normally not required. The hub environment comes preinstaled with \\n# many packages that you can already use without setup. In case there is some\\n# other library you would like to use that isn't on the list you run this command\\n# once to install them.  If it is already installed this command has no effect.\\n\\n!python3 -m pip install pandas\\n!python3 -m pip install [ensorflow]\\n!python3 -m pip install [Keras]\\n!python3 -m pip install [Pytorch]\\n\")"
   ]
  },
  {
   "cell_type": "markdown",
   "id": "def68efd",
   "metadata": {},
   "source": [
    "INSTALL PACKAGES"
   ]
  },
  {
   "cell_type": "code",
   "execution_count": 52,
   "id": "e77ce082",
   "metadata": {
    "execution": {
     "iopub.execute_input": "2023-05-10T01:23:31.878110Z",
     "iopub.status.busy": "2023-05-10T01:23:31.877832Z",
     "iopub.status.idle": "2023-05-10T01:23:34.471788Z",
     "shell.execute_reply": "2023-05-10T01:23:34.471087Z"
    }
   },
   "outputs": [
    {
     "name": "stdout",
     "output_type": "stream",
     "text": [
      "\u001b[33mWARNING: Ignoring invalid distribution -umpy (/opt/anaconda3/lib/python3.9/site-packages)\u001b[0m\r\n",
      "\u001b[33mWARNING: Ignoring invalid distribution -umpy (/opt/anaconda3/lib/python3.9/site-packages)\u001b[0m\r\n",
      "Requirement already satisfied: db-dtypes in /opt/anaconda3/lib/python3.9/site-packages (1.0.5)\r\n",
      "Requirement already satisfied: packaging>=17.0 in /opt/anaconda3/lib/python3.9/site-packages (from db-dtypes) (21.3)\r\n",
      "Requirement already satisfied: pyarrow>=3.0.0 in /opt/anaconda3/lib/python3.9/site-packages (from db-dtypes) (10.0.1)\r\n",
      "Requirement already satisfied: pandas<2.0dev,>=0.24.2 in /opt/anaconda3/lib/python3.9/site-packages (from db-dtypes) (1.5.3)\r\n",
      "Requirement already satisfied: numpy<2.0dev,>=1.16.6 in /opt/anaconda3/lib/python3.9/site-packages (from db-dtypes) (1.22.4)\r\n",
      "Requirement already satisfied: pyparsing!=3.0.5,>=2.0.2 in /opt/anaconda3/lib/python3.9/site-packages (from packaging>=17.0->db-dtypes) (3.0.4)\r\n",
      "Requirement already satisfied: python-dateutil>=2.8.1 in /opt/anaconda3/lib/python3.9/site-packages (from pandas<2.0dev,>=0.24.2->db-dtypes) (2.8.2)\r\n",
      "Requirement already satisfied: pytz>=2020.1 in /opt/anaconda3/lib/python3.9/site-packages (from pandas<2.0dev,>=0.24.2->db-dtypes) (2021.3)\r\n",
      "Requirement already satisfied: six>=1.5 in /opt/anaconda3/lib/python3.9/site-packages (from python-dateutil>=2.8.1->pandas<2.0dev,>=0.24.2->db-dtypes) (1.16.0)\r\n",
      "\u001b[33mWARNING: Ignoring invalid distribution -umpy (/opt/anaconda3/lib/python3.9/site-packages)\u001b[0m\r\n"
     ]
    },
    {
     "name": "stdout",
     "output_type": "stream",
     "text": [
      "\u001b[33mWARNING: Ignoring invalid distribution -umpy (/opt/anaconda3/lib/python3.9/site-packages)\u001b[0m\r\n",
      "\u001b[33mWARNING: Ignoring invalid distribution -umpy (/opt/anaconda3/lib/python3.9/site-packages)\u001b[0m\r\n",
      "\u001b[33mWARNING: Ignoring invalid distribution -umpy (/opt/anaconda3/lib/python3.9/site-packages)\u001b[0m\r\n"
     ]
    }
   ],
   "source": [
    "get_ipython().system('pip install db-dtypes')"
   ]
  },
  {
   "cell_type": "markdown",
   "id": "05c62a53",
   "metadata": {},
   "source": [
    "IMPORT THE LIBRARIES YOU WILL USE\n",
    "------------------------------------------\n",
    "You only need to import packages one time per notebook session. To keep your\n",
    "notebook clean and organized you can handle all imports at the top of your file.\n",
    "The following are included for example purposed, feel free to modify or delete \n",
    "anything in this section."
   ]
  },
  {
   "cell_type": "code",
   "execution_count": 53,
   "id": "218edc3f",
   "metadata": {
    "execution": {
     "iopub.execute_input": "2023-05-10T01:23:34.474905Z",
     "iopub.status.busy": "2023-05-10T01:23:34.474658Z",
     "iopub.status.idle": "2023-05-10T01:23:34.478362Z",
     "shell.execute_reply": "2023-05-10T01:23:34.477944Z"
    }
   },
   "outputs": [],
   "source": [
    "import csv\n",
    "import pandas as pd\n",
    "import numpy as np\n",
    "from google.cloud import bigquery\n",
    "from google.oauth2 import service_account\n",
    "from google.cloud.bigquery import magics\n",
    "import statsmodels.api as sm\n",
    "import math"
   ]
  },
  {
   "cell_type": "markdown",
   "id": "8aa5a874",
   "metadata": {},
   "source": [
    "IMPORT THE DATASET"
   ]
  },
  {
   "cell_type": "code",
   "execution_count": 54,
   "id": "23d12491",
   "metadata": {
    "execution": {
     "iopub.execute_input": "2023-05-10T01:23:34.480654Z",
     "iopub.status.busy": "2023-05-10T01:23:34.480493Z",
     "iopub.status.idle": "2023-05-10T01:23:34.484106Z",
     "shell.execute_reply": "2023-05-10T01:23:34.483692Z"
    }
   },
   "outputs": [],
   "source": [
    "import pandas as pd\n",
    "import numpy as np\n",
    "import matplotlib.pyplot as plt\n",
    "import seaborn as sns\n",
    "get_ipython().run_line_magic('matplotlib', 'inline')"
   ]
  },
  {
   "cell_type": "code",
   "execution_count": 55,
   "id": "336be482",
   "metadata": {
    "execution": {
     "iopub.execute_input": "2023-05-10T01:23:34.486375Z",
     "iopub.status.busy": "2023-05-10T01:23:34.486199Z",
     "iopub.status.idle": "2023-05-10T01:23:34.488426Z",
     "shell.execute_reply": "2023-05-10T01:23:34.488065Z"
    }
   },
   "outputs": [],
   "source": [
    "import os\n",
    "from google.cloud import bigquery\n",
    "from google.oauth2 import service_account\n",
    "from google.cloud.bigquery import magics"
   ]
  },
  {
   "cell_type": "markdown",
   "id": "a54b7e46",
   "metadata": {},
   "source": [
    "IMPORT IRONHACKS DATA"
   ]
  },
  {
   "cell_type": "code",
   "execution_count": 56,
   "id": "0ffd1a91",
   "metadata": {
    "execution": {
     "iopub.execute_input": "2023-05-10T01:23:34.490391Z",
     "iopub.status.busy": "2023-05-10T01:23:34.490232Z",
     "iopub.status.idle": "2023-05-10T01:23:34.492279Z",
     "shell.execute_reply": "2023-05-10T01:23:34.491931Z"
    }
   },
   "outputs": [],
   "source": [
    "import os\n",
    "BIGQUERY_PROJECT = 'ironhacks-data'"
   ]
  },
  {
   "cell_type": "code",
   "execution_count": 57,
   "id": "7d379be8",
   "metadata": {
    "execution": {
     "iopub.execute_input": "2023-05-10T01:23:34.494071Z",
     "iopub.status.busy": "2023-05-10T01:23:34.493931Z",
     "iopub.status.idle": "2023-05-10T01:23:34.502755Z",
     "shell.execute_reply": "2023-05-10T01:23:34.502406Z"
    }
   },
   "outputs": [
    {
     "data": {
      "text/plain": [
       "<google.cloud.bigquery.client.Client at 0x2865bc640>"
      ]
     },
     "execution_count": 57,
     "metadata": {},
     "output_type": "execute_result"
    }
   ],
   "source": [
    "bigquery.Client(project=BIGQUERY_PROJECT)"
   ]
  },
  {
   "cell_type": "markdown",
   "id": "613699f1",
   "metadata": {},
   "source": [
    "IMPORT THE LINEAR REGRESSION MODEL"
   ]
  },
  {
   "cell_type": "code",
   "execution_count": 58,
   "id": "f36077ad",
   "metadata": {
    "execution": {
     "iopub.execute_input": "2023-05-10T01:23:34.504568Z",
     "iopub.status.busy": "2023-05-10T01:23:34.504433Z",
     "iopub.status.idle": "2023-05-10T01:23:34.507088Z",
     "shell.execute_reply": "2023-05-10T01:23:34.506785Z"
    }
   },
   "outputs": [],
   "source": [
    "import csv\n",
    "import pandas as pd\n",
    "import numpy as np\n",
    "from google.cloud import bigquery\n",
    "from google.oauth2 import service_account\n",
    "from google.cloud.bigquery import magics\n",
    "from sklearn.model_selection import train_test_split \n",
    "from sklearn.linear_model import LinearRegression\n",
    "from sklearn import metrics\n",
    "import matplotlib.pyplot as plt  "
   ]
  },
  {
   "cell_type": "markdown",
   "id": "e9c4b58b",
   "metadata": {},
   "source": [
    "IMPORT PACKAGE THE LINEAR REGRESSION MODEL- SCIKIT-LEARN \n",
    "SOURCE: https://realpython.com/linear-regression-in-python/#simple-linear-regression-with-scikit-learn\n",
    "NUMPY IS A FUNDAMENTAL PUYTHON SCIENTIFIC PACKAGE THAT ALLOWS MANY HIGH PEROFORMATION OPERATION SON A SINGLE AND MULTI DIMENSIONAL ARRAYS.\n",
    "SOURCE: https://realpython.com/linear-regression-in-python/#python-packages-for-linear-regression"
   ]
  },
  {
   "cell_type": "code",
   "execution_count": 59,
   "id": "398b137a",
   "metadata": {
    "execution": {
     "iopub.execute_input": "2023-05-10T01:23:34.508624Z",
     "iopub.status.busy": "2023-05-10T01:23:34.508499Z",
     "iopub.status.idle": "2023-05-10T01:23:34.510364Z",
     "shell.execute_reply": "2023-05-10T01:23:34.510098Z"
    }
   },
   "outputs": [],
   "source": [
    "import numpy as np\n",
    "from sklearn.linear_model import LinearRegression"
   ]
  },
  {
   "cell_type": "code",
   "execution_count": 60,
   "id": "209de4a5",
   "metadata": {
    "execution": {
     "iopub.execute_input": "2023-05-10T01:23:34.511884Z",
     "iopub.status.busy": "2023-05-10T01:23:34.511767Z",
     "iopub.status.idle": "2023-05-10T01:23:34.513978Z",
     "shell.execute_reply": "2023-05-10T01:23:34.513695Z"
    },
    "lines_to_next_cell": 1
   },
   "outputs": [],
   "source": [
    "# DEFINING THE DATA; INPUTS (REGRESSOR.X) AND OUTPUTS (RESPONSE.Y)\n",
    "x = np.array([5, 15, 25, 35, 45, 55]).reshape((-1, 1))\n",
    "y = np.array([5, 20, 14, 32, 22, 38])"
   ]
  },
  {
   "cell_type": "markdown",
   "id": "f055eebe",
   "metadata": {},
   "source": [
    "DEFINE YOUR CLASSES AND FUNCTIONS \n",
    "-----------------------------------\n",
    "This is not required, but is helpful in keeping your notebook organized. \n",
    "You can use the following cell or several cells to define your functions\n",
    "and classes to keep them separate from your analysis or results code.\n",
    "In general it useful to define your methods in a separate cell from where\n",
    "it is run."
   ]
  },
  {
   "cell_type": "code",
   "execution_count": 61,
   "id": "997ca70b",
   "metadata": {
    "execution": {
     "iopub.execute_input": "2023-05-10T01:23:34.515446Z",
     "iopub.status.busy": "2023-05-10T01:23:34.515330Z",
     "iopub.status.idle": "2023-05-10T01:23:34.517127Z",
     "shell.execute_reply": "2023-05-10T01:23:34.516808Z"
    },
    "lines_to_next_cell": 1
   },
   "outputs": [],
   "source": [
    "def example_function():\n",
    "    print('Hello World')"
   ]
  },
  {
   "cell_type": "code",
   "execution_count": 62,
   "id": "a26f96a6",
   "metadata": {
    "execution": {
     "iopub.execute_input": "2023-05-10T01:23:34.518563Z",
     "iopub.status.busy": "2023-05-10T01:23:34.518457Z",
     "iopub.status.idle": "2023-05-10T01:23:34.520229Z",
     "shell.execute_reply": "2023-05-10T01:23:34.519949Z"
    }
   },
   "outputs": [],
   "source": [
    "# CREATE A LINEAR REGRESSION MODEL\n",
    "model = LinearRegression()"
   ]
  },
  {
   "cell_type": "markdown",
   "id": "72412f70",
   "metadata": {},
   "source": [
    "START USING A MODEL - .fit() fits the model\n",
    "SOURCE: REAL PYTHON - https://realpython.com/linear-regression-in-python/#simple-linear-regression-with-scikit-learn"
   ]
  },
  {
   "cell_type": "code",
   "execution_count": 63,
   "id": "6f799236",
   "metadata": {
    "execution": {
     "iopub.execute_input": "2023-05-10T01:23:34.521717Z",
     "iopub.status.busy": "2023-05-10T01:23:34.521603Z",
     "iopub.status.idle": "2023-05-10T01:23:34.524791Z",
     "shell.execute_reply": "2023-05-10T01:23:34.524455Z"
    }
   },
   "outputs": [
    {
     "data": {
      "text/plain": [
       "sklearn.linear_model._base.LinearRegression"
      ]
     },
     "execution_count": 63,
     "metadata": {},
     "output_type": "execute_result"
    }
   ],
   "source": [
    "model.fit(x,y)\n",
    "LinearRegression"
   ]
  },
  {
   "cell_type": "code",
   "execution_count": 64,
   "id": "2d4a2969",
   "metadata": {
    "execution": {
     "iopub.execute_input": "2023-05-10T01:23:34.526226Z",
     "iopub.status.busy": "2023-05-10T01:23:34.526141Z",
     "iopub.status.idle": "2023-05-10T01:23:34.528371Z",
     "shell.execute_reply": "2023-05-10T01:23:34.528107Z"
    }
   },
   "outputs": [
    {
     "name": "stdout",
     "output_type": "stream",
     "text": [
      "coefficient of determination: 0.715875613747954\n"
     ]
    }
   ],
   "source": [
    "# GET RESULTS - NOW THAT THE MODEL HAS BEEN FITTED; LET SEE IF IT WORKS!\n",
    "r_sq = model.score(x, y)\n",
    "print(f\"coefficient of determination: {r_sq}\")"
   ]
  },
  {
   "cell_type": "markdown",
   "id": "748d488d",
   "metadata": {},
   "source": [
    "THE RETURN VALUE SHOULD BE R2"
   ]
  },
  {
   "cell_type": "markdown",
   "id": "e2986949",
   "metadata": {},
   "source": [
    "DETERMIINE HOW TO GET b0 and b1 (scikit-learn)\n",
    "intercept and coefficient are estimated values"
   ]
  },
  {
   "cell_type": "code",
   "execution_count": 65,
   "id": "0ad92e4e",
   "metadata": {
    "execution": {
     "iopub.execute_input": "2023-05-10T01:23:34.529822Z",
     "iopub.status.busy": "2023-05-10T01:23:34.529737Z",
     "iopub.status.idle": "2023-05-10T01:23:34.532027Z",
     "shell.execute_reply": "2023-05-10T01:23:34.531770Z"
    }
   },
   "outputs": [
    {
     "name": "stdout",
     "output_type": "stream",
     "text": [
      "intercept: [5.63333333]\n"
     ]
    }
   ],
   "source": [
    "new_model = LinearRegression().fit(x,y.reshape((-1,1)))\n",
    "print(f\"intercept: {new_model.intercept_}\")"
   ]
  },
  {
   "cell_type": "code",
   "execution_count": 66,
   "id": "e6458286",
   "metadata": {
    "execution": {
     "iopub.execute_input": "2023-05-10T01:23:34.533410Z",
     "iopub.status.busy": "2023-05-10T01:23:34.533328Z",
     "iopub.status.idle": "2023-05-10T01:23:34.535180Z",
     "shell.execute_reply": "2023-05-10T01:23:34.534946Z"
    }
   },
   "outputs": [
    {
     "name": "stdout",
     "output_type": "stream",
     "text": [
      "slope: [[0.54]]\n"
     ]
    }
   ],
   "source": [
    "# DETERMIINE HOW TO GET b0 and b1 (scikit-learn)\n",
    "# intercept and coefficient are estimated values\n",
    "print(f\"slope: {new_model.coef_}\")"
   ]
  },
  {
   "cell_type": "code",
   "execution_count": 67,
   "id": "28635a45",
   "metadata": {
    "execution": {
     "iopub.execute_input": "2023-05-10T01:23:34.536464Z",
     "iopub.status.busy": "2023-05-10T01:23:34.536381Z",
     "iopub.status.idle": "2023-05-10T01:23:34.538196Z",
     "shell.execute_reply": "2023-05-10T01:23:34.537911Z"
    }
   },
   "outputs": [
    {
     "name": "stdout",
     "output_type": "stream",
     "text": [
      "predicted response:\n",
      "[ 8.33333333 13.73333333 19.13333333 24.53333333 29.93333333 35.33333333]\n"
     ]
    }
   ],
   "source": [
    "# NOW THAT WE KNOW OUR MODEL IS WORKING; LET'S PREDICT A RESPONSE!\n",
    "y_pred = model.predict(x)\n",
    "print(f\"predicted response:\\n{y_pred}\")"
   ]
  },
  {
   "cell_type": "markdown",
   "id": "0d78c712",
   "metadata": {},
   "source": [
    "HERE'S ANOTHER WAY TO PREDICT THE RESPONSE\n",
    "THIS IS WERE EACH ELEMENT OF X WERE MULTIPLIED BY WITH THE MODEL COEFFICIENT"
   ]
  },
  {
   "cell_type": "code",
   "execution_count": 68,
   "id": "b7539fa7",
   "metadata": {
    "execution": {
     "iopub.execute_input": "2023-05-10T01:23:34.539525Z",
     "iopub.status.busy": "2023-05-10T01:23:34.539443Z",
     "iopub.status.idle": "2023-05-10T01:23:34.541238Z",
     "shell.execute_reply": "2023-05-10T01:23:34.540934Z"
    }
   },
   "outputs": [
    {
     "name": "stdout",
     "output_type": "stream",
     "text": [
      "predicted response:\n",
      "[[ 8.33333333]\n",
      " [13.73333333]\n",
      " [19.13333333]\n",
      " [24.53333333]\n",
      " [29.93333333]\n",
      " [35.33333333]]\n"
     ]
    }
   ],
   "source": [
    "y_pred = model.intercept_ + model.coef_ * x\n",
    "print(f\"predicted response:\\n{y_pred}\")"
   ]
  },
  {
   "cell_type": "markdown",
   "id": "02036ae1",
   "metadata": {},
   "source": [
    "REGRESSION MODELS ARE TYPCIALLY USED FOR FORECASTS\n",
    "FITTED MODELS CAN BE USED TO CALCULATE THE OUTPUTS"
   ]
  },
  {
   "cell_type": "code",
   "execution_count": 69,
   "id": "f032de1e",
   "metadata": {
    "execution": {
     "iopub.execute_input": "2023-05-10T01:23:34.542533Z",
     "iopub.status.busy": "2023-05-10T01:23:34.542458Z",
     "iopub.status.idle": "2023-05-10T01:23:34.544643Z",
     "shell.execute_reply": "2023-05-10T01:23:34.544366Z"
    }
   },
   "outputs": [
    {
     "data": {
      "text/plain": [
       "array([[0],\n",
       "       [1],\n",
       "       [2],\n",
       "       [3],\n",
       "       [4]])"
      ]
     },
     "execution_count": 69,
     "metadata": {},
     "output_type": "execute_result"
    }
   ],
   "source": [
    "x_new = np.arange(5). reshape((-1, 1))\n",
    "x_new"
   ]
  },
  {
   "cell_type": "code",
   "execution_count": 70,
   "id": "5e61b5f8",
   "metadata": {
    "execution": {
     "iopub.execute_input": "2023-05-10T01:23:34.546020Z",
     "iopub.status.busy": "2023-05-10T01:23:34.545944Z",
     "iopub.status.idle": "2023-05-10T01:23:34.548099Z",
     "shell.execute_reply": "2023-05-10T01:23:34.547861Z"
    }
   },
   "outputs": [
    {
     "data": {
      "text/plain": [
       "array([5.63333333, 6.17333333, 6.71333333, 7.25333333, 7.79333333])"
      ]
     },
     "execution_count": 70,
     "metadata": {},
     "output_type": "execute_result"
    }
   ],
   "source": [
    "# REGRESSION MODELS ARE TYPCIALLY USED FOR FORECASTS\n",
    "# FITTED MODELS CAN BE USED TO CALCULATE THE OUTPUTS\n",
    "y_new = model.predict(x_new)\n",
    "y_new"
   ]
  },
  {
   "cell_type": "markdown",
   "id": "269b2d80",
   "metadata": {},
   "source": [
    "Obtain data using BigQuery"
   ]
  },
  {
   "cell_type": "code",
   "execution_count": 71,
   "id": "83177b08",
   "metadata": {
    "execution": {
     "iopub.execute_input": "2023-05-10T01:23:34.549395Z",
     "iopub.status.busy": "2023-05-10T01:23:34.549312Z",
     "iopub.status.idle": "2023-05-10T01:23:34.556138Z",
     "shell.execute_reply": "2023-05-10T01:23:34.555728Z"
    }
   },
   "outputs": [],
   "source": [
    "BIGQUERY_PROJECT = 'ironhacks-data'\n",
    "bigquery_client = bigquery.Client(project=BIGQUERY_PROJECT)"
   ]
  },
  {
   "cell_type": "code",
   "execution_count": 72,
   "id": "5ec526be",
   "metadata": {
    "execution": {
     "iopub.execute_input": "2023-05-10T01:23:34.557638Z",
     "iopub.status.busy": "2023-05-10T01:23:34.557550Z",
     "iopub.status.idle": "2023-05-10T01:23:34.559402Z",
     "shell.execute_reply": "2023-05-10T01:23:34.559176Z"
    }
   },
   "outputs": [],
   "source": [
    "query = \"\"\"\n",
    "SELECT\n",
    "x.*,\n",
    "y.average_wage\n",
    "FROM\n",
    "(SELECT\n",
    "*\n",
    "FROM `ironhacks-data.ironhacks_competition.unemployment_data`) x\n",
    "JOIN `ironhacks-data.ironhacks_competition.wage_data` y\n",
    "ON x.uu_id = y.uu_id\n",
    "\"\"\""
   ]
  },
  {
   "cell_type": "code",
   "execution_count": 73,
   "id": "da465daa",
   "metadata": {
    "execution": {
     "iopub.execute_input": "2023-05-10T01:23:34.560726Z",
     "iopub.status.busy": "2023-05-10T01:23:34.560649Z",
     "iopub.status.idle": "2023-05-10T01:23:36.094710Z",
     "shell.execute_reply": "2023-05-10T01:23:36.093986Z"
    }
   },
   "outputs": [],
   "source": [
    "query_job = bigquery_client.query(query)\n",
    "data = query_job.to_dataframe()"
   ]
  },
  {
   "cell_type": "code",
   "execution_count": 74,
   "id": "e582ed69",
   "metadata": {
    "execution": {
     "iopub.execute_input": "2023-05-10T01:23:36.098788Z",
     "iopub.status.busy": "2023-05-10T01:23:36.098264Z",
     "iopub.status.idle": "2023-05-10T01:23:36.101964Z",
     "shell.execute_reply": "2023-05-10T01:23:36.101252Z"
    }
   },
   "outputs": [],
   "source": [
    "query_pred = \"\"\"\n",
    "SELECT * FROM `ironhacks-data.ironhacks_competition.prediction_list`\n",
    "\"\"\""
   ]
  },
  {
   "cell_type": "code",
   "execution_count": 75,
   "id": "7e92d231",
   "metadata": {
    "execution": {
     "iopub.execute_input": "2023-05-10T01:23:36.105250Z",
     "iopub.status.busy": "2023-05-10T01:23:36.105016Z",
     "iopub.status.idle": "2023-05-10T01:23:37.673939Z",
     "shell.execute_reply": "2023-05-10T01:23:37.672148Z"
    }
   },
   "outputs": [],
   "source": [
    "query_job_pred = bigquery_client.query(query_pred)\n",
    "data_pred_query= query_job_pred.to_dataframe()"
   ]
  },
  {
   "cell_type": "code",
   "execution_count": 76,
   "id": "43c1f537",
   "metadata": {
    "execution": {
     "iopub.execute_input": "2023-05-10T01:23:37.681218Z",
     "iopub.status.busy": "2023-05-10T01:23:37.680736Z",
     "iopub.status.idle": "2023-05-10T01:23:37.688592Z",
     "shell.execute_reply": "2023-05-10T01:23:37.687805Z"
    }
   },
   "outputs": [],
   "source": [
    "# START USING A MODEL - Same statement written differently\n",
    "model = LinearRegression().fit(x,y)"
   ]
  },
  {
   "cell_type": "code",
   "execution_count": 77,
   "id": "ebf4aaed",
   "metadata": {
    "execution": {
     "iopub.execute_input": "2023-05-10T01:23:37.693234Z",
     "iopub.status.busy": "2023-05-10T01:23:37.692557Z",
     "iopub.status.idle": "2023-05-10T01:23:37.699004Z",
     "shell.execute_reply": "2023-05-10T01:23:37.698192Z"
    }
   },
   "outputs": [
    {
     "name": "stdout",
     "output_type": "stream",
     "text": [
      "coefficient of determination: 0.715875613747954\n"
     ]
    }
   ],
   "source": [
    "# GET RESULTS - NOW THAT THE MODEL HAS BEEN FITTED; LET SEE IF IT WORKS!\n",
    "r_sq = model.score(x, y)\n",
    "print(f\"coefficient of determination: {r_sq}\")"
   ]
  },
  {
   "cell_type": "markdown",
   "id": "cfc2935d",
   "metadata": {},
   "source": [
    "THE RETURN VALUE SHOULD BE R2"
   ]
  },
  {
   "cell_type": "code",
   "execution_count": 78,
   "id": "9693aff9",
   "metadata": {
    "execution": {
     "iopub.execute_input": "2023-05-10T01:23:37.702639Z",
     "iopub.status.busy": "2023-05-10T01:23:37.702339Z",
     "iopub.status.idle": "2023-05-10T01:23:37.709007Z",
     "shell.execute_reply": "2023-05-10T01:23:37.708488Z"
    }
   },
   "outputs": [
    {
     "data": {
      "text/html": [
       "<style>#sk-container-id-2 {color: black;background-color: white;}#sk-container-id-2 pre{padding: 0;}#sk-container-id-2 div.sk-toggleable {background-color: white;}#sk-container-id-2 label.sk-toggleable__label {cursor: pointer;display: block;width: 100%;margin-bottom: 0;padding: 0.3em;box-sizing: border-box;text-align: center;}#sk-container-id-2 label.sk-toggleable__label-arrow:before {content: \"▸\";float: left;margin-right: 0.25em;color: #696969;}#sk-container-id-2 label.sk-toggleable__label-arrow:hover:before {color: black;}#sk-container-id-2 div.sk-estimator:hover label.sk-toggleable__label-arrow:before {color: black;}#sk-container-id-2 div.sk-toggleable__content {max-height: 0;max-width: 0;overflow: hidden;text-align: left;background-color: #f0f8ff;}#sk-container-id-2 div.sk-toggleable__content pre {margin: 0.2em;color: black;border-radius: 0.25em;background-color: #f0f8ff;}#sk-container-id-2 input.sk-toggleable__control:checked~div.sk-toggleable__content {max-height: 200px;max-width: 100%;overflow: auto;}#sk-container-id-2 input.sk-toggleable__control:checked~label.sk-toggleable__label-arrow:before {content: \"▾\";}#sk-container-id-2 div.sk-estimator input.sk-toggleable__control:checked~label.sk-toggleable__label {background-color: #d4ebff;}#sk-container-id-2 div.sk-label input.sk-toggleable__control:checked~label.sk-toggleable__label {background-color: #d4ebff;}#sk-container-id-2 input.sk-hidden--visually {border: 0;clip: rect(1px 1px 1px 1px);clip: rect(1px, 1px, 1px, 1px);height: 1px;margin: -1px;overflow: hidden;padding: 0;position: absolute;width: 1px;}#sk-container-id-2 div.sk-estimator {font-family: monospace;background-color: #f0f8ff;border: 1px dotted black;border-radius: 0.25em;box-sizing: border-box;margin-bottom: 0.5em;}#sk-container-id-2 div.sk-estimator:hover {background-color: #d4ebff;}#sk-container-id-2 div.sk-parallel-item::after {content: \"\";width: 100%;border-bottom: 1px solid gray;flex-grow: 1;}#sk-container-id-2 div.sk-label:hover label.sk-toggleable__label {background-color: #d4ebff;}#sk-container-id-2 div.sk-serial::before {content: \"\";position: absolute;border-left: 1px solid gray;box-sizing: border-box;top: 0;bottom: 0;left: 50%;z-index: 0;}#sk-container-id-2 div.sk-serial {display: flex;flex-direction: column;align-items: center;background-color: white;padding-right: 0.2em;padding-left: 0.2em;position: relative;}#sk-container-id-2 div.sk-item {position: relative;z-index: 1;}#sk-container-id-2 div.sk-parallel {display: flex;align-items: stretch;justify-content: center;background-color: white;position: relative;}#sk-container-id-2 div.sk-item::before, #sk-container-id-2 div.sk-parallel-item::before {content: \"\";position: absolute;border-left: 1px solid gray;box-sizing: border-box;top: 0;bottom: 0;left: 50%;z-index: -1;}#sk-container-id-2 div.sk-parallel-item {display: flex;flex-direction: column;z-index: 1;position: relative;background-color: white;}#sk-container-id-2 div.sk-parallel-item:first-child::after {align-self: flex-end;width: 50%;}#sk-container-id-2 div.sk-parallel-item:last-child::after {align-self: flex-start;width: 50%;}#sk-container-id-2 div.sk-parallel-item:only-child::after {width: 0;}#sk-container-id-2 div.sk-dashed-wrapped {border: 1px dashed gray;margin: 0 0.4em 0.5em 0.4em;box-sizing: border-box;padding-bottom: 0.4em;background-color: white;}#sk-container-id-2 div.sk-label label {font-family: monospace;font-weight: bold;display: inline-block;line-height: 1.2em;}#sk-container-id-2 div.sk-label-container {text-align: center;}#sk-container-id-2 div.sk-container {/* jupyter's `normalize.less` sets `[hidden] { display: none; }` but bootstrap.min.css set `[hidden] { display: none !important; }` so we also need the `!important` here to be able to override the default hidden behavior on the sphinx rendered scikit-learn.org. See: https://github.com/scikit-learn/scikit-learn/issues/21755 */display: inline-block !important;position: relative;}#sk-container-id-2 div.sk-text-repr-fallback {display: none;}</style><div id=\"sk-container-id-2\" class=\"sk-top-container\"><div class=\"sk-text-repr-fallback\"><pre>LinearRegression()</pre><b>In a Jupyter environment, please rerun this cell to show the HTML representation or trust the notebook. <br />On GitHub, the HTML representation is unable to render, please try loading this page with nbviewer.org.</b></div><div class=\"sk-container\" hidden><div class=\"sk-item\"><div class=\"sk-estimator sk-toggleable\"><input class=\"sk-toggleable__control sk-hidden--visually\" id=\"sk-estimator-id-2\" type=\"checkbox\" checked><label for=\"sk-estimator-id-2\" class=\"sk-toggleable__label sk-toggleable__label-arrow\">LinearRegression</label><div class=\"sk-toggleable__content\"><pre>LinearRegression()</pre></div></div></div></div></div>"
      ],
      "text/plain": [
       "LinearRegression()"
      ]
     },
     "execution_count": 78,
     "metadata": {},
     "output_type": "execute_result"
    }
   ],
   "source": [
    "# Linear Regression\n",
    "model.fit(x, y)\n",
    "LinearRegression()"
   ]
  },
  {
   "cell_type": "code",
   "execution_count": 79,
   "id": "027fc4f6",
   "metadata": {
    "execution": {
     "iopub.execute_input": "2023-05-10T01:23:37.711874Z",
     "iopub.status.busy": "2023-05-10T01:23:37.711615Z",
     "iopub.status.idle": "2023-05-10T01:23:37.715418Z",
     "shell.execute_reply": "2023-05-10T01:23:37.714858Z"
    }
   },
   "outputs": [],
   "source": [
    "# Test Linear Regression\n",
    "model = LinearRegression().fit(x, y)"
   ]
  },
  {
   "cell_type": "code",
   "execution_count": 80,
   "id": "98b99cd3",
   "metadata": {
    "execution": {
     "iopub.execute_input": "2023-05-10T01:23:37.717841Z",
     "iopub.status.busy": "2023-05-10T01:23:37.717673Z",
     "iopub.status.idle": "2023-05-10T01:23:37.720935Z",
     "shell.execute_reply": "2023-05-10T01:23:37.720510Z"
    }
   },
   "outputs": [
    {
     "name": "stdout",
     "output_type": "stream",
     "text": [
      "coefficient of determination: 0.715875613747954\n"
     ]
    }
   ],
   "source": [
    "# Test Linear Regression\n",
    "r_sq = model.score(x, y)\n",
    "print(f\"coefficient of determination: {r_sq}\")"
   ]
  },
  {
   "cell_type": "code",
   "execution_count": 81,
   "id": "0a8ffd08",
   "metadata": {
    "execution": {
     "iopub.execute_input": "2023-05-10T01:23:37.723300Z",
     "iopub.status.busy": "2023-05-10T01:23:37.723096Z",
     "iopub.status.idle": "2023-05-10T01:23:37.725774Z",
     "shell.execute_reply": "2023-05-10T01:23:37.725350Z"
    }
   },
   "outputs": [
    {
     "name": "stdout",
     "output_type": "stream",
     "text": [
      "predicted response:\n",
      "[[ 8.33333333]\n",
      " [13.73333333]\n",
      " [19.13333333]\n",
      " [24.53333333]\n",
      " [29.93333333]\n",
      " [35.33333333]]\n"
     ]
    }
   ],
   "source": [
    "# Test Linear Regression\n",
    "print(f\"predicted response:\\n{y_pred}\")"
   ]
  },
  {
   "cell_type": "code",
   "execution_count": 82,
   "id": "d4a17dff",
   "metadata": {
    "execution": {
     "iopub.execute_input": "2023-05-10T01:23:37.728070Z",
     "iopub.status.busy": "2023-05-10T01:23:37.727895Z",
     "iopub.status.idle": "2023-05-10T01:23:37.731410Z",
     "shell.execute_reply": "2023-05-10T01:23:37.730990Z"
    }
   },
   "outputs": [
    {
     "name": "stdout",
     "output_type": "stream",
     "text": [
      "intercept: [5.63333333]\n"
     ]
    }
   ],
   "source": [
    "# Test Linear Regression\n",
    "new_model = LinearRegression().fit(x, y.reshape((-1, 1)))\n",
    "print(f\"intercept: {new_model.intercept_}\")"
   ]
  },
  {
   "cell_type": "code",
   "execution_count": 83,
   "id": "9a5aa307",
   "metadata": {
    "execution": {
     "iopub.execute_input": "2023-05-10T01:23:37.733398Z",
     "iopub.status.busy": "2023-05-10T01:23:37.733272Z",
     "iopub.status.idle": "2023-05-10T01:23:37.735765Z",
     "shell.execute_reply": "2023-05-10T01:23:37.735418Z"
    }
   },
   "outputs": [
    {
     "name": "stdout",
     "output_type": "stream",
     "text": [
      "slope: [[0.54]]\n"
     ]
    }
   ],
   "source": [
    "print(f\"slope: {new_model.coef_}\")"
   ]
  },
  {
   "cell_type": "code",
   "execution_count": 84,
   "id": "ed40d0d5",
   "metadata": {
    "execution": {
     "iopub.execute_input": "2023-05-10T01:23:37.737600Z",
     "iopub.status.busy": "2023-05-10T01:23:37.737442Z",
     "iopub.status.idle": "2023-05-10T01:23:37.740459Z",
     "shell.execute_reply": "2023-05-10T01:23:37.740099Z"
    }
   },
   "outputs": [
    {
     "data": {
      "text/plain": [
       "array([[0],\n",
       "       [1],\n",
       "       [2],\n",
       "       [3],\n",
       "       [4]])"
      ]
     },
     "execution_count": 84,
     "metadata": {},
     "output_type": "execute_result"
    }
   ],
   "source": [
    "# Test Linear Regression\n",
    "x_new = np.arange(5).reshape((-1, 1))\n",
    "x_new"
   ]
  },
  {
   "cell_type": "code",
   "execution_count": 85,
   "id": "75e956cb",
   "metadata": {
    "execution": {
     "iopub.execute_input": "2023-05-10T01:23:37.742215Z",
     "iopub.status.busy": "2023-05-10T01:23:37.742096Z",
     "iopub.status.idle": "2023-05-10T01:23:37.744745Z",
     "shell.execute_reply": "2023-05-10T01:23:37.744428Z"
    }
   },
   "outputs": [
    {
     "data": {
      "text/plain": [
       "array([[ 5],\n",
       "       [15],\n",
       "       [25],\n",
       "       [35],\n",
       "       [45],\n",
       "       [55]])"
      ]
     },
     "execution_count": 85,
     "metadata": {},
     "output_type": "execute_result"
    }
   ],
   "source": [
    "# Test Linear Regression\n",
    "x"
   ]
  },
  {
   "cell_type": "code",
   "execution_count": 86,
   "id": "50c7856d",
   "metadata": {
    "execution": {
     "iopub.execute_input": "2023-05-10T01:23:37.746445Z",
     "iopub.status.busy": "2023-05-10T01:23:37.746339Z",
     "iopub.status.idle": "2023-05-10T01:23:37.748823Z",
     "shell.execute_reply": "2023-05-10T01:23:37.748552Z"
    }
   },
   "outputs": [
    {
     "data": {
      "text/plain": [
       "array([ 5, 20, 14, 32, 22, 38])"
      ]
     },
     "execution_count": 86,
     "metadata": {},
     "output_type": "execute_result"
    }
   ],
   "source": [
    "# Test Linear Regression\n",
    "y"
   ]
  },
  {
   "cell_type": "code",
   "execution_count": 87,
   "id": "4bfe5939",
   "metadata": {
    "execution": {
     "iopub.execute_input": "2023-05-10T01:23:37.750403Z",
     "iopub.status.busy": "2023-05-10T01:23:37.750276Z",
     "iopub.status.idle": "2023-05-10T01:23:37.752536Z",
     "shell.execute_reply": "2023-05-10T01:23:37.752272Z"
    }
   },
   "outputs": [],
   "source": [
    "# Test Linear Regression\n",
    "model = LinearRegression().fit(x, y)"
   ]
  },
  {
   "cell_type": "code",
   "execution_count": 88,
   "id": "34e100e9",
   "metadata": {
    "execution": {
     "iopub.execute_input": "2023-05-10T01:23:37.753980Z",
     "iopub.status.busy": "2023-05-10T01:23:37.753873Z",
     "iopub.status.idle": "2023-05-10T01:23:37.755904Z",
     "shell.execute_reply": "2023-05-10T01:23:37.755635Z"
    }
   },
   "outputs": [],
   "source": [
    "# Test Linear Regression\n",
    "model = sm.OLS(y, x)"
   ]
  },
  {
   "cell_type": "code",
   "execution_count": 89,
   "id": "13ca24dc",
   "metadata": {
    "execution": {
     "iopub.execute_input": "2023-05-10T01:23:37.757398Z",
     "iopub.status.busy": "2023-05-10T01:23:37.757285Z",
     "iopub.status.idle": "2023-05-10T01:23:37.759249Z",
     "shell.execute_reply": "2023-05-10T01:23:37.758990Z"
    }
   },
   "outputs": [],
   "source": [
    "# Test Linear Regression\n",
    "results = model.fit()"
   ]
  },
  {
   "cell_type": "markdown",
   "id": "90952117",
   "metadata": {},
   "source": [
    "install conda install module_name"
   ]
  },
  {
   "cell_type": "code",
   "execution_count": 90,
   "id": "88fad6a6",
   "metadata": {
    "execution": {
     "iopub.execute_input": "2023-05-10T01:23:37.760672Z",
     "iopub.status.busy": "2023-05-10T01:23:37.760565Z",
     "iopub.status.idle": "2023-05-10T01:23:37.765358Z",
     "shell.execute_reply": "2023-05-10T01:23:37.765081Z"
    }
   },
   "outputs": [
    {
     "name": "stdout",
     "output_type": "stream",
     "text": [
      "                                 OLS Regression Results                                \n",
      "=======================================================================================\n",
      "Dep. Variable:                      y   R-squared (uncentered):                   0.930\n",
      "Model:                            OLS   Adj. R-squared (uncentered):              0.916\n",
      "Method:                 Least Squares   F-statistic:                              66.71\n",
      "Date:                Tue, 09 May 2023   Prob (F-statistic):                    0.000447\n",
      "Time:                        21:23:37   Log-Likelihood:                         -19.692\n",
      "No. Observations:                   6   AIC:                                      41.38\n",
      "Df Residuals:                       5   BIC:                                      41.18\n",
      "Df Model:                           1                                                  \n",
      "Covariance Type:            nonrobust                                                  \n",
      "==============================================================================\n",
      "                 coef    std err          t      P>|t|      [0.025      0.975]\n",
      "------------------------------------------------------------------------------\n",
      "x1             0.6818      0.083      8.167      0.000       0.467       0.896\n",
      "==============================================================================\n",
      "Omnibus:                          nan   Durbin-Watson:                   2.904\n",
      "Prob(Omnibus):                    nan   Jarque-Bera (JB):                0.334\n",
      "Skew:                          -0.137   Prob(JB):                        0.846\n",
      "Kurtosis:                       1.877   Cond. No.                         1.00\n",
      "==============================================================================\n",
      "\n",
      "Notes:\n",
      "[1] R² is computed without centering (uncentered) since the model does not contain a constant.\n",
      "[2] Standard Errors assume that the covariance matrix of the errors is correctly specified.\n"
     ]
    },
    {
     "name": "stderr",
     "output_type": "stream",
     "text": [
      "/opt/homebrew/lib/python3.9/site-packages/statsmodels/stats/stattools.py:74: ValueWarning: omni_normtest is not valid with less than 8 observations; 6 samples were given.\n",
      "  warn(\"omni_normtest is not valid with less than 8 observations; %i \"\n"
     ]
    }
   ],
   "source": [
    "# Test Linear Regression\n",
    "print(results.summary())"
   ]
  },
  {
   "cell_type": "code",
   "execution_count": 91,
   "id": "653c471b",
   "metadata": {
    "execution": {
     "iopub.execute_input": "2023-05-10T01:23:37.766841Z",
     "iopub.status.busy": "2023-05-10T01:23:37.766747Z",
     "iopub.status.idle": "2023-05-10T01:23:37.768850Z",
     "shell.execute_reply": "2023-05-10T01:23:37.768596Z"
    }
   },
   "outputs": [],
   "source": [
    "from statsmodels.compat import lzip\n",
    "import numpy as np\n",
    "import matplotlib.pyplot as plt\n",
    "import statsmodels.api as sm\n",
    "from statsmodels.formula.api import ols"
   ]
  },
  {
   "cell_type": "code",
   "execution_count": 92,
   "id": "3471082f",
   "metadata": {
    "execution": {
     "iopub.execute_input": "2023-05-10T01:23:37.770258Z",
     "iopub.status.busy": "2023-05-10T01:23:37.770173Z",
     "iopub.status.idle": "2023-05-10T01:23:37.772139Z",
     "shell.execute_reply": "2023-05-10T01:23:37.771889Z"
    }
   },
   "outputs": [],
   "source": [
    "plt.rc(\"figure\", figsize=(16, 8))\n",
    "plt.rc(\"font\", size=14)"
   ]
  },
  {
   "cell_type": "markdown",
   "id": "4a2173ce",
   "metadata": {},
   "source": [
    "https://www.statsmodels.org/dev/examples/notebooks/generated/regression_plots.html"
   ]
  },
  {
   "cell_type": "markdown",
   "id": "98b4a5c6",
   "metadata": {},
   "source": [
    "dta = pd.read_csv(\"http://www.stat.ufl.edu/~aa/social/csv_files/statewide-crime-2.csv\")\n",
    "dta = dta.set_index(\"State\", inplace=True).dropna()\n",
    "dta.rename(columns={\"VR\" : \"crime\",\n",
    "                   \"MR\" : \"murder\",\n",
    "                   \"M\"  : \"pctmetro\",\n",
    "                   \"W\"  : \"pctwhite\",\n",
    "                   \"H\"  : \"pcths\",\n",
    "                   \"P\"  : \"poverty\",\n",
    "                   \"S\"  : \"single\"\n",
    "                   }, inplace=True)\n",
    "\n",
    "crime_model = ols(\"murder ~ pctmetro + poverty + pcths + single\", data=dta).fit()"
   ]
  },
  {
   "cell_type": "code",
   "execution_count": 93,
   "id": "c76e8a40",
   "metadata": {
    "execution": {
     "iopub.execute_input": "2023-05-10T01:23:37.773551Z",
     "iopub.status.busy": "2023-05-10T01:23:37.773459Z",
     "iopub.status.idle": "2023-05-10T01:23:37.777102Z",
     "shell.execute_reply": "2023-05-10T01:23:37.776827Z"
    }
   },
   "outputs": [],
   "source": [
    "dta = sm.datasets.statecrime.load_pandas().data"
   ]
  },
  {
   "cell_type": "markdown",
   "id": "a7342755",
   "metadata": {},
   "source": [
    "LINEAR REGRESSION\n",
    "TOWARD DATA SCIENCE https://towardsdatascience.com/multiple-linear-regression-model-using-python-machine-learning-d00c78f1172a"
   ]
  },
  {
   "cell_type": "code",
   "execution_count": 94,
   "id": "fc10d0ed",
   "metadata": {
    "execution": {
     "iopub.execute_input": "2023-05-10T01:23:37.778539Z",
     "iopub.status.busy": "2023-05-10T01:23:37.778449Z",
     "iopub.status.idle": "2023-05-10T01:23:37.780618Z",
     "shell.execute_reply": "2023-05-10T01:23:37.780370Z"
    }
   },
   "outputs": [],
   "source": [
    "# https://www.statsmodels.org/dev/examples/notebooks/generated/plots_boxplots.html\n",
    "get_ipython().run_line_magic('matplotlib', 'inline')"
   ]
  },
  {
   "cell_type": "code",
   "execution_count": 95,
   "id": "e67c9cfa",
   "metadata": {
    "execution": {
     "iopub.execute_input": "2023-05-10T01:23:37.782031Z",
     "iopub.status.busy": "2023-05-10T01:23:37.781939Z",
     "iopub.status.idle": "2023-05-10T01:23:37.783753Z",
     "shell.execute_reply": "2023-05-10T01:23:37.783499Z"
    }
   },
   "outputs": [],
   "source": [
    "import numpy as np\n",
    "import matplotlib.pyplot as plt\n",
    "import statsmodels.api as sm"
   ]
  },
  {
   "cell_type": "markdown",
   "id": "b3b9a7cf",
   "metadata": {},
   "source": [
    "STAT Models\n",
    "https://www.statsmodels.org/dev/examples/notebooks/generated/plots_boxplots.html"
   ]
  },
  {
   "cell_type": "code",
   "execution_count": 96,
   "id": "0c907e5a",
   "metadata": {
    "execution": {
     "iopub.execute_input": "2023-05-10T01:23:37.785208Z",
     "iopub.status.busy": "2023-05-10T01:23:37.785116Z",
     "iopub.status.idle": "2023-05-10T01:23:37.792556Z",
     "shell.execute_reply": "2023-05-10T01:23:37.792295Z"
    }
   },
   "outputs": [],
   "source": [
    "data = sm.datasets.anes96.load_pandas()\n",
    "party_ID = np.arange(7)\n",
    "labels = [\n",
    "    \"Strong Democrat\",\n",
    "    \"Weak Democrat\",\n",
    "    \"Independent-Democrat\",\n",
    "    \"Independent-Independent\",\n",
    "    \"Independent-Republican\",\n",
    "    \"Weak Republican\",\n",
    "    \"Strong Republican\",\n",
    "]"
   ]
  },
  {
   "cell_type": "code",
   "execution_count": 97,
   "id": "bb997d35",
   "metadata": {
    "execution": {
     "iopub.execute_input": "2023-05-10T01:23:37.793950Z",
     "iopub.status.busy": "2023-05-10T01:23:37.793869Z",
     "iopub.status.idle": "2023-05-10T01:23:38.010433Z",
     "shell.execute_reply": "2023-05-10T01:23:38.009681Z"
    }
   },
   "outputs": [
    {
     "data": {
      "text/plain": [
       "Text(0, 0.5, 'Age')"
      ]
     },
     "execution_count": 97,
     "metadata": {},
     "output_type": "execute_result"
    },
    {
     "data": {
      "image/png": "[encoded data removed]",
      "text/plain": [
       "<Figure size 1000x800 with 1 Axes>"
      ]
     },
     "metadata": {},
     "output_type": "display_data"
    }
   ],
   "source": [
    "# STAT Models\n",
    "# https://www.statsmodels.org/dev/examples/notebooks/generated/plots_boxplots.html\n",
    "plt.rcParams[\"figure.subplot.bottom\"] = 0.23  # keep labels visible\n",
    "plt.rcParams[\"figure.figsize\"] = (10.0, 8.0)  # make plot larger in notebook\n",
    "age = [data.exog[\"age\"][data.endog == id] for id in party_ID]\n",
    "fig = plt.figure()\n",
    "ax = fig.add_subplot(111)\n",
    "plot_opts = {\n",
    "    \"cutoff_val\": 5,\n",
    "    \"cutoff_type\": \"abs\",\n",
    "    \"label_fontsize\": \"small\",\n",
    "    \"label_rotation\": 30,\n",
    "}\n",
    "sm.graphics.beanplot(age, ax=ax, labels=labels, plot_opts=plot_opts)\n",
    "ax.set_xlabel(\"Party identification of respondent.\")\n",
    "ax.set_ylabel(\"Age\")\n",
    "# plt.show()"
   ]
  },
  {
   "cell_type": "markdown",
   "id": "02efad4b",
   "metadata": {},
   "source": [
    "PREDICTING THE RESULTS\n",
    "COMPLETE PYTHON CODE FOR LINEAR REGRESSION\n",
    "CREDIT: ASK PYTHON"
   ]
  },
  {
   "cell_type": "markdown",
   "id": "6ed68c4a",
   "metadata": {},
   "source": [
    "SIMPLE REGRESSION ANALYSIS"
   ]
  },
  {
   "cell_type": "markdown",
   "id": "6d28c395",
   "metadata": {},
   "source": [
    "CALCULATING MAPE\n",
    "CREDIT: ASK PYTHON"
   ]
  },
  {
   "cell_type": "code",
   "execution_count": 98,
   "id": "2a97150b",
   "metadata": {
    "execution": {
     "iopub.execute_input": "2023-05-10T01:23:38.014840Z",
     "iopub.status.busy": "2023-05-10T01:23:38.014541Z",
     "iopub.status.idle": "2023-05-10T01:23:39.579165Z",
     "shell.execute_reply": "2023-05-10T01:23:39.578216Z"
    }
   },
   "outputs": [],
   "source": [
    "query_job = bigquery_client.query(query)\n",
    "data = query_job.to_dataframe()"
   ]
  },
  {
   "cell_type": "code",
   "execution_count": 99,
   "id": "296b5d1c",
   "metadata": {
    "execution": {
     "iopub.execute_input": "2023-05-10T01:23:39.583320Z",
     "iopub.status.busy": "2023-05-10T01:23:39.582974Z",
     "iopub.status.idle": "2023-05-10T01:23:39.586636Z",
     "shell.execute_reply": "2023-05-10T01:23:39.585970Z"
    }
   },
   "outputs": [],
   "source": [
    "query_pred = \"\"\"\n",
    "SELECT * FROM `ironhacks-data.ironhacks_competition.unemployment_data`\n",
    "\"\"\""
   ]
  },
  {
   "cell_type": "code",
   "execution_count": 100,
   "id": "413ade7d",
   "metadata": {
    "execution": {
     "iopub.execute_input": "2023-05-10T01:23:39.590125Z",
     "iopub.status.busy": "2023-05-10T01:23:39.589671Z",
     "iopub.status.idle": "2023-05-10T01:23:41.256259Z",
     "shell.execute_reply": "2023-05-10T01:23:41.255123Z"
    }
   },
   "outputs": [],
   "source": [
    "query_job_pred = bigquery_client.query(query_pred)\n",
    "data_pred_query = query_job_pred.to_dataframe()"
   ]
  },
  {
   "cell_type": "code",
   "execution_count": 101,
   "id": "35465e0e",
   "metadata": {
    "execution": {
     "iopub.execute_input": "2023-05-10T01:23:41.262827Z",
     "iopub.status.busy": "2023-05-10T01:23:41.262290Z",
     "iopub.status.idle": "2023-05-10T01:23:41.267939Z",
     "shell.execute_reply": "2023-05-10T01:23:41.267216Z"
    },
    "lines_to_next_cell": 1
   },
   "outputs": [],
   "source": [
    "import csv\n",
    "import pandas as pd\n",
    "import numpy as np\n",
    "from google.cloud import bigquery\n",
    "from google.oauth2 import service_account\n",
    "from google.cloud.bigquery import magics\n",
    "from sklearn.model_selection import train_test_split \n",
    "from sklearn.linear_model import LinearRegression\n",
    "from sklearn import metrics\n",
    "import matplotlib.pyplot as plt  "
   ]
  },
  {
   "cell_type": "code",
   "execution_count": 102,
   "id": "303bd383",
   "metadata": {
    "execution": {
     "iopub.execute_input": "2023-05-10T01:23:41.271507Z",
     "iopub.status.busy": "2023-05-10T01:23:41.271226Z",
     "iopub.status.idle": "2023-05-10T01:23:41.274701Z",
     "shell.execute_reply": "2023-05-10T01:23:41.274149Z"
    },
    "lines_to_next_cell": 1
   },
   "outputs": [],
   "source": [
    "# Defining MAPE function\n",
    "def MAPE(Y_actual,Y_Predicted):\n",
    "    mape = np.mean(np.abs((Y_actual - Y_Predicted)/Y_actual))*100\n",
    "    return mape"
   ]
  },
  {
   "cell_type": "code",
   "execution_count": 103,
   "id": "17f67c81",
   "metadata": {
    "execution": {
     "iopub.execute_input": "2023-05-10T01:23:41.277515Z",
     "iopub.status.busy": "2023-05-10T01:23:41.277228Z",
     "iopub.status.idle": "2023-05-10T01:23:41.291297Z",
     "shell.execute_reply": "2023-05-10T01:23:41.290664Z"
    }
   },
   "outputs": [],
   "source": [
    "import os\n",
    "BIGQUERY_PROJECT = 'ironhacks-data'\n",
    "bigquery_client = bigquery.Client(project=BIGQUERY_PROJECT)"
   ]
  },
  {
   "cell_type": "code",
   "execution_count": 104,
   "id": "cde86a37",
   "metadata": {
    "execution": {
     "iopub.execute_input": "2023-05-10T01:23:41.294831Z",
     "iopub.status.busy": "2023-05-10T01:23:41.294519Z",
     "iopub.status.idle": "2023-05-10T01:23:41.297686Z",
     "shell.execute_reply": "2023-05-10T01:23:41.297228Z"
    }
   },
   "outputs": [],
   "source": [
    "query = \"\"\"\n",
    "SELECT * FROM `ironhacks-data.ironhacks_competition.unemployment_data`\n",
    "\"\"\""
   ]
  },
  {
   "cell_type": "code",
   "execution_count": 105,
   "id": "5fa99a32",
   "metadata": {
    "execution": {
     "iopub.execute_input": "2023-05-10T01:23:41.299972Z",
     "iopub.status.busy": "2023-05-10T01:23:41.299819Z",
     "iopub.status.idle": "2023-05-10T01:23:42.860686Z",
     "shell.execute_reply": "2023-05-10T01:23:42.859894Z"
    }
   },
   "outputs": [
    {
     "data": {
      "text/html": [
       "<div>\n",
       "<style scoped>\n",
       "    .dataframe tbody tr th:only-of-type {\n",
       "        vertical-align: middle;\n",
       "    }\n",
       "\n",
       "    .dataframe tbody tr th {\n",
       "        vertical-align: top;\n",
       "    }\n",
       "\n",
       "    .dataframe thead th {\n",
       "        text-align: right;\n",
       "    }\n",
       "</style>\n",
       "<table border=\"1\" class=\"dataframe\">\n",
       "  <thead>\n",
       "    <tr style=\"text-align: right;\">\n",
       "      <th></th>\n",
       "      <th>uu_id</th>\n",
       "      <th>timeperiod</th>\n",
       "      <th>week_number</th>\n",
       "      <th>countyfips</th>\n",
       "      <th>tract</th>\n",
       "      <th>tract_name</th>\n",
       "      <th>total_claims</th>\n",
       "      <th>edu_8th_or_less</th>\n",
       "      <th>edu_grades_9_11</th>\n",
       "      <th>edu_hs_grad_equiv</th>\n",
       "      <th>...</th>\n",
       "      <th>gender_female</th>\n",
       "      <th>gender_male</th>\n",
       "      <th>gender_na</th>\n",
       "      <th>race_amerindian</th>\n",
       "      <th>race_asian</th>\n",
       "      <th>race_black</th>\n",
       "      <th>race_noanswer</th>\n",
       "      <th>race_hawaiiannative</th>\n",
       "      <th>race_other</th>\n",
       "      <th>race_white</th>\n",
       "    </tr>\n",
       "  </thead>\n",
       "  <tbody>\n",
       "    <tr>\n",
       "      <th>0</th>\n",
       "      <td>f013068de98db1470bd986137a0c6d23</td>\n",
       "      <td>20220416</td>\n",
       "      <td>16</td>\n",
       "      <td>18003</td>\n",
       "      <td>900</td>\n",
       "      <td>Census Tract 9, Allen County, Indiana</td>\n",
       "      <td>22</td>\n",
       "      <td>0</td>\n",
       "      <td>&lt;NA&gt;</td>\n",
       "      <td>14</td>\n",
       "      <td>...</td>\n",
       "      <td>&lt;NA&gt;</td>\n",
       "      <td>&lt;NA&gt;</td>\n",
       "      <td>0</td>\n",
       "      <td>0</td>\n",
       "      <td>0</td>\n",
       "      <td>11</td>\n",
       "      <td>0</td>\n",
       "      <td>0</td>\n",
       "      <td>&lt;NA&gt;</td>\n",
       "      <td>&lt;NA&gt;</td>\n",
       "    </tr>\n",
       "    <tr>\n",
       "      <th>1</th>\n",
       "      <td>21957d5517323845818d87623589e1ba</td>\n",
       "      <td>20220319</td>\n",
       "      <td>12</td>\n",
       "      <td>18089</td>\n",
       "      <td>10400</td>\n",
       "      <td>Census Tract 104, Lake County, Indiana</td>\n",
       "      <td>111</td>\n",
       "      <td>0</td>\n",
       "      <td>&lt;NA&gt;</td>\n",
       "      <td>108</td>\n",
       "      <td>...</td>\n",
       "      <td>76</td>\n",
       "      <td>35</td>\n",
       "      <td>0</td>\n",
       "      <td>0</td>\n",
       "      <td>0</td>\n",
       "      <td>&lt;NA&gt;</td>\n",
       "      <td>&lt;NA&gt;</td>\n",
       "      <td>0</td>\n",
       "      <td>0</td>\n",
       "      <td>0</td>\n",
       "    </tr>\n",
       "    <tr>\n",
       "      <th>2</th>\n",
       "      <td>6a5609f385912113b6f1014b958ed748</td>\n",
       "      <td>20220326</td>\n",
       "      <td>13</td>\n",
       "      <td>18089</td>\n",
       "      <td>11500</td>\n",
       "      <td>Census Tract 115, Lake County, Indiana</td>\n",
       "      <td>39</td>\n",
       "      <td>0</td>\n",
       "      <td>&lt;NA&gt;</td>\n",
       "      <td>&lt;NA&gt;</td>\n",
       "      <td>...</td>\n",
       "      <td>&lt;NA&gt;</td>\n",
       "      <td>&lt;NA&gt;</td>\n",
       "      <td>0</td>\n",
       "      <td>0</td>\n",
       "      <td>0</td>\n",
       "      <td>39</td>\n",
       "      <td>0</td>\n",
       "      <td>0</td>\n",
       "      <td>0</td>\n",
       "      <td>0</td>\n",
       "    </tr>\n",
       "    <tr>\n",
       "      <th>3</th>\n",
       "      <td>46b2882ec4c373527ec33f7bd4f1388d</td>\n",
       "      <td>20220716</td>\n",
       "      <td>29</td>\n",
       "      <td>18089</td>\n",
       "      <td>20700</td>\n",
       "      <td>Census Tract 207, Lake County, Indiana</td>\n",
       "      <td>14</td>\n",
       "      <td>0</td>\n",
       "      <td>&lt;NA&gt;</td>\n",
       "      <td>&lt;NA&gt;</td>\n",
       "      <td>...</td>\n",
       "      <td>&lt;NA&gt;</td>\n",
       "      <td>&lt;NA&gt;</td>\n",
       "      <td>0</td>\n",
       "      <td>0</td>\n",
       "      <td>&lt;NA&gt;</td>\n",
       "      <td>10</td>\n",
       "      <td>0</td>\n",
       "      <td>0</td>\n",
       "      <td>&lt;NA&gt;</td>\n",
       "      <td>&lt;NA&gt;</td>\n",
       "    </tr>\n",
       "    <tr>\n",
       "      <th>4</th>\n",
       "      <td>37495d17e82f7df326bfc2c4c090f7b7</td>\n",
       "      <td>20220409</td>\n",
       "      <td>15</td>\n",
       "      <td>18089</td>\n",
       "      <td>21900</td>\n",
       "      <td>Census Tract 219, Lake County, Indiana</td>\n",
       "      <td>155</td>\n",
       "      <td>0</td>\n",
       "      <td>&lt;NA&gt;</td>\n",
       "      <td>69</td>\n",
       "      <td>...</td>\n",
       "      <td>90</td>\n",
       "      <td>65</td>\n",
       "      <td>0</td>\n",
       "      <td>0</td>\n",
       "      <td>0</td>\n",
       "      <td>135</td>\n",
       "      <td>&lt;NA&gt;</td>\n",
       "      <td>&lt;NA&gt;</td>\n",
       "      <td>&lt;NA&gt;</td>\n",
       "      <td>&lt;NA&gt;</td>\n",
       "    </tr>\n",
       "  </tbody>\n",
       "</table>\n",
       "<p>5 rows × 25 columns</p>\n",
       "</div>"
      ],
      "text/plain": [
       "                              uu_id  timeperiod  week_number  countyfips  \\\n",
       "0  f013068de98db1470bd986137a0c6d23    20220416           16       18003   \n",
       "1  21957d5517323845818d87623589e1ba    20220319           12       18089   \n",
       "2  6a5609f385912113b6f1014b958ed748    20220326           13       18089   \n",
       "3  46b2882ec4c373527ec33f7bd4f1388d    20220716           29       18089   \n",
       "4  37495d17e82f7df326bfc2c4c090f7b7    20220409           15       18089   \n",
       "\n",
       "   tract                              tract_name  total_claims  \\\n",
       "0    900   Census Tract 9, Allen County, Indiana            22   \n",
       "1  10400  Census Tract 104, Lake County, Indiana           111   \n",
       "2  11500  Census Tract 115, Lake County, Indiana            39   \n",
       "3  20700  Census Tract 207, Lake County, Indiana            14   \n",
       "4  21900  Census Tract 219, Lake County, Indiana           155   \n",
       "\n",
       "   edu_8th_or_less  edu_grades_9_11  edu_hs_grad_equiv  ...  gender_female  \\\n",
       "0                0             <NA>                 14  ...           <NA>   \n",
       "1                0             <NA>                108  ...             76   \n",
       "2                0             <NA>               <NA>  ...           <NA>   \n",
       "3                0             <NA>               <NA>  ...           <NA>   \n",
       "4                0             <NA>                 69  ...             90   \n",
       "\n",
       "   gender_male gender_na race_amerindian race_asian  race_black  \\\n",
       "0         <NA>         0               0          0          11   \n",
       "1           35         0               0          0        <NA>   \n",
       "2         <NA>         0               0          0          39   \n",
       "3         <NA>         0               0       <NA>          10   \n",
       "4           65         0               0          0         135   \n",
       "\n",
       "   race_noanswer  race_hawaiiannative  race_other  race_white  \n",
       "0              0                    0        <NA>        <NA>  \n",
       "1           <NA>                    0           0           0  \n",
       "2              0                    0           0           0  \n",
       "3              0                    0        <NA>        <NA>  \n",
       "4           <NA>                 <NA>        <NA>        <NA>  \n",
       "\n",
       "[5 rows x 25 columns]"
      ]
     },
     "execution_count": 105,
     "metadata": {},
     "output_type": "execute_result"
    }
   ],
   "source": [
    "query_job = bigquery_client.query(query)\n",
    "data = query_job.to_dataframe()\n",
    "data.head()"
   ]
  },
  {
   "cell_type": "code",
   "execution_count": 106,
   "id": "7c44251a",
   "metadata": {
    "execution": {
     "iopub.execute_input": "2023-05-10T01:23:42.864039Z",
     "iopub.status.busy": "2023-05-10T01:23:42.863770Z",
     "iopub.status.idle": "2023-05-10T01:23:42.867369Z",
     "shell.execute_reply": "2023-05-10T01:23:42.866863Z"
    }
   },
   "outputs": [],
   "source": [
    "X = data['total_claims'].values.reshape(-1,1)\n",
    "y = data['week_number'].values.reshape(-1,1)"
   ]
  },
  {
   "cell_type": "code",
   "execution_count": 107,
   "id": "e2eed243",
   "metadata": {
    "execution": {
     "iopub.execute_input": "2023-05-10T01:23:42.869647Z",
     "iopub.status.busy": "2023-05-10T01:23:42.869473Z",
     "iopub.status.idle": "2023-05-10T01:23:42.873681Z",
     "shell.execute_reply": "2023-05-10T01:23:42.873250Z"
    }
   },
   "outputs": [],
   "source": [
    "X_train, X_test, y_train, y_test = train_test_split(X, y, test_size=0.2, random_state=0)"
   ]
  },
  {
   "cell_type": "markdown",
   "id": "bb7514f7",
   "metadata": {},
   "source": [
    "COMPARE ACTUAL OUTPUT VALUES FOR X_TEST WITH PREDICTED VALUES - TEST"
   ]
  },
  {
   "cell_type": "code",
   "execution_count": 108,
   "id": "a58ab04f",
   "metadata": {
    "execution": {
     "iopub.execute_input": "2023-05-10T01:23:42.876050Z",
     "iopub.status.busy": "2023-05-10T01:23:42.875699Z",
     "iopub.status.idle": "2023-05-10T01:23:42.879171Z",
     "shell.execute_reply": "2023-05-10T01:23:42.878562Z"
    }
   },
   "outputs": [],
   "source": [
    "df = pd.DataFrame(np.random.rand(10, 3), columns =['a', 'b', 'c'])"
   ]
  },
  {
   "cell_type": "code",
   "execution_count": 109,
   "id": "7b76e50d",
   "metadata": {
    "execution": {
     "iopub.execute_input": "2023-05-10T01:23:42.881283Z",
     "iopub.status.busy": "2023-05-10T01:23:42.881140Z",
     "iopub.status.idle": "2023-05-10T01:23:42.885223Z",
     "shell.execute_reply": "2023-05-10T01:23:42.884822Z"
    }
   },
   "outputs": [
    {
     "name": "stdout",
     "output_type": "stream",
     "text": [
      "          a         b         c\n",
      "0  0.205075  0.079356  0.891920\n",
      "1  0.382304  0.490471  0.208704\n",
      "2  0.928345  0.398056  0.274343\n",
      "3  0.630930  0.871840  0.486137\n",
      "4  0.807969  0.580617  0.976920\n",
      "5  0.178735  0.400271  0.249086\n",
      "6  0.785549  0.852798  0.683845\n",
      "7  0.793245  0.678409  0.530553\n",
      "8  0.402249  0.451199  0.722491\n",
      "9  0.782693  0.924900  0.468302\n"
     ]
    }
   ],
   "source": [
    "print(df)"
   ]
  },
  {
   "cell_type": "markdown",
   "id": "195b9c45",
   "metadata": {},
   "source": [
    "DATA VISUALIZATION - COMPARISON RESULTS AS A BAR GRAPH"
   ]
  },
  {
   "cell_type": "code",
   "execution_count": 110,
   "id": "5750d3fd",
   "metadata": {
    "execution": {
     "iopub.execute_input": "2023-05-10T01:23:42.887230Z",
     "iopub.status.busy": "2023-05-10T01:23:42.887085Z",
     "iopub.status.idle": "2023-05-10T01:23:43.048871Z",
     "shell.execute_reply": "2023-05-10T01:23:43.047669Z"
    }
   },
   "outputs": [
    {
     "data": {
      "image/png": "[encoded data removed]",
      "text/plain": [
       "<Figure size 1600x1000 with 1 Axes>"
      ]
     },
     "metadata": {},
     "output_type": "display_data"
    }
   ],
   "source": [
    "df1 = df.head(25)\n",
    "df1.plot(kind='bar',figsize=(16,10))\n",
    "plt.grid(which='major', linestyle='-', linewidth='0.5', color='green')\n",
    "plt.grid(which='minor', linestyle=':', linewidth='0.5', color='black')\n",
    "plt.show()"
   ]
  },
  {
   "cell_type": "code",
   "execution_count": 111,
   "id": "c0c505f5",
   "metadata": {
    "execution": {
     "iopub.execute_input": "2023-05-10T01:23:43.053820Z",
     "iopub.status.busy": "2023-05-10T01:23:43.052307Z",
     "iopub.status.idle": "2023-05-10T01:23:43.058374Z",
     "shell.execute_reply": "2023-05-10T01:23:43.056719Z"
    }
   },
   "outputs": [],
   "source": [
    "# importing matplotlib\n",
    "import matplotlib.pyplot"
   ]
  },
  {
   "cell_type": "code",
   "execution_count": 112,
   "id": "74de8209",
   "metadata": {
    "execution": {
     "iopub.execute_input": "2023-05-10T01:23:43.068916Z",
     "iopub.status.busy": "2023-05-10T01:23:43.068066Z",
     "iopub.status.idle": "2023-05-10T01:23:43.071583Z",
     "shell.execute_reply": "2023-05-10T01:23:43.070936Z"
    }
   },
   "outputs": [],
   "source": [
    "# importing pandas as pd\n",
    "import pandas as pd"
   ]
  },
  {
   "cell_type": "code",
   "execution_count": 113,
   "id": "a08d510c",
   "metadata": {
    "execution": {
     "iopub.execute_input": "2023-05-10T01:23:43.076594Z",
     "iopub.status.busy": "2023-05-10T01:23:43.075863Z",
     "iopub.status.idle": "2023-05-10T01:23:43.080280Z",
     "shell.execute_reply": "2023-05-10T01:23:43.079207Z"
    }
   },
   "outputs": [],
   "source": [
    "# importing numpy as np\n",
    "import numpy as np"
   ]
  },
  {
   "cell_type": "code",
   "execution_count": 114,
   "id": "3415aabd",
   "metadata": {
    "execution": {
     "iopub.execute_input": "2023-05-10T01:23:43.084642Z",
     "iopub.status.busy": "2023-05-10T01:23:43.084190Z",
     "iopub.status.idle": "2023-05-10T01:23:43.089085Z",
     "shell.execute_reply": "2023-05-10T01:23:43.088475Z"
    }
   },
   "outputs": [],
   "source": [
    "# creating a dataframe\n",
    "df = pd.DataFrame(np.random.rand(10, 10),\n",
    "                  columns =['a', 'b', 'c', 'd', 'e', 'f', 'g', 'h', 'i', 'j'])"
   ]
  },
  {
   "cell_type": "code",
   "execution_count": 115,
   "id": "fe5e9d05",
   "metadata": {
    "execution": {
     "iopub.execute_input": "2023-05-10T01:23:43.093593Z",
     "iopub.status.busy": "2023-05-10T01:23:43.092526Z",
     "iopub.status.idle": "2023-05-10T01:23:43.109746Z",
     "shell.execute_reply": "2023-05-10T01:23:43.108178Z"
    }
   },
   "outputs": [
    {
     "data": {
      "text/html": [
       "<div>\n",
       "<style scoped>\n",
       "    .dataframe tbody tr th:only-of-type {\n",
       "        vertical-align: middle;\n",
       "    }\n",
       "\n",
       "    .dataframe tbody tr th {\n",
       "        vertical-align: top;\n",
       "    }\n",
       "\n",
       "    .dataframe thead th {\n",
       "        text-align: right;\n",
       "    }\n",
       "</style>\n",
       "<table border=\"1\" class=\"dataframe\">\n",
       "  <thead>\n",
       "    <tr style=\"text-align: right;\">\n",
       "      <th></th>\n",
       "      <th>a</th>\n",
       "      <th>b</th>\n",
       "      <th>c</th>\n",
       "      <th>d</th>\n",
       "      <th>e</th>\n",
       "      <th>f</th>\n",
       "      <th>g</th>\n",
       "      <th>h</th>\n",
       "      <th>i</th>\n",
       "      <th>j</th>\n",
       "    </tr>\n",
       "  </thead>\n",
       "  <tbody>\n",
       "    <tr>\n",
       "      <th>0</th>\n",
       "      <td>0.602429</td>\n",
       "      <td>0.652849</td>\n",
       "      <td>0.423679</td>\n",
       "      <td>0.819898</td>\n",
       "      <td>0.732205</td>\n",
       "      <td>0.694144</td>\n",
       "      <td>0.259466</td>\n",
       "      <td>0.086591</td>\n",
       "      <td>0.011255</td>\n",
       "      <td>0.211656</td>\n",
       "    </tr>\n",
       "    <tr>\n",
       "      <th>1</th>\n",
       "      <td>0.780558</td>\n",
       "      <td>0.958628</td>\n",
       "      <td>0.994570</td>\n",
       "      <td>0.747929</td>\n",
       "      <td>0.237177</td>\n",
       "      <td>0.327968</td>\n",
       "      <td>0.633072</td>\n",
       "      <td>0.508177</td>\n",
       "      <td>0.869197</td>\n",
       "      <td>0.459638</td>\n",
       "    </tr>\n",
       "    <tr>\n",
       "      <th>2</th>\n",
       "      <td>0.222340</td>\n",
       "      <td>0.501765</td>\n",
       "      <td>0.941798</td>\n",
       "      <td>0.022105</td>\n",
       "      <td>0.246798</td>\n",
       "      <td>0.912589</td>\n",
       "      <td>0.263257</td>\n",
       "      <td>0.062354</td>\n",
       "      <td>0.167246</td>\n",
       "      <td>0.204204</td>\n",
       "    </tr>\n",
       "    <tr>\n",
       "      <th>3</th>\n",
       "      <td>0.803256</td>\n",
       "      <td>0.653144</td>\n",
       "      <td>0.149388</td>\n",
       "      <td>0.609318</td>\n",
       "      <td>0.723067</td>\n",
       "      <td>0.900428</td>\n",
       "      <td>0.095588</td>\n",
       "      <td>0.032041</td>\n",
       "      <td>0.303218</td>\n",
       "      <td>0.641095</td>\n",
       "    </tr>\n",
       "    <tr>\n",
       "      <th>4</th>\n",
       "      <td>0.996045</td>\n",
       "      <td>0.888104</td>\n",
       "      <td>0.602388</td>\n",
       "      <td>0.098920</td>\n",
       "      <td>0.408569</td>\n",
       "      <td>0.282691</td>\n",
       "      <td>0.096567</td>\n",
       "      <td>0.431900</td>\n",
       "      <td>0.298134</td>\n",
       "      <td>0.647730</td>\n",
       "    </tr>\n",
       "    <tr>\n",
       "      <th>5</th>\n",
       "      <td>0.809364</td>\n",
       "      <td>0.629060</td>\n",
       "      <td>0.321060</td>\n",
       "      <td>0.572130</td>\n",
       "      <td>0.168360</td>\n",
       "      <td>0.081949</td>\n",
       "      <td>0.826812</td>\n",
       "      <td>0.119126</td>\n",
       "      <td>0.360798</td>\n",
       "      <td>0.700963</td>\n",
       "    </tr>\n",
       "    <tr>\n",
       "      <th>6</th>\n",
       "      <td>0.084019</td>\n",
       "      <td>0.458948</td>\n",
       "      <td>0.806962</td>\n",
       "      <td>0.964054</td>\n",
       "      <td>0.386468</td>\n",
       "      <td>0.544526</td>\n",
       "      <td>0.836810</td>\n",
       "      <td>0.301838</td>\n",
       "      <td>0.533178</td>\n",
       "      <td>0.029839</td>\n",
       "    </tr>\n",
       "    <tr>\n",
       "      <th>7</th>\n",
       "      <td>0.665830</td>\n",
       "      <td>0.505190</td>\n",
       "      <td>0.171109</td>\n",
       "      <td>0.658312</td>\n",
       "      <td>0.070286</td>\n",
       "      <td>0.736147</td>\n",
       "      <td>0.946081</td>\n",
       "      <td>0.228596</td>\n",
       "      <td>0.642091</td>\n",
       "      <td>0.351792</td>\n",
       "    </tr>\n",
       "    <tr>\n",
       "      <th>8</th>\n",
       "      <td>0.013110</td>\n",
       "      <td>0.932001</td>\n",
       "      <td>0.169484</td>\n",
       "      <td>0.825028</td>\n",
       "      <td>0.811824</td>\n",
       "      <td>0.212936</td>\n",
       "      <td>0.101627</td>\n",
       "      <td>0.260644</td>\n",
       "      <td>0.507208</td>\n",
       "      <td>0.010764</td>\n",
       "    </tr>\n",
       "    <tr>\n",
       "      <th>9</th>\n",
       "      <td>0.373624</td>\n",
       "      <td>0.757870</td>\n",
       "      <td>0.876782</td>\n",
       "      <td>0.568903</td>\n",
       "      <td>0.845602</td>\n",
       "      <td>0.007286</td>\n",
       "      <td>0.417978</td>\n",
       "      <td>0.433335</td>\n",
       "      <td>0.712291</td>\n",
       "      <td>0.591298</td>\n",
       "    </tr>\n",
       "  </tbody>\n",
       "</table>\n",
       "</div>"
      ],
      "text/plain": [
       "          a         b         c         d         e         f         g  \\\n",
       "0  0.602429  0.652849  0.423679  0.819898  0.732205  0.694144  0.259466   \n",
       "1  0.780558  0.958628  0.994570  0.747929  0.237177  0.327968  0.633072   \n",
       "2  0.222340  0.501765  0.941798  0.022105  0.246798  0.912589  0.263257   \n",
       "3  0.803256  0.653144  0.149388  0.609318  0.723067  0.900428  0.095588   \n",
       "4  0.996045  0.888104  0.602388  0.098920  0.408569  0.282691  0.096567   \n",
       "5  0.809364  0.629060  0.321060  0.572130  0.168360  0.081949  0.826812   \n",
       "6  0.084019  0.458948  0.806962  0.964054  0.386468  0.544526  0.836810   \n",
       "7  0.665830  0.505190  0.171109  0.658312  0.070286  0.736147  0.946081   \n",
       "8  0.013110  0.932001  0.169484  0.825028  0.811824  0.212936  0.101627   \n",
       "9  0.373624  0.757870  0.876782  0.568903  0.845602  0.007286  0.417978   \n",
       "\n",
       "          h         i         j  \n",
       "0  0.086591  0.011255  0.211656  \n",
       "1  0.508177  0.869197  0.459638  \n",
       "2  0.062354  0.167246  0.204204  \n",
       "3  0.032041  0.303218  0.641095  \n",
       "4  0.431900  0.298134  0.647730  \n",
       "5  0.119126  0.360798  0.700963  \n",
       "6  0.301838  0.533178  0.029839  \n",
       "7  0.228596  0.642091  0.351792  \n",
       "8  0.260644  0.507208  0.010764  \n",
       "9  0.433335  0.712291  0.591298  "
      ]
     },
     "execution_count": 115,
     "metadata": {},
     "output_type": "execute_result"
    }
   ],
   "source": [
    "df"
   ]
  },
  {
   "cell_type": "code",
   "execution_count": 116,
   "id": "8ecb4f4d",
   "metadata": {
    "execution": {
     "iopub.execute_input": "2023-05-10T01:23:43.114478Z",
     "iopub.status.busy": "2023-05-10T01:23:43.114105Z",
     "iopub.status.idle": "2023-05-10T01:23:43.383330Z",
     "shell.execute_reply": "2023-05-10T01:23:43.382990Z"
    }
   },
   "outputs": [
    {
     "data": {
      "text/plain": [
       "<AxesSubplot: >"
      ]
     },
     "execution_count": 116,
     "metadata": {},
     "output_type": "execute_result"
    },
    {
     "data": {
      "image/png": "[encoded data removed]",
      "text/plain": [
       "<Figure size 1000x800 with 1 Axes>"
      ]
     },
     "metadata": {},
     "output_type": "display_data"
    }
   ],
   "source": [
    "# using a function df.plot.bar()\n",
    "df.plot.bar()"
   ]
  },
  {
   "cell_type": "markdown",
   "id": "24a9c557",
   "metadata": {},
   "source": [
    "CALCULATING MAPE\n",
    "CREDIT: ASK PYTHON"
   ]
  },
  {
   "cell_type": "code",
   "execution_count": 117,
   "id": "129f7ea6",
   "metadata": {
    "execution": {
     "iopub.execute_input": "2023-05-10T01:23:43.385186Z",
     "iopub.status.busy": "2023-05-10T01:23:43.385050Z",
     "iopub.status.idle": "2023-05-10T01:23:43.387596Z",
     "shell.execute_reply": "2023-05-10T01:23:43.387337Z"
    }
   },
   "outputs": [
    {
     "name": "stdout",
     "output_type": "stream",
     "text": [
      "13.999999999999984\n"
     ]
    }
   ],
   "source": [
    "from sklearn.metrics import mean_absolute_error\n",
    "Y_actual = [1,2,3,4,5]\n",
    "Y_Predicted = [1,2.5,3,4.1,4.9]\n",
    "mape = mean_absolute_error(Y_actual, Y_Predicted)*100\n",
    "print(mape)"
   ]
  },
  {
   "cell_type": "code",
   "execution_count": 118,
   "id": "475709e6",
   "metadata": {
    "execution": {
     "iopub.execute_input": "2023-05-10T01:23:43.388995Z",
     "iopub.status.busy": "2023-05-10T01:23:43.388877Z",
     "iopub.status.idle": "2023-05-10T01:23:43.390710Z",
     "shell.execute_reply": "2023-05-10T01:23:43.390401Z"
    }
   },
   "outputs": [],
   "source": [
    "query = \"\"\"\n",
    "SELECT *\n",
    "FROM `ironhacks-data.ironhacks_competition.unemployment_data`\n",
    "\"\"\" "
   ]
  },
  {
   "cell_type": "code",
   "execution_count": 119,
   "id": "26994b93",
   "metadata": {
    "execution": {
     "iopub.execute_input": "2023-05-10T01:23:43.392130Z",
     "iopub.status.busy": "2023-05-10T01:23:43.392028Z",
     "iopub.status.idle": "2023-05-10T01:23:45.708958Z",
     "shell.execute_reply": "2023-05-10T01:23:45.708355Z"
    }
   },
   "outputs": [
    {
     "data": {
      "text/html": [
       "<div>\n",
       "<style scoped>\n",
       "    .dataframe tbody tr th:only-of-type {\n",
       "        vertical-align: middle;\n",
       "    }\n",
       "\n",
       "    .dataframe tbody tr th {\n",
       "        vertical-align: top;\n",
       "    }\n",
       "\n",
       "    .dataframe thead th {\n",
       "        text-align: right;\n",
       "    }\n",
       "</style>\n",
       "<table border=\"1\" class=\"dataframe\">\n",
       "  <thead>\n",
       "    <tr style=\"text-align: right;\">\n",
       "      <th></th>\n",
       "      <th>uu_id</th>\n",
       "      <th>timeperiod</th>\n",
       "      <th>week_number</th>\n",
       "      <th>countyfips</th>\n",
       "      <th>tract</th>\n",
       "      <th>tract_name</th>\n",
       "      <th>total_claims</th>\n",
       "      <th>edu_8th_or_less</th>\n",
       "      <th>edu_grades_9_11</th>\n",
       "      <th>edu_hs_grad_equiv</th>\n",
       "      <th>...</th>\n",
       "      <th>gender_female</th>\n",
       "      <th>gender_male</th>\n",
       "      <th>gender_na</th>\n",
       "      <th>race_amerindian</th>\n",
       "      <th>race_asian</th>\n",
       "      <th>race_black</th>\n",
       "      <th>race_noanswer</th>\n",
       "      <th>race_hawaiiannative</th>\n",
       "      <th>race_other</th>\n",
       "      <th>race_white</th>\n",
       "    </tr>\n",
       "  </thead>\n",
       "  <tbody>\n",
       "    <tr>\n",
       "      <th>0</th>\n",
       "      <td>f013068de98db1470bd986137a0c6d23</td>\n",
       "      <td>20220416</td>\n",
       "      <td>16</td>\n",
       "      <td>18003</td>\n",
       "      <td>900</td>\n",
       "      <td>Census Tract 9, Allen County, Indiana</td>\n",
       "      <td>22</td>\n",
       "      <td>0</td>\n",
       "      <td>&lt;NA&gt;</td>\n",
       "      <td>14</td>\n",
       "      <td>...</td>\n",
       "      <td>&lt;NA&gt;</td>\n",
       "      <td>&lt;NA&gt;</td>\n",
       "      <td>0</td>\n",
       "      <td>0</td>\n",
       "      <td>0</td>\n",
       "      <td>11</td>\n",
       "      <td>0</td>\n",
       "      <td>0</td>\n",
       "      <td>&lt;NA&gt;</td>\n",
       "      <td>&lt;NA&gt;</td>\n",
       "    </tr>\n",
       "    <tr>\n",
       "      <th>1</th>\n",
       "      <td>21957d5517323845818d87623589e1ba</td>\n",
       "      <td>20220319</td>\n",
       "      <td>12</td>\n",
       "      <td>18089</td>\n",
       "      <td>10400</td>\n",
       "      <td>Census Tract 104, Lake County, Indiana</td>\n",
       "      <td>111</td>\n",
       "      <td>0</td>\n",
       "      <td>&lt;NA&gt;</td>\n",
       "      <td>108</td>\n",
       "      <td>...</td>\n",
       "      <td>76</td>\n",
       "      <td>35</td>\n",
       "      <td>0</td>\n",
       "      <td>0</td>\n",
       "      <td>0</td>\n",
       "      <td>&lt;NA&gt;</td>\n",
       "      <td>&lt;NA&gt;</td>\n",
       "      <td>0</td>\n",
       "      <td>0</td>\n",
       "      <td>0</td>\n",
       "    </tr>\n",
       "    <tr>\n",
       "      <th>2</th>\n",
       "      <td>6a5609f385912113b6f1014b958ed748</td>\n",
       "      <td>20220326</td>\n",
       "      <td>13</td>\n",
       "      <td>18089</td>\n",
       "      <td>11500</td>\n",
       "      <td>Census Tract 115, Lake County, Indiana</td>\n",
       "      <td>39</td>\n",
       "      <td>0</td>\n",
       "      <td>&lt;NA&gt;</td>\n",
       "      <td>&lt;NA&gt;</td>\n",
       "      <td>...</td>\n",
       "      <td>&lt;NA&gt;</td>\n",
       "      <td>&lt;NA&gt;</td>\n",
       "      <td>0</td>\n",
       "      <td>0</td>\n",
       "      <td>0</td>\n",
       "      <td>39</td>\n",
       "      <td>0</td>\n",
       "      <td>0</td>\n",
       "      <td>0</td>\n",
       "      <td>0</td>\n",
       "    </tr>\n",
       "    <tr>\n",
       "      <th>3</th>\n",
       "      <td>46b2882ec4c373527ec33f7bd4f1388d</td>\n",
       "      <td>20220716</td>\n",
       "      <td>29</td>\n",
       "      <td>18089</td>\n",
       "      <td>20700</td>\n",
       "      <td>Census Tract 207, Lake County, Indiana</td>\n",
       "      <td>14</td>\n",
       "      <td>0</td>\n",
       "      <td>&lt;NA&gt;</td>\n",
       "      <td>&lt;NA&gt;</td>\n",
       "      <td>...</td>\n",
       "      <td>&lt;NA&gt;</td>\n",
       "      <td>&lt;NA&gt;</td>\n",
       "      <td>0</td>\n",
       "      <td>0</td>\n",
       "      <td>&lt;NA&gt;</td>\n",
       "      <td>10</td>\n",
       "      <td>0</td>\n",
       "      <td>0</td>\n",
       "      <td>&lt;NA&gt;</td>\n",
       "      <td>&lt;NA&gt;</td>\n",
       "    </tr>\n",
       "    <tr>\n",
       "      <th>4</th>\n",
       "      <td>37495d17e82f7df326bfc2c4c090f7b7</td>\n",
       "      <td>20220409</td>\n",
       "      <td>15</td>\n",
       "      <td>18089</td>\n",
       "      <td>21900</td>\n",
       "      <td>Census Tract 219, Lake County, Indiana</td>\n",
       "      <td>155</td>\n",
       "      <td>0</td>\n",
       "      <td>&lt;NA&gt;</td>\n",
       "      <td>69</td>\n",
       "      <td>...</td>\n",
       "      <td>90</td>\n",
       "      <td>65</td>\n",
       "      <td>0</td>\n",
       "      <td>0</td>\n",
       "      <td>0</td>\n",
       "      <td>135</td>\n",
       "      <td>&lt;NA&gt;</td>\n",
       "      <td>&lt;NA&gt;</td>\n",
       "      <td>&lt;NA&gt;</td>\n",
       "      <td>&lt;NA&gt;</td>\n",
       "    </tr>\n",
       "    <tr>\n",
       "      <th>5</th>\n",
       "      <td>25a57fe39e03c632125308737a7d3769</td>\n",
       "      <td>20220820</td>\n",
       "      <td>34</td>\n",
       "      <td>18067</td>\n",
       "      <td>300</td>\n",
       "      <td>Census Tract 3, Howard County, Indiana</td>\n",
       "      <td>24</td>\n",
       "      <td>0</td>\n",
       "      <td>&lt;NA&gt;</td>\n",
       "      <td>15</td>\n",
       "      <td>...</td>\n",
       "      <td>14</td>\n",
       "      <td>10</td>\n",
       "      <td>0</td>\n",
       "      <td>0</td>\n",
       "      <td>0</td>\n",
       "      <td>&lt;NA&gt;</td>\n",
       "      <td>0</td>\n",
       "      <td>0</td>\n",
       "      <td>0</td>\n",
       "      <td>&lt;NA&gt;</td>\n",
       "    </tr>\n",
       "    <tr>\n",
       "      <th>6</th>\n",
       "      <td>25a57fe39e03c632125308737a7d3769</td>\n",
       "      <td>20220820</td>\n",
       "      <td>34</td>\n",
       "      <td>18067</td>\n",
       "      <td>300</td>\n",
       "      <td>Census Tract 3, Howard County, Indiana</td>\n",
       "      <td>24</td>\n",
       "      <td>0</td>\n",
       "      <td>&lt;NA&gt;</td>\n",
       "      <td>15</td>\n",
       "      <td>...</td>\n",
       "      <td>14</td>\n",
       "      <td>10</td>\n",
       "      <td>0</td>\n",
       "      <td>0</td>\n",
       "      <td>0</td>\n",
       "      <td>&lt;NA&gt;</td>\n",
       "      <td>0</td>\n",
       "      <td>0</td>\n",
       "      <td>0</td>\n",
       "      <td>&lt;NA&gt;</td>\n",
       "    </tr>\n",
       "    <tr>\n",
       "      <th>7</th>\n",
       "      <td>45c8cf419dd4c4b442dbf3603ba94379</td>\n",
       "      <td>20220129</td>\n",
       "      <td>5</td>\n",
       "      <td>18003</td>\n",
       "      <td>3200</td>\n",
       "      <td>Census Tract 32, Allen County, Indiana</td>\n",
       "      <td>19</td>\n",
       "      <td>&lt;NA&gt;</td>\n",
       "      <td>&lt;NA&gt;</td>\n",
       "      <td>&lt;NA&gt;</td>\n",
       "      <td>...</td>\n",
       "      <td>11</td>\n",
       "      <td>&lt;NA&gt;</td>\n",
       "      <td>&lt;NA&gt;</td>\n",
       "      <td>0</td>\n",
       "      <td>&lt;NA&gt;</td>\n",
       "      <td>&lt;NA&gt;</td>\n",
       "      <td>&lt;NA&gt;</td>\n",
       "      <td>0</td>\n",
       "      <td>&lt;NA&gt;</td>\n",
       "      <td>12</td>\n",
       "    </tr>\n",
       "    <tr>\n",
       "      <th>8</th>\n",
       "      <td>8f782a6153268c6031e31784e2d4eae2</td>\n",
       "      <td>20220716</td>\n",
       "      <td>29</td>\n",
       "      <td>18089</td>\n",
       "      <td>42000</td>\n",
       "      <td>Census Tract 420, Lake County, Indiana</td>\n",
       "      <td>20</td>\n",
       "      <td>0</td>\n",
       "      <td>&lt;NA&gt;</td>\n",
       "      <td>10</td>\n",
       "      <td>...</td>\n",
       "      <td>&lt;NA&gt;</td>\n",
       "      <td>&lt;NA&gt;</td>\n",
       "      <td>0</td>\n",
       "      <td>&lt;NA&gt;</td>\n",
       "      <td>0</td>\n",
       "      <td>&lt;NA&gt;</td>\n",
       "      <td>&lt;NA&gt;</td>\n",
       "      <td>0</td>\n",
       "      <td>&lt;NA&gt;</td>\n",
       "      <td>14</td>\n",
       "    </tr>\n",
       "    <tr>\n",
       "      <th>9</th>\n",
       "      <td>5c04f20bd2f8552aa7ac210dc01292fb</td>\n",
       "      <td>20220611</td>\n",
       "      <td>24</td>\n",
       "      <td>18089</td>\n",
       "      <td>42200</td>\n",
       "      <td>Census Tract 422, Lake County, Indiana</td>\n",
       "      <td>12</td>\n",
       "      <td>&lt;NA&gt;</td>\n",
       "      <td>0</td>\n",
       "      <td>&lt;NA&gt;</td>\n",
       "      <td>...</td>\n",
       "      <td>&lt;NA&gt;</td>\n",
       "      <td>&lt;NA&gt;</td>\n",
       "      <td>0</td>\n",
       "      <td>0</td>\n",
       "      <td>0</td>\n",
       "      <td>&lt;NA&gt;</td>\n",
       "      <td>0</td>\n",
       "      <td>0</td>\n",
       "      <td>&lt;NA&gt;</td>\n",
       "      <td>&lt;NA&gt;</td>\n",
       "    </tr>\n",
       "    <tr>\n",
       "      <th>10</th>\n",
       "      <td>050a624d618a68e43fe31189909c644f</td>\n",
       "      <td>20220409</td>\n",
       "      <td>15</td>\n",
       "      <td>18067</td>\n",
       "      <td>700</td>\n",
       "      <td>Census Tract 7, Howard County, Indiana</td>\n",
       "      <td>20</td>\n",
       "      <td>&lt;NA&gt;</td>\n",
       "      <td>0</td>\n",
       "      <td>10</td>\n",
       "      <td>...</td>\n",
       "      <td>&lt;NA&gt;</td>\n",
       "      <td>&lt;NA&gt;</td>\n",
       "      <td>0</td>\n",
       "      <td>0</td>\n",
       "      <td>0</td>\n",
       "      <td>&lt;NA&gt;</td>\n",
       "      <td>0</td>\n",
       "      <td>0</td>\n",
       "      <td>&lt;NA&gt;</td>\n",
       "      <td>14</td>\n",
       "    </tr>\n",
       "    <tr>\n",
       "      <th>11</th>\n",
       "      <td>bc7ebe1813e2b66f084289e1b1172f21</td>\n",
       "      <td>20220507</td>\n",
       "      <td>19</td>\n",
       "      <td>18067</td>\n",
       "      <td>900</td>\n",
       "      <td>Census Tract 9, Howard County, Indiana</td>\n",
       "      <td>20</td>\n",
       "      <td>0</td>\n",
       "      <td>&lt;NA&gt;</td>\n",
       "      <td>&lt;NA&gt;</td>\n",
       "      <td>...</td>\n",
       "      <td>&lt;NA&gt;</td>\n",
       "      <td>&lt;NA&gt;</td>\n",
       "      <td>0</td>\n",
       "      <td>0</td>\n",
       "      <td>0</td>\n",
       "      <td>&lt;NA&gt;</td>\n",
       "      <td>0</td>\n",
       "      <td>0</td>\n",
       "      <td>0</td>\n",
       "      <td>&lt;NA&gt;</td>\n",
       "    </tr>\n",
       "    <tr>\n",
       "      <th>12</th>\n",
       "      <td>6239669cbfe444abd0a46536a670d150</td>\n",
       "      <td>20220709</td>\n",
       "      <td>28</td>\n",
       "      <td>18039</td>\n",
       "      <td>400</td>\n",
       "      <td>Census Tract 4, Elkhart County, Indiana</td>\n",
       "      <td>20</td>\n",
       "      <td>0</td>\n",
       "      <td>&lt;NA&gt;</td>\n",
       "      <td>13</td>\n",
       "      <td>...</td>\n",
       "      <td>&lt;NA&gt;</td>\n",
       "      <td>&lt;NA&gt;</td>\n",
       "      <td>0</td>\n",
       "      <td>0</td>\n",
       "      <td>0</td>\n",
       "      <td>0</td>\n",
       "      <td>&lt;NA&gt;</td>\n",
       "      <td>&lt;NA&gt;</td>\n",
       "      <td>&lt;NA&gt;</td>\n",
       "      <td>12</td>\n",
       "    </tr>\n",
       "    <tr>\n",
       "      <th>13</th>\n",
       "      <td>6657c9871fa2f67cd168e6f94354060e</td>\n",
       "      <td>20220910</td>\n",
       "      <td>37</td>\n",
       "      <td>18039</td>\n",
       "      <td>900</td>\n",
       "      <td>Census Tract 9, Elkhart County, Indiana</td>\n",
       "      <td>50</td>\n",
       "      <td>18</td>\n",
       "      <td>&lt;NA&gt;</td>\n",
       "      <td>21</td>\n",
       "      <td>...</td>\n",
       "      <td>11</td>\n",
       "      <td>39</td>\n",
       "      <td>0</td>\n",
       "      <td>0</td>\n",
       "      <td>0</td>\n",
       "      <td>0</td>\n",
       "      <td>0</td>\n",
       "      <td>0</td>\n",
       "      <td>&lt;NA&gt;</td>\n",
       "      <td>&lt;NA&gt;</td>\n",
       "    </tr>\n",
       "    <tr>\n",
       "      <th>14</th>\n",
       "      <td>6657c9871fa2f67cd168e6f94354060e</td>\n",
       "      <td>20220903</td>\n",
       "      <td>36</td>\n",
       "      <td>18039</td>\n",
       "      <td>900</td>\n",
       "      <td>Census Tract 9, Elkhart County, Indiana</td>\n",
       "      <td>29</td>\n",
       "      <td>14</td>\n",
       "      <td>&lt;NA&gt;</td>\n",
       "      <td>&lt;NA&gt;</td>\n",
       "      <td>...</td>\n",
       "      <td>&lt;NA&gt;</td>\n",
       "      <td>&lt;NA&gt;</td>\n",
       "      <td>0</td>\n",
       "      <td>0</td>\n",
       "      <td>0</td>\n",
       "      <td>0</td>\n",
       "      <td>0</td>\n",
       "      <td>0</td>\n",
       "      <td>&lt;NA&gt;</td>\n",
       "      <td>&lt;NA&gt;</td>\n",
       "    </tr>\n",
       "    <tr>\n",
       "      <th>15</th>\n",
       "      <td>6657c9871fa2f67cd168e6f94354060e</td>\n",
       "      <td>20220903</td>\n",
       "      <td>36</td>\n",
       "      <td>18039</td>\n",
       "      <td>900</td>\n",
       "      <td>Census Tract 9, Elkhart County, Indiana</td>\n",
       "      <td>29</td>\n",
       "      <td>14</td>\n",
       "      <td>&lt;NA&gt;</td>\n",
       "      <td>&lt;NA&gt;</td>\n",
       "      <td>...</td>\n",
       "      <td>&lt;NA&gt;</td>\n",
       "      <td>&lt;NA&gt;</td>\n",
       "      <td>0</td>\n",
       "      <td>0</td>\n",
       "      <td>0</td>\n",
       "      <td>0</td>\n",
       "      <td>0</td>\n",
       "      <td>0</td>\n",
       "      <td>&lt;NA&gt;</td>\n",
       "      <td>&lt;NA&gt;</td>\n",
       "    </tr>\n",
       "    <tr>\n",
       "      <th>16</th>\n",
       "      <td>6657c9871fa2f67cd168e6f94354060e</td>\n",
       "      <td>20220910</td>\n",
       "      <td>37</td>\n",
       "      <td>18039</td>\n",
       "      <td>900</td>\n",
       "      <td>Census Tract 9, Elkhart County, Indiana</td>\n",
       "      <td>50</td>\n",
       "      <td>18</td>\n",
       "      <td>&lt;NA&gt;</td>\n",
       "      <td>21</td>\n",
       "      <td>...</td>\n",
       "      <td>11</td>\n",
       "      <td>39</td>\n",
       "      <td>0</td>\n",
       "      <td>0</td>\n",
       "      <td>0</td>\n",
       "      <td>0</td>\n",
       "      <td>0</td>\n",
       "      <td>0</td>\n",
       "      <td>&lt;NA&gt;</td>\n",
       "      <td>&lt;NA&gt;</td>\n",
       "    </tr>\n",
       "    <tr>\n",
       "      <th>17</th>\n",
       "      <td>7df3e38fbdab0a32ca0fa9fb6c8bd8c4</td>\n",
       "      <td>20220702</td>\n",
       "      <td>27</td>\n",
       "      <td>18067</td>\n",
       "      <td>10200</td>\n",
       "      <td>Census Tract 102, Howard County, Indiana</td>\n",
       "      <td>75</td>\n",
       "      <td>0</td>\n",
       "      <td>&lt;NA&gt;</td>\n",
       "      <td>50</td>\n",
       "      <td>...</td>\n",
       "      <td>29</td>\n",
       "      <td>46</td>\n",
       "      <td>0</td>\n",
       "      <td>0</td>\n",
       "      <td>&lt;NA&gt;</td>\n",
       "      <td>0</td>\n",
       "      <td>&lt;NA&gt;</td>\n",
       "      <td>0</td>\n",
       "      <td>&lt;NA&gt;</td>\n",
       "      <td>71</td>\n",
       "    </tr>\n",
       "    <tr>\n",
       "      <th>18</th>\n",
       "      <td>7df3e38fbdab0a32ca0fa9fb6c8bd8c4</td>\n",
       "      <td>20220625</td>\n",
       "      <td>26</td>\n",
       "      <td>18067</td>\n",
       "      <td>10200</td>\n",
       "      <td>Census Tract 102, Howard County, Indiana</td>\n",
       "      <td>66</td>\n",
       "      <td>0</td>\n",
       "      <td>&lt;NA&gt;</td>\n",
       "      <td>44</td>\n",
       "      <td>...</td>\n",
       "      <td>20</td>\n",
       "      <td>46</td>\n",
       "      <td>0</td>\n",
       "      <td>0</td>\n",
       "      <td>&lt;NA&gt;</td>\n",
       "      <td>&lt;NA&gt;</td>\n",
       "      <td>&lt;NA&gt;</td>\n",
       "      <td>0</td>\n",
       "      <td>&lt;NA&gt;</td>\n",
       "      <td>61</td>\n",
       "    </tr>\n",
       "    <tr>\n",
       "      <th>19</th>\n",
       "      <td>e8f426c17a7172179be379cb926bd278</td>\n",
       "      <td>20220709</td>\n",
       "      <td>28</td>\n",
       "      <td>18067</td>\n",
       "      <td>10400</td>\n",
       "      <td>Census Tract 104, Howard County, Indiana</td>\n",
       "      <td>20</td>\n",
       "      <td>0</td>\n",
       "      <td>0</td>\n",
       "      <td>&lt;NA&gt;</td>\n",
       "      <td>...</td>\n",
       "      <td>&lt;NA&gt;</td>\n",
       "      <td>&lt;NA&gt;</td>\n",
       "      <td>0</td>\n",
       "      <td>0</td>\n",
       "      <td>0</td>\n",
       "      <td>0</td>\n",
       "      <td>0</td>\n",
       "      <td>0</td>\n",
       "      <td>&lt;NA&gt;</td>\n",
       "      <td>&lt;NA&gt;</td>\n",
       "    </tr>\n",
       "  </tbody>\n",
       "</table>\n",
       "<p>20 rows × 25 columns</p>\n",
       "</div>"
      ],
      "text/plain": [
       "                               uu_id  timeperiod  week_number  countyfips  \\\n",
       "0   f013068de98db1470bd986137a0c6d23    20220416           16       18003   \n",
       "1   21957d5517323845818d87623589e1ba    20220319           12       18089   \n",
       "2   6a5609f385912113b6f1014b958ed748    20220326           13       18089   \n",
       "3   46b2882ec4c373527ec33f7bd4f1388d    20220716           29       18089   \n",
       "4   37495d17e82f7df326bfc2c4c090f7b7    20220409           15       18089   \n",
       "5   25a57fe39e03c632125308737a7d3769    20220820           34       18067   \n",
       "6   25a57fe39e03c632125308737a7d3769    20220820           34       18067   \n",
       "7   45c8cf419dd4c4b442dbf3603ba94379    20220129            5       18003   \n",
       "8   8f782a6153268c6031e31784e2d4eae2    20220716           29       18089   \n",
       "9   5c04f20bd2f8552aa7ac210dc01292fb    20220611           24       18089   \n",
       "10  050a624d618a68e43fe31189909c644f    20220409           15       18067   \n",
       "11  bc7ebe1813e2b66f084289e1b1172f21    20220507           19       18067   \n",
       "12  6239669cbfe444abd0a46536a670d150    20220709           28       18039   \n",
       "13  6657c9871fa2f67cd168e6f94354060e    20220910           37       18039   \n",
       "14  6657c9871fa2f67cd168e6f94354060e    20220903           36       18039   \n",
       "15  6657c9871fa2f67cd168e6f94354060e    20220903           36       18039   \n",
       "16  6657c9871fa2f67cd168e6f94354060e    20220910           37       18039   \n",
       "17  7df3e38fbdab0a32ca0fa9fb6c8bd8c4    20220702           27       18067   \n",
       "18  7df3e38fbdab0a32ca0fa9fb6c8bd8c4    20220625           26       18067   \n",
       "19  e8f426c17a7172179be379cb926bd278    20220709           28       18067   \n",
       "\n",
       "    tract                                tract_name  total_claims  \\\n",
       "0     900     Census Tract 9, Allen County, Indiana            22   \n",
       "1   10400    Census Tract 104, Lake County, Indiana           111   \n",
       "2   11500    Census Tract 115, Lake County, Indiana            39   \n",
       "3   20700    Census Tract 207, Lake County, Indiana            14   \n",
       "4   21900    Census Tract 219, Lake County, Indiana           155   \n",
       "5     300    Census Tract 3, Howard County, Indiana            24   \n",
       "6     300    Census Tract 3, Howard County, Indiana            24   \n",
       "7    3200    Census Tract 32, Allen County, Indiana            19   \n",
       "8   42000    Census Tract 420, Lake County, Indiana            20   \n",
       "9   42200    Census Tract 422, Lake County, Indiana            12   \n",
       "10    700    Census Tract 7, Howard County, Indiana            20   \n",
       "11    900    Census Tract 9, Howard County, Indiana            20   \n",
       "12    400   Census Tract 4, Elkhart County, Indiana            20   \n",
       "13    900   Census Tract 9, Elkhart County, Indiana            50   \n",
       "14    900   Census Tract 9, Elkhart County, Indiana            29   \n",
       "15    900   Census Tract 9, Elkhart County, Indiana            29   \n",
       "16    900   Census Tract 9, Elkhart County, Indiana            50   \n",
       "17  10200  Census Tract 102, Howard County, Indiana            75   \n",
       "18  10200  Census Tract 102, Howard County, Indiana            66   \n",
       "19  10400  Census Tract 104, Howard County, Indiana            20   \n",
       "\n",
       "    edu_8th_or_less  edu_grades_9_11  edu_hs_grad_equiv  ...  gender_female  \\\n",
       "0                 0             <NA>                 14  ...           <NA>   \n",
       "1                 0             <NA>                108  ...             76   \n",
       "2                 0             <NA>               <NA>  ...           <NA>   \n",
       "3                 0             <NA>               <NA>  ...           <NA>   \n",
       "4                 0             <NA>                 69  ...             90   \n",
       "5                 0             <NA>                 15  ...             14   \n",
       "6                 0             <NA>                 15  ...             14   \n",
       "7              <NA>             <NA>               <NA>  ...             11   \n",
       "8                 0             <NA>                 10  ...           <NA>   \n",
       "9              <NA>                0               <NA>  ...           <NA>   \n",
       "10             <NA>                0                 10  ...           <NA>   \n",
       "11                0             <NA>               <NA>  ...           <NA>   \n",
       "12                0             <NA>                 13  ...           <NA>   \n",
       "13               18             <NA>                 21  ...             11   \n",
       "14               14             <NA>               <NA>  ...           <NA>   \n",
       "15               14             <NA>               <NA>  ...           <NA>   \n",
       "16               18             <NA>                 21  ...             11   \n",
       "17                0             <NA>                 50  ...             29   \n",
       "18                0             <NA>                 44  ...             20   \n",
       "19                0                0               <NA>  ...           <NA>   \n",
       "\n",
       "    gender_male gender_na race_amerindian race_asian  race_black  \\\n",
       "0          <NA>         0               0          0          11   \n",
       "1            35         0               0          0        <NA>   \n",
       "2          <NA>         0               0          0          39   \n",
       "3          <NA>         0               0       <NA>          10   \n",
       "4            65         0               0          0         135   \n",
       "5            10         0               0          0        <NA>   \n",
       "6            10         0               0          0        <NA>   \n",
       "7          <NA>      <NA>               0       <NA>        <NA>   \n",
       "8          <NA>         0            <NA>          0        <NA>   \n",
       "9          <NA>         0               0          0        <NA>   \n",
       "10         <NA>         0               0          0        <NA>   \n",
       "11         <NA>         0               0          0        <NA>   \n",
       "12         <NA>         0               0          0           0   \n",
       "13           39         0               0          0           0   \n",
       "14         <NA>         0               0          0           0   \n",
       "15         <NA>         0               0          0           0   \n",
       "16           39         0               0          0           0   \n",
       "17           46         0               0       <NA>           0   \n",
       "18           46         0               0       <NA>        <NA>   \n",
       "19         <NA>         0               0          0           0   \n",
       "\n",
       "    race_noanswer  race_hawaiiannative  race_other  race_white  \n",
       "0               0                    0        <NA>        <NA>  \n",
       "1            <NA>                    0           0           0  \n",
       "2               0                    0           0           0  \n",
       "3               0                    0        <NA>        <NA>  \n",
       "4            <NA>                 <NA>        <NA>        <NA>  \n",
       "5               0                    0           0        <NA>  \n",
       "6               0                    0           0        <NA>  \n",
       "7            <NA>                    0        <NA>          12  \n",
       "8            <NA>                    0        <NA>          14  \n",
       "9               0                    0        <NA>        <NA>  \n",
       "10              0                    0        <NA>          14  \n",
       "11              0                    0           0        <NA>  \n",
       "12           <NA>                 <NA>        <NA>          12  \n",
       "13              0                    0        <NA>        <NA>  \n",
       "14              0                    0        <NA>        <NA>  \n",
       "15              0                    0        <NA>        <NA>  \n",
       "16              0                    0        <NA>        <NA>  \n",
       "17           <NA>                    0        <NA>          71  \n",
       "18           <NA>                    0        <NA>          61  \n",
       "19              0                    0        <NA>        <NA>  \n",
       "\n",
       "[20 rows x 25 columns]"
      ]
     },
     "execution_count": 119,
     "metadata": {},
     "output_type": "execute_result"
    }
   ],
   "source": [
    "# QUERY THE DATA ONCE\n",
    "query_job = bigquery_client.query(query)\n",
    "unemployment_data = query_job.to_dataframe()\n",
    "unemployment_data.head(20)"
   ]
  },
  {
   "cell_type": "code",
   "execution_count": 120,
   "id": "f69368b7",
   "metadata": {
    "execution": {
     "iopub.execute_input": "2023-05-10T01:23:45.712231Z",
     "iopub.status.busy": "2023-05-10T01:23:45.711754Z",
     "iopub.status.idle": "2023-05-10T01:23:45.714906Z",
     "shell.execute_reply": "2023-05-10T01:23:45.714411Z"
    }
   },
   "outputs": [],
   "source": [
    "query = \"\"\"\n",
    "SELECT *\n",
    "FROM `ironhacks-data.ironhacks_competition.wage_data`\n",
    "\"\"\" "
   ]
  },
  {
   "cell_type": "code",
   "execution_count": 121,
   "id": "3950e706",
   "metadata": {
    "execution": {
     "iopub.execute_input": "2023-05-10T01:23:45.717350Z",
     "iopub.status.busy": "2023-05-10T01:23:45.717171Z",
     "iopub.status.idle": "2023-05-10T01:23:47.385271Z",
     "shell.execute_reply": "2023-05-10T01:23:47.384417Z"
    }
   },
   "outputs": [
    {
     "data": {
      "text/html": [
       "<div>\n",
       "<style scoped>\n",
       "    .dataframe tbody tr th:only-of-type {\n",
       "        vertical-align: middle;\n",
       "    }\n",
       "\n",
       "    .dataframe tbody tr th {\n",
       "        vertical-align: top;\n",
       "    }\n",
       "\n",
       "    .dataframe thead th {\n",
       "        text-align: right;\n",
       "    }\n",
       "</style>\n",
       "<table border=\"1\" class=\"dataframe\">\n",
       "  <thead>\n",
       "    <tr style=\"text-align: right;\">\n",
       "      <th></th>\n",
       "      <th>uu_id</th>\n",
       "      <th>countyfips</th>\n",
       "      <th>tract</th>\n",
       "      <th>tract_name</th>\n",
       "      <th>average_wage</th>\n",
       "    </tr>\n",
       "  </thead>\n",
       "  <tbody>\n",
       "    <tr>\n",
       "      <th>0</th>\n",
       "      <td>585f8731c2255d6b3f817a31180848b9</td>\n",
       "      <td>18177</td>\n",
       "      <td>200</td>\n",
       "      <td>Census Tract 2, Wayne County, Indiana</td>\n",
       "      <td>6612.000000</td>\n",
       "    </tr>\n",
       "    <tr>\n",
       "      <th>1</th>\n",
       "      <td>8c9d2aa90948679972a9382aadcc6001</td>\n",
       "      <td>18177</td>\n",
       "      <td>900</td>\n",
       "      <td>Census Tract 9, Wayne County, Indiana</td>\n",
       "      <td>9883.250000</td>\n",
       "    </tr>\n",
       "    <tr>\n",
       "      <th>2</th>\n",
       "      <td>0f3d45341a5b113b813ffb7be7f58bab</td>\n",
       "      <td>18183</td>\n",
       "      <td>50300</td>\n",
       "      <td>Census Tract 503, Whitley County, Indiana</td>\n",
       "      <td>13992.250000</td>\n",
       "    </tr>\n",
       "    <tr>\n",
       "      <th>3</th>\n",
       "      <td>fb55464f8e34af6d750d06968bf719b8</td>\n",
       "      <td>18183</td>\n",
       "      <td>50400</td>\n",
       "      <td>Census Tract 504, Whitley County, Indiana</td>\n",
       "      <td>13613.500000</td>\n",
       "    </tr>\n",
       "    <tr>\n",
       "      <th>4</th>\n",
       "      <td>983badfd7b568728e39a2344a9006078</td>\n",
       "      <td>18001</td>\n",
       "      <td>30200</td>\n",
       "      <td>Census Tract 302, Adams County, Indiana</td>\n",
       "      <td>11816.666667</td>\n",
       "    </tr>\n",
       "    <tr>\n",
       "      <th>5</th>\n",
       "      <td>3ebec5c7e13f05f1772dae73f3a1f5e0</td>\n",
       "      <td>18003</td>\n",
       "      <td>11302</td>\n",
       "      <td>Census Tract 113.02, Allen County, Indiana</td>\n",
       "      <td>9201.800000</td>\n",
       "    </tr>\n",
       "    <tr>\n",
       "      <th>6</th>\n",
       "      <td>4e47a34030916597b6293593de5016a2</td>\n",
       "      <td>18003</td>\n",
       "      <td>2300</td>\n",
       "      <td>Census Tract 23, Allen County, Indiana</td>\n",
       "      <td>7106.857143</td>\n",
       "    </tr>\n",
       "    <tr>\n",
       "      <th>7</th>\n",
       "      <td>9b461ff4ed0094dc132cb01b2e1db9ba</td>\n",
       "      <td>18003</td>\n",
       "      <td>2800</td>\n",
       "      <td>Census Tract 28, Allen County, Indiana</td>\n",
       "      <td>7807.250000</td>\n",
       "    </tr>\n",
       "    <tr>\n",
       "      <th>8</th>\n",
       "      <td>f013068de98db1470bd986137a0c6d23</td>\n",
       "      <td>18003</td>\n",
       "      <td>900</td>\n",
       "      <td>Census Tract 9, Allen County, Indiana</td>\n",
       "      <td>8347.125000</td>\n",
       "    </tr>\n",
       "    <tr>\n",
       "      <th>9</th>\n",
       "      <td>d9f6293ea290fd5f01904c594b5a90b9</td>\n",
       "      <td>18003</td>\n",
       "      <td>10821</td>\n",
       "      <td>Census Tract 108.21, Allen County, Indiana</td>\n",
       "      <td>6903.666667</td>\n",
       "    </tr>\n",
       "    <tr>\n",
       "      <th>10</th>\n",
       "      <td>842c96eacb965c2a1c0cbd6e51a7f741</td>\n",
       "      <td>18003</td>\n",
       "      <td>2000</td>\n",
       "      <td>Census Tract 20, Allen County, Indiana</td>\n",
       "      <td>8182.250000</td>\n",
       "    </tr>\n",
       "    <tr>\n",
       "      <th>11</th>\n",
       "      <td>7322dfe92403d20403f7a527ba733641</td>\n",
       "      <td>18003</td>\n",
       "      <td>3100</td>\n",
       "      <td>Census Tract 31, Allen County, Indiana</td>\n",
       "      <td>8586.600000</td>\n",
       "    </tr>\n",
       "    <tr>\n",
       "      <th>12</th>\n",
       "      <td>6167d550c0cdd68c799d372c5df97acb</td>\n",
       "      <td>18003</td>\n",
       "      <td>10819</td>\n",
       "      <td>Census Tract 108.19, Allen County, Indiana</td>\n",
       "      <td>14195.285714</td>\n",
       "    </tr>\n",
       "    <tr>\n",
       "      <th>13</th>\n",
       "      <td>489a93264d03adecc4589fd9cd34ad36</td>\n",
       "      <td>18003</td>\n",
       "      <td>10306</td>\n",
       "      <td>Census Tract 103.06, Allen County, Indiana</td>\n",
       "      <td>9966.666667</td>\n",
       "    </tr>\n",
       "    <tr>\n",
       "      <th>14</th>\n",
       "      <td>e847a8217e0447f92b06d59fa7c88982</td>\n",
       "      <td>18003</td>\n",
       "      <td>3000</td>\n",
       "      <td>Census Tract 30, Allen County, Indiana</td>\n",
       "      <td>10280.444444</td>\n",
       "    </tr>\n",
       "    <tr>\n",
       "      <th>15</th>\n",
       "      <td>1901b891f05515a8c22c05ef58baba38</td>\n",
       "      <td>18003</td>\n",
       "      <td>11608</td>\n",
       "      <td>Census Tract 116.08, Allen County, Indiana</td>\n",
       "      <td>14278.000000</td>\n",
       "    </tr>\n",
       "    <tr>\n",
       "      <th>16</th>\n",
       "      <td>2094eb904cf826728093f0e2713d2e30</td>\n",
       "      <td>18003</td>\n",
       "      <td>11501</td>\n",
       "      <td>Census Tract 115.01, Allen County, Indiana</td>\n",
       "      <td>8336.500000</td>\n",
       "    </tr>\n",
       "    <tr>\n",
       "      <th>17</th>\n",
       "      <td>d6d6aa73853ad771aaf7f972661fd2e6</td>\n",
       "      <td>18003</td>\n",
       "      <td>10305</td>\n",
       "      <td>Census Tract 103.05, Allen County, Indiana</td>\n",
       "      <td>21141.375000</td>\n",
       "    </tr>\n",
       "    <tr>\n",
       "      <th>18</th>\n",
       "      <td>f1bebcc62175d8c0c05ba9e63aa68b2e</td>\n",
       "      <td>18003</td>\n",
       "      <td>10601</td>\n",
       "      <td>Census Tract 106.01, Allen County, Indiana</td>\n",
       "      <td>11355.800000</td>\n",
       "    </tr>\n",
       "    <tr>\n",
       "      <th>19</th>\n",
       "      <td>45c8cf419dd4c4b442dbf3603ba94379</td>\n",
       "      <td>18003</td>\n",
       "      <td>3200</td>\n",
       "      <td>Census Tract 32, Allen County, Indiana</td>\n",
       "      <td>11288.250000</td>\n",
       "    </tr>\n",
       "  </tbody>\n",
       "</table>\n",
       "</div>"
      ],
      "text/plain": [
       "                               uu_id  countyfips  tract  \\\n",
       "0   585f8731c2255d6b3f817a31180848b9       18177    200   \n",
       "1   8c9d2aa90948679972a9382aadcc6001       18177    900   \n",
       "2   0f3d45341a5b113b813ffb7be7f58bab       18183  50300   \n",
       "3   fb55464f8e34af6d750d06968bf719b8       18183  50400   \n",
       "4   983badfd7b568728e39a2344a9006078       18001  30200   \n",
       "5   3ebec5c7e13f05f1772dae73f3a1f5e0       18003  11302   \n",
       "6   4e47a34030916597b6293593de5016a2       18003   2300   \n",
       "7   9b461ff4ed0094dc132cb01b2e1db9ba       18003   2800   \n",
       "8   f013068de98db1470bd986137a0c6d23       18003    900   \n",
       "9   d9f6293ea290fd5f01904c594b5a90b9       18003  10821   \n",
       "10  842c96eacb965c2a1c0cbd6e51a7f741       18003   2000   \n",
       "11  7322dfe92403d20403f7a527ba733641       18003   3100   \n",
       "12  6167d550c0cdd68c799d372c5df97acb       18003  10819   \n",
       "13  489a93264d03adecc4589fd9cd34ad36       18003  10306   \n",
       "14  e847a8217e0447f92b06d59fa7c88982       18003   3000   \n",
       "15  1901b891f05515a8c22c05ef58baba38       18003  11608   \n",
       "16  2094eb904cf826728093f0e2713d2e30       18003  11501   \n",
       "17  d6d6aa73853ad771aaf7f972661fd2e6       18003  10305   \n",
       "18  f1bebcc62175d8c0c05ba9e63aa68b2e       18003  10601   \n",
       "19  45c8cf419dd4c4b442dbf3603ba94379       18003   3200   \n",
       "\n",
       "                                    tract_name  average_wage  \n",
       "0        Census Tract 2, Wayne County, Indiana   6612.000000  \n",
       "1        Census Tract 9, Wayne County, Indiana   9883.250000  \n",
       "2    Census Tract 503, Whitley County, Indiana  13992.250000  \n",
       "3    Census Tract 504, Whitley County, Indiana  13613.500000  \n",
       "4      Census Tract 302, Adams County, Indiana  11816.666667  \n",
       "5   Census Tract 113.02, Allen County, Indiana   9201.800000  \n",
       "6       Census Tract 23, Allen County, Indiana   7106.857143  \n",
       "7       Census Tract 28, Allen County, Indiana   7807.250000  \n",
       "8        Census Tract 9, Allen County, Indiana   8347.125000  \n",
       "9   Census Tract 108.21, Allen County, Indiana   6903.666667  \n",
       "10      Census Tract 20, Allen County, Indiana   8182.250000  \n",
       "11      Census Tract 31, Allen County, Indiana   8586.600000  \n",
       "12  Census Tract 108.19, Allen County, Indiana  14195.285714  \n",
       "13  Census Tract 103.06, Allen County, Indiana   9966.666667  \n",
       "14      Census Tract 30, Allen County, Indiana  10280.444444  \n",
       "15  Census Tract 116.08, Allen County, Indiana  14278.000000  \n",
       "16  Census Tract 115.01, Allen County, Indiana   8336.500000  \n",
       "17  Census Tract 103.05, Allen County, Indiana  21141.375000  \n",
       "18  Census Tract 106.01, Allen County, Indiana  11355.800000  \n",
       "19      Census Tract 32, Allen County, Indiana  11288.250000  "
      ]
     },
     "execution_count": 121,
     "metadata": {},
     "output_type": "execute_result"
    }
   ],
   "source": [
    "# QUERY THE DATA ONCE\n",
    "query_job = bigquery_client.query(query)\n",
    "wage_data = query_job.to_dataframe()\n",
    "wage_data.head(20)"
   ]
  },
  {
   "cell_type": "code",
   "execution_count": 122,
   "id": "2a598e3a",
   "metadata": {
    "execution": {
     "iopub.execute_input": "2023-05-10T01:23:47.389626Z",
     "iopub.status.busy": "2023-05-10T01:23:47.389261Z",
     "iopub.status.idle": "2023-05-10T01:23:47.394451Z",
     "shell.execute_reply": "2023-05-10T01:23:47.393031Z"
    }
   },
   "outputs": [],
   "source": [
    "query = \"\"\"\n",
    "SELECT * FROM `ironhacks-data.ironhacks_competition.prediction_list`\n",
    "\"\"\""
   ]
  },
  {
   "cell_type": "code",
   "execution_count": 123,
   "id": "fbe380bf",
   "metadata": {
    "execution": {
     "iopub.execute_input": "2023-05-10T01:23:47.398520Z",
     "iopub.status.busy": "2023-05-10T01:23:47.398161Z",
     "iopub.status.idle": "2023-05-10T01:23:49.184826Z",
     "shell.execute_reply": "2023-05-10T01:23:49.184092Z"
    }
   },
   "outputs": [
    {
     "data": {
      "text/html": [
       "<div>\n",
       "<style scoped>\n",
       "    .dataframe tbody tr th:only-of-type {\n",
       "        vertical-align: middle;\n",
       "    }\n",
       "\n",
       "    .dataframe tbody tr th {\n",
       "        vertical-align: top;\n",
       "    }\n",
       "\n",
       "    .dataframe thead th {\n",
       "        text-align: right;\n",
       "    }\n",
       "</style>\n",
       "<table border=\"1\" class=\"dataframe\">\n",
       "  <thead>\n",
       "    <tr style=\"text-align: right;\">\n",
       "      <th></th>\n",
       "      <th>uu_id</th>\n",
       "      <th>week_number</th>\n",
       "    </tr>\n",
       "  </thead>\n",
       "  <tbody>\n",
       "    <tr>\n",
       "      <th>0</th>\n",
       "      <td>5bf51fc2e162d6faf9e3cf79e4198378</td>\n",
       "      <td>44</td>\n",
       "    </tr>\n",
       "    <tr>\n",
       "      <th>1</th>\n",
       "      <td>420b44cc7e3f55d738df565421e59941</td>\n",
       "      <td>44</td>\n",
       "    </tr>\n",
       "    <tr>\n",
       "      <th>2</th>\n",
       "      <td>e39c66ecceec76ee8f9f811fa4a2d246</td>\n",
       "      <td>44</td>\n",
       "    </tr>\n",
       "    <tr>\n",
       "      <th>3</th>\n",
       "      <td>a90462cd11ae4e43144239bf7c4828a4</td>\n",
       "      <td>44</td>\n",
       "    </tr>\n",
       "    <tr>\n",
       "      <th>4</th>\n",
       "      <td>8b20a6749088c7ff1237983076ebfeaa</td>\n",
       "      <td>44</td>\n",
       "    </tr>\n",
       "    <tr>\n",
       "      <th>5</th>\n",
       "      <td>489a93264d03adecc4589fd9cd34ad36</td>\n",
       "      <td>44</td>\n",
       "    </tr>\n",
       "    <tr>\n",
       "      <th>6</th>\n",
       "      <td>f61f291c865fe4fe2bfd6dad53e5d058</td>\n",
       "      <td>44</td>\n",
       "    </tr>\n",
       "    <tr>\n",
       "      <th>7</th>\n",
       "      <td>f4520092ddd64f380cc29f27329112a6</td>\n",
       "      <td>44</td>\n",
       "    </tr>\n",
       "    <tr>\n",
       "      <th>8</th>\n",
       "      <td>447d5984bb8a8179bff002ccd1bba162</td>\n",
       "      <td>44</td>\n",
       "    </tr>\n",
       "    <tr>\n",
       "      <th>9</th>\n",
       "      <td>56d73815bdda97aca8e26051183ed3ba</td>\n",
       "      <td>44</td>\n",
       "    </tr>\n",
       "    <tr>\n",
       "      <th>10</th>\n",
       "      <td>050a624d618a68e43fe31189909c644f</td>\n",
       "      <td>44</td>\n",
       "    </tr>\n",
       "    <tr>\n",
       "      <th>11</th>\n",
       "      <td>5c43cbf8f0d860e91a9160706ea9b7d8</td>\n",
       "      <td>44</td>\n",
       "    </tr>\n",
       "    <tr>\n",
       "      <th>12</th>\n",
       "      <td>1400fd6122c6fe7582a30ee1280beb4b</td>\n",
       "      <td>44</td>\n",
       "    </tr>\n",
       "    <tr>\n",
       "      <th>13</th>\n",
       "      <td>02a7b845ab6b3fc2c09a50cdc486db2a</td>\n",
       "      <td>44</td>\n",
       "    </tr>\n",
       "    <tr>\n",
       "      <th>14</th>\n",
       "      <td>a993d47c7143bed2a187b0cac7d17983</td>\n",
       "      <td>44</td>\n",
       "    </tr>\n",
       "    <tr>\n",
       "      <th>15</th>\n",
       "      <td>09fbf26479f644ad33186ec51a90d65d</td>\n",
       "      <td>44</td>\n",
       "    </tr>\n",
       "    <tr>\n",
       "      <th>16</th>\n",
       "      <td>ce8723e47ce346b09bc20deb5d27749e</td>\n",
       "      <td>44</td>\n",
       "    </tr>\n",
       "    <tr>\n",
       "      <th>17</th>\n",
       "      <td>b67c2c4abede3730932f8d53aba0341a</td>\n",
       "      <td>44</td>\n",
       "    </tr>\n",
       "    <tr>\n",
       "      <th>18</th>\n",
       "      <td>68e5bdd9fde563b534c8a38dfddb6146</td>\n",
       "      <td>44</td>\n",
       "    </tr>\n",
       "    <tr>\n",
       "      <th>19</th>\n",
       "      <td>445ccda085809824099ff41f0ed427e5</td>\n",
       "      <td>44</td>\n",
       "    </tr>\n",
       "  </tbody>\n",
       "</table>\n",
       "</div>"
      ],
      "text/plain": [
       "                               uu_id  week_number\n",
       "0   5bf51fc2e162d6faf9e3cf79e4198378           44\n",
       "1   420b44cc7e3f55d738df565421e59941           44\n",
       "2   e39c66ecceec76ee8f9f811fa4a2d246           44\n",
       "3   a90462cd11ae4e43144239bf7c4828a4           44\n",
       "4   8b20a6749088c7ff1237983076ebfeaa           44\n",
       "5   489a93264d03adecc4589fd9cd34ad36           44\n",
       "6   f61f291c865fe4fe2bfd6dad53e5d058           44\n",
       "7   f4520092ddd64f380cc29f27329112a6           44\n",
       "8   447d5984bb8a8179bff002ccd1bba162           44\n",
       "9   56d73815bdda97aca8e26051183ed3ba           44\n",
       "10  050a624d618a68e43fe31189909c644f           44\n",
       "11  5c43cbf8f0d860e91a9160706ea9b7d8           44\n",
       "12  1400fd6122c6fe7582a30ee1280beb4b           44\n",
       "13  02a7b845ab6b3fc2c09a50cdc486db2a           44\n",
       "14  a993d47c7143bed2a187b0cac7d17983           44\n",
       "15  09fbf26479f644ad33186ec51a90d65d           44\n",
       "16  ce8723e47ce346b09bc20deb5d27749e           44\n",
       "17  b67c2c4abede3730932f8d53aba0341a           44\n",
       "18  68e5bdd9fde563b534c8a38dfddb6146           44\n",
       "19  445ccda085809824099ff41f0ed427e5           44"
      ]
     },
     "execution_count": 123,
     "metadata": {},
     "output_type": "execute_result"
    }
   ],
   "source": [
    "query_job = bigquery_client.query(query)\n",
    "data = query_job.to_dataframe()\n",
    "data.head(20)"
   ]
  },
  {
   "cell_type": "markdown",
   "id": "27eec058",
   "metadata": {},
   "source": [
    "USING DATA SCIENCE OPERATIONS\n",
    "SOURCE: REALPYTHON https://realpython.com/numpy-tutorial/#using-ipython-notebooks-or-jupyterlab\n",
    "MASKING AND FILTERING - creating an array that has the same shape as your data"
   ]
  },
  {
   "cell_type": "code",
   "execution_count": 124,
   "id": "3d8b633d",
   "metadata": {
    "execution": {
     "iopub.execute_input": "2023-05-10T01:23:49.189224Z",
     "iopub.status.busy": "2023-05-10T01:23:49.188703Z",
     "iopub.status.idle": "2023-05-10T01:23:49.197598Z",
     "shell.execute_reply": "2023-05-10T01:23:49.196442Z"
    }
   },
   "outputs": [
    {
     "data": {
      "text/plain": [
       "array([[ 5,  6,  8, 10, 12, 14],\n",
       "       [16, 18, 20, 22, 24, 26],\n",
       "       [28, 30, 32, 34, 36, 38],\n",
       "       [40, 42, 44, 46, 48, 50]])"
      ]
     },
     "execution_count": 124,
     "metadata": {},
     "output_type": "execute_result"
    }
   ],
   "source": [
    "import numpy as np\n",
    "numbers = np.linspace(5, 50, 24, dtype=int).reshape(4, -1)\n",
    "numbers"
   ]
  },
  {
   "cell_type": "markdown",
   "id": "a9f3af36",
   "metadata": {},
   "source": [
    "USING DATA SCIENCE OPERATIONS\n",
    "SOURCE: REALPYTHON https://realpython.com/numpy-tutorial/#using-ipython-notebooks-or-jupyterlab\n",
    "MASKING AND FILTERING - creating an array that has the same shape as your data"
   ]
  },
  {
   "cell_type": "code",
   "execution_count": 125,
   "id": "b224953a",
   "metadata": {
    "execution": {
     "iopub.execute_input": "2023-05-10T01:23:49.202062Z",
     "iopub.status.busy": "2023-05-10T01:23:49.201488Z",
     "iopub.status.idle": "2023-05-10T01:23:49.206966Z",
     "shell.execute_reply": "2023-05-10T01:23:49.206300Z"
    }
   },
   "outputs": [
    {
     "data": {
      "text/plain": [
       "array([[False, False,  True, False,  True, False],\n",
       "       [ True, False,  True, False,  True, False],\n",
       "       [ True, False,  True, False,  True, False],\n",
       "       [ True, False,  True, False,  True, False]])"
      ]
     },
     "execution_count": 125,
     "metadata": {},
     "output_type": "execute_result"
    }
   ],
   "source": [
    "mask = numbers % 4 == 0\n",
    "mask"
   ]
  },
  {
   "cell_type": "code",
   "execution_count": 126,
   "id": "4261b0aa",
   "metadata": {
    "execution": {
     "iopub.execute_input": "2023-05-10T01:23:49.210437Z",
     "iopub.status.busy": "2023-05-10T01:23:49.210123Z",
     "iopub.status.idle": "2023-05-10T01:23:49.215516Z",
     "shell.execute_reply": "2023-05-10T01:23:49.214759Z"
    }
   },
   "outputs": [
    {
     "data": {
      "text/plain": [
       "array([ 8, 12, 16, 20, 24, 28, 32, 36, 40, 44, 48])"
      ]
     },
     "execution_count": 126,
     "metadata": {},
     "output_type": "execute_result"
    }
   ],
   "source": [
    "# Input 4 creates the mask\n",
    "numbers[mask]"
   ]
  },
  {
   "cell_type": "code",
   "execution_count": 127,
   "id": "3b898388",
   "metadata": {
    "execution": {
     "iopub.execute_input": "2023-05-10T01:23:49.218645Z",
     "iopub.status.busy": "2023-05-10T01:23:49.218373Z",
     "iopub.status.idle": "2023-05-10T01:23:49.222604Z",
     "shell.execute_reply": "2023-05-10T01:23:49.222132Z"
    }
   },
   "outputs": [
    {
     "data": {
      "text/plain": [
       "array([ 8, 12, 16, 20, 24, 28, 32, 36, 40, 44, 48])"
      ]
     },
     "execution_count": 127,
     "metadata": {},
     "output_type": "execute_result"
    }
   ],
   "source": [
    "by_four = numbers[numbers % 4 == 0]\n",
    "by_four"
   ]
  },
  {
   "cell_type": "code",
   "execution_count": 128,
   "id": "3c79e650",
   "metadata": {
    "execution": {
     "iopub.execute_input": "2023-05-10T01:23:49.225103Z",
     "iopub.status.busy": "2023-05-10T01:23:49.224944Z",
     "iopub.status.idle": "2023-05-10T01:23:49.227789Z",
     "shell.execute_reply": "2023-05-10T01:23:49.227231Z"
    },
    "lines_to_next_cell": 2
   },
   "outputs": [],
   "source": [
    "# USING MATPLOTLIB - image\n",
    "# A WAY TO COMMUNICATE DATA AND RESULTS\n",
    "# UNEMPLOYMENT RATES OCTOBER 2022 - Indiana Image\n",
    "# SOURCE: http://www.stats.indiana.edu/maptools/laus.asp\n",
    "# insall image\n",
    "# using opencv\n",
    "path = \"http://www.stats.indiana.edu/maptools/laus.asp\""
   ]
  },
  {
   "cell_type": "code",
   "execution_count": 129,
   "id": "2b7cfe41",
   "metadata": {
    "execution": {
     "iopub.execute_input": "2023-05-10T01:23:49.230803Z",
     "iopub.status.busy": "2023-05-10T01:23:49.230379Z",
     "iopub.status.idle": "2023-05-10T01:23:49.233053Z",
     "shell.execute_reply": "2023-05-10T01:23:49.232626Z"
    }
   },
   "outputs": [],
   "source": [
    "import numpy as np\n",
    "import matplotlib.image as mpimg"
   ]
  },
  {
   "cell_type": "code",
   "execution_count": 130,
   "id": "5aa9cae3",
   "metadata": {
    "execution": {
     "iopub.execute_input": "2023-05-10T01:23:49.235383Z",
     "iopub.status.busy": "2023-05-10T01:23:49.235192Z",
     "iopub.status.idle": "2023-05-10T01:23:49.238183Z",
     "shell.execute_reply": "2023-05-10T01:23:49.237741Z"
    }
   },
   "outputs": [
    {
     "ename": "SyntaxError",
     "evalue": "invalid syntax (2913591077.py, line 1)",
     "output_type": "error",
     "traceback": [
      "\u001b[0;36m  Cell \u001b[0;32mIn [130], line 1\u001b[0;36m\u001b[0m\n\u001b[0;31m    img = mpimg.imread (http://www.stats.indiana.edu/maptools/laus.asp)\u001b[0m\n\u001b[0m                            ^\u001b[0m\n\u001b[0;31mSyntaxError\u001b[0m\u001b[0;31m:\u001b[0m invalid syntax\n"
     ]
    }
   ],
   "source": [
    "img = mpimg.imread (http://www.stats.indiana.edu/maptools/laus.asp)\n",
    "print(type(img) )\n",
    "print(img.shape )"
   ]
  },
  {
   "cell_type": "markdown",
   "id": "d86d750d",
   "metadata": {},
   "source": [
    "# This can also be a good place for you to cleanup any input/output and export your results to a file.\n",
    "REFERENCE: https://www.askpython.com/python/examples/linear-regression-in-python"
   ]
  },
  {
   "cell_type": "markdown",
   "id": "1ef44d3e",
   "metadata": {
    "lines_to_next_cell": 2
   },
   "source": [
    "# This can also be a good place for you to cleanup any input/output and export your results to a file.\n",
    "REFERENCE: https://www.askpython.com/python/examples/linear-regression-in-python"
   ]
  }
 ],
 "metadata": {
  "jupytext": {
   "cell_metadata_filter": "-all",
   "main_language": "python",
   "notebook_metadata_filter": "-all"
  },
  "kernelspec": {
   "display_name": "base",
   "language": "python",
   "name": "python3"
  },
  "language_info": {
   "codemirror_mode": {
    "name": "ipython",
    "version": 3
   },
   "file_extension": ".py",
   "mimetype": "text/x-python",
   "name": "python",
   "nbconvert_exporter": "python",
   "pygments_lexer": "ipython3",
   "version": "3.9.12"
  }
 },
 "nbformat": 4,
 "nbformat_minor": 5
}
