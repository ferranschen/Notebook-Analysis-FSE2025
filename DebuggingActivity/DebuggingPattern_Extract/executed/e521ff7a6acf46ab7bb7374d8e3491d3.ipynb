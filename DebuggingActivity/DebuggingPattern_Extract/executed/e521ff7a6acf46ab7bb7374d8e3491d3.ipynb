{
 "cells": [
  {
   "cell_type": "code",
   "execution_count": 1,
   "id": "f64b14a9",
   "metadata": {
    "execution": {
     "iopub.execute_input": "2023-05-10T02:22:53.230924Z",
     "iopub.status.busy": "2023-05-10T02:22:53.230763Z",
     "iopub.status.idle": "2023-05-10T02:22:55.940638Z",
     "shell.execute_reply": "2023-05-10T02:22:55.940003Z"
    }
   },
   "outputs": [
    {
     "name": "stdout",
     "output_type": "stream",
     "text": [
      "\u001b[33mWARNING: Ignoring invalid distribution -umpy (/opt/anaconda3/lib/python3.9/site-packages)\u001b[0m\r\n",
      "\u001b[33mWARNING: Ignoring invalid distribution -umpy (/opt/anaconda3/lib/python3.9/site-packages)\u001b[0m\r\n",
      "Requirement already satisfied: db-dtypes in /opt/anaconda3/lib/python3.9/site-packages (1.0.5)\r\n",
      "Requirement already satisfied: pandas<2.0dev,>=0.24.2 in /opt/anaconda3/lib/python3.9/site-packages (from db-dtypes) (1.5.3)\r\n",
      "Requirement already satisfied: pyarrow>=3.0.0 in /opt/anaconda3/lib/python3.9/site-packages (from db-dtypes) (10.0.1)\r\n",
      "Requirement already satisfied: packaging>=17.0 in /opt/anaconda3/lib/python3.9/site-packages (from db-dtypes) (21.3)\r\n",
      "Requirement already satisfied: numpy<2.0dev,>=1.16.6 in /opt/anaconda3/lib/python3.9/site-packages (from db-dtypes) (1.22.4)\r\n",
      "Requirement already satisfied: pyparsing!=3.0.5,>=2.0.2 in /opt/anaconda3/lib/python3.9/site-packages (from packaging>=17.0->db-dtypes) (3.0.4)\r\n"
     ]
    },
    {
     "name": "stdout",
     "output_type": "stream",
     "text": [
      "Requirement already satisfied: python-dateutil>=2.8.1 in /opt/anaconda3/lib/python3.9/site-packages (from pandas<2.0dev,>=0.24.2->db-dtypes) (2.8.2)\r\n",
      "Requirement already satisfied: pytz>=2020.1 in /opt/anaconda3/lib/python3.9/site-packages (from pandas<2.0dev,>=0.24.2->db-dtypes) (2021.3)\r\n",
      "Requirement already satisfied: six>=1.5 in /opt/anaconda3/lib/python3.9/site-packages (from python-dateutil>=2.8.1->pandas<2.0dev,>=0.24.2->db-dtypes) (1.16.0)\r\n",
      "\u001b[33mWARNING: Ignoring invalid distribution -umpy (/opt/anaconda3/lib/python3.9/site-packages)\u001b[0m\r\n"
     ]
    },
    {
     "name": "stdout",
     "output_type": "stream",
     "text": [
      "\u001b[33mWARNING: Ignoring invalid distribution -umpy (/opt/anaconda3/lib/python3.9/site-packages)\u001b[0m\r\n",
      "\u001b[33mWARNING: Ignoring invalid distribution -umpy (/opt/anaconda3/lib/python3.9/site-packages)\u001b[0m\r\n",
      "\u001b[33mWARNING: Ignoring invalid distribution -umpy (/opt/anaconda3/lib/python3.9/site-packages)\u001b[0m\r\n"
     ]
    }
   ],
   "source": [
    "get_ipython().system('pip install db-dtypes')"
   ]
  },
  {
   "cell_type": "code",
   "execution_count": 2,
   "id": "1b499692",
   "metadata": {
    "execution": {
     "iopub.execute_input": "2023-05-10T02:22:55.943615Z",
     "iopub.status.busy": "2023-05-10T02:22:55.943310Z",
     "iopub.status.idle": "2023-05-10T02:22:56.367371Z",
     "shell.execute_reply": "2023-05-10T02:22:56.367041Z"
    }
   },
   "outputs": [],
   "source": [
    "import os\n",
    "import pandas\n",
    "from google.cloud import bigquery\n",
    "from google.oauth2 import service_account\n",
    "from google.cloud.bigquery import magics"
   ]
  },
  {
   "cell_type": "code",
   "execution_count": 3,
   "id": "49a22c30",
   "metadata": {
    "execution": {
     "iopub.execute_input": "2023-05-10T02:22:56.369206Z",
     "iopub.status.busy": "2023-05-10T02:22:56.369032Z",
     "iopub.status.idle": "2023-05-10T02:22:56.377555Z",
     "shell.execute_reply": "2023-05-10T02:22:56.377222Z"
    }
   },
   "outputs": [],
   "source": [
    "BIGQUERY_PROJECT = 'ironhacks-data'\n",
    "bigquery_client = bigquery.Client(project=BIGQUERY_PROJECT)"
   ]
  },
  {
   "cell_type": "code",
   "execution_count": 4,
   "id": "f53eb598",
   "metadata": {
    "execution": {
     "iopub.execute_input": "2023-05-10T02:22:56.379373Z",
     "iopub.status.busy": "2023-05-10T02:22:56.379255Z",
     "iopub.status.idle": "2023-05-10T02:22:56.381265Z",
     "shell.execute_reply": "2023-05-10T02:22:56.380998Z"
    }
   },
   "outputs": [],
   "source": [
    "query = \"\"\"\n",
    "SELECT *\n",
    "FROM `ironhacks-data.ironhacks_competition.unemployment_data`\n",
    "\"\"\""
   ]
  },
  {
   "cell_type": "code",
   "execution_count": 5,
   "id": "3d681153",
   "metadata": {
    "execution": {
     "iopub.execute_input": "2023-05-10T02:22:56.382618Z",
     "iopub.status.busy": "2023-05-10T02:22:56.382521Z",
     "iopub.status.idle": "2023-05-10T02:22:58.064774Z",
     "shell.execute_reply": "2023-05-10T02:22:58.064207Z"
    }
   },
   "outputs": [
    {
     "data": {
      "text/html": [
       "<div>\n",
       "<style scoped>\n",
       "    .dataframe tbody tr th:only-of-type {\n",
       "        vertical-align: middle;\n",
       "    }\n",
       "\n",
       "    .dataframe tbody tr th {\n",
       "        vertical-align: top;\n",
       "    }\n",
       "\n",
       "    .dataframe thead th {\n",
       "        text-align: right;\n",
       "    }\n",
       "</style>\n",
       "<table border=\"1\" class=\"dataframe\">\n",
       "  <thead>\n",
       "    <tr style=\"text-align: right;\">\n",
       "      <th></th>\n",
       "      <th>uu_id</th>\n",
       "      <th>timeperiod</th>\n",
       "      <th>week_number</th>\n",
       "      <th>countyfips</th>\n",
       "      <th>tract</th>\n",
       "      <th>tract_name</th>\n",
       "      <th>total_claims</th>\n",
       "      <th>edu_8th_or_less</th>\n",
       "      <th>edu_grades_9_11</th>\n",
       "      <th>edu_hs_grad_equiv</th>\n",
       "      <th>...</th>\n",
       "      <th>gender_female</th>\n",
       "      <th>gender_male</th>\n",
       "      <th>gender_na</th>\n",
       "      <th>race_amerindian</th>\n",
       "      <th>race_asian</th>\n",
       "      <th>race_black</th>\n",
       "      <th>race_noanswer</th>\n",
       "      <th>race_hawaiiannative</th>\n",
       "      <th>race_other</th>\n",
       "      <th>race_white</th>\n",
       "    </tr>\n",
       "  </thead>\n",
       "  <tbody>\n",
       "    <tr>\n",
       "      <th>0</th>\n",
       "      <td>f013068de98db1470bd986137a0c6d23</td>\n",
       "      <td>20220416</td>\n",
       "      <td>16</td>\n",
       "      <td>18003</td>\n",
       "      <td>900</td>\n",
       "      <td>Census Tract 9, Allen County, Indiana</td>\n",
       "      <td>22</td>\n",
       "      <td>0</td>\n",
       "      <td>&lt;NA&gt;</td>\n",
       "      <td>14</td>\n",
       "      <td>...</td>\n",
       "      <td>&lt;NA&gt;</td>\n",
       "      <td>&lt;NA&gt;</td>\n",
       "      <td>0</td>\n",
       "      <td>0</td>\n",
       "      <td>0</td>\n",
       "      <td>11</td>\n",
       "      <td>0</td>\n",
       "      <td>0</td>\n",
       "      <td>&lt;NA&gt;</td>\n",
       "      <td>&lt;NA&gt;</td>\n",
       "    </tr>\n",
       "    <tr>\n",
       "      <th>1</th>\n",
       "      <td>21957d5517323845818d87623589e1ba</td>\n",
       "      <td>20220319</td>\n",
       "      <td>12</td>\n",
       "      <td>18089</td>\n",
       "      <td>10400</td>\n",
       "      <td>Census Tract 104, Lake County, Indiana</td>\n",
       "      <td>111</td>\n",
       "      <td>0</td>\n",
       "      <td>&lt;NA&gt;</td>\n",
       "      <td>108</td>\n",
       "      <td>...</td>\n",
       "      <td>76</td>\n",
       "      <td>35</td>\n",
       "      <td>0</td>\n",
       "      <td>0</td>\n",
       "      <td>0</td>\n",
       "      <td>&lt;NA&gt;</td>\n",
       "      <td>&lt;NA&gt;</td>\n",
       "      <td>0</td>\n",
       "      <td>0</td>\n",
       "      <td>0</td>\n",
       "    </tr>\n",
       "    <tr>\n",
       "      <th>2</th>\n",
       "      <td>6a5609f385912113b6f1014b958ed748</td>\n",
       "      <td>20220326</td>\n",
       "      <td>13</td>\n",
       "      <td>18089</td>\n",
       "      <td>11500</td>\n",
       "      <td>Census Tract 115, Lake County, Indiana</td>\n",
       "      <td>39</td>\n",
       "      <td>0</td>\n",
       "      <td>&lt;NA&gt;</td>\n",
       "      <td>&lt;NA&gt;</td>\n",
       "      <td>...</td>\n",
       "      <td>&lt;NA&gt;</td>\n",
       "      <td>&lt;NA&gt;</td>\n",
       "      <td>0</td>\n",
       "      <td>0</td>\n",
       "      <td>0</td>\n",
       "      <td>39</td>\n",
       "      <td>0</td>\n",
       "      <td>0</td>\n",
       "      <td>0</td>\n",
       "      <td>0</td>\n",
       "    </tr>\n",
       "    <tr>\n",
       "      <th>3</th>\n",
       "      <td>46b2882ec4c373527ec33f7bd4f1388d</td>\n",
       "      <td>20220716</td>\n",
       "      <td>29</td>\n",
       "      <td>18089</td>\n",
       "      <td>20700</td>\n",
       "      <td>Census Tract 207, Lake County, Indiana</td>\n",
       "      <td>14</td>\n",
       "      <td>0</td>\n",
       "      <td>&lt;NA&gt;</td>\n",
       "      <td>&lt;NA&gt;</td>\n",
       "      <td>...</td>\n",
       "      <td>&lt;NA&gt;</td>\n",
       "      <td>&lt;NA&gt;</td>\n",
       "      <td>0</td>\n",
       "      <td>0</td>\n",
       "      <td>&lt;NA&gt;</td>\n",
       "      <td>10</td>\n",
       "      <td>0</td>\n",
       "      <td>0</td>\n",
       "      <td>&lt;NA&gt;</td>\n",
       "      <td>&lt;NA&gt;</td>\n",
       "    </tr>\n",
       "    <tr>\n",
       "      <th>4</th>\n",
       "      <td>37495d17e82f7df326bfc2c4c090f7b7</td>\n",
       "      <td>20220409</td>\n",
       "      <td>15</td>\n",
       "      <td>18089</td>\n",
       "      <td>21900</td>\n",
       "      <td>Census Tract 219, Lake County, Indiana</td>\n",
       "      <td>155</td>\n",
       "      <td>0</td>\n",
       "      <td>&lt;NA&gt;</td>\n",
       "      <td>69</td>\n",
       "      <td>...</td>\n",
       "      <td>90</td>\n",
       "      <td>65</td>\n",
       "      <td>0</td>\n",
       "      <td>0</td>\n",
       "      <td>0</td>\n",
       "      <td>135</td>\n",
       "      <td>&lt;NA&gt;</td>\n",
       "      <td>&lt;NA&gt;</td>\n",
       "      <td>&lt;NA&gt;</td>\n",
       "      <td>&lt;NA&gt;</td>\n",
       "    </tr>\n",
       "  </tbody>\n",
       "</table>\n",
       "<p>5 rows × 25 columns</p>\n",
       "</div>"
      ],
      "text/plain": [
       "                              uu_id  timeperiod  week_number  countyfips  \\\n",
       "0  f013068de98db1470bd986137a0c6d23    20220416           16       18003   \n",
       "1  21957d5517323845818d87623589e1ba    20220319           12       18089   \n",
       "2  6a5609f385912113b6f1014b958ed748    20220326           13       18089   \n",
       "3  46b2882ec4c373527ec33f7bd4f1388d    20220716           29       18089   \n",
       "4  37495d17e82f7df326bfc2c4c090f7b7    20220409           15       18089   \n",
       "\n",
       "   tract                              tract_name  total_claims  \\\n",
       "0    900   Census Tract 9, Allen County, Indiana            22   \n",
       "1  10400  Census Tract 104, Lake County, Indiana           111   \n",
       "2  11500  Census Tract 115, Lake County, Indiana            39   \n",
       "3  20700  Census Tract 207, Lake County, Indiana            14   \n",
       "4  21900  Census Tract 219, Lake County, Indiana           155   \n",
       "\n",
       "   edu_8th_or_less  edu_grades_9_11  edu_hs_grad_equiv  ...  gender_female  \\\n",
       "0                0             <NA>                 14  ...           <NA>   \n",
       "1                0             <NA>                108  ...             76   \n",
       "2                0             <NA>               <NA>  ...           <NA>   \n",
       "3                0             <NA>               <NA>  ...           <NA>   \n",
       "4                0             <NA>                 69  ...             90   \n",
       "\n",
       "   gender_male gender_na race_amerindian race_asian  race_black  \\\n",
       "0         <NA>         0               0          0          11   \n",
       "1           35         0               0          0        <NA>   \n",
       "2         <NA>         0               0          0          39   \n",
       "3         <NA>         0               0       <NA>          10   \n",
       "4           65         0               0          0         135   \n",
       "\n",
       "   race_noanswer  race_hawaiiannative  race_other  race_white  \n",
       "0              0                    0        <NA>        <NA>  \n",
       "1           <NA>                    0           0           0  \n",
       "2              0                    0           0           0  \n",
       "3              0                    0        <NA>        <NA>  \n",
       "4           <NA>                 <NA>        <NA>        <NA>  \n",
       "\n",
       "[5 rows x 25 columns]"
      ]
     },
     "execution_count": 5,
     "metadata": {},
     "output_type": "execute_result"
    }
   ],
   "source": [
    "# QUERY THE DATA ONCE\n",
    "query_job = bigquery_client.query(query)\n",
    "data = query_job.to_dataframe()\n",
    "data.head()"
   ]
  },
  {
   "cell_type": "code",
   "execution_count": 6,
   "id": "84304983",
   "metadata": {
    "execution": {
     "iopub.execute_input": "2023-05-10T02:22:58.067238Z",
     "iopub.status.busy": "2023-05-10T02:22:58.067041Z",
     "iopub.status.idle": "2023-05-10T02:22:58.083592Z",
     "shell.execute_reply": "2023-05-10T02:22:58.083233Z"
    }
   },
   "outputs": [
    {
     "name": "stdout",
     "output_type": "stream",
     "text": [
      "<class 'pandas.core.frame.DataFrame'>\n",
      "RangeIndex: 16833 entries, 0 to 16832\n",
      "Data columns (total 25 columns):\n",
      " #   Column                  Non-Null Count  Dtype \n",
      "---  ------                  --------------  ----- \n",
      " 0   uu_id                   16833 non-null  object\n",
      " 1   timeperiod              16833 non-null  Int64 \n",
      " 2   week_number             16833 non-null  Int64 \n",
      " 3   countyfips              16833 non-null  Int64 \n",
      " 4   tract                   16833 non-null  Int64 \n",
      " 5   tract_name              16833 non-null  object\n",
      " 6   total_claims            16833 non-null  Int64 \n",
      " 7   edu_8th_or_less         13748 non-null  Int64 \n",
      " 8   edu_grades_9_11         5942 non-null   Int64 \n",
      " 9   edu_hs_grad_equiv       6036 non-null   Int64 \n",
      " 10  edu_post_hs             3246 non-null   Int64 \n",
      " 11  edu_unknown             12031 non-null  Int64 \n",
      " 12  top_category_employer1  16833 non-null  object\n",
      " 13  top_category_employer2  16833 non-null  object\n",
      " 14  top_category_employer3  16833 non-null  object\n",
      " 15  gender_female           3835 non-null   Int64 \n",
      " 16  gender_male             3931 non-null   Int64 \n",
      " 17  gender_na               15868 non-null  Int64 \n",
      " 18  race_amerindian         15285 non-null  Int64 \n",
      " 19  race_asian              14939 non-null  Int64 \n",
      " 20  race_black              7124 non-null   Int64 \n",
      " 21  race_noanswer           10089 non-null  Int64 \n",
      " 22  race_hawaiiannative     16426 non-null  Int64 \n",
      " 23  race_other              8075 non-null   Int64 \n",
      " 24  race_white              6392 non-null   Int64 \n",
      "dtypes: Int64(20), object(5)\n",
      "memory usage: 3.5+ MB\n"
     ]
    }
   ],
   "source": [
    "data.info()"
   ]
  },
  {
   "cell_type": "code",
   "execution_count": 7,
   "id": "1a4b4261",
   "metadata": {
    "execution": {
     "iopub.execute_input": "2023-05-10T02:22:58.085347Z",
     "iopub.status.busy": "2023-05-10T02:22:58.085206Z",
     "iopub.status.idle": "2023-05-10T02:22:58.089310Z",
     "shell.execute_reply": "2023-05-10T02:22:58.088819Z"
    }
   },
   "outputs": [
    {
     "data": {
      "text/plain": [
       "56       3043\n",
       "62       2471\n",
       "23       1965\n",
       "31-33    1962\n",
       "72       1662\n",
       "44-45    1608\n",
       "48-49     985\n",
       "81        545\n",
       "54        518\n",
       "52        474\n",
       "42        431\n",
       "61        334\n",
       "55        281\n",
       "92        157\n",
       "71        132\n",
       "53        115\n",
       "N/A        49\n",
       "51         46\n",
       "99         21\n",
       "21         17\n",
       "11         10\n",
       "22          7\n",
       "Name: top_category_employer2, dtype: int64"
      ]
     },
     "execution_count": 7,
     "metadata": {},
     "output_type": "execute_result"
    }
   ],
   "source": [
    "data[\"top_category_employer2\"].value_counts()"
   ]
  },
  {
   "cell_type": "code",
   "execution_count": 8,
   "id": "72bd1568",
   "metadata": {
    "execution": {
     "iopub.execute_input": "2023-05-10T02:22:58.091257Z",
     "iopub.status.busy": "2023-05-10T02:22:58.091137Z",
     "iopub.status.idle": "2023-05-10T02:22:58.098143Z",
     "shell.execute_reply": "2023-05-10T02:22:58.097872Z"
    }
   },
   "outputs": [
    {
     "data": {
      "text/html": [
       "<div>\n",
       "<style scoped>\n",
       "    .dataframe tbody tr th:only-of-type {\n",
       "        vertical-align: middle;\n",
       "    }\n",
       "\n",
       "    .dataframe tbody tr th {\n",
       "        vertical-align: top;\n",
       "    }\n",
       "\n",
       "    .dataframe thead th {\n",
       "        text-align: right;\n",
       "    }\n",
       "</style>\n",
       "<table border=\"1\" class=\"dataframe\">\n",
       "  <thead>\n",
       "    <tr style=\"text-align: right;\">\n",
       "      <th></th>\n",
       "      <th>uu_id</th>\n",
       "      <th>timeperiod</th>\n",
       "      <th>week_number</th>\n",
       "      <th>countyfips</th>\n",
       "      <th>tract</th>\n",
       "      <th>tract_name</th>\n",
       "      <th>total_claims</th>\n",
       "      <th>edu_8th_or_less</th>\n",
       "      <th>edu_grades_9_11</th>\n",
       "      <th>edu_hs_grad_equiv</th>\n",
       "      <th>...</th>\n",
       "      <th>gender_female</th>\n",
       "      <th>gender_male</th>\n",
       "      <th>gender_na</th>\n",
       "      <th>race_amerindian</th>\n",
       "      <th>race_asian</th>\n",
       "      <th>race_black</th>\n",
       "      <th>race_noanswer</th>\n",
       "      <th>race_hawaiiannative</th>\n",
       "      <th>race_other</th>\n",
       "      <th>race_white</th>\n",
       "    </tr>\n",
       "  </thead>\n",
       "  <tbody>\n",
       "  </tbody>\n",
       "</table>\n",
       "<p>0 rows × 25 columns</p>\n",
       "</div>"
      ],
      "text/plain": [
       "Empty DataFrame\n",
       "Columns: [uu_id, timeperiod, week_number, countyfips, tract, tract_name, total_claims, edu_8th_or_less, edu_grades_9_11, edu_hs_grad_equiv, edu_post_hs, edu_unknown, top_category_employer1, top_category_employer2, top_category_employer3, gender_female, gender_male, gender_na, race_amerindian, race_asian, race_black, race_noanswer, race_hawaiiannative, race_other, race_white]\n",
       "Index: []\n",
       "\n",
       "[0 rows x 25 columns]"
      ]
     },
     "execution_count": 8,
     "metadata": {},
     "output_type": "execute_result"
    }
   ],
   "source": [
    "data.loc[data[\"uu_id\"] == \"bd5b040eae3010ce09da8b176ed5aee0\"]"
   ]
  },
  {
   "cell_type": "code",
   "execution_count": 9,
   "id": "f080e293",
   "metadata": {
    "execution": {
     "iopub.execute_input": "2023-05-10T02:22:58.099645Z",
     "iopub.status.busy": "2023-05-10T02:22:58.099552Z",
     "iopub.status.idle": "2023-05-10T02:22:58.109720Z",
     "shell.execute_reply": "2023-05-10T02:22:58.109441Z"
    }
   },
   "outputs": [
    {
     "name": "stdout",
     "output_type": "stream",
     "text": [
      "<class 'pandas.core.frame.DataFrame'>\n",
      "RangeIndex: 16833 entries, 0 to 16832\n",
      "Data columns (total 25 columns):\n",
      " #   Column                  Non-Null Count  Dtype \n",
      "---  ------                  --------------  ----- \n",
      " 0   uu_id                   16833 non-null  object\n",
      " 1   timeperiod              16833 non-null  Int64 \n",
      " 2   week_number             16833 non-null  Int64 \n",
      " 3   countyfips              16833 non-null  Int64 \n",
      " 4   tract                   16833 non-null  Int64 \n",
      " 5   tract_name              16833 non-null  object\n",
      " 6   total_claims            16833 non-null  Int64 \n",
      " 7   edu_8th_or_less         13748 non-null  Int64 \n",
      " 8   edu_grades_9_11         5942 non-null   Int64 \n",
      " 9   edu_hs_grad_equiv       6036 non-null   Int64 \n",
      " 10  edu_post_hs             3246 non-null   Int64 \n",
      " 11  edu_unknown             12031 non-null  Int64 \n",
      " 12  top_category_employer1  16833 non-null  object\n",
      " 13  top_category_employer2  16833 non-null  object\n",
      " 14  top_category_employer3  16833 non-null  object\n",
      " 15  gender_female           3835 non-null   Int64 \n",
      " 16  gender_male             3931 non-null   Int64 \n",
      " 17  gender_na               15868 non-null  Int64 \n",
      " 18  race_amerindian         15285 non-null  Int64 \n",
      " 19  race_asian              14939 non-null  Int64 \n",
      " 20  race_black              7124 non-null   Int64 \n",
      " 21  race_noanswer           10089 non-null  Int64 \n",
      " 22  race_hawaiiannative     16426 non-null  Int64 \n",
      " 23  race_other              8075 non-null   Int64 \n",
      " 24  race_white              6392 non-null   Int64 \n",
      "dtypes: Int64(20), object(5)\n",
      "memory usage: 3.5+ MB\n"
     ]
    }
   ],
   "source": [
    "data.info()"
   ]
  },
  {
   "cell_type": "code",
   "execution_count": 10,
   "id": "4fdffa7e",
   "metadata": {
    "execution": {
     "iopub.execute_input": "2023-05-10T02:22:58.111133Z",
     "iopub.status.busy": "2023-05-10T02:22:58.111044Z",
     "iopub.status.idle": "2023-05-10T02:22:58.113970Z",
     "shell.execute_reply": "2023-05-10T02:22:58.113731Z"
    }
   },
   "outputs": [
    {
     "data": {
      "text/plain": [
       "56       3043\n",
       "62       2471\n",
       "23       1965\n",
       "31-33    1962\n",
       "72       1662\n",
       "44-45    1608\n",
       "48-49     985\n",
       "81        545\n",
       "54        518\n",
       "52        474\n",
       "42        431\n",
       "61        334\n",
       "55        281\n",
       "92        157\n",
       "71        132\n",
       "53        115\n",
       "N/A        49\n",
       "51         46\n",
       "99         21\n",
       "21         17\n",
       "11         10\n",
       "22          7\n",
       "Name: top_category_employer2, dtype: int64"
      ]
     },
     "execution_count": 10,
     "metadata": {},
     "output_type": "execute_result"
    }
   ],
   "source": [
    "data[\"top_category_employer2\"].value_counts()"
   ]
  },
  {
   "cell_type": "code",
   "execution_count": 11,
   "id": "d06b39f0",
   "metadata": {
    "execution": {
     "iopub.execute_input": "2023-05-10T02:22:58.115336Z",
     "iopub.status.busy": "2023-05-10T02:22:58.115259Z",
     "iopub.status.idle": "2023-05-10T02:22:58.120685Z",
     "shell.execute_reply": "2023-05-10T02:22:58.120451Z"
    }
   },
   "outputs": [
    {
     "data": {
      "text/html": [
       "<div>\n",
       "<style scoped>\n",
       "    .dataframe tbody tr th:only-of-type {\n",
       "        vertical-align: middle;\n",
       "    }\n",
       "\n",
       "    .dataframe tbody tr th {\n",
       "        vertical-align: top;\n",
       "    }\n",
       "\n",
       "    .dataframe thead th {\n",
       "        text-align: right;\n",
       "    }\n",
       "</style>\n",
       "<table border=\"1\" class=\"dataframe\">\n",
       "  <thead>\n",
       "    <tr style=\"text-align: right;\">\n",
       "      <th></th>\n",
       "      <th>uu_id</th>\n",
       "      <th>timeperiod</th>\n",
       "      <th>week_number</th>\n",
       "      <th>countyfips</th>\n",
       "      <th>tract</th>\n",
       "      <th>tract_name</th>\n",
       "      <th>total_claims</th>\n",
       "      <th>edu_8th_or_less</th>\n",
       "      <th>edu_grades_9_11</th>\n",
       "      <th>edu_hs_grad_equiv</th>\n",
       "      <th>...</th>\n",
       "      <th>gender_female</th>\n",
       "      <th>gender_male</th>\n",
       "      <th>gender_na</th>\n",
       "      <th>race_amerindian</th>\n",
       "      <th>race_asian</th>\n",
       "      <th>race_black</th>\n",
       "      <th>race_noanswer</th>\n",
       "      <th>race_hawaiiannative</th>\n",
       "      <th>race_other</th>\n",
       "      <th>race_white</th>\n",
       "    </tr>\n",
       "  </thead>\n",
       "  <tbody>\n",
       "  </tbody>\n",
       "</table>\n",
       "<p>0 rows × 25 columns</p>\n",
       "</div>"
      ],
      "text/plain": [
       "Empty DataFrame\n",
       "Columns: [uu_id, timeperiod, week_number, countyfips, tract, tract_name, total_claims, edu_8th_or_less, edu_grades_9_11, edu_hs_grad_equiv, edu_post_hs, edu_unknown, top_category_employer1, top_category_employer2, top_category_employer3, gender_female, gender_male, gender_na, race_amerindian, race_asian, race_black, race_noanswer, race_hawaiiannative, race_other, race_white]\n",
       "Index: []\n",
       "\n",
       "[0 rows x 25 columns]"
      ]
     },
     "execution_count": 11,
     "metadata": {},
     "output_type": "execute_result"
    }
   ],
   "source": [
    "data.loc[data[\"uu_id\"] == \"bd5b040eae3010ce09da8b176ed5aee0\"]"
   ]
  },
  {
   "cell_type": "code",
   "execution_count": 12,
   "id": "8bc5a0d2",
   "metadata": {
    "execution": {
     "iopub.execute_input": "2023-05-10T02:22:58.122098Z",
     "iopub.status.busy": "2023-05-10T02:22:58.122015Z",
     "iopub.status.idle": "2023-05-10T02:22:58.123534Z",
     "shell.execute_reply": "2023-05-10T02:22:58.123298Z"
    }
   },
   "outputs": [],
   "source": [
    "query = \"\"\"\n",
    "SELECT *\n",
    "FROM `ironhacks-data.ironhacks_competition.wage_data`\n",
    "\"\"\""
   ]
  },
  {
   "cell_type": "code",
   "execution_count": 13,
   "id": "bf5b3024",
   "metadata": {
    "execution": {
     "iopub.execute_input": "2023-05-10T02:22:58.124939Z",
     "iopub.status.busy": "2023-05-10T02:22:58.124842Z",
     "iopub.status.idle": "2023-05-10T02:22:59.442715Z",
     "shell.execute_reply": "2023-05-10T02:22:59.441980Z"
    }
   },
   "outputs": [
    {
     "data": {
      "text/html": [
       "<div>\n",
       "<style scoped>\n",
       "    .dataframe tbody tr th:only-of-type {\n",
       "        vertical-align: middle;\n",
       "    }\n",
       "\n",
       "    .dataframe tbody tr th {\n",
       "        vertical-align: top;\n",
       "    }\n",
       "\n",
       "    .dataframe thead th {\n",
       "        text-align: right;\n",
       "    }\n",
       "</style>\n",
       "<table border=\"1\" class=\"dataframe\">\n",
       "  <thead>\n",
       "    <tr style=\"text-align: right;\">\n",
       "      <th></th>\n",
       "      <th>uu_id</th>\n",
       "      <th>countyfips</th>\n",
       "      <th>tract</th>\n",
       "      <th>tract_name</th>\n",
       "      <th>average_wage</th>\n",
       "    </tr>\n",
       "  </thead>\n",
       "  <tbody>\n",
       "    <tr>\n",
       "      <th>0</th>\n",
       "      <td>585f8731c2255d6b3f817a31180848b9</td>\n",
       "      <td>18177</td>\n",
       "      <td>200</td>\n",
       "      <td>Census Tract 2, Wayne County, Indiana</td>\n",
       "      <td>6612.000000</td>\n",
       "    </tr>\n",
       "    <tr>\n",
       "      <th>1</th>\n",
       "      <td>8c9d2aa90948679972a9382aadcc6001</td>\n",
       "      <td>18177</td>\n",
       "      <td>900</td>\n",
       "      <td>Census Tract 9, Wayne County, Indiana</td>\n",
       "      <td>9883.250000</td>\n",
       "    </tr>\n",
       "    <tr>\n",
       "      <th>2</th>\n",
       "      <td>0f3d45341a5b113b813ffb7be7f58bab</td>\n",
       "      <td>18183</td>\n",
       "      <td>50300</td>\n",
       "      <td>Census Tract 503, Whitley County, Indiana</td>\n",
       "      <td>13992.250000</td>\n",
       "    </tr>\n",
       "    <tr>\n",
       "      <th>3</th>\n",
       "      <td>fb55464f8e34af6d750d06968bf719b8</td>\n",
       "      <td>18183</td>\n",
       "      <td>50400</td>\n",
       "      <td>Census Tract 504, Whitley County, Indiana</td>\n",
       "      <td>13613.500000</td>\n",
       "    </tr>\n",
       "    <tr>\n",
       "      <th>4</th>\n",
       "      <td>983badfd7b568728e39a2344a9006078</td>\n",
       "      <td>18001</td>\n",
       "      <td>30200</td>\n",
       "      <td>Census Tract 302, Adams County, Indiana</td>\n",
       "      <td>11816.666667</td>\n",
       "    </tr>\n",
       "  </tbody>\n",
       "</table>\n",
       "</div>"
      ],
      "text/plain": [
       "                              uu_id  countyfips  tract  \\\n",
       "0  585f8731c2255d6b3f817a31180848b9       18177    200   \n",
       "1  8c9d2aa90948679972a9382aadcc6001       18177    900   \n",
       "2  0f3d45341a5b113b813ffb7be7f58bab       18183  50300   \n",
       "3  fb55464f8e34af6d750d06968bf719b8       18183  50400   \n",
       "4  983badfd7b568728e39a2344a9006078       18001  30200   \n",
       "\n",
       "                                  tract_name  average_wage  \n",
       "0      Census Tract 2, Wayne County, Indiana   6612.000000  \n",
       "1      Census Tract 9, Wayne County, Indiana   9883.250000  \n",
       "2  Census Tract 503, Whitley County, Indiana  13992.250000  \n",
       "3  Census Tract 504, Whitley County, Indiana  13613.500000  \n",
       "4    Census Tract 302, Adams County, Indiana  11816.666667  "
      ]
     },
     "execution_count": 13,
     "metadata": {},
     "output_type": "execute_result"
    }
   ],
   "source": [
    "# QUERY THE DATA ONCE\n",
    "query_job = bigquery_client.query(query)\n",
    "wage_data = query_job.to_dataframe()\n",
    "wage_data.head()"
   ]
  },
  {
   "cell_type": "code",
   "execution_count": 14,
   "id": "8ae26f35",
   "metadata": {
    "execution": {
     "iopub.execute_input": "2023-05-10T02:22:59.446353Z",
     "iopub.status.busy": "2023-05-10T02:22:59.445994Z",
     "iopub.status.idle": "2023-05-10T02:22:59.449540Z",
     "shell.execute_reply": "2023-05-10T02:22:59.448841Z"
    }
   },
   "outputs": [],
   "source": [
    "query = \"\"\"\n",
    "SELECT *\n",
    "FROM `ironhacks-data.ironhacks_competition.prediction_list`\n",
    "\"\"\""
   ]
  },
  {
   "cell_type": "code",
   "execution_count": 15,
   "id": "8f05d7c6",
   "metadata": {
    "execution": {
     "iopub.execute_input": "2023-05-10T02:22:59.453876Z",
     "iopub.status.busy": "2023-05-10T02:22:59.453485Z",
     "iopub.status.idle": "2023-05-10T02:23:01.095746Z",
     "shell.execute_reply": "2023-05-10T02:23:01.094645Z"
    }
   },
   "outputs": [
    {
     "data": {
      "text/html": [
       "<div>\n",
       "<style scoped>\n",
       "    .dataframe tbody tr th:only-of-type {\n",
       "        vertical-align: middle;\n",
       "    }\n",
       "\n",
       "    .dataframe tbody tr th {\n",
       "        vertical-align: top;\n",
       "    }\n",
       "\n",
       "    .dataframe thead th {\n",
       "        text-align: right;\n",
       "    }\n",
       "</style>\n",
       "<table border=\"1\" class=\"dataframe\">\n",
       "  <thead>\n",
       "    <tr style=\"text-align: right;\">\n",
       "      <th></th>\n",
       "      <th>uu_id</th>\n",
       "      <th>week_number</th>\n",
       "    </tr>\n",
       "  </thead>\n",
       "  <tbody>\n",
       "    <tr>\n",
       "      <th>0</th>\n",
       "      <td>5bf51fc2e162d6faf9e3cf79e4198378</td>\n",
       "      <td>44</td>\n",
       "    </tr>\n",
       "    <tr>\n",
       "      <th>1</th>\n",
       "      <td>420b44cc7e3f55d738df565421e59941</td>\n",
       "      <td>44</td>\n",
       "    </tr>\n",
       "    <tr>\n",
       "      <th>2</th>\n",
       "      <td>e39c66ecceec76ee8f9f811fa4a2d246</td>\n",
       "      <td>44</td>\n",
       "    </tr>\n",
       "    <tr>\n",
       "      <th>3</th>\n",
       "      <td>a90462cd11ae4e43144239bf7c4828a4</td>\n",
       "      <td>44</td>\n",
       "    </tr>\n",
       "    <tr>\n",
       "      <th>4</th>\n",
       "      <td>8b20a6749088c7ff1237983076ebfeaa</td>\n",
       "      <td>44</td>\n",
       "    </tr>\n",
       "  </tbody>\n",
       "</table>\n",
       "</div>"
      ],
      "text/plain": [
       "                              uu_id  week_number\n",
       "0  5bf51fc2e162d6faf9e3cf79e4198378           44\n",
       "1  420b44cc7e3f55d738df565421e59941           44\n",
       "2  e39c66ecceec76ee8f9f811fa4a2d246           44\n",
       "3  a90462cd11ae4e43144239bf7c4828a4           44\n",
       "4  8b20a6749088c7ff1237983076ebfeaa           44"
      ]
     },
     "execution_count": 15,
     "metadata": {},
     "output_type": "execute_result"
    }
   ],
   "source": [
    "# QUERY THE DATA ONCE\n",
    "query_job = bigquery_client.query(query)\n",
    "predict = query_job.to_dataframe()\n",
    "predict.head()"
   ]
  },
  {
   "cell_type": "code",
   "execution_count": 16,
   "id": "e9ab4279",
   "metadata": {
    "execution": {
     "iopub.execute_input": "2023-05-10T02:23:01.100669Z",
     "iopub.status.busy": "2023-05-10T02:23:01.100264Z",
     "iopub.status.idle": "2023-05-10T02:23:01.110596Z",
     "shell.execute_reply": "2023-05-10T02:23:01.109740Z"
    }
   },
   "outputs": [
    {
     "data": {
      "text/plain": [
       "0     13711\n",
       "18        5\n",
       "16        5\n",
       "19        4\n",
       "10        3\n",
       "12        3\n",
       "21        3\n",
       "24        2\n",
       "14        2\n",
       "33        2\n",
       "11        2\n",
       "17        1\n",
       "28        1\n",
       "41        1\n",
       "13        1\n",
       "26        1\n",
       "37        1\n",
       "Name: edu_8th_or_less, dtype: Int64"
      ]
     },
     "execution_count": 16,
     "metadata": {},
     "output_type": "execute_result"
    }
   ],
   "source": [
    "data[\"edu_8th_or_less\"].value_counts()"
   ]
  },
  {
   "cell_type": "code",
   "execution_count": 17,
   "id": "2e8a17b2",
   "metadata": {
    "execution": {
     "iopub.execute_input": "2023-05-10T02:23:01.114232Z",
     "iopub.status.busy": "2023-05-10T02:23:01.113892Z",
     "iopub.status.idle": "2023-05-10T02:23:01.117106Z",
     "shell.execute_reply": "2023-05-10T02:23:01.116580Z"
    }
   },
   "outputs": [],
   "source": [
    "query = \"\"\"\n",
    "SELECT *\n",
    "FROM `ironhacks-data.ironhacks_competition.wage_data`\n",
    "\"\"\""
   ]
  },
  {
   "cell_type": "code",
   "execution_count": 18,
   "id": "f9f42ab9",
   "metadata": {
    "execution": {
     "iopub.execute_input": "2023-05-10T02:23:01.119803Z",
     "iopub.status.busy": "2023-05-10T02:23:01.119597Z",
     "iopub.status.idle": "2023-05-10T02:23:02.388893Z",
     "shell.execute_reply": "2023-05-10T02:23:02.387461Z"
    }
   },
   "outputs": [
    {
     "data": {
      "text/html": [
       "<div>\n",
       "<style scoped>\n",
       "    .dataframe tbody tr th:only-of-type {\n",
       "        vertical-align: middle;\n",
       "    }\n",
       "\n",
       "    .dataframe tbody tr th {\n",
       "        vertical-align: top;\n",
       "    }\n",
       "\n",
       "    .dataframe thead th {\n",
       "        text-align: right;\n",
       "    }\n",
       "</style>\n",
       "<table border=\"1\" class=\"dataframe\">\n",
       "  <thead>\n",
       "    <tr style=\"text-align: right;\">\n",
       "      <th></th>\n",
       "      <th>uu_id</th>\n",
       "      <th>countyfips</th>\n",
       "      <th>tract</th>\n",
       "      <th>tract_name</th>\n",
       "      <th>average_wage</th>\n",
       "    </tr>\n",
       "  </thead>\n",
       "  <tbody>\n",
       "    <tr>\n",
       "      <th>0</th>\n",
       "      <td>585f8731c2255d6b3f817a31180848b9</td>\n",
       "      <td>18177</td>\n",
       "      <td>200</td>\n",
       "      <td>Census Tract 2, Wayne County, Indiana</td>\n",
       "      <td>6612.000000</td>\n",
       "    </tr>\n",
       "    <tr>\n",
       "      <th>1</th>\n",
       "      <td>8c9d2aa90948679972a9382aadcc6001</td>\n",
       "      <td>18177</td>\n",
       "      <td>900</td>\n",
       "      <td>Census Tract 9, Wayne County, Indiana</td>\n",
       "      <td>9883.250000</td>\n",
       "    </tr>\n",
       "    <tr>\n",
       "      <th>2</th>\n",
       "      <td>0f3d45341a5b113b813ffb7be7f58bab</td>\n",
       "      <td>18183</td>\n",
       "      <td>50300</td>\n",
       "      <td>Census Tract 503, Whitley County, Indiana</td>\n",
       "      <td>13992.250000</td>\n",
       "    </tr>\n",
       "    <tr>\n",
       "      <th>3</th>\n",
       "      <td>fb55464f8e34af6d750d06968bf719b8</td>\n",
       "      <td>18183</td>\n",
       "      <td>50400</td>\n",
       "      <td>Census Tract 504, Whitley County, Indiana</td>\n",
       "      <td>13613.500000</td>\n",
       "    </tr>\n",
       "    <tr>\n",
       "      <th>4</th>\n",
       "      <td>983badfd7b568728e39a2344a9006078</td>\n",
       "      <td>18001</td>\n",
       "      <td>30200</td>\n",
       "      <td>Census Tract 302, Adams County, Indiana</td>\n",
       "      <td>11816.666667</td>\n",
       "    </tr>\n",
       "  </tbody>\n",
       "</table>\n",
       "</div>"
      ],
      "text/plain": [
       "                              uu_id  countyfips  tract  \\\n",
       "0  585f8731c2255d6b3f817a31180848b9       18177    200   \n",
       "1  8c9d2aa90948679972a9382aadcc6001       18177    900   \n",
       "2  0f3d45341a5b113b813ffb7be7f58bab       18183  50300   \n",
       "3  fb55464f8e34af6d750d06968bf719b8       18183  50400   \n",
       "4  983badfd7b568728e39a2344a9006078       18001  30200   \n",
       "\n",
       "                                  tract_name  average_wage  \n",
       "0      Census Tract 2, Wayne County, Indiana   6612.000000  \n",
       "1      Census Tract 9, Wayne County, Indiana   9883.250000  \n",
       "2  Census Tract 503, Whitley County, Indiana  13992.250000  \n",
       "3  Census Tract 504, Whitley County, Indiana  13613.500000  \n",
       "4    Census Tract 302, Adams County, Indiana  11816.666667  "
      ]
     },
     "execution_count": 18,
     "metadata": {},
     "output_type": "execute_result"
    }
   ],
   "source": [
    "# QUERY THE DATA ONCE\n",
    "query_job = bigquery_client.query(query)\n",
    "wage_data = query_job.to_dataframe()\n",
    "wage_data.head()"
   ]
  },
  {
   "cell_type": "code",
   "execution_count": 19,
   "id": "cd7ab800",
   "metadata": {
    "execution": {
     "iopub.execute_input": "2023-05-10T02:23:02.394887Z",
     "iopub.status.busy": "2023-05-10T02:23:02.394420Z",
     "iopub.status.idle": "2023-05-10T02:23:02.399022Z",
     "shell.execute_reply": "2023-05-10T02:23:02.397969Z"
    }
   },
   "outputs": [],
   "source": [
    "query = \"\"\"\n",
    "SELECT *\n",
    "FROM `ironhacks-data.ironhacks_competition.prediction_list`\n",
    "\"\"\""
   ]
  },
  {
   "cell_type": "code",
   "execution_count": 20,
   "id": "5bee9bdc",
   "metadata": {
    "execution": {
     "iopub.execute_input": "2023-05-10T02:23:02.402677Z",
     "iopub.status.busy": "2023-05-10T02:23:02.402333Z",
     "iopub.status.idle": "2023-05-10T02:23:03.845288Z",
     "shell.execute_reply": "2023-05-10T02:23:03.844589Z"
    }
   },
   "outputs": [
    {
     "data": {
      "text/html": [
       "<div>\n",
       "<style scoped>\n",
       "    .dataframe tbody tr th:only-of-type {\n",
       "        vertical-align: middle;\n",
       "    }\n",
       "\n",
       "    .dataframe tbody tr th {\n",
       "        vertical-align: top;\n",
       "    }\n",
       "\n",
       "    .dataframe thead th {\n",
       "        text-align: right;\n",
       "    }\n",
       "</style>\n",
       "<table border=\"1\" class=\"dataframe\">\n",
       "  <thead>\n",
       "    <tr style=\"text-align: right;\">\n",
       "      <th></th>\n",
       "      <th>uu_id</th>\n",
       "      <th>week_number</th>\n",
       "    </tr>\n",
       "  </thead>\n",
       "  <tbody>\n",
       "    <tr>\n",
       "      <th>0</th>\n",
       "      <td>5bf51fc2e162d6faf9e3cf79e4198378</td>\n",
       "      <td>44</td>\n",
       "    </tr>\n",
       "    <tr>\n",
       "      <th>1</th>\n",
       "      <td>420b44cc7e3f55d738df565421e59941</td>\n",
       "      <td>44</td>\n",
       "    </tr>\n",
       "    <tr>\n",
       "      <th>2</th>\n",
       "      <td>e39c66ecceec76ee8f9f811fa4a2d246</td>\n",
       "      <td>44</td>\n",
       "    </tr>\n",
       "    <tr>\n",
       "      <th>3</th>\n",
       "      <td>a90462cd11ae4e43144239bf7c4828a4</td>\n",
       "      <td>44</td>\n",
       "    </tr>\n",
       "    <tr>\n",
       "      <th>4</th>\n",
       "      <td>8b20a6749088c7ff1237983076ebfeaa</td>\n",
       "      <td>44</td>\n",
       "    </tr>\n",
       "  </tbody>\n",
       "</table>\n",
       "</div>"
      ],
      "text/plain": [
       "                              uu_id  week_number\n",
       "0  5bf51fc2e162d6faf9e3cf79e4198378           44\n",
       "1  420b44cc7e3f55d738df565421e59941           44\n",
       "2  e39c66ecceec76ee8f9f811fa4a2d246           44\n",
       "3  a90462cd11ae4e43144239bf7c4828a4           44\n",
       "4  8b20a6749088c7ff1237983076ebfeaa           44"
      ]
     },
     "execution_count": 20,
     "metadata": {},
     "output_type": "execute_result"
    }
   ],
   "source": [
    "# QUERY THE DATA ONCE\n",
    "query_job = bigquery_client.query(query)\n",
    "predict = query_job.to_dataframe()\n",
    "predict.head()"
   ]
  },
  {
   "cell_type": "code",
   "execution_count": 21,
   "id": "31231277",
   "metadata": {
    "execution": {
     "iopub.execute_input": "2023-05-10T02:23:03.849028Z",
     "iopub.status.busy": "2023-05-10T02:23:03.848666Z",
     "iopub.status.idle": "2023-05-10T02:23:03.854425Z",
     "shell.execute_reply": "2023-05-10T02:23:03.853334Z"
    }
   },
   "outputs": [
    {
     "ename": "SyntaxError",
     "evalue": "invalid syntax (610320058.py, line 1)",
     "output_type": "error",
     "traceback": [
      "\u001b[0;36m  Cell \u001b[0;32mIn [21], line 1\u001b[0;36m\u001b[0m\n\u001b[0;31m    data[\"top_category_employer2\"].map(lambda x: '32' if x =='31-33')\u001b[0m\n\u001b[0m                                                                    ^\u001b[0m\n\u001b[0;31mSyntaxError\u001b[0m\u001b[0;31m:\u001b[0m invalid syntax\n"
     ]
    }
   ],
   "source": [
    "data[\"top_category_employer2\"].map(lambda x: '32' if x =='31-33')"
   ]
  },
  {
   "cell_type": "code",
   "execution_count": 22,
   "id": "50892b2d",
   "metadata": {
    "execution": {
     "iopub.execute_input": "2023-05-10T02:23:03.860302Z",
     "iopub.status.busy": "2023-05-10T02:23:03.859666Z",
     "iopub.status.idle": "2023-05-10T02:23:03.869910Z",
     "shell.execute_reply": "2023-05-10T02:23:03.869282Z"
    }
   },
   "outputs": [
    {
     "data": {
      "text/plain": [
       "0           51\n",
       "1           51\n",
       "2          N/A\n",
       "3           51\n",
       "4           51\n",
       "         ...  \n",
       "16828    48-49\n",
       "16829    48-49\n",
       "16830    48-49\n",
       "16831    48-49\n",
       "16832    48-49\n",
       "Name: top_category_employer2, Length: 16833, dtype: object"
      ]
     },
     "execution_count": 22,
     "metadata": {},
     "output_type": "execute_result"
    }
   ],
   "source": [
    "data[\"top_category_employer2\"].map(lambda x: '32' if x =='31-33' else x)"
   ]
  },
  {
   "cell_type": "code",
   "execution_count": 23,
   "id": "0f7da160",
   "metadata": {
    "execution": {
     "iopub.execute_input": "2023-05-10T02:23:03.873557Z",
     "iopub.status.busy": "2023-05-10T02:23:03.873248Z",
     "iopub.status.idle": "2023-05-10T02:23:03.881061Z",
     "shell.execute_reply": "2023-05-10T02:23:03.880511Z"
    }
   },
   "outputs": [],
   "source": [
    "data[\"top_category_employer2\"] = data[\"top_category_employer2\"].map(lambda x: '32' if x =='31-33' else x)"
   ]
  },
  {
   "cell_type": "code",
   "execution_count": 24,
   "id": "181c3932",
   "metadata": {
    "execution": {
     "iopub.execute_input": "2023-05-10T02:23:03.884437Z",
     "iopub.status.busy": "2023-05-10T02:23:03.883967Z",
     "iopub.status.idle": "2023-05-10T02:23:03.889908Z",
     "shell.execute_reply": "2023-05-10T02:23:03.889207Z"
    }
   },
   "outputs": [
    {
     "data": {
      "text/plain": [
       "56       3043\n",
       "62       2471\n",
       "23       1965\n",
       "32       1962\n",
       "72       1662\n",
       "44-45    1608\n",
       "48-49     985\n",
       "81        545\n",
       "54        518\n",
       "52        474\n",
       "42        431\n",
       "61        334\n",
       "55        281\n",
       "92        157\n",
       "71        132\n",
       "53        115\n",
       "N/A        49\n",
       "51         46\n",
       "99         21\n",
       "21         17\n",
       "11         10\n",
       "22          7\n",
       "Name: top_category_employer2, dtype: int64"
      ]
     },
     "execution_count": 24,
     "metadata": {},
     "output_type": "execute_result"
    }
   ],
   "source": [
    "data[\"top_category_employer2\"].value_counts()"
   ]
  },
  {
   "cell_type": "code",
   "execution_count": 25,
   "id": "1737b32a",
   "metadata": {
    "execution": {
     "iopub.execute_input": "2023-05-10T02:23:03.893493Z",
     "iopub.status.busy": "2023-05-10T02:23:03.893266Z",
     "iopub.status.idle": "2023-05-10T02:23:03.899114Z",
     "shell.execute_reply": "2023-05-10T02:23:03.898655Z"
    }
   },
   "outputs": [],
   "source": [
    "data[\"top_category_employer1\"] = data[\"top_category_employer1\"].map(lambda x: '32' if x =='31-33' else x)"
   ]
  },
  {
   "cell_type": "code",
   "execution_count": 26,
   "id": "c363b032",
   "metadata": {
    "execution": {
     "iopub.execute_input": "2023-05-10T02:23:03.901419Z",
     "iopub.status.busy": "2023-05-10T02:23:03.901243Z",
     "iopub.status.idle": "2023-05-10T02:23:03.905998Z",
     "shell.execute_reply": "2023-05-10T02:23:03.905533Z"
    }
   },
   "outputs": [],
   "source": [
    "data[\"top_category_employer1\"] = data[\"top_category_employer1\"].map(lambda x: '44.5' if x =='44-45' else x)"
   ]
  },
  {
   "cell_type": "code",
   "execution_count": 27,
   "id": "343ca52a",
   "metadata": {
    "execution": {
     "iopub.execute_input": "2023-05-10T02:23:03.908958Z",
     "iopub.status.busy": "2023-05-10T02:23:03.908738Z",
     "iopub.status.idle": "2023-05-10T02:23:03.913072Z",
     "shell.execute_reply": "2023-05-10T02:23:03.912734Z"
    }
   },
   "outputs": [],
   "source": [
    "data[\"top_category_employer1\"] = data[\"top_category_employer1\"].map(lambda x: '48.5' if x =='48-49' else x)"
   ]
  },
  {
   "cell_type": "code",
   "execution_count": 28,
   "id": "079a39f3",
   "metadata": {
    "execution": {
     "iopub.execute_input": "2023-05-10T02:23:03.914802Z",
     "iopub.status.busy": "2023-05-10T02:23:03.914684Z",
     "iopub.status.idle": "2023-05-10T02:23:03.927223Z",
     "shell.execute_reply": "2023-05-10T02:23:03.926905Z"
    }
   },
   "outputs": [
    {
     "name": "stdout",
     "output_type": "stream",
     "text": [
      "<class 'pandas.core.frame.DataFrame'>\n",
      "RangeIndex: 16833 entries, 0 to 16832\n",
      "Data columns (total 25 columns):\n",
      " #   Column                  Non-Null Count  Dtype \n",
      "---  ------                  --------------  ----- \n",
      " 0   uu_id                   16833 non-null  object\n",
      " 1   timeperiod              16833 non-null  Int64 \n",
      " 2   week_number             16833 non-null  Int64 \n",
      " 3   countyfips              16833 non-null  Int64 \n",
      " 4   tract                   16833 non-null  Int64 \n",
      " 5   tract_name              16833 non-null  object\n",
      " 6   total_claims            16833 non-null  Int64 \n",
      " 7   edu_8th_or_less         13748 non-null  Int64 \n",
      " 8   edu_grades_9_11         5942 non-null   Int64 \n",
      " 9   edu_hs_grad_equiv       6036 non-null   Int64 \n",
      " 10  edu_post_hs             3246 non-null   Int64 \n",
      " 11  edu_unknown             12031 non-null  Int64 \n",
      " 12  top_category_employer1  16833 non-null  object\n",
      " 13  top_category_employer2  16833 non-null  object\n",
      " 14  top_category_employer3  16833 non-null  object\n",
      " 15  gender_female           3835 non-null   Int64 \n",
      " 16  gender_male             3931 non-null   Int64 \n",
      " 17  gender_na               15868 non-null  Int64 \n",
      " 18  race_amerindian         15285 non-null  Int64 \n",
      " 19  race_asian              14939 non-null  Int64 \n",
      " 20  race_black              7124 non-null   Int64 \n",
      " 21  race_noanswer           10089 non-null  Int64 \n",
      " 22  race_hawaiiannative     16426 non-null  Int64 \n",
      " 23  race_other              8075 non-null   Int64 \n",
      " 24  race_white              6392 non-null   Int64 \n",
      "dtypes: Int64(20), object(5)\n",
      "memory usage: 3.5+ MB\n"
     ]
    }
   ],
   "source": [
    "data.info()"
   ]
  },
  {
   "cell_type": "code",
   "execution_count": 29,
   "id": "0c686226",
   "metadata": {
    "execution": {
     "iopub.execute_input": "2023-05-10T02:23:03.928876Z",
     "iopub.status.busy": "2023-05-10T02:23:03.928757Z",
     "iopub.status.idle": "2023-05-10T02:23:03.931961Z",
     "shell.execute_reply": "2023-05-10T02:23:03.931619Z"
    }
   },
   "outputs": [
    {
     "data": {
      "text/plain": [
       "56       3043\n",
       "62       2471\n",
       "23       1965\n",
       "32       1962\n",
       "72       1662\n",
       "44-45    1608\n",
       "48-49     985\n",
       "81        545\n",
       "54        518\n",
       "52        474\n",
       "42        431\n",
       "61        334\n",
       "55        281\n",
       "92        157\n",
       "71        132\n",
       "53        115\n",
       "N/A        49\n",
       "51         46\n",
       "99         21\n",
       "21         17\n",
       "11         10\n",
       "22          7\n",
       "Name: top_category_employer2, dtype: int64"
      ]
     },
     "execution_count": 29,
     "metadata": {},
     "output_type": "execute_result"
    }
   ],
   "source": [
    "data[\"top_category_employer2\"].value_counts()"
   ]
  },
  {
   "cell_type": "code",
   "execution_count": 30,
   "id": "5e364dad",
   "metadata": {
    "execution": {
     "iopub.execute_input": "2023-05-10T02:23:03.933481Z",
     "iopub.status.busy": "2023-05-10T02:23:03.933387Z",
     "iopub.status.idle": "2023-05-10T02:23:03.936538Z",
     "shell.execute_reply": "2023-05-10T02:23:03.936303Z"
    }
   },
   "outputs": [],
   "source": [
    "data[\"top_category_employer1\"] = data[\"top_category_employer1\"].map(lambda x: '32' if x =='31-33' else x)"
   ]
  },
  {
   "cell_type": "code",
   "execution_count": 31,
   "id": "e8af5c91",
   "metadata": {
    "execution": {
     "iopub.execute_input": "2023-05-10T02:23:03.937882Z",
     "iopub.status.busy": "2023-05-10T02:23:03.937793Z",
     "iopub.status.idle": "2023-05-10T02:23:03.940941Z",
     "shell.execute_reply": "2023-05-10T02:23:03.940629Z"
    }
   },
   "outputs": [],
   "source": [
    "data[\"top_category_employer1\"] = data[\"top_category_employer1\"].map(lambda x: '44.5' if x =='44-45' else x)"
   ]
  },
  {
   "cell_type": "code",
   "execution_count": 32,
   "id": "a56d61ce",
   "metadata": {
    "execution": {
     "iopub.execute_input": "2023-05-10T02:23:03.942606Z",
     "iopub.status.busy": "2023-05-10T02:23:03.942505Z",
     "iopub.status.idle": "2023-05-10T02:23:03.945678Z",
     "shell.execute_reply": "2023-05-10T02:23:03.945393Z"
    }
   },
   "outputs": [],
   "source": [
    "data[\"top_category_employer1\"] = data[\"top_category_employer1\"].map(lambda x: '48.5' if x =='48-49' else x)"
   ]
  },
  {
   "cell_type": "code",
   "execution_count": 33,
   "id": "1bca145a",
   "metadata": {
    "execution": {
     "iopub.execute_input": "2023-05-10T02:23:03.947085Z",
     "iopub.status.busy": "2023-05-10T02:23:03.947005Z",
     "iopub.status.idle": "2023-05-10T02:23:03.949746Z",
     "shell.execute_reply": "2023-05-10T02:23:03.949499Z"
    }
   },
   "outputs": [],
   "source": [
    "data[\"top_category_employer2\"] = data[\"top_category_employer2\"].map(lambda x: '32' if x =='31-33' else x)"
   ]
  },
  {
   "cell_type": "code",
   "execution_count": 34,
   "id": "a9125a1e",
   "metadata": {
    "execution": {
     "iopub.execute_input": "2023-05-10T02:23:03.951135Z",
     "iopub.status.busy": "2023-05-10T02:23:03.951050Z",
     "iopub.status.idle": "2023-05-10T02:23:03.954054Z",
     "shell.execute_reply": "2023-05-10T02:23:03.953814Z"
    }
   },
   "outputs": [],
   "source": [
    "data[\"top_category_employer2\"] = data[\"top_category_employer2\"].map(lambda x: '44.5' if x =='44-45' else x)"
   ]
  },
  {
   "cell_type": "code",
   "execution_count": 35,
   "id": "e57c73a7",
   "metadata": {
    "execution": {
     "iopub.execute_input": "2023-05-10T02:23:03.955425Z",
     "iopub.status.busy": "2023-05-10T02:23:03.955345Z",
     "iopub.status.idle": "2023-05-10T02:23:03.960025Z",
     "shell.execute_reply": "2023-05-10T02:23:03.959253Z"
    }
   },
   "outputs": [],
   "source": [
    "data[\"top_category_employer2\"] = data[\"top_category_employer2\"].map(lambda x: '48.5' if x =='48-49' else x)"
   ]
  },
  {
   "cell_type": "code",
   "execution_count": 36,
   "id": "d35e2f46",
   "metadata": {
    "execution": {
     "iopub.execute_input": "2023-05-10T02:23:03.961765Z",
     "iopub.status.busy": "2023-05-10T02:23:03.961646Z",
     "iopub.status.idle": "2023-05-10T02:23:03.965128Z",
     "shell.execute_reply": "2023-05-10T02:23:03.964852Z"
    }
   },
   "outputs": [],
   "source": [
    "data[\"top_category_employer3\"] = data[\"top_category_employer3\"].map(lambda x: '32' if x =='31-33' else x)"
   ]
  },
  {
   "cell_type": "code",
   "execution_count": 37,
   "id": "4e357c98",
   "metadata": {
    "execution": {
     "iopub.execute_input": "2023-05-10T02:23:03.966606Z",
     "iopub.status.busy": "2023-05-10T02:23:03.966518Z",
     "iopub.status.idle": "2023-05-10T02:23:03.969420Z",
     "shell.execute_reply": "2023-05-10T02:23:03.969169Z"
    }
   },
   "outputs": [],
   "source": [
    "data[\"top_category_employer3\"] = data[\"top_category_employer3\"].map(lambda x: '44.5' if x =='44-45' else x)"
   ]
  },
  {
   "cell_type": "code",
   "execution_count": 38,
   "id": "4acfe879",
   "metadata": {
    "execution": {
     "iopub.execute_input": "2023-05-10T02:23:03.970707Z",
     "iopub.status.busy": "2023-05-10T02:23:03.970634Z",
     "iopub.status.idle": "2023-05-10T02:23:03.974183Z",
     "shell.execute_reply": "2023-05-10T02:23:03.973841Z"
    }
   },
   "outputs": [],
   "source": [
    "data[\"top_category_employer3\"] = data[\"top_category_employer3\"].map(lambda x: '48.5' if x =='48-49' else x)"
   ]
  },
  {
   "cell_type": "code",
   "execution_count": 39,
   "id": "c25a6e78",
   "metadata": {
    "execution": {
     "iopub.execute_input": "2023-05-10T02:23:03.975653Z",
     "iopub.status.busy": "2023-05-10T02:23:03.975562Z",
     "iopub.status.idle": "2023-05-10T02:23:03.978903Z",
     "shell.execute_reply": "2023-05-10T02:23:03.978656Z"
    }
   },
   "outputs": [
    {
     "data": {
      "text/plain": [
       "0     13711\n",
       "18        5\n",
       "16        5\n",
       "19        4\n",
       "10        3\n",
       "12        3\n",
       "21        3\n",
       "24        2\n",
       "14        2\n",
       "33        2\n",
       "11        2\n",
       "17        1\n",
       "28        1\n",
       "41        1\n",
       "13        1\n",
       "26        1\n",
       "37        1\n",
       "Name: edu_8th_or_less, dtype: Int64"
      ]
     },
     "execution_count": 39,
     "metadata": {},
     "output_type": "execute_result"
    }
   ],
   "source": [
    "data[\"edu_8th_or_less\"].value_counts()"
   ]
  },
  {
   "cell_type": "code",
   "execution_count": 40,
   "id": "4d16e7c0",
   "metadata": {
    "execution": {
     "iopub.execute_input": "2023-05-10T02:23:03.980245Z",
     "iopub.status.busy": "2023-05-10T02:23:03.980150Z",
     "iopub.status.idle": "2023-05-10T02:23:04.054661Z",
     "shell.execute_reply": "2023-05-10T02:23:04.054367Z"
    }
   },
   "outputs": [
    {
     "ename": "NameError",
     "evalue": "name 'df' is not defined",
     "output_type": "error",
     "traceback": [
      "\u001b[0;31m---------------------------------------------------------------------------\u001b[0m",
      "\u001b[0;31mNameError\u001b[0m                                 Traceback (most recent call last)",
      "Cell \u001b[0;32mIn [40], line 1\u001b[0m\n\u001b[0;32m----> 1\u001b[0m \u001b[43mdf\u001b[49m[\u001b[38;5;124m\"\u001b[39m\u001b[38;5;124mtop_category_employer1\u001b[39m\u001b[38;5;124m\"\u001b[39m]\u001b[38;5;241m.\u001b[39mastype(\u001b[38;5;28mint\u001b[39m) \n",
      "\u001b[0;31mNameError\u001b[0m: name 'df' is not defined"
     ]
    }
   ],
   "source": [
    "df[\"top_category_employer1\"].astype(int) "
   ]
  },
  {
   "cell_type": "code",
   "execution_count": 41,
   "id": "ada08c46",
   "metadata": {
    "execution": {
     "iopub.execute_input": "2023-05-10T02:23:04.056348Z",
     "iopub.status.busy": "2023-05-10T02:23:04.056228Z",
     "iopub.status.idle": "2023-05-10T02:23:04.427984Z",
     "shell.execute_reply": "2023-05-10T02:23:04.427636Z"
    }
   },
   "outputs": [
    {
     "ename": "ValueError",
     "evalue": "invalid literal for int() with base 10: '48.5'",
     "output_type": "error",
     "traceback": [
      "\u001b[0;31m---------------------------------------------------------------------------\u001b[0m",
      "\u001b[0;31mValueError\u001b[0m                                Traceback (most recent call last)",
      "Cell \u001b[0;32mIn [41], line 1\u001b[0m\n\u001b[0;32m----> 1\u001b[0m \u001b[43mdata\u001b[49m\u001b[43m[\u001b[49m\u001b[38;5;124;43m\"\u001b[39;49m\u001b[38;5;124;43mtop_category_employer1\u001b[39;49m\u001b[38;5;124;43m\"\u001b[39;49m\u001b[43m]\u001b[49m\u001b[38;5;241;43m.\u001b[39;49m\u001b[43mastype\u001b[49m\u001b[43m(\u001b[49m\u001b[38;5;28;43mint\u001b[39;49m\u001b[43m)\u001b[49m \n",
      "File \u001b[0;32m/opt/homebrew/lib/python3.9/site-packages/pandas/core/generic.py:6240\u001b[0m, in \u001b[0;36mNDFrame.astype\u001b[0;34m(self, dtype, copy, errors)\u001b[0m\n\u001b[1;32m   6233\u001b[0m     results \u001b[38;5;241m=\u001b[39m [\n\u001b[1;32m   6234\u001b[0m         \u001b[38;5;28mself\u001b[39m\u001b[38;5;241m.\u001b[39miloc[:, i]\u001b[38;5;241m.\u001b[39mastype(dtype, copy\u001b[38;5;241m=\u001b[39mcopy)\n\u001b[1;32m   6235\u001b[0m         \u001b[38;5;28;01mfor\u001b[39;00m i \u001b[38;5;129;01min\u001b[39;00m \u001b[38;5;28mrange\u001b[39m(\u001b[38;5;28mlen\u001b[39m(\u001b[38;5;28mself\u001b[39m\u001b[38;5;241m.\u001b[39mcolumns))\n\u001b[1;32m   6236\u001b[0m     ]\n\u001b[1;32m   6238\u001b[0m \u001b[38;5;28;01melse\u001b[39;00m:\n\u001b[1;32m   6239\u001b[0m     \u001b[38;5;66;03m# else, only a single dtype is given\u001b[39;00m\n\u001b[0;32m-> 6240\u001b[0m     new_data \u001b[38;5;241m=\u001b[39m \u001b[38;5;28;43mself\u001b[39;49m\u001b[38;5;241;43m.\u001b[39;49m\u001b[43m_mgr\u001b[49m\u001b[38;5;241;43m.\u001b[39;49m\u001b[43mastype\u001b[49m\u001b[43m(\u001b[49m\u001b[43mdtype\u001b[49m\u001b[38;5;241;43m=\u001b[39;49m\u001b[43mdtype\u001b[49m\u001b[43m,\u001b[49m\u001b[43m \u001b[49m\u001b[43mcopy\u001b[49m\u001b[38;5;241;43m=\u001b[39;49m\u001b[43mcopy\u001b[49m\u001b[43m,\u001b[49m\u001b[43m \u001b[49m\u001b[43merrors\u001b[49m\u001b[38;5;241;43m=\u001b[39;49m\u001b[43merrors\u001b[49m\u001b[43m)\u001b[49m\n\u001b[1;32m   6241\u001b[0m     \u001b[38;5;28;01mreturn\u001b[39;00m \u001b[38;5;28mself\u001b[39m\u001b[38;5;241m.\u001b[39m_constructor(new_data)\u001b[38;5;241m.\u001b[39m__finalize__(\u001b[38;5;28mself\u001b[39m, method\u001b[38;5;241m=\u001b[39m\u001b[38;5;124m\"\u001b[39m\u001b[38;5;124mastype\u001b[39m\u001b[38;5;124m\"\u001b[39m)\n\u001b[1;32m   6243\u001b[0m \u001b[38;5;66;03m# GH 33113: handle empty frame or series\u001b[39;00m\n",
      "File \u001b[0;32m/opt/homebrew/lib/python3.9/site-packages/pandas/core/internals/managers.py:445\u001b[0m, in \u001b[0;36mBaseBlockManager.astype\u001b[0;34m(self, dtype, copy, errors)\u001b[0m\n\u001b[1;32m    444\u001b[0m \u001b[38;5;28;01mdef\u001b[39;00m \u001b[38;5;21mastype\u001b[39m(\u001b[38;5;28mself\u001b[39m: T, dtype, copy: \u001b[38;5;28mbool\u001b[39m \u001b[38;5;241m=\u001b[39m \u001b[38;5;28;01mFalse\u001b[39;00m, errors: \u001b[38;5;28mstr\u001b[39m \u001b[38;5;241m=\u001b[39m \u001b[38;5;124m\"\u001b[39m\u001b[38;5;124mraise\u001b[39m\u001b[38;5;124m\"\u001b[39m) \u001b[38;5;241m-\u001b[39m\u001b[38;5;241m>\u001b[39m T:\n\u001b[0;32m--> 445\u001b[0m     \u001b[38;5;28;01mreturn\u001b[39;00m \u001b[38;5;28;43mself\u001b[39;49m\u001b[38;5;241;43m.\u001b[39;49m\u001b[43mapply\u001b[49m\u001b[43m(\u001b[49m\u001b[38;5;124;43m\"\u001b[39;49m\u001b[38;5;124;43mastype\u001b[39;49m\u001b[38;5;124;43m\"\u001b[39;49m\u001b[43m,\u001b[49m\u001b[43m \u001b[49m\u001b[43mdtype\u001b[49m\u001b[38;5;241;43m=\u001b[39;49m\u001b[43mdtype\u001b[49m\u001b[43m,\u001b[49m\u001b[43m \u001b[49m\u001b[43mcopy\u001b[49m\u001b[38;5;241;43m=\u001b[39;49m\u001b[43mcopy\u001b[49m\u001b[43m,\u001b[49m\u001b[43m \u001b[49m\u001b[43merrors\u001b[49m\u001b[38;5;241;43m=\u001b[39;49m\u001b[43merrors\u001b[49m\u001b[43m)\u001b[49m\n",
      "File \u001b[0;32m/opt/homebrew/lib/python3.9/site-packages/pandas/core/internals/managers.py:347\u001b[0m, in \u001b[0;36mBaseBlockManager.apply\u001b[0;34m(self, f, align_keys, ignore_failures, **kwargs)\u001b[0m\n\u001b[1;32m    345\u001b[0m         applied \u001b[38;5;241m=\u001b[39m b\u001b[38;5;241m.\u001b[39mapply(f, \u001b[38;5;241m*\u001b[39m\u001b[38;5;241m*\u001b[39mkwargs)\n\u001b[1;32m    346\u001b[0m     \u001b[38;5;28;01melse\u001b[39;00m:\n\u001b[0;32m--> 347\u001b[0m         applied \u001b[38;5;241m=\u001b[39m \u001b[38;5;28;43mgetattr\u001b[39;49m\u001b[43m(\u001b[49m\u001b[43mb\u001b[49m\u001b[43m,\u001b[49m\u001b[43m \u001b[49m\u001b[43mf\u001b[49m\u001b[43m)\u001b[49m\u001b[43m(\u001b[49m\u001b[38;5;241;43m*\u001b[39;49m\u001b[38;5;241;43m*\u001b[39;49m\u001b[43mkwargs\u001b[49m\u001b[43m)\u001b[49m\n\u001b[1;32m    348\u001b[0m \u001b[38;5;28;01mexcept\u001b[39;00m (\u001b[38;5;167;01mTypeError\u001b[39;00m, \u001b[38;5;167;01mNotImplementedError\u001b[39;00m):\n\u001b[1;32m    349\u001b[0m     \u001b[38;5;28;01mif\u001b[39;00m \u001b[38;5;129;01mnot\u001b[39;00m ignore_failures:\n",
      "File \u001b[0;32m/opt/homebrew/lib/python3.9/site-packages/pandas/core/internals/blocks.py:526\u001b[0m, in \u001b[0;36mBlock.astype\u001b[0;34m(self, dtype, copy, errors)\u001b[0m\n\u001b[1;32m    508\u001b[0m \u001b[38;5;124;03m\"\"\"\u001b[39;00m\n\u001b[1;32m    509\u001b[0m \u001b[38;5;124;03mCoerce to the new dtype.\u001b[39;00m\n\u001b[1;32m    510\u001b[0m \n\u001b[0;32m   (...)\u001b[0m\n\u001b[1;32m    522\u001b[0m \u001b[38;5;124;03mBlock\u001b[39;00m\n\u001b[1;32m    523\u001b[0m \u001b[38;5;124;03m\"\"\"\u001b[39;00m\n\u001b[1;32m    524\u001b[0m values \u001b[38;5;241m=\u001b[39m \u001b[38;5;28mself\u001b[39m\u001b[38;5;241m.\u001b[39mvalues\n\u001b[0;32m--> 526\u001b[0m new_values \u001b[38;5;241m=\u001b[39m \u001b[43mastype_array_safe\u001b[49m\u001b[43m(\u001b[49m\u001b[43mvalues\u001b[49m\u001b[43m,\u001b[49m\u001b[43m \u001b[49m\u001b[43mdtype\u001b[49m\u001b[43m,\u001b[49m\u001b[43m \u001b[49m\u001b[43mcopy\u001b[49m\u001b[38;5;241;43m=\u001b[39;49m\u001b[43mcopy\u001b[49m\u001b[43m,\u001b[49m\u001b[43m \u001b[49m\u001b[43merrors\u001b[49m\u001b[38;5;241;43m=\u001b[39;49m\u001b[43merrors\u001b[49m\u001b[43m)\u001b[49m\n\u001b[1;32m    528\u001b[0m new_values \u001b[38;5;241m=\u001b[39m maybe_coerce_values(new_values)\n\u001b[1;32m    529\u001b[0m newb \u001b[38;5;241m=\u001b[39m \u001b[38;5;28mself\u001b[39m\u001b[38;5;241m.\u001b[39mmake_block(new_values)\n",
      "File \u001b[0;32m/opt/homebrew/lib/python3.9/site-packages/pandas/core/dtypes/astype.py:299\u001b[0m, in \u001b[0;36mastype_array_safe\u001b[0;34m(values, dtype, copy, errors)\u001b[0m\n\u001b[1;32m    296\u001b[0m     \u001b[38;5;28;01mreturn\u001b[39;00m values\u001b[38;5;241m.\u001b[39mcopy()\n\u001b[1;32m    298\u001b[0m \u001b[38;5;28;01mtry\u001b[39;00m:\n\u001b[0;32m--> 299\u001b[0m     new_values \u001b[38;5;241m=\u001b[39m \u001b[43mastype_array\u001b[49m\u001b[43m(\u001b[49m\u001b[43mvalues\u001b[49m\u001b[43m,\u001b[49m\u001b[43m \u001b[49m\u001b[43mdtype\u001b[49m\u001b[43m,\u001b[49m\u001b[43m \u001b[49m\u001b[43mcopy\u001b[49m\u001b[38;5;241;43m=\u001b[39;49m\u001b[43mcopy\u001b[49m\u001b[43m)\u001b[49m\n\u001b[1;32m    300\u001b[0m \u001b[38;5;28;01mexcept\u001b[39;00m (\u001b[38;5;167;01mValueError\u001b[39;00m, \u001b[38;5;167;01mTypeError\u001b[39;00m):\n\u001b[1;32m    301\u001b[0m     \u001b[38;5;66;03m# e.g. astype_nansafe can fail on object-dtype of strings\u001b[39;00m\n\u001b[1;32m    302\u001b[0m     \u001b[38;5;66;03m#  trying to convert to float\u001b[39;00m\n\u001b[1;32m    303\u001b[0m     \u001b[38;5;28;01mif\u001b[39;00m errors \u001b[38;5;241m==\u001b[39m \u001b[38;5;124m\"\u001b[39m\u001b[38;5;124mignore\u001b[39m\u001b[38;5;124m\"\u001b[39m:\n",
      "File \u001b[0;32m/opt/homebrew/lib/python3.9/site-packages/pandas/core/dtypes/astype.py:230\u001b[0m, in \u001b[0;36mastype_array\u001b[0;34m(values, dtype, copy)\u001b[0m\n\u001b[1;32m    227\u001b[0m     values \u001b[38;5;241m=\u001b[39m values\u001b[38;5;241m.\u001b[39mastype(dtype, copy\u001b[38;5;241m=\u001b[39mcopy)\n\u001b[1;32m    229\u001b[0m \u001b[38;5;28;01melse\u001b[39;00m:\n\u001b[0;32m--> 230\u001b[0m     values \u001b[38;5;241m=\u001b[39m \u001b[43mastype_nansafe\u001b[49m\u001b[43m(\u001b[49m\u001b[43mvalues\u001b[49m\u001b[43m,\u001b[49m\u001b[43m \u001b[49m\u001b[43mdtype\u001b[49m\u001b[43m,\u001b[49m\u001b[43m \u001b[49m\u001b[43mcopy\u001b[49m\u001b[38;5;241;43m=\u001b[39;49m\u001b[43mcopy\u001b[49m\u001b[43m)\u001b[49m\n\u001b[1;32m    232\u001b[0m \u001b[38;5;66;03m# in pandas we don't store numpy str dtypes, so convert to object\u001b[39;00m\n\u001b[1;32m    233\u001b[0m \u001b[38;5;28;01mif\u001b[39;00m \u001b[38;5;28misinstance\u001b[39m(dtype, np\u001b[38;5;241m.\u001b[39mdtype) \u001b[38;5;129;01mand\u001b[39;00m \u001b[38;5;28missubclass\u001b[39m(values\u001b[38;5;241m.\u001b[39mdtype\u001b[38;5;241m.\u001b[39mtype, \u001b[38;5;28mstr\u001b[39m):\n",
      "File \u001b[0;32m/opt/homebrew/lib/python3.9/site-packages/pandas/core/dtypes/astype.py:170\u001b[0m, in \u001b[0;36mastype_nansafe\u001b[0;34m(arr, dtype, copy, skipna)\u001b[0m\n\u001b[1;32m    166\u001b[0m     \u001b[38;5;28;01mraise\u001b[39;00m \u001b[38;5;167;01mValueError\u001b[39;00m(msg)\n\u001b[1;32m    168\u001b[0m \u001b[38;5;28;01mif\u001b[39;00m copy \u001b[38;5;129;01mor\u001b[39;00m is_object_dtype(arr\u001b[38;5;241m.\u001b[39mdtype) \u001b[38;5;129;01mor\u001b[39;00m is_object_dtype(dtype):\n\u001b[1;32m    169\u001b[0m     \u001b[38;5;66;03m# Explicit copy, or required since NumPy can't view from / to object.\u001b[39;00m\n\u001b[0;32m--> 170\u001b[0m     \u001b[38;5;28;01mreturn\u001b[39;00m \u001b[43marr\u001b[49m\u001b[38;5;241;43m.\u001b[39;49m\u001b[43mastype\u001b[49m\u001b[43m(\u001b[49m\u001b[43mdtype\u001b[49m\u001b[43m,\u001b[49m\u001b[43m \u001b[49m\u001b[43mcopy\u001b[49m\u001b[38;5;241;43m=\u001b[39;49m\u001b[38;5;28;43;01mTrue\u001b[39;49;00m\u001b[43m)\u001b[49m\n\u001b[1;32m    172\u001b[0m \u001b[38;5;28;01mreturn\u001b[39;00m arr\u001b[38;5;241m.\u001b[39mastype(dtype, copy\u001b[38;5;241m=\u001b[39mcopy)\n",
      "\u001b[0;31mValueError\u001b[0m: invalid literal for int() with base 10: '48.5'"
     ]
    }
   ],
   "source": [
    "data[\"top_category_employer1\"].astype(int) "
   ]
  },
  {
   "cell_type": "code",
   "execution_count": 42,
   "id": "c5318771",
   "metadata": {
    "execution": {
     "iopub.execute_input": "2023-05-10T02:23:04.429553Z",
     "iopub.status.busy": "2023-05-10T02:23:04.429444Z",
     "iopub.status.idle": "2023-05-10T02:23:04.439764Z",
     "shell.execute_reply": "2023-05-10T02:23:04.439306Z"
    }
   },
   "outputs": [
    {
     "name": "stdout",
     "output_type": "stream",
     "text": [
      "<class 'pandas.core.frame.DataFrame'>\n",
      "RangeIndex: 16833 entries, 0 to 16832\n",
      "Data columns (total 25 columns):\n",
      " #   Column                  Non-Null Count  Dtype \n",
      "---  ------                  --------------  ----- \n",
      " 0   uu_id                   16833 non-null  object\n",
      " 1   timeperiod              16833 non-null  Int64 \n",
      " 2   week_number             16833 non-null  Int64 \n",
      " 3   countyfips              16833 non-null  Int64 \n",
      " 4   tract                   16833 non-null  Int64 \n",
      " 5   tract_name              16833 non-null  object\n",
      " 6   total_claims            16833 non-null  Int64 \n",
      " 7   edu_8th_or_less         13748 non-null  Int64 \n",
      " 8   edu_grades_9_11         5942 non-null   Int64 \n",
      " 9   edu_hs_grad_equiv       6036 non-null   Int64 \n",
      " 10  edu_post_hs             3246 non-null   Int64 \n",
      " 11  edu_unknown             12031 non-null  Int64 \n",
      " 12  top_category_employer1  16833 non-null  object\n",
      " 13  top_category_employer2  16833 non-null  object\n",
      " 14  top_category_employer3  16833 non-null  object\n",
      " 15  gender_female           3835 non-null   Int64 \n",
      " 16  gender_male             3931 non-null   Int64 \n",
      " 17  gender_na               15868 non-null  Int64 \n",
      " 18  race_amerindian         15285 non-null  Int64 \n",
      " 19  race_asian              14939 non-null  Int64 \n",
      " 20  race_black              7124 non-null   Int64 \n",
      " 21  race_noanswer           10089 non-null  Int64 \n",
      " 22  race_hawaiiannative     16426 non-null  Int64 \n",
      " 23  race_other              8075 non-null   Int64 \n",
      " 24  race_white              6392 non-null   Int64 \n",
      "dtypes: Int64(20), object(5)\n",
      "memory usage: 3.5+ MB\n"
     ]
    }
   ],
   "source": [
    "data.info()"
   ]
  },
  {
   "cell_type": "code",
   "execution_count": 43,
   "id": "850b5632",
   "metadata": {
    "execution": {
     "iopub.execute_input": "2023-05-10T02:23:04.441806Z",
     "iopub.status.busy": "2023-05-10T02:23:04.441655Z",
     "iopub.status.idle": "2023-05-10T02:23:04.445365Z",
     "shell.execute_reply": "2023-05-10T02:23:04.445084Z"
    }
   },
   "outputs": [
    {
     "data": {
      "text/plain": [
       "0        32.0\n",
       "1        48.5\n",
       "2        56.0\n",
       "3        56.0\n",
       "4        72.0\n",
       "         ... \n",
       "16828    56.0\n",
       "16829    56.0\n",
       "16830    56.0\n",
       "16831    23.0\n",
       "16832    23.0\n",
       "Name: top_category_employer1, Length: 16833, dtype: float64"
      ]
     },
     "execution_count": 43,
     "metadata": {},
     "output_type": "execute_result"
    }
   ],
   "source": [
    "data[\"top_category_employer1\"].astype(float) "
   ]
  },
  {
   "cell_type": "code",
   "execution_count": 44,
   "id": "e85a7e7a",
   "metadata": {
    "execution": {
     "iopub.execute_input": "2023-05-10T02:23:04.446773Z",
     "iopub.status.busy": "2023-05-10T02:23:04.446689Z",
     "iopub.status.idle": "2023-05-10T02:23:04.449840Z",
     "shell.execute_reply": "2023-05-10T02:23:04.449581Z"
    }
   },
   "outputs": [
    {
     "data": {
      "text/plain": [
       "0      3881\n",
       "11      241\n",
       "12      234\n",
       "10      227\n",
       "13      216\n",
       "       ... \n",
       "72        1\n",
       "138       1\n",
       "91        1\n",
       "65        1\n",
       "117       1\n",
       "Name: race_black, Length: 97, dtype: Int64"
      ]
     },
     "execution_count": 44,
     "metadata": {},
     "output_type": "execute_result"
    }
   ],
   "source": [
    "data[\"race_black\"].value_counts()"
   ]
  },
  {
   "cell_type": "code",
   "execution_count": 45,
   "id": "6f2b4c5f",
   "metadata": {
    "execution": {
     "iopub.execute_input": "2023-05-10T02:23:04.451244Z",
     "iopub.status.busy": "2023-05-10T02:23:04.451158Z",
     "iopub.status.idle": "2023-05-10T02:23:04.454578Z",
     "shell.execute_reply": "2023-05-10T02:23:04.454350Z"
    }
   },
   "outputs": [
    {
     "data": {
      "text/plain": [
       "0        32.0\n",
       "1        48.5\n",
       "2        56.0\n",
       "3        56.0\n",
       "4        72.0\n",
       "         ... \n",
       "16828    56.0\n",
       "16829    56.0\n",
       "16830    56.0\n",
       "16831    23.0\n",
       "16832    23.0\n",
       "Name: top_category_employer1, Length: 16833, dtype: float64"
      ]
     },
     "execution_count": 45,
     "metadata": {},
     "output_type": "execute_result"
    }
   ],
   "source": [
    "data[\"top_category_employer1\"].astype(float) "
   ]
  },
  {
   "cell_type": "code",
   "execution_count": 46,
   "id": "9f7e48d1",
   "metadata": {
    "execution": {
     "iopub.execute_input": "2023-05-10T02:23:04.456021Z",
     "iopub.status.busy": "2023-05-10T02:23:04.455939Z",
     "iopub.status.idle": "2023-05-10T02:23:04.463642Z",
     "shell.execute_reply": "2023-05-10T02:23:04.463386Z"
    }
   },
   "outputs": [
    {
     "ename": "NameError",
     "evalue": "name 'np' is not defined",
     "output_type": "error",
     "traceback": [
      "\u001b[0;31m---------------------------------------------------------------------------\u001b[0m",
      "\u001b[0;31mNameError\u001b[0m                                 Traceback (most recent call last)",
      "Cell \u001b[0;32mIn [46], line 1\u001b[0m\n\u001b[0;32m----> 1\u001b[0m data[\u001b[38;5;124m'\u001b[39m\u001b[38;5;124medu_8th_or_less\u001b[39m\u001b[38;5;124m'\u001b[39m]\u001b[38;5;241m.\u001b[39mreplace(\u001b[43mnp\u001b[49m\u001b[38;5;241m.\u001b[39mNaN, data[\u001b[38;5;124m'\u001b[39m\u001b[38;5;124medu_8th_or_less\u001b[39m\u001b[38;5;124m'\u001b[39m]\u001b[38;5;241m.\u001b[39mmean())\n",
      "\u001b[0;31mNameError\u001b[0m: name 'np' is not defined"
     ]
    }
   ],
   "source": [
    "data['edu_8th_or_less'].replace(np.NaN, data['edu_8th_or_less'].mean())"
   ]
  },
  {
   "cell_type": "code",
   "execution_count": 47,
   "id": "da853bc9",
   "metadata": {
    "execution": {
     "iopub.execute_input": "2023-05-10T02:23:04.465116Z",
     "iopub.status.busy": "2023-05-10T02:23:04.465014Z",
     "iopub.status.idle": "2023-05-10T02:23:04.466795Z",
     "shell.execute_reply": "2023-05-10T02:23:04.466552Z"
    }
   },
   "outputs": [],
   "source": [
    "import os\n",
    "import pandas\n",
    "from google.cloud import bigquery\n",
    "from google.oauth2 import service_account\n",
    "from google.cloud.bigquery import magics\n",
    "import numpy as np"
   ]
  },
  {
   "cell_type": "code",
   "execution_count": 48,
   "id": "091d42a1",
   "metadata": {
    "execution": {
     "iopub.execute_input": "2023-05-10T02:23:04.468161Z",
     "iopub.status.busy": "2023-05-10T02:23:04.468061Z",
     "iopub.status.idle": "2023-05-10T02:23:04.729418Z",
     "shell.execute_reply": "2023-05-10T02:23:04.729066Z"
    }
   },
   "outputs": [
    {
     "ename": "TypeError",
     "evalue": "Invalid value '0.05098923479778877' for dtype Int64",
     "output_type": "error",
     "traceback": [
      "\u001b[0;31m---------------------------------------------------------------------------\u001b[0m",
      "\u001b[0;31mTypeError\u001b[0m                                 Traceback (most recent call last)",
      "Cell \u001b[0;32mIn [48], line 1\u001b[0m\n\u001b[0;32m----> 1\u001b[0m \u001b[43mdata\u001b[49m\u001b[43m[\u001b[49m\u001b[38;5;124;43m'\u001b[39;49m\u001b[38;5;124;43medu_8th_or_less\u001b[39;49m\u001b[38;5;124;43m'\u001b[39;49m\u001b[43m]\u001b[49m\u001b[38;5;241;43m.\u001b[39;49m\u001b[43mreplace\u001b[49m\u001b[43m(\u001b[49m\u001b[43mnp\u001b[49m\u001b[38;5;241;43m.\u001b[39;49m\u001b[43mNaN\u001b[49m\u001b[43m,\u001b[49m\u001b[43m \u001b[49m\u001b[43mdata\u001b[49m\u001b[43m[\u001b[49m\u001b[38;5;124;43m'\u001b[39;49m\u001b[38;5;124;43medu_8th_or_less\u001b[39;49m\u001b[38;5;124;43m'\u001b[39;49m\u001b[43m]\u001b[49m\u001b[38;5;241;43m.\u001b[39;49m\u001b[43mmean\u001b[49m\u001b[43m(\u001b[49m\u001b[43m)\u001b[49m\u001b[43m)\u001b[49m\n",
      "File \u001b[0;32m/opt/homebrew/lib/python3.9/site-packages/pandas/util/_decorators.py:331\u001b[0m, in \u001b[0;36mdeprecate_nonkeyword_arguments.<locals>.decorate.<locals>.wrapper\u001b[0;34m(*args, **kwargs)\u001b[0m\n\u001b[1;32m    325\u001b[0m \u001b[38;5;28;01mif\u001b[39;00m \u001b[38;5;28mlen\u001b[39m(args) \u001b[38;5;241m>\u001b[39m num_allow_args:\n\u001b[1;32m    326\u001b[0m     warnings\u001b[38;5;241m.\u001b[39mwarn(\n\u001b[1;32m    327\u001b[0m         msg\u001b[38;5;241m.\u001b[39mformat(arguments\u001b[38;5;241m=\u001b[39m_format_argument_list(allow_args)),\n\u001b[1;32m    328\u001b[0m         \u001b[38;5;167;01mFutureWarning\u001b[39;00m,\n\u001b[1;32m    329\u001b[0m         stacklevel\u001b[38;5;241m=\u001b[39mfind_stack_level(),\n\u001b[1;32m    330\u001b[0m     )\n\u001b[0;32m--> 331\u001b[0m \u001b[38;5;28;01mreturn\u001b[39;00m \u001b[43mfunc\u001b[49m\u001b[43m(\u001b[49m\u001b[38;5;241;43m*\u001b[39;49m\u001b[43margs\u001b[49m\u001b[43m,\u001b[49m\u001b[43m \u001b[49m\u001b[38;5;241;43m*\u001b[39;49m\u001b[38;5;241;43m*\u001b[39;49m\u001b[43mkwargs\u001b[49m\u001b[43m)\u001b[49m\n",
      "File \u001b[0;32m/opt/homebrew/lib/python3.9/site-packages/pandas/core/series.py:5380\u001b[0m, in \u001b[0;36mSeries.replace\u001b[0;34m(self, to_replace, value, inplace, limit, regex, method)\u001b[0m\n\u001b[1;32m   5362\u001b[0m \u001b[38;5;129m@deprecate_nonkeyword_arguments\u001b[39m(\n\u001b[1;32m   5363\u001b[0m     version\u001b[38;5;241m=\u001b[39m\u001b[38;5;28;01mNone\u001b[39;00m, allowed_args\u001b[38;5;241m=\u001b[39m[\u001b[38;5;124m\"\u001b[39m\u001b[38;5;124mself\u001b[39m\u001b[38;5;124m\"\u001b[39m, \u001b[38;5;124m\"\u001b[39m\u001b[38;5;124mto_replace\u001b[39m\u001b[38;5;124m\"\u001b[39m, \u001b[38;5;124m\"\u001b[39m\u001b[38;5;124mvalue\u001b[39m\u001b[38;5;124m\"\u001b[39m]\n\u001b[1;32m   5364\u001b[0m )\n\u001b[0;32m   (...)\u001b[0m\n\u001b[1;32m   5378\u001b[0m     method: Literal[\u001b[38;5;124m\"\u001b[39m\u001b[38;5;124mpad\u001b[39m\u001b[38;5;124m\"\u001b[39m, \u001b[38;5;124m\"\u001b[39m\u001b[38;5;124mffill\u001b[39m\u001b[38;5;124m\"\u001b[39m, \u001b[38;5;124m\"\u001b[39m\u001b[38;5;124mbfill\u001b[39m\u001b[38;5;124m\"\u001b[39m] \u001b[38;5;241m|\u001b[39m lib\u001b[38;5;241m.\u001b[39mNoDefault \u001b[38;5;241m=\u001b[39m lib\u001b[38;5;241m.\u001b[39mno_default,\n\u001b[1;32m   5379\u001b[0m ) \u001b[38;5;241m-\u001b[39m\u001b[38;5;241m>\u001b[39m Series \u001b[38;5;241m|\u001b[39m \u001b[38;5;28;01mNone\u001b[39;00m:\n\u001b[0;32m-> 5380\u001b[0m     \u001b[38;5;28;01mreturn\u001b[39;00m \u001b[38;5;28;43msuper\u001b[39;49m\u001b[43m(\u001b[49m\u001b[43m)\u001b[49m\u001b[38;5;241;43m.\u001b[39;49m\u001b[43mreplace\u001b[49m\u001b[43m(\u001b[49m\n\u001b[1;32m   5381\u001b[0m \u001b[43m        \u001b[49m\u001b[43mto_replace\u001b[49m\u001b[38;5;241;43m=\u001b[39;49m\u001b[43mto_replace\u001b[49m\u001b[43m,\u001b[49m\n\u001b[1;32m   5382\u001b[0m \u001b[43m        \u001b[49m\u001b[43mvalue\u001b[49m\u001b[38;5;241;43m=\u001b[39;49m\u001b[43mvalue\u001b[49m\u001b[43m,\u001b[49m\n\u001b[1;32m   5383\u001b[0m \u001b[43m        \u001b[49m\u001b[43minplace\u001b[49m\u001b[38;5;241;43m=\u001b[39;49m\u001b[43minplace\u001b[49m\u001b[43m,\u001b[49m\n\u001b[1;32m   5384\u001b[0m \u001b[43m        \u001b[49m\u001b[43mlimit\u001b[49m\u001b[38;5;241;43m=\u001b[39;49m\u001b[43mlimit\u001b[49m\u001b[43m,\u001b[49m\n\u001b[1;32m   5385\u001b[0m \u001b[43m        \u001b[49m\u001b[43mregex\u001b[49m\u001b[38;5;241;43m=\u001b[39;49m\u001b[43mregex\u001b[49m\u001b[43m,\u001b[49m\n\u001b[1;32m   5386\u001b[0m \u001b[43m        \u001b[49m\u001b[43mmethod\u001b[49m\u001b[38;5;241;43m=\u001b[39;49m\u001b[43mmethod\u001b[49m\u001b[43m,\u001b[49m\n\u001b[1;32m   5387\u001b[0m \u001b[43m    \u001b[49m\u001b[43m)\u001b[49m\n",
      "File \u001b[0;32m/opt/homebrew/lib/python3.9/site-packages/pandas/util/_decorators.py:331\u001b[0m, in \u001b[0;36mdeprecate_nonkeyword_arguments.<locals>.decorate.<locals>.wrapper\u001b[0;34m(*args, **kwargs)\u001b[0m\n\u001b[1;32m    325\u001b[0m \u001b[38;5;28;01mif\u001b[39;00m \u001b[38;5;28mlen\u001b[39m(args) \u001b[38;5;241m>\u001b[39m num_allow_args:\n\u001b[1;32m    326\u001b[0m     warnings\u001b[38;5;241m.\u001b[39mwarn(\n\u001b[1;32m    327\u001b[0m         msg\u001b[38;5;241m.\u001b[39mformat(arguments\u001b[38;5;241m=\u001b[39m_format_argument_list(allow_args)),\n\u001b[1;32m    328\u001b[0m         \u001b[38;5;167;01mFutureWarning\u001b[39;00m,\n\u001b[1;32m    329\u001b[0m         stacklevel\u001b[38;5;241m=\u001b[39mfind_stack_level(),\n\u001b[1;32m    330\u001b[0m     )\n\u001b[0;32m--> 331\u001b[0m \u001b[38;5;28;01mreturn\u001b[39;00m \u001b[43mfunc\u001b[49m\u001b[43m(\u001b[49m\u001b[38;5;241;43m*\u001b[39;49m\u001b[43margs\u001b[49m\u001b[43m,\u001b[49m\u001b[43m \u001b[49m\u001b[38;5;241;43m*\u001b[39;49m\u001b[38;5;241;43m*\u001b[39;49m\u001b[43mkwargs\u001b[49m\u001b[43m)\u001b[49m\n",
      "File \u001b[0;32m/opt/homebrew/lib/python3.9/site-packages/pandas/core/generic.py:7280\u001b[0m, in \u001b[0;36mNDFrame.replace\u001b[0;34m(self, to_replace, value, inplace, limit, regex, method)\u001b[0m\n\u001b[1;32m   7274\u001b[0m         new_data \u001b[38;5;241m=\u001b[39m \u001b[38;5;28mself\u001b[39m\u001b[38;5;241m.\u001b[39m_mgr\u001b[38;5;241m.\u001b[39mreplace_regex(\n\u001b[1;32m   7275\u001b[0m             to_replace\u001b[38;5;241m=\u001b[39mto_replace,\n\u001b[1;32m   7276\u001b[0m             value\u001b[38;5;241m=\u001b[39mvalue,\n\u001b[1;32m   7277\u001b[0m             inplace\u001b[38;5;241m=\u001b[39minplace,\n\u001b[1;32m   7278\u001b[0m         )\n\u001b[1;32m   7279\u001b[0m     \u001b[38;5;28;01melse\u001b[39;00m:\n\u001b[0;32m-> 7280\u001b[0m         new_data \u001b[38;5;241m=\u001b[39m \u001b[38;5;28;43mself\u001b[39;49m\u001b[38;5;241;43m.\u001b[39;49m\u001b[43m_mgr\u001b[49m\u001b[38;5;241;43m.\u001b[39;49m\u001b[43mreplace\u001b[49m\u001b[43m(\u001b[49m\n\u001b[1;32m   7281\u001b[0m \u001b[43m            \u001b[49m\u001b[43mto_replace\u001b[49m\u001b[38;5;241;43m=\u001b[39;49m\u001b[43mto_replace\u001b[49m\u001b[43m,\u001b[49m\u001b[43m \u001b[49m\u001b[43mvalue\u001b[49m\u001b[38;5;241;43m=\u001b[39;49m\u001b[43mvalue\u001b[49m\u001b[43m,\u001b[49m\u001b[43m \u001b[49m\u001b[43minplace\u001b[49m\u001b[38;5;241;43m=\u001b[39;49m\u001b[43minplace\u001b[49m\n\u001b[1;32m   7282\u001b[0m \u001b[43m        \u001b[49m\u001b[43m)\u001b[49m\n\u001b[1;32m   7283\u001b[0m \u001b[38;5;28;01melse\u001b[39;00m:\n\u001b[1;32m   7284\u001b[0m     \u001b[38;5;28;01mraise\u001b[39;00m \u001b[38;5;167;01mTypeError\u001b[39;00m(\n\u001b[1;32m   7285\u001b[0m         \u001b[38;5;124mf\u001b[39m\u001b[38;5;124m'\u001b[39m\u001b[38;5;124mInvalid \u001b[39m\u001b[38;5;124m\"\u001b[39m\u001b[38;5;124mto_replace\u001b[39m\u001b[38;5;124m\"\u001b[39m\u001b[38;5;124m type: \u001b[39m\u001b[38;5;132;01m{\u001b[39;00m\u001b[38;5;28mrepr\u001b[39m(\u001b[38;5;28mtype\u001b[39m(to_replace)\u001b[38;5;241m.\u001b[39m\u001b[38;5;18m__name__\u001b[39m)\u001b[38;5;132;01m}\u001b[39;00m\u001b[38;5;124m'\u001b[39m\n\u001b[1;32m   7286\u001b[0m     )\n",
      "File \u001b[0;32m/opt/homebrew/lib/python3.9/site-packages/pandas/core/internals/managers.py:467\u001b[0m, in \u001b[0;36mBaseBlockManager.replace\u001b[0;34m(self, to_replace, value, inplace)\u001b[0m\n\u001b[1;32m    465\u001b[0m \u001b[38;5;28;01massert\u001b[39;00m \u001b[38;5;129;01mnot\u001b[39;00m is_list_like(to_replace)\n\u001b[1;32m    466\u001b[0m \u001b[38;5;28;01massert\u001b[39;00m \u001b[38;5;129;01mnot\u001b[39;00m is_list_like(value)\n\u001b[0;32m--> 467\u001b[0m \u001b[38;5;28;01mreturn\u001b[39;00m \u001b[38;5;28;43mself\u001b[39;49m\u001b[38;5;241;43m.\u001b[39;49m\u001b[43mapply\u001b[49m\u001b[43m(\u001b[49m\n\u001b[1;32m    468\u001b[0m \u001b[43m    \u001b[49m\u001b[38;5;124;43m\"\u001b[39;49m\u001b[38;5;124;43mreplace\u001b[39;49m\u001b[38;5;124;43m\"\u001b[39;49m\u001b[43m,\u001b[49m\u001b[43m \u001b[49m\u001b[43mto_replace\u001b[49m\u001b[38;5;241;43m=\u001b[39;49m\u001b[43mto_replace\u001b[49m\u001b[43m,\u001b[49m\u001b[43m \u001b[49m\u001b[43mvalue\u001b[49m\u001b[38;5;241;43m=\u001b[39;49m\u001b[43mvalue\u001b[49m\u001b[43m,\u001b[49m\u001b[43m \u001b[49m\u001b[43minplace\u001b[49m\u001b[38;5;241;43m=\u001b[39;49m\u001b[43minplace\u001b[49m\n\u001b[1;32m    469\u001b[0m \u001b[43m\u001b[49m\u001b[43m)\u001b[49m\n",
      "File \u001b[0;32m/opt/homebrew/lib/python3.9/site-packages/pandas/core/internals/managers.py:347\u001b[0m, in \u001b[0;36mBaseBlockManager.apply\u001b[0;34m(self, f, align_keys, ignore_failures, **kwargs)\u001b[0m\n\u001b[1;32m    345\u001b[0m         applied \u001b[38;5;241m=\u001b[39m b\u001b[38;5;241m.\u001b[39mapply(f, \u001b[38;5;241m*\u001b[39m\u001b[38;5;241m*\u001b[39mkwargs)\n\u001b[1;32m    346\u001b[0m     \u001b[38;5;28;01melse\u001b[39;00m:\n\u001b[0;32m--> 347\u001b[0m         applied \u001b[38;5;241m=\u001b[39m \u001b[38;5;28;43mgetattr\u001b[39;49m\u001b[43m(\u001b[49m\u001b[43mb\u001b[49m\u001b[43m,\u001b[49m\u001b[43m \u001b[49m\u001b[43mf\u001b[49m\u001b[43m)\u001b[49m\u001b[43m(\u001b[49m\u001b[38;5;241;43m*\u001b[39;49m\u001b[38;5;241;43m*\u001b[39;49m\u001b[43mkwargs\u001b[49m\u001b[43m)\u001b[49m\n\u001b[1;32m    348\u001b[0m \u001b[38;5;28;01mexcept\u001b[39;00m (\u001b[38;5;167;01mTypeError\u001b[39;00m, \u001b[38;5;167;01mNotImplementedError\u001b[39;00m):\n\u001b[1;32m    349\u001b[0m     \u001b[38;5;28;01mif\u001b[39;00m \u001b[38;5;129;01mnot\u001b[39;00m ignore_failures:\n",
      "File \u001b[0;32m/opt/homebrew/lib/python3.9/site-packages/pandas/core/internals/blocks.py:601\u001b[0m, in \u001b[0;36mBlock.replace\u001b[0;34m(self, to_replace, value, inplace, mask)\u001b[0m\n\u001b[1;32m    599\u001b[0m \u001b[38;5;28;01melif\u001b[39;00m \u001b[38;5;28mself\u001b[39m\u001b[38;5;241m.\u001b[39m_can_hold_element(value):\n\u001b[1;32m    600\u001b[0m     blk \u001b[38;5;241m=\u001b[39m \u001b[38;5;28mself\u001b[39m \u001b[38;5;28;01mif\u001b[39;00m inplace \u001b[38;5;28;01melse\u001b[39;00m \u001b[38;5;28mself\u001b[39m\u001b[38;5;241m.\u001b[39mcopy()\n\u001b[0;32m--> 601\u001b[0m     \u001b[43mputmask_inplace\u001b[49m\u001b[43m(\u001b[49m\u001b[43mblk\u001b[49m\u001b[38;5;241;43m.\u001b[39;49m\u001b[43mvalues\u001b[49m\u001b[43m,\u001b[49m\u001b[43m \u001b[49m\u001b[43mmask\u001b[49m\u001b[43m,\u001b[49m\u001b[43m \u001b[49m\u001b[43mvalue\u001b[49m\u001b[43m)\u001b[49m\n\u001b[1;32m    602\u001b[0m     \u001b[38;5;28;01mif\u001b[39;00m \u001b[38;5;129;01mnot\u001b[39;00m (\u001b[38;5;28mself\u001b[39m\u001b[38;5;241m.\u001b[39mis_object \u001b[38;5;129;01mand\u001b[39;00m value \u001b[38;5;129;01mis\u001b[39;00m \u001b[38;5;28;01mNone\u001b[39;00m):\n\u001b[1;32m    603\u001b[0m         \u001b[38;5;66;03m# if the user *explicitly* gave None, we keep None, otherwise\u001b[39;00m\n\u001b[1;32m    604\u001b[0m         \u001b[38;5;66;03m#  may downcast to NaN\u001b[39;00m\n\u001b[1;32m    605\u001b[0m         blocks \u001b[38;5;241m=\u001b[39m blk\u001b[38;5;241m.\u001b[39mconvert(numeric\u001b[38;5;241m=\u001b[39m\u001b[38;5;28;01mFalse\u001b[39;00m, copy\u001b[38;5;241m=\u001b[39m\u001b[38;5;28;01mFalse\u001b[39;00m)\n",
      "File \u001b[0;32m/opt/homebrew/lib/python3.9/site-packages/pandas/core/array_algos/putmask.py:50\u001b[0m, in \u001b[0;36mputmask_inplace\u001b[0;34m(values, mask, value)\u001b[0m\n\u001b[1;32m     48\u001b[0m         values[mask] \u001b[38;5;241m=\u001b[39m value[mask]\n\u001b[1;32m     49\u001b[0m     \u001b[38;5;28;01melse\u001b[39;00m:\n\u001b[0;32m---> 50\u001b[0m         \u001b[43mvalues\u001b[49m\u001b[43m[\u001b[49m\u001b[43mmask\u001b[49m\u001b[43m]\u001b[49m \u001b[38;5;241m=\u001b[39m value\n\u001b[1;32m     51\u001b[0m \u001b[38;5;28;01melse\u001b[39;00m:\n\u001b[1;32m     52\u001b[0m     \u001b[38;5;66;03m# GH#37833 np.putmask is more performant than __setitem__\u001b[39;00m\n\u001b[1;32m     53\u001b[0m     np\u001b[38;5;241m.\u001b[39mputmask(values, mask, value)\n",
      "File \u001b[0;32m/opt/homebrew/lib/python3.9/site-packages/pandas/core/arrays/masked.py:232\u001b[0m, in \u001b[0;36mBaseMaskedArray.__setitem__\u001b[0;34m(self, key, value)\u001b[0m\n\u001b[1;32m    230\u001b[0m     \u001b[38;5;28mself\u001b[39m\u001b[38;5;241m.\u001b[39m_mask[key] \u001b[38;5;241m=\u001b[39m \u001b[38;5;28;01mTrue\u001b[39;00m\n\u001b[1;32m    231\u001b[0m \u001b[38;5;28;01melse\u001b[39;00m:\n\u001b[0;32m--> 232\u001b[0m     value \u001b[38;5;241m=\u001b[39m \u001b[38;5;28;43mself\u001b[39;49m\u001b[38;5;241;43m.\u001b[39;49m\u001b[43m_validate_setitem_value\u001b[49m\u001b[43m(\u001b[49m\u001b[43mvalue\u001b[49m\u001b[43m)\u001b[49m\n\u001b[1;32m    233\u001b[0m     \u001b[38;5;28mself\u001b[39m\u001b[38;5;241m.\u001b[39m_data[key] \u001b[38;5;241m=\u001b[39m value\n\u001b[1;32m    234\u001b[0m     \u001b[38;5;28mself\u001b[39m\u001b[38;5;241m.\u001b[39m_mask[key] \u001b[38;5;241m=\u001b[39m \u001b[38;5;28;01mFalse\u001b[39;00m\n",
      "File \u001b[0;32m/opt/homebrew/lib/python3.9/site-packages/pandas/core/arrays/masked.py:223\u001b[0m, in \u001b[0;36mBaseMaskedArray._validate_setitem_value\u001b[0;34m(self, value)\u001b[0m\n\u001b[1;32m    218\u001b[0m         \u001b[38;5;28;01mreturn\u001b[39;00m value\n\u001b[1;32m    219\u001b[0m     \u001b[38;5;66;03m# TODO: unsigned checks\u001b[39;00m\n\u001b[1;32m    220\u001b[0m \n\u001b[1;32m    221\u001b[0m \u001b[38;5;66;03m# Note: without the \"str\" here, the f-string rendering raises in\u001b[39;00m\n\u001b[1;32m    222\u001b[0m \u001b[38;5;66;03m#  py38 builds.\u001b[39;00m\n\u001b[0;32m--> 223\u001b[0m \u001b[38;5;28;01mraise\u001b[39;00m \u001b[38;5;167;01mTypeError\u001b[39;00m(\u001b[38;5;124mf\u001b[39m\u001b[38;5;124m\"\u001b[39m\u001b[38;5;124mInvalid value \u001b[39m\u001b[38;5;124m'\u001b[39m\u001b[38;5;132;01m{\u001b[39;00m\u001b[38;5;28mstr\u001b[39m(value)\u001b[38;5;132;01m}\u001b[39;00m\u001b[38;5;124m'\u001b[39m\u001b[38;5;124m for dtype \u001b[39m\u001b[38;5;132;01m{\u001b[39;00m\u001b[38;5;28mself\u001b[39m\u001b[38;5;241m.\u001b[39mdtype\u001b[38;5;132;01m}\u001b[39;00m\u001b[38;5;124m\"\u001b[39m)\n",
      "\u001b[0;31mTypeError\u001b[0m: Invalid value '0.05098923479778877' for dtype Int64"
     ]
    }
   ],
   "source": [
    "data['edu_8th_or_less'].replace(np.NaN, data['edu_8th_or_less'].mean())"
   ]
  },
  {
   "cell_type": "code",
   "execution_count": 49,
   "id": "663f8422",
   "metadata": {
    "execution": {
     "iopub.execute_input": "2023-05-10T02:23:04.731175Z",
     "iopub.status.busy": "2023-05-10T02:23:04.731060Z",
     "iopub.status.idle": "2023-05-10T02:23:05.085509Z",
     "shell.execute_reply": "2023-05-10T02:23:05.085170Z"
    }
   },
   "outputs": [
    {
     "ename": "TypeError",
     "evalue": "Invalid value '0' for dtype Int64",
     "output_type": "error",
     "traceback": [
      "\u001b[0;31m---------------------------------------------------------------------------\u001b[0m",
      "\u001b[0;31mTypeError\u001b[0m                                 Traceback (most recent call last)",
      "Cell \u001b[0;32mIn [49], line 1\u001b[0m\n\u001b[0;32m----> 1\u001b[0m \u001b[43mdata\u001b[49m\u001b[38;5;241;43m.\u001b[39;49m\u001b[43mfillna\u001b[49m\u001b[43m(\u001b[49m\u001b[38;5;124;43m'\u001b[39;49m\u001b[38;5;124;43m0\u001b[39;49m\u001b[38;5;124;43m'\u001b[39;49m\u001b[43m)\u001b[49m\n",
      "File \u001b[0;32m/opt/homebrew/lib/python3.9/site-packages/pandas/util/_decorators.py:331\u001b[0m, in \u001b[0;36mdeprecate_nonkeyword_arguments.<locals>.decorate.<locals>.wrapper\u001b[0;34m(*args, **kwargs)\u001b[0m\n\u001b[1;32m    325\u001b[0m \u001b[38;5;28;01mif\u001b[39;00m \u001b[38;5;28mlen\u001b[39m(args) \u001b[38;5;241m>\u001b[39m num_allow_args:\n\u001b[1;32m    326\u001b[0m     warnings\u001b[38;5;241m.\u001b[39mwarn(\n\u001b[1;32m    327\u001b[0m         msg\u001b[38;5;241m.\u001b[39mformat(arguments\u001b[38;5;241m=\u001b[39m_format_argument_list(allow_args)),\n\u001b[1;32m    328\u001b[0m         \u001b[38;5;167;01mFutureWarning\u001b[39;00m,\n\u001b[1;32m    329\u001b[0m         stacklevel\u001b[38;5;241m=\u001b[39mfind_stack_level(),\n\u001b[1;32m    330\u001b[0m     )\n\u001b[0;32m--> 331\u001b[0m \u001b[38;5;28;01mreturn\u001b[39;00m \u001b[43mfunc\u001b[49m\u001b[43m(\u001b[49m\u001b[38;5;241;43m*\u001b[39;49m\u001b[43margs\u001b[49m\u001b[43m,\u001b[49m\u001b[43m \u001b[49m\u001b[38;5;241;43m*\u001b[39;49m\u001b[38;5;241;43m*\u001b[39;49m\u001b[43mkwargs\u001b[49m\u001b[43m)\u001b[49m\n",
      "File \u001b[0;32m/opt/homebrew/lib/python3.9/site-packages/pandas/core/frame.py:5624\u001b[0m, in \u001b[0;36mDataFrame.fillna\u001b[0;34m(self, value, method, axis, inplace, limit, downcast)\u001b[0m\n\u001b[1;32m   5613\u001b[0m \u001b[38;5;129m@deprecate_nonkeyword_arguments\u001b[39m(version\u001b[38;5;241m=\u001b[39m\u001b[38;5;28;01mNone\u001b[39;00m, allowed_args\u001b[38;5;241m=\u001b[39m[\u001b[38;5;124m\"\u001b[39m\u001b[38;5;124mself\u001b[39m\u001b[38;5;124m\"\u001b[39m, \u001b[38;5;124m\"\u001b[39m\u001b[38;5;124mvalue\u001b[39m\u001b[38;5;124m\"\u001b[39m])\n\u001b[1;32m   5614\u001b[0m \u001b[38;5;129m@doc\u001b[39m(NDFrame\u001b[38;5;241m.\u001b[39mfillna, \u001b[38;5;241m*\u001b[39m\u001b[38;5;241m*\u001b[39m_shared_doc_kwargs)\n\u001b[1;32m   5615\u001b[0m \u001b[38;5;28;01mdef\u001b[39;00m \u001b[38;5;21mfillna\u001b[39m(  \u001b[38;5;66;03m# type: ignore[override]\u001b[39;00m\n\u001b[0;32m   (...)\u001b[0m\n\u001b[1;32m   5622\u001b[0m     downcast: \u001b[38;5;28mdict\u001b[39m \u001b[38;5;241m|\u001b[39m \u001b[38;5;28;01mNone\u001b[39;00m \u001b[38;5;241m=\u001b[39m \u001b[38;5;28;01mNone\u001b[39;00m,\n\u001b[1;32m   5623\u001b[0m ) \u001b[38;5;241m-\u001b[39m\u001b[38;5;241m>\u001b[39m DataFrame \u001b[38;5;241m|\u001b[39m \u001b[38;5;28;01mNone\u001b[39;00m:\n\u001b[0;32m-> 5624\u001b[0m     \u001b[38;5;28;01mreturn\u001b[39;00m \u001b[38;5;28;43msuper\u001b[39;49m\u001b[43m(\u001b[49m\u001b[43m)\u001b[49m\u001b[38;5;241;43m.\u001b[39;49m\u001b[43mfillna\u001b[49m\u001b[43m(\u001b[49m\n\u001b[1;32m   5625\u001b[0m \u001b[43m        \u001b[49m\u001b[43mvalue\u001b[49m\u001b[38;5;241;43m=\u001b[39;49m\u001b[43mvalue\u001b[49m\u001b[43m,\u001b[49m\n\u001b[1;32m   5626\u001b[0m \u001b[43m        \u001b[49m\u001b[43mmethod\u001b[49m\u001b[38;5;241;43m=\u001b[39;49m\u001b[43mmethod\u001b[49m\u001b[43m,\u001b[49m\n\u001b[1;32m   5627\u001b[0m \u001b[43m        \u001b[49m\u001b[43maxis\u001b[49m\u001b[38;5;241;43m=\u001b[39;49m\u001b[43maxis\u001b[49m\u001b[43m,\u001b[49m\n\u001b[1;32m   5628\u001b[0m \u001b[43m        \u001b[49m\u001b[43minplace\u001b[49m\u001b[38;5;241;43m=\u001b[39;49m\u001b[43minplace\u001b[49m\u001b[43m,\u001b[49m\n\u001b[1;32m   5629\u001b[0m \u001b[43m        \u001b[49m\u001b[43mlimit\u001b[49m\u001b[38;5;241;43m=\u001b[39;49m\u001b[43mlimit\u001b[49m\u001b[43m,\u001b[49m\n\u001b[1;32m   5630\u001b[0m \u001b[43m        \u001b[49m\u001b[43mdowncast\u001b[49m\u001b[38;5;241;43m=\u001b[39;49m\u001b[43mdowncast\u001b[49m\u001b[43m,\u001b[49m\n\u001b[1;32m   5631\u001b[0m \u001b[43m    \u001b[49m\u001b[43m)\u001b[49m\n",
      "File \u001b[0;32m/opt/homebrew/lib/python3.9/site-packages/pandas/core/generic.py:6922\u001b[0m, in \u001b[0;36mNDFrame.fillna\u001b[0;34m(self, value, method, axis, inplace, limit, downcast)\u001b[0m\n\u001b[1;32m   6919\u001b[0m         new_data \u001b[38;5;241m=\u001b[39m result  \u001b[38;5;66;03m# type: ignore[assignment]\u001b[39;00m\n\u001b[1;32m   6920\u001b[0m     \u001b[38;5;28;01melse\u001b[39;00m:\n\u001b[0;32m-> 6922\u001b[0m         new_data \u001b[38;5;241m=\u001b[39m \u001b[38;5;28;43mself\u001b[39;49m\u001b[38;5;241;43m.\u001b[39;49m\u001b[43m_mgr\u001b[49m\u001b[38;5;241;43m.\u001b[39;49m\u001b[43mfillna\u001b[49m\u001b[43m(\u001b[49m\n\u001b[1;32m   6923\u001b[0m \u001b[43m            \u001b[49m\u001b[43mvalue\u001b[49m\u001b[38;5;241;43m=\u001b[39;49m\u001b[43mvalue\u001b[49m\u001b[43m,\u001b[49m\u001b[43m \u001b[49m\u001b[43mlimit\u001b[49m\u001b[38;5;241;43m=\u001b[39;49m\u001b[43mlimit\u001b[49m\u001b[43m,\u001b[49m\u001b[43m \u001b[49m\u001b[43minplace\u001b[49m\u001b[38;5;241;43m=\u001b[39;49m\u001b[43minplace\u001b[49m\u001b[43m,\u001b[49m\u001b[43m \u001b[49m\u001b[43mdowncast\u001b[49m\u001b[38;5;241;43m=\u001b[39;49m\u001b[43mdowncast\u001b[49m\n\u001b[1;32m   6924\u001b[0m \u001b[43m        \u001b[49m\u001b[43m)\u001b[49m\n\u001b[1;32m   6925\u001b[0m \u001b[38;5;28;01melif\u001b[39;00m \u001b[38;5;28misinstance\u001b[39m(value, ABCDataFrame) \u001b[38;5;129;01mand\u001b[39;00m \u001b[38;5;28mself\u001b[39m\u001b[38;5;241m.\u001b[39mndim \u001b[38;5;241m==\u001b[39m \u001b[38;5;241m2\u001b[39m:\n\u001b[1;32m   6927\u001b[0m     new_data \u001b[38;5;241m=\u001b[39m \u001b[38;5;28mself\u001b[39m\u001b[38;5;241m.\u001b[39mwhere(\u001b[38;5;28mself\u001b[39m\u001b[38;5;241m.\u001b[39mnotna(), value)\u001b[38;5;241m.\u001b[39m_mgr\n",
      "File \u001b[0;32m/opt/homebrew/lib/python3.9/site-packages/pandas/core/internals/managers.py:440\u001b[0m, in \u001b[0;36mBaseBlockManager.fillna\u001b[0;34m(self, value, limit, inplace, downcast)\u001b[0m\n\u001b[1;32m    435\u001b[0m     \u001b[38;5;28;01mif\u001b[39;00m _using_copy_on_write() \u001b[38;5;129;01mand\u001b[39;00m \u001b[38;5;28many\u001b[39m(\n\u001b[1;32m    436\u001b[0m         \u001b[38;5;129;01mnot\u001b[39;00m \u001b[38;5;28mself\u001b[39m\u001b[38;5;241m.\u001b[39m_has_no_reference_block(i) \u001b[38;5;28;01mfor\u001b[39;00m i \u001b[38;5;129;01min\u001b[39;00m \u001b[38;5;28mrange\u001b[39m(\u001b[38;5;28mlen\u001b[39m(\u001b[38;5;28mself\u001b[39m\u001b[38;5;241m.\u001b[39mblocks))\n\u001b[1;32m    437\u001b[0m     ):\n\u001b[1;32m    438\u001b[0m         \u001b[38;5;28mself\u001b[39m \u001b[38;5;241m=\u001b[39m \u001b[38;5;28mself\u001b[39m\u001b[38;5;241m.\u001b[39mcopy()\n\u001b[0;32m--> 440\u001b[0m \u001b[38;5;28;01mreturn\u001b[39;00m \u001b[38;5;28;43mself\u001b[39;49m\u001b[38;5;241;43m.\u001b[39;49m\u001b[43mapply\u001b[49m\u001b[43m(\u001b[49m\n\u001b[1;32m    441\u001b[0m \u001b[43m    \u001b[49m\u001b[38;5;124;43m\"\u001b[39;49m\u001b[38;5;124;43mfillna\u001b[39;49m\u001b[38;5;124;43m\"\u001b[39;49m\u001b[43m,\u001b[49m\u001b[43m \u001b[49m\u001b[43mvalue\u001b[49m\u001b[38;5;241;43m=\u001b[39;49m\u001b[43mvalue\u001b[49m\u001b[43m,\u001b[49m\u001b[43m \u001b[49m\u001b[43mlimit\u001b[49m\u001b[38;5;241;43m=\u001b[39;49m\u001b[43mlimit\u001b[49m\u001b[43m,\u001b[49m\u001b[43m \u001b[49m\u001b[43minplace\u001b[49m\u001b[38;5;241;43m=\u001b[39;49m\u001b[43minplace\u001b[49m\u001b[43m,\u001b[49m\u001b[43m \u001b[49m\u001b[43mdowncast\u001b[49m\u001b[38;5;241;43m=\u001b[39;49m\u001b[43mdowncast\u001b[49m\n\u001b[1;32m    442\u001b[0m \u001b[43m\u001b[49m\u001b[43m)\u001b[49m\n",
      "File \u001b[0;32m/opt/homebrew/lib/python3.9/site-packages/pandas/core/internals/managers.py:347\u001b[0m, in \u001b[0;36mBaseBlockManager.apply\u001b[0;34m(self, f, align_keys, ignore_failures, **kwargs)\u001b[0m\n\u001b[1;32m    345\u001b[0m         applied \u001b[38;5;241m=\u001b[39m b\u001b[38;5;241m.\u001b[39mapply(f, \u001b[38;5;241m*\u001b[39m\u001b[38;5;241m*\u001b[39mkwargs)\n\u001b[1;32m    346\u001b[0m     \u001b[38;5;28;01melse\u001b[39;00m:\n\u001b[0;32m--> 347\u001b[0m         applied \u001b[38;5;241m=\u001b[39m \u001b[38;5;28;43mgetattr\u001b[39;49m\u001b[43m(\u001b[49m\u001b[43mb\u001b[49m\u001b[43m,\u001b[49m\u001b[43m \u001b[49m\u001b[43mf\u001b[49m\u001b[43m)\u001b[49m\u001b[43m(\u001b[49m\u001b[38;5;241;43m*\u001b[39;49m\u001b[38;5;241;43m*\u001b[39;49m\u001b[43mkwargs\u001b[49m\u001b[43m)\u001b[49m\n\u001b[1;32m    348\u001b[0m \u001b[38;5;28;01mexcept\u001b[39;00m (\u001b[38;5;167;01mTypeError\u001b[39;00m, \u001b[38;5;167;01mNotImplementedError\u001b[39;00m):\n\u001b[1;32m    349\u001b[0m     \u001b[38;5;28;01mif\u001b[39;00m \u001b[38;5;129;01mnot\u001b[39;00m ignore_failures:\n",
      "File \u001b[0;32m/opt/homebrew/lib/python3.9/site-packages/pandas/core/internals/blocks.py:1584\u001b[0m, in \u001b[0;36mEABackedBlock.fillna\u001b[0;34m(self, value, limit, inplace, downcast)\u001b[0m\n\u001b[1;32m   1579\u001b[0m         \u001b[38;5;28;01mreturn\u001b[39;00m [res_blk]\n\u001b[1;32m   1581\u001b[0m \u001b[38;5;66;03m# TODO: since this now dispatches to super, which in turn dispatches\u001b[39;00m\n\u001b[1;32m   1582\u001b[0m \u001b[38;5;66;03m#  to putmask, it may *actually* respect 'inplace=True'. If so, add\u001b[39;00m\n\u001b[1;32m   1583\u001b[0m \u001b[38;5;66;03m#  tests for this.\u001b[39;00m\n\u001b[0;32m-> 1584\u001b[0m \u001b[38;5;28;01mreturn\u001b[39;00m \u001b[38;5;28;43msuper\u001b[39;49m\u001b[43m(\u001b[49m\u001b[43m)\u001b[49m\u001b[38;5;241;43m.\u001b[39;49m\u001b[43mfillna\u001b[49m\u001b[43m(\u001b[49m\u001b[43mvalue\u001b[49m\u001b[43m,\u001b[49m\u001b[43m \u001b[49m\u001b[43mlimit\u001b[49m\u001b[38;5;241;43m=\u001b[39;49m\u001b[43mlimit\u001b[49m\u001b[43m,\u001b[49m\u001b[43m \u001b[49m\u001b[43minplace\u001b[49m\u001b[38;5;241;43m=\u001b[39;49m\u001b[43minplace\u001b[49m\u001b[43m,\u001b[49m\u001b[43m \u001b[49m\u001b[43mdowncast\u001b[49m\u001b[38;5;241;43m=\u001b[39;49m\u001b[43mdowncast\u001b[49m\u001b[43m)\u001b[49m\n",
      "File \u001b[0;32m/opt/homebrew/lib/python3.9/site-packages/pandas/core/internals/blocks.py:1198\u001b[0m, in \u001b[0;36mBlock.fillna\u001b[0;34m(self, value, limit, inplace, downcast)\u001b[0m\n\u001b[1;32m   1194\u001b[0m     nbs \u001b[38;5;241m=\u001b[39m \u001b[38;5;28mself\u001b[39m\u001b[38;5;241m.\u001b[39mputmask(mask\u001b[38;5;241m.\u001b[39mT, value)\n\u001b[1;32m   1195\u001b[0m \u001b[38;5;28;01melse\u001b[39;00m:\n\u001b[1;32m   1196\u001b[0m     \u001b[38;5;66;03m# without _downcast, we would break\u001b[39;00m\n\u001b[1;32m   1197\u001b[0m     \u001b[38;5;66;03m#  test_fillna_dtype_conversion_equiv_replace\u001b[39;00m\n\u001b[0;32m-> 1198\u001b[0m     nbs \u001b[38;5;241m=\u001b[39m \u001b[38;5;28;43mself\u001b[39;49m\u001b[38;5;241;43m.\u001b[39;49m\u001b[43mwhere\u001b[49m\u001b[43m(\u001b[49m\u001b[43mvalue\u001b[49m\u001b[43m,\u001b[49m\u001b[43m \u001b[49m\u001b[38;5;241;43m~\u001b[39;49m\u001b[43mmask\u001b[49m\u001b[38;5;241;43m.\u001b[39;49m\u001b[43mT\u001b[49m\u001b[43m,\u001b[49m\u001b[43m \u001b[49m\u001b[43m_downcast\u001b[49m\u001b[38;5;241;43m=\u001b[39;49m\u001b[38;5;28;43;01mFalse\u001b[39;49;00m\u001b[43m)\u001b[49m\n\u001b[1;32m   1200\u001b[0m \u001b[38;5;66;03m# Note: blk._maybe_downcast vs self._maybe_downcast(nbs)\u001b[39;00m\n\u001b[1;32m   1201\u001b[0m \u001b[38;5;66;03m#  makes a difference bc blk may have object dtype, which has\u001b[39;00m\n\u001b[1;32m   1202\u001b[0m \u001b[38;5;66;03m#  different behavior in _maybe_downcast.\u001b[39;00m\n\u001b[1;32m   1203\u001b[0m \u001b[38;5;28;01mreturn\u001b[39;00m extend_blocks(\n\u001b[1;32m   1204\u001b[0m     [blk\u001b[38;5;241m.\u001b[39m_maybe_downcast([blk], downcast\u001b[38;5;241m=\u001b[39mdowncast) \u001b[38;5;28;01mfor\u001b[39;00m blk \u001b[38;5;129;01min\u001b[39;00m nbs]\n\u001b[1;32m   1205\u001b[0m )\n",
      "File \u001b[0;32m/opt/homebrew/lib/python3.9/site-packages/pandas/core/internals/blocks.py:1455\u001b[0m, in \u001b[0;36mEABackedBlock.where\u001b[0;34m(self, other, cond, _downcast)\u001b[0m\n\u001b[1;32m   1452\u001b[0m     \u001b[38;5;28;01mreturn\u001b[39;00m [\u001b[38;5;28mself\u001b[39m\u001b[38;5;241m.\u001b[39mcopy()]\n\u001b[1;32m   1454\u001b[0m \u001b[38;5;28;01mtry\u001b[39;00m:\n\u001b[0;32m-> 1455\u001b[0m     res_values \u001b[38;5;241m=\u001b[39m \u001b[43marr\u001b[49m\u001b[38;5;241;43m.\u001b[39;49m\u001b[43m_where\u001b[49m\u001b[43m(\u001b[49m\u001b[43mcond\u001b[49m\u001b[43m,\u001b[49m\u001b[43m \u001b[49m\u001b[43mother\u001b[49m\u001b[43m)\u001b[49m\u001b[38;5;241m.\u001b[39mT\n\u001b[1;32m   1456\u001b[0m \u001b[38;5;28;01mexcept\u001b[39;00m (\u001b[38;5;167;01mValueError\u001b[39;00m, \u001b[38;5;167;01mTypeError\u001b[39;00m) \u001b[38;5;28;01mas\u001b[39;00m err:\n\u001b[1;32m   1457\u001b[0m     _catch_deprecated_value_error(err)\n",
      "File \u001b[0;32m/opt/homebrew/lib/python3.9/site-packages/pandas/core/arrays/base.py:1547\u001b[0m, in \u001b[0;36mExtensionArray._where\u001b[0;34m(self, mask, value)\u001b[0m\n\u001b[1;32m   1544\u001b[0m \u001b[38;5;28;01melse\u001b[39;00m:\n\u001b[1;32m   1545\u001b[0m     val \u001b[38;5;241m=\u001b[39m value\n\u001b[0;32m-> 1547\u001b[0m \u001b[43mresult\u001b[49m\u001b[43m[\u001b[49m\u001b[38;5;241;43m~\u001b[39;49m\u001b[43mmask\u001b[49m\u001b[43m]\u001b[49m \u001b[38;5;241m=\u001b[39m val\n\u001b[1;32m   1548\u001b[0m \u001b[38;5;28;01mreturn\u001b[39;00m result\n",
      "File \u001b[0;32m/opt/homebrew/lib/python3.9/site-packages/pandas/core/arrays/masked.py:232\u001b[0m, in \u001b[0;36mBaseMaskedArray.__setitem__\u001b[0;34m(self, key, value)\u001b[0m\n\u001b[1;32m    230\u001b[0m     \u001b[38;5;28mself\u001b[39m\u001b[38;5;241m.\u001b[39m_mask[key] \u001b[38;5;241m=\u001b[39m \u001b[38;5;28;01mTrue\u001b[39;00m\n\u001b[1;32m    231\u001b[0m \u001b[38;5;28;01melse\u001b[39;00m:\n\u001b[0;32m--> 232\u001b[0m     value \u001b[38;5;241m=\u001b[39m \u001b[38;5;28;43mself\u001b[39;49m\u001b[38;5;241;43m.\u001b[39;49m\u001b[43m_validate_setitem_value\u001b[49m\u001b[43m(\u001b[49m\u001b[43mvalue\u001b[49m\u001b[43m)\u001b[49m\n\u001b[1;32m    233\u001b[0m     \u001b[38;5;28mself\u001b[39m\u001b[38;5;241m.\u001b[39m_data[key] \u001b[38;5;241m=\u001b[39m value\n\u001b[1;32m    234\u001b[0m     \u001b[38;5;28mself\u001b[39m\u001b[38;5;241m.\u001b[39m_mask[key] \u001b[38;5;241m=\u001b[39m \u001b[38;5;28;01mFalse\u001b[39;00m\n",
      "File \u001b[0;32m/opt/homebrew/lib/python3.9/site-packages/pandas/core/arrays/masked.py:223\u001b[0m, in \u001b[0;36mBaseMaskedArray._validate_setitem_value\u001b[0;34m(self, value)\u001b[0m\n\u001b[1;32m    218\u001b[0m         \u001b[38;5;28;01mreturn\u001b[39;00m value\n\u001b[1;32m    219\u001b[0m     \u001b[38;5;66;03m# TODO: unsigned checks\u001b[39;00m\n\u001b[1;32m    220\u001b[0m \n\u001b[1;32m    221\u001b[0m \u001b[38;5;66;03m# Note: without the \"str\" here, the f-string rendering raises in\u001b[39;00m\n\u001b[1;32m    222\u001b[0m \u001b[38;5;66;03m#  py38 builds.\u001b[39;00m\n\u001b[0;32m--> 223\u001b[0m \u001b[38;5;28;01mraise\u001b[39;00m \u001b[38;5;167;01mTypeError\u001b[39;00m(\u001b[38;5;124mf\u001b[39m\u001b[38;5;124m\"\u001b[39m\u001b[38;5;124mInvalid value \u001b[39m\u001b[38;5;124m'\u001b[39m\u001b[38;5;132;01m{\u001b[39;00m\u001b[38;5;28mstr\u001b[39m(value)\u001b[38;5;132;01m}\u001b[39;00m\u001b[38;5;124m'\u001b[39m\u001b[38;5;124m for dtype \u001b[39m\u001b[38;5;132;01m{\u001b[39;00m\u001b[38;5;28mself\u001b[39m\u001b[38;5;241m.\u001b[39mdtype\u001b[38;5;132;01m}\u001b[39;00m\u001b[38;5;124m\"\u001b[39m)\n",
      "\u001b[0;31mTypeError\u001b[0m: Invalid value '0' for dtype Int64"
     ]
    }
   ],
   "source": [
    "data.fillna('0')"
   ]
  },
  {
   "cell_type": "code",
   "execution_count": 50,
   "id": "fc526ddc",
   "metadata": {
    "execution": {
     "iopub.execute_input": "2023-05-10T02:23:05.087096Z",
     "iopub.status.busy": "2023-05-10T02:23:05.086992Z",
     "iopub.status.idle": "2023-05-10T02:23:05.105915Z",
     "shell.execute_reply": "2023-05-10T02:23:05.105632Z"
    }
   },
   "outputs": [
    {
     "data": {
      "text/html": [
       "<div>\n",
       "<style scoped>\n",
       "    .dataframe tbody tr th:only-of-type {\n",
       "        vertical-align: middle;\n",
       "    }\n",
       "\n",
       "    .dataframe tbody tr th {\n",
       "        vertical-align: top;\n",
       "    }\n",
       "\n",
       "    .dataframe thead th {\n",
       "        text-align: right;\n",
       "    }\n",
       "</style>\n",
       "<table border=\"1\" class=\"dataframe\">\n",
       "  <thead>\n",
       "    <tr style=\"text-align: right;\">\n",
       "      <th></th>\n",
       "      <th>uu_id</th>\n",
       "      <th>timeperiod</th>\n",
       "      <th>week_number</th>\n",
       "      <th>countyfips</th>\n",
       "      <th>tract</th>\n",
       "      <th>tract_name</th>\n",
       "      <th>total_claims</th>\n",
       "      <th>edu_8th_or_less</th>\n",
       "      <th>edu_grades_9_11</th>\n",
       "      <th>edu_hs_grad_equiv</th>\n",
       "      <th>...</th>\n",
       "      <th>gender_female</th>\n",
       "      <th>gender_male</th>\n",
       "      <th>gender_na</th>\n",
       "      <th>race_amerindian</th>\n",
       "      <th>race_asian</th>\n",
       "      <th>race_black</th>\n",
       "      <th>race_noanswer</th>\n",
       "      <th>race_hawaiiannative</th>\n",
       "      <th>race_other</th>\n",
       "      <th>race_white</th>\n",
       "    </tr>\n",
       "  </thead>\n",
       "  <tbody>\n",
       "    <tr>\n",
       "      <th>0</th>\n",
       "      <td>f013068de98db1470bd986137a0c6d23</td>\n",
       "      <td>20220416</td>\n",
       "      <td>16</td>\n",
       "      <td>18003</td>\n",
       "      <td>900</td>\n",
       "      <td>Census Tract 9, Allen County, Indiana</td>\n",
       "      <td>22</td>\n",
       "      <td>0</td>\n",
       "      <td>0</td>\n",
       "      <td>14</td>\n",
       "      <td>...</td>\n",
       "      <td>0</td>\n",
       "      <td>0</td>\n",
       "      <td>0</td>\n",
       "      <td>0</td>\n",
       "      <td>0</td>\n",
       "      <td>11</td>\n",
       "      <td>0</td>\n",
       "      <td>0</td>\n",
       "      <td>0</td>\n",
       "      <td>0</td>\n",
       "    </tr>\n",
       "    <tr>\n",
       "      <th>1</th>\n",
       "      <td>21957d5517323845818d87623589e1ba</td>\n",
       "      <td>20220319</td>\n",
       "      <td>12</td>\n",
       "      <td>18089</td>\n",
       "      <td>10400</td>\n",
       "      <td>Census Tract 104, Lake County, Indiana</td>\n",
       "      <td>111</td>\n",
       "      <td>0</td>\n",
       "      <td>0</td>\n",
       "      <td>108</td>\n",
       "      <td>...</td>\n",
       "      <td>76</td>\n",
       "      <td>35</td>\n",
       "      <td>0</td>\n",
       "      <td>0</td>\n",
       "      <td>0</td>\n",
       "      <td>0</td>\n",
       "      <td>0</td>\n",
       "      <td>0</td>\n",
       "      <td>0</td>\n",
       "      <td>0</td>\n",
       "    </tr>\n",
       "    <tr>\n",
       "      <th>2</th>\n",
       "      <td>6a5609f385912113b6f1014b958ed748</td>\n",
       "      <td>20220326</td>\n",
       "      <td>13</td>\n",
       "      <td>18089</td>\n",
       "      <td>11500</td>\n",
       "      <td>Census Tract 115, Lake County, Indiana</td>\n",
       "      <td>39</td>\n",
       "      <td>0</td>\n",
       "      <td>0</td>\n",
       "      <td>0</td>\n",
       "      <td>...</td>\n",
       "      <td>0</td>\n",
       "      <td>0</td>\n",
       "      <td>0</td>\n",
       "      <td>0</td>\n",
       "      <td>0</td>\n",
       "      <td>39</td>\n",
       "      <td>0</td>\n",
       "      <td>0</td>\n",
       "      <td>0</td>\n",
       "      <td>0</td>\n",
       "    </tr>\n",
       "    <tr>\n",
       "      <th>3</th>\n",
       "      <td>46b2882ec4c373527ec33f7bd4f1388d</td>\n",
       "      <td>20220716</td>\n",
       "      <td>29</td>\n",
       "      <td>18089</td>\n",
       "      <td>20700</td>\n",
       "      <td>Census Tract 207, Lake County, Indiana</td>\n",
       "      <td>14</td>\n",
       "      <td>0</td>\n",
       "      <td>0</td>\n",
       "      <td>0</td>\n",
       "      <td>...</td>\n",
       "      <td>0</td>\n",
       "      <td>0</td>\n",
       "      <td>0</td>\n",
       "      <td>0</td>\n",
       "      <td>0</td>\n",
       "      <td>10</td>\n",
       "      <td>0</td>\n",
       "      <td>0</td>\n",
       "      <td>0</td>\n",
       "      <td>0</td>\n",
       "    </tr>\n",
       "    <tr>\n",
       "      <th>4</th>\n",
       "      <td>37495d17e82f7df326bfc2c4c090f7b7</td>\n",
       "      <td>20220409</td>\n",
       "      <td>15</td>\n",
       "      <td>18089</td>\n",
       "      <td>21900</td>\n",
       "      <td>Census Tract 219, Lake County, Indiana</td>\n",
       "      <td>155</td>\n",
       "      <td>0</td>\n",
       "      <td>0</td>\n",
       "      <td>69</td>\n",
       "      <td>...</td>\n",
       "      <td>90</td>\n",
       "      <td>65</td>\n",
       "      <td>0</td>\n",
       "      <td>0</td>\n",
       "      <td>0</td>\n",
       "      <td>135</td>\n",
       "      <td>0</td>\n",
       "      <td>0</td>\n",
       "      <td>0</td>\n",
       "      <td>0</td>\n",
       "    </tr>\n",
       "    <tr>\n",
       "      <th>...</th>\n",
       "      <td>...</td>\n",
       "      <td>...</td>\n",
       "      <td>...</td>\n",
       "      <td>...</td>\n",
       "      <td>...</td>\n",
       "      <td>...</td>\n",
       "      <td>...</td>\n",
       "      <td>...</td>\n",
       "      <td>...</td>\n",
       "      <td>...</td>\n",
       "      <td>...</td>\n",
       "      <td>...</td>\n",
       "      <td>...</td>\n",
       "      <td>...</td>\n",
       "      <td>...</td>\n",
       "      <td>...</td>\n",
       "      <td>...</td>\n",
       "      <td>...</td>\n",
       "      <td>...</td>\n",
       "      <td>...</td>\n",
       "      <td>...</td>\n",
       "    </tr>\n",
       "    <tr>\n",
       "      <th>16828</th>\n",
       "      <td>f35320206f3dd1ffc411e4ac127caf92</td>\n",
       "      <td>20220618</td>\n",
       "      <td>25</td>\n",
       "      <td>18163</td>\n",
       "      <td>3804</td>\n",
       "      <td>Census Tract 38.04, Vanderburgh County, Indiana</td>\n",
       "      <td>21</td>\n",
       "      <td>0</td>\n",
       "      <td>0</td>\n",
       "      <td>0</td>\n",
       "      <td>...</td>\n",
       "      <td>0</td>\n",
       "      <td>0</td>\n",
       "      <td>0</td>\n",
       "      <td>0</td>\n",
       "      <td>0</td>\n",
       "      <td>0</td>\n",
       "      <td>0</td>\n",
       "      <td>0</td>\n",
       "      <td>0</td>\n",
       "      <td>14</td>\n",
       "    </tr>\n",
       "    <tr>\n",
       "      <th>16829</th>\n",
       "      <td>f35320206f3dd1ffc411e4ac127caf92</td>\n",
       "      <td>20220827</td>\n",
       "      <td>35</td>\n",
       "      <td>18163</td>\n",
       "      <td>3804</td>\n",
       "      <td>Census Tract 38.04, Vanderburgh County, Indiana</td>\n",
       "      <td>22</td>\n",
       "      <td>0</td>\n",
       "      <td>0</td>\n",
       "      <td>13</td>\n",
       "      <td>...</td>\n",
       "      <td>0</td>\n",
       "      <td>0</td>\n",
       "      <td>0</td>\n",
       "      <td>0</td>\n",
       "      <td>0</td>\n",
       "      <td>0</td>\n",
       "      <td>0</td>\n",
       "      <td>0</td>\n",
       "      <td>0</td>\n",
       "      <td>0</td>\n",
       "    </tr>\n",
       "    <tr>\n",
       "      <th>16830</th>\n",
       "      <td>f35320206f3dd1ffc411e4ac127caf92</td>\n",
       "      <td>20220827</td>\n",
       "      <td>35</td>\n",
       "      <td>18163</td>\n",
       "      <td>3804</td>\n",
       "      <td>Census Tract 38.04, Vanderburgh County, Indiana</td>\n",
       "      <td>22</td>\n",
       "      <td>0</td>\n",
       "      <td>0</td>\n",
       "      <td>13</td>\n",
       "      <td>...</td>\n",
       "      <td>0</td>\n",
       "      <td>0</td>\n",
       "      <td>0</td>\n",
       "      <td>0</td>\n",
       "      <td>0</td>\n",
       "      <td>0</td>\n",
       "      <td>0</td>\n",
       "      <td>0</td>\n",
       "      <td>0</td>\n",
       "      <td>0</td>\n",
       "    </tr>\n",
       "    <tr>\n",
       "      <th>16831</th>\n",
       "      <td>bbcb018f0e5e49e13636f6e78ce9f60f</td>\n",
       "      <td>20220326</td>\n",
       "      <td>13</td>\n",
       "      <td>18163</td>\n",
       "      <td>10203</td>\n",
       "      <td>Census Tract 102.03, Vanderburgh County, Indiana</td>\n",
       "      <td>53</td>\n",
       "      <td>0</td>\n",
       "      <td>0</td>\n",
       "      <td>48</td>\n",
       "      <td>...</td>\n",
       "      <td>0</td>\n",
       "      <td>0</td>\n",
       "      <td>0</td>\n",
       "      <td>0</td>\n",
       "      <td>0</td>\n",
       "      <td>0</td>\n",
       "      <td>0</td>\n",
       "      <td>0</td>\n",
       "      <td>0</td>\n",
       "      <td>0</td>\n",
       "    </tr>\n",
       "    <tr>\n",
       "      <th>16832</th>\n",
       "      <td>bbcb018f0e5e49e13636f6e78ce9f60f</td>\n",
       "      <td>20220416</td>\n",
       "      <td>16</td>\n",
       "      <td>18163</td>\n",
       "      <td>10203</td>\n",
       "      <td>Census Tract 102.03, Vanderburgh County, Indiana</td>\n",
       "      <td>24</td>\n",
       "      <td>0</td>\n",
       "      <td>0</td>\n",
       "      <td>18</td>\n",
       "      <td>...</td>\n",
       "      <td>11</td>\n",
       "      <td>13</td>\n",
       "      <td>0</td>\n",
       "      <td>0</td>\n",
       "      <td>0</td>\n",
       "      <td>0</td>\n",
       "      <td>0</td>\n",
       "      <td>0</td>\n",
       "      <td>0</td>\n",
       "      <td>0</td>\n",
       "    </tr>\n",
       "  </tbody>\n",
       "</table>\n",
       "<p>16833 rows × 25 columns</p>\n",
       "</div>"
      ],
      "text/plain": [
       "                                  uu_id  timeperiod  week_number  countyfips  \\\n",
       "0      f013068de98db1470bd986137a0c6d23    20220416           16       18003   \n",
       "1      21957d5517323845818d87623589e1ba    20220319           12       18089   \n",
       "2      6a5609f385912113b6f1014b958ed748    20220326           13       18089   \n",
       "3      46b2882ec4c373527ec33f7bd4f1388d    20220716           29       18089   \n",
       "4      37495d17e82f7df326bfc2c4c090f7b7    20220409           15       18089   \n",
       "...                                 ...         ...          ...         ...   \n",
       "16828  f35320206f3dd1ffc411e4ac127caf92    20220618           25       18163   \n",
       "16829  f35320206f3dd1ffc411e4ac127caf92    20220827           35       18163   \n",
       "16830  f35320206f3dd1ffc411e4ac127caf92    20220827           35       18163   \n",
       "16831  bbcb018f0e5e49e13636f6e78ce9f60f    20220326           13       18163   \n",
       "16832  bbcb018f0e5e49e13636f6e78ce9f60f    20220416           16       18163   \n",
       "\n",
       "       tract                                        tract_name  total_claims  \\\n",
       "0        900             Census Tract 9, Allen County, Indiana            22   \n",
       "1      10400            Census Tract 104, Lake County, Indiana           111   \n",
       "2      11500            Census Tract 115, Lake County, Indiana            39   \n",
       "3      20700            Census Tract 207, Lake County, Indiana            14   \n",
       "4      21900            Census Tract 219, Lake County, Indiana           155   \n",
       "...      ...                                               ...           ...   \n",
       "16828   3804   Census Tract 38.04, Vanderburgh County, Indiana            21   \n",
       "16829   3804   Census Tract 38.04, Vanderburgh County, Indiana            22   \n",
       "16830   3804   Census Tract 38.04, Vanderburgh County, Indiana            22   \n",
       "16831  10203  Census Tract 102.03, Vanderburgh County, Indiana            53   \n",
       "16832  10203  Census Tract 102.03, Vanderburgh County, Indiana            24   \n",
       "\n",
       "       edu_8th_or_less  edu_grades_9_11  edu_hs_grad_equiv  ...  \\\n",
       "0                    0                0                 14  ...   \n",
       "1                    0                0                108  ...   \n",
       "2                    0                0                  0  ...   \n",
       "3                    0                0                  0  ...   \n",
       "4                    0                0                 69  ...   \n",
       "...                ...              ...                ...  ...   \n",
       "16828                0                0                  0  ...   \n",
       "16829                0                0                 13  ...   \n",
       "16830                0                0                 13  ...   \n",
       "16831                0                0                 48  ...   \n",
       "16832                0                0                 18  ...   \n",
       "\n",
       "       gender_female  gender_male gender_na race_amerindian race_asian  \\\n",
       "0                  0            0         0               0          0   \n",
       "1                 76           35         0               0          0   \n",
       "2                  0            0         0               0          0   \n",
       "3                  0            0         0               0          0   \n",
       "4                 90           65         0               0          0   \n",
       "...              ...          ...       ...             ...        ...   \n",
       "16828              0            0         0               0          0   \n",
       "16829              0            0         0               0          0   \n",
       "16830              0            0         0               0          0   \n",
       "16831              0            0         0               0          0   \n",
       "16832             11           13         0               0          0   \n",
       "\n",
       "       race_black  race_noanswer  race_hawaiiannative  race_other  race_white  \n",
       "0              11              0                    0           0           0  \n",
       "1               0              0                    0           0           0  \n",
       "2              39              0                    0           0           0  \n",
       "3              10              0                    0           0           0  \n",
       "4             135              0                    0           0           0  \n",
       "...           ...            ...                  ...         ...         ...  \n",
       "16828           0              0                    0           0          14  \n",
       "16829           0              0                    0           0           0  \n",
       "16830           0              0                    0           0           0  \n",
       "16831           0              0                    0           0           0  \n",
       "16832           0              0                    0           0           0  \n",
       "\n",
       "[16833 rows x 25 columns]"
      ]
     },
     "execution_count": 50,
     "metadata": {},
     "output_type": "execute_result"
    }
   ],
   "source": [
    "data.fillna(0)"
   ]
  },
  {
   "cell_type": "code",
   "execution_count": 51,
   "id": "51c4d82f",
   "metadata": {
    "execution": {
     "iopub.execute_input": "2023-05-10T02:23:05.107403Z",
     "iopub.status.busy": "2023-05-10T02:23:05.107321Z",
     "iopub.status.idle": "2023-05-10T02:23:05.116712Z",
     "shell.execute_reply": "2023-05-10T02:23:05.116419Z"
    }
   },
   "outputs": [],
   "source": [
    "data = data.fillna(0)"
   ]
  },
  {
   "cell_type": "code",
   "execution_count": 52,
   "id": "c0241807",
   "metadata": {
    "execution": {
     "iopub.execute_input": "2023-05-10T02:23:05.118368Z",
     "iopub.status.busy": "2023-05-10T02:23:05.118274Z",
     "iopub.status.idle": "2023-05-10T02:23:05.127252Z",
     "shell.execute_reply": "2023-05-10T02:23:05.126972Z"
    }
   },
   "outputs": [],
   "source": [
    "data = data.fillna(0)"
   ]
  },
  {
   "cell_type": "code",
   "execution_count": 53,
   "id": "66c6ee87",
   "metadata": {
    "execution": {
     "iopub.execute_input": "2023-05-10T02:23:05.128819Z",
     "iopub.status.busy": "2023-05-10T02:23:05.128732Z",
     "iopub.status.idle": "2023-05-10T02:23:05.138297Z",
     "shell.execute_reply": "2023-05-10T02:23:05.138053Z"
    }
   },
   "outputs": [
    {
     "name": "stdout",
     "output_type": "stream",
     "text": [
      "<class 'pandas.core.frame.DataFrame'>\n",
      "RangeIndex: 16833 entries, 0 to 16832\n",
      "Data columns (total 25 columns):\n",
      " #   Column                  Non-Null Count  Dtype \n",
      "---  ------                  --------------  ----- \n",
      " 0   uu_id                   16833 non-null  object\n",
      " 1   timeperiod              16833 non-null  Int64 \n",
      " 2   week_number             16833 non-null  Int64 \n",
      " 3   countyfips              16833 non-null  Int64 \n",
      " 4   tract                   16833 non-null  Int64 \n",
      " 5   tract_name              16833 non-null  object\n",
      " 6   total_claims            16833 non-null  Int64 \n",
      " 7   edu_8th_or_less         16833 non-null  Int64 \n",
      " 8   edu_grades_9_11         16833 non-null  Int64 \n",
      " 9   edu_hs_grad_equiv       16833 non-null  Int64 \n",
      " 10  edu_post_hs             16833 non-null  Int64 \n",
      " 11  edu_unknown             16833 non-null  Int64 \n",
      " 12  top_category_employer1  16833 non-null  object\n",
      " 13  top_category_employer2  16833 non-null  object\n",
      " 14  top_category_employer3  16833 non-null  object\n",
      " 15  gender_female           16833 non-null  Int64 \n",
      " 16  gender_male             16833 non-null  Int64 \n",
      " 17  gender_na               16833 non-null  Int64 \n",
      " 18  race_amerindian         16833 non-null  Int64 \n",
      " 19  race_asian              16833 non-null  Int64 \n",
      " 20  race_black              16833 non-null  Int64 \n",
      " 21  race_noanswer           16833 non-null  Int64 \n",
      " 22  race_hawaiiannative     16833 non-null  Int64 \n",
      " 23  race_other              16833 non-null  Int64 \n",
      " 24  race_white              16833 non-null  Int64 \n",
      "dtypes: Int64(20), object(5)\n",
      "memory usage: 3.5+ MB\n"
     ]
    }
   ],
   "source": [
    "data.info()"
   ]
  },
  {
   "cell_type": "code",
   "execution_count": 54,
   "id": "44428d8a",
   "metadata": {
    "execution": {
     "iopub.execute_input": "2023-05-10T02:23:05.139929Z",
     "iopub.status.busy": "2023-05-10T02:23:05.139812Z",
     "iopub.status.idle": "2023-05-10T02:23:05.143783Z",
     "shell.execute_reply": "2023-05-10T02:23:05.143521Z"
    }
   },
   "outputs": [
    {
     "data": {
      "text/plain": [
       "0        32.0\n",
       "1        48.5\n",
       "2        56.0\n",
       "3        56.0\n",
       "4        72.0\n",
       "         ... \n",
       "16828    56.0\n",
       "16829    56.0\n",
       "16830    56.0\n",
       "16831    23.0\n",
       "16832    23.0\n",
       "Name: top_category_employer1, Length: 16833, dtype: float64"
      ]
     },
     "execution_count": 54,
     "metadata": {},
     "output_type": "execute_result"
    }
   ],
   "source": [
    "data['top_category_employer1'].astype(float)"
   ]
  },
  {
   "cell_type": "code",
   "execution_count": 55,
   "id": "32887b9f",
   "metadata": {
    "execution": {
     "iopub.execute_input": "2023-05-10T02:23:05.145161Z",
     "iopub.status.busy": "2023-05-10T02:23:05.145078Z",
     "iopub.status.idle": "2023-05-10T02:23:05.153497Z",
     "shell.execute_reply": "2023-05-10T02:23:05.153231Z"
    }
   },
   "outputs": [],
   "source": [
    "data = data.fillna(0)"
   ]
  },
  {
   "cell_type": "code",
   "execution_count": 56,
   "id": "4e8143ea",
   "metadata": {
    "execution": {
     "iopub.execute_input": "2023-05-10T02:23:05.154935Z",
     "iopub.status.busy": "2023-05-10T02:23:05.154852Z",
     "iopub.status.idle": "2023-05-10T02:23:05.158604Z",
     "shell.execute_reply": "2023-05-10T02:23:05.158295Z"
    }
   },
   "outputs": [
    {
     "data": {
      "text/plain": [
       "0        32.0\n",
       "1        48.5\n",
       "2        56.0\n",
       "3        56.0\n",
       "4        72.0\n",
       "         ... \n",
       "16828    56.0\n",
       "16829    56.0\n",
       "16830    56.0\n",
       "16831    23.0\n",
       "16832    23.0\n",
       "Name: top_category_employer1, Length: 16833, dtype: float64"
      ]
     },
     "execution_count": 56,
     "metadata": {},
     "output_type": "execute_result"
    }
   ],
   "source": [
    "data['top_category_employer1'].astype(float)"
   ]
  },
  {
   "cell_type": "code",
   "execution_count": 57,
   "id": "83e2be3c",
   "metadata": {
    "execution": {
     "iopub.execute_input": "2023-05-10T02:23:05.160100Z",
     "iopub.status.busy": "2023-05-10T02:23:05.159996Z",
     "iopub.status.idle": "2023-05-10T02:23:05.173927Z",
     "shell.execute_reply": "2023-05-10T02:23:05.173643Z"
    }
   },
   "outputs": [
    {
     "data": {
      "text/html": [
       "<div>\n",
       "<style scoped>\n",
       "    .dataframe tbody tr th:only-of-type {\n",
       "        vertical-align: middle;\n",
       "    }\n",
       "\n",
       "    .dataframe tbody tr th {\n",
       "        vertical-align: top;\n",
       "    }\n",
       "\n",
       "    .dataframe thead th {\n",
       "        text-align: right;\n",
       "    }\n",
       "</style>\n",
       "<table border=\"1\" class=\"dataframe\">\n",
       "  <thead>\n",
       "    <tr style=\"text-align: right;\">\n",
       "      <th></th>\n",
       "      <th>uu_id</th>\n",
       "      <th>timeperiod</th>\n",
       "      <th>week_number</th>\n",
       "      <th>countyfips</th>\n",
       "      <th>tract</th>\n",
       "      <th>tract_name</th>\n",
       "      <th>total_claims</th>\n",
       "      <th>edu_8th_or_less</th>\n",
       "      <th>edu_grades_9_11</th>\n",
       "      <th>edu_hs_grad_equiv</th>\n",
       "      <th>...</th>\n",
       "      <th>gender_female</th>\n",
       "      <th>gender_male</th>\n",
       "      <th>gender_na</th>\n",
       "      <th>race_amerindian</th>\n",
       "      <th>race_asian</th>\n",
       "      <th>race_black</th>\n",
       "      <th>race_noanswer</th>\n",
       "      <th>race_hawaiiannative</th>\n",
       "      <th>race_other</th>\n",
       "      <th>race_white</th>\n",
       "    </tr>\n",
       "  </thead>\n",
       "  <tbody>\n",
       "    <tr>\n",
       "      <th>0</th>\n",
       "      <td>False</td>\n",
       "      <td>False</td>\n",
       "      <td>False</td>\n",
       "      <td>False</td>\n",
       "      <td>False</td>\n",
       "      <td>False</td>\n",
       "      <td>False</td>\n",
       "      <td>False</td>\n",
       "      <td>False</td>\n",
       "      <td>False</td>\n",
       "      <td>...</td>\n",
       "      <td>False</td>\n",
       "      <td>False</td>\n",
       "      <td>False</td>\n",
       "      <td>False</td>\n",
       "      <td>False</td>\n",
       "      <td>False</td>\n",
       "      <td>False</td>\n",
       "      <td>False</td>\n",
       "      <td>False</td>\n",
       "      <td>False</td>\n",
       "    </tr>\n",
       "    <tr>\n",
       "      <th>1</th>\n",
       "      <td>False</td>\n",
       "      <td>False</td>\n",
       "      <td>False</td>\n",
       "      <td>False</td>\n",
       "      <td>False</td>\n",
       "      <td>False</td>\n",
       "      <td>False</td>\n",
       "      <td>False</td>\n",
       "      <td>False</td>\n",
       "      <td>False</td>\n",
       "      <td>...</td>\n",
       "      <td>False</td>\n",
       "      <td>False</td>\n",
       "      <td>False</td>\n",
       "      <td>False</td>\n",
       "      <td>False</td>\n",
       "      <td>False</td>\n",
       "      <td>False</td>\n",
       "      <td>False</td>\n",
       "      <td>False</td>\n",
       "      <td>False</td>\n",
       "    </tr>\n",
       "    <tr>\n",
       "      <th>2</th>\n",
       "      <td>False</td>\n",
       "      <td>False</td>\n",
       "      <td>False</td>\n",
       "      <td>False</td>\n",
       "      <td>False</td>\n",
       "      <td>False</td>\n",
       "      <td>False</td>\n",
       "      <td>False</td>\n",
       "      <td>False</td>\n",
       "      <td>False</td>\n",
       "      <td>...</td>\n",
       "      <td>False</td>\n",
       "      <td>False</td>\n",
       "      <td>False</td>\n",
       "      <td>False</td>\n",
       "      <td>False</td>\n",
       "      <td>False</td>\n",
       "      <td>False</td>\n",
       "      <td>False</td>\n",
       "      <td>False</td>\n",
       "      <td>False</td>\n",
       "    </tr>\n",
       "    <tr>\n",
       "      <th>3</th>\n",
       "      <td>False</td>\n",
       "      <td>False</td>\n",
       "      <td>False</td>\n",
       "      <td>False</td>\n",
       "      <td>False</td>\n",
       "      <td>False</td>\n",
       "      <td>False</td>\n",
       "      <td>False</td>\n",
       "      <td>False</td>\n",
       "      <td>False</td>\n",
       "      <td>...</td>\n",
       "      <td>False</td>\n",
       "      <td>False</td>\n",
       "      <td>False</td>\n",
       "      <td>False</td>\n",
       "      <td>False</td>\n",
       "      <td>False</td>\n",
       "      <td>False</td>\n",
       "      <td>False</td>\n",
       "      <td>False</td>\n",
       "      <td>False</td>\n",
       "    </tr>\n",
       "    <tr>\n",
       "      <th>4</th>\n",
       "      <td>False</td>\n",
       "      <td>False</td>\n",
       "      <td>False</td>\n",
       "      <td>False</td>\n",
       "      <td>False</td>\n",
       "      <td>False</td>\n",
       "      <td>False</td>\n",
       "      <td>False</td>\n",
       "      <td>False</td>\n",
       "      <td>False</td>\n",
       "      <td>...</td>\n",
       "      <td>False</td>\n",
       "      <td>False</td>\n",
       "      <td>False</td>\n",
       "      <td>False</td>\n",
       "      <td>False</td>\n",
       "      <td>False</td>\n",
       "      <td>False</td>\n",
       "      <td>False</td>\n",
       "      <td>False</td>\n",
       "      <td>False</td>\n",
       "    </tr>\n",
       "    <tr>\n",
       "      <th>...</th>\n",
       "      <td>...</td>\n",
       "      <td>...</td>\n",
       "      <td>...</td>\n",
       "      <td>...</td>\n",
       "      <td>...</td>\n",
       "      <td>...</td>\n",
       "      <td>...</td>\n",
       "      <td>...</td>\n",
       "      <td>...</td>\n",
       "      <td>...</td>\n",
       "      <td>...</td>\n",
       "      <td>...</td>\n",
       "      <td>...</td>\n",
       "      <td>...</td>\n",
       "      <td>...</td>\n",
       "      <td>...</td>\n",
       "      <td>...</td>\n",
       "      <td>...</td>\n",
       "      <td>...</td>\n",
       "      <td>...</td>\n",
       "      <td>...</td>\n",
       "    </tr>\n",
       "    <tr>\n",
       "      <th>16828</th>\n",
       "      <td>False</td>\n",
       "      <td>False</td>\n",
       "      <td>False</td>\n",
       "      <td>False</td>\n",
       "      <td>False</td>\n",
       "      <td>False</td>\n",
       "      <td>False</td>\n",
       "      <td>False</td>\n",
       "      <td>False</td>\n",
       "      <td>False</td>\n",
       "      <td>...</td>\n",
       "      <td>False</td>\n",
       "      <td>False</td>\n",
       "      <td>False</td>\n",
       "      <td>False</td>\n",
       "      <td>False</td>\n",
       "      <td>False</td>\n",
       "      <td>False</td>\n",
       "      <td>False</td>\n",
       "      <td>False</td>\n",
       "      <td>False</td>\n",
       "    </tr>\n",
       "    <tr>\n",
       "      <th>16829</th>\n",
       "      <td>False</td>\n",
       "      <td>False</td>\n",
       "      <td>False</td>\n",
       "      <td>False</td>\n",
       "      <td>False</td>\n",
       "      <td>False</td>\n",
       "      <td>False</td>\n",
       "      <td>False</td>\n",
       "      <td>False</td>\n",
       "      <td>False</td>\n",
       "      <td>...</td>\n",
       "      <td>False</td>\n",
       "      <td>False</td>\n",
       "      <td>False</td>\n",
       "      <td>False</td>\n",
       "      <td>False</td>\n",
       "      <td>False</td>\n",
       "      <td>False</td>\n",
       "      <td>False</td>\n",
       "      <td>False</td>\n",
       "      <td>False</td>\n",
       "    </tr>\n",
       "    <tr>\n",
       "      <th>16830</th>\n",
       "      <td>False</td>\n",
       "      <td>False</td>\n",
       "      <td>False</td>\n",
       "      <td>False</td>\n",
       "      <td>False</td>\n",
       "      <td>False</td>\n",
       "      <td>False</td>\n",
       "      <td>False</td>\n",
       "      <td>False</td>\n",
       "      <td>False</td>\n",
       "      <td>...</td>\n",
       "      <td>False</td>\n",
       "      <td>False</td>\n",
       "      <td>False</td>\n",
       "      <td>False</td>\n",
       "      <td>False</td>\n",
       "      <td>False</td>\n",
       "      <td>False</td>\n",
       "      <td>False</td>\n",
       "      <td>False</td>\n",
       "      <td>False</td>\n",
       "    </tr>\n",
       "    <tr>\n",
       "      <th>16831</th>\n",
       "      <td>False</td>\n",
       "      <td>False</td>\n",
       "      <td>False</td>\n",
       "      <td>False</td>\n",
       "      <td>False</td>\n",
       "      <td>False</td>\n",
       "      <td>False</td>\n",
       "      <td>False</td>\n",
       "      <td>False</td>\n",
       "      <td>False</td>\n",
       "      <td>...</td>\n",
       "      <td>False</td>\n",
       "      <td>False</td>\n",
       "      <td>False</td>\n",
       "      <td>False</td>\n",
       "      <td>False</td>\n",
       "      <td>False</td>\n",
       "      <td>False</td>\n",
       "      <td>False</td>\n",
       "      <td>False</td>\n",
       "      <td>False</td>\n",
       "    </tr>\n",
       "    <tr>\n",
       "      <th>16832</th>\n",
       "      <td>False</td>\n",
       "      <td>False</td>\n",
       "      <td>False</td>\n",
       "      <td>False</td>\n",
       "      <td>False</td>\n",
       "      <td>False</td>\n",
       "      <td>False</td>\n",
       "      <td>False</td>\n",
       "      <td>False</td>\n",
       "      <td>False</td>\n",
       "      <td>...</td>\n",
       "      <td>False</td>\n",
       "      <td>False</td>\n",
       "      <td>False</td>\n",
       "      <td>False</td>\n",
       "      <td>False</td>\n",
       "      <td>False</td>\n",
       "      <td>False</td>\n",
       "      <td>False</td>\n",
       "      <td>False</td>\n",
       "      <td>False</td>\n",
       "    </tr>\n",
       "  </tbody>\n",
       "</table>\n",
       "<p>16833 rows × 25 columns</p>\n",
       "</div>"
      ],
      "text/plain": [
       "       uu_id  timeperiod  week_number  countyfips  tract  tract_name  \\\n",
       "0      False       False        False       False  False       False   \n",
       "1      False       False        False       False  False       False   \n",
       "2      False       False        False       False  False       False   \n",
       "3      False       False        False       False  False       False   \n",
       "4      False       False        False       False  False       False   \n",
       "...      ...         ...          ...         ...    ...         ...   \n",
       "16828  False       False        False       False  False       False   \n",
       "16829  False       False        False       False  False       False   \n",
       "16830  False       False        False       False  False       False   \n",
       "16831  False       False        False       False  False       False   \n",
       "16832  False       False        False       False  False       False   \n",
       "\n",
       "       total_claims  edu_8th_or_less  edu_grades_9_11  edu_hs_grad_equiv  ...  \\\n",
       "0             False            False            False              False  ...   \n",
       "1             False            False            False              False  ...   \n",
       "2             False            False            False              False  ...   \n",
       "3             False            False            False              False  ...   \n",
       "4             False            False            False              False  ...   \n",
       "...             ...              ...              ...                ...  ...   \n",
       "16828         False            False            False              False  ...   \n",
       "16829         False            False            False              False  ...   \n",
       "16830         False            False            False              False  ...   \n",
       "16831         False            False            False              False  ...   \n",
       "16832         False            False            False              False  ...   \n",
       "\n",
       "       gender_female  gender_male  gender_na  race_amerindian  race_asian  \\\n",
       "0              False        False      False            False       False   \n",
       "1              False        False      False            False       False   \n",
       "2              False        False      False            False       False   \n",
       "3              False        False      False            False       False   \n",
       "4              False        False      False            False       False   \n",
       "...              ...          ...        ...              ...         ...   \n",
       "16828          False        False      False            False       False   \n",
       "16829          False        False      False            False       False   \n",
       "16830          False        False      False            False       False   \n",
       "16831          False        False      False            False       False   \n",
       "16832          False        False      False            False       False   \n",
       "\n",
       "       race_black  race_noanswer  race_hawaiiannative  race_other  race_white  \n",
       "0           False          False                False       False       False  \n",
       "1           False          False                False       False       False  \n",
       "2           False          False                False       False       False  \n",
       "3           False          False                False       False       False  \n",
       "4           False          False                False       False       False  \n",
       "...           ...            ...                  ...         ...         ...  \n",
       "16828       False          False                False       False       False  \n",
       "16829       False          False                False       False       False  \n",
       "16830       False          False                False       False       False  \n",
       "16831       False          False                False       False       False  \n",
       "16832       False          False                False       False       False  \n",
       "\n",
       "[16833 rows x 25 columns]"
      ]
     },
     "execution_count": 57,
     "metadata": {},
     "output_type": "execute_result"
    }
   ],
   "source": [
    "data.isnull()"
   ]
  },
  {
   "cell_type": "code",
   "execution_count": 58,
   "id": "a6f75125",
   "metadata": {
    "execution": {
     "iopub.execute_input": "2023-05-10T02:23:05.175385Z",
     "iopub.status.busy": "2023-05-10T02:23:05.175301Z",
     "iopub.status.idle": "2023-05-10T02:23:05.183545Z",
     "shell.execute_reply": "2023-05-10T02:23:05.183295Z"
    }
   },
   "outputs": [
    {
     "data": {
      "text/plain": [
       "uu_id                     False\n",
       "timeperiod                False\n",
       "week_number               False\n",
       "countyfips                False\n",
       "tract                     False\n",
       "tract_name                False\n",
       "total_claims              False\n",
       "edu_8th_or_less           False\n",
       "edu_grades_9_11           False\n",
       "edu_hs_grad_equiv         False\n",
       "edu_post_hs               False\n",
       "edu_unknown               False\n",
       "top_category_employer1    False\n",
       "top_category_employer2    False\n",
       "top_category_employer3    False\n",
       "gender_female             False\n",
       "gender_male               False\n",
       "gender_na                 False\n",
       "race_amerindian           False\n",
       "race_asian                False\n",
       "race_black                False\n",
       "race_noanswer             False\n",
       "race_hawaiiannative       False\n",
       "race_other                False\n",
       "race_white                False\n",
       "dtype: bool"
      ]
     },
     "execution_count": 58,
     "metadata": {},
     "output_type": "execute_result"
    }
   ],
   "source": [
    "data.isnull().any()"
   ]
  },
  {
   "cell_type": "code",
   "execution_count": 59,
   "id": "f07cc154",
   "metadata": {
    "execution": {
     "iopub.execute_input": "2023-05-10T02:23:05.185069Z",
     "iopub.status.busy": "2023-05-10T02:23:05.184953Z",
     "iopub.status.idle": "2023-05-10T02:23:05.188303Z",
     "shell.execute_reply": "2023-05-10T02:23:05.188050Z"
    }
   },
   "outputs": [
    {
     "data": {
      "text/plain": [
       "0        32.0\n",
       "1        48.5\n",
       "2        56.0\n",
       "3        56.0\n",
       "4        72.0\n",
       "         ... \n",
       "16828    56.0\n",
       "16829    56.0\n",
       "16830    56.0\n",
       "16831    23.0\n",
       "16832    23.0\n",
       "Name: top_category_employer1, Length: 16833, dtype: float64"
      ]
     },
     "execution_count": 59,
     "metadata": {},
     "output_type": "execute_result"
    }
   ],
   "source": [
    "data['top_category_employer1'].astype(float)"
   ]
  },
  {
   "cell_type": "code",
   "execution_count": 60,
   "id": "5f2ba414",
   "metadata": {
    "execution": {
     "iopub.execute_input": "2023-05-10T02:23:05.189737Z",
     "iopub.status.busy": "2023-05-10T02:23:05.189647Z",
     "iopub.status.idle": "2023-05-10T02:23:05.192693Z",
     "shell.execute_reply": "2023-05-10T02:23:05.192454Z"
    }
   },
   "outputs": [],
   "source": [
    "data[\"top_category_employer1\"] = data[\"top_category_employer1\"].map(lambda x: '0' if x =='N/A' else x)"
   ]
  },
  {
   "cell_type": "code",
   "execution_count": 61,
   "id": "dde6d94e",
   "metadata": {
    "execution": {
     "iopub.execute_input": "2023-05-10T02:23:05.194086Z",
     "iopub.status.busy": "2023-05-10T02:23:05.194000Z",
     "iopub.status.idle": "2023-05-10T02:23:05.196866Z",
     "shell.execute_reply": "2023-05-10T02:23:05.196640Z"
    }
   },
   "outputs": [],
   "source": [
    "data[\"top_category_employer2\"] = data[\"top_category_employer2\"].map(lambda x: '0' if x =='N/A' else x)"
   ]
  },
  {
   "cell_type": "code",
   "execution_count": 62,
   "id": "4e0bcc99",
   "metadata": {
    "execution": {
     "iopub.execute_input": "2023-05-10T02:23:05.198168Z",
     "iopub.status.busy": "2023-05-10T02:23:05.198086Z",
     "iopub.status.idle": "2023-05-10T02:23:05.201006Z",
     "shell.execute_reply": "2023-05-10T02:23:05.200774Z"
    }
   },
   "outputs": [],
   "source": [
    "data[\"top_category_employer2\"] = data[\"top_category_employer2\"].map(lambda x: '0' if x =='N/A' else x)"
   ]
  },
  {
   "cell_type": "code",
   "execution_count": 63,
   "id": "d3f0faa4",
   "metadata": {
    "execution": {
     "iopub.execute_input": "2023-05-10T02:23:05.202350Z",
     "iopub.status.busy": "2023-05-10T02:23:05.202268Z",
     "iopub.status.idle": "2023-05-10T02:23:05.205067Z",
     "shell.execute_reply": "2023-05-10T02:23:05.204846Z"
    }
   },
   "outputs": [],
   "source": [
    "data[\"top_category_employer3\"] = data[\"top_category_employer3\"].map(lambda x: '0' if x =='N/A' else x)"
   ]
  },
  {
   "cell_type": "code",
   "execution_count": 64,
   "id": "de941847",
   "metadata": {
    "execution": {
     "iopub.execute_input": "2023-05-10T02:23:05.206412Z",
     "iopub.status.busy": "2023-05-10T02:23:05.206332Z",
     "iopub.status.idle": "2023-05-10T02:23:05.215143Z",
     "shell.execute_reply": "2023-05-10T02:23:05.214868Z"
    }
   },
   "outputs": [],
   "source": [
    "data = data.fillna(0)"
   ]
  },
  {
   "cell_type": "code",
   "execution_count": 65,
   "id": "1ec412fb",
   "metadata": {
    "execution": {
     "iopub.execute_input": "2023-05-10T02:23:05.216600Z",
     "iopub.status.busy": "2023-05-10T02:23:05.216520Z",
     "iopub.status.idle": "2023-05-10T02:23:05.219841Z",
     "shell.execute_reply": "2023-05-10T02:23:05.219605Z"
    }
   },
   "outputs": [
    {
     "data": {
      "text/plain": [
       "0        32.0\n",
       "1        48.5\n",
       "2        56.0\n",
       "3        56.0\n",
       "4        72.0\n",
       "         ... \n",
       "16828    56.0\n",
       "16829    56.0\n",
       "16830    56.0\n",
       "16831    23.0\n",
       "16832    23.0\n",
       "Name: top_category_employer1, Length: 16833, dtype: float64"
      ]
     },
     "execution_count": 65,
     "metadata": {},
     "output_type": "execute_result"
    }
   ],
   "source": [
    "data['top_category_employer1'].astype(float)"
   ]
  },
  {
   "cell_type": "code",
   "execution_count": 66,
   "id": "9d9c8f50",
   "metadata": {
    "execution": {
     "iopub.execute_input": "2023-05-10T02:23:05.221323Z",
     "iopub.status.busy": "2023-05-10T02:23:05.221240Z",
     "iopub.status.idle": "2023-05-10T02:23:05.224901Z",
     "shell.execute_reply": "2023-05-10T02:23:05.224434Z"
    }
   },
   "outputs": [
    {
     "data": {
      "text/plain": [
       "0        51.0\n",
       "1        51.0\n",
       "2         0.0\n",
       "3        51.0\n",
       "4        51.0\n",
       "         ... \n",
       "16828    48.5\n",
       "16829    48.5\n",
       "16830    48.5\n",
       "16831    48.5\n",
       "16832    48.5\n",
       "Name: top_category_employer2, Length: 16833, dtype: float64"
      ]
     },
     "execution_count": 66,
     "metadata": {},
     "output_type": "execute_result"
    }
   ],
   "source": [
    "data['top_category_employer2'].astype(float)"
   ]
  },
  {
   "cell_type": "code",
   "execution_count": 67,
   "id": "22408320",
   "metadata": {
    "execution": {
     "iopub.execute_input": "2023-05-10T02:23:05.226812Z",
     "iopub.status.busy": "2023-05-10T02:23:05.226660Z",
     "iopub.status.idle": "2023-05-10T02:23:05.231037Z",
     "shell.execute_reply": "2023-05-10T02:23:05.230749Z"
    }
   },
   "outputs": [
    {
     "data": {
      "text/plain": [
       "0        62.0\n",
       "1        56.0\n",
       "2         0.0\n",
       "3        44.5\n",
       "4        56.0\n",
       "         ... \n",
       "16828    81.0\n",
       "16829    23.0\n",
       "16830    23.0\n",
       "16831    44.5\n",
       "16832    44.5\n",
       "Name: top_category_employer3, Length: 16833, dtype: float64"
      ]
     },
     "execution_count": 67,
     "metadata": {},
     "output_type": "execute_result"
    }
   ],
   "source": [
    "data['top_category_employer3'].astype(float)"
   ]
  },
  {
   "cell_type": "code",
   "execution_count": 68,
   "id": "ec5c255f",
   "metadata": {
    "execution": {
     "iopub.execute_input": "2023-05-10T02:23:05.232508Z",
     "iopub.status.busy": "2023-05-10T02:23:05.232425Z",
     "iopub.status.idle": "2023-05-10T02:23:05.275021Z",
     "shell.execute_reply": "2023-05-10T02:23:05.274642Z"
    }
   },
   "outputs": [
    {
     "name": "stderr",
     "output_type": "stream",
     "text": [
      "/var/folders/l2/cnhff0_n1470l4xf0p7v7l_40000gn/T/ipykernel_18128/2203671901.py:1: FutureWarning: The default value of numeric_only in DataFrameGroupBy.sum is deprecated. In a future version, numeric_only will default to False. Either specify numeric_only or select only columns which should be valid for the function.\n",
      "  data[\"test\"] = data.groupby(by=[\"uu_id\"]).sum()\n"
     ]
    },
    {
     "ename": "ValueError",
     "evalue": "Cannot set a DataFrame with multiple columns to the single column test",
     "output_type": "error",
     "traceback": [
      "\u001b[0;31m---------------------------------------------------------------------------\u001b[0m",
      "\u001b[0;31mValueError\u001b[0m                                Traceback (most recent call last)",
      "Cell \u001b[0;32mIn [68], line 1\u001b[0m\n\u001b[0;32m----> 1\u001b[0m \u001b[43mdata\u001b[49m\u001b[43m[\u001b[49m\u001b[38;5;124;43m\"\u001b[39;49m\u001b[38;5;124;43mtest\u001b[39;49m\u001b[38;5;124;43m\"\u001b[39;49m\u001b[43m]\u001b[49m \u001b[38;5;241m=\u001b[39m data\u001b[38;5;241m.\u001b[39mgroupby(by\u001b[38;5;241m=\u001b[39m[\u001b[38;5;124m\"\u001b[39m\u001b[38;5;124muu_id\u001b[39m\u001b[38;5;124m\"\u001b[39m])\u001b[38;5;241m.\u001b[39msum()\n",
      "File \u001b[0;32m/opt/homebrew/lib/python3.9/site-packages/pandas/core/frame.py:3967\u001b[0m, in \u001b[0;36mDataFrame.__setitem__\u001b[0;34m(self, key, value)\u001b[0m\n\u001b[1;32m   3965\u001b[0m     \u001b[38;5;28mself\u001b[39m\u001b[38;5;241m.\u001b[39m_setitem_array(key, value)\n\u001b[1;32m   3966\u001b[0m \u001b[38;5;28;01melif\u001b[39;00m \u001b[38;5;28misinstance\u001b[39m(value, DataFrame):\n\u001b[0;32m-> 3967\u001b[0m     \u001b[38;5;28;43mself\u001b[39;49m\u001b[38;5;241;43m.\u001b[39;49m\u001b[43m_set_item_frame_value\u001b[49m\u001b[43m(\u001b[49m\u001b[43mkey\u001b[49m\u001b[43m,\u001b[49m\u001b[43m \u001b[49m\u001b[43mvalue\u001b[49m\u001b[43m)\u001b[49m\n\u001b[1;32m   3968\u001b[0m \u001b[38;5;28;01melif\u001b[39;00m (\n\u001b[1;32m   3969\u001b[0m     is_list_like(value)\n\u001b[1;32m   3970\u001b[0m     \u001b[38;5;129;01mand\u001b[39;00m \u001b[38;5;129;01mnot\u001b[39;00m \u001b[38;5;28mself\u001b[39m\u001b[38;5;241m.\u001b[39mcolumns\u001b[38;5;241m.\u001b[39mis_unique\n\u001b[1;32m   3971\u001b[0m     \u001b[38;5;129;01mand\u001b[39;00m \u001b[38;5;241m1\u001b[39m \u001b[38;5;241m<\u001b[39m \u001b[38;5;28mlen\u001b[39m(\u001b[38;5;28mself\u001b[39m\u001b[38;5;241m.\u001b[39mcolumns\u001b[38;5;241m.\u001b[39mget_indexer_for([key])) \u001b[38;5;241m==\u001b[39m \u001b[38;5;28mlen\u001b[39m(value)\n\u001b[1;32m   3972\u001b[0m ):\n\u001b[1;32m   3973\u001b[0m     \u001b[38;5;66;03m# Column to set is duplicated\u001b[39;00m\n\u001b[1;32m   3974\u001b[0m     \u001b[38;5;28mself\u001b[39m\u001b[38;5;241m.\u001b[39m_setitem_array([key], value)\n",
      "File \u001b[0;32m/opt/homebrew/lib/python3.9/site-packages/pandas/core/frame.py:4122\u001b[0m, in \u001b[0;36mDataFrame._set_item_frame_value\u001b[0;34m(self, key, value)\u001b[0m\n\u001b[1;32m   4119\u001b[0m     \u001b[38;5;28;01mreturn\u001b[39;00m\n\u001b[1;32m   4121\u001b[0m \u001b[38;5;28;01mif\u001b[39;00m \u001b[38;5;28mlen\u001b[39m(value\u001b[38;5;241m.\u001b[39mcolumns) \u001b[38;5;241m!=\u001b[39m \u001b[38;5;241m1\u001b[39m:\n\u001b[0;32m-> 4122\u001b[0m     \u001b[38;5;28;01mraise\u001b[39;00m \u001b[38;5;167;01mValueError\u001b[39;00m(\n\u001b[1;32m   4123\u001b[0m         \u001b[38;5;124m\"\u001b[39m\u001b[38;5;124mCannot set a DataFrame with multiple columns to the single \u001b[39m\u001b[38;5;124m\"\u001b[39m\n\u001b[1;32m   4124\u001b[0m         \u001b[38;5;124mf\u001b[39m\u001b[38;5;124m\"\u001b[39m\u001b[38;5;124mcolumn \u001b[39m\u001b[38;5;132;01m{\u001b[39;00mkey\u001b[38;5;132;01m}\u001b[39;00m\u001b[38;5;124m\"\u001b[39m\n\u001b[1;32m   4125\u001b[0m     )\n\u001b[1;32m   4127\u001b[0m \u001b[38;5;28mself\u001b[39m[key] \u001b[38;5;241m=\u001b[39m value[value\u001b[38;5;241m.\u001b[39mcolumns[\u001b[38;5;241m0\u001b[39m]]\n",
      "\u001b[0;31mValueError\u001b[0m: Cannot set a DataFrame with multiple columns to the single column test"
     ]
    }
   ],
   "source": [
    "data[\"test\"] = data.groupby(by=[\"uu_id\"]).sum()"
   ]
  },
  {
   "cell_type": "code",
   "execution_count": 69,
   "id": "28164ac6",
   "metadata": {
    "execution": {
     "iopub.execute_input": "2023-05-10T02:23:05.276880Z",
     "iopub.status.busy": "2023-05-10T02:23:05.276756Z",
     "iopub.status.idle": "2023-05-10T02:23:05.291562Z",
     "shell.execute_reply": "2023-05-10T02:23:05.291259Z"
    }
   },
   "outputs": [
    {
     "name": "stderr",
     "output_type": "stream",
     "text": [
      "/var/folders/l2/cnhff0_n1470l4xf0p7v7l_40000gn/T/ipykernel_18128/3042140056.py:1: FutureWarning: The default value of numeric_only in DataFrameGroupBy.mean is deprecated. In a future version, numeric_only will default to False. Either specify numeric_only or select only columns which should be valid for the function.\n",
      "  data.groupby(by=[\"uu_id\"]).mean()\n"
     ]
    },
    {
     "data": {
      "text/html": [
       "<div>\n",
       "<style scoped>\n",
       "    .dataframe tbody tr th:only-of-type {\n",
       "        vertical-align: middle;\n",
       "    }\n",
       "\n",
       "    .dataframe tbody tr th {\n",
       "        vertical-align: top;\n",
       "    }\n",
       "\n",
       "    .dataframe thead th {\n",
       "        text-align: right;\n",
       "    }\n",
       "</style>\n",
       "<table border=\"1\" class=\"dataframe\">\n",
       "  <thead>\n",
       "    <tr style=\"text-align: right;\">\n",
       "      <th></th>\n",
       "      <th>timeperiod</th>\n",
       "      <th>week_number</th>\n",
       "      <th>countyfips</th>\n",
       "      <th>tract</th>\n",
       "      <th>total_claims</th>\n",
       "      <th>edu_8th_or_less</th>\n",
       "      <th>edu_grades_9_11</th>\n",
       "      <th>edu_hs_grad_equiv</th>\n",
       "      <th>edu_post_hs</th>\n",
       "      <th>edu_unknown</th>\n",
       "      <th>gender_female</th>\n",
       "      <th>gender_male</th>\n",
       "      <th>gender_na</th>\n",
       "      <th>race_amerindian</th>\n",
       "      <th>race_asian</th>\n",
       "      <th>race_black</th>\n",
       "      <th>race_noanswer</th>\n",
       "      <th>race_hawaiiannative</th>\n",
       "      <th>race_other</th>\n",
       "      <th>race_white</th>\n",
       "    </tr>\n",
       "    <tr>\n",
       "      <th>uu_id</th>\n",
       "      <th></th>\n",
       "      <th></th>\n",
       "      <th></th>\n",
       "      <th></th>\n",
       "      <th></th>\n",
       "      <th></th>\n",
       "      <th></th>\n",
       "      <th></th>\n",
       "      <th></th>\n",
       "      <th></th>\n",
       "      <th></th>\n",
       "      <th></th>\n",
       "      <th></th>\n",
       "      <th></th>\n",
       "      <th></th>\n",
       "      <th></th>\n",
       "      <th></th>\n",
       "      <th></th>\n",
       "      <th></th>\n",
       "      <th></th>\n",
       "    </tr>\n",
       "  </thead>\n",
       "  <tbody>\n",
       "    <tr>\n",
       "      <th>001cd9ae23064d7f0fd3cd327c873d8d</th>\n",
       "      <td>20220843.272727</td>\n",
       "      <td>34.636364</td>\n",
       "      <td>18099.0</td>\n",
       "      <td>20102.0</td>\n",
       "      <td>15.454545</td>\n",
       "      <td>0.0</td>\n",
       "      <td>0.0</td>\n",
       "      <td>2.727273</td>\n",
       "      <td>0.0</td>\n",
       "      <td>0.0</td>\n",
       "      <td>0.0</td>\n",
       "      <td>4.0</td>\n",
       "      <td>0.0</td>\n",
       "      <td>0.0</td>\n",
       "      <td>0.0</td>\n",
       "      <td>0.0</td>\n",
       "      <td>0.0</td>\n",
       "      <td>0.0</td>\n",
       "      <td>0.0</td>\n",
       "      <td>4.909091</td>\n",
       "    </tr>\n",
       "    <tr>\n",
       "      <th>005be9532fd717dc36d4be318fd9ad25</th>\n",
       "      <td>20220584.029412</td>\n",
       "      <td>23.117647</td>\n",
       "      <td>18039.0</td>\n",
       "      <td>802.0</td>\n",
       "      <td>32.852941</td>\n",
       "      <td>0.0</td>\n",
       "      <td>0.0</td>\n",
       "      <td>15.764706</td>\n",
       "      <td>3.058824</td>\n",
       "      <td>0.0</td>\n",
       "      <td>8.735294</td>\n",
       "      <td>14.117647</td>\n",
       "      <td>0.0</td>\n",
       "      <td>0.0</td>\n",
       "      <td>0.0</td>\n",
       "      <td>0.0</td>\n",
       "      <td>0.0</td>\n",
       "      <td>0.0</td>\n",
       "      <td>0.0</td>\n",
       "      <td>21.735294</td>\n",
       "    </tr>\n",
       "    <tr>\n",
       "      <th>007c1caccff1fbb3a0b8a10790f77141</th>\n",
       "      <td>20220497.8</td>\n",
       "      <td>19.4</td>\n",
       "      <td>18081.0</td>\n",
       "      <td>610900.0</td>\n",
       "      <td>18.88</td>\n",
       "      <td>0.0</td>\n",
       "      <td>0.0</td>\n",
       "      <td>6.76</td>\n",
       "      <td>0.0</td>\n",
       "      <td>0.0</td>\n",
       "      <td>0.44</td>\n",
       "      <td>0.4</td>\n",
       "      <td>0.0</td>\n",
       "      <td>0.0</td>\n",
       "      <td>0.0</td>\n",
       "      <td>3.68</td>\n",
       "      <td>0.0</td>\n",
       "      <td>0.0</td>\n",
       "      <td>0.0</td>\n",
       "      <td>10.12</td>\n",
       "    </tr>\n",
       "    <tr>\n",
       "      <th>009683350b175edfc6414d664e4ba873</th>\n",
       "      <td>20220447.217391</td>\n",
       "      <td>17.086957</td>\n",
       "      <td>18089.0</td>\n",
       "      <td>42801.0</td>\n",
       "      <td>19.130435</td>\n",
       "      <td>0.0</td>\n",
       "      <td>0.0</td>\n",
       "      <td>3.478261</td>\n",
       "      <td>1.956522</td>\n",
       "      <td>0.565217</td>\n",
       "      <td>0.565217</td>\n",
       "      <td>1.478261</td>\n",
       "      <td>0.0</td>\n",
       "      <td>0.0</td>\n",
       "      <td>0.0</td>\n",
       "      <td>3.695652</td>\n",
       "      <td>0.0</td>\n",
       "      <td>0.0</td>\n",
       "      <td>0.0</td>\n",
       "      <td>4.869565</td>\n",
       "    </tr>\n",
       "    <tr>\n",
       "      <th>00f962ce727b8dbbf20925abd5a253dd</th>\n",
       "      <td>20220550.595238</td>\n",
       "      <td>21.785714</td>\n",
       "      <td>18097.0</td>\n",
       "      <td>330900.0</td>\n",
       "      <td>39.52381</td>\n",
       "      <td>0.0</td>\n",
       "      <td>1.047619</td>\n",
       "      <td>16.880952</td>\n",
       "      <td>7.428571</td>\n",
       "      <td>0.238095</td>\n",
       "      <td>18.214286</td>\n",
       "      <td>12.119048</td>\n",
       "      <td>0.0</td>\n",
       "      <td>0.0</td>\n",
       "      <td>0.0</td>\n",
       "      <td>27.095238</td>\n",
       "      <td>0.0</td>\n",
       "      <td>0.0</td>\n",
       "      <td>0.285714</td>\n",
       "      <td>0.0</td>\n",
       "    </tr>\n",
       "    <tr>\n",
       "      <th>...</th>\n",
       "      <td>...</td>\n",
       "      <td>...</td>\n",
       "      <td>...</td>\n",
       "      <td>...</td>\n",
       "      <td>...</td>\n",
       "      <td>...</td>\n",
       "      <td>...</td>\n",
       "      <td>...</td>\n",
       "      <td>...</td>\n",
       "      <td>...</td>\n",
       "      <td>...</td>\n",
       "      <td>...</td>\n",
       "      <td>...</td>\n",
       "      <td>...</td>\n",
       "      <td>...</td>\n",
       "      <td>...</td>\n",
       "      <td>...</td>\n",
       "      <td>...</td>\n",
       "      <td>...</td>\n",
       "      <td>...</td>\n",
       "    </tr>\n",
       "    <tr>\n",
       "      <th>fcf9f3effa992cfd552696e4ae7219b6</th>\n",
       "      <td>20220552.6</td>\n",
       "      <td>21.9</td>\n",
       "      <td>18097.0</td>\n",
       "      <td>330103.0</td>\n",
       "      <td>16.275</td>\n",
       "      <td>0.0</td>\n",
       "      <td>0.0</td>\n",
       "      <td>0.725</td>\n",
       "      <td>6.225</td>\n",
       "      <td>0.0</td>\n",
       "      <td>1.35</td>\n",
       "      <td>1.425</td>\n",
       "      <td>0.0</td>\n",
       "      <td>0.0</td>\n",
       "      <td>0.0</td>\n",
       "      <td>0.875</td>\n",
       "      <td>0.0</td>\n",
       "      <td>0.0</td>\n",
       "      <td>0.0</td>\n",
       "      <td>2.4</td>\n",
       "    </tr>\n",
       "    <tr>\n",
       "      <th>fcfc60d8240e5a51f878fd92e2a352a3</th>\n",
       "      <td>20220510.941176</td>\n",
       "      <td>19.970588</td>\n",
       "      <td>18157.0</td>\n",
       "      <td>1300.0</td>\n",
       "      <td>19.705882</td>\n",
       "      <td>0.0</td>\n",
       "      <td>0.764706</td>\n",
       "      <td>6.029412</td>\n",
       "      <td>2.676471</td>\n",
       "      <td>0.0</td>\n",
       "      <td>0.441176</td>\n",
       "      <td>0.382353</td>\n",
       "      <td>0.0</td>\n",
       "      <td>0.0</td>\n",
       "      <td>0.0</td>\n",
       "      <td>0.882353</td>\n",
       "      <td>0.0</td>\n",
       "      <td>0.0</td>\n",
       "      <td>1.882353</td>\n",
       "      <td>3.147059</td>\n",
       "    </tr>\n",
       "    <tr>\n",
       "      <th>fd613eba867c6ad7350a937f743b88f2</th>\n",
       "      <td>20220532.514286</td>\n",
       "      <td>21.057143</td>\n",
       "      <td>18003.0</td>\n",
       "      <td>11304.0</td>\n",
       "      <td>21.485714</td>\n",
       "      <td>0.0</td>\n",
       "      <td>1.028571</td>\n",
       "      <td>5.771429</td>\n",
       "      <td>3.085714</td>\n",
       "      <td>0.0</td>\n",
       "      <td>2.971429</td>\n",
       "      <td>3.028571</td>\n",
       "      <td>0.0</td>\n",
       "      <td>0.0</td>\n",
       "      <td>0.0</td>\n",
       "      <td>7.828571</td>\n",
       "      <td>0.0</td>\n",
       "      <td>0.0</td>\n",
       "      <td>0.571429</td>\n",
       "      <td>0.714286</td>\n",
       "    </tr>\n",
       "    <tr>\n",
       "      <th>fe355ff27aa8b2242a558d5e3ec99c18</th>\n",
       "      <td>20220521.7</td>\n",
       "      <td>20.566667</td>\n",
       "      <td>18053.0</td>\n",
       "      <td>600.0</td>\n",
       "      <td>15.666667</td>\n",
       "      <td>0.0</td>\n",
       "      <td>0.0</td>\n",
       "      <td>3.666667</td>\n",
       "      <td>0.0</td>\n",
       "      <td>0.0</td>\n",
       "      <td>1.266667</td>\n",
       "      <td>1.333333</td>\n",
       "      <td>0.0</td>\n",
       "      <td>0.0</td>\n",
       "      <td>0.0</td>\n",
       "      <td>0.6</td>\n",
       "      <td>0.0</td>\n",
       "      <td>0.0</td>\n",
       "      <td>0.0</td>\n",
       "      <td>2.866667</td>\n",
       "    </tr>\n",
       "    <tr>\n",
       "      <th>fec479d0202d6e1e3f051a9ee902ff5d</th>\n",
       "      <td>20220550.595238</td>\n",
       "      <td>21.785714</td>\n",
       "      <td>18089.0</td>\n",
       "      <td>43300.0</td>\n",
       "      <td>30.404762</td>\n",
       "      <td>0.0</td>\n",
       "      <td>0.261905</td>\n",
       "      <td>4.190476</td>\n",
       "      <td>12.285714</td>\n",
       "      <td>0.0</td>\n",
       "      <td>9.166667</td>\n",
       "      <td>12.690476</td>\n",
       "      <td>0.0</td>\n",
       "      <td>0.0</td>\n",
       "      <td>0.0</td>\n",
       "      <td>0.333333</td>\n",
       "      <td>0.0</td>\n",
       "      <td>0.0</td>\n",
       "      <td>0.0</td>\n",
       "      <td>23.047619</td>\n",
       "    </tr>\n",
       "  </tbody>\n",
       "</table>\n",
       "<p>525 rows × 20 columns</p>\n",
       "</div>"
      ],
      "text/plain": [
       "                                       timeperiod  week_number  countyfips  \\\n",
       "uu_id                                                                        \n",
       "001cd9ae23064d7f0fd3cd327c873d8d  20220843.272727    34.636364     18099.0   \n",
       "005be9532fd717dc36d4be318fd9ad25  20220584.029412    23.117647     18039.0   \n",
       "007c1caccff1fbb3a0b8a10790f77141       20220497.8         19.4     18081.0   \n",
       "009683350b175edfc6414d664e4ba873  20220447.217391    17.086957     18089.0   \n",
       "00f962ce727b8dbbf20925abd5a253dd  20220550.595238    21.785714     18097.0   \n",
       "...                                           ...          ...         ...   \n",
       "fcf9f3effa992cfd552696e4ae7219b6       20220552.6         21.9     18097.0   \n",
       "fcfc60d8240e5a51f878fd92e2a352a3  20220510.941176    19.970588     18157.0   \n",
       "fd613eba867c6ad7350a937f743b88f2  20220532.514286    21.057143     18003.0   \n",
       "fe355ff27aa8b2242a558d5e3ec99c18       20220521.7    20.566667     18053.0   \n",
       "fec479d0202d6e1e3f051a9ee902ff5d  20220550.595238    21.785714     18089.0   \n",
       "\n",
       "                                     tract  total_claims  edu_8th_or_less  \\\n",
       "uu_id                                                                       \n",
       "001cd9ae23064d7f0fd3cd327c873d8d   20102.0     15.454545              0.0   \n",
       "005be9532fd717dc36d4be318fd9ad25     802.0     32.852941              0.0   \n",
       "007c1caccff1fbb3a0b8a10790f77141  610900.0         18.88              0.0   \n",
       "009683350b175edfc6414d664e4ba873   42801.0     19.130435              0.0   \n",
       "00f962ce727b8dbbf20925abd5a253dd  330900.0      39.52381              0.0   \n",
       "...                                    ...           ...              ...   \n",
       "fcf9f3effa992cfd552696e4ae7219b6  330103.0        16.275              0.0   \n",
       "fcfc60d8240e5a51f878fd92e2a352a3    1300.0     19.705882              0.0   \n",
       "fd613eba867c6ad7350a937f743b88f2   11304.0     21.485714              0.0   \n",
       "fe355ff27aa8b2242a558d5e3ec99c18     600.0     15.666667              0.0   \n",
       "fec479d0202d6e1e3f051a9ee902ff5d   43300.0     30.404762              0.0   \n",
       "\n",
       "                                  edu_grades_9_11  edu_hs_grad_equiv  \\\n",
       "uu_id                                                                  \n",
       "001cd9ae23064d7f0fd3cd327c873d8d              0.0           2.727273   \n",
       "005be9532fd717dc36d4be318fd9ad25              0.0          15.764706   \n",
       "007c1caccff1fbb3a0b8a10790f77141              0.0               6.76   \n",
       "009683350b175edfc6414d664e4ba873              0.0           3.478261   \n",
       "00f962ce727b8dbbf20925abd5a253dd         1.047619          16.880952   \n",
       "...                                           ...                ...   \n",
       "fcf9f3effa992cfd552696e4ae7219b6              0.0              0.725   \n",
       "fcfc60d8240e5a51f878fd92e2a352a3         0.764706           6.029412   \n",
       "fd613eba867c6ad7350a937f743b88f2         1.028571           5.771429   \n",
       "fe355ff27aa8b2242a558d5e3ec99c18              0.0           3.666667   \n",
       "fec479d0202d6e1e3f051a9ee902ff5d         0.261905           4.190476   \n",
       "\n",
       "                                  edu_post_hs  edu_unknown  gender_female  \\\n",
       "uu_id                                                                       \n",
       "001cd9ae23064d7f0fd3cd327c873d8d          0.0          0.0            0.0   \n",
       "005be9532fd717dc36d4be318fd9ad25     3.058824          0.0       8.735294   \n",
       "007c1caccff1fbb3a0b8a10790f77141          0.0          0.0           0.44   \n",
       "009683350b175edfc6414d664e4ba873     1.956522     0.565217       0.565217   \n",
       "00f962ce727b8dbbf20925abd5a253dd     7.428571     0.238095      18.214286   \n",
       "...                                       ...          ...            ...   \n",
       "fcf9f3effa992cfd552696e4ae7219b6        6.225          0.0           1.35   \n",
       "fcfc60d8240e5a51f878fd92e2a352a3     2.676471          0.0       0.441176   \n",
       "fd613eba867c6ad7350a937f743b88f2     3.085714          0.0       2.971429   \n",
       "fe355ff27aa8b2242a558d5e3ec99c18          0.0          0.0       1.266667   \n",
       "fec479d0202d6e1e3f051a9ee902ff5d    12.285714          0.0       9.166667   \n",
       "\n",
       "                                  gender_male  gender_na  race_amerindian  \\\n",
       "uu_id                                                                       \n",
       "001cd9ae23064d7f0fd3cd327c873d8d          4.0        0.0              0.0   \n",
       "005be9532fd717dc36d4be318fd9ad25    14.117647        0.0              0.0   \n",
       "007c1caccff1fbb3a0b8a10790f77141          0.4        0.0              0.0   \n",
       "009683350b175edfc6414d664e4ba873     1.478261        0.0              0.0   \n",
       "00f962ce727b8dbbf20925abd5a253dd    12.119048        0.0              0.0   \n",
       "...                                       ...        ...              ...   \n",
       "fcf9f3effa992cfd552696e4ae7219b6        1.425        0.0              0.0   \n",
       "fcfc60d8240e5a51f878fd92e2a352a3     0.382353        0.0              0.0   \n",
       "fd613eba867c6ad7350a937f743b88f2     3.028571        0.0              0.0   \n",
       "fe355ff27aa8b2242a558d5e3ec99c18     1.333333        0.0              0.0   \n",
       "fec479d0202d6e1e3f051a9ee902ff5d    12.690476        0.0              0.0   \n",
       "\n",
       "                                  race_asian  race_black  race_noanswer  \\\n",
       "uu_id                                                                     \n",
       "001cd9ae23064d7f0fd3cd327c873d8d         0.0         0.0            0.0   \n",
       "005be9532fd717dc36d4be318fd9ad25         0.0         0.0            0.0   \n",
       "007c1caccff1fbb3a0b8a10790f77141         0.0        3.68            0.0   \n",
       "009683350b175edfc6414d664e4ba873         0.0    3.695652            0.0   \n",
       "00f962ce727b8dbbf20925abd5a253dd         0.0   27.095238            0.0   \n",
       "...                                      ...         ...            ...   \n",
       "fcf9f3effa992cfd552696e4ae7219b6         0.0       0.875            0.0   \n",
       "fcfc60d8240e5a51f878fd92e2a352a3         0.0    0.882353            0.0   \n",
       "fd613eba867c6ad7350a937f743b88f2         0.0    7.828571            0.0   \n",
       "fe355ff27aa8b2242a558d5e3ec99c18         0.0         0.6            0.0   \n",
       "fec479d0202d6e1e3f051a9ee902ff5d         0.0    0.333333            0.0   \n",
       "\n",
       "                                  race_hawaiiannative  race_other  race_white  \n",
       "uu_id                                                                          \n",
       "001cd9ae23064d7f0fd3cd327c873d8d                  0.0         0.0    4.909091  \n",
       "005be9532fd717dc36d4be318fd9ad25                  0.0         0.0   21.735294  \n",
       "007c1caccff1fbb3a0b8a10790f77141                  0.0         0.0       10.12  \n",
       "009683350b175edfc6414d664e4ba873                  0.0         0.0    4.869565  \n",
       "00f962ce727b8dbbf20925abd5a253dd                  0.0    0.285714         0.0  \n",
       "...                                               ...         ...         ...  \n",
       "fcf9f3effa992cfd552696e4ae7219b6                  0.0         0.0         2.4  \n",
       "fcfc60d8240e5a51f878fd92e2a352a3                  0.0    1.882353    3.147059  \n",
       "fd613eba867c6ad7350a937f743b88f2                  0.0    0.571429    0.714286  \n",
       "fe355ff27aa8b2242a558d5e3ec99c18                  0.0         0.0    2.866667  \n",
       "fec479d0202d6e1e3f051a9ee902ff5d                  0.0         0.0   23.047619  \n",
       "\n",
       "[525 rows x 20 columns]"
      ]
     },
     "execution_count": 69,
     "metadata": {},
     "output_type": "execute_result"
    }
   ],
   "source": [
    "data.groupby(by=[\"uu_id\"]).mean()"
   ]
  },
  {
   "cell_type": "code",
   "execution_count": 70,
   "id": "fe1c9a64",
   "metadata": {
    "execution": {
     "iopub.execute_input": "2023-05-10T02:23:05.293266Z",
     "iopub.status.busy": "2023-05-10T02:23:05.293121Z",
     "iopub.status.idle": "2023-05-10T02:23:05.300302Z",
     "shell.execute_reply": "2023-05-10T02:23:05.300042Z"
    }
   },
   "outputs": [
    {
     "name": "stderr",
     "output_type": "stream",
     "text": [
      "/var/folders/l2/cnhff0_n1470l4xf0p7v7l_40000gn/T/ipykernel_18128/2720939820.py:1: FutureWarning: The default value of numeric_only in DataFrameGroupBy.mean is deprecated. In a future version, numeric_only will default to False. Either specify numeric_only or select only columns which should be valid for the function.\n",
      "  test = data.groupby(by=[\"uu_id\"]).mean()\n"
     ]
    }
   ],
   "source": [
    "test = data.groupby(by=[\"uu_id\"]).mean()"
   ]
  },
  {
   "cell_type": "code",
   "execution_count": 71,
   "id": "f31d7666",
   "metadata": {
    "execution": {
     "iopub.execute_input": "2023-05-10T02:23:05.301807Z",
     "iopub.status.busy": "2023-05-10T02:23:05.301717Z",
     "iopub.status.idle": "2023-05-10T02:23:05.316635Z",
     "shell.execute_reply": "2023-05-10T02:23:05.316377Z"
    }
   },
   "outputs": [
    {
     "name": "stderr",
     "output_type": "stream",
     "text": [
      "/var/folders/l2/cnhff0_n1470l4xf0p7v7l_40000gn/T/ipykernel_18128/3282407337.py:1: FutureWarning: The default value of numeric_only in DataFrameGroupBy.mean is deprecated. In a future version, numeric_only will default to False. Either specify numeric_only or select only columns which should be valid for the function.\n",
      "  test = data.groupby(by=[\"uu_id\"]).mean()\n"
     ]
    },
    {
     "data": {
      "text/html": [
       "<div>\n",
       "<style scoped>\n",
       "    .dataframe tbody tr th:only-of-type {\n",
       "        vertical-align: middle;\n",
       "    }\n",
       "\n",
       "    .dataframe tbody tr th {\n",
       "        vertical-align: top;\n",
       "    }\n",
       "\n",
       "    .dataframe thead th {\n",
       "        text-align: right;\n",
       "    }\n",
       "</style>\n",
       "<table border=\"1\" class=\"dataframe\">\n",
       "  <thead>\n",
       "    <tr style=\"text-align: right;\">\n",
       "      <th></th>\n",
       "      <th>timeperiod</th>\n",
       "      <th>week_number</th>\n",
       "      <th>countyfips</th>\n",
       "      <th>tract</th>\n",
       "      <th>total_claims</th>\n",
       "      <th>edu_8th_or_less</th>\n",
       "      <th>edu_grades_9_11</th>\n",
       "      <th>edu_hs_grad_equiv</th>\n",
       "      <th>edu_post_hs</th>\n",
       "      <th>edu_unknown</th>\n",
       "      <th>gender_female</th>\n",
       "      <th>gender_male</th>\n",
       "      <th>gender_na</th>\n",
       "      <th>race_amerindian</th>\n",
       "      <th>race_asian</th>\n",
       "      <th>race_black</th>\n",
       "      <th>race_noanswer</th>\n",
       "      <th>race_hawaiiannative</th>\n",
       "      <th>race_other</th>\n",
       "      <th>race_white</th>\n",
       "    </tr>\n",
       "    <tr>\n",
       "      <th>uu_id</th>\n",
       "      <th></th>\n",
       "      <th></th>\n",
       "      <th></th>\n",
       "      <th></th>\n",
       "      <th></th>\n",
       "      <th></th>\n",
       "      <th></th>\n",
       "      <th></th>\n",
       "      <th></th>\n",
       "      <th></th>\n",
       "      <th></th>\n",
       "      <th></th>\n",
       "      <th></th>\n",
       "      <th></th>\n",
       "      <th></th>\n",
       "      <th></th>\n",
       "      <th></th>\n",
       "      <th></th>\n",
       "      <th></th>\n",
       "      <th></th>\n",
       "    </tr>\n",
       "  </thead>\n",
       "  <tbody>\n",
       "    <tr>\n",
       "      <th>001cd9ae23064d7f0fd3cd327c873d8d</th>\n",
       "      <td>20220843.272727</td>\n",
       "      <td>34.636364</td>\n",
       "      <td>18099.0</td>\n",
       "      <td>20102.0</td>\n",
       "      <td>15.454545</td>\n",
       "      <td>0.0</td>\n",
       "      <td>0.0</td>\n",
       "      <td>2.727273</td>\n",
       "      <td>0.0</td>\n",
       "      <td>0.0</td>\n",
       "      <td>0.0</td>\n",
       "      <td>4.0</td>\n",
       "      <td>0.0</td>\n",
       "      <td>0.0</td>\n",
       "      <td>0.0</td>\n",
       "      <td>0.0</td>\n",
       "      <td>0.0</td>\n",
       "      <td>0.0</td>\n",
       "      <td>0.0</td>\n",
       "      <td>4.909091</td>\n",
       "    </tr>\n",
       "    <tr>\n",
       "      <th>005be9532fd717dc36d4be318fd9ad25</th>\n",
       "      <td>20220584.029412</td>\n",
       "      <td>23.117647</td>\n",
       "      <td>18039.0</td>\n",
       "      <td>802.0</td>\n",
       "      <td>32.852941</td>\n",
       "      <td>0.0</td>\n",
       "      <td>0.0</td>\n",
       "      <td>15.764706</td>\n",
       "      <td>3.058824</td>\n",
       "      <td>0.0</td>\n",
       "      <td>8.735294</td>\n",
       "      <td>14.117647</td>\n",
       "      <td>0.0</td>\n",
       "      <td>0.0</td>\n",
       "      <td>0.0</td>\n",
       "      <td>0.0</td>\n",
       "      <td>0.0</td>\n",
       "      <td>0.0</td>\n",
       "      <td>0.0</td>\n",
       "      <td>21.735294</td>\n",
       "    </tr>\n",
       "    <tr>\n",
       "      <th>007c1caccff1fbb3a0b8a10790f77141</th>\n",
       "      <td>20220497.8</td>\n",
       "      <td>19.4</td>\n",
       "      <td>18081.0</td>\n",
       "      <td>610900.0</td>\n",
       "      <td>18.88</td>\n",
       "      <td>0.0</td>\n",
       "      <td>0.0</td>\n",
       "      <td>6.76</td>\n",
       "      <td>0.0</td>\n",
       "      <td>0.0</td>\n",
       "      <td>0.44</td>\n",
       "      <td>0.4</td>\n",
       "      <td>0.0</td>\n",
       "      <td>0.0</td>\n",
       "      <td>0.0</td>\n",
       "      <td>3.68</td>\n",
       "      <td>0.0</td>\n",
       "      <td>0.0</td>\n",
       "      <td>0.0</td>\n",
       "      <td>10.12</td>\n",
       "    </tr>\n",
       "    <tr>\n",
       "      <th>009683350b175edfc6414d664e4ba873</th>\n",
       "      <td>20220447.217391</td>\n",
       "      <td>17.086957</td>\n",
       "      <td>18089.0</td>\n",
       "      <td>42801.0</td>\n",
       "      <td>19.130435</td>\n",
       "      <td>0.0</td>\n",
       "      <td>0.0</td>\n",
       "      <td>3.478261</td>\n",
       "      <td>1.956522</td>\n",
       "      <td>0.565217</td>\n",
       "      <td>0.565217</td>\n",
       "      <td>1.478261</td>\n",
       "      <td>0.0</td>\n",
       "      <td>0.0</td>\n",
       "      <td>0.0</td>\n",
       "      <td>3.695652</td>\n",
       "      <td>0.0</td>\n",
       "      <td>0.0</td>\n",
       "      <td>0.0</td>\n",
       "      <td>4.869565</td>\n",
       "    </tr>\n",
       "    <tr>\n",
       "      <th>00f962ce727b8dbbf20925abd5a253dd</th>\n",
       "      <td>20220550.595238</td>\n",
       "      <td>21.785714</td>\n",
       "      <td>18097.0</td>\n",
       "      <td>330900.0</td>\n",
       "      <td>39.52381</td>\n",
       "      <td>0.0</td>\n",
       "      <td>1.047619</td>\n",
       "      <td>16.880952</td>\n",
       "      <td>7.428571</td>\n",
       "      <td>0.238095</td>\n",
       "      <td>18.214286</td>\n",
       "      <td>12.119048</td>\n",
       "      <td>0.0</td>\n",
       "      <td>0.0</td>\n",
       "      <td>0.0</td>\n",
       "      <td>27.095238</td>\n",
       "      <td>0.0</td>\n",
       "      <td>0.0</td>\n",
       "      <td>0.285714</td>\n",
       "      <td>0.0</td>\n",
       "    </tr>\n",
       "    <tr>\n",
       "      <th>...</th>\n",
       "      <td>...</td>\n",
       "      <td>...</td>\n",
       "      <td>...</td>\n",
       "      <td>...</td>\n",
       "      <td>...</td>\n",
       "      <td>...</td>\n",
       "      <td>...</td>\n",
       "      <td>...</td>\n",
       "      <td>...</td>\n",
       "      <td>...</td>\n",
       "      <td>...</td>\n",
       "      <td>...</td>\n",
       "      <td>...</td>\n",
       "      <td>...</td>\n",
       "      <td>...</td>\n",
       "      <td>...</td>\n",
       "      <td>...</td>\n",
       "      <td>...</td>\n",
       "      <td>...</td>\n",
       "      <td>...</td>\n",
       "    </tr>\n",
       "    <tr>\n",
       "      <th>fcf9f3effa992cfd552696e4ae7219b6</th>\n",
       "      <td>20220552.6</td>\n",
       "      <td>21.9</td>\n",
       "      <td>18097.0</td>\n",
       "      <td>330103.0</td>\n",
       "      <td>16.275</td>\n",
       "      <td>0.0</td>\n",
       "      <td>0.0</td>\n",
       "      <td>0.725</td>\n",
       "      <td>6.225</td>\n",
       "      <td>0.0</td>\n",
       "      <td>1.35</td>\n",
       "      <td>1.425</td>\n",
       "      <td>0.0</td>\n",
       "      <td>0.0</td>\n",
       "      <td>0.0</td>\n",
       "      <td>0.875</td>\n",
       "      <td>0.0</td>\n",
       "      <td>0.0</td>\n",
       "      <td>0.0</td>\n",
       "      <td>2.4</td>\n",
       "    </tr>\n",
       "    <tr>\n",
       "      <th>fcfc60d8240e5a51f878fd92e2a352a3</th>\n",
       "      <td>20220510.941176</td>\n",
       "      <td>19.970588</td>\n",
       "      <td>18157.0</td>\n",
       "      <td>1300.0</td>\n",
       "      <td>19.705882</td>\n",
       "      <td>0.0</td>\n",
       "      <td>0.764706</td>\n",
       "      <td>6.029412</td>\n",
       "      <td>2.676471</td>\n",
       "      <td>0.0</td>\n",
       "      <td>0.441176</td>\n",
       "      <td>0.382353</td>\n",
       "      <td>0.0</td>\n",
       "      <td>0.0</td>\n",
       "      <td>0.0</td>\n",
       "      <td>0.882353</td>\n",
       "      <td>0.0</td>\n",
       "      <td>0.0</td>\n",
       "      <td>1.882353</td>\n",
       "      <td>3.147059</td>\n",
       "    </tr>\n",
       "    <tr>\n",
       "      <th>fd613eba867c6ad7350a937f743b88f2</th>\n",
       "      <td>20220532.514286</td>\n",
       "      <td>21.057143</td>\n",
       "      <td>18003.0</td>\n",
       "      <td>11304.0</td>\n",
       "      <td>21.485714</td>\n",
       "      <td>0.0</td>\n",
       "      <td>1.028571</td>\n",
       "      <td>5.771429</td>\n",
       "      <td>3.085714</td>\n",
       "      <td>0.0</td>\n",
       "      <td>2.971429</td>\n",
       "      <td>3.028571</td>\n",
       "      <td>0.0</td>\n",
       "      <td>0.0</td>\n",
       "      <td>0.0</td>\n",
       "      <td>7.828571</td>\n",
       "      <td>0.0</td>\n",
       "      <td>0.0</td>\n",
       "      <td>0.571429</td>\n",
       "      <td>0.714286</td>\n",
       "    </tr>\n",
       "    <tr>\n",
       "      <th>fe355ff27aa8b2242a558d5e3ec99c18</th>\n",
       "      <td>20220521.7</td>\n",
       "      <td>20.566667</td>\n",
       "      <td>18053.0</td>\n",
       "      <td>600.0</td>\n",
       "      <td>15.666667</td>\n",
       "      <td>0.0</td>\n",
       "      <td>0.0</td>\n",
       "      <td>3.666667</td>\n",
       "      <td>0.0</td>\n",
       "      <td>0.0</td>\n",
       "      <td>1.266667</td>\n",
       "      <td>1.333333</td>\n",
       "      <td>0.0</td>\n",
       "      <td>0.0</td>\n",
       "      <td>0.0</td>\n",
       "      <td>0.6</td>\n",
       "      <td>0.0</td>\n",
       "      <td>0.0</td>\n",
       "      <td>0.0</td>\n",
       "      <td>2.866667</td>\n",
       "    </tr>\n",
       "    <tr>\n",
       "      <th>fec479d0202d6e1e3f051a9ee902ff5d</th>\n",
       "      <td>20220550.595238</td>\n",
       "      <td>21.785714</td>\n",
       "      <td>18089.0</td>\n",
       "      <td>43300.0</td>\n",
       "      <td>30.404762</td>\n",
       "      <td>0.0</td>\n",
       "      <td>0.261905</td>\n",
       "      <td>4.190476</td>\n",
       "      <td>12.285714</td>\n",
       "      <td>0.0</td>\n",
       "      <td>9.166667</td>\n",
       "      <td>12.690476</td>\n",
       "      <td>0.0</td>\n",
       "      <td>0.0</td>\n",
       "      <td>0.0</td>\n",
       "      <td>0.333333</td>\n",
       "      <td>0.0</td>\n",
       "      <td>0.0</td>\n",
       "      <td>0.0</td>\n",
       "      <td>23.047619</td>\n",
       "    </tr>\n",
       "  </tbody>\n",
       "</table>\n",
       "<p>525 rows × 20 columns</p>\n",
       "</div>"
      ],
      "text/plain": [
       "                                       timeperiod  week_number  countyfips  \\\n",
       "uu_id                                                                        \n",
       "001cd9ae23064d7f0fd3cd327c873d8d  20220843.272727    34.636364     18099.0   \n",
       "005be9532fd717dc36d4be318fd9ad25  20220584.029412    23.117647     18039.0   \n",
       "007c1caccff1fbb3a0b8a10790f77141       20220497.8         19.4     18081.0   \n",
       "009683350b175edfc6414d664e4ba873  20220447.217391    17.086957     18089.0   \n",
       "00f962ce727b8dbbf20925abd5a253dd  20220550.595238    21.785714     18097.0   \n",
       "...                                           ...          ...         ...   \n",
       "fcf9f3effa992cfd552696e4ae7219b6       20220552.6         21.9     18097.0   \n",
       "fcfc60d8240e5a51f878fd92e2a352a3  20220510.941176    19.970588     18157.0   \n",
       "fd613eba867c6ad7350a937f743b88f2  20220532.514286    21.057143     18003.0   \n",
       "fe355ff27aa8b2242a558d5e3ec99c18       20220521.7    20.566667     18053.0   \n",
       "fec479d0202d6e1e3f051a9ee902ff5d  20220550.595238    21.785714     18089.0   \n",
       "\n",
       "                                     tract  total_claims  edu_8th_or_less  \\\n",
       "uu_id                                                                       \n",
       "001cd9ae23064d7f0fd3cd327c873d8d   20102.0     15.454545              0.0   \n",
       "005be9532fd717dc36d4be318fd9ad25     802.0     32.852941              0.0   \n",
       "007c1caccff1fbb3a0b8a10790f77141  610900.0         18.88              0.0   \n",
       "009683350b175edfc6414d664e4ba873   42801.0     19.130435              0.0   \n",
       "00f962ce727b8dbbf20925abd5a253dd  330900.0      39.52381              0.0   \n",
       "...                                    ...           ...              ...   \n",
       "fcf9f3effa992cfd552696e4ae7219b6  330103.0        16.275              0.0   \n",
       "fcfc60d8240e5a51f878fd92e2a352a3    1300.0     19.705882              0.0   \n",
       "fd613eba867c6ad7350a937f743b88f2   11304.0     21.485714              0.0   \n",
       "fe355ff27aa8b2242a558d5e3ec99c18     600.0     15.666667              0.0   \n",
       "fec479d0202d6e1e3f051a9ee902ff5d   43300.0     30.404762              0.0   \n",
       "\n",
       "                                  edu_grades_9_11  edu_hs_grad_equiv  \\\n",
       "uu_id                                                                  \n",
       "001cd9ae23064d7f0fd3cd327c873d8d              0.0           2.727273   \n",
       "005be9532fd717dc36d4be318fd9ad25              0.0          15.764706   \n",
       "007c1caccff1fbb3a0b8a10790f77141              0.0               6.76   \n",
       "009683350b175edfc6414d664e4ba873              0.0           3.478261   \n",
       "00f962ce727b8dbbf20925abd5a253dd         1.047619          16.880952   \n",
       "...                                           ...                ...   \n",
       "fcf9f3effa992cfd552696e4ae7219b6              0.0              0.725   \n",
       "fcfc60d8240e5a51f878fd92e2a352a3         0.764706           6.029412   \n",
       "fd613eba867c6ad7350a937f743b88f2         1.028571           5.771429   \n",
       "fe355ff27aa8b2242a558d5e3ec99c18              0.0           3.666667   \n",
       "fec479d0202d6e1e3f051a9ee902ff5d         0.261905           4.190476   \n",
       "\n",
       "                                  edu_post_hs  edu_unknown  gender_female  \\\n",
       "uu_id                                                                       \n",
       "001cd9ae23064d7f0fd3cd327c873d8d          0.0          0.0            0.0   \n",
       "005be9532fd717dc36d4be318fd9ad25     3.058824          0.0       8.735294   \n",
       "007c1caccff1fbb3a0b8a10790f77141          0.0          0.0           0.44   \n",
       "009683350b175edfc6414d664e4ba873     1.956522     0.565217       0.565217   \n",
       "00f962ce727b8dbbf20925abd5a253dd     7.428571     0.238095      18.214286   \n",
       "...                                       ...          ...            ...   \n",
       "fcf9f3effa992cfd552696e4ae7219b6        6.225          0.0           1.35   \n",
       "fcfc60d8240e5a51f878fd92e2a352a3     2.676471          0.0       0.441176   \n",
       "fd613eba867c6ad7350a937f743b88f2     3.085714          0.0       2.971429   \n",
       "fe355ff27aa8b2242a558d5e3ec99c18          0.0          0.0       1.266667   \n",
       "fec479d0202d6e1e3f051a9ee902ff5d    12.285714          0.0       9.166667   \n",
       "\n",
       "                                  gender_male  gender_na  race_amerindian  \\\n",
       "uu_id                                                                       \n",
       "001cd9ae23064d7f0fd3cd327c873d8d          4.0        0.0              0.0   \n",
       "005be9532fd717dc36d4be318fd9ad25    14.117647        0.0              0.0   \n",
       "007c1caccff1fbb3a0b8a10790f77141          0.4        0.0              0.0   \n",
       "009683350b175edfc6414d664e4ba873     1.478261        0.0              0.0   \n",
       "00f962ce727b8dbbf20925abd5a253dd    12.119048        0.0              0.0   \n",
       "...                                       ...        ...              ...   \n",
       "fcf9f3effa992cfd552696e4ae7219b6        1.425        0.0              0.0   \n",
       "fcfc60d8240e5a51f878fd92e2a352a3     0.382353        0.0              0.0   \n",
       "fd613eba867c6ad7350a937f743b88f2     3.028571        0.0              0.0   \n",
       "fe355ff27aa8b2242a558d5e3ec99c18     1.333333        0.0              0.0   \n",
       "fec479d0202d6e1e3f051a9ee902ff5d    12.690476        0.0              0.0   \n",
       "\n",
       "                                  race_asian  race_black  race_noanswer  \\\n",
       "uu_id                                                                     \n",
       "001cd9ae23064d7f0fd3cd327c873d8d         0.0         0.0            0.0   \n",
       "005be9532fd717dc36d4be318fd9ad25         0.0         0.0            0.0   \n",
       "007c1caccff1fbb3a0b8a10790f77141         0.0        3.68            0.0   \n",
       "009683350b175edfc6414d664e4ba873         0.0    3.695652            0.0   \n",
       "00f962ce727b8dbbf20925abd5a253dd         0.0   27.095238            0.0   \n",
       "...                                      ...         ...            ...   \n",
       "fcf9f3effa992cfd552696e4ae7219b6         0.0       0.875            0.0   \n",
       "fcfc60d8240e5a51f878fd92e2a352a3         0.0    0.882353            0.0   \n",
       "fd613eba867c6ad7350a937f743b88f2         0.0    7.828571            0.0   \n",
       "fe355ff27aa8b2242a558d5e3ec99c18         0.0         0.6            0.0   \n",
       "fec479d0202d6e1e3f051a9ee902ff5d         0.0    0.333333            0.0   \n",
       "\n",
       "                                  race_hawaiiannative  race_other  race_white  \n",
       "uu_id                                                                          \n",
       "001cd9ae23064d7f0fd3cd327c873d8d                  0.0         0.0    4.909091  \n",
       "005be9532fd717dc36d4be318fd9ad25                  0.0         0.0   21.735294  \n",
       "007c1caccff1fbb3a0b8a10790f77141                  0.0         0.0       10.12  \n",
       "009683350b175edfc6414d664e4ba873                  0.0         0.0    4.869565  \n",
       "00f962ce727b8dbbf20925abd5a253dd                  0.0    0.285714         0.0  \n",
       "...                                               ...         ...         ...  \n",
       "fcf9f3effa992cfd552696e4ae7219b6                  0.0         0.0         2.4  \n",
       "fcfc60d8240e5a51f878fd92e2a352a3                  0.0    1.882353    3.147059  \n",
       "fd613eba867c6ad7350a937f743b88f2                  0.0    0.571429    0.714286  \n",
       "fe355ff27aa8b2242a558d5e3ec99c18                  0.0         0.0    2.866667  \n",
       "fec479d0202d6e1e3f051a9ee902ff5d                  0.0         0.0   23.047619  \n",
       "\n",
       "[525 rows x 20 columns]"
      ]
     },
     "execution_count": 71,
     "metadata": {},
     "output_type": "execute_result"
    }
   ],
   "source": [
    "test = data.groupby(by=[\"uu_id\"]).mean()\n",
    "test"
   ]
  },
  {
   "cell_type": "code",
   "execution_count": 72,
   "id": "49b8f5eb",
   "metadata": {
    "execution": {
     "iopub.execute_input": "2023-05-10T02:23:05.318256Z",
     "iopub.status.busy": "2023-05-10T02:23:05.318145Z",
     "iopub.status.idle": "2023-05-10T02:23:05.332897Z",
     "shell.execute_reply": "2023-05-10T02:23:05.332610Z"
    }
   },
   "outputs": [
    {
     "name": "stderr",
     "output_type": "stream",
     "text": [
      "/var/folders/l2/cnhff0_n1470l4xf0p7v7l_40000gn/T/ipykernel_18128/1140161251.py:1: FutureWarning: The default value of numeric_only in DataFrameGroupBy.mean is deprecated. In a future version, numeric_only will default to False. Either specify numeric_only or select only columns which should be valid for the function.\n",
      "  predict = data.groupby(by=[\"uu_id\"]).mean()\n"
     ]
    },
    {
     "data": {
      "text/html": [
       "<div>\n",
       "<style scoped>\n",
       "    .dataframe tbody tr th:only-of-type {\n",
       "        vertical-align: middle;\n",
       "    }\n",
       "\n",
       "    .dataframe tbody tr th {\n",
       "        vertical-align: top;\n",
       "    }\n",
       "\n",
       "    .dataframe thead th {\n",
       "        text-align: right;\n",
       "    }\n",
       "</style>\n",
       "<table border=\"1\" class=\"dataframe\">\n",
       "  <thead>\n",
       "    <tr style=\"text-align: right;\">\n",
       "      <th></th>\n",
       "      <th>timeperiod</th>\n",
       "      <th>week_number</th>\n",
       "      <th>countyfips</th>\n",
       "      <th>tract</th>\n",
       "      <th>total_claims</th>\n",
       "      <th>edu_8th_or_less</th>\n",
       "      <th>edu_grades_9_11</th>\n",
       "      <th>edu_hs_grad_equiv</th>\n",
       "      <th>edu_post_hs</th>\n",
       "      <th>edu_unknown</th>\n",
       "      <th>gender_female</th>\n",
       "      <th>gender_male</th>\n",
       "      <th>gender_na</th>\n",
       "      <th>race_amerindian</th>\n",
       "      <th>race_asian</th>\n",
       "      <th>race_black</th>\n",
       "      <th>race_noanswer</th>\n",
       "      <th>race_hawaiiannative</th>\n",
       "      <th>race_other</th>\n",
       "      <th>race_white</th>\n",
       "    </tr>\n",
       "    <tr>\n",
       "      <th>uu_id</th>\n",
       "      <th></th>\n",
       "      <th></th>\n",
       "      <th></th>\n",
       "      <th></th>\n",
       "      <th></th>\n",
       "      <th></th>\n",
       "      <th></th>\n",
       "      <th></th>\n",
       "      <th></th>\n",
       "      <th></th>\n",
       "      <th></th>\n",
       "      <th></th>\n",
       "      <th></th>\n",
       "      <th></th>\n",
       "      <th></th>\n",
       "      <th></th>\n",
       "      <th></th>\n",
       "      <th></th>\n",
       "      <th></th>\n",
       "      <th></th>\n",
       "    </tr>\n",
       "  </thead>\n",
       "  <tbody>\n",
       "    <tr>\n",
       "      <th>001cd9ae23064d7f0fd3cd327c873d8d</th>\n",
       "      <td>20220843.272727</td>\n",
       "      <td>34.636364</td>\n",
       "      <td>18099.0</td>\n",
       "      <td>20102.0</td>\n",
       "      <td>15.454545</td>\n",
       "      <td>0.0</td>\n",
       "      <td>0.0</td>\n",
       "      <td>2.727273</td>\n",
       "      <td>0.0</td>\n",
       "      <td>0.0</td>\n",
       "      <td>0.0</td>\n",
       "      <td>4.0</td>\n",
       "      <td>0.0</td>\n",
       "      <td>0.0</td>\n",
       "      <td>0.0</td>\n",
       "      <td>0.0</td>\n",
       "      <td>0.0</td>\n",
       "      <td>0.0</td>\n",
       "      <td>0.0</td>\n",
       "      <td>4.909091</td>\n",
       "    </tr>\n",
       "    <tr>\n",
       "      <th>005be9532fd717dc36d4be318fd9ad25</th>\n",
       "      <td>20220584.029412</td>\n",
       "      <td>23.117647</td>\n",
       "      <td>18039.0</td>\n",
       "      <td>802.0</td>\n",
       "      <td>32.852941</td>\n",
       "      <td>0.0</td>\n",
       "      <td>0.0</td>\n",
       "      <td>15.764706</td>\n",
       "      <td>3.058824</td>\n",
       "      <td>0.0</td>\n",
       "      <td>8.735294</td>\n",
       "      <td>14.117647</td>\n",
       "      <td>0.0</td>\n",
       "      <td>0.0</td>\n",
       "      <td>0.0</td>\n",
       "      <td>0.0</td>\n",
       "      <td>0.0</td>\n",
       "      <td>0.0</td>\n",
       "      <td>0.0</td>\n",
       "      <td>21.735294</td>\n",
       "    </tr>\n",
       "    <tr>\n",
       "      <th>007c1caccff1fbb3a0b8a10790f77141</th>\n",
       "      <td>20220497.8</td>\n",
       "      <td>19.4</td>\n",
       "      <td>18081.0</td>\n",
       "      <td>610900.0</td>\n",
       "      <td>18.88</td>\n",
       "      <td>0.0</td>\n",
       "      <td>0.0</td>\n",
       "      <td>6.76</td>\n",
       "      <td>0.0</td>\n",
       "      <td>0.0</td>\n",
       "      <td>0.44</td>\n",
       "      <td>0.4</td>\n",
       "      <td>0.0</td>\n",
       "      <td>0.0</td>\n",
       "      <td>0.0</td>\n",
       "      <td>3.68</td>\n",
       "      <td>0.0</td>\n",
       "      <td>0.0</td>\n",
       "      <td>0.0</td>\n",
       "      <td>10.12</td>\n",
       "    </tr>\n",
       "    <tr>\n",
       "      <th>009683350b175edfc6414d664e4ba873</th>\n",
       "      <td>20220447.217391</td>\n",
       "      <td>17.086957</td>\n",
       "      <td>18089.0</td>\n",
       "      <td>42801.0</td>\n",
       "      <td>19.130435</td>\n",
       "      <td>0.0</td>\n",
       "      <td>0.0</td>\n",
       "      <td>3.478261</td>\n",
       "      <td>1.956522</td>\n",
       "      <td>0.565217</td>\n",
       "      <td>0.565217</td>\n",
       "      <td>1.478261</td>\n",
       "      <td>0.0</td>\n",
       "      <td>0.0</td>\n",
       "      <td>0.0</td>\n",
       "      <td>3.695652</td>\n",
       "      <td>0.0</td>\n",
       "      <td>0.0</td>\n",
       "      <td>0.0</td>\n",
       "      <td>4.869565</td>\n",
       "    </tr>\n",
       "    <tr>\n",
       "      <th>00f962ce727b8dbbf20925abd5a253dd</th>\n",
       "      <td>20220550.595238</td>\n",
       "      <td>21.785714</td>\n",
       "      <td>18097.0</td>\n",
       "      <td>330900.0</td>\n",
       "      <td>39.52381</td>\n",
       "      <td>0.0</td>\n",
       "      <td>1.047619</td>\n",
       "      <td>16.880952</td>\n",
       "      <td>7.428571</td>\n",
       "      <td>0.238095</td>\n",
       "      <td>18.214286</td>\n",
       "      <td>12.119048</td>\n",
       "      <td>0.0</td>\n",
       "      <td>0.0</td>\n",
       "      <td>0.0</td>\n",
       "      <td>27.095238</td>\n",
       "      <td>0.0</td>\n",
       "      <td>0.0</td>\n",
       "      <td>0.285714</td>\n",
       "      <td>0.0</td>\n",
       "    </tr>\n",
       "    <tr>\n",
       "      <th>...</th>\n",
       "      <td>...</td>\n",
       "      <td>...</td>\n",
       "      <td>...</td>\n",
       "      <td>...</td>\n",
       "      <td>...</td>\n",
       "      <td>...</td>\n",
       "      <td>...</td>\n",
       "      <td>...</td>\n",
       "      <td>...</td>\n",
       "      <td>...</td>\n",
       "      <td>...</td>\n",
       "      <td>...</td>\n",
       "      <td>...</td>\n",
       "      <td>...</td>\n",
       "      <td>...</td>\n",
       "      <td>...</td>\n",
       "      <td>...</td>\n",
       "      <td>...</td>\n",
       "      <td>...</td>\n",
       "      <td>...</td>\n",
       "    </tr>\n",
       "    <tr>\n",
       "      <th>fcf9f3effa992cfd552696e4ae7219b6</th>\n",
       "      <td>20220552.6</td>\n",
       "      <td>21.9</td>\n",
       "      <td>18097.0</td>\n",
       "      <td>330103.0</td>\n",
       "      <td>16.275</td>\n",
       "      <td>0.0</td>\n",
       "      <td>0.0</td>\n",
       "      <td>0.725</td>\n",
       "      <td>6.225</td>\n",
       "      <td>0.0</td>\n",
       "      <td>1.35</td>\n",
       "      <td>1.425</td>\n",
       "      <td>0.0</td>\n",
       "      <td>0.0</td>\n",
       "      <td>0.0</td>\n",
       "      <td>0.875</td>\n",
       "      <td>0.0</td>\n",
       "      <td>0.0</td>\n",
       "      <td>0.0</td>\n",
       "      <td>2.4</td>\n",
       "    </tr>\n",
       "    <tr>\n",
       "      <th>fcfc60d8240e5a51f878fd92e2a352a3</th>\n",
       "      <td>20220510.941176</td>\n",
       "      <td>19.970588</td>\n",
       "      <td>18157.0</td>\n",
       "      <td>1300.0</td>\n",
       "      <td>19.705882</td>\n",
       "      <td>0.0</td>\n",
       "      <td>0.764706</td>\n",
       "      <td>6.029412</td>\n",
       "      <td>2.676471</td>\n",
       "      <td>0.0</td>\n",
       "      <td>0.441176</td>\n",
       "      <td>0.382353</td>\n",
       "      <td>0.0</td>\n",
       "      <td>0.0</td>\n",
       "      <td>0.0</td>\n",
       "      <td>0.882353</td>\n",
       "      <td>0.0</td>\n",
       "      <td>0.0</td>\n",
       "      <td>1.882353</td>\n",
       "      <td>3.147059</td>\n",
       "    </tr>\n",
       "    <tr>\n",
       "      <th>fd613eba867c6ad7350a937f743b88f2</th>\n",
       "      <td>20220532.514286</td>\n",
       "      <td>21.057143</td>\n",
       "      <td>18003.0</td>\n",
       "      <td>11304.0</td>\n",
       "      <td>21.485714</td>\n",
       "      <td>0.0</td>\n",
       "      <td>1.028571</td>\n",
       "      <td>5.771429</td>\n",
       "      <td>3.085714</td>\n",
       "      <td>0.0</td>\n",
       "      <td>2.971429</td>\n",
       "      <td>3.028571</td>\n",
       "      <td>0.0</td>\n",
       "      <td>0.0</td>\n",
       "      <td>0.0</td>\n",
       "      <td>7.828571</td>\n",
       "      <td>0.0</td>\n",
       "      <td>0.0</td>\n",
       "      <td>0.571429</td>\n",
       "      <td>0.714286</td>\n",
       "    </tr>\n",
       "    <tr>\n",
       "      <th>fe355ff27aa8b2242a558d5e3ec99c18</th>\n",
       "      <td>20220521.7</td>\n",
       "      <td>20.566667</td>\n",
       "      <td>18053.0</td>\n",
       "      <td>600.0</td>\n",
       "      <td>15.666667</td>\n",
       "      <td>0.0</td>\n",
       "      <td>0.0</td>\n",
       "      <td>3.666667</td>\n",
       "      <td>0.0</td>\n",
       "      <td>0.0</td>\n",
       "      <td>1.266667</td>\n",
       "      <td>1.333333</td>\n",
       "      <td>0.0</td>\n",
       "      <td>0.0</td>\n",
       "      <td>0.0</td>\n",
       "      <td>0.6</td>\n",
       "      <td>0.0</td>\n",
       "      <td>0.0</td>\n",
       "      <td>0.0</td>\n",
       "      <td>2.866667</td>\n",
       "    </tr>\n",
       "    <tr>\n",
       "      <th>fec479d0202d6e1e3f051a9ee902ff5d</th>\n",
       "      <td>20220550.595238</td>\n",
       "      <td>21.785714</td>\n",
       "      <td>18089.0</td>\n",
       "      <td>43300.0</td>\n",
       "      <td>30.404762</td>\n",
       "      <td>0.0</td>\n",
       "      <td>0.261905</td>\n",
       "      <td>4.190476</td>\n",
       "      <td>12.285714</td>\n",
       "      <td>0.0</td>\n",
       "      <td>9.166667</td>\n",
       "      <td>12.690476</td>\n",
       "      <td>0.0</td>\n",
       "      <td>0.0</td>\n",
       "      <td>0.0</td>\n",
       "      <td>0.333333</td>\n",
       "      <td>0.0</td>\n",
       "      <td>0.0</td>\n",
       "      <td>0.0</td>\n",
       "      <td>23.047619</td>\n",
       "    </tr>\n",
       "  </tbody>\n",
       "</table>\n",
       "<p>525 rows × 20 columns</p>\n",
       "</div>"
      ],
      "text/plain": [
       "                                       timeperiod  week_number  countyfips  \\\n",
       "uu_id                                                                        \n",
       "001cd9ae23064d7f0fd3cd327c873d8d  20220843.272727    34.636364     18099.0   \n",
       "005be9532fd717dc36d4be318fd9ad25  20220584.029412    23.117647     18039.0   \n",
       "007c1caccff1fbb3a0b8a10790f77141       20220497.8         19.4     18081.0   \n",
       "009683350b175edfc6414d664e4ba873  20220447.217391    17.086957     18089.0   \n",
       "00f962ce727b8dbbf20925abd5a253dd  20220550.595238    21.785714     18097.0   \n",
       "...                                           ...          ...         ...   \n",
       "fcf9f3effa992cfd552696e4ae7219b6       20220552.6         21.9     18097.0   \n",
       "fcfc60d8240e5a51f878fd92e2a352a3  20220510.941176    19.970588     18157.0   \n",
       "fd613eba867c6ad7350a937f743b88f2  20220532.514286    21.057143     18003.0   \n",
       "fe355ff27aa8b2242a558d5e3ec99c18       20220521.7    20.566667     18053.0   \n",
       "fec479d0202d6e1e3f051a9ee902ff5d  20220550.595238    21.785714     18089.0   \n",
       "\n",
       "                                     tract  total_claims  edu_8th_or_less  \\\n",
       "uu_id                                                                       \n",
       "001cd9ae23064d7f0fd3cd327c873d8d   20102.0     15.454545              0.0   \n",
       "005be9532fd717dc36d4be318fd9ad25     802.0     32.852941              0.0   \n",
       "007c1caccff1fbb3a0b8a10790f77141  610900.0         18.88              0.0   \n",
       "009683350b175edfc6414d664e4ba873   42801.0     19.130435              0.0   \n",
       "00f962ce727b8dbbf20925abd5a253dd  330900.0      39.52381              0.0   \n",
       "...                                    ...           ...              ...   \n",
       "fcf9f3effa992cfd552696e4ae7219b6  330103.0        16.275              0.0   \n",
       "fcfc60d8240e5a51f878fd92e2a352a3    1300.0     19.705882              0.0   \n",
       "fd613eba867c6ad7350a937f743b88f2   11304.0     21.485714              0.0   \n",
       "fe355ff27aa8b2242a558d5e3ec99c18     600.0     15.666667              0.0   \n",
       "fec479d0202d6e1e3f051a9ee902ff5d   43300.0     30.404762              0.0   \n",
       "\n",
       "                                  edu_grades_9_11  edu_hs_grad_equiv  \\\n",
       "uu_id                                                                  \n",
       "001cd9ae23064d7f0fd3cd327c873d8d              0.0           2.727273   \n",
       "005be9532fd717dc36d4be318fd9ad25              0.0          15.764706   \n",
       "007c1caccff1fbb3a0b8a10790f77141              0.0               6.76   \n",
       "009683350b175edfc6414d664e4ba873              0.0           3.478261   \n",
       "00f962ce727b8dbbf20925abd5a253dd         1.047619          16.880952   \n",
       "...                                           ...                ...   \n",
       "fcf9f3effa992cfd552696e4ae7219b6              0.0              0.725   \n",
       "fcfc60d8240e5a51f878fd92e2a352a3         0.764706           6.029412   \n",
       "fd613eba867c6ad7350a937f743b88f2         1.028571           5.771429   \n",
       "fe355ff27aa8b2242a558d5e3ec99c18              0.0           3.666667   \n",
       "fec479d0202d6e1e3f051a9ee902ff5d         0.261905           4.190476   \n",
       "\n",
       "                                  edu_post_hs  edu_unknown  gender_female  \\\n",
       "uu_id                                                                       \n",
       "001cd9ae23064d7f0fd3cd327c873d8d          0.0          0.0            0.0   \n",
       "005be9532fd717dc36d4be318fd9ad25     3.058824          0.0       8.735294   \n",
       "007c1caccff1fbb3a0b8a10790f77141          0.0          0.0           0.44   \n",
       "009683350b175edfc6414d664e4ba873     1.956522     0.565217       0.565217   \n",
       "00f962ce727b8dbbf20925abd5a253dd     7.428571     0.238095      18.214286   \n",
       "...                                       ...          ...            ...   \n",
       "fcf9f3effa992cfd552696e4ae7219b6        6.225          0.0           1.35   \n",
       "fcfc60d8240e5a51f878fd92e2a352a3     2.676471          0.0       0.441176   \n",
       "fd613eba867c6ad7350a937f743b88f2     3.085714          0.0       2.971429   \n",
       "fe355ff27aa8b2242a558d5e3ec99c18          0.0          0.0       1.266667   \n",
       "fec479d0202d6e1e3f051a9ee902ff5d    12.285714          0.0       9.166667   \n",
       "\n",
       "                                  gender_male  gender_na  race_amerindian  \\\n",
       "uu_id                                                                       \n",
       "001cd9ae23064d7f0fd3cd327c873d8d          4.0        0.0              0.0   \n",
       "005be9532fd717dc36d4be318fd9ad25    14.117647        0.0              0.0   \n",
       "007c1caccff1fbb3a0b8a10790f77141          0.4        0.0              0.0   \n",
       "009683350b175edfc6414d664e4ba873     1.478261        0.0              0.0   \n",
       "00f962ce727b8dbbf20925abd5a253dd    12.119048        0.0              0.0   \n",
       "...                                       ...        ...              ...   \n",
       "fcf9f3effa992cfd552696e4ae7219b6        1.425        0.0              0.0   \n",
       "fcfc60d8240e5a51f878fd92e2a352a3     0.382353        0.0              0.0   \n",
       "fd613eba867c6ad7350a937f743b88f2     3.028571        0.0              0.0   \n",
       "fe355ff27aa8b2242a558d5e3ec99c18     1.333333        0.0              0.0   \n",
       "fec479d0202d6e1e3f051a9ee902ff5d    12.690476        0.0              0.0   \n",
       "\n",
       "                                  race_asian  race_black  race_noanswer  \\\n",
       "uu_id                                                                     \n",
       "001cd9ae23064d7f0fd3cd327c873d8d         0.0         0.0            0.0   \n",
       "005be9532fd717dc36d4be318fd9ad25         0.0         0.0            0.0   \n",
       "007c1caccff1fbb3a0b8a10790f77141         0.0        3.68            0.0   \n",
       "009683350b175edfc6414d664e4ba873         0.0    3.695652            0.0   \n",
       "00f962ce727b8dbbf20925abd5a253dd         0.0   27.095238            0.0   \n",
       "...                                      ...         ...            ...   \n",
       "fcf9f3effa992cfd552696e4ae7219b6         0.0       0.875            0.0   \n",
       "fcfc60d8240e5a51f878fd92e2a352a3         0.0    0.882353            0.0   \n",
       "fd613eba867c6ad7350a937f743b88f2         0.0    7.828571            0.0   \n",
       "fe355ff27aa8b2242a558d5e3ec99c18         0.0         0.6            0.0   \n",
       "fec479d0202d6e1e3f051a9ee902ff5d         0.0    0.333333            0.0   \n",
       "\n",
       "                                  race_hawaiiannative  race_other  race_white  \n",
       "uu_id                                                                          \n",
       "001cd9ae23064d7f0fd3cd327c873d8d                  0.0         0.0    4.909091  \n",
       "005be9532fd717dc36d4be318fd9ad25                  0.0         0.0   21.735294  \n",
       "007c1caccff1fbb3a0b8a10790f77141                  0.0         0.0       10.12  \n",
       "009683350b175edfc6414d664e4ba873                  0.0         0.0    4.869565  \n",
       "00f962ce727b8dbbf20925abd5a253dd                  0.0    0.285714         0.0  \n",
       "...                                               ...         ...         ...  \n",
       "fcf9f3effa992cfd552696e4ae7219b6                  0.0         0.0         2.4  \n",
       "fcfc60d8240e5a51f878fd92e2a352a3                  0.0    1.882353    3.147059  \n",
       "fd613eba867c6ad7350a937f743b88f2                  0.0    0.571429    0.714286  \n",
       "fe355ff27aa8b2242a558d5e3ec99c18                  0.0         0.0    2.866667  \n",
       "fec479d0202d6e1e3f051a9ee902ff5d                  0.0         0.0   23.047619  \n",
       "\n",
       "[525 rows x 20 columns]"
      ]
     },
     "execution_count": 72,
     "metadata": {},
     "output_type": "execute_result"
    }
   ],
   "source": [
    "predict = data.groupby(by=[\"uu_id\"]).mean()\n",
    "predict"
   ]
  },
  {
   "cell_type": "code",
   "execution_count": 73,
   "id": "3549c38d",
   "metadata": {
    "execution": {
     "iopub.execute_input": "2023-05-10T02:23:05.334366Z",
     "iopub.status.busy": "2023-05-10T02:23:05.334255Z",
     "iopub.status.idle": "2023-05-10T02:23:05.344475Z",
     "shell.execute_reply": "2023-05-10T02:23:05.344208Z"
    }
   },
   "outputs": [
    {
     "name": "stdout",
     "output_type": "stream",
     "text": [
      "<class 'pandas.core.frame.DataFrame'>\n",
      "RangeIndex: 16833 entries, 0 to 16832\n",
      "Data columns (total 25 columns):\n",
      " #   Column                  Non-Null Count  Dtype \n",
      "---  ------                  --------------  ----- \n",
      " 0   uu_id                   16833 non-null  object\n",
      " 1   timeperiod              16833 non-null  Int64 \n",
      " 2   week_number             16833 non-null  Int64 \n",
      " 3   countyfips              16833 non-null  Int64 \n",
      " 4   tract                   16833 non-null  Int64 \n",
      " 5   tract_name              16833 non-null  object\n",
      " 6   total_claims            16833 non-null  Int64 \n",
      " 7   edu_8th_or_less         16833 non-null  Int64 \n",
      " 8   edu_grades_9_11         16833 non-null  Int64 \n",
      " 9   edu_hs_grad_equiv       16833 non-null  Int64 \n",
      " 10  edu_post_hs             16833 non-null  Int64 \n",
      " 11  edu_unknown             16833 non-null  Int64 \n",
      " 12  top_category_employer1  16833 non-null  object\n",
      " 13  top_category_employer2  16833 non-null  object\n",
      " 14  top_category_employer3  16833 non-null  object\n",
      " 15  gender_female           16833 non-null  Int64 \n",
      " 16  gender_male             16833 non-null  Int64 \n",
      " 17  gender_na               16833 non-null  Int64 \n",
      " 18  race_amerindian         16833 non-null  Int64 \n",
      " 19  race_asian              16833 non-null  Int64 \n",
      " 20  race_black              16833 non-null  Int64 \n",
      " 21  race_noanswer           16833 non-null  Int64 \n",
      " 22  race_hawaiiannative     16833 non-null  Int64 \n",
      " 23  race_other              16833 non-null  Int64 \n",
      " 24  race_white              16833 non-null  Int64 \n",
      "dtypes: Int64(20), object(5)\n",
      "memory usage: 3.5+ MB\n"
     ]
    }
   ],
   "source": [
    "data.info()"
   ]
  },
  {
   "cell_type": "code",
   "execution_count": 74,
   "id": "4edca271",
   "metadata": {
    "execution": {
     "iopub.execute_input": "2023-05-10T02:23:05.345993Z",
     "iopub.status.busy": "2023-05-10T02:23:05.345903Z",
     "iopub.status.idle": "2023-05-10T02:23:05.348340Z",
     "shell.execute_reply": "2023-05-10T02:23:05.348106Z"
    }
   },
   "outputs": [],
   "source": [
    "data = data['top_category_employer2'].astype(float)"
   ]
  },
  {
   "cell_type": "code",
   "execution_count": 75,
   "id": "d9a66583",
   "metadata": {
    "execution": {
     "iopub.execute_input": "2023-05-10T02:23:05.349702Z",
     "iopub.status.busy": "2023-05-10T02:23:05.349621Z",
     "iopub.status.idle": "2023-05-10T02:23:05.414329Z",
     "shell.execute_reply": "2023-05-10T02:23:05.414087Z"
    }
   },
   "outputs": [
    {
     "ename": "KeyError",
     "evalue": "'top_category_employer3'",
     "output_type": "error",
     "traceback": [
      "\u001b[0;31m---------------------------------------------------------------------------\u001b[0m",
      "\u001b[0;31mKeyError\u001b[0m                                  Traceback (most recent call last)",
      "Cell \u001b[0;32mIn [75], line 1\u001b[0m\n\u001b[0;32m----> 1\u001b[0m data \u001b[38;5;241m=\u001b[39m \u001b[43mdata\u001b[49m\u001b[43m[\u001b[49m\u001b[38;5;124;43m'\u001b[39;49m\u001b[38;5;124;43mtop_category_employer3\u001b[39;49m\u001b[38;5;124;43m'\u001b[39;49m\u001b[43m]\u001b[49m\u001b[38;5;241m.\u001b[39mastype(\u001b[38;5;28mfloat\u001b[39m)\n",
      "File \u001b[0;32m/opt/homebrew/lib/python3.9/site-packages/pandas/core/series.py:981\u001b[0m, in \u001b[0;36mSeries.__getitem__\u001b[0;34m(self, key)\u001b[0m\n\u001b[1;32m    978\u001b[0m     \u001b[38;5;28;01mreturn\u001b[39;00m \u001b[38;5;28mself\u001b[39m\u001b[38;5;241m.\u001b[39m_values[key]\n\u001b[1;32m    980\u001b[0m \u001b[38;5;28;01melif\u001b[39;00m key_is_scalar:\n\u001b[0;32m--> 981\u001b[0m     \u001b[38;5;28;01mreturn\u001b[39;00m \u001b[38;5;28;43mself\u001b[39;49m\u001b[38;5;241;43m.\u001b[39;49m\u001b[43m_get_value\u001b[49m\u001b[43m(\u001b[49m\u001b[43mkey\u001b[49m\u001b[43m)\u001b[49m\n\u001b[1;32m    983\u001b[0m \u001b[38;5;28;01mif\u001b[39;00m is_hashable(key):\n\u001b[1;32m    984\u001b[0m     \u001b[38;5;66;03m# Otherwise index.get_value will raise InvalidIndexError\u001b[39;00m\n\u001b[1;32m    985\u001b[0m     \u001b[38;5;28;01mtry\u001b[39;00m:\n\u001b[1;32m    986\u001b[0m         \u001b[38;5;66;03m# For labels that don't resolve as scalars like tuples and frozensets\u001b[39;00m\n",
      "File \u001b[0;32m/opt/homebrew/lib/python3.9/site-packages/pandas/core/series.py:1089\u001b[0m, in \u001b[0;36mSeries._get_value\u001b[0;34m(self, label, takeable)\u001b[0m\n\u001b[1;32m   1086\u001b[0m     \u001b[38;5;28;01mreturn\u001b[39;00m \u001b[38;5;28mself\u001b[39m\u001b[38;5;241m.\u001b[39m_values[label]\n\u001b[1;32m   1088\u001b[0m \u001b[38;5;66;03m# Similar to Index.get_value, but we do not fall back to positional\u001b[39;00m\n\u001b[0;32m-> 1089\u001b[0m loc \u001b[38;5;241m=\u001b[39m \u001b[38;5;28;43mself\u001b[39;49m\u001b[38;5;241;43m.\u001b[39;49m\u001b[43mindex\u001b[49m\u001b[38;5;241;43m.\u001b[39;49m\u001b[43mget_loc\u001b[49m\u001b[43m(\u001b[49m\u001b[43mlabel\u001b[49m\u001b[43m)\u001b[49m\n\u001b[1;32m   1090\u001b[0m \u001b[38;5;28;01mreturn\u001b[39;00m \u001b[38;5;28mself\u001b[39m\u001b[38;5;241m.\u001b[39mindex\u001b[38;5;241m.\u001b[39m_get_values_for_loc(\u001b[38;5;28mself\u001b[39m, loc, label)\n",
      "File \u001b[0;32m/opt/homebrew/lib/python3.9/site-packages/pandas/core/indexes/range.py:395\u001b[0m, in \u001b[0;36mRangeIndex.get_loc\u001b[0;34m(self, key, method, tolerance)\u001b[0m\n\u001b[1;32m    393\u001b[0m             \u001b[38;5;28;01mraise\u001b[39;00m \u001b[38;5;167;01mKeyError\u001b[39;00m(key) \u001b[38;5;28;01mfrom\u001b[39;00m \u001b[38;5;21;01merr\u001b[39;00m\n\u001b[1;32m    394\u001b[0m     \u001b[38;5;28mself\u001b[39m\u001b[38;5;241m.\u001b[39m_check_indexing_error(key)\n\u001b[0;32m--> 395\u001b[0m     \u001b[38;5;28;01mraise\u001b[39;00m \u001b[38;5;167;01mKeyError\u001b[39;00m(key)\n\u001b[1;32m    396\u001b[0m \u001b[38;5;28;01mreturn\u001b[39;00m \u001b[38;5;28msuper\u001b[39m()\u001b[38;5;241m.\u001b[39mget_loc(key, method\u001b[38;5;241m=\u001b[39mmethod, tolerance\u001b[38;5;241m=\u001b[39mtolerance)\n",
      "\u001b[0;31mKeyError\u001b[0m: 'top_category_employer3'"
     ]
    }
   ],
   "source": [
    "data = data['top_category_employer3'].astype(float)"
   ]
  },
  {
   "cell_type": "code",
   "execution_count": 76,
   "id": "fbaca039",
   "metadata": {
    "execution": {
     "iopub.execute_input": "2023-05-10T02:23:05.415837Z",
     "iopub.status.busy": "2023-05-10T02:23:05.415748Z",
     "iopub.status.idle": "2023-05-10T02:23:05.431344Z",
     "shell.execute_reply": "2023-05-10T02:23:05.431037Z"
    }
   },
   "outputs": [
    {
     "ename": "KeyError",
     "evalue": "'top_category_employer1'",
     "output_type": "error",
     "traceback": [
      "\u001b[0;31m---------------------------------------------------------------------------\u001b[0m",
      "\u001b[0;31mKeyError\u001b[0m                                  Traceback (most recent call last)",
      "Cell \u001b[0;32mIn [76], line 1\u001b[0m\n\u001b[0;32m----> 1\u001b[0m data \u001b[38;5;241m=\u001b[39m \u001b[43mdata\u001b[49m\u001b[43m[\u001b[49m\u001b[38;5;124;43m'\u001b[39;49m\u001b[38;5;124;43mtop_category_employer1\u001b[39;49m\u001b[38;5;124;43m'\u001b[39;49m\u001b[43m]\u001b[49m\u001b[38;5;241m.\u001b[39mastype(\u001b[38;5;28mfloat\u001b[39m)\n",
      "File \u001b[0;32m/opt/homebrew/lib/python3.9/site-packages/pandas/core/series.py:981\u001b[0m, in \u001b[0;36mSeries.__getitem__\u001b[0;34m(self, key)\u001b[0m\n\u001b[1;32m    978\u001b[0m     \u001b[38;5;28;01mreturn\u001b[39;00m \u001b[38;5;28mself\u001b[39m\u001b[38;5;241m.\u001b[39m_values[key]\n\u001b[1;32m    980\u001b[0m \u001b[38;5;28;01melif\u001b[39;00m key_is_scalar:\n\u001b[0;32m--> 981\u001b[0m     \u001b[38;5;28;01mreturn\u001b[39;00m \u001b[38;5;28;43mself\u001b[39;49m\u001b[38;5;241;43m.\u001b[39;49m\u001b[43m_get_value\u001b[49m\u001b[43m(\u001b[49m\u001b[43mkey\u001b[49m\u001b[43m)\u001b[49m\n\u001b[1;32m    983\u001b[0m \u001b[38;5;28;01mif\u001b[39;00m is_hashable(key):\n\u001b[1;32m    984\u001b[0m     \u001b[38;5;66;03m# Otherwise index.get_value will raise InvalidIndexError\u001b[39;00m\n\u001b[1;32m    985\u001b[0m     \u001b[38;5;28;01mtry\u001b[39;00m:\n\u001b[1;32m    986\u001b[0m         \u001b[38;5;66;03m# For labels that don't resolve as scalars like tuples and frozensets\u001b[39;00m\n",
      "File \u001b[0;32m/opt/homebrew/lib/python3.9/site-packages/pandas/core/series.py:1089\u001b[0m, in \u001b[0;36mSeries._get_value\u001b[0;34m(self, label, takeable)\u001b[0m\n\u001b[1;32m   1086\u001b[0m     \u001b[38;5;28;01mreturn\u001b[39;00m \u001b[38;5;28mself\u001b[39m\u001b[38;5;241m.\u001b[39m_values[label]\n\u001b[1;32m   1088\u001b[0m \u001b[38;5;66;03m# Similar to Index.get_value, but we do not fall back to positional\u001b[39;00m\n\u001b[0;32m-> 1089\u001b[0m loc \u001b[38;5;241m=\u001b[39m \u001b[38;5;28;43mself\u001b[39;49m\u001b[38;5;241;43m.\u001b[39;49m\u001b[43mindex\u001b[49m\u001b[38;5;241;43m.\u001b[39;49m\u001b[43mget_loc\u001b[49m\u001b[43m(\u001b[49m\u001b[43mlabel\u001b[49m\u001b[43m)\u001b[49m\n\u001b[1;32m   1090\u001b[0m \u001b[38;5;28;01mreturn\u001b[39;00m \u001b[38;5;28mself\u001b[39m\u001b[38;5;241m.\u001b[39mindex\u001b[38;5;241m.\u001b[39m_get_values_for_loc(\u001b[38;5;28mself\u001b[39m, loc, label)\n",
      "File \u001b[0;32m/opt/homebrew/lib/python3.9/site-packages/pandas/core/indexes/range.py:395\u001b[0m, in \u001b[0;36mRangeIndex.get_loc\u001b[0;34m(self, key, method, tolerance)\u001b[0m\n\u001b[1;32m    393\u001b[0m             \u001b[38;5;28;01mraise\u001b[39;00m \u001b[38;5;167;01mKeyError\u001b[39;00m(key) \u001b[38;5;28;01mfrom\u001b[39;00m \u001b[38;5;21;01merr\u001b[39;00m\n\u001b[1;32m    394\u001b[0m     \u001b[38;5;28mself\u001b[39m\u001b[38;5;241m.\u001b[39m_check_indexing_error(key)\n\u001b[0;32m--> 395\u001b[0m     \u001b[38;5;28;01mraise\u001b[39;00m \u001b[38;5;167;01mKeyError\u001b[39;00m(key)\n\u001b[1;32m    396\u001b[0m \u001b[38;5;28;01mreturn\u001b[39;00m \u001b[38;5;28msuper\u001b[39m()\u001b[38;5;241m.\u001b[39mget_loc(key, method\u001b[38;5;241m=\u001b[39mmethod, tolerance\u001b[38;5;241m=\u001b[39mtolerance)\n",
      "\u001b[0;31mKeyError\u001b[0m: 'top_category_employer1'"
     ]
    }
   ],
   "source": [
    "data = data['top_category_employer1'].astype(float)"
   ]
  },
  {
   "cell_type": "code",
   "execution_count": 77,
   "id": "a7cb09a4",
   "metadata": {
    "execution": {
     "iopub.execute_input": "2023-05-10T02:23:05.432875Z",
     "iopub.status.busy": "2023-05-10T02:23:05.432767Z",
     "iopub.status.idle": "2023-05-10T02:23:05.449050Z",
     "shell.execute_reply": "2023-05-10T02:23:05.448785Z"
    }
   },
   "outputs": [
    {
     "ename": "KeyError",
     "evalue": "'top_category_employer1'",
     "output_type": "error",
     "traceback": [
      "\u001b[0;31m---------------------------------------------------------------------------\u001b[0m",
      "\u001b[0;31mKeyError\u001b[0m                                  Traceback (most recent call last)",
      "Cell \u001b[0;32mIn [77], line 1\u001b[0m\n\u001b[0;32m----> 1\u001b[0m data[\u001b[38;5;124m'\u001b[39m\u001b[38;5;124mtop_category_employer1\u001b[39m\u001b[38;5;124m'\u001b[39m] \u001b[38;5;241m=\u001b[39m \u001b[43mdata\u001b[49m\u001b[43m[\u001b[49m\u001b[38;5;124;43m'\u001b[39;49m\u001b[38;5;124;43mtop_category_employer1\u001b[39;49m\u001b[38;5;124;43m'\u001b[39;49m\u001b[43m]\u001b[49m\u001b[38;5;241m.\u001b[39mastype(\u001b[38;5;28mfloat\u001b[39m)\n",
      "File \u001b[0;32m/opt/homebrew/lib/python3.9/site-packages/pandas/core/series.py:981\u001b[0m, in \u001b[0;36mSeries.__getitem__\u001b[0;34m(self, key)\u001b[0m\n\u001b[1;32m    978\u001b[0m     \u001b[38;5;28;01mreturn\u001b[39;00m \u001b[38;5;28mself\u001b[39m\u001b[38;5;241m.\u001b[39m_values[key]\n\u001b[1;32m    980\u001b[0m \u001b[38;5;28;01melif\u001b[39;00m key_is_scalar:\n\u001b[0;32m--> 981\u001b[0m     \u001b[38;5;28;01mreturn\u001b[39;00m \u001b[38;5;28;43mself\u001b[39;49m\u001b[38;5;241;43m.\u001b[39;49m\u001b[43m_get_value\u001b[49m\u001b[43m(\u001b[49m\u001b[43mkey\u001b[49m\u001b[43m)\u001b[49m\n\u001b[1;32m    983\u001b[0m \u001b[38;5;28;01mif\u001b[39;00m is_hashable(key):\n\u001b[1;32m    984\u001b[0m     \u001b[38;5;66;03m# Otherwise index.get_value will raise InvalidIndexError\u001b[39;00m\n\u001b[1;32m    985\u001b[0m     \u001b[38;5;28;01mtry\u001b[39;00m:\n\u001b[1;32m    986\u001b[0m         \u001b[38;5;66;03m# For labels that don't resolve as scalars like tuples and frozensets\u001b[39;00m\n",
      "File \u001b[0;32m/opt/homebrew/lib/python3.9/site-packages/pandas/core/series.py:1089\u001b[0m, in \u001b[0;36mSeries._get_value\u001b[0;34m(self, label, takeable)\u001b[0m\n\u001b[1;32m   1086\u001b[0m     \u001b[38;5;28;01mreturn\u001b[39;00m \u001b[38;5;28mself\u001b[39m\u001b[38;5;241m.\u001b[39m_values[label]\n\u001b[1;32m   1088\u001b[0m \u001b[38;5;66;03m# Similar to Index.get_value, but we do not fall back to positional\u001b[39;00m\n\u001b[0;32m-> 1089\u001b[0m loc \u001b[38;5;241m=\u001b[39m \u001b[38;5;28;43mself\u001b[39;49m\u001b[38;5;241;43m.\u001b[39;49m\u001b[43mindex\u001b[49m\u001b[38;5;241;43m.\u001b[39;49m\u001b[43mget_loc\u001b[49m\u001b[43m(\u001b[49m\u001b[43mlabel\u001b[49m\u001b[43m)\u001b[49m\n\u001b[1;32m   1090\u001b[0m \u001b[38;5;28;01mreturn\u001b[39;00m \u001b[38;5;28mself\u001b[39m\u001b[38;5;241m.\u001b[39mindex\u001b[38;5;241m.\u001b[39m_get_values_for_loc(\u001b[38;5;28mself\u001b[39m, loc, label)\n",
      "File \u001b[0;32m/opt/homebrew/lib/python3.9/site-packages/pandas/core/indexes/range.py:395\u001b[0m, in \u001b[0;36mRangeIndex.get_loc\u001b[0;34m(self, key, method, tolerance)\u001b[0m\n\u001b[1;32m    393\u001b[0m             \u001b[38;5;28;01mraise\u001b[39;00m \u001b[38;5;167;01mKeyError\u001b[39;00m(key) \u001b[38;5;28;01mfrom\u001b[39;00m \u001b[38;5;21;01merr\u001b[39;00m\n\u001b[1;32m    394\u001b[0m     \u001b[38;5;28mself\u001b[39m\u001b[38;5;241m.\u001b[39m_check_indexing_error(key)\n\u001b[0;32m--> 395\u001b[0m     \u001b[38;5;28;01mraise\u001b[39;00m \u001b[38;5;167;01mKeyError\u001b[39;00m(key)\n\u001b[1;32m    396\u001b[0m \u001b[38;5;28;01mreturn\u001b[39;00m \u001b[38;5;28msuper\u001b[39m()\u001b[38;5;241m.\u001b[39mget_loc(key, method\u001b[38;5;241m=\u001b[39mmethod, tolerance\u001b[38;5;241m=\u001b[39mtolerance)\n",
      "\u001b[0;31mKeyError\u001b[0m: 'top_category_employer1'"
     ]
    }
   ],
   "source": [
    "data['top_category_employer1'] = data['top_category_employer1'].astype(float)"
   ]
  },
  {
   "cell_type": "code",
   "execution_count": 78,
   "id": "c0fcb5e7",
   "metadata": {
    "execution": {
     "iopub.execute_input": "2023-05-10T02:23:05.450447Z",
     "iopub.status.busy": "2023-05-10T02:23:05.450361Z",
     "iopub.status.idle": "2023-05-10T02:23:05.466134Z",
     "shell.execute_reply": "2023-05-10T02:23:05.465868Z"
    }
   },
   "outputs": [
    {
     "ename": "KeyError",
     "evalue": "'top_category_employer1'",
     "output_type": "error",
     "traceback": [
      "\u001b[0;31m---------------------------------------------------------------------------\u001b[0m",
      "\u001b[0;31mKeyError\u001b[0m                                  Traceback (most recent call last)",
      "Cell \u001b[0;32mIn [78], line 1\u001b[0m\n\u001b[0;32m----> 1\u001b[0m \u001b[43mdata\u001b[49m\u001b[43m[\u001b[49m\u001b[38;5;124;43m'\u001b[39;49m\u001b[38;5;124;43mtop_category_employer1\u001b[39;49m\u001b[38;5;124;43m'\u001b[39;49m\u001b[43m]\u001b[49m\u001b[38;5;241m.\u001b[39mastype(\u001b[38;5;28mfloat\u001b[39m)\n",
      "File \u001b[0;32m/opt/homebrew/lib/python3.9/site-packages/pandas/core/series.py:981\u001b[0m, in \u001b[0;36mSeries.__getitem__\u001b[0;34m(self, key)\u001b[0m\n\u001b[1;32m    978\u001b[0m     \u001b[38;5;28;01mreturn\u001b[39;00m \u001b[38;5;28mself\u001b[39m\u001b[38;5;241m.\u001b[39m_values[key]\n\u001b[1;32m    980\u001b[0m \u001b[38;5;28;01melif\u001b[39;00m key_is_scalar:\n\u001b[0;32m--> 981\u001b[0m     \u001b[38;5;28;01mreturn\u001b[39;00m \u001b[38;5;28;43mself\u001b[39;49m\u001b[38;5;241;43m.\u001b[39;49m\u001b[43m_get_value\u001b[49m\u001b[43m(\u001b[49m\u001b[43mkey\u001b[49m\u001b[43m)\u001b[49m\n\u001b[1;32m    983\u001b[0m \u001b[38;5;28;01mif\u001b[39;00m is_hashable(key):\n\u001b[1;32m    984\u001b[0m     \u001b[38;5;66;03m# Otherwise index.get_value will raise InvalidIndexError\u001b[39;00m\n\u001b[1;32m    985\u001b[0m     \u001b[38;5;28;01mtry\u001b[39;00m:\n\u001b[1;32m    986\u001b[0m         \u001b[38;5;66;03m# For labels that don't resolve as scalars like tuples and frozensets\u001b[39;00m\n",
      "File \u001b[0;32m/opt/homebrew/lib/python3.9/site-packages/pandas/core/series.py:1089\u001b[0m, in \u001b[0;36mSeries._get_value\u001b[0;34m(self, label, takeable)\u001b[0m\n\u001b[1;32m   1086\u001b[0m     \u001b[38;5;28;01mreturn\u001b[39;00m \u001b[38;5;28mself\u001b[39m\u001b[38;5;241m.\u001b[39m_values[label]\n\u001b[1;32m   1088\u001b[0m \u001b[38;5;66;03m# Similar to Index.get_value, but we do not fall back to positional\u001b[39;00m\n\u001b[0;32m-> 1089\u001b[0m loc \u001b[38;5;241m=\u001b[39m \u001b[38;5;28;43mself\u001b[39;49m\u001b[38;5;241;43m.\u001b[39;49m\u001b[43mindex\u001b[49m\u001b[38;5;241;43m.\u001b[39;49m\u001b[43mget_loc\u001b[49m\u001b[43m(\u001b[49m\u001b[43mlabel\u001b[49m\u001b[43m)\u001b[49m\n\u001b[1;32m   1090\u001b[0m \u001b[38;5;28;01mreturn\u001b[39;00m \u001b[38;5;28mself\u001b[39m\u001b[38;5;241m.\u001b[39mindex\u001b[38;5;241m.\u001b[39m_get_values_for_loc(\u001b[38;5;28mself\u001b[39m, loc, label)\n",
      "File \u001b[0;32m/opt/homebrew/lib/python3.9/site-packages/pandas/core/indexes/range.py:395\u001b[0m, in \u001b[0;36mRangeIndex.get_loc\u001b[0;34m(self, key, method, tolerance)\u001b[0m\n\u001b[1;32m    393\u001b[0m             \u001b[38;5;28;01mraise\u001b[39;00m \u001b[38;5;167;01mKeyError\u001b[39;00m(key) \u001b[38;5;28;01mfrom\u001b[39;00m \u001b[38;5;21;01merr\u001b[39;00m\n\u001b[1;32m    394\u001b[0m     \u001b[38;5;28mself\u001b[39m\u001b[38;5;241m.\u001b[39m_check_indexing_error(key)\n\u001b[0;32m--> 395\u001b[0m     \u001b[38;5;28;01mraise\u001b[39;00m \u001b[38;5;167;01mKeyError\u001b[39;00m(key)\n\u001b[1;32m    396\u001b[0m \u001b[38;5;28;01mreturn\u001b[39;00m \u001b[38;5;28msuper\u001b[39m()\u001b[38;5;241m.\u001b[39mget_loc(key, method\u001b[38;5;241m=\u001b[39mmethod, tolerance\u001b[38;5;241m=\u001b[39mtolerance)\n",
      "\u001b[0;31mKeyError\u001b[0m: 'top_category_employer1'"
     ]
    }
   ],
   "source": [
    "data['top_category_employer1'].astype(float)"
   ]
  },
  {
   "cell_type": "code",
   "execution_count": 79,
   "id": "6d7e478d",
   "metadata": {
    "execution": {
     "iopub.execute_input": "2023-05-10T02:23:05.467515Z",
     "iopub.status.busy": "2023-05-10T02:23:05.467417Z",
     "iopub.status.idle": "2023-05-10T02:23:05.482815Z",
     "shell.execute_reply": "2023-05-10T02:23:05.482567Z"
    }
   },
   "outputs": [
    {
     "ename": "KeyError",
     "evalue": "'top_category_employer1'",
     "output_type": "error",
     "traceback": [
      "\u001b[0;31m---------------------------------------------------------------------------\u001b[0m",
      "\u001b[0;31mKeyError\u001b[0m                                  Traceback (most recent call last)",
      "Cell \u001b[0;32mIn [79], line 1\u001b[0m\n\u001b[0;32m----> 1\u001b[0m \u001b[43mdata\u001b[49m\u001b[43m[\u001b[49m\u001b[38;5;124;43m'\u001b[39;49m\u001b[38;5;124;43mtop_category_employer1\u001b[39;49m\u001b[38;5;124;43m'\u001b[39;49m\u001b[43m]\u001b[49m\u001b[38;5;241m.\u001b[39mastype(\u001b[38;5;28mfloat\u001b[39m)\n",
      "File \u001b[0;32m/opt/homebrew/lib/python3.9/site-packages/pandas/core/series.py:981\u001b[0m, in \u001b[0;36mSeries.__getitem__\u001b[0;34m(self, key)\u001b[0m\n\u001b[1;32m    978\u001b[0m     \u001b[38;5;28;01mreturn\u001b[39;00m \u001b[38;5;28mself\u001b[39m\u001b[38;5;241m.\u001b[39m_values[key]\n\u001b[1;32m    980\u001b[0m \u001b[38;5;28;01melif\u001b[39;00m key_is_scalar:\n\u001b[0;32m--> 981\u001b[0m     \u001b[38;5;28;01mreturn\u001b[39;00m \u001b[38;5;28;43mself\u001b[39;49m\u001b[38;5;241;43m.\u001b[39;49m\u001b[43m_get_value\u001b[49m\u001b[43m(\u001b[49m\u001b[43mkey\u001b[49m\u001b[43m)\u001b[49m\n\u001b[1;32m    983\u001b[0m \u001b[38;5;28;01mif\u001b[39;00m is_hashable(key):\n\u001b[1;32m    984\u001b[0m     \u001b[38;5;66;03m# Otherwise index.get_value will raise InvalidIndexError\u001b[39;00m\n\u001b[1;32m    985\u001b[0m     \u001b[38;5;28;01mtry\u001b[39;00m:\n\u001b[1;32m    986\u001b[0m         \u001b[38;5;66;03m# For labels that don't resolve as scalars like tuples and frozensets\u001b[39;00m\n",
      "File \u001b[0;32m/opt/homebrew/lib/python3.9/site-packages/pandas/core/series.py:1089\u001b[0m, in \u001b[0;36mSeries._get_value\u001b[0;34m(self, label, takeable)\u001b[0m\n\u001b[1;32m   1086\u001b[0m     \u001b[38;5;28;01mreturn\u001b[39;00m \u001b[38;5;28mself\u001b[39m\u001b[38;5;241m.\u001b[39m_values[label]\n\u001b[1;32m   1088\u001b[0m \u001b[38;5;66;03m# Similar to Index.get_value, but we do not fall back to positional\u001b[39;00m\n\u001b[0;32m-> 1089\u001b[0m loc \u001b[38;5;241m=\u001b[39m \u001b[38;5;28;43mself\u001b[39;49m\u001b[38;5;241;43m.\u001b[39;49m\u001b[43mindex\u001b[49m\u001b[38;5;241;43m.\u001b[39;49m\u001b[43mget_loc\u001b[49m\u001b[43m(\u001b[49m\u001b[43mlabel\u001b[49m\u001b[43m)\u001b[49m\n\u001b[1;32m   1090\u001b[0m \u001b[38;5;28;01mreturn\u001b[39;00m \u001b[38;5;28mself\u001b[39m\u001b[38;5;241m.\u001b[39mindex\u001b[38;5;241m.\u001b[39m_get_values_for_loc(\u001b[38;5;28mself\u001b[39m, loc, label)\n",
      "File \u001b[0;32m/opt/homebrew/lib/python3.9/site-packages/pandas/core/indexes/range.py:395\u001b[0m, in \u001b[0;36mRangeIndex.get_loc\u001b[0;34m(self, key, method, tolerance)\u001b[0m\n\u001b[1;32m    393\u001b[0m             \u001b[38;5;28;01mraise\u001b[39;00m \u001b[38;5;167;01mKeyError\u001b[39;00m(key) \u001b[38;5;28;01mfrom\u001b[39;00m \u001b[38;5;21;01merr\u001b[39;00m\n\u001b[1;32m    394\u001b[0m     \u001b[38;5;28mself\u001b[39m\u001b[38;5;241m.\u001b[39m_check_indexing_error(key)\n\u001b[0;32m--> 395\u001b[0m     \u001b[38;5;28;01mraise\u001b[39;00m \u001b[38;5;167;01mKeyError\u001b[39;00m(key)\n\u001b[1;32m    396\u001b[0m \u001b[38;5;28;01mreturn\u001b[39;00m \u001b[38;5;28msuper\u001b[39m()\u001b[38;5;241m.\u001b[39mget_loc(key, method\u001b[38;5;241m=\u001b[39mmethod, tolerance\u001b[38;5;241m=\u001b[39mtolerance)\n",
      "\u001b[0;31mKeyError\u001b[0m: 'top_category_employer1'"
     ]
    }
   ],
   "source": [
    "data['top_category_employer1'].astype(float)"
   ]
  },
  {
   "cell_type": "code",
   "execution_count": 80,
   "id": "6028cb5f",
   "metadata": {
    "execution": {
     "iopub.execute_input": "2023-05-10T02:23:05.484215Z",
     "iopub.status.busy": "2023-05-10T02:23:05.484126Z",
     "iopub.status.idle": "2023-05-10T02:23:05.486075Z",
     "shell.execute_reply": "2023-05-10T02:23:05.485808Z"
    }
   },
   "outputs": [],
   "source": [
    "data = data.fillna(0)"
   ]
  },
  {
   "cell_type": "code",
   "execution_count": 81,
   "id": "b346b466",
   "metadata": {
    "execution": {
     "iopub.execute_input": "2023-05-10T02:23:05.487367Z",
     "iopub.status.busy": "2023-05-10T02:23:05.487284Z",
     "iopub.status.idle": "2023-05-10T02:23:05.503056Z",
     "shell.execute_reply": "2023-05-10T02:23:05.502792Z"
    }
   },
   "outputs": [
    {
     "ename": "KeyError",
     "evalue": "'top_category_employer1'",
     "output_type": "error",
     "traceback": [
      "\u001b[0;31m---------------------------------------------------------------------------\u001b[0m",
      "\u001b[0;31mKeyError\u001b[0m                                  Traceback (most recent call last)",
      "Cell \u001b[0;32mIn [81], line 1\u001b[0m\n\u001b[0;32m----> 1\u001b[0m \u001b[43mdata\u001b[49m\u001b[43m[\u001b[49m\u001b[38;5;124;43m'\u001b[39;49m\u001b[38;5;124;43mtop_category_employer1\u001b[39;49m\u001b[38;5;124;43m'\u001b[39;49m\u001b[43m]\u001b[49m\u001b[38;5;241m.\u001b[39mastype(\u001b[38;5;28mfloat\u001b[39m)\n",
      "File \u001b[0;32m/opt/homebrew/lib/python3.9/site-packages/pandas/core/series.py:981\u001b[0m, in \u001b[0;36mSeries.__getitem__\u001b[0;34m(self, key)\u001b[0m\n\u001b[1;32m    978\u001b[0m     \u001b[38;5;28;01mreturn\u001b[39;00m \u001b[38;5;28mself\u001b[39m\u001b[38;5;241m.\u001b[39m_values[key]\n\u001b[1;32m    980\u001b[0m \u001b[38;5;28;01melif\u001b[39;00m key_is_scalar:\n\u001b[0;32m--> 981\u001b[0m     \u001b[38;5;28;01mreturn\u001b[39;00m \u001b[38;5;28;43mself\u001b[39;49m\u001b[38;5;241;43m.\u001b[39;49m\u001b[43m_get_value\u001b[49m\u001b[43m(\u001b[49m\u001b[43mkey\u001b[49m\u001b[43m)\u001b[49m\n\u001b[1;32m    983\u001b[0m \u001b[38;5;28;01mif\u001b[39;00m is_hashable(key):\n\u001b[1;32m    984\u001b[0m     \u001b[38;5;66;03m# Otherwise index.get_value will raise InvalidIndexError\u001b[39;00m\n\u001b[1;32m    985\u001b[0m     \u001b[38;5;28;01mtry\u001b[39;00m:\n\u001b[1;32m    986\u001b[0m         \u001b[38;5;66;03m# For labels that don't resolve as scalars like tuples and frozensets\u001b[39;00m\n",
      "File \u001b[0;32m/opt/homebrew/lib/python3.9/site-packages/pandas/core/series.py:1089\u001b[0m, in \u001b[0;36mSeries._get_value\u001b[0;34m(self, label, takeable)\u001b[0m\n\u001b[1;32m   1086\u001b[0m     \u001b[38;5;28;01mreturn\u001b[39;00m \u001b[38;5;28mself\u001b[39m\u001b[38;5;241m.\u001b[39m_values[label]\n\u001b[1;32m   1088\u001b[0m \u001b[38;5;66;03m# Similar to Index.get_value, but we do not fall back to positional\u001b[39;00m\n\u001b[0;32m-> 1089\u001b[0m loc \u001b[38;5;241m=\u001b[39m \u001b[38;5;28;43mself\u001b[39;49m\u001b[38;5;241;43m.\u001b[39;49m\u001b[43mindex\u001b[49m\u001b[38;5;241;43m.\u001b[39;49m\u001b[43mget_loc\u001b[49m\u001b[43m(\u001b[49m\u001b[43mlabel\u001b[49m\u001b[43m)\u001b[49m\n\u001b[1;32m   1090\u001b[0m \u001b[38;5;28;01mreturn\u001b[39;00m \u001b[38;5;28mself\u001b[39m\u001b[38;5;241m.\u001b[39mindex\u001b[38;5;241m.\u001b[39m_get_values_for_loc(\u001b[38;5;28mself\u001b[39m, loc, label)\n",
      "File \u001b[0;32m/opt/homebrew/lib/python3.9/site-packages/pandas/core/indexes/range.py:395\u001b[0m, in \u001b[0;36mRangeIndex.get_loc\u001b[0;34m(self, key, method, tolerance)\u001b[0m\n\u001b[1;32m    393\u001b[0m             \u001b[38;5;28;01mraise\u001b[39;00m \u001b[38;5;167;01mKeyError\u001b[39;00m(key) \u001b[38;5;28;01mfrom\u001b[39;00m \u001b[38;5;21;01merr\u001b[39;00m\n\u001b[1;32m    394\u001b[0m     \u001b[38;5;28mself\u001b[39m\u001b[38;5;241m.\u001b[39m_check_indexing_error(key)\n\u001b[0;32m--> 395\u001b[0m     \u001b[38;5;28;01mraise\u001b[39;00m \u001b[38;5;167;01mKeyError\u001b[39;00m(key)\n\u001b[1;32m    396\u001b[0m \u001b[38;5;28;01mreturn\u001b[39;00m \u001b[38;5;28msuper\u001b[39m()\u001b[38;5;241m.\u001b[39mget_loc(key, method\u001b[38;5;241m=\u001b[39mmethod, tolerance\u001b[38;5;241m=\u001b[39mtolerance)\n",
      "\u001b[0;31mKeyError\u001b[0m: 'top_category_employer1'"
     ]
    }
   ],
   "source": [
    "data['top_category_employer1'].astype(float)"
   ]
  },
  {
   "cell_type": "code",
   "execution_count": 82,
   "id": "928b5d9a",
   "metadata": {
    "execution": {
     "iopub.execute_input": "2023-05-10T02:23:05.504442Z",
     "iopub.status.busy": "2023-05-10T02:23:05.504362Z",
     "iopub.status.idle": "2023-05-10T02:23:05.507761Z",
     "shell.execute_reply": "2023-05-10T02:23:05.507421Z"
    }
   },
   "outputs": [
    {
     "name": "stdout",
     "output_type": "stream",
     "text": [
      "<class 'pandas.core.series.Series'>\n",
      "RangeIndex: 16833 entries, 0 to 16832\n",
      "Series name: top_category_employer2\n",
      "Non-Null Count  Dtype  \n",
      "--------------  -----  \n",
      "16833 non-null  float64\n",
      "dtypes: float64(1)\n",
      "memory usage: 131.6 KB\n"
     ]
    }
   ],
   "source": [
    "data.info()"
   ]
  },
  {
   "cell_type": "code",
   "execution_count": 83,
   "id": "ad7acb3f",
   "metadata": {
    "execution": {
     "iopub.execute_input": "2023-05-10T02:23:05.509167Z",
     "iopub.status.busy": "2023-05-10T02:23:05.509084Z",
     "iopub.status.idle": "2023-05-10T02:23:05.511988Z",
     "shell.execute_reply": "2023-05-10T02:23:05.511748Z"
    }
   },
   "outputs": [
    {
     "name": "stdout",
     "output_type": "stream",
     "text": [
      "<class 'pandas.core.series.Series'>\n",
      "RangeIndex: 16833 entries, 0 to 16832\n",
      "Series name: top_category_employer2\n",
      "Non-Null Count  Dtype  \n",
      "--------------  -----  \n",
      "16833 non-null  float64\n",
      "dtypes: float64(1)\n",
      "memory usage: 131.6 KB\n"
     ]
    }
   ],
   "source": [
    "data.info()"
   ]
  },
  {
   "cell_type": "code",
   "execution_count": 84,
   "id": "7d80cabf",
   "metadata": {
    "execution": {
     "iopub.execute_input": "2023-05-10T02:23:05.513251Z",
     "iopub.status.busy": "2023-05-10T02:23:05.513171Z",
     "iopub.status.idle": "2023-05-10T02:23:05.515695Z",
     "shell.execute_reply": "2023-05-10T02:23:05.515468Z"
    }
   },
   "outputs": [
    {
     "data": {
      "text/plain": [
       "<bound method Series.info of 0        51.0\n",
       "1        51.0\n",
       "2         0.0\n",
       "3        51.0\n",
       "4        51.0\n",
       "         ... \n",
       "16828    48.5\n",
       "16829    48.5\n",
       "16830    48.5\n",
       "16831    48.5\n",
       "16832    48.5\n",
       "Name: top_category_employer2, Length: 16833, dtype: float64>"
      ]
     },
     "execution_count": 84,
     "metadata": {},
     "output_type": "execute_result"
    }
   ],
   "source": [
    "data.info"
   ]
  },
  {
   "cell_type": "code",
   "execution_count": 85,
   "id": "a23774f0",
   "metadata": {
    "execution": {
     "iopub.execute_input": "2023-05-10T02:23:05.517064Z",
     "iopub.status.busy": "2023-05-10T02:23:05.516983Z",
     "iopub.status.idle": "2023-05-10T02:23:05.518882Z",
     "shell.execute_reply": "2023-05-10T02:23:05.518654Z"
    }
   },
   "outputs": [],
   "source": [
    "import os\n",
    "import pandas\n",
    "from google.cloud import bigquery\n",
    "from google.oauth2 import service_account\n",
    "from google.cloud.bigquery import magics\n",
    "import numpy as np"
   ]
  },
  {
   "cell_type": "code",
   "execution_count": 86,
   "id": "a4dcbc4f",
   "metadata": {
    "execution": {
     "iopub.execute_input": "2023-05-10T02:23:05.520199Z",
     "iopub.status.busy": "2023-05-10T02:23:05.520125Z",
     "iopub.status.idle": "2023-05-10T02:23:05.527980Z",
     "shell.execute_reply": "2023-05-10T02:23:05.527629Z"
    }
   },
   "outputs": [],
   "source": [
    "BIGQUERY_PROJECT = 'ironhacks-data'\n",
    "bigquery_client = bigquery.Client(project=BIGQUERY_PROJECT)"
   ]
  },
  {
   "cell_type": "code",
   "execution_count": 87,
   "id": "4488319e",
   "metadata": {
    "execution": {
     "iopub.execute_input": "2023-05-10T02:23:05.529613Z",
     "iopub.status.busy": "2023-05-10T02:23:05.529517Z",
     "iopub.status.idle": "2023-05-10T02:23:05.531293Z",
     "shell.execute_reply": "2023-05-10T02:23:05.531053Z"
    }
   },
   "outputs": [],
   "source": [
    "query = \"\"\"\n",
    "SELECT *\n",
    "FROM `ironhacks-data.ironhacks_competition.unemployment_data`\n",
    "\"\"\""
   ]
  },
  {
   "cell_type": "code",
   "execution_count": 88,
   "id": "563cb841",
   "metadata": {
    "execution": {
     "iopub.execute_input": "2023-05-10T02:23:05.532668Z",
     "iopub.status.busy": "2023-05-10T02:23:05.532590Z",
     "iopub.status.idle": "2023-05-10T02:23:07.074764Z",
     "shell.execute_reply": "2023-05-10T02:23:07.074174Z"
    }
   },
   "outputs": [
    {
     "data": {
      "text/html": [
       "<div>\n",
       "<style scoped>\n",
       "    .dataframe tbody tr th:only-of-type {\n",
       "        vertical-align: middle;\n",
       "    }\n",
       "\n",
       "    .dataframe tbody tr th {\n",
       "        vertical-align: top;\n",
       "    }\n",
       "\n",
       "    .dataframe thead th {\n",
       "        text-align: right;\n",
       "    }\n",
       "</style>\n",
       "<table border=\"1\" class=\"dataframe\">\n",
       "  <thead>\n",
       "    <tr style=\"text-align: right;\">\n",
       "      <th></th>\n",
       "      <th>uu_id</th>\n",
       "      <th>timeperiod</th>\n",
       "      <th>week_number</th>\n",
       "      <th>countyfips</th>\n",
       "      <th>tract</th>\n",
       "      <th>tract_name</th>\n",
       "      <th>total_claims</th>\n",
       "      <th>edu_8th_or_less</th>\n",
       "      <th>edu_grades_9_11</th>\n",
       "      <th>edu_hs_grad_equiv</th>\n",
       "      <th>...</th>\n",
       "      <th>gender_female</th>\n",
       "      <th>gender_male</th>\n",
       "      <th>gender_na</th>\n",
       "      <th>race_amerindian</th>\n",
       "      <th>race_asian</th>\n",
       "      <th>race_black</th>\n",
       "      <th>race_noanswer</th>\n",
       "      <th>race_hawaiiannative</th>\n",
       "      <th>race_other</th>\n",
       "      <th>race_white</th>\n",
       "    </tr>\n",
       "  </thead>\n",
       "  <tbody>\n",
       "    <tr>\n",
       "      <th>0</th>\n",
       "      <td>f013068de98db1470bd986137a0c6d23</td>\n",
       "      <td>20220416</td>\n",
       "      <td>16</td>\n",
       "      <td>18003</td>\n",
       "      <td>900</td>\n",
       "      <td>Census Tract 9, Allen County, Indiana</td>\n",
       "      <td>22</td>\n",
       "      <td>0</td>\n",
       "      <td>&lt;NA&gt;</td>\n",
       "      <td>14</td>\n",
       "      <td>...</td>\n",
       "      <td>&lt;NA&gt;</td>\n",
       "      <td>&lt;NA&gt;</td>\n",
       "      <td>0</td>\n",
       "      <td>0</td>\n",
       "      <td>0</td>\n",
       "      <td>11</td>\n",
       "      <td>0</td>\n",
       "      <td>0</td>\n",
       "      <td>&lt;NA&gt;</td>\n",
       "      <td>&lt;NA&gt;</td>\n",
       "    </tr>\n",
       "    <tr>\n",
       "      <th>1</th>\n",
       "      <td>21957d5517323845818d87623589e1ba</td>\n",
       "      <td>20220319</td>\n",
       "      <td>12</td>\n",
       "      <td>18089</td>\n",
       "      <td>10400</td>\n",
       "      <td>Census Tract 104, Lake County, Indiana</td>\n",
       "      <td>111</td>\n",
       "      <td>0</td>\n",
       "      <td>&lt;NA&gt;</td>\n",
       "      <td>108</td>\n",
       "      <td>...</td>\n",
       "      <td>76</td>\n",
       "      <td>35</td>\n",
       "      <td>0</td>\n",
       "      <td>0</td>\n",
       "      <td>0</td>\n",
       "      <td>&lt;NA&gt;</td>\n",
       "      <td>&lt;NA&gt;</td>\n",
       "      <td>0</td>\n",
       "      <td>0</td>\n",
       "      <td>0</td>\n",
       "    </tr>\n",
       "    <tr>\n",
       "      <th>2</th>\n",
       "      <td>6a5609f385912113b6f1014b958ed748</td>\n",
       "      <td>20220326</td>\n",
       "      <td>13</td>\n",
       "      <td>18089</td>\n",
       "      <td>11500</td>\n",
       "      <td>Census Tract 115, Lake County, Indiana</td>\n",
       "      <td>39</td>\n",
       "      <td>0</td>\n",
       "      <td>&lt;NA&gt;</td>\n",
       "      <td>&lt;NA&gt;</td>\n",
       "      <td>...</td>\n",
       "      <td>&lt;NA&gt;</td>\n",
       "      <td>&lt;NA&gt;</td>\n",
       "      <td>0</td>\n",
       "      <td>0</td>\n",
       "      <td>0</td>\n",
       "      <td>39</td>\n",
       "      <td>0</td>\n",
       "      <td>0</td>\n",
       "      <td>0</td>\n",
       "      <td>0</td>\n",
       "    </tr>\n",
       "    <tr>\n",
       "      <th>3</th>\n",
       "      <td>46b2882ec4c373527ec33f7bd4f1388d</td>\n",
       "      <td>20220716</td>\n",
       "      <td>29</td>\n",
       "      <td>18089</td>\n",
       "      <td>20700</td>\n",
       "      <td>Census Tract 207, Lake County, Indiana</td>\n",
       "      <td>14</td>\n",
       "      <td>0</td>\n",
       "      <td>&lt;NA&gt;</td>\n",
       "      <td>&lt;NA&gt;</td>\n",
       "      <td>...</td>\n",
       "      <td>&lt;NA&gt;</td>\n",
       "      <td>&lt;NA&gt;</td>\n",
       "      <td>0</td>\n",
       "      <td>0</td>\n",
       "      <td>&lt;NA&gt;</td>\n",
       "      <td>10</td>\n",
       "      <td>0</td>\n",
       "      <td>0</td>\n",
       "      <td>&lt;NA&gt;</td>\n",
       "      <td>&lt;NA&gt;</td>\n",
       "    </tr>\n",
       "    <tr>\n",
       "      <th>4</th>\n",
       "      <td>37495d17e82f7df326bfc2c4c090f7b7</td>\n",
       "      <td>20220409</td>\n",
       "      <td>15</td>\n",
       "      <td>18089</td>\n",
       "      <td>21900</td>\n",
       "      <td>Census Tract 219, Lake County, Indiana</td>\n",
       "      <td>155</td>\n",
       "      <td>0</td>\n",
       "      <td>&lt;NA&gt;</td>\n",
       "      <td>69</td>\n",
       "      <td>...</td>\n",
       "      <td>90</td>\n",
       "      <td>65</td>\n",
       "      <td>0</td>\n",
       "      <td>0</td>\n",
       "      <td>0</td>\n",
       "      <td>135</td>\n",
       "      <td>&lt;NA&gt;</td>\n",
       "      <td>&lt;NA&gt;</td>\n",
       "      <td>&lt;NA&gt;</td>\n",
       "      <td>&lt;NA&gt;</td>\n",
       "    </tr>\n",
       "  </tbody>\n",
       "</table>\n",
       "<p>5 rows × 25 columns</p>\n",
       "</div>"
      ],
      "text/plain": [
       "                              uu_id  timeperiod  week_number  countyfips  \\\n",
       "0  f013068de98db1470bd986137a0c6d23    20220416           16       18003   \n",
       "1  21957d5517323845818d87623589e1ba    20220319           12       18089   \n",
       "2  6a5609f385912113b6f1014b958ed748    20220326           13       18089   \n",
       "3  46b2882ec4c373527ec33f7bd4f1388d    20220716           29       18089   \n",
       "4  37495d17e82f7df326bfc2c4c090f7b7    20220409           15       18089   \n",
       "\n",
       "   tract                              tract_name  total_claims  \\\n",
       "0    900   Census Tract 9, Allen County, Indiana            22   \n",
       "1  10400  Census Tract 104, Lake County, Indiana           111   \n",
       "2  11500  Census Tract 115, Lake County, Indiana            39   \n",
       "3  20700  Census Tract 207, Lake County, Indiana            14   \n",
       "4  21900  Census Tract 219, Lake County, Indiana           155   \n",
       "\n",
       "   edu_8th_or_less  edu_grades_9_11  edu_hs_grad_equiv  ...  gender_female  \\\n",
       "0                0             <NA>                 14  ...           <NA>   \n",
       "1                0             <NA>                108  ...             76   \n",
       "2                0             <NA>               <NA>  ...           <NA>   \n",
       "3                0             <NA>               <NA>  ...           <NA>   \n",
       "4                0             <NA>                 69  ...             90   \n",
       "\n",
       "   gender_male gender_na race_amerindian race_asian  race_black  \\\n",
       "0         <NA>         0               0          0          11   \n",
       "1           35         0               0          0        <NA>   \n",
       "2         <NA>         0               0          0          39   \n",
       "3         <NA>         0               0       <NA>          10   \n",
       "4           65         0               0          0         135   \n",
       "\n",
       "   race_noanswer  race_hawaiiannative  race_other  race_white  \n",
       "0              0                    0        <NA>        <NA>  \n",
       "1           <NA>                    0           0           0  \n",
       "2              0                    0           0           0  \n",
       "3              0                    0        <NA>        <NA>  \n",
       "4           <NA>                 <NA>        <NA>        <NA>  \n",
       "\n",
       "[5 rows x 25 columns]"
      ]
     },
     "execution_count": 88,
     "metadata": {},
     "output_type": "execute_result"
    }
   ],
   "source": [
    "# QUERY THE DATA ONCE\n",
    "query_job = bigquery_client.query(query)\n",
    "data = query_job.to_dataframe()\n",
    "data.head()"
   ]
  },
  {
   "cell_type": "code",
   "execution_count": 89,
   "id": "1c35b9cc",
   "metadata": {
    "execution": {
     "iopub.execute_input": "2023-05-10T02:23:07.077679Z",
     "iopub.status.busy": "2023-05-10T02:23:07.077483Z",
     "iopub.status.idle": "2023-05-10T02:23:07.095041Z",
     "shell.execute_reply": "2023-05-10T02:23:07.094614Z"
    }
   },
   "outputs": [
    {
     "name": "stdout",
     "output_type": "stream",
     "text": [
      "<class 'pandas.core.frame.DataFrame'>\n",
      "RangeIndex: 16833 entries, 0 to 16832\n",
      "Data columns (total 25 columns):\n",
      " #   Column                  Non-Null Count  Dtype \n",
      "---  ------                  --------------  ----- \n",
      " 0   uu_id                   16833 non-null  object\n",
      " 1   timeperiod              16833 non-null  Int64 \n",
      " 2   week_number             16833 non-null  Int64 \n",
      " 3   countyfips              16833 non-null  Int64 \n",
      " 4   tract                   16833 non-null  Int64 \n",
      " 5   tract_name              16833 non-null  object\n",
      " 6   total_claims            16833 non-null  Int64 \n",
      " 7   edu_8th_or_less         13748 non-null  Int64 \n",
      " 8   edu_grades_9_11         5942 non-null   Int64 \n",
      " 9   edu_hs_grad_equiv       6036 non-null   Int64 \n",
      " 10  edu_post_hs             3246 non-null   Int64 \n",
      " 11  edu_unknown             12031 non-null  Int64 \n",
      " 12  top_category_employer1  16833 non-null  object\n",
      " 13  top_category_employer2  16833 non-null  object\n",
      " 14  top_category_employer3  16833 non-null  object\n",
      " 15  gender_female           3835 non-null   Int64 \n",
      " 16  gender_male             3931 non-null   Int64 \n",
      " 17  gender_na               15868 non-null  Int64 \n",
      " 18  race_amerindian         15285 non-null  Int64 \n",
      " 19  race_asian              14939 non-null  Int64 \n",
      " 20  race_black              7124 non-null   Int64 \n",
      " 21  race_noanswer           10089 non-null  Int64 \n",
      " 22  race_hawaiiannative     16426 non-null  Int64 \n",
      " 23  race_other              8075 non-null   Int64 \n",
      " 24  race_white              6392 non-null   Int64 \n",
      "dtypes: Int64(20), object(5)\n",
      "memory usage: 3.5+ MB\n"
     ]
    }
   ],
   "source": [
    "data.info()"
   ]
  },
  {
   "cell_type": "code",
   "execution_count": 90,
   "id": "db17be61",
   "metadata": {
    "execution": {
     "iopub.execute_input": "2023-05-10T02:23:07.097111Z",
     "iopub.status.busy": "2023-05-10T02:23:07.096956Z",
     "iopub.status.idle": "2023-05-10T02:23:07.101540Z",
     "shell.execute_reply": "2023-05-10T02:23:07.101200Z"
    }
   },
   "outputs": [],
   "source": [
    "data[\"top_category_employer1\"] = data[\"top_category_employer1\"].map(lambda x: '32' if x =='31-33' else x)"
   ]
  },
  {
   "cell_type": "code",
   "execution_count": 91,
   "id": "5976d28d",
   "metadata": {
    "execution": {
     "iopub.execute_input": "2023-05-10T02:23:07.103163Z",
     "iopub.status.busy": "2023-05-10T02:23:07.103056Z",
     "iopub.status.idle": "2023-05-10T02:23:07.107128Z",
     "shell.execute_reply": "2023-05-10T02:23:07.106760Z"
    }
   },
   "outputs": [],
   "source": [
    "data[\"top_category_employer1\"] = data[\"top_category_employer1\"].map(lambda x: '44.5' if x =='44-45' else x)"
   ]
  },
  {
   "cell_type": "code",
   "execution_count": 92,
   "id": "9dc09f21",
   "metadata": {
    "execution": {
     "iopub.execute_input": "2023-05-10T02:23:07.109222Z",
     "iopub.status.busy": "2023-05-10T02:23:07.109072Z",
     "iopub.status.idle": "2023-05-10T02:23:07.112894Z",
     "shell.execute_reply": "2023-05-10T02:23:07.112578Z"
    }
   },
   "outputs": [],
   "source": [
    "data[\"top_category_employer1\"] = data[\"top_category_employer1\"].map(lambda x: '48.5' if x =='48-49' else x)"
   ]
  },
  {
   "cell_type": "code",
   "execution_count": 93,
   "id": "8ee8d5d4",
   "metadata": {
    "execution": {
     "iopub.execute_input": "2023-05-10T02:23:07.114529Z",
     "iopub.status.busy": "2023-05-10T02:23:07.114426Z",
     "iopub.status.idle": "2023-05-10T02:23:07.117917Z",
     "shell.execute_reply": "2023-05-10T02:23:07.117614Z"
    }
   },
   "outputs": [],
   "source": [
    "data[\"top_category_employer1\"] = data[\"top_category_employer1\"].map(lambda x: '0' if x =='N/A' else x)"
   ]
  },
  {
   "cell_type": "code",
   "execution_count": 94,
   "id": "e2935535",
   "metadata": {
    "execution": {
     "iopub.execute_input": "2023-05-10T02:23:07.119491Z",
     "iopub.status.busy": "2023-05-10T02:23:07.119387Z",
     "iopub.status.idle": "2023-05-10T02:23:07.123298Z",
     "shell.execute_reply": "2023-05-10T02:23:07.123010Z"
    }
   },
   "outputs": [],
   "source": [
    "data[\"top_category_employer2\"] = data[\"top_category_employer2\"].map(lambda x: '32' if x =='31-33' else x)"
   ]
  },
  {
   "cell_type": "code",
   "execution_count": 95,
   "id": "e0a93e2b",
   "metadata": {
    "execution": {
     "iopub.execute_input": "2023-05-10T02:23:07.124772Z",
     "iopub.status.busy": "2023-05-10T02:23:07.124679Z",
     "iopub.status.idle": "2023-05-10T02:23:07.128258Z",
     "shell.execute_reply": "2023-05-10T02:23:07.127854Z"
    }
   },
   "outputs": [],
   "source": [
    "data[\"top_category_employer2\"] = data[\"top_category_employer2\"].map(lambda x: '44.5' if x =='44-45' else x)"
   ]
  },
  {
   "cell_type": "code",
   "execution_count": 96,
   "id": "f6b100a9",
   "metadata": {
    "execution": {
     "iopub.execute_input": "2023-05-10T02:23:07.129992Z",
     "iopub.status.busy": "2023-05-10T02:23:07.129855Z",
     "iopub.status.idle": "2023-05-10T02:23:07.133370Z",
     "shell.execute_reply": "2023-05-10T02:23:07.133100Z"
    }
   },
   "outputs": [],
   "source": [
    "data[\"top_category_employer2\"] = data[\"top_category_employer2\"].map(lambda x: '48.5' if x =='48-49' else x)"
   ]
  },
  {
   "cell_type": "code",
   "execution_count": 97,
   "id": "36cc9a29",
   "metadata": {
    "execution": {
     "iopub.execute_input": "2023-05-10T02:23:07.134783Z",
     "iopub.status.busy": "2023-05-10T02:23:07.134691Z",
     "iopub.status.idle": "2023-05-10T02:23:07.137951Z",
     "shell.execute_reply": "2023-05-10T02:23:07.137663Z"
    }
   },
   "outputs": [],
   "source": [
    "data[\"top_category_employer2\"] = data[\"top_category_employer2\"].map(lambda x: '0' if x =='N/A' else x)"
   ]
  },
  {
   "cell_type": "code",
   "execution_count": 98,
   "id": "a1a166e8",
   "metadata": {
    "execution": {
     "iopub.execute_input": "2023-05-10T02:23:07.140006Z",
     "iopub.status.busy": "2023-05-10T02:23:07.139851Z",
     "iopub.status.idle": "2023-05-10T02:23:07.143429Z",
     "shell.execute_reply": "2023-05-10T02:23:07.143147Z"
    }
   },
   "outputs": [],
   "source": [
    "data[\"top_category_employer3\"] = data[\"top_category_employer3\"].map(lambda x: '32' if x =='31-33' else x)"
   ]
  },
  {
   "cell_type": "code",
   "execution_count": 99,
   "id": "0c3c4bd9",
   "metadata": {
    "execution": {
     "iopub.execute_input": "2023-05-10T02:23:07.144814Z",
     "iopub.status.busy": "2023-05-10T02:23:07.144722Z",
     "iopub.status.idle": "2023-05-10T02:23:07.147521Z",
     "shell.execute_reply": "2023-05-10T02:23:07.147275Z"
    }
   },
   "outputs": [],
   "source": [
    "data[\"top_category_employer3\"] = data[\"top_category_employer3\"].map(lambda x: '44.5' if x =='44-45' else x)"
   ]
  },
  {
   "cell_type": "code",
   "execution_count": 100,
   "id": "c45d0fdf",
   "metadata": {
    "execution": {
     "iopub.execute_input": "2023-05-10T02:23:07.148867Z",
     "iopub.status.busy": "2023-05-10T02:23:07.148785Z",
     "iopub.status.idle": "2023-05-10T02:23:07.151604Z",
     "shell.execute_reply": "2023-05-10T02:23:07.151375Z"
    }
   },
   "outputs": [],
   "source": [
    "data[\"top_category_employer3\"] = data[\"top_category_employer3\"].map(lambda x: '48.5' if x =='48-49' else x)"
   ]
  },
  {
   "cell_type": "code",
   "execution_count": 101,
   "id": "99db72c5",
   "metadata": {
    "execution": {
     "iopub.execute_input": "2023-05-10T02:23:07.152950Z",
     "iopub.status.busy": "2023-05-10T02:23:07.152866Z",
     "iopub.status.idle": "2023-05-10T02:23:07.155633Z",
     "shell.execute_reply": "2023-05-10T02:23:07.155347Z"
    }
   },
   "outputs": [],
   "source": [
    "data[\"top_category_employer3\"] = data[\"top_category_employer3\"].map(lambda x: '0' if x =='N/A' else x)"
   ]
  },
  {
   "cell_type": "code",
   "execution_count": 102,
   "id": "e9d83e39",
   "metadata": {
    "execution": {
     "iopub.execute_input": "2023-05-10T02:23:07.157072Z",
     "iopub.status.busy": "2023-05-10T02:23:07.156989Z",
     "iopub.status.idle": "2023-05-10T02:23:07.167100Z",
     "shell.execute_reply": "2023-05-10T02:23:07.166828Z"
    }
   },
   "outputs": [],
   "source": [
    "data = data.fillna(0)"
   ]
  },
  {
   "cell_type": "code",
   "execution_count": 103,
   "id": "4a6622be",
   "metadata": {
    "execution": {
     "iopub.execute_input": "2023-05-10T02:23:07.168580Z",
     "iopub.status.busy": "2023-05-10T02:23:07.168495Z",
     "iopub.status.idle": "2023-05-10T02:23:07.172122Z",
     "shell.execute_reply": "2023-05-10T02:23:07.171861Z"
    }
   },
   "outputs": [
    {
     "data": {
      "text/plain": [
       "0        32.0\n",
       "1        48.5\n",
       "2        56.0\n",
       "3        56.0\n",
       "4        72.0\n",
       "         ... \n",
       "16828    56.0\n",
       "16829    56.0\n",
       "16830    56.0\n",
       "16831    23.0\n",
       "16832    23.0\n",
       "Name: top_category_employer1, Length: 16833, dtype: float64"
      ]
     },
     "execution_count": 103,
     "metadata": {},
     "output_type": "execute_result"
    }
   ],
   "source": [
    "data['top_category_employer1'].astype(float)"
   ]
  },
  {
   "cell_type": "code",
   "execution_count": 104,
   "id": "3e0cb517",
   "metadata": {
    "execution": {
     "iopub.execute_input": "2023-05-10T02:23:07.173537Z",
     "iopub.status.busy": "2023-05-10T02:23:07.173452Z",
     "iopub.status.idle": "2023-05-10T02:23:07.176219Z",
     "shell.execute_reply": "2023-05-10T02:23:07.175940Z"
    }
   },
   "outputs": [],
   "source": [
    "data = data['top_category_employer2'].astype(float)"
   ]
  },
  {
   "cell_type": "code",
   "execution_count": 105,
   "id": "f139164c",
   "metadata": {
    "execution": {
     "iopub.execute_input": "2023-05-10T02:23:07.177612Z",
     "iopub.status.busy": "2023-05-10T02:23:07.177529Z",
     "iopub.status.idle": "2023-05-10T02:23:07.194038Z",
     "shell.execute_reply": "2023-05-10T02:23:07.193773Z"
    }
   },
   "outputs": [
    {
     "ename": "KeyError",
     "evalue": "'top_category_employer3'",
     "output_type": "error",
     "traceback": [
      "\u001b[0;31m---------------------------------------------------------------------------\u001b[0m",
      "\u001b[0;31mKeyError\u001b[0m                                  Traceback (most recent call last)",
      "Cell \u001b[0;32mIn [105], line 1\u001b[0m\n\u001b[0;32m----> 1\u001b[0m data \u001b[38;5;241m=\u001b[39m \u001b[43mdata\u001b[49m\u001b[43m[\u001b[49m\u001b[38;5;124;43m'\u001b[39;49m\u001b[38;5;124;43mtop_category_employer3\u001b[39;49m\u001b[38;5;124;43m'\u001b[39;49m\u001b[43m]\u001b[49m\u001b[38;5;241m.\u001b[39mastype(\u001b[38;5;28mfloat\u001b[39m)\n",
      "File \u001b[0;32m/opt/homebrew/lib/python3.9/site-packages/pandas/core/series.py:981\u001b[0m, in \u001b[0;36mSeries.__getitem__\u001b[0;34m(self, key)\u001b[0m\n\u001b[1;32m    978\u001b[0m     \u001b[38;5;28;01mreturn\u001b[39;00m \u001b[38;5;28mself\u001b[39m\u001b[38;5;241m.\u001b[39m_values[key]\n\u001b[1;32m    980\u001b[0m \u001b[38;5;28;01melif\u001b[39;00m key_is_scalar:\n\u001b[0;32m--> 981\u001b[0m     \u001b[38;5;28;01mreturn\u001b[39;00m \u001b[38;5;28;43mself\u001b[39;49m\u001b[38;5;241;43m.\u001b[39;49m\u001b[43m_get_value\u001b[49m\u001b[43m(\u001b[49m\u001b[43mkey\u001b[49m\u001b[43m)\u001b[49m\n\u001b[1;32m    983\u001b[0m \u001b[38;5;28;01mif\u001b[39;00m is_hashable(key):\n\u001b[1;32m    984\u001b[0m     \u001b[38;5;66;03m# Otherwise index.get_value will raise InvalidIndexError\u001b[39;00m\n\u001b[1;32m    985\u001b[0m     \u001b[38;5;28;01mtry\u001b[39;00m:\n\u001b[1;32m    986\u001b[0m         \u001b[38;5;66;03m# For labels that don't resolve as scalars like tuples and frozensets\u001b[39;00m\n",
      "File \u001b[0;32m/opt/homebrew/lib/python3.9/site-packages/pandas/core/series.py:1089\u001b[0m, in \u001b[0;36mSeries._get_value\u001b[0;34m(self, label, takeable)\u001b[0m\n\u001b[1;32m   1086\u001b[0m     \u001b[38;5;28;01mreturn\u001b[39;00m \u001b[38;5;28mself\u001b[39m\u001b[38;5;241m.\u001b[39m_values[label]\n\u001b[1;32m   1088\u001b[0m \u001b[38;5;66;03m# Similar to Index.get_value, but we do not fall back to positional\u001b[39;00m\n\u001b[0;32m-> 1089\u001b[0m loc \u001b[38;5;241m=\u001b[39m \u001b[38;5;28;43mself\u001b[39;49m\u001b[38;5;241;43m.\u001b[39;49m\u001b[43mindex\u001b[49m\u001b[38;5;241;43m.\u001b[39;49m\u001b[43mget_loc\u001b[49m\u001b[43m(\u001b[49m\u001b[43mlabel\u001b[49m\u001b[43m)\u001b[49m\n\u001b[1;32m   1090\u001b[0m \u001b[38;5;28;01mreturn\u001b[39;00m \u001b[38;5;28mself\u001b[39m\u001b[38;5;241m.\u001b[39mindex\u001b[38;5;241m.\u001b[39m_get_values_for_loc(\u001b[38;5;28mself\u001b[39m, loc, label)\n",
      "File \u001b[0;32m/opt/homebrew/lib/python3.9/site-packages/pandas/core/indexes/range.py:395\u001b[0m, in \u001b[0;36mRangeIndex.get_loc\u001b[0;34m(self, key, method, tolerance)\u001b[0m\n\u001b[1;32m    393\u001b[0m             \u001b[38;5;28;01mraise\u001b[39;00m \u001b[38;5;167;01mKeyError\u001b[39;00m(key) \u001b[38;5;28;01mfrom\u001b[39;00m \u001b[38;5;21;01merr\u001b[39;00m\n\u001b[1;32m    394\u001b[0m     \u001b[38;5;28mself\u001b[39m\u001b[38;5;241m.\u001b[39m_check_indexing_error(key)\n\u001b[0;32m--> 395\u001b[0m     \u001b[38;5;28;01mraise\u001b[39;00m \u001b[38;5;167;01mKeyError\u001b[39;00m(key)\n\u001b[1;32m    396\u001b[0m \u001b[38;5;28;01mreturn\u001b[39;00m \u001b[38;5;28msuper\u001b[39m()\u001b[38;5;241m.\u001b[39mget_loc(key, method\u001b[38;5;241m=\u001b[39mmethod, tolerance\u001b[38;5;241m=\u001b[39mtolerance)\n",
      "\u001b[0;31mKeyError\u001b[0m: 'top_category_employer3'"
     ]
    }
   ],
   "source": [
    "data = data['top_category_employer3'].astype(float)"
   ]
  },
  {
   "cell_type": "code",
   "execution_count": 106,
   "id": "7582b9b6",
   "metadata": {
    "execution": {
     "iopub.execute_input": "2023-05-10T02:23:07.195468Z",
     "iopub.status.busy": "2023-05-10T02:23:07.195384Z",
     "iopub.status.idle": "2023-05-10T02:23:09.867465Z",
     "shell.execute_reply": "2023-05-10T02:23:09.866848Z"
    }
   },
   "outputs": [
    {
     "name": "stdout",
     "output_type": "stream",
     "text": [
      "\u001b[33mWARNING: Ignoring invalid distribution -umpy (/opt/anaconda3/lib/python3.9/site-packages)\u001b[0m\r\n",
      "\u001b[33mWARNING: Ignoring invalid distribution -umpy (/opt/anaconda3/lib/python3.9/site-packages)\u001b[0m\r\n",
      "Requirement already satisfied: db-dtypes in /opt/anaconda3/lib/python3.9/site-packages (1.0.5)\r\n",
      "Requirement already satisfied: numpy<2.0dev,>=1.16.6 in /opt/anaconda3/lib/python3.9/site-packages (from db-dtypes) (1.22.4)\r\n",
      "Requirement already satisfied: pyarrow>=3.0.0 in /opt/anaconda3/lib/python3.9/site-packages (from db-dtypes) (10.0.1)\r\n",
      "Requirement already satisfied: packaging>=17.0 in /opt/anaconda3/lib/python3.9/site-packages (from db-dtypes) (21.3)\r\n",
      "Requirement already satisfied: pandas<2.0dev,>=0.24.2 in /opt/anaconda3/lib/python3.9/site-packages (from db-dtypes) (1.5.3)\r\n",
      "Requirement already satisfied: pyparsing!=3.0.5,>=2.0.2 in /opt/anaconda3/lib/python3.9/site-packages (from packaging>=17.0->db-dtypes) (3.0.4)\r\n",
      "Requirement already satisfied: python-dateutil>=2.8.1 in /opt/anaconda3/lib/python3.9/site-packages (from pandas<2.0dev,>=0.24.2->db-dtypes) (2.8.2)\r\n",
      "Requirement already satisfied: pytz>=2020.1 in /opt/anaconda3/lib/python3.9/site-packages (from pandas<2.0dev,>=0.24.2->db-dtypes) (2021.3)\r\n",
      "Requirement already satisfied: six>=1.5 in /opt/anaconda3/lib/python3.9/site-packages (from python-dateutil>=2.8.1->pandas<2.0dev,>=0.24.2->db-dtypes) (1.16.0)\r\n",
      "\u001b[33mWARNING: Ignoring invalid distribution -umpy (/opt/anaconda3/lib/python3.9/site-packages)\u001b[0m\r\n"
     ]
    },
    {
     "name": "stdout",
     "output_type": "stream",
     "text": [
      "\u001b[33mWARNING: Ignoring invalid distribution -umpy (/opt/anaconda3/lib/python3.9/site-packages)\u001b[0m\r\n",
      "\u001b[33mWARNING: Ignoring invalid distribution -umpy (/opt/anaconda3/lib/python3.9/site-packages)\u001b[0m\r\n",
      "\u001b[33mWARNING: Ignoring invalid distribution -umpy (/opt/anaconda3/lib/python3.9/site-packages)\u001b[0m\r\n"
     ]
    }
   ],
   "source": [
    "get_ipython().system('pip install db-dtypes')"
   ]
  },
  {
   "cell_type": "code",
   "execution_count": 107,
   "id": "bb3a2020",
   "metadata": {
    "execution": {
     "iopub.execute_input": "2023-05-10T02:23:09.870401Z",
     "iopub.status.busy": "2023-05-10T02:23:09.870113Z",
     "iopub.status.idle": "2023-05-10T02:23:09.873418Z",
     "shell.execute_reply": "2023-05-10T02:23:09.872885Z"
    }
   },
   "outputs": [],
   "source": [
    "import os\n",
    "import pandas\n",
    "from google.cloud import bigquery\n",
    "from google.oauth2 import service_account\n",
    "from google.cloud.bigquery import magics\n",
    "import numpy as np"
   ]
  },
  {
   "cell_type": "code",
   "execution_count": 108,
   "id": "ea8f272e",
   "metadata": {
    "execution": {
     "iopub.execute_input": "2023-05-10T02:23:09.875716Z",
     "iopub.status.busy": "2023-05-10T02:23:09.875587Z",
     "iopub.status.idle": "2023-05-10T02:23:09.883743Z",
     "shell.execute_reply": "2023-05-10T02:23:09.883118Z"
    }
   },
   "outputs": [],
   "source": [
    "BIGQUERY_PROJECT = 'ironhacks-data'\n",
    "bigquery_client = bigquery.Client(project=BIGQUERY_PROJECT)"
   ]
  },
  {
   "cell_type": "code",
   "execution_count": 109,
   "id": "cb6af7f5",
   "metadata": {
    "execution": {
     "iopub.execute_input": "2023-05-10T02:23:09.886230Z",
     "iopub.status.busy": "2023-05-10T02:23:09.886038Z",
     "iopub.status.idle": "2023-05-10T02:23:09.888364Z",
     "shell.execute_reply": "2023-05-10T02:23:09.888055Z"
    }
   },
   "outputs": [],
   "source": [
    "query = \"\"\"\n",
    "SELECT *\n",
    "FROM `ironhacks-data.ironhacks_competition.unemployment_data`\n",
    "\"\"\""
   ]
  },
  {
   "cell_type": "code",
   "execution_count": 110,
   "id": "a75575a5",
   "metadata": {
    "execution": {
     "iopub.execute_input": "2023-05-10T02:23:09.890201Z",
     "iopub.status.busy": "2023-05-10T02:23:09.890046Z",
     "iopub.status.idle": "2023-05-10T02:23:11.457430Z",
     "shell.execute_reply": "2023-05-10T02:23:11.456525Z"
    }
   },
   "outputs": [
    {
     "data": {
      "text/html": [
       "<div>\n",
       "<style scoped>\n",
       "    .dataframe tbody tr th:only-of-type {\n",
       "        vertical-align: middle;\n",
       "    }\n",
       "\n",
       "    .dataframe tbody tr th {\n",
       "        vertical-align: top;\n",
       "    }\n",
       "\n",
       "    .dataframe thead th {\n",
       "        text-align: right;\n",
       "    }\n",
       "</style>\n",
       "<table border=\"1\" class=\"dataframe\">\n",
       "  <thead>\n",
       "    <tr style=\"text-align: right;\">\n",
       "      <th></th>\n",
       "      <th>uu_id</th>\n",
       "      <th>timeperiod</th>\n",
       "      <th>week_number</th>\n",
       "      <th>countyfips</th>\n",
       "      <th>tract</th>\n",
       "      <th>tract_name</th>\n",
       "      <th>total_claims</th>\n",
       "      <th>edu_8th_or_less</th>\n",
       "      <th>edu_grades_9_11</th>\n",
       "      <th>edu_hs_grad_equiv</th>\n",
       "      <th>...</th>\n",
       "      <th>gender_female</th>\n",
       "      <th>gender_male</th>\n",
       "      <th>gender_na</th>\n",
       "      <th>race_amerindian</th>\n",
       "      <th>race_asian</th>\n",
       "      <th>race_black</th>\n",
       "      <th>race_noanswer</th>\n",
       "      <th>race_hawaiiannative</th>\n",
       "      <th>race_other</th>\n",
       "      <th>race_white</th>\n",
       "    </tr>\n",
       "  </thead>\n",
       "  <tbody>\n",
       "    <tr>\n",
       "      <th>0</th>\n",
       "      <td>f013068de98db1470bd986137a0c6d23</td>\n",
       "      <td>20220416</td>\n",
       "      <td>16</td>\n",
       "      <td>18003</td>\n",
       "      <td>900</td>\n",
       "      <td>Census Tract 9, Allen County, Indiana</td>\n",
       "      <td>22</td>\n",
       "      <td>0</td>\n",
       "      <td>&lt;NA&gt;</td>\n",
       "      <td>14</td>\n",
       "      <td>...</td>\n",
       "      <td>&lt;NA&gt;</td>\n",
       "      <td>&lt;NA&gt;</td>\n",
       "      <td>0</td>\n",
       "      <td>0</td>\n",
       "      <td>0</td>\n",
       "      <td>11</td>\n",
       "      <td>0</td>\n",
       "      <td>0</td>\n",
       "      <td>&lt;NA&gt;</td>\n",
       "      <td>&lt;NA&gt;</td>\n",
       "    </tr>\n",
       "    <tr>\n",
       "      <th>1</th>\n",
       "      <td>21957d5517323845818d87623589e1ba</td>\n",
       "      <td>20220319</td>\n",
       "      <td>12</td>\n",
       "      <td>18089</td>\n",
       "      <td>10400</td>\n",
       "      <td>Census Tract 104, Lake County, Indiana</td>\n",
       "      <td>111</td>\n",
       "      <td>0</td>\n",
       "      <td>&lt;NA&gt;</td>\n",
       "      <td>108</td>\n",
       "      <td>...</td>\n",
       "      <td>76</td>\n",
       "      <td>35</td>\n",
       "      <td>0</td>\n",
       "      <td>0</td>\n",
       "      <td>0</td>\n",
       "      <td>&lt;NA&gt;</td>\n",
       "      <td>&lt;NA&gt;</td>\n",
       "      <td>0</td>\n",
       "      <td>0</td>\n",
       "      <td>0</td>\n",
       "    </tr>\n",
       "    <tr>\n",
       "      <th>2</th>\n",
       "      <td>6a5609f385912113b6f1014b958ed748</td>\n",
       "      <td>20220326</td>\n",
       "      <td>13</td>\n",
       "      <td>18089</td>\n",
       "      <td>11500</td>\n",
       "      <td>Census Tract 115, Lake County, Indiana</td>\n",
       "      <td>39</td>\n",
       "      <td>0</td>\n",
       "      <td>&lt;NA&gt;</td>\n",
       "      <td>&lt;NA&gt;</td>\n",
       "      <td>...</td>\n",
       "      <td>&lt;NA&gt;</td>\n",
       "      <td>&lt;NA&gt;</td>\n",
       "      <td>0</td>\n",
       "      <td>0</td>\n",
       "      <td>0</td>\n",
       "      <td>39</td>\n",
       "      <td>0</td>\n",
       "      <td>0</td>\n",
       "      <td>0</td>\n",
       "      <td>0</td>\n",
       "    </tr>\n",
       "    <tr>\n",
       "      <th>3</th>\n",
       "      <td>46b2882ec4c373527ec33f7bd4f1388d</td>\n",
       "      <td>20220716</td>\n",
       "      <td>29</td>\n",
       "      <td>18089</td>\n",
       "      <td>20700</td>\n",
       "      <td>Census Tract 207, Lake County, Indiana</td>\n",
       "      <td>14</td>\n",
       "      <td>0</td>\n",
       "      <td>&lt;NA&gt;</td>\n",
       "      <td>&lt;NA&gt;</td>\n",
       "      <td>...</td>\n",
       "      <td>&lt;NA&gt;</td>\n",
       "      <td>&lt;NA&gt;</td>\n",
       "      <td>0</td>\n",
       "      <td>0</td>\n",
       "      <td>&lt;NA&gt;</td>\n",
       "      <td>10</td>\n",
       "      <td>0</td>\n",
       "      <td>0</td>\n",
       "      <td>&lt;NA&gt;</td>\n",
       "      <td>&lt;NA&gt;</td>\n",
       "    </tr>\n",
       "    <tr>\n",
       "      <th>4</th>\n",
       "      <td>37495d17e82f7df326bfc2c4c090f7b7</td>\n",
       "      <td>20220409</td>\n",
       "      <td>15</td>\n",
       "      <td>18089</td>\n",
       "      <td>21900</td>\n",
       "      <td>Census Tract 219, Lake County, Indiana</td>\n",
       "      <td>155</td>\n",
       "      <td>0</td>\n",
       "      <td>&lt;NA&gt;</td>\n",
       "      <td>69</td>\n",
       "      <td>...</td>\n",
       "      <td>90</td>\n",
       "      <td>65</td>\n",
       "      <td>0</td>\n",
       "      <td>0</td>\n",
       "      <td>0</td>\n",
       "      <td>135</td>\n",
       "      <td>&lt;NA&gt;</td>\n",
       "      <td>&lt;NA&gt;</td>\n",
       "      <td>&lt;NA&gt;</td>\n",
       "      <td>&lt;NA&gt;</td>\n",
       "    </tr>\n",
       "  </tbody>\n",
       "</table>\n",
       "<p>5 rows × 25 columns</p>\n",
       "</div>"
      ],
      "text/plain": [
       "                              uu_id  timeperiod  week_number  countyfips  \\\n",
       "0  f013068de98db1470bd986137a0c6d23    20220416           16       18003   \n",
       "1  21957d5517323845818d87623589e1ba    20220319           12       18089   \n",
       "2  6a5609f385912113b6f1014b958ed748    20220326           13       18089   \n",
       "3  46b2882ec4c373527ec33f7bd4f1388d    20220716           29       18089   \n",
       "4  37495d17e82f7df326bfc2c4c090f7b7    20220409           15       18089   \n",
       "\n",
       "   tract                              tract_name  total_claims  \\\n",
       "0    900   Census Tract 9, Allen County, Indiana            22   \n",
       "1  10400  Census Tract 104, Lake County, Indiana           111   \n",
       "2  11500  Census Tract 115, Lake County, Indiana            39   \n",
       "3  20700  Census Tract 207, Lake County, Indiana            14   \n",
       "4  21900  Census Tract 219, Lake County, Indiana           155   \n",
       "\n",
       "   edu_8th_or_less  edu_grades_9_11  edu_hs_grad_equiv  ...  gender_female  \\\n",
       "0                0             <NA>                 14  ...           <NA>   \n",
       "1                0             <NA>                108  ...             76   \n",
       "2                0             <NA>               <NA>  ...           <NA>   \n",
       "3                0             <NA>               <NA>  ...           <NA>   \n",
       "4                0             <NA>                 69  ...             90   \n",
       "\n",
       "   gender_male gender_na race_amerindian race_asian  race_black  \\\n",
       "0         <NA>         0               0          0          11   \n",
       "1           35         0               0          0        <NA>   \n",
       "2         <NA>         0               0          0          39   \n",
       "3         <NA>         0               0       <NA>          10   \n",
       "4           65         0               0          0         135   \n",
       "\n",
       "   race_noanswer  race_hawaiiannative  race_other  race_white  \n",
       "0              0                    0        <NA>        <NA>  \n",
       "1           <NA>                    0           0           0  \n",
       "2              0                    0           0           0  \n",
       "3              0                    0        <NA>        <NA>  \n",
       "4           <NA>                 <NA>        <NA>        <NA>  \n",
       "\n",
       "[5 rows x 25 columns]"
      ]
     },
     "execution_count": 110,
     "metadata": {},
     "output_type": "execute_result"
    }
   ],
   "source": [
    "# QUERY THE DATA ONCE\n",
    "query_job = bigquery_client.query(query)\n",
    "data = query_job.to_dataframe()\n",
    "data.head()"
   ]
  },
  {
   "cell_type": "code",
   "execution_count": 111,
   "id": "bdbaf3ca",
   "metadata": {
    "execution": {
     "iopub.execute_input": "2023-05-10T02:23:11.460722Z",
     "iopub.status.busy": "2023-05-10T02:23:11.460452Z",
     "iopub.status.idle": "2023-05-10T02:23:11.478751Z",
     "shell.execute_reply": "2023-05-10T02:23:11.478305Z"
    }
   },
   "outputs": [
    {
     "name": "stdout",
     "output_type": "stream",
     "text": [
      "<class 'pandas.core.frame.DataFrame'>\n",
      "RangeIndex: 16833 entries, 0 to 16832\n",
      "Data columns (total 25 columns):\n",
      " #   Column                  Non-Null Count  Dtype \n",
      "---  ------                  --------------  ----- \n",
      " 0   uu_id                   16833 non-null  object\n",
      " 1   timeperiod              16833 non-null  Int64 \n",
      " 2   week_number             16833 non-null  Int64 \n",
      " 3   countyfips              16833 non-null  Int64 \n",
      " 4   tract                   16833 non-null  Int64 \n",
      " 5   tract_name              16833 non-null  object\n",
      " 6   total_claims            16833 non-null  Int64 \n",
      " 7   edu_8th_or_less         13748 non-null  Int64 \n",
      " 8   edu_grades_9_11         5942 non-null   Int64 \n",
      " 9   edu_hs_grad_equiv       6036 non-null   Int64 \n",
      " 10  edu_post_hs             3246 non-null   Int64 \n",
      " 11  edu_unknown             12031 non-null  Int64 \n",
      " 12  top_category_employer1  16833 non-null  object\n",
      " 13  top_category_employer2  16833 non-null  object\n",
      " 14  top_category_employer3  16833 non-null  object\n",
      " 15  gender_female           3835 non-null   Int64 \n",
      " 16  gender_male             3931 non-null   Int64 \n",
      " 17  gender_na               15868 non-null  Int64 \n",
      " 18  race_amerindian         15285 non-null  Int64 \n",
      " 19  race_asian              14939 non-null  Int64 \n",
      " 20  race_black              7124 non-null   Int64 \n",
      " 21  race_noanswer           10089 non-null  Int64 \n",
      " 22  race_hawaiiannative     16426 non-null  Int64 \n",
      " 23  race_other              8075 non-null   Int64 \n",
      " 24  race_white              6392 non-null   Int64 \n",
      "dtypes: Int64(20), object(5)\n",
      "memory usage: 3.5+ MB\n"
     ]
    }
   ],
   "source": [
    "data.info()"
   ]
  },
  {
   "cell_type": "code",
   "execution_count": 112,
   "id": "da5ec533",
   "metadata": {
    "execution": {
     "iopub.execute_input": "2023-05-10T02:23:11.480808Z",
     "iopub.status.busy": "2023-05-10T02:23:11.480643Z",
     "iopub.status.idle": "2023-05-10T02:23:11.485437Z",
     "shell.execute_reply": "2023-05-10T02:23:11.485136Z"
    }
   },
   "outputs": [],
   "source": [
    "data[\"top_category_employer1\"] = data[\"top_category_employer1\"].map(lambda x: '32' if x =='31-33' else x)"
   ]
  },
  {
   "cell_type": "code",
   "execution_count": 113,
   "id": "d2e70415",
   "metadata": {
    "execution": {
     "iopub.execute_input": "2023-05-10T02:23:11.487227Z",
     "iopub.status.busy": "2023-05-10T02:23:11.487115Z",
     "iopub.status.idle": "2023-05-10T02:23:11.491346Z",
     "shell.execute_reply": "2023-05-10T02:23:11.490997Z"
    }
   },
   "outputs": [],
   "source": [
    "data[\"top_category_employer1\"] = data[\"top_category_employer1\"].map(lambda x: '44.5' if x =='44-45' else x)"
   ]
  },
  {
   "cell_type": "code",
   "execution_count": 114,
   "id": "f41be67d",
   "metadata": {
    "execution": {
     "iopub.execute_input": "2023-05-10T02:23:11.493063Z",
     "iopub.status.busy": "2023-05-10T02:23:11.492958Z",
     "iopub.status.idle": "2023-05-10T02:23:11.496686Z",
     "shell.execute_reply": "2023-05-10T02:23:11.496378Z"
    }
   },
   "outputs": [],
   "source": [
    "data[\"top_category_employer1\"] = data[\"top_category_employer1\"].map(lambda x: '48.5' if x =='48-49' else x)"
   ]
  },
  {
   "cell_type": "code",
   "execution_count": 115,
   "id": "eb77cf22",
   "metadata": {
    "execution": {
     "iopub.execute_input": "2023-05-10T02:23:11.498285Z",
     "iopub.status.busy": "2023-05-10T02:23:11.498188Z",
     "iopub.status.idle": "2023-05-10T02:23:11.501582Z",
     "shell.execute_reply": "2023-05-10T02:23:11.501295Z"
    }
   },
   "outputs": [],
   "source": [
    "data[\"top_category_employer1\"] = data[\"top_category_employer1\"].map(lambda x: '0' if x =='N/A' else x)"
   ]
  },
  {
   "cell_type": "code",
   "execution_count": 116,
   "id": "ed9e05b7",
   "metadata": {
    "execution": {
     "iopub.execute_input": "2023-05-10T02:23:11.503116Z",
     "iopub.status.busy": "2023-05-10T02:23:11.503023Z",
     "iopub.status.idle": "2023-05-10T02:23:11.506798Z",
     "shell.execute_reply": "2023-05-10T02:23:11.506490Z"
    }
   },
   "outputs": [],
   "source": [
    "data[\"top_category_employer2\"] = data[\"top_category_employer2\"].map(lambda x: '32' if x =='31-33' else x)"
   ]
  },
  {
   "cell_type": "code",
   "execution_count": 117,
   "id": "9403040d",
   "metadata": {
    "execution": {
     "iopub.execute_input": "2023-05-10T02:23:11.508447Z",
     "iopub.status.busy": "2023-05-10T02:23:11.508295Z",
     "iopub.status.idle": "2023-05-10T02:23:11.511785Z",
     "shell.execute_reply": "2023-05-10T02:23:11.511500Z"
    }
   },
   "outputs": [],
   "source": [
    "data[\"top_category_employer2\"] = data[\"top_category_employer2\"].map(lambda x: '44.5' if x =='44-45' else x)"
   ]
  },
  {
   "cell_type": "code",
   "execution_count": 118,
   "id": "eb2f40af",
   "metadata": {
    "execution": {
     "iopub.execute_input": "2023-05-10T02:23:11.513231Z",
     "iopub.status.busy": "2023-05-10T02:23:11.513151Z",
     "iopub.status.idle": "2023-05-10T02:23:11.516079Z",
     "shell.execute_reply": "2023-05-10T02:23:11.515847Z"
    }
   },
   "outputs": [],
   "source": [
    "data[\"top_category_employer2\"] = data[\"top_category_employer2\"].map(lambda x: '48.5' if x =='48-49' else x)"
   ]
  },
  {
   "cell_type": "code",
   "execution_count": 119,
   "id": "bfa381c3",
   "metadata": {
    "execution": {
     "iopub.execute_input": "2023-05-10T02:23:11.517380Z",
     "iopub.status.busy": "2023-05-10T02:23:11.517300Z",
     "iopub.status.idle": "2023-05-10T02:23:11.520170Z",
     "shell.execute_reply": "2023-05-10T02:23:11.519932Z"
    }
   },
   "outputs": [],
   "source": [
    "data[\"top_category_employer2\"] = data[\"top_category_employer2\"].map(lambda x: '0' if x =='N/A' else x)"
   ]
  },
  {
   "cell_type": "code",
   "execution_count": 120,
   "id": "d75dd89d",
   "metadata": {
    "execution": {
     "iopub.execute_input": "2023-05-10T02:23:11.521465Z",
     "iopub.status.busy": "2023-05-10T02:23:11.521391Z",
     "iopub.status.idle": "2023-05-10T02:23:11.524504Z",
     "shell.execute_reply": "2023-05-10T02:23:11.524271Z"
    }
   },
   "outputs": [],
   "source": [
    "data[\"top_category_employer3\"] = data[\"top_category_employer3\"].map(lambda x: '32' if x =='31-33' else x)"
   ]
  },
  {
   "cell_type": "code",
   "execution_count": 121,
   "id": "37090001",
   "metadata": {
    "execution": {
     "iopub.execute_input": "2023-05-10T02:23:11.525984Z",
     "iopub.status.busy": "2023-05-10T02:23:11.525901Z",
     "iopub.status.idle": "2023-05-10T02:23:11.528769Z",
     "shell.execute_reply": "2023-05-10T02:23:11.528536Z"
    }
   },
   "outputs": [],
   "source": [
    "data[\"top_category_employer3\"] = data[\"top_category_employer3\"].map(lambda x: '44.5' if x =='44-45' else x)"
   ]
  },
  {
   "cell_type": "code",
   "execution_count": 122,
   "id": "37b4ca10",
   "metadata": {
    "execution": {
     "iopub.execute_input": "2023-05-10T02:23:11.530179Z",
     "iopub.status.busy": "2023-05-10T02:23:11.530101Z",
     "iopub.status.idle": "2023-05-10T02:23:11.532839Z",
     "shell.execute_reply": "2023-05-10T02:23:11.532624Z"
    }
   },
   "outputs": [],
   "source": [
    "data[\"top_category_employer3\"] = data[\"top_category_employer3\"].map(lambda x: '48.5' if x =='48-49' else x)"
   ]
  },
  {
   "cell_type": "code",
   "execution_count": 123,
   "id": "2684c34e",
   "metadata": {
    "execution": {
     "iopub.execute_input": "2023-05-10T02:23:11.534315Z",
     "iopub.status.busy": "2023-05-10T02:23:11.534231Z",
     "iopub.status.idle": "2023-05-10T02:23:11.537110Z",
     "shell.execute_reply": "2023-05-10T02:23:11.536884Z"
    }
   },
   "outputs": [],
   "source": [
    "data[\"top_category_employer3\"] = data[\"top_category_employer3\"].map(lambda x: '0' if x =='N/A' else x)"
   ]
  },
  {
   "cell_type": "code",
   "execution_count": 124,
   "id": "b31a3cf5",
   "metadata": {
    "execution": {
     "iopub.execute_input": "2023-05-10T02:23:11.538466Z",
     "iopub.status.busy": "2023-05-10T02:23:11.538384Z",
     "iopub.status.idle": "2023-05-10T02:23:11.548649Z",
     "shell.execute_reply": "2023-05-10T02:23:11.548369Z"
    }
   },
   "outputs": [],
   "source": [
    "data = data.fillna(0)"
   ]
  },
  {
   "cell_type": "code",
   "execution_count": 125,
   "id": "a5c385da",
   "metadata": {
    "execution": {
     "iopub.execute_input": "2023-05-10T02:23:11.550233Z",
     "iopub.status.busy": "2023-05-10T02:23:11.550147Z",
     "iopub.status.idle": "2023-05-10T02:23:11.553750Z",
     "shell.execute_reply": "2023-05-10T02:23:11.553519Z"
    }
   },
   "outputs": [
    {
     "data": {
      "text/plain": [
       "0        32.0\n",
       "1        48.5\n",
       "2        56.0\n",
       "3        56.0\n",
       "4        72.0\n",
       "         ... \n",
       "16828    56.0\n",
       "16829    56.0\n",
       "16830    56.0\n",
       "16831    23.0\n",
       "16832    23.0\n",
       "Name: top_category_employer1, Length: 16833, dtype: float64"
      ]
     },
     "execution_count": 125,
     "metadata": {},
     "output_type": "execute_result"
    }
   ],
   "source": [
    "data['top_category_employer1'].astype(float)"
   ]
  },
  {
   "cell_type": "code",
   "execution_count": 126,
   "id": "1e25c822",
   "metadata": {
    "execution": {
     "iopub.execute_input": "2023-05-10T02:23:11.555183Z",
     "iopub.status.busy": "2023-05-10T02:23:11.555100Z",
     "iopub.status.idle": "2023-05-10T02:23:11.556712Z",
     "shell.execute_reply": "2023-05-10T02:23:11.556483Z"
    }
   },
   "outputs": [],
   "source": [
    "query = \"\"\"\n",
    "SELECT *\n",
    "FROM `ironhacks-data.ironhacks_competition.wage_data`\n",
    "\"\"\""
   ]
  },
  {
   "cell_type": "code",
   "execution_count": 127,
   "id": "b890ff1f",
   "metadata": {
    "execution": {
     "iopub.execute_input": "2023-05-10T02:23:11.558100Z",
     "iopub.status.busy": "2023-05-10T02:23:11.558018Z",
     "iopub.status.idle": "2023-05-10T02:23:12.703295Z",
     "shell.execute_reply": "2023-05-10T02:23:12.702259Z"
    }
   },
   "outputs": [
    {
     "data": {
      "text/html": [
       "<div>\n",
       "<style scoped>\n",
       "    .dataframe tbody tr th:only-of-type {\n",
       "        vertical-align: middle;\n",
       "    }\n",
       "\n",
       "    .dataframe tbody tr th {\n",
       "        vertical-align: top;\n",
       "    }\n",
       "\n",
       "    .dataframe thead th {\n",
       "        text-align: right;\n",
       "    }\n",
       "</style>\n",
       "<table border=\"1\" class=\"dataframe\">\n",
       "  <thead>\n",
       "    <tr style=\"text-align: right;\">\n",
       "      <th></th>\n",
       "      <th>uu_id</th>\n",
       "      <th>countyfips</th>\n",
       "      <th>tract</th>\n",
       "      <th>tract_name</th>\n",
       "      <th>average_wage</th>\n",
       "    </tr>\n",
       "  </thead>\n",
       "  <tbody>\n",
       "    <tr>\n",
       "      <th>0</th>\n",
       "      <td>585f8731c2255d6b3f817a31180848b9</td>\n",
       "      <td>18177</td>\n",
       "      <td>200</td>\n",
       "      <td>Census Tract 2, Wayne County, Indiana</td>\n",
       "      <td>6612.000000</td>\n",
       "    </tr>\n",
       "    <tr>\n",
       "      <th>1</th>\n",
       "      <td>8c9d2aa90948679972a9382aadcc6001</td>\n",
       "      <td>18177</td>\n",
       "      <td>900</td>\n",
       "      <td>Census Tract 9, Wayne County, Indiana</td>\n",
       "      <td>9883.250000</td>\n",
       "    </tr>\n",
       "    <tr>\n",
       "      <th>2</th>\n",
       "      <td>0f3d45341a5b113b813ffb7be7f58bab</td>\n",
       "      <td>18183</td>\n",
       "      <td>50300</td>\n",
       "      <td>Census Tract 503, Whitley County, Indiana</td>\n",
       "      <td>13992.250000</td>\n",
       "    </tr>\n",
       "    <tr>\n",
       "      <th>3</th>\n",
       "      <td>fb55464f8e34af6d750d06968bf719b8</td>\n",
       "      <td>18183</td>\n",
       "      <td>50400</td>\n",
       "      <td>Census Tract 504, Whitley County, Indiana</td>\n",
       "      <td>13613.500000</td>\n",
       "    </tr>\n",
       "    <tr>\n",
       "      <th>4</th>\n",
       "      <td>983badfd7b568728e39a2344a9006078</td>\n",
       "      <td>18001</td>\n",
       "      <td>30200</td>\n",
       "      <td>Census Tract 302, Adams County, Indiana</td>\n",
       "      <td>11816.666667</td>\n",
       "    </tr>\n",
       "  </tbody>\n",
       "</table>\n",
       "</div>"
      ],
      "text/plain": [
       "                              uu_id  countyfips  tract  \\\n",
       "0  585f8731c2255d6b3f817a31180848b9       18177    200   \n",
       "1  8c9d2aa90948679972a9382aadcc6001       18177    900   \n",
       "2  0f3d45341a5b113b813ffb7be7f58bab       18183  50300   \n",
       "3  fb55464f8e34af6d750d06968bf719b8       18183  50400   \n",
       "4  983badfd7b568728e39a2344a9006078       18001  30200   \n",
       "\n",
       "                                  tract_name  average_wage  \n",
       "0      Census Tract 2, Wayne County, Indiana   6612.000000  \n",
       "1      Census Tract 9, Wayne County, Indiana   9883.250000  \n",
       "2  Census Tract 503, Whitley County, Indiana  13992.250000  \n",
       "3  Census Tract 504, Whitley County, Indiana  13613.500000  \n",
       "4    Census Tract 302, Adams County, Indiana  11816.666667  "
      ]
     },
     "execution_count": 127,
     "metadata": {},
     "output_type": "execute_result"
    }
   ],
   "source": [
    "# QUERY THE DATA ONCE\n",
    "query_job = bigquery_client.query(query)\n",
    "wage_data = query_job.to_dataframe()\n",
    "wage_data.head()"
   ]
  },
  {
   "cell_type": "code",
   "execution_count": 128,
   "id": "6acc4e78",
   "metadata": {
    "execution": {
     "iopub.execute_input": "2023-05-10T02:23:12.709149Z",
     "iopub.status.busy": "2023-05-10T02:23:12.708464Z",
     "iopub.status.idle": "2023-05-10T02:23:12.712470Z",
     "shell.execute_reply": "2023-05-10T02:23:12.711744Z"
    }
   },
   "outputs": [],
   "source": [
    "query = \"\"\"\n",
    "SELECT *\n",
    "FROM `ironhacks-data.ironhacks_competition.prediction_list`\n",
    "\"\"\""
   ]
  },
  {
   "cell_type": "code",
   "execution_count": 129,
   "id": "33dfa09a",
   "metadata": {
    "execution": {
     "iopub.execute_input": "2023-05-10T02:23:12.717057Z",
     "iopub.status.busy": "2023-05-10T02:23:12.716459Z",
     "iopub.status.idle": "2023-05-10T02:23:14.122446Z",
     "shell.execute_reply": "2023-05-10T02:23:14.121233Z"
    }
   },
   "outputs": [
    {
     "data": {
      "text/html": [
       "<div>\n",
       "<style scoped>\n",
       "    .dataframe tbody tr th:only-of-type {\n",
       "        vertical-align: middle;\n",
       "    }\n",
       "\n",
       "    .dataframe tbody tr th {\n",
       "        vertical-align: top;\n",
       "    }\n",
       "\n",
       "    .dataframe thead th {\n",
       "        text-align: right;\n",
       "    }\n",
       "</style>\n",
       "<table border=\"1\" class=\"dataframe\">\n",
       "  <thead>\n",
       "    <tr style=\"text-align: right;\">\n",
       "      <th></th>\n",
       "      <th>uu_id</th>\n",
       "      <th>week_number</th>\n",
       "    </tr>\n",
       "  </thead>\n",
       "  <tbody>\n",
       "    <tr>\n",
       "      <th>0</th>\n",
       "      <td>5bf51fc2e162d6faf9e3cf79e4198378</td>\n",
       "      <td>44</td>\n",
       "    </tr>\n",
       "    <tr>\n",
       "      <th>1</th>\n",
       "      <td>420b44cc7e3f55d738df565421e59941</td>\n",
       "      <td>44</td>\n",
       "    </tr>\n",
       "    <tr>\n",
       "      <th>2</th>\n",
       "      <td>e39c66ecceec76ee8f9f811fa4a2d246</td>\n",
       "      <td>44</td>\n",
       "    </tr>\n",
       "    <tr>\n",
       "      <th>3</th>\n",
       "      <td>a90462cd11ae4e43144239bf7c4828a4</td>\n",
       "      <td>44</td>\n",
       "    </tr>\n",
       "    <tr>\n",
       "      <th>4</th>\n",
       "      <td>8b20a6749088c7ff1237983076ebfeaa</td>\n",
       "      <td>44</td>\n",
       "    </tr>\n",
       "  </tbody>\n",
       "</table>\n",
       "</div>"
      ],
      "text/plain": [
       "                              uu_id  week_number\n",
       "0  5bf51fc2e162d6faf9e3cf79e4198378           44\n",
       "1  420b44cc7e3f55d738df565421e59941           44\n",
       "2  e39c66ecceec76ee8f9f811fa4a2d246           44\n",
       "3  a90462cd11ae4e43144239bf7c4828a4           44\n",
       "4  8b20a6749088c7ff1237983076ebfeaa           44"
      ]
     },
     "execution_count": 129,
     "metadata": {},
     "output_type": "execute_result"
    }
   ],
   "source": [
    "# QUERY THE DATA ONCE\n",
    "query_job = bigquery_client.query(query)\n",
    "predict = query_job.to_dataframe()\n",
    "predict.head()"
   ]
  },
  {
   "cell_type": "code",
   "execution_count": 130,
   "id": "9b8d7f3b",
   "metadata": {
    "execution": {
     "iopub.execute_input": "2023-05-10T02:23:14.127979Z",
     "iopub.status.busy": "2023-05-10T02:23:14.127464Z",
     "iopub.status.idle": "2023-05-10T02:23:14.167093Z",
     "shell.execute_reply": "2023-05-10T02:23:14.166598Z"
    }
   },
   "outputs": [
    {
     "name": "stderr",
     "output_type": "stream",
     "text": [
      "/var/folders/l2/cnhff0_n1470l4xf0p7v7l_40000gn/T/ipykernel_18128/1140161251.py:1: FutureWarning: The default value of numeric_only in DataFrameGroupBy.mean is deprecated. In a future version, numeric_only will default to False. Either specify numeric_only or select only columns which should be valid for the function.\n",
      "  predict = data.groupby(by=[\"uu_id\"]).mean()\n"
     ]
    },
    {
     "data": {
      "text/html": [
       "<div>\n",
       "<style scoped>\n",
       "    .dataframe tbody tr th:only-of-type {\n",
       "        vertical-align: middle;\n",
       "    }\n",
       "\n",
       "    .dataframe tbody tr th {\n",
       "        vertical-align: top;\n",
       "    }\n",
       "\n",
       "    .dataframe thead th {\n",
       "        text-align: right;\n",
       "    }\n",
       "</style>\n",
       "<table border=\"1\" class=\"dataframe\">\n",
       "  <thead>\n",
       "    <tr style=\"text-align: right;\">\n",
       "      <th></th>\n",
       "      <th>timeperiod</th>\n",
       "      <th>week_number</th>\n",
       "      <th>countyfips</th>\n",
       "      <th>tract</th>\n",
       "      <th>total_claims</th>\n",
       "      <th>edu_8th_or_less</th>\n",
       "      <th>edu_grades_9_11</th>\n",
       "      <th>edu_hs_grad_equiv</th>\n",
       "      <th>edu_post_hs</th>\n",
       "      <th>edu_unknown</th>\n",
       "      <th>gender_female</th>\n",
       "      <th>gender_male</th>\n",
       "      <th>gender_na</th>\n",
       "      <th>race_amerindian</th>\n",
       "      <th>race_asian</th>\n",
       "      <th>race_black</th>\n",
       "      <th>race_noanswer</th>\n",
       "      <th>race_hawaiiannative</th>\n",
       "      <th>race_other</th>\n",
       "      <th>race_white</th>\n",
       "    </tr>\n",
       "    <tr>\n",
       "      <th>uu_id</th>\n",
       "      <th></th>\n",
       "      <th></th>\n",
       "      <th></th>\n",
       "      <th></th>\n",
       "      <th></th>\n",
       "      <th></th>\n",
       "      <th></th>\n",
       "      <th></th>\n",
       "      <th></th>\n",
       "      <th></th>\n",
       "      <th></th>\n",
       "      <th></th>\n",
       "      <th></th>\n",
       "      <th></th>\n",
       "      <th></th>\n",
       "      <th></th>\n",
       "      <th></th>\n",
       "      <th></th>\n",
       "      <th></th>\n",
       "      <th></th>\n",
       "    </tr>\n",
       "  </thead>\n",
       "  <tbody>\n",
       "    <tr>\n",
       "      <th>001cd9ae23064d7f0fd3cd327c873d8d</th>\n",
       "      <td>20220843.272727</td>\n",
       "      <td>34.636364</td>\n",
       "      <td>18099.0</td>\n",
       "      <td>20102.0</td>\n",
       "      <td>15.454545</td>\n",
       "      <td>0.0</td>\n",
       "      <td>0.0</td>\n",
       "      <td>2.727273</td>\n",
       "      <td>0.0</td>\n",
       "      <td>0.0</td>\n",
       "      <td>0.0</td>\n",
       "      <td>4.0</td>\n",
       "      <td>0.0</td>\n",
       "      <td>0.0</td>\n",
       "      <td>0.0</td>\n",
       "      <td>0.0</td>\n",
       "      <td>0.0</td>\n",
       "      <td>0.0</td>\n",
       "      <td>0.0</td>\n",
       "      <td>4.909091</td>\n",
       "    </tr>\n",
       "    <tr>\n",
       "      <th>005be9532fd717dc36d4be318fd9ad25</th>\n",
       "      <td>20220584.029412</td>\n",
       "      <td>23.117647</td>\n",
       "      <td>18039.0</td>\n",
       "      <td>802.0</td>\n",
       "      <td>32.852941</td>\n",
       "      <td>0.0</td>\n",
       "      <td>0.0</td>\n",
       "      <td>15.764706</td>\n",
       "      <td>3.058824</td>\n",
       "      <td>0.0</td>\n",
       "      <td>8.735294</td>\n",
       "      <td>14.117647</td>\n",
       "      <td>0.0</td>\n",
       "      <td>0.0</td>\n",
       "      <td>0.0</td>\n",
       "      <td>0.0</td>\n",
       "      <td>0.0</td>\n",
       "      <td>0.0</td>\n",
       "      <td>0.0</td>\n",
       "      <td>21.735294</td>\n",
       "    </tr>\n",
       "    <tr>\n",
       "      <th>007c1caccff1fbb3a0b8a10790f77141</th>\n",
       "      <td>20220497.8</td>\n",
       "      <td>19.4</td>\n",
       "      <td>18081.0</td>\n",
       "      <td>610900.0</td>\n",
       "      <td>18.88</td>\n",
       "      <td>0.0</td>\n",
       "      <td>0.0</td>\n",
       "      <td>6.76</td>\n",
       "      <td>0.0</td>\n",
       "      <td>0.0</td>\n",
       "      <td>0.44</td>\n",
       "      <td>0.4</td>\n",
       "      <td>0.0</td>\n",
       "      <td>0.0</td>\n",
       "      <td>0.0</td>\n",
       "      <td>3.68</td>\n",
       "      <td>0.0</td>\n",
       "      <td>0.0</td>\n",
       "      <td>0.0</td>\n",
       "      <td>10.12</td>\n",
       "    </tr>\n",
       "    <tr>\n",
       "      <th>009683350b175edfc6414d664e4ba873</th>\n",
       "      <td>20220447.217391</td>\n",
       "      <td>17.086957</td>\n",
       "      <td>18089.0</td>\n",
       "      <td>42801.0</td>\n",
       "      <td>19.130435</td>\n",
       "      <td>0.0</td>\n",
       "      <td>0.0</td>\n",
       "      <td>3.478261</td>\n",
       "      <td>1.956522</td>\n",
       "      <td>0.565217</td>\n",
       "      <td>0.565217</td>\n",
       "      <td>1.478261</td>\n",
       "      <td>0.0</td>\n",
       "      <td>0.0</td>\n",
       "      <td>0.0</td>\n",
       "      <td>3.695652</td>\n",
       "      <td>0.0</td>\n",
       "      <td>0.0</td>\n",
       "      <td>0.0</td>\n",
       "      <td>4.869565</td>\n",
       "    </tr>\n",
       "    <tr>\n",
       "      <th>00f962ce727b8dbbf20925abd5a253dd</th>\n",
       "      <td>20220550.595238</td>\n",
       "      <td>21.785714</td>\n",
       "      <td>18097.0</td>\n",
       "      <td>330900.0</td>\n",
       "      <td>39.52381</td>\n",
       "      <td>0.0</td>\n",
       "      <td>1.047619</td>\n",
       "      <td>16.880952</td>\n",
       "      <td>7.428571</td>\n",
       "      <td>0.238095</td>\n",
       "      <td>18.214286</td>\n",
       "      <td>12.119048</td>\n",
       "      <td>0.0</td>\n",
       "      <td>0.0</td>\n",
       "      <td>0.0</td>\n",
       "      <td>27.095238</td>\n",
       "      <td>0.0</td>\n",
       "      <td>0.0</td>\n",
       "      <td>0.285714</td>\n",
       "      <td>0.0</td>\n",
       "    </tr>\n",
       "    <tr>\n",
       "      <th>...</th>\n",
       "      <td>...</td>\n",
       "      <td>...</td>\n",
       "      <td>...</td>\n",
       "      <td>...</td>\n",
       "      <td>...</td>\n",
       "      <td>...</td>\n",
       "      <td>...</td>\n",
       "      <td>...</td>\n",
       "      <td>...</td>\n",
       "      <td>...</td>\n",
       "      <td>...</td>\n",
       "      <td>...</td>\n",
       "      <td>...</td>\n",
       "      <td>...</td>\n",
       "      <td>...</td>\n",
       "      <td>...</td>\n",
       "      <td>...</td>\n",
       "      <td>...</td>\n",
       "      <td>...</td>\n",
       "      <td>...</td>\n",
       "    </tr>\n",
       "    <tr>\n",
       "      <th>fcf9f3effa992cfd552696e4ae7219b6</th>\n",
       "      <td>20220552.6</td>\n",
       "      <td>21.9</td>\n",
       "      <td>18097.0</td>\n",
       "      <td>330103.0</td>\n",
       "      <td>16.275</td>\n",
       "      <td>0.0</td>\n",
       "      <td>0.0</td>\n",
       "      <td>0.725</td>\n",
       "      <td>6.225</td>\n",
       "      <td>0.0</td>\n",
       "      <td>1.35</td>\n",
       "      <td>1.425</td>\n",
       "      <td>0.0</td>\n",
       "      <td>0.0</td>\n",
       "      <td>0.0</td>\n",
       "      <td>0.875</td>\n",
       "      <td>0.0</td>\n",
       "      <td>0.0</td>\n",
       "      <td>0.0</td>\n",
       "      <td>2.4</td>\n",
       "    </tr>\n",
       "    <tr>\n",
       "      <th>fcfc60d8240e5a51f878fd92e2a352a3</th>\n",
       "      <td>20220510.941176</td>\n",
       "      <td>19.970588</td>\n",
       "      <td>18157.0</td>\n",
       "      <td>1300.0</td>\n",
       "      <td>19.705882</td>\n",
       "      <td>0.0</td>\n",
       "      <td>0.764706</td>\n",
       "      <td>6.029412</td>\n",
       "      <td>2.676471</td>\n",
       "      <td>0.0</td>\n",
       "      <td>0.441176</td>\n",
       "      <td>0.382353</td>\n",
       "      <td>0.0</td>\n",
       "      <td>0.0</td>\n",
       "      <td>0.0</td>\n",
       "      <td>0.882353</td>\n",
       "      <td>0.0</td>\n",
       "      <td>0.0</td>\n",
       "      <td>1.882353</td>\n",
       "      <td>3.147059</td>\n",
       "    </tr>\n",
       "    <tr>\n",
       "      <th>fd613eba867c6ad7350a937f743b88f2</th>\n",
       "      <td>20220532.514286</td>\n",
       "      <td>21.057143</td>\n",
       "      <td>18003.0</td>\n",
       "      <td>11304.0</td>\n",
       "      <td>21.485714</td>\n",
       "      <td>0.0</td>\n",
       "      <td>1.028571</td>\n",
       "      <td>5.771429</td>\n",
       "      <td>3.085714</td>\n",
       "      <td>0.0</td>\n",
       "      <td>2.971429</td>\n",
       "      <td>3.028571</td>\n",
       "      <td>0.0</td>\n",
       "      <td>0.0</td>\n",
       "      <td>0.0</td>\n",
       "      <td>7.828571</td>\n",
       "      <td>0.0</td>\n",
       "      <td>0.0</td>\n",
       "      <td>0.571429</td>\n",
       "      <td>0.714286</td>\n",
       "    </tr>\n",
       "    <tr>\n",
       "      <th>fe355ff27aa8b2242a558d5e3ec99c18</th>\n",
       "      <td>20220521.7</td>\n",
       "      <td>20.566667</td>\n",
       "      <td>18053.0</td>\n",
       "      <td>600.0</td>\n",
       "      <td>15.666667</td>\n",
       "      <td>0.0</td>\n",
       "      <td>0.0</td>\n",
       "      <td>3.666667</td>\n",
       "      <td>0.0</td>\n",
       "      <td>0.0</td>\n",
       "      <td>1.266667</td>\n",
       "      <td>1.333333</td>\n",
       "      <td>0.0</td>\n",
       "      <td>0.0</td>\n",
       "      <td>0.0</td>\n",
       "      <td>0.6</td>\n",
       "      <td>0.0</td>\n",
       "      <td>0.0</td>\n",
       "      <td>0.0</td>\n",
       "      <td>2.866667</td>\n",
       "    </tr>\n",
       "    <tr>\n",
       "      <th>fec479d0202d6e1e3f051a9ee902ff5d</th>\n",
       "      <td>20220550.595238</td>\n",
       "      <td>21.785714</td>\n",
       "      <td>18089.0</td>\n",
       "      <td>43300.0</td>\n",
       "      <td>30.404762</td>\n",
       "      <td>0.0</td>\n",
       "      <td>0.261905</td>\n",
       "      <td>4.190476</td>\n",
       "      <td>12.285714</td>\n",
       "      <td>0.0</td>\n",
       "      <td>9.166667</td>\n",
       "      <td>12.690476</td>\n",
       "      <td>0.0</td>\n",
       "      <td>0.0</td>\n",
       "      <td>0.0</td>\n",
       "      <td>0.333333</td>\n",
       "      <td>0.0</td>\n",
       "      <td>0.0</td>\n",
       "      <td>0.0</td>\n",
       "      <td>23.047619</td>\n",
       "    </tr>\n",
       "  </tbody>\n",
       "</table>\n",
       "<p>525 rows × 20 columns</p>\n",
       "</div>"
      ],
      "text/plain": [
       "                                       timeperiod  week_number  countyfips  \\\n",
       "uu_id                                                                        \n",
       "001cd9ae23064d7f0fd3cd327c873d8d  20220843.272727    34.636364     18099.0   \n",
       "005be9532fd717dc36d4be318fd9ad25  20220584.029412    23.117647     18039.0   \n",
       "007c1caccff1fbb3a0b8a10790f77141       20220497.8         19.4     18081.0   \n",
       "009683350b175edfc6414d664e4ba873  20220447.217391    17.086957     18089.0   \n",
       "00f962ce727b8dbbf20925abd5a253dd  20220550.595238    21.785714     18097.0   \n",
       "...                                           ...          ...         ...   \n",
       "fcf9f3effa992cfd552696e4ae7219b6       20220552.6         21.9     18097.0   \n",
       "fcfc60d8240e5a51f878fd92e2a352a3  20220510.941176    19.970588     18157.0   \n",
       "fd613eba867c6ad7350a937f743b88f2  20220532.514286    21.057143     18003.0   \n",
       "fe355ff27aa8b2242a558d5e3ec99c18       20220521.7    20.566667     18053.0   \n",
       "fec479d0202d6e1e3f051a9ee902ff5d  20220550.595238    21.785714     18089.0   \n",
       "\n",
       "                                     tract  total_claims  edu_8th_or_less  \\\n",
       "uu_id                                                                       \n",
       "001cd9ae23064d7f0fd3cd327c873d8d   20102.0     15.454545              0.0   \n",
       "005be9532fd717dc36d4be318fd9ad25     802.0     32.852941              0.0   \n",
       "007c1caccff1fbb3a0b8a10790f77141  610900.0         18.88              0.0   \n",
       "009683350b175edfc6414d664e4ba873   42801.0     19.130435              0.0   \n",
       "00f962ce727b8dbbf20925abd5a253dd  330900.0      39.52381              0.0   \n",
       "...                                    ...           ...              ...   \n",
       "fcf9f3effa992cfd552696e4ae7219b6  330103.0        16.275              0.0   \n",
       "fcfc60d8240e5a51f878fd92e2a352a3    1300.0     19.705882              0.0   \n",
       "fd613eba867c6ad7350a937f743b88f2   11304.0     21.485714              0.0   \n",
       "fe355ff27aa8b2242a558d5e3ec99c18     600.0     15.666667              0.0   \n",
       "fec479d0202d6e1e3f051a9ee902ff5d   43300.0     30.404762              0.0   \n",
       "\n",
       "                                  edu_grades_9_11  edu_hs_grad_equiv  \\\n",
       "uu_id                                                                  \n",
       "001cd9ae23064d7f0fd3cd327c873d8d              0.0           2.727273   \n",
       "005be9532fd717dc36d4be318fd9ad25              0.0          15.764706   \n",
       "007c1caccff1fbb3a0b8a10790f77141              0.0               6.76   \n",
       "009683350b175edfc6414d664e4ba873              0.0           3.478261   \n",
       "00f962ce727b8dbbf20925abd5a253dd         1.047619          16.880952   \n",
       "...                                           ...                ...   \n",
       "fcf9f3effa992cfd552696e4ae7219b6              0.0              0.725   \n",
       "fcfc60d8240e5a51f878fd92e2a352a3         0.764706           6.029412   \n",
       "fd613eba867c6ad7350a937f743b88f2         1.028571           5.771429   \n",
       "fe355ff27aa8b2242a558d5e3ec99c18              0.0           3.666667   \n",
       "fec479d0202d6e1e3f051a9ee902ff5d         0.261905           4.190476   \n",
       "\n",
       "                                  edu_post_hs  edu_unknown  gender_female  \\\n",
       "uu_id                                                                       \n",
       "001cd9ae23064d7f0fd3cd327c873d8d          0.0          0.0            0.0   \n",
       "005be9532fd717dc36d4be318fd9ad25     3.058824          0.0       8.735294   \n",
       "007c1caccff1fbb3a0b8a10790f77141          0.0          0.0           0.44   \n",
       "009683350b175edfc6414d664e4ba873     1.956522     0.565217       0.565217   \n",
       "00f962ce727b8dbbf20925abd5a253dd     7.428571     0.238095      18.214286   \n",
       "...                                       ...          ...            ...   \n",
       "fcf9f3effa992cfd552696e4ae7219b6        6.225          0.0           1.35   \n",
       "fcfc60d8240e5a51f878fd92e2a352a3     2.676471          0.0       0.441176   \n",
       "fd613eba867c6ad7350a937f743b88f2     3.085714          0.0       2.971429   \n",
       "fe355ff27aa8b2242a558d5e3ec99c18          0.0          0.0       1.266667   \n",
       "fec479d0202d6e1e3f051a9ee902ff5d    12.285714          0.0       9.166667   \n",
       "\n",
       "                                  gender_male  gender_na  race_amerindian  \\\n",
       "uu_id                                                                       \n",
       "001cd9ae23064d7f0fd3cd327c873d8d          4.0        0.0              0.0   \n",
       "005be9532fd717dc36d4be318fd9ad25    14.117647        0.0              0.0   \n",
       "007c1caccff1fbb3a0b8a10790f77141          0.4        0.0              0.0   \n",
       "009683350b175edfc6414d664e4ba873     1.478261        0.0              0.0   \n",
       "00f962ce727b8dbbf20925abd5a253dd    12.119048        0.0              0.0   \n",
       "...                                       ...        ...              ...   \n",
       "fcf9f3effa992cfd552696e4ae7219b6        1.425        0.0              0.0   \n",
       "fcfc60d8240e5a51f878fd92e2a352a3     0.382353        0.0              0.0   \n",
       "fd613eba867c6ad7350a937f743b88f2     3.028571        0.0              0.0   \n",
       "fe355ff27aa8b2242a558d5e3ec99c18     1.333333        0.0              0.0   \n",
       "fec479d0202d6e1e3f051a9ee902ff5d    12.690476        0.0              0.0   \n",
       "\n",
       "                                  race_asian  race_black  race_noanswer  \\\n",
       "uu_id                                                                     \n",
       "001cd9ae23064d7f0fd3cd327c873d8d         0.0         0.0            0.0   \n",
       "005be9532fd717dc36d4be318fd9ad25         0.0         0.0            0.0   \n",
       "007c1caccff1fbb3a0b8a10790f77141         0.0        3.68            0.0   \n",
       "009683350b175edfc6414d664e4ba873         0.0    3.695652            0.0   \n",
       "00f962ce727b8dbbf20925abd5a253dd         0.0   27.095238            0.0   \n",
       "...                                      ...         ...            ...   \n",
       "fcf9f3effa992cfd552696e4ae7219b6         0.0       0.875            0.0   \n",
       "fcfc60d8240e5a51f878fd92e2a352a3         0.0    0.882353            0.0   \n",
       "fd613eba867c6ad7350a937f743b88f2         0.0    7.828571            0.0   \n",
       "fe355ff27aa8b2242a558d5e3ec99c18         0.0         0.6            0.0   \n",
       "fec479d0202d6e1e3f051a9ee902ff5d         0.0    0.333333            0.0   \n",
       "\n",
       "                                  race_hawaiiannative  race_other  race_white  \n",
       "uu_id                                                                          \n",
       "001cd9ae23064d7f0fd3cd327c873d8d                  0.0         0.0    4.909091  \n",
       "005be9532fd717dc36d4be318fd9ad25                  0.0         0.0   21.735294  \n",
       "007c1caccff1fbb3a0b8a10790f77141                  0.0         0.0       10.12  \n",
       "009683350b175edfc6414d664e4ba873                  0.0         0.0    4.869565  \n",
       "00f962ce727b8dbbf20925abd5a253dd                  0.0    0.285714         0.0  \n",
       "...                                               ...         ...         ...  \n",
       "fcf9f3effa992cfd552696e4ae7219b6                  0.0         0.0         2.4  \n",
       "fcfc60d8240e5a51f878fd92e2a352a3                  0.0    1.882353    3.147059  \n",
       "fd613eba867c6ad7350a937f743b88f2                  0.0    0.571429    0.714286  \n",
       "fe355ff27aa8b2242a558d5e3ec99c18                  0.0         0.0    2.866667  \n",
       "fec479d0202d6e1e3f051a9ee902ff5d                  0.0         0.0   23.047619  \n",
       "\n",
       "[525 rows x 20 columns]"
      ]
     },
     "execution_count": 130,
     "metadata": {},
     "output_type": "execute_result"
    }
   ],
   "source": [
    "predict = data.groupby(by=[\"uu_id\"]).mean()\n",
    "predict"
   ]
  },
  {
   "cell_type": "code",
   "execution_count": 131,
   "id": "92b7b317",
   "metadata": {
    "execution": {
     "iopub.execute_input": "2023-05-10T02:23:14.169728Z",
     "iopub.status.busy": "2023-05-10T02:23:14.169524Z",
     "iopub.status.idle": "2023-05-10T02:23:14.180743Z",
     "shell.execute_reply": "2023-05-10T02:23:14.180390Z"
    }
   },
   "outputs": [
    {
     "data": {
      "text/plain": [
       "<bound method DataFrame.info of                                   uu_id  timeperiod  week_number  countyfips  \\\n",
       "0      f013068de98db1470bd986137a0c6d23    20220416           16       18003   \n",
       "1      21957d5517323845818d87623589e1ba    20220319           12       18089   \n",
       "2      6a5609f385912113b6f1014b958ed748    20220326           13       18089   \n",
       "3      46b2882ec4c373527ec33f7bd4f1388d    20220716           29       18089   \n",
       "4      37495d17e82f7df326bfc2c4c090f7b7    20220409           15       18089   \n",
       "...                                 ...         ...          ...         ...   \n",
       "16828  f35320206f3dd1ffc411e4ac127caf92    20220618           25       18163   \n",
       "16829  f35320206f3dd1ffc411e4ac127caf92    20220827           35       18163   \n",
       "16830  f35320206f3dd1ffc411e4ac127caf92    20220827           35       18163   \n",
       "16831  bbcb018f0e5e49e13636f6e78ce9f60f    20220326           13       18163   \n",
       "16832  bbcb018f0e5e49e13636f6e78ce9f60f    20220416           16       18163   \n",
       "\n",
       "       tract                                        tract_name  total_claims  \\\n",
       "0        900             Census Tract 9, Allen County, Indiana            22   \n",
       "1      10400            Census Tract 104, Lake County, Indiana           111   \n",
       "2      11500            Census Tract 115, Lake County, Indiana            39   \n",
       "3      20700            Census Tract 207, Lake County, Indiana            14   \n",
       "4      21900            Census Tract 219, Lake County, Indiana           155   \n",
       "...      ...                                               ...           ...   \n",
       "16828   3804   Census Tract 38.04, Vanderburgh County, Indiana            21   \n",
       "16829   3804   Census Tract 38.04, Vanderburgh County, Indiana            22   \n",
       "16830   3804   Census Tract 38.04, Vanderburgh County, Indiana            22   \n",
       "16831  10203  Census Tract 102.03, Vanderburgh County, Indiana            53   \n",
       "16832  10203  Census Tract 102.03, Vanderburgh County, Indiana            24   \n",
       "\n",
       "       edu_8th_or_less  edu_grades_9_11  edu_hs_grad_equiv  ...  \\\n",
       "0                    0                0                 14  ...   \n",
       "1                    0                0                108  ...   \n",
       "2                    0                0                  0  ...   \n",
       "3                    0                0                  0  ...   \n",
       "4                    0                0                 69  ...   \n",
       "...                ...              ...                ...  ...   \n",
       "16828                0                0                  0  ...   \n",
       "16829                0                0                 13  ...   \n",
       "16830                0                0                 13  ...   \n",
       "16831                0                0                 48  ...   \n",
       "16832                0                0                 18  ...   \n",
       "\n",
       "       gender_female  gender_male gender_na race_amerindian race_asian  \\\n",
       "0                  0            0         0               0          0   \n",
       "1                 76           35         0               0          0   \n",
       "2                  0            0         0               0          0   \n",
       "3                  0            0         0               0          0   \n",
       "4                 90           65         0               0          0   \n",
       "...              ...          ...       ...             ...        ...   \n",
       "16828              0            0         0               0          0   \n",
       "16829              0            0         0               0          0   \n",
       "16830              0            0         0               0          0   \n",
       "16831              0            0         0               0          0   \n",
       "16832             11           13         0               0          0   \n",
       "\n",
       "       race_black  race_noanswer  race_hawaiiannative  race_other  race_white  \n",
       "0              11              0                    0           0           0  \n",
       "1               0              0                    0           0           0  \n",
       "2              39              0                    0           0           0  \n",
       "3              10              0                    0           0           0  \n",
       "4             135              0                    0           0           0  \n",
       "...           ...            ...                  ...         ...         ...  \n",
       "16828           0              0                    0           0          14  \n",
       "16829           0              0                    0           0           0  \n",
       "16830           0              0                    0           0           0  \n",
       "16831           0              0                    0           0           0  \n",
       "16832           0              0                    0           0           0  \n",
       "\n",
       "[16833 rows x 25 columns]>"
      ]
     },
     "execution_count": 131,
     "metadata": {},
     "output_type": "execute_result"
    }
   ],
   "source": [
    "data.info"
   ]
  },
  {
   "cell_type": "code",
   "execution_count": 132,
   "id": "6f664179",
   "metadata": {
    "execution": {
     "iopub.execute_input": "2023-05-10T02:23:14.182672Z",
     "iopub.status.busy": "2023-05-10T02:23:14.182515Z",
     "iopub.status.idle": "2023-05-10T02:23:14.369883Z",
     "shell.execute_reply": "2023-05-10T02:23:14.369576Z"
    }
   },
   "outputs": [
    {
     "ename": "KeyError",
     "evalue": "''",
     "output_type": "error",
     "traceback": [
      "\u001b[0;31m---------------------------------------------------------------------------\u001b[0m",
      "\u001b[0;31mKeyError\u001b[0m                                  Traceback (most recent call last)",
      "File \u001b[0;32m/opt/homebrew/lib/python3.9/site-packages/pandas/core/indexes/base.py:3803\u001b[0m, in \u001b[0;36mIndex.get_loc\u001b[0;34m(self, key, method, tolerance)\u001b[0m\n\u001b[1;32m   3802\u001b[0m \u001b[38;5;28;01mtry\u001b[39;00m:\n\u001b[0;32m-> 3803\u001b[0m     \u001b[38;5;28;01mreturn\u001b[39;00m \u001b[38;5;28;43mself\u001b[39;49m\u001b[38;5;241;43m.\u001b[39;49m\u001b[43m_engine\u001b[49m\u001b[38;5;241;43m.\u001b[39;49m\u001b[43mget_loc\u001b[49m\u001b[43m(\u001b[49m\u001b[43mcasted_key\u001b[49m\u001b[43m)\u001b[49m\n\u001b[1;32m   3804\u001b[0m \u001b[38;5;28;01mexcept\u001b[39;00m \u001b[38;5;167;01mKeyError\u001b[39;00m \u001b[38;5;28;01mas\u001b[39;00m err:\n",
      "File \u001b[0;32m/opt/homebrew/lib/python3.9/site-packages/pandas/_libs/index.pyx:138\u001b[0m, in \u001b[0;36mpandas._libs.index.IndexEngine.get_loc\u001b[0;34m()\u001b[0m\n",
      "File \u001b[0;32m/opt/homebrew/lib/python3.9/site-packages/pandas/_libs/index.pyx:165\u001b[0m, in \u001b[0;36mpandas._libs.index.IndexEngine.get_loc\u001b[0;34m()\u001b[0m\n",
      "File \u001b[0;32mpandas/_libs/hashtable_class_helper.pxi:5745\u001b[0m, in \u001b[0;36mpandas._libs.hashtable.PyObjectHashTable.get_item\u001b[0;34m()\u001b[0m\n",
      "File \u001b[0;32mpandas/_libs/hashtable_class_helper.pxi:5753\u001b[0m, in \u001b[0;36mpandas._libs.hashtable.PyObjectHashTable.get_item\u001b[0;34m()\u001b[0m\n",
      "\u001b[0;31mKeyError\u001b[0m: ''",
      "\nThe above exception was the direct cause of the following exception:\n",
      "\u001b[0;31mKeyError\u001b[0m                                  Traceback (most recent call last)",
      "Cell \u001b[0;32mIn [132], line 1\u001b[0m\n\u001b[0;32m----> 1\u001b[0m X_train \u001b[38;5;241m=\u001b[39m \u001b[43mdata\u001b[49m\u001b[43m[\u001b[49m\u001b[38;5;124;43m\"\u001b[39;49m\u001b[38;5;124;43m\"\u001b[39;49m\u001b[43m]\u001b[49m\n",
      "File \u001b[0;32m/opt/homebrew/lib/python3.9/site-packages/pandas/core/frame.py:3804\u001b[0m, in \u001b[0;36mDataFrame.__getitem__\u001b[0;34m(self, key)\u001b[0m\n\u001b[1;32m   3802\u001b[0m \u001b[38;5;28;01mif\u001b[39;00m \u001b[38;5;28mself\u001b[39m\u001b[38;5;241m.\u001b[39mcolumns\u001b[38;5;241m.\u001b[39mnlevels \u001b[38;5;241m>\u001b[39m \u001b[38;5;241m1\u001b[39m:\n\u001b[1;32m   3803\u001b[0m     \u001b[38;5;28;01mreturn\u001b[39;00m \u001b[38;5;28mself\u001b[39m\u001b[38;5;241m.\u001b[39m_getitem_multilevel(key)\n\u001b[0;32m-> 3804\u001b[0m indexer \u001b[38;5;241m=\u001b[39m \u001b[38;5;28;43mself\u001b[39;49m\u001b[38;5;241;43m.\u001b[39;49m\u001b[43mcolumns\u001b[49m\u001b[38;5;241;43m.\u001b[39;49m\u001b[43mget_loc\u001b[49m\u001b[43m(\u001b[49m\u001b[43mkey\u001b[49m\u001b[43m)\u001b[49m\n\u001b[1;32m   3805\u001b[0m \u001b[38;5;28;01mif\u001b[39;00m is_integer(indexer):\n\u001b[1;32m   3806\u001b[0m     indexer \u001b[38;5;241m=\u001b[39m [indexer]\n",
      "File \u001b[0;32m/opt/homebrew/lib/python3.9/site-packages/pandas/core/indexes/base.py:3805\u001b[0m, in \u001b[0;36mIndex.get_loc\u001b[0;34m(self, key, method, tolerance)\u001b[0m\n\u001b[1;32m   3803\u001b[0m     \u001b[38;5;28;01mreturn\u001b[39;00m \u001b[38;5;28mself\u001b[39m\u001b[38;5;241m.\u001b[39m_engine\u001b[38;5;241m.\u001b[39mget_loc(casted_key)\n\u001b[1;32m   3804\u001b[0m \u001b[38;5;28;01mexcept\u001b[39;00m \u001b[38;5;167;01mKeyError\u001b[39;00m \u001b[38;5;28;01mas\u001b[39;00m err:\n\u001b[0;32m-> 3805\u001b[0m     \u001b[38;5;28;01mraise\u001b[39;00m \u001b[38;5;167;01mKeyError\u001b[39;00m(key) \u001b[38;5;28;01mfrom\u001b[39;00m \u001b[38;5;21;01merr\u001b[39;00m\n\u001b[1;32m   3806\u001b[0m \u001b[38;5;28;01mexcept\u001b[39;00m \u001b[38;5;167;01mTypeError\u001b[39;00m:\n\u001b[1;32m   3807\u001b[0m     \u001b[38;5;66;03m# If we have a listlike key, _check_indexing_error will raise\u001b[39;00m\n\u001b[1;32m   3808\u001b[0m     \u001b[38;5;66;03m#  InvalidIndexError. Otherwise we fall through and re-raise\u001b[39;00m\n\u001b[1;32m   3809\u001b[0m     \u001b[38;5;66;03m#  the TypeError.\u001b[39;00m\n\u001b[1;32m   3810\u001b[0m     \u001b[38;5;28mself\u001b[39m\u001b[38;5;241m.\u001b[39m_check_indexing_error(key)\n",
      "\u001b[0;31mKeyError\u001b[0m: ''"
     ]
    }
   ],
   "source": [
    "X_train = data[\"\"]"
   ]
  },
  {
   "cell_type": "code",
   "execution_count": 133,
   "id": "3f46da35",
   "metadata": {
    "execution": {
     "iopub.execute_input": "2023-05-10T02:23:14.371595Z",
     "iopub.status.busy": "2023-05-10T02:23:14.371455Z",
     "iopub.status.idle": "2023-05-10T02:23:14.381574Z",
     "shell.execute_reply": "2023-05-10T02:23:14.381297Z"
    }
   },
   "outputs": [
    {
     "name": "stdout",
     "output_type": "stream",
     "text": [
      "<class 'pandas.core.frame.DataFrame'>\n",
      "RangeIndex: 16833 entries, 0 to 16832\n",
      "Data columns (total 25 columns):\n",
      " #   Column                  Non-Null Count  Dtype \n",
      "---  ------                  --------------  ----- \n",
      " 0   uu_id                   16833 non-null  object\n",
      " 1   timeperiod              16833 non-null  Int64 \n",
      " 2   week_number             16833 non-null  Int64 \n",
      " 3   countyfips              16833 non-null  Int64 \n",
      " 4   tract                   16833 non-null  Int64 \n",
      " 5   tract_name              16833 non-null  object\n",
      " 6   total_claims            16833 non-null  Int64 \n",
      " 7   edu_8th_or_less         16833 non-null  Int64 \n",
      " 8   edu_grades_9_11         16833 non-null  Int64 \n",
      " 9   edu_hs_grad_equiv       16833 non-null  Int64 \n",
      " 10  edu_post_hs             16833 non-null  Int64 \n",
      " 11  edu_unknown             16833 non-null  Int64 \n",
      " 12  top_category_employer1  16833 non-null  object\n",
      " 13  top_category_employer2  16833 non-null  object\n",
      " 14  top_category_employer3  16833 non-null  object\n",
      " 15  gender_female           16833 non-null  Int64 \n",
      " 16  gender_male             16833 non-null  Int64 \n",
      " 17  gender_na               16833 non-null  Int64 \n",
      " 18  race_amerindian         16833 non-null  Int64 \n",
      " 19  race_asian              16833 non-null  Int64 \n",
      " 20  race_black              16833 non-null  Int64 \n",
      " 21  race_noanswer           16833 non-null  Int64 \n",
      " 22  race_hawaiiannative     16833 non-null  Int64 \n",
      " 23  race_other              16833 non-null  Int64 \n",
      " 24  race_white              16833 non-null  Int64 \n",
      "dtypes: Int64(20), object(5)\n",
      "memory usage: 3.5+ MB\n"
     ]
    }
   ],
   "source": [
    "data.info()"
   ]
  },
  {
   "cell_type": "code",
   "execution_count": 134,
   "id": "e1715c62",
   "metadata": {
    "execution": {
     "iopub.execute_input": "2023-05-10T02:23:14.383102Z",
     "iopub.status.busy": "2023-05-10T02:23:14.383020Z",
     "iopub.status.idle": "2023-05-10T02:23:14.385310Z",
     "shell.execute_reply": "2023-05-10T02:23:14.385079Z"
    }
   },
   "outputs": [
    {
     "ename": "SyntaxError",
     "evalue": "invalid syntax (36781648.py, line 1)",
     "output_type": "error",
     "traceback": [
      "\u001b[0;36m  Cell \u001b[0;32mIn [134], line 1\u001b[0;36m\u001b[0m\n\u001b[0;31m    X_train = data[\"edu_8th_or_less\", \"edu_grades_9_11\", \"edu_hs_grad_equiv\", \"gender_female\", gender_male, ]X_train = data[\"edu_8th_or_less\", \"edu_grades_9_11\", \"edu_hs_grad_equiv\", \"gender_female\", \"gender_male\", \"race_amerindian\", \"race_asian\", \"race_black\", \"race_noanswer\", \"race_hawaiiannative\", \"race_other\", \"race_white\"]\u001b[0m\n\u001b[0m                                                                                                             ^\u001b[0m\n\u001b[0;31mSyntaxError\u001b[0m\u001b[0;31m:\u001b[0m invalid syntax\n"
     ]
    }
   ],
   "source": [
    "X_train = data[\"edu_8th_or_less\", \"edu_grades_9_11\", \"edu_hs_grad_equiv\", \"gender_female\", gender_male, ]X_train = data[\"edu_8th_or_less\", \"edu_grades_9_11\", \"edu_hs_grad_equiv\", \"gender_female\", \"gender_male\", \"race_amerindian\", \"race_asian\", \"race_black\", \"race_noanswer\", \"race_hawaiiannative\", \"race_other\", \"race_white\"]"
   ]
  },
  {
   "cell_type": "code",
   "execution_count": 135,
   "id": "2f39efd5",
   "metadata": {
    "execution": {
     "iopub.execute_input": "2023-05-10T02:23:14.386668Z",
     "iopub.status.busy": "2023-05-10T02:23:14.386584Z",
     "iopub.status.idle": "2023-05-10T02:23:14.388757Z",
     "shell.execute_reply": "2023-05-10T02:23:14.388519Z"
    }
   },
   "outputs": [
    {
     "ename": "SyntaxError",
     "evalue": "invalid syntax (2761664484.py, line 1)",
     "output_type": "error",
     "traceback": [
      "\u001b[0;36m  Cell \u001b[0;32mIn [135], line 1\u001b[0;36m\u001b[0m\n\u001b[0;31m    X_train = data[[\"edu_8th_or_less\", \"edu_grades_9_11\", \"edu_hs_grad_equiv\", \"gender_female\", gender_male, ]X_train = data[\"edu_8th_or_less\", \"edu_grades_9_11\", \"edu_hs_grad_equiv\", \"gender_female\", \"gender_male\", \"race_amerindian\", \"race_asian\", \"race_black\", \"race_noanswer\", \"race_hawaiiannative\", \"race_other\", \"race_white\"]]\u001b[0m\n\u001b[0m                                                                                                              ^\u001b[0m\n\u001b[0;31mSyntaxError\u001b[0m\u001b[0;31m:\u001b[0m invalid syntax\n"
     ]
    }
   ],
   "source": [
    "X_train = data[[\"edu_8th_or_less\", \"edu_grades_9_11\", \"edu_hs_grad_equiv\", \"gender_female\", gender_male, ]X_train = data[\"edu_8th_or_less\", \"edu_grades_9_11\", \"edu_hs_grad_equiv\", \"gender_female\", \"gender_male\", \"race_amerindian\", \"race_asian\", \"race_black\", \"race_noanswer\", \"race_hawaiiannative\", \"race_other\", \"race_white\"]]"
   ]
  },
  {
   "cell_type": "code",
   "execution_count": 136,
   "id": "e25216eb",
   "metadata": {
    "execution": {
     "iopub.execute_input": "2023-05-10T02:23:14.390188Z",
     "iopub.status.busy": "2023-05-10T02:23:14.390109Z",
     "iopub.status.idle": "2023-05-10T02:23:14.392191Z",
     "shell.execute_reply": "2023-05-10T02:23:14.391938Z"
    }
   },
   "outputs": [
    {
     "ename": "SyntaxError",
     "evalue": "invalid syntax (2761664484.py, line 1)",
     "output_type": "error",
     "traceback": [
      "\u001b[0;36m  Cell \u001b[0;32mIn [136], line 1\u001b[0;36m\u001b[0m\n\u001b[0;31m    X_train = data[[\"edu_8th_or_less\", \"edu_grades_9_11\", \"edu_hs_grad_equiv\", \"gender_female\", gender_male, ]X_train = data[\"edu_8th_or_less\", \"edu_grades_9_11\", \"edu_hs_grad_equiv\", \"gender_female\", \"gender_male\", \"race_amerindian\", \"race_asian\", \"race_black\", \"race_noanswer\", \"race_hawaiiannative\", \"race_other\", \"race_white\"]]\u001b[0m\n\u001b[0m                                                                                                              ^\u001b[0m\n\u001b[0;31mSyntaxError\u001b[0m\u001b[0;31m:\u001b[0m invalid syntax\n"
     ]
    }
   ],
   "source": [
    "X_train = data[[\"edu_8th_or_less\", \"edu_grades_9_11\", \"edu_hs_grad_equiv\", \"gender_female\", gender_male, ]X_train = data[\"edu_8th_or_less\", \"edu_grades_9_11\", \"edu_hs_grad_equiv\", \"gender_female\", \"gender_male\", \"race_amerindian\", \"race_asian\", \"race_black\", \"race_noanswer\", \"race_hawaiiannative\", \"race_other\", \"race_white\"]]"
   ]
  },
  {
   "cell_type": "code",
   "execution_count": 137,
   "id": "f1b4dab5",
   "metadata": {
    "execution": {
     "iopub.execute_input": "2023-05-10T02:23:14.393485Z",
     "iopub.status.busy": "2023-05-10T02:23:14.393411Z",
     "iopub.status.idle": "2023-05-10T02:23:14.395453Z",
     "shell.execute_reply": "2023-05-10T02:23:14.395225Z"
    }
   },
   "outputs": [
    {
     "ename": "SyntaxError",
     "evalue": "invalid syntax (2761664484.py, line 1)",
     "output_type": "error",
     "traceback": [
      "\u001b[0;36m  Cell \u001b[0;32mIn [137], line 1\u001b[0;36m\u001b[0m\n\u001b[0;31m    X_train = data[[\"edu_8th_or_less\", \"edu_grades_9_11\", \"edu_hs_grad_equiv\", \"gender_female\", gender_male, ]X_train = data[\"edu_8th_or_less\", \"edu_grades_9_11\", \"edu_hs_grad_equiv\", \"gender_female\", \"gender_male\", \"race_amerindian\", \"race_asian\", \"race_black\", \"race_noanswer\", \"race_hawaiiannative\", \"race_other\", \"race_white\"]]\u001b[0m\n\u001b[0m                                                                                                              ^\u001b[0m\n\u001b[0;31mSyntaxError\u001b[0m\u001b[0;31m:\u001b[0m invalid syntax\n"
     ]
    }
   ],
   "source": [
    "X_train = data[[\"edu_8th_or_less\", \"edu_grades_9_11\", \"edu_hs_grad_equiv\", \"gender_female\", gender_male, ]X_train = data[\"edu_8th_or_less\", \"edu_grades_9_11\", \"edu_hs_grad_equiv\", \"gender_female\", \"gender_male\", \"race_amerindian\", \"race_asian\", \"race_black\", \"race_noanswer\", \"race_hawaiiannative\", \"race_other\", \"race_white\"]]"
   ]
  },
  {
   "cell_type": "code",
   "execution_count": 138,
   "id": "9b4261ec",
   "metadata": {
    "execution": {
     "iopub.execute_input": "2023-05-10T02:23:14.396766Z",
     "iopub.status.busy": "2023-05-10T02:23:14.396679Z",
     "iopub.status.idle": "2023-05-10T02:23:14.398821Z",
     "shell.execute_reply": "2023-05-10T02:23:14.398587Z"
    }
   },
   "outputs": [],
   "source": [
    "X_train = data.iloc[:, 7:24]"
   ]
  },
  {
   "cell_type": "code",
   "execution_count": 139,
   "id": "beb4180f",
   "metadata": {
    "execution": {
     "iopub.execute_input": "2023-05-10T02:23:14.400188Z",
     "iopub.status.busy": "2023-05-10T02:23:14.400104Z",
     "iopub.status.idle": "2023-05-10T02:23:14.401593Z",
     "shell.execute_reply": "2023-05-10T02:23:14.401370Z"
    }
   },
   "outputs": [],
   "source": [
    "y_train = data[\"total_claims\"]"
   ]
  },
  {
   "cell_type": "code",
   "execution_count": 140,
   "id": "7698890e",
   "metadata": {
    "execution": {
     "iopub.execute_input": "2023-05-10T02:23:14.402976Z",
     "iopub.status.busy": "2023-05-10T02:23:14.402894Z",
     "iopub.status.idle": "2023-05-10T02:23:14.737890Z",
     "shell.execute_reply": "2023-05-10T02:23:14.737563Z"
    }
   },
   "outputs": [],
   "source": [
    "from sklearn.linear_model import LinearRegression"
   ]
  },
  {
   "cell_type": "code",
   "execution_count": 141,
   "id": "77f227bc",
   "metadata": {
    "execution": {
     "iopub.execute_input": "2023-05-10T02:23:14.739723Z",
     "iopub.status.busy": "2023-05-10T02:23:14.739544Z",
     "iopub.status.idle": "2023-05-10T02:23:14.750253Z",
     "shell.execute_reply": "2023-05-10T02:23:14.749928Z"
    }
   },
   "outputs": [],
   "source": [
    "model = LinearRegression().fit(X_train, y_train)"
   ]
  },
  {
   "cell_type": "code",
   "execution_count": 142,
   "id": "520e5c0a",
   "metadata": {
    "execution": {
     "iopub.execute_input": "2023-05-10T02:23:14.751887Z",
     "iopub.status.busy": "2023-05-10T02:23:14.751797Z",
     "iopub.status.idle": "2023-05-10T02:23:14.759320Z",
     "shell.execute_reply": "2023-05-10T02:23:14.759053Z"
    }
   },
   "outputs": [
    {
     "ename": "TypeError",
     "evalue": "predict() got an unexpected keyword argument 'X_test'",
     "output_type": "error",
     "traceback": [
      "\u001b[0;31m---------------------------------------------------------------------------\u001b[0m",
      "\u001b[0;31mTypeError\u001b[0m                                 Traceback (most recent call last)",
      "Cell \u001b[0;32mIn [142], line 1\u001b[0m\n\u001b[0;32m----> 1\u001b[0m \u001b[43mmodel\u001b[49m\u001b[38;5;241;43m.\u001b[39;49m\u001b[43mpredict\u001b[49m\u001b[43m(\u001b[49m\u001b[43mX_test\u001b[49m\u001b[43m \u001b[49m\u001b[38;5;241;43m=\u001b[39;49m\u001b[43m \u001b[49m\u001b[43mpredict\u001b[49m\u001b[38;5;241;43m.\u001b[39;49m\u001b[43miloc\u001b[49m\u001b[43m[\u001b[49m\u001b[43m:\u001b[49m\u001b[43m,\u001b[49m\u001b[43m \u001b[49m\u001b[38;5;241;43m7\u001b[39;49m\u001b[43m:\u001b[49m\u001b[38;5;241;43m24\u001b[39;49m\u001b[43m]\u001b[49m\u001b[43m)\u001b[49m\n",
      "\u001b[0;31mTypeError\u001b[0m: predict() got an unexpected keyword argument 'X_test'"
     ]
    }
   ],
   "source": [
    "model.predict(X_test = predict.iloc[:, 7:24])"
   ]
  },
  {
   "cell_type": "code",
   "execution_count": 143,
   "id": "cf3b391e",
   "metadata": {
    "execution": {
     "iopub.execute_input": "2023-05-10T02:23:14.760856Z",
     "iopub.status.busy": "2023-05-10T02:23:14.760738Z",
     "iopub.status.idle": "2023-05-10T02:23:14.767434Z",
     "shell.execute_reply": "2023-05-10T02:23:14.767200Z"
    }
   },
   "outputs": [
    {
     "ename": "TypeError",
     "evalue": "predict() got an unexpected keyword argument 'X_test'",
     "output_type": "error",
     "traceback": [
      "\u001b[0;31m---------------------------------------------------------------------------\u001b[0m",
      "\u001b[0;31mTypeError\u001b[0m                                 Traceback (most recent call last)",
      "Cell \u001b[0;32mIn [143], line 1\u001b[0m\n\u001b[0;32m----> 1\u001b[0m \u001b[43mmodel\u001b[49m\u001b[38;5;241;43m.\u001b[39;49m\u001b[43mpredict\u001b[49m\u001b[43m(\u001b[49m\u001b[43mX_test\u001b[49m\u001b[43m \u001b[49m\u001b[38;5;241;43m=\u001b[39;49m\u001b[43m \u001b[49m\u001b[43mpredict\u001b[49m\u001b[38;5;241;43m.\u001b[39;49m\u001b[43miloc\u001b[49m\u001b[43m[\u001b[49m\u001b[43m:\u001b[49m\u001b[43m,\u001b[49m\u001b[43m \u001b[49m\u001b[38;5;241;43m7\u001b[39;49m\u001b[43m:\u001b[49m\u001b[38;5;241;43m24\u001b[39;49m\u001b[43m]\u001b[49m\u001b[43m)\u001b[49m\n",
      "\u001b[0;31mTypeError\u001b[0m: predict() got an unexpected keyword argument 'X_test'"
     ]
    }
   ],
   "source": [
    "model.predict(X_test = predict.iloc[:, 7:24])"
   ]
  },
  {
   "cell_type": "code",
   "execution_count": 144,
   "id": "faec5d99",
   "metadata": {
    "execution": {
     "iopub.execute_input": "2023-05-10T02:23:14.768856Z",
     "iopub.status.busy": "2023-05-10T02:23:14.768773Z",
     "iopub.status.idle": "2023-05-10T02:23:14.775241Z",
     "shell.execute_reply": "2023-05-10T02:23:14.774976Z"
    }
   },
   "outputs": [
    {
     "ename": "TypeError",
     "evalue": "predict() got an unexpected keyword argument 'X_test'",
     "output_type": "error",
     "traceback": [
      "\u001b[0;31m---------------------------------------------------------------------------\u001b[0m",
      "\u001b[0;31mTypeError\u001b[0m                                 Traceback (most recent call last)",
      "Cell \u001b[0;32mIn [144], line 1\u001b[0m\n\u001b[0;32m----> 1\u001b[0m \u001b[43mmodel\u001b[49m\u001b[38;5;241;43m.\u001b[39;49m\u001b[43mpredict\u001b[49m\u001b[43m(\u001b[49m\u001b[43mX_test\u001b[49m\u001b[43m \u001b[49m\u001b[38;5;241;43m=\u001b[39;49m\u001b[43m \u001b[49m\u001b[43mpredict\u001b[49m\u001b[38;5;241;43m.\u001b[39;49m\u001b[43miloc\u001b[49m\u001b[43m[\u001b[49m\u001b[43m:\u001b[49m\u001b[43m,\u001b[49m\u001b[43m \u001b[49m\u001b[38;5;241;43m7\u001b[39;49m\u001b[43m:\u001b[49m\u001b[38;5;241;43m24\u001b[39;49m\u001b[43m]\u001b[49m\u001b[43m)\u001b[49m\n",
      "\u001b[0;31mTypeError\u001b[0m: predict() got an unexpected keyword argument 'X_test'"
     ]
    }
   ],
   "source": [
    "model.predict(X_test = predict.iloc[:, 7:24])"
   ]
  },
  {
   "cell_type": "code",
   "execution_count": 145,
   "id": "0942f965",
   "metadata": {
    "execution": {
     "iopub.execute_input": "2023-05-10T02:23:14.776666Z",
     "iopub.status.busy": "2023-05-10T02:23:14.776581Z",
     "iopub.status.idle": "2023-05-10T02:23:14.783739Z",
     "shell.execute_reply": "2023-05-10T02:23:14.783485Z"
    }
   },
   "outputs": [
    {
     "ename": "NameError",
     "evalue": "name 'X_test' is not defined",
     "output_type": "error",
     "traceback": [
      "\u001b[0;31m---------------------------------------------------------------------------\u001b[0m",
      "\u001b[0;31mNameError\u001b[0m                                 Traceback (most recent call last)",
      "Cell \u001b[0;32mIn [145], line 1\u001b[0m\n\u001b[0;32m----> 1\u001b[0m model\u001b[38;5;241m.\u001b[39mpredict(\u001b[43mX_test\u001b[49m)\n",
      "\u001b[0;31mNameError\u001b[0m: name 'X_test' is not defined"
     ]
    }
   ],
   "source": [
    "model.predict(X_test)"
   ]
  },
  {
   "cell_type": "code",
   "execution_count": 146,
   "id": "fd56cb09",
   "metadata": {
    "execution": {
     "iopub.execute_input": "2023-05-10T02:23:14.785247Z",
     "iopub.status.busy": "2023-05-10T02:23:14.785142Z",
     "iopub.status.idle": "2023-05-10T02:23:14.786869Z",
     "shell.execute_reply": "2023-05-10T02:23:14.786657Z"
    }
   },
   "outputs": [],
   "source": [
    "X_test = predict.iloc[:, 7:24]"
   ]
  },
  {
   "cell_type": "code",
   "execution_count": 147,
   "id": "9786f478",
   "metadata": {
    "execution": {
     "iopub.execute_input": "2023-05-10T02:23:14.788305Z",
     "iopub.status.busy": "2023-05-10T02:23:14.788200Z",
     "iopub.status.idle": "2023-05-10T02:23:14.842976Z",
     "shell.execute_reply": "2023-05-10T02:23:14.842665Z"
    }
   },
   "outputs": [
    {
     "ename": "ValueError",
     "evalue": "The feature names should match those that were passed during fit.\nFeature names unseen at fit time:\n- race_white\nFeature names seen at fit time, yet now missing:\n- edu_8th_or_less\n- edu_grades_9_11\n- top_category_employer1\n- top_category_employer2\n- top_category_employer3\n",
     "output_type": "error",
     "traceback": [
      "\u001b[0;31m---------------------------------------------------------------------------\u001b[0m",
      "\u001b[0;31mValueError\u001b[0m                                Traceback (most recent call last)",
      "Cell \u001b[0;32mIn [147], line 1\u001b[0m\n\u001b[0;32m----> 1\u001b[0m \u001b[43mmodel\u001b[49m\u001b[38;5;241;43m.\u001b[39;49m\u001b[43mpredict\u001b[49m\u001b[43m(\u001b[49m\u001b[43mX_test\u001b[49m\u001b[43m)\u001b[49m\n",
      "File \u001b[0;32m/opt/homebrew/lib/python3.9/site-packages/sklearn/linear_model/_base.py:355\u001b[0m, in \u001b[0;36mLinearModel.predict\u001b[0;34m(self, X)\u001b[0m\n\u001b[1;32m    341\u001b[0m \u001b[38;5;28;01mdef\u001b[39;00m \u001b[38;5;21mpredict\u001b[39m(\u001b[38;5;28mself\u001b[39m, X):\n\u001b[1;32m    342\u001b[0m     \u001b[38;5;124;03m\"\"\"\u001b[39;00m\n\u001b[1;32m    343\u001b[0m \u001b[38;5;124;03m    Predict using the linear model.\u001b[39;00m\n\u001b[1;32m    344\u001b[0m \n\u001b[0;32m   (...)\u001b[0m\n\u001b[1;32m    353\u001b[0m \u001b[38;5;124;03m        Returns predicted values.\u001b[39;00m\n\u001b[1;32m    354\u001b[0m \u001b[38;5;124;03m    \"\"\"\u001b[39;00m\n\u001b[0;32m--> 355\u001b[0m     \u001b[38;5;28;01mreturn\u001b[39;00m \u001b[38;5;28;43mself\u001b[39;49m\u001b[38;5;241;43m.\u001b[39;49m\u001b[43m_decision_function\u001b[49m\u001b[43m(\u001b[49m\u001b[43mX\u001b[49m\u001b[43m)\u001b[49m\n",
      "File \u001b[0;32m/opt/homebrew/lib/python3.9/site-packages/sklearn/linear_model/_base.py:338\u001b[0m, in \u001b[0;36mLinearModel._decision_function\u001b[0;34m(self, X)\u001b[0m\n\u001b[1;32m    335\u001b[0m \u001b[38;5;28;01mdef\u001b[39;00m \u001b[38;5;21m_decision_function\u001b[39m(\u001b[38;5;28mself\u001b[39m, X):\n\u001b[1;32m    336\u001b[0m     check_is_fitted(\u001b[38;5;28mself\u001b[39m)\n\u001b[0;32m--> 338\u001b[0m     X \u001b[38;5;241m=\u001b[39m \u001b[38;5;28;43mself\u001b[39;49m\u001b[38;5;241;43m.\u001b[39;49m\u001b[43m_validate_data\u001b[49m\u001b[43m(\u001b[49m\u001b[43mX\u001b[49m\u001b[43m,\u001b[49m\u001b[43m \u001b[49m\u001b[43maccept_sparse\u001b[49m\u001b[38;5;241;43m=\u001b[39;49m\u001b[43m[\u001b[49m\u001b[38;5;124;43m\"\u001b[39;49m\u001b[38;5;124;43mcsr\u001b[39;49m\u001b[38;5;124;43m\"\u001b[39;49m\u001b[43m,\u001b[49m\u001b[43m \u001b[49m\u001b[38;5;124;43m\"\u001b[39;49m\u001b[38;5;124;43mcsc\u001b[39;49m\u001b[38;5;124;43m\"\u001b[39;49m\u001b[43m,\u001b[49m\u001b[43m \u001b[49m\u001b[38;5;124;43m\"\u001b[39;49m\u001b[38;5;124;43mcoo\u001b[39;49m\u001b[38;5;124;43m\"\u001b[39;49m\u001b[43m]\u001b[49m\u001b[43m,\u001b[49m\u001b[43m \u001b[49m\u001b[43mreset\u001b[49m\u001b[38;5;241;43m=\u001b[39;49m\u001b[38;5;28;43;01mFalse\u001b[39;49;00m\u001b[43m)\u001b[49m\n\u001b[1;32m    339\u001b[0m     \u001b[38;5;28;01mreturn\u001b[39;00m safe_sparse_dot(X, \u001b[38;5;28mself\u001b[39m\u001b[38;5;241m.\u001b[39mcoef_\u001b[38;5;241m.\u001b[39mT, dense_output\u001b[38;5;241m=\u001b[39m\u001b[38;5;28;01mTrue\u001b[39;00m) \u001b[38;5;241m+\u001b[39m \u001b[38;5;28mself\u001b[39m\u001b[38;5;241m.\u001b[39mintercept_\n",
      "File \u001b[0;32m/opt/homebrew/lib/python3.9/site-packages/sklearn/base.py:518\u001b[0m, in \u001b[0;36mBaseEstimator._validate_data\u001b[0;34m(self, X, y, reset, validate_separately, **check_params)\u001b[0m\n\u001b[1;32m    453\u001b[0m \u001b[38;5;28;01mdef\u001b[39;00m \u001b[38;5;21m_validate_data\u001b[39m(\n\u001b[1;32m    454\u001b[0m     \u001b[38;5;28mself\u001b[39m,\n\u001b[1;32m    455\u001b[0m     X\u001b[38;5;241m=\u001b[39m\u001b[38;5;124m\"\u001b[39m\u001b[38;5;124mno_validation\u001b[39m\u001b[38;5;124m\"\u001b[39m,\n\u001b[0;32m   (...)\u001b[0m\n\u001b[1;32m    459\u001b[0m     \u001b[38;5;241m*\u001b[39m\u001b[38;5;241m*\u001b[39mcheck_params,\n\u001b[1;32m    460\u001b[0m ):\n\u001b[1;32m    461\u001b[0m     \u001b[38;5;124;03m\"\"\"Validate input data and set or check the `n_features_in_` attribute.\u001b[39;00m\n\u001b[1;32m    462\u001b[0m \n\u001b[1;32m    463\u001b[0m \u001b[38;5;124;03m    Parameters\u001b[39;00m\n\u001b[0;32m   (...)\u001b[0m\n\u001b[1;32m    516\u001b[0m \u001b[38;5;124;03m        validated.\u001b[39;00m\n\u001b[1;32m    517\u001b[0m \u001b[38;5;124;03m    \"\"\"\u001b[39;00m\n\u001b[0;32m--> 518\u001b[0m     \u001b[38;5;28;43mself\u001b[39;49m\u001b[38;5;241;43m.\u001b[39;49m\u001b[43m_check_feature_names\u001b[49m\u001b[43m(\u001b[49m\u001b[43mX\u001b[49m\u001b[43m,\u001b[49m\u001b[43m \u001b[49m\u001b[43mreset\u001b[49m\u001b[38;5;241;43m=\u001b[39;49m\u001b[43mreset\u001b[49m\u001b[43m)\u001b[49m\n\u001b[1;32m    520\u001b[0m     \u001b[38;5;28;01mif\u001b[39;00m y \u001b[38;5;129;01mis\u001b[39;00m \u001b[38;5;28;01mNone\u001b[39;00m \u001b[38;5;129;01mand\u001b[39;00m \u001b[38;5;28mself\u001b[39m\u001b[38;5;241m.\u001b[39m_get_tags()[\u001b[38;5;124m\"\u001b[39m\u001b[38;5;124mrequires_y\u001b[39m\u001b[38;5;124m\"\u001b[39m]:\n\u001b[1;32m    521\u001b[0m         \u001b[38;5;28;01mraise\u001b[39;00m \u001b[38;5;167;01mValueError\u001b[39;00m(\n\u001b[1;32m    522\u001b[0m             \u001b[38;5;124mf\u001b[39m\u001b[38;5;124m\"\u001b[39m\u001b[38;5;124mThis \u001b[39m\u001b[38;5;132;01m{\u001b[39;00m\u001b[38;5;28mself\u001b[39m\u001b[38;5;241m.\u001b[39m\u001b[38;5;18m__class__\u001b[39m\u001b[38;5;241m.\u001b[39m\u001b[38;5;18m__name__\u001b[39m\u001b[38;5;132;01m}\u001b[39;00m\u001b[38;5;124m estimator \u001b[39m\u001b[38;5;124m\"\u001b[39m\n\u001b[1;32m    523\u001b[0m             \u001b[38;5;124m\"\u001b[39m\u001b[38;5;124mrequires y to be passed, but the target y is None.\u001b[39m\u001b[38;5;124m\"\u001b[39m\n\u001b[1;32m    524\u001b[0m         )\n",
      "File \u001b[0;32m/opt/homebrew/lib/python3.9/site-packages/sklearn/base.py:451\u001b[0m, in \u001b[0;36mBaseEstimator._check_feature_names\u001b[0;34m(self, X, reset)\u001b[0m\n\u001b[1;32m    446\u001b[0m \u001b[38;5;28;01mif\u001b[39;00m \u001b[38;5;129;01mnot\u001b[39;00m missing_names \u001b[38;5;129;01mand\u001b[39;00m \u001b[38;5;129;01mnot\u001b[39;00m unexpected_names:\n\u001b[1;32m    447\u001b[0m     message \u001b[38;5;241m+\u001b[39m\u001b[38;5;241m=\u001b[39m (\n\u001b[1;32m    448\u001b[0m         \u001b[38;5;124m\"\u001b[39m\u001b[38;5;124mFeature names must be in the same order as they were in fit.\u001b[39m\u001b[38;5;130;01m\\n\u001b[39;00m\u001b[38;5;124m\"\u001b[39m\n\u001b[1;32m    449\u001b[0m     )\n\u001b[0;32m--> 451\u001b[0m \u001b[38;5;28;01mraise\u001b[39;00m \u001b[38;5;167;01mValueError\u001b[39;00m(message)\n",
      "\u001b[0;31mValueError\u001b[0m: The feature names should match those that were passed during fit.\nFeature names unseen at fit time:\n- race_white\nFeature names seen at fit time, yet now missing:\n- edu_8th_or_less\n- edu_grades_9_11\n- top_category_employer1\n- top_category_employer2\n- top_category_employer3\n"
     ]
    }
   ],
   "source": [
    "model.predict(X_test)"
   ]
  },
  {
   "cell_type": "code",
   "execution_count": 148,
   "id": "df525083",
   "metadata": {
    "execution": {
     "iopub.execute_input": "2023-05-10T02:23:14.844598Z",
     "iopub.status.busy": "2023-05-10T02:23:14.844478Z",
     "iopub.status.idle": "2023-05-10T02:23:14.846519Z",
     "shell.execute_reply": "2023-05-10T02:23:14.846250Z"
    }
   },
   "outputs": [],
   "source": [
    "X_test = predict.iloc[:, 7:24]"
   ]
  },
  {
   "cell_type": "code",
   "execution_count": 149,
   "id": "16737221",
   "metadata": {
    "execution": {
     "iopub.execute_input": "2023-05-10T02:23:14.847962Z",
     "iopub.status.busy": "2023-05-10T02:23:14.847860Z",
     "iopub.status.idle": "2023-05-10T02:23:14.868534Z",
     "shell.execute_reply": "2023-05-10T02:23:14.868229Z"
    }
   },
   "outputs": [
    {
     "ename": "ValueError",
     "evalue": "The feature names should match those that were passed during fit.\nFeature names unseen at fit time:\n- race_white\nFeature names seen at fit time, yet now missing:\n- edu_8th_or_less\n- edu_grades_9_11\n- top_category_employer1\n- top_category_employer2\n- top_category_employer3\n",
     "output_type": "error",
     "traceback": [
      "\u001b[0;31m---------------------------------------------------------------------------\u001b[0m",
      "\u001b[0;31mValueError\u001b[0m                                Traceback (most recent call last)",
      "Cell \u001b[0;32mIn [149], line 1\u001b[0m\n\u001b[0;32m----> 1\u001b[0m \u001b[43mmodel\u001b[49m\u001b[38;5;241;43m.\u001b[39;49m\u001b[43mpredict\u001b[49m\u001b[43m(\u001b[49m\u001b[43mX_test\u001b[49m\u001b[43m)\u001b[49m\n",
      "File \u001b[0;32m/opt/homebrew/lib/python3.9/site-packages/sklearn/linear_model/_base.py:355\u001b[0m, in \u001b[0;36mLinearModel.predict\u001b[0;34m(self, X)\u001b[0m\n\u001b[1;32m    341\u001b[0m \u001b[38;5;28;01mdef\u001b[39;00m \u001b[38;5;21mpredict\u001b[39m(\u001b[38;5;28mself\u001b[39m, X):\n\u001b[1;32m    342\u001b[0m     \u001b[38;5;124;03m\"\"\"\u001b[39;00m\n\u001b[1;32m    343\u001b[0m \u001b[38;5;124;03m    Predict using the linear model.\u001b[39;00m\n\u001b[1;32m    344\u001b[0m \n\u001b[0;32m   (...)\u001b[0m\n\u001b[1;32m    353\u001b[0m \u001b[38;5;124;03m        Returns predicted values.\u001b[39;00m\n\u001b[1;32m    354\u001b[0m \u001b[38;5;124;03m    \"\"\"\u001b[39;00m\n\u001b[0;32m--> 355\u001b[0m     \u001b[38;5;28;01mreturn\u001b[39;00m \u001b[38;5;28;43mself\u001b[39;49m\u001b[38;5;241;43m.\u001b[39;49m\u001b[43m_decision_function\u001b[49m\u001b[43m(\u001b[49m\u001b[43mX\u001b[49m\u001b[43m)\u001b[49m\n",
      "File \u001b[0;32m/opt/homebrew/lib/python3.9/site-packages/sklearn/linear_model/_base.py:338\u001b[0m, in \u001b[0;36mLinearModel._decision_function\u001b[0;34m(self, X)\u001b[0m\n\u001b[1;32m    335\u001b[0m \u001b[38;5;28;01mdef\u001b[39;00m \u001b[38;5;21m_decision_function\u001b[39m(\u001b[38;5;28mself\u001b[39m, X):\n\u001b[1;32m    336\u001b[0m     check_is_fitted(\u001b[38;5;28mself\u001b[39m)\n\u001b[0;32m--> 338\u001b[0m     X \u001b[38;5;241m=\u001b[39m \u001b[38;5;28;43mself\u001b[39;49m\u001b[38;5;241;43m.\u001b[39;49m\u001b[43m_validate_data\u001b[49m\u001b[43m(\u001b[49m\u001b[43mX\u001b[49m\u001b[43m,\u001b[49m\u001b[43m \u001b[49m\u001b[43maccept_sparse\u001b[49m\u001b[38;5;241;43m=\u001b[39;49m\u001b[43m[\u001b[49m\u001b[38;5;124;43m\"\u001b[39;49m\u001b[38;5;124;43mcsr\u001b[39;49m\u001b[38;5;124;43m\"\u001b[39;49m\u001b[43m,\u001b[49m\u001b[43m \u001b[49m\u001b[38;5;124;43m\"\u001b[39;49m\u001b[38;5;124;43mcsc\u001b[39;49m\u001b[38;5;124;43m\"\u001b[39;49m\u001b[43m,\u001b[49m\u001b[43m \u001b[49m\u001b[38;5;124;43m\"\u001b[39;49m\u001b[38;5;124;43mcoo\u001b[39;49m\u001b[38;5;124;43m\"\u001b[39;49m\u001b[43m]\u001b[49m\u001b[43m,\u001b[49m\u001b[43m \u001b[49m\u001b[43mreset\u001b[49m\u001b[38;5;241;43m=\u001b[39;49m\u001b[38;5;28;43;01mFalse\u001b[39;49;00m\u001b[43m)\u001b[49m\n\u001b[1;32m    339\u001b[0m     \u001b[38;5;28;01mreturn\u001b[39;00m safe_sparse_dot(X, \u001b[38;5;28mself\u001b[39m\u001b[38;5;241m.\u001b[39mcoef_\u001b[38;5;241m.\u001b[39mT, dense_output\u001b[38;5;241m=\u001b[39m\u001b[38;5;28;01mTrue\u001b[39;00m) \u001b[38;5;241m+\u001b[39m \u001b[38;5;28mself\u001b[39m\u001b[38;5;241m.\u001b[39mintercept_\n",
      "File \u001b[0;32m/opt/homebrew/lib/python3.9/site-packages/sklearn/base.py:518\u001b[0m, in \u001b[0;36mBaseEstimator._validate_data\u001b[0;34m(self, X, y, reset, validate_separately, **check_params)\u001b[0m\n\u001b[1;32m    453\u001b[0m \u001b[38;5;28;01mdef\u001b[39;00m \u001b[38;5;21m_validate_data\u001b[39m(\n\u001b[1;32m    454\u001b[0m     \u001b[38;5;28mself\u001b[39m,\n\u001b[1;32m    455\u001b[0m     X\u001b[38;5;241m=\u001b[39m\u001b[38;5;124m\"\u001b[39m\u001b[38;5;124mno_validation\u001b[39m\u001b[38;5;124m\"\u001b[39m,\n\u001b[0;32m   (...)\u001b[0m\n\u001b[1;32m    459\u001b[0m     \u001b[38;5;241m*\u001b[39m\u001b[38;5;241m*\u001b[39mcheck_params,\n\u001b[1;32m    460\u001b[0m ):\n\u001b[1;32m    461\u001b[0m     \u001b[38;5;124;03m\"\"\"Validate input data and set or check the `n_features_in_` attribute.\u001b[39;00m\n\u001b[1;32m    462\u001b[0m \n\u001b[1;32m    463\u001b[0m \u001b[38;5;124;03m    Parameters\u001b[39;00m\n\u001b[0;32m   (...)\u001b[0m\n\u001b[1;32m    516\u001b[0m \u001b[38;5;124;03m        validated.\u001b[39;00m\n\u001b[1;32m    517\u001b[0m \u001b[38;5;124;03m    \"\"\"\u001b[39;00m\n\u001b[0;32m--> 518\u001b[0m     \u001b[38;5;28;43mself\u001b[39;49m\u001b[38;5;241;43m.\u001b[39;49m\u001b[43m_check_feature_names\u001b[49m\u001b[43m(\u001b[49m\u001b[43mX\u001b[49m\u001b[43m,\u001b[49m\u001b[43m \u001b[49m\u001b[43mreset\u001b[49m\u001b[38;5;241;43m=\u001b[39;49m\u001b[43mreset\u001b[49m\u001b[43m)\u001b[49m\n\u001b[1;32m    520\u001b[0m     \u001b[38;5;28;01mif\u001b[39;00m y \u001b[38;5;129;01mis\u001b[39;00m \u001b[38;5;28;01mNone\u001b[39;00m \u001b[38;5;129;01mand\u001b[39;00m \u001b[38;5;28mself\u001b[39m\u001b[38;5;241m.\u001b[39m_get_tags()[\u001b[38;5;124m\"\u001b[39m\u001b[38;5;124mrequires_y\u001b[39m\u001b[38;5;124m\"\u001b[39m]:\n\u001b[1;32m    521\u001b[0m         \u001b[38;5;28;01mraise\u001b[39;00m \u001b[38;5;167;01mValueError\u001b[39;00m(\n\u001b[1;32m    522\u001b[0m             \u001b[38;5;124mf\u001b[39m\u001b[38;5;124m\"\u001b[39m\u001b[38;5;124mThis \u001b[39m\u001b[38;5;132;01m{\u001b[39;00m\u001b[38;5;28mself\u001b[39m\u001b[38;5;241m.\u001b[39m\u001b[38;5;18m__class__\u001b[39m\u001b[38;5;241m.\u001b[39m\u001b[38;5;18m__name__\u001b[39m\u001b[38;5;132;01m}\u001b[39;00m\u001b[38;5;124m estimator \u001b[39m\u001b[38;5;124m\"\u001b[39m\n\u001b[1;32m    523\u001b[0m             \u001b[38;5;124m\"\u001b[39m\u001b[38;5;124mrequires y to be passed, but the target y is None.\u001b[39m\u001b[38;5;124m\"\u001b[39m\n\u001b[1;32m    524\u001b[0m         )\n",
      "File \u001b[0;32m/opt/homebrew/lib/python3.9/site-packages/sklearn/base.py:451\u001b[0m, in \u001b[0;36mBaseEstimator._check_feature_names\u001b[0;34m(self, X, reset)\u001b[0m\n\u001b[1;32m    446\u001b[0m \u001b[38;5;28;01mif\u001b[39;00m \u001b[38;5;129;01mnot\u001b[39;00m missing_names \u001b[38;5;129;01mand\u001b[39;00m \u001b[38;5;129;01mnot\u001b[39;00m unexpected_names:\n\u001b[1;32m    447\u001b[0m     message \u001b[38;5;241m+\u001b[39m\u001b[38;5;241m=\u001b[39m (\n\u001b[1;32m    448\u001b[0m         \u001b[38;5;124m\"\u001b[39m\u001b[38;5;124mFeature names must be in the same order as they were in fit.\u001b[39m\u001b[38;5;130;01m\\n\u001b[39;00m\u001b[38;5;124m\"\u001b[39m\n\u001b[1;32m    449\u001b[0m     )\n\u001b[0;32m--> 451\u001b[0m \u001b[38;5;28;01mraise\u001b[39;00m \u001b[38;5;167;01mValueError\u001b[39;00m(message)\n",
      "\u001b[0;31mValueError\u001b[0m: The feature names should match those that were passed during fit.\nFeature names unseen at fit time:\n- race_white\nFeature names seen at fit time, yet now missing:\n- edu_8th_or_less\n- edu_grades_9_11\n- top_category_employer1\n- top_category_employer2\n- top_category_employer3\n"
     ]
    }
   ],
   "source": [
    "model.predict(X_test)"
   ]
  },
  {
   "cell_type": "code",
   "execution_count": 150,
   "id": "f1ed83ef",
   "metadata": {
    "execution": {
     "iopub.execute_input": "2023-05-10T02:23:14.870007Z",
     "iopub.status.busy": "2023-05-10T02:23:14.869901Z",
     "iopub.status.idle": "2023-05-10T02:23:14.877408Z",
     "shell.execute_reply": "2023-05-10T02:23:14.877140Z"
    },
    "lines_to_next_cell": 2
   },
   "outputs": [
    {
     "data": {
      "text/html": [
       "<div>\n",
       "<style scoped>\n",
       "    .dataframe tbody tr th:only-of-type {\n",
       "        vertical-align: middle;\n",
       "    }\n",
       "\n",
       "    .dataframe tbody tr th {\n",
       "        vertical-align: top;\n",
       "    }\n",
       "\n",
       "    .dataframe thead th {\n",
       "        text-align: right;\n",
       "    }\n",
       "</style>\n",
       "<table border=\"1\" class=\"dataframe\">\n",
       "  <thead>\n",
       "    <tr style=\"text-align: right;\">\n",
       "      <th></th>\n",
       "      <th>edu_hs_grad_equiv</th>\n",
       "      <th>edu_post_hs</th>\n",
       "      <th>edu_unknown</th>\n",
       "      <th>gender_female</th>\n",
       "      <th>gender_male</th>\n",
       "      <th>gender_na</th>\n",
       "      <th>race_amerindian</th>\n",
       "      <th>race_asian</th>\n",
       "      <th>race_black</th>\n",
       "      <th>race_noanswer</th>\n",
       "      <th>race_hawaiiannative</th>\n",
       "      <th>race_other</th>\n",
       "      <th>race_white</th>\n",
       "    </tr>\n",
       "    <tr>\n",
       "      <th>uu_id</th>\n",
       "      <th></th>\n",
       "      <th></th>\n",
       "      <th></th>\n",
       "      <th></th>\n",
       "      <th></th>\n",
       "      <th></th>\n",
       "      <th></th>\n",
       "      <th></th>\n",
       "      <th></th>\n",
       "      <th></th>\n",
       "      <th></th>\n",
       "      <th></th>\n",
       "      <th></th>\n",
       "    </tr>\n",
       "  </thead>\n",
       "  <tbody>\n",
       "    <tr>\n",
       "      <th>001cd9ae23064d7f0fd3cd327c873d8d</th>\n",
       "      <td>2.727273</td>\n",
       "      <td>0.0</td>\n",
       "      <td>0.0</td>\n",
       "      <td>0.0</td>\n",
       "      <td>4.0</td>\n",
       "      <td>0.0</td>\n",
       "      <td>0.0</td>\n",
       "      <td>0.0</td>\n",
       "      <td>0.0</td>\n",
       "      <td>0.0</td>\n",
       "      <td>0.0</td>\n",
       "      <td>0.0</td>\n",
       "      <td>4.909091</td>\n",
       "    </tr>\n",
       "    <tr>\n",
       "      <th>005be9532fd717dc36d4be318fd9ad25</th>\n",
       "      <td>15.764706</td>\n",
       "      <td>3.058824</td>\n",
       "      <td>0.0</td>\n",
       "      <td>8.735294</td>\n",
       "      <td>14.117647</td>\n",
       "      <td>0.0</td>\n",
       "      <td>0.0</td>\n",
       "      <td>0.0</td>\n",
       "      <td>0.0</td>\n",
       "      <td>0.0</td>\n",
       "      <td>0.0</td>\n",
       "      <td>0.0</td>\n",
       "      <td>21.735294</td>\n",
       "    </tr>\n",
       "    <tr>\n",
       "      <th>007c1caccff1fbb3a0b8a10790f77141</th>\n",
       "      <td>6.76</td>\n",
       "      <td>0.0</td>\n",
       "      <td>0.0</td>\n",
       "      <td>0.44</td>\n",
       "      <td>0.4</td>\n",
       "      <td>0.0</td>\n",
       "      <td>0.0</td>\n",
       "      <td>0.0</td>\n",
       "      <td>3.68</td>\n",
       "      <td>0.0</td>\n",
       "      <td>0.0</td>\n",
       "      <td>0.0</td>\n",
       "      <td>10.12</td>\n",
       "    </tr>\n",
       "    <tr>\n",
       "      <th>009683350b175edfc6414d664e4ba873</th>\n",
       "      <td>3.478261</td>\n",
       "      <td>1.956522</td>\n",
       "      <td>0.565217</td>\n",
       "      <td>0.565217</td>\n",
       "      <td>1.478261</td>\n",
       "      <td>0.0</td>\n",
       "      <td>0.0</td>\n",
       "      <td>0.0</td>\n",
       "      <td>3.695652</td>\n",
       "      <td>0.0</td>\n",
       "      <td>0.0</td>\n",
       "      <td>0.0</td>\n",
       "      <td>4.869565</td>\n",
       "    </tr>\n",
       "    <tr>\n",
       "      <th>00f962ce727b8dbbf20925abd5a253dd</th>\n",
       "      <td>16.880952</td>\n",
       "      <td>7.428571</td>\n",
       "      <td>0.238095</td>\n",
       "      <td>18.214286</td>\n",
       "      <td>12.119048</td>\n",
       "      <td>0.0</td>\n",
       "      <td>0.0</td>\n",
       "      <td>0.0</td>\n",
       "      <td>27.095238</td>\n",
       "      <td>0.0</td>\n",
       "      <td>0.0</td>\n",
       "      <td>0.285714</td>\n",
       "      <td>0.0</td>\n",
       "    </tr>\n",
       "    <tr>\n",
       "      <th>...</th>\n",
       "      <td>...</td>\n",
       "      <td>...</td>\n",
       "      <td>...</td>\n",
       "      <td>...</td>\n",
       "      <td>...</td>\n",
       "      <td>...</td>\n",
       "      <td>...</td>\n",
       "      <td>...</td>\n",
       "      <td>...</td>\n",
       "      <td>...</td>\n",
       "      <td>...</td>\n",
       "      <td>...</td>\n",
       "      <td>...</td>\n",
       "    </tr>\n",
       "    <tr>\n",
       "      <th>fcf9f3effa992cfd552696e4ae7219b6</th>\n",
       "      <td>0.725</td>\n",
       "      <td>6.225</td>\n",
       "      <td>0.0</td>\n",
       "      <td>1.35</td>\n",
       "      <td>1.425</td>\n",
       "      <td>0.0</td>\n",
       "      <td>0.0</td>\n",
       "      <td>0.0</td>\n",
       "      <td>0.875</td>\n",
       "      <td>0.0</td>\n",
       "      <td>0.0</td>\n",
       "      <td>0.0</td>\n",
       "      <td>2.4</td>\n",
       "    </tr>\n",
       "    <tr>\n",
       "      <th>fcfc60d8240e5a51f878fd92e2a352a3</th>\n",
       "      <td>6.029412</td>\n",
       "      <td>2.676471</td>\n",
       "      <td>0.0</td>\n",
       "      <td>0.441176</td>\n",
       "      <td>0.382353</td>\n",
       "      <td>0.0</td>\n",
       "      <td>0.0</td>\n",
       "      <td>0.0</td>\n",
       "      <td>0.882353</td>\n",
       "      <td>0.0</td>\n",
       "      <td>0.0</td>\n",
       "      <td>1.882353</td>\n",
       "      <td>3.147059</td>\n",
       "    </tr>\n",
       "    <tr>\n",
       "      <th>fd613eba867c6ad7350a937f743b88f2</th>\n",
       "      <td>5.771429</td>\n",
       "      <td>3.085714</td>\n",
       "      <td>0.0</td>\n",
       "      <td>2.971429</td>\n",
       "      <td>3.028571</td>\n",
       "      <td>0.0</td>\n",
       "      <td>0.0</td>\n",
       "      <td>0.0</td>\n",
       "      <td>7.828571</td>\n",
       "      <td>0.0</td>\n",
       "      <td>0.0</td>\n",
       "      <td>0.571429</td>\n",
       "      <td>0.714286</td>\n",
       "    </tr>\n",
       "    <tr>\n",
       "      <th>fe355ff27aa8b2242a558d5e3ec99c18</th>\n",
       "      <td>3.666667</td>\n",
       "      <td>0.0</td>\n",
       "      <td>0.0</td>\n",
       "      <td>1.266667</td>\n",
       "      <td>1.333333</td>\n",
       "      <td>0.0</td>\n",
       "      <td>0.0</td>\n",
       "      <td>0.0</td>\n",
       "      <td>0.6</td>\n",
       "      <td>0.0</td>\n",
       "      <td>0.0</td>\n",
       "      <td>0.0</td>\n",
       "      <td>2.866667</td>\n",
       "    </tr>\n",
       "    <tr>\n",
       "      <th>fec479d0202d6e1e3f051a9ee902ff5d</th>\n",
       "      <td>4.190476</td>\n",
       "      <td>12.285714</td>\n",
       "      <td>0.0</td>\n",
       "      <td>9.166667</td>\n",
       "      <td>12.690476</td>\n",
       "      <td>0.0</td>\n",
       "      <td>0.0</td>\n",
       "      <td>0.0</td>\n",
       "      <td>0.333333</td>\n",
       "      <td>0.0</td>\n",
       "      <td>0.0</td>\n",
       "      <td>0.0</td>\n",
       "      <td>23.047619</td>\n",
       "    </tr>\n",
       "  </tbody>\n",
       "</table>\n",
       "<p>525 rows × 13 columns</p>\n",
       "</div>"
      ],
      "text/plain": [
       "                                  edu_hs_grad_equiv  edu_post_hs  edu_unknown  \\\n",
       "uu_id                                                                           \n",
       "001cd9ae23064d7f0fd3cd327c873d8d           2.727273          0.0          0.0   \n",
       "005be9532fd717dc36d4be318fd9ad25          15.764706     3.058824          0.0   \n",
       "007c1caccff1fbb3a0b8a10790f77141               6.76          0.0          0.0   \n",
       "009683350b175edfc6414d664e4ba873           3.478261     1.956522     0.565217   \n",
       "00f962ce727b8dbbf20925abd5a253dd          16.880952     7.428571     0.238095   \n",
       "...                                             ...          ...          ...   \n",
       "fcf9f3effa992cfd552696e4ae7219b6              0.725        6.225          0.0   \n",
       "fcfc60d8240e5a51f878fd92e2a352a3           6.029412     2.676471          0.0   \n",
       "fd613eba867c6ad7350a937f743b88f2           5.771429     3.085714          0.0   \n",
       "fe355ff27aa8b2242a558d5e3ec99c18           3.666667          0.0          0.0   \n",
       "fec479d0202d6e1e3f051a9ee902ff5d           4.190476    12.285714          0.0   \n",
       "\n",
       "                                  gender_female  gender_male  gender_na  \\\n",
       "uu_id                                                                     \n",
       "001cd9ae23064d7f0fd3cd327c873d8d            0.0          4.0        0.0   \n",
       "005be9532fd717dc36d4be318fd9ad25       8.735294    14.117647        0.0   \n",
       "007c1caccff1fbb3a0b8a10790f77141           0.44          0.4        0.0   \n",
       "009683350b175edfc6414d664e4ba873       0.565217     1.478261        0.0   \n",
       "00f962ce727b8dbbf20925abd5a253dd      18.214286    12.119048        0.0   \n",
       "...                                         ...          ...        ...   \n",
       "fcf9f3effa992cfd552696e4ae7219b6           1.35        1.425        0.0   \n",
       "fcfc60d8240e5a51f878fd92e2a352a3       0.441176     0.382353        0.0   \n",
       "fd613eba867c6ad7350a937f743b88f2       2.971429     3.028571        0.0   \n",
       "fe355ff27aa8b2242a558d5e3ec99c18       1.266667     1.333333        0.0   \n",
       "fec479d0202d6e1e3f051a9ee902ff5d       9.166667    12.690476        0.0   \n",
       "\n",
       "                                  race_amerindian  race_asian  race_black  \\\n",
       "uu_id                                                                       \n",
       "001cd9ae23064d7f0fd3cd327c873d8d              0.0         0.0         0.0   \n",
       "005be9532fd717dc36d4be318fd9ad25              0.0         0.0         0.0   \n",
       "007c1caccff1fbb3a0b8a10790f77141              0.0         0.0        3.68   \n",
       "009683350b175edfc6414d664e4ba873              0.0         0.0    3.695652   \n",
       "00f962ce727b8dbbf20925abd5a253dd              0.0         0.0   27.095238   \n",
       "...                                           ...         ...         ...   \n",
       "fcf9f3effa992cfd552696e4ae7219b6              0.0         0.0       0.875   \n",
       "fcfc60d8240e5a51f878fd92e2a352a3              0.0         0.0    0.882353   \n",
       "fd613eba867c6ad7350a937f743b88f2              0.0         0.0    7.828571   \n",
       "fe355ff27aa8b2242a558d5e3ec99c18              0.0         0.0         0.6   \n",
       "fec479d0202d6e1e3f051a9ee902ff5d              0.0         0.0    0.333333   \n",
       "\n",
       "                                  race_noanswer  race_hawaiiannative  \\\n",
       "uu_id                                                                  \n",
       "001cd9ae23064d7f0fd3cd327c873d8d            0.0                  0.0   \n",
       "005be9532fd717dc36d4be318fd9ad25            0.0                  0.0   \n",
       "007c1caccff1fbb3a0b8a10790f77141            0.0                  0.0   \n",
       "009683350b175edfc6414d664e4ba873            0.0                  0.0   \n",
       "00f962ce727b8dbbf20925abd5a253dd            0.0                  0.0   \n",
       "...                                         ...                  ...   \n",
       "fcf9f3effa992cfd552696e4ae7219b6            0.0                  0.0   \n",
       "fcfc60d8240e5a51f878fd92e2a352a3            0.0                  0.0   \n",
       "fd613eba867c6ad7350a937f743b88f2            0.0                  0.0   \n",
       "fe355ff27aa8b2242a558d5e3ec99c18            0.0                  0.0   \n",
       "fec479d0202d6e1e3f051a9ee902ff5d            0.0                  0.0   \n",
       "\n",
       "                                  race_other  race_white  \n",
       "uu_id                                                     \n",
       "001cd9ae23064d7f0fd3cd327c873d8d         0.0    4.909091  \n",
       "005be9532fd717dc36d4be318fd9ad25         0.0   21.735294  \n",
       "007c1caccff1fbb3a0b8a10790f77141         0.0       10.12  \n",
       "009683350b175edfc6414d664e4ba873         0.0    4.869565  \n",
       "00f962ce727b8dbbf20925abd5a253dd    0.285714         0.0  \n",
       "...                                      ...         ...  \n",
       "fcf9f3effa992cfd552696e4ae7219b6         0.0         2.4  \n",
       "fcfc60d8240e5a51f878fd92e2a352a3    1.882353    3.147059  \n",
       "fd613eba867c6ad7350a937f743b88f2    0.571429    0.714286  \n",
       "fe355ff27aa8b2242a558d5e3ec99c18         0.0    2.866667  \n",
       "fec479d0202d6e1e3f051a9ee902ff5d         0.0   23.047619  \n",
       "\n",
       "[525 rows x 13 columns]"
      ]
     },
     "execution_count": 150,
     "metadata": {},
     "output_type": "execute_result"
    }
   ],
   "source": [
    "X_test"
   ]
  }
 ],
 "metadata": {
  "jupytext": {
   "cell_metadata_filter": "-all",
   "main_language": "python",
   "notebook_metadata_filter": "-all"
  },
  "language_info": {
   "codemirror_mode": {
    "name": "ipython",
    "version": 3
   },
   "file_extension": ".py",
   "mimetype": "text/x-python",
   "name": "python",
   "nbconvert_exporter": "python",
   "pygments_lexer": "ipython3",
   "version": "3.9.12"
  }
 },
 "nbformat": 4,
 "nbformat_minor": 5
}
