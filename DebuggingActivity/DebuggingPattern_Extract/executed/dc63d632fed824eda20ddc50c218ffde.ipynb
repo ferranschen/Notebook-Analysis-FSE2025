{
 "cells": [
  {
   "cell_type": "code",
   "execution_count": 1,
   "id": "2a4586c9",
   "metadata": {
    "execution": {
     "iopub.execute_input": "2023-05-10T02:23:16.048407Z",
     "iopub.status.busy": "2023-05-10T02:23:16.048079Z",
     "iopub.status.idle": "2023-05-10T02:23:17.127159Z",
     "shell.execute_reply": "2023-05-10T02:23:17.126853Z"
    }
   },
   "outputs": [
    {
     "ename": "ModuleNotFoundError",
     "evalue": "No module named 'keras'",
     "output_type": "error",
     "traceback": [
      "\u001b[0;31m---------------------------------------------------------------------------\u001b[0m",
      "\u001b[0;31mModuleNotFoundError\u001b[0m                       Traceback (most recent call last)",
      "Cell \u001b[0;32mIn [1], line 18\u001b[0m\n\u001b[1;32m     16\u001b[0m \u001b[38;5;28;01mfrom\u001b[39;00m \u001b[38;5;21;01msklearn\u001b[39;00m\u001b[38;5;21;01m.\u001b[39;00m\u001b[38;5;21;01mlinear_model\u001b[39;00m \u001b[38;5;28;01mimport\u001b[39;00m BayesianRidge\n\u001b[1;32m     17\u001b[0m \u001b[38;5;28;01mfrom\u001b[39;00m \u001b[38;5;21;01msklearn\u001b[39;00m\u001b[38;5;21;01m.\u001b[39;00m\u001b[38;5;21;01mlinear_model\u001b[39;00m \u001b[38;5;28;01mimport\u001b[39;00m ElasticNetCV\n\u001b[0;32m---> 18\u001b[0m \u001b[38;5;28;01mfrom\u001b[39;00m \u001b[38;5;21;01mkeras\u001b[39;00m\u001b[38;5;21;01m.\u001b[39;00m\u001b[38;5;21;01mmodels\u001b[39;00m \u001b[38;5;28;01mimport\u001b[39;00m Sequential\n\u001b[1;32m     19\u001b[0m \u001b[38;5;28;01mfrom\u001b[39;00m \u001b[38;5;21;01mkeras\u001b[39;00m\u001b[38;5;21;01m.\u001b[39;00m\u001b[38;5;21;01mlayers\u001b[39;00m \u001b[38;5;28;01mimport\u001b[39;00m Bidirectional, LSTM, Dropout, Dense\n\u001b[1;32m     20\u001b[0m \u001b[38;5;28;01mfrom\u001b[39;00m \u001b[38;5;21;01mkeras\u001b[39;00m\u001b[38;5;21;01m.\u001b[39;00m\u001b[38;5;21;01mmodels\u001b[39;00m \u001b[38;5;28;01mimport\u001b[39;00m load_model\n",
      "\u001b[0;31mModuleNotFoundError\u001b[0m: No module named 'keras'"
     ]
    }
   ],
   "source": [
    "get_ipython().run_cell_magic('capture', '', 'import pandas as pd\\nimport numpy as np\\nimport os\\nfrom google.cloud import bigquery\\nfrom google.oauth2 import service_account\\nfrom google.cloud.bigquery import magics\\nimport matplotlib.pyplot as plt\\nimport seaborn as sns\\nfrom sklearn.svm import SVR\\nfrom sklearn.model_selection import GridSearchCV\\nfrom sklearn.metrics import mean_absolute_error, mean_squared_error\\nfrom sklearn.model_selection import train_test_split\\nfrom sklearn.ensemble import RandomForestRegressor\\nfrom sklearn.linear_model import LassoCV\\nfrom sklearn.model_selection import RepeatedKFold\\nfrom sklearn.linear_model import BayesianRidge\\nfrom sklearn.linear_model import ElasticNetCV\\nfrom keras.models import Sequential\\nfrom keras.layers import Bidirectional, LSTM, Dropout, Dense\\nfrom keras.models import load_model\\nimport joblib\\nfrom joblib import Parallel, delayed\\nfrom scipy import stats\\nfrom sklearn.ensemble import IsolationForest\\n')"
   ]
  },
  {
   "cell_type": "code",
   "execution_count": 2,
   "id": "95134726",
   "metadata": {
    "execution": {
     "iopub.execute_input": "2023-05-10T02:23:17.128834Z",
     "iopub.status.busy": "2023-05-10T02:23:17.128670Z",
     "iopub.status.idle": "2023-05-10T02:23:25.166199Z",
     "shell.execute_reply": "2023-05-10T02:23:25.165449Z"
    }
   },
   "outputs": [],
   "source": [
    "get_ipython().run_cell_magic('capture', '', '!pip install db-dtypes\\n!pip install keras\\n!pip install tensorflow\\n')"
   ]
  },
  {
   "cell_type": "code",
   "execution_count": 3,
   "id": "97b120cc",
   "metadata": {
    "execution": {
     "iopub.execute_input": "2023-05-10T02:23:25.169552Z",
     "iopub.status.busy": "2023-05-10T02:23:25.169129Z",
     "iopub.status.idle": "2023-05-10T02:23:25.178547Z",
     "shell.execute_reply": "2023-05-10T02:23:25.178203Z"
    }
   },
   "outputs": [],
   "source": [
    "get_ipython().run_cell_magic('capture', '', \"%logstop\\n%logstart -t -r -q ipython_command_log.py global\\n\\n#- IRONHACKS RESEARCH TRACKING CODE\\n#----------------------------------\\n# The following code is used to help our research team understand how you \\n# our notebook environment. We do not collect any personal information with\\n# the following code, it is used to measure when and how often you work on\\n# your submission files.\\n\\nimport os\\nfrom datetime import datetime\\nimport IPython.core.history as history\\n\\nha = history.HistoryAccessor()\\nha_tail = ha.get_tail(1)\\nha_cmd = next(ha_tail)\\nsession_id = str(ha_cmd[0])\\ncommand_id = str(ha_cmd[1])\\ntimestamp = datetime.utcnow().isoformat()\\nhistory_line = ','.join([session_id, command_id, timestamp]) + '\\\\n'\\nlogfile = open(os.environ['HOME']+'/ipython_session_log.csv', 'a')\\nlogfile.write(history_line)\\nlogfile.close()\\n\")"
   ]
  },
  {
   "cell_type": "code",
   "execution_count": 4,
   "id": "43f5385a",
   "metadata": {
    "execution": {
     "iopub.execute_input": "2023-05-10T02:23:25.180575Z",
     "iopub.status.busy": "2023-05-10T02:23:25.180423Z",
     "iopub.status.idle": "2023-05-10T02:23:25.193640Z",
     "shell.execute_reply": "2023-05-10T02:23:25.193280Z"
    },
    "lines_to_next_cell": 1
   },
   "outputs": [
    {
     "ename": "ModuleNotFoundError",
     "evalue": "No module named 'keras'",
     "output_type": "error",
     "traceback": [
      "\u001b[0;31m---------------------------------------------------------------------------\u001b[0m",
      "\u001b[0;31mModuleNotFoundError\u001b[0m                       Traceback (most recent call last)",
      "Cell \u001b[0;32mIn [4], line 18\u001b[0m\n\u001b[1;32m     16\u001b[0m \u001b[38;5;28;01mfrom\u001b[39;00m \u001b[38;5;21;01msklearn\u001b[39;00m\u001b[38;5;21;01m.\u001b[39;00m\u001b[38;5;21;01mlinear_model\u001b[39;00m \u001b[38;5;28;01mimport\u001b[39;00m BayesianRidge\n\u001b[1;32m     17\u001b[0m \u001b[38;5;28;01mfrom\u001b[39;00m \u001b[38;5;21;01msklearn\u001b[39;00m\u001b[38;5;21;01m.\u001b[39;00m\u001b[38;5;21;01mlinear_model\u001b[39;00m \u001b[38;5;28;01mimport\u001b[39;00m ElasticNetCV\n\u001b[0;32m---> 18\u001b[0m \u001b[38;5;28;01mfrom\u001b[39;00m \u001b[38;5;21;01mkeras\u001b[39;00m\u001b[38;5;21;01m.\u001b[39;00m\u001b[38;5;21;01mmodels\u001b[39;00m \u001b[38;5;28;01mimport\u001b[39;00m Sequential\n\u001b[1;32m     19\u001b[0m \u001b[38;5;28;01mfrom\u001b[39;00m \u001b[38;5;21;01mkeras\u001b[39;00m\u001b[38;5;21;01m.\u001b[39;00m\u001b[38;5;21;01mlayers\u001b[39;00m \u001b[38;5;28;01mimport\u001b[39;00m Bidirectional, LSTM, Dropout, Dense\n\u001b[1;32m     20\u001b[0m \u001b[38;5;28;01mfrom\u001b[39;00m \u001b[38;5;21;01mkeras\u001b[39;00m\u001b[38;5;21;01m.\u001b[39;00m\u001b[38;5;21;01mmodels\u001b[39;00m \u001b[38;5;28;01mimport\u001b[39;00m load_model\n",
      "\u001b[0;31mModuleNotFoundError\u001b[0m: No module named 'keras'"
     ]
    }
   ],
   "source": [
    "get_ipython().run_cell_magic('capture', '', 'import pandas as pd\\nimport numpy as np\\nimport os\\nfrom google.cloud import bigquery\\nfrom google.oauth2 import service_account\\nfrom google.cloud.bigquery import magics\\nimport matplotlib.pyplot as plt\\nimport seaborn as sns\\nfrom sklearn.svm import SVR\\nfrom sklearn.model_selection import GridSearchCV\\nfrom sklearn.metrics import mean_absolute_error, mean_squared_error\\nfrom sklearn.model_selection import train_test_split\\nfrom sklearn.ensemble import RandomForestRegressor\\nfrom sklearn.linear_model import LassoCV\\nfrom sklearn.model_selection import RepeatedKFold\\nfrom sklearn.linear_model import BayesianRidge\\nfrom sklearn.linear_model import ElasticNetCV\\nfrom keras.models import Sequential\\nfrom keras.layers import Bidirectional, LSTM, Dropout, Dense\\nfrom keras.models import load_model\\nimport joblib\\nfrom joblib import Parallel, delayed\\nfrom scipy import stats\\nfrom sklearn.ensemble import IsolationForest\\n')"
   ]
  },
  {
   "cell_type": "code",
   "execution_count": 5,
   "id": "b03e9e3d",
   "metadata": {
    "execution": {
     "iopub.execute_input": "2023-05-10T02:23:25.195491Z",
     "iopub.status.busy": "2023-05-10T02:23:25.195342Z",
     "iopub.status.idle": "2023-05-10T02:23:25.198151Z",
     "shell.execute_reply": "2023-05-10T02:23:25.197849Z"
    },
    "lines_to_next_cell": 1
   },
   "outputs": [],
   "source": [
    "def clearOutlier_IQR(data):\n",
    "    Q1 = data.quantile(0.25)\n",
    "    Q3 = data.quantile(0.75)\n",
    "    IQR = Q3 - Q1\n",
    "    no_outliers = data[~((data < (Q1 - 1.5 * IQR)) |(data > (Q3 + 1.5 * IQR))).any(axis=1)]\n",
    "    print(no_outliers.shape)\n",
    "    return no_outliers"
   ]
  },
  {
   "cell_type": "code",
   "execution_count": 6,
   "id": "1a311f9c",
   "metadata": {
    "execution": {
     "iopub.execute_input": "2023-05-10T02:23:25.199769Z",
     "iopub.status.busy": "2023-05-10T02:23:25.199640Z",
     "iopub.status.idle": "2023-05-10T02:23:25.202444Z",
     "shell.execute_reply": "2023-05-10T02:23:25.202162Z"
    },
    "lines_to_next_cell": 1
   },
   "outputs": [],
   "source": [
    "def evaluate_regressor(prediction_dataframe):\n",
    "    # Takes in a prediction dataframe of 2 columns, Actual values and Predicted values generated by a regressor\n",
    "    # Outputs MSE, MAR, RMSE and MAPE metrics. Must have columns named Actual and Predicted.\n",
    "    print('MSE:', mean_squared_error(prediction_dataframe['Actual'], prediction_dataframe['Predicted']))\n",
    "    print('MAE:', mean_absolute_error(prediction_dataframe['Actual'], prediction_dataframe['Predicted']))\n",
    "    print('RMSE:', np.sqrt(mean_squared_error(prediction_dataframe['Actual'], prediction_dataframe['Predicted'])))\n",
    "    print('MAPE:', np.mean(np.abs((prediction_dataframe['Actual'] - prediction_dataframe['Predicted']) / prediction_dataframe['Actual'])) * 100)"
   ]
  },
  {
   "cell_type": "code",
   "execution_count": 7,
   "id": "403ca044",
   "metadata": {
    "execution": {
     "iopub.execute_input": "2023-05-10T02:23:25.204035Z",
     "iopub.status.busy": "2023-05-10T02:23:25.203907Z",
     "iopub.status.idle": "2023-05-10T02:23:25.209293Z",
     "shell.execute_reply": "2023-05-10T02:23:25.208989Z"
    },
    "lines_to_next_cell": 1
   },
   "outputs": [],
   "source": [
    "def get_predictions(regressor, model_type, name, week):\n",
    "    # generates predictions for any model and writes out a dataframe in csv containing them\n",
    "    # takes a regressor and learning method type as input: DL and ML\n",
    "    # DL/ML variable basically changes the shape for an input from a 2D array to 3D arry, as required tensor shape\n",
    "    result_list = []\n",
    "    uu_id_transform = LE.fit_transform(prediction_list['uu_id'])\n",
    "    if model_type == 'DL':\n",
    "        predict_arr = np.array(SC_other.transform([[-0.04, -0.140, 0.328, -0.671, -0.420, -0.432, -0.0013, -0.0023, -0.347, -0.0004, 3.211, -0.532, -0.329]]))\n",
    "        for val in uu_id_transform:\n",
    "            to_predict = np.insert(predict_arr, 0, val, axis=1)\n",
    "            to_predict = np.insert(to_predict, 1, week, axis=1)\n",
    "            to_predict = np.reshape(to_predict, (to_predict.shape[0], to_predict.shape[1],1))\n",
    "            r = regressor.predict(to_predict)\n",
    "            result_list.append(r)\n",
    "        result_list = np.array(result_list)\n",
    "        result_list = np.reshape(result_list, (525,))\n",
    "    elif model_type == 'ML':\n",
    "        predict_arr = np.array(RB_other.transform([[-0.04, -0.140, 0.328, -0.671, -0.420, -0.432, -0.0013, -0.0023, -0.347, -0.0004, 3.211, -0.532, -0.329]]))\n",
    "        for val in uu_id_transform:\n",
    "            to_predict = np.insert(predict_arr, 0, val, axis=1)\n",
    "            to_predict = np.insert(to_predict, 1, week, axis=1)\n",
    "            r = regressor.predict(to_predict)\n",
    "            result_list.append(r)\n",
    "    result_df = pd.DataFrame(result_list, columns = ['Predictions'])\n",
    "    prediction_sub = prediction_list.copy()\n",
    "    prediction_sub['total_claims'] = result_df.values\n",
    "    prediction_sub = prediction_sub[['uu_id','total_claims','week_number']]\n",
    "    os.makedirs('lost+found/submission_files', exist_ok=True)\n",
    "    prediction_sub.to_csv('lost+found/submission_files/'+name+'.csv', index=False)\n",
    "    return prediction_sub"
   ]
  },
  {
   "cell_type": "code",
   "execution_count": 8,
   "id": "2c4efe94",
   "metadata": {
    "execution": {
     "iopub.execute_input": "2023-05-10T02:23:25.210901Z",
     "iopub.status.busy": "2023-05-10T02:23:25.210793Z",
     "iopub.status.idle": "2023-05-10T02:23:25.212980Z",
     "shell.execute_reply": "2023-05-10T02:23:25.212669Z"
    },
    "lines_to_next_cell": 1
   },
   "outputs": [],
   "source": [
    "def get_pred_frame(test_frame, prediction_array):\n",
    "    prediction_frame = pd.DataFrame({'Actual': test_frame, 'Predicted': prediction_array.flatten()})\n",
    "    return prediction_frame"
   ]
  },
  {
   "cell_type": "code",
   "execution_count": 9,
   "id": "5eaab5a5",
   "metadata": {
    "execution": {
     "iopub.execute_input": "2023-05-10T02:23:25.214481Z",
     "iopub.status.busy": "2023-05-10T02:23:25.214388Z",
     "iopub.status.idle": "2023-05-10T02:23:25.216528Z",
     "shell.execute_reply": "2023-05-10T02:23:25.216243Z"
    },
    "lines_to_next_cell": 1
   },
   "outputs": [],
   "source": [
    "# outlier detection and handling - Z Score (gaussian only)\n",
    "def clearOutlier_ZScore(data, threshold):\n",
    "    zscore = np.abs(stats.zscore(data))\n",
    "    thresh = threshold\n",
    "    no_outliers = data[(zscore < thresh).all(axis=1)]\n",
    "    return no_outliers"
   ]
  },
  {
   "cell_type": "code",
   "execution_count": 10,
   "id": "cb5952f4",
   "metadata": {
    "execution": {
     "iopub.execute_input": "2023-05-10T02:23:25.217930Z",
     "iopub.status.busy": "2023-05-10T02:23:25.217829Z",
     "iopub.status.idle": "2023-05-10T02:23:25.220914Z",
     "shell.execute_reply": "2023-05-10T02:23:25.220669Z"
    },
    "lines_to_next_cell": 1
   },
   "outputs": [],
   "source": [
    "# outlier detection - automatic\n",
    "def IsoForest_anomaly(data):\n",
    "    IFO = IsolationForest(random_state=69)\n",
    "    col_list = ['week_number', 'total_claims', 'edu_8th_or_less',\n",
    "                'edu_grades_9_11', 'edu_hs_grad_equiv', 'edu_post_hs', 'gender_female',\n",
    "                'gender_male', 'race_amerindian', 'race_asian', 'race_black',\n",
    "                'race_hawaiiannative', 'race_other', 'race_white', 'average_wage']\n",
    "    NO_df = data.copy()\n",
    "    IFO.fit(data)\n",
    "    NO_df['anomaly_scores'] = IFO.decision_function(data)\n",
    "    NO_df['anomaly'] = IFO.predict(data)\n",
    "    no_outlier = NO_df[NO_df['anomaly'] == 1]\n",
    "    print('Removed ', NO_df[NO_df['anomaly'] == -1].shape[0], 'datapoints')\n",
    "    palette = ['#ff7f0e','#1f77b4']\n",
    "    sns.pairplot(NO_df, vars = col_list, hue='anomaly', palette=palette)\n",
    "    no_outlier.drop(['anomaly_scores','anomaly'], axis = 1, inplace=True)\n",
    "    return no_outlier"
   ]
  },
  {
   "cell_type": "code",
   "execution_count": 11,
   "id": "e214be37",
   "metadata": {
    "execution": {
     "iopub.execute_input": "2023-05-10T02:23:25.222203Z",
     "iopub.status.busy": "2023-05-10T02:23:25.222125Z",
     "iopub.status.idle": "2023-05-10T02:23:25.224781Z",
     "shell.execute_reply": "2023-05-10T02:23:25.224559Z"
    },
    "lines_to_next_cell": 1
   },
   "outputs": [],
   "source": [
    "def preprocess(data, scaling):\n",
    "    no_outlierDF = ingest.copy()\n",
    "    to_drop = ['timeperiod','tract','top_category_employer1','top_category_employer2',\n",
    "           'top_category_employer3','tract_name','countyfips', 'edu_unknown', 'gender_na', \n",
    "           'race_noanswer']\n",
    "    to_scale = ['edu_8th_or_less', 'edu_grades_9_11', 'edu_hs_grad_equiv', 'edu_post_hs', \n",
    "            'gender_female', 'gender_male', 'race_amerindian', 'race_asian', 'race_black', \n",
    "            'race_hawaiiannative', 'race_other', 'race_white', 'average_wage']\n",
    "    no_outlierDF.drop(to_drop, axis=1, inplace=True)\n",
    "    no_outlierDF['uu_id'] = LE.fit_transform(no_outlierDF['uu_id'])\n",
    "    if scaling == 'Robust':\n",
    "        no_outlierDF[to_scale] = RB_other.fit_transform(no_outlierDF[to_scale])\n",
    "    elif scaling == 'Standard':\n",
    "        no_outlierDF[to_scale] = SC_other.fit_transform(no_outlierDF[to_scale])\n",
    "    return no_outlierDF"
   ]
  },
  {
   "cell_type": "code",
   "execution_count": 12,
   "id": "aff3d10c",
   "metadata": {
    "execution": {
     "iopub.execute_input": "2023-05-10T02:23:25.226096Z",
     "iopub.status.busy": "2023-05-10T02:23:25.226013Z",
     "iopub.status.idle": "2023-05-10T02:23:25.385693Z",
     "shell.execute_reply": "2023-05-10T02:23:25.385383Z"
    }
   },
   "outputs": [
    {
     "ename": "FileNotFoundError",
     "evalue": "[Errno 2] No such file or directory: 'lost+found/submission_files/complete_ingest.csv'",
     "output_type": "error",
     "traceback": [
      "\u001b[0;31m---------------------------------------------------------------------------\u001b[0m",
      "\u001b[0;31mFileNotFoundError\u001b[0m                         Traceback (most recent call last)",
      "Cell \u001b[0;32mIn [12], line 2\u001b[0m\n\u001b[1;32m      1\u001b[0m \u001b[38;5;66;03m# updated_ingest = pd.concat([merged_ingest, combined_ingest])\u001b[39;00m\n\u001b[0;32m----> 2\u001b[0m ingest \u001b[38;5;241m=\u001b[39m \u001b[43mpd\u001b[49m\u001b[38;5;241;43m.\u001b[39;49m\u001b[43mread_csv\u001b[49m\u001b[43m(\u001b[49m\u001b[38;5;124;43m'\u001b[39;49m\u001b[38;5;124;43mlost+found/submission_files/complete_ingest.csv\u001b[39;49m\u001b[38;5;124;43m'\u001b[39;49m\u001b[43m)\u001b[49m\n",
      "File \u001b[0;32m/opt/homebrew/lib/python3.9/site-packages/pandas/util/_decorators.py:211\u001b[0m, in \u001b[0;36mdeprecate_kwarg.<locals>._deprecate_kwarg.<locals>.wrapper\u001b[0;34m(*args, **kwargs)\u001b[0m\n\u001b[1;32m    209\u001b[0m     \u001b[38;5;28;01melse\u001b[39;00m:\n\u001b[1;32m    210\u001b[0m         kwargs[new_arg_name] \u001b[38;5;241m=\u001b[39m new_arg_value\n\u001b[0;32m--> 211\u001b[0m \u001b[38;5;28;01mreturn\u001b[39;00m \u001b[43mfunc\u001b[49m\u001b[43m(\u001b[49m\u001b[38;5;241;43m*\u001b[39;49m\u001b[43margs\u001b[49m\u001b[43m,\u001b[49m\u001b[43m \u001b[49m\u001b[38;5;241;43m*\u001b[39;49m\u001b[38;5;241;43m*\u001b[39;49m\u001b[43mkwargs\u001b[49m\u001b[43m)\u001b[49m\n",
      "File \u001b[0;32m/opt/homebrew/lib/python3.9/site-packages/pandas/util/_decorators.py:331\u001b[0m, in \u001b[0;36mdeprecate_nonkeyword_arguments.<locals>.decorate.<locals>.wrapper\u001b[0;34m(*args, **kwargs)\u001b[0m\n\u001b[1;32m    325\u001b[0m \u001b[38;5;28;01mif\u001b[39;00m \u001b[38;5;28mlen\u001b[39m(args) \u001b[38;5;241m>\u001b[39m num_allow_args:\n\u001b[1;32m    326\u001b[0m     warnings\u001b[38;5;241m.\u001b[39mwarn(\n\u001b[1;32m    327\u001b[0m         msg\u001b[38;5;241m.\u001b[39mformat(arguments\u001b[38;5;241m=\u001b[39m_format_argument_list(allow_args)),\n\u001b[1;32m    328\u001b[0m         \u001b[38;5;167;01mFutureWarning\u001b[39;00m,\n\u001b[1;32m    329\u001b[0m         stacklevel\u001b[38;5;241m=\u001b[39mfind_stack_level(),\n\u001b[1;32m    330\u001b[0m     )\n\u001b[0;32m--> 331\u001b[0m \u001b[38;5;28;01mreturn\u001b[39;00m \u001b[43mfunc\u001b[49m\u001b[43m(\u001b[49m\u001b[38;5;241;43m*\u001b[39;49m\u001b[43margs\u001b[49m\u001b[43m,\u001b[49m\u001b[43m \u001b[49m\u001b[38;5;241;43m*\u001b[39;49m\u001b[38;5;241;43m*\u001b[39;49m\u001b[43mkwargs\u001b[49m\u001b[43m)\u001b[49m\n",
      "File \u001b[0;32m/opt/homebrew/lib/python3.9/site-packages/pandas/io/parsers/readers.py:950\u001b[0m, in \u001b[0;36mread_csv\u001b[0;34m(filepath_or_buffer, sep, delimiter, header, names, index_col, usecols, squeeze, prefix, mangle_dupe_cols, dtype, engine, converters, true_values, false_values, skipinitialspace, skiprows, skipfooter, nrows, na_values, keep_default_na, na_filter, verbose, skip_blank_lines, parse_dates, infer_datetime_format, keep_date_col, date_parser, dayfirst, cache_dates, iterator, chunksize, compression, thousands, decimal, lineterminator, quotechar, quoting, doublequote, escapechar, comment, encoding, encoding_errors, dialect, error_bad_lines, warn_bad_lines, on_bad_lines, delim_whitespace, low_memory, memory_map, float_precision, storage_options)\u001b[0m\n\u001b[1;32m    935\u001b[0m kwds_defaults \u001b[38;5;241m=\u001b[39m _refine_defaults_read(\n\u001b[1;32m    936\u001b[0m     dialect,\n\u001b[1;32m    937\u001b[0m     delimiter,\n\u001b[0;32m   (...)\u001b[0m\n\u001b[1;32m    946\u001b[0m     defaults\u001b[38;5;241m=\u001b[39m{\u001b[38;5;124m\"\u001b[39m\u001b[38;5;124mdelimiter\u001b[39m\u001b[38;5;124m\"\u001b[39m: \u001b[38;5;124m\"\u001b[39m\u001b[38;5;124m,\u001b[39m\u001b[38;5;124m\"\u001b[39m},\n\u001b[1;32m    947\u001b[0m )\n\u001b[1;32m    948\u001b[0m kwds\u001b[38;5;241m.\u001b[39mupdate(kwds_defaults)\n\u001b[0;32m--> 950\u001b[0m \u001b[38;5;28;01mreturn\u001b[39;00m \u001b[43m_read\u001b[49m\u001b[43m(\u001b[49m\u001b[43mfilepath_or_buffer\u001b[49m\u001b[43m,\u001b[49m\u001b[43m \u001b[49m\u001b[43mkwds\u001b[49m\u001b[43m)\u001b[49m\n",
      "File \u001b[0;32m/opt/homebrew/lib/python3.9/site-packages/pandas/io/parsers/readers.py:605\u001b[0m, in \u001b[0;36m_read\u001b[0;34m(filepath_or_buffer, kwds)\u001b[0m\n\u001b[1;32m    602\u001b[0m _validate_names(kwds\u001b[38;5;241m.\u001b[39mget(\u001b[38;5;124m\"\u001b[39m\u001b[38;5;124mnames\u001b[39m\u001b[38;5;124m\"\u001b[39m, \u001b[38;5;28;01mNone\u001b[39;00m))\n\u001b[1;32m    604\u001b[0m \u001b[38;5;66;03m# Create the parser.\u001b[39;00m\n\u001b[0;32m--> 605\u001b[0m parser \u001b[38;5;241m=\u001b[39m \u001b[43mTextFileReader\u001b[49m\u001b[43m(\u001b[49m\u001b[43mfilepath_or_buffer\u001b[49m\u001b[43m,\u001b[49m\u001b[43m \u001b[49m\u001b[38;5;241;43m*\u001b[39;49m\u001b[38;5;241;43m*\u001b[39;49m\u001b[43mkwds\u001b[49m\u001b[43m)\u001b[49m\n\u001b[1;32m    607\u001b[0m \u001b[38;5;28;01mif\u001b[39;00m chunksize \u001b[38;5;129;01mor\u001b[39;00m iterator:\n\u001b[1;32m    608\u001b[0m     \u001b[38;5;28;01mreturn\u001b[39;00m parser\n",
      "File \u001b[0;32m/opt/homebrew/lib/python3.9/site-packages/pandas/io/parsers/readers.py:1442\u001b[0m, in \u001b[0;36mTextFileReader.__init__\u001b[0;34m(self, f, engine, **kwds)\u001b[0m\n\u001b[1;32m   1439\u001b[0m     \u001b[38;5;28mself\u001b[39m\u001b[38;5;241m.\u001b[39moptions[\u001b[38;5;124m\"\u001b[39m\u001b[38;5;124mhas_index_names\u001b[39m\u001b[38;5;124m\"\u001b[39m] \u001b[38;5;241m=\u001b[39m kwds[\u001b[38;5;124m\"\u001b[39m\u001b[38;5;124mhas_index_names\u001b[39m\u001b[38;5;124m\"\u001b[39m]\n\u001b[1;32m   1441\u001b[0m \u001b[38;5;28mself\u001b[39m\u001b[38;5;241m.\u001b[39mhandles: IOHandles \u001b[38;5;241m|\u001b[39m \u001b[38;5;28;01mNone\u001b[39;00m \u001b[38;5;241m=\u001b[39m \u001b[38;5;28;01mNone\u001b[39;00m\n\u001b[0;32m-> 1442\u001b[0m \u001b[38;5;28mself\u001b[39m\u001b[38;5;241m.\u001b[39m_engine \u001b[38;5;241m=\u001b[39m \u001b[38;5;28;43mself\u001b[39;49m\u001b[38;5;241;43m.\u001b[39;49m\u001b[43m_make_engine\u001b[49m\u001b[43m(\u001b[49m\u001b[43mf\u001b[49m\u001b[43m,\u001b[49m\u001b[43m \u001b[49m\u001b[38;5;28;43mself\u001b[39;49m\u001b[38;5;241;43m.\u001b[39;49m\u001b[43mengine\u001b[49m\u001b[43m)\u001b[49m\n",
      "File \u001b[0;32m/opt/homebrew/lib/python3.9/site-packages/pandas/io/parsers/readers.py:1735\u001b[0m, in \u001b[0;36mTextFileReader._make_engine\u001b[0;34m(self, f, engine)\u001b[0m\n\u001b[1;32m   1733\u001b[0m     \u001b[38;5;28;01mif\u001b[39;00m \u001b[38;5;124m\"\u001b[39m\u001b[38;5;124mb\u001b[39m\u001b[38;5;124m\"\u001b[39m \u001b[38;5;129;01mnot\u001b[39;00m \u001b[38;5;129;01min\u001b[39;00m mode:\n\u001b[1;32m   1734\u001b[0m         mode \u001b[38;5;241m+\u001b[39m\u001b[38;5;241m=\u001b[39m \u001b[38;5;124m\"\u001b[39m\u001b[38;5;124mb\u001b[39m\u001b[38;5;124m\"\u001b[39m\n\u001b[0;32m-> 1735\u001b[0m \u001b[38;5;28mself\u001b[39m\u001b[38;5;241m.\u001b[39mhandles \u001b[38;5;241m=\u001b[39m \u001b[43mget_handle\u001b[49m\u001b[43m(\u001b[49m\n\u001b[1;32m   1736\u001b[0m \u001b[43m    \u001b[49m\u001b[43mf\u001b[49m\u001b[43m,\u001b[49m\n\u001b[1;32m   1737\u001b[0m \u001b[43m    \u001b[49m\u001b[43mmode\u001b[49m\u001b[43m,\u001b[49m\n\u001b[1;32m   1738\u001b[0m \u001b[43m    \u001b[49m\u001b[43mencoding\u001b[49m\u001b[38;5;241;43m=\u001b[39;49m\u001b[38;5;28;43mself\u001b[39;49m\u001b[38;5;241;43m.\u001b[39;49m\u001b[43moptions\u001b[49m\u001b[38;5;241;43m.\u001b[39;49m\u001b[43mget\u001b[49m\u001b[43m(\u001b[49m\u001b[38;5;124;43m\"\u001b[39;49m\u001b[38;5;124;43mencoding\u001b[39;49m\u001b[38;5;124;43m\"\u001b[39;49m\u001b[43m,\u001b[49m\u001b[43m \u001b[49m\u001b[38;5;28;43;01mNone\u001b[39;49;00m\u001b[43m)\u001b[49m\u001b[43m,\u001b[49m\n\u001b[1;32m   1739\u001b[0m \u001b[43m    \u001b[49m\u001b[43mcompression\u001b[49m\u001b[38;5;241;43m=\u001b[39;49m\u001b[38;5;28;43mself\u001b[39;49m\u001b[38;5;241;43m.\u001b[39;49m\u001b[43moptions\u001b[49m\u001b[38;5;241;43m.\u001b[39;49m\u001b[43mget\u001b[49m\u001b[43m(\u001b[49m\u001b[38;5;124;43m\"\u001b[39;49m\u001b[38;5;124;43mcompression\u001b[39;49m\u001b[38;5;124;43m\"\u001b[39;49m\u001b[43m,\u001b[49m\u001b[43m \u001b[49m\u001b[38;5;28;43;01mNone\u001b[39;49;00m\u001b[43m)\u001b[49m\u001b[43m,\u001b[49m\n\u001b[1;32m   1740\u001b[0m \u001b[43m    \u001b[49m\u001b[43mmemory_map\u001b[49m\u001b[38;5;241;43m=\u001b[39;49m\u001b[38;5;28;43mself\u001b[39;49m\u001b[38;5;241;43m.\u001b[39;49m\u001b[43moptions\u001b[49m\u001b[38;5;241;43m.\u001b[39;49m\u001b[43mget\u001b[49m\u001b[43m(\u001b[49m\u001b[38;5;124;43m\"\u001b[39;49m\u001b[38;5;124;43mmemory_map\u001b[39;49m\u001b[38;5;124;43m\"\u001b[39;49m\u001b[43m,\u001b[49m\u001b[43m \u001b[49m\u001b[38;5;28;43;01mFalse\u001b[39;49;00m\u001b[43m)\u001b[49m\u001b[43m,\u001b[49m\n\u001b[1;32m   1741\u001b[0m \u001b[43m    \u001b[49m\u001b[43mis_text\u001b[49m\u001b[38;5;241;43m=\u001b[39;49m\u001b[43mis_text\u001b[49m\u001b[43m,\u001b[49m\n\u001b[1;32m   1742\u001b[0m \u001b[43m    \u001b[49m\u001b[43merrors\u001b[49m\u001b[38;5;241;43m=\u001b[39;49m\u001b[38;5;28;43mself\u001b[39;49m\u001b[38;5;241;43m.\u001b[39;49m\u001b[43moptions\u001b[49m\u001b[38;5;241;43m.\u001b[39;49m\u001b[43mget\u001b[49m\u001b[43m(\u001b[49m\u001b[38;5;124;43m\"\u001b[39;49m\u001b[38;5;124;43mencoding_errors\u001b[39;49m\u001b[38;5;124;43m\"\u001b[39;49m\u001b[43m,\u001b[49m\u001b[43m \u001b[49m\u001b[38;5;124;43m\"\u001b[39;49m\u001b[38;5;124;43mstrict\u001b[39;49m\u001b[38;5;124;43m\"\u001b[39;49m\u001b[43m)\u001b[49m\u001b[43m,\u001b[49m\n\u001b[1;32m   1743\u001b[0m \u001b[43m    \u001b[49m\u001b[43mstorage_options\u001b[49m\u001b[38;5;241;43m=\u001b[39;49m\u001b[38;5;28;43mself\u001b[39;49m\u001b[38;5;241;43m.\u001b[39;49m\u001b[43moptions\u001b[49m\u001b[38;5;241;43m.\u001b[39;49m\u001b[43mget\u001b[49m\u001b[43m(\u001b[49m\u001b[38;5;124;43m\"\u001b[39;49m\u001b[38;5;124;43mstorage_options\u001b[39;49m\u001b[38;5;124;43m\"\u001b[39;49m\u001b[43m,\u001b[49m\u001b[43m \u001b[49m\u001b[38;5;28;43;01mNone\u001b[39;49;00m\u001b[43m)\u001b[49m\u001b[43m,\u001b[49m\n\u001b[1;32m   1744\u001b[0m \u001b[43m\u001b[49m\u001b[43m)\u001b[49m\n\u001b[1;32m   1745\u001b[0m \u001b[38;5;28;01massert\u001b[39;00m \u001b[38;5;28mself\u001b[39m\u001b[38;5;241m.\u001b[39mhandles \u001b[38;5;129;01mis\u001b[39;00m \u001b[38;5;129;01mnot\u001b[39;00m \u001b[38;5;28;01mNone\u001b[39;00m\n\u001b[1;32m   1746\u001b[0m f \u001b[38;5;241m=\u001b[39m \u001b[38;5;28mself\u001b[39m\u001b[38;5;241m.\u001b[39mhandles\u001b[38;5;241m.\u001b[39mhandle\n",
      "File \u001b[0;32m/opt/homebrew/lib/python3.9/site-packages/pandas/io/common.py:856\u001b[0m, in \u001b[0;36mget_handle\u001b[0;34m(path_or_buf, mode, encoding, compression, memory_map, is_text, errors, storage_options)\u001b[0m\n\u001b[1;32m    851\u001b[0m \u001b[38;5;28;01melif\u001b[39;00m \u001b[38;5;28misinstance\u001b[39m(handle, \u001b[38;5;28mstr\u001b[39m):\n\u001b[1;32m    852\u001b[0m     \u001b[38;5;66;03m# Check whether the filename is to be opened in binary mode.\u001b[39;00m\n\u001b[1;32m    853\u001b[0m     \u001b[38;5;66;03m# Binary mode does not support 'encoding' and 'newline'.\u001b[39;00m\n\u001b[1;32m    854\u001b[0m     \u001b[38;5;28;01mif\u001b[39;00m ioargs\u001b[38;5;241m.\u001b[39mencoding \u001b[38;5;129;01mand\u001b[39;00m \u001b[38;5;124m\"\u001b[39m\u001b[38;5;124mb\u001b[39m\u001b[38;5;124m\"\u001b[39m \u001b[38;5;129;01mnot\u001b[39;00m \u001b[38;5;129;01min\u001b[39;00m ioargs\u001b[38;5;241m.\u001b[39mmode:\n\u001b[1;32m    855\u001b[0m         \u001b[38;5;66;03m# Encoding\u001b[39;00m\n\u001b[0;32m--> 856\u001b[0m         handle \u001b[38;5;241m=\u001b[39m \u001b[38;5;28;43mopen\u001b[39;49m\u001b[43m(\u001b[49m\n\u001b[1;32m    857\u001b[0m \u001b[43m            \u001b[49m\u001b[43mhandle\u001b[49m\u001b[43m,\u001b[49m\n\u001b[1;32m    858\u001b[0m \u001b[43m            \u001b[49m\u001b[43mioargs\u001b[49m\u001b[38;5;241;43m.\u001b[39;49m\u001b[43mmode\u001b[49m\u001b[43m,\u001b[49m\n\u001b[1;32m    859\u001b[0m \u001b[43m            \u001b[49m\u001b[43mencoding\u001b[49m\u001b[38;5;241;43m=\u001b[39;49m\u001b[43mioargs\u001b[49m\u001b[38;5;241;43m.\u001b[39;49m\u001b[43mencoding\u001b[49m\u001b[43m,\u001b[49m\n\u001b[1;32m    860\u001b[0m \u001b[43m            \u001b[49m\u001b[43merrors\u001b[49m\u001b[38;5;241;43m=\u001b[39;49m\u001b[43merrors\u001b[49m\u001b[43m,\u001b[49m\n\u001b[1;32m    861\u001b[0m \u001b[43m            \u001b[49m\u001b[43mnewline\u001b[49m\u001b[38;5;241;43m=\u001b[39;49m\u001b[38;5;124;43m\"\u001b[39;49m\u001b[38;5;124;43m\"\u001b[39;49m\u001b[43m,\u001b[49m\n\u001b[1;32m    862\u001b[0m \u001b[43m        \u001b[49m\u001b[43m)\u001b[49m\n\u001b[1;32m    863\u001b[0m     \u001b[38;5;28;01melse\u001b[39;00m:\n\u001b[1;32m    864\u001b[0m         \u001b[38;5;66;03m# Binary mode\u001b[39;00m\n\u001b[1;32m    865\u001b[0m         handle \u001b[38;5;241m=\u001b[39m \u001b[38;5;28mopen\u001b[39m(handle, ioargs\u001b[38;5;241m.\u001b[39mmode)\n",
      "\u001b[0;31mFileNotFoundError\u001b[0m: [Errno 2] No such file or directory: 'lost+found/submission_files/complete_ingest.csv'"
     ]
    }
   ],
   "source": [
    "# updated_ingest = pd.concat([merged_ingest, combined_ingest])\n",
    "ingest = pd.read_csv('lost+found/submission_files/complete_ingest.csv')"
   ]
  },
  {
   "cell_type": "code",
   "execution_count": 13,
   "id": "2e362360",
   "metadata": {
    "execution": {
     "iopub.execute_input": "2023-05-10T02:23:25.387641Z",
     "iopub.status.busy": "2023-05-10T02:23:25.387415Z",
     "iopub.status.idle": "2023-05-10T02:23:25.396234Z",
     "shell.execute_reply": "2023-05-10T02:23:25.395951Z"
    }
   },
   "outputs": [
    {
     "ename": "NameError",
     "evalue": "name 'ingest' is not defined",
     "output_type": "error",
     "traceback": [
      "\u001b[0;31m---------------------------------------------------------------------------\u001b[0m",
      "\u001b[0;31mNameError\u001b[0m                                 Traceback (most recent call last)",
      "Cell \u001b[0;32mIn [13], line 1\u001b[0m\n\u001b[0;32m----> 1\u001b[0m \u001b[43mingest\u001b[49m\u001b[38;5;241m.\u001b[39mdropna(axis\u001b[38;5;241m=\u001b[39m\u001b[38;5;241m0\u001b[39m, inplace\u001b[38;5;241m=\u001b[39m\u001b[38;5;28;01mTrue\u001b[39;00m)\n\u001b[1;32m      2\u001b[0m \u001b[38;5;28mprint\u001b[39m(ingest\u001b[38;5;241m.\u001b[39mshape)\n",
      "\u001b[0;31mNameError\u001b[0m: name 'ingest' is not defined"
     ]
    }
   ],
   "source": [
    "ingest.dropna(axis=0, inplace=True)\n",
    "print(ingest.shape)"
   ]
  },
  {
   "cell_type": "code",
   "execution_count": 14,
   "id": "cdd88b2f",
   "metadata": {
    "execution": {
     "iopub.execute_input": "2023-05-10T02:23:25.397840Z",
     "iopub.status.busy": "2023-05-10T02:23:25.397730Z",
     "iopub.status.idle": "2023-05-10T02:23:25.399710Z",
     "shell.execute_reply": "2023-05-10T02:23:25.399473Z"
    }
   },
   "outputs": [],
   "source": [
    "# quick preprocess to keep uu_id and scale values\n",
    "from sklearn.preprocessing import LabelEncoder, RobustScaler, StandardScaler\n",
    "LE = LabelEncoder()\n",
    "RB_other = RobustScaler()\n",
    "SC_other = StandardScaler()\n",
    "# RB_claims = RobustScaler()"
   ]
  },
  {
   "cell_type": "code",
   "execution_count": 15,
   "id": "557ecae2",
   "metadata": {
    "execution": {
     "iopub.execute_input": "2023-05-10T02:23:25.401126Z",
     "iopub.status.busy": "2023-05-10T02:23:25.401029Z",
     "iopub.status.idle": "2023-05-10T02:23:25.407590Z",
     "shell.execute_reply": "2023-05-10T02:23:25.407340Z"
    }
   },
   "outputs": [
    {
     "ename": "NameError",
     "evalue": "name 'ingest' is not defined",
     "output_type": "error",
     "traceback": [
      "\u001b[0;31m---------------------------------------------------------------------------\u001b[0m",
      "\u001b[0;31mNameError\u001b[0m                                 Traceback (most recent call last)",
      "Cell \u001b[0;32mIn [15], line 1\u001b[0m\n\u001b[0;32m----> 1\u001b[0m ML_data \u001b[38;5;241m=\u001b[39m preprocess(\u001b[43mingest\u001b[49m, \u001b[38;5;124m'\u001b[39m\u001b[38;5;124mRobust\u001b[39m\u001b[38;5;124m'\u001b[39m)\n\u001b[1;32m      2\u001b[0m ingest_clean \u001b[38;5;241m=\u001b[39m IsoForest_anomaly(ML_data)\n",
      "\u001b[0;31mNameError\u001b[0m: name 'ingest' is not defined"
     ]
    }
   ],
   "source": [
    "ML_data = preprocess(ingest, 'Robust')\n",
    "ingest_clean = IsoForest_anomaly(ML_data)"
   ]
  },
  {
   "cell_type": "code",
   "execution_count": 16,
   "id": "c18e3652",
   "metadata": {
    "execution": {
     "iopub.execute_input": "2023-05-10T02:23:25.409107Z",
     "iopub.status.busy": "2023-05-10T02:23:25.408992Z",
     "iopub.status.idle": "2023-05-10T02:23:25.418069Z",
     "shell.execute_reply": "2023-05-10T02:23:25.416842Z"
    }
   },
   "outputs": [],
   "source": [
    "BIGQUERY_PROJECT = 'ironhacks-data'\n",
    "bigquery_client = bigquery.Client(project=BIGQUERY_PROJECT)"
   ]
  },
  {
   "cell_type": "code",
   "execution_count": 17,
   "id": "757ead5a",
   "metadata": {
    "execution": {
     "iopub.execute_input": "2023-05-10T02:23:25.446167Z",
     "iopub.status.busy": "2023-05-10T02:23:25.445826Z",
     "iopub.status.idle": "2023-05-10T02:23:25.448881Z",
     "shell.execute_reply": "2023-05-10T02:23:25.448122Z"
    }
   },
   "outputs": [],
   "source": [
    "query_pred = \"\"\"\n",
    "SELECT * \n",
    "FROM `ironhacks-data.ironhacks_competition.prediction_list`\n",
    "\"\"\""
   ]
  },
  {
   "cell_type": "code",
   "execution_count": 18,
   "id": "d68accff",
   "metadata": {
    "execution": {
     "iopub.execute_input": "2023-05-10T02:23:25.453729Z",
     "iopub.status.busy": "2023-05-10T02:23:25.453309Z",
     "iopub.status.idle": "2023-05-10T02:23:27.371162Z",
     "shell.execute_reply": "2023-05-10T02:23:27.369948Z"
    }
   },
   "outputs": [],
   "source": [
    "query_job = bigquery_client.query(query_pred)\n",
    "prediction_list = query_job.to_dataframe()"
   ]
  },
  {
   "cell_type": "code",
   "execution_count": 19,
   "id": "d984ad3b",
   "metadata": {
    "execution": {
     "iopub.execute_input": "2023-05-10T02:23:27.377152Z",
     "iopub.status.busy": "2023-05-10T02:23:27.376768Z",
     "iopub.status.idle": "2023-05-10T02:23:27.399636Z",
     "shell.execute_reply": "2023-05-10T02:23:27.399045Z"
    }
   },
   "outputs": [
    {
     "ename": "NameError",
     "evalue": "name 'ingest_clean' is not defined",
     "output_type": "error",
     "traceback": [
      "\u001b[0;31m---------------------------------------------------------------------------\u001b[0m",
      "\u001b[0;31mNameError\u001b[0m                                 Traceback (most recent call last)",
      "Cell \u001b[0;32mIn [19], line 2\u001b[0m\n\u001b[1;32m      1\u001b[0m \u001b[38;5;66;03m# set target and independent variables\u001b[39;00m\n\u001b[0;32m----> 2\u001b[0m Y \u001b[38;5;241m=\u001b[39m \u001b[43mingest_clean\u001b[49m[\u001b[38;5;124m'\u001b[39m\u001b[38;5;124mtotal_claims\u001b[39m\u001b[38;5;124m'\u001b[39m]\n\u001b[1;32m      3\u001b[0m X \u001b[38;5;241m=\u001b[39m ingest_clean[[\u001b[38;5;124m'\u001b[39m\u001b[38;5;124muu_id\u001b[39m\u001b[38;5;124m'\u001b[39m, \u001b[38;5;124m'\u001b[39m\u001b[38;5;124mweek_number\u001b[39m\u001b[38;5;124m'\u001b[39m, \u001b[38;5;124m'\u001b[39m\u001b[38;5;124medu_8th_or_less\u001b[39m\u001b[38;5;124m'\u001b[39m,\n\u001b[1;32m      4\u001b[0m                  \u001b[38;5;124m'\u001b[39m\u001b[38;5;124medu_grades_9_11\u001b[39m\u001b[38;5;124m'\u001b[39m, \u001b[38;5;124m'\u001b[39m\u001b[38;5;124medu_hs_grad_equiv\u001b[39m\u001b[38;5;124m'\u001b[39m, \u001b[38;5;124m'\u001b[39m\u001b[38;5;124medu_post_hs\u001b[39m\u001b[38;5;124m'\u001b[39m, \u001b[38;5;124m'\u001b[39m\u001b[38;5;124mgender_female\u001b[39m\u001b[38;5;124m'\u001b[39m,\n\u001b[1;32m      5\u001b[0m                  \u001b[38;5;124m'\u001b[39m\u001b[38;5;124mgender_male\u001b[39m\u001b[38;5;124m'\u001b[39m, \u001b[38;5;124m'\u001b[39m\u001b[38;5;124mrace_amerindian\u001b[39m\u001b[38;5;124m'\u001b[39m, \u001b[38;5;124m'\u001b[39m\u001b[38;5;124mrace_asian\u001b[39m\u001b[38;5;124m'\u001b[39m, \u001b[38;5;124m'\u001b[39m\u001b[38;5;124mrace_black\u001b[39m\u001b[38;5;124m'\u001b[39m,\n\u001b[1;32m      6\u001b[0m                  \u001b[38;5;124m'\u001b[39m\u001b[38;5;124mrace_hawaiiannative\u001b[39m\u001b[38;5;124m'\u001b[39m, \u001b[38;5;124m'\u001b[39m\u001b[38;5;124mrace_other\u001b[39m\u001b[38;5;124m'\u001b[39m, \u001b[38;5;124m'\u001b[39m\u001b[38;5;124mrace_white\u001b[39m\u001b[38;5;124m'\u001b[39m, \u001b[38;5;124m'\u001b[39m\u001b[38;5;124maverage_wage\u001b[39m\u001b[38;5;124m'\u001b[39m]]\n",
      "\u001b[0;31mNameError\u001b[0m: name 'ingest_clean' is not defined"
     ]
    }
   ],
   "source": [
    "# set target and independent variables\n",
    "Y = ingest_clean['total_claims']\n",
    "X = ingest_clean[['uu_id', 'week_number', 'edu_8th_or_less',\n",
    "                 'edu_grades_9_11', 'edu_hs_grad_equiv', 'edu_post_hs', 'gender_female',\n",
    "                 'gender_male', 'race_amerindian', 'race_asian', 'race_black',\n",
    "                 'race_hawaiiannative', 'race_other', 'race_white', 'average_wage']]"
   ]
  },
  {
   "cell_type": "code",
   "execution_count": 20,
   "id": "b6d22412",
   "metadata": {
    "execution": {
     "iopub.execute_input": "2023-05-10T02:23:27.402950Z",
     "iopub.status.busy": "2023-05-10T02:23:27.402483Z",
     "iopub.status.idle": "2023-05-10T02:23:27.415298Z",
     "shell.execute_reply": "2023-05-10T02:23:27.414828Z"
    }
   },
   "outputs": [
    {
     "ename": "NameError",
     "evalue": "name 'X' is not defined",
     "output_type": "error",
     "traceback": [
      "\u001b[0;31m---------------------------------------------------------------------------\u001b[0m",
      "\u001b[0;31mNameError\u001b[0m                                 Traceback (most recent call last)",
      "Cell \u001b[0;32mIn [20], line 2\u001b[0m\n\u001b[1;32m      1\u001b[0m \u001b[38;5;66;03m# import\u001b[39;00m\n\u001b[0;32m----> 2\u001b[0m X_train, X_test, Y_train, Y_test \u001b[38;5;241m=\u001b[39m train_test_split(\u001b[43mX\u001b[49m,Y, test_size\u001b[38;5;241m=\u001b[39m\u001b[38;5;241m0.20\u001b[39m, random_state\u001b[38;5;241m=\u001b[39m\u001b[38;5;241m69\u001b[39m)\n",
      "\u001b[0;31mNameError\u001b[0m: name 'X' is not defined"
     ]
    }
   ],
   "source": [
    "# import\n",
    "X_train, X_test, Y_train, Y_test = train_test_split(X,Y, test_size=0.20, random_state=69)"
   ]
  },
  {
   "cell_type": "code",
   "execution_count": 21,
   "id": "1eaccdc3",
   "metadata": {
    "execution": {
     "iopub.execute_input": "2023-05-10T02:23:27.417565Z",
     "iopub.status.busy": "2023-05-10T02:23:27.417402Z",
     "iopub.status.idle": "2023-05-10T02:23:27.426919Z",
     "shell.execute_reply": "2023-05-10T02:23:27.426574Z"
    }
   },
   "outputs": [
    {
     "ename": "NameError",
     "evalue": "name 'joblib' is not defined",
     "output_type": "error",
     "traceback": [
      "\u001b[0;31m---------------------------------------------------------------------------\u001b[0m",
      "\u001b[0;31mNameError\u001b[0m                                 Traceback (most recent call last)",
      "Cell \u001b[0;32mIn [21], line 2\u001b[0m\n\u001b[1;32m      1\u001b[0m \u001b[38;5;66;03m# load model - next time, I'll need to learn to use PMML\u001b[39;00m\n\u001b[0;32m----> 2\u001b[0m RFR_Regressor \u001b[38;5;241m=\u001b[39m \u001b[43mjoblib\u001b[49m\u001b[38;5;241m.\u001b[39mload(\u001b[38;5;124m'\u001b[39m\u001b[38;5;124mRF_v1-7.pkl\u001b[39m\u001b[38;5;124m'\u001b[39m)\n",
      "\u001b[0;31mNameError\u001b[0m: name 'joblib' is not defined"
     ]
    }
   ],
   "source": [
    "# load model - next time, I'll need to learn to use PMML\n",
    "RFR_Regressor = joblib.load('RF_v1-7.pkl')"
   ]
  },
  {
   "cell_type": "code",
   "execution_count": 22,
   "id": "8807b45e",
   "metadata": {
    "execution": {
     "iopub.execute_input": "2023-05-10T02:23:27.428716Z",
     "iopub.status.busy": "2023-05-10T02:23:27.428576Z",
     "iopub.status.idle": "2023-05-10T02:23:27.437280Z",
     "shell.execute_reply": "2023-05-10T02:23:27.436994Z"
    }
   },
   "outputs": [
    {
     "ename": "NameError",
     "evalue": "name 'RFR_Regressor' is not defined",
     "output_type": "error",
     "traceback": [
      "\u001b[0;31m---------------------------------------------------------------------------\u001b[0m",
      "\u001b[0;31mNameError\u001b[0m                                 Traceback (most recent call last)",
      "Cell \u001b[0;32mIn [22], line 1\u001b[0m\n\u001b[0;32m----> 1\u001b[0m Y_pred_RFR \u001b[38;5;241m=\u001b[39m \u001b[43mRFR_Regressor\u001b[49m\u001b[38;5;241m.\u001b[39mpredict(X_test\u001b[38;5;241m.\u001b[39mvalues)\u001b[38;5;241m.\u001b[39mreshape(\u001b[38;5;241m-\u001b[39m\u001b[38;5;241m1\u001b[39m,\u001b[38;5;241m1\u001b[39m)\n",
      "\u001b[0;31mNameError\u001b[0m: name 'RFR_Regressor' is not defined"
     ]
    }
   ],
   "source": [
    "Y_pred_RFR = RFR_Regressor.predict(X_test.values).reshape(-1,1)"
   ]
  },
  {
   "cell_type": "code",
   "execution_count": 23,
   "id": "47e6b698",
   "metadata": {
    "execution": {
     "iopub.execute_input": "2023-05-10T02:23:27.438773Z",
     "iopub.status.busy": "2023-05-10T02:23:27.438681Z",
     "iopub.status.idle": "2023-05-10T02:23:27.446653Z",
     "shell.execute_reply": "2023-05-10T02:23:27.446396Z"
    }
   },
   "outputs": [
    {
     "ename": "NameError",
     "evalue": "name 'Y_test' is not defined",
     "output_type": "error",
     "traceback": [
      "\u001b[0;31m---------------------------------------------------------------------------\u001b[0m",
      "\u001b[0;31mNameError\u001b[0m                                 Traceback (most recent call last)",
      "Cell \u001b[0;32mIn [23], line 2\u001b[0m\n\u001b[1;32m      1\u001b[0m \u001b[38;5;66;03m# evaluate\u001b[39;00m\n\u001b[0;32m----> 2\u001b[0m evaluate_regressor(get_pred_frame(\u001b[43mY_test\u001b[49m,Y_pred_RFR))\n",
      "\u001b[0;31mNameError\u001b[0m: name 'Y_test' is not defined"
     ]
    }
   ],
   "source": [
    "# evaluate\n",
    "evaluate_regressor(get_pred_frame(Y_test,Y_pred_RFR))"
   ]
  },
  {
   "cell_type": "code",
   "execution_count": 24,
   "id": "20971df3",
   "metadata": {
    "execution": {
     "iopub.execute_input": "2023-05-10T02:23:27.448077Z",
     "iopub.status.busy": "2023-05-10T02:23:27.447992Z",
     "iopub.status.idle": "2023-05-10T02:23:27.455690Z",
     "shell.execute_reply": "2023-05-10T02:23:27.455351Z"
    }
   },
   "outputs": [
    {
     "ename": "NameError",
     "evalue": "name 'RFR_Regressor' is not defined",
     "output_type": "error",
     "traceback": [
      "\u001b[0;31m---------------------------------------------------------------------------\u001b[0m",
      "\u001b[0;31mNameError\u001b[0m                                 Traceback (most recent call last)",
      "Cell \u001b[0;32mIn [24], line 2\u001b[0m\n\u001b[1;32m      1\u001b[0m \u001b[38;5;66;03m# call func\u001b[39;00m\n\u001b[0;32m----> 2\u001b[0m get_predictions(\u001b[43mRFR_Regressor\u001b[49m, \u001b[38;5;124m'\u001b[39m\u001b[38;5;124mML\u001b[39m\u001b[38;5;124m'\u001b[39m, \u001b[38;5;124m'\u001b[39m\u001b[38;5;124msubmission_prediction_output_RFR\u001b[39m\u001b[38;5;124m'\u001b[39m, \u001b[38;5;241m44\u001b[39m)\n",
      "\u001b[0;31mNameError\u001b[0m: name 'RFR_Regressor' is not defined"
     ]
    }
   ],
   "source": [
    "# call func\n",
    "get_predictions(RFR_Regressor, 'ML', 'submission_prediction_output_RFR', 44)"
   ]
  },
  {
   "cell_type": "code",
   "execution_count": 25,
   "id": "986f1b76",
   "metadata": {
    "execution": {
     "iopub.execute_input": "2023-05-10T02:23:27.457076Z",
     "iopub.status.busy": "2023-05-10T02:23:27.456970Z",
     "iopub.status.idle": "2023-05-10T02:23:35.488474Z",
     "shell.execute_reply": "2023-05-10T02:23:35.487577Z"
    }
   },
   "outputs": [],
   "source": [
    "get_ipython().run_cell_magic('capture', '', '!pip install db-dtypes\\n!pip install keras\\n!pip install tensorflow\\n')"
   ]
  },
  {
   "cell_type": "code",
   "execution_count": 26,
   "id": "7e563b33",
   "metadata": {
    "execution": {
     "iopub.execute_input": "2023-05-10T02:23:35.491742Z",
     "iopub.status.busy": "2023-05-10T02:23:35.491506Z",
     "iopub.status.idle": "2023-05-10T02:23:35.501849Z",
     "shell.execute_reply": "2023-05-10T02:23:35.501305Z"
    }
   },
   "outputs": [],
   "source": [
    "BIGQUERY_PROJECT = 'ironhacks-data'\n",
    "bigquery_client = bigquery.Client(project=BIGQUERY_PROJECT)"
   ]
  },
  {
   "cell_type": "code",
   "execution_count": 27,
   "id": "a9889bc7",
   "metadata": {
    "execution": {
     "iopub.execute_input": "2023-05-10T02:23:35.504582Z",
     "iopub.status.busy": "2023-05-10T02:23:35.504190Z",
     "iopub.status.idle": "2023-05-10T02:23:35.506791Z",
     "shell.execute_reply": "2023-05-10T02:23:35.506446Z"
    }
   },
   "outputs": [],
   "source": [
    "query_main = \"\"\"\n",
    "SELECT *\n",
    "FROM `ironhacks-data.ironhacks_competition.unemployment_data`\n",
    "\"\"\""
   ]
  },
  {
   "cell_type": "code",
   "execution_count": 28,
   "id": "c2e52a91",
   "metadata": {
    "execution": {
     "iopub.execute_input": "2023-05-10T02:23:35.508718Z",
     "iopub.status.busy": "2023-05-10T02:23:35.508553Z",
     "iopub.status.idle": "2023-05-10T02:23:37.095410Z",
     "shell.execute_reply": "2023-05-10T02:23:37.094501Z"
    },
    "lines_to_next_cell": 2
   },
   "outputs": [],
   "source": [
    "query_job = bigquery_client.query(query_main)\n",
    "unemployment_data = query_job.to_dataframe()"
   ]
  }
 ],
 "metadata": {
  "jupytext": {
   "cell_metadata_filter": "-all",
   "main_language": "python",
   "notebook_metadata_filter": "-all"
  },
  "language_info": {
   "codemirror_mode": {
    "name": "ipython",
    "version": 3
   },
   "file_extension": ".py",
   "mimetype": "text/x-python",
   "name": "python",
   "nbconvert_exporter": "python",
   "pygments_lexer": "ipython3",
   "version": "3.9.12"
  }
 },
 "nbformat": 4,
 "nbformat_minor": 5
}
