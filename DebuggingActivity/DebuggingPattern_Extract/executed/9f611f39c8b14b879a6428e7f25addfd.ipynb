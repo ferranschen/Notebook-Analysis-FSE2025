{
 "cells": [
  {
   "cell_type": "code",
   "execution_count": 1,
   "id": "f1a899e2",
   "metadata": {
    "execution": {
     "iopub.execute_input": "2023-05-10T01:12:00.542931Z",
     "iopub.status.busy": "2023-05-10T01:12:00.542542Z",
     "iopub.status.idle": "2023-05-10T01:12:00.564744Z",
     "shell.execute_reply": "2023-05-10T01:12:00.564211Z"
    }
   },
   "outputs": [],
   "source": [
    "get_ipython().run_cell_magic('capture', '', \"%logstop\\n%logstart -t -r -q ipython_command_log.py global\\n\\n#- IRONHACKS RESEARCH TRACKING CODE\\n#----------------------------------\\n# The following code is used to help our research team understand how you \\n# our notebook environment. We do not collect any personal information with\\n# the following code, it is used to measure when and how often you work on\\n# your submission files.\\n\\nimport os\\nfrom datetime import datetime\\nimport IPython.core.history as history\\n\\nha = history.HistoryAccessor()\\nha_tail = ha.get_tail(1)\\nha_cmd = next(ha_tail)\\nsession_id = str(ha_cmd[0])\\ncommand_id = str(ha_cmd[1])\\ntimestamp = datetime.utcnow().isoformat()\\nhistory_line = ','.join([session_id, command_id, timestamp]) + '\\\\n'\\nlogfile = open(os.environ['HOME']+'/ipython_session_log.csv', 'a')\\nlogfile.write(history_line)\\nlogfile.close()\\n\")"
   ]
  },
  {
   "cell_type": "markdown",
   "id": "d2123c51",
   "metadata": {},
   "source": [
    "SUBMISSION 11 Milestone\n",
    "The task was to predict the total_claims for week 42\n",
    "For each week there is a distinct list of uu_ids with unique uu_id in the table called prediction_list\n",
    "Predict a value for each of those uu_ids\n",
    "The list is changing over time (given the streaming nature of the data)"
   ]
  },
  {
   "cell_type": "code",
   "execution_count": 2,
   "id": "2f995196",
   "metadata": {
    "execution": {
     "iopub.execute_input": "2023-05-10T01:12:00.567698Z",
     "iopub.status.busy": "2023-05-10T01:12:00.567479Z",
     "iopub.status.idle": "2023-05-10T01:12:02.653547Z",
     "shell.execute_reply": "2023-05-10T01:12:02.652686Z"
    }
   },
   "outputs": [],
   "source": [
    "get_ipython().run_cell_magic('capture', '', \"\\n# INSTALL ADDITIONAL LIBRARIES IF REQUIRED\\n# ------------------------------------------\\n# This is normally not required. The hub environment comes preinstaled with \\n# many packages that you can already use without setup. In case there is some\\n# other library you would like to use that isn't on the list you run this command\\n# once to install them.  If it is already installed this command has no effect.\\n\\n!python3 -m pip install pandas\\n!python3 -m pip install [ensorflow]\\n!python3 -m pip install [Keras]\\n!python3 -m pip install [Pytorch]\\n\")"
   ]
  },
  {
   "cell_type": "markdown",
   "id": "8caaa28a",
   "metadata": {},
   "source": [
    "INSTALL PACKAGES"
   ]
  },
  {
   "cell_type": "code",
   "execution_count": 3,
   "id": "6426484a",
   "metadata": {
    "execution": {
     "iopub.execute_input": "2023-05-10T01:12:02.656736Z",
     "iopub.status.busy": "2023-05-10T01:12:02.656507Z",
     "iopub.status.idle": "2023-05-10T01:12:05.274456Z",
     "shell.execute_reply": "2023-05-10T01:12:05.273852Z"
    }
   },
   "outputs": [
    {
     "name": "stdout",
     "output_type": "stream",
     "text": [
      "\u001b[33mWARNING: Ignoring invalid distribution -umpy (/opt/anaconda3/lib/python3.9/site-packages)\u001b[0m\r\n"
     ]
    },
    {
     "name": "stdout",
     "output_type": "stream",
     "text": [
      "\u001b[33mWARNING: Ignoring invalid distribution -umpy (/opt/anaconda3/lib/python3.9/site-packages)\u001b[0m\r\n",
      "Requirement already satisfied: db-dtypes in /opt/anaconda3/lib/python3.9/site-packages (1.0.5)\r\n",
      "Requirement already satisfied: packaging>=17.0 in /opt/anaconda3/lib/python3.9/site-packages (from db-dtypes) (21.3)\r\n",
      "Requirement already satisfied: pyarrow>=3.0.0 in /opt/anaconda3/lib/python3.9/site-packages (from db-dtypes) (10.0.1)\r\n",
      "Requirement already satisfied: numpy<2.0dev,>=1.16.6 in /opt/anaconda3/lib/python3.9/site-packages (from db-dtypes) (1.22.4)\r\n",
      "Requirement already satisfied: pandas<2.0dev,>=0.24.2 in /opt/anaconda3/lib/python3.9/site-packages (from db-dtypes) (1.5.3)\r\n",
      "Requirement already satisfied: pyparsing!=3.0.5,>=2.0.2 in /opt/anaconda3/lib/python3.9/site-packages (from packaging>=17.0->db-dtypes) (3.0.4)\r\n",
      "Requirement already satisfied: python-dateutil>=2.8.1 in /opt/anaconda3/lib/python3.9/site-packages (from pandas<2.0dev,>=0.24.2->db-dtypes) (2.8.2)\r\n",
      "Requirement already satisfied: pytz>=2020.1 in /opt/anaconda3/lib/python3.9/site-packages (from pandas<2.0dev,>=0.24.2->db-dtypes) (2021.3)\r\n",
      "Requirement already satisfied: six>=1.5 in /opt/anaconda3/lib/python3.9/site-packages (from python-dateutil>=2.8.1->pandas<2.0dev,>=0.24.2->db-dtypes) (1.16.0)\r\n",
      "\u001b[33mWARNING: Ignoring invalid distribution -umpy (/opt/anaconda3/lib/python3.9/site-packages)\u001b[0m\r\n"
     ]
    },
    {
     "name": "stdout",
     "output_type": "stream",
     "text": [
      "\u001b[33mWARNING: Ignoring invalid distribution -umpy (/opt/anaconda3/lib/python3.9/site-packages)\u001b[0m\r\n",
      "\u001b[33mWARNING: Ignoring invalid distribution -umpy (/opt/anaconda3/lib/python3.9/site-packages)\u001b[0m\r\n",
      "\u001b[33mWARNING: Ignoring invalid distribution -umpy (/opt/anaconda3/lib/python3.9/site-packages)\u001b[0m\r\n"
     ]
    }
   ],
   "source": [
    "get_ipython().system('pip install db-dtypes')"
   ]
  },
  {
   "cell_type": "markdown",
   "id": "8410aa15",
   "metadata": {},
   "source": [
    "IMPORT THE LIBRARIES YOU WILL USE\n",
    "------------------------------------------\n",
    "You only need to import packages one time per notebook session. To keep your\n",
    "notebook clean and organized you can handle all imports at the top of your file.\n",
    "The following are included for example purposed, feel free to modify or delete \n",
    "anything in this section."
   ]
  },
  {
   "cell_type": "code",
   "execution_count": 4,
   "id": "f827201b",
   "metadata": {
    "execution": {
     "iopub.execute_input": "2023-05-10T01:12:05.277492Z",
     "iopub.status.busy": "2023-05-10T01:12:05.277243Z",
     "iopub.status.idle": "2023-05-10T01:12:06.013747Z",
     "shell.execute_reply": "2023-05-10T01:12:06.013413Z"
    }
   },
   "outputs": [],
   "source": [
    "import csv\n",
    "import pandas as pd\n",
    "import numpy as np\n",
    "from google.cloud import bigquery\n",
    "from google.oauth2 import service_account\n",
    "from google.cloud.bigquery import magics\n",
    "import statsmodels.api as sm\n",
    "import math"
   ]
  },
  {
   "cell_type": "markdown",
   "id": "67155824",
   "metadata": {},
   "source": [
    "IMPORT THE DATASET"
   ]
  },
  {
   "cell_type": "code",
   "execution_count": 5,
   "id": "02a46d64",
   "metadata": {
    "execution": {
     "iopub.execute_input": "2023-05-10T01:12:06.015505Z",
     "iopub.status.busy": "2023-05-10T01:12:06.015351Z",
     "iopub.status.idle": "2023-05-10T01:12:06.222995Z",
     "shell.execute_reply": "2023-05-10T01:12:06.222678Z"
    }
   },
   "outputs": [],
   "source": [
    "import pandas as pd\n",
    "import numpy as np\n",
    "import matplotlib.pyplot as plt\n",
    "import seaborn as sns\n",
    "get_ipython().run_line_magic('matplotlib', 'inline')"
   ]
  },
  {
   "cell_type": "code",
   "execution_count": 6,
   "id": "42a78caf",
   "metadata": {
    "execution": {
     "iopub.execute_input": "2023-05-10T01:12:06.224664Z",
     "iopub.status.busy": "2023-05-10T01:12:06.224508Z",
     "iopub.status.idle": "2023-05-10T01:12:06.226505Z",
     "shell.execute_reply": "2023-05-10T01:12:06.226274Z"
    }
   },
   "outputs": [],
   "source": [
    "import os\n",
    "from google.cloud import bigquery\n",
    "from google.oauth2 import service_account\n",
    "from google.cloud.bigquery import magics"
   ]
  },
  {
   "cell_type": "markdown",
   "id": "7bd2be06",
   "metadata": {},
   "source": [
    "IMPORT IRONHACKS DATA"
   ]
  },
  {
   "cell_type": "code",
   "execution_count": 7,
   "id": "1067dac8",
   "metadata": {
    "execution": {
     "iopub.execute_input": "2023-05-10T01:12:06.227919Z",
     "iopub.status.busy": "2023-05-10T01:12:06.227840Z",
     "iopub.status.idle": "2023-05-10T01:12:06.229444Z",
     "shell.execute_reply": "2023-05-10T01:12:06.229198Z"
    }
   },
   "outputs": [],
   "source": [
    "import os\n",
    "BIGQUERY_PROJECT = 'ironhacks-data'"
   ]
  },
  {
   "cell_type": "code",
   "execution_count": 8,
   "id": "30b258f2",
   "metadata": {
    "execution": {
     "iopub.execute_input": "2023-05-10T01:12:06.230785Z",
     "iopub.status.busy": "2023-05-10T01:12:06.230697Z",
     "iopub.status.idle": "2023-05-10T01:12:06.240403Z",
     "shell.execute_reply": "2023-05-10T01:12:06.240128Z"
    }
   },
   "outputs": [
    {
     "data": {
      "text/plain": [
       "<google.cloud.bigquery.client.Client at 0x10751b9a0>"
      ]
     },
     "execution_count": 8,
     "metadata": {},
     "output_type": "execute_result"
    }
   ],
   "source": [
    "bigquery.Client(project=BIGQUERY_PROJECT)"
   ]
  },
  {
   "cell_type": "markdown",
   "id": "ff491f09",
   "metadata": {},
   "source": [
    "IMPORT THE LINEAR REGRESSION MODEL"
   ]
  },
  {
   "cell_type": "code",
   "execution_count": 9,
   "id": "ca0058b9",
   "metadata": {
    "execution": {
     "iopub.execute_input": "2023-05-10T01:12:06.241939Z",
     "iopub.status.busy": "2023-05-10T01:12:06.241825Z",
     "iopub.status.idle": "2023-05-10T01:12:06.304181Z",
     "shell.execute_reply": "2023-05-10T01:12:06.303898Z"
    }
   },
   "outputs": [],
   "source": [
    "import csv\n",
    "import pandas as pd\n",
    "import numpy as np\n",
    "from google.cloud import bigquery\n",
    "from google.oauth2 import service_account\n",
    "from google.cloud.bigquery import magics\n",
    "from sklearn.model_selection import train_test_split \n",
    "from sklearn.linear_model import LinearRegression\n",
    "from sklearn import metrics\n",
    "import matplotlib.pyplot as plt  "
   ]
  },
  {
   "cell_type": "markdown",
   "id": "8e06b2b4",
   "metadata": {},
   "source": [
    "IMPORT PACKAGE THE LINEAR REGRESSION MODEL- SCIKIT-LEARN \n",
    "SOURCE: https://realpython.com/linear-regression-in-python/#simple-linear-regression-with-scikit-learn\n",
    "NUMPY IS A FUNDAMENTAL PUYTHON SCIENTIFIC PACKAGE THAT ALLOWS MANY HIGH PEROFORMATION OPERATION SON A SINGLE AND MULTI DIMENSIONAL ARRAYS.\n",
    "SOURCE: https://realpython.com/linear-regression-in-python/#python-packages-for-linear-regression"
   ]
  },
  {
   "cell_type": "code",
   "execution_count": 10,
   "id": "cf4afe17",
   "metadata": {
    "execution": {
     "iopub.execute_input": "2023-05-10T01:12:06.305767Z",
     "iopub.status.busy": "2023-05-10T01:12:06.305675Z",
     "iopub.status.idle": "2023-05-10T01:12:06.307460Z",
     "shell.execute_reply": "2023-05-10T01:12:06.307222Z"
    }
   },
   "outputs": [],
   "source": [
    "import numpy as np\n",
    "from sklearn.linear_model import LinearRegression"
   ]
  },
  {
   "cell_type": "code",
   "execution_count": 11,
   "id": "5440de6a",
   "metadata": {
    "execution": {
     "iopub.execute_input": "2023-05-10T01:12:06.308766Z",
     "iopub.status.busy": "2023-05-10T01:12:06.308684Z",
     "iopub.status.idle": "2023-05-10T01:12:06.310659Z",
     "shell.execute_reply": "2023-05-10T01:12:06.310426Z"
    },
    "lines_to_next_cell": 1
   },
   "outputs": [],
   "source": [
    "# DEFINING THE DATA; INPUTS (REGRESSOR.X) AND OUTPUTS (RESPONSE.Y)\n",
    "x = np.array([5, 15, 25, 35, 45, 55]).reshape((-1, 1))\n",
    "y = np.array([5, 20, 14, 32, 22, 38])"
   ]
  },
  {
   "cell_type": "markdown",
   "id": "3b512ede",
   "metadata": {},
   "source": [
    "DEFINE YOUR CLASSES AND FUNCTIONS \n",
    "-----------------------------------\n",
    "This is not required, but is helpful in keeping your notebook organized. \n",
    "You can use the following cell or several cells to define your functions\n",
    "and classes to keep them separate from your analysis or results code.\n",
    "In general it useful to define your methods in a separate cell from where\n",
    "it is run."
   ]
  },
  {
   "cell_type": "code",
   "execution_count": 12,
   "id": "a604c795",
   "metadata": {
    "execution": {
     "iopub.execute_input": "2023-05-10T01:12:06.311984Z",
     "iopub.status.busy": "2023-05-10T01:12:06.311902Z",
     "iopub.status.idle": "2023-05-10T01:12:06.313516Z",
     "shell.execute_reply": "2023-05-10T01:12:06.313261Z"
    },
    "lines_to_next_cell": 1
   },
   "outputs": [],
   "source": [
    "def example_function():\n",
    "    print('Hello World')"
   ]
  },
  {
   "cell_type": "code",
   "execution_count": 13,
   "id": "1496a697",
   "metadata": {
    "execution": {
     "iopub.execute_input": "2023-05-10T01:12:06.314838Z",
     "iopub.status.busy": "2023-05-10T01:12:06.314757Z",
     "iopub.status.idle": "2023-05-10T01:12:06.316389Z",
     "shell.execute_reply": "2023-05-10T01:12:06.316151Z"
    }
   },
   "outputs": [],
   "source": [
    "# CREATE A LINEAR REGRESSION MODEL\n",
    "model = LinearRegression()"
   ]
  },
  {
   "cell_type": "markdown",
   "id": "795fd757",
   "metadata": {},
   "source": [
    "START USING A MODEL - .fit() fits the model\n",
    "SOURCE: REAL PYTHON - https://realpython.com/linear-regression-in-python/#simple-linear-regression-with-scikit-learn"
   ]
  },
  {
   "cell_type": "code",
   "execution_count": 14,
   "id": "3d71ad4c",
   "metadata": {
    "execution": {
     "iopub.execute_input": "2023-05-10T01:12:06.317784Z",
     "iopub.status.busy": "2023-05-10T01:12:06.317695Z",
     "iopub.status.idle": "2023-05-10T01:12:06.320329Z",
     "shell.execute_reply": "2023-05-10T01:12:06.320077Z"
    }
   },
   "outputs": [
    {
     "data": {
      "text/plain": [
       "sklearn.linear_model._base.LinearRegression"
      ]
     },
     "execution_count": 14,
     "metadata": {},
     "output_type": "execute_result"
    }
   ],
   "source": [
    "model.fit(x,y)\n",
    "LinearRegression"
   ]
  },
  {
   "cell_type": "code",
   "execution_count": 15,
   "id": "fb911051",
   "metadata": {
    "execution": {
     "iopub.execute_input": "2023-05-10T01:12:06.321679Z",
     "iopub.status.busy": "2023-05-10T01:12:06.321601Z",
     "iopub.status.idle": "2023-05-10T01:12:06.323560Z",
     "shell.execute_reply": "2023-05-10T01:12:06.323308Z"
    }
   },
   "outputs": [
    {
     "name": "stdout",
     "output_type": "stream",
     "text": [
      "coefficient of determination: 0.715875613747954\n"
     ]
    }
   ],
   "source": [
    "# GET RESULTS - NOW THAT THE MODEL HAS BEEN FITTED; LET SEE IF IT WORKS!\n",
    "r_sq = model.score(x, y)\n",
    "print(f\"coefficient of determination: {r_sq}\")"
   ]
  },
  {
   "cell_type": "markdown",
   "id": "dc328fa5",
   "metadata": {},
   "source": [
    "THE RETURN VALUE SHOULD BE R2"
   ]
  },
  {
   "cell_type": "markdown",
   "id": "3ff7dbfd",
   "metadata": {},
   "source": [
    "DETERMIINE HOW TO GET b0 and b1 (scikit-learn)\n",
    "intercept and coefficient are estimated values"
   ]
  },
  {
   "cell_type": "code",
   "execution_count": 16,
   "id": "6513094e",
   "metadata": {
    "execution": {
     "iopub.execute_input": "2023-05-10T01:12:06.324881Z",
     "iopub.status.busy": "2023-05-10T01:12:06.324800Z",
     "iopub.status.idle": "2023-05-10T01:12:06.327037Z",
     "shell.execute_reply": "2023-05-10T01:12:06.326774Z"
    }
   },
   "outputs": [
    {
     "name": "stdout",
     "output_type": "stream",
     "text": [
      "intercept: [5.63333333]\n"
     ]
    }
   ],
   "source": [
    "new_model = LinearRegression().fit(x,y.reshape((-1,1)))\n",
    "print(f\"intercept: {new_model.intercept_}\")"
   ]
  },
  {
   "cell_type": "code",
   "execution_count": 17,
   "id": "94237efb",
   "metadata": {
    "execution": {
     "iopub.execute_input": "2023-05-10T01:12:06.328383Z",
     "iopub.status.busy": "2023-05-10T01:12:06.328302Z",
     "iopub.status.idle": "2023-05-10T01:12:06.330047Z",
     "shell.execute_reply": "2023-05-10T01:12:06.329770Z"
    }
   },
   "outputs": [
    {
     "name": "stdout",
     "output_type": "stream",
     "text": [
      "slope: [[0.54]]\n"
     ]
    }
   ],
   "source": [
    "# DETERMIINE HOW TO GET b0 and b1 (scikit-learn)\n",
    "# intercept and coefficient are estimated values\n",
    "print(f\"slope: {new_model.coef_}\")"
   ]
  },
  {
   "cell_type": "code",
   "execution_count": 18,
   "id": "059fc187",
   "metadata": {
    "execution": {
     "iopub.execute_input": "2023-05-10T01:12:06.331351Z",
     "iopub.status.busy": "2023-05-10T01:12:06.331269Z",
     "iopub.status.idle": "2023-05-10T01:12:06.333104Z",
     "shell.execute_reply": "2023-05-10T01:12:06.332855Z"
    }
   },
   "outputs": [
    {
     "name": "stdout",
     "output_type": "stream",
     "text": [
      "predicted response:\n",
      "[ 8.33333333 13.73333333 19.13333333 24.53333333 29.93333333 35.33333333]\n"
     ]
    }
   ],
   "source": [
    "# NOW THAT WE KNOW OUR MODEL IS WORKING; LET'S PREDICT A RESPONSE!\n",
    "y_pred = model.predict(x)\n",
    "print(f\"predicted response:\\n{y_pred}\")"
   ]
  },
  {
   "cell_type": "markdown",
   "id": "9f654275",
   "metadata": {},
   "source": [
    "HERE'S ANOTHER WAY TO PREDICT THE RESPONSE\n",
    "THIS IS WERE EACH ELEMENT OF X WERE MULTIPLIED BY WITH THE MODEL COEFFICIENT"
   ]
  },
  {
   "cell_type": "code",
   "execution_count": 19,
   "id": "03be9791",
   "metadata": {
    "execution": {
     "iopub.execute_input": "2023-05-10T01:12:06.334448Z",
     "iopub.status.busy": "2023-05-10T01:12:06.334369Z",
     "iopub.status.idle": "2023-05-10T01:12:06.336179Z",
     "shell.execute_reply": "2023-05-10T01:12:06.335917Z"
    }
   },
   "outputs": [
    {
     "name": "stdout",
     "output_type": "stream",
     "text": [
      "predicted response:\n",
      "[[ 8.33333333]\n",
      " [13.73333333]\n",
      " [19.13333333]\n",
      " [24.53333333]\n",
      " [29.93333333]\n",
      " [35.33333333]]\n"
     ]
    }
   ],
   "source": [
    "y_pred = model.intercept_ + model.coef_ * x\n",
    "print(f\"predicted response:\\n{y_pred}\")"
   ]
  },
  {
   "cell_type": "markdown",
   "id": "d58f0d71",
   "metadata": {},
   "source": [
    "REGRESSION MODELS ARE TYPCIALLY USED FOR FORECASTS\n",
    "FITTED MODELS CAN BE USED TO CALCULATE THE OUTPUTS"
   ]
  },
  {
   "cell_type": "code",
   "execution_count": 20,
   "id": "d331a216",
   "metadata": {
    "execution": {
     "iopub.execute_input": "2023-05-10T01:12:06.337523Z",
     "iopub.status.busy": "2023-05-10T01:12:06.337447Z",
     "iopub.status.idle": "2023-05-10T01:12:06.339612Z",
     "shell.execute_reply": "2023-05-10T01:12:06.339373Z"
    }
   },
   "outputs": [
    {
     "data": {
      "text/plain": [
       "array([[0],\n",
       "       [1],\n",
       "       [2],\n",
       "       [3],\n",
       "       [4]])"
      ]
     },
     "execution_count": 20,
     "metadata": {},
     "output_type": "execute_result"
    }
   ],
   "source": [
    "x_new = np.arange(5). reshape((-1, 1))\n",
    "x_new"
   ]
  },
  {
   "cell_type": "code",
   "execution_count": 21,
   "id": "daee4083",
   "metadata": {
    "execution": {
     "iopub.execute_input": "2023-05-10T01:12:06.340890Z",
     "iopub.status.busy": "2023-05-10T01:12:06.340815Z",
     "iopub.status.idle": "2023-05-10T01:12:06.343003Z",
     "shell.execute_reply": "2023-05-10T01:12:06.342742Z"
    }
   },
   "outputs": [
    {
     "data": {
      "text/plain": [
       "array([5.63333333, 6.17333333, 6.71333333, 7.25333333, 7.79333333])"
      ]
     },
     "execution_count": 21,
     "metadata": {},
     "output_type": "execute_result"
    }
   ],
   "source": [
    "# REGRESSION MODELS ARE TYPCIALLY USED FOR FORECASTS\n",
    "# FITTED MODELS CAN BE USED TO CALCULATE THE OUTPUTS\n",
    "y_new = model.predict(x_new)\n",
    "y_new"
   ]
  },
  {
   "cell_type": "markdown",
   "id": "25b234c7",
   "metadata": {},
   "source": [
    "Obtain data using BigQuery"
   ]
  },
  {
   "cell_type": "code",
   "execution_count": 22,
   "id": "1b988e6c",
   "metadata": {
    "execution": {
     "iopub.execute_input": "2023-05-10T01:12:06.344357Z",
     "iopub.status.busy": "2023-05-10T01:12:06.344277Z",
     "iopub.status.idle": "2023-05-10T01:12:06.351079Z",
     "shell.execute_reply": "2023-05-10T01:12:06.350708Z"
    }
   },
   "outputs": [],
   "source": [
    "BIGQUERY_PROJECT = 'ironhacks-data'\n",
    "bigquery_client = bigquery.Client(project=BIGQUERY_PROJECT)"
   ]
  },
  {
   "cell_type": "code",
   "execution_count": 23,
   "id": "d17060d0",
   "metadata": {
    "execution": {
     "iopub.execute_input": "2023-05-10T01:12:06.352642Z",
     "iopub.status.busy": "2023-05-10T01:12:06.352548Z",
     "iopub.status.idle": "2023-05-10T01:12:06.354487Z",
     "shell.execute_reply": "2023-05-10T01:12:06.354263Z"
    }
   },
   "outputs": [],
   "source": [
    "query = \"\"\"\n",
    "SELECT\n",
    "x.*,\n",
    "y.average_wage\n",
    "FROM\n",
    "(SELECT\n",
    "*\n",
    "FROM `ironhacks-data.ironhacks_competition.unemployment_data`) x\n",
    "JOIN `ironhacks-data.ironhacks_competition.wage_data` y\n",
    "ON x.uu_id = y.uu_id\n",
    "\"\"\""
   ]
  },
  {
   "cell_type": "code",
   "execution_count": 24,
   "id": "ef253800",
   "metadata": {
    "execution": {
     "iopub.execute_input": "2023-05-10T01:12:06.355816Z",
     "iopub.status.busy": "2023-05-10T01:12:06.355731Z",
     "iopub.status.idle": "2023-05-10T01:12:09.270540Z",
     "shell.execute_reply": "2023-05-10T01:12:09.269777Z"
    }
   },
   "outputs": [],
   "source": [
    "query_job = bigquery_client.query(query)\n",
    "data = query_job.to_dataframe()"
   ]
  },
  {
   "cell_type": "code",
   "execution_count": 25,
   "id": "1d5273e9",
   "metadata": {
    "execution": {
     "iopub.execute_input": "2023-05-10T01:12:09.274517Z",
     "iopub.status.busy": "2023-05-10T01:12:09.274162Z",
     "iopub.status.idle": "2023-05-10T01:12:09.277715Z",
     "shell.execute_reply": "2023-05-10T01:12:09.277164Z"
    }
   },
   "outputs": [],
   "source": [
    "query_pred = \"\"\"\n",
    "SELECT * FROM `ironhacks-data.ironhacks_competition.prediction_list`\n",
    "\"\"\""
   ]
  },
  {
   "cell_type": "code",
   "execution_count": 26,
   "id": "14337a74",
   "metadata": {
    "execution": {
     "iopub.execute_input": "2023-05-10T01:12:09.280686Z",
     "iopub.status.busy": "2023-05-10T01:12:09.280407Z",
     "iopub.status.idle": "2023-05-10T01:12:10.992588Z",
     "shell.execute_reply": "2023-05-10T01:12:10.991701Z"
    }
   },
   "outputs": [],
   "source": [
    "query_job_pred = bigquery_client.query(query_pred)\n",
    "data_pred_query= query_job_pred.to_dataframe()"
   ]
  },
  {
   "cell_type": "code",
   "execution_count": 27,
   "id": "598db407",
   "metadata": {
    "execution": {
     "iopub.execute_input": "2023-05-10T01:12:10.997355Z",
     "iopub.status.busy": "2023-05-10T01:12:10.996944Z",
     "iopub.status.idle": "2023-05-10T01:12:11.004458Z",
     "shell.execute_reply": "2023-05-10T01:12:11.003626Z"
    }
   },
   "outputs": [],
   "source": [
    "# START USING A MODEL - Same statement written differently\n",
    "model = LinearRegression().fit(x,y)"
   ]
  },
  {
   "cell_type": "code",
   "execution_count": 28,
   "id": "6c264f0b",
   "metadata": {
    "execution": {
     "iopub.execute_input": "2023-05-10T01:12:11.009559Z",
     "iopub.status.busy": "2023-05-10T01:12:11.009127Z",
     "iopub.status.idle": "2023-05-10T01:12:11.015763Z",
     "shell.execute_reply": "2023-05-10T01:12:11.014963Z"
    }
   },
   "outputs": [
    {
     "name": "stdout",
     "output_type": "stream",
     "text": [
      "coefficient of determination: 0.715875613747954\n"
     ]
    }
   ],
   "source": [
    "# GET RESULTS - NOW THAT THE MODEL HAS BEEN FITTED; LET SEE IF IT WORKS!\n",
    "r_sq = model.score(x, y)\n",
    "print(f\"coefficient of determination: {r_sq}\")"
   ]
  },
  {
   "cell_type": "markdown",
   "id": "acecda02",
   "metadata": {},
   "source": [
    "THE RETURN VALUE SHOULD BE R2"
   ]
  },
  {
   "cell_type": "code",
   "execution_count": 29,
   "id": "960f3643",
   "metadata": {
    "execution": {
     "iopub.execute_input": "2023-05-10T01:12:11.019303Z",
     "iopub.status.busy": "2023-05-10T01:12:11.018964Z",
     "iopub.status.idle": "2023-05-10T01:12:11.025938Z",
     "shell.execute_reply": "2023-05-10T01:12:11.025383Z"
    }
   },
   "outputs": [
    {
     "data": {
      "text/html": [
       "<style>#sk-container-id-1 {color: black;background-color: white;}#sk-container-id-1 pre{padding: 0;}#sk-container-id-1 div.sk-toggleable {background-color: white;}#sk-container-id-1 label.sk-toggleable__label {cursor: pointer;display: block;width: 100%;margin-bottom: 0;padding: 0.3em;box-sizing: border-box;text-align: center;}#sk-container-id-1 label.sk-toggleable__label-arrow:before {content: \"▸\";float: left;margin-right: 0.25em;color: #696969;}#sk-container-id-1 label.sk-toggleable__label-arrow:hover:before {color: black;}#sk-container-id-1 div.sk-estimator:hover label.sk-toggleable__label-arrow:before {color: black;}#sk-container-id-1 div.sk-toggleable__content {max-height: 0;max-width: 0;overflow: hidden;text-align: left;background-color: #f0f8ff;}#sk-container-id-1 div.sk-toggleable__content pre {margin: 0.2em;color: black;border-radius: 0.25em;background-color: #f0f8ff;}#sk-container-id-1 input.sk-toggleable__control:checked~div.sk-toggleable__content {max-height: 200px;max-width: 100%;overflow: auto;}#sk-container-id-1 input.sk-toggleable__control:checked~label.sk-toggleable__label-arrow:before {content: \"▾\";}#sk-container-id-1 div.sk-estimator input.sk-toggleable__control:checked~label.sk-toggleable__label {background-color: #d4ebff;}#sk-container-id-1 div.sk-label input.sk-toggleable__control:checked~label.sk-toggleable__label {background-color: #d4ebff;}#sk-container-id-1 input.sk-hidden--visually {border: 0;clip: rect(1px 1px 1px 1px);clip: rect(1px, 1px, 1px, 1px);height: 1px;margin: -1px;overflow: hidden;padding: 0;position: absolute;width: 1px;}#sk-container-id-1 div.sk-estimator {font-family: monospace;background-color: #f0f8ff;border: 1px dotted black;border-radius: 0.25em;box-sizing: border-box;margin-bottom: 0.5em;}#sk-container-id-1 div.sk-estimator:hover {background-color: #d4ebff;}#sk-container-id-1 div.sk-parallel-item::after {content: \"\";width: 100%;border-bottom: 1px solid gray;flex-grow: 1;}#sk-container-id-1 div.sk-label:hover label.sk-toggleable__label {background-color: #d4ebff;}#sk-container-id-1 div.sk-serial::before {content: \"\";position: absolute;border-left: 1px solid gray;box-sizing: border-box;top: 0;bottom: 0;left: 50%;z-index: 0;}#sk-container-id-1 div.sk-serial {display: flex;flex-direction: column;align-items: center;background-color: white;padding-right: 0.2em;padding-left: 0.2em;position: relative;}#sk-container-id-1 div.sk-item {position: relative;z-index: 1;}#sk-container-id-1 div.sk-parallel {display: flex;align-items: stretch;justify-content: center;background-color: white;position: relative;}#sk-container-id-1 div.sk-item::before, #sk-container-id-1 div.sk-parallel-item::before {content: \"\";position: absolute;border-left: 1px solid gray;box-sizing: border-box;top: 0;bottom: 0;left: 50%;z-index: -1;}#sk-container-id-1 div.sk-parallel-item {display: flex;flex-direction: column;z-index: 1;position: relative;background-color: white;}#sk-container-id-1 div.sk-parallel-item:first-child::after {align-self: flex-end;width: 50%;}#sk-container-id-1 div.sk-parallel-item:last-child::after {align-self: flex-start;width: 50%;}#sk-container-id-1 div.sk-parallel-item:only-child::after {width: 0;}#sk-container-id-1 div.sk-dashed-wrapped {border: 1px dashed gray;margin: 0 0.4em 0.5em 0.4em;box-sizing: border-box;padding-bottom: 0.4em;background-color: white;}#sk-container-id-1 div.sk-label label {font-family: monospace;font-weight: bold;display: inline-block;line-height: 1.2em;}#sk-container-id-1 div.sk-label-container {text-align: center;}#sk-container-id-1 div.sk-container {/* jupyter's `normalize.less` sets `[hidden] { display: none; }` but bootstrap.min.css set `[hidden] { display: none !important; }` so we also need the `!important` here to be able to override the default hidden behavior on the sphinx rendered scikit-learn.org. See: https://github.com/scikit-learn/scikit-learn/issues/21755 */display: inline-block !important;position: relative;}#sk-container-id-1 div.sk-text-repr-fallback {display: none;}</style><div id=\"sk-container-id-1\" class=\"sk-top-container\"><div class=\"sk-text-repr-fallback\"><pre>LinearRegression()</pre><b>In a Jupyter environment, please rerun this cell to show the HTML representation or trust the notebook. <br />On GitHub, the HTML representation is unable to render, please try loading this page with nbviewer.org.</b></div><div class=\"sk-container\" hidden><div class=\"sk-item\"><div class=\"sk-estimator sk-toggleable\"><input class=\"sk-toggleable__control sk-hidden--visually\" id=\"sk-estimator-id-1\" type=\"checkbox\" checked><label for=\"sk-estimator-id-1\" class=\"sk-toggleable__label sk-toggleable__label-arrow\">LinearRegression</label><div class=\"sk-toggleable__content\"><pre>LinearRegression()</pre></div></div></div></div></div>"
      ],
      "text/plain": [
       "LinearRegression()"
      ]
     },
     "execution_count": 29,
     "metadata": {},
     "output_type": "execute_result"
    }
   ],
   "source": [
    "# Linear Regression\n",
    "model.fit(x, y)\n",
    "LinearRegression()"
   ]
  },
  {
   "cell_type": "code",
   "execution_count": 30,
   "id": "66fb7930",
   "metadata": {
    "execution": {
     "iopub.execute_input": "2023-05-10T01:12:11.028890Z",
     "iopub.status.busy": "2023-05-10T01:12:11.028637Z",
     "iopub.status.idle": "2023-05-10T01:12:11.032433Z",
     "shell.execute_reply": "2023-05-10T01:12:11.031873Z"
    }
   },
   "outputs": [],
   "source": [
    "# Test Linear Regression\n",
    "model = LinearRegression().fit(x, y)"
   ]
  },
  {
   "cell_type": "code",
   "execution_count": 31,
   "id": "85cb0071",
   "metadata": {
    "execution": {
     "iopub.execute_input": "2023-05-10T01:12:11.035352Z",
     "iopub.status.busy": "2023-05-10T01:12:11.035102Z",
     "iopub.status.idle": "2023-05-10T01:12:11.038845Z",
     "shell.execute_reply": "2023-05-10T01:12:11.038368Z"
    }
   },
   "outputs": [
    {
     "name": "stdout",
     "output_type": "stream",
     "text": [
      "coefficient of determination: 0.715875613747954\n"
     ]
    }
   ],
   "source": [
    "# Test Linear Regression\n",
    "r_sq = model.score(x, y)\n",
    "print(f\"coefficient of determination: {r_sq}\")"
   ]
  },
  {
   "cell_type": "code",
   "execution_count": 32,
   "id": "a3df3e3e",
   "metadata": {
    "execution": {
     "iopub.execute_input": "2023-05-10T01:12:11.041221Z",
     "iopub.status.busy": "2023-05-10T01:12:11.041062Z",
     "iopub.status.idle": "2023-05-10T01:12:11.044098Z",
     "shell.execute_reply": "2023-05-10T01:12:11.043665Z"
    }
   },
   "outputs": [
    {
     "name": "stdout",
     "output_type": "stream",
     "text": [
      "predicted response:\n",
      "[[ 8.33333333]\n",
      " [13.73333333]\n",
      " [19.13333333]\n",
      " [24.53333333]\n",
      " [29.93333333]\n",
      " [35.33333333]]\n"
     ]
    }
   ],
   "source": [
    "# Test Linear Regression\n",
    "print(f\"predicted response:\\n{y_pred}\")"
   ]
  },
  {
   "cell_type": "code",
   "execution_count": 33,
   "id": "1940a2a9",
   "metadata": {
    "execution": {
     "iopub.execute_input": "2023-05-10T01:12:11.046445Z",
     "iopub.status.busy": "2023-05-10T01:12:11.046273Z",
     "iopub.status.idle": "2023-05-10T01:12:11.049569Z",
     "shell.execute_reply": "2023-05-10T01:12:11.049085Z"
    }
   },
   "outputs": [
    {
     "name": "stdout",
     "output_type": "stream",
     "text": [
      "intercept: [5.63333333]\n"
     ]
    }
   ],
   "source": [
    "# Test Linear Regression\n",
    "new_model = LinearRegression().fit(x, y.reshape((-1, 1)))\n",
    "print(f\"intercept: {new_model.intercept_}\")"
   ]
  },
  {
   "cell_type": "code",
   "execution_count": 34,
   "id": "8e8ed189",
   "metadata": {
    "execution": {
     "iopub.execute_input": "2023-05-10T01:12:11.051744Z",
     "iopub.status.busy": "2023-05-10T01:12:11.051590Z",
     "iopub.status.idle": "2023-05-10T01:12:11.054300Z",
     "shell.execute_reply": "2023-05-10T01:12:11.053967Z"
    }
   },
   "outputs": [
    {
     "name": "stdout",
     "output_type": "stream",
     "text": [
      "slope: [[0.54]]\n"
     ]
    }
   ],
   "source": [
    "print(f\"slope: {new_model.coef_}\")"
   ]
  },
  {
   "cell_type": "code",
   "execution_count": 35,
   "id": "5affaeda",
   "metadata": {
    "execution": {
     "iopub.execute_input": "2023-05-10T01:12:11.056205Z",
     "iopub.status.busy": "2023-05-10T01:12:11.056055Z",
     "iopub.status.idle": "2023-05-10T01:12:11.059129Z",
     "shell.execute_reply": "2023-05-10T01:12:11.058788Z"
    }
   },
   "outputs": [
    {
     "data": {
      "text/plain": [
       "array([[0],\n",
       "       [1],\n",
       "       [2],\n",
       "       [3],\n",
       "       [4]])"
      ]
     },
     "execution_count": 35,
     "metadata": {},
     "output_type": "execute_result"
    }
   ],
   "source": [
    "# Test Linear Regression\n",
    "x_new = np.arange(5).reshape((-1, 1))\n",
    "x_new"
   ]
  },
  {
   "cell_type": "code",
   "execution_count": 36,
   "id": "92ff3154",
   "metadata": {
    "execution": {
     "iopub.execute_input": "2023-05-10T01:12:11.060970Z",
     "iopub.status.busy": "2023-05-10T01:12:11.060846Z",
     "iopub.status.idle": "2023-05-10T01:12:11.063429Z",
     "shell.execute_reply": "2023-05-10T01:12:11.063128Z"
    }
   },
   "outputs": [
    {
     "data": {
      "text/plain": [
       "array([[ 5],\n",
       "       [15],\n",
       "       [25],\n",
       "       [35],\n",
       "       [45],\n",
       "       [55]])"
      ]
     },
     "execution_count": 36,
     "metadata": {},
     "output_type": "execute_result"
    }
   ],
   "source": [
    "# Test Linear Regression\n",
    "x"
   ]
  },
  {
   "cell_type": "code",
   "execution_count": 37,
   "id": "a0a909f5",
   "metadata": {
    "execution": {
     "iopub.execute_input": "2023-05-10T01:12:11.065073Z",
     "iopub.status.busy": "2023-05-10T01:12:11.064965Z",
     "iopub.status.idle": "2023-05-10T01:12:11.067369Z",
     "shell.execute_reply": "2023-05-10T01:12:11.067062Z"
    }
   },
   "outputs": [
    {
     "data": {
      "text/plain": [
       "array([ 5, 20, 14, 32, 22, 38])"
      ]
     },
     "execution_count": 37,
     "metadata": {},
     "output_type": "execute_result"
    }
   ],
   "source": [
    "# Test Linear Regression\n",
    "y"
   ]
  },
  {
   "cell_type": "code",
   "execution_count": 38,
   "id": "1d60ac07",
   "metadata": {
    "execution": {
     "iopub.execute_input": "2023-05-10T01:12:11.068958Z",
     "iopub.status.busy": "2023-05-10T01:12:11.068829Z",
     "iopub.status.idle": "2023-05-10T01:12:11.071064Z",
     "shell.execute_reply": "2023-05-10T01:12:11.070783Z"
    }
   },
   "outputs": [],
   "source": [
    "# Test Linear Regression\n",
    "model = LinearRegression().fit(x, y)"
   ]
  },
  {
   "cell_type": "code",
   "execution_count": 39,
   "id": "85cdb709",
   "metadata": {
    "execution": {
     "iopub.execute_input": "2023-05-10T01:12:11.072698Z",
     "iopub.status.busy": "2023-05-10T01:12:11.072566Z",
     "iopub.status.idle": "2023-05-10T01:12:11.074665Z",
     "shell.execute_reply": "2023-05-10T01:12:11.074405Z"
    }
   },
   "outputs": [],
   "source": [
    "# Test Linear Regression\n",
    "model = sm.OLS(y, x)"
   ]
  },
  {
   "cell_type": "code",
   "execution_count": 40,
   "id": "cb890a92",
   "metadata": {
    "execution": {
     "iopub.execute_input": "2023-05-10T01:12:11.076108Z",
     "iopub.status.busy": "2023-05-10T01:12:11.075998Z",
     "iopub.status.idle": "2023-05-10T01:12:11.077932Z",
     "shell.execute_reply": "2023-05-10T01:12:11.077679Z"
    }
   },
   "outputs": [],
   "source": [
    "# Test Linear Regression\n",
    "results = model.fit()"
   ]
  },
  {
   "cell_type": "markdown",
   "id": "b5ce11e7",
   "metadata": {},
   "source": [
    "install conda install module_name"
   ]
  },
  {
   "cell_type": "code",
   "execution_count": 41,
   "id": "b557a858",
   "metadata": {
    "execution": {
     "iopub.execute_input": "2023-05-10T01:12:11.079362Z",
     "iopub.status.busy": "2023-05-10T01:12:11.079253Z",
     "iopub.status.idle": "2023-05-10T01:12:11.081442Z",
     "shell.execute_reply": "2023-05-10T01:12:11.081193Z"
    }
   },
   "outputs": [
    {
     "ename": "SyntaxError",
     "evalue": "invalid syntax (3691649660.py, line 1)",
     "output_type": "error",
     "traceback": [
      "\u001b[0;36m  Cell \u001b[0;32mIn [41], line 1\u001b[0;36m\u001b[0m\n\u001b[0;31m    from lmfit\u001b[0m\n\u001b[0m               ^\u001b[0m\n\u001b[0;31mSyntaxError\u001b[0m\u001b[0;31m:\u001b[0m invalid syntax\n"
     ]
    }
   ],
   "source": [
    "from lmfit "
   ]
  },
  {
   "cell_type": "code",
   "execution_count": 42,
   "id": "83470d11",
   "metadata": {
    "execution": {
     "iopub.execute_input": "2023-05-10T01:12:11.082893Z",
     "iopub.status.busy": "2023-05-10T01:12:11.082787Z",
     "iopub.status.idle": "2023-05-10T01:12:11.155856Z",
     "shell.execute_reply": "2023-05-10T01:12:11.155605Z"
    }
   },
   "outputs": [
    {
     "ename": "ModuleNotFoundError",
     "evalue": "No module named 'Minimizer'",
     "output_type": "error",
     "traceback": [
      "\u001b[0;31m---------------------------------------------------------------------------\u001b[0m",
      "\u001b[0;31mModuleNotFoundError\u001b[0m                       Traceback (most recent call last)",
      "Cell \u001b[0;32mIn [42], line 1\u001b[0m\n\u001b[0;32m----> 1\u001b[0m \u001b[38;5;28;01mimport\u001b[39;00m \u001b[38;5;21;01mMinimizer\u001b[39;00m\u001b[38;5;241m,\u001b[39m \u001b[38;5;21;01mParameters\u001b[39;00m\u001b[38;5;241m,\u001b[39m \u001b[38;5;21;01mreport_fit\u001b[39;00m\n\u001b[1;32m      2\u001b[0m \u001b[38;5;28;01mimport\u001b[39;00m \u001b[38;5;21;01mnumpy\u001b[39;00m \u001b[38;5;28;01mas\u001b[39;00m \u001b[38;5;21;01mnp\u001b[39;00m\n\u001b[1;32m      3\u001b[0m \u001b[38;5;28;01mimport\u001b[39;00m \u001b[38;5;21;01mmatplotlib\u001b[39;00m\u001b[38;5;21;01m.\u001b[39;00m\u001b[38;5;21;01mpylab\u001b[39;00m \u001b[38;5;28;01mas\u001b[39;00m \u001b[38;5;21;01mplt\u001b[39;00m\n",
      "\u001b[0;31mModuleNotFoundError\u001b[0m: No module named 'Minimizer'"
     ]
    }
   ],
   "source": [
    "import Minimizer, Parameters, report_fit\n",
    "import numpy as np\n",
    "import matplotlib.pylab as plt"
   ]
  },
  {
   "cell_type": "code",
   "execution_count": 43,
   "id": "03551349",
   "metadata": {
    "execution": {
     "iopub.execute_input": "2023-05-10T01:12:11.157371Z",
     "iopub.status.busy": "2023-05-10T01:12:11.157283Z",
     "iopub.status.idle": "2023-05-10T01:12:11.159364Z",
     "shell.execute_reply": "2023-05-10T01:12:11.159134Z"
    }
   },
   "outputs": [
    {
     "ename": "SyntaxError",
     "evalue": "invalid syntax (3691649660.py, line 1)",
     "output_type": "error",
     "traceback": [
      "\u001b[0;36m  Cell \u001b[0;32mIn [43], line 1\u001b[0;36m\u001b[0m\n\u001b[0;31m    from lmfit\u001b[0m\n\u001b[0m               ^\u001b[0m\n\u001b[0;31mSyntaxError\u001b[0m\u001b[0;31m:\u001b[0m invalid syntax\n"
     ]
    }
   ],
   "source": [
    "from lmfit "
   ]
  },
  {
   "cell_type": "code",
   "execution_count": 44,
   "id": "fa248eb8",
   "metadata": {
    "execution": {
     "iopub.execute_input": "2023-05-10T01:12:11.160658Z",
     "iopub.status.busy": "2023-05-10T01:12:11.160564Z",
     "iopub.status.idle": "2023-05-10T01:12:11.167041Z",
     "shell.execute_reply": "2023-05-10T01:12:11.166800Z"
    }
   },
   "outputs": [
    {
     "ename": "ModuleNotFoundError",
     "evalue": "No module named 'Minimizer'",
     "output_type": "error",
     "traceback": [
      "\u001b[0;31m---------------------------------------------------------------------------\u001b[0m",
      "\u001b[0;31mModuleNotFoundError\u001b[0m                       Traceback (most recent call last)",
      "Cell \u001b[0;32mIn [44], line 1\u001b[0m\n\u001b[0;32m----> 1\u001b[0m \u001b[38;5;28;01mimport\u001b[39;00m \u001b[38;5;21;01mMinimizer\u001b[39;00m\u001b[38;5;241m,\u001b[39m \u001b[38;5;21;01mParameters\u001b[39;00m\u001b[38;5;241m,\u001b[39m \u001b[38;5;21;01mreport_fit\u001b[39;00m\n\u001b[1;32m      2\u001b[0m \u001b[38;5;28;01mimport\u001b[39;00m \u001b[38;5;21;01mnumpy\u001b[39;00m \u001b[38;5;28;01mas\u001b[39;00m \u001b[38;5;21;01mnp\u001b[39;00m\n\u001b[1;32m      3\u001b[0m \u001b[38;5;28;01mimport\u001b[39;00m \u001b[38;5;21;01mmatplotlib\u001b[39;00m\u001b[38;5;21;01m.\u001b[39;00m\u001b[38;5;21;01mpylab\u001b[39;00m \u001b[38;5;28;01mas\u001b[39;00m \u001b[38;5;21;01mplt\u001b[39;00m\n",
      "\u001b[0;31mModuleNotFoundError\u001b[0m: No module named 'Minimizer'"
     ]
    }
   ],
   "source": [
    "import Minimizer, Parameters, report_fit\n",
    "import numpy as np\n",
    "import matplotlib.pylab as plt"
   ]
  },
  {
   "cell_type": "code",
   "execution_count": 45,
   "id": "99876c5a",
   "metadata": {
    "execution": {
     "iopub.execute_input": "2023-05-10T01:12:11.168400Z",
     "iopub.status.busy": "2023-05-10T01:12:11.168318Z",
     "iopub.status.idle": "2023-05-10T01:12:11.173776Z",
     "shell.execute_reply": "2023-05-10T01:12:11.173469Z"
    }
   },
   "outputs": [
    {
     "name": "stdout",
     "output_type": "stream",
     "text": [
      "                                 OLS Regression Results                                \n",
      "=======================================================================================\n",
      "Dep. Variable:                      y   R-squared (uncentered):                   0.930\n",
      "Model:                            OLS   Adj. R-squared (uncentered):              0.916\n",
      "Method:                 Least Squares   F-statistic:                              66.71\n",
      "Date:                Tue, 09 May 2023   Prob (F-statistic):                    0.000447\n",
      "Time:                        21:12:11   Log-Likelihood:                         -19.692\n",
      "No. Observations:                   6   AIC:                                      41.38\n",
      "Df Residuals:                       5   BIC:                                      41.18\n",
      "Df Model:                           1                                                  \n",
      "Covariance Type:            nonrobust                                                  \n",
      "==============================================================================\n",
      "                 coef    std err          t      P>|t|      [0.025      0.975]\n",
      "------------------------------------------------------------------------------\n",
      "x1             0.6818      0.083      8.167      0.000       0.467       0.896\n",
      "==============================================================================\n",
      "Omnibus:                          nan   Durbin-Watson:                   2.904\n",
      "Prob(Omnibus):                    nan   Jarque-Bera (JB):                0.334\n",
      "Skew:                          -0.137   Prob(JB):                        0.846\n",
      "Kurtosis:                       1.877   Cond. No.                         1.00\n",
      "==============================================================================\n",
      "\n",
      "Notes:\n",
      "[1] R² is computed without centering (uncentered) since the model does not contain a constant.\n",
      "[2] Standard Errors assume that the covariance matrix of the errors is correctly specified.\n"
     ]
    },
    {
     "name": "stderr",
     "output_type": "stream",
     "text": [
      "/opt/homebrew/lib/python3.9/site-packages/statsmodels/stats/stattools.py:74: ValueWarning: omni_normtest is not valid with less than 8 observations; 6 samples were given.\n",
      "  warn(\"omni_normtest is not valid with less than 8 observations; %i \"\n"
     ]
    }
   ],
   "source": [
    "# Test Linear Regression\n",
    "print(results.summary())"
   ]
  },
  {
   "cell_type": "code",
   "execution_count": 46,
   "id": "6f398fa3",
   "metadata": {
    "execution": {
     "iopub.execute_input": "2023-05-10T01:12:11.175086Z",
     "iopub.status.busy": "2023-05-10T01:12:11.175009Z",
     "iopub.status.idle": "2023-05-10T01:12:11.176836Z",
     "shell.execute_reply": "2023-05-10T01:12:11.176592Z"
    }
   },
   "outputs": [],
   "source": [
    "from statsmodels.compat import lzip\n",
    "import numpy as np\n",
    "import matplotlib.pyplot as plt\n",
    "import statsmodels.api as sm\n",
    "from statsmodels.formula.api import ols"
   ]
  },
  {
   "cell_type": "code",
   "execution_count": 47,
   "id": "6d8f4369",
   "metadata": {
    "execution": {
     "iopub.execute_input": "2023-05-10T01:12:11.178180Z",
     "iopub.status.busy": "2023-05-10T01:12:11.178101Z",
     "iopub.status.idle": "2023-05-10T01:12:11.179853Z",
     "shell.execute_reply": "2023-05-10T01:12:11.179595Z"
    }
   },
   "outputs": [],
   "source": [
    "plt.rc(\"figure\", figsize=(16, 8))\n",
    "plt.rc(\"font\", size=14)"
   ]
  },
  {
   "cell_type": "code",
   "execution_count": 48,
   "id": "71e1c8bb",
   "metadata": {
    "execution": {
     "iopub.execute_input": "2023-05-10T01:12:11.181172Z",
     "iopub.status.busy": "2023-05-10T01:12:11.181095Z",
     "iopub.status.idle": "2023-05-10T01:12:11.187729Z",
     "shell.execute_reply": "2023-05-10T01:12:11.187487Z"
    }
   },
   "outputs": [
    {
     "ename": "NameError",
     "evalue": "name 'prestige' is not defined",
     "output_type": "error",
     "traceback": [
      "\u001b[0;31m---------------------------------------------------------------------------\u001b[0m",
      "\u001b[0;31mNameError\u001b[0m                                 Traceback (most recent call last)",
      "Cell \u001b[0;32mIn [48], line 1\u001b[0m\n\u001b[0;32m----> 1\u001b[0m \u001b[43mprestige\u001b[49m\u001b[38;5;241m.\u001b[39mhead()\n",
      "\u001b[0;31mNameError\u001b[0m: name 'prestige' is not defined"
     ]
    }
   ],
   "source": [
    "prestige.head()"
   ]
  },
  {
   "cell_type": "code",
   "execution_count": 49,
   "id": "9a783c8b",
   "metadata": {
    "execution": {
     "iopub.execute_input": "2023-05-10T01:12:11.189102Z",
     "iopub.status.busy": "2023-05-10T01:12:11.189021Z",
     "iopub.status.idle": "2023-05-10T01:12:11.195510Z",
     "shell.execute_reply": "2023-05-10T01:12:11.195261Z"
    }
   },
   "outputs": [
    {
     "ename": "NameError",
     "evalue": "name 'prestige' is not defined",
     "output_type": "error",
     "traceback": [
      "\u001b[0;31m---------------------------------------------------------------------------\u001b[0m",
      "\u001b[0;31mNameError\u001b[0m                                 Traceback (most recent call last)",
      "Cell \u001b[0;32mIn [49], line 1\u001b[0m\n\u001b[0;32m----> 1\u001b[0m \u001b[43mprestige\u001b[49m\u001b[38;5;241m.\u001b[39mhead()\n",
      "\u001b[0;31mNameError\u001b[0m: name 'prestige' is not defined"
     ]
    }
   ],
   "source": [
    "prestige.head()"
   ]
  },
  {
   "cell_type": "code",
   "execution_count": 50,
   "id": "886285fb",
   "metadata": {
    "execution": {
     "iopub.execute_input": "2023-05-10T01:12:11.196874Z",
     "iopub.status.busy": "2023-05-10T01:12:11.196791Z",
     "iopub.status.idle": "2023-05-10T01:12:11.203173Z",
     "shell.execute_reply": "2023-05-10T01:12:11.202903Z"
    }
   },
   "outputs": [
    {
     "ename": "NameError",
     "evalue": "name 'prestige' is not defined",
     "output_type": "error",
     "traceback": [
      "\u001b[0;31m---------------------------------------------------------------------------\u001b[0m",
      "\u001b[0;31mNameError\u001b[0m                                 Traceback (most recent call last)",
      "Cell \u001b[0;32mIn [50], line 1\u001b[0m\n\u001b[0;32m----> 1\u001b[0m \u001b[43mprestige\u001b[49m\u001b[38;5;241m.\u001b[39mhead()\n",
      "\u001b[0;31mNameError\u001b[0m: name 'prestige' is not defined"
     ]
    }
   ],
   "source": [
    "prestige.head()"
   ]
  },
  {
   "cell_type": "code",
   "execution_count": 51,
   "id": "aa0496ea",
   "metadata": {
    "execution": {
     "iopub.execute_input": "2023-05-10T01:12:11.204547Z",
     "iopub.status.busy": "2023-05-10T01:12:11.204466Z",
     "iopub.status.idle": "2023-05-10T01:12:11.211328Z",
     "shell.execute_reply": "2023-05-10T01:12:11.211050Z"
    }
   },
   "outputs": [
    {
     "ename": "NameError",
     "evalue": "name 'prestige_model' is not defined",
     "output_type": "error",
     "traceback": [
      "\u001b[0;31m---------------------------------------------------------------------------\u001b[0m",
      "\u001b[0;31mNameError\u001b[0m                                 Traceback (most recent call last)",
      "Cell \u001b[0;32mIn [51], line 1\u001b[0m\n\u001b[0;32m----> 1\u001b[0m \u001b[38;5;28mprint\u001b[39m(\u001b[43mprestige_model\u001b[49m\u001b[38;5;241m.\u001b[39msummary())\n",
      "\u001b[0;31mNameError\u001b[0m: name 'prestige_model' is not defined"
     ]
    }
   ],
   "source": [
    "print(prestige_model.summary())"
   ]
  },
  {
   "cell_type": "code",
   "execution_count": 52,
   "id": "410e2c48",
   "metadata": {
    "execution": {
     "iopub.execute_input": "2023-05-10T01:12:11.212859Z",
     "iopub.status.busy": "2023-05-10T01:12:11.212667Z",
     "iopub.status.idle": "2023-05-10T01:12:11.219392Z",
     "shell.execute_reply": "2023-05-10T01:12:11.219157Z"
    }
   },
   "outputs": [
    {
     "ename": "NameError",
     "evalue": "name 'prestige' is not defined",
     "output_type": "error",
     "traceback": [
      "\u001b[0;31m---------------------------------------------------------------------------\u001b[0m",
      "\u001b[0;31mNameError\u001b[0m                                 Traceback (most recent call last)",
      "Cell \u001b[0;32mIn [52], line 1\u001b[0m\n\u001b[0;32m----> 1\u001b[0m prestige_model \u001b[38;5;241m=\u001b[39m ols(\u001b[38;5;124m\"\u001b[39m\u001b[38;5;124mprestige ~ income + education\u001b[39m\u001b[38;5;124m\"\u001b[39m, data\u001b[38;5;241m=\u001b[39m\u001b[43mprestige\u001b[49m)\u001b[38;5;241m.\u001b[39mfit()\n",
      "\u001b[0;31mNameError\u001b[0m: name 'prestige' is not defined"
     ]
    }
   ],
   "source": [
    "prestige_model = ols(\"prestige ~ income + education\", data=prestige).fit()"
   ]
  },
  {
   "cell_type": "code",
   "execution_count": 53,
   "id": "dabd99c1",
   "metadata": {
    "execution": {
     "iopub.execute_input": "2023-05-10T01:12:11.220862Z",
     "iopub.status.busy": "2023-05-10T01:12:11.220778Z",
     "iopub.status.idle": "2023-05-10T01:12:11.227446Z",
     "shell.execute_reply": "2023-05-10T01:12:11.227197Z"
    }
   },
   "outputs": [
    {
     "ename": "NameError",
     "evalue": "name 'prestige' is not defined",
     "output_type": "error",
     "traceback": [
      "\u001b[0;31m---------------------------------------------------------------------------\u001b[0m",
      "\u001b[0;31mNameError\u001b[0m                                 Traceback (most recent call last)",
      "Cell \u001b[0;32mIn [53], line 1\u001b[0m\n\u001b[0;32m----> 1\u001b[0m \u001b[43mprestige\u001b[49m\u001b[38;5;241m.\u001b[39mhead()\n",
      "\u001b[0;31mNameError\u001b[0m: name 'prestige' is not defined"
     ]
    }
   ],
   "source": [
    "prestige.head()"
   ]
  },
  {
   "cell_type": "code",
   "execution_count": 54,
   "id": "18c90de3",
   "metadata": {
    "execution": {
     "iopub.execute_input": "2023-05-10T01:12:11.228986Z",
     "iopub.status.busy": "2023-05-10T01:12:11.228882Z",
     "iopub.status.idle": "2023-05-10T01:12:11.230812Z",
     "shell.execute_reply": "2023-05-10T01:12:11.230547Z"
    }
   },
   "outputs": [],
   "source": [
    "from statsmodels.compat import lzip\n",
    "import numpy as np\n",
    "import matplotlib.pyplot as plt\n",
    "import statsmodels.api as sm\n",
    "from statsmodels.formula.api import ols"
   ]
  },
  {
   "cell_type": "code",
   "execution_count": 55,
   "id": "9f8769df",
   "metadata": {
    "execution": {
     "iopub.execute_input": "2023-05-10T01:12:11.232996Z",
     "iopub.status.busy": "2023-05-10T01:12:11.232887Z",
     "iopub.status.idle": "2023-05-10T01:12:11.234630Z",
     "shell.execute_reply": "2023-05-10T01:12:11.234402Z"
    }
   },
   "outputs": [],
   "source": [
    "plt.rc(\"figure\", figsize=(16, 8))\n",
    "plt.rc(\"font\", size=14)"
   ]
  },
  {
   "cell_type": "code",
   "execution_count": 56,
   "id": "71a9b74e",
   "metadata": {
    "execution": {
     "iopub.execute_input": "2023-05-10T01:12:11.236007Z",
     "iopub.status.busy": "2023-05-10T01:12:11.235899Z",
     "iopub.status.idle": "2023-05-10T01:12:11.242311Z",
     "shell.execute_reply": "2023-05-10T01:12:11.242059Z"
    }
   },
   "outputs": [
    {
     "ename": "NameError",
     "evalue": "name 'prestige' is not defined",
     "output_type": "error",
     "traceback": [
      "\u001b[0;31m---------------------------------------------------------------------------\u001b[0m",
      "\u001b[0;31mNameError\u001b[0m                                 Traceback (most recent call last)",
      "Cell \u001b[0;32mIn [56], line 1\u001b[0m\n\u001b[0;32m----> 1\u001b[0m \u001b[43mprestige\u001b[49m\u001b[38;5;241m.\u001b[39mhead()\n",
      "\u001b[0;31mNameError\u001b[0m: name 'prestige' is not defined"
     ]
    }
   ],
   "source": [
    "prestige.head()"
   ]
  },
  {
   "cell_type": "code",
   "execution_count": 57,
   "id": "6a2dbfb7",
   "metadata": {
    "execution": {
     "iopub.execute_input": "2023-05-10T01:12:11.243712Z",
     "iopub.status.busy": "2023-05-10T01:12:11.243631Z",
     "iopub.status.idle": "2023-05-10T01:12:11.250296Z",
     "shell.execute_reply": "2023-05-10T01:12:11.250028Z"
    }
   },
   "outputs": [
    {
     "ename": "NameError",
     "evalue": "name 'prestige' is not defined",
     "output_type": "error",
     "traceback": [
      "\u001b[0;31m---------------------------------------------------------------------------\u001b[0m",
      "\u001b[0;31mNameError\u001b[0m                                 Traceback (most recent call last)",
      "Cell \u001b[0;32mIn [57], line 1\u001b[0m\n\u001b[0;32m----> 1\u001b[0m \u001b[43mprestige\u001b[49m\u001b[38;5;241m.\u001b[39mhead()\n",
      "\u001b[0;31mNameError\u001b[0m: name 'prestige' is not defined"
     ]
    }
   ],
   "source": [
    "prestige.head()"
   ]
  },
  {
   "cell_type": "markdown",
   "id": "88299fb5",
   "metadata": {},
   "source": [
    "https://www.statsmodels.org/dev/examples/notebooks/generated/regression_plots.html"
   ]
  },
  {
   "cell_type": "markdown",
   "id": "c923a926",
   "metadata": {},
   "source": [
    "dta = pd.read_csv(\"http://www.stat.ufl.edu/~aa/social/csv_files/statewide-crime-2.csv\")\n",
    "dta = dta.set_index(\"State\", inplace=True).dropna()\n",
    "dta.rename(columns={\"VR\" : \"crime\",\n",
    "                   \"MR\" : \"murder\",\n",
    "                   \"M\"  : \"pctmetro\",\n",
    "                   \"W\"  : \"pctwhite\",\n",
    "                   \"H\"  : \"pcths\",\n",
    "                   \"P\"  : \"poverty\",\n",
    "                   \"S\"  : \"single\"\n",
    "                   }, inplace=True)\n",
    "\n",
    "crime_model = ols(\"murder ~ pctmetro + poverty + pcths + single\", data=dta).fit()"
   ]
  },
  {
   "cell_type": "code",
   "execution_count": 58,
   "id": "48eb559b",
   "metadata": {
    "execution": {
     "iopub.execute_input": "2023-05-10T01:12:11.251645Z",
     "iopub.status.busy": "2023-05-10T01:12:11.251569Z",
     "iopub.status.idle": "2023-05-10T01:12:11.255991Z",
     "shell.execute_reply": "2023-05-10T01:12:11.255746Z"
    }
   },
   "outputs": [],
   "source": [
    "dta = sm.datasets.statecrime.load_pandas().data"
   ]
  },
  {
   "cell_type": "code",
   "execution_count": 59,
   "id": "8e433447",
   "metadata": {
    "execution": {
     "iopub.execute_input": "2023-05-10T01:12:11.257408Z",
     "iopub.status.busy": "2023-05-10T01:12:11.257329Z",
     "iopub.status.idle": "2023-05-10T01:12:11.265511Z",
     "shell.execute_reply": "2023-05-10T01:12:11.265271Z"
    }
   },
   "outputs": [
    {
     "name": "stdout",
     "output_type": "stream",
     "text": [
      "                            OLS Regression Results                            \n",
      "==============================================================================\n",
      "Dep. Variable:                 murder   R-squared:                       0.813\n",
      "Model:                            OLS   Adj. R-squared:                  0.797\n",
      "Method:                 Least Squares   F-statistic:                     50.08\n",
      "Date:                Tue, 09 May 2023   Prob (F-statistic):           3.42e-16\n",
      "Time:                        21:12:11   Log-Likelihood:                -95.050\n",
      "No. Observations:                  51   AIC:                             200.1\n",
      "Df Residuals:                      46   BIC:                             209.8\n",
      "Df Model:                           4                                         \n",
      "Covariance Type:            nonrobust                                         \n",
      "==============================================================================\n",
      "                 coef    std err          t      P>|t|      [0.025      0.975]\n",
      "------------------------------------------------------------------------------\n",
      "Intercept    -44.1024     12.086     -3.649      0.001     -68.430     -19.774\n",
      "urban          0.0109      0.015      0.707      0.483      -0.020       0.042\n",
      "poverty        0.4121      0.140      2.939      0.005       0.130       0.694\n",
      "hs_grad        0.3059      0.117      2.611      0.012       0.070       0.542\n",
      "single         0.6374      0.070      9.065      0.000       0.496       0.779\n",
      "==============================================================================\n",
      "Omnibus:                        1.618   Durbin-Watson:                   2.507\n",
      "Prob(Omnibus):                  0.445   Jarque-Bera (JB):                0.831\n",
      "Skew:                          -0.220   Prob(JB):                        0.660\n",
      "Kurtosis:                       3.445   Cond. No.                     5.80e+03\n",
      "==============================================================================\n",
      "\n",
      "Notes:\n",
      "[1] Standard Errors assume that the covariance matrix of the errors is correctly specified.\n",
      "[2] The condition number is large, 5.8e+03. This might indicate that there are\n",
      "strong multicollinearity or other numerical problems.\n"
     ]
    }
   ],
   "source": [
    "crime_model = ols(\"murder ~ urban + poverty + hs_grad + single\", data=dta).fit()\n",
    "print(crime_model.summary())"
   ]
  },
  {
   "cell_type": "code",
   "execution_count": 60,
   "id": "59b27a08",
   "metadata": {
    "execution": {
     "iopub.execute_input": "2023-05-10T01:12:11.266795Z",
     "iopub.status.busy": "2023-05-10T01:12:11.266715Z",
     "iopub.status.idle": "2023-05-10T01:12:11.681944Z",
     "shell.execute_reply": "2023-05-10T01:12:11.681671Z"
    }
   },
   "outputs": [
    {
     "name": "stdout",
     "output_type": "stream",
     "text": [
      "eval_env: 1\n",
      "eval_env: 1\n",
      "eval_env: 1\n",
      "eval_env: 1\n",
      "eval_env: 1\n"
     ]
    },
    {
     "data": {
      "image/png": "[encoded data removed]",
      "text/plain": [
       "<Figure size 1600x800 with 5 Axes>"
      ]
     },
     "metadata": {},
     "output_type": "display_data"
    }
   ],
   "source": [
    "fig = sm.graphics.plot_partregress_grid(crime_model)\n",
    "fig.tight_layout(pad=1.0)"
   ]
  },
  {
   "cell_type": "markdown",
   "id": "44154f4c",
   "metadata": {},
   "source": [
    "LINEAR REGRESSION\n",
    "TOWARD DATA SCIENCE https://towardsdatascience.com/multiple-linear-regression-model-using-python-machine-learning-d00c78f1172a"
   ]
  },
  {
   "cell_type": "code",
   "execution_count": 61,
   "id": "e96b94c9",
   "metadata": {
    "execution": {
     "iopub.execute_input": "2023-05-10T01:12:11.683619Z",
     "iopub.status.busy": "2023-05-10T01:12:11.683515Z",
     "iopub.status.idle": "2023-05-10T01:12:11.685465Z",
     "shell.execute_reply": "2023-05-10T01:12:11.685237Z"
    }
   },
   "outputs": [],
   "source": [
    "# https://www.statsmodels.org/dev/examples/notebooks/generated/plots_boxplots.html\n",
    "get_ipython().run_line_magic('matplotlib', 'inline')"
   ]
  },
  {
   "cell_type": "code",
   "execution_count": 62,
   "id": "cecedd68",
   "metadata": {
    "execution": {
     "iopub.execute_input": "2023-05-10T01:12:11.686813Z",
     "iopub.status.busy": "2023-05-10T01:12:11.686708Z",
     "iopub.status.idle": "2023-05-10T01:12:11.688352Z",
     "shell.execute_reply": "2023-05-10T01:12:11.688127Z"
    }
   },
   "outputs": [],
   "source": [
    "import numpy as np\n",
    "import matplotlib.pyplot as plt\n",
    "import statsmodels.api as sm"
   ]
  },
  {
   "cell_type": "code",
   "execution_count": 63,
   "id": "337e75e2",
   "metadata": {
    "execution": {
     "iopub.execute_input": "2023-05-10T01:12:11.689726Z",
     "iopub.status.busy": "2023-05-10T01:12:11.689641Z",
     "iopub.status.idle": "2023-05-10T01:12:11.698331Z",
     "shell.execute_reply": "2023-05-10T01:12:11.698043Z"
    }
   },
   "outputs": [
    {
     "ename": "NameError",
     "evalue": "name 'party_ID' is not defined",
     "output_type": "error",
     "traceback": [
      "\u001b[0;31m---------------------------------------------------------------------------\u001b[0m",
      "\u001b[0;31mNameError\u001b[0m                                 Traceback (most recent call last)",
      "Cell \u001b[0;32mIn [63], line 5\u001b[0m\n\u001b[1;32m      3\u001b[0m plt\u001b[38;5;241m.\u001b[39mrcParams[\u001b[38;5;124m\"\u001b[39m\u001b[38;5;124mfigure.subplot.bottom\u001b[39m\u001b[38;5;124m\"\u001b[39m] \u001b[38;5;241m=\u001b[39m \u001b[38;5;241m0.23\u001b[39m  \u001b[38;5;66;03m# keep labels visible\u001b[39;00m\n\u001b[1;32m      4\u001b[0m plt\u001b[38;5;241m.\u001b[39mrcParams[\u001b[38;5;124m\"\u001b[39m\u001b[38;5;124mfigure.figsize\u001b[39m\u001b[38;5;124m\"\u001b[39m] \u001b[38;5;241m=\u001b[39m (\u001b[38;5;241m10.0\u001b[39m, \u001b[38;5;241m8.0\u001b[39m)  \u001b[38;5;66;03m# make plot larger in notebook\u001b[39;00m\n\u001b[0;32m----> 5\u001b[0m age \u001b[38;5;241m=\u001b[39m [data\u001b[38;5;241m.\u001b[39mexog[\u001b[38;5;124m\"\u001b[39m\u001b[38;5;124mage\u001b[39m\u001b[38;5;124m\"\u001b[39m][data\u001b[38;5;241m.\u001b[39mendog \u001b[38;5;241m==\u001b[39m \u001b[38;5;28mid\u001b[39m] \u001b[38;5;28;01mfor\u001b[39;00m \u001b[38;5;28mid\u001b[39m \u001b[38;5;129;01min\u001b[39;00m \u001b[43mparty_ID\u001b[49m]\n\u001b[1;32m      6\u001b[0m fig \u001b[38;5;241m=\u001b[39m plt\u001b[38;5;241m.\u001b[39mfigure()\n\u001b[1;32m      7\u001b[0m ax \u001b[38;5;241m=\u001b[39m fig\u001b[38;5;241m.\u001b[39madd_subplot(\u001b[38;5;241m111\u001b[39m)\n",
      "\u001b[0;31mNameError\u001b[0m: name 'party_ID' is not defined"
     ]
    }
   ],
   "source": [
    "# STAT Models\n",
    "# https://www.statsmodels.org/dev/examples/notebooks/generated/plots_boxplots.html\n",
    "plt.rcParams[\"figure.subplot.bottom\"] = 0.23  # keep labels visible\n",
    "plt.rcParams[\"figure.figsize\"] = (10.0, 8.0)  # make plot larger in notebook\n",
    "age = [data.exog[\"age\"][data.endog == id] for id in party_ID]\n",
    "fig = plt.figure()\n",
    "ax = fig.add_subplot(111)\n",
    "plot_opts = {\n",
    "    \"cutoff_val\": 5,\n",
    "    \"cutoff_type\": \"abs\",\n",
    "    \"label_fontsize\": \"small\",\n",
    "    \"label_rotation\": 30,\n",
    "}\n",
    "sm.graphics.beanplot(age, ax=ax, labels=labels, plot_opts=plot_opts)\n",
    "ax.set_xlabel(\"Party identification of respondent.\")\n",
    "ax.set_ylabel(\"Age\")\n",
    "# plt.show()"
   ]
  },
  {
   "cell_type": "code",
   "execution_count": 64,
   "id": "ad57e1e9",
   "metadata": {
    "execution": {
     "iopub.execute_input": "2023-05-10T01:12:11.699700Z",
     "iopub.status.busy": "2023-05-10T01:12:11.699620Z",
     "iopub.status.idle": "2023-05-10T01:12:11.704617Z",
     "shell.execute_reply": "2023-05-10T01:12:11.704373Z"
    }
   },
   "outputs": [],
   "source": [
    "get_ipython().run_cell_magic('capture', '', \"%logstop\\n%logstart -t -r -q ipython_command_log.py global\\n\\n#- IRONHACKS RESEARCH TRACKING CODE\\n#----------------------------------\\n# The following code is used to help our research team understand how you \\n# our notebook environment. We do not collect any personal information with\\n# the following code, it is used to measure when and how often you work on\\n# your submission files.\\n\\nimport os\\nfrom datetime import datetime\\nimport IPython.core.history as history\\n\\nha = history.HistoryAccessor()\\nha_tail = ha.get_tail(1)\\nha_cmd = next(ha_tail)\\nsession_id = str(ha_cmd[0])\\ncommand_id = str(ha_cmd[1])\\ntimestamp = datetime.utcnow().isoformat()\\nhistory_line = ','.join([session_id, command_id, timestamp]) + '\\\\n'\\nlogfile = open(os.environ['HOME']+'/ipython_session_log.csv', 'a')\\nlogfile.write(history_line)\\nlogfile.close()\\n\")"
   ]
  },
  {
   "cell_type": "markdown",
   "id": "cc0c9a87",
   "metadata": {},
   "source": [
    "SUBMISSION 11 Milestone\n",
    "The task was to predict the total_claims for week 42\n",
    "For each week there is a distinct list of uu_ids with unique uu_id in the table called prediction_list\n",
    "Predict a value for each of those uu_ids\n",
    "The list is changing over time (given the streaming nature of the data)"
   ]
  },
  {
   "cell_type": "code",
   "execution_count": 65,
   "id": "96e3511a",
   "metadata": {
    "execution": {
     "iopub.execute_input": "2023-05-10T01:12:11.706082Z",
     "iopub.status.busy": "2023-05-10T01:12:11.705973Z",
     "iopub.status.idle": "2023-05-10T01:12:13.772921Z",
     "shell.execute_reply": "2023-05-10T01:12:13.772117Z"
    }
   },
   "outputs": [],
   "source": [
    "get_ipython().run_cell_magic('capture', '', \"\\n# INSTALL ADDITIONAL LIBRARIES IF REQUIRED\\n# ------------------------------------------\\n# This is normally not required. The hub environment comes preinstaled with \\n# many packages that you can already use without setup. In case there is some\\n# other library you would like to use that isn't on the list you run this command\\n# once to install them.  If it is already installed this command has no effect.\\n\\n!python3 -m pip install pandas\\n!python3 -m pip install [ensorflow]\\n!python3 -m pip install [Keras]\\n!python3 -m pip install [Pytorch]\\n\")"
   ]
  },
  {
   "cell_type": "markdown",
   "id": "146c808a",
   "metadata": {},
   "source": [
    "INSTALL PACKAGES"
   ]
  },
  {
   "cell_type": "code",
   "execution_count": 66,
   "id": "1d994166",
   "metadata": {
    "execution": {
     "iopub.execute_input": "2023-05-10T01:12:13.776202Z",
     "iopub.status.busy": "2023-05-10T01:12:13.775955Z",
     "iopub.status.idle": "2023-05-10T01:12:16.397121Z",
     "shell.execute_reply": "2023-05-10T01:12:16.396465Z"
    }
   },
   "outputs": [
    {
     "name": "stdout",
     "output_type": "stream",
     "text": [
      "\u001b[33mWARNING: Ignoring invalid distribution -umpy (/opt/anaconda3/lib/python3.9/site-packages)\u001b[0m\r\n"
     ]
    },
    {
     "name": "stdout",
     "output_type": "stream",
     "text": [
      "\u001b[33mWARNING: Ignoring invalid distribution -umpy (/opt/anaconda3/lib/python3.9/site-packages)\u001b[0m\r\n",
      "Requirement already satisfied: db-dtypes in /opt/anaconda3/lib/python3.9/site-packages (1.0.5)\r\n",
      "Requirement already satisfied: packaging>=17.0 in /opt/anaconda3/lib/python3.9/site-packages (from db-dtypes) (21.3)\r\n",
      "Requirement already satisfied: pyarrow>=3.0.0 in /opt/anaconda3/lib/python3.9/site-packages (from db-dtypes) (10.0.1)\r\n",
      "Requirement already satisfied: pandas<2.0dev,>=0.24.2 in /opt/anaconda3/lib/python3.9/site-packages (from db-dtypes) (1.5.3)\r\n",
      "Requirement already satisfied: numpy<2.0dev,>=1.16.6 in /opt/anaconda3/lib/python3.9/site-packages (from db-dtypes) (1.22.4)\r\n",
      "Requirement already satisfied: pyparsing!=3.0.5,>=2.0.2 in /opt/anaconda3/lib/python3.9/site-packages (from packaging>=17.0->db-dtypes) (3.0.4)\r\n",
      "Requirement already satisfied: python-dateutil>=2.8.1 in /opt/anaconda3/lib/python3.9/site-packages (from pandas<2.0dev,>=0.24.2->db-dtypes) (2.8.2)\r\n",
      "Requirement already satisfied: pytz>=2020.1 in /opt/anaconda3/lib/python3.9/site-packages (from pandas<2.0dev,>=0.24.2->db-dtypes) (2021.3)\r\n",
      "Requirement already satisfied: six>=1.5 in /opt/anaconda3/lib/python3.9/site-packages (from python-dateutil>=2.8.1->pandas<2.0dev,>=0.24.2->db-dtypes) (1.16.0)\r\n",
      "\u001b[33mWARNING: Ignoring invalid distribution -umpy (/opt/anaconda3/lib/python3.9/site-packages)\u001b[0m\r\n"
     ]
    },
    {
     "name": "stdout",
     "output_type": "stream",
     "text": [
      "\u001b[33mWARNING: Ignoring invalid distribution -umpy (/opt/anaconda3/lib/python3.9/site-packages)\u001b[0m\r\n",
      "\u001b[33mWARNING: Ignoring invalid distribution -umpy (/opt/anaconda3/lib/python3.9/site-packages)\u001b[0m\r\n",
      "\u001b[33mWARNING: Ignoring invalid distribution -umpy (/opt/anaconda3/lib/python3.9/site-packages)\u001b[0m\r\n"
     ]
    }
   ],
   "source": [
    "get_ipython().system('pip install db-dtypes')"
   ]
  },
  {
   "cell_type": "markdown",
   "id": "c36fd7fd",
   "metadata": {},
   "source": [
    "IMPORT THE LIBRARIES YOU WILL USE\n",
    "------------------------------------------\n",
    "You only need to import packages one time per notebook session. To keep your\n",
    "notebook clean and organized you can handle all imports at the top of your file.\n",
    "The following are included for example purposed, feel free to modify or delete \n",
    "anything in this section."
   ]
  },
  {
   "cell_type": "code",
   "execution_count": 67,
   "id": "c29e7db7",
   "metadata": {
    "execution": {
     "iopub.execute_input": "2023-05-10T01:12:16.400282Z",
     "iopub.status.busy": "2023-05-10T01:12:16.400033Z",
     "iopub.status.idle": "2023-05-10T01:12:16.403695Z",
     "shell.execute_reply": "2023-05-10T01:12:16.403277Z"
    }
   },
   "outputs": [],
   "source": [
    "import csv\n",
    "import pandas as pd\n",
    "import numpy as np\n",
    "from google.cloud import bigquery\n",
    "from google.oauth2 import service_account\n",
    "from google.cloud.bigquery import magics\n",
    "import statsmodels.api as sm\n",
    "import math"
   ]
  },
  {
   "cell_type": "markdown",
   "id": "31f8fd65",
   "metadata": {},
   "source": [
    "IMPORT THE DATASET"
   ]
  },
  {
   "cell_type": "code",
   "execution_count": 68,
   "id": "8679c58e",
   "metadata": {
    "execution": {
     "iopub.execute_input": "2023-05-10T01:12:16.405953Z",
     "iopub.status.busy": "2023-05-10T01:12:16.405793Z",
     "iopub.status.idle": "2023-05-10T01:12:16.409303Z",
     "shell.execute_reply": "2023-05-10T01:12:16.408922Z"
    }
   },
   "outputs": [],
   "source": [
    "import pandas as pd\n",
    "import numpy as np\n",
    "import matplotlib.pyplot as plt\n",
    "import seaborn as sns\n",
    "get_ipython().run_line_magic('matplotlib', 'inline')"
   ]
  },
  {
   "cell_type": "code",
   "execution_count": 69,
   "id": "e96eed70",
   "metadata": {
    "execution": {
     "iopub.execute_input": "2023-05-10T01:12:16.411365Z",
     "iopub.status.busy": "2023-05-10T01:12:16.411187Z",
     "iopub.status.idle": "2023-05-10T01:12:16.413698Z",
     "shell.execute_reply": "2023-05-10T01:12:16.413296Z"
    }
   },
   "outputs": [],
   "source": [
    "import os\n",
    "from google.cloud import bigquery\n",
    "from google.oauth2 import service_account\n",
    "from google.cloud.bigquery import magics"
   ]
  },
  {
   "cell_type": "markdown",
   "id": "e52f6995",
   "metadata": {},
   "source": [
    "IMPORT IRONHACKS DATA"
   ]
  },
  {
   "cell_type": "code",
   "execution_count": 70,
   "id": "3aaf18fe",
   "metadata": {
    "execution": {
     "iopub.execute_input": "2023-05-10T01:12:16.415660Z",
     "iopub.status.busy": "2023-05-10T01:12:16.415500Z",
     "iopub.status.idle": "2023-05-10T01:12:16.417533Z",
     "shell.execute_reply": "2023-05-10T01:12:16.417190Z"
    }
   },
   "outputs": [],
   "source": [
    "import os\n",
    "BIGQUERY_PROJECT = 'ironhacks-data'"
   ]
  },
  {
   "cell_type": "code",
   "execution_count": 71,
   "id": "feebf437",
   "metadata": {
    "execution": {
     "iopub.execute_input": "2023-05-10T01:12:16.419394Z",
     "iopub.status.busy": "2023-05-10T01:12:16.419232Z",
     "iopub.status.idle": "2023-05-10T01:12:16.428380Z",
     "shell.execute_reply": "2023-05-10T01:12:16.428045Z"
    }
   },
   "outputs": [
    {
     "data": {
      "text/plain": [
       "<google.cloud.bigquery.client.Client at 0x28766ef10>"
      ]
     },
     "execution_count": 71,
     "metadata": {},
     "output_type": "execute_result"
    }
   ],
   "source": [
    "bigquery.Client(project=BIGQUERY_PROJECT)"
   ]
  },
  {
   "cell_type": "markdown",
   "id": "b4b2c1d3",
   "metadata": {},
   "source": [
    "IMPORT THE LINEAR REGRESSION MODEL"
   ]
  },
  {
   "cell_type": "code",
   "execution_count": 72,
   "id": "755949a4",
   "metadata": {
    "execution": {
     "iopub.execute_input": "2023-05-10T01:12:16.430239Z",
     "iopub.status.busy": "2023-05-10T01:12:16.430095Z",
     "iopub.status.idle": "2023-05-10T01:12:16.432791Z",
     "shell.execute_reply": "2023-05-10T01:12:16.432495Z"
    }
   },
   "outputs": [],
   "source": [
    "import csv\n",
    "import pandas as pd\n",
    "import numpy as np\n",
    "from google.cloud import bigquery\n",
    "from google.oauth2 import service_account\n",
    "from google.cloud.bigquery import magics\n",
    "from sklearn.model_selection import train_test_split \n",
    "from sklearn.linear_model import LinearRegression\n",
    "from sklearn import metrics\n",
    "import matplotlib.pyplot as plt  "
   ]
  },
  {
   "cell_type": "markdown",
   "id": "77874dab",
   "metadata": {},
   "source": [
    "IMPORT PACKAGE THE LINEAR REGRESSION MODEL- SCIKIT-LEARN \n",
    "SOURCE: https://realpython.com/linear-regression-in-python/#simple-linear-regression-with-scikit-learn\n",
    "NUMPY IS A FUNDAMENTAL PUYTHON SCIENTIFIC PACKAGE THAT ALLOWS MANY HIGH PEROFORMATION OPERATION SON A SINGLE AND MULTI DIMENSIONAL ARRAYS.\n",
    "SOURCE: https://realpython.com/linear-regression-in-python/#python-packages-for-linear-regression"
   ]
  },
  {
   "cell_type": "code",
   "execution_count": 73,
   "id": "b3d0fad7",
   "metadata": {
    "execution": {
     "iopub.execute_input": "2023-05-10T01:12:16.434381Z",
     "iopub.status.busy": "2023-05-10T01:12:16.434251Z",
     "iopub.status.idle": "2023-05-10T01:12:16.436156Z",
     "shell.execute_reply": "2023-05-10T01:12:16.435851Z"
    }
   },
   "outputs": [],
   "source": [
    "import numpy as np\n",
    "from sklearn.linear_model import LinearRegression"
   ]
  },
  {
   "cell_type": "code",
   "execution_count": 74,
   "id": "136ea00c",
   "metadata": {
    "execution": {
     "iopub.execute_input": "2023-05-10T01:12:16.437794Z",
     "iopub.status.busy": "2023-05-10T01:12:16.437678Z",
     "iopub.status.idle": "2023-05-10T01:12:16.439838Z",
     "shell.execute_reply": "2023-05-10T01:12:16.439572Z"
    },
    "lines_to_next_cell": 1
   },
   "outputs": [],
   "source": [
    "# DEFINING THE DATA; INPUTS (REGRESSOR.X) AND OUTPUTS (RESPONSE.Y)\n",
    "x = np.array([5, 15, 25, 35, 45, 55]).reshape((-1, 1))\n",
    "y = np.array([5, 20, 14, 32, 22, 38])"
   ]
  },
  {
   "cell_type": "markdown",
   "id": "6ac8b385",
   "metadata": {},
   "source": [
    "DEFINE YOUR CLASSES AND FUNCTIONS \n",
    "-----------------------------------\n",
    "This is not required, but is helpful in keeping your notebook organized. \n",
    "You can use the following cell or several cells to define your functions\n",
    "and classes to keep them separate from your analysis or results code.\n",
    "In general it useful to define your methods in a separate cell from where\n",
    "it is run."
   ]
  },
  {
   "cell_type": "code",
   "execution_count": 75,
   "id": "0db82833",
   "metadata": {
    "execution": {
     "iopub.execute_input": "2023-05-10T01:12:16.441336Z",
     "iopub.status.busy": "2023-05-10T01:12:16.441221Z",
     "iopub.status.idle": "2023-05-10T01:12:16.443056Z",
     "shell.execute_reply": "2023-05-10T01:12:16.442793Z"
    },
    "lines_to_next_cell": 1
   },
   "outputs": [],
   "source": [
    "def example_function():\n",
    "    print('Hello World')"
   ]
  },
  {
   "cell_type": "code",
   "execution_count": 76,
   "id": "873b0eb4",
   "metadata": {
    "execution": {
     "iopub.execute_input": "2023-05-10T01:12:16.444550Z",
     "iopub.status.busy": "2023-05-10T01:12:16.444440Z",
     "iopub.status.idle": "2023-05-10T01:12:16.446204Z",
     "shell.execute_reply": "2023-05-10T01:12:16.445947Z"
    }
   },
   "outputs": [],
   "source": [
    "# CREATE A LINEAR REGRESSION MODEL\n",
    "model = LinearRegression()"
   ]
  },
  {
   "cell_type": "markdown",
   "id": "b656ee2c",
   "metadata": {},
   "source": [
    "START USING A MODEL - .fit() fits the model\n",
    "SOURCE: REAL PYTHON - https://realpython.com/linear-regression-in-python/#simple-linear-regression-with-scikit-learn"
   ]
  },
  {
   "cell_type": "code",
   "execution_count": 77,
   "id": "d04d5826",
   "metadata": {
    "execution": {
     "iopub.execute_input": "2023-05-10T01:12:16.447617Z",
     "iopub.status.busy": "2023-05-10T01:12:16.447512Z",
     "iopub.status.idle": "2023-05-10T01:12:16.450530Z",
     "shell.execute_reply": "2023-05-10T01:12:16.450264Z"
    }
   },
   "outputs": [
    {
     "data": {
      "text/plain": [
       "sklearn.linear_model._base.LinearRegression"
      ]
     },
     "execution_count": 77,
     "metadata": {},
     "output_type": "execute_result"
    }
   ],
   "source": [
    "model.fit(x,y)\n",
    "LinearRegression"
   ]
  },
  {
   "cell_type": "code",
   "execution_count": 78,
   "id": "a13c5821",
   "metadata": {
    "execution": {
     "iopub.execute_input": "2023-05-10T01:12:16.452012Z",
     "iopub.status.busy": "2023-05-10T01:12:16.451922Z",
     "iopub.status.idle": "2023-05-10T01:12:16.454144Z",
     "shell.execute_reply": "2023-05-10T01:12:16.453895Z"
    }
   },
   "outputs": [
    {
     "name": "stdout",
     "output_type": "stream",
     "text": [
      "coefficient of determination: 0.715875613747954\n"
     ]
    }
   ],
   "source": [
    "# GET RESULTS - NOW THAT THE MODEL HAS BEEN FITTED; LET SEE IF IT WORKS!\n",
    "r_sq = model.score(x, y)\n",
    "print(f\"coefficient of determination: {r_sq}\")"
   ]
  },
  {
   "cell_type": "markdown",
   "id": "2345a9ff",
   "metadata": {},
   "source": [
    "THE RETURN VALUE SHOULD BE R2"
   ]
  },
  {
   "cell_type": "markdown",
   "id": "f8dd739b",
   "metadata": {},
   "source": [
    "DETERMIINE HOW TO GET b0 and b1 (scikit-learn)\n",
    "intercept and coefficient are estimated values"
   ]
  },
  {
   "cell_type": "code",
   "execution_count": 79,
   "id": "b292d05a",
   "metadata": {
    "execution": {
     "iopub.execute_input": "2023-05-10T01:12:16.455522Z",
     "iopub.status.busy": "2023-05-10T01:12:16.455430Z",
     "iopub.status.idle": "2023-05-10T01:12:16.457803Z",
     "shell.execute_reply": "2023-05-10T01:12:16.457553Z"
    }
   },
   "outputs": [
    {
     "name": "stdout",
     "output_type": "stream",
     "text": [
      "intercept: [5.63333333]\n"
     ]
    }
   ],
   "source": [
    "new_model = LinearRegression().fit(x,y.reshape((-1,1)))\n",
    "print(f\"intercept: {new_model.intercept_}\")"
   ]
  },
  {
   "cell_type": "code",
   "execution_count": 80,
   "id": "a779313c",
   "metadata": {
    "execution": {
     "iopub.execute_input": "2023-05-10T01:12:16.459147Z",
     "iopub.status.busy": "2023-05-10T01:12:16.459068Z",
     "iopub.status.idle": "2023-05-10T01:12:16.460864Z",
     "shell.execute_reply": "2023-05-10T01:12:16.460623Z"
    }
   },
   "outputs": [
    {
     "name": "stdout",
     "output_type": "stream",
     "text": [
      "slope: [[0.54]]\n"
     ]
    }
   ],
   "source": [
    "# DETERMIINE HOW TO GET b0 and b1 (scikit-learn)\n",
    "# intercept and coefficient are estimated values\n",
    "print(f\"slope: {new_model.coef_}\")"
   ]
  },
  {
   "cell_type": "code",
   "execution_count": 81,
   "id": "4a546ac0",
   "metadata": {
    "execution": {
     "iopub.execute_input": "2023-05-10T01:12:16.462170Z",
     "iopub.status.busy": "2023-05-10T01:12:16.462089Z",
     "iopub.status.idle": "2023-05-10T01:12:16.463935Z",
     "shell.execute_reply": "2023-05-10T01:12:16.463700Z"
    }
   },
   "outputs": [
    {
     "name": "stdout",
     "output_type": "stream",
     "text": [
      "predicted response:\n",
      "[ 8.33333333 13.73333333 19.13333333 24.53333333 29.93333333 35.33333333]\n"
     ]
    }
   ],
   "source": [
    "# NOW THAT WE KNOW OUR MODEL IS WORKING; LET'S PREDICT A RESPONSE!\n",
    "y_pred = model.predict(x)\n",
    "print(f\"predicted response:\\n{y_pred}\")"
   ]
  },
  {
   "cell_type": "markdown",
   "id": "a7cfaadc",
   "metadata": {},
   "source": [
    "HERE'S ANOTHER WAY TO PREDICT THE RESPONSE\n",
    "THIS IS WERE EACH ELEMENT OF X WERE MULTIPLIED BY WITH THE MODEL COEFFICIENT"
   ]
  },
  {
   "cell_type": "code",
   "execution_count": 82,
   "id": "9e85efaf",
   "metadata": {
    "execution": {
     "iopub.execute_input": "2023-05-10T01:12:16.465254Z",
     "iopub.status.busy": "2023-05-10T01:12:16.465173Z",
     "iopub.status.idle": "2023-05-10T01:12:16.467053Z",
     "shell.execute_reply": "2023-05-10T01:12:16.466822Z"
    }
   },
   "outputs": [
    {
     "name": "stdout",
     "output_type": "stream",
     "text": [
      "predicted response:\n",
      "[[ 8.33333333]\n",
      " [13.73333333]\n",
      " [19.13333333]\n",
      " [24.53333333]\n",
      " [29.93333333]\n",
      " [35.33333333]]\n"
     ]
    }
   ],
   "source": [
    "y_pred = model.intercept_ + model.coef_ * x\n",
    "print(f\"predicted response:\\n{y_pred}\")"
   ]
  },
  {
   "cell_type": "markdown",
   "id": "f249505a",
   "metadata": {},
   "source": [
    "REGRESSION MODELS ARE TYPCIALLY USED FOR FORECASTS\n",
    "FITTED MODELS CAN BE USED TO CALCULATE THE OUTPUTS"
   ]
  },
  {
   "cell_type": "code",
   "execution_count": 83,
   "id": "59fcfae9",
   "metadata": {
    "execution": {
     "iopub.execute_input": "2023-05-10T01:12:16.468343Z",
     "iopub.status.busy": "2023-05-10T01:12:16.468263Z",
     "iopub.status.idle": "2023-05-10T01:12:16.470296Z",
     "shell.execute_reply": "2023-05-10T01:12:16.470049Z"
    }
   },
   "outputs": [
    {
     "data": {
      "text/plain": [
       "array([[0],\n",
       "       [1],\n",
       "       [2],\n",
       "       [3],\n",
       "       [4]])"
      ]
     },
     "execution_count": 83,
     "metadata": {},
     "output_type": "execute_result"
    }
   ],
   "source": [
    "x_new = np.arange(5). reshape((-1, 1))\n",
    "x_new"
   ]
  },
  {
   "cell_type": "code",
   "execution_count": 84,
   "id": "c68dab55",
   "metadata": {
    "execution": {
     "iopub.execute_input": "2023-05-10T01:12:16.471664Z",
     "iopub.status.busy": "2023-05-10T01:12:16.471584Z",
     "iopub.status.idle": "2023-05-10T01:12:16.473758Z",
     "shell.execute_reply": "2023-05-10T01:12:16.473512Z"
    }
   },
   "outputs": [
    {
     "data": {
      "text/plain": [
       "array([5.63333333, 6.17333333, 6.71333333, 7.25333333, 7.79333333])"
      ]
     },
     "execution_count": 84,
     "metadata": {},
     "output_type": "execute_result"
    }
   ],
   "source": [
    "# REGRESSION MODELS ARE TYPCIALLY USED FOR FORECASTS\n",
    "# FITTED MODELS CAN BE USED TO CALCULATE THE OUTPUTS\n",
    "y_new = model.predict(x_new)\n",
    "y_new"
   ]
  },
  {
   "cell_type": "markdown",
   "id": "ee9efe80",
   "metadata": {},
   "source": [
    "Obtain data using BigQuery"
   ]
  },
  {
   "cell_type": "code",
   "execution_count": 85,
   "id": "b25f38bf",
   "metadata": {
    "execution": {
     "iopub.execute_input": "2023-05-10T01:12:16.475109Z",
     "iopub.status.busy": "2023-05-10T01:12:16.475033Z",
     "iopub.status.idle": "2023-05-10T01:12:16.481915Z",
     "shell.execute_reply": "2023-05-10T01:12:16.481554Z"
    }
   },
   "outputs": [],
   "source": [
    "BIGQUERY_PROJECT = 'ironhacks-data'\n",
    "bigquery_client = bigquery.Client(project=BIGQUERY_PROJECT)"
   ]
  },
  {
   "cell_type": "code",
   "execution_count": 86,
   "id": "deccc94b",
   "metadata": {
    "execution": {
     "iopub.execute_input": "2023-05-10T01:12:16.483518Z",
     "iopub.status.busy": "2023-05-10T01:12:16.483432Z",
     "iopub.status.idle": "2023-05-10T01:12:16.485503Z",
     "shell.execute_reply": "2023-05-10T01:12:16.485266Z"
    }
   },
   "outputs": [],
   "source": [
    "query = \"\"\"\n",
    "SELECT\n",
    "x.*,\n",
    "y.average_wage\n",
    "FROM\n",
    "(SELECT\n",
    "*\n",
    "FROM `ironhacks-data.ironhacks_competition.unemployment_data`) x\n",
    "JOIN `ironhacks-data.ironhacks_competition.wage_data` y\n",
    "ON x.uu_id = y.uu_id\n",
    "\"\"\""
   ]
  },
  {
   "cell_type": "code",
   "execution_count": 87,
   "id": "1e664d1b",
   "metadata": {
    "execution": {
     "iopub.execute_input": "2023-05-10T01:12:16.486860Z",
     "iopub.status.busy": "2023-05-10T01:12:16.486778Z",
     "iopub.status.idle": "2023-05-10T01:12:18.315529Z",
     "shell.execute_reply": "2023-05-10T01:12:18.314590Z"
    }
   },
   "outputs": [],
   "source": [
    "query_job = bigquery_client.query(query)\n",
    "data = query_job.to_dataframe()"
   ]
  },
  {
   "cell_type": "code",
   "execution_count": 88,
   "id": "6b15de15",
   "metadata": {
    "execution": {
     "iopub.execute_input": "2023-05-10T01:12:18.320460Z",
     "iopub.status.busy": "2023-05-10T01:12:18.320055Z",
     "iopub.status.idle": "2023-05-10T01:12:18.324082Z",
     "shell.execute_reply": "2023-05-10T01:12:18.323259Z"
    }
   },
   "outputs": [],
   "source": [
    "query_pred = \"\"\"\n",
    "SELECT * FROM `ironhacks-data.ironhacks_competition.prediction_list`\n",
    "\"\"\""
   ]
  },
  {
   "cell_type": "code",
   "execution_count": 89,
   "id": "42919105",
   "metadata": {
    "execution": {
     "iopub.execute_input": "2023-05-10T01:12:18.327480Z",
     "iopub.status.busy": "2023-05-10T01:12:18.327185Z",
     "iopub.status.idle": "2023-05-10T01:12:19.997461Z",
     "shell.execute_reply": "2023-05-10T01:12:19.996299Z"
    }
   },
   "outputs": [],
   "source": [
    "query_job_pred = bigquery_client.query(query_pred)\n",
    "data_pred_query= query_job_pred.to_dataframe()"
   ]
  },
  {
   "cell_type": "code",
   "execution_count": 90,
   "id": "a374988c",
   "metadata": {
    "execution": {
     "iopub.execute_input": "2023-05-10T01:12:20.002030Z",
     "iopub.status.busy": "2023-05-10T01:12:20.001704Z",
     "iopub.status.idle": "2023-05-10T01:12:20.009188Z",
     "shell.execute_reply": "2023-05-10T01:12:20.008174Z"
    }
   },
   "outputs": [],
   "source": [
    "# START USING A MODEL - Same statement written differently\n",
    "model = LinearRegression().fit(x,y)"
   ]
  },
  {
   "cell_type": "code",
   "execution_count": 91,
   "id": "e6e48e51",
   "metadata": {
    "execution": {
     "iopub.execute_input": "2023-05-10T01:12:20.013193Z",
     "iopub.status.busy": "2023-05-10T01:12:20.012837Z",
     "iopub.status.idle": "2023-05-10T01:12:20.019164Z",
     "shell.execute_reply": "2023-05-10T01:12:20.018451Z"
    }
   },
   "outputs": [
    {
     "name": "stdout",
     "output_type": "stream",
     "text": [
      "coefficient of determination: 0.715875613747954\n"
     ]
    }
   ],
   "source": [
    "# GET RESULTS - NOW THAT THE MODEL HAS BEEN FITTED; LET SEE IF IT WORKS!\n",
    "r_sq = model.score(x, y)\n",
    "print(f\"coefficient of determination: {r_sq}\")"
   ]
  },
  {
   "cell_type": "markdown",
   "id": "7c71dc74",
   "metadata": {},
   "source": [
    "THE RETURN VALUE SHOULD BE R2"
   ]
  },
  {
   "cell_type": "code",
   "execution_count": 92,
   "id": "2a0bb4bb",
   "metadata": {
    "execution": {
     "iopub.execute_input": "2023-05-10T01:12:20.024383Z",
     "iopub.status.busy": "2023-05-10T01:12:20.023902Z",
     "iopub.status.idle": "2023-05-10T01:12:20.031020Z",
     "shell.execute_reply": "2023-05-10T01:12:20.030373Z"
    }
   },
   "outputs": [
    {
     "data": {
      "text/html": [
       "<style>#sk-container-id-2 {color: black;background-color: white;}#sk-container-id-2 pre{padding: 0;}#sk-container-id-2 div.sk-toggleable {background-color: white;}#sk-container-id-2 label.sk-toggleable__label {cursor: pointer;display: block;width: 100%;margin-bottom: 0;padding: 0.3em;box-sizing: border-box;text-align: center;}#sk-container-id-2 label.sk-toggleable__label-arrow:before {content: \"▸\";float: left;margin-right: 0.25em;color: #696969;}#sk-container-id-2 label.sk-toggleable__label-arrow:hover:before {color: black;}#sk-container-id-2 div.sk-estimator:hover label.sk-toggleable__label-arrow:before {color: black;}#sk-container-id-2 div.sk-toggleable__content {max-height: 0;max-width: 0;overflow: hidden;text-align: left;background-color: #f0f8ff;}#sk-container-id-2 div.sk-toggleable__content pre {margin: 0.2em;color: black;border-radius: 0.25em;background-color: #f0f8ff;}#sk-container-id-2 input.sk-toggleable__control:checked~div.sk-toggleable__content {max-height: 200px;max-width: 100%;overflow: auto;}#sk-container-id-2 input.sk-toggleable__control:checked~label.sk-toggleable__label-arrow:before {content: \"▾\";}#sk-container-id-2 div.sk-estimator input.sk-toggleable__control:checked~label.sk-toggleable__label {background-color: #d4ebff;}#sk-container-id-2 div.sk-label input.sk-toggleable__control:checked~label.sk-toggleable__label {background-color: #d4ebff;}#sk-container-id-2 input.sk-hidden--visually {border: 0;clip: rect(1px 1px 1px 1px);clip: rect(1px, 1px, 1px, 1px);height: 1px;margin: -1px;overflow: hidden;padding: 0;position: absolute;width: 1px;}#sk-container-id-2 div.sk-estimator {font-family: monospace;background-color: #f0f8ff;border: 1px dotted black;border-radius: 0.25em;box-sizing: border-box;margin-bottom: 0.5em;}#sk-container-id-2 div.sk-estimator:hover {background-color: #d4ebff;}#sk-container-id-2 div.sk-parallel-item::after {content: \"\";width: 100%;border-bottom: 1px solid gray;flex-grow: 1;}#sk-container-id-2 div.sk-label:hover label.sk-toggleable__label {background-color: #d4ebff;}#sk-container-id-2 div.sk-serial::before {content: \"\";position: absolute;border-left: 1px solid gray;box-sizing: border-box;top: 0;bottom: 0;left: 50%;z-index: 0;}#sk-container-id-2 div.sk-serial {display: flex;flex-direction: column;align-items: center;background-color: white;padding-right: 0.2em;padding-left: 0.2em;position: relative;}#sk-container-id-2 div.sk-item {position: relative;z-index: 1;}#sk-container-id-2 div.sk-parallel {display: flex;align-items: stretch;justify-content: center;background-color: white;position: relative;}#sk-container-id-2 div.sk-item::before, #sk-container-id-2 div.sk-parallel-item::before {content: \"\";position: absolute;border-left: 1px solid gray;box-sizing: border-box;top: 0;bottom: 0;left: 50%;z-index: -1;}#sk-container-id-2 div.sk-parallel-item {display: flex;flex-direction: column;z-index: 1;position: relative;background-color: white;}#sk-container-id-2 div.sk-parallel-item:first-child::after {align-self: flex-end;width: 50%;}#sk-container-id-2 div.sk-parallel-item:last-child::after {align-self: flex-start;width: 50%;}#sk-container-id-2 div.sk-parallel-item:only-child::after {width: 0;}#sk-container-id-2 div.sk-dashed-wrapped {border: 1px dashed gray;margin: 0 0.4em 0.5em 0.4em;box-sizing: border-box;padding-bottom: 0.4em;background-color: white;}#sk-container-id-2 div.sk-label label {font-family: monospace;font-weight: bold;display: inline-block;line-height: 1.2em;}#sk-container-id-2 div.sk-label-container {text-align: center;}#sk-container-id-2 div.sk-container {/* jupyter's `normalize.less` sets `[hidden] { display: none; }` but bootstrap.min.css set `[hidden] { display: none !important; }` so we also need the `!important` here to be able to override the default hidden behavior on the sphinx rendered scikit-learn.org. See: https://github.com/scikit-learn/scikit-learn/issues/21755 */display: inline-block !important;position: relative;}#sk-container-id-2 div.sk-text-repr-fallback {display: none;}</style><div id=\"sk-container-id-2\" class=\"sk-top-container\"><div class=\"sk-text-repr-fallback\"><pre>LinearRegression()</pre><b>In a Jupyter environment, please rerun this cell to show the HTML representation or trust the notebook. <br />On GitHub, the HTML representation is unable to render, please try loading this page with nbviewer.org.</b></div><div class=\"sk-container\" hidden><div class=\"sk-item\"><div class=\"sk-estimator sk-toggleable\"><input class=\"sk-toggleable__control sk-hidden--visually\" id=\"sk-estimator-id-2\" type=\"checkbox\" checked><label for=\"sk-estimator-id-2\" class=\"sk-toggleable__label sk-toggleable__label-arrow\">LinearRegression</label><div class=\"sk-toggleable__content\"><pre>LinearRegression()</pre></div></div></div></div></div>"
      ],
      "text/plain": [
       "LinearRegression()"
      ]
     },
     "execution_count": 92,
     "metadata": {},
     "output_type": "execute_result"
    }
   ],
   "source": [
    "# Linear Regression\n",
    "model.fit(x, y)\n",
    "LinearRegression()"
   ]
  },
  {
   "cell_type": "code",
   "execution_count": 93,
   "id": "4b7714f5",
   "metadata": {
    "execution": {
     "iopub.execute_input": "2023-05-10T01:12:20.034220Z",
     "iopub.status.busy": "2023-05-10T01:12:20.033963Z",
     "iopub.status.idle": "2023-05-10T01:12:20.037848Z",
     "shell.execute_reply": "2023-05-10T01:12:20.037308Z"
    }
   },
   "outputs": [],
   "source": [
    "# Test Linear Regression\n",
    "model = LinearRegression().fit(x, y)"
   ]
  },
  {
   "cell_type": "code",
   "execution_count": 94,
   "id": "385a2520",
   "metadata": {
    "execution": {
     "iopub.execute_input": "2023-05-10T01:12:20.040576Z",
     "iopub.status.busy": "2023-05-10T01:12:20.040378Z",
     "iopub.status.idle": "2023-05-10T01:12:20.044317Z",
     "shell.execute_reply": "2023-05-10T01:12:20.043741Z"
    }
   },
   "outputs": [
    {
     "name": "stdout",
     "output_type": "stream",
     "text": [
      "coefficient of determination: 0.715875613747954\n"
     ]
    }
   ],
   "source": [
    "# Test Linear Regression\n",
    "r_sq = model.score(x, y)\n",
    "print(f\"coefficient of determination: {r_sq}\")"
   ]
  },
  {
   "cell_type": "code",
   "execution_count": 95,
   "id": "19b8d163",
   "metadata": {
    "execution": {
     "iopub.execute_input": "2023-05-10T01:12:20.046736Z",
     "iopub.status.busy": "2023-05-10T01:12:20.046568Z",
     "iopub.status.idle": "2023-05-10T01:12:20.049607Z",
     "shell.execute_reply": "2023-05-10T01:12:20.049168Z"
    }
   },
   "outputs": [
    {
     "name": "stdout",
     "output_type": "stream",
     "text": [
      "predicted response:\n",
      "[[ 8.33333333]\n",
      " [13.73333333]\n",
      " [19.13333333]\n",
      " [24.53333333]\n",
      " [29.93333333]\n",
      " [35.33333333]]\n"
     ]
    }
   ],
   "source": [
    "# Test Linear Regression\n",
    "print(f\"predicted response:\\n{y_pred}\")"
   ]
  },
  {
   "cell_type": "code",
   "execution_count": 96,
   "id": "ea4156b4",
   "metadata": {
    "execution": {
     "iopub.execute_input": "2023-05-10T01:12:20.052055Z",
     "iopub.status.busy": "2023-05-10T01:12:20.051856Z",
     "iopub.status.idle": "2023-05-10T01:12:20.055455Z",
     "shell.execute_reply": "2023-05-10T01:12:20.055020Z"
    }
   },
   "outputs": [
    {
     "name": "stdout",
     "output_type": "stream",
     "text": [
      "intercept: [5.63333333]\n"
     ]
    }
   ],
   "source": [
    "# Test Linear Regression\n",
    "new_model = LinearRegression().fit(x, y.reshape((-1, 1)))\n",
    "print(f\"intercept: {new_model.intercept_}\")"
   ]
  },
  {
   "cell_type": "code",
   "execution_count": 97,
   "id": "08b8ffa5",
   "metadata": {
    "execution": {
     "iopub.execute_input": "2023-05-10T01:12:20.057596Z",
     "iopub.status.busy": "2023-05-10T01:12:20.057456Z",
     "iopub.status.idle": "2023-05-10T01:12:20.060102Z",
     "shell.execute_reply": "2023-05-10T01:12:20.059720Z"
    }
   },
   "outputs": [
    {
     "name": "stdout",
     "output_type": "stream",
     "text": [
      "slope: [[0.54]]\n"
     ]
    }
   ],
   "source": [
    "print(f\"slope: {new_model.coef_}\")"
   ]
  },
  {
   "cell_type": "code",
   "execution_count": 98,
   "id": "5768d173",
   "metadata": {
    "execution": {
     "iopub.execute_input": "2023-05-10T01:12:20.061982Z",
     "iopub.status.busy": "2023-05-10T01:12:20.061827Z",
     "iopub.status.idle": "2023-05-10T01:12:20.064870Z",
     "shell.execute_reply": "2023-05-10T01:12:20.064533Z"
    }
   },
   "outputs": [
    {
     "data": {
      "text/plain": [
       "array([[0],\n",
       "       [1],\n",
       "       [2],\n",
       "       [3],\n",
       "       [4]])"
      ]
     },
     "execution_count": 98,
     "metadata": {},
     "output_type": "execute_result"
    }
   ],
   "source": [
    "# Test Linear Regression\n",
    "x_new = np.arange(5).reshape((-1, 1))\n",
    "x_new"
   ]
  },
  {
   "cell_type": "code",
   "execution_count": 99,
   "id": "104bae08",
   "metadata": {
    "execution": {
     "iopub.execute_input": "2023-05-10T01:12:20.066783Z",
     "iopub.status.busy": "2023-05-10T01:12:20.066662Z",
     "iopub.status.idle": "2023-05-10T01:12:20.069394Z",
     "shell.execute_reply": "2023-05-10T01:12:20.069043Z"
    }
   },
   "outputs": [
    {
     "data": {
      "text/plain": [
       "array([[ 5],\n",
       "       [15],\n",
       "       [25],\n",
       "       [35],\n",
       "       [45],\n",
       "       [55]])"
      ]
     },
     "execution_count": 99,
     "metadata": {},
     "output_type": "execute_result"
    }
   ],
   "source": [
    "# Test Linear Regression\n",
    "x"
   ]
  },
  {
   "cell_type": "code",
   "execution_count": 100,
   "id": "d3cfe513",
   "metadata": {
    "execution": {
     "iopub.execute_input": "2023-05-10T01:12:20.071154Z",
     "iopub.status.busy": "2023-05-10T01:12:20.071010Z",
     "iopub.status.idle": "2023-05-10T01:12:20.073574Z",
     "shell.execute_reply": "2023-05-10T01:12:20.073254Z"
    }
   },
   "outputs": [
    {
     "data": {
      "text/plain": [
       "array([ 5, 20, 14, 32, 22, 38])"
      ]
     },
     "execution_count": 100,
     "metadata": {},
     "output_type": "execute_result"
    }
   ],
   "source": [
    "# Test Linear Regression\n",
    "y"
   ]
  },
  {
   "cell_type": "code",
   "execution_count": 101,
   "id": "c07cd557",
   "metadata": {
    "execution": {
     "iopub.execute_input": "2023-05-10T01:12:20.075287Z",
     "iopub.status.busy": "2023-05-10T01:12:20.075153Z",
     "iopub.status.idle": "2023-05-10T01:12:20.077526Z",
     "shell.execute_reply": "2023-05-10T01:12:20.077228Z"
    }
   },
   "outputs": [],
   "source": [
    "# Test Linear Regression\n",
    "model = LinearRegression().fit(x, y)"
   ]
  },
  {
   "cell_type": "code",
   "execution_count": 102,
   "id": "0a1533fe",
   "metadata": {
    "execution": {
     "iopub.execute_input": "2023-05-10T01:12:20.079116Z",
     "iopub.status.busy": "2023-05-10T01:12:20.078989Z",
     "iopub.status.idle": "2023-05-10T01:12:20.081118Z",
     "shell.execute_reply": "2023-05-10T01:12:20.080834Z"
    }
   },
   "outputs": [],
   "source": [
    "# Test Linear Regression\n",
    "model = sm.OLS(y, x)"
   ]
  },
  {
   "cell_type": "code",
   "execution_count": 103,
   "id": "f7432654",
   "metadata": {
    "execution": {
     "iopub.execute_input": "2023-05-10T01:12:20.082733Z",
     "iopub.status.busy": "2023-05-10T01:12:20.082601Z",
     "iopub.status.idle": "2023-05-10T01:12:20.084662Z",
     "shell.execute_reply": "2023-05-10T01:12:20.084376Z"
    }
   },
   "outputs": [],
   "source": [
    "# Test Linear Regression\n",
    "results = model.fit()"
   ]
  },
  {
   "cell_type": "markdown",
   "id": "17de8d50",
   "metadata": {},
   "source": [
    "install conda install module_name"
   ]
  },
  {
   "cell_type": "code",
   "execution_count": 104,
   "id": "c0dcf12d",
   "metadata": {
    "execution": {
     "iopub.execute_input": "2023-05-10T01:12:20.086233Z",
     "iopub.status.busy": "2023-05-10T01:12:20.086108Z",
     "iopub.status.idle": "2023-05-10T01:12:20.091287Z",
     "shell.execute_reply": "2023-05-10T01:12:20.090996Z"
    }
   },
   "outputs": [
    {
     "name": "stdout",
     "output_type": "stream",
     "text": [
      "                                 OLS Regression Results                                \n",
      "=======================================================================================\n",
      "Dep. Variable:                      y   R-squared (uncentered):                   0.930\n",
      "Model:                            OLS   Adj. R-squared (uncentered):              0.916\n",
      "Method:                 Least Squares   F-statistic:                              66.71\n",
      "Date:                Tue, 09 May 2023   Prob (F-statistic):                    0.000447\n",
      "Time:                        21:12:20   Log-Likelihood:                         -19.692\n",
      "No. Observations:                   6   AIC:                                      41.38\n",
      "Df Residuals:                       5   BIC:                                      41.18\n",
      "Df Model:                           1                                                  \n",
      "Covariance Type:            nonrobust                                                  \n",
      "==============================================================================\n",
      "                 coef    std err          t      P>|t|      [0.025      0.975]\n",
      "------------------------------------------------------------------------------\n",
      "x1             0.6818      0.083      8.167      0.000       0.467       0.896\n",
      "==============================================================================\n",
      "Omnibus:                          nan   Durbin-Watson:                   2.904\n",
      "Prob(Omnibus):                    nan   Jarque-Bera (JB):                0.334\n",
      "Skew:                          -0.137   Prob(JB):                        0.846\n",
      "Kurtosis:                       1.877   Cond. No.                         1.00\n",
      "==============================================================================\n",
      "\n",
      "Notes:\n",
      "[1] R² is computed without centering (uncentered) since the model does not contain a constant.\n",
      "[2] Standard Errors assume that the covariance matrix of the errors is correctly specified.\n"
     ]
    },
    {
     "name": "stderr",
     "output_type": "stream",
     "text": [
      "/opt/homebrew/lib/python3.9/site-packages/statsmodels/stats/stattools.py:74: ValueWarning: omni_normtest is not valid with less than 8 observations; 6 samples were given.\n",
      "  warn(\"omni_normtest is not valid with less than 8 observations; %i \"\n"
     ]
    }
   ],
   "source": [
    "# Test Linear Regression\n",
    "print(results.summary())"
   ]
  },
  {
   "cell_type": "code",
   "execution_count": 105,
   "id": "17842edc",
   "metadata": {
    "execution": {
     "iopub.execute_input": "2023-05-10T01:12:20.092755Z",
     "iopub.status.busy": "2023-05-10T01:12:20.092666Z",
     "iopub.status.idle": "2023-05-10T01:12:20.094683Z",
     "shell.execute_reply": "2023-05-10T01:12:20.094432Z"
    }
   },
   "outputs": [],
   "source": [
    "from statsmodels.compat import lzip\n",
    "import numpy as np\n",
    "import matplotlib.pyplot as plt\n",
    "import statsmodels.api as sm\n",
    "from statsmodels.formula.api import ols"
   ]
  },
  {
   "cell_type": "code",
   "execution_count": 106,
   "id": "8eaff19a",
   "metadata": {
    "execution": {
     "iopub.execute_input": "2023-05-10T01:12:20.096094Z",
     "iopub.status.busy": "2023-05-10T01:12:20.096015Z",
     "iopub.status.idle": "2023-05-10T01:12:20.097824Z",
     "shell.execute_reply": "2023-05-10T01:12:20.097585Z"
    }
   },
   "outputs": [],
   "source": [
    "plt.rc(\"figure\", figsize=(16, 8))\n",
    "plt.rc(\"font\", size=14)"
   ]
  },
  {
   "cell_type": "code",
   "execution_count": 107,
   "id": "56f61f56",
   "metadata": {
    "execution": {
     "iopub.execute_input": "2023-05-10T01:12:20.099170Z",
     "iopub.status.busy": "2023-05-10T01:12:20.099090Z",
     "iopub.status.idle": "2023-05-10T01:12:20.106284Z",
     "shell.execute_reply": "2023-05-10T01:12:20.106045Z"
    }
   },
   "outputs": [
    {
     "ename": "NameError",
     "evalue": "name 'prestige' is not defined",
     "output_type": "error",
     "traceback": [
      "\u001b[0;31m---------------------------------------------------------------------------\u001b[0m",
      "\u001b[0;31mNameError\u001b[0m                                 Traceback (most recent call last)",
      "Cell \u001b[0;32mIn [107], line 1\u001b[0m\n\u001b[0;32m----> 1\u001b[0m \u001b[43mprestige\u001b[49m\u001b[38;5;241m.\u001b[39mhead()\n",
      "\u001b[0;31mNameError\u001b[0m: name 'prestige' is not defined"
     ]
    }
   ],
   "source": [
    "prestige.head()"
   ]
  },
  {
   "cell_type": "markdown",
   "id": "af3525b0",
   "metadata": {},
   "source": [
    "IMPORT THE LIBRARIES YOU WILL USE\n",
    "------------------------------------------\n",
    "You only need to import packages one time per notebook session. To keep your\n",
    "notebook clean and organized you can handle all imports at the top of your file.\n",
    "The following are included for example purposed, feel free to modify or delete \n",
    "anything in this section."
   ]
  },
  {
   "cell_type": "code",
   "execution_count": 108,
   "id": "557a1675",
   "metadata": {
    "execution": {
     "iopub.execute_input": "2023-05-10T01:12:20.107591Z",
     "iopub.status.busy": "2023-05-10T01:12:20.107512Z",
     "iopub.status.idle": "2023-05-10T01:12:20.229039Z",
     "shell.execute_reply": "2023-05-10T01:12:20.228772Z"
    }
   },
   "outputs": [
    {
     "ename": "ModuleNotFoundError",
     "evalue": "No module named 'hts'",
     "output_type": "error",
     "traceback": [
      "\u001b[0;31m---------------------------------------------------------------------------\u001b[0m",
      "\u001b[0;31mModuleNotFoundError\u001b[0m                       Traceback (most recent call last)",
      "Cell \u001b[0;32mIn [108], line 17\u001b[0m\n\u001b[1;32m     15\u001b[0m collections\u001b[38;5;241m.\u001b[39mMutableSet \u001b[38;5;241m=\u001b[39m collections\u001b[38;5;241m.\u001b[39mabc\u001b[38;5;241m.\u001b[39mMutableSet\n\u001b[1;32m     16\u001b[0m collections\u001b[38;5;241m.\u001b[39mMutableMapping \u001b[38;5;241m=\u001b[39m collections\u001b[38;5;241m.\u001b[39mabc\u001b[38;5;241m.\u001b[39mMutableMapping\n\u001b[0;32m---> 17\u001b[0m \u001b[38;5;28;01mimport\u001b[39;00m \u001b[38;5;21;01mhts\u001b[39;00m\n\u001b[1;32m     18\u001b[0m \u001b[38;5;28;01mfrom\u001b[39;00m \u001b[38;5;21;01mhts\u001b[39;00m\u001b[38;5;21;01m.\u001b[39;00m\u001b[38;5;21;01mhierarchy\u001b[39;00m \u001b[38;5;28;01mimport\u001b[39;00m HierarchyTree\n\u001b[1;32m     19\u001b[0m \u001b[38;5;28;01mfrom\u001b[39;00m \u001b[38;5;21;01mhts\u001b[39;00m\u001b[38;5;21;01m.\u001b[39;00m\u001b[38;5;21;01mmodel\u001b[39;00m \u001b[38;5;28;01mimport\u001b[39;00m AutoArimaModel\n",
      "\u001b[0;31mModuleNotFoundError\u001b[0m: No module named 'hts'"
     ]
    }
   ],
   "source": [
    "import csv\n",
    "import pandas as pd\n",
    "import numpy as np\n",
    "from google.cloud import bigquery\n",
    "from google.oauth2 import service_account\n",
    "from google.cloud.bigquery import magics\n",
    "import statsmodels.api as sm\n",
    "import math\n",
    "import plotly.express as px\n",
    "from pmdarima.arima import auto_arima\n",
    "import collections.abc\n",
    "#hyper needs the four following aliases to be done manually.\n",
    "collections.Iterable = collections.abc.Iterable\n",
    "collections.Mapping = collections.abc.Mapping\n",
    "collections.MutableSet = collections.abc.MutableSet\n",
    "collections.MutableMapping = collections.abc.MutableMapping\n",
    "import hts\n",
    "from hts.hierarchy import HierarchyTree\n",
    "from hts.model import AutoArimaModel\n",
    "from hts import HTSRegressor"
   ]
  },
  {
   "cell_type": "markdown",
   "id": "c82d7cd0",
   "metadata": {},
   "source": [
    "IMPORT THE LIBRARIES YOU WILL USE\n",
    "------------------------------------------\n",
    "You only need to import packages one time per notebook session. To keep your\n",
    "notebook clean and organized you can handle all imports at the top of your file.\n",
    "The following are included for example purposed, feel free to modify or delete \n",
    "anything in this section."
   ]
  },
  {
   "cell_type": "code",
   "execution_count": 109,
   "id": "de77c40d",
   "metadata": {
    "execution": {
     "iopub.execute_input": "2023-05-10T01:12:20.230593Z",
     "iopub.status.busy": "2023-05-10T01:12:20.230483Z",
     "iopub.status.idle": "2023-05-10T01:12:20.238281Z",
     "shell.execute_reply": "2023-05-10T01:12:20.238043Z"
    }
   },
   "outputs": [
    {
     "ename": "ModuleNotFoundError",
     "evalue": "No module named 'hts'",
     "output_type": "error",
     "traceback": [
      "\u001b[0;31m---------------------------------------------------------------------------\u001b[0m",
      "\u001b[0;31mModuleNotFoundError\u001b[0m                       Traceback (most recent call last)",
      "Cell \u001b[0;32mIn [109], line 17\u001b[0m\n\u001b[1;32m     15\u001b[0m collections\u001b[38;5;241m.\u001b[39mMutableSet \u001b[38;5;241m=\u001b[39m collections\u001b[38;5;241m.\u001b[39mabc\u001b[38;5;241m.\u001b[39mMutableSet\n\u001b[1;32m     16\u001b[0m collections\u001b[38;5;241m.\u001b[39mMutableMapping \u001b[38;5;241m=\u001b[39m collections\u001b[38;5;241m.\u001b[39mabc\u001b[38;5;241m.\u001b[39mMutableMapping\n\u001b[0;32m---> 17\u001b[0m \u001b[38;5;28;01mimport\u001b[39;00m \u001b[38;5;21;01mhts\u001b[39;00m\n\u001b[1;32m     18\u001b[0m \u001b[38;5;28;01mfrom\u001b[39;00m \u001b[38;5;21;01mhts\u001b[39;00m\u001b[38;5;21;01m.\u001b[39;00m\u001b[38;5;21;01mhierarchy\u001b[39;00m \u001b[38;5;28;01mimport\u001b[39;00m HierarchyTree\n\u001b[1;32m     19\u001b[0m \u001b[38;5;28;01mfrom\u001b[39;00m \u001b[38;5;21;01mhts\u001b[39;00m\u001b[38;5;21;01m.\u001b[39;00m\u001b[38;5;21;01mmodel\u001b[39;00m \u001b[38;5;28;01mimport\u001b[39;00m AutoArimaModel\n",
      "\u001b[0;31mModuleNotFoundError\u001b[0m: No module named 'hts'"
     ]
    }
   ],
   "source": [
    "import csv\n",
    "import pandas as pd\n",
    "import numpy as np\n",
    "from google.cloud import bigquery\n",
    "from google.oauth2 import service_account\n",
    "from google.cloud.bigquery import magics\n",
    "import statsmodels.api as sm\n",
    "import math\n",
    "import plotly.express as px\n",
    "from pmdarima.arima import auto_arima\n",
    "import collections.abc\n",
    "#hyper needs the four following aliases to be done manually.\n",
    "collections.Iterable = collections.abc.Iterable\n",
    "collections.Mapping = collections.abc.Mapping\n",
    "collections.MutableSet = collections.abc.MutableSet\n",
    "collections.MutableMapping = collections.abc.MutableMapping\n",
    "import hts\n",
    "from hts.hierarchy import HierarchyTree\n",
    "from hts.model import AutoArimaModel\n",
    "from hts import HTSRegressor"
   ]
  },
  {
   "cell_type": "markdown",
   "id": "6d57d564",
   "metadata": {},
   "source": [
    "IMPORT THE LIBRARIES YOU WILL USE\n",
    "------------------------------------------\n",
    "You only need to import packages one time per notebook session. To keep your\n",
    "notebook clean and organized you can handle all imports at the top of your file.\n",
    "The following are included for example purposed, feel free to modify or delete \n",
    "anything in this section."
   ]
  },
  {
   "cell_type": "code",
   "execution_count": 110,
   "id": "59954d08",
   "metadata": {
    "execution": {
     "iopub.execute_input": "2023-05-10T01:12:20.239708Z",
     "iopub.status.busy": "2023-05-10T01:12:20.239615Z",
     "iopub.status.idle": "2023-05-10T01:12:20.241522Z",
     "shell.execute_reply": "2023-05-10T01:12:20.241262Z"
    }
   },
   "outputs": [],
   "source": [
    "import csv\n",
    "import pandas as pd\n",
    "import numpy as np\n",
    "from google.cloud import bigquery\n",
    "from google.oauth2 import service_account\n",
    "from google.cloud.bigquery import magics\n",
    "import statsmodels.api as sm\n",
    "import math"
   ]
  },
  {
   "cell_type": "code",
   "execution_count": 111,
   "id": "93dc1e08",
   "metadata": {
    "execution": {
     "iopub.execute_input": "2023-05-10T01:12:20.242850Z",
     "iopub.status.busy": "2023-05-10T01:12:20.242774Z",
     "iopub.status.idle": "2023-05-10T01:12:20.244923Z",
     "shell.execute_reply": "2023-05-10T01:12:20.244682Z"
    }
   },
   "outputs": [
    {
     "ename": "SyntaxError",
     "evalue": "invalid syntax (220013435.py, line 1)",
     "output_type": "error",
     "traceback": [
      "\u001b[0;36m  Cell \u001b[0;32mIn [111], line 1\u001b[0;36m\u001b[0m\n\u001b[0;31m    To balance the dataset as panel data\u001b[0m\n\u001b[0m       ^\u001b[0m\n\u001b[0;31mSyntaxError\u001b[0m\u001b[0;31m:\u001b[0m invalid syntax\n"
     ]
    }
   ],
   "source": [
    "To balance the dataset as panel data\n",
    "data_balance = data.set_index('week_number')\n",
    "data_balance = data_balance.sort_index(ascending=False)\n",
    "data_balance = data_balance.set_index('uu_id',append=True)\n",
    "data_balance = data_balance[~data_balance.index.duplicated(keep='first')]"
   ]
  },
  {
   "cell_type": "code",
   "execution_count": 112,
   "id": "b0190757",
   "metadata": {
    "execution": {
     "iopub.execute_input": "2023-05-10T01:12:20.246242Z",
     "iopub.status.busy": "2023-05-10T01:12:20.246165Z",
     "iopub.status.idle": "2023-05-10T01:12:20.253706Z",
     "shell.execute_reply": "2023-05-10T01:12:20.253461Z"
    }
   },
   "outputs": [
    {
     "ename": "NameError",
     "evalue": "name 'data_balance' is not defined",
     "output_type": "error",
     "traceback": [
      "\u001b[0;31m---------------------------------------------------------------------------\u001b[0m",
      "\u001b[0;31mNameError\u001b[0m                                 Traceback (most recent call last)",
      "Cell \u001b[0;32mIn [112], line 1\u001b[0m\n\u001b[0;32m----> 1\u001b[0m data_balance \u001b[38;5;241m=\u001b[39m \u001b[43mdata_balance\u001b[49m\u001b[38;5;241m.\u001b[39mreset_index(level\u001b[38;5;241m=\u001b[39m[\u001b[38;5;124m'\u001b[39m\u001b[38;5;124mweek_number\u001b[39m\u001b[38;5;124m'\u001b[39m])\n\u001b[1;32m      2\u001b[0m data_balance \u001b[38;5;241m=\u001b[39m (data_balance\u001b[38;5;241m.\u001b[39mset_index(\u001b[38;5;124m'\u001b[39m\u001b[38;5;124mweek_number\u001b[39m\u001b[38;5;124m'\u001b[39m,append\u001b[38;5;241m=\u001b[39m\u001b[38;5;28;01mTrue\u001b[39;00m)\u001b[38;5;241m.\u001b[39mreindex(pd\u001b[38;5;241m.\u001b[39mMultiIndex\u001b[38;5;241m.\u001b[39mfrom_product([data_balance\u001b[38;5;241m.\u001b[39mindex\u001b[38;5;241m.\u001b[39munique(),\n\u001b[1;32m      3\u001b[0m                                                      \u001b[38;5;28mrange\u001b[39m(data_balance\u001b[38;5;241m.\u001b[39mweek_number\u001b[38;5;241m.\u001b[39mmin(),data_balance\u001b[38;5;241m.\u001b[39mweek_number\u001b[38;5;241m.\u001b[39mmax()\u001b[38;5;241m+\u001b[39m\u001b[38;5;241m1\u001b[39m)],\n\u001b[1;32m      4\u001b[0m                                                     names\u001b[38;5;241m=\u001b[39m[\u001b[38;5;124m'\u001b[39m\u001b[38;5;124muu_id\u001b[39m\u001b[38;5;124m'\u001b[39m,\u001b[38;5;124m'\u001b[39m\u001b[38;5;124mweek_number\u001b[39m\u001b[38;5;124m'\u001b[39m]))\u001b[38;5;241m.\u001b[39mreset_index(level\u001b[38;5;241m=\u001b[39m\u001b[38;5;241m1\u001b[39m))\n",
      "\u001b[0;31mNameError\u001b[0m: name 'data_balance' is not defined"
     ]
    }
   ],
   "source": [
    "data_balance = data_balance.reset_index(level=['week_number'])\n",
    "data_balance = (data_balance.set_index('week_number',append=True).reindex(pd.MultiIndex.from_product([data_balance.index.unique(),\n",
    "                                                     range(data_balance.week_number.min(),data_balance.week_number.max()+1)],\n",
    "                                                    names=['uu_id','week_number'])).reset_index(level=1))"
   ]
  },
  {
   "cell_type": "code",
   "execution_count": 113,
   "id": "355ffd14",
   "metadata": {
    "execution": {
     "iopub.execute_input": "2023-05-10T01:12:20.255072Z",
     "iopub.status.busy": "2023-05-10T01:12:20.254991Z",
     "iopub.status.idle": "2023-05-10T01:12:20.261866Z",
     "shell.execute_reply": "2023-05-10T01:12:20.261614Z"
    }
   },
   "outputs": [
    {
     "ename": "NameError",
     "evalue": "name 'data_balance' is not defined",
     "output_type": "error",
     "traceback": [
      "\u001b[0;31m---------------------------------------------------------------------------\u001b[0m",
      "\u001b[0;31mNameError\u001b[0m                                 Traceback (most recent call last)",
      "Cell \u001b[0;32mIn [113], line 1\u001b[0m\n\u001b[0;32m----> 1\u001b[0m data_balance \u001b[38;5;241m=\u001b[39m \u001b[43mdata_balance\u001b[49m\u001b[38;5;241m.\u001b[39mset_index(\u001b[38;5;124m'\u001b[39m\u001b[38;5;124mweek_number\u001b[39m\u001b[38;5;124m'\u001b[39m,append\u001b[38;5;241m=\u001b[39m\u001b[38;5;28;01mTrue\u001b[39;00m)\n\u001b[1;32m      2\u001b[0m data_balance[\u001b[38;5;124m'\u001b[39m\u001b[38;5;124mtotal_claims\u001b[39m\u001b[38;5;124m'\u001b[39m] \u001b[38;5;241m=\u001b[39m data_balance[\u001b[38;5;124m'\u001b[39m\u001b[38;5;124mtotal_claims\u001b[39m\u001b[38;5;124m'\u001b[39m]\u001b[38;5;241m.\u001b[39mfillna(\u001b[38;5;241m0\u001b[39m)\n\u001b[1;32m      3\u001b[0m data_balance[\u001b[38;5;124m'\u001b[39m\u001b[38;5;124maverage_wage\u001b[39m\u001b[38;5;124m'\u001b[39m] \u001b[38;5;241m=\u001b[39m data_balance[\u001b[38;5;124m'\u001b[39m\u001b[38;5;124maverage_wage\u001b[39m\u001b[38;5;124m'\u001b[39m]\u001b[38;5;241m.\u001b[39minterpolate(method \u001b[38;5;241m=\u001b[39m \u001b[38;5;124m\"\u001b[39m\u001b[38;5;124mlinear\u001b[39m\u001b[38;5;124m\"\u001b[39m)\n",
      "\u001b[0;31mNameError\u001b[0m: name 'data_balance' is not defined"
     ]
    }
   ],
   "source": [
    "data_balance = data_balance.set_index('week_number',append=True)\n",
    "data_balance['total_claims'] = data_balance['total_claims'].fillna(0)\n",
    "data_balance['average_wage'] = data_balance['average_wage'].interpolate(method = \"linear\")"
   ]
  },
  {
   "cell_type": "code",
   "execution_count": 114,
   "id": "cb54f2e1",
   "metadata": {
    "execution": {
     "iopub.execute_input": "2023-05-10T01:12:20.263233Z",
     "iopub.status.busy": "2023-05-10T01:12:20.263147Z",
     "iopub.status.idle": "2023-05-10T01:12:20.269526Z",
     "shell.execute_reply": "2023-05-10T01:12:20.269261Z"
    }
   },
   "outputs": [
    {
     "ename": "NameError",
     "evalue": "name 'data_balance' is not defined",
     "output_type": "error",
     "traceback": [
      "\u001b[0;31m---------------------------------------------------------------------------\u001b[0m",
      "\u001b[0;31mNameError\u001b[0m                                 Traceback (most recent call last)",
      "Cell \u001b[0;32mIn [114], line 1\u001b[0m\n\u001b[0;32m----> 1\u001b[0m data_balance \u001b[38;5;241m=\u001b[39m \u001b[43mdata_balance\u001b[49m\u001b[38;5;241m.\u001b[39mreset_index(level\u001b[38;5;241m=\u001b[39m[\u001b[38;5;124m'\u001b[39m\u001b[38;5;124muu_id\u001b[39m\u001b[38;5;124m'\u001b[39m, \u001b[38;5;124m\"\u001b[39m\u001b[38;5;124mweek_number\u001b[39m\u001b[38;5;124m\"\u001b[39m])\n\u001b[1;32m      2\u001b[0m data_balance \u001b[38;5;241m=\u001b[39m dataIdentifyDWM(data_balance)\n",
      "\u001b[0;31mNameError\u001b[0m: name 'data_balance' is not defined"
     ]
    }
   ],
   "source": [
    "data_balance = data_balance.reset_index(level=['uu_id', \"week_number\"])\n",
    "data_balance = dataIdentifyDWM(data_balance)"
   ]
  },
  {
   "cell_type": "code",
   "execution_count": 115,
   "id": "02858231",
   "metadata": {
    "execution": {
     "iopub.execute_input": "2023-05-10T01:12:20.270864Z",
     "iopub.status.busy": "2023-05-10T01:12:20.270782Z",
     "iopub.status.idle": "2023-05-10T01:12:20.272925Z",
     "shell.execute_reply": "2023-05-10T01:12:20.272681Z"
    }
   },
   "outputs": [
    {
     "ename": "SyntaxError",
     "evalue": "invalid syntax (220013435.py, line 1)",
     "output_type": "error",
     "traceback": [
      "\u001b[0;36m  Cell \u001b[0;32mIn [115], line 1\u001b[0;36m\u001b[0m\n\u001b[0;31m    To balance the dataset as panel data\u001b[0m\n\u001b[0m       ^\u001b[0m\n\u001b[0;31mSyntaxError\u001b[0m\u001b[0;31m:\u001b[0m invalid syntax\n"
     ]
    }
   ],
   "source": [
    "To balance the dataset as panel data\n",
    "data_balance = data.set_index('week_number')\n",
    "data_balance = data_balance.sort_index(ascending=False)\n",
    "data_balance = data_balance.set_index('uu_id',append=True)\n",
    "data_balance = data_balance[~data_balance.index.duplicated(keep='first')]"
   ]
  },
  {
   "cell_type": "code",
   "execution_count": 116,
   "id": "9f3fef4e",
   "metadata": {
    "execution": {
     "iopub.execute_input": "2023-05-10T01:12:20.274311Z",
     "iopub.status.busy": "2023-05-10T01:12:20.274229Z",
     "iopub.status.idle": "2023-05-10T01:12:20.281704Z",
     "shell.execute_reply": "2023-05-10T01:12:20.281467Z"
    }
   },
   "outputs": [
    {
     "ename": "NameError",
     "evalue": "name 'data_balance' is not defined",
     "output_type": "error",
     "traceback": [
      "\u001b[0;31m---------------------------------------------------------------------------\u001b[0m",
      "\u001b[0;31mNameError\u001b[0m                                 Traceback (most recent call last)",
      "Cell \u001b[0;32mIn [116], line 1\u001b[0m\n\u001b[0;32m----> 1\u001b[0m data_balance \u001b[38;5;241m=\u001b[39m \u001b[43mdata_balance\u001b[49m\u001b[38;5;241m.\u001b[39mreset_index(level\u001b[38;5;241m=\u001b[39m[\u001b[38;5;124m'\u001b[39m\u001b[38;5;124mweek_number\u001b[39m\u001b[38;5;124m'\u001b[39m])\n\u001b[1;32m      2\u001b[0m data_balance \u001b[38;5;241m=\u001b[39m (data_balance\u001b[38;5;241m.\u001b[39mset_index(\u001b[38;5;124m'\u001b[39m\u001b[38;5;124mweek_number\u001b[39m\u001b[38;5;124m'\u001b[39m,append\u001b[38;5;241m=\u001b[39m\u001b[38;5;28;01mTrue\u001b[39;00m)\u001b[38;5;241m.\u001b[39mreindex(pd\u001b[38;5;241m.\u001b[39mMultiIndex\u001b[38;5;241m.\u001b[39mfrom_product([data_balance\u001b[38;5;241m.\u001b[39mindex\u001b[38;5;241m.\u001b[39munique(),\n\u001b[1;32m      3\u001b[0m                                                      \u001b[38;5;28mrange\u001b[39m(data_balance\u001b[38;5;241m.\u001b[39mweek_number\u001b[38;5;241m.\u001b[39mmin(),data_balance\u001b[38;5;241m.\u001b[39mweek_number\u001b[38;5;241m.\u001b[39mmax()\u001b[38;5;241m+\u001b[39m\u001b[38;5;241m1\u001b[39m)],\n\u001b[1;32m      4\u001b[0m                                                     names\u001b[38;5;241m=\u001b[39m[\u001b[38;5;124m'\u001b[39m\u001b[38;5;124muu_id\u001b[39m\u001b[38;5;124m'\u001b[39m,\u001b[38;5;124m'\u001b[39m\u001b[38;5;124mweek_number\u001b[39m\u001b[38;5;124m'\u001b[39m]))\u001b[38;5;241m.\u001b[39mreset_index(level\u001b[38;5;241m=\u001b[39m\u001b[38;5;241m1\u001b[39m))\n",
      "\u001b[0;31mNameError\u001b[0m: name 'data_balance' is not defined"
     ]
    }
   ],
   "source": [
    "data_balance = data_balance.reset_index(level=['week_number'])\n",
    "data_balance = (data_balance.set_index('week_number',append=True).reindex(pd.MultiIndex.from_product([data_balance.index.unique(),\n",
    "                                                     range(data_balance.week_number.min(),data_balance.week_number.max()+1)],\n",
    "                                                    names=['uu_id','week_number'])).reset_index(level=1))"
   ]
  },
  {
   "cell_type": "code",
   "execution_count": 117,
   "id": "0a40c525",
   "metadata": {
    "execution": {
     "iopub.execute_input": "2023-05-10T01:12:20.283027Z",
     "iopub.status.busy": "2023-05-10T01:12:20.282939Z",
     "iopub.status.idle": "2023-05-10T01:12:20.289464Z",
     "shell.execute_reply": "2023-05-10T01:12:20.289228Z"
    }
   },
   "outputs": [
    {
     "ename": "NameError",
     "evalue": "name 'data_balance' is not defined",
     "output_type": "error",
     "traceback": [
      "\u001b[0;31m---------------------------------------------------------------------------\u001b[0m",
      "\u001b[0;31mNameError\u001b[0m                                 Traceback (most recent call last)",
      "Cell \u001b[0;32mIn [117], line 1\u001b[0m\n\u001b[0;32m----> 1\u001b[0m data_balance \u001b[38;5;241m=\u001b[39m \u001b[43mdata_balance\u001b[49m\u001b[38;5;241m.\u001b[39mset_index(\u001b[38;5;124m'\u001b[39m\u001b[38;5;124mweek_number\u001b[39m\u001b[38;5;124m'\u001b[39m,append\u001b[38;5;241m=\u001b[39m\u001b[38;5;28;01mTrue\u001b[39;00m)\n\u001b[1;32m      2\u001b[0m data_balance[\u001b[38;5;124m'\u001b[39m\u001b[38;5;124mtotal_claims\u001b[39m\u001b[38;5;124m'\u001b[39m] \u001b[38;5;241m=\u001b[39m data_balance[\u001b[38;5;124m'\u001b[39m\u001b[38;5;124mtotal_claims\u001b[39m\u001b[38;5;124m'\u001b[39m]\u001b[38;5;241m.\u001b[39mfillna(\u001b[38;5;241m0\u001b[39m)\n\u001b[1;32m      3\u001b[0m data_balance[\u001b[38;5;124m'\u001b[39m\u001b[38;5;124maverage_wage\u001b[39m\u001b[38;5;124m'\u001b[39m] \u001b[38;5;241m=\u001b[39m data_balance[\u001b[38;5;124m'\u001b[39m\u001b[38;5;124maverage_wage\u001b[39m\u001b[38;5;124m'\u001b[39m]\u001b[38;5;241m.\u001b[39minterpolate(method \u001b[38;5;241m=\u001b[39m \u001b[38;5;124m\"\u001b[39m\u001b[38;5;124mlinear\u001b[39m\u001b[38;5;124m\"\u001b[39m)\n",
      "\u001b[0;31mNameError\u001b[0m: name 'data_balance' is not defined"
     ]
    }
   ],
   "source": [
    "data_balance = data_balance.set_index('week_number',append=True)\n",
    "data_balance['total_claims'] = data_balance['total_claims'].fillna(0)\n",
    "data_balance['average_wage'] = data_balance['average_wage'].interpolate(method = \"linear\")"
   ]
  },
  {
   "cell_type": "code",
   "execution_count": 118,
   "id": "9e24dab4",
   "metadata": {
    "execution": {
     "iopub.execute_input": "2023-05-10T01:12:20.290799Z",
     "iopub.status.busy": "2023-05-10T01:12:20.290715Z",
     "iopub.status.idle": "2023-05-10T01:12:20.296979Z",
     "shell.execute_reply": "2023-05-10T01:12:20.296757Z"
    }
   },
   "outputs": [
    {
     "ename": "NameError",
     "evalue": "name 'data_balance' is not defined",
     "output_type": "error",
     "traceback": [
      "\u001b[0;31m---------------------------------------------------------------------------\u001b[0m",
      "\u001b[0;31mNameError\u001b[0m                                 Traceback (most recent call last)",
      "Cell \u001b[0;32mIn [118], line 1\u001b[0m\n\u001b[0;32m----> 1\u001b[0m data_balance \u001b[38;5;241m=\u001b[39m \u001b[43mdata_balance\u001b[49m\u001b[38;5;241m.\u001b[39mreset_index(level\u001b[38;5;241m=\u001b[39m[\u001b[38;5;124m'\u001b[39m\u001b[38;5;124muu_id\u001b[39m\u001b[38;5;124m'\u001b[39m, \u001b[38;5;124m\"\u001b[39m\u001b[38;5;124mweek_number\u001b[39m\u001b[38;5;124m\"\u001b[39m])\n\u001b[1;32m      2\u001b[0m data_balance \u001b[38;5;241m=\u001b[39m dataIdentifyDWM(data_balance)\n",
      "\u001b[0;31mNameError\u001b[0m: name 'data_balance' is not defined"
     ]
    }
   ],
   "source": [
    "data_balance = data_balance.reset_index(level=['uu_id', \"week_number\"])\n",
    "data_balance = dataIdentifyDWM(data_balance)"
   ]
  },
  {
   "cell_type": "code",
   "execution_count": 119,
   "id": "a87e6373",
   "metadata": {
    "execution": {
     "iopub.execute_input": "2023-05-10T01:12:20.298347Z",
     "iopub.status.busy": "2023-05-10T01:12:20.298263Z",
     "iopub.status.idle": "2023-05-10T01:12:20.308701Z",
     "shell.execute_reply": "2023-05-10T01:12:20.308426Z"
    }
   },
   "outputs": [],
   "source": [
    "# To balance the dataset as panel data\n",
    "data_balance = data.set_index('week_number')\n",
    "data_balance = data_balance.sort_index(ascending=False)\n",
    "data_balance = data_balance.set_index('uu_id',append=True)\n",
    "data_balance = data_balance[~data_balance.index.duplicated(keep='first')]"
   ]
  },
  {
   "cell_type": "code",
   "execution_count": 120,
   "id": "53427a98",
   "metadata": {
    "execution": {
     "iopub.execute_input": "2023-05-10T01:12:20.310271Z",
     "iopub.status.busy": "2023-05-10T01:12:20.310188Z",
     "iopub.status.idle": "2023-05-10T01:12:20.323540Z",
     "shell.execute_reply": "2023-05-10T01:12:20.323251Z"
    }
   },
   "outputs": [],
   "source": [
    "data_balance = data_balance.reset_index(level=['week_number'])\n",
    "data_balance = (data_balance.set_index('week_number',append=True).reindex(pd.MultiIndex.from_product([data_balance.index.unique(),\n",
    "                                                      range(data_balance.week_number.min(),data_balance.week_number.max()+1)],\n",
    "                                                     names=['uu_id','week_number'])).reset_index(level=1))"
   ]
  },
  {
   "cell_type": "code",
   "execution_count": 121,
   "id": "73a3ce66",
   "metadata": {
    "execution": {
     "iopub.execute_input": "2023-05-10T01:12:20.325123Z",
     "iopub.status.busy": "2023-05-10T01:12:20.325039Z",
     "iopub.status.idle": "2023-05-10T01:12:20.330921Z",
     "shell.execute_reply": "2023-05-10T01:12:20.330664Z"
    }
   },
   "outputs": [],
   "source": [
    "data_balance = data_balance.set_index('week_number',append=True)\n",
    "data_balance['total_claims'] = data_balance['total_claims'].fillna(0)\n",
    "data_balance['average_wage'] = data_balance['average_wage'].interpolate(method = \"linear\")"
   ]
  },
  {
   "cell_type": "code",
   "execution_count": 122,
   "id": "4168709c",
   "metadata": {
    "execution": {
     "iopub.execute_input": "2023-05-10T01:12:20.332300Z",
     "iopub.status.busy": "2023-05-10T01:12:20.332222Z",
     "iopub.status.idle": "2023-05-10T01:12:20.340716Z",
     "shell.execute_reply": "2023-05-10T01:12:20.340485Z"
    }
   },
   "outputs": [
    {
     "ename": "NameError",
     "evalue": "name 'dataIdentifyDWM' is not defined",
     "output_type": "error",
     "traceback": [
      "\u001b[0;31m---------------------------------------------------------------------------\u001b[0m",
      "\u001b[0;31mNameError\u001b[0m                                 Traceback (most recent call last)",
      "Cell \u001b[0;32mIn [122], line 2\u001b[0m\n\u001b[1;32m      1\u001b[0m data_balance \u001b[38;5;241m=\u001b[39m data_balance\u001b[38;5;241m.\u001b[39mreset_index(level\u001b[38;5;241m=\u001b[39m[\u001b[38;5;124m'\u001b[39m\u001b[38;5;124muu_id\u001b[39m\u001b[38;5;124m'\u001b[39m, \u001b[38;5;124m\"\u001b[39m\u001b[38;5;124mweek_number\u001b[39m\u001b[38;5;124m\"\u001b[39m])\n\u001b[0;32m----> 2\u001b[0m data_balance \u001b[38;5;241m=\u001b[39m \u001b[43mdataIdentifyDWM\u001b[49m(data_balance)\n",
      "\u001b[0;31mNameError\u001b[0m: name 'dataIdentifyDWM' is not defined"
     ]
    }
   ],
   "source": [
    "data_balance = data_balance.reset_index(level=['uu_id', \"week_number\"])\n",
    "data_balance = dataIdentifyDWM(data_balance)"
   ]
  },
  {
   "cell_type": "code",
   "execution_count": 123,
   "id": "4a1eb3d2",
   "metadata": {
    "execution": {
     "iopub.execute_input": "2023-05-10T01:12:20.342063Z",
     "iopub.status.busy": "2023-05-10T01:12:20.341975Z",
     "iopub.status.idle": "2023-05-10T01:12:20.348213Z",
     "shell.execute_reply": "2023-05-10T01:12:20.347961Z"
    }
   },
   "outputs": [
    {
     "ename": "NameError",
     "evalue": "name 'prestige' is not defined",
     "output_type": "error",
     "traceback": [
      "\u001b[0;31m---------------------------------------------------------------------------\u001b[0m",
      "\u001b[0;31mNameError\u001b[0m                                 Traceback (most recent call last)",
      "Cell \u001b[0;32mIn [123], line 1\u001b[0m\n\u001b[0;32m----> 1\u001b[0m \u001b[43mprestige\u001b[49m\u001b[38;5;241m.\u001b[39mhead()\n",
      "\u001b[0;31mNameError\u001b[0m: name 'prestige' is not defined"
     ]
    }
   ],
   "source": [
    "prestige.head()"
   ]
  },
  {
   "cell_type": "code",
   "execution_count": 124,
   "id": "61b8da77",
   "metadata": {
    "execution": {
     "iopub.execute_input": "2023-05-10T01:12:20.349565Z",
     "iopub.status.busy": "2023-05-10T01:12:20.349483Z",
     "iopub.status.idle": "2023-05-10T01:12:20.355705Z",
     "shell.execute_reply": "2023-05-10T01:12:20.355463Z"
    }
   },
   "outputs": [
    {
     "ename": "NameError",
     "evalue": "name 'prestige' is not defined",
     "output_type": "error",
     "traceback": [
      "\u001b[0;31m---------------------------------------------------------------------------\u001b[0m",
      "\u001b[0;31mNameError\u001b[0m                                 Traceback (most recent call last)",
      "Cell \u001b[0;32mIn [124], line 1\u001b[0m\n\u001b[0;32m----> 1\u001b[0m prestige_model \u001b[38;5;241m=\u001b[39m ols(\u001b[38;5;124m\"\u001b[39m\u001b[38;5;124mprestige ~ income + education\u001b[39m\u001b[38;5;124m\"\u001b[39m, data\u001b[38;5;241m=\u001b[39m\u001b[43mprestige\u001b[49m)\u001b[38;5;241m.\u001b[39mfit()\n",
      "\u001b[0;31mNameError\u001b[0m: name 'prestige' is not defined"
     ]
    }
   ],
   "source": [
    "prestige_model = ols(\"prestige ~ income + education\", data=prestige).fit()"
   ]
  },
  {
   "cell_type": "code",
   "execution_count": 125,
   "id": "23668b5e",
   "metadata": {
    "execution": {
     "iopub.execute_input": "2023-05-10T01:12:20.357134Z",
     "iopub.status.busy": "2023-05-10T01:12:20.357050Z",
     "iopub.status.idle": "2023-05-10T01:12:20.358817Z",
     "shell.execute_reply": "2023-05-10T01:12:20.358602Z"
    }
   },
   "outputs": [],
   "source": [
    "from statsmodels.compat import lzip\n",
    "import numpy as np\n",
    "import matplotlib.pyplot as plt\n",
    "import statsmodels.api as sm\n",
    "from statsmodels.formula.api import ols"
   ]
  },
  {
   "cell_type": "code",
   "execution_count": 126,
   "id": "4558d86a",
   "metadata": {
    "execution": {
     "iopub.execute_input": "2023-05-10T01:12:20.360052Z",
     "iopub.status.busy": "2023-05-10T01:12:20.359978Z",
     "iopub.status.idle": "2023-05-10T01:12:20.361567Z",
     "shell.execute_reply": "2023-05-10T01:12:20.361344Z"
    }
   },
   "outputs": [],
   "source": [
    "plt.rc(\"figure\", figsize=(16, 8))\n",
    "plt.rc(\"font\", size=14)"
   ]
  },
  {
   "cell_type": "code",
   "execution_count": 127,
   "id": "5dcb9d5d",
   "metadata": {
    "execution": {
     "iopub.execute_input": "2023-05-10T01:12:20.362839Z",
     "iopub.status.busy": "2023-05-10T01:12:20.362766Z",
     "iopub.status.idle": "2023-05-10T01:12:20.368945Z",
     "shell.execute_reply": "2023-05-10T01:12:20.368666Z"
    }
   },
   "outputs": [
    {
     "ename": "NameError",
     "evalue": "name 'prestige' is not defined",
     "output_type": "error",
     "traceback": [
      "\u001b[0;31m---------------------------------------------------------------------------\u001b[0m",
      "\u001b[0;31mNameError\u001b[0m                                 Traceback (most recent call last)",
      "Cell \u001b[0;32mIn [127], line 1\u001b[0m\n\u001b[0;32m----> 1\u001b[0m \u001b[43mprestige\u001b[49m\u001b[38;5;241m.\u001b[39mhead()\n",
      "\u001b[0;31mNameError\u001b[0m: name 'prestige' is not defined"
     ]
    }
   ],
   "source": [
    "prestige.head()"
   ]
  },
  {
   "cell_type": "code",
   "execution_count": 128,
   "id": "cf40eaca",
   "metadata": {
    "execution": {
     "iopub.execute_input": "2023-05-10T01:12:20.370278Z",
     "iopub.status.busy": "2023-05-10T01:12:20.370203Z",
     "iopub.status.idle": "2023-05-10T01:12:20.372025Z",
     "shell.execute_reply": "2023-05-10T01:12:20.371801Z"
    }
   },
   "outputs": [],
   "source": [
    "from statsmodels.compat import lzip\n",
    "import numpy as np\n",
    "import matplotlib.pyplot as plt\n",
    "import statsmodels.api as sm\n",
    "from statsmodels.formula.api import ols"
   ]
  },
  {
   "cell_type": "code",
   "execution_count": 129,
   "id": "2aa79279",
   "metadata": {
    "execution": {
     "iopub.execute_input": "2023-05-10T01:12:20.373353Z",
     "iopub.status.busy": "2023-05-10T01:12:20.373277Z",
     "iopub.status.idle": "2023-05-10T01:12:20.375101Z",
     "shell.execute_reply": "2023-05-10T01:12:20.374871Z"
    }
   },
   "outputs": [],
   "source": [
    "plt.rc(\"figure\", figsize=(16, 8))\n",
    "plt.rc(\"font\", size=14)"
   ]
  },
  {
   "cell_type": "code",
   "execution_count": 130,
   "id": "40cdda33",
   "metadata": {
    "execution": {
     "iopub.execute_input": "2023-05-10T01:12:20.376344Z",
     "iopub.status.busy": "2023-05-10T01:12:20.376266Z",
     "iopub.status.idle": "2023-05-10T01:12:20.382796Z",
     "shell.execute_reply": "2023-05-10T01:12:20.382551Z"
    }
   },
   "outputs": [
    {
     "ename": "NameError",
     "evalue": "name 'prestige' is not defined",
     "output_type": "error",
     "traceback": [
      "\u001b[0;31m---------------------------------------------------------------------------\u001b[0m",
      "\u001b[0;31mNameError\u001b[0m                                 Traceback (most recent call last)",
      "Cell \u001b[0;32mIn [130], line 1\u001b[0m\n\u001b[0;32m----> 1\u001b[0m \u001b[43mprestige\u001b[49m\u001b[38;5;241m.\u001b[39mhead()\n",
      "\u001b[0;31mNameError\u001b[0m: name 'prestige' is not defined"
     ]
    }
   ],
   "source": [
    "prestige.head()"
   ]
  },
  {
   "cell_type": "code",
   "execution_count": 131,
   "id": "d776cfb8",
   "metadata": {
    "execution": {
     "iopub.execute_input": "2023-05-10T01:12:20.384119Z",
     "iopub.status.busy": "2023-05-10T01:12:20.384033Z",
     "iopub.status.idle": "2023-05-10T01:12:20.390034Z",
     "shell.execute_reply": "2023-05-10T01:12:20.389797Z"
    }
   },
   "outputs": [
    {
     "ename": "NameError",
     "evalue": "name 'prestige' is not defined",
     "output_type": "error",
     "traceback": [
      "\u001b[0;31m---------------------------------------------------------------------------\u001b[0m",
      "\u001b[0;31mNameError\u001b[0m                                 Traceback (most recent call last)",
      "Cell \u001b[0;32mIn [131], line 1\u001b[0m\n\u001b[0;32m----> 1\u001b[0m \u001b[43mprestige\u001b[49m\u001b[38;5;241m.\u001b[39mhead()\n",
      "\u001b[0;31mNameError\u001b[0m: name 'prestige' is not defined"
     ]
    }
   ],
   "source": [
    "prestige.head()"
   ]
  },
  {
   "cell_type": "code",
   "execution_count": 132,
   "id": "4bed4041",
   "metadata": {
    "execution": {
     "iopub.execute_input": "2023-05-10T01:12:20.391325Z",
     "iopub.status.busy": "2023-05-10T01:12:20.391242Z",
     "iopub.status.idle": "2023-05-10T01:12:20.397227Z",
     "shell.execute_reply": "2023-05-10T01:12:20.396997Z"
    }
   },
   "outputs": [
    {
     "ename": "NameError",
     "evalue": "name 'prestige' is not defined",
     "output_type": "error",
     "traceback": [
      "\u001b[0;31m---------------------------------------------------------------------------\u001b[0m",
      "\u001b[0;31mNameError\u001b[0m                                 Traceback (most recent call last)",
      "Cell \u001b[0;32mIn [132], line 1\u001b[0m\n\u001b[0;32m----> 1\u001b[0m \u001b[43mprestige\u001b[49m\u001b[38;5;241m.\u001b[39mhead()\n",
      "\u001b[0;31mNameError\u001b[0m: name 'prestige' is not defined"
     ]
    }
   ],
   "source": [
    "prestige.head()"
   ]
  },
  {
   "cell_type": "code",
   "execution_count": 133,
   "id": "d5b805d7",
   "metadata": {
    "execution": {
     "iopub.execute_input": "2023-05-10T01:12:20.398538Z",
     "iopub.status.busy": "2023-05-10T01:12:20.398460Z",
     "iopub.status.idle": "2023-05-10T01:12:20.404704Z",
     "shell.execute_reply": "2023-05-10T01:12:20.404475Z"
    }
   },
   "outputs": [
    {
     "ename": "NameError",
     "evalue": "name 'prestige' is not defined",
     "output_type": "error",
     "traceback": [
      "\u001b[0;31m---------------------------------------------------------------------------\u001b[0m",
      "\u001b[0;31mNameError\u001b[0m                                 Traceback (most recent call last)",
      "Cell \u001b[0;32mIn [133], line 1\u001b[0m\n\u001b[0;32m----> 1\u001b[0m prestige_model \u001b[38;5;241m=\u001b[39m ols(\u001b[38;5;124m\"\u001b[39m\u001b[38;5;124mprestige ~ income + education\u001b[39m\u001b[38;5;124m\"\u001b[39m, data\u001b[38;5;241m=\u001b[39m\u001b[43mprestige\u001b[49m)\u001b[38;5;241m.\u001b[39mfit()\n",
      "\u001b[0;31mNameError\u001b[0m: name 'prestige' is not defined"
     ]
    }
   ],
   "source": [
    "prestige_model = ols(\"prestige ~ income + education\", data=prestige).fit()"
   ]
  },
  {
   "cell_type": "code",
   "execution_count": 134,
   "id": "6d8201ec",
   "metadata": {
    "execution": {
     "iopub.execute_input": "2023-05-10T01:12:20.406093Z",
     "iopub.status.busy": "2023-05-10T01:12:20.406007Z",
     "iopub.status.idle": "2023-05-10T01:12:20.412106Z",
     "shell.execute_reply": "2023-05-10T01:12:20.411862Z"
    },
    "lines_to_next_cell": 2
   },
   "outputs": [
    {
     "ename": "NameError",
     "evalue": "name 'prestige_model' is not defined",
     "output_type": "error",
     "traceback": [
      "\u001b[0;31m---------------------------------------------------------------------------\u001b[0m",
      "\u001b[0;31mNameError\u001b[0m                                 Traceback (most recent call last)",
      "Cell \u001b[0;32mIn [134], line 1\u001b[0m\n\u001b[0;32m----> 1\u001b[0m \u001b[38;5;28mprint\u001b[39m(\u001b[43mprestige_model\u001b[49m\u001b[38;5;241m.\u001b[39msummary())\n",
      "\u001b[0;31mNameError\u001b[0m: name 'prestige_model' is not defined"
     ]
    }
   ],
   "source": [
    "print(prestige_model.summary())"
   ]
  }
 ],
 "metadata": {
  "jupytext": {
   "cell_metadata_filter": "-all",
   "main_language": "python",
   "notebook_metadata_filter": "-all"
  },
  "kernelspec": {
   "display_name": "base",
   "language": "python",
   "name": "python3"
  },
  "language_info": {
   "codemirror_mode": {
    "name": "ipython",
    "version": 3
   },
   "file_extension": ".py",
   "mimetype": "text/x-python",
   "name": "python",
   "nbconvert_exporter": "python",
   "pygments_lexer": "ipython3",
   "version": "3.9.12"
  }
 },
 "nbformat": 4,
 "nbformat_minor": 5
}
