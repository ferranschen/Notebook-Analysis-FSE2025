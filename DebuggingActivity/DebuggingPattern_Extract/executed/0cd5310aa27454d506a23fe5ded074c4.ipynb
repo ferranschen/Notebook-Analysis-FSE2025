{
 "cells": [
  {
   "cell_type": "code",
   "execution_count": 1,
   "id": "fb15d7b3",
   "metadata": {
    "execution": {
     "iopub.execute_input": "2023-05-10T02:43:13.168616Z",
     "iopub.status.busy": "2023-05-10T02:43:13.168488Z",
     "iopub.status.idle": "2023-05-10T02:43:13.177442Z",
     "shell.execute_reply": "2023-05-10T02:43:13.177090Z"
    }
   },
   "outputs": [],
   "source": [
    "get_ipython().run_cell_magic('capture', '', \"%logstop\\n%logstart -t -r -q ipython_command_log.py global\\n\\n#- IRONHACKS RESEARCH TRACKING CODE\\n#----------------------------------\\n# The following code is used to help our research team understand how use \\n# our notebook environment. We do not collect any personal information with\\n# the following code, it is used to measure when and how often you work on\\n# your submission files.\\n\\nimport os\\nfrom datetime import datetime\\nimport IPython.core.history as history\\n\\nha = history.HistoryAccessor()\\nha_tail = ha.get_tail(1)\\nha_cmd = next(ha_tail)\\nsession_id = str(ha_cmd[0])\\ncommand_id = str(ha_cmd[1])\\ntimestamp = datetime.utcnow().isoformat()\\nhistory_line = ','.join([session_id, command_id, timestamp]) + '\\\\n'\\nlogfile = open(os.environ['HOME']+'/ipython_session_log.csv', 'a')\\nlogfile.write(history_line)\\nlogfile.close()\\n\")"
   ]
  },
  {
   "cell_type": "code",
   "execution_count": 2,
   "id": "0ce9cb4c",
   "metadata": {
    "execution": {
     "iopub.execute_input": "2023-05-10T02:43:13.179106Z",
     "iopub.status.busy": "2023-05-10T02:43:13.178989Z",
     "iopub.status.idle": "2023-05-10T02:43:14.308402Z",
     "shell.execute_reply": "2023-05-10T02:43:14.307693Z"
    }
   },
   "outputs": [],
   "source": [
    "get_ipython().run_cell_magic('capture', '', \"\\n#- INSTALL ADDITIONAL LIBRARIES IF REQUIRED\\n#------------------------------------------\\n# This is normally not required. The hub environment comes preinstaled with \\n# many packages that you can already use without setup. In case there is some\\n# other library you would like to use that isn't on the list you run this command\\n# once to install them.  If it is already installed this command has no effect.\\n\\n!python3 -m pip install pandas\\n\")"
   ]
  },
  {
   "cell_type": "markdown",
   "id": "3e2a6677",
   "metadata": {},
   "source": [
    "- IMPORT THE LIBRARIES YOU WILL USE\n",
    "------------------------------------------\n",
    "You only need to import packages one time per notebook session. To keep your\n",
    "notebook clean and organized you can handle all imports at the top of your file.\n",
    "The following are included for example purposed, feel free to modify or delete \n",
    "anything in this section."
   ]
  },
  {
   "cell_type": "code",
   "execution_count": 3,
   "id": "b9133770",
   "metadata": {
    "execution": {
     "iopub.execute_input": "2023-05-10T02:43:14.311579Z",
     "iopub.status.busy": "2023-05-10T02:43:14.311350Z",
     "iopub.status.idle": "2023-05-10T02:43:15.090513Z",
     "shell.execute_reply": "2023-05-10T02:43:15.090237Z"
    }
   },
   "outputs": [],
   "source": [
    "import csv\n",
    "import pandas as pd\n",
    "import numpy as np\n",
    "import seaborn as sns\n",
    "from google.cloud import bigquery\n",
    "from google.oauth2 import service_account\n",
    "from google.cloud.bigquery import magics"
   ]
  },
  {
   "cell_type": "code",
   "execution_count": 4,
   "id": "d11f48d2",
   "metadata": {
    "execution": {
     "iopub.execute_input": "2023-05-10T02:43:15.092247Z",
     "iopub.status.busy": "2023-05-10T02:43:15.092066Z",
     "iopub.status.idle": "2023-05-10T02:43:16.316336Z",
     "shell.execute_reply": "2023-05-10T02:43:16.315582Z"
    },
    "lines_to_next_cell": 1
   },
   "outputs": [
    {
     "name": "stdout",
     "output_type": "stream",
     "text": [
      "\u001b[33mDEPRECATION: Configuring installation scheme with distutils config files is deprecated and will no longer work in the near future. If you are using a Homebrew or Linuxbrew Python, please see discussion at https://github.com/Homebrew/homebrew-core/issues/76621\u001b[0m\u001b[33m\r\n",
      "\u001b[0m"
     ]
    },
    {
     "name": "stdout",
     "output_type": "stream",
     "text": [
      "Requirement already satisfied: db-dtypes in /opt/homebrew/lib/python3.9/site-packages (1.0.5)\r\n",
      "Requirement already satisfied: pyarrow>=3.0.0 in /opt/homebrew/lib/python3.9/site-packages (from db-dtypes) (10.0.0)\r\n",
      "Requirement already satisfied: numpy<2.0dev,>=1.16.6 in /opt/homebrew/lib/python3.9/site-packages (from db-dtypes) (1.23.4)\r\n",
      "Requirement already satisfied: packaging>=17.0 in /Users/weihaochen/Library/Python/3.9/lib/python/site-packages (from db-dtypes) (21.3)\r\n",
      "Requirement already satisfied: pandas<2.0dev,>=0.24.2 in /opt/homebrew/lib/python3.9/site-packages (from db-dtypes) (1.5.1)\r\n",
      "Requirement already satisfied: pyparsing!=3.0.5,>=2.0.2 in /Users/weihaochen/Library/Python/3.9/lib/python/site-packages (from packaging>=17.0->db-dtypes) (3.0.9)\r\n",
      "Requirement already satisfied: python-dateutil>=2.8.1 in /Users/weihaochen/Library/Python/3.9/lib/python/site-packages (from pandas<2.0dev,>=0.24.2->db-dtypes) (2.8.2)\r\n",
      "Requirement already satisfied: pytz>=2020.1 in /opt/homebrew/lib/python3.9/site-packages (from pandas<2.0dev,>=0.24.2->db-dtypes) (2022.6)\r\n",
      "Requirement already satisfied: six>=1.5 in /Users/weihaochen/Library/Python/3.9/lib/python/site-packages (from python-dateutil>=2.8.1->pandas<2.0dev,>=0.24.2->db-dtypes) (1.16.0)\r\n"
     ]
    },
    {
     "name": "stdout",
     "output_type": "stream",
     "text": [
      "\u001b[33mDEPRECATION: Configuring installation scheme with distutils config files is deprecated and will no longer work in the near future. If you are using a Homebrew or Linuxbrew Python, please see discussion at https://github.com/Homebrew/homebrew-core/issues/76621\u001b[0m\u001b[33m\r\n",
      "\u001b[0m\u001b[33mWARNING: You are using pip version 22.0.4; however, version 23.1.2 is available.\r\n",
      "You should consider upgrading via the '/opt/homebrew/opt/python@3.9/bin/python3.9 -m pip install --upgrade pip' command.\u001b[0m\u001b[33m\r\n",
      "\u001b[0m"
     ]
    },
    {
     "name": "stdout",
     "output_type": "stream",
     "text": [
      "Note: you may need to restart the kernel to use updated packages.\n"
     ]
    }
   ],
   "source": [
    "get_ipython().run_line_magic('pip', 'install db-dtypes')"
   ]
  },
  {
   "cell_type": "markdown",
   "id": "c2d7f676",
   "metadata": {},
   "source": [
    "- DEFINE YOUR CLASSES AND FUNCTIONS \n",
    "-----------------------------------\n",
    "This is not required, but is helpful in keeping your notebook organized. \n",
    "You can use the following cell or several cells to define your functions\n",
    "and classes to keep them separate from your analysis or results code.\n",
    "In general it useful to define your methods in a separate cell from where\n",
    "it is run."
   ]
  },
  {
   "cell_type": "code",
   "execution_count": 5,
   "id": "03ab7394",
   "metadata": {
    "execution": {
     "iopub.execute_input": "2023-05-10T02:43:16.327297Z",
     "iopub.status.busy": "2023-05-10T02:43:16.327053Z",
     "iopub.status.idle": "2023-05-10T02:43:16.342353Z",
     "shell.execute_reply": "2023-05-10T02:43:16.341231Z"
    },
    "lines_to_next_cell": 1
   },
   "outputs": [],
   "source": [
    "def createSubmission():\n",
    "    return"
   ]
  },
  {
   "cell_type": "markdown",
   "id": "b78714ea",
   "metadata": {},
   "source": [
    "load data\n",
    "CONFIGURE THE BIGQUERY SETTINGS"
   ]
  },
  {
   "cell_type": "code",
   "execution_count": 6,
   "id": "f7064ee9",
   "metadata": {
    "execution": {
     "iopub.execute_input": "2023-05-10T02:43:16.349902Z",
     "iopub.status.busy": "2023-05-10T02:43:16.349690Z",
     "iopub.status.idle": "2023-05-10T02:43:16.368093Z",
     "shell.execute_reply": "2023-05-10T02:43:16.366328Z"
    }
   },
   "outputs": [],
   "source": [
    "BIGQUERY_PROJECT = 'ironhacks-data'\n",
    "bigquery_client = bigquery.Client(project=BIGQUERY_PROJECT)"
   ]
  },
  {
   "cell_type": "code",
   "execution_count": 7,
   "id": "39ebb796",
   "metadata": {
    "execution": {
     "iopub.execute_input": "2023-05-10T02:43:16.377072Z",
     "iopub.status.busy": "2023-05-10T02:43:16.376281Z",
     "iopub.status.idle": "2023-05-10T02:43:16.382732Z",
     "shell.execute_reply": "2023-05-10T02:43:16.381865Z"
    }
   },
   "outputs": [],
   "source": [
    "#Unemployment Data\n",
    "query = \"\"\"\n",
    "SELECT *\n",
    "FROM `ironhacks-data.ironhacks_competition.unemployment_data`\n",
    "\"\"\""
   ]
  },
  {
   "cell_type": "code",
   "execution_count": 8,
   "id": "1fb5a4e8",
   "metadata": {
    "execution": {
     "iopub.execute_input": "2023-05-10T02:43:16.386994Z",
     "iopub.status.busy": "2023-05-10T02:43:16.386612Z",
     "iopub.status.idle": "2023-05-10T02:43:17.895630Z",
     "shell.execute_reply": "2023-05-10T02:43:17.895175Z"
    }
   },
   "outputs": [],
   "source": [
    "# QUERY THE DATA ONCE\n",
    "query_job = bigquery_client.query(query)\n",
    "unemployment_data = query_job.to_dataframe()"
   ]
  },
  {
   "cell_type": "code",
   "execution_count": 9,
   "id": "028e25ad",
   "metadata": {
    "execution": {
     "iopub.execute_input": "2023-05-10T02:43:17.897456Z",
     "iopub.status.busy": "2023-05-10T02:43:17.897335Z",
     "iopub.status.idle": "2023-05-10T02:43:17.899247Z",
     "shell.execute_reply": "2023-05-10T02:43:17.898988Z"
    }
   },
   "outputs": [],
   "source": [
    "# Wage Data\n",
    "query = \"\"\"\n",
    "SELECT *\n",
    "FROM `ironhacks-data.ironhacks_competition.wage_data`\n",
    "\"\"\""
   ]
  },
  {
   "cell_type": "code",
   "execution_count": 10,
   "id": "787751bd",
   "metadata": {
    "execution": {
     "iopub.execute_input": "2023-05-10T02:43:17.900661Z",
     "iopub.status.busy": "2023-05-10T02:43:17.900561Z",
     "iopub.status.idle": "2023-05-10T02:43:19.220153Z",
     "shell.execute_reply": "2023-05-10T02:43:19.219793Z"
    }
   },
   "outputs": [],
   "source": [
    "# QUERY THE DATA ONCE\n",
    "query_job = bigquery_client.query(query)\n",
    "wage_data = query_job.to_dataframe()"
   ]
  },
  {
   "cell_type": "code",
   "execution_count": 11,
   "id": "57ec3f95",
   "metadata": {
    "execution": {
     "iopub.execute_input": "2023-05-10T02:43:19.221948Z",
     "iopub.status.busy": "2023-05-10T02:43:19.221843Z",
     "iopub.status.idle": "2023-05-10T02:43:19.223840Z",
     "shell.execute_reply": "2023-05-10T02:43:19.223569Z"
    }
   },
   "outputs": [],
   "source": [
    "# Prediction Data\n",
    "query = \"\"\"\n",
    "SELECT *\n",
    "FROM `ironhacks-data.ironhacks_competition.prediction_list`\n",
    "\"\"\""
   ]
  },
  {
   "cell_type": "code",
   "execution_count": 12,
   "id": "522e6814",
   "metadata": {
    "execution": {
     "iopub.execute_input": "2023-05-10T02:43:19.225326Z",
     "iopub.status.busy": "2023-05-10T02:43:19.225203Z",
     "iopub.status.idle": "2023-05-10T02:43:20.664607Z",
     "shell.execute_reply": "2023-05-10T02:43:20.663651Z"
    }
   },
   "outputs": [],
   "source": [
    "# QUERY THE DATA ONCE\n",
    "query_job = bigquery_client.query(query)\n",
    "prediction_data = query_job.to_dataframe()"
   ]
  },
  {
   "cell_type": "code",
   "execution_count": 13,
   "id": "bc5cbd2c",
   "metadata": {
    "execution": {
     "iopub.execute_input": "2023-05-10T02:43:20.669963Z",
     "iopub.status.busy": "2023-05-10T02:43:20.669508Z",
     "iopub.status.idle": "2023-05-10T02:43:21.877791Z",
     "shell.execute_reply": "2023-05-10T02:43:21.877250Z"
    },
    "lines_to_next_cell": 2
   },
   "outputs": [
    {
     "name": "stdout",
     "output_type": "stream",
     "text": [
      "\u001b[33mDEPRECATION: Configuring installation scheme with distutils config files is deprecated and will no longer work in the near future. If you are using a Homebrew or Linuxbrew Python, please see discussion at https://github.com/Homebrew/homebrew-core/issues/76621\u001b[0m\u001b[33m\r\n",
      "\u001b[0m"
     ]
    },
    {
     "name": "stdout",
     "output_type": "stream",
     "text": [
      "Requirement already satisfied: db-dtypes in /opt/homebrew/lib/python3.9/site-packages (1.0.5)\r\n",
      "Requirement already satisfied: packaging>=17.0 in /Users/weihaochen/Library/Python/3.9/lib/python/site-packages (from db-dtypes) (21.3)\r\n",
      "Requirement already satisfied: numpy<2.0dev,>=1.16.6 in /opt/homebrew/lib/python3.9/site-packages (from db-dtypes) (1.23.4)\r\n",
      "Requirement already satisfied: pyarrow>=3.0.0 in /opt/homebrew/lib/python3.9/site-packages (from db-dtypes) (10.0.0)\r\n",
      "Requirement already satisfied: pandas<2.0dev,>=0.24.2 in /opt/homebrew/lib/python3.9/site-packages (from db-dtypes) (1.5.1)\r\n",
      "Requirement already satisfied: pyparsing!=3.0.5,>=2.0.2 in /Users/weihaochen/Library/Python/3.9/lib/python/site-packages (from packaging>=17.0->db-dtypes) (3.0.9)\r\n",
      "Requirement already satisfied: pytz>=2020.1 in /opt/homebrew/lib/python3.9/site-packages (from pandas<2.0dev,>=0.24.2->db-dtypes) (2022.6)\r\n",
      "Requirement already satisfied: python-dateutil>=2.8.1 in /Users/weihaochen/Library/Python/3.9/lib/python/site-packages (from pandas<2.0dev,>=0.24.2->db-dtypes) (2.8.2)\r\n",
      "Requirement already satisfied: six>=1.5 in /Users/weihaochen/Library/Python/3.9/lib/python/site-packages (from python-dateutil>=2.8.1->pandas<2.0dev,>=0.24.2->db-dtypes) (1.16.0)\r\n"
     ]
    },
    {
     "name": "stdout",
     "output_type": "stream",
     "text": [
      "\u001b[33mDEPRECATION: Configuring installation scheme with distutils config files is deprecated and will no longer work in the near future. If you are using a Homebrew or Linuxbrew Python, please see discussion at https://github.com/Homebrew/homebrew-core/issues/76621\u001b[0m\u001b[33m\r\n",
      "\u001b[0m\u001b[33mWARNING: You are using pip version 22.0.4; however, version 23.1.2 is available.\r\n",
      "You should consider upgrading via the '/opt/homebrew/opt/python@3.9/bin/python3.9 -m pip install --upgrade pip' command.\u001b[0m\u001b[33m\r\n",
      "\u001b[0m"
     ]
    },
    {
     "name": "stdout",
     "output_type": "stream",
     "text": [
      "Note: you may need to restart the kernel to use updated packages.\n"
     ]
    }
   ],
   "source": [
    "get_ipython().run_line_magic('pip', 'install db-dtypes')"
   ]
  }
 ],
 "metadata": {
  "jupytext": {
   "cell_metadata_filter": "-all",
   "main_language": "python",
   "notebook_metadata_filter": "-all"
  },
  "language_info": {
   "codemirror_mode": {
    "name": "ipython",
    "version": 3
   },
   "file_extension": ".py",
   "mimetype": "text/x-python",
   "name": "python",
   "nbconvert_exporter": "python",
   "pygments_lexer": "ipython3",
   "version": "3.9.12"
  }
 },
 "nbformat": 4,
 "nbformat_minor": 5
}
