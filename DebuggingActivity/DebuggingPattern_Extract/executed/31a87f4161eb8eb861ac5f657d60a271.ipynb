{
 "cells": [
  {
   "cell_type": "code",
   "execution_count": 1,
   "id": "05826e80",
   "metadata": {
    "execution": {
     "iopub.execute_input": "2023-05-10T02:20:07.435702Z",
     "iopub.status.busy": "2023-05-10T02:20:07.435073Z",
     "iopub.status.idle": "2023-05-10T02:20:07.446798Z",
     "shell.execute_reply": "2023-05-10T02:20:07.446055Z"
    }
   },
   "outputs": [
    {
     "name": "stdout",
     "output_type": "stream",
     "text": [
      "Hello World :)\n"
     ]
    }
   ],
   "source": [
    "print(\"Hello World :)\")"
   ]
  },
  {
   "cell_type": "code",
   "execution_count": 2,
   "id": "f44d598a",
   "metadata": {
    "execution": {
     "iopub.execute_input": "2023-05-10T02:20:07.449953Z",
     "iopub.status.busy": "2023-05-10T02:20:07.449715Z",
     "iopub.status.idle": "2023-05-10T02:20:07.882643Z",
     "shell.execute_reply": "2023-05-10T02:20:07.882365Z"
    }
   },
   "outputs": [],
   "source": [
    "import os\n",
    "import pandas\n",
    "from google.cloud import bigquery\n",
    "from google.oauth2 import service_account\n",
    "from google.cloud.bigquery import magics"
   ]
  },
  {
   "cell_type": "code",
   "execution_count": 3,
   "id": "fc9e0acf",
   "metadata": {
    "execution": {
     "iopub.execute_input": "2023-05-10T02:20:07.884336Z",
     "iopub.status.busy": "2023-05-10T02:20:07.884198Z",
     "iopub.status.idle": "2023-05-10T02:20:07.890817Z",
     "shell.execute_reply": "2023-05-10T02:20:07.890526Z"
    }
   },
   "outputs": [],
   "source": [
    "BIGQUERY_PROJECT = 'ironhacks-data'\n",
    "bigquery_client = bigquery.Client(project=BIGQUERY_PROJECT)"
   ]
  },
  {
   "cell_type": "code",
   "execution_count": 4,
   "id": "330fe555",
   "metadata": {
    "execution": {
     "iopub.execute_input": "2023-05-10T02:20:07.892473Z",
     "iopub.status.busy": "2023-05-10T02:20:07.892389Z",
     "iopub.status.idle": "2023-05-10T02:20:07.894388Z",
     "shell.execute_reply": "2023-05-10T02:20:07.894141Z"
    }
   },
   "outputs": [],
   "source": [
    "query = \"\"\"\n",
    "SELECT COUNT(*)\n",
    "FROM `ironhacks-data.ironhacks_competition.unemployment_data`\n",
    "\"\"\""
   ]
  },
  {
   "cell_type": "code",
   "execution_count": 5,
   "id": "28f465a9",
   "metadata": {
    "execution": {
     "iopub.execute_input": "2023-05-10T02:20:07.895843Z",
     "iopub.status.busy": "2023-05-10T02:20:07.895762Z",
     "iopub.status.idle": "2023-05-10T02:20:09.720658Z",
     "shell.execute_reply": "2023-05-10T02:20:09.719890Z"
    }
   },
   "outputs": [
    {
     "name": "stdout",
     "output_type": "stream",
     "text": [
      "QueryJob<project=ironhacks-data, location=US, id=03e86c88-b4d1-4b10-9188-c4e595902fe4>\n"
     ]
    },
    {
     "name": "stdout",
     "output_type": "stream",
     "text": [
      "     f0_\n",
      "0  16833\n"
     ]
    }
   ],
   "source": [
    "query_job = bigquery_client.query(query)\n",
    "print(query_job)\n",
    "covid19_cases_data = query_job.to_dataframe()\n",
    "print(covid19_cases_data)"
   ]
  },
  {
   "cell_type": "code",
   "execution_count": 6,
   "id": "2901ab18",
   "metadata": {
    "execution": {
     "iopub.execute_input": "2023-05-10T02:20:09.725784Z",
     "iopub.status.busy": "2023-05-10T02:20:09.725358Z",
     "iopub.status.idle": "2023-05-10T02:20:12.365404Z",
     "shell.execute_reply": "2023-05-10T02:20:12.364816Z"
    }
   },
   "outputs": [
    {
     "name": "stdout",
     "output_type": "stream",
     "text": [
      "\u001b[33mWARNING: Ignoring invalid distribution -umpy (/opt/anaconda3/lib/python3.9/site-packages)\u001b[0m\r\n",
      "\u001b[33mWARNING: Ignoring invalid distribution -umpy (/opt/anaconda3/lib/python3.9/site-packages)\u001b[0m\r\n",
      "Requirement already satisfied: db-dtypes in /opt/anaconda3/lib/python3.9/site-packages (1.0.5)\r\n",
      "Requirement already satisfied: numpy<2.0dev,>=1.16.6 in /opt/anaconda3/lib/python3.9/site-packages (from db-dtypes) (1.22.4)\r\n",
      "Requirement already satisfied: packaging>=17.0 in /opt/anaconda3/lib/python3.9/site-packages (from db-dtypes) (21.3)\r\n",
      "Requirement already satisfied: pyarrow>=3.0.0 in /opt/anaconda3/lib/python3.9/site-packages (from db-dtypes) (10.0.1)\r\n",
      "Requirement already satisfied: pandas<2.0dev,>=0.24.2 in /opt/anaconda3/lib/python3.9/site-packages (from db-dtypes) (1.5.3)\r\n",
      "Requirement already satisfied: pyparsing!=3.0.5,>=2.0.2 in /opt/anaconda3/lib/python3.9/site-packages (from packaging>=17.0->db-dtypes) (3.0.4)\r\n",
      "Requirement already satisfied: python-dateutil>=2.8.1 in /opt/anaconda3/lib/python3.9/site-packages (from pandas<2.0dev,>=0.24.2->db-dtypes) (2.8.2)\r\n",
      "Requirement already satisfied: pytz>=2020.1 in /opt/anaconda3/lib/python3.9/site-packages (from pandas<2.0dev,>=0.24.2->db-dtypes) (2021.3)\r\n",
      "Requirement already satisfied: six>=1.5 in /opt/anaconda3/lib/python3.9/site-packages (from python-dateutil>=2.8.1->pandas<2.0dev,>=0.24.2->db-dtypes) (1.16.0)\r\n",
      "\u001b[33mWARNING: Ignoring invalid distribution -umpy (/opt/anaconda3/lib/python3.9/site-packages)\u001b[0m\r\n"
     ]
    },
    {
     "name": "stdout",
     "output_type": "stream",
     "text": [
      "\u001b[33mWARNING: Ignoring invalid distribution -umpy (/opt/anaconda3/lib/python3.9/site-packages)\u001b[0m\r\n",
      "\u001b[33mWARNING: Ignoring invalid distribution -umpy (/opt/anaconda3/lib/python3.9/site-packages)\u001b[0m\r\n",
      "\u001b[33mWARNING: Ignoring invalid distribution -umpy (/opt/anaconda3/lib/python3.9/site-packages)\u001b[0m\r\n"
     ]
    }
   ],
   "source": [
    "get_ipython().system('pip install db-dtypes')"
   ]
  },
  {
   "cell_type": "code",
   "execution_count": 7,
   "id": "9bd60650",
   "metadata": {
    "execution": {
     "iopub.execute_input": "2023-05-10T02:20:12.368287Z",
     "iopub.status.busy": "2023-05-10T02:20:12.368064Z",
     "iopub.status.idle": "2023-05-10T02:20:12.371097Z",
     "shell.execute_reply": "2023-05-10T02:20:12.370692Z"
    }
   },
   "outputs": [],
   "source": [
    "import os\n",
    "import pandas\n",
    "from google.cloud import bigquery\n",
    "from google.oauth2 import service_account\n",
    "from google.cloud.bigquery import magics"
   ]
  },
  {
   "cell_type": "code",
   "execution_count": 8,
   "id": "d30b7179",
   "metadata": {
    "execution": {
     "iopub.execute_input": "2023-05-10T02:20:12.373295Z",
     "iopub.status.busy": "2023-05-10T02:20:12.373144Z",
     "iopub.status.idle": "2023-05-10T02:20:12.381371Z",
     "shell.execute_reply": "2023-05-10T02:20:12.380870Z"
    }
   },
   "outputs": [],
   "source": [
    "BIGQUERY_PROJECT = 'ironhacks-data'\n",
    "bigquery_client = bigquery.Client(project=BIGQUERY_PROJECT)"
   ]
  },
  {
   "cell_type": "code",
   "execution_count": 9,
   "id": "6beab935",
   "metadata": {
    "execution": {
     "iopub.execute_input": "2023-05-10T02:20:12.383713Z",
     "iopub.status.busy": "2023-05-10T02:20:12.383540Z",
     "iopub.status.idle": "2023-05-10T02:20:12.385826Z",
     "shell.execute_reply": "2023-05-10T02:20:12.385467Z"
    }
   },
   "outputs": [],
   "source": [
    "query = \"\"\"\n",
    "SELECT COUNT(*)\n",
    "FROM `ironhacks-data.ironhacks_competition.unemployment_data`\n",
    "\"\"\""
   ]
  },
  {
   "cell_type": "code",
   "execution_count": 10,
   "id": "5890dffa",
   "metadata": {
    "execution": {
     "iopub.execute_input": "2023-05-10T02:20:12.387532Z",
     "iopub.status.busy": "2023-05-10T02:20:12.387396Z",
     "iopub.status.idle": "2023-05-10T02:20:14.265592Z",
     "shell.execute_reply": "2023-05-10T02:20:14.264953Z"
    },
    "lines_to_next_cell": 2
   },
   "outputs": [
    {
     "name": "stdout",
     "output_type": "stream",
     "text": [
      "QueryJob<project=ironhacks-data, location=US, id=22144e77-15a8-4dd4-b9d2-0f105baf2e19>\n"
     ]
    },
    {
     "name": "stdout",
     "output_type": "stream",
     "text": [
      "     f0_\n",
      "0  16833\n"
     ]
    }
   ],
   "source": [
    "query_job = bigquery_client.query(query)\n",
    "print(query_job)\n",
    "covid19_cases_data = query_job.to_dataframe()\n",
    "print(covid19_cases_data)"
   ]
  }
 ],
 "metadata": {
  "jupytext": {
   "cell_metadata_filter": "-all",
   "main_language": "python",
   "notebook_metadata_filter": "-all"
  },
  "kernelspec": {
   "display_name": "base",
   "language": "python",
   "name": "python3"
  },
  "language_info": {
   "codemirror_mode": {
    "name": "ipython",
    "version": 3
   },
   "file_extension": ".py",
   "mimetype": "text/x-python",
   "name": "python",
   "nbconvert_exporter": "python",
   "pygments_lexer": "ipython3",
   "version": "3.9.12"
  }
 },
 "nbformat": 4,
 "nbformat_minor": 5
}
