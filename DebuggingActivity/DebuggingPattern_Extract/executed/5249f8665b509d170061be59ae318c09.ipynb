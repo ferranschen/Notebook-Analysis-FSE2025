{
 "cells": [
  {
   "cell_type": "code",
   "execution_count": 1,
   "id": "dec4a048",
   "metadata": {
    "execution": {
     "iopub.execute_input": "2023-05-10T00:31:46.156389Z",
     "iopub.status.busy": "2023-05-10T00:31:46.155738Z",
     "iopub.status.idle": "2023-05-10T00:31:46.578884Z",
     "shell.execute_reply": "2023-05-10T00:31:46.578572Z"
    }
   },
   "outputs": [],
   "source": [
    "import os\n",
    "import pandas\n",
    "from google.cloud import bigquery\n",
    "from google.oauth2 import service_account\n",
    "from google.cloud.bigquery import magics"
   ]
  },
  {
   "cell_type": "markdown",
   "id": "cea6f67c",
   "metadata": {},
   "source": [
    "CONFIGURE THE BIGQUERY SETTINGS"
   ]
  },
  {
   "cell_type": "code",
   "execution_count": 2,
   "id": "e87305d2",
   "metadata": {
    "execution": {
     "iopub.execute_input": "2023-05-10T00:31:46.580835Z",
     "iopub.status.busy": "2023-05-10T00:31:46.580654Z",
     "iopub.status.idle": "2023-05-10T00:31:46.588148Z",
     "shell.execute_reply": "2023-05-10T00:31:46.587821Z"
    }
   },
   "outputs": [],
   "source": [
    "BIGQUERY_PROJECT = 'ironhacks-data'\n",
    "bigquery_client = bigquery.Client(project=BIGQUERY_PROJECT)"
   ]
  },
  {
   "cell_type": "code",
   "execution_count": 3,
   "id": "47083bf2",
   "metadata": {
    "execution": {
     "iopub.execute_input": "2023-05-10T00:31:46.589935Z",
     "iopub.status.busy": "2023-05-10T00:31:46.589815Z",
     "iopub.status.idle": "2023-05-10T00:31:46.591800Z",
     "shell.execute_reply": "2023-05-10T00:31:46.591551Z"
    }
   },
   "outputs": [],
   "source": [
    "import db_dtypes\n",
    "query = \"\"\"\n",
    "SELECT *\n",
    "FROM `ironhacks-data.ironhacks_training.covid19_cases`\n",
    "\"\"\""
   ]
  },
  {
   "cell_type": "code",
   "execution_count": 4,
   "id": "b3479330",
   "metadata": {
    "execution": {
     "iopub.execute_input": "2023-05-10T00:31:46.593227Z",
     "iopub.status.busy": "2023-05-10T00:31:46.593122Z",
     "iopub.status.idle": "2023-05-10T00:31:48.406277Z",
     "shell.execute_reply": "2023-05-10T00:31:48.405528Z"
    }
   },
   "outputs": [],
   "source": [
    "# QUERY THE DATA ONCE\n",
    "query_job = bigquery_client.query(query)\n",
    "covid19_cases_data = query_job.to_dataframe()"
   ]
  },
  {
   "cell_type": "code",
   "execution_count": 5,
   "id": "3ddc7ae7",
   "metadata": {
    "execution": {
     "iopub.execute_input": "2023-05-10T00:31:48.410331Z",
     "iopub.status.busy": "2023-05-10T00:31:48.409822Z",
     "iopub.status.idle": "2023-05-10T00:31:48.418637Z",
     "shell.execute_reply": "2023-05-10T00:31:48.418100Z"
    },
    "lines_to_next_cell": 2
   },
   "outputs": [
    {
     "name": "stdout",
     "output_type": "stream",
     "text": [
      "Columns:\n",
      "week_number\n",
      "start_date\n",
      "county\n",
      "fips\n",
      "cases\n",
      "deaths\n",
      "\n",
      "Results:\n",
      "   week_number  start_date  county   fips  cases  deaths\n",
      "0            9  2021-03-01  Marion  18097    664      23\n",
      "1           12  2021-03-22  Marion  18097    623      11\n",
      "2           19  2021-05-10  Marion  18097   1156       4\n",
      "3           11  2021-03-15  Marion  18097    560      13\n",
      "4            6  2021-02-08  Marion  18097   1542     219\n"
     ]
    }
   ],
   "source": [
    "# THEN WORK BELOW TO DO SOMETHING THE RESULTS\n",
    "print(\"Columns:\")\n",
    "print('\\n'.join(covid19_cases_data.columns))\n",
    "print(\"\\nResults:\")\n",
    "print(covid19_cases_data.head())"
   ]
  }
 ],
 "metadata": {
  "jupytext": {
   "cell_metadata_filter": "-all",
   "main_language": "python",
   "notebook_metadata_filter": "-all"
  },
  "kernelspec": {
   "display_name": "base",
   "language": "python",
   "name": "python3"
  },
  "language_info": {
   "codemirror_mode": {
    "name": "ipython",
    "version": 3
   },
   "file_extension": ".py",
   "mimetype": "text/x-python",
   "name": "python",
   "nbconvert_exporter": "python",
   "pygments_lexer": "ipython3",
   "version": "3.9.12"
  }
 },
 "nbformat": 4,
 "nbformat_minor": 5
}
