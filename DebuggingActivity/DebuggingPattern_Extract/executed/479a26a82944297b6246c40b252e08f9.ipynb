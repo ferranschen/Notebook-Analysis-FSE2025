{
 "cells": [
  {
   "cell_type": "code",
   "execution_count": 1,
   "id": "99e7d472",
   "metadata": {
    "execution": {
     "iopub.execute_input": "2023-05-10T00:33:00.914562Z",
     "iopub.status.busy": "2023-05-10T00:33:00.914101Z",
     "iopub.status.idle": "2023-05-10T00:33:01.327207Z",
     "shell.execute_reply": "2023-05-10T00:33:01.326875Z"
    }
   },
   "outputs": [],
   "source": [
    "import os\n",
    "import pandas\n",
    "from google.cloud import bigquery\n",
    "from google.oauth2 import service_account\n",
    "from google.cloud.bigquery import magics"
   ]
  },
  {
   "cell_type": "code",
   "execution_count": 2,
   "id": "9f441ec0",
   "metadata": {
    "execution": {
     "iopub.execute_input": "2023-05-10T00:33:01.329023Z",
     "iopub.status.busy": "2023-05-10T00:33:01.328871Z",
     "iopub.status.idle": "2023-05-10T00:33:01.336035Z",
     "shell.execute_reply": "2023-05-10T00:33:01.335717Z"
    }
   },
   "outputs": [],
   "source": [
    "BIGQUERY_PROJECT = 'ironhacks-data'\n",
    "bigquery_client = bigquery.Client(project=BIGQUERY_PROJECT)\n",
    "query = \"\"\"\n",
    "SELECT *\n",
    "FROM `ironhacks-data.ironhacks_competition.unemployment_data`\n",
    "ORDER BY week_number ASC\n",
    "\"\"\""
   ]
  },
  {
   "cell_type": "code",
   "execution_count": 3,
   "id": "43da7827",
   "metadata": {
    "execution": {
     "iopub.execute_input": "2023-05-10T00:33:01.337642Z",
     "iopub.status.busy": "2023-05-10T00:33:01.337552Z",
     "iopub.status.idle": "2023-05-10T00:33:03.108626Z",
     "shell.execute_reply": "2023-05-10T00:33:03.108059Z"
    },
    "lines_to_next_cell": 2
   },
   "outputs": [
    {
     "name": "stdout",
     "output_type": "stream",
     "text": [
      "                                  uu_id  timeperiod  week_number  countyfips  \\\n",
      "0      65f24aac652de33abaf3f227b41e2641    20220101            1       18093   \n",
      "1      14ceb8012cb1b912044297c8933cfcfc    20220101            1       18057   \n",
      "2      f013068de98db1470bd986137a0c6d23    20220101            1       18003   \n",
      "3      f70960d492c2fd067680a14baa0f66e9    20220101            1       18167   \n",
      "4      778946d9696cd6c95f57e8b1e6336389    20220101            1       18167   \n",
      "...                                 ...         ...          ...         ...   \n",
      "16828  447d5984bb8a8179bff002ccd1bba162    20220910           37       18081   \n",
      "16829  7dd5fff353cd08adc694aa74d7fa31af    20220910           37       18063   \n",
      "16830  7dd5fff353cd08adc694aa74d7fa31af    20220910           37       18063   \n",
      "16831  06c78e49b4daedfeb808c42e58fb25e4    20220910           37       18063   \n",
      "16832  06c78e49b4daedfeb808c42e58fb25e4    20220910           37       18063   \n",
      "\n",
      "        tract                                       tract_name  total_claims  \\\n",
      "0      950500      Census Tract 9505, Lawrence County, Indiana            10   \n",
      "1      110506   Census Tract 1105.06, Hamilton County, Indiana            39   \n",
      "2         900            Census Tract 9, Allen County, Indiana            10   \n",
      "3       10600           Census Tract 106, Vigo County, Indiana            35   \n",
      "4       11200           Census Tract 112, Vigo County, Indiana            37   \n",
      "...       ...                                              ...           ...   \n",
      "16828  610802    Census Tract 6108.02, Johnson County, Indiana            10   \n",
      "16829  210202  Census Tract 2102.02, Hendricks County, Indiana            13   \n",
      "16830  210202  Census Tract 2102.02, Hendricks County, Indiana            13   \n",
      "16831  210603  Census Tract 2106.03, Hendricks County, Indiana            11   \n",
      "16832  210603  Census Tract 2106.03, Hendricks County, Indiana            11   \n",
      "\n",
      "       edu_8th_or_less  edu_grades_9_11  edu_hs_grad_equiv  ...  \\\n",
      "0                    0             <NA>               <NA>  ...   \n",
      "1                 <NA>                0               <NA>  ...   \n",
      "2                    0                0               <NA>  ...   \n",
      "3                    0             <NA>                 21  ...   \n",
      "4                    0             <NA>                 24  ...   \n",
      "...                ...              ...                ...  ...   \n",
      "16828                0             <NA>               <NA>  ...   \n",
      "16829                0             <NA>               <NA>  ...   \n",
      "16830                0             <NA>               <NA>  ...   \n",
      "16831                0             <NA>               <NA>  ...   \n",
      "16832                0             <NA>               <NA>  ...   \n",
      "\n",
      "       gender_female  gender_male gender_na race_amerindian race_asian  \\\n",
      "0               <NA>         <NA>         0               0          0   \n",
      "1               <NA>         <NA>         0               0          0   \n",
      "2               <NA>         <NA>         0               0          0   \n",
      "3               <NA>         <NA>         0               0          0   \n",
      "4                 26           11         0               0          0   \n",
      "...              ...          ...       ...             ...        ...   \n",
      "16828           <NA>         <NA>         0               0          0   \n",
      "16829           <NA>         <NA>         0               0          0   \n",
      "16830           <NA>         <NA>         0               0          0   \n",
      "16831           <NA>         <NA>         0               0          0   \n",
      "16832           <NA>         <NA>         0               0          0   \n",
      "\n",
      "       race_black  race_noanswer  race_hawaiiannative  race_other  race_white  \n",
      "0            <NA>              0                    0           0        <NA>  \n",
      "1            <NA>           <NA>                    0        <NA>          28  \n",
      "2            <NA>              0                    0        <NA>        <NA>  \n",
      "3               0           <NA>                    0        <NA>          32  \n",
      "4            <NA>           <NA>                    0        <NA>        <NA>  \n",
      "...           ...            ...                  ...         ...         ...  \n",
      "16828           0              0                    0        <NA>        <NA>  \n",
      "16829           0              0                    0           0          13  \n",
      "16830           0              0                    0           0          13  \n",
      "16831        <NA>              0                    0           0        <NA>  \n",
      "16832        <NA>              0                    0           0        <NA>  \n",
      "\n",
      "[16833 rows x 25 columns]\n"
     ]
    }
   ],
   "source": [
    "# QUERY THE DATA ONCE\n",
    "query_job = bigquery_client.query(query)\n",
    "unemployment_data = query_job.to_dataframe()\n",
    "print(unemployment_data)"
   ]
  }
 ],
 "metadata": {
  "jupytext": {
   "cell_metadata_filter": "-all",
   "main_language": "python",
   "notebook_metadata_filter": "-all"
  },
  "kernelspec": {
   "display_name": "base",
   "language": "python",
   "name": "python3"
  },
  "language_info": {
   "codemirror_mode": {
    "name": "ipython",
    "version": 3
   },
   "file_extension": ".py",
   "mimetype": "text/x-python",
   "name": "python",
   "nbconvert_exporter": "python",
   "pygments_lexer": "ipython3",
   "version": "3.9.12"
  }
 },
 "nbformat": 4,
 "nbformat_minor": 5
}
