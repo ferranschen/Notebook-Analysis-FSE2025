{
 "cells": [
  {
   "cell_type": "code",
   "execution_count": 1,
   "id": "9a943afe",
   "metadata": {
    "execution": {
     "iopub.execute_input": "2023-05-10T02:48:55.347184Z",
     "iopub.status.busy": "2023-05-10T02:48:55.346947Z",
     "iopub.status.idle": "2023-05-10T02:48:55.360017Z",
     "shell.execute_reply": "2023-05-10T02:48:55.359611Z"
    }
   },
   "outputs": [],
   "source": [
    "get_ipython().run_cell_magic('capture', '', \"%logstop\\n%logstart -t -r -q ipython_command_log.py global\\n\\n#- IRONHACKS RESEARCH TRACKING CODE\\n#----------------------------------\\n# The following code is used to help our research team understand how you \\n# our notebook environment. We do not collect any personal information with\\n# the following code, it is used to measure when and how often you work on\\n# your submission files.\\n\\nimport os\\nfrom datetime import datetime\\nimport IPython.core.history as history\\n\\nha = history.HistoryAccessor()\\nha_tail = ha.get_tail(1)\\nha_cmd = next(ha_tail)\\nsession_id = str(ha_cmd[0])\\ncommand_id = str(ha_cmd[1])\\ntimestamp = datetime.utcnow().isoformat()\\nhistory_line = ','.join([session_id, command_id, timestamp]) + '\\\\n'\\nlogfile = open(os.environ['HOME']+'/ipython_session_log.csv', 'a')\\nlogfile.write(history_line)\\nlogfile.close()\\n\")"
   ]
  },
  {
   "cell_type": "code",
   "execution_count": 2,
   "id": "c883c657",
   "metadata": {
    "execution": {
     "iopub.execute_input": "2023-05-10T02:48:55.362099Z",
     "iopub.status.busy": "2023-05-10T02:48:55.361949Z",
     "iopub.status.idle": "2023-05-10T02:48:55.364764Z",
     "shell.execute_reply": "2023-05-10T02:48:55.364425Z"
    }
   },
   "outputs": [],
   "source": [
    "get_ipython().run_cell_magic('capture', '', \"\\n#- INSTALL ADDITIONAL LIBRARIES IF REQUIRED\\n#------------------------------------------\\n# This is normally not required. The hub environment comes preinstaled with \\n# many packages that you can already use without setup. In case there is some\\n# other library you would like to use that isn't on the list you run this command\\n# once to install them.  If it is already installed this command has no effect.\\n\\n#!python3 -m pip install pandas\\n\")"
   ]
  },
  {
   "cell_type": "markdown",
   "id": "712dbb0b",
   "metadata": {},
   "source": [
    "- IMPORT THE LIBRARIES YOU WILL USE\n",
    "------------------------------------------\n",
    "You only need to import packages one time per notebook session. To keep your\n",
    "notebook clean and organized you can handle all imports at the top of your file.\n",
    "The following are included for example purposed, feel free to modify or delete \n",
    "anything in this section."
   ]
  },
  {
   "cell_type": "code",
   "execution_count": 3,
   "id": "40faee7e",
   "metadata": {
    "execution": {
     "iopub.execute_input": "2023-05-10T02:48:55.366435Z",
     "iopub.status.busy": "2023-05-10T02:48:55.366295Z",
     "iopub.status.idle": "2023-05-10T02:48:55.794306Z",
     "shell.execute_reply": "2023-05-10T02:48:55.794052Z"
    }
   },
   "outputs": [],
   "source": [
    "import csv\n",
    "import pandas as pd\n",
    "import numpy as np\n",
    "from google.cloud import bigquery\n",
    "from google.oauth2 import service_account\n",
    "from google.cloud.bigquery import magics"
   ]
  },
  {
   "cell_type": "markdown",
   "id": "4acc7d4f",
   "metadata": {},
   "source": [
    "- DEFINE YOUR CLASSES AND FUNCTIONS \n",
    "-----------------------------------\n",
    "This is not required, but is helpful in keeping your notebook organized. \n",
    "You can use the following cell or several cells to define your functions\n",
    "and classes to keep them separate from your analysis or results code.\n",
    "In general it useful to define your methods in a separate cell from where\n",
    "it is run."
   ]
  },
  {
   "cell_type": "code",
   "execution_count": 4,
   "id": "f59a8903",
   "metadata": {
    "execution": {
     "iopub.execute_input": "2023-05-10T02:48:55.796081Z",
     "iopub.status.busy": "2023-05-10T02:48:55.795921Z",
     "iopub.status.idle": "2023-05-10T02:48:55.803420Z",
     "shell.execute_reply": "2023-05-10T02:48:55.803110Z"
    }
   },
   "outputs": [],
   "source": [
    "BIGQUERY_PROJECT = 'ironhacks-data'\n",
    "bigquery_client = bigquery.Client(project=BIGQUERY_PROJECT)"
   ]
  },
  {
   "cell_type": "code",
   "execution_count": 5,
   "id": "c18410d2",
   "metadata": {
    "execution": {
     "iopub.execute_input": "2023-05-10T02:48:55.805047Z",
     "iopub.status.busy": "2023-05-10T02:48:55.804928Z",
     "iopub.status.idle": "2023-05-10T02:49:02.437443Z",
     "shell.execute_reply": "2023-05-10T02:49:02.436854Z"
    }
   },
   "outputs": [
    {
     "name": "stdout",
     "output_type": "stream",
     "text": [
      "\u001b[33mWARNING: Ignoring invalid distribution -umpy (/opt/anaconda3/lib/python3.9/site-packages)\u001b[0m\r\n"
     ]
    },
    {
     "name": "stdout",
     "output_type": "stream",
     "text": [
      "\u001b[33mWARNING: Ignoring invalid distribution -umpy (/opt/anaconda3/lib/python3.9/site-packages)\u001b[0m\r\n",
      "Requirement already satisfied: db-dtypes in /opt/anaconda3/lib/python3.9/site-packages (1.0.5)\r\n",
      "Requirement already satisfied: pyarrow>=3.0.0 in /opt/anaconda3/lib/python3.9/site-packages (from db-dtypes) (10.0.1)\r\n",
      "Requirement already satisfied: numpy<2.0dev,>=1.16.6 in /opt/anaconda3/lib/python3.9/site-packages (from db-dtypes) (1.22.4)\r\n",
      "Requirement already satisfied: pandas<2.0dev,>=0.24.2 in /opt/anaconda3/lib/python3.9/site-packages (from db-dtypes) (1.5.3)\r\n",
      "Requirement already satisfied: packaging>=17.0 in /opt/anaconda3/lib/python3.9/site-packages (from db-dtypes) (21.3)\r\n",
      "Requirement already satisfied: pyparsing!=3.0.5,>=2.0.2 in /opt/anaconda3/lib/python3.9/site-packages (from packaging>=17.0->db-dtypes) (3.0.4)\r\n",
      "Requirement already satisfied: python-dateutil>=2.8.1 in /opt/anaconda3/lib/python3.9/site-packages (from pandas<2.0dev,>=0.24.2->db-dtypes) (2.8.2)\r\n",
      "Requirement already satisfied: pytz>=2020.1 in /opt/anaconda3/lib/python3.9/site-packages (from pandas<2.0dev,>=0.24.2->db-dtypes) (2021.3)\r\n",
      "Requirement already satisfied: six>=1.5 in /opt/anaconda3/lib/python3.9/site-packages (from python-dateutil>=2.8.1->pandas<2.0dev,>=0.24.2->db-dtypes) (1.16.0)\r\n",
      "\u001b[33mWARNING: Ignoring invalid distribution -umpy (/opt/anaconda3/lib/python3.9/site-packages)\u001b[0m\r\n"
     ]
    },
    {
     "name": "stdout",
     "output_type": "stream",
     "text": [
      "\u001b[33mWARNING: Ignoring invalid distribution -umpy (/opt/anaconda3/lib/python3.9/site-packages)\u001b[0m\r\n",
      "\u001b[33mWARNING: Ignoring invalid distribution -umpy (/opt/anaconda3/lib/python3.9/site-packages)\u001b[0m\r\n",
      "\u001b[33mWARNING: Ignoring invalid distribution -umpy (/opt/anaconda3/lib/python3.9/site-packages)\u001b[0m\r\n"
     ]
    }
   ],
   "source": [
    "!pip install db-dtypes\n",
    "query_unemployment = \"\"\"\n",
    "SELECT *\n",
    "FROM `ironhacks-data.ironhacks_competition.unemployment_data` \n",
    "\"\"\"\n",
    "query = bigquery_client.query(query_unemployment)\n",
    "df_unemployment = query.to_dataframe()\n",
    "#df_unemployment.head()"
   ]
  },
  {
   "cell_type": "code",
   "execution_count": 6,
   "id": "0e63204f",
   "metadata": {
    "execution": {
     "iopub.execute_input": "2023-05-10T02:49:02.441481Z",
     "iopub.status.busy": "2023-05-10T02:49:02.441173Z",
     "iopub.status.idle": "2023-05-10T02:49:04.014150Z",
     "shell.execute_reply": "2023-05-10T02:49:04.013341Z"
    }
   },
   "outputs": [],
   "source": [
    "query_wage = \"\"\"\n",
    "SELECT *\n",
    "FROM `ironhacks-data.ironhacks_competition.wage_data`\n",
    "\"\"\"\n",
    "query = bigquery_client.query(query_wage)\n",
    "df_wage = query.to_dataframe()\n",
    "#df_wage.head()"
   ]
  },
  {
   "cell_type": "code",
   "execution_count": 7,
   "id": "2c1b7ca5",
   "metadata": {
    "execution": {
     "iopub.execute_input": "2023-05-10T02:49:04.019319Z",
     "iopub.status.busy": "2023-05-10T02:49:04.019015Z",
     "iopub.status.idle": "2023-05-10T02:49:05.593311Z",
     "shell.execute_reply": "2023-05-10T02:49:05.592115Z"
    }
   },
   "outputs": [],
   "source": [
    "query_pred_list = \"\"\"\n",
    "SELECT *\n",
    "FROM `ironhacks-data.ironhacks_competition.prediction_list`\n",
    "\"\"\"\n",
    "query = bigquery_client.query(query_pred_list)\n",
    "df_pred_list = query.to_dataframe()\n",
    "#df_pred_list.head()"
   ]
  },
  {
   "cell_type": "code",
   "execution_count": 8,
   "id": "47374154",
   "metadata": {
    "execution": {
     "iopub.execute_input": "2023-05-10T02:49:05.598548Z",
     "iopub.status.busy": "2023-05-10T02:49:05.598128Z",
     "iopub.status.idle": "2023-05-10T02:49:07.339901Z",
     "shell.execute_reply": "2023-05-10T02:49:07.337463Z"
    }
   },
   "outputs": [],
   "source": [
    "query_schema = \"\"\"\n",
    "SELECT *\n",
    "FROM `ironhacks-data.ironhacks_competition.INFORMATION_SCHEMA.TABLES`\n",
    "\"\"\"\n",
    "query = bigquery_client.query(query_schema)\n",
    "df_schema = query.to_dataframe()\n",
    "#df_schema.head()"
   ]
  },
  {
   "cell_type": "code",
   "execution_count": 9,
   "id": "ae9dbacd",
   "metadata": {
    "execution": {
     "iopub.execute_input": "2023-05-10T02:49:07.346315Z",
     "iopub.status.busy": "2023-05-10T02:49:07.346005Z",
     "iopub.status.idle": "2023-05-10T02:49:07.353662Z",
     "shell.execute_reply": "2023-05-10T02:49:07.352223Z"
    }
   },
   "outputs": [],
   "source": [
    "df_three_col = df_unemployment[[\"uu_id\", \"week_number\", \"total_claims\"]]\n",
    "#df_three_col.shape"
   ]
  },
  {
   "cell_type": "code",
   "execution_count": 10,
   "id": "f96e923c",
   "metadata": {
    "execution": {
     "iopub.execute_input": "2023-05-10T02:49:07.357967Z",
     "iopub.status.busy": "2023-05-10T02:49:07.357267Z",
     "iopub.status.idle": "2023-05-10T02:49:07.366357Z",
     "shell.execute_reply": "2023-05-10T02:49:07.365530Z"
    }
   },
   "outputs": [],
   "source": [
    "df_three_col = df_three_col.drop_duplicates()\n",
    "#print(df_three_col.shape)"
   ]
  },
  {
   "cell_type": "code",
   "execution_count": 11,
   "id": "2ff9b115",
   "metadata": {
    "execution": {
     "iopub.execute_input": "2023-05-10T02:49:07.370136Z",
     "iopub.status.busy": "2023-05-10T02:49:07.369919Z",
     "iopub.status.idle": "2023-05-10T02:49:07.377488Z",
     "shell.execute_reply": "2023-05-10T02:49:07.377052Z"
    }
   },
   "outputs": [],
   "source": [
    "df_three_col.sort_values(by=['uu_id', \"week_number\"],inplace=True)\n",
    "#df_three_col.head(21)\n",
    "#df_three_col.tail(3)\n",
    "#uu_id\tweek_number\ttotal_claims\n",
    "#1876\t001cd9ae23064d7f0fd3cd327c873d8d\t31\t34"
   ]
  },
  {
   "cell_type": "code",
   "execution_count": 12,
   "id": "23d5965c",
   "metadata": {
    "execution": {
     "iopub.execute_input": "2023-05-10T02:49:07.380089Z",
     "iopub.status.busy": "2023-05-10T02:49:07.379811Z",
     "iopub.status.idle": "2023-05-10T02:49:07.383600Z",
     "shell.execute_reply": "2023-05-10T02:49:07.383170Z"
    }
   },
   "outputs": [
    {
     "name": "stdout",
     "output_type": "stream",
     "text": [
      "1877     31\n",
      "1873     33\n",
      "14073    34\n",
      "7254     35\n",
      "1872     36\n",
      "1871     37\n",
      "10905     1\n",
      "10906     2\n",
      "10910     3\n",
      "8603      5\n",
      "8604      6\n",
      "10907     7\n",
      "3813      8\n",
      "10902     9\n",
      "8602     10\n",
      "3350     14\n",
      "3814     16\n",
      "10903    19\n",
      "13455    20\n",
      "8601     24\n",
      "13456    25\n",
      "11905    26\n",
      "10901    27\n",
      "3812     28\n",
      "3816     29\n",
      "11904    30\n",
      "3811     32\n",
      "16345    11\n",
      "3349     13\n",
      "10894    15\n",
      "13441    22\n",
      "5265     17\n",
      "4818     12\n",
      "4812     18\n",
      "4811     21\n",
      "Name: week_number, dtype: Int64\n"
     ]
    }
   ],
   "source": [
    "tmp_df = df_three_col['week_number']\n",
    "tmp_df = tmp_df.drop_duplicates()\n",
    "print(tmp_df)"
   ]
  },
  {
   "cell_type": "code",
   "execution_count": 13,
   "id": "18b60086",
   "metadata": {
    "execution": {
     "iopub.execute_input": "2023-05-10T02:49:07.385607Z",
     "iopub.status.busy": "2023-05-10T02:49:07.385473Z",
     "iopub.status.idle": "2023-05-10T02:49:07.389086Z",
     "shell.execute_reply": "2023-05-10T02:49:07.388748Z"
    }
   },
   "outputs": [],
   "source": [
    "res = pd.DataFrame(columns = ['uu_id', 'total_claims', 'week_number'])"
   ]
  },
  {
   "cell_type": "code",
   "execution_count": 14,
   "id": "5afb7f55",
   "metadata": {
    "execution": {
     "iopub.execute_input": "2023-05-10T02:49:07.391530Z",
     "iopub.status.busy": "2023-05-10T02:49:07.391198Z",
     "iopub.status.idle": "2023-05-10T02:49:07.962615Z",
     "shell.execute_reply": "2023-05-10T02:49:07.962307Z"
    },
    "lines_to_next_cell": 2
   },
   "outputs": [],
   "source": [
    "for cur_uu_id in df_pred_list['uu_id']:\n",
    "    #print(uu_id)\n",
    "    test_data = df_three_col[df_three_col[\"uu_id\"].isin([cur_uu_id]) ]\n",
    "    #test_data = test_data.tail(3)\n",
    "    week_list = test_data['week_number'].tolist()\n",
    "    y_pred = -1\n",
    "    count = 0\n",
    "    sum = 0\n",
    "    for week_id in range(33,38):\n",
    "        if week_id in week_list:\n",
    "            count+=1\n",
    "            tmp_row = test_data[test_data['week_number'] == week_id  ]\n",
    "            sum+= int( tmp_row['total_claims'])\n",
    "    if count > 0:\n",
    "        y_pred = int(sum/count)\n",
    "    else:\n",
    "        max_week = max(week_list)\n",
    "        tmp_row = test_data[test_data['week_number'] ==  max_week  ] \n",
    "        y_pre = tmp_row['total_claims']\n",
    "    cur_row =  pd.DataFrame([[cur_uu_id, y_pred, 42]], columns=['uu_id', 'total_claims', 'week_number'] )\n",
    "    res = pd.concat([res,cur_row] ,ignore_index = True)"
   ]
  },
  {
   "cell_type": "code",
   "execution_count": 15,
   "id": "faa02dd7",
   "metadata": {
    "execution": {
     "iopub.execute_input": "2023-05-10T02:49:07.964315Z",
     "iopub.status.busy": "2023-05-10T02:49:07.964223Z",
     "iopub.status.idle": "2023-05-10T02:49:07.968547Z",
     "shell.execute_reply": "2023-05-10T02:49:07.968298Z"
    },
    "lines_to_next_cell": 2
   },
   "outputs": [],
   "source": [
    "res.to_csv(\"Nov28_submission_prediction_output.csv\", index=False)"
   ]
  }
 ],
 "metadata": {
  "jupytext": {
   "cell_metadata_filter": "-all",
   "main_language": "python",
   "notebook_metadata_filter": "-all"
  },
  "language_info": {
   "codemirror_mode": {
    "name": "ipython",
    "version": 3
   },
   "file_extension": ".py",
   "mimetype": "text/x-python",
   "name": "python",
   "nbconvert_exporter": "python",
   "pygments_lexer": "ipython3",
   "version": "3.9.12"
  }
 },
 "nbformat": 4,
 "nbformat_minor": 5
}
