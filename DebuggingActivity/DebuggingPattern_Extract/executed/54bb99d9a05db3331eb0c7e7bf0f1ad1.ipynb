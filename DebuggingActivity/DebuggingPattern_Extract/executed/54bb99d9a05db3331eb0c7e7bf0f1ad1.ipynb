{
 "cells": [
  {
   "cell_type": "code",
   "execution_count": 1,
   "id": "0531c38d",
   "metadata": {
    "execution": {
     "iopub.execute_input": "2023-05-10T01:31:05.698513Z",
     "iopub.status.busy": "2023-05-10T01:31:05.698329Z",
     "iopub.status.idle": "2023-05-10T01:31:06.108281Z",
     "shell.execute_reply": "2023-05-10T01:31:06.107915Z"
    }
   },
   "outputs": [],
   "source": [
    "import os\n",
    "import pandas as pd\n",
    "import numpy as np\n",
    "from google.cloud import bigquery\n",
    "from google.oauth2 import service_account\n",
    "from google.cloud.bigquery import magics\n",
    "BIGQUERY_PROJECT = 'ironhacks-data'\n",
    "bigquery_client = bigquery.Client(project=BIGQUERY_PROJECT)"
   ]
  },
  {
   "cell_type": "code",
   "execution_count": 2,
   "id": "cadcbe97",
   "metadata": {
    "execution": {
     "iopub.execute_input": "2023-05-10T01:31:06.110239Z",
     "iopub.status.busy": "2023-05-10T01:31:06.110121Z",
     "iopub.status.idle": "2023-05-10T01:31:08.012779Z",
     "shell.execute_reply": "2023-05-10T01:31:08.012226Z"
    }
   },
   "outputs": [
    {
     "data": {
      "text/html": [
       "<div>\n",
       "<style scoped>\n",
       "    .dataframe tbody tr th:only-of-type {\n",
       "        vertical-align: middle;\n",
       "    }\n",
       "\n",
       "    .dataframe tbody tr th {\n",
       "        vertical-align: top;\n",
       "    }\n",
       "\n",
       "    .dataframe thead th {\n",
       "        text-align: right;\n",
       "    }\n",
       "</style>\n",
       "<table border=\"1\" class=\"dataframe\">\n",
       "  <thead>\n",
       "    <tr style=\"text-align: right;\">\n",
       "      <th></th>\n",
       "      <th>uu_id</th>\n",
       "      <th>timeperiod</th>\n",
       "      <th>week_number</th>\n",
       "      <th>countyfips</th>\n",
       "      <th>tract</th>\n",
       "      <th>tract_name</th>\n",
       "      <th>total_claims</th>\n",
       "      <th>edu_8th_or_less</th>\n",
       "      <th>edu_grades_9_11</th>\n",
       "      <th>edu_hs_grad_equiv</th>\n",
       "      <th>...</th>\n",
       "      <th>gender_female</th>\n",
       "      <th>gender_male</th>\n",
       "      <th>gender_na</th>\n",
       "      <th>race_amerindian</th>\n",
       "      <th>race_asian</th>\n",
       "      <th>race_black</th>\n",
       "      <th>race_noanswer</th>\n",
       "      <th>race_hawaiiannative</th>\n",
       "      <th>race_other</th>\n",
       "      <th>race_white</th>\n",
       "    </tr>\n",
       "  </thead>\n",
       "  <tbody>\n",
       "    <tr>\n",
       "      <th>0</th>\n",
       "      <td>f013068de98db1470bd986137a0c6d23</td>\n",
       "      <td>20220416</td>\n",
       "      <td>16</td>\n",
       "      <td>18003</td>\n",
       "      <td>900</td>\n",
       "      <td>Census Tract 9, Allen County, Indiana</td>\n",
       "      <td>22</td>\n",
       "      <td>0</td>\n",
       "      <td>&lt;NA&gt;</td>\n",
       "      <td>14</td>\n",
       "      <td>...</td>\n",
       "      <td>&lt;NA&gt;</td>\n",
       "      <td>&lt;NA&gt;</td>\n",
       "      <td>0</td>\n",
       "      <td>0</td>\n",
       "      <td>0</td>\n",
       "      <td>11</td>\n",
       "      <td>0</td>\n",
       "      <td>0</td>\n",
       "      <td>&lt;NA&gt;</td>\n",
       "      <td>&lt;NA&gt;</td>\n",
       "    </tr>\n",
       "    <tr>\n",
       "      <th>1</th>\n",
       "      <td>21957d5517323845818d87623589e1ba</td>\n",
       "      <td>20220319</td>\n",
       "      <td>12</td>\n",
       "      <td>18089</td>\n",
       "      <td>10400</td>\n",
       "      <td>Census Tract 104, Lake County, Indiana</td>\n",
       "      <td>111</td>\n",
       "      <td>0</td>\n",
       "      <td>&lt;NA&gt;</td>\n",
       "      <td>108</td>\n",
       "      <td>...</td>\n",
       "      <td>76</td>\n",
       "      <td>35</td>\n",
       "      <td>0</td>\n",
       "      <td>0</td>\n",
       "      <td>0</td>\n",
       "      <td>&lt;NA&gt;</td>\n",
       "      <td>&lt;NA&gt;</td>\n",
       "      <td>0</td>\n",
       "      <td>0</td>\n",
       "      <td>0</td>\n",
       "    </tr>\n",
       "    <tr>\n",
       "      <th>2</th>\n",
       "      <td>6a5609f385912113b6f1014b958ed748</td>\n",
       "      <td>20220326</td>\n",
       "      <td>13</td>\n",
       "      <td>18089</td>\n",
       "      <td>11500</td>\n",
       "      <td>Census Tract 115, Lake County, Indiana</td>\n",
       "      <td>39</td>\n",
       "      <td>0</td>\n",
       "      <td>&lt;NA&gt;</td>\n",
       "      <td>&lt;NA&gt;</td>\n",
       "      <td>...</td>\n",
       "      <td>&lt;NA&gt;</td>\n",
       "      <td>&lt;NA&gt;</td>\n",
       "      <td>0</td>\n",
       "      <td>0</td>\n",
       "      <td>0</td>\n",
       "      <td>39</td>\n",
       "      <td>0</td>\n",
       "      <td>0</td>\n",
       "      <td>0</td>\n",
       "      <td>0</td>\n",
       "    </tr>\n",
       "    <tr>\n",
       "      <th>3</th>\n",
       "      <td>46b2882ec4c373527ec33f7bd4f1388d</td>\n",
       "      <td>20220716</td>\n",
       "      <td>29</td>\n",
       "      <td>18089</td>\n",
       "      <td>20700</td>\n",
       "      <td>Census Tract 207, Lake County, Indiana</td>\n",
       "      <td>14</td>\n",
       "      <td>0</td>\n",
       "      <td>&lt;NA&gt;</td>\n",
       "      <td>&lt;NA&gt;</td>\n",
       "      <td>...</td>\n",
       "      <td>&lt;NA&gt;</td>\n",
       "      <td>&lt;NA&gt;</td>\n",
       "      <td>0</td>\n",
       "      <td>0</td>\n",
       "      <td>&lt;NA&gt;</td>\n",
       "      <td>10</td>\n",
       "      <td>0</td>\n",
       "      <td>0</td>\n",
       "      <td>&lt;NA&gt;</td>\n",
       "      <td>&lt;NA&gt;</td>\n",
       "    </tr>\n",
       "    <tr>\n",
       "      <th>4</th>\n",
       "      <td>37495d17e82f7df326bfc2c4c090f7b7</td>\n",
       "      <td>20220409</td>\n",
       "      <td>15</td>\n",
       "      <td>18089</td>\n",
       "      <td>21900</td>\n",
       "      <td>Census Tract 219, Lake County, Indiana</td>\n",
       "      <td>155</td>\n",
       "      <td>0</td>\n",
       "      <td>&lt;NA&gt;</td>\n",
       "      <td>69</td>\n",
       "      <td>...</td>\n",
       "      <td>90</td>\n",
       "      <td>65</td>\n",
       "      <td>0</td>\n",
       "      <td>0</td>\n",
       "      <td>0</td>\n",
       "      <td>135</td>\n",
       "      <td>&lt;NA&gt;</td>\n",
       "      <td>&lt;NA&gt;</td>\n",
       "      <td>&lt;NA&gt;</td>\n",
       "      <td>&lt;NA&gt;</td>\n",
       "    </tr>\n",
       "  </tbody>\n",
       "</table>\n",
       "<p>5 rows × 25 columns</p>\n",
       "</div>"
      ],
      "text/plain": [
       "                              uu_id  timeperiod  week_number  countyfips  \\\n",
       "0  f013068de98db1470bd986137a0c6d23    20220416           16       18003   \n",
       "1  21957d5517323845818d87623589e1ba    20220319           12       18089   \n",
       "2  6a5609f385912113b6f1014b958ed748    20220326           13       18089   \n",
       "3  46b2882ec4c373527ec33f7bd4f1388d    20220716           29       18089   \n",
       "4  37495d17e82f7df326bfc2c4c090f7b7    20220409           15       18089   \n",
       "\n",
       "   tract                              tract_name  total_claims  \\\n",
       "0    900   Census Tract 9, Allen County, Indiana            22   \n",
       "1  10400  Census Tract 104, Lake County, Indiana           111   \n",
       "2  11500  Census Tract 115, Lake County, Indiana            39   \n",
       "3  20700  Census Tract 207, Lake County, Indiana            14   \n",
       "4  21900  Census Tract 219, Lake County, Indiana           155   \n",
       "\n",
       "   edu_8th_or_less  edu_grades_9_11  edu_hs_grad_equiv  ...  gender_female  \\\n",
       "0                0             <NA>                 14  ...           <NA>   \n",
       "1                0             <NA>                108  ...             76   \n",
       "2                0             <NA>               <NA>  ...           <NA>   \n",
       "3                0             <NA>               <NA>  ...           <NA>   \n",
       "4                0             <NA>                 69  ...             90   \n",
       "\n",
       "   gender_male gender_na race_amerindian race_asian  race_black  \\\n",
       "0         <NA>         0               0          0          11   \n",
       "1           35         0               0          0        <NA>   \n",
       "2         <NA>         0               0          0          39   \n",
       "3         <NA>         0               0       <NA>          10   \n",
       "4           65         0               0          0         135   \n",
       "\n",
       "   race_noanswer  race_hawaiiannative  race_other  race_white  \n",
       "0              0                    0        <NA>        <NA>  \n",
       "1           <NA>                    0           0           0  \n",
       "2              0                    0           0           0  \n",
       "3              0                    0        <NA>        <NA>  \n",
       "4           <NA>                 <NA>        <NA>        <NA>  \n",
       "\n",
       "[5 rows x 25 columns]"
      ]
     },
     "execution_count": 2,
     "metadata": {},
     "output_type": "execute_result"
    }
   ],
   "source": [
    "query = \"\"\"\n",
    "SELECT *\n",
    "FROM `ironhacks-data.ironhacks_competition.unemployment_data`\n",
    "\"\"\"\n",
    "# QUERY THE DATA ONCE\n",
    "query_job = bigquery_client.query(query)\n",
    "unemp_data = query_job.to_dataframe()\n",
    "unemp_data.head(5)"
   ]
  },
  {
   "cell_type": "code",
   "execution_count": 3,
   "id": "82138972",
   "metadata": {
    "execution": {
     "iopub.execute_input": "2023-05-10T01:31:08.015473Z",
     "iopub.status.busy": "2023-05-10T01:31:08.015256Z",
     "iopub.status.idle": "2023-05-10T01:31:09.769876Z",
     "shell.execute_reply": "2023-05-10T01:31:09.769220Z"
    }
   },
   "outputs": [
    {
     "data": {
      "text/html": [
       "<div>\n",
       "<style scoped>\n",
       "    .dataframe tbody tr th:only-of-type {\n",
       "        vertical-align: middle;\n",
       "    }\n",
       "\n",
       "    .dataframe tbody tr th {\n",
       "        vertical-align: top;\n",
       "    }\n",
       "\n",
       "    .dataframe thead th {\n",
       "        text-align: right;\n",
       "    }\n",
       "</style>\n",
       "<table border=\"1\" class=\"dataframe\">\n",
       "  <thead>\n",
       "    <tr style=\"text-align: right;\">\n",
       "      <th></th>\n",
       "      <th>uu_id</th>\n",
       "      <th>countyfips</th>\n",
       "      <th>tract</th>\n",
       "      <th>tract_name</th>\n",
       "      <th>average_wage</th>\n",
       "    </tr>\n",
       "  </thead>\n",
       "  <tbody>\n",
       "    <tr>\n",
       "      <th>0</th>\n",
       "      <td>585f8731c2255d6b3f817a31180848b9</td>\n",
       "      <td>18177</td>\n",
       "      <td>200</td>\n",
       "      <td>Census Tract 2, Wayne County, Indiana</td>\n",
       "      <td>6612.000000</td>\n",
       "    </tr>\n",
       "    <tr>\n",
       "      <th>1</th>\n",
       "      <td>8c9d2aa90948679972a9382aadcc6001</td>\n",
       "      <td>18177</td>\n",
       "      <td>900</td>\n",
       "      <td>Census Tract 9, Wayne County, Indiana</td>\n",
       "      <td>9883.250000</td>\n",
       "    </tr>\n",
       "    <tr>\n",
       "      <th>2</th>\n",
       "      <td>0f3d45341a5b113b813ffb7be7f58bab</td>\n",
       "      <td>18183</td>\n",
       "      <td>50300</td>\n",
       "      <td>Census Tract 503, Whitley County, Indiana</td>\n",
       "      <td>13992.250000</td>\n",
       "    </tr>\n",
       "    <tr>\n",
       "      <th>3</th>\n",
       "      <td>fb55464f8e34af6d750d06968bf719b8</td>\n",
       "      <td>18183</td>\n",
       "      <td>50400</td>\n",
       "      <td>Census Tract 504, Whitley County, Indiana</td>\n",
       "      <td>13613.500000</td>\n",
       "    </tr>\n",
       "    <tr>\n",
       "      <th>4</th>\n",
       "      <td>983badfd7b568728e39a2344a9006078</td>\n",
       "      <td>18001</td>\n",
       "      <td>30200</td>\n",
       "      <td>Census Tract 302, Adams County, Indiana</td>\n",
       "      <td>11816.666667</td>\n",
       "    </tr>\n",
       "  </tbody>\n",
       "</table>\n",
       "</div>"
      ],
      "text/plain": [
       "                              uu_id  countyfips  tract  \\\n",
       "0  585f8731c2255d6b3f817a31180848b9       18177    200   \n",
       "1  8c9d2aa90948679972a9382aadcc6001       18177    900   \n",
       "2  0f3d45341a5b113b813ffb7be7f58bab       18183  50300   \n",
       "3  fb55464f8e34af6d750d06968bf719b8       18183  50400   \n",
       "4  983badfd7b568728e39a2344a9006078       18001  30200   \n",
       "\n",
       "                                  tract_name  average_wage  \n",
       "0      Census Tract 2, Wayne County, Indiana   6612.000000  \n",
       "1      Census Tract 9, Wayne County, Indiana   9883.250000  \n",
       "2  Census Tract 503, Whitley County, Indiana  13992.250000  \n",
       "3  Census Tract 504, Whitley County, Indiana  13613.500000  \n",
       "4    Census Tract 302, Adams County, Indiana  11816.666667  "
      ]
     },
     "execution_count": 3,
     "metadata": {},
     "output_type": "execute_result"
    }
   ],
   "source": [
    "query = \"\"\"\n",
    "SELECT *\n",
    "FROM `ironhacks-data.ironhacks_competition.wage_data`\n",
    "\"\"\"\n",
    "# QUERY THE DATA ONCE\n",
    "query_job = bigquery_client.query(query)\n",
    "wage_data = query_job.to_dataframe()\n",
    "wage_data.head()"
   ]
  },
  {
   "cell_type": "code",
   "execution_count": 4,
   "id": "505ae44f",
   "metadata": {
    "execution": {
     "iopub.execute_input": "2023-05-10T01:31:09.774351Z",
     "iopub.status.busy": "2023-05-10T01:31:09.773909Z",
     "iopub.status.idle": "2023-05-10T01:31:11.474775Z",
     "shell.execute_reply": "2023-05-10T01:31:11.474124Z"
    }
   },
   "outputs": [
    {
     "data": {
      "text/html": [
       "<div>\n",
       "<style scoped>\n",
       "    .dataframe tbody tr th:only-of-type {\n",
       "        vertical-align: middle;\n",
       "    }\n",
       "\n",
       "    .dataframe tbody tr th {\n",
       "        vertical-align: top;\n",
       "    }\n",
       "\n",
       "    .dataframe thead th {\n",
       "        text-align: right;\n",
       "    }\n",
       "</style>\n",
       "<table border=\"1\" class=\"dataframe\">\n",
       "  <thead>\n",
       "    <tr style=\"text-align: right;\">\n",
       "      <th></th>\n",
       "      <th>uu_id</th>\n",
       "      <th>week_number</th>\n",
       "    </tr>\n",
       "  </thead>\n",
       "  <tbody>\n",
       "    <tr>\n",
       "      <th>0</th>\n",
       "      <td>5bf51fc2e162d6faf9e3cf79e4198378</td>\n",
       "      <td>44</td>\n",
       "    </tr>\n",
       "    <tr>\n",
       "      <th>1</th>\n",
       "      <td>420b44cc7e3f55d738df565421e59941</td>\n",
       "      <td>44</td>\n",
       "    </tr>\n",
       "    <tr>\n",
       "      <th>2</th>\n",
       "      <td>e39c66ecceec76ee8f9f811fa4a2d246</td>\n",
       "      <td>44</td>\n",
       "    </tr>\n",
       "    <tr>\n",
       "      <th>3</th>\n",
       "      <td>a90462cd11ae4e43144239bf7c4828a4</td>\n",
       "      <td>44</td>\n",
       "    </tr>\n",
       "    <tr>\n",
       "      <th>4</th>\n",
       "      <td>8b20a6749088c7ff1237983076ebfeaa</td>\n",
       "      <td>44</td>\n",
       "    </tr>\n",
       "  </tbody>\n",
       "</table>\n",
       "</div>"
      ],
      "text/plain": [
       "                              uu_id  week_number\n",
       "0  5bf51fc2e162d6faf9e3cf79e4198378           44\n",
       "1  420b44cc7e3f55d738df565421e59941           44\n",
       "2  e39c66ecceec76ee8f9f811fa4a2d246           44\n",
       "3  a90462cd11ae4e43144239bf7c4828a4           44\n",
       "4  8b20a6749088c7ff1237983076ebfeaa           44"
      ]
     },
     "execution_count": 4,
     "metadata": {},
     "output_type": "execute_result"
    }
   ],
   "source": [
    "query = \"\"\"\n",
    "SELECT *\n",
    "FROM `ironhacks-data.ironhacks_competition.prediction_list`\n",
    "\"\"\"\n",
    "# QUERY THE DATA ONCE\n",
    "query_job = bigquery_client.query(query)\n",
    "pred_data = query_job.to_dataframe()\n",
    "pred_data.head()"
   ]
  },
  {
   "cell_type": "code",
   "execution_count": 5,
   "id": "906973b3",
   "metadata": {
    "execution": {
     "iopub.execute_input": "2023-05-10T01:31:11.479046Z",
     "iopub.status.busy": "2023-05-10T01:31:11.478677Z",
     "iopub.status.idle": "2023-05-10T01:31:11.498844Z",
     "shell.execute_reply": "2023-05-10T01:31:11.498477Z"
    }
   },
   "outputs": [
    {
     "name": "stdout",
     "output_type": "stream",
     "text": [
      "<class 'pandas.core.frame.DataFrame'>\n",
      "RangeIndex: 16833 entries, 0 to 16832\n",
      "Data columns (total 25 columns):\n",
      " #   Column                  Non-Null Count  Dtype \n",
      "---  ------                  --------------  ----- \n",
      " 0   uu_id                   16833 non-null  object\n",
      " 1   timeperiod              16833 non-null  Int64 \n",
      " 2   week_number             16833 non-null  Int64 \n",
      " 3   countyfips              16833 non-null  Int64 \n",
      " 4   tract                   16833 non-null  Int64 \n",
      " 5   tract_name              16833 non-null  object\n",
      " 6   total_claims            16833 non-null  Int64 \n",
      " 7   edu_8th_or_less         13748 non-null  Int64 \n",
      " 8   edu_grades_9_11         5942 non-null   Int64 \n",
      " 9   edu_hs_grad_equiv       6036 non-null   Int64 \n",
      " 10  edu_post_hs             3246 non-null   Int64 \n",
      " 11  edu_unknown             12031 non-null  Int64 \n",
      " 12  top_category_employer1  16833 non-null  object\n",
      " 13  top_category_employer2  16833 non-null  object\n",
      " 14  top_category_employer3  16833 non-null  object\n",
      " 15  gender_female           3835 non-null   Int64 \n",
      " 16  gender_male             3931 non-null   Int64 \n",
      " 17  gender_na               15868 non-null  Int64 \n",
      " 18  race_amerindian         15285 non-null  Int64 \n",
      " 19  race_asian              14939 non-null  Int64 \n",
      " 20  race_black              7124 non-null   Int64 \n",
      " 21  race_noanswer           10089 non-null  Int64 \n",
      " 22  race_hawaiiannative     16426 non-null  Int64 \n",
      " 23  race_other              8075 non-null   Int64 \n",
      " 24  race_white              6392 non-null   Int64 \n",
      "dtypes: Int64(20), object(5)\n",
      "memory usage: 3.5+ MB\n"
     ]
    }
   ],
   "source": [
    "unemp_data.info()"
   ]
  },
  {
   "cell_type": "code",
   "execution_count": 6,
   "id": "8f8ac60b",
   "metadata": {
    "execution": {
     "iopub.execute_input": "2023-05-10T01:31:11.502390Z",
     "iopub.status.busy": "2023-05-10T01:31:11.502044Z",
     "iopub.status.idle": "2023-05-10T01:31:11.511110Z",
     "shell.execute_reply": "2023-05-10T01:31:11.510422Z"
    }
   },
   "outputs": [
    {
     "name": "stdout",
     "output_type": "stream",
     "text": [
      "<class 'pandas.core.frame.DataFrame'>\n",
      "RangeIndex: 525 entries, 0 to 524\n",
      "Data columns (total 5 columns):\n",
      " #   Column        Non-Null Count  Dtype  \n",
      "---  ------        --------------  -----  \n",
      " 0   uu_id         525 non-null    object \n",
      " 1   countyfips    525 non-null    Int64  \n",
      " 2   tract         525 non-null    Int64  \n",
      " 3   tract_name    525 non-null    object \n",
      " 4   average_wage  525 non-null    float64\n",
      "dtypes: Int64(2), float64(1), object(2)\n",
      "memory usage: 21.7+ KB\n"
     ]
    }
   ],
   "source": [
    "wage_data.info()"
   ]
  },
  {
   "cell_type": "code",
   "execution_count": 7,
   "id": "aa669e3b",
   "metadata": {
    "execution": {
     "iopub.execute_input": "2023-05-10T01:31:11.515263Z",
     "iopub.status.busy": "2023-05-10T01:31:11.515079Z",
     "iopub.status.idle": "2023-05-10T01:31:11.524598Z",
     "shell.execute_reply": "2023-05-10T01:31:11.524310Z"
    }
   },
   "outputs": [
    {
     "data": {
      "text/plain": [
       "uu_id                         0\n",
       "timeperiod                    0\n",
       "week_number                   0\n",
       "countyfips                    0\n",
       "tract                         0\n",
       "tract_name                    0\n",
       "total_claims                  0\n",
       "edu_8th_or_less            3085\n",
       "edu_grades_9_11           10891\n",
       "edu_hs_grad_equiv         10797\n",
       "edu_post_hs               13587\n",
       "edu_unknown                4802\n",
       "top_category_employer1        0\n",
       "top_category_employer2        0\n",
       "top_category_employer3        0\n",
       "gender_female             12998\n",
       "gender_male               12902\n",
       "gender_na                   965\n",
       "race_amerindian            1548\n",
       "race_asian                 1894\n",
       "race_black                 9709\n",
       "race_noanswer              6744\n",
       "race_hawaiiannative         407\n",
       "race_other                 8758\n",
       "race_white                10441\n",
       "dtype: int64"
      ]
     },
     "execution_count": 7,
     "metadata": {},
     "output_type": "execute_result"
    }
   ],
   "source": [
    "unemp_data.isna().sum()"
   ]
  },
  {
   "cell_type": "code",
   "execution_count": 8,
   "id": "fcdb4952",
   "metadata": {
    "execution": {
     "iopub.execute_input": "2023-05-10T01:31:11.526092Z",
     "iopub.status.busy": "2023-05-10T01:31:11.526004Z",
     "iopub.status.idle": "2023-05-10T01:31:11.528874Z",
     "shell.execute_reply": "2023-05-10T01:31:11.528619Z"
    }
   },
   "outputs": [
    {
     "data": {
      "text/plain": [
       "{'11',\n",
       " '21',\n",
       " '22',\n",
       " '23',\n",
       " '31-33',\n",
       " '42',\n",
       " '44-45',\n",
       " '48-49',\n",
       " '51',\n",
       " '52',\n",
       " '53',\n",
       " '54',\n",
       " '55',\n",
       " '56',\n",
       " '61',\n",
       " '62',\n",
       " '71',\n",
       " '72',\n",
       " '81',\n",
       " '92',\n",
       " '99'}"
      ]
     },
     "execution_count": 8,
     "metadata": {},
     "output_type": "execute_result"
    }
   ],
   "source": [
    "set1 = set(list(unemp_data['top_category_employer1'].unique()))\n",
    "set1"
   ]
  },
  {
   "cell_type": "code",
   "execution_count": 9,
   "id": "b4f49b6b",
   "metadata": {
    "execution": {
     "iopub.execute_input": "2023-05-10T01:31:11.530405Z",
     "iopub.status.busy": "2023-05-10T01:31:11.530309Z",
     "iopub.status.idle": "2023-05-10T01:31:11.533258Z",
     "shell.execute_reply": "2023-05-10T01:31:11.532972Z"
    }
   },
   "outputs": [
    {
     "data": {
      "text/plain": [
       "{'11',\n",
       " '21',\n",
       " '22',\n",
       " '23',\n",
       " '31-33',\n",
       " '42',\n",
       " '44-45',\n",
       " '48-49',\n",
       " '51',\n",
       " '52',\n",
       " '53',\n",
       " '54',\n",
       " '55',\n",
       " '56',\n",
       " '61',\n",
       " '62',\n",
       " '71',\n",
       " '72',\n",
       " '81',\n",
       " '92',\n",
       " '99',\n",
       " 'N/A'}"
      ]
     },
     "execution_count": 9,
     "metadata": {},
     "output_type": "execute_result"
    }
   ],
   "source": [
    "set2 = set(list(unemp_data['top_category_employer2'].unique()))\n",
    "set2"
   ]
  },
  {
   "cell_type": "code",
   "execution_count": 10,
   "id": "0ca22a04",
   "metadata": {
    "execution": {
     "iopub.execute_input": "2023-05-10T01:31:11.534852Z",
     "iopub.status.busy": "2023-05-10T01:31:11.534740Z",
     "iopub.status.idle": "2023-05-10T01:31:11.537593Z",
     "shell.execute_reply": "2023-05-10T01:31:11.537321Z"
    }
   },
   "outputs": [
    {
     "data": {
      "text/plain": [
       "{'11',\n",
       " '21',\n",
       " '22',\n",
       " '23',\n",
       " '31-33',\n",
       " '42',\n",
       " '44-45',\n",
       " '48-49',\n",
       " '51',\n",
       " '52',\n",
       " '53',\n",
       " '54',\n",
       " '55',\n",
       " '56',\n",
       " '61',\n",
       " '62',\n",
       " '71',\n",
       " '72',\n",
       " '81',\n",
       " '92',\n",
       " '99',\n",
       " 'N/A'}"
      ]
     },
     "execution_count": 10,
     "metadata": {},
     "output_type": "execute_result"
    }
   ],
   "source": [
    "set3 = set(list(unemp_data['top_category_employer3'].unique()))\n",
    "set3"
   ]
  },
  {
   "cell_type": "code",
   "execution_count": 11,
   "id": "af2a889e",
   "metadata": {
    "execution": {
     "iopub.execute_input": "2023-05-10T01:31:11.539170Z",
     "iopub.status.busy": "2023-05-10T01:31:11.539057Z",
     "iopub.status.idle": "2023-05-10T01:31:11.543369Z",
     "shell.execute_reply": "2023-05-10T01:31:11.543086Z"
    }
   },
   "outputs": [],
   "source": [
    "unemp_data['top_category_employer2'] = unemp_data['top_category_employer2'].replace('N/A',np.NaN)\n",
    "unemp_data['top_category_employer3'] = unemp_data['top_category_employer3'].replace('N/A',np.NaN)"
   ]
  },
  {
   "cell_type": "code",
   "execution_count": 12,
   "id": "480c7507",
   "metadata": {
    "execution": {
     "iopub.execute_input": "2023-05-10T01:31:11.545018Z",
     "iopub.status.busy": "2023-05-10T01:31:11.544913Z",
     "iopub.status.idle": "2023-05-10T01:31:11.547594Z",
     "shell.execute_reply": "2023-05-10T01:31:11.547294Z"
    }
   },
   "outputs": [
    {
     "data": {
      "text/plain": [
       "<IntegerArray>\n",
       "[18003, 18089, 18067, 18039, 18095, 18033, 18035, 18103, 18065, 18173, 18097,\n",
       " 18091, 18109, 18149, 18099, 18019, 18141, 18157, 18127, 18163, 18093, 18087,\n",
       " 18085, 18081, 18057, 18063, 18053, 18167, 18177, 18021, 18105, 18001, 18043,\n",
       " 18017, 18083, 18159, 18011, 18143, 18113, 18073, 18169, 18183, 18049, 18133,\n",
       " 18059, 18153, 18061, 18023, 18041, 18015, 18135, 18047, 18165, 18077, 18009,\n",
       " 18005, 18069, 18071, 18079, 18151]\n",
       "Length: 60, dtype: Int64"
      ]
     },
     "execution_count": 12,
     "metadata": {},
     "output_type": "execute_result"
    }
   ],
   "source": [
    "unemp_data['countyfips'].unique()"
   ]
  },
  {
   "cell_type": "code",
   "execution_count": 13,
   "id": "9ee0ad9a",
   "metadata": {
    "execution": {
     "iopub.execute_input": "2023-05-10T01:31:11.549214Z",
     "iopub.status.busy": "2023-05-10T01:31:11.549102Z",
     "iopub.status.idle": "2023-05-10T01:31:11.559540Z",
     "shell.execute_reply": "2023-05-10T01:31:11.559274Z"
    }
   },
   "outputs": [
    {
     "data": {
      "text/plain": [
       "uu_id                      0.000000\n",
       "timeperiod                 0.000000\n",
       "week_number                0.000000\n",
       "countyfips                 0.000000\n",
       "tract                      0.000000\n",
       "tract_name                 0.000000\n",
       "total_claims               0.000000\n",
       "edu_8th_or_less           18.327096\n",
       "edu_grades_9_11           64.700291\n",
       "edu_hs_grad_equiv         64.141864\n",
       "edu_post_hs               80.716450\n",
       "edu_unknown               28.527298\n",
       "top_category_employer1     0.000000\n",
       "top_category_employer2     0.291095\n",
       "top_category_employer3     1.627755\n",
       "gender_female             77.217371\n",
       "gender_male               76.647062\n",
       "gender_na                  5.732787\n",
       "race_amerindian            9.196222\n",
       "race_asian                11.251708\n",
       "race_black                57.678370\n",
       "race_noanswer             40.064160\n",
       "race_hawaiiannative        2.417870\n",
       "race_other                52.028753\n",
       "race_white                62.026971\n",
       "dtype: float64"
      ]
     },
     "execution_count": 13,
     "metadata": {},
     "output_type": "execute_result"
    }
   ],
   "source": [
    "(unemp_data.isna().sum()/len(unemp_data))*100"
   ]
  },
  {
   "cell_type": "code",
   "execution_count": 14,
   "id": "8120a0db",
   "metadata": {
    "execution": {
     "iopub.execute_input": "2023-05-10T01:31:11.560916Z",
     "iopub.status.busy": "2023-05-10T01:31:11.560832Z",
     "iopub.status.idle": "2023-05-10T01:31:11.569779Z",
     "shell.execute_reply": "2023-05-10T01:31:11.569544Z"
    }
   },
   "outputs": [
    {
     "data": {
      "text/plain": [
       "uu_id                      0.000000\n",
       "timeperiod                 0.000000\n",
       "week_number                0.000000\n",
       "countyfips                 0.000000\n",
       "tract                      0.000000\n",
       "tract_name                 0.000000\n",
       "total_claims               0.000000\n",
       "edu_8th_or_less           18.327096\n",
       "edu_grades_9_11           64.700291\n",
       "edu_hs_grad_equiv         64.141864\n",
       "edu_post_hs               80.716450\n",
       "edu_unknown               28.527298\n",
       "top_category_employer1     0.000000\n",
       "top_category_employer2     0.291095\n",
       "top_category_employer3     1.627755\n",
       "gender_female             77.217371\n",
       "gender_male               76.647062\n",
       "gender_na                  5.732787\n",
       "race_amerindian            9.196222\n",
       "race_asian                11.251708\n",
       "race_black                57.678370\n",
       "race_noanswer             40.064160\n",
       "race_hawaiiannative        2.417870\n",
       "race_other                52.028753\n",
       "race_white                62.026971\n",
       "dtype: float64"
      ]
     },
     "execution_count": 14,
     "metadata": {},
     "output_type": "execute_result"
    }
   ],
   "source": [
    "(unemp_data.isna().sum()/len(unemp_data))*100"
   ]
  },
  {
   "cell_type": "code",
   "execution_count": 15,
   "id": "8e421088",
   "metadata": {
    "execution": {
     "iopub.execute_input": "2023-05-10T01:31:11.571139Z",
     "iopub.status.busy": "2023-05-10T01:31:11.571059Z",
     "iopub.status.idle": "2023-05-10T01:31:11.594901Z",
     "shell.execute_reply": "2023-05-10T01:31:11.594660Z"
    }
   },
   "outputs": [],
   "source": [
    "unemp_data['edu_8th_or_less'] = unemp_data.groupby('countyfips')['edu_8th_or_less'].transform(lambda x: x.fillna(int(x.mean())))\n",
    "unemp_data['edu_grades_9_11'] = unemp_data.groupby('countyfips')['edu_grades_9_11'].transform(lambda x: x.fillna(int(x.mean())))\n",
    "unemp_data['edu_hs_grad_equiv'] = unemp_data.groupby('countyfips')['edu_hs_grad_equiv'].transform(lambda x: x.fillna(int(x.mean())))"
   ]
  },
  {
   "cell_type": "code",
   "execution_count": 16,
   "id": "d72b4ff6",
   "metadata": {
    "execution": {
     "iopub.execute_input": "2023-05-10T01:31:11.596438Z",
     "iopub.status.busy": "2023-05-10T01:31:11.596360Z",
     "iopub.status.idle": "2023-05-10T01:31:11.639777Z",
     "shell.execute_reply": "2023-05-10T01:31:11.639500Z"
    }
   },
   "outputs": [],
   "source": [
    "unemp_data['race_asian'] = unemp_data.groupby('countyfips')['race_asian'].transform(lambda x: x.fillna(int(x.mean())))\n",
    "unemp_data['race_amerindian'] = unemp_data.groupby('countyfips')['race_amerindian'].transform(lambda x: x.fillna(int(x.mean())))\n",
    "unemp_data['race_black'] = unemp_data.groupby('countyfips')['race_black'].transform(lambda x: x.fillna(int(x.mean())))\n",
    "unemp_data['race_hawaiiannative'] = unemp_data.groupby('countyfips')['race_hawaiiannative'].transform(lambda x: x.fillna(int(x.mean())))\n",
    "unemp_data['race_other'] = unemp_data.groupby('countyfips')['race_other'].transform(lambda x: x.fillna(int(x.mean())))\n",
    "unemp_data['race_white'] = unemp_data.groupby('countyfips')['race_white'].transform(lambda x: x.fillna(int(x.mean())))"
   ]
  },
  {
   "cell_type": "code",
   "execution_count": 17,
   "id": "145cf4d4",
   "metadata": {
    "execution": {
     "iopub.execute_input": "2023-05-10T01:31:11.641277Z",
     "iopub.status.busy": "2023-05-10T01:31:11.641193Z",
     "iopub.status.idle": "2023-05-10T01:31:11.643942Z",
     "shell.execute_reply": "2023-05-10T01:31:11.643709Z"
    }
   },
   "outputs": [],
   "source": [
    "unemp_data['race_noanswer'] = unemp_data['race_noanswer'].fillna(0)\n",
    "unemp_data['gender_na'] = unemp_data['gender_na'].fillna(0)\n",
    "unemp_data['edu_unknown'] = unemp_data['edu_unknown'].fillna(0)"
   ]
  },
  {
   "cell_type": "code",
   "execution_count": 18,
   "id": "d7e41ce1",
   "metadata": {
    "execution": {
     "iopub.execute_input": "2023-05-10T01:31:11.645316Z",
     "iopub.status.busy": "2023-05-10T01:31:11.645225Z",
     "iopub.status.idle": "2023-05-10T01:31:11.670361Z",
     "shell.execute_reply": "2023-05-10T01:31:11.670108Z"
    }
   },
   "outputs": [],
   "source": [
    "unemp_data['top_category_employer2'] = unemp_data.groupby('countyfips')['top_category_employer2'].transform(lambda x: x.fillna(x.mode()[0] if not x.mode().empty else 'unknown'))\n",
    "unemp_data['top_category_employer3'] = unemp_data.groupby('countyfips')['top_category_employer3'].transform(lambda x: x.fillna(x.mode()[0] if not x.mode().empty else 'unknown'))"
   ]
  },
  {
   "cell_type": "code",
   "execution_count": 19,
   "id": "a03ddc0a",
   "metadata": {
    "execution": {
     "iopub.execute_input": "2023-05-10T01:31:11.671845Z",
     "iopub.status.busy": "2023-05-10T01:31:11.671767Z",
     "iopub.status.idle": "2023-05-10T01:31:11.674095Z",
     "shell.execute_reply": "2023-05-10T01:31:11.673864Z"
    }
   },
   "outputs": [],
   "source": [
    "unemp_data['gender_male'] = unemp_data['gender_male'].astype(float)\n",
    "unemp_data['gender_female'] = unemp_data['gender_female'].astype(float)\n",
    "unemp_data['edu_post_hs'] = unemp_data['edu_post_hs'].astype(float)"
   ]
  },
  {
   "cell_type": "code",
   "execution_count": 20,
   "id": "adec68b5",
   "metadata": {
    "execution": {
     "iopub.execute_input": "2023-05-10T01:31:11.675437Z",
     "iopub.status.busy": "2023-05-10T01:31:11.675350Z",
     "iopub.status.idle": "2023-05-10T01:31:11.679210Z",
     "shell.execute_reply": "2023-05-10T01:31:11.679004Z"
    }
   },
   "outputs": [],
   "source": [
    "unemp_data['gender_male'] = unemp_data['gender_male'].fillna(unemp_data.groupby('countyfips')['gender_male'].transform('mean'))\n",
    "unemp_data['gender_female'] = unemp_data['gender_female'].fillna(unemp_data.groupby('countyfips')['gender_female'].transform('mean'))\n",
    "unemp_data['edu_post_hs'] = unemp_data['edu_post_hs'].fillna(unemp_data.groupby('countyfips')['edu_post_hs'].transform('mean'))"
   ]
  },
  {
   "cell_type": "code",
   "execution_count": 21,
   "id": "c62ad300",
   "metadata": {
    "execution": {
     "iopub.execute_input": "2023-05-10T01:31:11.680647Z",
     "iopub.status.busy": "2023-05-10T01:31:11.680562Z",
     "iopub.status.idle": "2023-05-10T01:31:11.688959Z",
     "shell.execute_reply": "2023-05-10T01:31:11.688710Z"
    }
   },
   "outputs": [
    {
     "data": {
      "text/plain": [
       "uu_id                       0\n",
       "timeperiod                  0\n",
       "week_number                 0\n",
       "countyfips                  0\n",
       "tract                       0\n",
       "tract_name                  0\n",
       "total_claims                0\n",
       "edu_8th_or_less             0\n",
       "edu_grades_9_11             0\n",
       "edu_hs_grad_equiv           0\n",
       "edu_post_hs               124\n",
       "edu_unknown                 0\n",
       "top_category_employer1      0\n",
       "top_category_employer2      0\n",
       "top_category_employer3      0\n",
       "gender_female             113\n",
       "gender_male               113\n",
       "gender_na                   0\n",
       "race_amerindian             0\n",
       "race_asian                  0\n",
       "race_black                  0\n",
       "race_noanswer               0\n",
       "race_hawaiiannative         0\n",
       "race_other                  0\n",
       "race_white                  0\n",
       "dtype: int64"
      ]
     },
     "execution_count": 21,
     "metadata": {},
     "output_type": "execute_result"
    }
   ],
   "source": [
    "unemp_data.isna().sum()"
   ]
  },
  {
   "cell_type": "code",
   "execution_count": 22,
   "id": "6c477b06",
   "metadata": {
    "execution": {
     "iopub.execute_input": "2023-05-10T01:31:11.690366Z",
     "iopub.status.busy": "2023-05-10T01:31:11.690290Z",
     "iopub.status.idle": "2023-05-10T01:31:11.701174Z",
     "shell.execute_reply": "2023-05-10T01:31:11.700927Z"
    }
   },
   "outputs": [
    {
     "data": {
      "text/html": [
       "<div>\n",
       "<style scoped>\n",
       "    .dataframe tbody tr th:only-of-type {\n",
       "        vertical-align: middle;\n",
       "    }\n",
       "\n",
       "    .dataframe tbody tr th {\n",
       "        vertical-align: top;\n",
       "    }\n",
       "\n",
       "    .dataframe thead th {\n",
       "        text-align: right;\n",
       "    }\n",
       "</style>\n",
       "<table border=\"1\" class=\"dataframe\">\n",
       "  <thead>\n",
       "    <tr style=\"text-align: right;\">\n",
       "      <th></th>\n",
       "      <th>uu_id</th>\n",
       "      <th>timeperiod</th>\n",
       "      <th>week_number</th>\n",
       "      <th>countyfips</th>\n",
       "      <th>tract</th>\n",
       "      <th>tract_name</th>\n",
       "      <th>total_claims</th>\n",
       "      <th>edu_8th_or_less</th>\n",
       "      <th>edu_grades_9_11</th>\n",
       "      <th>edu_hs_grad_equiv</th>\n",
       "      <th>...</th>\n",
       "      <th>gender_female</th>\n",
       "      <th>gender_male</th>\n",
       "      <th>gender_na</th>\n",
       "      <th>race_amerindian</th>\n",
       "      <th>race_asian</th>\n",
       "      <th>race_black</th>\n",
       "      <th>race_noanswer</th>\n",
       "      <th>race_hawaiiannative</th>\n",
       "      <th>race_other</th>\n",
       "      <th>race_white</th>\n",
       "    </tr>\n",
       "  </thead>\n",
       "  <tbody>\n",
       "    <tr>\n",
       "      <th>540</th>\n",
       "      <td>420b44cc7e3f55d738df565421e59941</td>\n",
       "      <td>20220108</td>\n",
       "      <td>2</td>\n",
       "      <td>18043</td>\n",
       "      <td>70400</td>\n",
       "      <td>Census Tract 704, Floyd County, Indiana</td>\n",
       "      <td>15</td>\n",
       "      <td>0</td>\n",
       "      <td>3</td>\n",
       "      <td>11</td>\n",
       "      <td>...</td>\n",
       "      <td>NaN</td>\n",
       "      <td>NaN</td>\n",
       "      <td>0</td>\n",
       "      <td>0</td>\n",
       "      <td>0</td>\n",
       "      <td>0</td>\n",
       "      <td>0</td>\n",
       "      <td>0</td>\n",
       "      <td>0</td>\n",
       "      <td>12</td>\n",
       "    </tr>\n",
       "    <tr>\n",
       "      <th>541</th>\n",
       "      <td>420b44cc7e3f55d738df565421e59941</td>\n",
       "      <td>20220115</td>\n",
       "      <td>3</td>\n",
       "      <td>18043</td>\n",
       "      <td>70400</td>\n",
       "      <td>Census Tract 704, Floyd County, Indiana</td>\n",
       "      <td>11</td>\n",
       "      <td>0</td>\n",
       "      <td>3</td>\n",
       "      <td>11</td>\n",
       "      <td>...</td>\n",
       "      <td>NaN</td>\n",
       "      <td>NaN</td>\n",
       "      <td>0</td>\n",
       "      <td>0</td>\n",
       "      <td>0</td>\n",
       "      <td>0</td>\n",
       "      <td>0</td>\n",
       "      <td>0</td>\n",
       "      <td>0</td>\n",
       "      <td>13</td>\n",
       "    </tr>\n",
       "    <tr>\n",
       "      <th>558</th>\n",
       "      <td>d7a8af51ca8eb58392ab833bc0ae516b</td>\n",
       "      <td>20220312</td>\n",
       "      <td>11</td>\n",
       "      <td>18083</td>\n",
       "      <td>955200</td>\n",
       "      <td>Census Tract 9552, Knox County, Indiana</td>\n",
       "      <td>16</td>\n",
       "      <td>0</td>\n",
       "      <td>0</td>\n",
       "      <td>11</td>\n",
       "      <td>...</td>\n",
       "      <td>NaN</td>\n",
       "      <td>NaN</td>\n",
       "      <td>0</td>\n",
       "      <td>0</td>\n",
       "      <td>0</td>\n",
       "      <td>0</td>\n",
       "      <td>0</td>\n",
       "      <td>0</td>\n",
       "      <td>0</td>\n",
       "      <td>16</td>\n",
       "    </tr>\n",
       "    <tr>\n",
       "      <th>559</th>\n",
       "      <td>d7a8af51ca8eb58392ab833bc0ae516b</td>\n",
       "      <td>20220212</td>\n",
       "      <td>7</td>\n",
       "      <td>18083</td>\n",
       "      <td>955200</td>\n",
       "      <td>Census Tract 9552, Knox County, Indiana</td>\n",
       "      <td>15</td>\n",
       "      <td>0</td>\n",
       "      <td>0</td>\n",
       "      <td>11</td>\n",
       "      <td>...</td>\n",
       "      <td>NaN</td>\n",
       "      <td>NaN</td>\n",
       "      <td>0</td>\n",
       "      <td>0</td>\n",
       "      <td>0</td>\n",
       "      <td>0</td>\n",
       "      <td>0</td>\n",
       "      <td>0</td>\n",
       "      <td>0</td>\n",
       "      <td>15</td>\n",
       "    </tr>\n",
       "    <tr>\n",
       "      <th>766</th>\n",
       "      <td>4a6ae3b5be1b9b7c10c177e1b9fded82</td>\n",
       "      <td>20220205</td>\n",
       "      <td>6</td>\n",
       "      <td>18169</td>\n",
       "      <td>102800</td>\n",
       "      <td>Census Tract 1028, Wabash County, Indiana</td>\n",
       "      <td>16</td>\n",
       "      <td>0</td>\n",
       "      <td>0</td>\n",
       "      <td>11</td>\n",
       "      <td>...</td>\n",
       "      <td>NaN</td>\n",
       "      <td>NaN</td>\n",
       "      <td>0</td>\n",
       "      <td>0</td>\n",
       "      <td>0</td>\n",
       "      <td>0</td>\n",
       "      <td>0</td>\n",
       "      <td>0</td>\n",
       "      <td>0</td>\n",
       "      <td>16</td>\n",
       "    </tr>\n",
       "    <tr>\n",
       "      <th>...</th>\n",
       "      <td>...</td>\n",
       "      <td>...</td>\n",
       "      <td>...</td>\n",
       "      <td>...</td>\n",
       "      <td>...</td>\n",
       "      <td>...</td>\n",
       "      <td>...</td>\n",
       "      <td>...</td>\n",
       "      <td>...</td>\n",
       "      <td>...</td>\n",
       "      <td>...</td>\n",
       "      <td>...</td>\n",
       "      <td>...</td>\n",
       "      <td>...</td>\n",
       "      <td>...</td>\n",
       "      <td>...</td>\n",
       "      <td>...</td>\n",
       "      <td>...</td>\n",
       "      <td>...</td>\n",
       "      <td>...</td>\n",
       "      <td>...</td>\n",
       "    </tr>\n",
       "    <tr>\n",
       "      <th>16347</th>\n",
       "      <td>ce8b2c0e11c538921c39c06b298d2393</td>\n",
       "      <td>20220730</td>\n",
       "      <td>31</td>\n",
       "      <td>18043</td>\n",
       "      <td>70901</td>\n",
       "      <td>Census Tract 709.01, Floyd County, Indiana</td>\n",
       "      <td>13</td>\n",
       "      <td>0</td>\n",
       "      <td>0</td>\n",
       "      <td>11</td>\n",
       "      <td>...</td>\n",
       "      <td>NaN</td>\n",
       "      <td>NaN</td>\n",
       "      <td>0</td>\n",
       "      <td>0</td>\n",
       "      <td>0</td>\n",
       "      <td>0</td>\n",
       "      <td>0</td>\n",
       "      <td>0</td>\n",
       "      <td>0</td>\n",
       "      <td>13</td>\n",
       "    </tr>\n",
       "    <tr>\n",
       "      <th>16348</th>\n",
       "      <td>ce8b2c0e11c538921c39c06b298d2393</td>\n",
       "      <td>20220716</td>\n",
       "      <td>29</td>\n",
       "      <td>18043</td>\n",
       "      <td>70901</td>\n",
       "      <td>Census Tract 709.01, Floyd County, Indiana</td>\n",
       "      <td>12</td>\n",
       "      <td>0</td>\n",
       "      <td>3</td>\n",
       "      <td>11</td>\n",
       "      <td>...</td>\n",
       "      <td>NaN</td>\n",
       "      <td>NaN</td>\n",
       "      <td>0</td>\n",
       "      <td>0</td>\n",
       "      <td>0</td>\n",
       "      <td>0</td>\n",
       "      <td>0</td>\n",
       "      <td>0</td>\n",
       "      <td>0</td>\n",
       "      <td>13</td>\n",
       "    </tr>\n",
       "    <tr>\n",
       "      <th>16431</th>\n",
       "      <td>6b22ecccaddde4516a88c6981373daf3</td>\n",
       "      <td>20220319</td>\n",
       "      <td>12</td>\n",
       "      <td>18135</td>\n",
       "      <td>951900</td>\n",
       "      <td>Census Tract 9519, Randolph County, Indiana</td>\n",
       "      <td>10</td>\n",
       "      <td>0</td>\n",
       "      <td>0</td>\n",
       "      <td>10</td>\n",
       "      <td>...</td>\n",
       "      <td>NaN</td>\n",
       "      <td>NaN</td>\n",
       "      <td>0</td>\n",
       "      <td>0</td>\n",
       "      <td>0</td>\n",
       "      <td>0</td>\n",
       "      <td>0</td>\n",
       "      <td>0</td>\n",
       "      <td>0</td>\n",
       "      <td>10</td>\n",
       "    </tr>\n",
       "    <tr>\n",
       "      <th>16432</th>\n",
       "      <td>6b22ecccaddde4516a88c6981373daf3</td>\n",
       "      <td>20220219</td>\n",
       "      <td>8</td>\n",
       "      <td>18135</td>\n",
       "      <td>951900</td>\n",
       "      <td>Census Tract 9519, Randolph County, Indiana</td>\n",
       "      <td>11</td>\n",
       "      <td>0</td>\n",
       "      <td>0</td>\n",
       "      <td>10</td>\n",
       "      <td>...</td>\n",
       "      <td>NaN</td>\n",
       "      <td>NaN</td>\n",
       "      <td>0</td>\n",
       "      <td>0</td>\n",
       "      <td>0</td>\n",
       "      <td>0</td>\n",
       "      <td>0</td>\n",
       "      <td>0</td>\n",
       "      <td>0</td>\n",
       "      <td>11</td>\n",
       "    </tr>\n",
       "    <tr>\n",
       "      <th>16433</th>\n",
       "      <td>6b22ecccaddde4516a88c6981373daf3</td>\n",
       "      <td>20220212</td>\n",
       "      <td>7</td>\n",
       "      <td>18135</td>\n",
       "      <td>951900</td>\n",
       "      <td>Census Tract 9519, Randolph County, Indiana</td>\n",
       "      <td>11</td>\n",
       "      <td>0</td>\n",
       "      <td>0</td>\n",
       "      <td>10</td>\n",
       "      <td>...</td>\n",
       "      <td>NaN</td>\n",
       "      <td>NaN</td>\n",
       "      <td>0</td>\n",
       "      <td>0</td>\n",
       "      <td>0</td>\n",
       "      <td>0</td>\n",
       "      <td>0</td>\n",
       "      <td>0</td>\n",
       "      <td>0</td>\n",
       "      <td>11</td>\n",
       "    </tr>\n",
       "  </tbody>\n",
       "</table>\n",
       "<p>113 rows × 25 columns</p>\n",
       "</div>"
      ],
      "text/plain": [
       "                                  uu_id  timeperiod  week_number  countyfips  \\\n",
       "540    420b44cc7e3f55d738df565421e59941    20220108            2       18043   \n",
       "541    420b44cc7e3f55d738df565421e59941    20220115            3       18043   \n",
       "558    d7a8af51ca8eb58392ab833bc0ae516b    20220312           11       18083   \n",
       "559    d7a8af51ca8eb58392ab833bc0ae516b    20220212            7       18083   \n",
       "766    4a6ae3b5be1b9b7c10c177e1b9fded82    20220205            6       18169   \n",
       "...                                 ...         ...          ...         ...   \n",
       "16347  ce8b2c0e11c538921c39c06b298d2393    20220730           31       18043   \n",
       "16348  ce8b2c0e11c538921c39c06b298d2393    20220716           29       18043   \n",
       "16431  6b22ecccaddde4516a88c6981373daf3    20220319           12       18135   \n",
       "16432  6b22ecccaddde4516a88c6981373daf3    20220219            8       18135   \n",
       "16433  6b22ecccaddde4516a88c6981373daf3    20220212            7       18135   \n",
       "\n",
       "        tract                                   tract_name  total_claims  \\\n",
       "540     70400      Census Tract 704, Floyd County, Indiana            15   \n",
       "541     70400      Census Tract 704, Floyd County, Indiana            11   \n",
       "558    955200      Census Tract 9552, Knox County, Indiana            16   \n",
       "559    955200      Census Tract 9552, Knox County, Indiana            15   \n",
       "766    102800    Census Tract 1028, Wabash County, Indiana            16   \n",
       "...       ...                                          ...           ...   \n",
       "16347   70901   Census Tract 709.01, Floyd County, Indiana            13   \n",
       "16348   70901   Census Tract 709.01, Floyd County, Indiana            12   \n",
       "16431  951900  Census Tract 9519, Randolph County, Indiana            10   \n",
       "16432  951900  Census Tract 9519, Randolph County, Indiana            11   \n",
       "16433  951900  Census Tract 9519, Randolph County, Indiana            11   \n",
       "\n",
       "       edu_8th_or_less  edu_grades_9_11  edu_hs_grad_equiv  ...  \\\n",
       "540                  0                3                 11  ...   \n",
       "541                  0                3                 11  ...   \n",
       "558                  0                0                 11  ...   \n",
       "559                  0                0                 11  ...   \n",
       "766                  0                0                 11  ...   \n",
       "...                ...              ...                ...  ...   \n",
       "16347                0                0                 11  ...   \n",
       "16348                0                3                 11  ...   \n",
       "16431                0                0                 10  ...   \n",
       "16432                0                0                 10  ...   \n",
       "16433                0                0                 10  ...   \n",
       "\n",
       "       gender_female  gender_male gender_na race_amerindian race_asian  \\\n",
       "540              NaN          NaN         0               0          0   \n",
       "541              NaN          NaN         0               0          0   \n",
       "558              NaN          NaN         0               0          0   \n",
       "559              NaN          NaN         0               0          0   \n",
       "766              NaN          NaN         0               0          0   \n",
       "...              ...          ...       ...             ...        ...   \n",
       "16347            NaN          NaN         0               0          0   \n",
       "16348            NaN          NaN         0               0          0   \n",
       "16431            NaN          NaN         0               0          0   \n",
       "16432            NaN          NaN         0               0          0   \n",
       "16433            NaN          NaN         0               0          0   \n",
       "\n",
       "       race_black  race_noanswer  race_hawaiiannative  race_other  race_white  \n",
       "540             0              0                    0           0          12  \n",
       "541             0              0                    0           0          13  \n",
       "558             0              0                    0           0          16  \n",
       "559             0              0                    0           0          15  \n",
       "766             0              0                    0           0          16  \n",
       "...           ...            ...                  ...         ...         ...  \n",
       "16347           0              0                    0           0          13  \n",
       "16348           0              0                    0           0          13  \n",
       "16431           0              0                    0           0          10  \n",
       "16432           0              0                    0           0          11  \n",
       "16433           0              0                    0           0          11  \n",
       "\n",
       "[113 rows x 25 columns]"
      ]
     },
     "execution_count": 22,
     "metadata": {},
     "output_type": "execute_result"
    }
   ],
   "source": [
    "unemp_data[unemp_data.gender_male.isnull()]"
   ]
  },
  {
   "cell_type": "code",
   "execution_count": 23,
   "id": "ce894888",
   "metadata": {
    "execution": {
     "iopub.execute_input": "2023-05-10T01:31:11.702536Z",
     "iopub.status.busy": "2023-05-10T01:31:11.702455Z",
     "iopub.status.idle": "2023-05-10T01:31:11.706662Z",
     "shell.execute_reply": "2023-05-10T01:31:11.706448Z"
    }
   },
   "outputs": [],
   "source": [
    "unemp_data['gender_male'] = unemp_data['gender_male'].fillna(unemp_data.groupby('countyfips')['gender_male'].transform('mean'))\n",
    "unemp_data['gender_female'] = unemp_data['gender_female'].fillna(unemp_data.groupby('countyfips')['gender_female'].transform('mean'))\n",
    "unemp_data['edu_post_hs'] = unemp_data['edu_post_hs'].fillna(unemp_data.groupby('countyfips')['edu_post_hs'].transform('mean'))"
   ]
  },
  {
   "cell_type": "code",
   "execution_count": 24,
   "id": "e40cfafe",
   "metadata": {
    "execution": {
     "iopub.execute_input": "2023-05-10T01:31:11.707959Z",
     "iopub.status.busy": "2023-05-10T01:31:11.707884Z",
     "iopub.status.idle": "2023-05-10T01:31:11.716030Z",
     "shell.execute_reply": "2023-05-10T01:31:11.715801Z"
    }
   },
   "outputs": [
    {
     "data": {
      "text/plain": [
       "uu_id                       0\n",
       "timeperiod                  0\n",
       "week_number                 0\n",
       "countyfips                  0\n",
       "tract                       0\n",
       "tract_name                  0\n",
       "total_claims                0\n",
       "edu_8th_or_less             0\n",
       "edu_grades_9_11             0\n",
       "edu_hs_grad_equiv           0\n",
       "edu_post_hs               124\n",
       "edu_unknown                 0\n",
       "top_category_employer1      0\n",
       "top_category_employer2      0\n",
       "top_category_employer3      0\n",
       "gender_female             113\n",
       "gender_male               113\n",
       "gender_na                   0\n",
       "race_amerindian             0\n",
       "race_asian                  0\n",
       "race_black                  0\n",
       "race_noanswer               0\n",
       "race_hawaiiannative         0\n",
       "race_other                  0\n",
       "race_white                  0\n",
       "dtype: int64"
      ]
     },
     "execution_count": 24,
     "metadata": {},
     "output_type": "execute_result"
    }
   ],
   "source": [
    "unemp_data.isna().sum()"
   ]
  },
  {
   "cell_type": "code",
   "execution_count": 25,
   "id": "d750bd91",
   "metadata": {
    "execution": {
     "iopub.execute_input": "2023-05-10T01:31:11.717425Z",
     "iopub.status.busy": "2023-05-10T01:31:11.717346Z",
     "iopub.status.idle": "2023-05-10T01:31:11.736845Z",
     "shell.execute_reply": "2023-05-10T01:31:11.736589Z"
    }
   },
   "outputs": [],
   "source": [
    "unemp_data['gender_male'] = unemp_data.groupby('countyfips')['gender_male'].transform(lambda x: x.fillna(x.mean()))\n",
    "unemp_data['gender_female'] = unemp_data.groupby('countyfips')['gender_female'].transform(lambda x: x.fillna(x.mean()))\n",
    "unemp_data['edu_post_hs'] = unemp_data.groupby('countyfips')['edu_post_hs'].transform(lambda x: x.fillna(x.mean()))"
   ]
  },
  {
   "cell_type": "code",
   "execution_count": 26,
   "id": "7018b18c",
   "metadata": {
    "execution": {
     "iopub.execute_input": "2023-05-10T01:31:11.738258Z",
     "iopub.status.busy": "2023-05-10T01:31:11.738176Z",
     "iopub.status.idle": "2023-05-10T01:31:11.746315Z",
     "shell.execute_reply": "2023-05-10T01:31:11.746040Z"
    }
   },
   "outputs": [
    {
     "data": {
      "text/plain": [
       "uu_id                       0\n",
       "timeperiod                  0\n",
       "week_number                 0\n",
       "countyfips                  0\n",
       "tract                       0\n",
       "tract_name                  0\n",
       "total_claims                0\n",
       "edu_8th_or_less             0\n",
       "edu_grades_9_11             0\n",
       "edu_hs_grad_equiv           0\n",
       "edu_post_hs               124\n",
       "edu_unknown                 0\n",
       "top_category_employer1      0\n",
       "top_category_employer2      0\n",
       "top_category_employer3      0\n",
       "gender_female             113\n",
       "gender_male               113\n",
       "gender_na                   0\n",
       "race_amerindian             0\n",
       "race_asian                  0\n",
       "race_black                  0\n",
       "race_noanswer               0\n",
       "race_hawaiiannative         0\n",
       "race_other                  0\n",
       "race_white                  0\n",
       "dtype: int64"
      ]
     },
     "execution_count": 26,
     "metadata": {},
     "output_type": "execute_result"
    }
   ],
   "source": [
    "unemp_data.isna().sum()"
   ]
  },
  {
   "cell_type": "code",
   "execution_count": 27,
   "id": "8ebe0c61",
   "metadata": {
    "execution": {
     "iopub.execute_input": "2023-05-10T01:31:11.747683Z",
     "iopub.status.busy": "2023-05-10T01:31:11.747609Z",
     "iopub.status.idle": "2023-05-10T01:31:11.760980Z",
     "shell.execute_reply": "2023-05-10T01:31:11.760744Z"
    }
   },
   "outputs": [
    {
     "data": {
      "text/html": [
       "<div>\n",
       "<style scoped>\n",
       "    .dataframe tbody tr th:only-of-type {\n",
       "        vertical-align: middle;\n",
       "    }\n",
       "\n",
       "    .dataframe tbody tr th {\n",
       "        vertical-align: top;\n",
       "    }\n",
       "\n",
       "    .dataframe thead th {\n",
       "        text-align: right;\n",
       "    }\n",
       "</style>\n",
       "<table border=\"1\" class=\"dataframe\">\n",
       "  <thead>\n",
       "    <tr style=\"text-align: right;\">\n",
       "      <th></th>\n",
       "      <th>uu_id</th>\n",
       "      <th>timeperiod</th>\n",
       "      <th>week_number</th>\n",
       "      <th>countyfips</th>\n",
       "      <th>tract</th>\n",
       "      <th>tract_name</th>\n",
       "      <th>total_claims</th>\n",
       "      <th>edu_8th_or_less</th>\n",
       "      <th>edu_grades_9_11</th>\n",
       "      <th>edu_hs_grad_equiv</th>\n",
       "      <th>...</th>\n",
       "      <th>gender_female</th>\n",
       "      <th>gender_male</th>\n",
       "      <th>gender_na</th>\n",
       "      <th>race_amerindian</th>\n",
       "      <th>race_asian</th>\n",
       "      <th>race_black</th>\n",
       "      <th>race_noanswer</th>\n",
       "      <th>race_hawaiiannative</th>\n",
       "      <th>race_other</th>\n",
       "      <th>race_white</th>\n",
       "    </tr>\n",
       "  </thead>\n",
       "  <tbody>\n",
       "    <tr>\n",
       "      <th>0</th>\n",
       "      <td>False</td>\n",
       "      <td>False</td>\n",
       "      <td>False</td>\n",
       "      <td>False</td>\n",
       "      <td>False</td>\n",
       "      <td>False</td>\n",
       "      <td>False</td>\n",
       "      <td>False</td>\n",
       "      <td>False</td>\n",
       "      <td>False</td>\n",
       "      <td>...</td>\n",
       "      <td>False</td>\n",
       "      <td>False</td>\n",
       "      <td>False</td>\n",
       "      <td>False</td>\n",
       "      <td>False</td>\n",
       "      <td>False</td>\n",
       "      <td>False</td>\n",
       "      <td>False</td>\n",
       "      <td>False</td>\n",
       "      <td>False</td>\n",
       "    </tr>\n",
       "    <tr>\n",
       "      <th>1</th>\n",
       "      <td>False</td>\n",
       "      <td>False</td>\n",
       "      <td>False</td>\n",
       "      <td>False</td>\n",
       "      <td>False</td>\n",
       "      <td>False</td>\n",
       "      <td>False</td>\n",
       "      <td>False</td>\n",
       "      <td>False</td>\n",
       "      <td>False</td>\n",
       "      <td>...</td>\n",
       "      <td>False</td>\n",
       "      <td>False</td>\n",
       "      <td>False</td>\n",
       "      <td>False</td>\n",
       "      <td>False</td>\n",
       "      <td>False</td>\n",
       "      <td>False</td>\n",
       "      <td>False</td>\n",
       "      <td>False</td>\n",
       "      <td>False</td>\n",
       "    </tr>\n",
       "    <tr>\n",
       "      <th>2</th>\n",
       "      <td>False</td>\n",
       "      <td>False</td>\n",
       "      <td>False</td>\n",
       "      <td>False</td>\n",
       "      <td>False</td>\n",
       "      <td>False</td>\n",
       "      <td>False</td>\n",
       "      <td>False</td>\n",
       "      <td>False</td>\n",
       "      <td>False</td>\n",
       "      <td>...</td>\n",
       "      <td>False</td>\n",
       "      <td>False</td>\n",
       "      <td>False</td>\n",
       "      <td>False</td>\n",
       "      <td>False</td>\n",
       "      <td>False</td>\n",
       "      <td>False</td>\n",
       "      <td>False</td>\n",
       "      <td>False</td>\n",
       "      <td>False</td>\n",
       "    </tr>\n",
       "    <tr>\n",
       "      <th>3</th>\n",
       "      <td>False</td>\n",
       "      <td>False</td>\n",
       "      <td>False</td>\n",
       "      <td>False</td>\n",
       "      <td>False</td>\n",
       "      <td>False</td>\n",
       "      <td>False</td>\n",
       "      <td>False</td>\n",
       "      <td>False</td>\n",
       "      <td>False</td>\n",
       "      <td>...</td>\n",
       "      <td>False</td>\n",
       "      <td>False</td>\n",
       "      <td>False</td>\n",
       "      <td>False</td>\n",
       "      <td>False</td>\n",
       "      <td>False</td>\n",
       "      <td>False</td>\n",
       "      <td>False</td>\n",
       "      <td>False</td>\n",
       "      <td>False</td>\n",
       "    </tr>\n",
       "    <tr>\n",
       "      <th>4</th>\n",
       "      <td>False</td>\n",
       "      <td>False</td>\n",
       "      <td>False</td>\n",
       "      <td>False</td>\n",
       "      <td>False</td>\n",
       "      <td>False</td>\n",
       "      <td>False</td>\n",
       "      <td>False</td>\n",
       "      <td>False</td>\n",
       "      <td>False</td>\n",
       "      <td>...</td>\n",
       "      <td>False</td>\n",
       "      <td>False</td>\n",
       "      <td>False</td>\n",
       "      <td>False</td>\n",
       "      <td>False</td>\n",
       "      <td>False</td>\n",
       "      <td>False</td>\n",
       "      <td>False</td>\n",
       "      <td>False</td>\n",
       "      <td>False</td>\n",
       "    </tr>\n",
       "    <tr>\n",
       "      <th>...</th>\n",
       "      <td>...</td>\n",
       "      <td>...</td>\n",
       "      <td>...</td>\n",
       "      <td>...</td>\n",
       "      <td>...</td>\n",
       "      <td>...</td>\n",
       "      <td>...</td>\n",
       "      <td>...</td>\n",
       "      <td>...</td>\n",
       "      <td>...</td>\n",
       "      <td>...</td>\n",
       "      <td>...</td>\n",
       "      <td>...</td>\n",
       "      <td>...</td>\n",
       "      <td>...</td>\n",
       "      <td>...</td>\n",
       "      <td>...</td>\n",
       "      <td>...</td>\n",
       "      <td>...</td>\n",
       "      <td>...</td>\n",
       "      <td>...</td>\n",
       "    </tr>\n",
       "    <tr>\n",
       "      <th>16828</th>\n",
       "      <td>False</td>\n",
       "      <td>False</td>\n",
       "      <td>False</td>\n",
       "      <td>False</td>\n",
       "      <td>False</td>\n",
       "      <td>False</td>\n",
       "      <td>False</td>\n",
       "      <td>False</td>\n",
       "      <td>False</td>\n",
       "      <td>False</td>\n",
       "      <td>...</td>\n",
       "      <td>False</td>\n",
       "      <td>False</td>\n",
       "      <td>False</td>\n",
       "      <td>False</td>\n",
       "      <td>False</td>\n",
       "      <td>False</td>\n",
       "      <td>False</td>\n",
       "      <td>False</td>\n",
       "      <td>False</td>\n",
       "      <td>False</td>\n",
       "    </tr>\n",
       "    <tr>\n",
       "      <th>16829</th>\n",
       "      <td>False</td>\n",
       "      <td>False</td>\n",
       "      <td>False</td>\n",
       "      <td>False</td>\n",
       "      <td>False</td>\n",
       "      <td>False</td>\n",
       "      <td>False</td>\n",
       "      <td>False</td>\n",
       "      <td>False</td>\n",
       "      <td>False</td>\n",
       "      <td>...</td>\n",
       "      <td>False</td>\n",
       "      <td>False</td>\n",
       "      <td>False</td>\n",
       "      <td>False</td>\n",
       "      <td>False</td>\n",
       "      <td>False</td>\n",
       "      <td>False</td>\n",
       "      <td>False</td>\n",
       "      <td>False</td>\n",
       "      <td>False</td>\n",
       "    </tr>\n",
       "    <tr>\n",
       "      <th>16830</th>\n",
       "      <td>False</td>\n",
       "      <td>False</td>\n",
       "      <td>False</td>\n",
       "      <td>False</td>\n",
       "      <td>False</td>\n",
       "      <td>False</td>\n",
       "      <td>False</td>\n",
       "      <td>False</td>\n",
       "      <td>False</td>\n",
       "      <td>False</td>\n",
       "      <td>...</td>\n",
       "      <td>False</td>\n",
       "      <td>False</td>\n",
       "      <td>False</td>\n",
       "      <td>False</td>\n",
       "      <td>False</td>\n",
       "      <td>False</td>\n",
       "      <td>False</td>\n",
       "      <td>False</td>\n",
       "      <td>False</td>\n",
       "      <td>False</td>\n",
       "    </tr>\n",
       "    <tr>\n",
       "      <th>16831</th>\n",
       "      <td>False</td>\n",
       "      <td>False</td>\n",
       "      <td>False</td>\n",
       "      <td>False</td>\n",
       "      <td>False</td>\n",
       "      <td>False</td>\n",
       "      <td>False</td>\n",
       "      <td>False</td>\n",
       "      <td>False</td>\n",
       "      <td>False</td>\n",
       "      <td>...</td>\n",
       "      <td>False</td>\n",
       "      <td>False</td>\n",
       "      <td>False</td>\n",
       "      <td>False</td>\n",
       "      <td>False</td>\n",
       "      <td>False</td>\n",
       "      <td>False</td>\n",
       "      <td>False</td>\n",
       "      <td>False</td>\n",
       "      <td>False</td>\n",
       "    </tr>\n",
       "    <tr>\n",
       "      <th>16832</th>\n",
       "      <td>False</td>\n",
       "      <td>False</td>\n",
       "      <td>False</td>\n",
       "      <td>False</td>\n",
       "      <td>False</td>\n",
       "      <td>False</td>\n",
       "      <td>False</td>\n",
       "      <td>False</td>\n",
       "      <td>False</td>\n",
       "      <td>False</td>\n",
       "      <td>...</td>\n",
       "      <td>False</td>\n",
       "      <td>False</td>\n",
       "      <td>False</td>\n",
       "      <td>False</td>\n",
       "      <td>False</td>\n",
       "      <td>False</td>\n",
       "      <td>False</td>\n",
       "      <td>False</td>\n",
       "      <td>False</td>\n",
       "      <td>False</td>\n",
       "    </tr>\n",
       "  </tbody>\n",
       "</table>\n",
       "<p>16833 rows × 25 columns</p>\n",
       "</div>"
      ],
      "text/plain": [
       "       uu_id  timeperiod  week_number  countyfips  tract  tract_name  \\\n",
       "0      False       False        False       False  False       False   \n",
       "1      False       False        False       False  False       False   \n",
       "2      False       False        False       False  False       False   \n",
       "3      False       False        False       False  False       False   \n",
       "4      False       False        False       False  False       False   \n",
       "...      ...         ...          ...         ...    ...         ...   \n",
       "16828  False       False        False       False  False       False   \n",
       "16829  False       False        False       False  False       False   \n",
       "16830  False       False        False       False  False       False   \n",
       "16831  False       False        False       False  False       False   \n",
       "16832  False       False        False       False  False       False   \n",
       "\n",
       "       total_claims  edu_8th_or_less  edu_grades_9_11  edu_hs_grad_equiv  ...  \\\n",
       "0             False            False            False              False  ...   \n",
       "1             False            False            False              False  ...   \n",
       "2             False            False            False              False  ...   \n",
       "3             False            False            False              False  ...   \n",
       "4             False            False            False              False  ...   \n",
       "...             ...              ...              ...                ...  ...   \n",
       "16828         False            False            False              False  ...   \n",
       "16829         False            False            False              False  ...   \n",
       "16830         False            False            False              False  ...   \n",
       "16831         False            False            False              False  ...   \n",
       "16832         False            False            False              False  ...   \n",
       "\n",
       "       gender_female  gender_male  gender_na  race_amerindian  race_asian  \\\n",
       "0              False        False      False            False       False   \n",
       "1              False        False      False            False       False   \n",
       "2              False        False      False            False       False   \n",
       "3              False        False      False            False       False   \n",
       "4              False        False      False            False       False   \n",
       "...              ...          ...        ...              ...         ...   \n",
       "16828          False        False      False            False       False   \n",
       "16829          False        False      False            False       False   \n",
       "16830          False        False      False            False       False   \n",
       "16831          False        False      False            False       False   \n",
       "16832          False        False      False            False       False   \n",
       "\n",
       "       race_black  race_noanswer  race_hawaiiannative  race_other  race_white  \n",
       "0           False          False                False       False       False  \n",
       "1           False          False                False       False       False  \n",
       "2           False          False                False       False       False  \n",
       "3           False          False                False       False       False  \n",
       "4           False          False                False       False       False  \n",
       "...           ...            ...                  ...         ...         ...  \n",
       "16828       False          False                False       False       False  \n",
       "16829       False          False                False       False       False  \n",
       "16830       False          False                False       False       False  \n",
       "16831       False          False                False       False       False  \n",
       "16832       False          False                False       False       False  \n",
       "\n",
       "[16833 rows x 25 columns]"
      ]
     },
     "execution_count": 27,
     "metadata": {},
     "output_type": "execute_result"
    }
   ],
   "source": [
    "unemp_data.isnull()"
   ]
  },
  {
   "cell_type": "code",
   "execution_count": 28,
   "id": "7d5915f5",
   "metadata": {
    "execution": {
     "iopub.execute_input": "2023-05-10T01:31:11.762391Z",
     "iopub.status.busy": "2023-05-10T01:31:11.762309Z",
     "iopub.status.idle": "2023-05-10T01:31:11.772223Z",
     "shell.execute_reply": "2023-05-10T01:31:11.771979Z"
    }
   },
   "outputs": [
    {
     "data": {
      "text/html": [
       "<div>\n",
       "<style scoped>\n",
       "    .dataframe tbody tr th:only-of-type {\n",
       "        vertical-align: middle;\n",
       "    }\n",
       "\n",
       "    .dataframe tbody tr th {\n",
       "        vertical-align: top;\n",
       "    }\n",
       "\n",
       "    .dataframe thead th {\n",
       "        text-align: right;\n",
       "    }\n",
       "</style>\n",
       "<table border=\"1\" class=\"dataframe\">\n",
       "  <thead>\n",
       "    <tr style=\"text-align: right;\">\n",
       "      <th></th>\n",
       "      <th>uu_id</th>\n",
       "      <th>timeperiod</th>\n",
       "      <th>week_number</th>\n",
       "      <th>countyfips</th>\n",
       "      <th>tract</th>\n",
       "      <th>tract_name</th>\n",
       "      <th>total_claims</th>\n",
       "      <th>edu_8th_or_less</th>\n",
       "      <th>edu_grades_9_11</th>\n",
       "      <th>edu_hs_grad_equiv</th>\n",
       "      <th>...</th>\n",
       "      <th>gender_female</th>\n",
       "      <th>gender_male</th>\n",
       "      <th>gender_na</th>\n",
       "      <th>race_amerindian</th>\n",
       "      <th>race_asian</th>\n",
       "      <th>race_black</th>\n",
       "      <th>race_noanswer</th>\n",
       "      <th>race_hawaiiannative</th>\n",
       "      <th>race_other</th>\n",
       "      <th>race_white</th>\n",
       "    </tr>\n",
       "  </thead>\n",
       "  <tbody>\n",
       "    <tr>\n",
       "      <th>540</th>\n",
       "      <td>420b44cc7e3f55d738df565421e59941</td>\n",
       "      <td>20220108</td>\n",
       "      <td>2</td>\n",
       "      <td>18043</td>\n",
       "      <td>70400</td>\n",
       "      <td>Census Tract 704, Floyd County, Indiana</td>\n",
       "      <td>15</td>\n",
       "      <td>0</td>\n",
       "      <td>3</td>\n",
       "      <td>11</td>\n",
       "      <td>...</td>\n",
       "      <td>NaN</td>\n",
       "      <td>NaN</td>\n",
       "      <td>0</td>\n",
       "      <td>0</td>\n",
       "      <td>0</td>\n",
       "      <td>0</td>\n",
       "      <td>0</td>\n",
       "      <td>0</td>\n",
       "      <td>0</td>\n",
       "      <td>12</td>\n",
       "    </tr>\n",
       "    <tr>\n",
       "      <th>541</th>\n",
       "      <td>420b44cc7e3f55d738df565421e59941</td>\n",
       "      <td>20220115</td>\n",
       "      <td>3</td>\n",
       "      <td>18043</td>\n",
       "      <td>70400</td>\n",
       "      <td>Census Tract 704, Floyd County, Indiana</td>\n",
       "      <td>11</td>\n",
       "      <td>0</td>\n",
       "      <td>3</td>\n",
       "      <td>11</td>\n",
       "      <td>...</td>\n",
       "      <td>NaN</td>\n",
       "      <td>NaN</td>\n",
       "      <td>0</td>\n",
       "      <td>0</td>\n",
       "      <td>0</td>\n",
       "      <td>0</td>\n",
       "      <td>0</td>\n",
       "      <td>0</td>\n",
       "      <td>0</td>\n",
       "      <td>13</td>\n",
       "    </tr>\n",
       "    <tr>\n",
       "      <th>558</th>\n",
       "      <td>d7a8af51ca8eb58392ab833bc0ae516b</td>\n",
       "      <td>20220312</td>\n",
       "      <td>11</td>\n",
       "      <td>18083</td>\n",
       "      <td>955200</td>\n",
       "      <td>Census Tract 9552, Knox County, Indiana</td>\n",
       "      <td>16</td>\n",
       "      <td>0</td>\n",
       "      <td>0</td>\n",
       "      <td>11</td>\n",
       "      <td>...</td>\n",
       "      <td>NaN</td>\n",
       "      <td>NaN</td>\n",
       "      <td>0</td>\n",
       "      <td>0</td>\n",
       "      <td>0</td>\n",
       "      <td>0</td>\n",
       "      <td>0</td>\n",
       "      <td>0</td>\n",
       "      <td>0</td>\n",
       "      <td>16</td>\n",
       "    </tr>\n",
       "    <tr>\n",
       "      <th>559</th>\n",
       "      <td>d7a8af51ca8eb58392ab833bc0ae516b</td>\n",
       "      <td>20220212</td>\n",
       "      <td>7</td>\n",
       "      <td>18083</td>\n",
       "      <td>955200</td>\n",
       "      <td>Census Tract 9552, Knox County, Indiana</td>\n",
       "      <td>15</td>\n",
       "      <td>0</td>\n",
       "      <td>0</td>\n",
       "      <td>11</td>\n",
       "      <td>...</td>\n",
       "      <td>NaN</td>\n",
       "      <td>NaN</td>\n",
       "      <td>0</td>\n",
       "      <td>0</td>\n",
       "      <td>0</td>\n",
       "      <td>0</td>\n",
       "      <td>0</td>\n",
       "      <td>0</td>\n",
       "      <td>0</td>\n",
       "      <td>15</td>\n",
       "    </tr>\n",
       "    <tr>\n",
       "      <th>766</th>\n",
       "      <td>4a6ae3b5be1b9b7c10c177e1b9fded82</td>\n",
       "      <td>20220205</td>\n",
       "      <td>6</td>\n",
       "      <td>18169</td>\n",
       "      <td>102800</td>\n",
       "      <td>Census Tract 1028, Wabash County, Indiana</td>\n",
       "      <td>16</td>\n",
       "      <td>0</td>\n",
       "      <td>0</td>\n",
       "      <td>11</td>\n",
       "      <td>...</td>\n",
       "      <td>NaN</td>\n",
       "      <td>NaN</td>\n",
       "      <td>0</td>\n",
       "      <td>0</td>\n",
       "      <td>0</td>\n",
       "      <td>0</td>\n",
       "      <td>0</td>\n",
       "      <td>0</td>\n",
       "      <td>0</td>\n",
       "      <td>16</td>\n",
       "    </tr>\n",
       "    <tr>\n",
       "      <th>...</th>\n",
       "      <td>...</td>\n",
       "      <td>...</td>\n",
       "      <td>...</td>\n",
       "      <td>...</td>\n",
       "      <td>...</td>\n",
       "      <td>...</td>\n",
       "      <td>...</td>\n",
       "      <td>...</td>\n",
       "      <td>...</td>\n",
       "      <td>...</td>\n",
       "      <td>...</td>\n",
       "      <td>...</td>\n",
       "      <td>...</td>\n",
       "      <td>...</td>\n",
       "      <td>...</td>\n",
       "      <td>...</td>\n",
       "      <td>...</td>\n",
       "      <td>...</td>\n",
       "      <td>...</td>\n",
       "      <td>...</td>\n",
       "      <td>...</td>\n",
       "    </tr>\n",
       "    <tr>\n",
       "      <th>16347</th>\n",
       "      <td>ce8b2c0e11c538921c39c06b298d2393</td>\n",
       "      <td>20220730</td>\n",
       "      <td>31</td>\n",
       "      <td>18043</td>\n",
       "      <td>70901</td>\n",
       "      <td>Census Tract 709.01, Floyd County, Indiana</td>\n",
       "      <td>13</td>\n",
       "      <td>0</td>\n",
       "      <td>0</td>\n",
       "      <td>11</td>\n",
       "      <td>...</td>\n",
       "      <td>NaN</td>\n",
       "      <td>NaN</td>\n",
       "      <td>0</td>\n",
       "      <td>0</td>\n",
       "      <td>0</td>\n",
       "      <td>0</td>\n",
       "      <td>0</td>\n",
       "      <td>0</td>\n",
       "      <td>0</td>\n",
       "      <td>13</td>\n",
       "    </tr>\n",
       "    <tr>\n",
       "      <th>16348</th>\n",
       "      <td>ce8b2c0e11c538921c39c06b298d2393</td>\n",
       "      <td>20220716</td>\n",
       "      <td>29</td>\n",
       "      <td>18043</td>\n",
       "      <td>70901</td>\n",
       "      <td>Census Tract 709.01, Floyd County, Indiana</td>\n",
       "      <td>12</td>\n",
       "      <td>0</td>\n",
       "      <td>3</td>\n",
       "      <td>11</td>\n",
       "      <td>...</td>\n",
       "      <td>NaN</td>\n",
       "      <td>NaN</td>\n",
       "      <td>0</td>\n",
       "      <td>0</td>\n",
       "      <td>0</td>\n",
       "      <td>0</td>\n",
       "      <td>0</td>\n",
       "      <td>0</td>\n",
       "      <td>0</td>\n",
       "      <td>13</td>\n",
       "    </tr>\n",
       "    <tr>\n",
       "      <th>16431</th>\n",
       "      <td>6b22ecccaddde4516a88c6981373daf3</td>\n",
       "      <td>20220319</td>\n",
       "      <td>12</td>\n",
       "      <td>18135</td>\n",
       "      <td>951900</td>\n",
       "      <td>Census Tract 9519, Randolph County, Indiana</td>\n",
       "      <td>10</td>\n",
       "      <td>0</td>\n",
       "      <td>0</td>\n",
       "      <td>10</td>\n",
       "      <td>...</td>\n",
       "      <td>NaN</td>\n",
       "      <td>NaN</td>\n",
       "      <td>0</td>\n",
       "      <td>0</td>\n",
       "      <td>0</td>\n",
       "      <td>0</td>\n",
       "      <td>0</td>\n",
       "      <td>0</td>\n",
       "      <td>0</td>\n",
       "      <td>10</td>\n",
       "    </tr>\n",
       "    <tr>\n",
       "      <th>16432</th>\n",
       "      <td>6b22ecccaddde4516a88c6981373daf3</td>\n",
       "      <td>20220219</td>\n",
       "      <td>8</td>\n",
       "      <td>18135</td>\n",
       "      <td>951900</td>\n",
       "      <td>Census Tract 9519, Randolph County, Indiana</td>\n",
       "      <td>11</td>\n",
       "      <td>0</td>\n",
       "      <td>0</td>\n",
       "      <td>10</td>\n",
       "      <td>...</td>\n",
       "      <td>NaN</td>\n",
       "      <td>NaN</td>\n",
       "      <td>0</td>\n",
       "      <td>0</td>\n",
       "      <td>0</td>\n",
       "      <td>0</td>\n",
       "      <td>0</td>\n",
       "      <td>0</td>\n",
       "      <td>0</td>\n",
       "      <td>11</td>\n",
       "    </tr>\n",
       "    <tr>\n",
       "      <th>16433</th>\n",
       "      <td>6b22ecccaddde4516a88c6981373daf3</td>\n",
       "      <td>20220212</td>\n",
       "      <td>7</td>\n",
       "      <td>18135</td>\n",
       "      <td>951900</td>\n",
       "      <td>Census Tract 9519, Randolph County, Indiana</td>\n",
       "      <td>11</td>\n",
       "      <td>0</td>\n",
       "      <td>0</td>\n",
       "      <td>10</td>\n",
       "      <td>...</td>\n",
       "      <td>NaN</td>\n",
       "      <td>NaN</td>\n",
       "      <td>0</td>\n",
       "      <td>0</td>\n",
       "      <td>0</td>\n",
       "      <td>0</td>\n",
       "      <td>0</td>\n",
       "      <td>0</td>\n",
       "      <td>0</td>\n",
       "      <td>11</td>\n",
       "    </tr>\n",
       "  </tbody>\n",
       "</table>\n",
       "<p>113 rows × 25 columns</p>\n",
       "</div>"
      ],
      "text/plain": [
       "                                  uu_id  timeperiod  week_number  countyfips  \\\n",
       "540    420b44cc7e3f55d738df565421e59941    20220108            2       18043   \n",
       "541    420b44cc7e3f55d738df565421e59941    20220115            3       18043   \n",
       "558    d7a8af51ca8eb58392ab833bc0ae516b    20220312           11       18083   \n",
       "559    d7a8af51ca8eb58392ab833bc0ae516b    20220212            7       18083   \n",
       "766    4a6ae3b5be1b9b7c10c177e1b9fded82    20220205            6       18169   \n",
       "...                                 ...         ...          ...         ...   \n",
       "16347  ce8b2c0e11c538921c39c06b298d2393    20220730           31       18043   \n",
       "16348  ce8b2c0e11c538921c39c06b298d2393    20220716           29       18043   \n",
       "16431  6b22ecccaddde4516a88c6981373daf3    20220319           12       18135   \n",
       "16432  6b22ecccaddde4516a88c6981373daf3    20220219            8       18135   \n",
       "16433  6b22ecccaddde4516a88c6981373daf3    20220212            7       18135   \n",
       "\n",
       "        tract                                   tract_name  total_claims  \\\n",
       "540     70400      Census Tract 704, Floyd County, Indiana            15   \n",
       "541     70400      Census Tract 704, Floyd County, Indiana            11   \n",
       "558    955200      Census Tract 9552, Knox County, Indiana            16   \n",
       "559    955200      Census Tract 9552, Knox County, Indiana            15   \n",
       "766    102800    Census Tract 1028, Wabash County, Indiana            16   \n",
       "...       ...                                          ...           ...   \n",
       "16347   70901   Census Tract 709.01, Floyd County, Indiana            13   \n",
       "16348   70901   Census Tract 709.01, Floyd County, Indiana            12   \n",
       "16431  951900  Census Tract 9519, Randolph County, Indiana            10   \n",
       "16432  951900  Census Tract 9519, Randolph County, Indiana            11   \n",
       "16433  951900  Census Tract 9519, Randolph County, Indiana            11   \n",
       "\n",
       "       edu_8th_or_less  edu_grades_9_11  edu_hs_grad_equiv  ...  \\\n",
       "540                  0                3                 11  ...   \n",
       "541                  0                3                 11  ...   \n",
       "558                  0                0                 11  ...   \n",
       "559                  0                0                 11  ...   \n",
       "766                  0                0                 11  ...   \n",
       "...                ...              ...                ...  ...   \n",
       "16347                0                0                 11  ...   \n",
       "16348                0                3                 11  ...   \n",
       "16431                0                0                 10  ...   \n",
       "16432                0                0                 10  ...   \n",
       "16433                0                0                 10  ...   \n",
       "\n",
       "       gender_female  gender_male gender_na race_amerindian race_asian  \\\n",
       "540              NaN          NaN         0               0          0   \n",
       "541              NaN          NaN         0               0          0   \n",
       "558              NaN          NaN         0               0          0   \n",
       "559              NaN          NaN         0               0          0   \n",
       "766              NaN          NaN         0               0          0   \n",
       "...              ...          ...       ...             ...        ...   \n",
       "16347            NaN          NaN         0               0          0   \n",
       "16348            NaN          NaN         0               0          0   \n",
       "16431            NaN          NaN         0               0          0   \n",
       "16432            NaN          NaN         0               0          0   \n",
       "16433            NaN          NaN         0               0          0   \n",
       "\n",
       "       race_black  race_noanswer  race_hawaiiannative  race_other  race_white  \n",
       "540             0              0                    0           0          12  \n",
       "541             0              0                    0           0          13  \n",
       "558             0              0                    0           0          16  \n",
       "559             0              0                    0           0          15  \n",
       "766             0              0                    0           0          16  \n",
       "...           ...            ...                  ...         ...         ...  \n",
       "16347           0              0                    0           0          13  \n",
       "16348           0              0                    0           0          13  \n",
       "16431           0              0                    0           0          10  \n",
       "16432           0              0                    0           0          11  \n",
       "16433           0              0                    0           0          11  \n",
       "\n",
       "[113 rows x 25 columns]"
      ]
     },
     "execution_count": 28,
     "metadata": {},
     "output_type": "execute_result"
    }
   ],
   "source": [
    "unemp_data[unemp_data['gender_male'].isnull()]"
   ]
  },
  {
   "cell_type": "code",
   "execution_count": 29,
   "id": "77bcdb80",
   "metadata": {
    "execution": {
     "iopub.execute_input": "2023-05-10T01:31:11.773608Z",
     "iopub.status.busy": "2023-05-10T01:31:11.773530Z",
     "iopub.status.idle": "2023-05-10T01:31:11.775953Z",
     "shell.execute_reply": "2023-05-10T01:31:11.775724Z"
    }
   },
   "outputs": [],
   "source": [
    "unemp_data['gender_male'] = unemp_data['gender_male'].fillna(0)\n",
    "unemp_data['gender_female'] = unemp_data['gender_female'].fillna(0)\n",
    "unemp_data['edu_post_hs'] = unemp_data['edu_post_hs'].fillna(0)"
   ]
  },
  {
   "cell_type": "code",
   "execution_count": 30,
   "id": "9533902a",
   "metadata": {
    "execution": {
     "iopub.execute_input": "2023-05-10T01:31:11.777237Z",
     "iopub.status.busy": "2023-05-10T01:31:11.777160Z",
     "iopub.status.idle": "2023-05-10T01:31:11.785241Z",
     "shell.execute_reply": "2023-05-10T01:31:11.785011Z"
    }
   },
   "outputs": [
    {
     "data": {
      "text/plain": [
       "uu_id                     0\n",
       "timeperiod                0\n",
       "week_number               0\n",
       "countyfips                0\n",
       "tract                     0\n",
       "tract_name                0\n",
       "total_claims              0\n",
       "edu_8th_or_less           0\n",
       "edu_grades_9_11           0\n",
       "edu_hs_grad_equiv         0\n",
       "edu_post_hs               0\n",
       "edu_unknown               0\n",
       "top_category_employer1    0\n",
       "top_category_employer2    0\n",
       "top_category_employer3    0\n",
       "gender_female             0\n",
       "gender_male               0\n",
       "gender_na                 0\n",
       "race_amerindian           0\n",
       "race_asian                0\n",
       "race_black                0\n",
       "race_noanswer             0\n",
       "race_hawaiiannative       0\n",
       "race_other                0\n",
       "race_white                0\n",
       "dtype: int64"
      ]
     },
     "execution_count": 30,
     "metadata": {},
     "output_type": "execute_result"
    }
   ],
   "source": [
    "unemp_data.isna().sum()"
   ]
  },
  {
   "cell_type": "code",
   "execution_count": 31,
   "id": "c9afdb5d",
   "metadata": {
    "execution": {
     "iopub.execute_input": "2023-05-10T01:31:11.786700Z",
     "iopub.status.busy": "2023-05-10T01:31:11.786603Z",
     "iopub.status.idle": "2023-05-10T01:31:11.795099Z",
     "shell.execute_reply": "2023-05-10T01:31:11.794819Z"
    }
   },
   "outputs": [
    {
     "data": {
      "text/plain": [
       "uu_id                     0\n",
       "timeperiod                0\n",
       "week_number               0\n",
       "countyfips                0\n",
       "tract                     0\n",
       "tract_name                0\n",
       "total_claims              0\n",
       "edu_8th_or_less           0\n",
       "edu_grades_9_11           0\n",
       "edu_hs_grad_equiv         0\n",
       "edu_post_hs               0\n",
       "edu_unknown               0\n",
       "top_category_employer1    0\n",
       "top_category_employer2    0\n",
       "top_category_employer3    0\n",
       "gender_female             0\n",
       "gender_male               0\n",
       "gender_na                 0\n",
       "race_amerindian           0\n",
       "race_asian                0\n",
       "race_black                0\n",
       "race_noanswer             0\n",
       "race_hawaiiannative       0\n",
       "race_other                0\n",
       "race_white                0\n",
       "dtype: int64"
      ]
     },
     "execution_count": 31,
     "metadata": {},
     "output_type": "execute_result"
    }
   ],
   "source": [
    "unemp_data.isna().sum()"
   ]
  },
  {
   "cell_type": "code",
   "execution_count": 32,
   "id": "2178cf0c",
   "metadata": {
    "execution": {
     "iopub.execute_input": "2023-05-10T01:31:11.796568Z",
     "iopub.status.busy": "2023-05-10T01:31:11.796480Z",
     "iopub.status.idle": "2023-05-10T01:31:11.799863Z",
     "shell.execute_reply": "2023-05-10T01:31:11.799585Z"
    }
   },
   "outputs": [
    {
     "name": "stdout",
     "output_type": "stream",
     "text": [
      "<class 'pandas.core.frame.DataFrame'>\n",
      "RangeIndex: 525 entries, 0 to 524\n",
      "Data columns (total 5 columns):\n",
      " #   Column        Non-Null Count  Dtype  \n",
      "---  ------        --------------  -----  \n",
      " 0   uu_id         525 non-null    object \n",
      " 1   countyfips    525 non-null    Int64  \n",
      " 2   tract         525 non-null    Int64  \n",
      " 3   tract_name    525 non-null    object \n",
      " 4   average_wage  525 non-null    float64\n",
      "dtypes: Int64(2), float64(1), object(2)\n",
      "memory usage: 21.7+ KB\n"
     ]
    }
   ],
   "source": [
    "wage_data.info()"
   ]
  },
  {
   "cell_type": "code",
   "execution_count": 33,
   "id": "ddd67c0c",
   "metadata": {
    "execution": {
     "iopub.execute_input": "2023-05-10T01:31:11.801227Z",
     "iopub.status.busy": "2023-05-10T01:31:11.801146Z",
     "iopub.status.idle": "2023-05-10T01:31:11.806969Z",
     "shell.execute_reply": "2023-05-10T01:31:11.806732Z"
    }
   },
   "outputs": [
    {
     "data": {
      "text/html": [
       "<div>\n",
       "<style scoped>\n",
       "    .dataframe tbody tr th:only-of-type {\n",
       "        vertical-align: middle;\n",
       "    }\n",
       "\n",
       "    .dataframe tbody tr th {\n",
       "        vertical-align: top;\n",
       "    }\n",
       "\n",
       "    .dataframe thead th {\n",
       "        text-align: right;\n",
       "    }\n",
       "</style>\n",
       "<table border=\"1\" class=\"dataframe\">\n",
       "  <thead>\n",
       "    <tr style=\"text-align: right;\">\n",
       "      <th></th>\n",
       "      <th>countyfips</th>\n",
       "      <th>tract</th>\n",
       "      <th>average_wage</th>\n",
       "    </tr>\n",
       "  </thead>\n",
       "  <tbody>\n",
       "    <tr>\n",
       "      <th>count</th>\n",
       "      <td>525.0</td>\n",
       "      <td>525.0</td>\n",
       "      <td>525.000000</td>\n",
       "    </tr>\n",
       "    <tr>\n",
       "      <th>mean</th>\n",
       "      <td>18087.15619</td>\n",
       "      <td>236688.508571</td>\n",
       "      <td>11864.620446</td>\n",
       "    </tr>\n",
       "    <tr>\n",
       "      <th>std</th>\n",
       "      <td>41.969982</td>\n",
       "      <td>323355.706854</td>\n",
       "      <td>4334.564054</td>\n",
       "    </tr>\n",
       "    <tr>\n",
       "      <th>min</th>\n",
       "      <td>18001.0</td>\n",
       "      <td>100.0</td>\n",
       "      <td>3992.500000</td>\n",
       "    </tr>\n",
       "    <tr>\n",
       "      <th>25%</th>\n",
       "      <td>18059.0</td>\n",
       "      <td>10200.0</td>\n",
       "      <td>8797.600000</td>\n",
       "    </tr>\n",
       "    <tr>\n",
       "      <th>50%</th>\n",
       "      <td>18093.0</td>\n",
       "      <td>42902.0</td>\n",
       "      <td>11140.333333</td>\n",
       "    </tr>\n",
       "    <tr>\n",
       "      <th>75%</th>\n",
       "      <td>18103.0</td>\n",
       "      <td>353600.0</td>\n",
       "      <td>14241.727273</td>\n",
       "    </tr>\n",
       "    <tr>\n",
       "      <th>max</th>\n",
       "      <td>18183.0</td>\n",
       "      <td>976400.0</td>\n",
       "      <td>41267.000000</td>\n",
       "    </tr>\n",
       "  </tbody>\n",
       "</table>\n",
       "</div>"
      ],
      "text/plain": [
       "        countyfips          tract  average_wage\n",
       "count        525.0          525.0    525.000000\n",
       "mean   18087.15619  236688.508571  11864.620446\n",
       "std      41.969982  323355.706854   4334.564054\n",
       "min        18001.0          100.0   3992.500000\n",
       "25%        18059.0        10200.0   8797.600000\n",
       "50%        18093.0        42902.0  11140.333333\n",
       "75%        18103.0       353600.0  14241.727273\n",
       "max        18183.0       976400.0  41267.000000"
      ]
     },
     "execution_count": 33,
     "metadata": {},
     "output_type": "execute_result"
    }
   ],
   "source": [
    "wage_data.describe()"
   ]
  },
  {
   "cell_type": "code",
   "execution_count": 34,
   "id": "edc1dad0",
   "metadata": {
    "execution": {
     "iopub.execute_input": "2023-05-10T01:31:11.808285Z",
     "iopub.status.busy": "2023-05-10T01:31:11.808200Z",
     "iopub.status.idle": "2023-05-10T01:31:11.810425Z",
     "shell.execute_reply": "2023-05-10T01:31:11.810207Z"
    }
   },
   "outputs": [],
   "source": [
    "wage_data['average_wage'] = wage_data['average_wage'].fillna(wage_data.groupby('countyfips')['average_wage'].transform('mean'))"
   ]
  },
  {
   "cell_type": "code",
   "execution_count": 35,
   "id": "0cb39655",
   "metadata": {
    "execution": {
     "iopub.execute_input": "2023-05-10T01:31:11.811782Z",
     "iopub.status.busy": "2023-05-10T01:31:11.811700Z",
     "iopub.status.idle": "2023-05-10T01:31:11.814996Z",
     "shell.execute_reply": "2023-05-10T01:31:11.814768Z"
    }
   },
   "outputs": [
    {
     "name": "stdout",
     "output_type": "stream",
     "text": [
      "<class 'pandas.core.frame.DataFrame'>\n",
      "RangeIndex: 525 entries, 0 to 524\n",
      "Data columns (total 5 columns):\n",
      " #   Column        Non-Null Count  Dtype  \n",
      "---  ------        --------------  -----  \n",
      " 0   uu_id         525 non-null    object \n",
      " 1   countyfips    525 non-null    Int64  \n",
      " 2   tract         525 non-null    Int64  \n",
      " 3   tract_name    525 non-null    object \n",
      " 4   average_wage  525 non-null    float64\n",
      "dtypes: Int64(2), float64(1), object(2)\n",
      "memory usage: 21.7+ KB\n"
     ]
    }
   ],
   "source": [
    "wage_data.info()"
   ]
  },
  {
   "cell_type": "code",
   "execution_count": 36,
   "id": "022be371",
   "metadata": {
    "execution": {
     "iopub.execute_input": "2023-05-10T01:31:11.816334Z",
     "iopub.status.busy": "2023-05-10T01:31:11.816254Z",
     "iopub.status.idle": "2023-05-10T01:31:13.312032Z",
     "shell.execute_reply": "2023-05-10T01:31:13.311186Z"
    }
   },
   "outputs": [
    {
     "data": {
      "text/html": [
       "<div>\n",
       "<style scoped>\n",
       "    .dataframe tbody tr th:only-of-type {\n",
       "        vertical-align: middle;\n",
       "    }\n",
       "\n",
       "    .dataframe tbody tr th {\n",
       "        vertical-align: top;\n",
       "    }\n",
       "\n",
       "    .dataframe thead th {\n",
       "        text-align: right;\n",
       "    }\n",
       "</style>\n",
       "<table border=\"1\" class=\"dataframe\">\n",
       "  <thead>\n",
       "    <tr style=\"text-align: right;\">\n",
       "      <th></th>\n",
       "      <th>uu_id</th>\n",
       "      <th>countyfips</th>\n",
       "      <th>tract</th>\n",
       "      <th>tract_name</th>\n",
       "      <th>average_wage</th>\n",
       "    </tr>\n",
       "  </thead>\n",
       "  <tbody>\n",
       "    <tr>\n",
       "      <th>0</th>\n",
       "      <td>585f8731c2255d6b3f817a31180848b9</td>\n",
       "      <td>18177</td>\n",
       "      <td>200</td>\n",
       "      <td>Census Tract 2, Wayne County, Indiana</td>\n",
       "      <td>6612.000000</td>\n",
       "    </tr>\n",
       "    <tr>\n",
       "      <th>1</th>\n",
       "      <td>8c9d2aa90948679972a9382aadcc6001</td>\n",
       "      <td>18177</td>\n",
       "      <td>900</td>\n",
       "      <td>Census Tract 9, Wayne County, Indiana</td>\n",
       "      <td>9883.250000</td>\n",
       "    </tr>\n",
       "    <tr>\n",
       "      <th>2</th>\n",
       "      <td>0f3d45341a5b113b813ffb7be7f58bab</td>\n",
       "      <td>18183</td>\n",
       "      <td>50300</td>\n",
       "      <td>Census Tract 503, Whitley County, Indiana</td>\n",
       "      <td>13992.250000</td>\n",
       "    </tr>\n",
       "    <tr>\n",
       "      <th>3</th>\n",
       "      <td>fb55464f8e34af6d750d06968bf719b8</td>\n",
       "      <td>18183</td>\n",
       "      <td>50400</td>\n",
       "      <td>Census Tract 504, Whitley County, Indiana</td>\n",
       "      <td>13613.500000</td>\n",
       "    </tr>\n",
       "    <tr>\n",
       "      <th>4</th>\n",
       "      <td>983badfd7b568728e39a2344a9006078</td>\n",
       "      <td>18001</td>\n",
       "      <td>30200</td>\n",
       "      <td>Census Tract 302, Adams County, Indiana</td>\n",
       "      <td>11816.666667</td>\n",
       "    </tr>\n",
       "  </tbody>\n",
       "</table>\n",
       "</div>"
      ],
      "text/plain": [
       "                              uu_id  countyfips  tract  \\\n",
       "0  585f8731c2255d6b3f817a31180848b9       18177    200   \n",
       "1  8c9d2aa90948679972a9382aadcc6001       18177    900   \n",
       "2  0f3d45341a5b113b813ffb7be7f58bab       18183  50300   \n",
       "3  fb55464f8e34af6d750d06968bf719b8       18183  50400   \n",
       "4  983badfd7b568728e39a2344a9006078       18001  30200   \n",
       "\n",
       "                                  tract_name  average_wage  \n",
       "0      Census Tract 2, Wayne County, Indiana   6612.000000  \n",
       "1      Census Tract 9, Wayne County, Indiana   9883.250000  \n",
       "2  Census Tract 503, Whitley County, Indiana  13992.250000  \n",
       "3  Census Tract 504, Whitley County, Indiana  13613.500000  \n",
       "4    Census Tract 302, Adams County, Indiana  11816.666667  "
      ]
     },
     "execution_count": 36,
     "metadata": {},
     "output_type": "execute_result"
    }
   ],
   "source": [
    "query = \"\"\"\n",
    "SELECT *\n",
    "FROM `ironhacks-data.ironhacks_competition.wage_data`\n",
    "\"\"\"\n",
    "# QUERY THE DATA ONCE\n",
    "query_job = bigquery_client.query(query)\n",
    "wage_data = query_job.to_dataframe()\n",
    "wage_data.head()"
   ]
  },
  {
   "cell_type": "code",
   "execution_count": 37,
   "id": "cadc79b4",
   "metadata": {
    "execution": {
     "iopub.execute_input": "2023-05-10T01:31:13.316767Z",
     "iopub.status.busy": "2023-05-10T01:31:13.316090Z",
     "iopub.status.idle": "2023-05-10T01:31:13.326324Z",
     "shell.execute_reply": "2023-05-10T01:31:13.325636Z"
    }
   },
   "outputs": [
    {
     "name": "stdout",
     "output_type": "stream",
     "text": [
      "<class 'pandas.core.frame.DataFrame'>\n",
      "RangeIndex: 525 entries, 0 to 524\n",
      "Data columns (total 5 columns):\n",
      " #   Column        Non-Null Count  Dtype  \n",
      "---  ------        --------------  -----  \n",
      " 0   uu_id         525 non-null    object \n",
      " 1   countyfips    525 non-null    Int64  \n",
      " 2   tract         525 non-null    Int64  \n",
      " 3   tract_name    525 non-null    object \n",
      " 4   average_wage  525 non-null    float64\n",
      "dtypes: Int64(2), float64(1), object(2)\n",
      "memory usage: 21.7+ KB\n"
     ]
    }
   ],
   "source": [
    "wage_data.info()"
   ]
  },
  {
   "cell_type": "code",
   "execution_count": 38,
   "id": "578e1439",
   "metadata": {
    "execution": {
     "iopub.execute_input": "2023-05-10T01:31:13.329802Z",
     "iopub.status.busy": "2023-05-10T01:31:13.329551Z",
     "iopub.status.idle": "2023-05-10T01:31:13.334242Z",
     "shell.execute_reply": "2023-05-10T01:31:13.333718Z"
    }
   },
   "outputs": [],
   "source": [
    "wage_data['average_wage'] = wage_data['average_wage'].fillna(wage_data.groupby('countyfips')['average_wage'].transform('mean'))"
   ]
  },
  {
   "cell_type": "code",
   "execution_count": 39,
   "id": "8c55e815",
   "metadata": {
    "execution": {
     "iopub.execute_input": "2023-05-10T01:31:13.336899Z",
     "iopub.status.busy": "2023-05-10T01:31:13.336692Z",
     "iopub.status.idle": "2023-05-10T01:31:13.340037Z",
     "shell.execute_reply": "2023-05-10T01:31:13.339596Z"
    }
   },
   "outputs": [
    {
     "ename": "SyntaxError",
     "evalue": "EOL while scanning string literal (1578303965.py, line 1)",
     "output_type": "error",
     "traceback": [
      "\u001b[0;36m  Cell \u001b[0;32mIn [39], line 1\u001b[0;36m\u001b[0m\n\u001b[0;31m    final_data = unemp_data.merge(wage_data,how='left', on = 'uu_id)\u001b[0m\n\u001b[0m                                                                    ^\u001b[0m\n\u001b[0;31mSyntaxError\u001b[0m\u001b[0;31m:\u001b[0m EOL while scanning string literal\n"
     ]
    }
   ],
   "source": [
    "final_data = unemp_data.merge(wage_data,how='left', on = 'uu_id)\n",
    "final_data"
   ]
  },
  {
   "cell_type": "code",
   "execution_count": 40,
   "id": "f3594c6b",
   "metadata": {
    "execution": {
     "iopub.execute_input": "2023-05-10T01:31:13.342468Z",
     "iopub.status.busy": "2023-05-10T01:31:13.342314Z",
     "iopub.status.idle": "2023-05-10T01:31:13.368663Z",
     "shell.execute_reply": "2023-05-10T01:31:13.368362Z"
    }
   },
   "outputs": [
    {
     "data": {
      "text/html": [
       "<div>\n",
       "<style scoped>\n",
       "    .dataframe tbody tr th:only-of-type {\n",
       "        vertical-align: middle;\n",
       "    }\n",
       "\n",
       "    .dataframe tbody tr th {\n",
       "        vertical-align: top;\n",
       "    }\n",
       "\n",
       "    .dataframe thead th {\n",
       "        text-align: right;\n",
       "    }\n",
       "</style>\n",
       "<table border=\"1\" class=\"dataframe\">\n",
       "  <thead>\n",
       "    <tr style=\"text-align: right;\">\n",
       "      <th></th>\n",
       "      <th>uu_id</th>\n",
       "      <th>timeperiod</th>\n",
       "      <th>week_number</th>\n",
       "      <th>countyfips_x</th>\n",
       "      <th>tract_x</th>\n",
       "      <th>tract_name_x</th>\n",
       "      <th>total_claims</th>\n",
       "      <th>edu_8th_or_less</th>\n",
       "      <th>edu_grades_9_11</th>\n",
       "      <th>edu_hs_grad_equiv</th>\n",
       "      <th>...</th>\n",
       "      <th>race_asian</th>\n",
       "      <th>race_black</th>\n",
       "      <th>race_noanswer</th>\n",
       "      <th>race_hawaiiannative</th>\n",
       "      <th>race_other</th>\n",
       "      <th>race_white</th>\n",
       "      <th>countyfips_y</th>\n",
       "      <th>tract_y</th>\n",
       "      <th>tract_name_y</th>\n",
       "      <th>average_wage</th>\n",
       "    </tr>\n",
       "  </thead>\n",
       "  <tbody>\n",
       "    <tr>\n",
       "      <th>0</th>\n",
       "      <td>f013068de98db1470bd986137a0c6d23</td>\n",
       "      <td>20220416</td>\n",
       "      <td>16</td>\n",
       "      <td>18003</td>\n",
       "      <td>900</td>\n",
       "      <td>Census Tract 9, Allen County, Indiana</td>\n",
       "      <td>22</td>\n",
       "      <td>0</td>\n",
       "      <td>1</td>\n",
       "      <td>14</td>\n",
       "      <td>...</td>\n",
       "      <td>0</td>\n",
       "      <td>11</td>\n",
       "      <td>0</td>\n",
       "      <td>0</td>\n",
       "      <td>0</td>\n",
       "      <td>11</td>\n",
       "      <td>18003</td>\n",
       "      <td>900</td>\n",
       "      <td>Census Tract 9, Allen County, Indiana</td>\n",
       "      <td>8347.125000</td>\n",
       "    </tr>\n",
       "    <tr>\n",
       "      <th>1</th>\n",
       "      <td>21957d5517323845818d87623589e1ba</td>\n",
       "      <td>20220319</td>\n",
       "      <td>12</td>\n",
       "      <td>18089</td>\n",
       "      <td>10400</td>\n",
       "      <td>Census Tract 104, Lake County, Indiana</td>\n",
       "      <td>111</td>\n",
       "      <td>0</td>\n",
       "      <td>0</td>\n",
       "      <td>108</td>\n",
       "      <td>...</td>\n",
       "      <td>0</td>\n",
       "      <td>20</td>\n",
       "      <td>0</td>\n",
       "      <td>0</td>\n",
       "      <td>0</td>\n",
       "      <td>0</td>\n",
       "      <td>18089</td>\n",
       "      <td>10400</td>\n",
       "      <td>Census Tract 104, Lake County, Indiana</td>\n",
       "      <td>7036.636364</td>\n",
       "    </tr>\n",
       "    <tr>\n",
       "      <th>2</th>\n",
       "      <td>6a5609f385912113b6f1014b958ed748</td>\n",
       "      <td>20220326</td>\n",
       "      <td>13</td>\n",
       "      <td>18089</td>\n",
       "      <td>11500</td>\n",
       "      <td>Census Tract 115, Lake County, Indiana</td>\n",
       "      <td>39</td>\n",
       "      <td>0</td>\n",
       "      <td>0</td>\n",
       "      <td>22</td>\n",
       "      <td>...</td>\n",
       "      <td>0</td>\n",
       "      <td>39</td>\n",
       "      <td>0</td>\n",
       "      <td>0</td>\n",
       "      <td>0</td>\n",
       "      <td>0</td>\n",
       "      <td>18089</td>\n",
       "      <td>11500</td>\n",
       "      <td>Census Tract 115, Lake County, Indiana</td>\n",
       "      <td>7890.142857</td>\n",
       "    </tr>\n",
       "    <tr>\n",
       "      <th>3</th>\n",
       "      <td>46b2882ec4c373527ec33f7bd4f1388d</td>\n",
       "      <td>20220716</td>\n",
       "      <td>29</td>\n",
       "      <td>18089</td>\n",
       "      <td>20700</td>\n",
       "      <td>Census Tract 207, Lake County, Indiana</td>\n",
       "      <td>14</td>\n",
       "      <td>0</td>\n",
       "      <td>0</td>\n",
       "      <td>22</td>\n",
       "      <td>...</td>\n",
       "      <td>0</td>\n",
       "      <td>10</td>\n",
       "      <td>0</td>\n",
       "      <td>0</td>\n",
       "      <td>1</td>\n",
       "      <td>11</td>\n",
       "      <td>18089</td>\n",
       "      <td>20700</td>\n",
       "      <td>Census Tract 207, Lake County, Indiana</td>\n",
       "      <td>7534.375000</td>\n",
       "    </tr>\n",
       "    <tr>\n",
       "      <th>4</th>\n",
       "      <td>37495d17e82f7df326bfc2c4c090f7b7</td>\n",
       "      <td>20220409</td>\n",
       "      <td>15</td>\n",
       "      <td>18089</td>\n",
       "      <td>21900</td>\n",
       "      <td>Census Tract 219, Lake County, Indiana</td>\n",
       "      <td>155</td>\n",
       "      <td>0</td>\n",
       "      <td>0</td>\n",
       "      <td>69</td>\n",
       "      <td>...</td>\n",
       "      <td>0</td>\n",
       "      <td>135</td>\n",
       "      <td>0</td>\n",
       "      <td>0</td>\n",
       "      <td>1</td>\n",
       "      <td>11</td>\n",
       "      <td>18089</td>\n",
       "      <td>21900</td>\n",
       "      <td>Census Tract 219, Lake County, Indiana</td>\n",
       "      <td>11825.125000</td>\n",
       "    </tr>\n",
       "    <tr>\n",
       "      <th>...</th>\n",
       "      <td>...</td>\n",
       "      <td>...</td>\n",
       "      <td>...</td>\n",
       "      <td>...</td>\n",
       "      <td>...</td>\n",
       "      <td>...</td>\n",
       "      <td>...</td>\n",
       "      <td>...</td>\n",
       "      <td>...</td>\n",
       "      <td>...</td>\n",
       "      <td>...</td>\n",
       "      <td>...</td>\n",
       "      <td>...</td>\n",
       "      <td>...</td>\n",
       "      <td>...</td>\n",
       "      <td>...</td>\n",
       "      <td>...</td>\n",
       "      <td>...</td>\n",
       "      <td>...</td>\n",
       "      <td>...</td>\n",
       "      <td>...</td>\n",
       "    </tr>\n",
       "    <tr>\n",
       "      <th>16828</th>\n",
       "      <td>f35320206f3dd1ffc411e4ac127caf92</td>\n",
       "      <td>20220618</td>\n",
       "      <td>25</td>\n",
       "      <td>18163</td>\n",
       "      <td>3804</td>\n",
       "      <td>Census Tract 38.04, Vanderburgh County, Indiana</td>\n",
       "      <td>21</td>\n",
       "      <td>0</td>\n",
       "      <td>1</td>\n",
       "      <td>18</td>\n",
       "      <td>...</td>\n",
       "      <td>0</td>\n",
       "      <td>6</td>\n",
       "      <td>0</td>\n",
       "      <td>0</td>\n",
       "      <td>0</td>\n",
       "      <td>14</td>\n",
       "      <td>18163</td>\n",
       "      <td>3804</td>\n",
       "      <td>Census Tract 38.04, Vanderburgh County, Indiana</td>\n",
       "      <td>13163.083333</td>\n",
       "    </tr>\n",
       "    <tr>\n",
       "      <th>16829</th>\n",
       "      <td>f35320206f3dd1ffc411e4ac127caf92</td>\n",
       "      <td>20220827</td>\n",
       "      <td>35</td>\n",
       "      <td>18163</td>\n",
       "      <td>3804</td>\n",
       "      <td>Census Tract 38.04, Vanderburgh County, Indiana</td>\n",
       "      <td>22</td>\n",
       "      <td>0</td>\n",
       "      <td>1</td>\n",
       "      <td>13</td>\n",
       "      <td>...</td>\n",
       "      <td>0</td>\n",
       "      <td>6</td>\n",
       "      <td>0</td>\n",
       "      <td>0</td>\n",
       "      <td>0</td>\n",
       "      <td>15</td>\n",
       "      <td>18163</td>\n",
       "      <td>3804</td>\n",
       "      <td>Census Tract 38.04, Vanderburgh County, Indiana</td>\n",
       "      <td>13163.083333</td>\n",
       "    </tr>\n",
       "    <tr>\n",
       "      <th>16830</th>\n",
       "      <td>f35320206f3dd1ffc411e4ac127caf92</td>\n",
       "      <td>20220827</td>\n",
       "      <td>35</td>\n",
       "      <td>18163</td>\n",
       "      <td>3804</td>\n",
       "      <td>Census Tract 38.04, Vanderburgh County, Indiana</td>\n",
       "      <td>22</td>\n",
       "      <td>0</td>\n",
       "      <td>1</td>\n",
       "      <td>13</td>\n",
       "      <td>...</td>\n",
       "      <td>0</td>\n",
       "      <td>6</td>\n",
       "      <td>0</td>\n",
       "      <td>0</td>\n",
       "      <td>0</td>\n",
       "      <td>15</td>\n",
       "      <td>18163</td>\n",
       "      <td>3804</td>\n",
       "      <td>Census Tract 38.04, Vanderburgh County, Indiana</td>\n",
       "      <td>13163.083333</td>\n",
       "    </tr>\n",
       "    <tr>\n",
       "      <th>16831</th>\n",
       "      <td>bbcb018f0e5e49e13636f6e78ce9f60f</td>\n",
       "      <td>20220326</td>\n",
       "      <td>13</td>\n",
       "      <td>18163</td>\n",
       "      <td>10203</td>\n",
       "      <td>Census Tract 102.03, Vanderburgh County, Indiana</td>\n",
       "      <td>53</td>\n",
       "      <td>0</td>\n",
       "      <td>1</td>\n",
       "      <td>48</td>\n",
       "      <td>...</td>\n",
       "      <td>0</td>\n",
       "      <td>6</td>\n",
       "      <td>0</td>\n",
       "      <td>0</td>\n",
       "      <td>0</td>\n",
       "      <td>15</td>\n",
       "      <td>18163</td>\n",
       "      <td>10203</td>\n",
       "      <td>Census Tract 102.03, Vanderburgh County, Indiana</td>\n",
       "      <td>10040.111111</td>\n",
       "    </tr>\n",
       "    <tr>\n",
       "      <th>16832</th>\n",
       "      <td>bbcb018f0e5e49e13636f6e78ce9f60f</td>\n",
       "      <td>20220416</td>\n",
       "      <td>16</td>\n",
       "      <td>18163</td>\n",
       "      <td>10203</td>\n",
       "      <td>Census Tract 102.03, Vanderburgh County, Indiana</td>\n",
       "      <td>24</td>\n",
       "      <td>0</td>\n",
       "      <td>1</td>\n",
       "      <td>18</td>\n",
       "      <td>...</td>\n",
       "      <td>0</td>\n",
       "      <td>6</td>\n",
       "      <td>0</td>\n",
       "      <td>0</td>\n",
       "      <td>0</td>\n",
       "      <td>15</td>\n",
       "      <td>18163</td>\n",
       "      <td>10203</td>\n",
       "      <td>Census Tract 102.03, Vanderburgh County, Indiana</td>\n",
       "      <td>10040.111111</td>\n",
       "    </tr>\n",
       "  </tbody>\n",
       "</table>\n",
       "<p>16833 rows × 29 columns</p>\n",
       "</div>"
      ],
      "text/plain": [
       "                                  uu_id  timeperiod  week_number  \\\n",
       "0      f013068de98db1470bd986137a0c6d23    20220416           16   \n",
       "1      21957d5517323845818d87623589e1ba    20220319           12   \n",
       "2      6a5609f385912113b6f1014b958ed748    20220326           13   \n",
       "3      46b2882ec4c373527ec33f7bd4f1388d    20220716           29   \n",
       "4      37495d17e82f7df326bfc2c4c090f7b7    20220409           15   \n",
       "...                                 ...         ...          ...   \n",
       "16828  f35320206f3dd1ffc411e4ac127caf92    20220618           25   \n",
       "16829  f35320206f3dd1ffc411e4ac127caf92    20220827           35   \n",
       "16830  f35320206f3dd1ffc411e4ac127caf92    20220827           35   \n",
       "16831  bbcb018f0e5e49e13636f6e78ce9f60f    20220326           13   \n",
       "16832  bbcb018f0e5e49e13636f6e78ce9f60f    20220416           16   \n",
       "\n",
       "       countyfips_x  tract_x  \\\n",
       "0             18003      900   \n",
       "1             18089    10400   \n",
       "2             18089    11500   \n",
       "3             18089    20700   \n",
       "4             18089    21900   \n",
       "...             ...      ...   \n",
       "16828         18163     3804   \n",
       "16829         18163     3804   \n",
       "16830         18163     3804   \n",
       "16831         18163    10203   \n",
       "16832         18163    10203   \n",
       "\n",
       "                                           tract_name_x  total_claims  \\\n",
       "0                 Census Tract 9, Allen County, Indiana            22   \n",
       "1                Census Tract 104, Lake County, Indiana           111   \n",
       "2                Census Tract 115, Lake County, Indiana            39   \n",
       "3                Census Tract 207, Lake County, Indiana            14   \n",
       "4                Census Tract 219, Lake County, Indiana           155   \n",
       "...                                                 ...           ...   \n",
       "16828   Census Tract 38.04, Vanderburgh County, Indiana            21   \n",
       "16829   Census Tract 38.04, Vanderburgh County, Indiana            22   \n",
       "16830   Census Tract 38.04, Vanderburgh County, Indiana            22   \n",
       "16831  Census Tract 102.03, Vanderburgh County, Indiana            53   \n",
       "16832  Census Tract 102.03, Vanderburgh County, Indiana            24   \n",
       "\n",
       "       edu_8th_or_less  edu_grades_9_11  edu_hs_grad_equiv  ...  race_asian  \\\n",
       "0                    0                1                 14  ...           0   \n",
       "1                    0                0                108  ...           0   \n",
       "2                    0                0                 22  ...           0   \n",
       "3                    0                0                 22  ...           0   \n",
       "4                    0                0                 69  ...           0   \n",
       "...                ...              ...                ...  ...         ...   \n",
       "16828                0                1                 18  ...           0   \n",
       "16829                0                1                 13  ...           0   \n",
       "16830                0                1                 13  ...           0   \n",
       "16831                0                1                 48  ...           0   \n",
       "16832                0                1                 18  ...           0   \n",
       "\n",
       "       race_black race_noanswer race_hawaiiannative race_other  race_white  \\\n",
       "0              11             0                   0          0          11   \n",
       "1              20             0                   0          0           0   \n",
       "2              39             0                   0          0           0   \n",
       "3              10             0                   0          1          11   \n",
       "4             135             0                   0          1          11   \n",
       "...           ...           ...                 ...        ...         ...   \n",
       "16828           6             0                   0          0          14   \n",
       "16829           6             0                   0          0          15   \n",
       "16830           6             0                   0          0          15   \n",
       "16831           6             0                   0          0          15   \n",
       "16832           6             0                   0          0          15   \n",
       "\n",
       "       countyfips_y  tract_y  \\\n",
       "0             18003      900   \n",
       "1             18089    10400   \n",
       "2             18089    11500   \n",
       "3             18089    20700   \n",
       "4             18089    21900   \n",
       "...             ...      ...   \n",
       "16828         18163     3804   \n",
       "16829         18163     3804   \n",
       "16830         18163     3804   \n",
       "16831         18163    10203   \n",
       "16832         18163    10203   \n",
       "\n",
       "                                           tract_name_y  average_wage  \n",
       "0                 Census Tract 9, Allen County, Indiana   8347.125000  \n",
       "1                Census Tract 104, Lake County, Indiana   7036.636364  \n",
       "2                Census Tract 115, Lake County, Indiana   7890.142857  \n",
       "3                Census Tract 207, Lake County, Indiana   7534.375000  \n",
       "4                Census Tract 219, Lake County, Indiana  11825.125000  \n",
       "...                                                 ...           ...  \n",
       "16828   Census Tract 38.04, Vanderburgh County, Indiana  13163.083333  \n",
       "16829   Census Tract 38.04, Vanderburgh County, Indiana  13163.083333  \n",
       "16830   Census Tract 38.04, Vanderburgh County, Indiana  13163.083333  \n",
       "16831  Census Tract 102.03, Vanderburgh County, Indiana  10040.111111  \n",
       "16832  Census Tract 102.03, Vanderburgh County, Indiana  10040.111111  \n",
       "\n",
       "[16833 rows x 29 columns]"
      ]
     },
     "execution_count": 40,
     "metadata": {},
     "output_type": "execute_result"
    }
   ],
   "source": [
    "final_data = unemp_data.merge(wage_data,how='left', on = 'uu_id')\n",
    "final_data"
   ]
  },
  {
   "cell_type": "code",
   "execution_count": 41,
   "id": "11295044",
   "metadata": {
    "execution": {
     "iopub.execute_input": "2023-05-10T01:31:13.370464Z",
     "iopub.status.busy": "2023-05-10T01:31:13.370328Z",
     "iopub.status.idle": "2023-05-10T01:31:13.378702Z",
     "shell.execute_reply": "2023-05-10T01:31:13.378386Z"
    }
   },
   "outputs": [],
   "source": [
    "final_data = unemp_data.merge(wage_data,how='left', on = 'uu_id')"
   ]
  },
  {
   "cell_type": "code",
   "execution_count": 42,
   "id": "7b06fd99",
   "metadata": {
    "execution": {
     "iopub.execute_input": "2023-05-10T01:31:13.380334Z",
     "iopub.status.busy": "2023-05-10T01:31:13.380237Z",
     "iopub.status.idle": "2023-05-10T01:31:14.003274Z",
     "shell.execute_reply": "2023-05-10T01:31:14.002961Z"
    }
   },
   "outputs": [
    {
     "ename": "KeyError",
     "evalue": "\"['tract', 'tract_name'] not found in axis\"",
     "output_type": "error",
     "traceback": [
      "\u001b[0;31m---------------------------------------------------------------------------\u001b[0m",
      "\u001b[0;31mKeyError\u001b[0m                                  Traceback (most recent call last)",
      "Cell \u001b[0;32mIn [42], line 1\u001b[0m\n\u001b[0;32m----> 1\u001b[0m final_data1 \u001b[38;5;241m=\u001b[39m \u001b[43mfinal_data\u001b[49m\u001b[38;5;241;43m.\u001b[39;49m\u001b[43mdrop\u001b[49m\u001b[43m(\u001b[49m\u001b[43m[\u001b[49m\u001b[38;5;124;43m'\u001b[39;49m\u001b[38;5;124;43mtimeperiod\u001b[39;49m\u001b[38;5;124;43m'\u001b[39;49m\u001b[43m,\u001b[49m\u001b[38;5;124;43m'\u001b[39;49m\u001b[38;5;124;43mtract\u001b[39;49m\u001b[38;5;124;43m'\u001b[39;49m\u001b[43m,\u001b[49m\u001b[38;5;124;43m'\u001b[39;49m\u001b[38;5;124;43mtract_name\u001b[39;49m\u001b[38;5;124;43m'\u001b[39;49m\u001b[43m]\u001b[49m\u001b[43m,\u001b[49m\u001b[43maxis\u001b[49m\u001b[38;5;241;43m=\u001b[39;49m\u001b[38;5;241;43m1\u001b[39;49m\u001b[43m)\u001b[49m\n",
      "File \u001b[0;32m/opt/homebrew/lib/python3.9/site-packages/pandas/util/_decorators.py:331\u001b[0m, in \u001b[0;36mdeprecate_nonkeyword_arguments.<locals>.decorate.<locals>.wrapper\u001b[0;34m(*args, **kwargs)\u001b[0m\n\u001b[1;32m    325\u001b[0m \u001b[38;5;28;01mif\u001b[39;00m \u001b[38;5;28mlen\u001b[39m(args) \u001b[38;5;241m>\u001b[39m num_allow_args:\n\u001b[1;32m    326\u001b[0m     warnings\u001b[38;5;241m.\u001b[39mwarn(\n\u001b[1;32m    327\u001b[0m         msg\u001b[38;5;241m.\u001b[39mformat(arguments\u001b[38;5;241m=\u001b[39m_format_argument_list(allow_args)),\n\u001b[1;32m    328\u001b[0m         \u001b[38;5;167;01mFutureWarning\u001b[39;00m,\n\u001b[1;32m    329\u001b[0m         stacklevel\u001b[38;5;241m=\u001b[39mfind_stack_level(),\n\u001b[1;32m    330\u001b[0m     )\n\u001b[0;32m--> 331\u001b[0m \u001b[38;5;28;01mreturn\u001b[39;00m \u001b[43mfunc\u001b[49m\u001b[43m(\u001b[49m\u001b[38;5;241;43m*\u001b[39;49m\u001b[43margs\u001b[49m\u001b[43m,\u001b[49m\u001b[43m \u001b[49m\u001b[38;5;241;43m*\u001b[39;49m\u001b[38;5;241;43m*\u001b[39;49m\u001b[43mkwargs\u001b[49m\u001b[43m)\u001b[49m\n",
      "File \u001b[0;32m/opt/homebrew/lib/python3.9/site-packages/pandas/core/frame.py:5388\u001b[0m, in \u001b[0;36mDataFrame.drop\u001b[0;34m(self, labels, axis, index, columns, level, inplace, errors)\u001b[0m\n\u001b[1;32m   5240\u001b[0m \u001b[38;5;129m@deprecate_nonkeyword_arguments\u001b[39m(version\u001b[38;5;241m=\u001b[39m\u001b[38;5;28;01mNone\u001b[39;00m, allowed_args\u001b[38;5;241m=\u001b[39m[\u001b[38;5;124m\"\u001b[39m\u001b[38;5;124mself\u001b[39m\u001b[38;5;124m\"\u001b[39m, \u001b[38;5;124m\"\u001b[39m\u001b[38;5;124mlabels\u001b[39m\u001b[38;5;124m\"\u001b[39m])\n\u001b[1;32m   5241\u001b[0m \u001b[38;5;28;01mdef\u001b[39;00m \u001b[38;5;21mdrop\u001b[39m(  \u001b[38;5;66;03m# type: ignore[override]\u001b[39;00m\n\u001b[1;32m   5242\u001b[0m     \u001b[38;5;28mself\u001b[39m,\n\u001b[0;32m   (...)\u001b[0m\n\u001b[1;32m   5249\u001b[0m     errors: IgnoreRaise \u001b[38;5;241m=\u001b[39m \u001b[38;5;124m\"\u001b[39m\u001b[38;5;124mraise\u001b[39m\u001b[38;5;124m\"\u001b[39m,\n\u001b[1;32m   5250\u001b[0m ) \u001b[38;5;241m-\u001b[39m\u001b[38;5;241m>\u001b[39m DataFrame \u001b[38;5;241m|\u001b[39m \u001b[38;5;28;01mNone\u001b[39;00m:\n\u001b[1;32m   5251\u001b[0m     \u001b[38;5;124;03m\"\"\"\u001b[39;00m\n\u001b[1;32m   5252\u001b[0m \u001b[38;5;124;03m    Drop specified labels from rows or columns.\u001b[39;00m\n\u001b[1;32m   5253\u001b[0m \n\u001b[0;32m   (...)\u001b[0m\n\u001b[1;32m   5386\u001b[0m \u001b[38;5;124;03m            weight  1.0     0.8\u001b[39;00m\n\u001b[1;32m   5387\u001b[0m \u001b[38;5;124;03m    \"\"\"\u001b[39;00m\n\u001b[0;32m-> 5388\u001b[0m     \u001b[38;5;28;01mreturn\u001b[39;00m \u001b[38;5;28;43msuper\u001b[39;49m\u001b[43m(\u001b[49m\u001b[43m)\u001b[49m\u001b[38;5;241;43m.\u001b[39;49m\u001b[43mdrop\u001b[49m\u001b[43m(\u001b[49m\n\u001b[1;32m   5389\u001b[0m \u001b[43m        \u001b[49m\u001b[43mlabels\u001b[49m\u001b[38;5;241;43m=\u001b[39;49m\u001b[43mlabels\u001b[49m\u001b[43m,\u001b[49m\n\u001b[1;32m   5390\u001b[0m \u001b[43m        \u001b[49m\u001b[43maxis\u001b[49m\u001b[38;5;241;43m=\u001b[39;49m\u001b[43maxis\u001b[49m\u001b[43m,\u001b[49m\n\u001b[1;32m   5391\u001b[0m \u001b[43m        \u001b[49m\u001b[43mindex\u001b[49m\u001b[38;5;241;43m=\u001b[39;49m\u001b[43mindex\u001b[49m\u001b[43m,\u001b[49m\n\u001b[1;32m   5392\u001b[0m \u001b[43m        \u001b[49m\u001b[43mcolumns\u001b[49m\u001b[38;5;241;43m=\u001b[39;49m\u001b[43mcolumns\u001b[49m\u001b[43m,\u001b[49m\n\u001b[1;32m   5393\u001b[0m \u001b[43m        \u001b[49m\u001b[43mlevel\u001b[49m\u001b[38;5;241;43m=\u001b[39;49m\u001b[43mlevel\u001b[49m\u001b[43m,\u001b[49m\n\u001b[1;32m   5394\u001b[0m \u001b[43m        \u001b[49m\u001b[43minplace\u001b[49m\u001b[38;5;241;43m=\u001b[39;49m\u001b[43minplace\u001b[49m\u001b[43m,\u001b[49m\n\u001b[1;32m   5395\u001b[0m \u001b[43m        \u001b[49m\u001b[43merrors\u001b[49m\u001b[38;5;241;43m=\u001b[39;49m\u001b[43merrors\u001b[49m\u001b[43m,\u001b[49m\n\u001b[1;32m   5396\u001b[0m \u001b[43m    \u001b[49m\u001b[43m)\u001b[49m\n",
      "File \u001b[0;32m/opt/homebrew/lib/python3.9/site-packages/pandas/util/_decorators.py:331\u001b[0m, in \u001b[0;36mdeprecate_nonkeyword_arguments.<locals>.decorate.<locals>.wrapper\u001b[0;34m(*args, **kwargs)\u001b[0m\n\u001b[1;32m    325\u001b[0m \u001b[38;5;28;01mif\u001b[39;00m \u001b[38;5;28mlen\u001b[39m(args) \u001b[38;5;241m>\u001b[39m num_allow_args:\n\u001b[1;32m    326\u001b[0m     warnings\u001b[38;5;241m.\u001b[39mwarn(\n\u001b[1;32m    327\u001b[0m         msg\u001b[38;5;241m.\u001b[39mformat(arguments\u001b[38;5;241m=\u001b[39m_format_argument_list(allow_args)),\n\u001b[1;32m    328\u001b[0m         \u001b[38;5;167;01mFutureWarning\u001b[39;00m,\n\u001b[1;32m    329\u001b[0m         stacklevel\u001b[38;5;241m=\u001b[39mfind_stack_level(),\n\u001b[1;32m    330\u001b[0m     )\n\u001b[0;32m--> 331\u001b[0m \u001b[38;5;28;01mreturn\u001b[39;00m \u001b[43mfunc\u001b[49m\u001b[43m(\u001b[49m\u001b[38;5;241;43m*\u001b[39;49m\u001b[43margs\u001b[49m\u001b[43m,\u001b[49m\u001b[43m \u001b[49m\u001b[38;5;241;43m*\u001b[39;49m\u001b[38;5;241;43m*\u001b[39;49m\u001b[43mkwargs\u001b[49m\u001b[43m)\u001b[49m\n",
      "File \u001b[0;32m/opt/homebrew/lib/python3.9/site-packages/pandas/core/generic.py:4505\u001b[0m, in \u001b[0;36mNDFrame.drop\u001b[0;34m(self, labels, axis, index, columns, level, inplace, errors)\u001b[0m\n\u001b[1;32m   4503\u001b[0m \u001b[38;5;28;01mfor\u001b[39;00m axis, labels \u001b[38;5;129;01min\u001b[39;00m axes\u001b[38;5;241m.\u001b[39mitems():\n\u001b[1;32m   4504\u001b[0m     \u001b[38;5;28;01mif\u001b[39;00m labels \u001b[38;5;129;01mis\u001b[39;00m \u001b[38;5;129;01mnot\u001b[39;00m \u001b[38;5;28;01mNone\u001b[39;00m:\n\u001b[0;32m-> 4505\u001b[0m         obj \u001b[38;5;241m=\u001b[39m \u001b[43mobj\u001b[49m\u001b[38;5;241;43m.\u001b[39;49m\u001b[43m_drop_axis\u001b[49m\u001b[43m(\u001b[49m\u001b[43mlabels\u001b[49m\u001b[43m,\u001b[49m\u001b[43m \u001b[49m\u001b[43maxis\u001b[49m\u001b[43m,\u001b[49m\u001b[43m \u001b[49m\u001b[43mlevel\u001b[49m\u001b[38;5;241;43m=\u001b[39;49m\u001b[43mlevel\u001b[49m\u001b[43m,\u001b[49m\u001b[43m \u001b[49m\u001b[43merrors\u001b[49m\u001b[38;5;241;43m=\u001b[39;49m\u001b[43merrors\u001b[49m\u001b[43m)\u001b[49m\n\u001b[1;32m   4507\u001b[0m \u001b[38;5;28;01mif\u001b[39;00m inplace:\n\u001b[1;32m   4508\u001b[0m     \u001b[38;5;28mself\u001b[39m\u001b[38;5;241m.\u001b[39m_update_inplace(obj)\n",
      "File \u001b[0;32m/opt/homebrew/lib/python3.9/site-packages/pandas/core/generic.py:4546\u001b[0m, in \u001b[0;36mNDFrame._drop_axis\u001b[0;34m(self, labels, axis, level, errors, only_slice)\u001b[0m\n\u001b[1;32m   4544\u001b[0m         new_axis \u001b[38;5;241m=\u001b[39m axis\u001b[38;5;241m.\u001b[39mdrop(labels, level\u001b[38;5;241m=\u001b[39mlevel, errors\u001b[38;5;241m=\u001b[39merrors)\n\u001b[1;32m   4545\u001b[0m     \u001b[38;5;28;01melse\u001b[39;00m:\n\u001b[0;32m-> 4546\u001b[0m         new_axis \u001b[38;5;241m=\u001b[39m \u001b[43maxis\u001b[49m\u001b[38;5;241;43m.\u001b[39;49m\u001b[43mdrop\u001b[49m\u001b[43m(\u001b[49m\u001b[43mlabels\u001b[49m\u001b[43m,\u001b[49m\u001b[43m \u001b[49m\u001b[43merrors\u001b[49m\u001b[38;5;241;43m=\u001b[39;49m\u001b[43merrors\u001b[49m\u001b[43m)\u001b[49m\n\u001b[1;32m   4547\u001b[0m     indexer \u001b[38;5;241m=\u001b[39m axis\u001b[38;5;241m.\u001b[39mget_indexer(new_axis)\n\u001b[1;32m   4549\u001b[0m \u001b[38;5;66;03m# Case for non-unique axis\u001b[39;00m\n\u001b[1;32m   4550\u001b[0m \u001b[38;5;28;01melse\u001b[39;00m:\n",
      "File \u001b[0;32m/opt/homebrew/lib/python3.9/site-packages/pandas/core/indexes/base.py:6975\u001b[0m, in \u001b[0;36mIndex.drop\u001b[0;34m(self, labels, errors)\u001b[0m\n\u001b[1;32m   6973\u001b[0m \u001b[38;5;28;01mif\u001b[39;00m mask\u001b[38;5;241m.\u001b[39many():\n\u001b[1;32m   6974\u001b[0m     \u001b[38;5;28;01mif\u001b[39;00m errors \u001b[38;5;241m!=\u001b[39m \u001b[38;5;124m\"\u001b[39m\u001b[38;5;124mignore\u001b[39m\u001b[38;5;124m\"\u001b[39m:\n\u001b[0;32m-> 6975\u001b[0m         \u001b[38;5;28;01mraise\u001b[39;00m \u001b[38;5;167;01mKeyError\u001b[39;00m(\u001b[38;5;124mf\u001b[39m\u001b[38;5;124m\"\u001b[39m\u001b[38;5;132;01m{\u001b[39;00m\u001b[38;5;28mlist\u001b[39m(labels[mask])\u001b[38;5;132;01m}\u001b[39;00m\u001b[38;5;124m not found in axis\u001b[39m\u001b[38;5;124m\"\u001b[39m)\n\u001b[1;32m   6976\u001b[0m     indexer \u001b[38;5;241m=\u001b[39m indexer[\u001b[38;5;241m~\u001b[39mmask]\n\u001b[1;32m   6977\u001b[0m \u001b[38;5;28;01mreturn\u001b[39;00m \u001b[38;5;28mself\u001b[39m\u001b[38;5;241m.\u001b[39mdelete(indexer)\n",
      "\u001b[0;31mKeyError\u001b[0m: \"['tract', 'tract_name'] not found in axis\""
     ]
    }
   ],
   "source": [
    "final_data1 = final_data.drop(['timeperiod','tract','tract_name'],axis=1)"
   ]
  },
  {
   "cell_type": "code",
   "execution_count": 43,
   "id": "85215da4",
   "metadata": {
    "execution": {
     "iopub.execute_input": "2023-05-10T01:31:14.004789Z",
     "iopub.status.busy": "2023-05-10T01:31:14.004688Z",
     "iopub.status.idle": "2023-05-10T01:31:14.015576Z",
     "shell.execute_reply": "2023-05-10T01:31:14.015338Z"
    }
   },
   "outputs": [
    {
     "name": "stdout",
     "output_type": "stream",
     "text": [
      "<class 'pandas.core.frame.DataFrame'>\n",
      "Int64Index: 16833 entries, 0 to 16832\n",
      "Data columns (total 29 columns):\n",
      " #   Column                  Non-Null Count  Dtype  \n",
      "---  ------                  --------------  -----  \n",
      " 0   uu_id                   16833 non-null  object \n",
      " 1   timeperiod              16833 non-null  Int64  \n",
      " 2   week_number             16833 non-null  Int64  \n",
      " 3   countyfips_x            16833 non-null  Int64  \n",
      " 4   tract_x                 16833 non-null  Int64  \n",
      " 5   tract_name_x            16833 non-null  object \n",
      " 6   total_claims            16833 non-null  Int64  \n",
      " 7   edu_8th_or_less         16833 non-null  Int64  \n",
      " 8   edu_grades_9_11         16833 non-null  Int64  \n",
      " 9   edu_hs_grad_equiv       16833 non-null  Int64  \n",
      " 10  edu_post_hs             16833 non-null  float64\n",
      " 11  edu_unknown             16833 non-null  Int64  \n",
      " 12  top_category_employer1  16833 non-null  object \n",
      " 13  top_category_employer2  16833 non-null  object \n",
      " 14  top_category_employer3  16833 non-null  object \n",
      " 15  gender_female           16833 non-null  float64\n",
      " 16  gender_male             16833 non-null  float64\n",
      " 17  gender_na               16833 non-null  Int64  \n",
      " 18  race_amerindian         16833 non-null  Int64  \n",
      " 19  race_asian              16833 non-null  Int64  \n",
      " 20  race_black              16833 non-null  Int64  \n",
      " 21  race_noanswer           16833 non-null  Int64  \n",
      " 22  race_hawaiiannative     16833 non-null  Int64  \n",
      " 23  race_other              16833 non-null  Int64  \n",
      " 24  race_white              16833 non-null  Int64  \n",
      " 25  countyfips_y            16833 non-null  Int64  \n",
      " 26  tract_y                 16833 non-null  Int64  \n",
      " 27  tract_name_y            16833 non-null  object \n",
      " 28  average_wage            16833 non-null  float64\n",
      "dtypes: Int64(19), float64(4), object(6)\n",
      "memory usage: 4.2+ MB\n"
     ]
    }
   ],
   "source": [
    "final_data.info()"
   ]
  },
  {
   "cell_type": "code",
   "execution_count": 44,
   "id": "bdc459d5",
   "metadata": {
    "execution": {
     "iopub.execute_input": "2023-05-10T01:31:14.016937Z",
     "iopub.status.busy": "2023-05-10T01:31:14.016856Z",
     "iopub.status.idle": "2023-05-10T01:31:14.019427Z",
     "shell.execute_reply": "2023-05-10T01:31:14.019192Z"
    }
   },
   "outputs": [],
   "source": [
    "final_data1 = final_data.drop(['timeperiod','tract_x','tract_name_x','tract_y','tract_name_y','countyfips_y'],axis=1)"
   ]
  },
  {
   "cell_type": "markdown",
   "id": "48b2a75d",
   "metadata": {},
   "source": [
    "#Modelling"
   ]
  },
  {
   "cell_type": "code",
   "execution_count": 45,
   "id": "85d7c0e6",
   "metadata": {
    "execution": {
     "iopub.execute_input": "2023-05-10T01:31:14.020870Z",
     "iopub.status.busy": "2023-05-10T01:31:14.020794Z",
     "iopub.status.idle": "2023-05-10T01:31:14.023230Z",
     "shell.execute_reply": "2023-05-10T01:31:14.023009Z"
    }
   },
   "outputs": [],
   "source": [
    "final_data1 = final_data.drop(['timeperiod','tract_x','tract_name_x','tract_y','tract_name_y','countyfips_y','uu_id'],axis=1)"
   ]
  },
  {
   "cell_type": "code",
   "execution_count": 46,
   "id": "f1bdf100",
   "metadata": {
    "execution": {
     "iopub.execute_input": "2023-05-10T01:31:14.024549Z",
     "iopub.status.busy": "2023-05-10T01:31:14.024475Z",
     "iopub.status.idle": "2023-05-10T01:31:14.034949Z",
     "shell.execute_reply": "2023-05-10T01:31:14.034686Z"
    }
   },
   "outputs": [],
   "source": [
    "fin = pd.get_dummies(final_data1,columns = ['week_number','countyfips_x','top_category_employer1','top_category_employer2','top_category_employer3'])"
   ]
  },
  {
   "cell_type": "code",
   "execution_count": 47,
   "id": "adb12344",
   "metadata": {
    "execution": {
     "iopub.execute_input": "2023-05-10T01:31:14.036375Z",
     "iopub.status.busy": "2023-05-10T01:31:14.036296Z",
     "iopub.status.idle": "2023-05-10T01:31:14.042759Z",
     "shell.execute_reply": "2023-05-10T01:31:14.042526Z"
    }
   },
   "outputs": [
    {
     "ename": "TypeError",
     "evalue": "'tuple' object is not callable",
     "output_type": "error",
     "traceback": [
      "\u001b[0;31m---------------------------------------------------------------------------\u001b[0m",
      "\u001b[0;31mTypeError\u001b[0m                                 Traceback (most recent call last)",
      "Cell \u001b[0;32mIn [47], line 1\u001b[0m\n\u001b[0;32m----> 1\u001b[0m \u001b[43mfin\u001b[49m\u001b[38;5;241;43m.\u001b[39;49m\u001b[43mshape\u001b[49m\u001b[43m(\u001b[49m\u001b[43m)\u001b[49m\n",
      "\u001b[0;31mTypeError\u001b[0m: 'tuple' object is not callable"
     ]
    }
   ],
   "source": [
    "fin.shape()"
   ]
  },
  {
   "cell_type": "code",
   "execution_count": 48,
   "id": "4b5b8635",
   "metadata": {
    "execution": {
     "iopub.execute_input": "2023-05-10T01:31:14.044130Z",
     "iopub.status.busy": "2023-05-10T01:31:14.044053Z",
     "iopub.status.idle": "2023-05-10T01:31:14.046112Z",
     "shell.execute_reply": "2023-05-10T01:31:14.045883Z"
    }
   },
   "outputs": [
    {
     "data": {
      "text/plain": [
       "(16833, 175)"
      ]
     },
     "execution_count": 48,
     "metadata": {},
     "output_type": "execute_result"
    }
   ],
   "source": [
    "fin.shape"
   ]
  },
  {
   "cell_type": "code",
   "execution_count": 49,
   "id": "0b0b0b17",
   "metadata": {
    "execution": {
     "iopub.execute_input": "2023-05-10T01:31:14.047436Z",
     "iopub.status.busy": "2023-05-10T01:31:14.047357Z",
     "iopub.status.idle": "2023-05-10T01:31:14.050008Z",
     "shell.execute_reply": "2023-05-10T01:31:14.049738Z"
    }
   },
   "outputs": [],
   "source": [
    "X = fin.drop(['total_claims'],axis=1)\n",
    "Y = fin['total_claims']"
   ]
  },
  {
   "cell_type": "code",
   "execution_count": 50,
   "id": "6a30b145",
   "metadata": {
    "execution": {
     "iopub.execute_input": "2023-05-10T01:31:14.051338Z",
     "iopub.status.busy": "2023-05-10T01:31:14.051251Z",
     "iopub.status.idle": "2023-05-10T01:31:15.395116Z",
     "shell.execute_reply": "2023-05-10T01:31:15.394301Z"
    }
   },
   "outputs": [],
   "source": [
    "from sklearn.decomposition import PCA\n",
    "pca = PCA(n_components=50)\n",
    "principalComponents = pca.fit_transform(X)"
   ]
  },
  {
   "cell_type": "code",
   "execution_count": 51,
   "id": "427109da",
   "metadata": {
    "execution": {
     "iopub.execute_input": "2023-05-10T01:31:15.399079Z",
     "iopub.status.busy": "2023-05-10T01:31:15.398609Z",
     "iopub.status.idle": "2023-05-10T01:31:15.404141Z",
     "shell.execute_reply": "2023-05-10T01:31:15.403559Z"
    }
   },
   "outputs": [
    {
     "data": {
      "text/plain": [
       "array([[-3.34822986e+03, -2.64007018e+00, -3.16860568e+00, ...,\n",
       "         4.04059922e-01,  1.70283561e-01, -1.79549756e-02],\n",
       "       [-4.65874176e+03,  6.55827964e+01,  3.57040468e+01, ...,\n",
       "        -9.22753131e-02, -1.93544174e-01, -2.98353311e-02],\n",
       "       [-3.80523585e+03,  2.39696662e+01, -1.79858245e+01, ...,\n",
       "        -1.23446641e-01,  4.14075893e-02,  8.93238323e-02],\n",
       "       ...,\n",
       "       [ 1.46773188e+03, -7.22179003e+00, -3.28672487e+00, ...,\n",
       "        -2.01602730e-01, -2.45529315e-01, -3.68031031e-02],\n",
       "       [-1.65524425e+03,  5.45629141e+00,  1.17897046e+01, ...,\n",
       "        -5.54606032e-02, -7.70298977e-02, -3.22773993e-02],\n",
       "       [-1.65524023e+03, -9.07100561e+00, -1.50430472e+00, ...,\n",
       "        -2.80733693e-02, -1.19147330e-01,  9.68575812e-03]])"
      ]
     },
     "execution_count": 51,
     "metadata": {},
     "output_type": "execute_result"
    }
   ],
   "source": [
    "principalComponents"
   ]
  },
  {
   "cell_type": "code",
   "execution_count": 52,
   "id": "66ebd3c0",
   "metadata": {
    "execution": {
     "iopub.execute_input": "2023-05-10T01:31:15.407347Z",
     "iopub.status.busy": "2023-05-10T01:31:15.407074Z",
     "iopub.status.idle": "2023-05-10T01:31:15.412062Z",
     "shell.execute_reply": "2023-05-10T01:31:15.410116Z"
    }
   },
   "outputs": [],
   "source": [
    "df_X = pd.DataFrame(principalComponents)"
   ]
  },
  {
   "cell_type": "code",
   "execution_count": 53,
   "id": "9ae4875e",
   "metadata": {
    "execution": {
     "iopub.execute_input": "2023-05-10T01:31:15.415180Z",
     "iopub.status.busy": "2023-05-10T01:31:15.414896Z",
     "iopub.status.idle": "2023-05-10T01:31:15.438317Z",
     "shell.execute_reply": "2023-05-10T01:31:15.437593Z"
    }
   },
   "outputs": [],
   "source": [
    "from sklearn.model_selection import train_test_split\n",
    "from sklearn.linear_model import LinearRegression\n",
    "from sklearn.feature_selection import RFE\n",
    "X_train, X_test,Y_train, Y_test = train_test_split(X,Y,test_size = 0.2, random_state=28)"
   ]
  },
  {
   "cell_type": "code",
   "execution_count": 54,
   "id": "3e2386a3",
   "metadata": {
    "execution": {
     "iopub.execute_input": "2023-05-10T01:31:15.441984Z",
     "iopub.status.busy": "2023-05-10T01:31:15.441696Z",
     "iopub.status.idle": "2023-05-10T01:31:15.715482Z",
     "shell.execute_reply": "2023-05-10T01:31:15.715219Z"
    }
   },
   "outputs": [
    {
     "ename": "NameError",
     "evalue": "name 'model' is not defined",
     "output_type": "error",
     "traceback": [
      "\u001b[0;31m---------------------------------------------------------------------------\u001b[0m",
      "\u001b[0;31mNameError\u001b[0m                                 Traceback (most recent call last)",
      "Cell \u001b[0;32mIn [54], line 2\u001b[0m\n\u001b[1;32m      1\u001b[0m lm \u001b[38;5;241m=\u001b[39m LinearRegression()\u001b[38;5;241m.\u001b[39mfit(X_train,Y_train)\n\u001b[0;32m----> 2\u001b[0m prediction \u001b[38;5;241m=\u001b[39m \u001b[43mmodel\u001b[49m\u001b[38;5;241m.\u001b[39mpredict(X_test)\n",
      "\u001b[0;31mNameError\u001b[0m: name 'model' is not defined"
     ]
    }
   ],
   "source": [
    "lm = LinearRegression().fit(X_train,Y_train)\n",
    "prediction = model.predict(X_test)"
   ]
  },
  {
   "cell_type": "code",
   "execution_count": 55,
   "id": "28d00988",
   "metadata": {
    "execution": {
     "iopub.execute_input": "2023-05-10T01:31:15.717046Z",
     "iopub.status.busy": "2023-05-10T01:31:15.716937Z",
     "iopub.status.idle": "2023-05-10T01:31:15.828497Z",
     "shell.execute_reply": "2023-05-10T01:31:15.827746Z"
    }
   },
   "outputs": [],
   "source": [
    "lm = LinearRegression().fit(X_train,Y_train)\n",
    "prediction = lm.predict(X_test)"
   ]
  },
  {
   "cell_type": "code",
   "execution_count": 56,
   "id": "0efdf5be",
   "metadata": {
    "execution": {
     "iopub.execute_input": "2023-05-10T01:31:15.833430Z",
     "iopub.status.busy": "2023-05-10T01:31:15.833088Z",
     "iopub.status.idle": "2023-05-10T01:31:15.848829Z",
     "shell.execute_reply": "2023-05-10T01:31:15.848133Z"
    }
   },
   "outputs": [
    {
     "data": {
      "text/plain": [
       "0.7275411262156158"
      ]
     },
     "execution_count": 56,
     "metadata": {},
     "output_type": "execute_result"
    }
   ],
   "source": [
    "lm.score(X_test, Y_test)"
   ]
  },
  {
   "cell_type": "code",
   "execution_count": 57,
   "id": "69216457",
   "metadata": {
    "execution": {
     "iopub.execute_input": "2023-05-10T01:31:15.853864Z",
     "iopub.status.busy": "2023-05-10T01:31:15.853506Z",
     "iopub.status.idle": "2023-05-10T01:31:15.866905Z",
     "shell.execute_reply": "2023-05-10T01:31:15.865919Z"
    }
   },
   "outputs": [],
   "source": [
    "from sklearn.model_selection import train_test_split\n",
    "from sklearn.linear_model import LinearRegression\n",
    "X_train, X_test,Y_train, Y_test = train_test_split(df_X,Y,test_size = 0.2, random_state=28)"
   ]
  },
  {
   "cell_type": "code",
   "execution_count": 58,
   "id": "2f86d168",
   "metadata": {
    "execution": {
     "iopub.execute_input": "2023-05-10T01:31:15.871330Z",
     "iopub.status.busy": "2023-05-10T01:31:15.870887Z",
     "iopub.status.idle": "2023-05-10T01:31:15.994567Z",
     "shell.execute_reply": "2023-05-10T01:31:15.993854Z"
    }
   },
   "outputs": [],
   "source": [
    "lm = LinearRegression().fit(X_train,Y_train)\n",
    "prediction = lm.predict(X_test)"
   ]
  },
  {
   "cell_type": "code",
   "execution_count": 59,
   "id": "e047d6bd",
   "metadata": {
    "execution": {
     "iopub.execute_input": "2023-05-10T01:31:15.998273Z",
     "iopub.status.busy": "2023-05-10T01:31:15.997989Z",
     "iopub.status.idle": "2023-05-10T01:31:16.006206Z",
     "shell.execute_reply": "2023-05-10T01:31:16.005585Z"
    }
   },
   "outputs": [
    {
     "data": {
      "text/plain": [
       "0.685123503775936"
      ]
     },
     "execution_count": 59,
     "metadata": {},
     "output_type": "execute_result"
    }
   ],
   "source": [
    "lm.score(X_test, Y_test)"
   ]
  },
  {
   "cell_type": "code",
   "execution_count": 60,
   "id": "fab0fdb9",
   "metadata": {
    "execution": {
     "iopub.execute_input": "2023-05-10T01:31:16.009380Z",
     "iopub.status.busy": "2023-05-10T01:31:16.009103Z",
     "iopub.status.idle": "2023-05-10T01:31:16.275350Z",
     "shell.execute_reply": "2023-05-10T01:31:16.274487Z"
    }
   },
   "outputs": [],
   "source": [
    "from sklearn.decomposition import PCA\n",
    "pca = PCA(n_components=10)\n",
    "principalComponents = pca.fit_transform(X)"
   ]
  },
  {
   "cell_type": "code",
   "execution_count": 61,
   "id": "3fbc9a85",
   "metadata": {
    "execution": {
     "iopub.execute_input": "2023-05-10T01:31:16.279618Z",
     "iopub.status.busy": "2023-05-10T01:31:16.279302Z",
     "iopub.status.idle": "2023-05-10T01:31:16.283768Z",
     "shell.execute_reply": "2023-05-10T01:31:16.282452Z"
    }
   },
   "outputs": [],
   "source": [
    "df_X = pd.DataFrame(principalComponents)"
   ]
  },
  {
   "cell_type": "code",
   "execution_count": 62,
   "id": "ab83fd36",
   "metadata": {
    "execution": {
     "iopub.execute_input": "2023-05-10T01:31:16.287025Z",
     "iopub.status.busy": "2023-05-10T01:31:16.286753Z",
     "iopub.status.idle": "2023-05-10T01:31:16.295053Z",
     "shell.execute_reply": "2023-05-10T01:31:16.294379Z"
    }
   },
   "outputs": [],
   "source": [
    "from sklearn.model_selection import train_test_split\n",
    "from sklearn.linear_model import LinearRegression\n",
    "X_train, X_test,Y_train, Y_test = train_test_split(df_X,Y,test_size = 0.2, random_state=28)"
   ]
  },
  {
   "cell_type": "code",
   "execution_count": 63,
   "id": "aaf4c40a",
   "metadata": {
    "execution": {
     "iopub.execute_input": "2023-05-10T01:31:16.298947Z",
     "iopub.status.busy": "2023-05-10T01:31:16.298659Z",
     "iopub.status.idle": "2023-05-10T01:31:16.313508Z",
     "shell.execute_reply": "2023-05-10T01:31:16.312686Z"
    }
   },
   "outputs": [],
   "source": [
    "lm = LinearRegression().fit(X_train,Y_train)\n",
    "prediction = lm.predict(X_test)"
   ]
  },
  {
   "cell_type": "code",
   "execution_count": 64,
   "id": "2b5c9f7d",
   "metadata": {
    "execution": {
     "iopub.execute_input": "2023-05-10T01:31:16.317580Z",
     "iopub.status.busy": "2023-05-10T01:31:16.317067Z",
     "iopub.status.idle": "2023-05-10T01:31:16.324822Z",
     "shell.execute_reply": "2023-05-10T01:31:16.324234Z"
    }
   },
   "outputs": [
    {
     "data": {
      "text/plain": [
       "0.6544127729763018"
      ]
     },
     "execution_count": 64,
     "metadata": {},
     "output_type": "execute_result"
    }
   ],
   "source": [
    "lm.score(X_test, Y_test)"
   ]
  },
  {
   "cell_type": "code",
   "execution_count": 65,
   "id": "5cf016a6",
   "metadata": {
    "execution": {
     "iopub.execute_input": "2023-05-10T01:31:16.328188Z",
     "iopub.status.busy": "2023-05-10T01:31:16.327916Z",
     "iopub.status.idle": "2023-05-10T01:31:16.340133Z",
     "shell.execute_reply": "2023-05-10T01:31:16.339409Z"
    }
   },
   "outputs": [],
   "source": [
    "lm = LinearRegression().fit(X_train,Y_train)\n",
    "prediction = lm.predict(X_test)"
   ]
  },
  {
   "cell_type": "code",
   "execution_count": 66,
   "id": "ec20eb08",
   "metadata": {
    "execution": {
     "iopub.execute_input": "2023-05-10T01:31:16.344371Z",
     "iopub.status.busy": "2023-05-10T01:31:16.343860Z",
     "iopub.status.idle": "2023-05-10T01:31:16.355577Z",
     "shell.execute_reply": "2023-05-10T01:31:16.354938Z"
    }
   },
   "outputs": [],
   "source": [
    "lm = LinearRegression().fit(X_train,Y_train)\n",
    "prediction = lm.predict(X_test)"
   ]
  },
  {
   "cell_type": "code",
   "execution_count": 67,
   "id": "c5f9ac84",
   "metadata": {
    "execution": {
     "iopub.execute_input": "2023-05-10T01:31:16.359249Z",
     "iopub.status.busy": "2023-05-10T01:31:16.358960Z",
     "iopub.status.idle": "2023-05-10T01:31:16.367327Z",
     "shell.execute_reply": "2023-05-10T01:31:16.366555Z"
    }
   },
   "outputs": [
    {
     "data": {
      "text/plain": [
       "0.6544127729763018"
      ]
     },
     "execution_count": 67,
     "metadata": {},
     "output_type": "execute_result"
    }
   ],
   "source": [
    "lm.score(X_test, Y_test)"
   ]
  },
  {
   "cell_type": "code",
   "execution_count": 68,
   "id": "365ebf35",
   "metadata": {
    "execution": {
     "iopub.execute_input": "2023-05-10T01:31:16.370773Z",
     "iopub.status.busy": "2023-05-10T01:31:16.370318Z",
     "iopub.status.idle": "2023-05-10T01:31:16.389322Z",
     "shell.execute_reply": "2023-05-10T01:31:16.388628Z"
    }
   },
   "outputs": [],
   "source": [
    "from sklearn.model_selection import train_test_split\n",
    "from sklearn.linear_model import LinearRegression\n",
    "X_train, X_test,Y_train, Y_test = train_test_split(X,Y,test_size = 0.2, random_state=28)"
   ]
  },
  {
   "cell_type": "code",
   "execution_count": 69,
   "id": "e302dad4",
   "metadata": {
    "execution": {
     "iopub.execute_input": "2023-05-10T01:31:16.393323Z",
     "iopub.status.busy": "2023-05-10T01:31:16.392911Z",
     "iopub.status.idle": "2023-05-10T01:31:16.670534Z",
     "shell.execute_reply": "2023-05-10T01:31:16.669551Z"
    }
   },
   "outputs": [],
   "source": [
    "lm = LinearRegression().fit(X_train,Y_train)\n",
    "prediction = lm.predict(X_test)"
   ]
  },
  {
   "cell_type": "code",
   "execution_count": 70,
   "id": "0d3651bb",
   "metadata": {
    "execution": {
     "iopub.execute_input": "2023-05-10T01:31:16.677529Z",
     "iopub.status.busy": "2023-05-10T01:31:16.674619Z",
     "iopub.status.idle": "2023-05-10T01:31:16.693435Z",
     "shell.execute_reply": "2023-05-10T01:31:16.692107Z"
    }
   },
   "outputs": [
    {
     "data": {
      "text/plain": [
       "0.7275411262156158"
      ]
     },
     "execution_count": 70,
     "metadata": {},
     "output_type": "execute_result"
    }
   ],
   "source": [
    "lm.score(X_test, Y_test)"
   ]
  },
  {
   "cell_type": "code",
   "execution_count": 71,
   "id": "32faf32a",
   "metadata": {
    "execution": {
     "iopub.execute_input": "2023-05-10T01:31:16.698529Z",
     "iopub.status.busy": "2023-05-10T01:31:16.697151Z",
     "iopub.status.idle": "2023-05-10T01:31:16.715408Z",
     "shell.execute_reply": "2023-05-10T01:31:16.714526Z"
    }
   },
   "outputs": [
    {
     "ename": "NameError",
     "evalue": "name 'mean_squared_error' is not defined",
     "output_type": "error",
     "traceback": [
      "\u001b[0;31m---------------------------------------------------------------------------\u001b[0m",
      "\u001b[0;31mNameError\u001b[0m                                 Traceback (most recent call last)",
      "Cell \u001b[0;32mIn [71], line 1\u001b[0m\n\u001b[0;32m----> 1\u001b[0m \u001b[43mmean_squared_error\u001b[49m(Y_train, prediction)\n",
      "\u001b[0;31mNameError\u001b[0m: name 'mean_squared_error' is not defined"
     ]
    }
   ],
   "source": [
    "mean_squared_error(Y_train, prediction)"
   ]
  },
  {
   "cell_type": "code",
   "execution_count": 72,
   "id": "51727e15",
   "metadata": {
    "execution": {
     "iopub.execute_input": "2023-05-10T01:31:16.719652Z",
     "iopub.status.busy": "2023-05-10T01:31:16.719212Z",
     "iopub.status.idle": "2023-05-10T01:31:16.737651Z",
     "shell.execute_reply": "2023-05-10T01:31:16.737062Z"
    }
   },
   "outputs": [
    {
     "ename": "AttributeError",
     "evalue": "'LinearRegression' object has no attribute 'mean_squared_error'",
     "output_type": "error",
     "traceback": [
      "\u001b[0;31m---------------------------------------------------------------------------\u001b[0m",
      "\u001b[0;31mAttributeError\u001b[0m                            Traceback (most recent call last)",
      "Cell \u001b[0;32mIn [72], line 1\u001b[0m\n\u001b[0;32m----> 1\u001b[0m \u001b[43mlm\u001b[49m\u001b[38;5;241;43m.\u001b[39;49m\u001b[43mmean_squared_error\u001b[49m(Y_train, prediction)\n",
      "\u001b[0;31mAttributeError\u001b[0m: 'LinearRegression' object has no attribute 'mean_squared_error'"
     ]
    }
   ],
   "source": [
    "lm.mean_squared_error(Y_train, prediction)"
   ]
  },
  {
   "cell_type": "code",
   "execution_count": 73,
   "id": "784065d5",
   "metadata": {
    "execution": {
     "iopub.execute_input": "2023-05-10T01:31:16.740999Z",
     "iopub.status.busy": "2023-05-10T01:31:16.740724Z",
     "iopub.status.idle": "2023-05-10T01:31:16.760411Z",
     "shell.execute_reply": "2023-05-10T01:31:16.759695Z"
    }
   },
   "outputs": [
    {
     "ename": "NameError",
     "evalue": "name 'XGBRegressor' is not defined",
     "output_type": "error",
     "traceback": [
      "\u001b[0;31m---------------------------------------------------------------------------\u001b[0m",
      "\u001b[0;31mNameError\u001b[0m                                 Traceback (most recent call last)",
      "Cell \u001b[0;32mIn [73], line 1\u001b[0m\n\u001b[0;32m----> 1\u001b[0m model \u001b[38;5;241m=\u001b[39m \u001b[43mXGBRegressor\u001b[49m(n_estimators\u001b[38;5;241m=\u001b[39m\u001b[38;5;241m500\u001b[39m, max_depth\u001b[38;5;241m=\u001b[39m\u001b[38;5;241m4\u001b[39m,eta\u001b[38;5;241m=\u001b[39m\u001b[38;5;241m0.1\u001b[39m)\u001b[38;5;241m.\u001b[39mfit(X_train,Y_train)\n\u001b[1;32m      2\u001b[0m y_pred \u001b[38;5;241m=\u001b[39m model\u001b[38;5;241m.\u001b[39mpredict(X_test)\n",
      "\u001b[0;31mNameError\u001b[0m: name 'XGBRegressor' is not defined"
     ]
    }
   ],
   "source": [
    "model = XGBRegressor(n_estimators=500, max_depth=4,eta=0.1).fit(X_train,Y_train)\n",
    "y_pred = model.predict(X_test)"
   ]
  },
  {
   "cell_type": "code",
   "execution_count": 74,
   "id": "10badc37",
   "metadata": {
    "execution": {
     "iopub.execute_input": "2023-05-10T01:31:16.763949Z",
     "iopub.status.busy": "2023-05-10T01:31:16.763656Z",
     "iopub.status.idle": "2023-05-10T01:31:16.789925Z",
     "shell.execute_reply": "2023-05-10T01:31:16.789130Z"
    }
   },
   "outputs": [],
   "source": [
    "import xgboost as xgb"
   ]
  },
  {
   "cell_type": "code",
   "execution_count": 75,
   "id": "a666e4a4",
   "metadata": {
    "execution": {
     "iopub.execute_input": "2023-05-10T01:31:16.793621Z",
     "iopub.status.busy": "2023-05-10T01:31:16.793339Z",
     "iopub.status.idle": "2023-05-10T01:31:16.797115Z",
     "shell.execute_reply": "2023-05-10T01:31:16.796076Z"
    }
   },
   "outputs": [],
   "source": [
    "import xgboost as xgb"
   ]
  },
  {
   "cell_type": "code",
   "execution_count": 76,
   "id": "7695cbc2",
   "metadata": {
    "execution": {
     "iopub.execute_input": "2023-05-10T01:31:16.800304Z",
     "iopub.status.busy": "2023-05-10T01:31:16.800042Z",
     "iopub.status.idle": "2023-05-10T01:31:19.403934Z",
     "shell.execute_reply": "2023-05-10T01:31:19.403222Z"
    }
   },
   "outputs": [
    {
     "name": "stdout",
     "output_type": "stream",
     "text": [
      "\u001b[33mWARNING: Ignoring invalid distribution -umpy (/opt/anaconda3/lib/python3.9/site-packages)\u001b[0m\r\n",
      "\u001b[33mWARNING: Ignoring invalid distribution -umpy (/opt/anaconda3/lib/python3.9/site-packages)\u001b[0m\r\n",
      "Requirement already satisfied: xgboost in /opt/anaconda3/lib/python3.9/site-packages (1.7.5)\r\n",
      "Requirement already satisfied: scipy in /opt/anaconda3/lib/python3.9/site-packages (from xgboost) (1.7.1)\r\n",
      "Requirement already satisfied: numpy in /opt/anaconda3/lib/python3.9/site-packages (from xgboost) (1.22.4)\r\n",
      "\u001b[33mWARNING: Ignoring invalid distribution -umpy (/opt/anaconda3/lib/python3.9/site-packages)\u001b[0m\r\n"
     ]
    },
    {
     "name": "stdout",
     "output_type": "stream",
     "text": [
      "\u001b[33mWARNING: Ignoring invalid distribution -umpy (/opt/anaconda3/lib/python3.9/site-packages)\u001b[0m\r\n"
     ]
    },
    {
     "name": "stdout",
     "output_type": "stream",
     "text": [
      "\u001b[33mWARNING: Ignoring invalid distribution -umpy (/opt/anaconda3/lib/python3.9/site-packages)\u001b[0m\r\n",
      "\u001b[33mWARNING: Ignoring invalid distribution -umpy (/opt/anaconda3/lib/python3.9/site-packages)\u001b[0m\r\n"
     ]
    }
   ],
   "source": [
    "get_ipython().system('pip install xgboost')"
   ]
  },
  {
   "cell_type": "code",
   "execution_count": 77,
   "id": "ef66831c",
   "metadata": {
    "execution": {
     "iopub.execute_input": "2023-05-10T01:31:19.407094Z",
     "iopub.status.busy": "2023-05-10T01:31:19.406857Z",
     "iopub.status.idle": "2023-05-10T01:31:19.409721Z",
     "shell.execute_reply": "2023-05-10T01:31:19.409288Z"
    }
   },
   "outputs": [],
   "source": [
    "import xgboost as xgb"
   ]
  },
  {
   "cell_type": "code",
   "execution_count": 78,
   "id": "ac5f6388",
   "metadata": {
    "execution": {
     "iopub.execute_input": "2023-05-10T01:31:19.412066Z",
     "iopub.status.busy": "2023-05-10T01:31:19.411895Z",
     "iopub.status.idle": "2023-05-10T01:31:19.423994Z",
     "shell.execute_reply": "2023-05-10T01:31:19.423577Z"
    }
   },
   "outputs": [
    {
     "ename": "NameError",
     "evalue": "name 'XGBRegressor' is not defined",
     "output_type": "error",
     "traceback": [
      "\u001b[0;31m---------------------------------------------------------------------------\u001b[0m",
      "\u001b[0;31mNameError\u001b[0m                                 Traceback (most recent call last)",
      "Cell \u001b[0;32mIn [78], line 1\u001b[0m\n\u001b[0;32m----> 1\u001b[0m model \u001b[38;5;241m=\u001b[39m \u001b[43mXGBRegressor\u001b[49m(n_estimators\u001b[38;5;241m=\u001b[39m\u001b[38;5;241m500\u001b[39m, max_depth\u001b[38;5;241m=\u001b[39m\u001b[38;5;241m4\u001b[39m,eta\u001b[38;5;241m=\u001b[39m\u001b[38;5;241m0.1\u001b[39m)\u001b[38;5;241m.\u001b[39mfit(X_train,Y_train)\n\u001b[1;32m      2\u001b[0m y_pred \u001b[38;5;241m=\u001b[39m model\u001b[38;5;241m.\u001b[39mpredict(X_test)\n",
      "\u001b[0;31mNameError\u001b[0m: name 'XGBRegressor' is not defined"
     ]
    }
   ],
   "source": [
    "model = XGBRegressor(n_estimators=500, max_depth=4,eta=0.1).fit(X_train,Y_train)\n",
    "y_pred = model.predict(X_test)"
   ]
  },
  {
   "cell_type": "code",
   "execution_count": 79,
   "id": "33949c0b",
   "metadata": {
    "execution": {
     "iopub.execute_input": "2023-05-10T01:31:19.425954Z",
     "iopub.status.busy": "2023-05-10T01:31:19.425792Z",
     "iopub.status.idle": "2023-05-10T01:31:25.025244Z",
     "shell.execute_reply": "2023-05-10T01:31:25.024837Z"
    }
   },
   "outputs": [],
   "source": [
    "model = xgb.XGBRegressor(n_estimators=500, max_depth=4,eta=0.1).fit(X_train,Y_train)\n",
    "y_pred = model.predict(X_test)"
   ]
  },
  {
   "cell_type": "code",
   "execution_count": 80,
   "id": "61281342",
   "metadata": {
    "execution": {
     "iopub.execute_input": "2023-05-10T01:31:25.027444Z",
     "iopub.status.busy": "2023-05-10T01:31:25.027323Z",
     "iopub.status.idle": "2023-05-10T01:31:25.039414Z",
     "shell.execute_reply": "2023-05-10T01:31:25.039093Z"
    }
   },
   "outputs": [
    {
     "data": {
      "text/plain": [
       "0.9108049625244061"
      ]
     },
     "execution_count": 80,
     "metadata": {},
     "output_type": "execute_result"
    }
   ],
   "source": [
    "model.score(X_test, Y_test)"
   ]
  },
  {
   "cell_type": "code",
   "execution_count": 81,
   "id": "d97512fc",
   "metadata": {
    "execution": {
     "iopub.execute_input": "2023-05-10T01:31:25.041605Z",
     "iopub.status.busy": "2023-05-10T01:31:25.041493Z",
     "iopub.status.idle": "2023-05-10T01:31:30.556984Z",
     "shell.execute_reply": "2023-05-10T01:31:30.556622Z"
    }
   },
   "outputs": [],
   "source": [
    "import xgboost as xgb\n",
    "model = xgb.XGBRegressor(n_estimators=500, max_depth=4,eta=0.1).fit(X_train,Y_train)\n",
    "y_pred = model.predict(X_test)"
   ]
  },
  {
   "cell_type": "code",
   "execution_count": 82,
   "id": "a16f40cc",
   "metadata": {
    "execution": {
     "iopub.execute_input": "2023-05-10T01:31:30.559137Z",
     "iopub.status.busy": "2023-05-10T01:31:30.559009Z",
     "iopub.status.idle": "2023-05-10T01:31:30.571717Z",
     "shell.execute_reply": "2023-05-10T01:31:30.571308Z"
    }
   },
   "outputs": [
    {
     "data": {
      "text/plain": [
       "0.9108049625244061"
      ]
     },
     "execution_count": 82,
     "metadata": {},
     "output_type": "execute_result"
    }
   ],
   "source": [
    "model.score(X_test, Y_test)"
   ]
  },
  {
   "cell_type": "code",
   "execution_count": 83,
   "id": "eebdd2b7",
   "metadata": {
    "execution": {
     "iopub.execute_input": "2023-05-10T01:31:30.573496Z",
     "iopub.status.busy": "2023-05-10T01:31:30.573380Z",
     "iopub.status.idle": "2023-05-10T01:31:35.398559Z",
     "shell.execute_reply": "2023-05-10T01:31:35.397981Z"
    }
   },
   "outputs": [],
   "source": [
    "import xgboost as xgb\n",
    "model = xgb.XGBRegressor(n_estimators=400, max_depth=4,eta=0.1).fit(X_train,Y_train)\n",
    "y_pred = model.predict(X_test)"
   ]
  },
  {
   "cell_type": "code",
   "execution_count": 84,
   "id": "b2fc2c47",
   "metadata": {
    "execution": {
     "iopub.execute_input": "2023-05-10T01:31:35.400612Z",
     "iopub.status.busy": "2023-05-10T01:31:35.400493Z",
     "iopub.status.idle": "2023-05-10T01:31:35.412769Z",
     "shell.execute_reply": "2023-05-10T01:31:35.412290Z"
    }
   },
   "outputs": [
    {
     "data": {
      "text/plain": [
       "0.9071078207301947"
      ]
     },
     "execution_count": 84,
     "metadata": {},
     "output_type": "execute_result"
    }
   ],
   "source": [
    "model.score(X_test, Y_test)"
   ]
  },
  {
   "cell_type": "code",
   "execution_count": 85,
   "id": "8958ee38",
   "metadata": {
    "execution": {
     "iopub.execute_input": "2023-05-10T01:31:35.414615Z",
     "iopub.status.busy": "2023-05-10T01:31:35.414482Z",
     "iopub.status.idle": "2023-05-10T01:31:42.513944Z",
     "shell.execute_reply": "2023-05-10T01:31:42.513595Z"
    }
   },
   "outputs": [],
   "source": [
    "import xgboost as xgb\n",
    "model = xgb.XGBRegressor(n_estimators=600, max_depth=4,eta=0.1).fit(X_train,Y_train)\n",
    "y_pred = model.predict(X_test)"
   ]
  },
  {
   "cell_type": "code",
   "execution_count": 86,
   "id": "978ef516",
   "metadata": {
    "execution": {
     "iopub.execute_input": "2023-05-10T01:31:42.515940Z",
     "iopub.status.busy": "2023-05-10T01:31:42.515815Z",
     "iopub.status.idle": "2023-05-10T01:31:42.527911Z",
     "shell.execute_reply": "2023-05-10T01:31:42.527575Z"
    }
   },
   "outputs": [
    {
     "data": {
      "text/plain": [
       "0.913941243290783"
      ]
     },
     "execution_count": 86,
     "metadata": {},
     "output_type": "execute_result"
    }
   ],
   "source": [
    "model.score(X_test, Y_test)"
   ]
  },
  {
   "cell_type": "code",
   "execution_count": 87,
   "id": "e8c206b8",
   "metadata": {
    "execution": {
     "iopub.execute_input": "2023-05-10T01:31:42.529625Z",
     "iopub.status.busy": "2023-05-10T01:31:42.529488Z",
     "iopub.status.idle": "2023-05-10T01:31:42.540379Z",
     "shell.execute_reply": "2023-05-10T01:31:42.540005Z"
    }
   },
   "outputs": [],
   "source": [
    "from sklearn.model_selection import train_test_split\n",
    "from sklearn.linear_model import LinearRegression\n",
    "X_train, X_test,Y_train, Y_test = train_test_split(X,Y,test_size = 0.2, random_state=28)"
   ]
  },
  {
   "cell_type": "code",
   "execution_count": 88,
   "id": "db58e60f",
   "metadata": {
    "execution": {
     "iopub.execute_input": "2023-05-10T01:31:42.542624Z",
     "iopub.status.busy": "2023-05-10T01:31:42.542250Z",
     "iopub.status.idle": "2023-05-10T01:31:49.691993Z",
     "shell.execute_reply": "2023-05-10T01:31:49.691588Z"
    }
   },
   "outputs": [],
   "source": [
    "import xgboost as xgb\n",
    "model = xgb.XGBRegressor(n_estimators=600, max_depth=4,eta=0.1).fit(X_train,Y_train)\n",
    "y_pred = model.predict(X_test)"
   ]
  },
  {
   "cell_type": "code",
   "execution_count": 89,
   "id": "a1eb04e1",
   "metadata": {
    "execution": {
     "iopub.execute_input": "2023-05-10T01:31:49.693895Z",
     "iopub.status.busy": "2023-05-10T01:31:49.693776Z",
     "iopub.status.idle": "2023-05-10T01:31:49.705946Z",
     "shell.execute_reply": "2023-05-10T01:31:49.705600Z"
    }
   },
   "outputs": [
    {
     "data": {
      "text/plain": [
       "0.913941243290783"
      ]
     },
     "execution_count": 89,
     "metadata": {},
     "output_type": "execute_result"
    }
   ],
   "source": [
    "model.score(X_test, Y_test)"
   ]
  },
  {
   "cell_type": "code",
   "execution_count": 90,
   "id": "9598adf6",
   "metadata": {
    "execution": {
     "iopub.execute_input": "2023-05-10T01:31:49.707710Z",
     "iopub.status.busy": "2023-05-10T01:31:49.707602Z",
     "iopub.status.idle": "2023-05-10T01:31:49.717880Z",
     "shell.execute_reply": "2023-05-10T01:31:49.717534Z"
    }
   },
   "outputs": [],
   "source": [
    "from sklearn.model_selection import train_test_split\n",
    "from sklearn.linear_model import LinearRegression\n",
    "X_train, X_test,Y_train, Y_test = train_test_split(X,Y,test_size = 0.2, random_state=32)"
   ]
  },
  {
   "cell_type": "code",
   "execution_count": 91,
   "id": "2655267c",
   "metadata": {
    "execution": {
     "iopub.execute_input": "2023-05-10T01:31:49.719770Z",
     "iopub.status.busy": "2023-05-10T01:31:49.719655Z",
     "iopub.status.idle": "2023-05-10T01:31:56.872996Z",
     "shell.execute_reply": "2023-05-10T01:31:56.872631Z"
    }
   },
   "outputs": [],
   "source": [
    "import xgboost as xgb\n",
    "model = xgb.XGBRegressor(n_estimators=600, max_depth=4,eta=0.1).fit(X_train,Y_train)\n",
    "y_pred = model.predict(X_test)"
   ]
  },
  {
   "cell_type": "code",
   "execution_count": 92,
   "id": "f026648f",
   "metadata": {
    "execution": {
     "iopub.execute_input": "2023-05-10T01:31:56.874984Z",
     "iopub.status.busy": "2023-05-10T01:31:56.874866Z",
     "iopub.status.idle": "2023-05-10T01:31:56.886468Z",
     "shell.execute_reply": "2023-05-10T01:31:56.886123Z"
    }
   },
   "outputs": [
    {
     "data": {
      "text/plain": [
       "0.9102761242741739"
      ]
     },
     "execution_count": 92,
     "metadata": {},
     "output_type": "execute_result"
    }
   ],
   "source": [
    "model.score(X_test, Y_test)"
   ]
  },
  {
   "cell_type": "code",
   "execution_count": 93,
   "id": "dc391170",
   "metadata": {
    "execution": {
     "iopub.execute_input": "2023-05-10T01:31:56.888299Z",
     "iopub.status.busy": "2023-05-10T01:31:56.888178Z",
     "iopub.status.idle": "2023-05-10T01:32:02.853476Z",
     "shell.execute_reply": "2023-05-10T01:32:02.853073Z"
    }
   },
   "outputs": [],
   "source": [
    "import xgboost as xgb\n",
    "model = xgb.XGBRegressor(n_estimators=500, max_depth=4,eta=0.1).fit(X_train,Y_train)\n",
    "y_pred = model.predict(X_test)"
   ]
  },
  {
   "cell_type": "code",
   "execution_count": 94,
   "id": "77f1e038",
   "metadata": {
    "execution": {
     "iopub.execute_input": "2023-05-10T01:32:02.855617Z",
     "iopub.status.busy": "2023-05-10T01:32:02.855475Z",
     "iopub.status.idle": "2023-05-10T01:32:02.867569Z",
     "shell.execute_reply": "2023-05-10T01:32:02.867188Z"
    }
   },
   "outputs": [
    {
     "data": {
      "text/plain": [
       "0.9066691665646758"
      ]
     },
     "execution_count": 94,
     "metadata": {},
     "output_type": "execute_result"
    }
   ],
   "source": [
    "model.score(X_test, Y_test)"
   ]
  },
  {
   "cell_type": "code",
   "execution_count": 95,
   "id": "75eb893e",
   "metadata": {
    "execution": {
     "iopub.execute_input": "2023-05-10T01:32:02.869328Z",
     "iopub.status.busy": "2023-05-10T01:32:02.869204Z",
     "iopub.status.idle": "2023-05-10T01:32:02.876254Z",
     "shell.execute_reply": "2023-05-10T01:32:02.875883Z"
    }
   },
   "outputs": [],
   "source": [
    "get_ipython().run_cell_magic('capture', '', \"%logstop\\n%logstart -t -r -q ipython_command_log.py global\\n\\n#- IRONHACKS RESEARCH TRACKING CODE\\n#----------------------------------\\n# The following code is used to help our research team understand how you \\n# our notebook environment. We do not collect any personal information with\\n# the following code, it is used to measure when and how often you work on\\n# your submission files.\\n\\nimport os\\nfrom datetime import datetime\\nimport IPython.core.history as history\\n\\nha = history.HistoryAccessor()\\nha_tail = ha.get_tail(1)\\nha_cmd = next(ha_tail)\\nsession_id = str(ha_cmd[0])\\ncommand_id = str(ha_cmd[1])\\ntimestamp = datetime.utcnow().isoformat()\\nhistory_line = ','.join([session_id, command_id, timestamp]) + '\\\\n'\\nlogfile = open(os.environ['HOME']+'/ipython_session_log.csv', 'a')\\nlogfile.write(history_line)\\nlogfile.close()\\n\")"
   ]
  },
  {
   "cell_type": "code",
   "execution_count": 96,
   "id": "4d1ddcd6",
   "metadata": {
    "execution": {
     "iopub.execute_input": "2023-05-10T01:32:02.878373Z",
     "iopub.status.busy": "2023-05-10T01:32:02.878188Z",
     "iopub.status.idle": "2023-05-10T01:32:02.962726Z",
     "shell.execute_reply": "2023-05-10T01:32:02.962309Z"
    }
   },
   "outputs": [
    {
     "ename": "TypeError",
     "evalue": "fit() missing 1 required positional argument: 'y'",
     "output_type": "error",
     "traceback": [
      "\u001b[0;31m---------------------------------------------------------------------------\u001b[0m",
      "\u001b[0;31mTypeError\u001b[0m                                 Traceback (most recent call last)",
      "Cell \u001b[0;32mIn [96], line 1\u001b[0m\n\u001b[0;32m----> 1\u001b[0m ttt \u001b[38;5;241m=\u001b[39m \u001b[43mmodel\u001b[49m\u001b[38;5;241;43m.\u001b[39;49m\u001b[43mfit\u001b[49m\u001b[43m(\u001b[49m\u001b[43mpred_data\u001b[49m\u001b[43m)\u001b[49m\n",
      "File \u001b[0;32m/opt/homebrew/lib/python3.9/site-packages/xgboost/core.py:620\u001b[0m, in \u001b[0;36mrequire_keyword_args.<locals>.throw_if.<locals>.inner_f\u001b[0;34m(*args, **kwargs)\u001b[0m\n\u001b[1;32m    618\u001b[0m \u001b[38;5;28;01mfor\u001b[39;00m k, arg \u001b[38;5;129;01min\u001b[39;00m \u001b[38;5;28mzip\u001b[39m(sig\u001b[38;5;241m.\u001b[39mparameters, args):\n\u001b[1;32m    619\u001b[0m     kwargs[k] \u001b[38;5;241m=\u001b[39m arg\n\u001b[0;32m--> 620\u001b[0m \u001b[38;5;28;01mreturn\u001b[39;00m \u001b[43mfunc\u001b[49m\u001b[43m(\u001b[49m\u001b[38;5;241;43m*\u001b[39;49m\u001b[38;5;241;43m*\u001b[39;49m\u001b[43mkwargs\u001b[49m\u001b[43m)\u001b[49m\n",
      "\u001b[0;31mTypeError\u001b[0m: fit() missing 1 required positional argument: 'y'"
     ]
    }
   ],
   "source": [
    "ttt = model.fit(pred_data)"
   ]
  },
  {
   "cell_type": "code",
   "execution_count": 97,
   "id": "19e26978",
   "metadata": {
    "execution": {
     "iopub.execute_input": "2023-05-10T01:32:02.964685Z",
     "iopub.status.busy": "2023-05-10T01:32:02.964563Z",
     "iopub.status.idle": "2023-05-10T01:32:03.028989Z",
     "shell.execute_reply": "2023-05-10T01:32:03.028561Z"
    }
   },
   "outputs": [
    {
     "ename": "ValueError",
     "evalue": "Feature shape mismatch, expected: 174, got 2",
     "output_type": "error",
     "traceback": [
      "\u001b[0;31m---------------------------------------------------------------------------\u001b[0m",
      "\u001b[0;31mValueError\u001b[0m                                Traceback (most recent call last)",
      "Cell \u001b[0;32mIn [97], line 1\u001b[0m\n\u001b[0;32m----> 1\u001b[0m pred \u001b[38;5;241m=\u001b[39m \u001b[43mmodel\u001b[49m\u001b[38;5;241;43m.\u001b[39;49m\u001b[43mpredict\u001b[49m\u001b[43m(\u001b[49m\u001b[43mpred_data\u001b[49m\u001b[43m)\u001b[49m\n",
      "File \u001b[0;32m/opt/homebrew/lib/python3.9/site-packages/xgboost/sklearn.py:1114\u001b[0m, in \u001b[0;36mXGBModel.predict\u001b[0;34m(self, X, output_margin, ntree_limit, validate_features, base_margin, iteration_range)\u001b[0m\n\u001b[1;32m   1112\u001b[0m \u001b[38;5;28;01mif\u001b[39;00m \u001b[38;5;28mself\u001b[39m\u001b[38;5;241m.\u001b[39m_can_use_inplace_predict():\n\u001b[1;32m   1113\u001b[0m     \u001b[38;5;28;01mtry\u001b[39;00m:\n\u001b[0;32m-> 1114\u001b[0m         predts \u001b[38;5;241m=\u001b[39m \u001b[38;5;28;43mself\u001b[39;49m\u001b[38;5;241;43m.\u001b[39;49m\u001b[43mget_booster\u001b[49m\u001b[43m(\u001b[49m\u001b[43m)\u001b[49m\u001b[38;5;241;43m.\u001b[39;49m\u001b[43minplace_predict\u001b[49m\u001b[43m(\u001b[49m\n\u001b[1;32m   1115\u001b[0m \u001b[43m            \u001b[49m\u001b[43mdata\u001b[49m\u001b[38;5;241;43m=\u001b[39;49m\u001b[43mX\u001b[49m\u001b[43m,\u001b[49m\n\u001b[1;32m   1116\u001b[0m \u001b[43m            \u001b[49m\u001b[43miteration_range\u001b[49m\u001b[38;5;241;43m=\u001b[39;49m\u001b[43miteration_range\u001b[49m\u001b[43m,\u001b[49m\n\u001b[1;32m   1117\u001b[0m \u001b[43m            \u001b[49m\u001b[43mpredict_type\u001b[49m\u001b[38;5;241;43m=\u001b[39;49m\u001b[38;5;124;43m\"\u001b[39;49m\u001b[38;5;124;43mmargin\u001b[39;49m\u001b[38;5;124;43m\"\u001b[39;49m\u001b[43m \u001b[49m\u001b[38;5;28;43;01mif\u001b[39;49;00m\u001b[43m \u001b[49m\u001b[43moutput_margin\u001b[49m\u001b[43m \u001b[49m\u001b[38;5;28;43;01melse\u001b[39;49;00m\u001b[43m \u001b[49m\u001b[38;5;124;43m\"\u001b[39;49m\u001b[38;5;124;43mvalue\u001b[39;49m\u001b[38;5;124;43m\"\u001b[39;49m\u001b[43m,\u001b[49m\n\u001b[1;32m   1118\u001b[0m \u001b[43m            \u001b[49m\u001b[43mmissing\u001b[49m\u001b[38;5;241;43m=\u001b[39;49m\u001b[38;5;28;43mself\u001b[39;49m\u001b[38;5;241;43m.\u001b[39;49m\u001b[43mmissing\u001b[49m\u001b[43m,\u001b[49m\n\u001b[1;32m   1119\u001b[0m \u001b[43m            \u001b[49m\u001b[43mbase_margin\u001b[49m\u001b[38;5;241;43m=\u001b[39;49m\u001b[43mbase_margin\u001b[49m\u001b[43m,\u001b[49m\n\u001b[1;32m   1120\u001b[0m \u001b[43m            \u001b[49m\u001b[43mvalidate_features\u001b[49m\u001b[38;5;241;43m=\u001b[39;49m\u001b[43mvalidate_features\u001b[49m\u001b[43m,\u001b[49m\n\u001b[1;32m   1121\u001b[0m \u001b[43m        \u001b[49m\u001b[43m)\u001b[49m\n\u001b[1;32m   1122\u001b[0m         \u001b[38;5;28;01mif\u001b[39;00m _is_cupy_array(predts):\n\u001b[1;32m   1123\u001b[0m             \u001b[38;5;28;01mimport\u001b[39;00m \u001b[38;5;21;01mcupy\u001b[39;00m  \u001b[38;5;66;03m# pylint: disable=import-error\u001b[39;00m\n",
      "File \u001b[0;32m/opt/homebrew/lib/python3.9/site-packages/xgboost/core.py:2269\u001b[0m, in \u001b[0;36mBooster.inplace_predict\u001b[0;34m(self, data, iteration_range, predict_type, missing, validate_features, base_margin, strict_shape)\u001b[0m\n\u001b[1;32m   2265\u001b[0m         \u001b[38;5;28;01mraise\u001b[39;00m \u001b[38;5;167;01mTypeError\u001b[39;00m(\n\u001b[1;32m   2266\u001b[0m             \u001b[38;5;124m\"\u001b[39m\u001b[38;5;124m`shape` attribute is required when `validate_features` is True.\u001b[39m\u001b[38;5;124m\"\u001b[39m\n\u001b[1;32m   2267\u001b[0m         )\n\u001b[1;32m   2268\u001b[0m     \u001b[38;5;28;01mif\u001b[39;00m \u001b[38;5;28mlen\u001b[39m(data\u001b[38;5;241m.\u001b[39mshape) \u001b[38;5;241m!=\u001b[39m \u001b[38;5;241m1\u001b[39m \u001b[38;5;129;01mand\u001b[39;00m \u001b[38;5;28mself\u001b[39m\u001b[38;5;241m.\u001b[39mnum_features() \u001b[38;5;241m!=\u001b[39m data\u001b[38;5;241m.\u001b[39mshape[\u001b[38;5;241m1\u001b[39m]:\n\u001b[0;32m-> 2269\u001b[0m         \u001b[38;5;28;01mraise\u001b[39;00m \u001b[38;5;167;01mValueError\u001b[39;00m(\n\u001b[1;32m   2270\u001b[0m             \u001b[38;5;124mf\u001b[39m\u001b[38;5;124m\"\u001b[39m\u001b[38;5;124mFeature shape mismatch, expected: \u001b[39m\u001b[38;5;132;01m{\u001b[39;00m\u001b[38;5;28mself\u001b[39m\u001b[38;5;241m.\u001b[39mnum_features()\u001b[38;5;132;01m}\u001b[39;00m\u001b[38;5;124m, \u001b[39m\u001b[38;5;124m\"\u001b[39m\n\u001b[1;32m   2271\u001b[0m             \u001b[38;5;124mf\u001b[39m\u001b[38;5;124m\"\u001b[39m\u001b[38;5;124mgot \u001b[39m\u001b[38;5;132;01m{\u001b[39;00mdata\u001b[38;5;241m.\u001b[39mshape[\u001b[38;5;241m1\u001b[39m]\u001b[38;5;132;01m}\u001b[39;00m\u001b[38;5;124m\"\u001b[39m\n\u001b[1;32m   2272\u001b[0m         )\n\u001b[1;32m   2274\u001b[0m \u001b[38;5;28;01mfrom\u001b[39;00m \u001b[38;5;21;01m.\u001b[39;00m\u001b[38;5;21;01mdata\u001b[39;00m \u001b[38;5;28;01mimport\u001b[39;00m (\n\u001b[1;32m   2275\u001b[0m     _array_interface,\n\u001b[1;32m   2276\u001b[0m     _is_cudf_df,\n\u001b[0;32m   (...)\u001b[0m\n\u001b[1;32m   2279\u001b[0m     _transform_pandas_df,\n\u001b[1;32m   2280\u001b[0m )\n\u001b[1;32m   2282\u001b[0m enable_categorical \u001b[38;5;241m=\u001b[39m _has_categorical(\u001b[38;5;28mself\u001b[39m, data)\n",
      "\u001b[0;31mValueError\u001b[0m: Feature shape mismatch, expected: 174, got 2"
     ]
    }
   ],
   "source": [
    "pred = model.predict(pred_data)"
   ]
  },
  {
   "cell_type": "code",
   "execution_count": 98,
   "id": "c2efb10b",
   "metadata": {
    "execution": {
     "iopub.execute_input": "2023-05-10T01:32:03.030948Z",
     "iopub.status.busy": "2023-05-10T01:32:03.030837Z",
     "iopub.status.idle": "2023-05-10T01:32:03.035737Z",
     "shell.execute_reply": "2023-05-10T01:32:03.035289Z"
    }
   },
   "outputs": [
    {
     "name": "stdout",
     "output_type": "stream",
     "text": [
      "<class 'pandas.core.frame.DataFrame'>\n",
      "RangeIndex: 525 entries, 0 to 524\n",
      "Data columns (total 2 columns):\n",
      " #   Column       Non-Null Count  Dtype \n",
      "---  ------       --------------  ----- \n",
      " 0   uu_id        525 non-null    object\n",
      " 1   week_number  525 non-null    Int64 \n",
      "dtypes: Int64(1), object(1)\n",
      "memory usage: 8.8+ KB\n"
     ]
    }
   ],
   "source": [
    "pred_data.info()"
   ]
  },
  {
   "cell_type": "code",
   "execution_count": 99,
   "id": "13babf02",
   "metadata": {
    "execution": {
     "iopub.execute_input": "2023-05-10T01:32:03.037510Z",
     "iopub.status.busy": "2023-05-10T01:32:03.037385Z",
     "iopub.status.idle": "2023-05-10T01:32:03.063386Z",
     "shell.execute_reply": "2023-05-10T01:32:03.063016Z"
    }
   },
   "outputs": [
    {
     "data": {
      "text/html": [
       "<div>\n",
       "<style scoped>\n",
       "    .dataframe tbody tr th:only-of-type {\n",
       "        vertical-align: middle;\n",
       "    }\n",
       "\n",
       "    .dataframe tbody tr th {\n",
       "        vertical-align: top;\n",
       "    }\n",
       "\n",
       "    .dataframe thead th {\n",
       "        text-align: right;\n",
       "    }\n",
       "</style>\n",
       "<table border=\"1\" class=\"dataframe\">\n",
       "  <thead>\n",
       "    <tr style=\"text-align: right;\">\n",
       "      <th></th>\n",
       "      <th>timeperiod</th>\n",
       "      <th>week_number</th>\n",
       "      <th>countyfips</th>\n",
       "      <th>tract</th>\n",
       "      <th>total_claims</th>\n",
       "      <th>edu_8th_or_less</th>\n",
       "      <th>edu_grades_9_11</th>\n",
       "      <th>edu_hs_grad_equiv</th>\n",
       "      <th>edu_post_hs</th>\n",
       "      <th>edu_unknown</th>\n",
       "      <th>gender_female</th>\n",
       "      <th>gender_male</th>\n",
       "      <th>gender_na</th>\n",
       "      <th>race_amerindian</th>\n",
       "      <th>race_asian</th>\n",
       "      <th>race_black</th>\n",
       "      <th>race_noanswer</th>\n",
       "      <th>race_hawaiiannative</th>\n",
       "      <th>race_other</th>\n",
       "      <th>race_white</th>\n",
       "    </tr>\n",
       "  </thead>\n",
       "  <tbody>\n",
       "    <tr>\n",
       "      <th>count</th>\n",
       "      <td>16833.0</td>\n",
       "      <td>16833.0</td>\n",
       "      <td>16833.0</td>\n",
       "      <td>16833.0</td>\n",
       "      <td>16833.0</td>\n",
       "      <td>16833.0</td>\n",
       "      <td>16833.0</td>\n",
       "      <td>16833.0</td>\n",
       "      <td>16833.000000</td>\n",
       "      <td>16833.0</td>\n",
       "      <td>16833.000000</td>\n",
       "      <td>16833.000000</td>\n",
       "      <td>16833.0</td>\n",
       "      <td>16833.0</td>\n",
       "      <td>16833.0</td>\n",
       "      <td>16833.0</td>\n",
       "      <td>16833.0</td>\n",
       "      <td>16833.0</td>\n",
       "      <td>16833.0</td>\n",
       "      <td>16833.0</td>\n",
       "    </tr>\n",
       "    <tr>\n",
       "      <th>mean</th>\n",
       "      <td>20220540.093329</td>\n",
       "      <td>21.329531</td>\n",
       "      <td>18088.919682</td>\n",
       "      <td>211605.900315</td>\n",
       "      <td>22.952712</td>\n",
       "      <td>0.065348</td>\n",
       "      <td>1.340462</td>\n",
       "      <td>18.376879</td>\n",
       "      <td>16.171548</td>\n",
       "      <td>0.094339</td>\n",
       "      <td>17.669458</td>\n",
       "      <td>18.869913</td>\n",
       "      <td>0.005228</td>\n",
       "      <td>0.009921</td>\n",
       "      <td>0.012475</td>\n",
       "      <td>11.101705</td>\n",
       "      <td>0.124161</td>\n",
       "      <td>0.0</td>\n",
       "      <td>0.446801</td>\n",
       "      <td>16.257233</td>\n",
       "    </tr>\n",
       "    <tr>\n",
       "      <th>std</th>\n",
       "      <td>268.366832</td>\n",
       "      <td>11.618554</td>\n",
       "      <td>41.019467</td>\n",
       "      <td>288715.02492</td>\n",
       "      <td>14.583655</td>\n",
       "      <td>1.03561</td>\n",
       "      <td>3.451816</td>\n",
       "      <td>8.139188</td>\n",
       "      <td>5.892916</td>\n",
       "      <td>1.499568</td>\n",
       "      <td>6.761315</td>\n",
       "      <td>6.507586</td>\n",
       "      <td>0.441002</td>\n",
       "      <td>0.469947</td>\n",
       "      <td>0.535979</td>\n",
       "      <td>12.039616</td>\n",
       "      <td>1.947116</td>\n",
       "      <td>0.0</td>\n",
       "      <td>2.40954</td>\n",
       "      <td>7.670217</td>\n",
       "    </tr>\n",
       "    <tr>\n",
       "      <th>min</th>\n",
       "      <td>20220101.0</td>\n",
       "      <td>1.0</td>\n",
       "      <td>18001.0</td>\n",
       "      <td>100.0</td>\n",
       "      <td>10.0</td>\n",
       "      <td>0.0</td>\n",
       "      <td>0.0</td>\n",
       "      <td>0.0</td>\n",
       "      <td>0.000000</td>\n",
       "      <td>0.0</td>\n",
       "      <td>0.000000</td>\n",
       "      <td>0.000000</td>\n",
       "      <td>0.0</td>\n",
       "      <td>0.0</td>\n",
       "      <td>0.0</td>\n",
       "      <td>0.0</td>\n",
       "      <td>0.0</td>\n",
       "      <td>0.0</td>\n",
       "      <td>0.0</td>\n",
       "      <td>0.0</td>\n",
       "    </tr>\n",
       "    <tr>\n",
       "      <th>25%</th>\n",
       "      <td>20220312.0</td>\n",
       "      <td>11.0</td>\n",
       "      <td>18063.0</td>\n",
       "      <td>10100.0</td>\n",
       "      <td>14.0</td>\n",
       "      <td>0.0</td>\n",
       "      <td>0.0</td>\n",
       "      <td>14.0</td>\n",
       "      <td>14.539683</td>\n",
       "      <td>0.0</td>\n",
       "      <td>15.032258</td>\n",
       "      <td>16.550898</td>\n",
       "      <td>0.0</td>\n",
       "      <td>0.0</td>\n",
       "      <td>0.0</td>\n",
       "      <td>0.0</td>\n",
       "      <td>0.0</td>\n",
       "      <td>0.0</td>\n",
       "      <td>0.0</td>\n",
       "      <td>13.0</td>\n",
       "    </tr>\n",
       "    <tr>\n",
       "      <th>50%</th>\n",
       "      <td>20220528.0</td>\n",
       "      <td>22.0</td>\n",
       "      <td>18095.0</td>\n",
       "      <td>42801.0</td>\n",
       "      <td>18.0</td>\n",
       "      <td>0.0</td>\n",
       "      <td>0.0</td>\n",
       "      <td>18.0</td>\n",
       "      <td>17.219048</td>\n",
       "      <td>0.0</td>\n",
       "      <td>17.381818</td>\n",
       "      <td>18.784314</td>\n",
       "      <td>0.0</td>\n",
       "      <td>0.0</td>\n",
       "      <td>0.0</td>\n",
       "      <td>7.0</td>\n",
       "      <td>0.0</td>\n",
       "      <td>0.0</td>\n",
       "      <td>0.0</td>\n",
       "      <td>15.0</td>\n",
       "    </tr>\n",
       "    <tr>\n",
       "      <th>75%</th>\n",
       "      <td>20220806.0</td>\n",
       "      <td>32.0</td>\n",
       "      <td>18103.0</td>\n",
       "      <td>342600.0</td>\n",
       "      <td>27.0</td>\n",
       "      <td>0.0</td>\n",
       "      <td>2.0</td>\n",
       "      <td>21.0</td>\n",
       "      <td>17.775814</td>\n",
       "      <td>0.0</td>\n",
       "      <td>20.487537</td>\n",
       "      <td>20.147059</td>\n",
       "      <td>0.0</td>\n",
       "      <td>0.0</td>\n",
       "      <td>0.0</td>\n",
       "      <td>20.0</td>\n",
       "      <td>0.0</td>\n",
       "      <td>0.0</td>\n",
       "      <td>0.0</td>\n",
       "      <td>18.0</td>\n",
       "    </tr>\n",
       "    <tr>\n",
       "      <th>max</th>\n",
       "      <td>20220910.0</td>\n",
       "      <td>37.0</td>\n",
       "      <td>18183.0</td>\n",
       "      <td>976400.0</td>\n",
       "      <td>170.0</td>\n",
       "      <td>41.0</td>\n",
       "      <td>78.0</td>\n",
       "      <td>137.0</td>\n",
       "      <td>154.000000</td>\n",
       "      <td>60.0</td>\n",
       "      <td>126.000000</td>\n",
       "      <td>139.000000</td>\n",
       "      <td>49.0</td>\n",
       "      <td>36.0</td>\n",
       "      <td>41.0</td>\n",
       "      <td>163.0</td>\n",
       "      <td>110.0</td>\n",
       "      <td>0.0</td>\n",
       "      <td>74.0</td>\n",
       "      <td>155.0</td>\n",
       "    </tr>\n",
       "  </tbody>\n",
       "</table>\n",
       "</div>"
      ],
      "text/plain": [
       "            timeperiod  week_number    countyfips          tract  \\\n",
       "count          16833.0      16833.0       16833.0        16833.0   \n",
       "mean   20220540.093329    21.329531  18088.919682  211605.900315   \n",
       "std         268.366832    11.618554     41.019467   288715.02492   \n",
       "min         20220101.0          1.0       18001.0          100.0   \n",
       "25%         20220312.0         11.0       18063.0        10100.0   \n",
       "50%         20220528.0         22.0       18095.0        42801.0   \n",
       "75%         20220806.0         32.0       18103.0       342600.0   \n",
       "max         20220910.0         37.0       18183.0       976400.0   \n",
       "\n",
       "       total_claims  edu_8th_or_less  edu_grades_9_11  edu_hs_grad_equiv  \\\n",
       "count       16833.0          16833.0          16833.0            16833.0   \n",
       "mean      22.952712         0.065348         1.340462          18.376879   \n",
       "std       14.583655          1.03561         3.451816           8.139188   \n",
       "min            10.0              0.0              0.0                0.0   \n",
       "25%            14.0              0.0              0.0               14.0   \n",
       "50%            18.0              0.0              0.0               18.0   \n",
       "75%            27.0              0.0              2.0               21.0   \n",
       "max           170.0             41.0             78.0              137.0   \n",
       "\n",
       "        edu_post_hs  edu_unknown  gender_female   gender_male  gender_na  \\\n",
       "count  16833.000000      16833.0   16833.000000  16833.000000    16833.0   \n",
       "mean      16.171548     0.094339      17.669458     18.869913   0.005228   \n",
       "std        5.892916     1.499568       6.761315      6.507586   0.441002   \n",
       "min        0.000000          0.0       0.000000      0.000000        0.0   \n",
       "25%       14.539683          0.0      15.032258     16.550898        0.0   \n",
       "50%       17.219048          0.0      17.381818     18.784314        0.0   \n",
       "75%       17.775814          0.0      20.487537     20.147059        0.0   \n",
       "max      154.000000         60.0     126.000000    139.000000       49.0   \n",
       "\n",
       "       race_amerindian  race_asian  race_black  race_noanswer  \\\n",
       "count          16833.0     16833.0     16833.0        16833.0   \n",
       "mean          0.009921    0.012475   11.101705       0.124161   \n",
       "std           0.469947    0.535979   12.039616       1.947116   \n",
       "min                0.0         0.0         0.0            0.0   \n",
       "25%                0.0         0.0         0.0            0.0   \n",
       "50%                0.0         0.0         7.0            0.0   \n",
       "75%                0.0         0.0        20.0            0.0   \n",
       "max               36.0        41.0       163.0          110.0   \n",
       "\n",
       "       race_hawaiiannative  race_other  race_white  \n",
       "count              16833.0     16833.0     16833.0  \n",
       "mean                   0.0    0.446801   16.257233  \n",
       "std                    0.0     2.40954    7.670217  \n",
       "min                    0.0         0.0         0.0  \n",
       "25%                    0.0         0.0        13.0  \n",
       "50%                    0.0         0.0        15.0  \n",
       "75%                    0.0         0.0        18.0  \n",
       "max                    0.0        74.0       155.0  "
      ]
     },
     "execution_count": 99,
     "metadata": {},
     "output_type": "execute_result"
    }
   ],
   "source": [
    "unemp_data.describe()"
   ]
  },
  {
   "cell_type": "code",
   "execution_count": 100,
   "id": "c6ff655f",
   "metadata": {
    "execution": {
     "iopub.execute_input": "2023-05-10T01:32:03.065211Z",
     "iopub.status.busy": "2023-05-10T01:32:03.065088Z",
     "iopub.status.idle": "2023-05-10T01:32:03.203408Z",
     "shell.execute_reply": "2023-05-10T01:32:03.203076Z"
    }
   },
   "outputs": [
    {
     "ename": "KeyError",
     "evalue": "'uu_id'",
     "output_type": "error",
     "traceback": [
      "\u001b[0;31m---------------------------------------------------------------------------\u001b[0m",
      "\u001b[0;31mKeyError\u001b[0m                                  Traceback (most recent call last)",
      "Cell \u001b[0;32mIn [100], line 1\u001b[0m\n\u001b[0;32m----> 1\u001b[0m tt \u001b[38;5;241m=\u001b[39m \u001b[43mpred_data\u001b[49m\u001b[38;5;241;43m.\u001b[39;49m\u001b[43mmerge\u001b[49m\u001b[43m(\u001b[49m\u001b[43mfin\u001b[49m\u001b[43m,\u001b[49m\u001b[43mhow\u001b[49m\u001b[43m \u001b[49m\u001b[38;5;241;43m=\u001b[39;49m\u001b[43m \u001b[49m\u001b[38;5;124;43m'\u001b[39;49m\u001b[38;5;124;43mleft\u001b[39;49m\u001b[38;5;124;43m'\u001b[39;49m\u001b[43m,\u001b[49m\u001b[43mon\u001b[49m\u001b[38;5;241;43m=\u001b[39;49m\u001b[43m \u001b[49m\u001b[38;5;124;43m'\u001b[39;49m\u001b[38;5;124;43muu_id\u001b[39;49m\u001b[38;5;124;43m'\u001b[39;49m\u001b[43m)\u001b[49m\n\u001b[1;32m      2\u001b[0m tt                     \n",
      "File \u001b[0;32m/opt/homebrew/lib/python3.9/site-packages/pandas/core/frame.py:10080\u001b[0m, in \u001b[0;36mDataFrame.merge\u001b[0;34m(self, right, how, on, left_on, right_on, left_index, right_index, sort, suffixes, copy, indicator, validate)\u001b[0m\n\u001b[1;32m  10061\u001b[0m \u001b[38;5;129m@Substitution\u001b[39m(\u001b[38;5;124m\"\u001b[39m\u001b[38;5;124m\"\u001b[39m)\n\u001b[1;32m  10062\u001b[0m \u001b[38;5;129m@Appender\u001b[39m(_merge_doc, indents\u001b[38;5;241m=\u001b[39m\u001b[38;5;241m2\u001b[39m)\n\u001b[1;32m  10063\u001b[0m \u001b[38;5;28;01mdef\u001b[39;00m \u001b[38;5;21mmerge\u001b[39m(\n\u001b[0;32m   (...)\u001b[0m\n\u001b[1;32m  10076\u001b[0m     validate: \u001b[38;5;28mstr\u001b[39m \u001b[38;5;241m|\u001b[39m \u001b[38;5;28;01mNone\u001b[39;00m \u001b[38;5;241m=\u001b[39m \u001b[38;5;28;01mNone\u001b[39;00m,\n\u001b[1;32m  10077\u001b[0m ) \u001b[38;5;241m-\u001b[39m\u001b[38;5;241m>\u001b[39m DataFrame:\n\u001b[1;32m  10078\u001b[0m     \u001b[38;5;28;01mfrom\u001b[39;00m \u001b[38;5;21;01mpandas\u001b[39;00m\u001b[38;5;21;01m.\u001b[39;00m\u001b[38;5;21;01mcore\u001b[39;00m\u001b[38;5;21;01m.\u001b[39;00m\u001b[38;5;21;01mreshape\u001b[39;00m\u001b[38;5;21;01m.\u001b[39;00m\u001b[38;5;21;01mmerge\u001b[39;00m \u001b[38;5;28;01mimport\u001b[39;00m merge\n\u001b[0;32m> 10080\u001b[0m     \u001b[38;5;28;01mreturn\u001b[39;00m \u001b[43mmerge\u001b[49m\u001b[43m(\u001b[49m\n\u001b[1;32m  10081\u001b[0m \u001b[43m        \u001b[49m\u001b[38;5;28;43mself\u001b[39;49m\u001b[43m,\u001b[49m\n\u001b[1;32m  10082\u001b[0m \u001b[43m        \u001b[49m\u001b[43mright\u001b[49m\u001b[43m,\u001b[49m\n\u001b[1;32m  10083\u001b[0m \u001b[43m        \u001b[49m\u001b[43mhow\u001b[49m\u001b[38;5;241;43m=\u001b[39;49m\u001b[43mhow\u001b[49m\u001b[43m,\u001b[49m\n\u001b[1;32m  10084\u001b[0m \u001b[43m        \u001b[49m\u001b[43mon\u001b[49m\u001b[38;5;241;43m=\u001b[39;49m\u001b[43mon\u001b[49m\u001b[43m,\u001b[49m\n\u001b[1;32m  10085\u001b[0m \u001b[43m        \u001b[49m\u001b[43mleft_on\u001b[49m\u001b[38;5;241;43m=\u001b[39;49m\u001b[43mleft_on\u001b[49m\u001b[43m,\u001b[49m\n\u001b[1;32m  10086\u001b[0m \u001b[43m        \u001b[49m\u001b[43mright_on\u001b[49m\u001b[38;5;241;43m=\u001b[39;49m\u001b[43mright_on\u001b[49m\u001b[43m,\u001b[49m\n\u001b[1;32m  10087\u001b[0m \u001b[43m        \u001b[49m\u001b[43mleft_index\u001b[49m\u001b[38;5;241;43m=\u001b[39;49m\u001b[43mleft_index\u001b[49m\u001b[43m,\u001b[49m\n\u001b[1;32m  10088\u001b[0m \u001b[43m        \u001b[49m\u001b[43mright_index\u001b[49m\u001b[38;5;241;43m=\u001b[39;49m\u001b[43mright_index\u001b[49m\u001b[43m,\u001b[49m\n\u001b[1;32m  10089\u001b[0m \u001b[43m        \u001b[49m\u001b[43msort\u001b[49m\u001b[38;5;241;43m=\u001b[39;49m\u001b[43msort\u001b[49m\u001b[43m,\u001b[49m\n\u001b[1;32m  10090\u001b[0m \u001b[43m        \u001b[49m\u001b[43msuffixes\u001b[49m\u001b[38;5;241;43m=\u001b[39;49m\u001b[43msuffixes\u001b[49m\u001b[43m,\u001b[49m\n\u001b[1;32m  10091\u001b[0m \u001b[43m        \u001b[49m\u001b[43mcopy\u001b[49m\u001b[38;5;241;43m=\u001b[39;49m\u001b[43mcopy\u001b[49m\u001b[43m,\u001b[49m\n\u001b[1;32m  10092\u001b[0m \u001b[43m        \u001b[49m\u001b[43mindicator\u001b[49m\u001b[38;5;241;43m=\u001b[39;49m\u001b[43mindicator\u001b[49m\u001b[43m,\u001b[49m\n\u001b[1;32m  10093\u001b[0m \u001b[43m        \u001b[49m\u001b[43mvalidate\u001b[49m\u001b[38;5;241;43m=\u001b[39;49m\u001b[43mvalidate\u001b[49m\u001b[43m,\u001b[49m\n\u001b[1;32m  10094\u001b[0m \u001b[43m    \u001b[49m\u001b[43m)\u001b[49m\n",
      "File \u001b[0;32m/opt/homebrew/lib/python3.9/site-packages/pandas/core/reshape/merge.py:110\u001b[0m, in \u001b[0;36mmerge\u001b[0;34m(left, right, how, on, left_on, right_on, left_index, right_index, sort, suffixes, copy, indicator, validate)\u001b[0m\n\u001b[1;32m     93\u001b[0m \u001b[38;5;129m@Substitution\u001b[39m(\u001b[38;5;124m\"\u001b[39m\u001b[38;5;130;01m\\n\u001b[39;00m\u001b[38;5;124mleft : DataFrame or named Series\u001b[39m\u001b[38;5;124m\"\u001b[39m)\n\u001b[1;32m     94\u001b[0m \u001b[38;5;129m@Appender\u001b[39m(_merge_doc, indents\u001b[38;5;241m=\u001b[39m\u001b[38;5;241m0\u001b[39m)\n\u001b[1;32m     95\u001b[0m \u001b[38;5;28;01mdef\u001b[39;00m \u001b[38;5;21mmerge\u001b[39m(\n\u001b[0;32m   (...)\u001b[0m\n\u001b[1;32m    108\u001b[0m     validate: \u001b[38;5;28mstr\u001b[39m \u001b[38;5;241m|\u001b[39m \u001b[38;5;28;01mNone\u001b[39;00m \u001b[38;5;241m=\u001b[39m \u001b[38;5;28;01mNone\u001b[39;00m,\n\u001b[1;32m    109\u001b[0m ) \u001b[38;5;241m-\u001b[39m\u001b[38;5;241m>\u001b[39m DataFrame:\n\u001b[0;32m--> 110\u001b[0m     op \u001b[38;5;241m=\u001b[39m \u001b[43m_MergeOperation\u001b[49m\u001b[43m(\u001b[49m\n\u001b[1;32m    111\u001b[0m \u001b[43m        \u001b[49m\u001b[43mleft\u001b[49m\u001b[43m,\u001b[49m\n\u001b[1;32m    112\u001b[0m \u001b[43m        \u001b[49m\u001b[43mright\u001b[49m\u001b[43m,\u001b[49m\n\u001b[1;32m    113\u001b[0m \u001b[43m        \u001b[49m\u001b[43mhow\u001b[49m\u001b[38;5;241;43m=\u001b[39;49m\u001b[43mhow\u001b[49m\u001b[43m,\u001b[49m\n\u001b[1;32m    114\u001b[0m \u001b[43m        \u001b[49m\u001b[43mon\u001b[49m\u001b[38;5;241;43m=\u001b[39;49m\u001b[43mon\u001b[49m\u001b[43m,\u001b[49m\n\u001b[1;32m    115\u001b[0m \u001b[43m        \u001b[49m\u001b[43mleft_on\u001b[49m\u001b[38;5;241;43m=\u001b[39;49m\u001b[43mleft_on\u001b[49m\u001b[43m,\u001b[49m\n\u001b[1;32m    116\u001b[0m \u001b[43m        \u001b[49m\u001b[43mright_on\u001b[49m\u001b[38;5;241;43m=\u001b[39;49m\u001b[43mright_on\u001b[49m\u001b[43m,\u001b[49m\n\u001b[1;32m    117\u001b[0m \u001b[43m        \u001b[49m\u001b[43mleft_index\u001b[49m\u001b[38;5;241;43m=\u001b[39;49m\u001b[43mleft_index\u001b[49m\u001b[43m,\u001b[49m\n\u001b[1;32m    118\u001b[0m \u001b[43m        \u001b[49m\u001b[43mright_index\u001b[49m\u001b[38;5;241;43m=\u001b[39;49m\u001b[43mright_index\u001b[49m\u001b[43m,\u001b[49m\n\u001b[1;32m    119\u001b[0m \u001b[43m        \u001b[49m\u001b[43msort\u001b[49m\u001b[38;5;241;43m=\u001b[39;49m\u001b[43msort\u001b[49m\u001b[43m,\u001b[49m\n\u001b[1;32m    120\u001b[0m \u001b[43m        \u001b[49m\u001b[43msuffixes\u001b[49m\u001b[38;5;241;43m=\u001b[39;49m\u001b[43msuffixes\u001b[49m\u001b[43m,\u001b[49m\n\u001b[1;32m    121\u001b[0m \u001b[43m        \u001b[49m\u001b[43mindicator\u001b[49m\u001b[38;5;241;43m=\u001b[39;49m\u001b[43mindicator\u001b[49m\u001b[43m,\u001b[49m\n\u001b[1;32m    122\u001b[0m \u001b[43m        \u001b[49m\u001b[43mvalidate\u001b[49m\u001b[38;5;241;43m=\u001b[39;49m\u001b[43mvalidate\u001b[49m\u001b[43m,\u001b[49m\n\u001b[1;32m    123\u001b[0m \u001b[43m    \u001b[49m\u001b[43m)\u001b[49m\n\u001b[1;32m    124\u001b[0m     \u001b[38;5;28;01mreturn\u001b[39;00m op\u001b[38;5;241m.\u001b[39mget_result(copy\u001b[38;5;241m=\u001b[39mcopy)\n",
      "File \u001b[0;32m/opt/homebrew/lib/python3.9/site-packages/pandas/core/reshape/merge.py:703\u001b[0m, in \u001b[0;36m_MergeOperation.__init__\u001b[0;34m(self, left, right, how, on, left_on, right_on, axis, left_index, right_index, sort, suffixes, indicator, validate)\u001b[0m\n\u001b[1;32m    696\u001b[0m \u001b[38;5;28mself\u001b[39m\u001b[38;5;241m.\u001b[39m_cross \u001b[38;5;241m=\u001b[39m cross_col\n\u001b[1;32m    698\u001b[0m \u001b[38;5;66;03m# note this function has side effects\u001b[39;00m\n\u001b[1;32m    699\u001b[0m (\n\u001b[1;32m    700\u001b[0m     \u001b[38;5;28mself\u001b[39m\u001b[38;5;241m.\u001b[39mleft_join_keys,\n\u001b[1;32m    701\u001b[0m     \u001b[38;5;28mself\u001b[39m\u001b[38;5;241m.\u001b[39mright_join_keys,\n\u001b[1;32m    702\u001b[0m     \u001b[38;5;28mself\u001b[39m\u001b[38;5;241m.\u001b[39mjoin_names,\n\u001b[0;32m--> 703\u001b[0m ) \u001b[38;5;241m=\u001b[39m \u001b[38;5;28;43mself\u001b[39;49m\u001b[38;5;241;43m.\u001b[39;49m\u001b[43m_get_merge_keys\u001b[49m\u001b[43m(\u001b[49m\u001b[43m)\u001b[49m\n\u001b[1;32m    705\u001b[0m \u001b[38;5;66;03m# validate the merge keys dtypes. We may need to coerce\u001b[39;00m\n\u001b[1;32m    706\u001b[0m \u001b[38;5;66;03m# to avoid incompatible dtypes\u001b[39;00m\n\u001b[1;32m    707\u001b[0m \u001b[38;5;28mself\u001b[39m\u001b[38;5;241m.\u001b[39m_maybe_coerce_merge_keys()\n",
      "File \u001b[0;32m/opt/homebrew/lib/python3.9/site-packages/pandas/core/reshape/merge.py:1162\u001b[0m, in \u001b[0;36m_MergeOperation._get_merge_keys\u001b[0;34m(self)\u001b[0m\n\u001b[1;32m   1160\u001b[0m rk \u001b[38;5;241m=\u001b[39m cast(Hashable, rk)\n\u001b[1;32m   1161\u001b[0m \u001b[38;5;28;01mif\u001b[39;00m rk \u001b[38;5;129;01mis\u001b[39;00m \u001b[38;5;129;01mnot\u001b[39;00m \u001b[38;5;28;01mNone\u001b[39;00m:\n\u001b[0;32m-> 1162\u001b[0m     right_keys\u001b[38;5;241m.\u001b[39mappend(\u001b[43mright\u001b[49m\u001b[38;5;241;43m.\u001b[39;49m\u001b[43m_get_label_or_level_values\u001b[49m\u001b[43m(\u001b[49m\u001b[43mrk\u001b[49m\u001b[43m)\u001b[49m)\n\u001b[1;32m   1163\u001b[0m \u001b[38;5;28;01melse\u001b[39;00m:\n\u001b[1;32m   1164\u001b[0m     \u001b[38;5;66;03m# work-around for merge_asof(right_index=True)\u001b[39;00m\n\u001b[1;32m   1165\u001b[0m     right_keys\u001b[38;5;241m.\u001b[39mappend(right\u001b[38;5;241m.\u001b[39mindex)\n",
      "File \u001b[0;32m/opt/homebrew/lib/python3.9/site-packages/pandas/core/generic.py:1850\u001b[0m, in \u001b[0;36mNDFrame._get_label_or_level_values\u001b[0;34m(self, key, axis)\u001b[0m\n\u001b[1;32m   1844\u001b[0m     values \u001b[38;5;241m=\u001b[39m (\n\u001b[1;32m   1845\u001b[0m         \u001b[38;5;28mself\u001b[39m\u001b[38;5;241m.\u001b[39maxes[axis]\n\u001b[1;32m   1846\u001b[0m         \u001b[38;5;241m.\u001b[39mget_level_values(key)  \u001b[38;5;66;03m# type: ignore[assignment]\u001b[39;00m\n\u001b[1;32m   1847\u001b[0m         \u001b[38;5;241m.\u001b[39m_values\n\u001b[1;32m   1848\u001b[0m     )\n\u001b[1;32m   1849\u001b[0m \u001b[38;5;28;01melse\u001b[39;00m:\n\u001b[0;32m-> 1850\u001b[0m     \u001b[38;5;28;01mraise\u001b[39;00m \u001b[38;5;167;01mKeyError\u001b[39;00m(key)\n\u001b[1;32m   1852\u001b[0m \u001b[38;5;66;03m# Check for duplicates\u001b[39;00m\n\u001b[1;32m   1853\u001b[0m \u001b[38;5;28;01mif\u001b[39;00m values\u001b[38;5;241m.\u001b[39mndim \u001b[38;5;241m>\u001b[39m \u001b[38;5;241m1\u001b[39m:\n",
      "\u001b[0;31mKeyError\u001b[0m: 'uu_id'"
     ]
    }
   ],
   "source": [
    "tt = pred_data.merge(fin,how = 'left',on= 'uu_id')\n",
    "tt                     "
   ]
  },
  {
   "cell_type": "code",
   "execution_count": 101,
   "id": "95bb6d31",
   "metadata": {
    "execution": {
     "iopub.execute_input": "2023-05-10T01:32:03.205017Z",
     "iopub.status.busy": "2023-05-10T01:32:03.204909Z",
     "iopub.status.idle": "2023-05-10T01:32:03.212077Z",
     "shell.execute_reply": "2023-05-10T01:32:03.211759Z"
    }
   },
   "outputs": [
    {
     "ename": "TypeError",
     "evalue": "merge() got an unexpected keyword argument 'final_data'",
     "output_type": "error",
     "traceback": [
      "\u001b[0;31m---------------------------------------------------------------------------\u001b[0m",
      "\u001b[0;31mTypeError\u001b[0m                                 Traceback (most recent call last)",
      "Cell \u001b[0;32mIn [101], line 1\u001b[0m\n\u001b[0;32m----> 1\u001b[0m tt \u001b[38;5;241m=\u001b[39m \u001b[43mpred_data\u001b[49m\u001b[38;5;241;43m.\u001b[39;49m\u001b[43mmerge\u001b[49m\u001b[43m(\u001b[49m\u001b[43mfin\u001b[49m\u001b[43m,\u001b[49m\u001b[43mhow\u001b[49m\u001b[43m \u001b[49m\u001b[38;5;241;43m=\u001b[39;49m\u001b[43m \u001b[49m\u001b[38;5;124;43m'\u001b[39;49m\u001b[38;5;124;43mleft\u001b[39;49m\u001b[38;5;124;43m'\u001b[39;49m\u001b[43m,\u001b[49m\u001b[43m \u001b[49m\u001b[43mfinal_data\u001b[49m\u001b[38;5;241;43m=\u001b[39;49m\u001b[43m \u001b[49m\u001b[38;5;124;43m'\u001b[39;49m\u001b[38;5;124;43muu_id\u001b[39;49m\u001b[38;5;124;43m'\u001b[39;49m\u001b[43m)\u001b[49m\n\u001b[1;32m      2\u001b[0m tt                     \n",
      "\u001b[0;31mTypeError\u001b[0m: merge() got an unexpected keyword argument 'final_data'"
     ]
    }
   ],
   "source": [
    "tt = pred_data.merge(fin,how = 'left', final_data= 'uu_id')\n",
    "tt                     "
   ]
  },
  {
   "cell_type": "code",
   "execution_count": 102,
   "id": "d8d06f66",
   "metadata": {
    "execution": {
     "iopub.execute_input": "2023-05-10T01:32:03.214089Z",
     "iopub.status.busy": "2023-05-10T01:32:03.213940Z",
     "iopub.status.idle": "2023-05-10T01:32:03.237074Z",
     "shell.execute_reply": "2023-05-10T01:32:03.236740Z"
    }
   },
   "outputs": [
    {
     "data": {
      "text/html": [
       "<div>\n",
       "<style scoped>\n",
       "    .dataframe tbody tr th:only-of-type {\n",
       "        vertical-align: middle;\n",
       "    }\n",
       "\n",
       "    .dataframe tbody tr th {\n",
       "        vertical-align: top;\n",
       "    }\n",
       "\n",
       "    .dataframe thead th {\n",
       "        text-align: right;\n",
       "    }\n",
       "</style>\n",
       "<table border=\"1\" class=\"dataframe\">\n",
       "  <thead>\n",
       "    <tr style=\"text-align: right;\">\n",
       "      <th></th>\n",
       "      <th>uu_id</th>\n",
       "      <th>week_number_x</th>\n",
       "      <th>timeperiod</th>\n",
       "      <th>week_number_y</th>\n",
       "      <th>countyfips_x</th>\n",
       "      <th>tract_x</th>\n",
       "      <th>tract_name_x</th>\n",
       "      <th>total_claims</th>\n",
       "      <th>edu_8th_or_less</th>\n",
       "      <th>edu_grades_9_11</th>\n",
       "      <th>...</th>\n",
       "      <th>race_asian</th>\n",
       "      <th>race_black</th>\n",
       "      <th>race_noanswer</th>\n",
       "      <th>race_hawaiiannative</th>\n",
       "      <th>race_other</th>\n",
       "      <th>race_white</th>\n",
       "      <th>countyfips_y</th>\n",
       "      <th>tract_y</th>\n",
       "      <th>tract_name_y</th>\n",
       "      <th>average_wage</th>\n",
       "    </tr>\n",
       "  </thead>\n",
       "  <tbody>\n",
       "    <tr>\n",
       "      <th>0</th>\n",
       "      <td>5bf51fc2e162d6faf9e3cf79e4198378</td>\n",
       "      <td>44</td>\n",
       "      <td>20220625</td>\n",
       "      <td>26</td>\n",
       "      <td>18103</td>\n",
       "      <td>952800</td>\n",
       "      <td>Census Tract 9528, Miami County, Indiana</td>\n",
       "      <td>20</td>\n",
       "      <td>0</td>\n",
       "      <td>0</td>\n",
       "      <td>...</td>\n",
       "      <td>0</td>\n",
       "      <td>0</td>\n",
       "      <td>0</td>\n",
       "      <td>0</td>\n",
       "      <td>0</td>\n",
       "      <td>15</td>\n",
       "      <td>18103</td>\n",
       "      <td>952800</td>\n",
       "      <td>Census Tract 9528, Miami County, Indiana</td>\n",
       "      <td>5008.5</td>\n",
       "    </tr>\n",
       "    <tr>\n",
       "      <th>1</th>\n",
       "      <td>5bf51fc2e162d6faf9e3cf79e4198378</td>\n",
       "      <td>44</td>\n",
       "      <td>20220820</td>\n",
       "      <td>34</td>\n",
       "      <td>18103</td>\n",
       "      <td>952800</td>\n",
       "      <td>Census Tract 9528, Miami County, Indiana</td>\n",
       "      <td>11</td>\n",
       "      <td>0</td>\n",
       "      <td>0</td>\n",
       "      <td>...</td>\n",
       "      <td>0</td>\n",
       "      <td>0</td>\n",
       "      <td>0</td>\n",
       "      <td>0</td>\n",
       "      <td>0</td>\n",
       "      <td>15</td>\n",
       "      <td>18103</td>\n",
       "      <td>952800</td>\n",
       "      <td>Census Tract 9528, Miami County, Indiana</td>\n",
       "      <td>5008.5</td>\n",
       "    </tr>\n",
       "    <tr>\n",
       "      <th>2</th>\n",
       "      <td>5bf51fc2e162d6faf9e3cf79e4198378</td>\n",
       "      <td>44</td>\n",
       "      <td>20220820</td>\n",
       "      <td>34</td>\n",
       "      <td>18103</td>\n",
       "      <td>952800</td>\n",
       "      <td>Census Tract 9528, Miami County, Indiana</td>\n",
       "      <td>11</td>\n",
       "      <td>0</td>\n",
       "      <td>0</td>\n",
       "      <td>...</td>\n",
       "      <td>0</td>\n",
       "      <td>0</td>\n",
       "      <td>0</td>\n",
       "      <td>0</td>\n",
       "      <td>0</td>\n",
       "      <td>15</td>\n",
       "      <td>18103</td>\n",
       "      <td>952800</td>\n",
       "      <td>Census Tract 9528, Miami County, Indiana</td>\n",
       "      <td>5008.5</td>\n",
       "    </tr>\n",
       "    <tr>\n",
       "      <th>3</th>\n",
       "      <td>5bf51fc2e162d6faf9e3cf79e4198378</td>\n",
       "      <td>44</td>\n",
       "      <td>20220827</td>\n",
       "      <td>35</td>\n",
       "      <td>18103</td>\n",
       "      <td>952800</td>\n",
       "      <td>Census Tract 9528, Miami County, Indiana</td>\n",
       "      <td>20</td>\n",
       "      <td>0</td>\n",
       "      <td>0</td>\n",
       "      <td>...</td>\n",
       "      <td>0</td>\n",
       "      <td>0</td>\n",
       "      <td>0</td>\n",
       "      <td>0</td>\n",
       "      <td>0</td>\n",
       "      <td>15</td>\n",
       "      <td>18103</td>\n",
       "      <td>952800</td>\n",
       "      <td>Census Tract 9528, Miami County, Indiana</td>\n",
       "      <td>5008.5</td>\n",
       "    </tr>\n",
       "    <tr>\n",
       "      <th>4</th>\n",
       "      <td>5bf51fc2e162d6faf9e3cf79e4198378</td>\n",
       "      <td>44</td>\n",
       "      <td>20220827</td>\n",
       "      <td>35</td>\n",
       "      <td>18103</td>\n",
       "      <td>952800</td>\n",
       "      <td>Census Tract 9528, Miami County, Indiana</td>\n",
       "      <td>20</td>\n",
       "      <td>0</td>\n",
       "      <td>0</td>\n",
       "      <td>...</td>\n",
       "      <td>0</td>\n",
       "      <td>0</td>\n",
       "      <td>0</td>\n",
       "      <td>0</td>\n",
       "      <td>0</td>\n",
       "      <td>15</td>\n",
       "      <td>18103</td>\n",
       "      <td>952800</td>\n",
       "      <td>Census Tract 9528, Miami County, Indiana</td>\n",
       "      <td>5008.5</td>\n",
       "    </tr>\n",
       "    <tr>\n",
       "      <th>...</th>\n",
       "      <td>...</td>\n",
       "      <td>...</td>\n",
       "      <td>...</td>\n",
       "      <td>...</td>\n",
       "      <td>...</td>\n",
       "      <td>...</td>\n",
       "      <td>...</td>\n",
       "      <td>...</td>\n",
       "      <td>...</td>\n",
       "      <td>...</td>\n",
       "      <td>...</td>\n",
       "      <td>...</td>\n",
       "      <td>...</td>\n",
       "      <td>...</td>\n",
       "      <td>...</td>\n",
       "      <td>...</td>\n",
       "      <td>...</td>\n",
       "      <td>...</td>\n",
       "      <td>...</td>\n",
       "      <td>...</td>\n",
       "      <td>...</td>\n",
       "    </tr>\n",
       "    <tr>\n",
       "      <th>16828</th>\n",
       "      <td>932a58530abff8a48558e2a15639d453</td>\n",
       "      <td>44</td>\n",
       "      <td>20220813</td>\n",
       "      <td>33</td>\n",
       "      <td>18091</td>\n",
       "      <td>41500</td>\n",
       "      <td>Census Tract 415, LaPorte County, Indiana</td>\n",
       "      <td>17</td>\n",
       "      <td>0</td>\n",
       "      <td>0</td>\n",
       "      <td>...</td>\n",
       "      <td>0</td>\n",
       "      <td>0</td>\n",
       "      <td>0</td>\n",
       "      <td>0</td>\n",
       "      <td>0</td>\n",
       "      <td>17</td>\n",
       "      <td>18091</td>\n",
       "      <td>41500</td>\n",
       "      <td>Census Tract 415, LaPorte County, Indiana</td>\n",
       "      <td>8306.0</td>\n",
       "    </tr>\n",
       "    <tr>\n",
       "      <th>16829</th>\n",
       "      <td>932a58530abff8a48558e2a15639d453</td>\n",
       "      <td>44</td>\n",
       "      <td>20220507</td>\n",
       "      <td>19</td>\n",
       "      <td>18091</td>\n",
       "      <td>41500</td>\n",
       "      <td>Census Tract 415, LaPorte County, Indiana</td>\n",
       "      <td>11</td>\n",
       "      <td>0</td>\n",
       "      <td>0</td>\n",
       "      <td>...</td>\n",
       "      <td>0</td>\n",
       "      <td>0</td>\n",
       "      <td>0</td>\n",
       "      <td>0</td>\n",
       "      <td>0</td>\n",
       "      <td>17</td>\n",
       "      <td>18091</td>\n",
       "      <td>41500</td>\n",
       "      <td>Census Tract 415, LaPorte County, Indiana</td>\n",
       "      <td>8306.0</td>\n",
       "    </tr>\n",
       "    <tr>\n",
       "      <th>16830</th>\n",
       "      <td>932a58530abff8a48558e2a15639d453</td>\n",
       "      <td>44</td>\n",
       "      <td>20220716</td>\n",
       "      <td>29</td>\n",
       "      <td>18091</td>\n",
       "      <td>41500</td>\n",
       "      <td>Census Tract 415, LaPorte County, Indiana</td>\n",
       "      <td>25</td>\n",
       "      <td>0</td>\n",
       "      <td>15</td>\n",
       "      <td>...</td>\n",
       "      <td>0</td>\n",
       "      <td>0</td>\n",
       "      <td>0</td>\n",
       "      <td>0</td>\n",
       "      <td>0</td>\n",
       "      <td>17</td>\n",
       "      <td>18091</td>\n",
       "      <td>41500</td>\n",
       "      <td>Census Tract 415, LaPorte County, Indiana</td>\n",
       "      <td>8306.0</td>\n",
       "    </tr>\n",
       "    <tr>\n",
       "      <th>16831</th>\n",
       "      <td>932a58530abff8a48558e2a15639d453</td>\n",
       "      <td>44</td>\n",
       "      <td>20220409</td>\n",
       "      <td>15</td>\n",
       "      <td>18091</td>\n",
       "      <td>41500</td>\n",
       "      <td>Census Tract 415, LaPorte County, Indiana</td>\n",
       "      <td>13</td>\n",
       "      <td>0</td>\n",
       "      <td>0</td>\n",
       "      <td>...</td>\n",
       "      <td>0</td>\n",
       "      <td>7</td>\n",
       "      <td>0</td>\n",
       "      <td>0</td>\n",
       "      <td>0</td>\n",
       "      <td>17</td>\n",
       "      <td>18091</td>\n",
       "      <td>41500</td>\n",
       "      <td>Census Tract 415, LaPorte County, Indiana</td>\n",
       "      <td>8306.0</td>\n",
       "    </tr>\n",
       "    <tr>\n",
       "      <th>16832</th>\n",
       "      <td>932a58530abff8a48558e2a15639d453</td>\n",
       "      <td>44</td>\n",
       "      <td>20220430</td>\n",
       "      <td>18</td>\n",
       "      <td>18091</td>\n",
       "      <td>41500</td>\n",
       "      <td>Census Tract 415, LaPorte County, Indiana</td>\n",
       "      <td>30</td>\n",
       "      <td>0</td>\n",
       "      <td>0</td>\n",
       "      <td>...</td>\n",
       "      <td>0</td>\n",
       "      <td>7</td>\n",
       "      <td>0</td>\n",
       "      <td>0</td>\n",
       "      <td>0</td>\n",
       "      <td>26</td>\n",
       "      <td>18091</td>\n",
       "      <td>41500</td>\n",
       "      <td>Census Tract 415, LaPorte County, Indiana</td>\n",
       "      <td>8306.0</td>\n",
       "    </tr>\n",
       "  </tbody>\n",
       "</table>\n",
       "<p>16833 rows × 30 columns</p>\n",
       "</div>"
      ],
      "text/plain": [
       "                                  uu_id  week_number_x  timeperiod  \\\n",
       "0      5bf51fc2e162d6faf9e3cf79e4198378             44    20220625   \n",
       "1      5bf51fc2e162d6faf9e3cf79e4198378             44    20220820   \n",
       "2      5bf51fc2e162d6faf9e3cf79e4198378             44    20220820   \n",
       "3      5bf51fc2e162d6faf9e3cf79e4198378             44    20220827   \n",
       "4      5bf51fc2e162d6faf9e3cf79e4198378             44    20220827   \n",
       "...                                 ...            ...         ...   \n",
       "16828  932a58530abff8a48558e2a15639d453             44    20220813   \n",
       "16829  932a58530abff8a48558e2a15639d453             44    20220507   \n",
       "16830  932a58530abff8a48558e2a15639d453             44    20220716   \n",
       "16831  932a58530abff8a48558e2a15639d453             44    20220409   \n",
       "16832  932a58530abff8a48558e2a15639d453             44    20220430   \n",
       "\n",
       "       week_number_y  countyfips_x  tract_x  \\\n",
       "0                 26         18103   952800   \n",
       "1                 34         18103   952800   \n",
       "2                 34         18103   952800   \n",
       "3                 35         18103   952800   \n",
       "4                 35         18103   952800   \n",
       "...              ...           ...      ...   \n",
       "16828             33         18091    41500   \n",
       "16829             19         18091    41500   \n",
       "16830             29         18091    41500   \n",
       "16831             15         18091    41500   \n",
       "16832             18         18091    41500   \n",
       "\n",
       "                                    tract_name_x  total_claims  \\\n",
       "0       Census Tract 9528, Miami County, Indiana            20   \n",
       "1       Census Tract 9528, Miami County, Indiana            11   \n",
       "2       Census Tract 9528, Miami County, Indiana            11   \n",
       "3       Census Tract 9528, Miami County, Indiana            20   \n",
       "4       Census Tract 9528, Miami County, Indiana            20   \n",
       "...                                          ...           ...   \n",
       "16828  Census Tract 415, LaPorte County, Indiana            17   \n",
       "16829  Census Tract 415, LaPorte County, Indiana            11   \n",
       "16830  Census Tract 415, LaPorte County, Indiana            25   \n",
       "16831  Census Tract 415, LaPorte County, Indiana            13   \n",
       "16832  Census Tract 415, LaPorte County, Indiana            30   \n",
       "\n",
       "       edu_8th_or_less  edu_grades_9_11  ...  race_asian  race_black  \\\n",
       "0                    0                0  ...           0           0   \n",
       "1                    0                0  ...           0           0   \n",
       "2                    0                0  ...           0           0   \n",
       "3                    0                0  ...           0           0   \n",
       "4                    0                0  ...           0           0   \n",
       "...                ...              ...  ...         ...         ...   \n",
       "16828                0                0  ...           0           0   \n",
       "16829                0                0  ...           0           0   \n",
       "16830                0               15  ...           0           0   \n",
       "16831                0                0  ...           0           7   \n",
       "16832                0                0  ...           0           7   \n",
       "\n",
       "       race_noanswer race_hawaiiannative race_other race_white  countyfips_y  \\\n",
       "0                  0                   0          0         15         18103   \n",
       "1                  0                   0          0         15         18103   \n",
       "2                  0                   0          0         15         18103   \n",
       "3                  0                   0          0         15         18103   \n",
       "4                  0                   0          0         15         18103   \n",
       "...              ...                 ...        ...        ...           ...   \n",
       "16828              0                   0          0         17         18091   \n",
       "16829              0                   0          0         17         18091   \n",
       "16830              0                   0          0         17         18091   \n",
       "16831              0                   0          0         17         18091   \n",
       "16832              0                   0          0         26         18091   \n",
       "\n",
       "       tract_y                               tract_name_y  average_wage  \n",
       "0       952800   Census Tract 9528, Miami County, Indiana        5008.5  \n",
       "1       952800   Census Tract 9528, Miami County, Indiana        5008.5  \n",
       "2       952800   Census Tract 9528, Miami County, Indiana        5008.5  \n",
       "3       952800   Census Tract 9528, Miami County, Indiana        5008.5  \n",
       "4       952800   Census Tract 9528, Miami County, Indiana        5008.5  \n",
       "...        ...                                        ...           ...  \n",
       "16828    41500  Census Tract 415, LaPorte County, Indiana        8306.0  \n",
       "16829    41500  Census Tract 415, LaPorte County, Indiana        8306.0  \n",
       "16830    41500  Census Tract 415, LaPorte County, Indiana        8306.0  \n",
       "16831    41500  Census Tract 415, LaPorte County, Indiana        8306.0  \n",
       "16832    41500  Census Tract 415, LaPorte County, Indiana        8306.0  \n",
       "\n",
       "[16833 rows x 30 columns]"
      ]
     },
     "execution_count": 102,
     "metadata": {},
     "output_type": "execute_result"
    }
   ],
   "source": [
    "tt = pred_data.merge(final_data,how = 'left', on= 'uu_id')\n",
    "tt                     "
   ]
  },
  {
   "cell_type": "code",
   "execution_count": 103,
   "id": "ce0e614c",
   "metadata": {
    "execution": {
     "iopub.execute_input": "2023-05-10T01:32:03.238743Z",
     "iopub.status.busy": "2023-05-10T01:32:03.238618Z",
     "iopub.status.idle": "2023-05-10T01:32:03.241688Z",
     "shell.execute_reply": "2023-05-10T01:32:03.241354Z"
    }
   },
   "outputs": [],
   "source": [
    "final_data1 = final_data.drop(['timeperiod','tract_x','tract_name_x','tract_y','tract_name_y','countyfips_y'],axis=1)"
   ]
  },
  {
   "cell_type": "code",
   "execution_count": 104,
   "id": "686aee36",
   "metadata": {
    "execution": {
     "iopub.execute_input": "2023-05-10T01:32:03.243297Z",
     "iopub.status.busy": "2023-05-10T01:32:03.243188Z",
     "iopub.status.idle": "2023-05-10T01:32:03.247289Z",
     "shell.execute_reply": "2023-05-10T01:32:03.246952Z"
    }
   },
   "outputs": [],
   "source": [
    "fin = final_data1.set_index('uu_id')"
   ]
  },
  {
   "cell_type": "code",
   "execution_count": 105,
   "id": "15d36c22",
   "metadata": {
    "execution": {
     "iopub.execute_input": "2023-05-10T01:32:03.249227Z",
     "iopub.status.busy": "2023-05-10T01:32:03.249088Z",
     "iopub.status.idle": "2023-05-10T01:32:03.261832Z",
     "shell.execute_reply": "2023-05-10T01:32:03.261472Z"
    }
   },
   "outputs": [],
   "source": [
    "fin = pd.get_dummies(final_data1,columns = ['week_number','countyfips_x','top_category_employer1','top_category_employer2','top_category_employer3'])"
   ]
  },
  {
   "cell_type": "code",
   "execution_count": 106,
   "id": "908a1b58",
   "metadata": {
    "execution": {
     "iopub.execute_input": "2023-05-10T01:32:03.263826Z",
     "iopub.status.busy": "2023-05-10T01:32:03.263665Z",
     "iopub.status.idle": "2023-05-10T01:32:03.266094Z",
     "shell.execute_reply": "2023-05-10T01:32:03.265812Z"
    }
   },
   "outputs": [
    {
     "data": {
      "text/plain": [
       "(16833, 176)"
      ]
     },
     "execution_count": 106,
     "metadata": {},
     "output_type": "execute_result"
    }
   ],
   "source": [
    "fin.shape"
   ]
  },
  {
   "cell_type": "code",
   "execution_count": 107,
   "id": "df8da943",
   "metadata": {
    "execution": {
     "iopub.execute_input": "2023-05-10T01:32:03.267563Z",
     "iopub.status.busy": "2023-05-10T01:32:03.267449Z",
     "iopub.status.idle": "2023-05-10T01:32:03.270625Z",
     "shell.execute_reply": "2023-05-10T01:32:03.270378Z"
    }
   },
   "outputs": [],
   "source": [
    "X = fin.drop(['total_claims'],axis=1)\n",
    "Y = fin['total_claims']"
   ]
  },
  {
   "cell_type": "code",
   "execution_count": 108,
   "id": "c10499c3",
   "metadata": {
    "execution": {
     "iopub.execute_input": "2023-05-10T01:32:03.271991Z",
     "iopub.status.busy": "2023-05-10T01:32:03.271908Z",
     "iopub.status.idle": "2023-05-10T01:32:03.282704Z",
     "shell.execute_reply": "2023-05-10T01:32:03.282417Z"
    }
   },
   "outputs": [],
   "source": [
    "from sklearn.model_selection import train_test_split\n",
    "from sklearn.linear_model import LinearRegression\n",
    "X_train, X_test,Y_train, Y_test = train_test_split(X,Y,test_size = 0.2, random_state=32)"
   ]
  },
  {
   "cell_type": "code",
   "execution_count": 109,
   "id": "0cd0f2cf",
   "metadata": {
    "execution": {
     "iopub.execute_input": "2023-05-10T01:32:03.284532Z",
     "iopub.status.busy": "2023-05-10T01:32:03.284436Z",
     "iopub.status.idle": "2023-05-10T01:32:03.495852Z",
     "shell.execute_reply": "2023-05-10T01:32:03.495344Z"
    }
   },
   "outputs": [
    {
     "ename": "ValueError",
     "evalue": "DataFrame.dtypes for data must be int, float, bool or category. When categorical type is supplied, The experimental DMatrix parameter`enable_categorical` must be set to `True`.  Invalid columns:uu_id: object",
     "output_type": "error",
     "traceback": [
      "\u001b[0;31m---------------------------------------------------------------------------\u001b[0m",
      "\u001b[0;31mValueError\u001b[0m                                Traceback (most recent call last)",
      "Cell \u001b[0;32mIn [109], line 2\u001b[0m\n\u001b[1;32m      1\u001b[0m \u001b[38;5;28;01mimport\u001b[39;00m \u001b[38;5;21;01mxgboost\u001b[39;00m \u001b[38;5;28;01mas\u001b[39;00m \u001b[38;5;21;01mxgb\u001b[39;00m\n\u001b[0;32m----> 2\u001b[0m model \u001b[38;5;241m=\u001b[39m \u001b[43mxgb\u001b[49m\u001b[38;5;241;43m.\u001b[39;49m\u001b[43mXGBRegressor\u001b[49m\u001b[43m(\u001b[49m\u001b[43mn_estimators\u001b[49m\u001b[38;5;241;43m=\u001b[39;49m\u001b[38;5;241;43m500\u001b[39;49m\u001b[43m,\u001b[49m\u001b[43m \u001b[49m\u001b[43mmax_depth\u001b[49m\u001b[38;5;241;43m=\u001b[39;49m\u001b[38;5;241;43m4\u001b[39;49m\u001b[43m,\u001b[49m\u001b[43meta\u001b[49m\u001b[38;5;241;43m=\u001b[39;49m\u001b[38;5;241;43m0.1\u001b[39;49m\u001b[43m)\u001b[49m\u001b[38;5;241;43m.\u001b[39;49m\u001b[43mfit\u001b[49m\u001b[43m(\u001b[49m\u001b[43mX_train\u001b[49m\u001b[43m,\u001b[49m\u001b[43mY_train\u001b[49m\u001b[43m)\u001b[49m\n\u001b[1;32m      3\u001b[0m y_pred \u001b[38;5;241m=\u001b[39m model\u001b[38;5;241m.\u001b[39mpredict(X_test)\n",
      "File \u001b[0;32m/opt/homebrew/lib/python3.9/site-packages/xgboost/core.py:620\u001b[0m, in \u001b[0;36mrequire_keyword_args.<locals>.throw_if.<locals>.inner_f\u001b[0;34m(*args, **kwargs)\u001b[0m\n\u001b[1;32m    618\u001b[0m \u001b[38;5;28;01mfor\u001b[39;00m k, arg \u001b[38;5;129;01min\u001b[39;00m \u001b[38;5;28mzip\u001b[39m(sig\u001b[38;5;241m.\u001b[39mparameters, args):\n\u001b[1;32m    619\u001b[0m     kwargs[k] \u001b[38;5;241m=\u001b[39m arg\n\u001b[0;32m--> 620\u001b[0m \u001b[38;5;28;01mreturn\u001b[39;00m \u001b[43mfunc\u001b[49m\u001b[43m(\u001b[49m\u001b[38;5;241;43m*\u001b[39;49m\u001b[38;5;241;43m*\u001b[39;49m\u001b[43mkwargs\u001b[49m\u001b[43m)\u001b[49m\n",
      "File \u001b[0;32m/opt/homebrew/lib/python3.9/site-packages/xgboost/sklearn.py:988\u001b[0m, in \u001b[0;36mXGBModel.fit\u001b[0;34m(self, X, y, sample_weight, base_margin, eval_set, eval_metric, early_stopping_rounds, verbose, xgb_model, sample_weight_eval_set, base_margin_eval_set, feature_weights, callbacks)\u001b[0m\n\u001b[1;32m    986\u001b[0m \u001b[38;5;28;01mwith\u001b[39;00m config_context(verbosity\u001b[38;5;241m=\u001b[39m\u001b[38;5;28mself\u001b[39m\u001b[38;5;241m.\u001b[39mverbosity):\n\u001b[1;32m    987\u001b[0m     evals_result: TrainingCallback\u001b[38;5;241m.\u001b[39mEvalsLog \u001b[38;5;241m=\u001b[39m {}\n\u001b[0;32m--> 988\u001b[0m     train_dmatrix, evals \u001b[38;5;241m=\u001b[39m \u001b[43m_wrap_evaluation_matrices\u001b[49m\u001b[43m(\u001b[49m\n\u001b[1;32m    989\u001b[0m \u001b[43m        \u001b[49m\u001b[43mmissing\u001b[49m\u001b[38;5;241;43m=\u001b[39;49m\u001b[38;5;28;43mself\u001b[39;49m\u001b[38;5;241;43m.\u001b[39;49m\u001b[43mmissing\u001b[49m\u001b[43m,\u001b[49m\n\u001b[1;32m    990\u001b[0m \u001b[43m        \u001b[49m\u001b[43mX\u001b[49m\u001b[38;5;241;43m=\u001b[39;49m\u001b[43mX\u001b[49m\u001b[43m,\u001b[49m\n\u001b[1;32m    991\u001b[0m \u001b[43m        \u001b[49m\u001b[43my\u001b[49m\u001b[38;5;241;43m=\u001b[39;49m\u001b[43my\u001b[49m\u001b[43m,\u001b[49m\n\u001b[1;32m    992\u001b[0m \u001b[43m        \u001b[49m\u001b[43mgroup\u001b[49m\u001b[38;5;241;43m=\u001b[39;49m\u001b[38;5;28;43;01mNone\u001b[39;49;00m\u001b[43m,\u001b[49m\n\u001b[1;32m    993\u001b[0m \u001b[43m        \u001b[49m\u001b[43mqid\u001b[49m\u001b[38;5;241;43m=\u001b[39;49m\u001b[38;5;28;43;01mNone\u001b[39;49;00m\u001b[43m,\u001b[49m\n\u001b[1;32m    994\u001b[0m \u001b[43m        \u001b[49m\u001b[43msample_weight\u001b[49m\u001b[38;5;241;43m=\u001b[39;49m\u001b[43msample_weight\u001b[49m\u001b[43m,\u001b[49m\n\u001b[1;32m    995\u001b[0m \u001b[43m        \u001b[49m\u001b[43mbase_margin\u001b[49m\u001b[38;5;241;43m=\u001b[39;49m\u001b[43mbase_margin\u001b[49m\u001b[43m,\u001b[49m\n\u001b[1;32m    996\u001b[0m \u001b[43m        \u001b[49m\u001b[43mfeature_weights\u001b[49m\u001b[38;5;241;43m=\u001b[39;49m\u001b[43mfeature_weights\u001b[49m\u001b[43m,\u001b[49m\n\u001b[1;32m    997\u001b[0m \u001b[43m        \u001b[49m\u001b[43meval_set\u001b[49m\u001b[38;5;241;43m=\u001b[39;49m\u001b[43meval_set\u001b[49m\u001b[43m,\u001b[49m\n\u001b[1;32m    998\u001b[0m \u001b[43m        \u001b[49m\u001b[43msample_weight_eval_set\u001b[49m\u001b[38;5;241;43m=\u001b[39;49m\u001b[43msample_weight_eval_set\u001b[49m\u001b[43m,\u001b[49m\n\u001b[1;32m    999\u001b[0m \u001b[43m        \u001b[49m\u001b[43mbase_margin_eval_set\u001b[49m\u001b[38;5;241;43m=\u001b[39;49m\u001b[43mbase_margin_eval_set\u001b[49m\u001b[43m,\u001b[49m\n\u001b[1;32m   1000\u001b[0m \u001b[43m        \u001b[49m\u001b[43meval_group\u001b[49m\u001b[38;5;241;43m=\u001b[39;49m\u001b[38;5;28;43;01mNone\u001b[39;49;00m\u001b[43m,\u001b[49m\n\u001b[1;32m   1001\u001b[0m \u001b[43m        \u001b[49m\u001b[43meval_qid\u001b[49m\u001b[38;5;241;43m=\u001b[39;49m\u001b[38;5;28;43;01mNone\u001b[39;49;00m\u001b[43m,\u001b[49m\n\u001b[1;32m   1002\u001b[0m \u001b[43m        \u001b[49m\u001b[43mcreate_dmatrix\u001b[49m\u001b[38;5;241;43m=\u001b[39;49m\u001b[38;5;28;43mself\u001b[39;49m\u001b[38;5;241;43m.\u001b[39;49m\u001b[43m_create_dmatrix\u001b[49m\u001b[43m,\u001b[49m\n\u001b[1;32m   1003\u001b[0m \u001b[43m        \u001b[49m\u001b[43menable_categorical\u001b[49m\u001b[38;5;241;43m=\u001b[39;49m\u001b[38;5;28;43mself\u001b[39;49m\u001b[38;5;241;43m.\u001b[39;49m\u001b[43menable_categorical\u001b[49m\u001b[43m,\u001b[49m\n\u001b[1;32m   1004\u001b[0m \u001b[43m        \u001b[49m\u001b[43mfeature_types\u001b[49m\u001b[38;5;241;43m=\u001b[39;49m\u001b[38;5;28;43mself\u001b[39;49m\u001b[38;5;241;43m.\u001b[39;49m\u001b[43mfeature_types\u001b[49m\u001b[43m,\u001b[49m\n\u001b[1;32m   1005\u001b[0m \u001b[43m    \u001b[49m\u001b[43m)\u001b[49m\n\u001b[1;32m   1006\u001b[0m     params \u001b[38;5;241m=\u001b[39m \u001b[38;5;28mself\u001b[39m\u001b[38;5;241m.\u001b[39mget_xgb_params()\n\u001b[1;32m   1008\u001b[0m     \u001b[38;5;28;01mif\u001b[39;00m callable(\u001b[38;5;28mself\u001b[39m\u001b[38;5;241m.\u001b[39mobjective):\n",
      "File \u001b[0;32m/opt/homebrew/lib/python3.9/site-packages/xgboost/sklearn.py:448\u001b[0m, in \u001b[0;36m_wrap_evaluation_matrices\u001b[0;34m(missing, X, y, group, qid, sample_weight, base_margin, feature_weights, eval_set, sample_weight_eval_set, base_margin_eval_set, eval_group, eval_qid, create_dmatrix, enable_categorical, feature_types)\u001b[0m\n\u001b[1;32m    428\u001b[0m \u001b[38;5;28;01mdef\u001b[39;00m \u001b[38;5;21m_wrap_evaluation_matrices\u001b[39m(\n\u001b[1;32m    429\u001b[0m     missing: \u001b[38;5;28mfloat\u001b[39m,\n\u001b[1;32m    430\u001b[0m     X: Any,\n\u001b[0;32m   (...)\u001b[0m\n\u001b[1;32m    444\u001b[0m     feature_types: Optional[FeatureTypes],\n\u001b[1;32m    445\u001b[0m ) \u001b[38;5;241m-\u001b[39m\u001b[38;5;241m>\u001b[39m Tuple[Any, List[Tuple[Any, \u001b[38;5;28mstr\u001b[39m]]]:\n\u001b[1;32m    446\u001b[0m     \u001b[38;5;124;03m\"\"\"Convert array_like evaluation matrices into DMatrix.  Perform validation on the\u001b[39;00m\n\u001b[1;32m    447\u001b[0m \u001b[38;5;124;03m    way.\"\"\"\u001b[39;00m\n\u001b[0;32m--> 448\u001b[0m     train_dmatrix \u001b[38;5;241m=\u001b[39m \u001b[43mcreate_dmatrix\u001b[49m\u001b[43m(\u001b[49m\n\u001b[1;32m    449\u001b[0m \u001b[43m        \u001b[49m\u001b[43mdata\u001b[49m\u001b[38;5;241;43m=\u001b[39;49m\u001b[43mX\u001b[49m\u001b[43m,\u001b[49m\n\u001b[1;32m    450\u001b[0m \u001b[43m        \u001b[49m\u001b[43mlabel\u001b[49m\u001b[38;5;241;43m=\u001b[39;49m\u001b[43my\u001b[49m\u001b[43m,\u001b[49m\n\u001b[1;32m    451\u001b[0m \u001b[43m        \u001b[49m\u001b[43mgroup\u001b[49m\u001b[38;5;241;43m=\u001b[39;49m\u001b[43mgroup\u001b[49m\u001b[43m,\u001b[49m\n\u001b[1;32m    452\u001b[0m \u001b[43m        \u001b[49m\u001b[43mqid\u001b[49m\u001b[38;5;241;43m=\u001b[39;49m\u001b[43mqid\u001b[49m\u001b[43m,\u001b[49m\n\u001b[1;32m    453\u001b[0m \u001b[43m        \u001b[49m\u001b[43mweight\u001b[49m\u001b[38;5;241;43m=\u001b[39;49m\u001b[43msample_weight\u001b[49m\u001b[43m,\u001b[49m\n\u001b[1;32m    454\u001b[0m \u001b[43m        \u001b[49m\u001b[43mbase_margin\u001b[49m\u001b[38;5;241;43m=\u001b[39;49m\u001b[43mbase_margin\u001b[49m\u001b[43m,\u001b[49m\n\u001b[1;32m    455\u001b[0m \u001b[43m        \u001b[49m\u001b[43mfeature_weights\u001b[49m\u001b[38;5;241;43m=\u001b[39;49m\u001b[43mfeature_weights\u001b[49m\u001b[43m,\u001b[49m\n\u001b[1;32m    456\u001b[0m \u001b[43m        \u001b[49m\u001b[43mmissing\u001b[49m\u001b[38;5;241;43m=\u001b[39;49m\u001b[43mmissing\u001b[49m\u001b[43m,\u001b[49m\n\u001b[1;32m    457\u001b[0m \u001b[43m        \u001b[49m\u001b[43menable_categorical\u001b[49m\u001b[38;5;241;43m=\u001b[39;49m\u001b[43menable_categorical\u001b[49m\u001b[43m,\u001b[49m\n\u001b[1;32m    458\u001b[0m \u001b[43m        \u001b[49m\u001b[43mfeature_types\u001b[49m\u001b[38;5;241;43m=\u001b[39;49m\u001b[43mfeature_types\u001b[49m\u001b[43m,\u001b[49m\n\u001b[1;32m    459\u001b[0m \u001b[43m        \u001b[49m\u001b[43mref\u001b[49m\u001b[38;5;241;43m=\u001b[39;49m\u001b[38;5;28;43;01mNone\u001b[39;49;00m\u001b[43m,\u001b[49m\n\u001b[1;32m    460\u001b[0m \u001b[43m    \u001b[49m\u001b[43m)\u001b[49m\n\u001b[1;32m    462\u001b[0m     n_validation \u001b[38;5;241m=\u001b[39m \u001b[38;5;241m0\u001b[39m \u001b[38;5;28;01mif\u001b[39;00m eval_set \u001b[38;5;129;01mis\u001b[39;00m \u001b[38;5;28;01mNone\u001b[39;00m \u001b[38;5;28;01melse\u001b[39;00m \u001b[38;5;28mlen\u001b[39m(eval_set)\n\u001b[1;32m    464\u001b[0m     \u001b[38;5;28;01mdef\u001b[39;00m \u001b[38;5;21mvalidate_or_none\u001b[39m(meta: Optional[Sequence], name: \u001b[38;5;28mstr\u001b[39m) \u001b[38;5;241m-\u001b[39m\u001b[38;5;241m>\u001b[39m Sequence:\n",
      "File \u001b[0;32m/opt/homebrew/lib/python3.9/site-packages/xgboost/sklearn.py:908\u001b[0m, in \u001b[0;36mXGBModel._create_dmatrix\u001b[0;34m(self, ref, **kwargs)\u001b[0m\n\u001b[1;32m    906\u001b[0m     \u001b[38;5;28;01mexcept\u001b[39;00m \u001b[38;5;167;01mTypeError\u001b[39;00m:  \u001b[38;5;66;03m# `QuantileDMatrix` supports lesser types than DMatrix\u001b[39;00m\n\u001b[1;32m    907\u001b[0m         \u001b[38;5;28;01mpass\u001b[39;00m\n\u001b[0;32m--> 908\u001b[0m \u001b[38;5;28;01mreturn\u001b[39;00m \u001b[43mDMatrix\u001b[49m\u001b[43m(\u001b[49m\u001b[38;5;241;43m*\u001b[39;49m\u001b[38;5;241;43m*\u001b[39;49m\u001b[43mkwargs\u001b[49m\u001b[43m,\u001b[49m\u001b[43m \u001b[49m\u001b[43mnthread\u001b[49m\u001b[38;5;241;43m=\u001b[39;49m\u001b[38;5;28;43mself\u001b[39;49m\u001b[38;5;241;43m.\u001b[39;49m\u001b[43mn_jobs\u001b[49m\u001b[43m)\u001b[49m\n",
      "File \u001b[0;32m/opt/homebrew/lib/python3.9/site-packages/xgboost/core.py:620\u001b[0m, in \u001b[0;36mrequire_keyword_args.<locals>.throw_if.<locals>.inner_f\u001b[0;34m(*args, **kwargs)\u001b[0m\n\u001b[1;32m    618\u001b[0m \u001b[38;5;28;01mfor\u001b[39;00m k, arg \u001b[38;5;129;01min\u001b[39;00m \u001b[38;5;28mzip\u001b[39m(sig\u001b[38;5;241m.\u001b[39mparameters, args):\n\u001b[1;32m    619\u001b[0m     kwargs[k] \u001b[38;5;241m=\u001b[39m arg\n\u001b[0;32m--> 620\u001b[0m \u001b[38;5;28;01mreturn\u001b[39;00m \u001b[43mfunc\u001b[49m\u001b[43m(\u001b[49m\u001b[38;5;241;43m*\u001b[39;49m\u001b[38;5;241;43m*\u001b[39;49m\u001b[43mkwargs\u001b[49m\u001b[43m)\u001b[49m\n",
      "File \u001b[0;32m/opt/homebrew/lib/python3.9/site-packages/xgboost/core.py:743\u001b[0m, in \u001b[0;36mDMatrix.__init__\u001b[0;34m(self, data, label, weight, base_margin, missing, silent, feature_names, feature_types, nthread, group, qid, label_lower_bound, label_upper_bound, feature_weights, enable_categorical)\u001b[0m\n\u001b[1;32m    740\u001b[0m     \u001b[38;5;28;01massert\u001b[39;00m \u001b[38;5;28mself\u001b[39m\u001b[38;5;241m.\u001b[39mhandle \u001b[38;5;129;01mis\u001b[39;00m \u001b[38;5;129;01mnot\u001b[39;00m \u001b[38;5;28;01mNone\u001b[39;00m\n\u001b[1;32m    741\u001b[0m     \u001b[38;5;28;01mreturn\u001b[39;00m\n\u001b[0;32m--> 743\u001b[0m handle, feature_names, feature_types \u001b[38;5;241m=\u001b[39m \u001b[43mdispatch_data_backend\u001b[49m\u001b[43m(\u001b[49m\n\u001b[1;32m    744\u001b[0m \u001b[43m    \u001b[49m\u001b[43mdata\u001b[49m\u001b[43m,\u001b[49m\n\u001b[1;32m    745\u001b[0m \u001b[43m    \u001b[49m\u001b[43mmissing\u001b[49m\u001b[38;5;241;43m=\u001b[39;49m\u001b[38;5;28;43mself\u001b[39;49m\u001b[38;5;241;43m.\u001b[39;49m\u001b[43mmissing\u001b[49m\u001b[43m,\u001b[49m\n\u001b[1;32m    746\u001b[0m \u001b[43m    \u001b[49m\u001b[43mthreads\u001b[49m\u001b[38;5;241;43m=\u001b[39;49m\u001b[38;5;28;43mself\u001b[39;49m\u001b[38;5;241;43m.\u001b[39;49m\u001b[43mnthread\u001b[49m\u001b[43m,\u001b[49m\n\u001b[1;32m    747\u001b[0m \u001b[43m    \u001b[49m\u001b[43mfeature_names\u001b[49m\u001b[38;5;241;43m=\u001b[39;49m\u001b[43mfeature_names\u001b[49m\u001b[43m,\u001b[49m\n\u001b[1;32m    748\u001b[0m \u001b[43m    \u001b[49m\u001b[43mfeature_types\u001b[49m\u001b[38;5;241;43m=\u001b[39;49m\u001b[43mfeature_types\u001b[49m\u001b[43m,\u001b[49m\n\u001b[1;32m    749\u001b[0m \u001b[43m    \u001b[49m\u001b[43menable_categorical\u001b[49m\u001b[38;5;241;43m=\u001b[39;49m\u001b[43menable_categorical\u001b[49m\u001b[43m,\u001b[49m\n\u001b[1;32m    750\u001b[0m \u001b[43m\u001b[49m\u001b[43m)\u001b[49m\n\u001b[1;32m    751\u001b[0m \u001b[38;5;28;01massert\u001b[39;00m handle \u001b[38;5;129;01mis\u001b[39;00m \u001b[38;5;129;01mnot\u001b[39;00m \u001b[38;5;28;01mNone\u001b[39;00m\n\u001b[1;32m    752\u001b[0m \u001b[38;5;28mself\u001b[39m\u001b[38;5;241m.\u001b[39mhandle \u001b[38;5;241m=\u001b[39m handle\n",
      "File \u001b[0;32m/opt/homebrew/lib/python3.9/site-packages/xgboost/data.py:970\u001b[0m, in \u001b[0;36mdispatch_data_backend\u001b[0;34m(data, missing, threads, feature_names, feature_types, enable_categorical)\u001b[0m\n\u001b[1;32m    968\u001b[0m     \u001b[38;5;28;01mreturn\u001b[39;00m _from_tuple(data, missing, threads, feature_names, feature_types)\n\u001b[1;32m    969\u001b[0m \u001b[38;5;28;01mif\u001b[39;00m _is_pandas_df(data):\n\u001b[0;32m--> 970\u001b[0m     \u001b[38;5;28;01mreturn\u001b[39;00m \u001b[43m_from_pandas_df\u001b[49m\u001b[43m(\u001b[49m\u001b[43mdata\u001b[49m\u001b[43m,\u001b[49m\u001b[43m \u001b[49m\u001b[43menable_categorical\u001b[49m\u001b[43m,\u001b[49m\u001b[43m \u001b[49m\u001b[43mmissing\u001b[49m\u001b[43m,\u001b[49m\u001b[43m \u001b[49m\u001b[43mthreads\u001b[49m\u001b[43m,\u001b[49m\n\u001b[1;32m    971\u001b[0m \u001b[43m                           \u001b[49m\u001b[43mfeature_names\u001b[49m\u001b[43m,\u001b[49m\u001b[43m \u001b[49m\u001b[43mfeature_types\u001b[49m\u001b[43m)\u001b[49m\n\u001b[1;32m    972\u001b[0m \u001b[38;5;28;01mif\u001b[39;00m _is_pandas_series(data):\n\u001b[1;32m    973\u001b[0m     \u001b[38;5;28;01mreturn\u001b[39;00m _from_pandas_series(\n\u001b[1;32m    974\u001b[0m         data, missing, threads, enable_categorical, feature_names, feature_types\n\u001b[1;32m    975\u001b[0m     )\n",
      "File \u001b[0;32m/opt/homebrew/lib/python3.9/site-packages/xgboost/data.py:417\u001b[0m, in \u001b[0;36m_from_pandas_df\u001b[0;34m(data, enable_categorical, missing, nthread, feature_names, feature_types)\u001b[0m\n\u001b[1;32m    409\u001b[0m \u001b[38;5;28;01mdef\u001b[39;00m \u001b[38;5;21m_from_pandas_df\u001b[39m(\n\u001b[1;32m    410\u001b[0m     data: DataFrame,\n\u001b[1;32m    411\u001b[0m     enable_categorical: \u001b[38;5;28mbool\u001b[39m,\n\u001b[0;32m   (...)\u001b[0m\n\u001b[1;32m    415\u001b[0m     feature_types: Optional[FeatureTypes],\n\u001b[1;32m    416\u001b[0m ) \u001b[38;5;241m-\u001b[39m\u001b[38;5;241m>\u001b[39m DispatchedDataBackendReturnType:\n\u001b[0;32m--> 417\u001b[0m     data, feature_names, feature_types \u001b[38;5;241m=\u001b[39m \u001b[43m_transform_pandas_df\u001b[49m\u001b[43m(\u001b[49m\n\u001b[1;32m    418\u001b[0m \u001b[43m        \u001b[49m\u001b[43mdata\u001b[49m\u001b[43m,\u001b[49m\u001b[43m \u001b[49m\u001b[43menable_categorical\u001b[49m\u001b[43m,\u001b[49m\u001b[43m \u001b[49m\u001b[43mfeature_names\u001b[49m\u001b[43m,\u001b[49m\u001b[43m \u001b[49m\u001b[43mfeature_types\u001b[49m\n\u001b[1;32m    419\u001b[0m \u001b[43m    \u001b[49m\u001b[43m)\u001b[49m\n\u001b[1;32m    420\u001b[0m     \u001b[38;5;28;01mreturn\u001b[39;00m _from_numpy_array(data, missing, nthread, feature_names, feature_types)\n",
      "File \u001b[0;32m/opt/homebrew/lib/python3.9/site-packages/xgboost/data.py:391\u001b[0m, in \u001b[0;36m_transform_pandas_df\u001b[0;34m(data, enable_categorical, feature_names, feature_types, meta, meta_type)\u001b[0m\n\u001b[1;32m    379\u001b[0m \u001b[38;5;28;01mfrom\u001b[39;00m \u001b[38;5;21;01mpandas\u001b[39;00m\u001b[38;5;21;01m.\u001b[39;00m\u001b[38;5;21;01mapi\u001b[39;00m\u001b[38;5;21;01m.\u001b[39;00m\u001b[38;5;21;01mtypes\u001b[39;00m \u001b[38;5;28;01mimport\u001b[39;00m (\n\u001b[1;32m    380\u001b[0m     is_sparse,\n\u001b[1;32m    381\u001b[0m     is_categorical_dtype,\n\u001b[1;32m    382\u001b[0m )\n\u001b[1;32m    384\u001b[0m \u001b[38;5;28;01mif\u001b[39;00m \u001b[38;5;129;01mnot\u001b[39;00m \u001b[38;5;28mall\u001b[39m(\n\u001b[1;32m    385\u001b[0m     dtype\u001b[38;5;241m.\u001b[39mname \u001b[38;5;129;01min\u001b[39;00m _pandas_dtype_mapper\n\u001b[1;32m    386\u001b[0m     \u001b[38;5;129;01mor\u001b[39;00m is_sparse(dtype)\n\u001b[0;32m   (...)\u001b[0m\n\u001b[1;32m    389\u001b[0m     \u001b[38;5;28;01mfor\u001b[39;00m dtype \u001b[38;5;129;01min\u001b[39;00m data\u001b[38;5;241m.\u001b[39mdtypes\n\u001b[1;32m    390\u001b[0m ):\n\u001b[0;32m--> 391\u001b[0m     \u001b[43m_invalid_dataframe_dtype\u001b[49m\u001b[43m(\u001b[49m\u001b[43mdata\u001b[49m\u001b[43m)\u001b[49m\n\u001b[1;32m    393\u001b[0m feature_names, feature_types \u001b[38;5;241m=\u001b[39m _pandas_feature_info(\n\u001b[1;32m    394\u001b[0m     data, meta, feature_names, feature_types, enable_categorical\n\u001b[1;32m    395\u001b[0m )\n\u001b[1;32m    397\u001b[0m transformed \u001b[38;5;241m=\u001b[39m _pandas_cat_null(data)\n",
      "File \u001b[0;32m/opt/homebrew/lib/python3.9/site-packages/xgboost/data.py:283\u001b[0m, in \u001b[0;36m_invalid_dataframe_dtype\u001b[0;34m(data)\u001b[0m\n\u001b[1;32m    281\u001b[0m type_err \u001b[38;5;241m=\u001b[39m \u001b[38;5;124m\"\u001b[39m\u001b[38;5;124mDataFrame.dtypes for data must be int, float, bool or category.\u001b[39m\u001b[38;5;124m\"\u001b[39m\n\u001b[1;32m    282\u001b[0m msg \u001b[38;5;241m=\u001b[39m \u001b[38;5;124mf\u001b[39m\u001b[38;5;124m\"\"\"\u001b[39m\u001b[38;5;132;01m{\u001b[39;00mtype_err\u001b[38;5;132;01m}\u001b[39;00m\u001b[38;5;124m \u001b[39m\u001b[38;5;132;01m{\u001b[39;00m_ENABLE_CAT_ERR\u001b[38;5;132;01m}\u001b[39;00m\u001b[38;5;124m \u001b[39m\u001b[38;5;132;01m{\u001b[39;00merr\u001b[38;5;132;01m}\u001b[39;00m\u001b[38;5;124m\"\"\"\u001b[39m\n\u001b[0;32m--> 283\u001b[0m \u001b[38;5;28;01mraise\u001b[39;00m \u001b[38;5;167;01mValueError\u001b[39;00m(msg)\n",
      "\u001b[0;31mValueError\u001b[0m: DataFrame.dtypes for data must be int, float, bool or category. When categorical type is supplied, The experimental DMatrix parameter`enable_categorical` must be set to `True`.  Invalid columns:uu_id: object"
     ]
    }
   ],
   "source": [
    "import xgboost as xgb\n",
    "model = xgb.XGBRegressor(n_estimators=500, max_depth=4,eta=0.1).fit(X_train,Y_train)\n",
    "y_pred = model.predict(X_test)"
   ]
  },
  {
   "cell_type": "code",
   "execution_count": 110,
   "id": "0c310d66",
   "metadata": {
    "execution": {
     "iopub.execute_input": "2023-05-10T01:32:03.497703Z",
     "iopub.status.busy": "2023-05-10T01:32:03.497577Z",
     "iopub.status.idle": "2023-05-10T01:32:03.500544Z",
     "shell.execute_reply": "2023-05-10T01:32:03.500256Z"
    }
   },
   "outputs": [],
   "source": [
    "final_data1 = final_data.drop(['timeperiod','tract_x','tract_name_x','tract_y','tract_name_y','countyfips_y'],axis=1)"
   ]
  },
  {
   "cell_type": "code",
   "execution_count": 111,
   "id": "6ea10168",
   "metadata": {
    "execution": {
     "iopub.execute_input": "2023-05-10T01:32:03.502135Z",
     "iopub.status.busy": "2023-05-10T01:32:03.502012Z",
     "iopub.status.idle": "2023-05-10T01:32:03.514666Z",
     "shell.execute_reply": "2023-05-10T01:32:03.514373Z"
    }
   },
   "outputs": [],
   "source": [
    "fin = pd.get_dummies(final_data1,columns = ['week_number','countyfips_x','top_category_employer1','top_category_employer2','top_category_employer3'])"
   ]
  },
  {
   "cell_type": "code",
   "execution_count": 112,
   "id": "80556d6c",
   "metadata": {
    "execution": {
     "iopub.execute_input": "2023-05-10T01:32:03.516356Z",
     "iopub.status.busy": "2023-05-10T01:32:03.516259Z",
     "iopub.status.idle": "2023-05-10T01:32:03.519513Z",
     "shell.execute_reply": "2023-05-10T01:32:03.519249Z"
    }
   },
   "outputs": [],
   "source": [
    "X = fin.drop(['total_claims'],axis=1)\n",
    "Y = fin['total_claims']"
   ]
  },
  {
   "cell_type": "code",
   "execution_count": 113,
   "id": "6000b1a8",
   "metadata": {
    "execution": {
     "iopub.execute_input": "2023-05-10T01:32:03.521003Z",
     "iopub.status.busy": "2023-05-10T01:32:03.520914Z",
     "iopub.status.idle": "2023-05-10T01:32:03.531804Z",
     "shell.execute_reply": "2023-05-10T01:32:03.531500Z"
    }
   },
   "outputs": [],
   "source": [
    "from sklearn.model_selection import train_test_split\n",
    "from sklearn.linear_model import LinearRegression\n",
    "X_train, X_test,Y_train, Y_test = train_test_split(X,Y,test_size = 0.2, random_state=32)"
   ]
  },
  {
   "cell_type": "code",
   "execution_count": 114,
   "id": "94e75933",
   "metadata": {
    "execution": {
     "iopub.execute_input": "2023-05-10T01:32:03.533454Z",
     "iopub.status.busy": "2023-05-10T01:32:03.533359Z",
     "iopub.status.idle": "2023-05-10T01:32:03.536442Z",
     "shell.execute_reply": "2023-05-10T01:32:03.536198Z"
    }
   },
   "outputs": [],
   "source": [
    "X_train_data = X_train.drop(['uu_id'],axis=1)\n",
    "X_test_data = X_test.drop(['uu_id'],axis=1)"
   ]
  },
  {
   "cell_type": "code",
   "execution_count": 115,
   "id": "6025c27e",
   "metadata": {
    "execution": {
     "iopub.execute_input": "2023-05-10T01:32:03.537855Z",
     "iopub.status.busy": "2023-05-10T01:32:03.537769Z",
     "iopub.status.idle": "2023-05-10T01:32:03.667608Z",
     "shell.execute_reply": "2023-05-10T01:32:03.666816Z"
    }
   },
   "outputs": [],
   "source": [
    "lm = LinearRegression().fit(X_train_data,Y_train)\n",
    "prediction = lm.predict(X_test_data)"
   ]
  },
  {
   "cell_type": "code",
   "execution_count": 116,
   "id": "5dd7bd43",
   "metadata": {
    "execution": {
     "iopub.execute_input": "2023-05-10T01:32:03.672034Z",
     "iopub.status.busy": "2023-05-10T01:32:03.671731Z",
     "iopub.status.idle": "2023-05-10T01:32:03.734631Z",
     "shell.execute_reply": "2023-05-10T01:32:03.705907Z"
    }
   },
   "outputs": [
    {
     "data": {
      "text/plain": [
       "0.7231720964615613"
      ]
     },
     "execution_count": 116,
     "metadata": {},
     "output_type": "execute_result"
    }
   ],
   "source": [
    "lm.score(X_test_data, Y_test)"
   ]
  },
  {
   "cell_type": "code",
   "execution_count": 117,
   "id": "470287fb",
   "metadata": {
    "execution": {
     "iopub.execute_input": "2023-05-10T01:32:03.739429Z",
     "iopub.status.busy": "2023-05-10T01:32:03.739027Z",
     "iopub.status.idle": "2023-05-10T01:32:03.767979Z",
     "shell.execute_reply": "2023-05-10T01:32:03.765068Z"
    }
   },
   "outputs": [
    {
     "ename": "NameError",
     "evalue": "name 'test_train_split' is not defined",
     "output_type": "error",
     "traceback": [
      "\u001b[0;31m---------------------------------------------------------------------------\u001b[0m",
      "\u001b[0;31mNameError\u001b[0m                                 Traceback (most recent call last)",
      "Cell \u001b[0;32mIn [117], line 2\u001b[0m\n\u001b[1;32m      1\u001b[0m fin \u001b[38;5;241m=\u001b[39m fin\u001b[38;5;241m.\u001b[39mset_index(\u001b[38;5;124m'\u001b[39m\u001b[38;5;124muu_id\u001b[39m\u001b[38;5;124m'\u001b[39m)\n\u001b[0;32m----> 2\u001b[0m X_train, X_test, y_train, y_test \u001b[38;5;241m=\u001b[39m \u001b[43mtest_train_split\u001b[49m(fin\u001b[38;5;241m.\u001b[39mix[:, \u001b[38;5;241m~\u001b[39mfin\u001b[38;5;241m.\u001b[39mcolumns\u001b[38;5;241m.\u001b[39misin([\u001b[38;5;124m'\u001b[39m\u001b[38;5;124mtotal_claims\u001b[39m\u001b[38;5;124m'\u001b[39m])], fin\u001b[38;5;241m.\u001b[39mtotal_claims)\n",
      "\u001b[0;31mNameError\u001b[0m: name 'test_train_split' is not defined"
     ]
    }
   ],
   "source": [
    "fin = fin.set_index('uu_id')\n",
    "X_train, X_test, y_train, y_test = test_train_split(fin.ix[:, ~fin.columns.isin(['total_claims'])], fin.total_claims)"
   ]
  },
  {
   "cell_type": "code",
   "execution_count": 118,
   "id": "68c7bac2",
   "metadata": {
    "execution": {
     "iopub.execute_input": "2023-05-10T01:32:03.771664Z",
     "iopub.status.busy": "2023-05-10T01:32:03.771360Z",
     "iopub.status.idle": "2023-05-10T01:32:03.801191Z",
     "shell.execute_reply": "2023-05-10T01:32:03.800428Z"
    }
   },
   "outputs": [
    {
     "ename": "KeyError",
     "evalue": "\"None of ['uu_id'] are in the columns\"",
     "output_type": "error",
     "traceback": [
      "\u001b[0;31m---------------------------------------------------------------------------\u001b[0m",
      "\u001b[0;31mKeyError\u001b[0m                                  Traceback (most recent call last)",
      "Cell \u001b[0;32mIn [118], line 1\u001b[0m\n\u001b[0;32m----> 1\u001b[0m fin \u001b[38;5;241m=\u001b[39m \u001b[43mfin\u001b[49m\u001b[38;5;241;43m.\u001b[39;49m\u001b[43mset_index\u001b[49m\u001b[43m(\u001b[49m\u001b[38;5;124;43m'\u001b[39;49m\u001b[38;5;124;43muu_id\u001b[39;49m\u001b[38;5;124;43m'\u001b[39;49m\u001b[43m)\u001b[49m\n\u001b[1;32m      2\u001b[0m X_train, X_test, y_train, y_test \u001b[38;5;241m=\u001b[39m train_test_split(fin\u001b[38;5;241m.\u001b[39mix[:, \u001b[38;5;241m~\u001b[39mfin\u001b[38;5;241m.\u001b[39mcolumns\u001b[38;5;241m.\u001b[39misin([\u001b[38;5;124m'\u001b[39m\u001b[38;5;124mtotal_claims\u001b[39m\u001b[38;5;124m'\u001b[39m])], fin\u001b[38;5;241m.\u001b[39mtotal_claims)\n",
      "File \u001b[0;32m/opt/homebrew/lib/python3.9/site-packages/pandas/util/_decorators.py:331\u001b[0m, in \u001b[0;36mdeprecate_nonkeyword_arguments.<locals>.decorate.<locals>.wrapper\u001b[0;34m(*args, **kwargs)\u001b[0m\n\u001b[1;32m    325\u001b[0m \u001b[38;5;28;01mif\u001b[39;00m \u001b[38;5;28mlen\u001b[39m(args) \u001b[38;5;241m>\u001b[39m num_allow_args:\n\u001b[1;32m    326\u001b[0m     warnings\u001b[38;5;241m.\u001b[39mwarn(\n\u001b[1;32m    327\u001b[0m         msg\u001b[38;5;241m.\u001b[39mformat(arguments\u001b[38;5;241m=\u001b[39m_format_argument_list(allow_args)),\n\u001b[1;32m    328\u001b[0m         \u001b[38;5;167;01mFutureWarning\u001b[39;00m,\n\u001b[1;32m    329\u001b[0m         stacklevel\u001b[38;5;241m=\u001b[39mfind_stack_level(),\n\u001b[1;32m    330\u001b[0m     )\n\u001b[0;32m--> 331\u001b[0m \u001b[38;5;28;01mreturn\u001b[39;00m \u001b[43mfunc\u001b[49m\u001b[43m(\u001b[49m\u001b[38;5;241;43m*\u001b[39;49m\u001b[43margs\u001b[49m\u001b[43m,\u001b[49m\u001b[43m \u001b[49m\u001b[38;5;241;43m*\u001b[39;49m\u001b[38;5;241;43m*\u001b[39;49m\u001b[43mkwargs\u001b[49m\u001b[43m)\u001b[49m\n",
      "File \u001b[0;32m/opt/homebrew/lib/python3.9/site-packages/pandas/core/frame.py:6001\u001b[0m, in \u001b[0;36mDataFrame.set_index\u001b[0;34m(self, keys, drop, append, inplace, verify_integrity)\u001b[0m\n\u001b[1;32m   5998\u001b[0m                 missing\u001b[38;5;241m.\u001b[39mappend(col)\n\u001b[1;32m   6000\u001b[0m \u001b[38;5;28;01mif\u001b[39;00m missing:\n\u001b[0;32m-> 6001\u001b[0m     \u001b[38;5;28;01mraise\u001b[39;00m \u001b[38;5;167;01mKeyError\u001b[39;00m(\u001b[38;5;124mf\u001b[39m\u001b[38;5;124m\"\u001b[39m\u001b[38;5;124mNone of \u001b[39m\u001b[38;5;132;01m{\u001b[39;00mmissing\u001b[38;5;132;01m}\u001b[39;00m\u001b[38;5;124m are in the columns\u001b[39m\u001b[38;5;124m\"\u001b[39m)\n\u001b[1;32m   6003\u001b[0m \u001b[38;5;28;01mif\u001b[39;00m inplace:\n\u001b[1;32m   6004\u001b[0m     frame \u001b[38;5;241m=\u001b[39m \u001b[38;5;28mself\u001b[39m\n",
      "\u001b[0;31mKeyError\u001b[0m: \"None of ['uu_id'] are in the columns\""
     ]
    }
   ],
   "source": [
    "fin = fin.set_index('uu_id')\n",
    "X_train, X_test, y_train, y_test = train_test_split(fin.ix[:, ~fin.columns.isin(['total_claims'])], fin.total_claims)"
   ]
  },
  {
   "cell_type": "code",
   "execution_count": 119,
   "id": "646f67f4",
   "metadata": {
    "execution": {
     "iopub.execute_input": "2023-05-10T01:32:03.804817Z",
     "iopub.status.busy": "2023-05-10T01:32:03.804512Z",
     "iopub.status.idle": "2023-05-10T01:32:03.814356Z",
     "shell.execute_reply": "2023-05-10T01:32:03.811568Z"
    }
   },
   "outputs": [],
   "source": [
    "final_data1 = final_data.drop(['timeperiod','tract_x','tract_name_x','tract_y','tract_name_y','countyfips_y'],axis=1)"
   ]
  },
  {
   "cell_type": "code",
   "execution_count": 120,
   "id": "f8a40410",
   "metadata": {
    "execution": {
     "iopub.execute_input": "2023-05-10T01:32:03.819568Z",
     "iopub.status.busy": "2023-05-10T01:32:03.819206Z",
     "iopub.status.idle": "2023-05-10T01:32:03.842009Z",
     "shell.execute_reply": "2023-05-10T01:32:03.841076Z"
    }
   },
   "outputs": [],
   "source": [
    "fin = pd.get_dummies(final_data1,columns = ['week_number','countyfips_x','top_category_employer1','top_category_employer2','top_category_employer3'])"
   ]
  },
  {
   "cell_type": "code",
   "execution_count": 121,
   "id": "54e58ea2",
   "metadata": {
    "execution": {
     "iopub.execute_input": "2023-05-10T01:32:03.847342Z",
     "iopub.status.busy": "2023-05-10T01:32:03.846837Z",
     "iopub.status.idle": "2023-05-10T01:32:03.901225Z",
     "shell.execute_reply": "2023-05-10T01:32:03.898253Z"
    }
   },
   "outputs": [
    {
     "ename": "AttributeError",
     "evalue": "'DataFrame' object has no attribute 'ix'",
     "output_type": "error",
     "traceback": [
      "\u001b[0;31m---------------------------------------------------------------------------\u001b[0m",
      "\u001b[0;31mAttributeError\u001b[0m                            Traceback (most recent call last)",
      "Cell \u001b[0;32mIn [121], line 2\u001b[0m\n\u001b[1;32m      1\u001b[0m fin \u001b[38;5;241m=\u001b[39m fin\u001b[38;5;241m.\u001b[39mset_index(\u001b[38;5;124m'\u001b[39m\u001b[38;5;124muu_id\u001b[39m\u001b[38;5;124m'\u001b[39m)\n\u001b[0;32m----> 2\u001b[0m X_train, X_test, y_train, y_test \u001b[38;5;241m=\u001b[39m train_test_split(\u001b[43mfin\u001b[49m\u001b[38;5;241;43m.\u001b[39;49m\u001b[43mix\u001b[49m[:, \u001b[38;5;241m~\u001b[39mfin\u001b[38;5;241m.\u001b[39mcolumns\u001b[38;5;241m.\u001b[39misin([\u001b[38;5;124m'\u001b[39m\u001b[38;5;124mtotal_claims\u001b[39m\u001b[38;5;124m'\u001b[39m])], fin\u001b[38;5;241m.\u001b[39mtotal_claims)\n",
      "File \u001b[0;32m/opt/homebrew/lib/python3.9/site-packages/pandas/core/generic.py:5902\u001b[0m, in \u001b[0;36mNDFrame.__getattr__\u001b[0;34m(self, name)\u001b[0m\n\u001b[1;32m   5895\u001b[0m \u001b[38;5;28;01mif\u001b[39;00m (\n\u001b[1;32m   5896\u001b[0m     name \u001b[38;5;129;01mnot\u001b[39;00m \u001b[38;5;129;01min\u001b[39;00m \u001b[38;5;28mself\u001b[39m\u001b[38;5;241m.\u001b[39m_internal_names_set\n\u001b[1;32m   5897\u001b[0m     \u001b[38;5;129;01mand\u001b[39;00m name \u001b[38;5;129;01mnot\u001b[39;00m \u001b[38;5;129;01min\u001b[39;00m \u001b[38;5;28mself\u001b[39m\u001b[38;5;241m.\u001b[39m_metadata\n\u001b[1;32m   5898\u001b[0m     \u001b[38;5;129;01mand\u001b[39;00m name \u001b[38;5;129;01mnot\u001b[39;00m \u001b[38;5;129;01min\u001b[39;00m \u001b[38;5;28mself\u001b[39m\u001b[38;5;241m.\u001b[39m_accessors\n\u001b[1;32m   5899\u001b[0m     \u001b[38;5;129;01mand\u001b[39;00m \u001b[38;5;28mself\u001b[39m\u001b[38;5;241m.\u001b[39m_info_axis\u001b[38;5;241m.\u001b[39m_can_hold_identifiers_and_holds_name(name)\n\u001b[1;32m   5900\u001b[0m ):\n\u001b[1;32m   5901\u001b[0m     \u001b[38;5;28;01mreturn\u001b[39;00m \u001b[38;5;28mself\u001b[39m[name]\n\u001b[0;32m-> 5902\u001b[0m \u001b[38;5;28;01mreturn\u001b[39;00m \u001b[38;5;28;43mobject\u001b[39;49m\u001b[38;5;241;43m.\u001b[39;49m\u001b[38;5;21;43m__getattribute__\u001b[39;49m\u001b[43m(\u001b[49m\u001b[38;5;28;43mself\u001b[39;49m\u001b[43m,\u001b[49m\u001b[43m \u001b[49m\u001b[43mname\u001b[49m\u001b[43m)\u001b[49m\n",
      "\u001b[0;31mAttributeError\u001b[0m: 'DataFrame' object has no attribute 'ix'"
     ]
    }
   ],
   "source": [
    "fin = fin.set_index('uu_id')\n",
    "X_train, X_test, y_train, y_test = train_test_split(fin.ix[:, ~fin.columns.isin(['total_claims'])], fin.total_claims)"
   ]
  },
  {
   "cell_type": "code",
   "execution_count": 122,
   "id": "fec0a8a5",
   "metadata": {
    "execution": {
     "iopub.execute_input": "2023-05-10T01:32:03.905412Z",
     "iopub.status.busy": "2023-05-10T01:32:03.904889Z",
     "iopub.status.idle": "2023-05-10T01:32:03.950354Z",
     "shell.execute_reply": "2023-05-10T01:32:03.948594Z"
    }
   },
   "outputs": [
    {
     "ename": "KeyError",
     "evalue": "\"None of ['uu_id'] are in the columns\"",
     "output_type": "error",
     "traceback": [
      "\u001b[0;31m---------------------------------------------------------------------------\u001b[0m",
      "\u001b[0;31mKeyError\u001b[0m                                  Traceback (most recent call last)",
      "Cell \u001b[0;32mIn [122], line 1\u001b[0m\n\u001b[0;32m----> 1\u001b[0m fin \u001b[38;5;241m=\u001b[39m \u001b[43mfin\u001b[49m\u001b[38;5;241;43m.\u001b[39;49m\u001b[43mset_index\u001b[49m\u001b[43m(\u001b[49m\u001b[38;5;124;43m'\u001b[39;49m\u001b[38;5;124;43muu_id\u001b[39;49m\u001b[38;5;124;43m'\u001b[39;49m\u001b[43m)\u001b[49m\n\u001b[1;32m      2\u001b[0m X \u001b[38;5;241m=\u001b[39m fin\u001b[38;5;241m.\u001b[39mdrop([\u001b[38;5;124m'\u001b[39m\u001b[38;5;124mtotal_claims\u001b[39m\u001b[38;5;124m'\u001b[39m],axis\u001b[38;5;241m=\u001b[39m\u001b[38;5;241m1\u001b[39m)\n\u001b[1;32m      3\u001b[0m Y\u001b[38;5;241m=\u001b[39mfin[\u001b[38;5;124m'\u001b[39m\u001b[38;5;124mtotal_claims\u001b[39m\u001b[38;5;124m'\u001b[39m]\n",
      "File \u001b[0;32m/opt/homebrew/lib/python3.9/site-packages/pandas/util/_decorators.py:331\u001b[0m, in \u001b[0;36mdeprecate_nonkeyword_arguments.<locals>.decorate.<locals>.wrapper\u001b[0;34m(*args, **kwargs)\u001b[0m\n\u001b[1;32m    325\u001b[0m \u001b[38;5;28;01mif\u001b[39;00m \u001b[38;5;28mlen\u001b[39m(args) \u001b[38;5;241m>\u001b[39m num_allow_args:\n\u001b[1;32m    326\u001b[0m     warnings\u001b[38;5;241m.\u001b[39mwarn(\n\u001b[1;32m    327\u001b[0m         msg\u001b[38;5;241m.\u001b[39mformat(arguments\u001b[38;5;241m=\u001b[39m_format_argument_list(allow_args)),\n\u001b[1;32m    328\u001b[0m         \u001b[38;5;167;01mFutureWarning\u001b[39;00m,\n\u001b[1;32m    329\u001b[0m         stacklevel\u001b[38;5;241m=\u001b[39mfind_stack_level(),\n\u001b[1;32m    330\u001b[0m     )\n\u001b[0;32m--> 331\u001b[0m \u001b[38;5;28;01mreturn\u001b[39;00m \u001b[43mfunc\u001b[49m\u001b[43m(\u001b[49m\u001b[38;5;241;43m*\u001b[39;49m\u001b[43margs\u001b[49m\u001b[43m,\u001b[49m\u001b[43m \u001b[49m\u001b[38;5;241;43m*\u001b[39;49m\u001b[38;5;241;43m*\u001b[39;49m\u001b[43mkwargs\u001b[49m\u001b[43m)\u001b[49m\n",
      "File \u001b[0;32m/opt/homebrew/lib/python3.9/site-packages/pandas/core/frame.py:6001\u001b[0m, in \u001b[0;36mDataFrame.set_index\u001b[0;34m(self, keys, drop, append, inplace, verify_integrity)\u001b[0m\n\u001b[1;32m   5998\u001b[0m                 missing\u001b[38;5;241m.\u001b[39mappend(col)\n\u001b[1;32m   6000\u001b[0m \u001b[38;5;28;01mif\u001b[39;00m missing:\n\u001b[0;32m-> 6001\u001b[0m     \u001b[38;5;28;01mraise\u001b[39;00m \u001b[38;5;167;01mKeyError\u001b[39;00m(\u001b[38;5;124mf\u001b[39m\u001b[38;5;124m\"\u001b[39m\u001b[38;5;124mNone of \u001b[39m\u001b[38;5;132;01m{\u001b[39;00mmissing\u001b[38;5;132;01m}\u001b[39;00m\u001b[38;5;124m are in the columns\u001b[39m\u001b[38;5;124m\"\u001b[39m)\n\u001b[1;32m   6003\u001b[0m \u001b[38;5;28;01mif\u001b[39;00m inplace:\n\u001b[1;32m   6004\u001b[0m     frame \u001b[38;5;241m=\u001b[39m \u001b[38;5;28mself\u001b[39m\n",
      "\u001b[0;31mKeyError\u001b[0m: \"None of ['uu_id'] are in the columns\""
     ]
    }
   ],
   "source": [
    "fin = fin.set_index('uu_id')\n",
    "X = fin.drop(['total_claims'],axis=1)\n",
    "Y=fin['total_claims']\n",
    "#X_train, X_test, y_train, y_test = train_test_split(fin.ix[:, ~fin.columns.isin(['total_claims'])], fin.total_claims)"
   ]
  },
  {
   "cell_type": "code",
   "execution_count": 123,
   "id": "d14bf575",
   "metadata": {
    "execution": {
     "iopub.execute_input": "2023-05-10T01:32:03.954697Z",
     "iopub.status.busy": "2023-05-10T01:32:03.954378Z",
     "iopub.status.idle": "2023-05-10T01:32:03.966687Z",
     "shell.execute_reply": "2023-05-10T01:32:03.966390Z"
    }
   },
   "outputs": [],
   "source": [
    "fin = pd.get_dummies(final_data1,columns = ['week_number','countyfips_x','top_category_employer1','top_category_employer2','top_category_employer3'])"
   ]
  },
  {
   "cell_type": "code",
   "execution_count": 124,
   "id": "63fba0ec",
   "metadata": {
    "execution": {
     "iopub.execute_input": "2023-05-10T01:32:03.968535Z",
     "iopub.status.busy": "2023-05-10T01:32:03.968435Z",
     "iopub.status.idle": "2023-05-10T01:32:03.973275Z",
     "shell.execute_reply": "2023-05-10T01:32:03.972976Z"
    }
   },
   "outputs": [],
   "source": [
    "fin = fin.set_index('uu_id')\n",
    "X = fin.drop(['total_claims'],axis=1)\n",
    "Y=fin['total_claims']\n",
    "#X_train, X_test, y_train, y_test = train_test_split(fin.ix[:, ~fin.columns.isin(['total_claims'])], fin.total_claims)"
   ]
  },
  {
   "cell_type": "code",
   "execution_count": 125,
   "id": "198444e0",
   "metadata": {
    "execution": {
     "iopub.execute_input": "2023-05-10T01:32:03.974757Z",
     "iopub.status.busy": "2023-05-10T01:32:03.974674Z",
     "iopub.status.idle": "2023-05-10T01:32:03.985130Z",
     "shell.execute_reply": "2023-05-10T01:32:03.984852Z"
    }
   },
   "outputs": [],
   "source": [
    "from sklearn.model_selection import train_test_split\n",
    "from sklearn.linear_model import LinearRegression\n",
    "X_train, X_test,Y_train, Y_test = train_test_split(X,Y,test_size = 0.2, random_state=32)"
   ]
  },
  {
   "cell_type": "code",
   "execution_count": 126,
   "id": "540fe745",
   "metadata": {
    "execution": {
     "iopub.execute_input": "2023-05-10T01:32:03.986723Z",
     "iopub.status.busy": "2023-05-10T01:32:03.986632Z",
     "iopub.status.idle": "2023-05-10T01:32:04.132117Z",
     "shell.execute_reply": "2023-05-10T01:32:04.131371Z"
    }
   },
   "outputs": [],
   "source": [
    "lm = LinearRegression().fit(X_train_data,Y_train)\n",
    "prediction = lm.predict(X_test_data)"
   ]
  },
  {
   "cell_type": "code",
   "execution_count": 127,
   "id": "839d5994",
   "metadata": {
    "execution": {
     "iopub.execute_input": "2023-05-10T01:32:04.138269Z",
     "iopub.status.busy": "2023-05-10T01:32:04.137668Z",
     "iopub.status.idle": "2023-05-10T01:32:04.165772Z",
     "shell.execute_reply": "2023-05-10T01:32:04.164856Z"
    }
   },
   "outputs": [
    {
     "data": {
      "text/plain": [
       "0.7231720964615613"
      ]
     },
     "execution_count": 127,
     "metadata": {},
     "output_type": "execute_result"
    }
   ],
   "source": [
    "lm.score(X_test_data, Y_test)"
   ]
  },
  {
   "cell_type": "code",
   "execution_count": 128,
   "id": "52991bbe",
   "metadata": {
    "execution": {
     "iopub.execute_input": "2023-05-10T01:32:04.171023Z",
     "iopub.status.busy": "2023-05-10T01:32:04.170671Z",
     "iopub.status.idle": "2023-05-10T01:32:04.499621Z",
     "shell.execute_reply": "2023-05-10T01:32:04.498402Z"
    }
   },
   "outputs": [],
   "source": [
    "lm = LinearRegression().fit(X_train,Y_train)\n",
    "prediction = lm.predict(X_test)"
   ]
  },
  {
   "cell_type": "code",
   "execution_count": 129,
   "id": "eb1ec673",
   "metadata": {
    "execution": {
     "iopub.execute_input": "2023-05-10T01:32:04.503961Z",
     "iopub.status.busy": "2023-05-10T01:32:04.503510Z",
     "iopub.status.idle": "2023-05-10T01:32:04.534877Z",
     "shell.execute_reply": "2023-05-10T01:32:04.533941Z"
    }
   },
   "outputs": [
    {
     "data": {
      "text/plain": [
       "0.7231720964615613"
      ]
     },
     "execution_count": 129,
     "metadata": {},
     "output_type": "execute_result"
    }
   ],
   "source": [
    "lm.score(X_test, Y_test)"
   ]
  },
  {
   "cell_type": "code",
   "execution_count": 130,
   "id": "35d6309f",
   "metadata": {
    "execution": {
     "iopub.execute_input": "2023-05-10T01:32:04.540329Z",
     "iopub.status.busy": "2023-05-10T01:32:04.538905Z",
     "iopub.status.idle": "2023-05-10T01:32:04.550700Z",
     "shell.execute_reply": "2023-05-10T01:32:04.549850Z"
    }
   },
   "outputs": [],
   "source": [
    "final_data1 = final_data.drop(['timeperiod','tract_x','tract_name_x','tract_y','tract_name_y','countyfips_y'],axis=1)"
   ]
  },
  {
   "cell_type": "code",
   "execution_count": 131,
   "id": "7af42248",
   "metadata": {
    "execution": {
     "iopub.execute_input": "2023-05-10T01:32:04.554991Z",
     "iopub.status.busy": "2023-05-10T01:32:04.554693Z",
     "iopub.status.idle": "2023-05-10T01:32:04.587978Z",
     "shell.execute_reply": "2023-05-10T01:32:04.587094Z"
    }
   },
   "outputs": [],
   "source": [
    "fin = pd.get_dummies(final_data1,columns = ['week_number','countyfips_x','top_category_employer1','top_category_employer2','top_category_employer3'])"
   ]
  },
  {
   "cell_type": "code",
   "execution_count": 132,
   "id": "bb6f6ccf",
   "metadata": {
    "execution": {
     "iopub.execute_input": "2023-05-10T01:32:04.595476Z",
     "iopub.status.busy": "2023-05-10T01:32:04.593063Z",
     "iopub.status.idle": "2023-05-10T01:32:04.607016Z",
     "shell.execute_reply": "2023-05-10T01:32:04.606317Z"
    }
   },
   "outputs": [],
   "source": [
    "fin = fin.set_index('uu_id')\n",
    "X = fin.drop(['total_claims'],axis=1)\n",
    "Y=fin['total_claims']\n",
    "#X_train, X_test, y_train, y_test = train_test_split(fin.ix[:, ~fin.columns.isin(['total_claims'])], fin.total_claims)"
   ]
  },
  {
   "cell_type": "code",
   "execution_count": 133,
   "id": "f48c031f",
   "metadata": {
    "execution": {
     "iopub.execute_input": "2023-05-10T01:32:04.612367Z",
     "iopub.status.busy": "2023-05-10T01:32:04.611606Z",
     "iopub.status.idle": "2023-05-10T01:32:04.633956Z",
     "shell.execute_reply": "2023-05-10T01:32:04.633203Z"
    }
   },
   "outputs": [],
   "source": [
    "from sklearn.model_selection import train_test_split\n",
    "from sklearn.linear_model import LinearRegression\n",
    "X_train, X_test,Y_train, Y_test = train_test_split(X,Y,test_size = 0.2, random_state=32)"
   ]
  },
  {
   "cell_type": "code",
   "execution_count": 134,
   "id": "8975da6e",
   "metadata": {
    "execution": {
     "iopub.execute_input": "2023-05-10T01:32:04.638235Z",
     "iopub.status.busy": "2023-05-10T01:32:04.637925Z",
     "iopub.status.idle": "2023-05-10T01:32:04.883729Z",
     "shell.execute_reply": "2023-05-10T01:32:04.882807Z"
    }
   },
   "outputs": [],
   "source": [
    "lm = LinearRegression().fit(X_train,Y_train)\n",
    "prediction = lm.predict(X_test)"
   ]
  },
  {
   "cell_type": "code",
   "execution_count": 135,
   "id": "deb441bc",
   "metadata": {
    "execution": {
     "iopub.execute_input": "2023-05-10T01:32:04.888667Z",
     "iopub.status.busy": "2023-05-10T01:32:04.888032Z",
     "iopub.status.idle": "2023-05-10T01:32:04.917347Z",
     "shell.execute_reply": "2023-05-10T01:32:04.907709Z"
    }
   },
   "outputs": [
    {
     "data": {
      "text/plain": [
       "0.7231720964615613"
      ]
     },
     "execution_count": 135,
     "metadata": {},
     "output_type": "execute_result"
    }
   ],
   "source": [
    "lm.score(X_test, Y_test)"
   ]
  },
  {
   "cell_type": "code",
   "execution_count": 136,
   "id": "08f65a0a",
   "metadata": {
    "execution": {
     "iopub.execute_input": "2023-05-10T01:32:04.921842Z",
     "iopub.status.busy": "2023-05-10T01:32:04.921382Z",
     "iopub.status.idle": "2023-05-10T01:32:04.937993Z",
     "shell.execute_reply": "2023-05-10T01:32:04.937304Z"
    }
   },
   "outputs": [],
   "source": [
    "final_data1 = final_data.drop(['timeperiod','tract_x','tract_name_x','tract_y','tract_name_y','countyfips_y'],axis=1)"
   ]
  },
  {
   "cell_type": "code",
   "execution_count": 137,
   "id": "9b5a967d",
   "metadata": {
    "execution": {
     "iopub.execute_input": "2023-05-10T01:32:04.947915Z",
     "iopub.status.busy": "2023-05-10T01:32:04.947112Z",
     "iopub.status.idle": "2023-05-10T01:32:04.972489Z",
     "shell.execute_reply": "2023-05-10T01:32:04.971787Z"
    }
   },
   "outputs": [],
   "source": [
    "fin = pd.get_dummies(final_data1,columns = ['week_number','countyfips_x','top_category_employer1','top_category_employer2','top_category_employer3'])"
   ]
  },
  {
   "cell_type": "code",
   "execution_count": 138,
   "id": "17c82040",
   "metadata": {
    "execution": {
     "iopub.execute_input": "2023-05-10T01:32:04.983585Z",
     "iopub.status.busy": "2023-05-10T01:32:04.983115Z",
     "iopub.status.idle": "2023-05-10T01:32:04.991074Z",
     "shell.execute_reply": "2023-05-10T01:32:04.990129Z"
    }
   },
   "outputs": [],
   "source": [
    "X = fin.drop(['uu_id','total_claims'],axis=1)\n",
    "Y=fin['total_claims']"
   ]
  },
  {
   "cell_type": "code",
   "execution_count": 139,
   "id": "bb7bde80",
   "metadata": {
    "execution": {
     "iopub.execute_input": "2023-05-10T01:32:05.004611Z",
     "iopub.status.busy": "2023-05-10T01:32:05.003142Z",
     "iopub.status.idle": "2023-05-10T01:32:05.048654Z",
     "shell.execute_reply": "2023-05-10T01:32:05.041463Z"
    }
   },
   "outputs": [],
   "source": [
    "from sklearn.model_selection import train_test_split\n",
    "from sklearn.linear_model import LinearRegression\n",
    "X_train, X_test,Y_train, Y_test = train_test_split(X,Y,test_size = 0.2, random_state=32)"
   ]
  },
  {
   "cell_type": "code",
   "execution_count": 140,
   "id": "829b8e1b",
   "metadata": {
    "execution": {
     "iopub.execute_input": "2023-05-10T01:32:05.055240Z",
     "iopub.status.busy": "2023-05-10T01:32:05.054802Z",
     "iopub.status.idle": "2023-05-10T01:32:05.250516Z",
     "shell.execute_reply": "2023-05-10T01:32:05.249566Z"
    }
   },
   "outputs": [],
   "source": [
    "lm = LinearRegression().fit(X_train,Y_train)\n",
    "prediction = lm.predict(X_test)"
   ]
  },
  {
   "cell_type": "code",
   "execution_count": 141,
   "id": "fceb0262",
   "metadata": {
    "execution": {
     "iopub.execute_input": "2023-05-10T01:32:05.255026Z",
     "iopub.status.busy": "2023-05-10T01:32:05.254603Z",
     "iopub.status.idle": "2023-05-10T01:32:05.285495Z",
     "shell.execute_reply": "2023-05-10T01:32:05.284619Z"
    }
   },
   "outputs": [
    {
     "data": {
      "text/plain": [
       "0.7231720964615613"
      ]
     },
     "execution_count": 141,
     "metadata": {},
     "output_type": "execute_result"
    }
   ],
   "source": [
    "lm.score(X_test, Y_test)"
   ]
  },
  {
   "cell_type": "code",
   "execution_count": 142,
   "id": "5c8b87fd",
   "metadata": {
    "execution": {
     "iopub.execute_input": "2023-05-10T01:32:05.290450Z",
     "iopub.status.busy": "2023-05-10T01:32:05.289088Z",
     "iopub.status.idle": "2023-05-10T01:32:05.306599Z",
     "shell.execute_reply": "2023-05-10T01:32:05.305775Z"
    }
   },
   "outputs": [],
   "source": [
    "final_data = unemp_data.merge(wage_data,how='left', on = 'uu_id')"
   ]
  },
  {
   "cell_type": "code",
   "execution_count": 143,
   "id": "f92eeb40",
   "metadata": {
    "execution": {
     "iopub.execute_input": "2023-05-10T01:32:05.315699Z",
     "iopub.status.busy": "2023-05-10T01:32:05.315123Z",
     "iopub.status.idle": "2023-05-10T01:32:05.354852Z",
     "shell.execute_reply": "2023-05-10T01:32:05.354031Z"
    }
   },
   "outputs": [
    {
     "name": "stdout",
     "output_type": "stream",
     "text": [
      "<class 'pandas.core.frame.DataFrame'>\n",
      "Int64Index: 16833 entries, 0 to 16832\n",
      "Data columns (total 29 columns):\n",
      " #   Column                  Non-Null Count  Dtype  \n",
      "---  ------                  --------------  -----  \n",
      " 0   uu_id                   16833 non-null  object \n",
      " 1   timeperiod              16833 non-null  Int64  \n",
      " 2   week_number             16833 non-null  Int64  \n",
      " 3   countyfips_x            16833 non-null  Int64  \n",
      " 4   tract_x                 16833 non-null  Int64  \n",
      " 5   tract_name_x            16833 non-null  object \n",
      " 6   total_claims            16833 non-null  Int64  \n",
      " 7   edu_8th_or_less         16833 non-null  Int64  \n",
      " 8   edu_grades_9_11         16833 non-null  Int64  \n",
      " 9   edu_hs_grad_equiv       16833 non-null  Int64  \n",
      " 10  edu_post_hs             16833 non-null  float64\n",
      " 11  edu_unknown             16833 non-null  Int64  \n",
      " 12  top_category_employer1  16833 non-null  object \n",
      " 13  top_category_employer2  16833 non-null  object \n",
      " 14  top_category_employer3  16833 non-null  object \n",
      " 15  gender_female           16833 non-null  float64\n",
      " 16  gender_male             16833 non-null  float64\n",
      " 17  gender_na               16833 non-null  Int64  \n",
      " 18  race_amerindian         16833 non-null  Int64  \n",
      " 19  race_asian              16833 non-null  Int64  \n",
      " 20  race_black              16833 non-null  Int64  \n",
      " 21  race_noanswer           16833 non-null  Int64  \n",
      " 22  race_hawaiiannative     16833 non-null  Int64  \n",
      " 23  race_other              16833 non-null  Int64  \n",
      " 24  race_white              16833 non-null  Int64  \n",
      " 25  countyfips_y            16833 non-null  Int64  \n",
      " 26  tract_y                 16833 non-null  Int64  \n",
      " 27  tract_name_y            16833 non-null  object \n",
      " 28  average_wage            16833 non-null  float64\n",
      "dtypes: Int64(19), float64(4), object(6)\n",
      "memory usage: 4.2+ MB\n"
     ]
    }
   ],
   "source": [
    "final_data.info()"
   ]
  },
  {
   "cell_type": "code",
   "execution_count": 144,
   "id": "836c4730",
   "metadata": {
    "execution": {
     "iopub.execute_input": "2023-05-10T01:32:05.363442Z",
     "iopub.status.busy": "2023-05-10T01:32:05.361098Z",
     "iopub.status.idle": "2023-05-10T01:32:05.370856Z",
     "shell.execute_reply": "2023-05-10T01:32:05.370078Z"
    }
   },
   "outputs": [],
   "source": [
    "final_data1 = final_data.drop(['timeperiod','tract_x','tract_name_x','tract_y','tract_name_y','countyfips_y'],axis=1)"
   ]
  },
  {
   "cell_type": "code",
   "execution_count": 145,
   "id": "961b4c46",
   "metadata": {
    "execution": {
     "iopub.execute_input": "2023-05-10T01:32:05.374471Z",
     "iopub.status.busy": "2023-05-10T01:32:05.374192Z",
     "iopub.status.idle": "2023-05-10T01:32:05.397290Z",
     "shell.execute_reply": "2023-05-10T01:32:05.396346Z"
    }
   },
   "outputs": [],
   "source": [
    "fin = pd.get_dummies(final_data1,columns = ['week_number','countyfips_x','top_category_employer1','top_category_employer2','top_category_employer3'])"
   ]
  },
  {
   "cell_type": "code",
   "execution_count": 146,
   "id": "1abbc6bc",
   "metadata": {
    "execution": {
     "iopub.execute_input": "2023-05-10T01:32:05.401683Z",
     "iopub.status.busy": "2023-05-10T01:32:05.401380Z",
     "iopub.status.idle": "2023-05-10T01:32:05.408515Z",
     "shell.execute_reply": "2023-05-10T01:32:05.407511Z"
    }
   },
   "outputs": [],
   "source": [
    "X = fin.drop(['uu_id','total_claims'],axis=1)\n",
    "Y=fin['total_claims']"
   ]
  },
  {
   "cell_type": "code",
   "execution_count": 147,
   "id": "7cf430e8",
   "metadata": {
    "execution": {
     "iopub.execute_input": "2023-05-10T01:32:05.414747Z",
     "iopub.status.busy": "2023-05-10T01:32:05.413843Z",
     "iopub.status.idle": "2023-05-10T01:32:05.421969Z",
     "shell.execute_reply": "2023-05-10T01:32:05.421244Z"
    }
   },
   "outputs": [],
   "source": [
    "X = fin.drop(['uu_id','total_claims'],axis=1)\n",
    "Y=fin[['total_claims']]"
   ]
  },
  {
   "cell_type": "code",
   "execution_count": 148,
   "id": "7e3a6a9c",
   "metadata": {
    "execution": {
     "iopub.execute_input": "2023-05-10T01:32:05.425634Z",
     "iopub.status.busy": "2023-05-10T01:32:05.425340Z",
     "iopub.status.idle": "2023-05-10T01:32:05.446093Z",
     "shell.execute_reply": "2023-05-10T01:32:05.444950Z"
    }
   },
   "outputs": [],
   "source": [
    "from sklearn.model_selection import train_test_split\n",
    "from sklearn.linear_model import LinearRegression\n",
    "X_train, X_test,Y_train, Y_test = train_test_split(X,Y,test_size = 0.2, random_state=32)"
   ]
  },
  {
   "cell_type": "code",
   "execution_count": 149,
   "id": "f9f00ae3",
   "metadata": {
    "execution": {
     "iopub.execute_input": "2023-05-10T01:32:05.451026Z",
     "iopub.status.busy": "2023-05-10T01:32:05.450689Z",
     "iopub.status.idle": "2023-05-10T01:32:05.618865Z",
     "shell.execute_reply": "2023-05-10T01:32:05.618004Z"
    }
   },
   "outputs": [],
   "source": [
    "lm = LinearRegression().fit(X_train,Y_train)\n",
    "prediction = lm.predict(X_test)"
   ]
  },
  {
   "cell_type": "code",
   "execution_count": 150,
   "id": "f6400862",
   "metadata": {
    "execution": {
     "iopub.execute_input": "2023-05-10T01:32:05.623330Z",
     "iopub.status.busy": "2023-05-10T01:32:05.622878Z",
     "iopub.status.idle": "2023-05-10T01:32:05.657268Z",
     "shell.execute_reply": "2023-05-10T01:32:05.656415Z"
    }
   },
   "outputs": [
    {
     "data": {
      "text/plain": [
       "0.7231720964615613"
      ]
     },
     "execution_count": 150,
     "metadata": {},
     "output_type": "execute_result"
    }
   ],
   "source": [
    "lm.score(X_test, Y_test)"
   ]
  },
  {
   "cell_type": "code",
   "execution_count": 151,
   "id": "24f8da31",
   "metadata": {
    "execution": {
     "iopub.execute_input": "2023-05-10T01:32:05.666472Z",
     "iopub.status.busy": "2023-05-10T01:32:05.665823Z",
     "iopub.status.idle": "2023-05-10T01:32:05.673876Z",
     "shell.execute_reply": "2023-05-10T01:32:05.672325Z"
    }
   },
   "outputs": [],
   "source": [
    "X = fin.drop(['uu_id','total_claims'],axis=1)\n",
    "Y=fin['total_claims']"
   ]
  },
  {
   "cell_type": "code",
   "execution_count": 152,
   "id": "da78e87a",
   "metadata": {
    "execution": {
     "iopub.execute_input": "2023-05-10T01:32:05.679947Z",
     "iopub.status.busy": "2023-05-10T01:32:05.679540Z",
     "iopub.status.idle": "2023-05-10T01:32:05.700192Z",
     "shell.execute_reply": "2023-05-10T01:32:05.699115Z"
    }
   },
   "outputs": [],
   "source": [
    "from sklearn.model_selection import train_test_split\n",
    "from sklearn.linear_model import LinearRegression\n",
    "X_train, X_test,Y_train, Y_test = train_test_split(X,Y,test_size = 0.2, random_state=32)"
   ]
  },
  {
   "cell_type": "code",
   "execution_count": 153,
   "id": "91586386",
   "metadata": {
    "execution": {
     "iopub.execute_input": "2023-05-10T01:32:05.704089Z",
     "iopub.status.busy": "2023-05-10T01:32:05.703803Z",
     "iopub.status.idle": "2023-05-10T01:32:05.990223Z",
     "shell.execute_reply": "2023-05-10T01:32:05.989284Z"
    }
   },
   "outputs": [],
   "source": [
    "lm = LinearRegression().fit(X_train,Y_train)\n",
    "prediction = lm.predict(X_test)"
   ]
  },
  {
   "cell_type": "code",
   "execution_count": 154,
   "id": "ad234c15",
   "metadata": {
    "execution": {
     "iopub.execute_input": "2023-05-10T01:32:06.001939Z",
     "iopub.status.busy": "2023-05-10T01:32:06.001308Z",
     "iopub.status.idle": "2023-05-10T01:32:06.034052Z",
     "shell.execute_reply": "2023-05-10T01:32:06.033173Z"
    }
   },
   "outputs": [
    {
     "data": {
      "text/plain": [
       "0.7231720964615613"
      ]
     },
     "execution_count": 154,
     "metadata": {},
     "output_type": "execute_result"
    }
   ],
   "source": [
    "lm.score(X_test, Y_test)"
   ]
  },
  {
   "cell_type": "code",
   "execution_count": 155,
   "id": "b075928e",
   "metadata": {
    "execution": {
     "iopub.execute_input": "2023-05-10T01:32:06.038828Z",
     "iopub.status.busy": "2023-05-10T01:32:06.037959Z",
     "iopub.status.idle": "2023-05-10T01:32:12.471848Z",
     "shell.execute_reply": "2023-05-10T01:32:12.471473Z"
    }
   },
   "outputs": [],
   "source": [
    "import xgboost as xgb\n",
    "model = xgb.XGBRegressor(n_estimators=500, max_depth=4,eta=0.1).fit(X_train,Y_train)\n",
    "y_pred = model.predict(X_test)"
   ]
  },
  {
   "cell_type": "code",
   "execution_count": 156,
   "id": "f75cda13",
   "metadata": {
    "execution": {
     "iopub.execute_input": "2023-05-10T01:32:12.473932Z",
     "iopub.status.busy": "2023-05-10T01:32:12.473807Z",
     "iopub.status.idle": "2023-05-10T01:32:12.488096Z",
     "shell.execute_reply": "2023-05-10T01:32:12.487224Z"
    }
   },
   "outputs": [
    {
     "data": {
      "text/plain": [
       "0.9066691665646758"
      ]
     },
     "execution_count": 156,
     "metadata": {},
     "output_type": "execute_result"
    }
   ],
   "source": [
    "model.score(X_test, Y_test)"
   ]
  },
  {
   "cell_type": "code",
   "execution_count": 157,
   "id": "68088917",
   "metadata": {
    "execution": {
     "iopub.execute_input": "2023-05-10T01:32:12.490681Z",
     "iopub.status.busy": "2023-05-10T01:32:12.490396Z",
     "iopub.status.idle": "2023-05-10T01:32:12.598509Z",
     "shell.execute_reply": "2023-05-10T01:32:12.598100Z"
    }
   },
   "outputs": [
    {
     "ename": "ValueError",
     "evalue": "Length of values (3367) does not match length of index (525)",
     "output_type": "error",
     "traceback": [
      "\u001b[0;31m---------------------------------------------------------------------------\u001b[0m",
      "\u001b[0;31mValueError\u001b[0m                                Traceback (most recent call last)",
      "Cell \u001b[0;32mIn [157], line 3\u001b[0m\n\u001b[1;32m      1\u001b[0m df_pred_final \u001b[38;5;241m=\u001b[39m pred_data[[\u001b[38;5;124m'\u001b[39m\u001b[38;5;124muu_id\u001b[39m\u001b[38;5;124m'\u001b[39m]]\n\u001b[1;32m      2\u001b[0m df_pred_final[\u001b[38;5;124m'\u001b[39m\u001b[38;5;124mweek_number\u001b[39m\u001b[38;5;124m'\u001b[39m] \u001b[38;5;241m=\u001b[39m pred_data[[\u001b[38;5;124m'\u001b[39m\u001b[38;5;124mweek_number\u001b[39m\u001b[38;5;124m'\u001b[39m]]\n\u001b[0;32m----> 3\u001b[0m \u001b[43mdf_pred_final\u001b[49m\u001b[43m[\u001b[49m\u001b[38;5;124;43m\"\u001b[39;49m\u001b[38;5;124;43mtotal_claims\u001b[39;49m\u001b[38;5;124;43m\"\u001b[39;49m\u001b[43m]\u001b[49m \u001b[38;5;241m=\u001b[39m y_pred\n",
      "File \u001b[0;32m/opt/homebrew/lib/python3.9/site-packages/pandas/core/frame.py:3977\u001b[0m, in \u001b[0;36mDataFrame.__setitem__\u001b[0;34m(self, key, value)\u001b[0m\n\u001b[1;32m   3974\u001b[0m     \u001b[38;5;28mself\u001b[39m\u001b[38;5;241m.\u001b[39m_setitem_array([key], value)\n\u001b[1;32m   3975\u001b[0m \u001b[38;5;28;01melse\u001b[39;00m:\n\u001b[1;32m   3976\u001b[0m     \u001b[38;5;66;03m# set column\u001b[39;00m\n\u001b[0;32m-> 3977\u001b[0m     \u001b[38;5;28;43mself\u001b[39;49m\u001b[38;5;241;43m.\u001b[39;49m\u001b[43m_set_item\u001b[49m\u001b[43m(\u001b[49m\u001b[43mkey\u001b[49m\u001b[43m,\u001b[49m\u001b[43m \u001b[49m\u001b[43mvalue\u001b[49m\u001b[43m)\u001b[49m\n",
      "File \u001b[0;32m/opt/homebrew/lib/python3.9/site-packages/pandas/core/frame.py:4171\u001b[0m, in \u001b[0;36mDataFrame._set_item\u001b[0;34m(self, key, value)\u001b[0m\n\u001b[1;32m   4161\u001b[0m \u001b[38;5;28;01mdef\u001b[39;00m \u001b[38;5;21m_set_item\u001b[39m(\u001b[38;5;28mself\u001b[39m, key, value) \u001b[38;5;241m-\u001b[39m\u001b[38;5;241m>\u001b[39m \u001b[38;5;28;01mNone\u001b[39;00m:\n\u001b[1;32m   4162\u001b[0m     \u001b[38;5;124;03m\"\"\"\u001b[39;00m\n\u001b[1;32m   4163\u001b[0m \u001b[38;5;124;03m    Add series to DataFrame in specified column.\u001b[39;00m\n\u001b[1;32m   4164\u001b[0m \n\u001b[0;32m   (...)\u001b[0m\n\u001b[1;32m   4169\u001b[0m \u001b[38;5;124;03m    ensure homogeneity.\u001b[39;00m\n\u001b[1;32m   4170\u001b[0m \u001b[38;5;124;03m    \"\"\"\u001b[39;00m\n\u001b[0;32m-> 4171\u001b[0m     value \u001b[38;5;241m=\u001b[39m \u001b[38;5;28;43mself\u001b[39;49m\u001b[38;5;241;43m.\u001b[39;49m\u001b[43m_sanitize_column\u001b[49m\u001b[43m(\u001b[49m\u001b[43mvalue\u001b[49m\u001b[43m)\u001b[49m\n\u001b[1;32m   4173\u001b[0m     \u001b[38;5;28;01mif\u001b[39;00m (\n\u001b[1;32m   4174\u001b[0m         key \u001b[38;5;129;01min\u001b[39;00m \u001b[38;5;28mself\u001b[39m\u001b[38;5;241m.\u001b[39mcolumns\n\u001b[1;32m   4175\u001b[0m         \u001b[38;5;129;01mand\u001b[39;00m value\u001b[38;5;241m.\u001b[39mndim \u001b[38;5;241m==\u001b[39m \u001b[38;5;241m1\u001b[39m\n\u001b[1;32m   4176\u001b[0m         \u001b[38;5;129;01mand\u001b[39;00m \u001b[38;5;129;01mnot\u001b[39;00m is_extension_array_dtype(value)\n\u001b[1;32m   4177\u001b[0m     ):\n\u001b[1;32m   4178\u001b[0m         \u001b[38;5;66;03m# broadcast across multiple columns if necessary\u001b[39;00m\n\u001b[1;32m   4179\u001b[0m         \u001b[38;5;28;01mif\u001b[39;00m \u001b[38;5;129;01mnot\u001b[39;00m \u001b[38;5;28mself\u001b[39m\u001b[38;5;241m.\u001b[39mcolumns\u001b[38;5;241m.\u001b[39mis_unique \u001b[38;5;129;01mor\u001b[39;00m \u001b[38;5;28misinstance\u001b[39m(\u001b[38;5;28mself\u001b[39m\u001b[38;5;241m.\u001b[39mcolumns, MultiIndex):\n",
      "File \u001b[0;32m/opt/homebrew/lib/python3.9/site-packages/pandas/core/frame.py:4904\u001b[0m, in \u001b[0;36mDataFrame._sanitize_column\u001b[0;34m(self, value)\u001b[0m\n\u001b[1;32m   4901\u001b[0m     \u001b[38;5;28;01mreturn\u001b[39;00m _reindex_for_setitem(Series(value), \u001b[38;5;28mself\u001b[39m\u001b[38;5;241m.\u001b[39mindex)\n\u001b[1;32m   4903\u001b[0m \u001b[38;5;28;01mif\u001b[39;00m is_list_like(value):\n\u001b[0;32m-> 4904\u001b[0m     \u001b[43mcom\u001b[49m\u001b[38;5;241;43m.\u001b[39;49m\u001b[43mrequire_length_match\u001b[49m\u001b[43m(\u001b[49m\u001b[43mvalue\u001b[49m\u001b[43m,\u001b[49m\u001b[43m \u001b[49m\u001b[38;5;28;43mself\u001b[39;49m\u001b[38;5;241;43m.\u001b[39;49m\u001b[43mindex\u001b[49m\u001b[43m)\u001b[49m\n\u001b[1;32m   4905\u001b[0m \u001b[38;5;28;01mreturn\u001b[39;00m sanitize_array(value, \u001b[38;5;28mself\u001b[39m\u001b[38;5;241m.\u001b[39mindex, copy\u001b[38;5;241m=\u001b[39m\u001b[38;5;28;01mTrue\u001b[39;00m, allow_2d\u001b[38;5;241m=\u001b[39m\u001b[38;5;28;01mTrue\u001b[39;00m)\n",
      "File \u001b[0;32m/opt/homebrew/lib/python3.9/site-packages/pandas/core/common.py:561\u001b[0m, in \u001b[0;36mrequire_length_match\u001b[0;34m(data, index)\u001b[0m\n\u001b[1;32m    557\u001b[0m \u001b[38;5;124;03m\"\"\"\u001b[39;00m\n\u001b[1;32m    558\u001b[0m \u001b[38;5;124;03mCheck the length of data matches the length of the index.\u001b[39;00m\n\u001b[1;32m    559\u001b[0m \u001b[38;5;124;03m\"\"\"\u001b[39;00m\n\u001b[1;32m    560\u001b[0m \u001b[38;5;28;01mif\u001b[39;00m \u001b[38;5;28mlen\u001b[39m(data) \u001b[38;5;241m!=\u001b[39m \u001b[38;5;28mlen\u001b[39m(index):\n\u001b[0;32m--> 561\u001b[0m     \u001b[38;5;28;01mraise\u001b[39;00m \u001b[38;5;167;01mValueError\u001b[39;00m(\n\u001b[1;32m    562\u001b[0m         \u001b[38;5;124m\"\u001b[39m\u001b[38;5;124mLength of values \u001b[39m\u001b[38;5;124m\"\u001b[39m\n\u001b[1;32m    563\u001b[0m         \u001b[38;5;124mf\u001b[39m\u001b[38;5;124m\"\u001b[39m\u001b[38;5;124m(\u001b[39m\u001b[38;5;132;01m{\u001b[39;00m\u001b[38;5;28mlen\u001b[39m(data)\u001b[38;5;132;01m}\u001b[39;00m\u001b[38;5;124m) \u001b[39m\u001b[38;5;124m\"\u001b[39m\n\u001b[1;32m    564\u001b[0m         \u001b[38;5;124m\"\u001b[39m\u001b[38;5;124mdoes not match length of index \u001b[39m\u001b[38;5;124m\"\u001b[39m\n\u001b[1;32m    565\u001b[0m         \u001b[38;5;124mf\u001b[39m\u001b[38;5;124m\"\u001b[39m\u001b[38;5;124m(\u001b[39m\u001b[38;5;132;01m{\u001b[39;00m\u001b[38;5;28mlen\u001b[39m(index)\u001b[38;5;132;01m}\u001b[39;00m\u001b[38;5;124m)\u001b[39m\u001b[38;5;124m\"\u001b[39m\n\u001b[1;32m    566\u001b[0m     )\n",
      "\u001b[0;31mValueError\u001b[0m: Length of values (3367) does not match length of index (525)"
     ]
    }
   ],
   "source": [
    "df_pred_final = pred_data[['uu_id']]\n",
    "df_pred_final['week_number'] = pred_data[['week_number']]\n",
    "df_pred_final[\"total_claims\"] = y_pred"
   ]
  },
  {
   "cell_type": "code",
   "execution_count": 158,
   "id": "74c9daf9",
   "metadata": {
    "execution": {
     "iopub.execute_input": "2023-05-10T01:32:12.600300Z",
     "iopub.status.busy": "2023-05-10T01:32:12.600179Z",
     "iopub.status.idle": "2023-05-10T01:32:12.614400Z",
     "shell.execute_reply": "2023-05-10T01:32:12.613956Z"
    }
   },
   "outputs": [],
   "source": [
    "Y_test_final = pred_data.merge(fin,how='left',on= 'uu_id')"
   ]
  },
  {
   "cell_type": "code",
   "execution_count": 159,
   "id": "bbe4668d",
   "metadata": {
    "execution": {
     "iopub.execute_input": "2023-05-10T01:32:12.616305Z",
     "iopub.status.busy": "2023-05-10T01:32:12.616146Z",
     "iopub.status.idle": "2023-05-10T01:32:12.626023Z",
     "shell.execute_reply": "2023-05-10T01:32:12.625534Z"
    }
   },
   "outputs": [
    {
     "data": {
      "text/html": [
       "<div>\n",
       "<style scoped>\n",
       "    .dataframe tbody tr th:only-of-type {\n",
       "        vertical-align: middle;\n",
       "    }\n",
       "\n",
       "    .dataframe tbody tr th {\n",
       "        vertical-align: top;\n",
       "    }\n",
       "\n",
       "    .dataframe thead th {\n",
       "        text-align: right;\n",
       "    }\n",
       "</style>\n",
       "<table border=\"1\" class=\"dataframe\">\n",
       "  <thead>\n",
       "    <tr style=\"text-align: right;\">\n",
       "      <th></th>\n",
       "      <th>uu_id</th>\n",
       "      <th>week_number</th>\n",
       "      <th>total_claims</th>\n",
       "      <th>edu_8th_or_less</th>\n",
       "      <th>edu_grades_9_11</th>\n",
       "      <th>edu_hs_grad_equiv</th>\n",
       "      <th>edu_post_hs</th>\n",
       "      <th>edu_unknown</th>\n",
       "      <th>gender_female</th>\n",
       "      <th>gender_male</th>\n",
       "      <th>...</th>\n",
       "      <th>top_category_employer3_54</th>\n",
       "      <th>top_category_employer3_55</th>\n",
       "      <th>top_category_employer3_56</th>\n",
       "      <th>top_category_employer3_61</th>\n",
       "      <th>top_category_employer3_62</th>\n",
       "      <th>top_category_employer3_71</th>\n",
       "      <th>top_category_employer3_72</th>\n",
       "      <th>top_category_employer3_81</th>\n",
       "      <th>top_category_employer3_92</th>\n",
       "      <th>top_category_employer3_99</th>\n",
       "    </tr>\n",
       "  </thead>\n",
       "  <tbody>\n",
       "    <tr>\n",
       "      <th>0</th>\n",
       "      <td>5bf51fc2e162d6faf9e3cf79e4198378</td>\n",
       "      <td>44</td>\n",
       "      <td>20</td>\n",
       "      <td>0</td>\n",
       "      <td>0</td>\n",
       "      <td>11</td>\n",
       "      <td>9.166667</td>\n",
       "      <td>0</td>\n",
       "      <td>17.416667</td>\n",
       "      <td>14.800000</td>\n",
       "      <td>...</td>\n",
       "      <td>0</td>\n",
       "      <td>0</td>\n",
       "      <td>0</td>\n",
       "      <td>0</td>\n",
       "      <td>0</td>\n",
       "      <td>0</td>\n",
       "      <td>0</td>\n",
       "      <td>0</td>\n",
       "      <td>0</td>\n",
       "      <td>0</td>\n",
       "    </tr>\n",
       "    <tr>\n",
       "      <th>1</th>\n",
       "      <td>5bf51fc2e162d6faf9e3cf79e4198378</td>\n",
       "      <td>44</td>\n",
       "      <td>11</td>\n",
       "      <td>0</td>\n",
       "      <td>0</td>\n",
       "      <td>13</td>\n",
       "      <td>9.166667</td>\n",
       "      <td>0</td>\n",
       "      <td>17.416667</td>\n",
       "      <td>14.800000</td>\n",
       "      <td>...</td>\n",
       "      <td>0</td>\n",
       "      <td>0</td>\n",
       "      <td>0</td>\n",
       "      <td>0</td>\n",
       "      <td>0</td>\n",
       "      <td>0</td>\n",
       "      <td>0</td>\n",
       "      <td>0</td>\n",
       "      <td>0</td>\n",
       "      <td>0</td>\n",
       "    </tr>\n",
       "    <tr>\n",
       "      <th>2</th>\n",
       "      <td>5bf51fc2e162d6faf9e3cf79e4198378</td>\n",
       "      <td>44</td>\n",
       "      <td>11</td>\n",
       "      <td>0</td>\n",
       "      <td>0</td>\n",
       "      <td>13</td>\n",
       "      <td>9.166667</td>\n",
       "      <td>0</td>\n",
       "      <td>17.416667</td>\n",
       "      <td>14.800000</td>\n",
       "      <td>...</td>\n",
       "      <td>0</td>\n",
       "      <td>0</td>\n",
       "      <td>0</td>\n",
       "      <td>0</td>\n",
       "      <td>0</td>\n",
       "      <td>0</td>\n",
       "      <td>0</td>\n",
       "      <td>0</td>\n",
       "      <td>0</td>\n",
       "      <td>0</td>\n",
       "    </tr>\n",
       "    <tr>\n",
       "      <th>3</th>\n",
       "      <td>5bf51fc2e162d6faf9e3cf79e4198378</td>\n",
       "      <td>44</td>\n",
       "      <td>20</td>\n",
       "      <td>0</td>\n",
       "      <td>0</td>\n",
       "      <td>13</td>\n",
       "      <td>9.166667</td>\n",
       "      <td>0</td>\n",
       "      <td>17.416667</td>\n",
       "      <td>14.800000</td>\n",
       "      <td>...</td>\n",
       "      <td>0</td>\n",
       "      <td>0</td>\n",
       "      <td>0</td>\n",
       "      <td>0</td>\n",
       "      <td>0</td>\n",
       "      <td>0</td>\n",
       "      <td>0</td>\n",
       "      <td>0</td>\n",
       "      <td>0</td>\n",
       "      <td>0</td>\n",
       "    </tr>\n",
       "    <tr>\n",
       "      <th>4</th>\n",
       "      <td>5bf51fc2e162d6faf9e3cf79e4198378</td>\n",
       "      <td>44</td>\n",
       "      <td>20</td>\n",
       "      <td>0</td>\n",
       "      <td>0</td>\n",
       "      <td>13</td>\n",
       "      <td>9.166667</td>\n",
       "      <td>0</td>\n",
       "      <td>17.416667</td>\n",
       "      <td>14.800000</td>\n",
       "      <td>...</td>\n",
       "      <td>0</td>\n",
       "      <td>0</td>\n",
       "      <td>0</td>\n",
       "      <td>0</td>\n",
       "      <td>0</td>\n",
       "      <td>0</td>\n",
       "      <td>0</td>\n",
       "      <td>0</td>\n",
       "      <td>0</td>\n",
       "      <td>0</td>\n",
       "    </tr>\n",
       "    <tr>\n",
       "      <th>...</th>\n",
       "      <td>...</td>\n",
       "      <td>...</td>\n",
       "      <td>...</td>\n",
       "      <td>...</td>\n",
       "      <td>...</td>\n",
       "      <td>...</td>\n",
       "      <td>...</td>\n",
       "      <td>...</td>\n",
       "      <td>...</td>\n",
       "      <td>...</td>\n",
       "      <td>...</td>\n",
       "      <td>...</td>\n",
       "      <td>...</td>\n",
       "      <td>...</td>\n",
       "      <td>...</td>\n",
       "      <td>...</td>\n",
       "      <td>...</td>\n",
       "      <td>...</td>\n",
       "      <td>...</td>\n",
       "      <td>...</td>\n",
       "      <td>...</td>\n",
       "    </tr>\n",
       "    <tr>\n",
       "      <th>16828</th>\n",
       "      <td>932a58530abff8a48558e2a15639d453</td>\n",
       "      <td>44</td>\n",
       "      <td>17</td>\n",
       "      <td>0</td>\n",
       "      <td>0</td>\n",
       "      <td>17</td>\n",
       "      <td>0.000000</td>\n",
       "      <td>0</td>\n",
       "      <td>17.859649</td>\n",
       "      <td>17.985075</td>\n",
       "      <td>...</td>\n",
       "      <td>0</td>\n",
       "      <td>0</td>\n",
       "      <td>0</td>\n",
       "      <td>0</td>\n",
       "      <td>0</td>\n",
       "      <td>0</td>\n",
       "      <td>0</td>\n",
       "      <td>1</td>\n",
       "      <td>0</td>\n",
       "      <td>0</td>\n",
       "    </tr>\n",
       "    <tr>\n",
       "      <th>16829</th>\n",
       "      <td>932a58530abff8a48558e2a15639d453</td>\n",
       "      <td>44</td>\n",
       "      <td>11</td>\n",
       "      <td>0</td>\n",
       "      <td>0</td>\n",
       "      <td>17</td>\n",
       "      <td>14.539683</td>\n",
       "      <td>0</td>\n",
       "      <td>17.859649</td>\n",
       "      <td>17.985075</td>\n",
       "      <td>...</td>\n",
       "      <td>0</td>\n",
       "      <td>0</td>\n",
       "      <td>0</td>\n",
       "      <td>0</td>\n",
       "      <td>0</td>\n",
       "      <td>0</td>\n",
       "      <td>0</td>\n",
       "      <td>1</td>\n",
       "      <td>0</td>\n",
       "      <td>0</td>\n",
       "    </tr>\n",
       "    <tr>\n",
       "      <th>16830</th>\n",
       "      <td>932a58530abff8a48558e2a15639d453</td>\n",
       "      <td>44</td>\n",
       "      <td>25</td>\n",
       "      <td>0</td>\n",
       "      <td>15</td>\n",
       "      <td>10</td>\n",
       "      <td>0.000000</td>\n",
       "      <td>0</td>\n",
       "      <td>17.859649</td>\n",
       "      <td>17.985075</td>\n",
       "      <td>...</td>\n",
       "      <td>0</td>\n",
       "      <td>0</td>\n",
       "      <td>0</td>\n",
       "      <td>0</td>\n",
       "      <td>0</td>\n",
       "      <td>0</td>\n",
       "      <td>0</td>\n",
       "      <td>1</td>\n",
       "      <td>0</td>\n",
       "      <td>0</td>\n",
       "    </tr>\n",
       "    <tr>\n",
       "      <th>16831</th>\n",
       "      <td>932a58530abff8a48558e2a15639d453</td>\n",
       "      <td>44</td>\n",
       "      <td>13</td>\n",
       "      <td>0</td>\n",
       "      <td>0</td>\n",
       "      <td>17</td>\n",
       "      <td>14.539683</td>\n",
       "      <td>0</td>\n",
       "      <td>17.859649</td>\n",
       "      <td>17.985075</td>\n",
       "      <td>...</td>\n",
       "      <td>0</td>\n",
       "      <td>0</td>\n",
       "      <td>0</td>\n",
       "      <td>0</td>\n",
       "      <td>0</td>\n",
       "      <td>1</td>\n",
       "      <td>0</td>\n",
       "      <td>0</td>\n",
       "      <td>0</td>\n",
       "      <td>0</td>\n",
       "    </tr>\n",
       "    <tr>\n",
       "      <th>16832</th>\n",
       "      <td>932a58530abff8a48558e2a15639d453</td>\n",
       "      <td>44</td>\n",
       "      <td>30</td>\n",
       "      <td>0</td>\n",
       "      <td>0</td>\n",
       "      <td>14</td>\n",
       "      <td>16.000000</td>\n",
       "      <td>0</td>\n",
       "      <td>12.000000</td>\n",
       "      <td>18.000000</td>\n",
       "      <td>...</td>\n",
       "      <td>0</td>\n",
       "      <td>0</td>\n",
       "      <td>1</td>\n",
       "      <td>0</td>\n",
       "      <td>0</td>\n",
       "      <td>0</td>\n",
       "      <td>0</td>\n",
       "      <td>0</td>\n",
       "      <td>0</td>\n",
       "      <td>0</td>\n",
       "    </tr>\n",
       "  </tbody>\n",
       "</table>\n",
       "<p>16833 rows × 177 columns</p>\n",
       "</div>"
      ],
      "text/plain": [
       "                                  uu_id  week_number  total_claims  \\\n",
       "0      5bf51fc2e162d6faf9e3cf79e4198378           44            20   \n",
       "1      5bf51fc2e162d6faf9e3cf79e4198378           44            11   \n",
       "2      5bf51fc2e162d6faf9e3cf79e4198378           44            11   \n",
       "3      5bf51fc2e162d6faf9e3cf79e4198378           44            20   \n",
       "4      5bf51fc2e162d6faf9e3cf79e4198378           44            20   \n",
       "...                                 ...          ...           ...   \n",
       "16828  932a58530abff8a48558e2a15639d453           44            17   \n",
       "16829  932a58530abff8a48558e2a15639d453           44            11   \n",
       "16830  932a58530abff8a48558e2a15639d453           44            25   \n",
       "16831  932a58530abff8a48558e2a15639d453           44            13   \n",
       "16832  932a58530abff8a48558e2a15639d453           44            30   \n",
       "\n",
       "       edu_8th_or_less  edu_grades_9_11  edu_hs_grad_equiv  edu_post_hs  \\\n",
       "0                    0                0                 11     9.166667   \n",
       "1                    0                0                 13     9.166667   \n",
       "2                    0                0                 13     9.166667   \n",
       "3                    0                0                 13     9.166667   \n",
       "4                    0                0                 13     9.166667   \n",
       "...                ...              ...                ...          ...   \n",
       "16828                0                0                 17     0.000000   \n",
       "16829                0                0                 17    14.539683   \n",
       "16830                0               15                 10     0.000000   \n",
       "16831                0                0                 17    14.539683   \n",
       "16832                0                0                 14    16.000000   \n",
       "\n",
       "       edu_unknown  gender_female  gender_male  ...  \\\n",
       "0                0      17.416667    14.800000  ...   \n",
       "1                0      17.416667    14.800000  ...   \n",
       "2                0      17.416667    14.800000  ...   \n",
       "3                0      17.416667    14.800000  ...   \n",
       "4                0      17.416667    14.800000  ...   \n",
       "...            ...            ...          ...  ...   \n",
       "16828            0      17.859649    17.985075  ...   \n",
       "16829            0      17.859649    17.985075  ...   \n",
       "16830            0      17.859649    17.985075  ...   \n",
       "16831            0      17.859649    17.985075  ...   \n",
       "16832            0      12.000000    18.000000  ...   \n",
       "\n",
       "       top_category_employer3_54  top_category_employer3_55  \\\n",
       "0                              0                          0   \n",
       "1                              0                          0   \n",
       "2                              0                          0   \n",
       "3                              0                          0   \n",
       "4                              0                          0   \n",
       "...                          ...                        ...   \n",
       "16828                          0                          0   \n",
       "16829                          0                          0   \n",
       "16830                          0                          0   \n",
       "16831                          0                          0   \n",
       "16832                          0                          0   \n",
       "\n",
       "       top_category_employer3_56  top_category_employer3_61  \\\n",
       "0                              0                          0   \n",
       "1                              0                          0   \n",
       "2                              0                          0   \n",
       "3                              0                          0   \n",
       "4                              0                          0   \n",
       "...                          ...                        ...   \n",
       "16828                          0                          0   \n",
       "16829                          0                          0   \n",
       "16830                          0                          0   \n",
       "16831                          0                          0   \n",
       "16832                          1                          0   \n",
       "\n",
       "       top_category_employer3_62  top_category_employer3_71  \\\n",
       "0                              0                          0   \n",
       "1                              0                          0   \n",
       "2                              0                          0   \n",
       "3                              0                          0   \n",
       "4                              0                          0   \n",
       "...                          ...                        ...   \n",
       "16828                          0                          0   \n",
       "16829                          0                          0   \n",
       "16830                          0                          0   \n",
       "16831                          0                          1   \n",
       "16832                          0                          0   \n",
       "\n",
       "       top_category_employer3_72  top_category_employer3_81  \\\n",
       "0                              0                          0   \n",
       "1                              0                          0   \n",
       "2                              0                          0   \n",
       "3                              0                          0   \n",
       "4                              0                          0   \n",
       "...                          ...                        ...   \n",
       "16828                          0                          1   \n",
       "16829                          0                          1   \n",
       "16830                          0                          1   \n",
       "16831                          0                          0   \n",
       "16832                          0                          0   \n",
       "\n",
       "       top_category_employer3_92  top_category_employer3_99  \n",
       "0                              0                          0  \n",
       "1                              0                          0  \n",
       "2                              0                          0  \n",
       "3                              0                          0  \n",
       "4                              0                          0  \n",
       "...                          ...                        ...  \n",
       "16828                          0                          0  \n",
       "16829                          0                          0  \n",
       "16830                          0                          0  \n",
       "16831                          0                          0  \n",
       "16832                          0                          0  \n",
       "\n",
       "[16833 rows x 177 columns]"
      ]
     },
     "execution_count": 159,
     "metadata": {},
     "output_type": "execute_result"
    }
   ],
   "source": [
    "Y_test_final"
   ]
  },
  {
   "cell_type": "code",
   "execution_count": 160,
   "id": "b4c82fcc",
   "metadata": {
    "execution": {
     "iopub.execute_input": "2023-05-10T01:32:12.628594Z",
     "iopub.status.busy": "2023-05-10T01:32:12.628435Z",
     "iopub.status.idle": "2023-05-10T01:32:12.642429Z",
     "shell.execute_reply": "2023-05-10T01:32:12.642083Z"
    }
   },
   "outputs": [],
   "source": [
    "Y_test_final = pred_data.merge(fin,how='inner',on= 'uu_id')"
   ]
  },
  {
   "cell_type": "code",
   "execution_count": 161,
   "id": "4a5a4adf",
   "metadata": {
    "execution": {
     "iopub.execute_input": "2023-05-10T01:32:12.644911Z",
     "iopub.status.busy": "2023-05-10T01:32:12.644732Z",
     "iopub.status.idle": "2023-05-10T01:32:12.655242Z",
     "shell.execute_reply": "2023-05-10T01:32:12.654887Z"
    }
   },
   "outputs": [
    {
     "data": {
      "text/html": [
       "<div>\n",
       "<style scoped>\n",
       "    .dataframe tbody tr th:only-of-type {\n",
       "        vertical-align: middle;\n",
       "    }\n",
       "\n",
       "    .dataframe tbody tr th {\n",
       "        vertical-align: top;\n",
       "    }\n",
       "\n",
       "    .dataframe thead th {\n",
       "        text-align: right;\n",
       "    }\n",
       "</style>\n",
       "<table border=\"1\" class=\"dataframe\">\n",
       "  <thead>\n",
       "    <tr style=\"text-align: right;\">\n",
       "      <th></th>\n",
       "      <th>uu_id</th>\n",
       "      <th>week_number</th>\n",
       "      <th>total_claims</th>\n",
       "      <th>edu_8th_or_less</th>\n",
       "      <th>edu_grades_9_11</th>\n",
       "      <th>edu_hs_grad_equiv</th>\n",
       "      <th>edu_post_hs</th>\n",
       "      <th>edu_unknown</th>\n",
       "      <th>gender_female</th>\n",
       "      <th>gender_male</th>\n",
       "      <th>...</th>\n",
       "      <th>top_category_employer3_54</th>\n",
       "      <th>top_category_employer3_55</th>\n",
       "      <th>top_category_employer3_56</th>\n",
       "      <th>top_category_employer3_61</th>\n",
       "      <th>top_category_employer3_62</th>\n",
       "      <th>top_category_employer3_71</th>\n",
       "      <th>top_category_employer3_72</th>\n",
       "      <th>top_category_employer3_81</th>\n",
       "      <th>top_category_employer3_92</th>\n",
       "      <th>top_category_employer3_99</th>\n",
       "    </tr>\n",
       "  </thead>\n",
       "  <tbody>\n",
       "    <tr>\n",
       "      <th>0</th>\n",
       "      <td>5bf51fc2e162d6faf9e3cf79e4198378</td>\n",
       "      <td>44</td>\n",
       "      <td>20</td>\n",
       "      <td>0</td>\n",
       "      <td>0</td>\n",
       "      <td>11</td>\n",
       "      <td>9.166667</td>\n",
       "      <td>0</td>\n",
       "      <td>17.416667</td>\n",
       "      <td>14.800000</td>\n",
       "      <td>...</td>\n",
       "      <td>0</td>\n",
       "      <td>0</td>\n",
       "      <td>0</td>\n",
       "      <td>0</td>\n",
       "      <td>0</td>\n",
       "      <td>0</td>\n",
       "      <td>0</td>\n",
       "      <td>0</td>\n",
       "      <td>0</td>\n",
       "      <td>0</td>\n",
       "    </tr>\n",
       "    <tr>\n",
       "      <th>1</th>\n",
       "      <td>5bf51fc2e162d6faf9e3cf79e4198378</td>\n",
       "      <td>44</td>\n",
       "      <td>11</td>\n",
       "      <td>0</td>\n",
       "      <td>0</td>\n",
       "      <td>13</td>\n",
       "      <td>9.166667</td>\n",
       "      <td>0</td>\n",
       "      <td>17.416667</td>\n",
       "      <td>14.800000</td>\n",
       "      <td>...</td>\n",
       "      <td>0</td>\n",
       "      <td>0</td>\n",
       "      <td>0</td>\n",
       "      <td>0</td>\n",
       "      <td>0</td>\n",
       "      <td>0</td>\n",
       "      <td>0</td>\n",
       "      <td>0</td>\n",
       "      <td>0</td>\n",
       "      <td>0</td>\n",
       "    </tr>\n",
       "    <tr>\n",
       "      <th>2</th>\n",
       "      <td>5bf51fc2e162d6faf9e3cf79e4198378</td>\n",
       "      <td>44</td>\n",
       "      <td>11</td>\n",
       "      <td>0</td>\n",
       "      <td>0</td>\n",
       "      <td>13</td>\n",
       "      <td>9.166667</td>\n",
       "      <td>0</td>\n",
       "      <td>17.416667</td>\n",
       "      <td>14.800000</td>\n",
       "      <td>...</td>\n",
       "      <td>0</td>\n",
       "      <td>0</td>\n",
       "      <td>0</td>\n",
       "      <td>0</td>\n",
       "      <td>0</td>\n",
       "      <td>0</td>\n",
       "      <td>0</td>\n",
       "      <td>0</td>\n",
       "      <td>0</td>\n",
       "      <td>0</td>\n",
       "    </tr>\n",
       "    <tr>\n",
       "      <th>3</th>\n",
       "      <td>5bf51fc2e162d6faf9e3cf79e4198378</td>\n",
       "      <td>44</td>\n",
       "      <td>20</td>\n",
       "      <td>0</td>\n",
       "      <td>0</td>\n",
       "      <td>13</td>\n",
       "      <td>9.166667</td>\n",
       "      <td>0</td>\n",
       "      <td>17.416667</td>\n",
       "      <td>14.800000</td>\n",
       "      <td>...</td>\n",
       "      <td>0</td>\n",
       "      <td>0</td>\n",
       "      <td>0</td>\n",
       "      <td>0</td>\n",
       "      <td>0</td>\n",
       "      <td>0</td>\n",
       "      <td>0</td>\n",
       "      <td>0</td>\n",
       "      <td>0</td>\n",
       "      <td>0</td>\n",
       "    </tr>\n",
       "    <tr>\n",
       "      <th>4</th>\n",
       "      <td>5bf51fc2e162d6faf9e3cf79e4198378</td>\n",
       "      <td>44</td>\n",
       "      <td>20</td>\n",
       "      <td>0</td>\n",
       "      <td>0</td>\n",
       "      <td>13</td>\n",
       "      <td>9.166667</td>\n",
       "      <td>0</td>\n",
       "      <td>17.416667</td>\n",
       "      <td>14.800000</td>\n",
       "      <td>...</td>\n",
       "      <td>0</td>\n",
       "      <td>0</td>\n",
       "      <td>0</td>\n",
       "      <td>0</td>\n",
       "      <td>0</td>\n",
       "      <td>0</td>\n",
       "      <td>0</td>\n",
       "      <td>0</td>\n",
       "      <td>0</td>\n",
       "      <td>0</td>\n",
       "    </tr>\n",
       "    <tr>\n",
       "      <th>...</th>\n",
       "      <td>...</td>\n",
       "      <td>...</td>\n",
       "      <td>...</td>\n",
       "      <td>...</td>\n",
       "      <td>...</td>\n",
       "      <td>...</td>\n",
       "      <td>...</td>\n",
       "      <td>...</td>\n",
       "      <td>...</td>\n",
       "      <td>...</td>\n",
       "      <td>...</td>\n",
       "      <td>...</td>\n",
       "      <td>...</td>\n",
       "      <td>...</td>\n",
       "      <td>...</td>\n",
       "      <td>...</td>\n",
       "      <td>...</td>\n",
       "      <td>...</td>\n",
       "      <td>...</td>\n",
       "      <td>...</td>\n",
       "      <td>...</td>\n",
       "    </tr>\n",
       "    <tr>\n",
       "      <th>16828</th>\n",
       "      <td>932a58530abff8a48558e2a15639d453</td>\n",
       "      <td>44</td>\n",
       "      <td>17</td>\n",
       "      <td>0</td>\n",
       "      <td>0</td>\n",
       "      <td>17</td>\n",
       "      <td>0.000000</td>\n",
       "      <td>0</td>\n",
       "      <td>17.859649</td>\n",
       "      <td>17.985075</td>\n",
       "      <td>...</td>\n",
       "      <td>0</td>\n",
       "      <td>0</td>\n",
       "      <td>0</td>\n",
       "      <td>0</td>\n",
       "      <td>0</td>\n",
       "      <td>0</td>\n",
       "      <td>0</td>\n",
       "      <td>1</td>\n",
       "      <td>0</td>\n",
       "      <td>0</td>\n",
       "    </tr>\n",
       "    <tr>\n",
       "      <th>16829</th>\n",
       "      <td>932a58530abff8a48558e2a15639d453</td>\n",
       "      <td>44</td>\n",
       "      <td>11</td>\n",
       "      <td>0</td>\n",
       "      <td>0</td>\n",
       "      <td>17</td>\n",
       "      <td>14.539683</td>\n",
       "      <td>0</td>\n",
       "      <td>17.859649</td>\n",
       "      <td>17.985075</td>\n",
       "      <td>...</td>\n",
       "      <td>0</td>\n",
       "      <td>0</td>\n",
       "      <td>0</td>\n",
       "      <td>0</td>\n",
       "      <td>0</td>\n",
       "      <td>0</td>\n",
       "      <td>0</td>\n",
       "      <td>1</td>\n",
       "      <td>0</td>\n",
       "      <td>0</td>\n",
       "    </tr>\n",
       "    <tr>\n",
       "      <th>16830</th>\n",
       "      <td>932a58530abff8a48558e2a15639d453</td>\n",
       "      <td>44</td>\n",
       "      <td>25</td>\n",
       "      <td>0</td>\n",
       "      <td>15</td>\n",
       "      <td>10</td>\n",
       "      <td>0.000000</td>\n",
       "      <td>0</td>\n",
       "      <td>17.859649</td>\n",
       "      <td>17.985075</td>\n",
       "      <td>...</td>\n",
       "      <td>0</td>\n",
       "      <td>0</td>\n",
       "      <td>0</td>\n",
       "      <td>0</td>\n",
       "      <td>0</td>\n",
       "      <td>0</td>\n",
       "      <td>0</td>\n",
       "      <td>1</td>\n",
       "      <td>0</td>\n",
       "      <td>0</td>\n",
       "    </tr>\n",
       "    <tr>\n",
       "      <th>16831</th>\n",
       "      <td>932a58530abff8a48558e2a15639d453</td>\n",
       "      <td>44</td>\n",
       "      <td>13</td>\n",
       "      <td>0</td>\n",
       "      <td>0</td>\n",
       "      <td>17</td>\n",
       "      <td>14.539683</td>\n",
       "      <td>0</td>\n",
       "      <td>17.859649</td>\n",
       "      <td>17.985075</td>\n",
       "      <td>...</td>\n",
       "      <td>0</td>\n",
       "      <td>0</td>\n",
       "      <td>0</td>\n",
       "      <td>0</td>\n",
       "      <td>0</td>\n",
       "      <td>1</td>\n",
       "      <td>0</td>\n",
       "      <td>0</td>\n",
       "      <td>0</td>\n",
       "      <td>0</td>\n",
       "    </tr>\n",
       "    <tr>\n",
       "      <th>16832</th>\n",
       "      <td>932a58530abff8a48558e2a15639d453</td>\n",
       "      <td>44</td>\n",
       "      <td>30</td>\n",
       "      <td>0</td>\n",
       "      <td>0</td>\n",
       "      <td>14</td>\n",
       "      <td>16.000000</td>\n",
       "      <td>0</td>\n",
       "      <td>12.000000</td>\n",
       "      <td>18.000000</td>\n",
       "      <td>...</td>\n",
       "      <td>0</td>\n",
       "      <td>0</td>\n",
       "      <td>1</td>\n",
       "      <td>0</td>\n",
       "      <td>0</td>\n",
       "      <td>0</td>\n",
       "      <td>0</td>\n",
       "      <td>0</td>\n",
       "      <td>0</td>\n",
       "      <td>0</td>\n",
       "    </tr>\n",
       "  </tbody>\n",
       "</table>\n",
       "<p>16833 rows × 177 columns</p>\n",
       "</div>"
      ],
      "text/plain": [
       "                                  uu_id  week_number  total_claims  \\\n",
       "0      5bf51fc2e162d6faf9e3cf79e4198378           44            20   \n",
       "1      5bf51fc2e162d6faf9e3cf79e4198378           44            11   \n",
       "2      5bf51fc2e162d6faf9e3cf79e4198378           44            11   \n",
       "3      5bf51fc2e162d6faf9e3cf79e4198378           44            20   \n",
       "4      5bf51fc2e162d6faf9e3cf79e4198378           44            20   \n",
       "...                                 ...          ...           ...   \n",
       "16828  932a58530abff8a48558e2a15639d453           44            17   \n",
       "16829  932a58530abff8a48558e2a15639d453           44            11   \n",
       "16830  932a58530abff8a48558e2a15639d453           44            25   \n",
       "16831  932a58530abff8a48558e2a15639d453           44            13   \n",
       "16832  932a58530abff8a48558e2a15639d453           44            30   \n",
       "\n",
       "       edu_8th_or_less  edu_grades_9_11  edu_hs_grad_equiv  edu_post_hs  \\\n",
       "0                    0                0                 11     9.166667   \n",
       "1                    0                0                 13     9.166667   \n",
       "2                    0                0                 13     9.166667   \n",
       "3                    0                0                 13     9.166667   \n",
       "4                    0                0                 13     9.166667   \n",
       "...                ...              ...                ...          ...   \n",
       "16828                0                0                 17     0.000000   \n",
       "16829                0                0                 17    14.539683   \n",
       "16830                0               15                 10     0.000000   \n",
       "16831                0                0                 17    14.539683   \n",
       "16832                0                0                 14    16.000000   \n",
       "\n",
       "       edu_unknown  gender_female  gender_male  ...  \\\n",
       "0                0      17.416667    14.800000  ...   \n",
       "1                0      17.416667    14.800000  ...   \n",
       "2                0      17.416667    14.800000  ...   \n",
       "3                0      17.416667    14.800000  ...   \n",
       "4                0      17.416667    14.800000  ...   \n",
       "...            ...            ...          ...  ...   \n",
       "16828            0      17.859649    17.985075  ...   \n",
       "16829            0      17.859649    17.985075  ...   \n",
       "16830            0      17.859649    17.985075  ...   \n",
       "16831            0      17.859649    17.985075  ...   \n",
       "16832            0      12.000000    18.000000  ...   \n",
       "\n",
       "       top_category_employer3_54  top_category_employer3_55  \\\n",
       "0                              0                          0   \n",
       "1                              0                          0   \n",
       "2                              0                          0   \n",
       "3                              0                          0   \n",
       "4                              0                          0   \n",
       "...                          ...                        ...   \n",
       "16828                          0                          0   \n",
       "16829                          0                          0   \n",
       "16830                          0                          0   \n",
       "16831                          0                          0   \n",
       "16832                          0                          0   \n",
       "\n",
       "       top_category_employer3_56  top_category_employer3_61  \\\n",
       "0                              0                          0   \n",
       "1                              0                          0   \n",
       "2                              0                          0   \n",
       "3                              0                          0   \n",
       "4                              0                          0   \n",
       "...                          ...                        ...   \n",
       "16828                          0                          0   \n",
       "16829                          0                          0   \n",
       "16830                          0                          0   \n",
       "16831                          0                          0   \n",
       "16832                          1                          0   \n",
       "\n",
       "       top_category_employer3_62  top_category_employer3_71  \\\n",
       "0                              0                          0   \n",
       "1                              0                          0   \n",
       "2                              0                          0   \n",
       "3                              0                          0   \n",
       "4                              0                          0   \n",
       "...                          ...                        ...   \n",
       "16828                          0                          0   \n",
       "16829                          0                          0   \n",
       "16830                          0                          0   \n",
       "16831                          0                          1   \n",
       "16832                          0                          0   \n",
       "\n",
       "       top_category_employer3_72  top_category_employer3_81  \\\n",
       "0                              0                          0   \n",
       "1                              0                          0   \n",
       "2                              0                          0   \n",
       "3                              0                          0   \n",
       "4                              0                          0   \n",
       "...                          ...                        ...   \n",
       "16828                          0                          1   \n",
       "16829                          0                          1   \n",
       "16830                          0                          1   \n",
       "16831                          0                          0   \n",
       "16832                          0                          0   \n",
       "\n",
       "       top_category_employer3_92  top_category_employer3_99  \n",
       "0                              0                          0  \n",
       "1                              0                          0  \n",
       "2                              0                          0  \n",
       "3                              0                          0  \n",
       "4                              0                          0  \n",
       "...                          ...                        ...  \n",
       "16828                          0                          0  \n",
       "16829                          0                          0  \n",
       "16830                          0                          0  \n",
       "16831                          0                          0  \n",
       "16832                          0                          0  \n",
       "\n",
       "[16833 rows x 177 columns]"
      ]
     },
     "execution_count": 161,
     "metadata": {},
     "output_type": "execute_result"
    }
   ],
   "source": [
    "Y_test_final"
   ]
  },
  {
   "cell_type": "code",
   "execution_count": 162,
   "id": "4e438602",
   "metadata": {
    "execution": {
     "iopub.execute_input": "2023-05-10T01:32:12.657012Z",
     "iopub.status.busy": "2023-05-10T01:32:12.656904Z",
     "iopub.status.idle": "2023-05-10T01:32:12.667144Z",
     "shell.execute_reply": "2023-05-10T01:32:12.666750Z"
    }
   },
   "outputs": [
    {
     "data": {
      "text/html": [
       "<div>\n",
       "<style scoped>\n",
       "    .dataframe tbody tr th:only-of-type {\n",
       "        vertical-align: middle;\n",
       "    }\n",
       "\n",
       "    .dataframe tbody tr th {\n",
       "        vertical-align: top;\n",
       "    }\n",
       "\n",
       "    .dataframe thead th {\n",
       "        text-align: right;\n",
       "    }\n",
       "</style>\n",
       "<table border=\"1\" class=\"dataframe\">\n",
       "  <thead>\n",
       "    <tr style=\"text-align: right;\">\n",
       "      <th></th>\n",
       "      <th>uu_id</th>\n",
       "      <th>week_number</th>\n",
       "      <th>total_claims</th>\n",
       "      <th>edu_8th_or_less</th>\n",
       "      <th>edu_grades_9_11</th>\n",
       "      <th>edu_hs_grad_equiv</th>\n",
       "      <th>edu_post_hs</th>\n",
       "      <th>edu_unknown</th>\n",
       "      <th>gender_female</th>\n",
       "      <th>gender_male</th>\n",
       "      <th>...</th>\n",
       "      <th>top_category_employer3_54</th>\n",
       "      <th>top_category_employer3_55</th>\n",
       "      <th>top_category_employer3_56</th>\n",
       "      <th>top_category_employer3_61</th>\n",
       "      <th>top_category_employer3_62</th>\n",
       "      <th>top_category_employer3_71</th>\n",
       "      <th>top_category_employer3_72</th>\n",
       "      <th>top_category_employer3_81</th>\n",
       "      <th>top_category_employer3_92</th>\n",
       "      <th>top_category_employer3_99</th>\n",
       "    </tr>\n",
       "  </thead>\n",
       "  <tbody>\n",
       "    <tr>\n",
       "      <th>0</th>\n",
       "      <td>5bf51fc2e162d6faf9e3cf79e4198378</td>\n",
       "      <td>44</td>\n",
       "      <td>20</td>\n",
       "      <td>0</td>\n",
       "      <td>0</td>\n",
       "      <td>11</td>\n",
       "      <td>9.166667</td>\n",
       "      <td>0</td>\n",
       "      <td>17.416667</td>\n",
       "      <td>14.800000</td>\n",
       "      <td>...</td>\n",
       "      <td>0</td>\n",
       "      <td>0</td>\n",
       "      <td>0</td>\n",
       "      <td>0</td>\n",
       "      <td>0</td>\n",
       "      <td>0</td>\n",
       "      <td>0</td>\n",
       "      <td>0</td>\n",
       "      <td>0</td>\n",
       "      <td>0</td>\n",
       "    </tr>\n",
       "    <tr>\n",
       "      <th>1</th>\n",
       "      <td>5bf51fc2e162d6faf9e3cf79e4198378</td>\n",
       "      <td>44</td>\n",
       "      <td>11</td>\n",
       "      <td>0</td>\n",
       "      <td>0</td>\n",
       "      <td>13</td>\n",
       "      <td>9.166667</td>\n",
       "      <td>0</td>\n",
       "      <td>17.416667</td>\n",
       "      <td>14.800000</td>\n",
       "      <td>...</td>\n",
       "      <td>0</td>\n",
       "      <td>0</td>\n",
       "      <td>0</td>\n",
       "      <td>0</td>\n",
       "      <td>0</td>\n",
       "      <td>0</td>\n",
       "      <td>0</td>\n",
       "      <td>0</td>\n",
       "      <td>0</td>\n",
       "      <td>0</td>\n",
       "    </tr>\n",
       "    <tr>\n",
       "      <th>2</th>\n",
       "      <td>5bf51fc2e162d6faf9e3cf79e4198378</td>\n",
       "      <td>44</td>\n",
       "      <td>11</td>\n",
       "      <td>0</td>\n",
       "      <td>0</td>\n",
       "      <td>13</td>\n",
       "      <td>9.166667</td>\n",
       "      <td>0</td>\n",
       "      <td>17.416667</td>\n",
       "      <td>14.800000</td>\n",
       "      <td>...</td>\n",
       "      <td>0</td>\n",
       "      <td>0</td>\n",
       "      <td>0</td>\n",
       "      <td>0</td>\n",
       "      <td>0</td>\n",
       "      <td>0</td>\n",
       "      <td>0</td>\n",
       "      <td>0</td>\n",
       "      <td>0</td>\n",
       "      <td>0</td>\n",
       "    </tr>\n",
       "    <tr>\n",
       "      <th>3</th>\n",
       "      <td>5bf51fc2e162d6faf9e3cf79e4198378</td>\n",
       "      <td>44</td>\n",
       "      <td>20</td>\n",
       "      <td>0</td>\n",
       "      <td>0</td>\n",
       "      <td>13</td>\n",
       "      <td>9.166667</td>\n",
       "      <td>0</td>\n",
       "      <td>17.416667</td>\n",
       "      <td>14.800000</td>\n",
       "      <td>...</td>\n",
       "      <td>0</td>\n",
       "      <td>0</td>\n",
       "      <td>0</td>\n",
       "      <td>0</td>\n",
       "      <td>0</td>\n",
       "      <td>0</td>\n",
       "      <td>0</td>\n",
       "      <td>0</td>\n",
       "      <td>0</td>\n",
       "      <td>0</td>\n",
       "    </tr>\n",
       "    <tr>\n",
       "      <th>4</th>\n",
       "      <td>5bf51fc2e162d6faf9e3cf79e4198378</td>\n",
       "      <td>44</td>\n",
       "      <td>20</td>\n",
       "      <td>0</td>\n",
       "      <td>0</td>\n",
       "      <td>13</td>\n",
       "      <td>9.166667</td>\n",
       "      <td>0</td>\n",
       "      <td>17.416667</td>\n",
       "      <td>14.800000</td>\n",
       "      <td>...</td>\n",
       "      <td>0</td>\n",
       "      <td>0</td>\n",
       "      <td>0</td>\n",
       "      <td>0</td>\n",
       "      <td>0</td>\n",
       "      <td>0</td>\n",
       "      <td>0</td>\n",
       "      <td>0</td>\n",
       "      <td>0</td>\n",
       "      <td>0</td>\n",
       "    </tr>\n",
       "    <tr>\n",
       "      <th>...</th>\n",
       "      <td>...</td>\n",
       "      <td>...</td>\n",
       "      <td>...</td>\n",
       "      <td>...</td>\n",
       "      <td>...</td>\n",
       "      <td>...</td>\n",
       "      <td>...</td>\n",
       "      <td>...</td>\n",
       "      <td>...</td>\n",
       "      <td>...</td>\n",
       "      <td>...</td>\n",
       "      <td>...</td>\n",
       "      <td>...</td>\n",
       "      <td>...</td>\n",
       "      <td>...</td>\n",
       "      <td>...</td>\n",
       "      <td>...</td>\n",
       "      <td>...</td>\n",
       "      <td>...</td>\n",
       "      <td>...</td>\n",
       "      <td>...</td>\n",
       "    </tr>\n",
       "    <tr>\n",
       "      <th>16828</th>\n",
       "      <td>932a58530abff8a48558e2a15639d453</td>\n",
       "      <td>44</td>\n",
       "      <td>17</td>\n",
       "      <td>0</td>\n",
       "      <td>0</td>\n",
       "      <td>17</td>\n",
       "      <td>0.000000</td>\n",
       "      <td>0</td>\n",
       "      <td>17.859649</td>\n",
       "      <td>17.985075</td>\n",
       "      <td>...</td>\n",
       "      <td>0</td>\n",
       "      <td>0</td>\n",
       "      <td>0</td>\n",
       "      <td>0</td>\n",
       "      <td>0</td>\n",
       "      <td>0</td>\n",
       "      <td>0</td>\n",
       "      <td>1</td>\n",
       "      <td>0</td>\n",
       "      <td>0</td>\n",
       "    </tr>\n",
       "    <tr>\n",
       "      <th>16829</th>\n",
       "      <td>932a58530abff8a48558e2a15639d453</td>\n",
       "      <td>44</td>\n",
       "      <td>11</td>\n",
       "      <td>0</td>\n",
       "      <td>0</td>\n",
       "      <td>17</td>\n",
       "      <td>14.539683</td>\n",
       "      <td>0</td>\n",
       "      <td>17.859649</td>\n",
       "      <td>17.985075</td>\n",
       "      <td>...</td>\n",
       "      <td>0</td>\n",
       "      <td>0</td>\n",
       "      <td>0</td>\n",
       "      <td>0</td>\n",
       "      <td>0</td>\n",
       "      <td>0</td>\n",
       "      <td>0</td>\n",
       "      <td>1</td>\n",
       "      <td>0</td>\n",
       "      <td>0</td>\n",
       "    </tr>\n",
       "    <tr>\n",
       "      <th>16830</th>\n",
       "      <td>932a58530abff8a48558e2a15639d453</td>\n",
       "      <td>44</td>\n",
       "      <td>25</td>\n",
       "      <td>0</td>\n",
       "      <td>15</td>\n",
       "      <td>10</td>\n",
       "      <td>0.000000</td>\n",
       "      <td>0</td>\n",
       "      <td>17.859649</td>\n",
       "      <td>17.985075</td>\n",
       "      <td>...</td>\n",
       "      <td>0</td>\n",
       "      <td>0</td>\n",
       "      <td>0</td>\n",
       "      <td>0</td>\n",
       "      <td>0</td>\n",
       "      <td>0</td>\n",
       "      <td>0</td>\n",
       "      <td>1</td>\n",
       "      <td>0</td>\n",
       "      <td>0</td>\n",
       "    </tr>\n",
       "    <tr>\n",
       "      <th>16831</th>\n",
       "      <td>932a58530abff8a48558e2a15639d453</td>\n",
       "      <td>44</td>\n",
       "      <td>13</td>\n",
       "      <td>0</td>\n",
       "      <td>0</td>\n",
       "      <td>17</td>\n",
       "      <td>14.539683</td>\n",
       "      <td>0</td>\n",
       "      <td>17.859649</td>\n",
       "      <td>17.985075</td>\n",
       "      <td>...</td>\n",
       "      <td>0</td>\n",
       "      <td>0</td>\n",
       "      <td>0</td>\n",
       "      <td>0</td>\n",
       "      <td>0</td>\n",
       "      <td>1</td>\n",
       "      <td>0</td>\n",
       "      <td>0</td>\n",
       "      <td>0</td>\n",
       "      <td>0</td>\n",
       "    </tr>\n",
       "    <tr>\n",
       "      <th>16832</th>\n",
       "      <td>932a58530abff8a48558e2a15639d453</td>\n",
       "      <td>44</td>\n",
       "      <td>30</td>\n",
       "      <td>0</td>\n",
       "      <td>0</td>\n",
       "      <td>14</td>\n",
       "      <td>16.000000</td>\n",
       "      <td>0</td>\n",
       "      <td>12.000000</td>\n",
       "      <td>18.000000</td>\n",
       "      <td>...</td>\n",
       "      <td>0</td>\n",
       "      <td>0</td>\n",
       "      <td>1</td>\n",
       "      <td>0</td>\n",
       "      <td>0</td>\n",
       "      <td>0</td>\n",
       "      <td>0</td>\n",
       "      <td>0</td>\n",
       "      <td>0</td>\n",
       "      <td>0</td>\n",
       "    </tr>\n",
       "  </tbody>\n",
       "</table>\n",
       "<p>16833 rows × 177 columns</p>\n",
       "</div>"
      ],
      "text/plain": [
       "                                  uu_id  week_number  total_claims  \\\n",
       "0      5bf51fc2e162d6faf9e3cf79e4198378           44            20   \n",
       "1      5bf51fc2e162d6faf9e3cf79e4198378           44            11   \n",
       "2      5bf51fc2e162d6faf9e3cf79e4198378           44            11   \n",
       "3      5bf51fc2e162d6faf9e3cf79e4198378           44            20   \n",
       "4      5bf51fc2e162d6faf9e3cf79e4198378           44            20   \n",
       "...                                 ...          ...           ...   \n",
       "16828  932a58530abff8a48558e2a15639d453           44            17   \n",
       "16829  932a58530abff8a48558e2a15639d453           44            11   \n",
       "16830  932a58530abff8a48558e2a15639d453           44            25   \n",
       "16831  932a58530abff8a48558e2a15639d453           44            13   \n",
       "16832  932a58530abff8a48558e2a15639d453           44            30   \n",
       "\n",
       "       edu_8th_or_less  edu_grades_9_11  edu_hs_grad_equiv  edu_post_hs  \\\n",
       "0                    0                0                 11     9.166667   \n",
       "1                    0                0                 13     9.166667   \n",
       "2                    0                0                 13     9.166667   \n",
       "3                    0                0                 13     9.166667   \n",
       "4                    0                0                 13     9.166667   \n",
       "...                ...              ...                ...          ...   \n",
       "16828                0                0                 17     0.000000   \n",
       "16829                0                0                 17    14.539683   \n",
       "16830                0               15                 10     0.000000   \n",
       "16831                0                0                 17    14.539683   \n",
       "16832                0                0                 14    16.000000   \n",
       "\n",
       "       edu_unknown  gender_female  gender_male  ...  \\\n",
       "0                0      17.416667    14.800000  ...   \n",
       "1                0      17.416667    14.800000  ...   \n",
       "2                0      17.416667    14.800000  ...   \n",
       "3                0      17.416667    14.800000  ...   \n",
       "4                0      17.416667    14.800000  ...   \n",
       "...            ...            ...          ...  ...   \n",
       "16828            0      17.859649    17.985075  ...   \n",
       "16829            0      17.859649    17.985075  ...   \n",
       "16830            0      17.859649    17.985075  ...   \n",
       "16831            0      17.859649    17.985075  ...   \n",
       "16832            0      12.000000    18.000000  ...   \n",
       "\n",
       "       top_category_employer3_54  top_category_employer3_55  \\\n",
       "0                              0                          0   \n",
       "1                              0                          0   \n",
       "2                              0                          0   \n",
       "3                              0                          0   \n",
       "4                              0                          0   \n",
       "...                          ...                        ...   \n",
       "16828                          0                          0   \n",
       "16829                          0                          0   \n",
       "16830                          0                          0   \n",
       "16831                          0                          0   \n",
       "16832                          0                          0   \n",
       "\n",
       "       top_category_employer3_56  top_category_employer3_61  \\\n",
       "0                              0                          0   \n",
       "1                              0                          0   \n",
       "2                              0                          0   \n",
       "3                              0                          0   \n",
       "4                              0                          0   \n",
       "...                          ...                        ...   \n",
       "16828                          0                          0   \n",
       "16829                          0                          0   \n",
       "16830                          0                          0   \n",
       "16831                          0                          0   \n",
       "16832                          1                          0   \n",
       "\n",
       "       top_category_employer3_62  top_category_employer3_71  \\\n",
       "0                              0                          0   \n",
       "1                              0                          0   \n",
       "2                              0                          0   \n",
       "3                              0                          0   \n",
       "4                              0                          0   \n",
       "...                          ...                        ...   \n",
       "16828                          0                          0   \n",
       "16829                          0                          0   \n",
       "16830                          0                          0   \n",
       "16831                          0                          1   \n",
       "16832                          0                          0   \n",
       "\n",
       "       top_category_employer3_72  top_category_employer3_81  \\\n",
       "0                              0                          0   \n",
       "1                              0                          0   \n",
       "2                              0                          0   \n",
       "3                              0                          0   \n",
       "4                              0                          0   \n",
       "...                          ...                        ...   \n",
       "16828                          0                          1   \n",
       "16829                          0                          1   \n",
       "16830                          0                          1   \n",
       "16831                          0                          0   \n",
       "16832                          0                          0   \n",
       "\n",
       "       top_category_employer3_92  top_category_employer3_99  \n",
       "0                              0                          0  \n",
       "1                              0                          0  \n",
       "2                              0                          0  \n",
       "3                              0                          0  \n",
       "4                              0                          0  \n",
       "...                          ...                        ...  \n",
       "16828                          0                          0  \n",
       "16829                          0                          0  \n",
       "16830                          0                          0  \n",
       "16831                          0                          0  \n",
       "16832                          0                          0  \n",
       "\n",
       "[16833 rows x 177 columns]"
      ]
     },
     "execution_count": 162,
     "metadata": {},
     "output_type": "execute_result"
    }
   ],
   "source": [
    "Y_test_final"
   ]
  },
  {
   "cell_type": "code",
   "execution_count": 163,
   "id": "a460bf0b",
   "metadata": {
    "execution": {
     "iopub.execute_input": "2023-05-10T01:32:12.668952Z",
     "iopub.status.busy": "2023-05-10T01:32:12.668827Z",
     "iopub.status.idle": "2023-05-10T01:32:12.681667Z",
     "shell.execute_reply": "2023-05-10T01:32:12.681224Z"
    }
   },
   "outputs": [],
   "source": [
    "Y_test_final = pred_data.merge(fin,how='right',on= 'uu_id')"
   ]
  },
  {
   "cell_type": "code",
   "execution_count": 164,
   "id": "4074c412",
   "metadata": {
    "execution": {
     "iopub.execute_input": "2023-05-10T01:32:12.683644Z",
     "iopub.status.busy": "2023-05-10T01:32:12.683529Z",
     "iopub.status.idle": "2023-05-10T01:32:12.692448Z",
     "shell.execute_reply": "2023-05-10T01:32:12.692177Z"
    }
   },
   "outputs": [
    {
     "data": {
      "text/html": [
       "<div>\n",
       "<style scoped>\n",
       "    .dataframe tbody tr th:only-of-type {\n",
       "        vertical-align: middle;\n",
       "    }\n",
       "\n",
       "    .dataframe tbody tr th {\n",
       "        vertical-align: top;\n",
       "    }\n",
       "\n",
       "    .dataframe thead th {\n",
       "        text-align: right;\n",
       "    }\n",
       "</style>\n",
       "<table border=\"1\" class=\"dataframe\">\n",
       "  <thead>\n",
       "    <tr style=\"text-align: right;\">\n",
       "      <th></th>\n",
       "      <th>uu_id</th>\n",
       "      <th>week_number</th>\n",
       "      <th>total_claims</th>\n",
       "      <th>edu_8th_or_less</th>\n",
       "      <th>edu_grades_9_11</th>\n",
       "      <th>edu_hs_grad_equiv</th>\n",
       "      <th>edu_post_hs</th>\n",
       "      <th>edu_unknown</th>\n",
       "      <th>gender_female</th>\n",
       "      <th>gender_male</th>\n",
       "      <th>...</th>\n",
       "      <th>top_category_employer3_54</th>\n",
       "      <th>top_category_employer3_55</th>\n",
       "      <th>top_category_employer3_56</th>\n",
       "      <th>top_category_employer3_61</th>\n",
       "      <th>top_category_employer3_62</th>\n",
       "      <th>top_category_employer3_71</th>\n",
       "      <th>top_category_employer3_72</th>\n",
       "      <th>top_category_employer3_81</th>\n",
       "      <th>top_category_employer3_92</th>\n",
       "      <th>top_category_employer3_99</th>\n",
       "    </tr>\n",
       "  </thead>\n",
       "  <tbody>\n",
       "    <tr>\n",
       "      <th>0</th>\n",
       "      <td>f013068de98db1470bd986137a0c6d23</td>\n",
       "      <td>44</td>\n",
       "      <td>22</td>\n",
       "      <td>0</td>\n",
       "      <td>1</td>\n",
       "      <td>14</td>\n",
       "      <td>17.321101</td>\n",
       "      <td>0</td>\n",
       "      <td>19.757282</td>\n",
       "      <td>20.147059</td>\n",
       "      <td>...</td>\n",
       "      <td>0</td>\n",
       "      <td>0</td>\n",
       "      <td>0</td>\n",
       "      <td>0</td>\n",
       "      <td>1</td>\n",
       "      <td>0</td>\n",
       "      <td>0</td>\n",
       "      <td>0</td>\n",
       "      <td>0</td>\n",
       "      <td>0</td>\n",
       "    </tr>\n",
       "    <tr>\n",
       "      <th>1</th>\n",
       "      <td>21957d5517323845818d87623589e1ba</td>\n",
       "      <td>44</td>\n",
       "      <td>111</td>\n",
       "      <td>0</td>\n",
       "      <td>0</td>\n",
       "      <td>108</td>\n",
       "      <td>19.138743</td>\n",
       "      <td>0</td>\n",
       "      <td>76.000000</td>\n",
       "      <td>35.000000</td>\n",
       "      <td>...</td>\n",
       "      <td>0</td>\n",
       "      <td>0</td>\n",
       "      <td>1</td>\n",
       "      <td>0</td>\n",
       "      <td>0</td>\n",
       "      <td>0</td>\n",
       "      <td>0</td>\n",
       "      <td>0</td>\n",
       "      <td>0</td>\n",
       "      <td>0</td>\n",
       "    </tr>\n",
       "    <tr>\n",
       "      <th>2</th>\n",
       "      <td>6a5609f385912113b6f1014b958ed748</td>\n",
       "      <td>44</td>\n",
       "      <td>39</td>\n",
       "      <td>0</td>\n",
       "      <td>0</td>\n",
       "      <td>22</td>\n",
       "      <td>19.138743</td>\n",
       "      <td>0</td>\n",
       "      <td>22.363248</td>\n",
       "      <td>20.787276</td>\n",
       "      <td>...</td>\n",
       "      <td>0</td>\n",
       "      <td>0</td>\n",
       "      <td>1</td>\n",
       "      <td>0</td>\n",
       "      <td>0</td>\n",
       "      <td>0</td>\n",
       "      <td>0</td>\n",
       "      <td>0</td>\n",
       "      <td>0</td>\n",
       "      <td>0</td>\n",
       "    </tr>\n",
       "    <tr>\n",
       "      <th>3</th>\n",
       "      <td>46b2882ec4c373527ec33f7bd4f1388d</td>\n",
       "      <td>44</td>\n",
       "      <td>14</td>\n",
       "      <td>0</td>\n",
       "      <td>0</td>\n",
       "      <td>22</td>\n",
       "      <td>19.138743</td>\n",
       "      <td>0</td>\n",
       "      <td>22.363248</td>\n",
       "      <td>20.787276</td>\n",
       "      <td>...</td>\n",
       "      <td>0</td>\n",
       "      <td>0</td>\n",
       "      <td>0</td>\n",
       "      <td>0</td>\n",
       "      <td>0</td>\n",
       "      <td>0</td>\n",
       "      <td>0</td>\n",
       "      <td>0</td>\n",
       "      <td>0</td>\n",
       "      <td>0</td>\n",
       "    </tr>\n",
       "    <tr>\n",
       "      <th>4</th>\n",
       "      <td>37495d17e82f7df326bfc2c4c090f7b7</td>\n",
       "      <td>44</td>\n",
       "      <td>155</td>\n",
       "      <td>0</td>\n",
       "      <td>0</td>\n",
       "      <td>69</td>\n",
       "      <td>83.000000</td>\n",
       "      <td>0</td>\n",
       "      <td>90.000000</td>\n",
       "      <td>65.000000</td>\n",
       "      <td>...</td>\n",
       "      <td>0</td>\n",
       "      <td>0</td>\n",
       "      <td>1</td>\n",
       "      <td>0</td>\n",
       "      <td>0</td>\n",
       "      <td>0</td>\n",
       "      <td>0</td>\n",
       "      <td>0</td>\n",
       "      <td>0</td>\n",
       "      <td>0</td>\n",
       "    </tr>\n",
       "    <tr>\n",
       "      <th>...</th>\n",
       "      <td>...</td>\n",
       "      <td>...</td>\n",
       "      <td>...</td>\n",
       "      <td>...</td>\n",
       "      <td>...</td>\n",
       "      <td>...</td>\n",
       "      <td>...</td>\n",
       "      <td>...</td>\n",
       "      <td>...</td>\n",
       "      <td>...</td>\n",
       "      <td>...</td>\n",
       "      <td>...</td>\n",
       "      <td>...</td>\n",
       "      <td>...</td>\n",
       "      <td>...</td>\n",
       "      <td>...</td>\n",
       "      <td>...</td>\n",
       "      <td>...</td>\n",
       "      <td>...</td>\n",
       "      <td>...</td>\n",
       "      <td>...</td>\n",
       "    </tr>\n",
       "    <tr>\n",
       "      <th>16828</th>\n",
       "      <td>f35320206f3dd1ffc411e4ac127caf92</td>\n",
       "      <td>44</td>\n",
       "      <td>21</td>\n",
       "      <td>0</td>\n",
       "      <td>1</td>\n",
       "      <td>18</td>\n",
       "      <td>12.000000</td>\n",
       "      <td>0</td>\n",
       "      <td>14.853333</td>\n",
       "      <td>16.133333</td>\n",
       "      <td>...</td>\n",
       "      <td>0</td>\n",
       "      <td>0</td>\n",
       "      <td>0</td>\n",
       "      <td>0</td>\n",
       "      <td>0</td>\n",
       "      <td>0</td>\n",
       "      <td>0</td>\n",
       "      <td>1</td>\n",
       "      <td>0</td>\n",
       "      <td>0</td>\n",
       "    </tr>\n",
       "    <tr>\n",
       "      <th>16829</th>\n",
       "      <td>f35320206f3dd1ffc411e4ac127caf92</td>\n",
       "      <td>44</td>\n",
       "      <td>22</td>\n",
       "      <td>0</td>\n",
       "      <td>1</td>\n",
       "      <td>13</td>\n",
       "      <td>14.921053</td>\n",
       "      <td>0</td>\n",
       "      <td>14.853333</td>\n",
       "      <td>16.133333</td>\n",
       "      <td>...</td>\n",
       "      <td>0</td>\n",
       "      <td>0</td>\n",
       "      <td>0</td>\n",
       "      <td>0</td>\n",
       "      <td>0</td>\n",
       "      <td>0</td>\n",
       "      <td>0</td>\n",
       "      <td>0</td>\n",
       "      <td>0</td>\n",
       "      <td>0</td>\n",
       "    </tr>\n",
       "    <tr>\n",
       "      <th>16830</th>\n",
       "      <td>f35320206f3dd1ffc411e4ac127caf92</td>\n",
       "      <td>44</td>\n",
       "      <td>22</td>\n",
       "      <td>0</td>\n",
       "      <td>1</td>\n",
       "      <td>13</td>\n",
       "      <td>14.921053</td>\n",
       "      <td>0</td>\n",
       "      <td>14.853333</td>\n",
       "      <td>16.133333</td>\n",
       "      <td>...</td>\n",
       "      <td>0</td>\n",
       "      <td>0</td>\n",
       "      <td>0</td>\n",
       "      <td>0</td>\n",
       "      <td>0</td>\n",
       "      <td>0</td>\n",
       "      <td>0</td>\n",
       "      <td>0</td>\n",
       "      <td>0</td>\n",
       "      <td>0</td>\n",
       "    </tr>\n",
       "    <tr>\n",
       "      <th>16831</th>\n",
       "      <td>bbcb018f0e5e49e13636f6e78ce9f60f</td>\n",
       "      <td>44</td>\n",
       "      <td>53</td>\n",
       "      <td>0</td>\n",
       "      <td>1</td>\n",
       "      <td>48</td>\n",
       "      <td>14.921053</td>\n",
       "      <td>0</td>\n",
       "      <td>14.853333</td>\n",
       "      <td>16.133333</td>\n",
       "      <td>...</td>\n",
       "      <td>0</td>\n",
       "      <td>0</td>\n",
       "      <td>0</td>\n",
       "      <td>0</td>\n",
       "      <td>0</td>\n",
       "      <td>0</td>\n",
       "      <td>0</td>\n",
       "      <td>0</td>\n",
       "      <td>0</td>\n",
       "      <td>0</td>\n",
       "    </tr>\n",
       "    <tr>\n",
       "      <th>16832</th>\n",
       "      <td>bbcb018f0e5e49e13636f6e78ce9f60f</td>\n",
       "      <td>44</td>\n",
       "      <td>24</td>\n",
       "      <td>0</td>\n",
       "      <td>1</td>\n",
       "      <td>18</td>\n",
       "      <td>14.921053</td>\n",
       "      <td>0</td>\n",
       "      <td>11.000000</td>\n",
       "      <td>13.000000</td>\n",
       "      <td>...</td>\n",
       "      <td>0</td>\n",
       "      <td>0</td>\n",
       "      <td>0</td>\n",
       "      <td>0</td>\n",
       "      <td>0</td>\n",
       "      <td>0</td>\n",
       "      <td>0</td>\n",
       "      <td>0</td>\n",
       "      <td>0</td>\n",
       "      <td>0</td>\n",
       "    </tr>\n",
       "  </tbody>\n",
       "</table>\n",
       "<p>16833 rows × 177 columns</p>\n",
       "</div>"
      ],
      "text/plain": [
       "                                  uu_id  week_number  total_claims  \\\n",
       "0      f013068de98db1470bd986137a0c6d23           44            22   \n",
       "1      21957d5517323845818d87623589e1ba           44           111   \n",
       "2      6a5609f385912113b6f1014b958ed748           44            39   \n",
       "3      46b2882ec4c373527ec33f7bd4f1388d           44            14   \n",
       "4      37495d17e82f7df326bfc2c4c090f7b7           44           155   \n",
       "...                                 ...          ...           ...   \n",
       "16828  f35320206f3dd1ffc411e4ac127caf92           44            21   \n",
       "16829  f35320206f3dd1ffc411e4ac127caf92           44            22   \n",
       "16830  f35320206f3dd1ffc411e4ac127caf92           44            22   \n",
       "16831  bbcb018f0e5e49e13636f6e78ce9f60f           44            53   \n",
       "16832  bbcb018f0e5e49e13636f6e78ce9f60f           44            24   \n",
       "\n",
       "       edu_8th_or_less  edu_grades_9_11  edu_hs_grad_equiv  edu_post_hs  \\\n",
       "0                    0                1                 14    17.321101   \n",
       "1                    0                0                108    19.138743   \n",
       "2                    0                0                 22    19.138743   \n",
       "3                    0                0                 22    19.138743   \n",
       "4                    0                0                 69    83.000000   \n",
       "...                ...              ...                ...          ...   \n",
       "16828                0                1                 18    12.000000   \n",
       "16829                0                1                 13    14.921053   \n",
       "16830                0                1                 13    14.921053   \n",
       "16831                0                1                 48    14.921053   \n",
       "16832                0                1                 18    14.921053   \n",
       "\n",
       "       edu_unknown  gender_female  gender_male  ...  \\\n",
       "0                0      19.757282    20.147059  ...   \n",
       "1                0      76.000000    35.000000  ...   \n",
       "2                0      22.363248    20.787276  ...   \n",
       "3                0      22.363248    20.787276  ...   \n",
       "4                0      90.000000    65.000000  ...   \n",
       "...            ...            ...          ...  ...   \n",
       "16828            0      14.853333    16.133333  ...   \n",
       "16829            0      14.853333    16.133333  ...   \n",
       "16830            0      14.853333    16.133333  ...   \n",
       "16831            0      14.853333    16.133333  ...   \n",
       "16832            0      11.000000    13.000000  ...   \n",
       "\n",
       "       top_category_employer3_54  top_category_employer3_55  \\\n",
       "0                              0                          0   \n",
       "1                              0                          0   \n",
       "2                              0                          0   \n",
       "3                              0                          0   \n",
       "4                              0                          0   \n",
       "...                          ...                        ...   \n",
       "16828                          0                          0   \n",
       "16829                          0                          0   \n",
       "16830                          0                          0   \n",
       "16831                          0                          0   \n",
       "16832                          0                          0   \n",
       "\n",
       "       top_category_employer3_56  top_category_employer3_61  \\\n",
       "0                              0                          0   \n",
       "1                              1                          0   \n",
       "2                              1                          0   \n",
       "3                              0                          0   \n",
       "4                              1                          0   \n",
       "...                          ...                        ...   \n",
       "16828                          0                          0   \n",
       "16829                          0                          0   \n",
       "16830                          0                          0   \n",
       "16831                          0                          0   \n",
       "16832                          0                          0   \n",
       "\n",
       "       top_category_employer3_62  top_category_employer3_71  \\\n",
       "0                              1                          0   \n",
       "1                              0                          0   \n",
       "2                              0                          0   \n",
       "3                              0                          0   \n",
       "4                              0                          0   \n",
       "...                          ...                        ...   \n",
       "16828                          0                          0   \n",
       "16829                          0                          0   \n",
       "16830                          0                          0   \n",
       "16831                          0                          0   \n",
       "16832                          0                          0   \n",
       "\n",
       "       top_category_employer3_72  top_category_employer3_81  \\\n",
       "0                              0                          0   \n",
       "1                              0                          0   \n",
       "2                              0                          0   \n",
       "3                              0                          0   \n",
       "4                              0                          0   \n",
       "...                          ...                        ...   \n",
       "16828                          0                          1   \n",
       "16829                          0                          0   \n",
       "16830                          0                          0   \n",
       "16831                          0                          0   \n",
       "16832                          0                          0   \n",
       "\n",
       "       top_category_employer3_92  top_category_employer3_99  \n",
       "0                              0                          0  \n",
       "1                              0                          0  \n",
       "2                              0                          0  \n",
       "3                              0                          0  \n",
       "4                              0                          0  \n",
       "...                          ...                        ...  \n",
       "16828                          0                          0  \n",
       "16829                          0                          0  \n",
       "16830                          0                          0  \n",
       "16831                          0                          0  \n",
       "16832                          0                          0  \n",
       "\n",
       "[16833 rows x 177 columns]"
      ]
     },
     "execution_count": 164,
     "metadata": {},
     "output_type": "execute_result"
    }
   ],
   "source": [
    "Y_test_final"
   ]
  },
  {
   "cell_type": "code",
   "execution_count": 165,
   "id": "070ebd55",
   "metadata": {
    "execution": {
     "iopub.execute_input": "2023-05-10T01:32:12.694007Z",
     "iopub.status.busy": "2023-05-10T01:32:12.693914Z",
     "iopub.status.idle": "2023-05-10T01:32:12.707488Z",
     "shell.execute_reply": "2023-05-10T01:32:12.707095Z"
    }
   },
   "outputs": [],
   "source": [
    "Y_test_final = pred_data.merge(fin,how='left',on= 'uu_id')"
   ]
  },
  {
   "cell_type": "code",
   "execution_count": 166,
   "id": "4589e4d1",
   "metadata": {
    "execution": {
     "iopub.execute_input": "2023-05-10T01:32:12.709346Z",
     "iopub.status.busy": "2023-05-10T01:32:12.709138Z",
     "iopub.status.idle": "2023-05-10T01:32:12.722913Z",
     "shell.execute_reply": "2023-05-10T01:32:12.722414Z"
    }
   },
   "outputs": [
    {
     "data": {
      "text/html": [
       "<div>\n",
       "<style scoped>\n",
       "    .dataframe tbody tr th:only-of-type {\n",
       "        vertical-align: middle;\n",
       "    }\n",
       "\n",
       "    .dataframe tbody tr th {\n",
       "        vertical-align: top;\n",
       "    }\n",
       "\n",
       "    .dataframe thead th {\n",
       "        text-align: right;\n",
       "    }\n",
       "</style>\n",
       "<table border=\"1\" class=\"dataframe\">\n",
       "  <thead>\n",
       "    <tr style=\"text-align: right;\">\n",
       "      <th></th>\n",
       "      <th>uu_id</th>\n",
       "      <th>week_number</th>\n",
       "      <th>total_claims</th>\n",
       "      <th>edu_8th_or_less</th>\n",
       "      <th>edu_grades_9_11</th>\n",
       "      <th>edu_hs_grad_equiv</th>\n",
       "      <th>edu_post_hs</th>\n",
       "      <th>edu_unknown</th>\n",
       "      <th>gender_female</th>\n",
       "      <th>gender_male</th>\n",
       "      <th>...</th>\n",
       "      <th>top_category_employer3_54</th>\n",
       "      <th>top_category_employer3_55</th>\n",
       "      <th>top_category_employer3_56</th>\n",
       "      <th>top_category_employer3_61</th>\n",
       "      <th>top_category_employer3_62</th>\n",
       "      <th>top_category_employer3_71</th>\n",
       "      <th>top_category_employer3_72</th>\n",
       "      <th>top_category_employer3_81</th>\n",
       "      <th>top_category_employer3_92</th>\n",
       "      <th>top_category_employer3_99</th>\n",
       "    </tr>\n",
       "  </thead>\n",
       "  <tbody>\n",
       "    <tr>\n",
       "      <th>0</th>\n",
       "      <td>5bf51fc2e162d6faf9e3cf79e4198378</td>\n",
       "      <td>44</td>\n",
       "      <td>20</td>\n",
       "      <td>0</td>\n",
       "      <td>0</td>\n",
       "      <td>11</td>\n",
       "      <td>9.166667</td>\n",
       "      <td>0</td>\n",
       "      <td>17.416667</td>\n",
       "      <td>14.800000</td>\n",
       "      <td>...</td>\n",
       "      <td>0</td>\n",
       "      <td>0</td>\n",
       "      <td>0</td>\n",
       "      <td>0</td>\n",
       "      <td>0</td>\n",
       "      <td>0</td>\n",
       "      <td>0</td>\n",
       "      <td>0</td>\n",
       "      <td>0</td>\n",
       "      <td>0</td>\n",
       "    </tr>\n",
       "    <tr>\n",
       "      <th>1</th>\n",
       "      <td>5bf51fc2e162d6faf9e3cf79e4198378</td>\n",
       "      <td>44</td>\n",
       "      <td>11</td>\n",
       "      <td>0</td>\n",
       "      <td>0</td>\n",
       "      <td>13</td>\n",
       "      <td>9.166667</td>\n",
       "      <td>0</td>\n",
       "      <td>17.416667</td>\n",
       "      <td>14.800000</td>\n",
       "      <td>...</td>\n",
       "      <td>0</td>\n",
       "      <td>0</td>\n",
       "      <td>0</td>\n",
       "      <td>0</td>\n",
       "      <td>0</td>\n",
       "      <td>0</td>\n",
       "      <td>0</td>\n",
       "      <td>0</td>\n",
       "      <td>0</td>\n",
       "      <td>0</td>\n",
       "    </tr>\n",
       "    <tr>\n",
       "      <th>2</th>\n",
       "      <td>5bf51fc2e162d6faf9e3cf79e4198378</td>\n",
       "      <td>44</td>\n",
       "      <td>11</td>\n",
       "      <td>0</td>\n",
       "      <td>0</td>\n",
       "      <td>13</td>\n",
       "      <td>9.166667</td>\n",
       "      <td>0</td>\n",
       "      <td>17.416667</td>\n",
       "      <td>14.800000</td>\n",
       "      <td>...</td>\n",
       "      <td>0</td>\n",
       "      <td>0</td>\n",
       "      <td>0</td>\n",
       "      <td>0</td>\n",
       "      <td>0</td>\n",
       "      <td>0</td>\n",
       "      <td>0</td>\n",
       "      <td>0</td>\n",
       "      <td>0</td>\n",
       "      <td>0</td>\n",
       "    </tr>\n",
       "    <tr>\n",
       "      <th>3</th>\n",
       "      <td>5bf51fc2e162d6faf9e3cf79e4198378</td>\n",
       "      <td>44</td>\n",
       "      <td>20</td>\n",
       "      <td>0</td>\n",
       "      <td>0</td>\n",
       "      <td>13</td>\n",
       "      <td>9.166667</td>\n",
       "      <td>0</td>\n",
       "      <td>17.416667</td>\n",
       "      <td>14.800000</td>\n",
       "      <td>...</td>\n",
       "      <td>0</td>\n",
       "      <td>0</td>\n",
       "      <td>0</td>\n",
       "      <td>0</td>\n",
       "      <td>0</td>\n",
       "      <td>0</td>\n",
       "      <td>0</td>\n",
       "      <td>0</td>\n",
       "      <td>0</td>\n",
       "      <td>0</td>\n",
       "    </tr>\n",
       "    <tr>\n",
       "      <th>4</th>\n",
       "      <td>5bf51fc2e162d6faf9e3cf79e4198378</td>\n",
       "      <td>44</td>\n",
       "      <td>20</td>\n",
       "      <td>0</td>\n",
       "      <td>0</td>\n",
       "      <td>13</td>\n",
       "      <td>9.166667</td>\n",
       "      <td>0</td>\n",
       "      <td>17.416667</td>\n",
       "      <td>14.800000</td>\n",
       "      <td>...</td>\n",
       "      <td>0</td>\n",
       "      <td>0</td>\n",
       "      <td>0</td>\n",
       "      <td>0</td>\n",
       "      <td>0</td>\n",
       "      <td>0</td>\n",
       "      <td>0</td>\n",
       "      <td>0</td>\n",
       "      <td>0</td>\n",
       "      <td>0</td>\n",
       "    </tr>\n",
       "    <tr>\n",
       "      <th>...</th>\n",
       "      <td>...</td>\n",
       "      <td>...</td>\n",
       "      <td>...</td>\n",
       "      <td>...</td>\n",
       "      <td>...</td>\n",
       "      <td>...</td>\n",
       "      <td>...</td>\n",
       "      <td>...</td>\n",
       "      <td>...</td>\n",
       "      <td>...</td>\n",
       "      <td>...</td>\n",
       "      <td>...</td>\n",
       "      <td>...</td>\n",
       "      <td>...</td>\n",
       "      <td>...</td>\n",
       "      <td>...</td>\n",
       "      <td>...</td>\n",
       "      <td>...</td>\n",
       "      <td>...</td>\n",
       "      <td>...</td>\n",
       "      <td>...</td>\n",
       "    </tr>\n",
       "    <tr>\n",
       "      <th>16828</th>\n",
       "      <td>932a58530abff8a48558e2a15639d453</td>\n",
       "      <td>44</td>\n",
       "      <td>17</td>\n",
       "      <td>0</td>\n",
       "      <td>0</td>\n",
       "      <td>17</td>\n",
       "      <td>0.000000</td>\n",
       "      <td>0</td>\n",
       "      <td>17.859649</td>\n",
       "      <td>17.985075</td>\n",
       "      <td>...</td>\n",
       "      <td>0</td>\n",
       "      <td>0</td>\n",
       "      <td>0</td>\n",
       "      <td>0</td>\n",
       "      <td>0</td>\n",
       "      <td>0</td>\n",
       "      <td>0</td>\n",
       "      <td>1</td>\n",
       "      <td>0</td>\n",
       "      <td>0</td>\n",
       "    </tr>\n",
       "    <tr>\n",
       "      <th>16829</th>\n",
       "      <td>932a58530abff8a48558e2a15639d453</td>\n",
       "      <td>44</td>\n",
       "      <td>11</td>\n",
       "      <td>0</td>\n",
       "      <td>0</td>\n",
       "      <td>17</td>\n",
       "      <td>14.539683</td>\n",
       "      <td>0</td>\n",
       "      <td>17.859649</td>\n",
       "      <td>17.985075</td>\n",
       "      <td>...</td>\n",
       "      <td>0</td>\n",
       "      <td>0</td>\n",
       "      <td>0</td>\n",
       "      <td>0</td>\n",
       "      <td>0</td>\n",
       "      <td>0</td>\n",
       "      <td>0</td>\n",
       "      <td>1</td>\n",
       "      <td>0</td>\n",
       "      <td>0</td>\n",
       "    </tr>\n",
       "    <tr>\n",
       "      <th>16830</th>\n",
       "      <td>932a58530abff8a48558e2a15639d453</td>\n",
       "      <td>44</td>\n",
       "      <td>25</td>\n",
       "      <td>0</td>\n",
       "      <td>15</td>\n",
       "      <td>10</td>\n",
       "      <td>0.000000</td>\n",
       "      <td>0</td>\n",
       "      <td>17.859649</td>\n",
       "      <td>17.985075</td>\n",
       "      <td>...</td>\n",
       "      <td>0</td>\n",
       "      <td>0</td>\n",
       "      <td>0</td>\n",
       "      <td>0</td>\n",
       "      <td>0</td>\n",
       "      <td>0</td>\n",
       "      <td>0</td>\n",
       "      <td>1</td>\n",
       "      <td>0</td>\n",
       "      <td>0</td>\n",
       "    </tr>\n",
       "    <tr>\n",
       "      <th>16831</th>\n",
       "      <td>932a58530abff8a48558e2a15639d453</td>\n",
       "      <td>44</td>\n",
       "      <td>13</td>\n",
       "      <td>0</td>\n",
       "      <td>0</td>\n",
       "      <td>17</td>\n",
       "      <td>14.539683</td>\n",
       "      <td>0</td>\n",
       "      <td>17.859649</td>\n",
       "      <td>17.985075</td>\n",
       "      <td>...</td>\n",
       "      <td>0</td>\n",
       "      <td>0</td>\n",
       "      <td>0</td>\n",
       "      <td>0</td>\n",
       "      <td>0</td>\n",
       "      <td>1</td>\n",
       "      <td>0</td>\n",
       "      <td>0</td>\n",
       "      <td>0</td>\n",
       "      <td>0</td>\n",
       "    </tr>\n",
       "    <tr>\n",
       "      <th>16832</th>\n",
       "      <td>932a58530abff8a48558e2a15639d453</td>\n",
       "      <td>44</td>\n",
       "      <td>30</td>\n",
       "      <td>0</td>\n",
       "      <td>0</td>\n",
       "      <td>14</td>\n",
       "      <td>16.000000</td>\n",
       "      <td>0</td>\n",
       "      <td>12.000000</td>\n",
       "      <td>18.000000</td>\n",
       "      <td>...</td>\n",
       "      <td>0</td>\n",
       "      <td>0</td>\n",
       "      <td>1</td>\n",
       "      <td>0</td>\n",
       "      <td>0</td>\n",
       "      <td>0</td>\n",
       "      <td>0</td>\n",
       "      <td>0</td>\n",
       "      <td>0</td>\n",
       "      <td>0</td>\n",
       "    </tr>\n",
       "  </tbody>\n",
       "</table>\n",
       "<p>16833 rows × 177 columns</p>\n",
       "</div>"
      ],
      "text/plain": [
       "                                  uu_id  week_number  total_claims  \\\n",
       "0      5bf51fc2e162d6faf9e3cf79e4198378           44            20   \n",
       "1      5bf51fc2e162d6faf9e3cf79e4198378           44            11   \n",
       "2      5bf51fc2e162d6faf9e3cf79e4198378           44            11   \n",
       "3      5bf51fc2e162d6faf9e3cf79e4198378           44            20   \n",
       "4      5bf51fc2e162d6faf9e3cf79e4198378           44            20   \n",
       "...                                 ...          ...           ...   \n",
       "16828  932a58530abff8a48558e2a15639d453           44            17   \n",
       "16829  932a58530abff8a48558e2a15639d453           44            11   \n",
       "16830  932a58530abff8a48558e2a15639d453           44            25   \n",
       "16831  932a58530abff8a48558e2a15639d453           44            13   \n",
       "16832  932a58530abff8a48558e2a15639d453           44            30   \n",
       "\n",
       "       edu_8th_or_less  edu_grades_9_11  edu_hs_grad_equiv  edu_post_hs  \\\n",
       "0                    0                0                 11     9.166667   \n",
       "1                    0                0                 13     9.166667   \n",
       "2                    0                0                 13     9.166667   \n",
       "3                    0                0                 13     9.166667   \n",
       "4                    0                0                 13     9.166667   \n",
       "...                ...              ...                ...          ...   \n",
       "16828                0                0                 17     0.000000   \n",
       "16829                0                0                 17    14.539683   \n",
       "16830                0               15                 10     0.000000   \n",
       "16831                0                0                 17    14.539683   \n",
       "16832                0                0                 14    16.000000   \n",
       "\n",
       "       edu_unknown  gender_female  gender_male  ...  \\\n",
       "0                0      17.416667    14.800000  ...   \n",
       "1                0      17.416667    14.800000  ...   \n",
       "2                0      17.416667    14.800000  ...   \n",
       "3                0      17.416667    14.800000  ...   \n",
       "4                0      17.416667    14.800000  ...   \n",
       "...            ...            ...          ...  ...   \n",
       "16828            0      17.859649    17.985075  ...   \n",
       "16829            0      17.859649    17.985075  ...   \n",
       "16830            0      17.859649    17.985075  ...   \n",
       "16831            0      17.859649    17.985075  ...   \n",
       "16832            0      12.000000    18.000000  ...   \n",
       "\n",
       "       top_category_employer3_54  top_category_employer3_55  \\\n",
       "0                              0                          0   \n",
       "1                              0                          0   \n",
       "2                              0                          0   \n",
       "3                              0                          0   \n",
       "4                              0                          0   \n",
       "...                          ...                        ...   \n",
       "16828                          0                          0   \n",
       "16829                          0                          0   \n",
       "16830                          0                          0   \n",
       "16831                          0                          0   \n",
       "16832                          0                          0   \n",
       "\n",
       "       top_category_employer3_56  top_category_employer3_61  \\\n",
       "0                              0                          0   \n",
       "1                              0                          0   \n",
       "2                              0                          0   \n",
       "3                              0                          0   \n",
       "4                              0                          0   \n",
       "...                          ...                        ...   \n",
       "16828                          0                          0   \n",
       "16829                          0                          0   \n",
       "16830                          0                          0   \n",
       "16831                          0                          0   \n",
       "16832                          1                          0   \n",
       "\n",
       "       top_category_employer3_62  top_category_employer3_71  \\\n",
       "0                              0                          0   \n",
       "1                              0                          0   \n",
       "2                              0                          0   \n",
       "3                              0                          0   \n",
       "4                              0                          0   \n",
       "...                          ...                        ...   \n",
       "16828                          0                          0   \n",
       "16829                          0                          0   \n",
       "16830                          0                          0   \n",
       "16831                          0                          1   \n",
       "16832                          0                          0   \n",
       "\n",
       "       top_category_employer3_72  top_category_employer3_81  \\\n",
       "0                              0                          0   \n",
       "1                              0                          0   \n",
       "2                              0                          0   \n",
       "3                              0                          0   \n",
       "4                              0                          0   \n",
       "...                          ...                        ...   \n",
       "16828                          0                          1   \n",
       "16829                          0                          1   \n",
       "16830                          0                          1   \n",
       "16831                          0                          0   \n",
       "16832                          0                          0   \n",
       "\n",
       "       top_category_employer3_92  top_category_employer3_99  \n",
       "0                              0                          0  \n",
       "1                              0                          0  \n",
       "2                              0                          0  \n",
       "3                              0                          0  \n",
       "4                              0                          0  \n",
       "...                          ...                        ...  \n",
       "16828                          0                          0  \n",
       "16829                          0                          0  \n",
       "16830                          0                          0  \n",
       "16831                          0                          0  \n",
       "16832                          0                          0  \n",
       "\n",
       "[16833 rows x 177 columns]"
      ]
     },
     "execution_count": 166,
     "metadata": {},
     "output_type": "execute_result"
    }
   ],
   "source": [
    "Y_test_final"
   ]
  },
  {
   "cell_type": "code",
   "execution_count": 167,
   "id": "b831159a",
   "metadata": {
    "execution": {
     "iopub.execute_input": "2023-05-10T01:32:12.724629Z",
     "iopub.status.busy": "2023-05-10T01:32:12.724498Z",
     "iopub.status.idle": "2023-05-10T01:32:12.726939Z",
     "shell.execute_reply": "2023-05-10T01:32:12.726583Z"
    }
   },
   "outputs": [
    {
     "ename": "SyntaxError",
     "evalue": "invalid syntax (953381775.py, line 1)",
     "output_type": "error",
     "traceback": [
      "\u001b[0;36m  Cell \u001b[0;32mIn [167], line 1\u001b[0;36m\u001b[0m\n\u001b[0;31m    df_test = fin[fin.uu_id == i for i in pred_data['uu_id']]\u001b[0m\n\u001b[0m                                 ^\u001b[0m\n\u001b[0;31mSyntaxError\u001b[0m\u001b[0;31m:\u001b[0m invalid syntax\n"
     ]
    }
   ],
   "source": [
    "df_test = fin[fin.uu_id == i for i in pred_data['uu_id']]\n",
    "df_test"
   ]
  },
  {
   "cell_type": "code",
   "execution_count": 168,
   "id": "6bfb8318",
   "metadata": {
    "execution": {
     "iopub.execute_input": "2023-05-10T01:32:12.729417Z",
     "iopub.status.busy": "2023-05-10T01:32:12.729270Z",
     "iopub.status.idle": "2023-05-10T01:32:12.852473Z",
     "shell.execute_reply": "2023-05-10T01:32:12.852160Z"
    }
   },
   "outputs": [
    {
     "ename": "ValueError",
     "evalue": "columns overlap but no suffix specified: Index(['uu_id'], dtype='object')",
     "output_type": "error",
     "traceback": [
      "\u001b[0;31m---------------------------------------------------------------------------\u001b[0m",
      "\u001b[0;31mValueError\u001b[0m                                Traceback (most recent call last)",
      "Cell \u001b[0;32mIn [168], line 1\u001b[0m\n\u001b[0;32m----> 1\u001b[0m Y_test_final \u001b[38;5;241m=\u001b[39m \u001b[43mpred_data\u001b[49m\u001b[38;5;241;43m.\u001b[39;49m\u001b[43mjoin\u001b[49m\u001b[43m(\u001b[49m\u001b[43mfin\u001b[49m\u001b[43m)\u001b[49m\n",
      "File \u001b[0;32m/opt/homebrew/lib/python3.9/site-packages/pandas/core/frame.py:9966\u001b[0m, in \u001b[0;36mDataFrame.join\u001b[0;34m(self, other, on, how, lsuffix, rsuffix, sort, validate)\u001b[0m\n\u001b[1;32m   9803\u001b[0m \u001b[38;5;28;01mdef\u001b[39;00m \u001b[38;5;21mjoin\u001b[39m(\n\u001b[1;32m   9804\u001b[0m     \u001b[38;5;28mself\u001b[39m,\n\u001b[1;32m   9805\u001b[0m     other: DataFrame \u001b[38;5;241m|\u001b[39m Series \u001b[38;5;241m|\u001b[39m \u001b[38;5;28mlist\u001b[39m[DataFrame \u001b[38;5;241m|\u001b[39m Series],\n\u001b[0;32m   (...)\u001b[0m\n\u001b[1;32m   9811\u001b[0m     validate: \u001b[38;5;28mstr\u001b[39m \u001b[38;5;241m|\u001b[39m \u001b[38;5;28;01mNone\u001b[39;00m \u001b[38;5;241m=\u001b[39m \u001b[38;5;28;01mNone\u001b[39;00m,\n\u001b[1;32m   9812\u001b[0m ) \u001b[38;5;241m-\u001b[39m\u001b[38;5;241m>\u001b[39m DataFrame:\n\u001b[1;32m   9813\u001b[0m     \u001b[38;5;124;03m\"\"\"\u001b[39;00m\n\u001b[1;32m   9814\u001b[0m \u001b[38;5;124;03m    Join columns of another DataFrame.\u001b[39;00m\n\u001b[1;32m   9815\u001b[0m \n\u001b[0;32m   (...)\u001b[0m\n\u001b[1;32m   9964\u001b[0m \u001b[38;5;124;03m    5  K1  A5   B1\u001b[39;00m\n\u001b[1;32m   9965\u001b[0m \u001b[38;5;124;03m    \"\"\"\u001b[39;00m\n\u001b[0;32m-> 9966\u001b[0m     \u001b[38;5;28;01mreturn\u001b[39;00m \u001b[38;5;28;43mself\u001b[39;49m\u001b[38;5;241;43m.\u001b[39;49m\u001b[43m_join_compat\u001b[49m\u001b[43m(\u001b[49m\n\u001b[1;32m   9967\u001b[0m \u001b[43m        \u001b[49m\u001b[43mother\u001b[49m\u001b[43m,\u001b[49m\n\u001b[1;32m   9968\u001b[0m \u001b[43m        \u001b[49m\u001b[43mon\u001b[49m\u001b[38;5;241;43m=\u001b[39;49m\u001b[43mon\u001b[49m\u001b[43m,\u001b[49m\n\u001b[1;32m   9969\u001b[0m \u001b[43m        \u001b[49m\u001b[43mhow\u001b[49m\u001b[38;5;241;43m=\u001b[39;49m\u001b[43mhow\u001b[49m\u001b[43m,\u001b[49m\n\u001b[1;32m   9970\u001b[0m \u001b[43m        \u001b[49m\u001b[43mlsuffix\u001b[49m\u001b[38;5;241;43m=\u001b[39;49m\u001b[43mlsuffix\u001b[49m\u001b[43m,\u001b[49m\n\u001b[1;32m   9971\u001b[0m \u001b[43m        \u001b[49m\u001b[43mrsuffix\u001b[49m\u001b[38;5;241;43m=\u001b[39;49m\u001b[43mrsuffix\u001b[49m\u001b[43m,\u001b[49m\n\u001b[1;32m   9972\u001b[0m \u001b[43m        \u001b[49m\u001b[43msort\u001b[49m\u001b[38;5;241;43m=\u001b[39;49m\u001b[43msort\u001b[49m\u001b[43m,\u001b[49m\n\u001b[1;32m   9973\u001b[0m \u001b[43m        \u001b[49m\u001b[43mvalidate\u001b[49m\u001b[38;5;241;43m=\u001b[39;49m\u001b[43mvalidate\u001b[49m\u001b[43m,\u001b[49m\n\u001b[1;32m   9974\u001b[0m \u001b[43m    \u001b[49m\u001b[43m)\u001b[49m\n",
      "File \u001b[0;32m/opt/homebrew/lib/python3.9/site-packages/pandas/core/frame.py:10005\u001b[0m, in \u001b[0;36mDataFrame._join_compat\u001b[0;34m(self, other, on, how, lsuffix, rsuffix, sort, validate)\u001b[0m\n\u001b[1;32m   9995\u001b[0m     \u001b[38;5;28;01mif\u001b[39;00m how \u001b[38;5;241m==\u001b[39m \u001b[38;5;124m\"\u001b[39m\u001b[38;5;124mcross\u001b[39m\u001b[38;5;124m\"\u001b[39m:\n\u001b[1;32m   9996\u001b[0m         \u001b[38;5;28;01mreturn\u001b[39;00m merge(\n\u001b[1;32m   9997\u001b[0m             \u001b[38;5;28mself\u001b[39m,\n\u001b[1;32m   9998\u001b[0m             other,\n\u001b[0;32m   (...)\u001b[0m\n\u001b[1;32m  10003\u001b[0m             validate\u001b[38;5;241m=\u001b[39mvalidate,\n\u001b[1;32m  10004\u001b[0m         )\n\u001b[0;32m> 10005\u001b[0m     \u001b[38;5;28;01mreturn\u001b[39;00m \u001b[43mmerge\u001b[49m\u001b[43m(\u001b[49m\n\u001b[1;32m  10006\u001b[0m \u001b[43m        \u001b[49m\u001b[38;5;28;43mself\u001b[39;49m\u001b[43m,\u001b[49m\n\u001b[1;32m  10007\u001b[0m \u001b[43m        \u001b[49m\u001b[43mother\u001b[49m\u001b[43m,\u001b[49m\n\u001b[1;32m  10008\u001b[0m \u001b[43m        \u001b[49m\u001b[43mleft_on\u001b[49m\u001b[38;5;241;43m=\u001b[39;49m\u001b[43mon\u001b[49m\u001b[43m,\u001b[49m\n\u001b[1;32m  10009\u001b[0m \u001b[43m        \u001b[49m\u001b[43mhow\u001b[49m\u001b[38;5;241;43m=\u001b[39;49m\u001b[43mhow\u001b[49m\u001b[43m,\u001b[49m\n\u001b[1;32m  10010\u001b[0m \u001b[43m        \u001b[49m\u001b[43mleft_index\u001b[49m\u001b[38;5;241;43m=\u001b[39;49m\u001b[43mon\u001b[49m\u001b[43m \u001b[49m\u001b[38;5;129;43;01mis\u001b[39;49;00m\u001b[43m \u001b[49m\u001b[38;5;28;43;01mNone\u001b[39;49;00m\u001b[43m,\u001b[49m\n\u001b[1;32m  10011\u001b[0m \u001b[43m        \u001b[49m\u001b[43mright_index\u001b[49m\u001b[38;5;241;43m=\u001b[39;49m\u001b[38;5;28;43;01mTrue\u001b[39;49;00m\u001b[43m,\u001b[49m\n\u001b[1;32m  10012\u001b[0m \u001b[43m        \u001b[49m\u001b[43msuffixes\u001b[49m\u001b[38;5;241;43m=\u001b[39;49m\u001b[43m(\u001b[49m\u001b[43mlsuffix\u001b[49m\u001b[43m,\u001b[49m\u001b[43m \u001b[49m\u001b[43mrsuffix\u001b[49m\u001b[43m)\u001b[49m\u001b[43m,\u001b[49m\n\u001b[1;32m  10013\u001b[0m \u001b[43m        \u001b[49m\u001b[43msort\u001b[49m\u001b[38;5;241;43m=\u001b[39;49m\u001b[43msort\u001b[49m\u001b[43m,\u001b[49m\n\u001b[1;32m  10014\u001b[0m \u001b[43m        \u001b[49m\u001b[43mvalidate\u001b[49m\u001b[38;5;241;43m=\u001b[39;49m\u001b[43mvalidate\u001b[49m\u001b[43m,\u001b[49m\n\u001b[1;32m  10015\u001b[0m \u001b[43m    \u001b[49m\u001b[43m)\u001b[49m\n\u001b[1;32m  10016\u001b[0m \u001b[38;5;28;01melse\u001b[39;00m:\n\u001b[1;32m  10017\u001b[0m     \u001b[38;5;28;01mif\u001b[39;00m on \u001b[38;5;129;01mis\u001b[39;00m \u001b[38;5;129;01mnot\u001b[39;00m \u001b[38;5;28;01mNone\u001b[39;00m:\n",
      "File \u001b[0;32m/opt/homebrew/lib/python3.9/site-packages/pandas/core/reshape/merge.py:124\u001b[0m, in \u001b[0;36mmerge\u001b[0;34m(left, right, how, on, left_on, right_on, left_index, right_index, sort, suffixes, copy, indicator, validate)\u001b[0m\n\u001b[1;32m     93\u001b[0m \u001b[38;5;129m@Substitution\u001b[39m(\u001b[38;5;124m\"\u001b[39m\u001b[38;5;130;01m\\n\u001b[39;00m\u001b[38;5;124mleft : DataFrame or named Series\u001b[39m\u001b[38;5;124m\"\u001b[39m)\n\u001b[1;32m     94\u001b[0m \u001b[38;5;129m@Appender\u001b[39m(_merge_doc, indents\u001b[38;5;241m=\u001b[39m\u001b[38;5;241m0\u001b[39m)\n\u001b[1;32m     95\u001b[0m \u001b[38;5;28;01mdef\u001b[39;00m \u001b[38;5;21mmerge\u001b[39m(\n\u001b[0;32m   (...)\u001b[0m\n\u001b[1;32m    108\u001b[0m     validate: \u001b[38;5;28mstr\u001b[39m \u001b[38;5;241m|\u001b[39m \u001b[38;5;28;01mNone\u001b[39;00m \u001b[38;5;241m=\u001b[39m \u001b[38;5;28;01mNone\u001b[39;00m,\n\u001b[1;32m    109\u001b[0m ) \u001b[38;5;241m-\u001b[39m\u001b[38;5;241m>\u001b[39m DataFrame:\n\u001b[1;32m    110\u001b[0m     op \u001b[38;5;241m=\u001b[39m _MergeOperation(\n\u001b[1;32m    111\u001b[0m         left,\n\u001b[1;32m    112\u001b[0m         right,\n\u001b[0;32m   (...)\u001b[0m\n\u001b[1;32m    122\u001b[0m         validate\u001b[38;5;241m=\u001b[39mvalidate,\n\u001b[1;32m    123\u001b[0m     )\n\u001b[0;32m--> 124\u001b[0m     \u001b[38;5;28;01mreturn\u001b[39;00m \u001b[43mop\u001b[49m\u001b[38;5;241;43m.\u001b[39;49m\u001b[43mget_result\u001b[49m\u001b[43m(\u001b[49m\u001b[43mcopy\u001b[49m\u001b[38;5;241;43m=\u001b[39;49m\u001b[43mcopy\u001b[49m\u001b[43m)\u001b[49m\n",
      "File \u001b[0;32m/opt/homebrew/lib/python3.9/site-packages/pandas/core/reshape/merge.py:775\u001b[0m, in \u001b[0;36m_MergeOperation.get_result\u001b[0;34m(self, copy)\u001b[0m\n\u001b[1;32m    771\u001b[0m     \u001b[38;5;28mself\u001b[39m\u001b[38;5;241m.\u001b[39mleft, \u001b[38;5;28mself\u001b[39m\u001b[38;5;241m.\u001b[39mright \u001b[38;5;241m=\u001b[39m \u001b[38;5;28mself\u001b[39m\u001b[38;5;241m.\u001b[39m_indicator_pre_merge(\u001b[38;5;28mself\u001b[39m\u001b[38;5;241m.\u001b[39mleft, \u001b[38;5;28mself\u001b[39m\u001b[38;5;241m.\u001b[39mright)\n\u001b[1;32m    773\u001b[0m join_index, left_indexer, right_indexer \u001b[38;5;241m=\u001b[39m \u001b[38;5;28mself\u001b[39m\u001b[38;5;241m.\u001b[39m_get_join_info()\n\u001b[0;32m--> 775\u001b[0m result \u001b[38;5;241m=\u001b[39m \u001b[38;5;28;43mself\u001b[39;49m\u001b[38;5;241;43m.\u001b[39;49m\u001b[43m_reindex_and_concat\u001b[49m\u001b[43m(\u001b[49m\n\u001b[1;32m    776\u001b[0m \u001b[43m    \u001b[49m\u001b[43mjoin_index\u001b[49m\u001b[43m,\u001b[49m\u001b[43m \u001b[49m\u001b[43mleft_indexer\u001b[49m\u001b[43m,\u001b[49m\u001b[43m \u001b[49m\u001b[43mright_indexer\u001b[49m\u001b[43m,\u001b[49m\u001b[43m \u001b[49m\u001b[43mcopy\u001b[49m\u001b[38;5;241;43m=\u001b[39;49m\u001b[43mcopy\u001b[49m\n\u001b[1;32m    777\u001b[0m \u001b[43m\u001b[49m\u001b[43m)\u001b[49m\n\u001b[1;32m    778\u001b[0m result \u001b[38;5;241m=\u001b[39m result\u001b[38;5;241m.\u001b[39m__finalize__(\u001b[38;5;28mself\u001b[39m, method\u001b[38;5;241m=\u001b[39m\u001b[38;5;28mself\u001b[39m\u001b[38;5;241m.\u001b[39m_merge_type)\n\u001b[1;32m    780\u001b[0m \u001b[38;5;28;01mif\u001b[39;00m \u001b[38;5;28mself\u001b[39m\u001b[38;5;241m.\u001b[39mindicator:\n",
      "File \u001b[0;32m/opt/homebrew/lib/python3.9/site-packages/pandas/core/reshape/merge.py:729\u001b[0m, in \u001b[0;36m_MergeOperation._reindex_and_concat\u001b[0;34m(self, join_index, left_indexer, right_indexer, copy)\u001b[0m\n\u001b[1;32m    726\u001b[0m left \u001b[38;5;241m=\u001b[39m \u001b[38;5;28mself\u001b[39m\u001b[38;5;241m.\u001b[39mleft[:]\n\u001b[1;32m    727\u001b[0m right \u001b[38;5;241m=\u001b[39m \u001b[38;5;28mself\u001b[39m\u001b[38;5;241m.\u001b[39mright[:]\n\u001b[0;32m--> 729\u001b[0m llabels, rlabels \u001b[38;5;241m=\u001b[39m \u001b[43m_items_overlap_with_suffix\u001b[49m\u001b[43m(\u001b[49m\n\u001b[1;32m    730\u001b[0m \u001b[43m    \u001b[49m\u001b[38;5;28;43mself\u001b[39;49m\u001b[38;5;241;43m.\u001b[39;49m\u001b[43mleft\u001b[49m\u001b[38;5;241;43m.\u001b[39;49m\u001b[43m_info_axis\u001b[49m\u001b[43m,\u001b[49m\u001b[43m \u001b[49m\u001b[38;5;28;43mself\u001b[39;49m\u001b[38;5;241;43m.\u001b[39;49m\u001b[43mright\u001b[49m\u001b[38;5;241;43m.\u001b[39;49m\u001b[43m_info_axis\u001b[49m\u001b[43m,\u001b[49m\u001b[43m \u001b[49m\u001b[38;5;28;43mself\u001b[39;49m\u001b[38;5;241;43m.\u001b[39;49m\u001b[43msuffixes\u001b[49m\n\u001b[1;32m    731\u001b[0m \u001b[43m\u001b[49m\u001b[43m)\u001b[49m\n\u001b[1;32m    733\u001b[0m \u001b[38;5;28;01mif\u001b[39;00m left_indexer \u001b[38;5;129;01mis\u001b[39;00m \u001b[38;5;129;01mnot\u001b[39;00m \u001b[38;5;28;01mNone\u001b[39;00m:\n\u001b[1;32m    734\u001b[0m     \u001b[38;5;66;03m# Pinning the index here (and in the right code just below) is not\u001b[39;00m\n\u001b[1;32m    735\u001b[0m     \u001b[38;5;66;03m#  necessary, but makes the `.take` more performant if we have e.g.\u001b[39;00m\n\u001b[1;32m    736\u001b[0m     \u001b[38;5;66;03m#  a MultiIndex for left.index.\u001b[39;00m\n\u001b[1;32m    737\u001b[0m     lmgr \u001b[38;5;241m=\u001b[39m left\u001b[38;5;241m.\u001b[39m_mgr\u001b[38;5;241m.\u001b[39mreindex_indexer(\n\u001b[1;32m    738\u001b[0m         join_index,\n\u001b[1;32m    739\u001b[0m         left_indexer,\n\u001b[0;32m   (...)\u001b[0m\n\u001b[1;32m    744\u001b[0m         use_na_proxy\u001b[38;5;241m=\u001b[39m\u001b[38;5;28;01mTrue\u001b[39;00m,\n\u001b[1;32m    745\u001b[0m     )\n",
      "File \u001b[0;32m/opt/homebrew/lib/python3.9/site-packages/pandas/core/reshape/merge.py:2458\u001b[0m, in \u001b[0;36m_items_overlap_with_suffix\u001b[0;34m(left, right, suffixes)\u001b[0m\n\u001b[1;32m   2455\u001b[0m lsuffix, rsuffix \u001b[38;5;241m=\u001b[39m suffixes\n\u001b[1;32m   2457\u001b[0m \u001b[38;5;28;01mif\u001b[39;00m \u001b[38;5;129;01mnot\u001b[39;00m lsuffix \u001b[38;5;129;01mand\u001b[39;00m \u001b[38;5;129;01mnot\u001b[39;00m rsuffix:\n\u001b[0;32m-> 2458\u001b[0m     \u001b[38;5;28;01mraise\u001b[39;00m \u001b[38;5;167;01mValueError\u001b[39;00m(\u001b[38;5;124mf\u001b[39m\u001b[38;5;124m\"\u001b[39m\u001b[38;5;124mcolumns overlap but no suffix specified: \u001b[39m\u001b[38;5;132;01m{\u001b[39;00mto_rename\u001b[38;5;132;01m}\u001b[39;00m\u001b[38;5;124m\"\u001b[39m)\n\u001b[1;32m   2460\u001b[0m \u001b[38;5;28;01mdef\u001b[39;00m \u001b[38;5;21mrenamer\u001b[39m(x, suffix):\n\u001b[1;32m   2461\u001b[0m     \u001b[38;5;124;03m\"\"\"\u001b[39;00m\n\u001b[1;32m   2462\u001b[0m \u001b[38;5;124;03m    Rename the left and right indices.\u001b[39;00m\n\u001b[1;32m   2463\u001b[0m \n\u001b[0;32m   (...)\u001b[0m\n\u001b[1;32m   2474\u001b[0m \u001b[38;5;124;03m    x : renamed column name\u001b[39;00m\n\u001b[1;32m   2475\u001b[0m \u001b[38;5;124;03m    \"\"\"\u001b[39;00m\n",
      "\u001b[0;31mValueError\u001b[0m: columns overlap but no suffix specified: Index(['uu_id'], dtype='object')"
     ]
    }
   ],
   "source": [
    "Y_test_final = pred_data.join(fin)"
   ]
  },
  {
   "cell_type": "code",
   "execution_count": 169,
   "id": "8fd1a1f2",
   "metadata": {
    "execution": {
     "iopub.execute_input": "2023-05-10T01:32:12.854145Z",
     "iopub.status.busy": "2023-05-10T01:32:12.854026Z",
     "iopub.status.idle": "2023-05-10T01:32:12.857009Z",
     "shell.execute_reply": "2023-05-10T01:32:12.856765Z"
    }
   },
   "outputs": [],
   "source": [
    "final_data1 = final_data.drop(['timeperiod','tract_x','tract_name_x','tract_y','tract_name_y','countyfips_y'],axis=1)"
   ]
  },
  {
   "cell_type": "code",
   "execution_count": 170,
   "id": "e7e73be7",
   "metadata": {
    "execution": {
     "iopub.execute_input": "2023-05-10T01:32:12.858500Z",
     "iopub.status.busy": "2023-05-10T01:32:12.858397Z",
     "iopub.status.idle": "2023-05-10T01:32:12.870286Z",
     "shell.execute_reply": "2023-05-10T01:32:12.870000Z"
    }
   },
   "outputs": [],
   "source": [
    "fin = pd.get_dummies(final_data1,columns = ['week_number','countyfips_x','top_category_employer1','top_category_employer2','top_category_employer3'])"
   ]
  },
  {
   "cell_type": "code",
   "execution_count": 171,
   "id": "be3a5de4",
   "metadata": {
    "execution": {
     "iopub.execute_input": "2023-05-10T01:32:12.871965Z",
     "iopub.status.busy": "2023-05-10T01:32:12.871874Z",
     "iopub.status.idle": "2023-05-10T01:32:12.903377Z",
     "shell.execute_reply": "2023-05-10T01:32:12.903086Z"
    }
   },
   "outputs": [
    {
     "ename": "ValueError",
     "evalue": "columns overlap but no suffix specified: Index(['uu_id'], dtype='object')",
     "output_type": "error",
     "traceback": [
      "\u001b[0;31m---------------------------------------------------------------------------\u001b[0m",
      "\u001b[0;31mValueError\u001b[0m                                Traceback (most recent call last)",
      "Cell \u001b[0;32mIn [171], line 1\u001b[0m\n\u001b[0;32m----> 1\u001b[0m Y_test_final \u001b[38;5;241m=\u001b[39m \u001b[43mpred_data\u001b[49m\u001b[38;5;241;43m.\u001b[39;49m\u001b[43mjoin\u001b[49m\u001b[43m(\u001b[49m\u001b[43mfin\u001b[49m\u001b[43m)\u001b[49m\n",
      "File \u001b[0;32m/opt/homebrew/lib/python3.9/site-packages/pandas/core/frame.py:9966\u001b[0m, in \u001b[0;36mDataFrame.join\u001b[0;34m(self, other, on, how, lsuffix, rsuffix, sort, validate)\u001b[0m\n\u001b[1;32m   9803\u001b[0m \u001b[38;5;28;01mdef\u001b[39;00m \u001b[38;5;21mjoin\u001b[39m(\n\u001b[1;32m   9804\u001b[0m     \u001b[38;5;28mself\u001b[39m,\n\u001b[1;32m   9805\u001b[0m     other: DataFrame \u001b[38;5;241m|\u001b[39m Series \u001b[38;5;241m|\u001b[39m \u001b[38;5;28mlist\u001b[39m[DataFrame \u001b[38;5;241m|\u001b[39m Series],\n\u001b[0;32m   (...)\u001b[0m\n\u001b[1;32m   9811\u001b[0m     validate: \u001b[38;5;28mstr\u001b[39m \u001b[38;5;241m|\u001b[39m \u001b[38;5;28;01mNone\u001b[39;00m \u001b[38;5;241m=\u001b[39m \u001b[38;5;28;01mNone\u001b[39;00m,\n\u001b[1;32m   9812\u001b[0m ) \u001b[38;5;241m-\u001b[39m\u001b[38;5;241m>\u001b[39m DataFrame:\n\u001b[1;32m   9813\u001b[0m     \u001b[38;5;124;03m\"\"\"\u001b[39;00m\n\u001b[1;32m   9814\u001b[0m \u001b[38;5;124;03m    Join columns of another DataFrame.\u001b[39;00m\n\u001b[1;32m   9815\u001b[0m \n\u001b[0;32m   (...)\u001b[0m\n\u001b[1;32m   9964\u001b[0m \u001b[38;5;124;03m    5  K1  A5   B1\u001b[39;00m\n\u001b[1;32m   9965\u001b[0m \u001b[38;5;124;03m    \"\"\"\u001b[39;00m\n\u001b[0;32m-> 9966\u001b[0m     \u001b[38;5;28;01mreturn\u001b[39;00m \u001b[38;5;28;43mself\u001b[39;49m\u001b[38;5;241;43m.\u001b[39;49m\u001b[43m_join_compat\u001b[49m\u001b[43m(\u001b[49m\n\u001b[1;32m   9967\u001b[0m \u001b[43m        \u001b[49m\u001b[43mother\u001b[49m\u001b[43m,\u001b[49m\n\u001b[1;32m   9968\u001b[0m \u001b[43m        \u001b[49m\u001b[43mon\u001b[49m\u001b[38;5;241;43m=\u001b[39;49m\u001b[43mon\u001b[49m\u001b[43m,\u001b[49m\n\u001b[1;32m   9969\u001b[0m \u001b[43m        \u001b[49m\u001b[43mhow\u001b[49m\u001b[38;5;241;43m=\u001b[39;49m\u001b[43mhow\u001b[49m\u001b[43m,\u001b[49m\n\u001b[1;32m   9970\u001b[0m \u001b[43m        \u001b[49m\u001b[43mlsuffix\u001b[49m\u001b[38;5;241;43m=\u001b[39;49m\u001b[43mlsuffix\u001b[49m\u001b[43m,\u001b[49m\n\u001b[1;32m   9971\u001b[0m \u001b[43m        \u001b[49m\u001b[43mrsuffix\u001b[49m\u001b[38;5;241;43m=\u001b[39;49m\u001b[43mrsuffix\u001b[49m\u001b[43m,\u001b[49m\n\u001b[1;32m   9972\u001b[0m \u001b[43m        \u001b[49m\u001b[43msort\u001b[49m\u001b[38;5;241;43m=\u001b[39;49m\u001b[43msort\u001b[49m\u001b[43m,\u001b[49m\n\u001b[1;32m   9973\u001b[0m \u001b[43m        \u001b[49m\u001b[43mvalidate\u001b[49m\u001b[38;5;241;43m=\u001b[39;49m\u001b[43mvalidate\u001b[49m\u001b[43m,\u001b[49m\n\u001b[1;32m   9974\u001b[0m \u001b[43m    \u001b[49m\u001b[43m)\u001b[49m\n",
      "File \u001b[0;32m/opt/homebrew/lib/python3.9/site-packages/pandas/core/frame.py:10005\u001b[0m, in \u001b[0;36mDataFrame._join_compat\u001b[0;34m(self, other, on, how, lsuffix, rsuffix, sort, validate)\u001b[0m\n\u001b[1;32m   9995\u001b[0m     \u001b[38;5;28;01mif\u001b[39;00m how \u001b[38;5;241m==\u001b[39m \u001b[38;5;124m\"\u001b[39m\u001b[38;5;124mcross\u001b[39m\u001b[38;5;124m\"\u001b[39m:\n\u001b[1;32m   9996\u001b[0m         \u001b[38;5;28;01mreturn\u001b[39;00m merge(\n\u001b[1;32m   9997\u001b[0m             \u001b[38;5;28mself\u001b[39m,\n\u001b[1;32m   9998\u001b[0m             other,\n\u001b[0;32m   (...)\u001b[0m\n\u001b[1;32m  10003\u001b[0m             validate\u001b[38;5;241m=\u001b[39mvalidate,\n\u001b[1;32m  10004\u001b[0m         )\n\u001b[0;32m> 10005\u001b[0m     \u001b[38;5;28;01mreturn\u001b[39;00m \u001b[43mmerge\u001b[49m\u001b[43m(\u001b[49m\n\u001b[1;32m  10006\u001b[0m \u001b[43m        \u001b[49m\u001b[38;5;28;43mself\u001b[39;49m\u001b[43m,\u001b[49m\n\u001b[1;32m  10007\u001b[0m \u001b[43m        \u001b[49m\u001b[43mother\u001b[49m\u001b[43m,\u001b[49m\n\u001b[1;32m  10008\u001b[0m \u001b[43m        \u001b[49m\u001b[43mleft_on\u001b[49m\u001b[38;5;241;43m=\u001b[39;49m\u001b[43mon\u001b[49m\u001b[43m,\u001b[49m\n\u001b[1;32m  10009\u001b[0m \u001b[43m        \u001b[49m\u001b[43mhow\u001b[49m\u001b[38;5;241;43m=\u001b[39;49m\u001b[43mhow\u001b[49m\u001b[43m,\u001b[49m\n\u001b[1;32m  10010\u001b[0m \u001b[43m        \u001b[49m\u001b[43mleft_index\u001b[49m\u001b[38;5;241;43m=\u001b[39;49m\u001b[43mon\u001b[49m\u001b[43m \u001b[49m\u001b[38;5;129;43;01mis\u001b[39;49;00m\u001b[43m \u001b[49m\u001b[38;5;28;43;01mNone\u001b[39;49;00m\u001b[43m,\u001b[49m\n\u001b[1;32m  10011\u001b[0m \u001b[43m        \u001b[49m\u001b[43mright_index\u001b[49m\u001b[38;5;241;43m=\u001b[39;49m\u001b[38;5;28;43;01mTrue\u001b[39;49;00m\u001b[43m,\u001b[49m\n\u001b[1;32m  10012\u001b[0m \u001b[43m        \u001b[49m\u001b[43msuffixes\u001b[49m\u001b[38;5;241;43m=\u001b[39;49m\u001b[43m(\u001b[49m\u001b[43mlsuffix\u001b[49m\u001b[43m,\u001b[49m\u001b[43m \u001b[49m\u001b[43mrsuffix\u001b[49m\u001b[43m)\u001b[49m\u001b[43m,\u001b[49m\n\u001b[1;32m  10013\u001b[0m \u001b[43m        \u001b[49m\u001b[43msort\u001b[49m\u001b[38;5;241;43m=\u001b[39;49m\u001b[43msort\u001b[49m\u001b[43m,\u001b[49m\n\u001b[1;32m  10014\u001b[0m \u001b[43m        \u001b[49m\u001b[43mvalidate\u001b[49m\u001b[38;5;241;43m=\u001b[39;49m\u001b[43mvalidate\u001b[49m\u001b[43m,\u001b[49m\n\u001b[1;32m  10015\u001b[0m \u001b[43m    \u001b[49m\u001b[43m)\u001b[49m\n\u001b[1;32m  10016\u001b[0m \u001b[38;5;28;01melse\u001b[39;00m:\n\u001b[1;32m  10017\u001b[0m     \u001b[38;5;28;01mif\u001b[39;00m on \u001b[38;5;129;01mis\u001b[39;00m \u001b[38;5;129;01mnot\u001b[39;00m \u001b[38;5;28;01mNone\u001b[39;00m:\n",
      "File \u001b[0;32m/opt/homebrew/lib/python3.9/site-packages/pandas/core/reshape/merge.py:124\u001b[0m, in \u001b[0;36mmerge\u001b[0;34m(left, right, how, on, left_on, right_on, left_index, right_index, sort, suffixes, copy, indicator, validate)\u001b[0m\n\u001b[1;32m     93\u001b[0m \u001b[38;5;129m@Substitution\u001b[39m(\u001b[38;5;124m\"\u001b[39m\u001b[38;5;130;01m\\n\u001b[39;00m\u001b[38;5;124mleft : DataFrame or named Series\u001b[39m\u001b[38;5;124m\"\u001b[39m)\n\u001b[1;32m     94\u001b[0m \u001b[38;5;129m@Appender\u001b[39m(_merge_doc, indents\u001b[38;5;241m=\u001b[39m\u001b[38;5;241m0\u001b[39m)\n\u001b[1;32m     95\u001b[0m \u001b[38;5;28;01mdef\u001b[39;00m \u001b[38;5;21mmerge\u001b[39m(\n\u001b[0;32m   (...)\u001b[0m\n\u001b[1;32m    108\u001b[0m     validate: \u001b[38;5;28mstr\u001b[39m \u001b[38;5;241m|\u001b[39m \u001b[38;5;28;01mNone\u001b[39;00m \u001b[38;5;241m=\u001b[39m \u001b[38;5;28;01mNone\u001b[39;00m,\n\u001b[1;32m    109\u001b[0m ) \u001b[38;5;241m-\u001b[39m\u001b[38;5;241m>\u001b[39m DataFrame:\n\u001b[1;32m    110\u001b[0m     op \u001b[38;5;241m=\u001b[39m _MergeOperation(\n\u001b[1;32m    111\u001b[0m         left,\n\u001b[1;32m    112\u001b[0m         right,\n\u001b[0;32m   (...)\u001b[0m\n\u001b[1;32m    122\u001b[0m         validate\u001b[38;5;241m=\u001b[39mvalidate,\n\u001b[1;32m    123\u001b[0m     )\n\u001b[0;32m--> 124\u001b[0m     \u001b[38;5;28;01mreturn\u001b[39;00m \u001b[43mop\u001b[49m\u001b[38;5;241;43m.\u001b[39;49m\u001b[43mget_result\u001b[49m\u001b[43m(\u001b[49m\u001b[43mcopy\u001b[49m\u001b[38;5;241;43m=\u001b[39;49m\u001b[43mcopy\u001b[49m\u001b[43m)\u001b[49m\n",
      "File \u001b[0;32m/opt/homebrew/lib/python3.9/site-packages/pandas/core/reshape/merge.py:775\u001b[0m, in \u001b[0;36m_MergeOperation.get_result\u001b[0;34m(self, copy)\u001b[0m\n\u001b[1;32m    771\u001b[0m     \u001b[38;5;28mself\u001b[39m\u001b[38;5;241m.\u001b[39mleft, \u001b[38;5;28mself\u001b[39m\u001b[38;5;241m.\u001b[39mright \u001b[38;5;241m=\u001b[39m \u001b[38;5;28mself\u001b[39m\u001b[38;5;241m.\u001b[39m_indicator_pre_merge(\u001b[38;5;28mself\u001b[39m\u001b[38;5;241m.\u001b[39mleft, \u001b[38;5;28mself\u001b[39m\u001b[38;5;241m.\u001b[39mright)\n\u001b[1;32m    773\u001b[0m join_index, left_indexer, right_indexer \u001b[38;5;241m=\u001b[39m \u001b[38;5;28mself\u001b[39m\u001b[38;5;241m.\u001b[39m_get_join_info()\n\u001b[0;32m--> 775\u001b[0m result \u001b[38;5;241m=\u001b[39m \u001b[38;5;28;43mself\u001b[39;49m\u001b[38;5;241;43m.\u001b[39;49m\u001b[43m_reindex_and_concat\u001b[49m\u001b[43m(\u001b[49m\n\u001b[1;32m    776\u001b[0m \u001b[43m    \u001b[49m\u001b[43mjoin_index\u001b[49m\u001b[43m,\u001b[49m\u001b[43m \u001b[49m\u001b[43mleft_indexer\u001b[49m\u001b[43m,\u001b[49m\u001b[43m \u001b[49m\u001b[43mright_indexer\u001b[49m\u001b[43m,\u001b[49m\u001b[43m \u001b[49m\u001b[43mcopy\u001b[49m\u001b[38;5;241;43m=\u001b[39;49m\u001b[43mcopy\u001b[49m\n\u001b[1;32m    777\u001b[0m \u001b[43m\u001b[49m\u001b[43m)\u001b[49m\n\u001b[1;32m    778\u001b[0m result \u001b[38;5;241m=\u001b[39m result\u001b[38;5;241m.\u001b[39m__finalize__(\u001b[38;5;28mself\u001b[39m, method\u001b[38;5;241m=\u001b[39m\u001b[38;5;28mself\u001b[39m\u001b[38;5;241m.\u001b[39m_merge_type)\n\u001b[1;32m    780\u001b[0m \u001b[38;5;28;01mif\u001b[39;00m \u001b[38;5;28mself\u001b[39m\u001b[38;5;241m.\u001b[39mindicator:\n",
      "File \u001b[0;32m/opt/homebrew/lib/python3.9/site-packages/pandas/core/reshape/merge.py:729\u001b[0m, in \u001b[0;36m_MergeOperation._reindex_and_concat\u001b[0;34m(self, join_index, left_indexer, right_indexer, copy)\u001b[0m\n\u001b[1;32m    726\u001b[0m left \u001b[38;5;241m=\u001b[39m \u001b[38;5;28mself\u001b[39m\u001b[38;5;241m.\u001b[39mleft[:]\n\u001b[1;32m    727\u001b[0m right \u001b[38;5;241m=\u001b[39m \u001b[38;5;28mself\u001b[39m\u001b[38;5;241m.\u001b[39mright[:]\n\u001b[0;32m--> 729\u001b[0m llabels, rlabels \u001b[38;5;241m=\u001b[39m \u001b[43m_items_overlap_with_suffix\u001b[49m\u001b[43m(\u001b[49m\n\u001b[1;32m    730\u001b[0m \u001b[43m    \u001b[49m\u001b[38;5;28;43mself\u001b[39;49m\u001b[38;5;241;43m.\u001b[39;49m\u001b[43mleft\u001b[49m\u001b[38;5;241;43m.\u001b[39;49m\u001b[43m_info_axis\u001b[49m\u001b[43m,\u001b[49m\u001b[43m \u001b[49m\u001b[38;5;28;43mself\u001b[39;49m\u001b[38;5;241;43m.\u001b[39;49m\u001b[43mright\u001b[49m\u001b[38;5;241;43m.\u001b[39;49m\u001b[43m_info_axis\u001b[49m\u001b[43m,\u001b[49m\u001b[43m \u001b[49m\u001b[38;5;28;43mself\u001b[39;49m\u001b[38;5;241;43m.\u001b[39;49m\u001b[43msuffixes\u001b[49m\n\u001b[1;32m    731\u001b[0m \u001b[43m\u001b[49m\u001b[43m)\u001b[49m\n\u001b[1;32m    733\u001b[0m \u001b[38;5;28;01mif\u001b[39;00m left_indexer \u001b[38;5;129;01mis\u001b[39;00m \u001b[38;5;129;01mnot\u001b[39;00m \u001b[38;5;28;01mNone\u001b[39;00m:\n\u001b[1;32m    734\u001b[0m     \u001b[38;5;66;03m# Pinning the index here (and in the right code just below) is not\u001b[39;00m\n\u001b[1;32m    735\u001b[0m     \u001b[38;5;66;03m#  necessary, but makes the `.take` more performant if we have e.g.\u001b[39;00m\n\u001b[1;32m    736\u001b[0m     \u001b[38;5;66;03m#  a MultiIndex for left.index.\u001b[39;00m\n\u001b[1;32m    737\u001b[0m     lmgr \u001b[38;5;241m=\u001b[39m left\u001b[38;5;241m.\u001b[39m_mgr\u001b[38;5;241m.\u001b[39mreindex_indexer(\n\u001b[1;32m    738\u001b[0m         join_index,\n\u001b[1;32m    739\u001b[0m         left_indexer,\n\u001b[0;32m   (...)\u001b[0m\n\u001b[1;32m    744\u001b[0m         use_na_proxy\u001b[38;5;241m=\u001b[39m\u001b[38;5;28;01mTrue\u001b[39;00m,\n\u001b[1;32m    745\u001b[0m     )\n",
      "File \u001b[0;32m/opt/homebrew/lib/python3.9/site-packages/pandas/core/reshape/merge.py:2458\u001b[0m, in \u001b[0;36m_items_overlap_with_suffix\u001b[0;34m(left, right, suffixes)\u001b[0m\n\u001b[1;32m   2455\u001b[0m lsuffix, rsuffix \u001b[38;5;241m=\u001b[39m suffixes\n\u001b[1;32m   2457\u001b[0m \u001b[38;5;28;01mif\u001b[39;00m \u001b[38;5;129;01mnot\u001b[39;00m lsuffix \u001b[38;5;129;01mand\u001b[39;00m \u001b[38;5;129;01mnot\u001b[39;00m rsuffix:\n\u001b[0;32m-> 2458\u001b[0m     \u001b[38;5;28;01mraise\u001b[39;00m \u001b[38;5;167;01mValueError\u001b[39;00m(\u001b[38;5;124mf\u001b[39m\u001b[38;5;124m\"\u001b[39m\u001b[38;5;124mcolumns overlap but no suffix specified: \u001b[39m\u001b[38;5;132;01m{\u001b[39;00mto_rename\u001b[38;5;132;01m}\u001b[39;00m\u001b[38;5;124m\"\u001b[39m)\n\u001b[1;32m   2460\u001b[0m \u001b[38;5;28;01mdef\u001b[39;00m \u001b[38;5;21mrenamer\u001b[39m(x, suffix):\n\u001b[1;32m   2461\u001b[0m     \u001b[38;5;124;03m\"\"\"\u001b[39;00m\n\u001b[1;32m   2462\u001b[0m \u001b[38;5;124;03m    Rename the left and right indices.\u001b[39;00m\n\u001b[1;32m   2463\u001b[0m \n\u001b[0;32m   (...)\u001b[0m\n\u001b[1;32m   2474\u001b[0m \u001b[38;5;124;03m    x : renamed column name\u001b[39;00m\n\u001b[1;32m   2475\u001b[0m \u001b[38;5;124;03m    \"\"\"\u001b[39;00m\n",
      "\u001b[0;31mValueError\u001b[0m: columns overlap but no suffix specified: Index(['uu_id'], dtype='object')"
     ]
    }
   ],
   "source": [
    "Y_test_final = pred_data.join(fin)"
   ]
  },
  {
   "cell_type": "code",
   "execution_count": 172,
   "id": "bb357aeb",
   "metadata": {
    "execution": {
     "iopub.execute_input": "2023-05-10T01:32:12.904958Z",
     "iopub.status.busy": "2023-05-10T01:32:12.904848Z",
     "iopub.status.idle": "2023-05-10T01:32:12.919066Z",
     "shell.execute_reply": "2023-05-10T01:32:12.918196Z"
    }
   },
   "outputs": [],
   "source": [
    "Y_test_final = pred_data.merge(fin,how='left',on = 'uu_id')"
   ]
  },
  {
   "cell_type": "code",
   "execution_count": 173,
   "id": "a8f89d2e",
   "metadata": {
    "execution": {
     "iopub.execute_input": "2023-05-10T01:32:12.921365Z",
     "iopub.status.busy": "2023-05-10T01:32:12.921202Z",
     "iopub.status.idle": "2023-05-10T01:32:12.932084Z",
     "shell.execute_reply": "2023-05-10T01:32:12.931804Z"
    }
   },
   "outputs": [
    {
     "data": {
      "text/html": [
       "<div>\n",
       "<style scoped>\n",
       "    .dataframe tbody tr th:only-of-type {\n",
       "        vertical-align: middle;\n",
       "    }\n",
       "\n",
       "    .dataframe tbody tr th {\n",
       "        vertical-align: top;\n",
       "    }\n",
       "\n",
       "    .dataframe thead th {\n",
       "        text-align: right;\n",
       "    }\n",
       "</style>\n",
       "<table border=\"1\" class=\"dataframe\">\n",
       "  <thead>\n",
       "    <tr style=\"text-align: right;\">\n",
       "      <th></th>\n",
       "      <th>uu_id</th>\n",
       "      <th>week_number</th>\n",
       "      <th>total_claims</th>\n",
       "      <th>edu_8th_or_less</th>\n",
       "      <th>edu_grades_9_11</th>\n",
       "      <th>edu_hs_grad_equiv</th>\n",
       "      <th>edu_post_hs</th>\n",
       "      <th>edu_unknown</th>\n",
       "      <th>gender_female</th>\n",
       "      <th>gender_male</th>\n",
       "      <th>...</th>\n",
       "      <th>top_category_employer3_54</th>\n",
       "      <th>top_category_employer3_55</th>\n",
       "      <th>top_category_employer3_56</th>\n",
       "      <th>top_category_employer3_61</th>\n",
       "      <th>top_category_employer3_62</th>\n",
       "      <th>top_category_employer3_71</th>\n",
       "      <th>top_category_employer3_72</th>\n",
       "      <th>top_category_employer3_81</th>\n",
       "      <th>top_category_employer3_92</th>\n",
       "      <th>top_category_employer3_99</th>\n",
       "    </tr>\n",
       "  </thead>\n",
       "  <tbody>\n",
       "    <tr>\n",
       "      <th>0</th>\n",
       "      <td>5bf51fc2e162d6faf9e3cf79e4198378</td>\n",
       "      <td>44</td>\n",
       "      <td>20</td>\n",
       "      <td>0</td>\n",
       "      <td>0</td>\n",
       "      <td>11</td>\n",
       "      <td>9.166667</td>\n",
       "      <td>0</td>\n",
       "      <td>17.416667</td>\n",
       "      <td>14.800000</td>\n",
       "      <td>...</td>\n",
       "      <td>0</td>\n",
       "      <td>0</td>\n",
       "      <td>0</td>\n",
       "      <td>0</td>\n",
       "      <td>0</td>\n",
       "      <td>0</td>\n",
       "      <td>0</td>\n",
       "      <td>0</td>\n",
       "      <td>0</td>\n",
       "      <td>0</td>\n",
       "    </tr>\n",
       "    <tr>\n",
       "      <th>1</th>\n",
       "      <td>5bf51fc2e162d6faf9e3cf79e4198378</td>\n",
       "      <td>44</td>\n",
       "      <td>11</td>\n",
       "      <td>0</td>\n",
       "      <td>0</td>\n",
       "      <td>13</td>\n",
       "      <td>9.166667</td>\n",
       "      <td>0</td>\n",
       "      <td>17.416667</td>\n",
       "      <td>14.800000</td>\n",
       "      <td>...</td>\n",
       "      <td>0</td>\n",
       "      <td>0</td>\n",
       "      <td>0</td>\n",
       "      <td>0</td>\n",
       "      <td>0</td>\n",
       "      <td>0</td>\n",
       "      <td>0</td>\n",
       "      <td>0</td>\n",
       "      <td>0</td>\n",
       "      <td>0</td>\n",
       "    </tr>\n",
       "    <tr>\n",
       "      <th>2</th>\n",
       "      <td>5bf51fc2e162d6faf9e3cf79e4198378</td>\n",
       "      <td>44</td>\n",
       "      <td>11</td>\n",
       "      <td>0</td>\n",
       "      <td>0</td>\n",
       "      <td>13</td>\n",
       "      <td>9.166667</td>\n",
       "      <td>0</td>\n",
       "      <td>17.416667</td>\n",
       "      <td>14.800000</td>\n",
       "      <td>...</td>\n",
       "      <td>0</td>\n",
       "      <td>0</td>\n",
       "      <td>0</td>\n",
       "      <td>0</td>\n",
       "      <td>0</td>\n",
       "      <td>0</td>\n",
       "      <td>0</td>\n",
       "      <td>0</td>\n",
       "      <td>0</td>\n",
       "      <td>0</td>\n",
       "    </tr>\n",
       "    <tr>\n",
       "      <th>3</th>\n",
       "      <td>5bf51fc2e162d6faf9e3cf79e4198378</td>\n",
       "      <td>44</td>\n",
       "      <td>20</td>\n",
       "      <td>0</td>\n",
       "      <td>0</td>\n",
       "      <td>13</td>\n",
       "      <td>9.166667</td>\n",
       "      <td>0</td>\n",
       "      <td>17.416667</td>\n",
       "      <td>14.800000</td>\n",
       "      <td>...</td>\n",
       "      <td>0</td>\n",
       "      <td>0</td>\n",
       "      <td>0</td>\n",
       "      <td>0</td>\n",
       "      <td>0</td>\n",
       "      <td>0</td>\n",
       "      <td>0</td>\n",
       "      <td>0</td>\n",
       "      <td>0</td>\n",
       "      <td>0</td>\n",
       "    </tr>\n",
       "    <tr>\n",
       "      <th>4</th>\n",
       "      <td>5bf51fc2e162d6faf9e3cf79e4198378</td>\n",
       "      <td>44</td>\n",
       "      <td>20</td>\n",
       "      <td>0</td>\n",
       "      <td>0</td>\n",
       "      <td>13</td>\n",
       "      <td>9.166667</td>\n",
       "      <td>0</td>\n",
       "      <td>17.416667</td>\n",
       "      <td>14.800000</td>\n",
       "      <td>...</td>\n",
       "      <td>0</td>\n",
       "      <td>0</td>\n",
       "      <td>0</td>\n",
       "      <td>0</td>\n",
       "      <td>0</td>\n",
       "      <td>0</td>\n",
       "      <td>0</td>\n",
       "      <td>0</td>\n",
       "      <td>0</td>\n",
       "      <td>0</td>\n",
       "    </tr>\n",
       "    <tr>\n",
       "      <th>...</th>\n",
       "      <td>...</td>\n",
       "      <td>...</td>\n",
       "      <td>...</td>\n",
       "      <td>...</td>\n",
       "      <td>...</td>\n",
       "      <td>...</td>\n",
       "      <td>...</td>\n",
       "      <td>...</td>\n",
       "      <td>...</td>\n",
       "      <td>...</td>\n",
       "      <td>...</td>\n",
       "      <td>...</td>\n",
       "      <td>...</td>\n",
       "      <td>...</td>\n",
       "      <td>...</td>\n",
       "      <td>...</td>\n",
       "      <td>...</td>\n",
       "      <td>...</td>\n",
       "      <td>...</td>\n",
       "      <td>...</td>\n",
       "      <td>...</td>\n",
       "    </tr>\n",
       "    <tr>\n",
       "      <th>16828</th>\n",
       "      <td>932a58530abff8a48558e2a15639d453</td>\n",
       "      <td>44</td>\n",
       "      <td>17</td>\n",
       "      <td>0</td>\n",
       "      <td>0</td>\n",
       "      <td>17</td>\n",
       "      <td>0.000000</td>\n",
       "      <td>0</td>\n",
       "      <td>17.859649</td>\n",
       "      <td>17.985075</td>\n",
       "      <td>...</td>\n",
       "      <td>0</td>\n",
       "      <td>0</td>\n",
       "      <td>0</td>\n",
       "      <td>0</td>\n",
       "      <td>0</td>\n",
       "      <td>0</td>\n",
       "      <td>0</td>\n",
       "      <td>1</td>\n",
       "      <td>0</td>\n",
       "      <td>0</td>\n",
       "    </tr>\n",
       "    <tr>\n",
       "      <th>16829</th>\n",
       "      <td>932a58530abff8a48558e2a15639d453</td>\n",
       "      <td>44</td>\n",
       "      <td>11</td>\n",
       "      <td>0</td>\n",
       "      <td>0</td>\n",
       "      <td>17</td>\n",
       "      <td>14.539683</td>\n",
       "      <td>0</td>\n",
       "      <td>17.859649</td>\n",
       "      <td>17.985075</td>\n",
       "      <td>...</td>\n",
       "      <td>0</td>\n",
       "      <td>0</td>\n",
       "      <td>0</td>\n",
       "      <td>0</td>\n",
       "      <td>0</td>\n",
       "      <td>0</td>\n",
       "      <td>0</td>\n",
       "      <td>1</td>\n",
       "      <td>0</td>\n",
       "      <td>0</td>\n",
       "    </tr>\n",
       "    <tr>\n",
       "      <th>16830</th>\n",
       "      <td>932a58530abff8a48558e2a15639d453</td>\n",
       "      <td>44</td>\n",
       "      <td>25</td>\n",
       "      <td>0</td>\n",
       "      <td>15</td>\n",
       "      <td>10</td>\n",
       "      <td>0.000000</td>\n",
       "      <td>0</td>\n",
       "      <td>17.859649</td>\n",
       "      <td>17.985075</td>\n",
       "      <td>...</td>\n",
       "      <td>0</td>\n",
       "      <td>0</td>\n",
       "      <td>0</td>\n",
       "      <td>0</td>\n",
       "      <td>0</td>\n",
       "      <td>0</td>\n",
       "      <td>0</td>\n",
       "      <td>1</td>\n",
       "      <td>0</td>\n",
       "      <td>0</td>\n",
       "    </tr>\n",
       "    <tr>\n",
       "      <th>16831</th>\n",
       "      <td>932a58530abff8a48558e2a15639d453</td>\n",
       "      <td>44</td>\n",
       "      <td>13</td>\n",
       "      <td>0</td>\n",
       "      <td>0</td>\n",
       "      <td>17</td>\n",
       "      <td>14.539683</td>\n",
       "      <td>0</td>\n",
       "      <td>17.859649</td>\n",
       "      <td>17.985075</td>\n",
       "      <td>...</td>\n",
       "      <td>0</td>\n",
       "      <td>0</td>\n",
       "      <td>0</td>\n",
       "      <td>0</td>\n",
       "      <td>0</td>\n",
       "      <td>1</td>\n",
       "      <td>0</td>\n",
       "      <td>0</td>\n",
       "      <td>0</td>\n",
       "      <td>0</td>\n",
       "    </tr>\n",
       "    <tr>\n",
       "      <th>16832</th>\n",
       "      <td>932a58530abff8a48558e2a15639d453</td>\n",
       "      <td>44</td>\n",
       "      <td>30</td>\n",
       "      <td>0</td>\n",
       "      <td>0</td>\n",
       "      <td>14</td>\n",
       "      <td>16.000000</td>\n",
       "      <td>0</td>\n",
       "      <td>12.000000</td>\n",
       "      <td>18.000000</td>\n",
       "      <td>...</td>\n",
       "      <td>0</td>\n",
       "      <td>0</td>\n",
       "      <td>1</td>\n",
       "      <td>0</td>\n",
       "      <td>0</td>\n",
       "      <td>0</td>\n",
       "      <td>0</td>\n",
       "      <td>0</td>\n",
       "      <td>0</td>\n",
       "      <td>0</td>\n",
       "    </tr>\n",
       "  </tbody>\n",
       "</table>\n",
       "<p>16833 rows × 177 columns</p>\n",
       "</div>"
      ],
      "text/plain": [
       "                                  uu_id  week_number  total_claims  \\\n",
       "0      5bf51fc2e162d6faf9e3cf79e4198378           44            20   \n",
       "1      5bf51fc2e162d6faf9e3cf79e4198378           44            11   \n",
       "2      5bf51fc2e162d6faf9e3cf79e4198378           44            11   \n",
       "3      5bf51fc2e162d6faf9e3cf79e4198378           44            20   \n",
       "4      5bf51fc2e162d6faf9e3cf79e4198378           44            20   \n",
       "...                                 ...          ...           ...   \n",
       "16828  932a58530abff8a48558e2a15639d453           44            17   \n",
       "16829  932a58530abff8a48558e2a15639d453           44            11   \n",
       "16830  932a58530abff8a48558e2a15639d453           44            25   \n",
       "16831  932a58530abff8a48558e2a15639d453           44            13   \n",
       "16832  932a58530abff8a48558e2a15639d453           44            30   \n",
       "\n",
       "       edu_8th_or_less  edu_grades_9_11  edu_hs_grad_equiv  edu_post_hs  \\\n",
       "0                    0                0                 11     9.166667   \n",
       "1                    0                0                 13     9.166667   \n",
       "2                    0                0                 13     9.166667   \n",
       "3                    0                0                 13     9.166667   \n",
       "4                    0                0                 13     9.166667   \n",
       "...                ...              ...                ...          ...   \n",
       "16828                0                0                 17     0.000000   \n",
       "16829                0                0                 17    14.539683   \n",
       "16830                0               15                 10     0.000000   \n",
       "16831                0                0                 17    14.539683   \n",
       "16832                0                0                 14    16.000000   \n",
       "\n",
       "       edu_unknown  gender_female  gender_male  ...  \\\n",
       "0                0      17.416667    14.800000  ...   \n",
       "1                0      17.416667    14.800000  ...   \n",
       "2                0      17.416667    14.800000  ...   \n",
       "3                0      17.416667    14.800000  ...   \n",
       "4                0      17.416667    14.800000  ...   \n",
       "...            ...            ...          ...  ...   \n",
       "16828            0      17.859649    17.985075  ...   \n",
       "16829            0      17.859649    17.985075  ...   \n",
       "16830            0      17.859649    17.985075  ...   \n",
       "16831            0      17.859649    17.985075  ...   \n",
       "16832            0      12.000000    18.000000  ...   \n",
       "\n",
       "       top_category_employer3_54  top_category_employer3_55  \\\n",
       "0                              0                          0   \n",
       "1                              0                          0   \n",
       "2                              0                          0   \n",
       "3                              0                          0   \n",
       "4                              0                          0   \n",
       "...                          ...                        ...   \n",
       "16828                          0                          0   \n",
       "16829                          0                          0   \n",
       "16830                          0                          0   \n",
       "16831                          0                          0   \n",
       "16832                          0                          0   \n",
       "\n",
       "       top_category_employer3_56  top_category_employer3_61  \\\n",
       "0                              0                          0   \n",
       "1                              0                          0   \n",
       "2                              0                          0   \n",
       "3                              0                          0   \n",
       "4                              0                          0   \n",
       "...                          ...                        ...   \n",
       "16828                          0                          0   \n",
       "16829                          0                          0   \n",
       "16830                          0                          0   \n",
       "16831                          0                          0   \n",
       "16832                          1                          0   \n",
       "\n",
       "       top_category_employer3_62  top_category_employer3_71  \\\n",
       "0                              0                          0   \n",
       "1                              0                          0   \n",
       "2                              0                          0   \n",
       "3                              0                          0   \n",
       "4                              0                          0   \n",
       "...                          ...                        ...   \n",
       "16828                          0                          0   \n",
       "16829                          0                          0   \n",
       "16830                          0                          0   \n",
       "16831                          0                          1   \n",
       "16832                          0                          0   \n",
       "\n",
       "       top_category_employer3_72  top_category_employer3_81  \\\n",
       "0                              0                          0   \n",
       "1                              0                          0   \n",
       "2                              0                          0   \n",
       "3                              0                          0   \n",
       "4                              0                          0   \n",
       "...                          ...                        ...   \n",
       "16828                          0                          1   \n",
       "16829                          0                          1   \n",
       "16830                          0                          1   \n",
       "16831                          0                          0   \n",
       "16832                          0                          0   \n",
       "\n",
       "       top_category_employer3_92  top_category_employer3_99  \n",
       "0                              0                          0  \n",
       "1                              0                          0  \n",
       "2                              0                          0  \n",
       "3                              0                          0  \n",
       "4                              0                          0  \n",
       "...                          ...                        ...  \n",
       "16828                          0                          0  \n",
       "16829                          0                          0  \n",
       "16830                          0                          0  \n",
       "16831                          0                          0  \n",
       "16832                          0                          0  \n",
       "\n",
       "[16833 rows x 177 columns]"
      ]
     },
     "execution_count": 173,
     "metadata": {},
     "output_type": "execute_result"
    }
   ],
   "source": [
    "Y_test_final"
   ]
  },
  {
   "cell_type": "code",
   "execution_count": 174,
   "id": "c5905317",
   "metadata": {
    "execution": {
     "iopub.execute_input": "2023-05-10T01:32:12.933494Z",
     "iopub.status.busy": "2023-05-10T01:32:12.933412Z",
     "iopub.status.idle": "2023-05-10T01:32:12.935639Z",
     "shell.execute_reply": "2023-05-10T01:32:12.935391Z"
    }
   },
   "outputs": [
    {
     "ename": "SyntaxError",
     "evalue": "EOL while scanning string literal (2086564235.py, line 2)",
     "output_type": "error",
     "traceback": [
      "\u001b[0;36m  Cell \u001b[0;32mIn [174], line 2\u001b[0;36m\u001b[0m\n\u001b[0;31m    fin = fin.set_index('uu_id)\u001b[0m\n\u001b[0m                               ^\u001b[0m\n\u001b[0;31mSyntaxError\u001b[0m\u001b[0;31m:\u001b[0m EOL while scanning string literal\n"
     ]
    }
   ],
   "source": [
    "pred_data = pred_data.set_index('uu_id')\n",
    "fin = fin.set_index('uu_id)\n",
    "Y_test_final = pred_data.join(fin)"
   ]
  },
  {
   "cell_type": "code",
   "execution_count": 175,
   "id": "91d7b78e",
   "metadata": {
    "execution": {
     "iopub.execute_input": "2023-05-10T01:32:12.937015Z",
     "iopub.status.busy": "2023-05-10T01:32:12.936910Z",
     "iopub.status.idle": "2023-05-10T01:32:12.950722Z",
     "shell.execute_reply": "2023-05-10T01:32:12.950438Z"
    }
   },
   "outputs": [],
   "source": [
    "pred_data = pred_data.set_index('uu_id')\n",
    "fin = fin.set_index('uu_id')\n",
    "Y_test_final = pred_data.join(fin)"
   ]
  },
  {
   "cell_type": "code",
   "execution_count": 176,
   "id": "84521afa",
   "metadata": {
    "execution": {
     "iopub.execute_input": "2023-05-10T01:32:12.952342Z",
     "iopub.status.busy": "2023-05-10T01:32:12.952255Z",
     "iopub.status.idle": "2023-05-10T01:32:12.962825Z",
     "shell.execute_reply": "2023-05-10T01:32:12.962473Z"
    }
   },
   "outputs": [
    {
     "data": {
      "text/html": [
       "<div>\n",
       "<style scoped>\n",
       "    .dataframe tbody tr th:only-of-type {\n",
       "        vertical-align: middle;\n",
       "    }\n",
       "\n",
       "    .dataframe tbody tr th {\n",
       "        vertical-align: top;\n",
       "    }\n",
       "\n",
       "    .dataframe thead th {\n",
       "        text-align: right;\n",
       "    }\n",
       "</style>\n",
       "<table border=\"1\" class=\"dataframe\">\n",
       "  <thead>\n",
       "    <tr style=\"text-align: right;\">\n",
       "      <th></th>\n",
       "      <th>week_number</th>\n",
       "      <th>total_claims</th>\n",
       "      <th>edu_8th_or_less</th>\n",
       "      <th>edu_grades_9_11</th>\n",
       "      <th>edu_hs_grad_equiv</th>\n",
       "      <th>edu_post_hs</th>\n",
       "      <th>edu_unknown</th>\n",
       "      <th>gender_female</th>\n",
       "      <th>gender_male</th>\n",
       "      <th>gender_na</th>\n",
       "      <th>...</th>\n",
       "      <th>top_category_employer3_54</th>\n",
       "      <th>top_category_employer3_55</th>\n",
       "      <th>top_category_employer3_56</th>\n",
       "      <th>top_category_employer3_61</th>\n",
       "      <th>top_category_employer3_62</th>\n",
       "      <th>top_category_employer3_71</th>\n",
       "      <th>top_category_employer3_72</th>\n",
       "      <th>top_category_employer3_81</th>\n",
       "      <th>top_category_employer3_92</th>\n",
       "      <th>top_category_employer3_99</th>\n",
       "    </tr>\n",
       "    <tr>\n",
       "      <th>uu_id</th>\n",
       "      <th></th>\n",
       "      <th></th>\n",
       "      <th></th>\n",
       "      <th></th>\n",
       "      <th></th>\n",
       "      <th></th>\n",
       "      <th></th>\n",
       "      <th></th>\n",
       "      <th></th>\n",
       "      <th></th>\n",
       "      <th></th>\n",
       "      <th></th>\n",
       "      <th></th>\n",
       "      <th></th>\n",
       "      <th></th>\n",
       "      <th></th>\n",
       "      <th></th>\n",
       "      <th></th>\n",
       "      <th></th>\n",
       "      <th></th>\n",
       "      <th></th>\n",
       "    </tr>\n",
       "  </thead>\n",
       "  <tbody>\n",
       "    <tr>\n",
       "      <th>001cd9ae23064d7f0fd3cd327c873d8d</th>\n",
       "      <td>44</td>\n",
       "      <td>13</td>\n",
       "      <td>0</td>\n",
       "      <td>0</td>\n",
       "      <td>14</td>\n",
       "      <td>12.166667</td>\n",
       "      <td>0</td>\n",
       "      <td>7.500000</td>\n",
       "      <td>19.187500</td>\n",
       "      <td>0</td>\n",
       "      <td>...</td>\n",
       "      <td>0</td>\n",
       "      <td>0</td>\n",
       "      <td>0</td>\n",
       "      <td>0</td>\n",
       "      <td>0</td>\n",
       "      <td>0</td>\n",
       "      <td>0</td>\n",
       "      <td>1</td>\n",
       "      <td>0</td>\n",
       "      <td>0</td>\n",
       "    </tr>\n",
       "    <tr>\n",
       "      <th>001cd9ae23064d7f0fd3cd327c873d8d</th>\n",
       "      <td>44</td>\n",
       "      <td>10</td>\n",
       "      <td>0</td>\n",
       "      <td>0</td>\n",
       "      <td>14</td>\n",
       "      <td>12.166667</td>\n",
       "      <td>0</td>\n",
       "      <td>7.500000</td>\n",
       "      <td>19.187500</td>\n",
       "      <td>0</td>\n",
       "      <td>...</td>\n",
       "      <td>0</td>\n",
       "      <td>0</td>\n",
       "      <td>0</td>\n",
       "      <td>0</td>\n",
       "      <td>0</td>\n",
       "      <td>0</td>\n",
       "      <td>0</td>\n",
       "      <td>1</td>\n",
       "      <td>0</td>\n",
       "      <td>0</td>\n",
       "    </tr>\n",
       "    <tr>\n",
       "      <th>001cd9ae23064d7f0fd3cd327c873d8d</th>\n",
       "      <td>44</td>\n",
       "      <td>10</td>\n",
       "      <td>0</td>\n",
       "      <td>0</td>\n",
       "      <td>14</td>\n",
       "      <td>12.166667</td>\n",
       "      <td>0</td>\n",
       "      <td>7.500000</td>\n",
       "      <td>19.187500</td>\n",
       "      <td>0</td>\n",
       "      <td>...</td>\n",
       "      <td>0</td>\n",
       "      <td>0</td>\n",
       "      <td>0</td>\n",
       "      <td>0</td>\n",
       "      <td>0</td>\n",
       "      <td>0</td>\n",
       "      <td>0</td>\n",
       "      <td>1</td>\n",
       "      <td>0</td>\n",
       "      <td>0</td>\n",
       "    </tr>\n",
       "    <tr>\n",
       "      <th>001cd9ae23064d7f0fd3cd327c873d8d</th>\n",
       "      <td>44</td>\n",
       "      <td>13</td>\n",
       "      <td>0</td>\n",
       "      <td>0</td>\n",
       "      <td>14</td>\n",
       "      <td>12.166667</td>\n",
       "      <td>0</td>\n",
       "      <td>7.500000</td>\n",
       "      <td>19.187500</td>\n",
       "      <td>0</td>\n",
       "      <td>...</td>\n",
       "      <td>0</td>\n",
       "      <td>0</td>\n",
       "      <td>0</td>\n",
       "      <td>0</td>\n",
       "      <td>0</td>\n",
       "      <td>0</td>\n",
       "      <td>0</td>\n",
       "      <td>1</td>\n",
       "      <td>0</td>\n",
       "      <td>0</td>\n",
       "    </tr>\n",
       "    <tr>\n",
       "      <th>001cd9ae23064d7f0fd3cd327c873d8d</th>\n",
       "      <td>44</td>\n",
       "      <td>10</td>\n",
       "      <td>0</td>\n",
       "      <td>0</td>\n",
       "      <td>14</td>\n",
       "      <td>12.166667</td>\n",
       "      <td>0</td>\n",
       "      <td>7.500000</td>\n",
       "      <td>19.187500</td>\n",
       "      <td>0</td>\n",
       "      <td>...</td>\n",
       "      <td>0</td>\n",
       "      <td>0</td>\n",
       "      <td>0</td>\n",
       "      <td>0</td>\n",
       "      <td>0</td>\n",
       "      <td>0</td>\n",
       "      <td>0</td>\n",
       "      <td>1</td>\n",
       "      <td>0</td>\n",
       "      <td>0</td>\n",
       "    </tr>\n",
       "    <tr>\n",
       "      <th>...</th>\n",
       "      <td>...</td>\n",
       "      <td>...</td>\n",
       "      <td>...</td>\n",
       "      <td>...</td>\n",
       "      <td>...</td>\n",
       "      <td>...</td>\n",
       "      <td>...</td>\n",
       "      <td>...</td>\n",
       "      <td>...</td>\n",
       "      <td>...</td>\n",
       "      <td>...</td>\n",
       "      <td>...</td>\n",
       "      <td>...</td>\n",
       "      <td>...</td>\n",
       "      <td>...</td>\n",
       "      <td>...</td>\n",
       "      <td>...</td>\n",
       "      <td>...</td>\n",
       "      <td>...</td>\n",
       "      <td>...</td>\n",
       "      <td>...</td>\n",
       "    </tr>\n",
       "    <tr>\n",
       "      <th>fec479d0202d6e1e3f051a9ee902ff5d</th>\n",
       "      <td>44</td>\n",
       "      <td>26</td>\n",
       "      <td>0</td>\n",
       "      <td>0</td>\n",
       "      <td>16</td>\n",
       "      <td>19.138743</td>\n",
       "      <td>0</td>\n",
       "      <td>22.363248</td>\n",
       "      <td>20.787276</td>\n",
       "      <td>0</td>\n",
       "      <td>...</td>\n",
       "      <td>0</td>\n",
       "      <td>0</td>\n",
       "      <td>0</td>\n",
       "      <td>0</td>\n",
       "      <td>0</td>\n",
       "      <td>0</td>\n",
       "      <td>0</td>\n",
       "      <td>0</td>\n",
       "      <td>0</td>\n",
       "      <td>0</td>\n",
       "    </tr>\n",
       "    <tr>\n",
       "      <th>fec479d0202d6e1e3f051a9ee902ff5d</th>\n",
       "      <td>44</td>\n",
       "      <td>30</td>\n",
       "      <td>0</td>\n",
       "      <td>0</td>\n",
       "      <td>19</td>\n",
       "      <td>19.138743</td>\n",
       "      <td>0</td>\n",
       "      <td>22.363248</td>\n",
       "      <td>20.787276</td>\n",
       "      <td>0</td>\n",
       "      <td>...</td>\n",
       "      <td>0</td>\n",
       "      <td>0</td>\n",
       "      <td>1</td>\n",
       "      <td>0</td>\n",
       "      <td>0</td>\n",
       "      <td>0</td>\n",
       "      <td>0</td>\n",
       "      <td>0</td>\n",
       "      <td>0</td>\n",
       "      <td>0</td>\n",
       "    </tr>\n",
       "    <tr>\n",
       "      <th>fec479d0202d6e1e3f051a9ee902ff5d</th>\n",
       "      <td>44</td>\n",
       "      <td>34</td>\n",
       "      <td>0</td>\n",
       "      <td>0</td>\n",
       "      <td>18</td>\n",
       "      <td>12.000000</td>\n",
       "      <td>0</td>\n",
       "      <td>10.000000</td>\n",
       "      <td>24.000000</td>\n",
       "      <td>0</td>\n",
       "      <td>...</td>\n",
       "      <td>0</td>\n",
       "      <td>0</td>\n",
       "      <td>0</td>\n",
       "      <td>0</td>\n",
       "      <td>0</td>\n",
       "      <td>0</td>\n",
       "      <td>0</td>\n",
       "      <td>0</td>\n",
       "      <td>0</td>\n",
       "      <td>0</td>\n",
       "    </tr>\n",
       "    <tr>\n",
       "      <th>fec479d0202d6e1e3f051a9ee902ff5d</th>\n",
       "      <td>44</td>\n",
       "      <td>21</td>\n",
       "      <td>0</td>\n",
       "      <td>0</td>\n",
       "      <td>22</td>\n",
       "      <td>19.138743</td>\n",
       "      <td>0</td>\n",
       "      <td>22.363248</td>\n",
       "      <td>20.787276</td>\n",
       "      <td>0</td>\n",
       "      <td>...</td>\n",
       "      <td>0</td>\n",
       "      <td>0</td>\n",
       "      <td>0</td>\n",
       "      <td>0</td>\n",
       "      <td>0</td>\n",
       "      <td>0</td>\n",
       "      <td>0</td>\n",
       "      <td>0</td>\n",
       "      <td>0</td>\n",
       "      <td>0</td>\n",
       "    </tr>\n",
       "    <tr>\n",
       "      <th>fec479d0202d6e1e3f051a9ee902ff5d</th>\n",
       "      <td>44</td>\n",
       "      <td>45</td>\n",
       "      <td>0</td>\n",
       "      <td>0</td>\n",
       "      <td>22</td>\n",
       "      <td>22.000000</td>\n",
       "      <td>0</td>\n",
       "      <td>22.363248</td>\n",
       "      <td>20.787276</td>\n",
       "      <td>0</td>\n",
       "      <td>...</td>\n",
       "      <td>0</td>\n",
       "      <td>0</td>\n",
       "      <td>0</td>\n",
       "      <td>0</td>\n",
       "      <td>0</td>\n",
       "      <td>0</td>\n",
       "      <td>0</td>\n",
       "      <td>0</td>\n",
       "      <td>0</td>\n",
       "      <td>0</td>\n",
       "    </tr>\n",
       "  </tbody>\n",
       "</table>\n",
       "<p>16833 rows × 176 columns</p>\n",
       "</div>"
      ],
      "text/plain": [
       "                                  week_number  total_claims  edu_8th_or_less  \\\n",
       "uu_id                                                                          \n",
       "001cd9ae23064d7f0fd3cd327c873d8d           44            13                0   \n",
       "001cd9ae23064d7f0fd3cd327c873d8d           44            10                0   \n",
       "001cd9ae23064d7f0fd3cd327c873d8d           44            10                0   \n",
       "001cd9ae23064d7f0fd3cd327c873d8d           44            13                0   \n",
       "001cd9ae23064d7f0fd3cd327c873d8d           44            10                0   \n",
       "...                                       ...           ...              ...   \n",
       "fec479d0202d6e1e3f051a9ee902ff5d           44            26                0   \n",
       "fec479d0202d6e1e3f051a9ee902ff5d           44            30                0   \n",
       "fec479d0202d6e1e3f051a9ee902ff5d           44            34                0   \n",
       "fec479d0202d6e1e3f051a9ee902ff5d           44            21                0   \n",
       "fec479d0202d6e1e3f051a9ee902ff5d           44            45                0   \n",
       "\n",
       "                                  edu_grades_9_11  edu_hs_grad_equiv  \\\n",
       "uu_id                                                                  \n",
       "001cd9ae23064d7f0fd3cd327c873d8d                0                 14   \n",
       "001cd9ae23064d7f0fd3cd327c873d8d                0                 14   \n",
       "001cd9ae23064d7f0fd3cd327c873d8d                0                 14   \n",
       "001cd9ae23064d7f0fd3cd327c873d8d                0                 14   \n",
       "001cd9ae23064d7f0fd3cd327c873d8d                0                 14   \n",
       "...                                           ...                ...   \n",
       "fec479d0202d6e1e3f051a9ee902ff5d                0                 16   \n",
       "fec479d0202d6e1e3f051a9ee902ff5d                0                 19   \n",
       "fec479d0202d6e1e3f051a9ee902ff5d                0                 18   \n",
       "fec479d0202d6e1e3f051a9ee902ff5d                0                 22   \n",
       "fec479d0202d6e1e3f051a9ee902ff5d                0                 22   \n",
       "\n",
       "                                  edu_post_hs  edu_unknown  gender_female  \\\n",
       "uu_id                                                                       \n",
       "001cd9ae23064d7f0fd3cd327c873d8d    12.166667            0       7.500000   \n",
       "001cd9ae23064d7f0fd3cd327c873d8d    12.166667            0       7.500000   \n",
       "001cd9ae23064d7f0fd3cd327c873d8d    12.166667            0       7.500000   \n",
       "001cd9ae23064d7f0fd3cd327c873d8d    12.166667            0       7.500000   \n",
       "001cd9ae23064d7f0fd3cd327c873d8d    12.166667            0       7.500000   \n",
       "...                                       ...          ...            ...   \n",
       "fec479d0202d6e1e3f051a9ee902ff5d    19.138743            0      22.363248   \n",
       "fec479d0202d6e1e3f051a9ee902ff5d    19.138743            0      22.363248   \n",
       "fec479d0202d6e1e3f051a9ee902ff5d    12.000000            0      10.000000   \n",
       "fec479d0202d6e1e3f051a9ee902ff5d    19.138743            0      22.363248   \n",
       "fec479d0202d6e1e3f051a9ee902ff5d    22.000000            0      22.363248   \n",
       "\n",
       "                                  gender_male  gender_na  ...  \\\n",
       "uu_id                                                     ...   \n",
       "001cd9ae23064d7f0fd3cd327c873d8d    19.187500          0  ...   \n",
       "001cd9ae23064d7f0fd3cd327c873d8d    19.187500          0  ...   \n",
       "001cd9ae23064d7f0fd3cd327c873d8d    19.187500          0  ...   \n",
       "001cd9ae23064d7f0fd3cd327c873d8d    19.187500          0  ...   \n",
       "001cd9ae23064d7f0fd3cd327c873d8d    19.187500          0  ...   \n",
       "...                                       ...        ...  ...   \n",
       "fec479d0202d6e1e3f051a9ee902ff5d    20.787276          0  ...   \n",
       "fec479d0202d6e1e3f051a9ee902ff5d    20.787276          0  ...   \n",
       "fec479d0202d6e1e3f051a9ee902ff5d    24.000000          0  ...   \n",
       "fec479d0202d6e1e3f051a9ee902ff5d    20.787276          0  ...   \n",
       "fec479d0202d6e1e3f051a9ee902ff5d    20.787276          0  ...   \n",
       "\n",
       "                                  top_category_employer3_54  \\\n",
       "uu_id                                                         \n",
       "001cd9ae23064d7f0fd3cd327c873d8d                          0   \n",
       "001cd9ae23064d7f0fd3cd327c873d8d                          0   \n",
       "001cd9ae23064d7f0fd3cd327c873d8d                          0   \n",
       "001cd9ae23064d7f0fd3cd327c873d8d                          0   \n",
       "001cd9ae23064d7f0fd3cd327c873d8d                          0   \n",
       "...                                                     ...   \n",
       "fec479d0202d6e1e3f051a9ee902ff5d                          0   \n",
       "fec479d0202d6e1e3f051a9ee902ff5d                          0   \n",
       "fec479d0202d6e1e3f051a9ee902ff5d                          0   \n",
       "fec479d0202d6e1e3f051a9ee902ff5d                          0   \n",
       "fec479d0202d6e1e3f051a9ee902ff5d                          0   \n",
       "\n",
       "                                  top_category_employer3_55  \\\n",
       "uu_id                                                         \n",
       "001cd9ae23064d7f0fd3cd327c873d8d                          0   \n",
       "001cd9ae23064d7f0fd3cd327c873d8d                          0   \n",
       "001cd9ae23064d7f0fd3cd327c873d8d                          0   \n",
       "001cd9ae23064d7f0fd3cd327c873d8d                          0   \n",
       "001cd9ae23064d7f0fd3cd327c873d8d                          0   \n",
       "...                                                     ...   \n",
       "fec479d0202d6e1e3f051a9ee902ff5d                          0   \n",
       "fec479d0202d6e1e3f051a9ee902ff5d                          0   \n",
       "fec479d0202d6e1e3f051a9ee902ff5d                          0   \n",
       "fec479d0202d6e1e3f051a9ee902ff5d                          0   \n",
       "fec479d0202d6e1e3f051a9ee902ff5d                          0   \n",
       "\n",
       "                                  top_category_employer3_56  \\\n",
       "uu_id                                                         \n",
       "001cd9ae23064d7f0fd3cd327c873d8d                          0   \n",
       "001cd9ae23064d7f0fd3cd327c873d8d                          0   \n",
       "001cd9ae23064d7f0fd3cd327c873d8d                          0   \n",
       "001cd9ae23064d7f0fd3cd327c873d8d                          0   \n",
       "001cd9ae23064d7f0fd3cd327c873d8d                          0   \n",
       "...                                                     ...   \n",
       "fec479d0202d6e1e3f051a9ee902ff5d                          0   \n",
       "fec479d0202d6e1e3f051a9ee902ff5d                          1   \n",
       "fec479d0202d6e1e3f051a9ee902ff5d                          0   \n",
       "fec479d0202d6e1e3f051a9ee902ff5d                          0   \n",
       "fec479d0202d6e1e3f051a9ee902ff5d                          0   \n",
       "\n",
       "                                  top_category_employer3_61  \\\n",
       "uu_id                                                         \n",
       "001cd9ae23064d7f0fd3cd327c873d8d                          0   \n",
       "001cd9ae23064d7f0fd3cd327c873d8d                          0   \n",
       "001cd9ae23064d7f0fd3cd327c873d8d                          0   \n",
       "001cd9ae23064d7f0fd3cd327c873d8d                          0   \n",
       "001cd9ae23064d7f0fd3cd327c873d8d                          0   \n",
       "...                                                     ...   \n",
       "fec479d0202d6e1e3f051a9ee902ff5d                          0   \n",
       "fec479d0202d6e1e3f051a9ee902ff5d                          0   \n",
       "fec479d0202d6e1e3f051a9ee902ff5d                          0   \n",
       "fec479d0202d6e1e3f051a9ee902ff5d                          0   \n",
       "fec479d0202d6e1e3f051a9ee902ff5d                          0   \n",
       "\n",
       "                                  top_category_employer3_62  \\\n",
       "uu_id                                                         \n",
       "001cd9ae23064d7f0fd3cd327c873d8d                          0   \n",
       "001cd9ae23064d7f0fd3cd327c873d8d                          0   \n",
       "001cd9ae23064d7f0fd3cd327c873d8d                          0   \n",
       "001cd9ae23064d7f0fd3cd327c873d8d                          0   \n",
       "001cd9ae23064d7f0fd3cd327c873d8d                          0   \n",
       "...                                                     ...   \n",
       "fec479d0202d6e1e3f051a9ee902ff5d                          0   \n",
       "fec479d0202d6e1e3f051a9ee902ff5d                          0   \n",
       "fec479d0202d6e1e3f051a9ee902ff5d                          0   \n",
       "fec479d0202d6e1e3f051a9ee902ff5d                          0   \n",
       "fec479d0202d6e1e3f051a9ee902ff5d                          0   \n",
       "\n",
       "                                  top_category_employer3_71  \\\n",
       "uu_id                                                         \n",
       "001cd9ae23064d7f0fd3cd327c873d8d                          0   \n",
       "001cd9ae23064d7f0fd3cd327c873d8d                          0   \n",
       "001cd9ae23064d7f0fd3cd327c873d8d                          0   \n",
       "001cd9ae23064d7f0fd3cd327c873d8d                          0   \n",
       "001cd9ae23064d7f0fd3cd327c873d8d                          0   \n",
       "...                                                     ...   \n",
       "fec479d0202d6e1e3f051a9ee902ff5d                          0   \n",
       "fec479d0202d6e1e3f051a9ee902ff5d                          0   \n",
       "fec479d0202d6e1e3f051a9ee902ff5d                          0   \n",
       "fec479d0202d6e1e3f051a9ee902ff5d                          0   \n",
       "fec479d0202d6e1e3f051a9ee902ff5d                          0   \n",
       "\n",
       "                                  top_category_employer3_72  \\\n",
       "uu_id                                                         \n",
       "001cd9ae23064d7f0fd3cd327c873d8d                          0   \n",
       "001cd9ae23064d7f0fd3cd327c873d8d                          0   \n",
       "001cd9ae23064d7f0fd3cd327c873d8d                          0   \n",
       "001cd9ae23064d7f0fd3cd327c873d8d                          0   \n",
       "001cd9ae23064d7f0fd3cd327c873d8d                          0   \n",
       "...                                                     ...   \n",
       "fec479d0202d6e1e3f051a9ee902ff5d                          0   \n",
       "fec479d0202d6e1e3f051a9ee902ff5d                          0   \n",
       "fec479d0202d6e1e3f051a9ee902ff5d                          0   \n",
       "fec479d0202d6e1e3f051a9ee902ff5d                          0   \n",
       "fec479d0202d6e1e3f051a9ee902ff5d                          0   \n",
       "\n",
       "                                  top_category_employer3_81  \\\n",
       "uu_id                                                         \n",
       "001cd9ae23064d7f0fd3cd327c873d8d                          1   \n",
       "001cd9ae23064d7f0fd3cd327c873d8d                          1   \n",
       "001cd9ae23064d7f0fd3cd327c873d8d                          1   \n",
       "001cd9ae23064d7f0fd3cd327c873d8d                          1   \n",
       "001cd9ae23064d7f0fd3cd327c873d8d                          1   \n",
       "...                                                     ...   \n",
       "fec479d0202d6e1e3f051a9ee902ff5d                          0   \n",
       "fec479d0202d6e1e3f051a9ee902ff5d                          0   \n",
       "fec479d0202d6e1e3f051a9ee902ff5d                          0   \n",
       "fec479d0202d6e1e3f051a9ee902ff5d                          0   \n",
       "fec479d0202d6e1e3f051a9ee902ff5d                          0   \n",
       "\n",
       "                                  top_category_employer3_92  \\\n",
       "uu_id                                                         \n",
       "001cd9ae23064d7f0fd3cd327c873d8d                          0   \n",
       "001cd9ae23064d7f0fd3cd327c873d8d                          0   \n",
       "001cd9ae23064d7f0fd3cd327c873d8d                          0   \n",
       "001cd9ae23064d7f0fd3cd327c873d8d                          0   \n",
       "001cd9ae23064d7f0fd3cd327c873d8d                          0   \n",
       "...                                                     ...   \n",
       "fec479d0202d6e1e3f051a9ee902ff5d                          0   \n",
       "fec479d0202d6e1e3f051a9ee902ff5d                          0   \n",
       "fec479d0202d6e1e3f051a9ee902ff5d                          0   \n",
       "fec479d0202d6e1e3f051a9ee902ff5d                          0   \n",
       "fec479d0202d6e1e3f051a9ee902ff5d                          0   \n",
       "\n",
       "                                  top_category_employer3_99  \n",
       "uu_id                                                        \n",
       "001cd9ae23064d7f0fd3cd327c873d8d                          0  \n",
       "001cd9ae23064d7f0fd3cd327c873d8d                          0  \n",
       "001cd9ae23064d7f0fd3cd327c873d8d                          0  \n",
       "001cd9ae23064d7f0fd3cd327c873d8d                          0  \n",
       "001cd9ae23064d7f0fd3cd327c873d8d                          0  \n",
       "...                                                     ...  \n",
       "fec479d0202d6e1e3f051a9ee902ff5d                          0  \n",
       "fec479d0202d6e1e3f051a9ee902ff5d                          0  \n",
       "fec479d0202d6e1e3f051a9ee902ff5d                          0  \n",
       "fec479d0202d6e1e3f051a9ee902ff5d                          0  \n",
       "fec479d0202d6e1e3f051a9ee902ff5d                          0  \n",
       "\n",
       "[16833 rows x 176 columns]"
      ]
     },
     "execution_count": 176,
     "metadata": {},
     "output_type": "execute_result"
    }
   ],
   "source": [
    "Y_test_final"
   ]
  },
  {
   "cell_type": "code",
   "execution_count": 177,
   "id": "a32d17fd",
   "metadata": {
    "execution": {
     "iopub.execute_input": "2023-05-10T01:32:12.964360Z",
     "iopub.status.busy": "2023-05-10T01:32:12.964249Z",
     "iopub.status.idle": "2023-05-10T01:32:12.994903Z",
     "shell.execute_reply": "2023-05-10T01:32:12.994466Z"
    }
   },
   "outputs": [
    {
     "ename": "KeyError",
     "evalue": "\"['uu_id'] not found in axis\"",
     "output_type": "error",
     "traceback": [
      "\u001b[0;31m---------------------------------------------------------------------------\u001b[0m",
      "\u001b[0;31mKeyError\u001b[0m                                  Traceback (most recent call last)",
      "Cell \u001b[0;32mIn [177], line 1\u001b[0m\n\u001b[0;32m----> 1\u001b[0m X \u001b[38;5;241m=\u001b[39m \u001b[43mfin\u001b[49m\u001b[38;5;241;43m.\u001b[39;49m\u001b[43mdrop\u001b[49m\u001b[43m(\u001b[49m\u001b[43m[\u001b[49m\u001b[38;5;124;43m'\u001b[39;49m\u001b[38;5;124;43muu_id\u001b[39;49m\u001b[38;5;124;43m'\u001b[39;49m\u001b[43m,\u001b[49m\u001b[38;5;124;43m'\u001b[39;49m\u001b[38;5;124;43mtotal_claims\u001b[39;49m\u001b[38;5;124;43m'\u001b[39;49m\u001b[43m]\u001b[49m\u001b[43m,\u001b[49m\u001b[43maxis\u001b[49m\u001b[38;5;241;43m=\u001b[39;49m\u001b[38;5;241;43m1\u001b[39;49m\u001b[43m)\u001b[49m\n\u001b[1;32m      2\u001b[0m Y\u001b[38;5;241m=\u001b[39mfin[\u001b[38;5;124m'\u001b[39m\u001b[38;5;124mtotal_claims\u001b[39m\u001b[38;5;124m'\u001b[39m]\n",
      "File \u001b[0;32m/opt/homebrew/lib/python3.9/site-packages/pandas/util/_decorators.py:331\u001b[0m, in \u001b[0;36mdeprecate_nonkeyword_arguments.<locals>.decorate.<locals>.wrapper\u001b[0;34m(*args, **kwargs)\u001b[0m\n\u001b[1;32m    325\u001b[0m \u001b[38;5;28;01mif\u001b[39;00m \u001b[38;5;28mlen\u001b[39m(args) \u001b[38;5;241m>\u001b[39m num_allow_args:\n\u001b[1;32m    326\u001b[0m     warnings\u001b[38;5;241m.\u001b[39mwarn(\n\u001b[1;32m    327\u001b[0m         msg\u001b[38;5;241m.\u001b[39mformat(arguments\u001b[38;5;241m=\u001b[39m_format_argument_list(allow_args)),\n\u001b[1;32m    328\u001b[0m         \u001b[38;5;167;01mFutureWarning\u001b[39;00m,\n\u001b[1;32m    329\u001b[0m         stacklevel\u001b[38;5;241m=\u001b[39mfind_stack_level(),\n\u001b[1;32m    330\u001b[0m     )\n\u001b[0;32m--> 331\u001b[0m \u001b[38;5;28;01mreturn\u001b[39;00m \u001b[43mfunc\u001b[49m\u001b[43m(\u001b[49m\u001b[38;5;241;43m*\u001b[39;49m\u001b[43margs\u001b[49m\u001b[43m,\u001b[49m\u001b[43m \u001b[49m\u001b[38;5;241;43m*\u001b[39;49m\u001b[38;5;241;43m*\u001b[39;49m\u001b[43mkwargs\u001b[49m\u001b[43m)\u001b[49m\n",
      "File \u001b[0;32m/opt/homebrew/lib/python3.9/site-packages/pandas/core/frame.py:5388\u001b[0m, in \u001b[0;36mDataFrame.drop\u001b[0;34m(self, labels, axis, index, columns, level, inplace, errors)\u001b[0m\n\u001b[1;32m   5240\u001b[0m \u001b[38;5;129m@deprecate_nonkeyword_arguments\u001b[39m(version\u001b[38;5;241m=\u001b[39m\u001b[38;5;28;01mNone\u001b[39;00m, allowed_args\u001b[38;5;241m=\u001b[39m[\u001b[38;5;124m\"\u001b[39m\u001b[38;5;124mself\u001b[39m\u001b[38;5;124m\"\u001b[39m, \u001b[38;5;124m\"\u001b[39m\u001b[38;5;124mlabels\u001b[39m\u001b[38;5;124m\"\u001b[39m])\n\u001b[1;32m   5241\u001b[0m \u001b[38;5;28;01mdef\u001b[39;00m \u001b[38;5;21mdrop\u001b[39m(  \u001b[38;5;66;03m# type: ignore[override]\u001b[39;00m\n\u001b[1;32m   5242\u001b[0m     \u001b[38;5;28mself\u001b[39m,\n\u001b[0;32m   (...)\u001b[0m\n\u001b[1;32m   5249\u001b[0m     errors: IgnoreRaise \u001b[38;5;241m=\u001b[39m \u001b[38;5;124m\"\u001b[39m\u001b[38;5;124mraise\u001b[39m\u001b[38;5;124m\"\u001b[39m,\n\u001b[1;32m   5250\u001b[0m ) \u001b[38;5;241m-\u001b[39m\u001b[38;5;241m>\u001b[39m DataFrame \u001b[38;5;241m|\u001b[39m \u001b[38;5;28;01mNone\u001b[39;00m:\n\u001b[1;32m   5251\u001b[0m     \u001b[38;5;124;03m\"\"\"\u001b[39;00m\n\u001b[1;32m   5252\u001b[0m \u001b[38;5;124;03m    Drop specified labels from rows or columns.\u001b[39;00m\n\u001b[1;32m   5253\u001b[0m \n\u001b[0;32m   (...)\u001b[0m\n\u001b[1;32m   5386\u001b[0m \u001b[38;5;124;03m            weight  1.0     0.8\u001b[39;00m\n\u001b[1;32m   5387\u001b[0m \u001b[38;5;124;03m    \"\"\"\u001b[39;00m\n\u001b[0;32m-> 5388\u001b[0m     \u001b[38;5;28;01mreturn\u001b[39;00m \u001b[38;5;28;43msuper\u001b[39;49m\u001b[43m(\u001b[49m\u001b[43m)\u001b[49m\u001b[38;5;241;43m.\u001b[39;49m\u001b[43mdrop\u001b[49m\u001b[43m(\u001b[49m\n\u001b[1;32m   5389\u001b[0m \u001b[43m        \u001b[49m\u001b[43mlabels\u001b[49m\u001b[38;5;241;43m=\u001b[39;49m\u001b[43mlabels\u001b[49m\u001b[43m,\u001b[49m\n\u001b[1;32m   5390\u001b[0m \u001b[43m        \u001b[49m\u001b[43maxis\u001b[49m\u001b[38;5;241;43m=\u001b[39;49m\u001b[43maxis\u001b[49m\u001b[43m,\u001b[49m\n\u001b[1;32m   5391\u001b[0m \u001b[43m        \u001b[49m\u001b[43mindex\u001b[49m\u001b[38;5;241;43m=\u001b[39;49m\u001b[43mindex\u001b[49m\u001b[43m,\u001b[49m\n\u001b[1;32m   5392\u001b[0m \u001b[43m        \u001b[49m\u001b[43mcolumns\u001b[49m\u001b[38;5;241;43m=\u001b[39;49m\u001b[43mcolumns\u001b[49m\u001b[43m,\u001b[49m\n\u001b[1;32m   5393\u001b[0m \u001b[43m        \u001b[49m\u001b[43mlevel\u001b[49m\u001b[38;5;241;43m=\u001b[39;49m\u001b[43mlevel\u001b[49m\u001b[43m,\u001b[49m\n\u001b[1;32m   5394\u001b[0m \u001b[43m        \u001b[49m\u001b[43minplace\u001b[49m\u001b[38;5;241;43m=\u001b[39;49m\u001b[43minplace\u001b[49m\u001b[43m,\u001b[49m\n\u001b[1;32m   5395\u001b[0m \u001b[43m        \u001b[49m\u001b[43merrors\u001b[49m\u001b[38;5;241;43m=\u001b[39;49m\u001b[43merrors\u001b[49m\u001b[43m,\u001b[49m\n\u001b[1;32m   5396\u001b[0m \u001b[43m    \u001b[49m\u001b[43m)\u001b[49m\n",
      "File \u001b[0;32m/opt/homebrew/lib/python3.9/site-packages/pandas/util/_decorators.py:331\u001b[0m, in \u001b[0;36mdeprecate_nonkeyword_arguments.<locals>.decorate.<locals>.wrapper\u001b[0;34m(*args, **kwargs)\u001b[0m\n\u001b[1;32m    325\u001b[0m \u001b[38;5;28;01mif\u001b[39;00m \u001b[38;5;28mlen\u001b[39m(args) \u001b[38;5;241m>\u001b[39m num_allow_args:\n\u001b[1;32m    326\u001b[0m     warnings\u001b[38;5;241m.\u001b[39mwarn(\n\u001b[1;32m    327\u001b[0m         msg\u001b[38;5;241m.\u001b[39mformat(arguments\u001b[38;5;241m=\u001b[39m_format_argument_list(allow_args)),\n\u001b[1;32m    328\u001b[0m         \u001b[38;5;167;01mFutureWarning\u001b[39;00m,\n\u001b[1;32m    329\u001b[0m         stacklevel\u001b[38;5;241m=\u001b[39mfind_stack_level(),\n\u001b[1;32m    330\u001b[0m     )\n\u001b[0;32m--> 331\u001b[0m \u001b[38;5;28;01mreturn\u001b[39;00m \u001b[43mfunc\u001b[49m\u001b[43m(\u001b[49m\u001b[38;5;241;43m*\u001b[39;49m\u001b[43margs\u001b[49m\u001b[43m,\u001b[49m\u001b[43m \u001b[49m\u001b[38;5;241;43m*\u001b[39;49m\u001b[38;5;241;43m*\u001b[39;49m\u001b[43mkwargs\u001b[49m\u001b[43m)\u001b[49m\n",
      "File \u001b[0;32m/opt/homebrew/lib/python3.9/site-packages/pandas/core/generic.py:4505\u001b[0m, in \u001b[0;36mNDFrame.drop\u001b[0;34m(self, labels, axis, index, columns, level, inplace, errors)\u001b[0m\n\u001b[1;32m   4503\u001b[0m \u001b[38;5;28;01mfor\u001b[39;00m axis, labels \u001b[38;5;129;01min\u001b[39;00m axes\u001b[38;5;241m.\u001b[39mitems():\n\u001b[1;32m   4504\u001b[0m     \u001b[38;5;28;01mif\u001b[39;00m labels \u001b[38;5;129;01mis\u001b[39;00m \u001b[38;5;129;01mnot\u001b[39;00m \u001b[38;5;28;01mNone\u001b[39;00m:\n\u001b[0;32m-> 4505\u001b[0m         obj \u001b[38;5;241m=\u001b[39m \u001b[43mobj\u001b[49m\u001b[38;5;241;43m.\u001b[39;49m\u001b[43m_drop_axis\u001b[49m\u001b[43m(\u001b[49m\u001b[43mlabels\u001b[49m\u001b[43m,\u001b[49m\u001b[43m \u001b[49m\u001b[43maxis\u001b[49m\u001b[43m,\u001b[49m\u001b[43m \u001b[49m\u001b[43mlevel\u001b[49m\u001b[38;5;241;43m=\u001b[39;49m\u001b[43mlevel\u001b[49m\u001b[43m,\u001b[49m\u001b[43m \u001b[49m\u001b[43merrors\u001b[49m\u001b[38;5;241;43m=\u001b[39;49m\u001b[43merrors\u001b[49m\u001b[43m)\u001b[49m\n\u001b[1;32m   4507\u001b[0m \u001b[38;5;28;01mif\u001b[39;00m inplace:\n\u001b[1;32m   4508\u001b[0m     \u001b[38;5;28mself\u001b[39m\u001b[38;5;241m.\u001b[39m_update_inplace(obj)\n",
      "File \u001b[0;32m/opt/homebrew/lib/python3.9/site-packages/pandas/core/generic.py:4546\u001b[0m, in \u001b[0;36mNDFrame._drop_axis\u001b[0;34m(self, labels, axis, level, errors, only_slice)\u001b[0m\n\u001b[1;32m   4544\u001b[0m         new_axis \u001b[38;5;241m=\u001b[39m axis\u001b[38;5;241m.\u001b[39mdrop(labels, level\u001b[38;5;241m=\u001b[39mlevel, errors\u001b[38;5;241m=\u001b[39merrors)\n\u001b[1;32m   4545\u001b[0m     \u001b[38;5;28;01melse\u001b[39;00m:\n\u001b[0;32m-> 4546\u001b[0m         new_axis \u001b[38;5;241m=\u001b[39m \u001b[43maxis\u001b[49m\u001b[38;5;241;43m.\u001b[39;49m\u001b[43mdrop\u001b[49m\u001b[43m(\u001b[49m\u001b[43mlabels\u001b[49m\u001b[43m,\u001b[49m\u001b[43m \u001b[49m\u001b[43merrors\u001b[49m\u001b[38;5;241;43m=\u001b[39;49m\u001b[43merrors\u001b[49m\u001b[43m)\u001b[49m\n\u001b[1;32m   4547\u001b[0m     indexer \u001b[38;5;241m=\u001b[39m axis\u001b[38;5;241m.\u001b[39mget_indexer(new_axis)\n\u001b[1;32m   4549\u001b[0m \u001b[38;5;66;03m# Case for non-unique axis\u001b[39;00m\n\u001b[1;32m   4550\u001b[0m \u001b[38;5;28;01melse\u001b[39;00m:\n",
      "File \u001b[0;32m/opt/homebrew/lib/python3.9/site-packages/pandas/core/indexes/base.py:6975\u001b[0m, in \u001b[0;36mIndex.drop\u001b[0;34m(self, labels, errors)\u001b[0m\n\u001b[1;32m   6973\u001b[0m \u001b[38;5;28;01mif\u001b[39;00m mask\u001b[38;5;241m.\u001b[39many():\n\u001b[1;32m   6974\u001b[0m     \u001b[38;5;28;01mif\u001b[39;00m errors \u001b[38;5;241m!=\u001b[39m \u001b[38;5;124m\"\u001b[39m\u001b[38;5;124mignore\u001b[39m\u001b[38;5;124m\"\u001b[39m:\n\u001b[0;32m-> 6975\u001b[0m         \u001b[38;5;28;01mraise\u001b[39;00m \u001b[38;5;167;01mKeyError\u001b[39;00m(\u001b[38;5;124mf\u001b[39m\u001b[38;5;124m\"\u001b[39m\u001b[38;5;132;01m{\u001b[39;00m\u001b[38;5;28mlist\u001b[39m(labels[mask])\u001b[38;5;132;01m}\u001b[39;00m\u001b[38;5;124m not found in axis\u001b[39m\u001b[38;5;124m\"\u001b[39m)\n\u001b[1;32m   6976\u001b[0m     indexer \u001b[38;5;241m=\u001b[39m indexer[\u001b[38;5;241m~\u001b[39mmask]\n\u001b[1;32m   6977\u001b[0m \u001b[38;5;28;01mreturn\u001b[39;00m \u001b[38;5;28mself\u001b[39m\u001b[38;5;241m.\u001b[39mdelete(indexer)\n",
      "\u001b[0;31mKeyError\u001b[0m: \"['uu_id'] not found in axis\""
     ]
    }
   ],
   "source": [
    "X = fin.drop(['uu_id','total_claims'],axis=1)\n",
    "Y=fin['total_claims']"
   ]
  },
  {
   "cell_type": "code",
   "execution_count": 178,
   "id": "17770189",
   "metadata": {
    "execution": {
     "iopub.execute_input": "2023-05-10T01:32:12.996802Z",
     "iopub.status.busy": "2023-05-10T01:32:12.996685Z",
     "iopub.status.idle": "2023-05-10T01:32:12.999745Z",
     "shell.execute_reply": "2023-05-10T01:32:12.999483Z"
    }
   },
   "outputs": [],
   "source": [
    "final_data1 = final_data.drop(['timeperiod','tract_x','tract_name_x','tract_y','tract_name_y','countyfips_y'],axis=1)"
   ]
  },
  {
   "cell_type": "code",
   "execution_count": 179,
   "id": "04a33714",
   "metadata": {
    "execution": {
     "iopub.execute_input": "2023-05-10T01:32:13.001138Z",
     "iopub.status.busy": "2023-05-10T01:32:13.001055Z",
     "iopub.status.idle": "2023-05-10T01:32:13.013390Z",
     "shell.execute_reply": "2023-05-10T01:32:13.013074Z"
    }
   },
   "outputs": [],
   "source": [
    "fin = pd.get_dummies(final_data1,columns = ['week_number','countyfips_x','top_category_employer1','top_category_employer2','top_category_employer3'])"
   ]
  },
  {
   "cell_type": "code",
   "execution_count": 180,
   "id": "38e314d0",
   "metadata": {
    "execution": {
     "iopub.execute_input": "2023-05-10T01:32:13.015250Z",
     "iopub.status.busy": "2023-05-10T01:32:13.015141Z",
     "iopub.status.idle": "2023-05-10T01:32:13.018225Z",
     "shell.execute_reply": "2023-05-10T01:32:13.017977Z"
    }
   },
   "outputs": [],
   "source": [
    "X = fin.drop(['uu_id','total_claims'],axis=1)\n",
    "Y=fin['total_claims']"
   ]
  },
  {
   "cell_type": "code",
   "execution_count": 181,
   "id": "505d446d",
   "metadata": {
    "execution": {
     "iopub.execute_input": "2023-05-10T01:32:13.019699Z",
     "iopub.status.busy": "2023-05-10T01:32:13.019612Z",
     "iopub.status.idle": "2023-05-10T01:32:13.029971Z",
     "shell.execute_reply": "2023-05-10T01:32:13.029642Z"
    }
   },
   "outputs": [],
   "source": [
    "from sklearn.model_selection import train_test_split\n",
    "X_train, X_test,Y_train, Y_test = train_test_split(X,Y,test_size = 0.2, random_state=32)"
   ]
  },
  {
   "cell_type": "code",
   "execution_count": 182,
   "id": "70ff13cd",
   "metadata": {
    "execution": {
     "iopub.execute_input": "2023-05-10T01:32:13.031723Z",
     "iopub.status.busy": "2023-05-10T01:32:13.031629Z",
     "iopub.status.idle": "2023-05-10T01:32:19.339676Z",
     "shell.execute_reply": "2023-05-10T01:32:19.339289Z"
    }
   },
   "outputs": [],
   "source": [
    "import xgboost as xgb\n",
    "model = xgb.XGBRegressor(n_estimators=500, max_depth=4,eta=0.1).fit(X_train,Y_train)\n",
    "y_pred = model.predict(X_test)"
   ]
  },
  {
   "cell_type": "code",
   "execution_count": 183,
   "id": "585e834d",
   "metadata": {
    "execution": {
     "iopub.execute_input": "2023-05-10T01:32:19.341626Z",
     "iopub.status.busy": "2023-05-10T01:32:19.341508Z",
     "iopub.status.idle": "2023-05-10T01:32:19.355658Z",
     "shell.execute_reply": "2023-05-10T01:32:19.355309Z"
    }
   },
   "outputs": [],
   "source": [
    "df_test = pred_data.merge(fin,how='left',on= 'uu_id')"
   ]
  },
  {
   "cell_type": "code",
   "execution_count": 184,
   "id": "0c2c72fc",
   "metadata": {
    "execution": {
     "iopub.execute_input": "2023-05-10T01:32:19.357573Z",
     "iopub.status.busy": "2023-05-10T01:32:19.357452Z",
     "iopub.status.idle": "2023-05-10T01:32:19.360563Z",
     "shell.execute_reply": "2023-05-10T01:32:19.360270Z"
    }
   },
   "outputs": [],
   "source": [
    "X_df_test = df_test.drop(['uu_id','total_claims'],axis=1)\n",
    "Y_df_test = df_test['total_claims']"
   ]
  },
  {
   "cell_type": "code",
   "execution_count": 185,
   "id": "8add95dd",
   "metadata": {
    "execution": {
     "iopub.execute_input": "2023-05-10T01:32:19.362198Z",
     "iopub.status.busy": "2023-05-10T01:32:19.362089Z",
     "iopub.status.idle": "2023-05-10T01:32:19.383259Z",
     "shell.execute_reply": "2023-05-10T01:32:19.382905Z"
    }
   },
   "outputs": [
    {
     "ename": "ValueError",
     "evalue": "Feature shape mismatch, expected: 174, got 175",
     "output_type": "error",
     "traceback": [
      "\u001b[0;31m---------------------------------------------------------------------------\u001b[0m",
      "\u001b[0;31mValueError\u001b[0m                                Traceback (most recent call last)",
      "Cell \u001b[0;32mIn [185], line 1\u001b[0m\n\u001b[0;32m----> 1\u001b[0m prediction \u001b[38;5;241m=\u001b[39m \u001b[43mmodel\u001b[49m\u001b[38;5;241;43m.\u001b[39;49m\u001b[43mpredict\u001b[49m\u001b[43m(\u001b[49m\u001b[43mX_df_test\u001b[49m\u001b[43m)\u001b[49m\n",
      "File \u001b[0;32m/opt/homebrew/lib/python3.9/site-packages/xgboost/sklearn.py:1114\u001b[0m, in \u001b[0;36mXGBModel.predict\u001b[0;34m(self, X, output_margin, ntree_limit, validate_features, base_margin, iteration_range)\u001b[0m\n\u001b[1;32m   1112\u001b[0m \u001b[38;5;28;01mif\u001b[39;00m \u001b[38;5;28mself\u001b[39m\u001b[38;5;241m.\u001b[39m_can_use_inplace_predict():\n\u001b[1;32m   1113\u001b[0m     \u001b[38;5;28;01mtry\u001b[39;00m:\n\u001b[0;32m-> 1114\u001b[0m         predts \u001b[38;5;241m=\u001b[39m \u001b[38;5;28;43mself\u001b[39;49m\u001b[38;5;241;43m.\u001b[39;49m\u001b[43mget_booster\u001b[49m\u001b[43m(\u001b[49m\u001b[43m)\u001b[49m\u001b[38;5;241;43m.\u001b[39;49m\u001b[43minplace_predict\u001b[49m\u001b[43m(\u001b[49m\n\u001b[1;32m   1115\u001b[0m \u001b[43m            \u001b[49m\u001b[43mdata\u001b[49m\u001b[38;5;241;43m=\u001b[39;49m\u001b[43mX\u001b[49m\u001b[43m,\u001b[49m\n\u001b[1;32m   1116\u001b[0m \u001b[43m            \u001b[49m\u001b[43miteration_range\u001b[49m\u001b[38;5;241;43m=\u001b[39;49m\u001b[43miteration_range\u001b[49m\u001b[43m,\u001b[49m\n\u001b[1;32m   1117\u001b[0m \u001b[43m            \u001b[49m\u001b[43mpredict_type\u001b[49m\u001b[38;5;241;43m=\u001b[39;49m\u001b[38;5;124;43m\"\u001b[39;49m\u001b[38;5;124;43mmargin\u001b[39;49m\u001b[38;5;124;43m\"\u001b[39;49m\u001b[43m \u001b[49m\u001b[38;5;28;43;01mif\u001b[39;49;00m\u001b[43m \u001b[49m\u001b[43moutput_margin\u001b[49m\u001b[43m \u001b[49m\u001b[38;5;28;43;01melse\u001b[39;49;00m\u001b[43m \u001b[49m\u001b[38;5;124;43m\"\u001b[39;49m\u001b[38;5;124;43mvalue\u001b[39;49m\u001b[38;5;124;43m\"\u001b[39;49m\u001b[43m,\u001b[49m\n\u001b[1;32m   1118\u001b[0m \u001b[43m            \u001b[49m\u001b[43mmissing\u001b[49m\u001b[38;5;241;43m=\u001b[39;49m\u001b[38;5;28;43mself\u001b[39;49m\u001b[38;5;241;43m.\u001b[39;49m\u001b[43mmissing\u001b[49m\u001b[43m,\u001b[49m\n\u001b[1;32m   1119\u001b[0m \u001b[43m            \u001b[49m\u001b[43mbase_margin\u001b[49m\u001b[38;5;241;43m=\u001b[39;49m\u001b[43mbase_margin\u001b[49m\u001b[43m,\u001b[49m\n\u001b[1;32m   1120\u001b[0m \u001b[43m            \u001b[49m\u001b[43mvalidate_features\u001b[49m\u001b[38;5;241;43m=\u001b[39;49m\u001b[43mvalidate_features\u001b[49m\u001b[43m,\u001b[49m\n\u001b[1;32m   1121\u001b[0m \u001b[43m        \u001b[49m\u001b[43m)\u001b[49m\n\u001b[1;32m   1122\u001b[0m         \u001b[38;5;28;01mif\u001b[39;00m _is_cupy_array(predts):\n\u001b[1;32m   1123\u001b[0m             \u001b[38;5;28;01mimport\u001b[39;00m \u001b[38;5;21;01mcupy\u001b[39;00m  \u001b[38;5;66;03m# pylint: disable=import-error\u001b[39;00m\n",
      "File \u001b[0;32m/opt/homebrew/lib/python3.9/site-packages/xgboost/core.py:2269\u001b[0m, in \u001b[0;36mBooster.inplace_predict\u001b[0;34m(self, data, iteration_range, predict_type, missing, validate_features, base_margin, strict_shape)\u001b[0m\n\u001b[1;32m   2265\u001b[0m         \u001b[38;5;28;01mraise\u001b[39;00m \u001b[38;5;167;01mTypeError\u001b[39;00m(\n\u001b[1;32m   2266\u001b[0m             \u001b[38;5;124m\"\u001b[39m\u001b[38;5;124m`shape` attribute is required when `validate_features` is True.\u001b[39m\u001b[38;5;124m\"\u001b[39m\n\u001b[1;32m   2267\u001b[0m         )\n\u001b[1;32m   2268\u001b[0m     \u001b[38;5;28;01mif\u001b[39;00m \u001b[38;5;28mlen\u001b[39m(data\u001b[38;5;241m.\u001b[39mshape) \u001b[38;5;241m!=\u001b[39m \u001b[38;5;241m1\u001b[39m \u001b[38;5;129;01mand\u001b[39;00m \u001b[38;5;28mself\u001b[39m\u001b[38;5;241m.\u001b[39mnum_features() \u001b[38;5;241m!=\u001b[39m data\u001b[38;5;241m.\u001b[39mshape[\u001b[38;5;241m1\u001b[39m]:\n\u001b[0;32m-> 2269\u001b[0m         \u001b[38;5;28;01mraise\u001b[39;00m \u001b[38;5;167;01mValueError\u001b[39;00m(\n\u001b[1;32m   2270\u001b[0m             \u001b[38;5;124mf\u001b[39m\u001b[38;5;124m\"\u001b[39m\u001b[38;5;124mFeature shape mismatch, expected: \u001b[39m\u001b[38;5;132;01m{\u001b[39;00m\u001b[38;5;28mself\u001b[39m\u001b[38;5;241m.\u001b[39mnum_features()\u001b[38;5;132;01m}\u001b[39;00m\u001b[38;5;124m, \u001b[39m\u001b[38;5;124m\"\u001b[39m\n\u001b[1;32m   2271\u001b[0m             \u001b[38;5;124mf\u001b[39m\u001b[38;5;124m\"\u001b[39m\u001b[38;5;124mgot \u001b[39m\u001b[38;5;132;01m{\u001b[39;00mdata\u001b[38;5;241m.\u001b[39mshape[\u001b[38;5;241m1\u001b[39m]\u001b[38;5;132;01m}\u001b[39;00m\u001b[38;5;124m\"\u001b[39m\n\u001b[1;32m   2272\u001b[0m         )\n\u001b[1;32m   2274\u001b[0m \u001b[38;5;28;01mfrom\u001b[39;00m \u001b[38;5;21;01m.\u001b[39;00m\u001b[38;5;21;01mdata\u001b[39;00m \u001b[38;5;28;01mimport\u001b[39;00m (\n\u001b[1;32m   2275\u001b[0m     _array_interface,\n\u001b[1;32m   2276\u001b[0m     _is_cudf_df,\n\u001b[0;32m   (...)\u001b[0m\n\u001b[1;32m   2279\u001b[0m     _transform_pandas_df,\n\u001b[1;32m   2280\u001b[0m )\n\u001b[1;32m   2282\u001b[0m enable_categorical \u001b[38;5;241m=\u001b[39m _has_categorical(\u001b[38;5;28mself\u001b[39m, data)\n",
      "\u001b[0;31mValueError\u001b[0m: Feature shape mismatch, expected: 174, got 175"
     ]
    }
   ],
   "source": [
    "prediction = model.predict(X_df_test)"
   ]
  },
  {
   "cell_type": "code",
   "execution_count": 186,
   "id": "96428253",
   "metadata": {
    "execution": {
     "iopub.execute_input": "2023-05-10T01:32:19.385064Z",
     "iopub.status.busy": "2023-05-10T01:32:19.384956Z",
     "iopub.status.idle": "2023-05-10T01:32:19.394520Z",
     "shell.execute_reply": "2023-05-10T01:32:19.394235Z"
    }
   },
   "outputs": [
    {
     "data": {
      "text/html": [
       "<div>\n",
       "<style scoped>\n",
       "    .dataframe tbody tr th:only-of-type {\n",
       "        vertical-align: middle;\n",
       "    }\n",
       "\n",
       "    .dataframe tbody tr th {\n",
       "        vertical-align: top;\n",
       "    }\n",
       "\n",
       "    .dataframe thead th {\n",
       "        text-align: right;\n",
       "    }\n",
       "</style>\n",
       "<table border=\"1\" class=\"dataframe\">\n",
       "  <thead>\n",
       "    <tr style=\"text-align: right;\">\n",
       "      <th></th>\n",
       "      <th>uu_id</th>\n",
       "      <th>week_number</th>\n",
       "      <th>total_claims</th>\n",
       "      <th>edu_8th_or_less</th>\n",
       "      <th>edu_grades_9_11</th>\n",
       "      <th>edu_hs_grad_equiv</th>\n",
       "      <th>edu_post_hs</th>\n",
       "      <th>edu_unknown</th>\n",
       "      <th>gender_female</th>\n",
       "      <th>gender_male</th>\n",
       "      <th>...</th>\n",
       "      <th>top_category_employer3_54</th>\n",
       "      <th>top_category_employer3_55</th>\n",
       "      <th>top_category_employer3_56</th>\n",
       "      <th>top_category_employer3_61</th>\n",
       "      <th>top_category_employer3_62</th>\n",
       "      <th>top_category_employer3_71</th>\n",
       "      <th>top_category_employer3_72</th>\n",
       "      <th>top_category_employer3_81</th>\n",
       "      <th>top_category_employer3_92</th>\n",
       "      <th>top_category_employer3_99</th>\n",
       "    </tr>\n",
       "  </thead>\n",
       "  <tbody>\n",
       "    <tr>\n",
       "      <th>0</th>\n",
       "      <td>5bf51fc2e162d6faf9e3cf79e4198378</td>\n",
       "      <td>44</td>\n",
       "      <td>20</td>\n",
       "      <td>0</td>\n",
       "      <td>0</td>\n",
       "      <td>11</td>\n",
       "      <td>9.166667</td>\n",
       "      <td>0</td>\n",
       "      <td>17.416667</td>\n",
       "      <td>14.800000</td>\n",
       "      <td>...</td>\n",
       "      <td>0</td>\n",
       "      <td>0</td>\n",
       "      <td>0</td>\n",
       "      <td>0</td>\n",
       "      <td>0</td>\n",
       "      <td>0</td>\n",
       "      <td>0</td>\n",
       "      <td>0</td>\n",
       "      <td>0</td>\n",
       "      <td>0</td>\n",
       "    </tr>\n",
       "    <tr>\n",
       "      <th>1</th>\n",
       "      <td>5bf51fc2e162d6faf9e3cf79e4198378</td>\n",
       "      <td>44</td>\n",
       "      <td>11</td>\n",
       "      <td>0</td>\n",
       "      <td>0</td>\n",
       "      <td>13</td>\n",
       "      <td>9.166667</td>\n",
       "      <td>0</td>\n",
       "      <td>17.416667</td>\n",
       "      <td>14.800000</td>\n",
       "      <td>...</td>\n",
       "      <td>0</td>\n",
       "      <td>0</td>\n",
       "      <td>0</td>\n",
       "      <td>0</td>\n",
       "      <td>0</td>\n",
       "      <td>0</td>\n",
       "      <td>0</td>\n",
       "      <td>0</td>\n",
       "      <td>0</td>\n",
       "      <td>0</td>\n",
       "    </tr>\n",
       "    <tr>\n",
       "      <th>2</th>\n",
       "      <td>5bf51fc2e162d6faf9e3cf79e4198378</td>\n",
       "      <td>44</td>\n",
       "      <td>11</td>\n",
       "      <td>0</td>\n",
       "      <td>0</td>\n",
       "      <td>13</td>\n",
       "      <td>9.166667</td>\n",
       "      <td>0</td>\n",
       "      <td>17.416667</td>\n",
       "      <td>14.800000</td>\n",
       "      <td>...</td>\n",
       "      <td>0</td>\n",
       "      <td>0</td>\n",
       "      <td>0</td>\n",
       "      <td>0</td>\n",
       "      <td>0</td>\n",
       "      <td>0</td>\n",
       "      <td>0</td>\n",
       "      <td>0</td>\n",
       "      <td>0</td>\n",
       "      <td>0</td>\n",
       "    </tr>\n",
       "    <tr>\n",
       "      <th>3</th>\n",
       "      <td>5bf51fc2e162d6faf9e3cf79e4198378</td>\n",
       "      <td>44</td>\n",
       "      <td>20</td>\n",
       "      <td>0</td>\n",
       "      <td>0</td>\n",
       "      <td>13</td>\n",
       "      <td>9.166667</td>\n",
       "      <td>0</td>\n",
       "      <td>17.416667</td>\n",
       "      <td>14.800000</td>\n",
       "      <td>...</td>\n",
       "      <td>0</td>\n",
       "      <td>0</td>\n",
       "      <td>0</td>\n",
       "      <td>0</td>\n",
       "      <td>0</td>\n",
       "      <td>0</td>\n",
       "      <td>0</td>\n",
       "      <td>0</td>\n",
       "      <td>0</td>\n",
       "      <td>0</td>\n",
       "    </tr>\n",
       "    <tr>\n",
       "      <th>4</th>\n",
       "      <td>5bf51fc2e162d6faf9e3cf79e4198378</td>\n",
       "      <td>44</td>\n",
       "      <td>20</td>\n",
       "      <td>0</td>\n",
       "      <td>0</td>\n",
       "      <td>13</td>\n",
       "      <td>9.166667</td>\n",
       "      <td>0</td>\n",
       "      <td>17.416667</td>\n",
       "      <td>14.800000</td>\n",
       "      <td>...</td>\n",
       "      <td>0</td>\n",
       "      <td>0</td>\n",
       "      <td>0</td>\n",
       "      <td>0</td>\n",
       "      <td>0</td>\n",
       "      <td>0</td>\n",
       "      <td>0</td>\n",
       "      <td>0</td>\n",
       "      <td>0</td>\n",
       "      <td>0</td>\n",
       "    </tr>\n",
       "    <tr>\n",
       "      <th>...</th>\n",
       "      <td>...</td>\n",
       "      <td>...</td>\n",
       "      <td>...</td>\n",
       "      <td>...</td>\n",
       "      <td>...</td>\n",
       "      <td>...</td>\n",
       "      <td>...</td>\n",
       "      <td>...</td>\n",
       "      <td>...</td>\n",
       "      <td>...</td>\n",
       "      <td>...</td>\n",
       "      <td>...</td>\n",
       "      <td>...</td>\n",
       "      <td>...</td>\n",
       "      <td>...</td>\n",
       "      <td>...</td>\n",
       "      <td>...</td>\n",
       "      <td>...</td>\n",
       "      <td>...</td>\n",
       "      <td>...</td>\n",
       "      <td>...</td>\n",
       "    </tr>\n",
       "    <tr>\n",
       "      <th>16828</th>\n",
       "      <td>932a58530abff8a48558e2a15639d453</td>\n",
       "      <td>44</td>\n",
       "      <td>17</td>\n",
       "      <td>0</td>\n",
       "      <td>0</td>\n",
       "      <td>17</td>\n",
       "      <td>0.000000</td>\n",
       "      <td>0</td>\n",
       "      <td>17.859649</td>\n",
       "      <td>17.985075</td>\n",
       "      <td>...</td>\n",
       "      <td>0</td>\n",
       "      <td>0</td>\n",
       "      <td>0</td>\n",
       "      <td>0</td>\n",
       "      <td>0</td>\n",
       "      <td>0</td>\n",
       "      <td>0</td>\n",
       "      <td>1</td>\n",
       "      <td>0</td>\n",
       "      <td>0</td>\n",
       "    </tr>\n",
       "    <tr>\n",
       "      <th>16829</th>\n",
       "      <td>932a58530abff8a48558e2a15639d453</td>\n",
       "      <td>44</td>\n",
       "      <td>11</td>\n",
       "      <td>0</td>\n",
       "      <td>0</td>\n",
       "      <td>17</td>\n",
       "      <td>14.539683</td>\n",
       "      <td>0</td>\n",
       "      <td>17.859649</td>\n",
       "      <td>17.985075</td>\n",
       "      <td>...</td>\n",
       "      <td>0</td>\n",
       "      <td>0</td>\n",
       "      <td>0</td>\n",
       "      <td>0</td>\n",
       "      <td>0</td>\n",
       "      <td>0</td>\n",
       "      <td>0</td>\n",
       "      <td>1</td>\n",
       "      <td>0</td>\n",
       "      <td>0</td>\n",
       "    </tr>\n",
       "    <tr>\n",
       "      <th>16830</th>\n",
       "      <td>932a58530abff8a48558e2a15639d453</td>\n",
       "      <td>44</td>\n",
       "      <td>25</td>\n",
       "      <td>0</td>\n",
       "      <td>15</td>\n",
       "      <td>10</td>\n",
       "      <td>0.000000</td>\n",
       "      <td>0</td>\n",
       "      <td>17.859649</td>\n",
       "      <td>17.985075</td>\n",
       "      <td>...</td>\n",
       "      <td>0</td>\n",
       "      <td>0</td>\n",
       "      <td>0</td>\n",
       "      <td>0</td>\n",
       "      <td>0</td>\n",
       "      <td>0</td>\n",
       "      <td>0</td>\n",
       "      <td>1</td>\n",
       "      <td>0</td>\n",
       "      <td>0</td>\n",
       "    </tr>\n",
       "    <tr>\n",
       "      <th>16831</th>\n",
       "      <td>932a58530abff8a48558e2a15639d453</td>\n",
       "      <td>44</td>\n",
       "      <td>13</td>\n",
       "      <td>0</td>\n",
       "      <td>0</td>\n",
       "      <td>17</td>\n",
       "      <td>14.539683</td>\n",
       "      <td>0</td>\n",
       "      <td>17.859649</td>\n",
       "      <td>17.985075</td>\n",
       "      <td>...</td>\n",
       "      <td>0</td>\n",
       "      <td>0</td>\n",
       "      <td>0</td>\n",
       "      <td>0</td>\n",
       "      <td>0</td>\n",
       "      <td>1</td>\n",
       "      <td>0</td>\n",
       "      <td>0</td>\n",
       "      <td>0</td>\n",
       "      <td>0</td>\n",
       "    </tr>\n",
       "    <tr>\n",
       "      <th>16832</th>\n",
       "      <td>932a58530abff8a48558e2a15639d453</td>\n",
       "      <td>44</td>\n",
       "      <td>30</td>\n",
       "      <td>0</td>\n",
       "      <td>0</td>\n",
       "      <td>14</td>\n",
       "      <td>16.000000</td>\n",
       "      <td>0</td>\n",
       "      <td>12.000000</td>\n",
       "      <td>18.000000</td>\n",
       "      <td>...</td>\n",
       "      <td>0</td>\n",
       "      <td>0</td>\n",
       "      <td>1</td>\n",
       "      <td>0</td>\n",
       "      <td>0</td>\n",
       "      <td>0</td>\n",
       "      <td>0</td>\n",
       "      <td>0</td>\n",
       "      <td>0</td>\n",
       "      <td>0</td>\n",
       "    </tr>\n",
       "  </tbody>\n",
       "</table>\n",
       "<p>16833 rows × 177 columns</p>\n",
       "</div>"
      ],
      "text/plain": [
       "                                  uu_id  week_number  total_claims  \\\n",
       "0      5bf51fc2e162d6faf9e3cf79e4198378           44            20   \n",
       "1      5bf51fc2e162d6faf9e3cf79e4198378           44            11   \n",
       "2      5bf51fc2e162d6faf9e3cf79e4198378           44            11   \n",
       "3      5bf51fc2e162d6faf9e3cf79e4198378           44            20   \n",
       "4      5bf51fc2e162d6faf9e3cf79e4198378           44            20   \n",
       "...                                 ...          ...           ...   \n",
       "16828  932a58530abff8a48558e2a15639d453           44            17   \n",
       "16829  932a58530abff8a48558e2a15639d453           44            11   \n",
       "16830  932a58530abff8a48558e2a15639d453           44            25   \n",
       "16831  932a58530abff8a48558e2a15639d453           44            13   \n",
       "16832  932a58530abff8a48558e2a15639d453           44            30   \n",
       "\n",
       "       edu_8th_or_less  edu_grades_9_11  edu_hs_grad_equiv  edu_post_hs  \\\n",
       "0                    0                0                 11     9.166667   \n",
       "1                    0                0                 13     9.166667   \n",
       "2                    0                0                 13     9.166667   \n",
       "3                    0                0                 13     9.166667   \n",
       "4                    0                0                 13     9.166667   \n",
       "...                ...              ...                ...          ...   \n",
       "16828                0                0                 17     0.000000   \n",
       "16829                0                0                 17    14.539683   \n",
       "16830                0               15                 10     0.000000   \n",
       "16831                0                0                 17    14.539683   \n",
       "16832                0                0                 14    16.000000   \n",
       "\n",
       "       edu_unknown  gender_female  gender_male  ...  \\\n",
       "0                0      17.416667    14.800000  ...   \n",
       "1                0      17.416667    14.800000  ...   \n",
       "2                0      17.416667    14.800000  ...   \n",
       "3                0      17.416667    14.800000  ...   \n",
       "4                0      17.416667    14.800000  ...   \n",
       "...            ...            ...          ...  ...   \n",
       "16828            0      17.859649    17.985075  ...   \n",
       "16829            0      17.859649    17.985075  ...   \n",
       "16830            0      17.859649    17.985075  ...   \n",
       "16831            0      17.859649    17.985075  ...   \n",
       "16832            0      12.000000    18.000000  ...   \n",
       "\n",
       "       top_category_employer3_54  top_category_employer3_55  \\\n",
       "0                              0                          0   \n",
       "1                              0                          0   \n",
       "2                              0                          0   \n",
       "3                              0                          0   \n",
       "4                              0                          0   \n",
       "...                          ...                        ...   \n",
       "16828                          0                          0   \n",
       "16829                          0                          0   \n",
       "16830                          0                          0   \n",
       "16831                          0                          0   \n",
       "16832                          0                          0   \n",
       "\n",
       "       top_category_employer3_56  top_category_employer3_61  \\\n",
       "0                              0                          0   \n",
       "1                              0                          0   \n",
       "2                              0                          0   \n",
       "3                              0                          0   \n",
       "4                              0                          0   \n",
       "...                          ...                        ...   \n",
       "16828                          0                          0   \n",
       "16829                          0                          0   \n",
       "16830                          0                          0   \n",
       "16831                          0                          0   \n",
       "16832                          1                          0   \n",
       "\n",
       "       top_category_employer3_62  top_category_employer3_71  \\\n",
       "0                              0                          0   \n",
       "1                              0                          0   \n",
       "2                              0                          0   \n",
       "3                              0                          0   \n",
       "4                              0                          0   \n",
       "...                          ...                        ...   \n",
       "16828                          0                          0   \n",
       "16829                          0                          0   \n",
       "16830                          0                          0   \n",
       "16831                          0                          1   \n",
       "16832                          0                          0   \n",
       "\n",
       "       top_category_employer3_72  top_category_employer3_81  \\\n",
       "0                              0                          0   \n",
       "1                              0                          0   \n",
       "2                              0                          0   \n",
       "3                              0                          0   \n",
       "4                              0                          0   \n",
       "...                          ...                        ...   \n",
       "16828                          0                          1   \n",
       "16829                          0                          1   \n",
       "16830                          0                          1   \n",
       "16831                          0                          0   \n",
       "16832                          0                          0   \n",
       "\n",
       "       top_category_employer3_92  top_category_employer3_99  \n",
       "0                              0                          0  \n",
       "1                              0                          0  \n",
       "2                              0                          0  \n",
       "3                              0                          0  \n",
       "4                              0                          0  \n",
       "...                          ...                        ...  \n",
       "16828                          0                          0  \n",
       "16829                          0                          0  \n",
       "16830                          0                          0  \n",
       "16831                          0                          0  \n",
       "16832                          0                          0  \n",
       "\n",
       "[16833 rows x 177 columns]"
      ]
     },
     "execution_count": 186,
     "metadata": {},
     "output_type": "execute_result"
    }
   ],
   "source": [
    "df_test"
   ]
  },
  {
   "cell_type": "code",
   "execution_count": 187,
   "id": "3a999c27",
   "metadata": {
    "execution": {
     "iopub.execute_input": "2023-05-10T01:32:19.396145Z",
     "iopub.status.busy": "2023-05-10T01:32:19.396036Z",
     "iopub.status.idle": "2023-05-10T01:32:19.399151Z",
     "shell.execute_reply": "2023-05-10T01:32:19.398848Z"
    }
   },
   "outputs": [],
   "source": [
    "final_data1 = final_data.drop(['timeperiod','tract_x','tract_name_x','tract_y','tract_name_y','countyfips_y','week_number'],axis=1)"
   ]
  },
  {
   "cell_type": "code",
   "execution_count": 188,
   "id": "395bd6fb",
   "metadata": {
    "execution": {
     "iopub.execute_input": "2023-05-10T01:32:19.401097Z",
     "iopub.status.busy": "2023-05-10T01:32:19.401013Z",
     "iopub.status.idle": "2023-05-10T01:32:19.411772Z",
     "shell.execute_reply": "2023-05-10T01:32:19.411434Z"
    }
   },
   "outputs": [],
   "source": [
    "fin = pd.get_dummies(final_data1,columns = ['countyfips_x','top_category_employer1','top_category_employer2','top_category_employer3'])"
   ]
  },
  {
   "cell_type": "code",
   "execution_count": 189,
   "id": "5818546c",
   "metadata": {
    "execution": {
     "iopub.execute_input": "2023-05-10T01:32:19.413519Z",
     "iopub.status.busy": "2023-05-10T01:32:19.413395Z",
     "iopub.status.idle": "2023-05-10T01:32:19.416461Z",
     "shell.execute_reply": "2023-05-10T01:32:19.416141Z"
    }
   },
   "outputs": [],
   "source": [
    "X = fin.drop(['uu_id','total_claims'],axis=1)\n",
    "Y=fin['total_claims']"
   ]
  },
  {
   "cell_type": "code",
   "execution_count": 190,
   "id": "33176d72",
   "metadata": {
    "execution": {
     "iopub.execute_input": "2023-05-10T01:32:19.418176Z",
     "iopub.status.busy": "2023-05-10T01:32:19.418065Z",
     "iopub.status.idle": "2023-05-10T01:32:19.426813Z",
     "shell.execute_reply": "2023-05-10T01:32:19.426518Z"
    }
   },
   "outputs": [],
   "source": [
    "from sklearn.model_selection import train_test_split\n",
    "X_train, X_test,Y_train, Y_test = train_test_split(X,Y,test_size = 0.2, random_state=32)"
   ]
  },
  {
   "cell_type": "code",
   "execution_count": 191,
   "id": "3001646c",
   "metadata": {
    "execution": {
     "iopub.execute_input": "2023-05-10T01:32:19.428589Z",
     "iopub.status.busy": "2023-05-10T01:32:19.428499Z",
     "iopub.status.idle": "2023-05-10T01:32:24.692659Z",
     "shell.execute_reply": "2023-05-10T01:32:24.692282Z"
    }
   },
   "outputs": [],
   "source": [
    "import xgboost as xgb\n",
    "model = xgb.XGBRegressor(n_estimators=500, max_depth=4,eta=0.1).fit(X_train,Y_train)\n",
    "y_pred = model.predict(X_test)"
   ]
  },
  {
   "cell_type": "code",
   "execution_count": 192,
   "id": "8959bb92",
   "metadata": {
    "execution": {
     "iopub.execute_input": "2023-05-10T01:32:24.694722Z",
     "iopub.status.busy": "2023-05-10T01:32:24.694455Z",
     "iopub.status.idle": "2023-05-10T01:32:24.704483Z",
     "shell.execute_reply": "2023-05-10T01:32:24.704112Z"
    }
   },
   "outputs": [
    {
     "data": {
      "text/plain": [
       "0.9108679506131394"
      ]
     },
     "execution_count": 192,
     "metadata": {},
     "output_type": "execute_result"
    }
   ],
   "source": [
    "model.score(X_test, Y_test)"
   ]
  },
  {
   "cell_type": "code",
   "execution_count": 193,
   "id": "554e445b",
   "metadata": {
    "execution": {
     "iopub.execute_input": "2023-05-10T01:32:24.706261Z",
     "iopub.status.busy": "2023-05-10T01:32:24.706142Z",
     "iopub.status.idle": "2023-05-10T01:32:24.717974Z",
     "shell.execute_reply": "2023-05-10T01:32:24.717639Z"
    }
   },
   "outputs": [],
   "source": [
    "df_test = pred_data.merge(fin,how='left',on= 'uu_id')"
   ]
  },
  {
   "cell_type": "code",
   "execution_count": 194,
   "id": "eda85557",
   "metadata": {
    "execution": {
     "iopub.execute_input": "2023-05-10T01:32:24.719950Z",
     "iopub.status.busy": "2023-05-10T01:32:24.719834Z",
     "iopub.status.idle": "2023-05-10T01:32:24.722941Z",
     "shell.execute_reply": "2023-05-10T01:32:24.722603Z"
    }
   },
   "outputs": [],
   "source": [
    "X_df_test = df_test.drop(['uu_id','week_number','total_claims'],axis=1)\n",
    "Y_df_test = df_test['total_claims']"
   ]
  },
  {
   "cell_type": "code",
   "execution_count": 195,
   "id": "81a3ecba",
   "metadata": {
    "execution": {
     "iopub.execute_input": "2023-05-10T01:32:24.724697Z",
     "iopub.status.busy": "2023-05-10T01:32:24.724568Z",
     "iopub.status.idle": "2023-05-10T01:32:24.750424Z",
     "shell.execute_reply": "2023-05-10T01:32:24.750010Z"
    }
   },
   "outputs": [],
   "source": [
    "prediction = model.predict(X_df_test)"
   ]
  },
  {
   "cell_type": "code",
   "execution_count": 196,
   "id": "72f3c452",
   "metadata": {
    "execution": {
     "iopub.execute_input": "2023-05-10T01:32:24.752374Z",
     "iopub.status.busy": "2023-05-10T01:32:24.752222Z",
     "iopub.status.idle": "2023-05-10T01:32:24.778714Z",
     "shell.execute_reply": "2023-05-10T01:32:24.778367Z"
    }
   },
   "outputs": [
    {
     "data": {
      "text/plain": [
       "0.933632854698625"
      ]
     },
     "execution_count": 196,
     "metadata": {},
     "output_type": "execute_result"
    }
   ],
   "source": [
    "model.score(X_df_test,Y_df_test)"
   ]
  },
  {
   "cell_type": "code",
   "execution_count": 197,
   "id": "674b7a1c",
   "metadata": {
    "execution": {
     "iopub.execute_input": "2023-05-10T01:32:24.780489Z",
     "iopub.status.busy": "2023-05-10T01:32:24.780370Z",
     "iopub.status.idle": "2023-05-10T01:32:24.844346Z",
     "shell.execute_reply": "2023-05-10T01:32:24.843990Z"
    }
   },
   "outputs": [
    {
     "ename": "KeyError",
     "evalue": "\"None of [Index(['uu_id'], dtype='object')] are in the [columns]\"",
     "output_type": "error",
     "traceback": [
      "\u001b[0;31m---------------------------------------------------------------------------\u001b[0m",
      "\u001b[0;31mKeyError\u001b[0m                                  Traceback (most recent call last)",
      "Cell \u001b[0;32mIn [197], line 1\u001b[0m\n\u001b[0;32m----> 1\u001b[0m df_pred_final \u001b[38;5;241m=\u001b[39m \u001b[43mpred_data\u001b[49m\u001b[43m[\u001b[49m\u001b[43m[\u001b[49m\u001b[38;5;124;43m'\u001b[39;49m\u001b[38;5;124;43muu_id\u001b[39;49m\u001b[38;5;124;43m'\u001b[39;49m\u001b[43m]\u001b[49m\u001b[43m]\u001b[49m\n\u001b[1;32m      2\u001b[0m df_pred_final[\u001b[38;5;124m'\u001b[39m\u001b[38;5;124mweek_number\u001b[39m\u001b[38;5;124m'\u001b[39m] \u001b[38;5;241m=\u001b[39m pred_data[[\u001b[38;5;124m'\u001b[39m\u001b[38;5;124mweek_number\u001b[39m\u001b[38;5;124m'\u001b[39m]]\n\u001b[1;32m      3\u001b[0m df_pred_final[\u001b[38;5;124m\"\u001b[39m\u001b[38;5;124mtotal_claims\u001b[39m\u001b[38;5;124m\"\u001b[39m] \u001b[38;5;241m=\u001b[39m prediction\n",
      "File \u001b[0;32m/opt/homebrew/lib/python3.9/site-packages/pandas/core/frame.py:3810\u001b[0m, in \u001b[0;36mDataFrame.__getitem__\u001b[0;34m(self, key)\u001b[0m\n\u001b[1;32m   3808\u001b[0m     \u001b[38;5;28;01mif\u001b[39;00m is_iterator(key):\n\u001b[1;32m   3809\u001b[0m         key \u001b[38;5;241m=\u001b[39m \u001b[38;5;28mlist\u001b[39m(key)\n\u001b[0;32m-> 3810\u001b[0m     indexer \u001b[38;5;241m=\u001b[39m \u001b[38;5;28;43mself\u001b[39;49m\u001b[38;5;241;43m.\u001b[39;49m\u001b[43mcolumns\u001b[49m\u001b[38;5;241;43m.\u001b[39;49m\u001b[43m_get_indexer_strict\u001b[49m\u001b[43m(\u001b[49m\u001b[43mkey\u001b[49m\u001b[43m,\u001b[49m\u001b[43m \u001b[49m\u001b[38;5;124;43m\"\u001b[39;49m\u001b[38;5;124;43mcolumns\u001b[39;49m\u001b[38;5;124;43m\"\u001b[39;49m\u001b[43m)\u001b[49m[\u001b[38;5;241m1\u001b[39m]\n\u001b[1;32m   3812\u001b[0m \u001b[38;5;66;03m# take() does not accept boolean indexers\u001b[39;00m\n\u001b[1;32m   3813\u001b[0m \u001b[38;5;28;01mif\u001b[39;00m \u001b[38;5;28mgetattr\u001b[39m(indexer, \u001b[38;5;124m\"\u001b[39m\u001b[38;5;124mdtype\u001b[39m\u001b[38;5;124m\"\u001b[39m, \u001b[38;5;28;01mNone\u001b[39;00m) \u001b[38;5;241m==\u001b[39m \u001b[38;5;28mbool\u001b[39m:\n",
      "File \u001b[0;32m/opt/homebrew/lib/python3.9/site-packages/pandas/core/indexes/base.py:6111\u001b[0m, in \u001b[0;36mIndex._get_indexer_strict\u001b[0;34m(self, key, axis_name)\u001b[0m\n\u001b[1;32m   6108\u001b[0m \u001b[38;5;28;01melse\u001b[39;00m:\n\u001b[1;32m   6109\u001b[0m     keyarr, indexer, new_indexer \u001b[38;5;241m=\u001b[39m \u001b[38;5;28mself\u001b[39m\u001b[38;5;241m.\u001b[39m_reindex_non_unique(keyarr)\n\u001b[0;32m-> 6111\u001b[0m \u001b[38;5;28;43mself\u001b[39;49m\u001b[38;5;241;43m.\u001b[39;49m\u001b[43m_raise_if_missing\u001b[49m\u001b[43m(\u001b[49m\u001b[43mkeyarr\u001b[49m\u001b[43m,\u001b[49m\u001b[43m \u001b[49m\u001b[43mindexer\u001b[49m\u001b[43m,\u001b[49m\u001b[43m \u001b[49m\u001b[43maxis_name\u001b[49m\u001b[43m)\u001b[49m\n\u001b[1;32m   6113\u001b[0m keyarr \u001b[38;5;241m=\u001b[39m \u001b[38;5;28mself\u001b[39m\u001b[38;5;241m.\u001b[39mtake(indexer)\n\u001b[1;32m   6114\u001b[0m \u001b[38;5;28;01mif\u001b[39;00m \u001b[38;5;28misinstance\u001b[39m(key, Index):\n\u001b[1;32m   6115\u001b[0m     \u001b[38;5;66;03m# GH 42790 - Preserve name from an Index\u001b[39;00m\n",
      "File \u001b[0;32m/opt/homebrew/lib/python3.9/site-packages/pandas/core/indexes/base.py:6171\u001b[0m, in \u001b[0;36mIndex._raise_if_missing\u001b[0;34m(self, key, indexer, axis_name)\u001b[0m\n\u001b[1;32m   6169\u001b[0m     \u001b[38;5;28;01mif\u001b[39;00m use_interval_msg:\n\u001b[1;32m   6170\u001b[0m         key \u001b[38;5;241m=\u001b[39m \u001b[38;5;28mlist\u001b[39m(key)\n\u001b[0;32m-> 6171\u001b[0m     \u001b[38;5;28;01mraise\u001b[39;00m \u001b[38;5;167;01mKeyError\u001b[39;00m(\u001b[38;5;124mf\u001b[39m\u001b[38;5;124m\"\u001b[39m\u001b[38;5;124mNone of [\u001b[39m\u001b[38;5;132;01m{\u001b[39;00mkey\u001b[38;5;132;01m}\u001b[39;00m\u001b[38;5;124m] are in the [\u001b[39m\u001b[38;5;132;01m{\u001b[39;00maxis_name\u001b[38;5;132;01m}\u001b[39;00m\u001b[38;5;124m]\u001b[39m\u001b[38;5;124m\"\u001b[39m)\n\u001b[1;32m   6173\u001b[0m not_found \u001b[38;5;241m=\u001b[39m \u001b[38;5;28mlist\u001b[39m(ensure_index(key)[missing_mask\u001b[38;5;241m.\u001b[39mnonzero()[\u001b[38;5;241m0\u001b[39m]]\u001b[38;5;241m.\u001b[39munique())\n\u001b[1;32m   6174\u001b[0m \u001b[38;5;28;01mraise\u001b[39;00m \u001b[38;5;167;01mKeyError\u001b[39;00m(\u001b[38;5;124mf\u001b[39m\u001b[38;5;124m\"\u001b[39m\u001b[38;5;132;01m{\u001b[39;00mnot_found\u001b[38;5;132;01m}\u001b[39;00m\u001b[38;5;124m not in index\u001b[39m\u001b[38;5;124m\"\u001b[39m)\n",
      "\u001b[0;31mKeyError\u001b[0m: \"None of [Index(['uu_id'], dtype='object')] are in the [columns]\""
     ]
    }
   ],
   "source": [
    "df_pred_final = pred_data[['uu_id']]\n",
    "df_pred_final['week_number'] = pred_data[['week_number']]\n",
    "df_pred_final[\"total_claims\"] = prediction"
   ]
  },
  {
   "cell_type": "code",
   "execution_count": 198,
   "id": "71170d58",
   "metadata": {
    "execution": {
     "iopub.execute_input": "2023-05-10T01:32:24.846092Z",
     "iopub.status.busy": "2023-05-10T01:32:24.845978Z",
     "iopub.status.idle": "2023-05-10T01:32:24.866328Z",
     "shell.execute_reply": "2023-05-10T01:32:24.865982Z"
    }
   },
   "outputs": [
    {
     "ename": "KeyError",
     "evalue": "\"None of [Index(['uu_id'], dtype='object')] are in the [columns]\"",
     "output_type": "error",
     "traceback": [
      "\u001b[0;31m---------------------------------------------------------------------------\u001b[0m",
      "\u001b[0;31mKeyError\u001b[0m                                  Traceback (most recent call last)",
      "Cell \u001b[0;32mIn [198], line 1\u001b[0m\n\u001b[0;32m----> 1\u001b[0m df_pred_final \u001b[38;5;241m=\u001b[39m \u001b[43mpred_data\u001b[49m\u001b[43m[\u001b[49m\u001b[43m[\u001b[49m\u001b[38;5;124;43m'\u001b[39;49m\u001b[38;5;124;43muu_id\u001b[39;49m\u001b[38;5;124;43m'\u001b[39;49m\u001b[43m]\u001b[49m\u001b[43m]\u001b[49m\n",
      "File \u001b[0;32m/opt/homebrew/lib/python3.9/site-packages/pandas/core/frame.py:3810\u001b[0m, in \u001b[0;36mDataFrame.__getitem__\u001b[0;34m(self, key)\u001b[0m\n\u001b[1;32m   3808\u001b[0m     \u001b[38;5;28;01mif\u001b[39;00m is_iterator(key):\n\u001b[1;32m   3809\u001b[0m         key \u001b[38;5;241m=\u001b[39m \u001b[38;5;28mlist\u001b[39m(key)\n\u001b[0;32m-> 3810\u001b[0m     indexer \u001b[38;5;241m=\u001b[39m \u001b[38;5;28;43mself\u001b[39;49m\u001b[38;5;241;43m.\u001b[39;49m\u001b[43mcolumns\u001b[49m\u001b[38;5;241;43m.\u001b[39;49m\u001b[43m_get_indexer_strict\u001b[49m\u001b[43m(\u001b[49m\u001b[43mkey\u001b[49m\u001b[43m,\u001b[49m\u001b[43m \u001b[49m\u001b[38;5;124;43m\"\u001b[39;49m\u001b[38;5;124;43mcolumns\u001b[39;49m\u001b[38;5;124;43m\"\u001b[39;49m\u001b[43m)\u001b[49m[\u001b[38;5;241m1\u001b[39m]\n\u001b[1;32m   3812\u001b[0m \u001b[38;5;66;03m# take() does not accept boolean indexers\u001b[39;00m\n\u001b[1;32m   3813\u001b[0m \u001b[38;5;28;01mif\u001b[39;00m \u001b[38;5;28mgetattr\u001b[39m(indexer, \u001b[38;5;124m\"\u001b[39m\u001b[38;5;124mdtype\u001b[39m\u001b[38;5;124m\"\u001b[39m, \u001b[38;5;28;01mNone\u001b[39;00m) \u001b[38;5;241m==\u001b[39m \u001b[38;5;28mbool\u001b[39m:\n",
      "File \u001b[0;32m/opt/homebrew/lib/python3.9/site-packages/pandas/core/indexes/base.py:6111\u001b[0m, in \u001b[0;36mIndex._get_indexer_strict\u001b[0;34m(self, key, axis_name)\u001b[0m\n\u001b[1;32m   6108\u001b[0m \u001b[38;5;28;01melse\u001b[39;00m:\n\u001b[1;32m   6109\u001b[0m     keyarr, indexer, new_indexer \u001b[38;5;241m=\u001b[39m \u001b[38;5;28mself\u001b[39m\u001b[38;5;241m.\u001b[39m_reindex_non_unique(keyarr)\n\u001b[0;32m-> 6111\u001b[0m \u001b[38;5;28;43mself\u001b[39;49m\u001b[38;5;241;43m.\u001b[39;49m\u001b[43m_raise_if_missing\u001b[49m\u001b[43m(\u001b[49m\u001b[43mkeyarr\u001b[49m\u001b[43m,\u001b[49m\u001b[43m \u001b[49m\u001b[43mindexer\u001b[49m\u001b[43m,\u001b[49m\u001b[43m \u001b[49m\u001b[43maxis_name\u001b[49m\u001b[43m)\u001b[49m\n\u001b[1;32m   6113\u001b[0m keyarr \u001b[38;5;241m=\u001b[39m \u001b[38;5;28mself\u001b[39m\u001b[38;5;241m.\u001b[39mtake(indexer)\n\u001b[1;32m   6114\u001b[0m \u001b[38;5;28;01mif\u001b[39;00m \u001b[38;5;28misinstance\u001b[39m(key, Index):\n\u001b[1;32m   6115\u001b[0m     \u001b[38;5;66;03m# GH 42790 - Preserve name from an Index\u001b[39;00m\n",
      "File \u001b[0;32m/opt/homebrew/lib/python3.9/site-packages/pandas/core/indexes/base.py:6171\u001b[0m, in \u001b[0;36mIndex._raise_if_missing\u001b[0;34m(self, key, indexer, axis_name)\u001b[0m\n\u001b[1;32m   6169\u001b[0m     \u001b[38;5;28;01mif\u001b[39;00m use_interval_msg:\n\u001b[1;32m   6170\u001b[0m         key \u001b[38;5;241m=\u001b[39m \u001b[38;5;28mlist\u001b[39m(key)\n\u001b[0;32m-> 6171\u001b[0m     \u001b[38;5;28;01mraise\u001b[39;00m \u001b[38;5;167;01mKeyError\u001b[39;00m(\u001b[38;5;124mf\u001b[39m\u001b[38;5;124m\"\u001b[39m\u001b[38;5;124mNone of [\u001b[39m\u001b[38;5;132;01m{\u001b[39;00mkey\u001b[38;5;132;01m}\u001b[39;00m\u001b[38;5;124m] are in the [\u001b[39m\u001b[38;5;132;01m{\u001b[39;00maxis_name\u001b[38;5;132;01m}\u001b[39;00m\u001b[38;5;124m]\u001b[39m\u001b[38;5;124m\"\u001b[39m)\n\u001b[1;32m   6173\u001b[0m not_found \u001b[38;5;241m=\u001b[39m \u001b[38;5;28mlist\u001b[39m(ensure_index(key)[missing_mask\u001b[38;5;241m.\u001b[39mnonzero()[\u001b[38;5;241m0\u001b[39m]]\u001b[38;5;241m.\u001b[39munique())\n\u001b[1;32m   6174\u001b[0m \u001b[38;5;28;01mraise\u001b[39;00m \u001b[38;5;167;01mKeyError\u001b[39;00m(\u001b[38;5;124mf\u001b[39m\u001b[38;5;124m\"\u001b[39m\u001b[38;5;132;01m{\u001b[39;00mnot_found\u001b[38;5;132;01m}\u001b[39;00m\u001b[38;5;124m not in index\u001b[39m\u001b[38;5;124m\"\u001b[39m)\n",
      "\u001b[0;31mKeyError\u001b[0m: \"None of [Index(['uu_id'], dtype='object')] are in the [columns]\""
     ]
    }
   ],
   "source": [
    "df_pred_final = pred_data[['uu_id']]"
   ]
  },
  {
   "cell_type": "code",
   "execution_count": 199,
   "id": "49db6edd",
   "metadata": {
    "execution": {
     "iopub.execute_input": "2023-05-10T01:32:24.868058Z",
     "iopub.status.busy": "2023-05-10T01:32:24.867947Z",
     "iopub.status.idle": "2023-05-10T01:32:24.935250Z",
     "shell.execute_reply": "2023-05-10T01:32:24.934855Z"
    }
   },
   "outputs": [
    {
     "ename": "KeyError",
     "evalue": "'uu_id'",
     "output_type": "error",
     "traceback": [
      "\u001b[0;31m---------------------------------------------------------------------------\u001b[0m",
      "\u001b[0;31mKeyError\u001b[0m                                  Traceback (most recent call last)",
      "File \u001b[0;32m/opt/homebrew/lib/python3.9/site-packages/pandas/core/indexes/base.py:3803\u001b[0m, in \u001b[0;36mIndex.get_loc\u001b[0;34m(self, key, method, tolerance)\u001b[0m\n\u001b[1;32m   3802\u001b[0m \u001b[38;5;28;01mtry\u001b[39;00m:\n\u001b[0;32m-> 3803\u001b[0m     \u001b[38;5;28;01mreturn\u001b[39;00m \u001b[38;5;28;43mself\u001b[39;49m\u001b[38;5;241;43m.\u001b[39;49m\u001b[43m_engine\u001b[49m\u001b[38;5;241;43m.\u001b[39;49m\u001b[43mget_loc\u001b[49m\u001b[43m(\u001b[49m\u001b[43mcasted_key\u001b[49m\u001b[43m)\u001b[49m\n\u001b[1;32m   3804\u001b[0m \u001b[38;5;28;01mexcept\u001b[39;00m \u001b[38;5;167;01mKeyError\u001b[39;00m \u001b[38;5;28;01mas\u001b[39;00m err:\n",
      "File \u001b[0;32m/opt/homebrew/lib/python3.9/site-packages/pandas/_libs/index.pyx:138\u001b[0m, in \u001b[0;36mpandas._libs.index.IndexEngine.get_loc\u001b[0;34m()\u001b[0m\n",
      "File \u001b[0;32m/opt/homebrew/lib/python3.9/site-packages/pandas/_libs/index.pyx:165\u001b[0m, in \u001b[0;36mpandas._libs.index.IndexEngine.get_loc\u001b[0;34m()\u001b[0m\n",
      "File \u001b[0;32mpandas/_libs/hashtable_class_helper.pxi:5745\u001b[0m, in \u001b[0;36mpandas._libs.hashtable.PyObjectHashTable.get_item\u001b[0;34m()\u001b[0m\n",
      "File \u001b[0;32mpandas/_libs/hashtable_class_helper.pxi:5753\u001b[0m, in \u001b[0;36mpandas._libs.hashtable.PyObjectHashTable.get_item\u001b[0;34m()\u001b[0m\n",
      "\u001b[0;31mKeyError\u001b[0m: 'uu_id'",
      "\nThe above exception was the direct cause of the following exception:\n",
      "\u001b[0;31mKeyError\u001b[0m                                  Traceback (most recent call last)",
      "Cell \u001b[0;32mIn [199], line 1\u001b[0m\n\u001b[0;32m----> 1\u001b[0m df_pred_final \u001b[38;5;241m=\u001b[39m \u001b[43mpred_data\u001b[49m\u001b[43m[\u001b[49m\u001b[38;5;124;43m'\u001b[39;49m\u001b[38;5;124;43muu_id\u001b[39;49m\u001b[38;5;124;43m'\u001b[39;49m\u001b[43m]\u001b[49m\n",
      "File \u001b[0;32m/opt/homebrew/lib/python3.9/site-packages/pandas/core/frame.py:3804\u001b[0m, in \u001b[0;36mDataFrame.__getitem__\u001b[0;34m(self, key)\u001b[0m\n\u001b[1;32m   3802\u001b[0m \u001b[38;5;28;01mif\u001b[39;00m \u001b[38;5;28mself\u001b[39m\u001b[38;5;241m.\u001b[39mcolumns\u001b[38;5;241m.\u001b[39mnlevels \u001b[38;5;241m>\u001b[39m \u001b[38;5;241m1\u001b[39m:\n\u001b[1;32m   3803\u001b[0m     \u001b[38;5;28;01mreturn\u001b[39;00m \u001b[38;5;28mself\u001b[39m\u001b[38;5;241m.\u001b[39m_getitem_multilevel(key)\n\u001b[0;32m-> 3804\u001b[0m indexer \u001b[38;5;241m=\u001b[39m \u001b[38;5;28;43mself\u001b[39;49m\u001b[38;5;241;43m.\u001b[39;49m\u001b[43mcolumns\u001b[49m\u001b[38;5;241;43m.\u001b[39;49m\u001b[43mget_loc\u001b[49m\u001b[43m(\u001b[49m\u001b[43mkey\u001b[49m\u001b[43m)\u001b[49m\n\u001b[1;32m   3805\u001b[0m \u001b[38;5;28;01mif\u001b[39;00m is_integer(indexer):\n\u001b[1;32m   3806\u001b[0m     indexer \u001b[38;5;241m=\u001b[39m [indexer]\n",
      "File \u001b[0;32m/opt/homebrew/lib/python3.9/site-packages/pandas/core/indexes/base.py:3805\u001b[0m, in \u001b[0;36mIndex.get_loc\u001b[0;34m(self, key, method, tolerance)\u001b[0m\n\u001b[1;32m   3803\u001b[0m     \u001b[38;5;28;01mreturn\u001b[39;00m \u001b[38;5;28mself\u001b[39m\u001b[38;5;241m.\u001b[39m_engine\u001b[38;5;241m.\u001b[39mget_loc(casted_key)\n\u001b[1;32m   3804\u001b[0m \u001b[38;5;28;01mexcept\u001b[39;00m \u001b[38;5;167;01mKeyError\u001b[39;00m \u001b[38;5;28;01mas\u001b[39;00m err:\n\u001b[0;32m-> 3805\u001b[0m     \u001b[38;5;28;01mraise\u001b[39;00m \u001b[38;5;167;01mKeyError\u001b[39;00m(key) \u001b[38;5;28;01mfrom\u001b[39;00m \u001b[38;5;21;01merr\u001b[39;00m\n\u001b[1;32m   3806\u001b[0m \u001b[38;5;28;01mexcept\u001b[39;00m \u001b[38;5;167;01mTypeError\u001b[39;00m:\n\u001b[1;32m   3807\u001b[0m     \u001b[38;5;66;03m# If we have a listlike key, _check_indexing_error will raise\u001b[39;00m\n\u001b[1;32m   3808\u001b[0m     \u001b[38;5;66;03m#  InvalidIndexError. Otherwise we fall through and re-raise\u001b[39;00m\n\u001b[1;32m   3809\u001b[0m     \u001b[38;5;66;03m#  the TypeError.\u001b[39;00m\n\u001b[1;32m   3810\u001b[0m     \u001b[38;5;28mself\u001b[39m\u001b[38;5;241m.\u001b[39m_check_indexing_error(key)\n",
      "\u001b[0;31mKeyError\u001b[0m: 'uu_id'"
     ]
    }
   ],
   "source": [
    "df_pred_final = pred_data['uu_id']"
   ]
  },
  {
   "cell_type": "code",
   "execution_count": 200,
   "id": "a8e29eda",
   "metadata": {
    "execution": {
     "iopub.execute_input": "2023-05-10T01:32:24.937066Z",
     "iopub.status.busy": "2023-05-10T01:32:24.936953Z",
     "iopub.status.idle": "2023-05-10T01:32:24.959588Z",
     "shell.execute_reply": "2023-05-10T01:32:24.959282Z"
    }
   },
   "outputs": [
    {
     "ename": "KeyError",
     "evalue": "'uu_id'",
     "output_type": "error",
     "traceback": [
      "\u001b[0;31m---------------------------------------------------------------------------\u001b[0m",
      "\u001b[0;31mKeyError\u001b[0m                                  Traceback (most recent call last)",
      "File \u001b[0;32m/opt/homebrew/lib/python3.9/site-packages/pandas/core/indexes/base.py:3803\u001b[0m, in \u001b[0;36mIndex.get_loc\u001b[0;34m(self, key, method, tolerance)\u001b[0m\n\u001b[1;32m   3802\u001b[0m \u001b[38;5;28;01mtry\u001b[39;00m:\n\u001b[0;32m-> 3803\u001b[0m     \u001b[38;5;28;01mreturn\u001b[39;00m \u001b[38;5;28;43mself\u001b[39;49m\u001b[38;5;241;43m.\u001b[39;49m\u001b[43m_engine\u001b[49m\u001b[38;5;241;43m.\u001b[39;49m\u001b[43mget_loc\u001b[49m\u001b[43m(\u001b[49m\u001b[43mcasted_key\u001b[49m\u001b[43m)\u001b[49m\n\u001b[1;32m   3804\u001b[0m \u001b[38;5;28;01mexcept\u001b[39;00m \u001b[38;5;167;01mKeyError\u001b[39;00m \u001b[38;5;28;01mas\u001b[39;00m err:\n",
      "File \u001b[0;32m/opt/homebrew/lib/python3.9/site-packages/pandas/_libs/index.pyx:138\u001b[0m, in \u001b[0;36mpandas._libs.index.IndexEngine.get_loc\u001b[0;34m()\u001b[0m\n",
      "File \u001b[0;32m/opt/homebrew/lib/python3.9/site-packages/pandas/_libs/index.pyx:165\u001b[0m, in \u001b[0;36mpandas._libs.index.IndexEngine.get_loc\u001b[0;34m()\u001b[0m\n",
      "File \u001b[0;32mpandas/_libs/hashtable_class_helper.pxi:5745\u001b[0m, in \u001b[0;36mpandas._libs.hashtable.PyObjectHashTable.get_item\u001b[0;34m()\u001b[0m\n",
      "File \u001b[0;32mpandas/_libs/hashtable_class_helper.pxi:5753\u001b[0m, in \u001b[0;36mpandas._libs.hashtable.PyObjectHashTable.get_item\u001b[0;34m()\u001b[0m\n",
      "\u001b[0;31mKeyError\u001b[0m: 'uu_id'",
      "\nThe above exception was the direct cause of the following exception:\n",
      "\u001b[0;31mKeyError\u001b[0m                                  Traceback (most recent call last)",
      "Cell \u001b[0;32mIn [200], line 1\u001b[0m\n\u001b[0;32m----> 1\u001b[0m df_pred_final[\u001b[38;5;124m'\u001b[39m\u001b[38;5;124muu_id\u001b[39m\u001b[38;5;124m'\u001b[39m] \u001b[38;5;241m=\u001b[39m \u001b[43mpred_data\u001b[49m\u001b[43m[\u001b[49m\u001b[38;5;124;43m'\u001b[39;49m\u001b[38;5;124;43muu_id\u001b[39;49m\u001b[38;5;124;43m'\u001b[39;49m\u001b[43m]\u001b[49m\n",
      "File \u001b[0;32m/opt/homebrew/lib/python3.9/site-packages/pandas/core/frame.py:3804\u001b[0m, in \u001b[0;36mDataFrame.__getitem__\u001b[0;34m(self, key)\u001b[0m\n\u001b[1;32m   3802\u001b[0m \u001b[38;5;28;01mif\u001b[39;00m \u001b[38;5;28mself\u001b[39m\u001b[38;5;241m.\u001b[39mcolumns\u001b[38;5;241m.\u001b[39mnlevels \u001b[38;5;241m>\u001b[39m \u001b[38;5;241m1\u001b[39m:\n\u001b[1;32m   3803\u001b[0m     \u001b[38;5;28;01mreturn\u001b[39;00m \u001b[38;5;28mself\u001b[39m\u001b[38;5;241m.\u001b[39m_getitem_multilevel(key)\n\u001b[0;32m-> 3804\u001b[0m indexer \u001b[38;5;241m=\u001b[39m \u001b[38;5;28;43mself\u001b[39;49m\u001b[38;5;241;43m.\u001b[39;49m\u001b[43mcolumns\u001b[49m\u001b[38;5;241;43m.\u001b[39;49m\u001b[43mget_loc\u001b[49m\u001b[43m(\u001b[49m\u001b[43mkey\u001b[49m\u001b[43m)\u001b[49m\n\u001b[1;32m   3805\u001b[0m \u001b[38;5;28;01mif\u001b[39;00m is_integer(indexer):\n\u001b[1;32m   3806\u001b[0m     indexer \u001b[38;5;241m=\u001b[39m [indexer]\n",
      "File \u001b[0;32m/opt/homebrew/lib/python3.9/site-packages/pandas/core/indexes/base.py:3805\u001b[0m, in \u001b[0;36mIndex.get_loc\u001b[0;34m(self, key, method, tolerance)\u001b[0m\n\u001b[1;32m   3803\u001b[0m     \u001b[38;5;28;01mreturn\u001b[39;00m \u001b[38;5;28mself\u001b[39m\u001b[38;5;241m.\u001b[39m_engine\u001b[38;5;241m.\u001b[39mget_loc(casted_key)\n\u001b[1;32m   3804\u001b[0m \u001b[38;5;28;01mexcept\u001b[39;00m \u001b[38;5;167;01mKeyError\u001b[39;00m \u001b[38;5;28;01mas\u001b[39;00m err:\n\u001b[0;32m-> 3805\u001b[0m     \u001b[38;5;28;01mraise\u001b[39;00m \u001b[38;5;167;01mKeyError\u001b[39;00m(key) \u001b[38;5;28;01mfrom\u001b[39;00m \u001b[38;5;21;01merr\u001b[39;00m\n\u001b[1;32m   3806\u001b[0m \u001b[38;5;28;01mexcept\u001b[39;00m \u001b[38;5;167;01mTypeError\u001b[39;00m:\n\u001b[1;32m   3807\u001b[0m     \u001b[38;5;66;03m# If we have a listlike key, _check_indexing_error will raise\u001b[39;00m\n\u001b[1;32m   3808\u001b[0m     \u001b[38;5;66;03m#  InvalidIndexError. Otherwise we fall through and re-raise\u001b[39;00m\n\u001b[1;32m   3809\u001b[0m     \u001b[38;5;66;03m#  the TypeError.\u001b[39;00m\n\u001b[1;32m   3810\u001b[0m     \u001b[38;5;28mself\u001b[39m\u001b[38;5;241m.\u001b[39m_check_indexing_error(key)\n",
      "\u001b[0;31mKeyError\u001b[0m: 'uu_id'"
     ]
    }
   ],
   "source": [
    "df_pred_final['uu_id'] = pred_data['uu_id']"
   ]
  },
  {
   "cell_type": "code",
   "execution_count": 201,
   "id": "d3e0e885",
   "metadata": {
    "execution": {
     "iopub.execute_input": "2023-05-10T01:32:24.961205Z",
     "iopub.status.busy": "2023-05-10T01:32:24.961092Z",
     "iopub.status.idle": "2023-05-10T01:32:24.980452Z",
     "shell.execute_reply": "2023-05-10T01:32:24.980151Z"
    }
   },
   "outputs": [
    {
     "ename": "KeyError",
     "evalue": "\"None of [Index(['uu_id'], dtype='object')] are in the [columns]\"",
     "output_type": "error",
     "traceback": [
      "\u001b[0;31m---------------------------------------------------------------------------\u001b[0m",
      "\u001b[0;31mKeyError\u001b[0m                                  Traceback (most recent call last)",
      "Cell \u001b[0;32mIn [201], line 1\u001b[0m\n\u001b[0;32m----> 1\u001b[0m df_pred_final[\u001b[38;5;124m'\u001b[39m\u001b[38;5;124muu_id\u001b[39m\u001b[38;5;124m'\u001b[39m] \u001b[38;5;241m=\u001b[39m \u001b[43mpred_data\u001b[49m\u001b[43m[\u001b[49m\u001b[43m[\u001b[49m\u001b[38;5;124;43m'\u001b[39;49m\u001b[38;5;124;43muu_id\u001b[39;49m\u001b[38;5;124;43m'\u001b[39;49m\u001b[43m]\u001b[49m\u001b[43m]\u001b[49m\n",
      "File \u001b[0;32m/opt/homebrew/lib/python3.9/site-packages/pandas/core/frame.py:3810\u001b[0m, in \u001b[0;36mDataFrame.__getitem__\u001b[0;34m(self, key)\u001b[0m\n\u001b[1;32m   3808\u001b[0m     \u001b[38;5;28;01mif\u001b[39;00m is_iterator(key):\n\u001b[1;32m   3809\u001b[0m         key \u001b[38;5;241m=\u001b[39m \u001b[38;5;28mlist\u001b[39m(key)\n\u001b[0;32m-> 3810\u001b[0m     indexer \u001b[38;5;241m=\u001b[39m \u001b[38;5;28;43mself\u001b[39;49m\u001b[38;5;241;43m.\u001b[39;49m\u001b[43mcolumns\u001b[49m\u001b[38;5;241;43m.\u001b[39;49m\u001b[43m_get_indexer_strict\u001b[49m\u001b[43m(\u001b[49m\u001b[43mkey\u001b[49m\u001b[43m,\u001b[49m\u001b[43m \u001b[49m\u001b[38;5;124;43m\"\u001b[39;49m\u001b[38;5;124;43mcolumns\u001b[39;49m\u001b[38;5;124;43m\"\u001b[39;49m\u001b[43m)\u001b[49m[\u001b[38;5;241m1\u001b[39m]\n\u001b[1;32m   3812\u001b[0m \u001b[38;5;66;03m# take() does not accept boolean indexers\u001b[39;00m\n\u001b[1;32m   3813\u001b[0m \u001b[38;5;28;01mif\u001b[39;00m \u001b[38;5;28mgetattr\u001b[39m(indexer, \u001b[38;5;124m\"\u001b[39m\u001b[38;5;124mdtype\u001b[39m\u001b[38;5;124m\"\u001b[39m, \u001b[38;5;28;01mNone\u001b[39;00m) \u001b[38;5;241m==\u001b[39m \u001b[38;5;28mbool\u001b[39m:\n",
      "File \u001b[0;32m/opt/homebrew/lib/python3.9/site-packages/pandas/core/indexes/base.py:6111\u001b[0m, in \u001b[0;36mIndex._get_indexer_strict\u001b[0;34m(self, key, axis_name)\u001b[0m\n\u001b[1;32m   6108\u001b[0m \u001b[38;5;28;01melse\u001b[39;00m:\n\u001b[1;32m   6109\u001b[0m     keyarr, indexer, new_indexer \u001b[38;5;241m=\u001b[39m \u001b[38;5;28mself\u001b[39m\u001b[38;5;241m.\u001b[39m_reindex_non_unique(keyarr)\n\u001b[0;32m-> 6111\u001b[0m \u001b[38;5;28;43mself\u001b[39;49m\u001b[38;5;241;43m.\u001b[39;49m\u001b[43m_raise_if_missing\u001b[49m\u001b[43m(\u001b[49m\u001b[43mkeyarr\u001b[49m\u001b[43m,\u001b[49m\u001b[43m \u001b[49m\u001b[43mindexer\u001b[49m\u001b[43m,\u001b[49m\u001b[43m \u001b[49m\u001b[43maxis_name\u001b[49m\u001b[43m)\u001b[49m\n\u001b[1;32m   6113\u001b[0m keyarr \u001b[38;5;241m=\u001b[39m \u001b[38;5;28mself\u001b[39m\u001b[38;5;241m.\u001b[39mtake(indexer)\n\u001b[1;32m   6114\u001b[0m \u001b[38;5;28;01mif\u001b[39;00m \u001b[38;5;28misinstance\u001b[39m(key, Index):\n\u001b[1;32m   6115\u001b[0m     \u001b[38;5;66;03m# GH 42790 - Preserve name from an Index\u001b[39;00m\n",
      "File \u001b[0;32m/opt/homebrew/lib/python3.9/site-packages/pandas/core/indexes/base.py:6171\u001b[0m, in \u001b[0;36mIndex._raise_if_missing\u001b[0;34m(self, key, indexer, axis_name)\u001b[0m\n\u001b[1;32m   6169\u001b[0m     \u001b[38;5;28;01mif\u001b[39;00m use_interval_msg:\n\u001b[1;32m   6170\u001b[0m         key \u001b[38;5;241m=\u001b[39m \u001b[38;5;28mlist\u001b[39m(key)\n\u001b[0;32m-> 6171\u001b[0m     \u001b[38;5;28;01mraise\u001b[39;00m \u001b[38;5;167;01mKeyError\u001b[39;00m(\u001b[38;5;124mf\u001b[39m\u001b[38;5;124m\"\u001b[39m\u001b[38;5;124mNone of [\u001b[39m\u001b[38;5;132;01m{\u001b[39;00mkey\u001b[38;5;132;01m}\u001b[39;00m\u001b[38;5;124m] are in the [\u001b[39m\u001b[38;5;132;01m{\u001b[39;00maxis_name\u001b[38;5;132;01m}\u001b[39;00m\u001b[38;5;124m]\u001b[39m\u001b[38;5;124m\"\u001b[39m)\n\u001b[1;32m   6173\u001b[0m not_found \u001b[38;5;241m=\u001b[39m \u001b[38;5;28mlist\u001b[39m(ensure_index(key)[missing_mask\u001b[38;5;241m.\u001b[39mnonzero()[\u001b[38;5;241m0\u001b[39m]]\u001b[38;5;241m.\u001b[39munique())\n\u001b[1;32m   6174\u001b[0m \u001b[38;5;28;01mraise\u001b[39;00m \u001b[38;5;167;01mKeyError\u001b[39;00m(\u001b[38;5;124mf\u001b[39m\u001b[38;5;124m\"\u001b[39m\u001b[38;5;132;01m{\u001b[39;00mnot_found\u001b[38;5;132;01m}\u001b[39;00m\u001b[38;5;124m not in index\u001b[39m\u001b[38;5;124m\"\u001b[39m)\n",
      "\u001b[0;31mKeyError\u001b[0m: \"None of [Index(['uu_id'], dtype='object')] are in the [columns]\""
     ]
    }
   ],
   "source": [
    "df_pred_final['uu_id'] = pred_data[['uu_id']]"
   ]
  },
  {
   "cell_type": "code",
   "execution_count": 202,
   "id": "bc53701d",
   "metadata": {
    "execution": {
     "iopub.execute_input": "2023-05-10T01:32:24.981876Z",
     "iopub.status.busy": "2023-05-10T01:32:24.981791Z",
     "iopub.status.idle": "2023-05-10T01:32:25.001249Z",
     "shell.execute_reply": "2023-05-10T01:32:25.000975Z"
    }
   },
   "outputs": [
    {
     "ename": "KeyError",
     "evalue": "\"None of [Index(['uu_id'], dtype='object')] are in the [columns]\"",
     "output_type": "error",
     "traceback": [
      "\u001b[0;31m---------------------------------------------------------------------------\u001b[0m",
      "\u001b[0;31mKeyError\u001b[0m                                  Traceback (most recent call last)",
      "Cell \u001b[0;32mIn [202], line 1\u001b[0m\n\u001b[0;32m----> 1\u001b[0m df_pred_final1[\u001b[38;5;124m'\u001b[39m\u001b[38;5;124muu_id\u001b[39m\u001b[38;5;124m'\u001b[39m] \u001b[38;5;241m=\u001b[39m \u001b[43mpred_data\u001b[49m\u001b[43m[\u001b[49m\u001b[43m[\u001b[49m\u001b[38;5;124;43m'\u001b[39;49m\u001b[38;5;124;43muu_id\u001b[39;49m\u001b[38;5;124;43m'\u001b[39;49m\u001b[43m]\u001b[49m\u001b[43m]\u001b[49m\n",
      "File \u001b[0;32m/opt/homebrew/lib/python3.9/site-packages/pandas/core/frame.py:3810\u001b[0m, in \u001b[0;36mDataFrame.__getitem__\u001b[0;34m(self, key)\u001b[0m\n\u001b[1;32m   3808\u001b[0m     \u001b[38;5;28;01mif\u001b[39;00m is_iterator(key):\n\u001b[1;32m   3809\u001b[0m         key \u001b[38;5;241m=\u001b[39m \u001b[38;5;28mlist\u001b[39m(key)\n\u001b[0;32m-> 3810\u001b[0m     indexer \u001b[38;5;241m=\u001b[39m \u001b[38;5;28;43mself\u001b[39;49m\u001b[38;5;241;43m.\u001b[39;49m\u001b[43mcolumns\u001b[49m\u001b[38;5;241;43m.\u001b[39;49m\u001b[43m_get_indexer_strict\u001b[49m\u001b[43m(\u001b[49m\u001b[43mkey\u001b[49m\u001b[43m,\u001b[49m\u001b[43m \u001b[49m\u001b[38;5;124;43m\"\u001b[39;49m\u001b[38;5;124;43mcolumns\u001b[39;49m\u001b[38;5;124;43m\"\u001b[39;49m\u001b[43m)\u001b[49m[\u001b[38;5;241m1\u001b[39m]\n\u001b[1;32m   3812\u001b[0m \u001b[38;5;66;03m# take() does not accept boolean indexers\u001b[39;00m\n\u001b[1;32m   3813\u001b[0m \u001b[38;5;28;01mif\u001b[39;00m \u001b[38;5;28mgetattr\u001b[39m(indexer, \u001b[38;5;124m\"\u001b[39m\u001b[38;5;124mdtype\u001b[39m\u001b[38;5;124m\"\u001b[39m, \u001b[38;5;28;01mNone\u001b[39;00m) \u001b[38;5;241m==\u001b[39m \u001b[38;5;28mbool\u001b[39m:\n",
      "File \u001b[0;32m/opt/homebrew/lib/python3.9/site-packages/pandas/core/indexes/base.py:6111\u001b[0m, in \u001b[0;36mIndex._get_indexer_strict\u001b[0;34m(self, key, axis_name)\u001b[0m\n\u001b[1;32m   6108\u001b[0m \u001b[38;5;28;01melse\u001b[39;00m:\n\u001b[1;32m   6109\u001b[0m     keyarr, indexer, new_indexer \u001b[38;5;241m=\u001b[39m \u001b[38;5;28mself\u001b[39m\u001b[38;5;241m.\u001b[39m_reindex_non_unique(keyarr)\n\u001b[0;32m-> 6111\u001b[0m \u001b[38;5;28;43mself\u001b[39;49m\u001b[38;5;241;43m.\u001b[39;49m\u001b[43m_raise_if_missing\u001b[49m\u001b[43m(\u001b[49m\u001b[43mkeyarr\u001b[49m\u001b[43m,\u001b[49m\u001b[43m \u001b[49m\u001b[43mindexer\u001b[49m\u001b[43m,\u001b[49m\u001b[43m \u001b[49m\u001b[43maxis_name\u001b[49m\u001b[43m)\u001b[49m\n\u001b[1;32m   6113\u001b[0m keyarr \u001b[38;5;241m=\u001b[39m \u001b[38;5;28mself\u001b[39m\u001b[38;5;241m.\u001b[39mtake(indexer)\n\u001b[1;32m   6114\u001b[0m \u001b[38;5;28;01mif\u001b[39;00m \u001b[38;5;28misinstance\u001b[39m(key, Index):\n\u001b[1;32m   6115\u001b[0m     \u001b[38;5;66;03m# GH 42790 - Preserve name from an Index\u001b[39;00m\n",
      "File \u001b[0;32m/opt/homebrew/lib/python3.9/site-packages/pandas/core/indexes/base.py:6171\u001b[0m, in \u001b[0;36mIndex._raise_if_missing\u001b[0;34m(self, key, indexer, axis_name)\u001b[0m\n\u001b[1;32m   6169\u001b[0m     \u001b[38;5;28;01mif\u001b[39;00m use_interval_msg:\n\u001b[1;32m   6170\u001b[0m         key \u001b[38;5;241m=\u001b[39m \u001b[38;5;28mlist\u001b[39m(key)\n\u001b[0;32m-> 6171\u001b[0m     \u001b[38;5;28;01mraise\u001b[39;00m \u001b[38;5;167;01mKeyError\u001b[39;00m(\u001b[38;5;124mf\u001b[39m\u001b[38;5;124m\"\u001b[39m\u001b[38;5;124mNone of [\u001b[39m\u001b[38;5;132;01m{\u001b[39;00mkey\u001b[38;5;132;01m}\u001b[39;00m\u001b[38;5;124m] are in the [\u001b[39m\u001b[38;5;132;01m{\u001b[39;00maxis_name\u001b[38;5;132;01m}\u001b[39;00m\u001b[38;5;124m]\u001b[39m\u001b[38;5;124m\"\u001b[39m)\n\u001b[1;32m   6173\u001b[0m not_found \u001b[38;5;241m=\u001b[39m \u001b[38;5;28mlist\u001b[39m(ensure_index(key)[missing_mask\u001b[38;5;241m.\u001b[39mnonzero()[\u001b[38;5;241m0\u001b[39m]]\u001b[38;5;241m.\u001b[39munique())\n\u001b[1;32m   6174\u001b[0m \u001b[38;5;28;01mraise\u001b[39;00m \u001b[38;5;167;01mKeyError\u001b[39;00m(\u001b[38;5;124mf\u001b[39m\u001b[38;5;124m\"\u001b[39m\u001b[38;5;132;01m{\u001b[39;00mnot_found\u001b[38;5;132;01m}\u001b[39;00m\u001b[38;5;124m not in index\u001b[39m\u001b[38;5;124m\"\u001b[39m)\n",
      "\u001b[0;31mKeyError\u001b[0m: \"None of [Index(['uu_id'], dtype='object')] are in the [columns]\""
     ]
    }
   ],
   "source": [
    "df_pred_final1['uu_id'] = pred_data[['uu_id']]"
   ]
  },
  {
   "cell_type": "code",
   "execution_count": 203,
   "id": "4d00abd7",
   "metadata": {
    "execution": {
     "iopub.execute_input": "2023-05-10T01:32:25.002668Z",
     "iopub.status.busy": "2023-05-10T01:32:25.002587Z",
     "iopub.status.idle": "2023-05-10T01:32:25.021238Z",
     "shell.execute_reply": "2023-05-10T01:32:25.020951Z"
    }
   },
   "outputs": [
    {
     "ename": "KeyError",
     "evalue": "\"None of [Index(['uu_id'], dtype='object')] are in the [columns]\"",
     "output_type": "error",
     "traceback": [
      "\u001b[0;31m---------------------------------------------------------------------------\u001b[0m",
      "\u001b[0;31mKeyError\u001b[0m                                  Traceback (most recent call last)",
      "Cell \u001b[0;32mIn [203], line 1\u001b[0m\n\u001b[0;32m----> 1\u001b[0m df_pred_final2 \u001b[38;5;241m=\u001b[39m \u001b[43mpred_data\u001b[49m\u001b[43m[\u001b[49m\u001b[43m[\u001b[49m\u001b[38;5;124;43m'\u001b[39;49m\u001b[38;5;124;43muu_id\u001b[39;49m\u001b[38;5;124;43m'\u001b[39;49m\u001b[43m]\u001b[49m\u001b[43m]\u001b[49m\n",
      "File \u001b[0;32m/opt/homebrew/lib/python3.9/site-packages/pandas/core/frame.py:3810\u001b[0m, in \u001b[0;36mDataFrame.__getitem__\u001b[0;34m(self, key)\u001b[0m\n\u001b[1;32m   3808\u001b[0m     \u001b[38;5;28;01mif\u001b[39;00m is_iterator(key):\n\u001b[1;32m   3809\u001b[0m         key \u001b[38;5;241m=\u001b[39m \u001b[38;5;28mlist\u001b[39m(key)\n\u001b[0;32m-> 3810\u001b[0m     indexer \u001b[38;5;241m=\u001b[39m \u001b[38;5;28;43mself\u001b[39;49m\u001b[38;5;241;43m.\u001b[39;49m\u001b[43mcolumns\u001b[49m\u001b[38;5;241;43m.\u001b[39;49m\u001b[43m_get_indexer_strict\u001b[49m\u001b[43m(\u001b[49m\u001b[43mkey\u001b[49m\u001b[43m,\u001b[49m\u001b[43m \u001b[49m\u001b[38;5;124;43m\"\u001b[39;49m\u001b[38;5;124;43mcolumns\u001b[39;49m\u001b[38;5;124;43m\"\u001b[39;49m\u001b[43m)\u001b[49m[\u001b[38;5;241m1\u001b[39m]\n\u001b[1;32m   3812\u001b[0m \u001b[38;5;66;03m# take() does not accept boolean indexers\u001b[39;00m\n\u001b[1;32m   3813\u001b[0m \u001b[38;5;28;01mif\u001b[39;00m \u001b[38;5;28mgetattr\u001b[39m(indexer, \u001b[38;5;124m\"\u001b[39m\u001b[38;5;124mdtype\u001b[39m\u001b[38;5;124m\"\u001b[39m, \u001b[38;5;28;01mNone\u001b[39;00m) \u001b[38;5;241m==\u001b[39m \u001b[38;5;28mbool\u001b[39m:\n",
      "File \u001b[0;32m/opt/homebrew/lib/python3.9/site-packages/pandas/core/indexes/base.py:6111\u001b[0m, in \u001b[0;36mIndex._get_indexer_strict\u001b[0;34m(self, key, axis_name)\u001b[0m\n\u001b[1;32m   6108\u001b[0m \u001b[38;5;28;01melse\u001b[39;00m:\n\u001b[1;32m   6109\u001b[0m     keyarr, indexer, new_indexer \u001b[38;5;241m=\u001b[39m \u001b[38;5;28mself\u001b[39m\u001b[38;5;241m.\u001b[39m_reindex_non_unique(keyarr)\n\u001b[0;32m-> 6111\u001b[0m \u001b[38;5;28;43mself\u001b[39;49m\u001b[38;5;241;43m.\u001b[39;49m\u001b[43m_raise_if_missing\u001b[49m\u001b[43m(\u001b[49m\u001b[43mkeyarr\u001b[49m\u001b[43m,\u001b[49m\u001b[43m \u001b[49m\u001b[43mindexer\u001b[49m\u001b[43m,\u001b[49m\u001b[43m \u001b[49m\u001b[43maxis_name\u001b[49m\u001b[43m)\u001b[49m\n\u001b[1;32m   6113\u001b[0m keyarr \u001b[38;5;241m=\u001b[39m \u001b[38;5;28mself\u001b[39m\u001b[38;5;241m.\u001b[39mtake(indexer)\n\u001b[1;32m   6114\u001b[0m \u001b[38;5;28;01mif\u001b[39;00m \u001b[38;5;28misinstance\u001b[39m(key, Index):\n\u001b[1;32m   6115\u001b[0m     \u001b[38;5;66;03m# GH 42790 - Preserve name from an Index\u001b[39;00m\n",
      "File \u001b[0;32m/opt/homebrew/lib/python3.9/site-packages/pandas/core/indexes/base.py:6171\u001b[0m, in \u001b[0;36mIndex._raise_if_missing\u001b[0;34m(self, key, indexer, axis_name)\u001b[0m\n\u001b[1;32m   6169\u001b[0m     \u001b[38;5;28;01mif\u001b[39;00m use_interval_msg:\n\u001b[1;32m   6170\u001b[0m         key \u001b[38;5;241m=\u001b[39m \u001b[38;5;28mlist\u001b[39m(key)\n\u001b[0;32m-> 6171\u001b[0m     \u001b[38;5;28;01mraise\u001b[39;00m \u001b[38;5;167;01mKeyError\u001b[39;00m(\u001b[38;5;124mf\u001b[39m\u001b[38;5;124m\"\u001b[39m\u001b[38;5;124mNone of [\u001b[39m\u001b[38;5;132;01m{\u001b[39;00mkey\u001b[38;5;132;01m}\u001b[39;00m\u001b[38;5;124m] are in the [\u001b[39m\u001b[38;5;132;01m{\u001b[39;00maxis_name\u001b[38;5;132;01m}\u001b[39;00m\u001b[38;5;124m]\u001b[39m\u001b[38;5;124m\"\u001b[39m)\n\u001b[1;32m   6173\u001b[0m not_found \u001b[38;5;241m=\u001b[39m \u001b[38;5;28mlist\u001b[39m(ensure_index(key)[missing_mask\u001b[38;5;241m.\u001b[39mnonzero()[\u001b[38;5;241m0\u001b[39m]]\u001b[38;5;241m.\u001b[39munique())\n\u001b[1;32m   6174\u001b[0m \u001b[38;5;28;01mraise\u001b[39;00m \u001b[38;5;167;01mKeyError\u001b[39;00m(\u001b[38;5;124mf\u001b[39m\u001b[38;5;124m\"\u001b[39m\u001b[38;5;132;01m{\u001b[39;00mnot_found\u001b[38;5;132;01m}\u001b[39;00m\u001b[38;5;124m not in index\u001b[39m\u001b[38;5;124m\"\u001b[39m)\n",
      "\u001b[0;31mKeyError\u001b[0m: \"None of [Index(['uu_id'], dtype='object')] are in the [columns]\""
     ]
    }
   ],
   "source": [
    "df_pred_final2 = pred_data[['uu_id']]"
   ]
  },
  {
   "cell_type": "code",
   "execution_count": 204,
   "id": "dd3dbe0c",
   "metadata": {
    "execution": {
     "iopub.execute_input": "2023-05-10T01:32:25.022633Z",
     "iopub.status.busy": "2023-05-10T01:32:25.022552Z",
     "iopub.status.idle": "2023-05-10T01:32:25.041731Z",
     "shell.execute_reply": "2023-05-10T01:32:25.041466Z"
    }
   },
   "outputs": [
    {
     "ename": "ValueError",
     "evalue": "Length of values (16833) does not match length of index (525)",
     "output_type": "error",
     "traceback": [
      "\u001b[0;31m---------------------------------------------------------------------------\u001b[0m",
      "\u001b[0;31mValueError\u001b[0m                                Traceback (most recent call last)",
      "Cell \u001b[0;32mIn [204], line 2\u001b[0m\n\u001b[1;32m      1\u001b[0m df_pred_final[\u001b[38;5;124m'\u001b[39m\u001b[38;5;124mweek_number\u001b[39m\u001b[38;5;124m'\u001b[39m] \u001b[38;5;241m=\u001b[39m pred_data[[\u001b[38;5;124m'\u001b[39m\u001b[38;5;124mweek_number\u001b[39m\u001b[38;5;124m'\u001b[39m]]\n\u001b[0;32m----> 2\u001b[0m \u001b[43mdf_pred_final\u001b[49m\u001b[43m[\u001b[49m\u001b[38;5;124;43m\"\u001b[39;49m\u001b[38;5;124;43mtotal_claims\u001b[39;49m\u001b[38;5;124;43m\"\u001b[39;49m\u001b[43m]\u001b[49m \u001b[38;5;241m=\u001b[39m prediction\n",
      "File \u001b[0;32m/opt/homebrew/lib/python3.9/site-packages/pandas/core/frame.py:3977\u001b[0m, in \u001b[0;36mDataFrame.__setitem__\u001b[0;34m(self, key, value)\u001b[0m\n\u001b[1;32m   3974\u001b[0m     \u001b[38;5;28mself\u001b[39m\u001b[38;5;241m.\u001b[39m_setitem_array([key], value)\n\u001b[1;32m   3975\u001b[0m \u001b[38;5;28;01melse\u001b[39;00m:\n\u001b[1;32m   3976\u001b[0m     \u001b[38;5;66;03m# set column\u001b[39;00m\n\u001b[0;32m-> 3977\u001b[0m     \u001b[38;5;28;43mself\u001b[39;49m\u001b[38;5;241;43m.\u001b[39;49m\u001b[43m_set_item\u001b[49m\u001b[43m(\u001b[49m\u001b[43mkey\u001b[49m\u001b[43m,\u001b[49m\u001b[43m \u001b[49m\u001b[43mvalue\u001b[49m\u001b[43m)\u001b[49m\n",
      "File \u001b[0;32m/opt/homebrew/lib/python3.9/site-packages/pandas/core/frame.py:4171\u001b[0m, in \u001b[0;36mDataFrame._set_item\u001b[0;34m(self, key, value)\u001b[0m\n\u001b[1;32m   4161\u001b[0m \u001b[38;5;28;01mdef\u001b[39;00m \u001b[38;5;21m_set_item\u001b[39m(\u001b[38;5;28mself\u001b[39m, key, value) \u001b[38;5;241m-\u001b[39m\u001b[38;5;241m>\u001b[39m \u001b[38;5;28;01mNone\u001b[39;00m:\n\u001b[1;32m   4162\u001b[0m     \u001b[38;5;124;03m\"\"\"\u001b[39;00m\n\u001b[1;32m   4163\u001b[0m \u001b[38;5;124;03m    Add series to DataFrame in specified column.\u001b[39;00m\n\u001b[1;32m   4164\u001b[0m \n\u001b[0;32m   (...)\u001b[0m\n\u001b[1;32m   4169\u001b[0m \u001b[38;5;124;03m    ensure homogeneity.\u001b[39;00m\n\u001b[1;32m   4170\u001b[0m \u001b[38;5;124;03m    \"\"\"\u001b[39;00m\n\u001b[0;32m-> 4171\u001b[0m     value \u001b[38;5;241m=\u001b[39m \u001b[38;5;28;43mself\u001b[39;49m\u001b[38;5;241;43m.\u001b[39;49m\u001b[43m_sanitize_column\u001b[49m\u001b[43m(\u001b[49m\u001b[43mvalue\u001b[49m\u001b[43m)\u001b[49m\n\u001b[1;32m   4173\u001b[0m     \u001b[38;5;28;01mif\u001b[39;00m (\n\u001b[1;32m   4174\u001b[0m         key \u001b[38;5;129;01min\u001b[39;00m \u001b[38;5;28mself\u001b[39m\u001b[38;5;241m.\u001b[39mcolumns\n\u001b[1;32m   4175\u001b[0m         \u001b[38;5;129;01mand\u001b[39;00m value\u001b[38;5;241m.\u001b[39mndim \u001b[38;5;241m==\u001b[39m \u001b[38;5;241m1\u001b[39m\n\u001b[1;32m   4176\u001b[0m         \u001b[38;5;129;01mand\u001b[39;00m \u001b[38;5;129;01mnot\u001b[39;00m is_extension_array_dtype(value)\n\u001b[1;32m   4177\u001b[0m     ):\n\u001b[1;32m   4178\u001b[0m         \u001b[38;5;66;03m# broadcast across multiple columns if necessary\u001b[39;00m\n\u001b[1;32m   4179\u001b[0m         \u001b[38;5;28;01mif\u001b[39;00m \u001b[38;5;129;01mnot\u001b[39;00m \u001b[38;5;28mself\u001b[39m\u001b[38;5;241m.\u001b[39mcolumns\u001b[38;5;241m.\u001b[39mis_unique \u001b[38;5;129;01mor\u001b[39;00m \u001b[38;5;28misinstance\u001b[39m(\u001b[38;5;28mself\u001b[39m\u001b[38;5;241m.\u001b[39mcolumns, MultiIndex):\n",
      "File \u001b[0;32m/opt/homebrew/lib/python3.9/site-packages/pandas/core/frame.py:4904\u001b[0m, in \u001b[0;36mDataFrame._sanitize_column\u001b[0;34m(self, value)\u001b[0m\n\u001b[1;32m   4901\u001b[0m     \u001b[38;5;28;01mreturn\u001b[39;00m _reindex_for_setitem(Series(value), \u001b[38;5;28mself\u001b[39m\u001b[38;5;241m.\u001b[39mindex)\n\u001b[1;32m   4903\u001b[0m \u001b[38;5;28;01mif\u001b[39;00m is_list_like(value):\n\u001b[0;32m-> 4904\u001b[0m     \u001b[43mcom\u001b[49m\u001b[38;5;241;43m.\u001b[39;49m\u001b[43mrequire_length_match\u001b[49m\u001b[43m(\u001b[49m\u001b[43mvalue\u001b[49m\u001b[43m,\u001b[49m\u001b[43m \u001b[49m\u001b[38;5;28;43mself\u001b[39;49m\u001b[38;5;241;43m.\u001b[39;49m\u001b[43mindex\u001b[49m\u001b[43m)\u001b[49m\n\u001b[1;32m   4905\u001b[0m \u001b[38;5;28;01mreturn\u001b[39;00m sanitize_array(value, \u001b[38;5;28mself\u001b[39m\u001b[38;5;241m.\u001b[39mindex, copy\u001b[38;5;241m=\u001b[39m\u001b[38;5;28;01mTrue\u001b[39;00m, allow_2d\u001b[38;5;241m=\u001b[39m\u001b[38;5;28;01mTrue\u001b[39;00m)\n",
      "File \u001b[0;32m/opt/homebrew/lib/python3.9/site-packages/pandas/core/common.py:561\u001b[0m, in \u001b[0;36mrequire_length_match\u001b[0;34m(data, index)\u001b[0m\n\u001b[1;32m    557\u001b[0m \u001b[38;5;124;03m\"\"\"\u001b[39;00m\n\u001b[1;32m    558\u001b[0m \u001b[38;5;124;03mCheck the length of data matches the length of the index.\u001b[39;00m\n\u001b[1;32m    559\u001b[0m \u001b[38;5;124;03m\"\"\"\u001b[39;00m\n\u001b[1;32m    560\u001b[0m \u001b[38;5;28;01mif\u001b[39;00m \u001b[38;5;28mlen\u001b[39m(data) \u001b[38;5;241m!=\u001b[39m \u001b[38;5;28mlen\u001b[39m(index):\n\u001b[0;32m--> 561\u001b[0m     \u001b[38;5;28;01mraise\u001b[39;00m \u001b[38;5;167;01mValueError\u001b[39;00m(\n\u001b[1;32m    562\u001b[0m         \u001b[38;5;124m\"\u001b[39m\u001b[38;5;124mLength of values \u001b[39m\u001b[38;5;124m\"\u001b[39m\n\u001b[1;32m    563\u001b[0m         \u001b[38;5;124mf\u001b[39m\u001b[38;5;124m\"\u001b[39m\u001b[38;5;124m(\u001b[39m\u001b[38;5;132;01m{\u001b[39;00m\u001b[38;5;28mlen\u001b[39m(data)\u001b[38;5;132;01m}\u001b[39;00m\u001b[38;5;124m) \u001b[39m\u001b[38;5;124m\"\u001b[39m\n\u001b[1;32m    564\u001b[0m         \u001b[38;5;124m\"\u001b[39m\u001b[38;5;124mdoes not match length of index \u001b[39m\u001b[38;5;124m\"\u001b[39m\n\u001b[1;32m    565\u001b[0m         \u001b[38;5;124mf\u001b[39m\u001b[38;5;124m\"\u001b[39m\u001b[38;5;124m(\u001b[39m\u001b[38;5;132;01m{\u001b[39;00m\u001b[38;5;28mlen\u001b[39m(index)\u001b[38;5;132;01m}\u001b[39;00m\u001b[38;5;124m)\u001b[39m\u001b[38;5;124m\"\u001b[39m\n\u001b[1;32m    566\u001b[0m     )\n",
      "\u001b[0;31mValueError\u001b[0m: Length of values (16833) does not match length of index (525)"
     ]
    }
   ],
   "source": [
    "df_pred_final['week_number'] = pred_data[['week_number']]\n",
    "df_pred_final[\"total_claims\"] = prediction"
   ]
  },
  {
   "cell_type": "code",
   "execution_count": 205,
   "id": "093f50d3",
   "metadata": {
    "execution": {
     "iopub.execute_input": "2023-05-10T01:32:25.043208Z",
     "iopub.status.busy": "2023-05-10T01:32:25.043127Z",
     "iopub.status.idle": "2023-05-10T01:32:25.062939Z",
     "shell.execute_reply": "2023-05-10T01:32:25.062671Z"
    }
   },
   "outputs": [
    {
     "ename": "KeyError",
     "evalue": "\"None of [Index(['uu_id'], dtype='object')] are in the [columns]\"",
     "output_type": "error",
     "traceback": [
      "\u001b[0;31m---------------------------------------------------------------------------\u001b[0m",
      "\u001b[0;31mKeyError\u001b[0m                                  Traceback (most recent call last)",
      "Cell \u001b[0;32mIn [205], line 1\u001b[0m\n\u001b[0;32m----> 1\u001b[0m df_pred_final_yams \u001b[38;5;241m=\u001b[39m \u001b[43mpred_data\u001b[49m\u001b[43m[\u001b[49m\u001b[43m[\u001b[49m\u001b[38;5;124;43m'\u001b[39;49m\u001b[38;5;124;43muu_id\u001b[39;49m\u001b[38;5;124;43m'\u001b[39;49m\u001b[43m]\u001b[49m\u001b[43m]\u001b[49m\n",
      "File \u001b[0;32m/opt/homebrew/lib/python3.9/site-packages/pandas/core/frame.py:3810\u001b[0m, in \u001b[0;36mDataFrame.__getitem__\u001b[0;34m(self, key)\u001b[0m\n\u001b[1;32m   3808\u001b[0m     \u001b[38;5;28;01mif\u001b[39;00m is_iterator(key):\n\u001b[1;32m   3809\u001b[0m         key \u001b[38;5;241m=\u001b[39m \u001b[38;5;28mlist\u001b[39m(key)\n\u001b[0;32m-> 3810\u001b[0m     indexer \u001b[38;5;241m=\u001b[39m \u001b[38;5;28;43mself\u001b[39;49m\u001b[38;5;241;43m.\u001b[39;49m\u001b[43mcolumns\u001b[49m\u001b[38;5;241;43m.\u001b[39;49m\u001b[43m_get_indexer_strict\u001b[49m\u001b[43m(\u001b[49m\u001b[43mkey\u001b[49m\u001b[43m,\u001b[49m\u001b[43m \u001b[49m\u001b[38;5;124;43m\"\u001b[39;49m\u001b[38;5;124;43mcolumns\u001b[39;49m\u001b[38;5;124;43m\"\u001b[39;49m\u001b[43m)\u001b[49m[\u001b[38;5;241m1\u001b[39m]\n\u001b[1;32m   3812\u001b[0m \u001b[38;5;66;03m# take() does not accept boolean indexers\u001b[39;00m\n\u001b[1;32m   3813\u001b[0m \u001b[38;5;28;01mif\u001b[39;00m \u001b[38;5;28mgetattr\u001b[39m(indexer, \u001b[38;5;124m\"\u001b[39m\u001b[38;5;124mdtype\u001b[39m\u001b[38;5;124m\"\u001b[39m, \u001b[38;5;28;01mNone\u001b[39;00m) \u001b[38;5;241m==\u001b[39m \u001b[38;5;28mbool\u001b[39m:\n",
      "File \u001b[0;32m/opt/homebrew/lib/python3.9/site-packages/pandas/core/indexes/base.py:6111\u001b[0m, in \u001b[0;36mIndex._get_indexer_strict\u001b[0;34m(self, key, axis_name)\u001b[0m\n\u001b[1;32m   6108\u001b[0m \u001b[38;5;28;01melse\u001b[39;00m:\n\u001b[1;32m   6109\u001b[0m     keyarr, indexer, new_indexer \u001b[38;5;241m=\u001b[39m \u001b[38;5;28mself\u001b[39m\u001b[38;5;241m.\u001b[39m_reindex_non_unique(keyarr)\n\u001b[0;32m-> 6111\u001b[0m \u001b[38;5;28;43mself\u001b[39;49m\u001b[38;5;241;43m.\u001b[39;49m\u001b[43m_raise_if_missing\u001b[49m\u001b[43m(\u001b[49m\u001b[43mkeyarr\u001b[49m\u001b[43m,\u001b[49m\u001b[43m \u001b[49m\u001b[43mindexer\u001b[49m\u001b[43m,\u001b[49m\u001b[43m \u001b[49m\u001b[43maxis_name\u001b[49m\u001b[43m)\u001b[49m\n\u001b[1;32m   6113\u001b[0m keyarr \u001b[38;5;241m=\u001b[39m \u001b[38;5;28mself\u001b[39m\u001b[38;5;241m.\u001b[39mtake(indexer)\n\u001b[1;32m   6114\u001b[0m \u001b[38;5;28;01mif\u001b[39;00m \u001b[38;5;28misinstance\u001b[39m(key, Index):\n\u001b[1;32m   6115\u001b[0m     \u001b[38;5;66;03m# GH 42790 - Preserve name from an Index\u001b[39;00m\n",
      "File \u001b[0;32m/opt/homebrew/lib/python3.9/site-packages/pandas/core/indexes/base.py:6171\u001b[0m, in \u001b[0;36mIndex._raise_if_missing\u001b[0;34m(self, key, indexer, axis_name)\u001b[0m\n\u001b[1;32m   6169\u001b[0m     \u001b[38;5;28;01mif\u001b[39;00m use_interval_msg:\n\u001b[1;32m   6170\u001b[0m         key \u001b[38;5;241m=\u001b[39m \u001b[38;5;28mlist\u001b[39m(key)\n\u001b[0;32m-> 6171\u001b[0m     \u001b[38;5;28;01mraise\u001b[39;00m \u001b[38;5;167;01mKeyError\u001b[39;00m(\u001b[38;5;124mf\u001b[39m\u001b[38;5;124m\"\u001b[39m\u001b[38;5;124mNone of [\u001b[39m\u001b[38;5;132;01m{\u001b[39;00mkey\u001b[38;5;132;01m}\u001b[39;00m\u001b[38;5;124m] are in the [\u001b[39m\u001b[38;5;132;01m{\u001b[39;00maxis_name\u001b[38;5;132;01m}\u001b[39;00m\u001b[38;5;124m]\u001b[39m\u001b[38;5;124m\"\u001b[39m)\n\u001b[1;32m   6173\u001b[0m not_found \u001b[38;5;241m=\u001b[39m \u001b[38;5;28mlist\u001b[39m(ensure_index(key)[missing_mask\u001b[38;5;241m.\u001b[39mnonzero()[\u001b[38;5;241m0\u001b[39m]]\u001b[38;5;241m.\u001b[39munique())\n\u001b[1;32m   6174\u001b[0m \u001b[38;5;28;01mraise\u001b[39;00m \u001b[38;5;167;01mKeyError\u001b[39;00m(\u001b[38;5;124mf\u001b[39m\u001b[38;5;124m\"\u001b[39m\u001b[38;5;132;01m{\u001b[39;00mnot_found\u001b[38;5;132;01m}\u001b[39;00m\u001b[38;5;124m not in index\u001b[39m\u001b[38;5;124m\"\u001b[39m)\n",
      "\u001b[0;31mKeyError\u001b[0m: \"None of [Index(['uu_id'], dtype='object')] are in the [columns]\""
     ]
    }
   ],
   "source": [
    "df_pred_final_yams = pred_data[['uu_id']]"
   ]
  },
  {
   "cell_type": "code",
   "execution_count": 206,
   "id": "feceb207",
   "metadata": {
    "execution": {
     "iopub.execute_input": "2023-05-10T01:32:25.064325Z",
     "iopub.status.busy": "2023-05-10T01:32:25.064222Z",
     "iopub.status.idle": "2023-05-10T01:32:25.070780Z",
     "shell.execute_reply": "2023-05-10T01:32:25.070518Z"
    }
   },
   "outputs": [
    {
     "ename": "NameError",
     "evalue": "name 'df_pred_final_yams' is not defined",
     "output_type": "error",
     "traceback": [
      "\u001b[0;31m---------------------------------------------------------------------------\u001b[0m",
      "\u001b[0;31mNameError\u001b[0m                                 Traceback (most recent call last)",
      "Cell \u001b[0;32mIn [206], line 1\u001b[0m\n\u001b[0;32m----> 1\u001b[0m \u001b[43mdf_pred_final_yams\u001b[49m \u001b[38;5;241m==\u001b[39m pred_data[[\u001b[38;5;124m'\u001b[39m\u001b[38;5;124muu_id\u001b[39m\u001b[38;5;124m'\u001b[39m]]\n",
      "\u001b[0;31mNameError\u001b[0m: name 'df_pred_final_yams' is not defined"
     ]
    }
   ],
   "source": [
    "df_pred_final_yams == pred_data[['uu_id']]"
   ]
  },
  {
   "cell_type": "code",
   "execution_count": 207,
   "id": "5a23f074",
   "metadata": {
    "execution": {
     "iopub.execute_input": "2023-05-10T01:32:25.072189Z",
     "iopub.status.busy": "2023-05-10T01:32:25.072106Z",
     "iopub.status.idle": "2023-05-10T01:32:25.091126Z",
     "shell.execute_reply": "2023-05-10T01:32:25.090847Z"
    }
   },
   "outputs": [
    {
     "ename": "KeyError",
     "evalue": "\"None of [Index(['uu_id'], dtype='object')] are in the [columns]\"",
     "output_type": "error",
     "traceback": [
      "\u001b[0;31m---------------------------------------------------------------------------\u001b[0m",
      "\u001b[0;31mKeyError\u001b[0m                                  Traceback (most recent call last)",
      "Cell \u001b[0;32mIn [207], line 2\u001b[0m\n\u001b[1;32m      1\u001b[0m df_pred_final_yams\u001b[38;5;241m=\u001b[39m[]\n\u001b[0;32m----> 2\u001b[0m df_pred_final_yams \u001b[38;5;241m==\u001b[39m \u001b[43mpred_data\u001b[49m\u001b[43m[\u001b[49m\u001b[43m[\u001b[49m\u001b[38;5;124;43m'\u001b[39;49m\u001b[38;5;124;43muu_id\u001b[39;49m\u001b[38;5;124;43m'\u001b[39;49m\u001b[43m]\u001b[49m\u001b[43m]\u001b[49m\n",
      "File \u001b[0;32m/opt/homebrew/lib/python3.9/site-packages/pandas/core/frame.py:3810\u001b[0m, in \u001b[0;36mDataFrame.__getitem__\u001b[0;34m(self, key)\u001b[0m\n\u001b[1;32m   3808\u001b[0m     \u001b[38;5;28;01mif\u001b[39;00m is_iterator(key):\n\u001b[1;32m   3809\u001b[0m         key \u001b[38;5;241m=\u001b[39m \u001b[38;5;28mlist\u001b[39m(key)\n\u001b[0;32m-> 3810\u001b[0m     indexer \u001b[38;5;241m=\u001b[39m \u001b[38;5;28;43mself\u001b[39;49m\u001b[38;5;241;43m.\u001b[39;49m\u001b[43mcolumns\u001b[49m\u001b[38;5;241;43m.\u001b[39;49m\u001b[43m_get_indexer_strict\u001b[49m\u001b[43m(\u001b[49m\u001b[43mkey\u001b[49m\u001b[43m,\u001b[49m\u001b[43m \u001b[49m\u001b[38;5;124;43m\"\u001b[39;49m\u001b[38;5;124;43mcolumns\u001b[39;49m\u001b[38;5;124;43m\"\u001b[39;49m\u001b[43m)\u001b[49m[\u001b[38;5;241m1\u001b[39m]\n\u001b[1;32m   3812\u001b[0m \u001b[38;5;66;03m# take() does not accept boolean indexers\u001b[39;00m\n\u001b[1;32m   3813\u001b[0m \u001b[38;5;28;01mif\u001b[39;00m \u001b[38;5;28mgetattr\u001b[39m(indexer, \u001b[38;5;124m\"\u001b[39m\u001b[38;5;124mdtype\u001b[39m\u001b[38;5;124m\"\u001b[39m, \u001b[38;5;28;01mNone\u001b[39;00m) \u001b[38;5;241m==\u001b[39m \u001b[38;5;28mbool\u001b[39m:\n",
      "File \u001b[0;32m/opt/homebrew/lib/python3.9/site-packages/pandas/core/indexes/base.py:6111\u001b[0m, in \u001b[0;36mIndex._get_indexer_strict\u001b[0;34m(self, key, axis_name)\u001b[0m\n\u001b[1;32m   6108\u001b[0m \u001b[38;5;28;01melse\u001b[39;00m:\n\u001b[1;32m   6109\u001b[0m     keyarr, indexer, new_indexer \u001b[38;5;241m=\u001b[39m \u001b[38;5;28mself\u001b[39m\u001b[38;5;241m.\u001b[39m_reindex_non_unique(keyarr)\n\u001b[0;32m-> 6111\u001b[0m \u001b[38;5;28;43mself\u001b[39;49m\u001b[38;5;241;43m.\u001b[39;49m\u001b[43m_raise_if_missing\u001b[49m\u001b[43m(\u001b[49m\u001b[43mkeyarr\u001b[49m\u001b[43m,\u001b[49m\u001b[43m \u001b[49m\u001b[43mindexer\u001b[49m\u001b[43m,\u001b[49m\u001b[43m \u001b[49m\u001b[43maxis_name\u001b[49m\u001b[43m)\u001b[49m\n\u001b[1;32m   6113\u001b[0m keyarr \u001b[38;5;241m=\u001b[39m \u001b[38;5;28mself\u001b[39m\u001b[38;5;241m.\u001b[39mtake(indexer)\n\u001b[1;32m   6114\u001b[0m \u001b[38;5;28;01mif\u001b[39;00m \u001b[38;5;28misinstance\u001b[39m(key, Index):\n\u001b[1;32m   6115\u001b[0m     \u001b[38;5;66;03m# GH 42790 - Preserve name from an Index\u001b[39;00m\n",
      "File \u001b[0;32m/opt/homebrew/lib/python3.9/site-packages/pandas/core/indexes/base.py:6171\u001b[0m, in \u001b[0;36mIndex._raise_if_missing\u001b[0;34m(self, key, indexer, axis_name)\u001b[0m\n\u001b[1;32m   6169\u001b[0m     \u001b[38;5;28;01mif\u001b[39;00m use_interval_msg:\n\u001b[1;32m   6170\u001b[0m         key \u001b[38;5;241m=\u001b[39m \u001b[38;5;28mlist\u001b[39m(key)\n\u001b[0;32m-> 6171\u001b[0m     \u001b[38;5;28;01mraise\u001b[39;00m \u001b[38;5;167;01mKeyError\u001b[39;00m(\u001b[38;5;124mf\u001b[39m\u001b[38;5;124m\"\u001b[39m\u001b[38;5;124mNone of [\u001b[39m\u001b[38;5;132;01m{\u001b[39;00mkey\u001b[38;5;132;01m}\u001b[39;00m\u001b[38;5;124m] are in the [\u001b[39m\u001b[38;5;132;01m{\u001b[39;00maxis_name\u001b[38;5;132;01m}\u001b[39;00m\u001b[38;5;124m]\u001b[39m\u001b[38;5;124m\"\u001b[39m)\n\u001b[1;32m   6173\u001b[0m not_found \u001b[38;5;241m=\u001b[39m \u001b[38;5;28mlist\u001b[39m(ensure_index(key)[missing_mask\u001b[38;5;241m.\u001b[39mnonzero()[\u001b[38;5;241m0\u001b[39m]]\u001b[38;5;241m.\u001b[39munique())\n\u001b[1;32m   6174\u001b[0m \u001b[38;5;28;01mraise\u001b[39;00m \u001b[38;5;167;01mKeyError\u001b[39;00m(\u001b[38;5;124mf\u001b[39m\u001b[38;5;124m\"\u001b[39m\u001b[38;5;132;01m{\u001b[39;00mnot_found\u001b[38;5;132;01m}\u001b[39;00m\u001b[38;5;124m not in index\u001b[39m\u001b[38;5;124m\"\u001b[39m)\n",
      "\u001b[0;31mKeyError\u001b[0m: \"None of [Index(['uu_id'], dtype='object')] are in the [columns]\""
     ]
    }
   ],
   "source": [
    "df_pred_final_yams=[]\n",
    "df_pred_final_yams == pred_data[['uu_id']]"
   ]
  },
  {
   "cell_type": "code",
   "execution_count": 208,
   "id": "34140ee0",
   "metadata": {
    "execution": {
     "iopub.execute_input": "2023-05-10T01:32:25.092541Z",
     "iopub.status.busy": "2023-05-10T01:32:25.092461Z",
     "iopub.status.idle": "2023-05-10T01:32:25.094972Z",
     "shell.execute_reply": "2023-05-10T01:32:25.094716Z"
    }
   },
   "outputs": [],
   "source": [
    "df_pred_final_1 = df_test[['uu_id']]"
   ]
  },
  {
   "cell_type": "code",
   "execution_count": 209,
   "id": "65af7820",
   "metadata": {
    "execution": {
     "iopub.execute_input": "2023-05-10T01:32:25.096357Z",
     "iopub.status.busy": "2023-05-10T01:32:25.096277Z",
     "iopub.status.idle": "2023-05-10T01:32:25.098738Z",
     "shell.execute_reply": "2023-05-10T01:32:25.098491Z"
    }
   },
   "outputs": [
    {
     "name": "stderr",
     "output_type": "stream",
     "text": [
      "/var/folders/l2/cnhff0_n1470l4xf0p7v7l_40000gn/T/ipykernel_16509/2415140912.py:1: SettingWithCopyWarning: \n",
      "A value is trying to be set on a copy of a slice from a DataFrame.\n",
      "Try using .loc[row_indexer,col_indexer] = value instead\n",
      "\n",
      "See the caveats in the documentation: https://pandas.pydata.org/pandas-docs/stable/user_guide/indexing.html#returning-a-view-versus-a-copy\n",
      "  df_pred_final_1['week_number'] = df_test[['week_number']]\n"
     ]
    }
   ],
   "source": [
    "df_pred_final_1['week_number'] = df_test[['week_number']]"
   ]
  },
  {
   "cell_type": "code",
   "execution_count": 210,
   "id": "576d6370",
   "metadata": {
    "execution": {
     "iopub.execute_input": "2023-05-10T01:32:25.100109Z",
     "iopub.status.busy": "2023-05-10T01:32:25.100033Z",
     "iopub.status.idle": "2023-05-10T01:32:25.101957Z",
     "shell.execute_reply": "2023-05-10T01:32:25.101716Z"
    }
   },
   "outputs": [
    {
     "name": "stderr",
     "output_type": "stream",
     "text": [
      "/var/folders/l2/cnhff0_n1470l4xf0p7v7l_40000gn/T/ipykernel_16509/461191629.py:1: SettingWithCopyWarning: \n",
      "A value is trying to be set on a copy of a slice from a DataFrame.\n",
      "Try using .loc[row_indexer,col_indexer] = value instead\n",
      "\n",
      "See the caveats in the documentation: https://pandas.pydata.org/pandas-docs/stable/user_guide/indexing.html#returning-a-view-versus-a-copy\n",
      "  df_pred_final_1['total_claims'] = prediction\n"
     ]
    }
   ],
   "source": [
    "df_pred_final_1['total_claims'] = prediction"
   ]
  },
  {
   "cell_type": "code",
   "execution_count": 211,
   "id": "87e1ba64",
   "metadata": {
    "execution": {
     "iopub.execute_input": "2023-05-10T01:32:25.103277Z",
     "iopub.status.busy": "2023-05-10T01:32:25.103198Z",
     "iopub.status.idle": "2023-05-10T01:32:25.107203Z",
     "shell.execute_reply": "2023-05-10T01:32:25.106943Z"
    }
   },
   "outputs": [
    {
     "data": {
      "text/html": [
       "<div>\n",
       "<style scoped>\n",
       "    .dataframe tbody tr th:only-of-type {\n",
       "        vertical-align: middle;\n",
       "    }\n",
       "\n",
       "    .dataframe tbody tr th {\n",
       "        vertical-align: top;\n",
       "    }\n",
       "\n",
       "    .dataframe thead th {\n",
       "        text-align: right;\n",
       "    }\n",
       "</style>\n",
       "<table border=\"1\" class=\"dataframe\">\n",
       "  <thead>\n",
       "    <tr style=\"text-align: right;\">\n",
       "      <th></th>\n",
       "      <th>uu_id</th>\n",
       "      <th>week_number</th>\n",
       "      <th>total_claims</th>\n",
       "    </tr>\n",
       "  </thead>\n",
       "  <tbody>\n",
       "    <tr>\n",
       "      <th>0</th>\n",
       "      <td>5bf51fc2e162d6faf9e3cf79e4198378</td>\n",
       "      <td>44</td>\n",
       "      <td>16.201878</td>\n",
       "    </tr>\n",
       "    <tr>\n",
       "      <th>1</th>\n",
       "      <td>5bf51fc2e162d6faf9e3cf79e4198378</td>\n",
       "      <td>44</td>\n",
       "      <td>16.052597</td>\n",
       "    </tr>\n",
       "    <tr>\n",
       "      <th>2</th>\n",
       "      <td>5bf51fc2e162d6faf9e3cf79e4198378</td>\n",
       "      <td>44</td>\n",
       "      <td>16.052597</td>\n",
       "    </tr>\n",
       "    <tr>\n",
       "      <th>3</th>\n",
       "      <td>5bf51fc2e162d6faf9e3cf79e4198378</td>\n",
       "      <td>44</td>\n",
       "      <td>16.083286</td>\n",
       "    </tr>\n",
       "    <tr>\n",
       "      <th>4</th>\n",
       "      <td>5bf51fc2e162d6faf9e3cf79e4198378</td>\n",
       "      <td>44</td>\n",
       "      <td>16.083286</td>\n",
       "    </tr>\n",
       "    <tr>\n",
       "      <th>...</th>\n",
       "      <td>...</td>\n",
       "      <td>...</td>\n",
       "      <td>...</td>\n",
       "    </tr>\n",
       "    <tr>\n",
       "      <th>16828</th>\n",
       "      <td>932a58530abff8a48558e2a15639d453</td>\n",
       "      <td>44</td>\n",
       "      <td>14.932419</td>\n",
       "    </tr>\n",
       "    <tr>\n",
       "      <th>16829</th>\n",
       "      <td>932a58530abff8a48558e2a15639d453</td>\n",
       "      <td>44</td>\n",
       "      <td>15.301217</td>\n",
       "    </tr>\n",
       "    <tr>\n",
       "      <th>16830</th>\n",
       "      <td>932a58530abff8a48558e2a15639d453</td>\n",
       "      <td>44</td>\n",
       "      <td>24.040972</td>\n",
       "    </tr>\n",
       "    <tr>\n",
       "      <th>16831</th>\n",
       "      <td>932a58530abff8a48558e2a15639d453</td>\n",
       "      <td>44</td>\n",
       "      <td>15.256616</td>\n",
       "    </tr>\n",
       "    <tr>\n",
       "      <th>16832</th>\n",
       "      <td>932a58530abff8a48558e2a15639d453</td>\n",
       "      <td>44</td>\n",
       "      <td>34.608929</td>\n",
       "    </tr>\n",
       "  </tbody>\n",
       "</table>\n",
       "<p>16833 rows × 3 columns</p>\n",
       "</div>"
      ],
      "text/plain": [
       "                                  uu_id  week_number  total_claims\n",
       "0      5bf51fc2e162d6faf9e3cf79e4198378           44     16.201878\n",
       "1      5bf51fc2e162d6faf9e3cf79e4198378           44     16.052597\n",
       "2      5bf51fc2e162d6faf9e3cf79e4198378           44     16.052597\n",
       "3      5bf51fc2e162d6faf9e3cf79e4198378           44     16.083286\n",
       "4      5bf51fc2e162d6faf9e3cf79e4198378           44     16.083286\n",
       "...                                 ...          ...           ...\n",
       "16828  932a58530abff8a48558e2a15639d453           44     14.932419\n",
       "16829  932a58530abff8a48558e2a15639d453           44     15.301217\n",
       "16830  932a58530abff8a48558e2a15639d453           44     24.040972\n",
       "16831  932a58530abff8a48558e2a15639d453           44     15.256616\n",
       "16832  932a58530abff8a48558e2a15639d453           44     34.608929\n",
       "\n",
       "[16833 rows x 3 columns]"
      ]
     },
     "execution_count": 211,
     "metadata": {},
     "output_type": "execute_result"
    }
   ],
   "source": [
    "df_pred_final_1"
   ]
  },
  {
   "cell_type": "code",
   "execution_count": 212,
   "id": "0f8f12ea",
   "metadata": {
    "execution": {
     "iopub.execute_input": "2023-05-10T01:32:25.108663Z",
     "iopub.status.busy": "2023-05-10T01:32:25.108585Z",
     "iopub.status.idle": "2023-05-10T01:32:25.110960Z",
     "shell.execute_reply": "2023-05-10T01:32:25.110709Z"
    }
   },
   "outputs": [],
   "source": [
    "df_final = df_pred_final_1.drop_duplicates(subset=['uu_id'])"
   ]
  },
  {
   "cell_type": "code",
   "execution_count": 213,
   "id": "6ed22e65",
   "metadata": {
    "execution": {
     "iopub.execute_input": "2023-05-10T01:32:25.112333Z",
     "iopub.status.busy": "2023-05-10T01:32:25.112251Z",
     "iopub.status.idle": "2023-05-10T01:32:25.116433Z",
     "shell.execute_reply": "2023-05-10T01:32:25.116176Z"
    }
   },
   "outputs": [
    {
     "data": {
      "text/html": [
       "<div>\n",
       "<style scoped>\n",
       "    .dataframe tbody tr th:only-of-type {\n",
       "        vertical-align: middle;\n",
       "    }\n",
       "\n",
       "    .dataframe tbody tr th {\n",
       "        vertical-align: top;\n",
       "    }\n",
       "\n",
       "    .dataframe thead th {\n",
       "        text-align: right;\n",
       "    }\n",
       "</style>\n",
       "<table border=\"1\" class=\"dataframe\">\n",
       "  <thead>\n",
       "    <tr style=\"text-align: right;\">\n",
       "      <th></th>\n",
       "      <th>uu_id</th>\n",
       "      <th>week_number</th>\n",
       "      <th>total_claims</th>\n",
       "    </tr>\n",
       "  </thead>\n",
       "  <tbody>\n",
       "    <tr>\n",
       "      <th>0</th>\n",
       "      <td>5bf51fc2e162d6faf9e3cf79e4198378</td>\n",
       "      <td>44</td>\n",
       "      <td>16.201878</td>\n",
       "    </tr>\n",
       "    <tr>\n",
       "      <th>10</th>\n",
       "      <td>420b44cc7e3f55d738df565421e59941</td>\n",
       "      <td>44</td>\n",
       "      <td>11.360290</td>\n",
       "    </tr>\n",
       "    <tr>\n",
       "      <th>18</th>\n",
       "      <td>e39c66ecceec76ee8f9f811fa4a2d246</td>\n",
       "      <td>44</td>\n",
       "      <td>14.550637</td>\n",
       "    </tr>\n",
       "    <tr>\n",
       "      <th>32</th>\n",
       "      <td>a90462cd11ae4e43144239bf7c4828a4</td>\n",
       "      <td>44</td>\n",
       "      <td>31.378025</td>\n",
       "    </tr>\n",
       "    <tr>\n",
       "      <th>58</th>\n",
       "      <td>8b20a6749088c7ff1237983076ebfeaa</td>\n",
       "      <td>44</td>\n",
       "      <td>14.060472</td>\n",
       "    </tr>\n",
       "    <tr>\n",
       "      <th>...</th>\n",
       "      <td>...</td>\n",
       "      <td>...</td>\n",
       "      <td>...</td>\n",
       "    </tr>\n",
       "    <tr>\n",
       "      <th>16684</th>\n",
       "      <td>46c4f6c75e663b1ca82ea7994e6d83d3</td>\n",
       "      <td>44</td>\n",
       "      <td>14.884317</td>\n",
       "    </tr>\n",
       "    <tr>\n",
       "      <th>16722</th>\n",
       "      <td>1deebda501712e7595b531b8337bc31a</td>\n",
       "      <td>44</td>\n",
       "      <td>17.802004</td>\n",
       "    </tr>\n",
       "    <tr>\n",
       "      <th>16757</th>\n",
       "      <td>5a9758f65f001b6432ff31ff64a459d7</td>\n",
       "      <td>44</td>\n",
       "      <td>24.659317</td>\n",
       "    </tr>\n",
       "    <tr>\n",
       "      <th>16781</th>\n",
       "      <td>e8b3b95e93a6dc7dbb90f4e72e7ac065</td>\n",
       "      <td>44</td>\n",
       "      <td>16.755768</td>\n",
       "    </tr>\n",
       "    <tr>\n",
       "      <th>16804</th>\n",
       "      <td>932a58530abff8a48558e2a15639d453</td>\n",
       "      <td>44</td>\n",
       "      <td>20.280573</td>\n",
       "    </tr>\n",
       "  </tbody>\n",
       "</table>\n",
       "<p>525 rows × 3 columns</p>\n",
       "</div>"
      ],
      "text/plain": [
       "                                  uu_id  week_number  total_claims\n",
       "0      5bf51fc2e162d6faf9e3cf79e4198378           44     16.201878\n",
       "10     420b44cc7e3f55d738df565421e59941           44     11.360290\n",
       "18     e39c66ecceec76ee8f9f811fa4a2d246           44     14.550637\n",
       "32     a90462cd11ae4e43144239bf7c4828a4           44     31.378025\n",
       "58     8b20a6749088c7ff1237983076ebfeaa           44     14.060472\n",
       "...                                 ...          ...           ...\n",
       "16684  46c4f6c75e663b1ca82ea7994e6d83d3           44     14.884317\n",
       "16722  1deebda501712e7595b531b8337bc31a           44     17.802004\n",
       "16757  5a9758f65f001b6432ff31ff64a459d7           44     24.659317\n",
       "16781  e8b3b95e93a6dc7dbb90f4e72e7ac065           44     16.755768\n",
       "16804  932a58530abff8a48558e2a15639d453           44     20.280573\n",
       "\n",
       "[525 rows x 3 columns]"
      ]
     },
     "execution_count": 213,
     "metadata": {},
     "output_type": "execute_result"
    }
   ],
   "source": [
    "df_final"
   ]
  },
  {
   "cell_type": "code",
   "execution_count": 214,
   "id": "49909d30",
   "metadata": {
    "execution": {
     "iopub.execute_input": "2023-05-10T01:32:25.117799Z",
     "iopub.status.busy": "2023-05-10T01:32:25.117713Z",
     "iopub.status.idle": "2023-05-10T01:32:25.119799Z",
     "shell.execute_reply": "2023-05-10T01:32:25.119556Z"
    }
   },
   "outputs": [
    {
     "data": {
      "text/plain": [
       "(16833, 141)"
      ]
     },
     "execution_count": 214,
     "metadata": {},
     "output_type": "execute_result"
    }
   ],
   "source": [
    "fin.shape"
   ]
  },
  {
   "cell_type": "code",
   "execution_count": 215,
   "id": "f357f442",
   "metadata": {
    "execution": {
     "iopub.execute_input": "2023-05-10T01:32:25.121089Z",
     "iopub.status.busy": "2023-05-10T01:32:25.121011Z",
     "iopub.status.idle": "2023-05-10T01:32:25.125942Z",
     "shell.execute_reply": "2023-05-10T01:32:25.125691Z"
    }
   },
   "outputs": [],
   "source": [
    "get_ipython().run_cell_magic('capture', '', \"%logstop\\n%logstart -t -r -q ipython_command_log.py global\\n\\n#- IRONHACKS RESEARCH TRACKING CODE\\n#----------------------------------\\n# The following code is used to help our research team understand how you \\n# our notebook environment. We do not collect any personal information with\\n# the following code, it is used to measure when and how often you work on\\n# your submission files.\\n\\nimport os\\nfrom datetime import datetime\\nimport IPython.core.history as history\\n\\nha = history.HistoryAccessor()\\nha_tail = ha.get_tail(1)\\nha_cmd = next(ha_tail)\\nsession_id = str(ha_cmd[0])\\ncommand_id = str(ha_cmd[1])\\ntimestamp = datetime.utcnow().isoformat()\\nhistory_line = ','.join([session_id, command_id, timestamp]) + '\\\\n'\\nlogfile = open(os.environ['HOME']+'/ipython_session_log.csv', 'a')\\nlogfile.write(history_line)\\nlogfile.close()\\n\")"
   ]
  },
  {
   "cell_type": "code",
   "execution_count": 216,
   "id": "b8da2016",
   "metadata": {
    "execution": {
     "iopub.execute_input": "2023-05-10T01:32:25.127355Z",
     "iopub.status.busy": "2023-05-10T01:32:25.127258Z",
     "iopub.status.idle": "2023-05-10T01:32:25.131048Z",
     "shell.execute_reply": "2023-05-10T01:32:25.130814Z"
    }
   },
   "outputs": [],
   "source": [
    "df_final.to_csv('submission_prediction_output.csv')"
   ]
  },
  {
   "cell_type": "code",
   "execution_count": 217,
   "id": "399e964b",
   "metadata": {
    "execution": {
     "iopub.execute_input": "2023-05-10T01:32:25.132425Z",
     "iopub.status.busy": "2023-05-10T01:32:25.132316Z",
     "iopub.status.idle": "2023-05-10T01:32:25.137076Z",
     "shell.execute_reply": "2023-05-10T01:32:25.136838Z"
    },
    "lines_to_next_cell": 2
   },
   "outputs": [],
   "source": [
    "get_ipython().run_cell_magic('capture', '', \"%logstop\\n%logstart -t -r -q ipython_command_log.py global\\n\\n#- IRONHACKS RESEARCH TRACKING CODE\\n#----------------------------------\\n# The following code is used to help our research team understand how you \\n# our notebook environment. We do not collect any personal information with\\n# the following code, it is used to measure when and how often you work on\\n# your submission files.\\n\\nimport os\\nfrom datetime import datetime\\nimport IPython.core.history as history\\n\\nha = history.HistoryAccessor()\\nha_tail = ha.get_tail(1)\\nha_cmd = next(ha_tail)\\nsession_id = str(ha_cmd[0])\\ncommand_id = str(ha_cmd[1])\\ntimestamp = datetime.utcnow().isoformat()\\nhistory_line = ','.join([session_id, command_id, timestamp]) + '\\\\n'\\nlogfile = open(os.environ['HOME']+'/ipython_session_log.csv', 'a')\\nlogfile.write(history_line)\\nlogfile.close()\\n\")"
   ]
  }
 ],
 "metadata": {
  "jupytext": {
   "cell_metadata_filter": "-all",
   "main_language": "python",
   "notebook_metadata_filter": "-all"
  },
  "language_info": {
   "codemirror_mode": {
    "name": "ipython",
    "version": 3
   },
   "file_extension": ".py",
   "mimetype": "text/x-python",
   "name": "python",
   "nbconvert_exporter": "python",
   "pygments_lexer": "ipython3",
   "version": "3.9.12"
  }
 },
 "nbformat": 4,
 "nbformat_minor": 5
}
