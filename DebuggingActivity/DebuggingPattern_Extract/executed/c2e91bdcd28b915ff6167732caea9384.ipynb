{
 "cells": [
  {
   "cell_type": "code",
   "execution_count": 1,
   "id": "3ed97537",
   "metadata": {
    "execution": {
     "iopub.execute_input": "2023-05-10T00:30:55.352502Z",
     "iopub.status.busy": "2023-05-10T00:30:55.352346Z",
     "iopub.status.idle": "2023-05-10T00:30:55.729567Z",
     "shell.execute_reply": "2023-05-10T00:30:55.729290Z"
    }
   },
   "outputs": [],
   "source": [
    "import os\n",
    "import pandas\n",
    "from google.cloud import bigquery\n",
    "from google.oauth2 import service_account\n",
    "from google.cloud.bigquery import magics"
   ]
  },
  {
   "cell_type": "code",
   "execution_count": 2,
   "id": "8b8107e0",
   "metadata": {
    "execution": {
     "iopub.execute_input": "2023-05-10T00:30:55.731342Z",
     "iopub.status.busy": "2023-05-10T00:30:55.731205Z",
     "iopub.status.idle": "2023-05-10T00:30:56.321517Z",
     "shell.execute_reply": "2023-05-10T00:30:56.320930Z"
    }
   },
   "outputs": [
    {
     "name": "stdout",
     "output_type": "stream",
     "text": [
      "zsh:1: command not found: gcloud\r\n"
     ]
    },
    {
     "name": "stdout",
     "output_type": "stream",
     "text": [
      "zsh:1: command not found: gcloud\r\n"
     ]
    }
   ],
   "source": [
    "# Run these terminal commands when your Notebook Session begins\n",
    "get_ipython().system('gcloud auth login')\n",
    "get_ipython().system('gcloud auth application-default set-quota-project ironhacks-data')"
   ]
  },
  {
   "cell_type": "code",
   "execution_count": 3,
   "id": "63093069",
   "metadata": {
    "execution": {
     "iopub.execute_input": "2023-05-10T00:30:56.324356Z",
     "iopub.status.busy": "2023-05-10T00:30:56.324139Z",
     "iopub.status.idle": "2023-05-10T00:30:56.327878Z",
     "shell.execute_reply": "2023-05-10T00:30:56.327339Z"
    }
   },
   "outputs": [
    {
     "ename": "SyntaxError",
     "evalue": "invalid syntax (1294830799.py, line 2)",
     "output_type": "error",
     "traceback": [
      "\u001b[0;36m  Cell \u001b[0;32mIn [3], line 2\u001b[0;36m\u001b[0m\n\u001b[0;31m    gcloud auth login\u001b[0m\n\u001b[0m           ^\u001b[0m\n\u001b[0;31mSyntaxError\u001b[0m\u001b[0;31m:\u001b[0m invalid syntax\n"
     ]
    }
   ],
   "source": [
    "# Run these terminal commands when your Notebook Session begins\n",
    "gcloud auth login\n",
    "gcloud auth application-default set-quota-project ironhacks-data"
   ]
  },
  {
   "cell_type": "code",
   "execution_count": 4,
   "id": "7ec23bb6",
   "metadata": {
    "execution": {
     "iopub.execute_input": "2023-05-10T00:30:56.330255Z",
     "iopub.status.busy": "2023-05-10T00:30:56.330090Z",
     "iopub.status.idle": "2023-05-10T00:30:56.332876Z",
     "shell.execute_reply": "2023-05-10T00:30:56.332539Z"
    }
   },
   "outputs": [],
   "source": [
    "import os\n",
    "import pandas\n",
    "from google.cloud import bigquery\n",
    "from google.oauth2 import service_account\n",
    "from google.cloud.bigquery import magics"
   ]
  },
  {
   "cell_type": "markdown",
   "id": "044d70ee",
   "metadata": {},
   "source": [
    "CONFIGURE THE BIGQUERY SETTINGS"
   ]
  },
  {
   "cell_type": "code",
   "execution_count": 5,
   "id": "5cf62ed7",
   "metadata": {
    "execution": {
     "iopub.execute_input": "2023-05-10T00:30:56.334847Z",
     "iopub.status.busy": "2023-05-10T00:30:56.334689Z",
     "iopub.status.idle": "2023-05-10T00:30:56.343538Z",
     "shell.execute_reply": "2023-05-10T00:30:56.343108Z"
    }
   },
   "outputs": [],
   "source": [
    "BIGQUERY_PROJECT = 'ironhacks-data'\n",
    "bigquery_client = bigquery.Client(project=BIGQUERY_PROJECT)"
   ]
  },
  {
   "cell_type": "code",
   "execution_count": 6,
   "id": "918201e2",
   "metadata": {
    "execution": {
     "iopub.execute_input": "2023-05-10T00:30:56.345945Z",
     "iopub.status.busy": "2023-05-10T00:30:56.345766Z",
     "iopub.status.idle": "2023-05-10T00:30:56.348229Z",
     "shell.execute_reply": "2023-05-10T00:30:56.347874Z"
    }
   },
   "outputs": [],
   "source": [
    "query = \"\"\"\n",
    "SELECT *\n",
    "FROM `ironhacks-data.ironhacks_training.covid19_cases`\n",
    "\"\"\""
   ]
  },
  {
   "cell_type": "code",
   "execution_count": 7,
   "id": "0150ff2e",
   "metadata": {
    "execution": {
     "iopub.execute_input": "2023-05-10T00:30:56.349999Z",
     "iopub.status.busy": "2023-05-10T00:30:56.349851Z",
     "iopub.status.idle": "2023-05-10T00:30:58.798889Z",
     "shell.execute_reply": "2023-05-10T00:30:58.798123Z"
    }
   },
   "outputs": [],
   "source": [
    "# QUERY THE DATA ONCE\n",
    "query_job = bigquery_client.query(query)\n",
    "covid19_cases_data = query_job.to_dataframe()"
   ]
  },
  {
   "cell_type": "code",
   "execution_count": 8,
   "id": "d8ed9834",
   "metadata": {
    "execution": {
     "iopub.execute_input": "2023-05-10T00:30:58.802724Z",
     "iopub.status.busy": "2023-05-10T00:30:58.802421Z",
     "iopub.status.idle": "2023-05-10T00:30:59.961387Z",
     "shell.execute_reply": "2023-05-10T00:30:59.960743Z"
    }
   },
   "outputs": [
    {
     "name": "stdout",
     "output_type": "stream",
     "text": [
      "\u001b[33mDEPRECATION: Configuring installation scheme with distutils config files is deprecated and will no longer work in the near future. If you are using a Homebrew or Linuxbrew Python, please see discussion at https://github.com/Homebrew/homebrew-core/issues/76621\u001b[0m\u001b[33m\r\n",
      "\u001b[0mRequirement already satisfied: db-dtypes in /opt/homebrew/lib/python3.9/site-packages (1.0.5)\r\n",
      "Requirement already satisfied: pandas<2.0dev,>=0.24.2 in /opt/homebrew/lib/python3.9/site-packages (from db-dtypes) (1.5.1)\r\n",
      "Requirement already satisfied: pyarrow>=3.0.0 in /opt/homebrew/lib/python3.9/site-packages (from db-dtypes) (10.0.0)\r\n",
      "Requirement already satisfied: packaging>=17.0 in /Users/weihaochen/Library/Python/3.9/lib/python/site-packages (from db-dtypes) (21.3)\r\n",
      "Requirement already satisfied: numpy<2.0dev,>=1.16.6 in /opt/homebrew/lib/python3.9/site-packages (from db-dtypes) (1.23.4)\r\n",
      "Requirement already satisfied: pyparsing!=3.0.5,>=2.0.2 in /Users/weihaochen/Library/Python/3.9/lib/python/site-packages (from packaging>=17.0->db-dtypes) (3.0.9)\r\n",
      "Requirement already satisfied: pytz>=2020.1 in /opt/homebrew/lib/python3.9/site-packages (from pandas<2.0dev,>=0.24.2->db-dtypes) (2022.6)\r\n",
      "Requirement already satisfied: python-dateutil>=2.8.1 in /Users/weihaochen/Library/Python/3.9/lib/python/site-packages (from pandas<2.0dev,>=0.24.2->db-dtypes) (2.8.2)\r\n",
      "Requirement already satisfied: six>=1.5 in /Users/weihaochen/Library/Python/3.9/lib/python/site-packages (from python-dateutil>=2.8.1->pandas<2.0dev,>=0.24.2->db-dtypes) (1.16.0)\r\n"
     ]
    },
    {
     "name": "stdout",
     "output_type": "stream",
     "text": [
      "\u001b[33mDEPRECATION: Configuring installation scheme with distutils config files is deprecated and will no longer work in the near future. If you are using a Homebrew or Linuxbrew Python, please see discussion at https://github.com/Homebrew/homebrew-core/issues/76621\u001b[0m\u001b[33m\r\n",
      "\u001b[0m\u001b[33mWARNING: You are using pip version 22.0.4; however, version 23.1.2 is available.\r\n",
      "You should consider upgrading via the '/opt/homebrew/opt/python@3.9/bin/python3.9 -m pip install --upgrade pip' command.\u001b[0m\u001b[33m\r\n",
      "\u001b[0m"
     ]
    },
    {
     "name": "stdout",
     "output_type": "stream",
     "text": [
      "Note: you may need to restart the kernel to use updated packages.\n"
     ]
    }
   ],
   "source": [
    "get_ipython().run_line_magic('pip', 'install db-dtypes')"
   ]
  },
  {
   "cell_type": "code",
   "execution_count": 9,
   "id": "5228f26c",
   "metadata": {
    "execution": {
     "iopub.execute_input": "2023-05-10T00:30:59.964327Z",
     "iopub.status.busy": "2023-05-10T00:30:59.964092Z",
     "iopub.status.idle": "2023-05-10T00:30:59.966753Z",
     "shell.execute_reply": "2023-05-10T00:30:59.966337Z"
    }
   },
   "outputs": [],
   "source": [
    "query = \"\"\"\n",
    "SELECT *\n",
    "FROM `ironhacks-data.ironhacks_training.covid19_cases`\n",
    "\"\"\""
   ]
  },
  {
   "cell_type": "code",
   "execution_count": 10,
   "id": "17d29a4c",
   "metadata": {
    "execution": {
     "iopub.execute_input": "2023-05-10T00:30:59.968914Z",
     "iopub.status.busy": "2023-05-10T00:30:59.968724Z",
     "iopub.status.idle": "2023-05-10T00:31:01.598608Z",
     "shell.execute_reply": "2023-05-10T00:31:01.597340Z"
    }
   },
   "outputs": [],
   "source": [
    "# QUERY THE DATA ONCE\n",
    "query_job = bigquery_client.query(query)\n",
    "covid19_cases_data = query_job.to_dataframe()"
   ]
  },
  {
   "cell_type": "code",
   "execution_count": 11,
   "id": "57abba87",
   "metadata": {
    "execution": {
     "iopub.execute_input": "2023-05-10T00:31:01.604898Z",
     "iopub.status.busy": "2023-05-10T00:31:01.604483Z",
     "iopub.status.idle": "2023-05-10T00:31:02.724166Z",
     "shell.execute_reply": "2023-05-10T00:31:02.723541Z"
    }
   },
   "outputs": [
    {
     "name": "stdout",
     "output_type": "stream",
     "text": [
      "\u001b[33mDEPRECATION: Configuring installation scheme with distutils config files is deprecated and will no longer work in the near future. If you are using a Homebrew or Linuxbrew Python, please see discussion at https://github.com/Homebrew/homebrew-core/issues/76621\u001b[0m\u001b[33m\r\n",
      "\u001b[0m"
     ]
    },
    {
     "name": "stdout",
     "output_type": "stream",
     "text": [
      "Requirement already satisfied: db-dtypes in /opt/homebrew/lib/python3.9/site-packages (1.0.5)\r\n",
      "Requirement already satisfied: packaging>=17.0 in /Users/weihaochen/Library/Python/3.9/lib/python/site-packages (from db-dtypes) (21.3)\r\n",
      "Requirement already satisfied: pyarrow>=3.0.0 in /opt/homebrew/lib/python3.9/site-packages (from db-dtypes) (10.0.0)\r\n",
      "Requirement already satisfied: pandas<2.0dev,>=0.24.2 in /opt/homebrew/lib/python3.9/site-packages (from db-dtypes) (1.5.1)\r\n",
      "Requirement already satisfied: numpy<2.0dev,>=1.16.6 in /opt/homebrew/lib/python3.9/site-packages (from db-dtypes) (1.23.4)\r\n",
      "Requirement already satisfied: pyparsing!=3.0.5,>=2.0.2 in /Users/weihaochen/Library/Python/3.9/lib/python/site-packages (from packaging>=17.0->db-dtypes) (3.0.9)\r\n",
      "Requirement already satisfied: python-dateutil>=2.8.1 in /Users/weihaochen/Library/Python/3.9/lib/python/site-packages (from pandas<2.0dev,>=0.24.2->db-dtypes) (2.8.2)\r\n",
      "Requirement already satisfied: pytz>=2020.1 in /opt/homebrew/lib/python3.9/site-packages (from pandas<2.0dev,>=0.24.2->db-dtypes) (2022.6)\r\n",
      "Requirement already satisfied: six>=1.5 in /Users/weihaochen/Library/Python/3.9/lib/python/site-packages (from python-dateutil>=2.8.1->pandas<2.0dev,>=0.24.2->db-dtypes) (1.16.0)\r\n"
     ]
    },
    {
     "name": "stdout",
     "output_type": "stream",
     "text": [
      "\u001b[33mDEPRECATION: Configuring installation scheme with distutils config files is deprecated and will no longer work in the near future. If you are using a Homebrew or Linuxbrew Python, please see discussion at https://github.com/Homebrew/homebrew-core/issues/76621\u001b[0m\u001b[33m\r\n",
      "\u001b[0m\u001b[33mWARNING: You are using pip version 22.0.4; however, version 23.1.2 is available.\r\n",
      "You should consider upgrading via the '/opt/homebrew/opt/python@3.9/bin/python3.9 -m pip install --upgrade pip' command.\u001b[0m\u001b[33m\r\n",
      "\u001b[0m"
     ]
    },
    {
     "name": "stdout",
     "output_type": "stream",
     "text": [
      "Note: you may need to restart the kernel to use updated packages.\n"
     ]
    }
   ],
   "source": [
    "get_ipython().run_line_magic('pip', 'install db-dtypes')"
   ]
  },
  {
   "cell_type": "markdown",
   "id": "c3b27a48",
   "metadata": {},
   "source": [
    "CONFIGURE THE BIGQUERY SETTINGS"
   ]
  },
  {
   "cell_type": "code",
   "execution_count": 12,
   "id": "581110af",
   "metadata": {
    "execution": {
     "iopub.execute_input": "2023-05-10T00:31:02.726958Z",
     "iopub.status.busy": "2023-05-10T00:31:02.726756Z",
     "iopub.status.idle": "2023-05-10T00:31:02.735531Z",
     "shell.execute_reply": "2023-05-10T00:31:02.735030Z"
    }
   },
   "outputs": [],
   "source": [
    "BIGQUERY_PROJECT = 'ironhacks-data'\n",
    "bigquery_client = bigquery.Client(project=BIGQUERY_PROJECT)"
   ]
  },
  {
   "cell_type": "code",
   "execution_count": 13,
   "id": "7b9dce14",
   "metadata": {
    "execution": {
     "iopub.execute_input": "2023-05-10T00:31:02.737961Z",
     "iopub.status.busy": "2023-05-10T00:31:02.737633Z",
     "iopub.status.idle": "2023-05-10T00:31:02.740075Z",
     "shell.execute_reply": "2023-05-10T00:31:02.739707Z"
    }
   },
   "outputs": [],
   "source": [
    "query = \"\"\"\n",
    "SELECT *\n",
    "FROM `ironhacks-data.ironhacks_training.covid19_cases`\n",
    "\"\"\""
   ]
  },
  {
   "cell_type": "code",
   "execution_count": 14,
   "id": "0e06f0b7",
   "metadata": {
    "execution": {
     "iopub.execute_input": "2023-05-10T00:31:02.742171Z",
     "iopub.status.busy": "2023-05-10T00:31:02.742005Z",
     "iopub.status.idle": "2023-05-10T00:31:04.447243Z",
     "shell.execute_reply": "2023-05-10T00:31:04.445423Z"
    }
   },
   "outputs": [],
   "source": [
    "# QUERY THE DATA ONCE\n",
    "query_job = bigquery_client.query(query)\n",
    "covid19_cases_data = query_job.to_dataframe()"
   ]
  },
  {
   "cell_type": "markdown",
   "id": "7943535f",
   "metadata": {},
   "source": [
    "CONFIGURE THE BIGQUERY SETTINGS"
   ]
  },
  {
   "cell_type": "code",
   "execution_count": 15,
   "id": "e33c8ccf",
   "metadata": {
    "execution": {
     "iopub.execute_input": "2023-05-10T00:31:04.455081Z",
     "iopub.status.busy": "2023-05-10T00:31:04.454595Z",
     "iopub.status.idle": "2023-05-10T00:31:04.474799Z",
     "shell.execute_reply": "2023-05-10T00:31:04.473855Z"
    }
   },
   "outputs": [],
   "source": [
    "BIGQUERY_PROJECT = 'ironhacks-data'\n",
    "bigquery_client = bigquery.Client(project=BIGQUERY_PROJECT)"
   ]
  },
  {
   "cell_type": "code",
   "execution_count": 16,
   "id": "f3d72cac",
   "metadata": {
    "execution": {
     "iopub.execute_input": "2023-05-10T00:31:04.478956Z",
     "iopub.status.busy": "2023-05-10T00:31:04.478639Z",
     "iopub.status.idle": "2023-05-10T00:31:04.482403Z",
     "shell.execute_reply": "2023-05-10T00:31:04.481695Z"
    }
   },
   "outputs": [],
   "source": [
    "query = \"\"\"\n",
    "SELECT *\n",
    "FROM `ironhacks-data.ironhacks_training.covid19_cases`\n",
    "\"\"\""
   ]
  },
  {
   "cell_type": "code",
   "execution_count": 17,
   "id": "4a2e5ed2",
   "metadata": {
    "execution": {
     "iopub.execute_input": "2023-05-10T00:31:04.485373Z",
     "iopub.status.busy": "2023-05-10T00:31:04.485146Z",
     "iopub.status.idle": "2023-05-10T00:31:06.253102Z",
     "shell.execute_reply": "2023-05-10T00:31:06.251289Z"
    }
   },
   "outputs": [],
   "source": [
    "# QUERY THE DATA ONCE\n",
    "query_job = bigquery_client.query(query)\n",
    "covid19_cases_data = query_job.to_dataframe()"
   ]
  },
  {
   "cell_type": "code",
   "execution_count": 18,
   "id": "a590397d",
   "metadata": {
    "execution": {
     "iopub.execute_input": "2023-05-10T00:31:06.260689Z",
     "iopub.status.busy": "2023-05-10T00:31:06.260186Z",
     "iopub.status.idle": "2023-05-10T00:31:06.266333Z",
     "shell.execute_reply": "2023-05-10T00:31:06.265635Z"
    }
   },
   "outputs": [
    {
     "ename": "SyntaxError",
     "evalue": "invalid syntax (2989339400.py, line 1)",
     "output_type": "error",
     "traceback": [
      "\u001b[0;36m  Cell \u001b[0;32mIn [18], line 1\u001b[0;36m\u001b[0m\n\u001b[0;31m    import db-dtypes\u001b[0m\n\u001b[0m             ^\u001b[0m\n\u001b[0;31mSyntaxError\u001b[0m\u001b[0;31m:\u001b[0m invalid syntax\n"
     ]
    }
   ],
   "source": [
    "import db-dtypes"
   ]
  },
  {
   "cell_type": "code",
   "execution_count": 19,
   "id": "b8132781",
   "metadata": {
    "execution": {
     "iopub.execute_input": "2023-05-10T00:31:06.270869Z",
     "iopub.status.busy": "2023-05-10T00:31:06.270382Z",
     "iopub.status.idle": "2023-05-10T00:31:06.274523Z",
     "shell.execute_reply": "2023-05-10T00:31:06.273843Z"
    }
   },
   "outputs": [],
   "source": [
    "import db_dtypes"
   ]
  },
  {
   "cell_type": "markdown",
   "id": "ac7e4b52",
   "metadata": {},
   "source": [
    "CONFIGURE THE BIGQUERY SETTINGS"
   ]
  },
  {
   "cell_type": "code",
   "execution_count": 20,
   "id": "646a1cdc",
   "metadata": {
    "execution": {
     "iopub.execute_input": "2023-05-10T00:31:06.278020Z",
     "iopub.status.busy": "2023-05-10T00:31:06.277719Z",
     "iopub.status.idle": "2023-05-10T00:31:06.290533Z",
     "shell.execute_reply": "2023-05-10T00:31:06.289742Z"
    }
   },
   "outputs": [],
   "source": [
    "BIGQUERY_PROJECT = 'ironhacks-data'\n",
    "bigquery_client = bigquery.Client(project=BIGQUERY_PROJECT)"
   ]
  },
  {
   "cell_type": "code",
   "execution_count": 21,
   "id": "6e08a684",
   "metadata": {
    "execution": {
     "iopub.execute_input": "2023-05-10T00:31:06.293945Z",
     "iopub.status.busy": "2023-05-10T00:31:06.293683Z",
     "iopub.status.idle": "2023-05-10T00:31:06.296685Z",
     "shell.execute_reply": "2023-05-10T00:31:06.296181Z"
    }
   },
   "outputs": [],
   "source": [
    "query = \"\"\"\n",
    "SELECT *\n",
    "FROM `ironhacks-data.ironhacks_training.covid19_cases`\n",
    "\"\"\""
   ]
  },
  {
   "cell_type": "code",
   "execution_count": 22,
   "id": "80c126dc",
   "metadata": {
    "execution": {
     "iopub.execute_input": "2023-05-10T00:31:06.299225Z",
     "iopub.status.busy": "2023-05-10T00:31:06.299027Z",
     "iopub.status.idle": "2023-05-10T00:31:08.154938Z",
     "shell.execute_reply": "2023-05-10T00:31:08.153177Z"
    }
   },
   "outputs": [],
   "source": [
    "# QUERY THE DATA ONCE\n",
    "query_job = bigquery_client.query(query)\n",
    "covid19_cases_data = query_job.to_dataframe()"
   ]
  },
  {
   "cell_type": "code",
   "execution_count": 23,
   "id": "9c458b37",
   "metadata": {
    "execution": {
     "iopub.execute_input": "2023-05-10T00:31:08.162462Z",
     "iopub.status.busy": "2023-05-10T00:31:08.161926Z",
     "iopub.status.idle": "2023-05-10T00:31:08.167320Z",
     "shell.execute_reply": "2023-05-10T00:31:08.166535Z"
    }
   },
   "outputs": [],
   "source": [
    "query = \"\"\"\n",
    "SELECT *\n",
    "FROM `ironhacks-data.ironhacks_training.covid19_cases`\n",
    "\"\"\""
   ]
  },
  {
   "cell_type": "code",
   "execution_count": 24,
   "id": "d04629ec",
   "metadata": {
    "execution": {
     "iopub.execute_input": "2023-05-10T00:31:08.171535Z",
     "iopub.status.busy": "2023-05-10T00:31:08.171242Z",
     "iopub.status.idle": "2023-05-10T00:31:10.025276Z",
     "shell.execute_reply": "2023-05-10T00:31:10.023697Z"
    }
   },
   "outputs": [],
   "source": [
    "# QUERY THE DATA ONCE\n",
    "query_job = bigquery_client.query(query)\n",
    "covid19_cases_data = query_job.to_dataframe()"
   ]
  },
  {
   "cell_type": "code",
   "execution_count": 25,
   "id": "a3f6093f",
   "metadata": {
    "execution": {
     "iopub.execute_input": "2023-05-10T00:31:10.032774Z",
     "iopub.status.busy": "2023-05-10T00:31:10.032304Z",
     "iopub.status.idle": "2023-05-10T00:31:10.046448Z",
     "shell.execute_reply": "2023-05-10T00:31:10.045722Z"
    }
   },
   "outputs": [
    {
     "name": "stdout",
     "output_type": "stream",
     "text": [
      "Columns:\n",
      "week_number\n",
      "start_date\n",
      "county\n",
      "fips\n",
      "cases\n",
      "deaths\n",
      "\n",
      "Results:\n",
      "   week_number  start_date  county   fips  cases  deaths\n",
      "0            9  2021-03-01  Marion  18097    664      23\n",
      "1           12  2021-03-22  Marion  18097    623      11\n",
      "2           19  2021-05-10  Marion  18097   1156       4\n",
      "3           11  2021-03-15  Marion  18097    560      13\n",
      "4            6  2021-02-08  Marion  18097   1542     219\n"
     ]
    }
   ],
   "source": [
    "# THEN WORK BELOW TO DO SOMETHING THE RESULTS\n",
    "print(\"Columns:\")\n",
    "print('\\n'.join(covid19_cases_data.columns))\n",
    "print(\"\\nResults:\")\n",
    "print(covid19_cases_data.head())"
   ]
  },
  {
   "cell_type": "code",
   "execution_count": 26,
   "id": "ab721ba1",
   "metadata": {
    "execution": {
     "iopub.execute_input": "2023-05-10T00:31:10.051246Z",
     "iopub.status.busy": "2023-05-10T00:31:10.050877Z",
     "iopub.status.idle": "2023-05-10T00:31:10.054381Z",
     "shell.execute_reply": "2023-05-10T00:31:10.053655Z"
    }
   },
   "outputs": [],
   "source": [
    "import db_dtypes"
   ]
  },
  {
   "cell_type": "markdown",
   "id": "6086ec15",
   "metadata": {},
   "source": [
    "CONFIGURE THE BIGQUERY SETTINGS"
   ]
  },
  {
   "cell_type": "code",
   "execution_count": 27,
   "id": "bbc85983",
   "metadata": {
    "execution": {
     "iopub.execute_input": "2023-05-10T00:31:10.057860Z",
     "iopub.status.busy": "2023-05-10T00:31:10.057377Z",
     "iopub.status.idle": "2023-05-10T00:31:10.068960Z",
     "shell.execute_reply": "2023-05-10T00:31:10.068317Z"
    }
   },
   "outputs": [],
   "source": [
    "BIGQUERY_PROJECT = 'ironhacks-data'\n",
    "bigquery_client = bigquery.Client(project=BIGQUERY_PROJECT)"
   ]
  },
  {
   "cell_type": "code",
   "execution_count": 28,
   "id": "b956c9dd",
   "metadata": {
    "execution": {
     "iopub.execute_input": "2023-05-10T00:31:10.071796Z",
     "iopub.status.busy": "2023-05-10T00:31:10.071567Z",
     "iopub.status.idle": "2023-05-10T00:31:10.074313Z",
     "shell.execute_reply": "2023-05-10T00:31:10.073847Z"
    }
   },
   "outputs": [],
   "source": [
    "query = \"\"\"\n",
    "SELECT *\n",
    "FROM `ironhacks-data.ironhacks_training.covid19_cases`\n",
    "\"\"\""
   ]
  },
  {
   "cell_type": "code",
   "execution_count": 29,
   "id": "717f0508",
   "metadata": {
    "execution": {
     "iopub.execute_input": "2023-05-10T00:31:10.076672Z",
     "iopub.status.busy": "2023-05-10T00:31:10.076474Z",
     "iopub.status.idle": "2023-05-10T00:31:11.911493Z",
     "shell.execute_reply": "2023-05-10T00:31:11.909975Z"
    },
    "lines_to_next_cell": 2
   },
   "outputs": [],
   "source": [
    "# QUERY THE DATA ONCE\n",
    "query_job = bigquery_client.query(query)\n",
    "covid19_cases_data = query_job.to_dataframe()"
   ]
  }
 ],
 "metadata": {
  "jupytext": {
   "cell_metadata_filter": "-all",
   "main_language": "python",
   "notebook_metadata_filter": "-all"
  },
  "kernelspec": {
   "display_name": "base",
   "language": "python",
   "name": "python3"
  },
  "language_info": {
   "codemirror_mode": {
    "name": "ipython",
    "version": 3
   },
   "file_extension": ".py",
   "mimetype": "text/x-python",
   "name": "python",
   "nbconvert_exporter": "python",
   "pygments_lexer": "ipython3",
   "version": "3.9.12"
  }
 },
 "nbformat": 4,
 "nbformat_minor": 5
}
