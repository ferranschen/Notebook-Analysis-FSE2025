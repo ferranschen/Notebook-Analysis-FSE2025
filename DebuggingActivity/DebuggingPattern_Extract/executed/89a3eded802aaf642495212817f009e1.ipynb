{
 "cells": [
  {
   "cell_type": "code",
   "execution_count": 1,
   "id": "05963665",
   "metadata": {
    "execution": {
     "iopub.execute_input": "2023-05-10T02:23:41.669303Z",
     "iopub.status.busy": "2023-05-10T02:23:41.669144Z",
     "iopub.status.idle": "2023-05-10T02:23:42.409314Z",
     "shell.execute_reply": "2023-05-10T02:23:42.408960Z"
    }
   },
   "outputs": [],
   "source": [
    "import pandas as pd\n",
    "import numpy as np\n",
    "import matplotlib\n",
    "import matplotlib.pyplot as plt\n",
    "import seaborn as sns\n",
    "get_ipython().run_line_magic('matplotlib', 'inline')"
   ]
  },
  {
   "cell_type": "code",
   "execution_count": 2,
   "id": "dd2d12b3",
   "metadata": {
    "execution": {
     "iopub.execute_input": "2023-05-10T02:23:42.411170Z",
     "iopub.status.busy": "2023-05-10T02:23:42.410994Z",
     "iopub.status.idle": "2023-05-10T02:23:42.542789Z",
     "shell.execute_reply": "2023-05-10T02:23:42.542453Z"
    },
    "lines_to_next_cell": 2
   },
   "outputs": [],
   "source": [
    "import os\n",
    "from google.cloud import bigquery\n",
    "from google.oauth2 import service_account\n",
    "from google.cloud.bigquery import magics"
   ]
  }
 ],
 "metadata": {
  "jupytext": {
   "cell_metadata_filter": "-all",
   "main_language": "python",
   "notebook_metadata_filter": "-all"
  },
  "kernelspec": {
   "display_name": "base",
   "language": "python",
   "name": "python3"
  },
  "language_info": {
   "codemirror_mode": {
    "name": "ipython",
    "version": 3
   },
   "file_extension": ".py",
   "mimetype": "text/x-python",
   "name": "python",
   "nbconvert_exporter": "python",
   "pygments_lexer": "ipython3",
   "version": "3.9.12"
  }
 },
 "nbformat": 4,
 "nbformat_minor": 5
}
