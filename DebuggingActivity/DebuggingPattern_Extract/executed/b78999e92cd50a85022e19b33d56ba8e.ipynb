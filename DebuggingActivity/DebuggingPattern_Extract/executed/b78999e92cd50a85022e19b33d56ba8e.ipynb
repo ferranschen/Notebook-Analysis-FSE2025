{
 "cells": [
  {
   "cell_type": "code",
   "execution_count": 1,
   "id": "e6ca64ce",
   "metadata": {
    "execution": {
     "iopub.execute_input": "2023-05-10T01:30:58.628636Z",
     "iopub.status.busy": "2023-05-10T01:30:58.628408Z",
     "iopub.status.idle": "2023-05-10T01:30:59.025387Z",
     "shell.execute_reply": "2023-05-10T01:30:59.025052Z"
    }
   },
   "outputs": [],
   "source": [
    "import os\n",
    "import pandas\n",
    "from google.cloud import bigquery\n",
    "from google.oauth2 import service_account\n",
    "from google.cloud.bigquery import magics"
   ]
  },
  {
   "cell_type": "code",
   "execution_count": 2,
   "id": "9af445cf",
   "metadata": {
    "execution": {
     "iopub.execute_input": "2023-05-10T01:30:59.027382Z",
     "iopub.status.busy": "2023-05-10T01:30:59.027088Z",
     "iopub.status.idle": "2023-05-10T01:30:59.035425Z",
     "shell.execute_reply": "2023-05-10T01:30:59.035082Z"
    }
   },
   "outputs": [],
   "source": [
    "BIGQUERY_PROJECT = 'ironhacks-data'\n",
    "bigquery_client = bigquery.Client(project=BIGQUERY_PROJECT)\n",
    "query = \"\"\"\n",
    "SELECT COUNT(*)\n",
    "FROM `ironhacks-data.ironhacks_training.covid19_cases`\n",
    "\"\"\""
   ]
  },
  {
   "cell_type": "code",
   "execution_count": 3,
   "id": "0a8705c5",
   "metadata": {
    "execution": {
     "iopub.execute_input": "2023-05-10T01:30:59.037174Z",
     "iopub.status.busy": "2023-05-10T01:30:59.037058Z",
     "iopub.status.idle": "2023-05-10T01:31:01.225280Z",
     "shell.execute_reply": "2023-05-10T01:31:01.224344Z"
    }
   },
   "outputs": [
    {
     "name": "stdout",
     "output_type": "stream",
     "text": [
      "   f0_\n",
      "0   46\n"
     ]
    }
   ],
   "source": [
    "query_job = bigquery_client.query(query)\n",
    "covid19_cases_data = query_job.to_dataframe()\n",
    "print(covid19_cases_data)"
   ]
  },
  {
   "cell_type": "code",
   "execution_count": 4,
   "id": "5a5c83cb",
   "metadata": {
    "execution": {
     "iopub.execute_input": "2023-05-10T01:31:01.231138Z",
     "iopub.status.busy": "2023-05-10T01:31:01.230695Z",
     "iopub.status.idle": "2023-05-10T01:31:01.234914Z",
     "shell.execute_reply": "2023-05-10T01:31:01.234316Z"
    }
   },
   "outputs": [],
   "source": [
    "import os\n",
    "import pandas\n",
    "from google.cloud import bigquery\n",
    "from google.oauth2 import service_account\n",
    "from google.cloud.bigquery import magics"
   ]
  },
  {
   "cell_type": "code",
   "execution_count": 5,
   "id": "16034a8c",
   "metadata": {
    "execution": {
     "iopub.execute_input": "2023-05-10T01:31:01.238108Z",
     "iopub.status.busy": "2023-05-10T01:31:01.237849Z",
     "iopub.status.idle": "2023-05-10T01:31:01.250835Z",
     "shell.execute_reply": "2023-05-10T01:31:01.250096Z"
    }
   },
   "outputs": [],
   "source": [
    "BIGQUERY_PROJECT = 'ironhacks-data'\n",
    "bigquery_client = bigquery.Client(project=BIGQUERY_PROJECT)\n",
    "query = \"\"\"\n",
    "SELECT COUNT(*)\n",
    "FROM `ironhacks-data.ironhacks_training.covid19_cases`\n",
    "\"\"\""
   ]
  },
  {
   "cell_type": "code",
   "execution_count": 6,
   "id": "7dd968b7",
   "metadata": {
    "execution": {
     "iopub.execute_input": "2023-05-10T01:31:01.254415Z",
     "iopub.status.busy": "2023-05-10T01:31:01.254142Z",
     "iopub.status.idle": "2023-05-10T01:31:03.064253Z",
     "shell.execute_reply": "2023-05-10T01:31:03.062896Z"
    }
   },
   "outputs": [
    {
     "name": "stdout",
     "output_type": "stream",
     "text": [
      "Columns:\n",
      "f0_\n",
      "\n",
      "Results:\n",
      "   f0_\n",
      "0   46\n"
     ]
    }
   ],
   "source": [
    "query_job = bigquery_client.query(query)\n",
    "covid19_cases_data = query_job.to_dataframe()\n",
    "print(\"Columns:\")\n",
    "print('\\n'.join(covid19_cases_data.columns))\n",
    "print(\"\\nResults:\")\n",
    "print(covid19_cases_data.head())"
   ]
  },
  {
   "cell_type": "code",
   "execution_count": 7,
   "id": "c11bfc5e",
   "metadata": {
    "execution": {
     "iopub.execute_input": "2023-05-10T01:31:03.069543Z",
     "iopub.status.busy": "2023-05-10T01:31:03.069089Z",
     "iopub.status.idle": "2023-05-10T01:31:03.074171Z",
     "shell.execute_reply": "2023-05-10T01:31:03.073352Z"
    }
   },
   "outputs": [],
   "source": [
    "import os\n",
    "import pandas\n",
    "from google.cloud import bigquery\n",
    "from google.oauth2 import service_account\n",
    "from google.cloud.bigquery import magics"
   ]
  },
  {
   "cell_type": "code",
   "execution_count": 8,
   "id": "35519a27",
   "metadata": {
    "execution": {
     "iopub.execute_input": "2023-05-10T01:31:03.078376Z",
     "iopub.status.busy": "2023-05-10T01:31:03.077943Z",
     "iopub.status.idle": "2023-05-10T01:31:03.091852Z",
     "shell.execute_reply": "2023-05-10T01:31:03.090997Z"
    }
   },
   "outputs": [],
   "source": [
    "BIGQUERY_PROJECT = 'ironhacks-data'\n",
    "bigquery_client = bigquery.Client(project=BIGQUERY_PROJECT)\n",
    "query = \"\"\"\n",
    "SELECT COUNT(*)\n",
    "FROM `ironhacks-data.ironhacks_training.covid19_cases`\n",
    "\"\"\""
   ]
  },
  {
   "cell_type": "code",
   "execution_count": 9,
   "id": "d0f856c3",
   "metadata": {
    "execution": {
     "iopub.execute_input": "2023-05-10T01:31:03.096455Z",
     "iopub.status.busy": "2023-05-10T01:31:03.096057Z",
     "iopub.status.idle": "2023-05-10T01:31:04.727798Z",
     "shell.execute_reply": "2023-05-10T01:31:04.726159Z"
    },
    "lines_to_next_cell": 2
   },
   "outputs": [
    {
     "name": "stdout",
     "output_type": "stream",
     "text": [
      "Columns:\n",
      "f0_\n",
      "\n",
      "Results:\n",
      "   f0_\n",
      "0   46\n"
     ]
    }
   ],
   "source": [
    "query_job = bigquery_client.query(query)\n",
    "covid19_cases_data = query_job.to_dataframe()\n",
    "print(\"Columns:\")\n",
    "print('\\n'.join(covid19_cases_data.columns))\n",
    "print(\"\\nResults:\")\n",
    "print(covid19_cases_data.head())"
   ]
  }
 ],
 "metadata": {
  "jupytext": {
   "cell_metadata_filter": "-all",
   "main_language": "python",
   "notebook_metadata_filter": "-all"
  },
  "kernelspec": {
   "display_name": "base",
   "language": "python",
   "name": "python3"
  },
  "language_info": {
   "codemirror_mode": {
    "name": "ipython",
    "version": 3
   },
   "file_extension": ".py",
   "mimetype": "text/x-python",
   "name": "python",
   "nbconvert_exporter": "python",
   "pygments_lexer": "ipython3",
   "version": "3.9.12"
  }
 },
 "nbformat": 4,
 "nbformat_minor": 5
}
