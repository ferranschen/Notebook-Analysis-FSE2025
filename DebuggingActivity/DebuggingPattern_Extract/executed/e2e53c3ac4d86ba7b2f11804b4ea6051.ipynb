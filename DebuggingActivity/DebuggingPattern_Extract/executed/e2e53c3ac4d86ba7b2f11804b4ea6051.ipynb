{
 "cells": [
  {
   "cell_type": "code",
   "execution_count": 1,
   "id": "1753d8d1",
   "metadata": {
    "execution": {
     "iopub.execute_input": "2023-05-10T01:58:29.100680Z",
     "iopub.status.busy": "2023-05-10T01:58:29.100509Z",
     "iopub.status.idle": "2023-05-10T01:58:31.829600Z",
     "shell.execute_reply": "2023-05-10T01:58:31.828972Z"
    }
   },
   "outputs": [
    {
     "name": "stdout",
     "output_type": "stream",
     "text": [
      "\u001b[33mWARNING: Ignoring invalid distribution -umpy (/opt/anaconda3/lib/python3.9/site-packages)\u001b[0m\r\n",
      "\u001b[33mWARNING: Ignoring invalid distribution -umpy (/opt/anaconda3/lib/python3.9/site-packages)\u001b[0m\r\n",
      "Requirement already satisfied: db-dtypes in /opt/anaconda3/lib/python3.9/site-packages (1.0.5)\r\n",
      "Requirement already satisfied: pandas<2.0dev,>=0.24.2 in /opt/anaconda3/lib/python3.9/site-packages (from db-dtypes) (1.5.3)\r\n",
      "Requirement already satisfied: numpy<2.0dev,>=1.16.6 in /opt/anaconda3/lib/python3.9/site-packages (from db-dtypes) (1.22.4)\r\n",
      "Requirement already satisfied: packaging>=17.0 in /opt/anaconda3/lib/python3.9/site-packages (from db-dtypes) (21.3)\r\n",
      "Requirement already satisfied: pyarrow>=3.0.0 in /opt/anaconda3/lib/python3.9/site-packages (from db-dtypes) (10.0.1)\r\n",
      "Requirement already satisfied: pyparsing!=3.0.5,>=2.0.2 in /opt/anaconda3/lib/python3.9/site-packages (from packaging>=17.0->db-dtypes) (3.0.4)\r\n",
      "Requirement already satisfied: python-dateutil>=2.8.1 in /opt/anaconda3/lib/python3.9/site-packages (from pandas<2.0dev,>=0.24.2->db-dtypes) (2.8.2)\r\n",
      "Requirement already satisfied: pytz>=2020.1 in /opt/anaconda3/lib/python3.9/site-packages (from pandas<2.0dev,>=0.24.2->db-dtypes) (2021.3)\r\n",
      "Requirement already satisfied: six>=1.5 in /opt/anaconda3/lib/python3.9/site-packages (from python-dateutil>=2.8.1->pandas<2.0dev,>=0.24.2->db-dtypes) (1.16.0)\r\n",
      "\u001b[33mWARNING: Ignoring invalid distribution -umpy (/opt/anaconda3/lib/python3.9/site-packages)\u001b[0m\r\n"
     ]
    },
    {
     "name": "stdout",
     "output_type": "stream",
     "text": [
      "\u001b[33mWARNING: Ignoring invalid distribution -umpy (/opt/anaconda3/lib/python3.9/site-packages)\u001b[0m\r\n",
      "\u001b[33mWARNING: Ignoring invalid distribution -umpy (/opt/anaconda3/lib/python3.9/site-packages)\u001b[0m\r\n",
      "\u001b[33mWARNING: Ignoring invalid distribution -umpy (/opt/anaconda3/lib/python3.9/site-packages)\u001b[0m\r\n"
     ]
    }
   ],
   "source": [
    "get_ipython().system('pip install db-dtypes')"
   ]
  },
  {
   "cell_type": "code",
   "execution_count": 2,
   "id": "c2e1a858",
   "metadata": {
    "execution": {
     "iopub.execute_input": "2023-05-10T01:58:31.832721Z",
     "iopub.status.busy": "2023-05-10T01:58:31.832493Z",
     "iopub.status.idle": "2023-05-10T01:58:32.261856Z",
     "shell.execute_reply": "2023-05-10T01:58:32.261558Z"
    }
   },
   "outputs": [],
   "source": [
    "import os\n",
    "import pandas\n",
    "from google.cloud import bigquery\n",
    "from google.oauth2 import service_account\n",
    "from google.cloud.bigquery import magics"
   ]
  },
  {
   "cell_type": "code",
   "execution_count": 3,
   "id": "3ba874f3",
   "metadata": {
    "execution": {
     "iopub.execute_input": "2023-05-10T01:58:32.263598Z",
     "iopub.status.busy": "2023-05-10T01:58:32.263456Z",
     "iopub.status.idle": "2023-05-10T01:58:32.270737Z",
     "shell.execute_reply": "2023-05-10T01:58:32.270349Z"
    }
   },
   "outputs": [],
   "source": [
    "BIGQUERY_PROJECT = 'ironhacks-data'\n",
    "bigquery_client = bigquery.Client(project=BIGQUERY_PROJECT)"
   ]
  },
  {
   "cell_type": "code",
   "execution_count": 4,
   "id": "a884b9db",
   "metadata": {
    "execution": {
     "iopub.execute_input": "2023-05-10T01:58:32.272490Z",
     "iopub.status.busy": "2023-05-10T01:58:32.272368Z",
     "iopub.status.idle": "2023-05-10T01:58:32.274285Z",
     "shell.execute_reply": "2023-05-10T01:58:32.274038Z"
    }
   },
   "outputs": [],
   "source": [
    "query = \"\"\"\n",
    "SELECT *\n",
    "FROM `ironhacks-data.ironhacks_competition.unemployment_data`\n",
    "\"\"\""
   ]
  },
  {
   "cell_type": "code",
   "execution_count": 5,
   "id": "c588e74a",
   "metadata": {
    "execution": {
     "iopub.execute_input": "2023-05-10T01:58:32.275682Z",
     "iopub.status.busy": "2023-05-10T01:58:32.275584Z",
     "iopub.status.idle": "2023-05-10T01:58:34.196696Z",
     "shell.execute_reply": "2023-05-10T01:58:34.196203Z"
    }
   },
   "outputs": [
    {
     "data": {
      "text/html": [
       "<div>\n",
       "<style scoped>\n",
       "    .dataframe tbody tr th:only-of-type {\n",
       "        vertical-align: middle;\n",
       "    }\n",
       "\n",
       "    .dataframe tbody tr th {\n",
       "        vertical-align: top;\n",
       "    }\n",
       "\n",
       "    .dataframe thead th {\n",
       "        text-align: right;\n",
       "    }\n",
       "</style>\n",
       "<table border=\"1\" class=\"dataframe\">\n",
       "  <thead>\n",
       "    <tr style=\"text-align: right;\">\n",
       "      <th></th>\n",
       "      <th>uu_id</th>\n",
       "      <th>timeperiod</th>\n",
       "      <th>week_number</th>\n",
       "      <th>countyfips</th>\n",
       "      <th>tract</th>\n",
       "      <th>tract_name</th>\n",
       "      <th>total_claims</th>\n",
       "      <th>edu_8th_or_less</th>\n",
       "      <th>edu_grades_9_11</th>\n",
       "      <th>edu_hs_grad_equiv</th>\n",
       "      <th>...</th>\n",
       "      <th>gender_female</th>\n",
       "      <th>gender_male</th>\n",
       "      <th>gender_na</th>\n",
       "      <th>race_amerindian</th>\n",
       "      <th>race_asian</th>\n",
       "      <th>race_black</th>\n",
       "      <th>race_noanswer</th>\n",
       "      <th>race_hawaiiannative</th>\n",
       "      <th>race_other</th>\n",
       "      <th>race_white</th>\n",
       "    </tr>\n",
       "  </thead>\n",
       "  <tbody>\n",
       "    <tr>\n",
       "      <th>0</th>\n",
       "      <td>f013068de98db1470bd986137a0c6d23</td>\n",
       "      <td>20220416</td>\n",
       "      <td>16</td>\n",
       "      <td>18003</td>\n",
       "      <td>900</td>\n",
       "      <td>Census Tract 9, Allen County, Indiana</td>\n",
       "      <td>22</td>\n",
       "      <td>0</td>\n",
       "      <td>&lt;NA&gt;</td>\n",
       "      <td>14</td>\n",
       "      <td>...</td>\n",
       "      <td>&lt;NA&gt;</td>\n",
       "      <td>&lt;NA&gt;</td>\n",
       "      <td>0</td>\n",
       "      <td>0</td>\n",
       "      <td>0</td>\n",
       "      <td>11</td>\n",
       "      <td>0</td>\n",
       "      <td>0</td>\n",
       "      <td>&lt;NA&gt;</td>\n",
       "      <td>&lt;NA&gt;</td>\n",
       "    </tr>\n",
       "    <tr>\n",
       "      <th>1</th>\n",
       "      <td>21957d5517323845818d87623589e1ba</td>\n",
       "      <td>20220319</td>\n",
       "      <td>12</td>\n",
       "      <td>18089</td>\n",
       "      <td>10400</td>\n",
       "      <td>Census Tract 104, Lake County, Indiana</td>\n",
       "      <td>111</td>\n",
       "      <td>0</td>\n",
       "      <td>&lt;NA&gt;</td>\n",
       "      <td>108</td>\n",
       "      <td>...</td>\n",
       "      <td>76</td>\n",
       "      <td>35</td>\n",
       "      <td>0</td>\n",
       "      <td>0</td>\n",
       "      <td>0</td>\n",
       "      <td>&lt;NA&gt;</td>\n",
       "      <td>&lt;NA&gt;</td>\n",
       "      <td>0</td>\n",
       "      <td>0</td>\n",
       "      <td>0</td>\n",
       "    </tr>\n",
       "    <tr>\n",
       "      <th>2</th>\n",
       "      <td>6a5609f385912113b6f1014b958ed748</td>\n",
       "      <td>20220326</td>\n",
       "      <td>13</td>\n",
       "      <td>18089</td>\n",
       "      <td>11500</td>\n",
       "      <td>Census Tract 115, Lake County, Indiana</td>\n",
       "      <td>39</td>\n",
       "      <td>0</td>\n",
       "      <td>&lt;NA&gt;</td>\n",
       "      <td>&lt;NA&gt;</td>\n",
       "      <td>...</td>\n",
       "      <td>&lt;NA&gt;</td>\n",
       "      <td>&lt;NA&gt;</td>\n",
       "      <td>0</td>\n",
       "      <td>0</td>\n",
       "      <td>0</td>\n",
       "      <td>39</td>\n",
       "      <td>0</td>\n",
       "      <td>0</td>\n",
       "      <td>0</td>\n",
       "      <td>0</td>\n",
       "    </tr>\n",
       "    <tr>\n",
       "      <th>3</th>\n",
       "      <td>46b2882ec4c373527ec33f7bd4f1388d</td>\n",
       "      <td>20220716</td>\n",
       "      <td>29</td>\n",
       "      <td>18089</td>\n",
       "      <td>20700</td>\n",
       "      <td>Census Tract 207, Lake County, Indiana</td>\n",
       "      <td>14</td>\n",
       "      <td>0</td>\n",
       "      <td>&lt;NA&gt;</td>\n",
       "      <td>&lt;NA&gt;</td>\n",
       "      <td>...</td>\n",
       "      <td>&lt;NA&gt;</td>\n",
       "      <td>&lt;NA&gt;</td>\n",
       "      <td>0</td>\n",
       "      <td>0</td>\n",
       "      <td>&lt;NA&gt;</td>\n",
       "      <td>10</td>\n",
       "      <td>0</td>\n",
       "      <td>0</td>\n",
       "      <td>&lt;NA&gt;</td>\n",
       "      <td>&lt;NA&gt;</td>\n",
       "    </tr>\n",
       "    <tr>\n",
       "      <th>4</th>\n",
       "      <td>37495d17e82f7df326bfc2c4c090f7b7</td>\n",
       "      <td>20220409</td>\n",
       "      <td>15</td>\n",
       "      <td>18089</td>\n",
       "      <td>21900</td>\n",
       "      <td>Census Tract 219, Lake County, Indiana</td>\n",
       "      <td>155</td>\n",
       "      <td>0</td>\n",
       "      <td>&lt;NA&gt;</td>\n",
       "      <td>69</td>\n",
       "      <td>...</td>\n",
       "      <td>90</td>\n",
       "      <td>65</td>\n",
       "      <td>0</td>\n",
       "      <td>0</td>\n",
       "      <td>0</td>\n",
       "      <td>135</td>\n",
       "      <td>&lt;NA&gt;</td>\n",
       "      <td>&lt;NA&gt;</td>\n",
       "      <td>&lt;NA&gt;</td>\n",
       "      <td>&lt;NA&gt;</td>\n",
       "    </tr>\n",
       "  </tbody>\n",
       "</table>\n",
       "<p>5 rows × 25 columns</p>\n",
       "</div>"
      ],
      "text/plain": [
       "                              uu_id  timeperiod  week_number  countyfips  \\\n",
       "0  f013068de98db1470bd986137a0c6d23    20220416           16       18003   \n",
       "1  21957d5517323845818d87623589e1ba    20220319           12       18089   \n",
       "2  6a5609f385912113b6f1014b958ed748    20220326           13       18089   \n",
       "3  46b2882ec4c373527ec33f7bd4f1388d    20220716           29       18089   \n",
       "4  37495d17e82f7df326bfc2c4c090f7b7    20220409           15       18089   \n",
       "\n",
       "   tract                              tract_name  total_claims  \\\n",
       "0    900   Census Tract 9, Allen County, Indiana            22   \n",
       "1  10400  Census Tract 104, Lake County, Indiana           111   \n",
       "2  11500  Census Tract 115, Lake County, Indiana            39   \n",
       "3  20700  Census Tract 207, Lake County, Indiana            14   \n",
       "4  21900  Census Tract 219, Lake County, Indiana           155   \n",
       "\n",
       "   edu_8th_or_less  edu_grades_9_11  edu_hs_grad_equiv  ...  gender_female  \\\n",
       "0                0             <NA>                 14  ...           <NA>   \n",
       "1                0             <NA>                108  ...             76   \n",
       "2                0             <NA>               <NA>  ...           <NA>   \n",
       "3                0             <NA>               <NA>  ...           <NA>   \n",
       "4                0             <NA>                 69  ...             90   \n",
       "\n",
       "   gender_male gender_na race_amerindian race_asian  race_black  \\\n",
       "0         <NA>         0               0          0          11   \n",
       "1           35         0               0          0        <NA>   \n",
       "2         <NA>         0               0          0          39   \n",
       "3         <NA>         0               0       <NA>          10   \n",
       "4           65         0               0          0         135   \n",
       "\n",
       "   race_noanswer  race_hawaiiannative  race_other  race_white  \n",
       "0              0                    0        <NA>        <NA>  \n",
       "1           <NA>                    0           0           0  \n",
       "2              0                    0           0           0  \n",
       "3              0                    0        <NA>        <NA>  \n",
       "4           <NA>                 <NA>        <NA>        <NA>  \n",
       "\n",
       "[5 rows x 25 columns]"
      ]
     },
     "execution_count": 5,
     "metadata": {},
     "output_type": "execute_result"
    }
   ],
   "source": [
    "# QUERY THE DATA ONCE\n",
    "query_job = bigquery_client.query(query)\n",
    "data = query_job.to_dataframe()\n",
    "data.head()"
   ]
  },
  {
   "cell_type": "code",
   "execution_count": 6,
   "id": "8221f0a1",
   "metadata": {
    "execution": {
     "iopub.execute_input": "2023-05-10T01:58:34.199184Z",
     "iopub.status.busy": "2023-05-10T01:58:34.198989Z",
     "iopub.status.idle": "2023-05-10T01:58:34.214625Z",
     "shell.execute_reply": "2023-05-10T01:58:34.214255Z"
    }
   },
   "outputs": [
    {
     "name": "stdout",
     "output_type": "stream",
     "text": [
      "<class 'pandas.core.frame.DataFrame'>\n",
      "RangeIndex: 16833 entries, 0 to 16832\n",
      "Data columns (total 25 columns):\n",
      " #   Column                  Non-Null Count  Dtype \n",
      "---  ------                  --------------  ----- \n",
      " 0   uu_id                   16833 non-null  object\n",
      " 1   timeperiod              16833 non-null  Int64 \n",
      " 2   week_number             16833 non-null  Int64 \n",
      " 3   countyfips              16833 non-null  Int64 \n",
      " 4   tract                   16833 non-null  Int64 \n",
      " 5   tract_name              16833 non-null  object\n",
      " 6   total_claims            16833 non-null  Int64 \n",
      " 7   edu_8th_or_less         13748 non-null  Int64 \n",
      " 8   edu_grades_9_11         5942 non-null   Int64 \n",
      " 9   edu_hs_grad_equiv       6036 non-null   Int64 \n",
      " 10  edu_post_hs             3246 non-null   Int64 \n",
      " 11  edu_unknown             12031 non-null  Int64 \n",
      " 12  top_category_employer1  16833 non-null  object\n",
      " 13  top_category_employer2  16833 non-null  object\n",
      " 14  top_category_employer3  16833 non-null  object\n",
      " 15  gender_female           3835 non-null   Int64 \n",
      " 16  gender_male             3931 non-null   Int64 \n",
      " 17  gender_na               15868 non-null  Int64 \n",
      " 18  race_amerindian         15285 non-null  Int64 \n",
      " 19  race_asian              14939 non-null  Int64 \n",
      " 20  race_black              7124 non-null   Int64 \n",
      " 21  race_noanswer           10089 non-null  Int64 \n",
      " 22  race_hawaiiannative     16426 non-null  Int64 \n",
      " 23  race_other              8075 non-null   Int64 \n",
      " 24  race_white              6392 non-null   Int64 \n",
      "dtypes: Int64(20), object(5)\n",
      "memory usage: 3.5+ MB\n"
     ]
    }
   ],
   "source": [
    "data.info()"
   ]
  },
  {
   "cell_type": "code",
   "execution_count": 7,
   "id": "3e84a0db",
   "metadata": {
    "execution": {
     "iopub.execute_input": "2023-05-10T01:58:34.216692Z",
     "iopub.status.busy": "2023-05-10T01:58:34.216533Z",
     "iopub.status.idle": "2023-05-10T01:58:34.220928Z",
     "shell.execute_reply": "2023-05-10T01:58:34.220542Z"
    }
   },
   "outputs": [
    {
     "data": {
      "text/plain": [
       "56       3043\n",
       "62       2471\n",
       "23       1965\n",
       "31-33    1962\n",
       "72       1662\n",
       "44-45    1608\n",
       "48-49     985\n",
       "81        545\n",
       "54        518\n",
       "52        474\n",
       "42        431\n",
       "61        334\n",
       "55        281\n",
       "92        157\n",
       "71        132\n",
       "53        115\n",
       "N/A        49\n",
       "51         46\n",
       "99         21\n",
       "21         17\n",
       "11         10\n",
       "22          7\n",
       "Name: top_category_employer2, dtype: int64"
      ]
     },
     "execution_count": 7,
     "metadata": {},
     "output_type": "execute_result"
    }
   ],
   "source": [
    "data[\"top_category_employer2\"].value_counts()"
   ]
  },
  {
   "cell_type": "code",
   "execution_count": 8,
   "id": "4afd7913",
   "metadata": {
    "execution": {
     "iopub.execute_input": "2023-05-10T01:58:34.222938Z",
     "iopub.status.busy": "2023-05-10T01:58:34.222787Z",
     "iopub.status.idle": "2023-05-10T01:58:34.230057Z",
     "shell.execute_reply": "2023-05-10T01:58:34.229779Z"
    }
   },
   "outputs": [
    {
     "data": {
      "text/html": [
       "<div>\n",
       "<style scoped>\n",
       "    .dataframe tbody tr th:only-of-type {\n",
       "        vertical-align: middle;\n",
       "    }\n",
       "\n",
       "    .dataframe tbody tr th {\n",
       "        vertical-align: top;\n",
       "    }\n",
       "\n",
       "    .dataframe thead th {\n",
       "        text-align: right;\n",
       "    }\n",
       "</style>\n",
       "<table border=\"1\" class=\"dataframe\">\n",
       "  <thead>\n",
       "    <tr style=\"text-align: right;\">\n",
       "      <th></th>\n",
       "      <th>uu_id</th>\n",
       "      <th>timeperiod</th>\n",
       "      <th>week_number</th>\n",
       "      <th>countyfips</th>\n",
       "      <th>tract</th>\n",
       "      <th>tract_name</th>\n",
       "      <th>total_claims</th>\n",
       "      <th>edu_8th_or_less</th>\n",
       "      <th>edu_grades_9_11</th>\n",
       "      <th>edu_hs_grad_equiv</th>\n",
       "      <th>...</th>\n",
       "      <th>gender_female</th>\n",
       "      <th>gender_male</th>\n",
       "      <th>gender_na</th>\n",
       "      <th>race_amerindian</th>\n",
       "      <th>race_asian</th>\n",
       "      <th>race_black</th>\n",
       "      <th>race_noanswer</th>\n",
       "      <th>race_hawaiiannative</th>\n",
       "      <th>race_other</th>\n",
       "      <th>race_white</th>\n",
       "    </tr>\n",
       "  </thead>\n",
       "  <tbody>\n",
       "  </tbody>\n",
       "</table>\n",
       "<p>0 rows × 25 columns</p>\n",
       "</div>"
      ],
      "text/plain": [
       "Empty DataFrame\n",
       "Columns: [uu_id, timeperiod, week_number, countyfips, tract, tract_name, total_claims, edu_8th_or_less, edu_grades_9_11, edu_hs_grad_equiv, edu_post_hs, edu_unknown, top_category_employer1, top_category_employer2, top_category_employer3, gender_female, gender_male, gender_na, race_amerindian, race_asian, race_black, race_noanswer, race_hawaiiannative, race_other, race_white]\n",
       "Index: []\n",
       "\n",
       "[0 rows x 25 columns]"
      ]
     },
     "execution_count": 8,
     "metadata": {},
     "output_type": "execute_result"
    }
   ],
   "source": [
    "data.loc[data[\"uu_id\"] == \"bd5b040eae3010ce09da8b176ed5aee0\"]"
   ]
  },
  {
   "cell_type": "code",
   "execution_count": 9,
   "id": "85268170",
   "metadata": {
    "execution": {
     "iopub.execute_input": "2023-05-10T01:58:34.231583Z",
     "iopub.status.busy": "2023-05-10T01:58:34.231450Z",
     "iopub.status.idle": "2023-05-10T01:58:34.241778Z",
     "shell.execute_reply": "2023-05-10T01:58:34.241502Z"
    }
   },
   "outputs": [
    {
     "name": "stdout",
     "output_type": "stream",
     "text": [
      "<class 'pandas.core.frame.DataFrame'>\n",
      "RangeIndex: 16833 entries, 0 to 16832\n",
      "Data columns (total 25 columns):\n",
      " #   Column                  Non-Null Count  Dtype \n",
      "---  ------                  --------------  ----- \n",
      " 0   uu_id                   16833 non-null  object\n",
      " 1   timeperiod              16833 non-null  Int64 \n",
      " 2   week_number             16833 non-null  Int64 \n",
      " 3   countyfips              16833 non-null  Int64 \n",
      " 4   tract                   16833 non-null  Int64 \n",
      " 5   tract_name              16833 non-null  object\n",
      " 6   total_claims            16833 non-null  Int64 \n",
      " 7   edu_8th_or_less         13748 non-null  Int64 \n",
      " 8   edu_grades_9_11         5942 non-null   Int64 \n",
      " 9   edu_hs_grad_equiv       6036 non-null   Int64 \n",
      " 10  edu_post_hs             3246 non-null   Int64 \n",
      " 11  edu_unknown             12031 non-null  Int64 \n",
      " 12  top_category_employer1  16833 non-null  object\n",
      " 13  top_category_employer2  16833 non-null  object\n",
      " 14  top_category_employer3  16833 non-null  object\n",
      " 15  gender_female           3835 non-null   Int64 \n",
      " 16  gender_male             3931 non-null   Int64 \n",
      " 17  gender_na               15868 non-null  Int64 \n",
      " 18  race_amerindian         15285 non-null  Int64 \n",
      " 19  race_asian              14939 non-null  Int64 \n",
      " 20  race_black              7124 non-null   Int64 \n",
      " 21  race_noanswer           10089 non-null  Int64 \n",
      " 22  race_hawaiiannative     16426 non-null  Int64 \n",
      " 23  race_other              8075 non-null   Int64 \n",
      " 24  race_white              6392 non-null   Int64 \n",
      "dtypes: Int64(20), object(5)\n",
      "memory usage: 3.5+ MB\n"
     ]
    }
   ],
   "source": [
    "data.info()"
   ]
  },
  {
   "cell_type": "code",
   "execution_count": 10,
   "id": "45f58c62",
   "metadata": {
    "execution": {
     "iopub.execute_input": "2023-05-10T01:58:34.243336Z",
     "iopub.status.busy": "2023-05-10T01:58:34.243245Z",
     "iopub.status.idle": "2023-05-10T01:58:34.246297Z",
     "shell.execute_reply": "2023-05-10T01:58:34.246043Z"
    }
   },
   "outputs": [
    {
     "data": {
      "text/plain": [
       "56       3043\n",
       "62       2471\n",
       "23       1965\n",
       "31-33    1962\n",
       "72       1662\n",
       "44-45    1608\n",
       "48-49     985\n",
       "81        545\n",
       "54        518\n",
       "52        474\n",
       "42        431\n",
       "61        334\n",
       "55        281\n",
       "92        157\n",
       "71        132\n",
       "53        115\n",
       "N/A        49\n",
       "51         46\n",
       "99         21\n",
       "21         17\n",
       "11         10\n",
       "22          7\n",
       "Name: top_category_employer2, dtype: int64"
      ]
     },
     "execution_count": 10,
     "metadata": {},
     "output_type": "execute_result"
    }
   ],
   "source": [
    "data[\"top_category_employer2\"].value_counts()"
   ]
  },
  {
   "cell_type": "code",
   "execution_count": 11,
   "id": "09e9a528",
   "metadata": {
    "execution": {
     "iopub.execute_input": "2023-05-10T01:58:34.247711Z",
     "iopub.status.busy": "2023-05-10T01:58:34.247628Z",
     "iopub.status.idle": "2023-05-10T01:58:34.253731Z",
     "shell.execute_reply": "2023-05-10T01:58:34.253381Z"
    }
   },
   "outputs": [
    {
     "data": {
      "text/html": [
       "<div>\n",
       "<style scoped>\n",
       "    .dataframe tbody tr th:only-of-type {\n",
       "        vertical-align: middle;\n",
       "    }\n",
       "\n",
       "    .dataframe tbody tr th {\n",
       "        vertical-align: top;\n",
       "    }\n",
       "\n",
       "    .dataframe thead th {\n",
       "        text-align: right;\n",
       "    }\n",
       "</style>\n",
       "<table border=\"1\" class=\"dataframe\">\n",
       "  <thead>\n",
       "    <tr style=\"text-align: right;\">\n",
       "      <th></th>\n",
       "      <th>uu_id</th>\n",
       "      <th>timeperiod</th>\n",
       "      <th>week_number</th>\n",
       "      <th>countyfips</th>\n",
       "      <th>tract</th>\n",
       "      <th>tract_name</th>\n",
       "      <th>total_claims</th>\n",
       "      <th>edu_8th_or_less</th>\n",
       "      <th>edu_grades_9_11</th>\n",
       "      <th>edu_hs_grad_equiv</th>\n",
       "      <th>...</th>\n",
       "      <th>gender_female</th>\n",
       "      <th>gender_male</th>\n",
       "      <th>gender_na</th>\n",
       "      <th>race_amerindian</th>\n",
       "      <th>race_asian</th>\n",
       "      <th>race_black</th>\n",
       "      <th>race_noanswer</th>\n",
       "      <th>race_hawaiiannative</th>\n",
       "      <th>race_other</th>\n",
       "      <th>race_white</th>\n",
       "    </tr>\n",
       "  </thead>\n",
       "  <tbody>\n",
       "  </tbody>\n",
       "</table>\n",
       "<p>0 rows × 25 columns</p>\n",
       "</div>"
      ],
      "text/plain": [
       "Empty DataFrame\n",
       "Columns: [uu_id, timeperiod, week_number, countyfips, tract, tract_name, total_claims, edu_8th_or_less, edu_grades_9_11, edu_hs_grad_equiv, edu_post_hs, edu_unknown, top_category_employer1, top_category_employer2, top_category_employer3, gender_female, gender_male, gender_na, race_amerindian, race_asian, race_black, race_noanswer, race_hawaiiannative, race_other, race_white]\n",
       "Index: []\n",
       "\n",
       "[0 rows x 25 columns]"
      ]
     },
     "execution_count": 11,
     "metadata": {},
     "output_type": "execute_result"
    }
   ],
   "source": [
    "data.loc[data[\"uu_id\"] == \"bd5b040eae3010ce09da8b176ed5aee0\"]"
   ]
  },
  {
   "cell_type": "code",
   "execution_count": 12,
   "id": "cb696fff",
   "metadata": {
    "execution": {
     "iopub.execute_input": "2023-05-10T01:58:34.255447Z",
     "iopub.status.busy": "2023-05-10T01:58:34.255335Z",
     "iopub.status.idle": "2023-05-10T01:58:34.256912Z",
     "shell.execute_reply": "2023-05-10T01:58:34.256694Z"
    }
   },
   "outputs": [],
   "source": [
    "query = \"\"\"\n",
    "SELECT *\n",
    "FROM `ironhacks-data.ironhacks_competition.wage_data`\n",
    "\"\"\""
   ]
  },
  {
   "cell_type": "code",
   "execution_count": 13,
   "id": "6fc4f00b",
   "metadata": {
    "execution": {
     "iopub.execute_input": "2023-05-10T01:58:34.258200Z",
     "iopub.status.busy": "2023-05-10T01:58:34.258126Z",
     "iopub.status.idle": "2023-05-10T01:58:35.795062Z",
     "shell.execute_reply": "2023-05-10T01:58:35.794372Z"
    }
   },
   "outputs": [
    {
     "data": {
      "text/html": [
       "<div>\n",
       "<style scoped>\n",
       "    .dataframe tbody tr th:only-of-type {\n",
       "        vertical-align: middle;\n",
       "    }\n",
       "\n",
       "    .dataframe tbody tr th {\n",
       "        vertical-align: top;\n",
       "    }\n",
       "\n",
       "    .dataframe thead th {\n",
       "        text-align: right;\n",
       "    }\n",
       "</style>\n",
       "<table border=\"1\" class=\"dataframe\">\n",
       "  <thead>\n",
       "    <tr style=\"text-align: right;\">\n",
       "      <th></th>\n",
       "      <th>uu_id</th>\n",
       "      <th>countyfips</th>\n",
       "      <th>tract</th>\n",
       "      <th>tract_name</th>\n",
       "      <th>average_wage</th>\n",
       "    </tr>\n",
       "  </thead>\n",
       "  <tbody>\n",
       "    <tr>\n",
       "      <th>0</th>\n",
       "      <td>585f8731c2255d6b3f817a31180848b9</td>\n",
       "      <td>18177</td>\n",
       "      <td>200</td>\n",
       "      <td>Census Tract 2, Wayne County, Indiana</td>\n",
       "      <td>6612.000000</td>\n",
       "    </tr>\n",
       "    <tr>\n",
       "      <th>1</th>\n",
       "      <td>8c9d2aa90948679972a9382aadcc6001</td>\n",
       "      <td>18177</td>\n",
       "      <td>900</td>\n",
       "      <td>Census Tract 9, Wayne County, Indiana</td>\n",
       "      <td>9883.250000</td>\n",
       "    </tr>\n",
       "    <tr>\n",
       "      <th>2</th>\n",
       "      <td>0f3d45341a5b113b813ffb7be7f58bab</td>\n",
       "      <td>18183</td>\n",
       "      <td>50300</td>\n",
       "      <td>Census Tract 503, Whitley County, Indiana</td>\n",
       "      <td>13992.250000</td>\n",
       "    </tr>\n",
       "    <tr>\n",
       "      <th>3</th>\n",
       "      <td>fb55464f8e34af6d750d06968bf719b8</td>\n",
       "      <td>18183</td>\n",
       "      <td>50400</td>\n",
       "      <td>Census Tract 504, Whitley County, Indiana</td>\n",
       "      <td>13613.500000</td>\n",
       "    </tr>\n",
       "    <tr>\n",
       "      <th>4</th>\n",
       "      <td>983badfd7b568728e39a2344a9006078</td>\n",
       "      <td>18001</td>\n",
       "      <td>30200</td>\n",
       "      <td>Census Tract 302, Adams County, Indiana</td>\n",
       "      <td>11816.666667</td>\n",
       "    </tr>\n",
       "  </tbody>\n",
       "</table>\n",
       "</div>"
      ],
      "text/plain": [
       "                              uu_id  countyfips  tract  \\\n",
       "0  585f8731c2255d6b3f817a31180848b9       18177    200   \n",
       "1  8c9d2aa90948679972a9382aadcc6001       18177    900   \n",
       "2  0f3d45341a5b113b813ffb7be7f58bab       18183  50300   \n",
       "3  fb55464f8e34af6d750d06968bf719b8       18183  50400   \n",
       "4  983badfd7b568728e39a2344a9006078       18001  30200   \n",
       "\n",
       "                                  tract_name  average_wage  \n",
       "0      Census Tract 2, Wayne County, Indiana   6612.000000  \n",
       "1      Census Tract 9, Wayne County, Indiana   9883.250000  \n",
       "2  Census Tract 503, Whitley County, Indiana  13992.250000  \n",
       "3  Census Tract 504, Whitley County, Indiana  13613.500000  \n",
       "4    Census Tract 302, Adams County, Indiana  11816.666667  "
      ]
     },
     "execution_count": 13,
     "metadata": {},
     "output_type": "execute_result"
    }
   ],
   "source": [
    "# QUERY THE DATA ONCE\n",
    "query_job = bigquery_client.query(query)\n",
    "wage_data = query_job.to_dataframe()\n",
    "wage_data.head()"
   ]
  },
  {
   "cell_type": "code",
   "execution_count": 14,
   "id": "e6b23475",
   "metadata": {
    "execution": {
     "iopub.execute_input": "2023-05-10T01:58:35.798841Z",
     "iopub.status.busy": "2023-05-10T01:58:35.798515Z",
     "iopub.status.idle": "2023-05-10T01:58:35.801777Z",
     "shell.execute_reply": "2023-05-10T01:58:35.801249Z"
    }
   },
   "outputs": [],
   "source": [
    "query = \"\"\"\n",
    "SELECT *\n",
    "FROM `ironhacks-data.ironhacks_competition.prediction_list`\n",
    "\"\"\""
   ]
  },
  {
   "cell_type": "code",
   "execution_count": 15,
   "id": "629fd96d",
   "metadata": {
    "execution": {
     "iopub.execute_input": "2023-05-10T01:58:35.803949Z",
     "iopub.status.busy": "2023-05-10T01:58:35.803806Z",
     "iopub.status.idle": "2023-05-10T01:58:37.417772Z",
     "shell.execute_reply": "2023-05-10T01:58:37.416899Z"
    }
   },
   "outputs": [
    {
     "data": {
      "text/html": [
       "<div>\n",
       "<style scoped>\n",
       "    .dataframe tbody tr th:only-of-type {\n",
       "        vertical-align: middle;\n",
       "    }\n",
       "\n",
       "    .dataframe tbody tr th {\n",
       "        vertical-align: top;\n",
       "    }\n",
       "\n",
       "    .dataframe thead th {\n",
       "        text-align: right;\n",
       "    }\n",
       "</style>\n",
       "<table border=\"1\" class=\"dataframe\">\n",
       "  <thead>\n",
       "    <tr style=\"text-align: right;\">\n",
       "      <th></th>\n",
       "      <th>uu_id</th>\n",
       "      <th>week_number</th>\n",
       "    </tr>\n",
       "  </thead>\n",
       "  <tbody>\n",
       "    <tr>\n",
       "      <th>0</th>\n",
       "      <td>5bf51fc2e162d6faf9e3cf79e4198378</td>\n",
       "      <td>44</td>\n",
       "    </tr>\n",
       "    <tr>\n",
       "      <th>1</th>\n",
       "      <td>420b44cc7e3f55d738df565421e59941</td>\n",
       "      <td>44</td>\n",
       "    </tr>\n",
       "    <tr>\n",
       "      <th>2</th>\n",
       "      <td>e39c66ecceec76ee8f9f811fa4a2d246</td>\n",
       "      <td>44</td>\n",
       "    </tr>\n",
       "    <tr>\n",
       "      <th>3</th>\n",
       "      <td>a90462cd11ae4e43144239bf7c4828a4</td>\n",
       "      <td>44</td>\n",
       "    </tr>\n",
       "    <tr>\n",
       "      <th>4</th>\n",
       "      <td>8b20a6749088c7ff1237983076ebfeaa</td>\n",
       "      <td>44</td>\n",
       "    </tr>\n",
       "  </tbody>\n",
       "</table>\n",
       "</div>"
      ],
      "text/plain": [
       "                              uu_id  week_number\n",
       "0  5bf51fc2e162d6faf9e3cf79e4198378           44\n",
       "1  420b44cc7e3f55d738df565421e59941           44\n",
       "2  e39c66ecceec76ee8f9f811fa4a2d246           44\n",
       "3  a90462cd11ae4e43144239bf7c4828a4           44\n",
       "4  8b20a6749088c7ff1237983076ebfeaa           44"
      ]
     },
     "execution_count": 15,
     "metadata": {},
     "output_type": "execute_result"
    }
   ],
   "source": [
    "# QUERY THE DATA ONCE\n",
    "query_job = bigquery_client.query(query)\n",
    "predict = query_job.to_dataframe()\n",
    "predict.head()"
   ]
  },
  {
   "cell_type": "code",
   "execution_count": 16,
   "id": "62b53502",
   "metadata": {
    "execution": {
     "iopub.execute_input": "2023-05-10T01:58:37.422656Z",
     "iopub.status.busy": "2023-05-10T01:58:37.422284Z",
     "iopub.status.idle": "2023-05-10T01:58:37.431761Z",
     "shell.execute_reply": "2023-05-10T01:58:37.430909Z"
    }
   },
   "outputs": [
    {
     "data": {
      "text/plain": [
       "0     13711\n",
       "18        5\n",
       "16        5\n",
       "19        4\n",
       "10        3\n",
       "12        3\n",
       "21        3\n",
       "24        2\n",
       "14        2\n",
       "33        2\n",
       "11        2\n",
       "17        1\n",
       "28        1\n",
       "41        1\n",
       "13        1\n",
       "26        1\n",
       "37        1\n",
       "Name: edu_8th_or_less, dtype: Int64"
      ]
     },
     "execution_count": 16,
     "metadata": {},
     "output_type": "execute_result"
    }
   ],
   "source": [
    "data[\"edu_8th_or_less\"].value_counts()"
   ]
  },
  {
   "cell_type": "code",
   "execution_count": 17,
   "id": "6691ae9b",
   "metadata": {
    "execution": {
     "iopub.execute_input": "2023-05-10T01:58:37.435480Z",
     "iopub.status.busy": "2023-05-10T01:58:37.435134Z",
     "iopub.status.idle": "2023-05-10T01:58:37.438395Z",
     "shell.execute_reply": "2023-05-10T01:58:37.437800Z"
    }
   },
   "outputs": [],
   "source": [
    "query = \"\"\"\n",
    "SELECT *\n",
    "FROM `ironhacks-data.ironhacks_competition.wage_data`\n",
    "\"\"\""
   ]
  },
  {
   "cell_type": "code",
   "execution_count": 18,
   "id": "43091902",
   "metadata": {
    "execution": {
     "iopub.execute_input": "2023-05-10T01:58:37.441187Z",
     "iopub.status.busy": "2023-05-10T01:58:37.440997Z",
     "iopub.status.idle": "2023-05-10T01:58:38.625926Z",
     "shell.execute_reply": "2023-05-10T01:58:38.624906Z"
    }
   },
   "outputs": [
    {
     "data": {
      "text/html": [
       "<div>\n",
       "<style scoped>\n",
       "    .dataframe tbody tr th:only-of-type {\n",
       "        vertical-align: middle;\n",
       "    }\n",
       "\n",
       "    .dataframe tbody tr th {\n",
       "        vertical-align: top;\n",
       "    }\n",
       "\n",
       "    .dataframe thead th {\n",
       "        text-align: right;\n",
       "    }\n",
       "</style>\n",
       "<table border=\"1\" class=\"dataframe\">\n",
       "  <thead>\n",
       "    <tr style=\"text-align: right;\">\n",
       "      <th></th>\n",
       "      <th>uu_id</th>\n",
       "      <th>countyfips</th>\n",
       "      <th>tract</th>\n",
       "      <th>tract_name</th>\n",
       "      <th>average_wage</th>\n",
       "    </tr>\n",
       "  </thead>\n",
       "  <tbody>\n",
       "    <tr>\n",
       "      <th>0</th>\n",
       "      <td>585f8731c2255d6b3f817a31180848b9</td>\n",
       "      <td>18177</td>\n",
       "      <td>200</td>\n",
       "      <td>Census Tract 2, Wayne County, Indiana</td>\n",
       "      <td>6612.000000</td>\n",
       "    </tr>\n",
       "    <tr>\n",
       "      <th>1</th>\n",
       "      <td>8c9d2aa90948679972a9382aadcc6001</td>\n",
       "      <td>18177</td>\n",
       "      <td>900</td>\n",
       "      <td>Census Tract 9, Wayne County, Indiana</td>\n",
       "      <td>9883.250000</td>\n",
       "    </tr>\n",
       "    <tr>\n",
       "      <th>2</th>\n",
       "      <td>0f3d45341a5b113b813ffb7be7f58bab</td>\n",
       "      <td>18183</td>\n",
       "      <td>50300</td>\n",
       "      <td>Census Tract 503, Whitley County, Indiana</td>\n",
       "      <td>13992.250000</td>\n",
       "    </tr>\n",
       "    <tr>\n",
       "      <th>3</th>\n",
       "      <td>fb55464f8e34af6d750d06968bf719b8</td>\n",
       "      <td>18183</td>\n",
       "      <td>50400</td>\n",
       "      <td>Census Tract 504, Whitley County, Indiana</td>\n",
       "      <td>13613.500000</td>\n",
       "    </tr>\n",
       "    <tr>\n",
       "      <th>4</th>\n",
       "      <td>983badfd7b568728e39a2344a9006078</td>\n",
       "      <td>18001</td>\n",
       "      <td>30200</td>\n",
       "      <td>Census Tract 302, Adams County, Indiana</td>\n",
       "      <td>11816.666667</td>\n",
       "    </tr>\n",
       "  </tbody>\n",
       "</table>\n",
       "</div>"
      ],
      "text/plain": [
       "                              uu_id  countyfips  tract  \\\n",
       "0  585f8731c2255d6b3f817a31180848b9       18177    200   \n",
       "1  8c9d2aa90948679972a9382aadcc6001       18177    900   \n",
       "2  0f3d45341a5b113b813ffb7be7f58bab       18183  50300   \n",
       "3  fb55464f8e34af6d750d06968bf719b8       18183  50400   \n",
       "4  983badfd7b568728e39a2344a9006078       18001  30200   \n",
       "\n",
       "                                  tract_name  average_wage  \n",
       "0      Census Tract 2, Wayne County, Indiana   6612.000000  \n",
       "1      Census Tract 9, Wayne County, Indiana   9883.250000  \n",
       "2  Census Tract 503, Whitley County, Indiana  13992.250000  \n",
       "3  Census Tract 504, Whitley County, Indiana  13613.500000  \n",
       "4    Census Tract 302, Adams County, Indiana  11816.666667  "
      ]
     },
     "execution_count": 18,
     "metadata": {},
     "output_type": "execute_result"
    }
   ],
   "source": [
    "# QUERY THE DATA ONCE\n",
    "query_job = bigquery_client.query(query)\n",
    "wage_data = query_job.to_dataframe()\n",
    "wage_data.head()"
   ]
  },
  {
   "cell_type": "code",
   "execution_count": 19,
   "id": "c47b4e35",
   "metadata": {
    "execution": {
     "iopub.execute_input": "2023-05-10T01:58:38.630724Z",
     "iopub.status.busy": "2023-05-10T01:58:38.630321Z",
     "iopub.status.idle": "2023-05-10T01:58:38.635034Z",
     "shell.execute_reply": "2023-05-10T01:58:38.633857Z"
    }
   },
   "outputs": [],
   "source": [
    "query = \"\"\"\n",
    "SELECT *\n",
    "FROM `ironhacks-data.ironhacks_competition.prediction_list`\n",
    "\"\"\""
   ]
  },
  {
   "cell_type": "code",
   "execution_count": 20,
   "id": "0565109a",
   "metadata": {
    "execution": {
     "iopub.execute_input": "2023-05-10T01:58:38.639373Z",
     "iopub.status.busy": "2023-05-10T01:58:38.639008Z",
     "iopub.status.idle": "2023-05-10T01:58:40.069518Z",
     "shell.execute_reply": "2023-05-10T01:58:40.068479Z"
    }
   },
   "outputs": [
    {
     "data": {
      "text/html": [
       "<div>\n",
       "<style scoped>\n",
       "    .dataframe tbody tr th:only-of-type {\n",
       "        vertical-align: middle;\n",
       "    }\n",
       "\n",
       "    .dataframe tbody tr th {\n",
       "        vertical-align: top;\n",
       "    }\n",
       "\n",
       "    .dataframe thead th {\n",
       "        text-align: right;\n",
       "    }\n",
       "</style>\n",
       "<table border=\"1\" class=\"dataframe\">\n",
       "  <thead>\n",
       "    <tr style=\"text-align: right;\">\n",
       "      <th></th>\n",
       "      <th>uu_id</th>\n",
       "      <th>week_number</th>\n",
       "    </tr>\n",
       "  </thead>\n",
       "  <tbody>\n",
       "    <tr>\n",
       "      <th>0</th>\n",
       "      <td>5bf51fc2e162d6faf9e3cf79e4198378</td>\n",
       "      <td>44</td>\n",
       "    </tr>\n",
       "    <tr>\n",
       "      <th>1</th>\n",
       "      <td>420b44cc7e3f55d738df565421e59941</td>\n",
       "      <td>44</td>\n",
       "    </tr>\n",
       "    <tr>\n",
       "      <th>2</th>\n",
       "      <td>e39c66ecceec76ee8f9f811fa4a2d246</td>\n",
       "      <td>44</td>\n",
       "    </tr>\n",
       "    <tr>\n",
       "      <th>3</th>\n",
       "      <td>a90462cd11ae4e43144239bf7c4828a4</td>\n",
       "      <td>44</td>\n",
       "    </tr>\n",
       "    <tr>\n",
       "      <th>4</th>\n",
       "      <td>8b20a6749088c7ff1237983076ebfeaa</td>\n",
       "      <td>44</td>\n",
       "    </tr>\n",
       "  </tbody>\n",
       "</table>\n",
       "</div>"
      ],
      "text/plain": [
       "                              uu_id  week_number\n",
       "0  5bf51fc2e162d6faf9e3cf79e4198378           44\n",
       "1  420b44cc7e3f55d738df565421e59941           44\n",
       "2  e39c66ecceec76ee8f9f811fa4a2d246           44\n",
       "3  a90462cd11ae4e43144239bf7c4828a4           44\n",
       "4  8b20a6749088c7ff1237983076ebfeaa           44"
      ]
     },
     "execution_count": 20,
     "metadata": {},
     "output_type": "execute_result"
    }
   ],
   "source": [
    "# QUERY THE DATA ONCE\n",
    "query_job = bigquery_client.query(query)\n",
    "predict = query_job.to_dataframe()\n",
    "predict.head()"
   ]
  },
  {
   "cell_type": "code",
   "execution_count": 21,
   "id": "9096642e",
   "metadata": {
    "execution": {
     "iopub.execute_input": "2023-05-10T01:58:40.073648Z",
     "iopub.status.busy": "2023-05-10T01:58:40.073237Z",
     "iopub.status.idle": "2023-05-10T01:58:40.078921Z",
     "shell.execute_reply": "2023-05-10T01:58:40.078212Z"
    }
   },
   "outputs": [
    {
     "ename": "SyntaxError",
     "evalue": "invalid syntax (610320058.py, line 1)",
     "output_type": "error",
     "traceback": [
      "\u001b[0;36m  Cell \u001b[0;32mIn [21], line 1\u001b[0;36m\u001b[0m\n\u001b[0;31m    data[\"top_category_employer2\"].map(lambda x: '32' if x =='31-33')\u001b[0m\n\u001b[0m                                                                    ^\u001b[0m\n\u001b[0;31mSyntaxError\u001b[0m\u001b[0;31m:\u001b[0m invalid syntax\n"
     ]
    }
   ],
   "source": [
    "data[\"top_category_employer2\"].map(lambda x: '32' if x =='31-33')"
   ]
  },
  {
   "cell_type": "code",
   "execution_count": 22,
   "id": "fc836c7d",
   "metadata": {
    "execution": {
     "iopub.execute_input": "2023-05-10T01:58:40.083691Z",
     "iopub.status.busy": "2023-05-10T01:58:40.083215Z",
     "iopub.status.idle": "2023-05-10T01:58:40.094134Z",
     "shell.execute_reply": "2023-05-10T01:58:40.093379Z"
    }
   },
   "outputs": [
    {
     "data": {
      "text/plain": [
       "0           51\n",
       "1           51\n",
       "2          N/A\n",
       "3           51\n",
       "4           51\n",
       "         ...  \n",
       "16828    48-49\n",
       "16829    48-49\n",
       "16830    48-49\n",
       "16831    48-49\n",
       "16832    48-49\n",
       "Name: top_category_employer2, Length: 16833, dtype: object"
      ]
     },
     "execution_count": 22,
     "metadata": {},
     "output_type": "execute_result"
    }
   ],
   "source": [
    "data[\"top_category_employer2\"].map(lambda x: '32' if x =='31-33' else x)"
   ]
  },
  {
   "cell_type": "code",
   "execution_count": 23,
   "id": "de57746e",
   "metadata": {
    "execution": {
     "iopub.execute_input": "2023-05-10T01:58:40.097590Z",
     "iopub.status.busy": "2023-05-10T01:58:40.097330Z",
     "iopub.status.idle": "2023-05-10T01:58:40.105085Z",
     "shell.execute_reply": "2023-05-10T01:58:40.104518Z"
    }
   },
   "outputs": [],
   "source": [
    "data[\"top_category_employer2\"] = data[\"top_category_employer2\"].map(lambda x: '32' if x =='31-33' else x)"
   ]
  },
  {
   "cell_type": "code",
   "execution_count": 24,
   "id": "46251901",
   "metadata": {
    "execution": {
     "iopub.execute_input": "2023-05-10T01:58:40.107665Z",
     "iopub.status.busy": "2023-05-10T01:58:40.107464Z",
     "iopub.status.idle": "2023-05-10T01:58:40.113018Z",
     "shell.execute_reply": "2023-05-10T01:58:40.112611Z"
    }
   },
   "outputs": [
    {
     "data": {
      "text/plain": [
       "56       3043\n",
       "62       2471\n",
       "23       1965\n",
       "32       1962\n",
       "72       1662\n",
       "44-45    1608\n",
       "48-49     985\n",
       "81        545\n",
       "54        518\n",
       "52        474\n",
       "42        431\n",
       "61        334\n",
       "55        281\n",
       "92        157\n",
       "71        132\n",
       "53        115\n",
       "N/A        49\n",
       "51         46\n",
       "99         21\n",
       "21         17\n",
       "11         10\n",
       "22          7\n",
       "Name: top_category_employer2, dtype: int64"
      ]
     },
     "execution_count": 24,
     "metadata": {},
     "output_type": "execute_result"
    }
   ],
   "source": [
    "data[\"top_category_employer2\"].value_counts()"
   ]
  },
  {
   "cell_type": "code",
   "execution_count": 25,
   "id": "c1e2a772",
   "metadata": {
    "execution": {
     "iopub.execute_input": "2023-05-10T01:58:40.115238Z",
     "iopub.status.busy": "2023-05-10T01:58:40.115039Z",
     "iopub.status.idle": "2023-05-10T01:58:40.121191Z",
     "shell.execute_reply": "2023-05-10T01:58:40.120718Z"
    }
   },
   "outputs": [],
   "source": [
    "data[\"top_category_employer1\"] = data[\"top_category_employer1\"].map(lambda x: '32' if x =='31-33' else x)"
   ]
  },
  {
   "cell_type": "code",
   "execution_count": 26,
   "id": "db304a0e",
   "metadata": {
    "execution": {
     "iopub.execute_input": "2023-05-10T01:58:40.123331Z",
     "iopub.status.busy": "2023-05-10T01:58:40.123143Z",
     "iopub.status.idle": "2023-05-10T01:58:40.127519Z",
     "shell.execute_reply": "2023-05-10T01:58:40.127156Z"
    }
   },
   "outputs": [],
   "source": [
    "data[\"top_category_employer1\"] = data[\"top_category_employer1\"].map(lambda x: '44.5' if x =='44-45' else x)"
   ]
  },
  {
   "cell_type": "code",
   "execution_count": 27,
   "id": "6b388d42",
   "metadata": {
    "execution": {
     "iopub.execute_input": "2023-05-10T01:58:40.129405Z",
     "iopub.status.busy": "2023-05-10T01:58:40.129283Z",
     "iopub.status.idle": "2023-05-10T01:58:40.133403Z",
     "shell.execute_reply": "2023-05-10T01:58:40.133061Z"
    }
   },
   "outputs": [],
   "source": [
    "data[\"top_category_employer1\"] = data[\"top_category_employer1\"].map(lambda x: '48.5' if x =='48-49' else x)"
   ]
  },
  {
   "cell_type": "code",
   "execution_count": 28,
   "id": "3c0f006c",
   "metadata": {
    "execution": {
     "iopub.execute_input": "2023-05-10T01:58:40.135260Z",
     "iopub.status.busy": "2023-05-10T01:58:40.135152Z",
     "iopub.status.idle": "2023-05-10T01:58:40.147654Z",
     "shell.execute_reply": "2023-05-10T01:58:40.147310Z"
    }
   },
   "outputs": [
    {
     "name": "stdout",
     "output_type": "stream",
     "text": [
      "<class 'pandas.core.frame.DataFrame'>\n",
      "RangeIndex: 16833 entries, 0 to 16832\n",
      "Data columns (total 25 columns):\n",
      " #   Column                  Non-Null Count  Dtype \n",
      "---  ------                  --------------  ----- \n",
      " 0   uu_id                   16833 non-null  object\n",
      " 1   timeperiod              16833 non-null  Int64 \n",
      " 2   week_number             16833 non-null  Int64 \n",
      " 3   countyfips              16833 non-null  Int64 \n",
      " 4   tract                   16833 non-null  Int64 \n",
      " 5   tract_name              16833 non-null  object\n",
      " 6   total_claims            16833 non-null  Int64 \n",
      " 7   edu_8th_or_less         13748 non-null  Int64 \n",
      " 8   edu_grades_9_11         5942 non-null   Int64 \n",
      " 9   edu_hs_grad_equiv       6036 non-null   Int64 \n",
      " 10  edu_post_hs             3246 non-null   Int64 \n",
      " 11  edu_unknown             12031 non-null  Int64 \n",
      " 12  top_category_employer1  16833 non-null  object\n",
      " 13  top_category_employer2  16833 non-null  object\n",
      " 14  top_category_employer3  16833 non-null  object\n",
      " 15  gender_female           3835 non-null   Int64 \n",
      " 16  gender_male             3931 non-null   Int64 \n",
      " 17  gender_na               15868 non-null  Int64 \n",
      " 18  race_amerindian         15285 non-null  Int64 \n",
      " 19  race_asian              14939 non-null  Int64 \n",
      " 20  race_black              7124 non-null   Int64 \n",
      " 21  race_noanswer           10089 non-null  Int64 \n",
      " 22  race_hawaiiannative     16426 non-null  Int64 \n",
      " 23  race_other              8075 non-null   Int64 \n",
      " 24  race_white              6392 non-null   Int64 \n",
      "dtypes: Int64(20), object(5)\n",
      "memory usage: 3.5+ MB\n"
     ]
    }
   ],
   "source": [
    "data.info()"
   ]
  },
  {
   "cell_type": "code",
   "execution_count": 29,
   "id": "f3fe5ab8",
   "metadata": {
    "execution": {
     "iopub.execute_input": "2023-05-10T01:58:40.149200Z",
     "iopub.status.busy": "2023-05-10T01:58:40.149110Z",
     "iopub.status.idle": "2023-05-10T01:58:40.153200Z",
     "shell.execute_reply": "2023-05-10T01:58:40.152777Z"
    }
   },
   "outputs": [
    {
     "data": {
      "text/plain": [
       "56       3043\n",
       "62       2471\n",
       "23       1965\n",
       "32       1962\n",
       "72       1662\n",
       "44-45    1608\n",
       "48-49     985\n",
       "81        545\n",
       "54        518\n",
       "52        474\n",
       "42        431\n",
       "61        334\n",
       "55        281\n",
       "92        157\n",
       "71        132\n",
       "53        115\n",
       "N/A        49\n",
       "51         46\n",
       "99         21\n",
       "21         17\n",
       "11         10\n",
       "22          7\n",
       "Name: top_category_employer2, dtype: int64"
      ]
     },
     "execution_count": 29,
     "metadata": {},
     "output_type": "execute_result"
    }
   ],
   "source": [
    "data[\"top_category_employer2\"].value_counts()"
   ]
  },
  {
   "cell_type": "code",
   "execution_count": 30,
   "id": "4a9424e0",
   "metadata": {
    "execution": {
     "iopub.execute_input": "2023-05-10T01:58:40.154770Z",
     "iopub.status.busy": "2023-05-10T01:58:40.154673Z",
     "iopub.status.idle": "2023-05-10T01:58:40.157920Z",
     "shell.execute_reply": "2023-05-10T01:58:40.157647Z"
    }
   },
   "outputs": [],
   "source": [
    "data[\"top_category_employer1\"] = data[\"top_category_employer1\"].map(lambda x: '32' if x =='31-33' else x)"
   ]
  },
  {
   "cell_type": "code",
   "execution_count": 31,
   "id": "38ce2e9e",
   "metadata": {
    "execution": {
     "iopub.execute_input": "2023-05-10T01:58:40.159264Z",
     "iopub.status.busy": "2023-05-10T01:58:40.159179Z",
     "iopub.status.idle": "2023-05-10T01:58:40.162127Z",
     "shell.execute_reply": "2023-05-10T01:58:40.161882Z"
    }
   },
   "outputs": [],
   "source": [
    "data[\"top_category_employer1\"] = data[\"top_category_employer1\"].map(lambda x: '44.5' if x =='44-45' else x)"
   ]
  },
  {
   "cell_type": "code",
   "execution_count": 32,
   "id": "2df088ce",
   "metadata": {
    "execution": {
     "iopub.execute_input": "2023-05-10T01:58:40.163430Z",
     "iopub.status.busy": "2023-05-10T01:58:40.163350Z",
     "iopub.status.idle": "2023-05-10T01:58:40.166106Z",
     "shell.execute_reply": "2023-05-10T01:58:40.165861Z"
    }
   },
   "outputs": [],
   "source": [
    "data[\"top_category_employer1\"] = data[\"top_category_employer1\"].map(lambda x: '48.5' if x =='48-49' else x)"
   ]
  },
  {
   "cell_type": "code",
   "execution_count": 33,
   "id": "6bd28fd9",
   "metadata": {
    "execution": {
     "iopub.execute_input": "2023-05-10T01:58:40.167795Z",
     "iopub.status.busy": "2023-05-10T01:58:40.167686Z",
     "iopub.status.idle": "2023-05-10T01:58:40.171229Z",
     "shell.execute_reply": "2023-05-10T01:58:40.170941Z"
    }
   },
   "outputs": [],
   "source": [
    "data[\"top_category_employer2\"] = data[\"top_category_employer2\"].map(lambda x: '32' if x =='31-33' else x)"
   ]
  },
  {
   "cell_type": "code",
   "execution_count": 34,
   "id": "d1a863d8",
   "metadata": {
    "execution": {
     "iopub.execute_input": "2023-05-10T01:58:40.172608Z",
     "iopub.status.busy": "2023-05-10T01:58:40.172529Z",
     "iopub.status.idle": "2023-05-10T01:58:40.175478Z",
     "shell.execute_reply": "2023-05-10T01:58:40.175234Z"
    }
   },
   "outputs": [],
   "source": [
    "data[\"top_category_employer2\"] = data[\"top_category_employer2\"].map(lambda x: '44.5' if x =='44-45' else x)"
   ]
  },
  {
   "cell_type": "code",
   "execution_count": 35,
   "id": "67628c26",
   "metadata": {
    "execution": {
     "iopub.execute_input": "2023-05-10T01:58:40.176798Z",
     "iopub.status.busy": "2023-05-10T01:58:40.176718Z",
     "iopub.status.idle": "2023-05-10T01:58:40.179656Z",
     "shell.execute_reply": "2023-05-10T01:58:40.179419Z"
    }
   },
   "outputs": [],
   "source": [
    "data[\"top_category_employer2\"] = data[\"top_category_employer2\"].map(lambda x: '48.5' if x =='48-49' else x)"
   ]
  },
  {
   "cell_type": "code",
   "execution_count": 36,
   "id": "8ad88ee4",
   "metadata": {
    "execution": {
     "iopub.execute_input": "2023-05-10T01:58:40.180982Z",
     "iopub.status.busy": "2023-05-10T01:58:40.180906Z",
     "iopub.status.idle": "2023-05-10T01:58:40.184192Z",
     "shell.execute_reply": "2023-05-10T01:58:40.183934Z"
    }
   },
   "outputs": [],
   "source": [
    "data[\"top_category_employer3\"] = data[\"top_category_employer3\"].map(lambda x: '32' if x =='31-33' else x)"
   ]
  },
  {
   "cell_type": "code",
   "execution_count": 37,
   "id": "9cc2d4cc",
   "metadata": {
    "execution": {
     "iopub.execute_input": "2023-05-10T01:58:40.185577Z",
     "iopub.status.busy": "2023-05-10T01:58:40.185499Z",
     "iopub.status.idle": "2023-05-10T01:58:40.188727Z",
     "shell.execute_reply": "2023-05-10T01:58:40.188392Z"
    }
   },
   "outputs": [],
   "source": [
    "data[\"top_category_employer3\"] = data[\"top_category_employer3\"].map(lambda x: '44.5' if x =='44-45' else x)"
   ]
  },
  {
   "cell_type": "code",
   "execution_count": 38,
   "id": "deb0c23f",
   "metadata": {
    "execution": {
     "iopub.execute_input": "2023-05-10T01:58:40.190323Z",
     "iopub.status.busy": "2023-05-10T01:58:40.190225Z",
     "iopub.status.idle": "2023-05-10T01:58:40.193287Z",
     "shell.execute_reply": "2023-05-10T01:58:40.193044Z"
    }
   },
   "outputs": [],
   "source": [
    "data[\"top_category_employer3\"] = data[\"top_category_employer3\"].map(lambda x: '48.5' if x =='48-49' else x)"
   ]
  },
  {
   "cell_type": "code",
   "execution_count": 39,
   "id": "7efac33d",
   "metadata": {
    "execution": {
     "iopub.execute_input": "2023-05-10T01:58:40.194608Z",
     "iopub.status.busy": "2023-05-10T01:58:40.194517Z",
     "iopub.status.idle": "2023-05-10T01:58:40.197461Z",
     "shell.execute_reply": "2023-05-10T01:58:40.197222Z"
    }
   },
   "outputs": [
    {
     "data": {
      "text/plain": [
       "0     13711\n",
       "18        5\n",
       "16        5\n",
       "19        4\n",
       "10        3\n",
       "12        3\n",
       "21        3\n",
       "24        2\n",
       "14        2\n",
       "33        2\n",
       "11        2\n",
       "17        1\n",
       "28        1\n",
       "41        1\n",
       "13        1\n",
       "26        1\n",
       "37        1\n",
       "Name: edu_8th_or_less, dtype: Int64"
      ]
     },
     "execution_count": 39,
     "metadata": {},
     "output_type": "execute_result"
    }
   ],
   "source": [
    "data[\"edu_8th_or_less\"].value_counts()"
   ]
  },
  {
   "cell_type": "code",
   "execution_count": 40,
   "id": "d87e099e",
   "metadata": {
    "execution": {
     "iopub.execute_input": "2023-05-10T01:58:40.198848Z",
     "iopub.status.busy": "2023-05-10T01:58:40.198750Z",
     "iopub.status.idle": "2023-05-10T01:58:40.273868Z",
     "shell.execute_reply": "2023-05-10T01:58:40.273618Z"
    }
   },
   "outputs": [
    {
     "ename": "NameError",
     "evalue": "name 'df' is not defined",
     "output_type": "error",
     "traceback": [
      "\u001b[0;31m---------------------------------------------------------------------------\u001b[0m",
      "\u001b[0;31mNameError\u001b[0m                                 Traceback (most recent call last)",
      "Cell \u001b[0;32mIn [40], line 1\u001b[0m\n\u001b[0;32m----> 1\u001b[0m \u001b[43mdf\u001b[49m[\u001b[38;5;124m\"\u001b[39m\u001b[38;5;124mtop_category_employer1\u001b[39m\u001b[38;5;124m\"\u001b[39m]\u001b[38;5;241m.\u001b[39mastype(\u001b[38;5;28mint\u001b[39m) \n",
      "\u001b[0;31mNameError\u001b[0m: name 'df' is not defined"
     ]
    }
   ],
   "source": [
    "df[\"top_category_employer1\"].astype(int) "
   ]
  },
  {
   "cell_type": "code",
   "execution_count": 41,
   "id": "d0ba80e5",
   "metadata": {
    "execution": {
     "iopub.execute_input": "2023-05-10T01:58:40.275355Z",
     "iopub.status.busy": "2023-05-10T01:58:40.275270Z",
     "iopub.status.idle": "2023-05-10T01:58:40.659906Z",
     "shell.execute_reply": "2023-05-10T01:58:40.659064Z"
    }
   },
   "outputs": [
    {
     "ename": "ValueError",
     "evalue": "invalid literal for int() with base 10: '48.5'",
     "output_type": "error",
     "traceback": [
      "\u001b[0;31m---------------------------------------------------------------------------\u001b[0m",
      "\u001b[0;31mValueError\u001b[0m                                Traceback (most recent call last)",
      "Cell \u001b[0;32mIn [41], line 1\u001b[0m\n\u001b[0;32m----> 1\u001b[0m \u001b[43mdata\u001b[49m\u001b[43m[\u001b[49m\u001b[38;5;124;43m\"\u001b[39;49m\u001b[38;5;124;43mtop_category_employer1\u001b[39;49m\u001b[38;5;124;43m\"\u001b[39;49m\u001b[43m]\u001b[49m\u001b[38;5;241;43m.\u001b[39;49m\u001b[43mastype\u001b[49m\u001b[43m(\u001b[49m\u001b[38;5;28;43mint\u001b[39;49m\u001b[43m)\u001b[49m \n",
      "File \u001b[0;32m/opt/homebrew/lib/python3.9/site-packages/pandas/core/generic.py:6240\u001b[0m, in \u001b[0;36mNDFrame.astype\u001b[0;34m(self, dtype, copy, errors)\u001b[0m\n\u001b[1;32m   6233\u001b[0m     results \u001b[38;5;241m=\u001b[39m [\n\u001b[1;32m   6234\u001b[0m         \u001b[38;5;28mself\u001b[39m\u001b[38;5;241m.\u001b[39miloc[:, i]\u001b[38;5;241m.\u001b[39mastype(dtype, copy\u001b[38;5;241m=\u001b[39mcopy)\n\u001b[1;32m   6235\u001b[0m         \u001b[38;5;28;01mfor\u001b[39;00m i \u001b[38;5;129;01min\u001b[39;00m \u001b[38;5;28mrange\u001b[39m(\u001b[38;5;28mlen\u001b[39m(\u001b[38;5;28mself\u001b[39m\u001b[38;5;241m.\u001b[39mcolumns))\n\u001b[1;32m   6236\u001b[0m     ]\n\u001b[1;32m   6238\u001b[0m \u001b[38;5;28;01melse\u001b[39;00m:\n\u001b[1;32m   6239\u001b[0m     \u001b[38;5;66;03m# else, only a single dtype is given\u001b[39;00m\n\u001b[0;32m-> 6240\u001b[0m     new_data \u001b[38;5;241m=\u001b[39m \u001b[38;5;28;43mself\u001b[39;49m\u001b[38;5;241;43m.\u001b[39;49m\u001b[43m_mgr\u001b[49m\u001b[38;5;241;43m.\u001b[39;49m\u001b[43mastype\u001b[49m\u001b[43m(\u001b[49m\u001b[43mdtype\u001b[49m\u001b[38;5;241;43m=\u001b[39;49m\u001b[43mdtype\u001b[49m\u001b[43m,\u001b[49m\u001b[43m \u001b[49m\u001b[43mcopy\u001b[49m\u001b[38;5;241;43m=\u001b[39;49m\u001b[43mcopy\u001b[49m\u001b[43m,\u001b[49m\u001b[43m \u001b[49m\u001b[43merrors\u001b[49m\u001b[38;5;241;43m=\u001b[39;49m\u001b[43merrors\u001b[49m\u001b[43m)\u001b[49m\n\u001b[1;32m   6241\u001b[0m     \u001b[38;5;28;01mreturn\u001b[39;00m \u001b[38;5;28mself\u001b[39m\u001b[38;5;241m.\u001b[39m_constructor(new_data)\u001b[38;5;241m.\u001b[39m__finalize__(\u001b[38;5;28mself\u001b[39m, method\u001b[38;5;241m=\u001b[39m\u001b[38;5;124m\"\u001b[39m\u001b[38;5;124mastype\u001b[39m\u001b[38;5;124m\"\u001b[39m)\n\u001b[1;32m   6243\u001b[0m \u001b[38;5;66;03m# GH 33113: handle empty frame or series\u001b[39;00m\n",
      "File \u001b[0;32m/opt/homebrew/lib/python3.9/site-packages/pandas/core/internals/managers.py:445\u001b[0m, in \u001b[0;36mBaseBlockManager.astype\u001b[0;34m(self, dtype, copy, errors)\u001b[0m\n\u001b[1;32m    444\u001b[0m \u001b[38;5;28;01mdef\u001b[39;00m \u001b[38;5;21mastype\u001b[39m(\u001b[38;5;28mself\u001b[39m: T, dtype, copy: \u001b[38;5;28mbool\u001b[39m \u001b[38;5;241m=\u001b[39m \u001b[38;5;28;01mFalse\u001b[39;00m, errors: \u001b[38;5;28mstr\u001b[39m \u001b[38;5;241m=\u001b[39m \u001b[38;5;124m\"\u001b[39m\u001b[38;5;124mraise\u001b[39m\u001b[38;5;124m\"\u001b[39m) \u001b[38;5;241m-\u001b[39m\u001b[38;5;241m>\u001b[39m T:\n\u001b[0;32m--> 445\u001b[0m     \u001b[38;5;28;01mreturn\u001b[39;00m \u001b[38;5;28;43mself\u001b[39;49m\u001b[38;5;241;43m.\u001b[39;49m\u001b[43mapply\u001b[49m\u001b[43m(\u001b[49m\u001b[38;5;124;43m\"\u001b[39;49m\u001b[38;5;124;43mastype\u001b[39;49m\u001b[38;5;124;43m\"\u001b[39;49m\u001b[43m,\u001b[49m\u001b[43m \u001b[49m\u001b[43mdtype\u001b[49m\u001b[38;5;241;43m=\u001b[39;49m\u001b[43mdtype\u001b[49m\u001b[43m,\u001b[49m\u001b[43m \u001b[49m\u001b[43mcopy\u001b[49m\u001b[38;5;241;43m=\u001b[39;49m\u001b[43mcopy\u001b[49m\u001b[43m,\u001b[49m\u001b[43m \u001b[49m\u001b[43merrors\u001b[49m\u001b[38;5;241;43m=\u001b[39;49m\u001b[43merrors\u001b[49m\u001b[43m)\u001b[49m\n",
      "File \u001b[0;32m/opt/homebrew/lib/python3.9/site-packages/pandas/core/internals/managers.py:347\u001b[0m, in \u001b[0;36mBaseBlockManager.apply\u001b[0;34m(self, f, align_keys, ignore_failures, **kwargs)\u001b[0m\n\u001b[1;32m    345\u001b[0m         applied \u001b[38;5;241m=\u001b[39m b\u001b[38;5;241m.\u001b[39mapply(f, \u001b[38;5;241m*\u001b[39m\u001b[38;5;241m*\u001b[39mkwargs)\n\u001b[1;32m    346\u001b[0m     \u001b[38;5;28;01melse\u001b[39;00m:\n\u001b[0;32m--> 347\u001b[0m         applied \u001b[38;5;241m=\u001b[39m \u001b[38;5;28;43mgetattr\u001b[39;49m\u001b[43m(\u001b[49m\u001b[43mb\u001b[49m\u001b[43m,\u001b[49m\u001b[43m \u001b[49m\u001b[43mf\u001b[49m\u001b[43m)\u001b[49m\u001b[43m(\u001b[49m\u001b[38;5;241;43m*\u001b[39;49m\u001b[38;5;241;43m*\u001b[39;49m\u001b[43mkwargs\u001b[49m\u001b[43m)\u001b[49m\n\u001b[1;32m    348\u001b[0m \u001b[38;5;28;01mexcept\u001b[39;00m (\u001b[38;5;167;01mTypeError\u001b[39;00m, \u001b[38;5;167;01mNotImplementedError\u001b[39;00m):\n\u001b[1;32m    349\u001b[0m     \u001b[38;5;28;01mif\u001b[39;00m \u001b[38;5;129;01mnot\u001b[39;00m ignore_failures:\n",
      "File \u001b[0;32m/opt/homebrew/lib/python3.9/site-packages/pandas/core/internals/blocks.py:526\u001b[0m, in \u001b[0;36mBlock.astype\u001b[0;34m(self, dtype, copy, errors)\u001b[0m\n\u001b[1;32m    508\u001b[0m \u001b[38;5;124;03m\"\"\"\u001b[39;00m\n\u001b[1;32m    509\u001b[0m \u001b[38;5;124;03mCoerce to the new dtype.\u001b[39;00m\n\u001b[1;32m    510\u001b[0m \n\u001b[0;32m   (...)\u001b[0m\n\u001b[1;32m    522\u001b[0m \u001b[38;5;124;03mBlock\u001b[39;00m\n\u001b[1;32m    523\u001b[0m \u001b[38;5;124;03m\"\"\"\u001b[39;00m\n\u001b[1;32m    524\u001b[0m values \u001b[38;5;241m=\u001b[39m \u001b[38;5;28mself\u001b[39m\u001b[38;5;241m.\u001b[39mvalues\n\u001b[0;32m--> 526\u001b[0m new_values \u001b[38;5;241m=\u001b[39m \u001b[43mastype_array_safe\u001b[49m\u001b[43m(\u001b[49m\u001b[43mvalues\u001b[49m\u001b[43m,\u001b[49m\u001b[43m \u001b[49m\u001b[43mdtype\u001b[49m\u001b[43m,\u001b[49m\u001b[43m \u001b[49m\u001b[43mcopy\u001b[49m\u001b[38;5;241;43m=\u001b[39;49m\u001b[43mcopy\u001b[49m\u001b[43m,\u001b[49m\u001b[43m \u001b[49m\u001b[43merrors\u001b[49m\u001b[38;5;241;43m=\u001b[39;49m\u001b[43merrors\u001b[49m\u001b[43m)\u001b[49m\n\u001b[1;32m    528\u001b[0m new_values \u001b[38;5;241m=\u001b[39m maybe_coerce_values(new_values)\n\u001b[1;32m    529\u001b[0m newb \u001b[38;5;241m=\u001b[39m \u001b[38;5;28mself\u001b[39m\u001b[38;5;241m.\u001b[39mmake_block(new_values)\n",
      "File \u001b[0;32m/opt/homebrew/lib/python3.9/site-packages/pandas/core/dtypes/astype.py:299\u001b[0m, in \u001b[0;36mastype_array_safe\u001b[0;34m(values, dtype, copy, errors)\u001b[0m\n\u001b[1;32m    296\u001b[0m     \u001b[38;5;28;01mreturn\u001b[39;00m values\u001b[38;5;241m.\u001b[39mcopy()\n\u001b[1;32m    298\u001b[0m \u001b[38;5;28;01mtry\u001b[39;00m:\n\u001b[0;32m--> 299\u001b[0m     new_values \u001b[38;5;241m=\u001b[39m \u001b[43mastype_array\u001b[49m\u001b[43m(\u001b[49m\u001b[43mvalues\u001b[49m\u001b[43m,\u001b[49m\u001b[43m \u001b[49m\u001b[43mdtype\u001b[49m\u001b[43m,\u001b[49m\u001b[43m \u001b[49m\u001b[43mcopy\u001b[49m\u001b[38;5;241;43m=\u001b[39;49m\u001b[43mcopy\u001b[49m\u001b[43m)\u001b[49m\n\u001b[1;32m    300\u001b[0m \u001b[38;5;28;01mexcept\u001b[39;00m (\u001b[38;5;167;01mValueError\u001b[39;00m, \u001b[38;5;167;01mTypeError\u001b[39;00m):\n\u001b[1;32m    301\u001b[0m     \u001b[38;5;66;03m# e.g. astype_nansafe can fail on object-dtype of strings\u001b[39;00m\n\u001b[1;32m    302\u001b[0m     \u001b[38;5;66;03m#  trying to convert to float\u001b[39;00m\n\u001b[1;32m    303\u001b[0m     \u001b[38;5;28;01mif\u001b[39;00m errors \u001b[38;5;241m==\u001b[39m \u001b[38;5;124m\"\u001b[39m\u001b[38;5;124mignore\u001b[39m\u001b[38;5;124m\"\u001b[39m:\n",
      "File \u001b[0;32m/opt/homebrew/lib/python3.9/site-packages/pandas/core/dtypes/astype.py:230\u001b[0m, in \u001b[0;36mastype_array\u001b[0;34m(values, dtype, copy)\u001b[0m\n\u001b[1;32m    227\u001b[0m     values \u001b[38;5;241m=\u001b[39m values\u001b[38;5;241m.\u001b[39mastype(dtype, copy\u001b[38;5;241m=\u001b[39mcopy)\n\u001b[1;32m    229\u001b[0m \u001b[38;5;28;01melse\u001b[39;00m:\n\u001b[0;32m--> 230\u001b[0m     values \u001b[38;5;241m=\u001b[39m \u001b[43mastype_nansafe\u001b[49m\u001b[43m(\u001b[49m\u001b[43mvalues\u001b[49m\u001b[43m,\u001b[49m\u001b[43m \u001b[49m\u001b[43mdtype\u001b[49m\u001b[43m,\u001b[49m\u001b[43m \u001b[49m\u001b[43mcopy\u001b[49m\u001b[38;5;241;43m=\u001b[39;49m\u001b[43mcopy\u001b[49m\u001b[43m)\u001b[49m\n\u001b[1;32m    232\u001b[0m \u001b[38;5;66;03m# in pandas we don't store numpy str dtypes, so convert to object\u001b[39;00m\n\u001b[1;32m    233\u001b[0m \u001b[38;5;28;01mif\u001b[39;00m \u001b[38;5;28misinstance\u001b[39m(dtype, np\u001b[38;5;241m.\u001b[39mdtype) \u001b[38;5;129;01mand\u001b[39;00m \u001b[38;5;28missubclass\u001b[39m(values\u001b[38;5;241m.\u001b[39mdtype\u001b[38;5;241m.\u001b[39mtype, \u001b[38;5;28mstr\u001b[39m):\n",
      "File \u001b[0;32m/opt/homebrew/lib/python3.9/site-packages/pandas/core/dtypes/astype.py:170\u001b[0m, in \u001b[0;36mastype_nansafe\u001b[0;34m(arr, dtype, copy, skipna)\u001b[0m\n\u001b[1;32m    166\u001b[0m     \u001b[38;5;28;01mraise\u001b[39;00m \u001b[38;5;167;01mValueError\u001b[39;00m(msg)\n\u001b[1;32m    168\u001b[0m \u001b[38;5;28;01mif\u001b[39;00m copy \u001b[38;5;129;01mor\u001b[39;00m is_object_dtype(arr\u001b[38;5;241m.\u001b[39mdtype) \u001b[38;5;129;01mor\u001b[39;00m is_object_dtype(dtype):\n\u001b[1;32m    169\u001b[0m     \u001b[38;5;66;03m# Explicit copy, or required since NumPy can't view from / to object.\u001b[39;00m\n\u001b[0;32m--> 170\u001b[0m     \u001b[38;5;28;01mreturn\u001b[39;00m \u001b[43marr\u001b[49m\u001b[38;5;241;43m.\u001b[39;49m\u001b[43mastype\u001b[49m\u001b[43m(\u001b[49m\u001b[43mdtype\u001b[49m\u001b[43m,\u001b[49m\u001b[43m \u001b[49m\u001b[43mcopy\u001b[49m\u001b[38;5;241;43m=\u001b[39;49m\u001b[38;5;28;43;01mTrue\u001b[39;49;00m\u001b[43m)\u001b[49m\n\u001b[1;32m    172\u001b[0m \u001b[38;5;28;01mreturn\u001b[39;00m arr\u001b[38;5;241m.\u001b[39mastype(dtype, copy\u001b[38;5;241m=\u001b[39mcopy)\n",
      "\u001b[0;31mValueError\u001b[0m: invalid literal for int() with base 10: '48.5'"
     ]
    }
   ],
   "source": [
    "data[\"top_category_employer1\"].astype(int) "
   ]
  },
  {
   "cell_type": "code",
   "execution_count": 42,
   "id": "8eb91109",
   "metadata": {
    "execution": {
     "iopub.execute_input": "2023-05-10T01:58:40.662697Z",
     "iopub.status.busy": "2023-05-10T01:58:40.662389Z",
     "iopub.status.idle": "2023-05-10T01:58:40.674964Z",
     "shell.execute_reply": "2023-05-10T01:58:40.674565Z"
    }
   },
   "outputs": [
    {
     "name": "stdout",
     "output_type": "stream",
     "text": [
      "<class 'pandas.core.frame.DataFrame'>\n",
      "RangeIndex: 16833 entries, 0 to 16832\n",
      "Data columns (total 25 columns):\n",
      " #   Column                  Non-Null Count  Dtype \n",
      "---  ------                  --------------  ----- \n",
      " 0   uu_id                   16833 non-null  object\n",
      " 1   timeperiod              16833 non-null  Int64 \n",
      " 2   week_number             16833 non-null  Int64 \n",
      " 3   countyfips              16833 non-null  Int64 \n",
      " 4   tract                   16833 non-null  Int64 \n",
      " 5   tract_name              16833 non-null  object\n",
      " 6   total_claims            16833 non-null  Int64 \n",
      " 7   edu_8th_or_less         13748 non-null  Int64 \n",
      " 8   edu_grades_9_11         5942 non-null   Int64 \n",
      " 9   edu_hs_grad_equiv       6036 non-null   Int64 \n",
      " 10  edu_post_hs             3246 non-null   Int64 \n",
      " 11  edu_unknown             12031 non-null  Int64 \n",
      " 12  top_category_employer1  16833 non-null  object\n",
      " 13  top_category_employer2  16833 non-null  object\n",
      " 14  top_category_employer3  16833 non-null  object\n",
      " 15  gender_female           3835 non-null   Int64 \n",
      " 16  gender_male             3931 non-null   Int64 \n",
      " 17  gender_na               15868 non-null  Int64 \n",
      " 18  race_amerindian         15285 non-null  Int64 \n",
      " 19  race_asian              14939 non-null  Int64 \n",
      " 20  race_black              7124 non-null   Int64 \n",
      " 21  race_noanswer           10089 non-null  Int64 \n",
      " 22  race_hawaiiannative     16426 non-null  Int64 \n",
      " 23  race_other              8075 non-null   Int64 \n",
      " 24  race_white              6392 non-null   Int64 \n",
      "dtypes: Int64(20), object(5)\n",
      "memory usage: 3.5+ MB\n"
     ]
    }
   ],
   "source": [
    "data.info()"
   ]
  },
  {
   "cell_type": "code",
   "execution_count": 43,
   "id": "52ff2c0b",
   "metadata": {
    "execution": {
     "iopub.execute_input": "2023-05-10T01:58:40.677026Z",
     "iopub.status.busy": "2023-05-10T01:58:40.676742Z",
     "iopub.status.idle": "2023-05-10T01:58:40.681340Z",
     "shell.execute_reply": "2023-05-10T01:58:40.681059Z"
    }
   },
   "outputs": [
    {
     "data": {
      "text/plain": [
       "0        32.0\n",
       "1        48.5\n",
       "2        56.0\n",
       "3        56.0\n",
       "4        72.0\n",
       "         ... \n",
       "16828    56.0\n",
       "16829    56.0\n",
       "16830    56.0\n",
       "16831    23.0\n",
       "16832    23.0\n",
       "Name: top_category_employer1, Length: 16833, dtype: float64"
      ]
     },
     "execution_count": 43,
     "metadata": {},
     "output_type": "execute_result"
    }
   ],
   "source": [
    "data[\"top_category_employer1\"].astype(float) "
   ]
  },
  {
   "cell_type": "code",
   "execution_count": 44,
   "id": "f8642901",
   "metadata": {
    "execution": {
     "iopub.execute_input": "2023-05-10T01:58:40.683531Z",
     "iopub.status.busy": "2023-05-10T01:58:40.683360Z",
     "iopub.status.idle": "2023-05-10T01:58:40.687313Z",
     "shell.execute_reply": "2023-05-10T01:58:40.687014Z"
    }
   },
   "outputs": [
    {
     "data": {
      "text/plain": [
       "0      3881\n",
       "11      241\n",
       "12      234\n",
       "10      227\n",
       "13      216\n",
       "       ... \n",
       "72        1\n",
       "138       1\n",
       "91        1\n",
       "65        1\n",
       "117       1\n",
       "Name: race_black, Length: 97, dtype: Int64"
      ]
     },
     "execution_count": 44,
     "metadata": {},
     "output_type": "execute_result"
    }
   ],
   "source": [
    "data[\"race_black\"].value_counts()"
   ]
  },
  {
   "cell_type": "code",
   "execution_count": 45,
   "id": "b43df0db",
   "metadata": {
    "execution": {
     "iopub.execute_input": "2023-05-10T01:58:40.688736Z",
     "iopub.status.busy": "2023-05-10T01:58:40.688640Z",
     "iopub.status.idle": "2023-05-10T01:58:40.692197Z",
     "shell.execute_reply": "2023-05-10T01:58:40.691965Z"
    }
   },
   "outputs": [
    {
     "data": {
      "text/plain": [
       "0        32.0\n",
       "1        48.5\n",
       "2        56.0\n",
       "3        56.0\n",
       "4        72.0\n",
       "         ... \n",
       "16828    56.0\n",
       "16829    56.0\n",
       "16830    56.0\n",
       "16831    23.0\n",
       "16832    23.0\n",
       "Name: top_category_employer1, Length: 16833, dtype: float64"
      ]
     },
     "execution_count": 45,
     "metadata": {},
     "output_type": "execute_result"
    }
   ],
   "source": [
    "data[\"top_category_employer1\"].astype(float) "
   ]
  },
  {
   "cell_type": "code",
   "execution_count": 46,
   "id": "75bf8bd3",
   "metadata": {
    "execution": {
     "iopub.execute_input": "2023-05-10T01:58:40.693584Z",
     "iopub.status.busy": "2023-05-10T01:58:40.693504Z",
     "iopub.status.idle": "2023-05-10T01:58:40.701680Z",
     "shell.execute_reply": "2023-05-10T01:58:40.701197Z"
    }
   },
   "outputs": [
    {
     "ename": "NameError",
     "evalue": "name 'np' is not defined",
     "output_type": "error",
     "traceback": [
      "\u001b[0;31m---------------------------------------------------------------------------\u001b[0m",
      "\u001b[0;31mNameError\u001b[0m                                 Traceback (most recent call last)",
      "Cell \u001b[0;32mIn [46], line 1\u001b[0m\n\u001b[0;32m----> 1\u001b[0m data[\u001b[38;5;124m'\u001b[39m\u001b[38;5;124medu_8th_or_less\u001b[39m\u001b[38;5;124m'\u001b[39m]\u001b[38;5;241m.\u001b[39mreplace(\u001b[43mnp\u001b[49m\u001b[38;5;241m.\u001b[39mNaN, data[\u001b[38;5;124m'\u001b[39m\u001b[38;5;124medu_8th_or_less\u001b[39m\u001b[38;5;124m'\u001b[39m]\u001b[38;5;241m.\u001b[39mmean())\n",
      "\u001b[0;31mNameError\u001b[0m: name 'np' is not defined"
     ]
    }
   ],
   "source": [
    "data['edu_8th_or_less'].replace(np.NaN, data['edu_8th_or_less'].mean())"
   ]
  },
  {
   "cell_type": "code",
   "execution_count": 47,
   "id": "37187c67",
   "metadata": {
    "execution": {
     "iopub.execute_input": "2023-05-10T01:58:40.703642Z",
     "iopub.status.busy": "2023-05-10T01:58:40.703490Z",
     "iopub.status.idle": "2023-05-10T01:58:40.705511Z",
     "shell.execute_reply": "2023-05-10T01:58:40.705252Z"
    }
   },
   "outputs": [],
   "source": [
    "import os\n",
    "import pandas\n",
    "from google.cloud import bigquery\n",
    "from google.oauth2 import service_account\n",
    "from google.cloud.bigquery import magics\n",
    "import numpy as np"
   ]
  },
  {
   "cell_type": "code",
   "execution_count": 48,
   "id": "2064b71b",
   "metadata": {
    "execution": {
     "iopub.execute_input": "2023-05-10T01:58:40.707087Z",
     "iopub.status.busy": "2023-05-10T01:58:40.706985Z",
     "iopub.status.idle": "2023-05-10T01:58:40.962506Z",
     "shell.execute_reply": "2023-05-10T01:58:40.962176Z"
    }
   },
   "outputs": [
    {
     "ename": "TypeError",
     "evalue": "Invalid value '0.05098923479778877' for dtype Int64",
     "output_type": "error",
     "traceback": [
      "\u001b[0;31m---------------------------------------------------------------------------\u001b[0m",
      "\u001b[0;31mTypeError\u001b[0m                                 Traceback (most recent call last)",
      "Cell \u001b[0;32mIn [48], line 1\u001b[0m\n\u001b[0;32m----> 1\u001b[0m \u001b[43mdata\u001b[49m\u001b[43m[\u001b[49m\u001b[38;5;124;43m'\u001b[39;49m\u001b[38;5;124;43medu_8th_or_less\u001b[39;49m\u001b[38;5;124;43m'\u001b[39;49m\u001b[43m]\u001b[49m\u001b[38;5;241;43m.\u001b[39;49m\u001b[43mreplace\u001b[49m\u001b[43m(\u001b[49m\u001b[43mnp\u001b[49m\u001b[38;5;241;43m.\u001b[39;49m\u001b[43mNaN\u001b[49m\u001b[43m,\u001b[49m\u001b[43m \u001b[49m\u001b[43mdata\u001b[49m\u001b[43m[\u001b[49m\u001b[38;5;124;43m'\u001b[39;49m\u001b[38;5;124;43medu_8th_or_less\u001b[39;49m\u001b[38;5;124;43m'\u001b[39;49m\u001b[43m]\u001b[49m\u001b[38;5;241;43m.\u001b[39;49m\u001b[43mmean\u001b[49m\u001b[43m(\u001b[49m\u001b[43m)\u001b[49m\u001b[43m)\u001b[49m\n",
      "File \u001b[0;32m/opt/homebrew/lib/python3.9/site-packages/pandas/util/_decorators.py:331\u001b[0m, in \u001b[0;36mdeprecate_nonkeyword_arguments.<locals>.decorate.<locals>.wrapper\u001b[0;34m(*args, **kwargs)\u001b[0m\n\u001b[1;32m    325\u001b[0m \u001b[38;5;28;01mif\u001b[39;00m \u001b[38;5;28mlen\u001b[39m(args) \u001b[38;5;241m>\u001b[39m num_allow_args:\n\u001b[1;32m    326\u001b[0m     warnings\u001b[38;5;241m.\u001b[39mwarn(\n\u001b[1;32m    327\u001b[0m         msg\u001b[38;5;241m.\u001b[39mformat(arguments\u001b[38;5;241m=\u001b[39m_format_argument_list(allow_args)),\n\u001b[1;32m    328\u001b[0m         \u001b[38;5;167;01mFutureWarning\u001b[39;00m,\n\u001b[1;32m    329\u001b[0m         stacklevel\u001b[38;5;241m=\u001b[39mfind_stack_level(),\n\u001b[1;32m    330\u001b[0m     )\n\u001b[0;32m--> 331\u001b[0m \u001b[38;5;28;01mreturn\u001b[39;00m \u001b[43mfunc\u001b[49m\u001b[43m(\u001b[49m\u001b[38;5;241;43m*\u001b[39;49m\u001b[43margs\u001b[49m\u001b[43m,\u001b[49m\u001b[43m \u001b[49m\u001b[38;5;241;43m*\u001b[39;49m\u001b[38;5;241;43m*\u001b[39;49m\u001b[43mkwargs\u001b[49m\u001b[43m)\u001b[49m\n",
      "File \u001b[0;32m/opt/homebrew/lib/python3.9/site-packages/pandas/core/series.py:5380\u001b[0m, in \u001b[0;36mSeries.replace\u001b[0;34m(self, to_replace, value, inplace, limit, regex, method)\u001b[0m\n\u001b[1;32m   5362\u001b[0m \u001b[38;5;129m@deprecate_nonkeyword_arguments\u001b[39m(\n\u001b[1;32m   5363\u001b[0m     version\u001b[38;5;241m=\u001b[39m\u001b[38;5;28;01mNone\u001b[39;00m, allowed_args\u001b[38;5;241m=\u001b[39m[\u001b[38;5;124m\"\u001b[39m\u001b[38;5;124mself\u001b[39m\u001b[38;5;124m\"\u001b[39m, \u001b[38;5;124m\"\u001b[39m\u001b[38;5;124mto_replace\u001b[39m\u001b[38;5;124m\"\u001b[39m, \u001b[38;5;124m\"\u001b[39m\u001b[38;5;124mvalue\u001b[39m\u001b[38;5;124m\"\u001b[39m]\n\u001b[1;32m   5364\u001b[0m )\n\u001b[0;32m   (...)\u001b[0m\n\u001b[1;32m   5378\u001b[0m     method: Literal[\u001b[38;5;124m\"\u001b[39m\u001b[38;5;124mpad\u001b[39m\u001b[38;5;124m\"\u001b[39m, \u001b[38;5;124m\"\u001b[39m\u001b[38;5;124mffill\u001b[39m\u001b[38;5;124m\"\u001b[39m, \u001b[38;5;124m\"\u001b[39m\u001b[38;5;124mbfill\u001b[39m\u001b[38;5;124m\"\u001b[39m] \u001b[38;5;241m|\u001b[39m lib\u001b[38;5;241m.\u001b[39mNoDefault \u001b[38;5;241m=\u001b[39m lib\u001b[38;5;241m.\u001b[39mno_default,\n\u001b[1;32m   5379\u001b[0m ) \u001b[38;5;241m-\u001b[39m\u001b[38;5;241m>\u001b[39m Series \u001b[38;5;241m|\u001b[39m \u001b[38;5;28;01mNone\u001b[39;00m:\n\u001b[0;32m-> 5380\u001b[0m     \u001b[38;5;28;01mreturn\u001b[39;00m \u001b[38;5;28;43msuper\u001b[39;49m\u001b[43m(\u001b[49m\u001b[43m)\u001b[49m\u001b[38;5;241;43m.\u001b[39;49m\u001b[43mreplace\u001b[49m\u001b[43m(\u001b[49m\n\u001b[1;32m   5381\u001b[0m \u001b[43m        \u001b[49m\u001b[43mto_replace\u001b[49m\u001b[38;5;241;43m=\u001b[39;49m\u001b[43mto_replace\u001b[49m\u001b[43m,\u001b[49m\n\u001b[1;32m   5382\u001b[0m \u001b[43m        \u001b[49m\u001b[43mvalue\u001b[49m\u001b[38;5;241;43m=\u001b[39;49m\u001b[43mvalue\u001b[49m\u001b[43m,\u001b[49m\n\u001b[1;32m   5383\u001b[0m \u001b[43m        \u001b[49m\u001b[43minplace\u001b[49m\u001b[38;5;241;43m=\u001b[39;49m\u001b[43minplace\u001b[49m\u001b[43m,\u001b[49m\n\u001b[1;32m   5384\u001b[0m \u001b[43m        \u001b[49m\u001b[43mlimit\u001b[49m\u001b[38;5;241;43m=\u001b[39;49m\u001b[43mlimit\u001b[49m\u001b[43m,\u001b[49m\n\u001b[1;32m   5385\u001b[0m \u001b[43m        \u001b[49m\u001b[43mregex\u001b[49m\u001b[38;5;241;43m=\u001b[39;49m\u001b[43mregex\u001b[49m\u001b[43m,\u001b[49m\n\u001b[1;32m   5386\u001b[0m \u001b[43m        \u001b[49m\u001b[43mmethod\u001b[49m\u001b[38;5;241;43m=\u001b[39;49m\u001b[43mmethod\u001b[49m\u001b[43m,\u001b[49m\n\u001b[1;32m   5387\u001b[0m \u001b[43m    \u001b[49m\u001b[43m)\u001b[49m\n",
      "File \u001b[0;32m/opt/homebrew/lib/python3.9/site-packages/pandas/util/_decorators.py:331\u001b[0m, in \u001b[0;36mdeprecate_nonkeyword_arguments.<locals>.decorate.<locals>.wrapper\u001b[0;34m(*args, **kwargs)\u001b[0m\n\u001b[1;32m    325\u001b[0m \u001b[38;5;28;01mif\u001b[39;00m \u001b[38;5;28mlen\u001b[39m(args) \u001b[38;5;241m>\u001b[39m num_allow_args:\n\u001b[1;32m    326\u001b[0m     warnings\u001b[38;5;241m.\u001b[39mwarn(\n\u001b[1;32m    327\u001b[0m         msg\u001b[38;5;241m.\u001b[39mformat(arguments\u001b[38;5;241m=\u001b[39m_format_argument_list(allow_args)),\n\u001b[1;32m    328\u001b[0m         \u001b[38;5;167;01mFutureWarning\u001b[39;00m,\n\u001b[1;32m    329\u001b[0m         stacklevel\u001b[38;5;241m=\u001b[39mfind_stack_level(),\n\u001b[1;32m    330\u001b[0m     )\n\u001b[0;32m--> 331\u001b[0m \u001b[38;5;28;01mreturn\u001b[39;00m \u001b[43mfunc\u001b[49m\u001b[43m(\u001b[49m\u001b[38;5;241;43m*\u001b[39;49m\u001b[43margs\u001b[49m\u001b[43m,\u001b[49m\u001b[43m \u001b[49m\u001b[38;5;241;43m*\u001b[39;49m\u001b[38;5;241;43m*\u001b[39;49m\u001b[43mkwargs\u001b[49m\u001b[43m)\u001b[49m\n",
      "File \u001b[0;32m/opt/homebrew/lib/python3.9/site-packages/pandas/core/generic.py:7280\u001b[0m, in \u001b[0;36mNDFrame.replace\u001b[0;34m(self, to_replace, value, inplace, limit, regex, method)\u001b[0m\n\u001b[1;32m   7274\u001b[0m         new_data \u001b[38;5;241m=\u001b[39m \u001b[38;5;28mself\u001b[39m\u001b[38;5;241m.\u001b[39m_mgr\u001b[38;5;241m.\u001b[39mreplace_regex(\n\u001b[1;32m   7275\u001b[0m             to_replace\u001b[38;5;241m=\u001b[39mto_replace,\n\u001b[1;32m   7276\u001b[0m             value\u001b[38;5;241m=\u001b[39mvalue,\n\u001b[1;32m   7277\u001b[0m             inplace\u001b[38;5;241m=\u001b[39minplace,\n\u001b[1;32m   7278\u001b[0m         )\n\u001b[1;32m   7279\u001b[0m     \u001b[38;5;28;01melse\u001b[39;00m:\n\u001b[0;32m-> 7280\u001b[0m         new_data \u001b[38;5;241m=\u001b[39m \u001b[38;5;28;43mself\u001b[39;49m\u001b[38;5;241;43m.\u001b[39;49m\u001b[43m_mgr\u001b[49m\u001b[38;5;241;43m.\u001b[39;49m\u001b[43mreplace\u001b[49m\u001b[43m(\u001b[49m\n\u001b[1;32m   7281\u001b[0m \u001b[43m            \u001b[49m\u001b[43mto_replace\u001b[49m\u001b[38;5;241;43m=\u001b[39;49m\u001b[43mto_replace\u001b[49m\u001b[43m,\u001b[49m\u001b[43m \u001b[49m\u001b[43mvalue\u001b[49m\u001b[38;5;241;43m=\u001b[39;49m\u001b[43mvalue\u001b[49m\u001b[43m,\u001b[49m\u001b[43m \u001b[49m\u001b[43minplace\u001b[49m\u001b[38;5;241;43m=\u001b[39;49m\u001b[43minplace\u001b[49m\n\u001b[1;32m   7282\u001b[0m \u001b[43m        \u001b[49m\u001b[43m)\u001b[49m\n\u001b[1;32m   7283\u001b[0m \u001b[38;5;28;01melse\u001b[39;00m:\n\u001b[1;32m   7284\u001b[0m     \u001b[38;5;28;01mraise\u001b[39;00m \u001b[38;5;167;01mTypeError\u001b[39;00m(\n\u001b[1;32m   7285\u001b[0m         \u001b[38;5;124mf\u001b[39m\u001b[38;5;124m'\u001b[39m\u001b[38;5;124mInvalid \u001b[39m\u001b[38;5;124m\"\u001b[39m\u001b[38;5;124mto_replace\u001b[39m\u001b[38;5;124m\"\u001b[39m\u001b[38;5;124m type: \u001b[39m\u001b[38;5;132;01m{\u001b[39;00m\u001b[38;5;28mrepr\u001b[39m(\u001b[38;5;28mtype\u001b[39m(to_replace)\u001b[38;5;241m.\u001b[39m\u001b[38;5;18m__name__\u001b[39m)\u001b[38;5;132;01m}\u001b[39;00m\u001b[38;5;124m'\u001b[39m\n\u001b[1;32m   7286\u001b[0m     )\n",
      "File \u001b[0;32m/opt/homebrew/lib/python3.9/site-packages/pandas/core/internals/managers.py:467\u001b[0m, in \u001b[0;36mBaseBlockManager.replace\u001b[0;34m(self, to_replace, value, inplace)\u001b[0m\n\u001b[1;32m    465\u001b[0m \u001b[38;5;28;01massert\u001b[39;00m \u001b[38;5;129;01mnot\u001b[39;00m is_list_like(to_replace)\n\u001b[1;32m    466\u001b[0m \u001b[38;5;28;01massert\u001b[39;00m \u001b[38;5;129;01mnot\u001b[39;00m is_list_like(value)\n\u001b[0;32m--> 467\u001b[0m \u001b[38;5;28;01mreturn\u001b[39;00m \u001b[38;5;28;43mself\u001b[39;49m\u001b[38;5;241;43m.\u001b[39;49m\u001b[43mapply\u001b[49m\u001b[43m(\u001b[49m\n\u001b[1;32m    468\u001b[0m \u001b[43m    \u001b[49m\u001b[38;5;124;43m\"\u001b[39;49m\u001b[38;5;124;43mreplace\u001b[39;49m\u001b[38;5;124;43m\"\u001b[39;49m\u001b[43m,\u001b[49m\u001b[43m \u001b[49m\u001b[43mto_replace\u001b[49m\u001b[38;5;241;43m=\u001b[39;49m\u001b[43mto_replace\u001b[49m\u001b[43m,\u001b[49m\u001b[43m \u001b[49m\u001b[43mvalue\u001b[49m\u001b[38;5;241;43m=\u001b[39;49m\u001b[43mvalue\u001b[49m\u001b[43m,\u001b[49m\u001b[43m \u001b[49m\u001b[43minplace\u001b[49m\u001b[38;5;241;43m=\u001b[39;49m\u001b[43minplace\u001b[49m\n\u001b[1;32m    469\u001b[0m \u001b[43m\u001b[49m\u001b[43m)\u001b[49m\n",
      "File \u001b[0;32m/opt/homebrew/lib/python3.9/site-packages/pandas/core/internals/managers.py:347\u001b[0m, in \u001b[0;36mBaseBlockManager.apply\u001b[0;34m(self, f, align_keys, ignore_failures, **kwargs)\u001b[0m\n\u001b[1;32m    345\u001b[0m         applied \u001b[38;5;241m=\u001b[39m b\u001b[38;5;241m.\u001b[39mapply(f, \u001b[38;5;241m*\u001b[39m\u001b[38;5;241m*\u001b[39mkwargs)\n\u001b[1;32m    346\u001b[0m     \u001b[38;5;28;01melse\u001b[39;00m:\n\u001b[0;32m--> 347\u001b[0m         applied \u001b[38;5;241m=\u001b[39m \u001b[38;5;28;43mgetattr\u001b[39;49m\u001b[43m(\u001b[49m\u001b[43mb\u001b[49m\u001b[43m,\u001b[49m\u001b[43m \u001b[49m\u001b[43mf\u001b[49m\u001b[43m)\u001b[49m\u001b[43m(\u001b[49m\u001b[38;5;241;43m*\u001b[39;49m\u001b[38;5;241;43m*\u001b[39;49m\u001b[43mkwargs\u001b[49m\u001b[43m)\u001b[49m\n\u001b[1;32m    348\u001b[0m \u001b[38;5;28;01mexcept\u001b[39;00m (\u001b[38;5;167;01mTypeError\u001b[39;00m, \u001b[38;5;167;01mNotImplementedError\u001b[39;00m):\n\u001b[1;32m    349\u001b[0m     \u001b[38;5;28;01mif\u001b[39;00m \u001b[38;5;129;01mnot\u001b[39;00m ignore_failures:\n",
      "File \u001b[0;32m/opt/homebrew/lib/python3.9/site-packages/pandas/core/internals/blocks.py:601\u001b[0m, in \u001b[0;36mBlock.replace\u001b[0;34m(self, to_replace, value, inplace, mask)\u001b[0m\n\u001b[1;32m    599\u001b[0m \u001b[38;5;28;01melif\u001b[39;00m \u001b[38;5;28mself\u001b[39m\u001b[38;5;241m.\u001b[39m_can_hold_element(value):\n\u001b[1;32m    600\u001b[0m     blk \u001b[38;5;241m=\u001b[39m \u001b[38;5;28mself\u001b[39m \u001b[38;5;28;01mif\u001b[39;00m inplace \u001b[38;5;28;01melse\u001b[39;00m \u001b[38;5;28mself\u001b[39m\u001b[38;5;241m.\u001b[39mcopy()\n\u001b[0;32m--> 601\u001b[0m     \u001b[43mputmask_inplace\u001b[49m\u001b[43m(\u001b[49m\u001b[43mblk\u001b[49m\u001b[38;5;241;43m.\u001b[39;49m\u001b[43mvalues\u001b[49m\u001b[43m,\u001b[49m\u001b[43m \u001b[49m\u001b[43mmask\u001b[49m\u001b[43m,\u001b[49m\u001b[43m \u001b[49m\u001b[43mvalue\u001b[49m\u001b[43m)\u001b[49m\n\u001b[1;32m    602\u001b[0m     \u001b[38;5;28;01mif\u001b[39;00m \u001b[38;5;129;01mnot\u001b[39;00m (\u001b[38;5;28mself\u001b[39m\u001b[38;5;241m.\u001b[39mis_object \u001b[38;5;129;01mand\u001b[39;00m value \u001b[38;5;129;01mis\u001b[39;00m \u001b[38;5;28;01mNone\u001b[39;00m):\n\u001b[1;32m    603\u001b[0m         \u001b[38;5;66;03m# if the user *explicitly* gave None, we keep None, otherwise\u001b[39;00m\n\u001b[1;32m    604\u001b[0m         \u001b[38;5;66;03m#  may downcast to NaN\u001b[39;00m\n\u001b[1;32m    605\u001b[0m         blocks \u001b[38;5;241m=\u001b[39m blk\u001b[38;5;241m.\u001b[39mconvert(numeric\u001b[38;5;241m=\u001b[39m\u001b[38;5;28;01mFalse\u001b[39;00m, copy\u001b[38;5;241m=\u001b[39m\u001b[38;5;28;01mFalse\u001b[39;00m)\n",
      "File \u001b[0;32m/opt/homebrew/lib/python3.9/site-packages/pandas/core/array_algos/putmask.py:50\u001b[0m, in \u001b[0;36mputmask_inplace\u001b[0;34m(values, mask, value)\u001b[0m\n\u001b[1;32m     48\u001b[0m         values[mask] \u001b[38;5;241m=\u001b[39m value[mask]\n\u001b[1;32m     49\u001b[0m     \u001b[38;5;28;01melse\u001b[39;00m:\n\u001b[0;32m---> 50\u001b[0m         \u001b[43mvalues\u001b[49m\u001b[43m[\u001b[49m\u001b[43mmask\u001b[49m\u001b[43m]\u001b[49m \u001b[38;5;241m=\u001b[39m value\n\u001b[1;32m     51\u001b[0m \u001b[38;5;28;01melse\u001b[39;00m:\n\u001b[1;32m     52\u001b[0m     \u001b[38;5;66;03m# GH#37833 np.putmask is more performant than __setitem__\u001b[39;00m\n\u001b[1;32m     53\u001b[0m     np\u001b[38;5;241m.\u001b[39mputmask(values, mask, value)\n",
      "File \u001b[0;32m/opt/homebrew/lib/python3.9/site-packages/pandas/core/arrays/masked.py:232\u001b[0m, in \u001b[0;36mBaseMaskedArray.__setitem__\u001b[0;34m(self, key, value)\u001b[0m\n\u001b[1;32m    230\u001b[0m     \u001b[38;5;28mself\u001b[39m\u001b[38;5;241m.\u001b[39m_mask[key] \u001b[38;5;241m=\u001b[39m \u001b[38;5;28;01mTrue\u001b[39;00m\n\u001b[1;32m    231\u001b[0m \u001b[38;5;28;01melse\u001b[39;00m:\n\u001b[0;32m--> 232\u001b[0m     value \u001b[38;5;241m=\u001b[39m \u001b[38;5;28;43mself\u001b[39;49m\u001b[38;5;241;43m.\u001b[39;49m\u001b[43m_validate_setitem_value\u001b[49m\u001b[43m(\u001b[49m\u001b[43mvalue\u001b[49m\u001b[43m)\u001b[49m\n\u001b[1;32m    233\u001b[0m     \u001b[38;5;28mself\u001b[39m\u001b[38;5;241m.\u001b[39m_data[key] \u001b[38;5;241m=\u001b[39m value\n\u001b[1;32m    234\u001b[0m     \u001b[38;5;28mself\u001b[39m\u001b[38;5;241m.\u001b[39m_mask[key] \u001b[38;5;241m=\u001b[39m \u001b[38;5;28;01mFalse\u001b[39;00m\n",
      "File \u001b[0;32m/opt/homebrew/lib/python3.9/site-packages/pandas/core/arrays/masked.py:223\u001b[0m, in \u001b[0;36mBaseMaskedArray._validate_setitem_value\u001b[0;34m(self, value)\u001b[0m\n\u001b[1;32m    218\u001b[0m         \u001b[38;5;28;01mreturn\u001b[39;00m value\n\u001b[1;32m    219\u001b[0m     \u001b[38;5;66;03m# TODO: unsigned checks\u001b[39;00m\n\u001b[1;32m    220\u001b[0m \n\u001b[1;32m    221\u001b[0m \u001b[38;5;66;03m# Note: without the \"str\" here, the f-string rendering raises in\u001b[39;00m\n\u001b[1;32m    222\u001b[0m \u001b[38;5;66;03m#  py38 builds.\u001b[39;00m\n\u001b[0;32m--> 223\u001b[0m \u001b[38;5;28;01mraise\u001b[39;00m \u001b[38;5;167;01mTypeError\u001b[39;00m(\u001b[38;5;124mf\u001b[39m\u001b[38;5;124m\"\u001b[39m\u001b[38;5;124mInvalid value \u001b[39m\u001b[38;5;124m'\u001b[39m\u001b[38;5;132;01m{\u001b[39;00m\u001b[38;5;28mstr\u001b[39m(value)\u001b[38;5;132;01m}\u001b[39;00m\u001b[38;5;124m'\u001b[39m\u001b[38;5;124m for dtype \u001b[39m\u001b[38;5;132;01m{\u001b[39;00m\u001b[38;5;28mself\u001b[39m\u001b[38;5;241m.\u001b[39mdtype\u001b[38;5;132;01m}\u001b[39;00m\u001b[38;5;124m\"\u001b[39m)\n",
      "\u001b[0;31mTypeError\u001b[0m: Invalid value '0.05098923479778877' for dtype Int64"
     ]
    }
   ],
   "source": [
    "data['edu_8th_or_less'].replace(np.NaN, data['edu_8th_or_less'].mean())"
   ]
  },
  {
   "cell_type": "code",
   "execution_count": 49,
   "id": "a2eb4ff0",
   "metadata": {
    "execution": {
     "iopub.execute_input": "2023-05-10T01:58:40.964160Z",
     "iopub.status.busy": "2023-05-10T01:58:40.964049Z",
     "iopub.status.idle": "2023-05-10T01:58:41.324868Z",
     "shell.execute_reply": "2023-05-10T01:58:41.324438Z"
    }
   },
   "outputs": [
    {
     "ename": "TypeError",
     "evalue": "Invalid value '0' for dtype Int64",
     "output_type": "error",
     "traceback": [
      "\u001b[0;31m---------------------------------------------------------------------------\u001b[0m",
      "\u001b[0;31mTypeError\u001b[0m                                 Traceback (most recent call last)",
      "Cell \u001b[0;32mIn [49], line 1\u001b[0m\n\u001b[0;32m----> 1\u001b[0m \u001b[43mdata\u001b[49m\u001b[38;5;241;43m.\u001b[39;49m\u001b[43mfillna\u001b[49m\u001b[43m(\u001b[49m\u001b[38;5;124;43m'\u001b[39;49m\u001b[38;5;124;43m0\u001b[39;49m\u001b[38;5;124;43m'\u001b[39;49m\u001b[43m)\u001b[49m\n",
      "File \u001b[0;32m/opt/homebrew/lib/python3.9/site-packages/pandas/util/_decorators.py:331\u001b[0m, in \u001b[0;36mdeprecate_nonkeyword_arguments.<locals>.decorate.<locals>.wrapper\u001b[0;34m(*args, **kwargs)\u001b[0m\n\u001b[1;32m    325\u001b[0m \u001b[38;5;28;01mif\u001b[39;00m \u001b[38;5;28mlen\u001b[39m(args) \u001b[38;5;241m>\u001b[39m num_allow_args:\n\u001b[1;32m    326\u001b[0m     warnings\u001b[38;5;241m.\u001b[39mwarn(\n\u001b[1;32m    327\u001b[0m         msg\u001b[38;5;241m.\u001b[39mformat(arguments\u001b[38;5;241m=\u001b[39m_format_argument_list(allow_args)),\n\u001b[1;32m    328\u001b[0m         \u001b[38;5;167;01mFutureWarning\u001b[39;00m,\n\u001b[1;32m    329\u001b[0m         stacklevel\u001b[38;5;241m=\u001b[39mfind_stack_level(),\n\u001b[1;32m    330\u001b[0m     )\n\u001b[0;32m--> 331\u001b[0m \u001b[38;5;28;01mreturn\u001b[39;00m \u001b[43mfunc\u001b[49m\u001b[43m(\u001b[49m\u001b[38;5;241;43m*\u001b[39;49m\u001b[43margs\u001b[49m\u001b[43m,\u001b[49m\u001b[43m \u001b[49m\u001b[38;5;241;43m*\u001b[39;49m\u001b[38;5;241;43m*\u001b[39;49m\u001b[43mkwargs\u001b[49m\u001b[43m)\u001b[49m\n",
      "File \u001b[0;32m/opt/homebrew/lib/python3.9/site-packages/pandas/core/frame.py:5624\u001b[0m, in \u001b[0;36mDataFrame.fillna\u001b[0;34m(self, value, method, axis, inplace, limit, downcast)\u001b[0m\n\u001b[1;32m   5613\u001b[0m \u001b[38;5;129m@deprecate_nonkeyword_arguments\u001b[39m(version\u001b[38;5;241m=\u001b[39m\u001b[38;5;28;01mNone\u001b[39;00m, allowed_args\u001b[38;5;241m=\u001b[39m[\u001b[38;5;124m\"\u001b[39m\u001b[38;5;124mself\u001b[39m\u001b[38;5;124m\"\u001b[39m, \u001b[38;5;124m\"\u001b[39m\u001b[38;5;124mvalue\u001b[39m\u001b[38;5;124m\"\u001b[39m])\n\u001b[1;32m   5614\u001b[0m \u001b[38;5;129m@doc\u001b[39m(NDFrame\u001b[38;5;241m.\u001b[39mfillna, \u001b[38;5;241m*\u001b[39m\u001b[38;5;241m*\u001b[39m_shared_doc_kwargs)\n\u001b[1;32m   5615\u001b[0m \u001b[38;5;28;01mdef\u001b[39;00m \u001b[38;5;21mfillna\u001b[39m(  \u001b[38;5;66;03m# type: ignore[override]\u001b[39;00m\n\u001b[0;32m   (...)\u001b[0m\n\u001b[1;32m   5622\u001b[0m     downcast: \u001b[38;5;28mdict\u001b[39m \u001b[38;5;241m|\u001b[39m \u001b[38;5;28;01mNone\u001b[39;00m \u001b[38;5;241m=\u001b[39m \u001b[38;5;28;01mNone\u001b[39;00m,\n\u001b[1;32m   5623\u001b[0m ) \u001b[38;5;241m-\u001b[39m\u001b[38;5;241m>\u001b[39m DataFrame \u001b[38;5;241m|\u001b[39m \u001b[38;5;28;01mNone\u001b[39;00m:\n\u001b[0;32m-> 5624\u001b[0m     \u001b[38;5;28;01mreturn\u001b[39;00m \u001b[38;5;28;43msuper\u001b[39;49m\u001b[43m(\u001b[49m\u001b[43m)\u001b[49m\u001b[38;5;241;43m.\u001b[39;49m\u001b[43mfillna\u001b[49m\u001b[43m(\u001b[49m\n\u001b[1;32m   5625\u001b[0m \u001b[43m        \u001b[49m\u001b[43mvalue\u001b[49m\u001b[38;5;241;43m=\u001b[39;49m\u001b[43mvalue\u001b[49m\u001b[43m,\u001b[49m\n\u001b[1;32m   5626\u001b[0m \u001b[43m        \u001b[49m\u001b[43mmethod\u001b[49m\u001b[38;5;241;43m=\u001b[39;49m\u001b[43mmethod\u001b[49m\u001b[43m,\u001b[49m\n\u001b[1;32m   5627\u001b[0m \u001b[43m        \u001b[49m\u001b[43maxis\u001b[49m\u001b[38;5;241;43m=\u001b[39;49m\u001b[43maxis\u001b[49m\u001b[43m,\u001b[49m\n\u001b[1;32m   5628\u001b[0m \u001b[43m        \u001b[49m\u001b[43minplace\u001b[49m\u001b[38;5;241;43m=\u001b[39;49m\u001b[43minplace\u001b[49m\u001b[43m,\u001b[49m\n\u001b[1;32m   5629\u001b[0m \u001b[43m        \u001b[49m\u001b[43mlimit\u001b[49m\u001b[38;5;241;43m=\u001b[39;49m\u001b[43mlimit\u001b[49m\u001b[43m,\u001b[49m\n\u001b[1;32m   5630\u001b[0m \u001b[43m        \u001b[49m\u001b[43mdowncast\u001b[49m\u001b[38;5;241;43m=\u001b[39;49m\u001b[43mdowncast\u001b[49m\u001b[43m,\u001b[49m\n\u001b[1;32m   5631\u001b[0m \u001b[43m    \u001b[49m\u001b[43m)\u001b[49m\n",
      "File \u001b[0;32m/opt/homebrew/lib/python3.9/site-packages/pandas/core/generic.py:6922\u001b[0m, in \u001b[0;36mNDFrame.fillna\u001b[0;34m(self, value, method, axis, inplace, limit, downcast)\u001b[0m\n\u001b[1;32m   6919\u001b[0m         new_data \u001b[38;5;241m=\u001b[39m result  \u001b[38;5;66;03m# type: ignore[assignment]\u001b[39;00m\n\u001b[1;32m   6920\u001b[0m     \u001b[38;5;28;01melse\u001b[39;00m:\n\u001b[0;32m-> 6922\u001b[0m         new_data \u001b[38;5;241m=\u001b[39m \u001b[38;5;28;43mself\u001b[39;49m\u001b[38;5;241;43m.\u001b[39;49m\u001b[43m_mgr\u001b[49m\u001b[38;5;241;43m.\u001b[39;49m\u001b[43mfillna\u001b[49m\u001b[43m(\u001b[49m\n\u001b[1;32m   6923\u001b[0m \u001b[43m            \u001b[49m\u001b[43mvalue\u001b[49m\u001b[38;5;241;43m=\u001b[39;49m\u001b[43mvalue\u001b[49m\u001b[43m,\u001b[49m\u001b[43m \u001b[49m\u001b[43mlimit\u001b[49m\u001b[38;5;241;43m=\u001b[39;49m\u001b[43mlimit\u001b[49m\u001b[43m,\u001b[49m\u001b[43m \u001b[49m\u001b[43minplace\u001b[49m\u001b[38;5;241;43m=\u001b[39;49m\u001b[43minplace\u001b[49m\u001b[43m,\u001b[49m\u001b[43m \u001b[49m\u001b[43mdowncast\u001b[49m\u001b[38;5;241;43m=\u001b[39;49m\u001b[43mdowncast\u001b[49m\n\u001b[1;32m   6924\u001b[0m \u001b[43m        \u001b[49m\u001b[43m)\u001b[49m\n\u001b[1;32m   6925\u001b[0m \u001b[38;5;28;01melif\u001b[39;00m \u001b[38;5;28misinstance\u001b[39m(value, ABCDataFrame) \u001b[38;5;129;01mand\u001b[39;00m \u001b[38;5;28mself\u001b[39m\u001b[38;5;241m.\u001b[39mndim \u001b[38;5;241m==\u001b[39m \u001b[38;5;241m2\u001b[39m:\n\u001b[1;32m   6927\u001b[0m     new_data \u001b[38;5;241m=\u001b[39m \u001b[38;5;28mself\u001b[39m\u001b[38;5;241m.\u001b[39mwhere(\u001b[38;5;28mself\u001b[39m\u001b[38;5;241m.\u001b[39mnotna(), value)\u001b[38;5;241m.\u001b[39m_mgr\n",
      "File \u001b[0;32m/opt/homebrew/lib/python3.9/site-packages/pandas/core/internals/managers.py:440\u001b[0m, in \u001b[0;36mBaseBlockManager.fillna\u001b[0;34m(self, value, limit, inplace, downcast)\u001b[0m\n\u001b[1;32m    435\u001b[0m     \u001b[38;5;28;01mif\u001b[39;00m _using_copy_on_write() \u001b[38;5;129;01mand\u001b[39;00m \u001b[38;5;28many\u001b[39m(\n\u001b[1;32m    436\u001b[0m         \u001b[38;5;129;01mnot\u001b[39;00m \u001b[38;5;28mself\u001b[39m\u001b[38;5;241m.\u001b[39m_has_no_reference_block(i) \u001b[38;5;28;01mfor\u001b[39;00m i \u001b[38;5;129;01min\u001b[39;00m \u001b[38;5;28mrange\u001b[39m(\u001b[38;5;28mlen\u001b[39m(\u001b[38;5;28mself\u001b[39m\u001b[38;5;241m.\u001b[39mblocks))\n\u001b[1;32m    437\u001b[0m     ):\n\u001b[1;32m    438\u001b[0m         \u001b[38;5;28mself\u001b[39m \u001b[38;5;241m=\u001b[39m \u001b[38;5;28mself\u001b[39m\u001b[38;5;241m.\u001b[39mcopy()\n\u001b[0;32m--> 440\u001b[0m \u001b[38;5;28;01mreturn\u001b[39;00m \u001b[38;5;28;43mself\u001b[39;49m\u001b[38;5;241;43m.\u001b[39;49m\u001b[43mapply\u001b[49m\u001b[43m(\u001b[49m\n\u001b[1;32m    441\u001b[0m \u001b[43m    \u001b[49m\u001b[38;5;124;43m\"\u001b[39;49m\u001b[38;5;124;43mfillna\u001b[39;49m\u001b[38;5;124;43m\"\u001b[39;49m\u001b[43m,\u001b[49m\u001b[43m \u001b[49m\u001b[43mvalue\u001b[49m\u001b[38;5;241;43m=\u001b[39;49m\u001b[43mvalue\u001b[49m\u001b[43m,\u001b[49m\u001b[43m \u001b[49m\u001b[43mlimit\u001b[49m\u001b[38;5;241;43m=\u001b[39;49m\u001b[43mlimit\u001b[49m\u001b[43m,\u001b[49m\u001b[43m \u001b[49m\u001b[43minplace\u001b[49m\u001b[38;5;241;43m=\u001b[39;49m\u001b[43minplace\u001b[49m\u001b[43m,\u001b[49m\u001b[43m \u001b[49m\u001b[43mdowncast\u001b[49m\u001b[38;5;241;43m=\u001b[39;49m\u001b[43mdowncast\u001b[49m\n\u001b[1;32m    442\u001b[0m \u001b[43m\u001b[49m\u001b[43m)\u001b[49m\n",
      "File \u001b[0;32m/opt/homebrew/lib/python3.9/site-packages/pandas/core/internals/managers.py:347\u001b[0m, in \u001b[0;36mBaseBlockManager.apply\u001b[0;34m(self, f, align_keys, ignore_failures, **kwargs)\u001b[0m\n\u001b[1;32m    345\u001b[0m         applied \u001b[38;5;241m=\u001b[39m b\u001b[38;5;241m.\u001b[39mapply(f, \u001b[38;5;241m*\u001b[39m\u001b[38;5;241m*\u001b[39mkwargs)\n\u001b[1;32m    346\u001b[0m     \u001b[38;5;28;01melse\u001b[39;00m:\n\u001b[0;32m--> 347\u001b[0m         applied \u001b[38;5;241m=\u001b[39m \u001b[38;5;28;43mgetattr\u001b[39;49m\u001b[43m(\u001b[49m\u001b[43mb\u001b[49m\u001b[43m,\u001b[49m\u001b[43m \u001b[49m\u001b[43mf\u001b[49m\u001b[43m)\u001b[49m\u001b[43m(\u001b[49m\u001b[38;5;241;43m*\u001b[39;49m\u001b[38;5;241;43m*\u001b[39;49m\u001b[43mkwargs\u001b[49m\u001b[43m)\u001b[49m\n\u001b[1;32m    348\u001b[0m \u001b[38;5;28;01mexcept\u001b[39;00m (\u001b[38;5;167;01mTypeError\u001b[39;00m, \u001b[38;5;167;01mNotImplementedError\u001b[39;00m):\n\u001b[1;32m    349\u001b[0m     \u001b[38;5;28;01mif\u001b[39;00m \u001b[38;5;129;01mnot\u001b[39;00m ignore_failures:\n",
      "File \u001b[0;32m/opt/homebrew/lib/python3.9/site-packages/pandas/core/internals/blocks.py:1584\u001b[0m, in \u001b[0;36mEABackedBlock.fillna\u001b[0;34m(self, value, limit, inplace, downcast)\u001b[0m\n\u001b[1;32m   1579\u001b[0m         \u001b[38;5;28;01mreturn\u001b[39;00m [res_blk]\n\u001b[1;32m   1581\u001b[0m \u001b[38;5;66;03m# TODO: since this now dispatches to super, which in turn dispatches\u001b[39;00m\n\u001b[1;32m   1582\u001b[0m \u001b[38;5;66;03m#  to putmask, it may *actually* respect 'inplace=True'. If so, add\u001b[39;00m\n\u001b[1;32m   1583\u001b[0m \u001b[38;5;66;03m#  tests for this.\u001b[39;00m\n\u001b[0;32m-> 1584\u001b[0m \u001b[38;5;28;01mreturn\u001b[39;00m \u001b[38;5;28;43msuper\u001b[39;49m\u001b[43m(\u001b[49m\u001b[43m)\u001b[49m\u001b[38;5;241;43m.\u001b[39;49m\u001b[43mfillna\u001b[49m\u001b[43m(\u001b[49m\u001b[43mvalue\u001b[49m\u001b[43m,\u001b[49m\u001b[43m \u001b[49m\u001b[43mlimit\u001b[49m\u001b[38;5;241;43m=\u001b[39;49m\u001b[43mlimit\u001b[49m\u001b[43m,\u001b[49m\u001b[43m \u001b[49m\u001b[43minplace\u001b[49m\u001b[38;5;241;43m=\u001b[39;49m\u001b[43minplace\u001b[49m\u001b[43m,\u001b[49m\u001b[43m \u001b[49m\u001b[43mdowncast\u001b[49m\u001b[38;5;241;43m=\u001b[39;49m\u001b[43mdowncast\u001b[49m\u001b[43m)\u001b[49m\n",
      "File \u001b[0;32m/opt/homebrew/lib/python3.9/site-packages/pandas/core/internals/blocks.py:1198\u001b[0m, in \u001b[0;36mBlock.fillna\u001b[0;34m(self, value, limit, inplace, downcast)\u001b[0m\n\u001b[1;32m   1194\u001b[0m     nbs \u001b[38;5;241m=\u001b[39m \u001b[38;5;28mself\u001b[39m\u001b[38;5;241m.\u001b[39mputmask(mask\u001b[38;5;241m.\u001b[39mT, value)\n\u001b[1;32m   1195\u001b[0m \u001b[38;5;28;01melse\u001b[39;00m:\n\u001b[1;32m   1196\u001b[0m     \u001b[38;5;66;03m# without _downcast, we would break\u001b[39;00m\n\u001b[1;32m   1197\u001b[0m     \u001b[38;5;66;03m#  test_fillna_dtype_conversion_equiv_replace\u001b[39;00m\n\u001b[0;32m-> 1198\u001b[0m     nbs \u001b[38;5;241m=\u001b[39m \u001b[38;5;28;43mself\u001b[39;49m\u001b[38;5;241;43m.\u001b[39;49m\u001b[43mwhere\u001b[49m\u001b[43m(\u001b[49m\u001b[43mvalue\u001b[49m\u001b[43m,\u001b[49m\u001b[43m \u001b[49m\u001b[38;5;241;43m~\u001b[39;49m\u001b[43mmask\u001b[49m\u001b[38;5;241;43m.\u001b[39;49m\u001b[43mT\u001b[49m\u001b[43m,\u001b[49m\u001b[43m \u001b[49m\u001b[43m_downcast\u001b[49m\u001b[38;5;241;43m=\u001b[39;49m\u001b[38;5;28;43;01mFalse\u001b[39;49;00m\u001b[43m)\u001b[49m\n\u001b[1;32m   1200\u001b[0m \u001b[38;5;66;03m# Note: blk._maybe_downcast vs self._maybe_downcast(nbs)\u001b[39;00m\n\u001b[1;32m   1201\u001b[0m \u001b[38;5;66;03m#  makes a difference bc blk may have object dtype, which has\u001b[39;00m\n\u001b[1;32m   1202\u001b[0m \u001b[38;5;66;03m#  different behavior in _maybe_downcast.\u001b[39;00m\n\u001b[1;32m   1203\u001b[0m \u001b[38;5;28;01mreturn\u001b[39;00m extend_blocks(\n\u001b[1;32m   1204\u001b[0m     [blk\u001b[38;5;241m.\u001b[39m_maybe_downcast([blk], downcast\u001b[38;5;241m=\u001b[39mdowncast) \u001b[38;5;28;01mfor\u001b[39;00m blk \u001b[38;5;129;01min\u001b[39;00m nbs]\n\u001b[1;32m   1205\u001b[0m )\n",
      "File \u001b[0;32m/opt/homebrew/lib/python3.9/site-packages/pandas/core/internals/blocks.py:1455\u001b[0m, in \u001b[0;36mEABackedBlock.where\u001b[0;34m(self, other, cond, _downcast)\u001b[0m\n\u001b[1;32m   1452\u001b[0m     \u001b[38;5;28;01mreturn\u001b[39;00m [\u001b[38;5;28mself\u001b[39m\u001b[38;5;241m.\u001b[39mcopy()]\n\u001b[1;32m   1454\u001b[0m \u001b[38;5;28;01mtry\u001b[39;00m:\n\u001b[0;32m-> 1455\u001b[0m     res_values \u001b[38;5;241m=\u001b[39m \u001b[43marr\u001b[49m\u001b[38;5;241;43m.\u001b[39;49m\u001b[43m_where\u001b[49m\u001b[43m(\u001b[49m\u001b[43mcond\u001b[49m\u001b[43m,\u001b[49m\u001b[43m \u001b[49m\u001b[43mother\u001b[49m\u001b[43m)\u001b[49m\u001b[38;5;241m.\u001b[39mT\n\u001b[1;32m   1456\u001b[0m \u001b[38;5;28;01mexcept\u001b[39;00m (\u001b[38;5;167;01mValueError\u001b[39;00m, \u001b[38;5;167;01mTypeError\u001b[39;00m) \u001b[38;5;28;01mas\u001b[39;00m err:\n\u001b[1;32m   1457\u001b[0m     _catch_deprecated_value_error(err)\n",
      "File \u001b[0;32m/opt/homebrew/lib/python3.9/site-packages/pandas/core/arrays/base.py:1547\u001b[0m, in \u001b[0;36mExtensionArray._where\u001b[0;34m(self, mask, value)\u001b[0m\n\u001b[1;32m   1544\u001b[0m \u001b[38;5;28;01melse\u001b[39;00m:\n\u001b[1;32m   1545\u001b[0m     val \u001b[38;5;241m=\u001b[39m value\n\u001b[0;32m-> 1547\u001b[0m \u001b[43mresult\u001b[49m\u001b[43m[\u001b[49m\u001b[38;5;241;43m~\u001b[39;49m\u001b[43mmask\u001b[49m\u001b[43m]\u001b[49m \u001b[38;5;241m=\u001b[39m val\n\u001b[1;32m   1548\u001b[0m \u001b[38;5;28;01mreturn\u001b[39;00m result\n",
      "File \u001b[0;32m/opt/homebrew/lib/python3.9/site-packages/pandas/core/arrays/masked.py:232\u001b[0m, in \u001b[0;36mBaseMaskedArray.__setitem__\u001b[0;34m(self, key, value)\u001b[0m\n\u001b[1;32m    230\u001b[0m     \u001b[38;5;28mself\u001b[39m\u001b[38;5;241m.\u001b[39m_mask[key] \u001b[38;5;241m=\u001b[39m \u001b[38;5;28;01mTrue\u001b[39;00m\n\u001b[1;32m    231\u001b[0m \u001b[38;5;28;01melse\u001b[39;00m:\n\u001b[0;32m--> 232\u001b[0m     value \u001b[38;5;241m=\u001b[39m \u001b[38;5;28;43mself\u001b[39;49m\u001b[38;5;241;43m.\u001b[39;49m\u001b[43m_validate_setitem_value\u001b[49m\u001b[43m(\u001b[49m\u001b[43mvalue\u001b[49m\u001b[43m)\u001b[49m\n\u001b[1;32m    233\u001b[0m     \u001b[38;5;28mself\u001b[39m\u001b[38;5;241m.\u001b[39m_data[key] \u001b[38;5;241m=\u001b[39m value\n\u001b[1;32m    234\u001b[0m     \u001b[38;5;28mself\u001b[39m\u001b[38;5;241m.\u001b[39m_mask[key] \u001b[38;5;241m=\u001b[39m \u001b[38;5;28;01mFalse\u001b[39;00m\n",
      "File \u001b[0;32m/opt/homebrew/lib/python3.9/site-packages/pandas/core/arrays/masked.py:223\u001b[0m, in \u001b[0;36mBaseMaskedArray._validate_setitem_value\u001b[0;34m(self, value)\u001b[0m\n\u001b[1;32m    218\u001b[0m         \u001b[38;5;28;01mreturn\u001b[39;00m value\n\u001b[1;32m    219\u001b[0m     \u001b[38;5;66;03m# TODO: unsigned checks\u001b[39;00m\n\u001b[1;32m    220\u001b[0m \n\u001b[1;32m    221\u001b[0m \u001b[38;5;66;03m# Note: without the \"str\" here, the f-string rendering raises in\u001b[39;00m\n\u001b[1;32m    222\u001b[0m \u001b[38;5;66;03m#  py38 builds.\u001b[39;00m\n\u001b[0;32m--> 223\u001b[0m \u001b[38;5;28;01mraise\u001b[39;00m \u001b[38;5;167;01mTypeError\u001b[39;00m(\u001b[38;5;124mf\u001b[39m\u001b[38;5;124m\"\u001b[39m\u001b[38;5;124mInvalid value \u001b[39m\u001b[38;5;124m'\u001b[39m\u001b[38;5;132;01m{\u001b[39;00m\u001b[38;5;28mstr\u001b[39m(value)\u001b[38;5;132;01m}\u001b[39;00m\u001b[38;5;124m'\u001b[39m\u001b[38;5;124m for dtype \u001b[39m\u001b[38;5;132;01m{\u001b[39;00m\u001b[38;5;28mself\u001b[39m\u001b[38;5;241m.\u001b[39mdtype\u001b[38;5;132;01m}\u001b[39;00m\u001b[38;5;124m\"\u001b[39m)\n",
      "\u001b[0;31mTypeError\u001b[0m: Invalid value '0' for dtype Int64"
     ]
    }
   ],
   "source": [
    "data.fillna('0')"
   ]
  },
  {
   "cell_type": "code",
   "execution_count": 50,
   "id": "4324594a",
   "metadata": {
    "execution": {
     "iopub.execute_input": "2023-05-10T01:58:41.326694Z",
     "iopub.status.busy": "2023-05-10T01:58:41.326561Z",
     "iopub.status.idle": "2023-05-10T01:58:41.347808Z",
     "shell.execute_reply": "2023-05-10T01:58:41.347440Z"
    }
   },
   "outputs": [
    {
     "data": {
      "text/html": [
       "<div>\n",
       "<style scoped>\n",
       "    .dataframe tbody tr th:only-of-type {\n",
       "        vertical-align: middle;\n",
       "    }\n",
       "\n",
       "    .dataframe tbody tr th {\n",
       "        vertical-align: top;\n",
       "    }\n",
       "\n",
       "    .dataframe thead th {\n",
       "        text-align: right;\n",
       "    }\n",
       "</style>\n",
       "<table border=\"1\" class=\"dataframe\">\n",
       "  <thead>\n",
       "    <tr style=\"text-align: right;\">\n",
       "      <th></th>\n",
       "      <th>uu_id</th>\n",
       "      <th>timeperiod</th>\n",
       "      <th>week_number</th>\n",
       "      <th>countyfips</th>\n",
       "      <th>tract</th>\n",
       "      <th>tract_name</th>\n",
       "      <th>total_claims</th>\n",
       "      <th>edu_8th_or_less</th>\n",
       "      <th>edu_grades_9_11</th>\n",
       "      <th>edu_hs_grad_equiv</th>\n",
       "      <th>...</th>\n",
       "      <th>gender_female</th>\n",
       "      <th>gender_male</th>\n",
       "      <th>gender_na</th>\n",
       "      <th>race_amerindian</th>\n",
       "      <th>race_asian</th>\n",
       "      <th>race_black</th>\n",
       "      <th>race_noanswer</th>\n",
       "      <th>race_hawaiiannative</th>\n",
       "      <th>race_other</th>\n",
       "      <th>race_white</th>\n",
       "    </tr>\n",
       "  </thead>\n",
       "  <tbody>\n",
       "    <tr>\n",
       "      <th>0</th>\n",
       "      <td>f013068de98db1470bd986137a0c6d23</td>\n",
       "      <td>20220416</td>\n",
       "      <td>16</td>\n",
       "      <td>18003</td>\n",
       "      <td>900</td>\n",
       "      <td>Census Tract 9, Allen County, Indiana</td>\n",
       "      <td>22</td>\n",
       "      <td>0</td>\n",
       "      <td>0</td>\n",
       "      <td>14</td>\n",
       "      <td>...</td>\n",
       "      <td>0</td>\n",
       "      <td>0</td>\n",
       "      <td>0</td>\n",
       "      <td>0</td>\n",
       "      <td>0</td>\n",
       "      <td>11</td>\n",
       "      <td>0</td>\n",
       "      <td>0</td>\n",
       "      <td>0</td>\n",
       "      <td>0</td>\n",
       "    </tr>\n",
       "    <tr>\n",
       "      <th>1</th>\n",
       "      <td>21957d5517323845818d87623589e1ba</td>\n",
       "      <td>20220319</td>\n",
       "      <td>12</td>\n",
       "      <td>18089</td>\n",
       "      <td>10400</td>\n",
       "      <td>Census Tract 104, Lake County, Indiana</td>\n",
       "      <td>111</td>\n",
       "      <td>0</td>\n",
       "      <td>0</td>\n",
       "      <td>108</td>\n",
       "      <td>...</td>\n",
       "      <td>76</td>\n",
       "      <td>35</td>\n",
       "      <td>0</td>\n",
       "      <td>0</td>\n",
       "      <td>0</td>\n",
       "      <td>0</td>\n",
       "      <td>0</td>\n",
       "      <td>0</td>\n",
       "      <td>0</td>\n",
       "      <td>0</td>\n",
       "    </tr>\n",
       "    <tr>\n",
       "      <th>2</th>\n",
       "      <td>6a5609f385912113b6f1014b958ed748</td>\n",
       "      <td>20220326</td>\n",
       "      <td>13</td>\n",
       "      <td>18089</td>\n",
       "      <td>11500</td>\n",
       "      <td>Census Tract 115, Lake County, Indiana</td>\n",
       "      <td>39</td>\n",
       "      <td>0</td>\n",
       "      <td>0</td>\n",
       "      <td>0</td>\n",
       "      <td>...</td>\n",
       "      <td>0</td>\n",
       "      <td>0</td>\n",
       "      <td>0</td>\n",
       "      <td>0</td>\n",
       "      <td>0</td>\n",
       "      <td>39</td>\n",
       "      <td>0</td>\n",
       "      <td>0</td>\n",
       "      <td>0</td>\n",
       "      <td>0</td>\n",
       "    </tr>\n",
       "    <tr>\n",
       "      <th>3</th>\n",
       "      <td>46b2882ec4c373527ec33f7bd4f1388d</td>\n",
       "      <td>20220716</td>\n",
       "      <td>29</td>\n",
       "      <td>18089</td>\n",
       "      <td>20700</td>\n",
       "      <td>Census Tract 207, Lake County, Indiana</td>\n",
       "      <td>14</td>\n",
       "      <td>0</td>\n",
       "      <td>0</td>\n",
       "      <td>0</td>\n",
       "      <td>...</td>\n",
       "      <td>0</td>\n",
       "      <td>0</td>\n",
       "      <td>0</td>\n",
       "      <td>0</td>\n",
       "      <td>0</td>\n",
       "      <td>10</td>\n",
       "      <td>0</td>\n",
       "      <td>0</td>\n",
       "      <td>0</td>\n",
       "      <td>0</td>\n",
       "    </tr>\n",
       "    <tr>\n",
       "      <th>4</th>\n",
       "      <td>37495d17e82f7df326bfc2c4c090f7b7</td>\n",
       "      <td>20220409</td>\n",
       "      <td>15</td>\n",
       "      <td>18089</td>\n",
       "      <td>21900</td>\n",
       "      <td>Census Tract 219, Lake County, Indiana</td>\n",
       "      <td>155</td>\n",
       "      <td>0</td>\n",
       "      <td>0</td>\n",
       "      <td>69</td>\n",
       "      <td>...</td>\n",
       "      <td>90</td>\n",
       "      <td>65</td>\n",
       "      <td>0</td>\n",
       "      <td>0</td>\n",
       "      <td>0</td>\n",
       "      <td>135</td>\n",
       "      <td>0</td>\n",
       "      <td>0</td>\n",
       "      <td>0</td>\n",
       "      <td>0</td>\n",
       "    </tr>\n",
       "    <tr>\n",
       "      <th>...</th>\n",
       "      <td>...</td>\n",
       "      <td>...</td>\n",
       "      <td>...</td>\n",
       "      <td>...</td>\n",
       "      <td>...</td>\n",
       "      <td>...</td>\n",
       "      <td>...</td>\n",
       "      <td>...</td>\n",
       "      <td>...</td>\n",
       "      <td>...</td>\n",
       "      <td>...</td>\n",
       "      <td>...</td>\n",
       "      <td>...</td>\n",
       "      <td>...</td>\n",
       "      <td>...</td>\n",
       "      <td>...</td>\n",
       "      <td>...</td>\n",
       "      <td>...</td>\n",
       "      <td>...</td>\n",
       "      <td>...</td>\n",
       "      <td>...</td>\n",
       "    </tr>\n",
       "    <tr>\n",
       "      <th>16828</th>\n",
       "      <td>f35320206f3dd1ffc411e4ac127caf92</td>\n",
       "      <td>20220618</td>\n",
       "      <td>25</td>\n",
       "      <td>18163</td>\n",
       "      <td>3804</td>\n",
       "      <td>Census Tract 38.04, Vanderburgh County, Indiana</td>\n",
       "      <td>21</td>\n",
       "      <td>0</td>\n",
       "      <td>0</td>\n",
       "      <td>0</td>\n",
       "      <td>...</td>\n",
       "      <td>0</td>\n",
       "      <td>0</td>\n",
       "      <td>0</td>\n",
       "      <td>0</td>\n",
       "      <td>0</td>\n",
       "      <td>0</td>\n",
       "      <td>0</td>\n",
       "      <td>0</td>\n",
       "      <td>0</td>\n",
       "      <td>14</td>\n",
       "    </tr>\n",
       "    <tr>\n",
       "      <th>16829</th>\n",
       "      <td>f35320206f3dd1ffc411e4ac127caf92</td>\n",
       "      <td>20220827</td>\n",
       "      <td>35</td>\n",
       "      <td>18163</td>\n",
       "      <td>3804</td>\n",
       "      <td>Census Tract 38.04, Vanderburgh County, Indiana</td>\n",
       "      <td>22</td>\n",
       "      <td>0</td>\n",
       "      <td>0</td>\n",
       "      <td>13</td>\n",
       "      <td>...</td>\n",
       "      <td>0</td>\n",
       "      <td>0</td>\n",
       "      <td>0</td>\n",
       "      <td>0</td>\n",
       "      <td>0</td>\n",
       "      <td>0</td>\n",
       "      <td>0</td>\n",
       "      <td>0</td>\n",
       "      <td>0</td>\n",
       "      <td>0</td>\n",
       "    </tr>\n",
       "    <tr>\n",
       "      <th>16830</th>\n",
       "      <td>f35320206f3dd1ffc411e4ac127caf92</td>\n",
       "      <td>20220827</td>\n",
       "      <td>35</td>\n",
       "      <td>18163</td>\n",
       "      <td>3804</td>\n",
       "      <td>Census Tract 38.04, Vanderburgh County, Indiana</td>\n",
       "      <td>22</td>\n",
       "      <td>0</td>\n",
       "      <td>0</td>\n",
       "      <td>13</td>\n",
       "      <td>...</td>\n",
       "      <td>0</td>\n",
       "      <td>0</td>\n",
       "      <td>0</td>\n",
       "      <td>0</td>\n",
       "      <td>0</td>\n",
       "      <td>0</td>\n",
       "      <td>0</td>\n",
       "      <td>0</td>\n",
       "      <td>0</td>\n",
       "      <td>0</td>\n",
       "    </tr>\n",
       "    <tr>\n",
       "      <th>16831</th>\n",
       "      <td>bbcb018f0e5e49e13636f6e78ce9f60f</td>\n",
       "      <td>20220326</td>\n",
       "      <td>13</td>\n",
       "      <td>18163</td>\n",
       "      <td>10203</td>\n",
       "      <td>Census Tract 102.03, Vanderburgh County, Indiana</td>\n",
       "      <td>53</td>\n",
       "      <td>0</td>\n",
       "      <td>0</td>\n",
       "      <td>48</td>\n",
       "      <td>...</td>\n",
       "      <td>0</td>\n",
       "      <td>0</td>\n",
       "      <td>0</td>\n",
       "      <td>0</td>\n",
       "      <td>0</td>\n",
       "      <td>0</td>\n",
       "      <td>0</td>\n",
       "      <td>0</td>\n",
       "      <td>0</td>\n",
       "      <td>0</td>\n",
       "    </tr>\n",
       "    <tr>\n",
       "      <th>16832</th>\n",
       "      <td>bbcb018f0e5e49e13636f6e78ce9f60f</td>\n",
       "      <td>20220416</td>\n",
       "      <td>16</td>\n",
       "      <td>18163</td>\n",
       "      <td>10203</td>\n",
       "      <td>Census Tract 102.03, Vanderburgh County, Indiana</td>\n",
       "      <td>24</td>\n",
       "      <td>0</td>\n",
       "      <td>0</td>\n",
       "      <td>18</td>\n",
       "      <td>...</td>\n",
       "      <td>11</td>\n",
       "      <td>13</td>\n",
       "      <td>0</td>\n",
       "      <td>0</td>\n",
       "      <td>0</td>\n",
       "      <td>0</td>\n",
       "      <td>0</td>\n",
       "      <td>0</td>\n",
       "      <td>0</td>\n",
       "      <td>0</td>\n",
       "    </tr>\n",
       "  </tbody>\n",
       "</table>\n",
       "<p>16833 rows × 25 columns</p>\n",
       "</div>"
      ],
      "text/plain": [
       "                                  uu_id  timeperiod  week_number  countyfips  \\\n",
       "0      f013068de98db1470bd986137a0c6d23    20220416           16       18003   \n",
       "1      21957d5517323845818d87623589e1ba    20220319           12       18089   \n",
       "2      6a5609f385912113b6f1014b958ed748    20220326           13       18089   \n",
       "3      46b2882ec4c373527ec33f7bd4f1388d    20220716           29       18089   \n",
       "4      37495d17e82f7df326bfc2c4c090f7b7    20220409           15       18089   \n",
       "...                                 ...         ...          ...         ...   \n",
       "16828  f35320206f3dd1ffc411e4ac127caf92    20220618           25       18163   \n",
       "16829  f35320206f3dd1ffc411e4ac127caf92    20220827           35       18163   \n",
       "16830  f35320206f3dd1ffc411e4ac127caf92    20220827           35       18163   \n",
       "16831  bbcb018f0e5e49e13636f6e78ce9f60f    20220326           13       18163   \n",
       "16832  bbcb018f0e5e49e13636f6e78ce9f60f    20220416           16       18163   \n",
       "\n",
       "       tract                                        tract_name  total_claims  \\\n",
       "0        900             Census Tract 9, Allen County, Indiana            22   \n",
       "1      10400            Census Tract 104, Lake County, Indiana           111   \n",
       "2      11500            Census Tract 115, Lake County, Indiana            39   \n",
       "3      20700            Census Tract 207, Lake County, Indiana            14   \n",
       "4      21900            Census Tract 219, Lake County, Indiana           155   \n",
       "...      ...                                               ...           ...   \n",
       "16828   3804   Census Tract 38.04, Vanderburgh County, Indiana            21   \n",
       "16829   3804   Census Tract 38.04, Vanderburgh County, Indiana            22   \n",
       "16830   3804   Census Tract 38.04, Vanderburgh County, Indiana            22   \n",
       "16831  10203  Census Tract 102.03, Vanderburgh County, Indiana            53   \n",
       "16832  10203  Census Tract 102.03, Vanderburgh County, Indiana            24   \n",
       "\n",
       "       edu_8th_or_less  edu_grades_9_11  edu_hs_grad_equiv  ...  \\\n",
       "0                    0                0                 14  ...   \n",
       "1                    0                0                108  ...   \n",
       "2                    0                0                  0  ...   \n",
       "3                    0                0                  0  ...   \n",
       "4                    0                0                 69  ...   \n",
       "...                ...              ...                ...  ...   \n",
       "16828                0                0                  0  ...   \n",
       "16829                0                0                 13  ...   \n",
       "16830                0                0                 13  ...   \n",
       "16831                0                0                 48  ...   \n",
       "16832                0                0                 18  ...   \n",
       "\n",
       "       gender_female  gender_male gender_na race_amerindian race_asian  \\\n",
       "0                  0            0         0               0          0   \n",
       "1                 76           35         0               0          0   \n",
       "2                  0            0         0               0          0   \n",
       "3                  0            0         0               0          0   \n",
       "4                 90           65         0               0          0   \n",
       "...              ...          ...       ...             ...        ...   \n",
       "16828              0            0         0               0          0   \n",
       "16829              0            0         0               0          0   \n",
       "16830              0            0         0               0          0   \n",
       "16831              0            0         0               0          0   \n",
       "16832             11           13         0               0          0   \n",
       "\n",
       "       race_black  race_noanswer  race_hawaiiannative  race_other  race_white  \n",
       "0              11              0                    0           0           0  \n",
       "1               0              0                    0           0           0  \n",
       "2              39              0                    0           0           0  \n",
       "3              10              0                    0           0           0  \n",
       "4             135              0                    0           0           0  \n",
       "...           ...            ...                  ...         ...         ...  \n",
       "16828           0              0                    0           0          14  \n",
       "16829           0              0                    0           0           0  \n",
       "16830           0              0                    0           0           0  \n",
       "16831           0              0                    0           0           0  \n",
       "16832           0              0                    0           0           0  \n",
       "\n",
       "[16833 rows x 25 columns]"
      ]
     },
     "execution_count": 50,
     "metadata": {},
     "output_type": "execute_result"
    }
   ],
   "source": [
    "data.fillna(0)"
   ]
  },
  {
   "cell_type": "code",
   "execution_count": 51,
   "id": "c50d4013",
   "metadata": {
    "execution": {
     "iopub.execute_input": "2023-05-10T01:58:41.349670Z",
     "iopub.status.busy": "2023-05-10T01:58:41.349525Z",
     "iopub.status.idle": "2023-05-10T01:58:41.359751Z",
     "shell.execute_reply": "2023-05-10T01:58:41.359380Z"
    }
   },
   "outputs": [],
   "source": [
    "data = data.fillna(0)"
   ]
  },
  {
   "cell_type": "code",
   "execution_count": 52,
   "id": "5857c2c9",
   "metadata": {
    "execution": {
     "iopub.execute_input": "2023-05-10T01:58:41.361540Z",
     "iopub.status.busy": "2023-05-10T01:58:41.361409Z",
     "iopub.status.idle": "2023-05-10T01:58:41.370569Z",
     "shell.execute_reply": "2023-05-10T01:58:41.370243Z"
    }
   },
   "outputs": [],
   "source": [
    "data = data.fillna(0)"
   ]
  },
  {
   "cell_type": "code",
   "execution_count": 53,
   "id": "7757dea3",
   "metadata": {
    "execution": {
     "iopub.execute_input": "2023-05-10T01:58:41.372279Z",
     "iopub.status.busy": "2023-05-10T01:58:41.372187Z",
     "iopub.status.idle": "2023-05-10T01:58:41.381989Z",
     "shell.execute_reply": "2023-05-10T01:58:41.381741Z"
    }
   },
   "outputs": [
    {
     "name": "stdout",
     "output_type": "stream",
     "text": [
      "<class 'pandas.core.frame.DataFrame'>\n",
      "RangeIndex: 16833 entries, 0 to 16832\n",
      "Data columns (total 25 columns):\n",
      " #   Column                  Non-Null Count  Dtype \n",
      "---  ------                  --------------  ----- \n",
      " 0   uu_id                   16833 non-null  object\n",
      " 1   timeperiod              16833 non-null  Int64 \n",
      " 2   week_number             16833 non-null  Int64 \n",
      " 3   countyfips              16833 non-null  Int64 \n",
      " 4   tract                   16833 non-null  Int64 \n",
      " 5   tract_name              16833 non-null  object\n",
      " 6   total_claims            16833 non-null  Int64 \n",
      " 7   edu_8th_or_less         16833 non-null  Int64 \n",
      " 8   edu_grades_9_11         16833 non-null  Int64 \n",
      " 9   edu_hs_grad_equiv       16833 non-null  Int64 \n",
      " 10  edu_post_hs             16833 non-null  Int64 \n",
      " 11  edu_unknown             16833 non-null  Int64 \n",
      " 12  top_category_employer1  16833 non-null  object\n",
      " 13  top_category_employer2  16833 non-null  object\n",
      " 14  top_category_employer3  16833 non-null  object\n",
      " 15  gender_female           16833 non-null  Int64 \n",
      " 16  gender_male             16833 non-null  Int64 \n",
      " 17  gender_na               16833 non-null  Int64 \n",
      " 18  race_amerindian         16833 non-null  Int64 \n",
      " 19  race_asian              16833 non-null  Int64 \n",
      " 20  race_black              16833 non-null  Int64 \n",
      " 21  race_noanswer           16833 non-null  Int64 \n",
      " 22  race_hawaiiannative     16833 non-null  Int64 \n",
      " 23  race_other              16833 non-null  Int64 \n",
      " 24  race_white              16833 non-null  Int64 \n",
      "dtypes: Int64(20), object(5)\n",
      "memory usage: 3.5+ MB\n"
     ]
    }
   ],
   "source": [
    "data.info()"
   ]
  },
  {
   "cell_type": "code",
   "execution_count": 54,
   "id": "f17dda45",
   "metadata": {
    "execution": {
     "iopub.execute_input": "2023-05-10T01:58:41.383604Z",
     "iopub.status.busy": "2023-05-10T01:58:41.383471Z",
     "iopub.status.idle": "2023-05-10T01:58:41.387447Z",
     "shell.execute_reply": "2023-05-10T01:58:41.387195Z"
    }
   },
   "outputs": [
    {
     "data": {
      "text/plain": [
       "0        32.0\n",
       "1        48.5\n",
       "2        56.0\n",
       "3        56.0\n",
       "4        72.0\n",
       "         ... \n",
       "16828    56.0\n",
       "16829    56.0\n",
       "16830    56.0\n",
       "16831    23.0\n",
       "16832    23.0\n",
       "Name: top_category_employer1, Length: 16833, dtype: float64"
      ]
     },
     "execution_count": 54,
     "metadata": {},
     "output_type": "execute_result"
    }
   ],
   "source": [
    "data['top_category_employer1'].astype(float)"
   ]
  },
  {
   "cell_type": "code",
   "execution_count": 55,
   "id": "1f7ad826",
   "metadata": {
    "execution": {
     "iopub.execute_input": "2023-05-10T01:58:41.389017Z",
     "iopub.status.busy": "2023-05-10T01:58:41.388908Z",
     "iopub.status.idle": "2023-05-10T01:58:41.397303Z",
     "shell.execute_reply": "2023-05-10T01:58:41.397044Z"
    }
   },
   "outputs": [],
   "source": [
    "data = data.fillna(0)"
   ]
  },
  {
   "cell_type": "code",
   "execution_count": 56,
   "id": "dc0c5076",
   "metadata": {
    "execution": {
     "iopub.execute_input": "2023-05-10T01:58:41.398749Z",
     "iopub.status.busy": "2023-05-10T01:58:41.398662Z",
     "iopub.status.idle": "2023-05-10T01:58:41.402592Z",
     "shell.execute_reply": "2023-05-10T01:58:41.402307Z"
    }
   },
   "outputs": [
    {
     "data": {
      "text/plain": [
       "0        32.0\n",
       "1        48.5\n",
       "2        56.0\n",
       "3        56.0\n",
       "4        72.0\n",
       "         ... \n",
       "16828    56.0\n",
       "16829    56.0\n",
       "16830    56.0\n",
       "16831    23.0\n",
       "16832    23.0\n",
       "Name: top_category_employer1, Length: 16833, dtype: float64"
      ]
     },
     "execution_count": 56,
     "metadata": {},
     "output_type": "execute_result"
    }
   ],
   "source": [
    "data['top_category_employer1'].astype(float)"
   ]
  },
  {
   "cell_type": "code",
   "execution_count": 57,
   "id": "4ab0fc71",
   "metadata": {
    "execution": {
     "iopub.execute_input": "2023-05-10T01:58:41.404113Z",
     "iopub.status.busy": "2023-05-10T01:58:41.404003Z",
     "iopub.status.idle": "2023-05-10T01:58:41.418460Z",
     "shell.execute_reply": "2023-05-10T01:58:41.418112Z"
    }
   },
   "outputs": [
    {
     "data": {
      "text/html": [
       "<div>\n",
       "<style scoped>\n",
       "    .dataframe tbody tr th:only-of-type {\n",
       "        vertical-align: middle;\n",
       "    }\n",
       "\n",
       "    .dataframe tbody tr th {\n",
       "        vertical-align: top;\n",
       "    }\n",
       "\n",
       "    .dataframe thead th {\n",
       "        text-align: right;\n",
       "    }\n",
       "</style>\n",
       "<table border=\"1\" class=\"dataframe\">\n",
       "  <thead>\n",
       "    <tr style=\"text-align: right;\">\n",
       "      <th></th>\n",
       "      <th>uu_id</th>\n",
       "      <th>timeperiod</th>\n",
       "      <th>week_number</th>\n",
       "      <th>countyfips</th>\n",
       "      <th>tract</th>\n",
       "      <th>tract_name</th>\n",
       "      <th>total_claims</th>\n",
       "      <th>edu_8th_or_less</th>\n",
       "      <th>edu_grades_9_11</th>\n",
       "      <th>edu_hs_grad_equiv</th>\n",
       "      <th>...</th>\n",
       "      <th>gender_female</th>\n",
       "      <th>gender_male</th>\n",
       "      <th>gender_na</th>\n",
       "      <th>race_amerindian</th>\n",
       "      <th>race_asian</th>\n",
       "      <th>race_black</th>\n",
       "      <th>race_noanswer</th>\n",
       "      <th>race_hawaiiannative</th>\n",
       "      <th>race_other</th>\n",
       "      <th>race_white</th>\n",
       "    </tr>\n",
       "  </thead>\n",
       "  <tbody>\n",
       "    <tr>\n",
       "      <th>0</th>\n",
       "      <td>False</td>\n",
       "      <td>False</td>\n",
       "      <td>False</td>\n",
       "      <td>False</td>\n",
       "      <td>False</td>\n",
       "      <td>False</td>\n",
       "      <td>False</td>\n",
       "      <td>False</td>\n",
       "      <td>False</td>\n",
       "      <td>False</td>\n",
       "      <td>...</td>\n",
       "      <td>False</td>\n",
       "      <td>False</td>\n",
       "      <td>False</td>\n",
       "      <td>False</td>\n",
       "      <td>False</td>\n",
       "      <td>False</td>\n",
       "      <td>False</td>\n",
       "      <td>False</td>\n",
       "      <td>False</td>\n",
       "      <td>False</td>\n",
       "    </tr>\n",
       "    <tr>\n",
       "      <th>1</th>\n",
       "      <td>False</td>\n",
       "      <td>False</td>\n",
       "      <td>False</td>\n",
       "      <td>False</td>\n",
       "      <td>False</td>\n",
       "      <td>False</td>\n",
       "      <td>False</td>\n",
       "      <td>False</td>\n",
       "      <td>False</td>\n",
       "      <td>False</td>\n",
       "      <td>...</td>\n",
       "      <td>False</td>\n",
       "      <td>False</td>\n",
       "      <td>False</td>\n",
       "      <td>False</td>\n",
       "      <td>False</td>\n",
       "      <td>False</td>\n",
       "      <td>False</td>\n",
       "      <td>False</td>\n",
       "      <td>False</td>\n",
       "      <td>False</td>\n",
       "    </tr>\n",
       "    <tr>\n",
       "      <th>2</th>\n",
       "      <td>False</td>\n",
       "      <td>False</td>\n",
       "      <td>False</td>\n",
       "      <td>False</td>\n",
       "      <td>False</td>\n",
       "      <td>False</td>\n",
       "      <td>False</td>\n",
       "      <td>False</td>\n",
       "      <td>False</td>\n",
       "      <td>False</td>\n",
       "      <td>...</td>\n",
       "      <td>False</td>\n",
       "      <td>False</td>\n",
       "      <td>False</td>\n",
       "      <td>False</td>\n",
       "      <td>False</td>\n",
       "      <td>False</td>\n",
       "      <td>False</td>\n",
       "      <td>False</td>\n",
       "      <td>False</td>\n",
       "      <td>False</td>\n",
       "    </tr>\n",
       "    <tr>\n",
       "      <th>3</th>\n",
       "      <td>False</td>\n",
       "      <td>False</td>\n",
       "      <td>False</td>\n",
       "      <td>False</td>\n",
       "      <td>False</td>\n",
       "      <td>False</td>\n",
       "      <td>False</td>\n",
       "      <td>False</td>\n",
       "      <td>False</td>\n",
       "      <td>False</td>\n",
       "      <td>...</td>\n",
       "      <td>False</td>\n",
       "      <td>False</td>\n",
       "      <td>False</td>\n",
       "      <td>False</td>\n",
       "      <td>False</td>\n",
       "      <td>False</td>\n",
       "      <td>False</td>\n",
       "      <td>False</td>\n",
       "      <td>False</td>\n",
       "      <td>False</td>\n",
       "    </tr>\n",
       "    <tr>\n",
       "      <th>4</th>\n",
       "      <td>False</td>\n",
       "      <td>False</td>\n",
       "      <td>False</td>\n",
       "      <td>False</td>\n",
       "      <td>False</td>\n",
       "      <td>False</td>\n",
       "      <td>False</td>\n",
       "      <td>False</td>\n",
       "      <td>False</td>\n",
       "      <td>False</td>\n",
       "      <td>...</td>\n",
       "      <td>False</td>\n",
       "      <td>False</td>\n",
       "      <td>False</td>\n",
       "      <td>False</td>\n",
       "      <td>False</td>\n",
       "      <td>False</td>\n",
       "      <td>False</td>\n",
       "      <td>False</td>\n",
       "      <td>False</td>\n",
       "      <td>False</td>\n",
       "    </tr>\n",
       "    <tr>\n",
       "      <th>...</th>\n",
       "      <td>...</td>\n",
       "      <td>...</td>\n",
       "      <td>...</td>\n",
       "      <td>...</td>\n",
       "      <td>...</td>\n",
       "      <td>...</td>\n",
       "      <td>...</td>\n",
       "      <td>...</td>\n",
       "      <td>...</td>\n",
       "      <td>...</td>\n",
       "      <td>...</td>\n",
       "      <td>...</td>\n",
       "      <td>...</td>\n",
       "      <td>...</td>\n",
       "      <td>...</td>\n",
       "      <td>...</td>\n",
       "      <td>...</td>\n",
       "      <td>...</td>\n",
       "      <td>...</td>\n",
       "      <td>...</td>\n",
       "      <td>...</td>\n",
       "    </tr>\n",
       "    <tr>\n",
       "      <th>16828</th>\n",
       "      <td>False</td>\n",
       "      <td>False</td>\n",
       "      <td>False</td>\n",
       "      <td>False</td>\n",
       "      <td>False</td>\n",
       "      <td>False</td>\n",
       "      <td>False</td>\n",
       "      <td>False</td>\n",
       "      <td>False</td>\n",
       "      <td>False</td>\n",
       "      <td>...</td>\n",
       "      <td>False</td>\n",
       "      <td>False</td>\n",
       "      <td>False</td>\n",
       "      <td>False</td>\n",
       "      <td>False</td>\n",
       "      <td>False</td>\n",
       "      <td>False</td>\n",
       "      <td>False</td>\n",
       "      <td>False</td>\n",
       "      <td>False</td>\n",
       "    </tr>\n",
       "    <tr>\n",
       "      <th>16829</th>\n",
       "      <td>False</td>\n",
       "      <td>False</td>\n",
       "      <td>False</td>\n",
       "      <td>False</td>\n",
       "      <td>False</td>\n",
       "      <td>False</td>\n",
       "      <td>False</td>\n",
       "      <td>False</td>\n",
       "      <td>False</td>\n",
       "      <td>False</td>\n",
       "      <td>...</td>\n",
       "      <td>False</td>\n",
       "      <td>False</td>\n",
       "      <td>False</td>\n",
       "      <td>False</td>\n",
       "      <td>False</td>\n",
       "      <td>False</td>\n",
       "      <td>False</td>\n",
       "      <td>False</td>\n",
       "      <td>False</td>\n",
       "      <td>False</td>\n",
       "    </tr>\n",
       "    <tr>\n",
       "      <th>16830</th>\n",
       "      <td>False</td>\n",
       "      <td>False</td>\n",
       "      <td>False</td>\n",
       "      <td>False</td>\n",
       "      <td>False</td>\n",
       "      <td>False</td>\n",
       "      <td>False</td>\n",
       "      <td>False</td>\n",
       "      <td>False</td>\n",
       "      <td>False</td>\n",
       "      <td>...</td>\n",
       "      <td>False</td>\n",
       "      <td>False</td>\n",
       "      <td>False</td>\n",
       "      <td>False</td>\n",
       "      <td>False</td>\n",
       "      <td>False</td>\n",
       "      <td>False</td>\n",
       "      <td>False</td>\n",
       "      <td>False</td>\n",
       "      <td>False</td>\n",
       "    </tr>\n",
       "    <tr>\n",
       "      <th>16831</th>\n",
       "      <td>False</td>\n",
       "      <td>False</td>\n",
       "      <td>False</td>\n",
       "      <td>False</td>\n",
       "      <td>False</td>\n",
       "      <td>False</td>\n",
       "      <td>False</td>\n",
       "      <td>False</td>\n",
       "      <td>False</td>\n",
       "      <td>False</td>\n",
       "      <td>...</td>\n",
       "      <td>False</td>\n",
       "      <td>False</td>\n",
       "      <td>False</td>\n",
       "      <td>False</td>\n",
       "      <td>False</td>\n",
       "      <td>False</td>\n",
       "      <td>False</td>\n",
       "      <td>False</td>\n",
       "      <td>False</td>\n",
       "      <td>False</td>\n",
       "    </tr>\n",
       "    <tr>\n",
       "      <th>16832</th>\n",
       "      <td>False</td>\n",
       "      <td>False</td>\n",
       "      <td>False</td>\n",
       "      <td>False</td>\n",
       "      <td>False</td>\n",
       "      <td>False</td>\n",
       "      <td>False</td>\n",
       "      <td>False</td>\n",
       "      <td>False</td>\n",
       "      <td>False</td>\n",
       "      <td>...</td>\n",
       "      <td>False</td>\n",
       "      <td>False</td>\n",
       "      <td>False</td>\n",
       "      <td>False</td>\n",
       "      <td>False</td>\n",
       "      <td>False</td>\n",
       "      <td>False</td>\n",
       "      <td>False</td>\n",
       "      <td>False</td>\n",
       "      <td>False</td>\n",
       "    </tr>\n",
       "  </tbody>\n",
       "</table>\n",
       "<p>16833 rows × 25 columns</p>\n",
       "</div>"
      ],
      "text/plain": [
       "       uu_id  timeperiod  week_number  countyfips  tract  tract_name  \\\n",
       "0      False       False        False       False  False       False   \n",
       "1      False       False        False       False  False       False   \n",
       "2      False       False        False       False  False       False   \n",
       "3      False       False        False       False  False       False   \n",
       "4      False       False        False       False  False       False   \n",
       "...      ...         ...          ...         ...    ...         ...   \n",
       "16828  False       False        False       False  False       False   \n",
       "16829  False       False        False       False  False       False   \n",
       "16830  False       False        False       False  False       False   \n",
       "16831  False       False        False       False  False       False   \n",
       "16832  False       False        False       False  False       False   \n",
       "\n",
       "       total_claims  edu_8th_or_less  edu_grades_9_11  edu_hs_grad_equiv  ...  \\\n",
       "0             False            False            False              False  ...   \n",
       "1             False            False            False              False  ...   \n",
       "2             False            False            False              False  ...   \n",
       "3             False            False            False              False  ...   \n",
       "4             False            False            False              False  ...   \n",
       "...             ...              ...              ...                ...  ...   \n",
       "16828         False            False            False              False  ...   \n",
       "16829         False            False            False              False  ...   \n",
       "16830         False            False            False              False  ...   \n",
       "16831         False            False            False              False  ...   \n",
       "16832         False            False            False              False  ...   \n",
       "\n",
       "       gender_female  gender_male  gender_na  race_amerindian  race_asian  \\\n",
       "0              False        False      False            False       False   \n",
       "1              False        False      False            False       False   \n",
       "2              False        False      False            False       False   \n",
       "3              False        False      False            False       False   \n",
       "4              False        False      False            False       False   \n",
       "...              ...          ...        ...              ...         ...   \n",
       "16828          False        False      False            False       False   \n",
       "16829          False        False      False            False       False   \n",
       "16830          False        False      False            False       False   \n",
       "16831          False        False      False            False       False   \n",
       "16832          False        False      False            False       False   \n",
       "\n",
       "       race_black  race_noanswer  race_hawaiiannative  race_other  race_white  \n",
       "0           False          False                False       False       False  \n",
       "1           False          False                False       False       False  \n",
       "2           False          False                False       False       False  \n",
       "3           False          False                False       False       False  \n",
       "4           False          False                False       False       False  \n",
       "...           ...            ...                  ...         ...         ...  \n",
       "16828       False          False                False       False       False  \n",
       "16829       False          False                False       False       False  \n",
       "16830       False          False                False       False       False  \n",
       "16831       False          False                False       False       False  \n",
       "16832       False          False                False       False       False  \n",
       "\n",
       "[16833 rows x 25 columns]"
      ]
     },
     "execution_count": 57,
     "metadata": {},
     "output_type": "execute_result"
    }
   ],
   "source": [
    "data.isnull()"
   ]
  },
  {
   "cell_type": "code",
   "execution_count": 58,
   "id": "2d71dbc9",
   "metadata": {
    "execution": {
     "iopub.execute_input": "2023-05-10T01:58:41.420031Z",
     "iopub.status.busy": "2023-05-10T01:58:41.419913Z",
     "iopub.status.idle": "2023-05-10T01:58:41.428286Z",
     "shell.execute_reply": "2023-05-10T01:58:41.428037Z"
    }
   },
   "outputs": [
    {
     "data": {
      "text/plain": [
       "uu_id                     False\n",
       "timeperiod                False\n",
       "week_number               False\n",
       "countyfips                False\n",
       "tract                     False\n",
       "tract_name                False\n",
       "total_claims              False\n",
       "edu_8th_or_less           False\n",
       "edu_grades_9_11           False\n",
       "edu_hs_grad_equiv         False\n",
       "edu_post_hs               False\n",
       "edu_unknown               False\n",
       "top_category_employer1    False\n",
       "top_category_employer2    False\n",
       "top_category_employer3    False\n",
       "gender_female             False\n",
       "gender_male               False\n",
       "gender_na                 False\n",
       "race_amerindian           False\n",
       "race_asian                False\n",
       "race_black                False\n",
       "race_noanswer             False\n",
       "race_hawaiiannative       False\n",
       "race_other                False\n",
       "race_white                False\n",
       "dtype: bool"
      ]
     },
     "execution_count": 58,
     "metadata": {},
     "output_type": "execute_result"
    }
   ],
   "source": [
    "data.isnull().any()"
   ]
  },
  {
   "cell_type": "code",
   "execution_count": 59,
   "id": "86598d7b",
   "metadata": {
    "execution": {
     "iopub.execute_input": "2023-05-10T01:58:41.429645Z",
     "iopub.status.busy": "2023-05-10T01:58:41.429558Z",
     "iopub.status.idle": "2023-05-10T01:58:41.433049Z",
     "shell.execute_reply": "2023-05-10T01:58:41.432767Z"
    }
   },
   "outputs": [
    {
     "data": {
      "text/plain": [
       "0        32.0\n",
       "1        48.5\n",
       "2        56.0\n",
       "3        56.0\n",
       "4        72.0\n",
       "         ... \n",
       "16828    56.0\n",
       "16829    56.0\n",
       "16830    56.0\n",
       "16831    23.0\n",
       "16832    23.0\n",
       "Name: top_category_employer1, Length: 16833, dtype: float64"
      ]
     },
     "execution_count": 59,
     "metadata": {},
     "output_type": "execute_result"
    }
   ],
   "source": [
    "data['top_category_employer1'].astype(float)"
   ]
  },
  {
   "cell_type": "code",
   "execution_count": 60,
   "id": "7b997686",
   "metadata": {
    "execution": {
     "iopub.execute_input": "2023-05-10T01:58:41.435073Z",
     "iopub.status.busy": "2023-05-10T01:58:41.434901Z",
     "iopub.status.idle": "2023-05-10T01:58:41.437933Z",
     "shell.execute_reply": "2023-05-10T01:58:41.437663Z"
    }
   },
   "outputs": [],
   "source": [
    "data[\"top_category_employer1\"] = data[\"top_category_employer1\"].map(lambda x: '0' if x =='N/A' else x)"
   ]
  },
  {
   "cell_type": "code",
   "execution_count": 61,
   "id": "c5fc7950",
   "metadata": {
    "execution": {
     "iopub.execute_input": "2023-05-10T01:58:41.439367Z",
     "iopub.status.busy": "2023-05-10T01:58:41.439274Z",
     "iopub.status.idle": "2023-05-10T01:58:41.442263Z",
     "shell.execute_reply": "2023-05-10T01:58:41.442013Z"
    }
   },
   "outputs": [],
   "source": [
    "data[\"top_category_employer2\"] = data[\"top_category_employer2\"].map(lambda x: '0' if x =='N/A' else x)"
   ]
  },
  {
   "cell_type": "code",
   "execution_count": 62,
   "id": "2394ea5a",
   "metadata": {
    "execution": {
     "iopub.execute_input": "2023-05-10T01:58:41.443659Z",
     "iopub.status.busy": "2023-05-10T01:58:41.443578Z",
     "iopub.status.idle": "2023-05-10T01:58:41.446453Z",
     "shell.execute_reply": "2023-05-10T01:58:41.446209Z"
    }
   },
   "outputs": [],
   "source": [
    "data[\"top_category_employer2\"] = data[\"top_category_employer2\"].map(lambda x: '0' if x =='N/A' else x)"
   ]
  },
  {
   "cell_type": "code",
   "execution_count": 63,
   "id": "d308bf4d",
   "metadata": {
    "execution": {
     "iopub.execute_input": "2023-05-10T01:58:41.447761Z",
     "iopub.status.busy": "2023-05-10T01:58:41.447687Z",
     "iopub.status.idle": "2023-05-10T01:58:41.450662Z",
     "shell.execute_reply": "2023-05-10T01:58:41.450390Z"
    }
   },
   "outputs": [],
   "source": [
    "data[\"top_category_employer3\"] = data[\"top_category_employer3\"].map(lambda x: '0' if x =='N/A' else x)"
   ]
  },
  {
   "cell_type": "code",
   "execution_count": 64,
   "id": "bcd2577c",
   "metadata": {
    "execution": {
     "iopub.execute_input": "2023-05-10T01:58:41.452135Z",
     "iopub.status.busy": "2023-05-10T01:58:41.452049Z",
     "iopub.status.idle": "2023-05-10T01:58:41.460519Z",
     "shell.execute_reply": "2023-05-10T01:58:41.460263Z"
    }
   },
   "outputs": [],
   "source": [
    "data = data.fillna(0)"
   ]
  },
  {
   "cell_type": "code",
   "execution_count": 65,
   "id": "07ee074f",
   "metadata": {
    "execution": {
     "iopub.execute_input": "2023-05-10T01:58:41.461912Z",
     "iopub.status.busy": "2023-05-10T01:58:41.461825Z",
     "iopub.status.idle": "2023-05-10T01:58:41.465362Z",
     "shell.execute_reply": "2023-05-10T01:58:41.465111Z"
    }
   },
   "outputs": [
    {
     "data": {
      "text/plain": [
       "0        32.0\n",
       "1        48.5\n",
       "2        56.0\n",
       "3        56.0\n",
       "4        72.0\n",
       "         ... \n",
       "16828    56.0\n",
       "16829    56.0\n",
       "16830    56.0\n",
       "16831    23.0\n",
       "16832    23.0\n",
       "Name: top_category_employer1, Length: 16833, dtype: float64"
      ]
     },
     "execution_count": 65,
     "metadata": {},
     "output_type": "execute_result"
    }
   ],
   "source": [
    "data['top_category_employer1'].astype(float)"
   ]
  },
  {
   "cell_type": "code",
   "execution_count": 66,
   "id": "58483ced",
   "metadata": {
    "execution": {
     "iopub.execute_input": "2023-05-10T01:58:41.466949Z",
     "iopub.status.busy": "2023-05-10T01:58:41.466833Z",
     "iopub.status.idle": "2023-05-10T01:58:41.470081Z",
     "shell.execute_reply": "2023-05-10T01:58:41.469833Z"
    }
   },
   "outputs": [
    {
     "data": {
      "text/plain": [
       "0        51.0\n",
       "1        51.0\n",
       "2         0.0\n",
       "3        51.0\n",
       "4        51.0\n",
       "         ... \n",
       "16828    48.5\n",
       "16829    48.5\n",
       "16830    48.5\n",
       "16831    48.5\n",
       "16832    48.5\n",
       "Name: top_category_employer2, Length: 16833, dtype: float64"
      ]
     },
     "execution_count": 66,
     "metadata": {},
     "output_type": "execute_result"
    }
   ],
   "source": [
    "data['top_category_employer2'].astype(float)"
   ]
  },
  {
   "cell_type": "code",
   "execution_count": 67,
   "id": "fb44eb04",
   "metadata": {
    "execution": {
     "iopub.execute_input": "2023-05-10T01:58:41.471456Z",
     "iopub.status.busy": "2023-05-10T01:58:41.471362Z",
     "iopub.status.idle": "2023-05-10T01:58:41.474872Z",
     "shell.execute_reply": "2023-05-10T01:58:41.474615Z"
    }
   },
   "outputs": [
    {
     "data": {
      "text/plain": [
       "0        62.0\n",
       "1        56.0\n",
       "2         0.0\n",
       "3        44.5\n",
       "4        56.0\n",
       "         ... \n",
       "16828    81.0\n",
       "16829    23.0\n",
       "16830    23.0\n",
       "16831    44.5\n",
       "16832    44.5\n",
       "Name: top_category_employer3, Length: 16833, dtype: float64"
      ]
     },
     "execution_count": 67,
     "metadata": {},
     "output_type": "execute_result"
    }
   ],
   "source": [
    "data['top_category_employer3'].astype(float)"
   ]
  },
  {
   "cell_type": "code",
   "execution_count": 68,
   "id": "445999e9",
   "metadata": {
    "execution": {
     "iopub.execute_input": "2023-05-10T01:58:41.476368Z",
     "iopub.status.busy": "2023-05-10T01:58:41.476266Z",
     "iopub.status.idle": "2023-05-10T01:58:41.517989Z",
     "shell.execute_reply": "2023-05-10T01:58:41.517715Z"
    }
   },
   "outputs": [
    {
     "name": "stderr",
     "output_type": "stream",
     "text": [
      "/var/folders/l2/cnhff0_n1470l4xf0p7v7l_40000gn/T/ipykernel_17195/2203671901.py:1: FutureWarning: The default value of numeric_only in DataFrameGroupBy.sum is deprecated. In a future version, numeric_only will default to False. Either specify numeric_only or select only columns which should be valid for the function.\n",
      "  data[\"test\"] = data.groupby(by=[\"uu_id\"]).sum()\n"
     ]
    },
    {
     "ename": "ValueError",
     "evalue": "Cannot set a DataFrame with multiple columns to the single column test",
     "output_type": "error",
     "traceback": [
      "\u001b[0;31m---------------------------------------------------------------------------\u001b[0m",
      "\u001b[0;31mValueError\u001b[0m                                Traceback (most recent call last)",
      "Cell \u001b[0;32mIn [68], line 1\u001b[0m\n\u001b[0;32m----> 1\u001b[0m \u001b[43mdata\u001b[49m\u001b[43m[\u001b[49m\u001b[38;5;124;43m\"\u001b[39;49m\u001b[38;5;124;43mtest\u001b[39;49m\u001b[38;5;124;43m\"\u001b[39;49m\u001b[43m]\u001b[49m \u001b[38;5;241m=\u001b[39m data\u001b[38;5;241m.\u001b[39mgroupby(by\u001b[38;5;241m=\u001b[39m[\u001b[38;5;124m\"\u001b[39m\u001b[38;5;124muu_id\u001b[39m\u001b[38;5;124m\"\u001b[39m])\u001b[38;5;241m.\u001b[39msum()\n",
      "File \u001b[0;32m/opt/homebrew/lib/python3.9/site-packages/pandas/core/frame.py:3967\u001b[0m, in \u001b[0;36mDataFrame.__setitem__\u001b[0;34m(self, key, value)\u001b[0m\n\u001b[1;32m   3965\u001b[0m     \u001b[38;5;28mself\u001b[39m\u001b[38;5;241m.\u001b[39m_setitem_array(key, value)\n\u001b[1;32m   3966\u001b[0m \u001b[38;5;28;01melif\u001b[39;00m \u001b[38;5;28misinstance\u001b[39m(value, DataFrame):\n\u001b[0;32m-> 3967\u001b[0m     \u001b[38;5;28;43mself\u001b[39;49m\u001b[38;5;241;43m.\u001b[39;49m\u001b[43m_set_item_frame_value\u001b[49m\u001b[43m(\u001b[49m\u001b[43mkey\u001b[49m\u001b[43m,\u001b[49m\u001b[43m \u001b[49m\u001b[43mvalue\u001b[49m\u001b[43m)\u001b[49m\n\u001b[1;32m   3968\u001b[0m \u001b[38;5;28;01melif\u001b[39;00m (\n\u001b[1;32m   3969\u001b[0m     is_list_like(value)\n\u001b[1;32m   3970\u001b[0m     \u001b[38;5;129;01mand\u001b[39;00m \u001b[38;5;129;01mnot\u001b[39;00m \u001b[38;5;28mself\u001b[39m\u001b[38;5;241m.\u001b[39mcolumns\u001b[38;5;241m.\u001b[39mis_unique\n\u001b[1;32m   3971\u001b[0m     \u001b[38;5;129;01mand\u001b[39;00m \u001b[38;5;241m1\u001b[39m \u001b[38;5;241m<\u001b[39m \u001b[38;5;28mlen\u001b[39m(\u001b[38;5;28mself\u001b[39m\u001b[38;5;241m.\u001b[39mcolumns\u001b[38;5;241m.\u001b[39mget_indexer_for([key])) \u001b[38;5;241m==\u001b[39m \u001b[38;5;28mlen\u001b[39m(value)\n\u001b[1;32m   3972\u001b[0m ):\n\u001b[1;32m   3973\u001b[0m     \u001b[38;5;66;03m# Column to set is duplicated\u001b[39;00m\n\u001b[1;32m   3974\u001b[0m     \u001b[38;5;28mself\u001b[39m\u001b[38;5;241m.\u001b[39m_setitem_array([key], value)\n",
      "File \u001b[0;32m/opt/homebrew/lib/python3.9/site-packages/pandas/core/frame.py:4122\u001b[0m, in \u001b[0;36mDataFrame._set_item_frame_value\u001b[0;34m(self, key, value)\u001b[0m\n\u001b[1;32m   4119\u001b[0m     \u001b[38;5;28;01mreturn\u001b[39;00m\n\u001b[1;32m   4121\u001b[0m \u001b[38;5;28;01mif\u001b[39;00m \u001b[38;5;28mlen\u001b[39m(value\u001b[38;5;241m.\u001b[39mcolumns) \u001b[38;5;241m!=\u001b[39m \u001b[38;5;241m1\u001b[39m:\n\u001b[0;32m-> 4122\u001b[0m     \u001b[38;5;28;01mraise\u001b[39;00m \u001b[38;5;167;01mValueError\u001b[39;00m(\n\u001b[1;32m   4123\u001b[0m         \u001b[38;5;124m\"\u001b[39m\u001b[38;5;124mCannot set a DataFrame with multiple columns to the single \u001b[39m\u001b[38;5;124m\"\u001b[39m\n\u001b[1;32m   4124\u001b[0m         \u001b[38;5;124mf\u001b[39m\u001b[38;5;124m\"\u001b[39m\u001b[38;5;124mcolumn \u001b[39m\u001b[38;5;132;01m{\u001b[39;00mkey\u001b[38;5;132;01m}\u001b[39;00m\u001b[38;5;124m\"\u001b[39m\n\u001b[1;32m   4125\u001b[0m     )\n\u001b[1;32m   4127\u001b[0m \u001b[38;5;28mself\u001b[39m[key] \u001b[38;5;241m=\u001b[39m value[value\u001b[38;5;241m.\u001b[39mcolumns[\u001b[38;5;241m0\u001b[39m]]\n",
      "\u001b[0;31mValueError\u001b[0m: Cannot set a DataFrame with multiple columns to the single column test"
     ]
    }
   ],
   "source": [
    "data[\"test\"] = data.groupby(by=[\"uu_id\"]).sum()"
   ]
  },
  {
   "cell_type": "code",
   "execution_count": 69,
   "id": "8e9c4e97",
   "metadata": {
    "execution": {
     "iopub.execute_input": "2023-05-10T01:58:41.519370Z",
     "iopub.status.busy": "2023-05-10T01:58:41.519284Z",
     "iopub.status.idle": "2023-05-10T01:58:41.533894Z",
     "shell.execute_reply": "2023-05-10T01:58:41.533641Z"
    }
   },
   "outputs": [
    {
     "name": "stderr",
     "output_type": "stream",
     "text": [
      "/var/folders/l2/cnhff0_n1470l4xf0p7v7l_40000gn/T/ipykernel_17195/3042140056.py:1: FutureWarning: The default value of numeric_only in DataFrameGroupBy.mean is deprecated. In a future version, numeric_only will default to False. Either specify numeric_only or select only columns which should be valid for the function.\n",
      "  data.groupby(by=[\"uu_id\"]).mean()\n"
     ]
    },
    {
     "data": {
      "text/html": [
       "<div>\n",
       "<style scoped>\n",
       "    .dataframe tbody tr th:only-of-type {\n",
       "        vertical-align: middle;\n",
       "    }\n",
       "\n",
       "    .dataframe tbody tr th {\n",
       "        vertical-align: top;\n",
       "    }\n",
       "\n",
       "    .dataframe thead th {\n",
       "        text-align: right;\n",
       "    }\n",
       "</style>\n",
       "<table border=\"1\" class=\"dataframe\">\n",
       "  <thead>\n",
       "    <tr style=\"text-align: right;\">\n",
       "      <th></th>\n",
       "      <th>timeperiod</th>\n",
       "      <th>week_number</th>\n",
       "      <th>countyfips</th>\n",
       "      <th>tract</th>\n",
       "      <th>total_claims</th>\n",
       "      <th>edu_8th_or_less</th>\n",
       "      <th>edu_grades_9_11</th>\n",
       "      <th>edu_hs_grad_equiv</th>\n",
       "      <th>edu_post_hs</th>\n",
       "      <th>edu_unknown</th>\n",
       "      <th>gender_female</th>\n",
       "      <th>gender_male</th>\n",
       "      <th>gender_na</th>\n",
       "      <th>race_amerindian</th>\n",
       "      <th>race_asian</th>\n",
       "      <th>race_black</th>\n",
       "      <th>race_noanswer</th>\n",
       "      <th>race_hawaiiannative</th>\n",
       "      <th>race_other</th>\n",
       "      <th>race_white</th>\n",
       "    </tr>\n",
       "    <tr>\n",
       "      <th>uu_id</th>\n",
       "      <th></th>\n",
       "      <th></th>\n",
       "      <th></th>\n",
       "      <th></th>\n",
       "      <th></th>\n",
       "      <th></th>\n",
       "      <th></th>\n",
       "      <th></th>\n",
       "      <th></th>\n",
       "      <th></th>\n",
       "      <th></th>\n",
       "      <th></th>\n",
       "      <th></th>\n",
       "      <th></th>\n",
       "      <th></th>\n",
       "      <th></th>\n",
       "      <th></th>\n",
       "      <th></th>\n",
       "      <th></th>\n",
       "      <th></th>\n",
       "    </tr>\n",
       "  </thead>\n",
       "  <tbody>\n",
       "    <tr>\n",
       "      <th>001cd9ae23064d7f0fd3cd327c873d8d</th>\n",
       "      <td>20220843.272727</td>\n",
       "      <td>34.636364</td>\n",
       "      <td>18099.0</td>\n",
       "      <td>20102.0</td>\n",
       "      <td>15.454545</td>\n",
       "      <td>0.0</td>\n",
       "      <td>0.0</td>\n",
       "      <td>2.727273</td>\n",
       "      <td>0.0</td>\n",
       "      <td>0.0</td>\n",
       "      <td>0.0</td>\n",
       "      <td>4.0</td>\n",
       "      <td>0.0</td>\n",
       "      <td>0.0</td>\n",
       "      <td>0.0</td>\n",
       "      <td>0.0</td>\n",
       "      <td>0.0</td>\n",
       "      <td>0.0</td>\n",
       "      <td>0.0</td>\n",
       "      <td>4.909091</td>\n",
       "    </tr>\n",
       "    <tr>\n",
       "      <th>005be9532fd717dc36d4be318fd9ad25</th>\n",
       "      <td>20220584.029412</td>\n",
       "      <td>23.117647</td>\n",
       "      <td>18039.0</td>\n",
       "      <td>802.0</td>\n",
       "      <td>32.852941</td>\n",
       "      <td>0.0</td>\n",
       "      <td>0.0</td>\n",
       "      <td>15.764706</td>\n",
       "      <td>3.058824</td>\n",
       "      <td>0.0</td>\n",
       "      <td>8.735294</td>\n",
       "      <td>14.117647</td>\n",
       "      <td>0.0</td>\n",
       "      <td>0.0</td>\n",
       "      <td>0.0</td>\n",
       "      <td>0.0</td>\n",
       "      <td>0.0</td>\n",
       "      <td>0.0</td>\n",
       "      <td>0.0</td>\n",
       "      <td>21.735294</td>\n",
       "    </tr>\n",
       "    <tr>\n",
       "      <th>007c1caccff1fbb3a0b8a10790f77141</th>\n",
       "      <td>20220497.8</td>\n",
       "      <td>19.4</td>\n",
       "      <td>18081.0</td>\n",
       "      <td>610900.0</td>\n",
       "      <td>18.88</td>\n",
       "      <td>0.0</td>\n",
       "      <td>0.0</td>\n",
       "      <td>6.76</td>\n",
       "      <td>0.0</td>\n",
       "      <td>0.0</td>\n",
       "      <td>0.44</td>\n",
       "      <td>0.4</td>\n",
       "      <td>0.0</td>\n",
       "      <td>0.0</td>\n",
       "      <td>0.0</td>\n",
       "      <td>3.68</td>\n",
       "      <td>0.0</td>\n",
       "      <td>0.0</td>\n",
       "      <td>0.0</td>\n",
       "      <td>10.12</td>\n",
       "    </tr>\n",
       "    <tr>\n",
       "      <th>009683350b175edfc6414d664e4ba873</th>\n",
       "      <td>20220447.217391</td>\n",
       "      <td>17.086957</td>\n",
       "      <td>18089.0</td>\n",
       "      <td>42801.0</td>\n",
       "      <td>19.130435</td>\n",
       "      <td>0.0</td>\n",
       "      <td>0.0</td>\n",
       "      <td>3.478261</td>\n",
       "      <td>1.956522</td>\n",
       "      <td>0.565217</td>\n",
       "      <td>0.565217</td>\n",
       "      <td>1.478261</td>\n",
       "      <td>0.0</td>\n",
       "      <td>0.0</td>\n",
       "      <td>0.0</td>\n",
       "      <td>3.695652</td>\n",
       "      <td>0.0</td>\n",
       "      <td>0.0</td>\n",
       "      <td>0.0</td>\n",
       "      <td>4.869565</td>\n",
       "    </tr>\n",
       "    <tr>\n",
       "      <th>00f962ce727b8dbbf20925abd5a253dd</th>\n",
       "      <td>20220550.595238</td>\n",
       "      <td>21.785714</td>\n",
       "      <td>18097.0</td>\n",
       "      <td>330900.0</td>\n",
       "      <td>39.52381</td>\n",
       "      <td>0.0</td>\n",
       "      <td>1.047619</td>\n",
       "      <td>16.880952</td>\n",
       "      <td>7.428571</td>\n",
       "      <td>0.238095</td>\n",
       "      <td>18.214286</td>\n",
       "      <td>12.119048</td>\n",
       "      <td>0.0</td>\n",
       "      <td>0.0</td>\n",
       "      <td>0.0</td>\n",
       "      <td>27.095238</td>\n",
       "      <td>0.0</td>\n",
       "      <td>0.0</td>\n",
       "      <td>0.285714</td>\n",
       "      <td>0.0</td>\n",
       "    </tr>\n",
       "    <tr>\n",
       "      <th>...</th>\n",
       "      <td>...</td>\n",
       "      <td>...</td>\n",
       "      <td>...</td>\n",
       "      <td>...</td>\n",
       "      <td>...</td>\n",
       "      <td>...</td>\n",
       "      <td>...</td>\n",
       "      <td>...</td>\n",
       "      <td>...</td>\n",
       "      <td>...</td>\n",
       "      <td>...</td>\n",
       "      <td>...</td>\n",
       "      <td>...</td>\n",
       "      <td>...</td>\n",
       "      <td>...</td>\n",
       "      <td>...</td>\n",
       "      <td>...</td>\n",
       "      <td>...</td>\n",
       "      <td>...</td>\n",
       "      <td>...</td>\n",
       "    </tr>\n",
       "    <tr>\n",
       "      <th>fcf9f3effa992cfd552696e4ae7219b6</th>\n",
       "      <td>20220552.6</td>\n",
       "      <td>21.9</td>\n",
       "      <td>18097.0</td>\n",
       "      <td>330103.0</td>\n",
       "      <td>16.275</td>\n",
       "      <td>0.0</td>\n",
       "      <td>0.0</td>\n",
       "      <td>0.725</td>\n",
       "      <td>6.225</td>\n",
       "      <td>0.0</td>\n",
       "      <td>1.35</td>\n",
       "      <td>1.425</td>\n",
       "      <td>0.0</td>\n",
       "      <td>0.0</td>\n",
       "      <td>0.0</td>\n",
       "      <td>0.875</td>\n",
       "      <td>0.0</td>\n",
       "      <td>0.0</td>\n",
       "      <td>0.0</td>\n",
       "      <td>2.4</td>\n",
       "    </tr>\n",
       "    <tr>\n",
       "      <th>fcfc60d8240e5a51f878fd92e2a352a3</th>\n",
       "      <td>20220510.941176</td>\n",
       "      <td>19.970588</td>\n",
       "      <td>18157.0</td>\n",
       "      <td>1300.0</td>\n",
       "      <td>19.705882</td>\n",
       "      <td>0.0</td>\n",
       "      <td>0.764706</td>\n",
       "      <td>6.029412</td>\n",
       "      <td>2.676471</td>\n",
       "      <td>0.0</td>\n",
       "      <td>0.441176</td>\n",
       "      <td>0.382353</td>\n",
       "      <td>0.0</td>\n",
       "      <td>0.0</td>\n",
       "      <td>0.0</td>\n",
       "      <td>0.882353</td>\n",
       "      <td>0.0</td>\n",
       "      <td>0.0</td>\n",
       "      <td>1.882353</td>\n",
       "      <td>3.147059</td>\n",
       "    </tr>\n",
       "    <tr>\n",
       "      <th>fd613eba867c6ad7350a937f743b88f2</th>\n",
       "      <td>20220532.514286</td>\n",
       "      <td>21.057143</td>\n",
       "      <td>18003.0</td>\n",
       "      <td>11304.0</td>\n",
       "      <td>21.485714</td>\n",
       "      <td>0.0</td>\n",
       "      <td>1.028571</td>\n",
       "      <td>5.771429</td>\n",
       "      <td>3.085714</td>\n",
       "      <td>0.0</td>\n",
       "      <td>2.971429</td>\n",
       "      <td>3.028571</td>\n",
       "      <td>0.0</td>\n",
       "      <td>0.0</td>\n",
       "      <td>0.0</td>\n",
       "      <td>7.828571</td>\n",
       "      <td>0.0</td>\n",
       "      <td>0.0</td>\n",
       "      <td>0.571429</td>\n",
       "      <td>0.714286</td>\n",
       "    </tr>\n",
       "    <tr>\n",
       "      <th>fe355ff27aa8b2242a558d5e3ec99c18</th>\n",
       "      <td>20220521.7</td>\n",
       "      <td>20.566667</td>\n",
       "      <td>18053.0</td>\n",
       "      <td>600.0</td>\n",
       "      <td>15.666667</td>\n",
       "      <td>0.0</td>\n",
       "      <td>0.0</td>\n",
       "      <td>3.666667</td>\n",
       "      <td>0.0</td>\n",
       "      <td>0.0</td>\n",
       "      <td>1.266667</td>\n",
       "      <td>1.333333</td>\n",
       "      <td>0.0</td>\n",
       "      <td>0.0</td>\n",
       "      <td>0.0</td>\n",
       "      <td>0.6</td>\n",
       "      <td>0.0</td>\n",
       "      <td>0.0</td>\n",
       "      <td>0.0</td>\n",
       "      <td>2.866667</td>\n",
       "    </tr>\n",
       "    <tr>\n",
       "      <th>fec479d0202d6e1e3f051a9ee902ff5d</th>\n",
       "      <td>20220550.595238</td>\n",
       "      <td>21.785714</td>\n",
       "      <td>18089.0</td>\n",
       "      <td>43300.0</td>\n",
       "      <td>30.404762</td>\n",
       "      <td>0.0</td>\n",
       "      <td>0.261905</td>\n",
       "      <td>4.190476</td>\n",
       "      <td>12.285714</td>\n",
       "      <td>0.0</td>\n",
       "      <td>9.166667</td>\n",
       "      <td>12.690476</td>\n",
       "      <td>0.0</td>\n",
       "      <td>0.0</td>\n",
       "      <td>0.0</td>\n",
       "      <td>0.333333</td>\n",
       "      <td>0.0</td>\n",
       "      <td>0.0</td>\n",
       "      <td>0.0</td>\n",
       "      <td>23.047619</td>\n",
       "    </tr>\n",
       "  </tbody>\n",
       "</table>\n",
       "<p>525 rows × 20 columns</p>\n",
       "</div>"
      ],
      "text/plain": [
       "                                       timeperiod  week_number  countyfips  \\\n",
       "uu_id                                                                        \n",
       "001cd9ae23064d7f0fd3cd327c873d8d  20220843.272727    34.636364     18099.0   \n",
       "005be9532fd717dc36d4be318fd9ad25  20220584.029412    23.117647     18039.0   \n",
       "007c1caccff1fbb3a0b8a10790f77141       20220497.8         19.4     18081.0   \n",
       "009683350b175edfc6414d664e4ba873  20220447.217391    17.086957     18089.0   \n",
       "00f962ce727b8dbbf20925abd5a253dd  20220550.595238    21.785714     18097.0   \n",
       "...                                           ...          ...         ...   \n",
       "fcf9f3effa992cfd552696e4ae7219b6       20220552.6         21.9     18097.0   \n",
       "fcfc60d8240e5a51f878fd92e2a352a3  20220510.941176    19.970588     18157.0   \n",
       "fd613eba867c6ad7350a937f743b88f2  20220532.514286    21.057143     18003.0   \n",
       "fe355ff27aa8b2242a558d5e3ec99c18       20220521.7    20.566667     18053.0   \n",
       "fec479d0202d6e1e3f051a9ee902ff5d  20220550.595238    21.785714     18089.0   \n",
       "\n",
       "                                     tract  total_claims  edu_8th_or_less  \\\n",
       "uu_id                                                                       \n",
       "001cd9ae23064d7f0fd3cd327c873d8d   20102.0     15.454545              0.0   \n",
       "005be9532fd717dc36d4be318fd9ad25     802.0     32.852941              0.0   \n",
       "007c1caccff1fbb3a0b8a10790f77141  610900.0         18.88              0.0   \n",
       "009683350b175edfc6414d664e4ba873   42801.0     19.130435              0.0   \n",
       "00f962ce727b8dbbf20925abd5a253dd  330900.0      39.52381              0.0   \n",
       "...                                    ...           ...              ...   \n",
       "fcf9f3effa992cfd552696e4ae7219b6  330103.0        16.275              0.0   \n",
       "fcfc60d8240e5a51f878fd92e2a352a3    1300.0     19.705882              0.0   \n",
       "fd613eba867c6ad7350a937f743b88f2   11304.0     21.485714              0.0   \n",
       "fe355ff27aa8b2242a558d5e3ec99c18     600.0     15.666667              0.0   \n",
       "fec479d0202d6e1e3f051a9ee902ff5d   43300.0     30.404762              0.0   \n",
       "\n",
       "                                  edu_grades_9_11  edu_hs_grad_equiv  \\\n",
       "uu_id                                                                  \n",
       "001cd9ae23064d7f0fd3cd327c873d8d              0.0           2.727273   \n",
       "005be9532fd717dc36d4be318fd9ad25              0.0          15.764706   \n",
       "007c1caccff1fbb3a0b8a10790f77141              0.0               6.76   \n",
       "009683350b175edfc6414d664e4ba873              0.0           3.478261   \n",
       "00f962ce727b8dbbf20925abd5a253dd         1.047619          16.880952   \n",
       "...                                           ...                ...   \n",
       "fcf9f3effa992cfd552696e4ae7219b6              0.0              0.725   \n",
       "fcfc60d8240e5a51f878fd92e2a352a3         0.764706           6.029412   \n",
       "fd613eba867c6ad7350a937f743b88f2         1.028571           5.771429   \n",
       "fe355ff27aa8b2242a558d5e3ec99c18              0.0           3.666667   \n",
       "fec479d0202d6e1e3f051a9ee902ff5d         0.261905           4.190476   \n",
       "\n",
       "                                  edu_post_hs  edu_unknown  gender_female  \\\n",
       "uu_id                                                                       \n",
       "001cd9ae23064d7f0fd3cd327c873d8d          0.0          0.0            0.0   \n",
       "005be9532fd717dc36d4be318fd9ad25     3.058824          0.0       8.735294   \n",
       "007c1caccff1fbb3a0b8a10790f77141          0.0          0.0           0.44   \n",
       "009683350b175edfc6414d664e4ba873     1.956522     0.565217       0.565217   \n",
       "00f962ce727b8dbbf20925abd5a253dd     7.428571     0.238095      18.214286   \n",
       "...                                       ...          ...            ...   \n",
       "fcf9f3effa992cfd552696e4ae7219b6        6.225          0.0           1.35   \n",
       "fcfc60d8240e5a51f878fd92e2a352a3     2.676471          0.0       0.441176   \n",
       "fd613eba867c6ad7350a937f743b88f2     3.085714          0.0       2.971429   \n",
       "fe355ff27aa8b2242a558d5e3ec99c18          0.0          0.0       1.266667   \n",
       "fec479d0202d6e1e3f051a9ee902ff5d    12.285714          0.0       9.166667   \n",
       "\n",
       "                                  gender_male  gender_na  race_amerindian  \\\n",
       "uu_id                                                                       \n",
       "001cd9ae23064d7f0fd3cd327c873d8d          4.0        0.0              0.0   \n",
       "005be9532fd717dc36d4be318fd9ad25    14.117647        0.0              0.0   \n",
       "007c1caccff1fbb3a0b8a10790f77141          0.4        0.0              0.0   \n",
       "009683350b175edfc6414d664e4ba873     1.478261        0.0              0.0   \n",
       "00f962ce727b8dbbf20925abd5a253dd    12.119048        0.0              0.0   \n",
       "...                                       ...        ...              ...   \n",
       "fcf9f3effa992cfd552696e4ae7219b6        1.425        0.0              0.0   \n",
       "fcfc60d8240e5a51f878fd92e2a352a3     0.382353        0.0              0.0   \n",
       "fd613eba867c6ad7350a937f743b88f2     3.028571        0.0              0.0   \n",
       "fe355ff27aa8b2242a558d5e3ec99c18     1.333333        0.0              0.0   \n",
       "fec479d0202d6e1e3f051a9ee902ff5d    12.690476        0.0              0.0   \n",
       "\n",
       "                                  race_asian  race_black  race_noanswer  \\\n",
       "uu_id                                                                     \n",
       "001cd9ae23064d7f0fd3cd327c873d8d         0.0         0.0            0.0   \n",
       "005be9532fd717dc36d4be318fd9ad25         0.0         0.0            0.0   \n",
       "007c1caccff1fbb3a0b8a10790f77141         0.0        3.68            0.0   \n",
       "009683350b175edfc6414d664e4ba873         0.0    3.695652            0.0   \n",
       "00f962ce727b8dbbf20925abd5a253dd         0.0   27.095238            0.0   \n",
       "...                                      ...         ...            ...   \n",
       "fcf9f3effa992cfd552696e4ae7219b6         0.0       0.875            0.0   \n",
       "fcfc60d8240e5a51f878fd92e2a352a3         0.0    0.882353            0.0   \n",
       "fd613eba867c6ad7350a937f743b88f2         0.0    7.828571            0.0   \n",
       "fe355ff27aa8b2242a558d5e3ec99c18         0.0         0.6            0.0   \n",
       "fec479d0202d6e1e3f051a9ee902ff5d         0.0    0.333333            0.0   \n",
       "\n",
       "                                  race_hawaiiannative  race_other  race_white  \n",
       "uu_id                                                                          \n",
       "001cd9ae23064d7f0fd3cd327c873d8d                  0.0         0.0    4.909091  \n",
       "005be9532fd717dc36d4be318fd9ad25                  0.0         0.0   21.735294  \n",
       "007c1caccff1fbb3a0b8a10790f77141                  0.0         0.0       10.12  \n",
       "009683350b175edfc6414d664e4ba873                  0.0         0.0    4.869565  \n",
       "00f962ce727b8dbbf20925abd5a253dd                  0.0    0.285714         0.0  \n",
       "...                                               ...         ...         ...  \n",
       "fcf9f3effa992cfd552696e4ae7219b6                  0.0         0.0         2.4  \n",
       "fcfc60d8240e5a51f878fd92e2a352a3                  0.0    1.882353    3.147059  \n",
       "fd613eba867c6ad7350a937f743b88f2                  0.0    0.571429    0.714286  \n",
       "fe355ff27aa8b2242a558d5e3ec99c18                  0.0         0.0    2.866667  \n",
       "fec479d0202d6e1e3f051a9ee902ff5d                  0.0         0.0   23.047619  \n",
       "\n",
       "[525 rows x 20 columns]"
      ]
     },
     "execution_count": 69,
     "metadata": {},
     "output_type": "execute_result"
    }
   ],
   "source": [
    "data.groupby(by=[\"uu_id\"]).mean()"
   ]
  },
  {
   "cell_type": "code",
   "execution_count": 70,
   "id": "37858e20",
   "metadata": {
    "execution": {
     "iopub.execute_input": "2023-05-10T01:58:41.535237Z",
     "iopub.status.busy": "2023-05-10T01:58:41.535157Z",
     "iopub.status.idle": "2023-05-10T01:58:41.541750Z",
     "shell.execute_reply": "2023-05-10T01:58:41.541516Z"
    }
   },
   "outputs": [
    {
     "name": "stderr",
     "output_type": "stream",
     "text": [
      "/var/folders/l2/cnhff0_n1470l4xf0p7v7l_40000gn/T/ipykernel_17195/2720939820.py:1: FutureWarning: The default value of numeric_only in DataFrameGroupBy.mean is deprecated. In a future version, numeric_only will default to False. Either specify numeric_only or select only columns which should be valid for the function.\n",
      "  test = data.groupby(by=[\"uu_id\"]).mean()\n"
     ]
    }
   ],
   "source": [
    "test = data.groupby(by=[\"uu_id\"]).mean()"
   ]
  },
  {
   "cell_type": "code",
   "execution_count": 71,
   "id": "70227e6c",
   "metadata": {
    "execution": {
     "iopub.execute_input": "2023-05-10T01:58:41.543131Z",
     "iopub.status.busy": "2023-05-10T01:58:41.543054Z",
     "iopub.status.idle": "2023-05-10T01:58:41.557243Z",
     "shell.execute_reply": "2023-05-10T01:58:41.556968Z"
    }
   },
   "outputs": [
    {
     "name": "stderr",
     "output_type": "stream",
     "text": [
      "/var/folders/l2/cnhff0_n1470l4xf0p7v7l_40000gn/T/ipykernel_17195/3282407337.py:1: FutureWarning: The default value of numeric_only in DataFrameGroupBy.mean is deprecated. In a future version, numeric_only will default to False. Either specify numeric_only or select only columns which should be valid for the function.\n",
      "  test = data.groupby(by=[\"uu_id\"]).mean()\n"
     ]
    },
    {
     "data": {
      "text/html": [
       "<div>\n",
       "<style scoped>\n",
       "    .dataframe tbody tr th:only-of-type {\n",
       "        vertical-align: middle;\n",
       "    }\n",
       "\n",
       "    .dataframe tbody tr th {\n",
       "        vertical-align: top;\n",
       "    }\n",
       "\n",
       "    .dataframe thead th {\n",
       "        text-align: right;\n",
       "    }\n",
       "</style>\n",
       "<table border=\"1\" class=\"dataframe\">\n",
       "  <thead>\n",
       "    <tr style=\"text-align: right;\">\n",
       "      <th></th>\n",
       "      <th>timeperiod</th>\n",
       "      <th>week_number</th>\n",
       "      <th>countyfips</th>\n",
       "      <th>tract</th>\n",
       "      <th>total_claims</th>\n",
       "      <th>edu_8th_or_less</th>\n",
       "      <th>edu_grades_9_11</th>\n",
       "      <th>edu_hs_grad_equiv</th>\n",
       "      <th>edu_post_hs</th>\n",
       "      <th>edu_unknown</th>\n",
       "      <th>gender_female</th>\n",
       "      <th>gender_male</th>\n",
       "      <th>gender_na</th>\n",
       "      <th>race_amerindian</th>\n",
       "      <th>race_asian</th>\n",
       "      <th>race_black</th>\n",
       "      <th>race_noanswer</th>\n",
       "      <th>race_hawaiiannative</th>\n",
       "      <th>race_other</th>\n",
       "      <th>race_white</th>\n",
       "    </tr>\n",
       "    <tr>\n",
       "      <th>uu_id</th>\n",
       "      <th></th>\n",
       "      <th></th>\n",
       "      <th></th>\n",
       "      <th></th>\n",
       "      <th></th>\n",
       "      <th></th>\n",
       "      <th></th>\n",
       "      <th></th>\n",
       "      <th></th>\n",
       "      <th></th>\n",
       "      <th></th>\n",
       "      <th></th>\n",
       "      <th></th>\n",
       "      <th></th>\n",
       "      <th></th>\n",
       "      <th></th>\n",
       "      <th></th>\n",
       "      <th></th>\n",
       "      <th></th>\n",
       "      <th></th>\n",
       "    </tr>\n",
       "  </thead>\n",
       "  <tbody>\n",
       "    <tr>\n",
       "      <th>001cd9ae23064d7f0fd3cd327c873d8d</th>\n",
       "      <td>20220843.272727</td>\n",
       "      <td>34.636364</td>\n",
       "      <td>18099.0</td>\n",
       "      <td>20102.0</td>\n",
       "      <td>15.454545</td>\n",
       "      <td>0.0</td>\n",
       "      <td>0.0</td>\n",
       "      <td>2.727273</td>\n",
       "      <td>0.0</td>\n",
       "      <td>0.0</td>\n",
       "      <td>0.0</td>\n",
       "      <td>4.0</td>\n",
       "      <td>0.0</td>\n",
       "      <td>0.0</td>\n",
       "      <td>0.0</td>\n",
       "      <td>0.0</td>\n",
       "      <td>0.0</td>\n",
       "      <td>0.0</td>\n",
       "      <td>0.0</td>\n",
       "      <td>4.909091</td>\n",
       "    </tr>\n",
       "    <tr>\n",
       "      <th>005be9532fd717dc36d4be318fd9ad25</th>\n",
       "      <td>20220584.029412</td>\n",
       "      <td>23.117647</td>\n",
       "      <td>18039.0</td>\n",
       "      <td>802.0</td>\n",
       "      <td>32.852941</td>\n",
       "      <td>0.0</td>\n",
       "      <td>0.0</td>\n",
       "      <td>15.764706</td>\n",
       "      <td>3.058824</td>\n",
       "      <td>0.0</td>\n",
       "      <td>8.735294</td>\n",
       "      <td>14.117647</td>\n",
       "      <td>0.0</td>\n",
       "      <td>0.0</td>\n",
       "      <td>0.0</td>\n",
       "      <td>0.0</td>\n",
       "      <td>0.0</td>\n",
       "      <td>0.0</td>\n",
       "      <td>0.0</td>\n",
       "      <td>21.735294</td>\n",
       "    </tr>\n",
       "    <tr>\n",
       "      <th>007c1caccff1fbb3a0b8a10790f77141</th>\n",
       "      <td>20220497.8</td>\n",
       "      <td>19.4</td>\n",
       "      <td>18081.0</td>\n",
       "      <td>610900.0</td>\n",
       "      <td>18.88</td>\n",
       "      <td>0.0</td>\n",
       "      <td>0.0</td>\n",
       "      <td>6.76</td>\n",
       "      <td>0.0</td>\n",
       "      <td>0.0</td>\n",
       "      <td>0.44</td>\n",
       "      <td>0.4</td>\n",
       "      <td>0.0</td>\n",
       "      <td>0.0</td>\n",
       "      <td>0.0</td>\n",
       "      <td>3.68</td>\n",
       "      <td>0.0</td>\n",
       "      <td>0.0</td>\n",
       "      <td>0.0</td>\n",
       "      <td>10.12</td>\n",
       "    </tr>\n",
       "    <tr>\n",
       "      <th>009683350b175edfc6414d664e4ba873</th>\n",
       "      <td>20220447.217391</td>\n",
       "      <td>17.086957</td>\n",
       "      <td>18089.0</td>\n",
       "      <td>42801.0</td>\n",
       "      <td>19.130435</td>\n",
       "      <td>0.0</td>\n",
       "      <td>0.0</td>\n",
       "      <td>3.478261</td>\n",
       "      <td>1.956522</td>\n",
       "      <td>0.565217</td>\n",
       "      <td>0.565217</td>\n",
       "      <td>1.478261</td>\n",
       "      <td>0.0</td>\n",
       "      <td>0.0</td>\n",
       "      <td>0.0</td>\n",
       "      <td>3.695652</td>\n",
       "      <td>0.0</td>\n",
       "      <td>0.0</td>\n",
       "      <td>0.0</td>\n",
       "      <td>4.869565</td>\n",
       "    </tr>\n",
       "    <tr>\n",
       "      <th>00f962ce727b8dbbf20925abd5a253dd</th>\n",
       "      <td>20220550.595238</td>\n",
       "      <td>21.785714</td>\n",
       "      <td>18097.0</td>\n",
       "      <td>330900.0</td>\n",
       "      <td>39.52381</td>\n",
       "      <td>0.0</td>\n",
       "      <td>1.047619</td>\n",
       "      <td>16.880952</td>\n",
       "      <td>7.428571</td>\n",
       "      <td>0.238095</td>\n",
       "      <td>18.214286</td>\n",
       "      <td>12.119048</td>\n",
       "      <td>0.0</td>\n",
       "      <td>0.0</td>\n",
       "      <td>0.0</td>\n",
       "      <td>27.095238</td>\n",
       "      <td>0.0</td>\n",
       "      <td>0.0</td>\n",
       "      <td>0.285714</td>\n",
       "      <td>0.0</td>\n",
       "    </tr>\n",
       "    <tr>\n",
       "      <th>...</th>\n",
       "      <td>...</td>\n",
       "      <td>...</td>\n",
       "      <td>...</td>\n",
       "      <td>...</td>\n",
       "      <td>...</td>\n",
       "      <td>...</td>\n",
       "      <td>...</td>\n",
       "      <td>...</td>\n",
       "      <td>...</td>\n",
       "      <td>...</td>\n",
       "      <td>...</td>\n",
       "      <td>...</td>\n",
       "      <td>...</td>\n",
       "      <td>...</td>\n",
       "      <td>...</td>\n",
       "      <td>...</td>\n",
       "      <td>...</td>\n",
       "      <td>...</td>\n",
       "      <td>...</td>\n",
       "      <td>...</td>\n",
       "    </tr>\n",
       "    <tr>\n",
       "      <th>fcf9f3effa992cfd552696e4ae7219b6</th>\n",
       "      <td>20220552.6</td>\n",
       "      <td>21.9</td>\n",
       "      <td>18097.0</td>\n",
       "      <td>330103.0</td>\n",
       "      <td>16.275</td>\n",
       "      <td>0.0</td>\n",
       "      <td>0.0</td>\n",
       "      <td>0.725</td>\n",
       "      <td>6.225</td>\n",
       "      <td>0.0</td>\n",
       "      <td>1.35</td>\n",
       "      <td>1.425</td>\n",
       "      <td>0.0</td>\n",
       "      <td>0.0</td>\n",
       "      <td>0.0</td>\n",
       "      <td>0.875</td>\n",
       "      <td>0.0</td>\n",
       "      <td>0.0</td>\n",
       "      <td>0.0</td>\n",
       "      <td>2.4</td>\n",
       "    </tr>\n",
       "    <tr>\n",
       "      <th>fcfc60d8240e5a51f878fd92e2a352a3</th>\n",
       "      <td>20220510.941176</td>\n",
       "      <td>19.970588</td>\n",
       "      <td>18157.0</td>\n",
       "      <td>1300.0</td>\n",
       "      <td>19.705882</td>\n",
       "      <td>0.0</td>\n",
       "      <td>0.764706</td>\n",
       "      <td>6.029412</td>\n",
       "      <td>2.676471</td>\n",
       "      <td>0.0</td>\n",
       "      <td>0.441176</td>\n",
       "      <td>0.382353</td>\n",
       "      <td>0.0</td>\n",
       "      <td>0.0</td>\n",
       "      <td>0.0</td>\n",
       "      <td>0.882353</td>\n",
       "      <td>0.0</td>\n",
       "      <td>0.0</td>\n",
       "      <td>1.882353</td>\n",
       "      <td>3.147059</td>\n",
       "    </tr>\n",
       "    <tr>\n",
       "      <th>fd613eba867c6ad7350a937f743b88f2</th>\n",
       "      <td>20220532.514286</td>\n",
       "      <td>21.057143</td>\n",
       "      <td>18003.0</td>\n",
       "      <td>11304.0</td>\n",
       "      <td>21.485714</td>\n",
       "      <td>0.0</td>\n",
       "      <td>1.028571</td>\n",
       "      <td>5.771429</td>\n",
       "      <td>3.085714</td>\n",
       "      <td>0.0</td>\n",
       "      <td>2.971429</td>\n",
       "      <td>3.028571</td>\n",
       "      <td>0.0</td>\n",
       "      <td>0.0</td>\n",
       "      <td>0.0</td>\n",
       "      <td>7.828571</td>\n",
       "      <td>0.0</td>\n",
       "      <td>0.0</td>\n",
       "      <td>0.571429</td>\n",
       "      <td>0.714286</td>\n",
       "    </tr>\n",
       "    <tr>\n",
       "      <th>fe355ff27aa8b2242a558d5e3ec99c18</th>\n",
       "      <td>20220521.7</td>\n",
       "      <td>20.566667</td>\n",
       "      <td>18053.0</td>\n",
       "      <td>600.0</td>\n",
       "      <td>15.666667</td>\n",
       "      <td>0.0</td>\n",
       "      <td>0.0</td>\n",
       "      <td>3.666667</td>\n",
       "      <td>0.0</td>\n",
       "      <td>0.0</td>\n",
       "      <td>1.266667</td>\n",
       "      <td>1.333333</td>\n",
       "      <td>0.0</td>\n",
       "      <td>0.0</td>\n",
       "      <td>0.0</td>\n",
       "      <td>0.6</td>\n",
       "      <td>0.0</td>\n",
       "      <td>0.0</td>\n",
       "      <td>0.0</td>\n",
       "      <td>2.866667</td>\n",
       "    </tr>\n",
       "    <tr>\n",
       "      <th>fec479d0202d6e1e3f051a9ee902ff5d</th>\n",
       "      <td>20220550.595238</td>\n",
       "      <td>21.785714</td>\n",
       "      <td>18089.0</td>\n",
       "      <td>43300.0</td>\n",
       "      <td>30.404762</td>\n",
       "      <td>0.0</td>\n",
       "      <td>0.261905</td>\n",
       "      <td>4.190476</td>\n",
       "      <td>12.285714</td>\n",
       "      <td>0.0</td>\n",
       "      <td>9.166667</td>\n",
       "      <td>12.690476</td>\n",
       "      <td>0.0</td>\n",
       "      <td>0.0</td>\n",
       "      <td>0.0</td>\n",
       "      <td>0.333333</td>\n",
       "      <td>0.0</td>\n",
       "      <td>0.0</td>\n",
       "      <td>0.0</td>\n",
       "      <td>23.047619</td>\n",
       "    </tr>\n",
       "  </tbody>\n",
       "</table>\n",
       "<p>525 rows × 20 columns</p>\n",
       "</div>"
      ],
      "text/plain": [
       "                                       timeperiod  week_number  countyfips  \\\n",
       "uu_id                                                                        \n",
       "001cd9ae23064d7f0fd3cd327c873d8d  20220843.272727    34.636364     18099.0   \n",
       "005be9532fd717dc36d4be318fd9ad25  20220584.029412    23.117647     18039.0   \n",
       "007c1caccff1fbb3a0b8a10790f77141       20220497.8         19.4     18081.0   \n",
       "009683350b175edfc6414d664e4ba873  20220447.217391    17.086957     18089.0   \n",
       "00f962ce727b8dbbf20925abd5a253dd  20220550.595238    21.785714     18097.0   \n",
       "...                                           ...          ...         ...   \n",
       "fcf9f3effa992cfd552696e4ae7219b6       20220552.6         21.9     18097.0   \n",
       "fcfc60d8240e5a51f878fd92e2a352a3  20220510.941176    19.970588     18157.0   \n",
       "fd613eba867c6ad7350a937f743b88f2  20220532.514286    21.057143     18003.0   \n",
       "fe355ff27aa8b2242a558d5e3ec99c18       20220521.7    20.566667     18053.0   \n",
       "fec479d0202d6e1e3f051a9ee902ff5d  20220550.595238    21.785714     18089.0   \n",
       "\n",
       "                                     tract  total_claims  edu_8th_or_less  \\\n",
       "uu_id                                                                       \n",
       "001cd9ae23064d7f0fd3cd327c873d8d   20102.0     15.454545              0.0   \n",
       "005be9532fd717dc36d4be318fd9ad25     802.0     32.852941              0.0   \n",
       "007c1caccff1fbb3a0b8a10790f77141  610900.0         18.88              0.0   \n",
       "009683350b175edfc6414d664e4ba873   42801.0     19.130435              0.0   \n",
       "00f962ce727b8dbbf20925abd5a253dd  330900.0      39.52381              0.0   \n",
       "...                                    ...           ...              ...   \n",
       "fcf9f3effa992cfd552696e4ae7219b6  330103.0        16.275              0.0   \n",
       "fcfc60d8240e5a51f878fd92e2a352a3    1300.0     19.705882              0.0   \n",
       "fd613eba867c6ad7350a937f743b88f2   11304.0     21.485714              0.0   \n",
       "fe355ff27aa8b2242a558d5e3ec99c18     600.0     15.666667              0.0   \n",
       "fec479d0202d6e1e3f051a9ee902ff5d   43300.0     30.404762              0.0   \n",
       "\n",
       "                                  edu_grades_9_11  edu_hs_grad_equiv  \\\n",
       "uu_id                                                                  \n",
       "001cd9ae23064d7f0fd3cd327c873d8d              0.0           2.727273   \n",
       "005be9532fd717dc36d4be318fd9ad25              0.0          15.764706   \n",
       "007c1caccff1fbb3a0b8a10790f77141              0.0               6.76   \n",
       "009683350b175edfc6414d664e4ba873              0.0           3.478261   \n",
       "00f962ce727b8dbbf20925abd5a253dd         1.047619          16.880952   \n",
       "...                                           ...                ...   \n",
       "fcf9f3effa992cfd552696e4ae7219b6              0.0              0.725   \n",
       "fcfc60d8240e5a51f878fd92e2a352a3         0.764706           6.029412   \n",
       "fd613eba867c6ad7350a937f743b88f2         1.028571           5.771429   \n",
       "fe355ff27aa8b2242a558d5e3ec99c18              0.0           3.666667   \n",
       "fec479d0202d6e1e3f051a9ee902ff5d         0.261905           4.190476   \n",
       "\n",
       "                                  edu_post_hs  edu_unknown  gender_female  \\\n",
       "uu_id                                                                       \n",
       "001cd9ae23064d7f0fd3cd327c873d8d          0.0          0.0            0.0   \n",
       "005be9532fd717dc36d4be318fd9ad25     3.058824          0.0       8.735294   \n",
       "007c1caccff1fbb3a0b8a10790f77141          0.0          0.0           0.44   \n",
       "009683350b175edfc6414d664e4ba873     1.956522     0.565217       0.565217   \n",
       "00f962ce727b8dbbf20925abd5a253dd     7.428571     0.238095      18.214286   \n",
       "...                                       ...          ...            ...   \n",
       "fcf9f3effa992cfd552696e4ae7219b6        6.225          0.0           1.35   \n",
       "fcfc60d8240e5a51f878fd92e2a352a3     2.676471          0.0       0.441176   \n",
       "fd613eba867c6ad7350a937f743b88f2     3.085714          0.0       2.971429   \n",
       "fe355ff27aa8b2242a558d5e3ec99c18          0.0          0.0       1.266667   \n",
       "fec479d0202d6e1e3f051a9ee902ff5d    12.285714          0.0       9.166667   \n",
       "\n",
       "                                  gender_male  gender_na  race_amerindian  \\\n",
       "uu_id                                                                       \n",
       "001cd9ae23064d7f0fd3cd327c873d8d          4.0        0.0              0.0   \n",
       "005be9532fd717dc36d4be318fd9ad25    14.117647        0.0              0.0   \n",
       "007c1caccff1fbb3a0b8a10790f77141          0.4        0.0              0.0   \n",
       "009683350b175edfc6414d664e4ba873     1.478261        0.0              0.0   \n",
       "00f962ce727b8dbbf20925abd5a253dd    12.119048        0.0              0.0   \n",
       "...                                       ...        ...              ...   \n",
       "fcf9f3effa992cfd552696e4ae7219b6        1.425        0.0              0.0   \n",
       "fcfc60d8240e5a51f878fd92e2a352a3     0.382353        0.0              0.0   \n",
       "fd613eba867c6ad7350a937f743b88f2     3.028571        0.0              0.0   \n",
       "fe355ff27aa8b2242a558d5e3ec99c18     1.333333        0.0              0.0   \n",
       "fec479d0202d6e1e3f051a9ee902ff5d    12.690476        0.0              0.0   \n",
       "\n",
       "                                  race_asian  race_black  race_noanswer  \\\n",
       "uu_id                                                                     \n",
       "001cd9ae23064d7f0fd3cd327c873d8d         0.0         0.0            0.0   \n",
       "005be9532fd717dc36d4be318fd9ad25         0.0         0.0            0.0   \n",
       "007c1caccff1fbb3a0b8a10790f77141         0.0        3.68            0.0   \n",
       "009683350b175edfc6414d664e4ba873         0.0    3.695652            0.0   \n",
       "00f962ce727b8dbbf20925abd5a253dd         0.0   27.095238            0.0   \n",
       "...                                      ...         ...            ...   \n",
       "fcf9f3effa992cfd552696e4ae7219b6         0.0       0.875            0.0   \n",
       "fcfc60d8240e5a51f878fd92e2a352a3         0.0    0.882353            0.0   \n",
       "fd613eba867c6ad7350a937f743b88f2         0.0    7.828571            0.0   \n",
       "fe355ff27aa8b2242a558d5e3ec99c18         0.0         0.6            0.0   \n",
       "fec479d0202d6e1e3f051a9ee902ff5d         0.0    0.333333            0.0   \n",
       "\n",
       "                                  race_hawaiiannative  race_other  race_white  \n",
       "uu_id                                                                          \n",
       "001cd9ae23064d7f0fd3cd327c873d8d                  0.0         0.0    4.909091  \n",
       "005be9532fd717dc36d4be318fd9ad25                  0.0         0.0   21.735294  \n",
       "007c1caccff1fbb3a0b8a10790f77141                  0.0         0.0       10.12  \n",
       "009683350b175edfc6414d664e4ba873                  0.0         0.0    4.869565  \n",
       "00f962ce727b8dbbf20925abd5a253dd                  0.0    0.285714         0.0  \n",
       "...                                               ...         ...         ...  \n",
       "fcf9f3effa992cfd552696e4ae7219b6                  0.0         0.0         2.4  \n",
       "fcfc60d8240e5a51f878fd92e2a352a3                  0.0    1.882353    3.147059  \n",
       "fd613eba867c6ad7350a937f743b88f2                  0.0    0.571429    0.714286  \n",
       "fe355ff27aa8b2242a558d5e3ec99c18                  0.0         0.0    2.866667  \n",
       "fec479d0202d6e1e3f051a9ee902ff5d                  0.0         0.0   23.047619  \n",
       "\n",
       "[525 rows x 20 columns]"
      ]
     },
     "execution_count": 71,
     "metadata": {},
     "output_type": "execute_result"
    }
   ],
   "source": [
    "test = data.groupby(by=[\"uu_id\"]).mean()\n",
    "test"
   ]
  },
  {
   "cell_type": "code",
   "execution_count": 72,
   "id": "41d53af2",
   "metadata": {
    "execution": {
     "iopub.execute_input": "2023-05-10T01:58:41.558716Z",
     "iopub.status.busy": "2023-05-10T01:58:41.558635Z",
     "iopub.status.idle": "2023-05-10T01:58:41.572715Z",
     "shell.execute_reply": "2023-05-10T01:58:41.572470Z"
    }
   },
   "outputs": [
    {
     "name": "stderr",
     "output_type": "stream",
     "text": [
      "/var/folders/l2/cnhff0_n1470l4xf0p7v7l_40000gn/T/ipykernel_17195/1140161251.py:1: FutureWarning: The default value of numeric_only in DataFrameGroupBy.mean is deprecated. In a future version, numeric_only will default to False. Either specify numeric_only or select only columns which should be valid for the function.\n",
      "  predict = data.groupby(by=[\"uu_id\"]).mean()\n"
     ]
    },
    {
     "data": {
      "text/html": [
       "<div>\n",
       "<style scoped>\n",
       "    .dataframe tbody tr th:only-of-type {\n",
       "        vertical-align: middle;\n",
       "    }\n",
       "\n",
       "    .dataframe tbody tr th {\n",
       "        vertical-align: top;\n",
       "    }\n",
       "\n",
       "    .dataframe thead th {\n",
       "        text-align: right;\n",
       "    }\n",
       "</style>\n",
       "<table border=\"1\" class=\"dataframe\">\n",
       "  <thead>\n",
       "    <tr style=\"text-align: right;\">\n",
       "      <th></th>\n",
       "      <th>timeperiod</th>\n",
       "      <th>week_number</th>\n",
       "      <th>countyfips</th>\n",
       "      <th>tract</th>\n",
       "      <th>total_claims</th>\n",
       "      <th>edu_8th_or_less</th>\n",
       "      <th>edu_grades_9_11</th>\n",
       "      <th>edu_hs_grad_equiv</th>\n",
       "      <th>edu_post_hs</th>\n",
       "      <th>edu_unknown</th>\n",
       "      <th>gender_female</th>\n",
       "      <th>gender_male</th>\n",
       "      <th>gender_na</th>\n",
       "      <th>race_amerindian</th>\n",
       "      <th>race_asian</th>\n",
       "      <th>race_black</th>\n",
       "      <th>race_noanswer</th>\n",
       "      <th>race_hawaiiannative</th>\n",
       "      <th>race_other</th>\n",
       "      <th>race_white</th>\n",
       "    </tr>\n",
       "    <tr>\n",
       "      <th>uu_id</th>\n",
       "      <th></th>\n",
       "      <th></th>\n",
       "      <th></th>\n",
       "      <th></th>\n",
       "      <th></th>\n",
       "      <th></th>\n",
       "      <th></th>\n",
       "      <th></th>\n",
       "      <th></th>\n",
       "      <th></th>\n",
       "      <th></th>\n",
       "      <th></th>\n",
       "      <th></th>\n",
       "      <th></th>\n",
       "      <th></th>\n",
       "      <th></th>\n",
       "      <th></th>\n",
       "      <th></th>\n",
       "      <th></th>\n",
       "      <th></th>\n",
       "    </tr>\n",
       "  </thead>\n",
       "  <tbody>\n",
       "    <tr>\n",
       "      <th>001cd9ae23064d7f0fd3cd327c873d8d</th>\n",
       "      <td>20220843.272727</td>\n",
       "      <td>34.636364</td>\n",
       "      <td>18099.0</td>\n",
       "      <td>20102.0</td>\n",
       "      <td>15.454545</td>\n",
       "      <td>0.0</td>\n",
       "      <td>0.0</td>\n",
       "      <td>2.727273</td>\n",
       "      <td>0.0</td>\n",
       "      <td>0.0</td>\n",
       "      <td>0.0</td>\n",
       "      <td>4.0</td>\n",
       "      <td>0.0</td>\n",
       "      <td>0.0</td>\n",
       "      <td>0.0</td>\n",
       "      <td>0.0</td>\n",
       "      <td>0.0</td>\n",
       "      <td>0.0</td>\n",
       "      <td>0.0</td>\n",
       "      <td>4.909091</td>\n",
       "    </tr>\n",
       "    <tr>\n",
       "      <th>005be9532fd717dc36d4be318fd9ad25</th>\n",
       "      <td>20220584.029412</td>\n",
       "      <td>23.117647</td>\n",
       "      <td>18039.0</td>\n",
       "      <td>802.0</td>\n",
       "      <td>32.852941</td>\n",
       "      <td>0.0</td>\n",
       "      <td>0.0</td>\n",
       "      <td>15.764706</td>\n",
       "      <td>3.058824</td>\n",
       "      <td>0.0</td>\n",
       "      <td>8.735294</td>\n",
       "      <td>14.117647</td>\n",
       "      <td>0.0</td>\n",
       "      <td>0.0</td>\n",
       "      <td>0.0</td>\n",
       "      <td>0.0</td>\n",
       "      <td>0.0</td>\n",
       "      <td>0.0</td>\n",
       "      <td>0.0</td>\n",
       "      <td>21.735294</td>\n",
       "    </tr>\n",
       "    <tr>\n",
       "      <th>007c1caccff1fbb3a0b8a10790f77141</th>\n",
       "      <td>20220497.8</td>\n",
       "      <td>19.4</td>\n",
       "      <td>18081.0</td>\n",
       "      <td>610900.0</td>\n",
       "      <td>18.88</td>\n",
       "      <td>0.0</td>\n",
       "      <td>0.0</td>\n",
       "      <td>6.76</td>\n",
       "      <td>0.0</td>\n",
       "      <td>0.0</td>\n",
       "      <td>0.44</td>\n",
       "      <td>0.4</td>\n",
       "      <td>0.0</td>\n",
       "      <td>0.0</td>\n",
       "      <td>0.0</td>\n",
       "      <td>3.68</td>\n",
       "      <td>0.0</td>\n",
       "      <td>0.0</td>\n",
       "      <td>0.0</td>\n",
       "      <td>10.12</td>\n",
       "    </tr>\n",
       "    <tr>\n",
       "      <th>009683350b175edfc6414d664e4ba873</th>\n",
       "      <td>20220447.217391</td>\n",
       "      <td>17.086957</td>\n",
       "      <td>18089.0</td>\n",
       "      <td>42801.0</td>\n",
       "      <td>19.130435</td>\n",
       "      <td>0.0</td>\n",
       "      <td>0.0</td>\n",
       "      <td>3.478261</td>\n",
       "      <td>1.956522</td>\n",
       "      <td>0.565217</td>\n",
       "      <td>0.565217</td>\n",
       "      <td>1.478261</td>\n",
       "      <td>0.0</td>\n",
       "      <td>0.0</td>\n",
       "      <td>0.0</td>\n",
       "      <td>3.695652</td>\n",
       "      <td>0.0</td>\n",
       "      <td>0.0</td>\n",
       "      <td>0.0</td>\n",
       "      <td>4.869565</td>\n",
       "    </tr>\n",
       "    <tr>\n",
       "      <th>00f962ce727b8dbbf20925abd5a253dd</th>\n",
       "      <td>20220550.595238</td>\n",
       "      <td>21.785714</td>\n",
       "      <td>18097.0</td>\n",
       "      <td>330900.0</td>\n",
       "      <td>39.52381</td>\n",
       "      <td>0.0</td>\n",
       "      <td>1.047619</td>\n",
       "      <td>16.880952</td>\n",
       "      <td>7.428571</td>\n",
       "      <td>0.238095</td>\n",
       "      <td>18.214286</td>\n",
       "      <td>12.119048</td>\n",
       "      <td>0.0</td>\n",
       "      <td>0.0</td>\n",
       "      <td>0.0</td>\n",
       "      <td>27.095238</td>\n",
       "      <td>0.0</td>\n",
       "      <td>0.0</td>\n",
       "      <td>0.285714</td>\n",
       "      <td>0.0</td>\n",
       "    </tr>\n",
       "    <tr>\n",
       "      <th>...</th>\n",
       "      <td>...</td>\n",
       "      <td>...</td>\n",
       "      <td>...</td>\n",
       "      <td>...</td>\n",
       "      <td>...</td>\n",
       "      <td>...</td>\n",
       "      <td>...</td>\n",
       "      <td>...</td>\n",
       "      <td>...</td>\n",
       "      <td>...</td>\n",
       "      <td>...</td>\n",
       "      <td>...</td>\n",
       "      <td>...</td>\n",
       "      <td>...</td>\n",
       "      <td>...</td>\n",
       "      <td>...</td>\n",
       "      <td>...</td>\n",
       "      <td>...</td>\n",
       "      <td>...</td>\n",
       "      <td>...</td>\n",
       "    </tr>\n",
       "    <tr>\n",
       "      <th>fcf9f3effa992cfd552696e4ae7219b6</th>\n",
       "      <td>20220552.6</td>\n",
       "      <td>21.9</td>\n",
       "      <td>18097.0</td>\n",
       "      <td>330103.0</td>\n",
       "      <td>16.275</td>\n",
       "      <td>0.0</td>\n",
       "      <td>0.0</td>\n",
       "      <td>0.725</td>\n",
       "      <td>6.225</td>\n",
       "      <td>0.0</td>\n",
       "      <td>1.35</td>\n",
       "      <td>1.425</td>\n",
       "      <td>0.0</td>\n",
       "      <td>0.0</td>\n",
       "      <td>0.0</td>\n",
       "      <td>0.875</td>\n",
       "      <td>0.0</td>\n",
       "      <td>0.0</td>\n",
       "      <td>0.0</td>\n",
       "      <td>2.4</td>\n",
       "    </tr>\n",
       "    <tr>\n",
       "      <th>fcfc60d8240e5a51f878fd92e2a352a3</th>\n",
       "      <td>20220510.941176</td>\n",
       "      <td>19.970588</td>\n",
       "      <td>18157.0</td>\n",
       "      <td>1300.0</td>\n",
       "      <td>19.705882</td>\n",
       "      <td>0.0</td>\n",
       "      <td>0.764706</td>\n",
       "      <td>6.029412</td>\n",
       "      <td>2.676471</td>\n",
       "      <td>0.0</td>\n",
       "      <td>0.441176</td>\n",
       "      <td>0.382353</td>\n",
       "      <td>0.0</td>\n",
       "      <td>0.0</td>\n",
       "      <td>0.0</td>\n",
       "      <td>0.882353</td>\n",
       "      <td>0.0</td>\n",
       "      <td>0.0</td>\n",
       "      <td>1.882353</td>\n",
       "      <td>3.147059</td>\n",
       "    </tr>\n",
       "    <tr>\n",
       "      <th>fd613eba867c6ad7350a937f743b88f2</th>\n",
       "      <td>20220532.514286</td>\n",
       "      <td>21.057143</td>\n",
       "      <td>18003.0</td>\n",
       "      <td>11304.0</td>\n",
       "      <td>21.485714</td>\n",
       "      <td>0.0</td>\n",
       "      <td>1.028571</td>\n",
       "      <td>5.771429</td>\n",
       "      <td>3.085714</td>\n",
       "      <td>0.0</td>\n",
       "      <td>2.971429</td>\n",
       "      <td>3.028571</td>\n",
       "      <td>0.0</td>\n",
       "      <td>0.0</td>\n",
       "      <td>0.0</td>\n",
       "      <td>7.828571</td>\n",
       "      <td>0.0</td>\n",
       "      <td>0.0</td>\n",
       "      <td>0.571429</td>\n",
       "      <td>0.714286</td>\n",
       "    </tr>\n",
       "    <tr>\n",
       "      <th>fe355ff27aa8b2242a558d5e3ec99c18</th>\n",
       "      <td>20220521.7</td>\n",
       "      <td>20.566667</td>\n",
       "      <td>18053.0</td>\n",
       "      <td>600.0</td>\n",
       "      <td>15.666667</td>\n",
       "      <td>0.0</td>\n",
       "      <td>0.0</td>\n",
       "      <td>3.666667</td>\n",
       "      <td>0.0</td>\n",
       "      <td>0.0</td>\n",
       "      <td>1.266667</td>\n",
       "      <td>1.333333</td>\n",
       "      <td>0.0</td>\n",
       "      <td>0.0</td>\n",
       "      <td>0.0</td>\n",
       "      <td>0.6</td>\n",
       "      <td>0.0</td>\n",
       "      <td>0.0</td>\n",
       "      <td>0.0</td>\n",
       "      <td>2.866667</td>\n",
       "    </tr>\n",
       "    <tr>\n",
       "      <th>fec479d0202d6e1e3f051a9ee902ff5d</th>\n",
       "      <td>20220550.595238</td>\n",
       "      <td>21.785714</td>\n",
       "      <td>18089.0</td>\n",
       "      <td>43300.0</td>\n",
       "      <td>30.404762</td>\n",
       "      <td>0.0</td>\n",
       "      <td>0.261905</td>\n",
       "      <td>4.190476</td>\n",
       "      <td>12.285714</td>\n",
       "      <td>0.0</td>\n",
       "      <td>9.166667</td>\n",
       "      <td>12.690476</td>\n",
       "      <td>0.0</td>\n",
       "      <td>0.0</td>\n",
       "      <td>0.0</td>\n",
       "      <td>0.333333</td>\n",
       "      <td>0.0</td>\n",
       "      <td>0.0</td>\n",
       "      <td>0.0</td>\n",
       "      <td>23.047619</td>\n",
       "    </tr>\n",
       "  </tbody>\n",
       "</table>\n",
       "<p>525 rows × 20 columns</p>\n",
       "</div>"
      ],
      "text/plain": [
       "                                       timeperiod  week_number  countyfips  \\\n",
       "uu_id                                                                        \n",
       "001cd9ae23064d7f0fd3cd327c873d8d  20220843.272727    34.636364     18099.0   \n",
       "005be9532fd717dc36d4be318fd9ad25  20220584.029412    23.117647     18039.0   \n",
       "007c1caccff1fbb3a0b8a10790f77141       20220497.8         19.4     18081.0   \n",
       "009683350b175edfc6414d664e4ba873  20220447.217391    17.086957     18089.0   \n",
       "00f962ce727b8dbbf20925abd5a253dd  20220550.595238    21.785714     18097.0   \n",
       "...                                           ...          ...         ...   \n",
       "fcf9f3effa992cfd552696e4ae7219b6       20220552.6         21.9     18097.0   \n",
       "fcfc60d8240e5a51f878fd92e2a352a3  20220510.941176    19.970588     18157.0   \n",
       "fd613eba867c6ad7350a937f743b88f2  20220532.514286    21.057143     18003.0   \n",
       "fe355ff27aa8b2242a558d5e3ec99c18       20220521.7    20.566667     18053.0   \n",
       "fec479d0202d6e1e3f051a9ee902ff5d  20220550.595238    21.785714     18089.0   \n",
       "\n",
       "                                     tract  total_claims  edu_8th_or_less  \\\n",
       "uu_id                                                                       \n",
       "001cd9ae23064d7f0fd3cd327c873d8d   20102.0     15.454545              0.0   \n",
       "005be9532fd717dc36d4be318fd9ad25     802.0     32.852941              0.0   \n",
       "007c1caccff1fbb3a0b8a10790f77141  610900.0         18.88              0.0   \n",
       "009683350b175edfc6414d664e4ba873   42801.0     19.130435              0.0   \n",
       "00f962ce727b8dbbf20925abd5a253dd  330900.0      39.52381              0.0   \n",
       "...                                    ...           ...              ...   \n",
       "fcf9f3effa992cfd552696e4ae7219b6  330103.0        16.275              0.0   \n",
       "fcfc60d8240e5a51f878fd92e2a352a3    1300.0     19.705882              0.0   \n",
       "fd613eba867c6ad7350a937f743b88f2   11304.0     21.485714              0.0   \n",
       "fe355ff27aa8b2242a558d5e3ec99c18     600.0     15.666667              0.0   \n",
       "fec479d0202d6e1e3f051a9ee902ff5d   43300.0     30.404762              0.0   \n",
       "\n",
       "                                  edu_grades_9_11  edu_hs_grad_equiv  \\\n",
       "uu_id                                                                  \n",
       "001cd9ae23064d7f0fd3cd327c873d8d              0.0           2.727273   \n",
       "005be9532fd717dc36d4be318fd9ad25              0.0          15.764706   \n",
       "007c1caccff1fbb3a0b8a10790f77141              0.0               6.76   \n",
       "009683350b175edfc6414d664e4ba873              0.0           3.478261   \n",
       "00f962ce727b8dbbf20925abd5a253dd         1.047619          16.880952   \n",
       "...                                           ...                ...   \n",
       "fcf9f3effa992cfd552696e4ae7219b6              0.0              0.725   \n",
       "fcfc60d8240e5a51f878fd92e2a352a3         0.764706           6.029412   \n",
       "fd613eba867c6ad7350a937f743b88f2         1.028571           5.771429   \n",
       "fe355ff27aa8b2242a558d5e3ec99c18              0.0           3.666667   \n",
       "fec479d0202d6e1e3f051a9ee902ff5d         0.261905           4.190476   \n",
       "\n",
       "                                  edu_post_hs  edu_unknown  gender_female  \\\n",
       "uu_id                                                                       \n",
       "001cd9ae23064d7f0fd3cd327c873d8d          0.0          0.0            0.0   \n",
       "005be9532fd717dc36d4be318fd9ad25     3.058824          0.0       8.735294   \n",
       "007c1caccff1fbb3a0b8a10790f77141          0.0          0.0           0.44   \n",
       "009683350b175edfc6414d664e4ba873     1.956522     0.565217       0.565217   \n",
       "00f962ce727b8dbbf20925abd5a253dd     7.428571     0.238095      18.214286   \n",
       "...                                       ...          ...            ...   \n",
       "fcf9f3effa992cfd552696e4ae7219b6        6.225          0.0           1.35   \n",
       "fcfc60d8240e5a51f878fd92e2a352a3     2.676471          0.0       0.441176   \n",
       "fd613eba867c6ad7350a937f743b88f2     3.085714          0.0       2.971429   \n",
       "fe355ff27aa8b2242a558d5e3ec99c18          0.0          0.0       1.266667   \n",
       "fec479d0202d6e1e3f051a9ee902ff5d    12.285714          0.0       9.166667   \n",
       "\n",
       "                                  gender_male  gender_na  race_amerindian  \\\n",
       "uu_id                                                                       \n",
       "001cd9ae23064d7f0fd3cd327c873d8d          4.0        0.0              0.0   \n",
       "005be9532fd717dc36d4be318fd9ad25    14.117647        0.0              0.0   \n",
       "007c1caccff1fbb3a0b8a10790f77141          0.4        0.0              0.0   \n",
       "009683350b175edfc6414d664e4ba873     1.478261        0.0              0.0   \n",
       "00f962ce727b8dbbf20925abd5a253dd    12.119048        0.0              0.0   \n",
       "...                                       ...        ...              ...   \n",
       "fcf9f3effa992cfd552696e4ae7219b6        1.425        0.0              0.0   \n",
       "fcfc60d8240e5a51f878fd92e2a352a3     0.382353        0.0              0.0   \n",
       "fd613eba867c6ad7350a937f743b88f2     3.028571        0.0              0.0   \n",
       "fe355ff27aa8b2242a558d5e3ec99c18     1.333333        0.0              0.0   \n",
       "fec479d0202d6e1e3f051a9ee902ff5d    12.690476        0.0              0.0   \n",
       "\n",
       "                                  race_asian  race_black  race_noanswer  \\\n",
       "uu_id                                                                     \n",
       "001cd9ae23064d7f0fd3cd327c873d8d         0.0         0.0            0.0   \n",
       "005be9532fd717dc36d4be318fd9ad25         0.0         0.0            0.0   \n",
       "007c1caccff1fbb3a0b8a10790f77141         0.0        3.68            0.0   \n",
       "009683350b175edfc6414d664e4ba873         0.0    3.695652            0.0   \n",
       "00f962ce727b8dbbf20925abd5a253dd         0.0   27.095238            0.0   \n",
       "...                                      ...         ...            ...   \n",
       "fcf9f3effa992cfd552696e4ae7219b6         0.0       0.875            0.0   \n",
       "fcfc60d8240e5a51f878fd92e2a352a3         0.0    0.882353            0.0   \n",
       "fd613eba867c6ad7350a937f743b88f2         0.0    7.828571            0.0   \n",
       "fe355ff27aa8b2242a558d5e3ec99c18         0.0         0.6            0.0   \n",
       "fec479d0202d6e1e3f051a9ee902ff5d         0.0    0.333333            0.0   \n",
       "\n",
       "                                  race_hawaiiannative  race_other  race_white  \n",
       "uu_id                                                                          \n",
       "001cd9ae23064d7f0fd3cd327c873d8d                  0.0         0.0    4.909091  \n",
       "005be9532fd717dc36d4be318fd9ad25                  0.0         0.0   21.735294  \n",
       "007c1caccff1fbb3a0b8a10790f77141                  0.0         0.0       10.12  \n",
       "009683350b175edfc6414d664e4ba873                  0.0         0.0    4.869565  \n",
       "00f962ce727b8dbbf20925abd5a253dd                  0.0    0.285714         0.0  \n",
       "...                                               ...         ...         ...  \n",
       "fcf9f3effa992cfd552696e4ae7219b6                  0.0         0.0         2.4  \n",
       "fcfc60d8240e5a51f878fd92e2a352a3                  0.0    1.882353    3.147059  \n",
       "fd613eba867c6ad7350a937f743b88f2                  0.0    0.571429    0.714286  \n",
       "fe355ff27aa8b2242a558d5e3ec99c18                  0.0         0.0    2.866667  \n",
       "fec479d0202d6e1e3f051a9ee902ff5d                  0.0         0.0   23.047619  \n",
       "\n",
       "[525 rows x 20 columns]"
      ]
     },
     "execution_count": 72,
     "metadata": {},
     "output_type": "execute_result"
    }
   ],
   "source": [
    "predict = data.groupby(by=[\"uu_id\"]).mean()\n",
    "predict"
   ]
  },
  {
   "cell_type": "code",
   "execution_count": 73,
   "id": "43f31e28",
   "metadata": {
    "execution": {
     "iopub.execute_input": "2023-05-10T01:58:41.574059Z",
     "iopub.status.busy": "2023-05-10T01:58:41.573972Z",
     "iopub.status.idle": "2023-05-10T01:58:41.583530Z",
     "shell.execute_reply": "2023-05-10T01:58:41.583279Z"
    }
   },
   "outputs": [
    {
     "name": "stdout",
     "output_type": "stream",
     "text": [
      "<class 'pandas.core.frame.DataFrame'>\n",
      "RangeIndex: 16833 entries, 0 to 16832\n",
      "Data columns (total 25 columns):\n",
      " #   Column                  Non-Null Count  Dtype \n",
      "---  ------                  --------------  ----- \n",
      " 0   uu_id                   16833 non-null  object\n",
      " 1   timeperiod              16833 non-null  Int64 \n",
      " 2   week_number             16833 non-null  Int64 \n",
      " 3   countyfips              16833 non-null  Int64 \n",
      " 4   tract                   16833 non-null  Int64 \n",
      " 5   tract_name              16833 non-null  object\n",
      " 6   total_claims            16833 non-null  Int64 \n",
      " 7   edu_8th_or_less         16833 non-null  Int64 \n",
      " 8   edu_grades_9_11         16833 non-null  Int64 \n",
      " 9   edu_hs_grad_equiv       16833 non-null  Int64 \n",
      " 10  edu_post_hs             16833 non-null  Int64 \n",
      " 11  edu_unknown             16833 non-null  Int64 \n",
      " 12  top_category_employer1  16833 non-null  object\n",
      " 13  top_category_employer2  16833 non-null  object\n",
      " 14  top_category_employer3  16833 non-null  object\n",
      " 15  gender_female           16833 non-null  Int64 \n",
      " 16  gender_male             16833 non-null  Int64 \n",
      " 17  gender_na               16833 non-null  Int64 \n",
      " 18  race_amerindian         16833 non-null  Int64 \n",
      " 19  race_asian              16833 non-null  Int64 \n",
      " 20  race_black              16833 non-null  Int64 \n",
      " 21  race_noanswer           16833 non-null  Int64 \n",
      " 22  race_hawaiiannative     16833 non-null  Int64 \n",
      " 23  race_other              16833 non-null  Int64 \n",
      " 24  race_white              16833 non-null  Int64 \n",
      "dtypes: Int64(20), object(5)\n",
      "memory usage: 3.5+ MB\n"
     ]
    }
   ],
   "source": [
    "data.info()"
   ]
  },
  {
   "cell_type": "code",
   "execution_count": 74,
   "id": "e48695c4",
   "metadata": {
    "execution": {
     "iopub.execute_input": "2023-05-10T01:58:41.584969Z",
     "iopub.status.busy": "2023-05-10T01:58:41.584885Z",
     "iopub.status.idle": "2023-05-10T01:58:41.587419Z",
     "shell.execute_reply": "2023-05-10T01:58:41.587099Z"
    }
   },
   "outputs": [],
   "source": [
    "data = data['top_category_employer2'].astype(float)"
   ]
  },
  {
   "cell_type": "code",
   "execution_count": 75,
   "id": "93aeb01c",
   "metadata": {
    "execution": {
     "iopub.execute_input": "2023-05-10T01:58:41.589235Z",
     "iopub.status.busy": "2023-05-10T01:58:41.589113Z",
     "iopub.status.idle": "2023-05-10T01:58:41.654106Z",
     "shell.execute_reply": "2023-05-10T01:58:41.653813Z"
    }
   },
   "outputs": [
    {
     "ename": "KeyError",
     "evalue": "'top_category_employer3'",
     "output_type": "error",
     "traceback": [
      "\u001b[0;31m---------------------------------------------------------------------------\u001b[0m",
      "\u001b[0;31mKeyError\u001b[0m                                  Traceback (most recent call last)",
      "Cell \u001b[0;32mIn [75], line 1\u001b[0m\n\u001b[0;32m----> 1\u001b[0m data \u001b[38;5;241m=\u001b[39m \u001b[43mdata\u001b[49m\u001b[43m[\u001b[49m\u001b[38;5;124;43m'\u001b[39;49m\u001b[38;5;124;43mtop_category_employer3\u001b[39;49m\u001b[38;5;124;43m'\u001b[39;49m\u001b[43m]\u001b[49m\u001b[38;5;241m.\u001b[39mastype(\u001b[38;5;28mfloat\u001b[39m)\n",
      "File \u001b[0;32m/opt/homebrew/lib/python3.9/site-packages/pandas/core/series.py:981\u001b[0m, in \u001b[0;36mSeries.__getitem__\u001b[0;34m(self, key)\u001b[0m\n\u001b[1;32m    978\u001b[0m     \u001b[38;5;28;01mreturn\u001b[39;00m \u001b[38;5;28mself\u001b[39m\u001b[38;5;241m.\u001b[39m_values[key]\n\u001b[1;32m    980\u001b[0m \u001b[38;5;28;01melif\u001b[39;00m key_is_scalar:\n\u001b[0;32m--> 981\u001b[0m     \u001b[38;5;28;01mreturn\u001b[39;00m \u001b[38;5;28;43mself\u001b[39;49m\u001b[38;5;241;43m.\u001b[39;49m\u001b[43m_get_value\u001b[49m\u001b[43m(\u001b[49m\u001b[43mkey\u001b[49m\u001b[43m)\u001b[49m\n\u001b[1;32m    983\u001b[0m \u001b[38;5;28;01mif\u001b[39;00m is_hashable(key):\n\u001b[1;32m    984\u001b[0m     \u001b[38;5;66;03m# Otherwise index.get_value will raise InvalidIndexError\u001b[39;00m\n\u001b[1;32m    985\u001b[0m     \u001b[38;5;28;01mtry\u001b[39;00m:\n\u001b[1;32m    986\u001b[0m         \u001b[38;5;66;03m# For labels that don't resolve as scalars like tuples and frozensets\u001b[39;00m\n",
      "File \u001b[0;32m/opt/homebrew/lib/python3.9/site-packages/pandas/core/series.py:1089\u001b[0m, in \u001b[0;36mSeries._get_value\u001b[0;34m(self, label, takeable)\u001b[0m\n\u001b[1;32m   1086\u001b[0m     \u001b[38;5;28;01mreturn\u001b[39;00m \u001b[38;5;28mself\u001b[39m\u001b[38;5;241m.\u001b[39m_values[label]\n\u001b[1;32m   1088\u001b[0m \u001b[38;5;66;03m# Similar to Index.get_value, but we do not fall back to positional\u001b[39;00m\n\u001b[0;32m-> 1089\u001b[0m loc \u001b[38;5;241m=\u001b[39m \u001b[38;5;28;43mself\u001b[39;49m\u001b[38;5;241;43m.\u001b[39;49m\u001b[43mindex\u001b[49m\u001b[38;5;241;43m.\u001b[39;49m\u001b[43mget_loc\u001b[49m\u001b[43m(\u001b[49m\u001b[43mlabel\u001b[49m\u001b[43m)\u001b[49m\n\u001b[1;32m   1090\u001b[0m \u001b[38;5;28;01mreturn\u001b[39;00m \u001b[38;5;28mself\u001b[39m\u001b[38;5;241m.\u001b[39mindex\u001b[38;5;241m.\u001b[39m_get_values_for_loc(\u001b[38;5;28mself\u001b[39m, loc, label)\n",
      "File \u001b[0;32m/opt/homebrew/lib/python3.9/site-packages/pandas/core/indexes/range.py:395\u001b[0m, in \u001b[0;36mRangeIndex.get_loc\u001b[0;34m(self, key, method, tolerance)\u001b[0m\n\u001b[1;32m    393\u001b[0m             \u001b[38;5;28;01mraise\u001b[39;00m \u001b[38;5;167;01mKeyError\u001b[39;00m(key) \u001b[38;5;28;01mfrom\u001b[39;00m \u001b[38;5;21;01merr\u001b[39;00m\n\u001b[1;32m    394\u001b[0m     \u001b[38;5;28mself\u001b[39m\u001b[38;5;241m.\u001b[39m_check_indexing_error(key)\n\u001b[0;32m--> 395\u001b[0m     \u001b[38;5;28;01mraise\u001b[39;00m \u001b[38;5;167;01mKeyError\u001b[39;00m(key)\n\u001b[1;32m    396\u001b[0m \u001b[38;5;28;01mreturn\u001b[39;00m \u001b[38;5;28msuper\u001b[39m()\u001b[38;5;241m.\u001b[39mget_loc(key, method\u001b[38;5;241m=\u001b[39mmethod, tolerance\u001b[38;5;241m=\u001b[39mtolerance)\n",
      "\u001b[0;31mKeyError\u001b[0m: 'top_category_employer3'"
     ]
    }
   ],
   "source": [
    "data = data['top_category_employer3'].astype(float)"
   ]
  },
  {
   "cell_type": "code",
   "execution_count": 76,
   "id": "a1a0d071",
   "metadata": {
    "execution": {
     "iopub.execute_input": "2023-05-10T01:58:41.655614Z",
     "iopub.status.busy": "2023-05-10T01:58:41.655502Z",
     "iopub.status.idle": "2023-05-10T01:58:41.671223Z",
     "shell.execute_reply": "2023-05-10T01:58:41.670923Z"
    }
   },
   "outputs": [
    {
     "ename": "KeyError",
     "evalue": "'top_category_employer1'",
     "output_type": "error",
     "traceback": [
      "\u001b[0;31m---------------------------------------------------------------------------\u001b[0m",
      "\u001b[0;31mKeyError\u001b[0m                                  Traceback (most recent call last)",
      "Cell \u001b[0;32mIn [76], line 1\u001b[0m\n\u001b[0;32m----> 1\u001b[0m data \u001b[38;5;241m=\u001b[39m \u001b[43mdata\u001b[49m\u001b[43m[\u001b[49m\u001b[38;5;124;43m'\u001b[39;49m\u001b[38;5;124;43mtop_category_employer1\u001b[39;49m\u001b[38;5;124;43m'\u001b[39;49m\u001b[43m]\u001b[49m\u001b[38;5;241m.\u001b[39mastype(\u001b[38;5;28mfloat\u001b[39m)\n",
      "File \u001b[0;32m/opt/homebrew/lib/python3.9/site-packages/pandas/core/series.py:981\u001b[0m, in \u001b[0;36mSeries.__getitem__\u001b[0;34m(self, key)\u001b[0m\n\u001b[1;32m    978\u001b[0m     \u001b[38;5;28;01mreturn\u001b[39;00m \u001b[38;5;28mself\u001b[39m\u001b[38;5;241m.\u001b[39m_values[key]\n\u001b[1;32m    980\u001b[0m \u001b[38;5;28;01melif\u001b[39;00m key_is_scalar:\n\u001b[0;32m--> 981\u001b[0m     \u001b[38;5;28;01mreturn\u001b[39;00m \u001b[38;5;28;43mself\u001b[39;49m\u001b[38;5;241;43m.\u001b[39;49m\u001b[43m_get_value\u001b[49m\u001b[43m(\u001b[49m\u001b[43mkey\u001b[49m\u001b[43m)\u001b[49m\n\u001b[1;32m    983\u001b[0m \u001b[38;5;28;01mif\u001b[39;00m is_hashable(key):\n\u001b[1;32m    984\u001b[0m     \u001b[38;5;66;03m# Otherwise index.get_value will raise InvalidIndexError\u001b[39;00m\n\u001b[1;32m    985\u001b[0m     \u001b[38;5;28;01mtry\u001b[39;00m:\n\u001b[1;32m    986\u001b[0m         \u001b[38;5;66;03m# For labels that don't resolve as scalars like tuples and frozensets\u001b[39;00m\n",
      "File \u001b[0;32m/opt/homebrew/lib/python3.9/site-packages/pandas/core/series.py:1089\u001b[0m, in \u001b[0;36mSeries._get_value\u001b[0;34m(self, label, takeable)\u001b[0m\n\u001b[1;32m   1086\u001b[0m     \u001b[38;5;28;01mreturn\u001b[39;00m \u001b[38;5;28mself\u001b[39m\u001b[38;5;241m.\u001b[39m_values[label]\n\u001b[1;32m   1088\u001b[0m \u001b[38;5;66;03m# Similar to Index.get_value, but we do not fall back to positional\u001b[39;00m\n\u001b[0;32m-> 1089\u001b[0m loc \u001b[38;5;241m=\u001b[39m \u001b[38;5;28;43mself\u001b[39;49m\u001b[38;5;241;43m.\u001b[39;49m\u001b[43mindex\u001b[49m\u001b[38;5;241;43m.\u001b[39;49m\u001b[43mget_loc\u001b[49m\u001b[43m(\u001b[49m\u001b[43mlabel\u001b[49m\u001b[43m)\u001b[49m\n\u001b[1;32m   1090\u001b[0m \u001b[38;5;28;01mreturn\u001b[39;00m \u001b[38;5;28mself\u001b[39m\u001b[38;5;241m.\u001b[39mindex\u001b[38;5;241m.\u001b[39m_get_values_for_loc(\u001b[38;5;28mself\u001b[39m, loc, label)\n",
      "File \u001b[0;32m/opt/homebrew/lib/python3.9/site-packages/pandas/core/indexes/range.py:395\u001b[0m, in \u001b[0;36mRangeIndex.get_loc\u001b[0;34m(self, key, method, tolerance)\u001b[0m\n\u001b[1;32m    393\u001b[0m             \u001b[38;5;28;01mraise\u001b[39;00m \u001b[38;5;167;01mKeyError\u001b[39;00m(key) \u001b[38;5;28;01mfrom\u001b[39;00m \u001b[38;5;21;01merr\u001b[39;00m\n\u001b[1;32m    394\u001b[0m     \u001b[38;5;28mself\u001b[39m\u001b[38;5;241m.\u001b[39m_check_indexing_error(key)\n\u001b[0;32m--> 395\u001b[0m     \u001b[38;5;28;01mraise\u001b[39;00m \u001b[38;5;167;01mKeyError\u001b[39;00m(key)\n\u001b[1;32m    396\u001b[0m \u001b[38;5;28;01mreturn\u001b[39;00m \u001b[38;5;28msuper\u001b[39m()\u001b[38;5;241m.\u001b[39mget_loc(key, method\u001b[38;5;241m=\u001b[39mmethod, tolerance\u001b[38;5;241m=\u001b[39mtolerance)\n",
      "\u001b[0;31mKeyError\u001b[0m: 'top_category_employer1'"
     ]
    }
   ],
   "source": [
    "data = data['top_category_employer1'].astype(float)"
   ]
  },
  {
   "cell_type": "code",
   "execution_count": 77,
   "id": "6efec8d8",
   "metadata": {
    "execution": {
     "iopub.execute_input": "2023-05-10T01:58:41.672765Z",
     "iopub.status.busy": "2023-05-10T01:58:41.672658Z",
     "iopub.status.idle": "2023-05-10T01:58:41.688877Z",
     "shell.execute_reply": "2023-05-10T01:58:41.688594Z"
    }
   },
   "outputs": [
    {
     "ename": "KeyError",
     "evalue": "'top_category_employer1'",
     "output_type": "error",
     "traceback": [
      "\u001b[0;31m---------------------------------------------------------------------------\u001b[0m",
      "\u001b[0;31mKeyError\u001b[0m                                  Traceback (most recent call last)",
      "Cell \u001b[0;32mIn [77], line 1\u001b[0m\n\u001b[0;32m----> 1\u001b[0m data[\u001b[38;5;124m'\u001b[39m\u001b[38;5;124mtop_category_employer1\u001b[39m\u001b[38;5;124m'\u001b[39m] \u001b[38;5;241m=\u001b[39m \u001b[43mdata\u001b[49m\u001b[43m[\u001b[49m\u001b[38;5;124;43m'\u001b[39;49m\u001b[38;5;124;43mtop_category_employer1\u001b[39;49m\u001b[38;5;124;43m'\u001b[39;49m\u001b[43m]\u001b[49m\u001b[38;5;241m.\u001b[39mastype(\u001b[38;5;28mfloat\u001b[39m)\n",
      "File \u001b[0;32m/opt/homebrew/lib/python3.9/site-packages/pandas/core/series.py:981\u001b[0m, in \u001b[0;36mSeries.__getitem__\u001b[0;34m(self, key)\u001b[0m\n\u001b[1;32m    978\u001b[0m     \u001b[38;5;28;01mreturn\u001b[39;00m \u001b[38;5;28mself\u001b[39m\u001b[38;5;241m.\u001b[39m_values[key]\n\u001b[1;32m    980\u001b[0m \u001b[38;5;28;01melif\u001b[39;00m key_is_scalar:\n\u001b[0;32m--> 981\u001b[0m     \u001b[38;5;28;01mreturn\u001b[39;00m \u001b[38;5;28;43mself\u001b[39;49m\u001b[38;5;241;43m.\u001b[39;49m\u001b[43m_get_value\u001b[49m\u001b[43m(\u001b[49m\u001b[43mkey\u001b[49m\u001b[43m)\u001b[49m\n\u001b[1;32m    983\u001b[0m \u001b[38;5;28;01mif\u001b[39;00m is_hashable(key):\n\u001b[1;32m    984\u001b[0m     \u001b[38;5;66;03m# Otherwise index.get_value will raise InvalidIndexError\u001b[39;00m\n\u001b[1;32m    985\u001b[0m     \u001b[38;5;28;01mtry\u001b[39;00m:\n\u001b[1;32m    986\u001b[0m         \u001b[38;5;66;03m# For labels that don't resolve as scalars like tuples and frozensets\u001b[39;00m\n",
      "File \u001b[0;32m/opt/homebrew/lib/python3.9/site-packages/pandas/core/series.py:1089\u001b[0m, in \u001b[0;36mSeries._get_value\u001b[0;34m(self, label, takeable)\u001b[0m\n\u001b[1;32m   1086\u001b[0m     \u001b[38;5;28;01mreturn\u001b[39;00m \u001b[38;5;28mself\u001b[39m\u001b[38;5;241m.\u001b[39m_values[label]\n\u001b[1;32m   1088\u001b[0m \u001b[38;5;66;03m# Similar to Index.get_value, but we do not fall back to positional\u001b[39;00m\n\u001b[0;32m-> 1089\u001b[0m loc \u001b[38;5;241m=\u001b[39m \u001b[38;5;28;43mself\u001b[39;49m\u001b[38;5;241;43m.\u001b[39;49m\u001b[43mindex\u001b[49m\u001b[38;5;241;43m.\u001b[39;49m\u001b[43mget_loc\u001b[49m\u001b[43m(\u001b[49m\u001b[43mlabel\u001b[49m\u001b[43m)\u001b[49m\n\u001b[1;32m   1090\u001b[0m \u001b[38;5;28;01mreturn\u001b[39;00m \u001b[38;5;28mself\u001b[39m\u001b[38;5;241m.\u001b[39mindex\u001b[38;5;241m.\u001b[39m_get_values_for_loc(\u001b[38;5;28mself\u001b[39m, loc, label)\n",
      "File \u001b[0;32m/opt/homebrew/lib/python3.9/site-packages/pandas/core/indexes/range.py:395\u001b[0m, in \u001b[0;36mRangeIndex.get_loc\u001b[0;34m(self, key, method, tolerance)\u001b[0m\n\u001b[1;32m    393\u001b[0m             \u001b[38;5;28;01mraise\u001b[39;00m \u001b[38;5;167;01mKeyError\u001b[39;00m(key) \u001b[38;5;28;01mfrom\u001b[39;00m \u001b[38;5;21;01merr\u001b[39;00m\n\u001b[1;32m    394\u001b[0m     \u001b[38;5;28mself\u001b[39m\u001b[38;5;241m.\u001b[39m_check_indexing_error(key)\n\u001b[0;32m--> 395\u001b[0m     \u001b[38;5;28;01mraise\u001b[39;00m \u001b[38;5;167;01mKeyError\u001b[39;00m(key)\n\u001b[1;32m    396\u001b[0m \u001b[38;5;28;01mreturn\u001b[39;00m \u001b[38;5;28msuper\u001b[39m()\u001b[38;5;241m.\u001b[39mget_loc(key, method\u001b[38;5;241m=\u001b[39mmethod, tolerance\u001b[38;5;241m=\u001b[39mtolerance)\n",
      "\u001b[0;31mKeyError\u001b[0m: 'top_category_employer1'"
     ]
    }
   ],
   "source": [
    "data['top_category_employer1'] = data['top_category_employer1'].astype(float)"
   ]
  },
  {
   "cell_type": "code",
   "execution_count": 78,
   "id": "68b8ea9a",
   "metadata": {
    "execution": {
     "iopub.execute_input": "2023-05-10T01:58:41.690350Z",
     "iopub.status.busy": "2023-05-10T01:58:41.690268Z",
     "iopub.status.idle": "2023-05-10T01:58:41.705648Z",
     "shell.execute_reply": "2023-05-10T01:58:41.705396Z"
    }
   },
   "outputs": [
    {
     "ename": "KeyError",
     "evalue": "'top_category_employer1'",
     "output_type": "error",
     "traceback": [
      "\u001b[0;31m---------------------------------------------------------------------------\u001b[0m",
      "\u001b[0;31mKeyError\u001b[0m                                  Traceback (most recent call last)",
      "Cell \u001b[0;32mIn [78], line 1\u001b[0m\n\u001b[0;32m----> 1\u001b[0m \u001b[43mdata\u001b[49m\u001b[43m[\u001b[49m\u001b[38;5;124;43m'\u001b[39;49m\u001b[38;5;124;43mtop_category_employer1\u001b[39;49m\u001b[38;5;124;43m'\u001b[39;49m\u001b[43m]\u001b[49m\u001b[38;5;241m.\u001b[39mastype(\u001b[38;5;28mfloat\u001b[39m)\n",
      "File \u001b[0;32m/opt/homebrew/lib/python3.9/site-packages/pandas/core/series.py:981\u001b[0m, in \u001b[0;36mSeries.__getitem__\u001b[0;34m(self, key)\u001b[0m\n\u001b[1;32m    978\u001b[0m     \u001b[38;5;28;01mreturn\u001b[39;00m \u001b[38;5;28mself\u001b[39m\u001b[38;5;241m.\u001b[39m_values[key]\n\u001b[1;32m    980\u001b[0m \u001b[38;5;28;01melif\u001b[39;00m key_is_scalar:\n\u001b[0;32m--> 981\u001b[0m     \u001b[38;5;28;01mreturn\u001b[39;00m \u001b[38;5;28;43mself\u001b[39;49m\u001b[38;5;241;43m.\u001b[39;49m\u001b[43m_get_value\u001b[49m\u001b[43m(\u001b[49m\u001b[43mkey\u001b[49m\u001b[43m)\u001b[49m\n\u001b[1;32m    983\u001b[0m \u001b[38;5;28;01mif\u001b[39;00m is_hashable(key):\n\u001b[1;32m    984\u001b[0m     \u001b[38;5;66;03m# Otherwise index.get_value will raise InvalidIndexError\u001b[39;00m\n\u001b[1;32m    985\u001b[0m     \u001b[38;5;28;01mtry\u001b[39;00m:\n\u001b[1;32m    986\u001b[0m         \u001b[38;5;66;03m# For labels that don't resolve as scalars like tuples and frozensets\u001b[39;00m\n",
      "File \u001b[0;32m/opt/homebrew/lib/python3.9/site-packages/pandas/core/series.py:1089\u001b[0m, in \u001b[0;36mSeries._get_value\u001b[0;34m(self, label, takeable)\u001b[0m\n\u001b[1;32m   1086\u001b[0m     \u001b[38;5;28;01mreturn\u001b[39;00m \u001b[38;5;28mself\u001b[39m\u001b[38;5;241m.\u001b[39m_values[label]\n\u001b[1;32m   1088\u001b[0m \u001b[38;5;66;03m# Similar to Index.get_value, but we do not fall back to positional\u001b[39;00m\n\u001b[0;32m-> 1089\u001b[0m loc \u001b[38;5;241m=\u001b[39m \u001b[38;5;28;43mself\u001b[39;49m\u001b[38;5;241;43m.\u001b[39;49m\u001b[43mindex\u001b[49m\u001b[38;5;241;43m.\u001b[39;49m\u001b[43mget_loc\u001b[49m\u001b[43m(\u001b[49m\u001b[43mlabel\u001b[49m\u001b[43m)\u001b[49m\n\u001b[1;32m   1090\u001b[0m \u001b[38;5;28;01mreturn\u001b[39;00m \u001b[38;5;28mself\u001b[39m\u001b[38;5;241m.\u001b[39mindex\u001b[38;5;241m.\u001b[39m_get_values_for_loc(\u001b[38;5;28mself\u001b[39m, loc, label)\n",
      "File \u001b[0;32m/opt/homebrew/lib/python3.9/site-packages/pandas/core/indexes/range.py:395\u001b[0m, in \u001b[0;36mRangeIndex.get_loc\u001b[0;34m(self, key, method, tolerance)\u001b[0m\n\u001b[1;32m    393\u001b[0m             \u001b[38;5;28;01mraise\u001b[39;00m \u001b[38;5;167;01mKeyError\u001b[39;00m(key) \u001b[38;5;28;01mfrom\u001b[39;00m \u001b[38;5;21;01merr\u001b[39;00m\n\u001b[1;32m    394\u001b[0m     \u001b[38;5;28mself\u001b[39m\u001b[38;5;241m.\u001b[39m_check_indexing_error(key)\n\u001b[0;32m--> 395\u001b[0m     \u001b[38;5;28;01mraise\u001b[39;00m \u001b[38;5;167;01mKeyError\u001b[39;00m(key)\n\u001b[1;32m    396\u001b[0m \u001b[38;5;28;01mreturn\u001b[39;00m \u001b[38;5;28msuper\u001b[39m()\u001b[38;5;241m.\u001b[39mget_loc(key, method\u001b[38;5;241m=\u001b[39mmethod, tolerance\u001b[38;5;241m=\u001b[39mtolerance)\n",
      "\u001b[0;31mKeyError\u001b[0m: 'top_category_employer1'"
     ]
    }
   ],
   "source": [
    "data['top_category_employer1'].astype(float)"
   ]
  },
  {
   "cell_type": "code",
   "execution_count": 79,
   "id": "53b27e12",
   "metadata": {
    "execution": {
     "iopub.execute_input": "2023-05-10T01:58:41.707007Z",
     "iopub.status.busy": "2023-05-10T01:58:41.706923Z",
     "iopub.status.idle": "2023-05-10T01:58:41.722419Z",
     "shell.execute_reply": "2023-05-10T01:58:41.722153Z"
    }
   },
   "outputs": [
    {
     "ename": "KeyError",
     "evalue": "'top_category_employer1'",
     "output_type": "error",
     "traceback": [
      "\u001b[0;31m---------------------------------------------------------------------------\u001b[0m",
      "\u001b[0;31mKeyError\u001b[0m                                  Traceback (most recent call last)",
      "Cell \u001b[0;32mIn [79], line 1\u001b[0m\n\u001b[0;32m----> 1\u001b[0m \u001b[43mdata\u001b[49m\u001b[43m[\u001b[49m\u001b[38;5;124;43m'\u001b[39;49m\u001b[38;5;124;43mtop_category_employer1\u001b[39;49m\u001b[38;5;124;43m'\u001b[39;49m\u001b[43m]\u001b[49m\u001b[38;5;241m.\u001b[39mastype(\u001b[38;5;28mfloat\u001b[39m)\n",
      "File \u001b[0;32m/opt/homebrew/lib/python3.9/site-packages/pandas/core/series.py:981\u001b[0m, in \u001b[0;36mSeries.__getitem__\u001b[0;34m(self, key)\u001b[0m\n\u001b[1;32m    978\u001b[0m     \u001b[38;5;28;01mreturn\u001b[39;00m \u001b[38;5;28mself\u001b[39m\u001b[38;5;241m.\u001b[39m_values[key]\n\u001b[1;32m    980\u001b[0m \u001b[38;5;28;01melif\u001b[39;00m key_is_scalar:\n\u001b[0;32m--> 981\u001b[0m     \u001b[38;5;28;01mreturn\u001b[39;00m \u001b[38;5;28;43mself\u001b[39;49m\u001b[38;5;241;43m.\u001b[39;49m\u001b[43m_get_value\u001b[49m\u001b[43m(\u001b[49m\u001b[43mkey\u001b[49m\u001b[43m)\u001b[49m\n\u001b[1;32m    983\u001b[0m \u001b[38;5;28;01mif\u001b[39;00m is_hashable(key):\n\u001b[1;32m    984\u001b[0m     \u001b[38;5;66;03m# Otherwise index.get_value will raise InvalidIndexError\u001b[39;00m\n\u001b[1;32m    985\u001b[0m     \u001b[38;5;28;01mtry\u001b[39;00m:\n\u001b[1;32m    986\u001b[0m         \u001b[38;5;66;03m# For labels that don't resolve as scalars like tuples and frozensets\u001b[39;00m\n",
      "File \u001b[0;32m/opt/homebrew/lib/python3.9/site-packages/pandas/core/series.py:1089\u001b[0m, in \u001b[0;36mSeries._get_value\u001b[0;34m(self, label, takeable)\u001b[0m\n\u001b[1;32m   1086\u001b[0m     \u001b[38;5;28;01mreturn\u001b[39;00m \u001b[38;5;28mself\u001b[39m\u001b[38;5;241m.\u001b[39m_values[label]\n\u001b[1;32m   1088\u001b[0m \u001b[38;5;66;03m# Similar to Index.get_value, but we do not fall back to positional\u001b[39;00m\n\u001b[0;32m-> 1089\u001b[0m loc \u001b[38;5;241m=\u001b[39m \u001b[38;5;28;43mself\u001b[39;49m\u001b[38;5;241;43m.\u001b[39;49m\u001b[43mindex\u001b[49m\u001b[38;5;241;43m.\u001b[39;49m\u001b[43mget_loc\u001b[49m\u001b[43m(\u001b[49m\u001b[43mlabel\u001b[49m\u001b[43m)\u001b[49m\n\u001b[1;32m   1090\u001b[0m \u001b[38;5;28;01mreturn\u001b[39;00m \u001b[38;5;28mself\u001b[39m\u001b[38;5;241m.\u001b[39mindex\u001b[38;5;241m.\u001b[39m_get_values_for_loc(\u001b[38;5;28mself\u001b[39m, loc, label)\n",
      "File \u001b[0;32m/opt/homebrew/lib/python3.9/site-packages/pandas/core/indexes/range.py:395\u001b[0m, in \u001b[0;36mRangeIndex.get_loc\u001b[0;34m(self, key, method, tolerance)\u001b[0m\n\u001b[1;32m    393\u001b[0m             \u001b[38;5;28;01mraise\u001b[39;00m \u001b[38;5;167;01mKeyError\u001b[39;00m(key) \u001b[38;5;28;01mfrom\u001b[39;00m \u001b[38;5;21;01merr\u001b[39;00m\n\u001b[1;32m    394\u001b[0m     \u001b[38;5;28mself\u001b[39m\u001b[38;5;241m.\u001b[39m_check_indexing_error(key)\n\u001b[0;32m--> 395\u001b[0m     \u001b[38;5;28;01mraise\u001b[39;00m \u001b[38;5;167;01mKeyError\u001b[39;00m(key)\n\u001b[1;32m    396\u001b[0m \u001b[38;5;28;01mreturn\u001b[39;00m \u001b[38;5;28msuper\u001b[39m()\u001b[38;5;241m.\u001b[39mget_loc(key, method\u001b[38;5;241m=\u001b[39mmethod, tolerance\u001b[38;5;241m=\u001b[39mtolerance)\n",
      "\u001b[0;31mKeyError\u001b[0m: 'top_category_employer1'"
     ]
    }
   ],
   "source": [
    "data['top_category_employer1'].astype(float)"
   ]
  },
  {
   "cell_type": "code",
   "execution_count": 80,
   "id": "31f46b40",
   "metadata": {
    "execution": {
     "iopub.execute_input": "2023-05-10T01:58:41.723845Z",
     "iopub.status.busy": "2023-05-10T01:58:41.723764Z",
     "iopub.status.idle": "2023-05-10T01:58:41.725457Z",
     "shell.execute_reply": "2023-05-10T01:58:41.725211Z"
    }
   },
   "outputs": [],
   "source": [
    "data = data.fillna(0)"
   ]
  },
  {
   "cell_type": "code",
   "execution_count": 81,
   "id": "fdc44f11",
   "metadata": {
    "execution": {
     "iopub.execute_input": "2023-05-10T01:58:41.726794Z",
     "iopub.status.busy": "2023-05-10T01:58:41.726718Z",
     "iopub.status.idle": "2023-05-10T01:58:41.742543Z",
     "shell.execute_reply": "2023-05-10T01:58:41.742268Z"
    }
   },
   "outputs": [
    {
     "ename": "KeyError",
     "evalue": "'top_category_employer1'",
     "output_type": "error",
     "traceback": [
      "\u001b[0;31m---------------------------------------------------------------------------\u001b[0m",
      "\u001b[0;31mKeyError\u001b[0m                                  Traceback (most recent call last)",
      "Cell \u001b[0;32mIn [81], line 1\u001b[0m\n\u001b[0;32m----> 1\u001b[0m \u001b[43mdata\u001b[49m\u001b[43m[\u001b[49m\u001b[38;5;124;43m'\u001b[39;49m\u001b[38;5;124;43mtop_category_employer1\u001b[39;49m\u001b[38;5;124;43m'\u001b[39;49m\u001b[43m]\u001b[49m\u001b[38;5;241m.\u001b[39mastype(\u001b[38;5;28mfloat\u001b[39m)\n",
      "File \u001b[0;32m/opt/homebrew/lib/python3.9/site-packages/pandas/core/series.py:981\u001b[0m, in \u001b[0;36mSeries.__getitem__\u001b[0;34m(self, key)\u001b[0m\n\u001b[1;32m    978\u001b[0m     \u001b[38;5;28;01mreturn\u001b[39;00m \u001b[38;5;28mself\u001b[39m\u001b[38;5;241m.\u001b[39m_values[key]\n\u001b[1;32m    980\u001b[0m \u001b[38;5;28;01melif\u001b[39;00m key_is_scalar:\n\u001b[0;32m--> 981\u001b[0m     \u001b[38;5;28;01mreturn\u001b[39;00m \u001b[38;5;28;43mself\u001b[39;49m\u001b[38;5;241;43m.\u001b[39;49m\u001b[43m_get_value\u001b[49m\u001b[43m(\u001b[49m\u001b[43mkey\u001b[49m\u001b[43m)\u001b[49m\n\u001b[1;32m    983\u001b[0m \u001b[38;5;28;01mif\u001b[39;00m is_hashable(key):\n\u001b[1;32m    984\u001b[0m     \u001b[38;5;66;03m# Otherwise index.get_value will raise InvalidIndexError\u001b[39;00m\n\u001b[1;32m    985\u001b[0m     \u001b[38;5;28;01mtry\u001b[39;00m:\n\u001b[1;32m    986\u001b[0m         \u001b[38;5;66;03m# For labels that don't resolve as scalars like tuples and frozensets\u001b[39;00m\n",
      "File \u001b[0;32m/opt/homebrew/lib/python3.9/site-packages/pandas/core/series.py:1089\u001b[0m, in \u001b[0;36mSeries._get_value\u001b[0;34m(self, label, takeable)\u001b[0m\n\u001b[1;32m   1086\u001b[0m     \u001b[38;5;28;01mreturn\u001b[39;00m \u001b[38;5;28mself\u001b[39m\u001b[38;5;241m.\u001b[39m_values[label]\n\u001b[1;32m   1088\u001b[0m \u001b[38;5;66;03m# Similar to Index.get_value, but we do not fall back to positional\u001b[39;00m\n\u001b[0;32m-> 1089\u001b[0m loc \u001b[38;5;241m=\u001b[39m \u001b[38;5;28;43mself\u001b[39;49m\u001b[38;5;241;43m.\u001b[39;49m\u001b[43mindex\u001b[49m\u001b[38;5;241;43m.\u001b[39;49m\u001b[43mget_loc\u001b[49m\u001b[43m(\u001b[49m\u001b[43mlabel\u001b[49m\u001b[43m)\u001b[49m\n\u001b[1;32m   1090\u001b[0m \u001b[38;5;28;01mreturn\u001b[39;00m \u001b[38;5;28mself\u001b[39m\u001b[38;5;241m.\u001b[39mindex\u001b[38;5;241m.\u001b[39m_get_values_for_loc(\u001b[38;5;28mself\u001b[39m, loc, label)\n",
      "File \u001b[0;32m/opt/homebrew/lib/python3.9/site-packages/pandas/core/indexes/range.py:395\u001b[0m, in \u001b[0;36mRangeIndex.get_loc\u001b[0;34m(self, key, method, tolerance)\u001b[0m\n\u001b[1;32m    393\u001b[0m             \u001b[38;5;28;01mraise\u001b[39;00m \u001b[38;5;167;01mKeyError\u001b[39;00m(key) \u001b[38;5;28;01mfrom\u001b[39;00m \u001b[38;5;21;01merr\u001b[39;00m\n\u001b[1;32m    394\u001b[0m     \u001b[38;5;28mself\u001b[39m\u001b[38;5;241m.\u001b[39m_check_indexing_error(key)\n\u001b[0;32m--> 395\u001b[0m     \u001b[38;5;28;01mraise\u001b[39;00m \u001b[38;5;167;01mKeyError\u001b[39;00m(key)\n\u001b[1;32m    396\u001b[0m \u001b[38;5;28;01mreturn\u001b[39;00m \u001b[38;5;28msuper\u001b[39m()\u001b[38;5;241m.\u001b[39mget_loc(key, method\u001b[38;5;241m=\u001b[39mmethod, tolerance\u001b[38;5;241m=\u001b[39mtolerance)\n",
      "\u001b[0;31mKeyError\u001b[0m: 'top_category_employer1'"
     ]
    }
   ],
   "source": [
    "data['top_category_employer1'].astype(float)"
   ]
  },
  {
   "cell_type": "code",
   "execution_count": 82,
   "id": "80fa29ab",
   "metadata": {
    "execution": {
     "iopub.execute_input": "2023-05-10T01:58:41.743888Z",
     "iopub.status.busy": "2023-05-10T01:58:41.743807Z",
     "iopub.status.idle": "2023-05-10T01:58:41.746848Z",
     "shell.execute_reply": "2023-05-10T01:58:41.746594Z"
    }
   },
   "outputs": [
    {
     "name": "stdout",
     "output_type": "stream",
     "text": [
      "<class 'pandas.core.series.Series'>\n",
      "RangeIndex: 16833 entries, 0 to 16832\n",
      "Series name: top_category_employer2\n",
      "Non-Null Count  Dtype  \n",
      "--------------  -----  \n",
      "16833 non-null  float64\n",
      "dtypes: float64(1)\n",
      "memory usage: 131.6 KB\n"
     ]
    }
   ],
   "source": [
    "data.info()"
   ]
  },
  {
   "cell_type": "code",
   "execution_count": 83,
   "id": "cde82609",
   "metadata": {
    "execution": {
     "iopub.execute_input": "2023-05-10T01:58:41.748195Z",
     "iopub.status.busy": "2023-05-10T01:58:41.748111Z",
     "iopub.status.idle": "2023-05-10T01:58:41.750872Z",
     "shell.execute_reply": "2023-05-10T01:58:41.750632Z"
    }
   },
   "outputs": [
    {
     "name": "stdout",
     "output_type": "stream",
     "text": [
      "<class 'pandas.core.series.Series'>\n",
      "RangeIndex: 16833 entries, 0 to 16832\n",
      "Series name: top_category_employer2\n",
      "Non-Null Count  Dtype  \n",
      "--------------  -----  \n",
      "16833 non-null  float64\n",
      "dtypes: float64(1)\n",
      "memory usage: 131.6 KB\n"
     ]
    }
   ],
   "source": [
    "data.info()"
   ]
  },
  {
   "cell_type": "code",
   "execution_count": 84,
   "id": "0ad29400",
   "metadata": {
    "execution": {
     "iopub.execute_input": "2023-05-10T01:58:41.752243Z",
     "iopub.status.busy": "2023-05-10T01:58:41.752163Z",
     "iopub.status.idle": "2023-05-10T01:58:41.754745Z",
     "shell.execute_reply": "2023-05-10T01:58:41.754499Z"
    }
   },
   "outputs": [
    {
     "data": {
      "text/plain": [
       "<bound method Series.info of 0        51.0\n",
       "1        51.0\n",
       "2         0.0\n",
       "3        51.0\n",
       "4        51.0\n",
       "         ... \n",
       "16828    48.5\n",
       "16829    48.5\n",
       "16830    48.5\n",
       "16831    48.5\n",
       "16832    48.5\n",
       "Name: top_category_employer2, Length: 16833, dtype: float64>"
      ]
     },
     "execution_count": 84,
     "metadata": {},
     "output_type": "execute_result"
    }
   ],
   "source": [
    "data.info"
   ]
  },
  {
   "cell_type": "code",
   "execution_count": 85,
   "id": "68392597",
   "metadata": {
    "execution": {
     "iopub.execute_input": "2023-05-10T01:58:41.756060Z",
     "iopub.status.busy": "2023-05-10T01:58:41.755984Z",
     "iopub.status.idle": "2023-05-10T01:58:41.757780Z",
     "shell.execute_reply": "2023-05-10T01:58:41.757548Z"
    }
   },
   "outputs": [],
   "source": [
    "import os\n",
    "import pandas\n",
    "from google.cloud import bigquery\n",
    "from google.oauth2 import service_account\n",
    "from google.cloud.bigquery import magics\n",
    "import numpy as np"
   ]
  },
  {
   "cell_type": "code",
   "execution_count": 86,
   "id": "f8117c1a",
   "metadata": {
    "execution": {
     "iopub.execute_input": "2023-05-10T01:58:41.759132Z",
     "iopub.status.busy": "2023-05-10T01:58:41.759050Z",
     "iopub.status.idle": "2023-05-10T01:58:41.766021Z",
     "shell.execute_reply": "2023-05-10T01:58:41.765690Z"
    }
   },
   "outputs": [],
   "source": [
    "BIGQUERY_PROJECT = 'ironhacks-data'\n",
    "bigquery_client = bigquery.Client(project=BIGQUERY_PROJECT)"
   ]
  },
  {
   "cell_type": "code",
   "execution_count": 87,
   "id": "8fd947c4",
   "metadata": {
    "execution": {
     "iopub.execute_input": "2023-05-10T01:58:41.767545Z",
     "iopub.status.busy": "2023-05-10T01:58:41.767463Z",
     "iopub.status.idle": "2023-05-10T01:58:41.769247Z",
     "shell.execute_reply": "2023-05-10T01:58:41.769002Z"
    }
   },
   "outputs": [],
   "source": [
    "query = \"\"\"\n",
    "SELECT *\n",
    "FROM `ironhacks-data.ironhacks_competition.unemployment_data`\n",
    "\"\"\""
   ]
  },
  {
   "cell_type": "code",
   "execution_count": 88,
   "id": "ac9033b9",
   "metadata": {
    "execution": {
     "iopub.execute_input": "2023-05-10T01:58:41.770548Z",
     "iopub.status.busy": "2023-05-10T01:58:41.770474Z",
     "iopub.status.idle": "2023-05-10T01:58:43.256799Z",
     "shell.execute_reply": "2023-05-10T01:58:43.256170Z"
    }
   },
   "outputs": [
    {
     "data": {
      "text/html": [
       "<div>\n",
       "<style scoped>\n",
       "    .dataframe tbody tr th:only-of-type {\n",
       "        vertical-align: middle;\n",
       "    }\n",
       "\n",
       "    .dataframe tbody tr th {\n",
       "        vertical-align: top;\n",
       "    }\n",
       "\n",
       "    .dataframe thead th {\n",
       "        text-align: right;\n",
       "    }\n",
       "</style>\n",
       "<table border=\"1\" class=\"dataframe\">\n",
       "  <thead>\n",
       "    <tr style=\"text-align: right;\">\n",
       "      <th></th>\n",
       "      <th>uu_id</th>\n",
       "      <th>timeperiod</th>\n",
       "      <th>week_number</th>\n",
       "      <th>countyfips</th>\n",
       "      <th>tract</th>\n",
       "      <th>tract_name</th>\n",
       "      <th>total_claims</th>\n",
       "      <th>edu_8th_or_less</th>\n",
       "      <th>edu_grades_9_11</th>\n",
       "      <th>edu_hs_grad_equiv</th>\n",
       "      <th>...</th>\n",
       "      <th>gender_female</th>\n",
       "      <th>gender_male</th>\n",
       "      <th>gender_na</th>\n",
       "      <th>race_amerindian</th>\n",
       "      <th>race_asian</th>\n",
       "      <th>race_black</th>\n",
       "      <th>race_noanswer</th>\n",
       "      <th>race_hawaiiannative</th>\n",
       "      <th>race_other</th>\n",
       "      <th>race_white</th>\n",
       "    </tr>\n",
       "  </thead>\n",
       "  <tbody>\n",
       "    <tr>\n",
       "      <th>0</th>\n",
       "      <td>f013068de98db1470bd986137a0c6d23</td>\n",
       "      <td>20220416</td>\n",
       "      <td>16</td>\n",
       "      <td>18003</td>\n",
       "      <td>900</td>\n",
       "      <td>Census Tract 9, Allen County, Indiana</td>\n",
       "      <td>22</td>\n",
       "      <td>0</td>\n",
       "      <td>&lt;NA&gt;</td>\n",
       "      <td>14</td>\n",
       "      <td>...</td>\n",
       "      <td>&lt;NA&gt;</td>\n",
       "      <td>&lt;NA&gt;</td>\n",
       "      <td>0</td>\n",
       "      <td>0</td>\n",
       "      <td>0</td>\n",
       "      <td>11</td>\n",
       "      <td>0</td>\n",
       "      <td>0</td>\n",
       "      <td>&lt;NA&gt;</td>\n",
       "      <td>&lt;NA&gt;</td>\n",
       "    </tr>\n",
       "    <tr>\n",
       "      <th>1</th>\n",
       "      <td>21957d5517323845818d87623589e1ba</td>\n",
       "      <td>20220319</td>\n",
       "      <td>12</td>\n",
       "      <td>18089</td>\n",
       "      <td>10400</td>\n",
       "      <td>Census Tract 104, Lake County, Indiana</td>\n",
       "      <td>111</td>\n",
       "      <td>0</td>\n",
       "      <td>&lt;NA&gt;</td>\n",
       "      <td>108</td>\n",
       "      <td>...</td>\n",
       "      <td>76</td>\n",
       "      <td>35</td>\n",
       "      <td>0</td>\n",
       "      <td>0</td>\n",
       "      <td>0</td>\n",
       "      <td>&lt;NA&gt;</td>\n",
       "      <td>&lt;NA&gt;</td>\n",
       "      <td>0</td>\n",
       "      <td>0</td>\n",
       "      <td>0</td>\n",
       "    </tr>\n",
       "    <tr>\n",
       "      <th>2</th>\n",
       "      <td>6a5609f385912113b6f1014b958ed748</td>\n",
       "      <td>20220326</td>\n",
       "      <td>13</td>\n",
       "      <td>18089</td>\n",
       "      <td>11500</td>\n",
       "      <td>Census Tract 115, Lake County, Indiana</td>\n",
       "      <td>39</td>\n",
       "      <td>0</td>\n",
       "      <td>&lt;NA&gt;</td>\n",
       "      <td>&lt;NA&gt;</td>\n",
       "      <td>...</td>\n",
       "      <td>&lt;NA&gt;</td>\n",
       "      <td>&lt;NA&gt;</td>\n",
       "      <td>0</td>\n",
       "      <td>0</td>\n",
       "      <td>0</td>\n",
       "      <td>39</td>\n",
       "      <td>0</td>\n",
       "      <td>0</td>\n",
       "      <td>0</td>\n",
       "      <td>0</td>\n",
       "    </tr>\n",
       "    <tr>\n",
       "      <th>3</th>\n",
       "      <td>46b2882ec4c373527ec33f7bd4f1388d</td>\n",
       "      <td>20220716</td>\n",
       "      <td>29</td>\n",
       "      <td>18089</td>\n",
       "      <td>20700</td>\n",
       "      <td>Census Tract 207, Lake County, Indiana</td>\n",
       "      <td>14</td>\n",
       "      <td>0</td>\n",
       "      <td>&lt;NA&gt;</td>\n",
       "      <td>&lt;NA&gt;</td>\n",
       "      <td>...</td>\n",
       "      <td>&lt;NA&gt;</td>\n",
       "      <td>&lt;NA&gt;</td>\n",
       "      <td>0</td>\n",
       "      <td>0</td>\n",
       "      <td>&lt;NA&gt;</td>\n",
       "      <td>10</td>\n",
       "      <td>0</td>\n",
       "      <td>0</td>\n",
       "      <td>&lt;NA&gt;</td>\n",
       "      <td>&lt;NA&gt;</td>\n",
       "    </tr>\n",
       "    <tr>\n",
       "      <th>4</th>\n",
       "      <td>37495d17e82f7df326bfc2c4c090f7b7</td>\n",
       "      <td>20220409</td>\n",
       "      <td>15</td>\n",
       "      <td>18089</td>\n",
       "      <td>21900</td>\n",
       "      <td>Census Tract 219, Lake County, Indiana</td>\n",
       "      <td>155</td>\n",
       "      <td>0</td>\n",
       "      <td>&lt;NA&gt;</td>\n",
       "      <td>69</td>\n",
       "      <td>...</td>\n",
       "      <td>90</td>\n",
       "      <td>65</td>\n",
       "      <td>0</td>\n",
       "      <td>0</td>\n",
       "      <td>0</td>\n",
       "      <td>135</td>\n",
       "      <td>&lt;NA&gt;</td>\n",
       "      <td>&lt;NA&gt;</td>\n",
       "      <td>&lt;NA&gt;</td>\n",
       "      <td>&lt;NA&gt;</td>\n",
       "    </tr>\n",
       "  </tbody>\n",
       "</table>\n",
       "<p>5 rows × 25 columns</p>\n",
       "</div>"
      ],
      "text/plain": [
       "                              uu_id  timeperiod  week_number  countyfips  \\\n",
       "0  f013068de98db1470bd986137a0c6d23    20220416           16       18003   \n",
       "1  21957d5517323845818d87623589e1ba    20220319           12       18089   \n",
       "2  6a5609f385912113b6f1014b958ed748    20220326           13       18089   \n",
       "3  46b2882ec4c373527ec33f7bd4f1388d    20220716           29       18089   \n",
       "4  37495d17e82f7df326bfc2c4c090f7b7    20220409           15       18089   \n",
       "\n",
       "   tract                              tract_name  total_claims  \\\n",
       "0    900   Census Tract 9, Allen County, Indiana            22   \n",
       "1  10400  Census Tract 104, Lake County, Indiana           111   \n",
       "2  11500  Census Tract 115, Lake County, Indiana            39   \n",
       "3  20700  Census Tract 207, Lake County, Indiana            14   \n",
       "4  21900  Census Tract 219, Lake County, Indiana           155   \n",
       "\n",
       "   edu_8th_or_less  edu_grades_9_11  edu_hs_grad_equiv  ...  gender_female  \\\n",
       "0                0             <NA>                 14  ...           <NA>   \n",
       "1                0             <NA>                108  ...             76   \n",
       "2                0             <NA>               <NA>  ...           <NA>   \n",
       "3                0             <NA>               <NA>  ...           <NA>   \n",
       "4                0             <NA>                 69  ...             90   \n",
       "\n",
       "   gender_male gender_na race_amerindian race_asian  race_black  \\\n",
       "0         <NA>         0               0          0          11   \n",
       "1           35         0               0          0        <NA>   \n",
       "2         <NA>         0               0          0          39   \n",
       "3         <NA>         0               0       <NA>          10   \n",
       "4           65         0               0          0         135   \n",
       "\n",
       "   race_noanswer  race_hawaiiannative  race_other  race_white  \n",
       "0              0                    0        <NA>        <NA>  \n",
       "1           <NA>                    0           0           0  \n",
       "2              0                    0           0           0  \n",
       "3              0                    0        <NA>        <NA>  \n",
       "4           <NA>                 <NA>        <NA>        <NA>  \n",
       "\n",
       "[5 rows x 25 columns]"
      ]
     },
     "execution_count": 88,
     "metadata": {},
     "output_type": "execute_result"
    }
   ],
   "source": [
    "# QUERY THE DATA ONCE\n",
    "query_job = bigquery_client.query(query)\n",
    "data = query_job.to_dataframe()\n",
    "data.head()"
   ]
  },
  {
   "cell_type": "code",
   "execution_count": 89,
   "id": "e5d30bc2",
   "metadata": {
    "execution": {
     "iopub.execute_input": "2023-05-10T01:58:43.259804Z",
     "iopub.status.busy": "2023-05-10T01:58:43.259586Z",
     "iopub.status.idle": "2023-05-10T01:58:43.278513Z",
     "shell.execute_reply": "2023-05-10T01:58:43.278106Z"
    }
   },
   "outputs": [
    {
     "name": "stdout",
     "output_type": "stream",
     "text": [
      "<class 'pandas.core.frame.DataFrame'>\n",
      "RangeIndex: 16833 entries, 0 to 16832\n",
      "Data columns (total 25 columns):\n",
      " #   Column                  Non-Null Count  Dtype \n",
      "---  ------                  --------------  ----- \n",
      " 0   uu_id                   16833 non-null  object\n",
      " 1   timeperiod              16833 non-null  Int64 \n",
      " 2   week_number             16833 non-null  Int64 \n",
      " 3   countyfips              16833 non-null  Int64 \n",
      " 4   tract                   16833 non-null  Int64 \n",
      " 5   tract_name              16833 non-null  object\n",
      " 6   total_claims            16833 non-null  Int64 \n",
      " 7   edu_8th_or_less         13748 non-null  Int64 \n",
      " 8   edu_grades_9_11         5942 non-null   Int64 \n",
      " 9   edu_hs_grad_equiv       6036 non-null   Int64 \n",
      " 10  edu_post_hs             3246 non-null   Int64 \n",
      " 11  edu_unknown             12031 non-null  Int64 \n",
      " 12  top_category_employer1  16833 non-null  object\n",
      " 13  top_category_employer2  16833 non-null  object\n",
      " 14  top_category_employer3  16833 non-null  object\n",
      " 15  gender_female           3835 non-null   Int64 \n",
      " 16  gender_male             3931 non-null   Int64 \n",
      " 17  gender_na               15868 non-null  Int64 \n",
      " 18  race_amerindian         15285 non-null  Int64 \n",
      " 19  race_asian              14939 non-null  Int64 \n",
      " 20  race_black              7124 non-null   Int64 \n",
      " 21  race_noanswer           10089 non-null  Int64 \n",
      " 22  race_hawaiiannative     16426 non-null  Int64 \n",
      " 23  race_other              8075 non-null   Int64 \n",
      " 24  race_white              6392 non-null   Int64 \n",
      "dtypes: Int64(20), object(5)\n",
      "memory usage: 3.5+ MB\n"
     ]
    }
   ],
   "source": [
    "data.info()"
   ]
  },
  {
   "cell_type": "code",
   "execution_count": 90,
   "id": "5e940d52",
   "metadata": {
    "execution": {
     "iopub.execute_input": "2023-05-10T01:58:43.280643Z",
     "iopub.status.busy": "2023-05-10T01:58:43.280469Z",
     "iopub.status.idle": "2023-05-10T01:58:43.285807Z",
     "shell.execute_reply": "2023-05-10T01:58:43.285317Z"
    }
   },
   "outputs": [],
   "source": [
    "data[\"top_category_employer1\"] = data[\"top_category_employer1\"].map(lambda x: '32' if x =='31-33' else x)"
   ]
  },
  {
   "cell_type": "code",
   "execution_count": 91,
   "id": "9c812445",
   "metadata": {
    "execution": {
     "iopub.execute_input": "2023-05-10T01:58:43.287663Z",
     "iopub.status.busy": "2023-05-10T01:58:43.287522Z",
     "iopub.status.idle": "2023-05-10T01:58:43.291455Z",
     "shell.execute_reply": "2023-05-10T01:58:43.291132Z"
    }
   },
   "outputs": [],
   "source": [
    "data[\"top_category_employer1\"] = data[\"top_category_employer1\"].map(lambda x: '44.5' if x =='44-45' else x)"
   ]
  },
  {
   "cell_type": "code",
   "execution_count": 92,
   "id": "74afd7d5",
   "metadata": {
    "execution": {
     "iopub.execute_input": "2023-05-10T01:58:43.293063Z",
     "iopub.status.busy": "2023-05-10T01:58:43.292964Z",
     "iopub.status.idle": "2023-05-10T01:58:43.296472Z",
     "shell.execute_reply": "2023-05-10T01:58:43.296166Z"
    }
   },
   "outputs": [],
   "source": [
    "data[\"top_category_employer1\"] = data[\"top_category_employer1\"].map(lambda x: '48.5' if x =='48-49' else x)"
   ]
  },
  {
   "cell_type": "code",
   "execution_count": 93,
   "id": "8614b995",
   "metadata": {
    "execution": {
     "iopub.execute_input": "2023-05-10T01:58:43.298165Z",
     "iopub.status.busy": "2023-05-10T01:58:43.298041Z",
     "iopub.status.idle": "2023-05-10T01:58:43.301483Z",
     "shell.execute_reply": "2023-05-10T01:58:43.301062Z"
    }
   },
   "outputs": [],
   "source": [
    "data[\"top_category_employer1\"] = data[\"top_category_employer1\"].map(lambda x: '0' if x =='N/A' else x)"
   ]
  },
  {
   "cell_type": "code",
   "execution_count": 94,
   "id": "b4d5a6f3",
   "metadata": {
    "execution": {
     "iopub.execute_input": "2023-05-10T01:58:43.303137Z",
     "iopub.status.busy": "2023-05-10T01:58:43.303035Z",
     "iopub.status.idle": "2023-05-10T01:58:43.306897Z",
     "shell.execute_reply": "2023-05-10T01:58:43.306618Z"
    }
   },
   "outputs": [],
   "source": [
    "data[\"top_category_employer2\"] = data[\"top_category_employer2\"].map(lambda x: '32' if x =='31-33' else x)"
   ]
  },
  {
   "cell_type": "code",
   "execution_count": 95,
   "id": "cce197a8",
   "metadata": {
    "execution": {
     "iopub.execute_input": "2023-05-10T01:58:43.308362Z",
     "iopub.status.busy": "2023-05-10T01:58:43.308276Z",
     "iopub.status.idle": "2023-05-10T01:58:43.311466Z",
     "shell.execute_reply": "2023-05-10T01:58:43.311212Z"
    }
   },
   "outputs": [],
   "source": [
    "data[\"top_category_employer2\"] = data[\"top_category_employer2\"].map(lambda x: '44.5' if x =='44-45' else x)"
   ]
  },
  {
   "cell_type": "code",
   "execution_count": 96,
   "id": "cd183add",
   "metadata": {
    "execution": {
     "iopub.execute_input": "2023-05-10T01:58:43.312812Z",
     "iopub.status.busy": "2023-05-10T01:58:43.312731Z",
     "iopub.status.idle": "2023-05-10T01:58:43.315560Z",
     "shell.execute_reply": "2023-05-10T01:58:43.315312Z"
    }
   },
   "outputs": [],
   "source": [
    "data[\"top_category_employer2\"] = data[\"top_category_employer2\"].map(lambda x: '48.5' if x =='48-49' else x)"
   ]
  },
  {
   "cell_type": "code",
   "execution_count": 97,
   "id": "0a19403c",
   "metadata": {
    "execution": {
     "iopub.execute_input": "2023-05-10T01:58:43.316900Z",
     "iopub.status.busy": "2023-05-10T01:58:43.316824Z",
     "iopub.status.idle": "2023-05-10T01:58:43.319837Z",
     "shell.execute_reply": "2023-05-10T01:58:43.319588Z"
    }
   },
   "outputs": [],
   "source": [
    "data[\"top_category_employer2\"] = data[\"top_category_employer2\"].map(lambda x: '0' if x =='N/A' else x)"
   ]
  },
  {
   "cell_type": "code",
   "execution_count": 98,
   "id": "82d33aaa",
   "metadata": {
    "execution": {
     "iopub.execute_input": "2023-05-10T01:58:43.321248Z",
     "iopub.status.busy": "2023-05-10T01:58:43.321164Z",
     "iopub.status.idle": "2023-05-10T01:58:43.324500Z",
     "shell.execute_reply": "2023-05-10T01:58:43.324258Z"
    }
   },
   "outputs": [],
   "source": [
    "data[\"top_category_employer3\"] = data[\"top_category_employer3\"].map(lambda x: '32' if x =='31-33' else x)"
   ]
  },
  {
   "cell_type": "code",
   "execution_count": 99,
   "id": "2ecad242",
   "metadata": {
    "execution": {
     "iopub.execute_input": "2023-05-10T01:58:43.325893Z",
     "iopub.status.busy": "2023-05-10T01:58:43.325818Z",
     "iopub.status.idle": "2023-05-10T01:58:43.328636Z",
     "shell.execute_reply": "2023-05-10T01:58:43.328401Z"
    }
   },
   "outputs": [],
   "source": [
    "data[\"top_category_employer3\"] = data[\"top_category_employer3\"].map(lambda x: '44.5' if x =='44-45' else x)"
   ]
  },
  {
   "cell_type": "code",
   "execution_count": 100,
   "id": "a2682565",
   "metadata": {
    "execution": {
     "iopub.execute_input": "2023-05-10T01:58:43.329890Z",
     "iopub.status.busy": "2023-05-10T01:58:43.329817Z",
     "iopub.status.idle": "2023-05-10T01:58:43.332627Z",
     "shell.execute_reply": "2023-05-10T01:58:43.332387Z"
    }
   },
   "outputs": [],
   "source": [
    "data[\"top_category_employer3\"] = data[\"top_category_employer3\"].map(lambda x: '48.5' if x =='48-49' else x)"
   ]
  },
  {
   "cell_type": "code",
   "execution_count": 101,
   "id": "2592baab",
   "metadata": {
    "execution": {
     "iopub.execute_input": "2023-05-10T01:58:43.333944Z",
     "iopub.status.busy": "2023-05-10T01:58:43.333869Z",
     "iopub.status.idle": "2023-05-10T01:58:43.336726Z",
     "shell.execute_reply": "2023-05-10T01:58:43.336420Z"
    }
   },
   "outputs": [],
   "source": [
    "data[\"top_category_employer3\"] = data[\"top_category_employer3\"].map(lambda x: '0' if x =='N/A' else x)"
   ]
  },
  {
   "cell_type": "code",
   "execution_count": 102,
   "id": "be75853d",
   "metadata": {
    "execution": {
     "iopub.execute_input": "2023-05-10T01:58:43.338028Z",
     "iopub.status.busy": "2023-05-10T01:58:43.337951Z",
     "iopub.status.idle": "2023-05-10T01:58:43.347982Z",
     "shell.execute_reply": "2023-05-10T01:58:43.347724Z"
    }
   },
   "outputs": [],
   "source": [
    "data = data.fillna(0)"
   ]
  },
  {
   "cell_type": "code",
   "execution_count": 103,
   "id": "b8da9955",
   "metadata": {
    "execution": {
     "iopub.execute_input": "2023-05-10T01:58:43.349424Z",
     "iopub.status.busy": "2023-05-10T01:58:43.349348Z",
     "iopub.status.idle": "2023-05-10T01:58:43.352921Z",
     "shell.execute_reply": "2023-05-10T01:58:43.352680Z"
    }
   },
   "outputs": [
    {
     "data": {
      "text/plain": [
       "0        32.0\n",
       "1        48.5\n",
       "2        56.0\n",
       "3        56.0\n",
       "4        72.0\n",
       "         ... \n",
       "16828    56.0\n",
       "16829    56.0\n",
       "16830    56.0\n",
       "16831    23.0\n",
       "16832    23.0\n",
       "Name: top_category_employer1, Length: 16833, dtype: float64"
      ]
     },
     "execution_count": 103,
     "metadata": {},
     "output_type": "execute_result"
    }
   ],
   "source": [
    "data['top_category_employer1'].astype(float)"
   ]
  },
  {
   "cell_type": "code",
   "execution_count": 104,
   "id": "d484a735",
   "metadata": {
    "execution": {
     "iopub.execute_input": "2023-05-10T01:58:43.354280Z",
     "iopub.status.busy": "2023-05-10T01:58:43.354200Z",
     "iopub.status.idle": "2023-05-10T01:58:43.356817Z",
     "shell.execute_reply": "2023-05-10T01:58:43.356500Z"
    }
   },
   "outputs": [],
   "source": [
    "data = data['top_category_employer2'].astype(float)"
   ]
  },
  {
   "cell_type": "code",
   "execution_count": 105,
   "id": "8ba551af",
   "metadata": {
    "execution": {
     "iopub.execute_input": "2023-05-10T01:58:43.358160Z",
     "iopub.status.busy": "2023-05-10T01:58:43.358080Z",
     "iopub.status.idle": "2023-05-10T01:58:43.374638Z",
     "shell.execute_reply": "2023-05-10T01:58:43.374373Z"
    }
   },
   "outputs": [
    {
     "ename": "KeyError",
     "evalue": "'top_category_employer3'",
     "output_type": "error",
     "traceback": [
      "\u001b[0;31m---------------------------------------------------------------------------\u001b[0m",
      "\u001b[0;31mKeyError\u001b[0m                                  Traceback (most recent call last)",
      "Cell \u001b[0;32mIn [105], line 1\u001b[0m\n\u001b[0;32m----> 1\u001b[0m data \u001b[38;5;241m=\u001b[39m \u001b[43mdata\u001b[49m\u001b[43m[\u001b[49m\u001b[38;5;124;43m'\u001b[39;49m\u001b[38;5;124;43mtop_category_employer3\u001b[39;49m\u001b[38;5;124;43m'\u001b[39;49m\u001b[43m]\u001b[49m\u001b[38;5;241m.\u001b[39mastype(\u001b[38;5;28mfloat\u001b[39m)\n",
      "File \u001b[0;32m/opt/homebrew/lib/python3.9/site-packages/pandas/core/series.py:981\u001b[0m, in \u001b[0;36mSeries.__getitem__\u001b[0;34m(self, key)\u001b[0m\n\u001b[1;32m    978\u001b[0m     \u001b[38;5;28;01mreturn\u001b[39;00m \u001b[38;5;28mself\u001b[39m\u001b[38;5;241m.\u001b[39m_values[key]\n\u001b[1;32m    980\u001b[0m \u001b[38;5;28;01melif\u001b[39;00m key_is_scalar:\n\u001b[0;32m--> 981\u001b[0m     \u001b[38;5;28;01mreturn\u001b[39;00m \u001b[38;5;28;43mself\u001b[39;49m\u001b[38;5;241;43m.\u001b[39;49m\u001b[43m_get_value\u001b[49m\u001b[43m(\u001b[49m\u001b[43mkey\u001b[49m\u001b[43m)\u001b[49m\n\u001b[1;32m    983\u001b[0m \u001b[38;5;28;01mif\u001b[39;00m is_hashable(key):\n\u001b[1;32m    984\u001b[0m     \u001b[38;5;66;03m# Otherwise index.get_value will raise InvalidIndexError\u001b[39;00m\n\u001b[1;32m    985\u001b[0m     \u001b[38;5;28;01mtry\u001b[39;00m:\n\u001b[1;32m    986\u001b[0m         \u001b[38;5;66;03m# For labels that don't resolve as scalars like tuples and frozensets\u001b[39;00m\n",
      "File \u001b[0;32m/opt/homebrew/lib/python3.9/site-packages/pandas/core/series.py:1089\u001b[0m, in \u001b[0;36mSeries._get_value\u001b[0;34m(self, label, takeable)\u001b[0m\n\u001b[1;32m   1086\u001b[0m     \u001b[38;5;28;01mreturn\u001b[39;00m \u001b[38;5;28mself\u001b[39m\u001b[38;5;241m.\u001b[39m_values[label]\n\u001b[1;32m   1088\u001b[0m \u001b[38;5;66;03m# Similar to Index.get_value, but we do not fall back to positional\u001b[39;00m\n\u001b[0;32m-> 1089\u001b[0m loc \u001b[38;5;241m=\u001b[39m \u001b[38;5;28;43mself\u001b[39;49m\u001b[38;5;241;43m.\u001b[39;49m\u001b[43mindex\u001b[49m\u001b[38;5;241;43m.\u001b[39;49m\u001b[43mget_loc\u001b[49m\u001b[43m(\u001b[49m\u001b[43mlabel\u001b[49m\u001b[43m)\u001b[49m\n\u001b[1;32m   1090\u001b[0m \u001b[38;5;28;01mreturn\u001b[39;00m \u001b[38;5;28mself\u001b[39m\u001b[38;5;241m.\u001b[39mindex\u001b[38;5;241m.\u001b[39m_get_values_for_loc(\u001b[38;5;28mself\u001b[39m, loc, label)\n",
      "File \u001b[0;32m/opt/homebrew/lib/python3.9/site-packages/pandas/core/indexes/range.py:395\u001b[0m, in \u001b[0;36mRangeIndex.get_loc\u001b[0;34m(self, key, method, tolerance)\u001b[0m\n\u001b[1;32m    393\u001b[0m             \u001b[38;5;28;01mraise\u001b[39;00m \u001b[38;5;167;01mKeyError\u001b[39;00m(key) \u001b[38;5;28;01mfrom\u001b[39;00m \u001b[38;5;21;01merr\u001b[39;00m\n\u001b[1;32m    394\u001b[0m     \u001b[38;5;28mself\u001b[39m\u001b[38;5;241m.\u001b[39m_check_indexing_error(key)\n\u001b[0;32m--> 395\u001b[0m     \u001b[38;5;28;01mraise\u001b[39;00m \u001b[38;5;167;01mKeyError\u001b[39;00m(key)\n\u001b[1;32m    396\u001b[0m \u001b[38;5;28;01mreturn\u001b[39;00m \u001b[38;5;28msuper\u001b[39m()\u001b[38;5;241m.\u001b[39mget_loc(key, method\u001b[38;5;241m=\u001b[39mmethod, tolerance\u001b[38;5;241m=\u001b[39mtolerance)\n",
      "\u001b[0;31mKeyError\u001b[0m: 'top_category_employer3'"
     ]
    }
   ],
   "source": [
    "data = data['top_category_employer3'].astype(float)"
   ]
  },
  {
   "cell_type": "code",
   "execution_count": 106,
   "id": "2f6a9ef0",
   "metadata": {
    "execution": {
     "iopub.execute_input": "2023-05-10T01:58:43.376151Z",
     "iopub.status.busy": "2023-05-10T01:58:43.376048Z",
     "iopub.status.idle": "2023-05-10T01:58:46.136566Z",
     "shell.execute_reply": "2023-05-10T01:58:46.135826Z"
    }
   },
   "outputs": [
    {
     "name": "stdout",
     "output_type": "stream",
     "text": [
      "\u001b[33mWARNING: Ignoring invalid distribution -umpy (/opt/anaconda3/lib/python3.9/site-packages)\u001b[0m\r\n",
      "\u001b[33mWARNING: Ignoring invalid distribution -umpy (/opt/anaconda3/lib/python3.9/site-packages)\u001b[0m\r\n",
      "Requirement already satisfied: db-dtypes in /opt/anaconda3/lib/python3.9/site-packages (1.0.5)\r\n",
      "Requirement already satisfied: pandas<2.0dev,>=0.24.2 in /opt/anaconda3/lib/python3.9/site-packages (from db-dtypes) (1.5.3)\r\n",
      "Requirement already satisfied: packaging>=17.0 in /opt/anaconda3/lib/python3.9/site-packages (from db-dtypes) (21.3)\r\n",
      "Requirement already satisfied: pyarrow>=3.0.0 in /opt/anaconda3/lib/python3.9/site-packages (from db-dtypes) (10.0.1)\r\n",
      "Requirement already satisfied: numpy<2.0dev,>=1.16.6 in /opt/anaconda3/lib/python3.9/site-packages (from db-dtypes) (1.22.4)\r\n",
      "Requirement already satisfied: pyparsing!=3.0.5,>=2.0.2 in /opt/anaconda3/lib/python3.9/site-packages (from packaging>=17.0->db-dtypes) (3.0.4)\r\n",
      "Requirement already satisfied: python-dateutil>=2.8.1 in /opt/anaconda3/lib/python3.9/site-packages (from pandas<2.0dev,>=0.24.2->db-dtypes) (2.8.2)\r\n",
      "Requirement already satisfied: pytz>=2020.1 in /opt/anaconda3/lib/python3.9/site-packages (from pandas<2.0dev,>=0.24.2->db-dtypes) (2021.3)\r\n",
      "Requirement already satisfied: six>=1.5 in /opt/anaconda3/lib/python3.9/site-packages (from python-dateutil>=2.8.1->pandas<2.0dev,>=0.24.2->db-dtypes) (1.16.0)\r\n",
      "\u001b[33mWARNING: Ignoring invalid distribution -umpy (/opt/anaconda3/lib/python3.9/site-packages)\u001b[0m\r\n"
     ]
    },
    {
     "name": "stdout",
     "output_type": "stream",
     "text": [
      "\u001b[33mWARNING: Ignoring invalid distribution -umpy (/opt/anaconda3/lib/python3.9/site-packages)\u001b[0m\r\n",
      "\u001b[33mWARNING: Ignoring invalid distribution -umpy (/opt/anaconda3/lib/python3.9/site-packages)\u001b[0m\r\n",
      "\u001b[33mWARNING: Ignoring invalid distribution -umpy (/opt/anaconda3/lib/python3.9/site-packages)\u001b[0m\r\n"
     ]
    }
   ],
   "source": [
    "get_ipython().system('pip install db-dtypes')"
   ]
  },
  {
   "cell_type": "code",
   "execution_count": 107,
   "id": "806db2b3",
   "metadata": {
    "execution": {
     "iopub.execute_input": "2023-05-10T01:58:46.139401Z",
     "iopub.status.busy": "2023-05-10T01:58:46.139173Z",
     "iopub.status.idle": "2023-05-10T01:58:46.142209Z",
     "shell.execute_reply": "2023-05-10T01:58:46.141791Z"
    }
   },
   "outputs": [],
   "source": [
    "import os\n",
    "import pandas\n",
    "from google.cloud import bigquery\n",
    "from google.oauth2 import service_account\n",
    "from google.cloud.bigquery import magics\n",
    "import numpy as np"
   ]
  },
  {
   "cell_type": "code",
   "execution_count": 108,
   "id": "8c4f7bff",
   "metadata": {
    "execution": {
     "iopub.execute_input": "2023-05-10T01:58:46.144465Z",
     "iopub.status.busy": "2023-05-10T01:58:46.144309Z",
     "iopub.status.idle": "2023-05-10T01:58:46.153590Z",
     "shell.execute_reply": "2023-05-10T01:58:46.153011Z"
    }
   },
   "outputs": [],
   "source": [
    "BIGQUERY_PROJECT = 'ironhacks-data'\n",
    "bigquery_client = bigquery.Client(project=BIGQUERY_PROJECT)"
   ]
  },
  {
   "cell_type": "code",
   "execution_count": 109,
   "id": "e1b86e94",
   "metadata": {
    "execution": {
     "iopub.execute_input": "2023-05-10T01:58:46.156148Z",
     "iopub.status.busy": "2023-05-10T01:58:46.155954Z",
     "iopub.status.idle": "2023-05-10T01:58:46.158320Z",
     "shell.execute_reply": "2023-05-10T01:58:46.158022Z"
    }
   },
   "outputs": [],
   "source": [
    "query = \"\"\"\n",
    "SELECT *\n",
    "FROM `ironhacks-data.ironhacks_competition.unemployment_data`\n",
    "\"\"\""
   ]
  },
  {
   "cell_type": "code",
   "execution_count": 110,
   "id": "83ab0622",
   "metadata": {
    "execution": {
     "iopub.execute_input": "2023-05-10T01:58:46.160145Z",
     "iopub.status.busy": "2023-05-10T01:58:46.159992Z",
     "iopub.status.idle": "2023-05-10T01:58:48.038704Z",
     "shell.execute_reply": "2023-05-10T01:58:48.038107Z"
    }
   },
   "outputs": [
    {
     "data": {
      "text/html": [
       "<div>\n",
       "<style scoped>\n",
       "    .dataframe tbody tr th:only-of-type {\n",
       "        vertical-align: middle;\n",
       "    }\n",
       "\n",
       "    .dataframe tbody tr th {\n",
       "        vertical-align: top;\n",
       "    }\n",
       "\n",
       "    .dataframe thead th {\n",
       "        text-align: right;\n",
       "    }\n",
       "</style>\n",
       "<table border=\"1\" class=\"dataframe\">\n",
       "  <thead>\n",
       "    <tr style=\"text-align: right;\">\n",
       "      <th></th>\n",
       "      <th>uu_id</th>\n",
       "      <th>timeperiod</th>\n",
       "      <th>week_number</th>\n",
       "      <th>countyfips</th>\n",
       "      <th>tract</th>\n",
       "      <th>tract_name</th>\n",
       "      <th>total_claims</th>\n",
       "      <th>edu_8th_or_less</th>\n",
       "      <th>edu_grades_9_11</th>\n",
       "      <th>edu_hs_grad_equiv</th>\n",
       "      <th>...</th>\n",
       "      <th>gender_female</th>\n",
       "      <th>gender_male</th>\n",
       "      <th>gender_na</th>\n",
       "      <th>race_amerindian</th>\n",
       "      <th>race_asian</th>\n",
       "      <th>race_black</th>\n",
       "      <th>race_noanswer</th>\n",
       "      <th>race_hawaiiannative</th>\n",
       "      <th>race_other</th>\n",
       "      <th>race_white</th>\n",
       "    </tr>\n",
       "  </thead>\n",
       "  <tbody>\n",
       "    <tr>\n",
       "      <th>0</th>\n",
       "      <td>f013068de98db1470bd986137a0c6d23</td>\n",
       "      <td>20220416</td>\n",
       "      <td>16</td>\n",
       "      <td>18003</td>\n",
       "      <td>900</td>\n",
       "      <td>Census Tract 9, Allen County, Indiana</td>\n",
       "      <td>22</td>\n",
       "      <td>0</td>\n",
       "      <td>&lt;NA&gt;</td>\n",
       "      <td>14</td>\n",
       "      <td>...</td>\n",
       "      <td>&lt;NA&gt;</td>\n",
       "      <td>&lt;NA&gt;</td>\n",
       "      <td>0</td>\n",
       "      <td>0</td>\n",
       "      <td>0</td>\n",
       "      <td>11</td>\n",
       "      <td>0</td>\n",
       "      <td>0</td>\n",
       "      <td>&lt;NA&gt;</td>\n",
       "      <td>&lt;NA&gt;</td>\n",
       "    </tr>\n",
       "    <tr>\n",
       "      <th>1</th>\n",
       "      <td>21957d5517323845818d87623589e1ba</td>\n",
       "      <td>20220319</td>\n",
       "      <td>12</td>\n",
       "      <td>18089</td>\n",
       "      <td>10400</td>\n",
       "      <td>Census Tract 104, Lake County, Indiana</td>\n",
       "      <td>111</td>\n",
       "      <td>0</td>\n",
       "      <td>&lt;NA&gt;</td>\n",
       "      <td>108</td>\n",
       "      <td>...</td>\n",
       "      <td>76</td>\n",
       "      <td>35</td>\n",
       "      <td>0</td>\n",
       "      <td>0</td>\n",
       "      <td>0</td>\n",
       "      <td>&lt;NA&gt;</td>\n",
       "      <td>&lt;NA&gt;</td>\n",
       "      <td>0</td>\n",
       "      <td>0</td>\n",
       "      <td>0</td>\n",
       "    </tr>\n",
       "    <tr>\n",
       "      <th>2</th>\n",
       "      <td>6a5609f385912113b6f1014b958ed748</td>\n",
       "      <td>20220326</td>\n",
       "      <td>13</td>\n",
       "      <td>18089</td>\n",
       "      <td>11500</td>\n",
       "      <td>Census Tract 115, Lake County, Indiana</td>\n",
       "      <td>39</td>\n",
       "      <td>0</td>\n",
       "      <td>&lt;NA&gt;</td>\n",
       "      <td>&lt;NA&gt;</td>\n",
       "      <td>...</td>\n",
       "      <td>&lt;NA&gt;</td>\n",
       "      <td>&lt;NA&gt;</td>\n",
       "      <td>0</td>\n",
       "      <td>0</td>\n",
       "      <td>0</td>\n",
       "      <td>39</td>\n",
       "      <td>0</td>\n",
       "      <td>0</td>\n",
       "      <td>0</td>\n",
       "      <td>0</td>\n",
       "    </tr>\n",
       "    <tr>\n",
       "      <th>3</th>\n",
       "      <td>46b2882ec4c373527ec33f7bd4f1388d</td>\n",
       "      <td>20220716</td>\n",
       "      <td>29</td>\n",
       "      <td>18089</td>\n",
       "      <td>20700</td>\n",
       "      <td>Census Tract 207, Lake County, Indiana</td>\n",
       "      <td>14</td>\n",
       "      <td>0</td>\n",
       "      <td>&lt;NA&gt;</td>\n",
       "      <td>&lt;NA&gt;</td>\n",
       "      <td>...</td>\n",
       "      <td>&lt;NA&gt;</td>\n",
       "      <td>&lt;NA&gt;</td>\n",
       "      <td>0</td>\n",
       "      <td>0</td>\n",
       "      <td>&lt;NA&gt;</td>\n",
       "      <td>10</td>\n",
       "      <td>0</td>\n",
       "      <td>0</td>\n",
       "      <td>&lt;NA&gt;</td>\n",
       "      <td>&lt;NA&gt;</td>\n",
       "    </tr>\n",
       "    <tr>\n",
       "      <th>4</th>\n",
       "      <td>37495d17e82f7df326bfc2c4c090f7b7</td>\n",
       "      <td>20220409</td>\n",
       "      <td>15</td>\n",
       "      <td>18089</td>\n",
       "      <td>21900</td>\n",
       "      <td>Census Tract 219, Lake County, Indiana</td>\n",
       "      <td>155</td>\n",
       "      <td>0</td>\n",
       "      <td>&lt;NA&gt;</td>\n",
       "      <td>69</td>\n",
       "      <td>...</td>\n",
       "      <td>90</td>\n",
       "      <td>65</td>\n",
       "      <td>0</td>\n",
       "      <td>0</td>\n",
       "      <td>0</td>\n",
       "      <td>135</td>\n",
       "      <td>&lt;NA&gt;</td>\n",
       "      <td>&lt;NA&gt;</td>\n",
       "      <td>&lt;NA&gt;</td>\n",
       "      <td>&lt;NA&gt;</td>\n",
       "    </tr>\n",
       "  </tbody>\n",
       "</table>\n",
       "<p>5 rows × 25 columns</p>\n",
       "</div>"
      ],
      "text/plain": [
       "                              uu_id  timeperiod  week_number  countyfips  \\\n",
       "0  f013068de98db1470bd986137a0c6d23    20220416           16       18003   \n",
       "1  21957d5517323845818d87623589e1ba    20220319           12       18089   \n",
       "2  6a5609f385912113b6f1014b958ed748    20220326           13       18089   \n",
       "3  46b2882ec4c373527ec33f7bd4f1388d    20220716           29       18089   \n",
       "4  37495d17e82f7df326bfc2c4c090f7b7    20220409           15       18089   \n",
       "\n",
       "   tract                              tract_name  total_claims  \\\n",
       "0    900   Census Tract 9, Allen County, Indiana            22   \n",
       "1  10400  Census Tract 104, Lake County, Indiana           111   \n",
       "2  11500  Census Tract 115, Lake County, Indiana            39   \n",
       "3  20700  Census Tract 207, Lake County, Indiana            14   \n",
       "4  21900  Census Tract 219, Lake County, Indiana           155   \n",
       "\n",
       "   edu_8th_or_less  edu_grades_9_11  edu_hs_grad_equiv  ...  gender_female  \\\n",
       "0                0             <NA>                 14  ...           <NA>   \n",
       "1                0             <NA>                108  ...             76   \n",
       "2                0             <NA>               <NA>  ...           <NA>   \n",
       "3                0             <NA>               <NA>  ...           <NA>   \n",
       "4                0             <NA>                 69  ...             90   \n",
       "\n",
       "   gender_male gender_na race_amerindian race_asian  race_black  \\\n",
       "0         <NA>         0               0          0          11   \n",
       "1           35         0               0          0        <NA>   \n",
       "2         <NA>         0               0          0          39   \n",
       "3         <NA>         0               0       <NA>          10   \n",
       "4           65         0               0          0         135   \n",
       "\n",
       "   race_noanswer  race_hawaiiannative  race_other  race_white  \n",
       "0              0                    0        <NA>        <NA>  \n",
       "1           <NA>                    0           0           0  \n",
       "2              0                    0           0           0  \n",
       "3              0                    0        <NA>        <NA>  \n",
       "4           <NA>                 <NA>        <NA>        <NA>  \n",
       "\n",
       "[5 rows x 25 columns]"
      ]
     },
     "execution_count": 110,
     "metadata": {},
     "output_type": "execute_result"
    }
   ],
   "source": [
    "# QUERY THE DATA ONCE\n",
    "query_job = bigquery_client.query(query)\n",
    "data = query_job.to_dataframe()\n",
    "data.head()"
   ]
  },
  {
   "cell_type": "code",
   "execution_count": 111,
   "id": "bf803509",
   "metadata": {
    "execution": {
     "iopub.execute_input": "2023-05-10T01:58:48.042120Z",
     "iopub.status.busy": "2023-05-10T01:58:48.041698Z",
     "iopub.status.idle": "2023-05-10T01:58:48.060438Z",
     "shell.execute_reply": "2023-05-10T01:58:48.060035Z"
    }
   },
   "outputs": [
    {
     "name": "stdout",
     "output_type": "stream",
     "text": [
      "<class 'pandas.core.frame.DataFrame'>\n",
      "RangeIndex: 16833 entries, 0 to 16832\n",
      "Data columns (total 25 columns):\n",
      " #   Column                  Non-Null Count  Dtype \n",
      "---  ------                  --------------  ----- \n",
      " 0   uu_id                   16833 non-null  object\n",
      " 1   timeperiod              16833 non-null  Int64 \n",
      " 2   week_number             16833 non-null  Int64 \n",
      " 3   countyfips              16833 non-null  Int64 \n",
      " 4   tract                   16833 non-null  Int64 \n",
      " 5   tract_name              16833 non-null  object\n",
      " 6   total_claims            16833 non-null  Int64 \n",
      " 7   edu_8th_or_less         13748 non-null  Int64 \n",
      " 8   edu_grades_9_11         5942 non-null   Int64 \n",
      " 9   edu_hs_grad_equiv       6036 non-null   Int64 \n",
      " 10  edu_post_hs             3246 non-null   Int64 \n",
      " 11  edu_unknown             12031 non-null  Int64 \n",
      " 12  top_category_employer1  16833 non-null  object\n",
      " 13  top_category_employer2  16833 non-null  object\n",
      " 14  top_category_employer3  16833 non-null  object\n",
      " 15  gender_female           3835 non-null   Int64 \n",
      " 16  gender_male             3931 non-null   Int64 \n",
      " 17  gender_na               15868 non-null  Int64 \n",
      " 18  race_amerindian         15285 non-null  Int64 \n",
      " 19  race_asian              14939 non-null  Int64 \n",
      " 20  race_black              7124 non-null   Int64 \n",
      " 21  race_noanswer           10089 non-null  Int64 \n",
      " 22  race_hawaiiannative     16426 non-null  Int64 \n",
      " 23  race_other              8075 non-null   Int64 \n",
      " 24  race_white              6392 non-null   Int64 \n",
      "dtypes: Int64(20), object(5)\n",
      "memory usage: 3.5+ MB\n"
     ]
    }
   ],
   "source": [
    "data.info()"
   ]
  },
  {
   "cell_type": "code",
   "execution_count": 112,
   "id": "23dbf65a",
   "metadata": {
    "execution": {
     "iopub.execute_input": "2023-05-10T01:58:48.062464Z",
     "iopub.status.busy": "2023-05-10T01:58:48.062299Z",
     "iopub.status.idle": "2023-05-10T01:58:48.067284Z",
     "shell.execute_reply": "2023-05-10T01:58:48.066935Z"
    }
   },
   "outputs": [],
   "source": [
    "data[\"top_category_employer1\"] = data[\"top_category_employer1\"].map(lambda x: '32' if x =='31-33' else x)"
   ]
  },
  {
   "cell_type": "code",
   "execution_count": 113,
   "id": "e1cee0fc",
   "metadata": {
    "execution": {
     "iopub.execute_input": "2023-05-10T01:58:48.069319Z",
     "iopub.status.busy": "2023-05-10T01:58:48.069160Z",
     "iopub.status.idle": "2023-05-10T01:58:48.073385Z",
     "shell.execute_reply": "2023-05-10T01:58:48.073061Z"
    }
   },
   "outputs": [],
   "source": [
    "data[\"top_category_employer1\"] = data[\"top_category_employer1\"].map(lambda x: '44.5' if x =='44-45' else x)"
   ]
  },
  {
   "cell_type": "code",
   "execution_count": 114,
   "id": "cabb15d9",
   "metadata": {
    "execution": {
     "iopub.execute_input": "2023-05-10T01:58:48.075120Z",
     "iopub.status.busy": "2023-05-10T01:58:48.075007Z",
     "iopub.status.idle": "2023-05-10T01:58:48.078886Z",
     "shell.execute_reply": "2023-05-10T01:58:48.078551Z"
    }
   },
   "outputs": [],
   "source": [
    "data[\"top_category_employer1\"] = data[\"top_category_employer1\"].map(lambda x: '48.5' if x =='48-49' else x)"
   ]
  },
  {
   "cell_type": "code",
   "execution_count": 115,
   "id": "c913f348",
   "metadata": {
    "execution": {
     "iopub.execute_input": "2023-05-10T01:58:48.080626Z",
     "iopub.status.busy": "2023-05-10T01:58:48.080517Z",
     "iopub.status.idle": "2023-05-10T01:58:48.084302Z",
     "shell.execute_reply": "2023-05-10T01:58:48.083984Z"
    }
   },
   "outputs": [],
   "source": [
    "data[\"top_category_employer1\"] = data[\"top_category_employer1\"].map(lambda x: '0' if x =='N/A' else x)"
   ]
  },
  {
   "cell_type": "code",
   "execution_count": 116,
   "id": "95bc79de",
   "metadata": {
    "execution": {
     "iopub.execute_input": "2023-05-10T01:58:48.085920Z",
     "iopub.status.busy": "2023-05-10T01:58:48.085822Z",
     "iopub.status.idle": "2023-05-10T01:58:48.089891Z",
     "shell.execute_reply": "2023-05-10T01:58:48.089587Z"
    }
   },
   "outputs": [],
   "source": [
    "data[\"top_category_employer2\"] = data[\"top_category_employer2\"].map(lambda x: '32' if x =='31-33' else x)"
   ]
  },
  {
   "cell_type": "code",
   "execution_count": 117,
   "id": "a718b560",
   "metadata": {
    "execution": {
     "iopub.execute_input": "2023-05-10T01:58:48.091505Z",
     "iopub.status.busy": "2023-05-10T01:58:48.091395Z",
     "iopub.status.idle": "2023-05-10T01:58:48.094778Z",
     "shell.execute_reply": "2023-05-10T01:58:48.094520Z"
    }
   },
   "outputs": [],
   "source": [
    "data[\"top_category_employer2\"] = data[\"top_category_employer2\"].map(lambda x: '44.5' if x =='44-45' else x)"
   ]
  },
  {
   "cell_type": "code",
   "execution_count": 118,
   "id": "bb877616",
   "metadata": {
    "execution": {
     "iopub.execute_input": "2023-05-10T01:58:48.096192Z",
     "iopub.status.busy": "2023-05-10T01:58:48.096108Z",
     "iopub.status.idle": "2023-05-10T01:58:48.099292Z",
     "shell.execute_reply": "2023-05-10T01:58:48.099037Z"
    }
   },
   "outputs": [],
   "source": [
    "data[\"top_category_employer2\"] = data[\"top_category_employer2\"].map(lambda x: '48.5' if x =='48-49' else x)"
   ]
  },
  {
   "cell_type": "code",
   "execution_count": 119,
   "id": "67fcf39d",
   "metadata": {
    "execution": {
     "iopub.execute_input": "2023-05-10T01:58:48.100695Z",
     "iopub.status.busy": "2023-05-10T01:58:48.100612Z",
     "iopub.status.idle": "2023-05-10T01:58:48.103647Z",
     "shell.execute_reply": "2023-05-10T01:58:48.103412Z"
    }
   },
   "outputs": [],
   "source": [
    "data[\"top_category_employer2\"] = data[\"top_category_employer2\"].map(lambda x: '0' if x =='N/A' else x)"
   ]
  },
  {
   "cell_type": "code",
   "execution_count": 120,
   "id": "bb65c3f9",
   "metadata": {
    "execution": {
     "iopub.execute_input": "2023-05-10T01:58:48.105090Z",
     "iopub.status.busy": "2023-05-10T01:58:48.105002Z",
     "iopub.status.idle": "2023-05-10T01:58:48.108465Z",
     "shell.execute_reply": "2023-05-10T01:58:48.108152Z"
    }
   },
   "outputs": [],
   "source": [
    "data[\"top_category_employer3\"] = data[\"top_category_employer3\"].map(lambda x: '32' if x =='31-33' else x)"
   ]
  },
  {
   "cell_type": "code",
   "execution_count": 121,
   "id": "66c1a668",
   "metadata": {
    "execution": {
     "iopub.execute_input": "2023-05-10T01:58:48.109854Z",
     "iopub.status.busy": "2023-05-10T01:58:48.109772Z",
     "iopub.status.idle": "2023-05-10T01:58:48.112669Z",
     "shell.execute_reply": "2023-05-10T01:58:48.112432Z"
    }
   },
   "outputs": [],
   "source": [
    "data[\"top_category_employer3\"] = data[\"top_category_employer3\"].map(lambda x: '44.5' if x =='44-45' else x)"
   ]
  },
  {
   "cell_type": "code",
   "execution_count": 122,
   "id": "3c1c56d6",
   "metadata": {
    "execution": {
     "iopub.execute_input": "2023-05-10T01:58:48.113968Z",
     "iopub.status.busy": "2023-05-10T01:58:48.113883Z",
     "iopub.status.idle": "2023-05-10T01:58:48.116669Z",
     "shell.execute_reply": "2023-05-10T01:58:48.116444Z"
    }
   },
   "outputs": [],
   "source": [
    "data[\"top_category_employer3\"] = data[\"top_category_employer3\"].map(lambda x: '48.5' if x =='48-49' else x)"
   ]
  },
  {
   "cell_type": "code",
   "execution_count": 123,
   "id": "35379919",
   "metadata": {
    "execution": {
     "iopub.execute_input": "2023-05-10T01:58:48.117940Z",
     "iopub.status.busy": "2023-05-10T01:58:48.117865Z",
     "iopub.status.idle": "2023-05-10T01:58:48.120625Z",
     "shell.execute_reply": "2023-05-10T01:58:48.120395Z"
    }
   },
   "outputs": [],
   "source": [
    "data[\"top_category_employer3\"] = data[\"top_category_employer3\"].map(lambda x: '0' if x =='N/A' else x)"
   ]
  },
  {
   "cell_type": "code",
   "execution_count": 124,
   "id": "110d8fa8",
   "metadata": {
    "execution": {
     "iopub.execute_input": "2023-05-10T01:58:48.121975Z",
     "iopub.status.busy": "2023-05-10T01:58:48.121894Z",
     "iopub.status.idle": "2023-05-10T01:58:48.132012Z",
     "shell.execute_reply": "2023-05-10T01:58:48.131746Z"
    }
   },
   "outputs": [],
   "source": [
    "data = data.fillna(0)"
   ]
  },
  {
   "cell_type": "code",
   "execution_count": 125,
   "id": "6af7dced",
   "metadata": {
    "execution": {
     "iopub.execute_input": "2023-05-10T01:58:48.133499Z",
     "iopub.status.busy": "2023-05-10T01:58:48.133411Z",
     "iopub.status.idle": "2023-05-10T01:58:48.136973Z",
     "shell.execute_reply": "2023-05-10T01:58:48.136737Z"
    }
   },
   "outputs": [
    {
     "data": {
      "text/plain": [
       "0        32.0\n",
       "1        48.5\n",
       "2        56.0\n",
       "3        56.0\n",
       "4        72.0\n",
       "         ... \n",
       "16828    56.0\n",
       "16829    56.0\n",
       "16830    56.0\n",
       "16831    23.0\n",
       "16832    23.0\n",
       "Name: top_category_employer1, Length: 16833, dtype: float64"
      ]
     },
     "execution_count": 125,
     "metadata": {},
     "output_type": "execute_result"
    }
   ],
   "source": [
    "data['top_category_employer1'].astype(float)"
   ]
  },
  {
   "cell_type": "code",
   "execution_count": 126,
   "id": "f5d2f853",
   "metadata": {
    "execution": {
     "iopub.execute_input": "2023-05-10T01:58:48.138325Z",
     "iopub.status.busy": "2023-05-10T01:58:48.138241Z",
     "iopub.status.idle": "2023-05-10T01:58:48.139854Z",
     "shell.execute_reply": "2023-05-10T01:58:48.139613Z"
    }
   },
   "outputs": [],
   "source": [
    "query = \"\"\"\n",
    "SELECT *\n",
    "FROM `ironhacks-data.ironhacks_competition.wage_data`\n",
    "\"\"\""
   ]
  },
  {
   "cell_type": "code",
   "execution_count": 127,
   "id": "10c2720e",
   "metadata": {
    "execution": {
     "iopub.execute_input": "2023-05-10T01:58:48.141168Z",
     "iopub.status.busy": "2023-05-10T01:58:48.141092Z",
     "iopub.status.idle": "2023-05-10T01:58:49.454704Z",
     "shell.execute_reply": "2023-05-10T01:58:49.453736Z"
    }
   },
   "outputs": [
    {
     "data": {
      "text/html": [
       "<div>\n",
       "<style scoped>\n",
       "    .dataframe tbody tr th:only-of-type {\n",
       "        vertical-align: middle;\n",
       "    }\n",
       "\n",
       "    .dataframe tbody tr th {\n",
       "        vertical-align: top;\n",
       "    }\n",
       "\n",
       "    .dataframe thead th {\n",
       "        text-align: right;\n",
       "    }\n",
       "</style>\n",
       "<table border=\"1\" class=\"dataframe\">\n",
       "  <thead>\n",
       "    <tr style=\"text-align: right;\">\n",
       "      <th></th>\n",
       "      <th>uu_id</th>\n",
       "      <th>countyfips</th>\n",
       "      <th>tract</th>\n",
       "      <th>tract_name</th>\n",
       "      <th>average_wage</th>\n",
       "    </tr>\n",
       "  </thead>\n",
       "  <tbody>\n",
       "    <tr>\n",
       "      <th>0</th>\n",
       "      <td>585f8731c2255d6b3f817a31180848b9</td>\n",
       "      <td>18177</td>\n",
       "      <td>200</td>\n",
       "      <td>Census Tract 2, Wayne County, Indiana</td>\n",
       "      <td>6612.000000</td>\n",
       "    </tr>\n",
       "    <tr>\n",
       "      <th>1</th>\n",
       "      <td>8c9d2aa90948679972a9382aadcc6001</td>\n",
       "      <td>18177</td>\n",
       "      <td>900</td>\n",
       "      <td>Census Tract 9, Wayne County, Indiana</td>\n",
       "      <td>9883.250000</td>\n",
       "    </tr>\n",
       "    <tr>\n",
       "      <th>2</th>\n",
       "      <td>0f3d45341a5b113b813ffb7be7f58bab</td>\n",
       "      <td>18183</td>\n",
       "      <td>50300</td>\n",
       "      <td>Census Tract 503, Whitley County, Indiana</td>\n",
       "      <td>13992.250000</td>\n",
       "    </tr>\n",
       "    <tr>\n",
       "      <th>3</th>\n",
       "      <td>fb55464f8e34af6d750d06968bf719b8</td>\n",
       "      <td>18183</td>\n",
       "      <td>50400</td>\n",
       "      <td>Census Tract 504, Whitley County, Indiana</td>\n",
       "      <td>13613.500000</td>\n",
       "    </tr>\n",
       "    <tr>\n",
       "      <th>4</th>\n",
       "      <td>983badfd7b568728e39a2344a9006078</td>\n",
       "      <td>18001</td>\n",
       "      <td>30200</td>\n",
       "      <td>Census Tract 302, Adams County, Indiana</td>\n",
       "      <td>11816.666667</td>\n",
       "    </tr>\n",
       "  </tbody>\n",
       "</table>\n",
       "</div>"
      ],
      "text/plain": [
       "                              uu_id  countyfips  tract  \\\n",
       "0  585f8731c2255d6b3f817a31180848b9       18177    200   \n",
       "1  8c9d2aa90948679972a9382aadcc6001       18177    900   \n",
       "2  0f3d45341a5b113b813ffb7be7f58bab       18183  50300   \n",
       "3  fb55464f8e34af6d750d06968bf719b8       18183  50400   \n",
       "4  983badfd7b568728e39a2344a9006078       18001  30200   \n",
       "\n",
       "                                  tract_name  average_wage  \n",
       "0      Census Tract 2, Wayne County, Indiana   6612.000000  \n",
       "1      Census Tract 9, Wayne County, Indiana   9883.250000  \n",
       "2  Census Tract 503, Whitley County, Indiana  13992.250000  \n",
       "3  Census Tract 504, Whitley County, Indiana  13613.500000  \n",
       "4    Census Tract 302, Adams County, Indiana  11816.666667  "
      ]
     },
     "execution_count": 127,
     "metadata": {},
     "output_type": "execute_result"
    }
   ],
   "source": [
    "# QUERY THE DATA ONCE\n",
    "query_job = bigquery_client.query(query)\n",
    "wage_data = query_job.to_dataframe()\n",
    "wage_data.head()"
   ]
  },
  {
   "cell_type": "code",
   "execution_count": 128,
   "id": "49204203",
   "metadata": {
    "execution": {
     "iopub.execute_input": "2023-05-10T01:58:49.459691Z",
     "iopub.status.busy": "2023-05-10T01:58:49.459160Z",
     "iopub.status.idle": "2023-05-10T01:58:49.463645Z",
     "shell.execute_reply": "2023-05-10T01:58:49.462890Z"
    }
   },
   "outputs": [],
   "source": [
    "query = \"\"\"\n",
    "SELECT *\n",
    "FROM `ironhacks-data.ironhacks_competition.prediction_list`\n",
    "\"\"\""
   ]
  },
  {
   "cell_type": "code",
   "execution_count": 129,
   "id": "f932f808",
   "metadata": {
    "execution": {
     "iopub.execute_input": "2023-05-10T01:58:49.467147Z",
     "iopub.status.busy": "2023-05-10T01:58:49.466794Z",
     "iopub.status.idle": "2023-05-10T01:58:50.835200Z",
     "shell.execute_reply": "2023-05-10T01:58:50.833986Z"
    }
   },
   "outputs": [
    {
     "data": {
      "text/html": [
       "<div>\n",
       "<style scoped>\n",
       "    .dataframe tbody tr th:only-of-type {\n",
       "        vertical-align: middle;\n",
       "    }\n",
       "\n",
       "    .dataframe tbody tr th {\n",
       "        vertical-align: top;\n",
       "    }\n",
       "\n",
       "    .dataframe thead th {\n",
       "        text-align: right;\n",
       "    }\n",
       "</style>\n",
       "<table border=\"1\" class=\"dataframe\">\n",
       "  <thead>\n",
       "    <tr style=\"text-align: right;\">\n",
       "      <th></th>\n",
       "      <th>uu_id</th>\n",
       "      <th>week_number</th>\n",
       "    </tr>\n",
       "  </thead>\n",
       "  <tbody>\n",
       "    <tr>\n",
       "      <th>0</th>\n",
       "      <td>5bf51fc2e162d6faf9e3cf79e4198378</td>\n",
       "      <td>44</td>\n",
       "    </tr>\n",
       "    <tr>\n",
       "      <th>1</th>\n",
       "      <td>420b44cc7e3f55d738df565421e59941</td>\n",
       "      <td>44</td>\n",
       "    </tr>\n",
       "    <tr>\n",
       "      <th>2</th>\n",
       "      <td>e39c66ecceec76ee8f9f811fa4a2d246</td>\n",
       "      <td>44</td>\n",
       "    </tr>\n",
       "    <tr>\n",
       "      <th>3</th>\n",
       "      <td>a90462cd11ae4e43144239bf7c4828a4</td>\n",
       "      <td>44</td>\n",
       "    </tr>\n",
       "    <tr>\n",
       "      <th>4</th>\n",
       "      <td>8b20a6749088c7ff1237983076ebfeaa</td>\n",
       "      <td>44</td>\n",
       "    </tr>\n",
       "  </tbody>\n",
       "</table>\n",
       "</div>"
      ],
      "text/plain": [
       "                              uu_id  week_number\n",
       "0  5bf51fc2e162d6faf9e3cf79e4198378           44\n",
       "1  420b44cc7e3f55d738df565421e59941           44\n",
       "2  e39c66ecceec76ee8f9f811fa4a2d246           44\n",
       "3  a90462cd11ae4e43144239bf7c4828a4           44\n",
       "4  8b20a6749088c7ff1237983076ebfeaa           44"
      ]
     },
     "execution_count": 129,
     "metadata": {},
     "output_type": "execute_result"
    }
   ],
   "source": [
    "# QUERY THE DATA ONCE\n",
    "query_job = bigquery_client.query(query)\n",
    "predict = query_job.to_dataframe()\n",
    "predict.head()"
   ]
  },
  {
   "cell_type": "code",
   "execution_count": 130,
   "id": "6bc5dc51",
   "metadata": {
    "execution": {
     "iopub.execute_input": "2023-05-10T01:58:50.840229Z",
     "iopub.status.busy": "2023-05-10T01:58:50.839822Z",
     "iopub.status.idle": "2023-05-10T01:58:50.861845Z",
     "shell.execute_reply": "2023-05-10T01:58:50.861499Z"
    }
   },
   "outputs": [
    {
     "name": "stderr",
     "output_type": "stream",
     "text": [
      "/var/folders/l2/cnhff0_n1470l4xf0p7v7l_40000gn/T/ipykernel_17195/1140161251.py:1: FutureWarning: The default value of numeric_only in DataFrameGroupBy.mean is deprecated. In a future version, numeric_only will default to False. Either specify numeric_only or select only columns which should be valid for the function.\n",
      "  predict = data.groupby(by=[\"uu_id\"]).mean()\n"
     ]
    },
    {
     "data": {
      "text/html": [
       "<div>\n",
       "<style scoped>\n",
       "    .dataframe tbody tr th:only-of-type {\n",
       "        vertical-align: middle;\n",
       "    }\n",
       "\n",
       "    .dataframe tbody tr th {\n",
       "        vertical-align: top;\n",
       "    }\n",
       "\n",
       "    .dataframe thead th {\n",
       "        text-align: right;\n",
       "    }\n",
       "</style>\n",
       "<table border=\"1\" class=\"dataframe\">\n",
       "  <thead>\n",
       "    <tr style=\"text-align: right;\">\n",
       "      <th></th>\n",
       "      <th>timeperiod</th>\n",
       "      <th>week_number</th>\n",
       "      <th>countyfips</th>\n",
       "      <th>tract</th>\n",
       "      <th>total_claims</th>\n",
       "      <th>edu_8th_or_less</th>\n",
       "      <th>edu_grades_9_11</th>\n",
       "      <th>edu_hs_grad_equiv</th>\n",
       "      <th>edu_post_hs</th>\n",
       "      <th>edu_unknown</th>\n",
       "      <th>gender_female</th>\n",
       "      <th>gender_male</th>\n",
       "      <th>gender_na</th>\n",
       "      <th>race_amerindian</th>\n",
       "      <th>race_asian</th>\n",
       "      <th>race_black</th>\n",
       "      <th>race_noanswer</th>\n",
       "      <th>race_hawaiiannative</th>\n",
       "      <th>race_other</th>\n",
       "      <th>race_white</th>\n",
       "    </tr>\n",
       "    <tr>\n",
       "      <th>uu_id</th>\n",
       "      <th></th>\n",
       "      <th></th>\n",
       "      <th></th>\n",
       "      <th></th>\n",
       "      <th></th>\n",
       "      <th></th>\n",
       "      <th></th>\n",
       "      <th></th>\n",
       "      <th></th>\n",
       "      <th></th>\n",
       "      <th></th>\n",
       "      <th></th>\n",
       "      <th></th>\n",
       "      <th></th>\n",
       "      <th></th>\n",
       "      <th></th>\n",
       "      <th></th>\n",
       "      <th></th>\n",
       "      <th></th>\n",
       "      <th></th>\n",
       "    </tr>\n",
       "  </thead>\n",
       "  <tbody>\n",
       "    <tr>\n",
       "      <th>001cd9ae23064d7f0fd3cd327c873d8d</th>\n",
       "      <td>20220843.272727</td>\n",
       "      <td>34.636364</td>\n",
       "      <td>18099.0</td>\n",
       "      <td>20102.0</td>\n",
       "      <td>15.454545</td>\n",
       "      <td>0.0</td>\n",
       "      <td>0.0</td>\n",
       "      <td>2.727273</td>\n",
       "      <td>0.0</td>\n",
       "      <td>0.0</td>\n",
       "      <td>0.0</td>\n",
       "      <td>4.0</td>\n",
       "      <td>0.0</td>\n",
       "      <td>0.0</td>\n",
       "      <td>0.0</td>\n",
       "      <td>0.0</td>\n",
       "      <td>0.0</td>\n",
       "      <td>0.0</td>\n",
       "      <td>0.0</td>\n",
       "      <td>4.909091</td>\n",
       "    </tr>\n",
       "    <tr>\n",
       "      <th>005be9532fd717dc36d4be318fd9ad25</th>\n",
       "      <td>20220584.029412</td>\n",
       "      <td>23.117647</td>\n",
       "      <td>18039.0</td>\n",
       "      <td>802.0</td>\n",
       "      <td>32.852941</td>\n",
       "      <td>0.0</td>\n",
       "      <td>0.0</td>\n",
       "      <td>15.764706</td>\n",
       "      <td>3.058824</td>\n",
       "      <td>0.0</td>\n",
       "      <td>8.735294</td>\n",
       "      <td>14.117647</td>\n",
       "      <td>0.0</td>\n",
       "      <td>0.0</td>\n",
       "      <td>0.0</td>\n",
       "      <td>0.0</td>\n",
       "      <td>0.0</td>\n",
       "      <td>0.0</td>\n",
       "      <td>0.0</td>\n",
       "      <td>21.735294</td>\n",
       "    </tr>\n",
       "    <tr>\n",
       "      <th>007c1caccff1fbb3a0b8a10790f77141</th>\n",
       "      <td>20220497.8</td>\n",
       "      <td>19.4</td>\n",
       "      <td>18081.0</td>\n",
       "      <td>610900.0</td>\n",
       "      <td>18.88</td>\n",
       "      <td>0.0</td>\n",
       "      <td>0.0</td>\n",
       "      <td>6.76</td>\n",
       "      <td>0.0</td>\n",
       "      <td>0.0</td>\n",
       "      <td>0.44</td>\n",
       "      <td>0.4</td>\n",
       "      <td>0.0</td>\n",
       "      <td>0.0</td>\n",
       "      <td>0.0</td>\n",
       "      <td>3.68</td>\n",
       "      <td>0.0</td>\n",
       "      <td>0.0</td>\n",
       "      <td>0.0</td>\n",
       "      <td>10.12</td>\n",
       "    </tr>\n",
       "    <tr>\n",
       "      <th>009683350b175edfc6414d664e4ba873</th>\n",
       "      <td>20220447.217391</td>\n",
       "      <td>17.086957</td>\n",
       "      <td>18089.0</td>\n",
       "      <td>42801.0</td>\n",
       "      <td>19.130435</td>\n",
       "      <td>0.0</td>\n",
       "      <td>0.0</td>\n",
       "      <td>3.478261</td>\n",
       "      <td>1.956522</td>\n",
       "      <td>0.565217</td>\n",
       "      <td>0.565217</td>\n",
       "      <td>1.478261</td>\n",
       "      <td>0.0</td>\n",
       "      <td>0.0</td>\n",
       "      <td>0.0</td>\n",
       "      <td>3.695652</td>\n",
       "      <td>0.0</td>\n",
       "      <td>0.0</td>\n",
       "      <td>0.0</td>\n",
       "      <td>4.869565</td>\n",
       "    </tr>\n",
       "    <tr>\n",
       "      <th>00f962ce727b8dbbf20925abd5a253dd</th>\n",
       "      <td>20220550.595238</td>\n",
       "      <td>21.785714</td>\n",
       "      <td>18097.0</td>\n",
       "      <td>330900.0</td>\n",
       "      <td>39.52381</td>\n",
       "      <td>0.0</td>\n",
       "      <td>1.047619</td>\n",
       "      <td>16.880952</td>\n",
       "      <td>7.428571</td>\n",
       "      <td>0.238095</td>\n",
       "      <td>18.214286</td>\n",
       "      <td>12.119048</td>\n",
       "      <td>0.0</td>\n",
       "      <td>0.0</td>\n",
       "      <td>0.0</td>\n",
       "      <td>27.095238</td>\n",
       "      <td>0.0</td>\n",
       "      <td>0.0</td>\n",
       "      <td>0.285714</td>\n",
       "      <td>0.0</td>\n",
       "    </tr>\n",
       "    <tr>\n",
       "      <th>...</th>\n",
       "      <td>...</td>\n",
       "      <td>...</td>\n",
       "      <td>...</td>\n",
       "      <td>...</td>\n",
       "      <td>...</td>\n",
       "      <td>...</td>\n",
       "      <td>...</td>\n",
       "      <td>...</td>\n",
       "      <td>...</td>\n",
       "      <td>...</td>\n",
       "      <td>...</td>\n",
       "      <td>...</td>\n",
       "      <td>...</td>\n",
       "      <td>...</td>\n",
       "      <td>...</td>\n",
       "      <td>...</td>\n",
       "      <td>...</td>\n",
       "      <td>...</td>\n",
       "      <td>...</td>\n",
       "      <td>...</td>\n",
       "    </tr>\n",
       "    <tr>\n",
       "      <th>fcf9f3effa992cfd552696e4ae7219b6</th>\n",
       "      <td>20220552.6</td>\n",
       "      <td>21.9</td>\n",
       "      <td>18097.0</td>\n",
       "      <td>330103.0</td>\n",
       "      <td>16.275</td>\n",
       "      <td>0.0</td>\n",
       "      <td>0.0</td>\n",
       "      <td>0.725</td>\n",
       "      <td>6.225</td>\n",
       "      <td>0.0</td>\n",
       "      <td>1.35</td>\n",
       "      <td>1.425</td>\n",
       "      <td>0.0</td>\n",
       "      <td>0.0</td>\n",
       "      <td>0.0</td>\n",
       "      <td>0.875</td>\n",
       "      <td>0.0</td>\n",
       "      <td>0.0</td>\n",
       "      <td>0.0</td>\n",
       "      <td>2.4</td>\n",
       "    </tr>\n",
       "    <tr>\n",
       "      <th>fcfc60d8240e5a51f878fd92e2a352a3</th>\n",
       "      <td>20220510.941176</td>\n",
       "      <td>19.970588</td>\n",
       "      <td>18157.0</td>\n",
       "      <td>1300.0</td>\n",
       "      <td>19.705882</td>\n",
       "      <td>0.0</td>\n",
       "      <td>0.764706</td>\n",
       "      <td>6.029412</td>\n",
       "      <td>2.676471</td>\n",
       "      <td>0.0</td>\n",
       "      <td>0.441176</td>\n",
       "      <td>0.382353</td>\n",
       "      <td>0.0</td>\n",
       "      <td>0.0</td>\n",
       "      <td>0.0</td>\n",
       "      <td>0.882353</td>\n",
       "      <td>0.0</td>\n",
       "      <td>0.0</td>\n",
       "      <td>1.882353</td>\n",
       "      <td>3.147059</td>\n",
       "    </tr>\n",
       "    <tr>\n",
       "      <th>fd613eba867c6ad7350a937f743b88f2</th>\n",
       "      <td>20220532.514286</td>\n",
       "      <td>21.057143</td>\n",
       "      <td>18003.0</td>\n",
       "      <td>11304.0</td>\n",
       "      <td>21.485714</td>\n",
       "      <td>0.0</td>\n",
       "      <td>1.028571</td>\n",
       "      <td>5.771429</td>\n",
       "      <td>3.085714</td>\n",
       "      <td>0.0</td>\n",
       "      <td>2.971429</td>\n",
       "      <td>3.028571</td>\n",
       "      <td>0.0</td>\n",
       "      <td>0.0</td>\n",
       "      <td>0.0</td>\n",
       "      <td>7.828571</td>\n",
       "      <td>0.0</td>\n",
       "      <td>0.0</td>\n",
       "      <td>0.571429</td>\n",
       "      <td>0.714286</td>\n",
       "    </tr>\n",
       "    <tr>\n",
       "      <th>fe355ff27aa8b2242a558d5e3ec99c18</th>\n",
       "      <td>20220521.7</td>\n",
       "      <td>20.566667</td>\n",
       "      <td>18053.0</td>\n",
       "      <td>600.0</td>\n",
       "      <td>15.666667</td>\n",
       "      <td>0.0</td>\n",
       "      <td>0.0</td>\n",
       "      <td>3.666667</td>\n",
       "      <td>0.0</td>\n",
       "      <td>0.0</td>\n",
       "      <td>1.266667</td>\n",
       "      <td>1.333333</td>\n",
       "      <td>0.0</td>\n",
       "      <td>0.0</td>\n",
       "      <td>0.0</td>\n",
       "      <td>0.6</td>\n",
       "      <td>0.0</td>\n",
       "      <td>0.0</td>\n",
       "      <td>0.0</td>\n",
       "      <td>2.866667</td>\n",
       "    </tr>\n",
       "    <tr>\n",
       "      <th>fec479d0202d6e1e3f051a9ee902ff5d</th>\n",
       "      <td>20220550.595238</td>\n",
       "      <td>21.785714</td>\n",
       "      <td>18089.0</td>\n",
       "      <td>43300.0</td>\n",
       "      <td>30.404762</td>\n",
       "      <td>0.0</td>\n",
       "      <td>0.261905</td>\n",
       "      <td>4.190476</td>\n",
       "      <td>12.285714</td>\n",
       "      <td>0.0</td>\n",
       "      <td>9.166667</td>\n",
       "      <td>12.690476</td>\n",
       "      <td>0.0</td>\n",
       "      <td>0.0</td>\n",
       "      <td>0.0</td>\n",
       "      <td>0.333333</td>\n",
       "      <td>0.0</td>\n",
       "      <td>0.0</td>\n",
       "      <td>0.0</td>\n",
       "      <td>23.047619</td>\n",
       "    </tr>\n",
       "  </tbody>\n",
       "</table>\n",
       "<p>525 rows × 20 columns</p>\n",
       "</div>"
      ],
      "text/plain": [
       "                                       timeperiod  week_number  countyfips  \\\n",
       "uu_id                                                                        \n",
       "001cd9ae23064d7f0fd3cd327c873d8d  20220843.272727    34.636364     18099.0   \n",
       "005be9532fd717dc36d4be318fd9ad25  20220584.029412    23.117647     18039.0   \n",
       "007c1caccff1fbb3a0b8a10790f77141       20220497.8         19.4     18081.0   \n",
       "009683350b175edfc6414d664e4ba873  20220447.217391    17.086957     18089.0   \n",
       "00f962ce727b8dbbf20925abd5a253dd  20220550.595238    21.785714     18097.0   \n",
       "...                                           ...          ...         ...   \n",
       "fcf9f3effa992cfd552696e4ae7219b6       20220552.6         21.9     18097.0   \n",
       "fcfc60d8240e5a51f878fd92e2a352a3  20220510.941176    19.970588     18157.0   \n",
       "fd613eba867c6ad7350a937f743b88f2  20220532.514286    21.057143     18003.0   \n",
       "fe355ff27aa8b2242a558d5e3ec99c18       20220521.7    20.566667     18053.0   \n",
       "fec479d0202d6e1e3f051a9ee902ff5d  20220550.595238    21.785714     18089.0   \n",
       "\n",
       "                                     tract  total_claims  edu_8th_or_less  \\\n",
       "uu_id                                                                       \n",
       "001cd9ae23064d7f0fd3cd327c873d8d   20102.0     15.454545              0.0   \n",
       "005be9532fd717dc36d4be318fd9ad25     802.0     32.852941              0.0   \n",
       "007c1caccff1fbb3a0b8a10790f77141  610900.0         18.88              0.0   \n",
       "009683350b175edfc6414d664e4ba873   42801.0     19.130435              0.0   \n",
       "00f962ce727b8dbbf20925abd5a253dd  330900.0      39.52381              0.0   \n",
       "...                                    ...           ...              ...   \n",
       "fcf9f3effa992cfd552696e4ae7219b6  330103.0        16.275              0.0   \n",
       "fcfc60d8240e5a51f878fd92e2a352a3    1300.0     19.705882              0.0   \n",
       "fd613eba867c6ad7350a937f743b88f2   11304.0     21.485714              0.0   \n",
       "fe355ff27aa8b2242a558d5e3ec99c18     600.0     15.666667              0.0   \n",
       "fec479d0202d6e1e3f051a9ee902ff5d   43300.0     30.404762              0.0   \n",
       "\n",
       "                                  edu_grades_9_11  edu_hs_grad_equiv  \\\n",
       "uu_id                                                                  \n",
       "001cd9ae23064d7f0fd3cd327c873d8d              0.0           2.727273   \n",
       "005be9532fd717dc36d4be318fd9ad25              0.0          15.764706   \n",
       "007c1caccff1fbb3a0b8a10790f77141              0.0               6.76   \n",
       "009683350b175edfc6414d664e4ba873              0.0           3.478261   \n",
       "00f962ce727b8dbbf20925abd5a253dd         1.047619          16.880952   \n",
       "...                                           ...                ...   \n",
       "fcf9f3effa992cfd552696e4ae7219b6              0.0              0.725   \n",
       "fcfc60d8240e5a51f878fd92e2a352a3         0.764706           6.029412   \n",
       "fd613eba867c6ad7350a937f743b88f2         1.028571           5.771429   \n",
       "fe355ff27aa8b2242a558d5e3ec99c18              0.0           3.666667   \n",
       "fec479d0202d6e1e3f051a9ee902ff5d         0.261905           4.190476   \n",
       "\n",
       "                                  edu_post_hs  edu_unknown  gender_female  \\\n",
       "uu_id                                                                       \n",
       "001cd9ae23064d7f0fd3cd327c873d8d          0.0          0.0            0.0   \n",
       "005be9532fd717dc36d4be318fd9ad25     3.058824          0.0       8.735294   \n",
       "007c1caccff1fbb3a0b8a10790f77141          0.0          0.0           0.44   \n",
       "009683350b175edfc6414d664e4ba873     1.956522     0.565217       0.565217   \n",
       "00f962ce727b8dbbf20925abd5a253dd     7.428571     0.238095      18.214286   \n",
       "...                                       ...          ...            ...   \n",
       "fcf9f3effa992cfd552696e4ae7219b6        6.225          0.0           1.35   \n",
       "fcfc60d8240e5a51f878fd92e2a352a3     2.676471          0.0       0.441176   \n",
       "fd613eba867c6ad7350a937f743b88f2     3.085714          0.0       2.971429   \n",
       "fe355ff27aa8b2242a558d5e3ec99c18          0.0          0.0       1.266667   \n",
       "fec479d0202d6e1e3f051a9ee902ff5d    12.285714          0.0       9.166667   \n",
       "\n",
       "                                  gender_male  gender_na  race_amerindian  \\\n",
       "uu_id                                                                       \n",
       "001cd9ae23064d7f0fd3cd327c873d8d          4.0        0.0              0.0   \n",
       "005be9532fd717dc36d4be318fd9ad25    14.117647        0.0              0.0   \n",
       "007c1caccff1fbb3a0b8a10790f77141          0.4        0.0              0.0   \n",
       "009683350b175edfc6414d664e4ba873     1.478261        0.0              0.0   \n",
       "00f962ce727b8dbbf20925abd5a253dd    12.119048        0.0              0.0   \n",
       "...                                       ...        ...              ...   \n",
       "fcf9f3effa992cfd552696e4ae7219b6        1.425        0.0              0.0   \n",
       "fcfc60d8240e5a51f878fd92e2a352a3     0.382353        0.0              0.0   \n",
       "fd613eba867c6ad7350a937f743b88f2     3.028571        0.0              0.0   \n",
       "fe355ff27aa8b2242a558d5e3ec99c18     1.333333        0.0              0.0   \n",
       "fec479d0202d6e1e3f051a9ee902ff5d    12.690476        0.0              0.0   \n",
       "\n",
       "                                  race_asian  race_black  race_noanswer  \\\n",
       "uu_id                                                                     \n",
       "001cd9ae23064d7f0fd3cd327c873d8d         0.0         0.0            0.0   \n",
       "005be9532fd717dc36d4be318fd9ad25         0.0         0.0            0.0   \n",
       "007c1caccff1fbb3a0b8a10790f77141         0.0        3.68            0.0   \n",
       "009683350b175edfc6414d664e4ba873         0.0    3.695652            0.0   \n",
       "00f962ce727b8dbbf20925abd5a253dd         0.0   27.095238            0.0   \n",
       "...                                      ...         ...            ...   \n",
       "fcf9f3effa992cfd552696e4ae7219b6         0.0       0.875            0.0   \n",
       "fcfc60d8240e5a51f878fd92e2a352a3         0.0    0.882353            0.0   \n",
       "fd613eba867c6ad7350a937f743b88f2         0.0    7.828571            0.0   \n",
       "fe355ff27aa8b2242a558d5e3ec99c18         0.0         0.6            0.0   \n",
       "fec479d0202d6e1e3f051a9ee902ff5d         0.0    0.333333            0.0   \n",
       "\n",
       "                                  race_hawaiiannative  race_other  race_white  \n",
       "uu_id                                                                          \n",
       "001cd9ae23064d7f0fd3cd327c873d8d                  0.0         0.0    4.909091  \n",
       "005be9532fd717dc36d4be318fd9ad25                  0.0         0.0   21.735294  \n",
       "007c1caccff1fbb3a0b8a10790f77141                  0.0         0.0       10.12  \n",
       "009683350b175edfc6414d664e4ba873                  0.0         0.0    4.869565  \n",
       "00f962ce727b8dbbf20925abd5a253dd                  0.0    0.285714         0.0  \n",
       "...                                               ...         ...         ...  \n",
       "fcf9f3effa992cfd552696e4ae7219b6                  0.0         0.0         2.4  \n",
       "fcfc60d8240e5a51f878fd92e2a352a3                  0.0    1.882353    3.147059  \n",
       "fd613eba867c6ad7350a937f743b88f2                  0.0    0.571429    0.714286  \n",
       "fe355ff27aa8b2242a558d5e3ec99c18                  0.0         0.0    2.866667  \n",
       "fec479d0202d6e1e3f051a9ee902ff5d                  0.0         0.0   23.047619  \n",
       "\n",
       "[525 rows x 20 columns]"
      ]
     },
     "execution_count": 130,
     "metadata": {},
     "output_type": "execute_result"
    }
   ],
   "source": [
    "predict = data.groupby(by=[\"uu_id\"]).mean()\n",
    "predict"
   ]
  },
  {
   "cell_type": "code",
   "execution_count": 131,
   "id": "45247501",
   "metadata": {
    "execution": {
     "iopub.execute_input": "2023-05-10T01:58:50.863540Z",
     "iopub.status.busy": "2023-05-10T01:58:50.863417Z",
     "iopub.status.idle": "2023-05-10T01:58:50.873165Z",
     "shell.execute_reply": "2023-05-10T01:58:50.872818Z"
    }
   },
   "outputs": [
    {
     "data": {
      "text/plain": [
       "<bound method DataFrame.info of                                   uu_id  timeperiod  week_number  countyfips  \\\n",
       "0      f013068de98db1470bd986137a0c6d23    20220416           16       18003   \n",
       "1      21957d5517323845818d87623589e1ba    20220319           12       18089   \n",
       "2      6a5609f385912113b6f1014b958ed748    20220326           13       18089   \n",
       "3      46b2882ec4c373527ec33f7bd4f1388d    20220716           29       18089   \n",
       "4      37495d17e82f7df326bfc2c4c090f7b7    20220409           15       18089   \n",
       "...                                 ...         ...          ...         ...   \n",
       "16828  f35320206f3dd1ffc411e4ac127caf92    20220618           25       18163   \n",
       "16829  f35320206f3dd1ffc411e4ac127caf92    20220827           35       18163   \n",
       "16830  f35320206f3dd1ffc411e4ac127caf92    20220827           35       18163   \n",
       "16831  bbcb018f0e5e49e13636f6e78ce9f60f    20220326           13       18163   \n",
       "16832  bbcb018f0e5e49e13636f6e78ce9f60f    20220416           16       18163   \n",
       "\n",
       "       tract                                        tract_name  total_claims  \\\n",
       "0        900             Census Tract 9, Allen County, Indiana            22   \n",
       "1      10400            Census Tract 104, Lake County, Indiana           111   \n",
       "2      11500            Census Tract 115, Lake County, Indiana            39   \n",
       "3      20700            Census Tract 207, Lake County, Indiana            14   \n",
       "4      21900            Census Tract 219, Lake County, Indiana           155   \n",
       "...      ...                                               ...           ...   \n",
       "16828   3804   Census Tract 38.04, Vanderburgh County, Indiana            21   \n",
       "16829   3804   Census Tract 38.04, Vanderburgh County, Indiana            22   \n",
       "16830   3804   Census Tract 38.04, Vanderburgh County, Indiana            22   \n",
       "16831  10203  Census Tract 102.03, Vanderburgh County, Indiana            53   \n",
       "16832  10203  Census Tract 102.03, Vanderburgh County, Indiana            24   \n",
       "\n",
       "       edu_8th_or_less  edu_grades_9_11  edu_hs_grad_equiv  ...  \\\n",
       "0                    0                0                 14  ...   \n",
       "1                    0                0                108  ...   \n",
       "2                    0                0                  0  ...   \n",
       "3                    0                0                  0  ...   \n",
       "4                    0                0                 69  ...   \n",
       "...                ...              ...                ...  ...   \n",
       "16828                0                0                  0  ...   \n",
       "16829                0                0                 13  ...   \n",
       "16830                0                0                 13  ...   \n",
       "16831                0                0                 48  ...   \n",
       "16832                0                0                 18  ...   \n",
       "\n",
       "       gender_female  gender_male gender_na race_amerindian race_asian  \\\n",
       "0                  0            0         0               0          0   \n",
       "1                 76           35         0               0          0   \n",
       "2                  0            0         0               0          0   \n",
       "3                  0            0         0               0          0   \n",
       "4                 90           65         0               0          0   \n",
       "...              ...          ...       ...             ...        ...   \n",
       "16828              0            0         0               0          0   \n",
       "16829              0            0         0               0          0   \n",
       "16830              0            0         0               0          0   \n",
       "16831              0            0         0               0          0   \n",
       "16832             11           13         0               0          0   \n",
       "\n",
       "       race_black  race_noanswer  race_hawaiiannative  race_other  race_white  \n",
       "0              11              0                    0           0           0  \n",
       "1               0              0                    0           0           0  \n",
       "2              39              0                    0           0           0  \n",
       "3              10              0                    0           0           0  \n",
       "4             135              0                    0           0           0  \n",
       "...           ...            ...                  ...         ...         ...  \n",
       "16828           0              0                    0           0          14  \n",
       "16829           0              0                    0           0           0  \n",
       "16830           0              0                    0           0           0  \n",
       "16831           0              0                    0           0           0  \n",
       "16832           0              0                    0           0           0  \n",
       "\n",
       "[16833 rows x 25 columns]>"
      ]
     },
     "execution_count": 131,
     "metadata": {},
     "output_type": "execute_result"
    }
   ],
   "source": [
    "data.info"
   ]
  },
  {
   "cell_type": "code",
   "execution_count": 132,
   "id": "a3d10fd0",
   "metadata": {
    "execution": {
     "iopub.execute_input": "2023-05-10T01:58:50.874911Z",
     "iopub.status.busy": "2023-05-10T01:58:50.874766Z",
     "iopub.status.idle": "2023-05-10T01:58:51.071273Z",
     "shell.execute_reply": "2023-05-10T01:58:51.070981Z"
    }
   },
   "outputs": [
    {
     "ename": "KeyError",
     "evalue": "''",
     "output_type": "error",
     "traceback": [
      "\u001b[0;31m---------------------------------------------------------------------------\u001b[0m",
      "\u001b[0;31mKeyError\u001b[0m                                  Traceback (most recent call last)",
      "File \u001b[0;32m/opt/homebrew/lib/python3.9/site-packages/pandas/core/indexes/base.py:3803\u001b[0m, in \u001b[0;36mIndex.get_loc\u001b[0;34m(self, key, method, tolerance)\u001b[0m\n\u001b[1;32m   3802\u001b[0m \u001b[38;5;28;01mtry\u001b[39;00m:\n\u001b[0;32m-> 3803\u001b[0m     \u001b[38;5;28;01mreturn\u001b[39;00m \u001b[38;5;28;43mself\u001b[39;49m\u001b[38;5;241;43m.\u001b[39;49m\u001b[43m_engine\u001b[49m\u001b[38;5;241;43m.\u001b[39;49m\u001b[43mget_loc\u001b[49m\u001b[43m(\u001b[49m\u001b[43mcasted_key\u001b[49m\u001b[43m)\u001b[49m\n\u001b[1;32m   3804\u001b[0m \u001b[38;5;28;01mexcept\u001b[39;00m \u001b[38;5;167;01mKeyError\u001b[39;00m \u001b[38;5;28;01mas\u001b[39;00m err:\n",
      "File \u001b[0;32m/opt/homebrew/lib/python3.9/site-packages/pandas/_libs/index.pyx:138\u001b[0m, in \u001b[0;36mpandas._libs.index.IndexEngine.get_loc\u001b[0;34m()\u001b[0m\n",
      "File \u001b[0;32m/opt/homebrew/lib/python3.9/site-packages/pandas/_libs/index.pyx:165\u001b[0m, in \u001b[0;36mpandas._libs.index.IndexEngine.get_loc\u001b[0;34m()\u001b[0m\n",
      "File \u001b[0;32mpandas/_libs/hashtable_class_helper.pxi:5745\u001b[0m, in \u001b[0;36mpandas._libs.hashtable.PyObjectHashTable.get_item\u001b[0;34m()\u001b[0m\n",
      "File \u001b[0;32mpandas/_libs/hashtable_class_helper.pxi:5753\u001b[0m, in \u001b[0;36mpandas._libs.hashtable.PyObjectHashTable.get_item\u001b[0;34m()\u001b[0m\n",
      "\u001b[0;31mKeyError\u001b[0m: ''",
      "\nThe above exception was the direct cause of the following exception:\n",
      "\u001b[0;31mKeyError\u001b[0m                                  Traceback (most recent call last)",
      "Cell \u001b[0;32mIn [132], line 1\u001b[0m\n\u001b[0;32m----> 1\u001b[0m X_train \u001b[38;5;241m=\u001b[39m \u001b[43mdata\u001b[49m\u001b[43m[\u001b[49m\u001b[38;5;124;43m\"\u001b[39;49m\u001b[38;5;124;43m\"\u001b[39;49m\u001b[43m]\u001b[49m\n",
      "File \u001b[0;32m/opt/homebrew/lib/python3.9/site-packages/pandas/core/frame.py:3804\u001b[0m, in \u001b[0;36mDataFrame.__getitem__\u001b[0;34m(self, key)\u001b[0m\n\u001b[1;32m   3802\u001b[0m \u001b[38;5;28;01mif\u001b[39;00m \u001b[38;5;28mself\u001b[39m\u001b[38;5;241m.\u001b[39mcolumns\u001b[38;5;241m.\u001b[39mnlevels \u001b[38;5;241m>\u001b[39m \u001b[38;5;241m1\u001b[39m:\n\u001b[1;32m   3803\u001b[0m     \u001b[38;5;28;01mreturn\u001b[39;00m \u001b[38;5;28mself\u001b[39m\u001b[38;5;241m.\u001b[39m_getitem_multilevel(key)\n\u001b[0;32m-> 3804\u001b[0m indexer \u001b[38;5;241m=\u001b[39m \u001b[38;5;28;43mself\u001b[39;49m\u001b[38;5;241;43m.\u001b[39;49m\u001b[43mcolumns\u001b[49m\u001b[38;5;241;43m.\u001b[39;49m\u001b[43mget_loc\u001b[49m\u001b[43m(\u001b[49m\u001b[43mkey\u001b[49m\u001b[43m)\u001b[49m\n\u001b[1;32m   3805\u001b[0m \u001b[38;5;28;01mif\u001b[39;00m is_integer(indexer):\n\u001b[1;32m   3806\u001b[0m     indexer \u001b[38;5;241m=\u001b[39m [indexer]\n",
      "File \u001b[0;32m/opt/homebrew/lib/python3.9/site-packages/pandas/core/indexes/base.py:3805\u001b[0m, in \u001b[0;36mIndex.get_loc\u001b[0;34m(self, key, method, tolerance)\u001b[0m\n\u001b[1;32m   3803\u001b[0m     \u001b[38;5;28;01mreturn\u001b[39;00m \u001b[38;5;28mself\u001b[39m\u001b[38;5;241m.\u001b[39m_engine\u001b[38;5;241m.\u001b[39mget_loc(casted_key)\n\u001b[1;32m   3804\u001b[0m \u001b[38;5;28;01mexcept\u001b[39;00m \u001b[38;5;167;01mKeyError\u001b[39;00m \u001b[38;5;28;01mas\u001b[39;00m err:\n\u001b[0;32m-> 3805\u001b[0m     \u001b[38;5;28;01mraise\u001b[39;00m \u001b[38;5;167;01mKeyError\u001b[39;00m(key) \u001b[38;5;28;01mfrom\u001b[39;00m \u001b[38;5;21;01merr\u001b[39;00m\n\u001b[1;32m   3806\u001b[0m \u001b[38;5;28;01mexcept\u001b[39;00m \u001b[38;5;167;01mTypeError\u001b[39;00m:\n\u001b[1;32m   3807\u001b[0m     \u001b[38;5;66;03m# If we have a listlike key, _check_indexing_error will raise\u001b[39;00m\n\u001b[1;32m   3808\u001b[0m     \u001b[38;5;66;03m#  InvalidIndexError. Otherwise we fall through and re-raise\u001b[39;00m\n\u001b[1;32m   3809\u001b[0m     \u001b[38;5;66;03m#  the TypeError.\u001b[39;00m\n\u001b[1;32m   3810\u001b[0m     \u001b[38;5;28mself\u001b[39m\u001b[38;5;241m.\u001b[39m_check_indexing_error(key)\n",
      "\u001b[0;31mKeyError\u001b[0m: ''"
     ]
    }
   ],
   "source": [
    "X_train = data[\"\"]"
   ]
  },
  {
   "cell_type": "code",
   "execution_count": 133,
   "id": "25e96f61",
   "metadata": {
    "execution": {
     "iopub.execute_input": "2023-05-10T01:58:51.072842Z",
     "iopub.status.busy": "2023-05-10T01:58:51.072727Z",
     "iopub.status.idle": "2023-05-10T01:58:51.083084Z",
     "shell.execute_reply": "2023-05-10T01:58:51.082590Z"
    }
   },
   "outputs": [
    {
     "name": "stdout",
     "output_type": "stream",
     "text": [
      "<class 'pandas.core.frame.DataFrame'>\n",
      "RangeIndex: 16833 entries, 0 to 16832\n",
      "Data columns (total 25 columns):\n",
      " #   Column                  Non-Null Count  Dtype \n",
      "---  ------                  --------------  ----- \n",
      " 0   uu_id                   16833 non-null  object\n",
      " 1   timeperiod              16833 non-null  Int64 \n",
      " 2   week_number             16833 non-null  Int64 \n",
      " 3   countyfips              16833 non-null  Int64 \n",
      " 4   tract                   16833 non-null  Int64 \n",
      " 5   tract_name              16833 non-null  object\n",
      " 6   total_claims            16833 non-null  Int64 \n",
      " 7   edu_8th_or_less         16833 non-null  Int64 \n",
      " 8   edu_grades_9_11         16833 non-null  Int64 \n",
      " 9   edu_hs_grad_equiv       16833 non-null  Int64 \n",
      " 10  edu_post_hs             16833 non-null  Int64 \n",
      " 11  edu_unknown             16833 non-null  Int64 \n",
      " 12  top_category_employer1  16833 non-null  object\n",
      " 13  top_category_employer2  16833 non-null  object\n",
      " 14  top_category_employer3  16833 non-null  object\n",
      " 15  gender_female           16833 non-null  Int64 \n",
      " 16  gender_male             16833 non-null  Int64 \n",
      " 17  gender_na               16833 non-null  Int64 \n",
      " 18  race_amerindian         16833 non-null  Int64 \n",
      " 19  race_asian              16833 non-null  Int64 \n",
      " 20  race_black              16833 non-null  Int64 \n",
      " 21  race_noanswer           16833 non-null  Int64 \n",
      " 22  race_hawaiiannative     16833 non-null  Int64 \n",
      " 23  race_other              16833 non-null  Int64 \n",
      " 24  race_white              16833 non-null  Int64 \n",
      "dtypes: Int64(20), object(5)\n",
      "memory usage: 3.5+ MB\n"
     ]
    }
   ],
   "source": [
    "data.info()"
   ]
  },
  {
   "cell_type": "code",
   "execution_count": 134,
   "id": "5ac27689",
   "metadata": {
    "execution": {
     "iopub.execute_input": "2023-05-10T01:58:51.084943Z",
     "iopub.status.busy": "2023-05-10T01:58:51.084808Z",
     "iopub.status.idle": "2023-05-10T01:58:51.087285Z",
     "shell.execute_reply": "2023-05-10T01:58:51.087032Z"
    }
   },
   "outputs": [
    {
     "ename": "SyntaxError",
     "evalue": "invalid syntax (36781648.py, line 1)",
     "output_type": "error",
     "traceback": [
      "\u001b[0;36m  Cell \u001b[0;32mIn [134], line 1\u001b[0;36m\u001b[0m\n\u001b[0;31m    X_train = data[\"edu_8th_or_less\", \"edu_grades_9_11\", \"edu_hs_grad_equiv\", \"gender_female\", gender_male, ]X_train = data[\"edu_8th_or_less\", \"edu_grades_9_11\", \"edu_hs_grad_equiv\", \"gender_female\", \"gender_male\", \"race_amerindian\", \"race_asian\", \"race_black\", \"race_noanswer\", \"race_hawaiiannative\", \"race_other\", \"race_white\"]\u001b[0m\n\u001b[0m                                                                                                             ^\u001b[0m\n\u001b[0;31mSyntaxError\u001b[0m\u001b[0;31m:\u001b[0m invalid syntax\n"
     ]
    }
   ],
   "source": [
    "X_train = data[\"edu_8th_or_less\", \"edu_grades_9_11\", \"edu_hs_grad_equiv\", \"gender_female\", gender_male, ]X_train = data[\"edu_8th_or_less\", \"edu_grades_9_11\", \"edu_hs_grad_equiv\", \"gender_female\", \"gender_male\", \"race_amerindian\", \"race_asian\", \"race_black\", \"race_noanswer\", \"race_hawaiiannative\", \"race_other\", \"race_white\"]"
   ]
  },
  {
   "cell_type": "code",
   "execution_count": 135,
   "id": "62e9f1dc",
   "metadata": {
    "execution": {
     "iopub.execute_input": "2023-05-10T01:58:51.088659Z",
     "iopub.status.busy": "2023-05-10T01:58:51.088552Z",
     "iopub.status.idle": "2023-05-10T01:58:51.090646Z",
     "shell.execute_reply": "2023-05-10T01:58:51.090397Z"
    }
   },
   "outputs": [
    {
     "ename": "SyntaxError",
     "evalue": "invalid syntax (2761664484.py, line 1)",
     "output_type": "error",
     "traceback": [
      "\u001b[0;36m  Cell \u001b[0;32mIn [135], line 1\u001b[0;36m\u001b[0m\n\u001b[0;31m    X_train = data[[\"edu_8th_or_less\", \"edu_grades_9_11\", \"edu_hs_grad_equiv\", \"gender_female\", gender_male, ]X_train = data[\"edu_8th_or_less\", \"edu_grades_9_11\", \"edu_hs_grad_equiv\", \"gender_female\", \"gender_male\", \"race_amerindian\", \"race_asian\", \"race_black\", \"race_noanswer\", \"race_hawaiiannative\", \"race_other\", \"race_white\"]]\u001b[0m\n\u001b[0m                                                                                                              ^\u001b[0m\n\u001b[0;31mSyntaxError\u001b[0m\u001b[0;31m:\u001b[0m invalid syntax\n"
     ]
    }
   ],
   "source": [
    "X_train = data[[\"edu_8th_or_less\", \"edu_grades_9_11\", \"edu_hs_grad_equiv\", \"gender_female\", gender_male, ]X_train = data[\"edu_8th_or_less\", \"edu_grades_9_11\", \"edu_hs_grad_equiv\", \"gender_female\", \"gender_male\", \"race_amerindian\", \"race_asian\", \"race_black\", \"race_noanswer\", \"race_hawaiiannative\", \"race_other\", \"race_white\"]]"
   ]
  },
  {
   "cell_type": "code",
   "execution_count": 136,
   "id": "ae797aad",
   "metadata": {
    "execution": {
     "iopub.execute_input": "2023-05-10T01:58:51.091978Z",
     "iopub.status.busy": "2023-05-10T01:58:51.091878Z",
     "iopub.status.idle": "2023-05-10T01:58:51.093930Z",
     "shell.execute_reply": "2023-05-10T01:58:51.093707Z"
    }
   },
   "outputs": [
    {
     "ename": "SyntaxError",
     "evalue": "invalid syntax (2761664484.py, line 1)",
     "output_type": "error",
     "traceback": [
      "\u001b[0;36m  Cell \u001b[0;32mIn [136], line 1\u001b[0;36m\u001b[0m\n\u001b[0;31m    X_train = data[[\"edu_8th_or_less\", \"edu_grades_9_11\", \"edu_hs_grad_equiv\", \"gender_female\", gender_male, ]X_train = data[\"edu_8th_or_less\", \"edu_grades_9_11\", \"edu_hs_grad_equiv\", \"gender_female\", \"gender_male\", \"race_amerindian\", \"race_asian\", \"race_black\", \"race_noanswer\", \"race_hawaiiannative\", \"race_other\", \"race_white\"]]\u001b[0m\n\u001b[0m                                                                                                              ^\u001b[0m\n\u001b[0;31mSyntaxError\u001b[0m\u001b[0;31m:\u001b[0m invalid syntax\n"
     ]
    }
   ],
   "source": [
    "X_train = data[[\"edu_8th_or_less\", \"edu_grades_9_11\", \"edu_hs_grad_equiv\", \"gender_female\", gender_male, ]X_train = data[\"edu_8th_or_less\", \"edu_grades_9_11\", \"edu_hs_grad_equiv\", \"gender_female\", \"gender_male\", \"race_amerindian\", \"race_asian\", \"race_black\", \"race_noanswer\", \"race_hawaiiannative\", \"race_other\", \"race_white\"]]"
   ]
  },
  {
   "cell_type": "code",
   "execution_count": 137,
   "id": "53dcb4a8",
   "metadata": {
    "execution": {
     "iopub.execute_input": "2023-05-10T01:58:51.095258Z",
     "iopub.status.busy": "2023-05-10T01:58:51.095164Z",
     "iopub.status.idle": "2023-05-10T01:58:51.097300Z",
     "shell.execute_reply": "2023-05-10T01:58:51.097050Z"
    }
   },
   "outputs": [
    {
     "ename": "SyntaxError",
     "evalue": "invalid syntax (2761664484.py, line 1)",
     "output_type": "error",
     "traceback": [
      "\u001b[0;36m  Cell \u001b[0;32mIn [137], line 1\u001b[0;36m\u001b[0m\n\u001b[0;31m    X_train = data[[\"edu_8th_or_less\", \"edu_grades_9_11\", \"edu_hs_grad_equiv\", \"gender_female\", gender_male, ]X_train = data[\"edu_8th_or_less\", \"edu_grades_9_11\", \"edu_hs_grad_equiv\", \"gender_female\", \"gender_male\", \"race_amerindian\", \"race_asian\", \"race_black\", \"race_noanswer\", \"race_hawaiiannative\", \"race_other\", \"race_white\"]]\u001b[0m\n\u001b[0m                                                                                                              ^\u001b[0m\n\u001b[0;31mSyntaxError\u001b[0m\u001b[0;31m:\u001b[0m invalid syntax\n"
     ]
    }
   ],
   "source": [
    "X_train = data[[\"edu_8th_or_less\", \"edu_grades_9_11\", \"edu_hs_grad_equiv\", \"gender_female\", gender_male, ]X_train = data[\"edu_8th_or_less\", \"edu_grades_9_11\", \"edu_hs_grad_equiv\", \"gender_female\", \"gender_male\", \"race_amerindian\", \"race_asian\", \"race_black\", \"race_noanswer\", \"race_hawaiiannative\", \"race_other\", \"race_white\"]]"
   ]
  },
  {
   "cell_type": "code",
   "execution_count": 138,
   "id": "eab42675",
   "metadata": {
    "execution": {
     "iopub.execute_input": "2023-05-10T01:58:51.098842Z",
     "iopub.status.busy": "2023-05-10T01:58:51.098720Z",
     "iopub.status.idle": "2023-05-10T01:58:51.101253Z",
     "shell.execute_reply": "2023-05-10T01:58:51.100956Z"
    }
   },
   "outputs": [],
   "source": [
    "X_train = data.iloc[:, 7:24]"
   ]
  },
  {
   "cell_type": "code",
   "execution_count": 139,
   "id": "c396f41b",
   "metadata": {
    "execution": {
     "iopub.execute_input": "2023-05-10T01:58:51.102975Z",
     "iopub.status.busy": "2023-05-10T01:58:51.102847Z",
     "iopub.status.idle": "2023-05-10T01:58:51.104625Z",
     "shell.execute_reply": "2023-05-10T01:58:51.104341Z"
    }
   },
   "outputs": [],
   "source": [
    "y_train = data[\"total_claims\"]"
   ]
  },
  {
   "cell_type": "code",
   "execution_count": 140,
   "id": "66809d6b",
   "metadata": {
    "execution": {
     "iopub.execute_input": "2023-05-10T01:58:51.106028Z",
     "iopub.status.busy": "2023-05-10T01:58:51.105929Z",
     "iopub.status.idle": "2023-05-10T01:58:51.446402Z",
     "shell.execute_reply": "2023-05-10T01:58:51.446093Z"
    }
   },
   "outputs": [],
   "source": [
    "from sklearn.linear_model import LinearRegression"
   ]
  },
  {
   "cell_type": "code",
   "execution_count": 141,
   "id": "777194f9",
   "metadata": {
    "execution": {
     "iopub.execute_input": "2023-05-10T01:58:51.448276Z",
     "iopub.status.busy": "2023-05-10T01:58:51.448096Z",
     "iopub.status.idle": "2023-05-10T01:58:51.460202Z",
     "shell.execute_reply": "2023-05-10T01:58:51.459868Z"
    }
   },
   "outputs": [],
   "source": [
    "model = LinearRegression().fit(X_train, y_train)"
   ]
  },
  {
   "cell_type": "code",
   "execution_count": 142,
   "id": "a871859e",
   "metadata": {
    "execution": {
     "iopub.execute_input": "2023-05-10T01:58:51.461984Z",
     "iopub.status.busy": "2023-05-10T01:58:51.461889Z",
     "iopub.status.idle": "2023-05-10T01:58:51.469549Z",
     "shell.execute_reply": "2023-05-10T01:58:51.469225Z"
    }
   },
   "outputs": [
    {
     "ename": "TypeError",
     "evalue": "predict() got an unexpected keyword argument 'X_test'",
     "output_type": "error",
     "traceback": [
      "\u001b[0;31m---------------------------------------------------------------------------\u001b[0m",
      "\u001b[0;31mTypeError\u001b[0m                                 Traceback (most recent call last)",
      "Cell \u001b[0;32mIn [142], line 1\u001b[0m\n\u001b[0;32m----> 1\u001b[0m \u001b[43mmodel\u001b[49m\u001b[38;5;241;43m.\u001b[39;49m\u001b[43mpredict\u001b[49m\u001b[43m(\u001b[49m\u001b[43mX_test\u001b[49m\u001b[43m \u001b[49m\u001b[38;5;241;43m=\u001b[39;49m\u001b[43m \u001b[49m\u001b[43mpredict\u001b[49m\u001b[38;5;241;43m.\u001b[39;49m\u001b[43miloc\u001b[49m\u001b[43m[\u001b[49m\u001b[43m:\u001b[49m\u001b[43m,\u001b[49m\u001b[43m \u001b[49m\u001b[38;5;241;43m7\u001b[39;49m\u001b[43m:\u001b[49m\u001b[38;5;241;43m24\u001b[39;49m\u001b[43m]\u001b[49m\u001b[43m)\u001b[49m\n",
      "\u001b[0;31mTypeError\u001b[0m: predict() got an unexpected keyword argument 'X_test'"
     ]
    }
   ],
   "source": [
    "model.predict(X_test = predict.iloc[:, 7:24])"
   ]
  },
  {
   "cell_type": "code",
   "execution_count": 143,
   "id": "c5a3f889",
   "metadata": {
    "execution": {
     "iopub.execute_input": "2023-05-10T01:58:51.471293Z",
     "iopub.status.busy": "2023-05-10T01:58:51.471165Z",
     "iopub.status.idle": "2023-05-10T01:58:51.478373Z",
     "shell.execute_reply": "2023-05-10T01:58:51.478092Z"
    }
   },
   "outputs": [
    {
     "ename": "TypeError",
     "evalue": "predict() got an unexpected keyword argument 'X_test'",
     "output_type": "error",
     "traceback": [
      "\u001b[0;31m---------------------------------------------------------------------------\u001b[0m",
      "\u001b[0;31mTypeError\u001b[0m                                 Traceback (most recent call last)",
      "Cell \u001b[0;32mIn [143], line 1\u001b[0m\n\u001b[0;32m----> 1\u001b[0m \u001b[43mmodel\u001b[49m\u001b[38;5;241;43m.\u001b[39;49m\u001b[43mpredict\u001b[49m\u001b[43m(\u001b[49m\u001b[43mX_test\u001b[49m\u001b[43m \u001b[49m\u001b[38;5;241;43m=\u001b[39;49m\u001b[43m \u001b[49m\u001b[43mpredict\u001b[49m\u001b[38;5;241;43m.\u001b[39;49m\u001b[43miloc\u001b[49m\u001b[43m[\u001b[49m\u001b[43m:\u001b[49m\u001b[43m,\u001b[49m\u001b[43m \u001b[49m\u001b[38;5;241;43m7\u001b[39;49m\u001b[43m:\u001b[49m\u001b[38;5;241;43m24\u001b[39;49m\u001b[43m]\u001b[49m\u001b[43m)\u001b[49m\n",
      "\u001b[0;31mTypeError\u001b[0m: predict() got an unexpected keyword argument 'X_test'"
     ]
    }
   ],
   "source": [
    "model.predict(X_test = predict.iloc[:, 7:24])"
   ]
  },
  {
   "cell_type": "code",
   "execution_count": 144,
   "id": "7271eb60",
   "metadata": {
    "execution": {
     "iopub.execute_input": "2023-05-10T01:58:51.479730Z",
     "iopub.status.busy": "2023-05-10T01:58:51.479644Z",
     "iopub.status.idle": "2023-05-10T01:58:51.487083Z",
     "shell.execute_reply": "2023-05-10T01:58:51.486709Z"
    }
   },
   "outputs": [
    {
     "ename": "TypeError",
     "evalue": "predict() got an unexpected keyword argument 'X_test'",
     "output_type": "error",
     "traceback": [
      "\u001b[0;31m---------------------------------------------------------------------------\u001b[0m",
      "\u001b[0;31mTypeError\u001b[0m                                 Traceback (most recent call last)",
      "Cell \u001b[0;32mIn [144], line 1\u001b[0m\n\u001b[0;32m----> 1\u001b[0m \u001b[43mmodel\u001b[49m\u001b[38;5;241;43m.\u001b[39;49m\u001b[43mpredict\u001b[49m\u001b[43m(\u001b[49m\u001b[43mX_test\u001b[49m\u001b[43m \u001b[49m\u001b[38;5;241;43m=\u001b[39;49m\u001b[43m \u001b[49m\u001b[43mpredict\u001b[49m\u001b[38;5;241;43m.\u001b[39;49m\u001b[43miloc\u001b[49m\u001b[43m[\u001b[49m\u001b[43m:\u001b[49m\u001b[43m,\u001b[49m\u001b[43m \u001b[49m\u001b[38;5;241;43m7\u001b[39;49m\u001b[43m:\u001b[49m\u001b[38;5;241;43m24\u001b[39;49m\u001b[43m]\u001b[49m\u001b[43m)\u001b[49m\n",
      "\u001b[0;31mTypeError\u001b[0m: predict() got an unexpected keyword argument 'X_test'"
     ]
    }
   ],
   "source": [
    "model.predict(X_test = predict.iloc[:, 7:24])"
   ]
  },
  {
   "cell_type": "code",
   "execution_count": 145,
   "id": "c5444a37",
   "metadata": {
    "execution": {
     "iopub.execute_input": "2023-05-10T01:58:51.488615Z",
     "iopub.status.busy": "2023-05-10T01:58:51.488509Z",
     "iopub.status.idle": "2023-05-10T01:58:51.495456Z",
     "shell.execute_reply": "2023-05-10T01:58:51.495207Z"
    }
   },
   "outputs": [
    {
     "ename": "NameError",
     "evalue": "name 'X_test' is not defined",
     "output_type": "error",
     "traceback": [
      "\u001b[0;31m---------------------------------------------------------------------------\u001b[0m",
      "\u001b[0;31mNameError\u001b[0m                                 Traceback (most recent call last)",
      "Cell \u001b[0;32mIn [145], line 1\u001b[0m\n\u001b[0;32m----> 1\u001b[0m model\u001b[38;5;241m.\u001b[39mpredict(\u001b[43mX_test\u001b[49m)\n",
      "\u001b[0;31mNameError\u001b[0m: name 'X_test' is not defined"
     ]
    }
   ],
   "source": [
    "model.predict(X_test)"
   ]
  },
  {
   "cell_type": "code",
   "execution_count": 146,
   "id": "ad08a9db",
   "metadata": {
    "execution": {
     "iopub.execute_input": "2023-05-10T01:58:51.496808Z",
     "iopub.status.busy": "2023-05-10T01:58:51.496721Z",
     "iopub.status.idle": "2023-05-10T01:58:51.498605Z",
     "shell.execute_reply": "2023-05-10T01:58:51.498348Z"
    }
   },
   "outputs": [],
   "source": [
    "X_test = predict.iloc[:, 7:24]"
   ]
  },
  {
   "cell_type": "code",
   "execution_count": 147,
   "id": "d03cc8ca",
   "metadata": {
    "execution": {
     "iopub.execute_input": "2023-05-10T01:58:51.500896Z",
     "iopub.status.busy": "2023-05-10T01:58:51.500719Z",
     "iopub.status.idle": "2023-05-10T01:58:51.558010Z",
     "shell.execute_reply": "2023-05-10T01:58:51.557543Z"
    }
   },
   "outputs": [
    {
     "ename": "ValueError",
     "evalue": "The feature names should match those that were passed during fit.\nFeature names unseen at fit time:\n- race_white\nFeature names seen at fit time, yet now missing:\n- edu_8th_or_less\n- edu_grades_9_11\n- top_category_employer1\n- top_category_employer2\n- top_category_employer3\n",
     "output_type": "error",
     "traceback": [
      "\u001b[0;31m---------------------------------------------------------------------------\u001b[0m",
      "\u001b[0;31mValueError\u001b[0m                                Traceback (most recent call last)",
      "Cell \u001b[0;32mIn [147], line 1\u001b[0m\n\u001b[0;32m----> 1\u001b[0m \u001b[43mmodel\u001b[49m\u001b[38;5;241;43m.\u001b[39;49m\u001b[43mpredict\u001b[49m\u001b[43m(\u001b[49m\u001b[43mX_test\u001b[49m\u001b[43m)\u001b[49m\n",
      "File \u001b[0;32m/opt/homebrew/lib/python3.9/site-packages/sklearn/linear_model/_base.py:355\u001b[0m, in \u001b[0;36mLinearModel.predict\u001b[0;34m(self, X)\u001b[0m\n\u001b[1;32m    341\u001b[0m \u001b[38;5;28;01mdef\u001b[39;00m \u001b[38;5;21mpredict\u001b[39m(\u001b[38;5;28mself\u001b[39m, X):\n\u001b[1;32m    342\u001b[0m     \u001b[38;5;124;03m\"\"\"\u001b[39;00m\n\u001b[1;32m    343\u001b[0m \u001b[38;5;124;03m    Predict using the linear model.\u001b[39;00m\n\u001b[1;32m    344\u001b[0m \n\u001b[0;32m   (...)\u001b[0m\n\u001b[1;32m    353\u001b[0m \u001b[38;5;124;03m        Returns predicted values.\u001b[39;00m\n\u001b[1;32m    354\u001b[0m \u001b[38;5;124;03m    \"\"\"\u001b[39;00m\n\u001b[0;32m--> 355\u001b[0m     \u001b[38;5;28;01mreturn\u001b[39;00m \u001b[38;5;28;43mself\u001b[39;49m\u001b[38;5;241;43m.\u001b[39;49m\u001b[43m_decision_function\u001b[49m\u001b[43m(\u001b[49m\u001b[43mX\u001b[49m\u001b[43m)\u001b[49m\n",
      "File \u001b[0;32m/opt/homebrew/lib/python3.9/site-packages/sklearn/linear_model/_base.py:338\u001b[0m, in \u001b[0;36mLinearModel._decision_function\u001b[0;34m(self, X)\u001b[0m\n\u001b[1;32m    335\u001b[0m \u001b[38;5;28;01mdef\u001b[39;00m \u001b[38;5;21m_decision_function\u001b[39m(\u001b[38;5;28mself\u001b[39m, X):\n\u001b[1;32m    336\u001b[0m     check_is_fitted(\u001b[38;5;28mself\u001b[39m)\n\u001b[0;32m--> 338\u001b[0m     X \u001b[38;5;241m=\u001b[39m \u001b[38;5;28;43mself\u001b[39;49m\u001b[38;5;241;43m.\u001b[39;49m\u001b[43m_validate_data\u001b[49m\u001b[43m(\u001b[49m\u001b[43mX\u001b[49m\u001b[43m,\u001b[49m\u001b[43m \u001b[49m\u001b[43maccept_sparse\u001b[49m\u001b[38;5;241;43m=\u001b[39;49m\u001b[43m[\u001b[49m\u001b[38;5;124;43m\"\u001b[39;49m\u001b[38;5;124;43mcsr\u001b[39;49m\u001b[38;5;124;43m\"\u001b[39;49m\u001b[43m,\u001b[49m\u001b[43m \u001b[49m\u001b[38;5;124;43m\"\u001b[39;49m\u001b[38;5;124;43mcsc\u001b[39;49m\u001b[38;5;124;43m\"\u001b[39;49m\u001b[43m,\u001b[49m\u001b[43m \u001b[49m\u001b[38;5;124;43m\"\u001b[39;49m\u001b[38;5;124;43mcoo\u001b[39;49m\u001b[38;5;124;43m\"\u001b[39;49m\u001b[43m]\u001b[49m\u001b[43m,\u001b[49m\u001b[43m \u001b[49m\u001b[43mreset\u001b[49m\u001b[38;5;241;43m=\u001b[39;49m\u001b[38;5;28;43;01mFalse\u001b[39;49;00m\u001b[43m)\u001b[49m\n\u001b[1;32m    339\u001b[0m     \u001b[38;5;28;01mreturn\u001b[39;00m safe_sparse_dot(X, \u001b[38;5;28mself\u001b[39m\u001b[38;5;241m.\u001b[39mcoef_\u001b[38;5;241m.\u001b[39mT, dense_output\u001b[38;5;241m=\u001b[39m\u001b[38;5;28;01mTrue\u001b[39;00m) \u001b[38;5;241m+\u001b[39m \u001b[38;5;28mself\u001b[39m\u001b[38;5;241m.\u001b[39mintercept_\n",
      "File \u001b[0;32m/opt/homebrew/lib/python3.9/site-packages/sklearn/base.py:518\u001b[0m, in \u001b[0;36mBaseEstimator._validate_data\u001b[0;34m(self, X, y, reset, validate_separately, **check_params)\u001b[0m\n\u001b[1;32m    453\u001b[0m \u001b[38;5;28;01mdef\u001b[39;00m \u001b[38;5;21m_validate_data\u001b[39m(\n\u001b[1;32m    454\u001b[0m     \u001b[38;5;28mself\u001b[39m,\n\u001b[1;32m    455\u001b[0m     X\u001b[38;5;241m=\u001b[39m\u001b[38;5;124m\"\u001b[39m\u001b[38;5;124mno_validation\u001b[39m\u001b[38;5;124m\"\u001b[39m,\n\u001b[0;32m   (...)\u001b[0m\n\u001b[1;32m    459\u001b[0m     \u001b[38;5;241m*\u001b[39m\u001b[38;5;241m*\u001b[39mcheck_params,\n\u001b[1;32m    460\u001b[0m ):\n\u001b[1;32m    461\u001b[0m     \u001b[38;5;124;03m\"\"\"Validate input data and set or check the `n_features_in_` attribute.\u001b[39;00m\n\u001b[1;32m    462\u001b[0m \n\u001b[1;32m    463\u001b[0m \u001b[38;5;124;03m    Parameters\u001b[39;00m\n\u001b[0;32m   (...)\u001b[0m\n\u001b[1;32m    516\u001b[0m \u001b[38;5;124;03m        validated.\u001b[39;00m\n\u001b[1;32m    517\u001b[0m \u001b[38;5;124;03m    \"\"\"\u001b[39;00m\n\u001b[0;32m--> 518\u001b[0m     \u001b[38;5;28;43mself\u001b[39;49m\u001b[38;5;241;43m.\u001b[39;49m\u001b[43m_check_feature_names\u001b[49m\u001b[43m(\u001b[49m\u001b[43mX\u001b[49m\u001b[43m,\u001b[49m\u001b[43m \u001b[49m\u001b[43mreset\u001b[49m\u001b[38;5;241;43m=\u001b[39;49m\u001b[43mreset\u001b[49m\u001b[43m)\u001b[49m\n\u001b[1;32m    520\u001b[0m     \u001b[38;5;28;01mif\u001b[39;00m y \u001b[38;5;129;01mis\u001b[39;00m \u001b[38;5;28;01mNone\u001b[39;00m \u001b[38;5;129;01mand\u001b[39;00m \u001b[38;5;28mself\u001b[39m\u001b[38;5;241m.\u001b[39m_get_tags()[\u001b[38;5;124m\"\u001b[39m\u001b[38;5;124mrequires_y\u001b[39m\u001b[38;5;124m\"\u001b[39m]:\n\u001b[1;32m    521\u001b[0m         \u001b[38;5;28;01mraise\u001b[39;00m \u001b[38;5;167;01mValueError\u001b[39;00m(\n\u001b[1;32m    522\u001b[0m             \u001b[38;5;124mf\u001b[39m\u001b[38;5;124m\"\u001b[39m\u001b[38;5;124mThis \u001b[39m\u001b[38;5;132;01m{\u001b[39;00m\u001b[38;5;28mself\u001b[39m\u001b[38;5;241m.\u001b[39m\u001b[38;5;18m__class__\u001b[39m\u001b[38;5;241m.\u001b[39m\u001b[38;5;18m__name__\u001b[39m\u001b[38;5;132;01m}\u001b[39;00m\u001b[38;5;124m estimator \u001b[39m\u001b[38;5;124m\"\u001b[39m\n\u001b[1;32m    523\u001b[0m             \u001b[38;5;124m\"\u001b[39m\u001b[38;5;124mrequires y to be passed, but the target y is None.\u001b[39m\u001b[38;5;124m\"\u001b[39m\n\u001b[1;32m    524\u001b[0m         )\n",
      "File \u001b[0;32m/opt/homebrew/lib/python3.9/site-packages/sklearn/base.py:451\u001b[0m, in \u001b[0;36mBaseEstimator._check_feature_names\u001b[0;34m(self, X, reset)\u001b[0m\n\u001b[1;32m    446\u001b[0m \u001b[38;5;28;01mif\u001b[39;00m \u001b[38;5;129;01mnot\u001b[39;00m missing_names \u001b[38;5;129;01mand\u001b[39;00m \u001b[38;5;129;01mnot\u001b[39;00m unexpected_names:\n\u001b[1;32m    447\u001b[0m     message \u001b[38;5;241m+\u001b[39m\u001b[38;5;241m=\u001b[39m (\n\u001b[1;32m    448\u001b[0m         \u001b[38;5;124m\"\u001b[39m\u001b[38;5;124mFeature names must be in the same order as they were in fit.\u001b[39m\u001b[38;5;130;01m\\n\u001b[39;00m\u001b[38;5;124m\"\u001b[39m\n\u001b[1;32m    449\u001b[0m     )\n\u001b[0;32m--> 451\u001b[0m \u001b[38;5;28;01mraise\u001b[39;00m \u001b[38;5;167;01mValueError\u001b[39;00m(message)\n",
      "\u001b[0;31mValueError\u001b[0m: The feature names should match those that were passed during fit.\nFeature names unseen at fit time:\n- race_white\nFeature names seen at fit time, yet now missing:\n- edu_8th_or_less\n- edu_grades_9_11\n- top_category_employer1\n- top_category_employer2\n- top_category_employer3\n"
     ]
    }
   ],
   "source": [
    "model.predict(X_test)"
   ]
  },
  {
   "cell_type": "code",
   "execution_count": 148,
   "id": "f9a67066",
   "metadata": {
    "execution": {
     "iopub.execute_input": "2023-05-10T01:58:51.559693Z",
     "iopub.status.busy": "2023-05-10T01:58:51.559559Z",
     "iopub.status.idle": "2023-05-10T01:58:51.561836Z",
     "shell.execute_reply": "2023-05-10T01:58:51.561524Z"
    }
   },
   "outputs": [],
   "source": [
    "X_test = predict.iloc[:, 7:24]"
   ]
  },
  {
   "cell_type": "code",
   "execution_count": 149,
   "id": "1a056a7c",
   "metadata": {
    "execution": {
     "iopub.execute_input": "2023-05-10T01:58:51.563607Z",
     "iopub.status.busy": "2023-05-10T01:58:51.563474Z",
     "iopub.status.idle": "2023-05-10T01:58:51.588117Z",
     "shell.execute_reply": "2023-05-10T01:58:51.587771Z"
    }
   },
   "outputs": [
    {
     "ename": "ValueError",
     "evalue": "The feature names should match those that were passed during fit.\nFeature names unseen at fit time:\n- race_white\nFeature names seen at fit time, yet now missing:\n- edu_8th_or_less\n- edu_grades_9_11\n- top_category_employer1\n- top_category_employer2\n- top_category_employer3\n",
     "output_type": "error",
     "traceback": [
      "\u001b[0;31m---------------------------------------------------------------------------\u001b[0m",
      "\u001b[0;31mValueError\u001b[0m                                Traceback (most recent call last)",
      "Cell \u001b[0;32mIn [149], line 1\u001b[0m\n\u001b[0;32m----> 1\u001b[0m \u001b[43mmodel\u001b[49m\u001b[38;5;241;43m.\u001b[39;49m\u001b[43mpredict\u001b[49m\u001b[43m(\u001b[49m\u001b[43mX_test\u001b[49m\u001b[43m)\u001b[49m\n",
      "File \u001b[0;32m/opt/homebrew/lib/python3.9/site-packages/sklearn/linear_model/_base.py:355\u001b[0m, in \u001b[0;36mLinearModel.predict\u001b[0;34m(self, X)\u001b[0m\n\u001b[1;32m    341\u001b[0m \u001b[38;5;28;01mdef\u001b[39;00m \u001b[38;5;21mpredict\u001b[39m(\u001b[38;5;28mself\u001b[39m, X):\n\u001b[1;32m    342\u001b[0m     \u001b[38;5;124;03m\"\"\"\u001b[39;00m\n\u001b[1;32m    343\u001b[0m \u001b[38;5;124;03m    Predict using the linear model.\u001b[39;00m\n\u001b[1;32m    344\u001b[0m \n\u001b[0;32m   (...)\u001b[0m\n\u001b[1;32m    353\u001b[0m \u001b[38;5;124;03m        Returns predicted values.\u001b[39;00m\n\u001b[1;32m    354\u001b[0m \u001b[38;5;124;03m    \"\"\"\u001b[39;00m\n\u001b[0;32m--> 355\u001b[0m     \u001b[38;5;28;01mreturn\u001b[39;00m \u001b[38;5;28;43mself\u001b[39;49m\u001b[38;5;241;43m.\u001b[39;49m\u001b[43m_decision_function\u001b[49m\u001b[43m(\u001b[49m\u001b[43mX\u001b[49m\u001b[43m)\u001b[49m\n",
      "File \u001b[0;32m/opt/homebrew/lib/python3.9/site-packages/sklearn/linear_model/_base.py:338\u001b[0m, in \u001b[0;36mLinearModel._decision_function\u001b[0;34m(self, X)\u001b[0m\n\u001b[1;32m    335\u001b[0m \u001b[38;5;28;01mdef\u001b[39;00m \u001b[38;5;21m_decision_function\u001b[39m(\u001b[38;5;28mself\u001b[39m, X):\n\u001b[1;32m    336\u001b[0m     check_is_fitted(\u001b[38;5;28mself\u001b[39m)\n\u001b[0;32m--> 338\u001b[0m     X \u001b[38;5;241m=\u001b[39m \u001b[38;5;28;43mself\u001b[39;49m\u001b[38;5;241;43m.\u001b[39;49m\u001b[43m_validate_data\u001b[49m\u001b[43m(\u001b[49m\u001b[43mX\u001b[49m\u001b[43m,\u001b[49m\u001b[43m \u001b[49m\u001b[43maccept_sparse\u001b[49m\u001b[38;5;241;43m=\u001b[39;49m\u001b[43m[\u001b[49m\u001b[38;5;124;43m\"\u001b[39;49m\u001b[38;5;124;43mcsr\u001b[39;49m\u001b[38;5;124;43m\"\u001b[39;49m\u001b[43m,\u001b[49m\u001b[43m \u001b[49m\u001b[38;5;124;43m\"\u001b[39;49m\u001b[38;5;124;43mcsc\u001b[39;49m\u001b[38;5;124;43m\"\u001b[39;49m\u001b[43m,\u001b[49m\u001b[43m \u001b[49m\u001b[38;5;124;43m\"\u001b[39;49m\u001b[38;5;124;43mcoo\u001b[39;49m\u001b[38;5;124;43m\"\u001b[39;49m\u001b[43m]\u001b[49m\u001b[43m,\u001b[49m\u001b[43m \u001b[49m\u001b[43mreset\u001b[49m\u001b[38;5;241;43m=\u001b[39;49m\u001b[38;5;28;43;01mFalse\u001b[39;49;00m\u001b[43m)\u001b[49m\n\u001b[1;32m    339\u001b[0m     \u001b[38;5;28;01mreturn\u001b[39;00m safe_sparse_dot(X, \u001b[38;5;28mself\u001b[39m\u001b[38;5;241m.\u001b[39mcoef_\u001b[38;5;241m.\u001b[39mT, dense_output\u001b[38;5;241m=\u001b[39m\u001b[38;5;28;01mTrue\u001b[39;00m) \u001b[38;5;241m+\u001b[39m \u001b[38;5;28mself\u001b[39m\u001b[38;5;241m.\u001b[39mintercept_\n",
      "File \u001b[0;32m/opt/homebrew/lib/python3.9/site-packages/sklearn/base.py:518\u001b[0m, in \u001b[0;36mBaseEstimator._validate_data\u001b[0;34m(self, X, y, reset, validate_separately, **check_params)\u001b[0m\n\u001b[1;32m    453\u001b[0m \u001b[38;5;28;01mdef\u001b[39;00m \u001b[38;5;21m_validate_data\u001b[39m(\n\u001b[1;32m    454\u001b[0m     \u001b[38;5;28mself\u001b[39m,\n\u001b[1;32m    455\u001b[0m     X\u001b[38;5;241m=\u001b[39m\u001b[38;5;124m\"\u001b[39m\u001b[38;5;124mno_validation\u001b[39m\u001b[38;5;124m\"\u001b[39m,\n\u001b[0;32m   (...)\u001b[0m\n\u001b[1;32m    459\u001b[0m     \u001b[38;5;241m*\u001b[39m\u001b[38;5;241m*\u001b[39mcheck_params,\n\u001b[1;32m    460\u001b[0m ):\n\u001b[1;32m    461\u001b[0m     \u001b[38;5;124;03m\"\"\"Validate input data and set or check the `n_features_in_` attribute.\u001b[39;00m\n\u001b[1;32m    462\u001b[0m \n\u001b[1;32m    463\u001b[0m \u001b[38;5;124;03m    Parameters\u001b[39;00m\n\u001b[0;32m   (...)\u001b[0m\n\u001b[1;32m    516\u001b[0m \u001b[38;5;124;03m        validated.\u001b[39;00m\n\u001b[1;32m    517\u001b[0m \u001b[38;5;124;03m    \"\"\"\u001b[39;00m\n\u001b[0;32m--> 518\u001b[0m     \u001b[38;5;28;43mself\u001b[39;49m\u001b[38;5;241;43m.\u001b[39;49m\u001b[43m_check_feature_names\u001b[49m\u001b[43m(\u001b[49m\u001b[43mX\u001b[49m\u001b[43m,\u001b[49m\u001b[43m \u001b[49m\u001b[43mreset\u001b[49m\u001b[38;5;241;43m=\u001b[39;49m\u001b[43mreset\u001b[49m\u001b[43m)\u001b[49m\n\u001b[1;32m    520\u001b[0m     \u001b[38;5;28;01mif\u001b[39;00m y \u001b[38;5;129;01mis\u001b[39;00m \u001b[38;5;28;01mNone\u001b[39;00m \u001b[38;5;129;01mand\u001b[39;00m \u001b[38;5;28mself\u001b[39m\u001b[38;5;241m.\u001b[39m_get_tags()[\u001b[38;5;124m\"\u001b[39m\u001b[38;5;124mrequires_y\u001b[39m\u001b[38;5;124m\"\u001b[39m]:\n\u001b[1;32m    521\u001b[0m         \u001b[38;5;28;01mraise\u001b[39;00m \u001b[38;5;167;01mValueError\u001b[39;00m(\n\u001b[1;32m    522\u001b[0m             \u001b[38;5;124mf\u001b[39m\u001b[38;5;124m\"\u001b[39m\u001b[38;5;124mThis \u001b[39m\u001b[38;5;132;01m{\u001b[39;00m\u001b[38;5;28mself\u001b[39m\u001b[38;5;241m.\u001b[39m\u001b[38;5;18m__class__\u001b[39m\u001b[38;5;241m.\u001b[39m\u001b[38;5;18m__name__\u001b[39m\u001b[38;5;132;01m}\u001b[39;00m\u001b[38;5;124m estimator \u001b[39m\u001b[38;5;124m\"\u001b[39m\n\u001b[1;32m    523\u001b[0m             \u001b[38;5;124m\"\u001b[39m\u001b[38;5;124mrequires y to be passed, but the target y is None.\u001b[39m\u001b[38;5;124m\"\u001b[39m\n\u001b[1;32m    524\u001b[0m         )\n",
      "File \u001b[0;32m/opt/homebrew/lib/python3.9/site-packages/sklearn/base.py:451\u001b[0m, in \u001b[0;36mBaseEstimator._check_feature_names\u001b[0;34m(self, X, reset)\u001b[0m\n\u001b[1;32m    446\u001b[0m \u001b[38;5;28;01mif\u001b[39;00m \u001b[38;5;129;01mnot\u001b[39;00m missing_names \u001b[38;5;129;01mand\u001b[39;00m \u001b[38;5;129;01mnot\u001b[39;00m unexpected_names:\n\u001b[1;32m    447\u001b[0m     message \u001b[38;5;241m+\u001b[39m\u001b[38;5;241m=\u001b[39m (\n\u001b[1;32m    448\u001b[0m         \u001b[38;5;124m\"\u001b[39m\u001b[38;5;124mFeature names must be in the same order as they were in fit.\u001b[39m\u001b[38;5;130;01m\\n\u001b[39;00m\u001b[38;5;124m\"\u001b[39m\n\u001b[1;32m    449\u001b[0m     )\n\u001b[0;32m--> 451\u001b[0m \u001b[38;5;28;01mraise\u001b[39;00m \u001b[38;5;167;01mValueError\u001b[39;00m(message)\n",
      "\u001b[0;31mValueError\u001b[0m: The feature names should match those that were passed during fit.\nFeature names unseen at fit time:\n- race_white\nFeature names seen at fit time, yet now missing:\n- edu_8th_or_less\n- edu_grades_9_11\n- top_category_employer1\n- top_category_employer2\n- top_category_employer3\n"
     ]
    }
   ],
   "source": [
    "model.predict(X_test)"
   ]
  },
  {
   "cell_type": "code",
   "execution_count": 150,
   "id": "a65336b2",
   "metadata": {
    "execution": {
     "iopub.execute_input": "2023-05-10T01:58:51.589722Z",
     "iopub.status.busy": "2023-05-10T01:58:51.589617Z",
     "iopub.status.idle": "2023-05-10T01:58:51.597637Z",
     "shell.execute_reply": "2023-05-10T01:58:51.597373Z"
    },
    "lines_to_next_cell": 2
   },
   "outputs": [
    {
     "data": {
      "text/html": [
       "<div>\n",
       "<style scoped>\n",
       "    .dataframe tbody tr th:only-of-type {\n",
       "        vertical-align: middle;\n",
       "    }\n",
       "\n",
       "    .dataframe tbody tr th {\n",
       "        vertical-align: top;\n",
       "    }\n",
       "\n",
       "    .dataframe thead th {\n",
       "        text-align: right;\n",
       "    }\n",
       "</style>\n",
       "<table border=\"1\" class=\"dataframe\">\n",
       "  <thead>\n",
       "    <tr style=\"text-align: right;\">\n",
       "      <th></th>\n",
       "      <th>edu_hs_grad_equiv</th>\n",
       "      <th>edu_post_hs</th>\n",
       "      <th>edu_unknown</th>\n",
       "      <th>gender_female</th>\n",
       "      <th>gender_male</th>\n",
       "      <th>gender_na</th>\n",
       "      <th>race_amerindian</th>\n",
       "      <th>race_asian</th>\n",
       "      <th>race_black</th>\n",
       "      <th>race_noanswer</th>\n",
       "      <th>race_hawaiiannative</th>\n",
       "      <th>race_other</th>\n",
       "      <th>race_white</th>\n",
       "    </tr>\n",
       "    <tr>\n",
       "      <th>uu_id</th>\n",
       "      <th></th>\n",
       "      <th></th>\n",
       "      <th></th>\n",
       "      <th></th>\n",
       "      <th></th>\n",
       "      <th></th>\n",
       "      <th></th>\n",
       "      <th></th>\n",
       "      <th></th>\n",
       "      <th></th>\n",
       "      <th></th>\n",
       "      <th></th>\n",
       "      <th></th>\n",
       "    </tr>\n",
       "  </thead>\n",
       "  <tbody>\n",
       "    <tr>\n",
       "      <th>001cd9ae23064d7f0fd3cd327c873d8d</th>\n",
       "      <td>2.727273</td>\n",
       "      <td>0.0</td>\n",
       "      <td>0.0</td>\n",
       "      <td>0.0</td>\n",
       "      <td>4.0</td>\n",
       "      <td>0.0</td>\n",
       "      <td>0.0</td>\n",
       "      <td>0.0</td>\n",
       "      <td>0.0</td>\n",
       "      <td>0.0</td>\n",
       "      <td>0.0</td>\n",
       "      <td>0.0</td>\n",
       "      <td>4.909091</td>\n",
       "    </tr>\n",
       "    <tr>\n",
       "      <th>005be9532fd717dc36d4be318fd9ad25</th>\n",
       "      <td>15.764706</td>\n",
       "      <td>3.058824</td>\n",
       "      <td>0.0</td>\n",
       "      <td>8.735294</td>\n",
       "      <td>14.117647</td>\n",
       "      <td>0.0</td>\n",
       "      <td>0.0</td>\n",
       "      <td>0.0</td>\n",
       "      <td>0.0</td>\n",
       "      <td>0.0</td>\n",
       "      <td>0.0</td>\n",
       "      <td>0.0</td>\n",
       "      <td>21.735294</td>\n",
       "    </tr>\n",
       "    <tr>\n",
       "      <th>007c1caccff1fbb3a0b8a10790f77141</th>\n",
       "      <td>6.76</td>\n",
       "      <td>0.0</td>\n",
       "      <td>0.0</td>\n",
       "      <td>0.44</td>\n",
       "      <td>0.4</td>\n",
       "      <td>0.0</td>\n",
       "      <td>0.0</td>\n",
       "      <td>0.0</td>\n",
       "      <td>3.68</td>\n",
       "      <td>0.0</td>\n",
       "      <td>0.0</td>\n",
       "      <td>0.0</td>\n",
       "      <td>10.12</td>\n",
       "    </tr>\n",
       "    <tr>\n",
       "      <th>009683350b175edfc6414d664e4ba873</th>\n",
       "      <td>3.478261</td>\n",
       "      <td>1.956522</td>\n",
       "      <td>0.565217</td>\n",
       "      <td>0.565217</td>\n",
       "      <td>1.478261</td>\n",
       "      <td>0.0</td>\n",
       "      <td>0.0</td>\n",
       "      <td>0.0</td>\n",
       "      <td>3.695652</td>\n",
       "      <td>0.0</td>\n",
       "      <td>0.0</td>\n",
       "      <td>0.0</td>\n",
       "      <td>4.869565</td>\n",
       "    </tr>\n",
       "    <tr>\n",
       "      <th>00f962ce727b8dbbf20925abd5a253dd</th>\n",
       "      <td>16.880952</td>\n",
       "      <td>7.428571</td>\n",
       "      <td>0.238095</td>\n",
       "      <td>18.214286</td>\n",
       "      <td>12.119048</td>\n",
       "      <td>0.0</td>\n",
       "      <td>0.0</td>\n",
       "      <td>0.0</td>\n",
       "      <td>27.095238</td>\n",
       "      <td>0.0</td>\n",
       "      <td>0.0</td>\n",
       "      <td>0.285714</td>\n",
       "      <td>0.0</td>\n",
       "    </tr>\n",
       "    <tr>\n",
       "      <th>...</th>\n",
       "      <td>...</td>\n",
       "      <td>...</td>\n",
       "      <td>...</td>\n",
       "      <td>...</td>\n",
       "      <td>...</td>\n",
       "      <td>...</td>\n",
       "      <td>...</td>\n",
       "      <td>...</td>\n",
       "      <td>...</td>\n",
       "      <td>...</td>\n",
       "      <td>...</td>\n",
       "      <td>...</td>\n",
       "      <td>...</td>\n",
       "    </tr>\n",
       "    <tr>\n",
       "      <th>fcf9f3effa992cfd552696e4ae7219b6</th>\n",
       "      <td>0.725</td>\n",
       "      <td>6.225</td>\n",
       "      <td>0.0</td>\n",
       "      <td>1.35</td>\n",
       "      <td>1.425</td>\n",
       "      <td>0.0</td>\n",
       "      <td>0.0</td>\n",
       "      <td>0.0</td>\n",
       "      <td>0.875</td>\n",
       "      <td>0.0</td>\n",
       "      <td>0.0</td>\n",
       "      <td>0.0</td>\n",
       "      <td>2.4</td>\n",
       "    </tr>\n",
       "    <tr>\n",
       "      <th>fcfc60d8240e5a51f878fd92e2a352a3</th>\n",
       "      <td>6.029412</td>\n",
       "      <td>2.676471</td>\n",
       "      <td>0.0</td>\n",
       "      <td>0.441176</td>\n",
       "      <td>0.382353</td>\n",
       "      <td>0.0</td>\n",
       "      <td>0.0</td>\n",
       "      <td>0.0</td>\n",
       "      <td>0.882353</td>\n",
       "      <td>0.0</td>\n",
       "      <td>0.0</td>\n",
       "      <td>1.882353</td>\n",
       "      <td>3.147059</td>\n",
       "    </tr>\n",
       "    <tr>\n",
       "      <th>fd613eba867c6ad7350a937f743b88f2</th>\n",
       "      <td>5.771429</td>\n",
       "      <td>3.085714</td>\n",
       "      <td>0.0</td>\n",
       "      <td>2.971429</td>\n",
       "      <td>3.028571</td>\n",
       "      <td>0.0</td>\n",
       "      <td>0.0</td>\n",
       "      <td>0.0</td>\n",
       "      <td>7.828571</td>\n",
       "      <td>0.0</td>\n",
       "      <td>0.0</td>\n",
       "      <td>0.571429</td>\n",
       "      <td>0.714286</td>\n",
       "    </tr>\n",
       "    <tr>\n",
       "      <th>fe355ff27aa8b2242a558d5e3ec99c18</th>\n",
       "      <td>3.666667</td>\n",
       "      <td>0.0</td>\n",
       "      <td>0.0</td>\n",
       "      <td>1.266667</td>\n",
       "      <td>1.333333</td>\n",
       "      <td>0.0</td>\n",
       "      <td>0.0</td>\n",
       "      <td>0.0</td>\n",
       "      <td>0.6</td>\n",
       "      <td>0.0</td>\n",
       "      <td>0.0</td>\n",
       "      <td>0.0</td>\n",
       "      <td>2.866667</td>\n",
       "    </tr>\n",
       "    <tr>\n",
       "      <th>fec479d0202d6e1e3f051a9ee902ff5d</th>\n",
       "      <td>4.190476</td>\n",
       "      <td>12.285714</td>\n",
       "      <td>0.0</td>\n",
       "      <td>9.166667</td>\n",
       "      <td>12.690476</td>\n",
       "      <td>0.0</td>\n",
       "      <td>0.0</td>\n",
       "      <td>0.0</td>\n",
       "      <td>0.333333</td>\n",
       "      <td>0.0</td>\n",
       "      <td>0.0</td>\n",
       "      <td>0.0</td>\n",
       "      <td>23.047619</td>\n",
       "    </tr>\n",
       "  </tbody>\n",
       "</table>\n",
       "<p>525 rows × 13 columns</p>\n",
       "</div>"
      ],
      "text/plain": [
       "                                  edu_hs_grad_equiv  edu_post_hs  edu_unknown  \\\n",
       "uu_id                                                                           \n",
       "001cd9ae23064d7f0fd3cd327c873d8d           2.727273          0.0          0.0   \n",
       "005be9532fd717dc36d4be318fd9ad25          15.764706     3.058824          0.0   \n",
       "007c1caccff1fbb3a0b8a10790f77141               6.76          0.0          0.0   \n",
       "009683350b175edfc6414d664e4ba873           3.478261     1.956522     0.565217   \n",
       "00f962ce727b8dbbf20925abd5a253dd          16.880952     7.428571     0.238095   \n",
       "...                                             ...          ...          ...   \n",
       "fcf9f3effa992cfd552696e4ae7219b6              0.725        6.225          0.0   \n",
       "fcfc60d8240e5a51f878fd92e2a352a3           6.029412     2.676471          0.0   \n",
       "fd613eba867c6ad7350a937f743b88f2           5.771429     3.085714          0.0   \n",
       "fe355ff27aa8b2242a558d5e3ec99c18           3.666667          0.0          0.0   \n",
       "fec479d0202d6e1e3f051a9ee902ff5d           4.190476    12.285714          0.0   \n",
       "\n",
       "                                  gender_female  gender_male  gender_na  \\\n",
       "uu_id                                                                     \n",
       "001cd9ae23064d7f0fd3cd327c873d8d            0.0          4.0        0.0   \n",
       "005be9532fd717dc36d4be318fd9ad25       8.735294    14.117647        0.0   \n",
       "007c1caccff1fbb3a0b8a10790f77141           0.44          0.4        0.0   \n",
       "009683350b175edfc6414d664e4ba873       0.565217     1.478261        0.0   \n",
       "00f962ce727b8dbbf20925abd5a253dd      18.214286    12.119048        0.0   \n",
       "...                                         ...          ...        ...   \n",
       "fcf9f3effa992cfd552696e4ae7219b6           1.35        1.425        0.0   \n",
       "fcfc60d8240e5a51f878fd92e2a352a3       0.441176     0.382353        0.0   \n",
       "fd613eba867c6ad7350a937f743b88f2       2.971429     3.028571        0.0   \n",
       "fe355ff27aa8b2242a558d5e3ec99c18       1.266667     1.333333        0.0   \n",
       "fec479d0202d6e1e3f051a9ee902ff5d       9.166667    12.690476        0.0   \n",
       "\n",
       "                                  race_amerindian  race_asian  race_black  \\\n",
       "uu_id                                                                       \n",
       "001cd9ae23064d7f0fd3cd327c873d8d              0.0         0.0         0.0   \n",
       "005be9532fd717dc36d4be318fd9ad25              0.0         0.0         0.0   \n",
       "007c1caccff1fbb3a0b8a10790f77141              0.0         0.0        3.68   \n",
       "009683350b175edfc6414d664e4ba873              0.0         0.0    3.695652   \n",
       "00f962ce727b8dbbf20925abd5a253dd              0.0         0.0   27.095238   \n",
       "...                                           ...         ...         ...   \n",
       "fcf9f3effa992cfd552696e4ae7219b6              0.0         0.0       0.875   \n",
       "fcfc60d8240e5a51f878fd92e2a352a3              0.0         0.0    0.882353   \n",
       "fd613eba867c6ad7350a937f743b88f2              0.0         0.0    7.828571   \n",
       "fe355ff27aa8b2242a558d5e3ec99c18              0.0         0.0         0.6   \n",
       "fec479d0202d6e1e3f051a9ee902ff5d              0.0         0.0    0.333333   \n",
       "\n",
       "                                  race_noanswer  race_hawaiiannative  \\\n",
       "uu_id                                                                  \n",
       "001cd9ae23064d7f0fd3cd327c873d8d            0.0                  0.0   \n",
       "005be9532fd717dc36d4be318fd9ad25            0.0                  0.0   \n",
       "007c1caccff1fbb3a0b8a10790f77141            0.0                  0.0   \n",
       "009683350b175edfc6414d664e4ba873            0.0                  0.0   \n",
       "00f962ce727b8dbbf20925abd5a253dd            0.0                  0.0   \n",
       "...                                         ...                  ...   \n",
       "fcf9f3effa992cfd552696e4ae7219b6            0.0                  0.0   \n",
       "fcfc60d8240e5a51f878fd92e2a352a3            0.0                  0.0   \n",
       "fd613eba867c6ad7350a937f743b88f2            0.0                  0.0   \n",
       "fe355ff27aa8b2242a558d5e3ec99c18            0.0                  0.0   \n",
       "fec479d0202d6e1e3f051a9ee902ff5d            0.0                  0.0   \n",
       "\n",
       "                                  race_other  race_white  \n",
       "uu_id                                                     \n",
       "001cd9ae23064d7f0fd3cd327c873d8d         0.0    4.909091  \n",
       "005be9532fd717dc36d4be318fd9ad25         0.0   21.735294  \n",
       "007c1caccff1fbb3a0b8a10790f77141         0.0       10.12  \n",
       "009683350b175edfc6414d664e4ba873         0.0    4.869565  \n",
       "00f962ce727b8dbbf20925abd5a253dd    0.285714         0.0  \n",
       "...                                      ...         ...  \n",
       "fcf9f3effa992cfd552696e4ae7219b6         0.0         2.4  \n",
       "fcfc60d8240e5a51f878fd92e2a352a3    1.882353    3.147059  \n",
       "fd613eba867c6ad7350a937f743b88f2    0.571429    0.714286  \n",
       "fe355ff27aa8b2242a558d5e3ec99c18         0.0    2.866667  \n",
       "fec479d0202d6e1e3f051a9ee902ff5d         0.0   23.047619  \n",
       "\n",
       "[525 rows x 13 columns]"
      ]
     },
     "execution_count": 150,
     "metadata": {},
     "output_type": "execute_result"
    }
   ],
   "source": [
    "X_test"
   ]
  }
 ],
 "metadata": {
  "jupytext": {
   "cell_metadata_filter": "-all",
   "main_language": "python",
   "notebook_metadata_filter": "-all"
  },
  "language_info": {
   "codemirror_mode": {
    "name": "ipython",
    "version": 3
   },
   "file_extension": ".py",
   "mimetype": "text/x-python",
   "name": "python",
   "nbconvert_exporter": "python",
   "pygments_lexer": "ipython3",
   "version": "3.9.12"
  }
 },
 "nbformat": 4,
 "nbformat_minor": 5
}
