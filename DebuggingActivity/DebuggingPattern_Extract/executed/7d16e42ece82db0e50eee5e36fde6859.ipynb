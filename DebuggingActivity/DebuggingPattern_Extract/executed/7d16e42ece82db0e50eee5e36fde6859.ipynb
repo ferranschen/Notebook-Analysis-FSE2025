{
 "cells": [
  {
   "cell_type": "code",
   "execution_count": 1,
   "id": "f1fb27f3",
   "metadata": {
    "execution": {
     "iopub.execute_input": "2023-05-09T21:19:49.531032Z",
     "iopub.status.busy": "2023-05-09T21:19:49.530593Z",
     "iopub.status.idle": "2023-05-09T21:19:52.045851Z",
     "shell.execute_reply": "2023-05-09T21:19:52.045245Z"
    }
   },
   "outputs": [
    {
     "name": "stdout",
     "output_type": "stream",
     "text": [
      "\u001b[33mWARNING: Ignoring invalid distribution -umpy (/opt/anaconda3/lib/python3.9/site-packages)\u001b[0m\r\n",
      "\u001b[33mWARNING: Ignoring invalid distribution -umpy (/opt/anaconda3/lib/python3.9/site-packages)\u001b[0m\r\n",
      "Requirement already satisfied: db-dtypes in /opt/anaconda3/lib/python3.9/site-packages (1.0.5)\r\n",
      "Requirement already satisfied: pandas<2.0dev,>=0.24.2 in /opt/anaconda3/lib/python3.9/site-packages (from db-dtypes) (1.5.3)\r\n",
      "Requirement already satisfied: numpy<2.0dev,>=1.16.6 in /opt/anaconda3/lib/python3.9/site-packages (from db-dtypes) (1.22.4)\r\n",
      "Requirement already satisfied: packaging>=17.0 in /opt/anaconda3/lib/python3.9/site-packages (from db-dtypes) (21.3)\r\n",
      "Requirement already satisfied: pyarrow>=3.0.0 in /opt/anaconda3/lib/python3.9/site-packages (from db-dtypes) (10.0.1)\r\n",
      "Requirement already satisfied: pyparsing!=3.0.5,>=2.0.2 in /opt/anaconda3/lib/python3.9/site-packages (from packaging>=17.0->db-dtypes) (3.0.4)\r\n",
      "Requirement already satisfied: python-dateutil>=2.8.1 in /opt/anaconda3/lib/python3.9/site-packages (from pandas<2.0dev,>=0.24.2->db-dtypes) (2.8.2)\r\n",
      "Requirement already satisfied: pytz>=2020.1 in /opt/anaconda3/lib/python3.9/site-packages (from pandas<2.0dev,>=0.24.2->db-dtypes) (2021.3)\r\n",
      "Requirement already satisfied: six>=1.5 in /opt/anaconda3/lib/python3.9/site-packages (from python-dateutil>=2.8.1->pandas<2.0dev,>=0.24.2->db-dtypes) (1.16.0)\r\n",
      "\u001b[33mWARNING: Ignoring invalid distribution -umpy (/opt/anaconda3/lib/python3.9/site-packages)\u001b[0m\r\n"
     ]
    },
    {
     "name": "stdout",
     "output_type": "stream",
     "text": [
      "\u001b[33mWARNING: Ignoring invalid distribution -umpy (/opt/anaconda3/lib/python3.9/site-packages)\u001b[0m\r\n",
      "\u001b[33mWARNING: Ignoring invalid distribution -umpy (/opt/anaconda3/lib/python3.9/site-packages)\u001b[0m\r\n",
      "\u001b[33mWARNING: Ignoring invalid distribution -umpy (/opt/anaconda3/lib/python3.9/site-packages)\u001b[0m\r\n"
     ]
    }
   ],
   "source": [
    "get_ipython().system('pip install db-dtypes')"
   ]
  },
  {
   "cell_type": "code",
   "execution_count": 2,
   "id": "f31795e7",
   "metadata": {
    "execution": {
     "iopub.execute_input": "2023-05-09T21:19:52.049050Z",
     "iopub.status.busy": "2023-05-09T21:19:52.048814Z",
     "iopub.status.idle": "2023-05-09T21:19:52.451993Z",
     "shell.execute_reply": "2023-05-09T21:19:52.451714Z"
    }
   },
   "outputs": [],
   "source": [
    "import os\n",
    "import pandas\n",
    "from google.cloud import bigquery\n",
    "from google.oauth2 import service_account\n",
    "from google.cloud.bigquery import magics"
   ]
  },
  {
   "cell_type": "markdown",
   "id": "7edc15ea",
   "metadata": {},
   "source": [
    "CONFIGURE THE BIGQUERY SETTINGS"
   ]
  },
  {
   "cell_type": "code",
   "execution_count": 3,
   "id": "85bbc656",
   "metadata": {
    "execution": {
     "iopub.execute_input": "2023-05-09T21:19:52.453654Z",
     "iopub.status.busy": "2023-05-09T21:19:52.453526Z",
     "iopub.status.idle": "2023-05-09T21:19:52.460462Z",
     "shell.execute_reply": "2023-05-09T21:19:52.460154Z"
    }
   },
   "outputs": [],
   "source": [
    "BIGQUERY_PROJECT = 'ironhacks-data'\n",
    "bigquery_client = bigquery.Client(project=BIGQUERY_PROJECT)"
   ]
  },
  {
   "cell_type": "code",
   "execution_count": 4,
   "id": "27ce78b7",
   "metadata": {
    "execution": {
     "iopub.execute_input": "2023-05-09T21:19:52.462006Z",
     "iopub.status.busy": "2023-05-09T21:19:52.461924Z",
     "iopub.status.idle": "2023-05-09T21:19:52.463929Z",
     "shell.execute_reply": "2023-05-09T21:19:52.463677Z"
    }
   },
   "outputs": [],
   "source": [
    "query = \"\"\"\n",
    "SELECT *\n",
    "FROM `ironhacks-data.ironhacks_training.covid19_cases`\n",
    "\"\"\""
   ]
  },
  {
   "cell_type": "code",
   "execution_count": 5,
   "id": "56648f87",
   "metadata": {
    "execution": {
     "iopub.execute_input": "2023-05-09T21:19:52.465315Z",
     "iopub.status.busy": "2023-05-09T21:19:52.465240Z",
     "iopub.status.idle": "2023-05-09T21:19:54.649289Z",
     "shell.execute_reply": "2023-05-09T21:19:54.648760Z"
    }
   },
   "outputs": [
    {
     "data": {
      "text/html": [
       "<div>\n",
       "<style scoped>\n",
       "    .dataframe tbody tr th:only-of-type {\n",
       "        vertical-align: middle;\n",
       "    }\n",
       "\n",
       "    .dataframe tbody tr th {\n",
       "        vertical-align: top;\n",
       "    }\n",
       "\n",
       "    .dataframe thead th {\n",
       "        text-align: right;\n",
       "    }\n",
       "</style>\n",
       "<table border=\"1\" class=\"dataframe\">\n",
       "  <thead>\n",
       "    <tr style=\"text-align: right;\">\n",
       "      <th></th>\n",
       "      <th>week_number</th>\n",
       "      <th>start_date</th>\n",
       "      <th>county</th>\n",
       "      <th>fips</th>\n",
       "      <th>cases</th>\n",
       "      <th>deaths</th>\n",
       "    </tr>\n",
       "  </thead>\n",
       "  <tbody>\n",
       "    <tr>\n",
       "      <th>0</th>\n",
       "      <td>9</td>\n",
       "      <td>2021-03-01</td>\n",
       "      <td>Marion</td>\n",
       "      <td>18097</td>\n",
       "      <td>664</td>\n",
       "      <td>23</td>\n",
       "    </tr>\n",
       "    <tr>\n",
       "      <th>1</th>\n",
       "      <td>12</td>\n",
       "      <td>2021-03-22</td>\n",
       "      <td>Marion</td>\n",
       "      <td>18097</td>\n",
       "      <td>623</td>\n",
       "      <td>11</td>\n",
       "    </tr>\n",
       "    <tr>\n",
       "      <th>2</th>\n",
       "      <td>19</td>\n",
       "      <td>2021-05-10</td>\n",
       "      <td>Marion</td>\n",
       "      <td>18097</td>\n",
       "      <td>1156</td>\n",
       "      <td>4</td>\n",
       "    </tr>\n",
       "    <tr>\n",
       "      <th>3</th>\n",
       "      <td>11</td>\n",
       "      <td>2021-03-15</td>\n",
       "      <td>Marion</td>\n",
       "      <td>18097</td>\n",
       "      <td>560</td>\n",
       "      <td>13</td>\n",
       "    </tr>\n",
       "    <tr>\n",
       "      <th>4</th>\n",
       "      <td>6</td>\n",
       "      <td>2021-02-08</td>\n",
       "      <td>Marion</td>\n",
       "      <td>18097</td>\n",
       "      <td>1542</td>\n",
       "      <td>219</td>\n",
       "    </tr>\n",
       "  </tbody>\n",
       "</table>\n",
       "</div>"
      ],
      "text/plain": [
       "   week_number  start_date  county   fips  cases  deaths\n",
       "0            9  2021-03-01  Marion  18097    664      23\n",
       "1           12  2021-03-22  Marion  18097    623      11\n",
       "2           19  2021-05-10  Marion  18097   1156       4\n",
       "3           11  2021-03-15  Marion  18097    560      13\n",
       "4            6  2021-02-08  Marion  18097   1542     219"
      ]
     },
     "execution_count": 5,
     "metadata": {},
     "output_type": "execute_result"
    }
   ],
   "source": [
    "# QUERY THE DATA ONCE\n",
    "query_job = bigquery_client.query(query)\n",
    "covid19_cases_data = query_job.to_dataframe()\n",
    "covid19_cases_data.head()"
   ]
  },
  {
   "cell_type": "code",
   "execution_count": 6,
   "id": "7e61e9ff",
   "metadata": {
    "execution": {
     "iopub.execute_input": "2023-05-09T21:19:54.651778Z",
     "iopub.status.busy": "2023-05-09T21:19:54.651583Z",
     "iopub.status.idle": "2023-05-09T21:19:54.656276Z",
     "shell.execute_reply": "2023-05-09T21:19:54.655849Z"
    }
   },
   "outputs": [
    {
     "name": "stdout",
     "output_type": "stream",
     "text": [
      "Columns:\n",
      "week_number\n",
      "start_date\n",
      "county\n",
      "fips\n",
      "cases\n",
      "deaths\n",
      "\n",
      "Results:\n",
      "   week_number  start_date  county   fips  cases  deaths\n",
      "0            9  2021-03-01  Marion  18097    664      23\n",
      "1           12  2021-03-22  Marion  18097    623      11\n",
      "2           19  2021-05-10  Marion  18097   1156       4\n",
      "3           11  2021-03-15  Marion  18097    560      13\n",
      "4            6  2021-02-08  Marion  18097   1542     219\n"
     ]
    }
   ],
   "source": [
    "# THEN WORK BELOW TO DO SOMETHING THE RESULTS\n",
    "print(\"Columns:\")\n",
    "print('\\n'.join(covid19_cases_data.columns))\n",
    "print(\"\\nResults:\")\n",
    "print(covid19_cases_data.head())"
   ]
  },
  {
   "cell_type": "code",
   "execution_count": 7,
   "id": "029c8494",
   "metadata": {
    "execution": {
     "iopub.execute_input": "2023-05-09T21:19:54.658500Z",
     "iopub.status.busy": "2023-05-09T21:19:54.658318Z",
     "iopub.status.idle": "2023-05-09T21:19:54.660452Z",
     "shell.execute_reply": "2023-05-09T21:19:54.660106Z"
    }
   },
   "outputs": [],
   "source": [
    "query = \"\"\"\n",
    "SELECT COUNT(*)\n",
    "FROM `ironhacks-data.ironhacks_training.covid19_cases`\n",
    "\"\"\""
   ]
  },
  {
   "cell_type": "code",
   "execution_count": 8,
   "id": "6ba23acd",
   "metadata": {
    "execution": {
     "iopub.execute_input": "2023-05-09T21:19:54.662426Z",
     "iopub.status.busy": "2023-05-09T21:19:54.662268Z",
     "iopub.status.idle": "2023-05-09T21:19:56.894669Z",
     "shell.execute_reply": "2023-05-09T21:19:56.893931Z"
    }
   },
   "outputs": [],
   "source": [
    "query_job = bigquery_client.query(query)\n",
    "covid19_cases_data = query_job.to_dataframe()"
   ]
  },
  {
   "cell_type": "code",
   "execution_count": 9,
   "id": "45e0b2b4",
   "metadata": {
    "execution": {
     "iopub.execute_input": "2023-05-09T21:19:56.898659Z",
     "iopub.status.busy": "2023-05-09T21:19:56.898322Z",
     "iopub.status.idle": "2023-05-09T21:19:56.903468Z",
     "shell.execute_reply": "2023-05-09T21:19:56.902844Z"
    }
   },
   "outputs": [
    {
     "name": "stdout",
     "output_type": "stream",
     "text": [
      "   f0_\n",
      "0   46\n"
     ]
    }
   ],
   "source": [
    "print(covid19_cases_data)"
   ]
  },
  {
   "cell_type": "code",
   "execution_count": 10,
   "id": "4e6a88bc",
   "metadata": {
    "execution": {
     "iopub.execute_input": "2023-05-09T21:19:56.906531Z",
     "iopub.status.busy": "2023-05-09T21:19:56.906284Z",
     "iopub.status.idle": "2023-05-09T21:19:56.909212Z",
     "shell.execute_reply": "2023-05-09T21:19:56.908650Z"
    }
   },
   "outputs": [],
   "source": [
    "query = \"\"\"\n",
    "SELECT \n",
    "week_number,\n",
    "cases \n",
    "FROM `ironhacks-data.ironhacks_training.covid19_cases`\n",
    "Where week_number between 1 and 3\n",
    "order by week_number\n",
    "\"\"\""
   ]
  },
  {
   "cell_type": "code",
   "execution_count": 11,
   "id": "cd5e5a28",
   "metadata": {
    "execution": {
     "iopub.execute_input": "2023-05-09T21:19:56.911954Z",
     "iopub.status.busy": "2023-05-09T21:19:56.911716Z",
     "iopub.status.idle": "2023-05-09T21:19:59.205468Z",
     "shell.execute_reply": "2023-05-09T21:19:59.204317Z"
    }
   },
   "outputs": [],
   "source": [
    "query_job = bigquery_client.query(query)\n",
    "covid19_cases_data = query_job.to_dataframe()"
   ]
  },
  {
   "cell_type": "code",
   "execution_count": 12,
   "id": "dfb0ba69",
   "metadata": {
    "execution": {
     "iopub.execute_input": "2023-05-09T21:19:59.209981Z",
     "iopub.status.busy": "2023-05-09T21:19:59.209641Z",
     "iopub.status.idle": "2023-05-09T21:19:59.215685Z",
     "shell.execute_reply": "2023-05-09T21:19:59.215062Z"
    }
   },
   "outputs": [
    {
     "name": "stdout",
     "output_type": "stream",
     "text": [
      "   week_number  cases\n",
      "0            1   4714\n",
      "1            1    964\n",
      "2            2   5289\n",
      "3            2   1232\n",
      "4            3   3460\n"
     ]
    }
   ],
   "source": [
    "print(covid19_cases_data.head())"
   ]
  },
  {
   "cell_type": "code",
   "execution_count": 13,
   "id": "b980bf10",
   "metadata": {
    "execution": {
     "iopub.execute_input": "2023-05-09T21:19:59.218923Z",
     "iopub.status.busy": "2023-05-09T21:19:59.218678Z",
     "iopub.status.idle": "2023-05-09T21:19:59.223899Z",
     "shell.execute_reply": "2023-05-09T21:19:59.223386Z"
    },
    "lines_to_next_cell": 2
   },
   "outputs": [
    {
     "name": "stdout",
     "output_type": "stream",
     "text": [
      "mean:  cases    2732.666667\n",
      "dtype: float64\n"
     ]
    }
   ],
   "source": [
    "df = pandas.DataFrame(covid19_cases_data, columns = ['cases'])\n",
    "print(\"mean: \", df.mean()); "
   ]
  }
 ],
 "metadata": {
  "jupytext": {
   "cell_metadata_filter": "-all",
   "main_language": "python",
   "notebook_metadata_filter": "-all"
  },
  "kernelspec": {
   "display_name": "base",
   "language": "python",
   "name": "python3"
  },
  "language_info": {
   "codemirror_mode": {
    "name": "ipython",
    "version": 3
   },
   "file_extension": ".py",
   "mimetype": "text/x-python",
   "name": "python",
   "nbconvert_exporter": "python",
   "pygments_lexer": "ipython3",
   "version": "3.9.12"
  }
 },
 "nbformat": 4,
 "nbformat_minor": 5
}
