{
 "cells": [
  {
   "cell_type": "code",
   "execution_count": 1,
   "id": "b098dece",
   "metadata": {
    "execution": {
     "iopub.execute_input": "2023-05-09T21:11:52.884901Z",
     "iopub.status.busy": "2023-05-09T21:11:52.884357Z",
     "iopub.status.idle": "2023-05-09T21:11:55.471600Z",
     "shell.execute_reply": "2023-05-09T21:11:55.471022Z"
    }
   },
   "outputs": [
    {
     "name": "stdout",
     "output_type": "stream",
     "text": [
      "\u001b[33mWARNING: Ignoring invalid distribution -umpy (/opt/anaconda3/lib/python3.9/site-packages)\u001b[0m\r\n",
      "\u001b[33mWARNING: Ignoring invalid distribution -umpy (/opt/anaconda3/lib/python3.9/site-packages)\u001b[0m\r\n",
      "Requirement already satisfied: db-dtypes in /opt/anaconda3/lib/python3.9/site-packages (1.0.5)\r\n",
      "Requirement already satisfied: numpy<2.0dev,>=1.16.6 in /opt/anaconda3/lib/python3.9/site-packages (from db-dtypes) (1.22.4)\r\n",
      "Requirement already satisfied: pandas<2.0dev,>=0.24.2 in /opt/anaconda3/lib/python3.9/site-packages (from db-dtypes) (1.5.3)\r\n",
      "Requirement already satisfied: pyarrow>=3.0.0 in /opt/anaconda3/lib/python3.9/site-packages (from db-dtypes) (10.0.1)\r\n",
      "Requirement already satisfied: packaging>=17.0 in /opt/anaconda3/lib/python3.9/site-packages (from db-dtypes) (21.3)\r\n",
      "Requirement already satisfied: pyparsing!=3.0.5,>=2.0.2 in /opt/anaconda3/lib/python3.9/site-packages (from packaging>=17.0->db-dtypes) (3.0.4)\r\n",
      "Requirement already satisfied: python-dateutil>=2.8.1 in /opt/anaconda3/lib/python3.9/site-packages (from pandas<2.0dev,>=0.24.2->db-dtypes) (2.8.2)\r\n",
      "Requirement already satisfied: pytz>=2020.1 in /opt/anaconda3/lib/python3.9/site-packages (from pandas<2.0dev,>=0.24.2->db-dtypes) (2021.3)\r\n",
      "Requirement already satisfied: six>=1.5 in /opt/anaconda3/lib/python3.9/site-packages (from python-dateutil>=2.8.1->pandas<2.0dev,>=0.24.2->db-dtypes) (1.16.0)\r\n",
      "\u001b[33mWARNING: Ignoring invalid distribution -umpy (/opt/anaconda3/lib/python3.9/site-packages)\u001b[0m\r\n"
     ]
    },
    {
     "name": "stdout",
     "output_type": "stream",
     "text": [
      "\u001b[33mWARNING: Ignoring invalid distribution -umpy (/opt/anaconda3/lib/python3.9/site-packages)\u001b[0m\r\n",
      "\u001b[33mWARNING: Ignoring invalid distribution -umpy (/opt/anaconda3/lib/python3.9/site-packages)\u001b[0m\r\n",
      "\u001b[33mWARNING: Ignoring invalid distribution -umpy (/opt/anaconda3/lib/python3.9/site-packages)\u001b[0m\r\n"
     ]
    }
   ],
   "source": [
    "get_ipython().system('pip install db-dtypes')"
   ]
  },
  {
   "cell_type": "code",
   "execution_count": 2,
   "id": "872de3e2",
   "metadata": {
    "execution": {
     "iopub.execute_input": "2023-05-09T21:11:55.474474Z",
     "iopub.status.busy": "2023-05-09T21:11:55.474263Z",
     "iopub.status.idle": "2023-05-09T21:11:55.891737Z",
     "shell.execute_reply": "2023-05-09T21:11:55.891439Z"
    }
   },
   "outputs": [],
   "source": [
    "import pandas as pd\n",
    "import numpy as np\n",
    "from google.cloud import bigquery"
   ]
  },
  {
   "cell_type": "code",
   "execution_count": 3,
   "id": "4753802f",
   "metadata": {
    "execution": {
     "iopub.execute_input": "2023-05-09T21:11:55.893469Z",
     "iopub.status.busy": "2023-05-09T21:11:55.893327Z",
     "iopub.status.idle": "2023-05-09T21:11:55.901224Z",
     "shell.execute_reply": "2023-05-09T21:11:55.900834Z"
    }
   },
   "outputs": [],
   "source": [
    "BIGQUERY_PROJECT = 'ironhacks-data'\n",
    "bigquery_client = bigquery.Client(project=BIGQUERY_PROJECT)"
   ]
  },
  {
   "cell_type": "code",
   "execution_count": 4,
   "id": "96b6bfcf",
   "metadata": {
    "execution": {
     "iopub.execute_input": "2023-05-09T21:11:55.903052Z",
     "iopub.status.busy": "2023-05-09T21:11:55.902938Z",
     "iopub.status.idle": "2023-05-09T21:11:55.904834Z",
     "shell.execute_reply": "2023-05-09T21:11:55.904563Z"
    }
   },
   "outputs": [],
   "source": [
    "query = \"\"\"\n",
    "SELECT *\n",
    "FROM `ironhacks-data.ironhacks_competition.unemployment_data`\n",
    "WHERE uu_id='e201385d37b5f6eea30f6d6d4106dc6f'\n",
    "\"\"\""
   ]
  },
  {
   "cell_type": "code",
   "execution_count": 5,
   "id": "9e565dc7",
   "metadata": {
    "execution": {
     "iopub.execute_input": "2023-05-09T21:11:55.906212Z",
     "iopub.status.busy": "2023-05-09T21:11:55.906109Z",
     "iopub.status.idle": "2023-05-09T21:11:58.356458Z",
     "shell.execute_reply": "2023-05-09T21:11:58.355720Z"
    }
   },
   "outputs": [],
   "source": [
    "query_job = bigquery_client.query(query)\n",
    "unemployment_data = query_job.to_dataframe()"
   ]
  },
  {
   "cell_type": "code",
   "execution_count": 6,
   "id": "d6e006f5",
   "metadata": {
    "execution": {
     "iopub.execute_input": "2023-05-09T21:11:58.360524Z",
     "iopub.status.busy": "2023-05-09T21:11:58.360199Z",
     "iopub.status.idle": "2023-05-09T21:11:58.370520Z",
     "shell.execute_reply": "2023-05-09T21:11:58.369965Z"
    }
   },
   "outputs": [
    {
     "data": {
      "text/plain": [
       "(0, 25)"
      ]
     },
     "execution_count": 6,
     "metadata": {},
     "output_type": "execute_result"
    }
   ],
   "source": [
    "unemployment_data.shape"
   ]
  },
  {
   "cell_type": "code",
   "execution_count": 7,
   "id": "9fa73b1c",
   "metadata": {
    "execution": {
     "iopub.execute_input": "2023-05-09T21:11:58.373869Z",
     "iopub.status.busy": "2023-05-09T21:11:58.373438Z",
     "iopub.status.idle": "2023-05-09T21:11:58.384586Z",
     "shell.execute_reply": "2023-05-09T21:11:58.384041Z"
    }
   },
   "outputs": [
    {
     "data": {
      "text/html": [
       "<div>\n",
       "<style scoped>\n",
       "    .dataframe tbody tr th:only-of-type {\n",
       "        vertical-align: middle;\n",
       "    }\n",
       "\n",
       "    .dataframe tbody tr th {\n",
       "        vertical-align: top;\n",
       "    }\n",
       "\n",
       "    .dataframe thead th {\n",
       "        text-align: right;\n",
       "    }\n",
       "</style>\n",
       "<table border=\"1\" class=\"dataframe\">\n",
       "  <thead>\n",
       "    <tr style=\"text-align: right;\">\n",
       "      <th></th>\n",
       "      <th>uu_id</th>\n",
       "      <th>timeperiod</th>\n",
       "      <th>week_number</th>\n",
       "      <th>countyfips</th>\n",
       "      <th>tract</th>\n",
       "      <th>tract_name</th>\n",
       "      <th>total_claims</th>\n",
       "      <th>edu_8th_or_less</th>\n",
       "      <th>edu_grades_9_11</th>\n",
       "      <th>edu_hs_grad_equiv</th>\n",
       "      <th>...</th>\n",
       "      <th>gender_female</th>\n",
       "      <th>gender_male</th>\n",
       "      <th>gender_na</th>\n",
       "      <th>race_amerindian</th>\n",
       "      <th>race_asian</th>\n",
       "      <th>race_black</th>\n",
       "      <th>race_noanswer</th>\n",
       "      <th>race_hawaiiannative</th>\n",
       "      <th>race_other</th>\n",
       "      <th>race_white</th>\n",
       "    </tr>\n",
       "  </thead>\n",
       "  <tbody>\n",
       "  </tbody>\n",
       "</table>\n",
       "<p>0 rows × 25 columns</p>\n",
       "</div>"
      ],
      "text/plain": [
       "Empty DataFrame\n",
       "Columns: [uu_id, timeperiod, week_number, countyfips, tract, tract_name, total_claims, edu_8th_or_less, edu_grades_9_11, edu_hs_grad_equiv, edu_post_hs, edu_unknown, top_category_employer1, top_category_employer2, top_category_employer3, gender_female, gender_male, gender_na, race_amerindian, race_asian, race_black, race_noanswer, race_hawaiiannative, race_other, race_white]\n",
       "Index: []\n",
       "\n",
       "[0 rows x 25 columns]"
      ]
     },
     "execution_count": 7,
     "metadata": {},
     "output_type": "execute_result"
    }
   ],
   "source": [
    "unemployment_data.sort_values(['week_number'])"
   ]
  },
  {
   "cell_type": "code",
   "execution_count": 8,
   "id": "72a990eb",
   "metadata": {
    "execution": {
     "iopub.execute_input": "2023-05-09T21:11:58.387158Z",
     "iopub.status.busy": "2023-05-09T21:11:58.386948Z",
     "iopub.status.idle": "2023-05-09T21:11:58.390294Z",
     "shell.execute_reply": "2023-05-09T21:11:58.389911Z"
    }
   },
   "outputs": [
    {
     "data": {
      "text/plain": [
       "Index(['uu_id', 'timeperiod', 'week_number', 'countyfips', 'tract',\n",
       "       'tract_name', 'total_claims', 'edu_8th_or_less', 'edu_grades_9_11',\n",
       "       'edu_hs_grad_equiv', 'edu_post_hs', 'edu_unknown',\n",
       "       'top_category_employer1', 'top_category_employer2',\n",
       "       'top_category_employer3', 'gender_female', 'gender_male', 'gender_na',\n",
       "       'race_amerindian', 'race_asian', 'race_black', 'race_noanswer',\n",
       "       'race_hawaiiannative', 'race_other', 'race_white'],\n",
       "      dtype='object')"
      ]
     },
     "execution_count": 8,
     "metadata": {},
     "output_type": "execute_result"
    }
   ],
   "source": [
    "unemployment_data.columns"
   ]
  },
  {
   "cell_type": "code",
   "execution_count": 9,
   "id": "f2bb1976",
   "metadata": {
    "execution": {
     "iopub.execute_input": "2023-05-09T21:11:58.392408Z",
     "iopub.status.busy": "2023-05-09T21:11:58.392267Z",
     "iopub.status.idle": "2023-05-09T21:11:58.395845Z",
     "shell.execute_reply": "2023-05-09T21:11:58.395478Z"
    }
   },
   "outputs": [],
   "source": [
    "unemployment_data.drop(['uu_id', 'week_number', 'countyfips', 'tract',\n",
    "       'tract_name', 'edu_8th_or_less', 'edu_grades_9_11',\n",
    "       'edu_hs_grad_equiv', 'edu_post_hs', 'edu_unknown',\n",
    "       'top_category_employer1', 'top_category_employer2',\n",
    "       'top_category_employer3', 'gender_female', 'gender_male', 'gender_na',\n",
    "       'race_amerindian', 'race_asian', 'race_black', 'race_noanswer',\n",
    "       'race_hawaiiannative', 'race_other', 'race_white'], axis=1, inplace=True)"
   ]
  },
  {
   "cell_type": "code",
   "execution_count": 10,
   "id": "b9dd2419",
   "metadata": {
    "execution": {
     "iopub.execute_input": "2023-05-09T21:11:58.397898Z",
     "iopub.status.busy": "2023-05-09T21:11:58.397730Z",
     "iopub.status.idle": "2023-05-09T21:11:58.401336Z",
     "shell.execute_reply": "2023-05-09T21:11:58.400982Z"
    }
   },
   "outputs": [
    {
     "data": {
      "text/html": [
       "<div>\n",
       "<style scoped>\n",
       "    .dataframe tbody tr th:only-of-type {\n",
       "        vertical-align: middle;\n",
       "    }\n",
       "\n",
       "    .dataframe tbody tr th {\n",
       "        vertical-align: top;\n",
       "    }\n",
       "\n",
       "    .dataframe thead th {\n",
       "        text-align: right;\n",
       "    }\n",
       "</style>\n",
       "<table border=\"1\" class=\"dataframe\">\n",
       "  <thead>\n",
       "    <tr style=\"text-align: right;\">\n",
       "      <th></th>\n",
       "      <th>timeperiod</th>\n",
       "      <th>total_claims</th>\n",
       "    </tr>\n",
       "  </thead>\n",
       "  <tbody>\n",
       "  </tbody>\n",
       "</table>\n",
       "</div>"
      ],
      "text/plain": [
       "Empty DataFrame\n",
       "Columns: [timeperiod, total_claims]\n",
       "Index: []"
      ]
     },
     "execution_count": 10,
     "metadata": {},
     "output_type": "execute_result"
    }
   ],
   "source": [
    "unemployment_data"
   ]
  },
  {
   "cell_type": "code",
   "execution_count": 11,
   "id": "f5703453",
   "metadata": {
    "execution": {
     "iopub.execute_input": "2023-05-09T21:11:58.403214Z",
     "iopub.status.busy": "2023-05-09T21:11:58.403088Z",
     "iopub.status.idle": "2023-05-09T21:11:58.406785Z",
     "shell.execute_reply": "2023-05-09T21:11:58.406425Z"
    }
   },
   "outputs": [],
   "source": [
    "unemployment_data['year'] = unemployment_data['timeperiod'].apply(lambda x: str(x)[:4])\n",
    "unemployment_data['month'] = unemployment_data['timeperiod'].apply(lambda x: str(x)[4:6])\n",
    "unemployment_data['day'] = unemployment_data['timeperiod'].apply(lambda x: str(x)[6:])"
   ]
  },
  {
   "cell_type": "code",
   "execution_count": 12,
   "id": "21531dc6",
   "metadata": {
    "execution": {
     "iopub.execute_input": "2023-05-09T21:11:58.408690Z",
     "iopub.status.busy": "2023-05-09T21:11:58.408546Z",
     "iopub.status.idle": "2023-05-09T21:11:58.411954Z",
     "shell.execute_reply": "2023-05-09T21:11:58.411644Z"
    }
   },
   "outputs": [
    {
     "data": {
      "text/html": [
       "<div>\n",
       "<style scoped>\n",
       "    .dataframe tbody tr th:only-of-type {\n",
       "        vertical-align: middle;\n",
       "    }\n",
       "\n",
       "    .dataframe tbody tr th {\n",
       "        vertical-align: top;\n",
       "    }\n",
       "\n",
       "    .dataframe thead th {\n",
       "        text-align: right;\n",
       "    }\n",
       "</style>\n",
       "<table border=\"1\" class=\"dataframe\">\n",
       "  <thead>\n",
       "    <tr style=\"text-align: right;\">\n",
       "      <th></th>\n",
       "      <th>timeperiod</th>\n",
       "      <th>total_claims</th>\n",
       "      <th>year</th>\n",
       "      <th>month</th>\n",
       "      <th>day</th>\n",
       "    </tr>\n",
       "  </thead>\n",
       "  <tbody>\n",
       "  </tbody>\n",
       "</table>\n",
       "</div>"
      ],
      "text/plain": [
       "Empty DataFrame\n",
       "Columns: [timeperiod, total_claims, year, month, day]\n",
       "Index: []"
      ]
     },
     "execution_count": 12,
     "metadata": {},
     "output_type": "execute_result"
    }
   ],
   "source": [
    "unemployment_data"
   ]
  },
  {
   "cell_type": "code",
   "execution_count": 13,
   "id": "2ef8bec1",
   "metadata": {
    "execution": {
     "iopub.execute_input": "2023-05-09T21:11:58.413681Z",
     "iopub.status.busy": "2023-05-09T21:11:58.413573Z",
     "iopub.status.idle": "2023-05-09T21:11:58.416622Z",
     "shell.execute_reply": "2023-05-09T21:11:58.416305Z"
    }
   },
   "outputs": [],
   "source": [
    "unemployment_data['ds'] = pd.DatetimeIndex(unemployment_data['year'] + '-' + unemployment_data['month'] + '-' + unemployment_data['day'])"
   ]
  },
  {
   "cell_type": "code",
   "execution_count": 14,
   "id": "a8289a64",
   "metadata": {
    "execution": {
     "iopub.execute_input": "2023-05-09T21:11:58.418258Z",
     "iopub.status.busy": "2023-05-09T21:11:58.418125Z",
     "iopub.status.idle": "2023-05-09T21:11:58.421481Z",
     "shell.execute_reply": "2023-05-09T21:11:58.421183Z"
    }
   },
   "outputs": [
    {
     "data": {
      "text/html": [
       "<div>\n",
       "<style scoped>\n",
       "    .dataframe tbody tr th:only-of-type {\n",
       "        vertical-align: middle;\n",
       "    }\n",
       "\n",
       "    .dataframe tbody tr th {\n",
       "        vertical-align: top;\n",
       "    }\n",
       "\n",
       "    .dataframe thead th {\n",
       "        text-align: right;\n",
       "    }\n",
       "</style>\n",
       "<table border=\"1\" class=\"dataframe\">\n",
       "  <thead>\n",
       "    <tr style=\"text-align: right;\">\n",
       "      <th></th>\n",
       "      <th>timeperiod</th>\n",
       "      <th>total_claims</th>\n",
       "      <th>year</th>\n",
       "      <th>month</th>\n",
       "      <th>day</th>\n",
       "      <th>ds</th>\n",
       "    </tr>\n",
       "  </thead>\n",
       "  <tbody>\n",
       "  </tbody>\n",
       "</table>\n",
       "</div>"
      ],
      "text/plain": [
       "Empty DataFrame\n",
       "Columns: [timeperiod, total_claims, year, month, day, ds]\n",
       "Index: []"
      ]
     },
     "execution_count": 14,
     "metadata": {},
     "output_type": "execute_result"
    }
   ],
   "source": [
    "unemployment_data"
   ]
  },
  {
   "cell_type": "code",
   "execution_count": 15,
   "id": "1c58cde1",
   "metadata": {
    "execution": {
     "iopub.execute_input": "2023-05-09T21:11:58.423046Z",
     "iopub.status.busy": "2023-05-09T21:11:58.422938Z",
     "iopub.status.idle": "2023-05-09T21:11:58.425382Z",
     "shell.execute_reply": "2023-05-09T21:11:58.425111Z"
    }
   },
   "outputs": [],
   "source": [
    "unemployment_data.drop(['timeperiod', 'year', 'month', 'day'], axis=1, inplace=True)\n",
    "unemployment_data.columns = ['y', 'ds']"
   ]
  },
  {
   "cell_type": "code",
   "execution_count": 16,
   "id": "725c850b",
   "metadata": {
    "execution": {
     "iopub.execute_input": "2023-05-09T21:11:58.426903Z",
     "iopub.status.busy": "2023-05-09T21:11:58.426810Z",
     "iopub.status.idle": "2023-05-09T21:11:58.429768Z",
     "shell.execute_reply": "2023-05-09T21:11:58.429486Z"
    }
   },
   "outputs": [
    {
     "data": {
      "text/html": [
       "<div>\n",
       "<style scoped>\n",
       "    .dataframe tbody tr th:only-of-type {\n",
       "        vertical-align: middle;\n",
       "    }\n",
       "\n",
       "    .dataframe tbody tr th {\n",
       "        vertical-align: top;\n",
       "    }\n",
       "\n",
       "    .dataframe thead th {\n",
       "        text-align: right;\n",
       "    }\n",
       "</style>\n",
       "<table border=\"1\" class=\"dataframe\">\n",
       "  <thead>\n",
       "    <tr style=\"text-align: right;\">\n",
       "      <th></th>\n",
       "      <th>y</th>\n",
       "      <th>ds</th>\n",
       "    </tr>\n",
       "  </thead>\n",
       "  <tbody>\n",
       "  </tbody>\n",
       "</table>\n",
       "</div>"
      ],
      "text/plain": [
       "Empty DataFrame\n",
       "Columns: [y, ds]\n",
       "Index: []"
      ]
     },
     "execution_count": 16,
     "metadata": {},
     "output_type": "execute_result"
    }
   ],
   "source": [
    "unemployment_data"
   ]
  },
  {
   "cell_type": "code",
   "execution_count": 17,
   "id": "3ca7fd5a",
   "metadata": {
    "execution": {
     "iopub.execute_input": "2023-05-09T21:11:58.431313Z",
     "iopub.status.busy": "2023-05-09T21:11:58.431204Z",
     "iopub.status.idle": "2023-05-09T21:11:58.433148Z",
     "shell.execute_reply": "2023-05-09T21:11:58.432890Z"
    }
   },
   "outputs": [],
   "source": [
    "unemployment_data.sort_values(['ds'], inplace=True)"
   ]
  },
  {
   "cell_type": "code",
   "execution_count": 18,
   "id": "a00df76c",
   "metadata": {
    "execution": {
     "iopub.execute_input": "2023-05-09T21:11:58.434557Z",
     "iopub.status.busy": "2023-05-09T21:11:58.434453Z",
     "iopub.status.idle": "2023-05-09T21:11:58.437230Z",
     "shell.execute_reply": "2023-05-09T21:11:58.437000Z"
    }
   },
   "outputs": [
    {
     "data": {
      "text/html": [
       "<div>\n",
       "<style scoped>\n",
       "    .dataframe tbody tr th:only-of-type {\n",
       "        vertical-align: middle;\n",
       "    }\n",
       "\n",
       "    .dataframe tbody tr th {\n",
       "        vertical-align: top;\n",
       "    }\n",
       "\n",
       "    .dataframe thead th {\n",
       "        text-align: right;\n",
       "    }\n",
       "</style>\n",
       "<table border=\"1\" class=\"dataframe\">\n",
       "  <thead>\n",
       "    <tr style=\"text-align: right;\">\n",
       "      <th></th>\n",
       "      <th>y</th>\n",
       "      <th>ds</th>\n",
       "    </tr>\n",
       "  </thead>\n",
       "  <tbody>\n",
       "  </tbody>\n",
       "</table>\n",
       "</div>"
      ],
      "text/plain": [
       "Empty DataFrame\n",
       "Columns: [y, ds]\n",
       "Index: []"
      ]
     },
     "execution_count": 18,
     "metadata": {},
     "output_type": "execute_result"
    }
   ],
   "source": [
    "unemployment_data.drop_duplicates(inplace=True)"
   ]
  },
  {
   "cell_type": "code",
   "execution_count": 19,
   "id": "9f54862b",
   "metadata": {
    "execution": {
     "iopub.execute_input": "2023-05-09T21:11:58.438599Z",
     "iopub.status.busy": "2023-05-09T21:11:58.438499Z",
     "iopub.status.idle": "2023-05-09T21:11:58.441126Z",
     "shell.execute_reply": "2023-05-09T21:11:58.440870Z"
    }
   },
   "outputs": [
    {
     "data": {
      "text/html": [
       "<div>\n",
       "<style scoped>\n",
       "    .dataframe tbody tr th:only-of-type {\n",
       "        vertical-align: middle;\n",
       "    }\n",
       "\n",
       "    .dataframe tbody tr th {\n",
       "        vertical-align: top;\n",
       "    }\n",
       "\n",
       "    .dataframe thead th {\n",
       "        text-align: right;\n",
       "    }\n",
       "</style>\n",
       "<table border=\"1\" class=\"dataframe\">\n",
       "  <thead>\n",
       "    <tr style=\"text-align: right;\">\n",
       "      <th></th>\n",
       "      <th>y</th>\n",
       "      <th>ds</th>\n",
       "    </tr>\n",
       "  </thead>\n",
       "  <tbody>\n",
       "  </tbody>\n",
       "</table>\n",
       "</div>"
      ],
      "text/plain": [
       "Empty DataFrame\n",
       "Columns: [y, ds]\n",
       "Index: []"
      ]
     },
     "execution_count": 19,
     "metadata": {},
     "output_type": "execute_result"
    }
   ],
   "source": [
    "unemployment_data"
   ]
  },
  {
   "cell_type": "code",
   "execution_count": 20,
   "id": "1b27703e",
   "metadata": {
    "execution": {
     "iopub.execute_input": "2023-05-09T21:11:58.442519Z",
     "iopub.status.busy": "2023-05-09T21:11:58.442418Z",
     "iopub.status.idle": "2023-05-09T21:11:58.515886Z",
     "shell.execute_reply": "2023-05-09T21:11:58.515637Z"
    }
   },
   "outputs": [
    {
     "ename": "ModuleNotFoundError",
     "evalue": "No module named 'prophet'",
     "output_type": "error",
     "traceback": [
      "\u001b[0;31m---------------------------------------------------------------------------\u001b[0m",
      "\u001b[0;31mModuleNotFoundError\u001b[0m                       Traceback (most recent call last)",
      "Cell \u001b[0;32mIn [20], line 1\u001b[0m\n\u001b[0;32m----> 1\u001b[0m \u001b[38;5;28;01mfrom\u001b[39;00m \u001b[38;5;21;01mprophet\u001b[39;00m \u001b[38;5;28;01mimport\u001b[39;00m Prophet\n",
      "\u001b[0;31mModuleNotFoundError\u001b[0m: No module named 'prophet'"
     ]
    }
   ],
   "source": [
    "from prophet import Prophet"
   ]
  },
  {
   "cell_type": "code",
   "execution_count": 21,
   "id": "1776b750",
   "metadata": {
    "execution": {
     "iopub.execute_input": "2023-05-09T21:11:58.517427Z",
     "iopub.status.busy": "2023-05-09T21:11:58.517320Z",
     "iopub.status.idle": "2023-05-09T21:12:01.129791Z",
     "shell.execute_reply": "2023-05-09T21:12:01.129191Z"
    }
   },
   "outputs": [
    {
     "name": "stdout",
     "output_type": "stream",
     "text": [
      "\u001b[33mWARNING: Ignoring invalid distribution -umpy (/opt/anaconda3/lib/python3.9/site-packages)\u001b[0m\r\n",
      "\u001b[33mWARNING: Ignoring invalid distribution -umpy (/opt/anaconda3/lib/python3.9/site-packages)\u001b[0m\r\n",
      "Requirement already satisfied: prophet in /opt/anaconda3/lib/python3.9/site-packages (1.1.2)\r\n",
      "Requirement already satisfied: holidays>=0.14.2 in /opt/anaconda3/lib/python3.9/site-packages (from prophet) (0.21.13)\r\n",
      "Requirement already satisfied: tqdm>=4.36.1 in /opt/anaconda3/lib/python3.9/site-packages (from prophet) (4.62.3)\r\n",
      "Requirement already satisfied: numpy>=1.15.4 in /opt/anaconda3/lib/python3.9/site-packages (from prophet) (1.22.4)\r\n",
      "Requirement already satisfied: cmdstanpy>=1.0.4 in /opt/anaconda3/lib/python3.9/site-packages (from prophet) (1.1.0)\r\n",
      "Requirement already satisfied: matplotlib>=2.0.0 in /opt/anaconda3/lib/python3.9/site-packages (from prophet) (3.7.1)\r\n",
      "Requirement already satisfied: convertdate>=2.1.2 in /opt/anaconda3/lib/python3.9/site-packages (from prophet) (2.4.0)\r\n",
      "Requirement already satisfied: pandas>=1.0.4 in /opt/anaconda3/lib/python3.9/site-packages (from prophet) (1.5.3)\r\n",
      "Requirement already satisfied: python-dateutil>=2.8.0 in /opt/anaconda3/lib/python3.9/site-packages (from prophet) (2.8.2)\r\n",
      "Requirement already satisfied: LunarCalendar>=0.0.9 in /opt/anaconda3/lib/python3.9/site-packages (from prophet) (0.0.9)\r\n"
     ]
    },
    {
     "name": "stdout",
     "output_type": "stream",
     "text": [
      "Requirement already satisfied: pymeeus<=1,>=0.3.13 in /opt/anaconda3/lib/python3.9/site-packages (from convertdate>=2.1.2->prophet) (0.5.12)\r\n",
      "Requirement already satisfied: korean-lunar-calendar in /opt/anaconda3/lib/python3.9/site-packages (from holidays>=0.14.2->prophet) (0.3.1)\r\n",
      "Requirement already satisfied: hijri-converter in /opt/anaconda3/lib/python3.9/site-packages (from holidays>=0.14.2->prophet) (2.2.4)\r\n",
      "Requirement already satisfied: pytz in /opt/anaconda3/lib/python3.9/site-packages (from LunarCalendar>=0.0.9->prophet) (2021.3)\r\n",
      "Requirement already satisfied: ephem>=3.7.5.3 in /opt/anaconda3/lib/python3.9/site-packages (from LunarCalendar>=0.0.9->prophet) (4.1.4)\r\n",
      "Requirement already satisfied: contourpy>=1.0.1 in /opt/anaconda3/lib/python3.9/site-packages (from matplotlib>=2.0.0->prophet) (1.0.7)\r\n",
      "Requirement already satisfied: importlib-resources>=3.2.0 in /opt/anaconda3/lib/python3.9/site-packages (from matplotlib>=2.0.0->prophet) (5.12.0)\r\n",
      "Requirement already satisfied: pyparsing>=2.3.1 in /opt/anaconda3/lib/python3.9/site-packages (from matplotlib>=2.0.0->prophet) (3.0.4)\r\n",
      "Requirement already satisfied: fonttools>=4.22.0 in /opt/anaconda3/lib/python3.9/site-packages (from matplotlib>=2.0.0->prophet) (4.25.0)\r\n",
      "Requirement already satisfied: pillow>=6.2.0 in /opt/anaconda3/lib/python3.9/site-packages (from matplotlib>=2.0.0->prophet) (8.4.0)\r\n",
      "Requirement already satisfied: cycler>=0.10 in /opt/anaconda3/lib/python3.9/site-packages (from matplotlib>=2.0.0->prophet) (0.10.0)\r\n",
      "Requirement already satisfied: kiwisolver>=1.0.1 in /opt/anaconda3/lib/python3.9/site-packages (from matplotlib>=2.0.0->prophet) (1.3.1)\r\n",
      "Requirement already satisfied: packaging>=20.0 in /opt/anaconda3/lib/python3.9/site-packages (from matplotlib>=2.0.0->prophet) (21.3)\r\n",
      "Requirement already satisfied: six in /opt/anaconda3/lib/python3.9/site-packages (from cycler>=0.10->matplotlib>=2.0.0->prophet) (1.16.0)\r\n",
      "Requirement already satisfied: zipp>=3.1.0 in /opt/anaconda3/lib/python3.9/site-packages (from importlib-resources>=3.2.0->matplotlib>=2.0.0->prophet) (3.6.0)\r\n"
     ]
    },
    {
     "name": "stdout",
     "output_type": "stream",
     "text": [
      "\u001b[33mWARNING: Ignoring invalid distribution -umpy (/opt/anaconda3/lib/python3.9/site-packages)\u001b[0m\r\n"
     ]
    },
    {
     "name": "stdout",
     "output_type": "stream",
     "text": [
      "\u001b[33mWARNING: Ignoring invalid distribution -umpy (/opt/anaconda3/lib/python3.9/site-packages)\u001b[0m\r\n",
      "\u001b[33mWARNING: Ignoring invalid distribution -umpy (/opt/anaconda3/lib/python3.9/site-packages)\u001b[0m\r\n",
      "\u001b[33mWARNING: Ignoring invalid distribution -umpy (/opt/anaconda3/lib/python3.9/site-packages)\u001b[0m\r\n"
     ]
    }
   ],
   "source": [
    "get_ipython().system('pip install prophet')"
   ]
  },
  {
   "cell_type": "code",
   "execution_count": 22,
   "id": "9a2761e7",
   "metadata": {
    "execution": {
     "iopub.execute_input": "2023-05-09T21:12:01.132841Z",
     "iopub.status.busy": "2023-05-09T21:12:01.132538Z",
     "iopub.status.idle": "2023-05-09T21:12:01.144508Z",
     "shell.execute_reply": "2023-05-09T21:12:01.144101Z"
    }
   },
   "outputs": [
    {
     "ename": "ModuleNotFoundError",
     "evalue": "No module named 'prophet'",
     "output_type": "error",
     "traceback": [
      "\u001b[0;31m---------------------------------------------------------------------------\u001b[0m",
      "\u001b[0;31mModuleNotFoundError\u001b[0m                       Traceback (most recent call last)",
      "Cell \u001b[0;32mIn [22], line 1\u001b[0m\n\u001b[0;32m----> 1\u001b[0m \u001b[38;5;28;01mfrom\u001b[39;00m \u001b[38;5;21;01mprophet\u001b[39;00m \u001b[38;5;28;01mimport\u001b[39;00m Prophet\n",
      "\u001b[0;31mModuleNotFoundError\u001b[0m: No module named 'prophet'"
     ]
    }
   ],
   "source": [
    "from prophet import Prophet"
   ]
  },
  {
   "cell_type": "code",
   "execution_count": 23,
   "id": "42d55bed",
   "metadata": {
    "execution": {
     "iopub.execute_input": "2023-05-09T21:12:01.146628Z",
     "iopub.status.busy": "2023-05-09T21:12:01.146441Z",
     "iopub.status.idle": "2023-05-09T21:12:01.148491Z",
     "shell.execute_reply": "2023-05-09T21:12:01.148161Z"
    }
   },
   "outputs": [],
   "source": [
    "ud = unemployment_data"
   ]
  },
  {
   "cell_type": "code",
   "execution_count": 24,
   "id": "97e888f0",
   "metadata": {
    "execution": {
     "iopub.execute_input": "2023-05-09T21:12:01.150258Z",
     "iopub.status.busy": "2023-05-09T21:12:01.150111Z",
     "iopub.status.idle": "2023-05-09T21:12:01.153173Z",
     "shell.execute_reply": "2023-05-09T21:12:01.152820Z"
    }
   },
   "outputs": [],
   "source": [
    "threshold_date = pd.to_datetime('2022-05-14')\n",
    "mask = ud['ds'] < threshold_date"
   ]
  },
  {
   "cell_type": "code",
   "execution_count": 25,
   "id": "7e2e3fb3",
   "metadata": {
    "execution": {
     "iopub.execute_input": "2023-05-09T21:12:01.154948Z",
     "iopub.status.busy": "2023-05-09T21:12:01.154839Z",
     "iopub.status.idle": "2023-05-09T21:12:01.158021Z",
     "shell.execute_reply": "2023-05-09T21:12:01.157715Z"
    }
   },
   "outputs": [],
   "source": [
    "# Split the data and select `ds` and `y` columns.\n",
    "ud_train = ud[mask][['ds', 'y']]\n",
    "ud_test = ud[~mask][['ds', 'y']]"
   ]
  },
  {
   "cell_type": "code",
   "execution_count": 26,
   "id": "b1da604d",
   "metadata": {
    "execution": {
     "iopub.execute_input": "2023-05-09T21:12:01.159649Z",
     "iopub.status.busy": "2023-05-09T21:12:01.159537Z",
     "iopub.status.idle": "2023-05-09T21:12:01.167414Z",
     "shell.execute_reply": "2023-05-09T21:12:01.167140Z"
    }
   },
   "outputs": [
    {
     "ename": "NameError",
     "evalue": "name 'Prophet' is not defined",
     "output_type": "error",
     "traceback": [
      "\u001b[0;31m---------------------------------------------------------------------------\u001b[0m",
      "\u001b[0;31mNameError\u001b[0m                                 Traceback (most recent call last)",
      "Cell \u001b[0;32mIn [26], line 1\u001b[0m\n\u001b[0;32m----> 1\u001b[0m m \u001b[38;5;241m=\u001b[39m \u001b[43mProphet\u001b[49m()\n",
      "\u001b[0;31mNameError\u001b[0m: name 'Prophet' is not defined"
     ]
    }
   ],
   "source": [
    "m = Prophet()"
   ]
  },
  {
   "cell_type": "code",
   "execution_count": 27,
   "id": "76d062c5",
   "metadata": {
    "execution": {
     "iopub.execute_input": "2023-05-09T21:12:01.169005Z",
     "iopub.status.busy": "2023-05-09T21:12:01.168880Z",
     "iopub.status.idle": "2023-05-09T21:12:01.176114Z",
     "shell.execute_reply": "2023-05-09T21:12:01.175858Z"
    }
   },
   "outputs": [
    {
     "ename": "NameError",
     "evalue": "name 'm' is not defined",
     "output_type": "error",
     "traceback": [
      "\u001b[0;31m---------------------------------------------------------------------------\u001b[0m",
      "\u001b[0;31mNameError\u001b[0m                                 Traceback (most recent call last)",
      "Cell \u001b[0;32mIn [27], line 1\u001b[0m\n\u001b[0;32m----> 1\u001b[0m \u001b[43mm\u001b[49m\u001b[38;5;241m.\u001b[39mfit(ud_train)\n",
      "\u001b[0;31mNameError\u001b[0m: name 'm' is not defined"
     ]
    }
   ],
   "source": [
    "m.fit(ud_train)"
   ]
  },
  {
   "cell_type": "code",
   "execution_count": 28,
   "id": "51d80715",
   "metadata": {
    "execution": {
     "iopub.execute_input": "2023-05-09T21:12:01.177682Z",
     "iopub.status.busy": "2023-05-09T21:12:01.177573Z",
     "iopub.status.idle": "2023-05-09T21:12:01.184804Z",
     "shell.execute_reply": "2023-05-09T21:12:01.184555Z"
    }
   },
   "outputs": [
    {
     "ename": "NameError",
     "evalue": "name 'm' is not defined",
     "output_type": "error",
     "traceback": [
      "\u001b[0;31m---------------------------------------------------------------------------\u001b[0m",
      "\u001b[0;31mNameError\u001b[0m                                 Traceback (most recent call last)",
      "Cell \u001b[0;32mIn [28], line 1\u001b[0m\n\u001b[0;32m----> 1\u001b[0m future \u001b[38;5;241m=\u001b[39m \u001b[43mm\u001b[49m\u001b[38;5;241m.\u001b[39mmake_future_dataframe(periods\u001b[38;5;241m=\u001b[39mud_test\u001b[38;5;241m.\u001b[39mshape[\u001b[38;5;241m0\u001b[39m], freq\u001b[38;5;241m=\u001b[39m\u001b[38;5;124m'\u001b[39m\u001b[38;5;124mW\u001b[39m\u001b[38;5;124m'\u001b[39m)\n",
      "\u001b[0;31mNameError\u001b[0m: name 'm' is not defined"
     ]
    }
   ],
   "source": [
    "future = m.make_future_dataframe(periods=ud_test.shape[0], freq='W')"
   ]
  },
  {
   "cell_type": "code",
   "execution_count": 29,
   "id": "0c97996c",
   "metadata": {
    "execution": {
     "iopub.execute_input": "2023-05-09T21:12:01.186188Z",
     "iopub.status.busy": "2023-05-09T21:12:01.186103Z",
     "iopub.status.idle": "2023-05-09T21:12:01.192690Z",
     "shell.execute_reply": "2023-05-09T21:12:01.192451Z"
    }
   },
   "outputs": [
    {
     "ename": "NameError",
     "evalue": "name 'm' is not defined",
     "output_type": "error",
     "traceback": [
      "\u001b[0;31m---------------------------------------------------------------------------\u001b[0m",
      "\u001b[0;31mNameError\u001b[0m                                 Traceback (most recent call last)",
      "Cell \u001b[0;32mIn [29], line 1\u001b[0m\n\u001b[0;32m----> 1\u001b[0m forecast \u001b[38;5;241m=\u001b[39m \u001b[43mm\u001b[49m\u001b[38;5;241m.\u001b[39mpredict(df\u001b[38;5;241m=\u001b[39mfuture)\n",
      "\u001b[0;31mNameError\u001b[0m: name 'm' is not defined"
     ]
    }
   ],
   "source": [
    "forecast = m.predict(df=future)"
   ]
  },
  {
   "cell_type": "code",
   "execution_count": 30,
   "id": "d836f6c1",
   "metadata": {
    "execution": {
     "iopub.execute_input": "2023-05-09T21:12:01.194158Z",
     "iopub.status.busy": "2023-05-09T21:12:01.194044Z",
     "iopub.status.idle": "2023-05-09T21:12:01.200341Z",
     "shell.execute_reply": "2023-05-09T21:12:01.200080Z"
    }
   },
   "outputs": [
    {
     "ename": "NameError",
     "evalue": "name 'forecast' is not defined",
     "output_type": "error",
     "traceback": [
      "\u001b[0;31m---------------------------------------------------------------------------\u001b[0m",
      "\u001b[0;31mNameError\u001b[0m                                 Traceback (most recent call last)",
      "Cell \u001b[0;32mIn [30], line 1\u001b[0m\n\u001b[0;32m----> 1\u001b[0m \u001b[43mforecast\u001b[49m\n",
      "\u001b[0;31mNameError\u001b[0m: name 'forecast' is not defined"
     ]
    }
   ],
   "source": [
    "forecast"
   ]
  },
  {
   "cell_type": "code",
   "execution_count": 31,
   "id": "4096b561",
   "metadata": {
    "execution": {
     "iopub.execute_input": "2023-05-09T21:12:01.201748Z",
     "iopub.status.busy": "2023-05-09T21:12:01.201667Z",
     "iopub.status.idle": "2023-05-09T21:12:01.208113Z",
     "shell.execute_reply": "2023-05-09T21:12:01.207866Z"
    }
   },
   "outputs": [
    {
     "ename": "NameError",
     "evalue": "name 'm' is not defined",
     "output_type": "error",
     "traceback": [
      "\u001b[0;31m---------------------------------------------------------------------------\u001b[0m",
      "\u001b[0;31mNameError\u001b[0m                                 Traceback (most recent call last)",
      "Cell \u001b[0;32mIn [31], line 1\u001b[0m\n\u001b[0;32m----> 1\u001b[0m plot1 \u001b[38;5;241m=\u001b[39m \u001b[43mm\u001b[49m\u001b[38;5;241m.\u001b[39mplot(forecast)\n",
      "\u001b[0;31mNameError\u001b[0m: name 'm' is not defined"
     ]
    }
   ],
   "source": [
    "plot1 = m.plot(forecast)"
   ]
  },
  {
   "cell_type": "code",
   "execution_count": 32,
   "id": "8aee8885",
   "metadata": {
    "execution": {
     "iopub.execute_input": "2023-05-09T21:12:01.209487Z",
     "iopub.status.busy": "2023-05-09T21:12:01.209407Z",
     "iopub.status.idle": "2023-05-09T21:12:01.212329Z",
     "shell.execute_reply": "2023-05-09T21:12:01.212082Z"
    }
   },
   "outputs": [
    {
     "data": {
      "text/html": [
       "<div>\n",
       "<style scoped>\n",
       "    .dataframe tbody tr th:only-of-type {\n",
       "        vertical-align: middle;\n",
       "    }\n",
       "\n",
       "    .dataframe tbody tr th {\n",
       "        vertical-align: top;\n",
       "    }\n",
       "\n",
       "    .dataframe thead th {\n",
       "        text-align: right;\n",
       "    }\n",
       "</style>\n",
       "<table border=\"1\" class=\"dataframe\">\n",
       "  <thead>\n",
       "    <tr style=\"text-align: right;\">\n",
       "      <th></th>\n",
       "      <th>ds</th>\n",
       "      <th>y</th>\n",
       "    </tr>\n",
       "  </thead>\n",
       "  <tbody>\n",
       "  </tbody>\n",
       "</table>\n",
       "</div>"
      ],
      "text/plain": [
       "Empty DataFrame\n",
       "Columns: [ds, y]\n",
       "Index: []"
      ]
     },
     "execution_count": 32,
     "metadata": {},
     "output_type": "execute_result"
    }
   ],
   "source": [
    "ud_test"
   ]
  },
  {
   "cell_type": "code",
   "execution_count": 33,
   "id": "2e0e66ab",
   "metadata": {
    "execution": {
     "iopub.execute_input": "2023-05-09T21:12:01.213720Z",
     "iopub.status.busy": "2023-05-09T21:12:01.213615Z",
     "iopub.status.idle": "2023-05-09T21:12:01.216236Z",
     "shell.execute_reply": "2023-05-09T21:12:01.215985Z"
    }
   },
   "outputs": [
    {
     "data": {
      "text/html": [
       "<div>\n",
       "<style scoped>\n",
       "    .dataframe tbody tr th:only-of-type {\n",
       "        vertical-align: middle;\n",
       "    }\n",
       "\n",
       "    .dataframe tbody tr th {\n",
       "        vertical-align: top;\n",
       "    }\n",
       "\n",
       "    .dataframe thead th {\n",
       "        text-align: right;\n",
       "    }\n",
       "</style>\n",
       "<table border=\"1\" class=\"dataframe\">\n",
       "  <thead>\n",
       "    <tr style=\"text-align: right;\">\n",
       "      <th></th>\n",
       "      <th>ds</th>\n",
       "      <th>y</th>\n",
       "    </tr>\n",
       "  </thead>\n",
       "  <tbody>\n",
       "  </tbody>\n",
       "</table>\n",
       "</div>"
      ],
      "text/plain": [
       "Empty DataFrame\n",
       "Columns: [ds, y]\n",
       "Index: []"
      ]
     },
     "execution_count": 33,
     "metadata": {},
     "output_type": "execute_result"
    }
   ],
   "source": [
    "ud_test\n",
    "ud_train"
   ]
  },
  {
   "cell_type": "code",
   "execution_count": 34,
   "id": "28012fb4",
   "metadata": {
    "execution": {
     "iopub.execute_input": "2023-05-09T21:12:01.217583Z",
     "iopub.status.busy": "2023-05-09T21:12:01.217482Z",
     "iopub.status.idle": "2023-05-09T21:12:01.219432Z",
     "shell.execute_reply": "2023-05-09T21:12:01.219185Z"
    }
   },
   "outputs": [
    {
     "name": "stdout",
     "output_type": "stream",
     "text": [
      "Empty DataFrame\n",
      "Columns: [ds, y]\n",
      "Index: [] Empty DataFrame\n",
      "Columns: [ds, y]\n",
      "Index: []\n"
     ]
    }
   ],
   "source": [
    "print(ud_train, ud_test)"
   ]
  },
  {
   "cell_type": "code",
   "execution_count": 35,
   "id": "408340c3",
   "metadata": {
    "execution": {
     "iopub.execute_input": "2023-05-09T21:12:01.220797Z",
     "iopub.status.busy": "2023-05-09T21:12:01.220699Z",
     "iopub.status.idle": "2023-05-09T21:12:01.223140Z",
     "shell.execute_reply": "2023-05-09T21:12:01.222910Z"
    }
   },
   "outputs": [
    {
     "data": {
      "text/html": [
       "<div>\n",
       "<style scoped>\n",
       "    .dataframe tbody tr th:only-of-type {\n",
       "        vertical-align: middle;\n",
       "    }\n",
       "\n",
       "    .dataframe tbody tr th {\n",
       "        vertical-align: top;\n",
       "    }\n",
       "\n",
       "    .dataframe thead th {\n",
       "        text-align: right;\n",
       "    }\n",
       "</style>\n",
       "<table border=\"1\" class=\"dataframe\">\n",
       "  <thead>\n",
       "    <tr style=\"text-align: right;\">\n",
       "      <th></th>\n",
       "      <th>ds</th>\n",
       "      <th>y</th>\n",
       "    </tr>\n",
       "  </thead>\n",
       "  <tbody>\n",
       "  </tbody>\n",
       "</table>\n",
       "</div>"
      ],
      "text/plain": [
       "Empty DataFrame\n",
       "Columns: [ds, y]\n",
       "Index: []"
      ]
     },
     "execution_count": 35,
     "metadata": {},
     "output_type": "execute_result"
    }
   ],
   "source": [
    "ud_train"
   ]
  },
  {
   "cell_type": "code",
   "execution_count": 36,
   "id": "288ab979",
   "metadata": {
    "execution": {
     "iopub.execute_input": "2023-05-09T21:12:01.224471Z",
     "iopub.status.busy": "2023-05-09T21:12:01.224374Z",
     "iopub.status.idle": "2023-05-09T21:12:01.226914Z",
     "shell.execute_reply": "2023-05-09T21:12:01.226585Z"
    }
   },
   "outputs": [
    {
     "data": {
      "text/html": [
       "<div>\n",
       "<style scoped>\n",
       "    .dataframe tbody tr th:only-of-type {\n",
       "        vertical-align: middle;\n",
       "    }\n",
       "\n",
       "    .dataframe tbody tr th {\n",
       "        vertical-align: top;\n",
       "    }\n",
       "\n",
       "    .dataframe thead th {\n",
       "        text-align: right;\n",
       "    }\n",
       "</style>\n",
       "<table border=\"1\" class=\"dataframe\">\n",
       "  <thead>\n",
       "    <tr style=\"text-align: right;\">\n",
       "      <th></th>\n",
       "      <th>ds</th>\n",
       "      <th>y</th>\n",
       "    </tr>\n",
       "  </thead>\n",
       "  <tbody>\n",
       "  </tbody>\n",
       "</table>\n",
       "</div>"
      ],
      "text/plain": [
       "Empty DataFrame\n",
       "Columns: [ds, y]\n",
       "Index: []"
      ]
     },
     "execution_count": 36,
     "metadata": {},
     "output_type": "execute_result"
    }
   ],
   "source": [
    "ud_test"
   ]
  },
  {
   "cell_type": "code",
   "execution_count": 37,
   "id": "292d8b5d",
   "metadata": {
    "execution": {
     "iopub.execute_input": "2023-05-09T21:12:01.228353Z",
     "iopub.status.busy": "2023-05-09T21:12:01.228252Z",
     "iopub.status.idle": "2023-05-09T21:12:01.810520Z",
     "shell.execute_reply": "2023-05-09T21:12:01.810198Z"
    }
   },
   "outputs": [
    {
     "ename": "KeyError",
     "evalue": "\"['uu_id', 'countyfips', 'tract', 'tract_name', 'edu_8th_or_less', 'edu_grades_9_11', 'edu_hs_grad_equiv', 'edu_post_hs', 'edu_unknown', 'top_category_employer1', 'top_category_employer2', 'top_category_employer3', 'gender_female', 'gender_male', 'gender_na', 'race_amerindian', 'race_asian', 'race_black', 'race_noanswer', 'race_hawaiiannative', 'race_other', 'race_white'] not found in axis\"",
     "output_type": "error",
     "traceback": [
      "\u001b[0;31m---------------------------------------------------------------------------\u001b[0m",
      "\u001b[0;31mKeyError\u001b[0m                                  Traceback (most recent call last)",
      "Cell \u001b[0;32mIn [37], line 1\u001b[0m\n\u001b[0;32m----> 1\u001b[0m \u001b[43munemployment_data\u001b[49m\u001b[38;5;241;43m.\u001b[39;49m\u001b[43mdrop\u001b[49m\u001b[43m(\u001b[49m\u001b[43m[\u001b[49m\u001b[38;5;124;43m'\u001b[39;49m\u001b[38;5;124;43muu_id\u001b[39;49m\u001b[38;5;124;43m'\u001b[39;49m\u001b[43m,\u001b[49m\u001b[43m \u001b[49m\u001b[38;5;124;43m'\u001b[39;49m\u001b[38;5;124;43mcountyfips\u001b[39;49m\u001b[38;5;124;43m'\u001b[39;49m\u001b[43m,\u001b[49m\u001b[43m \u001b[49m\u001b[38;5;124;43m'\u001b[39;49m\u001b[38;5;124;43mtract\u001b[39;49m\u001b[38;5;124;43m'\u001b[39;49m\u001b[43m,\u001b[49m\n\u001b[1;32m      2\u001b[0m \u001b[43m       \u001b[49m\u001b[38;5;124;43m'\u001b[39;49m\u001b[38;5;124;43mtract_name\u001b[39;49m\u001b[38;5;124;43m'\u001b[39;49m\u001b[43m,\u001b[49m\u001b[43m \u001b[49m\u001b[38;5;124;43m'\u001b[39;49m\u001b[38;5;124;43medu_8th_or_less\u001b[39;49m\u001b[38;5;124;43m'\u001b[39;49m\u001b[43m,\u001b[49m\u001b[43m \u001b[49m\u001b[38;5;124;43m'\u001b[39;49m\u001b[38;5;124;43medu_grades_9_11\u001b[39;49m\u001b[38;5;124;43m'\u001b[39;49m\u001b[43m,\u001b[49m\n\u001b[1;32m      3\u001b[0m \u001b[43m       \u001b[49m\u001b[38;5;124;43m'\u001b[39;49m\u001b[38;5;124;43medu_hs_grad_equiv\u001b[39;49m\u001b[38;5;124;43m'\u001b[39;49m\u001b[43m,\u001b[49m\u001b[43m \u001b[49m\u001b[38;5;124;43m'\u001b[39;49m\u001b[38;5;124;43medu_post_hs\u001b[39;49m\u001b[38;5;124;43m'\u001b[39;49m\u001b[43m,\u001b[49m\u001b[43m \u001b[49m\u001b[38;5;124;43m'\u001b[39;49m\u001b[38;5;124;43medu_unknown\u001b[39;49m\u001b[38;5;124;43m'\u001b[39;49m\u001b[43m,\u001b[49m\n\u001b[1;32m      4\u001b[0m \u001b[43m       \u001b[49m\u001b[38;5;124;43m'\u001b[39;49m\u001b[38;5;124;43mtop_category_employer1\u001b[39;49m\u001b[38;5;124;43m'\u001b[39;49m\u001b[43m,\u001b[49m\u001b[43m \u001b[49m\u001b[38;5;124;43m'\u001b[39;49m\u001b[38;5;124;43mtop_category_employer2\u001b[39;49m\u001b[38;5;124;43m'\u001b[39;49m\u001b[43m,\u001b[49m\n\u001b[1;32m      5\u001b[0m \u001b[43m       \u001b[49m\u001b[38;5;124;43m'\u001b[39;49m\u001b[38;5;124;43mtop_category_employer3\u001b[39;49m\u001b[38;5;124;43m'\u001b[39;49m\u001b[43m,\u001b[49m\u001b[43m \u001b[49m\u001b[38;5;124;43m'\u001b[39;49m\u001b[38;5;124;43mgender_female\u001b[39;49m\u001b[38;5;124;43m'\u001b[39;49m\u001b[43m,\u001b[49m\u001b[43m \u001b[49m\u001b[38;5;124;43m'\u001b[39;49m\u001b[38;5;124;43mgender_male\u001b[39;49m\u001b[38;5;124;43m'\u001b[39;49m\u001b[43m,\u001b[49m\u001b[43m \u001b[49m\u001b[38;5;124;43m'\u001b[39;49m\u001b[38;5;124;43mgender_na\u001b[39;49m\u001b[38;5;124;43m'\u001b[39;49m\u001b[43m,\u001b[49m\n\u001b[1;32m      6\u001b[0m \u001b[43m       \u001b[49m\u001b[38;5;124;43m'\u001b[39;49m\u001b[38;5;124;43mrace_amerindian\u001b[39;49m\u001b[38;5;124;43m'\u001b[39;49m\u001b[43m,\u001b[49m\u001b[43m \u001b[49m\u001b[38;5;124;43m'\u001b[39;49m\u001b[38;5;124;43mrace_asian\u001b[39;49m\u001b[38;5;124;43m'\u001b[39;49m\u001b[43m,\u001b[49m\u001b[43m \u001b[49m\u001b[38;5;124;43m'\u001b[39;49m\u001b[38;5;124;43mrace_black\u001b[39;49m\u001b[38;5;124;43m'\u001b[39;49m\u001b[43m,\u001b[49m\u001b[43m \u001b[49m\u001b[38;5;124;43m'\u001b[39;49m\u001b[38;5;124;43mrace_noanswer\u001b[39;49m\u001b[38;5;124;43m'\u001b[39;49m\u001b[43m,\u001b[49m\n\u001b[1;32m      7\u001b[0m \u001b[43m       \u001b[49m\u001b[38;5;124;43m'\u001b[39;49m\u001b[38;5;124;43mrace_hawaiiannative\u001b[39;49m\u001b[38;5;124;43m'\u001b[39;49m\u001b[43m,\u001b[49m\u001b[43m \u001b[49m\u001b[38;5;124;43m'\u001b[39;49m\u001b[38;5;124;43mrace_other\u001b[39;49m\u001b[38;5;124;43m'\u001b[39;49m\u001b[43m,\u001b[49m\u001b[43m \u001b[49m\u001b[38;5;124;43m'\u001b[39;49m\u001b[38;5;124;43mrace_white\u001b[39;49m\u001b[38;5;124;43m'\u001b[39;49m\u001b[43m]\u001b[49m\u001b[43m,\u001b[49m\u001b[43m \u001b[49m\u001b[43maxis\u001b[49m\u001b[38;5;241;43m=\u001b[39;49m\u001b[38;5;241;43m1\u001b[39;49m\u001b[43m,\u001b[49m\u001b[43m \u001b[49m\u001b[43minplace\u001b[49m\u001b[38;5;241;43m=\u001b[39;49m\u001b[38;5;28;43;01mTrue\u001b[39;49;00m\u001b[43m)\u001b[49m\n",
      "File \u001b[0;32m/opt/homebrew/lib/python3.9/site-packages/pandas/util/_decorators.py:331\u001b[0m, in \u001b[0;36mdeprecate_nonkeyword_arguments.<locals>.decorate.<locals>.wrapper\u001b[0;34m(*args, **kwargs)\u001b[0m\n\u001b[1;32m    325\u001b[0m \u001b[38;5;28;01mif\u001b[39;00m \u001b[38;5;28mlen\u001b[39m(args) \u001b[38;5;241m>\u001b[39m num_allow_args:\n\u001b[1;32m    326\u001b[0m     warnings\u001b[38;5;241m.\u001b[39mwarn(\n\u001b[1;32m    327\u001b[0m         msg\u001b[38;5;241m.\u001b[39mformat(arguments\u001b[38;5;241m=\u001b[39m_format_argument_list(allow_args)),\n\u001b[1;32m    328\u001b[0m         \u001b[38;5;167;01mFutureWarning\u001b[39;00m,\n\u001b[1;32m    329\u001b[0m         stacklevel\u001b[38;5;241m=\u001b[39mfind_stack_level(),\n\u001b[1;32m    330\u001b[0m     )\n\u001b[0;32m--> 331\u001b[0m \u001b[38;5;28;01mreturn\u001b[39;00m \u001b[43mfunc\u001b[49m\u001b[43m(\u001b[49m\u001b[38;5;241;43m*\u001b[39;49m\u001b[43margs\u001b[49m\u001b[43m,\u001b[49m\u001b[43m \u001b[49m\u001b[38;5;241;43m*\u001b[39;49m\u001b[38;5;241;43m*\u001b[39;49m\u001b[43mkwargs\u001b[49m\u001b[43m)\u001b[49m\n",
      "File \u001b[0;32m/opt/homebrew/lib/python3.9/site-packages/pandas/core/frame.py:5388\u001b[0m, in \u001b[0;36mDataFrame.drop\u001b[0;34m(self, labels, axis, index, columns, level, inplace, errors)\u001b[0m\n\u001b[1;32m   5240\u001b[0m \u001b[38;5;129m@deprecate_nonkeyword_arguments\u001b[39m(version\u001b[38;5;241m=\u001b[39m\u001b[38;5;28;01mNone\u001b[39;00m, allowed_args\u001b[38;5;241m=\u001b[39m[\u001b[38;5;124m\"\u001b[39m\u001b[38;5;124mself\u001b[39m\u001b[38;5;124m\"\u001b[39m, \u001b[38;5;124m\"\u001b[39m\u001b[38;5;124mlabels\u001b[39m\u001b[38;5;124m\"\u001b[39m])\n\u001b[1;32m   5241\u001b[0m \u001b[38;5;28;01mdef\u001b[39;00m \u001b[38;5;21mdrop\u001b[39m(  \u001b[38;5;66;03m# type: ignore[override]\u001b[39;00m\n\u001b[1;32m   5242\u001b[0m     \u001b[38;5;28mself\u001b[39m,\n\u001b[0;32m   (...)\u001b[0m\n\u001b[1;32m   5249\u001b[0m     errors: IgnoreRaise \u001b[38;5;241m=\u001b[39m \u001b[38;5;124m\"\u001b[39m\u001b[38;5;124mraise\u001b[39m\u001b[38;5;124m\"\u001b[39m,\n\u001b[1;32m   5250\u001b[0m ) \u001b[38;5;241m-\u001b[39m\u001b[38;5;241m>\u001b[39m DataFrame \u001b[38;5;241m|\u001b[39m \u001b[38;5;28;01mNone\u001b[39;00m:\n\u001b[1;32m   5251\u001b[0m     \u001b[38;5;124;03m\"\"\"\u001b[39;00m\n\u001b[1;32m   5252\u001b[0m \u001b[38;5;124;03m    Drop specified labels from rows or columns.\u001b[39;00m\n\u001b[1;32m   5253\u001b[0m \n\u001b[0;32m   (...)\u001b[0m\n\u001b[1;32m   5386\u001b[0m \u001b[38;5;124;03m            weight  1.0     0.8\u001b[39;00m\n\u001b[1;32m   5387\u001b[0m \u001b[38;5;124;03m    \"\"\"\u001b[39;00m\n\u001b[0;32m-> 5388\u001b[0m     \u001b[38;5;28;01mreturn\u001b[39;00m \u001b[38;5;28;43msuper\u001b[39;49m\u001b[43m(\u001b[49m\u001b[43m)\u001b[49m\u001b[38;5;241;43m.\u001b[39;49m\u001b[43mdrop\u001b[49m\u001b[43m(\u001b[49m\n\u001b[1;32m   5389\u001b[0m \u001b[43m        \u001b[49m\u001b[43mlabels\u001b[49m\u001b[38;5;241;43m=\u001b[39;49m\u001b[43mlabels\u001b[49m\u001b[43m,\u001b[49m\n\u001b[1;32m   5390\u001b[0m \u001b[43m        \u001b[49m\u001b[43maxis\u001b[49m\u001b[38;5;241;43m=\u001b[39;49m\u001b[43maxis\u001b[49m\u001b[43m,\u001b[49m\n\u001b[1;32m   5391\u001b[0m \u001b[43m        \u001b[49m\u001b[43mindex\u001b[49m\u001b[38;5;241;43m=\u001b[39;49m\u001b[43mindex\u001b[49m\u001b[43m,\u001b[49m\n\u001b[1;32m   5392\u001b[0m \u001b[43m        \u001b[49m\u001b[43mcolumns\u001b[49m\u001b[38;5;241;43m=\u001b[39;49m\u001b[43mcolumns\u001b[49m\u001b[43m,\u001b[49m\n\u001b[1;32m   5393\u001b[0m \u001b[43m        \u001b[49m\u001b[43mlevel\u001b[49m\u001b[38;5;241;43m=\u001b[39;49m\u001b[43mlevel\u001b[49m\u001b[43m,\u001b[49m\n\u001b[1;32m   5394\u001b[0m \u001b[43m        \u001b[49m\u001b[43minplace\u001b[49m\u001b[38;5;241;43m=\u001b[39;49m\u001b[43minplace\u001b[49m\u001b[43m,\u001b[49m\n\u001b[1;32m   5395\u001b[0m \u001b[43m        \u001b[49m\u001b[43merrors\u001b[49m\u001b[38;5;241;43m=\u001b[39;49m\u001b[43merrors\u001b[49m\u001b[43m,\u001b[49m\n\u001b[1;32m   5396\u001b[0m \u001b[43m    \u001b[49m\u001b[43m)\u001b[49m\n",
      "File \u001b[0;32m/opt/homebrew/lib/python3.9/site-packages/pandas/util/_decorators.py:331\u001b[0m, in \u001b[0;36mdeprecate_nonkeyword_arguments.<locals>.decorate.<locals>.wrapper\u001b[0;34m(*args, **kwargs)\u001b[0m\n\u001b[1;32m    325\u001b[0m \u001b[38;5;28;01mif\u001b[39;00m \u001b[38;5;28mlen\u001b[39m(args) \u001b[38;5;241m>\u001b[39m num_allow_args:\n\u001b[1;32m    326\u001b[0m     warnings\u001b[38;5;241m.\u001b[39mwarn(\n\u001b[1;32m    327\u001b[0m         msg\u001b[38;5;241m.\u001b[39mformat(arguments\u001b[38;5;241m=\u001b[39m_format_argument_list(allow_args)),\n\u001b[1;32m    328\u001b[0m         \u001b[38;5;167;01mFutureWarning\u001b[39;00m,\n\u001b[1;32m    329\u001b[0m         stacklevel\u001b[38;5;241m=\u001b[39mfind_stack_level(),\n\u001b[1;32m    330\u001b[0m     )\n\u001b[0;32m--> 331\u001b[0m \u001b[38;5;28;01mreturn\u001b[39;00m \u001b[43mfunc\u001b[49m\u001b[43m(\u001b[49m\u001b[38;5;241;43m*\u001b[39;49m\u001b[43margs\u001b[49m\u001b[43m,\u001b[49m\u001b[43m \u001b[49m\u001b[38;5;241;43m*\u001b[39;49m\u001b[38;5;241;43m*\u001b[39;49m\u001b[43mkwargs\u001b[49m\u001b[43m)\u001b[49m\n",
      "File \u001b[0;32m/opt/homebrew/lib/python3.9/site-packages/pandas/core/generic.py:4505\u001b[0m, in \u001b[0;36mNDFrame.drop\u001b[0;34m(self, labels, axis, index, columns, level, inplace, errors)\u001b[0m\n\u001b[1;32m   4503\u001b[0m \u001b[38;5;28;01mfor\u001b[39;00m axis, labels \u001b[38;5;129;01min\u001b[39;00m axes\u001b[38;5;241m.\u001b[39mitems():\n\u001b[1;32m   4504\u001b[0m     \u001b[38;5;28;01mif\u001b[39;00m labels \u001b[38;5;129;01mis\u001b[39;00m \u001b[38;5;129;01mnot\u001b[39;00m \u001b[38;5;28;01mNone\u001b[39;00m:\n\u001b[0;32m-> 4505\u001b[0m         obj \u001b[38;5;241m=\u001b[39m \u001b[43mobj\u001b[49m\u001b[38;5;241;43m.\u001b[39;49m\u001b[43m_drop_axis\u001b[49m\u001b[43m(\u001b[49m\u001b[43mlabels\u001b[49m\u001b[43m,\u001b[49m\u001b[43m \u001b[49m\u001b[43maxis\u001b[49m\u001b[43m,\u001b[49m\u001b[43m \u001b[49m\u001b[43mlevel\u001b[49m\u001b[38;5;241;43m=\u001b[39;49m\u001b[43mlevel\u001b[49m\u001b[43m,\u001b[49m\u001b[43m \u001b[49m\u001b[43merrors\u001b[49m\u001b[38;5;241;43m=\u001b[39;49m\u001b[43merrors\u001b[49m\u001b[43m)\u001b[49m\n\u001b[1;32m   4507\u001b[0m \u001b[38;5;28;01mif\u001b[39;00m inplace:\n\u001b[1;32m   4508\u001b[0m     \u001b[38;5;28mself\u001b[39m\u001b[38;5;241m.\u001b[39m_update_inplace(obj)\n",
      "File \u001b[0;32m/opt/homebrew/lib/python3.9/site-packages/pandas/core/generic.py:4546\u001b[0m, in \u001b[0;36mNDFrame._drop_axis\u001b[0;34m(self, labels, axis, level, errors, only_slice)\u001b[0m\n\u001b[1;32m   4544\u001b[0m         new_axis \u001b[38;5;241m=\u001b[39m axis\u001b[38;5;241m.\u001b[39mdrop(labels, level\u001b[38;5;241m=\u001b[39mlevel, errors\u001b[38;5;241m=\u001b[39merrors)\n\u001b[1;32m   4545\u001b[0m     \u001b[38;5;28;01melse\u001b[39;00m:\n\u001b[0;32m-> 4546\u001b[0m         new_axis \u001b[38;5;241m=\u001b[39m \u001b[43maxis\u001b[49m\u001b[38;5;241;43m.\u001b[39;49m\u001b[43mdrop\u001b[49m\u001b[43m(\u001b[49m\u001b[43mlabels\u001b[49m\u001b[43m,\u001b[49m\u001b[43m \u001b[49m\u001b[43merrors\u001b[49m\u001b[38;5;241;43m=\u001b[39;49m\u001b[43merrors\u001b[49m\u001b[43m)\u001b[49m\n\u001b[1;32m   4547\u001b[0m     indexer \u001b[38;5;241m=\u001b[39m axis\u001b[38;5;241m.\u001b[39mget_indexer(new_axis)\n\u001b[1;32m   4549\u001b[0m \u001b[38;5;66;03m# Case for non-unique axis\u001b[39;00m\n\u001b[1;32m   4550\u001b[0m \u001b[38;5;28;01melse\u001b[39;00m:\n",
      "File \u001b[0;32m/opt/homebrew/lib/python3.9/site-packages/pandas/core/indexes/base.py:6975\u001b[0m, in \u001b[0;36mIndex.drop\u001b[0;34m(self, labels, errors)\u001b[0m\n\u001b[1;32m   6973\u001b[0m \u001b[38;5;28;01mif\u001b[39;00m mask\u001b[38;5;241m.\u001b[39many():\n\u001b[1;32m   6974\u001b[0m     \u001b[38;5;28;01mif\u001b[39;00m errors \u001b[38;5;241m!=\u001b[39m \u001b[38;5;124m\"\u001b[39m\u001b[38;5;124mignore\u001b[39m\u001b[38;5;124m\"\u001b[39m:\n\u001b[0;32m-> 6975\u001b[0m         \u001b[38;5;28;01mraise\u001b[39;00m \u001b[38;5;167;01mKeyError\u001b[39;00m(\u001b[38;5;124mf\u001b[39m\u001b[38;5;124m\"\u001b[39m\u001b[38;5;132;01m{\u001b[39;00m\u001b[38;5;28mlist\u001b[39m(labels[mask])\u001b[38;5;132;01m}\u001b[39;00m\u001b[38;5;124m not found in axis\u001b[39m\u001b[38;5;124m\"\u001b[39m)\n\u001b[1;32m   6976\u001b[0m     indexer \u001b[38;5;241m=\u001b[39m indexer[\u001b[38;5;241m~\u001b[39mmask]\n\u001b[1;32m   6977\u001b[0m \u001b[38;5;28;01mreturn\u001b[39;00m \u001b[38;5;28mself\u001b[39m\u001b[38;5;241m.\u001b[39mdelete(indexer)\n",
      "\u001b[0;31mKeyError\u001b[0m: \"['uu_id', 'countyfips', 'tract', 'tract_name', 'edu_8th_or_less', 'edu_grades_9_11', 'edu_hs_grad_equiv', 'edu_post_hs', 'edu_unknown', 'top_category_employer1', 'top_category_employer2', 'top_category_employer3', 'gender_female', 'gender_male', 'gender_na', 'race_amerindian', 'race_asian', 'race_black', 'race_noanswer', 'race_hawaiiannative', 'race_other', 'race_white'] not found in axis\""
     ]
    }
   ],
   "source": [
    "unemployment_data.drop(['uu_id', 'countyfips', 'tract',\n",
    "       'tract_name', 'edu_8th_or_less', 'edu_grades_9_11',\n",
    "       'edu_hs_grad_equiv', 'edu_post_hs', 'edu_unknown',\n",
    "       'top_category_employer1', 'top_category_employer2',\n",
    "       'top_category_employer3', 'gender_female', 'gender_male', 'gender_na',\n",
    "       'race_amerindian', 'race_asian', 'race_black', 'race_noanswer',\n",
    "       'race_hawaiiannative', 'race_other', 'race_white'], axis=1, inplace=True)"
   ]
  },
  {
   "cell_type": "code",
   "execution_count": 38,
   "id": "71058061",
   "metadata": {
    "execution": {
     "iopub.execute_input": "2023-05-09T21:12:01.812337Z",
     "iopub.status.busy": "2023-05-09T21:12:01.812204Z",
     "iopub.status.idle": "2023-05-09T21:12:01.813924Z",
     "shell.execute_reply": "2023-05-09T21:12:01.813676Z"
    }
   },
   "outputs": [],
   "source": [
    "query = \"\"\"\n",
    "SELECT *\n",
    "FROM `ironhacks-data.ironhacks_competition.unemployment_data`\n",
    "WHERE uu_id='e201385d37b5f6eea30f6d6d4106dc6f'\n",
    "\"\"\""
   ]
  },
  {
   "cell_type": "code",
   "execution_count": 39,
   "id": "18482d35",
   "metadata": {
    "execution": {
     "iopub.execute_input": "2023-05-09T21:12:01.815331Z",
     "iopub.status.busy": "2023-05-09T21:12:01.815234Z",
     "iopub.status.idle": "2023-05-09T21:12:03.502371Z",
     "shell.execute_reply": "2023-05-09T21:12:03.501615Z"
    }
   },
   "outputs": [],
   "source": [
    "query_job = bigquery_client.query(query)\n",
    "unemployment_data = query_job.to_dataframe()"
   ]
  },
  {
   "cell_type": "code",
   "execution_count": 40,
   "id": "795034b7",
   "metadata": {
    "execution": {
     "iopub.execute_input": "2023-05-09T21:12:03.506539Z",
     "iopub.status.busy": "2023-05-09T21:12:03.506032Z",
     "iopub.status.idle": "2023-05-09T21:12:03.510824Z",
     "shell.execute_reply": "2023-05-09T21:12:03.510158Z"
    }
   },
   "outputs": [
    {
     "data": {
      "text/plain": [
       "(0, 25)"
      ]
     },
     "execution_count": 40,
     "metadata": {},
     "output_type": "execute_result"
    }
   ],
   "source": [
    "unemployment_data.shape"
   ]
  },
  {
   "cell_type": "code",
   "execution_count": 41,
   "id": "6bab6e13",
   "metadata": {
    "execution": {
     "iopub.execute_input": "2023-05-09T21:12:03.514420Z",
     "iopub.status.busy": "2023-05-09T21:12:03.514115Z",
     "iopub.status.idle": "2023-05-09T21:12:03.522282Z",
     "shell.execute_reply": "2023-05-09T21:12:03.521816Z"
    }
   },
   "outputs": [
    {
     "data": {
      "text/html": [
       "<div>\n",
       "<style scoped>\n",
       "    .dataframe tbody tr th:only-of-type {\n",
       "        vertical-align: middle;\n",
       "    }\n",
       "\n",
       "    .dataframe tbody tr th {\n",
       "        vertical-align: top;\n",
       "    }\n",
       "\n",
       "    .dataframe thead th {\n",
       "        text-align: right;\n",
       "    }\n",
       "</style>\n",
       "<table border=\"1\" class=\"dataframe\">\n",
       "  <thead>\n",
       "    <tr style=\"text-align: right;\">\n",
       "      <th></th>\n",
       "      <th>uu_id</th>\n",
       "      <th>timeperiod</th>\n",
       "      <th>week_number</th>\n",
       "      <th>countyfips</th>\n",
       "      <th>tract</th>\n",
       "      <th>tract_name</th>\n",
       "      <th>total_claims</th>\n",
       "      <th>edu_8th_or_less</th>\n",
       "      <th>edu_grades_9_11</th>\n",
       "      <th>edu_hs_grad_equiv</th>\n",
       "      <th>...</th>\n",
       "      <th>gender_female</th>\n",
       "      <th>gender_male</th>\n",
       "      <th>gender_na</th>\n",
       "      <th>race_amerindian</th>\n",
       "      <th>race_asian</th>\n",
       "      <th>race_black</th>\n",
       "      <th>race_noanswer</th>\n",
       "      <th>race_hawaiiannative</th>\n",
       "      <th>race_other</th>\n",
       "      <th>race_white</th>\n",
       "    </tr>\n",
       "  </thead>\n",
       "  <tbody>\n",
       "  </tbody>\n",
       "</table>\n",
       "<p>0 rows × 25 columns</p>\n",
       "</div>"
      ],
      "text/plain": [
       "Empty DataFrame\n",
       "Columns: [uu_id, timeperiod, week_number, countyfips, tract, tract_name, total_claims, edu_8th_or_less, edu_grades_9_11, edu_hs_grad_equiv, edu_post_hs, edu_unknown, top_category_employer1, top_category_employer2, top_category_employer3, gender_female, gender_male, gender_na, race_amerindian, race_asian, race_black, race_noanswer, race_hawaiiannative, race_other, race_white]\n",
       "Index: []\n",
       "\n",
       "[0 rows x 25 columns]"
      ]
     },
     "execution_count": 41,
     "metadata": {},
     "output_type": "execute_result"
    }
   ],
   "source": [
    "unemployment_data.sort_values(['week_number'])"
   ]
  },
  {
   "cell_type": "code",
   "execution_count": 42,
   "id": "53f87cde",
   "metadata": {
    "execution": {
     "iopub.execute_input": "2023-05-09T21:12:03.524908Z",
     "iopub.status.busy": "2023-05-09T21:12:03.524691Z",
     "iopub.status.idle": "2023-05-09T21:12:03.528504Z",
     "shell.execute_reply": "2023-05-09T21:12:03.528029Z"
    }
   },
   "outputs": [
    {
     "data": {
      "text/plain": [
       "Index(['uu_id', 'timeperiod', 'week_number', 'countyfips', 'tract',\n",
       "       'tract_name', 'total_claims', 'edu_8th_or_less', 'edu_grades_9_11',\n",
       "       'edu_hs_grad_equiv', 'edu_post_hs', 'edu_unknown',\n",
       "       'top_category_employer1', 'top_category_employer2',\n",
       "       'top_category_employer3', 'gender_female', 'gender_male', 'gender_na',\n",
       "       'race_amerindian', 'race_asian', 'race_black', 'race_noanswer',\n",
       "       'race_hawaiiannative', 'race_other', 'race_white'],\n",
       "      dtype='object')"
      ]
     },
     "execution_count": 42,
     "metadata": {},
     "output_type": "execute_result"
    }
   ],
   "source": [
    "unemployment_data.columns"
   ]
  },
  {
   "cell_type": "code",
   "execution_count": 43,
   "id": "88c0fec7",
   "metadata": {
    "execution": {
     "iopub.execute_input": "2023-05-09T21:12:03.530968Z",
     "iopub.status.busy": "2023-05-09T21:12:03.530799Z",
     "iopub.status.idle": "2023-05-09T21:12:03.534523Z",
     "shell.execute_reply": "2023-05-09T21:12:03.534108Z"
    }
   },
   "outputs": [],
   "source": [
    "unemployment_data.drop(['uu_id', 'countyfips', 'tract',\n",
    "       'tract_name', 'edu_8th_or_less', 'edu_grades_9_11',\n",
    "       'edu_hs_grad_equiv', 'edu_post_hs', 'edu_unknown',\n",
    "       'top_category_employer1', 'top_category_employer2',\n",
    "       'top_category_employer3', 'gender_female', 'gender_male', 'gender_na',\n",
    "       'race_amerindian', 'race_asian', 'race_black', 'race_noanswer',\n",
    "       'race_hawaiiannative', 'race_other', 'race_white'], axis=1, inplace=True)"
   ]
  },
  {
   "cell_type": "code",
   "execution_count": 44,
   "id": "151262dd",
   "metadata": {
    "execution": {
     "iopub.execute_input": "2023-05-09T21:12:03.536677Z",
     "iopub.status.busy": "2023-05-09T21:12:03.536481Z",
     "iopub.status.idle": "2023-05-09T21:12:03.540252Z",
     "shell.execute_reply": "2023-05-09T21:12:03.539897Z"
    }
   },
   "outputs": [
    {
     "data": {
      "text/html": [
       "<div>\n",
       "<style scoped>\n",
       "    .dataframe tbody tr th:only-of-type {\n",
       "        vertical-align: middle;\n",
       "    }\n",
       "\n",
       "    .dataframe tbody tr th {\n",
       "        vertical-align: top;\n",
       "    }\n",
       "\n",
       "    .dataframe thead th {\n",
       "        text-align: right;\n",
       "    }\n",
       "</style>\n",
       "<table border=\"1\" class=\"dataframe\">\n",
       "  <thead>\n",
       "    <tr style=\"text-align: right;\">\n",
       "      <th></th>\n",
       "      <th>timeperiod</th>\n",
       "      <th>week_number</th>\n",
       "      <th>total_claims</th>\n",
       "    </tr>\n",
       "  </thead>\n",
       "  <tbody>\n",
       "  </tbody>\n",
       "</table>\n",
       "</div>"
      ],
      "text/plain": [
       "Empty DataFrame\n",
       "Columns: [timeperiod, week_number, total_claims]\n",
       "Index: []"
      ]
     },
     "execution_count": 44,
     "metadata": {},
     "output_type": "execute_result"
    }
   ],
   "source": [
    "unemployment_data"
   ]
  },
  {
   "cell_type": "code",
   "execution_count": 45,
   "id": "0489624c",
   "metadata": {
    "execution": {
     "iopub.execute_input": "2023-05-09T21:12:03.542234Z",
     "iopub.status.busy": "2023-05-09T21:12:03.542110Z",
     "iopub.status.idle": "2023-05-09T21:12:03.546283Z",
     "shell.execute_reply": "2023-05-09T21:12:03.545841Z"
    }
   },
   "outputs": [
    {
     "data": {
      "text/html": [
       "<div>\n",
       "<style scoped>\n",
       "    .dataframe tbody tr th:only-of-type {\n",
       "        vertical-align: middle;\n",
       "    }\n",
       "\n",
       "    .dataframe tbody tr th {\n",
       "        vertical-align: top;\n",
       "    }\n",
       "\n",
       "    .dataframe thead th {\n",
       "        text-align: right;\n",
       "    }\n",
       "</style>\n",
       "<table border=\"1\" class=\"dataframe\">\n",
       "  <thead>\n",
       "    <tr style=\"text-align: right;\">\n",
       "      <th></th>\n",
       "      <th>timeperiod</th>\n",
       "      <th>week_number</th>\n",
       "      <th>total_claims</th>\n",
       "    </tr>\n",
       "  </thead>\n",
       "  <tbody>\n",
       "  </tbody>\n",
       "</table>\n",
       "</div>"
      ],
      "text/plain": [
       "Empty DataFrame\n",
       "Columns: [timeperiod, week_number, total_claims]\n",
       "Index: []"
      ]
     },
     "execution_count": 45,
     "metadata": {},
     "output_type": "execute_result"
    }
   ],
   "source": [
    "unemployment_data.sort_values(['week_number'])"
   ]
  },
  {
   "cell_type": "code",
   "execution_count": 46,
   "id": "7d4ebaf1",
   "metadata": {
    "execution": {
     "iopub.execute_input": "2023-05-09T21:12:03.548313Z",
     "iopub.status.busy": "2023-05-09T21:12:03.548156Z",
     "iopub.status.idle": "2023-05-09T21:12:03.551930Z",
     "shell.execute_reply": "2023-05-09T21:12:03.551587Z"
    }
   },
   "outputs": [
    {
     "data": {
      "text/html": [
       "<div>\n",
       "<style scoped>\n",
       "    .dataframe tbody tr th:only-of-type {\n",
       "        vertical-align: middle;\n",
       "    }\n",
       "\n",
       "    .dataframe tbody tr th {\n",
       "        vertical-align: top;\n",
       "    }\n",
       "\n",
       "    .dataframe thead th {\n",
       "        text-align: right;\n",
       "    }\n",
       "</style>\n",
       "<table border=\"1\" class=\"dataframe\">\n",
       "  <thead>\n",
       "    <tr style=\"text-align: right;\">\n",
       "      <th></th>\n",
       "      <th>timeperiod</th>\n",
       "      <th>week_number</th>\n",
       "      <th>total_claims</th>\n",
       "    </tr>\n",
       "  </thead>\n",
       "  <tbody>\n",
       "  </tbody>\n",
       "</table>\n",
       "</div>"
      ],
      "text/plain": [
       "Empty DataFrame\n",
       "Columns: [timeperiod, week_number, total_claims]\n",
       "Index: []"
      ]
     },
     "execution_count": 46,
     "metadata": {},
     "output_type": "execute_result"
    }
   ],
   "source": [
    "unemployment_data.drop_duplicates(inplace=True)\n",
    "unemployment_data.sort_values(['week_number'])"
   ]
  },
  {
   "cell_type": "code",
   "execution_count": 47,
   "id": "73989f94",
   "metadata": {
    "execution": {
     "iopub.execute_input": "2023-05-09T21:12:03.553633Z",
     "iopub.status.busy": "2023-05-09T21:12:03.553515Z",
     "iopub.status.idle": "2023-05-09T21:12:03.562396Z",
     "shell.execute_reply": "2023-05-09T21:12:03.562042Z"
    }
   },
   "outputs": [
    {
     "ename": "NameError",
     "evalue": "name 'm' is not defined",
     "output_type": "error",
     "traceback": [
      "\u001b[0;31m---------------------------------------------------------------------------\u001b[0m",
      "\u001b[0;31mNameError\u001b[0m                                 Traceback (most recent call last)",
      "Cell \u001b[0;32mIn [47], line 1\u001b[0m\n\u001b[0;32m----> 1\u001b[0m future \u001b[38;5;241m=\u001b[39m \u001b[43mm\u001b[49m\u001b[38;5;241m.\u001b[39mmake_future_dataframe(periods\u001b[38;5;241m=\u001b[39m\u001b[38;5;241m35\u001b[39m, freq\u001b[38;5;241m=\u001b[39m\u001b[38;5;124m'\u001b[39m\u001b[38;5;124mW\u001b[39m\u001b[38;5;124m'\u001b[39m)\n",
      "\u001b[0;31mNameError\u001b[0m: name 'm' is not defined"
     ]
    }
   ],
   "source": [
    "future = m.make_future_dataframe(periods=35, freq='W')"
   ]
  },
  {
   "cell_type": "code",
   "execution_count": 48,
   "id": "de7269b3",
   "metadata": {
    "execution": {
     "iopub.execute_input": "2023-05-09T21:12:03.564078Z",
     "iopub.status.busy": "2023-05-09T21:12:03.563948Z",
     "iopub.status.idle": "2023-05-09T21:12:03.571565Z",
     "shell.execute_reply": "2023-05-09T21:12:03.571299Z"
    }
   },
   "outputs": [
    {
     "ename": "NameError",
     "evalue": "name 'm' is not defined",
     "output_type": "error",
     "traceback": [
      "\u001b[0;31m---------------------------------------------------------------------------\u001b[0m",
      "\u001b[0;31mNameError\u001b[0m                                 Traceback (most recent call last)",
      "Cell \u001b[0;32mIn [48], line 1\u001b[0m\n\u001b[0;32m----> 1\u001b[0m forecast \u001b[38;5;241m=\u001b[39m \u001b[43mm\u001b[49m\u001b[38;5;241m.\u001b[39mpredict(df\u001b[38;5;241m=\u001b[39mfuture)\n",
      "\u001b[0;31mNameError\u001b[0m: name 'm' is not defined"
     ]
    }
   ],
   "source": [
    "forecast = m.predict(df=future)"
   ]
  },
  {
   "cell_type": "code",
   "execution_count": 49,
   "id": "acd6a012",
   "metadata": {
    "execution": {
     "iopub.execute_input": "2023-05-09T21:12:03.573032Z",
     "iopub.status.busy": "2023-05-09T21:12:03.572929Z",
     "iopub.status.idle": "2023-05-09T21:12:03.579968Z",
     "shell.execute_reply": "2023-05-09T21:12:03.579682Z"
    }
   },
   "outputs": [
    {
     "ename": "NameError",
     "evalue": "name 'forecast' is not defined",
     "output_type": "error",
     "traceback": [
      "\u001b[0;31m---------------------------------------------------------------------------\u001b[0m",
      "\u001b[0;31mNameError\u001b[0m                                 Traceback (most recent call last)",
      "Cell \u001b[0;32mIn [49], line 1\u001b[0m\n\u001b[0;32m----> 1\u001b[0m \u001b[43mforecast\u001b[49m\n",
      "\u001b[0;31mNameError\u001b[0m: name 'forecast' is not defined"
     ]
    }
   ],
   "source": [
    "forecast"
   ]
  },
  {
   "cell_type": "code",
   "execution_count": 50,
   "id": "bfff1941",
   "metadata": {
    "execution": {
     "iopub.execute_input": "2023-05-09T21:12:03.581530Z",
     "iopub.status.busy": "2023-05-09T21:12:03.581414Z",
     "iopub.status.idle": "2023-05-09T21:12:03.587979Z",
     "shell.execute_reply": "2023-05-09T21:12:03.587735Z"
    }
   },
   "outputs": [
    {
     "ename": "NameError",
     "evalue": "name 'm' is not defined",
     "output_type": "error",
     "traceback": [
      "\u001b[0;31m---------------------------------------------------------------------------\u001b[0m",
      "\u001b[0;31mNameError\u001b[0m                                 Traceback (most recent call last)",
      "Cell \u001b[0;32mIn [50], line 1\u001b[0m\n\u001b[0;32m----> 1\u001b[0m plot1 \u001b[38;5;241m=\u001b[39m \u001b[43mm\u001b[49m\u001b[38;5;241m.\u001b[39mplot(forecast)\n",
      "\u001b[0;31mNameError\u001b[0m: name 'm' is not defined"
     ]
    }
   ],
   "source": [
    "plot1 = m.plot(forecast)"
   ]
  },
  {
   "cell_type": "code",
   "execution_count": 51,
   "id": "71a54710",
   "metadata": {
    "execution": {
     "iopub.execute_input": "2023-05-09T21:12:03.589334Z",
     "iopub.status.busy": "2023-05-09T21:12:03.589255Z",
     "iopub.status.idle": "2023-05-09T21:12:03.596304Z",
     "shell.execute_reply": "2023-05-09T21:12:03.596024Z"
    }
   },
   "outputs": [
    {
     "ename": "NameError",
     "evalue": "name 'Prophet' is not defined",
     "output_type": "error",
     "traceback": [
      "\u001b[0;31m---------------------------------------------------------------------------\u001b[0m",
      "\u001b[0;31mNameError\u001b[0m                                 Traceback (most recent call last)",
      "Cell \u001b[0;32mIn [51], line 1\u001b[0m\n\u001b[0;32m----> 1\u001b[0m m \u001b[38;5;241m=\u001b[39m \u001b[43mProphet\u001b[49m(weekly_seasonality\u001b[38;5;241m=\u001b[39m\u001b[38;5;28;01mFalse\u001b[39;00m,\n\u001b[1;32m      2\u001b[0m         daily_seasonality\u001b[38;5;241m=\u001b[39m\u001b[38;5;28;01mFalse\u001b[39;00m,\n\u001b[1;32m      3\u001b[0m         interval_width\u001b[38;5;241m=\u001b[39m\u001b[38;5;241m0.95\u001b[39m, \n\u001b[1;32m      4\u001b[0m         mcmc_samples \u001b[38;5;241m=\u001b[39m \u001b[38;5;241m500\u001b[39m)\n",
      "\u001b[0;31mNameError\u001b[0m: name 'Prophet' is not defined"
     ]
    }
   ],
   "source": [
    "m = Prophet(weekly_seasonality=False,\n",
    "        daily_seasonality=False,\n",
    "        interval_width=0.95, \n",
    "        mcmc_samples = 500)"
   ]
  },
  {
   "cell_type": "code",
   "execution_count": 52,
   "id": "a9ca80ae",
   "metadata": {
    "execution": {
     "iopub.execute_input": "2023-05-09T21:12:03.597724Z",
     "iopub.status.busy": "2023-05-09T21:12:03.597609Z",
     "iopub.status.idle": "2023-05-09T21:12:03.604948Z",
     "shell.execute_reply": "2023-05-09T21:12:03.604679Z"
    }
   },
   "outputs": [
    {
     "ename": "NameError",
     "evalue": "name 'm' is not defined",
     "output_type": "error",
     "traceback": [
      "\u001b[0;31m---------------------------------------------------------------------------\u001b[0m",
      "\u001b[0;31mNameError\u001b[0m                                 Traceback (most recent call last)",
      "Cell \u001b[0;32mIn [52], line 1\u001b[0m\n\u001b[0;32m----> 1\u001b[0m \u001b[43mm\u001b[49m\u001b[38;5;241m.\u001b[39madd_seasonality(\n\u001b[1;32m      2\u001b[0m         name\u001b[38;5;241m=\u001b[39m\u001b[38;5;124m'\u001b[39m\u001b[38;5;124mmonthly\u001b[39m\u001b[38;5;124m'\u001b[39m, \n\u001b[1;32m      3\u001b[0m         period\u001b[38;5;241m=\u001b[39m\u001b[38;5;241m30.5\u001b[39m, \n\u001b[1;32m      4\u001b[0m         fourier_order\u001b[38;5;241m=\u001b[39m\u001b[38;5;241m5\u001b[39m\n\u001b[1;32m      5\u001b[0m     )\n",
      "\u001b[0;31mNameError\u001b[0m: name 'm' is not defined"
     ]
    }
   ],
   "source": [
    "m.add_seasonality(\n",
    "        name='monthly', \n",
    "        period=30.5, \n",
    "        fourier_order=5\n",
    "    )"
   ]
  },
  {
   "cell_type": "code",
   "execution_count": 53,
   "id": "5033050e",
   "metadata": {
    "execution": {
     "iopub.execute_input": "2023-05-09T21:12:03.606308Z",
     "iopub.status.busy": "2023-05-09T21:12:03.606226Z",
     "iopub.status.idle": "2023-05-09T21:12:03.612743Z",
     "shell.execute_reply": "2023-05-09T21:12:03.612299Z"
    }
   },
   "outputs": [
    {
     "ename": "NameError",
     "evalue": "name 'm' is not defined",
     "output_type": "error",
     "traceback": [
      "\u001b[0;31m---------------------------------------------------------------------------\u001b[0m",
      "\u001b[0;31mNameError\u001b[0m                                 Traceback (most recent call last)",
      "Cell \u001b[0;32mIn [53], line 1\u001b[0m\n\u001b[0;32m----> 1\u001b[0m \u001b[43mm\u001b[49m\u001b[38;5;241m.\u001b[39mfit(ud_train)\n",
      "\u001b[0;31mNameError\u001b[0m: name 'm' is not defined"
     ]
    }
   ],
   "source": [
    "m.fit(ud_train)"
   ]
  },
  {
   "cell_type": "code",
   "execution_count": 54,
   "id": "4a22c0a1",
   "metadata": {
    "execution": {
     "iopub.execute_input": "2023-05-09T21:12:03.614446Z",
     "iopub.status.busy": "2023-05-09T21:12:03.614295Z",
     "iopub.status.idle": "2023-05-09T21:12:03.620864Z",
     "shell.execute_reply": "2023-05-09T21:12:03.620615Z"
    }
   },
   "outputs": [
    {
     "ename": "NameError",
     "evalue": "name 'm' is not defined",
     "output_type": "error",
     "traceback": [
      "\u001b[0;31m---------------------------------------------------------------------------\u001b[0m",
      "\u001b[0;31mNameError\u001b[0m                                 Traceback (most recent call last)",
      "Cell \u001b[0;32mIn [54], line 1\u001b[0m\n\u001b[0;32m----> 1\u001b[0m future \u001b[38;5;241m=\u001b[39m \u001b[43mm\u001b[49m\u001b[38;5;241m.\u001b[39mmake_future_dataframe(periods\u001b[38;5;241m=\u001b[39m\u001b[38;5;241m35\u001b[39m, freq\u001b[38;5;241m=\u001b[39m\u001b[38;5;124m'\u001b[39m\u001b[38;5;124mW\u001b[39m\u001b[38;5;124m'\u001b[39m)\n",
      "\u001b[0;31mNameError\u001b[0m: name 'm' is not defined"
     ]
    }
   ],
   "source": [
    "future = m.make_future_dataframe(periods=35, freq='W')"
   ]
  },
  {
   "cell_type": "code",
   "execution_count": 55,
   "id": "e536930d",
   "metadata": {
    "execution": {
     "iopub.execute_input": "2023-05-09T21:12:03.622336Z",
     "iopub.status.busy": "2023-05-09T21:12:03.622256Z",
     "iopub.status.idle": "2023-05-09T21:12:03.628661Z",
     "shell.execute_reply": "2023-05-09T21:12:03.628312Z"
    }
   },
   "outputs": [
    {
     "ename": "NameError",
     "evalue": "name 'm' is not defined",
     "output_type": "error",
     "traceback": [
      "\u001b[0;31m---------------------------------------------------------------------------\u001b[0m",
      "\u001b[0;31mNameError\u001b[0m                                 Traceback (most recent call last)",
      "Cell \u001b[0;32mIn [55], line 1\u001b[0m\n\u001b[0;32m----> 1\u001b[0m forecast \u001b[38;5;241m=\u001b[39m \u001b[43mm\u001b[49m\u001b[38;5;241m.\u001b[39mpredict(df\u001b[38;5;241m=\u001b[39mfuture)\n",
      "\u001b[0;31mNameError\u001b[0m: name 'm' is not defined"
     ]
    }
   ],
   "source": [
    "forecast = m.predict(df=future)"
   ]
  },
  {
   "cell_type": "code",
   "execution_count": 56,
   "id": "c7bbd4eb",
   "metadata": {
    "execution": {
     "iopub.execute_input": "2023-05-09T21:12:03.630425Z",
     "iopub.status.busy": "2023-05-09T21:12:03.630300Z",
     "iopub.status.idle": "2023-05-09T21:12:03.636643Z",
     "shell.execute_reply": "2023-05-09T21:12:03.636415Z"
    }
   },
   "outputs": [
    {
     "ename": "NameError",
     "evalue": "name 'forecast' is not defined",
     "output_type": "error",
     "traceback": [
      "\u001b[0;31m---------------------------------------------------------------------------\u001b[0m",
      "\u001b[0;31mNameError\u001b[0m                                 Traceback (most recent call last)",
      "Cell \u001b[0;32mIn [56], line 1\u001b[0m\n\u001b[0;32m----> 1\u001b[0m \u001b[43mforecast\u001b[49m\n",
      "\u001b[0;31mNameError\u001b[0m: name 'forecast' is not defined"
     ]
    }
   ],
   "source": [
    "forecast"
   ]
  },
  {
   "cell_type": "code",
   "execution_count": 57,
   "id": "a6ec880c",
   "metadata": {
    "execution": {
     "iopub.execute_input": "2023-05-09T21:12:03.638098Z",
     "iopub.status.busy": "2023-05-09T21:12:03.638016Z",
     "iopub.status.idle": "2023-05-09T21:12:03.644441Z",
     "shell.execute_reply": "2023-05-09T21:12:03.644096Z"
    }
   },
   "outputs": [
    {
     "ename": "NameError",
     "evalue": "name 'm' is not defined",
     "output_type": "error",
     "traceback": [
      "\u001b[0;31m---------------------------------------------------------------------------\u001b[0m",
      "\u001b[0;31mNameError\u001b[0m                                 Traceback (most recent call last)",
      "Cell \u001b[0;32mIn [57], line 1\u001b[0m\n\u001b[0;32m----> 1\u001b[0m plot1 \u001b[38;5;241m=\u001b[39m \u001b[43mm\u001b[49m\u001b[38;5;241m.\u001b[39mplot(forecast)\n",
      "\u001b[0;31mNameError\u001b[0m: name 'm' is not defined"
     ]
    }
   ],
   "source": [
    "plot1 = m.plot(forecast)"
   ]
  },
  {
   "cell_type": "code",
   "execution_count": 58,
   "id": "0207faec",
   "metadata": {
    "execution": {
     "iopub.execute_input": "2023-05-09T21:12:03.646071Z",
     "iopub.status.busy": "2023-05-09T21:12:03.645954Z",
     "iopub.status.idle": "2023-05-09T21:12:03.648802Z",
     "shell.execute_reply": "2023-05-09T21:12:03.648535Z"
    }
   },
   "outputs": [
    {
     "data": {
      "text/html": [
       "<div>\n",
       "<style scoped>\n",
       "    .dataframe tbody tr th:only-of-type {\n",
       "        vertical-align: middle;\n",
       "    }\n",
       "\n",
       "    .dataframe tbody tr th {\n",
       "        vertical-align: top;\n",
       "    }\n",
       "\n",
       "    .dataframe thead th {\n",
       "        text-align: right;\n",
       "    }\n",
       "</style>\n",
       "<table border=\"1\" class=\"dataframe\">\n",
       "  <thead>\n",
       "    <tr style=\"text-align: right;\">\n",
       "      <th></th>\n",
       "      <th>ds</th>\n",
       "      <th>y</th>\n",
       "    </tr>\n",
       "  </thead>\n",
       "  <tbody>\n",
       "  </tbody>\n",
       "</table>\n",
       "</div>"
      ],
      "text/plain": [
       "Empty DataFrame\n",
       "Columns: [ds, y]\n",
       "Index: []"
      ]
     },
     "execution_count": 58,
     "metadata": {},
     "output_type": "execute_result"
    }
   ],
   "source": [
    "ud_test"
   ]
  },
  {
   "cell_type": "code",
   "execution_count": 59,
   "id": "5030f3fd",
   "metadata": {
    "execution": {
     "iopub.execute_input": "2023-05-09T21:12:03.650247Z",
     "iopub.status.busy": "2023-05-09T21:12:03.650141Z",
     "iopub.status.idle": "2023-05-09T21:12:03.656458Z",
     "shell.execute_reply": "2023-05-09T21:12:03.656220Z"
    }
   },
   "outputs": [
    {
     "ename": "NameError",
     "evalue": "name 'forecast' is not defined",
     "output_type": "error",
     "traceback": [
      "\u001b[0;31m---------------------------------------------------------------------------\u001b[0m",
      "\u001b[0;31mNameError\u001b[0m                                 Traceback (most recent call last)",
      "Cell \u001b[0;32mIn [59], line 1\u001b[0m\n\u001b[0;32m----> 1\u001b[0m \u001b[43mforecast\u001b[49m[\u001b[38;5;124m'\u001b[39m\u001b[38;5;124mds\u001b[39m\u001b[38;5;124m'\u001b[39m]\n",
      "\u001b[0;31mNameError\u001b[0m: name 'forecast' is not defined"
     ]
    }
   ],
   "source": [
    "forecast['ds']"
   ]
  },
  {
   "cell_type": "code",
   "execution_count": 60,
   "id": "e61d157a",
   "metadata": {
    "execution": {
     "iopub.execute_input": "2023-05-09T21:12:03.657838Z",
     "iopub.status.busy": "2023-05-09T21:12:03.657763Z",
     "iopub.status.idle": "2023-05-09T21:12:03.659765Z",
     "shell.execute_reply": "2023-05-09T21:12:03.659480Z"
    }
   },
   "outputs": [
    {
     "ename": "SyntaxError",
     "evalue": "unmatched ')' (172832558.py, line 1)",
     "output_type": "error",
     "traceback": [
      "\u001b[0;36m  Cell \u001b[0;32mIn [60], line 1\u001b[0;36m\u001b[0m\n\u001b[0;31m    forecast['ds' == pd.to_datetime('2022-05-14')]).yhat\u001b[0m\n\u001b[0m                                                  ^\u001b[0m\n\u001b[0;31mSyntaxError\u001b[0m\u001b[0;31m:\u001b[0m unmatched ')'\n"
     ]
    }
   ],
   "source": [
    "forecast['ds' == pd.to_datetime('2022-05-14')]).yhat"
   ]
  },
  {
   "cell_type": "code",
   "execution_count": 61,
   "id": "c55f40d4",
   "metadata": {
    "execution": {
     "iopub.execute_input": "2023-05-09T21:12:03.661439Z",
     "iopub.status.busy": "2023-05-09T21:12:03.661309Z",
     "iopub.status.idle": "2023-05-09T21:12:03.663340Z",
     "shell.execute_reply": "2023-05-09T21:12:03.663091Z"
    }
   },
   "outputs": [
    {
     "ename": "SyntaxError",
     "evalue": "unmatched ')' (3281829213.py, line 1)",
     "output_type": "error",
     "traceback": [
      "\u001b[0;36m  Cell \u001b[0;32mIn [61], line 1\u001b[0;36m\u001b[0m\n\u001b[0;31m    forecast['ds' == pd.to_datetime('2022-05-14')])\u001b[0m\n\u001b[0m                                                  ^\u001b[0m\n\u001b[0;31mSyntaxError\u001b[0m\u001b[0;31m:\u001b[0m unmatched ')'\n"
     ]
    }
   ],
   "source": [
    "forecast['ds' == pd.to_datetime('2022-05-14')])"
   ]
  },
  {
   "cell_type": "code",
   "execution_count": 62,
   "id": "682e22b0",
   "metadata": {
    "execution": {
     "iopub.execute_input": "2023-05-09T21:12:03.664666Z",
     "iopub.status.busy": "2023-05-09T21:12:03.664570Z",
     "iopub.status.idle": "2023-05-09T21:12:03.671663Z",
     "shell.execute_reply": "2023-05-09T21:12:03.671412Z"
    }
   },
   "outputs": [
    {
     "ename": "NameError",
     "evalue": "name 'forecast' is not defined",
     "output_type": "error",
     "traceback": [
      "\u001b[0;31m---------------------------------------------------------------------------\u001b[0m",
      "\u001b[0;31mNameError\u001b[0m                                 Traceback (most recent call last)",
      "Cell \u001b[0;32mIn [62], line 1\u001b[0m\n\u001b[0;32m----> 1\u001b[0m \u001b[43mforecast\u001b[49m[\u001b[38;5;124m'\u001b[39m\u001b[38;5;124mds\u001b[39m\u001b[38;5;124m'\u001b[39m \u001b[38;5;241m==\u001b[39m pd\u001b[38;5;241m.\u001b[39mto_datetime(\u001b[38;5;124m'\u001b[39m\u001b[38;5;124m2022-05-14\u001b[39m\u001b[38;5;124m'\u001b[39m)]\u001b[38;5;241m.\u001b[39myhat\n",
      "\u001b[0;31mNameError\u001b[0m: name 'forecast' is not defined"
     ]
    }
   ],
   "source": [
    "forecast['ds' == pd.to_datetime('2022-05-14')].yhat"
   ]
  },
  {
   "cell_type": "code",
   "execution_count": 63,
   "id": "e86ec14a",
   "metadata": {
    "execution": {
     "iopub.execute_input": "2023-05-09T21:12:03.673063Z",
     "iopub.status.busy": "2023-05-09T21:12:03.672977Z",
     "iopub.status.idle": "2023-05-09T21:12:03.679678Z",
     "shell.execute_reply": "2023-05-09T21:12:03.679429Z"
    }
   },
   "outputs": [
    {
     "ename": "NameError",
     "evalue": "name 'forecast' is not defined",
     "output_type": "error",
     "traceback": [
      "\u001b[0;31m---------------------------------------------------------------------------\u001b[0m",
      "\u001b[0;31mNameError\u001b[0m                                 Traceback (most recent call last)",
      "Cell \u001b[0;32mIn [63], line 1\u001b[0m\n\u001b[0;32m----> 1\u001b[0m \u001b[43mforecast\u001b[49m[\u001b[38;5;124m'\u001b[39m\u001b[38;5;124mds\u001b[39m\u001b[38;5;124m'\u001b[39m \u001b[38;5;241m==\u001b[39m pd\u001b[38;5;241m.\u001b[39mto_datetime(\u001b[38;5;124m'\u001b[39m\u001b[38;5;124m2022-05-14\u001b[39m\u001b[38;5;124m'\u001b[39m)]\n",
      "\u001b[0;31mNameError\u001b[0m: name 'forecast' is not defined"
     ]
    }
   ],
   "source": [
    "forecast['ds' == pd.to_datetime('2022-05-14')]"
   ]
  },
  {
   "cell_type": "code",
   "execution_count": 64,
   "id": "aaf4254e",
   "metadata": {
    "execution": {
     "iopub.execute_input": "2023-05-09T21:12:03.681057Z",
     "iopub.status.busy": "2023-05-09T21:12:03.680954Z",
     "iopub.status.idle": "2023-05-09T21:12:03.687572Z",
     "shell.execute_reply": "2023-05-09T21:12:03.687319Z"
    }
   },
   "outputs": [
    {
     "ename": "NameError",
     "evalue": "name 'Prophet' is not defined",
     "output_type": "error",
     "traceback": [
      "\u001b[0;31m---------------------------------------------------------------------------\u001b[0m",
      "\u001b[0;31mNameError\u001b[0m                                 Traceback (most recent call last)",
      "Cell \u001b[0;32mIn [64], line 1\u001b[0m\n\u001b[0;32m----> 1\u001b[0m m \u001b[38;5;241m=\u001b[39m \u001b[43mProphet\u001b[49m(weekly_seasonality\u001b[38;5;241m=\u001b[39m\u001b[38;5;28;01mFalse\u001b[39;00m,\n\u001b[1;32m      2\u001b[0m         daily_seasonality\u001b[38;5;241m=\u001b[39m\u001b[38;5;28;01mFalse\u001b[39;00m,\n\u001b[1;32m      3\u001b[0m         interval_width\u001b[38;5;241m=\u001b[39m\u001b[38;5;241m0.95\u001b[39m, \n\u001b[1;32m      4\u001b[0m         mcmc_samples \u001b[38;5;241m=\u001b[39m \u001b[38;5;241m500\u001b[39m)\n",
      "\u001b[0;31mNameError\u001b[0m: name 'Prophet' is not defined"
     ]
    }
   ],
   "source": [
    "m = Prophet(weekly_seasonality=False,\n",
    "        daily_seasonality=False,\n",
    "        interval_width=0.95, \n",
    "        mcmc_samples = 500)"
   ]
  },
  {
   "cell_type": "markdown",
   "id": "2896c396",
   "metadata": {},
   "source": [
    "m.add_seasonality(\n",
    "        name='monthly', \n",
    "        period=30.5, \n",
    "        fourier_order=5\n",
    "    )"
   ]
  },
  {
   "cell_type": "code",
   "execution_count": 65,
   "id": "441e520f",
   "metadata": {
    "execution": {
     "iopub.execute_input": "2023-05-09T21:12:03.688983Z",
     "iopub.status.busy": "2023-05-09T21:12:03.688896Z",
     "iopub.status.idle": "2023-05-09T21:12:03.695374Z",
     "shell.execute_reply": "2023-05-09T21:12:03.694950Z"
    }
   },
   "outputs": [
    {
     "ename": "NameError",
     "evalue": "name 'm' is not defined",
     "output_type": "error",
     "traceback": [
      "\u001b[0;31m---------------------------------------------------------------------------\u001b[0m",
      "\u001b[0;31mNameError\u001b[0m                                 Traceback (most recent call last)",
      "Cell \u001b[0;32mIn [65], line 1\u001b[0m\n\u001b[0;32m----> 1\u001b[0m \u001b[43mm\u001b[49m\u001b[38;5;241m.\u001b[39mfit(ud_train)\n",
      "\u001b[0;31mNameError\u001b[0m: name 'm' is not defined"
     ]
    }
   ],
   "source": [
    "m.fit(ud_train)"
   ]
  },
  {
   "cell_type": "code",
   "execution_count": 66,
   "id": "0b63c7dc",
   "metadata": {
    "execution": {
     "iopub.execute_input": "2023-05-09T21:12:03.696894Z",
     "iopub.status.busy": "2023-05-09T21:12:03.696790Z",
     "iopub.status.idle": "2023-05-09T21:12:03.703193Z",
     "shell.execute_reply": "2023-05-09T21:12:03.702973Z"
    }
   },
   "outputs": [
    {
     "ename": "NameError",
     "evalue": "name 'm' is not defined",
     "output_type": "error",
     "traceback": [
      "\u001b[0;31m---------------------------------------------------------------------------\u001b[0m",
      "\u001b[0;31mNameError\u001b[0m                                 Traceback (most recent call last)",
      "Cell \u001b[0;32mIn [66], line 1\u001b[0m\n\u001b[0;32m----> 1\u001b[0m future \u001b[38;5;241m=\u001b[39m \u001b[43mm\u001b[49m\u001b[38;5;241m.\u001b[39mmake_future_dataframe(periods\u001b[38;5;241m=\u001b[39m\u001b[38;5;241m35\u001b[39m, freq\u001b[38;5;241m=\u001b[39m\u001b[38;5;124m'\u001b[39m\u001b[38;5;124mW\u001b[39m\u001b[38;5;124m'\u001b[39m)\n",
      "\u001b[0;31mNameError\u001b[0m: name 'm' is not defined"
     ]
    }
   ],
   "source": [
    "future = m.make_future_dataframe(periods=35, freq='W')"
   ]
  },
  {
   "cell_type": "code",
   "execution_count": 67,
   "id": "ae5a9e37",
   "metadata": {
    "execution": {
     "iopub.execute_input": "2023-05-09T21:12:03.704620Z",
     "iopub.status.busy": "2023-05-09T21:12:03.704534Z",
     "iopub.status.idle": "2023-05-09T21:12:03.710816Z",
     "shell.execute_reply": "2023-05-09T21:12:03.710520Z"
    }
   },
   "outputs": [
    {
     "ename": "NameError",
     "evalue": "name 'm' is not defined",
     "output_type": "error",
     "traceback": [
      "\u001b[0;31m---------------------------------------------------------------------------\u001b[0m",
      "\u001b[0;31mNameError\u001b[0m                                 Traceback (most recent call last)",
      "Cell \u001b[0;32mIn [67], line 1\u001b[0m\n\u001b[0;32m----> 1\u001b[0m forecast \u001b[38;5;241m=\u001b[39m \u001b[43mm\u001b[49m\u001b[38;5;241m.\u001b[39mpredict(df\u001b[38;5;241m=\u001b[39mfuture)\n",
      "\u001b[0;31mNameError\u001b[0m: name 'm' is not defined"
     ]
    }
   ],
   "source": [
    "forecast = m.predict(df=future)"
   ]
  },
  {
   "cell_type": "code",
   "execution_count": 68,
   "id": "2982f70f",
   "metadata": {
    "execution": {
     "iopub.execute_input": "2023-05-09T21:12:03.712502Z",
     "iopub.status.busy": "2023-05-09T21:12:03.712388Z",
     "iopub.status.idle": "2023-05-09T21:12:03.718832Z",
     "shell.execute_reply": "2023-05-09T21:12:03.718598Z"
    }
   },
   "outputs": [
    {
     "ename": "NameError",
     "evalue": "name 'm' is not defined",
     "output_type": "error",
     "traceback": [
      "\u001b[0;31m---------------------------------------------------------------------------\u001b[0m",
      "\u001b[0;31mNameError\u001b[0m                                 Traceback (most recent call last)",
      "Cell \u001b[0;32mIn [68], line 1\u001b[0m\n\u001b[0;32m----> 1\u001b[0m future \u001b[38;5;241m=\u001b[39m \u001b[43mm\u001b[49m\u001b[38;5;241m.\u001b[39mmake_future_dataframe(periods\u001b[38;5;241m=\u001b[39m\u001b[38;5;241m35\u001b[39m, freq\u001b[38;5;241m=\u001b[39m\u001b[38;5;124m'\u001b[39m\u001b[38;5;124mW\u001b[39m\u001b[38;5;124m'\u001b[39m)\n",
      "\u001b[0;31mNameError\u001b[0m: name 'm' is not defined"
     ]
    }
   ],
   "source": [
    "future = m.make_future_dataframe(periods=35, freq='W')"
   ]
  },
  {
   "cell_type": "code",
   "execution_count": 69,
   "id": "5b2a87fb",
   "metadata": {
    "execution": {
     "iopub.execute_input": "2023-05-09T21:12:03.720191Z",
     "iopub.status.busy": "2023-05-09T21:12:03.720110Z",
     "iopub.status.idle": "2023-05-09T21:12:03.726327Z",
     "shell.execute_reply": "2023-05-09T21:12:03.726028Z"
    }
   },
   "outputs": [
    {
     "ename": "NameError",
     "evalue": "name 'm' is not defined",
     "output_type": "error",
     "traceback": [
      "\u001b[0;31m---------------------------------------------------------------------------\u001b[0m",
      "\u001b[0;31mNameError\u001b[0m                                 Traceback (most recent call last)",
      "Cell \u001b[0;32mIn [69], line 1\u001b[0m\n\u001b[0;32m----> 1\u001b[0m forecast \u001b[38;5;241m=\u001b[39m \u001b[43mm\u001b[49m\u001b[38;5;241m.\u001b[39mpredict(df\u001b[38;5;241m=\u001b[39mfuture)\n",
      "\u001b[0;31mNameError\u001b[0m: name 'm' is not defined"
     ]
    }
   ],
   "source": [
    "forecast = m.predict(df=future)"
   ]
  },
  {
   "cell_type": "code",
   "execution_count": 70,
   "id": "2f34a503",
   "metadata": {
    "execution": {
     "iopub.execute_input": "2023-05-09T21:12:03.727891Z",
     "iopub.status.busy": "2023-05-09T21:12:03.727775Z",
     "iopub.status.idle": "2023-05-09T21:12:03.729398Z",
     "shell.execute_reply": "2023-05-09T21:12:03.729174Z"
    }
   },
   "outputs": [],
   "source": [
    "ud = unemployment_data"
   ]
  },
  {
   "cell_type": "code",
   "execution_count": 71,
   "id": "dc042818",
   "metadata": {
    "execution": {
     "iopub.execute_input": "2023-05-09T21:12:03.730728Z",
     "iopub.status.busy": "2023-05-09T21:12:03.730652Z",
     "iopub.status.idle": "2023-05-09T21:12:03.796861Z",
     "shell.execute_reply": "2023-05-09T21:12:03.796570Z"
    }
   },
   "outputs": [
    {
     "ename": "KeyError",
     "evalue": "'ds'",
     "output_type": "error",
     "traceback": [
      "\u001b[0;31m---------------------------------------------------------------------------\u001b[0m",
      "\u001b[0;31mKeyError\u001b[0m                                  Traceback (most recent call last)",
      "File \u001b[0;32m/opt/homebrew/lib/python3.9/site-packages/pandas/core/indexes/base.py:3803\u001b[0m, in \u001b[0;36mIndex.get_loc\u001b[0;34m(self, key, method, tolerance)\u001b[0m\n\u001b[1;32m   3802\u001b[0m \u001b[38;5;28;01mtry\u001b[39;00m:\n\u001b[0;32m-> 3803\u001b[0m     \u001b[38;5;28;01mreturn\u001b[39;00m \u001b[38;5;28;43mself\u001b[39;49m\u001b[38;5;241;43m.\u001b[39;49m\u001b[43m_engine\u001b[49m\u001b[38;5;241;43m.\u001b[39;49m\u001b[43mget_loc\u001b[49m\u001b[43m(\u001b[49m\u001b[43mcasted_key\u001b[49m\u001b[43m)\u001b[49m\n\u001b[1;32m   3804\u001b[0m \u001b[38;5;28;01mexcept\u001b[39;00m \u001b[38;5;167;01mKeyError\u001b[39;00m \u001b[38;5;28;01mas\u001b[39;00m err:\n",
      "File \u001b[0;32m/opt/homebrew/lib/python3.9/site-packages/pandas/_libs/index.pyx:138\u001b[0m, in \u001b[0;36mpandas._libs.index.IndexEngine.get_loc\u001b[0;34m()\u001b[0m\n",
      "File \u001b[0;32m/opt/homebrew/lib/python3.9/site-packages/pandas/_libs/index.pyx:165\u001b[0m, in \u001b[0;36mpandas._libs.index.IndexEngine.get_loc\u001b[0;34m()\u001b[0m\n",
      "File \u001b[0;32mpandas/_libs/hashtable_class_helper.pxi:5745\u001b[0m, in \u001b[0;36mpandas._libs.hashtable.PyObjectHashTable.get_item\u001b[0;34m()\u001b[0m\n",
      "File \u001b[0;32mpandas/_libs/hashtable_class_helper.pxi:5753\u001b[0m, in \u001b[0;36mpandas._libs.hashtable.PyObjectHashTable.get_item\u001b[0;34m()\u001b[0m\n",
      "\u001b[0;31mKeyError\u001b[0m: 'ds'",
      "\nThe above exception was the direct cause of the following exception:\n",
      "\u001b[0;31mKeyError\u001b[0m                                  Traceback (most recent call last)",
      "Cell \u001b[0;32mIn [71], line 2\u001b[0m\n\u001b[1;32m      1\u001b[0m threshold_date \u001b[38;5;241m=\u001b[39m pd\u001b[38;5;241m.\u001b[39mto_datetime(\u001b[38;5;124m'\u001b[39m\u001b[38;5;124m2022-05-14\u001b[39m\u001b[38;5;124m'\u001b[39m)\n\u001b[0;32m----> 2\u001b[0m mask \u001b[38;5;241m=\u001b[39m \u001b[43mud\u001b[49m\u001b[43m[\u001b[49m\u001b[38;5;124;43m'\u001b[39;49m\u001b[38;5;124;43mds\u001b[39;49m\u001b[38;5;124;43m'\u001b[39;49m\u001b[43m]\u001b[49m \u001b[38;5;241m<\u001b[39m threshold_date\n",
      "File \u001b[0;32m/opt/homebrew/lib/python3.9/site-packages/pandas/core/frame.py:3804\u001b[0m, in \u001b[0;36mDataFrame.__getitem__\u001b[0;34m(self, key)\u001b[0m\n\u001b[1;32m   3802\u001b[0m \u001b[38;5;28;01mif\u001b[39;00m \u001b[38;5;28mself\u001b[39m\u001b[38;5;241m.\u001b[39mcolumns\u001b[38;5;241m.\u001b[39mnlevels \u001b[38;5;241m>\u001b[39m \u001b[38;5;241m1\u001b[39m:\n\u001b[1;32m   3803\u001b[0m     \u001b[38;5;28;01mreturn\u001b[39;00m \u001b[38;5;28mself\u001b[39m\u001b[38;5;241m.\u001b[39m_getitem_multilevel(key)\n\u001b[0;32m-> 3804\u001b[0m indexer \u001b[38;5;241m=\u001b[39m \u001b[38;5;28;43mself\u001b[39;49m\u001b[38;5;241;43m.\u001b[39;49m\u001b[43mcolumns\u001b[49m\u001b[38;5;241;43m.\u001b[39;49m\u001b[43mget_loc\u001b[49m\u001b[43m(\u001b[49m\u001b[43mkey\u001b[49m\u001b[43m)\u001b[49m\n\u001b[1;32m   3805\u001b[0m \u001b[38;5;28;01mif\u001b[39;00m is_integer(indexer):\n\u001b[1;32m   3806\u001b[0m     indexer \u001b[38;5;241m=\u001b[39m [indexer]\n",
      "File \u001b[0;32m/opt/homebrew/lib/python3.9/site-packages/pandas/core/indexes/base.py:3805\u001b[0m, in \u001b[0;36mIndex.get_loc\u001b[0;34m(self, key, method, tolerance)\u001b[0m\n\u001b[1;32m   3803\u001b[0m     \u001b[38;5;28;01mreturn\u001b[39;00m \u001b[38;5;28mself\u001b[39m\u001b[38;5;241m.\u001b[39m_engine\u001b[38;5;241m.\u001b[39mget_loc(casted_key)\n\u001b[1;32m   3804\u001b[0m \u001b[38;5;28;01mexcept\u001b[39;00m \u001b[38;5;167;01mKeyError\u001b[39;00m \u001b[38;5;28;01mas\u001b[39;00m err:\n\u001b[0;32m-> 3805\u001b[0m     \u001b[38;5;28;01mraise\u001b[39;00m \u001b[38;5;167;01mKeyError\u001b[39;00m(key) \u001b[38;5;28;01mfrom\u001b[39;00m \u001b[38;5;21;01merr\u001b[39;00m\n\u001b[1;32m   3806\u001b[0m \u001b[38;5;28;01mexcept\u001b[39;00m \u001b[38;5;167;01mTypeError\u001b[39;00m:\n\u001b[1;32m   3807\u001b[0m     \u001b[38;5;66;03m# If we have a listlike key, _check_indexing_error will raise\u001b[39;00m\n\u001b[1;32m   3808\u001b[0m     \u001b[38;5;66;03m#  InvalidIndexError. Otherwise we fall through and re-raise\u001b[39;00m\n\u001b[1;32m   3809\u001b[0m     \u001b[38;5;66;03m#  the TypeError.\u001b[39;00m\n\u001b[1;32m   3810\u001b[0m     \u001b[38;5;28mself\u001b[39m\u001b[38;5;241m.\u001b[39m_check_indexing_error(key)\n",
      "\u001b[0;31mKeyError\u001b[0m: 'ds'"
     ]
    }
   ],
   "source": [
    "threshold_date = pd.to_datetime('2022-05-14')\n",
    "mask = ud['ds'] < threshold_date"
   ]
  },
  {
   "cell_type": "code",
   "execution_count": 72,
   "id": "1b99f716",
   "metadata": {
    "execution": {
     "iopub.execute_input": "2023-05-09T21:12:03.798373Z",
     "iopub.status.busy": "2023-05-09T21:12:03.798263Z",
     "iopub.status.idle": "2023-05-09T21:12:03.859248Z",
     "shell.execute_reply": "2023-05-09T21:12:03.858950Z"
    }
   },
   "outputs": [
    {
     "ename": "KeyError",
     "evalue": "\"None of [Index(['ds', 'y'], dtype='object')] are in the [columns]\"",
     "output_type": "error",
     "traceback": [
      "\u001b[0;31m---------------------------------------------------------------------------\u001b[0m",
      "\u001b[0;31mKeyError\u001b[0m                                  Traceback (most recent call last)",
      "Cell \u001b[0;32mIn [72], line 2\u001b[0m\n\u001b[1;32m      1\u001b[0m \u001b[38;5;66;03m# Split the data and select `ds` and `y` columns.\u001b[39;00m\n\u001b[0;32m----> 2\u001b[0m ud_train \u001b[38;5;241m=\u001b[39m \u001b[43mud\u001b[49m\u001b[43m[\u001b[49m\u001b[43mmask\u001b[49m\u001b[43m]\u001b[49m\u001b[43m[\u001b[49m\u001b[43m[\u001b[49m\u001b[38;5;124;43m'\u001b[39;49m\u001b[38;5;124;43mds\u001b[39;49m\u001b[38;5;124;43m'\u001b[39;49m\u001b[43m,\u001b[49m\u001b[43m \u001b[49m\u001b[38;5;124;43m'\u001b[39;49m\u001b[38;5;124;43my\u001b[39;49m\u001b[38;5;124;43m'\u001b[39;49m\u001b[43m]\u001b[49m\u001b[43m]\u001b[49m\n\u001b[1;32m      3\u001b[0m ud_test \u001b[38;5;241m=\u001b[39m ud[\u001b[38;5;241m~\u001b[39mmask][[\u001b[38;5;124m'\u001b[39m\u001b[38;5;124mds\u001b[39m\u001b[38;5;124m'\u001b[39m, \u001b[38;5;124m'\u001b[39m\u001b[38;5;124my\u001b[39m\u001b[38;5;124m'\u001b[39m]]\n",
      "File \u001b[0;32m/opt/homebrew/lib/python3.9/site-packages/pandas/core/frame.py:3810\u001b[0m, in \u001b[0;36mDataFrame.__getitem__\u001b[0;34m(self, key)\u001b[0m\n\u001b[1;32m   3808\u001b[0m     \u001b[38;5;28;01mif\u001b[39;00m is_iterator(key):\n\u001b[1;32m   3809\u001b[0m         key \u001b[38;5;241m=\u001b[39m \u001b[38;5;28mlist\u001b[39m(key)\n\u001b[0;32m-> 3810\u001b[0m     indexer \u001b[38;5;241m=\u001b[39m \u001b[38;5;28;43mself\u001b[39;49m\u001b[38;5;241;43m.\u001b[39;49m\u001b[43mcolumns\u001b[49m\u001b[38;5;241;43m.\u001b[39;49m\u001b[43m_get_indexer_strict\u001b[49m\u001b[43m(\u001b[49m\u001b[43mkey\u001b[49m\u001b[43m,\u001b[49m\u001b[43m \u001b[49m\u001b[38;5;124;43m\"\u001b[39;49m\u001b[38;5;124;43mcolumns\u001b[39;49m\u001b[38;5;124;43m\"\u001b[39;49m\u001b[43m)\u001b[49m[\u001b[38;5;241m1\u001b[39m]\n\u001b[1;32m   3812\u001b[0m \u001b[38;5;66;03m# take() does not accept boolean indexers\u001b[39;00m\n\u001b[1;32m   3813\u001b[0m \u001b[38;5;28;01mif\u001b[39;00m \u001b[38;5;28mgetattr\u001b[39m(indexer, \u001b[38;5;124m\"\u001b[39m\u001b[38;5;124mdtype\u001b[39m\u001b[38;5;124m\"\u001b[39m, \u001b[38;5;28;01mNone\u001b[39;00m) \u001b[38;5;241m==\u001b[39m \u001b[38;5;28mbool\u001b[39m:\n",
      "File \u001b[0;32m/opt/homebrew/lib/python3.9/site-packages/pandas/core/indexes/base.py:6111\u001b[0m, in \u001b[0;36mIndex._get_indexer_strict\u001b[0;34m(self, key, axis_name)\u001b[0m\n\u001b[1;32m   6108\u001b[0m \u001b[38;5;28;01melse\u001b[39;00m:\n\u001b[1;32m   6109\u001b[0m     keyarr, indexer, new_indexer \u001b[38;5;241m=\u001b[39m \u001b[38;5;28mself\u001b[39m\u001b[38;5;241m.\u001b[39m_reindex_non_unique(keyarr)\n\u001b[0;32m-> 6111\u001b[0m \u001b[38;5;28;43mself\u001b[39;49m\u001b[38;5;241;43m.\u001b[39;49m\u001b[43m_raise_if_missing\u001b[49m\u001b[43m(\u001b[49m\u001b[43mkeyarr\u001b[49m\u001b[43m,\u001b[49m\u001b[43m \u001b[49m\u001b[43mindexer\u001b[49m\u001b[43m,\u001b[49m\u001b[43m \u001b[49m\u001b[43maxis_name\u001b[49m\u001b[43m)\u001b[49m\n\u001b[1;32m   6113\u001b[0m keyarr \u001b[38;5;241m=\u001b[39m \u001b[38;5;28mself\u001b[39m\u001b[38;5;241m.\u001b[39mtake(indexer)\n\u001b[1;32m   6114\u001b[0m \u001b[38;5;28;01mif\u001b[39;00m \u001b[38;5;28misinstance\u001b[39m(key, Index):\n\u001b[1;32m   6115\u001b[0m     \u001b[38;5;66;03m# GH 42790 - Preserve name from an Index\u001b[39;00m\n",
      "File \u001b[0;32m/opt/homebrew/lib/python3.9/site-packages/pandas/core/indexes/base.py:6171\u001b[0m, in \u001b[0;36mIndex._raise_if_missing\u001b[0;34m(self, key, indexer, axis_name)\u001b[0m\n\u001b[1;32m   6169\u001b[0m     \u001b[38;5;28;01mif\u001b[39;00m use_interval_msg:\n\u001b[1;32m   6170\u001b[0m         key \u001b[38;5;241m=\u001b[39m \u001b[38;5;28mlist\u001b[39m(key)\n\u001b[0;32m-> 6171\u001b[0m     \u001b[38;5;28;01mraise\u001b[39;00m \u001b[38;5;167;01mKeyError\u001b[39;00m(\u001b[38;5;124mf\u001b[39m\u001b[38;5;124m\"\u001b[39m\u001b[38;5;124mNone of [\u001b[39m\u001b[38;5;132;01m{\u001b[39;00mkey\u001b[38;5;132;01m}\u001b[39;00m\u001b[38;5;124m] are in the [\u001b[39m\u001b[38;5;132;01m{\u001b[39;00maxis_name\u001b[38;5;132;01m}\u001b[39;00m\u001b[38;5;124m]\u001b[39m\u001b[38;5;124m\"\u001b[39m)\n\u001b[1;32m   6173\u001b[0m not_found \u001b[38;5;241m=\u001b[39m \u001b[38;5;28mlist\u001b[39m(ensure_index(key)[missing_mask\u001b[38;5;241m.\u001b[39mnonzero()[\u001b[38;5;241m0\u001b[39m]]\u001b[38;5;241m.\u001b[39munique())\n\u001b[1;32m   6174\u001b[0m \u001b[38;5;28;01mraise\u001b[39;00m \u001b[38;5;167;01mKeyError\u001b[39;00m(\u001b[38;5;124mf\u001b[39m\u001b[38;5;124m\"\u001b[39m\u001b[38;5;132;01m{\u001b[39;00mnot_found\u001b[38;5;132;01m}\u001b[39;00m\u001b[38;5;124m not in index\u001b[39m\u001b[38;5;124m\"\u001b[39m)\n",
      "\u001b[0;31mKeyError\u001b[0m: \"None of [Index(['ds', 'y'], dtype='object')] are in the [columns]\""
     ]
    }
   ],
   "source": [
    "# Split the data and select `ds` and `y` columns.\n",
    "ud_train = ud[mask][['ds', 'y']]\n",
    "ud_test = ud[~mask][['ds', 'y']]"
   ]
  },
  {
   "cell_type": "code",
   "execution_count": 73,
   "id": "0b679548",
   "metadata": {
    "execution": {
     "iopub.execute_input": "2023-05-09T21:12:03.860724Z",
     "iopub.status.busy": "2023-05-09T21:12:03.860619Z",
     "iopub.status.idle": "2023-05-09T21:12:03.862225Z",
     "shell.execute_reply": "2023-05-09T21:12:03.861978Z"
    }
   },
   "outputs": [],
   "source": [
    "query = \"\"\"\n",
    "SELECT *\n",
    "FROM `ironhacks-data.ironhacks_competition.unemployment_data`\n",
    "WHERE uu_id='e201385d37b5f6eea30f6d6d4106dc6f'\n",
    "\"\"\""
   ]
  },
  {
   "cell_type": "code",
   "execution_count": 74,
   "id": "fe6c61e9",
   "metadata": {
    "execution": {
     "iopub.execute_input": "2023-05-09T21:12:03.863586Z",
     "iopub.status.busy": "2023-05-09T21:12:03.863506Z",
     "iopub.status.idle": "2023-05-09T21:12:10.977775Z",
     "shell.execute_reply": "2023-05-09T21:12:10.976031Z"
    }
   },
   "outputs": [],
   "source": [
    "query_job = bigquery_client.query(query)\n",
    "unemployment_data = query_job.to_dataframe()"
   ]
  },
  {
   "cell_type": "code",
   "execution_count": 75,
   "id": "da854e81",
   "metadata": {
    "execution": {
     "iopub.execute_input": "2023-05-09T21:12:10.985714Z",
     "iopub.status.busy": "2023-05-09T21:12:10.985207Z",
     "iopub.status.idle": "2023-05-09T21:12:10.994420Z",
     "shell.execute_reply": "2023-05-09T21:12:10.993671Z"
    }
   },
   "outputs": [],
   "source": [
    "unemployment_data.drop(['uu_id', 'countyfips', 'tract',\n",
    "       'tract_name', 'edu_8th_or_less', 'edu_grades_9_11',\n",
    "       'edu_hs_grad_equiv', 'edu_post_hs', 'edu_unknown',\n",
    "       'top_category_employer1', 'top_category_employer2',\n",
    "       'top_category_employer3', 'gender_female', 'gender_male', 'gender_na',\n",
    "       'race_amerindian', 'race_asian', 'race_black', 'race_noanswer',\n",
    "       'race_hawaiiannative', 'race_other', 'race_white'], axis=1, inplace=True)"
   ]
  },
  {
   "cell_type": "code",
   "execution_count": 76,
   "id": "d1b81d23",
   "metadata": {
    "execution": {
     "iopub.execute_input": "2023-05-09T21:12:10.998601Z",
     "iopub.status.busy": "2023-05-09T21:12:10.998060Z",
     "iopub.status.idle": "2023-05-09T21:12:11.007440Z",
     "shell.execute_reply": "2023-05-09T21:12:11.006606Z"
    }
   },
   "outputs": [
    {
     "data": {
      "text/html": [
       "<div>\n",
       "<style scoped>\n",
       "    .dataframe tbody tr th:only-of-type {\n",
       "        vertical-align: middle;\n",
       "    }\n",
       "\n",
       "    .dataframe tbody tr th {\n",
       "        vertical-align: top;\n",
       "    }\n",
       "\n",
       "    .dataframe thead th {\n",
       "        text-align: right;\n",
       "    }\n",
       "</style>\n",
       "<table border=\"1\" class=\"dataframe\">\n",
       "  <thead>\n",
       "    <tr style=\"text-align: right;\">\n",
       "      <th></th>\n",
       "      <th>timeperiod</th>\n",
       "      <th>week_number</th>\n",
       "      <th>total_claims</th>\n",
       "    </tr>\n",
       "  </thead>\n",
       "  <tbody>\n",
       "  </tbody>\n",
       "</table>\n",
       "</div>"
      ],
      "text/plain": [
       "Empty DataFrame\n",
       "Columns: [timeperiod, week_number, total_claims]\n",
       "Index: []"
      ]
     },
     "execution_count": 76,
     "metadata": {},
     "output_type": "execute_result"
    }
   ],
   "source": [
    "unemployment_data.drop_duplicates(inplace=True)\n",
    "unemployment_data.sort_values(['week_number'])"
   ]
  },
  {
   "cell_type": "code",
   "execution_count": 77,
   "id": "9a8bb85f",
   "metadata": {
    "execution": {
     "iopub.execute_input": "2023-05-09T21:12:11.011549Z",
     "iopub.status.busy": "2023-05-09T21:12:11.011294Z",
     "iopub.status.idle": "2023-05-09T21:12:11.016812Z",
     "shell.execute_reply": "2023-05-09T21:12:11.016305Z"
    }
   },
   "outputs": [],
   "source": [
    "unemployment_data['year'] = unemployment_data['timeperiod'].apply(lambda x: str(x)[:4])\n",
    "unemployment_data['month'] = unemployment_data['timeperiod'].apply(lambda x: str(x)[4:6])\n",
    "unemployment_data['day'] = unemployment_data['timeperiod'].apply(lambda x: str(x)[6:])"
   ]
  },
  {
   "cell_type": "code",
   "execution_count": 78,
   "id": "5e9c5240",
   "metadata": {
    "execution": {
     "iopub.execute_input": "2023-05-09T21:12:11.019466Z",
     "iopub.status.busy": "2023-05-09T21:12:11.019255Z",
     "iopub.status.idle": "2023-05-09T21:12:11.023120Z",
     "shell.execute_reply": "2023-05-09T21:12:11.022648Z"
    }
   },
   "outputs": [],
   "source": [
    "unemployment_data['ds'] = pd.DatetimeIndex(unemployment_data['year'] + '-' + unemployment_data['month'] + '-' + unemployment_data['day'])"
   ]
  },
  {
   "cell_type": "code",
   "execution_count": 79,
   "id": "32ccb272",
   "metadata": {
    "execution": {
     "iopub.execute_input": "2023-05-09T21:12:11.025512Z",
     "iopub.status.busy": "2023-05-09T21:12:11.025340Z",
     "iopub.status.idle": "2023-05-09T21:12:11.030303Z",
     "shell.execute_reply": "2023-05-09T21:12:11.029907Z"
    }
   },
   "outputs": [
    {
     "data": {
      "text/html": [
       "<div>\n",
       "<style scoped>\n",
       "    .dataframe tbody tr th:only-of-type {\n",
       "        vertical-align: middle;\n",
       "    }\n",
       "\n",
       "    .dataframe tbody tr th {\n",
       "        vertical-align: top;\n",
       "    }\n",
       "\n",
       "    .dataframe thead th {\n",
       "        text-align: right;\n",
       "    }\n",
       "</style>\n",
       "<table border=\"1\" class=\"dataframe\">\n",
       "  <thead>\n",
       "    <tr style=\"text-align: right;\">\n",
       "      <th></th>\n",
       "      <th>timeperiod</th>\n",
       "      <th>week_number</th>\n",
       "      <th>total_claims</th>\n",
       "      <th>year</th>\n",
       "      <th>month</th>\n",
       "      <th>day</th>\n",
       "      <th>ds</th>\n",
       "    </tr>\n",
       "  </thead>\n",
       "  <tbody>\n",
       "  </tbody>\n",
       "</table>\n",
       "</div>"
      ],
      "text/plain": [
       "Empty DataFrame\n",
       "Columns: [timeperiod, week_number, total_claims, year, month, day, ds]\n",
       "Index: []"
      ]
     },
     "execution_count": 79,
     "metadata": {},
     "output_type": "execute_result"
    }
   ],
   "source": [
    "unemployment_data"
   ]
  },
  {
   "cell_type": "code",
   "execution_count": 80,
   "id": "f9557745",
   "metadata": {
    "execution": {
     "iopub.execute_input": "2023-05-09T21:12:11.032431Z",
     "iopub.status.busy": "2023-05-09T21:12:11.032257Z",
     "iopub.status.idle": "2023-05-09T21:12:11.035233Z",
     "shell.execute_reply": "2023-05-09T21:12:11.034870Z"
    }
   },
   "outputs": [],
   "source": [
    "unemployment_data.drop(['timeperiod', 'year', 'month', 'day', 'week_number'], axis=1, inplace=True)\n",
    "unemployment_data.columns = ['y', 'ds']"
   ]
  },
  {
   "cell_type": "code",
   "execution_count": 81,
   "id": "e8ce1dae",
   "metadata": {
    "execution": {
     "iopub.execute_input": "2023-05-09T21:12:11.037170Z",
     "iopub.status.busy": "2023-05-09T21:12:11.037016Z",
     "iopub.status.idle": "2023-05-09T21:12:11.040459Z",
     "shell.execute_reply": "2023-05-09T21:12:11.040070Z"
    }
   },
   "outputs": [
    {
     "data": {
      "text/html": [
       "<div>\n",
       "<style scoped>\n",
       "    .dataframe tbody tr th:only-of-type {\n",
       "        vertical-align: middle;\n",
       "    }\n",
       "\n",
       "    .dataframe tbody tr th {\n",
       "        vertical-align: top;\n",
       "    }\n",
       "\n",
       "    .dataframe thead th {\n",
       "        text-align: right;\n",
       "    }\n",
       "</style>\n",
       "<table border=\"1\" class=\"dataframe\">\n",
       "  <thead>\n",
       "    <tr style=\"text-align: right;\">\n",
       "      <th></th>\n",
       "      <th>y</th>\n",
       "      <th>ds</th>\n",
       "    </tr>\n",
       "  </thead>\n",
       "  <tbody>\n",
       "  </tbody>\n",
       "</table>\n",
       "</div>"
      ],
      "text/plain": [
       "Empty DataFrame\n",
       "Columns: [y, ds]\n",
       "Index: []"
      ]
     },
     "execution_count": 81,
     "metadata": {},
     "output_type": "execute_result"
    }
   ],
   "source": [
    "unemployment_data"
   ]
  },
  {
   "cell_type": "code",
   "execution_count": 82,
   "id": "1cce5dec",
   "metadata": {
    "execution": {
     "iopub.execute_input": "2023-05-09T21:12:11.042293Z",
     "iopub.status.busy": "2023-05-09T21:12:11.042168Z",
     "iopub.status.idle": "2023-05-09T21:12:11.044412Z",
     "shell.execute_reply": "2023-05-09T21:12:11.044089Z"
    }
   },
   "outputs": [],
   "source": [
    "unemployment_data.sort_values(['ds'], inplace=True)"
   ]
  },
  {
   "cell_type": "code",
   "execution_count": 83,
   "id": "198adffb",
   "metadata": {
    "execution": {
     "iopub.execute_input": "2023-05-09T21:12:11.046078Z",
     "iopub.status.busy": "2023-05-09T21:12:11.045969Z",
     "iopub.status.idle": "2023-05-09T21:12:11.049162Z",
     "shell.execute_reply": "2023-05-09T21:12:11.048832Z"
    }
   },
   "outputs": [
    {
     "data": {
      "text/html": [
       "<div>\n",
       "<style scoped>\n",
       "    .dataframe tbody tr th:only-of-type {\n",
       "        vertical-align: middle;\n",
       "    }\n",
       "\n",
       "    .dataframe tbody tr th {\n",
       "        vertical-align: top;\n",
       "    }\n",
       "\n",
       "    .dataframe thead th {\n",
       "        text-align: right;\n",
       "    }\n",
       "</style>\n",
       "<table border=\"1\" class=\"dataframe\">\n",
       "  <thead>\n",
       "    <tr style=\"text-align: right;\">\n",
       "      <th></th>\n",
       "      <th>y</th>\n",
       "      <th>ds</th>\n",
       "    </tr>\n",
       "  </thead>\n",
       "  <tbody>\n",
       "  </tbody>\n",
       "</table>\n",
       "</div>"
      ],
      "text/plain": [
       "Empty DataFrame\n",
       "Columns: [y, ds]\n",
       "Index: []"
      ]
     },
     "execution_count": 83,
     "metadata": {},
     "output_type": "execute_result"
    }
   ],
   "source": [
    "unemployment_data"
   ]
  },
  {
   "cell_type": "code",
   "execution_count": 84,
   "id": "b4a26a4d",
   "metadata": {
    "execution": {
     "iopub.execute_input": "2023-05-09T21:12:11.050848Z",
     "iopub.status.busy": "2023-05-09T21:12:11.050729Z",
     "iopub.status.idle": "2023-05-09T21:12:11.052533Z",
     "shell.execute_reply": "2023-05-09T21:12:11.052228Z"
    }
   },
   "outputs": [],
   "source": [
    "ud = unemployment_data"
   ]
  },
  {
   "cell_type": "code",
   "execution_count": 85,
   "id": "df6efa83",
   "metadata": {
    "execution": {
     "iopub.execute_input": "2023-05-09T21:12:11.054144Z",
     "iopub.status.busy": "2023-05-09T21:12:11.054023Z",
     "iopub.status.idle": "2023-05-09T21:12:11.056030Z",
     "shell.execute_reply": "2023-05-09T21:12:11.055780Z"
    }
   },
   "outputs": [],
   "source": [
    "threshold_date = pd.to_datetime('2022-05-14')\n",
    "mask = ud['ds'] < threshold_date"
   ]
  },
  {
   "cell_type": "code",
   "execution_count": 86,
   "id": "952ac566",
   "metadata": {
    "execution": {
     "iopub.execute_input": "2023-05-09T21:12:11.057530Z",
     "iopub.status.busy": "2023-05-09T21:12:11.057421Z",
     "iopub.status.idle": "2023-05-09T21:12:11.060108Z",
     "shell.execute_reply": "2023-05-09T21:12:11.059819Z"
    }
   },
   "outputs": [],
   "source": [
    "# Split the data and select `ds` and `y` columns.\n",
    "ud_train = ud[mask][['ds', 'y']]\n",
    "ud_test = ud[~mask][['ds', 'y']]"
   ]
  },
  {
   "cell_type": "code",
   "execution_count": 87,
   "id": "dcbf9fad",
   "metadata": {
    "execution": {
     "iopub.execute_input": "2023-05-09T21:12:11.061675Z",
     "iopub.status.busy": "2023-05-09T21:12:11.061552Z",
     "iopub.status.idle": "2023-05-09T21:12:11.068348Z",
     "shell.execute_reply": "2023-05-09T21:12:11.068115Z"
    }
   },
   "outputs": [
    {
     "ename": "NameError",
     "evalue": "name 'm' is not defined",
     "output_type": "error",
     "traceback": [
      "\u001b[0;31m---------------------------------------------------------------------------\u001b[0m",
      "\u001b[0;31mNameError\u001b[0m                                 Traceback (most recent call last)",
      "Cell \u001b[0;32mIn [87], line 1\u001b[0m\n\u001b[0;32m----> 1\u001b[0m \u001b[43mm\u001b[49m\u001b[38;5;241m.\u001b[39mfit(ud_train)\n",
      "\u001b[0;31mNameError\u001b[0m: name 'm' is not defined"
     ]
    }
   ],
   "source": [
    "m.fit(ud_train)"
   ]
  },
  {
   "cell_type": "code",
   "execution_count": 88,
   "id": "8dd4dab5",
   "metadata": {
    "execution": {
     "iopub.execute_input": "2023-05-09T21:12:11.069795Z",
     "iopub.status.busy": "2023-05-09T21:12:11.069699Z",
     "iopub.status.idle": "2023-05-09T21:12:11.076229Z",
     "shell.execute_reply": "2023-05-09T21:12:11.075999Z"
    }
   },
   "outputs": [
    {
     "ename": "NameError",
     "evalue": "name 'Prophet' is not defined",
     "output_type": "error",
     "traceback": [
      "\u001b[0;31m---------------------------------------------------------------------------\u001b[0m",
      "\u001b[0;31mNameError\u001b[0m                                 Traceback (most recent call last)",
      "Cell \u001b[0;32mIn [88], line 1\u001b[0m\n\u001b[0;32m----> 1\u001b[0m m \u001b[38;5;241m=\u001b[39m \u001b[43mProphet\u001b[49m(weekly_seasonality\u001b[38;5;241m=\u001b[39m\u001b[38;5;28;01mFalse\u001b[39;00m,\n\u001b[1;32m      2\u001b[0m         daily_seasonality\u001b[38;5;241m=\u001b[39m\u001b[38;5;28;01mFalse\u001b[39;00m,\n\u001b[1;32m      3\u001b[0m         interval_width\u001b[38;5;241m=\u001b[39m\u001b[38;5;241m0.95\u001b[39m, \n\u001b[1;32m      4\u001b[0m         mcmc_samples \u001b[38;5;241m=\u001b[39m \u001b[38;5;241m500\u001b[39m)\n",
      "\u001b[0;31mNameError\u001b[0m: name 'Prophet' is not defined"
     ]
    }
   ],
   "source": [
    "m = Prophet(weekly_seasonality=False,\n",
    "        daily_seasonality=False,\n",
    "        interval_width=0.95, \n",
    "        mcmc_samples = 500)"
   ]
  },
  {
   "cell_type": "markdown",
   "id": "4db42c53",
   "metadata": {},
   "source": [
    "m.add_seasonality(\n",
    "        name='monthly', \n",
    "        period=30.5, \n",
    "        fourier_order=5\n",
    "    )"
   ]
  },
  {
   "cell_type": "code",
   "execution_count": 89,
   "id": "41b624d0",
   "metadata": {
    "execution": {
     "iopub.execute_input": "2023-05-09T21:12:11.077544Z",
     "iopub.status.busy": "2023-05-09T21:12:11.077462Z",
     "iopub.status.idle": "2023-05-09T21:12:11.083509Z",
     "shell.execute_reply": "2023-05-09T21:12:11.083268Z"
    }
   },
   "outputs": [
    {
     "ename": "NameError",
     "evalue": "name 'm' is not defined",
     "output_type": "error",
     "traceback": [
      "\u001b[0;31m---------------------------------------------------------------------------\u001b[0m",
      "\u001b[0;31mNameError\u001b[0m                                 Traceback (most recent call last)",
      "Cell \u001b[0;32mIn [89], line 1\u001b[0m\n\u001b[0;32m----> 1\u001b[0m \u001b[43mm\u001b[49m\u001b[38;5;241m.\u001b[39mfit(ud_train)\n",
      "\u001b[0;31mNameError\u001b[0m: name 'm' is not defined"
     ]
    }
   ],
   "source": [
    "m.fit(ud_train)"
   ]
  },
  {
   "cell_type": "code",
   "execution_count": 90,
   "id": "3e180006",
   "metadata": {
    "execution": {
     "iopub.execute_input": "2023-05-09T21:12:11.084825Z",
     "iopub.status.busy": "2023-05-09T21:12:11.084746Z",
     "iopub.status.idle": "2023-05-09T21:12:11.091381Z",
     "shell.execute_reply": "2023-05-09T21:12:11.091141Z"
    }
   },
   "outputs": [
    {
     "ename": "NameError",
     "evalue": "name 'm' is not defined",
     "output_type": "error",
     "traceback": [
      "\u001b[0;31m---------------------------------------------------------------------------\u001b[0m",
      "\u001b[0;31mNameError\u001b[0m                                 Traceback (most recent call last)",
      "Cell \u001b[0;32mIn [90], line 1\u001b[0m\n\u001b[0;32m----> 1\u001b[0m future \u001b[38;5;241m=\u001b[39m \u001b[43mm\u001b[49m\u001b[38;5;241m.\u001b[39mmake_future_dataframe(periods\u001b[38;5;241m=\u001b[39m\u001b[38;5;241m35\u001b[39m, freq\u001b[38;5;241m=\u001b[39m\u001b[38;5;124m'\u001b[39m\u001b[38;5;124mW\u001b[39m\u001b[38;5;124m'\u001b[39m)\n",
      "\u001b[0;31mNameError\u001b[0m: name 'm' is not defined"
     ]
    }
   ],
   "source": [
    "future = m.make_future_dataframe(periods=35, freq='W')"
   ]
  },
  {
   "cell_type": "code",
   "execution_count": 91,
   "id": "d9637d0d",
   "metadata": {
    "execution": {
     "iopub.execute_input": "2023-05-09T21:12:11.092760Z",
     "iopub.status.busy": "2023-05-09T21:12:11.092686Z",
     "iopub.status.idle": "2023-05-09T21:12:11.098865Z",
     "shell.execute_reply": "2023-05-09T21:12:11.098630Z"
    }
   },
   "outputs": [
    {
     "ename": "NameError",
     "evalue": "name 'm' is not defined",
     "output_type": "error",
     "traceback": [
      "\u001b[0;31m---------------------------------------------------------------------------\u001b[0m",
      "\u001b[0;31mNameError\u001b[0m                                 Traceback (most recent call last)",
      "Cell \u001b[0;32mIn [91], line 1\u001b[0m\n\u001b[0;32m----> 1\u001b[0m forecast \u001b[38;5;241m=\u001b[39m \u001b[43mm\u001b[49m\u001b[38;5;241m.\u001b[39mpredict(df\u001b[38;5;241m=\u001b[39mfuture)\n",
      "\u001b[0;31mNameError\u001b[0m: name 'm' is not defined"
     ]
    }
   ],
   "source": [
    "forecast = m.predict(df=future)"
   ]
  },
  {
   "cell_type": "code",
   "execution_count": 92,
   "id": "71bc454b",
   "metadata": {
    "execution": {
     "iopub.execute_input": "2023-05-09T21:12:11.100238Z",
     "iopub.status.busy": "2023-05-09T21:12:11.100162Z",
     "iopub.status.idle": "2023-05-09T21:12:11.106391Z",
     "shell.execute_reply": "2023-05-09T21:12:11.106145Z"
    }
   },
   "outputs": [
    {
     "ename": "NameError",
     "evalue": "name 'Prophet' is not defined",
     "output_type": "error",
     "traceback": [
      "\u001b[0;31m---------------------------------------------------------------------------\u001b[0m",
      "\u001b[0;31mNameError\u001b[0m                                 Traceback (most recent call last)",
      "Cell \u001b[0;32mIn [92], line 1\u001b[0m\n\u001b[0;32m----> 1\u001b[0m m \u001b[38;5;241m=\u001b[39m \u001b[43mProphet\u001b[49m(weekly_seasonality\u001b[38;5;241m=\u001b[39m\u001b[38;5;28;01mFalse\u001b[39;00m,\n\u001b[1;32m      2\u001b[0m         daily_seasonality\u001b[38;5;241m=\u001b[39m\u001b[38;5;28;01mFalse\u001b[39;00m,\n\u001b[1;32m      3\u001b[0m         interval_width\u001b[38;5;241m=\u001b[39m\u001b[38;5;241m0.95\u001b[39m, \n\u001b[1;32m      4\u001b[0m         mcmc_samples \u001b[38;5;241m=\u001b[39m \u001b[38;5;241m500\u001b[39m)\n",
      "\u001b[0;31mNameError\u001b[0m: name 'Prophet' is not defined"
     ]
    }
   ],
   "source": [
    "m = Prophet(weekly_seasonality=False,\n",
    "        daily_seasonality=False,\n",
    "        interval_width=0.95, \n",
    "        mcmc_samples = 500)"
   ]
  },
  {
   "cell_type": "markdown",
   "id": "b2db801b",
   "metadata": {},
   "source": [
    "m.add_seasonality(\n",
    "        name='monthly', \n",
    "        period=30.5, \n",
    "        fourier_order=5\n",
    "    )"
   ]
  },
  {
   "cell_type": "code",
   "execution_count": 93,
   "id": "58f0070a",
   "metadata": {
    "execution": {
     "iopub.execute_input": "2023-05-09T21:12:11.107764Z",
     "iopub.status.busy": "2023-05-09T21:12:11.107683Z",
     "iopub.status.idle": "2023-05-09T21:12:11.113838Z",
     "shell.execute_reply": "2023-05-09T21:12:11.113588Z"
    }
   },
   "outputs": [
    {
     "ename": "NameError",
     "evalue": "name 'm' is not defined",
     "output_type": "error",
     "traceback": [
      "\u001b[0;31m---------------------------------------------------------------------------\u001b[0m",
      "\u001b[0;31mNameError\u001b[0m                                 Traceback (most recent call last)",
      "Cell \u001b[0;32mIn [93], line 1\u001b[0m\n\u001b[0;32m----> 1\u001b[0m \u001b[43mm\u001b[49m\u001b[38;5;241m.\u001b[39mfit(ud_train)\n",
      "\u001b[0;31mNameError\u001b[0m: name 'm' is not defined"
     ]
    }
   ],
   "source": [
    "m.fit(ud_train)"
   ]
  },
  {
   "cell_type": "code",
   "execution_count": 94,
   "id": "e97847ea",
   "metadata": {
    "execution": {
     "iopub.execute_input": "2023-05-09T21:12:11.115211Z",
     "iopub.status.busy": "2023-05-09T21:12:11.115126Z",
     "iopub.status.idle": "2023-05-09T21:12:11.121304Z",
     "shell.execute_reply": "2023-05-09T21:12:11.121075Z"
    }
   },
   "outputs": [
    {
     "ename": "NameError",
     "evalue": "name 'm' is not defined",
     "output_type": "error",
     "traceback": [
      "\u001b[0;31m---------------------------------------------------------------------------\u001b[0m",
      "\u001b[0;31mNameError\u001b[0m                                 Traceback (most recent call last)",
      "Cell \u001b[0;32mIn [94], line 1\u001b[0m\n\u001b[0;32m----> 1\u001b[0m future \u001b[38;5;241m=\u001b[39m \u001b[43mm\u001b[49m\u001b[38;5;241m.\u001b[39mmake_future_dataframe(periods\u001b[38;5;241m=\u001b[39m\u001b[38;5;241m35\u001b[39m, freq\u001b[38;5;241m=\u001b[39m\u001b[38;5;124m'\u001b[39m\u001b[38;5;124mW\u001b[39m\u001b[38;5;124m'\u001b[39m)\n",
      "\u001b[0;31mNameError\u001b[0m: name 'm' is not defined"
     ]
    }
   ],
   "source": [
    "future = m.make_future_dataframe(periods=35, freq='W')"
   ]
  },
  {
   "cell_type": "code",
   "execution_count": 95,
   "id": "7540943e",
   "metadata": {
    "execution": {
     "iopub.execute_input": "2023-05-09T21:12:11.122728Z",
     "iopub.status.busy": "2023-05-09T21:12:11.122641Z",
     "iopub.status.idle": "2023-05-09T21:12:11.128733Z",
     "shell.execute_reply": "2023-05-09T21:12:11.128502Z"
    }
   },
   "outputs": [
    {
     "ename": "NameError",
     "evalue": "name 'm' is not defined",
     "output_type": "error",
     "traceback": [
      "\u001b[0;31m---------------------------------------------------------------------------\u001b[0m",
      "\u001b[0;31mNameError\u001b[0m                                 Traceback (most recent call last)",
      "Cell \u001b[0;32mIn [95], line 1\u001b[0m\n\u001b[0;32m----> 1\u001b[0m forecast \u001b[38;5;241m=\u001b[39m \u001b[43mm\u001b[49m\u001b[38;5;241m.\u001b[39mpredict(df\u001b[38;5;241m=\u001b[39mfuture)\n",
      "\u001b[0;31mNameError\u001b[0m: name 'm' is not defined"
     ]
    }
   ],
   "source": [
    "forecast = m.predict(df=future)"
   ]
  },
  {
   "cell_type": "code",
   "execution_count": 96,
   "id": "6c80302b",
   "metadata": {
    "execution": {
     "iopub.execute_input": "2023-05-09T21:12:11.130091Z",
     "iopub.status.busy": "2023-05-09T21:12:11.130014Z",
     "iopub.status.idle": "2023-05-09T21:12:11.131979Z",
     "shell.execute_reply": "2023-05-09T21:12:11.131723Z"
    }
   },
   "outputs": [],
   "source": [
    "threshold_date = pd.to_datetime('2022-05-14')\n",
    "mask = ud['ds'] < threshold_date"
   ]
  },
  {
   "cell_type": "code",
   "execution_count": 97,
   "id": "82afda21",
   "metadata": {
    "execution": {
     "iopub.execute_input": "2023-05-09T21:12:11.133325Z",
     "iopub.status.busy": "2023-05-09T21:12:11.133248Z",
     "iopub.status.idle": "2023-05-09T21:12:11.135607Z",
     "shell.execute_reply": "2023-05-09T21:12:11.135365Z"
    }
   },
   "outputs": [],
   "source": [
    "# Split the data and select `ds` and `y` columns.\n",
    "ud_train = ud[mask][['ds', 'y']]\n",
    "ud_test = ud[~mask][['ds', 'y']]"
   ]
  },
  {
   "cell_type": "code",
   "execution_count": 98,
   "id": "62ea2884",
   "metadata": {
    "execution": {
     "iopub.execute_input": "2023-05-09T21:12:11.136944Z",
     "iopub.status.busy": "2023-05-09T21:12:11.136861Z",
     "iopub.status.idle": "2023-05-09T21:12:11.138528Z",
     "shell.execute_reply": "2023-05-09T21:12:11.138305Z"
    }
   },
   "outputs": [],
   "source": [
    "threshold_date = pd.to_datetime('2022-05-14')\n",
    "mask = ud['ds'] < threshold_date"
   ]
  },
  {
   "cell_type": "code",
   "execution_count": 99,
   "id": "e958f864",
   "metadata": {
    "execution": {
     "iopub.execute_input": "2023-05-09T21:12:11.139896Z",
     "iopub.status.busy": "2023-05-09T21:12:11.139820Z",
     "iopub.status.idle": "2023-05-09T21:12:11.142120Z",
     "shell.execute_reply": "2023-05-09T21:12:11.141912Z"
    }
   },
   "outputs": [],
   "source": [
    "# Split the data and select `ds` and `y` columns.\n",
    "ud_train = ud[mask][['ds', 'y']]\n",
    "ud_test = ud[~mask][['ds', 'y']]"
   ]
  },
  {
   "cell_type": "code",
   "execution_count": 100,
   "id": "cb6235a9",
   "metadata": {
    "execution": {
     "iopub.execute_input": "2023-05-09T21:12:11.143517Z",
     "iopub.status.busy": "2023-05-09T21:12:11.143441Z",
     "iopub.status.idle": "2023-05-09T21:12:11.146043Z",
     "shell.execute_reply": "2023-05-09T21:12:11.145777Z"
    }
   },
   "outputs": [
    {
     "data": {
      "text/html": [
       "<div>\n",
       "<style scoped>\n",
       "    .dataframe tbody tr th:only-of-type {\n",
       "        vertical-align: middle;\n",
       "    }\n",
       "\n",
       "    .dataframe tbody tr th {\n",
       "        vertical-align: top;\n",
       "    }\n",
       "\n",
       "    .dataframe thead th {\n",
       "        text-align: right;\n",
       "    }\n",
       "</style>\n",
       "<table border=\"1\" class=\"dataframe\">\n",
       "  <thead>\n",
       "    <tr style=\"text-align: right;\">\n",
       "      <th></th>\n",
       "      <th>ds</th>\n",
       "      <th>y</th>\n",
       "    </tr>\n",
       "  </thead>\n",
       "  <tbody>\n",
       "  </tbody>\n",
       "</table>\n",
       "</div>"
      ],
      "text/plain": [
       "Empty DataFrame\n",
       "Columns: [ds, y]\n",
       "Index: []"
      ]
     },
     "execution_count": 100,
     "metadata": {},
     "output_type": "execute_result"
    }
   ],
   "source": [
    "ud_train"
   ]
  },
  {
   "cell_type": "code",
   "execution_count": 101,
   "id": "78545a52",
   "metadata": {
    "execution": {
     "iopub.execute_input": "2023-05-09T21:12:11.147368Z",
     "iopub.status.busy": "2023-05-09T21:12:11.147286Z",
     "iopub.status.idle": "2023-05-09T21:12:11.153686Z",
     "shell.execute_reply": "2023-05-09T21:12:11.153455Z"
    }
   },
   "outputs": [
    {
     "ename": "NameError",
     "evalue": "name 'Prophet' is not defined",
     "output_type": "error",
     "traceback": [
      "\u001b[0;31m---------------------------------------------------------------------------\u001b[0m",
      "\u001b[0;31mNameError\u001b[0m                                 Traceback (most recent call last)",
      "Cell \u001b[0;32mIn [101], line 1\u001b[0m\n\u001b[0;32m----> 1\u001b[0m m \u001b[38;5;241m=\u001b[39m \u001b[43mProphet\u001b[49m(weekly_seasonality\u001b[38;5;241m=\u001b[39m\u001b[38;5;28;01mFalse\u001b[39;00m,\n\u001b[1;32m      2\u001b[0m         daily_seasonality\u001b[38;5;241m=\u001b[39m\u001b[38;5;28;01mFalse\u001b[39;00m,\n\u001b[1;32m      3\u001b[0m         interval_width\u001b[38;5;241m=\u001b[39m\u001b[38;5;241m0.95\u001b[39m, \n\u001b[1;32m      4\u001b[0m         mcmc_samples \u001b[38;5;241m=\u001b[39m \u001b[38;5;241m500\u001b[39m)\n",
      "\u001b[0;31mNameError\u001b[0m: name 'Prophet' is not defined"
     ]
    }
   ],
   "source": [
    "m = Prophet(weekly_seasonality=False,\n",
    "        daily_seasonality=False,\n",
    "        interval_width=0.95, \n",
    "        mcmc_samples = 500)"
   ]
  },
  {
   "cell_type": "markdown",
   "id": "36fd78f7",
   "metadata": {},
   "source": [
    "m.add_seasonality(\n",
    "        name='monthly', \n",
    "        period=30.5, \n",
    "        fourier_order=5\n",
    "    )"
   ]
  },
  {
   "cell_type": "code",
   "execution_count": 102,
   "id": "f8d9929d",
   "metadata": {
    "execution": {
     "iopub.execute_input": "2023-05-09T21:12:11.155030Z",
     "iopub.status.busy": "2023-05-09T21:12:11.154953Z",
     "iopub.status.idle": "2023-05-09T21:12:11.161020Z",
     "shell.execute_reply": "2023-05-09T21:12:11.160791Z"
    }
   },
   "outputs": [
    {
     "ename": "NameError",
     "evalue": "name 'm' is not defined",
     "output_type": "error",
     "traceback": [
      "\u001b[0;31m---------------------------------------------------------------------------\u001b[0m",
      "\u001b[0;31mNameError\u001b[0m                                 Traceback (most recent call last)",
      "Cell \u001b[0;32mIn [102], line 1\u001b[0m\n\u001b[0;32m----> 1\u001b[0m \u001b[43mm\u001b[49m\u001b[38;5;241m.\u001b[39mfit(ud_train)\n",
      "\u001b[0;31mNameError\u001b[0m: name 'm' is not defined"
     ]
    }
   ],
   "source": [
    "m.fit(ud_train)"
   ]
  },
  {
   "cell_type": "code",
   "execution_count": 103,
   "id": "89593b97",
   "metadata": {
    "execution": {
     "iopub.execute_input": "2023-05-09T21:12:11.162364Z",
     "iopub.status.busy": "2023-05-09T21:12:11.162284Z",
     "iopub.status.idle": "2023-05-09T21:12:11.169133Z",
     "shell.execute_reply": "2023-05-09T21:12:11.168888Z"
    }
   },
   "outputs": [
    {
     "ename": "NameError",
     "evalue": "name 'm' is not defined",
     "output_type": "error",
     "traceback": [
      "\u001b[0;31m---------------------------------------------------------------------------\u001b[0m",
      "\u001b[0;31mNameError\u001b[0m                                 Traceback (most recent call last)",
      "Cell \u001b[0;32mIn [103], line 1\u001b[0m\n\u001b[0;32m----> 1\u001b[0m future \u001b[38;5;241m=\u001b[39m \u001b[43mm\u001b[49m\u001b[38;5;241m.\u001b[39mmake_future_dataframe(periods\u001b[38;5;241m=\u001b[39m\u001b[38;5;241m35\u001b[39m, freq\u001b[38;5;241m=\u001b[39m\u001b[38;5;124m'\u001b[39m\u001b[38;5;124mW\u001b[39m\u001b[38;5;124m'\u001b[39m)\n",
      "\u001b[0;31mNameError\u001b[0m: name 'm' is not defined"
     ]
    }
   ],
   "source": [
    "future = m.make_future_dataframe(periods=35, freq='W')"
   ]
  },
  {
   "cell_type": "code",
   "execution_count": 104,
   "id": "ec491d6b",
   "metadata": {
    "execution": {
     "iopub.execute_input": "2023-05-09T21:12:11.170469Z",
     "iopub.status.busy": "2023-05-09T21:12:11.170387Z",
     "iopub.status.idle": "2023-05-09T21:12:11.176460Z",
     "shell.execute_reply": "2023-05-09T21:12:11.176226Z"
    }
   },
   "outputs": [
    {
     "ename": "NameError",
     "evalue": "name 'm' is not defined",
     "output_type": "error",
     "traceback": [
      "\u001b[0;31m---------------------------------------------------------------------------\u001b[0m",
      "\u001b[0;31mNameError\u001b[0m                                 Traceback (most recent call last)",
      "Cell \u001b[0;32mIn [104], line 1\u001b[0m\n\u001b[0;32m----> 1\u001b[0m forecast \u001b[38;5;241m=\u001b[39m \u001b[43mm\u001b[49m\u001b[38;5;241m.\u001b[39mpredict(df\u001b[38;5;241m=\u001b[39mfuture)\n",
      "\u001b[0;31mNameError\u001b[0m: name 'm' is not defined"
     ]
    }
   ],
   "source": [
    "forecast = m.predict(df=future)"
   ]
  },
  {
   "cell_type": "code",
   "execution_count": 105,
   "id": "b628b737",
   "metadata": {
    "execution": {
     "iopub.execute_input": "2023-05-09T21:12:11.177850Z",
     "iopub.status.busy": "2023-05-09T21:12:11.177769Z",
     "iopub.status.idle": "2023-05-09T21:12:11.184072Z",
     "shell.execute_reply": "2023-05-09T21:12:11.183806Z"
    }
   },
   "outputs": [
    {
     "ename": "NameError",
     "evalue": "name 'm' is not defined",
     "output_type": "error",
     "traceback": [
      "\u001b[0;31m---------------------------------------------------------------------------\u001b[0m",
      "\u001b[0;31mNameError\u001b[0m                                 Traceback (most recent call last)",
      "Cell \u001b[0;32mIn [105], line 1\u001b[0m\n\u001b[0;32m----> 1\u001b[0m future \u001b[38;5;241m=\u001b[39m \u001b[43mm\u001b[49m\u001b[38;5;241m.\u001b[39mmake_future_dataframe(periods\u001b[38;5;241m=\u001b[39m\u001b[38;5;241m20\u001b[39m, freq\u001b[38;5;241m=\u001b[39m\u001b[38;5;124m'\u001b[39m\u001b[38;5;124mW\u001b[39m\u001b[38;5;124m'\u001b[39m)\n",
      "\u001b[0;31mNameError\u001b[0m: name 'm' is not defined"
     ]
    }
   ],
   "source": [
    "future = m.make_future_dataframe(periods=20, freq='W')"
   ]
  },
  {
   "cell_type": "code",
   "execution_count": 106,
   "id": "3cb2f660",
   "metadata": {
    "execution": {
     "iopub.execute_input": "2023-05-09T21:12:11.185430Z",
     "iopub.status.busy": "2023-05-09T21:12:11.185352Z",
     "iopub.status.idle": "2023-05-09T21:12:11.191456Z",
     "shell.execute_reply": "2023-05-09T21:12:11.191223Z"
    },
    "lines_to_next_cell": 2
   },
   "outputs": [
    {
     "ename": "NameError",
     "evalue": "name 'm' is not defined",
     "output_type": "error",
     "traceback": [
      "\u001b[0;31m---------------------------------------------------------------------------\u001b[0m",
      "\u001b[0;31mNameError\u001b[0m                                 Traceback (most recent call last)",
      "Cell \u001b[0;32mIn [106], line 1\u001b[0m\n\u001b[0;32m----> 1\u001b[0m forecast \u001b[38;5;241m=\u001b[39m \u001b[43mm\u001b[49m\u001b[38;5;241m.\u001b[39mpredict(df\u001b[38;5;241m=\u001b[39mfuture)\n",
      "\u001b[0;31mNameError\u001b[0m: name 'm' is not defined"
     ]
    }
   ],
   "source": [
    "forecast = m.predict(df=future)"
   ]
  }
 ],
 "metadata": {
  "jupytext": {
   "cell_metadata_filter": "-all",
   "main_language": "python",
   "notebook_metadata_filter": "-all"
  },
  "language_info": {
   "codemirror_mode": {
    "name": "ipython",
    "version": 3
   },
   "file_extension": ".py",
   "mimetype": "text/x-python",
   "name": "python",
   "nbconvert_exporter": "python",
   "pygments_lexer": "ipython3",
   "version": "3.9.12"
  }
 },
 "nbformat": 4,
 "nbformat_minor": 5
}
