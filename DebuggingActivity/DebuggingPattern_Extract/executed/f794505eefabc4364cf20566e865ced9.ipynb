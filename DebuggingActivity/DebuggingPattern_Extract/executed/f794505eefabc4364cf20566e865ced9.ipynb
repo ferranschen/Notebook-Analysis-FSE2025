{
 "cells": [
  {
   "cell_type": "markdown",
   "id": "45e9d631",
   "metadata": {},
   "source": [
    "CONFIGURE THE BIGQUERY SETTINGS"
   ]
  },
  {
   "cell_type": "code",
   "execution_count": 1,
   "id": "975a223f",
   "metadata": {
    "execution": {
     "iopub.execute_input": "2023-05-10T01:51:04.799770Z",
     "iopub.status.busy": "2023-05-10T01:51:04.799466Z",
     "iopub.status.idle": "2023-05-10T01:51:04.897360Z",
     "shell.execute_reply": "2023-05-10T01:51:04.895516Z"
    }
   },
   "outputs": [
    {
     "ename": "NameError",
     "evalue": "name 'bigquery' is not defined",
     "output_type": "error",
     "traceback": [
      "\u001b[0;31m---------------------------------------------------------------------------\u001b[0m",
      "\u001b[0;31mNameError\u001b[0m                                 Traceback (most recent call last)",
      "Cell \u001b[0;32mIn [1], line 2\u001b[0m\n\u001b[1;32m      1\u001b[0m BIGQUERY_PROJECT \u001b[38;5;241m=\u001b[39m \u001b[38;5;124m'\u001b[39m\u001b[38;5;124mironhacks-data\u001b[39m\u001b[38;5;124m'\u001b[39m\n\u001b[0;32m----> 2\u001b[0m bigquery_client \u001b[38;5;241m=\u001b[39m \u001b[43mbigquery\u001b[49m\u001b[38;5;241m.\u001b[39mClient(project\u001b[38;5;241m=\u001b[39mBIGQUERY_PROJECT)\n",
      "\u001b[0;31mNameError\u001b[0m: name 'bigquery' is not defined"
     ]
    }
   ],
   "source": [
    "BIGQUERY_PROJECT = 'ironhacks-data'\n",
    "bigquery_client = bigquery.Client(project=BIGQUERY_PROJECT)"
   ]
  },
  {
   "cell_type": "code",
   "execution_count": 2,
   "id": "b4451ffb",
   "metadata": {
    "execution": {
     "iopub.execute_input": "2023-05-10T01:51:04.908242Z",
     "iopub.status.busy": "2023-05-10T01:51:04.907977Z",
     "iopub.status.idle": "2023-05-10T01:51:05.349230Z",
     "shell.execute_reply": "2023-05-10T01:51:05.348924Z"
    }
   },
   "outputs": [],
   "source": [
    "import os\n",
    "import pandas\n",
    "from google.cloud import bigquery\n",
    "from google.oauth2 import service_account\n",
    "from google.cloud.bigquery import magics"
   ]
  },
  {
   "cell_type": "markdown",
   "id": "5e36831b",
   "metadata": {},
   "source": [
    "CONFIGURE THE BIGQUERY SETTINGS"
   ]
  },
  {
   "cell_type": "code",
   "execution_count": 3,
   "id": "40373c7f",
   "metadata": {
    "execution": {
     "iopub.execute_input": "2023-05-10T01:51:05.350943Z",
     "iopub.status.busy": "2023-05-10T01:51:05.350811Z",
     "iopub.status.idle": "2023-05-10T01:51:05.358201Z",
     "shell.execute_reply": "2023-05-10T01:51:05.357849Z"
    }
   },
   "outputs": [],
   "source": [
    "BIGQUERY_PROJECT = 'ironhacks-data'\n",
    "bigquery_client = bigquery.Client(project=BIGQUERY_PROJECT)"
   ]
  },
  {
   "cell_type": "code",
   "execution_count": 4,
   "id": "ddcbd3fb",
   "metadata": {
    "execution": {
     "iopub.execute_input": "2023-05-10T01:51:05.359984Z",
     "iopub.status.busy": "2023-05-10T01:51:05.359870Z",
     "iopub.status.idle": "2023-05-10T01:51:05.361810Z",
     "shell.execute_reply": "2023-05-10T01:51:05.361582Z"
    }
   },
   "outputs": [],
   "source": [
    "import os\n",
    "import pandas\n",
    "from google.cloud import bigquery\n",
    "from google.oauth2 import service_account\n",
    "from google.cloud.bigquery import magics"
   ]
  },
  {
   "cell_type": "markdown",
   "id": "afbdf546",
   "metadata": {},
   "source": [
    "CONFIGURE THE BIGQUERY SETTINGS"
   ]
  },
  {
   "cell_type": "code",
   "execution_count": 5,
   "id": "6b455d01",
   "metadata": {
    "execution": {
     "iopub.execute_input": "2023-05-10T01:51:05.363284Z",
     "iopub.status.busy": "2023-05-10T01:51:05.363177Z",
     "iopub.status.idle": "2023-05-10T01:51:05.368845Z",
     "shell.execute_reply": "2023-05-10T01:51:05.368508Z"
    }
   },
   "outputs": [],
   "source": [
    "BIGQUERY_PROJECT = 'ironhacks-data'\n",
    "bigquery_client = bigquery.Client(project=BIGQUERY_PROJECT)"
   ]
  },
  {
   "cell_type": "markdown",
   "id": "b7cf3ad1",
   "metadata": {},
   "source": [
    "CONFIGURE THE BIGQUERY SETTINGS"
   ]
  },
  {
   "cell_type": "code",
   "execution_count": 6,
   "id": "19b5f878",
   "metadata": {
    "execution": {
     "iopub.execute_input": "2023-05-10T01:51:05.370545Z",
     "iopub.status.busy": "2023-05-10T01:51:05.370431Z",
     "iopub.status.idle": "2023-05-10T01:51:05.375941Z",
     "shell.execute_reply": "2023-05-10T01:51:05.375620Z"
    }
   },
   "outputs": [],
   "source": [
    "BIGQUERY_PROJECT = 'ironhacks-data'\n",
    "bigquery_client = bigquery.Client(project=BIGQUERY_PROJECT)"
   ]
  },
  {
   "cell_type": "markdown",
   "id": "15e3bd70",
   "metadata": {},
   "source": [
    "CONFIGURE THE BIGQUERY SETTINGS"
   ]
  },
  {
   "cell_type": "code",
   "execution_count": 7,
   "id": "5dd0e6c5",
   "metadata": {
    "execution": {
     "iopub.execute_input": "2023-05-10T01:51:05.377393Z",
     "iopub.status.busy": "2023-05-10T01:51:05.377298Z",
     "iopub.status.idle": "2023-05-10T01:51:05.382395Z",
     "shell.execute_reply": "2023-05-10T01:51:05.382025Z"
    }
   },
   "outputs": [],
   "source": [
    "BIGQUERY_PROJECT = 'ironhacks-data'\n",
    "bigquery_client = bigquery.Client(project=BIGQUERY_PROJECT)"
   ]
  },
  {
   "cell_type": "code",
   "execution_count": 8,
   "id": "1826b2e6",
   "metadata": {
    "execution": {
     "iopub.execute_input": "2023-05-10T01:51:05.384058Z",
     "iopub.status.busy": "2023-05-10T01:51:05.383953Z",
     "iopub.status.idle": "2023-05-10T01:51:05.385747Z",
     "shell.execute_reply": "2023-05-10T01:51:05.385541Z"
    }
   },
   "outputs": [],
   "source": [
    "query = \"\"\"\n",
    "SELECT *\n",
    "FROM `ironhacks-data.ironhacks_training.covid19_cases`\n",
    "\"\"\""
   ]
  },
  {
   "cell_type": "code",
   "execution_count": 9,
   "id": "d853d896",
   "metadata": {
    "execution": {
     "iopub.execute_input": "2023-05-10T01:51:05.387133Z",
     "iopub.status.busy": "2023-05-10T01:51:05.387036Z",
     "iopub.status.idle": "2023-05-10T01:51:07.276631Z",
     "shell.execute_reply": "2023-05-10T01:51:07.275873Z"
    }
   },
   "outputs": [],
   "source": [
    "# QUERY THE DATA ONCE\n",
    "query_job = bigquery_client.query(query)\n",
    "covid19_cases_data = query_job.to_dataframe()"
   ]
  },
  {
   "cell_type": "code",
   "execution_count": 10,
   "id": "da9c4616",
   "metadata": {
    "execution": {
     "iopub.execute_input": "2023-05-10T01:51:07.280505Z",
     "iopub.status.busy": "2023-05-10T01:51:07.280179Z",
     "iopub.status.idle": "2023-05-10T01:51:07.289162Z",
     "shell.execute_reply": "2023-05-10T01:51:07.288632Z"
    }
   },
   "outputs": [
    {
     "name": "stdout",
     "output_type": "stream",
     "text": [
      "Columns:\n",
      "week_number\n",
      "start_date\n",
      "county\n",
      "fips\n",
      "cases\n",
      "deaths\n",
      "\n",
      "Results:\n",
      "   week_number  start_date  county   fips  cases  deaths\n",
      "0            9  2021-03-01  Marion  18097    664      23\n",
      "1           12  2021-03-22  Marion  18097    623      11\n",
      "2           19  2021-05-10  Marion  18097   1156       4\n",
      "3           11  2021-03-15  Marion  18097    560      13\n",
      "4            6  2021-02-08  Marion  18097   1542     219\n"
     ]
    }
   ],
   "source": [
    "# THEN WORK BELOW TO DO SOMETHING THE RESULTS\n",
    "print(\"Columns:\")\n",
    "print('\\n'.join(covid19_cases_data.columns))\n",
    "print(\"\\nResults:\")\n",
    "print(covid19_cases_data.head())"
   ]
  },
  {
   "cell_type": "code",
   "execution_count": 11,
   "id": "58b629b8",
   "metadata": {
    "execution": {
     "iopub.execute_input": "2023-05-10T01:51:07.291967Z",
     "iopub.status.busy": "2023-05-10T01:51:07.291736Z",
     "iopub.status.idle": "2023-05-10T01:51:07.294478Z",
     "shell.execute_reply": "2023-05-10T01:51:07.293973Z"
    }
   },
   "outputs": [],
   "source": [
    "query = \"\"\"\n",
    "SELECT COUNT(*)\n",
    "FROM `ironhacks-data.ironhacks_training.covid19_cases`\n",
    "\"\"\""
   ]
  },
  {
   "cell_type": "code",
   "execution_count": 12,
   "id": "719a42cb",
   "metadata": {
    "execution": {
     "iopub.execute_input": "2023-05-10T01:51:07.297084Z",
     "iopub.status.busy": "2023-05-10T01:51:07.296688Z",
     "iopub.status.idle": "2023-05-10T01:51:09.556409Z",
     "shell.execute_reply": "2023-05-10T01:51:09.555296Z"
    }
   },
   "outputs": [],
   "source": [
    "query_job = bigquery_client.query(query)\n",
    "covid19_cases_data = query_job.to_dataframe()"
   ]
  },
  {
   "cell_type": "code",
   "execution_count": 13,
   "id": "57898561",
   "metadata": {
    "execution": {
     "iopub.execute_input": "2023-05-10T01:51:09.562370Z",
     "iopub.status.busy": "2023-05-10T01:51:09.561955Z",
     "iopub.status.idle": "2023-05-10T01:51:09.568026Z",
     "shell.execute_reply": "2023-05-10T01:51:09.567424Z"
    }
   },
   "outputs": [
    {
     "name": "stdout",
     "output_type": "stream",
     "text": [
      "   f0_\n",
      "0   46\n"
     ]
    }
   ],
   "source": [
    "print(covid19_cases_data)"
   ]
  },
  {
   "cell_type": "code",
   "execution_count": 14,
   "id": "8eed9bfe",
   "metadata": {
    "execution": {
     "iopub.execute_input": "2023-05-10T01:51:09.571754Z",
     "iopub.status.busy": "2023-05-10T01:51:09.571440Z",
     "iopub.status.idle": "2023-05-10T01:51:09.575133Z",
     "shell.execute_reply": "2023-05-10T01:51:09.574374Z"
    }
   },
   "outputs": [],
   "source": [
    "query = \"\"\"\n",
    "SELECT \n",
    "week_number,\n",
    "cases \n",
    "FROM `ironhacks-data.ironhacks_training.covid19_cases`\n",
    "Where week_number between 1 and 3\n",
    "order by week_number\n",
    "\"\"\""
   ]
  },
  {
   "cell_type": "code",
   "execution_count": 15,
   "id": "70bd0191",
   "metadata": {
    "execution": {
     "iopub.execute_input": "2023-05-10T01:51:09.578437Z",
     "iopub.status.busy": "2023-05-10T01:51:09.577959Z",
     "iopub.status.idle": "2023-05-10T01:51:11.220000Z",
     "shell.execute_reply": "2023-05-10T01:51:11.218752Z"
    }
   },
   "outputs": [],
   "source": [
    "query_job = bigquery_client.query(query)\n",
    "covid19_cases_data = query_job.to_dataframe()"
   ]
  },
  {
   "cell_type": "code",
   "execution_count": 16,
   "id": "744e8423",
   "metadata": {
    "execution": {
     "iopub.execute_input": "2023-05-10T01:51:11.226450Z",
     "iopub.status.busy": "2023-05-10T01:51:11.225975Z",
     "iopub.status.idle": "2023-05-10T01:51:11.233476Z",
     "shell.execute_reply": "2023-05-10T01:51:11.232848Z"
    }
   },
   "outputs": [
    {
     "name": "stdout",
     "output_type": "stream",
     "text": [
      "   week_number  cases\n",
      "0            1   4714\n",
      "1            1    964\n",
      "2            2   5289\n",
      "3            2   1232\n",
      "4            3   3460\n"
     ]
    }
   ],
   "source": [
    "print(covid19_cases_data.head())"
   ]
  },
  {
   "cell_type": "code",
   "execution_count": 17,
   "id": "f00cf677",
   "metadata": {
    "execution": {
     "iopub.execute_input": "2023-05-10T01:51:11.238274Z",
     "iopub.status.busy": "2023-05-10T01:51:11.237674Z",
     "iopub.status.idle": "2023-05-10T01:51:11.245223Z",
     "shell.execute_reply": "2023-05-10T01:51:11.244406Z"
    },
    "lines_to_next_cell": 2
   },
   "outputs": [
    {
     "name": "stdout",
     "output_type": "stream",
     "text": [
      "mean:  cases    2732.666667\n",
      "dtype: float64\n"
     ]
    }
   ],
   "source": [
    "df = pandas.DataFrame(covid19_cases_data, columns = ['cases'])\n",
    "print(\"mean: \", df.mean()); "
   ]
  }
 ],
 "metadata": {
  "jupytext": {
   "cell_metadata_filter": "-all",
   "main_language": "python",
   "notebook_metadata_filter": "-all"
  },
  "kernelspec": {
   "display_name": "base",
   "language": "python",
   "name": "python3"
  },
  "language_info": {
   "codemirror_mode": {
    "name": "ipython",
    "version": 3
   },
   "file_extension": ".py",
   "mimetype": "text/x-python",
   "name": "python",
   "nbconvert_exporter": "python",
   "pygments_lexer": "ipython3",
   "version": "3.9.12"
  }
 },
 "nbformat": 4,
 "nbformat_minor": 5
}
