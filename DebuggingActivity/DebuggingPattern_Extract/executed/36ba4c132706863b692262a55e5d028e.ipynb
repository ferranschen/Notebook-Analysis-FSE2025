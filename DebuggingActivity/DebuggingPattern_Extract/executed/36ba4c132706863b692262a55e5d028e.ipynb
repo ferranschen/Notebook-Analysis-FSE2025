{
 "cells": [
  {
   "cell_type": "code",
   "execution_count": 1,
   "id": "b035b299",
   "metadata": {
    "execution": {
     "iopub.execute_input": "2023-05-10T02:22:29.113528Z",
     "iopub.status.busy": "2023-05-10T02:22:29.113229Z",
     "iopub.status.idle": "2023-05-10T02:22:29.557814Z",
     "shell.execute_reply": "2023-05-10T02:22:29.557522Z"
    }
   },
   "outputs": [],
   "source": [
    "import os\n",
    "import pandas\n",
    "from google.cloud import bigquery\n",
    "from google.oauth2 import service_account\n",
    "from google.cloud.bigquery import magics"
   ]
  },
  {
   "cell_type": "code",
   "execution_count": 2,
   "id": "0766880a",
   "metadata": {
    "execution": {
     "iopub.execute_input": "2023-05-10T02:22:29.559597Z",
     "iopub.status.busy": "2023-05-10T02:22:29.559457Z",
     "iopub.status.idle": "2023-05-10T02:22:29.566978Z",
     "shell.execute_reply": "2023-05-10T02:22:29.566667Z"
    }
   },
   "outputs": [],
   "source": [
    "BIGQUERY_PROJECT = 'ironhacks-data'\n",
    "bigquery_client = bigquery.Client(project=BIGQUERY_PROJECT)\n",
    "query = \"\"\"\n",
    "SELECT COUNT(*)\n",
    "FROM `ironhacks-data.ironhacks_training.covid19_cases`\n",
    "\"\"\""
   ]
  },
  {
   "cell_type": "code",
   "execution_count": 3,
   "id": "4278262b",
   "metadata": {
    "execution": {
     "iopub.execute_input": "2023-05-10T02:22:29.569668Z",
     "iopub.status.busy": "2023-05-10T02:22:29.569330Z",
     "iopub.status.idle": "2023-05-10T02:22:32.910200Z",
     "shell.execute_reply": "2023-05-10T02:22:32.909503Z"
    }
   },
   "outputs": [
    {
     "name": "stdout",
     "output_type": "stream",
     "text": [
      "Columns:\n",
      "f0_\n",
      "\n",
      "Results:\n",
      "   f0_\n",
      "0   46\n"
     ]
    }
   ],
   "source": [
    "query_job = bigquery_client.query(query)\n",
    "covid19_cases_data = query_job.to_dataframe()\n",
    "print(\"Columns:\")\n",
    "print('\\n'.join(covid19_cases_data.columns))\n",
    "print(\"\\nResults:\")\n",
    "print(covid19_cases_data.head())"
   ]
  },
  {
   "cell_type": "code",
   "execution_count": 4,
   "id": "b7b2526a",
   "metadata": {
    "execution": {
     "iopub.execute_input": "2023-05-10T02:22:32.915117Z",
     "iopub.status.busy": "2023-05-10T02:22:32.914597Z",
     "iopub.status.idle": "2023-05-10T02:22:32.920051Z",
     "shell.execute_reply": "2023-05-10T02:22:32.919012Z"
    }
   },
   "outputs": [],
   "source": [
    "import os\n",
    "import pandas\n",
    "from google.cloud import bigquery\n",
    "from google.oauth2 import service_account\n",
    "from google.cloud.bigquery import magics"
   ]
  },
  {
   "cell_type": "code",
   "execution_count": 5,
   "id": "7cb57124",
   "metadata": {
    "execution": {
     "iopub.execute_input": "2023-05-10T02:22:32.925803Z",
     "iopub.status.busy": "2023-05-10T02:22:32.925275Z",
     "iopub.status.idle": "2023-05-10T02:22:32.939464Z",
     "shell.execute_reply": "2023-05-10T02:22:32.938752Z"
    }
   },
   "outputs": [],
   "source": [
    "BIGQUERY_PROJECT = 'ironhacks-data'\n",
    "bigquery_client = bigquery.Client(project=BIGQUERY_PROJECT)\n",
    "query = \"\"\"\n",
    "SELECT COUNT(*)\n",
    "FROM `ironhacks-data.ironhacks_training.covid19_cases`\n",
    "\"\"\""
   ]
  },
  {
   "cell_type": "code",
   "execution_count": 6,
   "id": "667fdd2a",
   "metadata": {
    "execution": {
     "iopub.execute_input": "2023-05-10T02:22:32.943823Z",
     "iopub.status.busy": "2023-05-10T02:22:32.943555Z",
     "iopub.status.idle": "2023-05-10T02:22:34.437808Z",
     "shell.execute_reply": "2023-05-10T02:22:34.435654Z"
    }
   },
   "outputs": [
    {
     "name": "stdout",
     "output_type": "stream",
     "text": [
      "Columns:\n",
      "f0_\n",
      "\n",
      "Results:\n",
      "   f0_\n",
      "0   46\n"
     ]
    }
   ],
   "source": [
    "query_job = bigquery_client.query(query)\n",
    "covid19_cases_data = query_job.to_dataframe()\n",
    "print(\"Columns:\")\n",
    "print('\\n'.join(covid19_cases_data.columns))\n",
    "print(\"\\nResults:\")\n",
    "print(covid19_cases_data.head())"
   ]
  },
  {
   "cell_type": "code",
   "execution_count": 7,
   "id": "85d890fe",
   "metadata": {
    "execution": {
     "iopub.execute_input": "2023-05-10T02:22:34.442803Z",
     "iopub.status.busy": "2023-05-10T02:22:34.442419Z",
     "iopub.status.idle": "2023-05-10T02:22:34.446607Z",
     "shell.execute_reply": "2023-05-10T02:22:34.445972Z"
    }
   },
   "outputs": [],
   "source": [
    "import os\n",
    "import pandas\n",
    "from google.cloud import bigquery\n",
    "from google.oauth2 import service_account\n",
    "from google.cloud.bigquery import magics"
   ]
  },
  {
   "cell_type": "code",
   "execution_count": 8,
   "id": "e8589f69",
   "metadata": {
    "execution": {
     "iopub.execute_input": "2023-05-10T02:22:34.453081Z",
     "iopub.status.busy": "2023-05-10T02:22:34.452163Z",
     "iopub.status.idle": "2023-05-10T02:22:34.466903Z",
     "shell.execute_reply": "2023-05-10T02:22:34.466157Z"
    }
   },
   "outputs": [],
   "source": [
    "BIGQUERY_PROJECT = 'ironhacks-data'\n",
    "bigquery_client = bigquery.Client(project=BIGQUERY_PROJECT)\n",
    "query = \"\"\"\n",
    "SELECT COUNT(*)\n",
    "FROM `ironhacks-data.ironhacks_training.covid19_cases`\n",
    "\"\"\""
   ]
  },
  {
   "cell_type": "code",
   "execution_count": 9,
   "id": "8c335760",
   "metadata": {
    "execution": {
     "iopub.execute_input": "2023-05-10T02:22:34.470652Z",
     "iopub.status.busy": "2023-05-10T02:22:34.470272Z",
     "iopub.status.idle": "2023-05-10T02:22:37.298156Z",
     "shell.execute_reply": "2023-05-10T02:22:37.296724Z"
    },
    "lines_to_next_cell": 2
   },
   "outputs": [
    {
     "name": "stdout",
     "output_type": "stream",
     "text": [
      "   f0_\n",
      "0   46\n"
     ]
    }
   ],
   "source": [
    "query_job = bigquery_client.query(query)\n",
    "covid19_cases_data = query_job.to_dataframe()\n",
    "query_job = bigquery_client.query(query)\n",
    "covid19_cases_data = query_job.to_dataframe()\n",
    "print(covid19_cases_data)"
   ]
  }
 ],
 "metadata": {
  "jupytext": {
   "cell_metadata_filter": "-all",
   "main_language": "python",
   "notebook_metadata_filter": "-all"
  },
  "kernelspec": {
   "display_name": "base",
   "language": "python",
   "name": "python3"
  },
  "language_info": {
   "codemirror_mode": {
    "name": "ipython",
    "version": 3
   },
   "file_extension": ".py",
   "mimetype": "text/x-python",
   "name": "python",
   "nbconvert_exporter": "python",
   "pygments_lexer": "ipython3",
   "version": "3.9.12"
  }
 },
 "nbformat": 4,
 "nbformat_minor": 5
}
