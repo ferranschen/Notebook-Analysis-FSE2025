{
 "cells": [
  {
   "cell_type": "code",
   "execution_count": 1,
   "id": "8a391c6f",
   "metadata": {
    "execution": {
     "iopub.execute_input": "2023-05-10T02:16:45.819363Z",
     "iopub.status.busy": "2023-05-10T02:16:45.819027Z",
     "iopub.status.idle": "2023-05-10T02:16:46.740031Z",
     "shell.execute_reply": "2023-05-10T02:16:46.739685Z"
    }
   },
   "outputs": [],
   "source": [
    "import csv\n",
    "import pandas as pd\n",
    "import numpy as np\n",
    "from google.cloud import bigquery\n",
    "from google.oauth2 import service_account\n",
    "from google.cloud.bigquery import magics\n",
    "from sklearn.model_selection import train_test_split \n",
    "from sklearn.linear_model import LinearRegression\n",
    "from sklearn import metrics\n",
    "import matplotlib.pyplot as plt  "
   ]
  },
  {
   "cell_type": "code",
   "execution_count": 2,
   "id": "9c88dda2",
   "metadata": {
    "execution": {
     "iopub.execute_input": "2023-05-10T02:16:46.741870Z",
     "iopub.status.busy": "2023-05-10T02:16:46.741701Z",
     "iopub.status.idle": "2023-05-10T02:16:46.743812Z",
     "shell.execute_reply": "2023-05-10T02:16:46.743536Z"
    }
   },
   "outputs": [],
   "source": [
    "import csv\n",
    "import pandas as pd\n",
    "import numpy as np\n",
    "from google.cloud import bigquery\n",
    "from google.oauth2 import service_account\n",
    "from google.cloud.bigquery import magics\n",
    "from sklearn.model_selection import train_test_split \n",
    "from sklearn.linear_model import LinearRegression\n",
    "from sklearn import metrics\n",
    "import matplotlib.pyplot as plt  "
   ]
  },
  {
   "cell_type": "code",
   "execution_count": 3,
   "id": "f4104bc0",
   "metadata": {
    "execution": {
     "iopub.execute_input": "2023-05-10T02:16:46.745432Z",
     "iopub.status.busy": "2023-05-10T02:16:46.745316Z",
     "iopub.status.idle": "2023-05-10T02:16:46.754896Z",
     "shell.execute_reply": "2023-05-10T02:16:46.754549Z"
    }
   },
   "outputs": [],
   "source": [
    "import os\n",
    "BIGQUERY_PROJECT = 'ironhacks-data'\n",
    "bigquery_client = bigquery.Client(project=BIGQUERY_PROJECT)"
   ]
  },
  {
   "cell_type": "code",
   "execution_count": 4,
   "id": "8c9e30dc",
   "metadata": {
    "execution": {
     "iopub.execute_input": "2023-05-10T02:16:46.756612Z",
     "iopub.status.busy": "2023-05-10T02:16:46.756491Z",
     "iopub.status.idle": "2023-05-10T02:16:46.758459Z",
     "shell.execute_reply": "2023-05-10T02:16:46.758205Z"
    }
   },
   "outputs": [],
   "source": [
    "query = \"\"\"\n",
    "SELECT *\n",
    "FROM `ironhacks-data.ironhacks_competition.unemployment_data`\n",
    "\"\"\""
   ]
  },
  {
   "cell_type": "code",
   "execution_count": 5,
   "id": "22554b62",
   "metadata": {
    "execution": {
     "iopub.execute_input": "2023-05-10T02:16:46.759854Z",
     "iopub.status.busy": "2023-05-10T02:16:46.759756Z",
     "iopub.status.idle": "2023-05-10T02:16:49.283530Z",
     "shell.execute_reply": "2023-05-10T02:16:49.282660Z"
    }
   },
   "outputs": [
    {
     "name": "stdout",
     "output_type": "stream",
     "text": [
      "QueryJob<project=ironhacks-data, location=US, id=6efda77f-a041-4e9a-9f0e-17c9192fd30d>\n"
     ]
    }
   ],
   "source": [
    "#QUERY DATA\n",
    "query_job = bigquery_client.query(query)\n",
    "print(query_job)\n",
    "unemp = query_job.to_dataframe()"
   ]
  },
  {
   "cell_type": "code",
   "execution_count": 6,
   "id": "090da074",
   "metadata": {
    "execution": {
     "iopub.execute_input": "2023-05-10T02:16:49.287568Z",
     "iopub.status.busy": "2023-05-10T02:16:49.287264Z",
     "iopub.status.idle": "2023-05-10T02:16:49.292874Z",
     "shell.execute_reply": "2023-05-10T02:16:49.292299Z"
    }
   },
   "outputs": [
    {
     "ename": "SyntaxError",
     "evalue": "invalid syntax (2518029149.py, line 11)",
     "output_type": "error",
     "traceback": [
      "\u001b[0;36m  Cell \u001b[0;32mIn [6], line 11\u001b[0;36m\u001b[0m\n\u001b[0;31m    import db-dtypes\u001b[0m\n\u001b[0m             ^\u001b[0m\n\u001b[0;31mSyntaxError\u001b[0m\u001b[0;31m:\u001b[0m invalid syntax\n"
     ]
    }
   ],
   "source": [
    "import csv\n",
    "import pandas as pd\n",
    "import numpy as np\n",
    "from google.cloud import bigquery\n",
    "from google.oauth2 import service_account\n",
    "from google.cloud.bigquery import magics\n",
    "from sklearn.model_selection import train_test_split \n",
    "from sklearn.linear_model import LinearRegression\n",
    "from sklearn import metrics\n",
    "import matplotlib.pyplot as plt  \n",
    "import db-dtypes"
   ]
  },
  {
   "cell_type": "code",
   "execution_count": 7,
   "id": "f0113267",
   "metadata": {
    "execution": {
     "iopub.execute_input": "2023-05-10T02:16:49.295738Z",
     "iopub.status.busy": "2023-05-10T02:16:49.295494Z",
     "iopub.status.idle": "2023-05-10T02:16:49.299484Z",
     "shell.execute_reply": "2023-05-10T02:16:49.298980Z"
    }
   },
   "outputs": [],
   "source": [
    "import csv\n",
    "import pandas as pd\n",
    "import numpy as np\n",
    "from google.cloud import bigquery\n",
    "from google.oauth2 import service_account\n",
    "from google.cloud.bigquery import magics\n",
    "from sklearn.model_selection import train_test_split \n",
    "from sklearn.linear_model import LinearRegression\n",
    "from sklearn import metrics\n",
    "import matplotlib.pyplot as plt  \n",
    "import db_dtypes"
   ]
  },
  {
   "cell_type": "code",
   "execution_count": 8,
   "id": "ad074766",
   "metadata": {
    "execution": {
     "iopub.execute_input": "2023-05-10T02:16:49.302026Z",
     "iopub.status.busy": "2023-05-10T02:16:49.301852Z",
     "iopub.status.idle": "2023-05-10T02:16:49.305348Z",
     "shell.execute_reply": "2023-05-10T02:16:49.304935Z"
    }
   },
   "outputs": [],
   "source": [
    "import csv\n",
    "import pandas as pd\n",
    "import numpy as np\n",
    "from google.cloud import bigquery\n",
    "from google.oauth2 import service_account\n",
    "from google.cloud.bigquery import magics\n",
    "from sklearn.model_selection import train_test_split \n",
    "from sklearn.linear_model import LinearRegression\n",
    "from sklearn import metrics\n",
    "import matplotlib.pyplot as plt  \n",
    "import db_dtypes"
   ]
  },
  {
   "cell_type": "code",
   "execution_count": 9,
   "id": "6a8a9984",
   "metadata": {
    "execution": {
     "iopub.execute_input": "2023-05-10T02:16:49.307502Z",
     "iopub.status.busy": "2023-05-10T02:16:49.307328Z",
     "iopub.status.idle": "2023-05-10T02:16:49.318991Z",
     "shell.execute_reply": "2023-05-10T02:16:49.318442Z"
    }
   },
   "outputs": [],
   "source": [
    "import os\n",
    "BIGQUERY_PROJECT = 'ironhacks-data'\n",
    "bigquery_client = bigquery.Client(project=BIGQUERY_PROJECT)"
   ]
  },
  {
   "cell_type": "code",
   "execution_count": 10,
   "id": "17baac32",
   "metadata": {
    "execution": {
     "iopub.execute_input": "2023-05-10T02:16:49.321452Z",
     "iopub.status.busy": "2023-05-10T02:16:49.321273Z",
     "iopub.status.idle": "2023-05-10T02:16:49.323791Z",
     "shell.execute_reply": "2023-05-10T02:16:49.323373Z"
    }
   },
   "outputs": [],
   "source": [
    "query = \"\"\"\n",
    "SELECT *\n",
    "FROM `ironhacks-data.ironhacks_competition.unemployment_data`\n",
    "\"\"\""
   ]
  },
  {
   "cell_type": "code",
   "execution_count": 11,
   "id": "d3402763",
   "metadata": {
    "execution": {
     "iopub.execute_input": "2023-05-10T02:16:49.326027Z",
     "iopub.status.busy": "2023-05-10T02:16:49.325859Z",
     "iopub.status.idle": "2023-05-10T02:16:50.858029Z",
     "shell.execute_reply": "2023-05-10T02:16:50.857297Z"
    }
   },
   "outputs": [
    {
     "name": "stdout",
     "output_type": "stream",
     "text": [
      "QueryJob<project=ironhacks-data, location=US, id=cf15714e-89eb-4f45-8a10-6c34bb188e3b>\n"
     ]
    }
   ],
   "source": [
    "#QUERY DATA\n",
    "query_job = bigquery_client.query(query)\n",
    "print(query_job)\n",
    "unemp = query_job.to_dataframe()"
   ]
  },
  {
   "cell_type": "code",
   "execution_count": 12,
   "id": "68254cb4",
   "metadata": {
    "execution": {
     "iopub.execute_input": "2023-05-10T02:16:50.862011Z",
     "iopub.status.busy": "2023-05-10T02:16:50.861691Z",
     "iopub.status.idle": "2023-05-10T02:16:50.867230Z",
     "shell.execute_reply": "2023-05-10T02:16:50.866693Z"
    }
   },
   "outputs": [
    {
     "ename": "SyntaxError",
     "evalue": "invalid syntax (2518029149.py, line 11)",
     "output_type": "error",
     "traceback": [
      "\u001b[0;36m  Cell \u001b[0;32mIn [12], line 11\u001b[0;36m\u001b[0m\n\u001b[0;31m    import db-dtypes\u001b[0m\n\u001b[0m             ^\u001b[0m\n\u001b[0;31mSyntaxError\u001b[0m\u001b[0;31m:\u001b[0m invalid syntax\n"
     ]
    }
   ],
   "source": [
    "import csv\n",
    "import pandas as pd\n",
    "import numpy as np\n",
    "from google.cloud import bigquery\n",
    "from google.oauth2 import service_account\n",
    "from google.cloud.bigquery import magics\n",
    "from sklearn.model_selection import train_test_split \n",
    "from sklearn.linear_model import LinearRegression\n",
    "from sklearn import metrics\n",
    "import matplotlib.pyplot as plt  \n",
    "import db-dtypes"
   ]
  },
  {
   "cell_type": "code",
   "execution_count": 13,
   "id": "1f113480",
   "metadata": {
    "execution": {
     "iopub.execute_input": "2023-05-10T02:16:50.870114Z",
     "iopub.status.busy": "2023-05-10T02:16:50.869881Z",
     "iopub.status.idle": "2023-05-10T02:16:50.873868Z",
     "shell.execute_reply": "2023-05-10T02:16:50.873360Z"
    },
    "lines_to_next_cell": 2
   },
   "outputs": [],
   "source": [
    "import csv\n",
    "import pandas as pd\n",
    "import numpy as np\n",
    "from google.cloud import bigquery\n",
    "from google.oauth2 import service_account\n",
    "from google.cloud.bigquery import magics\n",
    "from sklearn.model_selection import train_test_split \n",
    "from sklearn.linear_model import LinearRegression\n",
    "from sklearn import metrics\n",
    "import matplotlib.pyplot as plt  \n",
    "import db_dtypes"
   ]
  }
 ],
 "metadata": {
  "jupytext": {
   "cell_metadata_filter": "-all",
   "main_language": "python",
   "notebook_metadata_filter": "-all"
  },
  "kernelspec": {
   "display_name": "base",
   "language": "python",
   "name": "python3"
  },
  "language_info": {
   "codemirror_mode": {
    "name": "ipython",
    "version": 3
   },
   "file_extension": ".py",
   "mimetype": "text/x-python",
   "name": "python",
   "nbconvert_exporter": "python",
   "pygments_lexer": "ipython3",
   "version": "3.9.12"
  }
 },
 "nbformat": 4,
 "nbformat_minor": 5
}
