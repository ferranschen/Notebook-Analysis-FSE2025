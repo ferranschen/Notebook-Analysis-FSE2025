{
 "cells": [
  {
   "cell_type": "code",
   "execution_count": 1,
   "id": "77c35653",
   "metadata": {
    "execution": {
     "iopub.execute_input": "2023-05-10T00:45:46.813796Z",
     "iopub.status.busy": "2023-05-10T00:45:46.813665Z",
     "iopub.status.idle": "2023-05-10T00:45:49.256896Z",
     "shell.execute_reply": "2023-05-10T00:45:49.256230Z"
    }
   },
   "outputs": [
    {
     "name": "stdout",
     "output_type": "stream",
     "text": [
      "\u001b[33mWARNING: Ignoring invalid distribution -umpy (/opt/anaconda3/lib/python3.9/site-packages)\u001b[0m\r\n",
      "\u001b[33mWARNING: Ignoring invalid distribution -umpy (/opt/anaconda3/lib/python3.9/site-packages)\u001b[0m\r\n",
      "Requirement already satisfied: db-dtypes in /opt/anaconda3/lib/python3.9/site-packages (1.0.5)\r\n",
      "Requirement already satisfied: numpy<2.0dev,>=1.16.6 in /opt/anaconda3/lib/python3.9/site-packages (from db-dtypes) (1.22.4)\r\n",
      "Requirement already satisfied: pandas<2.0dev,>=0.24.2 in /opt/anaconda3/lib/python3.9/site-packages (from db-dtypes) (1.5.3)\r\n",
      "Requirement already satisfied: pyarrow>=3.0.0 in /opt/anaconda3/lib/python3.9/site-packages (from db-dtypes) (10.0.1)\r\n",
      "Requirement already satisfied: packaging>=17.0 in /opt/anaconda3/lib/python3.9/site-packages (from db-dtypes) (21.3)\r\n",
      "Requirement already satisfied: pyparsing!=3.0.5,>=2.0.2 in /opt/anaconda3/lib/python3.9/site-packages (from packaging>=17.0->db-dtypes) (3.0.4)\r\n",
      "Requirement already satisfied: pytz>=2020.1 in /opt/anaconda3/lib/python3.9/site-packages (from pandas<2.0dev,>=0.24.2->db-dtypes) (2021.3)\r\n",
      "Requirement already satisfied: python-dateutil>=2.8.1 in /opt/anaconda3/lib/python3.9/site-packages (from pandas<2.0dev,>=0.24.2->db-dtypes) (2.8.2)\r\n",
      "Requirement already satisfied: six>=1.5 in /opt/anaconda3/lib/python3.9/site-packages (from python-dateutil>=2.8.1->pandas<2.0dev,>=0.24.2->db-dtypes) (1.16.0)\r\n",
      "\u001b[33mWARNING: Ignoring invalid distribution -umpy (/opt/anaconda3/lib/python3.9/site-packages)\u001b[0m\r\n"
     ]
    },
    {
     "name": "stdout",
     "output_type": "stream",
     "text": [
      "\u001b[33mWARNING: Ignoring invalid distribution -umpy (/opt/anaconda3/lib/python3.9/site-packages)\u001b[0m\r\n",
      "\u001b[33mWARNING: Ignoring invalid distribution -umpy (/opt/anaconda3/lib/python3.9/site-packages)\u001b[0m\r\n",
      "\u001b[33mWARNING: Ignoring invalid distribution -umpy (/opt/anaconda3/lib/python3.9/site-packages)\u001b[0m\r\n"
     ]
    }
   ],
   "source": [
    "get_ipython().system('pip install db-dtypes')"
   ]
  },
  {
   "cell_type": "code",
   "execution_count": 2,
   "id": "5365e550",
   "metadata": {
    "execution": {
     "iopub.execute_input": "2023-05-10T00:45:49.260181Z",
     "iopub.status.busy": "2023-05-10T00:45:49.259852Z",
     "iopub.status.idle": "2023-05-10T00:45:49.661051Z",
     "shell.execute_reply": "2023-05-10T00:45:49.660781Z"
    }
   },
   "outputs": [],
   "source": [
    "import os\n",
    "import pandas\n",
    "from google.cloud import bigquery\n",
    "from google.oauth2 import service_account\n",
    "from google.cloud.bigquery import magics"
   ]
  },
  {
   "cell_type": "markdown",
   "id": "4b46ed65",
   "metadata": {},
   "source": [
    "CONFIGURE THE BIGQUERY SETTINGS"
   ]
  },
  {
   "cell_type": "code",
   "execution_count": 3,
   "id": "6f98bc97",
   "metadata": {
    "execution": {
     "iopub.execute_input": "2023-05-10T00:45:49.662757Z",
     "iopub.status.busy": "2023-05-10T00:45:49.662613Z",
     "iopub.status.idle": "2023-05-10T00:45:49.669644Z",
     "shell.execute_reply": "2023-05-10T00:45:49.669285Z"
    }
   },
   "outputs": [],
   "source": [
    "BIGQUERY_PROJECT = 'ironhacks-data'\n",
    "bigquery_client = bigquery.Client(project=BIGQUERY_PROJECT)"
   ]
  },
  {
   "cell_type": "code",
   "execution_count": 4,
   "id": "00a041f2",
   "metadata": {
    "execution": {
     "iopub.execute_input": "2023-05-10T00:45:49.671338Z",
     "iopub.status.busy": "2023-05-10T00:45:49.671243Z",
     "iopub.status.idle": "2023-05-10T00:45:49.673209Z",
     "shell.execute_reply": "2023-05-10T00:45:49.672984Z"
    }
   },
   "outputs": [],
   "source": [
    "query = \"\"\"\n",
    "SELECT *\n",
    "FROM `ironhacks-data.ironhacks_training.covid19_cases`\n",
    "\"\"\""
   ]
  },
  {
   "cell_type": "code",
   "execution_count": 5,
   "id": "2cd555f8",
   "metadata": {
    "execution": {
     "iopub.execute_input": "2023-05-10T00:45:49.674599Z",
     "iopub.status.busy": "2023-05-10T00:45:49.674498Z",
     "iopub.status.idle": "2023-05-10T00:45:51.529738Z",
     "shell.execute_reply": "2023-05-10T00:45:51.529153Z"
    }
   },
   "outputs": [
    {
     "name": "stdout",
     "output_type": "stream",
     "text": [
      "QueryJob<project=ironhacks-data, location=US, id=7e517ae8-7550-4a3e-9826-11aec9a9765b>\n"
     ]
    }
   ],
   "source": [
    "# QUERY THE DATA ONCE\n",
    "query_job = bigquery_client.query(query)\n",
    "print(query_job)\n",
    "covid19_cases_data = query_job.to_dataframe()"
   ]
  },
  {
   "cell_type": "code",
   "execution_count": 6,
   "id": "958adda2",
   "metadata": {
    "execution": {
     "iopub.execute_input": "2023-05-10T00:45:51.533430Z",
     "iopub.status.busy": "2023-05-10T00:45:51.533009Z",
     "iopub.status.idle": "2023-05-10T00:45:51.540330Z",
     "shell.execute_reply": "2023-05-10T00:45:51.539801Z"
    }
   },
   "outputs": [
    {
     "name": "stdout",
     "output_type": "stream",
     "text": [
      "Columns:\n",
      "week_number\n",
      "start_date\n",
      "county\n",
      "fips\n",
      "cases\n",
      "deaths\n",
      "\n",
      "Results:\n",
      "   week_number  start_date  county   fips  cases  deaths\n",
      "0            9  2021-03-01  Marion  18097    664      23\n",
      "1           12  2021-03-22  Marion  18097    623      11\n",
      "2           19  2021-05-10  Marion  18097   1156       4\n",
      "3           11  2021-03-15  Marion  18097    560      13\n",
      "4            6  2021-02-08  Marion  18097   1542     219\n"
     ]
    }
   ],
   "source": [
    "# THEN WORK BELOW TO DO SOMETHING THE RESULTS\n",
    "print(\"Columns:\")\n",
    "print('\\n'.join(covid19_cases_data.columns))\n",
    "print(\"\\nResults:\")\n",
    "print(covid19_cases_data.head())"
   ]
  },
  {
   "cell_type": "code",
   "execution_count": 7,
   "id": "f3b74f7b",
   "metadata": {
    "execution": {
     "iopub.execute_input": "2023-05-10T00:45:51.542793Z",
     "iopub.status.busy": "2023-05-10T00:45:51.542599Z",
     "iopub.status.idle": "2023-05-10T00:45:51.545089Z",
     "shell.execute_reply": "2023-05-10T00:45:51.544632Z"
    }
   },
   "outputs": [],
   "source": [
    "query = \"\"\"\n",
    "SELECT *\n",
    "FROM `ironhacks-data.ironhacks_training.covid19_cases`\n",
    "\"\"\""
   ]
  },
  {
   "cell_type": "code",
   "execution_count": 8,
   "id": "7cd6497f",
   "metadata": {
    "execution": {
     "iopub.execute_input": "2023-05-10T00:45:51.547440Z",
     "iopub.status.busy": "2023-05-10T00:45:51.547260Z",
     "iopub.status.idle": "2023-05-10T00:45:53.089482Z",
     "shell.execute_reply": "2023-05-10T00:45:53.088911Z"
    }
   },
   "outputs": [
    {
     "data": {
      "text/html": [
       "<div>\n",
       "<style scoped>\n",
       "    .dataframe tbody tr th:only-of-type {\n",
       "        vertical-align: middle;\n",
       "    }\n",
       "\n",
       "    .dataframe tbody tr th {\n",
       "        vertical-align: top;\n",
       "    }\n",
       "\n",
       "    .dataframe thead th {\n",
       "        text-align: right;\n",
       "    }\n",
       "</style>\n",
       "<table border=\"1\" class=\"dataframe\">\n",
       "  <thead>\n",
       "    <tr style=\"text-align: right;\">\n",
       "      <th></th>\n",
       "      <th>week_number</th>\n",
       "      <th>start_date</th>\n",
       "      <th>county</th>\n",
       "      <th>fips</th>\n",
       "      <th>cases</th>\n",
       "      <th>deaths</th>\n",
       "    </tr>\n",
       "  </thead>\n",
       "  <tbody>\n",
       "    <tr>\n",
       "      <th>0</th>\n",
       "      <td>9</td>\n",
       "      <td>2021-03-01</td>\n",
       "      <td>Marion</td>\n",
       "      <td>18097</td>\n",
       "      <td>664</td>\n",
       "      <td>23</td>\n",
       "    </tr>\n",
       "    <tr>\n",
       "      <th>1</th>\n",
       "      <td>12</td>\n",
       "      <td>2021-03-22</td>\n",
       "      <td>Marion</td>\n",
       "      <td>18097</td>\n",
       "      <td>623</td>\n",
       "      <td>11</td>\n",
       "    </tr>\n",
       "    <tr>\n",
       "      <th>2</th>\n",
       "      <td>19</td>\n",
       "      <td>2021-05-10</td>\n",
       "      <td>Marion</td>\n",
       "      <td>18097</td>\n",
       "      <td>1156</td>\n",
       "      <td>4</td>\n",
       "    </tr>\n",
       "    <tr>\n",
       "      <th>3</th>\n",
       "      <td>11</td>\n",
       "      <td>2021-03-15</td>\n",
       "      <td>Marion</td>\n",
       "      <td>18097</td>\n",
       "      <td>560</td>\n",
       "      <td>13</td>\n",
       "    </tr>\n",
       "    <tr>\n",
       "      <th>4</th>\n",
       "      <td>6</td>\n",
       "      <td>2021-02-08</td>\n",
       "      <td>Marion</td>\n",
       "      <td>18097</td>\n",
       "      <td>1542</td>\n",
       "      <td>219</td>\n",
       "    </tr>\n",
       "  </tbody>\n",
       "</table>\n",
       "</div>"
      ],
      "text/plain": [
       "   week_number  start_date  county   fips  cases  deaths\n",
       "0            9  2021-03-01  Marion  18097    664      23\n",
       "1           12  2021-03-22  Marion  18097    623      11\n",
       "2           19  2021-05-10  Marion  18097   1156       4\n",
       "3           11  2021-03-15  Marion  18097    560      13\n",
       "4            6  2021-02-08  Marion  18097   1542     219"
      ]
     },
     "execution_count": 8,
     "metadata": {},
     "output_type": "execute_result"
    }
   ],
   "source": [
    "# QUERY THE DATA ONCE\n",
    "query_job = bigquery_client.query(query)\n",
    "covid19_cases_data = query_job.to_dataframe()\n",
    "covid19_cases_data.head()"
   ]
  },
  {
   "cell_type": "code",
   "execution_count": 9,
   "id": "36ca4b59",
   "metadata": {
    "execution": {
     "iopub.execute_input": "2023-05-10T00:45:53.092530Z",
     "iopub.status.busy": "2023-05-10T00:45:53.092269Z",
     "iopub.status.idle": "2023-05-10T00:45:53.095113Z",
     "shell.execute_reply": "2023-05-10T00:45:53.094601Z"
    }
   },
   "outputs": [],
   "source": [
    "query = \"\"\"\n",
    "SELECT COUNT(*)\n",
    "FROM `ironhacks-data.ironhacks_training.covid19_cases`\n",
    "\"\"\""
   ]
  },
  {
   "cell_type": "code",
   "execution_count": 10,
   "id": "a0aa61a0",
   "metadata": {
    "execution": {
     "iopub.execute_input": "2023-05-10T00:45:53.097862Z",
     "iopub.status.busy": "2023-05-10T00:45:53.097632Z",
     "iopub.status.idle": "2023-05-10T00:45:54.767020Z",
     "shell.execute_reply": "2023-05-10T00:45:54.765996Z"
    }
   },
   "outputs": [],
   "source": [
    "query_job = bigquery_client.query(query)\n",
    "covid19_cases_data = query_job.to_dataframe()"
   ]
  },
  {
   "cell_type": "code",
   "execution_count": 11,
   "id": "54e1ad32",
   "metadata": {
    "execution": {
     "iopub.execute_input": "2023-05-10T00:45:54.772390Z",
     "iopub.status.busy": "2023-05-10T00:45:54.771978Z",
     "iopub.status.idle": "2023-05-10T00:45:54.777617Z",
     "shell.execute_reply": "2023-05-10T00:45:54.776948Z"
    }
   },
   "outputs": [
    {
     "name": "stdout",
     "output_type": "stream",
     "text": [
      "   f0_\n",
      "0   46\n"
     ]
    }
   ],
   "source": [
    "print(covid19_cases_data)"
   ]
  },
  {
   "cell_type": "code",
   "execution_count": 12,
   "id": "bd174e15",
   "metadata": {
    "execution": {
     "iopub.execute_input": "2023-05-10T00:45:54.781029Z",
     "iopub.status.busy": "2023-05-10T00:45:54.780794Z",
     "iopub.status.idle": "2023-05-10T00:45:54.784683Z",
     "shell.execute_reply": "2023-05-10T00:45:54.784126Z"
    }
   },
   "outputs": [
    {
     "name": "stdout",
     "output_type": "stream",
     "text": [
      "   f0_\n",
      "0   46\n"
     ]
    }
   ],
   "source": [
    "print(covid19_cases_data)"
   ]
  },
  {
   "cell_type": "code",
   "execution_count": 13,
   "id": "7b735f22",
   "metadata": {
    "execution": {
     "iopub.execute_input": "2023-05-10T00:45:54.787423Z",
     "iopub.status.busy": "2023-05-10T00:45:54.787225Z",
     "iopub.status.idle": "2023-05-10T00:45:54.790096Z",
     "shell.execute_reply": "2023-05-10T00:45:54.789606Z"
    }
   },
   "outputs": [],
   "source": [
    "query = \"\"\"\n",
    "SELECT \n",
    "week_number,\n",
    "cases \n",
    "FROM `ironhacks-data.ironhacks_training.covid19_cases`\n",
    "Where week_number between 1 and 3\n",
    "order by week_number\n",
    "\"\"\""
   ]
  },
  {
   "cell_type": "code",
   "execution_count": 14,
   "id": "4891be97",
   "metadata": {
    "execution": {
     "iopub.execute_input": "2023-05-10T00:45:54.792844Z",
     "iopub.status.busy": "2023-05-10T00:45:54.792630Z",
     "iopub.status.idle": "2023-05-10T00:45:56.530595Z",
     "shell.execute_reply": "2023-05-10T00:45:56.529605Z"
    }
   },
   "outputs": [],
   "source": [
    "query_job = bigquery_client.query(query)\n",
    "covid19_cases_data = query_job.to_dataframe()"
   ]
  },
  {
   "cell_type": "code",
   "execution_count": 15,
   "id": "10304c8c",
   "metadata": {
    "execution": {
     "iopub.execute_input": "2023-05-10T00:45:56.536000Z",
     "iopub.status.busy": "2023-05-10T00:45:56.535600Z",
     "iopub.status.idle": "2023-05-10T00:45:56.542081Z",
     "shell.execute_reply": "2023-05-10T00:45:56.541229Z"
    }
   },
   "outputs": [
    {
     "name": "stdout",
     "output_type": "stream",
     "text": [
      "   week_number  cases\n",
      "0            1   4714\n",
      "1            1    964\n",
      "2            2   5289\n",
      "3            2   1232\n",
      "4            3   3460\n"
     ]
    }
   ],
   "source": [
    "print(covid19_cases_data.head())"
   ]
  },
  {
   "cell_type": "code",
   "execution_count": 16,
   "id": "e342cc63",
   "metadata": {
    "execution": {
     "iopub.execute_input": "2023-05-10T00:45:56.545160Z",
     "iopub.status.busy": "2023-05-10T00:45:56.544954Z",
     "iopub.status.idle": "2023-05-10T00:45:56.550266Z",
     "shell.execute_reply": "2023-05-10T00:45:56.549747Z"
    },
    "lines_to_next_cell": 2
   },
   "outputs": [
    {
     "name": "stdout",
     "output_type": "stream",
     "text": [
      "mean:  cases    2732.666667\n",
      "dtype: float64\n"
     ]
    }
   ],
   "source": [
    "df = pandas.DataFrame(covid19_cases_data, columns = ['cases'])\n",
    "print(\"mean: \", df.mean()); "
   ]
  }
 ],
 "metadata": {
  "jupytext": {
   "cell_metadata_filter": "-all",
   "main_language": "python",
   "notebook_metadata_filter": "-all"
  },
  "kernelspec": {
   "display_name": "base",
   "language": "python",
   "name": "python3"
  },
  "language_info": {
   "codemirror_mode": {
    "name": "ipython",
    "version": 3
   },
   "file_extension": ".py",
   "mimetype": "text/x-python",
   "name": "python",
   "nbconvert_exporter": "python",
   "pygments_lexer": "ipython3",
   "version": "3.9.12"
  }
 },
 "nbformat": 4,
 "nbformat_minor": 5
}
