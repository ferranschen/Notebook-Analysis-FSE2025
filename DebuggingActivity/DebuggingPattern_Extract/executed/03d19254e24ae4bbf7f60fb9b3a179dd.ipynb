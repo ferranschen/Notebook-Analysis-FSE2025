{
 "cells": [
  {
   "cell_type": "code",
   "execution_count": 1,
   "id": "61ddff73",
   "metadata": {
    "execution": {
     "iopub.execute_input": "2023-05-10T00:57:00.943530Z",
     "iopub.status.busy": "2023-05-10T00:57:00.943064Z",
     "iopub.status.idle": "2023-05-10T00:57:00.954113Z",
     "shell.execute_reply": "2023-05-10T00:57:00.953545Z"
    }
   },
   "outputs": [],
   "source": [
    "get_ipython().run_cell_magic('capture', '', \"%logstop\\n%logstart -t -r -q ipython_command_log.py global\\n\\n#- IRONHACKS RESEARCH TRACKING CODE\\n#----------------------------------\\n# The following code is used to help our research team understand how use \\n# our notebook environment. We do not collect any personal information with\\n# the following code, it is used to measure when and how often you work on\\n# your submission files.\\n\\nimport os\\nfrom datetime import datetime\\nimport IPython.core.history as history\\n\\nha = history.HistoryAccessor()\\nha_tail = ha.get_tail(1)\\nha_cmd = next(ha_tail)\\nsession_id = str(ha_cmd[0])\\ncommand_id = str(ha_cmd[1])\\ntimestamp = datetime.utcnow().isoformat()\\nhistory_line = ','.join([session_id, command_id, timestamp]) + '\\\\n'\\nlogfile = open(os.environ['HOME']+'/ipython_session_log.csv', 'a')\\nlogfile.write(history_line)\\nlogfile.close()\\n\")"
   ]
  },
  {
   "cell_type": "code",
   "execution_count": 2,
   "id": "46fc11c8",
   "metadata": {
    "execution": {
     "iopub.execute_input": "2023-05-10T00:57:00.956968Z",
     "iopub.status.busy": "2023-05-10T00:57:00.956635Z",
     "iopub.status.idle": "2023-05-10T00:57:02.071498Z",
     "shell.execute_reply": "2023-05-10T00:57:02.070838Z"
    }
   },
   "outputs": [],
   "source": [
    "get_ipython().run_cell_magic('capture', '', \"\\n#- INSTALL ADDITIONAL LIBRARIES IF REQUIRED\\n#------------------------------------------\\n# This is normally not required. The hub environment comes preinstaled with \\n# many packages that you can already use without setup. In case there is some\\n# other library you would like to use that isn't on the list you run this command\\n# once to install them.  If it is already installed this command has no effect.\\n\\n!python3 -m pip install pandas\\n\")"
   ]
  },
  {
   "cell_type": "code",
   "execution_count": 3,
   "id": "6c1d9004",
   "metadata": {
    "execution": {
     "iopub.execute_input": "2023-05-10T00:57:02.074642Z",
     "iopub.status.busy": "2023-05-10T00:57:02.074249Z",
     "iopub.status.idle": "2023-05-10T00:57:03.171723Z",
     "shell.execute_reply": "2023-05-10T00:57:03.171123Z"
    }
   },
   "outputs": [
    {
     "name": "stdout",
     "output_type": "stream",
     "text": [
      "\u001b[33mDEPRECATION: Configuring installation scheme with distutils config files is deprecated and will no longer work in the near future. If you are using a Homebrew or Linuxbrew Python, please see discussion at https://github.com/Homebrew/homebrew-core/issues/76621\u001b[0m\u001b[33m\r\n",
      "\u001b[0mRequirement already satisfied: db-dtypes in /opt/homebrew/lib/python3.9/site-packages (1.0.5)\r\n"
     ]
    },
    {
     "name": "stdout",
     "output_type": "stream",
     "text": [
      "Requirement already satisfied: numpy<2.0dev,>=1.16.6 in /opt/homebrew/lib/python3.9/site-packages (from db-dtypes) (1.23.4)\r\n",
      "Requirement already satisfied: packaging>=17.0 in /Users/weihaochen/Library/Python/3.9/lib/python/site-packages (from db-dtypes) (21.3)\r\n",
      "Requirement already satisfied: pyarrow>=3.0.0 in /opt/homebrew/lib/python3.9/site-packages (from db-dtypes) (10.0.0)\r\n",
      "Requirement already satisfied: pandas<2.0dev,>=0.24.2 in /opt/homebrew/lib/python3.9/site-packages (from db-dtypes) (1.5.1)\r\n",
      "Requirement already satisfied: pyparsing!=3.0.5,>=2.0.2 in /Users/weihaochen/Library/Python/3.9/lib/python/site-packages (from packaging>=17.0->db-dtypes) (3.0.9)\r\n",
      "Requirement already satisfied: python-dateutil>=2.8.1 in /Users/weihaochen/Library/Python/3.9/lib/python/site-packages (from pandas<2.0dev,>=0.24.2->db-dtypes) (2.8.2)\r\n",
      "Requirement already satisfied: pytz>=2020.1 in /opt/homebrew/lib/python3.9/site-packages (from pandas<2.0dev,>=0.24.2->db-dtypes) (2022.6)\r\n",
      "Requirement already satisfied: six>=1.5 in /Users/weihaochen/Library/Python/3.9/lib/python/site-packages (from python-dateutil>=2.8.1->pandas<2.0dev,>=0.24.2->db-dtypes) (1.16.0)\r\n"
     ]
    },
    {
     "name": "stdout",
     "output_type": "stream",
     "text": [
      "\u001b[33mDEPRECATION: Configuring installation scheme with distutils config files is deprecated and will no longer work in the near future. If you are using a Homebrew or Linuxbrew Python, please see discussion at https://github.com/Homebrew/homebrew-core/issues/76621\u001b[0m\u001b[33m\r\n",
      "\u001b[0m\u001b[33mWARNING: You are using pip version 22.0.4; however, version 23.1.2 is available.\r\n",
      "You should consider upgrading via the '/opt/homebrew/opt/python@3.9/bin/python3.9 -m pip install --upgrade pip' command.\u001b[0m\u001b[33m\r\n",
      "\u001b[0m"
     ]
    },
    {
     "name": "stdout",
     "output_type": "stream",
     "text": [
      "Note: you may need to restart the kernel to use updated packages.\n"
     ]
    }
   ],
   "source": [
    "get_ipython().run_line_magic('pip', 'install db-dtypes')"
   ]
  },
  {
   "cell_type": "code",
   "execution_count": 4,
   "id": "b97c090e",
   "metadata": {
    "execution": {
     "iopub.execute_input": "2023-05-10T00:57:03.174514Z",
     "iopub.status.busy": "2023-05-10T00:57:03.174286Z",
     "iopub.status.idle": "2023-05-10T00:57:04.274841Z",
     "shell.execute_reply": "2023-05-10T00:57:04.274261Z"
    }
   },
   "outputs": [
    {
     "name": "stdout",
     "output_type": "stream",
     "text": [
      "\u001b[33mDEPRECATION: Configuring installation scheme with distutils config files is deprecated and will no longer work in the near future. If you are using a Homebrew or Linuxbrew Python, please see discussion at https://github.com/Homebrew/homebrew-core/issues/76621\u001b[0m\u001b[33m\r\n",
      "\u001b[0m"
     ]
    },
    {
     "name": "stdout",
     "output_type": "stream",
     "text": [
      "Requirement already satisfied: plotly in /opt/homebrew/lib/python3.9/site-packages (5.14.1)\r\n",
      "Requirement already satisfied: packaging in /Users/weihaochen/Library/Python/3.9/lib/python/site-packages (from plotly) (21.3)\r\n",
      "Requirement already satisfied: tenacity>=6.2.0 in /opt/homebrew/lib/python3.9/site-packages (from plotly) (8.2.2)\r\n",
      "Requirement already satisfied: pyparsing!=3.0.5,>=2.0.2 in /Users/weihaochen/Library/Python/3.9/lib/python/site-packages (from packaging->plotly) (3.0.9)\r\n"
     ]
    },
    {
     "name": "stdout",
     "output_type": "stream",
     "text": [
      "\u001b[33mDEPRECATION: Configuring installation scheme with distutils config files is deprecated and will no longer work in the near future. If you are using a Homebrew or Linuxbrew Python, please see discussion at https://github.com/Homebrew/homebrew-core/issues/76621\u001b[0m\u001b[33m\r\n",
      "\u001b[0m"
     ]
    },
    {
     "name": "stdout",
     "output_type": "stream",
     "text": [
      "\u001b[33mWARNING: You are using pip version 22.0.4; however, version 23.1.2 is available.\r\n",
      "You should consider upgrading via the '/opt/homebrew/opt/python@3.9/bin/python3.9 -m pip install --upgrade pip' command.\u001b[0m\u001b[33m\r\n",
      "\u001b[0m"
     ]
    },
    {
     "name": "stdout",
     "output_type": "stream",
     "text": [
      "Note: you may need to restart the kernel to use updated packages.\n"
     ]
    }
   ],
   "source": [
    "get_ipython().run_line_magic('pip', 'install plotly')"
   ]
  },
  {
   "cell_type": "markdown",
   "id": "ac36adc5",
   "metadata": {},
   "source": [
    "- IMPORT THE LIBRARIES YOU WILL USE\n",
    "------------------------------------------\n",
    "You only need to import packages one time per notebook session. To keep your\n",
    "notebook clean and organized you can handle all imports at the top of your file.\n",
    "The following are included for example purposed, feel free to modify or delete \n",
    "anything in this section."
   ]
  },
  {
   "cell_type": "code",
   "execution_count": 5,
   "id": "2ede777d",
   "metadata": {
    "execution": {
     "iopub.execute_input": "2023-05-10T00:57:04.277609Z",
     "iopub.status.busy": "2023-05-10T00:57:04.277401Z",
     "iopub.status.idle": "2023-05-10T00:57:04.962920Z",
     "shell.execute_reply": "2023-05-10T00:57:04.962642Z"
    }
   },
   "outputs": [],
   "source": [
    "import csv\n",
    "import pandas as pd\n",
    "import numpy as np\n",
    "import seaborn as sns\n",
    "import plotly.express as px\n",
    "import csv"
   ]
  },
  {
   "cell_type": "code",
   "execution_count": 6,
   "id": "fa754ed6",
   "metadata": {
    "execution": {
     "iopub.execute_input": "2023-05-10T00:57:04.964608Z",
     "iopub.status.busy": "2023-05-10T00:57:04.964471Z",
     "iopub.status.idle": "2023-05-10T00:57:05.079801Z",
     "shell.execute_reply": "2023-05-10T00:57:05.079531Z"
    },
    "lines_to_next_cell": 1
   },
   "outputs": [],
   "source": [
    "from google.cloud import bigquery\n",
    "from google.oauth2 import service_account\n",
    "from google.cloud.bigquery import magics"
   ]
  },
  {
   "cell_type": "markdown",
   "id": "e2f24ea3",
   "metadata": {},
   "source": [
    "- DEFINE YOUR CLASSES AND FUNCTIONS \n",
    "-----------------------------------\n",
    "This is not required, but is helpful in keeping your notebook organized. \n",
    "You can use the following cell or several cells to define your functions\n",
    "and classes to keep them separate from your analysis or results code.\n",
    "In general it useful to define your methods in a separate cell from where\n",
    "it is run."
   ]
  },
  {
   "cell_type": "code",
   "execution_count": 7,
   "id": "dbd69ca3",
   "metadata": {
    "execution": {
     "iopub.execute_input": "2023-05-10T00:57:05.081485Z",
     "iopub.status.busy": "2023-05-10T00:57:05.081332Z",
     "iopub.status.idle": "2023-05-10T00:57:05.083274Z",
     "shell.execute_reply": "2023-05-10T00:57:05.083024Z"
    },
    "lines_to_next_cell": 1
   },
   "outputs": [],
   "source": [
    "def querydb(request):\n",
    "    query_job = bigquery_client.query(request)\n",
    "    data = query_job.to_dataframe()\n",
    "    return data"
   ]
  },
  {
   "cell_type": "code",
   "execution_count": 8,
   "id": "a707ea75",
   "metadata": {
    "execution": {
     "iopub.execute_input": "2023-05-10T00:57:05.084662Z",
     "iopub.status.busy": "2023-05-10T00:57:05.084574Z",
     "iopub.status.idle": "2023-05-10T00:57:05.086289Z",
     "shell.execute_reply": "2023-05-10T00:57:05.086071Z"
    },
    "lines_to_next_cell": 1
   },
   "outputs": [],
   "source": [
    "def createSubmission():\n",
    "    return"
   ]
  },
  {
   "cell_type": "markdown",
   "id": "dbef17ec",
   "metadata": {},
   "source": [
    "load data\n",
    "CONFIGURE THE BIGQUERY SETTINGS"
   ]
  },
  {
   "cell_type": "code",
   "execution_count": 9,
   "id": "3dc9ad59",
   "metadata": {
    "execution": {
     "iopub.execute_input": "2023-05-10T00:57:05.087701Z",
     "iopub.status.busy": "2023-05-10T00:57:05.087618Z",
     "iopub.status.idle": "2023-05-10T00:57:05.095162Z",
     "shell.execute_reply": "2023-05-10T00:57:05.094818Z"
    }
   },
   "outputs": [],
   "source": [
    "BIGQUERY_PROJECT = 'ironhacks-data'\n",
    "bigquery_client = bigquery.Client(project=BIGQUERY_PROJECT)"
   ]
  },
  {
   "cell_type": "code",
   "execution_count": 10,
   "id": "e40edb2d",
   "metadata": {
    "execution": {
     "iopub.execute_input": "2023-05-10T00:57:05.097233Z",
     "iopub.status.busy": "2023-05-10T00:57:05.097086Z",
     "iopub.status.idle": "2023-05-10T00:57:06.799868Z",
     "shell.execute_reply": "2023-05-10T00:57:06.799465Z"
    }
   },
   "outputs": [],
   "source": [
    "#Unemployment Data\n",
    "query = \"\"\"\n",
    "SELECT *\n",
    "FROM `ironhacks-data.ironhacks_competition.unemployment_data`\n",
    "\"\"\"\n",
    "unemployment_data = querydb(query)"
   ]
  },
  {
   "cell_type": "code",
   "execution_count": 11,
   "id": "82d9f5f1",
   "metadata": {
    "execution": {
     "iopub.execute_input": "2023-05-10T00:57:06.802665Z",
     "iopub.status.busy": "2023-05-10T00:57:06.802307Z",
     "iopub.status.idle": "2023-05-10T00:57:08.290941Z",
     "shell.execute_reply": "2023-05-10T00:57:08.289454Z"
    }
   },
   "outputs": [],
   "source": [
    "# Wage Data\n",
    "query = \"\"\"\n",
    "SELECT *\n",
    "FROM `ironhacks-data.ironhacks_competition.wage_data`\n",
    "\"\"\"\n",
    "wage_data = querydb(query)"
   ]
  },
  {
   "cell_type": "code",
   "execution_count": 12,
   "id": "8fa0ef57",
   "metadata": {
    "execution": {
     "iopub.execute_input": "2023-05-10T00:57:08.298215Z",
     "iopub.status.busy": "2023-05-10T00:57:08.297734Z",
     "iopub.status.idle": "2023-05-10T00:57:09.839946Z",
     "shell.execute_reply": "2023-05-10T00:57:09.838213Z"
    }
   },
   "outputs": [],
   "source": [
    "# Prediction Data\n",
    "query = \"\"\"\n",
    "SELECT *\n",
    "FROM `ironhacks-data.ironhacks_competition.prediction_list`\n",
    "\"\"\"\n",
    "prediction_data = querydb(query)"
   ]
  },
  {
   "cell_type": "code",
   "execution_count": 13,
   "id": "1b609d74",
   "metadata": {
    "execution": {
     "iopub.execute_input": "2023-05-10T00:57:09.847044Z",
     "iopub.status.busy": "2023-05-10T00:57:09.846594Z",
     "iopub.status.idle": "2023-05-10T00:57:11.784586Z",
     "shell.execute_reply": "2023-05-10T00:57:11.784044Z"
    }
   },
   "outputs": [
    {
     "data": {
      "text/html": [
       "<div>\n",
       "<style scoped>\n",
       "    .dataframe tbody tr th:only-of-type {\n",
       "        vertical-align: middle;\n",
       "    }\n",
       "\n",
       "    .dataframe tbody tr th {\n",
       "        vertical-align: top;\n",
       "    }\n",
       "\n",
       "    .dataframe thead th {\n",
       "        text-align: right;\n",
       "    }\n",
       "</style>\n",
       "<table border=\"1\" class=\"dataframe\">\n",
       "  <thead>\n",
       "    <tr style=\"text-align: right;\">\n",
       "      <th></th>\n",
       "      <th>table_catalog</th>\n",
       "      <th>table_schema</th>\n",
       "      <th>table_name</th>\n",
       "      <th>table_type</th>\n",
       "      <th>is_insertable_into</th>\n",
       "      <th>is_typed</th>\n",
       "      <th>creation_time</th>\n",
       "      <th>base_table_catalog</th>\n",
       "      <th>base_table_schema</th>\n",
       "      <th>base_table_name</th>\n",
       "      <th>snapshot_time_ms</th>\n",
       "      <th>ddl</th>\n",
       "      <th>default_collation_name</th>\n",
       "      <th>upsert_stream_apply_watermark</th>\n",
       "    </tr>\n",
       "  </thead>\n",
       "  <tbody>\n",
       "    <tr>\n",
       "      <th>0</th>\n",
       "      <td>ironhacks-data</td>\n",
       "      <td>ironhacks_competition</td>\n",
       "      <td>wage_data</td>\n",
       "      <td>BASE TABLE</td>\n",
       "      <td>YES</td>\n",
       "      <td>NO</td>\n",
       "      <td>2022-11-29 17:00:10.578000+00:00</td>\n",
       "      <td>None</td>\n",
       "      <td>None</td>\n",
       "      <td>None</td>\n",
       "      <td>NaT</td>\n",
       "      <td>CREATE TABLE `ironhacks-data.ironhacks_competi...</td>\n",
       "      <td>NULL</td>\n",
       "      <td>NaT</td>\n",
       "    </tr>\n",
       "    <tr>\n",
       "      <th>1</th>\n",
       "      <td>ironhacks-data</td>\n",
       "      <td>ironhacks_competition</td>\n",
       "      <td>prediction_list</td>\n",
       "      <td>BASE TABLE</td>\n",
       "      <td>YES</td>\n",
       "      <td>NO</td>\n",
       "      <td>2022-11-29 17:00:10.722000+00:00</td>\n",
       "      <td>None</td>\n",
       "      <td>None</td>\n",
       "      <td>None</td>\n",
       "      <td>NaT</td>\n",
       "      <td>CREATE TABLE `ironhacks-data.ironhacks_competi...</td>\n",
       "      <td>NULL</td>\n",
       "      <td>NaT</td>\n",
       "    </tr>\n",
       "    <tr>\n",
       "      <th>2</th>\n",
       "      <td>ironhacks-data</td>\n",
       "      <td>ironhacks_competition</td>\n",
       "      <td>unemployment_data</td>\n",
       "      <td>BASE TABLE</td>\n",
       "      <td>YES</td>\n",
       "      <td>NO</td>\n",
       "      <td>2022-11-29 17:00:14.588000+00:00</td>\n",
       "      <td>None</td>\n",
       "      <td>None</td>\n",
       "      <td>None</td>\n",
       "      <td>NaT</td>\n",
       "      <td>CREATE TABLE `ironhacks-data.ironhacks_competi...</td>\n",
       "      <td>NULL</td>\n",
       "      <td>NaT</td>\n",
       "    </tr>\n",
       "  </tbody>\n",
       "</table>\n",
       "</div>"
      ],
      "text/plain": [
       "    table_catalog           table_schema         table_name  table_type  \\\n",
       "0  ironhacks-data  ironhacks_competition          wage_data  BASE TABLE   \n",
       "1  ironhacks-data  ironhacks_competition    prediction_list  BASE TABLE   \n",
       "2  ironhacks-data  ironhacks_competition  unemployment_data  BASE TABLE   \n",
       "\n",
       "  is_insertable_into is_typed                    creation_time  \\\n",
       "0                YES       NO 2022-11-29 17:00:10.578000+00:00   \n",
       "1                YES       NO 2022-11-29 17:00:10.722000+00:00   \n",
       "2                YES       NO 2022-11-29 17:00:14.588000+00:00   \n",
       "\n",
       "  base_table_catalog base_table_schema base_table_name snapshot_time_ms  \\\n",
       "0               None              None            None              NaT   \n",
       "1               None              None            None              NaT   \n",
       "2               None              None            None              NaT   \n",
       "\n",
       "                                                 ddl default_collation_name  \\\n",
       "0  CREATE TABLE `ironhacks-data.ironhacks_competi...                   NULL   \n",
       "1  CREATE TABLE `ironhacks-data.ironhacks_competi...                   NULL   \n",
       "2  CREATE TABLE `ironhacks-data.ironhacks_competi...                   NULL   \n",
       "\n",
       "  upsert_stream_apply_watermark  \n",
       "0                           NaT  \n",
       "1                           NaT  \n",
       "2                           NaT  "
      ]
     },
     "execution_count": 13,
     "metadata": {},
     "output_type": "execute_result"
    }
   ],
   "source": [
    "querydb(\"\"\"SELECT * \n",
    "FROM `ironhacks-data.ironhacks_competition.INFORMATION_SCHEMA.TABLES`\"\"\")"
   ]
  },
  {
   "cell_type": "markdown",
   "id": "da3fbb9b",
   "metadata": {},
   "source": [
    "# uu_id = \n",
    "# countyflips =\n",
    "# tract = \n",
    "# tract_name = \n",
    "# average_wage = "
   ]
  },
  {
   "cell_type": "code",
   "execution_count": 14,
   "id": "4e50f74b",
   "metadata": {
    "execution": {
     "iopub.execute_input": "2023-05-10T00:57:11.787389Z",
     "iopub.status.busy": "2023-05-10T00:57:11.787138Z",
     "iopub.status.idle": "2023-05-10T00:57:11.789853Z",
     "shell.execute_reply": "2023-05-10T00:57:11.789420Z"
    }
   },
   "outputs": [],
   "source": [
    "df_wage = wage_data"
   ]
  },
  {
   "cell_type": "code",
   "execution_count": 15,
   "id": "8b133f63",
   "metadata": {
    "execution": {
     "iopub.execute_input": "2023-05-10T00:57:11.792139Z",
     "iopub.status.busy": "2023-05-10T00:57:11.791953Z",
     "iopub.status.idle": "2023-05-10T00:57:11.794224Z",
     "shell.execute_reply": "2023-05-10T00:57:11.793847Z"
    }
   },
   "outputs": [],
   "source": [
    "#should add another column called previous week claims, this would probably be a good predictor for the next week of claims\n",
    "df_un = unemployment_data"
   ]
  },
  {
   "cell_type": "code",
   "execution_count": 16,
   "id": "730383fe",
   "metadata": {
    "execution": {
     "iopub.execute_input": "2023-05-10T00:57:11.796460Z",
     "iopub.status.busy": "2023-05-10T00:57:11.796280Z",
     "iopub.status.idle": "2023-05-10T00:57:11.798507Z",
     "shell.execute_reply": "2023-05-10T00:57:11.798137Z"
    }
   },
   "outputs": [],
   "source": [
    "df_pred = prediction_data"
   ]
  },
  {
   "cell_type": "code",
   "execution_count": 17,
   "id": "f9f30e86",
   "metadata": {
    "execution": {
     "iopub.execute_input": "2023-05-10T00:57:11.800404Z",
     "iopub.status.busy": "2023-05-10T00:57:11.800245Z",
     "iopub.status.idle": "2023-05-10T00:57:11.807682Z",
     "shell.execute_reply": "2023-05-10T00:57:11.807395Z"
    }
   },
   "outputs": [],
   "source": [
    "get_ipython().run_cell_magic('capture', '', \"%logstop\\n%logstart -t -r -q ipython_command_log.py global\\n\\n#- IRONHACKS RESEARCH TRACKING CODE\\n#----------------------------------\\n# The following code is used to help our research team understand how use \\n# our notebook environment. We do not collect any personal information with\\n# the following code, it is used to measure when and how often you work on\\n# your submission files.\\n\\nimport os\\nfrom datetime import datetime\\nimport IPython.core.history as history\\n\\nha = history.HistoryAccessor()\\nha_tail = ha.get_tail(1)\\nha_cmd = next(ha_tail)\\nsession_id = str(ha_cmd[0])\\ncommand_id = str(ha_cmd[1])\\ntimestamp = datetime.utcnow().isoformat()\\nhistory_line = ','.join([session_id, command_id, timestamp]) + '\\\\n'\\nlogfile = open(os.environ['HOME']+'/ipython_session_log.csv', 'a')\\nlogfile.write(history_line)\\nlogfile.close()\\n\")"
   ]
  },
  {
   "cell_type": "code",
   "execution_count": 18,
   "id": "3c332299",
   "metadata": {
    "execution": {
     "iopub.execute_input": "2023-05-10T00:57:11.809395Z",
     "iopub.status.busy": "2023-05-10T00:57:11.809252Z",
     "iopub.status.idle": "2023-05-10T00:57:12.911659Z",
     "shell.execute_reply": "2023-05-10T00:57:12.910915Z"
    }
   },
   "outputs": [],
   "source": [
    "get_ipython().run_cell_magic('capture', '', \"\\n#- INSTALL ADDITIONAL LIBRARIES IF REQUIRED\\n#------------------------------------------\\n# This is normally not required. The hub environment comes preinstaled with \\n# many packages that you can already use without setup. In case there is some\\n# other library you would like to use that isn't on the list you run this command\\n# once to install them.  If it is already installed this command has no effect.\\n\\n!python3 -m pip install pandas\\n\")"
   ]
  },
  {
   "cell_type": "code",
   "execution_count": 19,
   "id": "9320855a",
   "metadata": {
    "execution": {
     "iopub.execute_input": "2023-05-10T00:57:12.914776Z",
     "iopub.status.busy": "2023-05-10T00:57:12.914531Z",
     "iopub.status.idle": "2023-05-10T00:57:14.094854Z",
     "shell.execute_reply": "2023-05-10T00:57:14.094237Z"
    }
   },
   "outputs": [
    {
     "name": "stdout",
     "output_type": "stream",
     "text": [
      "\u001b[33mDEPRECATION: Configuring installation scheme with distutils config files is deprecated and will no longer work in the near future. If you are using a Homebrew or Linuxbrew Python, please see discussion at https://github.com/Homebrew/homebrew-core/issues/76621\u001b[0m\u001b[33m\r\n",
      "\u001b[0m"
     ]
    },
    {
     "name": "stdout",
     "output_type": "stream",
     "text": [
      "Requirement already satisfied: db-dtypes in /opt/homebrew/lib/python3.9/site-packages (1.0.5)\r\n",
      "Requirement already satisfied: pandas<2.0dev,>=0.24.2 in /opt/homebrew/lib/python3.9/site-packages (from db-dtypes) (1.5.1)\r\n",
      "Requirement already satisfied: numpy<2.0dev,>=1.16.6 in /opt/homebrew/lib/python3.9/site-packages (from db-dtypes) (1.23.4)\r\n",
      "Requirement already satisfied: pyarrow>=3.0.0 in /opt/homebrew/lib/python3.9/site-packages (from db-dtypes) (10.0.0)\r\n",
      "Requirement already satisfied: packaging>=17.0 in /Users/weihaochen/Library/Python/3.9/lib/python/site-packages (from db-dtypes) (21.3)\r\n",
      "Requirement already satisfied: pyparsing!=3.0.5,>=2.0.2 in /Users/weihaochen/Library/Python/3.9/lib/python/site-packages (from packaging>=17.0->db-dtypes) (3.0.9)\r\n",
      "Requirement already satisfied: python-dateutil>=2.8.1 in /Users/weihaochen/Library/Python/3.9/lib/python/site-packages (from pandas<2.0dev,>=0.24.2->db-dtypes) (2.8.2)\r\n",
      "Requirement already satisfied: pytz>=2020.1 in /opt/homebrew/lib/python3.9/site-packages (from pandas<2.0dev,>=0.24.2->db-dtypes) (2022.6)\r\n",
      "Requirement already satisfied: six>=1.5 in /Users/weihaochen/Library/Python/3.9/lib/python/site-packages (from python-dateutil>=2.8.1->pandas<2.0dev,>=0.24.2->db-dtypes) (1.16.0)\r\n"
     ]
    },
    {
     "name": "stdout",
     "output_type": "stream",
     "text": [
      "\u001b[33mDEPRECATION: Configuring installation scheme with distutils config files is deprecated and will no longer work in the near future. If you are using a Homebrew or Linuxbrew Python, please see discussion at https://github.com/Homebrew/homebrew-core/issues/76621\u001b[0m\u001b[33m\r\n",
      "\u001b[0m\u001b[33mWARNING: You are using pip version 22.0.4; however, version 23.1.2 is available.\r\n",
      "You should consider upgrading via the '/opt/homebrew/opt/python@3.9/bin/python3.9 -m pip install --upgrade pip' command.\u001b[0m\u001b[33m\r\n",
      "\u001b[0m"
     ]
    },
    {
     "name": "stdout",
     "output_type": "stream",
     "text": [
      "Note: you may need to restart the kernel to use updated packages.\n"
     ]
    }
   ],
   "source": [
    "get_ipython().run_line_magic('pip', 'install db-dtypes')"
   ]
  },
  {
   "cell_type": "code",
   "execution_count": 20,
   "id": "d5a0c897",
   "metadata": {
    "execution": {
     "iopub.execute_input": "2023-05-10T00:57:14.097677Z",
     "iopub.status.busy": "2023-05-10T00:57:14.097279Z",
     "iopub.status.idle": "2023-05-10T00:57:15.193944Z",
     "shell.execute_reply": "2023-05-10T00:57:15.193312Z"
    }
   },
   "outputs": [
    {
     "name": "stdout",
     "output_type": "stream",
     "text": [
      "\u001b[33mDEPRECATION: Configuring installation scheme with distutils config files is deprecated and will no longer work in the near future. If you are using a Homebrew or Linuxbrew Python, please see discussion at https://github.com/Homebrew/homebrew-core/issues/76621\u001b[0m\u001b[33m\r\n",
      "\u001b[0m"
     ]
    },
    {
     "name": "stdout",
     "output_type": "stream",
     "text": [
      "Requirement already satisfied: plotly in /opt/homebrew/lib/python3.9/site-packages (5.14.1)\r\n",
      "Requirement already satisfied: packaging in /Users/weihaochen/Library/Python/3.9/lib/python/site-packages (from plotly) (21.3)\r\n",
      "Requirement already satisfied: tenacity>=6.2.0 in /opt/homebrew/lib/python3.9/site-packages (from plotly) (8.2.2)\r\n",
      "Requirement already satisfied: pyparsing!=3.0.5,>=2.0.2 in /Users/weihaochen/Library/Python/3.9/lib/python/site-packages (from packaging->plotly) (3.0.9)\r\n"
     ]
    },
    {
     "name": "stdout",
     "output_type": "stream",
     "text": [
      "\u001b[33mDEPRECATION: Configuring installation scheme with distutils config files is deprecated and will no longer work in the near future. If you are using a Homebrew or Linuxbrew Python, please see discussion at https://github.com/Homebrew/homebrew-core/issues/76621\u001b[0m\u001b[33m\r\n",
      "\u001b[0m\u001b[33mWARNING: You are using pip version 22.0.4; however, version 23.1.2 is available.\r\n",
      "You should consider upgrading via the '/opt/homebrew/opt/python@3.9/bin/python3.9 -m pip install --upgrade pip' command.\u001b[0m\u001b[33m\r\n",
      "\u001b[0m"
     ]
    },
    {
     "name": "stdout",
     "output_type": "stream",
     "text": [
      "Note: you may need to restart the kernel to use updated packages.\n"
     ]
    }
   ],
   "source": [
    "get_ipython().run_line_magic('pip', 'install plotly')"
   ]
  },
  {
   "cell_type": "markdown",
   "id": "98c51d8d",
   "metadata": {},
   "source": [
    "- IMPORT THE LIBRARIES YOU WILL USE\n",
    "------------------------------------------\n",
    "You only need to import packages one time per notebook session. To keep your\n",
    "notebook clean and organized you can handle all imports at the top of your file.\n",
    "The following are included for example purposed, feel free to modify or delete \n",
    "anything in this section."
   ]
  },
  {
   "cell_type": "code",
   "execution_count": 21,
   "id": "9a29d6a2",
   "metadata": {
    "execution": {
     "iopub.execute_input": "2023-05-10T00:57:15.196875Z",
     "iopub.status.busy": "2023-05-10T00:57:15.196614Z",
     "iopub.status.idle": "2023-05-10T00:57:15.200025Z",
     "shell.execute_reply": "2023-05-10T00:57:15.199611Z"
    }
   },
   "outputs": [],
   "source": [
    "import csv\n",
    "import pandas as pd\n",
    "import numpy as np\n",
    "import seaborn as sns\n",
    "import plotly.express as px\n",
    "import csv"
   ]
  },
  {
   "cell_type": "code",
   "execution_count": 22,
   "id": "e9b8b33c",
   "metadata": {
    "execution": {
     "iopub.execute_input": "2023-05-10T00:57:15.202146Z",
     "iopub.status.busy": "2023-05-10T00:57:15.202001Z",
     "iopub.status.idle": "2023-05-10T00:57:15.204618Z",
     "shell.execute_reply": "2023-05-10T00:57:15.204236Z"
    },
    "lines_to_next_cell": 1
   },
   "outputs": [],
   "source": [
    "from google.cloud import bigquery\n",
    "from google.oauth2 import service_account\n",
    "from google.cloud.bigquery import magics"
   ]
  },
  {
   "cell_type": "markdown",
   "id": "0d39c7ba",
   "metadata": {},
   "source": [
    "- DEFINE YOUR CLASSES AND FUNCTIONS \n",
    "-----------------------------------\n",
    "This is not required, but is helpful in keeping your notebook organized. \n",
    "You can use the following cell or several cells to define your functions\n",
    "and classes to keep them separate from your analysis or results code.\n",
    "In general it useful to define your methods in a separate cell from where\n",
    "it is run."
   ]
  },
  {
   "cell_type": "code",
   "execution_count": 23,
   "id": "4d49be9d",
   "metadata": {
    "execution": {
     "iopub.execute_input": "2023-05-10T00:57:15.206682Z",
     "iopub.status.busy": "2023-05-10T00:57:15.206510Z",
     "iopub.status.idle": "2023-05-10T00:57:15.209113Z",
     "shell.execute_reply": "2023-05-10T00:57:15.208741Z"
    },
    "lines_to_next_cell": 1
   },
   "outputs": [],
   "source": [
    "def querydb(request):\n",
    "    query_job = bigquery_client.query(request)\n",
    "    data = query_job.to_dataframe()\n",
    "    return data"
   ]
  },
  {
   "cell_type": "code",
   "execution_count": 24,
   "id": "e2b86ee2",
   "metadata": {
    "execution": {
     "iopub.execute_input": "2023-05-10T00:57:15.211130Z",
     "iopub.status.busy": "2023-05-10T00:57:15.210984Z",
     "iopub.status.idle": "2023-05-10T00:57:15.213129Z",
     "shell.execute_reply": "2023-05-10T00:57:15.212749Z"
    },
    "lines_to_next_cell": 1
   },
   "outputs": [],
   "source": [
    "def createSubmission():\n",
    "    return"
   ]
  },
  {
   "cell_type": "markdown",
   "id": "46d3ba50",
   "metadata": {},
   "source": [
    "load data\n",
    "CONFIGURE THE BIGQUERY SETTINGS"
   ]
  },
  {
   "cell_type": "code",
   "execution_count": 25,
   "id": "c49ee805",
   "metadata": {
    "execution": {
     "iopub.execute_input": "2023-05-10T00:57:15.214945Z",
     "iopub.status.busy": "2023-05-10T00:57:15.214804Z",
     "iopub.status.idle": "2023-05-10T00:57:15.222752Z",
     "shell.execute_reply": "2023-05-10T00:57:15.222322Z"
    }
   },
   "outputs": [],
   "source": [
    "BIGQUERY_PROJECT = 'ironhacks-data'\n",
    "bigquery_client = bigquery.Client(project=BIGQUERY_PROJECT)"
   ]
  },
  {
   "cell_type": "code",
   "execution_count": 26,
   "id": "54a51af1",
   "metadata": {
    "execution": {
     "iopub.execute_input": "2023-05-10T00:57:15.224817Z",
     "iopub.status.busy": "2023-05-10T00:57:15.224658Z",
     "iopub.status.idle": "2023-05-10T00:57:16.711189Z",
     "shell.execute_reply": "2023-05-10T00:57:16.710510Z"
    }
   },
   "outputs": [],
   "source": [
    "#Unemployment Data\n",
    "query = \"\"\"\n",
    "SELECT *\n",
    "FROM `ironhacks-data.ironhacks_competition.unemployment_data`\n",
    "\"\"\"\n",
    "unemployment_data = querydb(query)"
   ]
  },
  {
   "cell_type": "code",
   "execution_count": 27,
   "id": "3e0ba250",
   "metadata": {
    "execution": {
     "iopub.execute_input": "2023-05-10T00:57:16.716118Z",
     "iopub.status.busy": "2023-05-10T00:57:16.715756Z",
     "iopub.status.idle": "2023-05-10T00:57:18.231356Z",
     "shell.execute_reply": "2023-05-10T00:57:18.230151Z"
    }
   },
   "outputs": [],
   "source": [
    "# Wage Data\n",
    "query = \"\"\"\n",
    "SELECT *\n",
    "FROM `ironhacks-data.ironhacks_competition.wage_data`\n",
    "\"\"\"\n",
    "wage_data = querydb(query)"
   ]
  },
  {
   "cell_type": "code",
   "execution_count": 28,
   "id": "cb2f4620",
   "metadata": {
    "execution": {
     "iopub.execute_input": "2023-05-10T00:57:18.237793Z",
     "iopub.status.busy": "2023-05-10T00:57:18.237290Z",
     "iopub.status.idle": "2023-05-10T00:57:19.602511Z",
     "shell.execute_reply": "2023-05-10T00:57:19.601599Z"
    }
   },
   "outputs": [],
   "source": [
    "# Prediction Data\n",
    "query = \"\"\"\n",
    "SELECT *\n",
    "FROM `ironhacks-data.ironhacks_competition.prediction_list`\n",
    "\"\"\"\n",
    "prediction_data = querydb(query)"
   ]
  },
  {
   "cell_type": "code",
   "execution_count": 29,
   "id": "43a8e0ae",
   "metadata": {
    "execution": {
     "iopub.execute_input": "2023-05-10T00:57:19.608733Z",
     "iopub.status.busy": "2023-05-10T00:57:19.608076Z",
     "iopub.status.idle": "2023-05-10T00:57:21.358235Z",
     "shell.execute_reply": "2023-05-10T00:57:21.357342Z"
    }
   },
   "outputs": [
    {
     "data": {
      "text/html": [
       "<div>\n",
       "<style scoped>\n",
       "    .dataframe tbody tr th:only-of-type {\n",
       "        vertical-align: middle;\n",
       "    }\n",
       "\n",
       "    .dataframe tbody tr th {\n",
       "        vertical-align: top;\n",
       "    }\n",
       "\n",
       "    .dataframe thead th {\n",
       "        text-align: right;\n",
       "    }\n",
       "</style>\n",
       "<table border=\"1\" class=\"dataframe\">\n",
       "  <thead>\n",
       "    <tr style=\"text-align: right;\">\n",
       "      <th></th>\n",
       "      <th>table_catalog</th>\n",
       "      <th>table_schema</th>\n",
       "      <th>table_name</th>\n",
       "      <th>table_type</th>\n",
       "      <th>is_insertable_into</th>\n",
       "      <th>is_typed</th>\n",
       "      <th>creation_time</th>\n",
       "      <th>base_table_catalog</th>\n",
       "      <th>base_table_schema</th>\n",
       "      <th>base_table_name</th>\n",
       "      <th>snapshot_time_ms</th>\n",
       "      <th>ddl</th>\n",
       "      <th>default_collation_name</th>\n",
       "      <th>upsert_stream_apply_watermark</th>\n",
       "    </tr>\n",
       "  </thead>\n",
       "  <tbody>\n",
       "    <tr>\n",
       "      <th>0</th>\n",
       "      <td>ironhacks-data</td>\n",
       "      <td>ironhacks_competition</td>\n",
       "      <td>wage_data</td>\n",
       "      <td>BASE TABLE</td>\n",
       "      <td>YES</td>\n",
       "      <td>NO</td>\n",
       "      <td>2022-11-29 17:00:10.578000+00:00</td>\n",
       "      <td>None</td>\n",
       "      <td>None</td>\n",
       "      <td>None</td>\n",
       "      <td>NaT</td>\n",
       "      <td>CREATE TABLE `ironhacks-data.ironhacks_competi...</td>\n",
       "      <td>NULL</td>\n",
       "      <td>NaT</td>\n",
       "    </tr>\n",
       "    <tr>\n",
       "      <th>1</th>\n",
       "      <td>ironhacks-data</td>\n",
       "      <td>ironhacks_competition</td>\n",
       "      <td>prediction_list</td>\n",
       "      <td>BASE TABLE</td>\n",
       "      <td>YES</td>\n",
       "      <td>NO</td>\n",
       "      <td>2022-11-29 17:00:10.722000+00:00</td>\n",
       "      <td>None</td>\n",
       "      <td>None</td>\n",
       "      <td>None</td>\n",
       "      <td>NaT</td>\n",
       "      <td>CREATE TABLE `ironhacks-data.ironhacks_competi...</td>\n",
       "      <td>NULL</td>\n",
       "      <td>NaT</td>\n",
       "    </tr>\n",
       "    <tr>\n",
       "      <th>2</th>\n",
       "      <td>ironhacks-data</td>\n",
       "      <td>ironhacks_competition</td>\n",
       "      <td>unemployment_data</td>\n",
       "      <td>BASE TABLE</td>\n",
       "      <td>YES</td>\n",
       "      <td>NO</td>\n",
       "      <td>2022-11-29 17:00:14.588000+00:00</td>\n",
       "      <td>None</td>\n",
       "      <td>None</td>\n",
       "      <td>None</td>\n",
       "      <td>NaT</td>\n",
       "      <td>CREATE TABLE `ironhacks-data.ironhacks_competi...</td>\n",
       "      <td>NULL</td>\n",
       "      <td>NaT</td>\n",
       "    </tr>\n",
       "  </tbody>\n",
       "</table>\n",
       "</div>"
      ],
      "text/plain": [
       "    table_catalog           table_schema         table_name  table_type  \\\n",
       "0  ironhacks-data  ironhacks_competition          wage_data  BASE TABLE   \n",
       "1  ironhacks-data  ironhacks_competition    prediction_list  BASE TABLE   \n",
       "2  ironhacks-data  ironhacks_competition  unemployment_data  BASE TABLE   \n",
       "\n",
       "  is_insertable_into is_typed                    creation_time  \\\n",
       "0                YES       NO 2022-11-29 17:00:10.578000+00:00   \n",
       "1                YES       NO 2022-11-29 17:00:10.722000+00:00   \n",
       "2                YES       NO 2022-11-29 17:00:14.588000+00:00   \n",
       "\n",
       "  base_table_catalog base_table_schema base_table_name snapshot_time_ms  \\\n",
       "0               None              None            None              NaT   \n",
       "1               None              None            None              NaT   \n",
       "2               None              None            None              NaT   \n",
       "\n",
       "                                                 ddl default_collation_name  \\\n",
       "0  CREATE TABLE `ironhacks-data.ironhacks_competi...                   NULL   \n",
       "1  CREATE TABLE `ironhacks-data.ironhacks_competi...                   NULL   \n",
       "2  CREATE TABLE `ironhacks-data.ironhacks_competi...                   NULL   \n",
       "\n",
       "  upsert_stream_apply_watermark  \n",
       "0                           NaT  \n",
       "1                           NaT  \n",
       "2                           NaT  "
      ]
     },
     "execution_count": 29,
     "metadata": {},
     "output_type": "execute_result"
    }
   ],
   "source": [
    "querydb(\"\"\"SELECT * \n",
    "FROM `ironhacks-data.ironhacks_competition.INFORMATION_SCHEMA.TABLES`\"\"\")"
   ]
  },
  {
   "cell_type": "markdown",
   "id": "7da6f192",
   "metadata": {},
   "source": [
    "# uu_id = \n",
    "# countyflips =\n",
    "# tract = \n",
    "# tract_name = \n",
    "# average_wage = "
   ]
  },
  {
   "cell_type": "code",
   "execution_count": 30,
   "id": "f933f66f",
   "metadata": {
    "execution": {
     "iopub.execute_input": "2023-05-10T00:57:21.363560Z",
     "iopub.status.busy": "2023-05-10T00:57:21.363037Z",
     "iopub.status.idle": "2023-05-10T00:57:21.367389Z",
     "shell.execute_reply": "2023-05-10T00:57:21.366701Z"
    }
   },
   "outputs": [],
   "source": [
    "df_wage = wage_data"
   ]
  },
  {
   "cell_type": "code",
   "execution_count": 31,
   "id": "f6200892",
   "metadata": {
    "execution": {
     "iopub.execute_input": "2023-05-10T00:57:21.371055Z",
     "iopub.status.busy": "2023-05-10T00:57:21.370713Z",
     "iopub.status.idle": "2023-05-10T00:57:21.374710Z",
     "shell.execute_reply": "2023-05-10T00:57:21.374175Z"
    }
   },
   "outputs": [],
   "source": [
    "#should add another column called previous week claims, this would probably be a good predictor for the next week of claims\n",
    "df_un = unemployment_data"
   ]
  },
  {
   "cell_type": "code",
   "execution_count": 32,
   "id": "d86ff0a4",
   "metadata": {
    "execution": {
     "iopub.execute_input": "2023-05-10T00:57:21.377475Z",
     "iopub.status.busy": "2023-05-10T00:57:21.377284Z",
     "iopub.status.idle": "2023-05-10T00:57:21.380181Z",
     "shell.execute_reply": "2023-05-10T00:57:21.379692Z"
    }
   },
   "outputs": [],
   "source": [
    "df_pred = prediction_data"
   ]
  },
  {
   "cell_type": "code",
   "execution_count": 33,
   "id": "5c9d4370",
   "metadata": {
    "execution": {
     "iopub.execute_input": "2023-05-10T00:57:21.382594Z",
     "iopub.status.busy": "2023-05-10T00:57:21.382396Z",
     "iopub.status.idle": "2023-05-10T00:57:21.409174Z",
     "shell.execute_reply": "2023-05-10T00:57:21.408830Z"
    }
   },
   "outputs": [
    {
     "data": {
      "text/html": [
       "<div>\n",
       "<style scoped>\n",
       "    .dataframe tbody tr th:only-of-type {\n",
       "        vertical-align: middle;\n",
       "    }\n",
       "\n",
       "    .dataframe tbody tr th {\n",
       "        vertical-align: top;\n",
       "    }\n",
       "\n",
       "    .dataframe thead th {\n",
       "        text-align: right;\n",
       "    }\n",
       "</style>\n",
       "<table border=\"1\" class=\"dataframe\">\n",
       "  <thead>\n",
       "    <tr style=\"text-align: right;\">\n",
       "      <th></th>\n",
       "      <th>uu_id</th>\n",
       "      <th>timeperiod</th>\n",
       "      <th>week_number</th>\n",
       "      <th>countyfips</th>\n",
       "      <th>tract</th>\n",
       "      <th>tract_name</th>\n",
       "      <th>total_claims</th>\n",
       "      <th>edu_8th_or_less</th>\n",
       "      <th>edu_grades_9_11</th>\n",
       "      <th>edu_hs_grad_equiv</th>\n",
       "      <th>...</th>\n",
       "      <th>gender_female</th>\n",
       "      <th>gender_male</th>\n",
       "      <th>gender_na</th>\n",
       "      <th>race_amerindian</th>\n",
       "      <th>race_asian</th>\n",
       "      <th>race_black</th>\n",
       "      <th>race_noanswer</th>\n",
       "      <th>race_hawaiiannative</th>\n",
       "      <th>race_other</th>\n",
       "      <th>race_white</th>\n",
       "    </tr>\n",
       "  </thead>\n",
       "  <tbody>\n",
       "    <tr>\n",
       "      <th>6958</th>\n",
       "      <td>bbcb018f0e5e49e13636f6e78ce9f60f</td>\n",
       "      <td>20220101</td>\n",
       "      <td>1</td>\n",
       "      <td>18163</td>\n",
       "      <td>10203</td>\n",
       "      <td>Census Tract 102.03, Vanderburgh County, Indiana</td>\n",
       "      <td>23</td>\n",
       "      <td>&lt;NA&gt;</td>\n",
       "      <td>&lt;NA&gt;</td>\n",
       "      <td>13</td>\n",
       "      <td>...</td>\n",
       "      <td>11</td>\n",
       "      <td>12</td>\n",
       "      <td>0</td>\n",
       "      <td>0</td>\n",
       "      <td>0</td>\n",
       "      <td>0</td>\n",
       "      <td>&lt;NA&gt;</td>\n",
       "      <td>0</td>\n",
       "      <td>0</td>\n",
       "      <td>&lt;NA&gt;</td>\n",
       "    </tr>\n",
       "    <tr>\n",
       "      <th>15838</th>\n",
       "      <td>bbcb018f0e5e49e13636f6e78ce9f60f</td>\n",
       "      <td>20220108</td>\n",
       "      <td>2</td>\n",
       "      <td>18163</td>\n",
       "      <td>10203</td>\n",
       "      <td>Census Tract 102.03, Vanderburgh County, Indiana</td>\n",
       "      <td>29</td>\n",
       "      <td>0</td>\n",
       "      <td>&lt;NA&gt;</td>\n",
       "      <td>17</td>\n",
       "      <td>...</td>\n",
       "      <td>15</td>\n",
       "      <td>14</td>\n",
       "      <td>0</td>\n",
       "      <td>0</td>\n",
       "      <td>0</td>\n",
       "      <td>&lt;NA&gt;</td>\n",
       "      <td>&lt;NA&gt;</td>\n",
       "      <td>0</td>\n",
       "      <td>0</td>\n",
       "      <td>25</td>\n",
       "    </tr>\n",
       "    <tr>\n",
       "      <th>3018</th>\n",
       "      <td>bbcb018f0e5e49e13636f6e78ce9f60f</td>\n",
       "      <td>20220115</td>\n",
       "      <td>3</td>\n",
       "      <td>18163</td>\n",
       "      <td>10203</td>\n",
       "      <td>Census Tract 102.03, Vanderburgh County, Indiana</td>\n",
       "      <td>30</td>\n",
       "      <td>0</td>\n",
       "      <td>&lt;NA&gt;</td>\n",
       "      <td>&lt;NA&gt;</td>\n",
       "      <td>...</td>\n",
       "      <td>13</td>\n",
       "      <td>17</td>\n",
       "      <td>0</td>\n",
       "      <td>0</td>\n",
       "      <td>&lt;NA&gt;</td>\n",
       "      <td>0</td>\n",
       "      <td>&lt;NA&gt;</td>\n",
       "      <td>0</td>\n",
       "      <td>0</td>\n",
       "      <td>26</td>\n",
       "    </tr>\n",
       "    <tr>\n",
       "      <th>15843</th>\n",
       "      <td>bbcb018f0e5e49e13636f6e78ce9f60f</td>\n",
       "      <td>20220129</td>\n",
       "      <td>5</td>\n",
       "      <td>18163</td>\n",
       "      <td>10203</td>\n",
       "      <td>Census Tract 102.03, Vanderburgh County, Indiana</td>\n",
       "      <td>30</td>\n",
       "      <td>0</td>\n",
       "      <td>&lt;NA&gt;</td>\n",
       "      <td>15</td>\n",
       "      <td>...</td>\n",
       "      <td>12</td>\n",
       "      <td>18</td>\n",
       "      <td>0</td>\n",
       "      <td>0</td>\n",
       "      <td>0</td>\n",
       "      <td>0</td>\n",
       "      <td>&lt;NA&gt;</td>\n",
       "      <td>0</td>\n",
       "      <td>0</td>\n",
       "      <td>&lt;NA&gt;</td>\n",
       "    </tr>\n",
       "    <tr>\n",
       "      <th>15837</th>\n",
       "      <td>bbcb018f0e5e49e13636f6e78ce9f60f</td>\n",
       "      <td>20220205</td>\n",
       "      <td>6</td>\n",
       "      <td>18163</td>\n",
       "      <td>10203</td>\n",
       "      <td>Census Tract 102.03, Vanderburgh County, Indiana</td>\n",
       "      <td>32</td>\n",
       "      <td>0</td>\n",
       "      <td>&lt;NA&gt;</td>\n",
       "      <td>18</td>\n",
       "      <td>...</td>\n",
       "      <td>12</td>\n",
       "      <td>20</td>\n",
       "      <td>0</td>\n",
       "      <td>0</td>\n",
       "      <td>0</td>\n",
       "      <td>0</td>\n",
       "      <td>&lt;NA&gt;</td>\n",
       "      <td>0</td>\n",
       "      <td>&lt;NA&gt;</td>\n",
       "      <td>29</td>\n",
       "    </tr>\n",
       "    <tr>\n",
       "      <th>14230</th>\n",
       "      <td>bbcb018f0e5e49e13636f6e78ce9f60f</td>\n",
       "      <td>20220212</td>\n",
       "      <td>7</td>\n",
       "      <td>18163</td>\n",
       "      <td>10203</td>\n",
       "      <td>Census Tract 102.03, Vanderburgh County, Indiana</td>\n",
       "      <td>22</td>\n",
       "      <td>0</td>\n",
       "      <td>&lt;NA&gt;</td>\n",
       "      <td>14</td>\n",
       "      <td>...</td>\n",
       "      <td>&lt;NA&gt;</td>\n",
       "      <td>&lt;NA&gt;</td>\n",
       "      <td>0</td>\n",
       "      <td>0</td>\n",
       "      <td>0</td>\n",
       "      <td>&lt;NA&gt;</td>\n",
       "      <td>&lt;NA&gt;</td>\n",
       "      <td>0</td>\n",
       "      <td>&lt;NA&gt;</td>\n",
       "      <td>17</td>\n",
       "    </tr>\n",
       "    <tr>\n",
       "      <th>15839</th>\n",
       "      <td>bbcb018f0e5e49e13636f6e78ce9f60f</td>\n",
       "      <td>20220219</td>\n",
       "      <td>8</td>\n",
       "      <td>18163</td>\n",
       "      <td>10203</td>\n",
       "      <td>Census Tract 102.03, Vanderburgh County, Indiana</td>\n",
       "      <td>26</td>\n",
       "      <td>0</td>\n",
       "      <td>&lt;NA&gt;</td>\n",
       "      <td>17</td>\n",
       "      <td>...</td>\n",
       "      <td>11</td>\n",
       "      <td>15</td>\n",
       "      <td>0</td>\n",
       "      <td>0</td>\n",
       "      <td>0</td>\n",
       "      <td>0</td>\n",
       "      <td>&lt;NA&gt;</td>\n",
       "      <td>0</td>\n",
       "      <td>0</td>\n",
       "      <td>&lt;NA&gt;</td>\n",
       "    </tr>\n",
       "    <tr>\n",
       "      <th>3019</th>\n",
       "      <td>bbcb018f0e5e49e13636f6e78ce9f60f</td>\n",
       "      <td>20220226</td>\n",
       "      <td>9</td>\n",
       "      <td>18163</td>\n",
       "      <td>10203</td>\n",
       "      <td>Census Tract 102.03, Vanderburgh County, Indiana</td>\n",
       "      <td>23</td>\n",
       "      <td>0</td>\n",
       "      <td>&lt;NA&gt;</td>\n",
       "      <td>13</td>\n",
       "      <td>...</td>\n",
       "      <td>&lt;NA&gt;</td>\n",
       "      <td>&lt;NA&gt;</td>\n",
       "      <td>0</td>\n",
       "      <td>0</td>\n",
       "      <td>0</td>\n",
       "      <td>0</td>\n",
       "      <td>&lt;NA&gt;</td>\n",
       "      <td>0</td>\n",
       "      <td>0</td>\n",
       "      <td>&lt;NA&gt;</td>\n",
       "    </tr>\n",
       "    <tr>\n",
       "      <th>15845</th>\n",
       "      <td>bbcb018f0e5e49e13636f6e78ce9f60f</td>\n",
       "      <td>20220305</td>\n",
       "      <td>10</td>\n",
       "      <td>18163</td>\n",
       "      <td>10203</td>\n",
       "      <td>Census Tract 102.03, Vanderburgh County, Indiana</td>\n",
       "      <td>21</td>\n",
       "      <td>0</td>\n",
       "      <td>&lt;NA&gt;</td>\n",
       "      <td>10</td>\n",
       "      <td>...</td>\n",
       "      <td>&lt;NA&gt;</td>\n",
       "      <td>&lt;NA&gt;</td>\n",
       "      <td>0</td>\n",
       "      <td>0</td>\n",
       "      <td>0</td>\n",
       "      <td>0</td>\n",
       "      <td>&lt;NA&gt;</td>\n",
       "      <td>0</td>\n",
       "      <td>0</td>\n",
       "      <td>&lt;NA&gt;</td>\n",
       "    </tr>\n",
       "    <tr>\n",
       "      <th>15835</th>\n",
       "      <td>bbcb018f0e5e49e13636f6e78ce9f60f</td>\n",
       "      <td>20220312</td>\n",
       "      <td>11</td>\n",
       "      <td>18163</td>\n",
       "      <td>10203</td>\n",
       "      <td>Census Tract 102.03, Vanderburgh County, Indiana</td>\n",
       "      <td>19</td>\n",
       "      <td>0</td>\n",
       "      <td>&lt;NA&gt;</td>\n",
       "      <td>&lt;NA&gt;</td>\n",
       "      <td>...</td>\n",
       "      <td>&lt;NA&gt;</td>\n",
       "      <td>&lt;NA&gt;</td>\n",
       "      <td>0</td>\n",
       "      <td>0</td>\n",
       "      <td>0</td>\n",
       "      <td>&lt;NA&gt;</td>\n",
       "      <td>&lt;NA&gt;</td>\n",
       "      <td>0</td>\n",
       "      <td>0</td>\n",
       "      <td>16</td>\n",
       "    </tr>\n",
       "    <tr>\n",
       "      <th>2106</th>\n",
       "      <td>bbcb018f0e5e49e13636f6e78ce9f60f</td>\n",
       "      <td>20220319</td>\n",
       "      <td>12</td>\n",
       "      <td>18163</td>\n",
       "      <td>10203</td>\n",
       "      <td>Census Tract 102.03, Vanderburgh County, Indiana</td>\n",
       "      <td>33</td>\n",
       "      <td>0</td>\n",
       "      <td>&lt;NA&gt;</td>\n",
       "      <td>&lt;NA&gt;</td>\n",
       "      <td>...</td>\n",
       "      <td>&lt;NA&gt;</td>\n",
       "      <td>&lt;NA&gt;</td>\n",
       "      <td>0</td>\n",
       "      <td>0</td>\n",
       "      <td>0</td>\n",
       "      <td>&lt;NA&gt;</td>\n",
       "      <td>&lt;NA&gt;</td>\n",
       "      <td>0</td>\n",
       "      <td>0</td>\n",
       "      <td>&lt;NA&gt;</td>\n",
       "    </tr>\n",
       "    <tr>\n",
       "      <th>16831</th>\n",
       "      <td>bbcb018f0e5e49e13636f6e78ce9f60f</td>\n",
       "      <td>20220326</td>\n",
       "      <td>13</td>\n",
       "      <td>18163</td>\n",
       "      <td>10203</td>\n",
       "      <td>Census Tract 102.03, Vanderburgh County, Indiana</td>\n",
       "      <td>53</td>\n",
       "      <td>0</td>\n",
       "      <td>&lt;NA&gt;</td>\n",
       "      <td>48</td>\n",
       "      <td>...</td>\n",
       "      <td>&lt;NA&gt;</td>\n",
       "      <td>&lt;NA&gt;</td>\n",
       "      <td>0</td>\n",
       "      <td>0</td>\n",
       "      <td>0</td>\n",
       "      <td>&lt;NA&gt;</td>\n",
       "      <td>&lt;NA&gt;</td>\n",
       "      <td>0</td>\n",
       "      <td>0</td>\n",
       "      <td>&lt;NA&gt;</td>\n",
       "    </tr>\n",
       "    <tr>\n",
       "      <th>15842</th>\n",
       "      <td>bbcb018f0e5e49e13636f6e78ce9f60f</td>\n",
       "      <td>20220402</td>\n",
       "      <td>14</td>\n",
       "      <td>18163</td>\n",
       "      <td>10203</td>\n",
       "      <td>Census Tract 102.03, Vanderburgh County, Indiana</td>\n",
       "      <td>28</td>\n",
       "      <td>0</td>\n",
       "      <td>&lt;NA&gt;</td>\n",
       "      <td>&lt;NA&gt;</td>\n",
       "      <td>...</td>\n",
       "      <td>12</td>\n",
       "      <td>16</td>\n",
       "      <td>0</td>\n",
       "      <td>&lt;NA&gt;</td>\n",
       "      <td>0</td>\n",
       "      <td>0</td>\n",
       "      <td>&lt;NA&gt;</td>\n",
       "      <td>0</td>\n",
       "      <td>0</td>\n",
       "      <td>23</td>\n",
       "    </tr>\n",
       "    <tr>\n",
       "      <th>6957</th>\n",
       "      <td>bbcb018f0e5e49e13636f6e78ce9f60f</td>\n",
       "      <td>20220409</td>\n",
       "      <td>15</td>\n",
       "      <td>18163</td>\n",
       "      <td>10203</td>\n",
       "      <td>Census Tract 102.03, Vanderburgh County, Indiana</td>\n",
       "      <td>26</td>\n",
       "      <td>0</td>\n",
       "      <td>&lt;NA&gt;</td>\n",
       "      <td>12</td>\n",
       "      <td>...</td>\n",
       "      <td>&lt;NA&gt;</td>\n",
       "      <td>&lt;NA&gt;</td>\n",
       "      <td>0</td>\n",
       "      <td>&lt;NA&gt;</td>\n",
       "      <td>0</td>\n",
       "      <td>&lt;NA&gt;</td>\n",
       "      <td>&lt;NA&gt;</td>\n",
       "      <td>0</td>\n",
       "      <td>&lt;NA&gt;</td>\n",
       "      <td>20</td>\n",
       "    </tr>\n",
       "    <tr>\n",
       "      <th>16832</th>\n",
       "      <td>bbcb018f0e5e49e13636f6e78ce9f60f</td>\n",
       "      <td>20220416</td>\n",
       "      <td>16</td>\n",
       "      <td>18163</td>\n",
       "      <td>10203</td>\n",
       "      <td>Census Tract 102.03, Vanderburgh County, Indiana</td>\n",
       "      <td>24</td>\n",
       "      <td>0</td>\n",
       "      <td>&lt;NA&gt;</td>\n",
       "      <td>18</td>\n",
       "      <td>...</td>\n",
       "      <td>11</td>\n",
       "      <td>13</td>\n",
       "      <td>0</td>\n",
       "      <td>0</td>\n",
       "      <td>&lt;NA&gt;</td>\n",
       "      <td>&lt;NA&gt;</td>\n",
       "      <td>&lt;NA&gt;</td>\n",
       "      <td>0</td>\n",
       "      <td>0</td>\n",
       "      <td>&lt;NA&gt;</td>\n",
       "    </tr>\n",
       "    <tr>\n",
       "      <th>15836</th>\n",
       "      <td>bbcb018f0e5e49e13636f6e78ce9f60f</td>\n",
       "      <td>20220423</td>\n",
       "      <td>17</td>\n",
       "      <td>18163</td>\n",
       "      <td>10203</td>\n",
       "      <td>Census Tract 102.03, Vanderburgh County, Indiana</td>\n",
       "      <td>48</td>\n",
       "      <td>0</td>\n",
       "      <td>&lt;NA&gt;</td>\n",
       "      <td>36</td>\n",
       "      <td>...</td>\n",
       "      <td>10</td>\n",
       "      <td>38</td>\n",
       "      <td>0</td>\n",
       "      <td>&lt;NA&gt;</td>\n",
       "      <td>0</td>\n",
       "      <td>21</td>\n",
       "      <td>&lt;NA&gt;</td>\n",
       "      <td>0</td>\n",
       "      <td>&lt;NA&gt;</td>\n",
       "      <td>23</td>\n",
       "    </tr>\n",
       "    <tr>\n",
       "      <th>2102</th>\n",
       "      <td>bbcb018f0e5e49e13636f6e78ce9f60f</td>\n",
       "      <td>20220430</td>\n",
       "      <td>18</td>\n",
       "      <td>18163</td>\n",
       "      <td>10203</td>\n",
       "      <td>Census Tract 102.03, Vanderburgh County, Indiana</td>\n",
       "      <td>23</td>\n",
       "      <td>0</td>\n",
       "      <td>&lt;NA&gt;</td>\n",
       "      <td>&lt;NA&gt;</td>\n",
       "      <td>...</td>\n",
       "      <td>&lt;NA&gt;</td>\n",
       "      <td>&lt;NA&gt;</td>\n",
       "      <td>0</td>\n",
       "      <td>&lt;NA&gt;</td>\n",
       "      <td>0</td>\n",
       "      <td>0</td>\n",
       "      <td>&lt;NA&gt;</td>\n",
       "      <td>0</td>\n",
       "      <td>&lt;NA&gt;</td>\n",
       "      <td>17</td>\n",
       "    </tr>\n",
       "    <tr>\n",
       "      <th>15844</th>\n",
       "      <td>bbcb018f0e5e49e13636f6e78ce9f60f</td>\n",
       "      <td>20220507</td>\n",
       "      <td>19</td>\n",
       "      <td>18163</td>\n",
       "      <td>10203</td>\n",
       "      <td>Census Tract 102.03, Vanderburgh County, Indiana</td>\n",
       "      <td>13</td>\n",
       "      <td>0</td>\n",
       "      <td>&lt;NA&gt;</td>\n",
       "      <td>&lt;NA&gt;</td>\n",
       "      <td>...</td>\n",
       "      <td>&lt;NA&gt;</td>\n",
       "      <td>&lt;NA&gt;</td>\n",
       "      <td>0</td>\n",
       "      <td>0</td>\n",
       "      <td>0</td>\n",
       "      <td>0</td>\n",
       "      <td>&lt;NA&gt;</td>\n",
       "      <td>0</td>\n",
       "      <td>0</td>\n",
       "      <td>&lt;NA&gt;</td>\n",
       "    </tr>\n",
       "    <tr>\n",
       "      <th>14231</th>\n",
       "      <td>bbcb018f0e5e49e13636f6e78ce9f60f</td>\n",
       "      <td>20220514</td>\n",
       "      <td>20</td>\n",
       "      <td>18163</td>\n",
       "      <td>10203</td>\n",
       "      <td>Census Tract 102.03, Vanderburgh County, Indiana</td>\n",
       "      <td>21</td>\n",
       "      <td>0</td>\n",
       "      <td>&lt;NA&gt;</td>\n",
       "      <td>&lt;NA&gt;</td>\n",
       "      <td>...</td>\n",
       "      <td>&lt;NA&gt;</td>\n",
       "      <td>&lt;NA&gt;</td>\n",
       "      <td>0</td>\n",
       "      <td>0</td>\n",
       "      <td>0</td>\n",
       "      <td>&lt;NA&gt;</td>\n",
       "      <td>&lt;NA&gt;</td>\n",
       "      <td>0</td>\n",
       "      <td>0</td>\n",
       "      <td>17</td>\n",
       "    </tr>\n",
       "    <tr>\n",
       "      <th>2545</th>\n",
       "      <td>bbcb018f0e5e49e13636f6e78ce9f60f</td>\n",
       "      <td>20220521</td>\n",
       "      <td>21</td>\n",
       "      <td>18163</td>\n",
       "      <td>10203</td>\n",
       "      <td>Census Tract 102.03, Vanderburgh County, Indiana</td>\n",
       "      <td>38</td>\n",
       "      <td>0</td>\n",
       "      <td>&lt;NA&gt;</td>\n",
       "      <td>26</td>\n",
       "      <td>...</td>\n",
       "      <td>16</td>\n",
       "      <td>22</td>\n",
       "      <td>0</td>\n",
       "      <td>0</td>\n",
       "      <td>0</td>\n",
       "      <td>&lt;NA&gt;</td>\n",
       "      <td>&lt;NA&gt;</td>\n",
       "      <td>0</td>\n",
       "      <td>0</td>\n",
       "      <td>24</td>\n",
       "    </tr>\n",
       "    <tr>\n",
       "      <th>11572</th>\n",
       "      <td>bbcb018f0e5e49e13636f6e78ce9f60f</td>\n",
       "      <td>20220528</td>\n",
       "      <td>22</td>\n",
       "      <td>18163</td>\n",
       "      <td>10203</td>\n",
       "      <td>Census Tract 102.03, Vanderburgh County, Indiana</td>\n",
       "      <td>27</td>\n",
       "      <td>0</td>\n",
       "      <td>&lt;NA&gt;</td>\n",
       "      <td>&lt;NA&gt;</td>\n",
       "      <td>...</td>\n",
       "      <td>12</td>\n",
       "      <td>15</td>\n",
       "      <td>0</td>\n",
       "      <td>0</td>\n",
       "      <td>0</td>\n",
       "      <td>&lt;NA&gt;</td>\n",
       "      <td>&lt;NA&gt;</td>\n",
       "      <td>0</td>\n",
       "      <td>&lt;NA&gt;</td>\n",
       "      <td>&lt;NA&gt;</td>\n",
       "    </tr>\n",
       "    <tr>\n",
       "      <th>3652</th>\n",
       "      <td>bbcb018f0e5e49e13636f6e78ce9f60f</td>\n",
       "      <td>20220611</td>\n",
       "      <td>24</td>\n",
       "      <td>18163</td>\n",
       "      <td>10203</td>\n",
       "      <td>Census Tract 102.03, Vanderburgh County, Indiana</td>\n",
       "      <td>35</td>\n",
       "      <td>&lt;NA&gt;</td>\n",
       "      <td>18</td>\n",
       "      <td>&lt;NA&gt;</td>\n",
       "      <td>...</td>\n",
       "      <td>23</td>\n",
       "      <td>12</td>\n",
       "      <td>0</td>\n",
       "      <td>0</td>\n",
       "      <td>0</td>\n",
       "      <td>&lt;NA&gt;</td>\n",
       "      <td>&lt;NA&gt;</td>\n",
       "      <td>0</td>\n",
       "      <td>0</td>\n",
       "      <td>&lt;NA&gt;</td>\n",
       "    </tr>\n",
       "    <tr>\n",
       "      <th>2100</th>\n",
       "      <td>bbcb018f0e5e49e13636f6e78ce9f60f</td>\n",
       "      <td>20220618</td>\n",
       "      <td>25</td>\n",
       "      <td>18163</td>\n",
       "      <td>10203</td>\n",
       "      <td>Census Tract 102.03, Vanderburgh County, Indiana</td>\n",
       "      <td>23</td>\n",
       "      <td>0</td>\n",
       "      <td>&lt;NA&gt;</td>\n",
       "      <td>&lt;NA&gt;</td>\n",
       "      <td>...</td>\n",
       "      <td>11</td>\n",
       "      <td>12</td>\n",
       "      <td>0</td>\n",
       "      <td>0</td>\n",
       "      <td>0</td>\n",
       "      <td>&lt;NA&gt;</td>\n",
       "      <td>&lt;NA&gt;</td>\n",
       "      <td>0</td>\n",
       "      <td>0</td>\n",
       "      <td>&lt;NA&gt;</td>\n",
       "    </tr>\n",
       "    <tr>\n",
       "      <th>14235</th>\n",
       "      <td>bbcb018f0e5e49e13636f6e78ce9f60f</td>\n",
       "      <td>20220625</td>\n",
       "      <td>26</td>\n",
       "      <td>18163</td>\n",
       "      <td>10203</td>\n",
       "      <td>Census Tract 102.03, Vanderburgh County, Indiana</td>\n",
       "      <td>19</td>\n",
       "      <td>0</td>\n",
       "      <td>&lt;NA&gt;</td>\n",
       "      <td>&lt;NA&gt;</td>\n",
       "      <td>...</td>\n",
       "      <td>&lt;NA&gt;</td>\n",
       "      <td>&lt;NA&gt;</td>\n",
       "      <td>0</td>\n",
       "      <td>0</td>\n",
       "      <td>0</td>\n",
       "      <td>&lt;NA&gt;</td>\n",
       "      <td>0</td>\n",
       "      <td>0</td>\n",
       "      <td>0</td>\n",
       "      <td>&lt;NA&gt;</td>\n",
       "    </tr>\n",
       "    <tr>\n",
       "      <th>14232</th>\n",
       "      <td>bbcb018f0e5e49e13636f6e78ce9f60f</td>\n",
       "      <td>20220702</td>\n",
       "      <td>27</td>\n",
       "      <td>18163</td>\n",
       "      <td>10203</td>\n",
       "      <td>Census Tract 102.03, Vanderburgh County, Indiana</td>\n",
       "      <td>11</td>\n",
       "      <td>0</td>\n",
       "      <td>0</td>\n",
       "      <td>&lt;NA&gt;</td>\n",
       "      <td>...</td>\n",
       "      <td>&lt;NA&gt;</td>\n",
       "      <td>&lt;NA&gt;</td>\n",
       "      <td>0</td>\n",
       "      <td>0</td>\n",
       "      <td>0</td>\n",
       "      <td>&lt;NA&gt;</td>\n",
       "      <td>&lt;NA&gt;</td>\n",
       "      <td>0</td>\n",
       "      <td>0</td>\n",
       "      <td>&lt;NA&gt;</td>\n",
       "    </tr>\n",
       "    <tr>\n",
       "      <th>11573</th>\n",
       "      <td>bbcb018f0e5e49e13636f6e78ce9f60f</td>\n",
       "      <td>20220709</td>\n",
       "      <td>28</td>\n",
       "      <td>18163</td>\n",
       "      <td>10203</td>\n",
       "      <td>Census Tract 102.03, Vanderburgh County, Indiana</td>\n",
       "      <td>24</td>\n",
       "      <td>0</td>\n",
       "      <td>&lt;NA&gt;</td>\n",
       "      <td>14</td>\n",
       "      <td>...</td>\n",
       "      <td>&lt;NA&gt;</td>\n",
       "      <td>&lt;NA&gt;</td>\n",
       "      <td>0</td>\n",
       "      <td>0</td>\n",
       "      <td>0</td>\n",
       "      <td>&lt;NA&gt;</td>\n",
       "      <td>0</td>\n",
       "      <td>0</td>\n",
       "      <td>0</td>\n",
       "      <td>&lt;NA&gt;</td>\n",
       "    </tr>\n",
       "    <tr>\n",
       "      <th>14233</th>\n",
       "      <td>bbcb018f0e5e49e13636f6e78ce9f60f</td>\n",
       "      <td>20220716</td>\n",
       "      <td>29</td>\n",
       "      <td>18163</td>\n",
       "      <td>10203</td>\n",
       "      <td>Census Tract 102.03, Vanderburgh County, Indiana</td>\n",
       "      <td>19</td>\n",
       "      <td>0</td>\n",
       "      <td>&lt;NA&gt;</td>\n",
       "      <td>12</td>\n",
       "      <td>...</td>\n",
       "      <td>&lt;NA&gt;</td>\n",
       "      <td>&lt;NA&gt;</td>\n",
       "      <td>0</td>\n",
       "      <td>0</td>\n",
       "      <td>0</td>\n",
       "      <td>&lt;NA&gt;</td>\n",
       "      <td>&lt;NA&gt;</td>\n",
       "      <td>0</td>\n",
       "      <td>&lt;NA&gt;</td>\n",
       "      <td>&lt;NA&gt;</td>\n",
       "    </tr>\n",
       "    <tr>\n",
       "      <th>2103</th>\n",
       "      <td>bbcb018f0e5e49e13636f6e78ce9f60f</td>\n",
       "      <td>20220723</td>\n",
       "      <td>30</td>\n",
       "      <td>18163</td>\n",
       "      <td>10203</td>\n",
       "      <td>Census Tract 102.03, Vanderburgh County, Indiana</td>\n",
       "      <td>27</td>\n",
       "      <td>0</td>\n",
       "      <td>&lt;NA&gt;</td>\n",
       "      <td>18</td>\n",
       "      <td>...</td>\n",
       "      <td>&lt;NA&gt;</td>\n",
       "      <td>&lt;NA&gt;</td>\n",
       "      <td>0</td>\n",
       "      <td>0</td>\n",
       "      <td>0</td>\n",
       "      <td>0</td>\n",
       "      <td>&lt;NA&gt;</td>\n",
       "      <td>0</td>\n",
       "      <td>0</td>\n",
       "      <td>&lt;NA&gt;</td>\n",
       "    </tr>\n",
       "    <tr>\n",
       "      <th>9781</th>\n",
       "      <td>bbcb018f0e5e49e13636f6e78ce9f60f</td>\n",
       "      <td>20220730</td>\n",
       "      <td>31</td>\n",
       "      <td>18163</td>\n",
       "      <td>10203</td>\n",
       "      <td>Census Tract 102.03, Vanderburgh County, Indiana</td>\n",
       "      <td>17</td>\n",
       "      <td>0</td>\n",
       "      <td>&lt;NA&gt;</td>\n",
       "      <td>&lt;NA&gt;</td>\n",
       "      <td>...</td>\n",
       "      <td>&lt;NA&gt;</td>\n",
       "      <td>&lt;NA&gt;</td>\n",
       "      <td>0</td>\n",
       "      <td>0</td>\n",
       "      <td>0</td>\n",
       "      <td>0</td>\n",
       "      <td>&lt;NA&gt;</td>\n",
       "      <td>0</td>\n",
       "      <td>0</td>\n",
       "      <td>&lt;NA&gt;</td>\n",
       "    </tr>\n",
       "    <tr>\n",
       "      <th>6959</th>\n",
       "      <td>bbcb018f0e5e49e13636f6e78ce9f60f</td>\n",
       "      <td>20220806</td>\n",
       "      <td>32</td>\n",
       "      <td>18163</td>\n",
       "      <td>10203</td>\n",
       "      <td>Census Tract 102.03, Vanderburgh County, Indiana</td>\n",
       "      <td>28</td>\n",
       "      <td>&lt;NA&gt;</td>\n",
       "      <td>&lt;NA&gt;</td>\n",
       "      <td>16</td>\n",
       "      <td>...</td>\n",
       "      <td>&lt;NA&gt;</td>\n",
       "      <td>&lt;NA&gt;</td>\n",
       "      <td>0</td>\n",
       "      <td>0</td>\n",
       "      <td>0</td>\n",
       "      <td>&lt;NA&gt;</td>\n",
       "      <td>&lt;NA&gt;</td>\n",
       "      <td>0</td>\n",
       "      <td>0</td>\n",
       "      <td>24</td>\n",
       "    </tr>\n",
       "    <tr>\n",
       "      <th>2105</th>\n",
       "      <td>bbcb018f0e5e49e13636f6e78ce9f60f</td>\n",
       "      <td>20220813</td>\n",
       "      <td>33</td>\n",
       "      <td>18163</td>\n",
       "      <td>10203</td>\n",
       "      <td>Census Tract 102.03, Vanderburgh County, Indiana</td>\n",
       "      <td>23</td>\n",
       "      <td>0</td>\n",
       "      <td>&lt;NA&gt;</td>\n",
       "      <td>10</td>\n",
       "      <td>...</td>\n",
       "      <td>&lt;NA&gt;</td>\n",
       "      <td>&lt;NA&gt;</td>\n",
       "      <td>0</td>\n",
       "      <td>0</td>\n",
       "      <td>0</td>\n",
       "      <td>&lt;NA&gt;</td>\n",
       "      <td>0</td>\n",
       "      <td>0</td>\n",
       "      <td>&lt;NA&gt;</td>\n",
       "      <td>&lt;NA&gt;</td>\n",
       "    </tr>\n",
       "    <tr>\n",
       "      <th>14229</th>\n",
       "      <td>bbcb018f0e5e49e13636f6e78ce9f60f</td>\n",
       "      <td>20220820</td>\n",
       "      <td>34</td>\n",
       "      <td>18163</td>\n",
       "      <td>10203</td>\n",
       "      <td>Census Tract 102.03, Vanderburgh County, Indiana</td>\n",
       "      <td>24</td>\n",
       "      <td>0</td>\n",
       "      <td>&lt;NA&gt;</td>\n",
       "      <td>&lt;NA&gt;</td>\n",
       "      <td>...</td>\n",
       "      <td>12</td>\n",
       "      <td>12</td>\n",
       "      <td>0</td>\n",
       "      <td>0</td>\n",
       "      <td>0</td>\n",
       "      <td>0</td>\n",
       "      <td>&lt;NA&gt;</td>\n",
       "      <td>0</td>\n",
       "      <td>0</td>\n",
       "      <td>&lt;NA&gt;</td>\n",
       "    </tr>\n",
       "    <tr>\n",
       "      <th>2099</th>\n",
       "      <td>bbcb018f0e5e49e13636f6e78ce9f60f</td>\n",
       "      <td>20220827</td>\n",
       "      <td>35</td>\n",
       "      <td>18163</td>\n",
       "      <td>10203</td>\n",
       "      <td>Census Tract 102.03, Vanderburgh County, Indiana</td>\n",
       "      <td>28</td>\n",
       "      <td>0</td>\n",
       "      <td>&lt;NA&gt;</td>\n",
       "      <td>&lt;NA&gt;</td>\n",
       "      <td>...</td>\n",
       "      <td>&lt;NA&gt;</td>\n",
       "      <td>&lt;NA&gt;</td>\n",
       "      <td>0</td>\n",
       "      <td>0</td>\n",
       "      <td>&lt;NA&gt;</td>\n",
       "      <td>&lt;NA&gt;</td>\n",
       "      <td>&lt;NA&gt;</td>\n",
       "      <td>0</td>\n",
       "      <td>0</td>\n",
       "      <td>&lt;NA&gt;</td>\n",
       "    </tr>\n",
       "    <tr>\n",
       "      <th>15840</th>\n",
       "      <td>bbcb018f0e5e49e13636f6e78ce9f60f</td>\n",
       "      <td>20220903</td>\n",
       "      <td>36</td>\n",
       "      <td>18163</td>\n",
       "      <td>10203</td>\n",
       "      <td>Census Tract 102.03, Vanderburgh County, Indiana</td>\n",
       "      <td>75</td>\n",
       "      <td>0</td>\n",
       "      <td>&lt;NA&gt;</td>\n",
       "      <td>62</td>\n",
       "      <td>...</td>\n",
       "      <td>&lt;NA&gt;</td>\n",
       "      <td>&lt;NA&gt;</td>\n",
       "      <td>0</td>\n",
       "      <td>0</td>\n",
       "      <td>&lt;NA&gt;</td>\n",
       "      <td>&lt;NA&gt;</td>\n",
       "      <td>&lt;NA&gt;</td>\n",
       "      <td>0</td>\n",
       "      <td>0</td>\n",
       "      <td>&lt;NA&gt;</td>\n",
       "    </tr>\n",
       "    <tr>\n",
       "      <th>12120</th>\n",
       "      <td>bbcb018f0e5e49e13636f6e78ce9f60f</td>\n",
       "      <td>20220910</td>\n",
       "      <td>37</td>\n",
       "      <td>18163</td>\n",
       "      <td>10203</td>\n",
       "      <td>Census Tract 102.03, Vanderburgh County, Indiana</td>\n",
       "      <td>13</td>\n",
       "      <td>0</td>\n",
       "      <td>&lt;NA&gt;</td>\n",
       "      <td>&lt;NA&gt;</td>\n",
       "      <td>...</td>\n",
       "      <td>&lt;NA&gt;</td>\n",
       "      <td>&lt;NA&gt;</td>\n",
       "      <td>0</td>\n",
       "      <td>0</td>\n",
       "      <td>0</td>\n",
       "      <td>0</td>\n",
       "      <td>0</td>\n",
       "      <td>0</td>\n",
       "      <td>0</td>\n",
       "      <td>13</td>\n",
       "    </tr>\n",
       "  </tbody>\n",
       "</table>\n",
       "<p>35 rows × 25 columns</p>\n",
       "</div>"
      ],
      "text/plain": [
       "                                  uu_id  timeperiod  week_number  countyfips  \\\n",
       "6958   bbcb018f0e5e49e13636f6e78ce9f60f    20220101            1       18163   \n",
       "15838  bbcb018f0e5e49e13636f6e78ce9f60f    20220108            2       18163   \n",
       "3018   bbcb018f0e5e49e13636f6e78ce9f60f    20220115            3       18163   \n",
       "15843  bbcb018f0e5e49e13636f6e78ce9f60f    20220129            5       18163   \n",
       "15837  bbcb018f0e5e49e13636f6e78ce9f60f    20220205            6       18163   \n",
       "14230  bbcb018f0e5e49e13636f6e78ce9f60f    20220212            7       18163   \n",
       "15839  bbcb018f0e5e49e13636f6e78ce9f60f    20220219            8       18163   \n",
       "3019   bbcb018f0e5e49e13636f6e78ce9f60f    20220226            9       18163   \n",
       "15845  bbcb018f0e5e49e13636f6e78ce9f60f    20220305           10       18163   \n",
       "15835  bbcb018f0e5e49e13636f6e78ce9f60f    20220312           11       18163   \n",
       "2106   bbcb018f0e5e49e13636f6e78ce9f60f    20220319           12       18163   \n",
       "16831  bbcb018f0e5e49e13636f6e78ce9f60f    20220326           13       18163   \n",
       "15842  bbcb018f0e5e49e13636f6e78ce9f60f    20220402           14       18163   \n",
       "6957   bbcb018f0e5e49e13636f6e78ce9f60f    20220409           15       18163   \n",
       "16832  bbcb018f0e5e49e13636f6e78ce9f60f    20220416           16       18163   \n",
       "15836  bbcb018f0e5e49e13636f6e78ce9f60f    20220423           17       18163   \n",
       "2102   bbcb018f0e5e49e13636f6e78ce9f60f    20220430           18       18163   \n",
       "15844  bbcb018f0e5e49e13636f6e78ce9f60f    20220507           19       18163   \n",
       "14231  bbcb018f0e5e49e13636f6e78ce9f60f    20220514           20       18163   \n",
       "2545   bbcb018f0e5e49e13636f6e78ce9f60f    20220521           21       18163   \n",
       "11572  bbcb018f0e5e49e13636f6e78ce9f60f    20220528           22       18163   \n",
       "3652   bbcb018f0e5e49e13636f6e78ce9f60f    20220611           24       18163   \n",
       "2100   bbcb018f0e5e49e13636f6e78ce9f60f    20220618           25       18163   \n",
       "14235  bbcb018f0e5e49e13636f6e78ce9f60f    20220625           26       18163   \n",
       "14232  bbcb018f0e5e49e13636f6e78ce9f60f    20220702           27       18163   \n",
       "11573  bbcb018f0e5e49e13636f6e78ce9f60f    20220709           28       18163   \n",
       "14233  bbcb018f0e5e49e13636f6e78ce9f60f    20220716           29       18163   \n",
       "2103   bbcb018f0e5e49e13636f6e78ce9f60f    20220723           30       18163   \n",
       "9781   bbcb018f0e5e49e13636f6e78ce9f60f    20220730           31       18163   \n",
       "6959   bbcb018f0e5e49e13636f6e78ce9f60f    20220806           32       18163   \n",
       "2105   bbcb018f0e5e49e13636f6e78ce9f60f    20220813           33       18163   \n",
       "14229  bbcb018f0e5e49e13636f6e78ce9f60f    20220820           34       18163   \n",
       "2099   bbcb018f0e5e49e13636f6e78ce9f60f    20220827           35       18163   \n",
       "15840  bbcb018f0e5e49e13636f6e78ce9f60f    20220903           36       18163   \n",
       "12120  bbcb018f0e5e49e13636f6e78ce9f60f    20220910           37       18163   \n",
       "\n",
       "       tract                                        tract_name  total_claims  \\\n",
       "6958   10203  Census Tract 102.03, Vanderburgh County, Indiana            23   \n",
       "15838  10203  Census Tract 102.03, Vanderburgh County, Indiana            29   \n",
       "3018   10203  Census Tract 102.03, Vanderburgh County, Indiana            30   \n",
       "15843  10203  Census Tract 102.03, Vanderburgh County, Indiana            30   \n",
       "15837  10203  Census Tract 102.03, Vanderburgh County, Indiana            32   \n",
       "14230  10203  Census Tract 102.03, Vanderburgh County, Indiana            22   \n",
       "15839  10203  Census Tract 102.03, Vanderburgh County, Indiana            26   \n",
       "3019   10203  Census Tract 102.03, Vanderburgh County, Indiana            23   \n",
       "15845  10203  Census Tract 102.03, Vanderburgh County, Indiana            21   \n",
       "15835  10203  Census Tract 102.03, Vanderburgh County, Indiana            19   \n",
       "2106   10203  Census Tract 102.03, Vanderburgh County, Indiana            33   \n",
       "16831  10203  Census Tract 102.03, Vanderburgh County, Indiana            53   \n",
       "15842  10203  Census Tract 102.03, Vanderburgh County, Indiana            28   \n",
       "6957   10203  Census Tract 102.03, Vanderburgh County, Indiana            26   \n",
       "16832  10203  Census Tract 102.03, Vanderburgh County, Indiana            24   \n",
       "15836  10203  Census Tract 102.03, Vanderburgh County, Indiana            48   \n",
       "2102   10203  Census Tract 102.03, Vanderburgh County, Indiana            23   \n",
       "15844  10203  Census Tract 102.03, Vanderburgh County, Indiana            13   \n",
       "14231  10203  Census Tract 102.03, Vanderburgh County, Indiana            21   \n",
       "2545   10203  Census Tract 102.03, Vanderburgh County, Indiana            38   \n",
       "11572  10203  Census Tract 102.03, Vanderburgh County, Indiana            27   \n",
       "3652   10203  Census Tract 102.03, Vanderburgh County, Indiana            35   \n",
       "2100   10203  Census Tract 102.03, Vanderburgh County, Indiana            23   \n",
       "14235  10203  Census Tract 102.03, Vanderburgh County, Indiana            19   \n",
       "14232  10203  Census Tract 102.03, Vanderburgh County, Indiana            11   \n",
       "11573  10203  Census Tract 102.03, Vanderburgh County, Indiana            24   \n",
       "14233  10203  Census Tract 102.03, Vanderburgh County, Indiana            19   \n",
       "2103   10203  Census Tract 102.03, Vanderburgh County, Indiana            27   \n",
       "9781   10203  Census Tract 102.03, Vanderburgh County, Indiana            17   \n",
       "6959   10203  Census Tract 102.03, Vanderburgh County, Indiana            28   \n",
       "2105   10203  Census Tract 102.03, Vanderburgh County, Indiana            23   \n",
       "14229  10203  Census Tract 102.03, Vanderburgh County, Indiana            24   \n",
       "2099   10203  Census Tract 102.03, Vanderburgh County, Indiana            28   \n",
       "15840  10203  Census Tract 102.03, Vanderburgh County, Indiana            75   \n",
       "12120  10203  Census Tract 102.03, Vanderburgh County, Indiana            13   \n",
       "\n",
       "       edu_8th_or_less  edu_grades_9_11  edu_hs_grad_equiv  ...  \\\n",
       "6958              <NA>             <NA>                 13  ...   \n",
       "15838                0             <NA>                 17  ...   \n",
       "3018                 0             <NA>               <NA>  ...   \n",
       "15843                0             <NA>                 15  ...   \n",
       "15837                0             <NA>                 18  ...   \n",
       "14230                0             <NA>                 14  ...   \n",
       "15839                0             <NA>                 17  ...   \n",
       "3019                 0             <NA>                 13  ...   \n",
       "15845                0             <NA>                 10  ...   \n",
       "15835                0             <NA>               <NA>  ...   \n",
       "2106                 0             <NA>               <NA>  ...   \n",
       "16831                0             <NA>                 48  ...   \n",
       "15842                0             <NA>               <NA>  ...   \n",
       "6957                 0             <NA>                 12  ...   \n",
       "16832                0             <NA>                 18  ...   \n",
       "15836                0             <NA>                 36  ...   \n",
       "2102                 0             <NA>               <NA>  ...   \n",
       "15844                0             <NA>               <NA>  ...   \n",
       "14231                0             <NA>               <NA>  ...   \n",
       "2545                 0             <NA>                 26  ...   \n",
       "11572                0             <NA>               <NA>  ...   \n",
       "3652              <NA>               18               <NA>  ...   \n",
       "2100                 0             <NA>               <NA>  ...   \n",
       "14235                0             <NA>               <NA>  ...   \n",
       "14232                0                0               <NA>  ...   \n",
       "11573                0             <NA>                 14  ...   \n",
       "14233                0             <NA>                 12  ...   \n",
       "2103                 0             <NA>                 18  ...   \n",
       "9781                 0             <NA>               <NA>  ...   \n",
       "6959              <NA>             <NA>                 16  ...   \n",
       "2105                 0             <NA>                 10  ...   \n",
       "14229                0             <NA>               <NA>  ...   \n",
       "2099                 0             <NA>               <NA>  ...   \n",
       "15840                0             <NA>                 62  ...   \n",
       "12120                0             <NA>               <NA>  ...   \n",
       "\n",
       "       gender_female  gender_male gender_na race_amerindian race_asian  \\\n",
       "6958              11           12         0               0          0   \n",
       "15838             15           14         0               0          0   \n",
       "3018              13           17         0               0       <NA>   \n",
       "15843             12           18         0               0          0   \n",
       "15837             12           20         0               0          0   \n",
       "14230           <NA>         <NA>         0               0          0   \n",
       "15839             11           15         0               0          0   \n",
       "3019            <NA>         <NA>         0               0          0   \n",
       "15845           <NA>         <NA>         0               0          0   \n",
       "15835           <NA>         <NA>         0               0          0   \n",
       "2106            <NA>         <NA>         0               0          0   \n",
       "16831           <NA>         <NA>         0               0          0   \n",
       "15842             12           16         0            <NA>          0   \n",
       "6957            <NA>         <NA>         0            <NA>          0   \n",
       "16832             11           13         0               0       <NA>   \n",
       "15836             10           38         0            <NA>          0   \n",
       "2102            <NA>         <NA>         0            <NA>          0   \n",
       "15844           <NA>         <NA>         0               0          0   \n",
       "14231           <NA>         <NA>         0               0          0   \n",
       "2545              16           22         0               0          0   \n",
       "11572             12           15         0               0          0   \n",
       "3652              23           12         0               0          0   \n",
       "2100              11           12         0               0          0   \n",
       "14235           <NA>         <NA>         0               0          0   \n",
       "14232           <NA>         <NA>         0               0          0   \n",
       "11573           <NA>         <NA>         0               0          0   \n",
       "14233           <NA>         <NA>         0               0          0   \n",
       "2103            <NA>         <NA>         0               0          0   \n",
       "9781            <NA>         <NA>         0               0          0   \n",
       "6959            <NA>         <NA>         0               0          0   \n",
       "2105            <NA>         <NA>         0               0          0   \n",
       "14229             12           12         0               0          0   \n",
       "2099            <NA>         <NA>         0               0       <NA>   \n",
       "15840           <NA>         <NA>         0               0       <NA>   \n",
       "12120           <NA>         <NA>         0               0          0   \n",
       "\n",
       "       race_black  race_noanswer  race_hawaiiannative  race_other  race_white  \n",
       "6958            0           <NA>                    0           0        <NA>  \n",
       "15838        <NA>           <NA>                    0           0          25  \n",
       "3018            0           <NA>                    0           0          26  \n",
       "15843           0           <NA>                    0           0        <NA>  \n",
       "15837           0           <NA>                    0        <NA>          29  \n",
       "14230        <NA>           <NA>                    0        <NA>          17  \n",
       "15839           0           <NA>                    0           0        <NA>  \n",
       "3019            0           <NA>                    0           0        <NA>  \n",
       "15845           0           <NA>                    0           0        <NA>  \n",
       "15835        <NA>           <NA>                    0           0          16  \n",
       "2106         <NA>           <NA>                    0           0        <NA>  \n",
       "16831        <NA>           <NA>                    0           0        <NA>  \n",
       "15842           0           <NA>                    0           0          23  \n",
       "6957         <NA>           <NA>                    0        <NA>          20  \n",
       "16832        <NA>           <NA>                    0           0        <NA>  \n",
       "15836          21           <NA>                    0        <NA>          23  \n",
       "2102            0           <NA>                    0        <NA>          17  \n",
       "15844           0           <NA>                    0           0        <NA>  \n",
       "14231        <NA>           <NA>                    0           0          17  \n",
       "2545         <NA>           <NA>                    0           0          24  \n",
       "11572        <NA>           <NA>                    0        <NA>        <NA>  \n",
       "3652         <NA>           <NA>                    0           0        <NA>  \n",
       "2100         <NA>           <NA>                    0           0        <NA>  \n",
       "14235        <NA>              0                    0           0        <NA>  \n",
       "14232        <NA>           <NA>                    0           0        <NA>  \n",
       "11573        <NA>              0                    0           0        <NA>  \n",
       "14233        <NA>           <NA>                    0        <NA>        <NA>  \n",
       "2103            0           <NA>                    0           0        <NA>  \n",
       "9781            0           <NA>                    0           0        <NA>  \n",
       "6959         <NA>           <NA>                    0           0          24  \n",
       "2105         <NA>              0                    0        <NA>        <NA>  \n",
       "14229           0           <NA>                    0           0        <NA>  \n",
       "2099         <NA>           <NA>                    0           0        <NA>  \n",
       "15840        <NA>           <NA>                    0           0        <NA>  \n",
       "12120           0              0                    0           0          13  \n",
       "\n",
       "[35 rows x 25 columns]"
      ]
     },
     "execution_count": 33,
     "metadata": {},
     "output_type": "execute_result"
    }
   ],
   "source": [
    "df_un[df_un[\"uu_id\"] == \"bbcb018f0e5e49e13636f6e78ce9f60f\"].sort_values(by = [\"week_number\"]).drop_duplicates()"
   ]
  },
  {
   "cell_type": "code",
   "execution_count": 34,
   "id": "86be135d",
   "metadata": {
    "execution": {
     "iopub.execute_input": "2023-05-10T00:57:21.411033Z",
     "iopub.status.busy": "2023-05-10T00:57:21.410884Z",
     "iopub.status.idle": "2023-05-10T00:57:21.413901Z",
     "shell.execute_reply": "2023-05-10T00:57:21.413603Z"
    }
   },
   "outputs": [
    {
     "data": {
      "text/plain": [
       "0      5bf51fc2e162d6faf9e3cf79e4198378\n",
       "1      420b44cc7e3f55d738df565421e59941\n",
       "2      e39c66ecceec76ee8f9f811fa4a2d246\n",
       "3      a90462cd11ae4e43144239bf7c4828a4\n",
       "4      8b20a6749088c7ff1237983076ebfeaa\n",
       "                     ...               \n",
       "520    46c4f6c75e663b1ca82ea7994e6d83d3\n",
       "521    1deebda501712e7595b531b8337bc31a\n",
       "522    5a9758f65f001b6432ff31ff64a459d7\n",
       "523    e8b3b95e93a6dc7dbb90f4e72e7ac065\n",
       "524    932a58530abff8a48558e2a15639d453\n",
       "Name: uu_id, Length: 525, dtype: object"
      ]
     },
     "execution_count": 34,
     "metadata": {},
     "output_type": "execute_result"
    }
   ],
   "source": [
    "df_pred[\"uu_id\"]"
   ]
  },
  {
   "cell_type": "markdown",
   "id": "f61d11ca",
   "metadata": {},
   "source": [
    "# This can also be a good place for you to cleanup any input/output and export your results to a file.\n",
    "# might just do a niave approach and declare the average as the value for each\n",
    "# pull all values as a dictionary with uu_id as the key and average as the value\n",
    "df_un[df_un[\"uu_id\"] == \"bbcb018f0e5e49e13636f6e78ce9f60f\"].sort_values(by = [\"week_number\"]).drop_duplicates()"
   ]
  },
  {
   "cell_type": "code",
   "execution_count": 35,
   "id": "1b0424be",
   "metadata": {
    "execution": {
     "iopub.execute_input": "2023-05-10T00:57:21.415530Z",
     "iopub.status.busy": "2023-05-10T00:57:21.415425Z",
     "iopub.status.idle": "2023-05-10T00:57:23.018104Z",
     "shell.execute_reply": "2023-05-10T00:57:23.017790Z"
    }
   },
   "outputs": [],
   "source": [
    "prediction_dict = {}\n",
    "for i, tract in enumerate(df_pred[\"uu_id\"]):\n",
    "    df_working = df_un[df_un[\"uu_id\"] == tract].sort_values(by = [\"week_number\"]).drop_duplicates()\n",
    "    mean = df_working[\"total_claims\"].mean()\n",
    "    prediction_dict[tract] = mean"
   ]
  },
  {
   "cell_type": "code",
   "execution_count": 36,
   "id": "486418b8",
   "metadata": {
    "execution": {
     "iopub.execute_input": "2023-05-10T00:57:23.019832Z",
     "iopub.status.busy": "2023-05-10T00:57:23.019742Z",
     "iopub.status.idle": "2023-05-10T00:57:23.022848Z",
     "shell.execute_reply": "2023-05-10T00:57:23.022625Z"
    }
   },
   "outputs": [],
   "source": [
    "header = [\"uu_id\",\"total_claims\",\"week_number\"]\n",
    "week = 38\n",
    "fname = \"submission_prediction_output.csv\"\n",
    "with open(fname, 'w', encoding = \"UTF8\", newline=\"\") as f:\n",
    "    writer = csv.writer(f)\n",
    "    writer.writerow(header)\n",
    "    for k, v in prediction_dict.items():\n",
    "        writer.writerow([k, v, week]) "
   ]
  },
  {
   "cell_type": "markdown",
   "id": "d5c39fad",
   "metadata": {},
   "source": [
    "# This can also be a good place for you to cleanup any input/output and export your results to a file.\n",
    "# might just do a niave approach and declare the average as the value for each\n",
    "# pull all values as a dictionary with uu_id as the key and average as the value\n",
    "df_un[df_un[\"uu_id\"] == \"bbcb018f0e5e49e13636f6e78ce9f60f\"].sort_values(by = [\"week_number\"]).drop_duplicates()"
   ]
  },
  {
   "cell_type": "code",
   "execution_count": 37,
   "id": "b0ba68df",
   "metadata": {
    "execution": {
     "iopub.execute_input": "2023-05-10T00:57:23.024335Z",
     "iopub.status.busy": "2023-05-10T00:57:23.024238Z",
     "iopub.status.idle": "2023-05-10T00:57:24.846228Z",
     "shell.execute_reply": "2023-05-10T00:57:24.845939Z"
    }
   },
   "outputs": [],
   "source": [
    "prediction_dict = {}\n",
    "count = 0\n",
    "total = 0\n",
    "for i, tract in enumerate(df_pred[\"uu_id\"]):\n",
    "    df_working = df_un[df_un[\"uu_id\"] == tract].sort_values(by = [\"week_number\"]).drop_duplicates()\n",
    "    mean = df_working[\"total_claims\"].mean()\n",
    "    count += 1\n",
    "    total += mean\n",
    "    prediction_dict[tract] = mean"
   ]
  },
  {
   "cell_type": "code",
   "execution_count": 38,
   "id": "e5608a36",
   "metadata": {
    "execution": {
     "iopub.execute_input": "2023-05-10T00:57:24.847922Z",
     "iopub.status.busy": "2023-05-10T00:57:24.847829Z",
     "iopub.status.idle": "2023-05-10T00:57:24.850660Z",
     "shell.execute_reply": "2023-05-10T00:57:24.850419Z"
    }
   },
   "outputs": [
    {
     "data": {
      "text/plain": [
       "21.89668577028624"
      ]
     },
     "execution_count": 38,
     "metadata": {},
     "output_type": "execute_result"
    }
   ],
   "source": [
    "total/count"
   ]
  },
  {
   "cell_type": "code",
   "execution_count": 39,
   "id": "295101e7",
   "metadata": {
    "execution": {
     "iopub.execute_input": "2023-05-10T00:57:24.852043Z",
     "iopub.status.busy": "2023-05-10T00:57:24.851952Z",
     "iopub.status.idle": "2023-05-10T00:57:24.854006Z",
     "shell.execute_reply": "2023-05-10T00:57:24.853796Z"
    }
   },
   "outputs": [
    {
     "data": {
      "text/plain": [
       "0.3488372093023256"
      ]
     },
     "execution_count": 39,
     "metadata": {},
     "output_type": "execute_result"
    }
   ],
   "source": [
    "7.5/21.5"
   ]
  },
  {
   "cell_type": "code",
   "execution_count": 40,
   "id": "be6dfa63",
   "metadata": {
    "execution": {
     "iopub.execute_input": "2023-05-10T00:57:24.855364Z",
     "iopub.status.busy": "2023-05-10T00:57:24.855287Z",
     "iopub.status.idle": "2023-05-10T00:57:24.856969Z",
     "shell.execute_reply": "2023-05-10T00:57:24.856736Z"
    }
   },
   "outputs": [],
   "source": [
    "# how can I pull this from just pandas\n",
    "tract_dict = {}"
   ]
  },
  {
   "cell_type": "code",
   "execution_count": 41,
   "id": "452ce124",
   "metadata": {
    "execution": {
     "iopub.execute_input": "2023-05-10T00:57:24.858295Z",
     "iopub.status.busy": "2023-05-10T00:57:24.858216Z",
     "iopub.status.idle": "2023-05-10T00:57:26.308467Z",
     "shell.execute_reply": "2023-05-10T00:57:26.308157Z"
    }
   },
   "outputs": [],
   "source": [
    "for i, tract in enumerate(df_pred[\"uu_id\"]):\n",
    "    tract_dict[i] = df_un[df_un[\"uu_id\"] == tract].sort_values(by = [\"week_number\"]).drop_duplicates()"
   ]
  },
  {
   "cell_type": "markdown",
   "id": "da7e08f2",
   "metadata": {},
   "source": [
    "# uu_id = \n",
    "# countyflips =\n",
    "# tract = \n",
    "# tract_name = \n",
    "# average_wage = "
   ]
  },
  {
   "cell_type": "code",
   "execution_count": 42,
   "id": "6219f060",
   "metadata": {
    "execution": {
     "iopub.execute_input": "2023-05-10T00:57:26.310074Z",
     "iopub.status.busy": "2023-05-10T00:57:26.309984Z",
     "iopub.status.idle": "2023-05-10T00:57:26.313309Z",
     "shell.execute_reply": "2023-05-10T00:57:26.313078Z"
    }
   },
   "outputs": [
    {
     "name": "stdout",
     "output_type": "stream",
     "text": [
      "                                uu_id  countyfips   tract  \\\n",
      "0    585f8731c2255d6b3f817a31180848b9       18177     200   \n",
      "1    8c9d2aa90948679972a9382aadcc6001       18177     900   \n",
      "2    0f3d45341a5b113b813ffb7be7f58bab       18183   50300   \n",
      "3    fb55464f8e34af6d750d06968bf719b8       18183   50400   \n",
      "4    983badfd7b568728e39a2344a9006078       18001   30200   \n",
      "..                                ...         ...     ...   \n",
      "520  4a6ae3b5be1b9b7c10c177e1b9fded82       18169  102800   \n",
      "521  e0e676badd59e9b1f2ecf853d2ca1ecb       18173   30500   \n",
      "522  4338a76c28b57d89da8a28cf06adcf73       18173   30600   \n",
      "523  3224483a60925de51923d51b10a00141       18173   30800   \n",
      "524  7b67eb2512a721025efe5cb967a38aff       18173   30400   \n",
      "\n",
      "                                    tract_name  average_wage  \n",
      "0        Census Tract 2, Wayne County, Indiana   6612.000000  \n",
      "1        Census Tract 9, Wayne County, Indiana   9883.250000  \n",
      "2    Census Tract 503, Whitley County, Indiana  13992.250000  \n",
      "3    Census Tract 504, Whitley County, Indiana  13613.500000  \n",
      "4      Census Tract 302, Adams County, Indiana  11816.666667  \n",
      "..                                         ...           ...  \n",
      "520  Census Tract 1028, Wabash County, Indiana   7061.200000  \n",
      "521  Census Tract 305, Warrick County, Indiana   8687.000000  \n",
      "522  Census Tract 306, Warrick County, Indiana  11917.375000  \n",
      "523  Census Tract 308, Warrick County, Indiana  15117.700000  \n",
      "524  Census Tract 304, Warrick County, Indiana   9386.000000  \n",
      "\n",
      "[525 rows x 5 columns]\n"
     ]
    }
   ],
   "source": [
    "df_wage = wage_data\n",
    "print(df_wage)"
   ]
  },
  {
   "cell_type": "markdown",
   "id": "243254d3",
   "metadata": {},
   "source": [
    "# uu_id = \n",
    "# countyflips =\n",
    "# tract = \n",
    "# tract_name = \n",
    "# average_wage = "
   ]
  },
  {
   "cell_type": "code",
   "execution_count": 43,
   "id": "f8ff19b4",
   "metadata": {
    "execution": {
     "iopub.execute_input": "2023-05-10T00:57:26.314715Z",
     "iopub.status.busy": "2023-05-10T00:57:26.314630Z",
     "iopub.status.idle": "2023-05-10T00:57:26.318150Z",
     "shell.execute_reply": "2023-05-10T00:57:26.317927Z"
    }
   },
   "outputs": [
    {
     "data": {
      "text/html": [
       "<div>\n",
       "<style scoped>\n",
       "    .dataframe tbody tr th:only-of-type {\n",
       "        vertical-align: middle;\n",
       "    }\n",
       "\n",
       "    .dataframe tbody tr th {\n",
       "        vertical-align: top;\n",
       "    }\n",
       "\n",
       "    .dataframe thead th {\n",
       "        text-align: right;\n",
       "    }\n",
       "</style>\n",
       "<table border=\"1\" class=\"dataframe\">\n",
       "  <thead>\n",
       "    <tr style=\"text-align: right;\">\n",
       "      <th></th>\n",
       "      <th>uu_id</th>\n",
       "      <th>countyfips</th>\n",
       "      <th>tract</th>\n",
       "      <th>tract_name</th>\n",
       "      <th>average_wage</th>\n",
       "    </tr>\n",
       "  </thead>\n",
       "  <tbody>\n",
       "    <tr>\n",
       "      <th>0</th>\n",
       "      <td>585f8731c2255d6b3f817a31180848b9</td>\n",
       "      <td>18177</td>\n",
       "      <td>200</td>\n",
       "      <td>Census Tract 2, Wayne County, Indiana</td>\n",
       "      <td>6612.000000</td>\n",
       "    </tr>\n",
       "    <tr>\n",
       "      <th>1</th>\n",
       "      <td>8c9d2aa90948679972a9382aadcc6001</td>\n",
       "      <td>18177</td>\n",
       "      <td>900</td>\n",
       "      <td>Census Tract 9, Wayne County, Indiana</td>\n",
       "      <td>9883.250000</td>\n",
       "    </tr>\n",
       "    <tr>\n",
       "      <th>2</th>\n",
       "      <td>0f3d45341a5b113b813ffb7be7f58bab</td>\n",
       "      <td>18183</td>\n",
       "      <td>50300</td>\n",
       "      <td>Census Tract 503, Whitley County, Indiana</td>\n",
       "      <td>13992.250000</td>\n",
       "    </tr>\n",
       "    <tr>\n",
       "      <th>3</th>\n",
       "      <td>fb55464f8e34af6d750d06968bf719b8</td>\n",
       "      <td>18183</td>\n",
       "      <td>50400</td>\n",
       "      <td>Census Tract 504, Whitley County, Indiana</td>\n",
       "      <td>13613.500000</td>\n",
       "    </tr>\n",
       "    <tr>\n",
       "      <th>4</th>\n",
       "      <td>983badfd7b568728e39a2344a9006078</td>\n",
       "      <td>18001</td>\n",
       "      <td>30200</td>\n",
       "      <td>Census Tract 302, Adams County, Indiana</td>\n",
       "      <td>11816.666667</td>\n",
       "    </tr>\n",
       "  </tbody>\n",
       "</table>\n",
       "</div>"
      ],
      "text/plain": [
       "                              uu_id  countyfips  tract  \\\n",
       "0  585f8731c2255d6b3f817a31180848b9       18177    200   \n",
       "1  8c9d2aa90948679972a9382aadcc6001       18177    900   \n",
       "2  0f3d45341a5b113b813ffb7be7f58bab       18183  50300   \n",
       "3  fb55464f8e34af6d750d06968bf719b8       18183  50400   \n",
       "4  983badfd7b568728e39a2344a9006078       18001  30200   \n",
       "\n",
       "                                  tract_name  average_wage  \n",
       "0      Census Tract 2, Wayne County, Indiana   6612.000000  \n",
       "1      Census Tract 9, Wayne County, Indiana   9883.250000  \n",
       "2  Census Tract 503, Whitley County, Indiana  13992.250000  \n",
       "3  Census Tract 504, Whitley County, Indiana  13613.500000  \n",
       "4    Census Tract 302, Adams County, Indiana  11816.666667  "
      ]
     },
     "execution_count": 43,
     "metadata": {},
     "output_type": "execute_result"
    }
   ],
   "source": [
    "df_wage = wage_data\n",
    "df_wage.head()"
   ]
  },
  {
   "cell_type": "markdown",
   "id": "719c0490",
   "metadata": {},
   "source": [
    "how can I pull this from just pandas"
   ]
  },
  {
   "cell_type": "code",
   "execution_count": 44,
   "id": "cb9a7df1",
   "metadata": {
    "execution": {
     "iopub.execute_input": "2023-05-10T00:57:26.319553Z",
     "iopub.status.busy": "2023-05-10T00:57:26.319468Z",
     "iopub.status.idle": "2023-05-10T00:57:26.325533Z",
     "shell.execute_reply": "2023-05-10T00:57:26.325277Z"
    }
   },
   "outputs": [],
   "source": [
    "# dictionary of df's for each uu_id\n",
    "tract_dict = {}"
   ]
  },
  {
   "cell_type": "code",
   "execution_count": 45,
   "id": "6772ea87",
   "metadata": {
    "execution": {
     "iopub.execute_input": "2023-05-10T00:57:26.326925Z",
     "iopub.status.busy": "2023-05-10T00:57:26.326841Z",
     "iopub.status.idle": "2023-05-10T00:57:27.813822Z",
     "shell.execute_reply": "2023-05-10T00:57:27.813462Z"
    }
   },
   "outputs": [],
   "source": [
    "for i, tract in enumerate(df_pred[\"uu_id\"]):\n",
    "    tract_dict[i] = df_un[df_un[\"uu_id\"] == tract].sort_values(by = [\"week_number\"]).drop_duplicates()"
   ]
  },
  {
   "cell_type": "code",
   "execution_count": 46,
   "id": "87bb8c8c",
   "metadata": {
    "execution": {
     "iopub.execute_input": "2023-05-10T00:57:27.815617Z",
     "iopub.status.busy": "2023-05-10T00:57:27.815492Z",
     "iopub.status.idle": "2023-05-10T00:57:27.932119Z",
     "shell.execute_reply": "2023-05-10T00:57:27.931840Z"
    }
   },
   "outputs": [
    {
     "ename": "AttributeError",
     "evalue": "'str' object has no attribute 'head'",
     "output_type": "error",
     "traceback": [
      "\u001b[0;31m---------------------------------------------------------------------------\u001b[0m",
      "\u001b[0;31mAttributeError\u001b[0m                            Traceback (most recent call last)",
      "Cell \u001b[0;32mIn [46], line 1\u001b[0m\n\u001b[0;32m----> 1\u001b[0m \u001b[43mtract\u001b[49m\u001b[43m[\u001b[49m\u001b[38;5;241;43m0\u001b[39;49m\u001b[43m]\u001b[49m\u001b[38;5;241;43m.\u001b[39;49m\u001b[43mhead\u001b[49m()\n",
      "\u001b[0;31mAttributeError\u001b[0m: 'str' object has no attribute 'head'"
     ]
    }
   ],
   "source": [
    "tract[0].head()"
   ]
  },
  {
   "cell_type": "code",
   "execution_count": 47,
   "id": "31788636",
   "metadata": {
    "execution": {
     "iopub.execute_input": "2023-05-10T00:57:27.933701Z",
     "iopub.status.busy": "2023-05-10T00:57:27.933589Z",
     "iopub.status.idle": "2023-05-10T00:57:27.935801Z",
     "shell.execute_reply": "2023-05-10T00:57:27.935573Z"
    }
   },
   "outputs": [
    {
     "data": {
      "text/plain": [
       "'9'"
      ]
     },
     "execution_count": 47,
     "metadata": {},
     "output_type": "execute_result"
    }
   ],
   "source": [
    "tract[0]"
   ]
  },
  {
   "cell_type": "code",
   "execution_count": 48,
   "id": "20109c9a",
   "metadata": {
    "execution": {
     "iopub.execute_input": "2023-05-10T00:57:27.937127Z",
     "iopub.status.busy": "2023-05-10T00:57:27.937025Z",
     "iopub.status.idle": "2023-05-10T00:57:27.939053Z",
     "shell.execute_reply": "2023-05-10T00:57:27.938799Z"
    }
   },
   "outputs": [
    {
     "data": {
      "text/plain": [
       "'3'"
      ]
     },
     "execution_count": 48,
     "metadata": {},
     "output_type": "execute_result"
    }
   ],
   "source": [
    "tract[1]"
   ]
  },
  {
   "cell_type": "code",
   "execution_count": 49,
   "id": "0de34b76",
   "metadata": {
    "execution": {
     "iopub.execute_input": "2023-05-10T00:57:27.940385Z",
     "iopub.status.busy": "2023-05-10T00:57:27.940285Z",
     "iopub.status.idle": "2023-05-10T00:57:27.942119Z",
     "shell.execute_reply": "2023-05-10T00:57:27.941884Z"
    }
   },
   "outputs": [
    {
     "data": {
      "text/plain": [
       "'a'"
      ]
     },
     "execution_count": 49,
     "metadata": {},
     "output_type": "execute_result"
    }
   ],
   "source": [
    "tract[3]"
   ]
  },
  {
   "cell_type": "code",
   "execution_count": 50,
   "id": "b70b00b3",
   "metadata": {
    "execution": {
     "iopub.execute_input": "2023-05-10T00:57:27.943454Z",
     "iopub.status.busy": "2023-05-10T00:57:27.943360Z",
     "iopub.status.idle": "2023-05-10T00:57:27.949567Z",
     "shell.execute_reply": "2023-05-10T00:57:27.949329Z"
    }
   },
   "outputs": [
    {
     "ename": "IndexError",
     "evalue": "string index out of range",
     "output_type": "error",
     "traceback": [
      "\u001b[0;31m---------------------------------------------------------------------------\u001b[0m",
      "\u001b[0;31mIndexError\u001b[0m                                Traceback (most recent call last)",
      "Cell \u001b[0;32mIn [50], line 1\u001b[0m\n\u001b[0;32m----> 1\u001b[0m \u001b[43mtract\u001b[49m\u001b[43m[\u001b[49m\u001b[38;5;241;43m78\u001b[39;49m\u001b[43m]\u001b[49m\n",
      "\u001b[0;31mIndexError\u001b[0m: string index out of range"
     ]
    }
   ],
   "source": [
    "tract[78]"
   ]
  },
  {
   "cell_type": "code",
   "execution_count": 51,
   "id": "dfc10b30",
   "metadata": {
    "execution": {
     "iopub.execute_input": "2023-05-10T00:57:27.950954Z",
     "iopub.status.busy": "2023-05-10T00:57:27.950868Z",
     "iopub.status.idle": "2023-05-10T00:57:27.957882Z",
     "shell.execute_reply": "2023-05-10T00:57:27.957625Z"
    }
   },
   "outputs": [
    {
     "data": {
      "text/html": [
       "<div>\n",
       "<style scoped>\n",
       "    .dataframe tbody tr th:only-of-type {\n",
       "        vertical-align: middle;\n",
       "    }\n",
       "\n",
       "    .dataframe tbody tr th {\n",
       "        vertical-align: top;\n",
       "    }\n",
       "\n",
       "    .dataframe thead th {\n",
       "        text-align: right;\n",
       "    }\n",
       "</style>\n",
       "<table border=\"1\" class=\"dataframe\">\n",
       "  <thead>\n",
       "    <tr style=\"text-align: right;\">\n",
       "      <th></th>\n",
       "      <th>uu_id</th>\n",
       "      <th>timeperiod</th>\n",
       "      <th>week_number</th>\n",
       "      <th>countyfips</th>\n",
       "      <th>tract</th>\n",
       "      <th>tract_name</th>\n",
       "      <th>total_claims</th>\n",
       "      <th>edu_8th_or_less</th>\n",
       "      <th>edu_grades_9_11</th>\n",
       "      <th>edu_hs_grad_equiv</th>\n",
       "      <th>...</th>\n",
       "      <th>gender_female</th>\n",
       "      <th>gender_male</th>\n",
       "      <th>gender_na</th>\n",
       "      <th>race_amerindian</th>\n",
       "      <th>race_asian</th>\n",
       "      <th>race_black</th>\n",
       "      <th>race_noanswer</th>\n",
       "      <th>race_hawaiiannative</th>\n",
       "      <th>race_other</th>\n",
       "      <th>race_white</th>\n",
       "    </tr>\n",
       "  </thead>\n",
       "  <tbody>\n",
       "    <tr>\n",
       "      <th>10338</th>\n",
       "      <td>5bf51fc2e162d6faf9e3cf79e4198378</td>\n",
       "      <td>20220101</td>\n",
       "      <td>1</td>\n",
       "      <td>18103</td>\n",
       "      <td>952800</td>\n",
       "      <td>Census Tract 9528, Miami County, Indiana</td>\n",
       "      <td>17</td>\n",
       "      <td>0</td>\n",
       "      <td>&lt;NA&gt;</td>\n",
       "      <td>&lt;NA&gt;</td>\n",
       "      <td>...</td>\n",
       "      <td>&lt;NA&gt;</td>\n",
       "      <td>&lt;NA&gt;</td>\n",
       "      <td>0</td>\n",
       "      <td>0</td>\n",
       "      <td>0</td>\n",
       "      <td>0</td>\n",
       "      <td>0</td>\n",
       "      <td>0</td>\n",
       "      <td>0</td>\n",
       "      <td>17</td>\n",
       "    </tr>\n",
       "    <tr>\n",
       "      <th>16015</th>\n",
       "      <td>5bf51fc2e162d6faf9e3cf79e4198378</td>\n",
       "      <td>20220108</td>\n",
       "      <td>2</td>\n",
       "      <td>18103</td>\n",
       "      <td>952800</td>\n",
       "      <td>Census Tract 9528, Miami County, Indiana</td>\n",
       "      <td>10</td>\n",
       "      <td>0</td>\n",
       "      <td>&lt;NA&gt;</td>\n",
       "      <td>&lt;NA&gt;</td>\n",
       "      <td>...</td>\n",
       "      <td>&lt;NA&gt;</td>\n",
       "      <td>&lt;NA&gt;</td>\n",
       "      <td>0</td>\n",
       "      <td>0</td>\n",
       "      <td>0</td>\n",
       "      <td>&lt;NA&gt;</td>\n",
       "      <td>0</td>\n",
       "      <td>0</td>\n",
       "      <td>0</td>\n",
       "      <td>&lt;NA&gt;</td>\n",
       "    </tr>\n",
       "    <tr>\n",
       "      <th>16017</th>\n",
       "      <td>5bf51fc2e162d6faf9e3cf79e4198378</td>\n",
       "      <td>20220326</td>\n",
       "      <td>13</td>\n",
       "      <td>18103</td>\n",
       "      <td>952800</td>\n",
       "      <td>Census Tract 9528, Miami County, Indiana</td>\n",
       "      <td>11</td>\n",
       "      <td>0</td>\n",
       "      <td>&lt;NA&gt;</td>\n",
       "      <td>&lt;NA&gt;</td>\n",
       "      <td>...</td>\n",
       "      <td>&lt;NA&gt;</td>\n",
       "      <td>&lt;NA&gt;</td>\n",
       "      <td>0</td>\n",
       "      <td>0</td>\n",
       "      <td>0</td>\n",
       "      <td>0</td>\n",
       "      <td>0</td>\n",
       "      <td>0</td>\n",
       "      <td>0</td>\n",
       "      <td>11</td>\n",
       "    </tr>\n",
       "    <tr>\n",
       "      <th>16016</th>\n",
       "      <td>5bf51fc2e162d6faf9e3cf79e4198378</td>\n",
       "      <td>20220618</td>\n",
       "      <td>25</td>\n",
       "      <td>18103</td>\n",
       "      <td>952800</td>\n",
       "      <td>Census Tract 9528, Miami County, Indiana</td>\n",
       "      <td>16</td>\n",
       "      <td>0</td>\n",
       "      <td>0</td>\n",
       "      <td>&lt;NA&gt;</td>\n",
       "      <td>...</td>\n",
       "      <td>&lt;NA&gt;</td>\n",
       "      <td>&lt;NA&gt;</td>\n",
       "      <td>0</td>\n",
       "      <td>0</td>\n",
       "      <td>0</td>\n",
       "      <td>&lt;NA&gt;</td>\n",
       "      <td>0</td>\n",
       "      <td>0</td>\n",
       "      <td>0</td>\n",
       "      <td>&lt;NA&gt;</td>\n",
       "    </tr>\n",
       "    <tr>\n",
       "      <th>4630</th>\n",
       "      <td>5bf51fc2e162d6faf9e3cf79e4198378</td>\n",
       "      <td>20220625</td>\n",
       "      <td>26</td>\n",
       "      <td>18103</td>\n",
       "      <td>952800</td>\n",
       "      <td>Census Tract 9528, Miami County, Indiana</td>\n",
       "      <td>20</td>\n",
       "      <td>0</td>\n",
       "      <td>&lt;NA&gt;</td>\n",
       "      <td>11</td>\n",
       "      <td>...</td>\n",
       "      <td>&lt;NA&gt;</td>\n",
       "      <td>&lt;NA&gt;</td>\n",
       "      <td>0</td>\n",
       "      <td>&lt;NA&gt;</td>\n",
       "      <td>0</td>\n",
       "      <td>&lt;NA&gt;</td>\n",
       "      <td>0</td>\n",
       "      <td>0</td>\n",
       "      <td>0</td>\n",
       "      <td>&lt;NA&gt;</td>\n",
       "    </tr>\n",
       "  </tbody>\n",
       "</table>\n",
       "<p>5 rows × 25 columns</p>\n",
       "</div>"
      ],
      "text/plain": [
       "                                  uu_id  timeperiod  week_number  countyfips  \\\n",
       "10338  5bf51fc2e162d6faf9e3cf79e4198378    20220101            1       18103   \n",
       "16015  5bf51fc2e162d6faf9e3cf79e4198378    20220108            2       18103   \n",
       "16017  5bf51fc2e162d6faf9e3cf79e4198378    20220326           13       18103   \n",
       "16016  5bf51fc2e162d6faf9e3cf79e4198378    20220618           25       18103   \n",
       "4630   5bf51fc2e162d6faf9e3cf79e4198378    20220625           26       18103   \n",
       "\n",
       "        tract                                tract_name  total_claims  \\\n",
       "10338  952800  Census Tract 9528, Miami County, Indiana            17   \n",
       "16015  952800  Census Tract 9528, Miami County, Indiana            10   \n",
       "16017  952800  Census Tract 9528, Miami County, Indiana            11   \n",
       "16016  952800  Census Tract 9528, Miami County, Indiana            16   \n",
       "4630   952800  Census Tract 9528, Miami County, Indiana            20   \n",
       "\n",
       "       edu_8th_or_less  edu_grades_9_11  edu_hs_grad_equiv  ...  \\\n",
       "10338                0             <NA>               <NA>  ...   \n",
       "16015                0             <NA>               <NA>  ...   \n",
       "16017                0             <NA>               <NA>  ...   \n",
       "16016                0                0               <NA>  ...   \n",
       "4630                 0             <NA>                 11  ...   \n",
       "\n",
       "       gender_female  gender_male gender_na race_amerindian race_asian  \\\n",
       "10338           <NA>         <NA>         0               0          0   \n",
       "16015           <NA>         <NA>         0               0          0   \n",
       "16017           <NA>         <NA>         0               0          0   \n",
       "16016           <NA>         <NA>         0               0          0   \n",
       "4630            <NA>         <NA>         0            <NA>          0   \n",
       "\n",
       "       race_black  race_noanswer  race_hawaiiannative  race_other  race_white  \n",
       "10338           0              0                    0           0          17  \n",
       "16015        <NA>              0                    0           0        <NA>  \n",
       "16017           0              0                    0           0          11  \n",
       "16016        <NA>              0                    0           0        <NA>  \n",
       "4630         <NA>              0                    0           0        <NA>  \n",
       "\n",
       "[5 rows x 25 columns]"
      ]
     },
     "execution_count": 51,
     "metadata": {},
     "output_type": "execute_result"
    }
   ],
   "source": [
    "tract_dict[0].head()"
   ]
  },
  {
   "cell_type": "code",
   "execution_count": 52,
   "id": "d0f9ec4c",
   "metadata": {
    "execution": {
     "iopub.execute_input": "2023-05-10T00:57:27.959248Z",
     "iopub.status.busy": "2023-05-10T00:57:27.959165Z",
     "iopub.status.idle": "2023-05-10T00:57:27.966371Z",
     "shell.execute_reply": "2023-05-10T00:57:27.966129Z"
    }
   },
   "outputs": [
    {
     "data": {
      "text/html": [
       "<div>\n",
       "<style scoped>\n",
       "    .dataframe tbody tr th:only-of-type {\n",
       "        vertical-align: middle;\n",
       "    }\n",
       "\n",
       "    .dataframe tbody tr th {\n",
       "        vertical-align: top;\n",
       "    }\n",
       "\n",
       "    .dataframe thead th {\n",
       "        text-align: right;\n",
       "    }\n",
       "</style>\n",
       "<table border=\"1\" class=\"dataframe\">\n",
       "  <thead>\n",
       "    <tr style=\"text-align: right;\">\n",
       "      <th></th>\n",
       "      <th>uu_id</th>\n",
       "      <th>timeperiod</th>\n",
       "      <th>week_number</th>\n",
       "      <th>countyfips</th>\n",
       "      <th>tract</th>\n",
       "      <th>tract_name</th>\n",
       "      <th>total_claims</th>\n",
       "      <th>edu_8th_or_less</th>\n",
       "      <th>edu_grades_9_11</th>\n",
       "      <th>edu_hs_grad_equiv</th>\n",
       "      <th>...</th>\n",
       "      <th>gender_female</th>\n",
       "      <th>gender_male</th>\n",
       "      <th>gender_na</th>\n",
       "      <th>race_amerindian</th>\n",
       "      <th>race_asian</th>\n",
       "      <th>race_black</th>\n",
       "      <th>race_noanswer</th>\n",
       "      <th>race_hawaiiannative</th>\n",
       "      <th>race_other</th>\n",
       "      <th>race_white</th>\n",
       "    </tr>\n",
       "  </thead>\n",
       "  <tbody>\n",
       "    <tr>\n",
       "      <th>10209</th>\n",
       "      <td>420b44cc7e3f55d738df565421e59941</td>\n",
       "      <td>20220101</td>\n",
       "      <td>1</td>\n",
       "      <td>18043</td>\n",
       "      <td>70400</td>\n",
       "      <td>Census Tract 704, Floyd County, Indiana</td>\n",
       "      <td>20</td>\n",
       "      <td>0</td>\n",
       "      <td>14</td>\n",
       "      <td>&lt;NA&gt;</td>\n",
       "      <td>...</td>\n",
       "      <td>&lt;NA&gt;</td>\n",
       "      <td>&lt;NA&gt;</td>\n",
       "      <td>0</td>\n",
       "      <td>0</td>\n",
       "      <td>0</td>\n",
       "      <td>0</td>\n",
       "      <td>&lt;NA&gt;</td>\n",
       "      <td>0</td>\n",
       "      <td>0</td>\n",
       "      <td>&lt;NA&gt;</td>\n",
       "    </tr>\n",
       "    <tr>\n",
       "      <th>540</th>\n",
       "      <td>420b44cc7e3f55d738df565421e59941</td>\n",
       "      <td>20220108</td>\n",
       "      <td>2</td>\n",
       "      <td>18043</td>\n",
       "      <td>70400</td>\n",
       "      <td>Census Tract 704, Floyd County, Indiana</td>\n",
       "      <td>15</td>\n",
       "      <td>0</td>\n",
       "      <td>&lt;NA&gt;</td>\n",
       "      <td>&lt;NA&gt;</td>\n",
       "      <td>...</td>\n",
       "      <td>&lt;NA&gt;</td>\n",
       "      <td>&lt;NA&gt;</td>\n",
       "      <td>0</td>\n",
       "      <td>0</td>\n",
       "      <td>0</td>\n",
       "      <td>&lt;NA&gt;</td>\n",
       "      <td>&lt;NA&gt;</td>\n",
       "      <td>0</td>\n",
       "      <td>0</td>\n",
       "      <td>12</td>\n",
       "    </tr>\n",
       "    <tr>\n",
       "      <th>541</th>\n",
       "      <td>420b44cc7e3f55d738df565421e59941</td>\n",
       "      <td>20220115</td>\n",
       "      <td>3</td>\n",
       "      <td>18043</td>\n",
       "      <td>70400</td>\n",
       "      <td>Census Tract 704, Floyd County, Indiana</td>\n",
       "      <td>11</td>\n",
       "      <td>0</td>\n",
       "      <td>&lt;NA&gt;</td>\n",
       "      <td>&lt;NA&gt;</td>\n",
       "      <td>...</td>\n",
       "      <td>&lt;NA&gt;</td>\n",
       "      <td>&lt;NA&gt;</td>\n",
       "      <td>0</td>\n",
       "      <td>0</td>\n",
       "      <td>0</td>\n",
       "      <td>&lt;NA&gt;</td>\n",
       "      <td>&lt;NA&gt;</td>\n",
       "      <td>0</td>\n",
       "      <td>&lt;NA&gt;</td>\n",
       "      <td>&lt;NA&gt;</td>\n",
       "    </tr>\n",
       "    <tr>\n",
       "      <th>12678</th>\n",
       "      <td>420b44cc7e3f55d738df565421e59941</td>\n",
       "      <td>20220129</td>\n",
       "      <td>5</td>\n",
       "      <td>18043</td>\n",
       "      <td>70400</td>\n",
       "      <td>Census Tract 704, Floyd County, Indiana</td>\n",
       "      <td>15</td>\n",
       "      <td>0</td>\n",
       "      <td>&lt;NA&gt;</td>\n",
       "      <td>&lt;NA&gt;</td>\n",
       "      <td>...</td>\n",
       "      <td>&lt;NA&gt;</td>\n",
       "      <td>&lt;NA&gt;</td>\n",
       "      <td>0</td>\n",
       "      <td>0</td>\n",
       "      <td>0</td>\n",
       "      <td>&lt;NA&gt;</td>\n",
       "      <td>&lt;NA&gt;</td>\n",
       "      <td>0</td>\n",
       "      <td>0</td>\n",
       "      <td>&lt;NA&gt;</td>\n",
       "    </tr>\n",
       "    <tr>\n",
       "      <th>12677</th>\n",
       "      <td>420b44cc7e3f55d738df565421e59941</td>\n",
       "      <td>20220212</td>\n",
       "      <td>7</td>\n",
       "      <td>18043</td>\n",
       "      <td>70400</td>\n",
       "      <td>Census Tract 704, Floyd County, Indiana</td>\n",
       "      <td>11</td>\n",
       "      <td>&lt;NA&gt;</td>\n",
       "      <td>&lt;NA&gt;</td>\n",
       "      <td>&lt;NA&gt;</td>\n",
       "      <td>...</td>\n",
       "      <td>&lt;NA&gt;</td>\n",
       "      <td>&lt;NA&gt;</td>\n",
       "      <td>0</td>\n",
       "      <td>0</td>\n",
       "      <td>0</td>\n",
       "      <td>&lt;NA&gt;</td>\n",
       "      <td>&lt;NA&gt;</td>\n",
       "      <td>0</td>\n",
       "      <td>0</td>\n",
       "      <td>&lt;NA&gt;</td>\n",
       "    </tr>\n",
       "    <tr>\n",
       "      <th>7035</th>\n",
       "      <td>420b44cc7e3f55d738df565421e59941</td>\n",
       "      <td>20220312</td>\n",
       "      <td>11</td>\n",
       "      <td>18043</td>\n",
       "      <td>70400</td>\n",
       "      <td>Census Tract 704, Floyd County, Indiana</td>\n",
       "      <td>18</td>\n",
       "      <td>0</td>\n",
       "      <td>&lt;NA&gt;</td>\n",
       "      <td>&lt;NA&gt;</td>\n",
       "      <td>...</td>\n",
       "      <td>&lt;NA&gt;</td>\n",
       "      <td>&lt;NA&gt;</td>\n",
       "      <td>0</td>\n",
       "      <td>0</td>\n",
       "      <td>0</td>\n",
       "      <td>&lt;NA&gt;</td>\n",
       "      <td>&lt;NA&gt;</td>\n",
       "      <td>0</td>\n",
       "      <td>0</td>\n",
       "      <td>15</td>\n",
       "    </tr>\n",
       "    <tr>\n",
       "      <th>7036</th>\n",
       "      <td>420b44cc7e3f55d738df565421e59941</td>\n",
       "      <td>20220326</td>\n",
       "      <td>13</td>\n",
       "      <td>18043</td>\n",
       "      <td>70400</td>\n",
       "      <td>Census Tract 704, Floyd County, Indiana</td>\n",
       "      <td>10</td>\n",
       "      <td>&lt;NA&gt;</td>\n",
       "      <td>&lt;NA&gt;</td>\n",
       "      <td>&lt;NA&gt;</td>\n",
       "      <td>...</td>\n",
       "      <td>&lt;NA&gt;</td>\n",
       "      <td>&lt;NA&gt;</td>\n",
       "      <td>0</td>\n",
       "      <td>0</td>\n",
       "      <td>0</td>\n",
       "      <td>&lt;NA&gt;</td>\n",
       "      <td>0</td>\n",
       "      <td>0</td>\n",
       "      <td>0</td>\n",
       "      <td>&lt;NA&gt;</td>\n",
       "    </tr>\n",
       "    <tr>\n",
       "      <th>7034</th>\n",
       "      <td>420b44cc7e3f55d738df565421e59941</td>\n",
       "      <td>20220409</td>\n",
       "      <td>15</td>\n",
       "      <td>18043</td>\n",
       "      <td>70400</td>\n",
       "      <td>Census Tract 704, Floyd County, Indiana</td>\n",
       "      <td>11</td>\n",
       "      <td>&lt;NA&gt;</td>\n",
       "      <td>&lt;NA&gt;</td>\n",
       "      <td>&lt;NA&gt;</td>\n",
       "      <td>...</td>\n",
       "      <td>&lt;NA&gt;</td>\n",
       "      <td>&lt;NA&gt;</td>\n",
       "      <td>0</td>\n",
       "      <td>0</td>\n",
       "      <td>0</td>\n",
       "      <td>&lt;NA&gt;</td>\n",
       "      <td>0</td>\n",
       "      <td>0</td>\n",
       "      <td>0</td>\n",
       "      <td>&lt;NA&gt;</td>\n",
       "    </tr>\n",
       "  </tbody>\n",
       "</table>\n",
       "<p>8 rows × 25 columns</p>\n",
       "</div>"
      ],
      "text/plain": [
       "                                  uu_id  timeperiod  week_number  countyfips  \\\n",
       "10209  420b44cc7e3f55d738df565421e59941    20220101            1       18043   \n",
       "540    420b44cc7e3f55d738df565421e59941    20220108            2       18043   \n",
       "541    420b44cc7e3f55d738df565421e59941    20220115            3       18043   \n",
       "12678  420b44cc7e3f55d738df565421e59941    20220129            5       18043   \n",
       "12677  420b44cc7e3f55d738df565421e59941    20220212            7       18043   \n",
       "7035   420b44cc7e3f55d738df565421e59941    20220312           11       18043   \n",
       "7036   420b44cc7e3f55d738df565421e59941    20220326           13       18043   \n",
       "7034   420b44cc7e3f55d738df565421e59941    20220409           15       18043   \n",
       "\n",
       "       tract                               tract_name  total_claims  \\\n",
       "10209  70400  Census Tract 704, Floyd County, Indiana            20   \n",
       "540    70400  Census Tract 704, Floyd County, Indiana            15   \n",
       "541    70400  Census Tract 704, Floyd County, Indiana            11   \n",
       "12678  70400  Census Tract 704, Floyd County, Indiana            15   \n",
       "12677  70400  Census Tract 704, Floyd County, Indiana            11   \n",
       "7035   70400  Census Tract 704, Floyd County, Indiana            18   \n",
       "7036   70400  Census Tract 704, Floyd County, Indiana            10   \n",
       "7034   70400  Census Tract 704, Floyd County, Indiana            11   \n",
       "\n",
       "       edu_8th_or_less  edu_grades_9_11  edu_hs_grad_equiv  ...  \\\n",
       "10209                0               14               <NA>  ...   \n",
       "540                  0             <NA>               <NA>  ...   \n",
       "541                  0             <NA>               <NA>  ...   \n",
       "12678                0             <NA>               <NA>  ...   \n",
       "12677             <NA>             <NA>               <NA>  ...   \n",
       "7035                 0             <NA>               <NA>  ...   \n",
       "7036              <NA>             <NA>               <NA>  ...   \n",
       "7034              <NA>             <NA>               <NA>  ...   \n",
       "\n",
       "       gender_female  gender_male gender_na race_amerindian race_asian  \\\n",
       "10209           <NA>         <NA>         0               0          0   \n",
       "540             <NA>         <NA>         0               0          0   \n",
       "541             <NA>         <NA>         0               0          0   \n",
       "12678           <NA>         <NA>         0               0          0   \n",
       "12677           <NA>         <NA>         0               0          0   \n",
       "7035            <NA>         <NA>         0               0          0   \n",
       "7036            <NA>         <NA>         0               0          0   \n",
       "7034            <NA>         <NA>         0               0          0   \n",
       "\n",
       "       race_black  race_noanswer  race_hawaiiannative  race_other  race_white  \n",
       "10209           0           <NA>                    0           0        <NA>  \n",
       "540          <NA>           <NA>                    0           0          12  \n",
       "541          <NA>           <NA>                    0        <NA>        <NA>  \n",
       "12678        <NA>           <NA>                    0           0        <NA>  \n",
       "12677        <NA>           <NA>                    0           0        <NA>  \n",
       "7035         <NA>           <NA>                    0           0          15  \n",
       "7036         <NA>              0                    0           0        <NA>  \n",
       "7034         <NA>              0                    0           0        <NA>  \n",
       "\n",
       "[8 rows x 25 columns]"
      ]
     },
     "execution_count": 52,
     "metadata": {},
     "output_type": "execute_result"
    }
   ],
   "source": [
    "tract_dict[1].head(38)"
   ]
  },
  {
   "cell_type": "code",
   "execution_count": 53,
   "id": "212853ad",
   "metadata": {
    "execution": {
     "iopub.execute_input": "2023-05-10T00:57:27.967705Z",
     "iopub.status.busy": "2023-05-10T00:57:27.967620Z",
     "iopub.status.idle": "2023-05-10T00:57:27.974881Z",
     "shell.execute_reply": "2023-05-10T00:57:27.974649Z"
    }
   },
   "outputs": [
    {
     "data": {
      "text/html": [
       "<div>\n",
       "<style scoped>\n",
       "    .dataframe tbody tr th:only-of-type {\n",
       "        vertical-align: middle;\n",
       "    }\n",
       "\n",
       "    .dataframe tbody tr th {\n",
       "        vertical-align: top;\n",
       "    }\n",
       "\n",
       "    .dataframe thead th {\n",
       "        text-align: right;\n",
       "    }\n",
       "</style>\n",
       "<table border=\"1\" class=\"dataframe\">\n",
       "  <thead>\n",
       "    <tr style=\"text-align: right;\">\n",
       "      <th></th>\n",
       "      <th>uu_id</th>\n",
       "      <th>timeperiod</th>\n",
       "      <th>week_number</th>\n",
       "      <th>countyfips</th>\n",
       "      <th>tract</th>\n",
       "      <th>tract_name</th>\n",
       "      <th>total_claims</th>\n",
       "      <th>edu_8th_or_less</th>\n",
       "      <th>edu_grades_9_11</th>\n",
       "      <th>edu_hs_grad_equiv</th>\n",
       "      <th>...</th>\n",
       "      <th>gender_female</th>\n",
       "      <th>gender_male</th>\n",
       "      <th>gender_na</th>\n",
       "      <th>race_amerindian</th>\n",
       "      <th>race_asian</th>\n",
       "      <th>race_black</th>\n",
       "      <th>race_noanswer</th>\n",
       "      <th>race_hawaiiannative</th>\n",
       "      <th>race_other</th>\n",
       "      <th>race_white</th>\n",
       "    </tr>\n",
       "  </thead>\n",
       "  <tbody>\n",
       "    <tr>\n",
       "      <th>10338</th>\n",
       "      <td>5bf51fc2e162d6faf9e3cf79e4198378</td>\n",
       "      <td>20220101</td>\n",
       "      <td>1</td>\n",
       "      <td>18103</td>\n",
       "      <td>952800</td>\n",
       "      <td>Census Tract 9528, Miami County, Indiana</td>\n",
       "      <td>17</td>\n",
       "      <td>0</td>\n",
       "      <td>&lt;NA&gt;</td>\n",
       "      <td>&lt;NA&gt;</td>\n",
       "      <td>...</td>\n",
       "      <td>&lt;NA&gt;</td>\n",
       "      <td>&lt;NA&gt;</td>\n",
       "      <td>0</td>\n",
       "      <td>0</td>\n",
       "      <td>0</td>\n",
       "      <td>0</td>\n",
       "      <td>0</td>\n",
       "      <td>0</td>\n",
       "      <td>0</td>\n",
       "      <td>17</td>\n",
       "    </tr>\n",
       "    <tr>\n",
       "      <th>16015</th>\n",
       "      <td>5bf51fc2e162d6faf9e3cf79e4198378</td>\n",
       "      <td>20220108</td>\n",
       "      <td>2</td>\n",
       "      <td>18103</td>\n",
       "      <td>952800</td>\n",
       "      <td>Census Tract 9528, Miami County, Indiana</td>\n",
       "      <td>10</td>\n",
       "      <td>0</td>\n",
       "      <td>&lt;NA&gt;</td>\n",
       "      <td>&lt;NA&gt;</td>\n",
       "      <td>...</td>\n",
       "      <td>&lt;NA&gt;</td>\n",
       "      <td>&lt;NA&gt;</td>\n",
       "      <td>0</td>\n",
       "      <td>0</td>\n",
       "      <td>0</td>\n",
       "      <td>&lt;NA&gt;</td>\n",
       "      <td>0</td>\n",
       "      <td>0</td>\n",
       "      <td>0</td>\n",
       "      <td>&lt;NA&gt;</td>\n",
       "    </tr>\n",
       "    <tr>\n",
       "      <th>16017</th>\n",
       "      <td>5bf51fc2e162d6faf9e3cf79e4198378</td>\n",
       "      <td>20220326</td>\n",
       "      <td>13</td>\n",
       "      <td>18103</td>\n",
       "      <td>952800</td>\n",
       "      <td>Census Tract 9528, Miami County, Indiana</td>\n",
       "      <td>11</td>\n",
       "      <td>0</td>\n",
       "      <td>&lt;NA&gt;</td>\n",
       "      <td>&lt;NA&gt;</td>\n",
       "      <td>...</td>\n",
       "      <td>&lt;NA&gt;</td>\n",
       "      <td>&lt;NA&gt;</td>\n",
       "      <td>0</td>\n",
       "      <td>0</td>\n",
       "      <td>0</td>\n",
       "      <td>0</td>\n",
       "      <td>0</td>\n",
       "      <td>0</td>\n",
       "      <td>0</td>\n",
       "      <td>11</td>\n",
       "    </tr>\n",
       "    <tr>\n",
       "      <th>16016</th>\n",
       "      <td>5bf51fc2e162d6faf9e3cf79e4198378</td>\n",
       "      <td>20220618</td>\n",
       "      <td>25</td>\n",
       "      <td>18103</td>\n",
       "      <td>952800</td>\n",
       "      <td>Census Tract 9528, Miami County, Indiana</td>\n",
       "      <td>16</td>\n",
       "      <td>0</td>\n",
       "      <td>0</td>\n",
       "      <td>&lt;NA&gt;</td>\n",
       "      <td>...</td>\n",
       "      <td>&lt;NA&gt;</td>\n",
       "      <td>&lt;NA&gt;</td>\n",
       "      <td>0</td>\n",
       "      <td>0</td>\n",
       "      <td>0</td>\n",
       "      <td>&lt;NA&gt;</td>\n",
       "      <td>0</td>\n",
       "      <td>0</td>\n",
       "      <td>0</td>\n",
       "      <td>&lt;NA&gt;</td>\n",
       "    </tr>\n",
       "    <tr>\n",
       "      <th>4630</th>\n",
       "      <td>5bf51fc2e162d6faf9e3cf79e4198378</td>\n",
       "      <td>20220625</td>\n",
       "      <td>26</td>\n",
       "      <td>18103</td>\n",
       "      <td>952800</td>\n",
       "      <td>Census Tract 9528, Miami County, Indiana</td>\n",
       "      <td>20</td>\n",
       "      <td>0</td>\n",
       "      <td>&lt;NA&gt;</td>\n",
       "      <td>11</td>\n",
       "      <td>...</td>\n",
       "      <td>&lt;NA&gt;</td>\n",
       "      <td>&lt;NA&gt;</td>\n",
       "      <td>0</td>\n",
       "      <td>&lt;NA&gt;</td>\n",
       "      <td>0</td>\n",
       "      <td>&lt;NA&gt;</td>\n",
       "      <td>0</td>\n",
       "      <td>0</td>\n",
       "      <td>0</td>\n",
       "      <td>&lt;NA&gt;</td>\n",
       "    </tr>\n",
       "    <tr>\n",
       "      <th>11725</th>\n",
       "      <td>5bf51fc2e162d6faf9e3cf79e4198378</td>\n",
       "      <td>20220702</td>\n",
       "      <td>27</td>\n",
       "      <td>18103</td>\n",
       "      <td>952800</td>\n",
       "      <td>Census Tract 9528, Miami County, Indiana</td>\n",
       "      <td>18</td>\n",
       "      <td>0</td>\n",
       "      <td>0</td>\n",
       "      <td>&lt;NA&gt;</td>\n",
       "      <td>...</td>\n",
       "      <td>&lt;NA&gt;</td>\n",
       "      <td>&lt;NA&gt;</td>\n",
       "      <td>0</td>\n",
       "      <td>0</td>\n",
       "      <td>0</td>\n",
       "      <td>&lt;NA&gt;</td>\n",
       "      <td>0</td>\n",
       "      <td>0</td>\n",
       "      <td>0</td>\n",
       "      <td>&lt;NA&gt;</td>\n",
       "    </tr>\n",
       "    <tr>\n",
       "      <th>7870</th>\n",
       "      <td>5bf51fc2e162d6faf9e3cf79e4198378</td>\n",
       "      <td>20220820</td>\n",
       "      <td>34</td>\n",
       "      <td>18103</td>\n",
       "      <td>952800</td>\n",
       "      <td>Census Tract 9528, Miami County, Indiana</td>\n",
       "      <td>11</td>\n",
       "      <td>0</td>\n",
       "      <td>0</td>\n",
       "      <td>&lt;NA&gt;</td>\n",
       "      <td>...</td>\n",
       "      <td>&lt;NA&gt;</td>\n",
       "      <td>&lt;NA&gt;</td>\n",
       "      <td>0</td>\n",
       "      <td>&lt;NA&gt;</td>\n",
       "      <td>0</td>\n",
       "      <td>&lt;NA&gt;</td>\n",
       "      <td>0</td>\n",
       "      <td>0</td>\n",
       "      <td>0</td>\n",
       "      <td>&lt;NA&gt;</td>\n",
       "    </tr>\n",
       "    <tr>\n",
       "      <th>10336</th>\n",
       "      <td>5bf51fc2e162d6faf9e3cf79e4198378</td>\n",
       "      <td>20220827</td>\n",
       "      <td>35</td>\n",
       "      <td>18103</td>\n",
       "      <td>952800</td>\n",
       "      <td>Census Tract 9528, Miami County, Indiana</td>\n",
       "      <td>20</td>\n",
       "      <td>0</td>\n",
       "      <td>0</td>\n",
       "      <td>&lt;NA&gt;</td>\n",
       "      <td>...</td>\n",
       "      <td>&lt;NA&gt;</td>\n",
       "      <td>&lt;NA&gt;</td>\n",
       "      <td>0</td>\n",
       "      <td>0</td>\n",
       "      <td>0</td>\n",
       "      <td>&lt;NA&gt;</td>\n",
       "      <td>0</td>\n",
       "      <td>0</td>\n",
       "      <td>0</td>\n",
       "      <td>&lt;NA&gt;</td>\n",
       "    </tr>\n",
       "  </tbody>\n",
       "</table>\n",
       "<p>8 rows × 25 columns</p>\n",
       "</div>"
      ],
      "text/plain": [
       "                                  uu_id  timeperiod  week_number  countyfips  \\\n",
       "10338  5bf51fc2e162d6faf9e3cf79e4198378    20220101            1       18103   \n",
       "16015  5bf51fc2e162d6faf9e3cf79e4198378    20220108            2       18103   \n",
       "16017  5bf51fc2e162d6faf9e3cf79e4198378    20220326           13       18103   \n",
       "16016  5bf51fc2e162d6faf9e3cf79e4198378    20220618           25       18103   \n",
       "4630   5bf51fc2e162d6faf9e3cf79e4198378    20220625           26       18103   \n",
       "11725  5bf51fc2e162d6faf9e3cf79e4198378    20220702           27       18103   \n",
       "7870   5bf51fc2e162d6faf9e3cf79e4198378    20220820           34       18103   \n",
       "10336  5bf51fc2e162d6faf9e3cf79e4198378    20220827           35       18103   \n",
       "\n",
       "        tract                                tract_name  total_claims  \\\n",
       "10338  952800  Census Tract 9528, Miami County, Indiana            17   \n",
       "16015  952800  Census Tract 9528, Miami County, Indiana            10   \n",
       "16017  952800  Census Tract 9528, Miami County, Indiana            11   \n",
       "16016  952800  Census Tract 9528, Miami County, Indiana            16   \n",
       "4630   952800  Census Tract 9528, Miami County, Indiana            20   \n",
       "11725  952800  Census Tract 9528, Miami County, Indiana            18   \n",
       "7870   952800  Census Tract 9528, Miami County, Indiana            11   \n",
       "10336  952800  Census Tract 9528, Miami County, Indiana            20   \n",
       "\n",
       "       edu_8th_or_less  edu_grades_9_11  edu_hs_grad_equiv  ...  \\\n",
       "10338                0             <NA>               <NA>  ...   \n",
       "16015                0             <NA>               <NA>  ...   \n",
       "16017                0             <NA>               <NA>  ...   \n",
       "16016                0                0               <NA>  ...   \n",
       "4630                 0             <NA>                 11  ...   \n",
       "11725                0                0               <NA>  ...   \n",
       "7870                 0                0               <NA>  ...   \n",
       "10336                0                0               <NA>  ...   \n",
       "\n",
       "       gender_female  gender_male gender_na race_amerindian race_asian  \\\n",
       "10338           <NA>         <NA>         0               0          0   \n",
       "16015           <NA>         <NA>         0               0          0   \n",
       "16017           <NA>         <NA>         0               0          0   \n",
       "16016           <NA>         <NA>         0               0          0   \n",
       "4630            <NA>         <NA>         0            <NA>          0   \n",
       "11725           <NA>         <NA>         0               0          0   \n",
       "7870            <NA>         <NA>         0            <NA>          0   \n",
       "10336           <NA>         <NA>         0               0          0   \n",
       "\n",
       "       race_black  race_noanswer  race_hawaiiannative  race_other  race_white  \n",
       "10338           0              0                    0           0          17  \n",
       "16015        <NA>              0                    0           0        <NA>  \n",
       "16017           0              0                    0           0          11  \n",
       "16016        <NA>              0                    0           0        <NA>  \n",
       "4630         <NA>              0                    0           0        <NA>  \n",
       "11725        <NA>              0                    0           0        <NA>  \n",
       "7870         <NA>              0                    0           0        <NA>  \n",
       "10336        <NA>              0                    0           0        <NA>  \n",
       "\n",
       "[8 rows x 25 columns]"
      ]
     },
     "execution_count": 53,
     "metadata": {},
     "output_type": "execute_result"
    }
   ],
   "source": [
    "tract_dict[0].head(38)"
   ]
  },
  {
   "cell_type": "code",
   "execution_count": 54,
   "id": "0d3982e0",
   "metadata": {
    "execution": {
     "iopub.execute_input": "2023-05-10T00:57:27.976286Z",
     "iopub.status.busy": "2023-05-10T00:57:27.976199Z",
     "iopub.status.idle": "2023-05-10T00:57:28.049951Z",
     "shell.execute_reply": "2023-05-10T00:57:28.049669Z"
    }
   },
   "outputs": [],
   "source": [
    "# compute the simple moving average over 4 weeks for each frame\n",
    "for key, val in tract_dict.items():\n",
    "    tract_dict[key][\"SMA4\"] = tract_dict[key][\"total_claims\"].rolling(4).mean()"
   ]
  },
  {
   "cell_type": "code",
   "execution_count": 55,
   "id": "e08603a4",
   "metadata": {
    "execution": {
     "iopub.execute_input": "2023-05-10T00:57:28.051507Z",
     "iopub.status.busy": "2023-05-10T00:57:28.051423Z",
     "iopub.status.idle": "2023-05-10T00:57:28.167490Z",
     "shell.execute_reply": "2023-05-10T00:57:28.165824Z"
    }
   },
   "outputs": [
    {
     "data": {
      "text/plain": [
       "<AxesSubplot: >"
      ]
     },
     "execution_count": 55,
     "metadata": {},
     "output_type": "execute_result"
    },
    {
     "data": {
      "image/png": "[encoded data removed]",
      "text/plain": [
       "<Figure size 640x480 with 1 Axes>"
      ]
     },
     "metadata": {},
     "output_type": "display_data"
    }
   ],
   "source": [
    "tract_dict[0][[\"SMA4\", \"total_claims\"]].plot()"
   ]
  },
  {
   "cell_type": "code",
   "execution_count": 56,
   "id": "fa3c5bf6",
   "metadata": {
    "execution": {
     "iopub.execute_input": "2023-05-10T00:57:28.173702Z",
     "iopub.status.busy": "2023-05-10T00:57:28.173142Z",
     "iopub.status.idle": "2023-05-10T00:57:28.328827Z",
     "shell.execute_reply": "2023-05-10T00:57:28.327346Z"
    }
   },
   "outputs": [
    {
     "data": {
      "text/plain": [
       "<AxesSubplot: >"
      ]
     },
     "execution_count": 56,
     "metadata": {},
     "output_type": "execute_result"
    },
    {
     "data": {
      "image/png": "[encoded data removed]",
      "text/plain": [
       "<Figure size 640x480 with 1 Axes>"
      ]
     },
     "metadata": {},
     "output_type": "display_data"
    }
   ],
   "source": [
    "tract_dict[0][[\"total_claims\", \"SMA4\"]].plot()"
   ]
  },
  {
   "cell_type": "code",
   "execution_count": 57,
   "id": "0c41df4e",
   "metadata": {
    "execution": {
     "iopub.execute_input": "2023-05-10T00:57:28.333048Z",
     "iopub.status.busy": "2023-05-10T00:57:28.332729Z",
     "iopub.status.idle": "2023-05-10T00:57:28.350948Z",
     "shell.execute_reply": "2023-05-10T00:57:28.350279Z"
    }
   },
   "outputs": [
    {
     "data": {
      "text/html": [
       "<div>\n",
       "<style scoped>\n",
       "    .dataframe tbody tr th:only-of-type {\n",
       "        vertical-align: middle;\n",
       "    }\n",
       "\n",
       "    .dataframe tbody tr th {\n",
       "        vertical-align: top;\n",
       "    }\n",
       "\n",
       "    .dataframe thead th {\n",
       "        text-align: right;\n",
       "    }\n",
       "</style>\n",
       "<table border=\"1\" class=\"dataframe\">\n",
       "  <thead>\n",
       "    <tr style=\"text-align: right;\">\n",
       "      <th></th>\n",
       "      <th>uu_id</th>\n",
       "      <th>timeperiod</th>\n",
       "      <th>countyfips</th>\n",
       "      <th>tract</th>\n",
       "      <th>tract_name</th>\n",
       "      <th>total_claims</th>\n",
       "      <th>edu_8th_or_less</th>\n",
       "      <th>edu_grades_9_11</th>\n",
       "      <th>edu_hs_grad_equiv</th>\n",
       "      <th>edu_post_hs</th>\n",
       "      <th>...</th>\n",
       "      <th>gender_female</th>\n",
       "      <th>gender_male</th>\n",
       "      <th>gender_na</th>\n",
       "      <th>race_amerindian</th>\n",
       "      <th>race_asian</th>\n",
       "      <th>race_black</th>\n",
       "      <th>race_noanswer</th>\n",
       "      <th>race_hawaiiannative</th>\n",
       "      <th>race_other</th>\n",
       "      <th>race_white</th>\n",
       "    </tr>\n",
       "    <tr>\n",
       "      <th>week_number</th>\n",
       "      <th></th>\n",
       "      <th></th>\n",
       "      <th></th>\n",
       "      <th></th>\n",
       "      <th></th>\n",
       "      <th></th>\n",
       "      <th></th>\n",
       "      <th></th>\n",
       "      <th></th>\n",
       "      <th></th>\n",
       "      <th></th>\n",
       "      <th></th>\n",
       "      <th></th>\n",
       "      <th></th>\n",
       "      <th></th>\n",
       "      <th></th>\n",
       "      <th></th>\n",
       "      <th></th>\n",
       "      <th></th>\n",
       "      <th></th>\n",
       "      <th></th>\n",
       "    </tr>\n",
       "  </thead>\n",
       "  <tbody>\n",
       "    <tr>\n",
       "      <th>1</th>\n",
       "      <td>bbcb018f0e5e49e13636f6e78ce9f60f</td>\n",
       "      <td>20220101</td>\n",
       "      <td>18163</td>\n",
       "      <td>10203</td>\n",
       "      <td>Census Tract 102.03, Vanderburgh County, Indiana</td>\n",
       "      <td>23</td>\n",
       "      <td>&lt;NA&gt;</td>\n",
       "      <td>&lt;NA&gt;</td>\n",
       "      <td>13</td>\n",
       "      <td>&lt;NA&gt;</td>\n",
       "      <td>...</td>\n",
       "      <td>11</td>\n",
       "      <td>12</td>\n",
       "      <td>0</td>\n",
       "      <td>0</td>\n",
       "      <td>0</td>\n",
       "      <td>0</td>\n",
       "      <td>&lt;NA&gt;</td>\n",
       "      <td>0</td>\n",
       "      <td>0</td>\n",
       "      <td>&lt;NA&gt;</td>\n",
       "    </tr>\n",
       "    <tr>\n",
       "      <th>2</th>\n",
       "      <td>bbcb018f0e5e49e13636f6e78ce9f60f</td>\n",
       "      <td>20220108</td>\n",
       "      <td>18163</td>\n",
       "      <td>10203</td>\n",
       "      <td>Census Tract 102.03, Vanderburgh County, Indiana</td>\n",
       "      <td>29</td>\n",
       "      <td>0</td>\n",
       "      <td>&lt;NA&gt;</td>\n",
       "      <td>17</td>\n",
       "      <td>&lt;NA&gt;</td>\n",
       "      <td>...</td>\n",
       "      <td>15</td>\n",
       "      <td>14</td>\n",
       "      <td>0</td>\n",
       "      <td>0</td>\n",
       "      <td>0</td>\n",
       "      <td>&lt;NA&gt;</td>\n",
       "      <td>&lt;NA&gt;</td>\n",
       "      <td>0</td>\n",
       "      <td>0</td>\n",
       "      <td>25</td>\n",
       "    </tr>\n",
       "    <tr>\n",
       "      <th>3</th>\n",
       "      <td>bbcb018f0e5e49e13636f6e78ce9f60f</td>\n",
       "      <td>20220115</td>\n",
       "      <td>18163</td>\n",
       "      <td>10203</td>\n",
       "      <td>Census Tract 102.03, Vanderburgh County, Indiana</td>\n",
       "      <td>30</td>\n",
       "      <td>0</td>\n",
       "      <td>&lt;NA&gt;</td>\n",
       "      <td>&lt;NA&gt;</td>\n",
       "      <td>15</td>\n",
       "      <td>...</td>\n",
       "      <td>13</td>\n",
       "      <td>17</td>\n",
       "      <td>0</td>\n",
       "      <td>0</td>\n",
       "      <td>&lt;NA&gt;</td>\n",
       "      <td>0</td>\n",
       "      <td>&lt;NA&gt;</td>\n",
       "      <td>0</td>\n",
       "      <td>0</td>\n",
       "      <td>26</td>\n",
       "    </tr>\n",
       "    <tr>\n",
       "      <th>5</th>\n",
       "      <td>bbcb018f0e5e49e13636f6e78ce9f60f</td>\n",
       "      <td>20220129</td>\n",
       "      <td>18163</td>\n",
       "      <td>10203</td>\n",
       "      <td>Census Tract 102.03, Vanderburgh County, Indiana</td>\n",
       "      <td>30</td>\n",
       "      <td>0</td>\n",
       "      <td>&lt;NA&gt;</td>\n",
       "      <td>15</td>\n",
       "      <td>&lt;NA&gt;</td>\n",
       "      <td>...</td>\n",
       "      <td>12</td>\n",
       "      <td>18</td>\n",
       "      <td>0</td>\n",
       "      <td>0</td>\n",
       "      <td>0</td>\n",
       "      <td>0</td>\n",
       "      <td>&lt;NA&gt;</td>\n",
       "      <td>0</td>\n",
       "      <td>0</td>\n",
       "      <td>&lt;NA&gt;</td>\n",
       "    </tr>\n",
       "    <tr>\n",
       "      <th>6</th>\n",
       "      <td>bbcb018f0e5e49e13636f6e78ce9f60f</td>\n",
       "      <td>20220205</td>\n",
       "      <td>18163</td>\n",
       "      <td>10203</td>\n",
       "      <td>Census Tract 102.03, Vanderburgh County, Indiana</td>\n",
       "      <td>32</td>\n",
       "      <td>0</td>\n",
       "      <td>&lt;NA&gt;</td>\n",
       "      <td>18</td>\n",
       "      <td>&lt;NA&gt;</td>\n",
       "      <td>...</td>\n",
       "      <td>12</td>\n",
       "      <td>20</td>\n",
       "      <td>0</td>\n",
       "      <td>0</td>\n",
       "      <td>0</td>\n",
       "      <td>0</td>\n",
       "      <td>&lt;NA&gt;</td>\n",
       "      <td>0</td>\n",
       "      <td>&lt;NA&gt;</td>\n",
       "      <td>29</td>\n",
       "    </tr>\n",
       "    <tr>\n",
       "      <th>7</th>\n",
       "      <td>bbcb018f0e5e49e13636f6e78ce9f60f</td>\n",
       "      <td>20220212</td>\n",
       "      <td>18163</td>\n",
       "      <td>10203</td>\n",
       "      <td>Census Tract 102.03, Vanderburgh County, Indiana</td>\n",
       "      <td>22</td>\n",
       "      <td>0</td>\n",
       "      <td>&lt;NA&gt;</td>\n",
       "      <td>14</td>\n",
       "      <td>&lt;NA&gt;</td>\n",
       "      <td>...</td>\n",
       "      <td>&lt;NA&gt;</td>\n",
       "      <td>&lt;NA&gt;</td>\n",
       "      <td>0</td>\n",
       "      <td>0</td>\n",
       "      <td>0</td>\n",
       "      <td>&lt;NA&gt;</td>\n",
       "      <td>&lt;NA&gt;</td>\n",
       "      <td>0</td>\n",
       "      <td>&lt;NA&gt;</td>\n",
       "      <td>17</td>\n",
       "    </tr>\n",
       "    <tr>\n",
       "      <th>8</th>\n",
       "      <td>bbcb018f0e5e49e13636f6e78ce9f60f</td>\n",
       "      <td>20220219</td>\n",
       "      <td>18163</td>\n",
       "      <td>10203</td>\n",
       "      <td>Census Tract 102.03, Vanderburgh County, Indiana</td>\n",
       "      <td>26</td>\n",
       "      <td>0</td>\n",
       "      <td>&lt;NA&gt;</td>\n",
       "      <td>17</td>\n",
       "      <td>&lt;NA&gt;</td>\n",
       "      <td>...</td>\n",
       "      <td>11</td>\n",
       "      <td>15</td>\n",
       "      <td>0</td>\n",
       "      <td>0</td>\n",
       "      <td>0</td>\n",
       "      <td>0</td>\n",
       "      <td>&lt;NA&gt;</td>\n",
       "      <td>0</td>\n",
       "      <td>0</td>\n",
       "      <td>&lt;NA&gt;</td>\n",
       "    </tr>\n",
       "    <tr>\n",
       "      <th>9</th>\n",
       "      <td>bbcb018f0e5e49e13636f6e78ce9f60f</td>\n",
       "      <td>20220226</td>\n",
       "      <td>18163</td>\n",
       "      <td>10203</td>\n",
       "      <td>Census Tract 102.03, Vanderburgh County, Indiana</td>\n",
       "      <td>23</td>\n",
       "      <td>0</td>\n",
       "      <td>&lt;NA&gt;</td>\n",
       "      <td>13</td>\n",
       "      <td>&lt;NA&gt;</td>\n",
       "      <td>...</td>\n",
       "      <td>&lt;NA&gt;</td>\n",
       "      <td>&lt;NA&gt;</td>\n",
       "      <td>0</td>\n",
       "      <td>0</td>\n",
       "      <td>0</td>\n",
       "      <td>0</td>\n",
       "      <td>&lt;NA&gt;</td>\n",
       "      <td>0</td>\n",
       "      <td>0</td>\n",
       "      <td>&lt;NA&gt;</td>\n",
       "    </tr>\n",
       "    <tr>\n",
       "      <th>10</th>\n",
       "      <td>bbcb018f0e5e49e13636f6e78ce9f60f</td>\n",
       "      <td>20220305</td>\n",
       "      <td>18163</td>\n",
       "      <td>10203</td>\n",
       "      <td>Census Tract 102.03, Vanderburgh County, Indiana</td>\n",
       "      <td>21</td>\n",
       "      <td>0</td>\n",
       "      <td>&lt;NA&gt;</td>\n",
       "      <td>10</td>\n",
       "      <td>&lt;NA&gt;</td>\n",
       "      <td>...</td>\n",
       "      <td>&lt;NA&gt;</td>\n",
       "      <td>&lt;NA&gt;</td>\n",
       "      <td>0</td>\n",
       "      <td>0</td>\n",
       "      <td>0</td>\n",
       "      <td>0</td>\n",
       "      <td>&lt;NA&gt;</td>\n",
       "      <td>0</td>\n",
       "      <td>0</td>\n",
       "      <td>&lt;NA&gt;</td>\n",
       "    </tr>\n",
       "    <tr>\n",
       "      <th>11</th>\n",
       "      <td>bbcb018f0e5e49e13636f6e78ce9f60f</td>\n",
       "      <td>20220312</td>\n",
       "      <td>18163</td>\n",
       "      <td>10203</td>\n",
       "      <td>Census Tract 102.03, Vanderburgh County, Indiana</td>\n",
       "      <td>19</td>\n",
       "      <td>0</td>\n",
       "      <td>&lt;NA&gt;</td>\n",
       "      <td>&lt;NA&gt;</td>\n",
       "      <td>&lt;NA&gt;</td>\n",
       "      <td>...</td>\n",
       "      <td>&lt;NA&gt;</td>\n",
       "      <td>&lt;NA&gt;</td>\n",
       "      <td>0</td>\n",
       "      <td>0</td>\n",
       "      <td>0</td>\n",
       "      <td>&lt;NA&gt;</td>\n",
       "      <td>&lt;NA&gt;</td>\n",
       "      <td>0</td>\n",
       "      <td>0</td>\n",
       "      <td>16</td>\n",
       "    </tr>\n",
       "    <tr>\n",
       "      <th>12</th>\n",
       "      <td>bbcb018f0e5e49e13636f6e78ce9f60f</td>\n",
       "      <td>20220319</td>\n",
       "      <td>18163</td>\n",
       "      <td>10203</td>\n",
       "      <td>Census Tract 102.03, Vanderburgh County, Indiana</td>\n",
       "      <td>33</td>\n",
       "      <td>0</td>\n",
       "      <td>&lt;NA&gt;</td>\n",
       "      <td>&lt;NA&gt;</td>\n",
       "      <td>18</td>\n",
       "      <td>...</td>\n",
       "      <td>&lt;NA&gt;</td>\n",
       "      <td>&lt;NA&gt;</td>\n",
       "      <td>0</td>\n",
       "      <td>0</td>\n",
       "      <td>0</td>\n",
       "      <td>&lt;NA&gt;</td>\n",
       "      <td>&lt;NA&gt;</td>\n",
       "      <td>0</td>\n",
       "      <td>0</td>\n",
       "      <td>&lt;NA&gt;</td>\n",
       "    </tr>\n",
       "    <tr>\n",
       "      <th>13</th>\n",
       "      <td>bbcb018f0e5e49e13636f6e78ce9f60f</td>\n",
       "      <td>20220326</td>\n",
       "      <td>18163</td>\n",
       "      <td>10203</td>\n",
       "      <td>Census Tract 102.03, Vanderburgh County, Indiana</td>\n",
       "      <td>53</td>\n",
       "      <td>0</td>\n",
       "      <td>&lt;NA&gt;</td>\n",
       "      <td>48</td>\n",
       "      <td>&lt;NA&gt;</td>\n",
       "      <td>...</td>\n",
       "      <td>&lt;NA&gt;</td>\n",
       "      <td>&lt;NA&gt;</td>\n",
       "      <td>0</td>\n",
       "      <td>0</td>\n",
       "      <td>0</td>\n",
       "      <td>&lt;NA&gt;</td>\n",
       "      <td>&lt;NA&gt;</td>\n",
       "      <td>0</td>\n",
       "      <td>0</td>\n",
       "      <td>&lt;NA&gt;</td>\n",
       "    </tr>\n",
       "    <tr>\n",
       "      <th>14</th>\n",
       "      <td>bbcb018f0e5e49e13636f6e78ce9f60f</td>\n",
       "      <td>20220402</td>\n",
       "      <td>18163</td>\n",
       "      <td>10203</td>\n",
       "      <td>Census Tract 102.03, Vanderburgh County, Indiana</td>\n",
       "      <td>28</td>\n",
       "      <td>0</td>\n",
       "      <td>&lt;NA&gt;</td>\n",
       "      <td>&lt;NA&gt;</td>\n",
       "      <td>13</td>\n",
       "      <td>...</td>\n",
       "      <td>12</td>\n",
       "      <td>16</td>\n",
       "      <td>0</td>\n",
       "      <td>&lt;NA&gt;</td>\n",
       "      <td>0</td>\n",
       "      <td>0</td>\n",
       "      <td>&lt;NA&gt;</td>\n",
       "      <td>0</td>\n",
       "      <td>0</td>\n",
       "      <td>23</td>\n",
       "    </tr>\n",
       "    <tr>\n",
       "      <th>15</th>\n",
       "      <td>bbcb018f0e5e49e13636f6e78ce9f60f</td>\n",
       "      <td>20220409</td>\n",
       "      <td>18163</td>\n",
       "      <td>10203</td>\n",
       "      <td>Census Tract 102.03, Vanderburgh County, Indiana</td>\n",
       "      <td>26</td>\n",
       "      <td>0</td>\n",
       "      <td>&lt;NA&gt;</td>\n",
       "      <td>12</td>\n",
       "      <td>&lt;NA&gt;</td>\n",
       "      <td>...</td>\n",
       "      <td>&lt;NA&gt;</td>\n",
       "      <td>&lt;NA&gt;</td>\n",
       "      <td>0</td>\n",
       "      <td>&lt;NA&gt;</td>\n",
       "      <td>0</td>\n",
       "      <td>&lt;NA&gt;</td>\n",
       "      <td>&lt;NA&gt;</td>\n",
       "      <td>0</td>\n",
       "      <td>&lt;NA&gt;</td>\n",
       "      <td>20</td>\n",
       "    </tr>\n",
       "    <tr>\n",
       "      <th>16</th>\n",
       "      <td>bbcb018f0e5e49e13636f6e78ce9f60f</td>\n",
       "      <td>20220416</td>\n",
       "      <td>18163</td>\n",
       "      <td>10203</td>\n",
       "      <td>Census Tract 102.03, Vanderburgh County, Indiana</td>\n",
       "      <td>24</td>\n",
       "      <td>0</td>\n",
       "      <td>&lt;NA&gt;</td>\n",
       "      <td>18</td>\n",
       "      <td>&lt;NA&gt;</td>\n",
       "      <td>...</td>\n",
       "      <td>11</td>\n",
       "      <td>13</td>\n",
       "      <td>0</td>\n",
       "      <td>0</td>\n",
       "      <td>&lt;NA&gt;</td>\n",
       "      <td>&lt;NA&gt;</td>\n",
       "      <td>&lt;NA&gt;</td>\n",
       "      <td>0</td>\n",
       "      <td>0</td>\n",
       "      <td>&lt;NA&gt;</td>\n",
       "    </tr>\n",
       "    <tr>\n",
       "      <th>17</th>\n",
       "      <td>bbcb018f0e5e49e13636f6e78ce9f60f</td>\n",
       "      <td>20220423</td>\n",
       "      <td>18163</td>\n",
       "      <td>10203</td>\n",
       "      <td>Census Tract 102.03, Vanderburgh County, Indiana</td>\n",
       "      <td>48</td>\n",
       "      <td>0</td>\n",
       "      <td>&lt;NA&gt;</td>\n",
       "      <td>36</td>\n",
       "      <td>&lt;NA&gt;</td>\n",
       "      <td>...</td>\n",
       "      <td>10</td>\n",
       "      <td>38</td>\n",
       "      <td>0</td>\n",
       "      <td>&lt;NA&gt;</td>\n",
       "      <td>0</td>\n",
       "      <td>21</td>\n",
       "      <td>&lt;NA&gt;</td>\n",
       "      <td>0</td>\n",
       "      <td>&lt;NA&gt;</td>\n",
       "      <td>23</td>\n",
       "    </tr>\n",
       "    <tr>\n",
       "      <th>18</th>\n",
       "      <td>bbcb018f0e5e49e13636f6e78ce9f60f</td>\n",
       "      <td>20220430</td>\n",
       "      <td>18163</td>\n",
       "      <td>10203</td>\n",
       "      <td>Census Tract 102.03, Vanderburgh County, Indiana</td>\n",
       "      <td>23</td>\n",
       "      <td>0</td>\n",
       "      <td>&lt;NA&gt;</td>\n",
       "      <td>&lt;NA&gt;</td>\n",
       "      <td>11</td>\n",
       "      <td>...</td>\n",
       "      <td>&lt;NA&gt;</td>\n",
       "      <td>&lt;NA&gt;</td>\n",
       "      <td>0</td>\n",
       "      <td>&lt;NA&gt;</td>\n",
       "      <td>0</td>\n",
       "      <td>0</td>\n",
       "      <td>&lt;NA&gt;</td>\n",
       "      <td>0</td>\n",
       "      <td>&lt;NA&gt;</td>\n",
       "      <td>17</td>\n",
       "    </tr>\n",
       "    <tr>\n",
       "      <th>19</th>\n",
       "      <td>bbcb018f0e5e49e13636f6e78ce9f60f</td>\n",
       "      <td>20220507</td>\n",
       "      <td>18163</td>\n",
       "      <td>10203</td>\n",
       "      <td>Census Tract 102.03, Vanderburgh County, Indiana</td>\n",
       "      <td>13</td>\n",
       "      <td>0</td>\n",
       "      <td>&lt;NA&gt;</td>\n",
       "      <td>&lt;NA&gt;</td>\n",
       "      <td>&lt;NA&gt;</td>\n",
       "      <td>...</td>\n",
       "      <td>&lt;NA&gt;</td>\n",
       "      <td>&lt;NA&gt;</td>\n",
       "      <td>0</td>\n",
       "      <td>0</td>\n",
       "      <td>0</td>\n",
       "      <td>0</td>\n",
       "      <td>&lt;NA&gt;</td>\n",
       "      <td>0</td>\n",
       "      <td>0</td>\n",
       "      <td>&lt;NA&gt;</td>\n",
       "    </tr>\n",
       "    <tr>\n",
       "      <th>20</th>\n",
       "      <td>bbcb018f0e5e49e13636f6e78ce9f60f</td>\n",
       "      <td>20220514</td>\n",
       "      <td>18163</td>\n",
       "      <td>10203</td>\n",
       "      <td>Census Tract 102.03, Vanderburgh County, Indiana</td>\n",
       "      <td>21</td>\n",
       "      <td>0</td>\n",
       "      <td>&lt;NA&gt;</td>\n",
       "      <td>&lt;NA&gt;</td>\n",
       "      <td>11</td>\n",
       "      <td>...</td>\n",
       "      <td>&lt;NA&gt;</td>\n",
       "      <td>&lt;NA&gt;</td>\n",
       "      <td>0</td>\n",
       "      <td>0</td>\n",
       "      <td>0</td>\n",
       "      <td>&lt;NA&gt;</td>\n",
       "      <td>&lt;NA&gt;</td>\n",
       "      <td>0</td>\n",
       "      <td>0</td>\n",
       "      <td>17</td>\n",
       "    </tr>\n",
       "    <tr>\n",
       "      <th>21</th>\n",
       "      <td>bbcb018f0e5e49e13636f6e78ce9f60f</td>\n",
       "      <td>20220521</td>\n",
       "      <td>18163</td>\n",
       "      <td>10203</td>\n",
       "      <td>Census Tract 102.03, Vanderburgh County, Indiana</td>\n",
       "      <td>38</td>\n",
       "      <td>0</td>\n",
       "      <td>&lt;NA&gt;</td>\n",
       "      <td>26</td>\n",
       "      <td>&lt;NA&gt;</td>\n",
       "      <td>...</td>\n",
       "      <td>16</td>\n",
       "      <td>22</td>\n",
       "      <td>0</td>\n",
       "      <td>0</td>\n",
       "      <td>0</td>\n",
       "      <td>&lt;NA&gt;</td>\n",
       "      <td>&lt;NA&gt;</td>\n",
       "      <td>0</td>\n",
       "      <td>0</td>\n",
       "      <td>24</td>\n",
       "    </tr>\n",
       "    <tr>\n",
       "      <th>22</th>\n",
       "      <td>bbcb018f0e5e49e13636f6e78ce9f60f</td>\n",
       "      <td>20220528</td>\n",
       "      <td>18163</td>\n",
       "      <td>10203</td>\n",
       "      <td>Census Tract 102.03, Vanderburgh County, Indiana</td>\n",
       "      <td>27</td>\n",
       "      <td>0</td>\n",
       "      <td>&lt;NA&gt;</td>\n",
       "      <td>&lt;NA&gt;</td>\n",
       "      <td>15</td>\n",
       "      <td>...</td>\n",
       "      <td>12</td>\n",
       "      <td>15</td>\n",
       "      <td>0</td>\n",
       "      <td>0</td>\n",
       "      <td>0</td>\n",
       "      <td>&lt;NA&gt;</td>\n",
       "      <td>&lt;NA&gt;</td>\n",
       "      <td>0</td>\n",
       "      <td>&lt;NA&gt;</td>\n",
       "      <td>&lt;NA&gt;</td>\n",
       "    </tr>\n",
       "    <tr>\n",
       "      <th>24</th>\n",
       "      <td>bbcb018f0e5e49e13636f6e78ce9f60f</td>\n",
       "      <td>20220611</td>\n",
       "      <td>18163</td>\n",
       "      <td>10203</td>\n",
       "      <td>Census Tract 102.03, Vanderburgh County, Indiana</td>\n",
       "      <td>35</td>\n",
       "      <td>&lt;NA&gt;</td>\n",
       "      <td>18</td>\n",
       "      <td>&lt;NA&gt;</td>\n",
       "      <td>&lt;NA&gt;</td>\n",
       "      <td>...</td>\n",
       "      <td>23</td>\n",
       "      <td>12</td>\n",
       "      <td>0</td>\n",
       "      <td>0</td>\n",
       "      <td>0</td>\n",
       "      <td>&lt;NA&gt;</td>\n",
       "      <td>&lt;NA&gt;</td>\n",
       "      <td>0</td>\n",
       "      <td>0</td>\n",
       "      <td>&lt;NA&gt;</td>\n",
       "    </tr>\n",
       "    <tr>\n",
       "      <th>25</th>\n",
       "      <td>bbcb018f0e5e49e13636f6e78ce9f60f</td>\n",
       "      <td>20220618</td>\n",
       "      <td>18163</td>\n",
       "      <td>10203</td>\n",
       "      <td>Census Tract 102.03, Vanderburgh County, Indiana</td>\n",
       "      <td>23</td>\n",
       "      <td>0</td>\n",
       "      <td>&lt;NA&gt;</td>\n",
       "      <td>&lt;NA&gt;</td>\n",
       "      <td>11</td>\n",
       "      <td>...</td>\n",
       "      <td>11</td>\n",
       "      <td>12</td>\n",
       "      <td>0</td>\n",
       "      <td>0</td>\n",
       "      <td>0</td>\n",
       "      <td>&lt;NA&gt;</td>\n",
       "      <td>&lt;NA&gt;</td>\n",
       "      <td>0</td>\n",
       "      <td>0</td>\n",
       "      <td>&lt;NA&gt;</td>\n",
       "    </tr>\n",
       "    <tr>\n",
       "      <th>26</th>\n",
       "      <td>bbcb018f0e5e49e13636f6e78ce9f60f</td>\n",
       "      <td>20220625</td>\n",
       "      <td>18163</td>\n",
       "      <td>10203</td>\n",
       "      <td>Census Tract 102.03, Vanderburgh County, Indiana</td>\n",
       "      <td>19</td>\n",
       "      <td>0</td>\n",
       "      <td>&lt;NA&gt;</td>\n",
       "      <td>&lt;NA&gt;</td>\n",
       "      <td>&lt;NA&gt;</td>\n",
       "      <td>...</td>\n",
       "      <td>&lt;NA&gt;</td>\n",
       "      <td>&lt;NA&gt;</td>\n",
       "      <td>0</td>\n",
       "      <td>0</td>\n",
       "      <td>0</td>\n",
       "      <td>&lt;NA&gt;</td>\n",
       "      <td>0</td>\n",
       "      <td>0</td>\n",
       "      <td>0</td>\n",
       "      <td>&lt;NA&gt;</td>\n",
       "    </tr>\n",
       "    <tr>\n",
       "      <th>27</th>\n",
       "      <td>bbcb018f0e5e49e13636f6e78ce9f60f</td>\n",
       "      <td>20220702</td>\n",
       "      <td>18163</td>\n",
       "      <td>10203</td>\n",
       "      <td>Census Tract 102.03, Vanderburgh County, Indiana</td>\n",
       "      <td>11</td>\n",
       "      <td>0</td>\n",
       "      <td>0</td>\n",
       "      <td>&lt;NA&gt;</td>\n",
       "      <td>&lt;NA&gt;</td>\n",
       "      <td>...</td>\n",
       "      <td>&lt;NA&gt;</td>\n",
       "      <td>&lt;NA&gt;</td>\n",
       "      <td>0</td>\n",
       "      <td>0</td>\n",
       "      <td>0</td>\n",
       "      <td>&lt;NA&gt;</td>\n",
       "      <td>&lt;NA&gt;</td>\n",
       "      <td>0</td>\n",
       "      <td>0</td>\n",
       "      <td>&lt;NA&gt;</td>\n",
       "    </tr>\n",
       "    <tr>\n",
       "      <th>28</th>\n",
       "      <td>bbcb018f0e5e49e13636f6e78ce9f60f</td>\n",
       "      <td>20220709</td>\n",
       "      <td>18163</td>\n",
       "      <td>10203</td>\n",
       "      <td>Census Tract 102.03, Vanderburgh County, Indiana</td>\n",
       "      <td>24</td>\n",
       "      <td>0</td>\n",
       "      <td>&lt;NA&gt;</td>\n",
       "      <td>14</td>\n",
       "      <td>&lt;NA&gt;</td>\n",
       "      <td>...</td>\n",
       "      <td>&lt;NA&gt;</td>\n",
       "      <td>&lt;NA&gt;</td>\n",
       "      <td>0</td>\n",
       "      <td>0</td>\n",
       "      <td>0</td>\n",
       "      <td>&lt;NA&gt;</td>\n",
       "      <td>0</td>\n",
       "      <td>0</td>\n",
       "      <td>0</td>\n",
       "      <td>&lt;NA&gt;</td>\n",
       "    </tr>\n",
       "    <tr>\n",
       "      <th>29</th>\n",
       "      <td>bbcb018f0e5e49e13636f6e78ce9f60f</td>\n",
       "      <td>20220716</td>\n",
       "      <td>18163</td>\n",
       "      <td>10203</td>\n",
       "      <td>Census Tract 102.03, Vanderburgh County, Indiana</td>\n",
       "      <td>19</td>\n",
       "      <td>0</td>\n",
       "      <td>&lt;NA&gt;</td>\n",
       "      <td>12</td>\n",
       "      <td>&lt;NA&gt;</td>\n",
       "      <td>...</td>\n",
       "      <td>&lt;NA&gt;</td>\n",
       "      <td>&lt;NA&gt;</td>\n",
       "      <td>0</td>\n",
       "      <td>0</td>\n",
       "      <td>0</td>\n",
       "      <td>&lt;NA&gt;</td>\n",
       "      <td>&lt;NA&gt;</td>\n",
       "      <td>0</td>\n",
       "      <td>&lt;NA&gt;</td>\n",
       "      <td>&lt;NA&gt;</td>\n",
       "    </tr>\n",
       "    <tr>\n",
       "      <th>30</th>\n",
       "      <td>bbcb018f0e5e49e13636f6e78ce9f60f</td>\n",
       "      <td>20220723</td>\n",
       "      <td>18163</td>\n",
       "      <td>10203</td>\n",
       "      <td>Census Tract 102.03, Vanderburgh County, Indiana</td>\n",
       "      <td>27</td>\n",
       "      <td>0</td>\n",
       "      <td>&lt;NA&gt;</td>\n",
       "      <td>18</td>\n",
       "      <td>&lt;NA&gt;</td>\n",
       "      <td>...</td>\n",
       "      <td>&lt;NA&gt;</td>\n",
       "      <td>&lt;NA&gt;</td>\n",
       "      <td>0</td>\n",
       "      <td>0</td>\n",
       "      <td>0</td>\n",
       "      <td>0</td>\n",
       "      <td>&lt;NA&gt;</td>\n",
       "      <td>0</td>\n",
       "      <td>0</td>\n",
       "      <td>&lt;NA&gt;</td>\n",
       "    </tr>\n",
       "    <tr>\n",
       "      <th>31</th>\n",
       "      <td>bbcb018f0e5e49e13636f6e78ce9f60f</td>\n",
       "      <td>20220730</td>\n",
       "      <td>18163</td>\n",
       "      <td>10203</td>\n",
       "      <td>Census Tract 102.03, Vanderburgh County, Indiana</td>\n",
       "      <td>17</td>\n",
       "      <td>0</td>\n",
       "      <td>&lt;NA&gt;</td>\n",
       "      <td>&lt;NA&gt;</td>\n",
       "      <td>&lt;NA&gt;</td>\n",
       "      <td>...</td>\n",
       "      <td>&lt;NA&gt;</td>\n",
       "      <td>&lt;NA&gt;</td>\n",
       "      <td>0</td>\n",
       "      <td>0</td>\n",
       "      <td>0</td>\n",
       "      <td>0</td>\n",
       "      <td>&lt;NA&gt;</td>\n",
       "      <td>0</td>\n",
       "      <td>0</td>\n",
       "      <td>&lt;NA&gt;</td>\n",
       "    </tr>\n",
       "    <tr>\n",
       "      <th>32</th>\n",
       "      <td>bbcb018f0e5e49e13636f6e78ce9f60f</td>\n",
       "      <td>20220806</td>\n",
       "      <td>18163</td>\n",
       "      <td>10203</td>\n",
       "      <td>Census Tract 102.03, Vanderburgh County, Indiana</td>\n",
       "      <td>28</td>\n",
       "      <td>&lt;NA&gt;</td>\n",
       "      <td>&lt;NA&gt;</td>\n",
       "      <td>16</td>\n",
       "      <td>&lt;NA&gt;</td>\n",
       "      <td>...</td>\n",
       "      <td>&lt;NA&gt;</td>\n",
       "      <td>&lt;NA&gt;</td>\n",
       "      <td>0</td>\n",
       "      <td>0</td>\n",
       "      <td>0</td>\n",
       "      <td>&lt;NA&gt;</td>\n",
       "      <td>&lt;NA&gt;</td>\n",
       "      <td>0</td>\n",
       "      <td>0</td>\n",
       "      <td>24</td>\n",
       "    </tr>\n",
       "    <tr>\n",
       "      <th>33</th>\n",
       "      <td>bbcb018f0e5e49e13636f6e78ce9f60f</td>\n",
       "      <td>20220813</td>\n",
       "      <td>18163</td>\n",
       "      <td>10203</td>\n",
       "      <td>Census Tract 102.03, Vanderburgh County, Indiana</td>\n",
       "      <td>23</td>\n",
       "      <td>0</td>\n",
       "      <td>&lt;NA&gt;</td>\n",
       "      <td>10</td>\n",
       "      <td>&lt;NA&gt;</td>\n",
       "      <td>...</td>\n",
       "      <td>&lt;NA&gt;</td>\n",
       "      <td>&lt;NA&gt;</td>\n",
       "      <td>0</td>\n",
       "      <td>0</td>\n",
       "      <td>0</td>\n",
       "      <td>&lt;NA&gt;</td>\n",
       "      <td>0</td>\n",
       "      <td>0</td>\n",
       "      <td>&lt;NA&gt;</td>\n",
       "      <td>&lt;NA&gt;</td>\n",
       "    </tr>\n",
       "    <tr>\n",
       "      <th>34</th>\n",
       "      <td>bbcb018f0e5e49e13636f6e78ce9f60f</td>\n",
       "      <td>20220820</td>\n",
       "      <td>18163</td>\n",
       "      <td>10203</td>\n",
       "      <td>Census Tract 102.03, Vanderburgh County, Indiana</td>\n",
       "      <td>24</td>\n",
       "      <td>0</td>\n",
       "      <td>&lt;NA&gt;</td>\n",
       "      <td>&lt;NA&gt;</td>\n",
       "      <td>12</td>\n",
       "      <td>...</td>\n",
       "      <td>12</td>\n",
       "      <td>12</td>\n",
       "      <td>0</td>\n",
       "      <td>0</td>\n",
       "      <td>0</td>\n",
       "      <td>0</td>\n",
       "      <td>&lt;NA&gt;</td>\n",
       "      <td>0</td>\n",
       "      <td>0</td>\n",
       "      <td>&lt;NA&gt;</td>\n",
       "    </tr>\n",
       "    <tr>\n",
       "      <th>35</th>\n",
       "      <td>bbcb018f0e5e49e13636f6e78ce9f60f</td>\n",
       "      <td>20220827</td>\n",
       "      <td>18163</td>\n",
       "      <td>10203</td>\n",
       "      <td>Census Tract 102.03, Vanderburgh County, Indiana</td>\n",
       "      <td>28</td>\n",
       "      <td>0</td>\n",
       "      <td>&lt;NA&gt;</td>\n",
       "      <td>&lt;NA&gt;</td>\n",
       "      <td>14</td>\n",
       "      <td>...</td>\n",
       "      <td>&lt;NA&gt;</td>\n",
       "      <td>&lt;NA&gt;</td>\n",
       "      <td>0</td>\n",
       "      <td>0</td>\n",
       "      <td>&lt;NA&gt;</td>\n",
       "      <td>&lt;NA&gt;</td>\n",
       "      <td>&lt;NA&gt;</td>\n",
       "      <td>0</td>\n",
       "      <td>0</td>\n",
       "      <td>&lt;NA&gt;</td>\n",
       "    </tr>\n",
       "    <tr>\n",
       "      <th>36</th>\n",
       "      <td>bbcb018f0e5e49e13636f6e78ce9f60f</td>\n",
       "      <td>20220903</td>\n",
       "      <td>18163</td>\n",
       "      <td>10203</td>\n",
       "      <td>Census Tract 102.03, Vanderburgh County, Indiana</td>\n",
       "      <td>75</td>\n",
       "      <td>0</td>\n",
       "      <td>&lt;NA&gt;</td>\n",
       "      <td>62</td>\n",
       "      <td>&lt;NA&gt;</td>\n",
       "      <td>...</td>\n",
       "      <td>&lt;NA&gt;</td>\n",
       "      <td>&lt;NA&gt;</td>\n",
       "      <td>0</td>\n",
       "      <td>0</td>\n",
       "      <td>&lt;NA&gt;</td>\n",
       "      <td>&lt;NA&gt;</td>\n",
       "      <td>&lt;NA&gt;</td>\n",
       "      <td>0</td>\n",
       "      <td>0</td>\n",
       "      <td>&lt;NA&gt;</td>\n",
       "    </tr>\n",
       "    <tr>\n",
       "      <th>37</th>\n",
       "      <td>bbcb018f0e5e49e13636f6e78ce9f60f</td>\n",
       "      <td>20220910</td>\n",
       "      <td>18163</td>\n",
       "      <td>10203</td>\n",
       "      <td>Census Tract 102.03, Vanderburgh County, Indiana</td>\n",
       "      <td>13</td>\n",
       "      <td>0</td>\n",
       "      <td>&lt;NA&gt;</td>\n",
       "      <td>&lt;NA&gt;</td>\n",
       "      <td>&lt;NA&gt;</td>\n",
       "      <td>...</td>\n",
       "      <td>&lt;NA&gt;</td>\n",
       "      <td>&lt;NA&gt;</td>\n",
       "      <td>0</td>\n",
       "      <td>0</td>\n",
       "      <td>0</td>\n",
       "      <td>0</td>\n",
       "      <td>0</td>\n",
       "      <td>0</td>\n",
       "      <td>0</td>\n",
       "      <td>13</td>\n",
       "    </tr>\n",
       "  </tbody>\n",
       "</table>\n",
       "<p>35 rows × 24 columns</p>\n",
       "</div>"
      ],
      "text/plain": [
       "                                        uu_id  timeperiod  countyfips  tract  \\\n",
       "week_number                                                                    \n",
       "1            bbcb018f0e5e49e13636f6e78ce9f60f    20220101       18163  10203   \n",
       "2            bbcb018f0e5e49e13636f6e78ce9f60f    20220108       18163  10203   \n",
       "3            bbcb018f0e5e49e13636f6e78ce9f60f    20220115       18163  10203   \n",
       "5            bbcb018f0e5e49e13636f6e78ce9f60f    20220129       18163  10203   \n",
       "6            bbcb018f0e5e49e13636f6e78ce9f60f    20220205       18163  10203   \n",
       "7            bbcb018f0e5e49e13636f6e78ce9f60f    20220212       18163  10203   \n",
       "8            bbcb018f0e5e49e13636f6e78ce9f60f    20220219       18163  10203   \n",
       "9            bbcb018f0e5e49e13636f6e78ce9f60f    20220226       18163  10203   \n",
       "10           bbcb018f0e5e49e13636f6e78ce9f60f    20220305       18163  10203   \n",
       "11           bbcb018f0e5e49e13636f6e78ce9f60f    20220312       18163  10203   \n",
       "12           bbcb018f0e5e49e13636f6e78ce9f60f    20220319       18163  10203   \n",
       "13           bbcb018f0e5e49e13636f6e78ce9f60f    20220326       18163  10203   \n",
       "14           bbcb018f0e5e49e13636f6e78ce9f60f    20220402       18163  10203   \n",
       "15           bbcb018f0e5e49e13636f6e78ce9f60f    20220409       18163  10203   \n",
       "16           bbcb018f0e5e49e13636f6e78ce9f60f    20220416       18163  10203   \n",
       "17           bbcb018f0e5e49e13636f6e78ce9f60f    20220423       18163  10203   \n",
       "18           bbcb018f0e5e49e13636f6e78ce9f60f    20220430       18163  10203   \n",
       "19           bbcb018f0e5e49e13636f6e78ce9f60f    20220507       18163  10203   \n",
       "20           bbcb018f0e5e49e13636f6e78ce9f60f    20220514       18163  10203   \n",
       "21           bbcb018f0e5e49e13636f6e78ce9f60f    20220521       18163  10203   \n",
       "22           bbcb018f0e5e49e13636f6e78ce9f60f    20220528       18163  10203   \n",
       "24           bbcb018f0e5e49e13636f6e78ce9f60f    20220611       18163  10203   \n",
       "25           bbcb018f0e5e49e13636f6e78ce9f60f    20220618       18163  10203   \n",
       "26           bbcb018f0e5e49e13636f6e78ce9f60f    20220625       18163  10203   \n",
       "27           bbcb018f0e5e49e13636f6e78ce9f60f    20220702       18163  10203   \n",
       "28           bbcb018f0e5e49e13636f6e78ce9f60f    20220709       18163  10203   \n",
       "29           bbcb018f0e5e49e13636f6e78ce9f60f    20220716       18163  10203   \n",
       "30           bbcb018f0e5e49e13636f6e78ce9f60f    20220723       18163  10203   \n",
       "31           bbcb018f0e5e49e13636f6e78ce9f60f    20220730       18163  10203   \n",
       "32           bbcb018f0e5e49e13636f6e78ce9f60f    20220806       18163  10203   \n",
       "33           bbcb018f0e5e49e13636f6e78ce9f60f    20220813       18163  10203   \n",
       "34           bbcb018f0e5e49e13636f6e78ce9f60f    20220820       18163  10203   \n",
       "35           bbcb018f0e5e49e13636f6e78ce9f60f    20220827       18163  10203   \n",
       "36           bbcb018f0e5e49e13636f6e78ce9f60f    20220903       18163  10203   \n",
       "37           bbcb018f0e5e49e13636f6e78ce9f60f    20220910       18163  10203   \n",
       "\n",
       "                                                   tract_name  total_claims  \\\n",
       "week_number                                                                   \n",
       "1            Census Tract 102.03, Vanderburgh County, Indiana            23   \n",
       "2            Census Tract 102.03, Vanderburgh County, Indiana            29   \n",
       "3            Census Tract 102.03, Vanderburgh County, Indiana            30   \n",
       "5            Census Tract 102.03, Vanderburgh County, Indiana            30   \n",
       "6            Census Tract 102.03, Vanderburgh County, Indiana            32   \n",
       "7            Census Tract 102.03, Vanderburgh County, Indiana            22   \n",
       "8            Census Tract 102.03, Vanderburgh County, Indiana            26   \n",
       "9            Census Tract 102.03, Vanderburgh County, Indiana            23   \n",
       "10           Census Tract 102.03, Vanderburgh County, Indiana            21   \n",
       "11           Census Tract 102.03, Vanderburgh County, Indiana            19   \n",
       "12           Census Tract 102.03, Vanderburgh County, Indiana            33   \n",
       "13           Census Tract 102.03, Vanderburgh County, Indiana            53   \n",
       "14           Census Tract 102.03, Vanderburgh County, Indiana            28   \n",
       "15           Census Tract 102.03, Vanderburgh County, Indiana            26   \n",
       "16           Census Tract 102.03, Vanderburgh County, Indiana            24   \n",
       "17           Census Tract 102.03, Vanderburgh County, Indiana            48   \n",
       "18           Census Tract 102.03, Vanderburgh County, Indiana            23   \n",
       "19           Census Tract 102.03, Vanderburgh County, Indiana            13   \n",
       "20           Census Tract 102.03, Vanderburgh County, Indiana            21   \n",
       "21           Census Tract 102.03, Vanderburgh County, Indiana            38   \n",
       "22           Census Tract 102.03, Vanderburgh County, Indiana            27   \n",
       "24           Census Tract 102.03, Vanderburgh County, Indiana            35   \n",
       "25           Census Tract 102.03, Vanderburgh County, Indiana            23   \n",
       "26           Census Tract 102.03, Vanderburgh County, Indiana            19   \n",
       "27           Census Tract 102.03, Vanderburgh County, Indiana            11   \n",
       "28           Census Tract 102.03, Vanderburgh County, Indiana            24   \n",
       "29           Census Tract 102.03, Vanderburgh County, Indiana            19   \n",
       "30           Census Tract 102.03, Vanderburgh County, Indiana            27   \n",
       "31           Census Tract 102.03, Vanderburgh County, Indiana            17   \n",
       "32           Census Tract 102.03, Vanderburgh County, Indiana            28   \n",
       "33           Census Tract 102.03, Vanderburgh County, Indiana            23   \n",
       "34           Census Tract 102.03, Vanderburgh County, Indiana            24   \n",
       "35           Census Tract 102.03, Vanderburgh County, Indiana            28   \n",
       "36           Census Tract 102.03, Vanderburgh County, Indiana            75   \n",
       "37           Census Tract 102.03, Vanderburgh County, Indiana            13   \n",
       "\n",
       "             edu_8th_or_less  edu_grades_9_11  edu_hs_grad_equiv  edu_post_hs  \\\n",
       "week_number                                                                     \n",
       "1                       <NA>             <NA>                 13         <NA>   \n",
       "2                          0             <NA>                 17         <NA>   \n",
       "3                          0             <NA>               <NA>           15   \n",
       "5                          0             <NA>                 15         <NA>   \n",
       "6                          0             <NA>                 18         <NA>   \n",
       "7                          0             <NA>                 14         <NA>   \n",
       "8                          0             <NA>                 17         <NA>   \n",
       "9                          0             <NA>                 13         <NA>   \n",
       "10                         0             <NA>                 10         <NA>   \n",
       "11                         0             <NA>               <NA>         <NA>   \n",
       "12                         0             <NA>               <NA>           18   \n",
       "13                         0             <NA>                 48         <NA>   \n",
       "14                         0             <NA>               <NA>           13   \n",
       "15                         0             <NA>                 12         <NA>   \n",
       "16                         0             <NA>                 18         <NA>   \n",
       "17                         0             <NA>                 36         <NA>   \n",
       "18                         0             <NA>               <NA>           11   \n",
       "19                         0             <NA>               <NA>         <NA>   \n",
       "20                         0             <NA>               <NA>           11   \n",
       "21                         0             <NA>                 26         <NA>   \n",
       "22                         0             <NA>               <NA>           15   \n",
       "24                      <NA>               18               <NA>         <NA>   \n",
       "25                         0             <NA>               <NA>           11   \n",
       "26                         0             <NA>               <NA>         <NA>   \n",
       "27                         0                0               <NA>         <NA>   \n",
       "28                         0             <NA>                 14         <NA>   \n",
       "29                         0             <NA>                 12         <NA>   \n",
       "30                         0             <NA>                 18         <NA>   \n",
       "31                         0             <NA>               <NA>         <NA>   \n",
       "32                      <NA>             <NA>                 16         <NA>   \n",
       "33                         0             <NA>                 10         <NA>   \n",
       "34                         0             <NA>               <NA>           12   \n",
       "35                         0             <NA>               <NA>           14   \n",
       "36                         0             <NA>                 62         <NA>   \n",
       "37                         0             <NA>               <NA>         <NA>   \n",
       "\n",
       "             ...  gender_female gender_male gender_na race_amerindian  \\\n",
       "week_number  ...                                                        \n",
       "1            ...             11          12         0               0   \n",
       "2            ...             15          14         0               0   \n",
       "3            ...             13          17         0               0   \n",
       "5            ...             12          18         0               0   \n",
       "6            ...             12          20         0               0   \n",
       "7            ...           <NA>        <NA>         0               0   \n",
       "8            ...             11          15         0               0   \n",
       "9            ...           <NA>        <NA>         0               0   \n",
       "10           ...           <NA>        <NA>         0               0   \n",
       "11           ...           <NA>        <NA>         0               0   \n",
       "12           ...           <NA>        <NA>         0               0   \n",
       "13           ...           <NA>        <NA>         0               0   \n",
       "14           ...             12          16         0            <NA>   \n",
       "15           ...           <NA>        <NA>         0            <NA>   \n",
       "16           ...             11          13         0               0   \n",
       "17           ...             10          38         0            <NA>   \n",
       "18           ...           <NA>        <NA>         0            <NA>   \n",
       "19           ...           <NA>        <NA>         0               0   \n",
       "20           ...           <NA>        <NA>         0               0   \n",
       "21           ...             16          22         0               0   \n",
       "22           ...             12          15         0               0   \n",
       "24           ...             23          12         0               0   \n",
       "25           ...             11          12         0               0   \n",
       "26           ...           <NA>        <NA>         0               0   \n",
       "27           ...           <NA>        <NA>         0               0   \n",
       "28           ...           <NA>        <NA>         0               0   \n",
       "29           ...           <NA>        <NA>         0               0   \n",
       "30           ...           <NA>        <NA>         0               0   \n",
       "31           ...           <NA>        <NA>         0               0   \n",
       "32           ...           <NA>        <NA>         0               0   \n",
       "33           ...           <NA>        <NA>         0               0   \n",
       "34           ...             12          12         0               0   \n",
       "35           ...           <NA>        <NA>         0               0   \n",
       "36           ...           <NA>        <NA>         0               0   \n",
       "37           ...           <NA>        <NA>         0               0   \n",
       "\n",
       "             race_asian  race_black  race_noanswer  race_hawaiiannative  \\\n",
       "week_number                                                               \n",
       "1                     0           0           <NA>                    0   \n",
       "2                     0        <NA>           <NA>                    0   \n",
       "3                  <NA>           0           <NA>                    0   \n",
       "5                     0           0           <NA>                    0   \n",
       "6                     0           0           <NA>                    0   \n",
       "7                     0        <NA>           <NA>                    0   \n",
       "8                     0           0           <NA>                    0   \n",
       "9                     0           0           <NA>                    0   \n",
       "10                    0           0           <NA>                    0   \n",
       "11                    0        <NA>           <NA>                    0   \n",
       "12                    0        <NA>           <NA>                    0   \n",
       "13                    0        <NA>           <NA>                    0   \n",
       "14                    0           0           <NA>                    0   \n",
       "15                    0        <NA>           <NA>                    0   \n",
       "16                 <NA>        <NA>           <NA>                    0   \n",
       "17                    0          21           <NA>                    0   \n",
       "18                    0           0           <NA>                    0   \n",
       "19                    0           0           <NA>                    0   \n",
       "20                    0        <NA>           <NA>                    0   \n",
       "21                    0        <NA>           <NA>                    0   \n",
       "22                    0        <NA>           <NA>                    0   \n",
       "24                    0        <NA>           <NA>                    0   \n",
       "25                    0        <NA>           <NA>                    0   \n",
       "26                    0        <NA>              0                    0   \n",
       "27                    0        <NA>           <NA>                    0   \n",
       "28                    0        <NA>              0                    0   \n",
       "29                    0        <NA>           <NA>                    0   \n",
       "30                    0           0           <NA>                    0   \n",
       "31                    0           0           <NA>                    0   \n",
       "32                    0        <NA>           <NA>                    0   \n",
       "33                    0        <NA>              0                    0   \n",
       "34                    0           0           <NA>                    0   \n",
       "35                 <NA>        <NA>           <NA>                    0   \n",
       "36                 <NA>        <NA>           <NA>                    0   \n",
       "37                    0           0              0                    0   \n",
       "\n",
       "             race_other  race_white  \n",
       "week_number                          \n",
       "1                     0        <NA>  \n",
       "2                     0          25  \n",
       "3                     0          26  \n",
       "5                     0        <NA>  \n",
       "6                  <NA>          29  \n",
       "7                  <NA>          17  \n",
       "8                     0        <NA>  \n",
       "9                     0        <NA>  \n",
       "10                    0        <NA>  \n",
       "11                    0          16  \n",
       "12                    0        <NA>  \n",
       "13                    0        <NA>  \n",
       "14                    0          23  \n",
       "15                 <NA>          20  \n",
       "16                    0        <NA>  \n",
       "17                 <NA>          23  \n",
       "18                 <NA>          17  \n",
       "19                    0        <NA>  \n",
       "20                    0          17  \n",
       "21                    0          24  \n",
       "22                 <NA>        <NA>  \n",
       "24                    0        <NA>  \n",
       "25                    0        <NA>  \n",
       "26                    0        <NA>  \n",
       "27                    0        <NA>  \n",
       "28                    0        <NA>  \n",
       "29                 <NA>        <NA>  \n",
       "30                    0        <NA>  \n",
       "31                    0        <NA>  \n",
       "32                    0          24  \n",
       "33                 <NA>        <NA>  \n",
       "34                    0        <NA>  \n",
       "35                    0        <NA>  \n",
       "36                    0        <NA>  \n",
       "37                    0          13  \n",
       "\n",
       "[35 rows x 24 columns]"
      ]
     },
     "execution_count": 57,
     "metadata": {},
     "output_type": "execute_result"
    }
   ],
   "source": [
    "df_un[df_un[\"uu_id\"] == \"bbcb018f0e5e49e13636f6e78ce9f60f\"].sort_values(by = [\"week_number\"]).drop_duplicates().set_index(\"week_number\")"
   ]
  },
  {
   "cell_type": "markdown",
   "id": "c1582506",
   "metadata": {},
   "source": [
    "how can I pull this from just pandas"
   ]
  },
  {
   "cell_type": "code",
   "execution_count": 58,
   "id": "61dc4fee",
   "metadata": {
    "execution": {
     "iopub.execute_input": "2023-05-10T00:57:28.352779Z",
     "iopub.status.busy": "2023-05-10T00:57:28.352652Z",
     "iopub.status.idle": "2023-05-10T00:57:28.360232Z",
     "shell.execute_reply": "2023-05-10T00:57:28.359915Z"
    }
   },
   "outputs": [],
   "source": [
    "# dictionary of df's for each uu_id\n",
    "tract_dict = {}"
   ]
  },
  {
   "cell_type": "code",
   "execution_count": 59,
   "id": "a7d52464",
   "metadata": {
    "execution": {
     "iopub.execute_input": "2023-05-10T00:57:28.361759Z",
     "iopub.status.busy": "2023-05-10T00:57:28.361670Z",
     "iopub.status.idle": "2023-05-10T00:57:30.075208Z",
     "shell.execute_reply": "2023-05-10T00:57:30.074900Z"
    }
   },
   "outputs": [],
   "source": [
    "for i, tract in enumerate(df_pred[\"uu_id\"]):\n",
    "    tract_dict[i] = df_un[df_un[\"uu_id\"] == tract].sort_values(by = [\"week_number\"]).drop_duplicates().set_index(\"week_number\")"
   ]
  },
  {
   "cell_type": "code",
   "execution_count": 60,
   "id": "fbf81430",
   "metadata": {
    "execution": {
     "iopub.execute_input": "2023-05-10T00:57:30.076938Z",
     "iopub.status.busy": "2023-05-10T00:57:30.076819Z",
     "iopub.status.idle": "2023-05-10T00:57:30.154100Z",
     "shell.execute_reply": "2023-05-10T00:57:30.153793Z"
    }
   },
   "outputs": [],
   "source": [
    "# compute the simple moving average over 4 weeks for each frame\n",
    "for key, val in tract_dict.items():\n",
    "    tract_dict[key][\"SMA4\"] = tract_dict[key][\"total_claims\"].rolling(4).mean()"
   ]
  },
  {
   "cell_type": "code",
   "execution_count": 61,
   "id": "880f2647",
   "metadata": {
    "execution": {
     "iopub.execute_input": "2023-05-10T00:57:30.155764Z",
     "iopub.status.busy": "2023-05-10T00:57:30.155671Z",
     "iopub.status.idle": "2023-05-10T00:57:30.226890Z",
     "shell.execute_reply": "2023-05-10T00:57:30.226579Z"
    }
   },
   "outputs": [
    {
     "data": {
      "text/plain": [
       "<AxesSubplot: xlabel='week_number'>"
      ]
     },
     "execution_count": 61,
     "metadata": {},
     "output_type": "execute_result"
    },
    {
     "data": {
      "image/png": "[encoded data removed]",
      "text/plain": [
       "<Figure size 640x480 with 1 Axes>"
      ]
     },
     "metadata": {},
     "output_type": "display_data"
    }
   ],
   "source": [
    "tract_dict[0][[\"total_claims\", \"SMA4\"]].plot()"
   ]
  },
  {
   "cell_type": "code",
   "execution_count": 62,
   "id": "26166bbb",
   "metadata": {
    "execution": {
     "iopub.execute_input": "2023-05-10T00:57:30.228453Z",
     "iopub.status.busy": "2023-05-10T00:57:30.228337Z",
     "iopub.status.idle": "2023-05-10T00:57:30.361257Z",
     "shell.execute_reply": "2023-05-10T00:57:30.360384Z"
    }
   },
   "outputs": [],
   "source": [
    "# compute the simple moving average over 4 weeks for each frame\n",
    "for key, val in tract_dict.items():\n",
    "    tract_dict[key][\"SMA4\"] = tract_dict[key][\"total_claims\"].rolling(4).mean()\n",
    "    tract_dict[key][\"y_bar\"] = tract_dict[key][\"total_claims\"].mean()"
   ]
  },
  {
   "cell_type": "code",
   "execution_count": 63,
   "id": "e4a53d7b",
   "metadata": {
    "execution": {
     "iopub.execute_input": "2023-05-10T00:57:30.365892Z",
     "iopub.status.busy": "2023-05-10T00:57:30.365431Z",
     "iopub.status.idle": "2023-05-10T00:57:30.453224Z",
     "shell.execute_reply": "2023-05-10T00:57:30.452909Z"
    }
   },
   "outputs": [
    {
     "data": {
      "text/plain": [
       "<AxesSubplot: xlabel='week_number'>"
      ]
     },
     "execution_count": 63,
     "metadata": {},
     "output_type": "execute_result"
    },
    {
     "data": {
      "image/png": "[encoded data removed]",
      "text/plain": [
       "<Figure size 640x480 with 1 Axes>"
      ]
     },
     "metadata": {},
     "output_type": "display_data"
    }
   ],
   "source": [
    "tract_dict[0][[\"total_claims\", \"SMA4\", \"y_bar\"]].plot()"
   ]
  },
  {
   "cell_type": "markdown",
   "id": "d0449a14",
   "metadata": {},
   "source": [
    "- IMPORT THE LIBRARIES YOU WILL USE\n",
    "------------------------------------------\n",
    "You only need to import packages one time per notebook session. To keep your\n",
    "notebook clean and organized you can handle all imports at the top of your file.\n",
    "The following are included for example purposed, feel free to modify or delete \n",
    "anything in this section."
   ]
  },
  {
   "cell_type": "code",
   "execution_count": 64,
   "id": "aceaa0a4",
   "metadata": {
    "execution": {
     "iopub.execute_input": "2023-05-10T00:57:30.454802Z",
     "iopub.status.busy": "2023-05-10T00:57:30.454682Z",
     "iopub.status.idle": "2023-05-10T00:57:30.456785Z",
     "shell.execute_reply": "2023-05-10T00:57:30.456531Z"
    }
   },
   "outputs": [],
   "source": [
    "import csv\n",
    "import pandas as pd\n",
    "import numpy as np\n",
    "import seaborn as sns\n",
    "import plotly.express as px\n",
    "import csv\n",
    "import random"
   ]
  },
  {
   "cell_type": "code",
   "execution_count": 65,
   "id": "5c321a0d",
   "metadata": {
    "execution": {
     "iopub.execute_input": "2023-05-10T00:57:30.458233Z",
     "iopub.status.busy": "2023-05-10T00:57:30.458130Z",
     "iopub.status.idle": "2023-05-10T00:57:30.460129Z",
     "shell.execute_reply": "2023-05-10T00:57:30.459658Z"
    }
   },
   "outputs": [],
   "source": [
    "from google.cloud import bigquery\n",
    "from google.oauth2 import service_account\n",
    "from google.cloud.bigquery import magics"
   ]
  },
  {
   "cell_type": "code",
   "execution_count": 66,
   "id": "d5196a9a",
   "metadata": {
    "execution": {
     "iopub.execute_input": "2023-05-10T00:57:30.463059Z",
     "iopub.status.busy": "2023-05-10T00:57:30.462919Z",
     "iopub.status.idle": "2023-05-10T00:57:30.605287Z",
     "shell.execute_reply": "2023-05-10T00:57:30.604986Z"
    }
   },
   "outputs": [],
   "source": [
    "# compute the simple moving average over 4 weeks for each frame\n",
    "for key, val in tract_dict.items():\n",
    "    tract_dict[key][\"SMA4\"] = tract_dict[key][\"total_claims\"].rolling(4).mean()\n",
    "    tract_dict[key][\"EMA4\"] = tract_dict[key][\"total_claims\"].ewm(4).mean()\n",
    "    tract_dict[key][\"y_bar\"] = tract_dict[key][\"total_claims\"].mean()"
   ]
  },
  {
   "cell_type": "code",
   "execution_count": 67,
   "id": "5a2332fe",
   "metadata": {
    "execution": {
     "iopub.execute_input": "2023-05-10T00:57:30.606936Z",
     "iopub.status.busy": "2023-05-10T00:57:30.606844Z",
     "iopub.status.idle": "2023-05-10T00:57:30.686008Z",
     "shell.execute_reply": "2023-05-10T00:57:30.685667Z"
    }
   },
   "outputs": [
    {
     "data": {
      "text/plain": [
       "<AxesSubplot: xlabel='week_number'>"
      ]
     },
     "execution_count": 67,
     "metadata": {},
     "output_type": "execute_result"
    },
    {
     "data": {
      "image/png": "[encoded data removed]",
      "text/plain": [
       "<Figure size 640x480 with 1 Axes>"
      ]
     },
     "metadata": {},
     "output_type": "display_data"
    }
   ],
   "source": [
    "#compare the previous predictor to the new predictor\n",
    "tract_dict[0][[\"total_claims\", \"SMA4\", \"EMA4\",\"y_bar\"]].plot()"
   ]
  },
  {
   "cell_type": "code",
   "execution_count": 68,
   "id": "951c53f1",
   "metadata": {
    "execution": {
     "iopub.execute_input": "2023-05-10T00:57:30.687680Z",
     "iopub.status.busy": "2023-05-10T00:57:30.687550Z",
     "iopub.status.idle": "2023-05-10T00:57:30.689912Z",
     "shell.execute_reply": "2023-05-10T00:57:30.689653Z"
    }
   },
   "outputs": [
    {
     "ename": "SyntaxError",
     "evalue": "unexpected EOF while parsing (224636321.py, line 2)",
     "output_type": "error",
     "traceback": [
      "\u001b[0;36m  Cell \u001b[0;32mIn [68], line 2\u001b[0;36m\u001b[0m\n\u001b[0;31m    tract_dict[1[[\"total_claims\", \"SMA4\", \"EMA4\",\"y_bar\"]].plot()\u001b[0m\n\u001b[0m                                                                 ^\u001b[0m\n\u001b[0;31mSyntaxError\u001b[0m\u001b[0;31m:\u001b[0m unexpected EOF while parsing\n"
     ]
    }
   ],
   "source": [
    "#compare the previous predictor to the new predictor\n",
    "tract_dict[1[[\"total_claims\", \"SMA4\", \"EMA4\",\"y_bar\"]].plot()"
   ]
  },
  {
   "cell_type": "code",
   "execution_count": 69,
   "id": "4b197904",
   "metadata": {
    "execution": {
     "iopub.execute_input": "2023-05-10T00:57:30.691499Z",
     "iopub.status.busy": "2023-05-10T00:57:30.691400Z",
     "iopub.status.idle": "2023-05-10T00:57:30.693449Z",
     "shell.execute_reply": "2023-05-10T00:57:30.693180Z"
    }
   },
   "outputs": [
    {
     "ename": "SyntaxError",
     "evalue": "unmatched ']' (273643177.py, line 2)",
     "output_type": "error",
     "traceback": [
      "\u001b[0;36m  Cell \u001b[0;32mIn [69], line 2\u001b[0;36m\u001b[0m\n\u001b[0;31m    tract_dict[1][\"total_claims\", \"SMA4\", \"EMA4\",\"y_bar\"]].plot()\u001b[0m\n\u001b[0m                                                         ^\u001b[0m\n\u001b[0;31mSyntaxError\u001b[0m\u001b[0;31m:\u001b[0m unmatched ']'\n"
     ]
    }
   ],
   "source": [
    "#compare the previous predictor to the new predictor\n",
    "tract_dict[1][\"total_claims\", \"SMA4\", \"EMA4\",\"y_bar\"]].plot()"
   ]
  },
  {
   "cell_type": "code",
   "execution_count": 70,
   "id": "69757e9d",
   "metadata": {
    "execution": {
     "iopub.execute_input": "2023-05-10T00:57:30.694893Z",
     "iopub.status.busy": "2023-05-10T00:57:30.694785Z",
     "iopub.status.idle": "2023-05-10T00:57:30.697062Z",
     "shell.execute_reply": "2023-05-10T00:57:30.696814Z"
    }
   },
   "outputs": [
    {
     "ename": "SyntaxError",
     "evalue": "unexpected EOF while parsing (224636321.py, line 2)",
     "output_type": "error",
     "traceback": [
      "\u001b[0;36m  Cell \u001b[0;32mIn [70], line 2\u001b[0;36m\u001b[0m\n\u001b[0;31m    tract_dict[1[[\"total_claims\", \"SMA4\", \"EMA4\",\"y_bar\"]].plot()\u001b[0m\n\u001b[0m                                                                 ^\u001b[0m\n\u001b[0;31mSyntaxError\u001b[0m\u001b[0;31m:\u001b[0m unexpected EOF while parsing\n"
     ]
    }
   ],
   "source": [
    "#compare the previous predictor to the new predictor\n",
    "tract_dict[1[[\"total_claims\", \"SMA4\", \"EMA4\",\"y_bar\"]].plot()"
   ]
  },
  {
   "cell_type": "code",
   "execution_count": 71,
   "id": "9d815d00",
   "metadata": {
    "execution": {
     "iopub.execute_input": "2023-05-10T00:57:30.698519Z",
     "iopub.status.busy": "2023-05-10T00:57:30.698409Z",
     "iopub.status.idle": "2023-05-10T00:57:30.776601Z",
     "shell.execute_reply": "2023-05-10T00:57:30.776301Z"
    }
   },
   "outputs": [
    {
     "data": {
      "text/plain": [
       "<AxesSubplot: xlabel='week_number'>"
      ]
     },
     "execution_count": 71,
     "metadata": {},
     "output_type": "execute_result"
    },
    {
     "data": {
      "image/png": "[encoded data removed]",
      "text/plain": [
       "<Figure size 640x480 with 1 Axes>"
      ]
     },
     "metadata": {},
     "output_type": "display_data"
    }
   ],
   "source": [
    "#compare the previous predictor to the new predictor\n",
    "tract_dict[0][[\"total_claims\", \"SMA4\", \"EMA4\",\"y_bar\"]].plot()"
   ]
  },
  {
   "cell_type": "code",
   "execution_count": 72,
   "id": "846727b2",
   "metadata": {
    "execution": {
     "iopub.execute_input": "2023-05-10T00:57:30.778223Z",
     "iopub.status.busy": "2023-05-10T00:57:30.778108Z",
     "iopub.status.idle": "2023-05-10T00:57:30.780579Z",
     "shell.execute_reply": "2023-05-10T00:57:30.780330Z"
    }
   },
   "outputs": [
    {
     "ename": "SyntaxError",
     "evalue": "unexpected EOF while parsing (224636321.py, line 2)",
     "output_type": "error",
     "traceback": [
      "\u001b[0;36m  Cell \u001b[0;32mIn [72], line 2\u001b[0;36m\u001b[0m\n\u001b[0;31m    tract_dict[1[[\"total_claims\", \"SMA4\", \"EMA4\",\"y_bar\"]].plot()\u001b[0m\n\u001b[0m                                                                 ^\u001b[0m\n\u001b[0;31mSyntaxError\u001b[0m\u001b[0;31m:\u001b[0m unexpected EOF while parsing\n"
     ]
    }
   ],
   "source": [
    "#compare the previous predictor to the new predictor\n",
    "tract_dict[1[[\"total_claims\", \"SMA4\", \"EMA4\",\"y_bar\"]].plot()"
   ]
  },
  {
   "cell_type": "code",
   "execution_count": 73,
   "id": "b4a82ae0",
   "metadata": {
    "execution": {
     "iopub.execute_input": "2023-05-10T00:57:30.781997Z",
     "iopub.status.busy": "2023-05-10T00:57:30.781883Z",
     "iopub.status.idle": "2023-05-10T00:57:30.911293Z",
     "shell.execute_reply": "2023-05-10T00:57:30.911013Z"
    }
   },
   "outputs": [
    {
     "data": {
      "text/plain": [
       "<AxesSubplot: xlabel='week_number'>"
      ]
     },
     "execution_count": 73,
     "metadata": {},
     "output_type": "execute_result"
    },
    {
     "data": {
      "image/png": "[encoded data removed]",
      "text/plain": [
       "<Figure size 640x480 with 1 Axes>"
      ]
     },
     "metadata": {},
     "output_type": "display_data"
    }
   ],
   "source": [
    "#compare the previous predictor to the new predictor\n",
    "tract_dict[1][[\"total_claims\", \"SMA4\", \"EMA4\",\"y_bar\"]].plot()"
   ]
  },
  {
   "cell_type": "code",
   "execution_count": 74,
   "id": "dbcdf0e2",
   "metadata": {
    "execution": {
     "iopub.execute_input": "2023-05-10T00:57:30.912889Z",
     "iopub.status.busy": "2023-05-10T00:57:30.912769Z",
     "iopub.status.idle": "2023-05-10T00:57:30.987150Z",
     "shell.execute_reply": "2023-05-10T00:57:30.986881Z"
    }
   },
   "outputs": [
    {
     "data": {
      "text/plain": [
       "<AxesSubplot: xlabel='week_number'>"
      ]
     },
     "execution_count": 74,
     "metadata": {},
     "output_type": "execute_result"
    },
    {
     "data": {
      "image/png": "[encoded data removed]",
      "text/plain": [
       "<Figure size 640x480 with 1 Axes>"
      ]
     },
     "metadata": {},
     "output_type": "display_data"
    }
   ],
   "source": [
    "#compare the previous predictor to the new predictor\n",
    "tract_dict[5][[\"total_claims\", \"SMA4\", \"EMA4\",\"y_bar\"]].plot()"
   ]
  },
  {
   "cell_type": "code",
   "execution_count": 75,
   "id": "40d6549a",
   "metadata": {
    "execution": {
     "iopub.execute_input": "2023-05-10T00:57:30.988691Z",
     "iopub.status.busy": "2023-05-10T00:57:30.988581Z",
     "iopub.status.idle": "2023-05-10T00:57:31.069441Z",
     "shell.execute_reply": "2023-05-10T00:57:31.069129Z"
    }
   },
   "outputs": [
    {
     "data": {
      "text/plain": [
       "<AxesSubplot: xlabel='week_number'>"
      ]
     },
     "execution_count": 75,
     "metadata": {},
     "output_type": "execute_result"
    },
    {
     "data": {
      "image/png": "[encoded data removed]",
      "text/plain": [
       "<Figure size 640x480 with 1 Axes>"
      ]
     },
     "metadata": {},
     "output_type": "display_data"
    }
   ],
   "source": [
    "#compare the previous predictor to the new predictor\n",
    "tract_dict[9][[\"total_claims\", \"SMA4\", \"EMA4\",\"y_bar\"]].plot()"
   ]
  },
  {
   "cell_type": "code",
   "execution_count": 76,
   "id": "d47cd80a",
   "metadata": {
    "execution": {
     "iopub.execute_input": "2023-05-10T00:57:31.070986Z",
     "iopub.status.busy": "2023-05-10T00:57:31.070871Z",
     "iopub.status.idle": "2023-05-10T00:57:31.148710Z",
     "shell.execute_reply": "2023-05-10T00:57:31.148392Z"
    }
   },
   "outputs": [
    {
     "data": {
      "text/plain": [
       "<AxesSubplot: xlabel='week_number'>"
      ]
     },
     "execution_count": 76,
     "metadata": {},
     "output_type": "execute_result"
    },
    {
     "data": {
      "image/png": "[encoded data removed]",
      "text/plain": [
       "<Figure size 640x480 with 1 Axes>"
      ]
     },
     "metadata": {},
     "output_type": "display_data"
    }
   ],
   "source": [
    "#compare the previous predictor to the new predictor\n",
    "tract_dict[10][[\"total_claims\", \"SMA4\", \"EMA4\",\"y_bar\"]].plot()"
   ]
  },
  {
   "cell_type": "code",
   "execution_count": 77,
   "id": "6039abc9",
   "metadata": {
    "execution": {
     "iopub.execute_input": "2023-05-10T00:57:31.150284Z",
     "iopub.status.busy": "2023-05-10T00:57:31.150162Z",
     "iopub.status.idle": "2023-05-10T00:57:31.230595Z",
     "shell.execute_reply": "2023-05-10T00:57:31.230320Z"
    }
   },
   "outputs": [
    {
     "data": {
      "text/plain": [
       "<AxesSubplot: xlabel='week_number'>"
      ]
     },
     "execution_count": 77,
     "metadata": {},
     "output_type": "execute_result"
    },
    {
     "data": {
      "image/png": "[encoded data removed]",
      "text/plain": [
       "<Figure size 640x480 with 1 Axes>"
      ]
     },
     "metadata": {},
     "output_type": "display_data"
    }
   ],
   "source": [
    "#compare the previous predictor to the new predictor\n",
    "tract_dict[11][[\"total_claims\", \"SMA4\", \"EMA4\",\"y_bar\"]].plot()"
   ]
  },
  {
   "cell_type": "code",
   "execution_count": 78,
   "id": "2636d142",
   "metadata": {
    "execution": {
     "iopub.execute_input": "2023-05-10T00:57:31.232263Z",
     "iopub.status.busy": "2023-05-10T00:57:31.232143Z",
     "iopub.status.idle": "2023-05-10T00:57:31.234578Z",
     "shell.execute_reply": "2023-05-10T00:57:31.234340Z"
    }
   },
   "outputs": [
    {
     "data": {
      "text/plain": [
       "16.078452362276177"
      ]
     },
     "execution_count": 78,
     "metadata": {},
     "output_type": "execute_result"
    }
   ],
   "source": [
    "tract_dict[0][\"EMA4\"].iat[-1]"
   ]
  },
  {
   "cell_type": "code",
   "execution_count": 79,
   "id": "df6ed1fe",
   "metadata": {
    "execution": {
     "iopub.execute_input": "2023-05-10T00:57:31.236034Z",
     "iopub.status.busy": "2023-05-10T00:57:31.235925Z",
     "iopub.status.idle": "2023-05-10T00:57:31.238631Z",
     "shell.execute_reply": "2023-05-10T00:57:31.238389Z"
    }
   },
   "outputs": [
    {
     "data": {
      "text/plain": [
       "week_number\n",
       "25    13.517615\n",
       "26    15.445978\n",
       "27    16.138260\n",
       "34    14.837904\n",
       "35    16.078452\n",
       "Name: EMA4, dtype: float64"
      ]
     },
     "execution_count": 79,
     "metadata": {},
     "output_type": "execute_result"
    }
   ],
   "source": [
    "tract_dict[0][\"EMA4\"].tail()"
   ]
  },
  {
   "cell_type": "code",
   "execution_count": 80,
   "id": "e4b7f815",
   "metadata": {
    "execution": {
     "iopub.execute_input": "2023-05-10T00:57:31.240075Z",
     "iopub.status.busy": "2023-05-10T00:57:31.239968Z",
     "iopub.status.idle": "2023-05-10T00:57:31.242268Z",
     "shell.execute_reply": "2023-05-10T00:57:31.242018Z"
    }
   },
   "outputs": [
    {
     "data": {
      "text/plain": [
       "16.078452362276177"
      ]
     },
     "execution_count": 80,
     "metadata": {},
     "output_type": "execute_result"
    }
   ],
   "source": [
    "tract_dict[0][\"EMA4\"].iat[-1]"
   ]
  },
  {
   "cell_type": "code",
   "execution_count": 81,
   "id": "c9f7a1d5",
   "metadata": {
    "execution": {
     "iopub.execute_input": "2023-05-10T00:57:31.243673Z",
     "iopub.status.busy": "2023-05-10T00:57:31.243576Z",
     "iopub.status.idle": "2023-05-10T00:57:31.252838Z",
     "shell.execute_reply": "2023-05-10T00:57:31.252461Z"
    }
   },
   "outputs": [],
   "source": [
    "# make the EMA4 the prediction\n",
    "header = [\"uu_id\",\"total_claims\",\"week_number\"]\n",
    "week = 38\n",
    "fname = \"submission_prediction_output.csv\"\n",
    "with open(fname, 'w', encoding = \"UTF8\", newline=\"\") as f:\n",
    "    writer = csv.writer(f)\n",
    "    writer.writerow(header)\n",
    "    for k, v in tract_dict.items():\n",
    "        writer.writerow([k, v[\"EMA4\"].iat[-1], week]) "
   ]
  },
  {
   "cell_type": "code",
   "execution_count": 82,
   "id": "330faccd",
   "metadata": {
    "execution": {
     "iopub.execute_input": "2023-05-10T00:57:31.255382Z",
     "iopub.status.busy": "2023-05-10T00:57:31.255171Z",
     "iopub.status.idle": "2023-05-10T00:57:31.339485Z",
     "shell.execute_reply": "2023-05-10T00:57:31.339174Z"
    },
    "lines_to_next_cell": 2
   },
   "outputs": [
    {
     "data": {
      "text/plain": [
       "<AxesSubplot: xlabel='week_number'>"
      ]
     },
     "execution_count": 82,
     "metadata": {},
     "output_type": "execute_result"
    },
    {
     "data": {
      "image/png": "[encoded data removed]",
      "text/plain": [
       "<Figure size 640x480 with 1 Axes>"
      ]
     },
     "metadata": {},
     "output_type": "display_data"
    }
   ],
   "source": [
    "#compare the previous predictor to the new predictor\n",
    "tract_dict[0][[\"total_claims\", \"SMA4\", \"EMA4\",\"y_bar\"]].plot()"
   ]
  }
 ],
 "metadata": {
  "jupytext": {
   "cell_metadata_filter": "-all",
   "main_language": "python",
   "notebook_metadata_filter": "-all"
  },
  "kernelspec": {
   "display_name": "base",
   "language": "python",
   "name": "python3"
  },
  "language_info": {
   "codemirror_mode": {
    "name": "ipython",
    "version": 3
   },
   "file_extension": ".py",
   "mimetype": "text/x-python",
   "name": "python",
   "nbconvert_exporter": "python",
   "pygments_lexer": "ipython3",
   "version": "3.9.12"
  }
 },
 "nbformat": 4,
 "nbformat_minor": 5
}
