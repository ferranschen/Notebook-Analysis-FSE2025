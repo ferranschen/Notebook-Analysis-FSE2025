{
 "cells": [
  {
   "cell_type": "code",
   "execution_count": 1,
   "id": "c7937839",
   "metadata": {
    "execution": {
     "iopub.execute_input": "2023-05-10T00:08:12.368009Z",
     "iopub.status.busy": "2023-05-10T00:08:12.367442Z",
     "iopub.status.idle": "2023-05-10T00:08:12.383985Z",
     "shell.execute_reply": "2023-05-10T00:08:12.383269Z"
    }
   },
   "outputs": [],
   "source": [
    "BIGQUERY_PROJECT = 'ironhacks-data'"
   ]
  },
  {
   "cell_type": "code",
   "execution_count": 2,
   "id": "3ea21c75",
   "metadata": {
    "execution": {
     "iopub.execute_input": "2023-05-10T00:08:12.387647Z",
     "iopub.status.busy": "2023-05-10T00:08:12.387340Z",
     "iopub.status.idle": "2023-05-10T00:08:12.486943Z",
     "shell.execute_reply": "2023-05-10T00:08:12.486691Z"
    }
   },
   "outputs": [
    {
     "ename": "NameError",
     "evalue": "name 'bigquery' is not defined",
     "output_type": "error",
     "traceback": [
      "\u001b[0;31m---------------------------------------------------------------------------\u001b[0m",
      "\u001b[0;31mNameError\u001b[0m                                 Traceback (most recent call last)",
      "Cell \u001b[0;32mIn [2], line 2\u001b[0m\n\u001b[1;32m      1\u001b[0m BIGQUERY_PROJECT \u001b[38;5;241m=\u001b[39m \u001b[38;5;124m'\u001b[39m\u001b[38;5;124mironhacks-data\u001b[39m\u001b[38;5;124m'\u001b[39m\n\u001b[0;32m----> 2\u001b[0m bigquery_client \u001b[38;5;241m=\u001b[39m \u001b[43mbigquery\u001b[49m\u001b[38;5;241m.\u001b[39mClient(project\u001b[38;5;241m=\u001b[39mBIGQUERY_PROJECT)\n",
      "\u001b[0;31mNameError\u001b[0m: name 'bigquery' is not defined"
     ]
    }
   ],
   "source": [
    "BIGQUERY_PROJECT = 'ironhacks-data'\n",
    "bigquery_client = bigquery.Client(project=BIGQUERY_PROJECT)"
   ]
  },
  {
   "cell_type": "code",
   "execution_count": 3,
   "id": "3cef324c",
   "metadata": {
    "execution": {
     "iopub.execute_input": "2023-05-10T00:08:12.488442Z",
     "iopub.status.busy": "2023-05-10T00:08:12.488360Z",
     "iopub.status.idle": "2023-05-10T00:08:12.489985Z",
     "shell.execute_reply": "2023-05-10T00:08:12.489751Z"
    }
   },
   "outputs": [],
   "source": [
    "query = \"\"\"\n",
    "SELECT COUNT(*)\n",
    "FROM `ironhacks-data.ironhacks_training.covid19_cases`\n",
    "\"\"\""
   ]
  },
  {
   "cell_type": "code",
   "execution_count": 4,
   "id": "59a60f59",
   "metadata": {
    "execution": {
     "iopub.execute_input": "2023-05-10T00:08:12.491435Z",
     "iopub.status.busy": "2023-05-10T00:08:12.491348Z",
     "iopub.status.idle": "2023-05-10T00:08:12.498017Z",
     "shell.execute_reply": "2023-05-10T00:08:12.497760Z"
    },
    "lines_to_next_cell": 2
   },
   "outputs": [
    {
     "ename": "NameError",
     "evalue": "name 'bigquery_client' is not defined",
     "output_type": "error",
     "traceback": [
      "\u001b[0;31m---------------------------------------------------------------------------\u001b[0m",
      "\u001b[0;31mNameError\u001b[0m                                 Traceback (most recent call last)",
      "Cell \u001b[0;32mIn [4], line 1\u001b[0m\n\u001b[0;32m----> 1\u001b[0m query_job \u001b[38;5;241m=\u001b[39m \u001b[43mbigquery_client\u001b[49m\u001b[38;5;241m.\u001b[39mquery(query)\n\u001b[1;32m      2\u001b[0m covid19_cases_data \u001b[38;5;241m=\u001b[39m query_job\u001b[38;5;241m.\u001b[39mto_dataframe()\n\u001b[1;32m      3\u001b[0m \u001b[38;5;28mprint\u001b[39m(covid19_cases_data)\n",
      "\u001b[0;31mNameError\u001b[0m: name 'bigquery_client' is not defined"
     ]
    }
   ],
   "source": [
    "query_job = bigquery_client.query(query)\n",
    "covid19_cases_data = query_job.to_dataframe()\n",
    "print(covid19_cases_data)"
   ]
  }
 ],
 "metadata": {
  "jupytext": {
   "cell_metadata_filter": "-all",
   "main_language": "python",
   "notebook_metadata_filter": "-all"
  },
  "kernelspec": {
   "display_name": "base",
   "language": "python",
   "name": "python3"
  },
  "language_info": {
   "codemirror_mode": {
    "name": "ipython",
    "version": 3
   },
   "file_extension": ".py",
   "mimetype": "text/x-python",
   "name": "python",
   "nbconvert_exporter": "python",
   "pygments_lexer": "ipython3",
   "version": "3.9.12"
  }
 },
 "nbformat": 4,
 "nbformat_minor": 5
}
