{
 "cells": [
  {
   "cell_type": "code",
   "execution_count": 1,
   "id": "7da219b7",
   "metadata": {
    "execution": {
     "iopub.execute_input": "2023-05-10T01:44:13.867832Z",
     "iopub.status.busy": "2023-05-10T01:44:13.867706Z",
     "iopub.status.idle": "2023-05-10T01:44:13.875301Z",
     "shell.execute_reply": "2023-05-10T01:44:13.875054Z"
    }
   },
   "outputs": [],
   "source": [
    "get_ipython().run_cell_magic('capture', '', \"%logstop\\n%logstart -t -r -q ipython_command_log.py global\\n\\n#- IRONHACKS RESEARCH TRACKING CODE\\n#----------------------------------\\n# The following code is used to help our research team understand how you \\n# our notebook environment. We do not collect any personal information with\\n# the following code, it is used to measure when and how often you work on\\n# your submission files.\\n\\nimport os\\nfrom datetime import datetime\\nimport IPython.core.history as history\\n\\nha = history.HistoryAccessor()\\nha_tail = ha.get_tail(1)\\nha_cmd = next(ha_tail)\\nsession_id = str(ha_cmd[0])\\ncommand_id = str(ha_cmd[1])\\ntimestamp = datetime.utcnow().isoformat()\\nhistory_line = ','.join([session_id, command_id, timestamp]) + '\\\\n'\\nlogfile = open(os.environ['HOME']+'/ipython_session_log.csv', 'a')\\nlogfile.write(history_line)\\nlogfile.close()\\n\")"
   ]
  },
  {
   "cell_type": "markdown",
   "id": "3381d48f",
   "metadata": {},
   "source": [
    "- IMPORT THE LIBRARIES YOU WILL USE\n",
    "------------------------------------------\n",
    "You only need to import packages one time per notebook session. To keep your\n",
    "notebook clean and organized you can handle all imports at the top of your file.\n",
    "The following are included for example purposed, feel free to modify or delete \n",
    "anything in this section."
   ]
  },
  {
   "cell_type": "code",
   "execution_count": 2,
   "id": "08e26de5",
   "metadata": {
    "execution": {
     "iopub.execute_input": "2023-05-10T01:44:13.876735Z",
     "iopub.status.busy": "2023-05-10T01:44:13.876634Z",
     "iopub.status.idle": "2023-05-10T01:44:14.591011Z",
     "shell.execute_reply": "2023-05-10T01:44:14.590681Z"
    },
    "lines_to_next_cell": 1
   },
   "outputs": [],
   "source": [
    "import csv\n",
    "import pandas as pd\n",
    "import numpy as np\n",
    "from google.cloud import bigquery\n",
    "from google.oauth2 import service_account\n",
    "from google.cloud.bigquery import magics\n",
    "import statsmodels.api as sm"
   ]
  },
  {
   "cell_type": "markdown",
   "id": "76e0526b",
   "metadata": {},
   "source": [
    "- DEFINE YOUR CLASSES AND FUNCTIONS \n",
    "-----------------------------------\n",
    "This is not required, but is helpful in keeping your notebook organized. \n",
    "You can use the following cell or several cells to define your functions\n",
    "and classes to keep them separate from your analysis or results code.\n",
    "In general it useful to define your methods in a separate cell from where\n",
    "it is run."
   ]
  },
  {
   "cell_type": "code",
   "execution_count": 3,
   "id": "169b6116",
   "metadata": {
    "execution": {
     "iopub.execute_input": "2023-05-10T01:44:14.592794Z",
     "iopub.status.busy": "2023-05-10T01:44:14.592642Z",
     "iopub.status.idle": "2023-05-10T01:44:14.595206Z",
     "shell.execute_reply": "2023-05-10T01:44:14.594954Z"
    },
    "lines_to_next_cell": 1
   },
   "outputs": [],
   "source": [
    "# explore dataframe\n",
    "def dataExplore(data):\n",
    "    print(\"# of observations: \", data.shape[0])\n",
    "    for col in data.columns:\n",
    "        if col in [\"uu_id\", \"timeperiod\", \"week_number\", \"countyfips\", \"tract\", \"tract_name\", \"date\"]:\n",
    "            print(\"# of %s: %s\" % (col, len(pd.unique(data[col]))))\n",
    "        else:\n",
    "            print(\"Unique value of %s: %s\" % (col, pd.unique(data[col])))"
   ]
  },
  {
   "cell_type": "code",
   "execution_count": 4,
   "id": "14ae35ca",
   "metadata": {
    "execution": {
     "iopub.execute_input": "2023-05-10T01:44:14.596561Z",
     "iopub.status.busy": "2023-05-10T01:44:14.596460Z",
     "iopub.status.idle": "2023-05-10T01:44:14.598772Z",
     "shell.execute_reply": "2023-05-10T01:44:14.598539Z"
    },
    "lines_to_next_cell": 1
   },
   "outputs": [],
   "source": [
    "# check balance of data\n",
    "def dataBalanceCheck(data):\n",
    "    unbalance_count = 0\n",
    "    print(\"# of observations in complete time series: \", len(pd.unique(data[\"week_number\"])))\n",
    "    for id in pd.unique(data[\"uu_id\"]):\n",
    "        if len(data[data[\"uu_id\"] == id]) <  len(pd.unique(data[\"week_number\"])):\n",
    "            print(id, len(data[data[\"uu_id\"] == id]))\n",
    "            unbalance_count += 1\n",
    "    print(\"% of tracts with incomplete time series: \", unbalance_count / len(pd.unique(data[\"uu_id\"]))*100)"
   ]
  },
  {
   "cell_type": "code",
   "execution_count": 5,
   "id": "9d504401",
   "metadata": {
    "execution": {
     "iopub.execute_input": "2023-05-10T01:44:14.600189Z",
     "iopub.status.busy": "2023-05-10T01:44:14.600088Z",
     "iopub.status.idle": "2023-05-10T01:44:14.603046Z",
     "shell.execute_reply": "2023-05-10T01:44:14.602785Z"
    },
    "lines_to_next_cell": 1
   },
   "outputs": [],
   "source": [
    "# fill NA with given value\n",
    "def dataFillNa(data, value):\n",
    "    for col in data.columns:\n",
    "        if col in [\"uu_id\", \"timeperiod\", \"week_number\", \"countyfips\", \"tract\", \"tract_name\", \"date\"]:\n",
    "            pass\n",
    "        elif col in [\"top_category_employer1\", \"top_category_employer2\", \"top_category_employer3\"]:\n",
    "            data[col] = data[col].replace({'N/A':str(value)})\n",
    "        else:\n",
    "            data[col] = data[col].fillna(value)\n",
    "    return(data)\n",
    "def dataIdentifyDateMonth(data):\n",
    "    data[\"date\"] = pd.to_datetime(2022 * 1000 + (1+(data[\"week_number\"]-1)*7), format='%Y%j')\n",
    "    data[\"month\"] = pd.DatetimeIndex(data[\"date\"]).month\n",
    "    return(data)"
   ]
  },
  {
   "cell_type": "code",
   "execution_count": 6,
   "id": "42129de4",
   "metadata": {
    "execution": {
     "iopub.execute_input": "2023-05-10T01:44:14.604462Z",
     "iopub.status.busy": "2023-05-10T01:44:14.604363Z",
     "iopub.status.idle": "2023-05-10T01:44:14.611976Z",
     "shell.execute_reply": "2023-05-10T01:44:14.611629Z"
    }
   },
   "outputs": [],
   "source": [
    "# Obtain data using BigQuery\n",
    "BIGQUERY_PROJECT = 'ironhacks-data'\n",
    "bigquery_client = bigquery.Client(project=BIGQUERY_PROJECT)"
   ]
  },
  {
   "cell_type": "code",
   "execution_count": 7,
   "id": "1515d0d7",
   "metadata": {
    "execution": {
     "iopub.execute_input": "2023-05-10T01:44:14.613561Z",
     "iopub.status.busy": "2023-05-10T01:44:14.613473Z",
     "iopub.status.idle": "2023-05-10T01:44:14.615617Z",
     "shell.execute_reply": "2023-05-10T01:44:14.615374Z"
    }
   },
   "outputs": [],
   "source": [
    "query = \"\"\"\n",
    "SELECT\n",
    "a.*,\n",
    "b.average_wage\n",
    "FROM \n",
    "(SELECT \n",
    "*\n",
    "FROM `ironhacks-data.ironhacks_competition.unemployment_data`) a\n",
    "JOIN `ironhacks-data.ironhacks_competition.wage_data` b \n",
    "ON a.uu_id=b.uu_id\n",
    "\"\"\""
   ]
  },
  {
   "cell_type": "code",
   "execution_count": 8,
   "id": "52e14405",
   "metadata": {
    "execution": {
     "iopub.execute_input": "2023-05-10T01:44:14.616904Z",
     "iopub.status.busy": "2023-05-10T01:44:14.616825Z",
     "iopub.status.idle": "2023-05-10T01:44:17.119660Z",
     "shell.execute_reply": "2023-05-10T01:44:17.118934Z"
    }
   },
   "outputs": [],
   "source": [
    "query_job = bigquery_client.query(query)\n",
    "data = query_job.to_dataframe()"
   ]
  },
  {
   "cell_type": "code",
   "execution_count": 9,
   "id": "c34c9bb5",
   "metadata": {
    "execution": {
     "iopub.execute_input": "2023-05-10T01:44:17.123647Z",
     "iopub.status.busy": "2023-05-10T01:44:17.123315Z",
     "iopub.status.idle": "2023-05-10T01:44:17.126769Z",
     "shell.execute_reply": "2023-05-10T01:44:17.126113Z"
    }
   },
   "outputs": [],
   "source": [
    "query_pred = \"\"\"\n",
    "SELECT * FROM `ironhacks-data.ironhacks_competition.prediction_list`\n",
    "\"\"\""
   ]
  },
  {
   "cell_type": "code",
   "execution_count": 10,
   "id": "cf84a796",
   "metadata": {
    "execution": {
     "iopub.execute_input": "2023-05-10T01:44:17.129521Z",
     "iopub.status.busy": "2023-05-10T01:44:17.129338Z",
     "iopub.status.idle": "2023-05-10T01:44:18.884854Z",
     "shell.execute_reply": "2023-05-10T01:44:18.883063Z"
    }
   },
   "outputs": [],
   "source": [
    "query_job_pred = bigquery_client.query(query_pred)\n",
    "data_pred_query= query_job_pred.to_dataframe()"
   ]
  },
  {
   "cell_type": "code",
   "execution_count": 11,
   "id": "6980144a",
   "metadata": {
    "execution": {
     "iopub.execute_input": "2023-05-10T01:44:18.892553Z",
     "iopub.status.busy": "2023-05-10T01:44:18.892036Z",
     "iopub.status.idle": "2023-05-10T01:44:18.922713Z",
     "shell.execute_reply": "2023-05-10T01:44:18.922119Z"
    },
    "lines_to_next_cell": 2
   },
   "outputs": [
    {
     "name": "stdout",
     "output_type": "stream",
     "text": [
      "# of observations:  16833\n",
      "# of uu_id: 525\n",
      "# of timeperiod: 35\n",
      "# of week_number: 35\n",
      "# of countyfips: 60\n",
      "# of tract: 425\n",
      "# of tract_name: 525\n",
      "Unique value of total_claims: <IntegerArray>\n",
      "[ 22, 111,  39,  14, 155,  24,  19,  20,  12,  50,\n",
      " ...\n",
      " 135,  95, 105, 117, 118,  93, 137, 146, 120, 110]\n",
      "Length: 120, dtype: Int64\n",
      "Unique value of edu_8th_or_less: <IntegerArray>\n",
      "[0, <NA>, 18, 14, 10, 19, 24, 17, 28, 16, 41, 12, 33, 21, 13, 26, 11, 37]\n",
      "Length: 18, dtype: Int64\n",
      "Unique value of edu_grades_9_11: <IntegerArray>\n",
      "[<NA>,    0,   19,   11,   12,   10,   13,   35,   18,   14,   21,   25,   16,\n",
      "   17,   37,   42,   20,   15,   26,   22,   29,   47,   33,   28,   40,   27,\n",
      "   43,   24,   39,   23,   44,   36,   30,   31,   32,   41,   51,   38,   57,\n",
      "   78]\n",
      "Length: 40, dtype: Int64\n",
      "Unique value of edu_hs_grad_equiv: <IntegerArray>\n",
      "[  14,  108, <NA>,   69,   15,   10,   13,   21,   50,   44,   30,    0,   11,\n",
      "   17,   18,   45,   62,   37,   12,   42,   31,   16,   41,   20,   24,   27,\n",
      "   23,   65,   97,   19,   35,   39,   51,   26,   25,   22,   36,   38,   28,\n",
      "   78,   32,   29,   52,   33,   34,   55,   49,   59,   66,   43,   61,   86,\n",
      "   57,   46,   54,   48,   56,   60,   47,   58,   70,   53,   63,  111,   40,\n",
      "   75,   73,  126,   83,   94,   87,   89,   80,   92,   67,   71,   74,  120,\n",
      "  101,   79,  137,   77,   84,   82,   68,   64,   88,   72,  122,  112,   76,\n",
      "  110,   81,  113,   98]\n",
      "Length: 95, dtype: Int64\n",
      "Unique value of edu_post_hs: <IntegerArray>\n",
      "[<NA>,   83,   16,   10,   13,   12,    0,   15,   11,   21,   27,   19,   23,\n",
      "   14,   34,   22,   51,   20,   18,   45,   25,   54,   32,   17,   87,   49,\n",
      "   26,   29,   57,   43,   77,   38,   73,   24,   31,   28,   70,   41,   44,\n",
      "  154,   36,   56,   30,   59,   33,   39,   42,   37,   47,   53,   46,   55,\n",
      "   40,   35,   50,   75,   48,   52,   65,   82,   72,   58,   67,   92,   79,\n",
      "   69,   64,   60]\n",
      "Length: 68, dtype: Int64\n",
      "Unique value of edu_unknown: <IntegerArray>\n",
      "[   0, <NA>,   18,   13,   14,   11,   15,   12,   21,   35,   10,   20,   31,\n",
      "   48,   26,   29,   46,   16,   17,   28,   27,   19,   36,   60,   24,   22]\n",
      "Length: 26, dtype: Int64\n",
      "Unique value of top_category_employer1: ['31-33' '48-49' '56' '72' '23' '54' '61' '11' '62' '44-45' '81' '52' '42'\n",
      " '71' '92' '51' '53' '55' '21' '99' '22']\n",
      "Unique value of top_category_employer2: ['51' 'N/A' '22' '11' '21' '99' '23' '42' '52' '53' '54' '55' '56' '61'\n",
      " '62' '71' '72' '81' '92' '31-33' '44-45' '48-49']\n",
      "Unique value of top_category_employer3: ['62' '56' 'N/A' '44-45' '31-33' '72' '48-49' '23' '52' '92' '42' '81'\n",
      " '54' '71' '55' '21' '99' '61' '51' '53' '22' '11']\n",
      "Unique value of gender_female: <IntegerArray>\n",
      "[<NA>,   76,   90,   14,   11,   29,   20,   16,   39,   10,    0,   27,   52,\n",
      "   25,   17,   12,   13,   34,   23,   28,   26,   22,   65,   46,   19,   15,\n",
      "   58,   18,   31,   21,   40,   43,   32,   61,   62,   81,   24,   44,   30,\n",
      "   38,   42,   33,   41,   36,   37,   59,   74,   55,   54,   35,   83,   47,\n",
      "   48,   82,   95,   49,   84,   57,   72,   53,   45,  119,   60,   71,   86,\n",
      "   68,   50,   64,   80,   75,   67,  112,   69,   51,   56,   77,   66,  126,\n",
      "  103,   96,   73]\n",
      "Length: 81, dtype: Int64\n",
      "Unique value of gender_male: <IntegerArray>\n",
      "[<NA>,   35,   65,   10,   39,   46,   34,    0,   17,   13,   15,   12,   32,\n",
      "   22,   11,   52,   30,   21,   37,   14,   18,   19,   72,   44,   16,   26,\n",
      "   77,   23,   90,   67,   31,   41,   49,   24,   25,   28,   36,   64,   27,\n",
      "   73,   53,   29,   20,   42,   48,   45,   84,   47,   56,   43,   50,   59,\n",
      "   55,   80,   40,   33,   74,   57,   86,   78,   91,   38,   58,   83,  139,\n",
      "   62,   61,   51,  127,   70,   82,   54,   71,   85,   79,   69,   63,  123,\n",
      "   81,   66]\n",
      "Length: 80, dtype: Int64\n",
      "Unique value of gender_na: <IntegerArray>\n",
      "[0, <NA>, 12, 27, 49]\n",
      "Length: 5, dtype: Int64\n",
      "Unique value of race_amerindian: <IntegerArray>\n",
      "[0, <NA>, 13, 14, 36, 11, 26, 10, 17]\n",
      "Length: 9, dtype: Int64\n",
      "Unique value of race_asian: <IntegerArray>\n",
      "[0, <NA>, 26, 13, 21, 10, 19, 20, 24, 12, 41, 11]\n",
      "Length: 12, dtype: Int64\n",
      "Unique value of race_black: <IntegerArray>\n",
      "[  11, <NA>,   39,   10,  135,    0,   16,   21,   17,   18,   20,   23,   47,\n",
      "   22,   34,   85,   81,   52,   14,   61,   31,   12,   13,   19,   48,   57,\n",
      "   50,   45,   24,   27,   84,   59,   26,   36,   38,   25,   15,   60,   89,\n",
      "   37,   42,   28,   29,   51,   54,   43,   66,   35,   40,   46,   33,   64,\n",
      "   78,   41,   62,   32,   90,   30,   58,   67,  163,   53,   76,   55,   77,\n",
      "   99,   87,   49,   75,  101,   92,   73,   56,   72,  138,   63,   65,  109,\n",
      "   97,   71,   68,   91,   44,   79,  128,   80,   88,   70,   82,   74,  140,\n",
      "   83,   86,   93,   69,  142,   96,  117]\n",
      "Length: 98, dtype: Int64\n",
      "Unique value of race_noanswer: <IntegerArray>\n",
      "[   0, <NA>,   28,   13,   12,   23,   46,   11,   19,   25,   16,   15,   31,\n",
      "   24,   22,   20,   29,   14,   17,   26,   10,   34,   37,   76,   35,   38,\n",
      "   40,   39,   30,   55,  110]\n",
      "Length: 31, dtype: Int64\n",
      "Unique value of race_hawaiiannative: <IntegerArray>\n",
      "[0, <NA>]\n",
      "Length: 2, dtype: Int64\n",
      "Unique value of race_other: <IntegerArray>\n",
      "[<NA>,    0,   14,   24,   13,   10,   22,   38,   15,   43,   12,   17,   23,\n",
      "   18,   27,   16,   25,   19,   26,   20,   33,   30,   34,   74,   46,   11,\n",
      "   31,   32,   21,   29,   36,   68,   28,   60]\n",
      "Length: 34, dtype: Int64\n",
      "Unique value of race_white: <IntegerArray>\n",
      "[<NA>,    0,   12,   14,   71,   61,   44,   23,   15,   10,   33,   11,   17,\n",
      "   13,   19,   55,   18,   16,   29,   72,   47,   25,   22,   35,   28,   50,\n",
      "   27,   26,   20,   32,   24,   34,   21,   45,   38,   30,   52,   39,   40,\n",
      "  103,   83,   41,   37,   36,   42,   49,   66,   69,   31,  155,   65,   53,\n",
      "   46,   67,   73,   63,   43,   70,   60,   51,   64,   57,   89,   81,   54,\n",
      "   68,   48,  110,   76,   56,   74,   92,   97,   62,   94,   77]\n",
      "Length: 76, dtype: Int64\n",
      "Unique value of average_wage: [ 8347.125       7036.63636364  7890.14285714  7534.375\n",
      " 11825.125       4607.33333333 11288.25       17538.8\n",
      " 15685.13333333 17452.          6195.14285714 17467.53846154\n",
      " 17906.0952381  17766.         24255.25       16334.5\n",
      " 14842.04347826 17617.23076923 12794.09090909  7691.375\n",
      " 11044.9        14063.66666667 12955.64814815 13500.13793103\n",
      "  5047.75        8931.66666667  8230.22222222  9687.35714286\n",
      " 11917.375      15117.7         8629.07692308  8939.66666667\n",
      "  5918.875       9982.94117647  6372.          7308.\n",
      " 10372.83333333 10808.4        14503.83333333 13185.5\n",
      " 11736.375      11140.33333333 13467.125      14739.35294118\n",
      " 17909.36363636 11465.71428571  3992.5        10756.125\n",
      " 11862.42857143 13333.23333333 13345.96428571 10415.54545455\n",
      " 16904.9         8660.2        15159.72727273  8810.88888889\n",
      "  9151.          9240.8        11283.22222222 12255.76923077\n",
      "  6661.66666667 20252.921875   21923.         14894.52380952\n",
      " 12294.4         8671.          7568.         17141.41666667\n",
      " 12740.125      10000.94117647  9523.6         9514.75\n",
      " 15542.57142857 13541.83333333 13348.78947368  9727.85714286\n",
      "  8708.28571429 14623.27272727 14781.         21521.\n",
      " 14125.32       10758.33333333 14508.          8901.4\n",
      "  7213.5         8219.57142857 10198.          5365.8\n",
      " 10153.14285714  8841.125       9883.25       14189.\n",
      " 10254.9         7074.28571429  8295.16666667  7661.55555556\n",
      "  9136.2         8687.75        5237.91666667 10065.22222222\n",
      "  8182.25        9726.875      11529.28571429  6885.\n",
      "  7106.85714286  7807.25       10280.44444444  8056.33333333\n",
      "  8583.875       9478.58333333  6588.         12068.57142857\n",
      " 11072.72727273  7090.61538462  8550.71428571 13002.14285714\n",
      " 18145.28571429  9916.72727273 11392.2         7746.33333333\n",
      "  8341.625      17697.22222222 10784.18181818 11857.42857143\n",
      "  8190.          9908.3125     11379.4         9502.6\n",
      " 12219.5         7381.2        17279.16666667 12497.\n",
      " 13643.75       11919.88888889  6520.90909091  8391.8\n",
      "  6663.71428571 11174.33333333 14218.75       11816.66666667\n",
      " 13895.33333333 16392.83870968  9019.66666667 12307.71428571\n",
      " 11501.90909091 26388.66666667  6248.         11831.28571429\n",
      " 12577.42857143 14797.         10147.         20625.5\n",
      "  6201.33333333 15658.26923077  8485.85714286 19334.74193548\n",
      "  4433.5         8653.28571429 14241.72727273 13171.91666667\n",
      "  8659.57142857  5899.75        9891.25       12655.\n",
      "  6780.         11327.625       8472.          7977.42857143\n",
      " 21129.16666667  8369.         13250.         10030.625\n",
      " 13156.11111111 17968.61290323 18390.42857143 10188.5\n",
      " 14287.14285714  5184.75        5080.9375      8564.33333333\n",
      "  7061.2         7098.125      11397.66666667 19350.16666667\n",
      "  8125.33333333  8942.         11404.75        9386.\n",
      "  8687.          9925.71428571  9960.25       16923.14285714\n",
      "  9967.2         6953.88235294  7837.3         9464.16666667\n",
      " 10445.         10352.         11132.16666667 10087.42857143\n",
      " 11424.125       7187.57142857  6736.18181818 11133.58823529\n",
      "  6392.30769231  4637.375      15455.33333333  6241.77777778\n",
      " 17926.83333333 13854.75        8431.125      11266.33333333\n",
      "  7067.30769231 12513.5         9948.06666667 11044.875\n",
      " 13343.2173913  11896.5        14344.          6781.4\n",
      " 11891.875      10889.66666667 10846.66666667  5554.\n",
      "  8645.83333333  8306.          7269.          8857.15\n",
      "  8807.16666667 10857.66666667 14246.66666667 11789.875\n",
      "  9491.         17754.8        10133.5        13119.\n",
      " 14975.4        23880.          8861.         16658.\n",
      " 18770.4        11045.         17127.66666667  9277.\n",
      " 13992.25       13613.5        12082.42857143 21412.33333333\n",
      "  6896.83333333 14835.2         5973.8         9020.11111111\n",
      " 24552.2         7886.         11111.         21141.375\n",
      "  9966.66666667 11355.8         7594.5        16336.85714286\n",
      " 10749.77777778  6903.66666667 14962.66666667  9201.8\n",
      "  8336.5        41267.         14278.         12010.6\n",
      "  8928.         15619.33333333  8465.71428571  4916.33333333\n",
      " 10423.4        11876.66666667 12709.25       12674.2\n",
      " 10040.85714286 12247.875      13105.85714286  7219.2\n",
      " 13632.88888889 15440.5         9440.91666667 11609.83333333\n",
      " 11884.33333333 10931.77777778 10039.          8112.\n",
      "  7099.53846154 26336.125       9010.5        10818.\n",
      " 11224.54545455 14375.18181818 14126.09090909 14174.22222222\n",
      " 10704.42857143 10426.88888889 14725.         13907.15151515\n",
      " 19702.88235294  9814.3        10139.84615385  8715.25\n",
      " 12544.75       10843.55555556 10469.86666667 11353.77777778\n",
      "  7562.28571429  8209.75        8786.2        17146.44444444\n",
      "  7223.         12200.28571429  7777.83333333 18368.45454545\n",
      "  9976.33333333 21891.5        13228.76923077  8991.25\n",
      "  9129.71428571 10357.66666667 12315.         18908.81632653\n",
      "  9706.66666667 10922.85714286 13404.53333333 10458.5\n",
      " 13339.30769231 10576.14285714 14779.         13908.33333333\n",
      " 14760.6875     11141.13333333 15919.         10814.375\n",
      "  8018.5        16624.7         5426.25       12460.88888889\n",
      " 10622.88888889  8123.5        12912.         13053.5\n",
      "  9598.27272727 13223.625      15105.          8141.\n",
      " 11736.54545455  9057.1         9474.         14781.5\n",
      "  4024.         17207.6         9974.33333333  5832.42857143\n",
      " 11297.          9768.63636364 12099.1         9803.\n",
      " 16393.5         9274.46153846  9281.          6861.2\n",
      " 12016.33333333  7554.75       10851.09090909 15379.14285714\n",
      "  8622.2         4018.16666667  7539.33333333  7667.72727273\n",
      "  9779.5625      6393.6         7009.          6429.33333333\n",
      " 10520.23529412  8852.         10175.76923077 11040.66666667\n",
      " 13030.         11464.         13246.16666667 11526.4\n",
      " 13316.2        11012.58333333 15486.         17832.86956522\n",
      " 19748.95       13308.61538462 13213.53333333 15142.\n",
      "  8152.83333333  7642.          7689.8        10971.83333333\n",
      " 10901.66666667 13278.66666667  8074.42857143 10484.33333333\n",
      " 12860.0625     12882.55555556 21658.66666667 32368.25\n",
      " 15790.13333333 13225.25       13051.57142857  9013.81818182\n",
      " 21175.         15006.5        18011.38461538 16676.13333333\n",
      " 13029.4        14085.42857143 13199.81818182 15846.76923077\n",
      " 20800.2        13035.          9936.88888889 11040.28571429\n",
      " 10120.         10188.55555556 15254.8        14903.27272727\n",
      " 10908.31578947 14596.125      11725.30769231 10356.125\n",
      " 11066.85714286 22035.         13343.4        14081.2\n",
      " 12079.5        16340.88888889 13439.83333333 10836.18181818\n",
      " 14976.         13018.66666667 24573.71428571 13163.08333333\n",
      " 14206.28571429 10040.11111111 14304.18181818 15600.39130435\n",
      " 17418.55102041 13029.2        12415.57142857 10794.75\n",
      " 12865.91666667  8040.2         6176.71428571  8797.6\n",
      " 12161.3        14195.28571429 17575.27272727  6959.\n",
      " 18250.25       19289.         22092.02702703 14976.05882353\n",
      " 12868.65625    16334.9047619  18286.35       14365.15789474\n",
      "  8098.5        11163.53846154 10478.63636364 12777.2\n",
      " 18272.33333333 14436.66666667 12097.4        15767.94444444\n",
      " 15100.         14989.4         8193.2        18215.25\n",
      "  8050.5        11507.57142857  8392.         15134.8\n",
      "  9073.33333333 11944.         18061.4        23200.5\n",
      "  5757.33333333 11593.3         9311.88888889  9722.6\n",
      " 11428.35714286 21899.58333333 17334.625      12758.2\n",
      "  8586.6        14437.66666667 10680.          8909.44444444\n",
      "  4112.          7195.5        15257.          9173.28571429\n",
      " 13216.14285714 14833.83333333 17307.45454545 14628.06666667\n",
      " 14474.61538462 20515.41176471 18967.27027027 12084.58333333\n",
      " 18015.05263158  6612.         14576.2         7884.5\n",
      "  7359.8         8142.75        5008.5         7361.1\n",
      "  9753.375      10832.375       6580.          7603.83333333\n",
      "  9311.42857143  6401.4        10320.28571429 14410.46153846\n",
      " 17282.76470588]\n",
      "# of observations:  525\n",
      "# of uu_id: 525\n",
      "# of week_number: 1\n"
     ]
    }
   ],
   "source": [
    "# Explore input data for NA and special values\n",
    "dataExplore(data)\n",
    "dataExplore(data_pred_query)"
   ]
  }
 ],
 "metadata": {
  "jupytext": {
   "cell_metadata_filter": "-all",
   "main_language": "python",
   "notebook_metadata_filter": "-all"
  },
  "language_info": {
   "codemirror_mode": {
    "name": "ipython",
    "version": 3
   },
   "file_extension": ".py",
   "mimetype": "text/x-python",
   "name": "python",
   "nbconvert_exporter": "python",
   "pygments_lexer": "ipython3",
   "version": "3.9.12"
  }
 },
 "nbformat": 4,
 "nbformat_minor": 5
}
