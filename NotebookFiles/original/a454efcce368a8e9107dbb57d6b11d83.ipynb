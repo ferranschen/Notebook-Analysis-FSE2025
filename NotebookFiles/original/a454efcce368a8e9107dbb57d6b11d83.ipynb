{
 "cells": [
  {
   "cell_type": "code",
   "execution_count": null,
   "id": "1312f42f",
   "metadata": {},
   "outputs": [],
   "source": [
    "get_ipython().run_cell_magic('capture', '', \"%logstop\\n%logstart -t -r -q ipython_command_log.py global\\n\\n#- IRONHACKS RESEARCH TRACKING CODE\\n#----------------------------------\\n# The following code is used to help our research team understand how you \\n# our notebook environment. We do not collect any personal information with\\n# the following code, it is used to measure when and how often you work on\\n# your submission files.\\n\\nimport os\\nfrom datetime import datetime\\nimport IPython.core.history as history\\n\\nha = history.HistoryAccessor()\\nha_tail = ha.get_tail(1)\\nha_cmd = next(ha_tail)\\nsession_id = str(ha_cmd[0])\\ncommand_id = str(ha_cmd[1])\\ntimestamp = datetime.utcnow().isoformat()\\nhistory_line = ','.join([session_id, command_id, timestamp]) + '\\\\n'\\nlogfile = open(os.environ['HOME']+'/ipython_session_log.csv', 'a')\\nlogfile.write(history_line)\\nlogfile.close()\\n\")"
   ]
  },
  {
   "cell_type": "code",
   "execution_count": null,
   "id": "b4a15c63",
   "metadata": {},
   "outputs": [],
   "source": [
    "get_ipython().run_cell_magic('capture', '', \"\\n#- INSTALL ADDITIONAL LIBRARIES IF REQUIRED\\n#------------------------------------------\\n# This is normally not required. The hub environment comes preinstaled with \\n# many packages that you can already use without setup. In case there is some\\n# other library you would like to use that isn't on the list you run this command\\n# once to install them.  If it is already installed this command has no effect.\\n\\n!python3 -m pip install pandas\\n\")"
   ]
  },
  {
   "cell_type": "markdown",
   "id": "858a83e4",
   "metadata": {},
   "source": [
    "- IMPORT THE LIBRARIES YOU WILL USE\n",
    "------------------------------------------\n",
    "You only need to import packages one time per notebook session. To keep your\n",
    "notebook clean and organized you can handle all imports at the top of your file.\n",
    "The following are included for example purposed, feel free to modify or delete \n",
    "anything in this section."
   ]
  },
  {
   "cell_type": "code",
   "execution_count": null,
   "id": "72e70c6f",
   "metadata": {
    "lines_to_next_cell": 1
   },
   "outputs": [],
   "source": [
    "import csv\n",
    "import pandas as pd\n",
    "import numpy as np\n",
    "from google.cloud import bigquery\n",
    "from google.oauth2 import service_account\n",
    "from google.cloud.bigquery import magics"
   ]
  },
  {
   "cell_type": "code",
   "execution_count": null,
   "id": "ff8599ee",
   "metadata": {
    "lines_to_next_cell": 1
   },
   "outputs": [],
   "source": [
    "def get_data(table_name):\n",
    "    query = f\"\"\"\n",
    "    SELECT *\n",
    "    FROM `ironhacks-data.ironhacks_competition.{table_name}`\n",
    "    \"\"\"\n",
    "\n",
    "    # QUERY THE DATA ONCE\n",
    "    query_job = bigquery_client.query(query)\n",
    "    return query_job.to_dataframe()"
   ]
  },
  {
   "cell_type": "code",
   "execution_count": null,
   "id": "20a9836c",
   "metadata": {},
   "outputs": [],
   "source": [
    "unemploy = get_data('unemployment_data)"
   ]
  },
  {
   "cell_type": "code",
   "execution_count": null,
   "id": "adf6b3da",
   "metadata": {},
   "outputs": [],
   "source": [
    "unemploy = get_data('unemployment_data')"
   ]
  },
  {
   "cell_type": "code",
   "execution_count": null,
   "id": "156df292",
   "metadata": {
    "lines_to_next_cell": 1
   },
   "outputs": [],
   "source": [
    "BIGQUERY_PROJECT = 'ironhacks-data'\n",
    "bigquery_client = bigquery.Client(project=BIGQUERY_PROJECT)"
   ]
  },
  {
   "cell_type": "code",
   "execution_count": null,
   "id": "3f3430a3",
   "metadata": {
    "lines_to_next_cell": 1
   },
   "outputs": [],
   "source": [
    "def get_data(table_name):\n",
    "    query = f\"\"\"\n",
    "    SELECT *\n",
    "    FROM `ironhacks-data.ironhacks_competition.{table_name}`\n",
    "    \"\"\"\n",
    "\n",
    "    # QUERY THE DATA ONCE\n",
    "    query_job = bigquery_client.query(query)\n",
    "    return query_job.to_dataframe()"
   ]
  },
  {
   "cell_type": "code",
   "execution_count": null,
   "id": "cd071fa7",
   "metadata": {},
   "outputs": [],
   "source": [
    "unemploy = get_data('unemployment_data')"
   ]
  },
  {
   "cell_type": "code",
   "execution_count": null,
   "id": "541e7a03",
   "metadata": {},
   "outputs": [],
   "source": [
    "wage = get_data('wage_data')"
   ]
  },
  {
   "cell_type": "code",
   "execution_count": null,
   "id": "b8d946a2",
   "metadata": {},
   "outputs": [],
   "source": [
    "sub = get_data('prediction_list')"
   ]
  },
  {
   "cell_type": "code",
   "execution_count": null,
   "id": "b8d2563f",
   "metadata": {},
   "outputs": [],
   "source": [
    "sub['uu_id']"
   ]
  },
  {
   "cell_type": "code",
   "execution_count": null,
   "id": "9eb25dc1",
   "metadata": {},
   "outputs": [],
   "source": [
    "sub['uu_id'].to_list()"
   ]
  },
  {
   "cell_type": "code",
   "execution_count": null,
   "id": "614f70ab",
   "metadata": {},
   "outputs": [],
   "source": [
    "len(sub['uu_id'].to_list())"
   ]
  },
  {
   "cell_type": "code",
   "execution_count": null,
   "id": "533d8f48",
   "metadata": {},
   "outputs": [],
   "source": [
    "prediction_list.groupby('uu_id')"
   ]
  },
  {
   "cell_type": "code",
   "execution_count": null,
   "id": "185d6b51",
   "metadata": {},
   "outputs": [],
   "source": [
    "unemploy.groupby('uu_id')"
   ]
  },
  {
   "cell_type": "code",
   "execution_count": null,
   "id": "c90fe52b",
   "metadata": {},
   "outputs": [],
   "source": [
    "unemploy.groupby('uu_id').get_group(0)"
   ]
  },
  {
   "cell_type": "code",
   "execution_count": null,
   "id": "495e9329",
   "metadata": {},
   "outputs": [],
   "source": [
    "unemploy.groupby('uu_id').mean('total_claims')"
   ]
  },
  {
   "cell_type": "code",
   "execution_count": null,
   "id": "50639ea5",
   "metadata": {},
   "outputs": [],
   "source": [
    "unemploy.groupby('uu_id').mean()"
   ]
  },
  {
   "cell_type": "code",
   "execution_count": null,
   "id": "bfd8bb3c",
   "metadata": {},
   "outputs": [],
   "source": [
    "unemploy.groupby('uu_id')['total_claims'].mean()"
   ]
  },
  {
   "cell_type": "code",
   "execution_count": null,
   "id": "a1a870ff",
   "metadata": {},
   "outputs": [],
   "source": [
    "pred = unemploy.groupby('uu_id')['total_claims'].mean()"
   ]
  },
  {
   "cell_type": "code",
   "execution_count": null,
   "id": "3c5d3d07",
   "metadata": {},
   "outputs": [],
   "source": [
    "pred.index"
   ]
  },
  {
   "cell_type": "code",
   "execution_count": null,
   "id": "977f3986",
   "metadata": {},
   "outputs": [],
   "source": [
    "pred[sub['uu_id'].to_list()]"
   ]
  },
  {
   "cell_type": "code",
   "execution_count": null,
   "id": "87302faa",
   "metadata": {},
   "outputs": [],
   "source": [
    "sub['uu_id'].to_list()"
   ]
  },
  {
   "cell_type": "code",
   "execution_count": null,
   "id": "86c7d51d",
   "metadata": {},
   "outputs": [],
   "source": [
    "pred"
   ]
  },
  {
   "cell_type": "code",
   "execution_count": null,
   "id": "09d72866",
   "metadata": {},
   "outputs": [],
   "source": [
    "pred = pred[sub['uu_id'].to_list()]"
   ]
  },
  {
   "cell_type": "code",
   "execution_count": null,
   "id": "fc323e95",
   "metadata": {},
   "outputs": [],
   "source": [
    "pred"
   ]
  },
  {
   "cell_type": "code",
   "execution_count": null,
   "id": "e682312a",
   "metadata": {},
   "outputs": [],
   "source": [
    "pred.columns"
   ]
  },
  {
   "cell_type": "code",
   "execution_count": null,
   "id": "fd76ae39",
   "metadata": {},
   "outputs": [],
   "source": [
    "pred.to_numpy("
   ]
  },
  {
   "cell_type": "code",
   "execution_count": null,
   "id": "85c9c98a",
   "metadata": {},
   "outputs": [],
   "source": [
    "pred.to_numpy()"
   ]
  },
  {
   "cell_type": "code",
   "execution_count": null,
   "id": "acc39212",
   "metadata": {},
   "outputs": [],
   "source": [
    "pred = pd.Dataframe({\n",
    "    'uu_id': pred.index,\n",
    "    'total_claims': pred.to_list()\n",
    "})"
   ]
  },
  {
   "cell_type": "code",
   "execution_count": null,
   "id": "54d74097",
   "metadata": {},
   "outputs": [],
   "source": [
    "pred = pd.DataFrame({\n",
    "    'uu_id': pred.index,\n",
    "    'total_claims': pred.to_list()\n",
    "})"
   ]
  },
  {
   "cell_type": "code",
   "execution_count": null,
   "id": "ec564b26",
   "metadata": {},
   "outputs": [],
   "source": [
    "pred"
   ]
  },
  {
   "cell_type": "code",
   "execution_count": null,
   "id": "a12e8b5f",
   "metadata": {},
   "outputs": [],
   "source": [
    "pred = pd.DataFrame({\n",
    "    'uu_id': pred.index,\n",
    "    'total_claims': pred.to_list().apply(lambda x: int(x))\n",
    "})"
   ]
  },
  {
   "cell_type": "code",
   "execution_count": null,
   "id": "51c4fbb4",
   "metadata": {},
   "outputs": [],
   "source": [
    "pred = unemploy.groupby('uu_id')['total_claims'].mean().apply(lambda x: int(x))"
   ]
  },
  {
   "cell_type": "code",
   "execution_count": null,
   "id": "8fa24ef1",
   "metadata": {},
   "outputs": [],
   "source": [
    "pred = pred[sub['uu_id'].to_list()]"
   ]
  },
  {
   "cell_type": "code",
   "execution_count": null,
   "id": "d12d49fa",
   "metadata": {},
   "outputs": [],
   "source": [
    "pred = pd.DataFrame({\n",
    "    'uu_id': pred.index,\n",
    "    'total_claims': pred.to_list()\n",
    "})"
   ]
  },
  {
   "cell_type": "code",
   "execution_count": null,
   "id": "b0657678",
   "metadata": {},
   "outputs": [],
   "source": [
    "pred"
   ]
  },
  {
   "cell_type": "code",
   "execution_count": null,
   "id": "dd1eb690",
   "metadata": {},
   "outputs": [],
   "source": [
    "pred = pd.DataFrame({\n",
    "    'uu_id': pred.index,\n",
    "    'week_number': 39\n",
    "    'total_claims': pred.to_list()\n",
    "})"
   ]
  },
  {
   "cell_type": "code",
   "execution_count": null,
   "id": "ea1e6fe6",
   "metadata": {},
   "outputs": [],
   "source": [
    "pred = pd.DataFrame({\n",
    "    'uu_id': pred.index,\n",
    "    'week_number': 39,\n",
    "    'total_claims': pred.to_list()\n",
    "})"
   ]
  },
  {
   "cell_type": "code",
   "execution_count": null,
   "id": "545c9eca",
   "metadata": {},
   "outputs": [],
   "source": [
    "pred = unemploy.groupby('uu_id')['total_claims'].mean().apply(lambda x: int(x))"
   ]
  },
  {
   "cell_type": "code",
   "execution_count": null,
   "id": "e82ddf92",
   "metadata": {},
   "outputs": [],
   "source": [
    "pred = pred[sub['uu_id'].to_list()]"
   ]
  },
  {
   "cell_type": "code",
   "execution_count": null,
   "id": "0deff7ad",
   "metadata": {},
   "outputs": [],
   "source": [
    "pred = pd.DataFrame({\n",
    "    'uu_id': pred.index,\n",
    "    'week_number': 39,\n",
    "    'total_claims': pred.to_list()\n",
    "})"
   ]
  },
  {
   "cell_type": "code",
   "execution_count": null,
   "id": "897d9a85",
   "metadata": {},
   "outputs": [],
   "source": [
    "pred"
   ]
  },
  {
   "cell_type": "code",
   "execution_count": null,
   "id": "9e31bfc7",
   "metadata": {},
   "outputs": [],
   "source": [
    "pred._to_csv('submission_prediction_output.csv', index=False)"
   ]
  },
  {
   "cell_type": "code",
   "execution_count": null,
   "id": "600adf14",
   "metadata": {},
   "outputs": [],
   "source": [
    "pred.to_csv('submission_prediction_output.csv', index=False)"
   ]
  },
  {
   "cell_type": "code",
   "execution_count": null,
   "id": "b6ddb7b7",
   "metadata": {},
   "outputs": [],
   "source": [
    "unemploy.groupby('uu_id')['total_claims'].mean().apply(lambda x: int(x))"
   ]
  },
  {
   "cell_type": "code",
   "execution_count": null,
   "id": "62b5baa2",
   "metadata": {},
   "outputs": [],
   "source": [
    "unemploy.groupby('uu_id')['total_claims'].mean()"
   ]
  },
  {
   "cell_type": "code",
   "execution_count": null,
   "id": "793d43c6",
   "metadata": {},
   "outputs": [],
   "source": [
    "unemploy.groupby('uu_id')['total_claims']"
   ]
  },
  {
   "cell_type": "code",
   "execution_count": null,
   "id": "09bf28d2",
   "metadata": {},
   "outputs": [],
   "source": [
    "unemploy.groupby('uu_id')"
   ]
  },
  {
   "cell_type": "code",
   "execution_count": null,
   "id": "9c310d2c",
   "metadata": {},
   "outputs": [],
   "source": [
    "unemploy.groupby('uu_id').apply(lambda x: print(x))"
   ]
  },
  {
   "cell_type": "code",
   "execution_count": null,
   "id": "41f11a19",
   "metadata": {},
   "outputs": [],
   "source": [
    "unemploy.groupby('uu_id').apply(lambda x: print(type(x))"
   ]
  },
  {
   "cell_type": "code",
   "execution_count": null,
   "id": "13351aae",
   "metadata": {},
   "outputs": [],
   "source": [
    "unemploy.groupby('uu_id').apply(lambda x: print(type(x)))"
   ]
  },
  {
   "cell_type": "code",
   "execution_count": null,
   "id": "bf5d17fd",
   "metadata": {},
   "outputs": [],
   "source": [
    "unemploy.groupby('uu_id').apply(lambda x: x.sort_values('week_number').tail())"
   ]
  },
  {
   "cell_type": "code",
   "execution_count": null,
   "id": "ca6065d6",
   "metadata": {},
   "outputs": [],
   "source": [
    "unemploy.groupby('uu_id').apply(lambda x: x.sort_values('week_number')['total_claims'].tail())"
   ]
  },
  {
   "cell_type": "code",
   "execution_count": null,
   "id": "7e79b63d",
   "metadata": {},
   "outputs": [],
   "source": [
    "unemploy.groupby('uu_id').apply(lambda x: x.sort_values('week_number')['total_claims'].ewm(alpha=1/3).mean().to_numpy()[-1])"
   ]
  },
  {
   "cell_type": "code",
   "execution_count": null,
   "id": "e773ba85",
   "metadata": {
    "lines_to_next_cell": 2
   },
   "outputs": [],
   "source": [
    "pred = unemploy.groupby('uu_id').apply(lambda x: x.sort_values('week_number')['total_claims'].ewm(alpha=1/3).mean().to_numpy()[-1])"
   ]
  }
 ],
 "metadata": {
  "jupytext": {
   "cell_metadata_filter": "-all",
   "main_language": "python",
   "notebook_metadata_filter": "-all"
  }
 },
 "nbformat": 4,
 "nbformat_minor": 5
}
