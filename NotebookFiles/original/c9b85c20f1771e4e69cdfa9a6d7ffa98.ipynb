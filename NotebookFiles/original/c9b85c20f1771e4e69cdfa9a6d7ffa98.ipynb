{
 "cells": [
  {
   "cell_type": "code",
   "execution_count": null,
   "id": "edfe59a8",
   "metadata": {},
   "outputs": [],
   "source": [
    "get_ipython().run_cell_magic('capture', '', \"%logstop\\n%logstart -t -r -q ipython_command_log.py global\\n\\n#- IRONHACKS RESEARCH TRACKING CODE\\n#----------------------------------\\n# The following code is used to help our research team understand how you \\n# our notebook environment. We do not collect any personal information with\\n# the following code, it is used to measure when and how often you work on\\n# your submission files.\\n\\nimport os\\nfrom datetime import datetime\\nimport IPython.core.history as history\\n\\nha = history.HistoryAccessor()\\nha_tail = ha.get_tail(1)\\nha_cmd = next(ha_tail)\\nsession_id = str(ha_cmd[0])\\ncommand_id = str(ha_cmd[1])\\ntimestamp = datetime.utcnow().isoformat()\\nhistory_line = ','.join([session_id, command_id, timestamp]) + '\\\\n'\\nlogfile = open(os.environ['HOME']+'/ipython_session_log.csv', 'a')\\nlogfile.write(history_line)\\nlogfile.close()\\n\")"
   ]
  },
  {
   "cell_type": "code",
   "execution_count": null,
   "id": "ecabfef8",
   "metadata": {},
   "outputs": [],
   "source": [
    "get_ipython().run_cell_magic('capture', '', \"\\n#- INSTALL ADDITIONAL LIBRARIES IF REQUIRED\\n#------------------------------------------\\n# This is normally not required. The hub environment comes preinstaled with \\n# many packages that you can already use without setup. In case there is some\\n# other library you would like to use that isn't on the list you run this command\\n# once to install them.  If it is already installed this command has no effect.\\n!pip install db-dtypes\\n!python3 -m pip install pandas\\n!pip install pmdarima\\n\")"
   ]
  },
  {
   "cell_type": "markdown",
   "id": "9ce45b10",
   "metadata": {},
   "source": [
    "- IMPORT THE LIBRARIES YOU WILL USE\n",
    "------------------------------------------\n",
    "You only need to import packages one time per notebook session. To keep your\n",
    "notebook clean and organized you can handle all imports at the top of your file.\n",
    "The following are included for example purposed, feel free to modify or delete \n",
    "anything in this section."
   ]
  },
  {
   "cell_type": "code",
   "execution_count": null,
   "id": "baa412fb",
   "metadata": {},
   "outputs": [],
   "source": [
    "import csv\n",
    "import pandas as pd\n",
    "import numpy as np\n",
    "from google.cloud import bigquery\n",
    "from google.oauth2 import service_account\n",
    "from google.cloud.bigquery import magics\n",
    "import statsmodels.api as sm\n",
    "import math\n",
    "import plotly.express as px\n",
    "from pmdarima.arima import auto_arima"
   ]
  },
  {
   "cell_type": "code",
   "execution_count": null,
   "id": "eee767fb",
   "metadata": {},
   "outputs": [],
   "source": [
    "get_ipython().run_cell_magic('capture', '', \"\\n#- INSTALL ADDITIONAL LIBRARIES IF REQUIRED\\n#------------------------------------------\\n# This is normally not required. The hub environment comes preinstaled with \\n# many packages that you can already use without setup. In case there is some\\n# other library you would like to use that isn't on the list you run this command\\n# once to install them.  If it is already installed this command has no effect.\\n!pip install db-dtypes\\n!python3 -m pip install pandas\\n!pip install pmdarima\\n!pip install plotly==5.11.0\\n\")"
   ]
  },
  {
   "cell_type": "markdown",
   "id": "92eb75b1",
   "metadata": {},
   "source": [
    "- IMPORT THE LIBRARIES YOU WILL USE\n",
    "------------------------------------------\n",
    "You only need to import packages one time per notebook session. To keep your\n",
    "notebook clean and organized you can handle all imports at the top of your file.\n",
    "The following are included for example purposed, feel free to modify or delete \n",
    "anything in this section."
   ]
  },
  {
   "cell_type": "code",
   "execution_count": null,
   "id": "a8827882",
   "metadata": {},
   "outputs": [],
   "source": [
    "import csv\n",
    "import pandas as pd\n",
    "import numpy as np\n",
    "from google.cloud import bigquery\n",
    "from google.oauth2 import service_account\n",
    "from google.cloud.bigquery import magics\n",
    "import statsmodels.api as sm\n",
    "import math\n",
    "import plotly.express as px\n",
    "from pmdarima.arima import auto_arima"
   ]
  },
  {
   "cell_type": "markdown",
   "id": "b29e4eb5",
   "metadata": {
    "lines_to_next_cell": 2
   },
   "source": [
    "- DEFINE YOUR CLASSES AND FUNCTIONS \n",
    "-----------------------------------\n",
    "This is not required, but is helpful in keeping your notebook organized. \n",
    "You can use the following cell or several cells to define your functions\n",
    "and classes to keep them separate from your analysis or results code.\n",
    "In general it useful to define your methods in a separate cell from where\n",
    "it is run."
   ]
  },
  {
   "cell_type": "code",
   "execution_count": null,
   "id": "91969803",
   "metadata": {
    "lines_to_next_cell": 1
   },
   "outputs": [],
   "source": [
    "def dataExplore(data):\n",
    "    '''\n",
    "    Explore dataframe\n",
    "    '''\n",
    "    print(\"# of observations: \", data.shape[0])\n",
    "    for col in data.columns:\n",
    "        if col in [\"uu_id\", \"timeperiod\", \"week_number\", \"countyfips\", \"tract\", \"tract_name\", \"date\"]:\n",
    "            print(\"# of %s: %s\" % (col, len(pd.unique(data[col]))))\n",
    "        else:\n",
    "            print(\"Unique value of %s: %s\" % (col, pd.unique(data[col])))"
   ]
  },
  {
   "cell_type": "code",
   "execution_count": null,
   "id": "bce8d172",
   "metadata": {},
   "outputs": [],
   "source": [
    "def dataBalanceCheck(data):\n",
    "    '''\n",
    "    Check the balance of data frame\n",
    "    '''\n",
    "    unbalance_count = 0\n",
    "    print(\"# of observations in complete time series: \", len(pd.unique(data[\"week_number\"])))\n",
    "    for id in pd.unique(data[\"uu_id\"]):\n",
    "        if len(data[data[\"uu_id\"] == id]) <  len(pd.unique(data[\"week_number\"])):\n",
    "            print(id, len(data[data[\"uu_id\"] == id]))\n",
    "            unbalance_count += 1\n",
    "    print(\"% of tracts with incomplete time series: \", unbalance_count / len(pd.unique(data[\"uu_id\"]))*100)"
   ]
  },
  {
   "cell_type": "code",
   "execution_count": null,
   "id": "9e3b6616",
   "metadata": {
    "lines_to_next_cell": 1
   },
   "outputs": [],
   "source": [
    "def dataFillNa(data, value):\n",
    "    \"\"\"\n",
    "   fill NA with given value in the dataframe\n",
    "    \"\"\"\n",
    "    for col in data.columns:\n",
    "        if col in [\"uu_id\", \"timeperiod\", \"week_number\", \"countyfips\", \"tract\", \"tract_name\", \"date\"]:\n",
    "            pass\n",
    "        elif col in [\"top_category_employer1\", \"top_category_employer2\", \"top_category_employer3\"]:\n",
    "            data[col] = data[col].replace({'N/A':str(value)})\n",
    "        else:\n",
    "            data[col] = data[col].fillna(value)\n",
    "    return(data)"
   ]
  },
  {
   "cell_type": "code",
   "execution_count": null,
   "id": "22e6415b",
   "metadata": {
    "lines_to_next_cell": 1
   },
   "outputs": [],
   "source": [
    "def dataIdentifyDWM(data):\n",
    "    '''\n",
    "    Input: # of week. Output: data for the first day, its month and week order in the month\n",
    "    '''\n",
    "    data[\"date\"] = pd.to_datetime(2022 * 1000 + (1+(data[\"week_number\"]-1)*7), format='%Y%j')\n",
    "    data[\"month\"] = pd.DatetimeIndex(data[\"date\"]).month\n",
    "    data[\"weekofmonth\"]= pd.to_numeric(data[\"date\"].dt.day/7)\n",
    "    data['weekofmonth'] = data['weekofmonth'].apply(lambda x: math.ceil(x))\n",
    "    return(data)"
   ]
  },
  {
   "cell_type": "code",
   "execution_count": null,
   "id": "a33ffa2d",
   "metadata": {
    "lines_to_next_cell": 1
   },
   "outputs": [],
   "source": [
    "def MSPE(s1, s2):\n",
    "    return(sum((s1 - s2)**2)/len(s1))"
   ]
  },
  {
   "cell_type": "code",
   "execution_count": null,
   "id": "b4638e51",
   "metadata": {
    "lines_to_next_cell": 1
   },
   "outputs": [],
   "source": [
    "def MAPE(s1, s2):\n",
    "    return(sum(abs(s1 - s2))/len(s1))"
   ]
  },
  {
   "cell_type": "code",
   "execution_count": null,
   "id": "aac39037",
   "metadata": {
    "lines_to_next_cell": 1
   },
   "outputs": [],
   "source": [
    "def ARIMA_predict(df_input, cutoff_rate = 0.8, n_period = 15):\n",
    "    cutoff = int(cutoff_rate * len(df_input))\n",
    "    if cutoff_rate < 1:\n",
    "        valid = df_input[cutoff:]\n",
    "    train = df_input[:cutoff]\n",
    "    model = auto_arima(train, trace=False, error_action='ignore', suppress_warnings=True)\n",
    "    model.fit(train)\n",
    "    forecast = model.predict(n_period)\n",
    "    return(forecast)"
   ]
  },
  {
   "cell_type": "code",
   "execution_count": null,
   "id": "8a947872",
   "metadata": {},
   "outputs": [],
   "source": [
    "# Obtain data using BigQuery\n",
    "BIGQUERY_PROJECT = 'ironhacks-data'\n",
    "bigquery_client = bigquery.Client(project=BIGQUERY_PROJECT)"
   ]
  },
  {
   "cell_type": "code",
   "execution_count": null,
   "id": "7ff1d413",
   "metadata": {},
   "outputs": [],
   "source": [
    "query = \"\"\"\n",
    "SELECT\n",
    "a.*,\n",
    "b.average_wage\n",
    "FROM \n",
    "(SELECT \n",
    "*\n",
    "FROM `ironhacks-data.ironhacks_competition.unemployment_data`) a\n",
    "JOIN `ironhacks-data.ironhacks_competition.wage_data` b \n",
    "ON a.uu_id=b.uu_id\n",
    "\"\"\""
   ]
  },
  {
   "cell_type": "code",
   "execution_count": null,
   "id": "783beffd",
   "metadata": {},
   "outputs": [],
   "source": [
    "query_job = bigquery_client.query(query)\n",
    "data = query_job.to_dataframe()"
   ]
  },
  {
   "cell_type": "code",
   "execution_count": null,
   "id": "abf54af5",
   "metadata": {},
   "outputs": [],
   "source": [
    "query_pred = \"\"\"\n",
    "SELECT * FROM `ironhacks-data.ironhacks_competition.prediction_list`\n",
    "\"\"\""
   ]
  },
  {
   "cell_type": "code",
   "execution_count": null,
   "id": "4e230601",
   "metadata": {},
   "outputs": [],
   "source": [
    "query_job_pred = bigquery_client.query(query_pred)\n",
    "data_pred_query= query_job_pred.to_dataframe()"
   ]
  },
  {
   "cell_type": "code",
   "execution_count": null,
   "id": "3be1ec67",
   "metadata": {},
   "outputs": [],
   "source": [
    "# Explore input data for NA and special values\n",
    "dataExplore(data)\n",
    "# dataExplore(data_pred_query)\n",
    "# data_pred_query.head()"
   ]
  },
  {
   "cell_type": "code",
   "execution_count": null,
   "id": "07b4a07d",
   "metadata": {},
   "outputs": [],
   "source": [
    "# Explore input data for NA and special values\n",
    "# dataExplore(data)\n",
    "dataExplore(data_pred_query)\n",
    "# data_pred_query.head()"
   ]
  },
  {
   "cell_type": "code",
   "execution_count": null,
   "id": "e9974f15",
   "metadata": {},
   "outputs": [],
   "source": [
    "# Explore input data for NA and special values\n",
    "# dataExplore(data)\n",
    "# dataExplore(data_pred_query)\n",
    "data_pred_query.head()"
   ]
  },
  {
   "cell_type": "code",
   "execution_count": null,
   "id": "c05088e5",
   "metadata": {},
   "outputs": [],
   "source": [
    "# Explore input data for NA and special values\n",
    "dataExplore(data)\n",
    "# dataExplore(data_pred_query)\n",
    "# data_pred_query.head()"
   ]
  },
  {
   "cell_type": "code",
   "execution_count": null,
   "id": "971ca0ce",
   "metadata": {},
   "outputs": [],
   "source": [
    "# Explore input data for NA and special values\n",
    "# dataExplore(data)\n",
    "# dataExplore(data_pred_query)\n",
    "# data_pred_query.head()\n",
    "data.head()"
   ]
  },
  {
   "cell_type": "code",
   "execution_count": null,
   "id": "958c2a54",
   "metadata": {},
   "outputs": [],
   "source": [
    "# Explore input data for NA and special values\n",
    "dataExplore(data)\n",
    "# dataExplore(data_pred_query)\n",
    "# data_pred_query.head()\n",
    "data.head()"
   ]
  },
  {
   "cell_type": "code",
   "execution_count": null,
   "id": "9cd4a482",
   "metadata": {},
   "outputs": [],
   "source": [
    "# Explore input data for NA and special values\n",
    "# dataExplore(data)\n",
    "# dataExplore(data_pred_query)\n",
    "# data_pred_query.head()\n",
    "data.head()"
   ]
  },
  {
   "cell_type": "code",
   "execution_count": null,
   "id": "3a9af0e0",
   "metadata": {},
   "outputs": [],
   "source": [
    "get_ipython().run_cell_magic('capture', '', \"\\n#- INSTALL ADDITIONAL LIBRARIES IF REQUIRED\\n#------------------------------------------\\n# This is normally not required. The hub environment comes preinstaled with \\n# many packages that you can already use without setup. In case there is some\\n# other library you would like to use that isn't on the list you run this command\\n# once to install them.  If it is already installed this command has no effect.\\n!pip install db-dtypes\\n!python3 -m pip install pandas\\n!pip install pmdarima\\n!pip install plotly==5.11.0\\n!pip install hts_reconciliation\\n\")"
   ]
  },
  {
   "cell_type": "markdown",
   "id": "d46bdfda",
   "metadata": {},
   "source": [
    "- IMPORT THE LIBRARIES YOU WILL USE\n",
    "------------------------------------------\n",
    "You only need to import packages one time per notebook session. To keep your\n",
    "notebook clean and organized you can handle all imports at the top of your file.\n",
    "The following are included for example purposed, feel free to modify or delete \n",
    "anything in this section."
   ]
  },
  {
   "cell_type": "code",
   "execution_count": null,
   "id": "0384d6d7",
   "metadata": {},
   "outputs": [],
   "source": [
    "import csv\n",
    "import pandas as pd\n",
    "import numpy as np\n",
    "from google.cloud import bigquery\n",
    "from google.oauth2 import service_account\n",
    "from google.cloud.bigquery import magics\n",
    "import statsmodels.api as sm\n",
    "import math\n",
    "import plotly.express as px\n",
    "from pmdarima.arima import auto_arima\n",
    "import reconciliation_hts"
   ]
  },
  {
   "cell_type": "code",
   "execution_count": null,
   "id": "2cb7f37f",
   "metadata": {},
   "outputs": [],
   "source": [
    "%%capture"
   ]
  },
  {
   "cell_type": "code",
   "execution_count": null,
   "id": "ae5f704c",
   "metadata": {},
   "outputs": [],
   "source": [
    "#- INSTALL ADDITIONAL LIBRARIES IF REQUIRED\n",
    "#------------------------------------------\n",
    "# This is normally not required. The hub environment comes preinstaled with \n",
    "# many packages that you can already use without setup. In case there is some\n",
    "# other library you would like to use that isn't on the list you run this command\n",
    "# once to install them.  If it is already installed this command has no effect.\n",
    "get_ipython().system('pip install db-dtypes')\n",
    "get_ipython().system('python3 -m pip install pandas')\n",
    "get_ipython().system('pip install pmdarima')\n",
    "get_ipython().system('pip install plotly==5.11.0')\n",
    "get_ipython().system('pip install hts_reconciliation')"
   ]
  },
  {
   "cell_type": "code",
   "execution_count": null,
   "id": "fdfeb8eb",
   "metadata": {},
   "outputs": [],
   "source": [
    "%%capture"
   ]
  },
  {
   "cell_type": "code",
   "execution_count": null,
   "id": "c77ffb0d",
   "metadata": {},
   "outputs": [],
   "source": [
    "#- INSTALL ADDITIONAL LIBRARIES IF REQUIRED\n",
    "#------------------------------------------\n",
    "# This is normally not required. The hub environment comes preinstaled with \n",
    "# many packages that you can already use without setup. In case there is some\n",
    "# other library you would like to use that isn't on the list you run this command\n",
    "# once to install them.  If it is already installed this command has no effect.\n",
    "get_ipython().system('pip install db-dtypes')\n",
    "get_ipython().system('python3 -m pip install pandas')\n",
    "get_ipython().system('pip install pmdarima')\n",
    "get_ipython().system('pip install plotly==5.11.0')\n",
    "get_ipython().system('pip install scikit-hts[auto-arima]')"
   ]
  },
  {
   "cell_type": "markdown",
   "id": "a359f8f4",
   "metadata": {},
   "source": [
    "- IMPORT THE LIBRARIES YOU WILL USE\n",
    "------------------------------------------\n",
    "You only need to import packages one time per notebook session. To keep your\n",
    "notebook clean and organized you can handle all imports at the top of your file.\n",
    "The following are included for example purposed, feel free to modify or delete \n",
    "anything in this section."
   ]
  },
  {
   "cell_type": "code",
   "execution_count": null,
   "id": "577461db",
   "metadata": {},
   "outputs": [],
   "source": [
    "import csv\n",
    "import pandas as pd\n",
    "import numpy as np\n",
    "from google.cloud import bigquery\n",
    "from google.oauth2 import service_account\n",
    "from google.cloud.bigquery import magics\n",
    "import statsmodels.api as sm\n",
    "import math\n",
    "import plotly.express as px\n",
    "from pmdarima.arima import auto_arima\n",
    "import hts\n",
    "from hts.hierarchy import HierarchyTree\n",
    "from hts.model import AutoArimaModel\n",
    "from hts import HTSRegressor"
   ]
  },
  {
   "cell_type": "markdown",
   "id": "1871ba39",
   "metadata": {},
   "source": [
    "- IMPORT THE LIBRARIES YOU WILL USE\n",
    "------------------------------------------\n",
    "You only need to import packages one time per notebook session. To keep your\n",
    "notebook clean and organized you can handle all imports at the top of your file.\n",
    "The following are included for example purposed, feel free to modify or delete \n",
    "anything in this section."
   ]
  },
  {
   "cell_type": "code",
   "execution_count": null,
   "id": "0bbd24c5",
   "metadata": {},
   "outputs": [],
   "source": [
    "import csv\n",
    "import pandas as pd\n",
    "import numpy as np\n",
    "from google.cloud import bigquery\n",
    "from google.oauth2 import service_account\n",
    "from google.cloud.bigquery import magics\n",
    "import statsmodels.api as sm\n",
    "import math\n",
    "import plotly.express as px\n",
    "from pmdarima.arima import auto_arima\n",
    "import hts"
   ]
  },
  {
   "cell_type": "markdown",
   "id": "f443ee0f",
   "metadata": {},
   "source": [
    "- IMPORT THE LIBRARIES YOU WILL USE\n",
    "------------------------------------------\n",
    "You only need to import packages one time per notebook session. To keep your\n",
    "notebook clean and organized you can handle all imports at the top of your file.\n",
    "The following are included for example purposed, feel free to modify or delete \n",
    "anything in this section."
   ]
  },
  {
   "cell_type": "code",
   "execution_count": null,
   "id": "a37d1b3e",
   "metadata": {},
   "outputs": [],
   "source": [
    "import csv\n",
    "import pandas as pd\n",
    "import numpy as np\n",
    "from google.cloud import bigquery\n",
    "from google.oauth2 import service_account\n",
    "from google.cloud.bigquery import magics\n",
    "import statsmodels.api as sm\n",
    "import math\n",
    "import plotly.express as px\n",
    "from pmdarima.arima import auto_arima"
   ]
  },
  {
   "cell_type": "markdown",
   "id": "4854f630",
   "metadata": {},
   "source": [
    "- IMPORT THE LIBRARIES YOU WILL USE\n",
    "------------------------------------------\n",
    "You only need to import packages one time per notebook session. To keep your\n",
    "notebook clean and organized you can handle all imports at the top of your file.\n",
    "The following are included for example purposed, feel free to modify or delete \n",
    "anything in this section."
   ]
  },
  {
   "cell_type": "code",
   "execution_count": null,
   "id": "3c0052f0",
   "metadata": {},
   "outputs": [],
   "source": [
    "import csv\n",
    "import pandas as pd\n",
    "import numpy as np\n",
    "from google.cloud import bigquery\n",
    "from google.oauth2 import service_account\n",
    "from google.cloud.bigquery import magics\n",
    "import statsmodels.api as sm\n",
    "import math\n",
    "import plotly.express as px\n",
    "from pmdarima.arima import auto_arima\n",
    "from hts.hierarchy import HierarchyTree\n",
    "from hts.model import AutoArimaModel\n",
    "from hts import HTSRegressor"
   ]
  },
  {
   "cell_type": "markdown",
   "id": "5e0742b7",
   "metadata": {},
   "source": [
    "- IMPORT THE LIBRARIES YOU WILL USE\n",
    "------------------------------------------\n",
    "You only need to import packages one time per notebook session. To keep your\n",
    "notebook clean and organized you can handle all imports at the top of your file.\n",
    "The following are included for example purposed, feel free to modify or delete \n",
    "anything in this section."
   ]
  },
  {
   "cell_type": "code",
   "execution_count": null,
   "id": "4c1ab2b5",
   "metadata": {},
   "outputs": [],
   "source": [
    "import csv\n",
    "import pandas as pd\n",
    "import numpy as np\n",
    "from google.cloud import bigquery\n",
    "from google.oauth2 import service_account\n",
    "from google.cloud.bigquery import magics\n",
    "import statsmodels.api as sm\n",
    "import math\n",
    "import plotly.express as px\n",
    "from pmdarima.arima import auto_arima\n",
    "from collections.abc import Iterable\n",
    "import hts\n",
    "from hts.hierarchy import HierarchyTree\n",
    "from hts.model import AutoArimaModel\n",
    "from hts import HTSRegressor"
   ]
  },
  {
   "cell_type": "markdown",
   "id": "e7314b2e",
   "metadata": {},
   "source": [
    "- IMPORT THE LIBRARIES YOU WILL USE\n",
    "------------------------------------------\n",
    "You only need to import packages one time per notebook session. To keep your\n",
    "notebook clean and organized you can handle all imports at the top of your file.\n",
    "The following are included for example purposed, feel free to modify or delete \n",
    "anything in this section."
   ]
  },
  {
   "cell_type": "code",
   "execution_count": null,
   "id": "b1b4dbc5",
   "metadata": {},
   "outputs": [],
   "source": [
    "import csv\n",
    "import pandas as pd\n",
    "import numpy as np\n",
    "from google.cloud import bigquery\n",
    "from google.oauth2 import service_account\n",
    "from google.cloud.bigquery import magics\n",
    "import statsmodels.api as sm\n",
    "import math\n",
    "import plotly.express as px\n",
    "from pmdarima.arima import auto_arima\n",
    "from collections.abc import Iterable"
   ]
  },
  {
   "cell_type": "markdown",
   "id": "7761d089",
   "metadata": {},
   "source": [
    "- IMPORT THE LIBRARIES YOU WILL USE\n",
    "------------------------------------------\n",
    "You only need to import packages one time per notebook session. To keep your\n",
    "notebook clean and organized you can handle all imports at the top of your file.\n",
    "The following are included for example purposed, feel free to modify or delete \n",
    "anything in this section."
   ]
  },
  {
   "cell_type": "code",
   "execution_count": null,
   "id": "bc5b7db9",
   "metadata": {
    "lines_to_next_cell": 2
   },
   "outputs": [],
   "source": [
    "import csv\n",
    "import pandas as pd\n",
    "import numpy as np\n",
    "from google.cloud import bigquery\n",
    "from google.oauth2 import service_account\n",
    "from google.cloud.bigquery import magics\n",
    "import statsmodels.api as sm\n",
    "import math\n",
    "import plotly.express as px\n",
    "from pmdarima.arima import auto_arima\n",
    "from collections.abc import Iterable\n",
    "import hts"
   ]
  }
 ],
 "metadata": {
  "jupytext": {
   "cell_metadata_filter": "-all",
   "main_language": "python",
   "notebook_metadata_filter": "-all"
  }
 },
 "nbformat": 4,
 "nbformat_minor": 5
}
