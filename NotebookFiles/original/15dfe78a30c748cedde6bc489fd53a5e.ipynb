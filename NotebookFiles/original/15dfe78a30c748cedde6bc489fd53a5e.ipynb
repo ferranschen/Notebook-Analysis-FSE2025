{
 "cells": [
  {
   "cell_type": "code",
   "execution_count": null,
   "id": "50925a49",
   "metadata": {},
   "outputs": [],
   "source": [
    "import os\n",
    "import pandas as pd\n",
    "import numpy as np\n",
    "from google.cloud import bigquery\n",
    "from google.oauth2 import service_account\n",
    "from google.cloud.bigquery import magics\n",
    "BIGQUERY_PROJECT = 'ironhacks-data'\n",
    "bigquery_client = bigquery.Client(project=BIGQUERY_PROJECT)"
   ]
  },
  {
   "cell_type": "code",
   "execution_count": null,
   "id": "250ae372",
   "metadata": {},
   "outputs": [],
   "source": [
    "query = \"\"\"\n",
    "SELECT *\n",
    "FROM `ironhacks-data.ironhacks_competition.unemployment_data`\n",
    "\"\"\"\n",
    "# QUERY THE DATA ONCE\n",
    "query_job = bigquery_client.query(query)\n",
    "unemp_data = query_job.to_dataframe()\n",
    "unemp_data.head(5)"
   ]
  },
  {
   "cell_type": "code",
   "execution_count": null,
   "id": "1ccd0a39",
   "metadata": {},
   "outputs": [],
   "source": [
    "query = \"\"\"\n",
    "SELECT *\n",
    "FROM `ironhacks-data.ironhacks_competition.wage_data`\n",
    "\"\"\"\n",
    "# QUERY THE DATA ONCE\n",
    "query_job = bigquery_client.query(query)\n",
    "wage_data = query_job.to_dataframe()\n",
    "wage_data.head()"
   ]
  },
  {
   "cell_type": "code",
   "execution_count": null,
   "id": "ec33745d",
   "metadata": {},
   "outputs": [],
   "source": [
    "query = \"\"\"\n",
    "SELECT *\n",
    "FROM `ironhacks-data.ironhacks_competition.prediction_list`\n",
    "\"\"\"\n",
    "# QUERY THE DATA ONCE\n",
    "query_job = bigquery_client.query(query)\n",
    "pred_data = query_job.to_dataframe()\n",
    "pred_data.head()"
   ]
  },
  {
   "cell_type": "code",
   "execution_count": null,
   "id": "d8120259",
   "metadata": {},
   "outputs": [],
   "source": [
    "unemp_data.info()"
   ]
  },
  {
   "cell_type": "code",
   "execution_count": null,
   "id": "d675b031",
   "metadata": {},
   "outputs": [],
   "source": [
    "unemp_data['top_category_employer2'] = unemp_data['top_category_employer2'].replace('N/A',np.NaN)\n",
    "unemp_data['top_category_employer3'] = unemp_data['top_category_employer3'].replace('N/A',np.NaN)"
   ]
  },
  {
   "cell_type": "code",
   "execution_count": null,
   "id": "3eb35960",
   "metadata": {},
   "outputs": [],
   "source": [
    "unemp_data['race_asian'] = unemp_data.groupby('countyfips')['race_asian'].transform(lambda x: x.fillna(int(x.mean())))"
   ]
  },
  {
   "cell_type": "code",
   "execution_count": null,
   "id": "a19a7467",
   "metadata": {},
   "outputs": [],
   "source": [
    "unemp_data['race_amerindian'] = unemp_data.groupby('countyfips')['race_amerindian'].transform(lambda x: x.fillna(int(x.mean())))"
   ]
  },
  {
   "cell_type": "code",
   "execution_count": null,
   "id": "11c0b8aa",
   "metadata": {},
   "outputs": [],
   "source": [
    "unemp_data['race_black'] = unemp_data.groupby('countyfips')['race_black'].transform(lambda x: x.fillna(int(x.mean())))"
   ]
  },
  {
   "cell_type": "code",
   "execution_count": null,
   "id": "fc686c28",
   "metadata": {},
   "outputs": [],
   "source": [
    "unemp_data['race_hawaiiannative'] = unemp_data.groupby('countyfips')['race_hawaiiannative'].transform(lambda x: x.fillna(int(x.mean())))\n",
    "unemp_data['race_other'] = unemp_data.groupby('countyfips')['race_other'].transform(lambda x: x.fillna(int(x.mean())))\n",
    "unemp_data['race_white'] = unemp_data.groupby('countyfips')['race_white'].transform(lambda x: x.fillna(int(x.mean())))"
   ]
  },
  {
   "cell_type": "code",
   "execution_count": null,
   "id": "c49c4333",
   "metadata": {},
   "outputs": [],
   "source": [
    "unemp_data['race_noanswer'] = unemp_data['race_noanswer'].fillna(0)\n",
    "unemp_data['gender_na'] = unemp_data['gender_na'].fillna(0)\n",
    "unemp_data['edu_unknown'] = unemp_data['edu_unknown'].fillna(0)"
   ]
  },
  {
   "cell_type": "code",
   "execution_count": null,
   "id": "fa810050",
   "metadata": {},
   "outputs": [],
   "source": [
    "unemp_data['edu_8th_or_less'] = unemp_data.groupby('countyfips')['edu_8th_or_less'].transform(lambda x: x.fillna(int(x.mean())))\n",
    "unemp_data['edu_grades_9_11'] = unemp_data.groupby('countyfips')['edu_grades_9_11'].transform(lambda x: x.fillna(int(x.mean())))\n",
    "unemp_data['edu_hs_grad_equiv'] = unemp_data.groupby('countyfips')['edu_hs_grad_equiv'].transform(lambda x: x.fillna(int(x.mean())))"
   ]
  },
  {
   "cell_type": "code",
   "execution_count": null,
   "id": "63b17462",
   "metadata": {},
   "outputs": [],
   "source": [
    "unemp_data['edu_post_hs'] = unemp_data.groupby('countyfips')['edu_post_hs'].transform(lambda x: x.fillna(int(x.mean())))"
   ]
  },
  {
   "cell_type": "code",
   "execution_count": null,
   "id": "73549df9",
   "metadata": {},
   "outputs": [],
   "source": [
    "unemp_data['edu_post_hs'] = unemp_data.groupby('countyfips')['edu_post_hs'].transform(lambda x: x.fillna(int(x.mean()) if not x.isnull() else 0))"
   ]
  },
  {
   "cell_type": "code",
   "execution_count": null,
   "id": "6fe5b4cb",
   "metadata": {},
   "outputs": [],
   "source": [
    "unemp_data['edu_post_hs'] = unemp_data.groupby('countyfips')['edu_post_hs'].transform(lambda x: x.fillna(int(x.mean()) if not x.mean().empty else 0))"
   ]
  },
  {
   "cell_type": "code",
   "execution_count": null,
   "id": "273983d6",
   "metadata": {},
   "outputs": [],
   "source": [
    "unemp_data['edu_post_hs'] = unemp_data.groupby('countyfips')['edu_post_hs'].transform(lambda x: x.fillna(int(x.mean()) if not x.mean().isnull() else 0))"
   ]
  },
  {
   "cell_type": "code",
   "execution_count": null,
   "id": "6e57f756",
   "metadata": {},
   "outputs": [],
   "source": [
    "import numpy as np\n",
    "unemp_data['edu_post_hs'] = unemp_data['edu_post_hs'].replace(NA,np.NaN)\n",
    "unemp_data['edu_post_hs'] = unemp_data.groupby('countyfips')['edu_post_hs'].transform(lambda x: x.fillna(int(x.mean())))"
   ]
  },
  {
   "cell_type": "code",
   "execution_count": null,
   "id": "a8b3c20d",
   "metadata": {},
   "outputs": [],
   "source": [
    "import numpy as np\n",
    "unemp_data['edu_post_hs'] = unemp_data['edu_post_hs'].replace(np.NaN,np.NaN)\n",
    "unemp_data['edu_post_hs'] = unemp_data.groupby('countyfips')['edu_post_hs'].transform(lambda x: x.fillna(int(x.mean())))"
   ]
  },
  {
   "cell_type": "code",
   "execution_count": null,
   "id": "25bbc5d7",
   "metadata": {},
   "outputs": [],
   "source": [
    "unemp_data['edu_post_hs']"
   ]
  },
  {
   "cell_type": "code",
   "execution_count": null,
   "id": "5a25a93f",
   "metadata": {},
   "outputs": [],
   "source": [
    "import numpy as np\n",
    "unemp_data['edu_post_hs'] = unemp_data['edu_post_hs'].replace('<NA>',np.NaN)\n",
    "unemp_data['edu_post_hs'] = unemp_data.groupby('countyfips')['edu_post_hs'].transform(lambda x: x.fillna(int(x.mean())))"
   ]
  },
  {
   "cell_type": "code",
   "execution_count": null,
   "id": "92de684b",
   "metadata": {},
   "outputs": [],
   "source": [
    "unemp_data['edu_post_hs']"
   ]
  },
  {
   "cell_type": "code",
   "execution_count": null,
   "id": "0dbea5c4",
   "metadata": {},
   "outputs": [],
   "source": [
    "import numpy as np\n",
    "unemp_data['edu_post_hs'] = unemp_data['edu_post_hs'].replace(<NA>,np.NaN)\n",
    "unemp_data['edu_post_hs'] = unemp_data.groupby('countyfips')['edu_post_hs'].transform(lambda x: x.fillna(int(x.mean())))"
   ]
  },
  {
   "cell_type": "code",
   "execution_count": null,
   "id": "0b6072b0",
   "metadata": {},
   "outputs": [],
   "source": [
    "unemp_data['edu_post_hs']"
   ]
  },
  {
   "cell_type": "code",
   "execution_count": null,
   "id": "5351cbb4",
   "metadata": {},
   "outputs": [],
   "source": [
    "unemp_data['edu_post_hs'] = unemp_data.groupby('countyfips')['edu_post_hs']\\\n",
    "    .transform(lambda x: x.fillna(x.mean()))"
   ]
  },
  {
   "cell_type": "code",
   "execution_count": null,
   "id": "67ae7d09",
   "metadata": {},
   "outputs": [],
   "source": [
    "unemp_data['edu_post_hs'] = unemp_data.groupby('countyfips')['edu_post_hs']\\\n",
    "    .transform(lambda x: x.fillna(int(x.mean())))"
   ]
  },
  {
   "cell_type": "code",
   "execution_count": null,
   "id": "957d84a2",
   "metadata": {},
   "outputs": [],
   "source": [
    "#unemp_data['gender_female'] = unemp_data.groupby('countyfips')['gender_female'].transform(lambda x: x.fillna(int(x.mean())))\n",
    "unemp_data['gender_male'] = unemp_data.groupby('countyfips')['gender_male'].transform(lambda x: x.fillna(int(x.mean())))"
   ]
  },
  {
   "cell_type": "code",
   "execution_count": null,
   "id": "6151c998",
   "metadata": {},
   "outputs": [],
   "source": [
    "unemp_data.isna().sum()"
   ]
  },
  {
   "cell_type": "code",
   "execution_count": null,
   "id": "bd62e411",
   "metadata": {},
   "outputs": [],
   "source": [
    "unemp_data['top_category_employer2'] = unemp_data.groupby('countyfips')['top_category_employer2'].transform(lambda x: x.fillna(int(x.mode()[0] if not x.mode().empty else 'unknown')))"
   ]
  },
  {
   "cell_type": "code",
   "execution_count": null,
   "id": "18f46279",
   "metadata": {},
   "outputs": [],
   "source": [
    "unemp_data['top_category_employer2'] = unemp_data.groupby('countyfips')['top_category_employer2'].transform(lambda x: x.fillna(x.mode()[0] if not x.mode().empty else 'unknown'))"
   ]
  },
  {
   "cell_type": "code",
   "execution_count": null,
   "id": "78337469",
   "metadata": {},
   "outputs": [],
   "source": [
    "unemp_data['top_category_employer3'] = unemp_data.groupby('countyfips')['top_category_employer3'].transform(lambda x: x.fillna(x.mode()[0] if not x.mode().empty else 'unknown'))"
   ]
  },
  {
   "cell_type": "code",
   "execution_count": null,
   "id": "3f18c579",
   "metadata": {},
   "outputs": [],
   "source": [
    "unemp_data.isna().sum()"
   ]
  },
  {
   "cell_type": "code",
   "execution_count": null,
   "id": "ed54069b",
   "metadata": {},
   "outputs": [],
   "source": [
    "unemp_data['edu_post_hs'] = unemp_data.groupby('countyfips')['edu_post_hs']\\\n",
    "    .transform(lambda x: x.fillna(int(x.mean()[0])))"
   ]
  },
  {
   "cell_type": "code",
   "execution_count": null,
   "id": "e9c9d654",
   "metadata": {},
   "outputs": [],
   "source": [
    "unemp_data['edu_post_hs'] = unemp_data.groupby('countyfips')['edu_post_hs']\\\n",
    "    .transform(lambda x: x.fillna(int(x.mean())[0]))"
   ]
  },
  {
   "cell_type": "code",
   "execution_count": null,
   "id": "fea4441d",
   "metadata": {},
   "outputs": [],
   "source": [
    "unemp_data['edu_post_hs'] = unemp_data.groupby('countyfips')['edu_post_hs'].fillna(0)"
   ]
  },
  {
   "cell_type": "code",
   "execution_count": null,
   "id": "2892e81a",
   "metadata": {},
   "outputs": [],
   "source": [
    "#unemp_data['gender_female'] = unemp_data.groupby('countyfips')['gender_female'].transform(lambda x: x.fillna(int(x.mean())))\n",
    "unemp_data['gender_male'] = unemp_data['gender_male'].fillna(unemp_data.groupby('countyfips')['gender_male'].transform(mean))"
   ]
  },
  {
   "cell_type": "code",
   "execution_count": null,
   "id": "4732fdac",
   "metadata": {},
   "outputs": [],
   "source": [
    "#unemp_data['gender_female'] = unemp_data.groupby('countyfips')['gender_female'].transform(lambda x: x.fillna(int(x.mean())))\n",
    "unemp_data['gender_male'] = unemp_data['gender_male'].fillna(unemp_data.groupby('countyfips')['gender_male'].transform('mean'))"
   ]
  },
  {
   "cell_type": "code",
   "execution_count": null,
   "id": "83c369bd",
   "metadata": {},
   "outputs": [],
   "source": [
    "unemp_data['gender_male'] = unemp_data['gender_male'].astype(float)"
   ]
  },
  {
   "cell_type": "code",
   "execution_count": null,
   "id": "8b86b577",
   "metadata": {},
   "outputs": [],
   "source": [
    "#unemp_data['gender_female'] = unemp_data.groupby('countyfips')['gender_female'].transform(lambda x: x.fillna(int(x.mean())))\n",
    "unemp_data['gender_male'] = unemp_data['gender_male'].fillna(unemp_data.groupby('countyfips')['gender_male'].transform('mean'))"
   ]
  },
  {
   "cell_type": "code",
   "execution_count": null,
   "id": "cfbb9080",
   "metadata": {},
   "outputs": [],
   "source": [
    "unemp_data['gender_female'] = unemp_data['gender_female'].fillna(unemp_data.groupby('countyfips')['gender_female'].transform('mean'))\n",
    "unemp_data['edu_post_hs'] = unemp_data['edu_post_hs'].fillna(unemp_data.groupby('countyfips')['edu_post_hs'].transform('mean'))"
   ]
  },
  {
   "cell_type": "code",
   "execution_count": null,
   "id": "b8b96151",
   "metadata": {},
   "outputs": [],
   "source": [
    "unemp_data['gender_male'] = unemp_data['gender_male'].astype(float)\n",
    "unemp_data['gender_female'] = unemp_data['gender_female'].astype(float)\n",
    "unemp_data['edu_post_hs'] = unemp_data['edu_post_hs'].astype(float)"
   ]
  },
  {
   "cell_type": "code",
   "execution_count": null,
   "id": "fcf01712",
   "metadata": {
    "lines_to_next_cell": 2
   },
   "outputs": [],
   "source": [
    "unemp_data['gender_female'] = unemp_data['gender_female'].fillna(unemp_data.groupby('countyfips')['gender_female'].transform('mean'))\n",
    "unemp_data['edu_post_hs'] = unemp_data['edu_post_hs'].fillna(unemp_data.groupby('countyfips')['edu_post_hs'].transform('mean'))"
   ]
  }
 ],
 "metadata": {
  "jupytext": {
   "cell_metadata_filter": "-all",
   "main_language": "python",
   "notebook_metadata_filter": "-all"
  }
 },
 "nbformat": 4,
 "nbformat_minor": 5
}
