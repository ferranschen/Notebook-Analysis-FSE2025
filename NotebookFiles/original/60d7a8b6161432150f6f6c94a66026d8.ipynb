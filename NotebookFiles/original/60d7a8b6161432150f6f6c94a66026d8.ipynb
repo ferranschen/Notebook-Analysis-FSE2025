{
 "cells": [
  {
   "cell_type": "code",
   "execution_count": null,
   "id": "0250c61c",
   "metadata": {},
   "outputs": [],
   "source": [
    "get_ipython().run_cell_magic('capture', 'cont', '!pip install db-dtypes\\n')"
   ]
  },
  {
   "cell_type": "code",
   "execution_count": null,
   "id": "8eafaaae",
   "metadata": {},
   "outputs": [],
   "source": [
    "cont.show()"
   ]
  },
  {
   "cell_type": "code",
   "execution_count": null,
   "id": "8329c393",
   "metadata": {},
   "outputs": [],
   "source": [
    "import pandas as pd\n",
    "import numpy as np\n",
    "import matplotlib\n",
    "import matplotlib.pyplot as plt\n",
    "import seaborn as sns\n",
    "get_ipython().run_line_magic('matplotlib', 'inline')"
   ]
  },
  {
   "cell_type": "code",
   "execution_count": null,
   "id": "911c4964",
   "metadata": {},
   "outputs": [],
   "source": [
    "import os\n",
    "from google.cloud import bigquery\n",
    "from google.oauth2 import service_account\n",
    "from google.cloud.bigquery import magics"
   ]
  },
  {
   "cell_type": "code",
   "execution_count": null,
   "id": "4824867f",
   "metadata": {},
   "outputs": [],
   "source": [
    "import statsmodels.api as sm\n",
    "import itertools"
   ]
  },
  {
   "cell_type": "markdown",
   "id": "c3d94548",
   "metadata": {},
   "source": [
    "CONFIGURE THE BIGQUERY SETTINGS"
   ]
  },
  {
   "cell_type": "code",
   "execution_count": null,
   "id": "c2a9b6b4",
   "metadata": {},
   "outputs": [],
   "source": [
    "BIGQUERY_PROJECT = 'ironhacks-data'\n",
    "bigquery_client = bigquery.Client(project=BIGQUERY_PROJECT)"
   ]
  },
  {
   "cell_type": "code",
   "execution_count": null,
   "id": "75de59d1",
   "metadata": {},
   "outputs": [],
   "source": [
    "#obtaining the unemployment data\n",
    "query = \"\"\"\n",
    "SELECT *\n",
    "FROM `ironhacks-data.ironhacks_competition.unemployment_data`\n",
    "\"\"\""
   ]
  },
  {
   "cell_type": "code",
   "execution_count": null,
   "id": "6a363742",
   "metadata": {},
   "outputs": [],
   "source": [
    "# QUERY THE DATA ONCE\n",
    "query_job = bigquery_client.query(query)\n",
    "data = query_job.to_dataframe()\n",
    "#data['date']= pd.to_datetime(data['date'])\n",
    "data.head()"
   ]
  },
  {
   "cell_type": "code",
   "execution_count": null,
   "id": "458c4797",
   "metadata": {},
   "outputs": [],
   "source": [
    "#obtaining the submission file\n",
    "query = \"\"\"\n",
    "SELECT *\n",
    "FROM `ironhacks-data.ironhacks_competition.prediction_list`\n",
    "\"\"\""
   ]
  },
  {
   "cell_type": "code",
   "execution_count": null,
   "id": "cf5edc10",
   "metadata": {},
   "outputs": [],
   "source": [
    "# QUERY THE DATA ONCE\n",
    "query_job = bigquery_client.query(query)\n",
    "submit = query_job.to_dataframe()\n",
    "#data['date']= pd.to_datetime(data['date'])\n",
    "submit.head()"
   ]
  },
  {
   "cell_type": "code",
   "execution_count": null,
   "id": "010a8b3a",
   "metadata": {},
   "outputs": [],
   "source": [
    "data.info()   #Feature Matrix\n",
    "#X = data.drop(\"date\",1)\n",
    "#y = data[\"wind_speed\"]          #Target Variable"
   ]
  },
  {
   "cell_type": "code",
   "execution_count": null,
   "id": "a274da86",
   "metadata": {},
   "outputs": [],
   "source": [
    "submit.info()"
   ]
  },
  {
   "cell_type": "markdown",
   "id": "8930971b",
   "metadata": {},
   "source": [
    "dropping duplicate rows in the data"
   ]
  },
  {
   "cell_type": "code",
   "execution_count": null,
   "id": "f4022c21",
   "metadata": {},
   "outputs": [],
   "source": [
    "data.drop_duplicates(inplace=True, ignore_index=True)\n",
    "data.info()"
   ]
  },
  {
   "cell_type": "markdown",
   "id": "e5add8df",
   "metadata": {},
   "source": [
    "unique number of ID in the data"
   ]
  },
  {
   "cell_type": "code",
   "execution_count": null,
   "id": "2ce9a59a",
   "metadata": {},
   "outputs": [],
   "source": [
    "data.uu_id.unique().size"
   ]
  },
  {
   "cell_type": "markdown",
   "id": "f44556c0",
   "metadata": {},
   "source": [
    "replace all na values with 0"
   ]
  },
  {
   "cell_type": "code",
   "execution_count": null,
   "id": "409b9b7e",
   "metadata": {},
   "outputs": [],
   "source": [
    "data.fillna(0, inplace=True)"
   ]
  },
  {
   "cell_type": "code",
   "execution_count": null,
   "id": "36d7fa42",
   "metadata": {},
   "outputs": [],
   "source": [
    "data.info()"
   ]
  },
  {
   "cell_type": "markdown",
   "id": "3cd46f46",
   "metadata": {},
   "source": [
    "number of weeks in the data for a random ID"
   ]
  },
  {
   "cell_type": "code",
   "execution_count": null,
   "id": "ce28fef0",
   "metadata": {},
   "outputs": [],
   "source": [
    "test=data[data['uu_id']=='bbcb018f0e5e49e13636f6e78ce9f60f']\n",
    "len(test)"
   ]
  },
  {
   "cell_type": "markdown",
   "id": "182f6aac",
   "metadata": {},
   "source": [
    "convert the timeperiod column to datetime"
   ]
  },
  {
   "cell_type": "code",
   "execution_count": null,
   "id": "cdb0029a",
   "metadata": {},
   "outputs": [],
   "source": [
    "data['timeperiod']= pd.to_datetime(data['timeperiod'], format='%Y%m%d')"
   ]
  },
  {
   "cell_type": "code",
   "execution_count": null,
   "id": "95ece492",
   "metadata": {},
   "outputs": [],
   "source": [
    "plt.figure(figsize=(12,10))\n",
    "cor = data.corr()\n",
    "sns.heatmap(cor,  cmap=plt.cm.Reds)\n",
    "plt.show()"
   ]
  },
  {
   "cell_type": "code",
   "execution_count": null,
   "id": "b7b25dc6",
   "metadata": {},
   "outputs": [],
   "source": [
    "#Correlation with output variable\n",
    "cor_target = abs(cor[\"total_claims\"])\n",
    "#Selecting highly correlated features\n",
    "relevant_features = cor_target[cor_target>0.2]\n",
    "print(relevant_features)"
   ]
  },
  {
   "cell_type": "code",
   "execution_count": null,
   "id": "1bac0dd5",
   "metadata": {},
   "outputs": [],
   "source": [
    "columns_rel = relevant_features.index.to_list()"
   ]
  },
  {
   "cell_type": "code",
   "execution_count": null,
   "id": "41ae4ec0",
   "metadata": {},
   "outputs": [],
   "source": [
    "data.plot(subplots=True, figsize=(20,24))"
   ]
  },
  {
   "cell_type": "code",
   "execution_count": null,
   "id": "3b947450",
   "metadata": {},
   "outputs": [],
   "source": [
    "min(data['timeperiod']),max(data['timeperiod'])"
   ]
  },
  {
   "cell_type": "code",
   "execution_count": null,
   "id": "0a21431b",
   "metadata": {},
   "outputs": [],
   "source": [
    "data.dtypes"
   ]
  },
  {
   "cell_type": "markdown",
   "id": "86689335",
   "metadata": {},
   "source": [
    "data = data.set_index('timeperiod')"
   ]
  },
  {
   "cell_type": "code",
   "execution_count": null,
   "id": "47cb0995",
   "metadata": {},
   "outputs": [],
   "source": [
    "data.index"
   ]
  },
  {
   "cell_type": "markdown",
   "id": "002b9ba1",
   "metadata": {},
   "source": [
    "data['Year'] = data.index.year\n",
    "data['Month'] = data.index.month\n",
    "data['Day'] = data.index.day\n",
    "Display a random sampling of 5 rows\n",
    "data.sample(5, random_state=0)"
   ]
  },
  {
   "cell_type": "code",
   "execution_count": null,
   "id": "26916219",
   "metadata": {},
   "outputs": [],
   "source": [
    "sns.set(rc={'figure.figsize':(11, 4)})"
   ]
  },
  {
   "cell_type": "code",
   "execution_count": null,
   "id": "ef5334db",
   "metadata": {},
   "outputs": [],
   "source": [
    "data['total_claims'].plot(linewidth=.5);"
   ]
  },
  {
   "cell_type": "code",
   "execution_count": null,
   "id": "7b3f00e4",
   "metadata": {},
   "outputs": [],
   "source": [
    "cols_plot = ['week_number','countyfips','tract','total_claims','edu_8th_or_less','edu_grades_9_11','edu_hs_grad_equiv','edu_post_hs',\n",
    "            'edu_unknown', 'gender_female', 'gender_male', 'gender_na', 'race_amerindian', 'race_asian', 'race_black', 'race_noanswer', \n",
    "            'race_hawaiiannative', 'race_other', 'race_white']\n",
    "axes = data[cols_plot].plot(marker='.', alpha=0.5, linestyle='None', figsize=(30, 25), subplots=True)\n",
    "for ax in axes:\n",
    "    ax.set_ylabel('features')"
   ]
  },
  {
   "cell_type": "markdown",
   "id": "87d69e6c",
   "metadata": {},
   "source": [
    "import matplotlib.dates as mdates\n",
    "fig, ax = plt.subplots()\n",
    "ax.plot(data.loc['2019-08':'2019-12', 'precipitation_data'], marker='o', linestyle='-')\n",
    "ax.set_ylabel('Precipitation')\n",
    "ax.set_title('Aug 2019-2020 Precipiation Data')"
   ]
  },
  {
   "cell_type": "code",
   "execution_count": null,
   "id": "68af6958",
   "metadata": {},
   "outputs": [],
   "source": [
    "#fig, axes = plt.subplots(3, 1, figsize=(11, 10), sharex=True)\n",
    "#for name, ax in zip(['precipitation_data', 'min_temperature', 'max_temperature'], axes):\n",
    "#    sns.boxplot(data=data, x='Month', y=name, ax=ax)\n",
    "#    ax.set_ylabel('precipitation')\n",
    "#    ax.set_title(name)\n",
    "    # Remove the automatic x-axis label from all but the bottom subplot\n",
    "#    if ax != axes[-1]:\n",
    "#        ax.set_xlabel('')"
   ]
  },
  {
   "cell_type": "markdown",
   "id": "42308448",
   "metadata": {},
   "source": [
    "sns.boxplot(data=data, x='Month', y='total_claims');"
   ]
  },
  {
   "cell_type": "markdown",
   "id": "e2d6b218",
   "metadata": {},
   "source": [
    "from statsmodels.graphics.tsaplots import plot_acf\n",
    "plot_acf(x=data['max_temperature'], lags=50)"
   ]
  },
  {
   "cell_type": "code",
   "execution_count": null,
   "id": "58857fab",
   "metadata": {},
   "outputs": [],
   "source": [
    "columns_rel.append('timeperiod')\n",
    "columns_rel.append('uu_id')\n",
    "columns_rel"
   ]
  },
  {
   "cell_type": "code",
   "execution_count": null,
   "id": "ce5dab4b",
   "metadata": {},
   "outputs": [],
   "source": [
    "data"
   ]
  },
  {
   "cell_type": "code",
   "execution_count": null,
   "id": "eecbedac",
   "metadata": {},
   "outputs": [],
   "source": [
    "data_arima=data[columns_rel]\n",
    "data_arima"
   ]
  },
  {
   "cell_type": "code",
   "execution_count": null,
   "id": "0d9b01ee",
   "metadata": {},
   "outputs": [],
   "source": [
    "get_ipython().run_cell_magic('capture', '', \"unique_id=list(data_arima['uu_id'].unique())\\ndata_dict = {}\\n\\nfor i in unique_id:\\n    j = data_arima[data_arima['uu_id']==i].groupby('timeperiod')['total_claims'].sum().reset_index()\\n    j = j.set_index('timeperiod')\\n    data_dict[i] = j\\n\")"
   ]
  },
  {
   "cell_type": "markdown",
   "id": "4efe900a",
   "metadata": {},
   "source": [
    "data_arima = data_arima.groupby('uu_id')[['total_claims', 'timeperiod','uu_id']]\n",
    "data_arima.head()"
   ]
  },
  {
   "cell_type": "markdown",
   "id": "d248362a",
   "metadata": {},
   "source": [
    "data_arima_2 = data_arima.set_index('timeperiod')\n",
    "data_arima.index"
   ]
  },
  {
   "cell_type": "code",
   "execution_count": null,
   "id": "aaf4a712",
   "metadata": {},
   "outputs": [],
   "source": [
    "p = d = q = range(0, 2)\n",
    "pdq = list(itertools.product(p, d, q))\n",
    "seasonal_pdq = [(x[0], x[1], x[2], 12) for x in list(itertools.product(p, d, q))]\n",
    "print('Examples of parameter combinations for Seasonal ARIMA...')\n",
    "print('SARIMAX: {} x {}'.format(pdq[1], seasonal_pdq[1]))\n",
    "print('SARIMAX: {} x {}'.format(pdq[1], seasonal_pdq[2]))\n",
    "print('SARIMAX: {} x {}'.format(pdq[2], seasonal_pdq[3]))\n",
    "print('SARIMAX: {} x {}'.format(pdq[2], seasonal_pdq[4]))"
   ]
  },
  {
   "cell_type": "code",
   "execution_count": null,
   "id": "0efc33f8",
   "metadata": {},
   "outputs": [],
   "source": [
    "import warnings\n",
    "warnings.filterwarnings(\"ignore\")"
   ]
  },
  {
   "cell_type": "code",
   "execution_count": null,
   "id": "5014e718",
   "metadata": {},
   "outputs": [],
   "source": [
    "with io.capture_output() as captured:"
   ]
  },
  {
   "cell_type": "code",
   "execution_count": null,
   "id": "f2f78128",
   "metadata": {},
   "outputs": [],
   "source": [
    "import csv"
   ]
  },
  {
   "cell_type": "code",
   "execution_count": null,
   "id": "5c77890b",
   "metadata": {},
   "outputs": [],
   "source": [
    "filename =\"param.csv\""
   ]
  },
  {
   "cell_type": "code",
   "execution_count": null,
   "id": "48625cd5",
   "metadata": {},
   "outputs": [],
   "source": [
    "# opening the file using \"with\"\n",
    "# statement\n",
    "with open(filename, 'r') as data:\n",
    "    for line in csv.DictReader(data):\n",
    "        print(line)"
   ]
  },
  {
   "cell_type": "code",
   "execution_count": null,
   "id": "7580d2d9",
   "metadata": {},
   "outputs": [],
   "source": [
    "data"
   ]
  },
  {
   "cell_type": "code",
   "execution_count": null,
   "id": "03e9749d",
   "metadata": {},
   "outputs": [],
   "source": [
    "csv.DictReader(data)"
   ]
  },
  {
   "cell_type": "code",
   "execution_count": null,
   "id": "e5b86298",
   "metadata": {},
   "outputs": [],
   "source": [
    "import csv"
   ]
  },
  {
   "cell_type": "code",
   "execution_count": null,
   "id": "dcfbfc10",
   "metadata": {},
   "outputs": [],
   "source": [
    "filename =pd.read_csv(\"param.csv\")"
   ]
  },
  {
   "cell_type": "markdown",
   "id": "b18fe4e0",
   "metadata": {},
   "source": [
    "opening the file using \"with\"\n",
    "statement\n",
    "with open(filename, 'r') as data:\n",
    "   for line in csv.DictReader(data):\n",
    "       print(line)"
   ]
  },
  {
   "cell_type": "code",
   "execution_count": null,
   "id": "ce7976db",
   "metadata": {},
   "outputs": [],
   "source": [
    "filename.head()"
   ]
  },
  {
   "cell_type": "code",
   "execution_count": null,
   "id": "ab7a505f",
   "metadata": {},
   "outputs": [],
   "source": [
    "filename.to_dict()"
   ]
  },
  {
   "cell_type": "code",
   "execution_count": null,
   "id": "6d3445f4",
   "metadata": {},
   "outputs": [],
   "source": [
    "filename.head()"
   ]
  },
  {
   "cell_type": "code",
   "execution_count": null,
   "id": "d831b743",
   "metadata": {},
   "outputs": [],
   "source": [
    "filename.to_dict()"
   ]
  },
  {
   "cell_type": "code",
   "execution_count": null,
   "id": "aeba0e9d",
   "metadata": {},
   "outputs": [],
   "source": [
    "filename.to_dict(list)"
   ]
  },
  {
   "cell_type": "code",
   "execution_count": null,
   "id": "a78a76ca",
   "metadata": {},
   "outputs": [],
   "source": [
    "filename.to_dict('list')"
   ]
  },
  {
   "cell_type": "code",
   "execution_count": null,
   "id": "76b34e4e",
   "metadata": {},
   "outputs": [],
   "source": [
    "param_dict=file_param.to_dict('list')\n",
    "seasonal_dict=file_seasonal.to_dict('list')"
   ]
  },
  {
   "cell_type": "code",
   "execution_count": null,
   "id": "60f949c0",
   "metadata": {},
   "outputs": [],
   "source": [
    "import csv"
   ]
  },
  {
   "cell_type": "code",
   "execution_count": null,
   "id": "5986113b",
   "metadata": {},
   "outputs": [],
   "source": [
    "file_param =pd.read_csv(\"param.csv\")\n",
    "file_seasonal =pd.read_csv(\"seasonal.csv\")\n",
    "# opening the file using \"with\"\n",
    "# statement\n",
    "#with open(filename, 'r') as data:\n",
    "#    for line in csv.DictReader(data):\n",
    "#        print(line)"
   ]
  },
  {
   "cell_type": "code",
   "execution_count": null,
   "id": "daf73489",
   "metadata": {},
   "outputs": [],
   "source": [
    "param_dict=file_param.to_dict('list')\n",
    "seasonal_dict=file_seasonal.to_dict('list')"
   ]
  },
  {
   "cell_type": "code",
   "execution_count": null,
   "id": "97530849",
   "metadata": {},
   "outputs": [],
   "source": [
    "len(data_dict)"
   ]
  },
  {
   "cell_type": "code",
   "execution_count": null,
   "id": "35cf40c4",
   "metadata": {},
   "outputs": [],
   "source": [
    "hundred=list(data_dict.keys())[:100]\n",
    "two_hundred=list(data_dict.keys())[100:200]\n",
    "three_hundred=list(data_dict.keys())[200:300]\n",
    "four_hundred=list(data_dict.keys())[300:400]\n",
    "five_hundred=list(data_dict.keys())[500:573]"
   ]
  },
  {
   "cell_type": "code",
   "execution_count": null,
   "id": "26782586",
   "metadata": {},
   "outputs": [],
   "source": [
    "#results = {}\n",
    "for key in hundred:\n",
    "    y=data_dict[key]['total_claims']\n",
    "    mod = sm.tsa.statespace.SARIMAX(y.astype(float),\n",
    "                                order=tuple(param_dict[key]),\n",
    "                                seasonal_order=tuple(seasonal_dict[key]),\n",
    "                                enforce_stationarity=False,\n",
    "                                enforce_invertibility=False)\n",
    "    results[key] = mod.fit(disp=False)\n",
    "    #print(results.summary().tables[1])"
   ]
  },
  {
   "cell_type": "code",
   "execution_count": null,
   "id": "2c71ad35",
   "metadata": {},
   "outputs": [],
   "source": [
    "results = {}\n",
    "for key in hundred:\n",
    "    y=data_dict[key]['total_claims']\n",
    "    mod = sm.tsa.statespace.SARIMAX(y.astype(float),\n",
    "                                order=tuple(param_dict[key]),\n",
    "                                seasonal_order=tuple(seasonal_dict[key]),\n",
    "                                enforce_stationarity=False,\n",
    "                                enforce_invertibility=False)\n",
    "    results[key] = mod.fit(disp=False)\n",
    "    #print(results.summary().tables[1])"
   ]
  },
  {
   "cell_type": "code",
   "execution_count": null,
   "id": "b666d7ba",
   "metadata": {},
   "outputs": [],
   "source": [
    "len(results)"
   ]
  },
  {
   "cell_type": "code",
   "execution_count": null,
   "id": "6ab8263b",
   "metadata": {},
   "outputs": [],
   "source": [
    "#results = {}\n",
    "for key in two_hundred:\n",
    "    y=data_dict[key]['total_claims']\n",
    "    mod = sm.tsa.statespace.SARIMAX(y.astype(float),\n",
    "                                order=tuple(param_dict[key]),\n",
    "                                seasonal_order=tuple(seasonal_dict[key]),\n",
    "                                enforce_stationarity=False,\n",
    "                                enforce_invertibility=False)\n",
    "    results[key] = mod.fit(disp=False)\n",
    "    #print(results.summary().tables[1])"
   ]
  },
  {
   "cell_type": "code",
   "execution_count": null,
   "id": "a585b55d",
   "metadata": {},
   "outputs": [],
   "source": [
    "len(results)"
   ]
  },
  {
   "cell_type": "code",
   "execution_count": null,
   "id": "bef856cb",
   "metadata": {},
   "outputs": [],
   "source": [
    "#results = {}\n",
    "for key in three_hundred:\n",
    "    y=data_dict[key]['total_claims']\n",
    "    mod = sm.tsa.statespace.SARIMAX(y.astype(float),\n",
    "                                order=tuple(param_dict[key]),\n",
    "                                seasonal_order=tuple(seasonal_dict[key]),\n",
    "                                enforce_stationarity=False,\n",
    "                                enforce_invertibility=False)\n",
    "    results[key] = mod.fit(disp=False)\n",
    "    #print(results.summary().tables[1])"
   ]
  },
  {
   "cell_type": "code",
   "execution_count": null,
   "id": "6e43399b",
   "metadata": {},
   "outputs": [],
   "source": [
    "len(results)"
   ]
  },
  {
   "cell_type": "code",
   "execution_count": null,
   "id": "6890d7d2",
   "metadata": {},
   "outputs": [],
   "source": [
    "#results = {}\n",
    "for key in four_hundred:\n",
    "    y=data_dict[key]['total_claims']\n",
    "    mod = sm.tsa.statespace.SARIMAX(y.astype(float),\n",
    "                                order=tuple(param_dict[key]),\n",
    "                                seasonal_order=tuple(seasonal_dict[key]),\n",
    "                                enforce_stationarity=False,\n",
    "                                enforce_invertibility=False)\n",
    "    results[key] = mod.fit(disp=False)\n",
    "    #print(results.summary().tables[1])"
   ]
  },
  {
   "cell_type": "code",
   "execution_count": null,
   "id": "266aaeb1",
   "metadata": {},
   "outputs": [],
   "source": [
    "len(results)"
   ]
  },
  {
   "cell_type": "code",
   "execution_count": null,
   "id": "283c4018",
   "metadata": {},
   "outputs": [],
   "source": [
    "#results = {}\n",
    "for key in five_hundred:\n",
    "    y=data_dict[key]['total_claims']\n",
    "    mod = sm.tsa.statespace.SARIMAX(y.astype(float),\n",
    "                                order=tuple(param_dict[key]),\n",
    "                                seasonal_order=tuple(seasonal_dict[key]),\n",
    "                                enforce_stationarity=False,\n",
    "                                enforce_invertibility=False)\n",
    "    results[key] = mod.fit(disp=False)\n",
    "    #print(results.summary().tables[1])"
   ]
  },
  {
   "cell_type": "code",
   "execution_count": null,
   "id": "31466ab0",
   "metadata": {},
   "outputs": [],
   "source": [
    "len(results)"
   ]
  },
  {
   "cell_type": "code",
   "execution_count": null,
   "id": "6b811e77",
   "metadata": {},
   "outputs": [],
   "source": [
    "results = {}\n",
    "for key in hundred:\n",
    "    y=data_dict[key]['total_claims']\n",
    "    mod = sm.tsa.statespace.SARIMAX(y.astype(float),\n",
    "                                order=tuple(param_dict[key]),\n",
    "                                seasonal_order=tuple(seasonal_dict[key]),\n",
    "                                enforce_stationarity=False,\n",
    "                                enforce_invertibility=False)\n",
    "    results[key] = mod.fit(disp=False)\n",
    "    #print(results.summary().tables[1])"
   ]
  },
  {
   "cell_type": "code",
   "execution_count": null,
   "id": "b9932e23",
   "metadata": {},
   "outputs": [],
   "source": [
    "len(results)"
   ]
  },
  {
   "cell_type": "code",
   "execution_count": null,
   "id": "b4270558",
   "metadata": {},
   "outputs": [],
   "source": [
    "results = {}\n",
    "for key in two_hundred:\n",
    "    y=data_dict[key]['total_claims']\n",
    "    mod = sm.tsa.statespace.SARIMAX(y.astype(float),\n",
    "                                order=tuple(param_dict[key]),\n",
    "                                seasonal_order=tuple(seasonal_dict[key]),\n",
    "                                enforce_stationarity=False,\n",
    "                                enforce_invertibility=False)\n",
    "    results[key] = mod.fit(disp=False)\n",
    "    #print(results.summary().tables[1])"
   ]
  },
  {
   "cell_type": "code",
   "execution_count": null,
   "id": "2e046625",
   "metadata": {},
   "outputs": [],
   "source": [
    "len(results)"
   ]
  },
  {
   "cell_type": "code",
   "execution_count": null,
   "id": "9b73b96a",
   "metadata": {},
   "outputs": [],
   "source": [
    "results = {}\n",
    "for key in hundred:\n",
    "    y=data_dict[key]['total_claims']\n",
    "    mod = sm.tsa.statespace.SARIMAX(y.astype(float),\n",
    "                                order=tuple(param_dict[key]),\n",
    "                                seasonal_order=tuple(seasonal_dict[key]),\n",
    "                                enforce_stationarity=False,\n",
    "                                enforce_invertibility=False)\n",
    "    results[key] = mod.fit(disp=False)\n",
    "    #print(results.summary().tables[1])"
   ]
  },
  {
   "cell_type": "code",
   "execution_count": null,
   "id": "6b9b1c87",
   "metadata": {},
   "outputs": [],
   "source": [
    "len(results)"
   ]
  },
  {
   "cell_type": "code",
   "execution_count": null,
   "id": "47a32546",
   "metadata": {},
   "outputs": [],
   "source": [
    "#results = {}\n",
    "for key in two_hundred:\n",
    "    y=data_dict[key]['total_claims']\n",
    "    mod = sm.tsa.statespace.SARIMAX(y.astype(float),\n",
    "                                order=tuple(param_dict[key]),\n",
    "                                seasonal_order=tuple(seasonal_dict[key]),\n",
    "                                enforce_stationarity=False,\n",
    "                                enforce_invertibility=False)\n",
    "    results[key] = mod.fit(disp=False)\n",
    "    #print(results.summary().tables[1])"
   ]
  },
  {
   "cell_type": "code",
   "execution_count": null,
   "id": "90cb22dd",
   "metadata": {},
   "outputs": [],
   "source": [
    "len(results)"
   ]
  },
  {
   "cell_type": "code",
   "execution_count": null,
   "id": "392134cd",
   "metadata": {},
   "outputs": [],
   "source": [
    "#results = {}\n",
    "for key in three_hundred:\n",
    "    y=data_dict[key]['total_claims']\n",
    "    mod = sm.tsa.statespace.SARIMAX(y.astype(float),\n",
    "                                order=tuple(param_dict[key]),\n",
    "                                seasonal_order=tuple(seasonal_dict[key]),\n",
    "                                enforce_stationarity=False,\n",
    "                                enforce_invertibility=False)\n",
    "    results[key] = mod.fit(disp=False)\n",
    "    #print(results.summary().tables[1])"
   ]
  },
  {
   "cell_type": "code",
   "execution_count": null,
   "id": "b54fbde1",
   "metadata": {},
   "outputs": [],
   "source": [
    "len(results)"
   ]
  },
  {
   "cell_type": "code",
   "execution_count": null,
   "id": "3e410f08",
   "metadata": {},
   "outputs": [],
   "source": [
    "#results = {}\n",
    "for key in four_hundred:\n",
    "    y=data_dict[key]['total_claims']\n",
    "    mod = sm.tsa.statespace.SARIMAX(y.astype(float),\n",
    "                                order=tuple(param_dict[key]),\n",
    "                                seasonal_order=tuple(seasonal_dict[key]),\n",
    "                                enforce_stationarity=False,\n",
    "                                enforce_invertibility=False)\n",
    "    results[key] = mod.fit(disp=False)\n",
    "    #print(results.summary().tables[1])"
   ]
  },
  {
   "cell_type": "code",
   "execution_count": null,
   "id": "de85743e",
   "metadata": {},
   "outputs": [],
   "source": [
    "hundred=list(data_dict.keys())[:100]\n",
    "two_hundred=list(data_dict.keys())[100:200]\n",
    "three_hundred=list(data_dict.keys())[200:300]\n",
    "four_hundred=list(data_dict.keys())[300:400]\n",
    "five_hundred=list(data_dict.keys())[400:573]"
   ]
  },
  {
   "cell_type": "code",
   "execution_count": null,
   "id": "2a155ccc",
   "metadata": {},
   "outputs": [],
   "source": [
    "len(results)"
   ]
  },
  {
   "cell_type": "code",
   "execution_count": null,
   "id": "f062eb76",
   "metadata": {},
   "outputs": [],
   "source": [
    "hundred=list(data_dict.keys())[:100]\n",
    "two_hundred=list(data_dict.keys())[100:200]\n",
    "three_hundred=list(data_dict.keys())[200:300]\n",
    "four_hundred=list(data_dict.keys())[300:400]\n",
    "five_hundred=list(data_dict.keys())[400:500]\n",
    "six_hundred=list(data_dict.keys())[500:573]"
   ]
  },
  {
   "cell_type": "code",
   "execution_count": null,
   "id": "4c9c2fde",
   "metadata": {},
   "outputs": [],
   "source": [
    "#results = {}\n",
    "for key in five_hundred:\n",
    "    y=data_dict[key]['total_claims']\n",
    "    mod = sm.tsa.statespace.SARIMAX(y.astype(float),\n",
    "                                order=tuple(param_dict[key]),\n",
    "                                seasonal_order=tuple(seasonal_dict[key]),\n",
    "                                enforce_stationarity=False,\n",
    "                                enforce_invertibility=False)\n",
    "    results[key] = mod.fit(disp=False)\n",
    "    #print(results.summary().tables[1])"
   ]
  },
  {
   "cell_type": "code",
   "execution_count": null,
   "id": "f860b2c2",
   "metadata": {},
   "outputs": [],
   "source": [
    "len(results)"
   ]
  },
  {
   "cell_type": "code",
   "execution_count": null,
   "id": "2b86d03a",
   "metadata": {},
   "outputs": [],
   "source": [
    "#results = {}\n",
    "for key in six_hundred:\n",
    "    y=data_dict[key]['total_claims']\n",
    "    mod = sm.tsa.statespace.SARIMAX(y.astype(float),\n",
    "                                order=tuple(param_dict[key]),\n",
    "                                seasonal_order=tuple(seasonal_dict[key]),\n",
    "                                enforce_stationarity=False,\n",
    "                                enforce_invertibility=False)\n",
    "    results[key] = mod.fit(disp=False)\n",
    "    #print(results.summary().tables[1])"
   ]
  },
  {
   "cell_type": "code",
   "execution_count": null,
   "id": "f9a213c2",
   "metadata": {},
   "outputs": [],
   "source": [
    "len(results)"
   ]
  },
  {
   "cell_type": "code",
   "execution_count": null,
   "id": "0420430b",
   "metadata": {},
   "outputs": [],
   "source": [
    "list(results.keys())"
   ]
  },
  {
   "cell_type": "code",
   "execution_count": null,
   "id": "ba705e94",
   "metadata": {},
   "outputs": [],
   "source": [
    "x=list(results.keys())[0]"
   ]
  },
  {
   "cell_type": "code",
   "execution_count": null,
   "id": "f0974717",
   "metadata": {},
   "outputs": [],
   "source": [
    "results[x].plot_diagnostics(figsize=(16, 8))\n",
    "plt.show()"
   ]
  },
  {
   "cell_type": "code",
   "execution_count": null,
   "id": "0b7d485b",
   "metadata": {},
   "outputs": [],
   "source": [
    "x=list(results.keys())[2]"
   ]
  },
  {
   "cell_type": "code",
   "execution_count": null,
   "id": "fe9f19fa",
   "metadata": {},
   "outputs": [],
   "source": [
    "results[x].plot_diagnostics(figsize=(16, 8))\n",
    "plt.show()"
   ]
  },
  {
   "cell_type": "code",
   "execution_count": null,
   "id": "eaeef3f3",
   "metadata": {},
   "outputs": [],
   "source": [
    "data_dict[x]['total_claims']"
   ]
  },
  {
   "cell_type": "code",
   "execution_count": null,
   "id": "3f964558",
   "metadata": {},
   "outputs": [],
   "source": [
    "pred = results[x].get_prediction(start=pd.to_datetime('2022-09-26'), dynamic=False)"
   ]
  },
  {
   "cell_type": "code",
   "execution_count": null,
   "id": "5e8c7d6e",
   "metadata": {},
   "outputs": [],
   "source": [
    "data_dict[x]['total_claims']"
   ]
  },
  {
   "cell_type": "code",
   "execution_count": null,
   "id": "c89d234a",
   "metadata": {},
   "outputs": [],
   "source": [
    "pred = results[x].get_prediction(start=pd.to_datetime('2022-09-10'), dynamic=False)"
   ]
  },
  {
   "cell_type": "code",
   "execution_count": null,
   "id": "4ce92ab6",
   "metadata": {},
   "outputs": [],
   "source": [
    "x=list(results.keys())[1]"
   ]
  },
  {
   "cell_type": "code",
   "execution_count": null,
   "id": "ffd96551",
   "metadata": {},
   "outputs": [],
   "source": [
    "pred = results[x].get_prediction(start=pd.to_datetime('2022-09-10'), dynamic=False)"
   ]
  },
  {
   "cell_type": "code",
   "execution_count": null,
   "id": "18f4c783",
   "metadata": {},
   "outputs": [],
   "source": [
    "pred = results[x].get_prediction( dynamic=False)"
   ]
  },
  {
   "cell_type": "code",
   "execution_count": null,
   "id": "aedbb299",
   "metadata": {},
   "outputs": [],
   "source": [
    "x=list(results.keys())[2]"
   ]
  },
  {
   "cell_type": "code",
   "execution_count": null,
   "id": "1274dfa7",
   "metadata": {},
   "outputs": [],
   "source": [
    "pred = results[x].get_prediction( dynamic=False)"
   ]
  },
  {
   "cell_type": "code",
   "execution_count": null,
   "id": "f126e6a9",
   "metadata": {},
   "outputs": [],
   "source": [
    "pred_ci = pred.conf_int()\n",
    "ax = data_dict[x]['total_claims'].plot(label='observed')\n",
    "pred.predicted_mean.plot(ax=ax, label='One-step ahead Forecast', alpha=.7, figsize=(14, 7))\n",
    "ax.fill_between(pred_ci.index,\n",
    "                pred_ci.iloc[:, 0],\n",
    "                pred_ci.iloc[:, 1], color='k', alpha=.2)\n",
    "ax.set_xlabel('Date')\n",
    "ax.set_ylabel('Furniture Sales')\n",
    "plt.legend()\n",
    "plt.show()"
   ]
  },
  {
   "cell_type": "code",
   "execution_count": null,
   "id": "874f868e",
   "metadata": {},
   "outputs": [],
   "source": [
    "pred = results[x].get_prediction()"
   ]
  },
  {
   "cell_type": "code",
   "execution_count": null,
   "id": "4c942c6b",
   "metadata": {},
   "outputs": [],
   "source": [
    "pred_ci = pred.conf_int()\n",
    "ax = data_dict[x]['total_claims'].plot(label='observed')\n",
    "pred.predicted_mean.plot(ax=ax, label='One-step ahead Forecast', alpha=.7, figsize=(14, 7))\n",
    "ax.fill_between(pred_ci.index,\n",
    "                pred_ci.iloc[:, 0],\n",
    "                pred_ci.iloc[:, 1], color='k', alpha=.2)\n",
    "ax.set_xlabel('Date')\n",
    "ax.set_ylabel('Furniture Sales')\n",
    "plt.legend()\n",
    "plt.show()"
   ]
  },
  {
   "cell_type": "code",
   "execution_count": null,
   "id": "c8b59e9f",
   "metadata": {},
   "outputs": [],
   "source": [
    "pred = results[x].get_prediction(start=pd.to_datetime('2022-09-26'), dynamic=False)"
   ]
  },
  {
   "cell_type": "code",
   "execution_count": null,
   "id": "86f5e584",
   "metadata": {},
   "outputs": [],
   "source": [
    "data_dict[x]['total_claims']"
   ]
  },
  {
   "cell_type": "code",
   "execution_count": null,
   "id": "96e9ee7e",
   "metadata": {},
   "outputs": [],
   "source": [
    "pred = results[x].get_prediction(start=pd.to_datetime('2022-09-10'), dynamic=False)"
   ]
  },
  {
   "cell_type": "code",
   "execution_count": null,
   "id": "a5d6adf3",
   "metadata": {},
   "outputs": [],
   "source": [
    "pred_ci = pred.conf_int()\n",
    "ax = data_dict[x]['total_claims'].plot(label='observed')\n",
    "pred.predicted_mean.plot(ax=ax, label='One-step ahead Forecast', alpha=.7, figsize=(14, 7))\n",
    "ax.fill_between(pred_ci.index,\n",
    "                pred_ci.iloc[:, 0],\n",
    "                pred_ci.iloc[:, 1], color='k', alpha=.2)\n",
    "ax.set_xlabel('Date')\n",
    "ax.set_ylabel('Furniture Sales')\n",
    "plt.legend()\n",
    "plt.show()"
   ]
  },
  {
   "cell_type": "code",
   "execution_count": null,
   "id": "c89a5a3f",
   "metadata": {},
   "outputs": [],
   "source": [
    "pred = results[x].get_prediction(start=pd.to_datetime('2022-09-10'), end=pd.to_datetime('2022-10-10'), dynamic=False)"
   ]
  },
  {
   "cell_type": "code",
   "execution_count": null,
   "id": "3fabff3b",
   "metadata": {},
   "outputs": [],
   "source": [
    "pred = results[x].get_prediction(start=pd.to_datetime('2022-09-10'), dynamic=False)"
   ]
  },
  {
   "cell_type": "code",
   "execution_count": null,
   "id": "30545a47",
   "metadata": {},
   "outputs": [],
   "source": [
    "pred_ci = pred.conf_int()\n",
    "ax = data_dict[x]['total_claims'].plot(label='observed')\n",
    "pred.predicted_mean.plot(ax=ax, label='One-step ahead Forecast', alpha=.7, figsize=(14, 7))\n",
    "ax.fill_between(pred_ci.index,\n",
    "                pred_ci.iloc[:, 0],\n",
    "                pred_ci.iloc[:, 1], color='k', alpha=.2)\n",
    "ax.set_xlabel('Date')\n",
    "ax.set_ylabel('Furniture Sales')\n",
    "plt.legend()\n",
    "plt.show()"
   ]
  },
  {
   "cell_type": "code",
   "execution_count": null,
   "id": "482780c2",
   "metadata": {},
   "outputs": [],
   "source": [
    "pred = results[x].forecast()"
   ]
  },
  {
   "cell_type": "code",
   "execution_count": null,
   "id": "383afea9",
   "metadata": {},
   "outputs": [],
   "source": [
    "pred_ci = pred.conf_int()\n",
    "ax = data_dict[x]['total_claims'].plot(label='observed')\n",
    "pred.predicted_mean.plot(ax=ax, label='One-step ahead Forecast', alpha=.7, figsize=(14, 7))\n",
    "ax.fill_between(pred_ci.index,\n",
    "                pred_ci.iloc[:, 0],\n",
    "                pred_ci.iloc[:, 1], color='k', alpha=.2)\n",
    "ax.set_xlabel('Date')\n",
    "ax.set_ylabel('Furniture Sales')\n",
    "plt.legend()\n",
    "plt.show()"
   ]
  },
  {
   "cell_type": "code",
   "execution_count": null,
   "id": "43b73017",
   "metadata": {},
   "outputs": [],
   "source": [
    "pred"
   ]
  },
  {
   "cell_type": "code",
   "execution_count": null,
   "id": "870ff26b",
   "metadata": {},
   "outputs": [],
   "source": [
    "pred = results[x].get_prediction(start=pd.to_datetime('2022-09-10'), dynamic=False)"
   ]
  },
  {
   "cell_type": "code",
   "execution_count": null,
   "id": "74426d27",
   "metadata": {},
   "outputs": [],
   "source": [
    "pred_ci = pred.conf_int()\n",
    "ax = data_dict[x]['total_claims'].plot(label='observed')\n",
    "pred.predicted_mean.plot(ax=ax, label='One-step ahead Forecast', alpha=.7, figsize=(14, 7))\n",
    "ax.fill_between(pred_ci.index,\n",
    "                pred_ci.iloc[:, 0],\n",
    "                pred_ci.iloc[:, 1], color='k', alpha=.2)\n",
    "ax.set_xlabel('Date')\n",
    "ax.set_ylabel('Furniture Sales')\n",
    "plt.legend()\n",
    "plt.show()"
   ]
  },
  {
   "cell_type": "code",
   "execution_count": null,
   "id": "7d70add4",
   "metadata": {},
   "outputs": [],
   "source": [
    "pred = results[x].forecast()"
   ]
  },
  {
   "cell_type": "code",
   "execution_count": null,
   "id": "def3cdaa",
   "metadata": {},
   "outputs": [],
   "source": [
    "pred"
   ]
  },
  {
   "cell_type": "code",
   "execution_count": null,
   "id": "fecf90fe",
   "metadata": {},
   "outputs": [],
   "source": [
    "pred = []\n",
    "for key in hundred:\n",
    "        i=results[key].forecast()\n",
    "        pred.append(i)\n",
    "    #print(results.summary().tables[1])"
   ]
  },
  {
   "cell_type": "code",
   "execution_count": null,
   "id": "94e84886",
   "metadata": {},
   "outputs": [],
   "source": [
    "pred"
   ]
  },
  {
   "cell_type": "code",
   "execution_count": null,
   "id": "a77ff2e3",
   "metadata": {},
   "outputs": [],
   "source": [
    "pred = results[x].forecast()"
   ]
  },
  {
   "cell_type": "code",
   "execution_count": null,
   "id": "679e5e00",
   "metadata": {},
   "outputs": [],
   "source": [
    "pred.values"
   ]
  },
  {
   "cell_type": "code",
   "execution_count": null,
   "id": "2ef62bc2",
   "metadata": {},
   "outputs": [],
   "source": [
    "pred = []\n",
    "for key in hundred:\n",
    "        i=results[key].forecast()\n",
    "        pred.append(i.values)\n",
    "    #print(results.summary().tables[1])"
   ]
  },
  {
   "cell_type": "code",
   "execution_count": null,
   "id": "7609c5f4",
   "metadata": {},
   "outputs": [],
   "source": [
    "pred"
   ]
  },
  {
   "cell_type": "code",
   "execution_count": null,
   "id": "ee689b87",
   "metadata": {},
   "outputs": [],
   "source": [
    "pred = results[x].forecast()"
   ]
  },
  {
   "cell_type": "code",
   "execution_count": null,
   "id": "db1f25f2",
   "metadata": {},
   "outputs": [],
   "source": [
    "pred.values[0]"
   ]
  },
  {
   "cell_type": "code",
   "execution_count": null,
   "id": "e1a29b84",
   "metadata": {},
   "outputs": [],
   "source": [
    "pred = []\n",
    "for key in hundred:\n",
    "        i=results[key].forecast()\n",
    "        pred.append(i.values[0])\n",
    "    #print(results.summary().tables[1])"
   ]
  },
  {
   "cell_type": "code",
   "execution_count": null,
   "id": "bd10dc7c",
   "metadata": {},
   "outputs": [],
   "source": [
    "pred"
   ]
  },
  {
   "cell_type": "code",
   "execution_count": null,
   "id": "54480553",
   "metadata": {},
   "outputs": [],
   "source": [
    "len(pred)"
   ]
  },
  {
   "cell_type": "code",
   "execution_count": null,
   "id": "1fb8121a",
   "metadata": {},
   "outputs": [],
   "source": [
    "#pred = []\n",
    "for key in two_hundred:\n",
    "        i=results[key].forecast()\n",
    "        pred.append(i.values[0])\n",
    "    #print(results.summary().tables[1])"
   ]
  },
  {
   "cell_type": "code",
   "execution_count": null,
   "id": "e5e369fb",
   "metadata": {},
   "outputs": [],
   "source": [
    "len(pred)"
   ]
  },
  {
   "cell_type": "code",
   "execution_count": null,
   "id": "57527bac",
   "metadata": {},
   "outputs": [],
   "source": [
    "#pred = []\n",
    "for key in three_hundred:\n",
    "        i=results[key].forecast()\n",
    "        pred.append(i.values[0])\n",
    "    #print(results.summary().tables[1])"
   ]
  },
  {
   "cell_type": "code",
   "execution_count": null,
   "id": "3ecac93e",
   "metadata": {},
   "outputs": [],
   "source": [
    "len(pred)"
   ]
  },
  {
   "cell_type": "code",
   "execution_count": null,
   "id": "efa3489b",
   "metadata": {},
   "outputs": [],
   "source": [
    "#pred = []\n",
    "for key in four_hundred:\n",
    "        i=results[key].forecast()\n",
    "        pred.append(i.values[0])\n",
    "    #print(results.summary().tables[1])"
   ]
  },
  {
   "cell_type": "code",
   "execution_count": null,
   "id": "b893d2ed",
   "metadata": {},
   "outputs": [],
   "source": [
    "len(pred)"
   ]
  },
  {
   "cell_type": "code",
   "execution_count": null,
   "id": "627a7d0a",
   "metadata": {},
   "outputs": [],
   "source": [
    "#pred = []\n",
    "for key in five_hundred:\n",
    "        i=results[key].forecast()\n",
    "        pred.append(i.values[0])\n",
    "    #print(results.summary().tables[1])"
   ]
  },
  {
   "cell_type": "code",
   "execution_count": null,
   "id": "9b67f4c2",
   "metadata": {},
   "outputs": [],
   "source": [
    "len(pred)"
   ]
  },
  {
   "cell_type": "code",
   "execution_count": null,
   "id": "56ce05cb",
   "metadata": {},
   "outputs": [],
   "source": [
    "#pred = []\n",
    "for key in six_hundred:\n",
    "        i=results[key].forecast()\n",
    "        pred.append(i.values[0])\n",
    "    #print(results.summary().tables[1])"
   ]
  },
  {
   "cell_type": "code",
   "execution_count": null,
   "id": "21573c90",
   "metadata": {},
   "outputs": [],
   "source": [
    "len(pred)"
   ]
  },
  {
   "cell_type": "code",
   "execution_count": null,
   "id": "038229a4",
   "metadata": {},
   "outputs": [],
   "source": [
    "pred"
   ]
  },
  {
   "cell_type": "code",
   "execution_count": null,
   "id": "9e158822",
   "metadata": {},
   "outputs": [],
   "source": [
    "pred"
   ]
  },
  {
   "cell_type": "code",
   "execution_count": null,
   "id": "168d0515",
   "metadata": {},
   "outputs": [],
   "source": [
    "hundred+two_hundred"
   ]
  },
  {
   "cell_type": "code",
   "execution_count": null,
   "id": "7227ba96",
   "metadata": {},
   "outputs": [],
   "source": [
    "uu_id=hundred+two_hundred+three_hundred+four_hundred+five_hundred+six_hundred"
   ]
  },
  {
   "cell_type": "code",
   "execution_count": null,
   "id": "a94fb909",
   "metadata": {},
   "outputs": [],
   "source": [
    "len(uu_id)"
   ]
  },
  {
   "cell_type": "code",
   "execution_count": null,
   "id": "ef7a60f5",
   "metadata": {},
   "outputs": [],
   "source": [
    "submit.head()"
   ]
  },
  {
   "cell_type": "code",
   "execution_count": null,
   "id": "9ccc1b0a",
   "metadata": {},
   "outputs": [],
   "source": [
    "first_trial = pd.DataFrame(uu_id, columns=['uu_id'])\n",
    "first_trial.head()"
   ]
  },
  {
   "cell_type": "code",
   "execution_count": null,
   "id": "f5196356",
   "metadata": {},
   "outputs": [],
   "source": [
    "first_trial['total_claims']=pred"
   ]
  },
  {
   "cell_type": "code",
   "execution_count": null,
   "id": "577a20b9",
   "metadata": {},
   "outputs": [],
   "source": [
    "first_trial.head()"
   ]
  },
  {
   "cell_type": "code",
   "execution_count": null,
   "id": "0c836bb2",
   "metadata": {},
   "outputs": [],
   "source": [
    "submit.head()"
   ]
  },
  {
   "cell_type": "code",
   "execution_count": null,
   "id": "0e061f34",
   "metadata": {},
   "outputs": [],
   "source": [
    "pd.merge(submit, first_trial, on='uu_id', how='outer')"
   ]
  },
  {
   "cell_type": "code",
   "execution_count": null,
   "id": "3d711de1",
   "metadata": {},
   "outputs": [],
   "source": [
    "final_file=pd.merge(submit, first_trial, on='uu_id', how='outer')"
   ]
  },
  {
   "cell_type": "code",
   "execution_count": null,
   "id": "de6d048c",
   "metadata": {},
   "outputs": [],
   "source": [
    "final_file=pd.merge(submit, first_trial, on='uu_id', how='outer')\n",
    "final_file.to_csv(./'submission.csv', index=False)"
   ]
  },
  {
   "cell_type": "code",
   "execution_count": null,
   "id": "7fa5b5e6",
   "metadata": {
    "lines_to_next_cell": 2
   },
   "outputs": [],
   "source": [
    "final_file=pd.merge(submit, first_trial, on='uu_id', how='outer')\n",
    "final_file.to_csv('./submission.csv', index=False)"
   ]
  }
 ],
 "metadata": {
  "jupytext": {
   "cell_metadata_filter": "-all",
   "main_language": "python",
   "notebook_metadata_filter": "-all"
  }
 },
 "nbformat": 4,
 "nbformat_minor": 5
}
