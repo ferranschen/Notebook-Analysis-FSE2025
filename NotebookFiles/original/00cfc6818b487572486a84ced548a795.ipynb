{
 "cells": [
  {
   "cell_type": "code",
   "execution_count": null,
   "id": "f1496e29",
   "metadata": {},
   "outputs": [],
   "source": [
    "get_ipython().run_cell_magic('capture', '', \"%logstop\\n%logstart -t -r -q ipython_command_log.py global\\n\\n#- IRONHACKS RESEARCH TRACKING CODE\\n#----------------------------------\\n# The following code is used to help our research team understand how you \\n# our notebook environment. We do not collect any personal information with\\n# the following code, it is used to measure when and how often you work on\\n# your submission files.\\n\\nimport os\\nfrom datetime import datetime\\nimport IPython.core.history as history\\n\\nha = history.HistoryAccessor()\\nha_tail = ha.get_tail(1)\\nha_cmd = next(ha_tail)\\nsession_id = str(ha_cmd[0])\\ncommand_id = str(ha_cmd[1])\\ntimestamp = datetime.utcnow().isoformat()\\nhistory_line = ','.join([session_id, command_id, timestamp]) + '\\\\n'\\nlogfile = open(os.environ['HOME']+'/ipython_session_log.csv', 'a')\\nlogfile.write(history_line)\\nlogfile.close()\\n\")"
   ]
  },
  {
   "cell_type": "code",
   "execution_count": null,
   "id": "e51f570d",
   "metadata": {},
   "outputs": [],
   "source": [
    "#import cell\n",
    "import pandas as pd\n",
    "import numpy as np\n",
    "import statistics\n",
    "import csv\n",
    "import matplotlib.pyplot as plt\n",
    "from google.cloud import bigquery\n",
    "from google.oauth2 import service_account\n",
    "from google.cloud.bigquery import magics"
   ]
  },
  {
   "cell_type": "code",
   "execution_count": null,
   "id": "06da6474",
   "metadata": {},
   "outputs": [],
   "source": [
    "BIGQUERY_PROJECT = 'ironhacks-data'\n",
    "bigquery_client = bigquery.Client(project=BIGQUERY_PROJECT)"
   ]
  },
  {
   "cell_type": "code",
   "execution_count": null,
   "id": "eb15aecd",
   "metadata": {},
   "outputs": [],
   "source": [
    "#Gets the master unemployed table\n",
    "query = \"\"\"\n",
    "SELECT *\n",
    "FROM `ironhacks-data.ironhacks_competition.unemployment_data`\n",
    "\"\"\""
   ]
  },
  {
   "cell_type": "code",
   "execution_count": null,
   "id": "c231f876",
   "metadata": {},
   "outputs": [],
   "source": [
    "# QUERY THE DATA ONCE\n",
    "query_job = bigquery_client.query(query)\n",
    "unemploymentData = query_job.to_dataframe()\n",
    "print(unemploymentData.shape)\n",
    "pd.set_option('display.max_columns', None)\n",
    "unemploymentData.head(3)"
   ]
  },
  {
   "cell_type": "code",
   "execution_count": null,
   "id": "bece17db",
   "metadata": {},
   "outputs": [],
   "source": [
    "#Gets each tracks mean and std dev\n",
    "#unlist has the master unemployment list\n",
    "#b becomes the filtered list\n",
    "unList = unemploymentData.values.tolist()\n",
    "b_set = set(tuple(x) for x in unList)\n",
    "b = [ list(x) for x in b_set ]"
   ]
  },
  {
   "cell_type": "code",
   "execution_count": null,
   "id": "0ad63b83",
   "metadata": {},
   "outputs": [],
   "source": [
    "uuid = []\n",
    "#makes a list of the unique uuid\n",
    "for x in b:\n",
    "    if(uuid.count(x[0]) == 0):\n",
    "        uuid.append(x[0])"
   ]
  },
  {
   "cell_type": "code",
   "execution_count": null,
   "id": "f0868017",
   "metadata": {},
   "outputs": [],
   "source": [
    "#setup for extract        \n",
    "values = []\n",
    "export = []"
   ]
  },
  {
   "cell_type": "code",
   "execution_count": null,
   "id": "daa2f44a",
   "metadata": {},
   "outputs": [],
   "source": [
    "#for each value make a list of each weeks claims\n",
    "for y in uuid:\n",
    "    temp = [y]\n",
    "    for x in b:\n",
    "        if (x[0] == y):\n",
    "            temp.append(x[6])\n",
    "    values.append(temp)"
   ]
  },
  {
   "cell_type": "code",
   "execution_count": null,
   "id": "f3e14a14",
   "metadata": {},
   "outputs": [],
   "source": [
    "for x in values:\n",
    "    name = x[0]\n",
    "    mean = statistics.mean(x[1:])\n",
    "    if (len(x) > 2):\n",
    "        stdev = statistics.stdev(x[1:])\n",
    "    else:\n",
    "        print(\"short\")\n",
    "    export.append([name, mean, stdev])\n",
    "#Everything below this is testing"
   ]
  },
  {
   "cell_type": "code",
   "execution_count": null,
   "id": "020fdb31",
   "metadata": {},
   "outputs": [],
   "source": [
    "#Make bar charts\n",
    "#unique list as guide to count\n",
    "x1 = []\n",
    "y1 = []\n",
    "for i in uuid[:1]:\n",
    "    for k in b:\n",
    "        if (k[0] == i):\n",
    "            x1.append(k[2])\n",
    "            y1.append(k[6])"
   ]
  },
  {
   "cell_type": "code",
   "execution_count": null,
   "id": "8be59ae7",
   "metadata": {},
   "outputs": [],
   "source": [
    "plt.bar(x1,y1)"
   ]
  },
  {
   "cell_type": "markdown",
   "id": "9242bce8",
   "metadata": {},
   "source": [
    "Make bar charts\n",
    "unique list as guide to count\n",
    "num of unemployment claims versus count"
   ]
  },
  {
   "cell_type": "code",
   "execution_count": null,
   "id": "350f4b3a",
   "metadata": {},
   "outputs": [],
   "source": [
    "xValues = []\n",
    "xCount = []\n",
    "for i in uuid[:1]:\n",
    "    for k in b:\n",
    "        if (k[0] == i):\n",
    "            xValues.append(k[6])\n",
    "c_set = set(tuple(x) for x in xValues)\n",
    "c = [ list(x) for x in c_set ]"
   ]
  },
  {
   "cell_type": "code",
   "execution_count": null,
   "id": "6e3ecded",
   "metadata": {},
   "outputs": [],
   "source": [
    "for x in c:\n",
    "    xCount.append(xValues.count(x))"
   ]
  },
  {
   "cell_type": "code",
   "execution_count": null,
   "id": "b24426f5",
   "metadata": {},
   "outputs": [],
   "source": [
    "plt.bar(xValues,xCount)"
   ]
  },
  {
   "cell_type": "markdown",
   "id": "80f09e17",
   "metadata": {},
   "source": [
    "Make bar charts\n",
    "unique list as guide to count\n",
    "num of unemployment claims versus count"
   ]
  },
  {
   "cell_type": "code",
   "execution_count": null,
   "id": "b955e122",
   "metadata": {},
   "outputs": [],
   "source": [
    "xValues = []\n",
    "xCount = []\n",
    "for i in uuid[:1]:\n",
    "    for k in b:\n",
    "        if (k[0] == i):\n",
    "            xValues.append(k[6])\n",
    "c = list(dict.fromkeys(xValues))"
   ]
  },
  {
   "cell_type": "code",
   "execution_count": null,
   "id": "46121f2f",
   "metadata": {},
   "outputs": [],
   "source": [
    "for x in c:\n",
    "    xCount.append(xValues.count(x))"
   ]
  },
  {
   "cell_type": "code",
   "execution_count": null,
   "id": "5484e5b8",
   "metadata": {},
   "outputs": [],
   "source": [
    "plt.bar(xValues,xCount)"
   ]
  },
  {
   "cell_type": "markdown",
   "id": "cd3cb13d",
   "metadata": {},
   "source": [
    "Make bar charts\n",
    "unique list as guide to count\n",
    "num of unemployment claims versus count"
   ]
  },
  {
   "cell_type": "code",
   "execution_count": null,
   "id": "92cf85c7",
   "metadata": {},
   "outputs": [],
   "source": [
    "xValues = []\n",
    "xCount = []\n",
    "for i in uuid[:1]:\n",
    "    for k in b:\n",
    "        if (k[0] == i):\n",
    "            xValues.append(k[6])\n",
    "c = list(dict.fromkeys(xValues))"
   ]
  },
  {
   "cell_type": "code",
   "execution_count": null,
   "id": "bbf49c3b",
   "metadata": {},
   "outputs": [],
   "source": [
    "for x in c:\n",
    "    xCount.append(xValues.count(x))\n",
    "print(xValues)\n",
    "print(xCount)\n",
    "plt.bar(xValues,xCount)"
   ]
  },
  {
   "cell_type": "markdown",
   "id": "01a65c9e",
   "metadata": {},
   "source": [
    "Make bar charts\n",
    "unique list as guide to count\n",
    "num of unemployment claims versus count"
   ]
  },
  {
   "cell_type": "code",
   "execution_count": null,
   "id": "e4c37bfd",
   "metadata": {},
   "outputs": [],
   "source": [
    "xValues = []\n",
    "xCount = []\n",
    "for i in uuid[:1]:\n",
    "    for k in b:\n",
    "        if (k[0] == i):\n",
    "            xValues.append(k[6])\n",
    "c = list(dict.fromkeys(xValues))"
   ]
  },
  {
   "cell_type": "code",
   "execution_count": null,
   "id": "6e10e709",
   "metadata": {},
   "outputs": [],
   "source": [
    "for x in c:\n",
    "    xCount.append(xValues.count(x))\n",
    "print(xValues)\n",
    "print(xCount)\n",
    "plt.bar(c,xCount)"
   ]
  },
  {
   "cell_type": "markdown",
   "id": "389b631a",
   "metadata": {},
   "source": [
    "Make bar charts\n",
    "unique list as guide to count\n",
    "num of unemployment claims versus count"
   ]
  },
  {
   "cell_type": "code",
   "execution_count": null,
   "id": "38ce1acd",
   "metadata": {},
   "outputs": [],
   "source": [
    "xValues = []\n",
    "xCount = []\n",
    "for i in uuid[:1]:\n",
    "    for k in b:\n",
    "        if (k[0] == i):\n",
    "            xValues.append(k[6])\n",
    "c = list(dict.fromkeys(xValues))"
   ]
  },
  {
   "cell_type": "code",
   "execution_count": null,
   "id": "28438870",
   "metadata": {},
   "outputs": [],
   "source": [
    "for x in c:\n",
    "    xCount.append(xValues.count(x))\n",
    "print(len(xValues))\n",
    "plt.bar(c,xCount)"
   ]
  },
  {
   "cell_type": "markdown",
   "id": "b471e396",
   "metadata": {},
   "source": [
    "Make bar charts\n",
    "unique list as guide to count\n",
    "num of unemployment claims versus count"
   ]
  },
  {
   "cell_type": "code",
   "execution_count": null,
   "id": "e69979cc",
   "metadata": {},
   "outputs": [],
   "source": [
    "xValues = []\n",
    "xCount = []\n",
    "for i in uuid[:1]:\n",
    "    for k in b:\n",
    "        if (k[0] == i):\n",
    "            xValues.append(k[6])\n",
    "c = list(dict.fromkeys(xValues))"
   ]
  },
  {
   "cell_type": "code",
   "execution_count": null,
   "id": "d91bebe5",
   "metadata": {},
   "outputs": [],
   "source": [
    "for x in c:\n",
    "    xCount.append(xValues.count(x))\n",
    "print(len(xValues))\n",
    "print(statistics.mean(xxValues)\n",
    "plt.bar(c,xCount)"
   ]
  },
  {
   "cell_type": "markdown",
   "id": "e5012579",
   "metadata": {},
   "source": [
    "Make bar charts\n",
    "unique list as guide to count\n",
    "num of unemployment claims versus count"
   ]
  },
  {
   "cell_type": "code",
   "execution_count": null,
   "id": "06f66fa7",
   "metadata": {},
   "outputs": [],
   "source": [
    "xValues = []\n",
    "xCount = []\n",
    "for i in uuid[:1]:\n",
    "    for k in b:\n",
    "        if (k[0] == i):\n",
    "            xValues.append(k[6])\n",
    "c = list(dict.fromkeys(xValues))"
   ]
  },
  {
   "cell_type": "code",
   "execution_count": null,
   "id": "099fe583",
   "metadata": {},
   "outputs": [],
   "source": [
    "for x in c:\n",
    "    xCount.append(xValues.count(x))\n",
    "print(len(xValues))\n",
    "print(statistics.mean(xValues))\n",
    "plt.bar(c,xCount)"
   ]
  },
  {
   "cell_type": "markdown",
   "id": "55804c00",
   "metadata": {},
   "source": [
    "Make bar charts\n",
    "unique list as guide to count\n",
    "num of unemployment claims versus count"
   ]
  },
  {
   "cell_type": "code",
   "execution_count": null,
   "id": "c695e445",
   "metadata": {},
   "outputs": [],
   "source": [
    "xValues = []\n",
    "xCount = []\n",
    "for i in uuid[:1]:\n",
    "    for k in b:\n",
    "        if (k[0] == i):\n",
    "            xValues.append(k[6])\n",
    "c = list(dict.fromkeys(xValues))"
   ]
  },
  {
   "cell_type": "code",
   "execution_count": null,
   "id": "bd8fc4da",
   "metadata": {},
   "outputs": [],
   "source": [
    "for x in c:\n",
    "    xCount.append(xValues.count(x))\n",
    "print(statistics.mean(xValues))\n",
    "print(statistics.median(xValues))\n",
    "plt.bar(c,xCount)"
   ]
  },
  {
   "cell_type": "markdown",
   "id": "7900d1fe",
   "metadata": {},
   "source": [
    "Make bar charts\n",
    "unique list as guide to count\n",
    "num of unemployment claims versus count"
   ]
  },
  {
   "cell_type": "code",
   "execution_count": null,
   "id": "5e535324",
   "metadata": {},
   "outputs": [],
   "source": [
    "xValues = []\n",
    "xCount = []\n",
    "for i in uuid[4:5]:\n",
    "    for k in b:\n",
    "        if (k[0] == i):\n",
    "            xValues.append(k[6])\n",
    "c = list(dict.fromkeys(xValues))"
   ]
  },
  {
   "cell_type": "code",
   "execution_count": null,
   "id": "7e1f30b7",
   "metadata": {},
   "outputs": [],
   "source": [
    "for x in c:\n",
    "    xCount.append(xValues.count(x))\n",
    "print(statistics.mean(xValues))\n",
    "print(statistics.median(xValues))\n",
    "plt.bar(c,xCount)"
   ]
  },
  {
   "cell_type": "markdown",
   "id": "96330d7a",
   "metadata": {},
   "source": [
    "Make bar charts\n",
    "unique list as guide to count\n",
    "num of unemployment claims versus count"
   ]
  },
  {
   "cell_type": "code",
   "execution_count": null,
   "id": "dbb97498",
   "metadata": {},
   "outputs": [],
   "source": [
    "xValues = []\n",
    "xCount = []\n",
    "for i in uuid[:2]:\n",
    "    for k in b:\n",
    "        if (k[0] == i):\n",
    "            xValues.append(k[6])\n",
    "    c = list(dict.fromkeys(xValues))\n",
    "\n",
    "    for x in c:\n",
    "        xCount.append(xValues.count(x))\n",
    "    print(statistics.mean(xValues))\n",
    "    print(statistics.median(xValues))\n",
    "    plt.bar(c,xCount)"
   ]
  },
  {
   "cell_type": "markdown",
   "id": "9c46396c",
   "metadata": {},
   "source": [
    "Make bar charts\n",
    "unique list as guide to count\n",
    "num of unemployment claims versus count"
   ]
  },
  {
   "cell_type": "code",
   "execution_count": null,
   "id": "0190e42b",
   "metadata": {},
   "outputs": [],
   "source": [
    "for i in uuid[:2]:\n",
    "    xValues = []\n",
    "    xCount = []\n",
    "    for k in b:\n",
    "        if (k[0] == i):\n",
    "            xValues.append(k[6])\n",
    "    c = list(dict.fromkeys(xValues))\n",
    "\n",
    "    for x in c:\n",
    "        xCount.append(xValues.count(x))\n",
    "    print(statistics.mean(xValues))\n",
    "    print(statistics.median(xValues))\n",
    "    plt.bar(c,xCount)"
   ]
  },
  {
   "cell_type": "markdown",
   "id": "f9e443dd",
   "metadata": {},
   "source": [
    "Make bar charts\n",
    "unique list as guide to count\n",
    "num of unemployment claims versus count"
   ]
  },
  {
   "cell_type": "code",
   "execution_count": null,
   "id": "67638185",
   "metadata": {},
   "outputs": [],
   "source": [
    "for i in uuid[:10]:\n",
    "    xValues = []\n",
    "    xCount = []\n",
    "    for k in b:\n",
    "        if (k[0] == i):\n",
    "            xValues.append(k[6])\n",
    "    c = list(dict.fromkeys(xValues))\n",
    "\n",
    "    for x in c:\n",
    "        xCount.append(xValues.count(x))\n",
    "    print(statistics.mean(xValues))\n",
    "    print(statistics.median(xValues))\n",
    "    plt.bar(c,xCount)"
   ]
  },
  {
   "cell_type": "markdown",
   "id": "59175d53",
   "metadata": {},
   "source": [
    "Make bar charts\n",
    "unique list as guide to count\n",
    "num of unemployment claims versus count"
   ]
  },
  {
   "cell_type": "code",
   "execution_count": null,
   "id": "6b3e69bb",
   "metadata": {
    "lines_to_next_cell": 2
   },
   "outputs": [],
   "source": [
    "for i in uuid[:1]:\n",
    "    xValues = []\n",
    "    xCount = []\n",
    "    for k in b:\n",
    "        if (k[0] == i):\n",
    "            xValues.append(k[6])\n",
    "    c = list(dict.fromkeys(xValues))\n",
    "\n",
    "    for x in c:\n",
    "        xCount.append(xValues.count(x))\n",
    "    print(statistics.mean(xValues))\n",
    "    print(statistics.median(xValues))\n",
    "    plt.bar(c,xCount)"
   ]
  }
 ],
 "metadata": {
  "jupytext": {
   "cell_metadata_filter": "-all",
   "main_language": "python",
   "notebook_metadata_filter": "-all"
  }
 },
 "nbformat": 4,
 "nbformat_minor": 5
}
