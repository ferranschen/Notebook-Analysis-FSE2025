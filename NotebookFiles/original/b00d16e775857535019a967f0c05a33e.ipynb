{
 "cells": [
  {
   "cell_type": "code",
   "execution_count": null,
   "id": "f64b14a9",
   "metadata": {},
   "outputs": [],
   "source": [
    "get_ipython().system('pip install db-dtypes')"
   ]
  },
  {
   "cell_type": "code",
   "execution_count": null,
   "id": "1b499692",
   "metadata": {},
   "outputs": [],
   "source": [
    "import os\n",
    "import pandas\n",
    "from google.cloud import bigquery\n",
    "from google.oauth2 import service_account\n",
    "from google.cloud.bigquery import magics"
   ]
  },
  {
   "cell_type": "code",
   "execution_count": null,
   "id": "49a22c30",
   "metadata": {},
   "outputs": [],
   "source": [
    "BIGQUERY_PROJECT = 'ironhacks-data'\n",
    "bigquery_client = bigquery.Client(project=BIGQUERY_PROJECT)"
   ]
  },
  {
   "cell_type": "code",
   "execution_count": null,
   "id": "f53eb598",
   "metadata": {},
   "outputs": [],
   "source": [
    "query = \"\"\"\n",
    "SELECT *\n",
    "FROM `ironhacks-data.ironhacks_competition.unemployment_data`\n",
    "\"\"\""
   ]
  },
  {
   "cell_type": "code",
   "execution_count": null,
   "id": "3d681153",
   "metadata": {},
   "outputs": [],
   "source": [
    "# QUERY THE DATA ONCE\n",
    "query_job = bigquery_client.query(query)\n",
    "data = query_job.to_dataframe()\n",
    "data.head()"
   ]
  },
  {
   "cell_type": "code",
   "execution_count": null,
   "id": "84304983",
   "metadata": {},
   "outputs": [],
   "source": [
    "data.info()"
   ]
  },
  {
   "cell_type": "code",
   "execution_count": null,
   "id": "1a4b4261",
   "metadata": {},
   "outputs": [],
   "source": [
    "data[\"top_category_employer2\"].value_counts()"
   ]
  },
  {
   "cell_type": "code",
   "execution_count": null,
   "id": "72bd1568",
   "metadata": {},
   "outputs": [],
   "source": [
    "data.loc[data[\"uu_id\"] == \"bd5b040eae3010ce09da8b176ed5aee0\"]"
   ]
  },
  {
   "cell_type": "code",
   "execution_count": null,
   "id": "f080e293",
   "metadata": {},
   "outputs": [],
   "source": [
    "data.info()"
   ]
  },
  {
   "cell_type": "code",
   "execution_count": null,
   "id": "4fdffa7e",
   "metadata": {},
   "outputs": [],
   "source": [
    "data[\"top_category_employer2\"].value_counts()"
   ]
  },
  {
   "cell_type": "code",
   "execution_count": null,
   "id": "d06b39f0",
   "metadata": {},
   "outputs": [],
   "source": [
    "data.loc[data[\"uu_id\"] == \"bd5b040eae3010ce09da8b176ed5aee0\"]"
   ]
  },
  {
   "cell_type": "code",
   "execution_count": null,
   "id": "8bc5a0d2",
   "metadata": {},
   "outputs": [],
   "source": [
    "query = \"\"\"\n",
    "SELECT *\n",
    "FROM `ironhacks-data.ironhacks_competition.wage_data`\n",
    "\"\"\""
   ]
  },
  {
   "cell_type": "code",
   "execution_count": null,
   "id": "bf5b3024",
   "metadata": {},
   "outputs": [],
   "source": [
    "# QUERY THE DATA ONCE\n",
    "query_job = bigquery_client.query(query)\n",
    "wage_data = query_job.to_dataframe()\n",
    "wage_data.head()"
   ]
  },
  {
   "cell_type": "code",
   "execution_count": null,
   "id": "8ae26f35",
   "metadata": {},
   "outputs": [],
   "source": [
    "query = \"\"\"\n",
    "SELECT *\n",
    "FROM `ironhacks-data.ironhacks_competition.prediction_list`\n",
    "\"\"\""
   ]
  },
  {
   "cell_type": "code",
   "execution_count": null,
   "id": "8f05d7c6",
   "metadata": {},
   "outputs": [],
   "source": [
    "# QUERY THE DATA ONCE\n",
    "query_job = bigquery_client.query(query)\n",
    "predict = query_job.to_dataframe()\n",
    "predict.head()"
   ]
  },
  {
   "cell_type": "code",
   "execution_count": null,
   "id": "e9ab4279",
   "metadata": {},
   "outputs": [],
   "source": [
    "data[\"edu_8th_or_less\"].value_counts()"
   ]
  },
  {
   "cell_type": "code",
   "execution_count": null,
   "id": "2e8a17b2",
   "metadata": {},
   "outputs": [],
   "source": [
    "query = \"\"\"\n",
    "SELECT *\n",
    "FROM `ironhacks-data.ironhacks_competition.wage_data`\n",
    "\"\"\""
   ]
  },
  {
   "cell_type": "code",
   "execution_count": null,
   "id": "f9f42ab9",
   "metadata": {},
   "outputs": [],
   "source": [
    "# QUERY THE DATA ONCE\n",
    "query_job = bigquery_client.query(query)\n",
    "wage_data = query_job.to_dataframe()\n",
    "wage_data.head()"
   ]
  },
  {
   "cell_type": "code",
   "execution_count": null,
   "id": "cd7ab800",
   "metadata": {},
   "outputs": [],
   "source": [
    "query = \"\"\"\n",
    "SELECT *\n",
    "FROM `ironhacks-data.ironhacks_competition.prediction_list`\n",
    "\"\"\""
   ]
  },
  {
   "cell_type": "code",
   "execution_count": null,
   "id": "5bee9bdc",
   "metadata": {},
   "outputs": [],
   "source": [
    "# QUERY THE DATA ONCE\n",
    "query_job = bigquery_client.query(query)\n",
    "predict = query_job.to_dataframe()\n",
    "predict.head()"
   ]
  },
  {
   "cell_type": "code",
   "execution_count": null,
   "id": "31231277",
   "metadata": {},
   "outputs": [],
   "source": [
    "data[\"top_category_employer2\"].map(lambda x: '32' if x =='31-33')"
   ]
  },
  {
   "cell_type": "code",
   "execution_count": null,
   "id": "50892b2d",
   "metadata": {},
   "outputs": [],
   "source": [
    "data[\"top_category_employer2\"].map(lambda x: '32' if x =='31-33' else x)"
   ]
  },
  {
   "cell_type": "code",
   "execution_count": null,
   "id": "0f7da160",
   "metadata": {},
   "outputs": [],
   "source": [
    "data[\"top_category_employer2\"] = data[\"top_category_employer2\"].map(lambda x: '32' if x =='31-33' else x)"
   ]
  },
  {
   "cell_type": "code",
   "execution_count": null,
   "id": "181c3932",
   "metadata": {},
   "outputs": [],
   "source": [
    "data[\"top_category_employer2\"].value_counts()"
   ]
  },
  {
   "cell_type": "code",
   "execution_count": null,
   "id": "1737b32a",
   "metadata": {},
   "outputs": [],
   "source": [
    "data[\"top_category_employer1\"] = data[\"top_category_employer1\"].map(lambda x: '32' if x =='31-33' else x)"
   ]
  },
  {
   "cell_type": "code",
   "execution_count": null,
   "id": "c363b032",
   "metadata": {},
   "outputs": [],
   "source": [
    "data[\"top_category_employer1\"] = data[\"top_category_employer1\"].map(lambda x: '44.5' if x =='44-45' else x)"
   ]
  },
  {
   "cell_type": "code",
   "execution_count": null,
   "id": "343ca52a",
   "metadata": {},
   "outputs": [],
   "source": [
    "data[\"top_category_employer1\"] = data[\"top_category_employer1\"].map(lambda x: '48.5' if x =='48-49' else x)"
   ]
  },
  {
   "cell_type": "code",
   "execution_count": null,
   "id": "079a39f3",
   "metadata": {},
   "outputs": [],
   "source": [
    "data.info()"
   ]
  },
  {
   "cell_type": "code",
   "execution_count": null,
   "id": "0c686226",
   "metadata": {},
   "outputs": [],
   "source": [
    "data[\"top_category_employer2\"].value_counts()"
   ]
  },
  {
   "cell_type": "code",
   "execution_count": null,
   "id": "5e364dad",
   "metadata": {},
   "outputs": [],
   "source": [
    "data[\"top_category_employer1\"] = data[\"top_category_employer1\"].map(lambda x: '32' if x =='31-33' else x)"
   ]
  },
  {
   "cell_type": "code",
   "execution_count": null,
   "id": "e8af5c91",
   "metadata": {},
   "outputs": [],
   "source": [
    "data[\"top_category_employer1\"] = data[\"top_category_employer1\"].map(lambda x: '44.5' if x =='44-45' else x)"
   ]
  },
  {
   "cell_type": "code",
   "execution_count": null,
   "id": "a56d61ce",
   "metadata": {},
   "outputs": [],
   "source": [
    "data[\"top_category_employer1\"] = data[\"top_category_employer1\"].map(lambda x: '48.5' if x =='48-49' else x)"
   ]
  },
  {
   "cell_type": "code",
   "execution_count": null,
   "id": "1bca145a",
   "metadata": {},
   "outputs": [],
   "source": [
    "data[\"top_category_employer2\"] = data[\"top_category_employer2\"].map(lambda x: '32' if x =='31-33' else x)"
   ]
  },
  {
   "cell_type": "code",
   "execution_count": null,
   "id": "a9125a1e",
   "metadata": {},
   "outputs": [],
   "source": [
    "data[\"top_category_employer2\"] = data[\"top_category_employer2\"].map(lambda x: '44.5' if x =='44-45' else x)"
   ]
  },
  {
   "cell_type": "code",
   "execution_count": null,
   "id": "e57c73a7",
   "metadata": {},
   "outputs": [],
   "source": [
    "data[\"top_category_employer2\"] = data[\"top_category_employer2\"].map(lambda x: '48.5' if x =='48-49' else x)"
   ]
  },
  {
   "cell_type": "code",
   "execution_count": null,
   "id": "d35e2f46",
   "metadata": {},
   "outputs": [],
   "source": [
    "data[\"top_category_employer3\"] = data[\"top_category_employer3\"].map(lambda x: '32' if x =='31-33' else x)"
   ]
  },
  {
   "cell_type": "code",
   "execution_count": null,
   "id": "4e357c98",
   "metadata": {},
   "outputs": [],
   "source": [
    "data[\"top_category_employer3\"] = data[\"top_category_employer3\"].map(lambda x: '44.5' if x =='44-45' else x)"
   ]
  },
  {
   "cell_type": "code",
   "execution_count": null,
   "id": "4acfe879",
   "metadata": {},
   "outputs": [],
   "source": [
    "data[\"top_category_employer3\"] = data[\"top_category_employer3\"].map(lambda x: '48.5' if x =='48-49' else x)"
   ]
  },
  {
   "cell_type": "code",
   "execution_count": null,
   "id": "c25a6e78",
   "metadata": {},
   "outputs": [],
   "source": [
    "data[\"edu_8th_or_less\"].value_counts()"
   ]
  },
  {
   "cell_type": "code",
   "execution_count": null,
   "id": "4d16e7c0",
   "metadata": {},
   "outputs": [],
   "source": [
    "df[\"top_category_employer1\"].astype(int) "
   ]
  },
  {
   "cell_type": "code",
   "execution_count": null,
   "id": "ada08c46",
   "metadata": {},
   "outputs": [],
   "source": [
    "data[\"top_category_employer1\"].astype(int) "
   ]
  },
  {
   "cell_type": "code",
   "execution_count": null,
   "id": "c5318771",
   "metadata": {},
   "outputs": [],
   "source": [
    "data.info()"
   ]
  },
  {
   "cell_type": "code",
   "execution_count": null,
   "id": "850b5632",
   "metadata": {},
   "outputs": [],
   "source": [
    "data[\"top_category_employer1\"].astype(float) "
   ]
  },
  {
   "cell_type": "code",
   "execution_count": null,
   "id": "e85a7e7a",
   "metadata": {},
   "outputs": [],
   "source": [
    "data[\"race_black\"].value_counts()"
   ]
  },
  {
   "cell_type": "code",
   "execution_count": null,
   "id": "6f2b4c5f",
   "metadata": {},
   "outputs": [],
   "source": [
    "data[\"top_category_employer1\"].astype(float) "
   ]
  },
  {
   "cell_type": "code",
   "execution_count": null,
   "id": "9f7e48d1",
   "metadata": {},
   "outputs": [],
   "source": [
    "data['edu_8th_or_less'].replace(np.NaN, data['edu_8th_or_less'].mean())"
   ]
  },
  {
   "cell_type": "code",
   "execution_count": null,
   "id": "da853bc9",
   "metadata": {},
   "outputs": [],
   "source": [
    "import os\n",
    "import pandas\n",
    "from google.cloud import bigquery\n",
    "from google.oauth2 import service_account\n",
    "from google.cloud.bigquery import magics\n",
    "import numpy as np"
   ]
  },
  {
   "cell_type": "code",
   "execution_count": null,
   "id": "091d42a1",
   "metadata": {},
   "outputs": [],
   "source": [
    "data['edu_8th_or_less'].replace(np.NaN, data['edu_8th_or_less'].mean())"
   ]
  },
  {
   "cell_type": "code",
   "execution_count": null,
   "id": "663f8422",
   "metadata": {},
   "outputs": [],
   "source": [
    "data.fillna('0')"
   ]
  },
  {
   "cell_type": "code",
   "execution_count": null,
   "id": "fc526ddc",
   "metadata": {},
   "outputs": [],
   "source": [
    "data.fillna(0)"
   ]
  },
  {
   "cell_type": "code",
   "execution_count": null,
   "id": "51c4d82f",
   "metadata": {},
   "outputs": [],
   "source": [
    "data = data.fillna(0)"
   ]
  },
  {
   "cell_type": "code",
   "execution_count": null,
   "id": "c0241807",
   "metadata": {},
   "outputs": [],
   "source": [
    "data = data.fillna(0)"
   ]
  },
  {
   "cell_type": "code",
   "execution_count": null,
   "id": "66c6ee87",
   "metadata": {},
   "outputs": [],
   "source": [
    "data.info()"
   ]
  },
  {
   "cell_type": "code",
   "execution_count": null,
   "id": "44428d8a",
   "metadata": {},
   "outputs": [],
   "source": [
    "data['top_category_employer1'].astype(float)"
   ]
  },
  {
   "cell_type": "code",
   "execution_count": null,
   "id": "32887b9f",
   "metadata": {},
   "outputs": [],
   "source": [
    "data = data.fillna(0)"
   ]
  },
  {
   "cell_type": "code",
   "execution_count": null,
   "id": "4e8143ea",
   "metadata": {},
   "outputs": [],
   "source": [
    "data['top_category_employer1'].astype(float)"
   ]
  },
  {
   "cell_type": "code",
   "execution_count": null,
   "id": "83e2be3c",
   "metadata": {},
   "outputs": [],
   "source": [
    "data.isnull()"
   ]
  },
  {
   "cell_type": "code",
   "execution_count": null,
   "id": "a6f75125",
   "metadata": {},
   "outputs": [],
   "source": [
    "data.isnull().any()"
   ]
  },
  {
   "cell_type": "code",
   "execution_count": null,
   "id": "f07cc154",
   "metadata": {},
   "outputs": [],
   "source": [
    "data['top_category_employer1'].astype(float)"
   ]
  },
  {
   "cell_type": "code",
   "execution_count": null,
   "id": "5f2ba414",
   "metadata": {},
   "outputs": [],
   "source": [
    "data[\"top_category_employer1\"] = data[\"top_category_employer1\"].map(lambda x: '0' if x =='N/A' else x)"
   ]
  },
  {
   "cell_type": "code",
   "execution_count": null,
   "id": "dde6d94e",
   "metadata": {},
   "outputs": [],
   "source": [
    "data[\"top_category_employer2\"] = data[\"top_category_employer2\"].map(lambda x: '0' if x =='N/A' else x)"
   ]
  },
  {
   "cell_type": "code",
   "execution_count": null,
   "id": "4e0bcc99",
   "metadata": {},
   "outputs": [],
   "source": [
    "data[\"top_category_employer2\"] = data[\"top_category_employer2\"].map(lambda x: '0' if x =='N/A' else x)"
   ]
  },
  {
   "cell_type": "code",
   "execution_count": null,
   "id": "d3f0faa4",
   "metadata": {},
   "outputs": [],
   "source": [
    "data[\"top_category_employer3\"] = data[\"top_category_employer3\"].map(lambda x: '0' if x =='N/A' else x)"
   ]
  },
  {
   "cell_type": "code",
   "execution_count": null,
   "id": "de941847",
   "metadata": {},
   "outputs": [],
   "source": [
    "data = data.fillna(0)"
   ]
  },
  {
   "cell_type": "code",
   "execution_count": null,
   "id": "1ec412fb",
   "metadata": {},
   "outputs": [],
   "source": [
    "data['top_category_employer1'].astype(float)"
   ]
  },
  {
   "cell_type": "code",
   "execution_count": null,
   "id": "9d9c8f50",
   "metadata": {},
   "outputs": [],
   "source": [
    "data['top_category_employer2'].astype(float)"
   ]
  },
  {
   "cell_type": "code",
   "execution_count": null,
   "id": "22408320",
   "metadata": {},
   "outputs": [],
   "source": [
    "data['top_category_employer3'].astype(float)"
   ]
  },
  {
   "cell_type": "code",
   "execution_count": null,
   "id": "ec5c255f",
   "metadata": {},
   "outputs": [],
   "source": [
    "data[\"test\"] = data.groupby(by=[\"uu_id\"]).sum()"
   ]
  },
  {
   "cell_type": "code",
   "execution_count": null,
   "id": "28164ac6",
   "metadata": {},
   "outputs": [],
   "source": [
    "data.groupby(by=[\"uu_id\"]).mean()"
   ]
  },
  {
   "cell_type": "code",
   "execution_count": null,
   "id": "fe1c9a64",
   "metadata": {},
   "outputs": [],
   "source": [
    "test = data.groupby(by=[\"uu_id\"]).mean()"
   ]
  },
  {
   "cell_type": "code",
   "execution_count": null,
   "id": "f31d7666",
   "metadata": {},
   "outputs": [],
   "source": [
    "test = data.groupby(by=[\"uu_id\"]).mean()\n",
    "test"
   ]
  },
  {
   "cell_type": "code",
   "execution_count": null,
   "id": "49b8f5eb",
   "metadata": {},
   "outputs": [],
   "source": [
    "predict = data.groupby(by=[\"uu_id\"]).mean()\n",
    "predict"
   ]
  },
  {
   "cell_type": "code",
   "execution_count": null,
   "id": "3549c38d",
   "metadata": {},
   "outputs": [],
   "source": [
    "data.info()"
   ]
  },
  {
   "cell_type": "code",
   "execution_count": null,
   "id": "4edca271",
   "metadata": {},
   "outputs": [],
   "source": [
    "data = data['top_category_employer2'].astype(float)"
   ]
  },
  {
   "cell_type": "code",
   "execution_count": null,
   "id": "d9a66583",
   "metadata": {},
   "outputs": [],
   "source": [
    "data = data['top_category_employer3'].astype(float)"
   ]
  },
  {
   "cell_type": "code",
   "execution_count": null,
   "id": "fbaca039",
   "metadata": {},
   "outputs": [],
   "source": [
    "data = data['top_category_employer1'].astype(float)"
   ]
  },
  {
   "cell_type": "code",
   "execution_count": null,
   "id": "a7cb09a4",
   "metadata": {},
   "outputs": [],
   "source": [
    "data['top_category_employer1'] = data['top_category_employer1'].astype(float)"
   ]
  },
  {
   "cell_type": "code",
   "execution_count": null,
   "id": "c0fcb5e7",
   "metadata": {},
   "outputs": [],
   "source": [
    "data['top_category_employer1'].astype(float)"
   ]
  },
  {
   "cell_type": "code",
   "execution_count": null,
   "id": "6d7e478d",
   "metadata": {},
   "outputs": [],
   "source": [
    "data['top_category_employer1'].astype(float)"
   ]
  },
  {
   "cell_type": "code",
   "execution_count": null,
   "id": "6028cb5f",
   "metadata": {},
   "outputs": [],
   "source": [
    "data = data.fillna(0)"
   ]
  },
  {
   "cell_type": "code",
   "execution_count": null,
   "id": "b346b466",
   "metadata": {},
   "outputs": [],
   "source": [
    "data['top_category_employer1'].astype(float)"
   ]
  },
  {
   "cell_type": "code",
   "execution_count": null,
   "id": "928b5d9a",
   "metadata": {},
   "outputs": [],
   "source": [
    "data.info()"
   ]
  },
  {
   "cell_type": "code",
   "execution_count": null,
   "id": "ad7acb3f",
   "metadata": {},
   "outputs": [],
   "source": [
    "data.info()"
   ]
  },
  {
   "cell_type": "code",
   "execution_count": null,
   "id": "7d80cabf",
   "metadata": {},
   "outputs": [],
   "source": [
    "data.info"
   ]
  },
  {
   "cell_type": "code",
   "execution_count": null,
   "id": "a23774f0",
   "metadata": {},
   "outputs": [],
   "source": [
    "import os\n",
    "import pandas\n",
    "from google.cloud import bigquery\n",
    "from google.oauth2 import service_account\n",
    "from google.cloud.bigquery import magics\n",
    "import numpy as np"
   ]
  },
  {
   "cell_type": "code",
   "execution_count": null,
   "id": "a4dcbc4f",
   "metadata": {},
   "outputs": [],
   "source": [
    "BIGQUERY_PROJECT = 'ironhacks-data'\n",
    "bigquery_client = bigquery.Client(project=BIGQUERY_PROJECT)"
   ]
  },
  {
   "cell_type": "code",
   "execution_count": null,
   "id": "4488319e",
   "metadata": {},
   "outputs": [],
   "source": [
    "query = \"\"\"\n",
    "SELECT *\n",
    "FROM `ironhacks-data.ironhacks_competition.unemployment_data`\n",
    "\"\"\""
   ]
  },
  {
   "cell_type": "code",
   "execution_count": null,
   "id": "563cb841",
   "metadata": {},
   "outputs": [],
   "source": [
    "# QUERY THE DATA ONCE\n",
    "query_job = bigquery_client.query(query)\n",
    "data = query_job.to_dataframe()\n",
    "data.head()"
   ]
  },
  {
   "cell_type": "code",
   "execution_count": null,
   "id": "1c35b9cc",
   "metadata": {},
   "outputs": [],
   "source": [
    "data.info()"
   ]
  },
  {
   "cell_type": "code",
   "execution_count": null,
   "id": "db17be61",
   "metadata": {},
   "outputs": [],
   "source": [
    "data[\"top_category_employer1\"] = data[\"top_category_employer1\"].map(lambda x: '32' if x =='31-33' else x)"
   ]
  },
  {
   "cell_type": "code",
   "execution_count": null,
   "id": "5976d28d",
   "metadata": {},
   "outputs": [],
   "source": [
    "data[\"top_category_employer1\"] = data[\"top_category_employer1\"].map(lambda x: '44.5' if x =='44-45' else x)"
   ]
  },
  {
   "cell_type": "code",
   "execution_count": null,
   "id": "9dc09f21",
   "metadata": {},
   "outputs": [],
   "source": [
    "data[\"top_category_employer1\"] = data[\"top_category_employer1\"].map(lambda x: '48.5' if x =='48-49' else x)"
   ]
  },
  {
   "cell_type": "code",
   "execution_count": null,
   "id": "8ee8d5d4",
   "metadata": {},
   "outputs": [],
   "source": [
    "data[\"top_category_employer1\"] = data[\"top_category_employer1\"].map(lambda x: '0' if x =='N/A' else x)"
   ]
  },
  {
   "cell_type": "code",
   "execution_count": null,
   "id": "e2935535",
   "metadata": {},
   "outputs": [],
   "source": [
    "data[\"top_category_employer2\"] = data[\"top_category_employer2\"].map(lambda x: '32' if x =='31-33' else x)"
   ]
  },
  {
   "cell_type": "code",
   "execution_count": null,
   "id": "e0a93e2b",
   "metadata": {},
   "outputs": [],
   "source": [
    "data[\"top_category_employer2\"] = data[\"top_category_employer2\"].map(lambda x: '44.5' if x =='44-45' else x)"
   ]
  },
  {
   "cell_type": "code",
   "execution_count": null,
   "id": "f6b100a9",
   "metadata": {},
   "outputs": [],
   "source": [
    "data[\"top_category_employer2\"] = data[\"top_category_employer2\"].map(lambda x: '48.5' if x =='48-49' else x)"
   ]
  },
  {
   "cell_type": "code",
   "execution_count": null,
   "id": "36cc9a29",
   "metadata": {},
   "outputs": [],
   "source": [
    "data[\"top_category_employer2\"] = data[\"top_category_employer2\"].map(lambda x: '0' if x =='N/A' else x)"
   ]
  },
  {
   "cell_type": "code",
   "execution_count": null,
   "id": "a1a166e8",
   "metadata": {},
   "outputs": [],
   "source": [
    "data[\"top_category_employer3\"] = data[\"top_category_employer3\"].map(lambda x: '32' if x =='31-33' else x)"
   ]
  },
  {
   "cell_type": "code",
   "execution_count": null,
   "id": "0c3c4bd9",
   "metadata": {},
   "outputs": [],
   "source": [
    "data[\"top_category_employer3\"] = data[\"top_category_employer3\"].map(lambda x: '44.5' if x =='44-45' else x)"
   ]
  },
  {
   "cell_type": "code",
   "execution_count": null,
   "id": "c45d0fdf",
   "metadata": {},
   "outputs": [],
   "source": [
    "data[\"top_category_employer3\"] = data[\"top_category_employer3\"].map(lambda x: '48.5' if x =='48-49' else x)"
   ]
  },
  {
   "cell_type": "code",
   "execution_count": null,
   "id": "99db72c5",
   "metadata": {},
   "outputs": [],
   "source": [
    "data[\"top_category_employer3\"] = data[\"top_category_employer3\"].map(lambda x: '0' if x =='N/A' else x)"
   ]
  },
  {
   "cell_type": "code",
   "execution_count": null,
   "id": "e9d83e39",
   "metadata": {},
   "outputs": [],
   "source": [
    "data = data.fillna(0)"
   ]
  },
  {
   "cell_type": "code",
   "execution_count": null,
   "id": "4a6622be",
   "metadata": {},
   "outputs": [],
   "source": [
    "data['top_category_employer1'].astype(float)"
   ]
  },
  {
   "cell_type": "code",
   "execution_count": null,
   "id": "3e0cb517",
   "metadata": {},
   "outputs": [],
   "source": [
    "data = data['top_category_employer2'].astype(float)"
   ]
  },
  {
   "cell_type": "code",
   "execution_count": null,
   "id": "f139164c",
   "metadata": {},
   "outputs": [],
   "source": [
    "data = data['top_category_employer3'].astype(float)"
   ]
  },
  {
   "cell_type": "code",
   "execution_count": null,
   "id": "7582b9b6",
   "metadata": {},
   "outputs": [],
   "source": [
    "get_ipython().system('pip install db-dtypes')"
   ]
  },
  {
   "cell_type": "code",
   "execution_count": null,
   "id": "bb3a2020",
   "metadata": {},
   "outputs": [],
   "source": [
    "import os\n",
    "import pandas\n",
    "from google.cloud import bigquery\n",
    "from google.oauth2 import service_account\n",
    "from google.cloud.bigquery import magics\n",
    "import numpy as np"
   ]
  },
  {
   "cell_type": "code",
   "execution_count": null,
   "id": "ea8f272e",
   "metadata": {},
   "outputs": [],
   "source": [
    "BIGQUERY_PROJECT = 'ironhacks-data'\n",
    "bigquery_client = bigquery.Client(project=BIGQUERY_PROJECT)"
   ]
  },
  {
   "cell_type": "code",
   "execution_count": null,
   "id": "cb6af7f5",
   "metadata": {},
   "outputs": [],
   "source": [
    "query = \"\"\"\n",
    "SELECT *\n",
    "FROM `ironhacks-data.ironhacks_competition.unemployment_data`\n",
    "\"\"\""
   ]
  },
  {
   "cell_type": "code",
   "execution_count": null,
   "id": "a75575a5",
   "metadata": {},
   "outputs": [],
   "source": [
    "# QUERY THE DATA ONCE\n",
    "query_job = bigquery_client.query(query)\n",
    "data = query_job.to_dataframe()\n",
    "data.head()"
   ]
  },
  {
   "cell_type": "code",
   "execution_count": null,
   "id": "bdbaf3ca",
   "metadata": {},
   "outputs": [],
   "source": [
    "data.info()"
   ]
  },
  {
   "cell_type": "code",
   "execution_count": null,
   "id": "da5ec533",
   "metadata": {},
   "outputs": [],
   "source": [
    "data[\"top_category_employer1\"] = data[\"top_category_employer1\"].map(lambda x: '32' if x =='31-33' else x)"
   ]
  },
  {
   "cell_type": "code",
   "execution_count": null,
   "id": "d2e70415",
   "metadata": {},
   "outputs": [],
   "source": [
    "data[\"top_category_employer1\"] = data[\"top_category_employer1\"].map(lambda x: '44.5' if x =='44-45' else x)"
   ]
  },
  {
   "cell_type": "code",
   "execution_count": null,
   "id": "f41be67d",
   "metadata": {},
   "outputs": [],
   "source": [
    "data[\"top_category_employer1\"] = data[\"top_category_employer1\"].map(lambda x: '48.5' if x =='48-49' else x)"
   ]
  },
  {
   "cell_type": "code",
   "execution_count": null,
   "id": "eb77cf22",
   "metadata": {},
   "outputs": [],
   "source": [
    "data[\"top_category_employer1\"] = data[\"top_category_employer1\"].map(lambda x: '0' if x =='N/A' else x)"
   ]
  },
  {
   "cell_type": "code",
   "execution_count": null,
   "id": "ed9e05b7",
   "metadata": {},
   "outputs": [],
   "source": [
    "data[\"top_category_employer2\"] = data[\"top_category_employer2\"].map(lambda x: '32' if x =='31-33' else x)"
   ]
  },
  {
   "cell_type": "code",
   "execution_count": null,
   "id": "9403040d",
   "metadata": {},
   "outputs": [],
   "source": [
    "data[\"top_category_employer2\"] = data[\"top_category_employer2\"].map(lambda x: '44.5' if x =='44-45' else x)"
   ]
  },
  {
   "cell_type": "code",
   "execution_count": null,
   "id": "eb2f40af",
   "metadata": {},
   "outputs": [],
   "source": [
    "data[\"top_category_employer2\"] = data[\"top_category_employer2\"].map(lambda x: '48.5' if x =='48-49' else x)"
   ]
  },
  {
   "cell_type": "code",
   "execution_count": null,
   "id": "bfa381c3",
   "metadata": {},
   "outputs": [],
   "source": [
    "data[\"top_category_employer2\"] = data[\"top_category_employer2\"].map(lambda x: '0' if x =='N/A' else x)"
   ]
  },
  {
   "cell_type": "code",
   "execution_count": null,
   "id": "d75dd89d",
   "metadata": {},
   "outputs": [],
   "source": [
    "data[\"top_category_employer3\"] = data[\"top_category_employer3\"].map(lambda x: '32' if x =='31-33' else x)"
   ]
  },
  {
   "cell_type": "code",
   "execution_count": null,
   "id": "37090001",
   "metadata": {},
   "outputs": [],
   "source": [
    "data[\"top_category_employer3\"] = data[\"top_category_employer3\"].map(lambda x: '44.5' if x =='44-45' else x)"
   ]
  },
  {
   "cell_type": "code",
   "execution_count": null,
   "id": "37b4ca10",
   "metadata": {},
   "outputs": [],
   "source": [
    "data[\"top_category_employer3\"] = data[\"top_category_employer3\"].map(lambda x: '48.5' if x =='48-49' else x)"
   ]
  },
  {
   "cell_type": "code",
   "execution_count": null,
   "id": "2684c34e",
   "metadata": {},
   "outputs": [],
   "source": [
    "data[\"top_category_employer3\"] = data[\"top_category_employer3\"].map(lambda x: '0' if x =='N/A' else x)"
   ]
  },
  {
   "cell_type": "code",
   "execution_count": null,
   "id": "b31a3cf5",
   "metadata": {},
   "outputs": [],
   "source": [
    "data = data.fillna(0)"
   ]
  },
  {
   "cell_type": "code",
   "execution_count": null,
   "id": "a5c385da",
   "metadata": {},
   "outputs": [],
   "source": [
    "data['top_category_employer1'].astype(float)"
   ]
  },
  {
   "cell_type": "code",
   "execution_count": null,
   "id": "1e25c822",
   "metadata": {},
   "outputs": [],
   "source": [
    "query = \"\"\"\n",
    "SELECT *\n",
    "FROM `ironhacks-data.ironhacks_competition.wage_data`\n",
    "\"\"\""
   ]
  },
  {
   "cell_type": "code",
   "execution_count": null,
   "id": "b890ff1f",
   "metadata": {},
   "outputs": [],
   "source": [
    "# QUERY THE DATA ONCE\n",
    "query_job = bigquery_client.query(query)\n",
    "wage_data = query_job.to_dataframe()\n",
    "wage_data.head()"
   ]
  },
  {
   "cell_type": "code",
   "execution_count": null,
   "id": "6acc4e78",
   "metadata": {},
   "outputs": [],
   "source": [
    "query = \"\"\"\n",
    "SELECT *\n",
    "FROM `ironhacks-data.ironhacks_competition.prediction_list`\n",
    "\"\"\""
   ]
  },
  {
   "cell_type": "code",
   "execution_count": null,
   "id": "33dfa09a",
   "metadata": {},
   "outputs": [],
   "source": [
    "# QUERY THE DATA ONCE\n",
    "query_job = bigquery_client.query(query)\n",
    "predict = query_job.to_dataframe()\n",
    "predict.head()"
   ]
  },
  {
   "cell_type": "code",
   "execution_count": null,
   "id": "9b8d7f3b",
   "metadata": {},
   "outputs": [],
   "source": [
    "predict = data.groupby(by=[\"uu_id\"]).mean()\n",
    "predict"
   ]
  },
  {
   "cell_type": "code",
   "execution_count": null,
   "id": "92b7b317",
   "metadata": {},
   "outputs": [],
   "source": [
    "data.info"
   ]
  },
  {
   "cell_type": "code",
   "execution_count": null,
   "id": "6f664179",
   "metadata": {},
   "outputs": [],
   "source": [
    "X_train = data[\"\"]"
   ]
  },
  {
   "cell_type": "code",
   "execution_count": null,
   "id": "3f46da35",
   "metadata": {},
   "outputs": [],
   "source": [
    "data.info()"
   ]
  },
  {
   "cell_type": "code",
   "execution_count": null,
   "id": "e1715c62",
   "metadata": {},
   "outputs": [],
   "source": [
    "X_train = data[\"edu_8th_or_less\", \"edu_grades_9_11\", \"edu_hs_grad_equiv\", \"gender_female\", gender_male, ]X_train = data[\"edu_8th_or_less\", \"edu_grades_9_11\", \"edu_hs_grad_equiv\", \"gender_female\", \"gender_male\", \"race_amerindian\", \"race_asian\", \"race_black\", \"race_noanswer\", \"race_hawaiiannative\", \"race_other\", \"race_white\"]"
   ]
  },
  {
   "cell_type": "code",
   "execution_count": null,
   "id": "2f39efd5",
   "metadata": {},
   "outputs": [],
   "source": [
    "X_train = data[[\"edu_8th_or_less\", \"edu_grades_9_11\", \"edu_hs_grad_equiv\", \"gender_female\", gender_male, ]X_train = data[\"edu_8th_or_less\", \"edu_grades_9_11\", \"edu_hs_grad_equiv\", \"gender_female\", \"gender_male\", \"race_amerindian\", \"race_asian\", \"race_black\", \"race_noanswer\", \"race_hawaiiannative\", \"race_other\", \"race_white\"]]"
   ]
  },
  {
   "cell_type": "code",
   "execution_count": null,
   "id": "e25216eb",
   "metadata": {},
   "outputs": [],
   "source": [
    "X_train = data[[\"edu_8th_or_less\", \"edu_grades_9_11\", \"edu_hs_grad_equiv\", \"gender_female\", gender_male, ]X_train = data[\"edu_8th_or_less\", \"edu_grades_9_11\", \"edu_hs_grad_equiv\", \"gender_female\", \"gender_male\", \"race_amerindian\", \"race_asian\", \"race_black\", \"race_noanswer\", \"race_hawaiiannative\", \"race_other\", \"race_white\"]]"
   ]
  },
  {
   "cell_type": "code",
   "execution_count": null,
   "id": "f1b4dab5",
   "metadata": {},
   "outputs": [],
   "source": [
    "X_train = data[[\"edu_8th_or_less\", \"edu_grades_9_11\", \"edu_hs_grad_equiv\", \"gender_female\", gender_male, ]X_train = data[\"edu_8th_or_less\", \"edu_grades_9_11\", \"edu_hs_grad_equiv\", \"gender_female\", \"gender_male\", \"race_amerindian\", \"race_asian\", \"race_black\", \"race_noanswer\", \"race_hawaiiannative\", \"race_other\", \"race_white\"]]"
   ]
  },
  {
   "cell_type": "code",
   "execution_count": null,
   "id": "9b4261ec",
   "metadata": {},
   "outputs": [],
   "source": [
    "X_train = data.iloc[:, 7:24]"
   ]
  },
  {
   "cell_type": "code",
   "execution_count": null,
   "id": "beb4180f",
   "metadata": {},
   "outputs": [],
   "source": [
    "y_train = data[\"total_claims\"]"
   ]
  },
  {
   "cell_type": "code",
   "execution_count": null,
   "id": "7698890e",
   "metadata": {},
   "outputs": [],
   "source": [
    "from sklearn.linear_model import LinearRegression"
   ]
  },
  {
   "cell_type": "code",
   "execution_count": null,
   "id": "77f227bc",
   "metadata": {},
   "outputs": [],
   "source": [
    "model = LinearRegression().fit(X_train, y_train)"
   ]
  },
  {
   "cell_type": "code",
   "execution_count": null,
   "id": "520e5c0a",
   "metadata": {},
   "outputs": [],
   "source": [
    "model.predict(X_test = predict.iloc[:, 7:24])"
   ]
  },
  {
   "cell_type": "code",
   "execution_count": null,
   "id": "cf3b391e",
   "metadata": {},
   "outputs": [],
   "source": [
    "model.predict(X_test = predict.iloc[:, 7:24])"
   ]
  },
  {
   "cell_type": "code",
   "execution_count": null,
   "id": "faec5d99",
   "metadata": {},
   "outputs": [],
   "source": [
    "model.predict(X_test = predict.iloc[:, 7:24])"
   ]
  },
  {
   "cell_type": "code",
   "execution_count": null,
   "id": "0942f965",
   "metadata": {},
   "outputs": [],
   "source": [
    "model.predict(X_test)"
   ]
  },
  {
   "cell_type": "code",
   "execution_count": null,
   "id": "fd56cb09",
   "metadata": {},
   "outputs": [],
   "source": [
    "X_test = predict.iloc[:, 7:24]"
   ]
  },
  {
   "cell_type": "code",
   "execution_count": null,
   "id": "9786f478",
   "metadata": {},
   "outputs": [],
   "source": [
    "model.predict(X_test)"
   ]
  },
  {
   "cell_type": "code",
   "execution_count": null,
   "id": "df525083",
   "metadata": {},
   "outputs": [],
   "source": [
    "X_test = predict.iloc[:, 7:24]"
   ]
  },
  {
   "cell_type": "code",
   "execution_count": null,
   "id": "16737221",
   "metadata": {},
   "outputs": [],
   "source": [
    "model.predict(X_test)"
   ]
  },
  {
   "cell_type": "code",
   "execution_count": null,
   "id": "f1ed83ef",
   "metadata": {
    "lines_to_next_cell": 2
   },
   "outputs": [],
   "source": [
    "X_test"
   ]
  }
 ],
 "metadata": {
  "jupytext": {
   "cell_metadata_filter": "-all",
   "main_language": "python",
   "notebook_metadata_filter": "-all"
  }
 },
 "nbformat": 4,
 "nbformat_minor": 5
}
