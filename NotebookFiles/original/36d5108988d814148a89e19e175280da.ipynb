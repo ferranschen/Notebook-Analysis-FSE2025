{
 "cells": [
  {
   "cell_type": "code",
   "execution_count": null,
   "id": "4c75e1f6",
   "metadata": {},
   "outputs": [],
   "source": [
    "get_ipython().system('pip install google-cloud-bigquery')\n",
    "get_ipython().system('pip install google-cloud-bigquery[pandas]')\n",
    "get_ipython().system('python3 -m pip install google.cloud')\n",
    "get_ipython().system('python3 -m pip install pandas')\n",
    "get_ipython().system('python3 -m pip install numpy')\n",
    "get_ipython().system('python3 -m pip install scikit-learn')\n",
    "get_ipython().system('python3 -m pip install plotly')"
   ]
  },
  {
   "cell_type": "code",
   "execution_count": null,
   "id": "45e8db47",
   "metadata": {},
   "outputs": [],
   "source": [
    "import csv\n",
    "import pandas as pd\n",
    "import numpy as np\n",
    "from google.cloud import bigquery\n",
    "from google.oauth2 import service_account\n",
    "from google.cloud.bigquery import magics\n",
    "from sklearn.model_selection import train_test_split \n",
    "from sklearn.linear_model import LinearRegression\n",
    "from sklearn import metrics\n",
    "import matplotlib.pyplot as plt  \n",
    "import os\n",
    "import seaborn as sns\n",
    "from pandas import Series, DataFrame"
   ]
  },
  {
   "cell_type": "code",
   "execution_count": null,
   "id": "b60d16e0",
   "metadata": {},
   "outputs": [],
   "source": [
    "get_ipython().run_cell_magic('capture', '', \"%logstop\\n%logstart -t -r -q ipython_command_log.py global\\n\\n#- IRONHACKS RESEARCH TRACKING CODE\\n#----------------------------------\\n# The following code is used to help our research team understand how you \\n# our notebook environment. We do not collect any personal information with\\n# the following code, it is used to measure when and how often you work on\\n# your submission files.\\n\\nimport os\\nfrom datetime import datetime\\nimport IPython.core.history as history\\n\\nha = history.HistoryAccessor()\\nha_tail = ha.get_tail(1)\\nha_cmd = next(ha_tail)\\nsession_id = str(ha_cmd[0])\\ncommand_id = str(ha_cmd[1])\\ntimestamp = datetime.utcnow().isoformat()\\nhistory_line = ','.join([session_id, command_id, timestamp]) + '\\\\n'\\nlogfile = open(os.environ['HOME']+'/ipython_session_log.csv', 'a')\\nlogfile.write(history_line)\\nlogfile.close()\\n\")"
   ]
  },
  {
   "cell_type": "code",
   "execution_count": null,
   "id": "c316ebe8",
   "metadata": {},
   "outputs": [],
   "source": [
    "BIGQUERY_PROJECT = 'ironhacks-data'\n",
    "bigquery_client = bigquery.Client(project=BIGQUERY_PROJECT)"
   ]
  },
  {
   "cell_type": "code",
   "execution_count": null,
   "id": "a075f804",
   "metadata": {},
   "outputs": [],
   "source": [
    "query = \"\"\"\n",
    "SELECT *\n",
    "FROM `ironhacks-data.ironhacks_competition.unemployment_data`\n",
    "\"\"\""
   ]
  },
  {
   "cell_type": "code",
   "execution_count": null,
   "id": "0acd16cc",
   "metadata": {},
   "outputs": [],
   "source": [
    "# QUERY THE DATA ONCE\n",
    "query_job = bigquery_client.query(query)\n",
    "unemployment_data = query_job.to_dataframe()\n",
    "unemployment_data.head()"
   ]
  },
  {
   "cell_type": "code",
   "execution_count": null,
   "id": "94d6c765",
   "metadata": {},
   "outputs": [],
   "source": [
    "query2 = \"\"\"\n",
    "SELECT *\n",
    "FROM `ironhacks-data.ironhacks_competition.wage_data`\n",
    "\"\"\""
   ]
  },
  {
   "cell_type": "code",
   "execution_count": null,
   "id": "c17a37b1",
   "metadata": {},
   "outputs": [],
   "source": [
    "# QUERY THE DATA ONCE\n",
    "query_job2 = bigquery_client.query(query2)\n",
    "wage_data = query_job2.to_dataframe()\n",
    "wage_data.head()"
   ]
  },
  {
   "cell_type": "code",
   "execution_count": null,
   "id": "87561095",
   "metadata": {},
   "outputs": [],
   "source": [
    "wage_data[wage_data.isnull().any(axis=1)]"
   ]
  },
  {
   "cell_type": "code",
   "execution_count": null,
   "id": "7b29161c",
   "metadata": {},
   "outputs": [],
   "source": [
    "wage_data2 = wage_data.fillna({'average_wage': wage_data.average_wage.mean()})\n",
    "wage_data2.head()"
   ]
  },
  {
   "cell_type": "code",
   "execution_count": null,
   "id": "2b3e53f9",
   "metadata": {},
   "outputs": [],
   "source": [
    "query3 = \"\"\"\n",
    "SELECT *\n",
    "FROM `ironhacks-data.ironhacks_competition.prediction_list`\n",
    "\"\"\""
   ]
  },
  {
   "cell_type": "code",
   "execution_count": null,
   "id": "66a43243",
   "metadata": {},
   "outputs": [],
   "source": [
    "# QUERY THE DATA ONCE\n",
    "query_job3 = bigquery_client.query(query3)\n",
    "prediction_list = query_job3.to_dataframe()\n",
    "prediction_list.head()"
   ]
  },
  {
   "cell_type": "code",
   "execution_count": null,
   "id": "353c1f39",
   "metadata": {},
   "outputs": [],
   "source": [
    "query = \"\"\"\n",
    "SELECT *\n",
    "FROM `ironhacks-data.ironhacks_competition.INFORMATION_SCHEMA.TABLES`\n",
    "\"\"\""
   ]
  },
  {
   "cell_type": "code",
   "execution_count": null,
   "id": "c97c0514",
   "metadata": {},
   "outputs": [],
   "source": [
    "# QUERY THE DATA ONCE\n",
    "query_job = bigquery_client.query(query)\n",
    "data = query_job.to_dataframe()\n",
    "data.head()"
   ]
  },
  {
   "cell_type": "code",
   "execution_count": null,
   "id": "0b965dc2",
   "metadata": {},
   "outputs": [],
   "source": [
    "#Merge the data\n",
    "unemployment_wage_data = pd.merge(unemployment_data, wage_data, on=['uu_id'], how='inner')\n",
    "unemployment_wage_data = unemployment_wage_data.drop(['countyfips_y', 'tract_y', 'tract_name_y'], axis=1)\n",
    "unemployment_wage_data = unemployment_wage_data.fillna(0)\n",
    "unemployment_wage_data.describe()"
   ]
  },
  {
   "cell_type": "code",
   "execution_count": null,
   "id": "30549927",
   "metadata": {},
   "outputs": [],
   "source": [
    "unemployment_wage_data.head()"
   ]
  },
  {
   "cell_type": "code",
   "execution_count": null,
   "id": "e151efb4",
   "metadata": {},
   "outputs": [],
   "source": [
    "#Check for duplicated rows\n",
    "duplicated_rows = sum(unemployment_wage_data.duplicated()) \n",
    "unemployment_wage_data = unemployment_wage_data.drop_duplicates()"
   ]
  },
  {
   "cell_type": "code",
   "execution_count": null,
   "id": "ca4552b9",
   "metadata": {},
   "outputs": [],
   "source": [
    "unemployment_wage_data[unemployment_wage_data.isnull().any(axis=1)]"
   ]
  },
  {
   "cell_type": "code",
   "execution_count": null,
   "id": "37b6a6b1",
   "metadata": {},
   "outputs": [],
   "source": [
    "#heat map for correlations\n",
    "plt.figure(figsize=(25,10))\n",
    "cor = unemployment_wage_data.corr()\n",
    "sns.heatmap(cor, annot=True, cmap=plt.cm.Reds) \n",
    "plt.show()"
   ]
  },
  {
   "cell_type": "code",
   "execution_count": null,
   "id": "7f5aebae",
   "metadata": {},
   "outputs": [],
   "source": [
    "unemployment_wage_data.columns"
   ]
  },
  {
   "cell_type": "code",
   "execution_count": null,
   "id": "36692a68",
   "metadata": {},
   "outputs": [],
   "source": [
    "unemployment_wage_data.dtypes"
   ]
  },
  {
   "cell_type": "code",
   "execution_count": null,
   "id": "50dfc992",
   "metadata": {},
   "outputs": [],
   "source": [
    "X = unemployment_wage_data.drop(['total_claims', 'week_number'], axis = 1)\n",
    "y = unemployment_wage_data.total_claims"
   ]
  },
  {
   "cell_type": "code",
   "execution_count": null,
   "id": "13e5316d",
   "metadata": {},
   "outputs": [],
   "source": [
    "uuid, label = unemployment_wage_data['uu_id'].factorize(sort=True)"
   ]
  },
  {
   "cell_type": "code",
   "execution_count": null,
   "id": "2b81580b",
   "metadata": {},
   "outputs": [],
   "source": [
    "X['uu_id'] = uuid"
   ]
  },
  {
   "cell_type": "code",
   "execution_count": null,
   "id": "a584dca7",
   "metadata": {},
   "outputs": [],
   "source": [
    "#convert data from string to float in order for random forest to work\n",
    "X['tract_name_x'] = X['tract_name_x'].factorize()[0]\n",
    "X['top_category_employer1'] = X['top_category_employer1'].factorize()[0]\n",
    "X['top_category_employer2'] = X['top_category_employer2'].factorize()[0]\n",
    "X['top_category_employer3'] = X['top_category_employer3'].factorize()[0]"
   ]
  },
  {
   "cell_type": "code",
   "execution_count": null,
   "id": "5cc417e8",
   "metadata": {},
   "outputs": [],
   "source": [
    "X_train, X_test, y_train, y_test = train_test_split(X, y, test_size=0.2, random_state=42)"
   ]
  },
  {
   "cell_type": "code",
   "execution_count": null,
   "id": "2bafbe86",
   "metadata": {},
   "outputs": [],
   "source": [
    "from sklearn.ensemble import RandomForestRegressor\n",
    "rf = RandomForestRegressor(n_estimators=1000, random_state=42)\n",
    "rf.fit(X_train, y_train)"
   ]
  },
  {
   "cell_type": "code",
   "execution_count": null,
   "id": "9bbc8bd8",
   "metadata": {},
   "outputs": [],
   "source": [
    "rf.score(X_test, y_test)"
   ]
  },
  {
   "cell_type": "code",
   "execution_count": null,
   "id": "5cadb3fd",
   "metadata": {},
   "outputs": [],
   "source": [
    "prediction_list"
   ]
  },
  {
   "cell_type": "code",
   "execution_count": null,
   "id": "4a5dd4da",
   "metadata": {},
   "outputs": [],
   "source": [
    "for col in X.columns[2:]:\n",
    "    li = []\n",
    "    for i in prediction_list['uu_id']:\n",
    "        li.append(X.loc[X['uu_id'] == i, col].mean())\n",
    "    prediction_list[col] = li"
   ]
  },
  {
   "cell_type": "code",
   "execution_count": null,
   "id": "8b22b46f",
   "metadata": {},
   "outputs": [],
   "source": [
    "prediction_list"
   ]
  },
  {
   "cell_type": "code",
   "execution_count": null,
   "id": "8b78a527",
   "metadata": {},
   "outputs": [],
   "source": [
    "prediction_list"
   ]
  },
  {
   "cell_type": "code",
   "execution_count": null,
   "id": "0bd048ac",
   "metadata": {},
   "outputs": [],
   "source": [
    "prediction_list['uu_id'] = prediction_list['uu_id'].factorize(sort=True)[0]"
   ]
  },
  {
   "cell_type": "code",
   "execution_count": null,
   "id": "26c8dc23",
   "metadata": {},
   "outputs": [],
   "source": [
    "X['uu_id'] = label[X[\"uu_id\"]]\n",
    "X"
   ]
  },
  {
   "cell_type": "code",
   "execution_count": null,
   "id": "be7eeb18",
   "metadata": {},
   "outputs": [],
   "source": [
    "for col in X.columns[2:]:\n",
    "    li = []\n",
    "    for i in prediction_list['uu_id']:\n",
    "        li.append(X.loc[X['uu_id'] == i, col].mean())\n",
    "    prediction_list[col] = li"
   ]
  },
  {
   "cell_type": "code",
   "execution_count": null,
   "id": "d81e9d0f",
   "metadata": {},
   "outputs": [],
   "source": [
    "prediction_list"
   ]
  },
  {
   "cell_type": "code",
   "execution_count": null,
   "id": "2173a1fe",
   "metadata": {},
   "outputs": [],
   "source": [
    "prediction_list"
   ]
  },
  {
   "cell_type": "code",
   "execution_count": null,
   "id": "79e2cd7f",
   "metadata": {},
   "outputs": [],
   "source": [
    "prediction_list['uu_id'] = prediction_list['uu_id'].factorize(sort=True)[0]"
   ]
  },
  {
   "cell_type": "code",
   "execution_count": null,
   "id": "1efbc715",
   "metadata": {},
   "outputs": [],
   "source": [
    "claims_predict = rf.predict(prediction_list)\n",
    "claims_predict"
   ]
  },
  {
   "cell_type": "code",
   "execution_count": null,
   "id": "992b5e86",
   "metadata": {},
   "outputs": [],
   "source": [
    "submission_df = pd.DataFrame()"
   ]
  },
  {
   "cell_type": "code",
   "execution_count": null,
   "id": "22f66c36",
   "metadata": {},
   "outputs": [],
   "source": [
    "submission_df[\"uu_id\"] = prediction_list[\"uu_id\"]\n",
    "submission_df[\"week_number\"] = prediction_list[\"week_number\"]\n",
    "submission_df[\"total_claims\"] = claims_predict"
   ]
  },
  {
   "cell_type": "code",
   "execution_count": null,
   "id": "68eb7249",
   "metadata": {},
   "outputs": [],
   "source": [
    "X['uu_id'] = label[X[\"uu_id\"]]"
   ]
  },
  {
   "cell_type": "code",
   "execution_count": null,
   "id": "0719b2c7",
   "metadata": {},
   "outputs": [],
   "source": [
    "for col in X.columns[2:]:\n",
    "    li = []\n",
    "    for i in prediction_list['uu_id']:\n",
    "        li.append(X.loc[X['uu_id'] == i, col].mean())\n",
    "    prediction_list[col] = li"
   ]
  },
  {
   "cell_type": "code",
   "execution_count": null,
   "id": "e8738d73",
   "metadata": {},
   "outputs": [],
   "source": [
    "prediction_list"
   ]
  },
  {
   "cell_type": "code",
   "execution_count": null,
   "id": "cc1b555f",
   "metadata": {},
   "outputs": [],
   "source": [
    "prediction_list"
   ]
  },
  {
   "cell_type": "code",
   "execution_count": null,
   "id": "12d1fab2",
   "metadata": {},
   "outputs": [],
   "source": [
    "X['uu_id'] = label[X[\"uu_id\"]]\n",
    "X"
   ]
  },
  {
   "cell_type": "code",
   "execution_count": null,
   "id": "269efde9",
   "metadata": {},
   "outputs": [],
   "source": [
    "X['uu_id'] = label[X[\"uu_id\"]]\n",
    "X"
   ]
  },
  {
   "cell_type": "code",
   "execution_count": null,
   "id": "7413b132",
   "metadata": {},
   "outputs": [],
   "source": [
    "for col in X.columns[2:]:\n",
    "    li = []\n",
    "    for i in prediction_list['uu_id']:\n",
    "        li.append(X.loc[X['uu_id'] == i, col].mean())\n",
    "    prediction_list[col] = li"
   ]
  },
  {
   "cell_type": "code",
   "execution_count": null,
   "id": "7a0509ec",
   "metadata": {},
   "outputs": [],
   "source": [
    "prediction_list"
   ]
  },
  {
   "cell_type": "code",
   "execution_count": null,
   "id": "91a85d3e",
   "metadata": {},
   "outputs": [],
   "source": [
    "for col in X.columns[1:]:\n",
    "    li = []\n",
    "    for i in prediction_list['uu_id']:\n",
    "        li.append(X.loc[X['uu_id'] == i, col].mean())\n",
    "    prediction_list[col] = li"
   ]
  },
  {
   "cell_type": "code",
   "execution_count": null,
   "id": "2c059090",
   "metadata": {},
   "outputs": [],
   "source": [
    "prediction_list"
   ]
  },
  {
   "cell_type": "code",
   "execution_count": null,
   "id": "932892f1",
   "metadata": {},
   "outputs": [],
   "source": [
    "for col in X.columns[10:]:\n",
    "    li = []\n",
    "    for i in prediction_list['uu_id']:\n",
    "        li.append(X.loc[X['uu_id'] == i, col].mean())\n",
    "    prediction_list[col] = li"
   ]
  },
  {
   "cell_type": "code",
   "execution_count": null,
   "id": "317b6bfd",
   "metadata": {},
   "outputs": [],
   "source": [
    "prediction_list"
   ]
  },
  {
   "cell_type": "code",
   "execution_count": null,
   "id": "081aeb6a",
   "metadata": {},
   "outputs": [],
   "source": [
    "for col in X.columns[2:]:\n",
    "    li = []\n",
    "    for i in prediction_list['uu_id']:\n",
    "        li.append(X.loc[X['uu_id'] == i, col].mean())\n",
    "    prediction_list[col] = li"
   ]
  },
  {
   "cell_type": "code",
   "execution_count": null,
   "id": "1ed7532b",
   "metadata": {},
   "outputs": [],
   "source": [
    "prediction_list"
   ]
  },
  {
   "cell_type": "code",
   "execution_count": null,
   "id": "f2707a8e",
   "metadata": {},
   "outputs": [],
   "source": [
    "for col in X.columns[2:]:\n",
    "    li = []\n",
    "    for i in prediction_list['uu_id']:\n",
    "        li.append(X.loc[X['uu_id'] == i, col].mean())\n",
    "    pred_list[col] = li\n",
    "prediction_list"
   ]
  },
  {
   "cell_type": "code",
   "execution_count": null,
   "id": "faba727a",
   "metadata": {},
   "outputs": [],
   "source": [
    "for col in X.columns[2:]:\n",
    "    li = []\n",
    "    for i in prediction_list['uu_id']:\n",
    "        li.append(X.loc[X['uu_id'] == i, col].mean())\n",
    "    prediction_list[col] = li\n",
    "prediction_list"
   ]
  },
  {
   "cell_type": "code",
   "execution_count": null,
   "id": "29892a1f",
   "metadata": {},
   "outputs": [],
   "source": [
    "prediction_list['uu_id'] = prediction_list['uu_id'].factorize(sort=True)[0]"
   ]
  },
  {
   "cell_type": "code",
   "execution_count": null,
   "id": "91ef848b",
   "metadata": {},
   "outputs": [],
   "source": [
    "claims_predict = rf.predict(prediction_list)\n",
    "claims_predict"
   ]
  },
  {
   "cell_type": "code",
   "execution_count": null,
   "id": "1f6f5d30",
   "metadata": {},
   "outputs": [],
   "source": [
    "submission_df = pd.DataFrame()"
   ]
  },
  {
   "cell_type": "code",
   "execution_count": null,
   "id": "5d2af2eb",
   "metadata": {},
   "outputs": [],
   "source": [
    "submission_df[\"uu_id\"] = prediction_list[\"uu_id\"]\n",
    "submission_df[\"week_number\"] = prediction_list[\"week_number\"]\n",
    "submission_df[\"total_claims\"] = claims_predict"
   ]
  },
  {
   "cell_type": "code",
   "execution_count": null,
   "id": "977b3d37",
   "metadata": {},
   "outputs": [],
   "source": [
    "submission_df"
   ]
  },
  {
   "cell_type": "code",
   "execution_count": null,
   "id": "851df500",
   "metadata": {},
   "outputs": [],
   "source": [
    "prediction_list"
   ]
  },
  {
   "cell_type": "code",
   "execution_count": null,
   "id": "ba2023a5",
   "metadata": {},
   "outputs": [],
   "source": [
    "prediction_list"
   ]
  },
  {
   "cell_type": "code",
   "execution_count": null,
   "id": "2b52c612",
   "metadata": {},
   "outputs": [],
   "source": [
    "for col in X.columns[2:]:\n",
    "    li = []\n",
    "    for i in prediction_list['uu_id']:\n",
    "        li.append(X.loc[X['uu_id'] == i, col].mean())\n",
    "    prediction_list[col] = li\n",
    "prediction_list"
   ]
  },
  {
   "cell_type": "code",
   "execution_count": null,
   "id": "c618d636",
   "metadata": {},
   "outputs": [],
   "source": [
    "X['tract_name_x'] = X['tract_name_x'].factorize()[0]\n",
    "X['top_category_employer1'] = X['top_category_employer1'].factorize()[0]\n",
    "X['top_category_employer2'] = X['top_category_employer2'].factorize()[0]\n",
    "X['top_category_employer3'] = X['top_category_employer3'].factorize()[0]"
   ]
  },
  {
   "cell_type": "code",
   "execution_count": null,
   "id": "978c9505",
   "metadata": {},
   "outputs": [],
   "source": [
    "X_train, X_test, y_train, y_test = train_test_split(X, y, test_size=0.2, random_state=42)"
   ]
  },
  {
   "cell_type": "code",
   "execution_count": null,
   "id": "9ec262b0",
   "metadata": {
    "lines_to_next_cell": 2
   },
   "outputs": [],
   "source": [
    "from sklearn.ensemble import RandomForestRegressor\n",
    "rf = RandomForestRegressor(n_estimators=1000, random_state=42)\n",
    "rf.fit(X_train, y_train)"
   ]
  }
 ],
 "metadata": {
  "jupytext": {
   "cell_metadata_filter": "-all",
   "main_language": "python",
   "notebook_metadata_filter": "-all"
  }
 },
 "nbformat": 4,
 "nbformat_minor": 5
}
