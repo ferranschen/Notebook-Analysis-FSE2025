{
 "cells": [
  {
   "cell_type": "markdown",
   "id": "e84f3b63",
   "metadata": {},
   "source": [
    "- IMPORT THE LIBRARIES YOU WILL USE\n",
    "------------------------------------------\n",
    "You only need to import packages one time per notebook session. To keep your\n",
    "notebook clean and organized you can handle all imports at the top of your file.\n",
    "The following are included for example purposed, feel free to modify or delete \n",
    "anything in this section."
   ]
  },
  {
   "cell_type": "code",
   "execution_count": null,
   "id": "d43f57b2",
   "metadata": {},
   "outputs": [],
   "source": [
    "import csv\n",
    "import pandas as pd\n",
    "import numpy as np\n",
    "import matplotlib\n",
    "import matplotlib.pyplot as plt\n",
    "import seaborn as sns\n",
    "get_ipython().run_line_magic('matplotlib', 'inline')\n",
    "from sklearn.model_selection import train_test_split \n",
    "from sklearn.linear_model import LinearRegression\n",
    "from sklearn import metrics"
   ]
  },
  {
   "cell_type": "code",
   "execution_count": null,
   "id": "2a852845",
   "metadata": {},
   "outputs": [],
   "source": [
    "from google.cloud import bigquery\n",
    "from google.oauth2 import service_account\n",
    "from google.cloud.bigquery import magics"
   ]
  },
  {
   "cell_type": "code",
   "execution_count": null,
   "id": "50a611b9",
   "metadata": {},
   "outputs": [],
   "source": [
    "query = \"\"\"\n",
    "SELECT *\n",
    "FROM `ironhacks-data.ironhacks_competition.unemployment_data` \n",
    "\"\"\""
   ]
  },
  {
   "cell_type": "code",
   "execution_count": null,
   "id": "7ad043e1",
   "metadata": {},
   "outputs": [],
   "source": [
    "# QUERY THE DATA ONCE\n",
    "query_job = bigquery_client.query(query)\n",
    "unemployment_data = query_job.to_dataframe()\n",
    "unemployment_data.head(5)\n",
    "print(unemployment_data.columns)\n",
    "9/59:\n",
    "#SPLIT training set"
   ]
  },
  {
   "cell_type": "code",
   "execution_count": null,
   "id": "28481286",
   "metadata": {},
   "outputs": [],
   "source": [
    "x = df['edu_post_hs'].values.reshape(-1,1)\n",
    "y = df['total_claims'].values.reshape(-1,1)\n",
    "9/60:\n",
    "#SPLIT training set"
   ]
  },
  {
   "cell_type": "code",
   "execution_count": null,
   "id": "1b312bde",
   "metadata": {},
   "outputs": [],
   "source": [
    "X = df['edu_post_hs'].values.reshape(-1,1)\n",
    "Y = df['total_claims'].values.reshape(-1,1)\n",
    "9/61: X_train, X_test, y_train, y_test = train_test_split(X, y, test_size=0.2, random_state=0)\n",
    "9/62:\n",
    "regressor = LinearRegression()  \n",
    "regressor.fit(X_train, y_train)\n",
    "9/63:\n",
    "#To retrieve the intercept:\n",
    "print(regressor.intercept_)"
   ]
  },
  {
   "cell_type": "code",
   "execution_count": null,
   "id": "b75f2af0",
   "metadata": {},
   "outputs": [],
   "source": [
    "#For retrieving the slope:\n",
    "print(regressor.coef_)\n",
    "9/64: y_pred = regressor.predict(X_test)\n",
    "9/65:\n",
    "df2 = pd.DataFrame({'Actual': y_test.flatten(), 'Predicted': y_pred.flatten()})\n",
    "df2"
   ]
  },
  {
   "cell_type": "code",
   "execution_count": null,
   "id": "f900550a",
   "metadata": {},
   "outputs": [],
   "source": [
    "query = \"\"\"\n",
    "SELECT *\n",
    "FROM `ironhacks-data.ironhacks_competition.unemployment_data` \n",
    "\"\"\""
   ]
  },
  {
   "cell_type": "code",
   "execution_count": null,
   "id": "7b904db5",
   "metadata": {},
   "outputs": [],
   "source": [
    "# QUERY THE DATA ONCE\n",
    "query_job = bigquery_client.query(query)\n",
    "unemployment_data = query_job.to_dataframe()\n",
    "unemployment_data.head(5)\n",
    "print(unemployment_data.columns)"
   ]
  },
  {
   "cell_type": "markdown",
   "id": "6edfe189",
   "metadata": {},
   "source": [
    "CONFIGURE THE BIGQUERY SETTINGS"
   ]
  },
  {
   "cell_type": "code",
   "execution_count": null,
   "id": "cd220cc8",
   "metadata": {},
   "outputs": [],
   "source": [
    "BIGQUERY_PROJECT = 'ironhacks-data'\n",
    "bigquery_client = bigquery.Client(project=BIGQUERY_PROJECT)"
   ]
  },
  {
   "cell_type": "code",
   "execution_count": null,
   "id": "3914e012",
   "metadata": {},
   "outputs": [],
   "source": [
    "query = \"\"\"\n",
    "SELECT *\n",
    "FROM `ironhacks-data.ironhacks_competition.unemployment_data` \n",
    "\"\"\""
   ]
  },
  {
   "cell_type": "code",
   "execution_count": null,
   "id": "f7a5d06e",
   "metadata": {},
   "outputs": [],
   "source": [
    "# QUERY THE DATA ONCE\n",
    "query_job = bigquery_client.query(query)\n",
    "unemployment_data = query_job.to_dataframe()\n",
    "unemployment_data.head(5)\n",
    "print(unemployment_data.columns)"
   ]
  },
  {
   "cell_type": "code",
   "execution_count": null,
   "id": "631dba14",
   "metadata": {},
   "outputs": [],
   "source": [
    "df = unemployment_data.dropna()"
   ]
  },
  {
   "cell_type": "markdown",
   "id": "d2a849c7",
   "metadata": {},
   "source": [
    "SPLIT training set"
   ]
  },
  {
   "cell_type": "code",
   "execution_count": null,
   "id": "8c8f7ba6",
   "metadata": {},
   "outputs": [],
   "source": [
    "x = df['edu_post_hs'].values.reshape(-1,1)\n",
    "y = df['total_claims'].values.reshape(-1,1)\n",
    "9/60:\n",
    "#SPLIT training set"
   ]
  },
  {
   "cell_type": "code",
   "execution_count": null,
   "id": "0213182e",
   "metadata": {},
   "outputs": [],
   "source": [
    "X = df['edu_post_hs'].values.reshape(-1,1)\n",
    "Y = df['total_claims'].values.reshape(-1,1)\n",
    "9/61: X_train, X_test, y_train, y_test = train_test_split(X, y, test_size=0.2, random_state=0)\n",
    "9/62:\n",
    "regressor = LinearRegression()  \n",
    "regressor.fit(X_train, y_train)\n",
    "9/63:\n",
    "#To retrieve the intercept:\n",
    "print(regressor.intercept_)"
   ]
  },
  {
   "cell_type": "code",
   "execution_count": null,
   "id": "f9d78b38",
   "metadata": {},
   "outputs": [],
   "source": [
    "#For retrieving the slope:\n",
    "print(regressor.coef_)\n",
    "9/64: y_pred = regressor.predict(X_test)\n",
    "9/65:\n",
    "df2 = pd.DataFrame({'Actual': y_test.flatten(), 'Predicted': y_pred.flatten()})\n",
    "df2"
   ]
  },
  {
   "cell_type": "markdown",
   "id": "8571c1cc",
   "metadata": {},
   "source": [
    "SPLIT training set"
   ]
  },
  {
   "cell_type": "code",
   "execution_count": null,
   "id": "7007e166",
   "metadata": {},
   "outputs": [],
   "source": [
    "x = df['edu_post_hs'].values.reshape(-1,1)\n",
    "y = df['total_claims'].values.reshape(-1,1)"
   ]
  },
  {
   "cell_type": "markdown",
   "id": "6d50256d",
   "metadata": {},
   "source": [
    "SPLIT training set"
   ]
  },
  {
   "cell_type": "code",
   "execution_count": null,
   "id": "0520151d",
   "metadata": {},
   "outputs": [],
   "source": [
    "X = df['edu_post_hs'].values.reshape(-1,1)\n",
    "Y = df['total_claims'].values.reshape(-1,1)\n",
    "X_train, X_test, y_train, y_test = train_test_split(X, y, test_size=0.2, random_state=0)"
   ]
  },
  {
   "cell_type": "code",
   "execution_count": null,
   "id": "4949d006",
   "metadata": {},
   "outputs": [],
   "source": [
    "regressor = LinearRegression()  \n",
    "regressor.fit(X_train, y_train)"
   ]
  },
  {
   "cell_type": "code",
   "execution_count": null,
   "id": "fb5ddbe3",
   "metadata": {},
   "outputs": [],
   "source": [
    "#To retrieve the intercept:\n",
    "print(regressor.intercept_)"
   ]
  },
  {
   "cell_type": "code",
   "execution_count": null,
   "id": "3672194f",
   "metadata": {},
   "outputs": [],
   "source": [
    "#For retrieving the slope:\n",
    "print(regressor.coef_)\n",
    " y_pred = regressor.predict(X_test)"
   ]
  },
  {
   "cell_type": "markdown",
   "id": "bf8965fc",
   "metadata": {},
   "source": [
    "SPLIT training set"
   ]
  },
  {
   "cell_type": "code",
   "execution_count": null,
   "id": "4b8ce760",
   "metadata": {},
   "outputs": [],
   "source": [
    "x = df['edu_post_hs'].values.reshape(-1,1)\n",
    "y = df['total_claims'].values.reshape(-1,1)"
   ]
  },
  {
   "cell_type": "markdown",
   "id": "bb767d4b",
   "metadata": {},
   "source": [
    "SPLIT training set"
   ]
  },
  {
   "cell_type": "code",
   "execution_count": null,
   "id": "2479d50d",
   "metadata": {},
   "outputs": [],
   "source": [
    "X = df['edu_post_hs'].values.reshape(-1,1)\n",
    "Y = df['total_claims'].values.reshape(-1,1)\n",
    "X_train, X_test, y_train, y_test = train_test_split(X, y, test_size=0.2, random_state=0)"
   ]
  },
  {
   "cell_type": "code",
   "execution_count": null,
   "id": "fb0e9d82",
   "metadata": {},
   "outputs": [],
   "source": [
    "regressor = LinearRegression()  \n",
    "regressor.fit(X_train, y_train)"
   ]
  },
  {
   "cell_type": "code",
   "execution_count": null,
   "id": "6feaeb3f",
   "metadata": {},
   "outputs": [],
   "source": [
    "#To retrieve the intercept:\n",
    "print(regressor.intercept_)"
   ]
  },
  {
   "cell_type": "code",
   "execution_count": null,
   "id": "a39d024c",
   "metadata": {},
   "outputs": [],
   "source": [
    "#For retrieving the slope:\n",
    "print(regressor.coef_)\n",
    " y_pred = regressor.predict(X_test)"
   ]
  },
  {
   "cell_type": "markdown",
   "id": "0f1b67d6",
   "metadata": {},
   "source": [
    "SPLIT training set"
   ]
  },
  {
   "cell_type": "code",
   "execution_count": null,
   "id": "19d2c06a",
   "metadata": {},
   "outputs": [],
   "source": [
    "x = df['edu_post_hs'].values.reshape(-1,1)\n",
    "y = df['total_claims'].values.reshape(-1,1)"
   ]
  },
  {
   "cell_type": "markdown",
   "id": "00f92a28",
   "metadata": {},
   "source": [
    "SPLIT training set"
   ]
  },
  {
   "cell_type": "code",
   "execution_count": null,
   "id": "47460c15",
   "metadata": {},
   "outputs": [],
   "source": [
    "X = df['edu_post_hs'].values.reshape(-1,1)\n",
    "Y = df['total_claims'].values.reshape(-1,1)\n",
    "X_train, X_test, y_train, y_test = train_test_split(X, y, test_size=0.2, random_state=0)"
   ]
  },
  {
   "cell_type": "code",
   "execution_count": null,
   "id": "d892a90d",
   "metadata": {},
   "outputs": [],
   "source": [
    "regressor = LinearRegression()  \n",
    "regressor.fit(X_train, y_train)"
   ]
  },
  {
   "cell_type": "code",
   "execution_count": null,
   "id": "72ad7841",
   "metadata": {},
   "outputs": [],
   "source": [
    "#To retrieve the intercept:\n",
    "print(regressor.intercept_)"
   ]
  },
  {
   "cell_type": "code",
   "execution_count": null,
   "id": "fe4c93c2",
   "metadata": {},
   "outputs": [],
   "source": [
    "#For retrieving the slope:\n",
    "print(regressor.coef_)\n",
    "y_pred = regressor.predict(X_test)"
   ]
  },
  {
   "cell_type": "code",
   "execution_count": null,
   "id": "90ab03e1",
   "metadata": {},
   "outputs": [],
   "source": [
    "df2 = pd.DataFrame({'Actual': y_test.flatten(), 'Predicted': y_pred.flatten()})\n",
    "df2"
   ]
  },
  {
   "cell_type": "code",
   "execution_count": null,
   "id": "780313b0",
   "metadata": {
    "lines_to_next_cell": 2
   },
   "outputs": [],
   "source": [
    "df2 = pd.DataFrame({'Actual': y_test, 'Predicted': y_pred.flatten()})\n",
    "df2"
   ]
  }
 ],
 "metadata": {
  "jupytext": {
   "cell_metadata_filter": "-all",
   "main_language": "python",
   "notebook_metadata_filter": "-all"
  }
 },
 "nbformat": 4,
 "nbformat_minor": 5
}
