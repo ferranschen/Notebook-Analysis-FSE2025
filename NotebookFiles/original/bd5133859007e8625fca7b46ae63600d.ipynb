{
 "cells": [
  {
   "cell_type": "code",
   "execution_count": null,
   "id": "e7d70ce8",
   "metadata": {},
   "outputs": [],
   "source": [
    "#Code for BigQuery\n",
    "BIGQUERY_PROJECT = 'ironhacks-data'\n",
    "bigquery_client = bigquery.Client(project=BIGQUERY_PROJECT)"
   ]
  },
  {
   "cell_type": "code",
   "execution_count": null,
   "id": "822861cd",
   "metadata": {},
   "outputs": [],
   "source": [
    "#importing libraries\n",
    "import numpy as np\n",
    "import matplotlib.pyplot as plt\n",
    "import pandas as pd\n",
    "from google.cloud import bigquery\n",
    "from google.oauth2 import service_account\n",
    "from google.cloud.bigquery import magics"
   ]
  },
  {
   "cell_type": "code",
   "execution_count": null,
   "id": "7ea55bd9",
   "metadata": {},
   "outputs": [],
   "source": [
    "#Code for BigQuery\n",
    "BIGQUERY_PROJECT = 'ironhacks-data'\n",
    "bigquery_client = bigquery.Client(project=BIGQUERY_PROJECT)"
   ]
  },
  {
   "cell_type": "code",
   "execution_count": null,
   "id": "07eaacea",
   "metadata": {
    "lines_to_next_cell": 2
   },
   "outputs": [],
   "source": [
    "#Query Unemployment data\n",
    "query = \"\"\"\n",
    "SELECT *\n",
    "FROM `ironhacks-data.ironhacks_competition.unemployment_data`\n",
    "order by uu_id\n",
    "\"\"\""
   ]
  },
  {
   "cell_type": "code",
   "execution_count": null,
   "id": "d8903eb0",
   "metadata": {},
   "outputs": [],
   "source": [
    "# QUERY THE DATA ONCE\n",
    "query_job = bigquery_client.query(query)\n",
    "unemployment_data = query_job.to_dataframe()\n",
    "unemployment_data.head()"
   ]
  },
  {
   "cell_type": "code",
   "execution_count": null,
   "id": "f74fb09f",
   "metadata": {
    "lines_to_next_cell": 2
   },
   "outputs": [],
   "source": [
    "#Query Unemployment data\n",
    "query = \"\"\"\n",
    "SELECT *\n",
    "FROM `ironhacks-data.ironhacks_competition.unemployment_data`\n",
    "order by uu_id and week_number\n",
    "\n",
    "\"\"\""
   ]
  },
  {
   "cell_type": "code",
   "execution_count": null,
   "id": "28e5ca51",
   "metadata": {},
   "outputs": [],
   "source": [
    "# QUERY THE DATA ONCE\n",
    "query_job = bigquery_client.query(query)\n",
    "unemployment_data = query_job.to_dataframe()\n",
    "unemployment_data.head()"
   ]
  },
  {
   "cell_type": "code",
   "execution_count": null,
   "id": "192c5c12",
   "metadata": {
    "lines_to_next_cell": 2
   },
   "outputs": [],
   "source": [
    "#Query Unemployment data\n",
    "query = \"\"\"\n",
    "SELECT *\n",
    "FROM `ironhacks-data.ironhacks_competition.unemployment_data`\n",
    "order by uu_id, week_number\n",
    "\n",
    "\"\"\""
   ]
  },
  {
   "cell_type": "code",
   "execution_count": null,
   "id": "aef76620",
   "metadata": {},
   "outputs": [],
   "source": [
    "# QUERY THE DATA ONCE\n",
    "query_job = bigquery_client.query(query)\n",
    "unemployment_data = query_job.to_dataframe()\n",
    "unemployment_data.head()"
   ]
  },
  {
   "cell_type": "code",
   "execution_count": null,
   "id": "0534b999",
   "metadata": {
    "lines_to_next_cell": 2
   },
   "outputs": [],
   "source": [
    "#Query Unemployment data\n",
    "query = \"\"\"\n",
    "SELECT *\n",
    "FROM `ironhacks-data.ironhacks_competition.unemployment_data`\n",
    "order by uu_id, week_number\n",
    "\n",
    "\"\"\""
   ]
  },
  {
   "cell_type": "code",
   "execution_count": null,
   "id": "a743fc5b",
   "metadata": {},
   "outputs": [],
   "source": [
    "# QUERY THE DATA ONCE\n",
    "query_job = bigquery_client.query(query)\n",
    "unemployment_data = query_job.to_dataframe()\n",
    "unemployment_data.head(38)"
   ]
  },
  {
   "cell_type": "code",
   "execution_count": null,
   "id": "606cbf5b",
   "metadata": {
    "lines_to_next_cell": 2
   },
   "outputs": [],
   "source": [
    "#Query Unemployment data\n",
    "query = \"\"\"\n",
    "SELECT *\n",
    "FROM `ironhacks-data.ironhacks_competition.unemployment_data`\n",
    "order by tract, week_number\n",
    "\n",
    "\"\"\""
   ]
  },
  {
   "cell_type": "code",
   "execution_count": null,
   "id": "11749699",
   "metadata": {},
   "outputs": [],
   "source": [
    "# QUERY THE DATA ONCE\n",
    "query_job = bigquery_client.query(query)\n",
    "unemployment_data = query_job.to_dataframe()\n",
    "unemployment_data.head(38)"
   ]
  },
  {
   "cell_type": "code",
   "execution_count": null,
   "id": "52a4f853",
   "metadata": {},
   "outputs": [],
   "source": [
    "#importing libraries\n",
    "import numpy as np\n",
    "import matplotlib.pyplot as plt\n",
    "import pandas as pd\n",
    "from google.cloud import bigquery\n",
    "from google.oauth2 import service_account\n",
    "from google.cloud.bigquery import magics\n",
    "import csv"
   ]
  },
  {
   "cell_type": "code",
   "execution_count": null,
   "id": "1e417238",
   "metadata": {
    "lines_to_next_cell": 2
   },
   "outputs": [],
   "source": [
    "#Query Unemployment data\n",
    "query = \"\"\"\n",
    "SELECT *\n",
    "FROM `ironhacks-data.ironhacks_competition.unemployment_data`\n",
    "order by tract, week_number\n",
    "\n",
    "\"\"\""
   ]
  },
  {
   "cell_type": "code",
   "execution_count": null,
   "id": "9fc66d4e",
   "metadata": {},
   "outputs": [],
   "source": [
    "# QUERY THE DATA ONCE\n",
    "query_job = bigquery_client.query(query)\n",
    "unemployment_data = query_job.to_dataframe()\n",
    "unemployment_data.to_csv()"
   ]
  },
  {
   "cell_type": "code",
   "execution_count": null,
   "id": "feb6a303",
   "metadata": {
    "lines_to_next_cell": 2
   },
   "outputs": [],
   "source": [
    "#Query Unemployment data\n",
    "query = \"\"\"\n",
    "SELECT *\n",
    "FROM `ironhacks-data.ironhacks_competition.unemployment_data`\n",
    "order by tract, week_number\n",
    "\n",
    "\"\"\""
   ]
  },
  {
   "cell_type": "code",
   "execution_count": null,
   "id": "bfeb669f",
   "metadata": {},
   "outputs": [],
   "source": [
    "# QUERY THE DATA ONCE\n",
    "query_job = bigquery_client.query(query)\n",
    "unemployment_data = query_job.to_dataframe()\n",
    "unemployment_data.to_csv('unempolyment_data_sub3.csv',index=False)"
   ]
  },
  {
   "cell_type": "code",
   "execution_count": null,
   "id": "afc780fb",
   "metadata": {},
   "outputs": [],
   "source": [
    "#Query Wage Data\n",
    "query2= \"\"\"\n",
    "SELECT *\n",
    "FROM `ironhacks-data.ironhacks_competition.wage_data`\n",
    "order by tract\n",
    "\"\"\""
   ]
  },
  {
   "cell_type": "code",
   "execution_count": null,
   "id": "77c469d2",
   "metadata": {},
   "outputs": [],
   "source": [
    "query_job = bigquery_client.query(query2)\n",
    "wage_data = query_job.to_dataframe()"
   ]
  },
  {
   "cell_type": "code",
   "execution_count": null,
   "id": "8a419676",
   "metadata": {
    "lines_to_next_cell": 2
   },
   "outputs": [],
   "source": [
    "#Query Unemployment data\n",
    "query = \"\"\"\n",
    "SELECT *\n",
    "FROM `ironhacks-data.ironhacks_competition.unemployment_data`\n",
    "order by tract, week_number\n",
    "\n",
    "\"\"\""
   ]
  },
  {
   "cell_type": "code",
   "execution_count": null,
   "id": "634865aa",
   "metadata": {},
   "outputs": [],
   "source": [
    "# QUERY THE DATA ONCE\n",
    "query_job = bigquery_client.query(query)\n",
    "unemployment_data = query_job.to_dataframe()\n",
    "unemployment_data.drop_duplicates()"
   ]
  },
  {
   "cell_type": "code",
   "execution_count": null,
   "id": "33cf4c2e",
   "metadata": {},
   "outputs": [],
   "source": [
    "get_ipython().run_cell_magic('capture', '', '\\n#Query Unemployment data\\nquery = \"\"\"\\nSELECT *\\nFROM `ironhacks-data.ironhacks_competition.unemployment_data`\\norder by tract, week_number\\n\\n\"\"\"\\n\\n\\n# QUERY THE DATA ONCE\\nquery_job = bigquery_client.query(query)\\nunemployment_data = query_job.to_dataframe()\\nunemployment_data.drop_duplicates()\\n')"
   ]
  },
  {
   "cell_type": "code",
   "execution_count": null,
   "id": "47061cd9",
   "metadata": {},
   "outputs": [],
   "source": [
    "get_ipython().run_cell_magic('capture', '', '\\n#Query Wage Data\\nquery2= \"\"\"\\nSELECT *\\nFROM `ironhacks-data.ironhacks_competition.wage_data`\\norder by tract\\n\"\"\"\\n\\nquery_job = bigquery_client.query(query2)\\nwage_data = query_job.to_dataframe()\\nwage_data.drop_duplicates()\\n')"
   ]
  },
  {
   "cell_type": "code",
   "execution_count": null,
   "id": "862a20e3",
   "metadata": {},
   "outputs": [],
   "source": [
    "wage_data.head()"
   ]
  },
  {
   "cell_type": "code",
   "execution_count": null,
   "id": "9694373d",
   "metadata": {},
   "outputs": [],
   "source": [
    "#Retain relevant columns and merge Data\n",
    "unemployment_data=unemployment_data.drop('timeperiod','countyfips','tract','tract_name','top_category_employer1','top_category_employer2','top_category_employer3')\n",
    "wage_data=wage_data.drop('countyfips','tract','tract_name')"
   ]
  },
  {
   "cell_type": "code",
   "execution_count": null,
   "id": "ed7f3d6a",
   "metadata": {},
   "outputs": [],
   "source": [
    "#Retain relevant columns and merge Data\n",
    "unemployment_data=unemployment_data.drop(columns=['timeperiod','countyfips','tract','tract_name','top_category_employer1','top_category_employer2','top_category_employer3'])\n",
    "wage_data=wage_data.drop(columns=['countyfips','tract','tract_name'])"
   ]
  },
  {
   "cell_type": "code",
   "execution_count": null,
   "id": "fda547e2",
   "metadata": {},
   "outputs": [],
   "source": [
    "unemployment_data.head()"
   ]
  },
  {
   "cell_type": "code",
   "execution_count": null,
   "id": "46b67b41",
   "metadata": {},
   "outputs": [],
   "source": [
    "get_ipython().run_cell_magic('capture', '', '\\n#Query Unemployment data\\nquery = \"\"\"\\nSELECT *\\nFROM `ironhacks-data.ironhacks_competition.unemployment_data`\\norder by uu_id, week_number\\n\\n\"\"\"\\n\\n\\n# QUERY THE DATA ONCE\\nquery_job = bigquery_client.query(query)\\nunemployment_data = query_job.to_dataframe()\\nunemployment_data.drop_duplicates()\\n')"
   ]
  },
  {
   "cell_type": "code",
   "execution_count": null,
   "id": "54790c66",
   "metadata": {},
   "outputs": [],
   "source": [
    "get_ipython().run_cell_magic('capture', '', '\\n#Query Wage Data\\nquery2= \"\"\"\\nSELECT *\\nFROM `ironhacks-data.ironhacks_competition.wage_data`\\norder by uu_id\\n\"\"\"\\n\\nquery_job = bigquery_client.query(query2)\\nwage_data = query_job.to_dataframe()\\nwage_data.drop_duplicates()\\n')"
   ]
  },
  {
   "cell_type": "code",
   "execution_count": null,
   "id": "11809df6",
   "metadata": {},
   "outputs": [],
   "source": [
    "#Retain relevant columns and merge Data\n",
    "unemployment_data=unemployment_data.drop(columns=['timeperiod','countyfips','tract','tract_name','top_category_employer1','top_category_employer2','top_category_employer3'])\n",
    "wage_data=wage_data.drop(columns=['countyfips','tract','tract_name'])"
   ]
  },
  {
   "cell_type": "markdown",
   "id": "0b4e0fb4",
   "metadata": {},
   "source": [
    "Fill missing data using columnwise linear interpolation in unemployment data"
   ]
  },
  {
   "cell_type": "code",
   "execution_count": null,
   "id": "eceb87c0",
   "metadata": {},
   "outputs": [],
   "source": [
    "unemployment_data.head()"
   ]
  },
  {
   "cell_type": "code",
   "execution_count": null,
   "id": "0348314e",
   "metadata": {},
   "outputs": [],
   "source": [
    "#Fill missing data using columnwise linear interpolation in unemployment data\n",
    "unemployment_data.interpolate(method='linear', axis=0)"
   ]
  },
  {
   "cell_type": "code",
   "execution_count": null,
   "id": "86ca5a64",
   "metadata": {},
   "outputs": [],
   "source": [
    "#Fill missing data using columnwise linear interpolation in unemployment data\n",
    "unemployment_data.interpolate(method='linear',limit_direction='both', axis=0)"
   ]
  },
  {
   "cell_type": "code",
   "execution_count": null,
   "id": "503ec91c",
   "metadata": {},
   "outputs": [],
   "source": [
    "type(unemployment_data)"
   ]
  },
  {
   "cell_type": "code",
   "execution_count": null,
   "id": "59293f7a",
   "metadata": {},
   "outputs": [],
   "source": [
    "type(unemployment_data['race_white'])"
   ]
  },
  {
   "cell_type": "code",
   "execution_count": null,
   "id": "4ddeff6c",
   "metadata": {},
   "outputs": [],
   "source": [
    "type(unemployment_data['race_white'][0])"
   ]
  },
  {
   "cell_type": "code",
   "execution_count": null,
   "id": "c369c44b",
   "metadata": {},
   "outputs": [],
   "source": [
    "type(unemployment_data['race_white'][3])"
   ]
  },
  {
   "cell_type": "code",
   "execution_count": null,
   "id": "0b486db9",
   "metadata": {},
   "outputs": [],
   "source": [
    "unemployment_data.head()"
   ]
  },
  {
   "cell_type": "code",
   "execution_count": null,
   "id": "e6732936",
   "metadata": {},
   "outputs": [],
   "source": [
    "#Fill missing data using columnwise linear interpolation in unemployment data\n",
    "unemployment_data[:,3:-1].interpolate(method='linear',limit_direction='both', axis=0)"
   ]
  },
  {
   "cell_type": "code",
   "execution_count": null,
   "id": "b13786ec",
   "metadata": {},
   "outputs": [],
   "source": [
    "#Fill missing data using columnwise linear interpolation in unemployment data\n",
    "unemployment_data.iloc[:,3:-1].interpolate(method='linear',limit_direction='both', axis=0)"
   ]
  },
  {
   "cell_type": "code",
   "execution_count": null,
   "id": "3d961813",
   "metadata": {},
   "outputs": [],
   "source": [
    "#Fill missing data using columnwise linear interpolation in unemployment data\n",
    "num_data=unemployment_data.iloc[:,3:-1].astype(int32)\n",
    "num_data.interpolate(method='linear', limit_direction='both', axis=0)"
   ]
  },
  {
   "cell_type": "code",
   "execution_count": null,
   "id": "c0934ba4",
   "metadata": {},
   "outputs": [],
   "source": [
    "#Fill missing data using columnwise linear interpolation in unemployment data\n",
    "num_data=unemployment_data.iloc[:,3:-1].astype('int32')\n",
    "num_data.interpolate(method='linear', limit_direction='both', axis=0)"
   ]
  },
  {
   "cell_type": "code",
   "execution_count": null,
   "id": "16a99986",
   "metadata": {},
   "outputs": [],
   "source": [
    "#Fill missing data using columnwise linear interpolation in unemployment data\n",
    "num_data=unemployment_data.iloc[:,3:-1]\n",
    "num_data.interpolate(method='linear', limit_direction='both', axis=0)"
   ]
  },
  {
   "cell_type": "code",
   "execution_count": null,
   "id": "23f431ba",
   "metadata": {},
   "outputs": [],
   "source": [
    "#Fill missing data using columnwise linear interpolation in unemployment data\n",
    "unemployment_data.fillna(method='pad', axis=0)"
   ]
  },
  {
   "cell_type": "code",
   "execution_count": null,
   "id": "51702c94",
   "metadata": {},
   "outputs": [],
   "source": [
    "#Fill missing data using columnwise linear interpolation in unemployment data\n",
    "series=unemployment_data.iloc[:,3].interpolate(method='linear', axis=0)"
   ]
  },
  {
   "cell_type": "code",
   "execution_count": null,
   "id": "129b79cc",
   "metadata": {},
   "outputs": [],
   "source": [
    "#Fill missing data using columnwise linear interpolation in unemployment data\n",
    "from sklearn.preprocessing import LabelEncoder "
   ]
  },
  {
   "cell_type": "code",
   "execution_count": null,
   "id": "0b5d44bb",
   "metadata": {},
   "outputs": [],
   "source": [
    "unemployment_data=LabelEncoder.fit_transform(unemployment_data)\n",
    "series=unemployment_data.iloc[:,3].interpolate(method='linear', axis=0)"
   ]
  },
  {
   "cell_type": "code",
   "execution_count": null,
   "id": "1b517bfd",
   "metadata": {},
   "outputs": [],
   "source": [
    "#Fill missing data using columnwise linear interpolation in unemployment data\n",
    "from sklearn.preprocessing import LabelEncoder "
   ]
  },
  {
   "cell_type": "code",
   "execution_count": null,
   "id": "6be3ce69",
   "metadata": {},
   "outputs": [],
   "source": [
    "series=LabelEncoder.fit_transform(unemployment_data.iloc[:,3])\n",
    "series=series.interploate(method='linear')"
   ]
  },
  {
   "cell_type": "code",
   "execution_count": null,
   "id": "53a99128",
   "metadata": {},
   "outputs": [],
   "source": [
    "#Fill missing data in unemployment data with 0\n",
    "unemployment_data.fillna(0)"
   ]
  },
  {
   "cell_type": "code",
   "execution_count": null,
   "id": "c267720c",
   "metadata": {},
   "outputs": [],
   "source": [
    "#Fill missing data in unemployment data with 0\n",
    "unemployment_data.fillna(0)\n",
    "#Fill missing data in wage data with pad\n",
    "wage_data.fillna(method='pad')"
   ]
  },
  {
   "cell_type": "code",
   "execution_count": null,
   "id": "a5c96c82",
   "metadata": {},
   "outputs": [],
   "source": [
    "#Fill missing data in unemployment data with 0\n",
    "unemployment_data.fillna(0)\n",
    "#Fill missing data in wage data with pad\n",
    "wage_data.fillna(method='pad')\n",
    "#Merge data with uu_id"
   ]
  },
  {
   "cell_type": "code",
   "execution_count": null,
   "id": "0928cd0c",
   "metadata": {},
   "outputs": [],
   "source": [
    "work_data=pd.merge(unemployment_data, wage_data, on='uu_id')\n",
    "work_data.head()"
   ]
  },
  {
   "cell_type": "code",
   "execution_count": null,
   "id": "39ecd1e8",
   "metadata": {},
   "outputs": [],
   "source": [
    "#Fill missing data in unemployment data with 0\n",
    "unemployment_data=unemployment_data.fillna(0)\n",
    "#Fill missing data in wage data with pad\n",
    "wage_data=wage_data.fillna(method='pad')"
   ]
  },
  {
   "cell_type": "code",
   "execution_count": null,
   "id": "48aaa0ae",
   "metadata": {},
   "outputs": [],
   "source": [
    "#Merge data with uu_id\n",
    "work_data=pd.merge(unemployment_data, wage_data, on='uu_id')\n",
    "work_data.head()"
   ]
  },
  {
   "cell_type": "code",
   "execution_count": null,
   "id": "23447561",
   "metadata": {},
   "outputs": [],
   "source": [
    "#Separate by uu_id\n",
    "work_data_collection={}\n",
    "uu_id_list=work_data['uu_id].drop_dulpicates()"
   ]
  },
  {
   "cell_type": "code",
   "execution_count": null,
   "id": "838be7df",
   "metadata": {},
   "outputs": [],
   "source": [
    "#Separate by uu_id\n",
    "work_data_collection={}\n",
    "uu_id_list=work_data['uu_id'].drop_dulpicates()"
   ]
  },
  {
   "cell_type": "code",
   "execution_count": null,
   "id": "c0df6c44",
   "metadata": {},
   "outputs": [],
   "source": [
    "#Separate by uu_id\n",
    "work_data_collection={}\n",
    "uu_id_list=work_data['uu_id'].drop_duplicates()"
   ]
  },
  {
   "cell_type": "code",
   "execution_count": null,
   "id": "e3fa45ac",
   "metadata": {},
   "outputs": [],
   "source": [
    "#Separate by uu_id\n",
    "work_data_collection={}\n",
    "uu_id_list=work_data['uu_id'].drop_duplicates()"
   ]
  },
  {
   "cell_type": "code",
   "execution_count": null,
   "id": "26b66309",
   "metadata": {},
   "outputs": [],
   "source": [
    "for id in uu_id_list:\n",
    "    work_data_collection[id]=work_data[work_data['uu_id']==id]\n",
    "    work_data_collection[id].drop(columns=['uu_id'])"
   ]
  },
  {
   "cell_type": "code",
   "execution_count": null,
   "id": "ff9c63ae",
   "metadata": {},
   "outputs": [],
   "source": [
    "work_data_collection[uu_id_list[0]]"
   ]
  },
  {
   "cell_type": "code",
   "execution_count": null,
   "id": "18a56889",
   "metadata": {},
   "outputs": [],
   "source": [
    "#Separate by uu_id\n",
    "work_data_collection={}\n",
    "uu_id_list=work_data['uu_id'].drop_duplicates()"
   ]
  },
  {
   "cell_type": "code",
   "execution_count": null,
   "id": "8fa5082c",
   "metadata": {},
   "outputs": [],
   "source": [
    "for id in uu_id_list:\n",
    "    work_data_collection[id]=work_data[work_data['uu_id']==id]\n",
    "    work_data_collection[id]=work_data_collection[id].drop(columns=['uu_id'])"
   ]
  },
  {
   "cell_type": "code",
   "execution_count": null,
   "id": "71a26f21",
   "metadata": {},
   "outputs": [],
   "source": [
    "work_data_collection[uu_id_list[0]]"
   ]
  },
  {
   "cell_type": "code",
   "execution_count": null,
   "id": "c4bb16f6",
   "metadata": {},
   "outputs": [],
   "source": [
    "#Separate by uu_id\n",
    "work_data_collection={}\n",
    "uu_id_list=work_data['uu_id'].drop_duplicates()"
   ]
  },
  {
   "cell_type": "code",
   "execution_count": null,
   "id": "568c77f4",
   "metadata": {},
   "outputs": [],
   "source": [
    "for id in uu_id_list:\n",
    "    work_data_collection[id]=work_data[work_data['uu_id']==id]\n",
    "    work_data_collection[id]=work_data_collection[id].drop(columns=['uu_id'])\n",
    "    work_data_collection[id]=work_data_collection[id].drop_duplicates()"
   ]
  },
  {
   "cell_type": "code",
   "execution_count": null,
   "id": "89124123",
   "metadata": {},
   "outputs": [],
   "source": [
    "work_data_collection[uu_id_list[0]]"
   ]
  },
  {
   "cell_type": "code",
   "execution_count": null,
   "id": "1850dea9",
   "metadata": {},
   "outputs": [],
   "source": [
    "import seaborn as sns\n",
    "sns.heatmap(work_data_collection[uu_id_list[0]])"
   ]
  },
  {
   "cell_type": "markdown",
   "id": "b1072c49",
   "metadata": {},
   "source": [
    "Train for now on week number and average wage only"
   ]
  },
  {
   "cell_type": "code",
   "execution_count": null,
   "id": "8b372576",
   "metadata": {},
   "outputs": [],
   "source": [
    "work_data=work_data.drop_duplicates()\n",
    "X_data=work_data[columns=['week_num','average_wage']]\n",
    "y_data=work_data[columns=['total_claims']]"
   ]
  },
  {
   "cell_type": "markdown",
   "id": "59295bca",
   "metadata": {},
   "source": [
    "Train for now on week number and average wage only"
   ]
  },
  {
   "cell_type": "code",
   "execution_count": null,
   "id": "6beba071",
   "metadata": {},
   "outputs": [],
   "source": [
    "work_data=work_data.drop_duplicates()\n",
    "X_data=work_data[['week_num','average_wage']]\n",
    "y_data=work_data[['total_claims']]"
   ]
  },
  {
   "cell_type": "markdown",
   "id": "7990ed41",
   "metadata": {},
   "source": [
    "Train for now on week number and average wage only"
   ]
  },
  {
   "cell_type": "code",
   "execution_count": null,
   "id": "a19660c9",
   "metadata": {},
   "outputs": [],
   "source": [
    "work_data=work_data.drop_duplicates()\n",
    "X_data=work_data[['week_number','average_wage']]\n",
    "y_data=work_data[['total_claims']]"
   ]
  },
  {
   "cell_type": "code",
   "execution_count": null,
   "id": "caa98536",
   "metadata": {},
   "outputs": [],
   "source": [
    "from sklearn import linear_model\n",
    "lm = linear_model.LinearRegression()\n",
    "model=lm.fit(X,y)"
   ]
  },
  {
   "cell_type": "code",
   "execution_count": null,
   "id": "a2b828fc",
   "metadata": {},
   "outputs": [],
   "source": [
    "from sklearn import linear_model\n",
    "lm = linear_model.LinearRegression()\n",
    "model=lm.fit(X_data,y_data)"
   ]
  },
  {
   "cell_type": "code",
   "execution_count": null,
   "id": "a55ab6ae",
   "metadata": {},
   "outputs": [],
   "source": [
    "lm.score(X,y)"
   ]
  },
  {
   "cell_type": "code",
   "execution_count": null,
   "id": "7e9db263",
   "metadata": {
    "lines_to_next_cell": 2
   },
   "outputs": [],
   "source": [
    "lm.score(X_data,y_data)"
   ]
  }
 ],
 "metadata": {
  "jupytext": {
   "cell_metadata_filter": "-all",
   "main_language": "python",
   "notebook_metadata_filter": "-all"
  }
 },
 "nbformat": 4,
 "nbformat_minor": 5
}
