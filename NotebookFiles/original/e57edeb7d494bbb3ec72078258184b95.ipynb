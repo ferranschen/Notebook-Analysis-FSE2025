{
 "cells": [
  {
   "cell_type": "code",
   "execution_count": null,
   "id": "76daf971",
   "metadata": {},
   "outputs": [],
   "source": [
    "get_ipython().system('pip install db-dtypes')\n",
    "get_ipython().system('pip install plotly')"
   ]
  },
  {
   "cell_type": "code",
   "execution_count": null,
   "id": "eebb9e2e",
   "metadata": {},
   "outputs": [],
   "source": [
    "import os\n",
    "import pandas\n",
    "from google.cloud import bigquery\n",
    "from google.oauth2 import service_account\n",
    "from google.cloud.bigquery import magics"
   ]
  },
  {
   "cell_type": "code",
   "execution_count": null,
   "id": "be4d30a6",
   "metadata": {},
   "outputs": [],
   "source": [
    "from sklearn.experimental import enable_iterative_imputer\n",
    "from sklearn.impute import IterativeImputer\n",
    "from sklearn.impute import KNNImputer\n",
    "from sklearn.preprocessing import StandardScaler\n",
    "from scipy import stats\n",
    "from scipy.stats import shapiro\n",
    "from scipy.stats import skew"
   ]
  },
  {
   "cell_type": "code",
   "execution_count": null,
   "id": "dcecf2c0",
   "metadata": {},
   "outputs": [],
   "source": [
    "import numpy as np\n",
    "from numpy import isnan\n",
    "from matplotlib import pyplot"
   ]
  },
  {
   "cell_type": "code",
   "execution_count": null,
   "id": "2be64c84",
   "metadata": {},
   "outputs": [],
   "source": [
    "import seaborn as sns\n",
    "import matplotlib \n",
    "import matplotlib.pyplot as plt\n",
    "import plotly \n",
    "import plotly.express as px"
   ]
  },
  {
   "cell_type": "code",
   "execution_count": null,
   "id": "87037ffd",
   "metadata": {},
   "outputs": [],
   "source": [
    "import pandas as pd"
   ]
  },
  {
   "cell_type": "code",
   "execution_count": null,
   "id": "7ff73c77",
   "metadata": {},
   "outputs": [],
   "source": [
    "BIGQUERY_PROJECT = 'ironhacks-data'\n",
    "bigquery_client = bigquery.Client(project=BIGQUERY_PROJECT)"
   ]
  },
  {
   "cell_type": "code",
   "execution_count": null,
   "id": "25d56a12",
   "metadata": {},
   "outputs": [],
   "source": [
    "query = \"\"\"\n",
    "SELECT *\n",
    "FROM `ironhacks-data.ironhacks_competition.unemployment_data`\n",
    "\"\"\""
   ]
  },
  {
   "cell_type": "code",
   "execution_count": null,
   "id": "93623a29",
   "metadata": {},
   "outputs": [],
   "source": [
    "query_job = bigquery_client.query(query)\n",
    "unemploy = query_job.to_dataframe()\n",
    "unemploy.head()"
   ]
  },
  {
   "cell_type": "code",
   "execution_count": null,
   "id": "88f72f4c",
   "metadata": {},
   "outputs": [],
   "source": [
    "wage = \"\"\"\n",
    "SELECT *\n",
    "FROM `ironhacks-data.ironhacks_competition.wage_data`\n",
    "\"\"\""
   ]
  },
  {
   "cell_type": "code",
   "execution_count": null,
   "id": "0e8eabbf",
   "metadata": {},
   "outputs": [],
   "source": [
    "query_wage = bigquery_client.query(wage)\n",
    "wages = query_wage.to_dataframe()\n",
    "wages.head()"
   ]
  },
  {
   "cell_type": "code",
   "execution_count": null,
   "id": "e48941c3",
   "metadata": {},
   "outputs": [],
   "source": [
    "wages.info()"
   ]
  },
  {
   "cell_type": "code",
   "execution_count": null,
   "id": "41fcf661",
   "metadata": {},
   "outputs": [],
   "source": [
    "unemploy.info()"
   ]
  },
  {
   "cell_type": "code",
   "execution_count": null,
   "id": "a6e5b68a",
   "metadata": {},
   "outputs": [],
   "source": [
    "unemploy.isnull().sum()"
   ]
  },
  {
   "cell_type": "code",
   "execution_count": null,
   "id": "91634e53",
   "metadata": {},
   "outputs": [],
   "source": [
    "unemploy=unemploy.sort_values('week_number', ascending=True)\n",
    "unemploy.reset_index(inplace=True)\n",
    "unemploy"
   ]
  },
  {
   "cell_type": "code",
   "execution_count": null,
   "id": "0a67a285",
   "metadata": {},
   "outputs": [],
   "source": [
    "sns.heatmap(unemploy.isnull(),cbar=False)"
   ]
  },
  {
   "cell_type": "code",
   "execution_count": null,
   "id": "6d238ecc",
   "metadata": {},
   "outputs": [],
   "source": [
    "miss=unemploy.isnull()\n",
    "total=unemploy.count()\n",
    "total"
   ]
  },
  {
   "cell_type": "code",
   "execution_count": null,
   "id": "2bb3fd07",
   "metadata": {},
   "outputs": [],
   "source": [
    "miss.sum()"
   ]
  },
  {
   "cell_type": "code",
   "execution_count": null,
   "id": "9637fc2a",
   "metadata": {},
   "outputs": [],
   "source": [
    "miss.sum()/len(unemploy)"
   ]
  },
  {
   "cell_type": "code",
   "execution_count": null,
   "id": "74e54fbf",
   "metadata": {},
   "outputs": [],
   "source": [
    "map_1 = unemploy.corr(method ='spearman')\n",
    "sns.heatmap(map_1)"
   ]
  },
  {
   "cell_type": "code",
   "execution_count": null,
   "id": "c9238b77",
   "metadata": {},
   "outputs": [],
   "source": [
    "unemploy[\"race_hawaiiannative\"].unique()"
   ]
  },
  {
   "cell_type": "code",
   "execution_count": null,
   "id": "19c86c23",
   "metadata": {},
   "outputs": [],
   "source": [
    "df1=unemploy.copy()\n",
    "df1=df1.drop(columns=\"race_hawaiiannative\")"
   ]
  },
  {
   "cell_type": "code",
   "execution_count": null,
   "id": "bcd5508d",
   "metadata": {},
   "outputs": [],
   "source": [
    "df=unemploy[['top_category_employer1',\"top_category_employer2\",\"top_category_employer3\",'uu_id',\"tract_name\",\"timeperiod\",\"tract\",\"countyfips\"]]"
   ]
  },
  {
   "cell_type": "code",
   "execution_count": null,
   "id": "9d039763",
   "metadata": {},
   "outputs": [],
   "source": [
    "df"
   ]
  },
  {
   "cell_type": "code",
   "execution_count": null,
   "id": "0d78fb3f",
   "metadata": {},
   "outputs": [],
   "source": [
    "df1.drop(columns=['top_category_employer1',\"top_category_employer2\",\"top_category_employer3\",'uu_id',\"tract_name\",\"timeperiod\",\"tract\",\"countyfips\"],inplace=True)"
   ]
  },
  {
   "cell_type": "code",
   "execution_count": null,
   "id": "5701306c",
   "metadata": {},
   "outputs": [],
   "source": [
    "impute1=KNNImputer()\n",
    "impute1.fit(df1)\n",
    "unemploy1=pd.DataFrame(impute1.fit_transform(df1),columns = df1.columns)"
   ]
  },
  {
   "cell_type": "code",
   "execution_count": null,
   "id": "67da6e92",
   "metadata": {},
   "outputs": [],
   "source": [
    "unemploy1"
   ]
  },
  {
   "cell_type": "code",
   "execution_count": null,
   "id": "727936da",
   "metadata": {},
   "outputs": [],
   "source": [
    "trial=pd.merge(df, unemploy1, left_index=True, right_index=True)"
   ]
  },
  {
   "cell_type": "code",
   "execution_count": null,
   "id": "6b2e0e4d",
   "metadata": {},
   "outputs": [],
   "source": [
    "trial.head()"
   ]
  },
  {
   "cell_type": "code",
   "execution_count": null,
   "id": "2967ee79",
   "metadata": {},
   "outputs": [],
   "source": [
    "trial.describe()"
   ]
  },
  {
   "cell_type": "code",
   "execution_count": null,
   "id": "2e9f186e",
   "metadata": {},
   "outputs": [],
   "source": [
    "sns.heatmap(trial.corr(method=\"spearman\"))"
   ]
  },
  {
   "cell_type": "code",
   "execution_count": null,
   "id": "b880c4e8",
   "metadata": {},
   "outputs": [],
   "source": [
    "trial1=trial.copy()"
   ]
  },
  {
   "cell_type": "code",
   "execution_count": null,
   "id": "eb3f904b",
   "metadata": {},
   "outputs": [],
   "source": [
    "scaler = StandardScaler()\n",
    "scaled=pd.DataFrame(scaler.fit_transform(unemploy1),columns = unemploy1.columns)"
   ]
  },
  {
   "cell_type": "code",
   "execution_count": null,
   "id": "9f20bc87",
   "metadata": {},
   "outputs": [],
   "source": [
    "scaled"
   ]
  },
  {
   "cell_type": "code",
   "execution_count": null,
   "id": "05188871",
   "metadata": {},
   "outputs": [],
   "source": [
    "sns.displot(data=scaled,x=\"total_claims\",kind=\"kde\")"
   ]
  },
  {
   "cell_type": "code",
   "execution_count": null,
   "id": "d6f27fbf",
   "metadata": {},
   "outputs": [],
   "source": [
    "claim = np.array(scaled[\"total_claims\"])\n",
    "sqrt_claim = np.sqrt(claim)\n",
    "log_claim = np.log(claim)\n",
    "f, ((f1, f2, f3), (f4, f5, f6)) = plt.subplots(2, 3)\n",
    "#f, ((f1, f2), (f4, f5)) = plt.subplots(2, 2)\n",
    "f1.hist(claim, 30)\n",
    "f2.hist(sqrt_claim, 30)\n",
    "f3.hist(log_claim, 30)"
   ]
  },
  {
   "cell_type": "code",
   "execution_count": null,
   "id": "50f7f048",
   "metadata": {},
   "outputs": [],
   "source": [
    "stats.probplot(claim, plot=f4)\n",
    "stats.probplot(sqrt_claim, plot=f5)\n",
    "stats.probplot(log_claim, plot=f6)\n",
    "plt.show\n",
    "stats.shapiro(claim)[1], stats.shapiro(sqrt_claim)[1], stats.shapiro(log_claim)[1]"
   ]
  },
  {
   "cell_type": "code",
   "execution_count": null,
   "id": "c03f4a42",
   "metadata": {},
   "outputs": [],
   "source": [
    "shapiro(sqrt_claim)"
   ]
  },
  {
   "cell_type": "code",
   "execution_count": null,
   "id": "162199c2",
   "metadata": {},
   "outputs": [],
   "source": [
    "print(skew(sqrt_claim))"
   ]
  },
  {
   "cell_type": "code",
   "execution_count": null,
   "id": "4fdb65f8",
   "metadata": {},
   "outputs": [],
   "source": [
    "shapiro(unemploy1.total_claims)"
   ]
  },
  {
   "cell_type": "code",
   "execution_count": null,
   "id": "10b1d409",
   "metadata": {},
   "outputs": [],
   "source": [
    "sns.displot(data=scaled,x=\"total_claims\",kind=\"kde\")"
   ]
  },
  {
   "cell_type": "code",
   "execution_count": null,
   "id": "1aa90a0d",
   "metadata": {},
   "outputs": [],
   "source": [
    "f3.hist(log_claim, 30)"
   ]
  },
  {
   "cell_type": "code",
   "execution_count": null,
   "id": "e32a5552",
   "metadata": {},
   "outputs": [],
   "source": [
    "import pylab"
   ]
  },
  {
   "cell_type": "code",
   "execution_count": null,
   "id": "5e5b9989",
   "metadata": {},
   "outputs": [],
   "source": [
    "stats.probplot(log_claim,dist=\"norm\",plot=pylab)\n",
    "pylab.show()"
   ]
  },
  {
   "cell_type": "code",
   "execution_count": null,
   "id": "ada4b73a",
   "metadata": {},
   "outputs": [],
   "source": [
    "sns.distplot(une)"
   ]
  },
  {
   "cell_type": "code",
   "execution_count": null,
   "id": "cd269741",
   "metadata": {},
   "outputs": [],
   "source": [
    "sns.boxplot(x=scale_logs[\"edu_grades_9_11\"])"
   ]
  },
  {
   "cell_type": "code",
   "execution_count": null,
   "id": "528c8b5b",
   "metadata": {},
   "outputs": [],
   "source": [
    "unemploy_logs = np.log(unemploy1)"
   ]
  },
  {
   "cell_type": "code",
   "execution_count": null,
   "id": "a6fffcbb",
   "metadata": {},
   "outputs": [],
   "source": [
    "unemp_cube=np.power((unemploy1),1/3)"
   ]
  },
  {
   "cell_type": "code",
   "execution_count": null,
   "id": "c7101c14",
   "metadata": {},
   "outputs": [],
   "source": [
    "statistics,pvalue = jarque_bera(unemp_cube)"
   ]
  },
  {
   "cell_type": "code",
   "execution_count": null,
   "id": "04651310",
   "metadata": {},
   "outputs": [],
   "source": [
    "print('statistics=%.3f, p=%.3f\\n' %(statistics, pvalue))\n",
    "if pvalue>0.05:\n",
    "    print(\"Probably Normal\")\n",
    "else:\n",
    "    print(\"Probably not Normal\")"
   ]
  },
  {
   "cell_type": "code",
   "execution_count": null,
   "id": "9b374d43",
   "metadata": {},
   "outputs": [],
   "source": [
    "from scipy.stats import jarque_bera"
   ]
  },
  {
   "cell_type": "code",
   "execution_count": null,
   "id": "ef33e6fa",
   "metadata": {},
   "outputs": [],
   "source": [
    "statistics,pvalue = jarque_bera(unemp_cube)"
   ]
  },
  {
   "cell_type": "code",
   "execution_count": null,
   "id": "65431431",
   "metadata": {},
   "outputs": [],
   "source": [
    "print('statistics=%.3f, p=%.3f\\n' %(statistics, pvalue))\n",
    "if pvalue>0.05:\n",
    "    print(\"Probably Normal\")\n",
    "else:\n",
    "    print(\"Probably not Normal\")"
   ]
  },
  {
   "cell_type": "code",
   "execution_count": null,
   "id": "660445ae",
   "metadata": {},
   "outputs": [],
   "source": [
    "statistics,pvalue = jarque_bera(unemp_cube[\"edu_grades_9_11\"])"
   ]
  },
  {
   "cell_type": "code",
   "execution_count": null,
   "id": "e11ca4d9",
   "metadata": {},
   "outputs": [],
   "source": [
    "print('statistics=%.3f, p=%.3f\\n' %(statistics, pvalue))\n",
    "if pvalue>0.05:\n",
    "    print(\"Probably Normal\")\n",
    "else:\n",
    "    print(\"Probably not Normal\")"
   ]
  },
  {
   "cell_type": "code",
   "execution_count": null,
   "id": "5fb28800",
   "metadata": {},
   "outputs": [],
   "source": [
    "statistics,pvalue = jarque_bera(unemploy1[\"edu_grades_9_11\"])"
   ]
  },
  {
   "cell_type": "code",
   "execution_count": null,
   "id": "0957a693",
   "metadata": {},
   "outputs": [],
   "source": [
    "print('statistics=%.3f, p=%.3f\\n' %(statistics, pvalue))\n",
    "if pvalue>0.05:\n",
    "    print(\"Probably Normal\")\n",
    "else:\n",
    "    print(\"Probably not Normal\")"
   ]
  },
  {
   "cell_type": "code",
   "execution_count": null,
   "id": "1d0493c8",
   "metadata": {},
   "outputs": [],
   "source": [
    "statistics,pvalue = jarque_bera(unemploy1[\"gender_male\"])"
   ]
  },
  {
   "cell_type": "code",
   "execution_count": null,
   "id": "e61687b7",
   "metadata": {},
   "outputs": [],
   "source": [
    "print('statistics=%.3f, p=%.3f\\n' %(statistics, pvalue))\n",
    "if pvalue>0.05:\n",
    "    print(\"Probably Normal\")\n",
    "else:\n",
    "    print(\"Probably not Normal\")"
   ]
  },
  {
   "cell_type": "code",
   "execution_count": null,
   "id": "f002cbb3",
   "metadata": {},
   "outputs": [],
   "source": [
    "statistics,pvalue = jarque_bera(unemploy1[\"gender_female\"])"
   ]
  },
  {
   "cell_type": "code",
   "execution_count": null,
   "id": "66d5ea4f",
   "metadata": {},
   "outputs": [],
   "source": [
    "print('statistics=%.3f, p=%.3f\\n' %(statistics, pvalue))\n",
    "if pvalue>0.05:\n",
    "    print(\"Probably Normal\")\n",
    "else:\n",
    "    print(\"Probably not Normal\")"
   ]
  },
  {
   "cell_type": "code",
   "execution_count": null,
   "id": "3eaf44af",
   "metadata": {},
   "outputs": [],
   "source": [
    "statistics,pvalue = jarque_bera(unemploy1[\"gender_na\"])"
   ]
  },
  {
   "cell_type": "code",
   "execution_count": null,
   "id": "c383a9f8",
   "metadata": {},
   "outputs": [],
   "source": [
    "print('statistics=%.3f, p=%.3f\\n' %(statistics, pvalue))\n",
    "if pvalue>0.05:\n",
    "    print(\"Probably Normal\")\n",
    "else:\n",
    "    print(\"Probably not Normal\")"
   ]
  },
  {
   "cell_type": "code",
   "execution_count": null,
   "id": "f842a4ab",
   "metadata": {},
   "outputs": [],
   "source": [
    "statistics,pvalue = jarque_bera(unemploy1[\"race_white\"])"
   ]
  },
  {
   "cell_type": "code",
   "execution_count": null,
   "id": "2188e44a",
   "metadata": {},
   "outputs": [],
   "source": [
    "print('statistics=%.3f, p=%.3f\\n' %(statistics, pvalue))\n",
    "if pvalue>0.05:\n",
    "    print(\"Probably Normal\")\n",
    "else:\n",
    "    print(\"Probably not Normal\")"
   ]
  },
  {
   "cell_type": "code",
   "execution_count": null,
   "id": "505b2727",
   "metadata": {},
   "outputs": [],
   "source": [
    "statistics,pvalue = jarque_bera(unemploy1[\"race_black\"])"
   ]
  },
  {
   "cell_type": "code",
   "execution_count": null,
   "id": "638ff800",
   "metadata": {},
   "outputs": [],
   "source": [
    "print('statistics=%.3f, p=%.3f\\n' %(statistics, pvalue))\n",
    "if pvalue>0.05:\n",
    "    print(\"Probably Normal\")\n",
    "else:\n",
    "    print(\"Probably not Normal\")"
   ]
  },
  {
   "cell_type": "code",
   "execution_count": null,
   "id": "35e78947",
   "metadata": {},
   "outputs": [],
   "source": [
    "statistics,pvalue = jarque_bera(unemploy1[\"race_ameriindia\"])"
   ]
  },
  {
   "cell_type": "code",
   "execution_count": null,
   "id": "0ac2fa32",
   "metadata": {},
   "outputs": [],
   "source": [
    "print('statistics=%.3f, p=%.3f\\n' %(statistics, pvalue))\n",
    "if pvalue>0.05:\n",
    "    print(\"Probably Normal\")\n",
    "else:\n",
    "    print(\"Probably not Normal\")"
   ]
  },
  {
   "cell_type": "code",
   "execution_count": null,
   "id": "17d07769",
   "metadata": {},
   "outputs": [],
   "source": [
    "statistics,pvalue = jarque_bera(unemploy1[\"race_amerindian\"])"
   ]
  },
  {
   "cell_type": "code",
   "execution_count": null,
   "id": "faaf9c68",
   "metadata": {},
   "outputs": [],
   "source": [
    "print('statistics=%.3f, p=%.3f\\n' %(statistics, pvalue))\n",
    "if pvalue>0.05:\n",
    "    print(\"Probably Normal\")\n",
    "else:\n",
    "    print(\"Probably not Normal\")"
   ]
  },
  {
   "cell_type": "code",
   "execution_count": null,
   "id": "09bef45b",
   "metadata": {},
   "outputs": [],
   "source": [
    "statistics,pvalue = jarque_bera(unemploy1[\"race_asian\"])"
   ]
  },
  {
   "cell_type": "code",
   "execution_count": null,
   "id": "3912d7d5",
   "metadata": {},
   "outputs": [],
   "source": [
    "print('statistics=%.3f, p=%.3f\\n' %(statistics, pvalue))\n",
    "if pvalue>0.05:\n",
    "    print(\"Probably Normal\")\n",
    "else:\n",
    "    print(\"Probably not Normal\")"
   ]
  },
  {
   "cell_type": "code",
   "execution_count": null,
   "id": "50cb75d6",
   "metadata": {},
   "outputs": [],
   "source": [
    "from sklearn.experimental import enable_iterative_imputer\n",
    "from sklearn.impute import IterativeImputer\n",
    "from sklearn.impute import KNNImputer\n",
    "from sklearn.preprocessing import StandardScaler\n",
    "from scipy import stats\n",
    "from scipy.stats import boxcox\n",
    "from scipy.stats import jarque_bera\n",
    "from scipy.stats import shapiro\n",
    "from scipy.stats import skew"
   ]
  },
  {
   "cell_type": "code",
   "execution_count": null,
   "id": "cbddd887",
   "metadata": {},
   "outputs": [],
   "source": [
    "import numpy as np\n",
    "from numpy import isnan\n",
    "from matplotlib import pyplot"
   ]
  },
  {
   "cell_type": "code",
   "execution_count": null,
   "id": "60d9af74",
   "metadata": {},
   "outputs": [],
   "source": [
    "import seaborn as sns\n",
    "import matplotlib \n",
    "import matplotlib.pyplot as plt\n",
    "import plotly \n",
    "import plotly.express as px"
   ]
  },
  {
   "cell_type": "code",
   "execution_count": null,
   "id": "186785bf",
   "metadata": {},
   "outputs": [],
   "source": [
    "import pandas as pd"
   ]
  },
  {
   "cell_type": "code",
   "execution_count": null,
   "id": "38e09fb1",
   "metadata": {},
   "outputs": [],
   "source": [
    "transformed_data, best_lambda = boxcox(unemploy1)\n",
    "sns.distpolt(transformed_data,)"
   ]
  },
  {
   "cell_type": "code",
   "execution_count": null,
   "id": "b31a679e",
   "metadata": {},
   "outputs": [],
   "source": [
    "transformed_data, best_lambda = boxcox(unemploy1[\"total_claims\"])\n",
    "sns.distpolt(transformed_data,)"
   ]
  },
  {
   "cell_type": "code",
   "execution_count": null,
   "id": "a00b82bf",
   "metadata": {},
   "outputs": [],
   "source": [
    "transformed_data, best_lambda = boxcox(unemploy1[\"total_claims\"])\n",
    "sns.distpolt(transformed_data)"
   ]
  },
  {
   "cell_type": "code",
   "execution_count": null,
   "id": "66340f31",
   "metadata": {},
   "outputs": [],
   "source": [
    "transformed_data, best_lambda = boxcox(unemploy1[\"total_claims\"])\n",
    "sns.distplot(transformed_data)"
   ]
  },
  {
   "cell_type": "code",
   "execution_count": null,
   "id": "658c372a",
   "metadata": {},
   "outputs": [],
   "source": [
    "claim = np.array(transformed_data)\n",
    "sqrt_claim = np.sqrt(transformed_data)\n",
    "log_claim = np.logtransformed_data)\n",
    "f, ((f1, f2, f3), (f4, f5, f6)) = plt.subplots(2, 3)\n",
    "#f, ((f1, f2), (f4, f5)) = plt.subplots(2, 2)\n",
    "f1.hist(claim, 30)\n",
    "f2.hist(sqrt_claim, 30)\n",
    "f3.hist(log_claim, 30)"
   ]
  },
  {
   "cell_type": "code",
   "execution_count": null,
   "id": "ffdff8b4",
   "metadata": {},
   "outputs": [],
   "source": [
    "stats.probplot(claim, plot=f4)\n",
    "stats.probplot(sqrt_claim, plot=f5)\n",
    "stats.probplot(log_claim, plot=f6)\n",
    "plt.show\n",
    "stats.shapiro(claim)[1], stats.shapiro(sqrt_claim)[1], stats.shapiro(log_claim)[1]"
   ]
  },
  {
   "cell_type": "code",
   "execution_count": null,
   "id": "f4a34803",
   "metadata": {},
   "outputs": [],
   "source": [
    "claim = np.array(transformed_data)\n",
    "sqrt_claim = np.sqrt(transformed_data)\n",
    "log_claim = np.log(transformed_data)\n",
    "f, ((f1, f2, f3), (f4, f5, f6)) = plt.subplots(2, 3)\n",
    "#f, ((f1, f2), (f4, f5)) = plt.subplots(2, 2)\n",
    "f1.hist(claim, 30)\n",
    "f2.hist(sqrt_claim, 30)\n",
    "f3.hist(log_claim, 30)"
   ]
  },
  {
   "cell_type": "code",
   "execution_count": null,
   "id": "ff8be964",
   "metadata": {},
   "outputs": [],
   "source": [
    "stats.probplot(claim, plot=f4)\n",
    "stats.probplot(sqrt_claim, plot=f5)\n",
    "stats.probplot(log_claim, plot=f6)\n",
    "plt.show\n",
    "stats.shapiro(claim)[1], stats.shapiro(sqrt_claim)[1], stats.shapiro(log_claim)[1]"
   ]
  },
  {
   "cell_type": "code",
   "execution_count": null,
   "id": "c30f6b51",
   "metadata": {},
   "outputs": [],
   "source": [
    "statistics,pvalue = jarque_bera(transformed_data)"
   ]
  },
  {
   "cell_type": "code",
   "execution_count": null,
   "id": "09581ae3",
   "metadata": {},
   "outputs": [],
   "source": [
    "print('statistics=%.3f, p=%.3f\\n' %(statistics, pvalue))\n",
    "if pvalue>0.05:\n",
    "    print(\"Probably Normal\")\n",
    "else:\n",
    "    print(\"Probably not Normal\")"
   ]
  },
  {
   "cell_type": "code",
   "execution_count": null,
   "id": "cc2b6d5b",
   "metadata": {},
   "outputs": [],
   "source": [
    "statistics,pvalue = jarque_bera(log_claims)"
   ]
  },
  {
   "cell_type": "code",
   "execution_count": null,
   "id": "01ee3440",
   "metadata": {},
   "outputs": [],
   "source": [
    "print('statistics=%.3f, p=%.3f\\n' %(statistics, pvalue))\n",
    "if pvalue>0.05:\n",
    "    print(\"Probably Normal\")\n",
    "else:\n",
    "    print(\"Probably not Normal\")"
   ]
  },
  {
   "cell_type": "code",
   "execution_count": null,
   "id": "b3c3f245",
   "metadata": {},
   "outputs": [],
   "source": [
    "statistics,pvalue = jarque_bera(log_claim)"
   ]
  },
  {
   "cell_type": "code",
   "execution_count": null,
   "id": "92e83519",
   "metadata": {},
   "outputs": [],
   "source": [
    "print('statistics=%.3f, p=%.3f\\n' %(statistics, pvalue))\n",
    "if pvalue>0.05:\n",
    "    print(\"Probably Normal\")\n",
    "else:\n",
    "    print(\"Probably not Normal\")"
   ]
  },
  {
   "cell_type": "code",
   "execution_count": null,
   "id": "0c20a43b",
   "metadata": {},
   "outputs": [],
   "source": [
    "statistics,pvalue = jarque_bera(sqrt_claim)"
   ]
  },
  {
   "cell_type": "code",
   "execution_count": null,
   "id": "ccc17cea",
   "metadata": {},
   "outputs": [],
   "source": [
    "print('statistics=%.3f, p=%.3f\\n' %(statistics, pvalue))\n",
    "if pvalue>0.05:\n",
    "    print(\"Probably Normal\")\n",
    "else:\n",
    "    print(\"Probably not Normal\")"
   ]
  },
  {
   "cell_type": "code",
   "execution_count": null,
   "id": "16ca96c1",
   "metadata": {},
   "outputs": [],
   "source": [
    "statistics,pvalue = jarque_bera(claim)"
   ]
  },
  {
   "cell_type": "code",
   "execution_count": null,
   "id": "51532814",
   "metadata": {},
   "outputs": [],
   "source": [
    "print('statistics=%.3f, p=%.3f\\n' %(statistics, pvalue))\n",
    "if pvalue>0.05:\n",
    "    print(\"Probably Normal\")\n",
    "else:\n",
    "    print(\"Probably not Normal\")"
   ]
  },
  {
   "cell_type": "code",
   "execution_count": null,
   "id": "26244118",
   "metadata": {},
   "outputs": [],
   "source": [
    "transformed_data, best_lambda = boxcox(unemploy1[\"total_claims\"])\n",
    "sns.distplot(transformed_data)\n",
    "ed_9_11=boxcox(unemploy[\"edu_grades_9_11\"])"
   ]
  },
  {
   "cell_type": "code",
   "execution_count": null,
   "id": "0364f416",
   "metadata": {},
   "outputs": [],
   "source": [
    "transformed_data, best_lambda = boxcox(unemploy1[\"total_claims\"])\n",
    "sns.distplot(transformed_data)\n",
    "ed_9_11=boxcox(unemploy1[\"edu_grades_9_11\"])"
   ]
  },
  {
   "cell_type": "code",
   "execution_count": null,
   "id": "09ab6943",
   "metadata": {},
   "outputs": [],
   "source": [
    "transformed_data, best_lambda = boxcox(unemploy1[\"total_claims\"])\n",
    "sns.distplot(unemploy1[\"edu_grades_9_11\"])"
   ]
  },
  {
   "cell_type": "code",
   "execution_count": null,
   "id": "c5aea849",
   "metadata": {},
   "outputs": [],
   "source": [
    "transformed_data, best_lambda = boxcox(unemploy1[\"total_claims\"])\n",
    "sns.distplot(unemploy1[\"race_white\"])"
   ]
  },
  {
   "cell_type": "code",
   "execution_count": null,
   "id": "59e1dd3b",
   "metadata": {},
   "outputs": [],
   "source": [
    "transformed_data, best_lambda = boxcox(unemploy1[\"total_claims\"])\n",
    "sns.distplot(unemploy1[\"race_black\"])"
   ]
  },
  {
   "cell_type": "code",
   "execution_count": null,
   "id": "ee75703e",
   "metadata": {},
   "outputs": [],
   "source": [
    "transformed_data, best_lambda = boxcox(unemploy1[\"total_claims\"])\n",
    "sns.distplot(unemploy1[\"race_amerindian\"])"
   ]
  },
  {
   "cell_type": "code",
   "execution_count": null,
   "id": "b68184e5",
   "metadata": {},
   "outputs": [],
   "source": [
    "transformed_data, best_lambda = boxcox(unemploy1[\"total_claims\"])\n",
    "sns.distplot(unemploy1[\"race_asian\"])"
   ]
  },
  {
   "cell_type": "code",
   "execution_count": null,
   "id": "c8d9cad6",
   "metadata": {},
   "outputs": [],
   "source": [
    "from sklearn.experimental import enable_iterative_imputer\n",
    "from sklearn.impute import IterativeImputer\n",
    "from sklearn.impute import KNNImputer\n",
    "from sklearn.preprocessing import StandardScaler\n",
    "from sklearn.preprocessing import MinMaxScaler"
   ]
  },
  {
   "cell_type": "code",
   "execution_count": null,
   "id": "bd05af2c",
   "metadata": {},
   "outputs": [],
   "source": [
    "from scipy import stats\n",
    "from scipy.stats import boxcox\n",
    "from scipy.stats import jarque_bera\n",
    "from scipy.stats import shapiro\n",
    "from scipy.stats import skew"
   ]
  },
  {
   "cell_type": "code",
   "execution_count": null,
   "id": "d56c2a95",
   "metadata": {},
   "outputs": [],
   "source": [
    "import numpy as np\n",
    "from numpy import isnan\n",
    "from matplotlib import pyplot"
   ]
  },
  {
   "cell_type": "code",
   "execution_count": null,
   "id": "29f091d5",
   "metadata": {},
   "outputs": [],
   "source": [
    "import seaborn as sns\n",
    "import matplotlib \n",
    "import matplotlib.pyplot as plt\n",
    "import plotly \n",
    "import plotly.express as px"
   ]
  },
  {
   "cell_type": "code",
   "execution_count": null,
   "id": "ef3ca993",
   "metadata": {},
   "outputs": [],
   "source": [
    "import pandas as pd"
   ]
  },
  {
   "cell_type": "code",
   "execution_count": null,
   "id": "ad273089",
   "metadata": {},
   "outputs": [],
   "source": [
    "scaler= MinMaxScaler()\n",
    "scaler.fit(unemploy1)\n",
    "# transform the test test\n",
    "scaled1 = scaler.transform(unemploy1)"
   ]
  },
  {
   "cell_type": "code",
   "execution_count": null,
   "id": "6ec4ca62",
   "metadata": {},
   "outputs": [],
   "source": [
    "scaler"
   ]
  },
  {
   "cell_type": "code",
   "execution_count": null,
   "id": "88d2313b",
   "metadata": {},
   "outputs": [],
   "source": [
    "scaled1"
   ]
  },
  {
   "cell_type": "code",
   "execution_count": null,
   "id": "645a2d95",
   "metadata": {},
   "outputs": [],
   "source": [
    "scaler= MinMaxScaler()\n",
    "# transform the test test\n",
    "scaled1 = pd.DataFrame(scaler.transform_fit(unemploy1),columns=unemploy1.columns)"
   ]
  },
  {
   "cell_type": "code",
   "execution_count": null,
   "id": "b1f84675",
   "metadata": {},
   "outputs": [],
   "source": [
    "scaler= MinMaxScaler()\n",
    "# transform the test test\n",
    "scaled1 = pd.DataFrame(scaler.fit_transform(unemploy1),columns=unemploy1.columns)"
   ]
  },
  {
   "cell_type": "code",
   "execution_count": null,
   "id": "f073fba7",
   "metadata": {},
   "outputs": [],
   "source": [
    "scaled1"
   ]
  },
  {
   "cell_type": "code",
   "execution_count": null,
   "id": "19efbc0a",
   "metadata": {},
   "outputs": [],
   "source": [
    "sns.distplot(scaled1[\"total_claims\"])"
   ]
  },
  {
   "cell_type": "code",
   "execution_count": null,
   "id": "ad2e9c73",
   "metadata": {},
   "outputs": [],
   "source": [
    "sns.distplot(scaled1[\"race_asian\"])"
   ]
  },
  {
   "cell_type": "code",
   "execution_count": null,
   "id": "1f97ebe9",
   "metadata": {},
   "outputs": [],
   "source": [
    "unemploy1[\"race_asian\"].unique()"
   ]
  },
  {
   "cell_type": "code",
   "execution_count": null,
   "id": "fa44d2da",
   "metadata": {},
   "outputs": [],
   "source": [
    "unemploy1[\"race_asian\"].unique().count()"
   ]
  },
  {
   "cell_type": "code",
   "execution_count": null,
   "id": "8fec585f",
   "metadata": {},
   "outputs": [],
   "source": [
    "unemploy1[\"race_asian\"].unique().counts()"
   ]
  },
  {
   "cell_type": "code",
   "execution_count": null,
   "id": "4c572a5f",
   "metadata": {},
   "outputs": [],
   "source": [
    "unemploy1[\"race_asian\"].unique().counts"
   ]
  },
  {
   "cell_type": "code",
   "execution_count": null,
   "id": "bfdfd2c2",
   "metadata": {},
   "outputs": [],
   "source": [
    "unemploy_ish=pd.DataFrame(np.arcsinh(unemploy1),columns=unemploy1)"
   ]
  },
  {
   "cell_type": "code",
   "execution_count": null,
   "id": "a7731fb3",
   "metadata": {},
   "outputs": [],
   "source": [
    "unemploy_ish=pd.DataFrame(np.arcsinh(unemploy1[\"edu_hs_grad_quiv\"]))"
   ]
  },
  {
   "cell_type": "code",
   "execution_count": null,
   "id": "92723184",
   "metadata": {},
   "outputs": [],
   "source": [
    "unemploy_ish=pd.DataFrame(np.arcsinh(unemploy1[\"edu_hs_grad_equiv\"]))"
   ]
  },
  {
   "cell_type": "code",
   "execution_count": null,
   "id": "bbab87f4",
   "metadata": {},
   "outputs": [],
   "source": [
    "unemploy_ish=pd.DataFrame(np.arcsinh(unemploy1[\"edu_hs_grad_equiv\"]))\n",
    "sns.distplot(unemploy_ish)"
   ]
  },
  {
   "cell_type": "code",
   "execution_count": null,
   "id": "07637abe",
   "metadata": {},
   "outputs": [],
   "source": [
    "unemploy_ish=pd.DataFrame(np.arcsinh(unemploy1[\"edu_hs_grad_equiv\"]))\n",
    "sns.displot(unemploy_ish)"
   ]
  },
  {
   "cell_type": "code",
   "execution_count": null,
   "id": "167897b8",
   "metadata": {},
   "outputs": [],
   "source": [
    "statistics,pvalue = jarque_bera(unemploy_ish)"
   ]
  },
  {
   "cell_type": "code",
   "execution_count": null,
   "id": "4b1fec47",
   "metadata": {},
   "outputs": [],
   "source": [
    "print('statistics=%.3f, p=%.3f\\n' %(statistics, pvalue))\n",
    "if pvalue>0.05:\n",
    "    print(\"Probably Normal\")\n",
    "else:\n",
    "    print(\"Probably not Normal\")"
   ]
  },
  {
   "cell_type": "code",
   "execution_count": null,
   "id": "dbadf505",
   "metadata": {},
   "outputs": [],
   "source": [
    "stats.probplot(unemploy_ish)"
   ]
  },
  {
   "cell_type": "code",
   "execution_count": null,
   "id": "2cbf7be7",
   "metadata": {},
   "outputs": [],
   "source": [
    "unemploy_ish"
   ]
  },
  {
   "cell_type": "code",
   "execution_count": null,
   "id": "7c83202a",
   "metadata": {},
   "outputs": [],
   "source": [
    "stats.probplot(unemploy_ish,dist=\"norm\",plot=pylab)\n",
    "pylab.show()"
   ]
  },
  {
   "cell_type": "code",
   "execution_count": null,
   "id": "acff5621",
   "metadata": {},
   "outputs": [],
   "source": [
    "unemploy_ish=pd.DataFrame(np.arcsinh(unemploy1[\"edu_hs_grad_equiv\"]))\n",
    "sns.distplot(unemploy_ish)"
   ]
  },
  {
   "cell_type": "code",
   "execution_count": null,
   "id": "e01fc9b7",
   "metadata": {},
   "outputs": [],
   "source": [
    "unemploy_ish"
   ]
  },
  {
   "cell_type": "code",
   "execution_count": null,
   "id": "1b2ccbc5",
   "metadata": {},
   "outputs": [],
   "source": [
    "unemploy_ish1=np.arcsinh(unemploy1[\"edu_hs_grad_equiv\"])\n",
    "sns.distplot(unemploy_ish)"
   ]
  },
  {
   "cell_type": "code",
   "execution_count": null,
   "id": "0f2514da",
   "metadata": {},
   "outputs": [],
   "source": [
    "stats.probplot(unemploy_ish1,dist=\"norm\",plot=pylab)\n",
    "pylab.show()"
   ]
  },
  {
   "cell_type": "code",
   "execution_count": null,
   "id": "052455be",
   "metadata": {},
   "outputs": [],
   "source": [
    "statistics,pvalue = jarque_bera(unemploy_ish1)"
   ]
  },
  {
   "cell_type": "code",
   "execution_count": null,
   "id": "45002121",
   "metadata": {},
   "outputs": [],
   "source": [
    "print('statistics=%.3f, p=%.3f\\n' %(statistics, pvalue))\n",
    "if pvalue>0.05:\n",
    "    print(\"Probably Normal\")\n",
    "else:\n",
    "    print(\"Probably not Normal\")"
   ]
  },
  {
   "cell_type": "code",
   "execution_count": null,
   "id": "fc7af8c4",
   "metadata": {},
   "outputs": [],
   "source": [
    "unemploy_ish=pd.DataFrame(np.arcsinh(unemploy1[\"edu_hs_grad_equiv\"]))\n",
    "unemployed_ish=boxcox.fit_transform(unemploy_ish)\n",
    "sns.distplot(unemployed_ish)"
   ]
  },
  {
   "cell_type": "code",
   "execution_count": null,
   "id": "bf12f40b",
   "metadata": {},
   "outputs": [],
   "source": [
    "unemploy_ish=pd.DataFrame(np.arcsinh(unemploy1[\"edu_hs_grad_equiv\"]))\n",
    "unemployed_ish=boxcox.transform_fit(unemploy_ish)\n",
    "sns.distplot(unemployed_ish)"
   ]
  },
  {
   "cell_type": "code",
   "execution_count": null,
   "id": "6fa9f1f8",
   "metadata": {},
   "outputs": [],
   "source": [
    "unemploy_ish=pd.DataFrame(np.arcsinh(unemploy1[\"edu_hs_grad_equiv\"]))\n",
    "unemployed_ish=boxcox(unemploy_ish)\n",
    "sns.distplot(unemployed_ish)"
   ]
  },
  {
   "cell_type": "code",
   "execution_count": null,
   "id": "7ee10cd1",
   "metadata": {},
   "outputs": [],
   "source": [
    "unemploy1[\"gender_male\"]"
   ]
  },
  {
   "cell_type": "code",
   "execution_count": null,
   "id": "52ca7456",
   "metadata": {},
   "outputs": [],
   "source": [
    "unemploy1"
   ]
  },
  {
   "cell_type": "code",
   "execution_count": null,
   "id": "100fefbb",
   "metadata": {},
   "outputs": [],
   "source": [
    "Q1 = np.percentile(unemploy1[\"total_claims\"], 25,\n",
    "                   interpolation = 'midpoint')"
   ]
  },
  {
   "cell_type": "code",
   "execution_count": null,
   "id": "c2011b22",
   "metadata": {},
   "outputs": [],
   "source": [
    "Q3 = np.percentile(unemploy1[\"total_claims\"], 75,\n",
    "                   interpolation = 'midpoint')\n",
    "IQR = Q3 - Q1"
   ]
  },
  {
   "cell_type": "code",
   "execution_count": null,
   "id": "53cee821",
   "metadata": {},
   "outputs": [],
   "source": [
    "print(\"Old Shape: \", unemploy1.shape)"
   ]
  },
  {
   "cell_type": "code",
   "execution_count": null,
   "id": "b90130d5",
   "metadata": {},
   "outputs": [],
   "source": [
    "# Upper bound\n",
    "upper = np.where(unemploy1[\"total_claims\"]>= (Q3+1.5*IQR))\n",
    "# Lower bound\n",
    "lower = np.where(unemploy1[\"total_claims\"]<= (Q1-1.5*IQR))"
   ]
  },
  {
   "cell_type": "code",
   "execution_count": null,
   "id": "b8418918",
   "metadata": {},
   "outputs": [],
   "source": [
    "''' Removing the Outliers '''\n",
    "unemploy1.drop(upper[0], inplace = True)\n",
    "unemploy1.drop(lower[0], inplace = True)"
   ]
  },
  {
   "cell_type": "code",
   "execution_count": null,
   "id": "3fc4f79d",
   "metadata": {},
   "outputs": [],
   "source": [
    "print(\"New Shape: \", unemploy1.shape)"
   ]
  },
  {
   "cell_type": "code",
   "execution_count": null,
   "id": "1969a059",
   "metadata": {},
   "outputs": [],
   "source": [
    "unemploy1.shape"
   ]
  },
  {
   "cell_type": "code",
   "execution_count": null,
   "id": "de272e9e",
   "metadata": {},
   "outputs": [],
   "source": [
    "sns.distplot(unemploy1[\"total_claims\"])"
   ]
  },
  {
   "cell_type": "code",
   "execution_count": null,
   "id": "9507bb83",
   "metadata": {},
   "outputs": [],
   "source": [
    "sns.histplot(unemploy1[\"total_claims\"])"
   ]
  },
  {
   "cell_type": "code",
   "execution_count": null,
   "id": "6de32fa8",
   "metadata": {},
   "outputs": [],
   "source": [
    "sns.distplot(unemploy1[\"total_claims\"])"
   ]
  },
  {
   "cell_type": "code",
   "execution_count": null,
   "id": "78d86d1b",
   "metadata": {},
   "outputs": [],
   "source": [
    "sns.distplot(unemploy1)"
   ]
  },
  {
   "cell_type": "code",
   "execution_count": null,
   "id": "b533fc3e",
   "metadata": {},
   "outputs": [],
   "source": [
    "sns.distplot(unemploy1[\"gender_male\"])"
   ]
  },
  {
   "cell_type": "code",
   "execution_count": null,
   "id": "8a70d55f",
   "metadata": {},
   "outputs": [],
   "source": [
    "sns.distplot(unemploy1[\"gender_female\"])"
   ]
  },
  {
   "cell_type": "code",
   "execution_count": null,
   "id": "3f4b85e6",
   "metadata": {},
   "outputs": [],
   "source": [
    "sns.distplot(unemploy1[\"gender_na\"])"
   ]
  },
  {
   "cell_type": "code",
   "execution_count": null,
   "id": "1ac0e917",
   "metadata": {},
   "outputs": [],
   "source": [
    "sns.distplot(unemploy1[\"race_whaite\"])"
   ]
  },
  {
   "cell_type": "code",
   "execution_count": null,
   "id": "1940cf7f",
   "metadata": {},
   "outputs": [],
   "source": [
    "sns.distplot(unemploy1[\"race_white\"])"
   ]
  },
  {
   "cell_type": "code",
   "execution_count": null,
   "id": "7b7dda95",
   "metadata": {},
   "outputs": [],
   "source": [
    "sns.distplot(unemploy1[\"race_black\"])"
   ]
  },
  {
   "cell_type": "code",
   "execution_count": null,
   "id": "b54d1646",
   "metadata": {},
   "outputs": [],
   "source": [
    "sns.distplot(unemploy1[\"race_amerindian\"])"
   ]
  },
  {
   "cell_type": "code",
   "execution_count": null,
   "id": "a563a1a0",
   "metadata": {},
   "outputs": [],
   "source": [
    "sns.distplot(unemploy1[\"race_asian\"])"
   ]
  },
  {
   "cell_type": "code",
   "execution_count": null,
   "id": "950ae4d4",
   "metadata": {},
   "outputs": [],
   "source": [
    "sns.distplot(unemploy1[\"race_noanswere\"])"
   ]
  },
  {
   "cell_type": "code",
   "execution_count": null,
   "id": "ff84568e",
   "metadata": {},
   "outputs": [],
   "source": [
    "sns.distplot(unemploy1[\"race_noanswer\"])"
   ]
  },
  {
   "cell_type": "code",
   "execution_count": null,
   "id": "3388e9cf",
   "metadata": {},
   "outputs": [],
   "source": [
    "sns.distplot(unemploy1[\"race_other\"])"
   ]
  },
  {
   "cell_type": "code",
   "execution_count": null,
   "id": "28723683",
   "metadata": {},
   "outputs": [],
   "source": [
    "sns.distplot(unemploy1[\"edu_hs_grad_equiv\"])"
   ]
  },
  {
   "cell_type": "code",
   "execution_count": null,
   "id": "75756dc5",
   "metadata": {},
   "outputs": [],
   "source": [
    "sns.heatmap(unemploy1.corr(method=\"spearman\"))"
   ]
  },
  {
   "cell_type": "code",
   "execution_count": null,
   "id": "8d4747b9",
   "metadata": {},
   "outputs": [],
   "source": [
    "trial[\"uuid\"].unique()"
   ]
  },
  {
   "cell_type": "code",
   "execution_count": null,
   "id": "223db54a",
   "metadata": {},
   "outputs": [],
   "source": [
    "trial[\"uu_id\"].unique()"
   ]
  },
  {
   "cell_type": "code",
   "execution_count": null,
   "id": "465bc61a",
   "metadata": {},
   "outputs": [],
   "source": [
    "trial[\"uu_id\"].unique().sum()"
   ]
  },
  {
   "cell_type": "code",
   "execution_count": null,
   "id": "fda2eff3",
   "metadata": {},
   "outputs": [],
   "source": [
    "trial[\"uu_id\"].unique().count()"
   ]
  },
  {
   "cell_type": "code",
   "execution_count": null,
   "id": "160567d3",
   "metadata": {
    "lines_to_next_cell": 2
   },
   "outputs": [],
   "source": [
    "trial[\"uu_id\"].unique().count"
   ]
  }
 ],
 "metadata": {
  "jupytext": {
   "cell_metadata_filter": "-all",
   "main_language": "python",
   "notebook_metadata_filter": "-all"
  }
 },
 "nbformat": 4,
 "nbformat_minor": 5
}
