{
 "cells": [
  {
   "cell_type": "code",
   "execution_count": null,
   "id": "7359fc31",
   "metadata": {},
   "outputs": [],
   "source": [
    "# remove unnecessary colomns and combine unemployment data together with wages\n",
    "unemployment_sample = unemployment_data.copy()\n",
    "unemployment_sample = unemployment_sample.drop(['timeperiod', 'tract', 'tract_name', 'edu_8th_or_less', 'edu_grades_9_11', 'edu_hs_grad_equiv', 'edu_post_hs',\\\n",
    "                                               'edu_unknown', 'top_category_employer1', 'top_category_employer2', 'top_category_employer3', 'gender_female', 'gender_male',\\\n",
    "                                                'gender_na', 'race_amerindian', 'race_asian', 'race_black', 'race_noanswer', 'race_hawaiiannative',\\\n",
    "                                               'race_other', 'race_white'], axis=1)\n",
    "wage_sample = wage_data.copy()\n",
    "wage_sample.drop(['tract', 'tract_name'], axis=1)\n",
    "prediction_sample = prediction_list.copy()\n",
    "wages_dict = {i:wage_sample[\"average_wage\"].values[k] for k,i in enumerate(wage_sample[\"uu_id\"])}\n",
    "wage_list = [wages_dict[i]  for i in unemployment_sample[\"uu_id\"]]\n",
    "print(wages_dict)\n",
    "unemployment_sample[\"average_wage\"] = wage_list"
   ]
  },
  {
   "cell_type": "code",
   "execution_count": null,
   "id": "2beb70b3",
   "metadata": {},
   "outputs": [],
   "source": [
    "tract_dic = {i:k for k,i in enumerate(wage_sample[\"uu_id\"])}"
   ]
  },
  {
   "cell_type": "code",
   "execution_count": null,
   "id": "81d1bc77",
   "metadata": {},
   "outputs": [],
   "source": [
    "unemployment_sample[\"uu_id\"] = [tract_dic[i] for i in unemployment_sample[\"uu_id\"]]"
   ]
  },
  {
   "cell_type": "code",
   "execution_count": null,
   "id": "da9d2665",
   "metadata": {},
   "outputs": [],
   "source": [
    "# remove unnecessary colomns and combine unemployment data together with wages\n",
    "unemployment_sample = unemployment_data.copy()\n",
    "unemployment_sample = unemployment_sample.drop(['timeperiod', 'tract', 'tract_name', 'edu_8th_or_less', 'edu_grades_9_11', 'edu_hs_grad_equiv', 'edu_post_hs',\\\n",
    "                                               'edu_unknown', 'top_category_employer1', 'top_category_employer2', 'top_category_employer3', 'gender_female', 'gender_male',\\\n",
    "                                                'gender_na', 'race_amerindian', 'race_asian', 'race_black', 'race_noanswer', 'race_hawaiiannative',\\\n",
    "                                               'race_other', 'race_white'], axis=1)\n",
    "wage_sample = wage_data.copy()\n",
    "wage_sample.drop(['tract', 'tract_name'], axis=1)\n",
    "prediction_sample = prediction_list.copy()\n",
    "wages_dict = {i:wage_sample[\"average_wage\"].values[k] for k,i in enumerate(wage_sample[\"uu_id\"])}\n",
    "wage_list = [wages_dict[i]  for i in unemployment_sample[\"uu_id\"]]\n",
    "# print(wages_dict)\n",
    "unemployment_sample[\"average_wage\"] = wage_list"
   ]
  },
  {
   "cell_type": "code",
   "execution_count": null,
   "id": "b681479d",
   "metadata": {},
   "outputs": [],
   "source": [
    "tract_dic = {i:k for k,i in enumerate(wage_sample[\"uu_id\"])}"
   ]
  },
  {
   "cell_type": "code",
   "execution_count": null,
   "id": "c1bdd6a1",
   "metadata": {},
   "outputs": [],
   "source": [
    "unemployment_sample[\"uu_id\"] = [tract_dic[i] for i in unemployment_sample[\"uu_id\"]]"
   ]
  },
  {
   "cell_type": "code",
   "execution_count": null,
   "id": "477becb0",
   "metadata": {},
   "outputs": [],
   "source": [
    "get_ipython().run_cell_magic('capture', '', \"%logstop\\n%logstart -t -r -q ipython_command_log.py global\\n\\n#- IRONHACKS RESEARCH TRACKING CODE\\n#----------------------------------\\n# The following code is used to help our research team understand how you \\n# our notebook environment. We do not collect any personal information with\\n# the following code, it is used to measure when and how often you work on\\n# your submission files.\\n\\nimport os\\nfrom datetime import datetime\\nimport IPython.core.history as history\\n\\nha = history.HistoryAccessor()\\nha_tail = ha.get_tail(1)\\nha_cmd = next(ha_tail)\\nsession_id = str(ha_cmd[0])\\ncommand_id = str(ha_cmd[1])\\ntimestamp = datetime.utcnow().isoformat()\\nhistory_line = ','.join([session_id, command_id, timestamp]) + '\\\\n'\\nlogfile = open(os.environ['HOME']+'/ipython_session_log.csv', 'a')\\nlogfile.write(history_line)\\nlogfile.close()\\n\")"
   ]
  },
  {
   "cell_type": "code",
   "execution_count": null,
   "id": "07866f11",
   "metadata": {},
   "outputs": [],
   "source": [
    "get_ipython().run_cell_magic('capture', '', \"\\n#- INSTALL ADDITIONAL LIBRARIES IF REQUIRED\\n#------------------------------------------\\n# This is normally not required. The hub environment comes preinstaled with \\n# many packages that you can already use without setup. In case there is some\\n# other library you would like to use that isn't on the list you run this command\\n# once to install them.  If it is already installed this command has no effect.\\n\\n!python3 -m pip install pandas\\n\")"
   ]
  },
  {
   "cell_type": "markdown",
   "id": "ec096408",
   "metadata": {},
   "source": [
    "- IMPORT THE LIBRARIES YOU WILL USE\n",
    "------------------------------------------\n",
    "You only need to import packages one time per notebook session. To keep your\n",
    "notebook clean and organized you can handle all imports at the top of your file.\n",
    "The following are included for example purposed, feel free to modify or delete \n",
    "anything in this section."
   ]
  },
  {
   "cell_type": "code",
   "execution_count": null,
   "id": "bd71a2d5",
   "metadata": {
    "lines_to_next_cell": 1
   },
   "outputs": [],
   "source": [
    "import csv\n",
    "import pandas as pd\n",
    "import numpy as np\n",
    "from google.cloud import bigquery\n",
    "from google.oauth2 import service_account\n",
    "from google.cloud.bigquery import magics"
   ]
  },
  {
   "cell_type": "markdown",
   "id": "bf4b6129",
   "metadata": {},
   "source": [
    "- DEFINE YOUR CLASSES AND FUNCTIONS \n",
    "-----------------------------------\n",
    "This is not required, but is helpful in keeping your notebook organized. \n",
    "You can use the following cell or several cells to define your functions\n",
    "and classes to keep them separate from your analysis or results code.\n",
    "In general it useful to define your methods in a separate cell from where\n",
    "it is run."
   ]
  },
  {
   "cell_type": "code",
   "execution_count": null,
   "id": "2a38286e",
   "metadata": {
    "lines_to_next_cell": 1
   },
   "outputs": [],
   "source": [
    "def example_function():\n",
    "    print('Hello World')"
   ]
  },
  {
   "cell_type": "code",
   "execution_count": null,
   "id": "7fd605fb",
   "metadata": {},
   "outputs": [],
   "source": [
    "BIGQUERY_PROJECT = 'ironhacks-data'\n",
    "bigquery_client = bigquery.Client(project=BIGQUERY_PROJECT)"
   ]
  },
  {
   "cell_type": "code",
   "execution_count": null,
   "id": "1d438ba7",
   "metadata": {},
   "outputs": [],
   "source": [
    "query = \"\"\"\n",
    "SELECT *\n",
    "FROM `ironhacks-data.ironhacks_competition.unemployment_data`\n",
    "\"\"\""
   ]
  },
  {
   "cell_type": "code",
   "execution_count": null,
   "id": "07298c9d",
   "metadata": {},
   "outputs": [],
   "source": [
    "query_job = bigquery_client.query(query)\n",
    "unemployment_data = query_job.to_dataframe()\n",
    "print(unemployment_data)"
   ]
  },
  {
   "cell_type": "code",
   "execution_count": null,
   "id": "91d402e2",
   "metadata": {},
   "outputs": [],
   "source": [
    "print(unemployment_sample.loc[1])"
   ]
  },
  {
   "cell_type": "code",
   "execution_count": null,
   "id": "ad5bad4a",
   "metadata": {},
   "outputs": [],
   "source": [
    "X = unemployment_sample.drop([\"total_claims\"], axis=1).to_numpy() #to_numpy() values\n",
    "y = unemployment_sample['total_claims'].to_numpy()   #to_numpy() values\n",
    "# print(X.shape,y.shape)"
   ]
  },
  {
   "cell_type": "code",
   "execution_count": null,
   "id": "10d55812",
   "metadata": {},
   "outputs": [],
   "source": [
    "get_ipython().run_cell_magic('capture', '', \"%logstop\\n%logstart -t -r -q ipython_command_log.py global\\n\\n#- IRONHACKS RESEARCH TRACKING CODE\\n#----------------------------------\\n# The following code is used to help our research team understand how you \\n# our notebook environment. We do not collect any personal information with\\n# the following code, it is used to measure when and how often you work on\\n# your submission files.\\n\\nimport os\\nfrom datetime import datetime\\nimport IPython.core.history as history\\n\\nha = history.HistoryAccessor()\\nha_tail = ha.get_tail(1)\\nha_cmd = next(ha_tail)\\nsession_id = str(ha_cmd[0])\\ncommand_id = str(ha_cmd[1])\\ntimestamp = datetime.utcnow().isoformat()\\nhistory_line = ','.join([session_id, command_id, timestamp]) + '\\\\n'\\nlogfile = open(os.environ['HOME']+'/ipython_session_log.csv', 'a')\\nlogfile.write(history_line)\\nlogfile.close()\\n\")"
   ]
  },
  {
   "cell_type": "code",
   "execution_count": null,
   "id": "2467e22f",
   "metadata": {},
   "outputs": [],
   "source": [
    "get_ipython().run_cell_magic('capture', '', \"\\n#- INSTALL ADDITIONAL LIBRARIES IF REQUIRED\\n#------------------------------------------\\n# This is normally not required. The hub environment comes preinstaled with \\n# many packages that you can already use without setup. In case there is some\\n# other library you would like to use that isn't on the list you run this command\\n# once to install them.  If it is already installed this command has no effect.\\n\\n!python3 -m pip install pandas db-dtypes\\n\")"
   ]
  },
  {
   "cell_type": "markdown",
   "id": "c75c6f3f",
   "metadata": {},
   "source": [
    "- IMPORT THE LIBRARIES YOU WILL USE\n",
    "------------------------------------------\n",
    "You only need to import packages one time per notebook session. To keep your\n",
    "notebook clean and organized you can handle all imports at the top of your file.\n",
    "The following are included for example purposed, feel free to modify or delete \n",
    "anything in this section."
   ]
  },
  {
   "cell_type": "code",
   "execution_count": null,
   "id": "eda568ae",
   "metadata": {
    "lines_to_next_cell": 1
   },
   "outputs": [],
   "source": [
    "import csv\n",
    "import pandas as pd\n",
    "import numpy as np\n",
    "from google.cloud import bigquery\n",
    "from google.oauth2 import service_account\n",
    "from google.cloud.bigquery import magics"
   ]
  },
  {
   "cell_type": "markdown",
   "id": "01b156e7",
   "metadata": {},
   "source": [
    "- DEFINE YOUR CLASSES AND FUNCTIONS \n",
    "-----------------------------------\n",
    "This is not required, but is helpful in keeping your notebook organized. \n",
    "You can use the following cell or several cells to define your functions\n",
    "and classes to keep them separate from your analysis or results code.\n",
    "In general it useful to define your methods in a separate cell from where\n",
    "it is run."
   ]
  },
  {
   "cell_type": "code",
   "execution_count": null,
   "id": "8131d07e",
   "metadata": {
    "lines_to_next_cell": 1
   },
   "outputs": [],
   "source": [
    "def example_function():\n",
    "    print('Hello World')"
   ]
  },
  {
   "cell_type": "code",
   "execution_count": null,
   "id": "af5b6cc7",
   "metadata": {},
   "outputs": [],
   "source": [
    "BIGQUERY_PROJECT = 'ironhacks-data'\n",
    "bigquery_client = bigquery.Client(project=BIGQUERY_PROJECT)"
   ]
  },
  {
   "cell_type": "code",
   "execution_count": null,
   "id": "ee6818b2",
   "metadata": {},
   "outputs": [],
   "source": [
    "query = \"\"\"\n",
    "SELECT *\n",
    "FROM `ironhacks-data.ironhacks_competition.unemployment_data`\n",
    "\"\"\""
   ]
  },
  {
   "cell_type": "code",
   "execution_count": null,
   "id": "f528d296",
   "metadata": {
    "lines_to_next_cell": 2
   },
   "outputs": [],
   "source": [
    "query_job = bigquery_client.query(query)\n",
    "unemployment_data = query_job.to_dataframe()\n",
    "print(unemployment_data)"
   ]
  }
 ],
 "metadata": {
  "jupytext": {
   "cell_metadata_filter": "-all",
   "main_language": "python",
   "notebook_metadata_filter": "-all"
  }
 },
 "nbformat": 4,
 "nbformat_minor": 5
}
