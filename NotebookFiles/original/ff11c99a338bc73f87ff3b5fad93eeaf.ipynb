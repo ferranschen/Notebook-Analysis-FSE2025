{
 "cells": [
  {
   "cell_type": "code",
   "execution_count": null,
   "id": "51d848b7",
   "metadata": {},
   "outputs": [],
   "source": [
    "get_ipython().run_cell_magic('capture', 'cont', '!pip install db-dtypes\\n')"
   ]
  },
  {
   "cell_type": "code",
   "execution_count": null,
   "id": "97f27115",
   "metadata": {},
   "outputs": [],
   "source": [
    "cont.show()"
   ]
  },
  {
   "cell_type": "code",
   "execution_count": null,
   "id": "ff6d0883",
   "metadata": {},
   "outputs": [],
   "source": [
    "import pandas as pd\n",
    "import numpy as np\n",
    "import matplotlib\n",
    "import matplotlib.pyplot as plt\n",
    "import seaborn as sns\n",
    "get_ipython().run_line_magic('matplotlib', 'inline')"
   ]
  },
  {
   "cell_type": "code",
   "execution_count": null,
   "id": "3c73a020",
   "metadata": {},
   "outputs": [],
   "source": [
    "import os\n",
    "from google.cloud import bigquery\n",
    "from google.oauth2 import service_account\n",
    "from google.cloud.bigquery import magics"
   ]
  },
  {
   "cell_type": "code",
   "execution_count": null,
   "id": "30f847be",
   "metadata": {},
   "outputs": [],
   "source": [
    "import statsmodels.api as sm\n",
    "import itertools"
   ]
  },
  {
   "cell_type": "markdown",
   "id": "291247a8",
   "metadata": {},
   "source": [
    "CONFIGURE THE BIGQUERY SETTINGS"
   ]
  },
  {
   "cell_type": "code",
   "execution_count": null,
   "id": "d5b9400a",
   "metadata": {},
   "outputs": [],
   "source": [
    "BIGQUERY_PROJECT = 'ironhacks-data'\n",
    "bigquery_client = bigquery.Client(project=BIGQUERY_PROJECT)"
   ]
  },
  {
   "cell_type": "code",
   "execution_count": null,
   "id": "f3716ece",
   "metadata": {},
   "outputs": [],
   "source": [
    "#obtaining the unemployment data\n",
    "query = \"\"\"\n",
    "SELECT *\n",
    "FROM `ironhacks-data.ironhacks_competition.unemployment_data`\n",
    "\"\"\""
   ]
  },
  {
   "cell_type": "code",
   "execution_count": null,
   "id": "1a2d56ad",
   "metadata": {},
   "outputs": [],
   "source": [
    "# QUERY THE DATA ONCE\n",
    "query_job = bigquery_client.query(query)\n",
    "data = query_job.to_dataframe()\n",
    "#data['date']= pd.to_datetime(data['date'])\n",
    "data.head()"
   ]
  },
  {
   "cell_type": "code",
   "execution_count": null,
   "id": "e53351de",
   "metadata": {},
   "outputs": [],
   "source": [
    "#obtaining the submission file\n",
    "query = \"\"\"\n",
    "SELECT *\n",
    "FROM `ironhacks-data.ironhacks_competition.prediction_list`\n",
    "\"\"\""
   ]
  },
  {
   "cell_type": "code",
   "execution_count": null,
   "id": "7c91ba58",
   "metadata": {},
   "outputs": [],
   "source": [
    "# QUERY THE DATA ONCE\n",
    "query_job = bigquery_client.query(query)\n",
    "submit = query_job.to_dataframe()\n",
    "#data['date']= pd.to_datetime(data['date'])\n",
    "submit.head()"
   ]
  },
  {
   "cell_type": "code",
   "execution_count": null,
   "id": "7a27890e",
   "metadata": {},
   "outputs": [],
   "source": [
    "data.info()   #Feature Matrix\n",
    "#X = data.drop(\"date\",1)\n",
    "#y = data[\"wind_speed\"]          #Target Variable"
   ]
  },
  {
   "cell_type": "code",
   "execution_count": null,
   "id": "83c51bdf",
   "metadata": {},
   "outputs": [],
   "source": [
    "submit.info()"
   ]
  },
  {
   "cell_type": "markdown",
   "id": "518d5839",
   "metadata": {},
   "source": [
    "dropping duplicate rows in the data"
   ]
  },
  {
   "cell_type": "code",
   "execution_count": null,
   "id": "58e73df8",
   "metadata": {},
   "outputs": [],
   "source": [
    "data.drop_duplicates(inplace=True, ignore_index=True)\n",
    "data.info()"
   ]
  },
  {
   "cell_type": "markdown",
   "id": "6ef67a93",
   "metadata": {},
   "source": [
    "unique number of ID in the data"
   ]
  },
  {
   "cell_type": "code",
   "execution_count": null,
   "id": "05b7fdfa",
   "metadata": {},
   "outputs": [],
   "source": [
    "data.uu_id.unique().size"
   ]
  },
  {
   "cell_type": "markdown",
   "id": "08f8ba09",
   "metadata": {},
   "source": [
    "replace all na values with 0"
   ]
  },
  {
   "cell_type": "code",
   "execution_count": null,
   "id": "eae093c4",
   "metadata": {},
   "outputs": [],
   "source": [
    "data.fillna(0, inplace=True)"
   ]
  },
  {
   "cell_type": "code",
   "execution_count": null,
   "id": "472591da",
   "metadata": {},
   "outputs": [],
   "source": [
    "data.info()"
   ]
  },
  {
   "cell_type": "markdown",
   "id": "060a4715",
   "metadata": {},
   "source": [
    "number of weeks in the data for a random ID"
   ]
  },
  {
   "cell_type": "code",
   "execution_count": null,
   "id": "4eba992d",
   "metadata": {},
   "outputs": [],
   "source": [
    "test=data[data['uu_id']=='bbcb018f0e5e49e13636f6e78ce9f60f']\n",
    "len(test)"
   ]
  },
  {
   "cell_type": "markdown",
   "id": "39bd3ea4",
   "metadata": {},
   "source": [
    "convert the timeperiod column to datetime"
   ]
  },
  {
   "cell_type": "code",
   "execution_count": null,
   "id": "8c729a2f",
   "metadata": {},
   "outputs": [],
   "source": [
    "data['timeperiod']= pd.to_datetime(data['timeperiod'], format='%Y%m%d')"
   ]
  },
  {
   "cell_type": "code",
   "execution_count": null,
   "id": "721967e3",
   "metadata": {},
   "outputs": [],
   "source": [
    "plt.figure(figsize=(12,10))\n",
    "cor = data.corr()\n",
    "sns.heatmap(cor,  cmap=plt.cm.Reds)\n",
    "plt.show()"
   ]
  },
  {
   "cell_type": "code",
   "execution_count": null,
   "id": "44153465",
   "metadata": {},
   "outputs": [],
   "source": [
    "#Correlation with output variable\n",
    "cor_target = abs(cor[\"total_claims\"])\n",
    "#Selecting highly correlated features\n",
    "relevant_features = cor_target[cor_target>0.2]\n",
    "print(relevant_features)"
   ]
  },
  {
   "cell_type": "code",
   "execution_count": null,
   "id": "ff3be9c4",
   "metadata": {},
   "outputs": [],
   "source": [
    "columns_rel = relevant_features.index.to_list()"
   ]
  },
  {
   "cell_type": "code",
   "execution_count": null,
   "id": "ab8fd741",
   "metadata": {},
   "outputs": [],
   "source": [
    "data.plot(subplots=True, figsize=(20,24))"
   ]
  },
  {
   "cell_type": "code",
   "execution_count": null,
   "id": "a4e19c58",
   "metadata": {},
   "outputs": [],
   "source": [
    "min(data['timeperiod']),max(data['timeperiod'])"
   ]
  },
  {
   "cell_type": "code",
   "execution_count": null,
   "id": "c7f69a08",
   "metadata": {},
   "outputs": [],
   "source": [
    "data.dtypes"
   ]
  },
  {
   "cell_type": "markdown",
   "id": "b0e1d102",
   "metadata": {},
   "source": [
    "data = data.set_index('timeperiod')"
   ]
  },
  {
   "cell_type": "code",
   "execution_count": null,
   "id": "ecedd80a",
   "metadata": {},
   "outputs": [],
   "source": [
    "data.index"
   ]
  },
  {
   "cell_type": "markdown",
   "id": "26c5eaf8",
   "metadata": {},
   "source": [
    "data['Year'] = data.index.year\n",
    "data['Month'] = data.index.month\n",
    "data['Day'] = data.index.day\n",
    "Display a random sampling of 5 rows\n",
    "data.sample(5, random_state=0)"
   ]
  },
  {
   "cell_type": "code",
   "execution_count": null,
   "id": "03ceb387",
   "metadata": {},
   "outputs": [],
   "source": [
    "sns.set(rc={'figure.figsize':(11, 4)})"
   ]
  },
  {
   "cell_type": "code",
   "execution_count": null,
   "id": "0284e900",
   "metadata": {},
   "outputs": [],
   "source": [
    "data['total_claims'].plot(linewidth=.5);"
   ]
  },
  {
   "cell_type": "code",
   "execution_count": null,
   "id": "1b2c924a",
   "metadata": {},
   "outputs": [],
   "source": [
    "cols_plot = ['week_number','countyfips','tract','total_claims','edu_8th_or_less','edu_grades_9_11','edu_hs_grad_equiv','edu_post_hs',\n",
    "            'edu_unknown', 'gender_female', 'gender_male', 'gender_na', 'race_amerindian', 'race_asian', 'race_black', 'race_noanswer', \n",
    "            'race_hawaiiannative', 'race_other', 'race_white']\n",
    "axes = data[cols_plot].plot(marker='.', alpha=0.5, linestyle='None', figsize=(30, 25), subplots=True)\n",
    "for ax in axes:\n",
    "    ax.set_ylabel('features')"
   ]
  },
  {
   "cell_type": "markdown",
   "id": "a12c4be8",
   "metadata": {},
   "source": [
    "import matplotlib.dates as mdates\n",
    "fig, ax = plt.subplots()\n",
    "ax.plot(data.loc['2019-08':'2019-12', 'precipitation_data'], marker='o', linestyle='-')\n",
    "ax.set_ylabel('Precipitation')\n",
    "ax.set_title('Aug 2019-2020 Precipiation Data')"
   ]
  },
  {
   "cell_type": "code",
   "execution_count": null,
   "id": "89a0eb26",
   "metadata": {},
   "outputs": [],
   "source": [
    "#fig, axes = plt.subplots(3, 1, figsize=(11, 10), sharex=True)\n",
    "#for name, ax in zip(['precipitation_data', 'min_temperature', 'max_temperature'], axes):\n",
    "#    sns.boxplot(data=data, x='Month', y=name, ax=ax)\n",
    "#    ax.set_ylabel('precipitation')\n",
    "#    ax.set_title(name)\n",
    "    # Remove the automatic x-axis label from all but the bottom subplot\n",
    "#    if ax != axes[-1]:\n",
    "#        ax.set_xlabel('')"
   ]
  },
  {
   "cell_type": "markdown",
   "id": "7dfa52ed",
   "metadata": {},
   "source": [
    "sns.boxplot(data=data, x='Month', y='total_claims');"
   ]
  },
  {
   "cell_type": "markdown",
   "id": "18b2cb1b",
   "metadata": {},
   "source": [
    "from statsmodels.graphics.tsaplots import plot_acf\n",
    "plot_acf(x=data['max_temperature'], lags=50)"
   ]
  },
  {
   "cell_type": "code",
   "execution_count": null,
   "id": "0000afe8",
   "metadata": {},
   "outputs": [],
   "source": [
    "columns_rel.append('timeperiod')\n",
    "columns_rel.append('uu_id')\n",
    "columns_rel"
   ]
  },
  {
   "cell_type": "code",
   "execution_count": null,
   "id": "0d9b8dd5",
   "metadata": {},
   "outputs": [],
   "source": [
    "data"
   ]
  },
  {
   "cell_type": "code",
   "execution_count": null,
   "id": "5dbb2e84",
   "metadata": {},
   "outputs": [],
   "source": [
    "data_arima=data[columns_rel]\n",
    "data_arima"
   ]
  },
  {
   "cell_type": "code",
   "execution_count": null,
   "id": "5478beeb",
   "metadata": {},
   "outputs": [],
   "source": [
    "get_ipython().run_cell_magic('capture', '', \"unique_id=list(data_arima['uu_id'].unique())\\ndata_dict = {}\\n\\nfor i in unique_id:\\n    j = data_arima[data_arima['uu_id']==i].groupby('timeperiod')['total_claims'].sum().reset_index()\\n    j = j.set_index('timeperiod')\\n    data_dict[i] = j\\n\")"
   ]
  },
  {
   "cell_type": "markdown",
   "id": "b9a65a94",
   "metadata": {},
   "source": [
    "data_arima = data_arima.groupby('uu_id')[['total_claims', 'timeperiod','uu_id']]\n",
    "data_arima.head()"
   ]
  },
  {
   "cell_type": "markdown",
   "id": "7ff26e8e",
   "metadata": {},
   "source": [
    "data_arima_2 = data_arima.set_index('timeperiod')\n",
    "data_arima.index"
   ]
  },
  {
   "cell_type": "code",
   "execution_count": null,
   "id": "918189b7",
   "metadata": {},
   "outputs": [],
   "source": [
    "p = d = q = range(0, 2)\n",
    "pdq = list(itertools.product(p, d, q))\n",
    "seasonal_pdq = [(x[0], x[1], x[2], 12) for x in list(itertools.product(p, d, q))]\n",
    "print('Examples of parameter combinations for Seasonal ARIMA...')\n",
    "print('SARIMAX: {} x {}'.format(pdq[1], seasonal_pdq[1]))\n",
    "print('SARIMAX: {} x {}'.format(pdq[1], seasonal_pdq[2]))\n",
    "print('SARIMAX: {} x {}'.format(pdq[2], seasonal_pdq[3]))\n",
    "print('SARIMAX: {} x {}'.format(pdq[2], seasonal_pdq[4]))"
   ]
  },
  {
   "cell_type": "code",
   "execution_count": null,
   "id": "f5f04be3",
   "metadata": {},
   "outputs": [],
   "source": [
    "import warnings\n",
    "warnings.filterwarnings(\"ignore\")"
   ]
  },
  {
   "cell_type": "code",
   "execution_count": null,
   "id": "53e2a224",
   "metadata": {},
   "outputs": [],
   "source": [
    "with io.capture_output() as captured:"
   ]
  },
  {
   "cell_type": "code",
   "execution_count": null,
   "id": "30698b5a",
   "metadata": {},
   "outputs": [],
   "source": [
    "import csv"
   ]
  },
  {
   "cell_type": "code",
   "execution_count": null,
   "id": "e5b15833",
   "metadata": {},
   "outputs": [],
   "source": [
    "filename =\"param.csv\""
   ]
  },
  {
   "cell_type": "code",
   "execution_count": null,
   "id": "33d3e2a7",
   "metadata": {},
   "outputs": [],
   "source": [
    "# opening the file using \"with\"\n",
    "# statement\n",
    "with open(filename, 'r') as data:\n",
    "    for line in csv.DictReader(data):\n",
    "        print(line)"
   ]
  },
  {
   "cell_type": "code",
   "execution_count": null,
   "id": "aacc139f",
   "metadata": {},
   "outputs": [],
   "source": [
    "data"
   ]
  },
  {
   "cell_type": "code",
   "execution_count": null,
   "id": "0e7d70fe",
   "metadata": {},
   "outputs": [],
   "source": [
    "csv.DictReader(data)"
   ]
  },
  {
   "cell_type": "code",
   "execution_count": null,
   "id": "02f2bda9",
   "metadata": {},
   "outputs": [],
   "source": [
    "import csv"
   ]
  },
  {
   "cell_type": "code",
   "execution_count": null,
   "id": "b9a55b88",
   "metadata": {},
   "outputs": [],
   "source": [
    "filename =pd.read_csv(\"param.csv\")"
   ]
  },
  {
   "cell_type": "markdown",
   "id": "cdc7a192",
   "metadata": {},
   "source": [
    "opening the file using \"with\"\n",
    "statement\n",
    "with open(filename, 'r') as data:\n",
    "   for line in csv.DictReader(data):\n",
    "       print(line)"
   ]
  },
  {
   "cell_type": "code",
   "execution_count": null,
   "id": "e72a39df",
   "metadata": {},
   "outputs": [],
   "source": [
    "filename.head()"
   ]
  },
  {
   "cell_type": "code",
   "execution_count": null,
   "id": "9f616641",
   "metadata": {},
   "outputs": [],
   "source": [
    "filename.to_dict()"
   ]
  },
  {
   "cell_type": "code",
   "execution_count": null,
   "id": "69cb4955",
   "metadata": {},
   "outputs": [],
   "source": [
    "filename.head()"
   ]
  },
  {
   "cell_type": "code",
   "execution_count": null,
   "id": "56e6c92e",
   "metadata": {},
   "outputs": [],
   "source": [
    "filename.to_dict()"
   ]
  },
  {
   "cell_type": "code",
   "execution_count": null,
   "id": "e75e1cdf",
   "metadata": {},
   "outputs": [],
   "source": [
    "filename.to_dict(list)"
   ]
  },
  {
   "cell_type": "code",
   "execution_count": null,
   "id": "db1732b8",
   "metadata": {},
   "outputs": [],
   "source": [
    "filename.to_dict('list')"
   ]
  },
  {
   "cell_type": "code",
   "execution_count": null,
   "id": "2e7fe5be",
   "metadata": {},
   "outputs": [],
   "source": [
    "param_dict=file_param.to_dict('list')\n",
    "seasonal_dict=file_seasonal.to_dict('list')"
   ]
  },
  {
   "cell_type": "code",
   "execution_count": null,
   "id": "fb4d738d",
   "metadata": {},
   "outputs": [],
   "source": [
    "import csv"
   ]
  },
  {
   "cell_type": "code",
   "execution_count": null,
   "id": "8c5e393b",
   "metadata": {},
   "outputs": [],
   "source": [
    "file_param =pd.read_csv(\"param.csv\")\n",
    "file_seasonal =pd.read_csv(\"seasonal.csv\")\n",
    "# opening the file using \"with\"\n",
    "# statement\n",
    "#with open(filename, 'r') as data:\n",
    "#    for line in csv.DictReader(data):\n",
    "#        print(line)"
   ]
  },
  {
   "cell_type": "code",
   "execution_count": null,
   "id": "ba673685",
   "metadata": {},
   "outputs": [],
   "source": [
    "param_dict=file_param.to_dict('list')\n",
    "seasonal_dict=file_seasonal.to_dict('list')"
   ]
  },
  {
   "cell_type": "code",
   "execution_count": null,
   "id": "ea2fbe16",
   "metadata": {},
   "outputs": [],
   "source": [
    "len(data_dict)"
   ]
  },
  {
   "cell_type": "code",
   "execution_count": null,
   "id": "75962dc9",
   "metadata": {},
   "outputs": [],
   "source": [
    "hundred=list(data_dict.keys())[:100]\n",
    "two_hundred=list(data_dict.keys())[100:200]\n",
    "three_hundred=list(data_dict.keys())[200:300]\n",
    "four_hundred=list(data_dict.keys())[300:400]\n",
    "five_hundred=list(data_dict.keys())[500:573]"
   ]
  },
  {
   "cell_type": "code",
   "execution_count": null,
   "id": "d2b00e1e",
   "metadata": {},
   "outputs": [],
   "source": [
    "#results = {}\n",
    "for key in hundred:\n",
    "    y=data_dict[key]['total_claims']\n",
    "    mod = sm.tsa.statespace.SARIMAX(y.astype(float),\n",
    "                                order=tuple(param_dict[key]),\n",
    "                                seasonal_order=tuple(seasonal_dict[key]),\n",
    "                                enforce_stationarity=False,\n",
    "                                enforce_invertibility=False)\n",
    "    results[key] = mod.fit(disp=False)\n",
    "    #print(results.summary().tables[1])"
   ]
  },
  {
   "cell_type": "code",
   "execution_count": null,
   "id": "5a2c42a3",
   "metadata": {},
   "outputs": [],
   "source": [
    "results = {}\n",
    "for key in hundred:\n",
    "    y=data_dict[key]['total_claims']\n",
    "    mod = sm.tsa.statespace.SARIMAX(y.astype(float),\n",
    "                                order=tuple(param_dict[key]),\n",
    "                                seasonal_order=tuple(seasonal_dict[key]),\n",
    "                                enforce_stationarity=False,\n",
    "                                enforce_invertibility=False)\n",
    "    results[key] = mod.fit(disp=False)\n",
    "    #print(results.summary().tables[1])"
   ]
  },
  {
   "cell_type": "code",
   "execution_count": null,
   "id": "42fe616a",
   "metadata": {},
   "outputs": [],
   "source": [
    "len(results)"
   ]
  },
  {
   "cell_type": "code",
   "execution_count": null,
   "id": "ebe41fc1",
   "metadata": {},
   "outputs": [],
   "source": [
    "#results = {}\n",
    "for key in two_hundred:\n",
    "    y=data_dict[key]['total_claims']\n",
    "    mod = sm.tsa.statespace.SARIMAX(y.astype(float),\n",
    "                                order=tuple(param_dict[key]),\n",
    "                                seasonal_order=tuple(seasonal_dict[key]),\n",
    "                                enforce_stationarity=False,\n",
    "                                enforce_invertibility=False)\n",
    "    results[key] = mod.fit(disp=False)\n",
    "    #print(results.summary().tables[1])"
   ]
  },
  {
   "cell_type": "code",
   "execution_count": null,
   "id": "f77599c5",
   "metadata": {},
   "outputs": [],
   "source": [
    "len(results)"
   ]
  },
  {
   "cell_type": "code",
   "execution_count": null,
   "id": "7b6d4b68",
   "metadata": {},
   "outputs": [],
   "source": [
    "#results = {}\n",
    "for key in three_hundred:\n",
    "    y=data_dict[key]['total_claims']\n",
    "    mod = sm.tsa.statespace.SARIMAX(y.astype(float),\n",
    "                                order=tuple(param_dict[key]),\n",
    "                                seasonal_order=tuple(seasonal_dict[key]),\n",
    "                                enforce_stationarity=False,\n",
    "                                enforce_invertibility=False)\n",
    "    results[key] = mod.fit(disp=False)\n",
    "    #print(results.summary().tables[1])"
   ]
  },
  {
   "cell_type": "code",
   "execution_count": null,
   "id": "f90a9abd",
   "metadata": {},
   "outputs": [],
   "source": [
    "len(results)"
   ]
  },
  {
   "cell_type": "code",
   "execution_count": null,
   "id": "8f8f4662",
   "metadata": {},
   "outputs": [],
   "source": [
    "#results = {}\n",
    "for key in four_hundred:\n",
    "    y=data_dict[key]['total_claims']\n",
    "    mod = sm.tsa.statespace.SARIMAX(y.astype(float),\n",
    "                                order=tuple(param_dict[key]),\n",
    "                                seasonal_order=tuple(seasonal_dict[key]),\n",
    "                                enforce_stationarity=False,\n",
    "                                enforce_invertibility=False)\n",
    "    results[key] = mod.fit(disp=False)\n",
    "    #print(results.summary().tables[1])"
   ]
  },
  {
   "cell_type": "code",
   "execution_count": null,
   "id": "a184673c",
   "metadata": {},
   "outputs": [],
   "source": [
    "len(results)"
   ]
  },
  {
   "cell_type": "code",
   "execution_count": null,
   "id": "514d04fb",
   "metadata": {},
   "outputs": [],
   "source": [
    "#results = {}\n",
    "for key in five_hundred:\n",
    "    y=data_dict[key]['total_claims']\n",
    "    mod = sm.tsa.statespace.SARIMAX(y.astype(float),\n",
    "                                order=tuple(param_dict[key]),\n",
    "                                seasonal_order=tuple(seasonal_dict[key]),\n",
    "                                enforce_stationarity=False,\n",
    "                                enforce_invertibility=False)\n",
    "    results[key] = mod.fit(disp=False)\n",
    "    #print(results.summary().tables[1])"
   ]
  },
  {
   "cell_type": "code",
   "execution_count": null,
   "id": "9fc7270c",
   "metadata": {},
   "outputs": [],
   "source": [
    "len(results)"
   ]
  },
  {
   "cell_type": "code",
   "execution_count": null,
   "id": "1d713f75",
   "metadata": {},
   "outputs": [],
   "source": [
    "results = {}\n",
    "for key in hundred:\n",
    "    y=data_dict[key]['total_claims']\n",
    "    mod = sm.tsa.statespace.SARIMAX(y.astype(float),\n",
    "                                order=tuple(param_dict[key]),\n",
    "                                seasonal_order=tuple(seasonal_dict[key]),\n",
    "                                enforce_stationarity=False,\n",
    "                                enforce_invertibility=False)\n",
    "    results[key] = mod.fit(disp=False)\n",
    "    #print(results.summary().tables[1])"
   ]
  },
  {
   "cell_type": "code",
   "execution_count": null,
   "id": "01130fa8",
   "metadata": {},
   "outputs": [],
   "source": [
    "len(results)"
   ]
  },
  {
   "cell_type": "code",
   "execution_count": null,
   "id": "bd36c8d4",
   "metadata": {},
   "outputs": [],
   "source": [
    "results = {}\n",
    "for key in two_hundred:\n",
    "    y=data_dict[key]['total_claims']\n",
    "    mod = sm.tsa.statespace.SARIMAX(y.astype(float),\n",
    "                                order=tuple(param_dict[key]),\n",
    "                                seasonal_order=tuple(seasonal_dict[key]),\n",
    "                                enforce_stationarity=False,\n",
    "                                enforce_invertibility=False)\n",
    "    results[key] = mod.fit(disp=False)\n",
    "    #print(results.summary().tables[1])"
   ]
  },
  {
   "cell_type": "code",
   "execution_count": null,
   "id": "1ae0ae00",
   "metadata": {},
   "outputs": [],
   "source": [
    "len(results)"
   ]
  },
  {
   "cell_type": "code",
   "execution_count": null,
   "id": "78a2ddf3",
   "metadata": {},
   "outputs": [],
   "source": [
    "results = {}\n",
    "for key in hundred:\n",
    "    y=data_dict[key]['total_claims']\n",
    "    mod = sm.tsa.statespace.SARIMAX(y.astype(float),\n",
    "                                order=tuple(param_dict[key]),\n",
    "                                seasonal_order=tuple(seasonal_dict[key]),\n",
    "                                enforce_stationarity=False,\n",
    "                                enforce_invertibility=False)\n",
    "    results[key] = mod.fit(disp=False)\n",
    "    #print(results.summary().tables[1])"
   ]
  },
  {
   "cell_type": "code",
   "execution_count": null,
   "id": "91903157",
   "metadata": {},
   "outputs": [],
   "source": [
    "len(results)"
   ]
  },
  {
   "cell_type": "code",
   "execution_count": null,
   "id": "d935d605",
   "metadata": {},
   "outputs": [],
   "source": [
    "#results = {}\n",
    "for key in two_hundred:\n",
    "    y=data_dict[key]['total_claims']\n",
    "    mod = sm.tsa.statespace.SARIMAX(y.astype(float),\n",
    "                                order=tuple(param_dict[key]),\n",
    "                                seasonal_order=tuple(seasonal_dict[key]),\n",
    "                                enforce_stationarity=False,\n",
    "                                enforce_invertibility=False)\n",
    "    results[key] = mod.fit(disp=False)\n",
    "    #print(results.summary().tables[1])"
   ]
  },
  {
   "cell_type": "code",
   "execution_count": null,
   "id": "12fcee4e",
   "metadata": {},
   "outputs": [],
   "source": [
    "len(results)"
   ]
  },
  {
   "cell_type": "code",
   "execution_count": null,
   "id": "83b73669",
   "metadata": {},
   "outputs": [],
   "source": [
    "#results = {}\n",
    "for key in three_hundred:\n",
    "    y=data_dict[key]['total_claims']\n",
    "    mod = sm.tsa.statespace.SARIMAX(y.astype(float),\n",
    "                                order=tuple(param_dict[key]),\n",
    "                                seasonal_order=tuple(seasonal_dict[key]),\n",
    "                                enforce_stationarity=False,\n",
    "                                enforce_invertibility=False)\n",
    "    results[key] = mod.fit(disp=False)\n",
    "    #print(results.summary().tables[1])"
   ]
  },
  {
   "cell_type": "code",
   "execution_count": null,
   "id": "153911a0",
   "metadata": {},
   "outputs": [],
   "source": [
    "len(results)"
   ]
  },
  {
   "cell_type": "code",
   "execution_count": null,
   "id": "cbfea004",
   "metadata": {},
   "outputs": [],
   "source": [
    "#results = {}\n",
    "for key in four_hundred:\n",
    "    y=data_dict[key]['total_claims']\n",
    "    mod = sm.tsa.statespace.SARIMAX(y.astype(float),\n",
    "                                order=tuple(param_dict[key]),\n",
    "                                seasonal_order=tuple(seasonal_dict[key]),\n",
    "                                enforce_stationarity=False,\n",
    "                                enforce_invertibility=False)\n",
    "    results[key] = mod.fit(disp=False)\n",
    "    #print(results.summary().tables[1])"
   ]
  },
  {
   "cell_type": "code",
   "execution_count": null,
   "id": "d9b287af",
   "metadata": {},
   "outputs": [],
   "source": [
    "hundred=list(data_dict.keys())[:100]\n",
    "two_hundred=list(data_dict.keys())[100:200]\n",
    "three_hundred=list(data_dict.keys())[200:300]\n",
    "four_hundred=list(data_dict.keys())[300:400]\n",
    "five_hundred=list(data_dict.keys())[400:573]"
   ]
  },
  {
   "cell_type": "code",
   "execution_count": null,
   "id": "2d3df45d",
   "metadata": {},
   "outputs": [],
   "source": [
    "len(results)"
   ]
  },
  {
   "cell_type": "code",
   "execution_count": null,
   "id": "b7512c4f",
   "metadata": {},
   "outputs": [],
   "source": [
    "hundred=list(data_dict.keys())[:100]\n",
    "two_hundred=list(data_dict.keys())[100:200]\n",
    "three_hundred=list(data_dict.keys())[200:300]\n",
    "four_hundred=list(data_dict.keys())[300:400]\n",
    "five_hundred=list(data_dict.keys())[400:500]\n",
    "six_hundred=list(data_dict.keys())[500:573]"
   ]
  },
  {
   "cell_type": "code",
   "execution_count": null,
   "id": "a4002f40",
   "metadata": {},
   "outputs": [],
   "source": [
    "#results = {}\n",
    "for key in five_hundred:\n",
    "    y=data_dict[key]['total_claims']\n",
    "    mod = sm.tsa.statespace.SARIMAX(y.astype(float),\n",
    "                                order=tuple(param_dict[key]),\n",
    "                                seasonal_order=tuple(seasonal_dict[key]),\n",
    "                                enforce_stationarity=False,\n",
    "                                enforce_invertibility=False)\n",
    "    results[key] = mod.fit(disp=False)\n",
    "    #print(results.summary().tables[1])"
   ]
  },
  {
   "cell_type": "code",
   "execution_count": null,
   "id": "4228a35b",
   "metadata": {},
   "outputs": [],
   "source": [
    "len(results)"
   ]
  },
  {
   "cell_type": "code",
   "execution_count": null,
   "id": "cabd3397",
   "metadata": {},
   "outputs": [],
   "source": [
    "#results = {}\n",
    "for key in six_hundred:\n",
    "    y=data_dict[key]['total_claims']\n",
    "    mod = sm.tsa.statespace.SARIMAX(y.astype(float),\n",
    "                                order=tuple(param_dict[key]),\n",
    "                                seasonal_order=tuple(seasonal_dict[key]),\n",
    "                                enforce_stationarity=False,\n",
    "                                enforce_invertibility=False)\n",
    "    results[key] = mod.fit(disp=False)\n",
    "    #print(results.summary().tables[1])"
   ]
  },
  {
   "cell_type": "code",
   "execution_count": null,
   "id": "80ac3a5c",
   "metadata": {},
   "outputs": [],
   "source": [
    "len(results)"
   ]
  },
  {
   "cell_type": "code",
   "execution_count": null,
   "id": "c2510cde",
   "metadata": {},
   "outputs": [],
   "source": [
    "list(results.keys())"
   ]
  },
  {
   "cell_type": "code",
   "execution_count": null,
   "id": "21e5ef6f",
   "metadata": {},
   "outputs": [],
   "source": [
    "x=list(results.keys())[0]"
   ]
  },
  {
   "cell_type": "code",
   "execution_count": null,
   "id": "59f0a4be",
   "metadata": {},
   "outputs": [],
   "source": [
    "results[x].plot_diagnostics(figsize=(16, 8))\n",
    "plt.show()"
   ]
  },
  {
   "cell_type": "code",
   "execution_count": null,
   "id": "2a7a64a6",
   "metadata": {},
   "outputs": [],
   "source": [
    "x=list(results.keys())[2]"
   ]
  },
  {
   "cell_type": "code",
   "execution_count": null,
   "id": "bfee6b62",
   "metadata": {},
   "outputs": [],
   "source": [
    "results[x].plot_diagnostics(figsize=(16, 8))\n",
    "plt.show()"
   ]
  },
  {
   "cell_type": "code",
   "execution_count": null,
   "id": "a9e07483",
   "metadata": {},
   "outputs": [],
   "source": [
    "data_dict[x]['total_claims']"
   ]
  },
  {
   "cell_type": "code",
   "execution_count": null,
   "id": "66bc4405",
   "metadata": {},
   "outputs": [],
   "source": [
    "pred = results[x].get_prediction(start=pd.to_datetime('2022-09-26'), dynamic=False)"
   ]
  },
  {
   "cell_type": "code",
   "execution_count": null,
   "id": "f4533b62",
   "metadata": {},
   "outputs": [],
   "source": [
    "data_dict[x]['total_claims']"
   ]
  },
  {
   "cell_type": "code",
   "execution_count": null,
   "id": "af0ca147",
   "metadata": {},
   "outputs": [],
   "source": [
    "pred = results[x].get_prediction(start=pd.to_datetime('2022-09-10'), dynamic=False)"
   ]
  },
  {
   "cell_type": "code",
   "execution_count": null,
   "id": "68d78f91",
   "metadata": {},
   "outputs": [],
   "source": [
    "x=list(results.keys())[1]"
   ]
  },
  {
   "cell_type": "code",
   "execution_count": null,
   "id": "c9949205",
   "metadata": {},
   "outputs": [],
   "source": [
    "pred = results[x].get_prediction(start=pd.to_datetime('2022-09-10'), dynamic=False)"
   ]
  },
  {
   "cell_type": "code",
   "execution_count": null,
   "id": "d531f3ad",
   "metadata": {},
   "outputs": [],
   "source": [
    "pred = results[x].get_prediction( dynamic=False)"
   ]
  },
  {
   "cell_type": "code",
   "execution_count": null,
   "id": "b524b65a",
   "metadata": {},
   "outputs": [],
   "source": [
    "x=list(results.keys())[2]"
   ]
  },
  {
   "cell_type": "code",
   "execution_count": null,
   "id": "5d3a945d",
   "metadata": {},
   "outputs": [],
   "source": [
    "pred = results[x].get_prediction( dynamic=False)"
   ]
  },
  {
   "cell_type": "code",
   "execution_count": null,
   "id": "cf82e27b",
   "metadata": {},
   "outputs": [],
   "source": [
    "pred_ci = pred.conf_int()\n",
    "ax = data_dict[x]['total_claims'].plot(label='observed')\n",
    "pred.predicted_mean.plot(ax=ax, label='One-step ahead Forecast', alpha=.7, figsize=(14, 7))\n",
    "ax.fill_between(pred_ci.index,\n",
    "                pred_ci.iloc[:, 0],\n",
    "                pred_ci.iloc[:, 1], color='k', alpha=.2)\n",
    "ax.set_xlabel('Date')\n",
    "ax.set_ylabel('Furniture Sales')\n",
    "plt.legend()\n",
    "plt.show()"
   ]
  },
  {
   "cell_type": "code",
   "execution_count": null,
   "id": "b1dff423",
   "metadata": {},
   "outputs": [],
   "source": [
    "pred = results[x].get_prediction()"
   ]
  },
  {
   "cell_type": "code",
   "execution_count": null,
   "id": "a2096fe6",
   "metadata": {},
   "outputs": [],
   "source": [
    "pred_ci = pred.conf_int()\n",
    "ax = data_dict[x]['total_claims'].plot(label='observed')\n",
    "pred.predicted_mean.plot(ax=ax, label='One-step ahead Forecast', alpha=.7, figsize=(14, 7))\n",
    "ax.fill_between(pred_ci.index,\n",
    "                pred_ci.iloc[:, 0],\n",
    "                pred_ci.iloc[:, 1], color='k', alpha=.2)\n",
    "ax.set_xlabel('Date')\n",
    "ax.set_ylabel('Furniture Sales')\n",
    "plt.legend()\n",
    "plt.show()"
   ]
  },
  {
   "cell_type": "code",
   "execution_count": null,
   "id": "d0c693e8",
   "metadata": {},
   "outputs": [],
   "source": [
    "pred = results[x].get_prediction(start=pd.to_datetime('2022-09-26'), dynamic=False)"
   ]
  },
  {
   "cell_type": "code",
   "execution_count": null,
   "id": "b5c9b939",
   "metadata": {},
   "outputs": [],
   "source": [
    "data_dict[x]['total_claims']"
   ]
  },
  {
   "cell_type": "code",
   "execution_count": null,
   "id": "43eb70fe",
   "metadata": {},
   "outputs": [],
   "source": [
    "pred = results[x].get_prediction(start=pd.to_datetime('2022-09-10'), dynamic=False)"
   ]
  },
  {
   "cell_type": "code",
   "execution_count": null,
   "id": "bdb92d80",
   "metadata": {},
   "outputs": [],
   "source": [
    "pred_ci = pred.conf_int()\n",
    "ax = data_dict[x]['total_claims'].plot(label='observed')\n",
    "pred.predicted_mean.plot(ax=ax, label='One-step ahead Forecast', alpha=.7, figsize=(14, 7))\n",
    "ax.fill_between(pred_ci.index,\n",
    "                pred_ci.iloc[:, 0],\n",
    "                pred_ci.iloc[:, 1], color='k', alpha=.2)\n",
    "ax.set_xlabel('Date')\n",
    "ax.set_ylabel('Furniture Sales')\n",
    "plt.legend()\n",
    "plt.show()"
   ]
  },
  {
   "cell_type": "code",
   "execution_count": null,
   "id": "6e004008",
   "metadata": {},
   "outputs": [],
   "source": [
    "pred = results[x].get_prediction(start=pd.to_datetime('2022-09-10'), end=pd.to_datetime('2022-10-10'), dynamic=False)"
   ]
  },
  {
   "cell_type": "code",
   "execution_count": null,
   "id": "2d358b72",
   "metadata": {},
   "outputs": [],
   "source": [
    "pred = results[x].get_prediction(start=pd.to_datetime('2022-09-10'), dynamic=False)"
   ]
  },
  {
   "cell_type": "code",
   "execution_count": null,
   "id": "922e700c",
   "metadata": {},
   "outputs": [],
   "source": [
    "pred_ci = pred.conf_int()\n",
    "ax = data_dict[x]['total_claims'].plot(label='observed')\n",
    "pred.predicted_mean.plot(ax=ax, label='One-step ahead Forecast', alpha=.7, figsize=(14, 7))\n",
    "ax.fill_between(pred_ci.index,\n",
    "                pred_ci.iloc[:, 0],\n",
    "                pred_ci.iloc[:, 1], color='k', alpha=.2)\n",
    "ax.set_xlabel('Date')\n",
    "ax.set_ylabel('Furniture Sales')\n",
    "plt.legend()\n",
    "plt.show()"
   ]
  },
  {
   "cell_type": "code",
   "execution_count": null,
   "id": "0e582ac9",
   "metadata": {},
   "outputs": [],
   "source": [
    "pred = results[x].forecast()"
   ]
  },
  {
   "cell_type": "code",
   "execution_count": null,
   "id": "ae73b410",
   "metadata": {},
   "outputs": [],
   "source": [
    "pred_ci = pred.conf_int()\n",
    "ax = data_dict[x]['total_claims'].plot(label='observed')\n",
    "pred.predicted_mean.plot(ax=ax, label='One-step ahead Forecast', alpha=.7, figsize=(14, 7))\n",
    "ax.fill_between(pred_ci.index,\n",
    "                pred_ci.iloc[:, 0],\n",
    "                pred_ci.iloc[:, 1], color='k', alpha=.2)\n",
    "ax.set_xlabel('Date')\n",
    "ax.set_ylabel('Furniture Sales')\n",
    "plt.legend()\n",
    "plt.show()"
   ]
  },
  {
   "cell_type": "code",
   "execution_count": null,
   "id": "61f3cd52",
   "metadata": {},
   "outputs": [],
   "source": [
    "pred"
   ]
  },
  {
   "cell_type": "code",
   "execution_count": null,
   "id": "a3fead62",
   "metadata": {},
   "outputs": [],
   "source": [
    "pred = results[x].get_prediction(start=pd.to_datetime('2022-09-10'), dynamic=False)"
   ]
  },
  {
   "cell_type": "code",
   "execution_count": null,
   "id": "ece177c8",
   "metadata": {},
   "outputs": [],
   "source": [
    "pred_ci = pred.conf_int()\n",
    "ax = data_dict[x]['total_claims'].plot(label='observed')\n",
    "pred.predicted_mean.plot(ax=ax, label='One-step ahead Forecast', alpha=.7, figsize=(14, 7))\n",
    "ax.fill_between(pred_ci.index,\n",
    "                pred_ci.iloc[:, 0],\n",
    "                pred_ci.iloc[:, 1], color='k', alpha=.2)\n",
    "ax.set_xlabel('Date')\n",
    "ax.set_ylabel('Furniture Sales')\n",
    "plt.legend()\n",
    "plt.show()"
   ]
  },
  {
   "cell_type": "code",
   "execution_count": null,
   "id": "5a05dbdf",
   "metadata": {},
   "outputs": [],
   "source": [
    "pred = results[x].forecast()"
   ]
  },
  {
   "cell_type": "code",
   "execution_count": null,
   "id": "6f9f5dcc",
   "metadata": {},
   "outputs": [],
   "source": [
    "pred"
   ]
  },
  {
   "cell_type": "code",
   "execution_count": null,
   "id": "78933eff",
   "metadata": {},
   "outputs": [],
   "source": [
    "pred = []\n",
    "for key in hundred:\n",
    "        i=results[key].forecast()\n",
    "        pred.append(i)\n",
    "    #print(results.summary().tables[1])"
   ]
  },
  {
   "cell_type": "code",
   "execution_count": null,
   "id": "db626e03",
   "metadata": {},
   "outputs": [],
   "source": [
    "pred"
   ]
  },
  {
   "cell_type": "code",
   "execution_count": null,
   "id": "22cc9d2d",
   "metadata": {},
   "outputs": [],
   "source": [
    "pred = results[x].forecast()"
   ]
  },
  {
   "cell_type": "code",
   "execution_count": null,
   "id": "5ec65223",
   "metadata": {},
   "outputs": [],
   "source": [
    "pred.values"
   ]
  },
  {
   "cell_type": "code",
   "execution_count": null,
   "id": "23e332f3",
   "metadata": {},
   "outputs": [],
   "source": [
    "pred = []\n",
    "for key in hundred:\n",
    "        i=results[key].forecast()\n",
    "        pred.append(i.values)\n",
    "    #print(results.summary().tables[1])"
   ]
  },
  {
   "cell_type": "code",
   "execution_count": null,
   "id": "b92aab6b",
   "metadata": {},
   "outputs": [],
   "source": [
    "pred"
   ]
  },
  {
   "cell_type": "code",
   "execution_count": null,
   "id": "122e0ea2",
   "metadata": {},
   "outputs": [],
   "source": [
    "pred = results[x].forecast()"
   ]
  },
  {
   "cell_type": "code",
   "execution_count": null,
   "id": "70cbc4c6",
   "metadata": {},
   "outputs": [],
   "source": [
    "pred.values[0]"
   ]
  },
  {
   "cell_type": "code",
   "execution_count": null,
   "id": "a1e5a4f0",
   "metadata": {},
   "outputs": [],
   "source": [
    "pred = []\n",
    "for key in hundred:\n",
    "        i=results[key].forecast()\n",
    "        pred.append(i.values[0])\n",
    "    #print(results.summary().tables[1])"
   ]
  },
  {
   "cell_type": "code",
   "execution_count": null,
   "id": "31fbe5d6",
   "metadata": {},
   "outputs": [],
   "source": [
    "pred"
   ]
  },
  {
   "cell_type": "code",
   "execution_count": null,
   "id": "cf16ecd9",
   "metadata": {},
   "outputs": [],
   "source": [
    "len(pred)"
   ]
  },
  {
   "cell_type": "code",
   "execution_count": null,
   "id": "359fec45",
   "metadata": {},
   "outputs": [],
   "source": [
    "#pred = []\n",
    "for key in two_hundred:\n",
    "        i=results[key].forecast()\n",
    "        pred.append(i.values[0])\n",
    "    #print(results.summary().tables[1])"
   ]
  },
  {
   "cell_type": "code",
   "execution_count": null,
   "id": "191a8eb0",
   "metadata": {},
   "outputs": [],
   "source": [
    "len(pred)"
   ]
  },
  {
   "cell_type": "code",
   "execution_count": null,
   "id": "dce3a2cc",
   "metadata": {},
   "outputs": [],
   "source": [
    "#pred = []\n",
    "for key in three_hundred:\n",
    "        i=results[key].forecast()\n",
    "        pred.append(i.values[0])\n",
    "    #print(results.summary().tables[1])"
   ]
  },
  {
   "cell_type": "code",
   "execution_count": null,
   "id": "a2d17672",
   "metadata": {},
   "outputs": [],
   "source": [
    "len(pred)"
   ]
  },
  {
   "cell_type": "code",
   "execution_count": null,
   "id": "a2496203",
   "metadata": {},
   "outputs": [],
   "source": [
    "#pred = []\n",
    "for key in four_hundred:\n",
    "        i=results[key].forecast()\n",
    "        pred.append(i.values[0])\n",
    "    #print(results.summary().tables[1])"
   ]
  },
  {
   "cell_type": "code",
   "execution_count": null,
   "id": "c7516c9f",
   "metadata": {},
   "outputs": [],
   "source": [
    "len(pred)"
   ]
  },
  {
   "cell_type": "code",
   "execution_count": null,
   "id": "9ddcb96a",
   "metadata": {},
   "outputs": [],
   "source": [
    "#pred = []\n",
    "for key in five_hundred:\n",
    "        i=results[key].forecast()\n",
    "        pred.append(i.values[0])\n",
    "    #print(results.summary().tables[1])"
   ]
  },
  {
   "cell_type": "code",
   "execution_count": null,
   "id": "a8c7c839",
   "metadata": {},
   "outputs": [],
   "source": [
    "len(pred)"
   ]
  },
  {
   "cell_type": "code",
   "execution_count": null,
   "id": "dbd29c1c",
   "metadata": {},
   "outputs": [],
   "source": [
    "#pred = []\n",
    "for key in six_hundred:\n",
    "        i=results[key].forecast()\n",
    "        pred.append(i.values[0])\n",
    "    #print(results.summary().tables[1])"
   ]
  },
  {
   "cell_type": "code",
   "execution_count": null,
   "id": "e660c908",
   "metadata": {},
   "outputs": [],
   "source": [
    "len(pred)"
   ]
  },
  {
   "cell_type": "code",
   "execution_count": null,
   "id": "acb96080",
   "metadata": {},
   "outputs": [],
   "source": [
    "pred"
   ]
  },
  {
   "cell_type": "code",
   "execution_count": null,
   "id": "1ed9ed03",
   "metadata": {},
   "outputs": [],
   "source": [
    "pred"
   ]
  },
  {
   "cell_type": "code",
   "execution_count": null,
   "id": "dd4c1519",
   "metadata": {},
   "outputs": [],
   "source": [
    "hundred+two_hundred"
   ]
  },
  {
   "cell_type": "code",
   "execution_count": null,
   "id": "f77fa219",
   "metadata": {},
   "outputs": [],
   "source": [
    "uu_id=hundred+two_hundred+three_hundred+four_hundred+five_hundred+six_hundred"
   ]
  },
  {
   "cell_type": "code",
   "execution_count": null,
   "id": "feccb164",
   "metadata": {},
   "outputs": [],
   "source": [
    "len(uu_id)"
   ]
  },
  {
   "cell_type": "code",
   "execution_count": null,
   "id": "9b3491a2",
   "metadata": {},
   "outputs": [],
   "source": [
    "submit.head()"
   ]
  },
  {
   "cell_type": "code",
   "execution_count": null,
   "id": "4a99df39",
   "metadata": {},
   "outputs": [],
   "source": [
    "first_trial = pd.DataFrame(uu_id, columns=['uu_id'])\n",
    "first_trial.head()"
   ]
  },
  {
   "cell_type": "code",
   "execution_count": null,
   "id": "256e135b",
   "metadata": {},
   "outputs": [],
   "source": [
    "first_trial['total_claims']=pred"
   ]
  },
  {
   "cell_type": "code",
   "execution_count": null,
   "id": "274a8b87",
   "metadata": {},
   "outputs": [],
   "source": [
    "first_trial.head()"
   ]
  },
  {
   "cell_type": "code",
   "execution_count": null,
   "id": "1152173a",
   "metadata": {},
   "outputs": [],
   "source": [
    "submit.head()"
   ]
  },
  {
   "cell_type": "code",
   "execution_count": null,
   "id": "082ff7d9",
   "metadata": {},
   "outputs": [],
   "source": [
    "pd.merge(submit, first_trial, on='uu_id', how='outer')"
   ]
  },
  {
   "cell_type": "code",
   "execution_count": null,
   "id": "f03bda8b",
   "metadata": {},
   "outputs": [],
   "source": [
    "final_file=pd.merge(submit, first_trial, on='uu_id', how='outer')"
   ]
  },
  {
   "cell_type": "code",
   "execution_count": null,
   "id": "3472e310",
   "metadata": {},
   "outputs": [],
   "source": [
    "final_file=pd.merge(submit, first_trial, on='uu_id', how='outer')\n",
    "final_file.to_csv(./'submission.csv', index=False)"
   ]
  },
  {
   "cell_type": "code",
   "execution_count": null,
   "id": "2c914bd2",
   "metadata": {
    "lines_to_next_cell": 2
   },
   "outputs": [],
   "source": [
    "final_file=pd.merge(submit, first_trial, on='uu_id', how='outer')\n",
    "final_file.to_csv('./submission.csv', index=False)"
   ]
  }
 ],
 "metadata": {
  "jupytext": {
   "cell_metadata_filter": "-all",
   "main_language": "python",
   "notebook_metadata_filter": "-all"
  }
 },
 "nbformat": 4,
 "nbformat_minor": 5
}
