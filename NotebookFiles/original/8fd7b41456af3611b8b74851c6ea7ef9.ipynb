{
 "cells": [
  {
   "cell_type": "code",
   "execution_count": 1,
   "id": "b51e87be",
   "metadata": {},
   "outputs": [],
   "source": [
    "import os\n",
    "import pandas\n",
    "from google.cloud import bigquery\n",
    "from google.oauth2 import service_account\n",
    "from google.cloud.bigquery import magics"
   ]
  },
  {
   "cell_type": "code",
   "execution_count": 2,
   "id": "54124058",
   "metadata": {},
   "outputs": [],
   "source": [
    "BIGQUERY_PROJECT = 'ironhacks-data'\n",
    "bigquery_client = bigquery.Client(project=BIGQUERY_PROJECT)\n",
    "query = \"\"\"\n",
    "SELECT *\n",
    "FROM `ironhacks-data.ironhacks_competition.unemployment_data`\n",
    "ORDER BY week_number ASC\n",
    "\"\"\""
   ]
  },
  {
   "cell_type": "code",
   "execution_count": 3,
   "id": "a014cad2",
   "metadata": {},
   "outputs": [
    {
     "name": "stdout",
     "output_type": "stream",
     "text": [
      "                                  uu_id  timeperiod  week_number  countyfips  \\\n",
      "0      65f24aac652de33abaf3f227b41e2641    20220101            1       18093   \n",
      "1      14ceb8012cb1b912044297c8933cfcfc    20220101            1       18057   \n",
      "2      f013068de98db1470bd986137a0c6d23    20220101            1       18003   \n",
      "3      f70960d492c2fd067680a14baa0f66e9    20220101            1       18167   \n",
      "4      778946d9696cd6c95f57e8b1e6336389    20220101            1       18167   \n",
      "...                                 ...         ...          ...         ...   \n",
      "16828  447d5984bb8a8179bff002ccd1bba162    20220910           37       18081   \n",
      "16829  7dd5fff353cd08adc694aa74d7fa31af    20220910           37       18063   \n",
      "16830  7dd5fff353cd08adc694aa74d7fa31af    20220910           37       18063   \n",
      "16831  06c78e49b4daedfeb808c42e58fb25e4    20220910           37       18063   \n",
      "16832  06c78e49b4daedfeb808c42e58fb25e4    20220910           37       18063   \n",
      "\n",
      "        tract                                       tract_name  total_claims  \\\n",
      "0      950500      Census Tract 9505, Lawrence County, Indiana            10   \n",
      "1      110506   Census Tract 1105.06, Hamilton County, Indiana            39   \n",
      "2         900            Census Tract 9, Allen County, Indiana            10   \n",
      "3       10600           Census Tract 106, Vigo County, Indiana            35   \n",
      "4       11200           Census Tract 112, Vigo County, Indiana            37   \n",
      "...       ...                                              ...           ...   \n",
      "16828  610802    Census Tract 6108.02, Johnson County, Indiana            10   \n",
      "16829  210202  Census Tract 2102.02, Hendricks County, Indiana            13   \n",
      "16830  210202  Census Tract 2102.02, Hendricks County, Indiana            13   \n",
      "16831  210603  Census Tract 2106.03, Hendricks County, Indiana            11   \n",
      "16832  210603  Census Tract 2106.03, Hendricks County, Indiana            11   \n",
      "\n",
      "       edu_8th_or_less  edu_grades_9_11  edu_hs_grad_equiv  ...  \\\n",
      "0                    0             <NA>               <NA>  ...   \n",
      "1                 <NA>                0               <NA>  ...   \n",
      "2                    0                0               <NA>  ...   \n",
      "3                    0             <NA>                 21  ...   \n",
      "4                    0             <NA>                 24  ...   \n",
      "...                ...              ...                ...  ...   \n",
      "16828                0             <NA>               <NA>  ...   \n",
      "16829                0             <NA>               <NA>  ...   \n",
      "16830                0             <NA>               <NA>  ...   \n",
      "16831                0             <NA>               <NA>  ...   \n",
      "16832                0             <NA>               <NA>  ...   \n",
      "\n",
      "       gender_female  gender_male gender_na race_amerindian race_asian  \\\n",
      "0               <NA>         <NA>         0               0          0   \n",
      "1               <NA>         <NA>         0               0          0   \n",
      "2               <NA>         <NA>         0               0          0   \n",
      "3               <NA>         <NA>         0               0          0   \n",
      "4                 26           11         0               0          0   \n",
      "...              ...          ...       ...             ...        ...   \n",
      "16828           <NA>         <NA>         0               0          0   \n",
      "16829           <NA>         <NA>         0               0          0   \n",
      "16830           <NA>         <NA>         0               0          0   \n",
      "16831           <NA>         <NA>         0               0          0   \n",
      "16832           <NA>         <NA>         0               0          0   \n",
      "\n",
      "       race_black  race_noanswer  race_hawaiiannative  race_other  race_white  \n",
      "0            <NA>              0                    0           0        <NA>  \n",
      "1            <NA>           <NA>                    0        <NA>          28  \n",
      "2            <NA>              0                    0        <NA>        <NA>  \n",
      "3               0           <NA>                    0        <NA>          32  \n",
      "4            <NA>           <NA>                    0        <NA>        <NA>  \n",
      "...           ...            ...                  ...         ...         ...  \n",
      "16828           0              0                    0        <NA>        <NA>  \n",
      "16829           0              0                    0           0          13  \n",
      "16830           0              0                    0           0          13  \n",
      "16831        <NA>              0                    0           0        <NA>  \n",
      "16832        <NA>              0                    0           0        <NA>  \n",
      "\n",
      "[16833 rows x 25 columns]\n"
     ]
    }
   ],
   "source": [
    "# QUERY THE DATA ONCE\n",
    "query_job = bigquery_client.query(query)\n",
    "unemployment_data = query_job.to_dataframe()\n",
    "print(unemployment_data)"
   ]
  },
  {
   "cell_type": "code",
   "execution_count": 4,
   "id": "8ac67902",
   "metadata": {
    "lines_to_next_cell": 2
   },
   "outputs": [
    {
     "name": "stdout",
     "output_type": "stream",
     "text": [
      "Requirement already satisfied: db-dtypes in /opt/anaconda3/lib/python3.9/site-packages (1.0.5)\n",
      "Requirement already satisfied: pandas<2.0dev,>=0.24.2 in /opt/anaconda3/lib/python3.9/site-packages (from db-dtypes) (1.5.3)\n",
      "Requirement already satisfied: packaging>=17.0 in /opt/anaconda3/lib/python3.9/site-packages (from db-dtypes) (21.3)\n",
      "Requirement already satisfied: numpy<2.0dev,>=1.16.6 in /opt/anaconda3/lib/python3.9/site-packages (from db-dtypes) (1.22.4)\n",
      "Requirement already satisfied: pyarrow>=3.0.0 in /opt/anaconda3/lib/python3.9/site-packages (from db-dtypes) (10.0.1)\n",
      "Requirement already satisfied: pyparsing!=3.0.5,>=2.0.2 in /opt/anaconda3/lib/python3.9/site-packages (from packaging>=17.0->db-dtypes) (3.0.4)\n",
      "Requirement already satisfied: python-dateutil>=2.8.1 in /opt/anaconda3/lib/python3.9/site-packages (from pandas<2.0dev,>=0.24.2->db-dtypes) (2.8.2)\n",
      "Requirement already satisfied: pytz>=2020.1 in /opt/anaconda3/lib/python3.9/site-packages (from pandas<2.0dev,>=0.24.2->db-dtypes) (2021.3)\n",
      "Requirement already satisfied: six>=1.5 in /opt/anaconda3/lib/python3.9/site-packages (from python-dateutil>=2.8.1->pandas<2.0dev,>=0.24.2->db-dtypes) (1.16.0)\n"
     ]
    }
   ],
   "source": [
    "get_ipython().system('pip install db-dtypes')"
   ]
  }
 ],
 "metadata": {
  "jupytext": {
   "cell_metadata_filter": "-all",
   "main_language": "python",
   "notebook_metadata_filter": "-all"
  },
  "kernelspec": {
   "display_name": "base",
   "language": "python",
   "name": "python3"
  },
  "language_info": {
   "codemirror_mode": {
    "name": "ipython",
    "version": 3
   },
   "file_extension": ".py",
   "mimetype": "text/x-python",
   "name": "python",
   "nbconvert_exporter": "python",
   "pygments_lexer": "ipython3",
   "version": "3.9.7"
  }
 },
 "nbformat": 4,
 "nbformat_minor": 5
}
