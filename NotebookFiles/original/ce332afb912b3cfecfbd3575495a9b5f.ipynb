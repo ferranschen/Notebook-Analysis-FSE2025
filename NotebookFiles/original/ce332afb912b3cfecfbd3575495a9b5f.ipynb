{
 "cells": [
  {
   "cell_type": "code",
   "execution_count": null,
   "id": "1eae2a6f",
   "metadata": {},
   "outputs": [],
   "source": [
    "get_ipython().run_cell_magic('capture', '', \"%logstop\\n%logstart -t -r -q ipython_command_log.py global\\n\\n#- IRONHACKS RESEARCH TRACKING CODE\\n#----------------------------------\\n# The following code is used to help our research team understand how you \\n# our notebook environment. We do not collect any personal information with\\n# the following code, it is used to measure when and how often you work on\\n# your submission files.\\n\\nimport os\\nfrom datetime import datetime\\nimport IPython.core.history as history\\n\\nha = history.HistoryAccessor()\\nha_tail = ha.get_tail(1)\\nha_cmd = next(ha_tail)\\nsession_id = str(ha_cmd[0])\\ncommand_id = str(ha_cmd[1])\\ntimestamp = datetime.utcnow().isoformat()\\nhistory_line = ','.join([session_id, command_id, timestamp]) + '\\\\n'\\nlogfile = open(os.environ['HOME']+'/ipython_session_log.csv', 'a')\\nlogfile.write(history_line)\\nlogfile.close()\\n\")"
   ]
  },
  {
   "cell_type": "code",
   "execution_count": null,
   "id": "48485046",
   "metadata": {},
   "outputs": [],
   "source": [
    "get_ipython().system('pip install db_dtypes')\n",
    "import os\n",
    "import pandas as pd\n",
    "import db_dtypes\n",
    "from google.cloud import bigquery\n",
    "from google.oauth2 import service_account\n",
    "from google.cloud.bigquery import magics"
   ]
  },
  {
   "cell_type": "markdown",
   "id": "f5226cce",
   "metadata": {},
   "source": [
    "CONFIGURE THE BIGQUERY SETTINGS"
   ]
  },
  {
   "cell_type": "code",
   "execution_count": null,
   "id": "483838c3",
   "metadata": {},
   "outputs": [],
   "source": [
    "BIGQUERY_PROJECT = 'ironhacks-data'\n",
    "bigquery_client = bigquery.Client(project=BIGQUERY_PROJECT)"
   ]
  },
  {
   "cell_type": "code",
   "execution_count": null,
   "id": "93a27f73",
   "metadata": {},
   "outputs": [],
   "source": [
    "query = \"\"\"\n",
    "SELECT *\n",
    "FROM `ironhacks-data.ironhacks_competition.unemployment_data`\n",
    "\"\"\""
   ]
  },
  {
   "cell_type": "code",
   "execution_count": null,
   "id": "9c3eeced",
   "metadata": {},
   "outputs": [],
   "source": [
    "# QUERY THE DATA ONCE\n",
    "query_job = bigquery_client.query(query)\n",
    "print(query_job)\n",
    "unemployment_data = query_job.to_dataframe()"
   ]
  },
  {
   "cell_type": "code",
   "execution_count": null,
   "id": "446184f2",
   "metadata": {},
   "outputs": [],
   "source": [
    "unemployment_data = unemployment_data.drop_duplicates()\n",
    "unemployment_data.shape"
   ]
  },
  {
   "cell_type": "code",
   "execution_count": null,
   "id": "664be873",
   "metadata": {},
   "outputs": [],
   "source": [
    "k = unemployment_data.copy()"
   ]
  },
  {
   "cell_type": "code",
   "execution_count": null,
   "id": "58097773",
   "metadata": {},
   "outputs": [],
   "source": [
    "## number of unique ids are matching the number of entries in the wage_data set\n",
    "import numpy as np\n",
    "pd.unique(k.uu_id).shape"
   ]
  },
  {
   "cell_type": "code",
   "execution_count": null,
   "id": "cdf826e2",
   "metadata": {},
   "outputs": [],
   "source": [
    "query = \"\"\"\n",
    "SELECT *\n",
    "FROM `ironhacks-data.ironhacks_competition.wage_data`\n",
    "\"\"\""
   ]
  },
  {
   "cell_type": "code",
   "execution_count": null,
   "id": "fd3381ca",
   "metadata": {},
   "outputs": [],
   "source": [
    "# QUERY THE DATA ONCE\n",
    "query_job = bigquery_client.query(query)\n",
    "print(query_job)\n",
    "wage_data = query_job.to_dataframe()"
   ]
  },
  {
   "cell_type": "code",
   "execution_count": null,
   "id": "8db4f6c2",
   "metadata": {},
   "outputs": [],
   "source": [
    "wage_data = pd.DataFrame(wage_data)\n",
    "wage_data.head()"
   ]
  },
  {
   "cell_type": "code",
   "execution_count": null,
   "id": "f208f349",
   "metadata": {},
   "outputs": [],
   "source": [
    "wage_data = wage_data.drop_duplicates()\n",
    "wage_data.shape\n",
    "## no duplicates here!"
   ]
  },
  {
   "cell_type": "code",
   "execution_count": null,
   "id": "3d680afa",
   "metadata": {},
   "outputs": [],
   "source": [
    "pd.unique(wage_data.uu_id).shape"
   ]
  },
  {
   "cell_type": "code",
   "execution_count": null,
   "id": "18918e47",
   "metadata": {},
   "outputs": [],
   "source": [
    "## lets join the 2 datasets on uu_id\n",
    "unemployment_data.columns, wage_data.columns"
   ]
  },
  {
   "cell_type": "code",
   "execution_count": null,
   "id": "e84432a8",
   "metadata": {},
   "outputs": [],
   "source": [
    "data=pd.merge(unemployment_data,wage_data, how='inner')\n",
    "print(data.shape)"
   ]
  },
  {
   "cell_type": "code",
   "execution_count": null,
   "id": "2ee2fc2a",
   "metadata": {},
   "outputs": [],
   "source": [
    "data.columns"
   ]
  },
  {
   "cell_type": "code",
   "execution_count": null,
   "id": "4aec04e8",
   "metadata": {},
   "outputs": [],
   "source": [
    "pd.set_option('display.max_columns', None)  # or 1000\n",
    "pd.set_option('display.max_rows', None)  # or 1000\n",
    "pd.set_option('display.max_colwidth', None)  # or 199\n",
    "data.head()"
   ]
  },
  {
   "cell_type": "code",
   "execution_count": null,
   "id": "450fa3b8",
   "metadata": {
    "lines_to_next_cell": 1
   },
   "outputs": [],
   "source": [
    "data.isna().sum()"
   ]
  },
  {
   "cell_type": "markdown",
   "id": "172e0840",
   "metadata": {},
   "source": [
    "df = pd.DataFrame()\n",
    "df[['Value1', 'Value2']] = data['top_category_employer1'].str.split('-', 1, expand=True)\n",
    "## replace the null values by the value before hypen\n",
    "df['Value2'].fillna(df['Value1'],inplace=True)"
   ]
  },
  {
   "cell_type": "markdown",
   "id": "2288c74f",
   "metadata": {},
   "source": [
    "df['Value1'] = pd.to_numeric(df['Value1'])\n",
    "df['Value2'] = pd.to_numeric(df['Value2'])"
   ]
  },
  {
   "cell_type": "markdown",
   "id": "c87b632d",
   "metadata": {},
   "source": [
    "df['Value3'] = (df['Value1']+df['Value2'])//2"
   ]
  },
  {
   "cell_type": "code",
   "execution_count": null,
   "id": "db0f115c",
   "metadata": {
    "lines_to_next_cell": 1
   },
   "outputs": [],
   "source": [
    "def breakcolumn(a,data):\n",
    "    df=pd.DataFrame()\n",
    "    df[['Value1', 'Value2']] = data[a].str.split('-', 1, expand=True)\n",
    "    ## replace the null values by the value before hypen\n",
    "    df['Value2'].fillna(df['Value1'],inplace=True)\n",
    "\n",
    "    df['Value1'] = pd.to_numeric(df['Value1'])\n",
    "    df['Value2'] = pd.to_numeric(df['Value2'])\n",
    "\n",
    "    df['Value3'] = (df['Value1']+df['Value2'])//2\n",
    "    data[a] = df['Value3']"
   ]
  },
  {
   "cell_type": "code",
   "execution_count": null,
   "id": "b3b3d7c8",
   "metadata": {},
   "outputs": [],
   "source": [
    "data1 = data.copy()\n",
    "obj_list = ['top_category_employer1','top_category_employer2','top_category_employer3']\n",
    "for i in obj_list:\n",
    "    data1[i].replace('N/A',0,inplace=True)\n",
    "    breakcolumn(i,data1)"
   ]
  },
  {
   "cell_type": "code",
   "execution_count": null,
   "id": "a40a9735",
   "metadata": {},
   "outputs": [],
   "source": [
    "data1.head()    "
   ]
  },
  {
   "cell_type": "code",
   "execution_count": null,
   "id": "014dbd1b",
   "metadata": {},
   "outputs": [],
   "source": [
    "data1.info()"
   ]
  },
  {
   "cell_type": "code",
   "execution_count": null,
   "id": "735bb5b7",
   "metadata": {},
   "outputs": [],
   "source": [
    "data1['race_black'].fillna(0,inplace=True)\n",
    "data1['race_other'].fillna(0,inplace=True)\n",
    "data1['club_races'] = data1['race_black'] + data1['race_other']\n",
    "data1.drop(['race_black','race_other'],axis=1,inplace=True)"
   ]
  },
  {
   "cell_type": "code",
   "execution_count": null,
   "id": "bcef5f68",
   "metadata": {},
   "outputs": [],
   "source": [
    "data1.info()"
   ]
  },
  {
   "cell_type": "code",
   "execution_count": null,
   "id": "f0db9d5b",
   "metadata": {},
   "outputs": [],
   "source": [
    "data1.drop(['gender_male','gender_male','race_white','edu_grades_9_11','edu_hs_grad_equiv','edu_post_hs'],axis=1,inplace=True)\n",
    "data1.info()"
   ]
  },
  {
   "cell_type": "code",
   "execution_count": null,
   "id": "16086a3d",
   "metadata": {},
   "outputs": [],
   "source": [
    "data1.fillna(method='bfill',inplace=True)\n",
    "data1.info()"
   ]
  },
  {
   "cell_type": "code",
   "execution_count": null,
   "id": "4aa29876",
   "metadata": {},
   "outputs": [],
   "source": [
    "data1['race_asian'] = data1['race_asian'].fillna(int(np.mean(data1['race_asian'])))\n",
    "data1['race_noanswer'] = data1['race_noanswer'].fillna(int(np.mean(data1['race_noanswer'])))\n",
    "data1['edu_unknown'] = data1['edu_unknown'].fillna(int(np.mean(data1['edu_unknown'])))\n",
    "data1['gender_female'] = data1['gender_female'].fillna(int(np.mean(data1['gender_female'])))\n",
    "data1['top_category_employer3'] = data1['top_category_employer3'].fillna(int(np.mean(data1['top_category_employer3'])))"
   ]
  },
  {
   "cell_type": "code",
   "execution_count": null,
   "id": "d6a11a9f",
   "metadata": {},
   "outputs": [],
   "source": [
    "from sklearn import preprocessing\n",
    "# label_encoder object knows how to understand word labels. \n",
    "label_encoder = preprocessing.LabelEncoder()\n",
    "# Encode labels in column 'Country'. \n",
    "data1['tract_name']= label_encoder.fit_transform(data1['tract_name']) "
   ]
  },
  {
   "cell_type": "code",
   "execution_count": null,
   "id": "51a07d4d",
   "metadata": {},
   "outputs": [],
   "source": [
    "data2 = data1.copy()\n",
    "data1['uu_id']= label_encoder.fit_transform(data1['uu_id']) "
   ]
  },
  {
   "cell_type": "code",
   "execution_count": null,
   "id": "0b9fcdd7",
   "metadata": {},
   "outputs": [],
   "source": [
    "data1.info()"
   ]
  },
  {
   "cell_type": "code",
   "execution_count": null,
   "id": "5f132ada",
   "metadata": {},
   "outputs": [],
   "source": [
    "X = data1.drop('total_claims',axis=1)\n",
    "y = data1['total_claims']\n",
    "from sklearn.model_selection import train_test_split\n",
    "X_train,X_test,y_train,y_test = train_test_split(X,y,test_size = 0.25,random_state = 42)"
   ]
  },
  {
   "cell_type": "code",
   "execution_count": null,
   "id": "71dfe52e",
   "metadata": {},
   "outputs": [],
   "source": [
    "from sklearn.linear_model import LinearRegression\n",
    "linreg = LinearRegression()\n",
    "linreg.fit(X_train,y_train)\n",
    "y_pred = linreg.predict(X_test)"
   ]
  },
  {
   "cell_type": "code",
   "execution_count": null,
   "id": "2c342bc7",
   "metadata": {},
   "outputs": [],
   "source": [
    "y_pred = np.round(y_pred)\n",
    "from sklearn.metrics import mean_squared_error\n",
    "mean_squared_error(y_test,y_pred)"
   ]
  },
  {
   "cell_type": "code",
   "execution_count": null,
   "id": "e6639bd7",
   "metadata": {
    "lines_to_next_cell": 1
   },
   "outputs": [],
   "source": [
    "y_pred"
   ]
  },
  {
   "cell_type": "code",
   "execution_count": null,
   "id": "e13ccfaa",
   "metadata": {
    "lines_to_next_cell": 1
   },
   "outputs": [],
   "source": [
    "## MAPE function\n",
    "def MAPE(Y_actual,Y_Predicted):\n",
    "    mape = np.mean(np.abs((Y_actual - Y_Predicted)/Y_actual))*100\n",
    "    return mape"
   ]
  },
  {
   "cell_type": "code",
   "execution_count": null,
   "id": "0b63a324",
   "metadata": {},
   "outputs": [],
   "source": [
    "print(MAPE(y_test,y_pred))"
   ]
  },
  {
   "cell_type": "code",
   "execution_count": null,
   "id": "73959415",
   "metadata": {},
   "outputs": [],
   "source": [
    "from sklearn.ensemble import RandomForestRegressor\n",
    "rfr = RandomForestRegressor(n_estimators = 500, random_state = 0)\n",
    "rfr.fit(X_train, y_train)"
   ]
  },
  {
   "cell_type": "code",
   "execution_count": null,
   "id": "8ffe5a2c",
   "metadata": {},
   "outputs": [],
   "source": [
    "y_pred = rfr.predict(X_test)"
   ]
  },
  {
   "cell_type": "code",
   "execution_count": null,
   "id": "2fbe9136",
   "metadata": {},
   "outputs": [],
   "source": [
    "y_pred = np.round(y_pred)"
   ]
  },
  {
   "cell_type": "code",
   "execution_count": null,
   "id": "c91c4834",
   "metadata": {},
   "outputs": [],
   "source": [
    "from sklearn.metrics import mean_squared_error\n",
    "mean_squared_error(y_test,y_pred)"
   ]
  },
  {
   "cell_type": "code",
   "execution_count": null,
   "id": "bd9bf44d",
   "metadata": {},
   "outputs": [],
   "source": [
    "X2 = X.copy()"
   ]
  },
  {
   "cell_type": "code",
   "execution_count": null,
   "id": "63626b95",
   "metadata": {},
   "outputs": [],
   "source": [
    "X2 = X2.apply(lambda iterator: ((iterator - iterator.mean())/iterator.std()).round(2))"
   ]
  },
  {
   "cell_type": "code",
   "execution_count": null,
   "id": "0cd43ba8",
   "metadata": {},
   "outputs": [],
   "source": [
    "X_train,X_test,y_train,y_test = train_test_split(X2,y,test_size = 0.25,random_state = 42)"
   ]
  },
  {
   "cell_type": "code",
   "execution_count": null,
   "id": "c87505de",
   "metadata": {},
   "outputs": [],
   "source": [
    "from sklearn.linear_model import LinearRegression\n",
    "linreg = LinearRegression()\n",
    "linreg.fit(X_train,y_train)\n",
    "y_pred = linreg.predict(X_test)"
   ]
  },
  {
   "cell_type": "code",
   "execution_count": null,
   "id": "8306f556",
   "metadata": {},
   "outputs": [],
   "source": [
    "y_pred = np.round(y_pred)\n",
    "from sklearn.metrics import mean_squared_error\n",
    "mean_squared_error(y_test,y_pred)"
   ]
  },
  {
   "cell_type": "code",
   "execution_count": null,
   "id": "f99d81b3",
   "metadata": {},
   "outputs": [],
   "source": [
    "from sklearn.ensemble import RandomForestRegressor\n",
    "rfr = RandomForestRegressor(n_estimators = 600, random_state = 0)\n",
    "rfr.fit(X_train, y_train)"
   ]
  },
  {
   "cell_type": "code",
   "execution_count": null,
   "id": "1cfd6a3e",
   "metadata": {},
   "outputs": [],
   "source": [
    "y_pred = rfr.predict(X_test)\n",
    "y_pred = np.round(y_pred)\n",
    "from sklearn.metrics import mean_squared_error\n",
    "mean_squared_error(y_test,y_pred)"
   ]
  },
  {
   "cell_type": "code",
   "execution_count": null,
   "id": "85c18293",
   "metadata": {},
   "outputs": [],
   "source": [
    "y_pred"
   ]
  },
  {
   "cell_type": "markdown",
   "id": "5ca8c9fa",
   "metadata": {},
   "source": [
    "from sklearn.model_selection import GridSearchCV\n",
    "# Create the parameter grid based on the results of random search \n",
    "param_grid = {\n",
    "    'bootstrap': [True],\n",
    "    'max_depth': [10,20,5,4,25,50],\n",
    "    'max_features': [2, 3],\n",
    "    'min_samples_leaf': [3, 4, 5],\n",
    "    'min_samples_split': [8, 10, 12],\n",
    "    'n_estimators': [100, 200, 300, 1000]\n",
    "}\n",
    "# Create a based model\n",
    "rf = RandomForestRegressor()\n",
    "# Instantiate the grid search model\n",
    "grid_search = GridSearchCV(estimator = rf, param_grid = param_grid, \n",
    "                          cv = 3, n_jobs = -1, verbose = 2)"
   ]
  },
  {
   "cell_type": "markdown",
   "id": "9cb98906",
   "metadata": {},
   "source": [
    "grid_search.fit(X_train,y_train)"
   ]
  },
  {
   "cell_type": "markdown",
   "id": "93bc96de",
   "metadata": {},
   "source": [
    "grid_search.best_params_\n",
    "y_pred = grid_search.predict(X_test)\n",
    "mean_squared_error(y_test,y_pred)"
   ]
  },
  {
   "cell_type": "code",
   "execution_count": null,
   "id": "a53c149d",
   "metadata": {},
   "outputs": [],
   "source": [
    "get_ipython().system('pip install xgboost')\n",
    "from xgboost.sklearn import XGBRegressor\n",
    "regressor = XGBRegressor(\n",
    "    n_estimators=500,\n",
    "    reg_lambda=1,\n",
    "    gamma=0,\n",
    "    max_depth=3)"
   ]
  },
  {
   "cell_type": "code",
   "execution_count": null,
   "id": "a150cdf0",
   "metadata": {},
   "outputs": [],
   "source": [
    "regressor.fit(X_train, y_train)\n",
    "y_pred = regressor.predict(X_test)\n",
    "mean_squared_error(y_test,y_pred)"
   ]
  },
  {
   "cell_type": "code",
   "execution_count": null,
   "id": "52666f15",
   "metadata": {},
   "outputs": [],
   "source": [
    "from xgboost.sklearn import XGBRegressor\n",
    "from sklearn.model_selection import GridSearchCV"
   ]
  },
  {
   "cell_type": "code",
   "execution_count": null,
   "id": "67af40f5",
   "metadata": {},
   "outputs": [],
   "source": [
    "xgb1 = XGBRegressor()\n",
    "parameters = {'nthread':[4], #when use hyperthread, xgboost may become slower\n",
    "              'objective':['reg:linear'],\n",
    "              'learning_rate': [.03, 0.05, .07], #so called `eta` value\n",
    "              'max_depth': [5, 6, 7],\n",
    "              'min_child_weight': [4],\n",
    "              'subsample': [0.7],\n",
    "              'colsample_bytree': [0.7],\n",
    "              'n_estimators': [400,500,600,100]}"
   ]
  },
  {
   "cell_type": "code",
   "execution_count": null,
   "id": "65a803bc",
   "metadata": {},
   "outputs": [],
   "source": [
    "xgb_grid = GridSearchCV(xgb1,\n",
    "                        parameters,\n",
    "                        cv = 2,\n",
    "                        n_jobs = 5,\n",
    "                        verbose=True)"
   ]
  },
  {
   "cell_type": "code",
   "execution_count": null,
   "id": "9cf9955a",
   "metadata": {},
   "outputs": [],
   "source": [
    "xgb_grid.fit(X_train,y_train)\n",
    "y_pred = xgb_grid.predict(X_test)\n",
    "mean_squared_error(y_test,y_pred)"
   ]
  },
  {
   "cell_type": "code",
   "execution_count": null,
   "id": "69c5aab2",
   "metadata": {},
   "outputs": [],
   "source": [
    "query = \"\"\"\n",
    "SELECT *\n",
    "FROM `ironhacks-data.ironhacks_competition.prediction_list`\n",
    "\"\"\""
   ]
  },
  {
   "cell_type": "code",
   "execution_count": null,
   "id": "df5a8392",
   "metadata": {},
   "outputs": [],
   "source": [
    "# QUERY THE DATA ONCE\n",
    "query_job = bigquery_client.query(query)\n",
    "print(query_job)\n",
    "prediction = query_job.to_dataframe()"
   ]
  },
  {
   "cell_type": "code",
   "execution_count": null,
   "id": "490319af",
   "metadata": {},
   "outputs": [],
   "source": [
    "print(prediction.shape)\n",
    "pd.DataFrame(prediction).head()"
   ]
  },
  {
   "cell_type": "code",
   "execution_count": null,
   "id": "80fca9d7",
   "metadata": {},
   "outputs": [],
   "source": [
    "data2 = data2.drop_duplicates(subset=['uu_id'],keep='last')"
   ]
  },
  {
   "cell_type": "code",
   "execution_count": null,
   "id": "dd5cbf74",
   "metadata": {},
   "outputs": [],
   "source": [
    "data2 = data2.set_index('uu_id')\n",
    "data2.head()"
   ]
  },
  {
   "cell_type": "code",
   "execution_count": null,
   "id": "4923572a",
   "metadata": {},
   "outputs": [],
   "source": [
    "final_prediction = data2.join(prediction.set_index('uu_id'),on='uu_id',rsuffix='_other')\n",
    "final_prediction.head()"
   ]
  },
  {
   "cell_type": "code",
   "execution_count": null,
   "id": "58f5eda4",
   "metadata": {},
   "outputs": [],
   "source": [
    "final_prediction_data = pd.DataFrame()\n",
    "final_prediction_data['index'] = final_prediction.index\n",
    "final_prediction_data['week_number_other'] = final_prediction.week_number_other"
   ]
  },
  {
   "cell_type": "code",
   "execution_count": null,
   "id": "9a1197e2",
   "metadata": {},
   "outputs": [],
   "source": [
    "final_prediction = final_prediction.drop(['week_number_other'], axis=1)\n",
    "final_prediction.reset_index(drop=True, inplace=True)"
   ]
  },
  {
   "cell_type": "code",
   "execution_count": null,
   "id": "6860a244",
   "metadata": {},
   "outputs": [],
   "source": [
    "future = final_prediction.values\n",
    "future_weeks_pred = rfr.predict(future)\n",
    "print(future_weeks_pred.shape)"
   ]
  },
  {
   "cell_type": "code",
   "execution_count": null,
   "id": "a1693494",
   "metadata": {},
   "outputs": [],
   "source": [
    "prediction['total_claims'] = future_weeks_pred.astype('int')\n",
    "prediction.columns = ['uuid','week','count']\n",
    "print(prediction)"
   ]
  },
  {
   "cell_type": "code",
   "execution_count": null,
   "id": "5fd3e54a",
   "metadata": {
    "lines_to_next_cell": 2
   },
   "outputs": [],
   "source": [
    "prediction.to_csv(\"submission_prediction_output.csv\",index=False)"
   ]
  }
 ],
 "metadata": {
  "jupytext": {
   "cell_metadata_filter": "-all",
   "main_language": "python",
   "notebook_metadata_filter": "-all"
  }
 },
 "nbformat": 4,
 "nbformat_minor": 5
}
