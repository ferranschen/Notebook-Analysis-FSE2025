{
 "cells": [
  {
   "cell_type": "code",
   "execution_count": null,
   "id": "77c15cc5",
   "metadata": {},
   "outputs": [],
   "source": [
    "get_ipython().run_cell_magic('capture', '', \"%logstop\\n%logstart -t -r -q ipython_command_log.py global\\n\\n#- IRONHACKS RESEARCH TRACKING CODE\\n#----------------------------------\\n# The following code is used to help our research team understand how you \\n# our notebook environment. We do not collect any personal information with\\n# the following code, it is used to measure when and how often you work on\\n# your submission files.\\n\\nimport os\\nfrom datetime import datetime\\nimport IPython.core.history as history\\n\\nha = history.HistoryAccessor()\\nha_tail = ha.get_tail(1)\\nha_cmd = next(ha_tail)\\nsession_id = str(ha_cmd[0])\\ncommand_id = str(ha_cmd[1])\\ntimestamp = datetime.utcnow().isoformat()\\nhistory_line = ','.join([session_id, command_id, timestamp]) + '\\\\n'\\nlogfile = open(os.environ['HOME']+'/ipython_session_log.csv', 'a')\\nlogfile.write(history_line)\\nlogfile.close()\\n\")"
   ]
  },
  {
   "cell_type": "code",
   "execution_count": null,
   "id": "2ccb51ad",
   "metadata": {},
   "outputs": [],
   "source": [
    "get_ipython().run_cell_magic('capture', '', \"\\n#- INSTALL ADDITIONAL LIBRARIES IF REQUIRED\\n#------------------------------------------\\n# This is normally not required. The hub environment comes preinstaled with \\n# many packages that you can already use without setup. In case there is some\\n# other library you would like to use that isn't on the list you run this command\\n# once to install them.  If it is already installed this command has no effect.\\n\\n!python3 -m pip install pandas\\n!pip install db-dtypes\\n\")"
   ]
  },
  {
   "cell_type": "markdown",
   "id": "01c2682b",
   "metadata": {},
   "source": [
    "- IMPORT THE LIBRARIES YOU WILL USE\n",
    "------------------------------------------\n",
    "You only need to import packages one time per notebook session. To keep your\n",
    "notebook clean and organized you can handle all imports at the top of your file.\n",
    "The following are included for example purposed, feel free to modify or delete \n",
    "anything in this section."
   ]
  },
  {
   "cell_type": "code",
   "execution_count": null,
   "id": "df1ea8b8",
   "metadata": {},
   "outputs": [],
   "source": [
    "import csv\n",
    "import pandas as pd\n",
    "import numpy as np\n",
    "import seaborn as sns\n",
    "import matplotlib.pyplot as plt\n",
    "import statsmodels.api as sm\n",
    "from google.cloud import bigquery\n",
    "from google.oauth2 import service_account\n",
    "from google.cloud.bigquery import magics\n",
    "from sklearn.model_selection import train_test_split \n",
    "from sklearn.linear_model import LinearRegression\n",
    "from sklearn import metrics\n",
    "from statsmodels.formula.api import ols\n",
    "from pandas import Series, DataFrame"
   ]
  },
  {
   "cell_type": "markdown",
   "id": "81d11001",
   "metadata": {},
   "source": [
    "CONFIGURE THE BIGQUERY SETTINGS"
   ]
  },
  {
   "cell_type": "code",
   "execution_count": null,
   "id": "329bd325",
   "metadata": {},
   "outputs": [],
   "source": [
    "BIGQUERY_PROJECT = 'ironhacks-data'\n",
    "bigquery_client = bigquery.Client(project=BIGQUERY_PROJECT)"
   ]
  },
  {
   "cell_type": "code",
   "execution_count": null,
   "id": "2dba2fe1",
   "metadata": {},
   "outputs": [],
   "source": [
    "query = \"\"\"\n",
    "SELECT *\n",
    "FROM `ironhacks-data.ironhacks_competition.unemployment_data`\n",
    "\"\"\""
   ]
  },
  {
   "cell_type": "code",
   "execution_count": null,
   "id": "33722437",
   "metadata": {},
   "outputs": [],
   "source": [
    "query_job = bigquery_client.query(query)\n",
    "unemployment_data = query_job.to_dataframe()\n",
    "unemployment_data.head()"
   ]
  },
  {
   "cell_type": "code",
   "execution_count": null,
   "id": "4bf48018",
   "metadata": {},
   "outputs": [],
   "source": [
    "query2 = \"\"\"\n",
    "SELECT *\n",
    "FROM `ironhacks-data.ironhacks_competition.wage_data`\n",
    "\"\"\""
   ]
  },
  {
   "cell_type": "code",
   "execution_count": null,
   "id": "e89466bc",
   "metadata": {},
   "outputs": [],
   "source": [
    "query_job2 = bigquery_client.query(query2)\n",
    "wage_data = query_job2.to_dataframe()\n",
    "wage_data.head()"
   ]
  },
  {
   "cell_type": "code",
   "execution_count": null,
   "id": "d2fe45d7",
   "metadata": {},
   "outputs": [],
   "source": [
    "wage_data[wage_data.isnull().any(axis=1)]"
   ]
  },
  {
   "cell_type": "code",
   "execution_count": null,
   "id": "2d7abac5",
   "metadata": {},
   "outputs": [],
   "source": [
    "wage_data2 = wage_data.fillna({'average_wage': wage_data.average_wage.mean()})\n",
    "wage_data2.head()"
   ]
  },
  {
   "cell_type": "code",
   "execution_count": null,
   "id": "38785b6b",
   "metadata": {},
   "outputs": [],
   "source": [
    "query3 = \"\"\"\n",
    "SELECT *\n",
    "FROM `ironhacks-data.ironhacks_competition.prediction_list`\n",
    "\"\"\""
   ]
  },
  {
   "cell_type": "code",
   "execution_count": null,
   "id": "bce094db",
   "metadata": {},
   "outputs": [],
   "source": [
    "query_job3 = bigquery_client.query(query3)\n",
    "prediction_list = query_job3.to_dataframe()\n",
    "prediction_list.head()"
   ]
  },
  {
   "cell_type": "code",
   "execution_count": null,
   "id": "ea31ad75",
   "metadata": {},
   "outputs": [],
   "source": [
    "unemploy_wage_data = pd.merge(unemployment_data, wage_data, on=['uu_id'], how='inner')\n",
    "unemploy_wage_data = unemploy_wage_data.drop(['timeperiod', 'countyfips_y', 'tract_y', 'tract_name_y'], axis=1)\n",
    "unemploy_wage_data = unemploy_wage_data.fillna(0)\n",
    "unemploy_wage_data.head()"
   ]
  },
  {
   "cell_type": "code",
   "execution_count": null,
   "id": "eaa27ea3",
   "metadata": {},
   "outputs": [],
   "source": [
    "unemploy_wage_data.describe()"
   ]
  },
  {
   "cell_type": "code",
   "execution_count": null,
   "id": "daa3e001",
   "metadata": {},
   "outputs": [],
   "source": [
    "sns.relplot(data=unemploy_wage_data, x='week_number', y='total_claims')"
   ]
  },
  {
   "cell_type": "code",
   "execution_count": null,
   "id": "3d4eb8c4",
   "metadata": {},
   "outputs": [],
   "source": [
    "sns.distplot(unemploy_wage_data.total_claims, bins=10)"
   ]
  },
  {
   "cell_type": "code",
   "execution_count": null,
   "id": "e0788dee",
   "metadata": {},
   "outputs": [],
   "source": [
    "plt.figure(figsize=(16,14))\n",
    "cor = unemploy_wage_data.corr()\n",
    "cmap = sns.diverging_palette(210, 20, as_cmap=True)\n",
    "sns.heatmap(cor, cmap=cmap, vmax=.99, vmin=-.99, annot=True)"
   ]
  },
  {
   "cell_type": "code",
   "execution_count": null,
   "id": "0687967c",
   "metadata": {},
   "outputs": [],
   "source": [
    "X = unemploy_wage_data[['week_number', 'countyfips_x', 'tract_x', 'edu_8th_or_less', 'edu_grades_9_11', \\\n",
    "                        'edu_hs_grad_equiv', 'edu_post_hs', 'edu_unknown', 'gender_female', 'gender_male', \\\n",
    "                        'gender_na', 'race_amerindian', 'race_asian', 'race_black', 'race_noanswer', \\\n",
    "                        'race_hawaiiannative', 'race_other', 'race_white', 'average_wage']]\n",
    "y = unemploy_wage_data['total_claims']"
   ]
  },
  {
   "cell_type": "code",
   "execution_count": null,
   "id": "6b25bf30",
   "metadata": {},
   "outputs": [],
   "source": [
    "X_train, X_test, y_train, y_test = train_test_split(X, y, test_size=0.2, random_state=0)"
   ]
  },
  {
   "cell_type": "code",
   "execution_count": null,
   "id": "48854ca7",
   "metadata": {},
   "outputs": [],
   "source": [
    "reg = LinearRegression()  \n",
    "reg.fit(X_train, y_train)\n",
    "print(reg)"
   ]
  },
  {
   "cell_type": "code",
   "execution_count": null,
   "id": "491303f7",
   "metadata": {},
   "outputs": [],
   "source": [
    "print(f'intercept: {reg.intercept_}')\n",
    "coef = DataFrame(reg.coef_, X.columns, columns=['coefficients'])\n",
    "print(coef)"
   ]
  },
  {
   "cell_type": "code",
   "execution_count": null,
   "id": "1ed2892b",
   "metadata": {},
   "outputs": [],
   "source": [
    "y_pred = reg.predict(X_test)\n",
    "df = DataFrame({'Actual': y_test, 'Predicted': y_pred})\n",
    "df"
   ]
  },
  {
   "cell_type": "code",
   "execution_count": null,
   "id": "cd642c6f",
   "metadata": {},
   "outputs": [],
   "source": [
    "df['Predicted'].mean()"
   ]
  },
  {
   "cell_type": "code",
   "execution_count": null,
   "id": "76d7ce60",
   "metadata": {},
   "outputs": [],
   "source": [
    "print('R squared: {:.2f}'.format(reg.score(X, y)*100))\n",
    "print('MAE:', metrics.mean_absolute_error(y_test, y_pred))\n",
    "print('MSE:', metrics.mean_squared_error(y_test, y_pred))\n",
    "print('RMSE:', np.sqrt(metrics.mean_squared_error(y_test, y_pred)))"
   ]
  },
  {
   "cell_type": "code",
   "execution_count": null,
   "id": "40dfed3e",
   "metadata": {},
   "outputs": [],
   "source": [
    "#Make prediction\n",
    "prediction_data = pd.merge(unemploy_wage_data, prediction_list, on=['uu_id'], how='inner')\n",
    "prediction_data = prediction_data.drop(['week_number_x','total_claims'],axis=1)\n",
    "prediction_data = prediction_data.groupby(['uu_id']).mean()\n",
    "prediction_data"
   ]
  },
  {
   "cell_type": "code",
   "execution_count": null,
   "id": "29fe79b1",
   "metadata": {},
   "outputs": [],
   "source": [
    "final_reg = LinearRegression()  \n",
    "final_reg.fit(X, y)\n",
    "final_X = prediction_data[['week_number_y', 'countyfips_x', 'tract_x', 'edu_8th_or_less', 'edu_grades_9_11', \\\n",
    "                           'edu_hs_grad_equiv', 'edu_post_hs', 'edu_unknown', 'gender_female', 'gender_male', \\\n",
    "                           'gender_na', 'race_amerindian', 'race_asian', 'race_black', 'race_noanswer', \\\n",
    "                           'race_hawaiiannative', 'race_other', 'race_white', 'average_wage']]\n",
    "pred_claims = final_reg.predict(final_X)\n",
    "prediction_list['total_claims'] = pred_claims.astype(int)\n",
    "prediction_list"
   ]
  },
  {
   "cell_type": "code",
   "execution_count": null,
   "id": "1c347e10",
   "metadata": {
    "lines_to_next_cell": 2
   },
   "outputs": [],
   "source": [
    "prediction_list.to_csv('submission_prediction_output.csv', index=False)"
   ]
  }
 ],
 "metadata": {
  "jupytext": {
   "cell_metadata_filter": "-all",
   "main_language": "python",
   "notebook_metadata_filter": "-all"
  }
 },
 "nbformat": 4,
 "nbformat_minor": 5
}
