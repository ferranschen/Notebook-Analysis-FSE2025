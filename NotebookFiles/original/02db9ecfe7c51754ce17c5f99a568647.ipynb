{
 "cells": [
  {
   "cell_type": "code",
   "execution_count": null,
   "id": "50b2a066",
   "metadata": {},
   "outputs": [],
   "source": [
    "get_ipython().run_cell_magic('capture', '', \"%logstop\\n%logstart -t -r -q ipython_command_log.py global\\n\\n#- IRONHACKS RESEARCH TRACKING CODE\\n#----------------------------------\\n# The following code is used to help our research team understand how you \\n# our notebook environment. We do not collect any personal information with\\n# the following code, it is used to measure when and how often you work on\\n# your submission files.\\n\\nimport os\\nfrom datetime import datetime\\nimport IPython.core.history as history\\n\\nha = history.HistoryAccessor()\\nha_tail = ha.get_tail(1)\\nha_cmd = next(ha_tail)\\nsession_id = str(ha_cmd[0])\\ncommand_id = str(ha_cmd[1])\\ntimestamp = datetime.utcnow().isoformat()\\nhistory_line = ','.join([session_id, command_id, timestamp]) + '\\\\n'\\nlogfile = open(os.environ['HOME']+'/ipython_session_log.csv', 'a')\\nlogfile.write(history_line)\\nlogfile.close()\\n\")"
   ]
  },
  {
   "cell_type": "code",
   "execution_count": null,
   "id": "88cd7594",
   "metadata": {},
   "outputs": [],
   "source": [
    "#import cell\n",
    "import pandas as pd\n",
    "import numpy as np\n",
    "import statistics\n",
    "import csv\n",
    "import matplotlib.pyplot as plt\n",
    "from google.cloud import bigquery\n",
    "from google.oauth2 import service_account\n",
    "from google.cloud.bigquery import magics"
   ]
  },
  {
   "cell_type": "code",
   "execution_count": null,
   "id": "d71b16f3",
   "metadata": {},
   "outputs": [],
   "source": [
    "BIGQUERY_PROJECT = 'ironhacks-data'\n",
    "bigquery_client = bigquery.Client(project=BIGQUERY_PROJECT)"
   ]
  },
  {
   "cell_type": "code",
   "execution_count": null,
   "id": "2a7d0eff",
   "metadata": {},
   "outputs": [],
   "source": [
    "#Gets the master unemployed table\n",
    "query = \"\"\"\n",
    "SELECT *\n",
    "FROM `ironhacks-data.ironhacks_competition.unemployment_data`\n",
    "\"\"\""
   ]
  },
  {
   "cell_type": "code",
   "execution_count": null,
   "id": "9f28fe0d",
   "metadata": {},
   "outputs": [],
   "source": [
    "# QUERY THE DATA ONCE\n",
    "query_job = bigquery_client.query(query)\n",
    "unemploymentData = query_job.to_dataframe()\n",
    "print(unemploymentData.shape)\n",
    "pd.set_option('display.max_columns', None)\n",
    "unemploymentData.head(3)"
   ]
  },
  {
   "cell_type": "code",
   "execution_count": null,
   "id": "39f4073a",
   "metadata": {},
   "outputs": [],
   "source": [
    "#Gets each tracks mean and std dev\n",
    "#unlist has the master unemployment list\n",
    "#b becomes the filtered list\n",
    "unList = unemploymentData.values.tolist()\n",
    "b_set = set(tuple(x) for x in unList)\n",
    "b = [ list(x) for x in b_set ]"
   ]
  },
  {
   "cell_type": "code",
   "execution_count": null,
   "id": "2a931adf",
   "metadata": {},
   "outputs": [],
   "source": [
    "uuid = []\n",
    "#makes a list of the unique uuid\n",
    "for x in b:\n",
    "    if(uuid.count(x[0]) == 0):\n",
    "        uuid.append(x[0])"
   ]
  },
  {
   "cell_type": "code",
   "execution_count": null,
   "id": "aad9e52d",
   "metadata": {},
   "outputs": [],
   "source": [
    "#setup for extract        \n",
    "values = []\n",
    "export = []"
   ]
  },
  {
   "cell_type": "code",
   "execution_count": null,
   "id": "5717fd2a",
   "metadata": {},
   "outputs": [],
   "source": [
    "#for each value make a list of each weeks claims\n",
    "for y in uuid:\n",
    "    temp = [y]\n",
    "    for x in b:\n",
    "        if (x[0] == y):\n",
    "            temp.append(x[6])\n",
    "    values.append(temp)"
   ]
  },
  {
   "cell_type": "code",
   "execution_count": null,
   "id": "6e7391e5",
   "metadata": {},
   "outputs": [],
   "source": [
    "for x in values:\n",
    "    name = x[0]\n",
    "    mean = statistics.mean(x[1:])\n",
    "    if (len(x) > 2):\n",
    "        stdev = statistics.stdev(x[1:])\n",
    "    else:\n",
    "        print(\"short\")\n",
    "    export.append([name, mean, stdev])\n",
    "#Everything below this is testing"
   ]
  },
  {
   "cell_type": "code",
   "execution_count": null,
   "id": "0df4b46c",
   "metadata": {},
   "outputs": [],
   "source": [
    "#Make bar charts\n",
    "#unique list as guide to count\n",
    "x1 = []\n",
    "y1 = []\n",
    "for i in uuid[:1]:\n",
    "    for k in b:\n",
    "        if (k[0] == i):\n",
    "            x1.append(k[2])\n",
    "            y1.append(k[6])"
   ]
  },
  {
   "cell_type": "code",
   "execution_count": null,
   "id": "3bcc1235",
   "metadata": {},
   "outputs": [],
   "source": [
    "plt.bar(x1,y1)"
   ]
  },
  {
   "cell_type": "markdown",
   "id": "cd25ddbf",
   "metadata": {},
   "source": [
    "Make bar charts\n",
    "unique list as guide to count\n",
    "num of unemployment claims versus count"
   ]
  },
  {
   "cell_type": "code",
   "execution_count": null,
   "id": "bf496685",
   "metadata": {},
   "outputs": [],
   "source": [
    "xValues = []\n",
    "xCount = []\n",
    "for i in uuid[:1]:\n",
    "    for k in b:\n",
    "        if (k[0] == i):\n",
    "            xValues.append(k[6])\n",
    "c_set = set(tuple(x) for x in xValues)\n",
    "c = [ list(x) for x in c_set ]"
   ]
  },
  {
   "cell_type": "code",
   "execution_count": null,
   "id": "4f93112b",
   "metadata": {},
   "outputs": [],
   "source": [
    "for x in c:\n",
    "    xCount.append(xValues.count(x))"
   ]
  },
  {
   "cell_type": "code",
   "execution_count": null,
   "id": "f1a783b8",
   "metadata": {},
   "outputs": [],
   "source": [
    "plt.bar(xValues,xCount)"
   ]
  },
  {
   "cell_type": "markdown",
   "id": "fdf3dfee",
   "metadata": {},
   "source": [
    "Make bar charts\n",
    "unique list as guide to count\n",
    "num of unemployment claims versus count"
   ]
  },
  {
   "cell_type": "code",
   "execution_count": null,
   "id": "79084c49",
   "metadata": {},
   "outputs": [],
   "source": [
    "xValues = []\n",
    "xCount = []\n",
    "for i in uuid[:1]:\n",
    "    for k in b:\n",
    "        if (k[0] == i):\n",
    "            xValues.append(k[6])\n",
    "c = list(dict.fromkeys(xValues))"
   ]
  },
  {
   "cell_type": "code",
   "execution_count": null,
   "id": "279adfc0",
   "metadata": {},
   "outputs": [],
   "source": [
    "for x in c:\n",
    "    xCount.append(xValues.count(x))"
   ]
  },
  {
   "cell_type": "code",
   "execution_count": null,
   "id": "0c4c27e5",
   "metadata": {},
   "outputs": [],
   "source": [
    "plt.bar(xValues,xCount)"
   ]
  },
  {
   "cell_type": "markdown",
   "id": "0c54b88d",
   "metadata": {},
   "source": [
    "Make bar charts\n",
    "unique list as guide to count\n",
    "num of unemployment claims versus count"
   ]
  },
  {
   "cell_type": "code",
   "execution_count": null,
   "id": "aab76129",
   "metadata": {},
   "outputs": [],
   "source": [
    "xValues = []\n",
    "xCount = []\n",
    "for i in uuid[:1]:\n",
    "    for k in b:\n",
    "        if (k[0] == i):\n",
    "            xValues.append(k[6])\n",
    "c = list(dict.fromkeys(xValues))"
   ]
  },
  {
   "cell_type": "code",
   "execution_count": null,
   "id": "e156ecc6",
   "metadata": {},
   "outputs": [],
   "source": [
    "for x in c:\n",
    "    xCount.append(xValues.count(x))\n",
    "print(xValues)\n",
    "print(xCount)\n",
    "plt.bar(xValues,xCount)"
   ]
  },
  {
   "cell_type": "markdown",
   "id": "efe5b4ef",
   "metadata": {},
   "source": [
    "Make bar charts\n",
    "unique list as guide to count\n",
    "num of unemployment claims versus count"
   ]
  },
  {
   "cell_type": "code",
   "execution_count": null,
   "id": "53f1410f",
   "metadata": {},
   "outputs": [],
   "source": [
    "xValues = []\n",
    "xCount = []\n",
    "for i in uuid[:1]:\n",
    "    for k in b:\n",
    "        if (k[0] == i):\n",
    "            xValues.append(k[6])\n",
    "c = list(dict.fromkeys(xValues))"
   ]
  },
  {
   "cell_type": "code",
   "execution_count": null,
   "id": "78b29d7b",
   "metadata": {},
   "outputs": [],
   "source": [
    "for x in c:\n",
    "    xCount.append(xValues.count(x))\n",
    "print(xValues)\n",
    "print(xCount)\n",
    "plt.bar(c,xCount)"
   ]
  },
  {
   "cell_type": "markdown",
   "id": "31acbcdc",
   "metadata": {},
   "source": [
    "Make bar charts\n",
    "unique list as guide to count\n",
    "num of unemployment claims versus count"
   ]
  },
  {
   "cell_type": "code",
   "execution_count": null,
   "id": "9c2948fc",
   "metadata": {},
   "outputs": [],
   "source": [
    "xValues = []\n",
    "xCount = []\n",
    "for i in uuid[:1]:\n",
    "    for k in b:\n",
    "        if (k[0] == i):\n",
    "            xValues.append(k[6])\n",
    "c = list(dict.fromkeys(xValues))"
   ]
  },
  {
   "cell_type": "code",
   "execution_count": null,
   "id": "ae045e2d",
   "metadata": {},
   "outputs": [],
   "source": [
    "for x in c:\n",
    "    xCount.append(xValues.count(x))\n",
    "print(len(xValues))\n",
    "plt.bar(c,xCount)"
   ]
  },
  {
   "cell_type": "markdown",
   "id": "f6297af5",
   "metadata": {},
   "source": [
    "Make bar charts\n",
    "unique list as guide to count\n",
    "num of unemployment claims versus count"
   ]
  },
  {
   "cell_type": "code",
   "execution_count": null,
   "id": "49c6ec6c",
   "metadata": {},
   "outputs": [],
   "source": [
    "xValues = []\n",
    "xCount = []\n",
    "for i in uuid[:1]:\n",
    "    for k in b:\n",
    "        if (k[0] == i):\n",
    "            xValues.append(k[6])\n",
    "c = list(dict.fromkeys(xValues))"
   ]
  },
  {
   "cell_type": "code",
   "execution_count": null,
   "id": "86472793",
   "metadata": {},
   "outputs": [],
   "source": [
    "for x in c:\n",
    "    xCount.append(xValues.count(x))\n",
    "print(len(xValues))\n",
    "print(statistics.mean(xxValues)\n",
    "plt.bar(c,xCount)"
   ]
  },
  {
   "cell_type": "markdown",
   "id": "ada9c747",
   "metadata": {},
   "source": [
    "Make bar charts\n",
    "unique list as guide to count\n",
    "num of unemployment claims versus count"
   ]
  },
  {
   "cell_type": "code",
   "execution_count": null,
   "id": "8bbd245b",
   "metadata": {},
   "outputs": [],
   "source": [
    "xValues = []\n",
    "xCount = []\n",
    "for i in uuid[:1]:\n",
    "    for k in b:\n",
    "        if (k[0] == i):\n",
    "            xValues.append(k[6])\n",
    "c = list(dict.fromkeys(xValues))"
   ]
  },
  {
   "cell_type": "code",
   "execution_count": null,
   "id": "1fc06a14",
   "metadata": {},
   "outputs": [],
   "source": [
    "for x in c:\n",
    "    xCount.append(xValues.count(x))\n",
    "print(len(xValues))\n",
    "print(statistics.mean(xValues))\n",
    "plt.bar(c,xCount)"
   ]
  },
  {
   "cell_type": "markdown",
   "id": "53a4f09c",
   "metadata": {},
   "source": [
    "Make bar charts\n",
    "unique list as guide to count\n",
    "num of unemployment claims versus count"
   ]
  },
  {
   "cell_type": "code",
   "execution_count": null,
   "id": "93a9cf0a",
   "metadata": {},
   "outputs": [],
   "source": [
    "xValues = []\n",
    "xCount = []\n",
    "for i in uuid[:1]:\n",
    "    for k in b:\n",
    "        if (k[0] == i):\n",
    "            xValues.append(k[6])\n",
    "c = list(dict.fromkeys(xValues))"
   ]
  },
  {
   "cell_type": "code",
   "execution_count": null,
   "id": "99052bf5",
   "metadata": {},
   "outputs": [],
   "source": [
    "for x in c:\n",
    "    xCount.append(xValues.count(x))\n",
    "print(statistics.mean(xValues))\n",
    "print(statistics.median(xValues))\n",
    "plt.bar(c,xCount)"
   ]
  },
  {
   "cell_type": "markdown",
   "id": "97882e09",
   "metadata": {},
   "source": [
    "Make bar charts\n",
    "unique list as guide to count\n",
    "num of unemployment claims versus count"
   ]
  },
  {
   "cell_type": "code",
   "execution_count": null,
   "id": "912d0271",
   "metadata": {},
   "outputs": [],
   "source": [
    "xValues = []\n",
    "xCount = []\n",
    "for i in uuid[4:5]:\n",
    "    for k in b:\n",
    "        if (k[0] == i):\n",
    "            xValues.append(k[6])\n",
    "c = list(dict.fromkeys(xValues))"
   ]
  },
  {
   "cell_type": "code",
   "execution_count": null,
   "id": "b3e9295d",
   "metadata": {},
   "outputs": [],
   "source": [
    "for x in c:\n",
    "    xCount.append(xValues.count(x))\n",
    "print(statistics.mean(xValues))\n",
    "print(statistics.median(xValues))\n",
    "plt.bar(c,xCount)"
   ]
  },
  {
   "cell_type": "markdown",
   "id": "80cde08d",
   "metadata": {},
   "source": [
    "Make bar charts\n",
    "unique list as guide to count\n",
    "num of unemployment claims versus count"
   ]
  },
  {
   "cell_type": "code",
   "execution_count": null,
   "id": "7f675b0e",
   "metadata": {},
   "outputs": [],
   "source": [
    "xValues = []\n",
    "xCount = []\n",
    "for i in uuid[:2]:\n",
    "    for k in b:\n",
    "        if (k[0] == i):\n",
    "            xValues.append(k[6])\n",
    "    c = list(dict.fromkeys(xValues))\n",
    "\n",
    "    for x in c:\n",
    "        xCount.append(xValues.count(x))\n",
    "    print(statistics.mean(xValues))\n",
    "    print(statistics.median(xValues))\n",
    "    plt.bar(c,xCount)"
   ]
  },
  {
   "cell_type": "markdown",
   "id": "6a2c0a63",
   "metadata": {},
   "source": [
    "Make bar charts\n",
    "unique list as guide to count\n",
    "num of unemployment claims versus count"
   ]
  },
  {
   "cell_type": "code",
   "execution_count": null,
   "id": "0d3bf5d7",
   "metadata": {},
   "outputs": [],
   "source": [
    "for i in uuid[:2]:\n",
    "    xValues = []\n",
    "    xCount = []\n",
    "    for k in b:\n",
    "        if (k[0] == i):\n",
    "            xValues.append(k[6])\n",
    "    c = list(dict.fromkeys(xValues))\n",
    "\n",
    "    for x in c:\n",
    "        xCount.append(xValues.count(x))\n",
    "    print(statistics.mean(xValues))\n",
    "    print(statistics.median(xValues))\n",
    "    plt.bar(c,xCount)"
   ]
  },
  {
   "cell_type": "markdown",
   "id": "70ddb09f",
   "metadata": {},
   "source": [
    "Make bar charts\n",
    "unique list as guide to count\n",
    "num of unemployment claims versus count"
   ]
  },
  {
   "cell_type": "code",
   "execution_count": null,
   "id": "3c6e061d",
   "metadata": {},
   "outputs": [],
   "source": [
    "for i in uuid[:10]:\n",
    "    xValues = []\n",
    "    xCount = []\n",
    "    for k in b:\n",
    "        if (k[0] == i):\n",
    "            xValues.append(k[6])\n",
    "    c = list(dict.fromkeys(xValues))\n",
    "\n",
    "    for x in c:\n",
    "        xCount.append(xValues.count(x))\n",
    "    print(statistics.mean(xValues))\n",
    "    print(statistics.median(xValues))\n",
    "    plt.bar(c,xCount)"
   ]
  },
  {
   "cell_type": "markdown",
   "id": "deb6eae3",
   "metadata": {},
   "source": [
    "Make bar charts\n",
    "unique list as guide to count\n",
    "num of unemployment claims versus count"
   ]
  },
  {
   "cell_type": "code",
   "execution_count": null,
   "id": "5cc5088c",
   "metadata": {
    "lines_to_next_cell": 2
   },
   "outputs": [],
   "source": [
    "for i in uuid[:1]:\n",
    "    xValues = []\n",
    "    xCount = []\n",
    "    for k in b:\n",
    "        if (k[0] == i):\n",
    "            xValues.append(k[6])\n",
    "    c = list(dict.fromkeys(xValues))\n",
    "\n",
    "    for x in c:\n",
    "        xCount.append(xValues.count(x))\n",
    "    print(statistics.mean(xValues))\n",
    "    print(statistics.median(xValues))\n",
    "    plt.bar(c,xCount)"
   ]
  }
 ],
 "metadata": {
  "jupytext": {
   "cell_metadata_filter": "-all",
   "main_language": "python",
   "notebook_metadata_filter": "-all"
  }
 },
 "nbformat": 4,
 "nbformat_minor": 5
}
