{
 "cells": [
  {
   "cell_type": "code",
   "execution_count": null,
   "id": "a2c4f962",
   "metadata": {},
   "outputs": [],
   "source": [
    "import pandas as pd\n",
    "import numpy as np\n",
    "import matplotlib\n",
    "import matplotlib.pyplot as plt\n",
    "import seaborn as sns\n",
    "get_ipython().run_line_magic('matplotlib', 'inline')"
   ]
  },
  {
   "cell_type": "code",
   "execution_count": null,
   "id": "3b2d27e3",
   "metadata": {},
   "outputs": [],
   "source": [
    "import os\n",
    "from google.cloud import bigquery\n",
    "from google.oauth2 import service_account\n",
    "from google.cloud.bigquery import magics"
   ]
  },
  {
   "cell_type": "code",
   "execution_count": null,
   "id": "30a7a677",
   "metadata": {},
   "outputs": [],
   "source": [
    "BIGQUERY_PROJECT = 'ironhacks-data'\n",
    "bigquery_client = bigquery.Client(project=BIGQUERY_PROJECT)"
   ]
  },
  {
   "cell_type": "code",
   "execution_count": null,
   "id": "34ed21b1",
   "metadata": {},
   "outputs": [],
   "source": [
    "query = \"\"\"\n",
    "SELECT *\n",
    "FROM `ironhacks-data.ironhacks_competition.unemployment_data`\n",
    "\"\"\""
   ]
  },
  {
   "cell_type": "code",
   "execution_count": null,
   "id": "aac4313b",
   "metadata": {},
   "outputs": [],
   "source": [
    "query_job = bigquery_client.query(query)\n",
    "unemployment_data = query_job.to_dataframe()\n",
    "unemployment_data.head(3)"
   ]
  },
  {
   "cell_type": "code",
   "execution_count": null,
   "id": "a4218a23",
   "metadata": {},
   "outputs": [],
   "source": [
    "query = \"\"\"\n",
    "SELECT *\n",
    "FROM `ironhacks-data.ironhacks_competition.wage_data`\n",
    "\"\"\""
   ]
  },
  {
   "cell_type": "code",
   "execution_count": null,
   "id": "71305b24",
   "metadata": {},
   "outputs": [],
   "source": [
    "query_job = bigquery_client.query(query)\n",
    "wage_data = query_job.to_dataframe()\n",
    "wage_data.head(3)"
   ]
  },
  {
   "cell_type": "code",
   "execution_count": null,
   "id": "4d5b4935",
   "metadata": {},
   "outputs": [],
   "source": [
    "query = \"\"\"\n",
    "SELECT *\n",
    "FROM `ironhacks-data.ironhacks_competition.prediction_list`\n",
    "\"\"\""
   ]
  },
  {
   "cell_type": "code",
   "execution_count": null,
   "id": "31a3eeda",
   "metadata": {},
   "outputs": [],
   "source": [
    "query_job = bigquery_client.query(query)\n",
    "prediction_data = query_job.to_dataframe()\n",
    "prediction_data.head(3)"
   ]
  },
  {
   "cell_type": "code",
   "execution_count": null,
   "id": "7270796a",
   "metadata": {},
   "outputs": [],
   "source": [
    "query = \"\"\"\n",
    "SELECT * FROM `ironhacks-data.ironhacks_competition.INFORMATION_SCHEMA.TABLES`\n",
    "\"\"\""
   ]
  },
  {
   "cell_type": "code",
   "execution_count": null,
   "id": "f3be2edd",
   "metadata": {},
   "outputs": [],
   "source": [
    "query_job = bigquery_client.query(query)\n",
    "information_data = query_job.to_dataframe()\n",
    "information_data.head(3)"
   ]
  },
  {
   "cell_type": "code",
   "execution_count": null,
   "id": "7fc4566c",
   "metadata": {},
   "outputs": [],
   "source": [
    "print(f\"size of unemployment_data: {len(unemployment_data)}\")\n",
    "print(f\"size of wage_data: {len(wage_data)}\")\n",
    "print(f\"size of prediction_data: {len(prediction_data)}\")"
   ]
  },
  {
   "cell_type": "code",
   "execution_count": null,
   "id": "a652babb",
   "metadata": {},
   "outputs": [],
   "source": [
    "unemployment_data.dtypes"
   ]
  },
  {
   "cell_type": "code",
   "execution_count": null,
   "id": "c534fbf9",
   "metadata": {},
   "outputs": [],
   "source": [
    "plt.figure(figsize=(12,10))\n",
    "cor = unemployment_data.corr()\n",
    "sns.heatmap(cor, annot=True, cmap=plt.cm.Reds)\n",
    "plt.show()"
   ]
  },
  {
   "cell_type": "code",
   "execution_count": null,
   "id": "f615a53a",
   "metadata": {},
   "outputs": [],
   "source": [
    "#Correlation with output variable\n",
    "cor_target = abs(cor[\"total_claims\"])\n",
    "#Selecting highly correlated features\n",
    "relevant_features = cor_target[cor_target>0.5]\n",
    "print(relevant_features)"
   ]
  },
  {
   "cell_type": "code",
   "execution_count": null,
   "id": "fcd8d9d0",
   "metadata": {},
   "outputs": [],
   "source": [
    "unemployment_data = unemployment_data.set_index('timeperiod')"
   ]
  },
  {
   "cell_type": "code",
   "execution_count": null,
   "id": "089f57d3",
   "metadata": {},
   "outputs": [],
   "source": [
    "X = unemployment_data.drop([\"uu_id\", \"weak_number\"], axis=1)\n",
    "X_cor = unemployment_data[[\"edu_hs_grad_equiv\", \"edu_post_hs\",\n",
    "                           \"gender_female\", \"gender_male\",\n",
    "                           \"race_black\", \"race_white\"]]\n",
    "y = unemployment_data[\"total_claims\"]"
   ]
  },
  {
   "cell_type": "code",
   "execution_count": null,
   "id": "2bb23375",
   "metadata": {},
   "outputs": [],
   "source": [
    "X = unemployment_data.drop([\"uu_id\", \"week_number\"], axis=1)\n",
    "X_cor = unemployment_data[[\"edu_hs_grad_equiv\", \"edu_post_hs\",\n",
    "                           \"gender_female\", \"gender_male\",\n",
    "                           \"race_black\", \"race_white\"]]\n",
    "y = unemployment_data[\"total_claims\"]"
   ]
  },
  {
   "cell_type": "code",
   "execution_count": null,
   "id": "6d630758",
   "metadata": {},
   "outputs": [],
   "source": [
    "from sklearn.linear_model import LinearRegression\n",
    "model = LinearRegression()\n",
    "model.fit(X,y)"
   ]
  },
  {
   "cell_type": "code",
   "execution_count": null,
   "id": "a1341ea2",
   "metadata": {},
   "outputs": [],
   "source": [
    "from sklearn.linear_model import LinearRegression\n",
    "model = LinearRegression()\n",
    "model.fit(X_cor,y)"
   ]
  },
  {
   "cell_type": "code",
   "execution_count": null,
   "id": "3e4f60da",
   "metadata": {},
   "outputs": [],
   "source": [
    "from sklearn.impute import SimpleImputer\n",
    "imp = SimpleImputer(missing_values=np.nan, strategy='mean')\n",
    "imp.fit_transform(X_cor, y)"
   ]
  },
  {
   "cell_type": "code",
   "execution_count": null,
   "id": "f703466e",
   "metadata": {},
   "outputs": [],
   "source": [
    "from sklearn.linear_model import LinearRegression\n",
    "model = LinearRegression()\n",
    "model.fit(X_cor,y)"
   ]
  },
  {
   "cell_type": "code",
   "execution_count": null,
   "id": "535f289b",
   "metadata": {},
   "outputs": [],
   "source": [
    "from sklearn.impute import SimpleImputer\n",
    "imp = SimpleImputer(missing_values=np.nan, strategy='mean')\n",
    "imp.fit_transform(X_cor)"
   ]
  },
  {
   "cell_type": "code",
   "execution_count": null,
   "id": "92216a66",
   "metadata": {},
   "outputs": [],
   "source": [
    "from sklearn.impute import SimpleImputer\n",
    "imp = SimpleImputer(missing_values=np.nan, strategy='mean')\n",
    "X_cor = imp.fit_transform(X_cor)"
   ]
  },
  {
   "cell_type": "code",
   "execution_count": null,
   "id": "a7123d55",
   "metadata": {},
   "outputs": [],
   "source": [
    "from sklearn.linear_model import LinearRegression\n",
    "model = LinearRegression()\n",
    "model.fit(X_cor,y)"
   ]
  },
  {
   "cell_type": "code",
   "execution_count": null,
   "id": "a56f4b2d",
   "metadata": {},
   "outputs": [],
   "source": [
    "y_pred = pd.Series(model.predict(X), index=X.index)"
   ]
  },
  {
   "cell_type": "code",
   "execution_count": null,
   "id": "435c3e49",
   "metadata": {},
   "outputs": [],
   "source": [
    "y_pred = pd.Series(model.predict(X_xor), index=X_cor.index)"
   ]
  },
  {
   "cell_type": "code",
   "execution_count": null,
   "id": "b34c156d",
   "metadata": {},
   "outputs": [],
   "source": [
    "y_pred = pd.Series(model.predict(X_cor), index=X_cor.index)"
   ]
  },
  {
   "cell_type": "code",
   "execution_count": null,
   "id": "03d7509d",
   "metadata": {},
   "outputs": [],
   "source": [
    "y_pred = pd.Series(model.predict(X_cor))"
   ]
  },
  {
   "cell_type": "code",
   "execution_count": null,
   "id": "5ea698c8",
   "metadata": {},
   "outputs": [],
   "source": [
    "# y_pred = pd.Series(model.predict(X_cor), index=X_cor.index)\n",
    "y_pred = pd.Series(model.predict(X_cor))"
   ]
  },
  {
   "cell_type": "code",
   "execution_count": null,
   "id": "e38335bb",
   "metadata": {},
   "outputs": [],
   "source": [
    "ax = y.plot(alpha=0.5)\n",
    "ax = y_pred.plot(ax=ax, linewidth=3)"
   ]
  },
  {
   "cell_type": "code",
   "execution_count": null,
   "id": "5aea558b",
   "metadata": {},
   "outputs": [],
   "source": [
    "y_pred = pd.Series(model.predict(X_cor), index=X.index)\n",
    "# y_pred = pd.Series(model.predict(X_cor))"
   ]
  },
  {
   "cell_type": "code",
   "execution_count": null,
   "id": "0dcb833e",
   "metadata": {},
   "outputs": [],
   "source": [
    "ax = y.plot(alpha=0.5)\n",
    "ax = y_pred.plot(ax=ax, linewidth=3)"
   ]
  },
  {
   "cell_type": "code",
   "execution_count": null,
   "id": "9c5c6ed4",
   "metadata": {},
   "outputs": [],
   "source": [
    "X = unemployment_data.drop([\"uu_id\", \"week_number\"], axis=1)\n",
    "X_cor = unemployment_data[[\"uu_id\", \"week_number\"\n",
    "                           \"edu_hs_grad_equiv\", \"edu_post_hs\",\n",
    "                           \"gender_female\", \"gender_male\",\n",
    "                           \"race_black\", \"race_white\"]]\n",
    "y = unemployment_data[\"total_claims\"]"
   ]
  },
  {
   "cell_type": "code",
   "execution_count": null,
   "id": "78b0dd0f",
   "metadata": {},
   "outputs": [],
   "source": [
    "y_pred = pd.Series(model.predict(X_cor), index=X.index)"
   ]
  },
  {
   "cell_type": "code",
   "execution_count": null,
   "id": "366f1f70",
   "metadata": {},
   "outputs": [],
   "source": [
    "from sklearn.preprocessing import OneHotEncoder\n",
    "enc = OneHotEncoder()\n",
    "X = enc.fit_transform(data[\"uu_id\", \"tract_name\",\n",
    "                           \"top_category_employer1\",\n",
    "                           \"top_category_employer2\",\n",
    "                           \"top_category_employer3\"])"
   ]
  },
  {
   "cell_type": "code",
   "execution_count": null,
   "id": "0226c1ce",
   "metadata": {},
   "outputs": [],
   "source": [
    "from sklearn.preprocessing import OneHotEncoder\n",
    "enc = OneHotEncoder()\n",
    "X = enc.fit_transform(unemployment_data[\"uu_id\", \"tract_name\",\n",
    "                           \"top_category_employer1\",\n",
    "                           \"top_category_employer2\",\n",
    "                           \"top_category_employer3\"])"
   ]
  },
  {
   "cell_type": "code",
   "execution_count": null,
   "id": "701db7f2",
   "metadata": {},
   "outputs": [],
   "source": [
    "from sklearn.preprocessing import OneHotEncoder\n",
    "enc = OneHotEncoder()\n",
    "X = enc.fit_transform(unemployment_data[[\"uu_id\", \"tract_name\",\n",
    "                           \"top_category_employer1\",\n",
    "                           \"top_category_employer2\",\n",
    "                           \"top_category_employer3\"]])"
   ]
  },
  {
   "cell_type": "code",
   "execution_count": null,
   "id": "3c40cb9b",
   "metadata": {},
   "outputs": [],
   "source": [
    "plt.figure(figsize=(12,10))\n",
    "cor = X.corr()\n",
    "sns.heatmap(cor, annot=True, cmap=plt.cm.Reds)\n",
    "plt.show()"
   ]
  },
  {
   "cell_type": "code",
   "execution_count": null,
   "id": "38afc590",
   "metadata": {},
   "outputs": [],
   "source": [
    "plt.figure(figsize=(12,10))\n",
    "cor = pd.dataFrame(X).corr()\n",
    "sns.heatmap(cor, annot=True, cmap=plt.cm.Reds)\n",
    "plt.show()"
   ]
  },
  {
   "cell_type": "code",
   "execution_count": null,
   "id": "dabb2bcb",
   "metadata": {},
   "outputs": [],
   "source": [
    "plt.figure(figsize=(12,10))\n",
    "cor = pd.dataframe(X).corr()\n",
    "sns.heatmap(cor, annot=True, cmap=plt.cm.Reds)\n",
    "plt.show()"
   ]
  },
  {
   "cell_type": "code",
   "execution_count": null,
   "id": "653b7fea",
   "metadata": {},
   "outputs": [],
   "source": [
    "plt.figure(figsize=(12,10))\n",
    "cor = pd.DataFrame(X).corr()\n",
    "sns.heatmap(cor, annot=True, cmap=plt.cm.Reds)\n",
    "plt.show()"
   ]
  },
  {
   "cell_type": "code",
   "execution_count": null,
   "id": "e0ed9918",
   "metadata": {},
   "outputs": [],
   "source": [
    "X = pd.get_dummies(df, prefix=['col1', 'col2'])"
   ]
  },
  {
   "cell_type": "code",
   "execution_count": null,
   "id": "e8e7c648",
   "metadata": {},
   "outputs": [],
   "source": [
    "X = pd.get_dummies(unemployment_data, prefix=['col1', 'col2'])"
   ]
  },
  {
   "cell_type": "code",
   "execution_count": null,
   "id": "9aee74ff",
   "metadata": {},
   "outputs": [],
   "source": [
    "X = pd.get_dummies(unemployment_data)"
   ]
  },
  {
   "cell_type": "code",
   "execution_count": null,
   "id": "00086995",
   "metadata": {
    "lines_to_next_cell": 2
   },
   "outputs": [],
   "source": [
    "plt.figure(figsize=(12,10))\n",
    "cor = X.corr()\n",
    "sns.heatmap(cor, annot=True, cmap=plt.cm.Reds)\n",
    "plt.show()"
   ]
  }
 ],
 "metadata": {
  "jupytext": {
   "cell_metadata_filter": "-all",
   "main_language": "python",
   "notebook_metadata_filter": "-all"
  }
 },
 "nbformat": 4,
 "nbformat_minor": 5
}
