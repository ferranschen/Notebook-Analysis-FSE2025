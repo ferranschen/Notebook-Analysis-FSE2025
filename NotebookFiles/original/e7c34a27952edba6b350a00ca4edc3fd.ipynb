{
 "cells": [
  {
   "cell_type": "code",
   "execution_count": null,
   "id": "7cb9afb6",
   "metadata": {},
   "outputs": [],
   "source": [
    "get_ipython().run_cell_magic('capture', '', \"%logstop\\n%logstart -t -r -q ipython_command_log.py global\\n\\n#- IRONHACKS RESEARCH TRACKING CODE\\n#----------------------------------\\n# The following code is used to help our research team understand how you \\n# our notebook environment. We do not collect any personal information with\\n# the following code, it is used to measure when and how often you work on\\n# your submission files.\\n\\nimport os\\nfrom datetime import datetime\\nimport IPython.core.history as history\\n\\nha = history.HistoryAccessor()\\nha_tail = ha.get_tail(1)\\nha_cmd = next(ha_tail)\\nsession_id = str(ha_cmd[0])\\ncommand_id = str(ha_cmd[1])\\ntimestamp = datetime.utcnow().isoformat()\\nhistory_line = ','.join([session_id, command_id, timestamp]) + '\\\\n'\\nlogfile = open(os.environ['HOME']+'/ipython_session_log.csv', 'a')\\nlogfile.write(history_line)\\nlogfile.close()\\n\")"
   ]
  },
  {
   "cell_type": "code",
   "execution_count": null,
   "id": "efd29ca6",
   "metadata": {},
   "outputs": [],
   "source": [
    "get_ipython().run_cell_magic('capture', '', \"\\n#- INSTALL ADDITIONAL LIBRARIES IF REQUIRED\\n#------------------------------------------\\n# This is normally not required. The hub environment comes preinstaled with \\n# many packages that you can already use without setup. In case there is some\\n# other library you would like to use that isn't on the list you run this command\\n# once to install them.  If it is already installed this command has no effect.\\n\\n!python3 -m pip install pandas\\n\")"
   ]
  },
  {
   "cell_type": "markdown",
   "id": "c4b473e2",
   "metadata": {},
   "source": [
    "- IMPORT THE LIBRARIES YOU WILL USE\n",
    "------------------------------------------\n",
    "You only need to import packages one time per notebook session. To keep your\n",
    "notebook clean and organized you can handle all imports at the top of your file.\n",
    "The following are included for example purposed, feel free to modify or delete \n",
    "anything in this section."
   ]
  },
  {
   "cell_type": "code",
   "execution_count": null,
   "id": "3d5b5f3f",
   "metadata": {
    "lines_to_next_cell": 1
   },
   "outputs": [],
   "source": [
    "import csv\n",
    "import pandas as pd\n",
    "import numpy as np\n",
    "from google.cloud import bigquery\n",
    "from google.oauth2 import service_account\n",
    "from google.cloud.bigquery import magics"
   ]
  },
  {
   "cell_type": "markdown",
   "id": "1728fd5c",
   "metadata": {},
   "source": [
    "- DEFINE YOUR CLASSES AND FUNCTIONS \n",
    "-----------------------------------\n",
    "This is not required, but is helpful in keeping your notebook organized. \n",
    "You can use the following cell or several cells to define your functions\n",
    "and classes to keep them separate from your analysis or results code.\n",
    "In general it useful to define your methods in a separate cell from where\n",
    "it is run."
   ]
  },
  {
   "cell_type": "code",
   "execution_count": null,
   "id": "611461fb",
   "metadata": {
    "lines_to_next_cell": 1
   },
   "outputs": [],
   "source": [
    "def example_function():\n",
    "    print('Hello World')"
   ]
  },
  {
   "cell_type": "code",
   "execution_count": null,
   "id": "c409a593",
   "metadata": {},
   "outputs": [],
   "source": [
    "example_function()"
   ]
  },
  {
   "cell_type": "code",
   "execution_count": null,
   "id": "87c4be72",
   "metadata": {},
   "outputs": [],
   "source": [
    "query = \"\"\"\n",
    "SELECT *\n",
    "FROM `ironhacks-data.ironhacks_training.covid19_cases`\n",
    "\"\"\""
   ]
  },
  {
   "cell_type": "code",
   "execution_count": null,
   "id": "04a238b6",
   "metadata": {},
   "outputs": [],
   "source": [
    "# QUERY THE DATA ONCE\n",
    "query_job = bigquery_client.query(query)\n",
    "covid19_cases_data = query_job.to_dataframe()\n",
    "#rn that error is expected, they r still tryna fix it"
   ]
  },
  {
   "cell_type": "markdown",
   "id": "828477fa",
   "metadata": {},
   "source": [
    "- IMPORT THE LIBRARIES YOU WILL USE\n",
    "------------------------------------------\n",
    "You only need to import packages one time per notebook session. To keep your\n",
    "notebook clean and organized you can handle all imports at the top of your file.\n",
    "The following are included for example purposed, feel free to modify or delete \n",
    "anything in this section."
   ]
  },
  {
   "cell_type": "code",
   "execution_count": null,
   "id": "7aa908f0",
   "metadata": {},
   "outputs": [],
   "source": [
    "import csv\n",
    "import pandas as pd\n",
    "import numpy as np\n",
    "from google.cloud import bigquery\n",
    "from google.oauth2 import service_account\n",
    "from google.cloud.bigquery import magics"
   ]
  },
  {
   "cell_type": "markdown",
   "id": "37b322ab",
   "metadata": {},
   "source": [
    "CONFIGURE THE BIGQUERY SETTINGS"
   ]
  },
  {
   "cell_type": "code",
   "execution_count": null,
   "id": "51c421df",
   "metadata": {},
   "outputs": [],
   "source": [
    "BIGQUERY_PROJECT = 'ironhacks-data'\n",
    "bigquery_client = bigquery.Client(project=BIGQUERY_PROJECT)"
   ]
  },
  {
   "cell_type": "code",
   "execution_count": null,
   "id": "fe1e9977",
   "metadata": {},
   "outputs": [],
   "source": [
    "query = \"\"\"\n",
    "SELECT *\n",
    "FROM `ironhacks-data.ironhacks_training.covid19_cases`\n",
    "\"\"\""
   ]
  },
  {
   "cell_type": "code",
   "execution_count": null,
   "id": "6fbd2f4f",
   "metadata": {},
   "outputs": [],
   "source": [
    "# QUERY THE DATA ONCE\n",
    "query_job = bigquery_client.query(query)\n",
    "covid19_cases_data = query_job.to_dataframe()\n",
    "#rn that error is expected, they r still tryna fix it"
   ]
  },
  {
   "cell_type": "code",
   "execution_count": null,
   "id": "d944ff3d",
   "metadata": {},
   "outputs": [],
   "source": [
    "# THEN WORK BELOW TO DO SOMETHING THE RESULTS\n",
    "print(\"Columns:\")\n",
    "print('\\n'.join(covid19_cases_data.columns))\n",
    "print(\"\\nResults:\")\n",
    "print(covid19_cases_data.head())"
   ]
  },
  {
   "cell_type": "code",
   "execution_count": null,
   "id": "8ae9d5be",
   "metadata": {},
   "outputs": [],
   "source": [
    "query = \"\"\"\n",
    "SELECT *\n",
    "FROM `ironhacks-data.ironhacks_competition.unemployment_data` \n",
    "`\n",
    "\"\"\""
   ]
  },
  {
   "cell_type": "code",
   "execution_count": null,
   "id": "d9e1a528",
   "metadata": {},
   "outputs": [],
   "source": [
    "# QUERY THE DATA ONCE\n",
    "query_job = bigquery_client.query(query)\n",
    "covid19_cases_data = query_job.to_dataframe()\n",
    "#rn that error is expected, they r still tryna fix it"
   ]
  },
  {
   "cell_type": "code",
   "execution_count": null,
   "id": "18902db8",
   "metadata": {},
   "outputs": [],
   "source": [
    "query = \"\"\"\n",
    "SELECT *\n",
    "FROM `ironhacks-data.ironhacks_competition.unemployment_data` \n",
    "\"\"\""
   ]
  },
  {
   "cell_type": "code",
   "execution_count": null,
   "id": "e89e2d99",
   "metadata": {},
   "outputs": [],
   "source": [
    "# QUERY THE DATA ONCE\n",
    "query_job = bigquery_client.query(query)\n",
    "covid19_cases_data = query_job.to_dataframe()\n",
    "#rn that error is expected, they r still tryna fix it"
   ]
  },
  {
   "cell_type": "code",
   "execution_count": null,
   "id": "6345ce59",
   "metadata": {},
   "outputs": [],
   "source": [
    "query = \"\"\"\n",
    "SELECT *\n",
    "FROM `ironhacks-data.ironhacks_competition.wage_data` \n",
    "\"\"\""
   ]
  },
  {
   "cell_type": "code",
   "execution_count": null,
   "id": "dfe9e98d",
   "metadata": {},
   "outputs": [],
   "source": [
    "# QUERY THE DATA ONCE\n",
    "query_job = bigquery_client.query(query)\n",
    "wage_data = query_job.to_dataframe()\n",
    "wage_data.head(5)"
   ]
  },
  {
   "cell_type": "code",
   "execution_count": null,
   "id": "983aed88",
   "metadata": {},
   "outputs": [],
   "source": [
    "query = \"\"\"\n",
    "SELECT *\n",
    "FROM `ironhacks-data.ironhacks_competition.unemployment_data` \n",
    "\"\"\""
   ]
  },
  {
   "cell_type": "code",
   "execution_count": null,
   "id": "1dd1c7bf",
   "metadata": {},
   "outputs": [],
   "source": [
    "# QUERY THE DATA ONCE\n",
    "query_job = bigquery_client.query(query)\n",
    "unemployment_data = query_job.to_dataframe()\n",
    "unemployment_data.head(5)"
   ]
  },
  {
   "cell_type": "code",
   "execution_count": null,
   "id": "15506e13",
   "metadata": {},
   "outputs": [],
   "source": [
    "query = \"\"\"\n",
    "SELECT *\n",
    "FROM `ironhacks-data.ironhacks_competition.unemployment_data` \n",
    "\"\"\""
   ]
  },
  {
   "cell_type": "code",
   "execution_count": null,
   "id": "7a81925c",
   "metadata": {},
   "outputs": [],
   "source": [
    "# QUERY THE DATA ONCE\n",
    "query_job = bigquery_client.query(query)\n",
    "unemployment_data = query_job.to_dataframe()\n",
    "#unemployment_data.head(5)\n",
    "unemployment_data.columns()"
   ]
  },
  {
   "cell_type": "code",
   "execution_count": null,
   "id": "25f0ce82",
   "metadata": {},
   "outputs": [],
   "source": [
    "query = \"\"\"\n",
    "SELECT *\n",
    "FROM `ironhacks-data.ironhacks_competition.unemployment_data` \n",
    "\"\"\""
   ]
  },
  {
   "cell_type": "code",
   "execution_count": null,
   "id": "057f9a63",
   "metadata": {},
   "outputs": [],
   "source": [
    "# QUERY THE DATA ONCE\n",
    "query_job = bigquery_client.query(query)\n",
    "unemployment_data = query_job.to_dataframe()\n",
    "#unemployment_data.head(5)\n",
    "unemployment_data.columns"
   ]
  },
  {
   "cell_type": "code",
   "execution_count": null,
   "id": "64223eaa",
   "metadata": {},
   "outputs": [],
   "source": [
    "query = \"\"\"\n",
    "SELECT *\n",
    "FROM `ironhacks-data.ironhacks_competition.unemployment_data` \n",
    "\"\"\""
   ]
  },
  {
   "cell_type": "code",
   "execution_count": null,
   "id": "40f41346",
   "metadata": {},
   "outputs": [],
   "source": [
    "# QUERY THE DATA ONCE\n",
    "query_job = bigquery_client.query(query)\n",
    "unemployment_data = query_job.to_dataframe()\n",
    "#unemployment_data.head(5)\n",
    "print(unemployment_data.columns)"
   ]
  },
  {
   "cell_type": "code",
   "execution_count": null,
   "id": "93825b62",
   "metadata": {},
   "outputs": [],
   "source": [
    "query = \"\"\"\n",
    "SELECT *\n",
    "FROM `ironhacks-data.ironhacks_competition.wage_data` \n",
    "\"\"\""
   ]
  },
  {
   "cell_type": "code",
   "execution_count": null,
   "id": "a795247d",
   "metadata": {},
   "outputs": [],
   "source": [
    "# QUERY THE DATA ONCE\n",
    "query_job = bigquery_client.query(query)\n",
    "wage_data = query_job.to_dataframe()\n",
    "#wage_data.head(5)\n",
    "print(wage_data.columns)"
   ]
  },
  {
   "cell_type": "code",
   "execution_count": null,
   "id": "783f466c",
   "metadata": {},
   "outputs": [],
   "source": [
    "query = \"\"\"\n",
    "SELECT *\n",
    "FROM `ironhacks-data.ironhacks_competition.prediction_list`\n",
    "\"\"\""
   ]
  },
  {
   "cell_type": "code",
   "execution_count": null,
   "id": "e8ca88f3",
   "metadata": {},
   "outputs": [],
   "source": [
    "# QUERY THE DATA ONCE\n",
    "query_job = bigquery_client.query(query)\n",
    "prediction_data = query_job.to_dataframe()\n",
    "#wage_data.head(5)\n",
    "print(prediction_data.columns)"
   ]
  },
  {
   "cell_type": "code",
   "execution_count": null,
   "id": "717a857d",
   "metadata": {},
   "outputs": [],
   "source": [
    "query = \"\"\"\n",
    "SELECT *\n",
    "FROM `ironhacks-data.ironhacks_competition.prediction_list`\n",
    "\"\"\""
   ]
  },
  {
   "cell_type": "code",
   "execution_count": null,
   "id": "b66473ac",
   "metadata": {},
   "outputs": [],
   "source": [
    "# QUERY THE DATA ONCE\n",
    "query_job = bigquery_client.query(query)\n",
    "prediction_data = query_job.to_dataframe()\n",
    "print(prediction_data.columns)"
   ]
  },
  {
   "cell_type": "code",
   "execution_count": null,
   "id": "7b71ae32",
   "metadata": {},
   "outputs": [],
   "source": [
    "prediction_data.head(5)"
   ]
  },
  {
   "cell_type": "code",
   "execution_count": null,
   "id": "2a8e9c32",
   "metadata": {},
   "outputs": [],
   "source": [
    "query = \"\"\"\n",
    "SELECT * \n",
    "FROM `ironhacks-data.ironhacks_competition.INFORMATION_SCHEMA.TABLES`\n",
    "\"\"\""
   ]
  },
  {
   "cell_type": "code",
   "execution_count": null,
   "id": "c0025a51",
   "metadata": {},
   "outputs": [],
   "source": [
    "# QUERY THE DATA ONCE\n",
    "query_job = bigquery_client.query(query)\n",
    "table_data = query_job.to_dataframe()\n",
    "print(table_data.columns)"
   ]
  },
  {
   "cell_type": "code",
   "execution_count": null,
   "id": "b4783199",
   "metadata": {},
   "outputs": [],
   "source": [
    "table_data.head(5)"
   ]
  },
  {
   "cell_type": "code",
   "execution_count": null,
   "id": "688680bf",
   "metadata": {},
   "outputs": [],
   "source": [
    "pip install google-cloud-bigquery\n",
    "get_ipython().system('pip install google-cloud-bigquery[pandas]')"
   ]
  },
  {
   "cell_type": "code",
   "execution_count": null,
   "id": "36efeef4",
   "metadata": {},
   "outputs": [],
   "source": [
    "get_ipython().system('pip install google-cloud-bigquery')\n",
    "get_ipython().system('pip install google-cloud-bigquery[pandas]')"
   ]
  },
  {
   "cell_type": "markdown",
   "id": "6eec1618",
   "metadata": {},
   "source": [
    "- IMPORT THE LIBRARIES YOU WILL USE\n",
    "------------------------------------------\n",
    "You only need to import packages one time per notebook session. To keep your\n",
    "notebook clean and organized you can handle all imports at the top of your file.\n",
    "The following are included for example purposed, feel free to modify or delete \n",
    "anything in this section."
   ]
  },
  {
   "cell_type": "code",
   "execution_count": null,
   "id": "b82169e1",
   "metadata": {},
   "outputs": [],
   "source": [
    "import csv\n",
    "import pandas as pd\n",
    "import numpy as np\n",
    "import matplotlib\n",
    "import matplotlib.pyplot as plt\n",
    "import seaborn as sns\n",
    "get_ipython().run_line_magic('matplotlib', 'inline')"
   ]
  },
  {
   "cell_type": "code",
   "execution_count": null,
   "id": "ea1b2573",
   "metadata": {},
   "outputs": [],
   "source": [
    "from google.cloud import bigquery\n",
    "from google.oauth2 import service_account\n",
    "from google.cloud.bigquery import magics"
   ]
  },
  {
   "cell_type": "code",
   "execution_count": null,
   "id": "177afb14",
   "metadata": {},
   "outputs": [],
   "source": [
    "query = \"\"\"\n",
    "SELECT *\n",
    "FROM `ironhacks-data.ironhacks_competition.unemployment_data` \n",
    "\"\"\""
   ]
  },
  {
   "cell_type": "code",
   "execution_count": null,
   "id": "cfab064e",
   "metadata": {},
   "outputs": [],
   "source": [
    "# QUERY THE DATA ONCE\n",
    "query_job = bigquery_client.query(query)\n",
    "unemployment_data = query_job.to_dataframe()\n",
    "#unemployment_data.head(5)\n",
    "print(unemployment_data.columns)\n",
    "dtype(unemployment_data)"
   ]
  },
  {
   "cell_type": "code",
   "execution_count": null,
   "id": "1d4d2fc6",
   "metadata": {},
   "outputs": [],
   "source": [
    "query = \"\"\"\n",
    "SELECT *\n",
    "FROM `ironhacks-data.ironhacks_competition.unemployment_data` \n",
    "\"\"\""
   ]
  },
  {
   "cell_type": "code",
   "execution_count": null,
   "id": "442c3d71",
   "metadata": {},
   "outputs": [],
   "source": [
    "# QUERY THE DATA ONCE\n",
    "query_job = bigquery_client.query(query)\n",
    "unemployment_data = query_job.to_dataframe()\n",
    "#unemployment_data.head(5)\n",
    "print(unemployment_data.columns)\n",
    "unemployment_data.dtypes"
   ]
  },
  {
   "cell_type": "code",
   "execution_count": null,
   "id": "576be049",
   "metadata": {},
   "outputs": [],
   "source": [
    "query = \"\"\"\n",
    "SELECT *\n",
    "FROM `ironhacks-data.ironhacks_competition.unemployment_data` \n",
    "\"\"\""
   ]
  },
  {
   "cell_type": "code",
   "execution_count": null,
   "id": "6df0f872",
   "metadata": {},
   "outputs": [],
   "source": [
    "# QUERY THE DATA ONCE\n",
    "query_job = bigquery_client.query(query)\n",
    "unemployment_data = query_job.to_dataframe()\n",
    "#unemployment_data.head(5)\n",
    "print(unemployment_data.columns)"
   ]
  },
  {
   "cell_type": "markdown",
   "id": "72ece3db",
   "metadata": {},
   "source": [
    "Here, I want to combine the education levels into one dataframe. "
   ]
  },
  {
   "cell_type": "code",
   "execution_count": null,
   "id": "5f5ca2b4",
   "metadata": {},
   "outputs": [],
   "source": [
    "edu_level = unemployment_data[['edu_8th_or_less', 'edu_grades_9_11', 'edu_hs_grad_equiv', 'edu_post_hs', 'edu_unknown']]\n",
    "edu_level.head(5)"
   ]
  },
  {
   "cell_type": "code",
   "execution_count": null,
   "id": "c6a07641",
   "metadata": {},
   "outputs": [],
   "source": [
    "query = \"\"\"\n",
    "SELECT *\n",
    "FROM `ironhacks-data.ironhacks_competition.unemployment_data` \n",
    "\"\"\""
   ]
  },
  {
   "cell_type": "code",
   "execution_count": null,
   "id": "7a7036af",
   "metadata": {},
   "outputs": [],
   "source": [
    "# QUERY THE DATA ONCE\n",
    "query_job = bigquery_client.query(query)\n",
    "unemployment_data = query_job.to_dataframe()\n",
    "unemployment_data.head(5)\n",
    "print(unemployment_data.columns)"
   ]
  },
  {
   "cell_type": "code",
   "execution_count": null,
   "id": "d0847384",
   "metadata": {},
   "outputs": [],
   "source": [
    "query = \"\"\"\n",
    "SELECT *\n",
    "FROM `ironhacks-data.ironhacks_competition.unemployment_data` \n",
    "\"\"\""
   ]
  },
  {
   "cell_type": "code",
   "execution_count": null,
   "id": "bd5110cf",
   "metadata": {},
   "outputs": [],
   "source": [
    "# QUERY THE DATA ONCE\n",
    "query_job = bigquery_client.query(query)\n",
    "unemployment_data = query_job.to_dataframe()\n",
    "unemployment_data.head(5)\n",
    "#print(unemployment_data.columns)"
   ]
  },
  {
   "cell_type": "code",
   "execution_count": null,
   "id": "cd2ef7c3",
   "metadata": {},
   "outputs": [],
   "source": [
    "query = \"\"\"\n",
    "SELECT *\n",
    "FROM `ironhacks-data.ironhacks_competition.unemployment_data` \n",
    "\"\"\""
   ]
  },
  {
   "cell_type": "code",
   "execution_count": null,
   "id": "4d9b887c",
   "metadata": {},
   "outputs": [],
   "source": [
    "# QUERY THE DATA ONCE\n",
    "query_job = bigquery_client.query(query)\n",
    "unemployment_data = query_job.to_dataframe()\n",
    "#unemployment_data.head(5)\n",
    "#print(unemployment_data.columns)"
   ]
  },
  {
   "cell_type": "code",
   "execution_count": null,
   "id": "f2185585",
   "metadata": {},
   "outputs": [],
   "source": [
    "query = \"\"\"\n",
    "SELECT *\n",
    "FROM `ironhacks-data.ironhacks_competition.unemployment_data` \n",
    "\"\"\""
   ]
  },
  {
   "cell_type": "code",
   "execution_count": null,
   "id": "558e3375",
   "metadata": {},
   "outputs": [],
   "source": [
    "# QUERY THE DATA ONCE\n",
    "query_job = bigquery_client.query(query)\n",
    "unemployment_data = query_job.to_dataframe()\n",
    "#unemployment_data.head(5)\n",
    "#print(unemployment_data.columns)"
   ]
  },
  {
   "cell_type": "code",
   "execution_count": null,
   "id": "3225175d",
   "metadata": {},
   "outputs": [],
   "source": [
    "query = \"\"\"\n",
    "SELECT *\n",
    "FROM `ironhacks-data.ironhacks_competition.unemployment_data` \n",
    "\"\"\""
   ]
  },
  {
   "cell_type": "code",
   "execution_count": null,
   "id": "42b87236",
   "metadata": {},
   "outputs": [],
   "source": [
    "# QUERY THE DATA ONCE\n",
    "query_job = bigquery_client.query(query)\n",
    "unemployment_data = query_job.to_dataframe()\n",
    "unemployment_data.head(5)\n",
    "#print(unemployment_data.columns)"
   ]
  },
  {
   "cell_type": "markdown",
   "id": "61ad88a3",
   "metadata": {},
   "source": [
    "Here, I want to combine the education levels into one dataframe. "
   ]
  },
  {
   "cell_type": "code",
   "execution_count": null,
   "id": "c7b98748",
   "metadata": {},
   "outputs": [],
   "source": [
    "edu_level = unemployment_data[['uu_id', 'edu_8th_or_less', 'edu_grades_9_11', 'edu_hs_grad_equiv', 'edu_post_hs', 'edu_unknown']]\n",
    "edu_level.head(5)"
   ]
  },
  {
   "cell_type": "code",
   "execution_count": null,
   "id": "4a671a4a",
   "metadata": {},
   "outputs": [],
   "source": [
    "edu_lvl = edu_level.groupby(['uu_id'])['edu_8th_or_less'].count().reset_index(\n",
    "  name='Count').sort_values(['Count'], ascending=True)"
   ]
  },
  {
   "cell_type": "markdown",
   "id": "f9f91046",
   "metadata": {},
   "source": [
    "Here, I want to combine the education levels into one dataframe. "
   ]
  },
  {
   "cell_type": "code",
   "execution_count": null,
   "id": "8ab51985",
   "metadata": {},
   "outputs": [],
   "source": [
    "edu_level = unemployment_data[['uu_id', 'edu_8th_or_less', 'edu_grades_9_11', 'edu_hs_grad_equiv', 'edu_post_hs', 'edu_unknown']]\n",
    "edu_level.head(5)"
   ]
  },
  {
   "cell_type": "code",
   "execution_count": null,
   "id": "a46183b5",
   "metadata": {},
   "outputs": [],
   "source": [
    "edu_lvl = edu_level.groupby(['uu_id'])['edu_8th_or_less'].count().reset_index(\n",
    "  name='Count').sort_values(['Count'], ascending=True)"
   ]
  },
  {
   "cell_type": "markdown",
   "id": "a8f27cad",
   "metadata": {},
   "source": [
    "Here, I want to combine the education levels into one dataframe. "
   ]
  },
  {
   "cell_type": "code",
   "execution_count": null,
   "id": "8fae82a0",
   "metadata": {},
   "outputs": [],
   "source": [
    "edu_level = unemployment_data[['uu_id', 'edu_8th_or_less', 'edu_grades_9_11', 'edu_hs_grad_equiv', 'edu_post_hs', 'edu_unknown']]\n",
    "edu_level.head(5)"
   ]
  },
  {
   "cell_type": "code",
   "execution_count": null,
   "id": "d2042d62",
   "metadata": {},
   "outputs": [],
   "source": [
    "edu_lvl = edu_level.groupby(['uu_id'])['edu_8th_or_less'].count().reset_index(\n",
    "  name='Count').sort_values(['Count'], ascending=True)"
   ]
  },
  {
   "cell_type": "code",
   "execution_count": null,
   "id": "6bc837b6",
   "metadata": {},
   "outputs": [],
   "source": [
    "edu_lvl.head(5)"
   ]
  },
  {
   "cell_type": "markdown",
   "id": "b5d29ff6",
   "metadata": {},
   "source": [
    "Here, I want to combine the education levels into one dataframe. "
   ]
  },
  {
   "cell_type": "code",
   "execution_count": null,
   "id": "8223b793",
   "metadata": {},
   "outputs": [],
   "source": [
    "edu_level = unemployment_data[['uu_id', 'edu_8th_or_less', 'edu_grades_9_11', 'edu_hs_grad_equiv', 'edu_post_hs', 'edu_unknown']]\n",
    "edu_level.head(5)"
   ]
  },
  {
   "cell_type": "code",
   "execution_count": null,
   "id": "486b029a",
   "metadata": {},
   "outputs": [],
   "source": [
    "edu_lvl = edu_level.groupby(['uu_id'])['edu_8th_or_less'].count().reset_index(\n",
    "  name='Count').sort_values(['Count'], ascending=True)"
   ]
  },
  {
   "cell_type": "code",
   "execution_count": null,
   "id": "8d68b0cb",
   "metadata": {},
   "outputs": [],
   "source": [
    "edu_lvl.head(15)"
   ]
  },
  {
   "cell_type": "markdown",
   "id": "b71bdf71",
   "metadata": {},
   "source": [
    "Here, I want to combine the education levels into one dataframe. "
   ]
  },
  {
   "cell_type": "code",
   "execution_count": null,
   "id": "ebb6c5f6",
   "metadata": {},
   "outputs": [],
   "source": [
    "edu_level = unemployment_data[['uu_id', 'total_claims', 'edu_8th_or_less', 'edu_grades_9_11', 'edu_hs_grad_equiv', 'edu_post_hs', 'edu_unknown']]\n",
    "edu_level.head(5)"
   ]
  },
  {
   "cell_type": "code",
   "execution_count": null,
   "id": "b61a02e6",
   "metadata": {},
   "outputs": [],
   "source": [
    "edu_lvl = edu_level.groupby(['uu_id'])['edu_8th_or_less'].count().reset_index(\n",
    "  name='Count').sort_values(['Count'], ascending=True)"
   ]
  },
  {
   "cell_type": "code",
   "execution_count": null,
   "id": "be0c75ea",
   "metadata": {},
   "outputs": [],
   "source": [
    "edu_lvl.head(15)"
   ]
  },
  {
   "cell_type": "markdown",
   "id": "cbcd0029",
   "metadata": {},
   "source": [
    "Here, I want to combine the education levels into one dataframe. "
   ]
  },
  {
   "cell_type": "code",
   "execution_count": null,
   "id": "b0a3c4e4",
   "metadata": {},
   "outputs": [],
   "source": [
    "edu_level = unemployment_data[['uu_id', 'total_claims', 'edu_8th_or_less', 'edu_grades_9_11', 'edu_hs_grad_equiv', 'edu_post_hs', 'edu_unknown']]\n",
    "edu_level.head(5)"
   ]
  },
  {
   "cell_type": "code",
   "execution_count": null,
   "id": "483351ab",
   "metadata": {},
   "outputs": [],
   "source": [
    "edu_lvl = edu_level.groupby(['uu_id'])['total_claims'].count().reset_index(\n",
    "  name='Count').sort_values(['Count'], ascending=True)"
   ]
  },
  {
   "cell_type": "code",
   "execution_count": null,
   "id": "53f9060c",
   "metadata": {},
   "outputs": [],
   "source": [
    "edu_lvl.head(15)"
   ]
  },
  {
   "cell_type": "markdown",
   "id": "8bfd737a",
   "metadata": {},
   "source": [
    "Here, I want to combine the education levels into one dataframe. "
   ]
  },
  {
   "cell_type": "code",
   "execution_count": null,
   "id": "7bf57315",
   "metadata": {},
   "outputs": [],
   "source": [
    "edu_level = unemployment_data[['uu_id', 'total_claims', 'edu_8th_or_less', 'edu_grades_9_11', 'edu_hs_grad_equiv', 'edu_post_hs', 'edu_unknown']]\n",
    "edu_level.head(5)"
   ]
  },
  {
   "cell_type": "code",
   "execution_count": null,
   "id": "2434eedd",
   "metadata": {},
   "outputs": [],
   "source": [
    "edu_lvl = edu_level.groupby(['total_claims'])['edu_8th_or_less'].count().reset_index(\n",
    "  name='Count').sort_values(['Count'], ascending=True)"
   ]
  },
  {
   "cell_type": "code",
   "execution_count": null,
   "id": "ec671d2b",
   "metadata": {},
   "outputs": [],
   "source": [
    "edu_lvl.head(15)"
   ]
  },
  {
   "cell_type": "markdown",
   "id": "0e502765",
   "metadata": {},
   "source": [
    "Here, I want to combine the education levels into one dataframe. "
   ]
  },
  {
   "cell_type": "code",
   "execution_count": null,
   "id": "8a31db2f",
   "metadata": {},
   "outputs": [],
   "source": [
    "edu_level = unemployment_data[['uu_id', 'total_claims', 'edu_8th_or_less', 'edu_grades_9_11', 'edu_hs_grad_equiv', 'edu_post_hs', 'edu_unknown']]\n",
    "edu_level.head(5)"
   ]
  },
  {
   "cell_type": "code",
   "execution_count": null,
   "id": "228ab982",
   "metadata": {},
   "outputs": [],
   "source": [
    "edu_lvl = edu_level.groupby(['total_claims'])['edu_8th_or_less'].count().reset_index(\n",
    "  name='Count').sort_values(['Count'], ascending=True)"
   ]
  },
  {
   "cell_type": "code",
   "execution_count": null,
   "id": "8ceabc46",
   "metadata": {},
   "outputs": [],
   "source": [
    "edu_lvl.head()"
   ]
  },
  {
   "cell_type": "markdown",
   "id": "b24ce979",
   "metadata": {},
   "source": [
    "Here, I want to combine the education levels into one dataframe. "
   ]
  },
  {
   "cell_type": "code",
   "execution_count": null,
   "id": "9cc24a8f",
   "metadata": {},
   "outputs": [],
   "source": [
    "edu_level = unemployment_data[['uu_id', 'total_claims', 'edu_8th_or_less', 'edu_grades_9_11', 'edu_hs_grad_equiv', 'edu_post_hs', 'edu_unknown']]\n",
    "edu_level.head(5)"
   ]
  },
  {
   "cell_type": "code",
   "execution_count": null,
   "id": "e4363b44",
   "metadata": {},
   "outputs": [],
   "source": [
    "edu_lvl = edu_level.groupby(['total_claims'])['edu_8th_or_less'].count().reset_index(\n",
    "  name='Count').sort_values(['Count'], ascending=True)"
   ]
  },
  {
   "cell_type": "code",
   "execution_count": null,
   "id": "4e693dbd",
   "metadata": {},
   "outputs": [],
   "source": [
    "edu_lvl.head()"
   ]
  },
  {
   "cell_type": "markdown",
   "id": "cb8a16ed",
   "metadata": {},
   "source": [
    "Here, I want to combine the education levels into one dataframe. "
   ]
  },
  {
   "cell_type": "code",
   "execution_count": null,
   "id": "1d2a84bb",
   "metadata": {},
   "outputs": [],
   "source": [
    "edu_level = unemployment_data[['uu_id', 'total_claims', 'edu_8th_or_less', 'edu_grades_9_11', 'edu_hs_grad_equiv', 'edu_post_hs', 'edu_unknown']]\n",
    "edu_level.head(5)"
   ]
  },
  {
   "cell_type": "code",
   "execution_count": null,
   "id": "a5b2b474",
   "metadata": {},
   "outputs": [],
   "source": [
    "edu_lvl = edu_level.groupby(['total_claims'])['edu_8th_or_less'].count().reset_index(\n",
    "  name='Count').sort_values(['Count'], ascending=True)"
   ]
  },
  {
   "cell_type": "code",
   "execution_count": null,
   "id": "b37282e9",
   "metadata": {},
   "outputs": [],
   "source": [
    "edu_lvl.max()"
   ]
  },
  {
   "cell_type": "markdown",
   "id": "5bbb71be",
   "metadata": {},
   "source": [
    "Here, I want to combine the education levels into one dataframe. "
   ]
  },
  {
   "cell_type": "code",
   "execution_count": null,
   "id": "a1e06b8c",
   "metadata": {},
   "outputs": [],
   "source": [
    "edu_level = unemployment_data[['uu_id', 'total_claims', 'edu_8th_or_less', 'edu_grades_9_11', 'edu_hs_grad_equiv', 'edu_post_hs', 'edu_unknown']]\n",
    "edu_level.head(5)"
   ]
  },
  {
   "cell_type": "code",
   "execution_count": null,
   "id": "211c03c0",
   "metadata": {},
   "outputs": [],
   "source": [
    "edu_lvl = edu_level.groupby(['total_claims'])['edu_8th_or_less'].count().reset_index(\n",
    "  name='Count').sort_values(['Count'], ascending=True)"
   ]
  },
  {
   "cell_type": "code",
   "execution_count": null,
   "id": "bc88b8dd",
   "metadata": {},
   "outputs": [],
   "source": [
    "edu_lvl.min()"
   ]
  },
  {
   "cell_type": "markdown",
   "id": "250a7421",
   "metadata": {},
   "source": [
    "Here, I want to combine the education levels into one dataframe. "
   ]
  },
  {
   "cell_type": "code",
   "execution_count": null,
   "id": "a0623f7b",
   "metadata": {},
   "outputs": [],
   "source": [
    "edu_level = unemployment_data[['uu_id', 'total_claims', 'edu_8th_or_less', 'edu_grades_9_11', 'edu_hs_grad_equiv', 'edu_post_hs', 'edu_unknown']]\n",
    "edu_level.head(5)"
   ]
  },
  {
   "cell_type": "code",
   "execution_count": null,
   "id": "5813054f",
   "metadata": {},
   "outputs": [],
   "source": [
    "edu_lvl = edu_level.groupby(['total_claims'])['edu_8th_or_less'].count().reset_index(\n",
    "  name='Count').sort_values(['Count'], ascending=True)"
   ]
  },
  {
   "cell_type": "code",
   "execution_count": null,
   "id": "19964b9f",
   "metadata": {},
   "outputs": [],
   "source": [
    "edu_lvl.max()"
   ]
  },
  {
   "cell_type": "markdown",
   "id": "4ecdf379",
   "metadata": {},
   "source": [
    "Here, I want to combine the education levels into one dataframe. "
   ]
  },
  {
   "cell_type": "code",
   "execution_count": null,
   "id": "1da0d130",
   "metadata": {},
   "outputs": [],
   "source": [
    "gender = unemployment_data[['uu_id', 'total_claims', 'gender_female', 'gender_male', 'gender_na']]\n",
    "edu_level.head(5)"
   ]
  },
  {
   "cell_type": "code",
   "execution_count": null,
   "id": "da4e1ac0",
   "metadata": {},
   "outputs": [],
   "source": [
    "edu_lvl = edu_level.groupby(['total_claims'])['edu_8th_or_less'].count().reset_index(\n",
    "  name='Count').sort_values(['Count'], ascending=True)"
   ]
  },
  {
   "cell_type": "code",
   "execution_count": null,
   "id": "e2a1842c",
   "metadata": {},
   "outputs": [],
   "source": [
    "edu_lvl.max()"
   ]
  },
  {
   "cell_type": "markdown",
   "id": "00d66c4f",
   "metadata": {},
   "source": [
    "Here, I want to combine the education levels into one dataframe. "
   ]
  },
  {
   "cell_type": "code",
   "execution_count": null,
   "id": "0dedaa82",
   "metadata": {},
   "outputs": [],
   "source": [
    "gender = unemployment_data[['uu_id', 'total_claims', 'gender_female', 'gender_male', 'gender_na']]\n",
    "edu_level.head(5)"
   ]
  },
  {
   "cell_type": "code",
   "execution_count": null,
   "id": "4fa20bb1",
   "metadata": {},
   "outputs": [],
   "source": [
    "gender = edu_level.groupby(['total_claims'])['edu_8th_or_less'].count().reset_index(\n",
    "  name='Count').sort_values(['Count'], ascending=True)"
   ]
  },
  {
   "cell_type": "code",
   "execution_count": null,
   "id": "5ef13a32",
   "metadata": {},
   "outputs": [],
   "source": [
    "gender.max()"
   ]
  },
  {
   "cell_type": "markdown",
   "id": "05568b68",
   "metadata": {},
   "source": [
    "Here, I want to combine the education levels into one dataframe. "
   ]
  },
  {
   "cell_type": "code",
   "execution_count": null,
   "id": "5f310940",
   "metadata": {},
   "outputs": [],
   "source": [
    "gender = unemployment_data[['uu_id', 'total_claims', 'gender_female', 'gender_male', 'gender_na']]\n",
    "edu_level.head(5)"
   ]
  },
  {
   "cell_type": "code",
   "execution_count": null,
   "id": "676baa33",
   "metadata": {},
   "outputs": [],
   "source": [
    "gender = edu_level.groupby(['total_claims'])['edu_8th_or_less'].count().reset_index(\n",
    "  name='Count').sort_values(['Count'], ascending=True)"
   ]
  },
  {
   "cell_type": "code",
   "execution_count": null,
   "id": "e77529d0",
   "metadata": {},
   "outputs": [],
   "source": [
    "gender.head()"
   ]
  },
  {
   "cell_type": "markdown",
   "id": "a4e505d4",
   "metadata": {},
   "source": [
    "Here, I want to combine the education levels into one dataframe. "
   ]
  },
  {
   "cell_type": "code",
   "execution_count": null,
   "id": "8297658e",
   "metadata": {},
   "outputs": [],
   "source": [
    "gender = unemployment_data[['uu_id', 'total_claims', 'gender_female', 'gender_male', 'gender_na']]\n",
    "edu_level.head(5)"
   ]
  },
  {
   "cell_type": "code",
   "execution_count": null,
   "id": "782e4bb4",
   "metadata": {},
   "outputs": [],
   "source": [
    "gender = edu_level.groupby(['total_claims'])['gender_female'].count().reset_index(\n",
    "  name='Count').sort_values(['Count'], ascending=True)"
   ]
  },
  {
   "cell_type": "code",
   "execution_count": null,
   "id": "9ded4814",
   "metadata": {},
   "outputs": [],
   "source": [
    "gender.head()"
   ]
  },
  {
   "cell_type": "markdown",
   "id": "674b2fe9",
   "metadata": {},
   "source": [
    "Here, I want to combine the education levels into one dataframe. "
   ]
  },
  {
   "cell_type": "code",
   "execution_count": null,
   "id": "0007b2e6",
   "metadata": {},
   "outputs": [],
   "source": [
    "gender = unemployment_data[['uu_id', 'total_claims', 'gender_female', 'gender_male', 'gender_na']]\n",
    "edu_level.head(5)"
   ]
  },
  {
   "cell_type": "code",
   "execution_count": null,
   "id": "406ec7bc",
   "metadata": {},
   "outputs": [],
   "source": [
    "genders = gender.groupby(['total_claims'])['gender_female'].count().reset_index(\n",
    "  name='Count').sort_values(['Count'], ascending=True)"
   ]
  },
  {
   "cell_type": "code",
   "execution_count": null,
   "id": "998e38c7",
   "metadata": {},
   "outputs": [],
   "source": [
    "genders.head()"
   ]
  },
  {
   "cell_type": "markdown",
   "id": "d2c9672e",
   "metadata": {},
   "source": [
    "Here, I want to combine the education levels into one dataframe. "
   ]
  },
  {
   "cell_type": "code",
   "execution_count": null,
   "id": "8a91cb2a",
   "metadata": {},
   "outputs": [],
   "source": [
    "gender = unemployment_data[['uu_id', 'total_claims', 'gender_female', 'gender_male', 'gender_na']]\n",
    "edu_level.head(5)"
   ]
  },
  {
   "cell_type": "code",
   "execution_count": null,
   "id": "ec8c8748",
   "metadata": {},
   "outputs": [],
   "source": [
    "genders = gender.groupby(['total_claims', 'uu_id'])['gender_female'].count().reset_index(\n",
    "  name='Count').sort_values(['Count'], ascending=True)"
   ]
  },
  {
   "cell_type": "code",
   "execution_count": null,
   "id": "f72c3fa9",
   "metadata": {},
   "outputs": [],
   "source": [
    "genders.head()"
   ]
  },
  {
   "cell_type": "markdown",
   "id": "7504c49a",
   "metadata": {},
   "source": [
    "Here, I want to combine the education levels into one dataframe. "
   ]
  },
  {
   "cell_type": "code",
   "execution_count": null,
   "id": "162d0576",
   "metadata": {},
   "outputs": [],
   "source": [
    "gender = unemployment_data[['uu_id', 'total_claims', 'gender_female', 'gender_male', 'gender_na']]\n",
    "edu_level.head(5)"
   ]
  },
  {
   "cell_type": "code",
   "execution_count": null,
   "id": "8a34e8a1",
   "metadata": {},
   "outputs": [],
   "source": [
    "genders = gender.groupby(['total_claims', 'uu_id'])['gender_female', 'gender_male'].count().reset_index(\n",
    "  name='Count').sort_values(['Count'], ascending=True)"
   ]
  },
  {
   "cell_type": "code",
   "execution_count": null,
   "id": "0382818d",
   "metadata": {},
   "outputs": [],
   "source": [
    "genders.head()"
   ]
  },
  {
   "cell_type": "markdown",
   "id": "6a610ecb",
   "metadata": {},
   "source": [
    "Here, I want to combine the education levels into one dataframe. "
   ]
  },
  {
   "cell_type": "code",
   "execution_count": null,
   "id": "dddf71f5",
   "metadata": {},
   "outputs": [],
   "source": [
    "gender = unemployment_data[['uu_id', 'total_claims', 'gender_female', 'gender_male', 'gender_na']]\n",
    "edu_level.head(5)"
   ]
  },
  {
   "cell_type": "code",
   "execution_count": null,
   "id": "a2a4d6e9",
   "metadata": {},
   "outputs": [],
   "source": [
    "genders = gender.groupby(['total_claims', 'uu_id'])['gender_female'].count().reset_index(\n",
    "  name='Count').sort_values(['Count'], ascending=True)"
   ]
  },
  {
   "cell_type": "code",
   "execution_count": null,
   "id": "a3e18b27",
   "metadata": {},
   "outputs": [],
   "source": [
    "genders.head()"
   ]
  },
  {
   "cell_type": "markdown",
   "id": "04b028d6",
   "metadata": {},
   "source": [
    "Here, I want to combine the education levels into one dataframe. "
   ]
  },
  {
   "cell_type": "code",
   "execution_count": null,
   "id": "1d4fd952",
   "metadata": {},
   "outputs": [],
   "source": [
    "gender = unemployment_data[['uu_id', 'total_claims', 'gender_female', 'gender_male', 'gender_na']]\n",
    "edu_level.head(5)"
   ]
  },
  {
   "cell_type": "code",
   "execution_count": null,
   "id": "e48a260f",
   "metadata": {},
   "outputs": [],
   "source": [
    "genders = gender.groupby(['total_claims', 'uu_id'])['gender_female'].count().reset_index(\n",
    "  name='Count').sort_values(['Count'], ascending=True)"
   ]
  },
  {
   "cell_type": "code",
   "execution_count": null,
   "id": "e8d91555",
   "metadata": {},
   "outputs": [],
   "source": [
    "genders.max()"
   ]
  },
  {
   "cell_type": "code",
   "execution_count": null,
   "id": "9ef628d6",
   "metadata": {},
   "outputs": [],
   "source": [
    "df = unemployment_data.dropna()\n",
    "df.head()"
   ]
  },
  {
   "cell_type": "markdown",
   "id": "21844fca",
   "metadata": {},
   "source": [
    "- IMPORT THE LIBRARIES YOU WILL USE\n",
    "------------------------------------------\n",
    "You only need to import packages one time per notebook session. To keep your\n",
    "notebook clean and organized you can handle all imports at the top of your file.\n",
    "The following are included for example purposed, feel free to modify or delete \n",
    "anything in this section."
   ]
  },
  {
   "cell_type": "code",
   "execution_count": null,
   "id": "4822a398",
   "metadata": {},
   "outputs": [],
   "source": [
    "import csv\n",
    "import pandas as pd\n",
    "import numpy as np\n",
    "import matplotlib\n",
    "import matplotlib.pyplot as plt\n",
    "import seaborn as sns\n",
    "get_ipython().run_line_magic('matplotlib', 'inline')\n",
    "from sklearn.model_selection import train_test_split \n",
    "from sklearn.linear_model import LinearRegression\n",
    "from sklearn import metrics"
   ]
  },
  {
   "cell_type": "code",
   "execution_count": null,
   "id": "45692069",
   "metadata": {},
   "outputs": [],
   "source": [
    "from google.cloud import bigquery\n",
    "from google.oauth2 import service_account\n",
    "from google.cloud.bigquery import magics"
   ]
  },
  {
   "cell_type": "markdown",
   "id": "ab4e41b7",
   "metadata": {},
   "source": [
    "Here, I want to combine the gender into one dataframe. "
   ]
  },
  {
   "cell_type": "code",
   "execution_count": null,
   "id": "6065ffff",
   "metadata": {},
   "outputs": [],
   "source": [
    "gender = df[['uu_id', 'total_claims', 'gender_female', 'gender_male', 'gender_na']]"
   ]
  },
  {
   "cell_type": "code",
   "execution_count": null,
   "id": "1f933e6a",
   "metadata": {},
   "outputs": [],
   "source": [
    "query = \"\"\"\n",
    "SELECT *\n",
    "FROM `ironhacks-data.ironhacks_competition.unemployment_data` \n",
    "\"\"\""
   ]
  },
  {
   "cell_type": "code",
   "execution_count": null,
   "id": "97b1e0e4",
   "metadata": {},
   "outputs": [],
   "source": [
    "# QUERY THE DATA ONCE\n",
    "query_job = bigquery_client.query(query)\n",
    "unemployment_data = query_job.to_dataframe()\n",
    "unemployment_data.head(5)\n",
    "print(unemployment_data.columns)"
   ]
  },
  {
   "cell_type": "markdown",
   "id": "87b3ea82",
   "metadata": {},
   "source": [
    "SPLIT training set"
   ]
  },
  {
   "cell_type": "code",
   "execution_count": null,
   "id": "cf4f3c2c",
   "metadata": {},
   "outputs": [],
   "source": [
    "x = df['edu_post_hs'].values.reshape(-1,1)\n",
    "y = df['total_claims'].values.reshape(-1,1)"
   ]
  },
  {
   "cell_type": "markdown",
   "id": "e862b3b5",
   "metadata": {},
   "source": [
    "SPLIT training set"
   ]
  },
  {
   "cell_type": "code",
   "execution_count": null,
   "id": "25589a1b",
   "metadata": {},
   "outputs": [],
   "source": [
    "X = df['edu_post_hs'].values.reshape(-1,1)\n",
    "Y = df['total_claims'].values.reshape(-1,1)"
   ]
  },
  {
   "cell_type": "code",
   "execution_count": null,
   "id": "c1322ba9",
   "metadata": {},
   "outputs": [],
   "source": [
    "X_train, X_test, y_train, y_test = train_test_split(X, y, test_size=0.2, random_state=0)"
   ]
  },
  {
   "cell_type": "code",
   "execution_count": null,
   "id": "1b0610bc",
   "metadata": {},
   "outputs": [],
   "source": [
    "regressor = LinearRegression()  \n",
    "regressor.fit(X_train, y_train)"
   ]
  },
  {
   "cell_type": "code",
   "execution_count": null,
   "id": "42dc5422",
   "metadata": {},
   "outputs": [],
   "source": [
    "#To retrieve the intercept:\n",
    "print(regressor.intercept_)"
   ]
  },
  {
   "cell_type": "code",
   "execution_count": null,
   "id": "18aa0524",
   "metadata": {},
   "outputs": [],
   "source": [
    "#For retrieving the slope:\n",
    "print(regressor.coef_)"
   ]
  },
  {
   "cell_type": "code",
   "execution_count": null,
   "id": "1570453b",
   "metadata": {},
   "outputs": [],
   "source": [
    "y_pred = regressor.predict(X_test)"
   ]
  },
  {
   "cell_type": "code",
   "execution_count": null,
   "id": "6ba683c8",
   "metadata": {},
   "outputs": [],
   "source": [
    "df2 = pd.DataFrame({'Actual': y_test.flatten(), 'Predicted': y_pred.flatten()})\n",
    "df2"
   ]
  },
  {
   "cell_type": "code",
   "execution_count": null,
   "id": "eebf3781",
   "metadata": {},
   "outputs": [],
   "source": [
    "df2 = pd.DataFrame({'Actual': y_test.flatten(), 'Predicted': y_pred.flatten()})\n",
    "df2"
   ]
  },
  {
   "cell_type": "code",
   "execution_count": null,
   "id": "53b699c7",
   "metadata": {},
   "outputs": [],
   "source": [
    "y_pred = regressor.predict(X_test)"
   ]
  },
  {
   "cell_type": "code",
   "execution_count": null,
   "id": "1d997919",
   "metadata": {},
   "outputs": [],
   "source": [
    "df2 = pd.DataFrame({'Actual': y_test.flatten(), 'Predicted': y_pred.flatten()})\n",
    "df2"
   ]
  },
  {
   "cell_type": "code",
   "execution_count": null,
   "id": "3d96085b",
   "metadata": {},
   "outputs": [],
   "source": [
    "df2 = pd.DataFrame({'Actual': y_test, 'Predicted': y_pred.flatten()})\n",
    "df2"
   ]
  },
  {
   "cell_type": "code",
   "execution_count": null,
   "id": "002b97ba",
   "metadata": {},
   "outputs": [],
   "source": [
    "df2 = pd.DataFrame({'Actual': y_test , 'Predicted': y_pred.flatten()})\n",
    "df2"
   ]
  },
  {
   "cell_type": "code",
   "execution_count": null,
   "id": "47f4f994",
   "metadata": {},
   "outputs": [],
   "source": [
    "df1 = df.head(25)\n",
    "df1.plot(kind='bar',figsize=(16,10))\n",
    "plt.grid(which='major', linestyle='-', linewidth='0.5', color='green')\n",
    "plt.grid(which='minor', linestyle=':', linewidth='0.5', color='black')\n",
    "plt.show()"
   ]
  },
  {
   "cell_type": "code",
   "execution_count": null,
   "id": "d6b8ba20",
   "metadata": {},
   "outputs": [],
   "source": [
    "plt.scatter(X_test, y_test,  color='gray')\n",
    "plt.plot(X_test, y_pred, color='red', linewidth=2)\n",
    "plt.show()"
   ]
  },
  {
   "cell_type": "code",
   "execution_count": null,
   "id": "5ce8fee4",
   "metadata": {},
   "outputs": [],
   "source": [
    "print('Mean Absolute Error:', metrics.mean_absolute_error(y_test, y_pred))  \n",
    "print('Mean Squared Error:', metrics.mean_squared_error(y_test, y_pred))  \n",
    "print('Root Mean Squared Error:', np.sqrt(metrics.mean_squared_error(y_test, y_pred)))"
   ]
  },
  {
   "cell_type": "code",
   "execution_count": null,
   "id": "877d3a71",
   "metadata": {},
   "outputs": [],
   "source": [
    "df2 = df.head(25)\n",
    "df1.plot(kind='bar',figsize=(16,10))\n",
    "plt.grid(which='major', linestyle='-', linewidth='0.5', color='green')\n",
    "plt.grid(which='minor', linestyle=':', linewidth='0.5', color='black')\n",
    "plt.show()"
   ]
  },
  {
   "cell_type": "code",
   "execution_count": null,
   "id": "3ba27271",
   "metadata": {},
   "outputs": [],
   "source": [
    "df2 = pd.DataFrame({'Actual': y_test.flatten() , 'Predicted': y_pred.flatten()})\n",
    "df2"
   ]
  },
  {
   "cell_type": "markdown",
   "id": "07fdd634",
   "metadata": {},
   "source": [
    "SPLIT training set"
   ]
  },
  {
   "cell_type": "code",
   "execution_count": null,
   "id": "5abec6ab",
   "metadata": {},
   "outputs": [],
   "source": [
    "X = df['uu_id'].values.reshape(-1,1)\n",
    "Y = df['total_claims'].values.reshape(-1,1)"
   ]
  },
  {
   "cell_type": "code",
   "execution_count": null,
   "id": "e2159adb",
   "metadata": {},
   "outputs": [],
   "source": [
    "X_train, X_test, y_train, y_test = train_test_split(X, y, test_size=0.2, random_state=0)"
   ]
  },
  {
   "cell_type": "code",
   "execution_count": null,
   "id": "b4a1fff7",
   "metadata": {},
   "outputs": [],
   "source": [
    "regressor = LinearRegression()  \n",
    "regressor.fit(X_train, y_train)"
   ]
  },
  {
   "cell_type": "markdown",
   "id": "eff476e8",
   "metadata": {},
   "source": [
    "SPLIT training set"
   ]
  },
  {
   "cell_type": "code",
   "execution_count": null,
   "id": "37efb230",
   "metadata": {},
   "outputs": [],
   "source": [
    "X = df['top_category_employer1'].values.reshape(-1,1)\n",
    "Y = df['total_claims'].values.reshape(-1,1)"
   ]
  },
  {
   "cell_type": "code",
   "execution_count": null,
   "id": "84c606a3",
   "metadata": {},
   "outputs": [],
   "source": [
    "X_train, X_test, y_train, y_test = train_test_split(X, y, test_size=0.2, random_state=0)"
   ]
  },
  {
   "cell_type": "code",
   "execution_count": null,
   "id": "72c2ea5d",
   "metadata": {},
   "outputs": [],
   "source": [
    "regressor = LinearRegression()  \n",
    "regressor.fit(X_train, y_train)"
   ]
  },
  {
   "cell_type": "markdown",
   "id": "26a7fa30",
   "metadata": {},
   "source": [
    "SPLIT training set"
   ]
  },
  {
   "cell_type": "code",
   "execution_count": null,
   "id": "4f589ecd",
   "metadata": {},
   "outputs": [],
   "source": [
    "X = df['edu_8th_or_less'].values.reshape(-1,1)\n",
    "Y = df['total_claims'].values.reshape(-1,1)"
   ]
  },
  {
   "cell_type": "code",
   "execution_count": null,
   "id": "7f02d44a",
   "metadata": {},
   "outputs": [],
   "source": [
    "X_train, X_test, y_train, y_test = train_test_split(X, y, test_size=0.2, random_state=0)"
   ]
  },
  {
   "cell_type": "code",
   "execution_count": null,
   "id": "254bcbba",
   "metadata": {},
   "outputs": [],
   "source": [
    "regressor = LinearRegression()  \n",
    "regressor.fit(X_train, y_train)"
   ]
  },
  {
   "cell_type": "code",
   "execution_count": null,
   "id": "8e7ce874",
   "metadata": {},
   "outputs": [],
   "source": [
    "#To retrieve the intercept:\n",
    "print(regressor.intercept_)"
   ]
  },
  {
   "cell_type": "code",
   "execution_count": null,
   "id": "2174435c",
   "metadata": {},
   "outputs": [],
   "source": [
    "#For retrieving the slope:\n",
    "print(regressor.coef_)"
   ]
  },
  {
   "cell_type": "code",
   "execution_count": null,
   "id": "9723dd8b",
   "metadata": {},
   "outputs": [],
   "source": [
    "y_pred = regressor.predict(X_test)"
   ]
  },
  {
   "cell_type": "code",
   "execution_count": null,
   "id": "30f076ae",
   "metadata": {},
   "outputs": [],
   "source": [
    "df2 = pd.DataFrame({'Actual': y_test.flatten() , 'Predicted': y_pred.flatten()})\n",
    "df2"
   ]
  },
  {
   "cell_type": "code",
   "execution_count": null,
   "id": "ccf491eb",
   "metadata": {},
   "outputs": [],
   "source": [
    "df2 = pd.DataFrame({'Actual': y_test.flatten , 'Predicted': y_pred.flatten()})\n",
    "df2"
   ]
  },
  {
   "cell_type": "code",
   "execution_count": null,
   "id": "f3881671",
   "metadata": {},
   "outputs": [],
   "source": [
    "df2 = pd.DataFrame({'Actual': y_test , 'Predicted': y_pred.flatten()})\n",
    "df2"
   ]
  },
  {
   "cell_type": "code",
   "execution_count": null,
   "id": "6a9f63bc",
   "metadata": {},
   "outputs": [],
   "source": [
    "X_train, X_test, y_train, y_test = train_test_split(X, y, test_size=0.5, random_state=0)"
   ]
  },
  {
   "cell_type": "code",
   "execution_count": null,
   "id": "82a89b42",
   "metadata": {},
   "outputs": [],
   "source": [
    "df2 = pd.DataFrame({'Actual': y_test , 'Predicted': y_pred.flatten()})\n",
    "df2"
   ]
  },
  {
   "cell_type": "code",
   "execution_count": null,
   "id": "d21f5006",
   "metadata": {},
   "outputs": [],
   "source": [
    "X_train, X_test, y_train, y_test = train_test_split(X, y, test_size=0.1, random_state=0)"
   ]
  },
  {
   "cell_type": "code",
   "execution_count": null,
   "id": "b88fbacc",
   "metadata": {},
   "outputs": [],
   "source": [
    "df2 = pd.DataFrame({'Actual': y_test , 'Predicted': y_pred.flatten()})\n",
    "df2"
   ]
  },
  {
   "cell_type": "code",
   "execution_count": null,
   "id": "9e47f11b",
   "metadata": {},
   "outputs": [],
   "source": [
    "X_train, X_test, y_train, y_test = train_test_split(X, y, test_size=0.3, random_state=0)"
   ]
  },
  {
   "cell_type": "code",
   "execution_count": null,
   "id": "3a1f10f2",
   "metadata": {},
   "outputs": [],
   "source": [
    "df2 = pd.DataFrame({'Actual': y_test , 'Predicted': y_pred.flatten()})\n",
    "df2"
   ]
  },
  {
   "cell_type": "code",
   "execution_count": null,
   "id": "d7261299",
   "metadata": {},
   "outputs": [],
   "source": [
    "X_train, X_test, y_train, y_test = train_test_split(X, y, test_size=0.2, random_state=0)"
   ]
  },
  {
   "cell_type": "code",
   "execution_count": null,
   "id": "2d594186",
   "metadata": {},
   "outputs": [],
   "source": [
    "df2 = pd.DataFrame({'Actual': y_test , 'Predicted': y_pred.flatten()})\n",
    "df2"
   ]
  },
  {
   "cell_type": "markdown",
   "id": "f771c3b2",
   "metadata": {},
   "source": [
    "SPLIT training set"
   ]
  },
  {
   "cell_type": "code",
   "execution_count": null,
   "id": "bd0818ed",
   "metadata": {},
   "outputs": [],
   "source": [
    "X = df['edu_post_hs'].values.reshape(-1,1)\n",
    "Y = df['total_claims'].values.reshape(-1,1)"
   ]
  },
  {
   "cell_type": "markdown",
   "id": "83993526",
   "metadata": {},
   "source": [
    "SPLIT training set"
   ]
  },
  {
   "cell_type": "code",
   "execution_count": null,
   "id": "782d82e0",
   "metadata": {},
   "outputs": [],
   "source": [
    "X = df['edu_post_hs'].values.reshape(-1,1)\n",
    "Y = df['total_claims'].values.reshape(-1,1)"
   ]
  },
  {
   "cell_type": "code",
   "execution_count": null,
   "id": "db80dd5a",
   "metadata": {},
   "outputs": [],
   "source": [
    "X_train, X_test, y_train, y_test = train_test_split(X, y, test_size=0.2, random_state=0)"
   ]
  },
  {
   "cell_type": "code",
   "execution_count": null,
   "id": "9f395f15",
   "metadata": {},
   "outputs": [],
   "source": [
    "y_pred = regressor.predict(X_test)"
   ]
  },
  {
   "cell_type": "code",
   "execution_count": null,
   "id": "68f83c03",
   "metadata": {},
   "outputs": [],
   "source": [
    "df2 = pd.DataFrame({'Actual': y_test , 'Predicted': y_pred.flatten()})\n",
    "df2"
   ]
  },
  {
   "cell_type": "code",
   "execution_count": null,
   "id": "38fa6a01",
   "metadata": {},
   "outputs": [],
   "source": [
    "plt.scatter(X_test, y_test,  color='gray')\n",
    "plt.plot(X_test, y_pred, color='red', linewidth=2)\n",
    "plt.show()"
   ]
  },
  {
   "cell_type": "code",
   "execution_count": null,
   "id": "b8d0853f",
   "metadata": {},
   "outputs": [],
   "source": [
    "print('Mean Absolute Error:', metrics.mean_absolute_error(y_test, y_pred))  \n",
    "print('Mean Squared Error:', metrics.mean_squared_error(y_test, y_pred))  \n",
    "print('Root Mean Squared Error:', np.sqrt(metrics.mean_squared_error(y_test, y_pred)))"
   ]
  },
  {
   "cell_type": "markdown",
   "id": "49990c2d",
   "metadata": {},
   "source": [
    "split the data"
   ]
  },
  {
   "cell_type": "code",
   "execution_count": null,
   "id": "779f01c3",
   "metadata": {
    "lines_to_next_cell": 2
   },
   "outputs": [],
   "source": [
    "X = df['edu_post_hs'].values.reshape(-1,1)\n",
    "Y = df['total_claims'].values.reshape(-1,1)"
   ]
  },
  {
   "cell_type": "code",
   "execution_count": null,
   "id": "544bb868",
   "metadata": {},
   "outputs": [],
   "source": [
    "#create training & split data\n",
    "X_train, X_test, y_train, y_test = train_test_split(X, y, test_size=0.2, random_state=0)"
   ]
  },
  {
   "cell_type": "code",
   "execution_count": null,
   "id": "efa2b142",
   "metadata": {},
   "outputs": [],
   "source": [
    "#fit the model to the data\n",
    "regressor = LinearRegression()  \n",
    "regressor.fit(X_train, y_train)"
   ]
  },
  {
   "cell_type": "code",
   "execution_count": null,
   "id": "cddefe99",
   "metadata": {},
   "outputs": [],
   "source": [
    "#To retrieve the intercept:\n",
    "print(regressor.intercept_)"
   ]
  },
  {
   "cell_type": "code",
   "execution_count": null,
   "id": "b60576a2",
   "metadata": {},
   "outputs": [],
   "source": [
    "#For retrieving the slope:\n",
    "print(regressor.coef_)"
   ]
  },
  {
   "cell_type": "markdown",
   "id": "9bd0671a",
   "metadata": {},
   "source": [
    "split the data"
   ]
  },
  {
   "cell_type": "code",
   "execution_count": null,
   "id": "291a864c",
   "metadata": {
    "lines_to_next_cell": 2
   },
   "outputs": [],
   "source": [
    "X = df['edu_post_hs'].values.reshape(-1,1)\n",
    "Y = df['total_claims'].values.reshape(-1,1)"
   ]
  },
  {
   "cell_type": "code",
   "execution_count": null,
   "id": "7c7c99ef",
   "metadata": {},
   "outputs": [],
   "source": [
    "#create training & split data\n",
    "X_train, X_test, y_train, y_test = train_test_split(X, y, test_size=0.2, random_state=0)"
   ]
  },
  {
   "cell_type": "code",
   "execution_count": null,
   "id": "6ba1435f",
   "metadata": {},
   "outputs": [],
   "source": [
    "#fit the model to the data\n",
    "model = LinearRegression()  \n",
    "model.fit(X_train, y_train)"
   ]
  },
  {
   "cell_type": "code",
   "execution_count": null,
   "id": "3a20da85",
   "metadata": {},
   "outputs": [],
   "source": [
    "#To retrieve the intercept:\n",
    "print(regressor.intercept_)"
   ]
  },
  {
   "cell_type": "code",
   "execution_count": null,
   "id": "2fd6d8a0",
   "metadata": {},
   "outputs": [],
   "source": [
    "#For retrieving the slope:\n",
    "print(regressor.coef_)"
   ]
  },
  {
   "cell_type": "markdown",
   "id": "5002737b",
   "metadata": {},
   "source": []
  },
  {
   "cell_type": "markdown",
   "id": "d2621d23",
   "metadata": {},
   "source": [
    "split the data"
   ]
  },
  {
   "cell_type": "code",
   "execution_count": null,
   "id": "7088f63e",
   "metadata": {
    "lines_to_next_cell": 2
   },
   "outputs": [],
   "source": [
    "X = df['edu_post_hs'].values.reshape(-1,1)\n",
    "Y = df['total_claims'].values.reshape(-1,1)"
   ]
  },
  {
   "cell_type": "code",
   "execution_count": null,
   "id": "39fbf023",
   "metadata": {},
   "outputs": [],
   "source": [
    "#create training & split data\n",
    "X_train, X_test, y_train, y_test = train_test_split(X, y, test_size=0.2, random_state=0)"
   ]
  },
  {
   "cell_type": "code",
   "execution_count": null,
   "id": "ff8eeb44",
   "metadata": {},
   "outputs": [],
   "source": [
    "#fit the model to the data\n",
    "model = LinearRegression()  \n",
    "model.fit(X_train, y_train)"
   ]
  },
  {
   "cell_type": "code",
   "execution_count": null,
   "id": "90e0cd9a",
   "metadata": {},
   "outputs": [],
   "source": [
    "#To retrieve the intercept:\n",
    "print(model.intercept_)"
   ]
  },
  {
   "cell_type": "code",
   "execution_count": null,
   "id": "78bf521b",
   "metadata": {},
   "outputs": [],
   "source": [
    "#For retrieving the slope:\n",
    "print(model.coef_)"
   ]
  },
  {
   "cell_type": "markdown",
   "id": "9e8f9eb7",
   "metadata": {},
   "source": []
  },
  {
   "cell_type": "code",
   "execution_count": null,
   "id": "cee65d3e",
   "metadata": {},
   "outputs": [],
   "source": [
    "query = \"\"\"\n",
    "SELECT *\n",
    "FROM `ironhacks-data.ironhacks_competition.unemployment_data` \n",
    "\"\"\""
   ]
  },
  {
   "cell_type": "code",
   "execution_count": null,
   "id": "b33cd89d",
   "metadata": {},
   "outputs": [],
   "source": [
    "# QUERY THE DATA ONCE\n",
    "query_job = bigquery_client.query(query)\n",
    "unemployment_data = query_job.to_dataframe()\n",
    "unemployment_data.head(1)\n",
    "#print(unemployment_data.columns)"
   ]
  },
  {
   "cell_type": "code",
   "execution_count": null,
   "id": "2bfd2648",
   "metadata": {},
   "outputs": [],
   "source": [
    "df2 = pd.DataFrame({'Actual': y_test , 'Predicted': y_pred.flatten()})\n",
    "len(df2)"
   ]
  },
  {
   "cell_type": "markdown",
   "id": "5fdcb818",
   "metadata": {},
   "source": [
    "split the data"
   ]
  },
  {
   "cell_type": "code",
   "execution_count": null,
   "id": "fb773d83",
   "metadata": {
    "lines_to_next_cell": 2
   },
   "outputs": [],
   "source": [
    "X = df['week_number'].values.reshape(-1,1)\n",
    "Y = df['total_claims'].values.reshape(-1,1)"
   ]
  },
  {
   "cell_type": "code",
   "execution_count": null,
   "id": "718cac66",
   "metadata": {},
   "outputs": [],
   "source": [
    "#create training & split data\n",
    "X_train, X_test, y_train, y_test = train_test_split(X, y, test_size=0.2, random_state=0)"
   ]
  },
  {
   "cell_type": "code",
   "execution_count": null,
   "id": "ea7db319",
   "metadata": {},
   "outputs": [],
   "source": [
    "#fit the model to the data\n",
    "model = LinearRegression()  \n",
    "model.fit(X_train, y_train)"
   ]
  },
  {
   "cell_type": "code",
   "execution_count": null,
   "id": "4f79b77f",
   "metadata": {},
   "outputs": [],
   "source": [
    "#To retrieve the intercept:\n",
    "print(model.intercept_)"
   ]
  },
  {
   "cell_type": "code",
   "execution_count": null,
   "id": "697e7805",
   "metadata": {},
   "outputs": [],
   "source": [
    "#For retrieving the slope:\n",
    "print(model.coef_)"
   ]
  },
  {
   "cell_type": "code",
   "execution_count": null,
   "id": "6ecaba85",
   "metadata": {},
   "outputs": [],
   "source": [
    "#\n",
    "y_pred = model.predict(X_test)"
   ]
  },
  {
   "cell_type": "code",
   "execution_count": null,
   "id": "862713e1",
   "metadata": {},
   "outputs": [],
   "source": [
    "df2 = pd.DataFrame({'Actual': y_test , 'Predicted': y_pred.flatten()})\n",
    "len(df2)"
   ]
  },
  {
   "cell_type": "markdown",
   "id": "d94c4bbb",
   "metadata": {},
   "source": [
    "Drop NA VALUES"
   ]
  },
  {
   "cell_type": "code",
   "execution_count": null,
   "id": "14445edc",
   "metadata": {},
   "outputs": [],
   "source": [
    "df = unemployment_data.dropna()\n",
    "df.head()\n",
    "len(df)"
   ]
  },
  {
   "cell_type": "code",
   "execution_count": null,
   "id": "8e91e3ee",
   "metadata": {},
   "outputs": [],
   "source": [
    "len(X)"
   ]
  },
  {
   "cell_type": "code",
   "execution_count": null,
   "id": "161be6e8",
   "metadata": {},
   "outputs": [],
   "source": [
    "len(Y)"
   ]
  },
  {
   "cell_type": "code",
   "execution_count": null,
   "id": "ae15eda9",
   "metadata": {},
   "outputs": [],
   "source": [
    "df2 = pd.DataFrame({'Actual': y_test , 'Predicted': y_pred.flatten()})\n",
    "len(df2)"
   ]
  },
  {
   "cell_type": "code",
   "execution_count": null,
   "id": "b0540dd8",
   "metadata": {},
   "outputs": [],
   "source": [
    "len(X_test)"
   ]
  },
  {
   "cell_type": "code",
   "execution_count": null,
   "id": "1877fd29",
   "metadata": {},
   "outputs": [],
   "source": [
    "len(Y_test)"
   ]
  },
  {
   "cell_type": "markdown",
   "id": "76384a0c",
   "metadata": {},
   "source": [
    "split the data"
   ]
  },
  {
   "cell_type": "code",
   "execution_count": null,
   "id": "7b49a888",
   "metadata": {
    "lines_to_next_cell": 2
   },
   "outputs": [],
   "source": [
    "X = df['week_number'].values.reshape(-1,1)\n",
    "Y = df['total_claims'].values.reshape(-1,1)"
   ]
  },
  {
   "cell_type": "code",
   "execution_count": null,
   "id": "143c2a42",
   "metadata": {},
   "outputs": [],
   "source": [
    "#create training & split data\n",
    "X_train, X_test, y_train, y_test = train_test_split(X, y, train.size=0.9, test_size=0.1, random_state=0)"
   ]
  },
  {
   "cell_type": "code",
   "execution_count": null,
   "id": "2d1c4d24",
   "metadata": {},
   "outputs": [],
   "source": [
    "#fit the model to the data\n",
    "model = LinearRegression()  \n",
    "model.fit(X_train, y_train)"
   ]
  },
  {
   "cell_type": "code",
   "execution_count": null,
   "id": "e981b589",
   "metadata": {},
   "outputs": [],
   "source": [
    "#To retrieve the intercept:\n",
    "print(model.intercept_)"
   ]
  },
  {
   "cell_type": "code",
   "execution_count": null,
   "id": "e9301828",
   "metadata": {},
   "outputs": [],
   "source": [
    "#For retrieving the slope:\n",
    "print(model.coef_)"
   ]
  },
  {
   "cell_type": "code",
   "execution_count": null,
   "id": "cc6aa1f3",
   "metadata": {},
   "outputs": [],
   "source": [
    "#\n",
    "y_pred = model.predict(X_test)"
   ]
  },
  {
   "cell_type": "markdown",
   "id": "3b792497",
   "metadata": {},
   "source": [
    "split the data"
   ]
  },
  {
   "cell_type": "code",
   "execution_count": null,
   "id": "9dc3f88c",
   "metadata": {
    "lines_to_next_cell": 2
   },
   "outputs": [],
   "source": [
    "X = df['week_number'].values.reshape(-1,1)\n",
    "Y = df['total_claims'].values.reshape(-1,1)"
   ]
  },
  {
   "cell_type": "code",
   "execution_count": null,
   "id": "44908574",
   "metadata": {},
   "outputs": [],
   "source": [
    "#create training & split data\n",
    "X_train, X_test, y_train, y_test = train_test_split(X, y, train.size==0.9, test_size==0.1, random_state=0)"
   ]
  },
  {
   "cell_type": "code",
   "execution_count": null,
   "id": "17a185c2",
   "metadata": {},
   "outputs": [],
   "source": [
    "#fit the model to the data\n",
    "model = LinearRegression()  \n",
    "model.fit(X_train, y_train)"
   ]
  },
  {
   "cell_type": "code",
   "execution_count": null,
   "id": "da409fe2",
   "metadata": {},
   "outputs": [],
   "source": [
    "#To retrieve the intercept:\n",
    "print(model.intercept_)"
   ]
  },
  {
   "cell_type": "code",
   "execution_count": null,
   "id": "e625d507",
   "metadata": {},
   "outputs": [],
   "source": [
    "#For retrieving the slope:\n",
    "print(model.coef_)"
   ]
  },
  {
   "cell_type": "code",
   "execution_count": null,
   "id": "75695104",
   "metadata": {},
   "outputs": [],
   "source": [
    "#\n",
    "y_pred = model.predict(X_test)"
   ]
  },
  {
   "cell_type": "markdown",
   "id": "4e77feeb",
   "metadata": {},
   "source": [
    "split the data"
   ]
  },
  {
   "cell_type": "code",
   "execution_count": null,
   "id": "8e0339d5",
   "metadata": {
    "lines_to_next_cell": 2
   },
   "outputs": [],
   "source": [
    "X = df['week_number'].values.reshape(-1,1)\n",
    "Y = df['total_claims'].values.reshape(-1,1)"
   ]
  },
  {
   "cell_type": "code",
   "execution_count": null,
   "id": "043487c2",
   "metadata": {},
   "outputs": [],
   "source": [
    "#create training & split data\n",
    "X_train, X_test, y_train, y_test = train_test_split(X, y, train.size=0.9, test_size=0.1, random_state=0)"
   ]
  },
  {
   "cell_type": "code",
   "execution_count": null,
   "id": "902b8f32",
   "metadata": {},
   "outputs": [],
   "source": [
    "#fit the model to the data\n",
    "model = LinearRegression()  \n",
    "model.fit(X_train, y_train)"
   ]
  },
  {
   "cell_type": "code",
   "execution_count": null,
   "id": "33c06fab",
   "metadata": {},
   "outputs": [],
   "source": [
    "#To retrieve the intercept:\n",
    "print(model.intercept_)"
   ]
  },
  {
   "cell_type": "code",
   "execution_count": null,
   "id": "1008490f",
   "metadata": {},
   "outputs": [],
   "source": [
    "#For retrieving the slope:\n",
    "print(model.coef_)"
   ]
  },
  {
   "cell_type": "code",
   "execution_count": null,
   "id": "622a41b9",
   "metadata": {},
   "outputs": [],
   "source": [
    "#\n",
    "y_pred = model.predict(X_test)"
   ]
  },
  {
   "cell_type": "markdown",
   "id": "292dec95",
   "metadata": {},
   "source": [
    "split the data"
   ]
  },
  {
   "cell_type": "code",
   "execution_count": null,
   "id": "20ac6522",
   "metadata": {
    "lines_to_next_cell": 2
   },
   "outputs": [],
   "source": [
    "X = df['week_number'].values.reshape(-1,1)\n",
    "Y = df['total_claims'].values.reshape(-1,1)"
   ]
  },
  {
   "cell_type": "code",
   "execution_count": null,
   "id": "d5d63158",
   "metadata": {},
   "outputs": [],
   "source": [
    "#create training & split data\n",
    "X_train, X_test, y_train, y_test = train_test_split(X, y, train.size=0.9, test_size=0.1)"
   ]
  },
  {
   "cell_type": "code",
   "execution_count": null,
   "id": "a8ef509f",
   "metadata": {},
   "outputs": [],
   "source": [
    "#fit the model to the data\n",
    "model = LinearRegression()  \n",
    "model.fit(X_train, y_train)"
   ]
  },
  {
   "cell_type": "code",
   "execution_count": null,
   "id": "cdb7a13c",
   "metadata": {},
   "outputs": [],
   "source": [
    "#To retrieve the intercept:\n",
    "print(model.intercept_)"
   ]
  },
  {
   "cell_type": "code",
   "execution_count": null,
   "id": "150ebc7d",
   "metadata": {},
   "outputs": [],
   "source": [
    "#For retrieving the slope:\n",
    "print(model.coef_)"
   ]
  },
  {
   "cell_type": "code",
   "execution_count": null,
   "id": "2448174b",
   "metadata": {},
   "outputs": [],
   "source": [
    "#\n",
    "y_pred = model.predict(X_test)"
   ]
  },
  {
   "cell_type": "markdown",
   "id": "c57522fe",
   "metadata": {},
   "source": [
    "split the data"
   ]
  },
  {
   "cell_type": "code",
   "execution_count": null,
   "id": "781b068a",
   "metadata": {
    "lines_to_next_cell": 2
   },
   "outputs": [],
   "source": [
    "X = df['week_number'].values.reshape(-1,1)\n",
    "Y = df['total_claims'].values.reshape(-1,1)"
   ]
  },
  {
   "cell_type": "code",
   "execution_count": null,
   "id": "80e806a5",
   "metadata": {},
   "outputs": [],
   "source": [
    "#create training & split data\n",
    "X_train, X_test, Y_train, Y_test = train_test_split(X, Y, train.size=0.9, test_size=0.1)"
   ]
  },
  {
   "cell_type": "code",
   "execution_count": null,
   "id": "716b6231",
   "metadata": {},
   "outputs": [],
   "source": [
    "#fit the model to the data\n",
    "model = LinearRegression()  \n",
    "model.fit(X_train, y_train)"
   ]
  },
  {
   "cell_type": "code",
   "execution_count": null,
   "id": "f850a450",
   "metadata": {},
   "outputs": [],
   "source": [
    "#To retrieve the intercept:\n",
    "print(model.intercept_)"
   ]
  },
  {
   "cell_type": "code",
   "execution_count": null,
   "id": "06b46ec8",
   "metadata": {},
   "outputs": [],
   "source": [
    "#For retrieving the slope:\n",
    "print(model.coef_)"
   ]
  },
  {
   "cell_type": "code",
   "execution_count": null,
   "id": "7f8b1050",
   "metadata": {},
   "outputs": [],
   "source": [
    "#\n",
    "y_pred = model.predict(X_test)"
   ]
  },
  {
   "cell_type": "markdown",
   "id": "c15160f7",
   "metadata": {},
   "source": [
    "split the data"
   ]
  },
  {
   "cell_type": "code",
   "execution_count": null,
   "id": "a88c2fdc",
   "metadata": {
    "lines_to_next_cell": 2
   },
   "outputs": [],
   "source": [
    "X = df['week_number'].values.reshape(-1,1)\n",
    "Y = df['total_claims'].values.reshape(-1,1)"
   ]
  },
  {
   "cell_type": "code",
   "execution_count": null,
   "id": "0593475b",
   "metadata": {},
   "outputs": [],
   "source": [
    "#create training & split data\n",
    "X_train, X_test, Y_train, Y_test = train_test_split(X, Y, test_size=0.1)"
   ]
  },
  {
   "cell_type": "code",
   "execution_count": null,
   "id": "bfbb333c",
   "metadata": {},
   "outputs": [],
   "source": [
    "#fit the model to the data\n",
    "model = LinearRegression()  \n",
    "model.fit(X_train, y_train)"
   ]
  },
  {
   "cell_type": "code",
   "execution_count": null,
   "id": "e8e109c0",
   "metadata": {},
   "outputs": [],
   "source": [
    "#To retrieve the intercept:\n",
    "print(model.intercept_)"
   ]
  },
  {
   "cell_type": "code",
   "execution_count": null,
   "id": "6ad6055b",
   "metadata": {},
   "outputs": [],
   "source": [
    "#For retrieving the slope:\n",
    "print(model.coef_)"
   ]
  },
  {
   "cell_type": "code",
   "execution_count": null,
   "id": "9844ea8a",
   "metadata": {},
   "outputs": [],
   "source": [
    "#\n",
    "y_pred = model.predict(X_test)"
   ]
  },
  {
   "cell_type": "markdown",
   "id": "e1b02de2",
   "metadata": {},
   "source": [
    "split the data"
   ]
  },
  {
   "cell_type": "code",
   "execution_count": null,
   "id": "4dac17a1",
   "metadata": {
    "lines_to_next_cell": 2
   },
   "outputs": [],
   "source": [
    "X = df['week_number'].values.reshape(-1,1)\n",
    "Y = df['total_claims'].values.reshape(-1,1)"
   ]
  },
  {
   "cell_type": "code",
   "execution_count": null,
   "id": "45bd8eec",
   "metadata": {},
   "outputs": [],
   "source": [
    "#create training & split data\n",
    "X_train, X_test, Y_train, Y_test = train_test_split(X, Y, test_size=0.2, random_state=0)"
   ]
  },
  {
   "cell_type": "code",
   "execution_count": null,
   "id": "542cefe4",
   "metadata": {},
   "outputs": [],
   "source": [
    "#fit the model to the data\n",
    "model = LinearRegression()  \n",
    "model.fit(X_train, y_train)"
   ]
  },
  {
   "cell_type": "code",
   "execution_count": null,
   "id": "9c8f2288",
   "metadata": {},
   "outputs": [],
   "source": [
    "#To retrieve the intercept:\n",
    "print(model.intercept_)"
   ]
  },
  {
   "cell_type": "code",
   "execution_count": null,
   "id": "cb0b489f",
   "metadata": {},
   "outputs": [],
   "source": [
    "#For retrieving the slope:\n",
    "print(model.coef_)"
   ]
  },
  {
   "cell_type": "code",
   "execution_count": null,
   "id": "8c5dd6fe",
   "metadata": {},
   "outputs": [],
   "source": [
    "#\n",
    "y_pred = model.predict(X_test)"
   ]
  },
  {
   "cell_type": "code",
   "execution_count": null,
   "id": "9e27a018",
   "metadata": {},
   "outputs": [],
   "source": [
    "len(Y_test)"
   ]
  },
  {
   "cell_type": "code",
   "execution_count": null,
   "id": "33a7d9d5",
   "metadata": {},
   "outputs": [],
   "source": [
    "df2 = pd.DataFrame({'Actual': y_test , 'Predicted': y_pred.flatten()})\n",
    "len(df2)"
   ]
  },
  {
   "cell_type": "code",
   "execution_count": null,
   "id": "2b025a88",
   "metadata": {},
   "outputs": [],
   "source": [
    "df2 = pd.DataFrame({'Actual': y_test , 'Predicted': y_pred.flatten()})\n",
    "df2"
   ]
  },
  {
   "cell_type": "code",
   "execution_count": null,
   "id": "7d94fbce",
   "metadata": {},
   "outputs": [],
   "source": [
    "df2 = pd.DataFrame({'Actual': y_test.flatten() , 'Predicted': y_pred.flatten()})\n",
    "df2"
   ]
  },
  {
   "cell_type": "code",
   "execution_count": null,
   "id": "cebff87f",
   "metadata": {},
   "outputs": [],
   "source": [
    "plt.scatter(X_test, y_test,  color='gray')\n",
    "plt.plot(X_test, y_pred, color='red', linewidth=2)\n",
    "plt.show()"
   ]
  },
  {
   "cell_type": "markdown",
   "id": "c79f4220",
   "metadata": {},
   "source": [
    "split the data"
   ]
  },
  {
   "cell_type": "code",
   "execution_count": null,
   "id": "7ff2c54a",
   "metadata": {
    "lines_to_next_cell": 2
   },
   "outputs": [],
   "source": [
    "X = df['week_number'].values.reshape(-1,1)\n",
    "y = df['total_claims'].values.reshape(-1,1)"
   ]
  },
  {
   "cell_type": "code",
   "execution_count": null,
   "id": "daf1f907",
   "metadata": {},
   "outputs": [],
   "source": [
    "#create training & split data\n",
    "X_train, X_test, y_train, y_test = train_test_split(X, y, test_size=0.2, random_state=0)"
   ]
  },
  {
   "cell_type": "code",
   "execution_count": null,
   "id": "250f6772",
   "metadata": {},
   "outputs": [],
   "source": [
    "#fit the model to the data\n",
    "model = LinearRegression()  \n",
    "model.fit(X_train, y_train)"
   ]
  },
  {
   "cell_type": "code",
   "execution_count": null,
   "id": "dc9b3e07",
   "metadata": {},
   "outputs": [],
   "source": [
    "#To retrieve the intercept:\n",
    "print(model.intercept_)"
   ]
  },
  {
   "cell_type": "code",
   "execution_count": null,
   "id": "2e2ad2cb",
   "metadata": {},
   "outputs": [],
   "source": [
    "#For retrieving the slope:\n",
    "print(model.coef_)"
   ]
  },
  {
   "cell_type": "code",
   "execution_count": null,
   "id": "5d717825",
   "metadata": {},
   "outputs": [],
   "source": [
    "#\n",
    "y_pred = model.predict(X_test)"
   ]
  },
  {
   "cell_type": "code",
   "execution_count": null,
   "id": "c4eda078",
   "metadata": {},
   "outputs": [],
   "source": [
    "df2 = pd.DataFrame({'Actual': y_test , 'Predicted': y_pred.flatten()})\n",
    "df2"
   ]
  },
  {
   "cell_type": "code",
   "execution_count": null,
   "id": "252e4387",
   "metadata": {},
   "outputs": [],
   "source": [
    "output = df2.to_csv('submission_prediction_output.csv')\n",
    "output"
   ]
  },
  {
   "cell_type": "code",
   "execution_count": null,
   "id": "f542f322",
   "metadata": {},
   "outputs": [],
   "source": [
    "output = df2.to_csv('submission_prediction_output.csv')\n",
    "output"
   ]
  },
  {
   "cell_type": "code",
   "execution_count": null,
   "id": "a4d4da35",
   "metadata": {},
   "outputs": [],
   "source": [
    "df2 = pd.DataFrame({'Actual': y_test , 'Predicted': y_pred.flatten()})\n",
    "df2"
   ]
  },
  {
   "cell_type": "code",
   "execution_count": null,
   "id": "8f99311c",
   "metadata": {},
   "outputs": [],
   "source": [
    "output = df2.to_csv('submission_prediction_output.csv')\n",
    "output"
   ]
  },
  {
   "cell_type": "code",
   "execution_count": null,
   "id": "6accb442",
   "metadata": {},
   "outputs": [],
   "source": [
    "output = df2.to_csv('submission_prediction_output.csv')\n",
    "output"
   ]
  },
  {
   "cell_type": "code",
   "execution_count": null,
   "id": "6e4371dd",
   "metadata": {},
   "outputs": [],
   "source": [
    "output = df2.to_csv('submission_prediction_output.csv')\n",
    "output"
   ]
  },
  {
   "cell_type": "code",
   "execution_count": null,
   "id": "4f1fcc22",
   "metadata": {
    "lines_to_next_cell": 2
   },
   "outputs": [],
   "source": [
    "print('Mean Absolute Error:', metrics.mean_absolute_error(y_test, y_pred))  \n",
    "print('Mean Squared Error:', metrics.mean_squared_error(y_test, y_pred))  \n",
    "print('Root Mean Squared Error:', np.sqrt(metrics.mean_squared_error(y_test, y_pred)))"
   ]
  }
 ],
 "metadata": {
  "jupytext": {
   "cell_metadata_filter": "-all",
   "main_language": "python",
   "notebook_metadata_filter": "-all"
  }
 },
 "nbformat": 4,
 "nbformat_minor": 5
}
