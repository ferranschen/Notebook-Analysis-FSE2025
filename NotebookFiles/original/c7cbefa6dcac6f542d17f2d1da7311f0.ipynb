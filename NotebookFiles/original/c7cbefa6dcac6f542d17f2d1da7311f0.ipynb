{
 "cells": [
  {
   "cell_type": "code",
   "execution_count": null,
   "id": "b41f5d76",
   "metadata": {},
   "outputs": [],
   "source": [
    "get_ipython().system('pip install db-dtypes')"
   ]
  },
  {
   "cell_type": "code",
   "execution_count": null,
   "id": "e80dfac5",
   "metadata": {},
   "outputs": [],
   "source": [
    "import os\n",
    "import pandas\n",
    "from google.cloud import bigquery\n",
    "from google.oauth2 import service_account\n",
    "from google.cloud.bigquery import magics"
   ]
  },
  {
   "cell_type": "code",
   "execution_count": null,
   "id": "f8ca1425",
   "metadata": {},
   "outputs": [],
   "source": [
    "BIGQUERY_PROJECT = 'ironhacks-data'\n",
    "bigquery_client = bigquery.Client(project=BIGQUERY_PROJECT)"
   ]
  },
  {
   "cell_type": "code",
   "execution_count": null,
   "id": "2b07e53e",
   "metadata": {},
   "outputs": [],
   "source": [
    "query = \"\"\"\n",
    "SELECT *\n",
    "FROM `ironhacks-data.ironhacks_competition.unemployment_data`\n",
    "\"\"\""
   ]
  },
  {
   "cell_type": "code",
   "execution_count": null,
   "id": "f93369cc",
   "metadata": {},
   "outputs": [],
   "source": [
    "# QUERY THE DATA ONCE\n",
    "query_job = bigquery_client.query(query)\n",
    "data = query_job.to_dataframe()\n",
    "data.head()"
   ]
  },
  {
   "cell_type": "code",
   "execution_count": null,
   "id": "ba561753",
   "metadata": {},
   "outputs": [],
   "source": [
    "data.info()"
   ]
  },
  {
   "cell_type": "code",
   "execution_count": null,
   "id": "5755ab6a",
   "metadata": {},
   "outputs": [],
   "source": [
    "data[\"top_category_employer2\"].value_counts()"
   ]
  },
  {
   "cell_type": "code",
   "execution_count": null,
   "id": "855ba49a",
   "metadata": {},
   "outputs": [],
   "source": [
    "data.loc[data[\"uu_id\"] == \"bd5b040eae3010ce09da8b176ed5aee0\"]"
   ]
  },
  {
   "cell_type": "code",
   "execution_count": null,
   "id": "054d0456",
   "metadata": {},
   "outputs": [],
   "source": [
    "query = \"\"\"\n",
    "SELECT *\n",
    "FROM `ironhacks-data.ironhacks_competition.wage_data`\n",
    "\"\"\""
   ]
  },
  {
   "cell_type": "code",
   "execution_count": null,
   "id": "eb1f3026",
   "metadata": {},
   "outputs": [],
   "source": [
    "# QUERY THE DATA ONCE\n",
    "query_job = bigquery_client.query(query)\n",
    "wage_data = query_job.to_dataframe()\n",
    "wage_data.head()"
   ]
  },
  {
   "cell_type": "code",
   "execution_count": null,
   "id": "695bfc36",
   "metadata": {},
   "outputs": [],
   "source": [
    "query = \"\"\"\n",
    "SELECT *\n",
    "FROM `ironhacks-data.ironhacks_competition.prediction_list`\n",
    "\"\"\""
   ]
  },
  {
   "cell_type": "code",
   "execution_count": null,
   "id": "4c92c88e",
   "metadata": {},
   "outputs": [],
   "source": [
    "# QUERY THE DATA ONCE\n",
    "query_job = bigquery_client.query(query)\n",
    "predict = query_job.to_dataframe()\n",
    "predict.head()"
   ]
  },
  {
   "cell_type": "code",
   "execution_count": null,
   "id": "260f8e41",
   "metadata": {},
   "outputs": [],
   "source": [
    "data[\"edu_8th_or_less\"].value_counts()"
   ]
  },
  {
   "cell_type": "code",
   "execution_count": null,
   "id": "c1f888ca",
   "metadata": {},
   "outputs": [],
   "source": [
    "data[\"race_black\"].value_counts()"
   ]
  },
  {
   "cell_type": "code",
   "execution_count": null,
   "id": "02736653",
   "metadata": {
    "lines_to_next_cell": 2
   },
   "outputs": [],
   "source": [
    "data[\"gender_female\"].value_counts()"
   ]
  }
 ],
 "metadata": {
  "jupytext": {
   "cell_metadata_filter": "-all",
   "main_language": "python",
   "notebook_metadata_filter": "-all"
  }
 },
 "nbformat": 4,
 "nbformat_minor": 5
}
