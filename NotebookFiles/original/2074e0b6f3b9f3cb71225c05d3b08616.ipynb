{
 "cells": [
  {
   "cell_type": "code",
   "execution_count": null,
   "id": "330700e4",
   "metadata": {},
   "outputs": [],
   "source": [
    "import pandas as pd\n",
    "import numpy as np\n",
    "import matplotlib\n",
    "import matplotlib.pyplot as plt\n",
    "import seaborn as sns\n",
    "get_ipython().run_line_magic('matplotlib', 'inline')"
   ]
  },
  {
   "cell_type": "code",
   "execution_count": null,
   "id": "9f3d8999",
   "metadata": {},
   "outputs": [],
   "source": [
    "import os\n",
    "from google.cloud import bigquery\n",
    "from google.oauth2 import service_account\n",
    "from google.cloud.bigquery import magics"
   ]
  },
  {
   "cell_type": "code",
   "execution_count": null,
   "id": "c49aba4c",
   "metadata": {},
   "outputs": [],
   "source": [
    "BIGQUERY_PROJECT = 'ironhacks-data'\n",
    "bigquery_client = bigquery.Client(project=BIGQUERY_PROJECT)"
   ]
  },
  {
   "cell_type": "code",
   "execution_count": null,
   "id": "7fc101b8",
   "metadata": {},
   "outputs": [],
   "source": [
    "query = \"\"\"\n",
    "SELECT *\n",
    "FROM `ironhacks-data.ironhacks_competition.unemployment_data`\n",
    "\"\"\""
   ]
  },
  {
   "cell_type": "code",
   "execution_count": null,
   "id": "81b15b83",
   "metadata": {},
   "outputs": [],
   "source": [
    "query_job = bigquery_client.query(query)\n",
    "unemployment_data = query_job.to_dataframe()\n",
    "unemployment_data.head(3)"
   ]
  },
  {
   "cell_type": "code",
   "execution_count": null,
   "id": "40c29df9",
   "metadata": {},
   "outputs": [],
   "source": [
    "query = \"\"\"\n",
    "SELECT *\n",
    "FROM `ironhacks-data.ironhacks_competition.wage_data`\n",
    "\"\"\""
   ]
  },
  {
   "cell_type": "code",
   "execution_count": null,
   "id": "4c9681e7",
   "metadata": {},
   "outputs": [],
   "source": [
    "query_job = bigquery_client.query(query)\n",
    "wage_data = query_job.to_dataframe()\n",
    "wage_data.head(3)"
   ]
  },
  {
   "cell_type": "code",
   "execution_count": null,
   "id": "402e47fb",
   "metadata": {},
   "outputs": [],
   "source": [
    "query = \"\"\"\n",
    "SELECT *\n",
    "FROM `ironhacks-data.ironhacks_competition.prediction_list`\n",
    "\"\"\""
   ]
  },
  {
   "cell_type": "code",
   "execution_count": null,
   "id": "62937730",
   "metadata": {},
   "outputs": [],
   "source": [
    "query_job = bigquery_client.query(query)\n",
    "prediction_data = query_job.to_dataframe()\n",
    "prediction_data.head(3)"
   ]
  },
  {
   "cell_type": "code",
   "execution_count": null,
   "id": "bf61e482",
   "metadata": {},
   "outputs": [],
   "source": [
    "query = \"\"\"\n",
    "SELECT * FROM `ironhacks-data.ironhacks_competition.INFORMATION_SCHEMA.TABLES`\n",
    "\"\"\""
   ]
  },
  {
   "cell_type": "code",
   "execution_count": null,
   "id": "0f1030c7",
   "metadata": {},
   "outputs": [],
   "source": [
    "query_job = bigquery_client.query(query)\n",
    "information_data = query_job.to_dataframe()\n",
    "information_data.head(3)"
   ]
  },
  {
   "cell_type": "code",
   "execution_count": null,
   "id": "47af7762",
   "metadata": {},
   "outputs": [],
   "source": [
    "print(f\"size of unemployment_data: {len(unemployment_data)}\")\n",
    "print(f\"size of wage_data: {len(wage_data)}\")\n",
    "print(f\"size of prediction_data: {len(prediction_data)}\")"
   ]
  },
  {
   "cell_type": "code",
   "execution_count": null,
   "id": "f36623ba",
   "metadata": {},
   "outputs": [],
   "source": [
    "unemployment_data.dtypes"
   ]
  },
  {
   "cell_type": "code",
   "execution_count": null,
   "id": "8ec67370",
   "metadata": {},
   "outputs": [],
   "source": [
    "plt.figure(figsize=(12,10))\n",
    "cor = unemployment_data.corr()\n",
    "sns.heatmap(cor, annot=True, cmap=plt.cm.Reds)\n",
    "plt.show()"
   ]
  },
  {
   "cell_type": "code",
   "execution_count": null,
   "id": "0b2e39cd",
   "metadata": {},
   "outputs": [],
   "source": [
    "#Correlation with output variable\n",
    "cor_target = abs(cor[\"total_claims\"])\n",
    "#Selecting highly correlated features\n",
    "relevant_features = cor_target[cor_target>0.5]\n",
    "print(relevant_features)"
   ]
  },
  {
   "cell_type": "code",
   "execution_count": null,
   "id": "78d30e0a",
   "metadata": {},
   "outputs": [],
   "source": [
    "unemployment_data = unemployment_data.set_index('timeperiod')"
   ]
  },
  {
   "cell_type": "code",
   "execution_count": null,
   "id": "9719e363",
   "metadata": {},
   "outputs": [],
   "source": [
    "X = unemployment_data.drop([\"uu_id\", \"weak_number\"], axis=1)\n",
    "X_cor = unemployment_data[[\"edu_hs_grad_equiv\", \"edu_post_hs\",\n",
    "                           \"gender_female\", \"gender_male\",\n",
    "                           \"race_black\", \"race_white\"]]\n",
    "y = unemployment_data[\"total_claims\"]"
   ]
  },
  {
   "cell_type": "code",
   "execution_count": null,
   "id": "4eebf322",
   "metadata": {},
   "outputs": [],
   "source": [
    "X = unemployment_data.drop([\"uu_id\", \"week_number\"], axis=1)\n",
    "X_cor = unemployment_data[[\"edu_hs_grad_equiv\", \"edu_post_hs\",\n",
    "                           \"gender_female\", \"gender_male\",\n",
    "                           \"race_black\", \"race_white\"]]\n",
    "y = unemployment_data[\"total_claims\"]"
   ]
  },
  {
   "cell_type": "code",
   "execution_count": null,
   "id": "44b356e9",
   "metadata": {},
   "outputs": [],
   "source": [
    "from sklearn.linear_model import LinearRegression\n",
    "model = LinearRegression()\n",
    "model.fit(X,y)"
   ]
  },
  {
   "cell_type": "code",
   "execution_count": null,
   "id": "6be57e60",
   "metadata": {},
   "outputs": [],
   "source": [
    "from sklearn.linear_model import LinearRegression\n",
    "model = LinearRegression()\n",
    "model.fit(X_cor,y)"
   ]
  },
  {
   "cell_type": "code",
   "execution_count": null,
   "id": "7b0ab3ca",
   "metadata": {},
   "outputs": [],
   "source": [
    "from sklearn.impute import SimpleImputer\n",
    "imp = SimpleImputer(missing_values=np.nan, strategy='mean')\n",
    "imp.fit_transform(X_cor, y)"
   ]
  },
  {
   "cell_type": "code",
   "execution_count": null,
   "id": "ed005d4f",
   "metadata": {},
   "outputs": [],
   "source": [
    "from sklearn.linear_model import LinearRegression\n",
    "model = LinearRegression()\n",
    "model.fit(X_cor,y)"
   ]
  },
  {
   "cell_type": "code",
   "execution_count": null,
   "id": "cb9cec57",
   "metadata": {},
   "outputs": [],
   "source": [
    "from sklearn.impute import SimpleImputer\n",
    "imp = SimpleImputer(missing_values=np.nan, strategy='mean')\n",
    "imp.fit_transform(X_cor)"
   ]
  },
  {
   "cell_type": "code",
   "execution_count": null,
   "id": "ebf09048",
   "metadata": {},
   "outputs": [],
   "source": [
    "from sklearn.impute import SimpleImputer\n",
    "imp = SimpleImputer(missing_values=np.nan, strategy='mean')\n",
    "X_cor = imp.fit_transform(X_cor)"
   ]
  },
  {
   "cell_type": "code",
   "execution_count": null,
   "id": "015e3fc1",
   "metadata": {},
   "outputs": [],
   "source": [
    "from sklearn.linear_model import LinearRegression\n",
    "model = LinearRegression()\n",
    "model.fit(X_cor,y)"
   ]
  },
  {
   "cell_type": "code",
   "execution_count": null,
   "id": "f36e0c6b",
   "metadata": {},
   "outputs": [],
   "source": [
    "y_pred = pd.Series(model.predict(X), index=X.index)"
   ]
  },
  {
   "cell_type": "code",
   "execution_count": null,
   "id": "18536758",
   "metadata": {},
   "outputs": [],
   "source": [
    "y_pred = pd.Series(model.predict(X_xor), index=X_cor.index)"
   ]
  },
  {
   "cell_type": "code",
   "execution_count": null,
   "id": "924b706b",
   "metadata": {},
   "outputs": [],
   "source": [
    "y_pred = pd.Series(model.predict(X_cor), index=X_cor.index)"
   ]
  },
  {
   "cell_type": "code",
   "execution_count": null,
   "id": "b58bb7b1",
   "metadata": {},
   "outputs": [],
   "source": [
    "y_pred = pd.Series(model.predict(X_cor))"
   ]
  },
  {
   "cell_type": "code",
   "execution_count": null,
   "id": "496ae85a",
   "metadata": {},
   "outputs": [],
   "source": [
    "# y_pred = pd.Series(model.predict(X_cor), index=X_cor.index)\n",
    "y_pred = pd.Series(model.predict(X_cor))"
   ]
  },
  {
   "cell_type": "code",
   "execution_count": null,
   "id": "8c3e2090",
   "metadata": {},
   "outputs": [],
   "source": [
    "ax = y.plot(alpha=0.5)\n",
    "ax = y_pred.plot(ax=ax, linewidth=3)"
   ]
  },
  {
   "cell_type": "code",
   "execution_count": null,
   "id": "0288eb37",
   "metadata": {},
   "outputs": [],
   "source": [
    "y_pred = pd.Series(model.predict(X_cor), index=X.index)\n",
    "# y_pred = pd.Series(model.predict(X_cor))"
   ]
  },
  {
   "cell_type": "code",
   "execution_count": null,
   "id": "e90a9678",
   "metadata": {},
   "outputs": [],
   "source": [
    "ax = y.plot(alpha=0.5)\n",
    "ax = y_pred.plot(ax=ax, linewidth=3)"
   ]
  },
  {
   "cell_type": "code",
   "execution_count": null,
   "id": "724397b7",
   "metadata": {},
   "outputs": [],
   "source": [
    "X = unemployment_data.drop([\"uu_id\", \"week_number\"], axis=1)\n",
    "X_cor = unemployment_data[[\"uu_id\", \"week_number\"\n",
    "                           \"edu_hs_grad_equiv\", \"edu_post_hs\",\n",
    "                           \"gender_female\", \"gender_male\",\n",
    "                           \"race_black\", \"race_white\"]]\n",
    "y = unemployment_data[\"total_claims\"]"
   ]
  },
  {
   "cell_type": "code",
   "execution_count": null,
   "id": "c46329ed",
   "metadata": {},
   "outputs": [],
   "source": [
    "y_pred = pd.Series(model.predict(X_cor), index=X.index)"
   ]
  },
  {
   "cell_type": "code",
   "execution_count": null,
   "id": "5f8cf8ab",
   "metadata": {},
   "outputs": [],
   "source": [
    "from sklearn.preprocessing import OneHotEncoder\n",
    "enc = OneHotEncoder()\n",
    "X = enc.fit_transform(data[\"uu_id\", \"tract_name\",\n",
    "                           \"top_category_employer1\",\n",
    "                           \"top_category_employer2\",\n",
    "                           \"top_category_employer3\"])"
   ]
  },
  {
   "cell_type": "code",
   "execution_count": null,
   "id": "9e316a9b",
   "metadata": {},
   "outputs": [],
   "source": [
    "from sklearn.preprocessing import OneHotEncoder\n",
    "enc = OneHotEncoder()\n",
    "X = enc.fit_transform(unemployment_data[\"uu_id\", \"tract_name\",\n",
    "                           \"top_category_employer1\",\n",
    "                           \"top_category_employer2\",\n",
    "                           \"top_category_employer3\"])"
   ]
  },
  {
   "cell_type": "code",
   "execution_count": null,
   "id": "b96e37af",
   "metadata": {},
   "outputs": [],
   "source": [
    "from sklearn.preprocessing import OneHotEncoder\n",
    "enc = OneHotEncoder()\n",
    "X = enc.fit_transform(unemployment_data[[\"uu_id\", \"tract_name\",\n",
    "                           \"top_category_employer1\",\n",
    "                           \"top_category_employer2\",\n",
    "                           \"top_category_employer3\"]])"
   ]
  },
  {
   "cell_type": "code",
   "execution_count": null,
   "id": "30663b1b",
   "metadata": {},
   "outputs": [],
   "source": [
    "plt.figure(figsize=(12,10))\n",
    "cor = X.corr()\n",
    "sns.heatmap(cor, annot=True, cmap=plt.cm.Reds)\n",
    "plt.show()"
   ]
  },
  {
   "cell_type": "code",
   "execution_count": null,
   "id": "f8b61003",
   "metadata": {},
   "outputs": [],
   "source": [
    "plt.figure(figsize=(12,10))\n",
    "cor = pd.dataFrame(X).corr()\n",
    "sns.heatmap(cor, annot=True, cmap=plt.cm.Reds)\n",
    "plt.show()"
   ]
  },
  {
   "cell_type": "code",
   "execution_count": null,
   "id": "3b1c9f9f",
   "metadata": {},
   "outputs": [],
   "source": [
    "plt.figure(figsize=(12,10))\n",
    "cor = pd.dataframe(X).corr()\n",
    "sns.heatmap(cor, annot=True, cmap=plt.cm.Reds)\n",
    "plt.show()"
   ]
  },
  {
   "cell_type": "code",
   "execution_count": null,
   "id": "35c37040",
   "metadata": {},
   "outputs": [],
   "source": [
    "plt.figure(figsize=(12,10))\n",
    "cor = pd.DataFrame(X).corr()\n",
    "sns.heatmap(cor, annot=True, cmap=plt.cm.Reds)\n",
    "plt.show()"
   ]
  },
  {
   "cell_type": "code",
   "execution_count": null,
   "id": "23728eaa",
   "metadata": {},
   "outputs": [],
   "source": [
    "X = pd.get_dummies(df, prefix=['col1', 'col2'])"
   ]
  },
  {
   "cell_type": "code",
   "execution_count": null,
   "id": "1be974bc",
   "metadata": {},
   "outputs": [],
   "source": [
    "X = pd.get_dummies(unemployment_data, prefix=['col1', 'col2'])"
   ]
  },
  {
   "cell_type": "code",
   "execution_count": null,
   "id": "10cfce5a",
   "metadata": {},
   "outputs": [],
   "source": [
    "X = pd.get_dummies(unemployment_data)"
   ]
  },
  {
   "cell_type": "code",
   "execution_count": null,
   "id": "90fd40b4",
   "metadata": {
    "lines_to_next_cell": 2
   },
   "outputs": [],
   "source": [
    "plt.figure(figsize=(12,10))\n",
    "cor = X.corr()\n",
    "sns.heatmap(cor, annot=True, cmap=plt.cm.Reds)\n",
    "plt.show()"
   ]
  }
 ],
 "metadata": {
  "jupytext": {
   "cell_metadata_filter": "-all",
   "main_language": "python",
   "notebook_metadata_filter": "-all"
  }
 },
 "nbformat": 4,
 "nbformat_minor": 5
}
