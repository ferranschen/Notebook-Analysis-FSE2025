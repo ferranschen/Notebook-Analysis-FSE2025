{
 "cells": [
  {
   "cell_type": "code",
   "execution_count": null,
   "id": "97ba7155",
   "metadata": {},
   "outputs": [],
   "source": [
    "get_ipython().system('pip install google-cloud-bigquery')\n",
    "get_ipython().system('pip install google-cloud-bigquery[pandas]')\n",
    "get_ipython().system('python3 -m pip install google.cloud')\n",
    "get_ipython().system('python3 -m pip install pandas')\n",
    "get_ipython().system('python3 -m pip install numpy')\n",
    "get_ipython().system('python3 -m pip install scikit-learn')\n",
    "get_ipython().system('python3 -m pip install plotly')"
   ]
  },
  {
   "cell_type": "code",
   "execution_count": null,
   "id": "2e8b6d4f",
   "metadata": {},
   "outputs": [],
   "source": [
    "import csv\n",
    "import pandas as pd\n",
    "import numpy as np\n",
    "from google.cloud import bigquery\n",
    "from google.oauth2 import service_account\n",
    "from google.cloud.bigquery import magics\n",
    "from sklearn.model_selection import train_test_split \n",
    "from sklearn.linear_model import LinearRegression\n",
    "from sklearn import metrics\n",
    "import matplotlib.pyplot as plt  \n",
    "import os\n",
    "import seaborn as sns\n",
    "from pandas import Series, DataFrame"
   ]
  },
  {
   "cell_type": "code",
   "execution_count": null,
   "id": "ce7ddaac",
   "metadata": {},
   "outputs": [],
   "source": [
    "get_ipython().run_cell_magic('capture', '', \"%logstop\\n%logstart -t -r -q ipython_command_log.py global\\n\\n#- IRONHACKS RESEARCH TRACKING CODE\\n#----------------------------------\\n# The following code is used to help our research team understand how you \\n# our notebook environment. We do not collect any personal information with\\n# the following code, it is used to measure when and how often you work on\\n# your submission files.\\n\\nimport os\\nfrom datetime import datetime\\nimport IPython.core.history as history\\n\\nha = history.HistoryAccessor()\\nha_tail = ha.get_tail(1)\\nha_cmd = next(ha_tail)\\nsession_id = str(ha_cmd[0])\\ncommand_id = str(ha_cmd[1])\\ntimestamp = datetime.utcnow().isoformat()\\nhistory_line = ','.join([session_id, command_id, timestamp]) + '\\\\n'\\nlogfile = open(os.environ['HOME']+'/ipython_session_log.csv', 'a')\\nlogfile.write(history_line)\\nlogfile.close()\\n\")"
   ]
  },
  {
   "cell_type": "code",
   "execution_count": null,
   "id": "488dbbdc",
   "metadata": {},
   "outputs": [],
   "source": [
    "BIGQUERY_PROJECT = 'ironhacks-data'\n",
    "bigquery_client = bigquery.Client(project=BIGQUERY_PROJECT)"
   ]
  },
  {
   "cell_type": "code",
   "execution_count": null,
   "id": "d1750077",
   "metadata": {},
   "outputs": [],
   "source": [
    "query = \"\"\"\n",
    "SELECT *\n",
    "FROM `ironhacks-data.ironhacks_competition.unemployment_data`\n",
    "\"\"\""
   ]
  },
  {
   "cell_type": "code",
   "execution_count": null,
   "id": "622e930b",
   "metadata": {},
   "outputs": [],
   "source": [
    "# QUERY THE DATA ONCE\n",
    "query_job = bigquery_client.query(query)\n",
    "unemployment_data = query_job.to_dataframe()\n",
    "unemployment_data.head()"
   ]
  },
  {
   "cell_type": "code",
   "execution_count": null,
   "id": "1b7b2d86",
   "metadata": {},
   "outputs": [],
   "source": [
    "query2 = \"\"\"\n",
    "SELECT *\n",
    "FROM `ironhacks-data.ironhacks_competition.wage_data`\n",
    "\"\"\""
   ]
  },
  {
   "cell_type": "code",
   "execution_count": null,
   "id": "2362db75",
   "metadata": {},
   "outputs": [],
   "source": [
    "# QUERY THE DATA ONCE\n",
    "query_job2 = bigquery_client.query(query2)\n",
    "wage_data = query_job2.to_dataframe()\n",
    "wage_data.head()"
   ]
  },
  {
   "cell_type": "code",
   "execution_count": null,
   "id": "8f2061a5",
   "metadata": {},
   "outputs": [],
   "source": [
    "wage_data[wage_data.isnull().any(axis=1)]"
   ]
  },
  {
   "cell_type": "code",
   "execution_count": null,
   "id": "23f35d49",
   "metadata": {},
   "outputs": [],
   "source": [
    "wage_data2 = wage_data.fillna({'average_wage': wage_data.average_wage.mean()})\n",
    "wage_data2.head()"
   ]
  },
  {
   "cell_type": "code",
   "execution_count": null,
   "id": "c13b5bb9",
   "metadata": {},
   "outputs": [],
   "source": [
    "query3 = \"\"\"\n",
    "SELECT *\n",
    "FROM `ironhacks-data.ironhacks_competition.prediction_list`\n",
    "\"\"\""
   ]
  },
  {
   "cell_type": "code",
   "execution_count": null,
   "id": "7c76ea28",
   "metadata": {},
   "outputs": [],
   "source": [
    "# QUERY THE DATA ONCE\n",
    "query_job3 = bigquery_client.query(query3)\n",
    "prediction_list = query_job3.to_dataframe()\n",
    "prediction_list.head()"
   ]
  },
  {
   "cell_type": "code",
   "execution_count": null,
   "id": "dabbe2c8",
   "metadata": {},
   "outputs": [],
   "source": [
    "query = \"\"\"\n",
    "SELECT *\n",
    "FROM `ironhacks-data.ironhacks_competition.INFORMATION_SCHEMA.TABLES`\n",
    "\"\"\""
   ]
  },
  {
   "cell_type": "code",
   "execution_count": null,
   "id": "55feb205",
   "metadata": {},
   "outputs": [],
   "source": [
    "# QUERY THE DATA ONCE\n",
    "query_job = bigquery_client.query(query)\n",
    "data = query_job.to_dataframe()\n",
    "data.head()"
   ]
  },
  {
   "cell_type": "code",
   "execution_count": null,
   "id": "e442a1fa",
   "metadata": {},
   "outputs": [],
   "source": [
    "#Merge the data\n",
    "unemployment_wage_data = pd.merge(unemployment_data, wage_data, on=['uu_id'], how='inner')\n",
    "unemployment_wage_data = unemployment_wage_data.drop(['countyfips_y', 'tract_y', 'tract_name_y'], axis=1)\n",
    "unemployment_wage_data = unemployment_wage_data.fillna(0)\n",
    "unemployment_wage_data.describe()"
   ]
  },
  {
   "cell_type": "code",
   "execution_count": null,
   "id": "1870073f",
   "metadata": {},
   "outputs": [],
   "source": [
    "unemployment_wage_data.head()"
   ]
  },
  {
   "cell_type": "code",
   "execution_count": null,
   "id": "2215a1c2",
   "metadata": {},
   "outputs": [],
   "source": [
    "#Check for duplicated rows\n",
    "duplicated_rows = sum(unemployment_wage_data.duplicated()) \n",
    "unemployment_wage_data = unemployment_wage_data.drop_duplicates()"
   ]
  },
  {
   "cell_type": "code",
   "execution_count": null,
   "id": "f6b2089d",
   "metadata": {},
   "outputs": [],
   "source": [
    "unemployment_wage_data[unemployment_wage_data.isnull().any(axis=1)]"
   ]
  },
  {
   "cell_type": "code",
   "execution_count": null,
   "id": "b915e4c7",
   "metadata": {},
   "outputs": [],
   "source": [
    "#heat map for correlations\n",
    "plt.figure(figsize=(25,10))\n",
    "cor = unemployment_wage_data.corr()\n",
    "sns.heatmap(cor, annot=True, cmap=plt.cm.Reds) \n",
    "plt.show()"
   ]
  },
  {
   "cell_type": "code",
   "execution_count": null,
   "id": "2a3cf990",
   "metadata": {},
   "outputs": [],
   "source": [
    "unemployment_wage_data.columns"
   ]
  },
  {
   "cell_type": "code",
   "execution_count": null,
   "id": "1f3e511c",
   "metadata": {},
   "outputs": [],
   "source": [
    "unemployment_wage_data.dtypes"
   ]
  },
  {
   "cell_type": "code",
   "execution_count": null,
   "id": "c2495696",
   "metadata": {},
   "outputs": [],
   "source": [
    "X = unemployment_wage_data.drop(['total_claims', 'week_number'], axis = 1)\n",
    "y = unemployment_wage_data.total_claims"
   ]
  },
  {
   "cell_type": "code",
   "execution_count": null,
   "id": "053eefdd",
   "metadata": {},
   "outputs": [],
   "source": [
    "uuid, label = unemployment_wage_data['uu_id'].factorize(sort=True)"
   ]
  },
  {
   "cell_type": "code",
   "execution_count": null,
   "id": "fd3de04f",
   "metadata": {},
   "outputs": [],
   "source": [
    "X['uu_id'] = uuid"
   ]
  },
  {
   "cell_type": "code",
   "execution_count": null,
   "id": "061f828f",
   "metadata": {},
   "outputs": [],
   "source": [
    "#convert data from string to float in order for random forest to work\n",
    "X['tract_name_x'] = X['tract_name_x'].factorize()[0]\n",
    "X['top_category_employer1'] = X['top_category_employer1'].factorize()[0]\n",
    "X['top_category_employer2'] = X['top_category_employer2'].factorize()[0]\n",
    "X['top_category_employer3'] = X['top_category_employer3'].factorize()[0]"
   ]
  },
  {
   "cell_type": "code",
   "execution_count": null,
   "id": "c6c7edb0",
   "metadata": {},
   "outputs": [],
   "source": [
    "X_train, X_test, y_train, y_test = train_test_split(X, y, test_size=0.2, random_state=42)"
   ]
  },
  {
   "cell_type": "code",
   "execution_count": null,
   "id": "a522849b",
   "metadata": {},
   "outputs": [],
   "source": [
    "from sklearn.ensemble import RandomForestRegressor\n",
    "rf = RandomForestRegressor(n_estimators=1000, random_state=42)\n",
    "rf.fit(X_train, y_train)"
   ]
  },
  {
   "cell_type": "code",
   "execution_count": null,
   "id": "7f7b4196",
   "metadata": {},
   "outputs": [],
   "source": [
    "rf.score(X_test, y_test)"
   ]
  },
  {
   "cell_type": "code",
   "execution_count": null,
   "id": "690608f6",
   "metadata": {},
   "outputs": [],
   "source": [
    "prediction_list"
   ]
  },
  {
   "cell_type": "code",
   "execution_count": null,
   "id": "48858804",
   "metadata": {},
   "outputs": [],
   "source": [
    "for col in X.columns[2:]:\n",
    "    li = []\n",
    "    for i in prediction_list['uu_id']:\n",
    "        li.append(X.loc[X['uu_id'] == i, col].mean())\n",
    "    prediction_list[col] = li"
   ]
  },
  {
   "cell_type": "code",
   "execution_count": null,
   "id": "54572cb2",
   "metadata": {},
   "outputs": [],
   "source": [
    "prediction_list"
   ]
  },
  {
   "cell_type": "code",
   "execution_count": null,
   "id": "6ebb1908",
   "metadata": {},
   "outputs": [],
   "source": [
    "prediction_list"
   ]
  },
  {
   "cell_type": "code",
   "execution_count": null,
   "id": "6e21be44",
   "metadata": {},
   "outputs": [],
   "source": [
    "prediction_list['uu_id'] = prediction_list['uu_id'].factorize(sort=True)[0]"
   ]
  },
  {
   "cell_type": "code",
   "execution_count": null,
   "id": "228cff3e",
   "metadata": {},
   "outputs": [],
   "source": [
    "X['uu_id'] = label[X[\"uu_id\"]]\n",
    "X"
   ]
  },
  {
   "cell_type": "code",
   "execution_count": null,
   "id": "b73558d2",
   "metadata": {},
   "outputs": [],
   "source": [
    "for col in X.columns[2:]:\n",
    "    li = []\n",
    "    for i in prediction_list['uu_id']:\n",
    "        li.append(X.loc[X['uu_id'] == i, col].mean())\n",
    "    prediction_list[col] = li"
   ]
  },
  {
   "cell_type": "code",
   "execution_count": null,
   "id": "c74a7445",
   "metadata": {},
   "outputs": [],
   "source": [
    "prediction_list"
   ]
  },
  {
   "cell_type": "code",
   "execution_count": null,
   "id": "8d98e7a1",
   "metadata": {},
   "outputs": [],
   "source": [
    "prediction_list"
   ]
  },
  {
   "cell_type": "code",
   "execution_count": null,
   "id": "2fc79c54",
   "metadata": {},
   "outputs": [],
   "source": [
    "prediction_list['uu_id'] = prediction_list['uu_id'].factorize(sort=True)[0]"
   ]
  },
  {
   "cell_type": "code",
   "execution_count": null,
   "id": "d07f05f1",
   "metadata": {},
   "outputs": [],
   "source": [
    "claims_predict = rf.predict(prediction_list)\n",
    "claims_predict"
   ]
  },
  {
   "cell_type": "code",
   "execution_count": null,
   "id": "25fd8fa1",
   "metadata": {},
   "outputs": [],
   "source": [
    "submission_df = pd.DataFrame()"
   ]
  },
  {
   "cell_type": "code",
   "execution_count": null,
   "id": "d04497e4",
   "metadata": {},
   "outputs": [],
   "source": [
    "submission_df[\"uu_id\"] = prediction_list[\"uu_id\"]\n",
    "submission_df[\"week_number\"] = prediction_list[\"week_number\"]\n",
    "submission_df[\"total_claims\"] = claims_predict"
   ]
  },
  {
   "cell_type": "code",
   "execution_count": null,
   "id": "554c78be",
   "metadata": {},
   "outputs": [],
   "source": [
    "X['uu_id'] = label[X[\"uu_id\"]]"
   ]
  },
  {
   "cell_type": "code",
   "execution_count": null,
   "id": "78cc0bc0",
   "metadata": {},
   "outputs": [],
   "source": [
    "for col in X.columns[2:]:\n",
    "    li = []\n",
    "    for i in prediction_list['uu_id']:\n",
    "        li.append(X.loc[X['uu_id'] == i, col].mean())\n",
    "    prediction_list[col] = li"
   ]
  },
  {
   "cell_type": "code",
   "execution_count": null,
   "id": "266b4cf8",
   "metadata": {},
   "outputs": [],
   "source": [
    "prediction_list"
   ]
  },
  {
   "cell_type": "code",
   "execution_count": null,
   "id": "cf013cbe",
   "metadata": {},
   "outputs": [],
   "source": [
    "prediction_list"
   ]
  },
  {
   "cell_type": "code",
   "execution_count": null,
   "id": "f91e6668",
   "metadata": {},
   "outputs": [],
   "source": [
    "X['uu_id'] = label[X[\"uu_id\"]]\n",
    "X"
   ]
  },
  {
   "cell_type": "code",
   "execution_count": null,
   "id": "78adcb79",
   "metadata": {},
   "outputs": [],
   "source": [
    "X['uu_id'] = label[X[\"uu_id\"]]\n",
    "X"
   ]
  },
  {
   "cell_type": "code",
   "execution_count": null,
   "id": "d22d3ad8",
   "metadata": {},
   "outputs": [],
   "source": [
    "for col in X.columns[2:]:\n",
    "    li = []\n",
    "    for i in prediction_list['uu_id']:\n",
    "        li.append(X.loc[X['uu_id'] == i, col].mean())\n",
    "    prediction_list[col] = li"
   ]
  },
  {
   "cell_type": "code",
   "execution_count": null,
   "id": "2f8cb2bd",
   "metadata": {},
   "outputs": [],
   "source": [
    "prediction_list"
   ]
  },
  {
   "cell_type": "code",
   "execution_count": null,
   "id": "e5c8dcfa",
   "metadata": {},
   "outputs": [],
   "source": [
    "for col in X.columns[1:]:\n",
    "    li = []\n",
    "    for i in prediction_list['uu_id']:\n",
    "        li.append(X.loc[X['uu_id'] == i, col].mean())\n",
    "    prediction_list[col] = li"
   ]
  },
  {
   "cell_type": "code",
   "execution_count": null,
   "id": "c9176058",
   "metadata": {},
   "outputs": [],
   "source": [
    "prediction_list"
   ]
  },
  {
   "cell_type": "code",
   "execution_count": null,
   "id": "557ccd14",
   "metadata": {},
   "outputs": [],
   "source": [
    "for col in X.columns[10:]:\n",
    "    li = []\n",
    "    for i in prediction_list['uu_id']:\n",
    "        li.append(X.loc[X['uu_id'] == i, col].mean())\n",
    "    prediction_list[col] = li"
   ]
  },
  {
   "cell_type": "code",
   "execution_count": null,
   "id": "7c21ecb1",
   "metadata": {},
   "outputs": [],
   "source": [
    "prediction_list"
   ]
  },
  {
   "cell_type": "code",
   "execution_count": null,
   "id": "b1cf048d",
   "metadata": {},
   "outputs": [],
   "source": [
    "for col in X.columns[2:]:\n",
    "    li = []\n",
    "    for i in prediction_list['uu_id']:\n",
    "        li.append(X.loc[X['uu_id'] == i, col].mean())\n",
    "    prediction_list[col] = li"
   ]
  },
  {
   "cell_type": "code",
   "execution_count": null,
   "id": "a9e05a2e",
   "metadata": {},
   "outputs": [],
   "source": [
    "prediction_list"
   ]
  },
  {
   "cell_type": "code",
   "execution_count": null,
   "id": "190596bc",
   "metadata": {},
   "outputs": [],
   "source": [
    "for col in X.columns[2:]:\n",
    "    li = []\n",
    "    for i in prediction_list['uu_id']:\n",
    "        li.append(X.loc[X['uu_id'] == i, col].mean())\n",
    "    pred_list[col] = li\n",
    "prediction_list"
   ]
  },
  {
   "cell_type": "code",
   "execution_count": null,
   "id": "b799eeb2",
   "metadata": {},
   "outputs": [],
   "source": [
    "for col in X.columns[2:]:\n",
    "    li = []\n",
    "    for i in prediction_list['uu_id']:\n",
    "        li.append(X.loc[X['uu_id'] == i, col].mean())\n",
    "    prediction_list[col] = li\n",
    "prediction_list"
   ]
  },
  {
   "cell_type": "code",
   "execution_count": null,
   "id": "83a55dbe",
   "metadata": {},
   "outputs": [],
   "source": [
    "prediction_list['uu_id'] = prediction_list['uu_id'].factorize(sort=True)[0]"
   ]
  },
  {
   "cell_type": "code",
   "execution_count": null,
   "id": "28ae865f",
   "metadata": {},
   "outputs": [],
   "source": [
    "claims_predict = rf.predict(prediction_list)\n",
    "claims_predict"
   ]
  },
  {
   "cell_type": "code",
   "execution_count": null,
   "id": "e53909fc",
   "metadata": {},
   "outputs": [],
   "source": [
    "submission_df = pd.DataFrame()"
   ]
  },
  {
   "cell_type": "code",
   "execution_count": null,
   "id": "cf40890a",
   "metadata": {},
   "outputs": [],
   "source": [
    "submission_df[\"uu_id\"] = prediction_list[\"uu_id\"]\n",
    "submission_df[\"week_number\"] = prediction_list[\"week_number\"]\n",
    "submission_df[\"total_claims\"] = claims_predict"
   ]
  },
  {
   "cell_type": "code",
   "execution_count": null,
   "id": "3a5f2ae1",
   "metadata": {},
   "outputs": [],
   "source": [
    "submission_df"
   ]
  },
  {
   "cell_type": "code",
   "execution_count": null,
   "id": "08b1fe78",
   "metadata": {},
   "outputs": [],
   "source": [
    "prediction_list"
   ]
  },
  {
   "cell_type": "code",
   "execution_count": null,
   "id": "4ea9e72a",
   "metadata": {},
   "outputs": [],
   "source": [
    "prediction_list"
   ]
  },
  {
   "cell_type": "code",
   "execution_count": null,
   "id": "3492dc47",
   "metadata": {},
   "outputs": [],
   "source": [
    "for col in X.columns[2:]:\n",
    "    li = []\n",
    "    for i in prediction_list['uu_id']:\n",
    "        li.append(X.loc[X['uu_id'] == i, col].mean())\n",
    "    prediction_list[col] = li\n",
    "prediction_list"
   ]
  },
  {
   "cell_type": "code",
   "execution_count": null,
   "id": "37a540ee",
   "metadata": {},
   "outputs": [],
   "source": [
    "X['tract_name_x'] = X['tract_name_x'].factorize()[0]\n",
    "X['top_category_employer1'] = X['top_category_employer1'].factorize()[0]\n",
    "X['top_category_employer2'] = X['top_category_employer2'].factorize()[0]\n",
    "X['top_category_employer3'] = X['top_category_employer3'].factorize()[0]"
   ]
  },
  {
   "cell_type": "code",
   "execution_count": null,
   "id": "8182e005",
   "metadata": {},
   "outputs": [],
   "source": [
    "X_train, X_test, y_train, y_test = train_test_split(X, y, test_size=0.2, random_state=42)"
   ]
  },
  {
   "cell_type": "code",
   "execution_count": null,
   "id": "8ac06c25",
   "metadata": {
    "lines_to_next_cell": 2
   },
   "outputs": [],
   "source": [
    "from sklearn.ensemble import RandomForestRegressor\n",
    "rf = RandomForestRegressor(n_estimators=1000, random_state=42)\n",
    "rf.fit(X_train, y_train)"
   ]
  }
 ],
 "metadata": {
  "jupytext": {
   "cell_metadata_filter": "-all",
   "main_language": "python",
   "notebook_metadata_filter": "-all"
  }
 },
 "nbformat": 4,
 "nbformat_minor": 5
}
