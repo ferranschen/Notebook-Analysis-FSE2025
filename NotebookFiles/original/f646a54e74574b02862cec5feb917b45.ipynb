{
 "cells": [
  {
   "cell_type": "code",
   "execution_count": null,
   "id": "882d8c41",
   "metadata": {},
   "outputs": [],
   "source": [
    "get_ipython().system('pip install google-cloud-bigquery')\n",
    "get_ipython().system('pip install google-cloud-bigquery[pandas]')\n",
    "get_ipython().system('pip install db-dtypes')"
   ]
  },
  {
   "cell_type": "code",
   "execution_count": null,
   "id": "e7c383bf",
   "metadata": {},
   "outputs": [],
   "source": [
    "import pandas as pd\n",
    "import numpy as np\n",
    "import matplotlib\n",
    "import matplotlib.pyplot as plt\n",
    "import seaborn as sns\n",
    "get_ipython().run_line_magic('matplotlib', 'inline')"
   ]
  },
  {
   "cell_type": "code",
   "execution_count": null,
   "id": "1eb71f53",
   "metadata": {},
   "outputs": [],
   "source": [
    "import os\n",
    "from google.cloud import bigquery\n",
    "from google.oauth2 import service_account\n",
    "from google.cloud.bigquery import magics"
   ]
  },
  {
   "cell_type": "code",
   "execution_count": null,
   "id": "93c1830f",
   "metadata": {},
   "outputs": [],
   "source": [
    "BIGQUERY_PROJECT = 'ironhacks-data'\n",
    "bigquery_client = bigquery.Client(project=BIGQUERY_PROJECT)"
   ]
  },
  {
   "cell_type": "code",
   "execution_count": null,
   "id": "489f43c7",
   "metadata": {},
   "outputs": [],
   "source": [
    "query = \"\"\"\n",
    "SELECT *\n",
    "FROM `ironhacks-data.ironhacks_competition.unemployment_data`\n",
    "\"\"\""
   ]
  },
  {
   "cell_type": "code",
   "execution_count": null,
   "id": "5c4c9da0",
   "metadata": {},
   "outputs": [],
   "source": [
    "# QUERY THE DATA ONCE\n",
    "query_job = bigquery_client.query(query)\n",
    "data = query_job.to_dataframe()\n",
    "data['date']= pd.to_datetime(data['date'])\n",
    "data.head()"
   ]
  },
  {
   "cell_type": "code",
   "execution_count": null,
   "id": "e358c5a6",
   "metadata": {},
   "outputs": [],
   "source": [
    "query = \"\"\"\n",
    "SELECT *\n",
    "FROM `ironhacks-data.ironhacks_competition.unemployment_data`\n",
    "\"\"\""
   ]
  },
  {
   "cell_type": "code",
   "execution_count": null,
   "id": "f55f549e",
   "metadata": {},
   "outputs": [],
   "source": [
    "# QUERY THE DATA ONCE\n",
    "query_job = bigquery_client.query(query)\n",
    "data = query_job.to_dataframe()\n",
    "data['date']= pd.to_datetime(data['date'])\n",
    "data.head()"
   ]
  },
  {
   "cell_type": "code",
   "execution_count": null,
   "id": "950e7c6a",
   "metadata": {},
   "outputs": [],
   "source": [
    "query = \"\"\"\n",
    "SELECT *\n",
    "FROM `ironhacks-data.ironhacks_competition.unemployment_data`\n",
    "\"\"\""
   ]
  },
  {
   "cell_type": "code",
   "execution_count": null,
   "id": "8623221b",
   "metadata": {},
   "outputs": [],
   "source": [
    "# QUERY THE DATA ONCE\n",
    "query_job = bigquery_client.query(query)\n",
    "unemployment_data = query_job.to_dataframe()\n",
    "data.head(3)"
   ]
  },
  {
   "cell_type": "code",
   "execution_count": null,
   "id": "58e15609",
   "metadata": {},
   "outputs": [],
   "source": [
    "query = \"\"\"\n",
    "SELECT *\n",
    "FROM `ironhacks-data.ironhacks_competition.unemployment_data`\n",
    "\"\"\""
   ]
  },
  {
   "cell_type": "code",
   "execution_count": null,
   "id": "61e7e53f",
   "metadata": {},
   "outputs": [],
   "source": [
    "# QUERY THE DATA ONCE\n",
    "query_job = bigquery_client.query(query)\n",
    "unemployment_data = query_job.to_dataframe()\n",
    "data.head(1)"
   ]
  },
  {
   "cell_type": "code",
   "execution_count": null,
   "id": "4baca141",
   "metadata": {},
   "outputs": [],
   "source": [
    "query = \"\"\"\n",
    "SELECT *\n",
    "FROM `ironhacks-data.ironhacks_competition.unemployment_data`\n",
    "\"\"\""
   ]
  },
  {
   "cell_type": "code",
   "execution_count": null,
   "id": "956f1d11",
   "metadata": {},
   "outputs": [],
   "source": [
    "# QUERY THE DATA ONCE\n",
    "query_job = bigquery_client.query(query)\n",
    "unemployment_data = query_job.to_dataframe()\n",
    "data.head(5)"
   ]
  },
  {
   "cell_type": "code",
   "execution_count": null,
   "id": "5dcd1302",
   "metadata": {},
   "outputs": [],
   "source": [
    "query = \"\"\"\n",
    "SELECT *\n",
    "FROM `ironhacks-data.ironhacks_competition.wage_data`\n",
    "\"\"\""
   ]
  },
  {
   "cell_type": "code",
   "execution_count": null,
   "id": "75ce1e36",
   "metadata": {},
   "outputs": [],
   "source": [
    "# QUERY THE DATA ONCE\n",
    "query_job = bigquery_client.query(query)\n",
    "wage_data = query_job.to_dataframe()\n",
    "data.head(3)"
   ]
  },
  {
   "cell_type": "code",
   "execution_count": null,
   "id": "f5164798",
   "metadata": {},
   "outputs": [],
   "source": [
    "query = \"\"\"\n",
    "SELECT *\n",
    "FROM `ironhacks-data.ironhacks_competition.unemployment_data`\n",
    "\"\"\""
   ]
  },
  {
   "cell_type": "code",
   "execution_count": null,
   "id": "912489be",
   "metadata": {},
   "outputs": [],
   "source": [
    "# QUERY THE DATA ONCE\n",
    "query_job = bigquery_client.query(query)\n",
    "unemployment_data = query_job.to_dataframe()\n",
    "unemployment_data.head(3)"
   ]
  },
  {
   "cell_type": "code",
   "execution_count": null,
   "id": "ed19e38d",
   "metadata": {},
   "outputs": [],
   "source": [
    "query = \"\"\"\n",
    "SELECT *\n",
    "FROM `ironhacks-data.ironhacks_competition.wage_data`\n",
    "\"\"\""
   ]
  },
  {
   "cell_type": "code",
   "execution_count": null,
   "id": "965036f2",
   "metadata": {},
   "outputs": [],
   "source": [
    "# QUERY THE DATA ONCE\n",
    "query_job = bigquery_client.query(query)\n",
    "wage_data = query_job.to_dataframe()\n",
    "wage_data.head(3)"
   ]
  },
  {
   "cell_type": "code",
   "execution_count": null,
   "id": "03ea0eee",
   "metadata": {},
   "outputs": [],
   "source": [
    "query = \"\"\"\n",
    "SELECT *\n",
    "FROM `ironhacks-data.ironhacks_competition.prediction_list`\n",
    "\"\"\""
   ]
  },
  {
   "cell_type": "code",
   "execution_count": null,
   "id": "9a20605f",
   "metadata": {},
   "outputs": [],
   "source": [
    "# QUERY THE DATA ONCE\n",
    "query_job = bigquery_client.query(query)\n",
    "prediction_data = query_job.to_dataframe()\n",
    "prediction_data.head(3)"
   ]
  },
  {
   "cell_type": "code",
   "execution_count": null,
   "id": "8569d2f7",
   "metadata": {},
   "outputs": [],
   "source": [
    "query = \"\"\"\n",
    "SELECT *\n",
    "FROM `ironhacks-data.ironhacks_competition.INFORMATION_SCHEMA.TABLES`\n",
    "\"\"\""
   ]
  },
  {
   "cell_type": "code",
   "execution_count": null,
   "id": "894dfd51",
   "metadata": {},
   "outputs": [],
   "source": [
    "# QUERY THE DATA ONCE\n",
    "query_job = bigquery_client.query(query)\n",
    "unemployment_data = query_job.to_dataframe()\n",
    "unemployment_data.head(3)"
   ]
  },
  {
   "cell_type": "code",
   "execution_count": null,
   "id": "5924870c",
   "metadata": {},
   "outputs": [],
   "source": [
    "X = data.drop(\"total_claims\",1)   #Feature Matrix\n",
    "y = data[\"total_claims\"]          #Target Variable"
   ]
  },
  {
   "cell_type": "code",
   "execution_count": null,
   "id": "a484e097",
   "metadata": {},
   "outputs": [],
   "source": [
    "X = data.drop(\"total_claims\",1)   #Feature Matrix\n",
    "y = data[\"total_claims\"]          #Target Variable"
   ]
  },
  {
   "cell_type": "code",
   "execution_count": null,
   "id": "24333967",
   "metadata": {},
   "outputs": [],
   "source": [
    "X = data.drop(\"total_claims\")   #Feature Matrix\n",
    "y = data[\"total_claims\"]          #Target Variable"
   ]
  },
  {
   "cell_type": "code",
   "execution_count": null,
   "id": "30ae593c",
   "metadata": {},
   "outputs": [],
   "source": [
    "X = data.drop(\"total_claims\",1)   #Feature Matrix\n",
    "y = data[\"total_claims\"]          #Target Variable"
   ]
  },
  {
   "cell_type": "code",
   "execution_count": null,
   "id": "831fc770",
   "metadata": {},
   "outputs": [],
   "source": [
    "plt.figure(figsize=(12,10))\n",
    "cor = data.corr()\n",
    "sns.heatmap(cor, annot=True, cmap=plt.cm.Reds)\n",
    "plt.show()"
   ]
  },
  {
   "cell_type": "code",
   "execution_count": null,
   "id": "21949fef",
   "metadata": {},
   "outputs": [],
   "source": [
    "plt.figure(figsize=(20,10))\n",
    "cor = data.corr()\n",
    "sns.heatmap(cor, annot=True, cmap=plt.cm.Reds)\n",
    "plt.show()"
   ]
  },
  {
   "cell_type": "code",
   "execution_count": null,
   "id": "212fa3cb",
   "metadata": {},
   "outputs": [],
   "source": [
    "plt.figure(figsize=(20,20))\n",
    "cor = data.corr()\n",
    "sns.heatmap(cor, annot=True, cmap=plt.cm.Reds)\n",
    "plt.show()"
   ]
  },
  {
   "cell_type": "code",
   "execution_count": null,
   "id": "1bb1c67a",
   "metadata": {},
   "outputs": [],
   "source": [
    "plt.figure(figsize=(20,10))\n",
    "cor = data.corr()\n",
    "sns.heatmap(cor, annot=True, cmap=plt.cm.Reds)\n",
    "plt.show()"
   ]
  },
  {
   "cell_type": "code",
   "execution_count": null,
   "id": "4841a92e",
   "metadata": {},
   "outputs": [],
   "source": [
    "X = data.drop(\"total_claims\",1)   #Feature Matrix\n",
    "X = data.drop(\"week_number\",1)\n",
    "X = data.drop(\"countyfips\",1)\n",
    "X = data.drop(\"tract\",1)\n",
    "y = data[\"total_claims\"]          #Target Variable"
   ]
  },
  {
   "cell_type": "code",
   "execution_count": null,
   "id": "48c0e184",
   "metadata": {},
   "outputs": [],
   "source": [
    "plt.figure(figsize=(20,10))\n",
    "cor = data.corr()\n",
    "sns.heatmap(cor, annot=True, cmap=plt.cm.Reds)\n",
    "plt.show()"
   ]
  },
  {
   "cell_type": "code",
   "execution_count": null,
   "id": "d8fa97eb",
   "metadata": {},
   "outputs": [],
   "source": [
    "X = data.drop(\"total_claims\",1)   #Feature Matrix\n",
    "X = data.drop(\"week_number\",1)\n",
    "X = data.drop(\"countyfips\",1)\n",
    "X = data.drop(\"tract\",1)\n",
    "y = data[\"total_claims\"]          #Target Variable"
   ]
  },
  {
   "cell_type": "code",
   "execution_count": null,
   "id": "29b92724",
   "metadata": {},
   "outputs": [],
   "source": [
    "plt.figure(figsize=(20,10))\n",
    "cor = data.corr()\n",
    "sns.heatmap(cor, annot=True, cmap=plt.cm.Reds)\n",
    "plt.show()"
   ]
  },
  {
   "cell_type": "code",
   "execution_count": null,
   "id": "c2595ee4",
   "metadata": {},
   "outputs": [],
   "source": [
    "#Correlation with output variable\n",
    "cor_target = abs(cor[\"total_claims\"])\n",
    "#Selecting highly correlated features\n",
    "relevant_features = cor_target[cor_target>0.5]\n",
    "print(relevant_features)"
   ]
  },
  {
   "cell_type": "code",
   "execution_count": null,
   "id": "758897d9",
   "metadata": {},
   "outputs": [],
   "source": [
    "data.plot(subplots=True, figsize=(20,24))"
   ]
  },
  {
   "cell_type": "code",
   "execution_count": null,
   "id": "2d697e86",
   "metadata": {},
   "outputs": [],
   "source": [
    "X = data.drop(\"total_claims\",1)   #Feature Matrix\n",
    "Z = data.drop(\"week_number\",1)\n",
    "X = data.drop(\"countyfips\",1)\n",
    "X = data.drop(\"tract\",1)\n",
    "y = data[\"total_claims\"]          #Target Variable"
   ]
  },
  {
   "cell_type": "code",
   "execution_count": null,
   "id": "9fc199f2",
   "metadata": {},
   "outputs": [],
   "source": [
    "X = data.drop(\"total_claims\",1)   #Feature Matrix\n",
    "X = data.drop(\"week_number\",1)\n",
    "X = data.drop(\"countyfips\",1)\n",
    "X = data.drop(\"tract\",1)\n",
    "y = data[\"total_claims\"]          #Target Variable"
   ]
  },
  {
   "cell_type": "code",
   "execution_count": null,
   "id": "d6343d5c",
   "metadata": {},
   "outputs": [],
   "source": [
    "data.plot(subplots=False, figsize=(20,24))"
   ]
  },
  {
   "cell_type": "code",
   "execution_count": null,
   "id": "634d4753",
   "metadata": {},
   "outputs": [],
   "source": [
    "data.plot(subplots=True, figsize=(50,24))"
   ]
  },
  {
   "cell_type": "code",
   "execution_count": null,
   "id": "c3cc99c9",
   "metadata": {},
   "outputs": [],
   "source": [
    "data.plot(subplots=True, figsize=(100,24))"
   ]
  },
  {
   "cell_type": "code",
   "execution_count": null,
   "id": "e590cbb8",
   "metadata": {},
   "outputs": [],
   "source": [
    "data.plot(subplots=True, figsize=(30,24))"
   ]
  },
  {
   "cell_type": "code",
   "execution_count": null,
   "id": "a3ae3a69",
   "metadata": {},
   "outputs": [],
   "source": [
    "data.plot(subplots=True, figsize=(30,5))"
   ]
  },
  {
   "cell_type": "code",
   "execution_count": null,
   "id": "4ae671d9",
   "metadata": {},
   "outputs": [],
   "source": [
    "data.plot(subplots=True, figsize=(30,30))"
   ]
  },
  {
   "cell_type": "code",
   "execution_count": null,
   "id": "428370bb",
   "metadata": {},
   "outputs": [],
   "source": [
    "data.plot(subplots=True, figsize=(20,30))"
   ]
  },
  {
   "cell_type": "code",
   "execution_count": null,
   "id": "26603d7d",
   "metadata": {},
   "outputs": [],
   "source": [
    "data.plot(subplots=True, figsize=(20,40))"
   ]
  },
  {
   "cell_type": "code",
   "execution_count": null,
   "id": "6ee3a9b0",
   "metadata": {},
   "outputs": [],
   "source": [
    "X = data.drop(\"total_claims\",1)   #Feature Matrix\n",
    "X = data.drop(\"week_number\",1)\n",
    "X = data.drop(\"countyfips\",1)\n",
    "X = data.drop(\"tract\",1)\n",
    "y = data[\"total_claims\"]          #Target Variable"
   ]
  },
  {
   "cell_type": "code",
   "execution_count": null,
   "id": "e4c66151",
   "metadata": {},
   "outputs": [],
   "source": [
    "plt.figure(figsize=(20,10))\n",
    "cor = data.corr()\n",
    "sns.heatmap(cor, annot=True, cmap=plt.cm.Reds)\n",
    "plt.show()"
   ]
  },
  {
   "cell_type": "code",
   "execution_count": null,
   "id": "715b7dd1",
   "metadata": {},
   "outputs": [],
   "source": [
    "#Correlation with output variable\n",
    "cor_target = abs(cor[\"total_claims\"])\n",
    "#Selecting highly correlated features\n",
    "relevant_features = cor_target[cor_target>0.5]\n",
    "print(relevant_features)"
   ]
  },
  {
   "cell_type": "code",
   "execution_count": null,
   "id": "6f74bdf9",
   "metadata": {},
   "outputs": [],
   "source": [
    "data.plot(subplots=True, figsize=(20,40))"
   ]
  },
  {
   "cell_type": "code",
   "execution_count": null,
   "id": "9b050725",
   "metadata": {},
   "outputs": [],
   "source": [
    "min(data['date']),max(data['date'])"
   ]
  },
  {
   "cell_type": "code",
   "execution_count": null,
   "id": "619a2f2d",
   "metadata": {},
   "outputs": [],
   "source": [
    "min(data['date']), max(data['date'])"
   ]
  },
  {
   "cell_type": "code",
   "execution_count": null,
   "id": "3b20c6cf",
   "metadata": {},
   "outputs": [],
   "source": [
    "min(data['week_number']), max(data['week_number'])"
   ]
  },
  {
   "cell_type": "code",
   "execution_count": null,
   "id": "150ff757",
   "metadata": {},
   "outputs": [],
   "source": [
    "data.dtypes"
   ]
  },
  {
   "cell_type": "code",
   "execution_count": null,
   "id": "b9297528",
   "metadata": {},
   "outputs": [],
   "source": [
    "data = data.set_index('week_number')"
   ]
  },
  {
   "cell_type": "code",
   "execution_count": null,
   "id": "aba87517",
   "metadata": {},
   "outputs": [],
   "source": [
    "data.index"
   ]
  },
  {
   "cell_type": "code",
   "execution_count": null,
   "id": "6703b025",
   "metadata": {},
   "outputs": [],
   "source": [
    "data['Year'] = data.index.year\n",
    "data['Month'] = data.index.month\n",
    "# Display a random sampling of 5 rows\n",
    "data.sample(5, random_state=0)"
   ]
  },
  {
   "cell_type": "code",
   "execution_count": null,
   "id": "58088545",
   "metadata": {},
   "outputs": [],
   "source": [
    "# Display a random sampling of 5 rows\n",
    "data.sample(5, random_state=0)"
   ]
  },
  {
   "cell_type": "code",
   "execution_count": null,
   "id": "d2995ef0",
   "metadata": {
    "lines_to_next_cell": 2
   },
   "outputs": [],
   "source": [
    "# Display a random sampling of 5 rows\n",
    "data.sample(5, random_state=0)"
   ]
  }
 ],
 "metadata": {
  "jupytext": {
   "cell_metadata_filter": "-all",
   "main_language": "python",
   "notebook_metadata_filter": "-all"
  }
 },
 "nbformat": 4,
 "nbformat_minor": 5
}
