{
 "cells": [
  {
   "cell_type": "code",
   "execution_count": null,
   "id": "b0040887",
   "metadata": {},
   "outputs": [],
   "source": [
    "param_dict_copy=param_dict\n",
    "seasonal_dict_copy=seasonal_dict\n",
    "result_dict_copy=result_dict"
   ]
  },
  {
   "cell_type": "code",
   "execution_count": null,
   "id": "b985eae7",
   "metadata": {},
   "outputs": [],
   "source": [
    "get_ipython().run_cell_magic('capture', 'cont', '!pip install db-dtypes\\n')"
   ]
  },
  {
   "cell_type": "code",
   "execution_count": null,
   "id": "b4e57037",
   "metadata": {},
   "outputs": [],
   "source": [
    "cont.show()"
   ]
  },
  {
   "cell_type": "code",
   "execution_count": null,
   "id": "48da3192",
   "metadata": {},
   "outputs": [],
   "source": [
    "import pandas as pd\n",
    "import numpy as np\n",
    "import matplotlib\n",
    "import matplotlib.pyplot as plt\n",
    "import seaborn as sns\n",
    "get_ipython().run_line_magic('matplotlib', 'inline')"
   ]
  },
  {
   "cell_type": "code",
   "execution_count": null,
   "id": "bd9a5626",
   "metadata": {},
   "outputs": [],
   "source": [
    "import os\n",
    "from google.cloud import bigquery\n",
    "from google.oauth2 import service_account\n",
    "from google.cloud.bigquery import magics"
   ]
  },
  {
   "cell_type": "code",
   "execution_count": null,
   "id": "1668db9d",
   "metadata": {},
   "outputs": [],
   "source": [
    "import statsmodels.api as sm\n",
    "import itertools"
   ]
  },
  {
   "cell_type": "markdown",
   "id": "a2c3fc9d",
   "metadata": {},
   "source": [
    "CONFIGURE THE BIGQUERY SETTINGS"
   ]
  },
  {
   "cell_type": "code",
   "execution_count": null,
   "id": "5af5617b",
   "metadata": {},
   "outputs": [],
   "source": [
    "BIGQUERY_PROJECT = 'ironhacks-data'\n",
    "bigquery_client = bigquery.Client(project=BIGQUERY_PROJECT)"
   ]
  },
  {
   "cell_type": "code",
   "execution_count": null,
   "id": "47a9c9c3",
   "metadata": {},
   "outputs": [],
   "source": [
    "#obtaining the unemployment data\n",
    "query = \"\"\"\n",
    "SELECT *\n",
    "FROM `ironhacks-data.ironhacks_competition.unemployment_data`\n",
    "\"\"\""
   ]
  },
  {
   "cell_type": "code",
   "execution_count": null,
   "id": "bda6430f",
   "metadata": {},
   "outputs": [],
   "source": [
    "# QUERY THE DATA ONCE\n",
    "query_job = bigquery_client.query(query)\n",
    "data = query_job.to_dataframe()\n",
    "#data['date']= pd.to_datetime(data['date'])\n",
    "data.head()"
   ]
  },
  {
   "cell_type": "code",
   "execution_count": null,
   "id": "71ec9efa",
   "metadata": {},
   "outputs": [],
   "source": [
    "#obtaining the submission file\n",
    "query = \"\"\"\n",
    "SELECT *\n",
    "FROM `ironhacks-data.ironhacks_competition.prediction_list`\n",
    "\"\"\""
   ]
  },
  {
   "cell_type": "code",
   "execution_count": null,
   "id": "97392545",
   "metadata": {},
   "outputs": [],
   "source": [
    "# QUERY THE DATA ONCE\n",
    "query_job = bigquery_client.query(query)\n",
    "submit = query_job.to_dataframe()\n",
    "#data['date']= pd.to_datetime(data['date'])\n",
    "submit.head()"
   ]
  },
  {
   "cell_type": "code",
   "execution_count": null,
   "id": "ea337332",
   "metadata": {},
   "outputs": [],
   "source": [
    "data.info()   #Feature Matrix\n",
    "#X = data.drop(\"date\",1)\n",
    "#y = data[\"wind_speed\"]          #Target Variable"
   ]
  },
  {
   "cell_type": "code",
   "execution_count": null,
   "id": "80fdf19b",
   "metadata": {},
   "outputs": [],
   "source": [
    "submit.info()"
   ]
  },
  {
   "cell_type": "markdown",
   "id": "dc734246",
   "metadata": {},
   "source": [
    "dropping duplicate rows in the data"
   ]
  },
  {
   "cell_type": "code",
   "execution_count": null,
   "id": "38e1d02b",
   "metadata": {},
   "outputs": [],
   "source": [
    "data.drop_duplicates(inplace=True, ignore_index=True)\n",
    "data.info()"
   ]
  },
  {
   "cell_type": "markdown",
   "id": "1c3d52cf",
   "metadata": {},
   "source": [
    "unique number of ID in the data"
   ]
  },
  {
   "cell_type": "code",
   "execution_count": null,
   "id": "1d84e3ac",
   "metadata": {},
   "outputs": [],
   "source": [
    "data.uu_id.unique().size"
   ]
  },
  {
   "cell_type": "markdown",
   "id": "e95690d1",
   "metadata": {},
   "source": [
    "replace all na values with 0"
   ]
  },
  {
   "cell_type": "code",
   "execution_count": null,
   "id": "98914267",
   "metadata": {},
   "outputs": [],
   "source": [
    "data.fillna(0, inplace=True)"
   ]
  },
  {
   "cell_type": "code",
   "execution_count": null,
   "id": "9b0dead9",
   "metadata": {},
   "outputs": [],
   "source": [
    "data.info()"
   ]
  },
  {
   "cell_type": "markdown",
   "id": "69ba67d0",
   "metadata": {},
   "source": [
    "number of weeks in the data for a random ID"
   ]
  },
  {
   "cell_type": "code",
   "execution_count": null,
   "id": "8a03b4d6",
   "metadata": {},
   "outputs": [],
   "source": [
    "test=data[data['uu_id']=='bbcb018f0e5e49e13636f6e78ce9f60f']\n",
    "len(test)"
   ]
  },
  {
   "cell_type": "markdown",
   "id": "7fedc538",
   "metadata": {},
   "source": [
    "convert the timeperiod column to datetime"
   ]
  },
  {
   "cell_type": "code",
   "execution_count": null,
   "id": "649f7ff4",
   "metadata": {},
   "outputs": [],
   "source": [
    "data['timeperiod']= pd.to_datetime(data['timeperiod'], format='%Y%m%d')"
   ]
  },
  {
   "cell_type": "code",
   "execution_count": null,
   "id": "c068df1a",
   "metadata": {},
   "outputs": [],
   "source": [
    "plt.figure(figsize=(12,10))\n",
    "cor = data.corr()\n",
    "sns.heatmap(cor,  cmap=plt.cm.Reds)\n",
    "plt.show()"
   ]
  },
  {
   "cell_type": "code",
   "execution_count": null,
   "id": "1c8be2a8",
   "metadata": {},
   "outputs": [],
   "source": [
    "#Correlation with output variable\n",
    "cor_target = abs(cor[\"total_claims\"])\n",
    "#Selecting highly correlated features\n",
    "relevant_features = cor_target[cor_target>0.2]\n",
    "print(relevant_features)"
   ]
  },
  {
   "cell_type": "code",
   "execution_count": null,
   "id": "a4484aea",
   "metadata": {},
   "outputs": [],
   "source": [
    "columns_rel = relevant_features.index.to_list()"
   ]
  },
  {
   "cell_type": "code",
   "execution_count": null,
   "id": "7de4edd2",
   "metadata": {},
   "outputs": [],
   "source": [
    "data.plot(subplots=True, figsize=(20,24))"
   ]
  },
  {
   "cell_type": "code",
   "execution_count": null,
   "id": "da06b439",
   "metadata": {},
   "outputs": [],
   "source": [
    "min(data['timeperiod']),max(data['timeperiod'])"
   ]
  },
  {
   "cell_type": "code",
   "execution_count": null,
   "id": "0251edfe",
   "metadata": {},
   "outputs": [],
   "source": [
    "data.dtypes"
   ]
  },
  {
   "cell_type": "markdown",
   "id": "668b6dd5",
   "metadata": {},
   "source": [
    "data = data.set_index('timeperiod')"
   ]
  },
  {
   "cell_type": "code",
   "execution_count": null,
   "id": "e1206bf8",
   "metadata": {},
   "outputs": [],
   "source": [
    "data.index"
   ]
  },
  {
   "cell_type": "markdown",
   "id": "258ee8dd",
   "metadata": {},
   "source": [
    "data['Year'] = data.index.year\n",
    "data['Month'] = data.index.month\n",
    "data['Day'] = data.index.day\n",
    "Display a random sampling of 5 rows\n",
    "data.sample(5, random_state=0)"
   ]
  },
  {
   "cell_type": "code",
   "execution_count": null,
   "id": "92016b21",
   "metadata": {},
   "outputs": [],
   "source": [
    "sns.set(rc={'figure.figsize':(11, 4)})"
   ]
  },
  {
   "cell_type": "code",
   "execution_count": null,
   "id": "264dc039",
   "metadata": {},
   "outputs": [],
   "source": [
    "data['total_claims'].plot(linewidth=.5);"
   ]
  },
  {
   "cell_type": "code",
   "execution_count": null,
   "id": "b4f5c713",
   "metadata": {},
   "outputs": [],
   "source": [
    "cols_plot = ['week_number','countyfips','tract','total_claims','edu_8th_or_less','edu_grades_9_11','edu_hs_grad_equiv','edu_post_hs',\n",
    "            'edu_unknown', 'gender_female', 'gender_male', 'gender_na', 'race_amerindian', 'race_asian', 'race_black', 'race_noanswer', \n",
    "            'race_hawaiiannative', 'race_other', 'race_white']\n",
    "axes = data[cols_plot].plot(marker='.', alpha=0.5, linestyle='None', figsize=(30, 25), subplots=True)\n",
    "for ax in axes:\n",
    "    ax.set_ylabel('features')"
   ]
  },
  {
   "cell_type": "markdown",
   "id": "23f357cb",
   "metadata": {},
   "source": [
    "import matplotlib.dates as mdates\n",
    "fig, ax = plt.subplots()\n",
    "ax.plot(data.loc['2019-08':'2019-12', 'precipitation_data'], marker='o', linestyle='-')\n",
    "ax.set_ylabel('Precipitation')\n",
    "ax.set_title('Aug 2019-2020 Precipiation Data')"
   ]
  },
  {
   "cell_type": "code",
   "execution_count": null,
   "id": "188d4954",
   "metadata": {},
   "outputs": [],
   "source": [
    "#fig, axes = plt.subplots(3, 1, figsize=(11, 10), sharex=True)\n",
    "#for name, ax in zip(['precipitation_data', 'min_temperature', 'max_temperature'], axes):\n",
    "#    sns.boxplot(data=data, x='Month', y=name, ax=ax)\n",
    "#    ax.set_ylabel('precipitation')\n",
    "#    ax.set_title(name)\n",
    "    # Remove the automatic x-axis label from all but the bottom subplot\n",
    "#    if ax != axes[-1]:\n",
    "#        ax.set_xlabel('')"
   ]
  },
  {
   "cell_type": "markdown",
   "id": "16bebd2e",
   "metadata": {},
   "source": [
    "sns.boxplot(data=data, x='Month', y='total_claims');"
   ]
  },
  {
   "cell_type": "markdown",
   "id": "9f2f2203",
   "metadata": {},
   "source": [
    "from statsmodels.graphics.tsaplots import plot_acf\n",
    "plot_acf(x=data['max_temperature'], lags=50)"
   ]
  },
  {
   "cell_type": "code",
   "execution_count": null,
   "id": "b167e5a0",
   "metadata": {},
   "outputs": [],
   "source": [
    "columns_rel.append('timeperiod')\n",
    "columns_rel.append('uu_id')\n",
    "columns_rel"
   ]
  },
  {
   "cell_type": "code",
   "execution_count": null,
   "id": "4ae4c7e3",
   "metadata": {},
   "outputs": [],
   "source": [
    "data"
   ]
  },
  {
   "cell_type": "code",
   "execution_count": null,
   "id": "01dc199d",
   "metadata": {},
   "outputs": [],
   "source": [
    "data_arima=data[columns_rel]\n",
    "data_arima"
   ]
  },
  {
   "cell_type": "code",
   "execution_count": null,
   "id": "5300cb72",
   "metadata": {},
   "outputs": [],
   "source": [
    "get_ipython().run_cell_magic('capture', '', \"unique_id=list(data_arima['uu_id'].unique())\\ndata_dict = {}\\n\\nfor i in unique_id:\\n    j = data_arima[data_arima['uu_id']==i].groupby('timeperiod')['total_claims'].sum().reset_index()\\n    j = j.set_index('timeperiod')\\n    data_dict[i] = j\\n\")"
   ]
  },
  {
   "cell_type": "markdown",
   "id": "aec9496c",
   "metadata": {},
   "source": [
    "data_arima = data_arima.groupby('uu_id')[['total_claims', 'timeperiod','uu_id']]\n",
    "data_arima.head()"
   ]
  },
  {
   "cell_type": "markdown",
   "id": "e9e0e295",
   "metadata": {},
   "source": [
    "data_arima_2 = data_arima.set_index('timeperiod')\n",
    "data_arima.index"
   ]
  },
  {
   "cell_type": "code",
   "execution_count": null,
   "id": "338de9d5",
   "metadata": {},
   "outputs": [],
   "source": [
    "p = d = q = range(0, 2)\n",
    "pdq = list(itertools.product(p, d, q))\n",
    "seasonal_pdq = [(x[0], x[1], x[2], 12) for x in list(itertools.product(p, d, q))]\n",
    "print('Examples of parameter combinations for Seasonal ARIMA...')\n",
    "print('SARIMAX: {} x {}'.format(pdq[1], seasonal_pdq[1]))\n",
    "print('SARIMAX: {} x {}'.format(pdq[1], seasonal_pdq[2]))\n",
    "print('SARIMAX: {} x {}'.format(pdq[2], seasonal_pdq[3]))\n",
    "print('SARIMAX: {} x {}'.format(pdq[2], seasonal_pdq[4]))"
   ]
  },
  {
   "cell_type": "code",
   "execution_count": null,
   "id": "f5293d18",
   "metadata": {},
   "outputs": [],
   "source": [
    "import warnings\n",
    "warnings.filterwarnings(\"ignore\")"
   ]
  },
  {
   "cell_type": "code",
   "execution_count": null,
   "id": "70f77948",
   "metadata": {},
   "outputs": [],
   "source": [
    "results = {}\n",
    "for key in data_dict:\n",
    "    y=data_dict[key]['total_claims']\n",
    "    mod = sm.tsa.statespace.SARIMAX(y.astype(float),\n",
    "                                order=(1,0,1),\n",
    "                                seasonal_order=(1,1,1,12),\n",
    "                                enforce_stationarity=False,\n",
    "                                enforce_invertibility=False)\n",
    "    results[key] = mod.fit(disp=False)\n",
    "    #print(results.summary().tables[1])"
   ]
  },
  {
   "cell_type": "code",
   "execution_count": null,
   "id": "5b012005",
   "metadata": {},
   "outputs": [],
   "source": [
    "results = {}\n",
    "for key in data_dict:\n",
    "    y=data_dict[key]['total_claims']\n",
    "    mod = sm.tsa.statespace.SARIMAX(y.astype(float),\n",
    "                                order=(1,1,1),\n",
    "                                seasonal_order=(1,1,1,12),\n",
    "                                enforce_stationarity=False,\n",
    "                                enforce_invertibility=False)\n",
    "    results[key] = mod.fit(disp=False)\n",
    "    #print(results.summary().tables[1])"
   ]
  },
  {
   "cell_type": "code",
   "execution_count": null,
   "id": "1f26e2f8",
   "metadata": {},
   "outputs": [],
   "source": [
    "results = {}\n",
    "for key in data_dict:\n",
    "    y=data_dict[key]['total_claims']\n",
    "    mod = sm.tsa.statespace.SARIMAX(y.astype(float),\n",
    "                                order=(1,1,1),\n",
    "                                seasonal_order=(1,1,0,12),\n",
    "                                enforce_stationarity=False,\n",
    "                                enforce_invertibility=False)\n",
    "    results[key] = mod.fit(disp=False)\n",
    "    #print(results.summary().tables[1])"
   ]
  },
  {
   "cell_type": "code",
   "execution_count": null,
   "id": "53de7f51",
   "metadata": {},
   "outputs": [],
   "source": [
    "results = {}\n",
    "for key in data_dict:\n",
    "    y=data_dict[key]['total_claims']\n",
    "    mod = sm.tsa.statespace.SARIMAX(y.astype(float),\n",
    "                                order=(1,0,1),\n",
    "                                seasonal_order=(1,1,0,12),\n",
    "                                enforce_stationarity=False,\n",
    "                                enforce_invertibility=False)\n",
    "    results[key] = mod.fit(disp=False)\n",
    "    #print(results.summary().tables[1])"
   ]
  },
  {
   "cell_type": "code",
   "execution_count": null,
   "id": "5d35e24e",
   "metadata": {},
   "outputs": [],
   "source": [
    "results = {}\n",
    "for key in data_dict:\n",
    "    y=data_dict[key]['total_claims']\n",
    "    mod = sm.tsa.statespace.SARIMAX(y.astype(float),\n",
    "                                order=(1,0,1),\n",
    "                                seasonal_order=(0,1,0,12),\n",
    "                                enforce_stationarity=False,\n",
    "                                enforce_invertibility=False)\n",
    "    results[key] = mod.fit(disp=False)\n",
    "    #print(results.summary().tables[1])"
   ]
  },
  {
   "cell_type": "code",
   "execution_count": null,
   "id": "62ffbc6f",
   "metadata": {},
   "outputs": [],
   "source": [
    "results = {}\n",
    "for key in data_dict:\n",
    "    y=data_dict[key]['total_claims']\n",
    "    mod = sm.tsa.statespace.SARIMAX(y.astype(float),\n",
    "                                order=(1,0,1),\n",
    "                                seasonal_order=(0,1,1,12),\n",
    "                                enforce_stationarity=False,\n",
    "                                enforce_invertibility=False)\n",
    "    results[key] = mod.fit(disp=False)\n",
    "    #print(results.summary().tables[1])"
   ]
  },
  {
   "cell_type": "code",
   "execution_count": null,
   "id": "64d0daab",
   "metadata": {},
   "outputs": [],
   "source": [
    "results = {}\n",
    "for key in data_dict:\n",
    "    y=data_dict[key]['total_claims']\n",
    "    mod = sm.tsa.statespace.SARIMAX(y.astype(float),\n",
    "                                order=(1,1,0),\n",
    "                                seasonal_order=(1,1,1,12),\n",
    "                                enforce_stationarity=False,\n",
    "                                enforce_invertibility=False)\n",
    "    results[key] = mod.fit(disp=False)\n",
    "    #print(results.summary().tables[1])"
   ]
  },
  {
   "cell_type": "code",
   "execution_count": null,
   "id": "bfcfca41",
   "metadata": {},
   "outputs": [],
   "source": [
    "results = {}\n",
    "for key in data_dict:\n",
    "    y=data_dict[key]['total_claims']\n",
    "    mod = sm.tsa.statespace.SARIMAX(y.astype(float),\n",
    "                                order=(1,0,0),\n",
    "                                seasonal_order=(1,1,1,12),\n",
    "                                enforce_stationarity=False,\n",
    "                                enforce_invertibility=False)\n",
    "    results[key] = mod.fit(disp=False)\n",
    "    #print(results.summary().tables[1])"
   ]
  },
  {
   "cell_type": "code",
   "execution_count": null,
   "id": "bb4741a4",
   "metadata": {},
   "outputs": [],
   "source": [
    "result_dict = {}\n",
    "param_dict = {}\n",
    "seasonal_dict = {}\n",
    "for key in data_dict:\n",
    "    y=data_dict[key]['total_claims']\n",
    "    for param in pdq:\n",
    "        for param_seasonal in seasonal_pdq:\n",
    "            \n",
    "            try:\n",
    "                \n",
    "                mod = sm.tsa.statespace.SARIMAX(y.astype(float),\n",
    "                                                order=param,\n",
    "                                                seasonal_order=param_seasonal,\n",
    "                                                enforce_stationarity=False,\n",
    "                                                enforce_invertibility=False)\n",
    "                result_dict[key] = mod.fit(disp=False)\n",
    "                #print('ARIMA{}x{}12 - AIC:{}'.format(param, param_seasonal, result_dict[key].aic))\n",
    "                param_dict[key]=param\n",
    "                seasonal_dict[key]=param_seasonal\n",
    "            except:\n",
    "                continue"
   ]
  },
  {
   "cell_type": "code",
   "execution_count": null,
   "id": "176a223e",
   "metadata": {},
   "outputs": [],
   "source": [
    "param_dict_copy=param_dict\n",
    "seasonal_dict_copy=seasonal_dict\n",
    "result_dict_copy=result_dict"
   ]
  },
  {
   "cell_type": "code",
   "execution_count": null,
   "id": "1d9776d8",
   "metadata": {},
   "outputs": [],
   "source": [
    "len(result_dict)"
   ]
  },
  {
   "cell_type": "code",
   "execution_count": null,
   "id": "76886249",
   "metadata": {},
   "outputs": [],
   "source": [
    "param_dict_copy.to_csv(index=False)"
   ]
  },
  {
   "cell_type": "code",
   "execution_count": null,
   "id": "c0e659e0",
   "metadata": {},
   "outputs": [],
   "source": [
    "pd.DataFrame(param_dict_copy).to_csv(index=False)"
   ]
  },
  {
   "cell_type": "code",
   "execution_count": null,
   "id": "f1333a82",
   "metadata": {},
   "outputs": [],
   "source": [
    "pd.DataFrame(param_dict_copy).to_csv('./param.csv',index=False)"
   ]
  },
  {
   "cell_type": "code",
   "execution_count": null,
   "id": "38ee1449",
   "metadata": {},
   "outputs": [],
   "source": [
    "pd.DataFrame(param_dict_copy).to_csv('./param.csv',index=False)\n",
    "pd.DataFrame(seasonal_dict_copy).to_csv('./seasonal.csv',index=False)"
   ]
  },
  {
   "cell_type": "code",
   "execution_count": null,
   "id": "404188eb",
   "metadata": {},
   "outputs": [],
   "source": [
    "data_dict.key()"
   ]
  },
  {
   "cell_type": "code",
   "execution_count": null,
   "id": "b097cc1a",
   "metadata": {},
   "outputs": [],
   "source": [
    "data_dict.keys()"
   ]
  },
  {
   "cell_type": "code",
   "execution_count": null,
   "id": "9c5969d8",
   "metadata": {},
   "outputs": [],
   "source": [
    "data_dict.keys()[:100]"
   ]
  },
  {
   "cell_type": "code",
   "execution_count": null,
   "id": "173fdaff",
   "metadata": {},
   "outputs": [],
   "source": [
    "list(data_dict.keys())"
   ]
  },
  {
   "cell_type": "code",
   "execution_count": null,
   "id": "718558e6",
   "metadata": {},
   "outputs": [],
   "source": [
    "list(data_dict.keys())[:100]"
   ]
  },
  {
   "cell_type": "code",
   "execution_count": null,
   "id": "0cd75ef8",
   "metadata": {},
   "outputs": [],
   "source": [
    "list(data_dict.keys())[:10]"
   ]
  },
  {
   "cell_type": "code",
   "execution_count": null,
   "id": "a4561a5c",
   "metadata": {},
   "outputs": [],
   "source": [
    "list(data_dict.keys())[:100]"
   ]
  },
  {
   "cell_type": "code",
   "execution_count": null,
   "id": "1557b72c",
   "metadata": {},
   "outputs": [],
   "source": [
    "hundred=list(data_dict.keys())[:100]"
   ]
  },
  {
   "cell_type": "code",
   "execution_count": null,
   "id": "f6ec8edc",
   "metadata": {},
   "outputs": [],
   "source": [
    "results = {}\n",
    "for key in hundred:\n",
    "    y=data_dict[key]['total_claims']\n",
    "    mod = sm.tsa.statespace.SARIMAX(y.astype(float),\n",
    "                                order=(1,1,1),\n",
    "                                seasonal_order=(1,1,1,12),\n",
    "                                enforce_stationarity=False,\n",
    "                                enforce_invertibility=False)\n",
    "    results[key] = mod.fit(disp=False)\n",
    "    #print(results.summary().tables[1])"
   ]
  },
  {
   "cell_type": "code",
   "execution_count": null,
   "id": "43b92703",
   "metadata": {},
   "outputs": [],
   "source": [
    "results = {}\n",
    "for key in hundred:\n",
    "    y=data_dict[key]['total_claims']\n",
    "    mod = sm.tsa.statespace.SARIMAX(y.astype(float),\n",
    "                                order=param_dict[key],\n",
    "                                seasonal_order=seasonal_dict[key],\n",
    "                                enforce_stationarity=False,\n",
    "                                enforce_invertibility=False)\n",
    "    results[key] = mod.fit(disp=False)\n",
    "    #print(results.summary().tables[1])"
   ]
  },
  {
   "cell_type": "code",
   "execution_count": null,
   "id": "5f5727bb",
   "metadata": {},
   "outputs": [],
   "source": [
    "results"
   ]
  },
  {
   "cell_type": "code",
   "execution_count": null,
   "id": "76ce3dfe",
   "metadata": {},
   "outputs": [],
   "source": [
    "hundred=list(data_dict.keys())[:100]\n",
    "two_hundred=list(data_dict.keys())[100:200]"
   ]
  },
  {
   "cell_type": "code",
   "execution_count": null,
   "id": "e9c53be1",
   "metadata": {},
   "outputs": [],
   "source": [
    "#results = {}\n",
    "for key in two_hundred:\n",
    "    y=data_dict[key]['total_claims']\n",
    "    mod = sm.tsa.statespace.SARIMAX(y.astype(float),\n",
    "                                order=param_dict[key],\n",
    "                                seasonal_order=seasonal_dict[key],\n",
    "                                enforce_stationarity=False,\n",
    "                                enforce_invertibility=False)\n",
    "    results[key] = mod.fit(disp=False)\n",
    "    #print(results.summary().tables[1])"
   ]
  },
  {
   "cell_type": "code",
   "execution_count": null,
   "id": "efb682b7",
   "metadata": {},
   "outputs": [],
   "source": [
    "len(results)"
   ]
  },
  {
   "cell_type": "code",
   "execution_count": null,
   "id": "8a5c0a4b",
   "metadata": {},
   "outputs": [],
   "source": [
    "hundred=list(data_dict.keys())[:100]\n",
    "two_hundred=list(data_dict.keys())[100:200]\n",
    "three_hundred=list(data_dict.keys())[200:300]"
   ]
  },
  {
   "cell_type": "code",
   "execution_count": null,
   "id": "e0668cab",
   "metadata": {},
   "outputs": [],
   "source": [
    "#results = {}\n",
    "for key in three_hundred:\n",
    "    y=data_dict[key]['total_claims']\n",
    "    mod = sm.tsa.statespace.SARIMAX(y.astype(float),\n",
    "                                order=param_dict[key],\n",
    "                                seasonal_order=seasonal_dict[key],\n",
    "                                enforce_stationarity=False,\n",
    "                                enforce_invertibility=False)\n",
    "    results[key] = mod.fit(disp=False)\n",
    "    #print(results.summary().tables[1])"
   ]
  },
  {
   "cell_type": "code",
   "execution_count": null,
   "id": "5a7cbeae",
   "metadata": {},
   "outputs": [],
   "source": [
    "len(results)"
   ]
  },
  {
   "cell_type": "code",
   "execution_count": null,
   "id": "57a2638f",
   "metadata": {},
   "outputs": [],
   "source": [
    "hundred=list(data_dict.keys())[:100]\n",
    "two_hundred=list(data_dict.keys())[100:200]\n",
    "three_hundred=list(data_dict.keys())[200:300]\n",
    "four_hundred=list(data_dict.keys())[300:400]"
   ]
  },
  {
   "cell_type": "code",
   "execution_count": null,
   "id": "9b869438",
   "metadata": {},
   "outputs": [],
   "source": [
    "#results = {}\n",
    "for key in four_hundred:\n",
    "    y=data_dict[key]['total_claims']\n",
    "    mod = sm.tsa.statespace.SARIMAX(y.astype(float),\n",
    "                                order=param_dict[key],\n",
    "                                seasonal_order=seasonal_dict[key],\n",
    "                                enforce_stationarity=False,\n",
    "                                enforce_invertibility=False)\n",
    "    results[key] = mod.fit(disp=False)\n",
    "    #print(results.summary().tables[1])"
   ]
  },
  {
   "cell_type": "code",
   "execution_count": null,
   "id": "5c519ade",
   "metadata": {},
   "outputs": [],
   "source": [
    "len(list(data_dict.keys())[500:])"
   ]
  },
  {
   "cell_type": "code",
   "execution_count": null,
   "id": "3137c962",
   "metadata": {},
   "outputs": [],
   "source": [
    "hundred=list(data_dict.keys())[:100]\n",
    "two_hundred=list(data_dict.keys())[100:200]\n",
    "three_hundred=list(data_dict.keys())[200:300]\n",
    "four_hundred=list(data_dict.keys())[300:400]\n",
    "five_hundred=list(data_dict.keys())[500:]"
   ]
  },
  {
   "cell_type": "code",
   "execution_count": null,
   "id": "98fe00b9",
   "metadata": {
    "lines_to_next_cell": 2
   },
   "outputs": [],
   "source": [
    "#results = {}\n",
    "for key in five_hundred:\n",
    "    y=data_dict[key]['total_claims']\n",
    "    mod = sm.tsa.statespace.SARIMAX(y.astype(float),\n",
    "                                order=param_dict[key],\n",
    "                                seasonal_order=seasonal_dict[key],\n",
    "                                enforce_stationarity=False,\n",
    "                                enforce_invertibility=False)\n",
    "    results[key] = mod.fit(disp=False)\n",
    "    #print(results.summary().tables[1])"
   ]
  }
 ],
 "metadata": {
  "jupytext": {
   "cell_metadata_filter": "-all",
   "main_language": "python",
   "notebook_metadata_filter": "-all"
  }
 },
 "nbformat": 4,
 "nbformat_minor": 5
}
