{
 "cells": [
  {
   "cell_type": "code",
   "execution_count": null,
   "id": "8d5e0319",
   "metadata": {},
   "outputs": [],
   "source": [
    "import os\n",
    "import pandas\n",
    "from google.cloud import bigquery\n",
    "from google.oauth2 import service_account\n",
    "from google.cloud.bigquery import magics"
   ]
  },
  {
   "cell_type": "code",
   "execution_count": null,
   "id": "ad231009",
   "metadata": {},
   "outputs": [],
   "source": [
    "BIGQUERY_PROJECT = 'ironhacks-data'\n",
    "bigquery_client = bigquery.Client(project=BIGQUERY_PROJECT)\n",
    "query = \"\"\"\n",
    "SELECT *\n",
    "FROM `ironhacks-data.ironhacks_competition.unemployment_data`\n",
    "ORDER BY week_number ASC\n",
    "\"\"\""
   ]
  },
  {
   "cell_type": "code",
   "execution_count": null,
   "id": "31aa5db2",
   "metadata": {},
   "outputs": [],
   "source": [
    "# QUERY THE DATA ONCE\n",
    "query_job = bigquery_client.query(query)\n",
    "unemployment_data = query_job.to_dataframe()\n",
    "print(unemployment_data)"
   ]
  },
  {
   "cell_type": "code",
   "execution_count": null,
   "id": "de9e8e6b",
   "metadata": {},
   "outputs": [],
   "source": [
    "import os\n",
    "import pandas\n",
    "from google.cloud import bigquery\n",
    "from google.oauth2 import service_account\n",
    "from google.cloud.bigquery import magics"
   ]
  },
  {
   "cell_type": "code",
   "execution_count": null,
   "id": "a4fc6e12",
   "metadata": {},
   "outputs": [],
   "source": [
    "BIGQUERY_PROJECT = 'ironhacks-data'\n",
    "bigquery_client = bigquery.Client(project=BIGQUERY_PROJECT)\n",
    "query = \"\"\"\n",
    "SELECT week_number, COUNT(total_claims) \n",
    "FROM `ironhacks-data.ironhacks_competition.unemployment_data`\n",
    "GROUP BY week_number\n",
    "ORDER BY week_number ASC\n",
    "\"\"\""
   ]
  },
  {
   "cell_type": "code",
   "execution_count": null,
   "id": "001c144a",
   "metadata": {},
   "outputs": [],
   "source": [
    "# QUERY THE DATA ONCE\n",
    "query_job = bigquery_client.query(query)\n",
    "unemployment_data = query_job.to_dataframe()\n",
    "print(unemployment_data)"
   ]
  },
  {
   "cell_type": "code",
   "execution_count": null,
   "id": "68170edc",
   "metadata": {},
   "outputs": [],
   "source": [
    "import os\n",
    "import pandas\n",
    "from google.cloud import bigquery\n",
    "from google.oauth2 import service_account\n",
    "from google.cloud.bigquery import magics"
   ]
  },
  {
   "cell_type": "code",
   "execution_count": null,
   "id": "3ca9a928",
   "metadata": {},
   "outputs": [],
   "source": [
    "BIGQUERY_PROJECT = 'ironhacks-data'\n",
    "bigquery_client = bigquery.Client(project=BIGQUERY_PROJECT)\n",
    "query = \"\"\"\n",
    "SELECT week_number, COUNT(total_claims) as total_claims\n",
    "FROM `ironhacks-data.ironhacks_competition.unemployment_data`\n",
    "GROUP BY week_number\n",
    "ORDER BY week_number ASC\n",
    "\"\"\""
   ]
  },
  {
   "cell_type": "code",
   "execution_count": null,
   "id": "0f71fe08",
   "metadata": {},
   "outputs": [],
   "source": [
    "# QUERY THE DATA ONCE\n",
    "query_job = bigquery_client.query(query)\n",
    "unemployment_data = query_job.to_dataframe()\n",
    "print(unemployment_data)"
   ]
  },
  {
   "cell_type": "code",
   "execution_count": null,
   "id": "039d32bb",
   "metadata": {},
   "outputs": [],
   "source": [
    "import os\n",
    "import pandas\n",
    "from google.cloud import bigquery\n",
    "from google.oauth2 import service_account\n",
    "from google.cloud.bigquery import magics"
   ]
  },
  {
   "cell_type": "code",
   "execution_count": null,
   "id": "0781b98a",
   "metadata": {},
   "outputs": [],
   "source": [
    "BIGQUERY_PROJECT = 'ironhacks-data'\n",
    "bigquery_client = bigquery.Client(project=BIGQUERY_PROJECT)\n",
    "query = \"\"\"\n",
    "SELECT COUNT(total_claims) as total_claims\n",
    "FROM `ironhacks-data.ironhacks_competition.unemployment_data`\n",
    "GROUP BY week_number\n",
    "ORDER BY week_number ASC\n",
    "\"\"\""
   ]
  },
  {
   "cell_type": "code",
   "execution_count": null,
   "id": "9954d2a8",
   "metadata": {},
   "outputs": [],
   "source": [
    "# QUERY THE DATA ONCE\n",
    "query_job = bigquery_client.query(query)\n",
    "unemployment_data = query_job.to_dataframe()\n",
    "print(unemployment_data)"
   ]
  },
  {
   "cell_type": "code",
   "execution_count": null,
   "id": "c64bd49d",
   "metadata": {},
   "outputs": [],
   "source": [
    "import os\n",
    "import pandas\n",
    "from google.cloud import bigquery\n",
    "from google.oauth2 import service_account\n",
    "from google.cloud.bigquery import magics"
   ]
  },
  {
   "cell_type": "code",
   "execution_count": null,
   "id": "7bb3aec7",
   "metadata": {},
   "outputs": [],
   "source": [
    "BIGQUERY_PROJECT = 'ironhacks-data'\n",
    "bigquery_client = bigquery.Client(project=BIGQUERY_PROJECT)\n",
    "query = \"\"\"\n",
    "SELECT week_number, COUNT(total_claims) as total_claims\n",
    "FROM `ironhacks-data.ironhacks_competition.unemployment_data`\n",
    "GROUP BY week_number\n",
    "ORDER BY week_number ASC\n",
    "\"\"\""
   ]
  },
  {
   "cell_type": "code",
   "execution_count": null,
   "id": "2cf12e51",
   "metadata": {},
   "outputs": [],
   "source": [
    "# QUERY THE DATA ONCE\n",
    "query_job = bigquery_client.query(query)\n",
    "unemployment_data = query_job.to_dataframe()\n",
    "print(unemployment_data)"
   ]
  },
  {
   "cell_type": "code",
   "execution_count": null,
   "id": "e93cf7ab",
   "metadata": {},
   "outputs": [],
   "source": [
    "import os\n",
    "import pandas\n",
    "from google.cloud import bigquery\n",
    "from google.oauth2 import service_account\n",
    "from google.cloud.bigquery import magics"
   ]
  },
  {
   "cell_type": "code",
   "execution_count": null,
   "id": "d13da7b4",
   "metadata": {},
   "outputs": [],
   "source": [
    "BIGQUERY_PROJECT = 'ironhacks-data'\n",
    "bigquery_client = bigquery.Client(project=BIGQUERY_PROJECT)\n",
    "query = \"\"\"\n",
    "SELECT *\n",
    "FROM `ironhacks-data.ironhacks_competition.unemployment_data`\n",
    "ORDER BY week_number ASC\n",
    "\"\"\""
   ]
  },
  {
   "cell_type": "code",
   "execution_count": null,
   "id": "7ad4515e",
   "metadata": {},
   "outputs": [],
   "source": [
    "# QUERY THE DATA ONCE\n",
    "query_job = bigquery_client.query(query)\n",
    "unemployment_data = query_job.to_dataframe()\n",
    "print(unemployment_data)"
   ]
  },
  {
   "cell_type": "code",
   "execution_count": null,
   "id": "b756edf9",
   "metadata": {},
   "outputs": [],
   "source": [
    "import os\n",
    "import pandas\n",
    "from google.cloud import bigquery\n",
    "from google.oauth2 import service_account\n",
    "from google.cloud.bigquery import magics"
   ]
  },
  {
   "cell_type": "code",
   "execution_count": null,
   "id": "9d4ff57f",
   "metadata": {},
   "outputs": [],
   "source": [
    "BIGQUERY_PROJECT = 'ironhacks-data'\n",
    "bigquery_client = bigquery.Client(project=BIGQUERY_PROJECT)\n",
    "query = \"\"\"\n",
    "SELECT week_number, COUNT(total_claims) AS total_claims\n",
    "FROM `ironhacks-data.ironhacks_competition.unemployment_data`\n",
    "GROUP BY week_number\n",
    "ORDER BY week_number ASC\n",
    "\"\"\""
   ]
  },
  {
   "cell_type": "code",
   "execution_count": null,
   "id": "afcc256d",
   "metadata": {},
   "outputs": [],
   "source": [
    "# QUERY THE DATA ONCE\n",
    "query_job = bigquery_client.query(query)\n",
    "unemployment_data = query_job.to_dataframe()\n",
    "print(unemployment_data)"
   ]
  },
  {
   "cell_type": "code",
   "execution_count": null,
   "id": "f66abe70",
   "metadata": {},
   "outputs": [],
   "source": [
    "import os\n",
    "import pandas\n",
    "from google.cloud import bigquery\n",
    "from google.oauth2 import service_account\n",
    "from google.cloud.bigquery import magics"
   ]
  },
  {
   "cell_type": "code",
   "execution_count": null,
   "id": "2f7ae924",
   "metadata": {},
   "outputs": [],
   "source": [
    "BIGQUERY_PROJECT = 'ironhacks-data'\n",
    "bigquery_client = bigquery.Client(project=BIGQUERY_PROJECT)\n",
    "query = \"\"\"\n",
    "SELECT *\n",
    "FROM `ironhacks-data.ironhacks_competition.unemployment_data`\n",
    "\n",
    "ORDER BY week_number ASC\n",
    "\"\"\""
   ]
  },
  {
   "cell_type": "markdown",
   "id": "bafaa561",
   "metadata": {},
   "source": [
    "SELECT week_number, COUNT(total_claims) AS total_claims\n",
    "GROUP BY week_number"
   ]
  },
  {
   "cell_type": "code",
   "execution_count": null,
   "id": "a33660c5",
   "metadata": {},
   "outputs": [],
   "source": [
    "# QUERY THE DATA ONCE\n",
    "query_job = bigquery_client.query(query)\n",
    "unemployment_data = query_job.to_dataframe()\n",
    "print(unemployment_data)"
   ]
  },
  {
   "cell_type": "code",
   "execution_count": null,
   "id": "c4efb849",
   "metadata": {},
   "outputs": [],
   "source": [
    "import os\n",
    "import pandas\n",
    "from google.cloud import bigquery\n",
    "from google.oauth2 import service_account\n",
    "from google.cloud.bigquery import magics"
   ]
  },
  {
   "cell_type": "code",
   "execution_count": null,
   "id": "22cd81d4",
   "metadata": {},
   "outputs": [],
   "source": [
    "BIGQUERY_PROJECT = 'ironhacks-data'\n",
    "bigquery_client = bigquery.Client(project=BIGQUERY_PROJECT)\n",
    "query = \"\"\"\n",
    "SELECT *\n",
    "FROM `ironhacks-data.ironhacks_competition.unemployment_data`\n",
    "LIMIT 1\n",
    "ORDER BY week_number ASC\n",
    "\"\"\""
   ]
  },
  {
   "cell_type": "markdown",
   "id": "ca8e1e2e",
   "metadata": {},
   "source": [
    "SELECT week_number, COUNT(total_claims) AS total_claims, COUNT(edu_8th_or_less) AS 8th, COUNT(edu_grades_9_11) AS 9_11, COUNT(edu_hs_grad_equiv) AS hs_diploma, COUNT(gender_female) AS female, COUNT(gender_male) AS male, COUNT(gender_na) AS gender_na, COUNT(race_amerindian) AS american, COUNT(race_asian) AS asian, COUNT(race_black) AS black, COUNT(race_noanswer) AS r_noAns, COUNT(race_hawaiiannative) AS hawaii, COUNT(race_other) AS other, COUNT(race_white) AS white\n",
    "GROUP BY week_number"
   ]
  },
  {
   "cell_type": "code",
   "execution_count": null,
   "id": "eae33aae",
   "metadata": {},
   "outputs": [],
   "source": [
    "# QUERY THE DATA ONCE\n",
    "query_job = bigquery_client.query(query)\n",
    "unemployment_data = query_job.to_dataframe()\n",
    "print(unemployment_data)"
   ]
  },
  {
   "cell_type": "code",
   "execution_count": null,
   "id": "48c5c7e7",
   "metadata": {},
   "outputs": [],
   "source": [
    "import os\n",
    "import pandas\n",
    "from google.cloud import bigquery\n",
    "from google.oauth2 import service_account\n",
    "from google.cloud.bigquery import magics"
   ]
  },
  {
   "cell_type": "code",
   "execution_count": null,
   "id": "e8a03a5f",
   "metadata": {},
   "outputs": [],
   "source": [
    "BIGQUERY_PROJECT = 'ironhacks-data'\n",
    "bigquery_client = bigquery.Client(project=BIGQUERY_PROJECT)\n",
    "query = \"\"\"\n",
    "SELECT *\n",
    "FROM `ironhacks-data.ironhacks_competition.unemployment_data`\n",
    "\n",
    "ORDER BY week_number ASC\n",
    "LIMIT 1\n",
    "\"\"\""
   ]
  },
  {
   "cell_type": "markdown",
   "id": "ac874364",
   "metadata": {},
   "source": [
    "SELECT week_number, COUNT(total_claims) AS total_claims, COUNT(edu_8th_or_less) AS 8th, COUNT(edu_grades_9_11) AS 9_11, COUNT(edu_hs_grad_equiv) AS hs_diploma, COUNT(gender_female) AS female, COUNT(gender_male) AS male, COUNT(gender_na) AS gender_na, COUNT(race_amerindian) AS american, COUNT(race_asian) AS asian, COUNT(race_black) AS black, COUNT(race_noanswer) AS r_noAns, COUNT(race_hawaiiannative) AS hawaii, COUNT(race_other) AS other, COUNT(race_white) AS white\n",
    "GROUP BY week_number"
   ]
  },
  {
   "cell_type": "code",
   "execution_count": null,
   "id": "886161df",
   "metadata": {},
   "outputs": [],
   "source": [
    "# QUERY THE DATA ONCE\n",
    "query_job = bigquery_client.query(query)\n",
    "unemployment_data = query_job.to_dataframe()\n",
    "print(unemployment_data)"
   ]
  },
  {
   "cell_type": "code",
   "execution_count": null,
   "id": "28bfc2f8",
   "metadata": {},
   "outputs": [],
   "source": [
    "import os\n",
    "import pandas\n",
    "from google.cloud import bigquery\n",
    "from google.oauth2 import service_account\n",
    "from google.cloud.bigquery import magics"
   ]
  },
  {
   "cell_type": "code",
   "execution_count": null,
   "id": "eb244244",
   "metadata": {},
   "outputs": [],
   "source": [
    "BIGQUERY_PROJECT = 'ironhacks-data'\n",
    "bigquery_client = bigquery.Client(project=BIGQUERY_PROJECT)\n",
    "query = \"\"\"\n",
    "DESCRIBE `ironhacks-data.ironhacks_competition.unemployment_data`\n",
    "\"\"\""
   ]
  },
  {
   "cell_type": "markdown",
   "id": "d7f0cdb1",
   "metadata": {},
   "source": [
    "SELECT week_number, COUNT(total_claims) AS total_claims, COUNT(edu_8th_or_less) AS 8th, COUNT(edu_grades_9_11) AS 9_11, COUNT(edu_hs_grad_equiv) AS hs_diploma, COUNT(gender_female) AS female, COUNT(gender_male) AS male, COUNT(gender_na) AS gender_na, COUNT(race_amerindian) AS american, COUNT(race_asian) AS asian, COUNT(race_black) AS black, COUNT(race_noanswer) AS r_noAns, COUNT(race_hawaiiannative) AS hawaii, COUNT(race_other) AS other, COUNT(race_white) AS white\n",
    "GROUP BY week_number"
   ]
  },
  {
   "cell_type": "code",
   "execution_count": null,
   "id": "4c9c6239",
   "metadata": {},
   "outputs": [],
   "source": [
    "# QUERY THE DATA ONCE\n",
    "query_job = bigquery_client.query(query)\n",
    "unemployment_data = query_job.to_dataframe()\n",
    "print(unemployment_data)"
   ]
  },
  {
   "cell_type": "code",
   "execution_count": null,
   "id": "76dbd6bc",
   "metadata": {},
   "outputs": [],
   "source": [
    "import os\n",
    "import pandas\n",
    "from google.cloud import bigquery\n",
    "from google.oauth2 import service_account\n",
    "from google.cloud.bigquery import magics"
   ]
  },
  {
   "cell_type": "code",
   "execution_count": null,
   "id": "e369d008",
   "metadata": {},
   "outputs": [],
   "source": [
    "BIGQUERY_PROJECT = 'ironhacks-data'\n",
    "bigquery_client = bigquery.Client(project=BIGQUERY_PROJECT)\n",
    "query = \"\"\"\n",
    "SHOW COLUMNS \n",
    "FROM `ironhacks-data.ironhacks_competition.unemployment_data`\n",
    "\n",
    "\"\"\""
   ]
  },
  {
   "cell_type": "markdown",
   "id": "a26bc5be",
   "metadata": {},
   "source": [
    "SELECT week_number, COUNT(total_claims) AS total_claims, COUNT(edu_8th_or_less) AS 8th, COUNT(edu_grades_9_11) AS 9_11, COUNT(edu_hs_grad_equiv) AS hs_diploma, COUNT(gender_female) AS female, COUNT(gender_male) AS male, COUNT(gender_na) AS gender_na, COUNT(race_amerindian) AS american, COUNT(race_asian) AS asian, COUNT(race_black) AS black, COUNT(race_noanswer) AS r_noAns, COUNT(race_hawaiiannative) AS hawaii, COUNT(race_other) AS other, COUNT(race_white) AS white\n",
    "GROUP BY week_number"
   ]
  },
  {
   "cell_type": "code",
   "execution_count": null,
   "id": "c2568a83",
   "metadata": {},
   "outputs": [],
   "source": [
    "# QUERY THE DATA ONCE\n",
    "query_job = bigquery_client.query(query)\n",
    "unemployment_data = query_job.to_dataframe()\n",
    "print(unemployment_data)"
   ]
  },
  {
   "cell_type": "code",
   "execution_count": null,
   "id": "9757ae85",
   "metadata": {},
   "outputs": [],
   "source": [
    "import os\n",
    "import pandas\n",
    "from google.cloud import bigquery\n",
    "from google.oauth2 import service_account\n",
    "from google.cloud.bigquery import magics"
   ]
  },
  {
   "cell_type": "code",
   "execution_count": null,
   "id": "5b475013",
   "metadata": {},
   "outputs": [],
   "source": [
    "BIGQUERY_PROJECT = 'ironhacks-data'\n",
    "bigquery_client = bigquery.Client(project=BIGQUERY_PROJECT)\n",
    "query = \"\"\"\n",
    "SELECT COLUMNS \n",
    "FROM `ironhacks-data.ironhacks_competition.unemployment_data`\n",
    "\n",
    "\"\"\""
   ]
  },
  {
   "cell_type": "markdown",
   "id": "4afdf4a9",
   "metadata": {},
   "source": [
    "SELECT week_number, COUNT(total_claims) AS total_claims, COUNT(edu_8th_or_less) AS 8th, COUNT(edu_grades_9_11) AS 9_11, COUNT(edu_hs_grad_equiv) AS hs_diploma, COUNT(gender_female) AS female, COUNT(gender_male) AS male, COUNT(gender_na) AS gender_na, COUNT(race_amerindian) AS american, COUNT(race_asian) AS asian, COUNT(race_black) AS black, COUNT(race_noanswer) AS r_noAns, COUNT(race_hawaiiannative) AS hawaii, COUNT(race_other) AS other, COUNT(race_white) AS white\n",
    "GROUP BY week_number"
   ]
  },
  {
   "cell_type": "code",
   "execution_count": null,
   "id": "c25f440d",
   "metadata": {},
   "outputs": [],
   "source": [
    "# QUERY THE DATA ONCE\n",
    "query_job = bigquery_client.query(query)\n",
    "unemployment_data = query_job.to_dataframe()\n",
    "print(unemployment_data)"
   ]
  },
  {
   "cell_type": "code",
   "execution_count": null,
   "id": "8d32df2f",
   "metadata": {},
   "outputs": [],
   "source": [
    "import os\n",
    "import pandas\n",
    "from google.cloud import bigquery\n",
    "from google.oauth2 import service_account\n",
    "from google.cloud.bigquery import magics"
   ]
  },
  {
   "cell_type": "code",
   "execution_count": null,
   "id": "fbe0f594",
   "metadata": {},
   "outputs": [],
   "source": [
    "BIGQUERY_PROJECT = 'ironhacks-data'\n",
    "bigquery_client = bigquery.Client(project=BIGQUERY_PROJECT)\n",
    "query = \"\"\"\n",
    "SHOW COLUMNS \n",
    "FROM `ironhacks-data.ironhacks_competition.unemployment_data`\n",
    "\n",
    "\"\"\""
   ]
  },
  {
   "cell_type": "markdown",
   "id": "301ec0ac",
   "metadata": {},
   "source": [
    "SELECT week_number, COUNT(total_claims) AS total_claims, COUNT(edu_8th_or_less) AS 8th, COUNT(edu_grades_9_11) AS 9_11, COUNT(edu_hs_grad_equiv) AS hs_diploma, COUNT(gender_female) AS female, COUNT(gender_male) AS male, COUNT(gender_na) AS gender_na, COUNT(race_amerindian) AS american, COUNT(race_asian) AS asian, COUNT(race_black) AS black, COUNT(race_noanswer) AS r_noAns, COUNT(race_hawaiiannative) AS hawaii, COUNT(race_other) AS other, COUNT(race_white) AS white\n",
    "GROUP BY week_number"
   ]
  },
  {
   "cell_type": "code",
   "execution_count": null,
   "id": "9ee5c41b",
   "metadata": {},
   "outputs": [],
   "source": [
    "# QUERY THE DATA ONCE\n",
    "query_job = bigquery_client.query(query)\n",
    "unemployment_data = query_job.to_dataframe()\n",
    "print(unemployment_data)"
   ]
  },
  {
   "cell_type": "code",
   "execution_count": null,
   "id": "af2fc322",
   "metadata": {},
   "outputs": [],
   "source": [
    "import os\n",
    "import pandas\n",
    "from google.cloud import bigquery\n",
    "from google.oauth2 import service_account\n",
    "from google.cloud.bigquery import magics"
   ]
  },
  {
   "cell_type": "code",
   "execution_count": null,
   "id": "b359e405",
   "metadata": {},
   "outputs": [],
   "source": [
    "BIGQUERY_PROJECT = 'ironhacks-data'\n",
    "bigquery_client = bigquery.Client(project=BIGQUERY_PROJECT)\n",
    "query = \"\"\"\n",
    "SHOW COLUMN_NAME \n",
    "FROM `ironhacks-data.ironhacks_competition.unemployment_data`\n",
    "\n",
    "\"\"\""
   ]
  },
  {
   "cell_type": "markdown",
   "id": "bfad92dd",
   "metadata": {},
   "source": [
    "SELECT week_number, COUNT(total_claims) AS total_claims, COUNT(edu_8th_or_less) AS 8th, COUNT(edu_grades_9_11) AS 9_11, COUNT(edu_hs_grad_equiv) AS hs_diploma, COUNT(gender_female) AS female, COUNT(gender_male) AS male, COUNT(gender_na) AS gender_na, COUNT(race_amerindian) AS american, COUNT(race_asian) AS asian, COUNT(race_black) AS black, COUNT(race_noanswer) AS r_noAns, COUNT(race_hawaiiannative) AS hawaii, COUNT(race_other) AS other, COUNT(race_white) AS white\n",
    "GROUP BY week_number"
   ]
  },
  {
   "cell_type": "code",
   "execution_count": null,
   "id": "1e2d20cc",
   "metadata": {},
   "outputs": [],
   "source": [
    "# QUERY THE DATA ONCE\n",
    "query_job = bigquery_client.query(query)\n",
    "unemployment_data = query_job.to_dataframe()\n",
    "print(unemployment_data)"
   ]
  },
  {
   "cell_type": "code",
   "execution_count": null,
   "id": "ef48b58c",
   "metadata": {},
   "outputs": [],
   "source": [
    "import os\n",
    "import pandas\n",
    "from google.cloud import bigquery\n",
    "from google.oauth2 import service_account\n",
    "from google.cloud.bigquery import magics"
   ]
  },
  {
   "cell_type": "code",
   "execution_count": null,
   "id": "55449187",
   "metadata": {},
   "outputs": [],
   "source": [
    "BIGQUERY_PROJECT = 'ironhacks-data'\n",
    "bigquery_client = bigquery.Client(project=BIGQUERY_PROJECT)\n",
    "query = \"\"\"\n",
    "SELECT COLUMN_NAME \n",
    "FROM `ironhacks-data.ironhacks_competition.unemployment_data`\n",
    "\n",
    "\"\"\""
   ]
  },
  {
   "cell_type": "markdown",
   "id": "fe624d0d",
   "metadata": {},
   "source": [
    "SELECT week_number, COUNT(total_claims) AS total_claims, COUNT(edu_8th_or_less) AS 8th, COUNT(edu_grades_9_11) AS 9_11, COUNT(edu_hs_grad_equiv) AS hs_diploma, COUNT(gender_female) AS female, COUNT(gender_male) AS male, COUNT(gender_na) AS gender_na, COUNT(race_amerindian) AS american, COUNT(race_asian) AS asian, COUNT(race_black) AS black, COUNT(race_noanswer) AS r_noAns, COUNT(race_hawaiiannative) AS hawaii, COUNT(race_other) AS other, COUNT(race_white) AS white\n",
    "GROUP BY week_number"
   ]
  },
  {
   "cell_type": "code",
   "execution_count": null,
   "id": "ca07ce3a",
   "metadata": {},
   "outputs": [],
   "source": [
    "# QUERY THE DATA ONCE\n",
    "query_job = bigquery_client.query(query)\n",
    "unemployment_data = query_job.to_dataframe()\n",
    "print(unemployment_data)"
   ]
  },
  {
   "cell_type": "code",
   "execution_count": null,
   "id": "45c3e40d",
   "metadata": {},
   "outputs": [],
   "source": [
    "import os\n",
    "import pandas\n",
    "from google.cloud import bigquery\n",
    "from google.oauth2 import service_account\n",
    "from google.cloud.bigquery import magics"
   ]
  },
  {
   "cell_type": "code",
   "execution_count": null,
   "id": "b06b881d",
   "metadata": {},
   "outputs": [],
   "source": [
    "BIGQUERY_PROJECT = 'ironhacks-data'\n",
    "bigquery_client = bigquery.Client(project=BIGQUERY_PROJECT)\n",
    "query = \"\"\"\n",
    "SELECT COLUMN_NAME \n",
    "FROM INFORMATION_SCHEMA.COLUMNS\n",
    "WHERE TABLE_NAME = `ironhacks-data.ironhacks_competition.unemployment_data`\n",
    "\n",
    "\"\"\""
   ]
  },
  {
   "cell_type": "markdown",
   "id": "a16d70b3",
   "metadata": {},
   "source": [
    "SELECT week_number, COUNT(total_claims) AS total_claims, COUNT(edu_8th_or_less) AS 8th, COUNT(edu_grades_9_11) AS 9_11, COUNT(edu_hs_grad_equiv) AS hs_diploma, COUNT(gender_female) AS female, COUNT(gender_male) AS male, COUNT(gender_na) AS gender_na, COUNT(race_amerindian) AS american, COUNT(race_asian) AS asian, COUNT(race_black) AS black, COUNT(race_noanswer) AS r_noAns, COUNT(race_hawaiiannative) AS hawaii, COUNT(race_other) AS other, COUNT(race_white) AS white\n",
    "GROUP BY week_number"
   ]
  },
  {
   "cell_type": "code",
   "execution_count": null,
   "id": "f4ada89f",
   "metadata": {},
   "outputs": [],
   "source": [
    "# QUERY THE DATA ONCE\n",
    "query_job = bigquery_client.query(query)\n",
    "unemployment_data = query_job.to_dataframe()\n",
    "print(unemployment_data)"
   ]
  },
  {
   "cell_type": "code",
   "execution_count": null,
   "id": "47fb0c5b",
   "metadata": {},
   "outputs": [],
   "source": [
    "import os\n",
    "import pandas\n",
    "from google.cloud import bigquery\n",
    "from google.oauth2 import service_account\n",
    "from google.cloud.bigquery import magics"
   ]
  },
  {
   "cell_type": "code",
   "execution_count": null,
   "id": "28fb63fb",
   "metadata": {},
   "outputs": [],
   "source": [
    "BIGQUERY_PROJECT = 'ironhacks-data'\n",
    "bigquery_client = bigquery.Client(project=BIGQUERY_PROJECT)\n",
    "query = \"\"\"\n",
    "SELECT *\n",
    "FROM `ironhacks-data.ironhacks_competition.unemployment_data`\n",
    "\n",
    "ORDER BY week_number ASC\n",
    "LIMIT 1\n",
    "\n",
    "\"\"\""
   ]
  },
  {
   "cell_type": "markdown",
   "id": "93b87861",
   "metadata": {},
   "source": [
    "SELECT week_number, COUNT(total_claims) AS total_claims, COUNT(edu_8th_or_less) AS 8th, COUNT(edu_grades_9_11) AS 9_11, COUNT(edu_hs_grad_equiv) AS hs_diploma, COUNT(gender_female) AS female, COUNT(gender_male) AS male, COUNT(gender_na) AS gender_na, COUNT(race_amerindian) AS american, COUNT(race_asian) AS asian, COUNT(race_black) AS black, COUNT(race_noanswer) AS r_noAns, COUNT(race_hawaiiannative) AS hawaii, COUNT(race_other) AS other, COUNT(race_white) AS white\n",
    "GROUP BY week_number"
   ]
  },
  {
   "cell_type": "code",
   "execution_count": null,
   "id": "09e29ea7",
   "metadata": {},
   "outputs": [],
   "source": [
    "# QUERY THE DATA ONCE\n",
    "query_job = bigquery_client.query(query)\n",
    "unemployment_data = query_job.to_dataframe()\n",
    "print(unemployment_data)"
   ]
  },
  {
   "cell_type": "code",
   "execution_count": null,
   "id": "c4b519af",
   "metadata": {},
   "outputs": [],
   "source": [
    "import os\n",
    "import pandas\n",
    "from google.cloud import bigquery\n",
    "from google.oauth2 import service_account\n",
    "from google.cloud.bigquery import magics"
   ]
  },
  {
   "cell_type": "code",
   "execution_count": null,
   "id": "2d7296fe",
   "metadata": {},
   "outputs": [],
   "source": [
    "BIGQUERY_PROJECT = 'ironhacks-data'\n",
    "bigquery_client = bigquery.Client(project=BIGQUERY_PROJECT)\n",
    "query = \"\"\"\n",
    "SELECT column_name\n",
    "FROM `ironhacks-data.ironhacks_competition.INFORMATION_SCHEMA`\n",
    "WHERE table_name = 'unemployment_data'\n",
    "\n",
    "\"\"\""
   ]
  },
  {
   "cell_type": "markdown",
   "id": "68834538",
   "metadata": {},
   "source": [
    "SELECT week_number, COUNT(total_claims) AS total_claims, COUNT(edu_8th_or_less) AS 8th, COUNT(edu_grades_9_11) AS 9_11, COUNT(edu_hs_grad_equiv) AS hs_diploma, COUNT(gender_female) AS female, COUNT(gender_male) AS male, COUNT(gender_na) AS gender_na, COUNT(race_amerindian) AS american, COUNT(race_asian) AS asian, COUNT(race_black) AS black, COUNT(race_noanswer) AS r_noAns, COUNT(race_hawaiiannative) AS hawaii, COUNT(race_other) AS other, COUNT(race_white) AS white\n",
    "GROUP BY week_number"
   ]
  },
  {
   "cell_type": "code",
   "execution_count": null,
   "id": "d10f06ff",
   "metadata": {},
   "outputs": [],
   "source": [
    "# QUERY THE DATA ONCE\n",
    "query_job = bigquery_client.query(query)\n",
    "unemployment_data = query_job.to_dataframe()\n",
    "print(unemployment_data)"
   ]
  },
  {
   "cell_type": "code",
   "execution_count": null,
   "id": "7b68f08e",
   "metadata": {},
   "outputs": [],
   "source": [
    "import os\n",
    "import pandas\n",
    "from google.cloud import bigquery\n",
    "from google.oauth2 import service_account\n",
    "from google.cloud.bigquery import magics"
   ]
  },
  {
   "cell_type": "code",
   "execution_count": null,
   "id": "ff0f64c2",
   "metadata": {},
   "outputs": [],
   "source": [
    "BIGQUERY_PROJECT = 'ironhacks-data'\n",
    "bigquery_client = bigquery.Client(project=BIGQUERY_PROJECT)\n",
    "query = \"\"\"\n",
    "SELECT column_name\n",
    "FROM `ironhacks-data.ironhacks_competition.INFORMATION_SCHEMA.TABLES`\n",
    "WHERE table_name = 'unemployment_data'\n",
    "\n",
    "\"\"\""
   ]
  },
  {
   "cell_type": "markdown",
   "id": "43b36c02",
   "metadata": {},
   "source": [
    "SELECT week_number, COUNT(total_claims) AS total_claims, COUNT(edu_8th_or_less) AS 8th, COUNT(edu_grades_9_11) AS 9_11, COUNT(edu_hs_grad_equiv) AS hs_diploma, COUNT(gender_female) AS female, COUNT(gender_male) AS male, COUNT(gender_na) AS gender_na, COUNT(race_amerindian) AS american, COUNT(race_asian) AS asian, COUNT(race_black) AS black, COUNT(race_noanswer) AS r_noAns, COUNT(race_hawaiiannative) AS hawaii, COUNT(race_other) AS other, COUNT(race_white) AS white\n",
    "GROUP BY week_number"
   ]
  },
  {
   "cell_type": "code",
   "execution_count": null,
   "id": "981aef8e",
   "metadata": {},
   "outputs": [],
   "source": [
    "# QUERY THE DATA ONCE\n",
    "query_job = bigquery_client.query(query)\n",
    "unemployment_data = query_job.to_dataframe()\n",
    "print(unemployment_data)"
   ]
  },
  {
   "cell_type": "code",
   "execution_count": null,
   "id": "be35b85c",
   "metadata": {},
   "outputs": [],
   "source": [
    "import os\n",
    "import pandas\n",
    "from google.cloud import bigquery\n",
    "from google.oauth2 import service_account\n",
    "from google.cloud.bigquery import magics"
   ]
  },
  {
   "cell_type": "code",
   "execution_count": null,
   "id": "7a6eefde",
   "metadata": {},
   "outputs": [],
   "source": [
    "BIGQUERY_PROJECT = 'ironhacks-data'\n",
    "bigquery_client = bigquery.Client(project=BIGQUERY_PROJECT)\n",
    "query = \"\"\"\n",
    "SELECT column_name\n",
    "FROM `ironhacks-data.ironhacks_competition.INFORMATION_SCHEMA.COLUMNS`\n",
    "WHERE table_name = 'unemployment_data'\n",
    "\n",
    "\"\"\""
   ]
  },
  {
   "cell_type": "markdown",
   "id": "cfc4e30d",
   "metadata": {},
   "source": [
    "SELECT week_number, COUNT(total_claims) AS total_claims, COUNT(edu_8th_or_less) AS 8th, COUNT(edu_grades_9_11) AS 9_11, COUNT(edu_hs_grad_equiv) AS hs_diploma, COUNT(gender_female) AS female, COUNT(gender_male) AS male, COUNT(gender_na) AS gender_na, COUNT(race_amerindian) AS american, COUNT(race_asian) AS asian, COUNT(race_black) AS black, COUNT(race_noanswer) AS r_noAns, COUNT(race_hawaiiannative) AS hawaii, COUNT(race_other) AS other, COUNT(race_white) AS white\n",
    "GROUP BY week_number"
   ]
  },
  {
   "cell_type": "code",
   "execution_count": null,
   "id": "c6e2eab1",
   "metadata": {},
   "outputs": [],
   "source": [
    "# QUERY THE DATA ONCE\n",
    "query_job = bigquery_client.query(query)\n",
    "unemployment_data = query_job.to_dataframe()\n",
    "print(unemployment_data)"
   ]
  },
  {
   "cell_type": "code",
   "execution_count": null,
   "id": "0e9a6ea0",
   "metadata": {},
   "outputs": [],
   "source": [
    "import os\n",
    "import pandas\n",
    "from google.cloud import bigquery\n",
    "from google.oauth2 import service_account\n",
    "from google.cloud.bigquery import magics"
   ]
  },
  {
   "cell_type": "code",
   "execution_count": null,
   "id": "6786f613",
   "metadata": {},
   "outputs": [],
   "source": [
    "BIGQUERY_PROJECT = 'ironhacks-data'\n",
    "bigquery_client = bigquery.Client(project=BIGQUERY_PROJECT)\n",
    "query = \"\"\"\n",
    "SELECT column_name\n",
    "FROM `ironhacks-data.ironhacks_competition.INFORMATION_SCHEMA.COLUMNS`\n",
    "WHERE table_name = 'unemployment_data'\n",
    "\n",
    "\"\"\""
   ]
  },
  {
   "cell_type": "markdown",
   "id": "57dff276",
   "metadata": {},
   "source": [
    "SELECT week_number, COUNT(total_claims) AS total_claims, COUNT(edu_8th_or_less) AS 8th, COUNT(edu_grades_9_11) AS 9_11, COUNT(edu_hs_grad_equiv) AS hs_diploma, COUNT(edu_post_hs) AS post_hs, COUNT(edu_unknown) AS edu_unknown, COUNT(top_category_employer1) AS top_category_employer1, COUNT(top_category_employer2) AS top_category_employer2, COUNT(top_category_employer3) AS top_category_employer3, COUNT(gender_female) AS female, COUNT(gender_male) AS male, COUNT(gender_na) AS gender_na, COUNT(race_amerindian) AS american, COUNT(race_asian) AS asian, COUNT(race_black) AS black, COUNT(race_noanswer) AS r_noAns, COUNT(race_hawaiiannative) AS hawaii, COUNT(race_other) AS other, COUNT(race_white) AS white\n",
    "GROUP BY week_number"
   ]
  },
  {
   "cell_type": "code",
   "execution_count": null,
   "id": "bd6641e1",
   "metadata": {},
   "outputs": [],
   "source": [
    "# QUERY THE DATA ONCE\n",
    "query_job = bigquery_client.query(query)\n",
    "unemployment_data = query_job.to_dataframe()\n",
    "print(unemployment_data)"
   ]
  },
  {
   "cell_type": "code",
   "execution_count": null,
   "id": "bf0b386b",
   "metadata": {},
   "outputs": [],
   "source": [
    "import os\n",
    "import pandas\n",
    "from google.cloud import bigquery\n",
    "from google.oauth2 import service_account\n",
    "from google.cloud.bigquery import magics"
   ]
  },
  {
   "cell_type": "code",
   "execution_count": null,
   "id": "387f6280",
   "metadata": {},
   "outputs": [],
   "source": [
    "BIGQUERY_PROJECT = 'ironhacks-data'\n",
    "bigquery_client = bigquery.Client(project=BIGQUERY_PROJECT)\n",
    "query = \"\"\"\n",
    "SELECT week_number, COUNT(total_claims) AS total_claims, COUNT(edu_8th_or_less) AS 8th, COUNT(edu_grades_9_11) AS 9_11, COUNT(edu_hs_grad_equiv) AS hs_diploma, COUNT(edu_post_hs) AS post_hs, COUNT(edu_unknown) AS edu_unknown, COUNT(top_category_employer1) AS top_category_employer1, COUNT(top_category_employer2) AS top_category_employer2, COUNT(top_category_employer3) AS top_category_employer3, COUNT(gender_female) AS female, COUNT(gender_male) AS male, COUNT(gender_na) AS gender_na, COUNT(race_amerindian) AS american, COUNT(race_asian) AS asian, COUNT(race_black) AS black, COUNT(race_noanswer) AS r_noAns, COUNT(race_hawaiiannative) AS hawaii, COUNT(race_other) AS other, COUNT(race_white) AS white\n",
    "FROM `ironhacks-data.ironhacks_competition.unemployment_data`\n",
    "GROUP BY week_number\n",
    "ORDER BY week_number ASC\n",
    "\"\"\""
   ]
  },
  {
   "cell_type": "markdown",
   "id": "355b82fc",
   "metadata": {},
   "source": [
    "SELECT week_number, COUNT(total_claims) AS total_claims, COUNT(edu_8th_or_less) AS 8th, COUNT(edu_grades_9_11) AS 9_11, COUNT(edu_hs_grad_equiv) AS hs_diploma, COUNT(edu_post_hs) AS post_hs, COUNT(edu_unknown) AS edu_unknown, COUNT(top_category_employer1) AS top_category_employer1, COUNT(top_category_employer2) AS top_category_employer2, COUNT(top_category_employer3) AS top_category_employer3, COUNT(gender_female) AS female, COUNT(gender_male) AS male, COUNT(gender_na) AS gender_na, COUNT(race_amerindian) AS american, COUNT(race_asian) AS asian, COUNT(race_black) AS black, COUNT(race_noanswer) AS r_noAns, COUNT(race_hawaiiannative) AS hawaii, COUNT(race_other) AS other, COUNT(race_white) AS white\n",
    "GROUP BY week_number"
   ]
  },
  {
   "cell_type": "code",
   "execution_count": null,
   "id": "4fd56bb9",
   "metadata": {},
   "outputs": [],
   "source": [
    "# QUERY THE DATA ONCE\n",
    "query_job = bigquery_client.query(query)\n",
    "unemployment_data = query_job.to_dataframe()\n",
    "print(unemployment_data)"
   ]
  },
  {
   "cell_type": "code",
   "execution_count": null,
   "id": "7dba5e20",
   "metadata": {},
   "outputs": [],
   "source": [
    "import os\n",
    "import pandas\n",
    "from google.cloud import bigquery\n",
    "from google.oauth2 import service_account\n",
    "from google.cloud.bigquery import magics"
   ]
  },
  {
   "cell_type": "code",
   "execution_count": null,
   "id": "a272633b",
   "metadata": {},
   "outputs": [],
   "source": [
    "BIGQUERY_PROJECT = 'ironhacks-data'\n",
    "bigquery_client = bigquery.Client(project=BIGQUERY_PROJECT)\n",
    "query = \"\"\"\n",
    "SELECT week_number, COUNT(total_claims) AS total_claims, \n",
    "\n",
    "FROM `ironhacks-data.ironhacks_competition.unemployment_data`\n",
    "GROUP BY week_number\n",
    "ORDER BY week_number ASC\n",
    "\"\"\"\n",
    "#COUNT(edu_8th_or_less) AS 8th, COUNT(edu_grades_9_11) AS 9_11, COUNT(edu_hs_grad_equiv) AS hs_diploma, COUNT(edu_post_hs) AS post_hs, COUNT(edu_unknown) AS edu_unknown, COUNT(top_category_employer1) AS top_category_employer1, COUNT(top_category_employer2) AS top_category_employer2, COUNT(top_category_employer3) AS top_category_employer3, COUNT(gender_female) AS female, COUNT(gender_male) AS male, COUNT(gender_na) AS gender_na, COUNT(race_amerindian) AS american, COUNT(race_asian) AS asian, COUNT(race_black) AS black, COUNT(race_noanswer) AS r_noAns, COUNT(race_hawaiiannative) AS hawaii, COUNT(race_other) AS other, COUNT(race_white) AS white\n",
    "#SELECT week_number, COUNT(total_claims) AS total_claims, COUNT(edu_8th_or_less) AS 8th, COUNT(edu_grades_9_11) AS 9_11, COUNT(edu_hs_grad_equiv) AS hs_diploma, COUNT(edu_post_hs) AS post_hs, COUNT(edu_unknown) AS edu_unknown, COUNT(top_category_employer1) AS top_category_employer1, COUNT(top_category_employer2) AS top_category_employer2, COUNT(top_category_employer3) AS top_category_employer3, COUNT(gender_female) AS female, COUNT(gender_male) AS male, COUNT(gender_na) AS gender_na, COUNT(race_amerindian) AS american, COUNT(race_asian) AS asian, COUNT(race_black) AS black, COUNT(race_noanswer) AS r_noAns, COUNT(race_hawaiiannative) AS hawaii, COUNT(race_other) AS other, COUNT(race_white) AS white\n",
    "#GROUP BY week_number"
   ]
  },
  {
   "cell_type": "code",
   "execution_count": null,
   "id": "58a0d1ec",
   "metadata": {},
   "outputs": [],
   "source": [
    "# QUERY THE DATA ONCE\n",
    "query_job = bigquery_client.query(query)\n",
    "unemployment_data = query_job.to_dataframe()\n",
    "print(unemployment_data)"
   ]
  },
  {
   "cell_type": "code",
   "execution_count": null,
   "id": "e2d94ac4",
   "metadata": {},
   "outputs": [],
   "source": [
    "import os\n",
    "import pandas\n",
    "from google.cloud import bigquery\n",
    "from google.oauth2 import service_account\n",
    "from google.cloud.bigquery import magics"
   ]
  },
  {
   "cell_type": "code",
   "execution_count": null,
   "id": "a099a1d5",
   "metadata": {},
   "outputs": [],
   "source": [
    "BIGQUERY_PROJECT = 'ironhacks-data'\n",
    "bigquery_client = bigquery.Client(project=BIGQUERY_PROJECT)\n",
    "query = \"\"\"\n",
    "SELECT week_number, COUNT(total_claims) AS total_claims,\n",
    "COUNT(edu_8th_or_less) AS 8th\n",
    "\n",
    "FROM `ironhacks-data.ironhacks_competition.unemployment_data`\n",
    "GROUP BY week_number\n",
    "ORDER BY week_number ASC\n",
    "\"\"\"\n",
    "#, COUNT(edu_grades_9_11) AS 9_11, COUNT(edu_hs_grad_equiv) AS hs_diploma, COUNT(edu_post_hs) AS post_hs, COUNT(edu_unknown) AS edu_unknown, COUNT(top_category_employer1) AS top_category_employer1, COUNT(top_category_employer2) AS top_category_employer2, COUNT(top_category_employer3) AS top_category_employer3, COUNT(gender_female) AS female, COUNT(gender_male) AS male, COUNT(gender_na) AS gender_na, COUNT(race_amerindian) AS american, COUNT(race_asian) AS asian, COUNT(race_black) AS black, COUNT(race_noanswer) AS r_noAns, COUNT(race_hawaiiannative) AS hawaii, COUNT(race_other) AS other, COUNT(race_white) AS white\n",
    "#SELECT week_number, COUNT(total_claims) AS total_claims, COUNT(edu_8th_or_less) AS 8th, COUNT(edu_grades_9_11) AS 9_11, COUNT(edu_hs_grad_equiv) AS hs_diploma, COUNT(edu_post_hs) AS post_hs, COUNT(edu_unknown) AS edu_unknown, COUNT(top_category_employer1) AS top_category_employer1, COUNT(top_category_employer2) AS top_category_employer2, COUNT(top_category_employer3) AS top_category_employer3, COUNT(gender_female) AS female, COUNT(gender_male) AS male, COUNT(gender_na) AS gender_na, COUNT(race_amerindian) AS american, COUNT(race_asian) AS asian, COUNT(race_black) AS black, COUNT(race_noanswer) AS r_noAns, COUNT(race_hawaiiannative) AS hawaii, COUNT(race_other) AS other, COUNT(race_white) AS white\n",
    "#GROUP BY week_number"
   ]
  },
  {
   "cell_type": "code",
   "execution_count": null,
   "id": "1d0cfe7f",
   "metadata": {},
   "outputs": [],
   "source": [
    "# QUERY THE DATA ONCE\n",
    "query_job = bigquery_client.query(query)\n",
    "unemployment_data = query_job.to_dataframe()\n",
    "print(unemployment_data)"
   ]
  },
  {
   "cell_type": "code",
   "execution_count": null,
   "id": "85b6b3f1",
   "metadata": {},
   "outputs": [],
   "source": [
    "import os\n",
    "import pandas\n",
    "from google.cloud import bigquery\n",
    "from google.oauth2 import service_account\n",
    "from google.cloud.bigquery import magics"
   ]
  },
  {
   "cell_type": "code",
   "execution_count": null,
   "id": "f522adf1",
   "metadata": {},
   "outputs": [],
   "source": [
    "BIGQUERY_PROJECT = 'ironhacks-data'\n",
    "bigquery_client = bigquery.Client(project=BIGQUERY_PROJECT)\n",
    "query = \"\"\"\n",
    "SELECT week_number, COUNT(total_claims) AS total_claims, COUNT(edu_8th_or_less) AS 8th\n",
    "FROM `ironhacks-data.ironhacks_competition.unemployment_data`\n",
    "GROUP BY week_number\n",
    "ORDER BY week_number ASC\n",
    "\"\"\"\n",
    "#, COUNT(edu_grades_9_11) AS 9_11, COUNT(edu_hs_grad_equiv) AS hs_diploma, COUNT(edu_post_hs) AS post_hs, COUNT(edu_unknown) AS edu_unknown, COUNT(top_category_employer1) AS top_category_employer1, COUNT(top_category_employer2) AS top_category_employer2, COUNT(top_category_employer3) AS top_category_employer3, COUNT(gender_female) AS female, COUNT(gender_male) AS male, COUNT(gender_na) AS gender_na, COUNT(race_amerindian) AS american, COUNT(race_asian) AS asian, COUNT(race_black) AS black, COUNT(race_noanswer) AS r_noAns, COUNT(race_hawaiiannative) AS hawaii, COUNT(race_other) AS other, COUNT(race_white) AS white\n",
    "#SELECT week_number, COUNT(total_claims) AS total_claims, COUNT(edu_8th_or_less) AS 8th, COUNT(edu_grades_9_11) AS 9_11, COUNT(edu_hs_grad_equiv) AS hs_diploma, COUNT(edu_post_hs) AS post_hs, COUNT(edu_unknown) AS edu_unknown, COUNT(top_category_employer1) AS top_category_employer1, COUNT(top_category_employer2) AS top_category_employer2, COUNT(top_category_employer3) AS top_category_employer3, COUNT(gender_female) AS female, COUNT(gender_male) AS male, COUNT(gender_na) AS gender_na, COUNT(race_amerindian) AS american, COUNT(race_asian) AS asian, COUNT(race_black) AS black, COUNT(race_noanswer) AS r_noAns, COUNT(race_hawaiiannative) AS hawaii, COUNT(race_other) AS other, COUNT(race_white) AS white\n",
    "#GROUP BY week_number"
   ]
  },
  {
   "cell_type": "code",
   "execution_count": null,
   "id": "9a6dad32",
   "metadata": {},
   "outputs": [],
   "source": [
    "# QUERY THE DATA ONCE\n",
    "query_job = bigquery_client.query(query)\n",
    "unemployment_data = query_job.to_dataframe()\n",
    "print(unemployment_data)"
   ]
  },
  {
   "cell_type": "code",
   "execution_count": null,
   "id": "eab37817",
   "metadata": {},
   "outputs": [],
   "source": [
    "import os\n",
    "import pandas\n",
    "from google.cloud import bigquery\n",
    "from google.oauth2 import service_account\n",
    "from google.cloud.bigquery import magics"
   ]
  },
  {
   "cell_type": "code",
   "execution_count": null,
   "id": "6f9d8f9b",
   "metadata": {},
   "outputs": [],
   "source": [
    "BIGQUERY_PROJECT = 'ironhacks-data'\n",
    "bigquery_client = bigquery.Client(project=BIGQUERY_PROJECT)\n",
    "query = \"\"\"\n",
    "SELECT week_number, COUNT(total_claims) AS total_claims, COUNT(edu_8th_or_less) AS eigth\n",
    "FROM `ironhacks-data.ironhacks_competition.unemployment_data`\n",
    "GROUP BY week_number\n",
    "ORDER BY week_number ASC\n",
    "\"\"\"\n",
    "#, COUNT(edu_grades_9_11) AS 9_11, COUNT(edu_hs_grad_equiv) AS hs_diploma, COUNT(edu_post_hs) AS post_hs, COUNT(edu_unknown) AS edu_unknown, COUNT(top_category_employer1) AS top_category_employer1, COUNT(top_category_employer2) AS top_category_employer2, COUNT(top_category_employer3) AS top_category_employer3, COUNT(gender_female) AS female, COUNT(gender_male) AS male, COUNT(gender_na) AS gender_na, COUNT(race_amerindian) AS american, COUNT(race_asian) AS asian, COUNT(race_black) AS black, COUNT(race_noanswer) AS r_noAns, COUNT(race_hawaiiannative) AS hawaii, COUNT(race_other) AS other, COUNT(race_white) AS white\n",
    "#SELECT week_number, COUNT(total_claims) AS total_claims, COUNT(edu_8th_or_less) AS 8th, COUNT(edu_grades_9_11) AS 9_11, COUNT(edu_hs_grad_equiv) AS hs_diploma, COUNT(edu_post_hs) AS post_hs, COUNT(edu_unknown) AS edu_unknown, COUNT(top_category_employer1) AS top_category_employer1, COUNT(top_category_employer2) AS top_category_employer2, COUNT(top_category_employer3) AS top_category_employer3, COUNT(gender_female) AS female, COUNT(gender_male) AS male, COUNT(gender_na) AS gender_na, COUNT(race_amerindian) AS american, COUNT(race_asian) AS asian, COUNT(race_black) AS black, COUNT(race_noanswer) AS r_noAns, COUNT(race_hawaiiannative) AS hawaii, COUNT(race_other) AS other, COUNT(race_white) AS white\n",
    "#GROUP BY week_number"
   ]
  },
  {
   "cell_type": "code",
   "execution_count": null,
   "id": "d41abda4",
   "metadata": {},
   "outputs": [],
   "source": [
    "# QUERY THE DATA ONCE\n",
    "query_job = bigquery_client.query(query)\n",
    "unemployment_data = query_job.to_dataframe()\n",
    "print(unemployment_data)"
   ]
  },
  {
   "cell_type": "code",
   "execution_count": null,
   "id": "97668f3b",
   "metadata": {},
   "outputs": [],
   "source": [
    "import os\n",
    "import pandas\n",
    "from google.cloud import bigquery\n",
    "from google.oauth2 import service_account\n",
    "from google.cloud.bigquery import magics"
   ]
  },
  {
   "cell_type": "code",
   "execution_count": null,
   "id": "f6005e01",
   "metadata": {},
   "outputs": [],
   "source": [
    "BIGQUERY_PROJECT = 'ironhacks-data'\n",
    "bigquery_client = bigquery.Client(project=BIGQUERY_PROJECT)\n",
    "query = \"\"\"\n",
    "SELECT week_number, COUNT(total_claims) AS total_claims, COUNT(edu_8th_or_less) AS eigth, COUNT(edu_grades_9_11) AS nine_eleven\n",
    "FROM `ironhacks-data.ironhacks_competition.unemployment_data`\n",
    "GROUP BY week_number\n",
    "ORDER BY week_number ASC\n",
    "\"\"\"\n",
    "#, COUNT(edu_hs_grad_equiv) AS hs_diploma, COUNT(edu_post_hs) AS post_hs, COUNT(edu_unknown) AS edu_unknown, COUNT(top_category_employer1) AS top_category_employer1, COUNT(top_category_employer2) AS top_category_employer2, COUNT(top_category_employer3) AS top_category_employer3, COUNT(gender_female) AS female, COUNT(gender_male) AS male, COUNT(gender_na) AS gender_na, COUNT(race_amerindian) AS american, COUNT(race_asian) AS asian, COUNT(race_black) AS black, COUNT(race_noanswer) AS r_noAns, COUNT(race_hawaiiannative) AS hawaii, COUNT(race_other) AS other, COUNT(race_white) AS white\n",
    "#SELECT week_number, COUNT(total_claims) AS total_claims, COUNT(edu_8th_or_less) AS 8th, COUNT(edu_grades_9_11) AS 9_11, COUNT(edu_hs_grad_equiv) AS hs_diploma, COUNT(edu_post_hs) AS post_hs, COUNT(edu_unknown) AS edu_unknown, COUNT(top_category_employer1) AS top_category_employer1, COUNT(top_category_employer2) AS top_category_employer2, COUNT(top_category_employer3) AS top_category_employer3, COUNT(gender_female) AS female, COUNT(gender_male) AS male, COUNT(gender_na) AS gender_na, COUNT(race_amerindian) AS american, COUNT(race_asian) AS asian, COUNT(race_black) AS black, COUNT(race_noanswer) AS r_noAns, COUNT(race_hawaiiannative) AS hawaii, COUNT(race_other) AS other, COUNT(race_white) AS white\n",
    "#GROUP BY week_number"
   ]
  },
  {
   "cell_type": "code",
   "execution_count": null,
   "id": "554951a5",
   "metadata": {},
   "outputs": [],
   "source": [
    "# QUERY THE DATA ONCE\n",
    "query_job = bigquery_client.query(query)\n",
    "unemployment_data = query_job.to_dataframe()\n",
    "print(unemployment_data)"
   ]
  },
  {
   "cell_type": "code",
   "execution_count": null,
   "id": "25db4221",
   "metadata": {},
   "outputs": [],
   "source": [
    "import os\n",
    "import pandas\n",
    "from google.cloud import bigquery\n",
    "from google.oauth2 import service_account\n",
    "from google.cloud.bigquery import magics"
   ]
  },
  {
   "cell_type": "code",
   "execution_count": null,
   "id": "f629c85c",
   "metadata": {},
   "outputs": [],
   "source": [
    "BIGQUERY_PROJECT = 'ironhacks-data'\n",
    "bigquery_client = bigquery.Client(project=BIGQUERY_PROJECT)\n",
    "query = \"\"\"\n",
    "SELECT week_number, COUNT(total_claims) AS total_claims, COUNT(edu_8th_or_less) AS eigth, COUNT(edu_grades_9_11) AS nine_eleven, COUNT(edu_hs_grad_equiv) AS hs_diploma, COUNT(edu_post_hs) AS post_hs, COUNT(edu_unknown) AS edu_unknown, COUNT(top_category_employer1) AS top_category_employer1, COUNT(top_category_employer2) AS top_category_employer2, COUNT(top_category_employer3) AS top_category_employer3, COUNT(gender_female) AS female, COUNT(gender_male) AS male, COUNT(gender_na) AS gender_na, COUNT(race_amerindian) AS american, COUNT(race_asian) AS asian, COUNT(race_black) AS black, COUNT(race_noanswer) AS r_noAns, COUNT(race_hawaiiannative) AS hawaii, COUNT(race_other) AS other, COUNT(race_white) AS white\n",
    "FROM `ironhacks-data.ironhacks_competition.unemployment_data`\n",
    "GROUP BY week_number\n",
    "ORDER BY week_number ASC\n",
    "\"\"\"\n",
    "#\n",
    "#SELECT week_number, COUNT(total_claims) AS total_claims, COUNT(edu_8th_or_less) AS 8th, COUNT(edu_grades_9_11) AS 9_11, COUNT(edu_hs_grad_equiv) AS hs_diploma, COUNT(edu_post_hs) AS post_hs, COUNT(edu_unknown) AS edu_unknown, COUNT(top_category_employer1) AS top_category_employer1, COUNT(top_category_employer2) AS top_category_employer2, COUNT(top_category_employer3) AS top_category_employer3, COUNT(gender_female) AS female, COUNT(gender_male) AS male, COUNT(gender_na) AS gender_na, COUNT(race_amerindian) AS american, COUNT(race_asian) AS asian, COUNT(race_black) AS black, COUNT(race_noanswer) AS r_noAns, COUNT(race_hawaiiannative) AS hawaii, COUNT(race_other) AS other, COUNT(race_white) AS white\n",
    "#GROUP BY week_number"
   ]
  },
  {
   "cell_type": "code",
   "execution_count": null,
   "id": "e30eac8f",
   "metadata": {},
   "outputs": [],
   "source": [
    "# QUERY THE DATA ONCE\n",
    "query_job = bigquery_client.query(query)\n",
    "unemployment_data = query_job.to_dataframe()\n",
    "print(unemployment_data)"
   ]
  },
  {
   "cell_type": "code",
   "execution_count": null,
   "id": "0b78b74d",
   "metadata": {},
   "outputs": [],
   "source": [
    "import pandas as pd\n",
    "import numpy as np\n",
    "import matplotlib\n",
    "import matplotlib.pyplot as plt\n",
    "import seaborn as sns\n",
    "get_ipython().run_line_magic('matplotlib', 'inline')"
   ]
  },
  {
   "cell_type": "code",
   "execution_count": null,
   "id": "20039fef",
   "metadata": {},
   "outputs": [],
   "source": [
    "import os\n",
    "import pandas\n",
    "from google.cloud import bigquery\n",
    "from google.oauth2 import service_account\n",
    "from google.cloud.bigquery import magics"
   ]
  },
  {
   "cell_type": "code",
   "execution_count": null,
   "id": "570ed910",
   "metadata": {},
   "outputs": [],
   "source": [
    "BIGQUERY_PROJECT = 'ironhacks-data'\n",
    "bigquery_client = bigquery.Client(project=BIGQUERY_PROJECT)\n",
    "query = \"\"\"\n",
    "SELECT week_number, COUNT(total_claims) AS total_claims, COUNT(edu_8th_or_less) AS eigth, COUNT(edu_grades_9_11) AS nine_eleven, COUNT(edu_hs_grad_equiv) AS hs_diploma, COUNT(edu_post_hs) AS post_hs, COUNT(edu_unknown) AS edu_unknown, COUNT(gender_female) AS female, COUNT(gender_male) AS male, COUNT(gender_na) AS gender_na, COUNT(race_amerindian) AS american, COUNT(race_asian) AS asian, COUNT(race_black) AS black, COUNT(race_noanswer) AS r_noAns, COUNT(race_hawaiiannative) AS hawaii, COUNT(race_other) AS other, COUNT(race_white) AS white\n",
    "FROM `ironhacks-data.ironhacks_competition.unemployment_data`\n",
    "GROUP BY week_number\n",
    "ORDER BY week_number ASC\n",
    "\"\"\"\n",
    "#\n",
    "#SELECT week_number, COUNT(total_claims) AS total_claims, COUNT(edu_8th_or_less) AS 8th, COUNT(edu_grades_9_11) AS 9_11, COUNT(edu_hs_grad_equiv) AS hs_diploma, COUNT(edu_post_hs) AS post_hs, COUNT(edu_unknown) AS edu_unknown, COUNT(top_category_employer1) AS top_category_employer1, COUNT(top_category_employer2) AS top_category_employer2, COUNT(top_category_employer3) AS top_category_employer3, COUNT(gender_female) AS female, COUNT(gender_male) AS male, COUNT(gender_na) AS gender_na, COUNT(race_amerindian) AS american, COUNT(race_asian) AS asian, COUNT(race_black) AS black, COUNT(race_noanswer) AS r_noAns, COUNT(race_hawaiiannative) AS hawaii, COUNT(race_other) AS other, COUNT(race_white) AS white\n",
    "#GROUP BY week_number"
   ]
  },
  {
   "cell_type": "code",
   "execution_count": null,
   "id": "bdfab997",
   "metadata": {},
   "outputs": [],
   "source": [
    "# QUERY THE DATA ONCE\n",
    "query_job = bigquery_client.query(query)\n",
    "unemployment_data = query_job.to_dataframe()\n",
    "print(unemployment_data)"
   ]
  },
  {
   "cell_type": "code",
   "execution_count": null,
   "id": "527f38ac",
   "metadata": {},
   "outputs": [],
   "source": [
    "import pandas as pd\n",
    "import numpy as np\n",
    "import matplotlib\n",
    "import matplotlib.pyplot as plt\n",
    "import seaborn as sns\n",
    "get_ipython().run_line_magic('matplotlib', 'inline')"
   ]
  },
  {
   "cell_type": "code",
   "execution_count": null,
   "id": "e313c236",
   "metadata": {},
   "outputs": [],
   "source": [
    "import os\n",
    "import pandas\n",
    "from google.cloud import bigquery\n",
    "from google.oauth2 import service_account\n",
    "from google.cloud.bigquery import magics"
   ]
  },
  {
   "cell_type": "code",
   "execution_count": null,
   "id": "e6013190",
   "metadata": {},
   "outputs": [],
   "source": [
    "BIGQUERY_PROJECT = 'ironhacks-data'\n",
    "bigquery_client = bigquery.Client(project=BIGQUERY_PROJECT)\n",
    "query = \"\"\"\n",
    "SELECT week_number, COUNT(total_claims) AS total_claims, COUNT(edu_8th_or_less) AS eigth, COUNT(edu_grades_9_11) AS nine_eleven, COUNT(edu_hs_grad_equiv) AS hs_diploma, COUNT(edu_post_hs) AS post_hs, COUNT(edu_unknown) AS edu_unknown, COUNT(gender_female) AS female, COUNT(gender_male) AS male, COUNT(gender_na) AS gender_na, COUNT(race_amerindian) AS american, COUNT(race_asian) AS asian, COUNT(race_black) AS black, COUNT(race_noanswer) AS r_noAns, COUNT(race_hawaiiannative) AS hawaii, COUNT(race_other) AS other, COUNT(race_white) AS white\n",
    "FROM `ironhacks-data.ironhacks_competition.unemployment_data`\n",
    "GROUP BY week_number\n",
    "ORDER BY week_number ASC\n",
    "\"\"\"\n",
    "#\n",
    "#SELECT week_number, COUNT(total_claims) AS total_claims, COUNT(edu_8th_or_less) AS 8th, COUNT(edu_grades_9_11) AS 9_11, COUNT(edu_hs_grad_equiv) AS hs_diploma, COUNT(edu_post_hs) AS post_hs, COUNT(edu_unknown) AS edu_unknown, COUNT(top_category_employer1) AS top_category_employer1, COUNT(top_category_employer2) AS top_category_employer2, COUNT(top_category_employer3) AS top_category_employer3, COUNT(gender_female) AS female, COUNT(gender_male) AS male, COUNT(gender_na) AS gender_na, COUNT(race_amerindian) AS american, COUNT(race_asian) AS asian, COUNT(race_black) AS black, COUNT(race_noanswer) AS r_noAns, COUNT(race_hawaiiannative) AS hawaii, COUNT(race_other) AS other, COUNT(race_white) AS white\n",
    "#GROUP BY week_number"
   ]
  },
  {
   "cell_type": "code",
   "execution_count": null,
   "id": "6eb0de61",
   "metadata": {},
   "outputs": [],
   "source": [
    "# QUERY THE DATA ONCE\n",
    "query_job = bigquery_client.query(query)\n",
    "unemployment_data = query_job.to_dataframe()\n",
    "data.plot(subplots=True, figsize=(20,24))"
   ]
  },
  {
   "cell_type": "code",
   "execution_count": null,
   "id": "4aac3896",
   "metadata": {},
   "outputs": [],
   "source": [
    "import pandas as pd\n",
    "import numpy as np\n",
    "import matplotlib\n",
    "import matplotlib.pyplot as plt\n",
    "import seaborn as sns\n",
    "get_ipython().run_line_magic('matplotlib', 'inline')"
   ]
  },
  {
   "cell_type": "code",
   "execution_count": null,
   "id": "c8439262",
   "metadata": {},
   "outputs": [],
   "source": [
    "import os\n",
    "import pandas\n",
    "from google.cloud import bigquery\n",
    "from google.oauth2 import service_account\n",
    "from google.cloud.bigquery import magics"
   ]
  },
  {
   "cell_type": "code",
   "execution_count": null,
   "id": "b4150a0b",
   "metadata": {},
   "outputs": [],
   "source": [
    "BIGQUERY_PROJECT = 'ironhacks-data'\n",
    "bigquery_client = bigquery.Client(project=BIGQUERY_PROJECT)\n",
    "query = \"\"\"\n",
    "SELECT week_number, COUNT(total_claims) AS total_claims, COUNT(edu_8th_or_less) AS eigth, COUNT(edu_grades_9_11) AS nine_eleven, COUNT(edu_hs_grad_equiv) AS hs_diploma, COUNT(edu_post_hs) AS post_hs, COUNT(edu_unknown) AS edu_unknown, COUNT(gender_female) AS female, COUNT(gender_male) AS male, COUNT(gender_na) AS gender_na, COUNT(race_amerindian) AS american, COUNT(race_asian) AS asian, COUNT(race_black) AS black, COUNT(race_noanswer) AS r_noAns, COUNT(race_hawaiiannative) AS hawaii, COUNT(race_other) AS other, COUNT(race_white) AS white\n",
    "FROM `ironhacks-data.ironhacks_competition.unemployment_data`\n",
    "GROUP BY week_number\n",
    "ORDER BY week_number ASC\n",
    "\"\"\"\n",
    "#\n",
    "#SELECT week_number, COUNT(total_claims) AS total_claims, COUNT(edu_8th_or_less) AS 8th, COUNT(edu_grades_9_11) AS 9_11, COUNT(edu_hs_grad_equiv) AS hs_diploma, COUNT(edu_post_hs) AS post_hs, COUNT(edu_unknown) AS edu_unknown, COUNT(top_category_employer1) AS top_category_employer1, COUNT(top_category_employer2) AS top_category_employer2, COUNT(top_category_employer3) AS top_category_employer3, COUNT(gender_female) AS female, COUNT(gender_male) AS male, COUNT(gender_na) AS gender_na, COUNT(race_amerindian) AS american, COUNT(race_asian) AS asian, COUNT(race_black) AS black, COUNT(race_noanswer) AS r_noAns, COUNT(race_hawaiiannative) AS hawaii, COUNT(race_other) AS other, COUNT(race_white) AS white\n",
    "#GROUP BY week_number"
   ]
  },
  {
   "cell_type": "code",
   "execution_count": null,
   "id": "4e009d90",
   "metadata": {},
   "outputs": [],
   "source": [
    "# QUERY THE DATA ONCE\n",
    "query_job = bigquery_client.query(query)\n",
    "unemployment_data = query_job.to_dataframe()\n",
    "unemployment_data.plot(subplots=True, figsize=(20,24))"
   ]
  },
  {
   "cell_type": "code",
   "execution_count": null,
   "id": "db01274a",
   "metadata": {},
   "outputs": [],
   "source": [
    "import pandas as pd\n",
    "import numpy as np\n",
    "import matplotlib\n",
    "import matplotlib.pyplot as plt\n",
    "import seaborn as sns\n",
    "get_ipython().run_line_magic('matplotlib', 'inline')"
   ]
  },
  {
   "cell_type": "code",
   "execution_count": null,
   "id": "fe4390ef",
   "metadata": {},
   "outputs": [],
   "source": [
    "import os\n",
    "import pandas\n",
    "from google.cloud import bigquery\n",
    "from google.oauth2 import service_account\n",
    "from google.cloud.bigquery import magics"
   ]
  },
  {
   "cell_type": "code",
   "execution_count": null,
   "id": "5c4e7284",
   "metadata": {},
   "outputs": [],
   "source": [
    "BIGQUERY_PROJECT = 'ironhacks-data'\n",
    "bigquery_client = bigquery.Client(project=BIGQUERY_PROJECT)\n",
    "query = \"\"\"\n",
    "SELECT week_number, COUNT(total_claims) AS total_claims, COUNT(edu_8th_or_less) AS eigth, COUNT(edu_grades_9_11) AS nine_eleven, COUNT(edu_hs_grad_equiv) AS hs_diploma, COUNT(edu_post_hs) AS post_hs, COUNT(edu_unknown) AS edu_unknown, COUNT(gender_female) AS female, COUNT(gender_male) AS male, COUNT(gender_na) AS gender_na, COUNT(race_amerindian) AS american, COUNT(race_asian) AS asian, COUNT(race_black) AS black, COUNT(race_noanswer) AS r_noAns, COUNT(race_hawaiiannative) AS hawaii, COUNT(race_other) AS other, COUNT(race_white) AS white\n",
    "FROM `ironhacks-data.ironhacks_competition.unemployment_data`\n",
    "GROUP BY week_number\n",
    "ORDER BY week_number ASC\n",
    "\"\"\"\n",
    "#\n",
    "#SELECT week_number, COUNT(total_claims) AS total_claims, COUNT(edu_8th_or_less) AS 8th, COUNT(edu_grades_9_11) AS 9_11, COUNT(edu_hs_grad_equiv) AS hs_diploma, COUNT(edu_post_hs) AS post_hs, COUNT(edu_unknown) AS edu_unknown, COUNT(top_category_employer1) AS top_category_employer1, COUNT(top_category_employer2) AS top_category_employer2, COUNT(top_category_employer3) AS top_category_employer3, COUNT(gender_female) AS female, COUNT(gender_male) AS male, COUNT(gender_na) AS gender_na, COUNT(race_amerindian) AS american, COUNT(race_asian) AS asian, COUNT(race_black) AS black, COUNT(race_noanswer) AS r_noAns, COUNT(race_hawaiiannative) AS hawaii, COUNT(race_other) AS other, COUNT(race_white) AS white\n",
    "#GROUP BY week_number"
   ]
  },
  {
   "cell_type": "code",
   "execution_count": null,
   "id": "9341f493",
   "metadata": {},
   "outputs": [],
   "source": [
    "# QUERY THE DATA ONCE\n",
    "query_job = bigquery_client.query(query)\n",
    "unemployment_data = query_job.to_dataframe()\n",
    "unemployment_data.cor()"
   ]
  },
  {
   "cell_type": "code",
   "execution_count": null,
   "id": "b186cc38",
   "metadata": {},
   "outputs": [],
   "source": [
    "import pandas as pd\n",
    "import numpy as np\n",
    "import matplotlib\n",
    "import matplotlib.pyplot as plt\n",
    "import seaborn as sns\n",
    "get_ipython().run_line_magic('matplotlib', 'inline')"
   ]
  },
  {
   "cell_type": "code",
   "execution_count": null,
   "id": "0c68d9f8",
   "metadata": {},
   "outputs": [],
   "source": [
    "import os\n",
    "import pandas\n",
    "from google.cloud import bigquery\n",
    "from google.oauth2 import service_account\n",
    "from google.cloud.bigquery import magics"
   ]
  },
  {
   "cell_type": "code",
   "execution_count": null,
   "id": "5559296d",
   "metadata": {},
   "outputs": [],
   "source": [
    "BIGQUERY_PROJECT = 'ironhacks-data'\n",
    "bigquery_client = bigquery.Client(project=BIGQUERY_PROJECT)\n",
    "query = \"\"\"\n",
    "SELECT week_number, COUNT(total_claims) AS total_claims, COUNT(edu_8th_or_less) AS eigth, COUNT(edu_grades_9_11) AS nine_eleven, COUNT(edu_hs_grad_equiv) AS hs_diploma, COUNT(edu_post_hs) AS post_hs, COUNT(edu_unknown) AS edu_unknown, COUNT(gender_female) AS female, COUNT(gender_male) AS male, COUNT(gender_na) AS gender_na, COUNT(race_amerindian) AS american, COUNT(race_asian) AS asian, COUNT(race_black) AS black, COUNT(race_noanswer) AS r_noAns, COUNT(race_hawaiiannative) AS hawaii, COUNT(race_other) AS other, COUNT(race_white) AS white\n",
    "FROM `ironhacks-data.ironhacks_competition.unemployment_data`\n",
    "GROUP BY week_number\n",
    "ORDER BY week_number ASC\n",
    "\"\"\"\n",
    "#\n",
    "#SELECT week_number, COUNT(total_claims) AS total_claims, COUNT(edu_8th_or_less) AS 8th, COUNT(edu_grades_9_11) AS 9_11, COUNT(edu_hs_grad_equiv) AS hs_diploma, COUNT(edu_post_hs) AS post_hs, COUNT(edu_unknown) AS edu_unknown, COUNT(top_category_employer1) AS top_category_employer1, COUNT(top_category_employer2) AS top_category_employer2, COUNT(top_category_employer3) AS top_category_employer3, COUNT(gender_female) AS female, COUNT(gender_male) AS male, COUNT(gender_na) AS gender_na, COUNT(race_amerindian) AS american, COUNT(race_asian) AS asian, COUNT(race_black) AS black, COUNT(race_noanswer) AS r_noAns, COUNT(race_hawaiiannative) AS hawaii, COUNT(race_other) AS other, COUNT(race_white) AS white\n",
    "#GROUP BY week_number"
   ]
  },
  {
   "cell_type": "code",
   "execution_count": null,
   "id": "d02ffbb0",
   "metadata": {},
   "outputs": [],
   "source": [
    "# QUERY THE DATA ONCE\n",
    "query_job = bigquery_client.query(query)\n",
    "unemployment_data = query_job.to_dataframe()\n",
    "unemployment_data.corr()"
   ]
  },
  {
   "cell_type": "code",
   "execution_count": null,
   "id": "aceef50b",
   "metadata": {},
   "outputs": [],
   "source": [
    "import pandas as pd\n",
    "import numpy as np\n",
    "import matplotlib\n",
    "import matplotlib.pyplot as plt\n",
    "import seaborn as sns\n",
    "get_ipython().run_line_magic('matplotlib', 'inline')"
   ]
  },
  {
   "cell_type": "code",
   "execution_count": null,
   "id": "20dddd0c",
   "metadata": {},
   "outputs": [],
   "source": [
    "import os\n",
    "import pandas\n",
    "from google.cloud import bigquery\n",
    "from google.oauth2 import service_account\n",
    "from google.cloud.bigquery import magics"
   ]
  },
  {
   "cell_type": "code",
   "execution_count": null,
   "id": "e62d9d4d",
   "metadata": {},
   "outputs": [],
   "source": [
    "BIGQUERY_PROJECT = 'ironhacks-data'\n",
    "bigquery_client = bigquery.Client(project=BIGQUERY_PROJECT)\n",
    "query = \"\"\"\n",
    "SELECT week_number, COUNT(total_claims) AS total_claims, COUNT(edu_8th_or_less) AS eigth, COUNT(edu_grades_9_11) AS nine_eleven, COUNT(edu_hs_grad_equiv) AS hs_diploma, COUNT(edu_post_hs) AS post_hs, COUNT(edu_unknown) AS edu_unknown, COUNT(gender_female) AS female, COUNT(gender_male) AS male, COUNT(gender_na) AS gender_na, COUNT(race_amerindian) AS american, COUNT(race_asian) AS asian, COUNT(race_black) AS black, COUNT(race_noanswer) AS r_noAns, COUNT(race_hawaiiannative) AS hawaii, COUNT(race_other) AS other, COUNT(race_white) AS white\n",
    "FROM `ironhacks-data.ironhacks_competition.unemployment_data`\n",
    "GROUP BY week_number\n",
    "ORDER BY week_number ASC\n",
    "\"\"\"\n",
    "#\n",
    "#SELECT week_number, COUNT(total_claims) AS total_claims, COUNT(edu_8th_or_less) AS 8th, COUNT(edu_grades_9_11) AS 9_11, COUNT(edu_hs_grad_equiv) AS hs_diploma, COUNT(edu_post_hs) AS post_hs, COUNT(edu_unknown) AS edu_unknown, COUNT(top_category_employer1) AS top_category_employer1, COUNT(top_category_employer2) AS top_category_employer2, COUNT(top_category_employer3) AS top_category_employer3, COUNT(gender_female) AS female, COUNT(gender_male) AS male, COUNT(gender_na) AS gender_na, COUNT(race_amerindian) AS american, COUNT(race_asian) AS asian, COUNT(race_black) AS black, COUNT(race_noanswer) AS r_noAns, COUNT(race_hawaiiannative) AS hawaii, COUNT(race_other) AS other, COUNT(race_white) AS white\n",
    "#GROUP BY week_number"
   ]
  },
  {
   "cell_type": "code",
   "execution_count": null,
   "id": "d662dee5",
   "metadata": {},
   "outputs": [],
   "source": [
    "# QUERY THE DATA ONCE\n",
    "query_job = bigquery_client.query(query)\n",
    "unemployment_data = query_job.to_dataframe()\n",
    "unemployment_data.plot(subplots=True, figsize=(20,24))"
   ]
  },
  {
   "cell_type": "code",
   "execution_count": null,
   "id": "2a050575",
   "metadata": {},
   "outputs": [],
   "source": [
    "import pandas as pd\n",
    "import numpy as np\n",
    "import matplotlib\n",
    "import matplotlib.pyplot as plt\n",
    "import seaborn as sns\n",
    "get_ipython().run_line_magic('matplotlib', 'inline')"
   ]
  },
  {
   "cell_type": "code",
   "execution_count": null,
   "id": "1f05de3e",
   "metadata": {},
   "outputs": [],
   "source": [
    "import os\n",
    "import pandas\n",
    "from google.cloud import bigquery\n",
    "from google.oauth2 import service_account\n",
    "from google.cloud.bigquery import magics"
   ]
  },
  {
   "cell_type": "code",
   "execution_count": null,
   "id": "fead7191",
   "metadata": {},
   "outputs": [],
   "source": [
    "BIGQUERY_PROJECT = 'ironhacks-data'\n",
    "bigquery_client = bigquery.Client(project=BIGQUERY_PROJECT)\n",
    "query = \"\"\"\n",
    "SELECT week_number, COUNT(total_claims) AS total_claims, COUNT(edu_8th_or_less) AS eigth, COUNT(edu_grades_9_11) AS nine_eleven, COUNT(edu_hs_grad_equiv) AS hs_diploma, COUNT(edu_post_hs) AS post_hs, COUNT(edu_unknown) AS edu_unknown, COUNT(gender_female) AS female, COUNT(gender_male) AS male, COUNT(gender_na) AS gender_na, COUNT(race_amerindian) AS american, COUNT(race_asian) AS asian, COUNT(race_black) AS black, COUNT(race_noanswer) AS r_noAns, COUNT(race_hawaiiannative) AS hawaii, COUNT(race_other) AS other, COUNT(race_white) AS white\n",
    "FROM `ironhacks-data.ironhacks_competition.unemployment_data`\n",
    "GROUP BY week_number\n",
    "ORDER BY week_number ASC\n",
    "\"\"\"\n",
    "#\n",
    "#SELECT week_number, COUNT(total_claims) AS total_claims, COUNT(edu_8th_or_less) AS 8th, COUNT(edu_grades_9_11) AS 9_11, COUNT(edu_hs_grad_equiv) AS hs_diploma, COUNT(edu_post_hs) AS post_hs, COUNT(edu_unknown) AS edu_unknown, COUNT(top_category_employer1) AS top_category_employer1, COUNT(top_category_employer2) AS top_category_employer2, COUNT(top_category_employer3) AS top_category_employer3, COUNT(gender_female) AS female, COUNT(gender_male) AS male, COUNT(gender_na) AS gender_na, COUNT(race_amerindian) AS american, COUNT(race_asian) AS asian, COUNT(race_black) AS black, COUNT(race_noanswer) AS r_noAns, COUNT(race_hawaiiannative) AS hawaii, COUNT(race_other) AS other, COUNT(race_white) AS white\n",
    "#GROUP BY week_number"
   ]
  },
  {
   "cell_type": "code",
   "execution_count": null,
   "id": "ec14058d",
   "metadata": {},
   "outputs": [],
   "source": [
    "# QUERY THE DATA ONCE\n",
    "query_job = bigquery_client.query(query)\n",
    "unemployment_data = query_job.to_dataframe()\n",
    "unemployment_data.corr()"
   ]
  },
  {
   "cell_type": "code",
   "execution_count": null,
   "id": "f25994c2",
   "metadata": {},
   "outputs": [],
   "source": [
    "import pandas as pd\n",
    "import numpy as np\n",
    "import matplotlib\n",
    "import matplotlib.pyplot as plt\n",
    "import seaborn as sns\n",
    "get_ipython().run_line_magic('matplotlib', 'inline')"
   ]
  },
  {
   "cell_type": "code",
   "execution_count": null,
   "id": "4a9809a4",
   "metadata": {},
   "outputs": [],
   "source": [
    "import os\n",
    "import pandas\n",
    "from google.cloud import bigquery\n",
    "from google.oauth2 import service_account\n",
    "from google.cloud.bigquery import magics"
   ]
  },
  {
   "cell_type": "code",
   "execution_count": null,
   "id": "e0d3d628",
   "metadata": {},
   "outputs": [],
   "source": [
    "BIGQUERY_PROJECT = 'ironhacks-data'\n",
    "bigquery_client = bigquery.Client(project=BIGQUERY_PROJECT)\n",
    "query = \"\"\"\n",
    "SELECT week_number, COUNT(total_claims) AS total_claims, COUNT(edu_8th_or_less) AS eigth, COUNT(edu_grades_9_11) AS nine_eleven, COUNT(edu_hs_grad_equiv) AS hs_diploma, COUNT(edu_post_hs) AS post_hs, COUNT(edu_unknown) AS edu_unknown, COUNT(gender_female) AS female, COUNT(gender_male) AS male, COUNT(gender_na) AS gender_na, COUNT(race_amerindian) AS american, COUNT(race_asian) AS asian, COUNT(race_black) AS black, COUNT(race_noanswer) AS r_noAns, COUNT(race_hawaiiannative) AS hawaii, COUNT(race_other) AS other, COUNT(race_white) AS white\n",
    "FROM `ironhacks-data.ironhacks_competition.unemployment_data`\n",
    "GROUP BY week_number\n",
    "ORDER BY week_number ASC\n",
    "\"\"\"\n",
    "#\n",
    "#SELECT week_number, COUNT(total_claims) AS total_claims, COUNT(edu_8th_or_less) AS 8th, COUNT(edu_grades_9_11) AS 9_11, COUNT(edu_hs_grad_equiv) AS hs_diploma, COUNT(edu_post_hs) AS post_hs, COUNT(edu_unknown) AS edu_unknown, COUNT(top_category_employer1) AS top_category_employer1, COUNT(top_category_employer2) AS top_category_employer2, COUNT(top_category_employer3) AS top_category_employer3, COUNT(gender_female) AS female, COUNT(gender_male) AS male, COUNT(gender_na) AS gender_na, COUNT(race_amerindian) AS american, COUNT(race_asian) AS asian, COUNT(race_black) AS black, COUNT(race_noanswer) AS r_noAns, COUNT(race_hawaiiannative) AS hawaii, COUNT(race_other) AS other, COUNT(race_white) AS white\n",
    "#GROUP BY week_number"
   ]
  },
  {
   "cell_type": "code",
   "execution_count": null,
   "id": "29cd034d",
   "metadata": {},
   "outputs": [],
   "source": [
    "# QUERY THE DATA ONCE\n",
    "query_job = bigquery_client.query(query)\n",
    "unemployment_data = query_job.to_dataframe()\n",
    "cor = unemployment_data.corr()\n",
    "cor_target = abs(cor[\"total_claims\"])\n",
    "relevant_features = cor_target[cor_target>0.5]\n",
    "print(relevant_features)"
   ]
  },
  {
   "cell_type": "code",
   "execution_count": null,
   "id": "691d594f",
   "metadata": {},
   "outputs": [],
   "source": [
    "import pandas as pd\n",
    "import numpy as np\n",
    "import matplotlib\n",
    "import matplotlib.pyplot as plt\n",
    "import seaborn as sns\n",
    "get_ipython().run_line_magic('matplotlib', 'inline')"
   ]
  },
  {
   "cell_type": "code",
   "execution_count": null,
   "id": "9d21213d",
   "metadata": {},
   "outputs": [],
   "source": [
    "import os\n",
    "import pandas\n",
    "from google.cloud import bigquery\n",
    "from google.oauth2 import service_account\n",
    "from google.cloud.bigquery import magics"
   ]
  },
  {
   "cell_type": "code",
   "execution_count": null,
   "id": "3680a8f3",
   "metadata": {},
   "outputs": [],
   "source": [
    "BIGQUERY_PROJECT = 'ironhacks-data'\n",
    "bigquery_client = bigquery.Client(project=BIGQUERY_PROJECT)\n",
    "query = \"\"\"\n",
    "SELECT week_number, COUNT(total_claims) AS total_claims, COUNT(edu_8th_or_less) AS eigth, COUNT(edu_grades_9_11) AS nine_eleven, COUNT(edu_hs_grad_equiv) AS hs_diploma, COUNT(edu_post_hs) AS post_hs, COUNT(edu_unknown) AS edu_unknown, COUNT(gender_female) AS female, COUNT(gender_male) AS male, COUNT(gender_na) AS gender_na, COUNT(race_amerindian) AS american, COUNT(race_asian) AS asian, COUNT(race_black) AS black, COUNT(race_noanswer) AS r_noAns, COUNT(race_hawaiiannative) AS hawaii, COUNT(race_other) AS other, COUNT(race_white) AS white\n",
    "FROM `ironhacks-data.ironhacks_competition.unemployment_data`\n",
    "GROUP BY week_number\n",
    "ORDER BY week_number ASC\n",
    "\"\"\"\n",
    "#\n",
    "#SELECT week_number, COUNT(total_claims) AS total_claims, COUNT(edu_8th_or_less) AS 8th, COUNT(edu_grades_9_11) AS 9_11, COUNT(edu_hs_grad_equiv) AS hs_diploma, COUNT(edu_post_hs) AS post_hs, COUNT(edu_unknown) AS edu_unknown, COUNT(top_category_employer1) AS top_category_employer1, COUNT(top_category_employer2) AS top_category_employer2, COUNT(top_category_employer3) AS top_category_employer3, COUNT(gender_female) AS female, COUNT(gender_male) AS male, COUNT(gender_na) AS gender_na, COUNT(race_amerindian) AS american, COUNT(race_asian) AS asian, COUNT(race_black) AS black, COUNT(race_noanswer) AS r_noAns, COUNT(race_hawaiiannative) AS hawaii, COUNT(race_other) AS other, COUNT(race_white) AS white\n",
    "#GROUP BY week_number"
   ]
  },
  {
   "cell_type": "code",
   "execution_count": null,
   "id": "3adaefa4",
   "metadata": {},
   "outputs": [],
   "source": [
    "# QUERY THE DATA ONCE\n",
    "query_job = bigquery_client.query(query)\n",
    "unemployment_data = query_job.to_dataframe()\n",
    "cor = unemployment_data.corr()\n",
    "cor_target = abs(cor[\"total_claims\"])\n",
    "relevant_features = cor_target[cor_target>0.9]\n",
    "print(relevant_features)"
   ]
  },
  {
   "cell_type": "code",
   "execution_count": null,
   "id": "e446170e",
   "metadata": {
    "lines_to_next_cell": 2
   },
   "outputs": [],
   "source": [
    "query = \"\"\"\n",
    "SELECT *\n",
    "FROM `ironhacks-data.ironhacks_competition.wage_data`\n",
    "GROUP BY week_number\n",
    "ORDER BY week_number ASC\n",
    "\"\"\""
   ]
  },
  {
   "cell_type": "code",
   "execution_count": null,
   "id": "024c718c",
   "metadata": {},
   "outputs": [],
   "source": [
    "# QUERY THE DATA ONCE\n",
    "query_job = bigquery_client.query(query)\n",
    "unemployment_data = query_job.to_dataframe()\n",
    "print(unemployment_data)"
   ]
  },
  {
   "cell_type": "code",
   "execution_count": null,
   "id": "331d5043",
   "metadata": {
    "lines_to_next_cell": 2
   },
   "outputs": [],
   "source": [
    "query = \"\"\"\n",
    "SELECT *\n",
    "FROM `ironhacks-data.ironhacks_competition.wage_data`\n",
    "\n",
    "\"\"\""
   ]
  },
  {
   "cell_type": "code",
   "execution_count": null,
   "id": "cd7b36f3",
   "metadata": {},
   "outputs": [],
   "source": [
    "# QUERY THE DATA ONCE\n",
    "query_job = bigquery_client.query(query)\n",
    "unemployment_data = query_job.to_dataframe()\n",
    "print(unemployment_data)"
   ]
  },
  {
   "cell_type": "code",
   "execution_count": null,
   "id": "e82fc603",
   "metadata": {
    "lines_to_next_cell": 2
   },
   "outputs": [],
   "source": [
    "query = \"\"\"\n",
    "SELECT column_name\n",
    "FROM `ironhacks-data.ironhacks_competition.INFORMATION_SCHEMA.COLUMNS`\n",
    "WHERE table_name = 'wage_data'\n",
    "\"\"\""
   ]
  },
  {
   "cell_type": "code",
   "execution_count": null,
   "id": "403803ae",
   "metadata": {},
   "outputs": [],
   "source": [
    "# QUERY THE DATA ONCE\n",
    "query_job = bigquery_client.query(query)\n",
    "unemployment_data = query_job.to_dataframe()\n",
    "print(unemployment_data)"
   ]
  },
  {
   "cell_type": "code",
   "execution_count": null,
   "id": "31c785db",
   "metadata": {},
   "outputs": [],
   "source": [
    "import pandas as pd\n",
    "import numpy as np\n",
    "import matplotlib\n",
    "import matplotlib.pyplot as plt\n",
    "import seaborn as sns\n",
    "get_ipython().run_line_magic('matplotlib', 'inline')"
   ]
  },
  {
   "cell_type": "code",
   "execution_count": null,
   "id": "fc52335c",
   "metadata": {},
   "outputs": [],
   "source": [
    "import os\n",
    "import pandas\n",
    "from google.cloud import bigquery\n",
    "from google.oauth2 import service_account\n",
    "from google.cloud.bigquery import magics"
   ]
  },
  {
   "cell_type": "code",
   "execution_count": null,
   "id": "da2d69ac",
   "metadata": {},
   "outputs": [],
   "source": [
    "BIGQUERY_PROJECT = 'ironhacks-data'\n",
    "bigquery_client = bigquery.Client(project=BIGQUERY_PROJECT)\n",
    "query = \"\"\"\n",
    "SELECT week_number, COUNT(total_claims) AS total_claims, COUNT(edu_8th_or_less) AS eigth, COUNT(edu_grades_9_11) AS nine_eleven, COUNT(edu_hs_grad_equiv) AS hs_diploma, COUNT(edu_post_hs) AS post_hs, COUNT(edu_unknown) AS edu_unknown, COUNT(gender_female) AS female, COUNT(gender_male) AS male, COUNT(gender_na) AS gender_na, COUNT(race_amerindian) AS american, COUNT(race_asian) AS asian, COUNT(race_black) AS black, COUNT(race_noanswer) AS r_noAns, COUNT(race_hawaiiannative) AS hawaii, COUNT(race_other) AS other, COUNT(race_white) AS white\n",
    "FROM `ironhacks-data.ironhacks_competition.unemployment_data`\n",
    "GROUP BY week_number\n",
    "ORDER BY week_number ASC\n",
    "\"\"\"\n",
    "#\n",
    "#SELECT week_number, COUNT(total_claims) AS total_claims, COUNT(edu_8th_or_less) AS 8th, COUNT(edu_grades_9_11) AS 9_11, COUNT(edu_hs_grad_equiv) AS hs_diploma, COUNT(edu_post_hs) AS post_hs, COUNT(edu_unknown) AS edu_unknown, COUNT(top_category_employer1) AS top_category_employer1, COUNT(top_category_employer2) AS top_category_employer2, COUNT(top_category_employer3) AS top_category_employer3, COUNT(gender_female) AS female, COUNT(gender_male) AS male, COUNT(gender_na) AS gender_na, COUNT(race_amerindian) AS american, COUNT(race_asian) AS asian, COUNT(race_black) AS black, COUNT(race_noanswer) AS r_noAns, COUNT(race_hawaiiannative) AS hawaii, COUNT(race_other) AS other, COUNT(race_white) AS white\n",
    "#GROUP BY week_number"
   ]
  },
  {
   "cell_type": "code",
   "execution_count": null,
   "id": "15c2f0a1",
   "metadata": {},
   "outputs": [],
   "source": [
    "# QUERY THE DATA ONCE\n",
    "query_job = bigquery_client.query(query)\n",
    "unemployment_data = query_job.to_dataframe()\n",
    "unemployment_data.plot(subplots=True, figsize=(20,24))"
   ]
  },
  {
   "cell_type": "code",
   "execution_count": null,
   "id": "c09f867e",
   "metadata": {},
   "outputs": [],
   "source": [
    "query = \"\"\"\n",
    "SELECT *\n",
    "FROM `ironhacks-data.ironhacks_competition.unemployment_data`\n",
    "\"\"\""
   ]
  },
  {
   "cell_type": "code",
   "execution_count": null,
   "id": "19c99263",
   "metadata": {},
   "outputs": [],
   "source": [
    "# QUERY THE DATA ONCE\n",
    "query_job = bigquery_client.query(query)\n",
    "unemployment_data = query_job.to_dataframe()\n",
    "print(unemployment_data)"
   ]
  },
  {
   "cell_type": "code",
   "execution_count": null,
   "id": "7caaca4d",
   "metadata": {},
   "outputs": [],
   "source": [
    "query = \"\"\"\n",
    "SELECT *\n",
    "FROM `ironhacks-data.ironhacks_competition.unemployment_data`\n",
    "ORDER BY week_number \n",
    "\"\"\""
   ]
  },
  {
   "cell_type": "code",
   "execution_count": null,
   "id": "3b7b768b",
   "metadata": {},
   "outputs": [],
   "source": [
    "# QUERY THE DATA ONCE\n",
    "query_job = bigquery_client.query(query)\n",
    "unemployment_data = query_job.to_dataframe()\n",
    "print(unemployment_data)"
   ]
  },
  {
   "cell_type": "code",
   "execution_count": null,
   "id": "1c1b521e",
   "metadata": {},
   "outputs": [],
   "source": [
    "query = \"\"\"\n",
    "SELECT *\n",
    "FROM `ironhacks-data.ironhacks_competition.unemployment_data`\n",
    "ORDER BY week_number \n",
    "\"\"\""
   ]
  },
  {
   "cell_type": "code",
   "execution_count": null,
   "id": "3529e747",
   "metadata": {},
   "outputs": [],
   "source": [
    "# QUERY THE DATA ONCE\n",
    "query_job = bigquery_client.query(query)\n",
    "unemployment_data = query_job.to_dataframe()\n",
    "unemployment_data.drop_duplicates(inplace = True)\n",
    "print(unemployment_data)"
   ]
  },
  {
   "cell_type": "code",
   "execution_count": null,
   "id": "0851f6bb",
   "metadata": {},
   "outputs": [],
   "source": [
    "import pandas as pd\n",
    "import numpy as np\n",
    "import matplotlib\n",
    "import matplotlib.pyplot as plt\n",
    "import seaborn as sns\n",
    "get_ipython().run_line_magic('matplotlib', 'inline')"
   ]
  },
  {
   "cell_type": "code",
   "execution_count": null,
   "id": "be55d8c4",
   "metadata": {},
   "outputs": [],
   "source": [
    "import os\n",
    "import pandas\n",
    "from google.cloud import bigquery\n",
    "from google.oauth2 import service_account\n",
    "from google.cloud.bigquery import magics"
   ]
  },
  {
   "cell_type": "code",
   "execution_count": null,
   "id": "1d22d3c1",
   "metadata": {},
   "outputs": [],
   "source": [
    "BIGQUERY_PROJECT = 'ironhacks-data'\n",
    "bigquery_client = bigquery.Client(project=BIGQUERY_PROJECT)\n",
    "query = \"\"\"\n",
    "SELECT week_number, COUNT(total_claims) AS total_claims, COUNT(edu_8th_or_less) AS eigth, COUNT(edu_grades_9_11) AS nine_eleven, COUNT(edu_hs_grad_equiv) AS hs_diploma, COUNT(edu_post_hs) AS post_hs, COUNT(edu_unknown) AS edu_unknown, COUNT(gender_female) AS female, COUNT(gender_male) AS male, COUNT(gender_na) AS gender_na, COUNT(race_amerindian) AS american, COUNT(race_asian) AS asian, COUNT(race_black) AS black, COUNT(race_noanswer) AS r_noAns, COUNT(race_hawaiiannative) AS hawaii, COUNT(race_other) AS other, COUNT(race_white) AS white\n",
    "FROM `ironhacks-data.ironhacks_competition.unemployment_data`\n",
    "GROUP BY week_number\n",
    "ORDER BY week_number ASC\n",
    "\"\"\"\n",
    "#\n",
    "#SELECT week_number, COUNT(total_claims) AS total_claims, COUNT(edu_8th_or_less) AS 8th, COUNT(edu_grades_9_11) AS 9_11, COUNT(edu_hs_grad_equiv) AS hs_diploma, COUNT(edu_post_hs) AS post_hs, COUNT(edu_unknown) AS edu_unknown, COUNT(top_category_employer1) AS top_category_employer1, COUNT(top_category_employer2) AS top_category_employer2, COUNT(top_category_employer3) AS top_category_employer3, COUNT(gender_female) AS female, COUNT(gender_male) AS male, COUNT(gender_na) AS gender_na, COUNT(race_amerindian) AS american, COUNT(race_asian) AS asian, COUNT(race_black) AS black, COUNT(race_noanswer) AS r_noAns, COUNT(race_hawaiiannative) AS hawaii, COUNT(race_other) AS other, COUNT(race_white) AS white\n",
    "#GROUP BY week_number"
   ]
  },
  {
   "cell_type": "code",
   "execution_count": null,
   "id": "bd54e6a5",
   "metadata": {},
   "outputs": [],
   "source": [
    "# QUERY THE DATA ONCE\n",
    "query_job = bigquery_client.query(query)\n",
    "unemployment_data = query_job.to_dataframe()\n",
    "unemployment_data.drop_duplicates(inplace = True)\n",
    "unemployment_data.plot(subplots=True, figsize=(20,24))"
   ]
  },
  {
   "cell_type": "code",
   "execution_count": null,
   "id": "ad81b10f",
   "metadata": {},
   "outputs": [],
   "source": [
    "import pandas as pd\n",
    "import numpy as np\n",
    "import matplotlib\n",
    "import matplotlib.pyplot as plt\n",
    "import seaborn as sns\n",
    "get_ipython().run_line_magic('matplotlib', 'inline')"
   ]
  },
  {
   "cell_type": "code",
   "execution_count": null,
   "id": "da506887",
   "metadata": {},
   "outputs": [],
   "source": [
    "import os\n",
    "import pandas\n",
    "from google.cloud import bigquery\n",
    "from google.oauth2 import service_account\n",
    "from google.cloud.bigquery import magics"
   ]
  },
  {
   "cell_type": "code",
   "execution_count": null,
   "id": "2e89a121",
   "metadata": {},
   "outputs": [],
   "source": [
    "BIGQUERY_PROJECT = 'ironhacks-data'\n",
    "bigquery_client = bigquery.Client(project=BIGQUERY_PROJECT)\n",
    "query = \"\"\"\n",
    "SELECT week_number, COUNT(total_claims) AS total_claims, COUNT(edu_8th_or_less) AS eigth, COUNT(edu_grades_9_11) AS nine_eleven, COUNT(edu_hs_grad_equiv) AS hs_diploma, COUNT(edu_post_hs) AS post_hs, COUNT(edu_unknown) AS edu_unknown, COUNT(gender_female) AS female, COUNT(gender_male) AS male, COUNT(gender_na) AS gender_na, COUNT(race_amerindian) AS american, COUNT(race_asian) AS asian, COUNT(race_black) AS black, COUNT(race_noanswer) AS r_noAns, COUNT(race_hawaiiannative) AS hawaii, COUNT(race_other) AS other, COUNT(race_white) AS white\n",
    "FROM `ironhacks-data.ironhacks_competition.unemployment_data`\n",
    "GROUP BY week_number\n",
    "ORDER BY week_number ASC\n",
    "\"\"\"\n",
    "#\n",
    "#SELECT week_number, COUNT(total_claims) AS total_claims, COUNT(edu_8th_or_less) AS 8th, COUNT(edu_grades_9_11) AS 9_11, COUNT(edu_hs_grad_equiv) AS hs_diploma, COUNT(edu_post_hs) AS post_hs, COUNT(edu_unknown) AS edu_unknown, COUNT(top_category_employer1) AS top_category_employer1, COUNT(top_category_employer2) AS top_category_employer2, COUNT(top_category_employer3) AS top_category_employer3, COUNT(gender_female) AS female, COUNT(gender_male) AS male, COUNT(gender_na) AS gender_na, COUNT(race_amerindian) AS american, COUNT(race_asian) AS asian, COUNT(race_black) AS black, COUNT(race_noanswer) AS r_noAns, COUNT(race_hawaiiannative) AS hawaii, COUNT(race_other) AS other, COUNT(race_white) AS white\n",
    "#GROUP BY week_number"
   ]
  },
  {
   "cell_type": "code",
   "execution_count": null,
   "id": "d60e8513",
   "metadata": {},
   "outputs": [],
   "source": [
    "# QUERY THE DATA ONCE\n",
    "query_job = bigquery_client.query(query)\n",
    "unemployment_data = query_job.to_dataframe()\n",
    "unemployment_data.drop_duplicates(inplace = True)\n",
    "#unemployment_data.plot(subplots=True, figsize=(20,24))\n",
    "cor_target = abs(cor[\"total_claims\"])\n",
    "relevant_features = cor_target[cor_target>0.8]\n",
    "print(relevant_features)"
   ]
  },
  {
   "cell_type": "code",
   "execution_count": null,
   "id": "8908f622",
   "metadata": {},
   "outputs": [],
   "source": [
    "import pandas as pd\n",
    "import numpy as np\n",
    "import matplotlib\n",
    "import matplotlib.pyplot as plt\n",
    "import seaborn as sns\n",
    "get_ipython().run_line_magic('matplotlib', 'inline')"
   ]
  },
  {
   "cell_type": "code",
   "execution_count": null,
   "id": "41814e30",
   "metadata": {},
   "outputs": [],
   "source": [
    "import os\n",
    "import pandas\n",
    "from google.cloud import bigquery\n",
    "from google.oauth2 import service_account\n",
    "from google.cloud.bigquery import magics"
   ]
  },
  {
   "cell_type": "code",
   "execution_count": null,
   "id": "57648ee9",
   "metadata": {},
   "outputs": [],
   "source": [
    "BIGQUERY_PROJECT = 'ironhacks-data'\n",
    "bigquery_client = bigquery.Client(project=BIGQUERY_PROJECT)\n",
    "query = \"\"\"\n",
    "SELECT week_number, COUNT(total_claims) AS total_claims, COUNT(edu_8th_or_less) AS eigth, COUNT(edu_grades_9_11) AS nine_eleven, COUNT(edu_hs_grad_equiv) AS hs_diploma, COUNT(edu_post_hs) AS post_hs, COUNT(edu_unknown) AS edu_unknown, COUNT(gender_female) AS female, COUNT(gender_male) AS male, COUNT(gender_na) AS gender_na, COUNT(race_amerindian) AS american, COUNT(race_asian) AS asian, COUNT(race_black) AS black, COUNT(race_noanswer) AS r_noAns, COUNT(race_hawaiiannative) AS hawaii, COUNT(race_other) AS other, COUNT(race_white) AS white\n",
    "FROM `ironhacks-data.ironhacks_competition.unemployment_data`\n",
    "GROUP BY week_number\n",
    "ORDER BY week_number ASC\n",
    "\"\"\"\n",
    "#\n",
    "#SELECT week_number, COUNT(total_claims) AS total_claims, COUNT(edu_8th_or_less) AS 8th, COUNT(edu_grades_9_11) AS 9_11, COUNT(edu_hs_grad_equiv) AS hs_diploma, COUNT(edu_post_hs) AS post_hs, COUNT(edu_unknown) AS edu_unknown, COUNT(top_category_employer1) AS top_category_employer1, COUNT(top_category_employer2) AS top_category_employer2, COUNT(top_category_employer3) AS top_category_employer3, COUNT(gender_female) AS female, COUNT(gender_male) AS male, COUNT(gender_na) AS gender_na, COUNT(race_amerindian) AS american, COUNT(race_asian) AS asian, COUNT(race_black) AS black, COUNT(race_noanswer) AS r_noAns, COUNT(race_hawaiiannative) AS hawaii, COUNT(race_other) AS other, COUNT(race_white) AS white\n",
    "#GROUP BY week_number"
   ]
  },
  {
   "cell_type": "code",
   "execution_count": null,
   "id": "81b95880",
   "metadata": {},
   "outputs": [],
   "source": [
    "# QUERY THE DATA ONCE\n",
    "query_job = bigquery_client.query(query)\n",
    "unemployment_data = query_job.to_dataframe()\n",
    "unemployment_data.drop_duplicates(inplace = True)\n",
    "#unemployment_data.plot(subplots=True, figsize=(20,24))\n",
    "cor_target = abs(cor[\"total_claims\"])\n",
    "relevant_features = cor_target[cor_target>0.9]\n",
    "print(relevant_features)"
   ]
  },
  {
   "cell_type": "code",
   "execution_count": null,
   "id": "c5d36a43",
   "metadata": {
    "lines_to_next_cell": 2
   },
   "outputs": [],
   "source": [
    "query = \"\"\"\n",
    "SELECT *\n",
    "FROM `ironhacks-data.ironhacks_competition.wage_data`\n",
    "WHERE table_name = 'wage_data'\n",
    "\"\"\""
   ]
  },
  {
   "cell_type": "code",
   "execution_count": null,
   "id": "2c95e06c",
   "metadata": {},
   "outputs": [],
   "source": [
    "# QUERY THE DATA ONCE\n",
    "query_job = bigquery_client.query(query)\n",
    "wage_data = query_job.to_dataframe()\n",
    "print(wage_data)"
   ]
  },
  {
   "cell_type": "code",
   "execution_count": null,
   "id": "e124d5a4",
   "metadata": {
    "lines_to_next_cell": 2
   },
   "outputs": [],
   "source": [
    "query = \"\"\"\n",
    "SELECT *\n",
    "FROM `ironhacks-data.ironhacks_competition.wage_data`\n",
    "\"\"\""
   ]
  },
  {
   "cell_type": "code",
   "execution_count": null,
   "id": "46363f10",
   "metadata": {},
   "outputs": [],
   "source": [
    "# QUERY THE DATA ONCE\n",
    "query_job = bigquery_client.query(query)\n",
    "wage_data = query_job.to_dataframe()\n",
    "print(wage_data)"
   ]
  },
  {
   "cell_type": "code",
   "execution_count": null,
   "id": "838c2e29",
   "metadata": {},
   "outputs": [],
   "source": [
    "query = \"\"\"\n",
    "SELECT tract_name\n",
    "FROM `ironhacks-data.ironhacks_competition.unemployment_data`\n",
    "ORDER BY week_number \n",
    "\"\"\""
   ]
  },
  {
   "cell_type": "code",
   "execution_count": null,
   "id": "76e46c70",
   "metadata": {},
   "outputs": [],
   "source": [
    "# QUERY THE DATA ONCE\n",
    "query_job = bigquery_client.query(query)\n",
    "unemployment_data = query_job.to_dataframe()\n",
    "unemployment_data.drop_duplicates(inplace = True)\n",
    "print(unemployment_data)"
   ]
  },
  {
   "cell_type": "code",
   "execution_count": null,
   "id": "380af02c",
   "metadata": {},
   "outputs": [],
   "source": [
    "query = \"\"\"\n",
    "SELECT week_number, tract_name, COUNT(total_claims) AS total_claims\n",
    "FROM `ironhacks-data.ironhacks_competition.unemployment_data`\n",
    "GROUP BY tract_name\n",
    "ORDER BY week_number \n",
    "\"\"\""
   ]
  },
  {
   "cell_type": "code",
   "execution_count": null,
   "id": "f530d7ba",
   "metadata": {},
   "outputs": [],
   "source": [
    "# QUERY THE DATA ONCE\n",
    "query_job = bigquery_client.query(query)\n",
    "unemployment_data = query_job.to_dataframe()\n",
    "unemployment_data.drop_duplicates(inplace = True)\n",
    "print(unemployment_data)"
   ]
  },
  {
   "cell_type": "code",
   "execution_count": null,
   "id": "b69b9f3d",
   "metadata": {},
   "outputs": [],
   "source": [
    "query = \"\"\"\n",
    "SELECT week_number, \n",
    "FROM `ironhacks-data.ironhacks_competition.unemployment_data`\n",
    "GROUP BY tract_name\n",
    "ORDER BY week_number \n",
    "\"\"\""
   ]
  },
  {
   "cell_type": "code",
   "execution_count": null,
   "id": "fea657c7",
   "metadata": {},
   "outputs": [],
   "source": [
    "# QUERY THE DATA ONCE\n",
    "query_job = bigquery_client.query(query)\n",
    "unemployment_data = query_job.to_dataframe()\n",
    "unemployment_data.drop_duplicates(inplace = True)\n",
    "print(unemployment_data)"
   ]
  },
  {
   "cell_type": "code",
   "execution_count": null,
   "id": "1679601b",
   "metadata": {},
   "outputs": [],
   "source": [
    "query = \"\"\"\n",
    "SELECT *\n",
    "FROM `ironhacks-data.ironhacks_competition.unemployment_data`\n",
    "GROUP BY tract_name\n",
    "ORDER BY week_number \n",
    "\"\"\""
   ]
  },
  {
   "cell_type": "code",
   "execution_count": null,
   "id": "833be7bd",
   "metadata": {
    "lines_to_next_cell": 2
   },
   "outputs": [],
   "source": [
    "# QUERY THE DATA ONCE\n",
    "query_job = bigquery_client.query(query)\n",
    "unemployment_data = query_job.to_dataframe()\n",
    "unemployment_data.drop_duplicates(inplace = True)\n",
    "print(unemployment_data)"
   ]
  }
 ],
 "metadata": {
  "jupytext": {
   "cell_metadata_filter": "-all",
   "main_language": "python",
   "notebook_metadata_filter": "-all"
  }
 },
 "nbformat": 4,
 "nbformat_minor": 5
}
