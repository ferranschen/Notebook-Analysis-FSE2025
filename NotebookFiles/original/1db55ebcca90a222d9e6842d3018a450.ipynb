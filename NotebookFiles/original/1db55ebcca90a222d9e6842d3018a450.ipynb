{
 "cells": [
  {
   "cell_type": "code",
   "execution_count": null,
   "id": "53c5b916",
   "metadata": {},
   "outputs": [],
   "source": [
    "import csv"
   ]
  },
  {
   "cell_type": "code",
   "execution_count": null,
   "id": "fc1c1fb2",
   "metadata": {},
   "outputs": [],
   "source": [
    "datContent = [i.strip().split() for i in open(\"101_EyeTracking_PreProcessed.dat\").readlines()]"
   ]
  },
  {
   "cell_type": "code",
   "execution_count": null,
   "id": "67e7817b",
   "metadata": {},
   "outputs": [],
   "source": [
    "# write it as a new CSV file\n",
    "with open(\"./flash.csv\", \"wb\") as f:\n",
    "    writer = csv.writer(f)\n",
    "    writer.writerows(datContent)"
   ]
  },
  {
   "cell_type": "code",
   "execution_count": null,
   "id": "07e2667c",
   "metadata": {},
   "outputs": [],
   "source": [
    "datContent = [i.strip().split() for i in open(\"101_EyeTracking_PreProcessed.dat\").readlines()]\n",
    "datContent"
   ]
  },
  {
   "cell_type": "code",
   "execution_count": null,
   "id": "59e4bc7d",
   "metadata": {},
   "outputs": [],
   "source": [
    "# datContent = [i.strip().split() for i in open(\"101_EyeTracking_PreProcessed.dat\").readlines()]\n",
    "datContent = np.fromfile(\"101_EyeTracking_PreProcessed.dat\", dtype=\"byte\")\n",
    "datContent"
   ]
  },
  {
   "cell_type": "code",
   "execution_count": null,
   "id": "b12c075d",
   "metadata": {},
   "outputs": [],
   "source": [
    "import csv\n",
    "import numpy as np"
   ]
  },
  {
   "cell_type": "code",
   "execution_count": null,
   "id": "4919c864",
   "metadata": {},
   "outputs": [],
   "source": [
    "# datContent = [i.strip().split() for i in open(\"101_EyeTracking_PreProcessed.dat\").readlines()]\n",
    "datContent = np.fromfile(\"101_EyeTracking_PreProcessed.dat\", dtype=\"byte\")\n",
    "datContent"
   ]
  },
  {
   "cell_type": "code",
   "execution_count": null,
   "id": "b40794b2",
   "metadata": {},
   "outputs": [],
   "source": [
    "# datContent = [i.strip().split() for i in open(\"101_EyeTracking_PreProcessed.dat\").readlines()]\n",
    "datContent = np.fromfile(\"101_EyeTracking_PreProcessed.dat\", dtype=\"byte\")\n",
    "for i in datContent:\n",
    "    print(i)"
   ]
  },
  {
   "cell_type": "code",
   "execution_count": null,
   "id": "514411e3",
   "metadata": {},
   "outputs": [],
   "source": [
    "dat_file = \"101_EyeTracking_PreProcessed.dat\"   "
   ]
  },
  {
   "cell_type": "code",
   "execution_count": null,
   "id": "0ae2ad05",
   "metadata": {},
   "outputs": [],
   "source": [
    "with open(dat_file, 'r') as file:\n",
    "    text = file.read()\n",
    "    print(text)"
   ]
  },
  {
   "cell_type": "code",
   "execution_count": null,
   "id": "b86bb3dd",
   "metadata": {
    "lines_to_next_cell": 2
   },
   "outputs": [],
   "source": [
    "data = np.genfromtxt('101_EyeTracking_PreProcessed.dat',\n",
    "                     skip_header=1,\n",
    "                     skip_footer=1,\n",
    "                     names=True,\n",
    "                     dtype=None,\n",
    "                     delimiter=' ')\n",
    "print(data)"
   ]
  }
 ],
 "metadata": {
  "jupytext": {
   "cell_metadata_filter": "-all",
   "main_language": "python",
   "notebook_metadata_filter": "-all"
  }
 },
 "nbformat": 4,
 "nbformat_minor": 5
}
