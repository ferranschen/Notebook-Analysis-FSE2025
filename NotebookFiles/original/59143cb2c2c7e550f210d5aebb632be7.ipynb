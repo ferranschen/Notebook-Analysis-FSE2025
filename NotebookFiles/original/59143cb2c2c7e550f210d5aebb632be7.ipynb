{
 "cells": [
  {
   "cell_type": "code",
   "execution_count": null,
   "id": "bc454196",
   "metadata": {},
   "outputs": [],
   "source": [
    "get_ipython().run_cell_magic('capture', '', \"%logstop\\n%logstart -t -r -q ipython_command_log.py global\\n#- IRONHACKS RESEARCH TRACKING CODE\\n#----------------------------------\\n# The following code is used to help our research team understand how you \\n# our notebook environment. We do not collect any personal information with\\n# the following code, it is used to measure when and how often you work on\\n# your submission files.\\nimport os\\nfrom datetime import datetime\\nimport IPython.core.history as history\\nha = history.HistoryAccessor()\\nha_tail = ha.get_tail(1)\\nha_cmd = next(ha_tail)\\nsession_id = str(ha_cmd[0])\\ncommand_id = str(ha_cmd[1])\\ntimestamp = datetime.utcnow().isoformat()\\nhistory_line = ','.join([session_id, command_id, timestamp]) + '\\\\n'\\nlogfile = open(os.environ['HOME']+'/ipython_session_log.csv', 'a')\\nlogfile.write(history_line)\\nlogfile.close()\\n\")"
   ]
  },
  {
   "cell_type": "code",
   "execution_count": null,
   "id": "a84af754",
   "metadata": {},
   "outputs": [],
   "source": [
    "get_ipython().run_cell_magic('capture', '--no-display', '!pip3 install db-dtypes\\n')"
   ]
  },
  {
   "cell_type": "code",
   "execution_count": null,
   "id": "98e132d4",
   "metadata": {},
   "outputs": [],
   "source": [
    "import os\n",
    "import pandas as pd\n",
    "import numpy as np\n",
    "import matplotlib.pyplot as plt\n",
    "import warnings\n",
    "warnings.filterwarnings('ignore')"
   ]
  },
  {
   "cell_type": "code",
   "execution_count": null,
   "id": "8474e3c4",
   "metadata": {},
   "outputs": [],
   "source": [
    "from google.cloud import bigquery\n",
    "from google.oauth2 import service_account\n",
    "from google.cloud.bigquery import magics"
   ]
  },
  {
   "cell_type": "code",
   "execution_count": null,
   "id": "f676a1e7",
   "metadata": {},
   "outputs": [],
   "source": [
    "# Google Credential\n",
    "os.environ['GOOGLE_APPLICATION_CREDENTIALS'] ='key.json'\n",
    "bigquery_client = bigquery.Client(project='ironhacks-data')"
   ]
  },
  {
   "cell_type": "code",
   "execution_count": null,
   "id": "b74ff4a7",
   "metadata": {},
   "outputs": [],
   "source": [
    "# Query the three provided data tables \n",
    "unemployement_data_query = \"\"\"\n",
    "SELECT *\n",
    "FROM `ironhacks-data.ironhacks_competition.unemployment_data`\n",
    "\"\"\""
   ]
  },
  {
   "cell_type": "code",
   "execution_count": null,
   "id": "a66b5054",
   "metadata": {},
   "outputs": [],
   "source": [
    "wage_data_query = \"\"\"\n",
    "SELECT *\n",
    "FROM `ironhacks-data.ironhacks_competition.wage_data`\n",
    "\"\"\""
   ]
  },
  {
   "cell_type": "code",
   "execution_count": null,
   "id": "76d814db",
   "metadata": {},
   "outputs": [],
   "source": [
    "prediction_list_query = \"\"\"\n",
    "SELECT *\n",
    "FROM `ironhacks-data.ironhacks_competition.prediction_list`\n",
    "\"\"\""
   ]
  },
  {
   "cell_type": "code",
   "execution_count": null,
   "id": "addaacc9",
   "metadata": {},
   "outputs": [],
   "source": [
    "# QUERY THE DATA ONCE\n",
    "ud_query_job = bigquery_client.query(unemployement_data_query)\n",
    "wd_query_job = bigquery_client.query(wage_data_query)\n",
    "pl_query_job = bigquery_client.query(prediction_list_query)"
   ]
  },
  {
   "cell_type": "code",
   "execution_count": null,
   "id": "34da3e54",
   "metadata": {},
   "outputs": [],
   "source": [
    "unemployement_data = ud_query_job.to_dataframe()\n",
    "wage_data = wd_query_job.to_dataframe()\n",
    "prediction_list = pl_query_job.to_dataframe()"
   ]
  },
  {
   "cell_type": "code",
   "execution_count": null,
   "id": "d84196a1",
   "metadata": {},
   "outputs": [],
   "source": [
    "# save the query results to csv files\n",
    "unemployement_data.to_csv(\"data/unemployment_data.csv\")\n",
    "print(\"unemployment_data shape:\", unemployement_data.shape)"
   ]
  },
  {
   "cell_type": "code",
   "execution_count": null,
   "id": "942a75a2",
   "metadata": {},
   "outputs": [],
   "source": [
    "wage_data.to_csv(\"data/wage_data.csv\")\n",
    "print(\"wage_data shape:\", wage_data.shape)"
   ]
  },
  {
   "cell_type": "code",
   "execution_count": null,
   "id": "94bd7929",
   "metadata": {},
   "outputs": [],
   "source": [
    "prediction_list.to_csv(\"data/prediction_list.csv\")\n",
    "print(\"prediction_list shape:\", prediction_list.shape)\n",
    "total_uuid = prediction_list.shape[0]"
   ]
  },
  {
   "cell_type": "code",
   "execution_count": null,
   "id": "7c9514c6",
   "metadata": {},
   "outputs": [],
   "source": [
    "# check if how many weeks of data are provided for each uu_id\n",
    "query = \"\"\"\n",
    "SELECT uu_id, COUNT(week_number) as num_of_weeks\n",
    "FROM ironhacks-data.ironhacks_competition.unemployment_data\n",
    "GROUP BY uu_id\n",
    "ORDER BY num_of_weeks DESC\n",
    "\"\"\""
   ]
  },
  {
   "cell_type": "code",
   "execution_count": null,
   "id": "510a5dfc",
   "metadata": {},
   "outputs": [],
   "source": [
    "bigquery_client.query(query).to_dataframe()"
   ]
  },
  {
   "cell_type": "code",
   "execution_count": null,
   "id": "3ba19832",
   "metadata": {},
   "outputs": [],
   "source": [
    "# query week_number data for uu_id f43fb9e90c5ecf879016b159aaa17fcb\n",
    "query = \"\"\"\n",
    "SELECT uu_id, week_number\n",
    "FROM ironhacks-data.ironhacks_competition.unemployment_data\n",
    "WHERE uu_id=\"f43fb9e90c5ecf879016b159aaa17fcb\"\n",
    "ORDER BY week_number\n",
    "\"\"\"\n",
    "print(bigquery_client.query(query).to_dataframe().to_string(index=False))"
   ]
  },
  {
   "cell_type": "code",
   "execution_count": null,
   "id": "45dd54b0",
   "metadata": {},
   "outputs": [],
   "source": [
    "# use distinct to remove the duplication and re-count the number of weeks\n",
    "query = \"\"\"\n",
    "SELECT uu_id, COUNT(DISTINCT(week_number)) as num_of_weeks\n",
    "FROM ironhacks-data.ironhacks_competition.unemployment_data\n",
    "GROUP BY uu_id\n",
    "ORDER BY num_of_weeks DESC\n",
    "\"\"\""
   ]
  },
  {
   "cell_type": "code",
   "execution_count": null,
   "id": "dba4bd11",
   "metadata": {},
   "outputs": [],
   "source": [
    "bigquery_client.query(query).to_dataframe()"
   ]
  },
  {
   "cell_type": "code",
   "execution_count": null,
   "id": "c8fd9b99",
   "metadata": {},
   "outputs": [],
   "source": [
    "# use sub-query to retrieve the num_of_uuids vs num_of_weeks, plot the results\n",
    "query = \"\"\"\n",
    "SELECT num_of_weeks, COUNT(num_of_weeks) as num_of_uuids\n",
    "FROM (\n",
    "    SELECT uu_id, COUNT(DISTINCT(week_number)) as num_of_weeks\n",
    "    FROM ironhacks-data.ironhacks_competition.unemployment_data\n",
    "    GROUP BY uu_id\n",
    "    ORDER BY num_of_weeks DESC\n",
    ")\n",
    "GROUP BY num_of_weeks\n",
    "ORDER BY num_of_weeks\n",
    "\"\"\""
   ]
  },
  {
   "cell_type": "code",
   "execution_count": null,
   "id": "be61f0e1",
   "metadata": {},
   "outputs": [],
   "source": [
    "uuid_weeks = bigquery_client.query(query).to_dataframe()"
   ]
  },
  {
   "cell_type": "code",
   "execution_count": null,
   "id": "8359d2c3",
   "metadata": {},
   "outputs": [],
   "source": [
    "week_count_label = list(map(str, list(uuid_weeks[\"num_of_weeks\"])))\n",
    "num_of_uuids = list(uuid_weeks[\"num_of_uuids\"])\n",
    "plt.figure(figsize=(6,6))\n",
    "plt.barh(week_count_label, num_of_uuids)\n",
    "plt.yticks(week_count_label)\n",
    "plt.ylabel(\"How many weeks of data are included\")\n",
    "plt.xlabel(\"Number of UUIDs\")\n",
    "for i, v in enumerate(num_of_uuids):\n",
    "    plt.text(v + 1, i - 0.4, str(v), size=\"small\")\n",
    "plt.tight_layout()\n",
    "plt.show()"
   ]
  },
  {
   "cell_type": "code",
   "execution_count": null,
   "id": "bae549ef",
   "metadata": {},
   "outputs": [],
   "source": [
    "print(str(np.array(num_of_uuids)[-6:].sum()), \"out of\", total_uuid, \"uuids have no less than 30 weeks of datapoints.\")\n",
    "print(str(np.array(num_of_uuids)[:9].sum()), \"out of\", total_uuid, \"uuids have no more than 10 weeks of datapoints.\")"
   ]
  },
  {
   "cell_type": "code",
   "execution_count": null,
   "id": "fa1f7cdb",
   "metadata": {},
   "outputs": [],
   "source": [
    "# query the number of datapoints for each week, use DISTINCT on uu_id to remove duplication\n",
    "QUERY = \"\"\"\n",
    "SELECT week_number, Count(DISTINCT(uu_id)) as count\n",
    "FROM ironhacks-data.ironhacks_competition.unemployment_data\n",
    "GROUP BY week_number\n",
    "ORDER BY week_number\n",
    "\"\"\"\n",
    "query_job = bigquery_client.query(QUERY)\n",
    "week_number_count = query_job.to_dataframe()\n",
    "display(week_number_count.T)\n",
    "print(\"week_number: \\n\" + str(week_number_count.T.to_numpy()[0]))\n",
    "print(\"count: \\n\" + str(week_number_count.T.to_numpy()[1]))"
   ]
  },
  {
   "cell_type": "code",
   "execution_count": null,
   "id": "9143dd22",
   "metadata": {},
   "outputs": [],
   "source": [
    "# fill the missing weeks' count with 0 for week 4 and week 23\n",
    "i = 0\n",
    "week_number_count_filled = []\n",
    "for w_c in week_number_count.to_numpy():\n",
    "    i = i + 1\n",
    "    if w_c[0] == i:\n",
    "        week_number_count_filled.append(list(w_c))\n",
    "    else:\n",
    "        week_number_count_filled.append(list([i, 0]))\n",
    "        week_number_count_filled.append(list(w_c))\n",
    "        i = i + 1\n",
    "print(\"Total number of weeks:\", i)"
   ]
  },
  {
   "cell_type": "code",
   "execution_count": null,
   "id": "f2783f33",
   "metadata": {},
   "outputs": [],
   "source": [
    "# plot the filled result\n",
    "week_number = list(np.array(week_number_count_filled)[:,0])\n",
    "week_count = list(np.array(week_number_count_filled)[:,1])\n",
    "plt.figure(figsize=(8,6))\n",
    "plt.barh(week_number, week_count)\n",
    "plt.yticks(week_number)\n",
    "plt.ylabel(\"Week number\") \n",
    "plt.xlabel(\"Number of Datapoints\")\n",
    "for i, v in enumerate(week_count):\n",
    "    plt.text(v + 2, i + 0.7, str(v), size=\"small\")\n",
    "plt.tight_layout()\n",
    "plt.show()"
   ]
  },
  {
   "cell_type": "code",
   "execution_count": null,
   "id": "4050e6cc",
   "metadata": {},
   "outputs": [],
   "source": [
    "# select 10 of 96 uuids with 3 weeks' data\n",
    "QUERY = \"\"\"\n",
    "SELECT uu_id\n",
    "FROM (\n",
    "    SELECT uu_id, COUNT(DISTINCT(week_number)) as week_count\n",
    "    FROM ironhacks-data.ironhacks_competition.unemployment_data\n",
    "    GROUP BY uu_id\n",
    ")\n",
    "WHERE week_count = 35\n",
    "LIMIT 10\n",
    "\"\"\"\n",
    "query_job = bigquery_client.query(QUERY)\n",
    "ten_uuid_with_35_weeks = query_job.to_dataframe()\n",
    "ten_uuid_with_35_weeks"
   ]
  },
  {
   "cell_type": "code",
   "execution_count": null,
   "id": "78c789cc",
   "metadata": {
    "lines_to_next_cell": 1
   },
   "outputs": [],
   "source": [
    "# query the 10 selected UUID data\n",
    "ten_35w_data = []\n",
    "for uu_id in ten_uuid_with_35_weeks[\"uu_id\"]:\n",
    "    QUERY=\"\"\"\n",
    "    SELECT uu_id, week_number, total_claims\n",
    "    FROM ironhacks-data.ironhacks_competition.unemployment_data\n",
    "    WHERE uu_id=\"%s\"\n",
    "    ORDER BY week_number\n",
    "    \"\"\"%(uu_id)\n",
    "    query_job = bigquery_client.query(QUERY)\n",
    "    ten_35w_data.append(query_job.to_dataframe().drop_duplicates(ignore_index=True))"
   ]
  },
  {
   "cell_type": "code",
   "execution_count": null,
   "id": "17dcb963",
   "metadata": {
    "lines_to_next_cell": 1
   },
   "outputs": [],
   "source": [
    "# manually add week 4 and week 23 missing data\n",
    "def fill_week4_and_week23(df, method, replace=False):\n",
    "    \"\"\"\n",
    "    Fill or replace the week 4 and week 23 missing total_claims data.\n",
    "    Args:\n",
    "        df: Dataframe\n",
    "            The input dataframe with missing total claims or to be replaced.\n",
    "        method: string\n",
    "            prev - use previous week's value\n",
    "            next - use next week's value\n",
    "            mid - use mean value of previous and next weeks\n",
    "        replace: bool\n",
    "            True - replace the existing week 4 and week 23 total_claim values\n",
    "            False - add the missing values\n",
    "    Returns:\n",
    "        Dataframe:\n",
    "            Dataframe with added total_claim values or replaced values.\n",
    "    \"\"\"\n",
    "    uuid = df[\"uu_id\"][0]\n",
    "    week_list = list(df[\"week_number\"])\n",
    "    if 4 in week_list and 23 in week_list and not replace:\n",
    "        print(\"Week 4 and week 23 data already exist, please use replace=True\")\n",
    "        return df\n",
    "    if 4 not in week_list and 23 not in week_list and replace:\n",
    "        print(\"Week 4 and week 23 data do not exist, replace failed\")\n",
    "        return df\n",
    "    if 4 not in week_list and 23 not in week_list and not replace:\n",
    "        print(\"Fill uuid\", uuid, \"week 4 and week 23 data with\", method, \"values\")\n",
    "    if 4 in week_list and 23 in week_list and replace:\n",
    "        print(\"Replace uuid\", uuid, \"week 4 and week 23 data with\", method, \"values\")\n",
    "        # remove exisiting value and insert again\n",
    "        df = df.drop(df.index[[3, 22]])\n",
    "        df = df.sort_index().reset_index(drop=True)\n",
    "        \n",
    "    if method == \"prev\":\n",
    "        # use previous avaliable week's value\n",
    "        val_4 = df[\"total_claims\"][2]\n",
    "        val_23 = df[\"total_claims\"][20]\n",
    "    if method == \"next\":\n",
    "        # use next avaliable week's value\n",
    "        val_4 = df[\"total_claims\"][3]\n",
    "        val_23 = df[\"total_claims\"][21]\n",
    "    if method == \"mid\":\n",
    "        # use mean value of previous and next avaliable weeks\n",
    "        val_4 = int((df[\"total_claims\"][2] + df[\"total_claims\"][3]) * 0.5)\n",
    "        val_23 = int((df[\"total_claims\"][20] + df[\"total_claims\"][21]) * 0.5)\n",
    "    \n",
    "    # week 4\n",
    "    df.loc[2.5] = [uuid, 4, val_4]\n",
    "    # week 23\n",
    "    df.loc[20.5] = [uuid, 23, val_23]\n",
    "    return df.sort_index().reset_index(drop=True)"
   ]
  },
  {
   "cell_type": "code",
   "execution_count": null,
   "id": "98b24b99",
   "metadata": {},
   "outputs": [],
   "source": [
    "# fill the missing data using mean value of prev week and next week for all 10 uuids\n",
    "for i in range(len(ten_35w_data)):\n",
    "    ten_35w_data[i] = fill_week4_and_week23(ten_35w_data[i], \"mid\")"
   ]
  },
  {
   "cell_type": "code",
   "execution_count": null,
   "id": "4a01945e",
   "metadata": {},
   "outputs": [],
   "source": [
    "# plot the 10 uuid total_claim data from week 1 to week 37\n",
    "plt.figure(figsize=(12,4))\n",
    "plt.title(\"10 selected uuid with 37 weeks of data total_claim plot\")\n",
    "for i in range(len(ten_35w_data)):\n",
    "    plt.plot(list(map(str, ten_35w_data[i][\"week_number\"])), \n",
    "             ten_35w_data[i][\"total_claims\"], \n",
    "             \"o-\", linewidth=1, markersize=5, alpha=0.7,\n",
    "             label=ten_35w_data[i][\"uu_id\"][0])\n",
    "    plt.legend(bbox_to_anchor=(1.01, 1), loc='upper left', borderaxespad=0.)\n",
    "plt.xlabel(\"week_number\")\n",
    "plt.ylabel(\"total_claims\")\n",
    "plt.grid(axis=\"y\")\n",
    "plt.tight_layout()\n",
    "plt.show()"
   ]
  },
  {
   "cell_type": "code",
   "execution_count": null,
   "id": "da3c61fc",
   "metadata": {},
   "outputs": [],
   "source": [
    "# select 10 of 96 uuids with 3 weeks' data\n",
    "QUERY = \"\"\"\n",
    "SELECT uu_id\n",
    "FROM (\n",
    "    SELECT uu_id, COUNT(DISTINCT(week_number)) as week_count\n",
    "    FROM ironhacks-data.ironhacks_competition.unemployment_data\n",
    "    GROUP BY uu_id\n",
    ")\n",
    "WHERE week_count <= 10\n",
    "\"\"\"\n",
    "query_job = bigquery_client.query(QUERY)\n",
    "uuid_less_10w = query_job.to_dataframe()\n",
    "uuid_less_10w.shape\n",
    "total_uuid_less_10w = uuid_less_10w.shape[0]"
   ]
  },
  {
   "cell_type": "code",
   "execution_count": null,
   "id": "4a541134",
   "metadata": {},
   "outputs": [],
   "source": [
    "# select all uuid data with no more than 10 weeks of data\n",
    "data_less_10w = []\n",
    "for uuid in uuid_less_10w[\"uu_id\"]:\n",
    "    QUERY=\"\"\"\n",
    "    SELECT *\n",
    "    FROM ironhacks-data.ironhacks_competition.unemployment_data\n",
    "    WHERE uu_id=\"%s\"\n",
    "    ORDER BY week_number\n",
    "    \"\"\"%(uuid)\n",
    "    query_job = bigquery_client.query(QUERY)\n",
    "    data_less_10w.append(query_job.to_dataframe().drop_duplicates(ignore_index=True))"
   ]
  },
  {
   "cell_type": "code",
   "execution_count": null,
   "id": "de029e78",
   "metadata": {},
   "outputs": [],
   "source": [
    "# find out which weeks are available for these uuids\n",
    "week_available = []\n",
    "for i in range(len(data_less_10w)):\n",
    "    week_available.append(list(data_less_10w[i][\"week_number\"]))"
   ]
  },
  {
   "cell_type": "code",
   "execution_count": null,
   "id": "6472e827",
   "metadata": {
    "lines_to_next_cell": 1
   },
   "outputs": [],
   "source": [
    "# plot the avaliable weeks vs uu_id\n",
    "plt.figure(figsize=(12,4))\n",
    "plt.title(\"week_number distribution for uuid with no more than 10 weeks of data\")\n",
    "colors = ['C{}'.format(i) for i in range(total_uuid_less_10w)]\n",
    "plt.eventplot(week_available, orientation='vertical', linelengths=0.2, linewidths=4, colors=colors)\n",
    "plt.yticks([i for i in range(1,38,2)])\n",
    "plt.ylabel(\"week_number\")\n",
    "plt.xticks([i for i in range(total_uuid_less_10w)])\n",
    "plt.xlabel(\"uu_id\")\n",
    "plt.grid(axis=\"x\")\n",
    "plt.axhline(4, alpha=0.5)\n",
    "plt.axhline(23, alpha=0.5)\n",
    "plt.axhline(37, alpha=0.5)\n",
    "plt.tight_layout()\n",
    "plt.show()"
   ]
  },
  {
   "cell_type": "code",
   "execution_count": null,
   "id": "c3fe38e4",
   "metadata": {
    "lines_to_next_cell": 1
   },
   "outputs": [],
   "source": [
    "# query all total_claims data and store in raw_total_claims_data dict\n",
    "def query_all_total_claims():\n",
    "    temp_query_list = prediction_list[\"uu_id\"] # the list of uuids to be queried\n",
    "    raw_total_claims_data = {uuid:[] for uuid in temp_query_list} # dict to store all query results\n",
    "    total_week = 37\n",
    "\n",
    "    progress = 0\n",
    "    total = len(temp_query_list)\n",
    "    for uuid in temp_query_list:\n",
    "        progress = progress + 1\n",
    "        print('\\r', \"Querying\", str(progress) + \"/\" + str(total), \"uuid's data...\", end='\\r')\n",
    "        QUERY=\"\"\"\n",
    "        SELECT week_number, total_claims\n",
    "        FROM ironhacks-data.ironhacks_competition.unemployment_data\n",
    "        WHERE uu_id=\"%s\"\n",
    "        ORDER BY week_number\n",
    "        \"\"\"%(uuid)\n",
    "        query_job = bigquery_client.query(QUERY)\n",
    "        res = query_job.to_dataframe().drop_duplicates(ignore_index=True).to_numpy()\n",
    "\n",
    "        # Fill the missing total_claims between week 1 and week 37 with value 0\n",
    "        index = 0\n",
    "        for w in range(1,total_week + 1):\n",
    "            if index == len(res):\n",
    "                raw_total_claims_data[uuid].append({w:0})\n",
    "                continue\n",
    "            if w == res[index][0]:\n",
    "                raw_total_claims_data[uuid].append({w:res[index][1]})\n",
    "                index = index + 1\n",
    "            else:\n",
    "                raw_total_claims_data[uuid].append({w:0})\n",
    "    return raw_total_claims_data"
   ]
  },
  {
   "cell_type": "code",
   "execution_count": null,
   "id": "af2a16a5",
   "metadata": {},
   "outputs": [],
   "source": [
    "# commented for only excuting once\n",
    "raw_total_claims_data = query_all_total_claims()"
   ]
  },
  {
   "cell_type": "code",
   "execution_count": null,
   "id": "84bff518",
   "metadata": {},
   "outputs": [],
   "source": [
    "# save query result into csv file\n",
    "raw_total_claims_df = pd.DataFrame.from_dict(raw_total_claims_data)\n",
    "raw_total_claims_df.to_csv(\"raw_total_claims.csv\", index=False)"
   ]
  },
  {
   "cell_type": "code",
   "execution_count": null,
   "id": "2c228239",
   "metadata": {},
   "outputs": [],
   "source": [
    "raw_total_claims_df = pd.read_csv(\"raw_total_claims.csv\")"
   ]
  },
  {
   "cell_type": "code",
   "execution_count": null,
   "id": "d37833b2",
   "metadata": {},
   "outputs": [],
   "source": [
    "for i in range(0, 37):\n",
    "    for j in range(0, total_uuid):\n",
    "        d = raw_total_claims_df.iloc[i,j]\n",
    "        # print(int(d.split(\":\")[1].split(\"}\")[0]))\n",
    "        raw_total_claims_df.iloc[i,j] = int(d.split(\":\")[1].split(\"}\")[0])"
   ]
  },
  {
   "cell_type": "code",
   "execution_count": null,
   "id": "8ed7bafe",
   "metadata": {},
   "outputs": [],
   "source": [
    "raw_total_claims_list = raw_total_claims_df.T.to_numpy()\n",
    "raw_total_claims_list = raw_total_claims_list[:]"
   ]
  },
  {
   "cell_type": "code",
   "execution_count": null,
   "id": "793f0a3d",
   "metadata": {},
   "outputs": [],
   "source": [
    "x_labels = [w for w in range(1, 38)]\n",
    "NUM_PLOTS = len(raw_total_claims_list)"
   ]
  },
  {
   "cell_type": "code",
   "execution_count": null,
   "id": "c298d916",
   "metadata": {},
   "outputs": [],
   "source": [
    "plt.figure(figsize=(15,5))\n",
    "plt.xticks(x_labels)\n",
    "for i in range(0, NUM_PLOTS):\n",
    "    plt.plot(x_labels, raw_total_claims_list[i], \".-\")"
   ]
  },
  {
   "cell_type": "code",
   "execution_count": null,
   "id": "6943d7a6",
   "metadata": {},
   "outputs": [],
   "source": [
    "# fill week 4 and week 23 data with mean values for all uuids\n",
    "for row in raw_total_claims_list:\n",
    "    temp_sum = 0\n",
    "    w4_val = round(0.5 * (row[2] + row[4]) + 0.01)\n",
    "    w23_val = round(0.5 * (row[21] + row[23]) + 0.01)\n",
    "    row[3] = w4_val\n",
    "    row[22] = w23_val"
   ]
  },
  {
   "cell_type": "code",
   "execution_count": null,
   "id": "be52490f",
   "metadata": {
    "lines_to_next_cell": 1
   },
   "outputs": [],
   "source": [
    "plt.figure(figsize=(15,5))\n",
    "plt.xticks(x_labels)\n",
    "for i in range(0, NUM_PLOTS):\n",
    "    plt.plot(x_labels, raw_total_claims_list[i])"
   ]
  },
  {
   "cell_type": "code",
   "execution_count": null,
   "id": "cb9dd69f",
   "metadata": {
    "lines_to_next_cell": 1
   },
   "outputs": [],
   "source": [
    "def mse_loss(y_true, y_pred):\n",
    "    \"\"\"\n",
    "    MSE loss function\n",
    "    Inputs param\n",
    "    -------------------------\n",
    "    y_true: list\n",
    "    The ground truth values\n",
    "    y_pred: list\n",
    "    The predicted values\n",
    "    -------------------------\n",
    "    return: number\n",
    "    mean square error of the two input lists\n",
    "    \"\"\"\n",
    "    if(len(y_true) != len(y_pred)):\n",
    "        print(\"True label len:\" + str(len(y_true)) + \", Predict label len: \" + str(len(y_pred)))\n",
    "        raise Exception(\"Input lists have different length\")\n",
    "    mse = np.mean(np.array(y_true) - np.array(y_pred))**2\n",
    "    return mse"
   ]
  },
  {
   "cell_type": "code",
   "execution_count": null,
   "id": "b383c78d",
   "metadata": {
    "lines_to_next_cell": 1
   },
   "outputs": [],
   "source": [
    "def mae_loss(y_true, y_pred):\n",
    "    \"\"\"\n",
    "    MAE loss function\n",
    "    Inputs param\n",
    "    -------------------------\n",
    "    y_true: list\n",
    "    The ground truth values\n",
    "    y_pred: list\n",
    "    The predicted values\n",
    "    -------------------------\n",
    "    return: number\n",
    "    mean absolute error of the two input lists\n",
    "    \"\"\"\n",
    "    if(len(y_true) != len(y_pred)):\n",
    "        print(\"True label len:\" + str(len(y_true)) + \", Predict label len: \" + str(len(y_pred)))\n",
    "        raise Exception(\"Input lists have different length\")\n",
    "    mae = np.mean(np.absolute(np.array(y_true) - np.array(y_pred)))\n",
    "    return mae"
   ]
  },
  {
   "cell_type": "code",
   "execution_count": null,
   "id": "ac0dfd8c",
   "metadata": {},
   "outputs": [],
   "source": [
    "uuid_list = list(raw_total_claims_df.columns)\n",
    "pred_results = [round(np.array(row).mean() + 0.01) for row in raw_total_claims_list]"
   ]
  },
  {
   "cell_type": "code",
   "execution_count": null,
   "id": "5856d423",
   "metadata": {},
   "outputs": [],
   "source": [
    "# Mean value as the prediction result\n",
    "result_dict = {\n",
    "    'uu_id':uuid_list, \n",
    "    'total_claims': pred_results,\n",
    "    'week_number': [39 for i in range(total_uuid)]\n",
    "}\n",
    "result_to_csv = pd.DataFrame(result_dict)\n",
    "result_to_csv"
   ]
  },
  {
   "cell_type": "code",
   "execution_count": null,
   "id": "b7409d1f",
   "metadata": {},
   "outputs": [],
   "source": [
    "print(uuid_list[0])\n",
    "print(list(raw_total_claims_list[0]))"
   ]
  },
  {
   "cell_type": "code",
   "execution_count": null,
   "id": "0c2be893",
   "metadata": {},
   "outputs": [],
   "source": [
    "print(list(raw_total_claims_df[\"8ba19786b86ae124a9d7eaa054f15d23\"]))"
   ]
  },
  {
   "cell_type": "code",
   "execution_count": null,
   "id": "7dcd1fd7",
   "metadata": {},
   "outputs": [],
   "source": [
    "result_to_csv.to_csv(\"submission_prediction_output.csv\", index=False)"
   ]
  },
  {
   "cell_type": "code",
   "execution_count": null,
   "id": "77a344ba",
   "metadata": {},
   "outputs": [],
   "source": [
    "temp_res = [row[-1] for row in raw_total_claims_list]"
   ]
  },
  {
   "cell_type": "code",
   "execution_count": null,
   "id": "9bdf9580",
   "metadata": {},
   "outputs": [],
   "source": [
    "mae_loss(temp_res, pred_results)"
   ]
  },
  {
   "cell_type": "code",
   "execution_count": null,
   "id": "57de8dca",
   "metadata": {},
   "outputs": [],
   "source": [
    "query = \"\"\"\n",
    "SELECT Count(DISTINCT(uu_id)) as N_UUID\n",
    "FROM ironhacks-data.ironhacks_competition.unemployment_data\n",
    "WHERE week_number = 37\n",
    "\"\"\"\n",
    "query_job = bigquery_client.query(query)\n",
    "week_39_count = query_job.to_dataframe()\n",
    "week_39_count"
   ]
  },
  {
   "cell_type": "code",
   "execution_count": null,
   "id": "7a164c10",
   "metadata": {},
   "outputs": [],
   "source": [
    "i = 0\n",
    "data = []\n",
    "for uu_id in prediction_list[\"uu_id\"]:\n",
    "    i = i + 1\n",
    "    query = \"\"\"\n",
    "    SELECT *\n",
    "    FROM ironhacks-data.ironhacks_competition.unemployment_data\n",
    "    WHERE uu_id=\"%s\"\n",
    "    ORDER BY week_number\n",
    "    \"\"\"%(uu_id)\n",
    "    print(\"Querying #\" + str(i) + \":\", uu_id, end='\\r')\n",
    "    query_job = bigquery_client.query(query)\n",
    "    data.append(query_job.to_dataframe())"
   ]
  },
  {
   "cell_type": "code",
   "execution_count": null,
   "id": "65dbdcc8",
   "metadata": {},
   "outputs": [],
   "source": [
    "query = \"\"\"\n",
    "SELECT week_number, sum(total_claims) as all_claims\n",
    "FROM `ironhacks-data.ironhacks_competition.unemployment_data`\n",
    "GROUP BY week_number\n",
    "ORDER BY week_number\n",
    "\"\"\""
   ]
  },
  {
   "cell_type": "code",
   "execution_count": null,
   "id": "20c0d8ab",
   "metadata": {},
   "outputs": [],
   "source": [
    "bigquery_client.query(query).to_dataframe()"
   ]
  },
  {
   "cell_type": "code",
   "execution_count": null,
   "id": "bbacbbfd",
   "metadata": {},
   "outputs": [],
   "source": [
    "query = \"\"\"\n",
    "SELECT uu_id, week_number, sum(total_claims) as all_claims\n",
    "FROM `ironhacks-data.ironhacks_competition.unemployment_data`\n",
    "GROUP BY uu_id, week_number\n",
    "ORDER BY week_number\n",
    "\"\"\""
   ]
  },
  {
   "cell_type": "code",
   "execution_count": null,
   "id": "12b98500",
   "metadata": {},
   "outputs": [],
   "source": [
    "bigquery_client.query(query).to_dataframe().head(40)"
   ]
  },
  {
   "cell_type": "code",
   "execution_count": null,
   "id": "186bfd17",
   "metadata": {},
   "outputs": [],
   "source": [
    "get_ipython().run_cell_magic('capture', '', \"%logstop\\n%logstart -t -r -q ipython_command_log.py global\\n#- IRONHACKS RESEARCH TRACKING CODE\\n#----------------------------------\\n# The following code is used to help our research team understand how you \\n# our notebook environment. We do not collect any personal information with\\n# the following code, it is used to measure when and how often you work on\\n# your submission files.\\nimport os\\nfrom datetime import datetime\\nimport IPython.core.history as history\\nha = history.HistoryAccessor()\\nha_tail = ha.get_tail(1)\\nha_cmd = next(ha_tail)\\nsession_id = str(ha_cmd[0])\\ncommand_id = str(ha_cmd[1])\\ntimestamp = datetime.utcnow().isoformat()\\nhistory_line = ','.join([session_id, command_id, timestamp]) + '\\\\n'\\nlogfile = open(os.environ['HOME']+'/ipython_session_log.csv', 'a')\\nlogfile.write(history_line)\\nlogfile.close()\\n\")"
   ]
  },
  {
   "cell_type": "code",
   "execution_count": null,
   "id": "ffdbb4f9",
   "metadata": {
    "lines_to_next_cell": 2
   },
   "outputs": [],
   "source": [
    "get_ipython().run_cell_magic('capture', '', \"%logstop\\n%logstart -t -r -q ipython_command_log.py global\\n#- IRONHACKS RESEARCH TRACKING CODE\\n#----------------------------------\\n# The following code is used to help our research team understand how you \\n# our notebook environment. We do not collect any personal information with\\n# the following code, it is used to measure when and how often you work on\\n# your submission files.\\nimport os\\nfrom datetime import datetime\\nimport IPython.core.history as history\\nha = history.HistoryAccessor()\\nha_tail = ha.get_tail(1)\\nha_cmd = next(ha_tail)\\nsession_id = str(ha_cmd[0])\\ncommand_id = str(ha_cmd[1])\\ntimestamp = datetime.utcnow().isoformat()\\nhistory_line = ','.join([session_id, command_id, timestamp]) + '\\\\n'\\nlogfile = open(os.environ['HOME']+'/ipython_session_log.csv', 'a')\\nlogfile.write(history_line)\\nlogfile.close()\\n\")"
   ]
  }
 ],
 "metadata": {
  "jupytext": {
   "cell_metadata_filter": "-all",
   "main_language": "python",
   "notebook_metadata_filter": "-all"
  }
 },
 "nbformat": 4,
 "nbformat_minor": 5
}
