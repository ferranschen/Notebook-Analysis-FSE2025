{
 "cells": [
  {
   "cell_type": "markdown",
   "id": "9d0ed813",
   "metadata": {},
   "source": [
    "- IMPORT THE LIBRARIES YOU WILL USE\n",
    "------------------------------------------\n",
    "You only need to import packages one time per notebook session. To keep your\n",
    "notebook clean and organized you can handle all imports at the top of your file.\n",
    "The following are included for example purposed, feel free to modify or delete \n",
    "anything in this section."
   ]
  },
  {
   "cell_type": "code",
   "execution_count": null,
   "id": "63a2416f",
   "metadata": {},
   "outputs": [],
   "source": [
    "import csv\n",
    "import pandas as pd\n",
    "import numpy as np\n",
    "from google.cloud import bigquery\n",
    "from google.oauth2 import service_account\n",
    "from google.cloud.bigquery import magics\n",
    "import statsmodels.api as sm\n",
    "import math\n",
    "import plotly.express as px\n",
    "from pmdarima.arima import auto_arima\n",
    "import collections.abc\n",
    "#hyper needs the four following aliases to be done manually.\n",
    "collections.Iterable = collections.abc.Iterable\n",
    "collections.Mapping = collections.abc.Mapping\n",
    "collections.MutableSet = collections.abc.MutableSet\n",
    "collections.MutableMapping = collections.abc.MutableMapping\n",
    "import hts\n",
    "from hts.hierarchy import HierarchyTree\n",
    "from hts.model import AutoArimaModel\n",
    "from hts import HTSRegressor"
   ]
  },
  {
   "cell_type": "code",
   "execution_count": null,
   "id": "3d32b897",
   "metadata": {},
   "outputs": [],
   "source": [
    "get_ipython().run_cell_magic('capture', '', \"%logstop\\n%logstart -t -r -q ipython_command_log.py global\\n\\n#- IRONHACKS RESEARCH TRACKING CODE\\n#----------------------------------\\n# The following code is used to help our research team understand how you \\n# our notebook environment. We do not collect any personal information with\\n# the following code, it is used to measure when and how often you work on\\n# your submission files.\\n\\nimport os\\nfrom datetime import datetime\\nimport IPython.core.history as history\\n\\nha = history.HistoryAccessor()\\nha_tail = ha.get_tail(1)\\nha_cmd = next(ha_tail)\\nsession_id = str(ha_cmd[0])\\ncommand_id = str(ha_cmd[1])\\ntimestamp = datetime.utcnow().isoformat()\\nhistory_line = ','.join([session_id, command_id, timestamp]) + '\\\\n'\\nlogfile = open(os.environ['HOME']+'/ipython_session_log.csv', 'a')\\nlogfile.write(history_line)\\nlogfile.close()\\n\")"
   ]
  },
  {
   "cell_type": "code",
   "execution_count": null,
   "id": "4d1a9bae",
   "metadata": {},
   "outputs": [],
   "source": [
    "get_ipython().run_cell_magic('capture', '', \"\\n#- INSTALL ADDITIONAL LIBRARIES IF REQUIRED\\n#------------------------------------------\\n# This is normally not required. The hub environment comes preinstaled with \\n# many packages that you can already use without setup. In case there is some\\n# other library you would like to use that isn't on the list you run this command\\n# once to install them.  If it is already installed this command has no effect.\\n!pip install db-dtypes\\n!python3 -m pip install pandas\\n!pip install pmdarima\\n!pip install plotly==5.11.0\\n!pip install scikit-hts[auto-arima]\\n\")"
   ]
  },
  {
   "cell_type": "markdown",
   "id": "5625adb8",
   "metadata": {},
   "source": [
    "- IMPORT THE LIBRARIES YOU WILL USE\n",
    "------------------------------------------\n",
    "You only need to import packages one time per notebook session. To keep your\n",
    "notebook clean and organized you can handle all imports at the top of your file.\n",
    "The following are included for example purposed, feel free to modify or delete \n",
    "anything in this section."
   ]
  },
  {
   "cell_type": "code",
   "execution_count": null,
   "id": "08162a65",
   "metadata": {},
   "outputs": [],
   "source": [
    "import csv\n",
    "import pandas as pd\n",
    "import numpy as np\n",
    "from google.cloud import bigquery\n",
    "from google.oauth2 import service_account\n",
    "from google.cloud.bigquery import magics\n",
    "import statsmodels.api as sm\n",
    "import math\n",
    "import plotly.express as px\n",
    "from pmdarima.arima import auto_arima\n",
    "import collections.abc\n",
    "#hyper needs the four following aliases to be done manually.\n",
    "collections.Iterable = collections.abc.Iterable\n",
    "collections.Mapping = collections.abc.Mapping\n",
    "collections.MutableSet = collections.abc.MutableSet\n",
    "collections.MutableMapping = collections.abc.MutableMapping\n",
    "import hts\n",
    "from hts.hierarchy import HierarchyTree\n",
    "from hts.model import AutoArimaModel\n",
    "from hts import HTSRegressor"
   ]
  },
  {
   "cell_type": "markdown",
   "id": "16cc935c",
   "metadata": {
    "lines_to_next_cell": 2
   },
   "source": [
    "- DEFINE YOUR CLASSES AND FUNCTIONS \n",
    "-----------------------------------\n",
    "This is not required, but is helpful in keeping your notebook organized. \n",
    "You can use the following cell or several cells to define your functions\n",
    "and classes to keep them separate from your analysis or results code.\n",
    "In general it useful to define your methods in a separate cell from where\n",
    "it is run."
   ]
  },
  {
   "cell_type": "code",
   "execution_count": null,
   "id": "aa1508fb",
   "metadata": {
    "lines_to_next_cell": 1
   },
   "outputs": [],
   "source": [
    "def dataExplore(data):\n",
    "    '''\n",
    "    Explore dataframe\n",
    "    '''\n",
    "    print(\"# of observations: \", data.shape[0])\n",
    "    for col in data.columns:\n",
    "        if col in [\"uu_id\", \"timeperiod\", \"week_number\", \"countyfips\", \"tract\", \"tract_name\", \"date\"]:\n",
    "            print(\"# of %s: %s\" % (col, len(pd.unique(data[col]))))\n",
    "        else:\n",
    "            print(\"Unique value of %s: %s\" % (col, pd.unique(data[col])))"
   ]
  },
  {
   "cell_type": "code",
   "execution_count": null,
   "id": "d907c2ec",
   "metadata": {},
   "outputs": [],
   "source": [
    "def dataBalanceCheck(data):\n",
    "    '''\n",
    "    Check the balance of data frame\n",
    "    '''\n",
    "    unbalance_count = 0\n",
    "    print(\"# of observations in complete time series: \", len(pd.unique(data[\"week_number\"])))\n",
    "    for id in pd.unique(data[\"uu_id\"]):\n",
    "        if len(data[data[\"uu_id\"] == id]) <  len(pd.unique(data[\"week_number\"])):\n",
    "            print(id, len(data[data[\"uu_id\"] == id]))\n",
    "            unbalance_count += 1\n",
    "    print(\"% of tracts with incomplete time series: \", unbalance_count / len(pd.unique(data[\"uu_id\"]))*100)"
   ]
  },
  {
   "cell_type": "code",
   "execution_count": null,
   "id": "fc153b10",
   "metadata": {
    "lines_to_next_cell": 1
   },
   "outputs": [],
   "source": [
    "def dataFillNa(data, value):\n",
    "    \"\"\"\n",
    "   fill NA with given value in the dataframe\n",
    "    \"\"\"\n",
    "    for col in data.columns:\n",
    "        if col in [\"uu_id\", \"timeperiod\", \"week_number\", \"countyfips\", \"tract\", \"tract_name\", \"date\"]:\n",
    "            pass\n",
    "        elif col in [\"top_category_employer1\", \"top_category_employer2\", \"top_category_employer3\"]:\n",
    "            data[col] = data[col].replace({'N/A':str(value)})\n",
    "        else:\n",
    "            data[col] = data[col].fillna(value)\n",
    "    return(data)"
   ]
  },
  {
   "cell_type": "code",
   "execution_count": null,
   "id": "de30f2d1",
   "metadata": {
    "lines_to_next_cell": 1
   },
   "outputs": [],
   "source": [
    "def dataIdentifyDWM(data):\n",
    "    '''\n",
    "    Input: # of week. Output: data for the first day, its month and week order in the month\n",
    "    '''\n",
    "    data[\"date\"] = pd.to_datetime(2022 * 1000 + (1+(data[\"week_number\"]-1)*7), format='%Y%j')\n",
    "    data[\"month\"] = pd.DatetimeIndex(data[\"date\"]).month\n",
    "    data[\"weekofmonth\"]= pd.to_numeric(data[\"date\"].dt.day/7)\n",
    "    data['weekofmonth'] = data['weekofmonth'].apply(lambda x: math.ceil(x))\n",
    "    return(data)"
   ]
  },
  {
   "cell_type": "code",
   "execution_count": null,
   "id": "01224b23",
   "metadata": {
    "lines_to_next_cell": 1
   },
   "outputs": [],
   "source": [
    "def MSPE(s1, s2):\n",
    "    return(sum((s1 - s2)**2)/len(s1))"
   ]
  },
  {
   "cell_type": "code",
   "execution_count": null,
   "id": "9ffe32cb",
   "metadata": {
    "lines_to_next_cell": 1
   },
   "outputs": [],
   "source": [
    "def MAPE(s1, s2):\n",
    "    return(sum(abs(s1 - s2))/len(s1))"
   ]
  },
  {
   "cell_type": "code",
   "execution_count": null,
   "id": "71f5ea32",
   "metadata": {
    "lines_to_next_cell": 1
   },
   "outputs": [],
   "source": [
    "def ARIMA_predict(df_input, cutoff_rate = 0.8, n_period = 15):\n",
    "    cutoff = int(cutoff_rate * len(df_input))\n",
    "    if cutoff_rate < 1:\n",
    "        valid = df_input[cutoff:]\n",
    "    train = df_input[:cutoff]\n",
    "    model = auto_arima(train, trace=False, error_action='ignore', suppress_warnings=True)\n",
    "    model.fit(train)\n",
    "    forecast = model.predict(n_period)\n",
    "    return(forecast)"
   ]
  },
  {
   "cell_type": "code",
   "execution_count": null,
   "id": "9791c6e0",
   "metadata": {},
   "outputs": [],
   "source": [
    "# Obtain data using BigQuery\n",
    "BIGQUERY_PROJECT = 'ironhacks-data'\n",
    "bigquery_client = bigquery.Client(project=BIGQUERY_PROJECT)"
   ]
  },
  {
   "cell_type": "code",
   "execution_count": null,
   "id": "5c2bbfad",
   "metadata": {},
   "outputs": [],
   "source": [
    "query = \"\"\"\n",
    "SELECT\n",
    "a.*,\n",
    "b.average_wage\n",
    "FROM \n",
    "(SELECT \n",
    "*\n",
    "FROM `ironhacks-data.ironhacks_competition.unemployment_data`) a\n",
    "JOIN `ironhacks-data.ironhacks_competition.wage_data` b \n",
    "ON a.uu_id=b.uu_id\n",
    "\"\"\""
   ]
  },
  {
   "cell_type": "code",
   "execution_count": null,
   "id": "231e635a",
   "metadata": {},
   "outputs": [],
   "source": [
    "query_job = bigquery_client.query(query)\n",
    "data = query_job.to_dataframe()"
   ]
  },
  {
   "cell_type": "code",
   "execution_count": null,
   "id": "ae9fb329",
   "metadata": {},
   "outputs": [],
   "source": [
    "query_pred = \"\"\"\n",
    "SELECT * FROM `ironhacks-data.ironhacks_competition.prediction_list`\n",
    "\"\"\""
   ]
  },
  {
   "cell_type": "code",
   "execution_count": null,
   "id": "1afd5d8d",
   "metadata": {},
   "outputs": [],
   "source": [
    "query_job_pred = bigquery_client.query(query_pred)\n",
    "data_pred_query= query_job_pred.to_dataframe()"
   ]
  },
  {
   "cell_type": "code",
   "execution_count": null,
   "id": "686664b2",
   "metadata": {},
   "outputs": [],
   "source": [
    "# Explore input data for NA and special values\n",
    "# dataExplore(data)\n",
    "# dataExplore(data_pred_query)\n",
    "# data_pred_query.head()\n",
    "data.head()"
   ]
  },
  {
   "cell_type": "code",
   "execution_count": null,
   "id": "ff661458",
   "metadata": {},
   "outputs": [],
   "source": [
    "# Further check tracts with average_wage as Nan\n",
    "# I find three tracts with all average_wage as Nan. If I drop these tracts due to Nan value, they cannot be predicted\n",
    "for id in pd.unique(data[data['average_wage'].isna()][\"uu_id\"]):\n",
    "    print(id)\n",
    "    print(\"All value are nan?\", data[data['uu_id'] == id][\"average_wage\"].isnull().all())\n",
    "    print(\"Included in prediction list?\", len(data_pred_query[data_pred_query['uu_id'] == id]) > 0)"
   ]
  },
  {
   "cell_type": "code",
   "execution_count": null,
   "id": "e813a240",
   "metadata": {},
   "outputs": [],
   "source": [
    "# Explore input data for NA and special values\n",
    "# dataExplore(data)\n",
    "# dataExplore(data_pred_query)\n",
    "data_pred_query.head()\n",
    "# data.head()"
   ]
  },
  {
   "cell_type": "code",
   "execution_count": null,
   "id": "1ad7526b",
   "metadata": {},
   "outputs": [],
   "source": [
    "# Further check tracts with average_wage as Nan\n",
    "# I find three tracts with all average_wage as Nan. If I drop these tracts due to Nan value, they cannot be predicted\n",
    "for id in pd.unique(data[data['average_wage'].isna()][\"uu_id\"]):\n",
    "    print(id)\n",
    "    print(\"All value are nan?\", data[data['uu_id'] == id][\"average_wage\"].isnull().all())\n",
    "    print(\"Included in prediction list?\", len(data_pred_query[data_pred_query['uu_id'] == id]) > 0)"
   ]
  },
  {
   "cell_type": "code",
   "execution_count": null,
   "id": "8c053d16",
   "metadata": {},
   "outputs": [],
   "source": [
    "# Explore input data for NA and special values\n",
    "dataExplore(data)\n",
    "# dataExplore(data_pred_query)\n",
    "# data_pred_query.head()\n",
    "# data.head()"
   ]
  },
  {
   "cell_type": "markdown",
   "id": "8325a391",
   "metadata": {},
   "source": [
    "Explore input data for NA and special values\n",
    "dataExplore(data)\n",
    "dataExplore(data_pred_query)\n",
    "data_pred_query.head()\n",
    "data.head()"
   ]
  },
  {
   "cell_type": "code",
   "execution_count": null,
   "id": "a18f7f5c",
   "metadata": {},
   "outputs": [],
   "source": [
    "# Backup the data before pre-treatment\n",
    "data_backup = data.copy()\n",
    "data_pred_query_backup = data_pred_query.copy()"
   ]
  },
  {
   "cell_type": "code",
   "execution_count": null,
   "id": "d86d3791",
   "metadata": {},
   "outputs": [],
   "source": [
    "# Pretreatment: convert week_number to month and week of month, to capture seasonality\n",
    "data = dataIdentifyDWM(data)"
   ]
  },
  {
   "cell_type": "code",
   "execution_count": null,
   "id": "fda4e8c0",
   "metadata": {},
   "outputs": [],
   "source": [
    "# Check if the dataset is a balance panel (all tracts have value for all time periods)\n",
    "# 54% of tracts has less than 35 observations (total number of full time series), indicating it is unbalanced\n",
    "# Even if only checking data afer 2022/6/1, there are still 36% of tracts with incomplete series\n",
    "dataBalanceCheck(data)\n",
    "dataBalanceCheck(data[data[\"date\"] > \"2022-06-01\"])"
   ]
  },
  {
   "cell_type": "code",
   "execution_count": null,
   "id": "9679b1d4",
   "metadata": {},
   "outputs": [],
   "source": [
    "# To balance the dataset as panel data\n",
    "data_balance = data.set_index('week_number')\n",
    "data_balance = data_balance.sort_index(ascending=False)\n",
    "data_balance = data_balance.set_index('uu_id',append=True)\n",
    "data_balance = data_balance[~data_balance.index.duplicated(keep='first')]"
   ]
  },
  {
   "cell_type": "code",
   "execution_count": null,
   "id": "3ec1e844",
   "metadata": {},
   "outputs": [],
   "source": [
    "data_balance = data_balance.reset_index(level=['week_number'])\n",
    "data_balance = (data_balance.set_index('week_number',append=True).reindex(pd.MultiIndex.from_product([data_balance.index.unique(),\n",
    "                                                      range(data_balance.week_number.min(),data_balance.week_number.max()+1)],\n",
    "                                                     names=['uu_id','week_number'])).reset_index(level=1))"
   ]
  },
  {
   "cell_type": "code",
   "execution_count": null,
   "id": "2fe9f92f",
   "metadata": {},
   "outputs": [],
   "source": [
    "data_balance = data_balance.set_index('week_number',append=True)\n",
    "data_balance['total_claims'] = data_balance['total_claims'].fillna(0)\n",
    "data_balance['average_wage'] = data_balance['average_wage'].interpolate(method = \"linear\")"
   ]
  },
  {
   "cell_type": "code",
   "execution_count": null,
   "id": "ed0fe0f8",
   "metadata": {},
   "outputs": [],
   "source": [
    "data_balance = data_balance.reset_index(level=['uu_id', \"week_number\"])\n",
    "data_balance = dataIdentifyDWM(data_balance)"
   ]
  },
  {
   "cell_type": "code",
   "execution_count": null,
   "id": "77613b66",
   "metadata": {},
   "outputs": [],
   "source": [
    "dataBalanceCheck(data_balance)"
   ]
  },
  {
   "cell_type": "code",
   "execution_count": null,
   "id": "40ac4f70",
   "metadata": {},
   "outputs": [],
   "source": [
    "# Data clean up: convert NA to 0 for gender, race, education and top employer and recalculate unknown category\n",
    "# Based on the check of Nan in average_wage above, I also convert Nan to zero as well, but try models with and without \"average_wage\" variable\n",
    "data = dataFillNa(data, 0)"
   ]
  },
  {
   "cell_type": "code",
   "execution_count": null,
   "id": "b01df375",
   "metadata": {},
   "outputs": [],
   "source": [
    "# Split data to training and validaton sets\n",
    "# Max trainweek is 37, use a 80 / 20 rule\n",
    "train_week = int(max(pd.unique(data[\"week_number\"]))*0.8)"
   ]
  },
  {
   "cell_type": "code",
   "execution_count": null,
   "id": "d4aa4309",
   "metadata": {},
   "outputs": [],
   "source": [
    "data_train = data[data[\"week_number\"] < train_week]\n",
    "data_valid = data[data[\"week_number\"] >= train_week]"
   ]
  },
  {
   "cell_type": "code",
   "execution_count": null,
   "id": "936e85f9",
   "metadata": {},
   "outputs": [],
   "source": [
    "data_train_x = data_train.drop(\"total_claims\",1)\n",
    "data_train_y = data_train[\"total_claims\"]"
   ]
  },
  {
   "cell_type": "code",
   "execution_count": null,
   "id": "be7d0f6a",
   "metadata": {},
   "outputs": [],
   "source": [
    "data_valid_x = data_valid.drop(\"total_claims\",1)\n",
    "data_valid_y = data_valid[\"total_claims\"]"
   ]
  },
  {
   "cell_type": "markdown",
   "id": "e3b60bb7",
   "metadata": {},
   "source": [
    "Also prepare it for balanced dataset"
   ]
  },
  {
   "cell_type": "code",
   "execution_count": null,
   "id": "a0bfb559",
   "metadata": {},
   "outputs": [],
   "source": [
    "data_balance_train = data_balance[data_balance[\"week_number\"] < train_week]\n",
    "data_balance_valid = data_balance[data_balance[\"week_number\"] >= train_week]"
   ]
  },
  {
   "cell_type": "code",
   "execution_count": null,
   "id": "e41884f3",
   "metadata": {},
   "outputs": [],
   "source": [
    "data_balance_train_x = data_balance_train.drop(\"total_claims\",1)\n",
    "data_balance_train_y = data_balance_train[\"total_claims\"]"
   ]
  },
  {
   "cell_type": "code",
   "execution_count": null,
   "id": "758be0c0",
   "metadata": {},
   "outputs": [],
   "source": [
    "data_balance_valid_x = data_balance_valid.drop(\"total_claims\",1)\n",
    "data_balance_valid_y = data_balance_valid[\"total_claims\"]"
   ]
  },
  {
   "cell_type": "code",
   "execution_count": null,
   "id": "9268fd66",
   "metadata": {},
   "outputs": [],
   "source": [
    "data_balance_valid_y.shape"
   ]
  },
  {
   "cell_type": "code",
   "execution_count": null,
   "id": "c8ab184a",
   "metadata": {},
   "outputs": [],
   "source": [
    "# Model 1 : Poisson regression with unbalanced data\n",
    "data_train_x_m1 = data_train_x[[\"week_number\",\"month\", \"weekofmonth\",  \"average_wage\"]]\n",
    "data_train_x_m1[\"month\"] = data_train_x_m1[\"month\"].astype(str)\n",
    "data_train_x_m1[\"weekofmonth\"] = data_train_x_m1[\"weekofmonth\"].astype(str)\n",
    "data_train_x_m1[\"week_number2\"] = data_train_x_m1[\"week_number\"]**2\n",
    "data_train_x_m1 = pd.get_dummies(data_train_x_m1)"
   ]
  },
  {
   "cell_type": "code",
   "execution_count": null,
   "id": "e55e324f",
   "metadata": {},
   "outputs": [],
   "source": [
    "data_valid_x_m1 = data_valid_x[[\"week_number\",\"month\", \"weekofmonth\",  \"average_wage\"]]\n",
    "data_valid_x_m1[\"month\"] = data_valid_x_m1[\"month\"].astype(str)\n",
    "data_valid_x_m1[\"weekofmonth\"] = data_valid_x_m1[\"weekofmonth\"].astype(str)\n",
    "data_valid_x_m1[\"week_number2\"] = data_valid_x_m1[\"week_number\"]**2\n",
    "data_valid_x_m1 = pd.get_dummies(data_valid_x_m1)"
   ]
  },
  {
   "cell_type": "code",
   "execution_count": null,
   "id": "37db7958",
   "metadata": {},
   "outputs": [],
   "source": [
    "data_train_x_m1[\"month_8\"] = 0\n",
    "data_train_x_m1[\"month_9\"] = 0"
   ]
  },
  {
   "cell_type": "code",
   "execution_count": null,
   "id": "b4a2a206",
   "metadata": {},
   "outputs": [],
   "source": [
    "for i in range(8):\n",
    "    data_valid_x_m1[\"month_\"+str(1+i)] = 0"
   ]
  },
  {
   "cell_type": "code",
   "execution_count": null,
   "id": "40ebdd63",
   "metadata": {},
   "outputs": [],
   "source": [
    "for i in range(5):\n",
    "    if i == 1:\n",
    "        pass\n",
    "    data_valid_x_m1[\"weekofmonth_\"+str(1+i)] = 0"
   ]
  },
  {
   "cell_type": "code",
   "execution_count": null,
   "id": "107aeacc",
   "metadata": {},
   "outputs": [],
   "source": [
    "poission_model = sm.GLM(data_train_y.astype(int), data_train_x_m1.astype(float), family=sm.families.Poisson())\n",
    "result = poission_model.fit()\n",
    "result.summary()"
   ]
  },
  {
   "cell_type": "code",
   "execution_count": null,
   "id": "8b816476",
   "metadata": {},
   "outputs": [],
   "source": [
    "data_estimate_m1 = result.predict(data_valid_x_m1.astype(float))\n",
    "print(\"MAPE: \", MAPE(data_estimate_m1, data_valid_y))\n",
    "print(\"MSPE: \", MSPE(data_estimate_m1, data_valid_y))"
   ]
  },
  {
   "cell_type": "code",
   "execution_count": null,
   "id": "00b0befc",
   "metadata": {},
   "outputs": [],
   "source": [
    "# Model 2: Poisson with balanced data\n",
    "data_balance_train_x_m1 = data_balance_train_x[[\"week_number\",\"month\", \"weekofmonth\",  \"average_wage\"]]\n",
    "data_balance_train_x_m1[\"month\"] = data_balance_train_x_m1[\"month\"].astype(str)\n",
    "data_balance_train_x_m1[\"weekofmonth\"] = data_balance_train_x_m1[\"weekofmonth\"].astype(str)\n",
    "data_balance_train_x_m1[\"week_number2\"] = data_balance_train_x_m1[\"week_number\"]**2\n",
    "data_balance_train_x_m1 = pd.get_dummies(data_balance_train_x_m1)"
   ]
  },
  {
   "cell_type": "code",
   "execution_count": null,
   "id": "79dac57b",
   "metadata": {},
   "outputs": [],
   "source": [
    "data_balance_valid_x_m1 = data_balance_valid_x[[\"week_number\",\"month\", \"weekofmonth\",  \"average_wage\"]]\n",
    "data_balance_valid_x_m1[\"month\"] = data_balance_valid_x_m1[\"month\"].astype(str)\n",
    "data_balance_valid_x_m1[\"weekofmonth\"] = data_balance_valid_x_m1[\"weekofmonth\"].astype(str)\n",
    "data_balance_valid_x_m1[\"week_number2\"] = data_balance_valid_x_m1[\"week_number\"]**2\n",
    "data_balance_valid_x_m1 = pd.get_dummies(data_balance_valid_x_m1)"
   ]
  },
  {
   "cell_type": "code",
   "execution_count": null,
   "id": "5a6f2e3a",
   "metadata": {},
   "outputs": [],
   "source": [
    "data_balance_train_x_m1[\"month_8\"] = 0\n",
    "data_balance_train_x_m1[\"month_9\"] = 0"
   ]
  },
  {
   "cell_type": "code",
   "execution_count": null,
   "id": "c6a83f55",
   "metadata": {},
   "outputs": [],
   "source": [
    "for i in range(8):\n",
    "    data_balance_valid_x_m1[\"month_\"+str(1+i)] = 0"
   ]
  },
  {
   "cell_type": "code",
   "execution_count": null,
   "id": "9ebf3a5b",
   "metadata": {},
   "outputs": [],
   "source": [
    "for i in range(5):\n",
    "    if i == 1:\n",
    "        pass\n",
    "    data_balance_valid_x_m1[\"weekofmonth_\"+str(1+i)] = 0"
   ]
  },
  {
   "cell_type": "code",
   "execution_count": null,
   "id": "abf0e77f",
   "metadata": {},
   "outputs": [],
   "source": [
    "poission_model_m2 = sm.GLM(data_balance_train_y.astype(int), data_balance_train_x_m1.astype(float), family=sm.families.Poisson())\n",
    "result_m2 = poission_model_m2.fit()\n",
    "result_m2.summary()"
   ]
  },
  {
   "cell_type": "code",
   "execution_count": null,
   "id": "dc7ab98d",
   "metadata": {},
   "outputs": [],
   "source": [
    "data_balance_estimate_m2 = result_m2.predict(data_balance_valid_x_m1.astype(float))\n",
    "print(\"MAPE: \", MAPE(data_balance_estimate_m2, data_balance_valid_y))\n",
    "print(\"MSPE: \", MSPE(data_balance_estimate_m2, data_balance_valid_y))"
   ]
  },
  {
   "cell_type": "code",
   "execution_count": null,
   "id": "02723ffb",
   "metadata": {},
   "outputs": [],
   "source": [
    "# Model 3 time series\n",
    "# First, visualize average total_claim\n",
    "data_balance_ave = data_balance[[\"week_number\", \"total_claims\", \"uu_id\"]]\n",
    "data_balance_ave = data_balance_ave.groupby(['week_number']).mean()\n",
    "data_balance_ave = data_balance_ave.reset_index()\n",
    "data_balance_ave['MA4'] = data['total_claims'].rolling(4).mean()\n",
    "fig = px.line(data_balance_ave, x=\"week_number\", y=[\"total_claims\", \"MA4\"])\n",
    "fig.show()"
   ]
  },
  {
   "cell_type": "code",
   "execution_count": null,
   "id": "d6a7fd0e",
   "metadata": {},
   "outputs": [],
   "source": [
    "# model train and validation\n",
    "MAPE_list = []\n",
    "MSPE_list = []"
   ]
  },
  {
   "cell_type": "code",
   "execution_count": null,
   "id": "3d8e0606",
   "metadata": {},
   "outputs": [],
   "source": [
    "uu_id_list = pd.unique(data_balance[\"uu_id\"])"
   ]
  },
  {
   "cell_type": "code",
   "execution_count": null,
   "id": "7eeaa6f9",
   "metadata": {},
   "outputs": [],
   "source": [
    "for i in range(len(uu_id_list)):\n",
    "    print(i)\n",
    "    data_balance_tract = data_balance[data_balance[\"uu_id\"] == uu_id_list[i]]\n",
    "    data_balance_tract_model = data_balance_tract[[\"week_number\",\"total_claims\"]]\n",
    "    data_balance_tract_model = data_balance_tract_model.set_index(\"week_number\")\n",
    "    forecast = ARIMA_predict(data_balance_tract_model, cutoff_rate = 0.8, n_period = 15)\n",
    "    \n",
    "    df_forecast = pd.DataFrame(forecast)\n",
    "    df_forecast.index.name = \"week_number\"\n",
    "    df_forecast.columns = [\"total_claim_pred\"]\n",
    "    \n",
    "    data_balance_ave_valid_check = data_balance_ave_valid.merge(df_forecast, on = \"week_number\")\n",
    "    MAPE_series = MAPE(data_balance_ave_valid_check[\"total_claims\"], data_balance_ave_valid_check[\"total_claim_pred\"])\n",
    "    MSPE_series = MSPE(data_balance_ave_valid_check[\"total_claims\"], data_balance_ave_valid_check[\"total_claim_pred\"])\n",
    "    \n",
    "    MAPE_list.append(MAPE_series)\n",
    "    MSPE_list.append(MSPE_series)"
   ]
  },
  {
   "cell_type": "code",
   "execution_count": null,
   "id": "62cbae57",
   "metadata": {},
   "outputs": [],
   "source": [
    "# model train and validation\n",
    "MAPE_list = []\n",
    "MSPE_list = []"
   ]
  },
  {
   "cell_type": "code",
   "execution_count": null,
   "id": "40b5f41d",
   "metadata": {},
   "outputs": [],
   "source": [
    "uu_id_list = pd.unique(data_balance[\"uu_id\"])"
   ]
  },
  {
   "cell_type": "code",
   "execution_count": null,
   "id": "660ef006",
   "metadata": {},
   "outputs": [],
   "source": [
    "for i in range(len(uu_id_list)):\n",
    "    print(i)\n",
    "    data_balance_tract = data_balance[data_balance[\"uu_id\"] == uu_id_list[i]]\n",
    "    data_balance_tract_model = data_balance_tract[[\"week_number\",\"total_claims\"]]\n",
    "    data_balance_tract_model = data_balance_tract_model.set_index(\"week_number\")\n",
    "    forecast = ARIMA_predict(data_balance_tract_model, cutoff_rate = 0.8, n_period = 15)\n",
    "    \n",
    "    df_forecast = pd.DataFrame(forecast)\n",
    "    df_forecast.index.name = \"week_number\"\n",
    "    df_forecast.columns = [\"total_claim_pred\"]\n",
    "    \n",
    "    data_balance_ave_valid_check = data_balance_tract_model.merge(df_forecast, on = \"week_number\")\n",
    "    MAPE_series = MAPE(data_balance_ave_valid_check[\"total_claims\"], data_balance_ave_valid_check[\"total_claim_pred\"])\n",
    "    MSPE_series = MSPE(data_balance_ave_valid_check[\"total_claims\"], data_balance_ave_valid_check[\"total_claim_pred\"])\n",
    "    \n",
    "    MAPE_list.append(MAPE_series)\n",
    "    MSPE_list.append(MSPE_series)\n",
    "    break"
   ]
  },
  {
   "cell_type": "code",
   "execution_count": null,
   "id": "378b4480",
   "metadata": {},
   "outputs": [],
   "source": [
    "MAPE_list"
   ]
  },
  {
   "cell_type": "code",
   "execution_count": null,
   "id": "7ebdbb36",
   "metadata": {},
   "outputs": [],
   "source": [
    "i = 0\n",
    "data_balance_tract = data_balance[data_balance[\"uu_id\"] == uu_id_list[i]]\n",
    "data_balance_tract_model = data_balance_tract[[\"week_number\",\"total_claims\"]]\n",
    "data_balance_tract_model = data_balance_tract_model.set_index(\"week_number\")\n",
    "forecast = ARIMA_predict(data_balance_tract_model, cutoff_rate = 0.8, n_period = 15)"
   ]
  },
  {
   "cell_type": "code",
   "execution_count": null,
   "id": "915fc1b7",
   "metadata": {},
   "outputs": [],
   "source": [
    "df_forecast = pd.DataFrame(forecast)\n",
    "df_forecast.index.name = \"week_number\"\n",
    "df_forecast.columns = [\"total_claim_pred\"]"
   ]
  },
  {
   "cell_type": "code",
   "execution_count": null,
   "id": "cff54b86",
   "metadata": {},
   "outputs": [],
   "source": [
    "data_balance_ave_valid_check = data_balance_tract_model.merge(df_forecast, on = \"week_number\")\n",
    "MAPE_series = MAPE(data_balance_ave_valid_check[\"total_claims\"], data_balance_ave_valid_check[\"total_claim_pred\"])\n",
    "MSPE_series = MSPE(data_balance_ave_valid_check[\"total_claims\"], data_balance_ave_valid_check[\"total_claim_pred\"])"
   ]
  },
  {
   "cell_type": "code",
   "execution_count": null,
   "id": "58351e68",
   "metadata": {},
   "outputs": [],
   "source": [
    "data_balance_ave_valid_check"
   ]
  },
  {
   "cell_type": "code",
   "execution_count": null,
   "id": "d9736ad6",
   "metadata": {},
   "outputs": [],
   "source": [
    "# model train and validation\n",
    "MAPE_list = []\n",
    "MSPE_list = []"
   ]
  },
  {
   "cell_type": "code",
   "execution_count": null,
   "id": "60af5d3d",
   "metadata": {},
   "outputs": [],
   "source": [
    "uu_id_list = pd.unique(data_balance[\"uu_id\"])"
   ]
  },
  {
   "cell_type": "code",
   "execution_count": null,
   "id": "aca43770",
   "metadata": {},
   "outputs": [],
   "source": [
    "for i in range(len(uu_id_list)):\n",
    "    print(i)\n",
    "    data_balance_tract = data_balance[data_balance[\"uu_id\"] == uu_id_list[i]]\n",
    "    data_balance_tract_model = data_balance_tract[[\"week_number\",\"total_claims\"]]\n",
    "    data_balance_tract_model = data_balance_tract_model.set_index(\"week_number\")\n",
    "    forecast = ARIMA_predict(data_balance_tract_model, cutoff_rate = 0.8, n_period = 15)\n",
    "    \n",
    "    df_forecast = pd.DataFrame(forecast)\n",
    "    df_forecast.index.name = \"week_number\"\n",
    "    df_forecast.columns = [\"total_claim_pred\"]\n",
    "    \n",
    "    data_balance_ave_valid_check = data_balance_tract_model.merge(df_forecast, on = \"week_number\")\n",
    "    MAPE_series = MAPE(data_balance_ave_valid_check[\"total_claims\"], data_balance_ave_valid_check[\"total_claim_pred\"])\n",
    "    MSPE_series = MSPE(data_balance_ave_valid_check[\"total_claims\"], data_balance_ave_valid_check[\"total_claim_pred\"])\n",
    "    \n",
    "    MAPE_list.append(MAPE_series)\n",
    "    MSPE_list.append(MSPE_series)\n",
    "    break"
   ]
  },
  {
   "cell_type": "code",
   "execution_count": null,
   "id": "282ff020",
   "metadata": {},
   "outputs": [],
   "source": [
    "# model train and validation\n",
    "MAPE_list = []\n",
    "MSPE_list = []"
   ]
  },
  {
   "cell_type": "code",
   "execution_count": null,
   "id": "54aad7d6",
   "metadata": {},
   "outputs": [],
   "source": [
    "uu_id_list = pd.unique(data_balance[\"uu_id\"])"
   ]
  },
  {
   "cell_type": "code",
   "execution_count": null,
   "id": "4a7b03ce",
   "metadata": {},
   "outputs": [],
   "source": [
    "for i in range(len(uu_id_list)):\n",
    "    print(i)\n",
    "    data_balance_tract = data_balance[data_balance[\"uu_id\"] == uu_id_list[i]]\n",
    "    data_balance_tract_model = data_balance_tract[[\"week_number\",\"total_claims\"]]\n",
    "    data_balance_tract_model = data_balance_tract_model.set_index(\"week_number\")\n",
    "    forecast = ARIMA_predict(data_balance_tract_model, cutoff_rate = 0.8, n_period = 15)\n",
    "    \n",
    "    df_forecast = pd.DataFrame(forecast)\n",
    "    df_forecast.index.name = \"week_number\"\n",
    "    df_forecast.columns = [\"total_claim_pred\"]\n",
    "    \n",
    "    data_balance_ave_valid_check = data_balance_tract_model.merge(df_forecast, on = \"week_number\")\n",
    "    MAPE_series = MAPE(data_balance_ave_valid_check[\"total_claims\"], data_balance_ave_valid_check[\"total_claim_pred\"])\n",
    "    MSPE_series = MSPE(data_balance_ave_valid_check[\"total_claims\"], data_balance_ave_valid_check[\"total_claim_pred\"])\n",
    "    \n",
    "    MAPE_list.append(MAPE_series)\n",
    "    MSPE_list.append(MSPE_series)"
   ]
  },
  {
   "cell_type": "code",
   "execution_count": null,
   "id": "9224da41",
   "metadata": {},
   "outputs": [],
   "source": [
    "# validation\n",
    "print(\"MAPE: \", sum(MAPE_list)/len(MAPE_list))\n",
    "print(\"MSPE: \", sum(MSPE_list)/len(MSPE_list))"
   ]
  },
  {
   "cell_type": "code",
   "execution_count": null,
   "id": "07ee0b3e",
   "metadata": {},
   "outputs": [],
   "source": [
    "data_balance.head()"
   ]
  },
  {
   "cell_type": "code",
   "execution_count": null,
   "id": "535e6d21",
   "metadata": {},
   "outputs": [],
   "source": [
    "data_balance.sort_values(by='uu_id',inplace=True)\n",
    "data_balance[\"countyfips\"].fillna(method='ffill')"
   ]
  },
  {
   "cell_type": "code",
   "execution_count": null,
   "id": "2ef7af81",
   "metadata": {},
   "outputs": [],
   "source": [
    "data_balance.head()"
   ]
  },
  {
   "cell_type": "code",
   "execution_count": null,
   "id": "7a0413e8",
   "metadata": {},
   "outputs": [],
   "source": [
    "data_balance.head()"
   ]
  },
  {
   "cell_type": "code",
   "execution_count": null,
   "id": "ba26c381",
   "metadata": {},
   "outputs": [],
   "source": [
    "# To balance the dataset as panel data\n",
    "data_balance = data.set_index('week_number')\n",
    "data_balance = data_balance.sort_index(ascending=False)\n",
    "data_balance = data_balance.set_index('uu_id',append=True)\n",
    "data_balance = data_balance[~data_balance.index.duplicated(keep='first')]"
   ]
  },
  {
   "cell_type": "code",
   "execution_count": null,
   "id": "a3b556ed",
   "metadata": {},
   "outputs": [],
   "source": [
    "data_balance = data_balance.reset_index(level=['week_number'])\n",
    "data_balance = (data_balance.set_index('week_number',append=True).reindex(pd.MultiIndex.from_product([data_balance.index.unique(),\n",
    "                                                      range(data_balance.week_number.min(),data_balance.week_number.max()+1)],\n",
    "                                                     names=['uu_id','week_number'])).reset_index(level=1))"
   ]
  },
  {
   "cell_type": "code",
   "execution_count": null,
   "id": "8a51f796",
   "metadata": {},
   "outputs": [],
   "source": [
    "data_balance = data_balance.set_index('week_number',append=True)\n",
    "data_balance['total_claims'] = data_balance['total_claims'].fillna(0)\n",
    "data_balance['average_wage'] = data_balance['average_wage'].interpolate(method = \"linear\")"
   ]
  },
  {
   "cell_type": "code",
   "execution_count": null,
   "id": "c9daa173",
   "metadata": {},
   "outputs": [],
   "source": [
    "data_balance = data_balance.reset_index(level=['uu_id', \"week_number\"])\n",
    "data_balance = dataIdentifyDWM(data_balance)"
   ]
  },
  {
   "cell_type": "code",
   "execution_count": null,
   "id": "96f9a023",
   "metadata": {},
   "outputs": [],
   "source": [
    "data_balance.head()"
   ]
  },
  {
   "cell_type": "code",
   "execution_count": null,
   "id": "ccf0309a",
   "metadata": {},
   "outputs": [],
   "source": [
    "data_balance.sort_values(by='uu_id',inplace=True)\n",
    "data_balance.fillna(method='ffill')"
   ]
  },
  {
   "cell_type": "code",
   "execution_count": null,
   "id": "1ce92540",
   "metadata": {},
   "outputs": [],
   "source": [
    "# To balance the dataset as panel data\n",
    "data_balance = data.set_index('week_number')\n",
    "data_balance = data_balance.sort_index(ascending=False)\n",
    "data_balance = data_balance.set_index('uu_id',append=True)\n",
    "data_balance = data_balance[~data_balance.index.duplicated(keep='first')]"
   ]
  },
  {
   "cell_type": "code",
   "execution_count": null,
   "id": "263c51bf",
   "metadata": {},
   "outputs": [],
   "source": [
    "data_balance = data_balance.reset_index(level=['week_number'])\n",
    "data_balance = (data_balance.set_index('week_number',append=True).reindex(pd.MultiIndex.from_product([data_balance.index.unique(),\n",
    "                                                      range(data_balance.week_number.min(),data_balance.week_number.max()+1)],\n",
    "                                                     names=['uu_id','week_number'])).reset_index(level=1))"
   ]
  },
  {
   "cell_type": "code",
   "execution_count": null,
   "id": "f5e39c49",
   "metadata": {},
   "outputs": [],
   "source": [
    "data_balance = data_balance.set_index('week_number',append=True)\n",
    "data_balance['total_claims'] = data_balance['total_claims'].fillna(0)\n",
    "data_balance['average_wage'] = data_balance['average_wage'].interpolate(method = \"linear\")"
   ]
  },
  {
   "cell_type": "code",
   "execution_count": null,
   "id": "ef9bf9e3",
   "metadata": {},
   "outputs": [],
   "source": [
    "data_balance = data_balance.reset_index(level=['uu_id', \"week_number\"])\n",
    "data_balance = dataIdentifyDWM(data_balance)"
   ]
  },
  {
   "cell_type": "code",
   "execution_count": null,
   "id": "a3a0ffb8",
   "metadata": {},
   "outputs": [],
   "source": [
    "data_balance"
   ]
  },
  {
   "cell_type": "code",
   "execution_count": null,
   "id": "e22b8ebd",
   "metadata": {},
   "outputs": [],
   "source": [
    "data_balance.sort_values(by='uu_id',inplace=True)\n",
    "data_balance.fillna(method='ffill')"
   ]
  },
  {
   "cell_type": "code",
   "execution_count": null,
   "id": "f0b4e858",
   "metadata": {},
   "outputs": [],
   "source": [
    "data_balance.sort_values(by='uu_id',inplace=True)\n",
    "data_balance.fillna(method='ffill')\n",
    "data_balance.sort_index()"
   ]
  },
  {
   "cell_type": "code",
   "execution_count": null,
   "id": "6aa26996",
   "metadata": {},
   "outputs": [],
   "source": [
    "data_balance.sort_values(by='uu_id',inplace=True)\n",
    "data_balance = data_balance.fillna(method='ffill')\n",
    "data_balance.sort_index()"
   ]
  },
  {
   "cell_type": "code",
   "execution_count": null,
   "id": "44bc9b83",
   "metadata": {},
   "outputs": [],
   "source": [
    "# Split data to training and validaton sets\n",
    "# Max trainweek is 37, use a 80 / 20 rule\n",
    "train_week = int(max(pd.unique(data[\"week_number\"]))*0.8)"
   ]
  },
  {
   "cell_type": "code",
   "execution_count": null,
   "id": "41967d85",
   "metadata": {},
   "outputs": [],
   "source": [
    "data_train = data[data[\"week_number\"] < train_week]\n",
    "data_valid = data[data[\"week_number\"] >= train_week]"
   ]
  },
  {
   "cell_type": "code",
   "execution_count": null,
   "id": "6b5ea15d",
   "metadata": {},
   "outputs": [],
   "source": [
    "data_train_x = data_train.drop(\"total_claims\",1)\n",
    "data_train_y = data_train[\"total_claims\"]"
   ]
  },
  {
   "cell_type": "code",
   "execution_count": null,
   "id": "e91903ad",
   "metadata": {},
   "outputs": [],
   "source": [
    "data_valid_x = data_valid.drop(\"total_claims\",1)\n",
    "data_valid_y = data_valid[\"total_claims\"]"
   ]
  },
  {
   "cell_type": "markdown",
   "id": "43cf7fa5",
   "metadata": {},
   "source": [
    "Also prepare it for balanced dataset"
   ]
  },
  {
   "cell_type": "code",
   "execution_count": null,
   "id": "f02af589",
   "metadata": {},
   "outputs": [],
   "source": [
    "data_balance_train = data_balance[data_balance[\"week_number\"] < train_week]\n",
    "data_balance_valid = data_balance[data_balance[\"week_number\"] >= train_week]"
   ]
  },
  {
   "cell_type": "code",
   "execution_count": null,
   "id": "acbf256a",
   "metadata": {},
   "outputs": [],
   "source": [
    "data_balance_train_x = data_balance_train.drop(\"total_claims\",1)\n",
    "data_balance_train_y = data_balance_train[\"total_claims\"]"
   ]
  },
  {
   "cell_type": "code",
   "execution_count": null,
   "id": "294cdf05",
   "metadata": {},
   "outputs": [],
   "source": [
    "data_balance_valid_x = data_balance_valid.drop(\"total_claims\",1)\n",
    "data_balance_valid_y = data_balance_valid[\"total_claims\"]"
   ]
  },
  {
   "cell_type": "code",
   "execution_count": null,
   "id": "d63206cf",
   "metadata": {},
   "outputs": [],
   "source": [
    "data_balance_valid_y.shape"
   ]
  },
  {
   "cell_type": "code",
   "execution_count": null,
   "id": "e09f0eba",
   "metadata": {},
   "outputs": [],
   "source": [
    "# Model 4 Hierarchical ARIMA model\n",
    "data_balance.groupby(\"countyfips\")[\"uu_id\"].apply(set).to_frame()"
   ]
  },
  {
   "cell_type": "code",
   "execution_count": null,
   "id": "d1e5e072",
   "metadata": {},
   "outputs": [],
   "source": [
    "# Model 4 Hierarchical ARIMA model\n",
    "# data_balance.groupby(\"countyfips\")[\"uu_id\"].apply(set).to_frame()\n",
    "data_balance[\"county_tract\"] = data_balance.apply(lambda x: f\"{x['county']}_{x['uu_id']}\", axis=1)"
   ]
  },
  {
   "cell_type": "code",
   "execution_count": null,
   "id": "841821f1",
   "metadata": {},
   "outputs": [],
   "source": [
    "# Model 4 Hierarchical ARIMA model\n",
    "# data_balance.groupby(\"countyfips\")[\"uu_id\"].apply(set).to_frame()\n",
    "data_balance[\"county_tract\"] = data_balance.apply(lambda x: f\"{x['countyfips']}_{x['uu_id']}\", axis=1)"
   ]
  },
  {
   "cell_type": "code",
   "execution_count": null,
   "id": "153c04ec",
   "metadata": {},
   "outputs": [],
   "source": [
    "df_bottom_level = data_balance.pivot(index=\"week_number\", columns=\"county_tract\", values=\"total_claims\")\n",
    "df_middle_level = data_balance.groupby([\"week_number\", \"state\"]) \\\n",
    "                    .sum() \\\n",
    "                    .reset_index(drop=False) \\\n",
    "                    .pivot(index=\"week_number\", columns=\"countyfips\", values=\"total_claims\")\n",
    "df_total = data_balance.groupby(\"week_number\")[\"total_claims\"] \\\n",
    "             .sum() \\\n",
    "             .to_frame() \\\n",
    "             .rename(columns={\"total_claims\": \"total\"})"
   ]
  },
  {
   "cell_type": "code",
   "execution_count": null,
   "id": "fea7012c",
   "metadata": {},
   "outputs": [],
   "source": [
    "df_bottom_level = data_balance.pivot(index=\"week_number\", columns=\"county_tract\", values=\"total_claims\")\n",
    "df_middle_level = data_balance.groupby([\"week_number\", \"countyfips\"]) \\\n",
    "                    .sum() \\\n",
    "                    .reset_index(drop=False) \\\n",
    "                    .pivot(index=\"week_number\", columns=\"countyfips\", values=\"total_claims\")\n",
    "df_total = data_balance.groupby(\"week_number\")[\"total_claims\"] \\\n",
    "             .sum() \\\n",
    "             .to_frame() \\\n",
    "             .rename(columns={\"total_claims\": \"total\"})"
   ]
  },
  {
   "cell_type": "code",
   "execution_count": null,
   "id": "6e96f9a4",
   "metadata": {},
   "outputs": [],
   "source": [
    "df_bottom_level = data_balance.pivot(index=\"week_number\", columns=\"county_tract\", values=\"total_claims\")\n",
    "df_middle_level = data_balance.groupby([\"week_number\", \"countyfips\"]) \\\n",
    "                    .sum() \\\n",
    "                    .reset_index(drop=False) \\\n",
    "                    .pivot(index=\"week_number\", columns=\"countyfips\", values=\"total_claims\")\n",
    "df_total = data_balance.groupby(\"week_number\")[\"total_claims\"] \\\n",
    "             .sum() \\\n",
    "             .to_frame() \\\n",
    "             .rename(columns={\"total_claims\": \"total\"})\n",
    "hierarchy_df = df_bottom_level.join(df_middle_level) \\\n",
    "                              .join(df_total)\n",
    "hierarchy_df.index = pd.to_datetime(hierarchy_df.index)"
   ]
  },
  {
   "cell_type": "code",
   "execution_count": null,
   "id": "999d4188",
   "metadata": {},
   "outputs": [],
   "source": [
    "print(f\"Number of time series at the bottom level: {df_bottom_level.shape[1]}\")\n",
    "print(f\"Number of time series at the middle level: {df_middle_level.shape[1]}\")"
   ]
  },
  {
   "cell_type": "code",
   "execution_count": null,
   "id": "ce712ddd",
   "metadata": {},
   "outputs": [],
   "source": [
    "hierarchy_df"
   ]
  },
  {
   "cell_type": "code",
   "execution_count": null,
   "id": "2262d182",
   "metadata": {},
   "outputs": [],
   "source": [
    "data_balance.head()"
   ]
  },
  {
   "cell_type": "code",
   "execution_count": null,
   "id": "77051010",
   "metadata": {},
   "outputs": [],
   "source": [
    "# Model 4 Hierarchical ARIMA model\n",
    "# data_balance.groupby(\"countyfips\")[\"uu_id\"].apply(set).to_frame()\n",
    "data_balance[\"county_tract\"] = data_balance.apply(lambda x: f\"{x['countyfips']}_{x['uu_id']}\", axis=1)\n",
    "data_balance_hts = data_balance.copy()\n",
    "data_balance_hts = data_balance_hts[[\"week_number\", \"uu_id\", \"countyfips\", \"total_claims\", \"county_tract\"]]"
   ]
  },
  {
   "cell_type": "code",
   "execution_count": null,
   "id": "ffc96f82",
   "metadata": {},
   "outputs": [],
   "source": [
    "data_balance_hts"
   ]
  },
  {
   "cell_type": "code",
   "execution_count": null,
   "id": "97190b09",
   "metadata": {},
   "outputs": [],
   "source": [
    "df_bottom_level = data_balance_hts.pivot(index=\"week_number\", columns=\"county_tract\", values=\"total_claims\")\n",
    "df_middle_level = data_balance_hts.groupby([\"week_number\", \"countyfips\"]) \\\n",
    "                    .sum() \\\n",
    "                    .reset_index(drop=False) \\\n",
    "                    .pivot(index=\"week_number\", columns=\"countyfips\", values=\"total_claims\")\n",
    "df_total = data_balance_hts.groupby(\"week_number\")[\"total_claims\"] \\\n",
    "             .sum() \\\n",
    "             .to_frame() \\\n",
    "             .rename(columns={\"total_claims\": \"total\"})\n",
    "hierarchy_df = df_bottom_level.join(df_middle_level) \\\n",
    "                              .join(df_total)\n",
    "hierarchy_df.index = pd.to_datetime(hierarchy_df.index)"
   ]
  },
  {
   "cell_type": "code",
   "execution_count": null,
   "id": "6824075e",
   "metadata": {},
   "outputs": [],
   "source": [
    "print(f\"Number of time series at the bottom level: {df_bottom_level.shape[1]}\")\n",
    "print(f\"Number of time series at the middle level: {df_middle_level.shape[1]}\")"
   ]
  },
  {
   "cell_type": "code",
   "execution_count": null,
   "id": "0017f97c",
   "metadata": {},
   "outputs": [],
   "source": [
    "hierarchy_df"
   ]
  },
  {
   "cell_type": "code",
   "execution_count": null,
   "id": "6919fd61",
   "metadata": {},
   "outputs": [],
   "source": [
    "data_balance_hts"
   ]
  },
  {
   "cell_type": "code",
   "execution_count": null,
   "id": "b2778e05",
   "metadata": {},
   "outputs": [],
   "source": [
    "hierarchy_df = Null"
   ]
  },
  {
   "cell_type": "code",
   "execution_count": null,
   "id": "41bab999",
   "metadata": {},
   "outputs": [],
   "source": [
    "hierarchy_df = null"
   ]
  },
  {
   "cell_type": "code",
   "execution_count": null,
   "id": "960e5f8a",
   "metadata": {},
   "outputs": [],
   "source": [
    "hierarchy_df = 0"
   ]
  },
  {
   "cell_type": "code",
   "execution_count": null,
   "id": "9a900844",
   "metadata": {},
   "outputs": [],
   "source": [
    "data_balance_hts.sort_values(by='week_number',inplace=True)"
   ]
  },
  {
   "cell_type": "code",
   "execution_count": null,
   "id": "35a615f6",
   "metadata": {},
   "outputs": [],
   "source": [
    "data_balance_hts"
   ]
  },
  {
   "cell_type": "code",
   "execution_count": null,
   "id": "bc74a1d6",
   "metadata": {},
   "outputs": [],
   "source": [
    "hierarchy_df"
   ]
  },
  {
   "cell_type": "code",
   "execution_count": null,
   "id": "fefe8adc",
   "metadata": {},
   "outputs": [],
   "source": [
    "df_bottom_level = data_balance_hts.pivot(index=\"week_number\", columns=\"county_tract\", values=\"total_claims\")\n",
    "df_middle_level = data_balance_hts.groupby([\"week_number\", \"countyfips\"]) \\\n",
    "                    .sum() \\\n",
    "                    .reset_index(drop=False) \\\n",
    "                    .pivot(index=\"week_number\", columns=\"countyfips\", values=\"total_claims\")\n",
    "df_total = data_balance_hts.groupby(\"week_number\")[\"total_claims\"] \\\n",
    "             .sum() \\\n",
    "             .to_frame() \\\n",
    "             .rename(columns={\"total_claims\": \"total\"})\n",
    "hierarchy_df = df_bottom_level.join(df_middle_level) \\\n",
    "                              .join(df_total)\n",
    "hierarchy_df.index = pd.to_datetime(hierarchy_df.index)"
   ]
  },
  {
   "cell_type": "code",
   "execution_count": null,
   "id": "75cc944f",
   "metadata": {},
   "outputs": [],
   "source": [
    "print(f\"Number of time series at the bottom level: {df_bottom_level.shape[1]}\")\n",
    "print(f\"Number of time series at the middle level: {df_middle_level.shape[1]}\")"
   ]
  },
  {
   "cell_type": "code",
   "execution_count": null,
   "id": "26da6dbf",
   "metadata": {},
   "outputs": [],
   "source": [
    "hierarchy_df"
   ]
  },
  {
   "cell_type": "code",
   "execution_count": null,
   "id": "94491dc7",
   "metadata": {},
   "outputs": [],
   "source": [
    "hierarchy_df.head()"
   ]
  },
  {
   "cell_type": "code",
   "execution_count": null,
   "id": "49fb5910",
   "metadata": {},
   "outputs": [],
   "source": [
    "df_bottom_level = data_balance_hts.pivot(index=\"week_number\", columns=\"county_tract\", values=\"total_claims\")\n",
    "df_middle_level = data_balance_hts.groupby([\"week_number\", \"countyfips\"]) \\\n",
    "                    .sum() \\\n",
    "                    .reset_index(drop=False) \\\n",
    "                    .pivot(index=\"week_number\", columns=\"countyfips\", values=\"total_claims\")\n",
    "df_total = data_balance_hts.groupby(\"week_number\")[\"total_claims\"] \\\n",
    "             .sum() \\\n",
    "             .to_frame() \\\n",
    "             .rename(columns={\"total_claims\": \"total\"})\n",
    "hierarchy_df = df_bottom_level.join(df_middle_level) \\\n",
    "                              .join(df_total)\n",
    "hierarchy_df.index = pd.to_datetime(hierarchy_df.index)"
   ]
  },
  {
   "cell_type": "code",
   "execution_count": null,
   "id": "684a2bf6",
   "metadata": {},
   "outputs": [],
   "source": [
    "print(f\"Number of time series at the bottom level: {df_bottom_level.shape[1]}\")\n",
    "print(f\"Number of time series at the middle level: {df_middle_level.shape[1]}\")\n",
    "hierarchy_df.fillNA(0)"
   ]
  },
  {
   "cell_type": "code",
   "execution_count": null,
   "id": "02f308a7",
   "metadata": {},
   "outputs": [],
   "source": [
    "df_bottom_level = data_balance_hts.pivot(index=\"week_number\", columns=\"county_tract\", values=\"total_claims\")\n",
    "df_middle_level = data_balance_hts.groupby([\"week_number\", \"countyfips\"]) \\\n",
    "                    .sum() \\\n",
    "                    .reset_index(drop=False) \\\n",
    "                    .pivot(index=\"week_number\", columns=\"countyfips\", values=\"total_claims\")\n",
    "df_total = data_balance_hts.groupby(\"week_number\")[\"total_claims\"] \\\n",
    "             .sum() \\\n",
    "             .to_frame() \\\n",
    "             .rename(columns={\"total_claims\": \"total\"})\n",
    "hierarchy_df = df_bottom_level.join(df_middle_level) \\\n",
    "                              .join(df_total)\n",
    "hierarchy_df.index = pd.to_datetime(hierarchy_df.index)"
   ]
  },
  {
   "cell_type": "code",
   "execution_count": null,
   "id": "123cf350",
   "metadata": {},
   "outputs": [],
   "source": [
    "print(f\"Number of time series at the bottom level: {df_bottom_level.shape[1]}\")\n",
    "print(f\"Number of time series at the middle level: {df_middle_level.shape[1]}\")\n",
    "hierarchy_df.fillna(0)"
   ]
  },
  {
   "cell_type": "code",
   "execution_count": null,
   "id": "298ee078",
   "metadata": {},
   "outputs": [],
   "source": [
    "hierarchy_df"
   ]
  },
  {
   "cell_type": "code",
   "execution_count": null,
   "id": "52cca38e",
   "metadata": {},
   "outputs": [],
   "source": [
    "df_bottom_level = data_balance_hts.pivot(index=\"week_number\", columns=\"county_tract\", values=\"total_claims\")\n",
    "df_middle_level = data_balance_hts.groupby([\"week_number\", \"countyfips\"]) \\\n",
    "                    .sum() \\\n",
    "                    .reset_index(drop=False) \\\n",
    "                    .pivot(index=\"week_number\", columns=\"countyfips\", values=\"total_claims\")\n",
    "df_total = data_balance_hts.groupby(\"week_number\")[\"total_claims\"] \\\n",
    "             .sum() \\\n",
    "             .to_frame() \\\n",
    "             .rename(columns={\"total_claims\": \"total\"})\n",
    "hierarchy_df = df_bottom_level.join(df_middle_level) \\\n",
    "                              .join(df_total)\n",
    "hierarchy_df.index = pd.to_datetime(hierarchy_df.index)"
   ]
  },
  {
   "cell_type": "code",
   "execution_count": null,
   "id": "b49ec732",
   "metadata": {},
   "outputs": [],
   "source": [
    "print(f\"Number of time series at the bottom level: {df_bottom_level.shape[1]}\")\n",
    "print(f\"Number of time series at the middle level: {df_middle_level.shape[1]}\")\n",
    "hierarchy_df = hierarchy_df.fillna(0)"
   ]
  },
  {
   "cell_type": "code",
   "execution_count": null,
   "id": "b5d46833",
   "metadata": {},
   "outputs": [],
   "source": [
    "hierarchy_df"
   ]
  },
  {
   "cell_type": "code",
   "execution_count": null,
   "id": "c2ef4326",
   "metadata": {},
   "outputs": [],
   "source": [
    "df_bottom_level"
   ]
  },
  {
   "cell_type": "code",
   "execution_count": null,
   "id": "9bd578d0",
   "metadata": {},
   "outputs": [],
   "source": [
    "df_middle_level"
   ]
  },
  {
   "cell_type": "code",
   "execution_count": null,
   "id": "85b452cd",
   "metadata": {},
   "outputs": [],
   "source": [
    "df_bottom_level = data_balance_hts.pivot(index=\"week_number\", columns=\"county_tract\", values=\"total_claims\")\n",
    "df_middle_level = data_balance_hts.groupby([\"week_number\", \"countyfips\"]) \\\n",
    "                    .sum() \\\n",
    "                    .reset_index(drop=False) \\\n",
    "                    .pivot(index=\"week_number\", columns=\"countyfips\", values=\"total_claims\")\n",
    "df_total = data_balance_hts.groupby(\"week_number\")[\"total_claims\"] \\\n",
    "             .sum() \\\n",
    "             .to_frame() \\\n",
    "             .rename(columns={\"total_claims\": \"total\"})\n",
    "hierarchy_df = df_bottom_level.join(df_middle_level) \\\n",
    "                              .join(df_total)\n",
    "#hierarchy_df.index = pd.to_datetime(hierarchy_df.index)"
   ]
  },
  {
   "cell_type": "code",
   "execution_count": null,
   "id": "80cd1558",
   "metadata": {},
   "outputs": [],
   "source": [
    "print(f\"Number of time series at the bottom level: {df_bottom_level.shape[1]}\")\n",
    "print(f\"Number of time series at the middle level: {df_middle_level.shape[1]}\")\n",
    "hierarchy_df = hierarchy_df.fillna(0)"
   ]
  },
  {
   "cell_type": "code",
   "execution_count": null,
   "id": "a76b6c10",
   "metadata": {},
   "outputs": [],
   "source": [
    "hierarchy_df"
   ]
  },
  {
   "cell_type": "code",
   "execution_count": null,
   "id": "5d8e31d5",
   "metadata": {},
   "outputs": [],
   "source": [
    "hierarchy_df[\"total\"].plot(title=\"Trips - total level\");"
   ]
  },
  {
   "cell_type": "code",
   "execution_count": null,
   "id": "52ee8492",
   "metadata": {},
   "outputs": [],
   "source": [
    "ax = hierarchy_df[hierarchy['total']].plot(title=\"Trips - state level\")\n",
    "ax.legend(bbox_to_anchor=(1.0, 1.0));"
   ]
  },
  {
   "cell_type": "code",
   "execution_count": null,
   "id": "f9eb07b1",
   "metadata": {},
   "outputs": [],
   "source": [
    "df_bottom_level = data_balance_hts.pivot(index=\"week_number\", columns=\"county_tract\", values=\"total_claims\")\n",
    "df_middle_level = data_balance_hts.groupby([\"week_number\", \"countyfips\"]) \\\n",
    "                    .sum() \\\n",
    "                    .reset_index(drop=False) \\\n",
    "                    .pivot(index=\"week_number\", columns=\"countyfips\", values=\"total_claims\")\n",
    "df_total = data_balance_hts.groupby(\"week_number\")[\"total_claims\"] \\\n",
    "             .sum() \\\n",
    "             .to_frame() \\\n",
    "             .rename(columns={\"total_claims\": \"total\"})\n",
    "hierarchy_df = df_bottom_level.join(df_middle_level) \\\n",
    "                              .join(df_total)\n",
    "#hierarchy_df.index = pd.to_datetime(hierarchy_df.index)"
   ]
  },
  {
   "cell_type": "code",
   "execution_count": null,
   "id": "fd550aec",
   "metadata": {},
   "outputs": [],
   "source": [
    "print(f\"Number of time series at the bottom level: {df_bottom_level.shape[1]}\")\n",
    "print(f\"Number of time series at the middle level: {df_middle_level.shape[1]}\")\n",
    "hierarchy_df = hierarchy_df.fillna(0)"
   ]
  },
  {
   "cell_type": "code",
   "execution_count": null,
   "id": "8ab8fcd5",
   "metadata": {},
   "outputs": [],
   "source": [
    "county = data_balance_hts[\"countyfips\"].unique()\n",
    "tract = data_balance_hts[\"county_tract\"].unique()"
   ]
  },
  {
   "cell_type": "code",
   "execution_count": null,
   "id": "bb415b1d",
   "metadata": {},
   "outputs": [],
   "source": [
    "total = {'total': list(county)}\n",
    "county = {k: [v for v in tract if v.startswith(k)] for k in county}\n",
    "hierarchy = {**total, **county}"
   ]
  },
  {
   "cell_type": "code",
   "execution_count": null,
   "id": "39fbdff7",
   "metadata": {},
   "outputs": [],
   "source": [
    "# Model 4 Hierarchical ARIMA model\n",
    "# data_balance.groupby(\"countyfips\")[\"uu_id\"].apply(set).to_frame()\n",
    "data_balance[\"county_tract\"] = data_balance.apply(lambda x: f\"{x['countyfips']}_{x['uu_id']}\", axis=1)\n",
    "data_balance_hts = data_balance.copy()\n",
    "data_balance_hts = data_balance_hts[[\"week_number\", \"uu_id\", \"countyfips\", \"total_claims\", \"county_tract\"]]\n",
    "data_balance_hts[\"countyfips] "
   ]
  },
  {
   "cell_type": "code",
   "execution_count": null,
   "id": "72fd8f72",
   "metadata": {},
   "outputs": [],
   "source": [
    "# Model 4 Hierarchical ARIMA model\n",
    "# data_balance.groupby(\"countyfips\")[\"uu_id\"].apply(set).to_frame()\n",
    "data_balance[\"county_tract\"] = data_balance.apply(lambda x: f\"{x['countyfips']}_{x['uu_id']}\", axis=1)\n",
    "data_balance_hts = data_balance.copy()\n",
    "data_balance_hts = data_balance_hts[[\"week_number\", \"uu_id\", \"countyfips\", \"total_claims\", \"county_tract\"]]\n",
    "data_balance_hts[\"countyfips\"] = str(data_balance_hts[\"countyfips\"]) "
   ]
  },
  {
   "cell_type": "code",
   "execution_count": null,
   "id": "d35205de",
   "metadata": {},
   "outputs": [],
   "source": [
    "data_balance_hts.sort_values(by='week_number',inplace=True)"
   ]
  },
  {
   "cell_type": "code",
   "execution_count": null,
   "id": "b2f68cb5",
   "metadata": {},
   "outputs": [],
   "source": [
    "data_balance_hts"
   ]
  },
  {
   "cell_type": "code",
   "execution_count": null,
   "id": "a2728a22",
   "metadata": {},
   "outputs": [],
   "source": [
    "# Model 4 Hierarchical ARIMA model\n",
    "# data_balance.groupby(\"countyfips\")[\"uu_id\"].apply(set).to_frame()\n",
    "data_balance[\"county_tract\"] = data_balance.apply(lambda x: f\"{x['countyfips']}_{x['uu_id']}\", axis=1)\n",
    "data_balance_hts = data_balance.copy()\n",
    "data_balance_hts = data_balance_hts[[\"week_number\", \"uu_id\", \"countyfips\", \"total_claims\", \"county_tract\"]]\n",
    "data_balance_hts[\"countyfips\"] = data_balance_hts[\"countyfips\"].astype(str)"
   ]
  },
  {
   "cell_type": "code",
   "execution_count": null,
   "id": "07565ffd",
   "metadata": {},
   "outputs": [],
   "source": [
    "data_balance_hts.sort_values(by='week_number',inplace=True)"
   ]
  },
  {
   "cell_type": "code",
   "execution_count": null,
   "id": "57574aad",
   "metadata": {},
   "outputs": [],
   "source": [
    "data_balance_hts"
   ]
  },
  {
   "cell_type": "code",
   "execution_count": null,
   "id": "83e4c040",
   "metadata": {},
   "outputs": [],
   "source": [
    "df_bottom_level = data_balance_hts.pivot(index=\"week_number\", columns=\"county_tract\", values=\"total_claims\")\n",
    "df_middle_level = data_balance_hts.groupby([\"week_number\", \"countyfips\"]) \\\n",
    "                    .sum() \\\n",
    "                    .reset_index(drop=False) \\\n",
    "                    .pivot(index=\"week_number\", columns=\"countyfips\", values=\"total_claims\")\n",
    "df_total = data_balance_hts.groupby(\"week_number\")[\"total_claims\"] \\\n",
    "             .sum() \\\n",
    "             .to_frame() \\\n",
    "             .rename(columns={\"total_claims\": \"total\"})\n",
    "hierarchy_df = df_bottom_level.join(df_middle_level) \\\n",
    "                              .join(df_total)\n",
    "#hierarchy_df.index = pd.to_datetime(hierarchy_df.index)"
   ]
  },
  {
   "cell_type": "code",
   "execution_count": null,
   "id": "bcd636ae",
   "metadata": {},
   "outputs": [],
   "source": [
    "print(f\"Number of time series at the bottom level: {df_bottom_level.shape[1]}\")\n",
    "print(f\"Number of time series at the middle level: {df_middle_level.shape[1]}\")\n",
    "hierarchy_df = hierarchy_df.fillna(0)"
   ]
  },
  {
   "cell_type": "code",
   "execution_count": null,
   "id": "9b90d11e",
   "metadata": {},
   "outputs": [],
   "source": [
    "county = data_balance_hts[\"countyfips\"].unique()\n",
    "tract = data_balance_hts[\"county_tract\"].unique()"
   ]
  },
  {
   "cell_type": "code",
   "execution_count": null,
   "id": "eb1fa7e8",
   "metadata": {},
   "outputs": [],
   "source": [
    "total = {'total': list(county)}\n",
    "county = {k: [v for v in tract if v.startswith(k)] for k in county}\n",
    "hierarchy = {**total, **county}"
   ]
  },
  {
   "cell_type": "code",
   "execution_count": null,
   "id": "01946580",
   "metadata": {},
   "outputs": [],
   "source": [
    "ax = hierarchy_df[hierarchy['total']].plot(title=\"Trips - state level\")\n",
    "ax.legend(bbox_to_anchor=(1.0, 1.0));"
   ]
  },
  {
   "cell_type": "code",
   "execution_count": null,
   "id": "2eaebc25",
   "metadata": {},
   "outputs": [],
   "source": [
    "hierarchy"
   ]
  },
  {
   "cell_type": "code",
   "execution_count": null,
   "id": "de9c6f3b",
   "metadata": {},
   "outputs": [],
   "source": [
    "model_ols_arima = hts.HTSRegressor(model='auto_arima', revision_method='OLS', n_jobs=0)\n",
    "model_ols_arima = model_ols_arima.fit(hierarchy_df, hierarchy)\n",
    "pred_ols_arima = model_ols_arima.predict(steps_ahead=10)"
   ]
  },
  {
   "cell_type": "code",
   "execution_count": null,
   "id": "e191c307",
   "metadata": {},
   "outputs": [],
   "source": [
    "data_balance"
   ]
  },
  {
   "cell_type": "code",
   "execution_count": null,
   "id": "9be87490",
   "metadata": {},
   "outputs": [],
   "source": [
    "# Model 4 Hierarchical ARIMA model\n",
    "# data_balance.groupby(\"countyfips\")[\"uu_id\"].apply(set).to_frame()\n",
    "data_balance[\"county_tract\"] = data_balance.apply(lambda x: f\"{x['countyfips']}_{x['uu_id']}\", axis=1)\n",
    "data_balance_hts = data_balance.copy()\n",
    "data_balance_hts = data_balance_hts[[\"date\", \"uu_id\", \"countyfips\", \"total_claims\", \"county_tract\"]]\n",
    "data_balance_hts[\"countyfips\"] = data_balance_hts[\"countyfips\"].astype(str)\n",
    "data_balance_hts.sort_values(by='date',inplace=True)"
   ]
  },
  {
   "cell_type": "code",
   "execution_count": null,
   "id": "f24aa74f",
   "metadata": {},
   "outputs": [],
   "source": [
    "data_balance"
   ]
  },
  {
   "cell_type": "code",
   "execution_count": null,
   "id": "cff488d7",
   "metadata": {},
   "outputs": [],
   "source": [
    "data_balance_hts"
   ]
  },
  {
   "cell_type": "code",
   "execution_count": null,
   "id": "ad153c03",
   "metadata": {},
   "outputs": [],
   "source": [
    "df_bottom_level = data_balance_hts.pivot(index=\"date\", columns=\"county_tract\", values=\"total_claims\")\n",
    "df_middle_level = data_balance_hts.groupby([\"date\", \"countyfips\"]) \\\n",
    "                    .sum() \\\n",
    "                    .reset_index(drop=False) \\\n",
    "                    .pivot(index=\"date\", columns=\"countyfips\", values=\"total_claims\")\n",
    "df_total = data_balance_hts.groupby(\"date\")[\"total_claims\"] \\\n",
    "             .sum() \\\n",
    "             .to_frame() \\\n",
    "             .rename(columns={\"total_claims\": \"total\"})\n",
    "hierarchy_df = df_bottom_level.join(df_middle_level) \\\n",
    "                              .join(df_total)\n",
    "hierarchy_df.index = pd.to_datetime(hierarchy_df.index)\n",
    "hierarchy_df = hierarchy_df.resample(\"7D\") \\\n",
    "                           .sum()"
   ]
  },
  {
   "cell_type": "code",
   "execution_count": null,
   "id": "4bf67fc5",
   "metadata": {},
   "outputs": [],
   "source": [
    "print(f\"Number of time series at the bottom level: {df_bottom_level.shape[1]}\")\n",
    "print(f\"Number of time series at the middle level: {df_middle_level.shape[1]}\")\n",
    "hierarchy_df = hierarchy_df.fillna(0)"
   ]
  },
  {
   "cell_type": "code",
   "execution_count": null,
   "id": "06472e72",
   "metadata": {},
   "outputs": [],
   "source": [
    "county = data_balance_hts[\"countyfips\"].unique()\n",
    "tract = data_balance_hts[\"county_tract\"].unique()"
   ]
  },
  {
   "cell_type": "code",
   "execution_count": null,
   "id": "7315bfe6",
   "metadata": {},
   "outputs": [],
   "source": [
    "total = {'total': list(county)}\n",
    "county = {k: [v for v in tract if v.startswith(k)] for k in county}\n",
    "hierarchy = {**total, **county}"
   ]
  },
  {
   "cell_type": "code",
   "execution_count": null,
   "id": "b8c79340",
   "metadata": {},
   "outputs": [],
   "source": [
    "ax = hierarchy_df[hierarchy['total']].plot(title=\"Trips - state level\")\n",
    "ax.legend(bbox_to_anchor=(1.0, 1.0));"
   ]
  },
  {
   "cell_type": "code",
   "execution_count": null,
   "id": "628e7119",
   "metadata": {},
   "outputs": [],
   "source": [
    "hierarchy_df"
   ]
  },
  {
   "cell_type": "code",
   "execution_count": null,
   "id": "07268f36",
   "metadata": {},
   "outputs": [],
   "source": [
    "model_ols_arima = hts.HTSRegressor(model='auto_arima', revision_method='OLS', n_jobs=0)\n",
    "model_ols_arima = model_ols_arima.fit(hierarchy_df, hierarchy)\n",
    "pred_ols_arima = model_ols_arima.predict(steps_ahead=10)"
   ]
  },
  {
   "cell_type": "code",
   "execution_count": null,
   "id": "a349165d",
   "metadata": {},
   "outputs": [],
   "source": [
    "pred_ols_arima "
   ]
  },
  {
   "cell_type": "code",
   "execution_count": null,
   "id": "b5d7765d",
   "metadata": {},
   "outputs": [],
   "source": [
    "# Based on MAPE and MSPE, now the ARIMA model has best prediction, so the following prediction is based on ARIMA model\n",
    "data_pred = data_pred_query.copy()"
   ]
  },
  {
   "cell_type": "code",
   "execution_count": null,
   "id": "0e324ca8",
   "metadata": {},
   "outputs": [],
   "source": [
    "# Prediction with Hierarchical ARIMA model, for week 43\n",
    "data_pred[\"total_claims\"] = 0\n",
    "data_pred = dataIdentifyDWM(data_pred)"
   ]
  },
  {
   "cell_type": "code",
   "execution_count": null,
   "id": "11b2d52d",
   "metadata": {},
   "outputs": [],
   "source": [
    "data_pred"
   ]
  },
  {
   "cell_type": "code",
   "execution_count": null,
   "id": "8306f920",
   "metadata": {},
   "outputs": [],
   "source": [
    "pred_ols_arima.columns()"
   ]
  },
  {
   "cell_type": "code",
   "execution_count": null,
   "id": "c2a35c10",
   "metadata": {},
   "outputs": [],
   "source": [
    "pred_ols_arima.columns"
   ]
  },
  {
   "cell_type": "code",
   "execution_count": null,
   "id": "5325316c",
   "metadata": {},
   "outputs": [],
   "source": [
    "pred_col = pred_ols_arima.columns\n",
    "pred = pred_ols_arima.copy()\n",
    "pred = pred.reset_index()\n",
    "pd.melt(pred, id_vars='date', value_vars=pred_col)"
   ]
  },
  {
   "cell_type": "code",
   "execution_count": null,
   "id": "65d992c7",
   "metadata": {},
   "outputs": [],
   "source": [
    "pred_col = pred_ols_arima.columns\n",
    "pred = pred_ols_arima.copy()\n",
    "pred = pred.reset_index()"
   ]
  },
  {
   "cell_type": "code",
   "execution_count": null,
   "id": "8e060a30",
   "metadata": {},
   "outputs": [],
   "source": [
    "pred"
   ]
  },
  {
   "cell_type": "code",
   "execution_count": null,
   "id": "45c8e984",
   "metadata": {},
   "outputs": [],
   "source": [
    "pd.melt(pred, id_vars='index', value_vars=pred_col)"
   ]
  },
  {
   "cell_type": "code",
   "execution_count": null,
   "id": "791c7131",
   "metadata": {},
   "outputs": [],
   "source": [
    "pred_col = pred_ols_arima.columns\n",
    "pred = pred_ols_arima.copy()\n",
    "pred = pred.reset_index()\n",
    "pred_long = pd.melt(pred, id_vars='index', value_vars=pred_col)"
   ]
  },
  {
   "cell_type": "code",
   "execution_count": null,
   "id": "d630b85c",
   "metadata": {},
   "outputs": [],
   "source": [
    "pred_long[\"uu_id\"]= pred_long[\"variable\"].str.split(\"_\", n = 1, expand = False)"
   ]
  },
  {
   "cell_type": "code",
   "execution_count": null,
   "id": "cf209403",
   "metadata": {},
   "outputs": [],
   "source": [
    "pred_long"
   ]
  },
  {
   "cell_type": "code",
   "execution_count": null,
   "id": "c31b95b5",
   "metadata": {},
   "outputs": [],
   "source": [
    "pred_long[\"uu_id\"]= pred_long[\"variable\"].str.split(\"_\", n = 1, expand = True)"
   ]
  },
  {
   "cell_type": "code",
   "execution_count": null,
   "id": "11069d33",
   "metadata": {},
   "outputs": [],
   "source": [
    "pred_long[\"uu_id\"]= pred_long[\"variable\"].str.split(\"_\", n = 1, expand = False)"
   ]
  },
  {
   "cell_type": "code",
   "execution_count": null,
   "id": "e4732ad2",
   "metadata": {},
   "outputs": [],
   "source": [
    "pred_long[\"new_var\"]= pred_long[\"variable\"].str.split(\"_\", n = 1, expand = False)\n",
    "pred_long[\"uu_id\"] = pred_long[\"new_var\"][-1]"
   ]
  },
  {
   "cell_type": "code",
   "execution_count": null,
   "id": "fccc304c",
   "metadata": {},
   "outputs": [],
   "source": [
    "pred_long[\"new_var\"]= pred_long[\"variable\"].str.split(\"_\", n = 1, expand = False)\n",
    "pred_long[\"uu_id\"] = pred_long[\"new_var\"][0]"
   ]
  },
  {
   "cell_type": "code",
   "execution_count": null,
   "id": "6c0a10ca",
   "metadata": {},
   "outputs": [],
   "source": [
    "new = pred_long[\"variable\"].str.split(\"_\", n = 1, expand = False)\n",
    "pred_long[\"uu_id\"] = new[1]"
   ]
  },
  {
   "cell_type": "code",
   "execution_count": null,
   "id": "552eaac5",
   "metadata": {},
   "outputs": [],
   "source": [
    "pred_col = pred_ols_arima.columns\n",
    "pred = pred_ols_arima.copy()\n",
    "pred = pred.reset_index()\n",
    "pred_long = pd.melt(pred, id_vars='index', value_vars=pred_col)"
   ]
  },
  {
   "cell_type": "code",
   "execution_count": null,
   "id": "8fd689fd",
   "metadata": {},
   "outputs": [],
   "source": [
    "pred_long = pred_long[pred_long['variable'].str.contains('_')]"
   ]
  },
  {
   "cell_type": "code",
   "execution_count": null,
   "id": "5f10f841",
   "metadata": {},
   "outputs": [],
   "source": [
    "new = pred_long[\"variable\"].str.split(\"_\", n = 1, expand = False)\n",
    "pred_long[\"uu_id\"] = new[1]"
   ]
  },
  {
   "cell_type": "code",
   "execution_count": null,
   "id": "5dedf659",
   "metadata": {},
   "outputs": [],
   "source": [
    "new = pred_long[\"variable\"].str.split(\"_\", n = 1, expand = False)"
   ]
  },
  {
   "cell_type": "code",
   "execution_count": null,
   "id": "b9e799f0",
   "metadata": {},
   "outputs": [],
   "source": [
    "new"
   ]
  },
  {
   "cell_type": "code",
   "execution_count": null,
   "id": "60c77f13",
   "metadata": {},
   "outputs": [],
   "source": [
    "new[1]"
   ]
  },
  {
   "cell_type": "code",
   "execution_count": null,
   "id": "59471146",
   "metadata": {},
   "outputs": [],
   "source": [
    "new = pred_long[\"variable\"].str.split(\"_\", n = 1, expand = True)"
   ]
  },
  {
   "cell_type": "code",
   "execution_count": null,
   "id": "6caf4b2e",
   "metadata": {},
   "outputs": [],
   "source": [
    "pred_long[\"uu_id\"] = new[1]"
   ]
  },
  {
   "cell_type": "code",
   "execution_count": null,
   "id": "0db705db",
   "metadata": {},
   "outputs": [],
   "source": [
    "pred_long"
   ]
  },
  {
   "cell_type": "code",
   "execution_count": null,
   "id": "fddd470e",
   "metadata": {},
   "outputs": [],
   "source": [
    "data_pred"
   ]
  },
  {
   "cell_type": "code",
   "execution_count": null,
   "id": "376019b3",
   "metadata": {},
   "outputs": [],
   "source": [
    "pred_long[\"uu_id\"] = new[1]\n",
    "pred_long.rename(columns={\"index\": \"date\"})"
   ]
  },
  {
   "cell_type": "code",
   "execution_count": null,
   "id": "8673d68c",
   "metadata": {},
   "outputs": [],
   "source": [
    "pred_long[\"uu_id\"] = new[1]\n",
    "pred_long = pred_long.rename(columns={\"index\": \"date\"})"
   ]
  },
  {
   "cell_type": "code",
   "execution_count": null,
   "id": "c5f146fc",
   "metadata": {},
   "outputs": [],
   "source": [
    "data_pred"
   ]
  },
  {
   "cell_type": "code",
   "execution_count": null,
   "id": "ba1096af",
   "metadata": {},
   "outputs": [],
   "source": [
    "pred_long"
   ]
  },
  {
   "cell_type": "code",
   "execution_count": null,
   "id": "9deccb48",
   "metadata": {},
   "outputs": [],
   "source": [
    "data_pred_join = pd.merge（data_pred, pred_long,  how='left', left_on=['date','uu_id'],"
   ]
  },
  {
   "cell_type": "code",
   "execution_count": null,
   "id": "5d0c82e8",
   "metadata": {},
   "outputs": [],
   "source": [
    "data_pred_join = pd.merge（data_pred, pred_long,  how='left', left_on=['date','uu_id'])"
   ]
  },
  {
   "cell_type": "code",
   "execution_count": null,
   "id": "5d784be6",
   "metadata": {},
   "outputs": [],
   "source": [
    "data_pred_join = pd.merge(data_pred, pred_long,  how='left', left_on=['date','uu_id'])"
   ]
  },
  {
   "cell_type": "code",
   "execution_count": null,
   "id": "5a50a7db",
   "metadata": {},
   "outputs": [],
   "source": [
    "data_pred_join = pd.merge(data_pred, pred_long,  how='left', left_on=['date','uu_id'], right_on=['date','uu_id'])"
   ]
  },
  {
   "cell_type": "code",
   "execution_count": null,
   "id": "42812e87",
   "metadata": {},
   "outputs": [],
   "source": [
    "data_pred_join"
   ]
  },
  {
   "cell_type": "code",
   "execution_count": null,
   "id": "0fe8818f",
   "metadata": {},
   "outputs": [],
   "source": [
    "# Based on MAPE and MSPE, now the ARIMA model has best prediction, so the following prediction is based on ARIMA model\n",
    "data_pred = data_pred_query.copy()"
   ]
  },
  {
   "cell_type": "code",
   "execution_count": null,
   "id": "3e2f57a8",
   "metadata": {},
   "outputs": [],
   "source": [
    "# Prediction with Hierarchical ARIMA model, for week 43\n",
    "data_pred = dataIdentifyDWM(data_pred)"
   ]
  },
  {
   "cell_type": "code",
   "execution_count": null,
   "id": "f21c76d2",
   "metadata": {},
   "outputs": [],
   "source": [
    "pred_col = pred_ols_arima.columns\n",
    "pred = pred_ols_arima.copy()\n",
    "pred = pred.reset_index()\n",
    "pred_long = pd.melt(pred, id_vars='index', value_vars=pred_col)"
   ]
  },
  {
   "cell_type": "code",
   "execution_count": null,
   "id": "c3b53b1d",
   "metadata": {},
   "outputs": [],
   "source": [
    "pred_long = pred_long[pred_long['variable'].str.contains('_')]"
   ]
  },
  {
   "cell_type": "code",
   "execution_count": null,
   "id": "014b0bf5",
   "metadata": {},
   "outputs": [],
   "source": [
    "new = pred_long[\"variable\"].str.split(\"_\", n = 1, expand = True)"
   ]
  },
  {
   "cell_type": "code",
   "execution_count": null,
   "id": "58e36326",
   "metadata": {},
   "outputs": [],
   "source": [
    "pred_long[\"uu_id\"] = new[1]\n",
    "pred_long = pred_long.rename(columns={\"index\": \"date\"})"
   ]
  },
  {
   "cell_type": "code",
   "execution_count": null,
   "id": "ee04443b",
   "metadata": {},
   "outputs": [],
   "source": [
    "data_pred_join = pd.merge(data_pred, pred_long,  how='left', left_on=['date','uu_id'], right_on=['date','uu_id'])"
   ]
  },
  {
   "cell_type": "code",
   "execution_count": null,
   "id": "c72f1dc5",
   "metadata": {},
   "outputs": [],
   "source": [
    "data_pred_join = data_pred_join.rename(columns={\"value\": \"total_claims\"})"
   ]
  },
  {
   "cell_type": "code",
   "execution_count": null,
   "id": "98c47696",
   "metadata": {},
   "outputs": [],
   "source": [
    "data_pred_join"
   ]
  },
  {
   "cell_type": "code",
   "execution_count": null,
   "id": "1a38aeac",
   "metadata": {},
   "outputs": [],
   "source": [
    "# Prediction with Hierarchical ARIMA model, for week 43\n",
    "data_pred = dataIdentifyDWM(data_pred)"
   ]
  },
  {
   "cell_type": "code",
   "execution_count": null,
   "id": "b66374a4",
   "metadata": {},
   "outputs": [],
   "source": [
    "pred_col = pred_ols_arima.columns\n",
    "pred = pred_ols_arima.copy()\n",
    "pred = pred.reset_index()\n",
    "pred_long = pd.melt(pred, id_vars='index', value_vars=pred_col)"
   ]
  },
  {
   "cell_type": "code",
   "execution_count": null,
   "id": "3ce09970",
   "metadata": {},
   "outputs": [],
   "source": [
    "pred_long = pred_long[pred_long['variable'].str.contains('_')]"
   ]
  },
  {
   "cell_type": "code",
   "execution_count": null,
   "id": "cff49efa",
   "metadata": {},
   "outputs": [],
   "source": [
    "new = pred_long[\"variable\"].str.split(\"_\", n = 1, expand = True)"
   ]
  },
  {
   "cell_type": "code",
   "execution_count": null,
   "id": "211491cc",
   "metadata": {},
   "outputs": [],
   "source": [
    "pred_long[\"uu_id\"] = new[1]\n",
    "pred_long = pred_long.rename(columns={\"index\": \"date\"})"
   ]
  },
  {
   "cell_type": "code",
   "execution_count": null,
   "id": "856e9436",
   "metadata": {},
   "outputs": [],
   "source": [
    "data_pred_join = pd.merge(data_pred, pred_long,  how='left', left_on=['date','uu_id'], right_on=['date','uu_id'])"
   ]
  },
  {
   "cell_type": "code",
   "execution_count": null,
   "id": "c3c58fb5",
   "metadata": {},
   "outputs": [],
   "source": [
    "data_pred_join = data_pred_join.rename(columns={\"value\": \"total_claims\"})"
   ]
  },
  {
   "cell_type": "code",
   "execution_count": null,
   "id": "6390303f",
   "metadata": {},
   "outputs": [],
   "source": [
    "data_pred_join.loc[data_pred_join['total_claims']<0,'B']=0"
   ]
  },
  {
   "cell_type": "code",
   "execution_count": null,
   "id": "80cad8ed",
   "metadata": {},
   "outputs": [],
   "source": [
    "data_pred_join"
   ]
  },
  {
   "cell_type": "code",
   "execution_count": null,
   "id": "c3e98938",
   "metadata": {},
   "outputs": [],
   "source": [
    "# Prediction with Hierarchical ARIMA model, for week 43\n",
    "data_pred = dataIdentifyDWM(data_pred)"
   ]
  },
  {
   "cell_type": "code",
   "execution_count": null,
   "id": "4d2639a0",
   "metadata": {},
   "outputs": [],
   "source": [
    "pred_col = pred_ols_arima.columns\n",
    "pred = pred_ols_arima.copy()\n",
    "pred = pred.reset_index()\n",
    "pred_long = pd.melt(pred, id_vars='index', value_vars=pred_col)"
   ]
  },
  {
   "cell_type": "code",
   "execution_count": null,
   "id": "239b60ad",
   "metadata": {},
   "outputs": [],
   "source": [
    "pred_long = pred_long[pred_long['variable'].str.contains('_')]"
   ]
  },
  {
   "cell_type": "code",
   "execution_count": null,
   "id": "1f67a4b9",
   "metadata": {},
   "outputs": [],
   "source": [
    "new = pred_long[\"variable\"].str.split(\"_\", n = 1, expand = True)"
   ]
  },
  {
   "cell_type": "code",
   "execution_count": null,
   "id": "9e732239",
   "metadata": {},
   "outputs": [],
   "source": [
    "pred_long[\"uu_id\"] = new[1]\n",
    "pred_long = pred_long.rename(columns={\"index\": \"date\"})"
   ]
  },
  {
   "cell_type": "code",
   "execution_count": null,
   "id": "4e803ae3",
   "metadata": {},
   "outputs": [],
   "source": [
    "data_pred_join = pd.merge(data_pred, pred_long,  how='left', left_on=['date','uu_id'], right_on=['date','uu_id'])"
   ]
  },
  {
   "cell_type": "code",
   "execution_count": null,
   "id": "09cae1aa",
   "metadata": {},
   "outputs": [],
   "source": [
    "data_pred_join = data_pred_join.rename(columns={\"value\": \"total_claims\"})"
   ]
  },
  {
   "cell_type": "code",
   "execution_count": null,
   "id": "8fc8db5b",
   "metadata": {},
   "outputs": [],
   "source": [
    "data_pred_join.loc[data_pred_join['total_claims']<0,'total_claims']=0"
   ]
  },
  {
   "cell_type": "code",
   "execution_count": null,
   "id": "c52fd71f",
   "metadata": {},
   "outputs": [],
   "source": [
    "data_pred_join"
   ]
  },
  {
   "cell_type": "code",
   "execution_count": null,
   "id": "b6607ed3",
   "metadata": {},
   "outputs": [],
   "source": [
    "data_pred = data_pred_join[[\"uu_id\", \"total_claims\", \"week_number\"]]"
   ]
  },
  {
   "cell_type": "code",
   "execution_count": null,
   "id": "3fb7253e",
   "metadata": {},
   "outputs": [],
   "source": [
    "data_pred"
   ]
  },
  {
   "cell_type": "code",
   "execution_count": null,
   "id": "c01161b0",
   "metadata": {},
   "outputs": [],
   "source": [
    "## This can also be a good place for you to cleanup any input/output and export your results to a file.\n",
    "data_pred.to_csv(\"submission_prediction_output.csv\", index=False)"
   ]
  },
  {
   "cell_type": "code",
   "execution_count": null,
   "id": "b1914599",
   "metadata": {},
   "outputs": [],
   "source": [
    "## This can also be a good place for you to cleanup any input/output and export your results to a file.\n",
    "data_pred.to_csv(\"submission_prediction_output.csv\", index=False)"
   ]
  },
  {
   "cell_type": "code",
   "execution_count": null,
   "id": "0ca1844e",
   "metadata": {},
   "outputs": [],
   "source": [
    "data_pred_query"
   ]
  },
  {
   "cell_type": "code",
   "execution_count": null,
   "id": "fe5497a2",
   "metadata": {},
   "outputs": [],
   "source": [
    "# Based on MAPE and MSPE, now the ARIMA model has best prediction, so the following prediction is based on ARIMA model\n",
    "data_pred = data_pred_query.copy()"
   ]
  },
  {
   "cell_type": "code",
   "execution_count": null,
   "id": "bb5b5b29",
   "metadata": {},
   "outputs": [],
   "source": [
    "data_pred"
   ]
  },
  {
   "cell_type": "code",
   "execution_count": null,
   "id": "b535eb82",
   "metadata": {},
   "outputs": [],
   "source": [
    "data_pred = dataIdentifyDWM(data_pred)"
   ]
  },
  {
   "cell_type": "code",
   "execution_count": null,
   "id": "ded1ebb0",
   "metadata": {},
   "outputs": [],
   "source": [
    "data_pred"
   ]
  },
  {
   "cell_type": "code",
   "execution_count": null,
   "id": "1b7cc65f",
   "metadata": {},
   "outputs": [],
   "source": [
    "# Prediction with Hierarchical ARIMA model, for week 43\n",
    "pred_col = pred_ols_arima.columns\n",
    "pred = pred_ols_arima.copy()\n",
    "pred = pred.reset_index()\n",
    "pred_long = pd.melt(pred, id_vars='index', value_vars=pred_col)"
   ]
  },
  {
   "cell_type": "code",
   "execution_count": null,
   "id": "2210f343",
   "metadata": {},
   "outputs": [],
   "source": [
    "pred_long = pred_long[pred_long['variable'].str.contains('_')]"
   ]
  },
  {
   "cell_type": "code",
   "execution_count": null,
   "id": "d87e0065",
   "metadata": {},
   "outputs": [],
   "source": [
    "new = pred_long[\"variable\"].str.split(\"_\", n = 1, expand = True)"
   ]
  },
  {
   "cell_type": "code",
   "execution_count": null,
   "id": "23ab3d91",
   "metadata": {},
   "outputs": [],
   "source": [
    "pred_long[\"uu_id\"] = new[1]\n",
    "pred_long = pred_long.rename(columns={\"index\": \"date\"})"
   ]
  },
  {
   "cell_type": "code",
   "execution_count": null,
   "id": "7496cd23",
   "metadata": {},
   "outputs": [],
   "source": [
    "data_pred_join = pd.merge(data_pred, pred_long,  how='left', left_on=['date','uu_id'], right_on=['date','uu_id'])"
   ]
  },
  {
   "cell_type": "code",
   "execution_count": null,
   "id": "d8cbfe2f",
   "metadata": {},
   "outputs": [],
   "source": [
    "data_pred_join = data_pred_join.rename(columns={\"value\": \"total_claims\"})"
   ]
  },
  {
   "cell_type": "code",
   "execution_count": null,
   "id": "629eb74d",
   "metadata": {},
   "outputs": [],
   "source": [
    "data_pred_join.loc[data_pred_join['total_claims']<0,'total_claims']=0"
   ]
  },
  {
   "cell_type": "code",
   "execution_count": null,
   "id": "1367c50a",
   "metadata": {},
   "outputs": [],
   "source": [
    "data_pred_join"
   ]
  },
  {
   "cell_type": "code",
   "execution_count": null,
   "id": "388cd085",
   "metadata": {},
   "outputs": [],
   "source": [
    "data_pred"
   ]
  },
  {
   "cell_type": "code",
   "execution_count": null,
   "id": "e05ea458",
   "metadata": {},
   "outputs": [],
   "source": [
    "# Prediction with Hierarchical ARIMA model, for week 43\n",
    "pred_col = pred_ols_arima.columns\n",
    "pred = pred_ols_arima.copy()\n",
    "pred = pred.reset_index()\n",
    "pred_long = pd.melt(pred, id_vars='index', value_vars=pred_col)"
   ]
  },
  {
   "cell_type": "code",
   "execution_count": null,
   "id": "fd470593",
   "metadata": {},
   "outputs": [],
   "source": [
    "pred_long = pred_long[pred_long['variable'].str.contains('_')]"
   ]
  },
  {
   "cell_type": "code",
   "execution_count": null,
   "id": "58d62a4b",
   "metadata": {},
   "outputs": [],
   "source": [
    "new = pred_long[\"variable\"].str.split(\"_\", n = 1, expand = True)"
   ]
  },
  {
   "cell_type": "code",
   "execution_count": null,
   "id": "3c6f5a24",
   "metadata": {},
   "outputs": [],
   "source": [
    "pred_long[\"uu_id\"] = new[1]\n",
    "pred_long = pred_long.rename(columns={\"index\": \"date\"})"
   ]
  },
  {
   "cell_type": "code",
   "execution_count": null,
   "id": "933c2294",
   "metadata": {},
   "outputs": [],
   "source": [
    "pred_long.sort_values('value', ascending=False).drop_duplicates('uu_id').sort_index()"
   ]
  },
  {
   "cell_type": "code",
   "execution_count": null,
   "id": "354e7c25",
   "metadata": {},
   "outputs": [],
   "source": [
    "# Prediction with Hierarchical ARIMA model, for week 43\n",
    "pred_col = pred_ols_arima.columns\n",
    "pred = pred_ols_arima.copy()\n",
    "pred = pred.reset_index()\n",
    "pred_long = pd.melt(pred, id_vars='index', value_vars=pred_col)"
   ]
  },
  {
   "cell_type": "code",
   "execution_count": null,
   "id": "834f5c3f",
   "metadata": {},
   "outputs": [],
   "source": [
    "pred_long = pred_long[pred_long['variable'].str.contains('_')]"
   ]
  },
  {
   "cell_type": "code",
   "execution_count": null,
   "id": "67a42826",
   "metadata": {},
   "outputs": [],
   "source": [
    "new = pred_long[\"variable\"].str.split(\"_\", n = 1, expand = True)"
   ]
  },
  {
   "cell_type": "code",
   "execution_count": null,
   "id": "7fc51e13",
   "metadata": {},
   "outputs": [],
   "source": [
    "pred_long[\"uu_id\"] = new[1]\n",
    "pred_long = pred_long.rename(columns={\"index\": \"date\"})"
   ]
  },
  {
   "cell_type": "code",
   "execution_count": null,
   "id": "c41c540c",
   "metadata": {},
   "outputs": [],
   "source": [
    "pred_long = pred_long.sort_values('value', ascending=False).drop_duplicates('uu_id').sort_index()"
   ]
  },
  {
   "cell_type": "code",
   "execution_count": null,
   "id": "5c8823e8",
   "metadata": {},
   "outputs": [],
   "source": [
    "data_pred_join = pd.merge(data_pred, pred_long,  how='left', left_on=['date','uu_id'], right_on=['date','uu_id'])"
   ]
  },
  {
   "cell_type": "code",
   "execution_count": null,
   "id": "8f7aa5d4",
   "metadata": {},
   "outputs": [],
   "source": [
    "data_pred_join = data_pred_join.rename(columns={\"value\": \"total_claims\"})"
   ]
  },
  {
   "cell_type": "code",
   "execution_count": null,
   "id": "c2ca8693",
   "metadata": {},
   "outputs": [],
   "source": [
    "data_pred_join.loc[data_pred_join['total_claims']<0,'total_claims']=0"
   ]
  },
  {
   "cell_type": "code",
   "execution_count": null,
   "id": "d3cd8670",
   "metadata": {},
   "outputs": [],
   "source": [
    "data_pred"
   ]
  },
  {
   "cell_type": "code",
   "execution_count": null,
   "id": "2852bab9",
   "metadata": {},
   "outputs": [],
   "source": [
    "data_pred = data_pred_join[[\"uu_id\", \"total_claims\", \"week_number\"]]"
   ]
  },
  {
   "cell_type": "code",
   "execution_count": null,
   "id": "7ea15d48",
   "metadata": {},
   "outputs": [],
   "source": [
    "data_pred"
   ]
  },
  {
   "cell_type": "code",
   "execution_count": null,
   "id": "01167bcd",
   "metadata": {},
   "outputs": [],
   "source": [
    "# Prediction with Hierarchical ARIMA model, for week 43\n",
    "pred_col = pred_ols_arima.columns\n",
    "pred = pred_ols_arima.copy()\n",
    "pred = pred.reset_index()\n",
    "pred_long = pd.melt(pred, id_vars='index', value_vars=pred_col)"
   ]
  },
  {
   "cell_type": "code",
   "execution_count": null,
   "id": "638c9016",
   "metadata": {},
   "outputs": [],
   "source": [
    "pred_long = pred_long[pred_long['variable'].str.contains('_')]"
   ]
  },
  {
   "cell_type": "code",
   "execution_count": null,
   "id": "9c6d85a4",
   "metadata": {},
   "outputs": [],
   "source": [
    "new = pred_long[\"variable\"].str.split(\"_\", n = 1, expand = True)"
   ]
  },
  {
   "cell_type": "code",
   "execution_count": null,
   "id": "9995156c",
   "metadata": {},
   "outputs": [],
   "source": [
    "pred_long[\"uu_id\"] = new[1]\n",
    "pred_long = pred_long.rename(columns={\"index\": \"date\"})"
   ]
  },
  {
   "cell_type": "code",
   "execution_count": null,
   "id": "5f2133ba",
   "metadata": {},
   "outputs": [],
   "source": [
    "pred_long"
   ]
  },
  {
   "cell_type": "code",
   "execution_count": null,
   "id": "f9c71c85",
   "metadata": {},
   "outputs": [],
   "source": [
    "pred_long = pred_long.sort_values('value', ascending=False).drop_duplicates('uu_id').sort_index()"
   ]
  },
  {
   "cell_type": "code",
   "execution_count": null,
   "id": "7b13f65f",
   "metadata": {},
   "outputs": [],
   "source": [
    "pred_long"
   ]
  },
  {
   "cell_type": "code",
   "execution_count": null,
   "id": "283cdc1e",
   "metadata": {},
   "outputs": [],
   "source": [
    "data_pred_join"
   ]
  },
  {
   "cell_type": "code",
   "execution_count": null,
   "id": "0bb0657f",
   "metadata": {},
   "outputs": [],
   "source": [
    "# Prediction with Hierarchical ARIMA model, for week 43\n",
    "pred_col = pred_ols_arima.columns\n",
    "pred = pred_ols_arima.copy()\n",
    "pred = pred.reset_index()\n",
    "pred_long = pd.melt(pred, id_vars='index', value_vars=pred_col)"
   ]
  },
  {
   "cell_type": "code",
   "execution_count": null,
   "id": "e151e339",
   "metadata": {},
   "outputs": [],
   "source": [
    "pred_long = pred_long[pred_long['variable'].str.contains('_')]"
   ]
  },
  {
   "cell_type": "code",
   "execution_count": null,
   "id": "0a0b6722",
   "metadata": {},
   "outputs": [],
   "source": [
    "new = pred_long[\"variable\"].str.split(\"_\", n = 1, expand = True)"
   ]
  },
  {
   "cell_type": "code",
   "execution_count": null,
   "id": "2054d0fa",
   "metadata": {},
   "outputs": [],
   "source": [
    "pred_long[\"uu_id\"] = new[1]\n",
    "pred_long = pred_long.rename(columns={\"index\": \"date\"})"
   ]
  },
  {
   "cell_type": "code",
   "execution_count": null,
   "id": "11b70173",
   "metadata": {},
   "outputs": [],
   "source": [
    "pred_long"
   ]
  },
  {
   "cell_type": "code",
   "execution_count": null,
   "id": "2bf82933",
   "metadata": {},
   "outputs": [],
   "source": [
    "# Prediction with Hierarchical ARIMA model, for week 43\n",
    "pred_col = pred_ols_arima.columns\n",
    "pred = pred_ols_arima.copy()\n",
    "pred = pred.reset_index()\n",
    "pred_long = pd.melt(pred, id_vars='index', value_vars=pred_col)"
   ]
  },
  {
   "cell_type": "code",
   "execution_count": null,
   "id": "5a675106",
   "metadata": {},
   "outputs": [],
   "source": [
    "pred_long = pred_long[pred_long['variable'].str.contains('_')]"
   ]
  },
  {
   "cell_type": "code",
   "execution_count": null,
   "id": "074549f2",
   "metadata": {},
   "outputs": [],
   "source": [
    "new = pred_long[\"variable\"].str.split(\"_\", n = 1, expand = True)"
   ]
  },
  {
   "cell_type": "code",
   "execution_count": null,
   "id": "fd23508a",
   "metadata": {},
   "outputs": [],
   "source": [
    "pred_long[\"uu_id\"] = new[1]\n",
    "pred_long = pred_long.rename(columns={\"index\": \"date\"})"
   ]
  },
  {
   "cell_type": "code",
   "execution_count": null,
   "id": "c1ebc5b9",
   "metadata": {},
   "outputs": [],
   "source": [
    "pred_long = pred_long[pred_long[date] == \"2022-10-22\"]"
   ]
  },
  {
   "cell_type": "code",
   "execution_count": null,
   "id": "096ff666",
   "metadata": {},
   "outputs": [],
   "source": [
    "# Prediction with Hierarchical ARIMA model, for week 43\n",
    "pred_col = pred_ols_arima.columns\n",
    "pred = pred_ols_arima.copy()\n",
    "pred = pred.reset_index()\n",
    "pred_long = pd.melt(pred, id_vars='index', value_vars=pred_col)"
   ]
  },
  {
   "cell_type": "code",
   "execution_count": null,
   "id": "b955c215",
   "metadata": {},
   "outputs": [],
   "source": [
    "pred_long = pred_long[pred_long['variable'].str.contains('_')]"
   ]
  },
  {
   "cell_type": "code",
   "execution_count": null,
   "id": "dd6bd016",
   "metadata": {},
   "outputs": [],
   "source": [
    "new = pred_long[\"variable\"].str.split(\"_\", n = 1, expand = True)"
   ]
  },
  {
   "cell_type": "code",
   "execution_count": null,
   "id": "913fdc1c",
   "metadata": {},
   "outputs": [],
   "source": [
    "pred_long[\"uu_id\"] = new[1]\n",
    "pred_long = pred_long.rename(columns={\"index\": \"date\"})"
   ]
  },
  {
   "cell_type": "code",
   "execution_count": null,
   "id": "c1ca5669",
   "metadata": {},
   "outputs": [],
   "source": [
    "pred_long = pred_long[pred_long[\"date\"] == \"2022-10-22\"]"
   ]
  },
  {
   "cell_type": "code",
   "execution_count": null,
   "id": "a329920d",
   "metadata": {},
   "outputs": [],
   "source": [
    "pred_long"
   ]
  },
  {
   "cell_type": "code",
   "execution_count": null,
   "id": "4c82b377",
   "metadata": {},
   "outputs": [],
   "source": [
    "pred_long = pred_long.sort_values('value', ascending=False).drop_duplicates('uu_id').sort_index()"
   ]
  },
  {
   "cell_type": "code",
   "execution_count": null,
   "id": "61fa4017",
   "metadata": {},
   "outputs": [],
   "source": [
    "pred_long"
   ]
  },
  {
   "cell_type": "code",
   "execution_count": null,
   "id": "8fb51085",
   "metadata": {},
   "outputs": [],
   "source": [
    "data_pred_join = pd.merge(data_pred, pred_long,  how='left', left_on=['date','uu_id'], right_on=['date','uu_id'])"
   ]
  },
  {
   "cell_type": "code",
   "execution_count": null,
   "id": "8860edda",
   "metadata": {},
   "outputs": [],
   "source": [
    "data_pred_join = data_pred_join.rename(columns={\"value\": \"total_claims\"})"
   ]
  },
  {
   "cell_type": "code",
   "execution_count": null,
   "id": "e54c51a1",
   "metadata": {},
   "outputs": [],
   "source": [
    "data_pred_join.loc[data_pred_join['total_claims']<0,'total_claims']=0"
   ]
  },
  {
   "cell_type": "code",
   "execution_count": null,
   "id": "b207f112",
   "metadata": {},
   "outputs": [],
   "source": [
    "pred_long"
   ]
  },
  {
   "cell_type": "code",
   "execution_count": null,
   "id": "025a4fea",
   "metadata": {},
   "outputs": [],
   "source": [
    "pred_long"
   ]
  },
  {
   "cell_type": "code",
   "execution_count": null,
   "id": "efa8b861",
   "metadata": {},
   "outputs": [],
   "source": [
    "data_pred_join = pd.merge(data_pred, pred_long,  how='left', left_on=['date','uu_id'], right_on=['date','uu_id'])"
   ]
  },
  {
   "cell_type": "code",
   "execution_count": null,
   "id": "3e47a950",
   "metadata": {},
   "outputs": [],
   "source": [
    "data_pred"
   ]
  },
  {
   "cell_type": "code",
   "execution_count": null,
   "id": "12baec77",
   "metadata": {},
   "outputs": [],
   "source": [
    "# Based on MAPE and MSPE, now the ARIMA model has best prediction, so the following prediction is based on ARIMA model\n",
    "data_pred = data_pred_query.copy()"
   ]
  },
  {
   "cell_type": "code",
   "execution_count": null,
   "id": "2ce257fe",
   "metadata": {},
   "outputs": [],
   "source": [
    "data_pred = dataIdentifyDWM(data_pred)"
   ]
  },
  {
   "cell_type": "code",
   "execution_count": null,
   "id": "a17720fd",
   "metadata": {},
   "outputs": [],
   "source": [
    "data_pred_join = pd.merge(data_pred, pred_long,  how='left', left_on=['date','uu_id'], right_on=['date','uu_id'])"
   ]
  },
  {
   "cell_type": "code",
   "execution_count": null,
   "id": "0dfd8f40",
   "metadata": {},
   "outputs": [],
   "source": [
    "data_pred_join = data_pred_join.rename(columns={\"value\": \"total_claims\"})"
   ]
  },
  {
   "cell_type": "code",
   "execution_count": null,
   "id": "252d74b3",
   "metadata": {},
   "outputs": [],
   "source": [
    "data_pred_join.loc[data_pred_join['total_claims']<0,'total_claims']=0"
   ]
  },
  {
   "cell_type": "code",
   "execution_count": null,
   "id": "77e4356c",
   "metadata": {},
   "outputs": [],
   "source": [
    "data_pred = data_pred_join[[\"uu_id\", \"total_claims\", \"week_number\"]]"
   ]
  },
  {
   "cell_type": "code",
   "execution_count": null,
   "id": "224b8442",
   "metadata": {},
   "outputs": [],
   "source": [
    "data_pred"
   ]
  },
  {
   "cell_type": "code",
   "execution_count": null,
   "id": "4ae39e30",
   "metadata": {},
   "outputs": [],
   "source": [
    "## This can also be a good place for you to cleanup any input/output and export your results to a file.\n",
    "data_pred.to_csv(\"submission_prediction_output.csv\", index=False)"
   ]
  },
  {
   "cell_type": "code",
   "execution_count": null,
   "id": "0952c897",
   "metadata": {
    "lines_to_next_cell": 2
   },
   "outputs": [],
   "source": [
    "data_pred"
   ]
  }
 ],
 "metadata": {
  "jupytext": {
   "cell_metadata_filter": "-all",
   "main_language": "python",
   "notebook_metadata_filter": "-all"
  }
 },
 "nbformat": 4,
 "nbformat_minor": 5
}
