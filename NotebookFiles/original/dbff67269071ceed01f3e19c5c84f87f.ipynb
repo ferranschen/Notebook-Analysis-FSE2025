{
 "cells": [
  {
   "cell_type": "code",
   "execution_count": null,
   "id": "7184b11d",
   "metadata": {},
   "outputs": [],
   "source": [
    "get_ipython().run_cell_magic('capture', '', \"%logstop\\n%logstart -t -r -q ipython_command_log.py global\\n\\n#- IRONHACKS RESEARCH TRACKING CODE\\n#----------------------------------\\n# The following code is used to help our research team understand how you \\n# our notebook environment. We do not collect any personal information with\\n# the following code, it is used to measure when and how often you work on\\n# your submission files.\\n\\nimport os\\nfrom datetime import datetime\\nimport IPython.core.history as history\\n\\nha = history.HistoryAccessor()\\nha_tail = ha.get_tail(1)\\nha_cmd = next(ha_tail)\\nsession_id = str(ha_cmd[0])\\ncommand_id = str(ha_cmd[1])\\ntimestamp = datetime.utcnow().isoformat()\\nhistory_line = ','.join([session_id, command_id, timestamp]) + '\\\\n'\\nlogfile = open(os.environ['HOME']+'/ipython_session_log.csv', 'a')\\nlogfile.write(history_line)\\nlogfile.close()\\n\")"
   ]
  },
  {
   "cell_type": "code",
   "execution_count": null,
   "id": "aaf151ae",
   "metadata": {},
   "outputs": [],
   "source": [
    "get_ipython().run_cell_magic('capture', '', \"\\n#- INSTALL ADDITIONAL LIBRARIES IF REQUIRED\\n#------------------------------------------\\n# This is normally not required. The hub environment comes preinstaled with \\n# many packages that you can already use without setup. In case there is some\\n# other library you would like to use that isn't on the list you run this command\\n# once to install them.  If it is already installed this command has no effect.\\n\\n!python3 -m pip install pandas db-dtypes\\n\")"
   ]
  },
  {
   "cell_type": "markdown",
   "id": "5f48f5bb",
   "metadata": {},
   "source": [
    "- IMPORT THE LIBRARIES YOU WILL USE\n",
    "------------------------------------------\n",
    "You only need to import packages one time per notebook session. To keep your\n",
    "notebook clean and organized you can handle all imports at the top of your file.\n",
    "The following are included for example purposed, feel free to modify or delete \n",
    "anything in this section."
   ]
  },
  {
   "cell_type": "code",
   "execution_count": null,
   "id": "bea6f36c",
   "metadata": {
    "lines_to_next_cell": 1
   },
   "outputs": [],
   "source": [
    "import csv\n",
    "import pandas as pd\n",
    "import numpy as np\n",
    "from google.cloud import bigquery\n",
    "from google.oauth2 import service_account\n",
    "from google.cloud.bigquery import magics"
   ]
  },
  {
   "cell_type": "markdown",
   "id": "f2853f33",
   "metadata": {},
   "source": [
    "- DEFINE YOUR CLASSES AND FUNCTIONS \n",
    "-----------------------------------\n",
    "This is not required, but is helpful in keeping your notebook organized. \n",
    "You can use the following cell or several cells to define your functions\n",
    "and classes to keep them separate from your analysis or results code.\n",
    "In general it useful to define your methods in a separate cell from where\n",
    "it is run."
   ]
  },
  {
   "cell_type": "code",
   "execution_count": null,
   "id": "28c3b824",
   "metadata": {
    "lines_to_next_cell": 1
   },
   "outputs": [],
   "source": [
    "def example_function():\n",
    "    print('Hello World')"
   ]
  },
  {
   "cell_type": "code",
   "execution_count": null,
   "id": "0f52ec53",
   "metadata": {},
   "outputs": [],
   "source": [
    "BIGQUERY_PROJECT = 'ironhacks-data'\n",
    "bigquery_client = bigquery.Client(project=BIGQUERY_PROJECT)"
   ]
  },
  {
   "cell_type": "code",
   "execution_count": null,
   "id": "4645f05e",
   "metadata": {},
   "outputs": [],
   "source": [
    "query = \"\"\"\n",
    "SELECT *\n",
    "FROM `ironhacks-data.ironhacks_competition.unemployment_data`\n",
    "\"\"\""
   ]
  },
  {
   "cell_type": "code",
   "execution_count": null,
   "id": "2174c5ce",
   "metadata": {},
   "outputs": [],
   "source": [
    "query_job = bigquery_client.query(query)\n",
    "unemployment_data = query_job.to_dataframe()\n",
    "print(unemployment_data)"
   ]
  },
  {
   "cell_type": "code",
   "execution_count": null,
   "id": "04326c56",
   "metadata": {},
   "outputs": [],
   "source": [
    "query = \"\"\"\n",
    "SELECT *\n",
    "FROM `ironhacks-data.ironhacks_competition.wage_data`\n",
    "\"\"\""
   ]
  },
  {
   "cell_type": "code",
   "execution_count": null,
   "id": "50457763",
   "metadata": {},
   "outputs": [],
   "source": [
    "query_job = bigquery_client.query(query)\n",
    "wage_data = query_job.to_dataframe()\n",
    "print(wage_data)"
   ]
  },
  {
   "cell_type": "code",
   "execution_count": null,
   "id": "ab750580",
   "metadata": {},
   "outputs": [],
   "source": [
    "query = \"\"\"\n",
    "SELECT *\n",
    "FROM `ironhacks-data.ironhacks_competition.prediction_list`\n",
    "\"\"\""
   ]
  },
  {
   "cell_type": "code",
   "execution_count": null,
   "id": "5d9b79df",
   "metadata": {},
   "outputs": [],
   "source": [
    "query_job = bigquery_client.query(query)\n",
    "prediction_list = query_job.to_dataframe()\n",
    "print(prediction_list)"
   ]
  },
  {
   "cell_type": "code",
   "execution_count": null,
   "id": "8694c1f2",
   "metadata": {},
   "outputs": [],
   "source": [
    "len(pd.unique(unemployment_data[\"uu_id\"]))"
   ]
  },
  {
   "cell_type": "code",
   "execution_count": null,
   "id": "be57f0e2",
   "metadata": {},
   "outputs": [],
   "source": [
    "print(unemployment_data.loc[0])"
   ]
  },
  {
   "cell_type": "code",
   "execution_count": null,
   "id": "69d23956",
   "metadata": {},
   "outputs": [],
   "source": [
    "# remove unnecessary colomns and combine unemployment data together with wages\n",
    "unemployment_sample = unemployment_data.copy()\n",
    "unemployment_sample = unemployment_sample.drop(['timeperiod', 'tract', 'tract_name', 'edu_8th_or_less', 'edu_grades_9_11', 'edu_hs_grad_equiv', 'edu_post_hs',\\\n",
    "                                               'edu_unknown', 'top_category_employer1', 'top_category_employer2', 'top_category_employer3', 'gender_female', 'gender_male',\\\n",
    "                                                'gender_na', 'race_amerindian', 'race_asian', 'race_black', 'race_noanswer', 'race_hawaiiannative',\\\n",
    "                                               'race_other', 'race_white'], axis=1)\n",
    "wage_sample = wage_data.copy()\n",
    "wage_sample.drop(['tract', 'tract_name'], axis=1)\n",
    "prediction_sample = prediction_list.copy()\n",
    "wages_dict = {i:wage_sample[\"average_wage\"].values[k] for k,i in enumerate(wage_sample[\"uu_id\"])}\n",
    "wage_list = [wages_dict[i]  for i in unemployment_sample[\"uu_id\"]]\n",
    "# print(wages_dict)\n",
    "unemployment_sample[\"average_wage\"] = wage_list"
   ]
  },
  {
   "cell_type": "code",
   "execution_count": null,
   "id": "3bc97ab6",
   "metadata": {},
   "outputs": [],
   "source": [
    "tract_dic = {i:k for k,i in enumerate(wage_sample[\"uu_id\"])}"
   ]
  },
  {
   "cell_type": "code",
   "execution_count": null,
   "id": "b0ee070f",
   "metadata": {},
   "outputs": [],
   "source": [
    "unemployment_sample[\"uu_id\"] = [tract_dic[i] for i in unemployment_sample[\"uu_id\"]]"
   ]
  },
  {
   "cell_type": "code",
   "execution_count": null,
   "id": "033a8f7d",
   "metadata": {},
   "outputs": [],
   "source": [
    "print(unemployment_sample.loc[1])"
   ]
  },
  {
   "cell_type": "code",
   "execution_count": null,
   "id": "4f2b09af",
   "metadata": {},
   "outputs": [],
   "source": [
    "X = unemployment_sample.drop([\"total_claims\"], axis=1).to_numpy() #to_numpy() values\n",
    "y = unemployment_sample['total_claims'].to_numpy()   #to_numpy() values\n",
    "# print(X.shape,y.shape)"
   ]
  },
  {
   "cell_type": "code",
   "execution_count": null,
   "id": "34f32415",
   "metadata": {},
   "outputs": [],
   "source": [
    "from sklearn.model_selection import train_test_split \n",
    "from sklearn.linear_model import LinearRegression\n",
    "from sklearn import metrics"
   ]
  },
  {
   "cell_type": "code",
   "execution_count": null,
   "id": "9ed2e113",
   "metadata": {},
   "outputs": [],
   "source": [
    "X_train, X_test, y_train, y_test = train_test_split(X, y, test_size=0.2, random_state=0)"
   ]
  },
  {
   "cell_type": "code",
   "execution_count": null,
   "id": "8db43a8b",
   "metadata": {},
   "outputs": [],
   "source": [
    "regressor = LinearRegression()  \n",
    "regressor.fit(X_train, y_train) #training the algorithm"
   ]
  },
  {
   "cell_type": "markdown",
   "id": "a3213191",
   "metadata": {},
   "source": [
    "#To retrieve the intercept:\n",
    "print(regressor.intercept_)"
   ]
  },
  {
   "cell_type": "markdown",
   "id": "c816f7a3",
   "metadata": {},
   "source": [
    "#For retrieving the slope:\n",
    "print(regressor.coef_)"
   ]
  },
  {
   "cell_type": "code",
   "execution_count": null,
   "id": "1427ce15",
   "metadata": {},
   "outputs": [],
   "source": [
    "X = unemployment_sample.drop([\"total_claims\"], axis=1).to_numpy() #to_numpy() values\n",
    "y = unemployment_sample['total_claims'].to_numpy()   #to_numpy() values\n",
    "# print(X.shape,y.shape)"
   ]
  },
  {
   "cell_type": "code",
   "execution_count": null,
   "id": "aad92567",
   "metadata": {},
   "outputs": [],
   "source": [
    "print(X)"
   ]
  },
  {
   "cell_type": "code",
   "execution_count": null,
   "id": "a7315988",
   "metadata": {},
   "outputs": [],
   "source": [
    "print(y)"
   ]
  },
  {
   "cell_type": "code",
   "execution_count": null,
   "id": "c13ea828",
   "metadata": {},
   "outputs": [],
   "source": [
    "print(X)"
   ]
  },
  {
   "cell_type": "code",
   "execution_count": null,
   "id": "2892db88",
   "metadata": {},
   "outputs": [],
   "source": [
    "for k,i in enumerate(X):\n",
    "    if np.nan in i:\n",
    "        print(k,i)"
   ]
  },
  {
   "cell_type": "code",
   "execution_count": null,
   "id": "cc425f21",
   "metadata": {},
   "outputs": [],
   "source": [
    "for k,i in enumerate(X):\n",
    "    if np.int in i:\n",
    "        print(k,i)"
   ]
  },
  {
   "cell_type": "code",
   "execution_count": null,
   "id": "0ceb4086",
   "metadata": {},
   "outputs": [],
   "source": [
    "for k,i in enumerate(X):\n",
    "    if pd.nan in i:\n",
    "        print(k,i)"
   ]
  },
  {
   "cell_type": "code",
   "execution_count": null,
   "id": "c8be05cc",
   "metadata": {},
   "outputs": [],
   "source": [
    "for k,i in enumerate(X):\n",
    "    for j in i:\n",
    "        if pd.isna(j)\n",
    "            print(k,i)"
   ]
  },
  {
   "cell_type": "code",
   "execution_count": null,
   "id": "a2a85bbb",
   "metadata": {},
   "outputs": [],
   "source": [
    "for k,i in enumerate(X):\n",
    "    for j in i:\n",
    "        if pd.isna(j):\n",
    "            print(k,i)"
   ]
  },
  {
   "cell_type": "code",
   "execution_count": null,
   "id": "8d615acc",
   "metadata": {},
   "outputs": [],
   "source": [
    "for k,i in enumerate(wage_list):\n",
    "    if pd.isna(i):\n",
    "        print(k,i)\n",
    "    # for j in i:\n",
    "    #     if pd.isna(j):\n",
    "    #         print(k,i)"
   ]
  },
  {
   "cell_type": "code",
   "execution_count": null,
   "id": "21afe117",
   "metadata": {},
   "outputs": [],
   "source": [
    "# remove unnecessary colomns and combine unemployment data together with wages\n",
    "unemployment_sample = unemployment_data.copy()\n",
    "unemployment_sample = unemployment_sample.drop(['timeperiod', 'tract', 'tract_name', 'edu_8th_or_less', 'edu_grades_9_11', 'edu_hs_grad_equiv', 'edu_post_hs',\\\n",
    "                                               'edu_unknown', 'top_category_employer1', 'top_category_employer2', 'top_category_employer3', 'gender_female', 'gender_male',\\\n",
    "                                                'gender_na', 'race_amerindian', 'race_asian', 'race_black', 'race_noanswer', 'race_hawaiiannative',\\\n",
    "                                               'race_other', 'race_white'], axis=1)\n",
    "wage_sample = wage_data.copy()\n",
    "wage_sample.drop(['tract', 'tract_name'], axis=1)\n",
    "prediction_sample = prediction_list.copy()\n",
    "wages_dict = {i:wage_sample[\"average_wage\"].values[k] for k,i in enumerate(wage_sample[\"uu_id\"])}\n",
    "wage_list = [wages_dict[i]  for i in unemployment_sample[\"uu_id\"]]\n",
    "# print(wages_dict)\n",
    "unemployment_sample[\"average_wage\"] = wage_list"
   ]
  },
  {
   "cell_type": "code",
   "execution_count": null,
   "id": "a8fa4027",
   "metadata": {},
   "outputs": [],
   "source": [
    "tract_dic = {i:k for k,i in enumerate(wage_sample[\"uu_id\"])}"
   ]
  },
  {
   "cell_type": "code",
   "execution_count": null,
   "id": "ee6bb35c",
   "metadata": {},
   "outputs": [],
   "source": [
    "unemployment_sample[\"uu_id\"] = [tract_dic[i] for i in unemployment_sample[\"uu_id\"]]"
   ]
  },
  {
   "cell_type": "code",
   "execution_count": null,
   "id": "a40b4b8b",
   "metadata": {},
   "outputs": [],
   "source": [
    "unemployment_sample = unemployment_sample.dropna()"
   ]
  },
  {
   "cell_type": "code",
   "execution_count": null,
   "id": "8404e1c0",
   "metadata": {},
   "outputs": [],
   "source": [
    "print(unemployment_sample.loc[1])"
   ]
  },
  {
   "cell_type": "code",
   "execution_count": null,
   "id": "33020285",
   "metadata": {},
   "outputs": [],
   "source": [
    "X = unemployment_sample.drop([\"total_claims\"], axis=1).to_numpy() #to_numpy() values\n",
    "y = unemployment_sample['total_claims'].to_numpy()   #to_numpy() values\n",
    "# print(X.shape,y.shape)"
   ]
  },
  {
   "cell_type": "code",
   "execution_count": null,
   "id": "10960518",
   "metadata": {},
   "outputs": [],
   "source": [
    "for k,i in enumerate(wage_list):\n",
    "    if pd.isna(i):\n",
    "        print(k,i)\n",
    "    # for j in i:\n",
    "    #     if pd.isna(j):\n",
    "    #         print(k,i)"
   ]
  },
  {
   "cell_type": "code",
   "execution_count": null,
   "id": "42955c83",
   "metadata": {},
   "outputs": [],
   "source": [
    "for k,i in enumerate(X):\n",
    "    for j in i:\n",
    "        if pd.isna(j):\n",
    "            print(k,i)"
   ]
  },
  {
   "cell_type": "code",
   "execution_count": null,
   "id": "e9ed944d",
   "metadata": {},
   "outputs": [],
   "source": [
    "from sklearn.model_selection import train_test_split \n",
    "from sklearn.linear_model import LinearRegression\n",
    "from sklearn import metrics"
   ]
  },
  {
   "cell_type": "code",
   "execution_count": null,
   "id": "7b8bdc62",
   "metadata": {},
   "outputs": [],
   "source": [
    "X_train, X_test, y_train, y_test = train_test_split(X, y, test_size=0.2, random_state=0)"
   ]
  },
  {
   "cell_type": "code",
   "execution_count": null,
   "id": "17027def",
   "metadata": {},
   "outputs": [],
   "source": [
    "regressor = LinearRegression()  \n",
    "regressor.fit(X_train, y_train) #training the algorithm"
   ]
  },
  {
   "cell_type": "markdown",
   "id": "611668ad",
   "metadata": {},
   "source": [
    "#To retrieve the intercept:\n",
    "print(regressor.intercept_)"
   ]
  },
  {
   "cell_type": "markdown",
   "id": "6d4fc4f0",
   "metadata": {},
   "source": [
    "#For retrieving the slope:\n",
    "print(regressor.coef_)"
   ]
  },
  {
   "cell_type": "code",
   "execution_count": null,
   "id": "4c1a4816",
   "metadata": {},
   "outputs": [],
   "source": [
    "regressor = LinearRegression()  \n",
    "regressor.fit(X_train, y_train) #training the algorithm"
   ]
  },
  {
   "cell_type": "code",
   "execution_count": null,
   "id": "0cf6e746",
   "metadata": {},
   "outputs": [],
   "source": [
    "#To retrieve the intercept:\n",
    "print(regressor.intercept_)"
   ]
  },
  {
   "cell_type": "code",
   "execution_count": null,
   "id": "34a49cfa",
   "metadata": {},
   "outputs": [],
   "source": [
    "#For retrieving the slope:\n",
    "print(regressor.coef_)"
   ]
  },
  {
   "cell_type": "code",
   "execution_count": null,
   "id": "06a22cde",
   "metadata": {},
   "outputs": [],
   "source": [
    "y_pred = regressor.predict(X_test)\n",
    "df = pd.DataFrame({'Actual': y_test.flatten(), 'Predicted': y_pred.flatten()})\n",
    "df"
   ]
  },
  {
   "cell_type": "code",
   "execution_count": null,
   "id": "294161fc",
   "metadata": {},
   "outputs": [],
   "source": [
    "y_pred = regressor.predict(X_test)\n",
    "df = pd.DataFrame({'Actual': y_test.flatten(), 'Predicted': y_pred.flatten()})\n",
    "df"
   ]
  },
  {
   "cell_type": "code",
   "execution_count": null,
   "id": "64ef1913",
   "metadata": {},
   "outputs": [],
   "source": [
    "df1 = df.head(25)\n",
    "df1.plot(kind='bar',figsize=(16,10))\n",
    "plt.grid(which='major', linestyle='-', linewidth='0.5', color='green')\n",
    "plt.grid(which='minor', linestyle=':', linewidth='0.5', color='black')\n",
    "plt.show()"
   ]
  },
  {
   "cell_type": "code",
   "execution_count": null,
   "id": "9f059dfd",
   "metadata": {},
   "outputs": [],
   "source": [
    "from sklearn.model_selection import train_test_split \n",
    "from sklearn.linear_model import LinearRegression\n",
    "from sklearn import metrics\n",
    "import matplotlib.pyplot as plt "
   ]
  },
  {
   "cell_type": "code",
   "execution_count": null,
   "id": "3896c283",
   "metadata": {},
   "outputs": [],
   "source": [
    "X_train, X_test, y_train, y_test = train_test_split(X, y, test_size=0.2, random_state=0)"
   ]
  },
  {
   "cell_type": "code",
   "execution_count": null,
   "id": "68b9d1b8",
   "metadata": {},
   "outputs": [],
   "source": [
    "regressor = LinearRegression()  \n",
    "regressor.fit(X_train, y_train) #training the algorithm"
   ]
  },
  {
   "cell_type": "code",
   "execution_count": null,
   "id": "cfc1b2ec",
   "metadata": {},
   "outputs": [],
   "source": [
    "#To retrieve the intercept:\n",
    "print(regressor.intercept_)"
   ]
  },
  {
   "cell_type": "code",
   "execution_count": null,
   "id": "847b1b27",
   "metadata": {},
   "outputs": [],
   "source": [
    "#For retrieving the slope:\n",
    "print(regressor.coef_)"
   ]
  },
  {
   "cell_type": "code",
   "execution_count": null,
   "id": "4d7ee7a2",
   "metadata": {},
   "outputs": [],
   "source": [
    "y_pred = regressor.predict(X_test)\n",
    "df = pd.DataFrame({'Actual': y_test.flatten(), 'Predicted': y_pred.flatten()})\n",
    "df"
   ]
  },
  {
   "cell_type": "code",
   "execution_count": null,
   "id": "c2589cee",
   "metadata": {},
   "outputs": [],
   "source": [
    "df1 = df.head(25)\n",
    "df1.plot(kind='bar',figsize=(16,10))\n",
    "plt.grid(which='major', linestyle='-', linewidth='0.5', color='green')\n",
    "plt.grid(which='minor', linestyle=':', linewidth='0.5', color='black')\n",
    "plt.show()"
   ]
  },
  {
   "cell_type": "code",
   "execution_count": null,
   "id": "3c3b4168",
   "metadata": {},
   "outputs": [],
   "source": [
    "y_pred = regressor.predict(X_test)\n",
    "df = pd.DataFrame({'Actual': y_test.flatten(), 'Predicted': y_pred.flatten()})\n",
    "df"
   ]
  },
  {
   "cell_type": "code",
   "execution_count": null,
   "id": "346abb28",
   "metadata": {},
   "outputs": [],
   "source": [
    "plt.scatter(X_test, y_test,  color='gray')\n",
    "plt.plot(X_test, y_pred, color='red', linewidth=2)\n",
    "plt.show()"
   ]
  },
  {
   "cell_type": "code",
   "execution_count": null,
   "id": "1f60cf0a",
   "metadata": {},
   "outputs": [],
   "source": [
    "print('Mean Absolute Error:', metrics.mean_absolute_error(y_test, y_pred))  \n",
    "print('Mean Squared Error:', metrics.mean_squared_error(y_test, y_pred))  \n",
    "print('Root Mean Squared Error:', np.sqrt(metrics.mean_squared_error(y_test, y_pred)))"
   ]
  },
  {
   "cell_type": "code",
   "execution_count": null,
   "id": "6bd094eb",
   "metadata": {
    "lines_to_next_cell": 2
   },
   "outputs": [],
   "source": [
    "df1 = df.head(25)\n",
    "df1.plot(kind='bar',figsize=(16,10))\n",
    "plt.grid(which='major', linestyle='-', linewidth='0.5', color='green')\n",
    "plt.grid(which='minor', linestyle=':', linewidth='0.5', color='black')\n",
    "plt.show()"
   ]
  }
 ],
 "metadata": {
  "jupytext": {
   "cell_metadata_filter": "-all",
   "main_language": "python",
   "notebook_metadata_filter": "-all"
  }
 },
 "nbformat": 4,
 "nbformat_minor": 5
}
