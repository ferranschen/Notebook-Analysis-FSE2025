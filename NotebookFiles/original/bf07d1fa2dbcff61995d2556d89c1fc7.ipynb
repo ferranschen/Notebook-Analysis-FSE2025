{
 "cells": [
  {
   "cell_type": "code",
   "execution_count": null,
   "id": "db9cb068",
   "metadata": {},
   "outputs": [],
   "source": [
    "#Code for BigQuery\n",
    "BIGQUERY_PROJECT = 'ironhacks-data'\n",
    "bigquery_client = bigquery.Client(project=BIGQUERY_PROJECT)"
   ]
  },
  {
   "cell_type": "code",
   "execution_count": null,
   "id": "626491ae",
   "metadata": {},
   "outputs": [],
   "source": [
    "#importing libraries\n",
    "import numpy as np\n",
    "import matplotlib.pyplot as plt\n",
    "import pandas as pd\n",
    "from google.cloud import bigquery\n",
    "from google.oauth2 import service_account\n",
    "from google.cloud.bigquery import magics"
   ]
  },
  {
   "cell_type": "code",
   "execution_count": null,
   "id": "f2067b08",
   "metadata": {},
   "outputs": [],
   "source": [
    "#Code for BigQuery\n",
    "BIGQUERY_PROJECT = 'ironhacks-data'\n",
    "bigquery_client = bigquery.Client(project=BIGQUERY_PROJECT)"
   ]
  },
  {
   "cell_type": "code",
   "execution_count": null,
   "id": "142f393c",
   "metadata": {
    "lines_to_next_cell": 2
   },
   "outputs": [],
   "source": [
    "#Query Unemployment data\n",
    "query = \"\"\"\n",
    "SELECT *\n",
    "FROM `ironhacks-data.ironhacks_competition.unemployment_data`\n",
    "order by uu_id\n",
    "\"\"\""
   ]
  },
  {
   "cell_type": "code",
   "execution_count": null,
   "id": "00ab7a58",
   "metadata": {},
   "outputs": [],
   "source": [
    "# QUERY THE DATA ONCE\n",
    "query_job = bigquery_client.query(query)\n",
    "unemployment_data = query_job.to_dataframe()\n",
    "unemployment_data.head()"
   ]
  },
  {
   "cell_type": "code",
   "execution_count": null,
   "id": "7e76ccd3",
   "metadata": {
    "lines_to_next_cell": 2
   },
   "outputs": [],
   "source": [
    "#Query Unemployment data\n",
    "query = \"\"\"\n",
    "SELECT *\n",
    "FROM `ironhacks-data.ironhacks_competition.unemployment_data`\n",
    "order by uu_id and week_number\n",
    "\n",
    "\"\"\""
   ]
  },
  {
   "cell_type": "code",
   "execution_count": null,
   "id": "950376e2",
   "metadata": {},
   "outputs": [],
   "source": [
    "# QUERY THE DATA ONCE\n",
    "query_job = bigquery_client.query(query)\n",
    "unemployment_data = query_job.to_dataframe()\n",
    "unemployment_data.head()"
   ]
  },
  {
   "cell_type": "code",
   "execution_count": null,
   "id": "1c8c9fd2",
   "metadata": {
    "lines_to_next_cell": 2
   },
   "outputs": [],
   "source": [
    "#Query Unemployment data\n",
    "query = \"\"\"\n",
    "SELECT *\n",
    "FROM `ironhacks-data.ironhacks_competition.unemployment_data`\n",
    "order by uu_id, week_number\n",
    "\n",
    "\"\"\""
   ]
  },
  {
   "cell_type": "code",
   "execution_count": null,
   "id": "763392b0",
   "metadata": {},
   "outputs": [],
   "source": [
    "# QUERY THE DATA ONCE\n",
    "query_job = bigquery_client.query(query)\n",
    "unemployment_data = query_job.to_dataframe()\n",
    "unemployment_data.head()"
   ]
  },
  {
   "cell_type": "code",
   "execution_count": null,
   "id": "00f775ad",
   "metadata": {
    "lines_to_next_cell": 2
   },
   "outputs": [],
   "source": [
    "#Query Unemployment data\n",
    "query = \"\"\"\n",
    "SELECT *\n",
    "FROM `ironhacks-data.ironhacks_competition.unemployment_data`\n",
    "order by uu_id, week_number\n",
    "\n",
    "\"\"\""
   ]
  },
  {
   "cell_type": "code",
   "execution_count": null,
   "id": "d5578119",
   "metadata": {},
   "outputs": [],
   "source": [
    "# QUERY THE DATA ONCE\n",
    "query_job = bigquery_client.query(query)\n",
    "unemployment_data = query_job.to_dataframe()\n",
    "unemployment_data.head(38)"
   ]
  },
  {
   "cell_type": "code",
   "execution_count": null,
   "id": "f2b15823",
   "metadata": {
    "lines_to_next_cell": 2
   },
   "outputs": [],
   "source": [
    "#Query Unemployment data\n",
    "query = \"\"\"\n",
    "SELECT *\n",
    "FROM `ironhacks-data.ironhacks_competition.unemployment_data`\n",
    "order by tract, week_number\n",
    "\n",
    "\"\"\""
   ]
  },
  {
   "cell_type": "code",
   "execution_count": null,
   "id": "f8ac8d40",
   "metadata": {},
   "outputs": [],
   "source": [
    "# QUERY THE DATA ONCE\n",
    "query_job = bigquery_client.query(query)\n",
    "unemployment_data = query_job.to_dataframe()\n",
    "unemployment_data.head(38)"
   ]
  },
  {
   "cell_type": "code",
   "execution_count": null,
   "id": "34c16d8e",
   "metadata": {},
   "outputs": [],
   "source": [
    "#importing libraries\n",
    "import numpy as np\n",
    "import matplotlib.pyplot as plt\n",
    "import pandas as pd\n",
    "from google.cloud import bigquery\n",
    "from google.oauth2 import service_account\n",
    "from google.cloud.bigquery import magics\n",
    "import csv"
   ]
  },
  {
   "cell_type": "code",
   "execution_count": null,
   "id": "c63c6b04",
   "metadata": {
    "lines_to_next_cell": 2
   },
   "outputs": [],
   "source": [
    "#Query Unemployment data\n",
    "query = \"\"\"\n",
    "SELECT *\n",
    "FROM `ironhacks-data.ironhacks_competition.unemployment_data`\n",
    "order by tract, week_number\n",
    "\n",
    "\"\"\""
   ]
  },
  {
   "cell_type": "code",
   "execution_count": null,
   "id": "e2b3b82e",
   "metadata": {},
   "outputs": [],
   "source": [
    "# QUERY THE DATA ONCE\n",
    "query_job = bigquery_client.query(query)\n",
    "unemployment_data = query_job.to_dataframe()\n",
    "unemployment_data.to_csv()"
   ]
  },
  {
   "cell_type": "code",
   "execution_count": null,
   "id": "7f34eed5",
   "metadata": {
    "lines_to_next_cell": 2
   },
   "outputs": [],
   "source": [
    "#Query Unemployment data\n",
    "query = \"\"\"\n",
    "SELECT *\n",
    "FROM `ironhacks-data.ironhacks_competition.unemployment_data`\n",
    "order by tract, week_number\n",
    "\n",
    "\"\"\""
   ]
  },
  {
   "cell_type": "code",
   "execution_count": null,
   "id": "e448911c",
   "metadata": {},
   "outputs": [],
   "source": [
    "# QUERY THE DATA ONCE\n",
    "query_job = bigquery_client.query(query)\n",
    "unemployment_data = query_job.to_dataframe()\n",
    "unemployment_data.to_csv('unempolyment_data_sub3.csv',index=False)"
   ]
  },
  {
   "cell_type": "code",
   "execution_count": null,
   "id": "3d8aa950",
   "metadata": {},
   "outputs": [],
   "source": [
    "#Query Wage Data\n",
    "query2= \"\"\"\n",
    "SELECT *\n",
    "FROM `ironhacks-data.ironhacks_competition.wage_data`\n",
    "order by tract\n",
    "\"\"\""
   ]
  },
  {
   "cell_type": "code",
   "execution_count": null,
   "id": "fcdf94b1",
   "metadata": {},
   "outputs": [],
   "source": [
    "query_job = bigquery_client.query(query2)\n",
    "wage_data = query_job.to_dataframe()"
   ]
  },
  {
   "cell_type": "code",
   "execution_count": null,
   "id": "790d86ac",
   "metadata": {
    "lines_to_next_cell": 2
   },
   "outputs": [],
   "source": [
    "#Query Unemployment data\n",
    "query = \"\"\"\n",
    "SELECT *\n",
    "FROM `ironhacks-data.ironhacks_competition.unemployment_data`\n",
    "order by tract, week_number\n",
    "\n",
    "\"\"\""
   ]
  },
  {
   "cell_type": "code",
   "execution_count": null,
   "id": "fd63d4b0",
   "metadata": {},
   "outputs": [],
   "source": [
    "# QUERY THE DATA ONCE\n",
    "query_job = bigquery_client.query(query)\n",
    "unemployment_data = query_job.to_dataframe()\n",
    "unemployment_data.drop_duplicates()"
   ]
  },
  {
   "cell_type": "code",
   "execution_count": null,
   "id": "c258d534",
   "metadata": {},
   "outputs": [],
   "source": [
    "get_ipython().run_cell_magic('capture', '', '\\n#Query Unemployment data\\nquery = \"\"\"\\nSELECT *\\nFROM `ironhacks-data.ironhacks_competition.unemployment_data`\\norder by tract, week_number\\n\\n\"\"\"\\n\\n\\n# QUERY THE DATA ONCE\\nquery_job = bigquery_client.query(query)\\nunemployment_data = query_job.to_dataframe()\\nunemployment_data.drop_duplicates()\\n')"
   ]
  },
  {
   "cell_type": "code",
   "execution_count": null,
   "id": "e002c52f",
   "metadata": {},
   "outputs": [],
   "source": [
    "get_ipython().run_cell_magic('capture', '', '\\n#Query Wage Data\\nquery2= \"\"\"\\nSELECT *\\nFROM `ironhacks-data.ironhacks_competition.wage_data`\\norder by tract\\n\"\"\"\\n\\nquery_job = bigquery_client.query(query2)\\nwage_data = query_job.to_dataframe()\\nwage_data.drop_duplicates()\\n')"
   ]
  },
  {
   "cell_type": "code",
   "execution_count": null,
   "id": "9dc5798d",
   "metadata": {},
   "outputs": [],
   "source": [
    "wage_data.head()"
   ]
  },
  {
   "cell_type": "code",
   "execution_count": null,
   "id": "4de4bee5",
   "metadata": {},
   "outputs": [],
   "source": [
    "#Retain relevant columns and merge Data\n",
    "unemployment_data=unemployment_data.drop('timeperiod','countyfips','tract','tract_name','top_category_employer1','top_category_employer2','top_category_employer3')\n",
    "wage_data=wage_data.drop('countyfips','tract','tract_name')"
   ]
  },
  {
   "cell_type": "code",
   "execution_count": null,
   "id": "93f666db",
   "metadata": {},
   "outputs": [],
   "source": [
    "#Retain relevant columns and merge Data\n",
    "unemployment_data=unemployment_data.drop(columns=['timeperiod','countyfips','tract','tract_name','top_category_employer1','top_category_employer2','top_category_employer3'])\n",
    "wage_data=wage_data.drop(columns=['countyfips','tract','tract_name'])"
   ]
  },
  {
   "cell_type": "code",
   "execution_count": null,
   "id": "c2df27de",
   "metadata": {},
   "outputs": [],
   "source": [
    "unemployment_data.head()"
   ]
  },
  {
   "cell_type": "code",
   "execution_count": null,
   "id": "fa3c1a13",
   "metadata": {},
   "outputs": [],
   "source": [
    "get_ipython().run_cell_magic('capture', '', '\\n#Query Unemployment data\\nquery = \"\"\"\\nSELECT *\\nFROM `ironhacks-data.ironhacks_competition.unemployment_data`\\norder by uu_id, week_number\\n\\n\"\"\"\\n\\n\\n# QUERY THE DATA ONCE\\nquery_job = bigquery_client.query(query)\\nunemployment_data = query_job.to_dataframe()\\nunemployment_data.drop_duplicates()\\n')"
   ]
  },
  {
   "cell_type": "code",
   "execution_count": null,
   "id": "438172da",
   "metadata": {},
   "outputs": [],
   "source": [
    "get_ipython().run_cell_magic('capture', '', '\\n#Query Wage Data\\nquery2= \"\"\"\\nSELECT *\\nFROM `ironhacks-data.ironhacks_competition.wage_data`\\norder by uu_id\\n\"\"\"\\n\\nquery_job = bigquery_client.query(query2)\\nwage_data = query_job.to_dataframe()\\nwage_data.drop_duplicates()\\n')"
   ]
  },
  {
   "cell_type": "code",
   "execution_count": null,
   "id": "b92ee0a4",
   "metadata": {},
   "outputs": [],
   "source": [
    "#Retain relevant columns and merge Data\n",
    "unemployment_data=unemployment_data.drop(columns=['timeperiod','countyfips','tract','tract_name','top_category_employer1','top_category_employer2','top_category_employer3'])\n",
    "wage_data=wage_data.drop(columns=['countyfips','tract','tract_name'])"
   ]
  },
  {
   "cell_type": "markdown",
   "id": "a64ef56c",
   "metadata": {},
   "source": [
    "Fill missing data using columnwise linear interpolation in unemployment data"
   ]
  },
  {
   "cell_type": "code",
   "execution_count": null,
   "id": "05287e93",
   "metadata": {},
   "outputs": [],
   "source": [
    "unemployment_data.head()"
   ]
  },
  {
   "cell_type": "code",
   "execution_count": null,
   "id": "e506ee80",
   "metadata": {},
   "outputs": [],
   "source": [
    "#Fill missing data using columnwise linear interpolation in unemployment data\n",
    "unemployment_data.interpolate(method='linear', axis=0)"
   ]
  },
  {
   "cell_type": "code",
   "execution_count": null,
   "id": "f2a3fef9",
   "metadata": {},
   "outputs": [],
   "source": [
    "#Fill missing data using columnwise linear interpolation in unemployment data\n",
    "unemployment_data.interpolate(method='linear',limit_direction='both', axis=0)"
   ]
  },
  {
   "cell_type": "code",
   "execution_count": null,
   "id": "c469e801",
   "metadata": {},
   "outputs": [],
   "source": [
    "type(unemployment_data)"
   ]
  },
  {
   "cell_type": "code",
   "execution_count": null,
   "id": "82cc24a3",
   "metadata": {},
   "outputs": [],
   "source": [
    "type(unemployment_data['race_white'])"
   ]
  },
  {
   "cell_type": "code",
   "execution_count": null,
   "id": "1f245c5f",
   "metadata": {},
   "outputs": [],
   "source": [
    "type(unemployment_data['race_white'][0])"
   ]
  },
  {
   "cell_type": "code",
   "execution_count": null,
   "id": "b5951d52",
   "metadata": {},
   "outputs": [],
   "source": [
    "type(unemployment_data['race_white'][3])"
   ]
  },
  {
   "cell_type": "code",
   "execution_count": null,
   "id": "a0b4d848",
   "metadata": {},
   "outputs": [],
   "source": [
    "unemployment_data.head()"
   ]
  },
  {
   "cell_type": "code",
   "execution_count": null,
   "id": "112930de",
   "metadata": {},
   "outputs": [],
   "source": [
    "#Fill missing data using columnwise linear interpolation in unemployment data\n",
    "unemployment_data[:,3:-1].interpolate(method='linear',limit_direction='both', axis=0)"
   ]
  },
  {
   "cell_type": "code",
   "execution_count": null,
   "id": "9fb22cd0",
   "metadata": {},
   "outputs": [],
   "source": [
    "#Fill missing data using columnwise linear interpolation in unemployment data\n",
    "unemployment_data.iloc[:,3:-1].interpolate(method='linear',limit_direction='both', axis=0)"
   ]
  },
  {
   "cell_type": "code",
   "execution_count": null,
   "id": "2a78b2c1",
   "metadata": {},
   "outputs": [],
   "source": [
    "#Fill missing data using columnwise linear interpolation in unemployment data\n",
    "num_data=unemployment_data.iloc[:,3:-1].astype(int32)\n",
    "num_data.interpolate(method='linear', limit_direction='both', axis=0)"
   ]
  },
  {
   "cell_type": "code",
   "execution_count": null,
   "id": "07010c4d",
   "metadata": {},
   "outputs": [],
   "source": [
    "#Fill missing data using columnwise linear interpolation in unemployment data\n",
    "num_data=unemployment_data.iloc[:,3:-1].astype('int32')\n",
    "num_data.interpolate(method='linear', limit_direction='both', axis=0)"
   ]
  },
  {
   "cell_type": "code",
   "execution_count": null,
   "id": "a188f59c",
   "metadata": {},
   "outputs": [],
   "source": [
    "#Fill missing data using columnwise linear interpolation in unemployment data\n",
    "num_data=unemployment_data.iloc[:,3:-1]\n",
    "num_data.interpolate(method='linear', limit_direction='both', axis=0)"
   ]
  },
  {
   "cell_type": "code",
   "execution_count": null,
   "id": "199f627d",
   "metadata": {},
   "outputs": [],
   "source": [
    "#Fill missing data using columnwise linear interpolation in unemployment data\n",
    "unemployment_data.fillna(method='pad', axis=0)"
   ]
  },
  {
   "cell_type": "code",
   "execution_count": null,
   "id": "5ba37159",
   "metadata": {},
   "outputs": [],
   "source": [
    "#Fill missing data using columnwise linear interpolation in unemployment data\n",
    "series=unemployment_data.iloc[:,3].interpolate(method='linear', axis=0)"
   ]
  },
  {
   "cell_type": "code",
   "execution_count": null,
   "id": "f02df6a1",
   "metadata": {},
   "outputs": [],
   "source": [
    "#Fill missing data using columnwise linear interpolation in unemployment data\n",
    "from sklearn.preprocessing import LabelEncoder "
   ]
  },
  {
   "cell_type": "code",
   "execution_count": null,
   "id": "a1d5e187",
   "metadata": {},
   "outputs": [],
   "source": [
    "unemployment_data=LabelEncoder.fit_transform(unemployment_data)\n",
    "series=unemployment_data.iloc[:,3].interpolate(method='linear', axis=0)"
   ]
  },
  {
   "cell_type": "code",
   "execution_count": null,
   "id": "532f3c95",
   "metadata": {},
   "outputs": [],
   "source": [
    "#Fill missing data using columnwise linear interpolation in unemployment data\n",
    "from sklearn.preprocessing import LabelEncoder "
   ]
  },
  {
   "cell_type": "code",
   "execution_count": null,
   "id": "35793268",
   "metadata": {},
   "outputs": [],
   "source": [
    "series=LabelEncoder.fit_transform(unemployment_data.iloc[:,3])\n",
    "series=series.interploate(method='linear')"
   ]
  },
  {
   "cell_type": "code",
   "execution_count": null,
   "id": "04f686c6",
   "metadata": {},
   "outputs": [],
   "source": [
    "#Fill missing data in unemployment data with 0\n",
    "unemployment_data.fillna(0)"
   ]
  },
  {
   "cell_type": "code",
   "execution_count": null,
   "id": "b50aaa1d",
   "metadata": {},
   "outputs": [],
   "source": [
    "#Fill missing data in unemployment data with 0\n",
    "unemployment_data.fillna(0)\n",
    "#Fill missing data in wage data with pad\n",
    "wage_data.fillna(method='pad')"
   ]
  },
  {
   "cell_type": "code",
   "execution_count": null,
   "id": "70b506ec",
   "metadata": {},
   "outputs": [],
   "source": [
    "#Fill missing data in unemployment data with 0\n",
    "unemployment_data.fillna(0)\n",
    "#Fill missing data in wage data with pad\n",
    "wage_data.fillna(method='pad')\n",
    "#Merge data with uu_id"
   ]
  },
  {
   "cell_type": "code",
   "execution_count": null,
   "id": "774dcce9",
   "metadata": {},
   "outputs": [],
   "source": [
    "work_data=pd.merge(unemployment_data, wage_data, on='uu_id')\n",
    "work_data.head()"
   ]
  },
  {
   "cell_type": "code",
   "execution_count": null,
   "id": "fdcc9478",
   "metadata": {},
   "outputs": [],
   "source": [
    "#Fill missing data in unemployment data with 0\n",
    "unemployment_data=unemployment_data.fillna(0)\n",
    "#Fill missing data in wage data with pad\n",
    "wage_data=wage_data.fillna(method='pad')"
   ]
  },
  {
   "cell_type": "code",
   "execution_count": null,
   "id": "37ca2e47",
   "metadata": {},
   "outputs": [],
   "source": [
    "#Merge data with uu_id\n",
    "work_data=pd.merge(unemployment_data, wage_data, on='uu_id')\n",
    "work_data.head()"
   ]
  },
  {
   "cell_type": "code",
   "execution_count": null,
   "id": "3c47c2e1",
   "metadata": {},
   "outputs": [],
   "source": [
    "#Separate by uu_id\n",
    "work_data_collection={}\n",
    "uu_id_list=work_data['uu_id].drop_dulpicates()"
   ]
  },
  {
   "cell_type": "code",
   "execution_count": null,
   "id": "f218afcb",
   "metadata": {},
   "outputs": [],
   "source": [
    "#Separate by uu_id\n",
    "work_data_collection={}\n",
    "uu_id_list=work_data['uu_id'].drop_dulpicates()"
   ]
  },
  {
   "cell_type": "code",
   "execution_count": null,
   "id": "e5f0639f",
   "metadata": {},
   "outputs": [],
   "source": [
    "#Separate by uu_id\n",
    "work_data_collection={}\n",
    "uu_id_list=work_data['uu_id'].drop_duplicates()"
   ]
  },
  {
   "cell_type": "code",
   "execution_count": null,
   "id": "a77a7950",
   "metadata": {},
   "outputs": [],
   "source": [
    "#Separate by uu_id\n",
    "work_data_collection={}\n",
    "uu_id_list=work_data['uu_id'].drop_duplicates()"
   ]
  },
  {
   "cell_type": "code",
   "execution_count": null,
   "id": "ee87d2c5",
   "metadata": {},
   "outputs": [],
   "source": [
    "for id in uu_id_list:\n",
    "    work_data_collection[id]=work_data[work_data['uu_id']==id]\n",
    "    work_data_collection[id].drop(columns=['uu_id'])"
   ]
  },
  {
   "cell_type": "code",
   "execution_count": null,
   "id": "3b7e1936",
   "metadata": {},
   "outputs": [],
   "source": [
    "work_data_collection[uu_id_list[0]]"
   ]
  },
  {
   "cell_type": "code",
   "execution_count": null,
   "id": "377737d6",
   "metadata": {},
   "outputs": [],
   "source": [
    "#Separate by uu_id\n",
    "work_data_collection={}\n",
    "uu_id_list=work_data['uu_id'].drop_duplicates()"
   ]
  },
  {
   "cell_type": "code",
   "execution_count": null,
   "id": "fd676fa3",
   "metadata": {},
   "outputs": [],
   "source": [
    "for id in uu_id_list:\n",
    "    work_data_collection[id]=work_data[work_data['uu_id']==id]\n",
    "    work_data_collection[id]=work_data_collection[id].drop(columns=['uu_id'])"
   ]
  },
  {
   "cell_type": "code",
   "execution_count": null,
   "id": "43e569c8",
   "metadata": {},
   "outputs": [],
   "source": [
    "work_data_collection[uu_id_list[0]]"
   ]
  },
  {
   "cell_type": "code",
   "execution_count": null,
   "id": "4179c045",
   "metadata": {},
   "outputs": [],
   "source": [
    "#Separate by uu_id\n",
    "work_data_collection={}\n",
    "uu_id_list=work_data['uu_id'].drop_duplicates()"
   ]
  },
  {
   "cell_type": "code",
   "execution_count": null,
   "id": "09e9dccc",
   "metadata": {},
   "outputs": [],
   "source": [
    "for id in uu_id_list:\n",
    "    work_data_collection[id]=work_data[work_data['uu_id']==id]\n",
    "    work_data_collection[id]=work_data_collection[id].drop(columns=['uu_id'])\n",
    "    work_data_collection[id]=work_data_collection[id].drop_duplicates()"
   ]
  },
  {
   "cell_type": "code",
   "execution_count": null,
   "id": "8f15effa",
   "metadata": {},
   "outputs": [],
   "source": [
    "work_data_collection[uu_id_list[0]]"
   ]
  },
  {
   "cell_type": "code",
   "execution_count": null,
   "id": "a8909204",
   "metadata": {},
   "outputs": [],
   "source": [
    "import seaborn as sns\n",
    "sns.heatmap(work_data_collection[uu_id_list[0]])"
   ]
  },
  {
   "cell_type": "markdown",
   "id": "e85a056e",
   "metadata": {},
   "source": [
    "Train for now on week number and average wage only"
   ]
  },
  {
   "cell_type": "code",
   "execution_count": null,
   "id": "b312e3f7",
   "metadata": {},
   "outputs": [],
   "source": [
    "work_data=work_data.drop_duplicates()\n",
    "X_data=work_data[columns=['week_num','average_wage']]\n",
    "y_data=work_data[columns=['total_claims']]"
   ]
  },
  {
   "cell_type": "markdown",
   "id": "a672e86b",
   "metadata": {},
   "source": [
    "Train for now on week number and average wage only"
   ]
  },
  {
   "cell_type": "code",
   "execution_count": null,
   "id": "801ccf04",
   "metadata": {},
   "outputs": [],
   "source": [
    "work_data=work_data.drop_duplicates()\n",
    "X_data=work_data[['week_num','average_wage']]\n",
    "y_data=work_data[['total_claims']]"
   ]
  },
  {
   "cell_type": "markdown",
   "id": "ec79a469",
   "metadata": {},
   "source": [
    "Train for now on week number and average wage only"
   ]
  },
  {
   "cell_type": "code",
   "execution_count": null,
   "id": "de27a0e4",
   "metadata": {},
   "outputs": [],
   "source": [
    "work_data=work_data.drop_duplicates()\n",
    "X_data=work_data[['week_number','average_wage']]\n",
    "y_data=work_data[['total_claims']]"
   ]
  },
  {
   "cell_type": "code",
   "execution_count": null,
   "id": "377ae72e",
   "metadata": {},
   "outputs": [],
   "source": [
    "from sklearn import linear_model\n",
    "lm = linear_model.LinearRegression()\n",
    "model=lm.fit(X,y)"
   ]
  },
  {
   "cell_type": "code",
   "execution_count": null,
   "id": "be607b2f",
   "metadata": {},
   "outputs": [],
   "source": [
    "from sklearn import linear_model\n",
    "lm = linear_model.LinearRegression()\n",
    "model=lm.fit(X_data,y_data)"
   ]
  },
  {
   "cell_type": "code",
   "execution_count": null,
   "id": "bf97b2ea",
   "metadata": {},
   "outputs": [],
   "source": [
    "lm.score(X,y)"
   ]
  },
  {
   "cell_type": "code",
   "execution_count": null,
   "id": "06f0dba8",
   "metadata": {
    "lines_to_next_cell": 2
   },
   "outputs": [],
   "source": [
    "lm.score(X_data,y_data)"
   ]
  }
 ],
 "metadata": {
  "jupytext": {
   "cell_metadata_filter": "-all",
   "main_language": "python",
   "notebook_metadata_filter": "-all"
  }
 },
 "nbformat": 4,
 "nbformat_minor": 5
}
