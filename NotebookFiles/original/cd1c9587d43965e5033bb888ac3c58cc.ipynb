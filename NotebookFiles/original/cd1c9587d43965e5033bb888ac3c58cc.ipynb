{
 "cells": [
  {
   "cell_type": "code",
   "execution_count": null,
   "id": "5173c225",
   "metadata": {},
   "outputs": [],
   "source": [
    "ud_test\n",
    "ud_train"
   ]
  },
  {
   "cell_type": "code",
   "execution_count": null,
   "id": "e5d1da1d",
   "metadata": {},
   "outputs": [],
   "source": [
    "ud_test"
   ]
  },
  {
   "cell_type": "code",
   "execution_count": null,
   "id": "5037f572",
   "metadata": {
    "lines_to_next_cell": 2
   },
   "outputs": [],
   "source": [
    "get_ipython().system('pip install db-dtypes')"
   ]
  }
 ],
 "metadata": {
  "jupytext": {
   "cell_metadata_filter": "-all",
   "main_language": "python",
   "notebook_metadata_filter": "-all"
  }
 },
 "nbformat": 4,
 "nbformat_minor": 5
}
