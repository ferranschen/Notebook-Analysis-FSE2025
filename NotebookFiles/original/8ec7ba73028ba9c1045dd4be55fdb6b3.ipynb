{
 "cells": [
  {
   "cell_type": "code",
   "execution_count": null,
   "id": "cc52cb3d",
   "metadata": {},
   "outputs": [],
   "source": [
    "get_ipython().system('pip install db-dtypes')"
   ]
  },
  {
   "cell_type": "code",
   "execution_count": null,
   "id": "dec996fc",
   "metadata": {},
   "outputs": [],
   "source": [
    "import pandas as pd\n",
    "import numpy as np\n",
    "from google.cloud import bigquery"
   ]
  },
  {
   "cell_type": "code",
   "execution_count": null,
   "id": "766c284b",
   "metadata": {},
   "outputs": [],
   "source": [
    "BIGQUERY_PROJECT = 'ironhacks-data'\n",
    "bigquery_client = bigquery.Client(project=BIGQUERY_PROJECT)"
   ]
  },
  {
   "cell_type": "code",
   "execution_count": null,
   "id": "b557c503",
   "metadata": {},
   "outputs": [],
   "source": [
    "query = \"\"\"\n",
    "SELECT *\n",
    "FROM `ironhacks-data.ironhacks_competition.unemployment_data`\n",
    "WHERE uu_id='e201385d37b5f6eea30f6d6d4106dc6f'\n",
    "\"\"\""
   ]
  },
  {
   "cell_type": "code",
   "execution_count": null,
   "id": "b1c96112",
   "metadata": {},
   "outputs": [],
   "source": [
    "query_job = bigquery_client.query(query)\n",
    "unemployment_data = query_job.to_dataframe()"
   ]
  },
  {
   "cell_type": "code",
   "execution_count": null,
   "id": "14e6fd25",
   "metadata": {},
   "outputs": [],
   "source": [
    "unemployment_data.shape"
   ]
  },
  {
   "cell_type": "code",
   "execution_count": null,
   "id": "7985438b",
   "metadata": {},
   "outputs": [],
   "source": [
    "unemployment_data.columns"
   ]
  },
  {
   "cell_type": "code",
   "execution_count": null,
   "id": "34cde753",
   "metadata": {},
   "outputs": [],
   "source": [
    "unemployment_data.drop(['uu_id', 'countyfips', 'tract',\n",
    "       'tract_name', 'edu_8th_or_less', 'edu_grades_9_11',\n",
    "       'edu_hs_grad_equiv', 'edu_post_hs', 'edu_unknown',\n",
    "       'top_category_employer1', 'top_category_employer2',\n",
    "       'top_category_employer3', 'gender_female', 'gender_male', 'gender_na',\n",
    "       'race_amerindian', 'race_asian', 'race_black', 'race_noanswer',\n",
    "       'race_hawaiiannative', 'race_other', 'race_white'], axis=1, inplace=True)"
   ]
  },
  {
   "cell_type": "code",
   "execution_count": null,
   "id": "9127795e",
   "metadata": {
    "lines_to_next_cell": 1
   },
   "outputs": [],
   "source": [
    "unemployment_data.drop_duplicates(inplace=True)\n",
    "unemployment_data.sort_values(['week_number'])"
   ]
  },
  {
   "cell_type": "code",
   "execution_count": null,
   "id": "8921646e",
   "metadata": {},
   "outputs": [],
   "source": [
    "def add_missing_weeks(df):\n",
    "    # Fill in missing weeks by taking the ceil of the average of prev and next\n",
    "    for week in range(1, 37):"
   ]
  },
  {
   "cell_type": "code",
   "execution_count": null,
   "id": "65adbea5",
   "metadata": {},
   "outputs": [],
   "source": [
    "unemployment_data['year'] = unemployment_data['timeperiod'].apply(lambda x: str(x)[:4])\n",
    "unemployment_data['month'] = unemployment_data['timeperiod'].apply(lambda x: str(x)[4:6])\n",
    "unemployment_data['day'] = unemployment_data['timeperiod'].apply(lambda x: str(x)[6:])"
   ]
  },
  {
   "cell_type": "code",
   "execution_count": null,
   "id": "0d2db82a",
   "metadata": {},
   "outputs": [],
   "source": [
    "unemployment_data"
   ]
  },
  {
   "cell_type": "code",
   "execution_count": null,
   "id": "faae3b7e",
   "metadata": {},
   "outputs": [],
   "source": [
    "unemployment_data['ds'] = pd.DatetimeIndex(unemployment_data['year'] + '-' + unemployment_data['month'] + '-' + unemployment_data['day'])"
   ]
  },
  {
   "cell_type": "code",
   "execution_count": null,
   "id": "0cd7b9cf",
   "metadata": {},
   "outputs": [],
   "source": [
    "unemployment_data"
   ]
  },
  {
   "cell_type": "code",
   "execution_count": null,
   "id": "5d3df6d8",
   "metadata": {},
   "outputs": [],
   "source": [
    "unemployment_data.drop(['timeperiod', 'year', 'month', 'day', 'week_number'], axis=1, inplace=True)\n",
    "unemployment_data.columns = ['y', 'ds']"
   ]
  },
  {
   "cell_type": "code",
   "execution_count": null,
   "id": "65983306",
   "metadata": {},
   "outputs": [],
   "source": [
    "unemployment_data"
   ]
  },
  {
   "cell_type": "code",
   "execution_count": null,
   "id": "c5b80962",
   "metadata": {},
   "outputs": [],
   "source": [
    "unemployment_data.sort_values(['ds'], inplace=True)"
   ]
  },
  {
   "cell_type": "code",
   "execution_count": null,
   "id": "daf802a2",
   "metadata": {},
   "outputs": [],
   "source": [
    "unemployment_data"
   ]
  },
  {
   "cell_type": "code",
   "execution_count": null,
   "id": "06af4749",
   "metadata": {},
   "outputs": [],
   "source": [
    "get_ipython().system('pip install prophet')"
   ]
  },
  {
   "cell_type": "code",
   "execution_count": null,
   "id": "b486a36e",
   "metadata": {},
   "outputs": [],
   "source": [
    "from prophet import Prophet"
   ]
  },
  {
   "cell_type": "code",
   "execution_count": null,
   "id": "e805360f",
   "metadata": {},
   "outputs": [],
   "source": [
    "ud = unemployment_data"
   ]
  },
  {
   "cell_type": "code",
   "execution_count": null,
   "id": "04841429",
   "metadata": {},
   "outputs": [],
   "source": [
    "threshold_date = pd.to_datetime('2022-05-14')\n",
    "mask = ud['ds'] < threshold_date"
   ]
  },
  {
   "cell_type": "code",
   "execution_count": null,
   "id": "84efc7bf",
   "metadata": {},
   "outputs": [],
   "source": [
    "# Split the data and select `ds` and `y` columns.\n",
    "ud_train = ud[mask][['ds', 'y']]\n",
    "ud_test = ud[~mask][['ds', 'y']]"
   ]
  },
  {
   "cell_type": "code",
   "execution_count": null,
   "id": "c47e7277",
   "metadata": {},
   "outputs": [],
   "source": [
    "ud_train"
   ]
  },
  {
   "cell_type": "code",
   "execution_count": null,
   "id": "17f4548c",
   "metadata": {},
   "outputs": [],
   "source": [
    "m = Prophet(weekly_seasonality=False,\n",
    "        daily_seasonality=False,\n",
    "        interval_width=0.95, \n",
    "        mcmc_samples = 500)"
   ]
  },
  {
   "cell_type": "markdown",
   "id": "acf83a44",
   "metadata": {},
   "source": [
    "m.add_seasonality(\n",
    "        name='monthly', \n",
    "        period=30.5, \n",
    "        fourier_order=5\n",
    "    )"
   ]
  },
  {
   "cell_type": "code",
   "execution_count": null,
   "id": "77aa1488",
   "metadata": {},
   "outputs": [],
   "source": [
    "m.fit(ud_train)"
   ]
  },
  {
   "cell_type": "code",
   "execution_count": null,
   "id": "a479a6e3",
   "metadata": {},
   "outputs": [],
   "source": [
    "future = m.make_future_dataframe(periods=20, freq='W')"
   ]
  },
  {
   "cell_type": "code",
   "execution_count": null,
   "id": "d9ff13b9",
   "metadata": {},
   "outputs": [],
   "source": [
    "forecast = m.predict(df=future)"
   ]
  },
  {
   "cell_type": "code",
   "execution_count": null,
   "id": "d5b0b2ce",
   "metadata": {},
   "outputs": [],
   "source": [
    "m.fit(ud_train, show_console=True)"
   ]
  },
  {
   "cell_type": "code",
   "execution_count": null,
   "id": "f31fe1f5",
   "metadata": {},
   "outputs": [],
   "source": [
    "m = Prophet(weekly_seasonality=False,\n",
    "        daily_seasonality=False,\n",
    "        interval_width=0.95, \n",
    "        mcmc_samples = 500)"
   ]
  },
  {
   "cell_type": "markdown",
   "id": "0535a42a",
   "metadata": {},
   "source": [
    "m.add_seasonality(\n",
    "        name='monthly', \n",
    "        period=30.5, \n",
    "        fourier_order=5\n",
    "    )"
   ]
  },
  {
   "cell_type": "code",
   "execution_count": null,
   "id": "55157a75",
   "metadata": {},
   "outputs": [],
   "source": [
    "m.fit(ud_train, show_console=True)"
   ]
  },
  {
   "cell_type": "code",
   "execution_count": null,
   "id": "b4eeb2e1",
   "metadata": {},
   "outputs": [],
   "source": [
    "future = m.make_future_dataframe(periods=20, freq='W')"
   ]
  },
  {
   "cell_type": "code",
   "execution_count": null,
   "id": "9962e64c",
   "metadata": {
    "lines_to_next_cell": 2
   },
   "outputs": [],
   "source": [
    "forecast = m.predict(df=future)"
   ]
  }
 ],
 "metadata": {
  "jupytext": {
   "cell_metadata_filter": "-all",
   "main_language": "python",
   "notebook_metadata_filter": "-all"
  }
 },
 "nbformat": 4,
 "nbformat_minor": 5
}
