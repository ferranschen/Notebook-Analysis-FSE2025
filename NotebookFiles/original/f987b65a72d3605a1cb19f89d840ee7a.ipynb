{
 "cells": [
  {
   "cell_type": "code",
   "execution_count": null,
   "id": "0531c38d",
   "metadata": {},
   "outputs": [],
   "source": [
    "import os\n",
    "import pandas as pd\n",
    "import numpy as np\n",
    "from google.cloud import bigquery\n",
    "from google.oauth2 import service_account\n",
    "from google.cloud.bigquery import magics\n",
    "BIGQUERY_PROJECT = 'ironhacks-data'\n",
    "bigquery_client = bigquery.Client(project=BIGQUERY_PROJECT)"
   ]
  },
  {
   "cell_type": "code",
   "execution_count": null,
   "id": "cadcbe97",
   "metadata": {},
   "outputs": [],
   "source": [
    "query = \"\"\"\n",
    "SELECT *\n",
    "FROM `ironhacks-data.ironhacks_competition.unemployment_data`\n",
    "\"\"\"\n",
    "# QUERY THE DATA ONCE\n",
    "query_job = bigquery_client.query(query)\n",
    "unemp_data = query_job.to_dataframe()\n",
    "unemp_data.head(5)"
   ]
  },
  {
   "cell_type": "code",
   "execution_count": null,
   "id": "82138972",
   "metadata": {},
   "outputs": [],
   "source": [
    "query = \"\"\"\n",
    "SELECT *\n",
    "FROM `ironhacks-data.ironhacks_competition.wage_data`\n",
    "\"\"\"\n",
    "# QUERY THE DATA ONCE\n",
    "query_job = bigquery_client.query(query)\n",
    "wage_data = query_job.to_dataframe()\n",
    "wage_data.head()"
   ]
  },
  {
   "cell_type": "code",
   "execution_count": null,
   "id": "505ae44f",
   "metadata": {},
   "outputs": [],
   "source": [
    "query = \"\"\"\n",
    "SELECT *\n",
    "FROM `ironhacks-data.ironhacks_competition.prediction_list`\n",
    "\"\"\"\n",
    "# QUERY THE DATA ONCE\n",
    "query_job = bigquery_client.query(query)\n",
    "pred_data = query_job.to_dataframe()\n",
    "pred_data.head()"
   ]
  },
  {
   "cell_type": "code",
   "execution_count": null,
   "id": "906973b3",
   "metadata": {},
   "outputs": [],
   "source": [
    "unemp_data.info()"
   ]
  },
  {
   "cell_type": "code",
   "execution_count": null,
   "id": "8f8ac60b",
   "metadata": {},
   "outputs": [],
   "source": [
    "wage_data.info()"
   ]
  },
  {
   "cell_type": "code",
   "execution_count": null,
   "id": "aa669e3b",
   "metadata": {},
   "outputs": [],
   "source": [
    "unemp_data.isna().sum()"
   ]
  },
  {
   "cell_type": "code",
   "execution_count": null,
   "id": "fcdb4952",
   "metadata": {},
   "outputs": [],
   "source": [
    "set1 = set(list(unemp_data['top_category_employer1'].unique()))\n",
    "set1"
   ]
  },
  {
   "cell_type": "code",
   "execution_count": null,
   "id": "b4f49b6b",
   "metadata": {},
   "outputs": [],
   "source": [
    "set2 = set(list(unemp_data['top_category_employer2'].unique()))\n",
    "set2"
   ]
  },
  {
   "cell_type": "code",
   "execution_count": null,
   "id": "0ca22a04",
   "metadata": {},
   "outputs": [],
   "source": [
    "set3 = set(list(unemp_data['top_category_employer3'].unique()))\n",
    "set3"
   ]
  },
  {
   "cell_type": "code",
   "execution_count": null,
   "id": "af2a889e",
   "metadata": {},
   "outputs": [],
   "source": [
    "unemp_data['top_category_employer2'] = unemp_data['top_category_employer2'].replace('N/A',np.NaN)\n",
    "unemp_data['top_category_employer3'] = unemp_data['top_category_employer3'].replace('N/A',np.NaN)"
   ]
  },
  {
   "cell_type": "code",
   "execution_count": null,
   "id": "480c7507",
   "metadata": {},
   "outputs": [],
   "source": [
    "unemp_data['countyfips'].unique()"
   ]
  },
  {
   "cell_type": "code",
   "execution_count": null,
   "id": "9ee0ad9a",
   "metadata": {},
   "outputs": [],
   "source": [
    "(unemp_data.isna().sum()/len(unemp_data))*100"
   ]
  },
  {
   "cell_type": "code",
   "execution_count": null,
   "id": "8120a0db",
   "metadata": {},
   "outputs": [],
   "source": [
    "(unemp_data.isna().sum()/len(unemp_data))*100"
   ]
  },
  {
   "cell_type": "code",
   "execution_count": null,
   "id": "8e421088",
   "metadata": {},
   "outputs": [],
   "source": [
    "unemp_data['edu_8th_or_less'] = unemp_data.groupby('countyfips')['edu_8th_or_less'].transform(lambda x: x.fillna(int(x.mean())))\n",
    "unemp_data['edu_grades_9_11'] = unemp_data.groupby('countyfips')['edu_grades_9_11'].transform(lambda x: x.fillna(int(x.mean())))\n",
    "unemp_data['edu_hs_grad_equiv'] = unemp_data.groupby('countyfips')['edu_hs_grad_equiv'].transform(lambda x: x.fillna(int(x.mean())))"
   ]
  },
  {
   "cell_type": "code",
   "execution_count": null,
   "id": "d72b4ff6",
   "metadata": {},
   "outputs": [],
   "source": [
    "unemp_data['race_asian'] = unemp_data.groupby('countyfips')['race_asian'].transform(lambda x: x.fillna(int(x.mean())))\n",
    "unemp_data['race_amerindian'] = unemp_data.groupby('countyfips')['race_amerindian'].transform(lambda x: x.fillna(int(x.mean())))\n",
    "unemp_data['race_black'] = unemp_data.groupby('countyfips')['race_black'].transform(lambda x: x.fillna(int(x.mean())))\n",
    "unemp_data['race_hawaiiannative'] = unemp_data.groupby('countyfips')['race_hawaiiannative'].transform(lambda x: x.fillna(int(x.mean())))\n",
    "unemp_data['race_other'] = unemp_data.groupby('countyfips')['race_other'].transform(lambda x: x.fillna(int(x.mean())))\n",
    "unemp_data['race_white'] = unemp_data.groupby('countyfips')['race_white'].transform(lambda x: x.fillna(int(x.mean())))"
   ]
  },
  {
   "cell_type": "code",
   "execution_count": null,
   "id": "145cf4d4",
   "metadata": {},
   "outputs": [],
   "source": [
    "unemp_data['race_noanswer'] = unemp_data['race_noanswer'].fillna(0)\n",
    "unemp_data['gender_na'] = unemp_data['gender_na'].fillna(0)\n",
    "unemp_data['edu_unknown'] = unemp_data['edu_unknown'].fillna(0)"
   ]
  },
  {
   "cell_type": "code",
   "execution_count": null,
   "id": "d7e41ce1",
   "metadata": {},
   "outputs": [],
   "source": [
    "unemp_data['top_category_employer2'] = unemp_data.groupby('countyfips')['top_category_employer2'].transform(lambda x: x.fillna(x.mode()[0] if not x.mode().empty else 'unknown'))\n",
    "unemp_data['top_category_employer3'] = unemp_data.groupby('countyfips')['top_category_employer3'].transform(lambda x: x.fillna(x.mode()[0] if not x.mode().empty else 'unknown'))"
   ]
  },
  {
   "cell_type": "code",
   "execution_count": null,
   "id": "a03ddc0a",
   "metadata": {},
   "outputs": [],
   "source": [
    "unemp_data['gender_male'] = unemp_data['gender_male'].astype(float)\n",
    "unemp_data['gender_female'] = unemp_data['gender_female'].astype(float)\n",
    "unemp_data['edu_post_hs'] = unemp_data['edu_post_hs'].astype(float)"
   ]
  },
  {
   "cell_type": "code",
   "execution_count": null,
   "id": "adec68b5",
   "metadata": {},
   "outputs": [],
   "source": [
    "unemp_data['gender_male'] = unemp_data['gender_male'].fillna(unemp_data.groupby('countyfips')['gender_male'].transform('mean'))\n",
    "unemp_data['gender_female'] = unemp_data['gender_female'].fillna(unemp_data.groupby('countyfips')['gender_female'].transform('mean'))\n",
    "unemp_data['edu_post_hs'] = unemp_data['edu_post_hs'].fillna(unemp_data.groupby('countyfips')['edu_post_hs'].transform('mean'))"
   ]
  },
  {
   "cell_type": "code",
   "execution_count": null,
   "id": "c62ad300",
   "metadata": {},
   "outputs": [],
   "source": [
    "unemp_data.isna().sum()"
   ]
  },
  {
   "cell_type": "code",
   "execution_count": null,
   "id": "6c477b06",
   "metadata": {},
   "outputs": [],
   "source": [
    "unemp_data[unemp_data.gender_male.isnull()]"
   ]
  },
  {
   "cell_type": "code",
   "execution_count": null,
   "id": "ce894888",
   "metadata": {},
   "outputs": [],
   "source": [
    "unemp_data['gender_male'] = unemp_data['gender_male'].fillna(unemp_data.groupby('countyfips')['gender_male'].transform('mean'))\n",
    "unemp_data['gender_female'] = unemp_data['gender_female'].fillna(unemp_data.groupby('countyfips')['gender_female'].transform('mean'))\n",
    "unemp_data['edu_post_hs'] = unemp_data['edu_post_hs'].fillna(unemp_data.groupby('countyfips')['edu_post_hs'].transform('mean'))"
   ]
  },
  {
   "cell_type": "code",
   "execution_count": null,
   "id": "e40cfafe",
   "metadata": {},
   "outputs": [],
   "source": [
    "unemp_data.isna().sum()"
   ]
  },
  {
   "cell_type": "code",
   "execution_count": null,
   "id": "d750bd91",
   "metadata": {},
   "outputs": [],
   "source": [
    "unemp_data['gender_male'] = unemp_data.groupby('countyfips')['gender_male'].transform(lambda x: x.fillna(x.mean()))\n",
    "unemp_data['gender_female'] = unemp_data.groupby('countyfips')['gender_female'].transform(lambda x: x.fillna(x.mean()))\n",
    "unemp_data['edu_post_hs'] = unemp_data.groupby('countyfips')['edu_post_hs'].transform(lambda x: x.fillna(x.mean()))"
   ]
  },
  {
   "cell_type": "code",
   "execution_count": null,
   "id": "7018b18c",
   "metadata": {},
   "outputs": [],
   "source": [
    "unemp_data.isna().sum()"
   ]
  },
  {
   "cell_type": "code",
   "execution_count": null,
   "id": "8ebe0c61",
   "metadata": {},
   "outputs": [],
   "source": [
    "unemp_data.isnull()"
   ]
  },
  {
   "cell_type": "code",
   "execution_count": null,
   "id": "7d5915f5",
   "metadata": {},
   "outputs": [],
   "source": [
    "unemp_data[unemp_data['gender_male'].isnull()]"
   ]
  },
  {
   "cell_type": "code",
   "execution_count": null,
   "id": "77bcdb80",
   "metadata": {},
   "outputs": [],
   "source": [
    "unemp_data['gender_male'] = unemp_data['gender_male'].fillna(0)\n",
    "unemp_data['gender_female'] = unemp_data['gender_female'].fillna(0)\n",
    "unemp_data['edu_post_hs'] = unemp_data['edu_post_hs'].fillna(0)"
   ]
  },
  {
   "cell_type": "code",
   "execution_count": null,
   "id": "9533902a",
   "metadata": {},
   "outputs": [],
   "source": [
    "unemp_data.isna().sum()"
   ]
  },
  {
   "cell_type": "code",
   "execution_count": null,
   "id": "c9afdb5d",
   "metadata": {},
   "outputs": [],
   "source": [
    "unemp_data.isna().sum()"
   ]
  },
  {
   "cell_type": "code",
   "execution_count": null,
   "id": "2178cf0c",
   "metadata": {},
   "outputs": [],
   "source": [
    "wage_data.info()"
   ]
  },
  {
   "cell_type": "code",
   "execution_count": null,
   "id": "ddd67c0c",
   "metadata": {},
   "outputs": [],
   "source": [
    "wage_data.describe()"
   ]
  },
  {
   "cell_type": "code",
   "execution_count": null,
   "id": "edc1dad0",
   "metadata": {},
   "outputs": [],
   "source": [
    "wage_data['average_wage'] = wage_data['average_wage'].fillna(wage_data.groupby('countyfips')['average_wage'].transform('mean'))"
   ]
  },
  {
   "cell_type": "code",
   "execution_count": null,
   "id": "0cb39655",
   "metadata": {},
   "outputs": [],
   "source": [
    "wage_data.info()"
   ]
  },
  {
   "cell_type": "code",
   "execution_count": null,
   "id": "022be371",
   "metadata": {},
   "outputs": [],
   "source": [
    "query = \"\"\"\n",
    "SELECT *\n",
    "FROM `ironhacks-data.ironhacks_competition.wage_data`\n",
    "\"\"\"\n",
    "# QUERY THE DATA ONCE\n",
    "query_job = bigquery_client.query(query)\n",
    "wage_data = query_job.to_dataframe()\n",
    "wage_data.head()"
   ]
  },
  {
   "cell_type": "code",
   "execution_count": null,
   "id": "cadc79b4",
   "metadata": {},
   "outputs": [],
   "source": [
    "wage_data.info()"
   ]
  },
  {
   "cell_type": "code",
   "execution_count": null,
   "id": "578e1439",
   "metadata": {},
   "outputs": [],
   "source": [
    "wage_data['average_wage'] = wage_data['average_wage'].fillna(wage_data.groupby('countyfips')['average_wage'].transform('mean'))"
   ]
  },
  {
   "cell_type": "code",
   "execution_count": null,
   "id": "8c55e815",
   "metadata": {},
   "outputs": [],
   "source": [
    "final_data = unemp_data.merge(wage_data,how='left', on = 'uu_id)\n",
    "final_data"
   ]
  },
  {
   "cell_type": "code",
   "execution_count": null,
   "id": "f3594c6b",
   "metadata": {},
   "outputs": [],
   "source": [
    "final_data = unemp_data.merge(wage_data,how='left', on = 'uu_id')\n",
    "final_data"
   ]
  },
  {
   "cell_type": "code",
   "execution_count": null,
   "id": "11295044",
   "metadata": {},
   "outputs": [],
   "source": [
    "final_data = unemp_data.merge(wage_data,how='left', on = 'uu_id')"
   ]
  },
  {
   "cell_type": "code",
   "execution_count": null,
   "id": "7b06fd99",
   "metadata": {},
   "outputs": [],
   "source": [
    "final_data1 = final_data.drop(['timeperiod','tract','tract_name'],axis=1)"
   ]
  },
  {
   "cell_type": "code",
   "execution_count": null,
   "id": "85215da4",
   "metadata": {},
   "outputs": [],
   "source": [
    "final_data.info()"
   ]
  },
  {
   "cell_type": "code",
   "execution_count": null,
   "id": "bdc459d5",
   "metadata": {},
   "outputs": [],
   "source": [
    "final_data1 = final_data.drop(['timeperiod','tract_x','tract_name_x','tract_y','tract_name_y','countyfips_y'],axis=1)"
   ]
  },
  {
   "cell_type": "markdown",
   "id": "48b2a75d",
   "metadata": {},
   "source": [
    "#Modelling"
   ]
  },
  {
   "cell_type": "code",
   "execution_count": null,
   "id": "85d7c0e6",
   "metadata": {},
   "outputs": [],
   "source": [
    "final_data1 = final_data.drop(['timeperiod','tract_x','tract_name_x','tract_y','tract_name_y','countyfips_y','uu_id'],axis=1)"
   ]
  },
  {
   "cell_type": "code",
   "execution_count": null,
   "id": "f1bdf100",
   "metadata": {},
   "outputs": [],
   "source": [
    "fin = pd.get_dummies(final_data1,columns = ['week_number','countyfips_x','top_category_employer1','top_category_employer2','top_category_employer3'])"
   ]
  },
  {
   "cell_type": "code",
   "execution_count": null,
   "id": "adb12344",
   "metadata": {},
   "outputs": [],
   "source": [
    "fin.shape()"
   ]
  },
  {
   "cell_type": "code",
   "execution_count": null,
   "id": "4b5b8635",
   "metadata": {},
   "outputs": [],
   "source": [
    "fin.shape"
   ]
  },
  {
   "cell_type": "code",
   "execution_count": null,
   "id": "0b0b0b17",
   "metadata": {},
   "outputs": [],
   "source": [
    "X = fin.drop(['total_claims'],axis=1)\n",
    "Y = fin['total_claims']"
   ]
  },
  {
   "cell_type": "code",
   "execution_count": null,
   "id": "6a30b145",
   "metadata": {},
   "outputs": [],
   "source": [
    "from sklearn.decomposition import PCA\n",
    "pca = PCA(n_components=50)\n",
    "principalComponents = pca.fit_transform(X)"
   ]
  },
  {
   "cell_type": "code",
   "execution_count": null,
   "id": "427109da",
   "metadata": {},
   "outputs": [],
   "source": [
    "principalComponents"
   ]
  },
  {
   "cell_type": "code",
   "execution_count": null,
   "id": "66ebd3c0",
   "metadata": {},
   "outputs": [],
   "source": [
    "df_X = pd.DataFrame(principalComponents)"
   ]
  },
  {
   "cell_type": "code",
   "execution_count": null,
   "id": "9ae4875e",
   "metadata": {},
   "outputs": [],
   "source": [
    "from sklearn.model_selection import train_test_split\n",
    "from sklearn.linear_model import LinearRegression\n",
    "from sklearn.feature_selection import RFE\n",
    "X_train, X_test,Y_train, Y_test = train_test_split(X,Y,test_size = 0.2, random_state=28)"
   ]
  },
  {
   "cell_type": "code",
   "execution_count": null,
   "id": "3e2386a3",
   "metadata": {},
   "outputs": [],
   "source": [
    "lm = LinearRegression().fit(X_train,Y_train)\n",
    "prediction = model.predict(X_test)"
   ]
  },
  {
   "cell_type": "code",
   "execution_count": null,
   "id": "28d00988",
   "metadata": {},
   "outputs": [],
   "source": [
    "lm = LinearRegression().fit(X_train,Y_train)\n",
    "prediction = lm.predict(X_test)"
   ]
  },
  {
   "cell_type": "code",
   "execution_count": null,
   "id": "0efdf5be",
   "metadata": {},
   "outputs": [],
   "source": [
    "lm.score(X_test, Y_test)"
   ]
  },
  {
   "cell_type": "code",
   "execution_count": null,
   "id": "69216457",
   "metadata": {},
   "outputs": [],
   "source": [
    "from sklearn.model_selection import train_test_split\n",
    "from sklearn.linear_model import LinearRegression\n",
    "X_train, X_test,Y_train, Y_test = train_test_split(df_X,Y,test_size = 0.2, random_state=28)"
   ]
  },
  {
   "cell_type": "code",
   "execution_count": null,
   "id": "2f86d168",
   "metadata": {},
   "outputs": [],
   "source": [
    "lm = LinearRegression().fit(X_train,Y_train)\n",
    "prediction = lm.predict(X_test)"
   ]
  },
  {
   "cell_type": "code",
   "execution_count": null,
   "id": "e047d6bd",
   "metadata": {},
   "outputs": [],
   "source": [
    "lm.score(X_test, Y_test)"
   ]
  },
  {
   "cell_type": "code",
   "execution_count": null,
   "id": "fab0fdb9",
   "metadata": {},
   "outputs": [],
   "source": [
    "from sklearn.decomposition import PCA\n",
    "pca = PCA(n_components=10)\n",
    "principalComponents = pca.fit_transform(X)"
   ]
  },
  {
   "cell_type": "code",
   "execution_count": null,
   "id": "3fbc9a85",
   "metadata": {},
   "outputs": [],
   "source": [
    "df_X = pd.DataFrame(principalComponents)"
   ]
  },
  {
   "cell_type": "code",
   "execution_count": null,
   "id": "ab83fd36",
   "metadata": {},
   "outputs": [],
   "source": [
    "from sklearn.model_selection import train_test_split\n",
    "from sklearn.linear_model import LinearRegression\n",
    "X_train, X_test,Y_train, Y_test = train_test_split(df_X,Y,test_size = 0.2, random_state=28)"
   ]
  },
  {
   "cell_type": "code",
   "execution_count": null,
   "id": "aaf4c40a",
   "metadata": {},
   "outputs": [],
   "source": [
    "lm = LinearRegression().fit(X_train,Y_train)\n",
    "prediction = lm.predict(X_test)"
   ]
  },
  {
   "cell_type": "code",
   "execution_count": null,
   "id": "2b5c9f7d",
   "metadata": {},
   "outputs": [],
   "source": [
    "lm.score(X_test, Y_test)"
   ]
  },
  {
   "cell_type": "code",
   "execution_count": null,
   "id": "5cf016a6",
   "metadata": {},
   "outputs": [],
   "source": [
    "lm = LinearRegression().fit(X_train,Y_train)\n",
    "prediction = lm.predict(X_test)"
   ]
  },
  {
   "cell_type": "code",
   "execution_count": null,
   "id": "ec20eb08",
   "metadata": {},
   "outputs": [],
   "source": [
    "lm = LinearRegression().fit(X_train,Y_train)\n",
    "prediction = lm.predict(X_test)"
   ]
  },
  {
   "cell_type": "code",
   "execution_count": null,
   "id": "c5f9ac84",
   "metadata": {},
   "outputs": [],
   "source": [
    "lm.score(X_test, Y_test)"
   ]
  },
  {
   "cell_type": "code",
   "execution_count": null,
   "id": "365ebf35",
   "metadata": {},
   "outputs": [],
   "source": [
    "from sklearn.model_selection import train_test_split\n",
    "from sklearn.linear_model import LinearRegression\n",
    "X_train, X_test,Y_train, Y_test = train_test_split(X,Y,test_size = 0.2, random_state=28)"
   ]
  },
  {
   "cell_type": "code",
   "execution_count": null,
   "id": "e302dad4",
   "metadata": {},
   "outputs": [],
   "source": [
    "lm = LinearRegression().fit(X_train,Y_train)\n",
    "prediction = lm.predict(X_test)"
   ]
  },
  {
   "cell_type": "code",
   "execution_count": null,
   "id": "0d3651bb",
   "metadata": {},
   "outputs": [],
   "source": [
    "lm.score(X_test, Y_test)"
   ]
  },
  {
   "cell_type": "code",
   "execution_count": null,
   "id": "32faf32a",
   "metadata": {},
   "outputs": [],
   "source": [
    "mean_squared_error(Y_train, prediction)"
   ]
  },
  {
   "cell_type": "code",
   "execution_count": null,
   "id": "51727e15",
   "metadata": {},
   "outputs": [],
   "source": [
    "lm.mean_squared_error(Y_train, prediction)"
   ]
  },
  {
   "cell_type": "code",
   "execution_count": null,
   "id": "784065d5",
   "metadata": {},
   "outputs": [],
   "source": [
    "model = XGBRegressor(n_estimators=500, max_depth=4,eta=0.1).fit(X_train,Y_train)\n",
    "y_pred = model.predict(X_test)"
   ]
  },
  {
   "cell_type": "code",
   "execution_count": null,
   "id": "10badc37",
   "metadata": {},
   "outputs": [],
   "source": [
    "import xgboost as xgb"
   ]
  },
  {
   "cell_type": "code",
   "execution_count": null,
   "id": "a666e4a4",
   "metadata": {},
   "outputs": [],
   "source": [
    "import xgboost as xgb"
   ]
  },
  {
   "cell_type": "code",
   "execution_count": null,
   "id": "7695cbc2",
   "metadata": {},
   "outputs": [],
   "source": [
    "get_ipython().system('pip install xgboost')"
   ]
  },
  {
   "cell_type": "code",
   "execution_count": null,
   "id": "ef66831c",
   "metadata": {},
   "outputs": [],
   "source": [
    "import xgboost as xgb"
   ]
  },
  {
   "cell_type": "code",
   "execution_count": null,
   "id": "ac5f6388",
   "metadata": {},
   "outputs": [],
   "source": [
    "model = XGBRegressor(n_estimators=500, max_depth=4,eta=0.1).fit(X_train,Y_train)\n",
    "y_pred = model.predict(X_test)"
   ]
  },
  {
   "cell_type": "code",
   "execution_count": null,
   "id": "33949c0b",
   "metadata": {},
   "outputs": [],
   "source": [
    "model = xgb.XGBRegressor(n_estimators=500, max_depth=4,eta=0.1).fit(X_train,Y_train)\n",
    "y_pred = model.predict(X_test)"
   ]
  },
  {
   "cell_type": "code",
   "execution_count": null,
   "id": "61281342",
   "metadata": {},
   "outputs": [],
   "source": [
    "model.score(X_test, Y_test)"
   ]
  },
  {
   "cell_type": "code",
   "execution_count": null,
   "id": "d97512fc",
   "metadata": {},
   "outputs": [],
   "source": [
    "import xgboost as xgb\n",
    "model = xgb.XGBRegressor(n_estimators=500, max_depth=4,eta=0.1).fit(X_train,Y_train)\n",
    "y_pred = model.predict(X_test)"
   ]
  },
  {
   "cell_type": "code",
   "execution_count": null,
   "id": "a16f40cc",
   "metadata": {},
   "outputs": [],
   "source": [
    "model.score(X_test, Y_test)"
   ]
  },
  {
   "cell_type": "code",
   "execution_count": null,
   "id": "eebdd2b7",
   "metadata": {},
   "outputs": [],
   "source": [
    "import xgboost as xgb\n",
    "model = xgb.XGBRegressor(n_estimators=400, max_depth=4,eta=0.1).fit(X_train,Y_train)\n",
    "y_pred = model.predict(X_test)"
   ]
  },
  {
   "cell_type": "code",
   "execution_count": null,
   "id": "b2fc2c47",
   "metadata": {},
   "outputs": [],
   "source": [
    "model.score(X_test, Y_test)"
   ]
  },
  {
   "cell_type": "code",
   "execution_count": null,
   "id": "8958ee38",
   "metadata": {},
   "outputs": [],
   "source": [
    "import xgboost as xgb\n",
    "model = xgb.XGBRegressor(n_estimators=600, max_depth=4,eta=0.1).fit(X_train,Y_train)\n",
    "y_pred = model.predict(X_test)"
   ]
  },
  {
   "cell_type": "code",
   "execution_count": null,
   "id": "978ef516",
   "metadata": {},
   "outputs": [],
   "source": [
    "model.score(X_test, Y_test)"
   ]
  },
  {
   "cell_type": "code",
   "execution_count": null,
   "id": "e8c206b8",
   "metadata": {},
   "outputs": [],
   "source": [
    "from sklearn.model_selection import train_test_split\n",
    "from sklearn.linear_model import LinearRegression\n",
    "X_train, X_test,Y_train, Y_test = train_test_split(X,Y,test_size = 0.2, random_state=28)"
   ]
  },
  {
   "cell_type": "code",
   "execution_count": null,
   "id": "db58e60f",
   "metadata": {},
   "outputs": [],
   "source": [
    "import xgboost as xgb\n",
    "model = xgb.XGBRegressor(n_estimators=600, max_depth=4,eta=0.1).fit(X_train,Y_train)\n",
    "y_pred = model.predict(X_test)"
   ]
  },
  {
   "cell_type": "code",
   "execution_count": null,
   "id": "a1eb04e1",
   "metadata": {},
   "outputs": [],
   "source": [
    "model.score(X_test, Y_test)"
   ]
  },
  {
   "cell_type": "code",
   "execution_count": null,
   "id": "9598adf6",
   "metadata": {},
   "outputs": [],
   "source": [
    "from sklearn.model_selection import train_test_split\n",
    "from sklearn.linear_model import LinearRegression\n",
    "X_train, X_test,Y_train, Y_test = train_test_split(X,Y,test_size = 0.2, random_state=32)"
   ]
  },
  {
   "cell_type": "code",
   "execution_count": null,
   "id": "2655267c",
   "metadata": {},
   "outputs": [],
   "source": [
    "import xgboost as xgb\n",
    "model = xgb.XGBRegressor(n_estimators=600, max_depth=4,eta=0.1).fit(X_train,Y_train)\n",
    "y_pred = model.predict(X_test)"
   ]
  },
  {
   "cell_type": "code",
   "execution_count": null,
   "id": "f026648f",
   "metadata": {},
   "outputs": [],
   "source": [
    "model.score(X_test, Y_test)"
   ]
  },
  {
   "cell_type": "code",
   "execution_count": null,
   "id": "dc391170",
   "metadata": {},
   "outputs": [],
   "source": [
    "import xgboost as xgb\n",
    "model = xgb.XGBRegressor(n_estimators=500, max_depth=4,eta=0.1).fit(X_train,Y_train)\n",
    "y_pred = model.predict(X_test)"
   ]
  },
  {
   "cell_type": "code",
   "execution_count": null,
   "id": "77f1e038",
   "metadata": {},
   "outputs": [],
   "source": [
    "model.score(X_test, Y_test)"
   ]
  },
  {
   "cell_type": "code",
   "execution_count": null,
   "id": "75eb893e",
   "metadata": {},
   "outputs": [],
   "source": [
    "get_ipython().run_cell_magic('capture', '', \"%logstop\\n%logstart -t -r -q ipython_command_log.py global\\n\\n#- IRONHACKS RESEARCH TRACKING CODE\\n#----------------------------------\\n# The following code is used to help our research team understand how you \\n# our notebook environment. We do not collect any personal information with\\n# the following code, it is used to measure when and how often you work on\\n# your submission files.\\n\\nimport os\\nfrom datetime import datetime\\nimport IPython.core.history as history\\n\\nha = history.HistoryAccessor()\\nha_tail = ha.get_tail(1)\\nha_cmd = next(ha_tail)\\nsession_id = str(ha_cmd[0])\\ncommand_id = str(ha_cmd[1])\\ntimestamp = datetime.utcnow().isoformat()\\nhistory_line = ','.join([session_id, command_id, timestamp]) + '\\\\n'\\nlogfile = open(os.environ['HOME']+'/ipython_session_log.csv', 'a')\\nlogfile.write(history_line)\\nlogfile.close()\\n\")"
   ]
  },
  {
   "cell_type": "code",
   "execution_count": null,
   "id": "4d1ddcd6",
   "metadata": {},
   "outputs": [],
   "source": [
    "ttt = model.fit(pred_data)"
   ]
  },
  {
   "cell_type": "code",
   "execution_count": null,
   "id": "19e26978",
   "metadata": {},
   "outputs": [],
   "source": [
    "pred = model.predict(pred_data)"
   ]
  },
  {
   "cell_type": "code",
   "execution_count": null,
   "id": "c2efb10b",
   "metadata": {},
   "outputs": [],
   "source": [
    "pred_data.info()"
   ]
  },
  {
   "cell_type": "code",
   "execution_count": null,
   "id": "13babf02",
   "metadata": {},
   "outputs": [],
   "source": [
    "unemp_data.describe()"
   ]
  },
  {
   "cell_type": "code",
   "execution_count": null,
   "id": "c6ff655f",
   "metadata": {},
   "outputs": [],
   "source": [
    "tt = pred_data.merge(fin,how = 'left',on= 'uu_id')\n",
    "tt                     "
   ]
  },
  {
   "cell_type": "code",
   "execution_count": null,
   "id": "95bb6d31",
   "metadata": {},
   "outputs": [],
   "source": [
    "tt = pred_data.merge(fin,how = 'left', final_data= 'uu_id')\n",
    "tt                     "
   ]
  },
  {
   "cell_type": "code",
   "execution_count": null,
   "id": "d8d06f66",
   "metadata": {},
   "outputs": [],
   "source": [
    "tt = pred_data.merge(final_data,how = 'left', on= 'uu_id')\n",
    "tt                     "
   ]
  },
  {
   "cell_type": "code",
   "execution_count": null,
   "id": "ce0e614c",
   "metadata": {},
   "outputs": [],
   "source": [
    "final_data1 = final_data.drop(['timeperiod','tract_x','tract_name_x','tract_y','tract_name_y','countyfips_y'],axis=1)"
   ]
  },
  {
   "cell_type": "code",
   "execution_count": null,
   "id": "686aee36",
   "metadata": {},
   "outputs": [],
   "source": [
    "fin = final_data1.set_index('uu_id')"
   ]
  },
  {
   "cell_type": "code",
   "execution_count": null,
   "id": "15d36c22",
   "metadata": {},
   "outputs": [],
   "source": [
    "fin = pd.get_dummies(final_data1,columns = ['week_number','countyfips_x','top_category_employer1','top_category_employer2','top_category_employer3'])"
   ]
  },
  {
   "cell_type": "code",
   "execution_count": null,
   "id": "908a1b58",
   "metadata": {},
   "outputs": [],
   "source": [
    "fin.shape"
   ]
  },
  {
   "cell_type": "code",
   "execution_count": null,
   "id": "df8da943",
   "metadata": {},
   "outputs": [],
   "source": [
    "X = fin.drop(['total_claims'],axis=1)\n",
    "Y = fin['total_claims']"
   ]
  },
  {
   "cell_type": "code",
   "execution_count": null,
   "id": "c10499c3",
   "metadata": {},
   "outputs": [],
   "source": [
    "from sklearn.model_selection import train_test_split\n",
    "from sklearn.linear_model import LinearRegression\n",
    "X_train, X_test,Y_train, Y_test = train_test_split(X,Y,test_size = 0.2, random_state=32)"
   ]
  },
  {
   "cell_type": "code",
   "execution_count": null,
   "id": "0cd0f2cf",
   "metadata": {},
   "outputs": [],
   "source": [
    "import xgboost as xgb\n",
    "model = xgb.XGBRegressor(n_estimators=500, max_depth=4,eta=0.1).fit(X_train,Y_train)\n",
    "y_pred = model.predict(X_test)"
   ]
  },
  {
   "cell_type": "code",
   "execution_count": null,
   "id": "0c310d66",
   "metadata": {},
   "outputs": [],
   "source": [
    "final_data1 = final_data.drop(['timeperiod','tract_x','tract_name_x','tract_y','tract_name_y','countyfips_y'],axis=1)"
   ]
  },
  {
   "cell_type": "code",
   "execution_count": null,
   "id": "6ea10168",
   "metadata": {},
   "outputs": [],
   "source": [
    "fin = pd.get_dummies(final_data1,columns = ['week_number','countyfips_x','top_category_employer1','top_category_employer2','top_category_employer3'])"
   ]
  },
  {
   "cell_type": "code",
   "execution_count": null,
   "id": "80556d6c",
   "metadata": {},
   "outputs": [],
   "source": [
    "X = fin.drop(['total_claims'],axis=1)\n",
    "Y = fin['total_claims']"
   ]
  },
  {
   "cell_type": "code",
   "execution_count": null,
   "id": "6000b1a8",
   "metadata": {},
   "outputs": [],
   "source": [
    "from sklearn.model_selection import train_test_split\n",
    "from sklearn.linear_model import LinearRegression\n",
    "X_train, X_test,Y_train, Y_test = train_test_split(X,Y,test_size = 0.2, random_state=32)"
   ]
  },
  {
   "cell_type": "code",
   "execution_count": null,
   "id": "94e75933",
   "metadata": {},
   "outputs": [],
   "source": [
    "X_train_data = X_train.drop(['uu_id'],axis=1)\n",
    "X_test_data = X_test.drop(['uu_id'],axis=1)"
   ]
  },
  {
   "cell_type": "code",
   "execution_count": null,
   "id": "6025c27e",
   "metadata": {},
   "outputs": [],
   "source": [
    "lm = LinearRegression().fit(X_train_data,Y_train)\n",
    "prediction = lm.predict(X_test_data)"
   ]
  },
  {
   "cell_type": "code",
   "execution_count": null,
   "id": "5dd7bd43",
   "metadata": {},
   "outputs": [],
   "source": [
    "lm.score(X_test_data, Y_test)"
   ]
  },
  {
   "cell_type": "code",
   "execution_count": null,
   "id": "470287fb",
   "metadata": {},
   "outputs": [],
   "source": [
    "fin = fin.set_index('uu_id')\n",
    "X_train, X_test, y_train, y_test = test_train_split(fin.ix[:, ~fin.columns.isin(['total_claims'])], fin.total_claims)"
   ]
  },
  {
   "cell_type": "code",
   "execution_count": null,
   "id": "68c7bac2",
   "metadata": {},
   "outputs": [],
   "source": [
    "fin = fin.set_index('uu_id')\n",
    "X_train, X_test, y_train, y_test = train_test_split(fin.ix[:, ~fin.columns.isin(['total_claims'])], fin.total_claims)"
   ]
  },
  {
   "cell_type": "code",
   "execution_count": null,
   "id": "646f67f4",
   "metadata": {},
   "outputs": [],
   "source": [
    "final_data1 = final_data.drop(['timeperiod','tract_x','tract_name_x','tract_y','tract_name_y','countyfips_y'],axis=1)"
   ]
  },
  {
   "cell_type": "code",
   "execution_count": null,
   "id": "f8a40410",
   "metadata": {},
   "outputs": [],
   "source": [
    "fin = pd.get_dummies(final_data1,columns = ['week_number','countyfips_x','top_category_employer1','top_category_employer2','top_category_employer3'])"
   ]
  },
  {
   "cell_type": "code",
   "execution_count": null,
   "id": "54e58ea2",
   "metadata": {},
   "outputs": [],
   "source": [
    "fin = fin.set_index('uu_id')\n",
    "X_train, X_test, y_train, y_test = train_test_split(fin.ix[:, ~fin.columns.isin(['total_claims'])], fin.total_claims)"
   ]
  },
  {
   "cell_type": "code",
   "execution_count": null,
   "id": "fec0a8a5",
   "metadata": {},
   "outputs": [],
   "source": [
    "fin = fin.set_index('uu_id')\n",
    "X = fin.drop(['total_claims'],axis=1)\n",
    "Y=fin['total_claims']\n",
    "#X_train, X_test, y_train, y_test = train_test_split(fin.ix[:, ~fin.columns.isin(['total_claims'])], fin.total_claims)"
   ]
  },
  {
   "cell_type": "code",
   "execution_count": null,
   "id": "d14bf575",
   "metadata": {},
   "outputs": [],
   "source": [
    "fin = pd.get_dummies(final_data1,columns = ['week_number','countyfips_x','top_category_employer1','top_category_employer2','top_category_employer3'])"
   ]
  },
  {
   "cell_type": "code",
   "execution_count": null,
   "id": "63fba0ec",
   "metadata": {},
   "outputs": [],
   "source": [
    "fin = fin.set_index('uu_id')\n",
    "X = fin.drop(['total_claims'],axis=1)\n",
    "Y=fin['total_claims']\n",
    "#X_train, X_test, y_train, y_test = train_test_split(fin.ix[:, ~fin.columns.isin(['total_claims'])], fin.total_claims)"
   ]
  },
  {
   "cell_type": "code",
   "execution_count": null,
   "id": "198444e0",
   "metadata": {},
   "outputs": [],
   "source": [
    "from sklearn.model_selection import train_test_split\n",
    "from sklearn.linear_model import LinearRegression\n",
    "X_train, X_test,Y_train, Y_test = train_test_split(X,Y,test_size = 0.2, random_state=32)"
   ]
  },
  {
   "cell_type": "code",
   "execution_count": null,
   "id": "540fe745",
   "metadata": {},
   "outputs": [],
   "source": [
    "lm = LinearRegression().fit(X_train_data,Y_train)\n",
    "prediction = lm.predict(X_test_data)"
   ]
  },
  {
   "cell_type": "code",
   "execution_count": null,
   "id": "839d5994",
   "metadata": {},
   "outputs": [],
   "source": [
    "lm.score(X_test_data, Y_test)"
   ]
  },
  {
   "cell_type": "code",
   "execution_count": null,
   "id": "52991bbe",
   "metadata": {},
   "outputs": [],
   "source": [
    "lm = LinearRegression().fit(X_train,Y_train)\n",
    "prediction = lm.predict(X_test)"
   ]
  },
  {
   "cell_type": "code",
   "execution_count": null,
   "id": "eb1ec673",
   "metadata": {},
   "outputs": [],
   "source": [
    "lm.score(X_test, Y_test)"
   ]
  },
  {
   "cell_type": "code",
   "execution_count": null,
   "id": "35d6309f",
   "metadata": {},
   "outputs": [],
   "source": [
    "final_data1 = final_data.drop(['timeperiod','tract_x','tract_name_x','tract_y','tract_name_y','countyfips_y'],axis=1)"
   ]
  },
  {
   "cell_type": "code",
   "execution_count": null,
   "id": "7af42248",
   "metadata": {},
   "outputs": [],
   "source": [
    "fin = pd.get_dummies(final_data1,columns = ['week_number','countyfips_x','top_category_employer1','top_category_employer2','top_category_employer3'])"
   ]
  },
  {
   "cell_type": "code",
   "execution_count": null,
   "id": "bb6f6ccf",
   "metadata": {},
   "outputs": [],
   "source": [
    "fin = fin.set_index('uu_id')\n",
    "X = fin.drop(['total_claims'],axis=1)\n",
    "Y=fin['total_claims']\n",
    "#X_train, X_test, y_train, y_test = train_test_split(fin.ix[:, ~fin.columns.isin(['total_claims'])], fin.total_claims)"
   ]
  },
  {
   "cell_type": "code",
   "execution_count": null,
   "id": "f48c031f",
   "metadata": {},
   "outputs": [],
   "source": [
    "from sklearn.model_selection import train_test_split\n",
    "from sklearn.linear_model import LinearRegression\n",
    "X_train, X_test,Y_train, Y_test = train_test_split(X,Y,test_size = 0.2, random_state=32)"
   ]
  },
  {
   "cell_type": "code",
   "execution_count": null,
   "id": "8975da6e",
   "metadata": {},
   "outputs": [],
   "source": [
    "lm = LinearRegression().fit(X_train,Y_train)\n",
    "prediction = lm.predict(X_test)"
   ]
  },
  {
   "cell_type": "code",
   "execution_count": null,
   "id": "deb441bc",
   "metadata": {},
   "outputs": [],
   "source": [
    "lm.score(X_test, Y_test)"
   ]
  },
  {
   "cell_type": "code",
   "execution_count": null,
   "id": "08f65a0a",
   "metadata": {},
   "outputs": [],
   "source": [
    "final_data1 = final_data.drop(['timeperiod','tract_x','tract_name_x','tract_y','tract_name_y','countyfips_y'],axis=1)"
   ]
  },
  {
   "cell_type": "code",
   "execution_count": null,
   "id": "9b5a967d",
   "metadata": {},
   "outputs": [],
   "source": [
    "fin = pd.get_dummies(final_data1,columns = ['week_number','countyfips_x','top_category_employer1','top_category_employer2','top_category_employer3'])"
   ]
  },
  {
   "cell_type": "code",
   "execution_count": null,
   "id": "17c82040",
   "metadata": {},
   "outputs": [],
   "source": [
    "X = fin.drop(['uu_id','total_claims'],axis=1)\n",
    "Y=fin['total_claims']"
   ]
  },
  {
   "cell_type": "code",
   "execution_count": null,
   "id": "bb7bde80",
   "metadata": {},
   "outputs": [],
   "source": [
    "from sklearn.model_selection import train_test_split\n",
    "from sklearn.linear_model import LinearRegression\n",
    "X_train, X_test,Y_train, Y_test = train_test_split(X,Y,test_size = 0.2, random_state=32)"
   ]
  },
  {
   "cell_type": "code",
   "execution_count": null,
   "id": "829b8e1b",
   "metadata": {},
   "outputs": [],
   "source": [
    "lm = LinearRegression().fit(X_train,Y_train)\n",
    "prediction = lm.predict(X_test)"
   ]
  },
  {
   "cell_type": "code",
   "execution_count": null,
   "id": "fceb0262",
   "metadata": {},
   "outputs": [],
   "source": [
    "lm.score(X_test, Y_test)"
   ]
  },
  {
   "cell_type": "code",
   "execution_count": null,
   "id": "5c8b87fd",
   "metadata": {},
   "outputs": [],
   "source": [
    "final_data = unemp_data.merge(wage_data,how='left', on = 'uu_id')"
   ]
  },
  {
   "cell_type": "code",
   "execution_count": null,
   "id": "f92eeb40",
   "metadata": {},
   "outputs": [],
   "source": [
    "final_data.info()"
   ]
  },
  {
   "cell_type": "code",
   "execution_count": null,
   "id": "836c4730",
   "metadata": {},
   "outputs": [],
   "source": [
    "final_data1 = final_data.drop(['timeperiod','tract_x','tract_name_x','tract_y','tract_name_y','countyfips_y'],axis=1)"
   ]
  },
  {
   "cell_type": "code",
   "execution_count": null,
   "id": "961b4c46",
   "metadata": {},
   "outputs": [],
   "source": [
    "fin = pd.get_dummies(final_data1,columns = ['week_number','countyfips_x','top_category_employer1','top_category_employer2','top_category_employer3'])"
   ]
  },
  {
   "cell_type": "code",
   "execution_count": null,
   "id": "1abbc6bc",
   "metadata": {},
   "outputs": [],
   "source": [
    "X = fin.drop(['uu_id','total_claims'],axis=1)\n",
    "Y=fin['total_claims']"
   ]
  },
  {
   "cell_type": "code",
   "execution_count": null,
   "id": "7cf430e8",
   "metadata": {},
   "outputs": [],
   "source": [
    "X = fin.drop(['uu_id','total_claims'],axis=1)\n",
    "Y=fin[['total_claims']]"
   ]
  },
  {
   "cell_type": "code",
   "execution_count": null,
   "id": "7e3a6a9c",
   "metadata": {},
   "outputs": [],
   "source": [
    "from sklearn.model_selection import train_test_split\n",
    "from sklearn.linear_model import LinearRegression\n",
    "X_train, X_test,Y_train, Y_test = train_test_split(X,Y,test_size = 0.2, random_state=32)"
   ]
  },
  {
   "cell_type": "code",
   "execution_count": null,
   "id": "f9f00ae3",
   "metadata": {},
   "outputs": [],
   "source": [
    "lm = LinearRegression().fit(X_train,Y_train)\n",
    "prediction = lm.predict(X_test)"
   ]
  },
  {
   "cell_type": "code",
   "execution_count": null,
   "id": "f6400862",
   "metadata": {},
   "outputs": [],
   "source": [
    "lm.score(X_test, Y_test)"
   ]
  },
  {
   "cell_type": "code",
   "execution_count": null,
   "id": "24f8da31",
   "metadata": {},
   "outputs": [],
   "source": [
    "X = fin.drop(['uu_id','total_claims'],axis=1)\n",
    "Y=fin['total_claims']"
   ]
  },
  {
   "cell_type": "code",
   "execution_count": null,
   "id": "da78e87a",
   "metadata": {},
   "outputs": [],
   "source": [
    "from sklearn.model_selection import train_test_split\n",
    "from sklearn.linear_model import LinearRegression\n",
    "X_train, X_test,Y_train, Y_test = train_test_split(X,Y,test_size = 0.2, random_state=32)"
   ]
  },
  {
   "cell_type": "code",
   "execution_count": null,
   "id": "91586386",
   "metadata": {},
   "outputs": [],
   "source": [
    "lm = LinearRegression().fit(X_train,Y_train)\n",
    "prediction = lm.predict(X_test)"
   ]
  },
  {
   "cell_type": "code",
   "execution_count": null,
   "id": "ad234c15",
   "metadata": {},
   "outputs": [],
   "source": [
    "lm.score(X_test, Y_test)"
   ]
  },
  {
   "cell_type": "code",
   "execution_count": null,
   "id": "b075928e",
   "metadata": {},
   "outputs": [],
   "source": [
    "import xgboost as xgb\n",
    "model = xgb.XGBRegressor(n_estimators=500, max_depth=4,eta=0.1).fit(X_train,Y_train)\n",
    "y_pred = model.predict(X_test)"
   ]
  },
  {
   "cell_type": "code",
   "execution_count": null,
   "id": "f75cda13",
   "metadata": {},
   "outputs": [],
   "source": [
    "model.score(X_test, Y_test)"
   ]
  },
  {
   "cell_type": "code",
   "execution_count": null,
   "id": "68088917",
   "metadata": {},
   "outputs": [],
   "source": [
    "df_pred_final = pred_data[['uu_id']]\n",
    "df_pred_final['week_number'] = pred_data[['week_number']]\n",
    "df_pred_final[\"total_claims\"] = y_pred"
   ]
  },
  {
   "cell_type": "code",
   "execution_count": null,
   "id": "74c9daf9",
   "metadata": {},
   "outputs": [],
   "source": [
    "Y_test_final = pred_data.merge(fin,how='left',on= 'uu_id')"
   ]
  },
  {
   "cell_type": "code",
   "execution_count": null,
   "id": "bbe4668d",
   "metadata": {},
   "outputs": [],
   "source": [
    "Y_test_final"
   ]
  },
  {
   "cell_type": "code",
   "execution_count": null,
   "id": "b4c82fcc",
   "metadata": {},
   "outputs": [],
   "source": [
    "Y_test_final = pred_data.merge(fin,how='inner',on= 'uu_id')"
   ]
  },
  {
   "cell_type": "code",
   "execution_count": null,
   "id": "4a5a4adf",
   "metadata": {},
   "outputs": [],
   "source": [
    "Y_test_final"
   ]
  },
  {
   "cell_type": "code",
   "execution_count": null,
   "id": "4e438602",
   "metadata": {},
   "outputs": [],
   "source": [
    "Y_test_final"
   ]
  },
  {
   "cell_type": "code",
   "execution_count": null,
   "id": "a460bf0b",
   "metadata": {},
   "outputs": [],
   "source": [
    "Y_test_final = pred_data.merge(fin,how='right',on= 'uu_id')"
   ]
  },
  {
   "cell_type": "code",
   "execution_count": null,
   "id": "4074c412",
   "metadata": {},
   "outputs": [],
   "source": [
    "Y_test_final"
   ]
  },
  {
   "cell_type": "code",
   "execution_count": null,
   "id": "070ebd55",
   "metadata": {},
   "outputs": [],
   "source": [
    "Y_test_final = pred_data.merge(fin,how='left',on= 'uu_id')"
   ]
  },
  {
   "cell_type": "code",
   "execution_count": null,
   "id": "4589e4d1",
   "metadata": {},
   "outputs": [],
   "source": [
    "Y_test_final"
   ]
  },
  {
   "cell_type": "code",
   "execution_count": null,
   "id": "b831159a",
   "metadata": {},
   "outputs": [],
   "source": [
    "df_test = fin[fin.uu_id == i for i in pred_data['uu_id']]\n",
    "df_test"
   ]
  },
  {
   "cell_type": "code",
   "execution_count": null,
   "id": "6bfb8318",
   "metadata": {},
   "outputs": [],
   "source": [
    "Y_test_final = pred_data.join(fin)"
   ]
  },
  {
   "cell_type": "code",
   "execution_count": null,
   "id": "8fd1a1f2",
   "metadata": {},
   "outputs": [],
   "source": [
    "final_data1 = final_data.drop(['timeperiod','tract_x','tract_name_x','tract_y','tract_name_y','countyfips_y'],axis=1)"
   ]
  },
  {
   "cell_type": "code",
   "execution_count": null,
   "id": "e7e73be7",
   "metadata": {},
   "outputs": [],
   "source": [
    "fin = pd.get_dummies(final_data1,columns = ['week_number','countyfips_x','top_category_employer1','top_category_employer2','top_category_employer3'])"
   ]
  },
  {
   "cell_type": "code",
   "execution_count": null,
   "id": "be3a5de4",
   "metadata": {},
   "outputs": [],
   "source": [
    "Y_test_final = pred_data.join(fin)"
   ]
  },
  {
   "cell_type": "code",
   "execution_count": null,
   "id": "bb357aeb",
   "metadata": {},
   "outputs": [],
   "source": [
    "Y_test_final = pred_data.merge(fin,how='left',on = 'uu_id')"
   ]
  },
  {
   "cell_type": "code",
   "execution_count": null,
   "id": "a8f89d2e",
   "metadata": {},
   "outputs": [],
   "source": [
    "Y_test_final"
   ]
  },
  {
   "cell_type": "code",
   "execution_count": null,
   "id": "c5905317",
   "metadata": {},
   "outputs": [],
   "source": [
    "pred_data = pred_data.set_index('uu_id')\n",
    "fin = fin.set_index('uu_id)\n",
    "Y_test_final = pred_data.join(fin)"
   ]
  },
  {
   "cell_type": "code",
   "execution_count": null,
   "id": "91d7b78e",
   "metadata": {},
   "outputs": [],
   "source": [
    "pred_data = pred_data.set_index('uu_id')\n",
    "fin = fin.set_index('uu_id')\n",
    "Y_test_final = pred_data.join(fin)"
   ]
  },
  {
   "cell_type": "code",
   "execution_count": null,
   "id": "84521afa",
   "metadata": {},
   "outputs": [],
   "source": [
    "Y_test_final"
   ]
  },
  {
   "cell_type": "code",
   "execution_count": null,
   "id": "a32d17fd",
   "metadata": {},
   "outputs": [],
   "source": [
    "X = fin.drop(['uu_id','total_claims'],axis=1)\n",
    "Y=fin['total_claims']"
   ]
  },
  {
   "cell_type": "code",
   "execution_count": null,
   "id": "17770189",
   "metadata": {},
   "outputs": [],
   "source": [
    "final_data1 = final_data.drop(['timeperiod','tract_x','tract_name_x','tract_y','tract_name_y','countyfips_y'],axis=1)"
   ]
  },
  {
   "cell_type": "code",
   "execution_count": null,
   "id": "04a33714",
   "metadata": {},
   "outputs": [],
   "source": [
    "fin = pd.get_dummies(final_data1,columns = ['week_number','countyfips_x','top_category_employer1','top_category_employer2','top_category_employer3'])"
   ]
  },
  {
   "cell_type": "code",
   "execution_count": null,
   "id": "38e314d0",
   "metadata": {},
   "outputs": [],
   "source": [
    "X = fin.drop(['uu_id','total_claims'],axis=1)\n",
    "Y=fin['total_claims']"
   ]
  },
  {
   "cell_type": "code",
   "execution_count": null,
   "id": "505d446d",
   "metadata": {},
   "outputs": [],
   "source": [
    "from sklearn.model_selection import train_test_split\n",
    "X_train, X_test,Y_train, Y_test = train_test_split(X,Y,test_size = 0.2, random_state=32)"
   ]
  },
  {
   "cell_type": "code",
   "execution_count": null,
   "id": "70ff13cd",
   "metadata": {},
   "outputs": [],
   "source": [
    "import xgboost as xgb\n",
    "model = xgb.XGBRegressor(n_estimators=500, max_depth=4,eta=0.1).fit(X_train,Y_train)\n",
    "y_pred = model.predict(X_test)"
   ]
  },
  {
   "cell_type": "code",
   "execution_count": null,
   "id": "585e834d",
   "metadata": {},
   "outputs": [],
   "source": [
    "df_test = pred_data.merge(fin,how='left',on= 'uu_id')"
   ]
  },
  {
   "cell_type": "code",
   "execution_count": null,
   "id": "0c2c72fc",
   "metadata": {},
   "outputs": [],
   "source": [
    "X_df_test = df_test.drop(['uu_id','total_claims'],axis=1)\n",
    "Y_df_test = df_test['total_claims']"
   ]
  },
  {
   "cell_type": "code",
   "execution_count": null,
   "id": "8add95dd",
   "metadata": {},
   "outputs": [],
   "source": [
    "prediction = model.predict(X_df_test)"
   ]
  },
  {
   "cell_type": "code",
   "execution_count": null,
   "id": "96428253",
   "metadata": {},
   "outputs": [],
   "source": [
    "df_test"
   ]
  },
  {
   "cell_type": "code",
   "execution_count": null,
   "id": "3a999c27",
   "metadata": {},
   "outputs": [],
   "source": [
    "final_data1 = final_data.drop(['timeperiod','tract_x','tract_name_x','tract_y','tract_name_y','countyfips_y','week_number'],axis=1)"
   ]
  },
  {
   "cell_type": "code",
   "execution_count": null,
   "id": "395bd6fb",
   "metadata": {},
   "outputs": [],
   "source": [
    "fin = pd.get_dummies(final_data1,columns = ['countyfips_x','top_category_employer1','top_category_employer2','top_category_employer3'])"
   ]
  },
  {
   "cell_type": "code",
   "execution_count": null,
   "id": "5818546c",
   "metadata": {},
   "outputs": [],
   "source": [
    "X = fin.drop(['uu_id','total_claims'],axis=1)\n",
    "Y=fin['total_claims']"
   ]
  },
  {
   "cell_type": "code",
   "execution_count": null,
   "id": "33176d72",
   "metadata": {},
   "outputs": [],
   "source": [
    "from sklearn.model_selection import train_test_split\n",
    "X_train, X_test,Y_train, Y_test = train_test_split(X,Y,test_size = 0.2, random_state=32)"
   ]
  },
  {
   "cell_type": "code",
   "execution_count": null,
   "id": "3001646c",
   "metadata": {},
   "outputs": [],
   "source": [
    "import xgboost as xgb\n",
    "model = xgb.XGBRegressor(n_estimators=500, max_depth=4,eta=0.1).fit(X_train,Y_train)\n",
    "y_pred = model.predict(X_test)"
   ]
  },
  {
   "cell_type": "code",
   "execution_count": null,
   "id": "8959bb92",
   "metadata": {},
   "outputs": [],
   "source": [
    "model.score(X_test, Y_test)"
   ]
  },
  {
   "cell_type": "code",
   "execution_count": null,
   "id": "554e445b",
   "metadata": {},
   "outputs": [],
   "source": [
    "df_test = pred_data.merge(fin,how='left',on= 'uu_id')"
   ]
  },
  {
   "cell_type": "code",
   "execution_count": null,
   "id": "eda85557",
   "metadata": {},
   "outputs": [],
   "source": [
    "X_df_test = df_test.drop(['uu_id','week_number','total_claims'],axis=1)\n",
    "Y_df_test = df_test['total_claims']"
   ]
  },
  {
   "cell_type": "code",
   "execution_count": null,
   "id": "81a3ecba",
   "metadata": {},
   "outputs": [],
   "source": [
    "prediction = model.predict(X_df_test)"
   ]
  },
  {
   "cell_type": "code",
   "execution_count": null,
   "id": "72f3c452",
   "metadata": {},
   "outputs": [],
   "source": [
    "model.score(X_df_test,Y_df_test)"
   ]
  },
  {
   "cell_type": "code",
   "execution_count": null,
   "id": "674b7a1c",
   "metadata": {},
   "outputs": [],
   "source": [
    "df_pred_final = pred_data[['uu_id']]\n",
    "df_pred_final['week_number'] = pred_data[['week_number']]\n",
    "df_pred_final[\"total_claims\"] = prediction"
   ]
  },
  {
   "cell_type": "code",
   "execution_count": null,
   "id": "71170d58",
   "metadata": {},
   "outputs": [],
   "source": [
    "df_pred_final = pred_data[['uu_id']]"
   ]
  },
  {
   "cell_type": "code",
   "execution_count": null,
   "id": "49db6edd",
   "metadata": {},
   "outputs": [],
   "source": [
    "df_pred_final = pred_data['uu_id']"
   ]
  },
  {
   "cell_type": "code",
   "execution_count": null,
   "id": "a8e29eda",
   "metadata": {},
   "outputs": [],
   "source": [
    "df_pred_final['uu_id'] = pred_data['uu_id']"
   ]
  },
  {
   "cell_type": "code",
   "execution_count": null,
   "id": "d3e0e885",
   "metadata": {},
   "outputs": [],
   "source": [
    "df_pred_final['uu_id'] = pred_data[['uu_id']]"
   ]
  },
  {
   "cell_type": "code",
   "execution_count": null,
   "id": "bc53701d",
   "metadata": {},
   "outputs": [],
   "source": [
    "df_pred_final1['uu_id'] = pred_data[['uu_id']]"
   ]
  },
  {
   "cell_type": "code",
   "execution_count": null,
   "id": "4d00abd7",
   "metadata": {},
   "outputs": [],
   "source": [
    "df_pred_final2 = pred_data[['uu_id']]"
   ]
  },
  {
   "cell_type": "code",
   "execution_count": null,
   "id": "dd3dbe0c",
   "metadata": {},
   "outputs": [],
   "source": [
    "df_pred_final['week_number'] = pred_data[['week_number']]\n",
    "df_pred_final[\"total_claims\"] = prediction"
   ]
  },
  {
   "cell_type": "code",
   "execution_count": null,
   "id": "093f50d3",
   "metadata": {},
   "outputs": [],
   "source": [
    "df_pred_final_yams = pred_data[['uu_id']]"
   ]
  },
  {
   "cell_type": "code",
   "execution_count": null,
   "id": "feceb207",
   "metadata": {},
   "outputs": [],
   "source": [
    "df_pred_final_yams == pred_data[['uu_id']]"
   ]
  },
  {
   "cell_type": "code",
   "execution_count": null,
   "id": "5a23f074",
   "metadata": {},
   "outputs": [],
   "source": [
    "df_pred_final_yams=[]\n",
    "df_pred_final_yams == pred_data[['uu_id']]"
   ]
  },
  {
   "cell_type": "code",
   "execution_count": null,
   "id": "34140ee0",
   "metadata": {},
   "outputs": [],
   "source": [
    "df_pred_final_1 = df_test[['uu_id']]"
   ]
  },
  {
   "cell_type": "code",
   "execution_count": null,
   "id": "65af7820",
   "metadata": {},
   "outputs": [],
   "source": [
    "df_pred_final_1['week_number'] = df_test[['week_number']]"
   ]
  },
  {
   "cell_type": "code",
   "execution_count": null,
   "id": "576d6370",
   "metadata": {},
   "outputs": [],
   "source": [
    "df_pred_final_1['total_claims'] = prediction"
   ]
  },
  {
   "cell_type": "code",
   "execution_count": null,
   "id": "87e1ba64",
   "metadata": {},
   "outputs": [],
   "source": [
    "df_pred_final_1"
   ]
  },
  {
   "cell_type": "code",
   "execution_count": null,
   "id": "0f8f12ea",
   "metadata": {},
   "outputs": [],
   "source": [
    "df_final = df_pred_final_1.drop_duplicates(subset=['uu_id'])"
   ]
  },
  {
   "cell_type": "code",
   "execution_count": null,
   "id": "6ed22e65",
   "metadata": {},
   "outputs": [],
   "source": [
    "df_final"
   ]
  },
  {
   "cell_type": "code",
   "execution_count": null,
   "id": "49909d30",
   "metadata": {},
   "outputs": [],
   "source": [
    "fin.shape"
   ]
  },
  {
   "cell_type": "code",
   "execution_count": null,
   "id": "f357f442",
   "metadata": {},
   "outputs": [],
   "source": [
    "get_ipython().run_cell_magic('capture', '', \"%logstop\\n%logstart -t -r -q ipython_command_log.py global\\n\\n#- IRONHACKS RESEARCH TRACKING CODE\\n#----------------------------------\\n# The following code is used to help our research team understand how you \\n# our notebook environment. We do not collect any personal information with\\n# the following code, it is used to measure when and how often you work on\\n# your submission files.\\n\\nimport os\\nfrom datetime import datetime\\nimport IPython.core.history as history\\n\\nha = history.HistoryAccessor()\\nha_tail = ha.get_tail(1)\\nha_cmd = next(ha_tail)\\nsession_id = str(ha_cmd[0])\\ncommand_id = str(ha_cmd[1])\\ntimestamp = datetime.utcnow().isoformat()\\nhistory_line = ','.join([session_id, command_id, timestamp]) + '\\\\n'\\nlogfile = open(os.environ['HOME']+'/ipython_session_log.csv', 'a')\\nlogfile.write(history_line)\\nlogfile.close()\\n\")"
   ]
  },
  {
   "cell_type": "code",
   "execution_count": null,
   "id": "b8da2016",
   "metadata": {},
   "outputs": [],
   "source": [
    "df_final.to_csv('submission_prediction_output.csv')"
   ]
  },
  {
   "cell_type": "code",
   "execution_count": null,
   "id": "399e964b",
   "metadata": {
    "lines_to_next_cell": 2
   },
   "outputs": [],
   "source": [
    "get_ipython().run_cell_magic('capture', '', \"%logstop\\n%logstart -t -r -q ipython_command_log.py global\\n\\n#- IRONHACKS RESEARCH TRACKING CODE\\n#----------------------------------\\n# The following code is used to help our research team understand how you \\n# our notebook environment. We do not collect any personal information with\\n# the following code, it is used to measure when and how often you work on\\n# your submission files.\\n\\nimport os\\nfrom datetime import datetime\\nimport IPython.core.history as history\\n\\nha = history.HistoryAccessor()\\nha_tail = ha.get_tail(1)\\nha_cmd = next(ha_tail)\\nsession_id = str(ha_cmd[0])\\ncommand_id = str(ha_cmd[1])\\ntimestamp = datetime.utcnow().isoformat()\\nhistory_line = ','.join([session_id, command_id, timestamp]) + '\\\\n'\\nlogfile = open(os.environ['HOME']+'/ipython_session_log.csv', 'a')\\nlogfile.write(history_line)\\nlogfile.close()\\n\")"
   ]
  }
 ],
 "metadata": {
  "jupytext": {
   "cell_metadata_filter": "-all",
   "main_language": "python",
   "notebook_metadata_filter": "-all"
  }
 },
 "nbformat": 4,
 "nbformat_minor": 5
}
