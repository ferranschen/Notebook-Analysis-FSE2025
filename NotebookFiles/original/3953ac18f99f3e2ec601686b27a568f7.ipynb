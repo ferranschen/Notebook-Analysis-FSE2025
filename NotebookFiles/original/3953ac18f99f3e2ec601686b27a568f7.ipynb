{
 "cells": [
  {
   "cell_type": "code",
   "execution_count": null,
   "id": "0c3069e5",
   "metadata": {},
   "outputs": [],
   "source": [
    "get_ipython().run_cell_magic('capture', '', \"%logstop\\n%logstart -t -r -q ipython_command_log.py global\\n\\n#- IRONHACKS RESEARCH TRACKING CODE\\n#----------------------------------\\n# The following code is used to help our research team understand how you \\n# our notebook environment. We do not collect any personal information with\\n# the following code, it is used to measure when and how often you work on\\n# your submission files.\\n\\nimport os\\nfrom datetime import datetime\\nimport IPython.core.history as history\\n\\nha = history.HistoryAccessor()\\nha_tail = ha.get_tail(1)\\nha_cmd = next(ha_tail)\\nsession_id = str(ha_cmd[0])\\ncommand_id = str(ha_cmd[1])\\ntimestamp = datetime.utcnow().isoformat()\\nhistory_line = ','.join([session_id, command_id, timestamp]) + '\\\\n'\\nlogfile = open(os.environ['HOME']+'/ipython_session_log.csv', 'a')\\nlogfile.write(history_line)\\nlogfile.close()\\n\")"
   ]
  },
  {
   "cell_type": "code",
   "execution_count": null,
   "id": "ede63186",
   "metadata": {},
   "outputs": [],
   "source": [
    "get_ipython().run_cell_magic('capture', '', \"\\n#- INSTALL ADDITIONAL LIBRARIES IF REQUIRED\\n#------------------------------------------\\n# This is normally not required. The hub environment comes preinstaled with \\n# many packages that you can already use without setup. In case there is some\\n# other library you would like to use that isn't on the list you run this command\\n# once to install them.  If it is already installed this command has no effect.\\n!pip install db-dtypes\\n!python3 -m pip install pandas\\n!pip install pycaret\\n\")"
   ]
  },
  {
   "cell_type": "markdown",
   "id": "3a089ce5",
   "metadata": {},
   "source": [
    "- IMPORT THE LIBRARIES YOU WILL USE\n",
    "------------------------------------------\n",
    "You only need to import packages one time per notebook session. To keep your\n",
    "notebook clean and organized you can handle all imports at the top of your file.\n",
    "The following are included for example purposed, feel free to modify or delete \n",
    "anything in this section."
   ]
  },
  {
   "cell_type": "code",
   "execution_count": null,
   "id": "81788605",
   "metadata": {},
   "outputs": [],
   "source": [
    "import csv\n",
    "import pandas as pd\n",
    "import numpy as np\n",
    "from google.cloud import bigquery\n",
    "from google.oauth2 import service_account\n",
    "from google.cloud.bigquery import magics\n",
    "import statsmodels.api as sm\n",
    "import math\n",
    "from tqdm import tqdm\n",
    "from pycaret.regression import *"
   ]
  },
  {
   "cell_type": "code",
   "execution_count": null,
   "id": "9819656a",
   "metadata": {},
   "outputs": [],
   "source": [
    "%%capture"
   ]
  },
  {
   "cell_type": "code",
   "execution_count": null,
   "id": "6ea85f8f",
   "metadata": {},
   "outputs": [],
   "source": [
    "#- INSTALL ADDITIONAL LIBRARIES IF REQUIRED\n",
    "#------------------------------------------\n",
    "# This is normally not required. The hub environment comes preinstaled with \n",
    "# many packages that you can already use without setup. In case there is some\n",
    "# other library you would like to use that isn't on the list you run this command\n",
    "# once to install them.  If it is already installed this command has no effect.\n",
    "get_ipython().system('pip install db-dtypes')\n",
    "get_ipython().system('python3 -m pip install pandas')\n",
    "get_ipython().system('pip install pycaret')"
   ]
  },
  {
   "cell_type": "code",
   "execution_count": null,
   "id": "75bd2c32",
   "metadata": {},
   "outputs": [],
   "source": [
    "%%capture"
   ]
  },
  {
   "cell_type": "code",
   "execution_count": null,
   "id": "b413e560",
   "metadata": {},
   "outputs": [],
   "source": [
    "#- INSTALL ADDITIONAL LIBRARIES IF REQUIRED\n",
    "#------------------------------------------\n",
    "# This is normally not required. The hub environment comes preinstaled with \n",
    "# many packages that you can already use without setup. In case there is some\n",
    "# other library you would like to use that isn't on the list you run this command\n",
    "# once to install them.  If it is already installed this command has no effect.\n",
    "get_ipython().system('pip install db-dtypes')\n",
    "get_ipython().system('python3 -m pip install pandas')\n",
    "get_ipython().system('pip install --pre pycaret')"
   ]
  },
  {
   "cell_type": "code",
   "execution_count": null,
   "id": "d659036f",
   "metadata": {},
   "outputs": [],
   "source": [
    "%%capture"
   ]
  },
  {
   "cell_type": "code",
   "execution_count": null,
   "id": "a6e7f360",
   "metadata": {},
   "outputs": [],
   "source": [
    "#- INSTALL ADDITIONAL LIBRARIES IF REQUIRED\n",
    "#------------------------------------------\n",
    "# This is normally not required. The hub environment comes preinstaled with \n",
    "# many packages that you can already use without setup. In case there is some\n",
    "# other library you would like to use that isn't on the list you run this command\n",
    "# once to install them.  If it is already installed this command has no effect.\n",
    "get_ipython().system('pip install db-dtypes')\n",
    "get_ipython().system('python3 -m pip install pandas')\n",
    "get_ipython().system('python3 -m pip install --pre pycaret')"
   ]
  },
  {
   "cell_type": "markdown",
   "id": "454bc159",
   "metadata": {},
   "source": [
    "- IMPORT THE LIBRARIES YOU WILL USE\n",
    "------------------------------------------\n",
    "You only need to import packages one time per notebook session. To keep your\n",
    "notebook clean and organized you can handle all imports at the top of your file.\n",
    "The following are included for example purposed, feel free to modify or delete \n",
    "anything in this section."
   ]
  },
  {
   "cell_type": "code",
   "execution_count": null,
   "id": "593c6454",
   "metadata": {},
   "outputs": [],
   "source": [
    "import csv\n",
    "import pandas as pd\n",
    "import numpy as np\n",
    "from google.cloud import bigquery\n",
    "from google.oauth2 import service_account\n",
    "from google.cloud.bigquery import magics\n",
    "import statsmodels.api as sm\n",
    "import math\n",
    "from tqdm import tqdm\n",
    "from pycaret.regression import *"
   ]
  },
  {
   "cell_type": "code",
   "execution_count": null,
   "id": "0eecfea8",
   "metadata": {},
   "outputs": [],
   "source": [
    "get_ipython().run_cell_magic('capture', '', \"\\n#- INSTALL ADDITIONAL LIBRARIES IF REQUIRED\\n#------------------------------------------\\n# This is normally not required. The hub environment comes preinstaled with \\n# many packages that you can already use without setup. In case there is some\\n# other library you would like to use that isn't on the list you run this command\\n# once to install them.  If it is already installed this command has no effect.\\n!pip install db-dtypes\\n!python3 -m pip install pandas\\n\")"
   ]
  },
  {
   "cell_type": "markdown",
   "id": "ca00653a",
   "metadata": {},
   "source": [
    "- IMPORT THE LIBRARIES YOU WILL USE\n",
    "------------------------------------------\n",
    "You only need to import packages one time per notebook session. To keep your\n",
    "notebook clean and organized you can handle all imports at the top of your file.\n",
    "The following are included for example purposed, feel free to modify or delete \n",
    "anything in this section."
   ]
  },
  {
   "cell_type": "code",
   "execution_count": null,
   "id": "3af82308",
   "metadata": {},
   "outputs": [],
   "source": [
    "import csv\n",
    "import pandas as pd\n",
    "import numpy as np\n",
    "from google.cloud import bigquery\n",
    "from google.oauth2 import service_account\n",
    "from google.cloud.bigquery import magics\n",
    "import statsmodels.api as sm\n",
    "import math"
   ]
  },
  {
   "cell_type": "code",
   "execution_count": null,
   "id": "45c0e5db",
   "metadata": {},
   "outputs": [],
   "source": [
    "%%capture"
   ]
  },
  {
   "cell_type": "code",
   "execution_count": null,
   "id": "3b5d6759",
   "metadata": {},
   "outputs": [],
   "source": [
    "#- INSTALL ADDITIONAL LIBRARIES IF REQUIRED\n",
    "#------------------------------------------\n",
    "# This is normally not required. The hub environment comes preinstaled with \n",
    "# many packages that you can already use without setup. In case there is some\n",
    "# other library you would like to use that isn't on the list you run this command\n",
    "# once to install them.  If it is already installed this command has no effect.\n",
    "get_ipython().system('pip install db-dtypes')\n",
    "get_ipython().system('python3 -m pip install pandas')\n",
    "get_ipython().system('python3 -m pip install --pre pycaret')"
   ]
  },
  {
   "cell_type": "code",
   "execution_count": null,
   "id": "12899875",
   "metadata": {},
   "outputs": [],
   "source": [
    "%%capture"
   ]
  },
  {
   "cell_type": "code",
   "execution_count": null,
   "id": "9c57d717",
   "metadata": {},
   "outputs": [],
   "source": [
    "#- INSTALL ADDITIONAL LIBRARIES IF REQUIRED\n",
    "#------------------------------------------\n",
    "# This is normally not required. The hub environment comes preinstaled with \n",
    "# many packages that you can already use without setup. In case there is some\n",
    "# other library you would like to use that isn't on the list you run this command\n",
    "# once to install them.  If it is already installed this command has no effect.\n",
    "get_ipython().system('pip install db-dtypes')\n",
    "get_ipython().system('python3 -m pip install pandas')\n",
    "get_ipython().system('pip install llvmlite --ignore-installed')\n",
    "get_ipython().system('python3 -m pip install --pre pycaret')"
   ]
  },
  {
   "cell_type": "code",
   "execution_count": null,
   "id": "f9ba2d36",
   "metadata": {},
   "outputs": [],
   "source": [
    "%%capture"
   ]
  },
  {
   "cell_type": "code",
   "execution_count": null,
   "id": "d5d11ffb",
   "metadata": {},
   "outputs": [],
   "source": [
    "#- INSTALL ADDITIONAL LIBRARIES IF REQUIRED\n",
    "#------------------------------------------\n",
    "# This is normally not required. The hub environment comes preinstaled with \n",
    "# many packages that you can already use without setup. In case there is some\n",
    "# other library you would like to use that isn't on the list you run this command\n",
    "# once to install them.  If it is already installed this command has no effect.\n",
    "get_ipython().system('pip install db-dtypes')\n",
    "get_ipython().system('python3 -m pip install pandas')\n",
    "get_ipython().system('pip install llvmlite --ignore-installed')\n",
    "!python3 -m pip install --pre pycaret"
   ]
  },
  {
   "cell_type": "code",
   "execution_count": null,
   "id": "8e4c6451",
   "metadata": {},
   "outputs": [],
   "source": [
    "%%capture"
   ]
  },
  {
   "cell_type": "code",
   "execution_count": null,
   "id": "28e05029",
   "metadata": {},
   "outputs": [],
   "source": [
    "#- INSTALL ADDITIONAL LIBRARIES IF REQUIRED\n",
    "#------------------------------------------\n",
    "# This is normally not required. The hub environment comes preinstaled with \n",
    "# many packages that you can already use without setup. In case there is some\n",
    "# other library you would like to use that isn't on the list you run this command\n",
    "# once to install them.  If it is already installed this command has no effect.\n",
    "get_ipython().system('pip install db-dtypes')\n",
    "get_ipython().system('python3 -m pip install pandas')\n",
    "!pip install llvmlite --ignore-installed\n",
    "get_ipython().system('pip install --pre pycaret')"
   ]
  },
  {
   "cell_type": "code",
   "execution_count": null,
   "id": "be80f528",
   "metadata": {},
   "outputs": [],
   "source": [
    "get_ipython().run_cell_magic('capture', '', \"\\n#- INSTALL ADDITIONAL LIBRARIES IF REQUIRED\\n#------------------------------------------\\n# This is normally not required. The hub environment comes preinstaled with \\n# many packages that you can already use without setup. In case there is some\\n# other library you would like to use that isn't on the list you run this command\\n# once to install them.  If it is already installed this command has no effect.\\n!pip install db-dtypes\\n!python3 -m pip install pandas\\n\")"
   ]
  },
  {
   "cell_type": "markdown",
   "id": "b1528427",
   "metadata": {},
   "source": [
    "- IMPORT THE LIBRARIES YOU WILL USE\n",
    "------------------------------------------\n",
    "You only need to import packages one time per notebook session. To keep your\n",
    "notebook clean and organized you can handle all imports at the top of your file.\n",
    "The following are included for example purposed, feel free to modify or delete \n",
    "anything in this section."
   ]
  },
  {
   "cell_type": "code",
   "execution_count": null,
   "id": "87f144da",
   "metadata": {},
   "outputs": [],
   "source": [
    "import csv\n",
    "import pandas as pd\n",
    "import numpy as np\n",
    "from google.cloud import bigquery\n",
    "from google.oauth2 import service_account\n",
    "from google.cloud.bigquery import magics\n",
    "import statsmodels.api as sm\n",
    "import math"
   ]
  },
  {
   "cell_type": "markdown",
   "id": "de2d71d9",
   "metadata": {
    "lines_to_next_cell": 2
   },
   "source": [
    "- DEFINE YOUR CLASSES AND FUNCTIONS \n",
    "-----------------------------------\n",
    "This is not required, but is helpful in keeping your notebook organized. \n",
    "You can use the following cell or several cells to define your functions\n",
    "and classes to keep them separate from your analysis or results code.\n",
    "In general it useful to define your methods in a separate cell from where\n",
    "it is run."
   ]
  },
  {
   "cell_type": "code",
   "execution_count": null,
   "id": "4c4f1169",
   "metadata": {
    "lines_to_next_cell": 1
   },
   "outputs": [],
   "source": [
    "def dataExplore(data):\n",
    "    '''\n",
    "    Explore dataframe\n",
    "    '''\n",
    "    print(\"# of observations: \", data.shape[0])\n",
    "    for col in data.columns:\n",
    "        if col in [\"uu_id\", \"timeperiod\", \"week_number\", \"countyfips\", \"tract\", \"tract_name\", \"date\"]:\n",
    "            print(\"# of %s: %s\" % (col, len(pd.unique(data[col]))))\n",
    "        else:\n",
    "            print(\"Unique value of %s: %s\" % (col, pd.unique(data[col])))"
   ]
  },
  {
   "cell_type": "code",
   "execution_count": null,
   "id": "84a50f8b",
   "metadata": {},
   "outputs": [],
   "source": [
    "def dataBalanceCheck(data):\n",
    "    '''\n",
    "    Check the balance of data frame\n",
    "    '''\n",
    "    unbalance_count = 0\n",
    "    print(\"# of observations in complete time series: \", len(pd.unique(data[\"week_number\"])))\n",
    "    for id in pd.unique(data[\"uu_id\"]):\n",
    "        if len(data[data[\"uu_id\"] == id]) <  len(pd.unique(data[\"week_number\"])):\n",
    "            print(id, len(data[data[\"uu_id\"] == id]))\n",
    "            unbalance_count += 1\n",
    "    print(\"% of tracts with incomplete time series: \", unbalance_count / len(pd.unique(data[\"uu_id\"]))*100)"
   ]
  },
  {
   "cell_type": "code",
   "execution_count": null,
   "id": "a69ae284",
   "metadata": {
    "lines_to_next_cell": 1
   },
   "outputs": [],
   "source": [
    "def dataFillNa(data, value):\n",
    "    \"\"\"\n",
    "   fill NA with given value in the dataframe\n",
    "    \"\"\"\n",
    "    for col in data.columns:\n",
    "        if col in [\"uu_id\", \"timeperiod\", \"week_number\", \"countyfips\", \"tract\", \"tract_name\", \"date\"]:\n",
    "            pass\n",
    "        elif col in [\"top_category_employer1\", \"top_category_employer2\", \"top_category_employer3\"]:\n",
    "            data[col] = data[col].replace({'N/A':str(value)})\n",
    "        else:\n",
    "            data[col] = data[col].fillna(value)\n",
    "    return(data)"
   ]
  },
  {
   "cell_type": "code",
   "execution_count": null,
   "id": "2a9f72b7",
   "metadata": {
    "lines_to_next_cell": 1
   },
   "outputs": [],
   "source": [
    "def dataIdentifyDWM(data):\n",
    "    '''\n",
    "    Input: # of week. Output: data for the first day, its month and week order in the month\n",
    "    '''\n",
    "    data[\"date\"] = pd.to_datetime(2022 * 1000 + (1+(data[\"week_number\"]-1)*7), format='%Y%j')\n",
    "    data[\"month\"] = pd.DatetimeIndex(data[\"date\"]).month\n",
    "    data[\"weekofmonth\"]= pd.to_numeric(data[\"date\"].dt.day/7)\n",
    "    data['weekofmonth'] = data['weekofmonth'].apply(lambda x: math.ceil(x))\n",
    "    return(data)"
   ]
  },
  {
   "cell_type": "code",
   "execution_count": null,
   "id": "893af8ec",
   "metadata": {
    "lines_to_next_cell": 1
   },
   "outputs": [],
   "source": [
    "def MSPE(s1, s2):\n",
    "    print(\"MSPE: \", sum((s1 - s2)**2)/len(s1))"
   ]
  },
  {
   "cell_type": "code",
   "execution_count": null,
   "id": "3ca846e0",
   "metadata": {
    "lines_to_next_cell": 1
   },
   "outputs": [],
   "source": [
    "def MAPE(s1, s2):\n",
    "    print(\"MAPE: \", sum(abs(s1 - s2))/len(s1))"
   ]
  },
  {
   "cell_type": "code",
   "execution_count": null,
   "id": "e62d4f8f",
   "metadata": {},
   "outputs": [],
   "source": [
    "# Obtain data using BigQuery\n",
    "BIGQUERY_PROJECT = 'ironhacks-data'\n",
    "bigquery_client = bigquery.Client(project=BIGQUERY_PROJECT)"
   ]
  },
  {
   "cell_type": "code",
   "execution_count": null,
   "id": "cdd364cb",
   "metadata": {},
   "outputs": [],
   "source": [
    "query = \"\"\"\n",
    "SELECT\n",
    "a.*,\n",
    "b.average_wage\n",
    "FROM \n",
    "(SELECT \n",
    "*\n",
    "FROM `ironhacks-data.ironhacks_competition.unemployment_data`) a\n",
    "JOIN `ironhacks-data.ironhacks_competition.wage_data` b \n",
    "ON a.uu_id=b.uu_id\n",
    "\"\"\""
   ]
  },
  {
   "cell_type": "code",
   "execution_count": null,
   "id": "ed71a736",
   "metadata": {},
   "outputs": [],
   "source": [
    "query_job = bigquery_client.query(query)\n",
    "data = query_job.to_dataframe()"
   ]
  },
  {
   "cell_type": "code",
   "execution_count": null,
   "id": "5a537251",
   "metadata": {},
   "outputs": [],
   "source": [
    "query_pred = \"\"\"\n",
    "SELECT * FROM `ironhacks-data.ironhacks_competition.prediction_list`\n",
    "\"\"\""
   ]
  },
  {
   "cell_type": "code",
   "execution_count": null,
   "id": "cc3374ce",
   "metadata": {},
   "outputs": [],
   "source": [
    "query_job_pred = bigquery_client.query(query_pred)\n",
    "data_pred_query= query_job_pred.to_dataframe()"
   ]
  },
  {
   "cell_type": "code",
   "execution_count": null,
   "id": "7017d63d",
   "metadata": {},
   "outputs": [],
   "source": [
    "# Further check tracts with average_wage as Nan\n",
    "# I find three tracts with all average_wage as Nan. If I drop these tracts due to Nan value, they cannot be predicted\n",
    "for id in pd.unique(data[data['average_wage'].isna()][\"uu_id\"]):\n",
    "    print(id)\n",
    "    print(\"All value are nan?\", data[data['uu_id'] == id][\"average_wage\"].isnull().all())\n",
    "    print(\"Included in prediction list?\", len(data_pred_query[data_pred_query['uu_id'] == id]) > 0)"
   ]
  },
  {
   "cell_type": "code",
   "execution_count": null,
   "id": "4b969f90",
   "metadata": {},
   "outputs": [],
   "source": [
    "# Explore input data for NA and special values\n",
    "# dataExplore(data)\n",
    "# dataExplore(data_pred_query)\n",
    "data_pred_query.head()"
   ]
  },
  {
   "cell_type": "code",
   "execution_count": null,
   "id": "702b4318",
   "metadata": {},
   "outputs": [],
   "source": [
    "# Explore input data for NA and special values\n",
    "dataExplore(data)\n",
    "# dataExplore(data_pred_query)\n",
    "# data_pred_query.head()"
   ]
  },
  {
   "cell_type": "code",
   "execution_count": null,
   "id": "c2db5de9",
   "metadata": {},
   "outputs": [],
   "source": [
    "# Further check tracts with average_wage as Nan\n",
    "# I find three tracts with all average_wage as Nan. If I drop these tracts due to Nan value, they cannot be predicted\n",
    "for id in pd.unique(data[data['average_wage'].isna()][\"uu_id\"]):\n",
    "    print(id)\n",
    "    print(\"All value are nan?\", data[data['uu_id'] == id][\"average_wage\"].isnull().all())\n",
    "    print(\"Included in prediction list?\", len(data_pred_query[data_pred_query['uu_id'] == id]) > 0)"
   ]
  },
  {
   "cell_type": "code",
   "execution_count": null,
   "id": "75ebce02",
   "metadata": {},
   "outputs": [],
   "source": [
    "# Backup the data before pre-treatment\n",
    "data_backup = data.copy()\n",
    "data_pred_query_backup = data_pred_query.copy()"
   ]
  },
  {
   "cell_type": "code",
   "execution_count": null,
   "id": "6b2b5faf",
   "metadata": {},
   "outputs": [],
   "source": [
    "# Pretreatment: convert week_number to month and week of month, to capture seasonality\n",
    "data = dataIdentifyDWM(data)"
   ]
  },
  {
   "cell_type": "code",
   "execution_count": null,
   "id": "623d677f",
   "metadata": {},
   "outputs": [],
   "source": [
    "# Check if the dataset is a balance panel (all tracts have value for all time periods)\n",
    "# 54% of tracts has less than 35 observations (total number of full time series), indicating it is unbalanced\n",
    "# Even if only checking data afer 2022/6/1, there are still 36% of tracts with incomplete series\n",
    "dataBalanceCheck(data)\n",
    "dataBalanceCheck(data[data[\"date\"] > \"2022-06-01\"])"
   ]
  },
  {
   "cell_type": "code",
   "execution_count": null,
   "id": "0419acdd",
   "metadata": {},
   "outputs": [],
   "source": [
    "# To balance the dataset as panel data\n",
    "data_balance = data.set_index('week_number')\n",
    "data_balance = data_balance.sort_index(ascending=False)\n",
    "data_balance = data_balance.set_index('uu_id',append=True)\n",
    "data_balance = data_balance[~data_balance.index.duplicated(keep='first')]"
   ]
  },
  {
   "cell_type": "code",
   "execution_count": null,
   "id": "aed9dc0c",
   "metadata": {},
   "outputs": [],
   "source": [
    "data_balance = data_balance.reset_index(level=['week_number'])\n",
    "data_balance = (data_balance.set_index('week_number',append=True).reindex(pd.MultiIndex.from_product([data_balance.index.unique(),\n",
    "                                                      range(data_balance.week_number.min(),data_balance.week_number.max()+1)],\n",
    "                                                     names=['uu_id','week_number'])).reset_index(level=1))"
   ]
  },
  {
   "cell_type": "code",
   "execution_count": null,
   "id": "73313b51",
   "metadata": {},
   "outputs": [],
   "source": [
    "data_balance = data_balance.set_index('week_number',append=True)\n",
    "data_balance['total_claims'] = data_balance['total_claims'].fillna(0)\n",
    "data_balance['average_wage'] = data_balance['average_wage'].interpolate(method = \"linear\")"
   ]
  },
  {
   "cell_type": "code",
   "execution_count": null,
   "id": "df0dd2c6",
   "metadata": {},
   "outputs": [],
   "source": [
    "data_balance = data_balance.reset_index(level=['uu_id', \"week_number\"])\n",
    "data_balance = dataIdentifyDWM(data_balance)"
   ]
  },
  {
   "cell_type": "code",
   "execution_count": null,
   "id": "04fccc66",
   "metadata": {},
   "outputs": [],
   "source": [
    "dataBalanceCheck(data_balance)"
   ]
  },
  {
   "cell_type": "code",
   "execution_count": null,
   "id": "b6cecb07",
   "metadata": {},
   "outputs": [],
   "source": [
    "train_week = max(pd.unique(data[\"week_number\"]))"
   ]
  },
  {
   "cell_type": "code",
   "execution_count": null,
   "id": "a6ddb8d8",
   "metadata": {},
   "outputs": [],
   "source": [
    "train_week = max(pd.unique(data[\"week_number\"]))\n",
    "train_week"
   ]
  },
  {
   "cell_type": "code",
   "execution_count": null,
   "id": "cec2f05c",
   "metadata": {},
   "outputs": [],
   "source": [
    "min(pd.unique(data[\"week_number\"]))"
   ]
  },
  {
   "cell_type": "code",
   "execution_count": null,
   "id": "371873a1",
   "metadata": {},
   "outputs": [],
   "source": [
    "int(max(pd.unique(data[\"week_number\"]))*0.8)"
   ]
  },
  {
   "cell_type": "code",
   "execution_count": null,
   "id": "a7159e82",
   "metadata": {},
   "outputs": [],
   "source": [
    "# Split data to training and validaton sets\n",
    "# Max trainweek is 37, use a 80 / 20 rule\n",
    "train_week = int(max(pd.unique(data[\"week_number\"]))*0.8)"
   ]
  },
  {
   "cell_type": "code",
   "execution_count": null,
   "id": "9d1c65be",
   "metadata": {},
   "outputs": [],
   "source": [
    "data_train = data[data[\"week_number\"] < train_week]\n",
    "data_valid = data[data[\"week_number\"] >= train_week]"
   ]
  },
  {
   "cell_type": "code",
   "execution_count": null,
   "id": "edd007ff",
   "metadata": {},
   "outputs": [],
   "source": [
    "data_train_x = data_train.drop(\"total_claims\",1)\n",
    "data_train_y = data_train[\"total_claims\"]"
   ]
  },
  {
   "cell_type": "code",
   "execution_count": null,
   "id": "3592abdb",
   "metadata": {},
   "outputs": [],
   "source": [
    "data_valid_x = data_valid.drop(\"total_claims\",1)\n",
    "data_valid_y = data_valid[\"total_claims\"]"
   ]
  },
  {
   "cell_type": "markdown",
   "id": "545e3675",
   "metadata": {},
   "source": [
    "Also prepare it for balanced dataset"
   ]
  },
  {
   "cell_type": "code",
   "execution_count": null,
   "id": "ee9a49d3",
   "metadata": {},
   "outputs": [],
   "source": [
    "data_balance_train = data_balance[data_balance[\"week_number\"] < train_week]\n",
    "data_balance_valid = data_balance[data_balance[\"week_number\"] >= train_week]"
   ]
  },
  {
   "cell_type": "code",
   "execution_count": null,
   "id": "408db092",
   "metadata": {},
   "outputs": [],
   "source": [
    "data_balance_train_x = data_balance_train.drop(\"total_claims\",1)\n",
    "data_balance_train_y = data_balance_train[\"total_claims\"]"
   ]
  },
  {
   "cell_type": "code",
   "execution_count": null,
   "id": "6eade463",
   "metadata": {},
   "outputs": [],
   "source": [
    "data_balance_valid_x = data_balance_valid.drop(\"total_claims\",1)\n",
    "data_balance_valid_y = data_balance_valid[\"total_claims\"]"
   ]
  },
  {
   "cell_type": "code",
   "execution_count": null,
   "id": "51e46114",
   "metadata": {},
   "outputs": [],
   "source": [
    "data_balance_valid_x.head()"
   ]
  },
  {
   "cell_type": "code",
   "execution_count": null,
   "id": "dfb79763",
   "metadata": {},
   "outputs": [],
   "source": [
    "data_balance_valid_y.head()"
   ]
  },
  {
   "cell_type": "code",
   "execution_count": null,
   "id": "37365964",
   "metadata": {},
   "outputs": [],
   "source": [
    "data_balance_valid_x.shape"
   ]
  },
  {
   "cell_type": "code",
   "execution_count": null,
   "id": "0585c5da",
   "metadata": {},
   "outputs": [],
   "source": [
    "data_balance_valid_y.shape"
   ]
  },
  {
   "cell_type": "code",
   "execution_count": null,
   "id": "5741e5c4",
   "metadata": {},
   "outputs": [],
   "source": [
    "# Model 1 : Poisson regression with unbalanced data\n",
    "data_train_x_m1 = data_train_x[[\"week_number\",\"month\", \"weekofmonth\",  \"average_wage\"]]\n",
    "data_train_x_m1[\"month\"] = data_train_x_m1[\"month\"].astype(str)\n",
    "data_train_x_m1[\"weekofmonth\"] = data_train_x_m1[\"weekofmonth\"].astype(str)\n",
    "data_train_x_m1[\"week_number2\"] = data_train_x_m1[\"week_number\"]**2\n",
    "data_train_x_m1 = pd.get_dummies(data_train_x_m1)"
   ]
  },
  {
   "cell_type": "code",
   "execution_count": null,
   "id": "072c3b2f",
   "metadata": {},
   "outputs": [],
   "source": [
    "data_valid_x_m1 = data_valid_x[[\"week_number\",\"month\", \"weekofmonth\",  \"average_wage\"]]\n",
    "data_valid_x_m1[\"month\"] = data_valid_x_m1[\"month\"].astype(str)\n",
    "data_valid_x_m1[\"weekofmonth\"] = data_valid_x_m1[\"weekofmonth\"].astype(str)\n",
    "data_valid_x_m1[\"week_number2\"] = data_valid_x_m1[\"week_number\"]**2\n",
    "data_valid_x_m1 = pd.get_dummies(data_valid_x_m1)"
   ]
  },
  {
   "cell_type": "code",
   "execution_count": null,
   "id": "56ece315",
   "metadata": {},
   "outputs": [],
   "source": [
    "for i in range(8):\n",
    "    data_valid_x_m1[\"month_\"+str(1+i)] = 0"
   ]
  },
  {
   "cell_type": "code",
   "execution_count": null,
   "id": "238a9a04",
   "metadata": {},
   "outputs": [],
   "source": [
    "for i in range(5):\n",
    "    if i == 1:\n",
    "        pass\n",
    "    data_valid_x_m1[\"weekofmonth_\"+str(1+i)] = 0"
   ]
  },
  {
   "cell_type": "code",
   "execution_count": null,
   "id": "a39ebb88",
   "metadata": {},
   "outputs": [],
   "source": [
    "poission_model = sm.GLM(data_train_y.astype(int), data_train_x_m1.astype(float), family=sm.families.Poisson())\n",
    "result = poission_model.fit()\n",
    "result.summary()"
   ]
  },
  {
   "cell_type": "code",
   "execution_count": null,
   "id": "9541e985",
   "metadata": {},
   "outputs": [],
   "source": [
    "data_estimate_m1 = result.predict(data_valid_x_m1.astype(float))\n",
    "MSPE(data_estimate_m1, data_valid_y)\n",
    "MAPE(data_estimate_m1, data_valid_y)"
   ]
  },
  {
   "cell_type": "code",
   "execution_count": null,
   "id": "b8dd5728",
   "metadata": {},
   "outputs": [],
   "source": [
    "data_train_x_m1.describe()"
   ]
  },
  {
   "cell_type": "code",
   "execution_count": null,
   "id": "fc5d7082",
   "metadata": {},
   "outputs": [],
   "source": [
    "# Model 1 : Poisson regression with unbalanced data\n",
    "data_train_x_m1 = data_train_x[[\"week_number\",\"month\", \"weekofmonth\",  \"average_wage\"]]\n",
    "data_train_x_m1[\"month\"] = data_train_x_m1[\"month\"].astype(str)\n",
    "data_train_x_m1[\"weekofmonth\"] = data_train_x_m1[\"weekofmonth\"].astype(str)\n",
    "data_train_x_m1[\"week_number2\"] = data_train_x_m1[\"week_number\"]**2\n",
    "data_train_x_m1 = pd.get_dummies(data_train_x_m1)"
   ]
  },
  {
   "cell_type": "code",
   "execution_count": null,
   "id": "500aa1a8",
   "metadata": {},
   "outputs": [],
   "source": [
    "data_valid_x_m1 = data_valid_x[[\"week_number\",\"month\", \"weekofmonth\",  \"average_wage\"]]\n",
    "data_valid_x_m1[\"month\"] = data_valid_x_m1[\"month\"].astype(str)\n",
    "data_valid_x_m1[\"weekofmonth\"] = data_valid_x_m1[\"weekofmonth\"].astype(str)\n",
    "data_valid_x_m1[\"week_number2\"] = data_valid_x_m1[\"week_number\"]**2\n",
    "data_valid_x_m1 = pd.get_dummies(data_valid_x_m1)"
   ]
  },
  {
   "cell_type": "code",
   "execution_count": null,
   "id": "c592c7a6",
   "metadata": {},
   "outputs": [],
   "source": [
    "data_train_x_m1[\"month_8\"] = 0"
   ]
  },
  {
   "cell_type": "code",
   "execution_count": null,
   "id": "acbeb694",
   "metadata": {},
   "outputs": [],
   "source": [
    "data_train_x_m1.describe()"
   ]
  },
  {
   "cell_type": "code",
   "execution_count": null,
   "id": "2dd42389",
   "metadata": {},
   "outputs": [],
   "source": [
    "data_valid_x_m1.describe()"
   ]
  },
  {
   "cell_type": "code",
   "execution_count": null,
   "id": "2bf849d5",
   "metadata": {},
   "outputs": [],
   "source": [
    "# Model 1 : Poisson regression with unbalanced data\n",
    "data_train_x_m1 = data_train_x[[\"week_number\",\"month\", \"weekofmonth\",  \"average_wage\"]]\n",
    "data_train_x_m1[\"month\"] = data_train_x_m1[\"month\"].astype(str)\n",
    "data_train_x_m1[\"weekofmonth\"] = data_train_x_m1[\"weekofmonth\"].astype(str)\n",
    "data_train_x_m1[\"week_number2\"] = data_train_x_m1[\"week_number\"]**2\n",
    "data_train_x_m1 = pd.get_dummies(data_train_x_m1)"
   ]
  },
  {
   "cell_type": "code",
   "execution_count": null,
   "id": "3388375e",
   "metadata": {},
   "outputs": [],
   "source": [
    "data_valid_x_m1 = data_valid_x[[\"week_number\",\"month\", \"weekofmonth\",  \"average_wage\"]]\n",
    "data_valid_x_m1[\"month\"] = data_valid_x_m1[\"month\"].astype(str)\n",
    "data_valid_x_m1[\"weekofmonth\"] = data_valid_x_m1[\"weekofmonth\"].astype(str)\n",
    "data_valid_x_m1[\"week_number2\"] = data_valid_x_m1[\"week_number\"]**2\n",
    "data_valid_x_m1 = pd.get_dummies(data_valid_x_m1)"
   ]
  },
  {
   "cell_type": "code",
   "execution_count": null,
   "id": "e0937b3c",
   "metadata": {},
   "outputs": [],
   "source": [
    "data_train_x_m1[\"month_8\"] = 0\n",
    "data_train_x_m1[\"month_9\"] = 0"
   ]
  },
  {
   "cell_type": "code",
   "execution_count": null,
   "id": "61759496",
   "metadata": {},
   "outputs": [],
   "source": [
    "data_valid_x_m1.describe()"
   ]
  },
  {
   "cell_type": "code",
   "execution_count": null,
   "id": "eb4c56e4",
   "metadata": {},
   "outputs": [],
   "source": [
    "for i in range(8):\n",
    "    data_valid_x_m1[\"month_\"+str(1+i)] = 0"
   ]
  },
  {
   "cell_type": "code",
   "execution_count": null,
   "id": "1b66ab0f",
   "metadata": {},
   "outputs": [],
   "source": [
    "for i in range(5):\n",
    "    if i == 1:\n",
    "        pass\n",
    "    data_valid_x_m1[\"weekofmonth_\"+str(1+i)] = 0"
   ]
  },
  {
   "cell_type": "code",
   "execution_count": null,
   "id": "a5332c03",
   "metadata": {},
   "outputs": [],
   "source": [
    "poission_model = sm.GLM(data_train_y.astype(int), data_train_x_m1.astype(float), family=sm.families.Poisson())\n",
    "result = poission_model.fit()\n",
    "result.summary()"
   ]
  },
  {
   "cell_type": "code",
   "execution_count": null,
   "id": "81ca5d7a",
   "metadata": {},
   "outputs": [],
   "source": [
    "data_estimate_m1 = result.predict(data_valid_x_m1.astype(float))\n",
    "MSPE(data_estimate_m1, data_valid_y)\n",
    "MAPE(data_estimate_m1, data_valid_y)"
   ]
  },
  {
   "cell_type": "code",
   "execution_count": null,
   "id": "6aa1264b",
   "metadata": {},
   "outputs": [],
   "source": [
    "# Model 2: Poisson with balanced data\n",
    "data_balance_train_x_m1 = data_balance_train_x[[\"week_number\",\"month\", \"weekofmonth\",  \"average_wage\"]]\n",
    "data_balance_train_x_m1[\"month\"] = data_balance_train_x_m1[\"month\"].astype(str)\n",
    "data_balance_train_x_m1[\"weekofmonth\"] = data_balance_train_x_m1[\"weekofmonth\"].astype(str)\n",
    "data_balance_train_x_m1[\"week_number2\"] = data_balance_train_x_m1[\"week_number\"]**2\n",
    "data_balance_train_x_m1 = pd.get_dummies(data_balance_train_x_m1)"
   ]
  },
  {
   "cell_type": "code",
   "execution_count": null,
   "id": "dda75c07",
   "metadata": {},
   "outputs": [],
   "source": [
    "data_balance_valid_x_m1 = data_balance_valid_x[[\"week_number\",\"month\", \"weekofmonth\",  \"average_wage\"]]\n",
    "data_balance_valid_x_m1[\"month\"] = data_balance_valid_x_m1[\"month\"].astype(str)\n",
    "data_balance_valid_x_m1[\"weekofmonth\"] = data_balance_valid_x_m1[\"weekofmonth\"].astype(str)\n",
    "data_balance_valid_x_m1[\"week_number2\"] = data_balance_valid_x_m1[\"week_number\"]**2\n",
    "data_balance_valid_x_m1 = pd.get_dummies(data_balance_valid_x_m1)"
   ]
  },
  {
   "cell_type": "code",
   "execution_count": null,
   "id": "a9ae3ce8",
   "metadata": {},
   "outputs": [],
   "source": [
    "data_balance_train_x_m1[\"month_8\"] = 0\n",
    "data_balance_train_x_m1[\"month_9\"] = 0"
   ]
  },
  {
   "cell_type": "code",
   "execution_count": null,
   "id": "6ed477d3",
   "metadata": {},
   "outputs": [],
   "source": [
    "for i in range(8):\n",
    "    data_balance_valid_x_m1[\"month_\"+str(1+i)] = 0"
   ]
  },
  {
   "cell_type": "code",
   "execution_count": null,
   "id": "b2d3f3ab",
   "metadata": {},
   "outputs": [],
   "source": [
    "for i in range(5):\n",
    "    if i == 1:\n",
    "        pass\n",
    "    data_balance_valid_x_m1[\"weekofmonth_\"+str(1+i)] = 0"
   ]
  },
  {
   "cell_type": "code",
   "execution_count": null,
   "id": "38e1717c",
   "metadata": {},
   "outputs": [],
   "source": [
    "poission_model_m2 = sm.GLM(data_balance_train_y.astype(int), data_balance_train_x_m1.astype(float), family=sm.families.Poisson())\n",
    "result_m2 = poission_model_m2.fit()\n",
    "result_m2.summary()"
   ]
  },
  {
   "cell_type": "code",
   "execution_count": null,
   "id": "216b1cd0",
   "metadata": {},
   "outputs": [],
   "source": [
    "data_balance_estimate_m2 = result_m2.predict(data_balance_valid_x_m1.astype(float))\n",
    "MSPE(data_balance_estimate_m2, data_balance_valid_y)\n",
    "MAPE(data_balance_estimate_m2, data_balance_valid_y)"
   ]
  },
  {
   "cell_type": "code",
   "execution_count": null,
   "id": "dfb5749b",
   "metadata": {},
   "outputs": [],
   "source": [
    "# Although using a balanced model has better fit on the training set, the MSPE and MAPE are still larger then the first model.\n",
    "# So for this submission, I sitll use the m1 for prediction.\n",
    "data_lastWeek = data[data[\"week_number\"] == train_week][[\"uu_id\", \"average_wage\"]]\n",
    "data_lastWeek = data_lastWeek.drop_duplicates()"
   ]
  },
  {
   "cell_type": "code",
   "execution_count": null,
   "id": "d2f6a06a",
   "metadata": {},
   "outputs": [],
   "source": [
    "data_pred = data_pred_query.copy()\n",
    "data_pred = data_pred.set_index('uu_id').join(data_lastWeek.set_index('uu_id'))\n",
    "data_pred.head()\n",
    "data_pred = dataIdentifyDWM(data_pred)\n",
    "data_pred = dataFillNa(data_pred, 0)\n",
    "data_pred[\"month\"] = data_pred[\"month\"].astype(str)\n",
    "data_pred = data_pred.drop(\"date\",1)\n",
    "data_pred = pd.get_dummies(data_pred)\n",
    "for i in range(8):\n",
    "    data_pred[\"month_\"+str(1+i)] = 0\n",
    "for i in range(5):\n",
    "    if i == 1:\n",
    "        pass\n",
    "    data_pred[\"weekofmonth_\"+str(1+i)] = 0"
   ]
  },
  {
   "cell_type": "code",
   "execution_count": null,
   "id": "ff8604d7",
   "metadata": {},
   "outputs": [],
   "source": [
    "output = result.predict(data_pred.astype(float))\n",
    "output_df = pd.DataFrame(output, columns=[\"total_claims\"])[\"total_claims\"]\n",
    "output_df[\"uu_id\"] = output_df.index"
   ]
  },
  {
   "cell_type": "code",
   "execution_count": null,
   "id": "f5704ff3",
   "metadata": {},
   "outputs": [],
   "source": [
    "data_pred_query = data_pred_query.merge(output_df, on = \"uu_id\")\n",
    "data_pred_query = data_pred_query[[\"uu_id\", \"total_claims\", \"week_number\"]]"
   ]
  },
  {
   "cell_type": "code",
   "execution_count": null,
   "id": "fe0f8a9d",
   "metadata": {},
   "outputs": [],
   "source": [
    "data_pred_query"
   ]
  },
  {
   "cell_type": "code",
   "execution_count": null,
   "id": "ed342bce",
   "metadata": {},
   "outputs": [],
   "source": [
    "import plotly.express as px"
   ]
  },
  {
   "cell_type": "code",
   "execution_count": null,
   "id": "2dce1cc6",
   "metadata": {},
   "outputs": [],
   "source": [
    "data_balance.head()"
   ]
  },
  {
   "cell_type": "code",
   "execution_count": null,
   "id": "db9fabbc",
   "metadata": {},
   "outputs": [],
   "source": [
    "fig = px.line(data_balance, x=\"week_number\", y=[\"total_claims\"], template = 'plotly_dark')\n",
    "fig.show()"
   ]
  },
  {
   "cell_type": "code",
   "execution_count": null,
   "id": "765d9a47",
   "metadata": {},
   "outputs": [],
   "source": [
    "# Model 3 time series\n",
    "# average over tracts\n",
    "data_balance_ave = data_balance[[\"]]"
   ]
  },
  {
   "cell_type": "code",
   "execution_count": null,
   "id": "d2862798",
   "metadata": {},
   "outputs": [],
   "source": [
    "# Model 3 time series\n",
    "# average over tracts\n",
    "data_balance_ave = data_balance[[\"week_number\", \"total_claim\"]].mean()"
   ]
  },
  {
   "cell_type": "code",
   "execution_count": null,
   "id": "9bddbc75",
   "metadata": {},
   "outputs": [],
   "source": [
    "# Model 3 time series\n",
    "# average over tracts\n",
    "data_balance_ave = data_balance[[\"week_number\", \"total_claims\"]].mean()"
   ]
  },
  {
   "cell_type": "code",
   "execution_count": null,
   "id": "53849763",
   "metadata": {},
   "outputs": [],
   "source": [
    "fig = px.line(data_balance_ave, x=\"week_number\", y=[\"total_claims\"], template = 'plotly_dark')\n",
    "fig.show()"
   ]
  },
  {
   "cell_type": "code",
   "execution_count": null,
   "id": "6b293731",
   "metadata": {},
   "outputs": [],
   "source": [
    "data_balance_ave.head()"
   ]
  },
  {
   "cell_type": "code",
   "execution_count": null,
   "id": "440ab1fd",
   "metadata": {},
   "outputs": [],
   "source": [
    "data_balance_ave"
   ]
  },
  {
   "cell_type": "code",
   "execution_count": null,
   "id": "51c22079",
   "metadata": {},
   "outputs": [],
   "source": [
    "# Model 3 time series\n",
    "# average over tracts\n",
    "data_balance_ave = data_balance[[\"week_number\", \"total_claims\"]]"
   ]
  },
  {
   "cell_type": "code",
   "execution_count": null,
   "id": "ebda10a2",
   "metadata": {},
   "outputs": [],
   "source": [
    "# Model 3 time series\n",
    "# average over tracts\n",
    "data_balance_ave = data_balance[[\"week_number\", \"total_claims\", \"uu_id\"]]"
   ]
  },
  {
   "cell_type": "code",
   "execution_count": null,
   "id": "47b29f43",
   "metadata": {},
   "outputs": [],
   "source": [
    "data_balance_ave.head()"
   ]
  },
  {
   "cell_type": "code",
   "execution_count": null,
   "id": "3495b466",
   "metadata": {},
   "outputs": [],
   "source": [
    "data_balance_ave.groupby(['week_number']).mean()"
   ]
  },
  {
   "cell_type": "code",
   "execution_count": null,
   "id": "e71b1644",
   "metadata": {},
   "outputs": [],
   "source": [
    "data_balance_ave.groupby(['week_number']).mean()"
   ]
  },
  {
   "cell_type": "code",
   "execution_count": null,
   "id": "f1e6d478",
   "metadata": {},
   "outputs": [],
   "source": [
    "data_balance_ave = data_balance_ave.groupby(['week_number']).mean()"
   ]
  },
  {
   "cell_type": "code",
   "execution_count": null,
   "id": "78600328",
   "metadata": {},
   "outputs": [],
   "source": [
    "fig = px.line(data_balance_ave, x=\"week_number\", y=[\"total_claims\"], template = 'plotly_dark')\n",
    "fig.show()"
   ]
  },
  {
   "cell_type": "code",
   "execution_count": null,
   "id": "f5e0fc1a",
   "metadata": {},
   "outputs": [],
   "source": [
    "data_balance_ave.head()"
   ]
  },
  {
   "cell_type": "code",
   "execution_count": null,
   "id": "e9aed6b2",
   "metadata": {},
   "outputs": [],
   "source": [
    "fig = px.line(data_balance_ave, x=\"week_number\", y=[\"total_claims\"], template = 'plotly_dark')\n",
    "fig.show()"
   ]
  },
  {
   "cell_type": "code",
   "execution_count": null,
   "id": "f94a4219",
   "metadata": {},
   "outputs": [],
   "source": [
    "data_balance_ave = data_balance_ave.groupby(['week_number']).mean()\n",
    "data_balance_ave.reset_index()"
   ]
  },
  {
   "cell_type": "code",
   "execution_count": null,
   "id": "973c2de4",
   "metadata": {},
   "outputs": [],
   "source": [
    "fig = px.line(data_balance_ave, x=\"week_number\", y=[\"total_claims\"], template = 'plotly_dark')\n",
    "fig.show()"
   ]
  },
  {
   "cell_type": "code",
   "execution_count": null,
   "id": "dc8abbd8",
   "metadata": {},
   "outputs": [],
   "source": [
    "fig = px.line(data_balance_ave, x=\"week_number\", y=[\"total_claims\"], template = 'plotly_dark')\n",
    "fig.show()"
   ]
  },
  {
   "cell_type": "code",
   "execution_count": null,
   "id": "296cfee9",
   "metadata": {},
   "outputs": [],
   "source": [
    "data_balance_ave = data_balance_ave.groupby(['week_number']).mean()\n",
    "data_balance_ave.reset_index()\n",
    "data_balance_ave['MA4'] = data['total_claims'].rolling(4).mean()"
   ]
  },
  {
   "cell_type": "code",
   "execution_count": null,
   "id": "25cf6081",
   "metadata": {},
   "outputs": [],
   "source": [
    "data_balance_ave = data_balance_ave.groupby(['week_number']).mean()\n",
    "data_balance_ave = data_balance_ave.reset_index()\n",
    "data_balance_ave['MA4'] = data['total_claims'].rolling(4).mean()"
   ]
  },
  {
   "cell_type": "code",
   "execution_count": null,
   "id": "3f84696d",
   "metadata": {},
   "outputs": [],
   "source": [
    "fig = px.line(data_balance_ave, x=\"week_number\", y=[\"total_claims\", \"MA4\"], template = 'plotly_dark')\n",
    "fig.show()"
   ]
  },
  {
   "cell_type": "code",
   "execution_count": null,
   "id": "cc19b58d",
   "metadata": {},
   "outputs": [],
   "source": [
    "fig = px.line(data_balance_ave, x=\"week_number\", y=[\"total_claims\", \"MA4\"])\n",
    "fig.show()"
   ]
  },
  {
   "cell_type": "code",
   "execution_count": null,
   "id": "595599af",
   "metadata": {},
   "outputs": [],
   "source": [
    "# Model 3 time series\n",
    "# visualize average over tracts\n",
    "data_balance_ave = data_balance[[\"week_number\", \"total_claims\", \"uu_id\"]]\n",
    "data_balance_ave = data_balance_ave.groupby(['week_number']).mean()\n",
    "data_balance_ave = data_balance_ave.reset_index()\n",
    "data_balance_ave['MA4'] = data['total_claims'].rolling(4).mean()\n",
    "fig = px.line(data_balance_ave, x=\"week_number\", y=[\"total_claims\", \"MA4\"])\n",
    "fig.show()"
   ]
  },
  {
   "cell_type": "code",
   "execution_count": null,
   "id": "208a4d6e",
   "metadata": {},
   "outputs": [],
   "source": [
    "%%capture"
   ]
  },
  {
   "cell_type": "code",
   "execution_count": null,
   "id": "20018d9b",
   "metadata": {},
   "outputs": [],
   "source": [
    "#- INSTALL ADDITIONAL LIBRARIES IF REQUIRED\n",
    "#------------------------------------------\n",
    "# This is normally not required. The hub environment comes preinstaled with \n",
    "# many packages that you can already use without setup. In case there is some\n",
    "# other library you would like to use that isn't on the list you run this command\n",
    "# once to install them.  If it is already installed this command has no effect.\n",
    "get_ipython().system('pip install db-dtypes')\n",
    "get_ipython().system('python3 -m pip install pandas')\n",
    "get_ipython().system('pip install pmdarima')"
   ]
  },
  {
   "cell_type": "code",
   "execution_count": null,
   "id": "21a934b2",
   "metadata": {},
   "outputs": [],
   "source": [
    "data_balance_ave_train = data_balance_ave[[\"week_num\",\"total_claims\"]]"
   ]
  },
  {
   "cell_type": "code",
   "execution_count": null,
   "id": "8cc7856f",
   "metadata": {},
   "outputs": [],
   "source": [
    "data_balance_ave_train = data_balance_ave[[\"week_number\",\"total_claims\"]]"
   ]
  },
  {
   "cell_type": "code",
   "execution_count": null,
   "id": "27ae5a6b",
   "metadata": {},
   "outputs": [],
   "source": [
    "data_balance_ave_train = data_balance_ave[[\"week_number\",\"total_claims\"]]\n",
    "data_balance_ave_train.set_index(\"week_number\")"
   ]
  },
  {
   "cell_type": "code",
   "execution_count": null,
   "id": "a03af35a",
   "metadata": {},
   "outputs": [],
   "source": [
    "model = auto_arima(train, trace=True, error_action='ignore', suppress_warnings=True)\n",
    "model.fit(data_balance_ave_train)"
   ]
  },
  {
   "cell_type": "markdown",
   "id": "6ced316d",
   "metadata": {},
   "source": [
    "- IMPORT THE LIBRARIES YOU WILL USE\n",
    "------------------------------------------\n",
    "You only need to import packages one time per notebook session. To keep your\n",
    "notebook clean and organized you can handle all imports at the top of your file.\n",
    "The following are included for example purposed, feel free to modify or delete \n",
    "anything in this section."
   ]
  },
  {
   "cell_type": "code",
   "execution_count": null,
   "id": "5fac20de",
   "metadata": {},
   "outputs": [],
   "source": [
    "import csv\n",
    "import pandas as pd\n",
    "import numpy as np\n",
    "from google.cloud import bigquery\n",
    "from google.oauth2 import service_account\n",
    "from google.cloud.bigquery import magics\n",
    "import statsmodels.api as sm\n",
    "import math\n",
    "import plotly.express as px\n",
    "from pmdarima.arima import auto_arima"
   ]
  },
  {
   "cell_type": "code",
   "execution_count": null,
   "id": "56cb1da3",
   "metadata": {},
   "outputs": [],
   "source": [
    "model = auto_arima(train, trace=True, error_action='ignore', suppress_warnings=True)\n",
    "model.fit(data_balance_ave_train)"
   ]
  },
  {
   "cell_type": "code",
   "execution_count": null,
   "id": "af4b2a98",
   "metadata": {},
   "outputs": [],
   "source": [
    "model = auto_arima(data_balance_ave_train, trace=True, error_action='ignore', suppress_warnings=True)\n",
    "model.fit(data_balance_ave_train)"
   ]
  },
  {
   "cell_type": "code",
   "execution_count": null,
   "id": "b09795eb",
   "metadata": {},
   "outputs": [],
   "source": [
    "data_balance_ave_train = data_balance_ave[[\"week_number\",\"total_claims\"]]\n",
    "data_balance_ave_train = data_balance_ave_train.set_index(\"week_number\")"
   ]
  },
  {
   "cell_type": "code",
   "execution_count": null,
   "id": "6d000028",
   "metadata": {},
   "outputs": [],
   "source": [
    "model = auto_arima(data_balance_ave_train, trace=True, error_action='ignore', suppress_warnings=True)\n",
    "model.fit(data_balance_ave_train)"
   ]
  },
  {
   "cell_type": "code",
   "execution_count": null,
   "id": "0ed224d2",
   "metadata": {},
   "outputs": [],
   "source": [
    "cutoff = int(0.8 * len(data_balance_ave_train))\n",
    "print(cutoff)"
   ]
  },
  {
   "cell_type": "code",
   "execution_count": null,
   "id": "d35e0ab3",
   "metadata": {},
   "outputs": [],
   "source": [
    "data_balance_ave_valid = data_balance_ave_train[cutoff:]"
   ]
  },
  {
   "cell_type": "code",
   "execution_count": null,
   "id": "07a70650",
   "metadata": {},
   "outputs": [],
   "source": [
    "data_balance_ave_train = data_balance_ave_train[:cutoff]"
   ]
  },
  {
   "cell_type": "code",
   "execution_count": null,
   "id": "27be66e4",
   "metadata": {},
   "outputs": [],
   "source": [
    "data_balance_ave_train"
   ]
  },
  {
   "cell_type": "code",
   "execution_count": null,
   "id": "0db7df05",
   "metadata": {},
   "outputs": [],
   "source": [
    "data_balance_ave_valid"
   ]
  },
  {
   "cell_type": "code",
   "execution_count": null,
   "id": "86da2cd4",
   "metadata": {},
   "outputs": [],
   "source": [
    "model = auto_arima(data_balance_ave_train, trace=True, error_action='ignore', suppress_warnings=True)\n",
    "model.fit(data_balance_ave_train)"
   ]
  },
  {
   "cell_type": "code",
   "execution_count": null,
   "id": "2f859167",
   "metadata": {},
   "outputs": [],
   "source": [
    "forecast = model.predict(n_periods=len(data_balance_ave_valid))"
   ]
  },
  {
   "cell_type": "code",
   "execution_count": null,
   "id": "b35853aa",
   "metadata": {},
   "outputs": [],
   "source": [
    "forecast"
   ]
  },
  {
   "cell_type": "code",
   "execution_count": null,
   "id": "7a312f1c",
   "metadata": {},
   "outputs": [],
   "source": [
    "forecast = model.predict(n_periods=5)"
   ]
  },
  {
   "cell_type": "code",
   "execution_count": null,
   "id": "3ad7aa72",
   "metadata": {},
   "outputs": [],
   "source": [
    "forecast"
   ]
  },
  {
   "cell_type": "code",
   "execution_count": null,
   "id": "a9228217",
   "metadata": {},
   "outputs": [],
   "source": [
    "model.forecast()"
   ]
  },
  {
   "cell_type": "code",
   "execution_count": null,
   "id": "2def4b4c",
   "metadata": {},
   "outputs": [],
   "source": [
    "model.summary()"
   ]
  },
  {
   "cell_type": "code",
   "execution_count": null,
   "id": "727ef637",
   "metadata": {},
   "outputs": [],
   "source": [
    "model.plot_predict(dynamics = False)"
   ]
  },
  {
   "cell_type": "code",
   "execution_count": null,
   "id": "a02cc2e4",
   "metadata": {},
   "outputs": [],
   "source": [
    "forecast = model.predict()"
   ]
  },
  {
   "cell_type": "code",
   "execution_count": null,
   "id": "8b14850f",
   "metadata": {},
   "outputs": [],
   "source": [
    "model.predict()"
   ]
  },
  {
   "cell_type": "code",
   "execution_count": null,
   "id": "18db545e",
   "metadata": {},
   "outputs": [],
   "source": [
    "model.predict(,steps = 1)"
   ]
  },
  {
   "cell_type": "code",
   "execution_count": null,
   "id": "1b171832",
   "metadata": {},
   "outputs": [],
   "source": [
    "model.predict(steps = 1)"
   ]
  },
  {
   "cell_type": "code",
   "execution_count": null,
   "id": "94a84735",
   "metadata": {},
   "outputs": [],
   "source": [
    "cutoff = int(0.9 * len(data_balance_ave_train))\n",
    "print(cutoff)"
   ]
  },
  {
   "cell_type": "code",
   "execution_count": null,
   "id": "ed9a038d",
   "metadata": {},
   "outputs": [],
   "source": [
    "data_balance_ave_valid = data_balance_ave_train[cutoff:]"
   ]
  },
  {
   "cell_type": "code",
   "execution_count": null,
   "id": "3136a773",
   "metadata": {},
   "outputs": [],
   "source": [
    "data_balance_ave_train = data_balance_ave_train[:cutoff]"
   ]
  },
  {
   "cell_type": "code",
   "execution_count": null,
   "id": "803cf34c",
   "metadata": {},
   "outputs": [],
   "source": [
    "data_balance_ave_valid"
   ]
  },
  {
   "cell_type": "code",
   "execution_count": null,
   "id": "f049c32e",
   "metadata": {},
   "outputs": [],
   "source": [
    "data_balance_ave_train = data_balance_ave[[\"week_number\",\"total_claims\"]]\n",
    "data_balance_ave_train = data_balance_ave_train.set_index(\"week_number\")\n",
    "cutoff = int(0.9 * len(data_balance_ave_train))\n",
    "print(cutoff)"
   ]
  },
  {
   "cell_type": "code",
   "execution_count": null,
   "id": "36b7084a",
   "metadata": {},
   "outputs": [],
   "source": [
    "data_balance_ave_model = data_balance_ave[[\"week_number\",\"total_claims\"]]\n",
    "data_balance_ave_model = data_balance_ave_train.set_index(\"week_number\")\n",
    "cutoff = int(0.9 * len(data_balance_ave_model))\n",
    "print(cutoff)"
   ]
  },
  {
   "cell_type": "code",
   "execution_count": null,
   "id": "781a0348",
   "metadata": {},
   "outputs": [],
   "source": [
    "data_balance_ave_valid = data_balance_ave_model[cutoff:]\n",
    "data_balance_ave_train = data_balance_ave_model[:cutoff]"
   ]
  },
  {
   "cell_type": "code",
   "execution_count": null,
   "id": "8bd6cb7c",
   "metadata": {},
   "outputs": [],
   "source": [
    "data_balance_ave_model = data_balance_ave[[\"week_number\",\"total_claims\"]]\n",
    "data_balance_ave_model = data_balance_ave_model.set_index(\"week_number\")\n",
    "cutoff = int(0.9 * len(data_balance_ave_model))\n",
    "print(cutoff)"
   ]
  },
  {
   "cell_type": "code",
   "execution_count": null,
   "id": "bc70edc5",
   "metadata": {},
   "outputs": [],
   "source": [
    "data_balance_ave_valid = data_balance_ave_model[cutoff:]\n",
    "data_balance_ave_train = data_balance_ave_model[:cutoff]"
   ]
  },
  {
   "cell_type": "code",
   "execution_count": null,
   "id": "5ae0d6c5",
   "metadata": {},
   "outputs": [],
   "source": [
    "data_balance_ave_valid"
   ]
  },
  {
   "cell_type": "code",
   "execution_count": null,
   "id": "d0af9c9f",
   "metadata": {},
   "outputs": [],
   "source": [
    "model = auto_arima(data_balance_ave_train, trace=True, error_action='ignore', suppress_warnings=True)\n",
    "model.fit(data_balance_ave_train)"
   ]
  },
  {
   "cell_type": "code",
   "execution_count": null,
   "id": "9218d890",
   "metadata": {},
   "outputs": [],
   "source": [
    "model.predict(steps = 1)"
   ]
  },
  {
   "cell_type": "code",
   "execution_count": null,
   "id": "d6ca3f72",
   "metadata": {},
   "outputs": [],
   "source": [
    "data_balance_ave_model = data_balance_ave[[\"week_number\",\"total_claims\"]]\n",
    "data_balance_ave_model = data_balance_ave_model.set_index(\"week_number\")\n",
    "cutoff = int(0.5 * len(data_balance_ave_model))\n",
    "print(cutoff)"
   ]
  },
  {
   "cell_type": "code",
   "execution_count": null,
   "id": "0c7c2f4d",
   "metadata": {},
   "outputs": [],
   "source": [
    "data_balance_ave_valid = data_balance_ave_model[cutoff:]\n",
    "data_balance_ave_train = data_balance_ave_model[:cutoff]"
   ]
  },
  {
   "cell_type": "code",
   "execution_count": null,
   "id": "00f69a9f",
   "metadata": {},
   "outputs": [],
   "source": [
    "data_balance_ave_valid"
   ]
  },
  {
   "cell_type": "code",
   "execution_count": null,
   "id": "9591d813",
   "metadata": {},
   "outputs": [],
   "source": [
    "model = auto_arima(data_balance_ave_train, trace=True, error_action='ignore', suppress_warnings=True)\n",
    "model.fit(data_balance_ave_train)"
   ]
  },
  {
   "cell_type": "code",
   "execution_count": null,
   "id": "3380066f",
   "metadata": {},
   "outputs": [],
   "source": [
    "model.predict(steps = 1)"
   ]
  },
  {
   "cell_type": "code",
   "execution_count": null,
   "id": "4d0269e8",
   "metadata": {},
   "outputs": [],
   "source": [
    "data_balance_ave_model = data_balance_ave[[\"week_number\",\"total_claims\"]]\n",
    "data_balance_ave_model = data_balance_ave_model.set_index(\"week_number\")\n",
    "cutoff = int(0.8 * len(data_balance_ave_model))\n",
    "print(cutoff)"
   ]
  },
  {
   "cell_type": "code",
   "execution_count": null,
   "id": "948e15d9",
   "metadata": {},
   "outputs": [],
   "source": [
    "data_balance_ave_valid = data_balance_ave_model[cutoff:]\n",
    "data_balance_ave_train = data_balance_ave_model[:cutoff]"
   ]
  },
  {
   "cell_type": "code",
   "execution_count": null,
   "id": "b199d1fb",
   "metadata": {},
   "outputs": [],
   "source": [
    "model = auto_arima(data_balance_ave_train, trace=True, error_action='ignore', suppress_warnings=True)\n",
    "model.fit(data_balance_ave_train)"
   ]
  },
  {
   "cell_type": "code",
   "execution_count": null,
   "id": "4a36a89c",
   "metadata": {},
   "outputs": [],
   "source": [
    "model.predict(steps = 1)"
   ]
  },
  {
   "cell_type": "code",
   "execution_count": null,
   "id": "5802c809",
   "metadata": {},
   "outputs": [],
   "source": [
    "data_balance_ave_model = data_balance_ave[[\"week_number\",\"total_claims\"]]"
   ]
  },
  {
   "cell_type": "code",
   "execution_count": null,
   "id": "6527df59",
   "metadata": {},
   "outputs": [],
   "source": [
    "data_balance_ave_model[\"total_claims\"] = data_balance_ave_model[\"total_claims\"] + data_balance_ave_model[\"week_number\"]* 0.5"
   ]
  },
  {
   "cell_type": "code",
   "execution_count": null,
   "id": "9cf1a41f",
   "metadata": {},
   "outputs": [],
   "source": [
    "data_balance_ave_model = data_balance_ave_model.set_index(\"week_number\")\n",
    "cutoff = int(0.8 * len(data_balance_ave_model))\n",
    "print(cutoff)"
   ]
  },
  {
   "cell_type": "code",
   "execution_count": null,
   "id": "109a0f46",
   "metadata": {},
   "outputs": [],
   "source": [
    "data_balance_ave_valid = data_balance_ave_model[cutoff:]\n",
    "data_balance_ave_train = data_balance_ave_model[:cutoff]"
   ]
  },
  {
   "cell_type": "code",
   "execution_count": null,
   "id": "c5a63ba4",
   "metadata": {},
   "outputs": [],
   "source": [
    "model = auto_arima(data_balance_ave_train, trace=True, error_action='ignore', suppress_warnings=True)\n",
    "model.fit(data_balance_ave_train)"
   ]
  },
  {
   "cell_type": "code",
   "execution_count": null,
   "id": "5c6661ef",
   "metadata": {},
   "outputs": [],
   "source": [
    "model.predict(steps = 1)"
   ]
  },
  {
   "cell_type": "code",
   "execution_count": null,
   "id": "b576d1f5",
   "metadata": {},
   "outputs": [],
   "source": [
    "data_balance_ave_model"
   ]
  },
  {
   "cell_type": "code",
   "execution_count": null,
   "id": "41156034",
   "metadata": {},
   "outputs": [],
   "source": [
    "data_balance_ave_model = data_balance_ave[[\"week_number\",\"total_claims\"]]"
   ]
  },
  {
   "cell_type": "code",
   "execution_count": null,
   "id": "0d9c862f",
   "metadata": {},
   "outputs": [],
   "source": [
    "data_balance_ave_model[\"total_claims\"] = data_balance_ave_model[\"total_claims\"] + data_balance_ave_model[\"week_number\"]"
   ]
  },
  {
   "cell_type": "code",
   "execution_count": null,
   "id": "05933a40",
   "metadata": {},
   "outputs": [],
   "source": [
    "data_balance_ave_model = data_balance_ave_model.set_index(\"week_number\")\n",
    "cutoff = int(0.8 * len(data_balance_ave_model))\n",
    "print(cutoff)"
   ]
  },
  {
   "cell_type": "code",
   "execution_count": null,
   "id": "a739d7de",
   "metadata": {},
   "outputs": [],
   "source": [
    "data_balance_ave_valid = data_balance_ave_model[cutoff:]\n",
    "data_balance_ave_train = data_balance_ave_model[:cutoff]"
   ]
  },
  {
   "cell_type": "code",
   "execution_count": null,
   "id": "47ac75f9",
   "metadata": {},
   "outputs": [],
   "source": [
    "model = auto_arima(data_balance_ave_train, trace=True, error_action='ignore', suppress_warnings=True)\n",
    "model.fit(data_balance_ave_train)"
   ]
  },
  {
   "cell_type": "code",
   "execution_count": null,
   "id": "f5a9ad1c",
   "metadata": {},
   "outputs": [],
   "source": [
    "model.predict(steps = 1)"
   ]
  },
  {
   "cell_type": "code",
   "execution_count": null,
   "id": "76230acc",
   "metadata": {},
   "outputs": [],
   "source": [
    "model.predict(n_periods = 13)"
   ]
  },
  {
   "cell_type": "code",
   "execution_count": null,
   "id": "f7be7c7e",
   "metadata": {},
   "outputs": [],
   "source": [
    "data_balance_ave_model = data_balance_ave[[\"week_number\",\"total_claims\"]]\n",
    "data_balance_ave_model = data_balance_ave_model.set_index(\"week_number\")\n",
    "cutoff = int(0.8 * len(data_balance_ave_model))\n",
    "print(cutoff)"
   ]
  },
  {
   "cell_type": "code",
   "execution_count": null,
   "id": "f9b08782",
   "metadata": {},
   "outputs": [],
   "source": [
    "data_balance_ave_valid = data_balance_ave_model[cutoff:]\n",
    "data_balance_ave_train = data_balance_ave_model[:cutoff]"
   ]
  },
  {
   "cell_type": "code",
   "execution_count": null,
   "id": "d682d41c",
   "metadata": {},
   "outputs": [],
   "source": [
    "model = auto_arima(data_balance_ave_train, trace=True, error_action='ignore', suppress_warnings=True)\n",
    "model.fit(data_balance_ave_train)"
   ]
  },
  {
   "cell_type": "code",
   "execution_count": null,
   "id": "3c797e72",
   "metadata": {},
   "outputs": [],
   "source": [
    "model.predict(n_periods = 15)"
   ]
  },
  {
   "cell_type": "code",
   "execution_count": null,
   "id": "328b023b",
   "metadata": {},
   "outputs": [],
   "source": [
    "data_balance_ave_valid"
   ]
  },
  {
   "cell_type": "code",
   "execution_count": null,
   "id": "f4b1c776",
   "metadata": {},
   "outputs": [],
   "source": [
    "# Model 3 time series\n",
    "# First, visualize average total_claim\n",
    "data_balance_ave = data_balance[[\"week_number\", \"total_claims\", \"uu_id\"]]\n",
    "data_balance_ave = data_balance_ave.groupby(['week_number']).mean()\n",
    "data_balance_ave = data_balance_ave.reset_index()\n",
    "data_balance_ave['MA4'] = data['total_claims'].rolling(4).mean()\n",
    "fig = px.line(data_balance_ave, x=\"week_number\", y=[\"total_claims\", \"MA4\"])\n",
    "fig.show()"
   ]
  },
  {
   "cell_type": "code",
   "execution_count": null,
   "id": "f8ab6004",
   "metadata": {},
   "outputs": [],
   "source": [
    "# model train and validation\n",
    "data_balance_ave_model = data_balance_ave[[\"week_number\",\"total_claims\"]]\n",
    "data_balance_ave_model = data_balance_ave_model.set_index(\"week_number\")\n",
    "cutoff = int(0.8 * len(data_balance_ave_model))\n",
    "data_balance_ave_valid = data_balance_ave_model[cutoff:]\n",
    "data_balance_ave_train = data_balance_ave_model[:cutoff]\n",
    "model = auto_arima(data_balance_ave_train, trace=False, error_action='ignore', suppress_warnings=True)\n",
    "model.fit(data_balance_ave_train)\n",
    "model.predict(n_periods = 15)"
   ]
  },
  {
   "cell_type": "code",
   "execution_count": null,
   "id": "71f4dfb9",
   "metadata": {},
   "outputs": [],
   "source": [
    "# model train and validation\n",
    "data_balance_ave_model = data_balance_ave[[\"week_number\",\"total_claims\"]]\n",
    "data_balance_ave_model = data_balance_ave_model.set_index(\"week_number\")\n",
    "cutoff = int(0.8 * len(data_balance_ave_model))\n",
    "data_balance_ave_valid = data_balance_ave_model[cutoff:]\n",
    "data_balance_ave_train = data_balance_ave_model[:cutoff]\n",
    "model = auto_arima(data_balance_ave_train, trace=False, error_action='ignore', suppress_warnings=True)\n",
    "model.fit(data_balance_ave_train)\n",
    "forecast = model.predict(n_periods = 15)"
   ]
  },
  {
   "cell_type": "code",
   "execution_count": null,
   "id": "4e6aa66a",
   "metadata": {},
   "outputs": [],
   "source": [
    "forecast"
   ]
  },
  {
   "cell_type": "code",
   "execution_count": null,
   "id": "83fa25a5",
   "metadata": {},
   "outputs": [],
   "source": [
    "data_balance_ave_valid"
   ]
  },
  {
   "cell_type": "code",
   "execution_count": null,
   "id": "fa7d8283",
   "metadata": {},
   "outputs": [],
   "source": [
    "forecast.shape"
   ]
  },
  {
   "cell_type": "code",
   "execution_count": null,
   "id": "7bfe5bec",
   "metadata": {},
   "outputs": [],
   "source": [
    "forecast.shape"
   ]
  },
  {
   "cell_type": "code",
   "execution_count": null,
   "id": "cfc76550",
   "metadata": {},
   "outputs": [],
   "source": [
    "# model train and validation\n",
    "data_balance_ave_model = data_balance_ave[[\"week_number\",\"total_claims\"]]\n",
    "data_balance_ave_model = data_balance_ave_model.set_index(\"week_number\")\n",
    "cutoff = int(0.8 * len(data_balance_ave_model))\n",
    "data_balance_ave_valid = data_balance_ave_model[cutoff:]\n",
    "data_balance_ave_train = data_balance_ave_model[:cutoff]\n",
    "model = auto_arima(data_balance_ave_train, trace=False, error_action='ignore', suppress_warnings=True)\n",
    "model.fit(data_balance_ave_train)\n",
    "forecast = model.predict(n_periods = 15)\n",
    "df_forecast = pd.DataFrame(forecast)"
   ]
  },
  {
   "cell_type": "code",
   "execution_count": null,
   "id": "256348fd",
   "metadata": {},
   "outputs": [],
   "source": [
    "df_forecast"
   ]
  },
  {
   "cell_type": "code",
   "execution_count": null,
   "id": "8ee81860",
   "metadata": {},
   "outputs": [],
   "source": [
    "df_forecast = pd.DataFrame(forecast)\n",
    "df_forecast.index.name = \"week_number\"\n",
    "df_forecast"
   ]
  },
  {
   "cell_type": "code",
   "execution_count": null,
   "id": "5096e825",
   "metadata": {},
   "outputs": [],
   "source": [
    "# validation\n",
    "df_forecast = pd.DataFrame(forecast)\n",
    "df_forecast.index.name = \"week_number\"\n",
    "df_forecast.rename(\"total_claim_pred\")\n",
    "df_forecast"
   ]
  },
  {
   "cell_type": "code",
   "execution_count": null,
   "id": "f6dcbb1d",
   "metadata": {},
   "outputs": [],
   "source": [
    "# validation\n",
    "df_forecast = pd.DataFrame(forecast)\n",
    "df_forecast.index.name = \"week_number\"\n",
    "df_forecast.rename(columns = [\"total_claim_pred\"])\n",
    "df_forecast"
   ]
  },
  {
   "cell_type": "code",
   "execution_count": null,
   "id": "66be4bdf",
   "metadata": {},
   "outputs": [],
   "source": [
    "# validation\n",
    "df_forecast = pd.DataFrame(forecast)\n",
    "df_forecast.index.name = \"week_number\"\n",
    "df_forecast.rename(columns = {\"total_claim_pred\"})\n",
    "df_forecast"
   ]
  },
  {
   "cell_type": "code",
   "execution_count": null,
   "id": "e7cd8dc1",
   "metadata": {},
   "outputs": [],
   "source": [
    "# validation\n",
    "df_forecast = pd.DataFrame(forecast)\n",
    "df_forecast.index.name = \"week_number\"\n",
    "df_forecast.columns = [\"total_claim_pred\"]\n",
    "df_forecast"
   ]
  },
  {
   "cell_type": "code",
   "execution_count": null,
   "id": "7ea3968b",
   "metadata": {},
   "outputs": [],
   "source": [
    "data_balance_ave_valid_check == data_balance_ave_valid(df_forecast, on = \"week_number\")"
   ]
  },
  {
   "cell_type": "code",
   "execution_count": null,
   "id": "648935a5",
   "metadata": {},
   "outputs": [],
   "source": [
    "data_balance_ave_valid_check = data_balance_ave_valid(df_forecast, on = \"week_number\")"
   ]
  },
  {
   "cell_type": "code",
   "execution_count": null,
   "id": "e11f0c5b",
   "metadata": {},
   "outputs": [],
   "source": [
    "data_balance_ave_valid_check = data_balance_ave_valid.merge(df_forecast, on = \"week_number\")"
   ]
  },
  {
   "cell_type": "code",
   "execution_count": null,
   "id": "8b6aa0b0",
   "metadata": {},
   "outputs": [],
   "source": [
    "data_balance_ave_valid_check"
   ]
  },
  {
   "cell_type": "code",
   "execution_count": null,
   "id": "bf7a0f6c",
   "metadata": {},
   "outputs": [],
   "source": [
    "data_balance_ave_valid"
   ]
  },
  {
   "cell_type": "code",
   "execution_count": null,
   "id": "81cf4eaf",
   "metadata": {},
   "outputs": [],
   "source": [
    "data_balance_ave_valid_check"
   ]
  },
  {
   "cell_type": "code",
   "execution_count": null,
   "id": "40d40a6f",
   "metadata": {},
   "outputs": [],
   "source": [
    "data_balance_ave_valid_check[\"AE\"] = abs(data_balance_ave_valid_check[\"total_claims\"] - data_balance_ave_valid_check[\"total_claim_pred\"])\n",
    "data_balance_ave_valid_check[\"SE\"] = (data_balance_ave_valid_check[\"total_claims\"] - data_balance_ave_valid_check[\"total_claim_pred\"])**@"
   ]
  },
  {
   "cell_type": "code",
   "execution_count": null,
   "id": "7cb958d3",
   "metadata": {},
   "outputs": [],
   "source": [
    "data_balance_ave_valid_check[\"AE\"] = abs(data_balance_ave_valid_check[\"total_claims\"] - data_balance_ave_valid_check[\"total_claim_pred\"])\n",
    "data_balance_ave_valid_check[\"SE\"] = (data_balance_ave_valid_check[\"total_claims\"] - data_balance_ave_valid_check[\"total_claim_pred\"])**2"
   ]
  },
  {
   "cell_type": "code",
   "execution_count": null,
   "id": "55708625",
   "metadata": {},
   "outputs": [],
   "source": [
    "data_balance_ave_valid_check"
   ]
  },
  {
   "cell_type": "code",
   "execution_count": null,
   "id": "6d0a7ed7",
   "metadata": {},
   "outputs": [],
   "source": [
    "AE = sum(data_balance_ave_valid_check[\"AE\"])/len(data_balance_ave_valid_check)"
   ]
  },
  {
   "cell_type": "code",
   "execution_count": null,
   "id": "5360fc73",
   "metadata": {},
   "outputs": [],
   "source": [
    "AE = sum(data_balance_ave_valid_check[\"AE\"])/len(data_balance_ave_valid_check)\n",
    "SE = sum(data_balance_ave_valid_check[\"SE\"])/len(data_balance_ave_valid_check)"
   ]
  },
  {
   "cell_type": "code",
   "execution_count": null,
   "id": "bb8cbe18",
   "metadata": {},
   "outputs": [],
   "source": [
    "AE"
   ]
  },
  {
   "cell_type": "code",
   "execution_count": null,
   "id": "ab26aa7b",
   "metadata": {},
   "outputs": [],
   "source": [
    "SE"
   ]
  },
  {
   "cell_type": "markdown",
   "id": "55f78882",
   "metadata": {
    "lines_to_next_cell": 2
   },
   "source": [
    "- DEFINE YOUR CLASSES AND FUNCTIONS \n",
    "-----------------------------------\n",
    "This is not required, but is helpful in keeping your notebook organized. \n",
    "You can use the following cell or several cells to define your functions\n",
    "and classes to keep them separate from your analysis or results code.\n",
    "In general it useful to define your methods in a separate cell from where\n",
    "it is run."
   ]
  },
  {
   "cell_type": "code",
   "execution_count": null,
   "id": "af49171e",
   "metadata": {
    "lines_to_next_cell": 1
   },
   "outputs": [],
   "source": [
    "def dataExplore(data):\n",
    "    '''\n",
    "    Explore dataframe\n",
    "    '''\n",
    "    print(\"# of observations: \", data.shape[0])\n",
    "    for col in data.columns:\n",
    "        if col in [\"uu_id\", \"timeperiod\", \"week_number\", \"countyfips\", \"tract\", \"tract_name\", \"date\"]:\n",
    "            print(\"# of %s: %s\" % (col, len(pd.unique(data[col]))))\n",
    "        else:\n",
    "            print(\"Unique value of %s: %s\" % (col, pd.unique(data[col])))"
   ]
  },
  {
   "cell_type": "code",
   "execution_count": null,
   "id": "96c8f928",
   "metadata": {},
   "outputs": [],
   "source": [
    "def dataBalanceCheck(data):\n",
    "    '''\n",
    "    Check the balance of data frame\n",
    "    '''\n",
    "    unbalance_count = 0\n",
    "    print(\"# of observations in complete time series: \", len(pd.unique(data[\"week_number\"])))\n",
    "    for id in pd.unique(data[\"uu_id\"]):\n",
    "        if len(data[data[\"uu_id\"] == id]) <  len(pd.unique(data[\"week_number\"])):\n",
    "            print(id, len(data[data[\"uu_id\"] == id]))\n",
    "            unbalance_count += 1\n",
    "    print(\"% of tracts with incomplete time series: \", unbalance_count / len(pd.unique(data[\"uu_id\"]))*100)"
   ]
  },
  {
   "cell_type": "code",
   "execution_count": null,
   "id": "c7835165",
   "metadata": {
    "lines_to_next_cell": 1
   },
   "outputs": [],
   "source": [
    "def dataFillNa(data, value):\n",
    "    \"\"\"\n",
    "   fill NA with given value in the dataframe\n",
    "    \"\"\"\n",
    "    for col in data.columns:\n",
    "        if col in [\"uu_id\", \"timeperiod\", \"week_number\", \"countyfips\", \"tract\", \"tract_name\", \"date\"]:\n",
    "            pass\n",
    "        elif col in [\"top_category_employer1\", \"top_category_employer2\", \"top_category_employer3\"]:\n",
    "            data[col] = data[col].replace({'N/A':str(value)})\n",
    "        else:\n",
    "            data[col] = data[col].fillna(value)\n",
    "    return(data)"
   ]
  },
  {
   "cell_type": "code",
   "execution_count": null,
   "id": "83646323",
   "metadata": {
    "lines_to_next_cell": 1
   },
   "outputs": [],
   "source": [
    "def dataIdentifyDWM(data):\n",
    "    '''\n",
    "    Input: # of week. Output: data for the first day, its month and week order in the month\n",
    "    '''\n",
    "    data[\"date\"] = pd.to_datetime(2022 * 1000 + (1+(data[\"week_number\"]-1)*7), format='%Y%j')\n",
    "    data[\"month\"] = pd.DatetimeIndex(data[\"date\"]).month\n",
    "    data[\"weekofmonth\"]= pd.to_numeric(data[\"date\"].dt.day/7)\n",
    "    data['weekofmonth'] = data['weekofmonth'].apply(lambda x: math.ceil(x))\n",
    "    return(data)"
   ]
  },
  {
   "cell_type": "code",
   "execution_count": null,
   "id": "3e2138db",
   "metadata": {
    "lines_to_next_cell": 1
   },
   "outputs": [],
   "source": [
    "def MSPE(s1, s2):\n",
    "    return(sum((s1 - s2)**2)/len(s1))"
   ]
  },
  {
   "cell_type": "code",
   "execution_count": null,
   "id": "c35da0b1",
   "metadata": {
    "lines_to_next_cell": 1
   },
   "outputs": [],
   "source": [
    "def MAPE(s1, s2):\n",
    "    return(sum(abs(s1 - s2))/len(s1))"
   ]
  },
  {
   "cell_type": "code",
   "execution_count": null,
   "id": "9af16d65",
   "metadata": {
    "lines_to_next_cell": 1
   },
   "outputs": [],
   "source": [
    "def ARIMA_predict(df_input, cutoff = 0.8, n_period = 15):\n",
    "    data_balance_ave_model = data_balance_ave[[\"week_number\",\"total_claims\"]]\n",
    "    data_balance_ave_model = data_balance_ave_model.set_index(\"week_number\")\n",
    "    cutoff = int(0.8 * len(data_balance_ave_model))\n",
    "    data_balance_ave_valid = data_balance_ave_model[cutoff:]\n",
    "    data_balance_ave_train = data_balance_ave_model[:cutoff]\n",
    "    model = auto_arima(data_balance_ave_train, trace=False, error_action='ignore', suppress_warnings=True)\n",
    "    model.fit(data_balance_ave_train)\n",
    "    forecast = model.predict(n_periods = 15)\n",
    "    return(forecast)"
   ]
  },
  {
   "cell_type": "code",
   "execution_count": null,
   "id": "d62af7cb",
   "metadata": {},
   "outputs": [],
   "source": [
    "data_balance_estimate_m2 = result_m2.predict(data_balance_valid_x_m1.astype(float))\n",
    "print(\"MSPE: \", MSPE(data_balance_estimate_m2, data_balance_valid_y))\n",
    "print(\"MAPE: \", MAPE(data_balance_estimate_m2, data_balance_valid_y))"
   ]
  },
  {
   "cell_type": "code",
   "execution_count": null,
   "id": "30aa7346",
   "metadata": {},
   "outputs": [],
   "source": [
    "MAPE_series = MAPE(data_balance_ave_valid_check[\"total_claims\"], data_balance_ave_valid_check[\"total_claim_pred\"])\n",
    "MASE_series = MAPE(data_balance_ave_valid_check[\"total_claims\"], data_balance_ave_valid_check[\"total_claim_pred\"])"
   ]
  },
  {
   "cell_type": "code",
   "execution_count": null,
   "id": "6e4f172e",
   "metadata": {},
   "outputs": [],
   "source": [
    "MAPE_series"
   ]
  },
  {
   "cell_type": "code",
   "execution_count": null,
   "id": "cd1ca0cd",
   "metadata": {},
   "outputs": [],
   "source": [
    "MSPE_series"
   ]
  },
  {
   "cell_type": "code",
   "execution_count": null,
   "id": "c0f09dcf",
   "metadata": {},
   "outputs": [],
   "source": [
    "MAPE_series = MAPE(data_balance_ave_valid_check[\"total_claims\"], data_balance_ave_valid_check[\"total_claim_pred\"])\n",
    "MSPE_series = MAPE(data_balance_ave_valid_check[\"total_claims\"], data_balance_ave_valid_check[\"total_claim_pred\"])"
   ]
  },
  {
   "cell_type": "code",
   "execution_count": null,
   "id": "c2e481db",
   "metadata": {},
   "outputs": [],
   "source": [
    "MSPE_series"
   ]
  },
  {
   "cell_type": "code",
   "execution_count": null,
   "id": "c92100e7",
   "metadata": {},
   "outputs": [],
   "source": [
    "MAPE_series = MAPE(data_balance_ave_valid_check[\"total_claims\"], data_balance_ave_valid_check[\"total_claim_pred\"])\n",
    "MSPE_series = MSPE(data_balance_ave_valid_check[\"total_claims\"], data_balance_ave_valid_check[\"total_claim_pred\"])"
   ]
  },
  {
   "cell_type": "code",
   "execution_count": null,
   "id": "e19b6f31",
   "metadata": {},
   "outputs": [],
   "source": [
    "MSPE_series"
   ]
  },
  {
   "cell_type": "markdown",
   "id": "4312923e",
   "metadata": {
    "lines_to_next_cell": 2
   },
   "source": [
    "- DEFINE YOUR CLASSES AND FUNCTIONS \n",
    "-----------------------------------\n",
    "This is not required, but is helpful in keeping your notebook organized. \n",
    "You can use the following cell or several cells to define your functions\n",
    "and classes to keep them separate from your analysis or results code.\n",
    "In general it useful to define your methods in a separate cell from where\n",
    "it is run."
   ]
  },
  {
   "cell_type": "code",
   "execution_count": null,
   "id": "7f4f2950",
   "metadata": {
    "lines_to_next_cell": 1
   },
   "outputs": [],
   "source": [
    "def dataExplore(data):\n",
    "    '''\n",
    "    Explore dataframe\n",
    "    '''\n",
    "    print(\"# of observations: \", data.shape[0])\n",
    "    for col in data.columns:\n",
    "        if col in [\"uu_id\", \"timeperiod\", \"week_number\", \"countyfips\", \"tract\", \"tract_name\", \"date\"]:\n",
    "            print(\"# of %s: %s\" % (col, len(pd.unique(data[col]))))\n",
    "        else:\n",
    "            print(\"Unique value of %s: %s\" % (col, pd.unique(data[col])))"
   ]
  },
  {
   "cell_type": "code",
   "execution_count": null,
   "id": "baac7eea",
   "metadata": {},
   "outputs": [],
   "source": [
    "def dataBalanceCheck(data):\n",
    "    '''\n",
    "    Check the balance of data frame\n",
    "    '''\n",
    "    unbalance_count = 0\n",
    "    print(\"# of observations in complete time series: \", len(pd.unique(data[\"week_number\"])))\n",
    "    for id in pd.unique(data[\"uu_id\"]):\n",
    "        if len(data[data[\"uu_id\"] == id]) <  len(pd.unique(data[\"week_number\"])):\n",
    "            print(id, len(data[data[\"uu_id\"] == id]))\n",
    "            unbalance_count += 1\n",
    "    print(\"% of tracts with incomplete time series: \", unbalance_count / len(pd.unique(data[\"uu_id\"]))*100)"
   ]
  },
  {
   "cell_type": "code",
   "execution_count": null,
   "id": "51b8ce65",
   "metadata": {
    "lines_to_next_cell": 1
   },
   "outputs": [],
   "source": [
    "def dataFillNa(data, value):\n",
    "    \"\"\"\n",
    "   fill NA with given value in the dataframe\n",
    "    \"\"\"\n",
    "    for col in data.columns:\n",
    "        if col in [\"uu_id\", \"timeperiod\", \"week_number\", \"countyfips\", \"tract\", \"tract_name\", \"date\"]:\n",
    "            pass\n",
    "        elif col in [\"top_category_employer1\", \"top_category_employer2\", \"top_category_employer3\"]:\n",
    "            data[col] = data[col].replace({'N/A':str(value)})\n",
    "        else:\n",
    "            data[col] = data[col].fillna(value)\n",
    "    return(data)"
   ]
  },
  {
   "cell_type": "code",
   "execution_count": null,
   "id": "fb6c930c",
   "metadata": {
    "lines_to_next_cell": 1
   },
   "outputs": [],
   "source": [
    "def dataIdentifyDWM(data):\n",
    "    '''\n",
    "    Input: # of week. Output: data for the first day, its month and week order in the month\n",
    "    '''\n",
    "    data[\"date\"] = pd.to_datetime(2022 * 1000 + (1+(data[\"week_number\"]-1)*7), format='%Y%j')\n",
    "    data[\"month\"] = pd.DatetimeIndex(data[\"date\"]).month\n",
    "    data[\"weekofmonth\"]= pd.to_numeric(data[\"date\"].dt.day/7)\n",
    "    data['weekofmonth'] = data['weekofmonth'].apply(lambda x: math.ceil(x))\n",
    "    return(data)"
   ]
  },
  {
   "cell_type": "code",
   "execution_count": null,
   "id": "076f9d55",
   "metadata": {
    "lines_to_next_cell": 1
   },
   "outputs": [],
   "source": [
    "def MSPE(s1, s2):\n",
    "    return(sum((s1 - s2)**2)/len(s1))"
   ]
  },
  {
   "cell_type": "code",
   "execution_count": null,
   "id": "4e1ec4c4",
   "metadata": {
    "lines_to_next_cell": 1
   },
   "outputs": [],
   "source": [
    "def MAPE(s1, s2):\n",
    "    return(sum(abs(s1 - s2))/len(s1))"
   ]
  },
  {
   "cell_type": "code",
   "execution_count": null,
   "id": "1d20a01e",
   "metadata": {
    "lines_to_next_cell": 1
   },
   "outputs": [],
   "source": [
    "def ARIMA_predict(df_input, cutoff_rate = 0.8, n_period = 15):\n",
    "    cutoff = int(cutoff_rate * len(df_input))\n",
    "    valid = df_input[cutoff:]\n",
    "    train = df_input[:cutoff]\n",
    "    model = auto_arima(train, trace=False, error_action='ignore', suppress_warnings=True)\n",
    "    model.fit(train)\n",
    "    forecast = model.predict(n_period)\n",
    "    return(forecast)"
   ]
  },
  {
   "cell_type": "code",
   "execution_count": null,
   "id": "67b03697",
   "metadata": {},
   "outputs": [],
   "source": [
    "# model train and validation\n",
    "data_balance_ave_model = data_balance_ave[[\"week_number\",\"total_claims\"]]\n",
    "data_balance_ave_model = data_balance_ave_model.set_index(\"week_number\")\n",
    "forecast = ARIMA_predict(data_balance_ave_model, cutoff = 0.8, n_period = 15)"
   ]
  },
  {
   "cell_type": "code",
   "execution_count": null,
   "id": "ae4ad84d",
   "metadata": {},
   "outputs": [],
   "source": [
    "# model train and validation\n",
    "data_balance_ave_model = data_balance_ave[[\"week_number\",\"total_claims\"]]\n",
    "data_balance_ave_model = data_balance_ave_model.set_index(\"week_number\")\n",
    "forecast = ARIMA_predict(data_balance_ave_model, cutoff_rate = 0.8, n_period = 15)"
   ]
  },
  {
   "cell_type": "code",
   "execution_count": null,
   "id": "b3675232",
   "metadata": {},
   "outputs": [],
   "source": [
    "# validation\n",
    "df_forecast = pd.DataFrame(forecast)\n",
    "df_forecast.index.name = \"week_number\"\n",
    "df_forecast.columns = [\"total_claim_pred\"]\n",
    "df_forecast"
   ]
  },
  {
   "cell_type": "code",
   "execution_count": null,
   "id": "82e41f64",
   "metadata": {},
   "outputs": [],
   "source": [
    "MAPE_series = MAPE(data_balance_ave_valid_check[\"total_claims\"], data_balance_ave_valid_check[\"total_claim_pred\"])\n",
    "MSPE_series = MSPE(data_balance_ave_valid_check[\"total_claims\"], data_balance_ave_valid_check[\"total_claim_pred\"])"
   ]
  },
  {
   "cell_type": "code",
   "execution_count": null,
   "id": "aaf7ca02",
   "metadata": {},
   "outputs": [],
   "source": [
    "uu_id_list = pd.unique(data_balance[\"uu_id\"])"
   ]
  },
  {
   "cell_type": "code",
   "execution_count": null,
   "id": "a349a062",
   "metadata": {},
   "outputs": [],
   "source": [
    "len(uu_id_list)"
   ]
  },
  {
   "cell_type": "code",
   "execution_count": null,
   "id": "a1ab2f21",
   "metadata": {},
   "outputs": [],
   "source": [
    "uu_id_list = pd.unique(data[\"uu_id\"])"
   ]
  },
  {
   "cell_type": "code",
   "execution_count": null,
   "id": "ff6d5da7",
   "metadata": {},
   "outputs": [],
   "source": [
    "len(uu_id_list)"
   ]
  },
  {
   "cell_type": "code",
   "execution_count": null,
   "id": "03318855",
   "metadata": {},
   "outputs": [],
   "source": [
    "uu_id_list = pd.unique(data_pred_query[\"uu_id\"])"
   ]
  },
  {
   "cell_type": "code",
   "execution_count": null,
   "id": "7f848eca",
   "metadata": {},
   "outputs": [],
   "source": [
    "len(uu_id_list)"
   ]
  },
  {
   "cell_type": "code",
   "execution_count": null,
   "id": "aba55559",
   "metadata": {},
   "outputs": [],
   "source": [
    "uu_id_list = pd.unique(data_balance[\"uu_id\"])"
   ]
  },
  {
   "cell_type": "code",
   "execution_count": null,
   "id": "4d1ed458",
   "metadata": {},
   "outputs": [],
   "source": [
    "len(uu_id_list)"
   ]
  },
  {
   "cell_type": "code",
   "execution_count": null,
   "id": "164a4871",
   "metadata": {},
   "outputs": [],
   "source": [
    "data_balance_tract = data_balance[data_balance[\"uu_id\"] == uu_id_list[0]]"
   ]
  },
  {
   "cell_type": "code",
   "execution_count": null,
   "id": "ba1e7882",
   "metadata": {},
   "outputs": [],
   "source": [
    "data_balance_tract"
   ]
  },
  {
   "cell_type": "code",
   "execution_count": null,
   "id": "2fd65ac0",
   "metadata": {},
   "outputs": [],
   "source": [
    "# model train and validation\n",
    "data_balance_tract = data_balance[data_balance[\"uu_id\"] == uu_id_list[0]]\n",
    "data_balance_tract_model = data_balance_tract[[\"week_number\",\"total_claims\"]]\n",
    "data_balance_tract_model = data_balance_tract_model.set_index(\"week_number\")\n",
    "forecast = ARIMA_predict(data_balance_ave_model, cutoff_rate = 0.8, n_period = 15)"
   ]
  },
  {
   "cell_type": "code",
   "execution_count": null,
   "id": "450cf13c",
   "metadata": {},
   "outputs": [],
   "source": [
    "# validation\n",
    "df_forecast = pd.DataFrame(forecast)\n",
    "df_forecast.index.name = \"week_number\"\n",
    "df_forecast.columns = [\"total_claim_pred\"]\n",
    "df_forecast"
   ]
  },
  {
   "cell_type": "code",
   "execution_count": null,
   "id": "8d7c58ad",
   "metadata": {},
   "outputs": [],
   "source": [
    "# model train and validation\n",
    "data_balance_tract = data_balance[data_balance[\"uu_id\"] == uu_id_list[0]]\n",
    "data_balance_tract_model = data_balance_tract[[\"week_number\",\"total_claims\"]]\n",
    "data_balance_tract_model = data_balance_tract_model.set_index(\"week_number\")\n",
    "forecast = ARIMA_predict(data_balance_tract_model, cutoff_rate = 0.8, n_period = 15)"
   ]
  },
  {
   "cell_type": "code",
   "execution_count": null,
   "id": "96b19a29",
   "metadata": {},
   "outputs": [],
   "source": [
    "# validation\n",
    "df_forecast = pd.DataFrame(forecast)\n",
    "df_forecast.index.name = \"week_number\"\n",
    "df_forecast.columns = [\"total_claim_pred\"]\n",
    "df_forecast"
   ]
  },
  {
   "cell_type": "code",
   "execution_count": null,
   "id": "3ccbc861",
   "metadata": {},
   "outputs": [],
   "source": [
    "data_balance_ave_valid_check = data_balance_ave_valid.merge(df_forecast, on = \"week_number\")\n",
    "MAPE_series = MAPE(data_balance_ave_valid_check[\"total_claims\"], data_balance_ave_valid_check[\"total_claim_pred\"])\n",
    "MSPE_series = MSPE(data_balance_ave_valid_check[\"total_claims\"], data_balance_ave_valid_check[\"total_claim_pred\"])"
   ]
  },
  {
   "cell_type": "code",
   "execution_count": null,
   "id": "bd2582f7",
   "metadata": {},
   "outputs": [],
   "source": [
    "data_balance_ave_valid_check"
   ]
  },
  {
   "cell_type": "code",
   "execution_count": null,
   "id": "d8f38961",
   "metadata": {},
   "outputs": [],
   "source": [
    "# model train and validation\n",
    "MAPE_list = []\n",
    "MSPE_list = []"
   ]
  },
  {
   "cell_type": "code",
   "execution_count": null,
   "id": "844269d9",
   "metadata": {},
   "outputs": [],
   "source": [
    "uu_id_list = pd.unique(data_balance[\"uu_id\"])"
   ]
  },
  {
   "cell_type": "code",
   "execution_count": null,
   "id": "739e6e26",
   "metadata": {},
   "outputs": [],
   "source": [
    "for i in range(len(uu_id_list)):\n",
    "    data_balance_tract = data_balance[data_balance[\"uu_id\"] == uu_id_list[i]]\n",
    "    data_balance_tract_model = data_balance_tract[[\"week_number\",\"total_claims\"]]\n",
    "    data_balance_tract_model = data_balance_tract_model.set_index(\"week_number\")\n",
    "    forecast = ARIMA_predict(data_balance_tract_model, cutoff_rate = 0.8, n_period = 15)\n",
    "    \n",
    "    df_forecast = pd.DataFrame(forecast)\n",
    "    df_forecast.index.name = \"week_number\"\n",
    "    df_forecast.columns = [\"total_claim_pred\"]\n",
    "    \n",
    "    data_balance_ave_valid_check = data_balance_ave_valid.merge(df_forecast, on = \"week_number\")\n",
    "    MAPE_series = MAPE(data_balance_ave_valid_check[\"total_claims\"], data_balance_ave_valid_check[\"total_claim_pred\"])\n",
    "    MSPE_series = MSPE(data_balance_ave_valid_check[\"total_claims\"], data_balance_ave_valid_check[\"total_claim_pred\"])\n",
    "    \n",
    "    MAPE_list.append(MAPE_series)\n",
    "    MSPE_list.append(MSPE_series)\n",
    "    \n",
    "    if i > 0:\n",
    "        break  "
   ]
  },
  {
   "cell_type": "code",
   "execution_count": null,
   "id": "2d3241dd",
   "metadata": {},
   "outputs": [],
   "source": [
    "# model train and validation\n",
    "MAPE_list = []\n",
    "MSPE_list = []"
   ]
  },
  {
   "cell_type": "code",
   "execution_count": null,
   "id": "e82c85e4",
   "metadata": {},
   "outputs": [],
   "source": [
    "uu_id_list = pd.unique(data_balance[\"uu_id\"])"
   ]
  },
  {
   "cell_type": "code",
   "execution_count": null,
   "id": "ff4777ce",
   "metadata": {},
   "outputs": [],
   "source": [
    "for i in range(len(uu_id_list)):\n",
    "    data_balance_tract = data_balance[data_balance[\"uu_id\"] == uu_id_list[i]]\n",
    "    data_balance_tract_model = data_balance_tract[[\"week_number\",\"total_claims\"]]\n",
    "    data_balance_tract_model = data_balance_tract_model.set_index(\"week_number\")\n",
    "    forecast = ARIMA_predict(data_balance_tract_model, cutoff_rate = 0.8, n_period = 15)\n",
    "    \n",
    "    df_forecast = pd.DataFrame(forecast)\n",
    "    df_forecast.index.name = \"week_number\"\n",
    "    df_forecast.columns = [\"total_claim_pred\"]\n",
    "    \n",
    "    data_balance_ave_valid_check = data_balance_ave_valid.merge(df_forecast, on = \"week_number\")\n",
    "    MAPE_series = MAPE(data_balance_ave_valid_check[\"total_claims\"], data_balance_ave_valid_check[\"total_claim_pred\"])\n",
    "    MSPE_series = MSPE(data_balance_ave_valid_check[\"total_claims\"], data_balance_ave_valid_check[\"total_claim_pred\"])\n",
    "    \n",
    "    MAPE_list.append(MAPE_series)\n",
    "    MSPE_list.append(MSPE_series)\n",
    "    \n",
    "    if i > 10:\n",
    "        break  "
   ]
  },
  {
   "cell_type": "code",
   "execution_count": null,
   "id": "4a68c5cc",
   "metadata": {},
   "outputs": [],
   "source": [
    "# validation\n",
    "MAPE_list"
   ]
  },
  {
   "cell_type": "code",
   "execution_count": null,
   "id": "1d621d26",
   "metadata": {},
   "outputs": [],
   "source": [
    "# validation\n",
    "print(\"MAPE: \", sum(MAPE_list)/len(MAPE_list))\n",
    "print(\"MSPE: \", sum(MSPE_list)/len(MSPE_list))"
   ]
  },
  {
   "cell_type": "code",
   "execution_count": null,
   "id": "fb960a02",
   "metadata": {},
   "outputs": [],
   "source": [
    "# model train and validation\n",
    "MAPE_list = []\n",
    "MSPE_list = []"
   ]
  },
  {
   "cell_type": "code",
   "execution_count": null,
   "id": "0b36e938",
   "metadata": {},
   "outputs": [],
   "source": [
    "uu_id_list = pd.unique(data_balance[\"uu_id\"])"
   ]
  },
  {
   "cell_type": "code",
   "execution_count": null,
   "id": "e9ca2b5c",
   "metadata": {},
   "outputs": [],
   "source": [
    "for i in range(len(uu_id_list)):\n",
    "    data_balance_tract = data_balance[data_balance[\"uu_id\"] == uu_id_list[i]]\n",
    "    data_balance_tract_model = data_balance_tract[[\"week_number\",\"total_claims\"]]\n",
    "    data_balance_tract_model = data_balance_tract_model.set_index(\"week_number\")\n",
    "    forecast = ARIMA_predict(data_balance_tract_model, cutoff_rate = 0.8, n_period = 15)\n",
    "    \n",
    "    df_forecast = pd.DataFrame(forecast)\n",
    "    df_forecast.index.name = \"week_number\"\n",
    "    df_forecast.columns = [\"total_claim_pred\"]\n",
    "    \n",
    "    data_balance_ave_valid_check = data_balance_ave_valid.merge(df_forecast, on = \"week_number\")\n",
    "    MAPE_series = MAPE(data_balance_ave_valid_check[\"total_claims\"], data_balance_ave_valid_check[\"total_claim_pred\"])\n",
    "    MSPE_series = MSPE(data_balance_ave_valid_check[\"total_claims\"], data_balance_ave_valid_check[\"total_claim_pred\"])\n",
    "    \n",
    "    MAPE_list.append(MAPE_series)\n",
    "    MSPE_list.append(MSPE_series)"
   ]
  },
  {
   "cell_type": "code",
   "execution_count": null,
   "id": "d88cb8ed",
   "metadata": {},
   "outputs": [],
   "source": [
    "# validation\n",
    "print(\"MAPE: \", sum(MAPE_list)/len(MAPE_list))\n",
    "print(\"MSPE: \", sum(MSPE_list)/len(MSPE_list))"
   ]
  },
  {
   "cell_type": "code",
   "execution_count": null,
   "id": "76617701",
   "metadata": {},
   "outputs": [],
   "source": [
    "# Based on MAPE and MSPE, now the ARIMA model has best prediction, so the following prediction is based on ARIMA model\n",
    "data_lastWeek = data[data[\"week_number\"] == train_week][[\"uu_id\", \"average_wage\"]]\n",
    "data_lastWeek = data_lastWeek.drop_duplicates()"
   ]
  },
  {
   "cell_type": "code",
   "execution_count": null,
   "id": "09ad3fbe",
   "metadata": {},
   "outputs": [],
   "source": [
    "# Based on MAPE and MSPE, now the ARIMA model has best prediction, so the following prediction is based on ARIMA model\n",
    "data_pred = data_pred_query.copy()"
   ]
  },
  {
   "cell_type": "code",
   "execution_count": null,
   "id": "eb7219c5",
   "metadata": {},
   "outputs": [],
   "source": [
    "# Prediction with ARIMA model\n",
    "data_pred.head()"
   ]
  },
  {
   "cell_type": "code",
   "execution_count": null,
   "id": "5a37e329",
   "metadata": {},
   "outputs": [],
   "source": [
    "# Based on MAPE and MSPE, now the ARIMA model has best prediction, so the following prediction is based on ARIMA model\n",
    "data_pred = data_pred_query.copy()"
   ]
  },
  {
   "cell_type": "code",
   "execution_count": null,
   "id": "f6498544",
   "metadata": {},
   "outputs": [],
   "source": [
    "# Prediction with ARIMA model, for week 41\n",
    "uu_id_list_pred = pd.unique(data_pred[\"uu_id\"])"
   ]
  },
  {
   "cell_type": "code",
   "execution_count": null,
   "id": "14f3cb28",
   "metadata": {},
   "outputs": [],
   "source": [
    "data_pred.head()"
   ]
  },
  {
   "cell_type": "code",
   "execution_count": null,
   "id": "fb21748f",
   "metadata": {},
   "outputs": [],
   "source": [
    "# Obtain data using BigQuery\n",
    "BIGQUERY_PROJECT = 'ironhacks-data'\n",
    "bigquery_client = bigquery.Client(project=BIGQUERY_PROJECT)"
   ]
  },
  {
   "cell_type": "code",
   "execution_count": null,
   "id": "6008927f",
   "metadata": {},
   "outputs": [],
   "source": [
    "query = \"\"\"\n",
    "SELECT\n",
    "a.*,\n",
    "b.average_wage\n",
    "FROM \n",
    "(SELECT \n",
    "*\n",
    "FROM `ironhacks-data.ironhacks_competition.unemployment_data`) a\n",
    "JOIN `ironhacks-data.ironhacks_competition.wage_data` b \n",
    "ON a.uu_id=b.uu_id\n",
    "\"\"\""
   ]
  },
  {
   "cell_type": "code",
   "execution_count": null,
   "id": "ced33004",
   "metadata": {},
   "outputs": [],
   "source": [
    "query_job = bigquery_client.query(query)\n",
    "data = query_job.to_dataframe()"
   ]
  },
  {
   "cell_type": "code",
   "execution_count": null,
   "id": "e3fa6071",
   "metadata": {},
   "outputs": [],
   "source": [
    "query_pred = \"\"\"\n",
    "SELECT * FROM `ironhacks-data.ironhacks_competition.prediction_list`\n",
    "\"\"\""
   ]
  },
  {
   "cell_type": "code",
   "execution_count": null,
   "id": "6f3502c4",
   "metadata": {},
   "outputs": [],
   "source": [
    "query_job_pred = bigquery_client.query(query_pred)\n",
    "data_pred_query= query_job_pred.to_dataframe()"
   ]
  },
  {
   "cell_type": "code",
   "execution_count": null,
   "id": "52d31a0e",
   "metadata": {},
   "outputs": [],
   "source": [
    "# Based on MAPE and MSPE, now the ARIMA model has best prediction, so the following prediction is based on ARIMA model\n",
    "data_pred = data_pred_query.copy()"
   ]
  },
  {
   "cell_type": "code",
   "execution_count": null,
   "id": "ed10412b",
   "metadata": {},
   "outputs": [],
   "source": [
    "data_pred.head()"
   ]
  },
  {
   "cell_type": "code",
   "execution_count": null,
   "id": "269d6126",
   "metadata": {},
   "outputs": [],
   "source": [
    "# Prediction with ARIMA model, for week 41\n",
    "data_pred[\"total_claims\"] = 0"
   ]
  },
  {
   "cell_type": "code",
   "execution_count": null,
   "id": "f4f9646d",
   "metadata": {},
   "outputs": [],
   "source": [
    "len(data_pred)"
   ]
  },
  {
   "cell_type": "code",
   "execution_count": null,
   "id": "a1408125",
   "metadata": {},
   "outputs": [],
   "source": [
    "data_pred.iloc[0][\"uu_id\"]"
   ]
  },
  {
   "cell_type": "code",
   "execution_count": null,
   "id": "e3c37750",
   "metadata": {},
   "outputs": [],
   "source": [
    "for i in range(len(data_pred)):\n",
    "    uu_id_pre = data_pred.iloc[i][\"uu_id\"]\n",
    "    data_balance_tract = data_balance[data_balance[\"uu_id\"] == uu_id_pre]\n",
    "    data_balance_tract_model = data_balance_tract[[\"week_number\",\"total_claims\"]]\n",
    "    data_balance_tract_model = data_balance_tract_model.set_index(\"week_number\")\n",
    "    forecast = ARIMA_predict(data_balance_tract_model, cutoff_rate = 0.8, n_period = 15)\n",
    "    \n",
    "    df_forecast = pd.DataFrame(forecast)\n",
    "    df_forecast.index.name = \"week_number\"\n",
    "    df_forecast.columns = [\"total_claim_pred\"]\n",
    "    \n",
    "    print(df_forecast.loc[41][\"total_claim_pred\"])\n",
    "\n",
    "    break"
   ]
  },
  {
   "cell_type": "code",
   "execution_count": null,
   "id": "e87ae4aa",
   "metadata": {},
   "outputs": [],
   "source": [
    "for i in range(len(data_pred)):\n",
    "    uu_id_pre = data_pred.iloc[i][\"uu_id\"]\n",
    "    data_balance_tract = data_balance[data_balance[\"uu_id\"] == uu_id_pre]\n",
    "    data_balance_tract_model = data_balance_tract[[\"week_number\",\"total_claims\"]]\n",
    "    data_balance_tract_model = data_balance_tract_model.set_index(\"week_number\")\n",
    "    forecast = ARIMA_predict(data_balance_tract_model, cutoff_rate = 0.8, n_period = 15)\n",
    "    \n",
    "    df_forecast = pd.DataFrame(forecast)\n",
    "    df_forecast.index.name = \"week_number\"\n",
    "    df_forecast.columns = [\"total_claim_pred\"]\n",
    "    \n",
    "    print(df_forecast.loc[41][\"total_claim_pred\"])\n",
    "    print(df_forecast)\n",
    "    break"
   ]
  },
  {
   "cell_type": "code",
   "execution_count": null,
   "id": "69b5119d",
   "metadata": {},
   "outputs": [],
   "source": [
    "for i in range(len(data_pred)):\n",
    "    uu_id_pre = data_pred.iloc[i][\"uu_id\"]\n",
    "    data_balance_tract = data_balance[data_balance[\"uu_id\"] == uu_id_pre]\n",
    "    data_balance_tract_model = data_balance_tract[[\"week_number\",\"total_claims\"]]\n",
    "    data_balance_tract_model = data_balance_tract_model.set_index(\"week_number\")\n",
    "    forecast = ARIMA_predict(data_balance_tract_model, cutoff_rate = 0.8, n_period = 15)\n",
    "    \n",
    "    df_forecast = pd.DataFrame(forecast)\n",
    "    df_forecast.index.name = \"week_number\"\n",
    "    df_forecast.columns = [\"total_claim_pred\"]\n",
    "    \n",
    "    total_claim_pre = df_forecast.loc[data_pred.iloc[i][\"week_number\"]][\"total_claim_pred\"]\n",
    "    \n",
    "    data_pred.iloc[i][\"total_claims\"] = total_claim_pre\n",
    "    \n",
    "    if i > 10:\n",
    "        break"
   ]
  },
  {
   "cell_type": "code",
   "execution_count": null,
   "id": "ed1e183f",
   "metadata": {},
   "outputs": [],
   "source": [
    "data_pred"
   ]
  },
  {
   "cell_type": "code",
   "execution_count": null,
   "id": "533fcdb3",
   "metadata": {},
   "outputs": [],
   "source": [
    "for i in range(len(data_pred)):\n",
    "    uu_id_pre = data_pred.iloc[i][\"uu_id\"]\n",
    "    data_balance_tract = data_balance[data_balance[\"uu_id\"] == uu_id_pre]\n",
    "    data_balance_tract_model = data_balance_tract[[\"week_number\",\"total_claims\"]]\n",
    "    data_balance_tract_model = data_balance_tract_model.set_index(\"week_number\")\n",
    "    forecast = ARIMA_predict(data_balance_tract_model, cutoff_rate = 0.8, n_period = 15)\n",
    "    \n",
    "    df_forecast = pd.DataFrame(forecast)\n",
    "    df_forecast.index.name = \"week_number\"\n",
    "    df_forecast.columns = [\"total_claim_pred\"]\n",
    "    \n",
    "    \n",
    "    total_claim_pre = df_forecast.loc[data_pred.iloc[i][\"week_number\"]][\"total_claim_pred\"]\n",
    "    \n",
    "    data_pred.iloc[i][\"total_claims\"] = total_claim_pre\n",
    "    \n",
    "    print(i)\n",
    "    print(print(data_pred.iloc[i][\"week_number\"]))\n",
    "    print(total_claim_pre)\n",
    "    \n",
    "    if i > 10:\n",
    "        break"
   ]
  },
  {
   "cell_type": "code",
   "execution_count": null,
   "id": "8ee16ede",
   "metadata": {},
   "outputs": [],
   "source": [
    "for i in range(len(data_pred)):\n",
    "    uu_id_pre = data_pred.iloc[i][\"uu_id\"]\n",
    "    data_balance_tract = data_balance[data_balance[\"uu_id\"] == uu_id_pre]\n",
    "    data_balance_tract_model = data_balance_tract[[\"week_number\",\"total_claims\"]]\n",
    "    data_balance_tract_model = data_balance_tract_model.set_index(\"week_number\")\n",
    "    forecast = ARIMA_predict(data_balance_tract_model, cutoff_rate = 0.8, n_period = 15)\n",
    "    \n",
    "    df_forecast = pd.DataFrame(forecast)\n",
    "    df_forecast.index.name = \"week_number\"\n",
    "    df_forecast.columns = [\"total_claim_pred\"]\n",
    "    \n",
    "    \n",
    "    total_claim_pre = df_forecast.loc[data_pred.iloc[i][\"week_number\"]][\"total_claim_pred\"]\n",
    "    \n",
    "    data_pred.iloc[i][\"total_claims\"] = total_claim_pre\n",
    "    \n",
    "    print(i)\n",
    "    print(data_pred.iloc[i][\"week_number\"])\n",
    "    print(total_claim_pre)\n",
    "    \n",
    "    if i > 10:\n",
    "        break"
   ]
  },
  {
   "cell_type": "code",
   "execution_count": null,
   "id": "71bf5980",
   "metadata": {},
   "outputs": [],
   "source": [
    "data_pred"
   ]
  },
  {
   "cell_type": "code",
   "execution_count": null,
   "id": "0d10b163",
   "metadata": {},
   "outputs": [],
   "source": [
    "data_pred"
   ]
  },
  {
   "cell_type": "code",
   "execution_count": null,
   "id": "d240b9fe",
   "metadata": {},
   "outputs": [],
   "source": [
    "data_pred.iloc[1][\"total_claims\"]"
   ]
  },
  {
   "cell_type": "code",
   "execution_count": null,
   "id": "fa5c9f8b",
   "metadata": {},
   "outputs": [],
   "source": [
    "data_pred.iloc[0][\"total_claims\"]"
   ]
  },
  {
   "cell_type": "code",
   "execution_count": null,
   "id": "ccbca335",
   "metadata": {},
   "outputs": [],
   "source": [
    "data_pred.iloc[0]"
   ]
  },
  {
   "cell_type": "code",
   "execution_count": null,
   "id": "a27219f5",
   "metadata": {},
   "outputs": [],
   "source": [
    "data_pred.iloc[1][\"total_claims\"] =1"
   ]
  },
  {
   "cell_type": "code",
   "execution_count": null,
   "id": "6d4ab889",
   "metadata": {},
   "outputs": [],
   "source": [
    "data_pred"
   ]
  },
  {
   "cell_type": "code",
   "execution_count": null,
   "id": "49dc17e1",
   "metadata": {},
   "outputs": [],
   "source": [
    "for i in range(len(data_pred)):\n",
    "    uu_id_pre = data_pred.loc[i][\"uu_id\"]\n",
    "    data_balance_tract = data_balance[data_balance[\"uu_id\"] == uu_id_pre]\n",
    "    data_balance_tract_model = data_balance_tract[[\"week_number\",\"total_claims\"]]\n",
    "    data_balance_tract_model = data_balance_tract_model.set_index(\"week_number\")\n",
    "    forecast = ARIMA_predict(data_balance_tract_model, cutoff_rate = 0.8, n_period = 15)\n",
    "    \n",
    "    df_forecast = pd.DataFrame(forecast)\n",
    "    df_forecast.index.name = \"week_number\"\n",
    "    df_forecast.columns = [\"total_claim_pred\"]\n",
    "    \n",
    "    \n",
    "    total_claim_pre = df_forecast.loc[data_pred.iloc[i][\"week_number\"]][\"total_claim_pred\"]\n",
    "    \n",
    "    data_pred.loc[i][\"total_claims\"] = total_claim_pre\n",
    "    \n",
    "    print(i)\n",
    "    print(data_pred.iloc[i][\"week_number\"])\n",
    "    print(total_claim_pre)\n",
    "    \n",
    "    if i > 10:\n",
    "        break"
   ]
  },
  {
   "cell_type": "code",
   "execution_count": null,
   "id": "bb62ef0a",
   "metadata": {},
   "outputs": [],
   "source": [
    "data_pred"
   ]
  },
  {
   "cell_type": "code",
   "execution_count": null,
   "id": "fed7404a",
   "metadata": {},
   "outputs": [],
   "source": [
    "for i in range(len(data_pred)):\n",
    "    uu_id_pre = data_pred.loc[i][\"uu_id\"]\n",
    "    data_balance_tract = data_balance[data_balance[\"uu_id\"] == uu_id_pre]\n",
    "    data_balance_tract_model = data_balance_tract[[\"week_number\",\"total_claims\"]]\n",
    "    data_balance_tract_model = data_balance_tract_model.set_index(\"week_number\")\n",
    "    forecast = ARIMA_predict(data_balance_tract_model, cutoff_rate = 0.8, n_period = 15)\n",
    "    \n",
    "    df_forecast = pd.DataFrame(forecast)\n",
    "    df_forecast.index.name = \"week_number\"\n",
    "    df_forecast.columns = [\"total_claim_pred\"]\n",
    "    \n",
    "    \n",
    "    total_claim_pre = df_forecast.loc[data_pred.iloc[i][\"week_number\"]][\"total_claim_pred\"]\n",
    "    \n",
    "    data_pred.loc[i,\"total_claims\"] = total_claim_pre\n",
    "    \n",
    "    print(i)\n",
    "    print(data_pred.iloc[i][\"week_number\"])\n",
    "    print(total_claim_pre)\n",
    "    \n",
    "    if i > 10:\n",
    "        break"
   ]
  },
  {
   "cell_type": "code",
   "execution_count": null,
   "id": "c4074176",
   "metadata": {},
   "outputs": [],
   "source": [
    "data_pred"
   ]
  },
  {
   "cell_type": "code",
   "execution_count": null,
   "id": "87e4cad6",
   "metadata": {},
   "outputs": [],
   "source": [
    "# Prediction with ARIMA model, for week 41\n",
    "data_pred[\"total_claims\"] = 0"
   ]
  },
  {
   "cell_type": "markdown",
   "id": "9a53401a",
   "metadata": {
    "lines_to_next_cell": 2
   },
   "source": [
    "- DEFINE YOUR CLASSES AND FUNCTIONS \n",
    "-----------------------------------\n",
    "This is not required, but is helpful in keeping your notebook organized. \n",
    "You can use the following cell or several cells to define your functions\n",
    "and classes to keep them separate from your analysis or results code.\n",
    "In general it useful to define your methods in a separate cell from where\n",
    "it is run."
   ]
  },
  {
   "cell_type": "code",
   "execution_count": null,
   "id": "798b5da3",
   "metadata": {
    "lines_to_next_cell": 1
   },
   "outputs": [],
   "source": [
    "def dataExplore(data):\n",
    "    '''\n",
    "    Explore dataframe\n",
    "    '''\n",
    "    print(\"# of observations: \", data.shape[0])\n",
    "    for col in data.columns:\n",
    "        if col in [\"uu_id\", \"timeperiod\", \"week_number\", \"countyfips\", \"tract\", \"tract_name\", \"date\"]:\n",
    "            print(\"# of %s: %s\" % (col, len(pd.unique(data[col]))))\n",
    "        else:\n",
    "            print(\"Unique value of %s: %s\" % (col, pd.unique(data[col])))"
   ]
  },
  {
   "cell_type": "code",
   "execution_count": null,
   "id": "15e387c9",
   "metadata": {},
   "outputs": [],
   "source": [
    "def dataBalanceCheck(data):\n",
    "    '''\n",
    "    Check the balance of data frame\n",
    "    '''\n",
    "    unbalance_count = 0\n",
    "    print(\"# of observations in complete time series: \", len(pd.unique(data[\"week_number\"])))\n",
    "    for id in pd.unique(data[\"uu_id\"]):\n",
    "        if len(data[data[\"uu_id\"] == id]) <  len(pd.unique(data[\"week_number\"])):\n",
    "            print(id, len(data[data[\"uu_id\"] == id]))\n",
    "            unbalance_count += 1\n",
    "    print(\"% of tracts with incomplete time series: \", unbalance_count / len(pd.unique(data[\"uu_id\"]))*100)"
   ]
  },
  {
   "cell_type": "code",
   "execution_count": null,
   "id": "337ac7d3",
   "metadata": {
    "lines_to_next_cell": 1
   },
   "outputs": [],
   "source": [
    "def dataFillNa(data, value):\n",
    "    \"\"\"\n",
    "   fill NA with given value in the dataframe\n",
    "    \"\"\"\n",
    "    for col in data.columns:\n",
    "        if col in [\"uu_id\", \"timeperiod\", \"week_number\", \"countyfips\", \"tract\", \"tract_name\", \"date\"]:\n",
    "            pass\n",
    "        elif col in [\"top_category_employer1\", \"top_category_employer2\", \"top_category_employer3\"]:\n",
    "            data[col] = data[col].replace({'N/A':str(value)})\n",
    "        else:\n",
    "            data[col] = data[col].fillna(value)\n",
    "    return(data)"
   ]
  },
  {
   "cell_type": "code",
   "execution_count": null,
   "id": "5bc0764c",
   "metadata": {
    "lines_to_next_cell": 1
   },
   "outputs": [],
   "source": [
    "def dataIdentifyDWM(data):\n",
    "    '''\n",
    "    Input: # of week. Output: data for the first day, its month and week order in the month\n",
    "    '''\n",
    "    data[\"date\"] = pd.to_datetime(2022 * 1000 + (1+(data[\"week_number\"]-1)*7), format='%Y%j')\n",
    "    data[\"month\"] = pd.DatetimeIndex(data[\"date\"]).month\n",
    "    data[\"weekofmonth\"]= pd.to_numeric(data[\"date\"].dt.day/7)\n",
    "    data['weekofmonth'] = data['weekofmonth'].apply(lambda x: math.ceil(x))\n",
    "    return(data)"
   ]
  },
  {
   "cell_type": "code",
   "execution_count": null,
   "id": "b5abb43e",
   "metadata": {
    "lines_to_next_cell": 1
   },
   "outputs": [],
   "source": [
    "def MSPE(s1, s2):\n",
    "    return(sum((s1 - s2)**2)/len(s1))"
   ]
  },
  {
   "cell_type": "code",
   "execution_count": null,
   "id": "f0ded364",
   "metadata": {
    "lines_to_next_cell": 1
   },
   "outputs": [],
   "source": [
    "def MAPE(s1, s2):\n",
    "    return(sum(abs(s1 - s2))/len(s1))"
   ]
  },
  {
   "cell_type": "code",
   "execution_count": null,
   "id": "62588c59",
   "metadata": {
    "lines_to_next_cell": 1
   },
   "outputs": [],
   "source": [
    "def ARIMA_predict(df_input, cutoff_rate = 0.8, n_period = 15):\n",
    "    cutoff = int(cutoff_rate * len(df_input))\n",
    "    if cutoff_rate < 1:\n",
    "        valid = df_input[cutoff:]\n",
    "    train = df_input[:cutoff]\n",
    "    model = auto_arima(train, trace=False, error_action='ignore', suppress_warnings=True)\n",
    "    model.fit(train)\n",
    "    forecast = model.predict(n_period)\n",
    "    return(forecast)"
   ]
  },
  {
   "cell_type": "code",
   "execution_count": null,
   "id": "74c1eec6",
   "metadata": {},
   "outputs": [],
   "source": [
    "for i in range(len(data_pred)):\n",
    "    uu_id_pre = data_pred.loc[i][\"uu_id\"]\n",
    "    data_balance_tract = data_balance[data_balance[\"uu_id\"] == uu_id_pre]\n",
    "    data_balance_tract_model = data_balance_tract[[\"week_number\",\"total_claims\"]]\n",
    "    data_balance_tract_model = data_balance_tract_model.set_index(\"week_number\")\n",
    "    forecast = ARIMA_predict(data_balance_tract_model, cutoff_rate = 1, n_period = 10)\n",
    "    \n",
    "    df_forecast = pd.DataFrame(forecast)\n",
    "    df_forecast.index.name = \"week_number\"\n",
    "    df_forecast.columns = [\"total_claim_pred\"]\n",
    "    \n",
    "    \n",
    "    total_claim_pre = df_forecast.loc[data_pred.iloc[i][\"week_number\"]][\"total_claim_pred\"]\n",
    "    \n",
    "    data_pred.loc[i,\"total_claims\"] = total_claim_pre\n",
    "    \n",
    "    print(i)\n",
    "    print(data_pred.iloc[i][\"week_number\"])\n",
    "    print(total_claim_pre)\n",
    "    \n",
    "    if i > 2:\n",
    "        break"
   ]
  },
  {
   "cell_type": "code",
   "execution_count": null,
   "id": "03ecdf4c",
   "metadata": {},
   "outputs": [],
   "source": [
    "# Based on MAPE and MSPE, now the ARIMA model has best prediction, so the following prediction is based on ARIMA model\n",
    "data_pred = data_pred_query.copy()"
   ]
  },
  {
   "cell_type": "code",
   "execution_count": null,
   "id": "833f5d76",
   "metadata": {},
   "outputs": [],
   "source": [
    "# Prediction with ARIMA model, for week 41\n",
    "data_pred[\"total_claims\"] = 0"
   ]
  },
  {
   "cell_type": "code",
   "execution_count": null,
   "id": "f8ff736e",
   "metadata": {},
   "outputs": [],
   "source": [
    "for i in range(len(data_pred)):\n",
    "    uu_id_pre = data_pred.loc[i][\"uu_id\"]\n",
    "    data_balance_tract = data_balance[data_balance[\"uu_id\"] == uu_id_pre]\n",
    "    data_balance_tract_model = data_balance_tract[[\"week_number\",\"total_claims\"]]\n",
    "    data_balance_tract_model = data_balance_tract_model.set_index(\"week_number\")\n",
    "    forecast = ARIMA_predict(data_balance_tract_model, cutoff_rate = 1, n_period = 10)\n",
    "    \n",
    "    df_forecast = pd.DataFrame(forecast)\n",
    "    df_forecast.index.name = \"week_number\"\n",
    "    df_forecast.columns = [\"total_claim_pred\"]\n",
    "    \n",
    "    total_claim_pre = df_forecast.loc[data_pred.iloc[i][\"week_number\"]][\"total_claim_pred\"]\n",
    "    \n",
    "    data_pred.loc[i,\"total_claims\"] = total_claim_pre\n",
    "    '''\n",
    "    print(i)\n",
    "    print(data_pred.iloc[i][\"week_number\"])\n",
    "    print(total_claim_pre)\n",
    "    '''"
   ]
  },
  {
   "cell_type": "code",
   "execution_count": null,
   "id": "eca6bd23",
   "metadata": {},
   "outputs": [],
   "source": [
    "data_pred"
   ]
  },
  {
   "cell_type": "code",
   "execution_count": null,
   "id": "631a1b4f",
   "metadata": {},
   "outputs": [],
   "source": [
    "data_pred = data_pred[[\"uu_id\", \"total_claims\", \"week_number\"]]"
   ]
  },
  {
   "cell_type": "code",
   "execution_count": null,
   "id": "294795bf",
   "metadata": {},
   "outputs": [],
   "source": [
    "data_pred"
   ]
  },
  {
   "cell_type": "code",
   "execution_count": null,
   "id": "342aee52",
   "metadata": {},
   "outputs": [],
   "source": [
    "data_pred"
   ]
  },
  {
   "cell_type": "code",
   "execution_count": null,
   "id": "9bc0a6dd",
   "metadata": {},
   "outputs": [],
   "source": [
    "## This can also be a good place for you to cleanup any input/output and export your results to a file.\n",
    "data_pred_query.to_csv(\"submission_prediction_output.csv\", index=False)"
   ]
  },
  {
   "cell_type": "code",
   "execution_count": null,
   "id": "e8fe778b",
   "metadata": {
    "lines_to_next_cell": 2
   },
   "outputs": [],
   "source": [
    "## This can also be a good place for you to cleanup any input/output and export your results to a file.\n",
    "data_pred.to_csv(\"submission_prediction_output.csv\", index=False)"
   ]
  }
 ],
 "metadata": {
  "jupytext": {
   "cell_metadata_filter": "-all",
   "main_language": "python",
   "notebook_metadata_filter": "-all"
  }
 },
 "nbformat": 4,
 "nbformat_minor": 5
}
