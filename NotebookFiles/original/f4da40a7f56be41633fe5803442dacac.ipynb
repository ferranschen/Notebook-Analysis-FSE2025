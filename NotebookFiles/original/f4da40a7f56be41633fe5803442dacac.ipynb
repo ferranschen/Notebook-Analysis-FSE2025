{
 "cells": [
  {
   "cell_type": "code",
   "execution_count": null,
   "id": "73770144",
   "metadata": {},
   "outputs": [],
   "source": [
    "visual_data = data.groupby(['uu_id'])['total_claims'].sum().reset_index().merge(\n",
    "    data_dict['wage_data'],\n",
    "    on=['uu_id'],\n",
    "    how='inner',\n",
    ")\n",
    "sns.scatterplot(data=visual_data, x='total_claims', y='average_wage', marker='+')"
   ]
  },
  {
   "cell_type": "code",
   "execution_count": null,
   "id": "8801a5bd",
   "metadata": {},
   "outputs": [],
   "source": [
    "get_ipython().run_cell_magic('capture', '', \"%logstop\\n%logstart -t -r -q ipython_command_log.py global\\n\\n#- IRONHACKS RESEARCH TRACKING CODE\\n#----------------------------------\\n# The following code is used to help our research team understand how you \\n# our notebook environment. We do not collect any personal information with\\n# the following code, it is used to measure when and how often you work on\\n# your submission files.\\n\\nimport os\\nfrom datetime import datetime\\nimport IPython.core.history as history\\n\\nha = history.HistoryAccessor()\\nha_tail = ha.get_tail(1)\\nha_cmd = next(ha_tail)\\nsession_id = str(ha_cmd[0])\\ncommand_id = str(ha_cmd[1])\\ntimestamp = datetime.utcnow().isoformat()\\nhistory_line = ','.join([session_id, command_id, timestamp]) + '\\\\n'\\nlogfile = open(os.environ['HOME']+'/ipython_session_log.csv', 'a')\\nlogfile.write(history_line)\\nlogfile.close()\\n\")"
   ]
  },
  {
   "cell_type": "code",
   "execution_count": null,
   "id": "030ae828",
   "metadata": {},
   "outputs": [],
   "source": [
    "get_ipython().run_cell_magic('capture', '', \"\\n#- INSTALL ADDITIONAL LIBRARIES IF REQUIRED\\n#------------------------------------------\\n# This is normally not required. The hub environment comes preinstaled with \\n# many packages that you can already use without setup. In case there is some\\n# other library you would like to use that isn't on the list you run this command\\n# once to install them.  If it is already installed this command has no effect.\\n\\n!pip install db-dtypes pmdarima 'google-cloud-bigquery[pandas]' tqdm\\n\")"
   ]
  },
  {
   "cell_type": "markdown",
   "id": "dd9487e3",
   "metadata": {},
   "source": [
    "- IMPORT THE LIBRARIES YOU WILL USE\n",
    "------------------------------------------\n",
    "You only need to import packages one time per notebook session. To keep your\n",
    "notebook clean and organized you can handle all imports at the top of your file.\n",
    "The following are included for example purposed, feel free to modify or delete \n",
    "anything in this section."
   ]
  },
  {
   "cell_type": "code",
   "execution_count": null,
   "id": "1d498542",
   "metadata": {},
   "outputs": [],
   "source": [
    "import numpy as np\n",
    "import pandas as pd\n",
    "from tqdm.auto import tqdm\n",
    "import seaborn as sns\n",
    "from google.cloud import bigquery"
   ]
  },
  {
   "cell_type": "code",
   "execution_count": null,
   "id": "b7444cd4",
   "metadata": {},
   "outputs": [],
   "source": [
    "from pmdarima.arima import AutoARIMA"
   ]
  },
  {
   "cell_type": "code",
   "execution_count": null,
   "id": "b456c1cf",
   "metadata": {
    "lines_to_next_cell": 1
   },
   "outputs": [],
   "source": [
    "BIGQUERY_PROJECT = 'ironhacks-data'\n",
    "bigquery_client = bigquery.Client(project=BIGQUERY_PROJECT)"
   ]
  },
  {
   "cell_type": "code",
   "execution_count": null,
   "id": "4f13a06a",
   "metadata": {
    "lines_to_next_cell": 1
   },
   "outputs": [],
   "source": [
    "def print_missing(data: pd.DataFrame):\n",
    "    \"\"\"Show how much missing data in each column of the input DataFrame.\"\"\"\n",
    "    for cname, cvalues in data.items():\n",
    "        print('Column {} has {} ({}%) missing value(s)'.format(\n",
    "            cname,\n",
    "            cvalues.isna().sum(),\n",
    "            round(100.0 * cvalues.isna().sum() / len(cvalues), 2),\n",
    "        ))"
   ]
  },
  {
   "cell_type": "code",
   "execution_count": null,
   "id": "01f944bf",
   "metadata": {},
   "outputs": [],
   "source": [
    "data_tables = bigquery_client.query(f\"\"\"\n",
    "    SELECT table_catalog, table_schema, table_name\n",
    "    FROM `ironhacks_competition.INFORMATION_SCHEMA.TABLES`\n",
    "\"\"\").to_dataframe()\n",
    "print(data_tables)"
   ]
  },
  {
   "cell_type": "code",
   "execution_count": null,
   "id": "32650e18",
   "metadata": {},
   "outputs": [],
   "source": [
    "# Read all data tables in ironhacks-data.ironhacks_competition\n",
    "data_dict = {\n",
    "    table_name: bigquery_client.query(f\"\"\"\n",
    "        SELECT * FROM `ironhacks-data.ironhacks_competition.{table_name}`\n",
    "    \"\"\").to_dataframe()\n",
    "    for table_name in data_tables['table_name'].tolist()\n",
    "}"
   ]
  },
  {
   "cell_type": "code",
   "execution_count": null,
   "id": "e8b6cc08",
   "metadata": {},
   "outputs": [],
   "source": [
    "common_cols = list(set(data_dict['unemployment_data'].columns) & set(data_dict['wage_data'].columns))\n",
    "print(f'Common columns: {common_cols}')\n",
    "data = data_dict['unemployment_data'].merge(\n",
    "    data_dict['wage_data'],\n",
    "    on=common_cols,\n",
    "    how='left',\n",
    ").sort_values(['countyfips', 'week_number']).drop_duplicates().reset_index(drop=True)\n",
    "data['timeperiod'] = pd.to_datetime(data['timeperiod'], format='%Y%m%d')\n",
    "data"
   ]
  },
  {
   "cell_type": "code",
   "execution_count": null,
   "id": "b37df72a",
   "metadata": {},
   "outputs": [],
   "source": [
    "print(data.columns)\n",
    "print_missing(data)"
   ]
  },
  {
   "cell_type": "code",
   "execution_count": null,
   "id": "38b3ed27",
   "metadata": {},
   "outputs": [],
   "source": [
    "for cname in ['edu', 'gender', 'race']:\n",
    "    cols = [c for c in data.columns if c.startswith(cname)]\n",
    "    data[cols] = data[cols].fillna(0)\n",
    "    data[f'{cname}_missing'] = data['total_claims'] - data[cols].sum(axis=1)"
   ]
  },
  {
   "cell_type": "code",
   "execution_count": null,
   "id": "6f329889",
   "metadata": {},
   "outputs": [],
   "source": [
    "cols = [c for c in data.columns if c.startswith('top_category_employer')]\n",
    "data[cols] = data[cols].replace('N/A', None)\n",
    "# data = pd.get_dummies(data, columns=cols, dummy_na=True)\n",
    "print_missing(data)"
   ]
  },
  {
   "cell_type": "code",
   "execution_count": null,
   "id": "0f57d152",
   "metadata": {},
   "outputs": [],
   "source": [
    "visual_data = data.groupby(['uu_id'])['total_claims'].sum().reset_index().merge(\n",
    "    data_dict['wage_data'],\n",
    "    on=['uu_id'],\n",
    "    how='inner',\n",
    ")\n",
    "sns.scatterplot(data=visual_data, x='total_claims', y='average_wage', marker='+')"
   ]
  },
  {
   "cell_type": "code",
   "execution_count": null,
   "id": "0ec97bfb",
   "metadata": {},
   "outputs": [],
   "source": [
    "cols_race = [c for c in data.columns if c.startswith('race')]\n",
    "data.groupby(['timeperiod'])[cols_race].sum().plot(legend=True)"
   ]
  },
  {
   "cell_type": "markdown",
   "id": "dd84c1f3",
   "metadata": {},
   "source": [
    "- IMPORT THE LIBRARIES YOU WILL USE\n",
    "------------------------------------------\n",
    "You only need to import packages one time per notebook session. To keep your\n",
    "notebook clean and organized you can handle all imports at the top of your file.\n",
    "The following are included for example purposed, feel free to modify or delete \n",
    "anything in this section."
   ]
  },
  {
   "cell_type": "code",
   "execution_count": null,
   "id": "d9b8b585",
   "metadata": {},
   "outputs": [],
   "source": [
    "import numpy as np\n",
    "import pandas as pd\n",
    "from tqdm.auto import tqdm\n",
    "import matplotlib.pyplot as plt\n",
    "import seaborn as sns\n",
    "from google.cloud import bigquery"
   ]
  },
  {
   "cell_type": "code",
   "execution_count": null,
   "id": "517a25ab",
   "metadata": {},
   "outputs": [],
   "source": [
    "from pmdarima.arima import AutoARIMA"
   ]
  },
  {
   "cell_type": "code",
   "execution_count": null,
   "id": "edf8f06e",
   "metadata": {},
   "outputs": [],
   "source": [
    "BIGQUERY_PROJECT = 'ironhacks-data'\n",
    "bigquery_client = bigquery.Client(project=BIGQUERY_PROJECT)"
   ]
  },
  {
   "cell_type": "code",
   "execution_count": null,
   "id": "0944684b",
   "metadata": {},
   "outputs": [],
   "source": [
    "for cname in ['edu', 'gender', 'race']:\n",
    "    plt.figure()\n",
    "    cols = [c for c in data.columns if c.startswith(cname)]\n",
    "    data.groupby(['timeperiod'])[cols_race].sum().plot(legend=True)"
   ]
  },
  {
   "cell_type": "code",
   "execution_count": null,
   "id": "33491eae",
   "metadata": {},
   "outputs": [],
   "source": [
    "for cname in ['edu', 'gender', 'race']:\n",
    "    plt.figure()\n",
    "    cols = [c for c in data.columns if c.startswith(cname)]\n",
    "    data.groupby(['timeperiod'])[cols].sum().plot(legend=True)"
   ]
  },
  {
   "cell_type": "code",
   "execution_count": null,
   "id": "bd788a11",
   "metadata": {
    "lines_to_next_cell": 2
   },
   "outputs": [],
   "source": [
    "# For our own convenience, create a correspondance DataFrame for `week_number` and `timeperiod`.\n",
    "wt = pd.Series(\n",
    "    range(1, 53),\n",
    "    name='week_number',\n",
    "    index=pd.date_range('2022-01-01', periods=52, freq='W-SAT').rename('timeperiod'),\n",
    ").reset_index()\n",
    "wt['timeperiod'] = wt['timeperiod'].astype(str)\n",
    "wt.head()"
   ]
  }
 ],
 "metadata": {
  "jupytext": {
   "cell_metadata_filter": "-all",
   "main_language": "python",
   "notebook_metadata_filter": "-all"
  }
 },
 "nbformat": 4,
 "nbformat_minor": 5
}
