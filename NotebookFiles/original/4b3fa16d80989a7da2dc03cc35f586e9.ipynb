{
 "cells": [
  {
   "cell_type": "code",
   "execution_count": null,
   "id": "dec2db47",
   "metadata": {},
   "outputs": [],
   "source": [
    "vals = {}\n",
    "vals[\"0.4\"] = {}\n",
    "vals[\"0.4\"][6] = [0,39]\n",
    "vals[\"0.4\"][7] = [12,29]\n",
    "vals[\"0.4\"][8] = [15,30]\n",
    "vals[\"0.4\"][9] = [29,18]\n",
    "vals[\"0.4\"][10] = [34,16]"
   ]
  },
  {
   "cell_type": "code",
   "execution_count": null,
   "id": "272a05c0",
   "metadata": {},
   "outputs": [],
   "source": [
    "vals[\"0.3\"] = {}\n",
    "vals[\"0.3\"][6] = [5,40]\n",
    "vals[\"0.3\"][7] = [34,20]\n",
    "vals[\"0.3\"][8] = [43,18]\n",
    "vals[\"0.3\"][9] = [45,14]\n",
    "vals[\"0.3\"][10] = [48,12]"
   ]
  },
  {
   "cell_type": "code",
   "execution_count": null,
   "id": "04018d6b",
   "metadata": {},
   "outputs": [],
   "source": [
    "vals[\"0.2\"] = {}\n",
    "vals[\"0.2\"][6] = [4,51]\n",
    "vals[\"0.2\"][7] = [42,21]\n",
    "vals[\"0.2\"][8] = [59,2]\n",
    "vals[\"0.2\"][9] = [57,6]\n",
    "vals[\"0.2\"][10] = [51,11]"
   ]
  },
  {
   "cell_type": "code",
   "execution_count": null,
   "id": "57a5ba94",
   "metadata": {},
   "outputs": [],
   "source": [
    "vals[\"0.1\"] = {}\n",
    "vals[\"0.1\"][6] = [6,52]\n",
    "vals[\"0.1\"][7] = [54,10]\n",
    "vals[\"0.1\"][8] = [56,8]\n",
    "vals[\"0.1\"][9] = [54,10]\n",
    "vals[\"0.1\"][10] = [64,0]"
   ]
  },
  {
   "cell_type": "code",
   "execution_count": null,
   "id": "234c195e",
   "metadata": {},
   "outputs": [],
   "source": [
    "plt.figure()\n",
    "for key1,values1 in vals.items():\n",
    "    #print(values1)\n",
    "    if key1!=\"0.4\": continue\n",
    "    C_arr = []\n",
    "    R_arr = []\n",
    "    for key2,values2 in values1.items():\n",
    "        R = values2[0]\n",
    "        C = values2[1]\n",
    "        C_arr.append(C)\n",
    "        R_arr.append(R)\n",
    "    plt.plot(C_arr,label=\"Clean samples\",linewidth=3)\n",
    "    plt.plot(R_arr,label=\"Refurbished samples\",linewidth=3)\n",
    "plt.legend()\n",
    "plt.xticks(ticks=range(0,5),labels=[\"6\",\"7\",\"8\",\"9\",\"10\"])\n",
    "plt.grid()\n",
    "plt.xlabel(\"epochs\")\n",
    "plt.ylabel(\"Sample count\")\n",
    "plt.savefig(\"clean-samples.png\")"
   ]
  },
  {
   "cell_type": "code",
   "execution_count": null,
   "id": "5a473f40",
   "metadata": {},
   "outputs": [],
   "source": [
    "import numpy as np\n",
    "import matplotlib.pyplot as plt"
   ]
  },
  {
   "cell_type": "code",
   "execution_count": null,
   "id": "7b531bea",
   "metadata": {},
   "outputs": [],
   "source": [
    "labels = [\"plane\",\"automobile\",\"bird\",\"cat\",\"deer\",\"dog\",\"frog\",\"horse\",\"ship\",\"truck\"]\n",
    "mat = np.matrix('3446 1554 0 0 0 0 0 0 0 0;0 3408 1592 0 0 0 0 0 0 0; 0 0 3524 1476 0 0 0 0 0 0;0 0 0 3482 1518 0 0 0 0 0; 0 0 0 0 3520 1480 0 0 0 0;0 0 0 0 0 3493 1507 0 0 0; 0 0 0 0 0 0 3511 1489 0 0; 0 0 0 0 0 0 0 3530 1470 0; 0 0 0 0 0 0 0 0 3514 1486; 1496 0 0 0 0 0 0 0 0 3504'\n",
    ")"
   ]
  },
  {
   "cell_type": "code",
   "execution_count": null,
   "id": "f58122a6",
   "metadata": {},
   "outputs": [],
   "source": [
    "plt.figure(figsize=(10,8))\n",
    "plt.imshow(mat)\n",
    "plt.colorbar()\n",
    "plt.xticks(ticks=range(0,10),labels=labels,size=10)\n",
    "plt.yticks(ticks=range(0,10),labels=labels,size=10)\n",
    "#plt.xtickslabels(x_ticks_labels, rotation='vertical', fontsize=18)"
   ]
  },
  {
   "cell_type": "code",
   "execution_count": null,
   "id": "5c587632",
   "metadata": {},
   "outputs": [],
   "source": [
    "plt.show()"
   ]
  },
  {
   "cell_type": "code",
   "execution_count": null,
   "id": "011ec863",
   "metadata": {},
   "outputs": [],
   "source": [
    "vals = {}\n",
    "vals[\"0.4\"] = {}\n",
    "vals[\"0.4\"][1] = [0.85,68.699]\n",
    "vals[\"0.4\"][2] = [0.6805,77.77]\n",
    "vals[\"0.4\"][3] = [0.7722,78.47]\n",
    "vals[\"0.4\"][4] = [0.7347,78.59]\n",
    "vals[\"0.4\"][5] = [0.7136,81.94]\n",
    "vals[\"0.4\"][6] = [0.5521,84.86]\n",
    "vals[\"0.4\"][7] = [0.446,88.59]\n",
    "vals[\"0.4\"][8] = [0.4624,88.06]\n",
    "vals[\"0.4\"][9] = [0.3605,90.50]\n",
    "vals[\"0.4\"][10] = [0.3691,90.43]"
   ]
  },
  {
   "cell_type": "code",
   "execution_count": null,
   "id": "88e125b1",
   "metadata": {},
   "outputs": [],
   "source": [
    "vals[\"0.3\"] = {}\n",
    "vals[\"0.3\"][1] = [0.642,85]\n",
    "vals[\"0.3\"][2] = [0.629,88]\n",
    "vals[\"0.3\"][3] = [0.5632,89.52]\n",
    "vals[\"0.3\"][4] = [0.5826,89.36]\n",
    "vals[\"0.3\"][5] = [0.5632,88.68]\n",
    "vals[\"0.3\"][6] = [0.3787,89.61]\n",
    "vals[\"0.3\"][7] = [0.3125,91.45]\n",
    "vals[\"0.3\"][8] = [0.344,91.13]\n",
    "vals[\"0.3\"][9] = [0.339,91]\n",
    "vals[\"0.3\"][10] = [0.3538,90.75]"
   ]
  },
  {
   "cell_type": "code",
   "execution_count": null,
   "id": "9c312f4d",
   "metadata": {},
   "outputs": [],
   "source": [
    "vals[\"0.2\"] = {}\n",
    "vals[\"0.2\"][1] = [0.5195,88.68]\n",
    "vals[\"0.2\"][2] = [0.4746,90.59]\n",
    "vals[\"0.2\"][3] = [0.4736,90.94]\n",
    "vals[\"0.2\"][4] = [0.4167,91.75]\n",
    "vals[\"0.2\"][5] = [0.4454,91.62]\n",
    "vals[\"0.2\"][6] = [0.3239,91.43]\n",
    "vals[\"0.2\"][7] = [0.2952,91.95]\n",
    "vals[\"0.2\"][8] = [0.3066,92.43]\n",
    "vals[\"0.2\"][9] = [0.2955,92.51]\n",
    "vals[\"0.2\"][10] = [0.2695,92.97]"
   ]
  },
  {
   "cell_type": "code",
   "execution_count": null,
   "id": "18c4fa90",
   "metadata": {
    "lines_to_next_cell": 2
   },
   "outputs": [],
   "source": [
    "vals[\"0.1\"] = {}\n",
    "vals[\"0.1\"][1] = [0.416,87.57]\n",
    "vals[\"0.1\"][2] = [0.3799,90.97]\n",
    "vals[\"0.1\"][3] = [0.3526,91.97]\n",
    "vals[\"0.1\"][4] = [0.3328,92.25]\n",
    "vals[\"0.1\"][5] = [0.3144,92.77]\n",
    "vals[\"0.1\"][6] = [0.2582,92.93]\n",
    "vals[\"0.1\"][7] = [0.2532,93.32]\n",
    "vals[\"0.1\"][8] = [0.2728,92.90]\n",
    "vals[\"0.1\"][9] = [0.2694,93.00]\n",
    "vals[\"0.1\"][10] = [0.2748,93.26]"
   ]
  },
  {
   "cell_type": "code",
   "execution_count": null,
   "id": "0eeefb61",
   "metadata": {},
   "outputs": [],
   "source": [
    "plt.figure()\n",
    "for key1,values1 in vals.items():\n",
    "    #print(values1)\n",
    "    loss_arr = []\n",
    "    err_arr = []\n",
    "    for key2,values2 in values1.items():\n",
    "        loss = values2[0]\n",
    "        acc = values2[1]\n",
    "        err = 100-acc\n",
    "        loss_arr.append(loss)\n",
    "        err_arr.append(err)\n",
    "    plt.plot(loss_arr,label=\"Noise rate=\"+key1)\n",
    "    #plt.plot(err_arr,label=\"Noise rate=\"+key1)\n",
    "plt.legend()\n",
    "plt.grid()\n",
    "plt.xlabel(\"epochs\")\n",
    "plt.ylabel(\"Test-loss\")\n",
    "plt.savefig(\"test-loss.png\")"
   ]
  },
  {
   "cell_type": "code",
   "execution_count": null,
   "id": "c8498bc9",
   "metadata": {},
   "outputs": [],
   "source": [
    "vals = {}\n",
    "vals[\"0.4\"] = {}\n",
    "vals[\"0.4\"][6] = [0,39]\n",
    "vals[\"0.4\"][7] = [12,29]\n",
    "vals[\"0.4\"][8] = [15,30]\n",
    "vals[\"0.4\"][9] = [29,18]\n",
    "vals[\"0.4\"][10] = [34,16]"
   ]
  },
  {
   "cell_type": "code",
   "execution_count": null,
   "id": "2afa6725",
   "metadata": {},
   "outputs": [],
   "source": [
    "vals[\"0.3\"] = {}\n",
    "vals[\"0.3\"][6] = [5,40]\n",
    "vals[\"0.3\"][7] = [34,20]\n",
    "vals[\"0.3\"][8] = [43,18]\n",
    "vals[\"0.3\"][9] = [45,14]\n",
    "vals[\"0.3\"][10] = [48,12]"
   ]
  },
  {
   "cell_type": "code",
   "execution_count": null,
   "id": "72792bf3",
   "metadata": {},
   "outputs": [],
   "source": [
    "vals[\"0.2\"] = {}\n",
    "vals[\"0.2\"][6] = [4,51]\n",
    "vals[\"0.2\"][7] = [42,21]\n",
    "vals[\"0.2\"][8] = [59,2]\n",
    "vals[\"0.2\"][9] = [57,6]\n",
    "vals[\"0.2\"][10] = [51,11]"
   ]
  },
  {
   "cell_type": "code",
   "execution_count": null,
   "id": "ebfbb0fa",
   "metadata": {},
   "outputs": [],
   "source": [
    "vals[\"0.1\"] = {}\n",
    "vals[\"0.1\"][6] = [6,52]\n",
    "vals[\"0.1\"][7] = [54,10]\n",
    "vals[\"0.1\"][8] = [56,8]\n",
    "vals[\"0.1\"][9] = [54,10]\n",
    "vals[\"0.1\"][10] = [64,0]"
   ]
  },
  {
   "cell_type": "code",
   "execution_count": null,
   "id": "a2163a8a",
   "metadata": {},
   "outputs": [],
   "source": [
    "plt.figure()\n",
    "for key1,values1 in vals.items():\n",
    "    #print(values1)\n",
    "    if key1!=\"0.4\": continue\n",
    "    C_arr = []\n",
    "    R_arr = []\n",
    "    for key2,values2 in values1.items():\n",
    "        R = values2[0]\n",
    "        C = values2[1]\n",
    "        C_arr.append(C)\n",
    "        R_arr.append(R)\n",
    "    plt.plot(C_arr,label=\"Clean samples\",linewidth=3)\n",
    "    plt.plot(R_arr,label=\"Refurbished samples\",linewidth=3)\n",
    "plt.legend()\n",
    "plt.xticks(ticks=range(0,5),labels=[\"6\",\"7\",\"8\",\"9\",\"10\"])\n",
    "plt.grid()\n",
    "plt.xlabel(\"epochs\")\n",
    "plt.ylabel(\"Sample count\")\n",
    "plt.savefig(\"clean-samples.png\")"
   ]
  },
  {
   "cell_type": "code",
   "execution_count": null,
   "id": "349d2ec5",
   "metadata": {},
   "outputs": [],
   "source": [
    "vals = {}\n",
    "vals[\"0.4\"] = {}\n",
    "vals[\"0.4\"][1] = [0.937,87]\n",
    "vals[\"0.4\"][2] = [0.8946,88.45]\n",
    "vals[\"0.4\"][3] = [0.801,89.68]\n",
    "vals[\"0.4\"][4] = [0.8617,89.54]\n",
    "vals[\"0.4\"][5] = [0.7872,89.63]\n",
    "vals[\"0.4\"][6] = [0.4318,85.69]\n",
    "vals[\"0.4\"][7] = [0.3044,90.59]\n",
    "vals[\"0.4\"][8] = [0.287,91.75]\n",
    "vals[\"0.4\"][9] = [0.2859,91.61]\n",
    "vals[\"0.4\"][10] = [0.3015,91.18]"
   ]
  },
  {
   "cell_type": "code",
   "execution_count": null,
   "id": "29aa6bdc",
   "metadata": {},
   "outputs": [],
   "source": [
    "vals[\"0.3\"] = {}\n",
    "vals[\"0.3\"][1] = [0.746,87.95]\n",
    "vals[\"0.3\"][2] = [0.6417,89.61]\n",
    "vals[\"0.3\"][3] = [0.583,90.89]\n",
    "vals[\"0.3\"][4] = [0.634,90.02]\n",
    "vals[\"0.3\"][5] = [0.611,89.86]\n",
    "vals[\"0.3\"][6] = [0.372,88.18]\n",
    "vals[\"0.3\"][7] = [0.299,90.88]\n",
    "vals[\"0.3\"][8] = [0.293,91.38]\n",
    "vals[\"0.3\"][9] = [0.273,91.91]\n",
    "vals[\"0.3\"][10] = [0.2784,91.88]"
   ]
  },
  {
   "cell_type": "code",
   "execution_count": null,
   "id": "9f48e07b",
   "metadata": {},
   "outputs": [],
   "source": [
    "vals[\"0.2\"] = {}\n",
    "vals[\"0.2\"][1] = [0.555,87.75]\n",
    "vals[\"0.2\"][2] = [0.534,90.69]\n",
    "vals[\"0.2\"][3] = [0.4737,91.66]\n",
    "vals[\"0.2\"][4] = [0.446,90.82]\n",
    "vals[\"0.2\"][5] = [0.443,91.61]\n",
    "vals[\"0.2\"][6] = [0.2762,91.12]\n",
    "vals[\"0.2\"][7] = [0.305,90.64]\n",
    "vals[\"0.2\"][8] = [0.295,91.07]\n",
    "vals[\"0.2\"][9] = [0.2445,92.94]\n",
    "vals[\"0.2\"][10] = [0.282,91.97]"
   ]
  },
  {
   "cell_type": "code",
   "execution_count": null,
   "id": "b62148cd",
   "metadata": {
    "lines_to_next_cell": 2
   },
   "outputs": [],
   "source": [
    "vals[\"0.1\"] = {}\n",
    "vals[\"0.1\"][1] = [0.4284,90.37]\n",
    "vals[\"0.1\"][2] = [0.3213,91.80]\n",
    "vals[\"0.1\"][3] = [0.3191,92.23]\n",
    "vals[\"0.1\"][4] = [0.3275,92.54]\n",
    "vals[\"0.1\"][5] = [0.327,92.25]\n",
    "vals[\"0.1\"][6] = [0.269,91.86]\n",
    "vals[\"0.1\"][7] = [0.268,91.89]\n",
    "vals[\"0.1\"][8] = [0.224,93.12]\n",
    "vals[\"0.1\"][9] = [0.2414,92.84]\n",
    "vals[\"0.1\"][10] = [0.256,92.97]"
   ]
  },
  {
   "cell_type": "code",
   "execution_count": null,
   "id": "4f880c72",
   "metadata": {},
   "outputs": [],
   "source": [
    "plt.figure()\n",
    "for key1,values1 in vals.items():\n",
    "    #print(values1)\n",
    "    loss_arr = []\n",
    "    err_arr = []\n",
    "    for key2,values2 in values1.items():\n",
    "        loss = values2[0]\n",
    "        acc = values2[1]\n",
    "        err = 100-acc\n",
    "        loss_arr.append(loss)\n",
    "        err_arr.append(err)\n",
    "    plt.plot(loss_arr,label=\"Noise rate=\"+key1)\n",
    "    #plt.plot(err_arr,label=\"Noise rate=\"+key1)\n",
    "plt.legend()\n",
    "plt.grid()\n",
    "plt.xlabel(\"epochs\")\n",
    "plt.ylabel(\"Test-loss\")\n",
    "plt.savefig(\"test-loss-symmetry.png\")"
   ]
  },
  {
   "cell_type": "code",
   "execution_count": null,
   "id": "bfaada7b",
   "metadata": {},
   "outputs": [],
   "source": [
    "vals = {}\n",
    "vals[\"0.4\"] = {}\n",
    "vals[\"0.4\"][1] = [0.937,87]\n",
    "vals[\"0.4\"][2] = [0.8946,88.45]\n",
    "vals[\"0.4\"][3] = [0.801,89.68]\n",
    "vals[\"0.4\"][4] = [0.8617,89.54]\n",
    "vals[\"0.4\"][5] = [0.7872,89.63]\n",
    "vals[\"0.4\"][6] = [0.4318,85.69]\n",
    "vals[\"0.4\"][7] = [0.3044,90.59]\n",
    "vals[\"0.4\"][8] = [0.287,91.75]\n",
    "vals[\"0.4\"][9] = [0.2859,91.61]\n",
    "vals[\"0.4\"][10] = [0.3015,91.18]"
   ]
  },
  {
   "cell_type": "code",
   "execution_count": null,
   "id": "91085d2c",
   "metadata": {},
   "outputs": [],
   "source": [
    "vals[\"0.3\"] = {}\n",
    "vals[\"0.3\"][1] = [0.746,87.95]\n",
    "vals[\"0.3\"][2] = [0.6417,89.61]\n",
    "vals[\"0.3\"][3] = [0.583,90.89]\n",
    "vals[\"0.3\"][4] = [0.634,90.02]\n",
    "vals[\"0.3\"][5] = [0.611,89.86]\n",
    "vals[\"0.3\"][6] = [0.372,88.18]\n",
    "vals[\"0.3\"][7] = [0.299,90.88]\n",
    "vals[\"0.3\"][8] = [0.293,91.38]\n",
    "vals[\"0.3\"][9] = [0.273,91.91]\n",
    "vals[\"0.3\"][10] = [0.2784,91.88]"
   ]
  },
  {
   "cell_type": "code",
   "execution_count": null,
   "id": "3120a0fc",
   "metadata": {},
   "outputs": [],
   "source": [
    "vals[\"0.2\"] = {}\n",
    "vals[\"0.2\"][1] = [0.555,87.75]\n",
    "vals[\"0.2\"][2] = [0.534,90.69]\n",
    "vals[\"0.2\"][3] = [0.4737,91.66]\n",
    "vals[\"0.2\"][4] = [0.446,90.82]\n",
    "vals[\"0.2\"][5] = [0.443,91.61]\n",
    "vals[\"0.2\"][6] = [0.2762,91.12]\n",
    "vals[\"0.2\"][7] = [0.305,90.64]\n",
    "vals[\"0.2\"][8] = [0.295,91.07]\n",
    "vals[\"0.2\"][9] = [0.2445,92.94]\n",
    "vals[\"0.2\"][10] = [0.282,91.97]"
   ]
  },
  {
   "cell_type": "code",
   "execution_count": null,
   "id": "75f7572e",
   "metadata": {
    "lines_to_next_cell": 2
   },
   "outputs": [],
   "source": [
    "vals[\"0.1\"] = {}\n",
    "vals[\"0.1\"][1] = [0.4284,90.37]\n",
    "vals[\"0.1\"][2] = [0.3213,91.80]\n",
    "vals[\"0.1\"][3] = [0.3191,92.23]\n",
    "vals[\"0.1\"][4] = [0.3275,92.54]\n",
    "vals[\"0.1\"][5] = [0.327,92.25]\n",
    "vals[\"0.1\"][6] = [0.269,91.86]\n",
    "vals[\"0.1\"][7] = [0.268,91.89]\n",
    "vals[\"0.1\"][8] = [0.224,93.12]\n",
    "vals[\"0.1\"][9] = [0.2414,92.84]\n",
    "vals[\"0.1\"][10] = [0.256,92.97]"
   ]
  },
  {
   "cell_type": "code",
   "execution_count": null,
   "id": "2841cd24",
   "metadata": {
    "lines_to_next_cell": 2
   },
   "outputs": [],
   "source": [
    "plt.figure()\n",
    "for key1,values1 in vals.items():\n",
    "    #print(values1)\n",
    "    loss_arr = []\n",
    "    err_arr = []\n",
    "    for key2,values2 in values1.items():\n",
    "        loss = values2[0]\n",
    "        acc = values2[1]\n",
    "        err = 100-acc\n",
    "        loss_arr.append(loss)\n",
    "        err_arr.append(err)\n",
    "    #plt.plot(loss_arr,label=\"Noise rate=\"+key1)\n",
    "    plt.plot(err_arr,label=\"Noise rate=\"+key1)\n",
    "plt.legend()\n",
    "plt.grid()\n",
    "plt.xlabel(\"epochs\")\n",
    "plt.ylabel(\"Test-error\")\n",
    "plt.savefig(\"test-error-symmetry.png\")"
   ]
  }
 ],
 "metadata": {
  "jupytext": {
   "cell_metadata_filter": "-all",
   "main_language": "python",
   "notebook_metadata_filter": "-all"
  }
 },
 "nbformat": 4,
 "nbformat_minor": 5
}
