{
 "cells": [
  {
   "cell_type": "code",
   "execution_count": null,
   "id": "56c030c7",
   "metadata": {},
   "outputs": [],
   "source": [
    "get_ipython().system('pip install google-cloud-bigquery')\n",
    "get_ipython().system('pip install google-cloud-bigquery[pandas]')"
   ]
  },
  {
   "cell_type": "code",
   "execution_count": null,
   "id": "6222f879",
   "metadata": {},
   "outputs": [],
   "source": [
    "import pandas as pd\n",
    "import numpy as np\n",
    "import matplotlib\n",
    "import matplotlib.pyplot as plt\n",
    "import seaborn as sns\n",
    "get_ipython().run_line_magic('matplotlib', 'inline')"
   ]
  },
  {
   "cell_type": "code",
   "execution_count": null,
   "id": "762327b4",
   "metadata": {},
   "outputs": [],
   "source": [
    "import os\n",
    "from google.cloud import bigquery\n",
    "from google.oauth2 import service_account\n",
    "from google.cloud.bigquery import magics"
   ]
  },
  {
   "cell_type": "markdown",
   "id": "0adfecfd",
   "metadata": {},
   "source": [
    "CONFIGURE THE BIGQUERY SETTINGS"
   ]
  },
  {
   "cell_type": "code",
   "execution_count": null,
   "id": "83bce854",
   "metadata": {},
   "outputs": [],
   "source": [
    "BIGQUERY_PROJECT = 'ironhacks-data'\n",
    "bigquery_client = bigquery.Client(project=BIGQUERY_PROJECT)"
   ]
  },
  {
   "cell_type": "code",
   "execution_count": null,
   "id": "4be910e6",
   "metadata": {},
   "outputs": [],
   "source": [
    "query = \"\"\"\n",
    "SELECT *\n",
    "FROM `ironhacks-data.ironhacks_training.weather_data`\n",
    "\"\"\""
   ]
  },
  {
   "cell_type": "code",
   "execution_count": null,
   "id": "46adcb3f",
   "metadata": {},
   "outputs": [],
   "source": [
    "# QUERY THE DATA ONCE\n",
    "query_job = bigquery_client.query(query)\n",
    "data = query_job.to_dataframe()\n",
    "data['date']= pd.to_datetime(data['date'])\n",
    "data.head()"
   ]
  },
  {
   "cell_type": "code",
   "execution_count": null,
   "id": "0f073fd8",
   "metadata": {},
   "outputs": [],
   "source": [
    "X = data.drop(\"wind_speed\",1)   #Feature Matrix\n",
    "X = data.drop(\"date\",1)\n",
    "y = data[\"wind_speed\"]          #Target Variable"
   ]
  },
  {
   "cell_type": "code",
   "execution_count": null,
   "id": "f75e3f3e",
   "metadata": {},
   "outputs": [],
   "source": [
    "plt.figure(figsize=(12,10))\n",
    "cor = data.corr()\n",
    "sns.heatmap(cor, annot=True, cmap=plt.cm.Reds)\n",
    "plt.show()"
   ]
  },
  {
   "cell_type": "code",
   "execution_count": null,
   "id": "7064c852",
   "metadata": {},
   "outputs": [],
   "source": [
    "#Correlation with output variable\n",
    "cor_target = abs(cor[\"potential_water_deficit\"])\n",
    "#Selecting highly correlated features\n",
    "relevant_features = cor_target[cor_target>0.5]\n",
    "print(relevant_features)"
   ]
  },
  {
   "cell_type": "code",
   "execution_count": null,
   "id": "5571d690",
   "metadata": {},
   "outputs": [],
   "source": [
    "data.plot(subplots=True, figsize=(20,24))"
   ]
  },
  {
   "cell_type": "code",
   "execution_count": null,
   "id": "930b4c3f",
   "metadata": {},
   "outputs": [],
   "source": [
    "min(data['date']),max(data['date'])"
   ]
  },
  {
   "cell_type": "code",
   "execution_count": null,
   "id": "e4d26119",
   "metadata": {},
   "outputs": [],
   "source": [
    "data.dtypes"
   ]
  },
  {
   "cell_type": "code",
   "execution_count": null,
   "id": "07be1549",
   "metadata": {},
   "outputs": [],
   "source": [
    "data = data.set_index('date')"
   ]
  },
  {
   "cell_type": "code",
   "execution_count": null,
   "id": "0e292082",
   "metadata": {},
   "outputs": [],
   "source": [
    "data.index"
   ]
  },
  {
   "cell_type": "code",
   "execution_count": null,
   "id": "a2439493",
   "metadata": {},
   "outputs": [],
   "source": [
    "data['Year'] = data.index.year\n",
    "data['Month'] = data.index.month\n",
    "# Display a random sampling of 5 rows\n",
    "data.sample(5, random_state=0)"
   ]
  },
  {
   "cell_type": "code",
   "execution_count": null,
   "id": "46bddef6",
   "metadata": {},
   "outputs": [],
   "source": [
    "data.loc['2019-08']"
   ]
  },
  {
   "cell_type": "code",
   "execution_count": null,
   "id": "0eaf1015",
   "metadata": {},
   "outputs": [],
   "source": [
    "data.loc['2019-08']"
   ]
  },
  {
   "cell_type": "code",
   "execution_count": null,
   "id": "3c3a7abb",
   "metadata": {},
   "outputs": [],
   "source": [
    "sns.set(rc={'figure.figsize':(11, 4)})"
   ]
  },
  {
   "cell_type": "code",
   "execution_count": null,
   "id": "fe1c0f21",
   "metadata": {},
   "outputs": [],
   "source": [
    "data['precipitation_data'].plot(linewidth=0.5);"
   ]
  },
  {
   "cell_type": "code",
   "execution_count": null,
   "id": "f1c6c831",
   "metadata": {},
   "outputs": [],
   "source": [
    "cols_plot = ['max_rel_humidity','max_temperature','mean_temperature','min_rel_humidity','min_temperature','potential_water_deficit','precipitation_data','wind_speed']\n",
    "axes = data[cols_plot].plot(marker='.', alpha=0.5, linestyle='None', figsize=(30, 25), subplots=True)\n",
    "for ax in axes:\n",
    "    ax.set_ylabel('Precipitation')"
   ]
  },
  {
   "cell_type": "code",
   "execution_count": null,
   "id": "f9045c23",
   "metadata": {},
   "outputs": [],
   "source": [
    "import matplotlib.dates as mdates\n",
    "fig, ax = plt.subplots()\n",
    "ax.plot(data.loc['2019-08':'2019-12', 'precipitation_data'], marker='o', linestyle='-')\n",
    "ax.set_ylabel('Precipitation')\n",
    "ax.set_title('Aug 2019-2020 Precipiation Data')"
   ]
  },
  {
   "cell_type": "code",
   "execution_count": null,
   "id": "8f449636",
   "metadata": {},
   "outputs": [],
   "source": [
    "fig, axes = plt.subplots(3, 1, figsize=(11, 10), sharex=True)\n",
    "for name, ax in zip(['precipitation_data', 'min_temperature', 'max_temperature'], axes):\n",
    "    sns.boxplot(data=data, x='Month', y=name, ax=ax)\n",
    "    ax.set_ylabel('precipitation')\n",
    "    ax.set_title(name)\n",
    "    # Remove the automatic x-axis label from all but the bottom subplot\n",
    "    if ax != axes[-1]:\n",
    "        ax.set_xlabel('')"
   ]
  },
  {
   "cell_type": "code",
   "execution_count": null,
   "id": "4e45e574",
   "metadata": {},
   "outputs": [],
   "source": [
    "sns.boxplot(data=data, x='Month', y='wind_speed');"
   ]
  },
  {
   "cell_type": "code",
   "execution_count": null,
   "id": "955c2622",
   "metadata": {},
   "outputs": [],
   "source": [
    "from statsmodels.graphics.tsaplots import plot_acf\n",
    "plot_acf(x=data['max_temperature'], lags=50)"
   ]
  },
  {
   "cell_type": "code",
   "execution_count": null,
   "id": "60066300",
   "metadata": {},
   "outputs": [],
   "source": [
    "from sklearn.linear_model import LinearRegression\n",
    "model = LinearRegression()\n",
    "model.fit(X,y)"
   ]
  },
  {
   "cell_type": "code",
   "execution_count": null,
   "id": "0e1535eb",
   "metadata": {},
   "outputs": [],
   "source": [
    "y_pred = pd.Series(model.predict(X), index=X.index)"
   ]
  },
  {
   "cell_type": "code",
   "execution_count": null,
   "id": "e37d7216",
   "metadata": {},
   "outputs": [],
   "source": [
    "ax = y.plot(alpha=0.5)\n",
    "ax = y_pred.plot(ax=ax, linewidth=3)"
   ]
  },
  {
   "cell_type": "code",
   "execution_count": null,
   "id": "e43fd871",
   "metadata": {},
   "outputs": [],
   "source": [
    "lag_1 = data['precipitation_data'].shift(1)"
   ]
  },
  {
   "cell_type": "code",
   "execution_count": null,
   "id": "6fd41cb5",
   "metadata": {},
   "outputs": [],
   "source": [
    "data['lag_1']=lag_1"
   ]
  },
  {
   "cell_type": "code",
   "execution_count": null,
   "id": "6f4df0a3",
   "metadata": {
    "lines_to_next_cell": 2
   },
   "outputs": [],
   "source": [
    "X = data.drop(\"wind_speed\",1)   #Feature Matrix\n",
    "X = data.drop(\"date\",1)\n",
    "y = data[\"wind_speed\"]          #Target Variable\n",
    "X.head()"
   ]
  }
 ],
 "metadata": {
  "jupytext": {
   "cell_metadata_filter": "-all",
   "main_language": "python",
   "notebook_metadata_filter": "-all"
  }
 },
 "nbformat": 4,
 "nbformat_minor": 5
}
