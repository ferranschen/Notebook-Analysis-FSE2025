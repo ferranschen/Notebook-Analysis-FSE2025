{
 "cells": [
  {
   "cell_type": "code",
   "execution_count": null,
   "id": "6d606de0",
   "metadata": {},
   "outputs": [],
   "source": [
    "get_ipython().run_cell_magic('capture', '', \"%logstop\\n%logstart -t -r -q ipython_command_log.py global\\n\\n#- IRONHACKS RESEARCH TRACKING CODE\\n#----------------------------------\\n# The following code is used to help our research team understand how you \\n# our notebook environment. We do not collect any personal information with\\n# the following code, it is used to measure when and how often you work on\\n# your submission files.\\n\\nimport os\\nfrom datetime import datetime\\nimport IPython.core.history as history\\n\\nha = history.HistoryAccessor()\\nha_tail = ha.get_tail(1)\\nha_cmd = next(ha_tail)\\nsession_id = str(ha_cmd[0])\\ncommand_id = str(ha_cmd[1])\\ntimestamp = datetime.utcnow().isoformat()\\nhistory_line = ','.join([session_id, command_id, timestamp]) + '\\\\n'\\nlogfile = open(os.environ['HOME']+'/ipython_session_log.csv', 'a')\\nlogfile.write(history_line)\\nlogfile.close()\\n\")"
   ]
  },
  {
   "cell_type": "code",
   "execution_count": null,
   "id": "1aa1ea57",
   "metadata": {},
   "outputs": [],
   "source": [
    "get_ipython().run_cell_magic('capture', '', \"\\n#- INSTALL ADDITIONAL LIBRARIES IF REQUIRED\\n#------------------------------------------\\n# This is normally not required. The hub environment comes preinstaled with \\n# many packages that you can already use without setup. In case there is some\\n# other library you would like to use that isn't on the list you run this command\\n# once to install them.  If it is already installed this command has no effect.\\n\\n!python3 -m pip install pandas db-dtypes\\n\")"
   ]
  },
  {
   "cell_type": "markdown",
   "id": "9f18538f",
   "metadata": {},
   "source": [
    "- IMPORT THE LIBRARIES YOU WILL USE\n",
    "------------------------------------------\n",
    "You only need to import packages one time per notebook session. To keep your\n",
    "notebook clean and organized you can handle all imports at the top of your file.\n",
    "The following are included for example purposed, feel free to modify or delete \n",
    "anything in this section."
   ]
  },
  {
   "cell_type": "code",
   "execution_count": null,
   "id": "2d5078ad",
   "metadata": {
    "lines_to_next_cell": 1
   },
   "outputs": [],
   "source": [
    "import csv\n",
    "import pandas as pd\n",
    "import numpy as np\n",
    "from google.cloud import bigquery\n",
    "from google.oauth2 import service_account\n",
    "from google.cloud.bigquery import magics"
   ]
  },
  {
   "cell_type": "markdown",
   "id": "ce618e75",
   "metadata": {},
   "source": [
    "- DEFINE YOUR CLASSES AND FUNCTIONS \n",
    "-----------------------------------\n",
    "This is not required, but is helpful in keeping your notebook organized. \n",
    "You can use the following cell or several cells to define your functions\n",
    "and classes to keep them separate from your analysis or results code.\n",
    "In general it useful to define your methods in a separate cell from where\n",
    "it is run."
   ]
  },
  {
   "cell_type": "code",
   "execution_count": null,
   "id": "03585519",
   "metadata": {
    "lines_to_next_cell": 1
   },
   "outputs": [],
   "source": [
    "def example_function():\n",
    "    print('Hello World')"
   ]
  },
  {
   "cell_type": "code",
   "execution_count": null,
   "id": "70e2fc42",
   "metadata": {},
   "outputs": [],
   "source": [
    "BIGQUERY_PROJECT = 'ironhacks-data'\n",
    "bigquery_client = bigquery.Client(project=BIGQUERY_PROJECT)"
   ]
  },
  {
   "cell_type": "code",
   "execution_count": null,
   "id": "5b004d3b",
   "metadata": {},
   "outputs": [],
   "source": [
    "query = \"\"\"\n",
    "SELECT *\n",
    "FROM `ironhacks-data.ironhacks_competition.unemployment_data`\n",
    "\"\"\""
   ]
  },
  {
   "cell_type": "code",
   "execution_count": null,
   "id": "944993cb",
   "metadata": {},
   "outputs": [],
   "source": [
    "query_job = bigquery_client.query(query)\n",
    "unemployment_data = query_job.to_dataframe()\n",
    "print(unemployment_data)"
   ]
  },
  {
   "cell_type": "code",
   "execution_count": null,
   "id": "e9fe5b31",
   "metadata": {},
   "outputs": [],
   "source": [
    "query = \"\"\"\n",
    "SELECT *\n",
    "FROM `ironhacks-data.ironhacks_competition.wage_data`\n",
    "\"\"\""
   ]
  },
  {
   "cell_type": "code",
   "execution_count": null,
   "id": "ee604704",
   "metadata": {},
   "outputs": [],
   "source": [
    "query_job = bigquery_client.query(query)\n",
    "wage_data = query_job.to_dataframe()\n",
    "print(wage_data)"
   ]
  },
  {
   "cell_type": "code",
   "execution_count": null,
   "id": "5431ff58",
   "metadata": {},
   "outputs": [],
   "source": [
    "query = \"\"\"\n",
    "SELECT *\n",
    "FROM `ironhacks-data.ironhacks_competition.prediction_list`\n",
    "\"\"\""
   ]
  },
  {
   "cell_type": "code",
   "execution_count": null,
   "id": "c1018b1d",
   "metadata": {},
   "outputs": [],
   "source": [
    "query_job = bigquery_client.query(query)\n",
    "prediction_list = query_job.to_dataframe()\n",
    "print(prediction_list)"
   ]
  },
  {
   "cell_type": "code",
   "execution_count": null,
   "id": "7e153bd2",
   "metadata": {},
   "outputs": [],
   "source": [
    "len(pd.unique(unemployment_data[\"uu_id\"]))"
   ]
  },
  {
   "cell_type": "code",
   "execution_count": null,
   "id": "f5cf466d",
   "metadata": {},
   "outputs": [],
   "source": [
    "print(unemployment_data.loc[0])"
   ]
  },
  {
   "cell_type": "code",
   "execution_count": null,
   "id": "72910106",
   "metadata": {},
   "outputs": [],
   "source": [
    "# remove unnecessary colomns and combine unemployment data together with wages\n",
    "unemployment_sample = unemployment_data.copy()\n",
    "unemployment_sample = unemployment_sample.drop(['timeperiod', 'tract', 'tract_name', 'edu_8th_or_less', 'edu_grades_9_11', 'edu_hs_grad_equiv', 'edu_post_hs',\\\n",
    "                                               'edu_unknown', 'top_category_employer1', 'top_category_employer2', 'top_category_employer3', 'gender_female', 'gender_male',\\\n",
    "                                                'gender_na', 'race_amerindian', 'race_asian', 'race_black', 'race_noanswer', 'race_hawaiiannative',\\\n",
    "                                               'race_other', 'race_white'], axis=1)\n",
    "wage_sample = wage_data.copy()\n",
    "wage_sample.drop(['tract', 'tract_name'], axis=1)\n",
    "prediction_sample = prediction_list.copy()\n",
    "wages_dict = {i:wage_sample[\"average_wage\"].values[k] for k,i in enumerate(wage_sample[\"uu_id\"])}\n",
    "wage_list = [wages_dict[i]  for i in unemployment_sample[\"uu_id\"]]\n",
    "# print(wages_dict)\n",
    "unemployment_sample[\"average_wage\"] = wage_list"
   ]
  },
  {
   "cell_type": "code",
   "execution_count": null,
   "id": "8b48b6ae",
   "metadata": {},
   "outputs": [],
   "source": [
    "tract_dic = {i:k for k,i in enumerate(wage_sample[\"uu_id\"])}"
   ]
  },
  {
   "cell_type": "code",
   "execution_count": null,
   "id": "7283440d",
   "metadata": {},
   "outputs": [],
   "source": [
    "unemployment_sample[\"uu_id\"] = [tract_dic[i] for i in unemployment_sample[\"uu_id\"]]"
   ]
  },
  {
   "cell_type": "code",
   "execution_count": null,
   "id": "c4cebe53",
   "metadata": {},
   "outputs": [],
   "source": [
    "print(unemployment_sample.loc[1])"
   ]
  },
  {
   "cell_type": "code",
   "execution_count": null,
   "id": "adf132f6",
   "metadata": {},
   "outputs": [],
   "source": [
    "X = unemployment_sample.drop([\"total_claims\"], axis=1).to_numpy() #to_numpy() values\n",
    "y = unemployment_sample['total_claims'].to_numpy()   #to_numpy() values\n",
    "# print(X.shape,y.shape)"
   ]
  },
  {
   "cell_type": "code",
   "execution_count": null,
   "id": "48b535a7",
   "metadata": {},
   "outputs": [],
   "source": [
    "from sklearn.model_selection import train_test_split \n",
    "from sklearn.linear_model import LinearRegression\n",
    "from sklearn import metrics"
   ]
  },
  {
   "cell_type": "code",
   "execution_count": null,
   "id": "a69a8bff",
   "metadata": {},
   "outputs": [],
   "source": [
    "X_train, X_test, y_train, y_test = train_test_split(X, y, test_size=0.2, random_state=0)"
   ]
  },
  {
   "cell_type": "code",
   "execution_count": null,
   "id": "885ce31d",
   "metadata": {},
   "outputs": [],
   "source": [
    "regressor = LinearRegression()  \n",
    "regressor.fit(X_train, y_train) #training the algorithm"
   ]
  },
  {
   "cell_type": "markdown",
   "id": "c6d660a3",
   "metadata": {},
   "source": [
    "#To retrieve the intercept:\n",
    "print(regressor.intercept_)"
   ]
  },
  {
   "cell_type": "markdown",
   "id": "07990a52",
   "metadata": {},
   "source": [
    "#For retrieving the slope:\n",
    "print(regressor.coef_)"
   ]
  },
  {
   "cell_type": "code",
   "execution_count": null,
   "id": "ab00d982",
   "metadata": {},
   "outputs": [],
   "source": [
    "X = unemployment_sample.drop([\"total_claims\"], axis=1).to_numpy() #to_numpy() values\n",
    "y = unemployment_sample['total_claims'].to_numpy()   #to_numpy() values\n",
    "# print(X.shape,y.shape)"
   ]
  },
  {
   "cell_type": "code",
   "execution_count": null,
   "id": "0bc67805",
   "metadata": {},
   "outputs": [],
   "source": [
    "print(X)"
   ]
  },
  {
   "cell_type": "code",
   "execution_count": null,
   "id": "a11f633e",
   "metadata": {},
   "outputs": [],
   "source": [
    "print(y)"
   ]
  },
  {
   "cell_type": "code",
   "execution_count": null,
   "id": "d5faca60",
   "metadata": {},
   "outputs": [],
   "source": [
    "print(X)"
   ]
  },
  {
   "cell_type": "code",
   "execution_count": null,
   "id": "5f3381bb",
   "metadata": {},
   "outputs": [],
   "source": [
    "for k,i in enumerate(X):\n",
    "    if np.nan in i:\n",
    "        print(k,i)"
   ]
  },
  {
   "cell_type": "code",
   "execution_count": null,
   "id": "14c816cc",
   "metadata": {},
   "outputs": [],
   "source": [
    "for k,i in enumerate(X):\n",
    "    if np.int in i:\n",
    "        print(k,i)"
   ]
  },
  {
   "cell_type": "code",
   "execution_count": null,
   "id": "154046fe",
   "metadata": {},
   "outputs": [],
   "source": [
    "for k,i in enumerate(X):\n",
    "    if pd.nan in i:\n",
    "        print(k,i)"
   ]
  },
  {
   "cell_type": "code",
   "execution_count": null,
   "id": "c483618f",
   "metadata": {},
   "outputs": [],
   "source": [
    "for k,i in enumerate(X):\n",
    "    for j in i:\n",
    "        if pd.isna(j)\n",
    "            print(k,i)"
   ]
  },
  {
   "cell_type": "code",
   "execution_count": null,
   "id": "7f2d3aeb",
   "metadata": {},
   "outputs": [],
   "source": [
    "for k,i in enumerate(X):\n",
    "    for j in i:\n",
    "        if pd.isna(j):\n",
    "            print(k,i)"
   ]
  },
  {
   "cell_type": "code",
   "execution_count": null,
   "id": "901dc471",
   "metadata": {},
   "outputs": [],
   "source": [
    "for k,i in enumerate(wage_list):\n",
    "    if pd.isna(i):\n",
    "        print(k,i)\n",
    "    # for j in i:\n",
    "    #     if pd.isna(j):\n",
    "    #         print(k,i)"
   ]
  },
  {
   "cell_type": "code",
   "execution_count": null,
   "id": "75fe5150",
   "metadata": {},
   "outputs": [],
   "source": [
    "# remove unnecessary colomns and combine unemployment data together with wages\n",
    "unemployment_sample = unemployment_data.copy()\n",
    "unemployment_sample = unemployment_sample.drop(['timeperiod', 'tract', 'tract_name', 'edu_8th_or_less', 'edu_grades_9_11', 'edu_hs_grad_equiv', 'edu_post_hs',\\\n",
    "                                               'edu_unknown', 'top_category_employer1', 'top_category_employer2', 'top_category_employer3', 'gender_female', 'gender_male',\\\n",
    "                                                'gender_na', 'race_amerindian', 'race_asian', 'race_black', 'race_noanswer', 'race_hawaiiannative',\\\n",
    "                                               'race_other', 'race_white'], axis=1)\n",
    "wage_sample = wage_data.copy()\n",
    "wage_sample.drop(['tract', 'tract_name'], axis=1)\n",
    "prediction_sample = prediction_list.copy()\n",
    "wages_dict = {i:wage_sample[\"average_wage\"].values[k] for k,i in enumerate(wage_sample[\"uu_id\"])}\n",
    "wage_list = [wages_dict[i]  for i in unemployment_sample[\"uu_id\"]]\n",
    "# print(wages_dict)\n",
    "unemployment_sample[\"average_wage\"] = wage_list"
   ]
  },
  {
   "cell_type": "code",
   "execution_count": null,
   "id": "44d502bf",
   "metadata": {},
   "outputs": [],
   "source": [
    "tract_dic = {i:k for k,i in enumerate(wage_sample[\"uu_id\"])}"
   ]
  },
  {
   "cell_type": "code",
   "execution_count": null,
   "id": "d6e9ebfc",
   "metadata": {},
   "outputs": [],
   "source": [
    "unemployment_sample[\"uu_id\"] = [tract_dic[i] for i in unemployment_sample[\"uu_id\"]]"
   ]
  },
  {
   "cell_type": "code",
   "execution_count": null,
   "id": "cf91b2b9",
   "metadata": {},
   "outputs": [],
   "source": [
    "unemployment_sample = unemployment_sample.dropna()"
   ]
  },
  {
   "cell_type": "code",
   "execution_count": null,
   "id": "7a06b5c5",
   "metadata": {},
   "outputs": [],
   "source": [
    "print(unemployment_sample.loc[1])"
   ]
  },
  {
   "cell_type": "code",
   "execution_count": null,
   "id": "67db8f98",
   "metadata": {},
   "outputs": [],
   "source": [
    "X = unemployment_sample.drop([\"total_claims\"], axis=1).to_numpy() #to_numpy() values\n",
    "y = unemployment_sample['total_claims'].to_numpy()   #to_numpy() values\n",
    "# print(X.shape,y.shape)"
   ]
  },
  {
   "cell_type": "code",
   "execution_count": null,
   "id": "5bc78342",
   "metadata": {},
   "outputs": [],
   "source": [
    "for k,i in enumerate(wage_list):\n",
    "    if pd.isna(i):\n",
    "        print(k,i)\n",
    "    # for j in i:\n",
    "    #     if pd.isna(j):\n",
    "    #         print(k,i)"
   ]
  },
  {
   "cell_type": "code",
   "execution_count": null,
   "id": "82c7c549",
   "metadata": {},
   "outputs": [],
   "source": [
    "for k,i in enumerate(X):\n",
    "    for j in i:\n",
    "        if pd.isna(j):\n",
    "            print(k,i)"
   ]
  },
  {
   "cell_type": "code",
   "execution_count": null,
   "id": "957afee2",
   "metadata": {},
   "outputs": [],
   "source": [
    "from sklearn.model_selection import train_test_split \n",
    "from sklearn.linear_model import LinearRegression\n",
    "from sklearn import metrics"
   ]
  },
  {
   "cell_type": "code",
   "execution_count": null,
   "id": "f75a6a3a",
   "metadata": {},
   "outputs": [],
   "source": [
    "X_train, X_test, y_train, y_test = train_test_split(X, y, test_size=0.2, random_state=0)"
   ]
  },
  {
   "cell_type": "code",
   "execution_count": null,
   "id": "b2f5ab58",
   "metadata": {},
   "outputs": [],
   "source": [
    "regressor = LinearRegression()  \n",
    "regressor.fit(X_train, y_train) #training the algorithm"
   ]
  },
  {
   "cell_type": "markdown",
   "id": "c8bf123c",
   "metadata": {},
   "source": [
    "#To retrieve the intercept:\n",
    "print(regressor.intercept_)"
   ]
  },
  {
   "cell_type": "markdown",
   "id": "d75f0557",
   "metadata": {},
   "source": [
    "#For retrieving the slope:\n",
    "print(regressor.coef_)"
   ]
  },
  {
   "cell_type": "code",
   "execution_count": null,
   "id": "16ee7db0",
   "metadata": {},
   "outputs": [],
   "source": [
    "regressor = LinearRegression()  \n",
    "regressor.fit(X_train, y_train) #training the algorithm"
   ]
  },
  {
   "cell_type": "code",
   "execution_count": null,
   "id": "856db24e",
   "metadata": {},
   "outputs": [],
   "source": [
    "#To retrieve the intercept:\n",
    "print(regressor.intercept_)"
   ]
  },
  {
   "cell_type": "code",
   "execution_count": null,
   "id": "e22f5a26",
   "metadata": {},
   "outputs": [],
   "source": [
    "#For retrieving the slope:\n",
    "print(regressor.coef_)"
   ]
  },
  {
   "cell_type": "code",
   "execution_count": null,
   "id": "1cc18dad",
   "metadata": {},
   "outputs": [],
   "source": [
    "y_pred = regressor.predict(X_test)\n",
    "df = pd.DataFrame({'Actual': y_test.flatten(), 'Predicted': y_pred.flatten()})\n",
    "df"
   ]
  },
  {
   "cell_type": "code",
   "execution_count": null,
   "id": "cfef9c22",
   "metadata": {},
   "outputs": [],
   "source": [
    "y_pred = regressor.predict(X_test)\n",
    "df = pd.DataFrame({'Actual': y_test.flatten(), 'Predicted': y_pred.flatten()})\n",
    "df"
   ]
  },
  {
   "cell_type": "code",
   "execution_count": null,
   "id": "1f1f0794",
   "metadata": {},
   "outputs": [],
   "source": [
    "df1 = df.head(25)\n",
    "df1.plot(kind='bar',figsize=(16,10))\n",
    "plt.grid(which='major', linestyle='-', linewidth='0.5', color='green')\n",
    "plt.grid(which='minor', linestyle=':', linewidth='0.5', color='black')\n",
    "plt.show()"
   ]
  },
  {
   "cell_type": "code",
   "execution_count": null,
   "id": "1ccb0676",
   "metadata": {},
   "outputs": [],
   "source": [
    "from sklearn.model_selection import train_test_split \n",
    "from sklearn.linear_model import LinearRegression\n",
    "from sklearn import metrics\n",
    "import matplotlib.pyplot as plt "
   ]
  },
  {
   "cell_type": "code",
   "execution_count": null,
   "id": "d3a1a726",
   "metadata": {},
   "outputs": [],
   "source": [
    "X_train, X_test, y_train, y_test = train_test_split(X, y, test_size=0.2, random_state=0)"
   ]
  },
  {
   "cell_type": "code",
   "execution_count": null,
   "id": "cbcfe5ee",
   "metadata": {},
   "outputs": [],
   "source": [
    "regressor = LinearRegression()  \n",
    "regressor.fit(X_train, y_train) #training the algorithm"
   ]
  },
  {
   "cell_type": "code",
   "execution_count": null,
   "id": "48036d5a",
   "metadata": {},
   "outputs": [],
   "source": [
    "#To retrieve the intercept:\n",
    "print(regressor.intercept_)"
   ]
  },
  {
   "cell_type": "code",
   "execution_count": null,
   "id": "e428cfec",
   "metadata": {},
   "outputs": [],
   "source": [
    "#For retrieving the slope:\n",
    "print(regressor.coef_)"
   ]
  },
  {
   "cell_type": "code",
   "execution_count": null,
   "id": "6782de85",
   "metadata": {},
   "outputs": [],
   "source": [
    "y_pred = regressor.predict(X_test)\n",
    "df = pd.DataFrame({'Actual': y_test.flatten(), 'Predicted': y_pred.flatten()})\n",
    "df"
   ]
  },
  {
   "cell_type": "code",
   "execution_count": null,
   "id": "09351cd5",
   "metadata": {},
   "outputs": [],
   "source": [
    "df1 = df.head(25)\n",
    "df1.plot(kind='bar',figsize=(16,10))\n",
    "plt.grid(which='major', linestyle='-', linewidth='0.5', color='green')\n",
    "plt.grid(which='minor', linestyle=':', linewidth='0.5', color='black')\n",
    "plt.show()"
   ]
  },
  {
   "cell_type": "code",
   "execution_count": null,
   "id": "cebf964a",
   "metadata": {},
   "outputs": [],
   "source": [
    "y_pred = regressor.predict(X_test)\n",
    "df = pd.DataFrame({'Actual': y_test.flatten(), 'Predicted': y_pred.flatten()})\n",
    "df"
   ]
  },
  {
   "cell_type": "code",
   "execution_count": null,
   "id": "e4bd0a3e",
   "metadata": {},
   "outputs": [],
   "source": [
    "plt.scatter(X_test, y_test,  color='gray')\n",
    "plt.plot(X_test, y_pred, color='red', linewidth=2)\n",
    "plt.show()"
   ]
  },
  {
   "cell_type": "code",
   "execution_count": null,
   "id": "fd03943a",
   "metadata": {},
   "outputs": [],
   "source": [
    "print('Mean Absolute Error:', metrics.mean_absolute_error(y_test, y_pred))  \n",
    "print('Mean Squared Error:', metrics.mean_squared_error(y_test, y_pred))  \n",
    "print('Root Mean Squared Error:', np.sqrt(metrics.mean_squared_error(y_test, y_pred)))"
   ]
  },
  {
   "cell_type": "code",
   "execution_count": null,
   "id": "d8060fe0",
   "metadata": {
    "lines_to_next_cell": 2
   },
   "outputs": [],
   "source": [
    "df1 = df.head(25)\n",
    "df1.plot(kind='bar',figsize=(16,10))\n",
    "plt.grid(which='major', linestyle='-', linewidth='0.5', color='green')\n",
    "plt.grid(which='minor', linestyle=':', linewidth='0.5', color='black')\n",
    "plt.show()"
   ]
  }
 ],
 "metadata": {
  "jupytext": {
   "cell_metadata_filter": "-all",
   "main_language": "python",
   "notebook_metadata_filter": "-all"
  }
 },
 "nbformat": 4,
 "nbformat_minor": 5
}
