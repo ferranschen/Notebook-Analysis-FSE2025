{
 "cells": [
  {
   "cell_type": "code",
   "execution_count": null,
   "id": "813e2af5",
   "metadata": {},
   "outputs": [],
   "source": [
    "get_ipython().system('pip install db-dtypes')\n",
    "get_ipython().system('pip install plotly')"
   ]
  },
  {
   "cell_type": "code",
   "execution_count": null,
   "id": "ab6939f9",
   "metadata": {},
   "outputs": [],
   "source": [
    "import os\n",
    "import pandas\n",
    "from google.cloud import bigquery\n",
    "from google.oauth2 import service_account\n",
    "from google.cloud.bigquery import magics"
   ]
  },
  {
   "cell_type": "code",
   "execution_count": null,
   "id": "7a093c6b",
   "metadata": {},
   "outputs": [],
   "source": [
    "from sklearn.experimental import enable_iterative_imputer\n",
    "from sklearn.impute import IterativeImputer\n",
    "from sklearn.impute import KNNImputer\n",
    "from sklearn.preprocessing import StandardScaler\n",
    "from scipy import stats\n",
    "from scipy.stats import shapiro\n",
    "from scipy.stats import skew"
   ]
  },
  {
   "cell_type": "code",
   "execution_count": null,
   "id": "4687693f",
   "metadata": {},
   "outputs": [],
   "source": [
    "import numpy as np\n",
    "from numpy import isnan\n",
    "from matplotlib import pyplot"
   ]
  },
  {
   "cell_type": "code",
   "execution_count": null,
   "id": "29c78a90",
   "metadata": {},
   "outputs": [],
   "source": [
    "import seaborn as sns\n",
    "import matplotlib \n",
    "import matplotlib.pyplot as plt\n",
    "import plotly \n",
    "import plotly.express as px"
   ]
  },
  {
   "cell_type": "code",
   "execution_count": null,
   "id": "a70b4d8e",
   "metadata": {},
   "outputs": [],
   "source": [
    "import pandas as pd"
   ]
  },
  {
   "cell_type": "code",
   "execution_count": null,
   "id": "1719567e",
   "metadata": {},
   "outputs": [],
   "source": [
    "BIGQUERY_PROJECT = 'ironhacks-data'\n",
    "bigquery_client = bigquery.Client(project=BIGQUERY_PROJECT)"
   ]
  },
  {
   "cell_type": "code",
   "execution_count": null,
   "id": "811a3722",
   "metadata": {},
   "outputs": [],
   "source": [
    "query = \"\"\"\n",
    "SELECT *\n",
    "FROM `ironhacks-data.ironhacks_competition.unemployment_data`\n",
    "\"\"\""
   ]
  },
  {
   "cell_type": "code",
   "execution_count": null,
   "id": "dd82e62a",
   "metadata": {},
   "outputs": [],
   "source": [
    "query_job = bigquery_client.query(query)\n",
    "unemploy = query_job.to_dataframe()\n",
    "unemploy.head()"
   ]
  },
  {
   "cell_type": "code",
   "execution_count": null,
   "id": "496f6d50",
   "metadata": {},
   "outputs": [],
   "source": [
    "wage = \"\"\"\n",
    "SELECT *\n",
    "FROM `ironhacks-data.ironhacks_competition.wage_data`\n",
    "\"\"\""
   ]
  },
  {
   "cell_type": "code",
   "execution_count": null,
   "id": "d8449d1c",
   "metadata": {},
   "outputs": [],
   "source": [
    "query_wage = bigquery_client.query(wage)\n",
    "wages = query_wage.to_dataframe()\n",
    "wages.head()"
   ]
  },
  {
   "cell_type": "code",
   "execution_count": null,
   "id": "12a3aa94",
   "metadata": {},
   "outputs": [],
   "source": [
    "wages.info()"
   ]
  },
  {
   "cell_type": "code",
   "execution_count": null,
   "id": "b395d016",
   "metadata": {},
   "outputs": [],
   "source": [
    "unemploy.info()"
   ]
  },
  {
   "cell_type": "code",
   "execution_count": null,
   "id": "8cc72489",
   "metadata": {},
   "outputs": [],
   "source": [
    "unemploy.isnull().sum()"
   ]
  },
  {
   "cell_type": "code",
   "execution_count": null,
   "id": "5650584f",
   "metadata": {},
   "outputs": [],
   "source": [
    "unemploy=unemploy.sort_values('week_number', ascending=True)\n",
    "unemploy.reset_index(inplace=True)\n",
    "unemploy"
   ]
  },
  {
   "cell_type": "code",
   "execution_count": null,
   "id": "e5238997",
   "metadata": {},
   "outputs": [],
   "source": [
    "sns.heatmap(unemploy.isnull(),cbar=False)"
   ]
  },
  {
   "cell_type": "code",
   "execution_count": null,
   "id": "75beaa66",
   "metadata": {},
   "outputs": [],
   "source": [
    "miss=unemploy.isnull()\n",
    "total=unemploy.count()\n",
    "total"
   ]
  },
  {
   "cell_type": "code",
   "execution_count": null,
   "id": "d3374f38",
   "metadata": {},
   "outputs": [],
   "source": [
    "miss.sum()"
   ]
  },
  {
   "cell_type": "code",
   "execution_count": null,
   "id": "3a0d9d29",
   "metadata": {},
   "outputs": [],
   "source": [
    "miss.sum()/len(unemploy)"
   ]
  },
  {
   "cell_type": "code",
   "execution_count": null,
   "id": "63434abb",
   "metadata": {},
   "outputs": [],
   "source": [
    "map_1 = unemploy.corr(method ='spearman')\n",
    "sns.heatmap(map_1)"
   ]
  },
  {
   "cell_type": "code",
   "execution_count": null,
   "id": "8f5fb2a6",
   "metadata": {},
   "outputs": [],
   "source": [
    "unemploy[\"race_hawaiiannative\"].unique()"
   ]
  },
  {
   "cell_type": "code",
   "execution_count": null,
   "id": "f6946dbd",
   "metadata": {},
   "outputs": [],
   "source": [
    "df1=unemploy.copy()\n",
    "df1=df1.drop(columns=\"race_hawaiiannative\")"
   ]
  },
  {
   "cell_type": "code",
   "execution_count": null,
   "id": "dbdde011",
   "metadata": {},
   "outputs": [],
   "source": [
    "df=unemploy[['top_category_employer1',\"top_category_employer2\",\"top_category_employer3\",'uu_id',\"tract_name\",\"timeperiod\",\"tract\",\"countyfips\"]]"
   ]
  },
  {
   "cell_type": "code",
   "execution_count": null,
   "id": "0cc003d3",
   "metadata": {},
   "outputs": [],
   "source": [
    "df"
   ]
  },
  {
   "cell_type": "code",
   "execution_count": null,
   "id": "bb796f45",
   "metadata": {},
   "outputs": [],
   "source": [
    "df1.drop(columns=['top_category_employer1',\"top_category_employer2\",\"top_category_employer3\",'uu_id',\"tract_name\",\"timeperiod\",\"tract\",\"countyfips\"],inplace=True)"
   ]
  },
  {
   "cell_type": "code",
   "execution_count": null,
   "id": "892832e4",
   "metadata": {},
   "outputs": [],
   "source": [
    "impute1=KNNImputer()\n",
    "impute1.fit(df1)\n",
    "unemploy1=pd.DataFrame(impute1.fit_transform(df1),columns = df1.columns)"
   ]
  },
  {
   "cell_type": "code",
   "execution_count": null,
   "id": "b9aa5bda",
   "metadata": {},
   "outputs": [],
   "source": [
    "unemploy1"
   ]
  },
  {
   "cell_type": "code",
   "execution_count": null,
   "id": "2d3c2e55",
   "metadata": {},
   "outputs": [],
   "source": [
    "trial=pd.merge(df, unemploy1, left_index=True, right_index=True)"
   ]
  },
  {
   "cell_type": "code",
   "execution_count": null,
   "id": "a4630774",
   "metadata": {},
   "outputs": [],
   "source": [
    "trial.head()"
   ]
  },
  {
   "cell_type": "code",
   "execution_count": null,
   "id": "de701ecf",
   "metadata": {},
   "outputs": [],
   "source": [
    "trial.describe()"
   ]
  },
  {
   "cell_type": "code",
   "execution_count": null,
   "id": "240de1d5",
   "metadata": {},
   "outputs": [],
   "source": [
    "sns.heatmap(trial.corr(method=\"spearman\"))"
   ]
  },
  {
   "cell_type": "code",
   "execution_count": null,
   "id": "3d72e05f",
   "metadata": {},
   "outputs": [],
   "source": [
    "trial1=trial.copy()"
   ]
  },
  {
   "cell_type": "code",
   "execution_count": null,
   "id": "48fea61e",
   "metadata": {},
   "outputs": [],
   "source": [
    "scaler = StandardScaler()\n",
    "scaled=pd.DataFrame(scaler.fit_transform(unemploy1),columns = unemploy1.columns)"
   ]
  },
  {
   "cell_type": "code",
   "execution_count": null,
   "id": "232f412d",
   "metadata": {},
   "outputs": [],
   "source": [
    "scaled"
   ]
  },
  {
   "cell_type": "code",
   "execution_count": null,
   "id": "c310d5b9",
   "metadata": {},
   "outputs": [],
   "source": [
    "sns.displot(data=scaled,x=\"total_claims\",kind=\"kde\")"
   ]
  },
  {
   "cell_type": "code",
   "execution_count": null,
   "id": "0426644e",
   "metadata": {},
   "outputs": [],
   "source": [
    "claim = np.array(scaled[\"total_claims\"])\n",
    "sqrt_claim = np.sqrt(claim)\n",
    "log_claim = np.log(claim)\n",
    "f, ((f1, f2, f3), (f4, f5, f6)) = plt.subplots(2, 3)\n",
    "#f, ((f1, f2), (f4, f5)) = plt.subplots(2, 2)\n",
    "f1.hist(claim, 30)\n",
    "f2.hist(sqrt_claim, 30)\n",
    "f3.hist(log_claim, 30)"
   ]
  },
  {
   "cell_type": "code",
   "execution_count": null,
   "id": "989ca842",
   "metadata": {},
   "outputs": [],
   "source": [
    "stats.probplot(claim, plot=f4)\n",
    "stats.probplot(sqrt_claim, plot=f5)\n",
    "stats.probplot(log_claim, plot=f6)\n",
    "plt.show\n",
    "stats.shapiro(claim)[1], stats.shapiro(sqrt_claim)[1], stats.shapiro(log_claim)[1]"
   ]
  },
  {
   "cell_type": "code",
   "execution_count": null,
   "id": "afad5fcd",
   "metadata": {},
   "outputs": [],
   "source": [
    "shapiro(sqrt_claim)"
   ]
  },
  {
   "cell_type": "code",
   "execution_count": null,
   "id": "fc4117c5",
   "metadata": {},
   "outputs": [],
   "source": [
    "print(skew(sqrt_claim))"
   ]
  },
  {
   "cell_type": "code",
   "execution_count": null,
   "id": "45ccfbdd",
   "metadata": {},
   "outputs": [],
   "source": [
    "shapiro(unemploy1.total_claims)"
   ]
  },
  {
   "cell_type": "code",
   "execution_count": null,
   "id": "a0ef7a0c",
   "metadata": {},
   "outputs": [],
   "source": [
    "sns.displot(data=scaled,x=\"total_claims\",kind=\"kde\")"
   ]
  },
  {
   "cell_type": "code",
   "execution_count": null,
   "id": "22b0cd62",
   "metadata": {},
   "outputs": [],
   "source": [
    "f3.hist(log_claim, 30)"
   ]
  },
  {
   "cell_type": "code",
   "execution_count": null,
   "id": "a90f4ce4",
   "metadata": {},
   "outputs": [],
   "source": [
    "stats.probplot(scaled[\"total_claims\"],dist=\"norm\",plot=pylab)\n",
    "pylab.show()"
   ]
  },
  {
   "cell_type": "code",
   "execution_count": null,
   "id": "691f10d5",
   "metadata": {},
   "outputs": [],
   "source": [
    "import pylab"
   ]
  },
  {
   "cell_type": "code",
   "execution_count": null,
   "id": "a6e27de0",
   "metadata": {},
   "outputs": [],
   "source": [
    "stats.probplot(scaled[\"total_claims\"],dist=\"norm\",plot=pylab)\n",
    "pylab.show()"
   ]
  },
  {
   "cell_type": "code",
   "execution_count": null,
   "id": "abd63764",
   "metadata": {},
   "outputs": [],
   "source": [
    "sns.boxplot(x=scaled[\"total_claims\"])"
   ]
  },
  {
   "cell_type": "code",
   "execution_count": null,
   "id": "7a216a16",
   "metadata": {},
   "outputs": [],
   "source": [
    "sns.distplot(scaled[\"total_claims\"])"
   ]
  },
  {
   "cell_type": "code",
   "execution_count": null,
   "id": "206ca3a2",
   "metadata": {},
   "outputs": [],
   "source": [
    "sns.distplot(scaled[\"total_claims\"])\n",
    "sns.distplot(log_claim)"
   ]
  },
  {
   "cell_type": "code",
   "execution_count": null,
   "id": "34ee4046",
   "metadata": {},
   "outputs": [],
   "source": [
    "#sns.distplot(scaled[\"total_claims\"])\n",
    "sns.distplot(log_claim)"
   ]
  },
  {
   "cell_type": "code",
   "execution_count": null,
   "id": "83031bea",
   "metadata": {},
   "outputs": [],
   "source": [
    "stats.probplot(log_claim,dist=\"norm\",plot=pylab)\n",
    "pylab.show()"
   ]
  },
  {
   "cell_type": "code",
   "execution_count": null,
   "id": "43da275f",
   "metadata": {},
   "outputs": [],
   "source": [
    "sns.boxplot(x=log_claim)"
   ]
  },
  {
   "cell_type": "code",
   "execution_count": null,
   "id": "ffeaacdf",
   "metadata": {},
   "outputs": [],
   "source": [
    "#sns.distplot(scaled[\"total_claims\"])\n",
    "sns.distplot(scaled)"
   ]
  },
  {
   "cell_type": "code",
   "execution_count": null,
   "id": "4ff16d32",
   "metadata": {},
   "outputs": [],
   "source": [
    "scaled.plot.hist(subplots=True, legend=True, layout=(8, 2))"
   ]
  },
  {
   "cell_type": "code",
   "execution_count": null,
   "id": "8dadd3c6",
   "metadata": {},
   "outputs": [],
   "source": [
    "scaled.plot.hist(subplots=True, legend=True, layout=(9, 2))"
   ]
  },
  {
   "cell_type": "code",
   "execution_count": null,
   "id": "6b876fea",
   "metadata": {},
   "outputs": [],
   "source": [
    "scale_logs = np.log(scaled)"
   ]
  },
  {
   "cell_type": "code",
   "execution_count": null,
   "id": "e4ac09b3",
   "metadata": {},
   "outputs": [],
   "source": [
    "scale_log"
   ]
  },
  {
   "cell_type": "code",
   "execution_count": null,
   "id": "8d373af3",
   "metadata": {},
   "outputs": [],
   "source": [
    "scale_logs"
   ]
  },
  {
   "cell_type": "code",
   "execution_count": null,
   "id": "2c8a0bdd",
   "metadata": {},
   "outputs": [],
   "source": [
    "sns.boxplot(x=scaled[\"edu_grades_9_11\"])"
   ]
  },
  {
   "cell_type": "code",
   "execution_count": null,
   "id": "5951f251",
   "metadata": {},
   "outputs": [],
   "source": [
    "sns.boxplot(x=scale_logs[\"edu_grades_9_11\"])"
   ]
  },
  {
   "cell_type": "code",
   "execution_count": null,
   "id": "68af136c",
   "metadata": {},
   "outputs": [],
   "source": [
    "scale_sqrt=np.sqrt(scaled)"
   ]
  },
  {
   "cell_type": "code",
   "execution_count": null,
   "id": "5ba0cf65",
   "metadata": {},
   "outputs": [],
   "source": [
    "scale_sqrt"
   ]
  },
  {
   "cell_type": "code",
   "execution_count": null,
   "id": "3d9b7162",
   "metadata": {},
   "outputs": [],
   "source": [
    "sns.distplot(log_claim)"
   ]
  },
  {
   "cell_type": "code",
   "execution_count": null,
   "id": "a0f49ffe",
   "metadata": {},
   "outputs": [],
   "source": [
    "unemploy_logs = np.log(unemploy1)"
   ]
  },
  {
   "cell_type": "code",
   "execution_count": null,
   "id": "c3001c13",
   "metadata": {},
   "outputs": [],
   "source": [
    "unemploy_logs"
   ]
  },
  {
   "cell_type": "code",
   "execution_count": null,
   "id": "ad8073a9",
   "metadata": {},
   "outputs": [],
   "source": [
    "unemp_sqrt=np.sqrt(unemploy1)"
   ]
  },
  {
   "cell_type": "code",
   "execution_count": null,
   "id": "0fee4334",
   "metadata": {},
   "outputs": [],
   "source": [
    "unemp_sqrt"
   ]
  },
  {
   "cell_type": "code",
   "execution_count": null,
   "id": "173ec15b",
   "metadata": {},
   "outputs": [],
   "source": [
    "sns.distplot(unemp_sqrt)"
   ]
  },
  {
   "cell_type": "code",
   "execution_count": null,
   "id": "792d7b50",
   "metadata": {},
   "outputs": [],
   "source": [
    "sns.distplot(unemp_sqrt[edu_grades_9_11])"
   ]
  },
  {
   "cell_type": "code",
   "execution_count": null,
   "id": "862d758b",
   "metadata": {},
   "outputs": [],
   "source": [
    "sns.distplot(unemp_sqrt[\"edu_grades_9_11\"])"
   ]
  },
  {
   "cell_type": "code",
   "execution_count": null,
   "id": "8a5c622a",
   "metadata": {},
   "outputs": [],
   "source": [
    "unemp_cube=np.power((unemploy1),1/3)"
   ]
  },
  {
   "cell_type": "code",
   "execution_count": null,
   "id": "72ca6e3d",
   "metadata": {},
   "outputs": [],
   "source": [
    "unemp_cube"
   ]
  },
  {
   "cell_type": "code",
   "execution_count": null,
   "id": "1f69057e",
   "metadata": {},
   "outputs": [],
   "source": [
    "sns.distplot(unemp_cube[\"edu_grades_9_11\"])"
   ]
  },
  {
   "cell_type": "code",
   "execution_count": null,
   "id": "e511e1fd",
   "metadata": {},
   "outputs": [],
   "source": [
    "unemp_cube=np.power((unemploy1),1/4)"
   ]
  },
  {
   "cell_type": "code",
   "execution_count": null,
   "id": "db5bf7d6",
   "metadata": {},
   "outputs": [],
   "source": [
    "sns.distplot(unemp_cube[\"edu_grades_9_11\"])"
   ]
  },
  {
   "cell_type": "code",
   "execution_count": null,
   "id": "3d3a705b",
   "metadata": {},
   "outputs": [],
   "source": [
    "unemp_cube=np.power((unemploy1),1/6)"
   ]
  },
  {
   "cell_type": "code",
   "execution_count": null,
   "id": "898d8273",
   "metadata": {},
   "outputs": [],
   "source": [
    "sns.distplot(unemp_cube[\"edu_grades_9_11\"])"
   ]
  },
  {
   "cell_type": "code",
   "execution_count": null,
   "id": "73b9aff1",
   "metadata": {},
   "outputs": [],
   "source": [
    "unemp_cube=np.power((unemploy1),1/10)"
   ]
  },
  {
   "cell_type": "code",
   "execution_count": null,
   "id": "e3d72dc5",
   "metadata": {},
   "outputs": [],
   "source": [
    "sns.distplot(unemp_cube[\"edu_grades_9_11\"])"
   ]
  },
  {
   "cell_type": "code",
   "execution_count": null,
   "id": "e1991d4e",
   "metadata": {},
   "outputs": [],
   "source": [
    "unemp_cube=np.power((unemploy1),1/3)"
   ]
  },
  {
   "cell_type": "code",
   "execution_count": null,
   "id": "af837909",
   "metadata": {},
   "outputs": [],
   "source": [
    "sns.distplot(unemp_cube[\"edu_grades_9_11\"])"
   ]
  },
  {
   "cell_type": "code",
   "execution_count": null,
   "id": "2fdb2de7",
   "metadata": {},
   "outputs": [],
   "source": [
    "shapiro(unemp_cube.total_claims)"
   ]
  },
  {
   "cell_type": "code",
   "execution_count": null,
   "id": "ac3dae2f",
   "metadata": {},
   "outputs": [],
   "source": [
    "from scipy.stats import jarque_bera"
   ]
  },
  {
   "cell_type": "code",
   "execution_count": null,
   "id": "4ca9cb83",
   "metadata": {},
   "outputs": [],
   "source": [
    "statistics,pvalue = jarque_bera(unemploy1.total_claims)"
   ]
  },
  {
   "cell_type": "code",
   "execution_count": null,
   "id": "802d8362",
   "metadata": {},
   "outputs": [],
   "source": [
    "print('statistics=%.3f, p=%.3f\\n' %(statisticss, pvalue))\n",
    "if pvalue>0.05:\n",
    "    print(\"Probably Normal\")\n",
    "else:\n",
    "    print(\"Probably not Normal\")"
   ]
  },
  {
   "cell_type": "code",
   "execution_count": null,
   "id": "da04d7b9",
   "metadata": {},
   "outputs": [],
   "source": [
    "statistics,pvalue = jarque_bera(unemploy1.total_claims)"
   ]
  },
  {
   "cell_type": "code",
   "execution_count": null,
   "id": "fade00ad",
   "metadata": {},
   "outputs": [],
   "source": [
    "print('statistics=%.3f, p=%.3f\\n' %(statistics, pvalue))\n",
    "if pvalue>0.05:\n",
    "    print(\"Probably Normal\")\n",
    "else:\n",
    "    print(\"Probably not Normal\")"
   ]
  },
  {
   "cell_type": "code",
   "execution_count": null,
   "id": "3044197f",
   "metadata": {},
   "outputs": [],
   "source": [
    "statistics,pvalue = jarque_bera(unemp_sqrt.total_claims)"
   ]
  },
  {
   "cell_type": "code",
   "execution_count": null,
   "id": "faa552ca",
   "metadata": {},
   "outputs": [],
   "source": [
    "print('statistics=%.3f, p=%.3f\\n' %(statistics, pvalue))\n",
    "if pvalue>0.05:\n",
    "    print(\"Probably Normal\")\n",
    "else:\n",
    "    print(\"Probably not Normal\")"
   ]
  },
  {
   "cell_type": "code",
   "execution_count": null,
   "id": "8a78dc59",
   "metadata": {},
   "outputs": [],
   "source": [
    "statistics,pvalue = jarque_bera(unemp_log.total_claims)"
   ]
  },
  {
   "cell_type": "code",
   "execution_count": null,
   "id": "a6e05757",
   "metadata": {},
   "outputs": [],
   "source": [
    "print('statistics=%.3f, p=%.3f\\n' %(statistics, pvalue))\n",
    "if pvalue>0.05:\n",
    "    print(\"Probably Normal\")\n",
    "else:\n",
    "    print(\"Probably not Normal\")"
   ]
  },
  {
   "cell_type": "code",
   "execution_count": null,
   "id": "0431a95e",
   "metadata": {},
   "outputs": [],
   "source": [
    "statistics,pvalue = jarque_bera(unemp_logs.total_claims)"
   ]
  },
  {
   "cell_type": "code",
   "execution_count": null,
   "id": "70d9ec73",
   "metadata": {},
   "outputs": [],
   "source": [
    "print('statistics=%.3f, p=%.3f\\n' %(statistics, pvalue))\n",
    "if pvalue>0.05:\n",
    "    print(\"Probably Normal\")\n",
    "else:\n",
    "    print(\"Probably not Normal\")"
   ]
  },
  {
   "cell_type": "code",
   "execution_count": null,
   "id": "4d6bbe7e",
   "metadata": {},
   "outputs": [],
   "source": [
    "statistics,pvalue = jarque_bera(unemp_cube.total_claims)"
   ]
  },
  {
   "cell_type": "code",
   "execution_count": null,
   "id": "f1a81f32",
   "metadata": {},
   "outputs": [],
   "source": [
    "print('statistics=%.3f, p=%.3f\\n' %(statistics, pvalue))\n",
    "if pvalue>0.05:\n",
    "    print(\"Probably Normal\")\n",
    "else:\n",
    "    print(\"Probably not Normal\")"
   ]
  },
  {
   "cell_type": "code",
   "execution_count": null,
   "id": "ccd97542",
   "metadata": {},
   "outputs": [],
   "source": [
    "statistics,pvalue = jarque_bera(unemp_cube)"
   ]
  },
  {
   "cell_type": "code",
   "execution_count": null,
   "id": "c5957c6b",
   "metadata": {
    "lines_to_next_cell": 2
   },
   "outputs": [],
   "source": [
    "print('statistics=%.3f, p=%.3f\\n' %(statistics, pvalue))\n",
    "if pvalue>0.05:\n",
    "    print(\"Probably Normal\")\n",
    "else:\n",
    "    print(\"Probably not Normal\")"
   ]
  }
 ],
 "metadata": {
  "jupytext": {
   "cell_metadata_filter": "-all",
   "main_language": "python",
   "notebook_metadata_filter": "-all"
  }
 },
 "nbformat": 4,
 "nbformat_minor": 5
}
