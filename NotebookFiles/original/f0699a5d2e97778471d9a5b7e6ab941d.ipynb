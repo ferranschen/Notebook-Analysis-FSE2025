{
 "cells": [
  {
   "cell_type": "code",
   "execution_count": null,
   "id": "df4ff931",
   "metadata": {},
   "outputs": [],
   "source": [
    "get_ipython().run_cell_magic('capture', 'cont', '!pip install db-dtypes\\n')"
   ]
  },
  {
   "cell_type": "code",
   "execution_count": null,
   "id": "ad771b7e",
   "metadata": {},
   "outputs": [],
   "source": [
    "cont.show()"
   ]
  },
  {
   "cell_type": "code",
   "execution_count": null,
   "id": "7b2197e9",
   "metadata": {},
   "outputs": [],
   "source": [
    "import pandas as pd\n",
    "import numpy as np\n",
    "import matplotlib\n",
    "import matplotlib.pyplot as plt\n",
    "import seaborn as sns\n",
    "get_ipython().run_line_magic('matplotlib', 'inline')"
   ]
  },
  {
   "cell_type": "code",
   "execution_count": null,
   "id": "8b7cd089",
   "metadata": {},
   "outputs": [],
   "source": [
    "import os\n",
    "from google.cloud import bigquery\n",
    "from google.oauth2 import service_account\n",
    "from google.cloud.bigquery import magics"
   ]
  },
  {
   "cell_type": "code",
   "execution_count": null,
   "id": "09afffa4",
   "metadata": {},
   "outputs": [],
   "source": [
    "import statsmodels.api as sm\n",
    "import itertools"
   ]
  },
  {
   "cell_type": "markdown",
   "id": "0afcf04a",
   "metadata": {},
   "source": [
    "CONFIGURE THE BIGQUERY SETTINGS"
   ]
  },
  {
   "cell_type": "code",
   "execution_count": null,
   "id": "f7adf628",
   "metadata": {},
   "outputs": [],
   "source": [
    "BIGQUERY_PROJECT = 'ironhacks-data'\n",
    "bigquery_client = bigquery.Client(project=BIGQUERY_PROJECT)"
   ]
  },
  {
   "cell_type": "code",
   "execution_count": null,
   "id": "282a2564",
   "metadata": {},
   "outputs": [],
   "source": [
    "#obtaining the unemployment data\n",
    "query = \"\"\"\n",
    "SELECT *\n",
    "FROM `ironhacks-data.ironhacks_competition.unemployment_data`\n",
    "\"\"\""
   ]
  },
  {
   "cell_type": "code",
   "execution_count": null,
   "id": "3623c229",
   "metadata": {},
   "outputs": [],
   "source": [
    "# QUERY THE DATA ONCE\n",
    "query_job = bigquery_client.query(query)\n",
    "data = query_job.to_dataframe()\n",
    "#data['date']= pd.to_datetime(data['date'])\n",
    "data.head()"
   ]
  },
  {
   "cell_type": "code",
   "execution_count": null,
   "id": "cf94f5b5",
   "metadata": {},
   "outputs": [],
   "source": [
    "#obtaining the submission file\n",
    "query = \"\"\"\n",
    "SELECT *\n",
    "FROM `ironhacks-data.ironhacks_competition.prediction_list`\n",
    "\"\"\""
   ]
  },
  {
   "cell_type": "code",
   "execution_count": null,
   "id": "56a64e6a",
   "metadata": {},
   "outputs": [],
   "source": [
    "# QUERY THE DATA ONCE\n",
    "query_job = bigquery_client.query(query)\n",
    "submit = query_job.to_dataframe()\n",
    "#data['date']= pd.to_datetime(data['date'])\n",
    "submit.head()"
   ]
  },
  {
   "cell_type": "code",
   "execution_count": null,
   "id": "88884f2a",
   "metadata": {},
   "outputs": [],
   "source": [
    "data.info()   #Feature Matrix\n",
    "#X = data.drop(\"date\",1)\n",
    "#y = data[\"wind_speed\"]          #Target Variable"
   ]
  },
  {
   "cell_type": "code",
   "execution_count": null,
   "id": "44e82c00",
   "metadata": {},
   "outputs": [],
   "source": [
    "submit.info()"
   ]
  },
  {
   "cell_type": "markdown",
   "id": "609bf936",
   "metadata": {},
   "source": [
    "dropping duplicate rows in the data"
   ]
  },
  {
   "cell_type": "code",
   "execution_count": null,
   "id": "1bfae3ff",
   "metadata": {},
   "outputs": [],
   "source": [
    "data.drop_duplicates(inplace=True, ignore_index=True)\n",
    "data.info()"
   ]
  },
  {
   "cell_type": "markdown",
   "id": "781c4ac0",
   "metadata": {},
   "source": [
    "unique number of ID in the data"
   ]
  },
  {
   "cell_type": "code",
   "execution_count": null,
   "id": "b527d95f",
   "metadata": {},
   "outputs": [],
   "source": [
    "data.uu_id.unique().size"
   ]
  },
  {
   "cell_type": "markdown",
   "id": "c1095dc5",
   "metadata": {},
   "source": [
    "replace all na values with 0"
   ]
  },
  {
   "cell_type": "code",
   "execution_count": null,
   "id": "58aee12f",
   "metadata": {},
   "outputs": [],
   "source": [
    "data.fillna(0, inplace=True)"
   ]
  },
  {
   "cell_type": "code",
   "execution_count": null,
   "id": "9eef3f2c",
   "metadata": {},
   "outputs": [],
   "source": [
    "data.info()"
   ]
  },
  {
   "cell_type": "markdown",
   "id": "f1a345f4",
   "metadata": {},
   "source": [
    "number of weeks in the data for a random ID"
   ]
  },
  {
   "cell_type": "code",
   "execution_count": null,
   "id": "7afcff44",
   "metadata": {},
   "outputs": [],
   "source": [
    "test=data[data['uu_id']=='bbcb018f0e5e49e13636f6e78ce9f60f']\n",
    "len(test)"
   ]
  },
  {
   "cell_type": "markdown",
   "id": "4629a25d",
   "metadata": {},
   "source": [
    "convert the timeperiod column to datetime"
   ]
  },
  {
   "cell_type": "code",
   "execution_count": null,
   "id": "ba36e810",
   "metadata": {},
   "outputs": [],
   "source": [
    "data['timeperiod']= pd.to_datetime(data['timeperiod'], format='%Y%m%d')"
   ]
  },
  {
   "cell_type": "code",
   "execution_count": null,
   "id": "385e61a5",
   "metadata": {},
   "outputs": [],
   "source": [
    "plt.figure(figsize=(12,10))\n",
    "cor = data.corr()\n",
    "sns.heatmap(cor,  cmap=plt.cm.Reds)\n",
    "plt.show()"
   ]
  },
  {
   "cell_type": "code",
   "execution_count": null,
   "id": "90e2a741",
   "metadata": {},
   "outputs": [],
   "source": [
    "#Correlation with output variable\n",
    "cor_target = abs(cor[\"total_claims\"])\n",
    "#Selecting highly correlated features\n",
    "relevant_features = cor_target[cor_target>0.2]\n",
    "print(relevant_features)"
   ]
  },
  {
   "cell_type": "code",
   "execution_count": null,
   "id": "d8953281",
   "metadata": {},
   "outputs": [],
   "source": [
    "columns_rel = relevant_features.index.to_list()"
   ]
  },
  {
   "cell_type": "code",
   "execution_count": null,
   "id": "e284de89",
   "metadata": {},
   "outputs": [],
   "source": [
    "data.plot(subplots=True, figsize=(20,24))"
   ]
  },
  {
   "cell_type": "code",
   "execution_count": null,
   "id": "ec808dd7",
   "metadata": {},
   "outputs": [],
   "source": [
    "min(data['timeperiod']),max(data['timeperiod'])"
   ]
  },
  {
   "cell_type": "code",
   "execution_count": null,
   "id": "be19632f",
   "metadata": {},
   "outputs": [],
   "source": [
    "data.dtypes"
   ]
  },
  {
   "cell_type": "markdown",
   "id": "498279f0",
   "metadata": {},
   "source": [
    "data = data.set_index('timeperiod')"
   ]
  },
  {
   "cell_type": "code",
   "execution_count": null,
   "id": "124917b9",
   "metadata": {},
   "outputs": [],
   "source": [
    "data.index"
   ]
  },
  {
   "cell_type": "markdown",
   "id": "95db2337",
   "metadata": {},
   "source": [
    "data['Year'] = data.index.year\n",
    "data['Month'] = data.index.month\n",
    "data['Day'] = data.index.day\n",
    "Display a random sampling of 5 rows\n",
    "data.sample(5, random_state=0)"
   ]
  },
  {
   "cell_type": "code",
   "execution_count": null,
   "id": "d69dbfbc",
   "metadata": {},
   "outputs": [],
   "source": [
    "sns.set(rc={'figure.figsize':(11, 4)})"
   ]
  },
  {
   "cell_type": "code",
   "execution_count": null,
   "id": "397cfa3d",
   "metadata": {},
   "outputs": [],
   "source": [
    "data['total_claims'].plot(linewidth=.5);"
   ]
  },
  {
   "cell_type": "code",
   "execution_count": null,
   "id": "8079aacf",
   "metadata": {},
   "outputs": [],
   "source": [
    "cols_plot = ['week_number','countyfips','tract','total_claims','edu_8th_or_less','edu_grades_9_11','edu_hs_grad_equiv','edu_post_hs',\n",
    "            'edu_unknown', 'gender_female', 'gender_male', 'gender_na', 'race_amerindian', 'race_asian', 'race_black', 'race_noanswer', \n",
    "            'race_hawaiiannative', 'race_other', 'race_white']\n",
    "axes = data[cols_plot].plot(marker='.', alpha=0.5, linestyle='None', figsize=(30, 25), subplots=True)\n",
    "for ax in axes:\n",
    "    ax.set_ylabel('features')"
   ]
  },
  {
   "cell_type": "markdown",
   "id": "7664e092",
   "metadata": {},
   "source": [
    "import matplotlib.dates as mdates\n",
    "fig, ax = plt.subplots()\n",
    "ax.plot(data.loc['2019-08':'2019-12', 'precipitation_data'], marker='o', linestyle='-')\n",
    "ax.set_ylabel('Precipitation')\n",
    "ax.set_title('Aug 2019-2020 Precipiation Data')"
   ]
  },
  {
   "cell_type": "code",
   "execution_count": null,
   "id": "f7d9f51e",
   "metadata": {},
   "outputs": [],
   "source": [
    "#fig, axes = plt.subplots(3, 1, figsize=(11, 10), sharex=True)\n",
    "#for name, ax in zip(['precipitation_data', 'min_temperature', 'max_temperature'], axes):\n",
    "#    sns.boxplot(data=data, x='Month', y=name, ax=ax)\n",
    "#    ax.set_ylabel('precipitation')\n",
    "#    ax.set_title(name)\n",
    "    # Remove the automatic x-axis label from all but the bottom subplot\n",
    "#    if ax != axes[-1]:\n",
    "#        ax.set_xlabel('')"
   ]
  },
  {
   "cell_type": "markdown",
   "id": "63d3efb0",
   "metadata": {},
   "source": [
    "sns.boxplot(data=data, x='Month', y='total_claims');"
   ]
  },
  {
   "cell_type": "markdown",
   "id": "88c93ade",
   "metadata": {},
   "source": [
    "from statsmodels.graphics.tsaplots import plot_acf\n",
    "plot_acf(x=data['max_temperature'], lags=50)"
   ]
  },
  {
   "cell_type": "code",
   "execution_count": null,
   "id": "297ce58f",
   "metadata": {},
   "outputs": [],
   "source": [
    "columns_rel.append('timeperiod')\n",
    "columns_rel.append('uu_id')\n",
    "columns_rel"
   ]
  },
  {
   "cell_type": "code",
   "execution_count": null,
   "id": "7e75c424",
   "metadata": {},
   "outputs": [],
   "source": [
    "data"
   ]
  },
  {
   "cell_type": "code",
   "execution_count": null,
   "id": "1f7aa17a",
   "metadata": {},
   "outputs": [],
   "source": [
    "data_arima=data[columns_rel]\n",
    "data_arima"
   ]
  },
  {
   "cell_type": "code",
   "execution_count": null,
   "id": "7d657090",
   "metadata": {},
   "outputs": [],
   "source": [
    "get_ipython().run_cell_magic('capture', '', \"unique_id=list(data_arima['uu_id'].unique())\\ndata_dict = {}\\n\\nfor i in unique_id:\\n    j = data_arima[data_arima['uu_id']==i].groupby('timeperiod')['total_claims'].sum().reset_index()\\n    j = j.set_index('timeperiod')\\n    data_dict[i] = j\\n\")"
   ]
  },
  {
   "cell_type": "code",
   "execution_count": null,
   "id": "6ee5ec37",
   "metadata": {},
   "outputs": [],
   "source": [
    "p = d = q = range(0, 2)\n",
    "pdq = list(itertools.product(p, d, q))\n",
    "seasonal_pdq = [(x[0], x[1], x[2], 12) for x in list(itertools.product(p, d, q))]\n",
    "print('Examples of parameter combinations for Seasonal ARIMA...')\n",
    "print('SARIMAX: {} x {}'.format(pdq[1], seasonal_pdq[1]))\n",
    "print('SARIMAX: {} x {}'.format(pdq[1], seasonal_pdq[2]))\n",
    "print('SARIMAX: {} x {}'.format(pdq[2], seasonal_pdq[3]))\n",
    "print('SARIMAX: {} x {}'.format(pdq[2], seasonal_pdq[4]))"
   ]
  },
  {
   "cell_type": "code",
   "execution_count": null,
   "id": "3ba4665f",
   "metadata": {},
   "outputs": [],
   "source": [
    "import warnings\n",
    "warnings.filterwarnings(\"ignore\")"
   ]
  },
  {
   "cell_type": "code",
   "execution_count": null,
   "id": "2378f39c",
   "metadata": {},
   "outputs": [],
   "source": [
    "result_dict = {}\n",
    "param_dict = {}\n",
    "seasonal_dict = {}\n",
    "for key in data_dict:\n",
    "    y=data_dict[key]['total_claims']\n",
    "    for param in pdq:\n",
    "        for param_seasonal in seasonal_pdq:\n",
    "            \n",
    "            try:\n",
    "                \n",
    "                mod = sm.tsa.statespace.SARIMAX(y.astype(float),\n",
    "                                                order=param,\n",
    "                                                seasonal_order=param_seasonal,\n",
    "                                                enforce_stationarity=False,\n",
    "                                                enforce_invertibility=False)\n",
    "                result_dict[key] = mod.fit(disp=False)\n",
    "                #print('ARIMA{}x{}12 - AIC:{}'.format(param, param_seasonal, result_dict[key].aic))\n",
    "                param_dict[key]=param\n",
    "                seasonal_dict[key]=param_seasonal\n",
    "            except:\n",
    "                continue"
   ]
  },
  {
   "cell_type": "code",
   "execution_count": null,
   "id": "1b754105",
   "metadata": {},
   "outputs": [],
   "source": [
    "param_dict_copy=param_dict\n",
    "seasonal_dict_copy=seasonal_dict\n",
    "result_dict_copy=result_dict"
   ]
  },
  {
   "cell_type": "code",
   "execution_count": null,
   "id": "0fb503c4",
   "metadata": {
    "lines_to_next_cell": 2
   },
   "outputs": [],
   "source": [
    "results = {}\n",
    "for key in data_dict:\n",
    "    y=data_dict[key]['total_claims']\n",
    "    print(y)\n",
    "    mod = sm.tsa.statespace.SARIMAX(y.astype(float),\n",
    "                                order=param_dict[key],\n",
    "                                seasonal_order=seasonal_dict[key],\n",
    "                                enforce_stationarity=False,\n",
    "                                enforce_invertibility=False)\n",
    "    results[key] = mod.fit(disp=False)\n",
    "    #print(results.summary().tables[1])"
   ]
  }
 ],
 "metadata": {
  "jupytext": {
   "cell_metadata_filter": "-all",
   "main_language": "python",
   "notebook_metadata_filter": "-all"
  }
 },
 "nbformat": 4,
 "nbformat_minor": 5
}
