{
 "cells": [
  {
   "cell_type": "code",
   "execution_count": null,
   "id": "2df2b4b5",
   "metadata": {},
   "outputs": [],
   "source": [
    "import os\n",
    "import pandas as pd\n",
    "import numpy as np\n",
    "from google.cloud import bigquery\n",
    "from google.oauth2 import service_account\n",
    "from google.cloud.bigquery import magics\n",
    "BIGQUERY_PROJECT = 'ironhacks-data'\n",
    "bigquery_client = bigquery.Client(project=BIGQUERY_PROJECT)"
   ]
  },
  {
   "cell_type": "code",
   "execution_count": null,
   "id": "62c628e6",
   "metadata": {},
   "outputs": [],
   "source": [
    "query = \"\"\"\n",
    "SELECT *\n",
    "FROM `ironhacks-data.ironhacks_competition.unemployment_data`\n",
    "\"\"\"\n",
    "# QUERY THE DATA ONCE\n",
    "query_job = bigquery_client.query(query)\n",
    "unemp_data = query_job.to_dataframe()\n",
    "unemp_data.head(5)"
   ]
  },
  {
   "cell_type": "code",
   "execution_count": null,
   "id": "02836a46",
   "metadata": {},
   "outputs": [],
   "source": [
    "query = \"\"\"\n",
    "SELECT *\n",
    "FROM `ironhacks-data.ironhacks_competition.wage_data`\n",
    "\"\"\"\n",
    "# QUERY THE DATA ONCE\n",
    "query_job = bigquery_client.query(query)\n",
    "wage_data = query_job.to_dataframe()\n",
    "wage_data.head()"
   ]
  },
  {
   "cell_type": "code",
   "execution_count": null,
   "id": "8f05deab",
   "metadata": {},
   "outputs": [],
   "source": [
    "query = \"\"\"\n",
    "SELECT *\n",
    "FROM `ironhacks-data.ironhacks_competition.prediction_list`\n",
    "\"\"\"\n",
    "# QUERY THE DATA ONCE\n",
    "query_job = bigquery_client.query(query)\n",
    "pred_data = query_job.to_dataframe()\n",
    "pred_data.head()"
   ]
  },
  {
   "cell_type": "code",
   "execution_count": null,
   "id": "31e1bbdd",
   "metadata": {},
   "outputs": [],
   "source": [
    "unemp_data.info()"
   ]
  },
  {
   "cell_type": "code",
   "execution_count": null,
   "id": "2487dbb0",
   "metadata": {},
   "outputs": [],
   "source": [
    "wage_data.info()"
   ]
  },
  {
   "cell_type": "code",
   "execution_count": null,
   "id": "c60c38db",
   "metadata": {},
   "outputs": [],
   "source": [
    "unemp_data.isna().sum()"
   ]
  },
  {
   "cell_type": "code",
   "execution_count": null,
   "id": "b95701fb",
   "metadata": {},
   "outputs": [],
   "source": [
    "set1 = set(list(unemp_data['top_category_employer1'].unique()))\n",
    "set1"
   ]
  },
  {
   "cell_type": "code",
   "execution_count": null,
   "id": "7fa152eb",
   "metadata": {},
   "outputs": [],
   "source": [
    "set2 = set(list(unemp_data['top_category_employer2'].unique()))\n",
    "set2"
   ]
  },
  {
   "cell_type": "code",
   "execution_count": null,
   "id": "05f1c3da",
   "metadata": {},
   "outputs": [],
   "source": [
    "set3 = set(list(unemp_data['top_category_employer3'].unique()))\n",
    "set3"
   ]
  },
  {
   "cell_type": "code",
   "execution_count": null,
   "id": "1064e21d",
   "metadata": {},
   "outputs": [],
   "source": [
    "unemp_data['top_category_employer2'] = unemp_data['top_category_employer2'].replace('N/A',np.NaN)\n",
    "unemp_data['top_category_employer3'] = unemp_data['top_category_employer3'].replace('N/A',np.NaN)"
   ]
  },
  {
   "cell_type": "code",
   "execution_count": null,
   "id": "8475486e",
   "metadata": {},
   "outputs": [],
   "source": [
    "unemp_data['countyfips'].unique()"
   ]
  },
  {
   "cell_type": "code",
   "execution_count": null,
   "id": "75d54847",
   "metadata": {},
   "outputs": [],
   "source": [
    "(unemp_data.isna().sum()/len(unemp_data))*100"
   ]
  },
  {
   "cell_type": "code",
   "execution_count": null,
   "id": "f51ece53",
   "metadata": {},
   "outputs": [],
   "source": [
    "(unemp_data.isna().sum()/len(unemp_data))*100"
   ]
  },
  {
   "cell_type": "code",
   "execution_count": null,
   "id": "e1d96446",
   "metadata": {},
   "outputs": [],
   "source": [
    "unemp_data['edu_8th_or_less'] = unemp_data.groupby('countyfips')['edu_8th_or_less'].transform(lambda x: x.fillna(int(x.mean())))\n",
    "unemp_data['edu_grades_9_11'] = unemp_data.groupby('countyfips')['edu_grades_9_11'].transform(lambda x: x.fillna(int(x.mean())))\n",
    "unemp_data['edu_hs_grad_equiv'] = unemp_data.groupby('countyfips')['edu_hs_grad_equiv'].transform(lambda x: x.fillna(int(x.mean())))"
   ]
  },
  {
   "cell_type": "code",
   "execution_count": null,
   "id": "f3f4a737",
   "metadata": {},
   "outputs": [],
   "source": [
    "unemp_data['race_asian'] = unemp_data.groupby('countyfips')['race_asian'].transform(lambda x: x.fillna(int(x.mean())))\n",
    "unemp_data['race_amerindian'] = unemp_data.groupby('countyfips')['race_amerindian'].transform(lambda x: x.fillna(int(x.mean())))\n",
    "unemp_data['race_black'] = unemp_data.groupby('countyfips')['race_black'].transform(lambda x: x.fillna(int(x.mean())))\n",
    "unemp_data['race_hawaiiannative'] = unemp_data.groupby('countyfips')['race_hawaiiannative'].transform(lambda x: x.fillna(int(x.mean())))\n",
    "unemp_data['race_other'] = unemp_data.groupby('countyfips')['race_other'].transform(lambda x: x.fillna(int(x.mean())))\n",
    "unemp_data['race_white'] = unemp_data.groupby('countyfips')['race_white'].transform(lambda x: x.fillna(int(x.mean())))"
   ]
  },
  {
   "cell_type": "code",
   "execution_count": null,
   "id": "d1b5672b",
   "metadata": {},
   "outputs": [],
   "source": [
    "unemp_data['race_noanswer'] = unemp_data['race_noanswer'].fillna(0)\n",
    "unemp_data['gender_na'] = unemp_data['gender_na'].fillna(0)\n",
    "unemp_data['edu_unknown'] = unemp_data['edu_unknown'].fillna(0)"
   ]
  },
  {
   "cell_type": "code",
   "execution_count": null,
   "id": "aab296c9",
   "metadata": {},
   "outputs": [],
   "source": [
    "unemp_data['top_category_employer2'] = unemp_data.groupby('countyfips')['top_category_employer2'].transform(lambda x: x.fillna(x.mode()[0] if not x.mode().empty else 'unknown'))\n",
    "unemp_data['top_category_employer3'] = unemp_data.groupby('countyfips')['top_category_employer3'].transform(lambda x: x.fillna(x.mode()[0] if not x.mode().empty else 'unknown'))"
   ]
  },
  {
   "cell_type": "code",
   "execution_count": null,
   "id": "6b07fb8c",
   "metadata": {},
   "outputs": [],
   "source": [
    "unemp_data['gender_male'] = unemp_data['gender_male'].astype(float)\n",
    "unemp_data['gender_female'] = unemp_data['gender_female'].astype(float)\n",
    "unemp_data['edu_post_hs'] = unemp_data['edu_post_hs'].astype(float)"
   ]
  },
  {
   "cell_type": "code",
   "execution_count": null,
   "id": "ad184bdc",
   "metadata": {},
   "outputs": [],
   "source": [
    "unemp_data['gender_male'] = unemp_data['gender_male'].fillna(unemp_data.groupby('countyfips')['gender_male'].transform('mean'))\n",
    "unemp_data['gender_female'] = unemp_data['gender_female'].fillna(unemp_data.groupby('countyfips')['gender_female'].transform('mean'))\n",
    "unemp_data['edu_post_hs'] = unemp_data['edu_post_hs'].fillna(unemp_data.groupby('countyfips')['edu_post_hs'].transform('mean'))"
   ]
  },
  {
   "cell_type": "code",
   "execution_count": null,
   "id": "d0acf25d",
   "metadata": {},
   "outputs": [],
   "source": [
    "unemp_data.isna().sum()"
   ]
  },
  {
   "cell_type": "code",
   "execution_count": null,
   "id": "65cde037",
   "metadata": {},
   "outputs": [],
   "source": [
    "unemp_data[unemp_data.gender_male.isnull()]"
   ]
  },
  {
   "cell_type": "code",
   "execution_count": null,
   "id": "03943de1",
   "metadata": {},
   "outputs": [],
   "source": [
    "unemp_data['gender_male'] = unemp_data['gender_male'].fillna(unemp_data.groupby('countyfips')['gender_male'].transform('mean'))\n",
    "unemp_data['gender_female'] = unemp_data['gender_female'].fillna(unemp_data.groupby('countyfips')['gender_female'].transform('mean'))\n",
    "unemp_data['edu_post_hs'] = unemp_data['edu_post_hs'].fillna(unemp_data.groupby('countyfips')['edu_post_hs'].transform('mean'))"
   ]
  },
  {
   "cell_type": "code",
   "execution_count": null,
   "id": "ba0c3613",
   "metadata": {},
   "outputs": [],
   "source": [
    "unemp_data.isna().sum()"
   ]
  },
  {
   "cell_type": "code",
   "execution_count": null,
   "id": "542dc7d4",
   "metadata": {},
   "outputs": [],
   "source": [
    "unemp_data['gender_male'] = unemp_data.groupby('countyfips')['gender_male'].transform(lambda x: x.fillna(x.mean()))\n",
    "unemp_data['gender_female'] = unemp_data.groupby('countyfips')['gender_female'].transform(lambda x: x.fillna(x.mean()))\n",
    "unemp_data['edu_post_hs'] = unemp_data.groupby('countyfips')['edu_post_hs'].transform(lambda x: x.fillna(x.mean()))"
   ]
  },
  {
   "cell_type": "code",
   "execution_count": null,
   "id": "0310dac1",
   "metadata": {},
   "outputs": [],
   "source": [
    "unemp_data.isna().sum()"
   ]
  },
  {
   "cell_type": "code",
   "execution_count": null,
   "id": "ec4f41eb",
   "metadata": {},
   "outputs": [],
   "source": [
    "unemp_data.isnull()"
   ]
  },
  {
   "cell_type": "code",
   "execution_count": null,
   "id": "d6b7ceab",
   "metadata": {},
   "outputs": [],
   "source": [
    "unemp_data[unemp_data['gender_male'].isnull()]"
   ]
  },
  {
   "cell_type": "code",
   "execution_count": null,
   "id": "e69862af",
   "metadata": {},
   "outputs": [],
   "source": [
    "unemp_data['gender_male'] = unemp_data['gender_male'].fillna(0)\n",
    "unemp_data['gender_female'] = unemp_data['gender_female'].fillna(0)\n",
    "unemp_data['edu_post_hs'] = unemp_data['edu_post_hs'].fillna(0)"
   ]
  },
  {
   "cell_type": "code",
   "execution_count": null,
   "id": "0c70e14f",
   "metadata": {},
   "outputs": [],
   "source": [
    "unemp_data.isna().sum()"
   ]
  },
  {
   "cell_type": "code",
   "execution_count": null,
   "id": "b400b261",
   "metadata": {},
   "outputs": [],
   "source": [
    "unemp_data.isna().sum()"
   ]
  },
  {
   "cell_type": "code",
   "execution_count": null,
   "id": "b6454ca4",
   "metadata": {},
   "outputs": [],
   "source": [
    "wage_data.info()"
   ]
  },
  {
   "cell_type": "code",
   "execution_count": null,
   "id": "776872f9",
   "metadata": {},
   "outputs": [],
   "source": [
    "wage_data.describe()"
   ]
  },
  {
   "cell_type": "code",
   "execution_count": null,
   "id": "ba091182",
   "metadata": {},
   "outputs": [],
   "source": [
    "wage_data['average_wage'] = wage_data['average_wage'].fillna(wage_data.groupby('countyfips')['average_wage'].transform('mean'))"
   ]
  },
  {
   "cell_type": "code",
   "execution_count": null,
   "id": "f3e43e95",
   "metadata": {},
   "outputs": [],
   "source": [
    "wage_data.info()"
   ]
  },
  {
   "cell_type": "code",
   "execution_count": null,
   "id": "e1c05547",
   "metadata": {},
   "outputs": [],
   "source": [
    "query = \"\"\"\n",
    "SELECT *\n",
    "FROM `ironhacks-data.ironhacks_competition.wage_data`\n",
    "\"\"\"\n",
    "# QUERY THE DATA ONCE\n",
    "query_job = bigquery_client.query(query)\n",
    "wage_data = query_job.to_dataframe()\n",
    "wage_data.head()"
   ]
  },
  {
   "cell_type": "code",
   "execution_count": null,
   "id": "6f55d513",
   "metadata": {},
   "outputs": [],
   "source": [
    "wage_data.info()"
   ]
  },
  {
   "cell_type": "code",
   "execution_count": null,
   "id": "14973947",
   "metadata": {},
   "outputs": [],
   "source": [
    "wage_data['average_wage'] = wage_data['average_wage'].fillna(wage_data.groupby('countyfips')['average_wage'].transform('mean'))"
   ]
  },
  {
   "cell_type": "code",
   "execution_count": null,
   "id": "14acb794",
   "metadata": {},
   "outputs": [],
   "source": [
    "final_data = unemp_data.merge(wage_data,how='left', on = 'uu_id)\n",
    "final_data"
   ]
  },
  {
   "cell_type": "code",
   "execution_count": null,
   "id": "0fa37c54",
   "metadata": {},
   "outputs": [],
   "source": [
    "final_data = unemp_data.merge(wage_data,how='left', on = 'uu_id')\n",
    "final_data"
   ]
  },
  {
   "cell_type": "code",
   "execution_count": null,
   "id": "c2c2bf8f",
   "metadata": {},
   "outputs": [],
   "source": [
    "final_data = unemp_data.merge(wage_data,how='left', on = 'uu_id')"
   ]
  },
  {
   "cell_type": "code",
   "execution_count": null,
   "id": "98422e94",
   "metadata": {},
   "outputs": [],
   "source": [
    "final_data1 = final_data.drop(['timeperiod','tract','tract_name'],axis=1)"
   ]
  },
  {
   "cell_type": "code",
   "execution_count": null,
   "id": "77c8f6a5",
   "metadata": {},
   "outputs": [],
   "source": [
    "final_data.info()"
   ]
  },
  {
   "cell_type": "code",
   "execution_count": null,
   "id": "a16f1e2a",
   "metadata": {},
   "outputs": [],
   "source": [
    "final_data1 = final_data.drop(['timeperiod','tract_x','tract_name_x','tract_y','tract_name_y','countyfips_y'],axis=1)"
   ]
  },
  {
   "cell_type": "markdown",
   "id": "c16f3f8f",
   "metadata": {},
   "source": [
    "#Modelling"
   ]
  },
  {
   "cell_type": "code",
   "execution_count": null,
   "id": "6fa790fa",
   "metadata": {},
   "outputs": [],
   "source": [
    "final_data1 = final_data.drop(['timeperiod','tract_x','tract_name_x','tract_y','tract_name_y','countyfips_y','uu_id'],axis=1)"
   ]
  },
  {
   "cell_type": "code",
   "execution_count": null,
   "id": "3267ac38",
   "metadata": {},
   "outputs": [],
   "source": [
    "fin = pd.get_dummies(final_data1,columns = ['week_number','countyfips_x','top_category_employer1','top_category_employer2','top_category_employer3'])"
   ]
  },
  {
   "cell_type": "code",
   "execution_count": null,
   "id": "7ccdfcad",
   "metadata": {},
   "outputs": [],
   "source": [
    "fin.shape()"
   ]
  },
  {
   "cell_type": "code",
   "execution_count": null,
   "id": "16faccad",
   "metadata": {},
   "outputs": [],
   "source": [
    "fin.shape"
   ]
  },
  {
   "cell_type": "code",
   "execution_count": null,
   "id": "a457f743",
   "metadata": {},
   "outputs": [],
   "source": [
    "X = fin.drop(['total_claims'],axis=1)\n",
    "Y = fin['total_claims']"
   ]
  },
  {
   "cell_type": "code",
   "execution_count": null,
   "id": "c3c9cea3",
   "metadata": {},
   "outputs": [],
   "source": [
    "from sklearn.decomposition import PCA\n",
    "pca = PCA(n_components=50)\n",
    "principalComponents = pca.fit_transform(X)"
   ]
  },
  {
   "cell_type": "code",
   "execution_count": null,
   "id": "5ae532bc",
   "metadata": {},
   "outputs": [],
   "source": [
    "principalComponents"
   ]
  },
  {
   "cell_type": "code",
   "execution_count": null,
   "id": "e105f2d9",
   "metadata": {},
   "outputs": [],
   "source": [
    "df_X = pd.DataFrame(principalComponents)"
   ]
  },
  {
   "cell_type": "code",
   "execution_count": null,
   "id": "18455bdd",
   "metadata": {},
   "outputs": [],
   "source": [
    "from sklearn.model_selection import train_test_split\n",
    "from sklearn.linear_model import LinearRegression\n",
    "from sklearn.feature_selection import RFE\n",
    "X_train, X_test,Y_train, Y_test = train_test_split(X,Y,test_size = 0.2, random_state=28)"
   ]
  },
  {
   "cell_type": "code",
   "execution_count": null,
   "id": "7d09b96a",
   "metadata": {},
   "outputs": [],
   "source": [
    "lm = LinearRegression().fit(X_train,Y_train)\n",
    "prediction = model.predict(X_test)"
   ]
  },
  {
   "cell_type": "code",
   "execution_count": null,
   "id": "c87249d2",
   "metadata": {},
   "outputs": [],
   "source": [
    "lm = LinearRegression().fit(X_train,Y_train)\n",
    "prediction = lm.predict(X_test)"
   ]
  },
  {
   "cell_type": "code",
   "execution_count": null,
   "id": "149f3acd",
   "metadata": {},
   "outputs": [],
   "source": [
    "lm.score(X_test, Y_test)"
   ]
  },
  {
   "cell_type": "code",
   "execution_count": null,
   "id": "4d1c2435",
   "metadata": {},
   "outputs": [],
   "source": [
    "from sklearn.model_selection import train_test_split\n",
    "from sklearn.linear_model import LinearRegression\n",
    "X_train, X_test,Y_train, Y_test = train_test_split(df_X,Y,test_size = 0.2, random_state=28)"
   ]
  },
  {
   "cell_type": "code",
   "execution_count": null,
   "id": "5efa34c8",
   "metadata": {},
   "outputs": [],
   "source": [
    "lm = LinearRegression().fit(X_train,Y_train)\n",
    "prediction = lm.predict(X_test)"
   ]
  },
  {
   "cell_type": "code",
   "execution_count": null,
   "id": "bbfc8b23",
   "metadata": {},
   "outputs": [],
   "source": [
    "lm.score(X_test, Y_test)"
   ]
  },
  {
   "cell_type": "code",
   "execution_count": null,
   "id": "80c1cc83",
   "metadata": {},
   "outputs": [],
   "source": [
    "from sklearn.decomposition import PCA\n",
    "pca = PCA(n_components=10)\n",
    "principalComponents = pca.fit_transform(X)"
   ]
  },
  {
   "cell_type": "code",
   "execution_count": null,
   "id": "d5668a48",
   "metadata": {},
   "outputs": [],
   "source": [
    "df_X = pd.DataFrame(principalComponents)"
   ]
  },
  {
   "cell_type": "code",
   "execution_count": null,
   "id": "06a0557a",
   "metadata": {},
   "outputs": [],
   "source": [
    "from sklearn.model_selection import train_test_split\n",
    "from sklearn.linear_model import LinearRegression\n",
    "X_train, X_test,Y_train, Y_test = train_test_split(df_X,Y,test_size = 0.2, random_state=28)"
   ]
  },
  {
   "cell_type": "code",
   "execution_count": null,
   "id": "344fda5d",
   "metadata": {},
   "outputs": [],
   "source": [
    "lm = LinearRegression().fit(X_train,Y_train)\n",
    "prediction = lm.predict(X_test)"
   ]
  },
  {
   "cell_type": "code",
   "execution_count": null,
   "id": "6fe3a169",
   "metadata": {},
   "outputs": [],
   "source": [
    "lm.score(X_test, Y_test)"
   ]
  },
  {
   "cell_type": "code",
   "execution_count": null,
   "id": "684846cf",
   "metadata": {},
   "outputs": [],
   "source": [
    "lm = LinearRegression().fit(X_train,Y_train)\n",
    "prediction = lm.predict(X_test)"
   ]
  },
  {
   "cell_type": "code",
   "execution_count": null,
   "id": "d8a62970",
   "metadata": {},
   "outputs": [],
   "source": [
    "lm = LinearRegression().fit(X_train,Y_train)\n",
    "prediction = lm.predict(X_test)"
   ]
  },
  {
   "cell_type": "code",
   "execution_count": null,
   "id": "b6c48c56",
   "metadata": {},
   "outputs": [],
   "source": [
    "lm.score(X_test, Y_test)"
   ]
  },
  {
   "cell_type": "code",
   "execution_count": null,
   "id": "57b57516",
   "metadata": {},
   "outputs": [],
   "source": [
    "from sklearn.model_selection import train_test_split\n",
    "from sklearn.linear_model import LinearRegression\n",
    "X_train, X_test,Y_train, Y_test = train_test_split(X,Y,test_size = 0.2, random_state=28)"
   ]
  },
  {
   "cell_type": "code",
   "execution_count": null,
   "id": "cef3829f",
   "metadata": {},
   "outputs": [],
   "source": [
    "lm = LinearRegression().fit(X_train,Y_train)\n",
    "prediction = lm.predict(X_test)"
   ]
  },
  {
   "cell_type": "code",
   "execution_count": null,
   "id": "597198a6",
   "metadata": {},
   "outputs": [],
   "source": [
    "lm.score(X_test, Y_test)"
   ]
  },
  {
   "cell_type": "code",
   "execution_count": null,
   "id": "ce9af952",
   "metadata": {},
   "outputs": [],
   "source": [
    "mean_squared_error(Y_train, prediction)"
   ]
  },
  {
   "cell_type": "code",
   "execution_count": null,
   "id": "e51cf55c",
   "metadata": {},
   "outputs": [],
   "source": [
    "lm.mean_squared_error(Y_train, prediction)"
   ]
  },
  {
   "cell_type": "code",
   "execution_count": null,
   "id": "364bdb8e",
   "metadata": {},
   "outputs": [],
   "source": [
    "model = XGBRegressor(n_estimators=500, max_depth=4,eta=0.1).fit(X_train,Y_train)\n",
    "y_pred = model.predict(X_test)"
   ]
  },
  {
   "cell_type": "code",
   "execution_count": null,
   "id": "6cc264eb",
   "metadata": {},
   "outputs": [],
   "source": [
    "import xgboost as xgb"
   ]
  },
  {
   "cell_type": "code",
   "execution_count": null,
   "id": "c8fa0460",
   "metadata": {},
   "outputs": [],
   "source": [
    "import xgboost as xgb"
   ]
  },
  {
   "cell_type": "code",
   "execution_count": null,
   "id": "1e59e37e",
   "metadata": {},
   "outputs": [],
   "source": [
    "get_ipython().system('pip install xgboost')"
   ]
  },
  {
   "cell_type": "code",
   "execution_count": null,
   "id": "a5921458",
   "metadata": {},
   "outputs": [],
   "source": [
    "import xgboost as xgb"
   ]
  },
  {
   "cell_type": "code",
   "execution_count": null,
   "id": "0f34c2a9",
   "metadata": {},
   "outputs": [],
   "source": [
    "model = XGBRegressor(n_estimators=500, max_depth=4,eta=0.1).fit(X_train,Y_train)\n",
    "y_pred = model.predict(X_test)"
   ]
  },
  {
   "cell_type": "code",
   "execution_count": null,
   "id": "7130a443",
   "metadata": {},
   "outputs": [],
   "source": [
    "model = xgb.XGBRegressor(n_estimators=500, max_depth=4,eta=0.1).fit(X_train,Y_train)\n",
    "y_pred = model.predict(X_test)"
   ]
  },
  {
   "cell_type": "code",
   "execution_count": null,
   "id": "d8c8dc88",
   "metadata": {},
   "outputs": [],
   "source": [
    "model.score(X_test, Y_test)"
   ]
  },
  {
   "cell_type": "code",
   "execution_count": null,
   "id": "989cc519",
   "metadata": {},
   "outputs": [],
   "source": [
    "import xgboost as xgb\n",
    "model = xgb.XGBRegressor(n_estimators=500, max_depth=4,eta=0.1).fit(X_train,Y_train)\n",
    "y_pred = model.predict(X_test)"
   ]
  },
  {
   "cell_type": "code",
   "execution_count": null,
   "id": "2d504013",
   "metadata": {},
   "outputs": [],
   "source": [
    "model.score(X_test, Y_test)"
   ]
  },
  {
   "cell_type": "code",
   "execution_count": null,
   "id": "209e0fde",
   "metadata": {},
   "outputs": [],
   "source": [
    "import xgboost as xgb\n",
    "model = xgb.XGBRegressor(n_estimators=400, max_depth=4,eta=0.1).fit(X_train,Y_train)\n",
    "y_pred = model.predict(X_test)"
   ]
  },
  {
   "cell_type": "code",
   "execution_count": null,
   "id": "087a4f14",
   "metadata": {},
   "outputs": [],
   "source": [
    "model.score(X_test, Y_test)"
   ]
  },
  {
   "cell_type": "code",
   "execution_count": null,
   "id": "891e624d",
   "metadata": {},
   "outputs": [],
   "source": [
    "import xgboost as xgb\n",
    "model = xgb.XGBRegressor(n_estimators=600, max_depth=4,eta=0.1).fit(X_train,Y_train)\n",
    "y_pred = model.predict(X_test)"
   ]
  },
  {
   "cell_type": "code",
   "execution_count": null,
   "id": "46f87f45",
   "metadata": {},
   "outputs": [],
   "source": [
    "model.score(X_test, Y_test)"
   ]
  },
  {
   "cell_type": "code",
   "execution_count": null,
   "id": "82c1e1d6",
   "metadata": {},
   "outputs": [],
   "source": [
    "from sklearn.model_selection import train_test_split\n",
    "from sklearn.linear_model import LinearRegression\n",
    "X_train, X_test,Y_train, Y_test = train_test_split(X,Y,test_size = 0.2, random_state=28)"
   ]
  },
  {
   "cell_type": "code",
   "execution_count": null,
   "id": "cc95e9f8",
   "metadata": {},
   "outputs": [],
   "source": [
    "import xgboost as xgb\n",
    "model = xgb.XGBRegressor(n_estimators=600, max_depth=4,eta=0.1).fit(X_train,Y_train)\n",
    "y_pred = model.predict(X_test)"
   ]
  },
  {
   "cell_type": "code",
   "execution_count": null,
   "id": "e97569b2",
   "metadata": {},
   "outputs": [],
   "source": [
    "model.score(X_test, Y_test)"
   ]
  },
  {
   "cell_type": "code",
   "execution_count": null,
   "id": "1eebee87",
   "metadata": {},
   "outputs": [],
   "source": [
    "from sklearn.model_selection import train_test_split\n",
    "from sklearn.linear_model import LinearRegression\n",
    "X_train, X_test,Y_train, Y_test = train_test_split(X,Y,test_size = 0.2, random_state=32)"
   ]
  },
  {
   "cell_type": "code",
   "execution_count": null,
   "id": "a92e968b",
   "metadata": {},
   "outputs": [],
   "source": [
    "import xgboost as xgb\n",
    "model = xgb.XGBRegressor(n_estimators=600, max_depth=4,eta=0.1).fit(X_train,Y_train)\n",
    "y_pred = model.predict(X_test)"
   ]
  },
  {
   "cell_type": "code",
   "execution_count": null,
   "id": "6699ed34",
   "metadata": {},
   "outputs": [],
   "source": [
    "model.score(X_test, Y_test)"
   ]
  },
  {
   "cell_type": "code",
   "execution_count": null,
   "id": "f9f3fded",
   "metadata": {},
   "outputs": [],
   "source": [
    "import xgboost as xgb\n",
    "model = xgb.XGBRegressor(n_estimators=500, max_depth=4,eta=0.1).fit(X_train,Y_train)\n",
    "y_pred = model.predict(X_test)"
   ]
  },
  {
   "cell_type": "code",
   "execution_count": null,
   "id": "f129f890",
   "metadata": {},
   "outputs": [],
   "source": [
    "model.score(X_test, Y_test)"
   ]
  },
  {
   "cell_type": "code",
   "execution_count": null,
   "id": "60d8fe82",
   "metadata": {},
   "outputs": [],
   "source": [
    "get_ipython().run_cell_magic('capture', '', \"%logstop\\n%logstart -t -r -q ipython_command_log.py global\\n\\n#- IRONHACKS RESEARCH TRACKING CODE\\n#----------------------------------\\n# The following code is used to help our research team understand how you \\n# our notebook environment. We do not collect any personal information with\\n# the following code, it is used to measure when and how often you work on\\n# your submission files.\\n\\nimport os\\nfrom datetime import datetime\\nimport IPython.core.history as history\\n\\nha = history.HistoryAccessor()\\nha_tail = ha.get_tail(1)\\nha_cmd = next(ha_tail)\\nsession_id = str(ha_cmd[0])\\ncommand_id = str(ha_cmd[1])\\ntimestamp = datetime.utcnow().isoformat()\\nhistory_line = ','.join([session_id, command_id, timestamp]) + '\\\\n'\\nlogfile = open(os.environ['HOME']+'/ipython_session_log.csv', 'a')\\nlogfile.write(history_line)\\nlogfile.close()\\n\")"
   ]
  },
  {
   "cell_type": "code",
   "execution_count": null,
   "id": "312e5c66",
   "metadata": {},
   "outputs": [],
   "source": [
    "ttt = model.fit(pred_data)"
   ]
  },
  {
   "cell_type": "code",
   "execution_count": null,
   "id": "dda94991",
   "metadata": {},
   "outputs": [],
   "source": [
    "pred = model.predict(pred_data)"
   ]
  },
  {
   "cell_type": "code",
   "execution_count": null,
   "id": "9c5ac733",
   "metadata": {},
   "outputs": [],
   "source": [
    "pred_data.info()"
   ]
  },
  {
   "cell_type": "code",
   "execution_count": null,
   "id": "a1c2dcab",
   "metadata": {},
   "outputs": [],
   "source": [
    "unemp_data.describe()"
   ]
  },
  {
   "cell_type": "code",
   "execution_count": null,
   "id": "53adfa05",
   "metadata": {},
   "outputs": [],
   "source": [
    "tt = pred_data.merge(fin,how = 'left',on= 'uu_id')\n",
    "tt                     "
   ]
  },
  {
   "cell_type": "code",
   "execution_count": null,
   "id": "d560f888",
   "metadata": {},
   "outputs": [],
   "source": [
    "tt = pred_data.merge(fin,how = 'left', final_data= 'uu_id')\n",
    "tt                     "
   ]
  },
  {
   "cell_type": "code",
   "execution_count": null,
   "id": "6d3c1c76",
   "metadata": {},
   "outputs": [],
   "source": [
    "tt = pred_data.merge(final_data,how = 'left', on= 'uu_id')\n",
    "tt                     "
   ]
  },
  {
   "cell_type": "code",
   "execution_count": null,
   "id": "a13358c4",
   "metadata": {},
   "outputs": [],
   "source": [
    "final_data1 = final_data.drop(['timeperiod','tract_x','tract_name_x','tract_y','tract_name_y','countyfips_y'],axis=1)"
   ]
  },
  {
   "cell_type": "code",
   "execution_count": null,
   "id": "e8619c79",
   "metadata": {},
   "outputs": [],
   "source": [
    "fin = final_data1.set_index('uu_id')"
   ]
  },
  {
   "cell_type": "code",
   "execution_count": null,
   "id": "2b0aa6e2",
   "metadata": {},
   "outputs": [],
   "source": [
    "fin = pd.get_dummies(final_data1,columns = ['week_number','countyfips_x','top_category_employer1','top_category_employer2','top_category_employer3'])"
   ]
  },
  {
   "cell_type": "code",
   "execution_count": null,
   "id": "0533514b",
   "metadata": {},
   "outputs": [],
   "source": [
    "fin.shape"
   ]
  },
  {
   "cell_type": "code",
   "execution_count": null,
   "id": "40a63b72",
   "metadata": {},
   "outputs": [],
   "source": [
    "X = fin.drop(['total_claims'],axis=1)\n",
    "Y = fin['total_claims']"
   ]
  },
  {
   "cell_type": "code",
   "execution_count": null,
   "id": "e1bc3453",
   "metadata": {},
   "outputs": [],
   "source": [
    "from sklearn.model_selection import train_test_split\n",
    "from sklearn.linear_model import LinearRegression\n",
    "X_train, X_test,Y_train, Y_test = train_test_split(X,Y,test_size = 0.2, random_state=32)"
   ]
  },
  {
   "cell_type": "code",
   "execution_count": null,
   "id": "e543e8ff",
   "metadata": {},
   "outputs": [],
   "source": [
    "import xgboost as xgb\n",
    "model = xgb.XGBRegressor(n_estimators=500, max_depth=4,eta=0.1).fit(X_train,Y_train)\n",
    "y_pred = model.predict(X_test)"
   ]
  },
  {
   "cell_type": "code",
   "execution_count": null,
   "id": "bc10f7a3",
   "metadata": {},
   "outputs": [],
   "source": [
    "final_data1 = final_data.drop(['timeperiod','tract_x','tract_name_x','tract_y','tract_name_y','countyfips_y'],axis=1)"
   ]
  },
  {
   "cell_type": "code",
   "execution_count": null,
   "id": "0179ac2f",
   "metadata": {},
   "outputs": [],
   "source": [
    "fin = pd.get_dummies(final_data1,columns = ['week_number','countyfips_x','top_category_employer1','top_category_employer2','top_category_employer3'])"
   ]
  },
  {
   "cell_type": "code",
   "execution_count": null,
   "id": "ab9e713e",
   "metadata": {},
   "outputs": [],
   "source": [
    "X = fin.drop(['total_claims'],axis=1)\n",
    "Y = fin['total_claims']"
   ]
  },
  {
   "cell_type": "code",
   "execution_count": null,
   "id": "13a36120",
   "metadata": {},
   "outputs": [],
   "source": [
    "from sklearn.model_selection import train_test_split\n",
    "from sklearn.linear_model import LinearRegression\n",
    "X_train, X_test,Y_train, Y_test = train_test_split(X,Y,test_size = 0.2, random_state=32)"
   ]
  },
  {
   "cell_type": "code",
   "execution_count": null,
   "id": "b4c67dab",
   "metadata": {},
   "outputs": [],
   "source": [
    "X_train_data = X_train.drop(['uu_id'],axis=1)\n",
    "X_test_data = X_test.drop(['uu_id'],axis=1)"
   ]
  },
  {
   "cell_type": "code",
   "execution_count": null,
   "id": "f105d930",
   "metadata": {},
   "outputs": [],
   "source": [
    "lm = LinearRegression().fit(X_train_data,Y_train)\n",
    "prediction = lm.predict(X_test_data)"
   ]
  },
  {
   "cell_type": "code",
   "execution_count": null,
   "id": "1575ab00",
   "metadata": {},
   "outputs": [],
   "source": [
    "lm.score(X_test_data, Y_test)"
   ]
  },
  {
   "cell_type": "code",
   "execution_count": null,
   "id": "bdcada18",
   "metadata": {},
   "outputs": [],
   "source": [
    "fin = fin.set_index('uu_id')\n",
    "X_train, X_test, y_train, y_test = test_train_split(fin.ix[:, ~fin.columns.isin(['total_claims'])], fin.total_claims)"
   ]
  },
  {
   "cell_type": "code",
   "execution_count": null,
   "id": "804de317",
   "metadata": {},
   "outputs": [],
   "source": [
    "fin = fin.set_index('uu_id')\n",
    "X_train, X_test, y_train, y_test = train_test_split(fin.ix[:, ~fin.columns.isin(['total_claims'])], fin.total_claims)"
   ]
  },
  {
   "cell_type": "code",
   "execution_count": null,
   "id": "94c4f634",
   "metadata": {},
   "outputs": [],
   "source": [
    "final_data1 = final_data.drop(['timeperiod','tract_x','tract_name_x','tract_y','tract_name_y','countyfips_y'],axis=1)"
   ]
  },
  {
   "cell_type": "code",
   "execution_count": null,
   "id": "4e0263af",
   "metadata": {},
   "outputs": [],
   "source": [
    "fin = pd.get_dummies(final_data1,columns = ['week_number','countyfips_x','top_category_employer1','top_category_employer2','top_category_employer3'])"
   ]
  },
  {
   "cell_type": "code",
   "execution_count": null,
   "id": "80a357bc",
   "metadata": {},
   "outputs": [],
   "source": [
    "fin = fin.set_index('uu_id')\n",
    "X_train, X_test, y_train, y_test = train_test_split(fin.ix[:, ~fin.columns.isin(['total_claims'])], fin.total_claims)"
   ]
  },
  {
   "cell_type": "code",
   "execution_count": null,
   "id": "925012bd",
   "metadata": {},
   "outputs": [],
   "source": [
    "fin = fin.set_index('uu_id')\n",
    "X = fin.drop(['total_claims'],axis=1)\n",
    "Y=fin['total_claims']\n",
    "#X_train, X_test, y_train, y_test = train_test_split(fin.ix[:, ~fin.columns.isin(['total_claims'])], fin.total_claims)"
   ]
  },
  {
   "cell_type": "code",
   "execution_count": null,
   "id": "642598a8",
   "metadata": {},
   "outputs": [],
   "source": [
    "fin = pd.get_dummies(final_data1,columns = ['week_number','countyfips_x','top_category_employer1','top_category_employer2','top_category_employer3'])"
   ]
  },
  {
   "cell_type": "code",
   "execution_count": null,
   "id": "d5f88b3d",
   "metadata": {},
   "outputs": [],
   "source": [
    "fin = fin.set_index('uu_id')\n",
    "X = fin.drop(['total_claims'],axis=1)\n",
    "Y=fin['total_claims']\n",
    "#X_train, X_test, y_train, y_test = train_test_split(fin.ix[:, ~fin.columns.isin(['total_claims'])], fin.total_claims)"
   ]
  },
  {
   "cell_type": "code",
   "execution_count": null,
   "id": "c4071d22",
   "metadata": {},
   "outputs": [],
   "source": [
    "from sklearn.model_selection import train_test_split\n",
    "from sklearn.linear_model import LinearRegression\n",
    "X_train, X_test,Y_train, Y_test = train_test_split(X,Y,test_size = 0.2, random_state=32)"
   ]
  },
  {
   "cell_type": "code",
   "execution_count": null,
   "id": "f3055ba5",
   "metadata": {},
   "outputs": [],
   "source": [
    "lm = LinearRegression().fit(X_train_data,Y_train)\n",
    "prediction = lm.predict(X_test_data)"
   ]
  },
  {
   "cell_type": "code",
   "execution_count": null,
   "id": "42801087",
   "metadata": {},
   "outputs": [],
   "source": [
    "lm.score(X_test_data, Y_test)"
   ]
  },
  {
   "cell_type": "code",
   "execution_count": null,
   "id": "d4f43509",
   "metadata": {},
   "outputs": [],
   "source": [
    "lm = LinearRegression().fit(X_train,Y_train)\n",
    "prediction = lm.predict(X_test)"
   ]
  },
  {
   "cell_type": "code",
   "execution_count": null,
   "id": "2c84ecbc",
   "metadata": {},
   "outputs": [],
   "source": [
    "lm.score(X_test, Y_test)"
   ]
  },
  {
   "cell_type": "code",
   "execution_count": null,
   "id": "0a0c29ad",
   "metadata": {},
   "outputs": [],
   "source": [
    "final_data1 = final_data.drop(['timeperiod','tract_x','tract_name_x','tract_y','tract_name_y','countyfips_y'],axis=1)"
   ]
  },
  {
   "cell_type": "code",
   "execution_count": null,
   "id": "735607af",
   "metadata": {},
   "outputs": [],
   "source": [
    "fin = pd.get_dummies(final_data1,columns = ['week_number','countyfips_x','top_category_employer1','top_category_employer2','top_category_employer3'])"
   ]
  },
  {
   "cell_type": "code",
   "execution_count": null,
   "id": "c292252d",
   "metadata": {},
   "outputs": [],
   "source": [
    "fin = fin.set_index('uu_id')\n",
    "X = fin.drop(['total_claims'],axis=1)\n",
    "Y=fin['total_claims']\n",
    "#X_train, X_test, y_train, y_test = train_test_split(fin.ix[:, ~fin.columns.isin(['total_claims'])], fin.total_claims)"
   ]
  },
  {
   "cell_type": "code",
   "execution_count": null,
   "id": "81257e3a",
   "metadata": {},
   "outputs": [],
   "source": [
    "from sklearn.model_selection import train_test_split\n",
    "from sklearn.linear_model import LinearRegression\n",
    "X_train, X_test,Y_train, Y_test = train_test_split(X,Y,test_size = 0.2, random_state=32)"
   ]
  },
  {
   "cell_type": "code",
   "execution_count": null,
   "id": "637ccfd5",
   "metadata": {},
   "outputs": [],
   "source": [
    "lm = LinearRegression().fit(X_train,Y_train)\n",
    "prediction = lm.predict(X_test)"
   ]
  },
  {
   "cell_type": "code",
   "execution_count": null,
   "id": "239a708d",
   "metadata": {},
   "outputs": [],
   "source": [
    "lm.score(X_test, Y_test)"
   ]
  },
  {
   "cell_type": "code",
   "execution_count": null,
   "id": "58db3eb5",
   "metadata": {},
   "outputs": [],
   "source": [
    "final_data1 = final_data.drop(['timeperiod','tract_x','tract_name_x','tract_y','tract_name_y','countyfips_y'],axis=1)"
   ]
  },
  {
   "cell_type": "code",
   "execution_count": null,
   "id": "a029c2af",
   "metadata": {},
   "outputs": [],
   "source": [
    "fin = pd.get_dummies(final_data1,columns = ['week_number','countyfips_x','top_category_employer1','top_category_employer2','top_category_employer3'])"
   ]
  },
  {
   "cell_type": "code",
   "execution_count": null,
   "id": "3c5c943e",
   "metadata": {},
   "outputs": [],
   "source": [
    "X = fin.drop(['uu_id','total_claims'],axis=1)\n",
    "Y=fin['total_claims']"
   ]
  },
  {
   "cell_type": "code",
   "execution_count": null,
   "id": "1573b204",
   "metadata": {},
   "outputs": [],
   "source": [
    "from sklearn.model_selection import train_test_split\n",
    "from sklearn.linear_model import LinearRegression\n",
    "X_train, X_test,Y_train, Y_test = train_test_split(X,Y,test_size = 0.2, random_state=32)"
   ]
  },
  {
   "cell_type": "code",
   "execution_count": null,
   "id": "6f1dc6bd",
   "metadata": {},
   "outputs": [],
   "source": [
    "lm = LinearRegression().fit(X_train,Y_train)\n",
    "prediction = lm.predict(X_test)"
   ]
  },
  {
   "cell_type": "code",
   "execution_count": null,
   "id": "881f07d7",
   "metadata": {},
   "outputs": [],
   "source": [
    "lm.score(X_test, Y_test)"
   ]
  },
  {
   "cell_type": "code",
   "execution_count": null,
   "id": "ba495e31",
   "metadata": {},
   "outputs": [],
   "source": [
    "final_data = unemp_data.merge(wage_data,how='left', on = 'uu_id')"
   ]
  },
  {
   "cell_type": "code",
   "execution_count": null,
   "id": "e3d4140e",
   "metadata": {},
   "outputs": [],
   "source": [
    "final_data.info()"
   ]
  },
  {
   "cell_type": "code",
   "execution_count": null,
   "id": "de10ccce",
   "metadata": {},
   "outputs": [],
   "source": [
    "final_data1 = final_data.drop(['timeperiod','tract_x','tract_name_x','tract_y','tract_name_y','countyfips_y'],axis=1)"
   ]
  },
  {
   "cell_type": "code",
   "execution_count": null,
   "id": "dfa5d531",
   "metadata": {},
   "outputs": [],
   "source": [
    "fin = pd.get_dummies(final_data1,columns = ['week_number','countyfips_x','top_category_employer1','top_category_employer2','top_category_employer3'])"
   ]
  },
  {
   "cell_type": "code",
   "execution_count": null,
   "id": "6d298da4",
   "metadata": {},
   "outputs": [],
   "source": [
    "X = fin.drop(['uu_id','total_claims'],axis=1)\n",
    "Y=fin['total_claims']"
   ]
  },
  {
   "cell_type": "code",
   "execution_count": null,
   "id": "aab0b503",
   "metadata": {},
   "outputs": [],
   "source": [
    "X = fin.drop(['uu_id','total_claims'],axis=1)\n",
    "Y=fin[['total_claims']]"
   ]
  },
  {
   "cell_type": "code",
   "execution_count": null,
   "id": "141c72e8",
   "metadata": {},
   "outputs": [],
   "source": [
    "from sklearn.model_selection import train_test_split\n",
    "from sklearn.linear_model import LinearRegression\n",
    "X_train, X_test,Y_train, Y_test = train_test_split(X,Y,test_size = 0.2, random_state=32)"
   ]
  },
  {
   "cell_type": "code",
   "execution_count": null,
   "id": "94b85fff",
   "metadata": {},
   "outputs": [],
   "source": [
    "lm = LinearRegression().fit(X_train,Y_train)\n",
    "prediction = lm.predict(X_test)"
   ]
  },
  {
   "cell_type": "code",
   "execution_count": null,
   "id": "02cc7f91",
   "metadata": {},
   "outputs": [],
   "source": [
    "lm.score(X_test, Y_test)"
   ]
  },
  {
   "cell_type": "code",
   "execution_count": null,
   "id": "5a76144a",
   "metadata": {},
   "outputs": [],
   "source": [
    "X = fin.drop(['uu_id','total_claims'],axis=1)\n",
    "Y=fin['total_claims']"
   ]
  },
  {
   "cell_type": "code",
   "execution_count": null,
   "id": "0ef39e22",
   "metadata": {},
   "outputs": [],
   "source": [
    "from sklearn.model_selection import train_test_split\n",
    "from sklearn.linear_model import LinearRegression\n",
    "X_train, X_test,Y_train, Y_test = train_test_split(X,Y,test_size = 0.2, random_state=32)"
   ]
  },
  {
   "cell_type": "code",
   "execution_count": null,
   "id": "117b5460",
   "metadata": {},
   "outputs": [],
   "source": [
    "lm = LinearRegression().fit(X_train,Y_train)\n",
    "prediction = lm.predict(X_test)"
   ]
  },
  {
   "cell_type": "code",
   "execution_count": null,
   "id": "bb2bf86f",
   "metadata": {},
   "outputs": [],
   "source": [
    "lm.score(X_test, Y_test)"
   ]
  },
  {
   "cell_type": "code",
   "execution_count": null,
   "id": "d832a345",
   "metadata": {},
   "outputs": [],
   "source": [
    "import xgboost as xgb\n",
    "model = xgb.XGBRegressor(n_estimators=500, max_depth=4,eta=0.1).fit(X_train,Y_train)\n",
    "y_pred = model.predict(X_test)"
   ]
  },
  {
   "cell_type": "code",
   "execution_count": null,
   "id": "d3a2d339",
   "metadata": {},
   "outputs": [],
   "source": [
    "model.score(X_test, Y_test)"
   ]
  },
  {
   "cell_type": "code",
   "execution_count": null,
   "id": "b3508274",
   "metadata": {},
   "outputs": [],
   "source": [
    "df_pred_final = pred_data[['uu_id']]\n",
    "df_pred_final['week_number'] = pred_data[['week_number']]\n",
    "df_pred_final[\"total_claims\"] = y_pred"
   ]
  },
  {
   "cell_type": "code",
   "execution_count": null,
   "id": "b356e3fd",
   "metadata": {},
   "outputs": [],
   "source": [
    "Y_test_final = pred_data.merge(fin,how='left',on= 'uu_id')"
   ]
  },
  {
   "cell_type": "code",
   "execution_count": null,
   "id": "9115f32a",
   "metadata": {},
   "outputs": [],
   "source": [
    "Y_test_final"
   ]
  },
  {
   "cell_type": "code",
   "execution_count": null,
   "id": "934c36e2",
   "metadata": {},
   "outputs": [],
   "source": [
    "Y_test_final = pred_data.merge(fin,how='inner',on= 'uu_id')"
   ]
  },
  {
   "cell_type": "code",
   "execution_count": null,
   "id": "b0eaa59f",
   "metadata": {},
   "outputs": [],
   "source": [
    "Y_test_final"
   ]
  },
  {
   "cell_type": "code",
   "execution_count": null,
   "id": "3af18c78",
   "metadata": {},
   "outputs": [],
   "source": [
    "Y_test_final"
   ]
  },
  {
   "cell_type": "code",
   "execution_count": null,
   "id": "76f5f0d6",
   "metadata": {},
   "outputs": [],
   "source": [
    "Y_test_final = pred_data.merge(fin,how='right',on= 'uu_id')"
   ]
  },
  {
   "cell_type": "code",
   "execution_count": null,
   "id": "1c74b8c2",
   "metadata": {},
   "outputs": [],
   "source": [
    "Y_test_final"
   ]
  },
  {
   "cell_type": "code",
   "execution_count": null,
   "id": "4e7ea107",
   "metadata": {},
   "outputs": [],
   "source": [
    "Y_test_final = pred_data.merge(fin,how='left',on= 'uu_id')"
   ]
  },
  {
   "cell_type": "code",
   "execution_count": null,
   "id": "a2a16f02",
   "metadata": {},
   "outputs": [],
   "source": [
    "Y_test_final"
   ]
  },
  {
   "cell_type": "code",
   "execution_count": null,
   "id": "fa617580",
   "metadata": {},
   "outputs": [],
   "source": [
    "df_test = fin[fin.uu_id == i for i in pred_data['uu_id']]\n",
    "df_test"
   ]
  },
  {
   "cell_type": "code",
   "execution_count": null,
   "id": "d4a49852",
   "metadata": {},
   "outputs": [],
   "source": [
    "Y_test_final = pred_data.join(fin)"
   ]
  },
  {
   "cell_type": "code",
   "execution_count": null,
   "id": "0a770e10",
   "metadata": {},
   "outputs": [],
   "source": [
    "final_data1 = final_data.drop(['timeperiod','tract_x','tract_name_x','tract_y','tract_name_y','countyfips_y'],axis=1)"
   ]
  },
  {
   "cell_type": "code",
   "execution_count": null,
   "id": "cf0399fe",
   "metadata": {},
   "outputs": [],
   "source": [
    "fin = pd.get_dummies(final_data1,columns = ['week_number','countyfips_x','top_category_employer1','top_category_employer2','top_category_employer3'])"
   ]
  },
  {
   "cell_type": "code",
   "execution_count": null,
   "id": "344c1c29",
   "metadata": {},
   "outputs": [],
   "source": [
    "Y_test_final = pred_data.join(fin)"
   ]
  },
  {
   "cell_type": "code",
   "execution_count": null,
   "id": "132881c2",
   "metadata": {},
   "outputs": [],
   "source": [
    "Y_test_final = pred_data.merge(fin,how='left',on = 'uu_id')"
   ]
  },
  {
   "cell_type": "code",
   "execution_count": null,
   "id": "9106932b",
   "metadata": {},
   "outputs": [],
   "source": [
    "Y_test_final"
   ]
  },
  {
   "cell_type": "code",
   "execution_count": null,
   "id": "e84a0634",
   "metadata": {},
   "outputs": [],
   "source": [
    "pred_data = pred_data.set_index('uu_id')\n",
    "fin = fin.set_index('uu_id)\n",
    "Y_test_final = pred_data.join(fin)"
   ]
  },
  {
   "cell_type": "code",
   "execution_count": null,
   "id": "909c05c8",
   "metadata": {},
   "outputs": [],
   "source": [
    "pred_data = pred_data.set_index('uu_id')\n",
    "fin = fin.set_index('uu_id')\n",
    "Y_test_final = pred_data.join(fin)"
   ]
  },
  {
   "cell_type": "code",
   "execution_count": null,
   "id": "7b5bd045",
   "metadata": {},
   "outputs": [],
   "source": [
    "Y_test_final"
   ]
  },
  {
   "cell_type": "code",
   "execution_count": null,
   "id": "fde08f27",
   "metadata": {},
   "outputs": [],
   "source": [
    "X = fin.drop(['uu_id','total_claims'],axis=1)\n",
    "Y=fin['total_claims']"
   ]
  },
  {
   "cell_type": "code",
   "execution_count": null,
   "id": "7d536a26",
   "metadata": {},
   "outputs": [],
   "source": [
    "final_data1 = final_data.drop(['timeperiod','tract_x','tract_name_x','tract_y','tract_name_y','countyfips_y'],axis=1)"
   ]
  },
  {
   "cell_type": "code",
   "execution_count": null,
   "id": "3df45e59",
   "metadata": {},
   "outputs": [],
   "source": [
    "fin = pd.get_dummies(final_data1,columns = ['week_number','countyfips_x','top_category_employer1','top_category_employer2','top_category_employer3'])"
   ]
  },
  {
   "cell_type": "code",
   "execution_count": null,
   "id": "ee00a240",
   "metadata": {},
   "outputs": [],
   "source": [
    "X = fin.drop(['uu_id','total_claims'],axis=1)\n",
    "Y=fin['total_claims']"
   ]
  },
  {
   "cell_type": "code",
   "execution_count": null,
   "id": "fb3f373a",
   "metadata": {},
   "outputs": [],
   "source": [
    "from sklearn.model_selection import train_test_split\n",
    "X_train, X_test,Y_train, Y_test = train_test_split(X,Y,test_size = 0.2, random_state=32)"
   ]
  },
  {
   "cell_type": "code",
   "execution_count": null,
   "id": "0d8827f9",
   "metadata": {},
   "outputs": [],
   "source": [
    "import xgboost as xgb\n",
    "model = xgb.XGBRegressor(n_estimators=500, max_depth=4,eta=0.1).fit(X_train,Y_train)\n",
    "y_pred = model.predict(X_test)"
   ]
  },
  {
   "cell_type": "code",
   "execution_count": null,
   "id": "2c4e1124",
   "metadata": {},
   "outputs": [],
   "source": [
    "df_test = pred_data.merge(fin,how='left',on= 'uu_id')"
   ]
  },
  {
   "cell_type": "code",
   "execution_count": null,
   "id": "b6a2bb74",
   "metadata": {},
   "outputs": [],
   "source": [
    "X_df_test = df_test.drop(['uu_id','total_claims'],axis=1)\n",
    "Y_df_test = df_test['total_claims']"
   ]
  },
  {
   "cell_type": "code",
   "execution_count": null,
   "id": "22eb267e",
   "metadata": {},
   "outputs": [],
   "source": [
    "prediction = model.predict(X_df_test)"
   ]
  },
  {
   "cell_type": "code",
   "execution_count": null,
   "id": "9327ee11",
   "metadata": {},
   "outputs": [],
   "source": [
    "df_test"
   ]
  },
  {
   "cell_type": "code",
   "execution_count": null,
   "id": "e1c2274b",
   "metadata": {},
   "outputs": [],
   "source": [
    "final_data1 = final_data.drop(['timeperiod','tract_x','tract_name_x','tract_y','tract_name_y','countyfips_y','week_number'],axis=1)"
   ]
  },
  {
   "cell_type": "code",
   "execution_count": null,
   "id": "9f390886",
   "metadata": {},
   "outputs": [],
   "source": [
    "fin = pd.get_dummies(final_data1,columns = ['countyfips_x','top_category_employer1','top_category_employer2','top_category_employer3'])"
   ]
  },
  {
   "cell_type": "code",
   "execution_count": null,
   "id": "24bf1789",
   "metadata": {},
   "outputs": [],
   "source": [
    "X = fin.drop(['uu_id','total_claims'],axis=1)\n",
    "Y=fin['total_claims']"
   ]
  },
  {
   "cell_type": "code",
   "execution_count": null,
   "id": "a3f6c5fd",
   "metadata": {},
   "outputs": [],
   "source": [
    "from sklearn.model_selection import train_test_split\n",
    "X_train, X_test,Y_train, Y_test = train_test_split(X,Y,test_size = 0.2, random_state=32)"
   ]
  },
  {
   "cell_type": "code",
   "execution_count": null,
   "id": "96e21940",
   "metadata": {},
   "outputs": [],
   "source": [
    "import xgboost as xgb\n",
    "model = xgb.XGBRegressor(n_estimators=500, max_depth=4,eta=0.1).fit(X_train,Y_train)\n",
    "y_pred = model.predict(X_test)"
   ]
  },
  {
   "cell_type": "code",
   "execution_count": null,
   "id": "ab80d8f4",
   "metadata": {},
   "outputs": [],
   "source": [
    "model.score(X_test, Y_test)"
   ]
  },
  {
   "cell_type": "code",
   "execution_count": null,
   "id": "358578e2",
   "metadata": {},
   "outputs": [],
   "source": [
    "df_test = pred_data.merge(fin,how='left',on= 'uu_id')"
   ]
  },
  {
   "cell_type": "code",
   "execution_count": null,
   "id": "285acce3",
   "metadata": {},
   "outputs": [],
   "source": [
    "X_df_test = df_test.drop(['uu_id','week_number','total_claims'],axis=1)\n",
    "Y_df_test = df_test['total_claims']"
   ]
  },
  {
   "cell_type": "code",
   "execution_count": null,
   "id": "7e18382b",
   "metadata": {},
   "outputs": [],
   "source": [
    "prediction = model.predict(X_df_test)"
   ]
  },
  {
   "cell_type": "code",
   "execution_count": null,
   "id": "96c2e1de",
   "metadata": {},
   "outputs": [],
   "source": [
    "model.score(X_df_test,Y_df_test)"
   ]
  },
  {
   "cell_type": "code",
   "execution_count": null,
   "id": "a2821616",
   "metadata": {},
   "outputs": [],
   "source": [
    "df_pred_final = pred_data[['uu_id']]\n",
    "df_pred_final['week_number'] = pred_data[['week_number']]\n",
    "df_pred_final[\"total_claims\"] = prediction"
   ]
  },
  {
   "cell_type": "code",
   "execution_count": null,
   "id": "39727083",
   "metadata": {},
   "outputs": [],
   "source": [
    "df_pred_final = pred_data[['uu_id']]"
   ]
  },
  {
   "cell_type": "code",
   "execution_count": null,
   "id": "b2207ee4",
   "metadata": {},
   "outputs": [],
   "source": [
    "df_pred_final = pred_data['uu_id']"
   ]
  },
  {
   "cell_type": "code",
   "execution_count": null,
   "id": "073a94ec",
   "metadata": {},
   "outputs": [],
   "source": [
    "df_pred_final['uu_id'] = pred_data['uu_id']"
   ]
  },
  {
   "cell_type": "code",
   "execution_count": null,
   "id": "c5447f76",
   "metadata": {},
   "outputs": [],
   "source": [
    "df_pred_final['uu_id'] = pred_data[['uu_id']]"
   ]
  },
  {
   "cell_type": "code",
   "execution_count": null,
   "id": "e3ed3a2b",
   "metadata": {},
   "outputs": [],
   "source": [
    "df_pred_final1['uu_id'] = pred_data[['uu_id']]"
   ]
  },
  {
   "cell_type": "code",
   "execution_count": null,
   "id": "bdee2379",
   "metadata": {},
   "outputs": [],
   "source": [
    "df_pred_final2 = pred_data[['uu_id']]"
   ]
  },
  {
   "cell_type": "code",
   "execution_count": null,
   "id": "a3c38090",
   "metadata": {},
   "outputs": [],
   "source": [
    "df_pred_final['week_number'] = pred_data[['week_number']]\n",
    "df_pred_final[\"total_claims\"] = prediction"
   ]
  },
  {
   "cell_type": "code",
   "execution_count": null,
   "id": "919ab9f3",
   "metadata": {},
   "outputs": [],
   "source": [
    "df_pred_final_yams = pred_data[['uu_id']]"
   ]
  },
  {
   "cell_type": "code",
   "execution_count": null,
   "id": "d96cf9b6",
   "metadata": {},
   "outputs": [],
   "source": [
    "df_pred_final_yams == pred_data[['uu_id']]"
   ]
  },
  {
   "cell_type": "code",
   "execution_count": null,
   "id": "657f900c",
   "metadata": {},
   "outputs": [],
   "source": [
    "df_pred_final_yams=[]\n",
    "df_pred_final_yams == pred_data[['uu_id']]"
   ]
  },
  {
   "cell_type": "code",
   "execution_count": null,
   "id": "224dd84c",
   "metadata": {},
   "outputs": [],
   "source": [
    "df_pred_final_1 = df_test[['uu_id']]"
   ]
  },
  {
   "cell_type": "code",
   "execution_count": null,
   "id": "4b121a1d",
   "metadata": {},
   "outputs": [],
   "source": [
    "df_pred_final_1['week_number'] = df_test[['week_number']]"
   ]
  },
  {
   "cell_type": "code",
   "execution_count": null,
   "id": "14cebeb4",
   "metadata": {},
   "outputs": [],
   "source": [
    "df_pred_final_1['total_claims'] = prediction"
   ]
  },
  {
   "cell_type": "code",
   "execution_count": null,
   "id": "a0b97328",
   "metadata": {},
   "outputs": [],
   "source": [
    "df_pred_final_1"
   ]
  },
  {
   "cell_type": "code",
   "execution_count": null,
   "id": "b5707e81",
   "metadata": {},
   "outputs": [],
   "source": [
    "df_final = df_pred_final_1.drop_duplicates(subset=['uu_id'])"
   ]
  },
  {
   "cell_type": "code",
   "execution_count": null,
   "id": "1302232d",
   "metadata": {},
   "outputs": [],
   "source": [
    "df_final"
   ]
  },
  {
   "cell_type": "code",
   "execution_count": null,
   "id": "5d5bfe15",
   "metadata": {},
   "outputs": [],
   "source": [
    "fin.shape"
   ]
  },
  {
   "cell_type": "code",
   "execution_count": null,
   "id": "2f52505e",
   "metadata": {},
   "outputs": [],
   "source": [
    "get_ipython().run_cell_magic('capture', '', \"%logstop\\n%logstart -t -r -q ipython_command_log.py global\\n\\n#- IRONHACKS RESEARCH TRACKING CODE\\n#----------------------------------\\n# The following code is used to help our research team understand how you \\n# our notebook environment. We do not collect any personal information with\\n# the following code, it is used to measure when and how often you work on\\n# your submission files.\\n\\nimport os\\nfrom datetime import datetime\\nimport IPython.core.history as history\\n\\nha = history.HistoryAccessor()\\nha_tail = ha.get_tail(1)\\nha_cmd = next(ha_tail)\\nsession_id = str(ha_cmd[0])\\ncommand_id = str(ha_cmd[1])\\ntimestamp = datetime.utcnow().isoformat()\\nhistory_line = ','.join([session_id, command_id, timestamp]) + '\\\\n'\\nlogfile = open(os.environ['HOME']+'/ipython_session_log.csv', 'a')\\nlogfile.write(history_line)\\nlogfile.close()\\n\")"
   ]
  },
  {
   "cell_type": "code",
   "execution_count": null,
   "id": "3aa5d09c",
   "metadata": {},
   "outputs": [],
   "source": [
    "df_final.to_csv('submission_prediction_output.csv')"
   ]
  },
  {
   "cell_type": "code",
   "execution_count": null,
   "id": "dc17a02d",
   "metadata": {
    "lines_to_next_cell": 2
   },
   "outputs": [],
   "source": [
    "get_ipython().run_cell_magic('capture', '', \"%logstop\\n%logstart -t -r -q ipython_command_log.py global\\n\\n#- IRONHACKS RESEARCH TRACKING CODE\\n#----------------------------------\\n# The following code is used to help our research team understand how you \\n# our notebook environment. We do not collect any personal information with\\n# the following code, it is used to measure when and how often you work on\\n# your submission files.\\n\\nimport os\\nfrom datetime import datetime\\nimport IPython.core.history as history\\n\\nha = history.HistoryAccessor()\\nha_tail = ha.get_tail(1)\\nha_cmd = next(ha_tail)\\nsession_id = str(ha_cmd[0])\\ncommand_id = str(ha_cmd[1])\\ntimestamp = datetime.utcnow().isoformat()\\nhistory_line = ','.join([session_id, command_id, timestamp]) + '\\\\n'\\nlogfile = open(os.environ['HOME']+'/ipython_session_log.csv', 'a')\\nlogfile.write(history_line)\\nlogfile.close()\\n\")"
   ]
  }
 ],
 "metadata": {
  "jupytext": {
   "cell_metadata_filter": "-all",
   "main_language": "python",
   "notebook_metadata_filter": "-all"
  }
 },
 "nbformat": 4,
 "nbformat_minor": 5
}
