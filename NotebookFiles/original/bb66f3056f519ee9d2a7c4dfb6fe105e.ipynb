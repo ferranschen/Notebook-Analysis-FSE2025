{
 "cells": [
  {
   "cell_type": "code",
   "execution_count": null,
   "id": "6accec17",
   "metadata": {},
   "outputs": [],
   "source": [
    "get_ipython().system('pip install google-cloud-bigquery')\n",
    "get_ipython().system('pip install google-cloud-bigquery[pandas]')\n",
    "get_ipython().system('python3 -m pip install google.cloud')\n",
    "get_ipython().system('python3 -m pip install pandas')\n",
    "get_ipython().system('python3 -m pip install numpy')\n",
    "get_ipython().system('python3 -m pip install scikit-learn')\n",
    "get_ipython().system('python3 -m pip install plotly')"
   ]
  },
  {
   "cell_type": "code",
   "execution_count": null,
   "id": "ed6f7f6f",
   "metadata": {},
   "outputs": [],
   "source": [
    "import csv\n",
    "import pandas as pd\n",
    "import numpy as np\n",
    "from google.cloud import bigquery\n",
    "from google.oauth2 import service_account\n",
    "from google.cloud.bigquery import magics\n",
    "from sklearn.model_selection import train_test_split \n",
    "from sklearn.linear_model import LinearRegression\n",
    "from sklearn import metrics\n",
    "import matplotlib.pyplot as plt  \n",
    "import os\n",
    "import seaborn as sns\n",
    "from pandas import Series, DataFrame"
   ]
  },
  {
   "cell_type": "code",
   "execution_count": null,
   "id": "e91f8c3a",
   "metadata": {},
   "outputs": [],
   "source": [
    "import csv\n",
    "import pandas as pd\n",
    "import numpy as np\n",
    "from google.cloud import bigquery\n",
    "from google.oauth2 import service_account\n",
    "from google.cloud.bigquery import magics\n",
    "from sklearn.model_selection import train_test_split \n",
    "from sklearn.linear_model import LinearRegression\n",
    "from sklearn import metrics\n",
    "import matplotlib.pyplot as plt  \n",
    "import os\n",
    "import seaborn as sns\n",
    "from pandas import Series, DataFrame"
   ]
  },
  {
   "cell_type": "code",
   "execution_count": null,
   "id": "0f24b87f",
   "metadata": {},
   "outputs": [],
   "source": [
    "get_ipython().run_cell_magic('capture', '', \"%logstop\\n%logstart -t -r -q ipython_command_log.py global\\n\\n#- IRONHACKS RESEARCH TRACKING CODE\\n#----------------------------------\\n# The following code is used to help our research team understand how you \\n# our notebook environment. We do not collect any personal information with\\n# the following code, it is used to measure when and how often you work on\\n# your submission files.\\n\\nimport os\\nfrom datetime import datetime\\nimport IPython.core.history as history\\n\\nha = history.HistoryAccessor()\\nha_tail = ha.get_tail(1)\\nha_cmd = next(ha_tail)\\nsession_id = str(ha_cmd[0])\\ncommand_id = str(ha_cmd[1])\\ntimestamp = datetime.utcnow().isoformat()\\nhistory_line = ','.join([session_id, command_id, timestamp]) + '\\\\n'\\nlogfile = open(os.environ['HOME']+'/ipython_session_log.csv', 'a')\\nlogfile.write(history_line)\\nlogfile.close()\\n\")"
   ]
  },
  {
   "cell_type": "code",
   "execution_count": null,
   "id": "47914d2a",
   "metadata": {},
   "outputs": [],
   "source": [
    "BIGQUERY_PROJECT = 'ironhacks-data'\n",
    "bigquery_client = bigquery.Client(project=BIGQUERY_PROJECT)"
   ]
  },
  {
   "cell_type": "code",
   "execution_count": null,
   "id": "01d42cdc",
   "metadata": {},
   "outputs": [],
   "source": [
    "query = \"\"\"\n",
    "SELECT *\n",
    "FROM `ironhacks-data.ironhacks_competition.unemployment_data`\n",
    "\"\"\""
   ]
  },
  {
   "cell_type": "code",
   "execution_count": null,
   "id": "48566760",
   "metadata": {},
   "outputs": [],
   "source": [
    "# QUERY THE DATA ONCE\n",
    "query_job = bigquery_client.query(query)\n",
    "unemployment_data = query_job.to_dataframe()\n",
    "unemployment_data.head()"
   ]
  },
  {
   "cell_type": "code",
   "execution_count": null,
   "id": "5af5ccf8",
   "metadata": {},
   "outputs": [],
   "source": [
    "query2 = \"\"\"\n",
    "SELECT *\n",
    "FROM `ironhacks-data.ironhacks_competition.wage_data`\n",
    "\"\"\""
   ]
  },
  {
   "cell_type": "code",
   "execution_count": null,
   "id": "0d02115a",
   "metadata": {},
   "outputs": [],
   "source": [
    "# QUERY THE DATA ONCE\n",
    "query_job2 = bigquery_client.query(query2)\n",
    "wage_data = query_job2.to_dataframe()\n",
    "wage_data.head()"
   ]
  },
  {
   "cell_type": "code",
   "execution_count": null,
   "id": "b281f22c",
   "metadata": {},
   "outputs": [],
   "source": [
    "wage_data[wage_data.isnull().any(axis=1)]"
   ]
  },
  {
   "cell_type": "code",
   "execution_count": null,
   "id": "0442db81",
   "metadata": {},
   "outputs": [],
   "source": [
    "wage_data2 = wage_data.fillna({'average_wage': wage_data.average_wage.mean()})\n",
    "wage_data2.head()"
   ]
  },
  {
   "cell_type": "code",
   "execution_count": null,
   "id": "b328321e",
   "metadata": {},
   "outputs": [],
   "source": [
    "query3 = \"\"\"\n",
    "SELECT *\n",
    "FROM `ironhacks-data.ironhacks_competition.prediction_list`\n",
    "\"\"\""
   ]
  },
  {
   "cell_type": "code",
   "execution_count": null,
   "id": "bae29e98",
   "metadata": {},
   "outputs": [],
   "source": [
    "# QUERY THE DATA ONCE\n",
    "query_job3 = bigquery_client.query(query3)\n",
    "prediction_list = query_job3.to_dataframe()\n",
    "prediction_list.head()"
   ]
  },
  {
   "cell_type": "code",
   "execution_count": null,
   "id": "b65d6774",
   "metadata": {},
   "outputs": [],
   "source": [
    "query = \"\"\"\n",
    "SELECT *\n",
    "FROM `ironhacks-data.ironhacks_competition.INFORMATION_SCHEMA.TABLES`\n",
    "\"\"\""
   ]
  },
  {
   "cell_type": "code",
   "execution_count": null,
   "id": "982881e6",
   "metadata": {},
   "outputs": [],
   "source": [
    "# QUERY THE DATA ONCE\n",
    "query_job = bigquery_client.query(query)\n",
    "data = query_job.to_dataframe()\n",
    "data.head()"
   ]
  },
  {
   "cell_type": "code",
   "execution_count": null,
   "id": "9548821d",
   "metadata": {},
   "outputs": [],
   "source": [
    "#Merge the data\n",
    "unemployment_wage_data = pd.merge(unemployment_data, wage_data, on=['uu_id'], how='inner')\n",
    "unemployment_wage_data = unemployment_wage_data.drop(['countyfips_y', 'tract_y', 'tract_name_y'], axis=1)\n",
    "unemployment_wage_data = unemployment_wage_data.fillna(0)\n",
    "unemployment_wage_data.describe()"
   ]
  },
  {
   "cell_type": "code",
   "execution_count": null,
   "id": "365db0f7",
   "metadata": {},
   "outputs": [],
   "source": [
    "unemployment_wage_data.head()"
   ]
  },
  {
   "cell_type": "code",
   "execution_count": null,
   "id": "6095cab3",
   "metadata": {},
   "outputs": [],
   "source": [
    "#Check for duplicated rows\n",
    "duplicated_rows = sum(unemployment_wage_data.duplicated()) \n",
    "unemployment_wage_data = unemployment_wage_data.drop_duplicates()"
   ]
  },
  {
   "cell_type": "code",
   "execution_count": null,
   "id": "2a4c075d",
   "metadata": {},
   "outputs": [],
   "source": [
    "unemployment_wage_data[unemployment_wage_data.isnull().any(axis=1)]"
   ]
  },
  {
   "cell_type": "code",
   "execution_count": null,
   "id": "83a86bfd",
   "metadata": {},
   "outputs": [],
   "source": [
    "#heat map for correlations\n",
    "plt.figure(figsize=(25,10))\n",
    "cor = unemployment_wage_data.corr()\n",
    "sns.heatmap(cor, annot=True, cmap=plt.cm.Reds) \n",
    "plt.show()"
   ]
  },
  {
   "cell_type": "code",
   "execution_count": null,
   "id": "695b1456",
   "metadata": {},
   "outputs": [],
   "source": [
    "unemployment_wage_data.columns"
   ]
  },
  {
   "cell_type": "code",
   "execution_count": null,
   "id": "85146625",
   "metadata": {},
   "outputs": [],
   "source": [
    "unemployment_wage_data.dtypes"
   ]
  },
  {
   "cell_type": "code",
   "execution_count": null,
   "id": "9922d6ea",
   "metadata": {},
   "outputs": [],
   "source": [
    "X = unemployment_wage_data.drop(['total_claims', 'week_number'], axis = 1)\n",
    "y = unemployment_wage_data.total_claims"
   ]
  },
  {
   "cell_type": "code",
   "execution_count": null,
   "id": "4fd20eb0",
   "metadata": {},
   "outputs": [],
   "source": [
    "uuid, label = unemployment_wage_data['uu_id'].factorize(sort=True)"
   ]
  },
  {
   "cell_type": "code",
   "execution_count": null,
   "id": "5e396866",
   "metadata": {},
   "outputs": [],
   "source": [
    "X['uu_id'] = uuid"
   ]
  },
  {
   "cell_type": "code",
   "execution_count": null,
   "id": "3708ded7",
   "metadata": {},
   "outputs": [],
   "source": [
    "X['tract_name_x'] = X['tract_name_x'].factorize()[0]\n",
    "X['top_category_employer1'] = X['top_category_employer1'].factorize()[0]\n",
    "X['top_category_employer2'] = X['top_category_employer2'].factorize()[0]\n",
    "X['top_category_employer3'] = X['top_category_employer3'].factorize()[0]"
   ]
  },
  {
   "cell_type": "code",
   "execution_count": null,
   "id": "6b9f9de9",
   "metadata": {},
   "outputs": [],
   "source": [
    "X_train, X_test, y_train, y_test = train_test_split(X, y, test_size=0.2, random_state=42)"
   ]
  },
  {
   "cell_type": "code",
   "execution_count": null,
   "id": "a0d4d7e8",
   "metadata": {},
   "outputs": [],
   "source": [
    "from sklearn.ensemble import RandomForestRegressor\n",
    "rf = RandomForestRegressor(n_estimators=1000, random_state=42)\n",
    "rf.fit(X_train, y_train)"
   ]
  },
  {
   "cell_type": "code",
   "execution_count": null,
   "id": "c87ea150",
   "metadata": {},
   "outputs": [],
   "source": [
    "rf.score(X_test, y_test)"
   ]
  },
  {
   "cell_type": "code",
   "execution_count": null,
   "id": "ca1c7dc5",
   "metadata": {},
   "outputs": [],
   "source": [
    "prediction_list"
   ]
  },
  {
   "cell_type": "code",
   "execution_count": null,
   "id": "8a2935e7",
   "metadata": {},
   "outputs": [],
   "source": [
    "X['uu_id'] = label[X[\"uu_id\"]]\n",
    "X"
   ]
  },
  {
   "cell_type": "code",
   "execution_count": null,
   "id": "75bdf22b",
   "metadata": {},
   "outputs": [],
   "source": [
    "for col in X.columns[2:]:\n",
    "    li = []\n",
    "    for i in prediction_list['uu_id']:\n",
    "        li.append(X.loc[X['uu_id'] == i, col].mean())\n",
    "    prediction_list[col] = li\n",
    "prediction_list"
   ]
  },
  {
   "cell_type": "code",
   "execution_count": null,
   "id": "dd658abb",
   "metadata": {},
   "outputs": [],
   "source": [
    "prediction_list['uu_id'] = prediction_list['uu_id'].factorize(sort=True)[0]"
   ]
  },
  {
   "cell_type": "code",
   "execution_count": null,
   "id": "67e610d9",
   "metadata": {},
   "outputs": [],
   "source": [
    "claims_predict = rf.predict(prediction_list)\n",
    "claims_predict"
   ]
  },
  {
   "cell_type": "code",
   "execution_count": null,
   "id": "eadbf1cc",
   "metadata": {},
   "outputs": [],
   "source": [
    "submission_df = pd.DataFrame()"
   ]
  },
  {
   "cell_type": "code",
   "execution_count": null,
   "id": "5297f59d",
   "metadata": {},
   "outputs": [],
   "source": [
    "submission_df[\"uu_id\"] = prediction_list[\"uu_id\"]\n",
    "submission_df[\"week_number\"] = prediction_list[\"week_number\"]\n",
    "submission_df[\"total_claims\"] = claims_predict"
   ]
  },
  {
   "cell_type": "code",
   "execution_count": null,
   "id": "b3862231",
   "metadata": {},
   "outputs": [],
   "source": [
    "submission_df"
   ]
  },
  {
   "cell_type": "code",
   "execution_count": null,
   "id": "22991da0",
   "metadata": {},
   "outputs": [],
   "source": [
    "submission_df[\"uu_id\"] = label[submission_df[\"uu_id\"]]"
   ]
  },
  {
   "cell_type": "code",
   "execution_count": null,
   "id": "2949945a",
   "metadata": {
    "lines_to_next_cell": 2
   },
   "outputs": [],
   "source": [
    "submission_df.to_csv('submission2_prediction_output.csv', index=False)"
   ]
  }
 ],
 "metadata": {
  "jupytext": {
   "cell_metadata_filter": "-all",
   "main_language": "python",
   "notebook_metadata_filter": "-all"
  }
 },
 "nbformat": 4,
 "nbformat_minor": 5
}
