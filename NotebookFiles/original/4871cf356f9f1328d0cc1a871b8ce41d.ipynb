{
 "cells": [
  {
   "cell_type": "code",
   "execution_count": null,
   "id": "8b268e54",
   "metadata": {},
   "outputs": [],
   "source": [
    "import os\n",
    "import pandas as pd\n",
    "import numpy as np\n",
    "from google.cloud import bigquery\n",
    "from google.oauth2 import service_account\n",
    "from google.cloud.bigquery import magics\n",
    "BIGQUERY_PROJECT = 'ironhacks-data'\n",
    "bigquery_client = bigquery.Client(project=BIGQUERY_PROJECT)"
   ]
  },
  {
   "cell_type": "code",
   "execution_count": null,
   "id": "3255348d",
   "metadata": {},
   "outputs": [],
   "source": [
    "query = \"\"\"\n",
    "SELECT *\n",
    "FROM `ironhacks-data.ironhacks_competition.unemployment_data`\n",
    "\"\"\"\n",
    "# QUERY THE DATA ONCE\n",
    "query_job = bigquery_client.query(query)\n",
    "unemp_data = query_job.to_dataframe()\n",
    "unemp_data.head(5)"
   ]
  },
  {
   "cell_type": "code",
   "execution_count": null,
   "id": "13646b9e",
   "metadata": {},
   "outputs": [],
   "source": [
    "query = \"\"\"\n",
    "SELECT *\n",
    "FROM `ironhacks-data.ironhacks_competition.wage_data`\n",
    "\"\"\"\n",
    "# QUERY THE DATA ONCE\n",
    "query_job = bigquery_client.query(query)\n",
    "wage_data = query_job.to_dataframe()\n",
    "wage_data.head()"
   ]
  },
  {
   "cell_type": "code",
   "execution_count": null,
   "id": "e88bcda4",
   "metadata": {},
   "outputs": [],
   "source": [
    "query = \"\"\"\n",
    "SELECT *\n",
    "FROM `ironhacks-data.ironhacks_competition.prediction_list`\n",
    "\"\"\"\n",
    "# QUERY THE DATA ONCE\n",
    "query_job = bigquery_client.query(query)\n",
    "pred_data = query_job.to_dataframe()\n",
    "pred_data.head()"
   ]
  },
  {
   "cell_type": "code",
   "execution_count": null,
   "id": "ee61c648",
   "metadata": {},
   "outputs": [],
   "source": [
    "unemp_data.info()"
   ]
  },
  {
   "cell_type": "code",
   "execution_count": null,
   "id": "5dab1013",
   "metadata": {},
   "outputs": [],
   "source": [
    "wage_data.info()"
   ]
  },
  {
   "cell_type": "code",
   "execution_count": null,
   "id": "fb829823",
   "metadata": {},
   "outputs": [],
   "source": [
    "unemp_data.isna().sum()"
   ]
  },
  {
   "cell_type": "code",
   "execution_count": null,
   "id": "fb425b9b",
   "metadata": {},
   "outputs": [],
   "source": [
    "set1 = set(list(unemp_data['top_category_employer1'].unique()))\n",
    "set1"
   ]
  },
  {
   "cell_type": "code",
   "execution_count": null,
   "id": "0249d099",
   "metadata": {},
   "outputs": [],
   "source": [
    "set2 = set(list(unemp_data['top_category_employer2'].unique()))\n",
    "set2"
   ]
  },
  {
   "cell_type": "code",
   "execution_count": null,
   "id": "4f416c5b",
   "metadata": {},
   "outputs": [],
   "source": [
    "set3 = set(list(unemp_data['top_category_employer3'].unique()))\n",
    "set3"
   ]
  },
  {
   "cell_type": "code",
   "execution_count": null,
   "id": "7a08a2f6",
   "metadata": {},
   "outputs": [],
   "source": [
    "unemp_data['top_category_employer2'] = unemp_data['top_category_employer2'].replace('N/A',np.NaN)\n",
    "unemp_data['top_category_employer3'] = unemp_data['top_category_employer3'].replace('N/A',np.NaN)"
   ]
  },
  {
   "cell_type": "code",
   "execution_count": null,
   "id": "42361730",
   "metadata": {},
   "outputs": [],
   "source": [
    "unemp_data['countyfips'].unique()"
   ]
  },
  {
   "cell_type": "code",
   "execution_count": null,
   "id": "e9008f71",
   "metadata": {},
   "outputs": [],
   "source": [
    "(unemp_data.isna().sum()/len(unemp_data))*100"
   ]
  },
  {
   "cell_type": "code",
   "execution_count": null,
   "id": "fb562433",
   "metadata": {},
   "outputs": [],
   "source": [
    "(unemp_data.isna().sum()/len(unemp_data))*100"
   ]
  },
  {
   "cell_type": "code",
   "execution_count": null,
   "id": "528cf0f7",
   "metadata": {},
   "outputs": [],
   "source": [
    "unemp_data['edu_8th_or_less'] = unemp_data.groupby('countyfips')['edu_8th_or_less'].transform(lambda x: x.fillna(int(x.mean())))\n",
    "unemp_data['edu_grades_9_11'] = unemp_data.groupby('countyfips')['edu_grades_9_11'].transform(lambda x: x.fillna(int(x.mean())))\n",
    "unemp_data['edu_hs_grad_equiv'] = unemp_data.groupby('countyfips')['edu_hs_grad_equiv'].transform(lambda x: x.fillna(int(x.mean())))"
   ]
  },
  {
   "cell_type": "code",
   "execution_count": null,
   "id": "bbe9db55",
   "metadata": {},
   "outputs": [],
   "source": [
    "unemp_data['race_asian'] = unemp_data.groupby('countyfips')['race_asian'].transform(lambda x: x.fillna(int(x.mean())))\n",
    "unemp_data['race_amerindian'] = unemp_data.groupby('countyfips')['race_amerindian'].transform(lambda x: x.fillna(int(x.mean())))\n",
    "unemp_data['race_black'] = unemp_data.groupby('countyfips')['race_black'].transform(lambda x: x.fillna(int(x.mean())))\n",
    "unemp_data['race_hawaiiannative'] = unemp_data.groupby('countyfips')['race_hawaiiannative'].transform(lambda x: x.fillna(int(x.mean())))\n",
    "unemp_data['race_other'] = unemp_data.groupby('countyfips')['race_other'].transform(lambda x: x.fillna(int(x.mean())))\n",
    "unemp_data['race_white'] = unemp_data.groupby('countyfips')['race_white'].transform(lambda x: x.fillna(int(x.mean())))"
   ]
  },
  {
   "cell_type": "code",
   "execution_count": null,
   "id": "0ad4c657",
   "metadata": {},
   "outputs": [],
   "source": [
    "unemp_data['race_noanswer'] = unemp_data['race_noanswer'].fillna(0)\n",
    "unemp_data['gender_na'] = unemp_data['gender_na'].fillna(0)\n",
    "unemp_data['edu_unknown'] = unemp_data['edu_unknown'].fillna(0)"
   ]
  },
  {
   "cell_type": "code",
   "execution_count": null,
   "id": "56fc443a",
   "metadata": {},
   "outputs": [],
   "source": [
    "unemp_data['top_category_employer2'] = unemp_data.groupby('countyfips')['top_category_employer2'].transform(lambda x: x.fillna(x.mode()[0] if not x.mode().empty else 'unknown'))\n",
    "unemp_data['top_category_employer3'] = unemp_data.groupby('countyfips')['top_category_employer3'].transform(lambda x: x.fillna(x.mode()[0] if not x.mode().empty else 'unknown'))"
   ]
  },
  {
   "cell_type": "code",
   "execution_count": null,
   "id": "0e357ace",
   "metadata": {},
   "outputs": [],
   "source": [
    "unemp_data['gender_male'] = unemp_data['gender_male'].astype(float)\n",
    "unemp_data['gender_female'] = unemp_data['gender_female'].astype(float)\n",
    "unemp_data['edu_post_hs'] = unemp_data['edu_post_hs'].astype(float)"
   ]
  },
  {
   "cell_type": "code",
   "execution_count": null,
   "id": "95bc7746",
   "metadata": {},
   "outputs": [],
   "source": [
    "unemp_data['gender_male'] = unemp_data['gender_male'].fillna(unemp_data.groupby('countyfips')['gender_male'].transform('mean'))\n",
    "unemp_data['gender_female'] = unemp_data['gender_female'].fillna(unemp_data.groupby('countyfips')['gender_female'].transform('mean'))\n",
    "unemp_data['edu_post_hs'] = unemp_data['edu_post_hs'].fillna(unemp_data.groupby('countyfips')['edu_post_hs'].transform('mean'))"
   ]
  },
  {
   "cell_type": "code",
   "execution_count": null,
   "id": "938c5c6b",
   "metadata": {},
   "outputs": [],
   "source": [
    "unemp_data.isna().sum()"
   ]
  },
  {
   "cell_type": "code",
   "execution_count": null,
   "id": "b67bc4bf",
   "metadata": {},
   "outputs": [],
   "source": [
    "unemp_data[unemp_data.gender_male.isnull()]"
   ]
  },
  {
   "cell_type": "code",
   "execution_count": null,
   "id": "f69f4f46",
   "metadata": {},
   "outputs": [],
   "source": [
    "unemp_data['gender_male'] = unemp_data['gender_male'].fillna(unemp_data.groupby('countyfips')['gender_male'].transform('mean'))\n",
    "unemp_data['gender_female'] = unemp_data['gender_female'].fillna(unemp_data.groupby('countyfips')['gender_female'].transform('mean'))\n",
    "unemp_data['edu_post_hs'] = unemp_data['edu_post_hs'].fillna(unemp_data.groupby('countyfips')['edu_post_hs'].transform('mean'))"
   ]
  },
  {
   "cell_type": "code",
   "execution_count": null,
   "id": "1648311f",
   "metadata": {},
   "outputs": [],
   "source": [
    "unemp_data.isna().sum()"
   ]
  },
  {
   "cell_type": "code",
   "execution_count": null,
   "id": "803ad6c2",
   "metadata": {},
   "outputs": [],
   "source": [
    "unemp_data['gender_male'] = unemp_data.groupby('countyfips')['gender_male'].transform(lambda x: x.fillna(x.mean()))\n",
    "unemp_data['gender_female'] = unemp_data.groupby('countyfips')['gender_female'].transform(lambda x: x.fillna(x.mean()))\n",
    "unemp_data['edu_post_hs'] = unemp_data.groupby('countyfips')['edu_post_hs'].transform(lambda x: x.fillna(x.mean()))"
   ]
  },
  {
   "cell_type": "code",
   "execution_count": null,
   "id": "563e1ba4",
   "metadata": {},
   "outputs": [],
   "source": [
    "unemp_data.isna().sum()"
   ]
  },
  {
   "cell_type": "code",
   "execution_count": null,
   "id": "db8b5e10",
   "metadata": {},
   "outputs": [],
   "source": [
    "unemp_data.isnull()"
   ]
  },
  {
   "cell_type": "code",
   "execution_count": null,
   "id": "07f988fc",
   "metadata": {},
   "outputs": [],
   "source": [
    "unemp_data[unemp_data['gender_male'].isnull()]"
   ]
  },
  {
   "cell_type": "code",
   "execution_count": null,
   "id": "56b78634",
   "metadata": {},
   "outputs": [],
   "source": [
    "unemp_data['gender_male'] = unemp_data['gender_male'].fillna(0)\n",
    "unemp_data['gender_female'] = unemp_data['gender_female'].fillna(0)\n",
    "unemp_data['edu_post_hs'] = unemp_data['edu_post_hs'].fillna(0)"
   ]
  },
  {
   "cell_type": "code",
   "execution_count": null,
   "id": "359b0f99",
   "metadata": {},
   "outputs": [],
   "source": [
    "unemp_data.isna().sum()"
   ]
  },
  {
   "cell_type": "code",
   "execution_count": null,
   "id": "8687824c",
   "metadata": {},
   "outputs": [],
   "source": [
    "unemp_data.isna().sum()"
   ]
  },
  {
   "cell_type": "code",
   "execution_count": null,
   "id": "a8478c1f",
   "metadata": {},
   "outputs": [],
   "source": [
    "wage_data.info()"
   ]
  },
  {
   "cell_type": "code",
   "execution_count": null,
   "id": "72e90b6a",
   "metadata": {},
   "outputs": [],
   "source": [
    "wage_data.describe()"
   ]
  },
  {
   "cell_type": "code",
   "execution_count": null,
   "id": "7a20af28",
   "metadata": {},
   "outputs": [],
   "source": [
    "wage_data['average_wage'] = wage_data['average_wage'].fillna(wage_data.groupby('countyfips')['average_wage'].transform('mean'))"
   ]
  },
  {
   "cell_type": "code",
   "execution_count": null,
   "id": "21c41d43",
   "metadata": {},
   "outputs": [],
   "source": [
    "wage_data.info()"
   ]
  },
  {
   "cell_type": "code",
   "execution_count": null,
   "id": "5871a13e",
   "metadata": {},
   "outputs": [],
   "source": [
    "query = \"\"\"\n",
    "SELECT *\n",
    "FROM `ironhacks-data.ironhacks_competition.wage_data`\n",
    "\"\"\"\n",
    "# QUERY THE DATA ONCE\n",
    "query_job = bigquery_client.query(query)\n",
    "wage_data = query_job.to_dataframe()\n",
    "wage_data.head()"
   ]
  },
  {
   "cell_type": "code",
   "execution_count": null,
   "id": "3cf3f83f",
   "metadata": {},
   "outputs": [],
   "source": [
    "wage_data.info()"
   ]
  },
  {
   "cell_type": "code",
   "execution_count": null,
   "id": "a9a279c4",
   "metadata": {},
   "outputs": [],
   "source": [
    "wage_data['average_wage'] = wage_data['average_wage'].fillna(wage_data.groupby('countyfips')['average_wage'].transform('mean'))"
   ]
  },
  {
   "cell_type": "code",
   "execution_count": null,
   "id": "3ecf746f",
   "metadata": {},
   "outputs": [],
   "source": [
    "final_data = unemp_data.merge(wage_data,how='left', on = 'uu_id)\n",
    "final_data"
   ]
  },
  {
   "cell_type": "code",
   "execution_count": null,
   "id": "3d906441",
   "metadata": {},
   "outputs": [],
   "source": [
    "final_data = unemp_data.merge(wage_data,how='left', on = 'uu_id')\n",
    "final_data"
   ]
  },
  {
   "cell_type": "code",
   "execution_count": null,
   "id": "319f9b2b",
   "metadata": {},
   "outputs": [],
   "source": [
    "final_data = unemp_data.merge(wage_data,how='left', on = 'uu_id')"
   ]
  },
  {
   "cell_type": "code",
   "execution_count": null,
   "id": "e2719de8",
   "metadata": {},
   "outputs": [],
   "source": [
    "final_data1 = final_data.drop(['timeperiod','tract','tract_name'],axis=1)"
   ]
  },
  {
   "cell_type": "code",
   "execution_count": null,
   "id": "2b65db92",
   "metadata": {},
   "outputs": [],
   "source": [
    "final_data.info()"
   ]
  },
  {
   "cell_type": "code",
   "execution_count": null,
   "id": "b5bfeee5",
   "metadata": {},
   "outputs": [],
   "source": [
    "final_data1 = final_data.drop(['timeperiod','tract_x','tract_name_x','tract_y','tract_name_y','countyfips_y'],axis=1)"
   ]
  },
  {
   "cell_type": "markdown",
   "id": "58af444b",
   "metadata": {},
   "source": [
    "#Modelling"
   ]
  },
  {
   "cell_type": "code",
   "execution_count": null,
   "id": "faaacf00",
   "metadata": {},
   "outputs": [],
   "source": [
    "final_data1 = final_data.drop(['timeperiod','tract_x','tract_name_x','tract_y','tract_name_y','countyfips_y','uu_id'],axis=1)"
   ]
  },
  {
   "cell_type": "code",
   "execution_count": null,
   "id": "ae99e9d3",
   "metadata": {},
   "outputs": [],
   "source": [
    "fin = pd.get_dummies(final_data1,columns = ['week_number','countyfips_x','top_category_employer1','top_category_employer2','top_category_employer3'])"
   ]
  },
  {
   "cell_type": "code",
   "execution_count": null,
   "id": "98db1a71",
   "metadata": {},
   "outputs": [],
   "source": [
    "fin.shape()"
   ]
  },
  {
   "cell_type": "code",
   "execution_count": null,
   "id": "af456226",
   "metadata": {},
   "outputs": [],
   "source": [
    "fin.shape"
   ]
  },
  {
   "cell_type": "code",
   "execution_count": null,
   "id": "73b49496",
   "metadata": {},
   "outputs": [],
   "source": [
    "X = fin.drop(['total_claims'],axis=1)\n",
    "Y = fin['total_claims']"
   ]
  },
  {
   "cell_type": "code",
   "execution_count": null,
   "id": "57e9779a",
   "metadata": {},
   "outputs": [],
   "source": [
    "from sklearn.decomposition import PCA\n",
    "pca = PCA(n_components=50)\n",
    "principalComponents = pca.fit_transform(X)"
   ]
  },
  {
   "cell_type": "code",
   "execution_count": null,
   "id": "205b5886",
   "metadata": {},
   "outputs": [],
   "source": [
    "principalComponents"
   ]
  },
  {
   "cell_type": "code",
   "execution_count": null,
   "id": "cb61d9d6",
   "metadata": {},
   "outputs": [],
   "source": [
    "df_X = pd.DataFrame(principalComponents)"
   ]
  },
  {
   "cell_type": "code",
   "execution_count": null,
   "id": "b5a57243",
   "metadata": {},
   "outputs": [],
   "source": [
    "from sklearn.model_selection import train_test_split\n",
    "from sklearn.linear_model import LinearRegression\n",
    "from sklearn.feature_selection import RFE\n",
    "X_train, X_test,Y_train, Y_test = train_test_split(X,Y,test_size = 0.2, random_state=28)"
   ]
  },
  {
   "cell_type": "code",
   "execution_count": null,
   "id": "518a9fed",
   "metadata": {},
   "outputs": [],
   "source": [
    "lm = LinearRegression().fit(X_train,Y_train)\n",
    "prediction = model.predict(X_test)"
   ]
  },
  {
   "cell_type": "code",
   "execution_count": null,
   "id": "70885ded",
   "metadata": {},
   "outputs": [],
   "source": [
    "lm = LinearRegression().fit(X_train,Y_train)\n",
    "prediction = lm.predict(X_test)"
   ]
  },
  {
   "cell_type": "code",
   "execution_count": null,
   "id": "eee7a5ca",
   "metadata": {},
   "outputs": [],
   "source": [
    "lm.score(X_test, Y_test)"
   ]
  },
  {
   "cell_type": "code",
   "execution_count": null,
   "id": "ba958506",
   "metadata": {},
   "outputs": [],
   "source": [
    "from sklearn.model_selection import train_test_split\n",
    "from sklearn.linear_model import LinearRegression\n",
    "X_train, X_test,Y_train, Y_test = train_test_split(df_X,Y,test_size = 0.2, random_state=28)"
   ]
  },
  {
   "cell_type": "code",
   "execution_count": null,
   "id": "2262e1f9",
   "metadata": {},
   "outputs": [],
   "source": [
    "lm = LinearRegression().fit(X_train,Y_train)\n",
    "prediction = lm.predict(X_test)"
   ]
  },
  {
   "cell_type": "code",
   "execution_count": null,
   "id": "08e53c37",
   "metadata": {},
   "outputs": [],
   "source": [
    "lm.score(X_test, Y_test)"
   ]
  },
  {
   "cell_type": "code",
   "execution_count": null,
   "id": "142d19c4",
   "metadata": {},
   "outputs": [],
   "source": [
    "from sklearn.decomposition import PCA\n",
    "pca = PCA(n_components=10)\n",
    "principalComponents = pca.fit_transform(X)"
   ]
  },
  {
   "cell_type": "code",
   "execution_count": null,
   "id": "a4f6c256",
   "metadata": {},
   "outputs": [],
   "source": [
    "df_X = pd.DataFrame(principalComponents)"
   ]
  },
  {
   "cell_type": "code",
   "execution_count": null,
   "id": "b5dd7abe",
   "metadata": {},
   "outputs": [],
   "source": [
    "from sklearn.model_selection import train_test_split\n",
    "from sklearn.linear_model import LinearRegression\n",
    "X_train, X_test,Y_train, Y_test = train_test_split(df_X,Y,test_size = 0.2, random_state=28)"
   ]
  },
  {
   "cell_type": "code",
   "execution_count": null,
   "id": "b75fc976",
   "metadata": {},
   "outputs": [],
   "source": [
    "lm = LinearRegression().fit(X_train,Y_train)\n",
    "prediction = lm.predict(X_test)"
   ]
  },
  {
   "cell_type": "code",
   "execution_count": null,
   "id": "39e33220",
   "metadata": {},
   "outputs": [],
   "source": [
    "lm.score(X_test, Y_test)"
   ]
  },
  {
   "cell_type": "code",
   "execution_count": null,
   "id": "77c17bed",
   "metadata": {},
   "outputs": [],
   "source": [
    "lm = LinearRegression().fit(X_train,Y_train)\n",
    "prediction = lm.predict(X_test)"
   ]
  },
  {
   "cell_type": "code",
   "execution_count": null,
   "id": "f2296d13",
   "metadata": {},
   "outputs": [],
   "source": [
    "lm = LinearRegression().fit(X_train,Y_train)\n",
    "prediction = lm.predict(X_test)"
   ]
  },
  {
   "cell_type": "code",
   "execution_count": null,
   "id": "160e19b4",
   "metadata": {},
   "outputs": [],
   "source": [
    "lm.score(X_test, Y_test)"
   ]
  },
  {
   "cell_type": "code",
   "execution_count": null,
   "id": "8fac984a",
   "metadata": {},
   "outputs": [],
   "source": [
    "from sklearn.model_selection import train_test_split\n",
    "from sklearn.linear_model import LinearRegression\n",
    "X_train, X_test,Y_train, Y_test = train_test_split(X,Y,test_size = 0.2, random_state=28)"
   ]
  },
  {
   "cell_type": "code",
   "execution_count": null,
   "id": "3b62b035",
   "metadata": {},
   "outputs": [],
   "source": [
    "lm = LinearRegression().fit(X_train,Y_train)\n",
    "prediction = lm.predict(X_test)"
   ]
  },
  {
   "cell_type": "code",
   "execution_count": null,
   "id": "5e4a25e1",
   "metadata": {},
   "outputs": [],
   "source": [
    "lm.score(X_test, Y_test)"
   ]
  },
  {
   "cell_type": "code",
   "execution_count": null,
   "id": "c2e70982",
   "metadata": {},
   "outputs": [],
   "source": [
    "mean_squared_error(Y_train, prediction)"
   ]
  },
  {
   "cell_type": "code",
   "execution_count": null,
   "id": "4f4c41c5",
   "metadata": {},
   "outputs": [],
   "source": [
    "lm.mean_squared_error(Y_train, prediction)"
   ]
  },
  {
   "cell_type": "code",
   "execution_count": null,
   "id": "81b3a6d8",
   "metadata": {},
   "outputs": [],
   "source": [
    "model = XGBRegressor(n_estimators=500, max_depth=4,eta=0.1).fit(X_train,Y_train)\n",
    "y_pred = model.predict(X_test)"
   ]
  },
  {
   "cell_type": "code",
   "execution_count": null,
   "id": "39aeca19",
   "metadata": {},
   "outputs": [],
   "source": [
    "import xgboost as xgb"
   ]
  },
  {
   "cell_type": "code",
   "execution_count": null,
   "id": "357ef6d6",
   "metadata": {},
   "outputs": [],
   "source": [
    "import xgboost as xgb"
   ]
  },
  {
   "cell_type": "code",
   "execution_count": null,
   "id": "1a6610d7",
   "metadata": {},
   "outputs": [],
   "source": [
    "get_ipython().system('pip install xgboost')"
   ]
  },
  {
   "cell_type": "code",
   "execution_count": null,
   "id": "6cc4f57c",
   "metadata": {},
   "outputs": [],
   "source": [
    "import xgboost as xgb"
   ]
  },
  {
   "cell_type": "code",
   "execution_count": null,
   "id": "d4c486f4",
   "metadata": {},
   "outputs": [],
   "source": [
    "model = XGBRegressor(n_estimators=500, max_depth=4,eta=0.1).fit(X_train,Y_train)\n",
    "y_pred = model.predict(X_test)"
   ]
  },
  {
   "cell_type": "code",
   "execution_count": null,
   "id": "472c42a4",
   "metadata": {},
   "outputs": [],
   "source": [
    "model = xgb.XGBRegressor(n_estimators=500, max_depth=4,eta=0.1).fit(X_train,Y_train)\n",
    "y_pred = model.predict(X_test)"
   ]
  },
  {
   "cell_type": "code",
   "execution_count": null,
   "id": "65cc4686",
   "metadata": {},
   "outputs": [],
   "source": [
    "model.score(X_test, Y_test)"
   ]
  },
  {
   "cell_type": "code",
   "execution_count": null,
   "id": "0c370599",
   "metadata": {},
   "outputs": [],
   "source": [
    "import xgboost as xgb\n",
    "model = xgb.XGBRegressor(n_estimators=500, max_depth=4,eta=0.1).fit(X_train,Y_train)\n",
    "y_pred = model.predict(X_test)"
   ]
  },
  {
   "cell_type": "code",
   "execution_count": null,
   "id": "7eec41a8",
   "metadata": {},
   "outputs": [],
   "source": [
    "model.score(X_test, Y_test)"
   ]
  },
  {
   "cell_type": "code",
   "execution_count": null,
   "id": "81e639e5",
   "metadata": {},
   "outputs": [],
   "source": [
    "import xgboost as xgb\n",
    "model = xgb.XGBRegressor(n_estimators=400, max_depth=4,eta=0.1).fit(X_train,Y_train)\n",
    "y_pred = model.predict(X_test)"
   ]
  },
  {
   "cell_type": "code",
   "execution_count": null,
   "id": "1a01d64e",
   "metadata": {},
   "outputs": [],
   "source": [
    "model.score(X_test, Y_test)"
   ]
  },
  {
   "cell_type": "code",
   "execution_count": null,
   "id": "55801a32",
   "metadata": {},
   "outputs": [],
   "source": [
    "import xgboost as xgb\n",
    "model = xgb.XGBRegressor(n_estimators=600, max_depth=4,eta=0.1).fit(X_train,Y_train)\n",
    "y_pred = model.predict(X_test)"
   ]
  },
  {
   "cell_type": "code",
   "execution_count": null,
   "id": "dfaa9217",
   "metadata": {},
   "outputs": [],
   "source": [
    "model.score(X_test, Y_test)"
   ]
  },
  {
   "cell_type": "code",
   "execution_count": null,
   "id": "6d4fec18",
   "metadata": {},
   "outputs": [],
   "source": [
    "from sklearn.model_selection import train_test_split\n",
    "from sklearn.linear_model import LinearRegression\n",
    "X_train, X_test,Y_train, Y_test = train_test_split(X,Y,test_size = 0.2, random_state=28)"
   ]
  },
  {
   "cell_type": "code",
   "execution_count": null,
   "id": "1b07d7a9",
   "metadata": {},
   "outputs": [],
   "source": [
    "import xgboost as xgb\n",
    "model = xgb.XGBRegressor(n_estimators=600, max_depth=4,eta=0.1).fit(X_train,Y_train)\n",
    "y_pred = model.predict(X_test)"
   ]
  },
  {
   "cell_type": "code",
   "execution_count": null,
   "id": "e9259ff5",
   "metadata": {},
   "outputs": [],
   "source": [
    "model.score(X_test, Y_test)"
   ]
  },
  {
   "cell_type": "code",
   "execution_count": null,
   "id": "30f62ad9",
   "metadata": {},
   "outputs": [],
   "source": [
    "from sklearn.model_selection import train_test_split\n",
    "from sklearn.linear_model import LinearRegression\n",
    "X_train, X_test,Y_train, Y_test = train_test_split(X,Y,test_size = 0.2, random_state=32)"
   ]
  },
  {
   "cell_type": "code",
   "execution_count": null,
   "id": "565eb1f4",
   "metadata": {},
   "outputs": [],
   "source": [
    "import xgboost as xgb\n",
    "model = xgb.XGBRegressor(n_estimators=600, max_depth=4,eta=0.1).fit(X_train,Y_train)\n",
    "y_pred = model.predict(X_test)"
   ]
  },
  {
   "cell_type": "code",
   "execution_count": null,
   "id": "3af762b4",
   "metadata": {},
   "outputs": [],
   "source": [
    "model.score(X_test, Y_test)"
   ]
  },
  {
   "cell_type": "code",
   "execution_count": null,
   "id": "0761a88d",
   "metadata": {},
   "outputs": [],
   "source": [
    "import xgboost as xgb\n",
    "model = xgb.XGBRegressor(n_estimators=500, max_depth=4,eta=0.1).fit(X_train,Y_train)\n",
    "y_pred = model.predict(X_test)"
   ]
  },
  {
   "cell_type": "code",
   "execution_count": null,
   "id": "a88eb8c1",
   "metadata": {},
   "outputs": [],
   "source": [
    "model.score(X_test, Y_test)"
   ]
  },
  {
   "cell_type": "code",
   "execution_count": null,
   "id": "b0ebed2e",
   "metadata": {},
   "outputs": [],
   "source": [
    "get_ipython().run_cell_magic('capture', '', \"%logstop\\n%logstart -t -r -q ipython_command_log.py global\\n\\n#- IRONHACKS RESEARCH TRACKING CODE\\n#----------------------------------\\n# The following code is used to help our research team understand how you \\n# our notebook environment. We do not collect any personal information with\\n# the following code, it is used to measure when and how often you work on\\n# your submission files.\\n\\nimport os\\nfrom datetime import datetime\\nimport IPython.core.history as history\\n\\nha = history.HistoryAccessor()\\nha_tail = ha.get_tail(1)\\nha_cmd = next(ha_tail)\\nsession_id = str(ha_cmd[0])\\ncommand_id = str(ha_cmd[1])\\ntimestamp = datetime.utcnow().isoformat()\\nhistory_line = ','.join([session_id, command_id, timestamp]) + '\\\\n'\\nlogfile = open(os.environ['HOME']+'/ipython_session_log.csv', 'a')\\nlogfile.write(history_line)\\nlogfile.close()\\n\")"
   ]
  },
  {
   "cell_type": "code",
   "execution_count": null,
   "id": "b9a1d0f8",
   "metadata": {},
   "outputs": [],
   "source": [
    "ttt = model.fit(pred_data)"
   ]
  },
  {
   "cell_type": "code",
   "execution_count": null,
   "id": "8750fb43",
   "metadata": {},
   "outputs": [],
   "source": [
    "pred = model.predict(pred_data)"
   ]
  },
  {
   "cell_type": "code",
   "execution_count": null,
   "id": "e74ab4c7",
   "metadata": {},
   "outputs": [],
   "source": [
    "pred_data.info()"
   ]
  },
  {
   "cell_type": "code",
   "execution_count": null,
   "id": "add08378",
   "metadata": {},
   "outputs": [],
   "source": [
    "unemp_data.describe()"
   ]
  },
  {
   "cell_type": "code",
   "execution_count": null,
   "id": "d478128f",
   "metadata": {},
   "outputs": [],
   "source": [
    "tt = pred_data.merge(fin,how = 'left',on= 'uu_id')\n",
    "tt                     "
   ]
  },
  {
   "cell_type": "code",
   "execution_count": null,
   "id": "f72fcda1",
   "metadata": {},
   "outputs": [],
   "source": [
    "tt = pred_data.merge(fin,how = 'left', final_data= 'uu_id')\n",
    "tt                     "
   ]
  },
  {
   "cell_type": "code",
   "execution_count": null,
   "id": "8fdad112",
   "metadata": {},
   "outputs": [],
   "source": [
    "tt = pred_data.merge(final_data,how = 'left', on= 'uu_id')\n",
    "tt                     "
   ]
  },
  {
   "cell_type": "code",
   "execution_count": null,
   "id": "00028d78",
   "metadata": {},
   "outputs": [],
   "source": [
    "final_data1 = final_data.drop(['timeperiod','tract_x','tract_name_x','tract_y','tract_name_y','countyfips_y'],axis=1)"
   ]
  },
  {
   "cell_type": "code",
   "execution_count": null,
   "id": "1a415b93",
   "metadata": {},
   "outputs": [],
   "source": [
    "fin = final_data1.set_index('uu_id')"
   ]
  },
  {
   "cell_type": "code",
   "execution_count": null,
   "id": "f06491ac",
   "metadata": {},
   "outputs": [],
   "source": [
    "fin = pd.get_dummies(final_data1,columns = ['week_number','countyfips_x','top_category_employer1','top_category_employer2','top_category_employer3'])"
   ]
  },
  {
   "cell_type": "code",
   "execution_count": null,
   "id": "81709ae6",
   "metadata": {},
   "outputs": [],
   "source": [
    "fin.shape"
   ]
  },
  {
   "cell_type": "code",
   "execution_count": null,
   "id": "5c57a496",
   "metadata": {},
   "outputs": [],
   "source": [
    "X = fin.drop(['total_claims'],axis=1)\n",
    "Y = fin['total_claims']"
   ]
  },
  {
   "cell_type": "code",
   "execution_count": null,
   "id": "c38d8484",
   "metadata": {},
   "outputs": [],
   "source": [
    "from sklearn.model_selection import train_test_split\n",
    "from sklearn.linear_model import LinearRegression\n",
    "X_train, X_test,Y_train, Y_test = train_test_split(X,Y,test_size = 0.2, random_state=32)"
   ]
  },
  {
   "cell_type": "code",
   "execution_count": null,
   "id": "9a16c8f3",
   "metadata": {},
   "outputs": [],
   "source": [
    "import xgboost as xgb\n",
    "model = xgb.XGBRegressor(n_estimators=500, max_depth=4,eta=0.1).fit(X_train,Y_train)\n",
    "y_pred = model.predict(X_test)"
   ]
  },
  {
   "cell_type": "code",
   "execution_count": null,
   "id": "e029995e",
   "metadata": {},
   "outputs": [],
   "source": [
    "final_data1 = final_data.drop(['timeperiod','tract_x','tract_name_x','tract_y','tract_name_y','countyfips_y'],axis=1)"
   ]
  },
  {
   "cell_type": "code",
   "execution_count": null,
   "id": "4ea537b9",
   "metadata": {},
   "outputs": [],
   "source": [
    "fin = pd.get_dummies(final_data1,columns = ['week_number','countyfips_x','top_category_employer1','top_category_employer2','top_category_employer3'])"
   ]
  },
  {
   "cell_type": "code",
   "execution_count": null,
   "id": "28292453",
   "metadata": {},
   "outputs": [],
   "source": [
    "X = fin.drop(['total_claims'],axis=1)\n",
    "Y = fin['total_claims']"
   ]
  },
  {
   "cell_type": "code",
   "execution_count": null,
   "id": "d8cff492",
   "metadata": {},
   "outputs": [],
   "source": [
    "from sklearn.model_selection import train_test_split\n",
    "from sklearn.linear_model import LinearRegression\n",
    "X_train, X_test,Y_train, Y_test = train_test_split(X,Y,test_size = 0.2, random_state=32)"
   ]
  },
  {
   "cell_type": "code",
   "execution_count": null,
   "id": "fe521c43",
   "metadata": {},
   "outputs": [],
   "source": [
    "X_train_data = X_train.drop(['uu_id'],axis=1)\n",
    "X_test_data = X_test.drop(['uu_id'],axis=1)"
   ]
  },
  {
   "cell_type": "code",
   "execution_count": null,
   "id": "a30befca",
   "metadata": {},
   "outputs": [],
   "source": [
    "lm = LinearRegression().fit(X_train_data,Y_train)\n",
    "prediction = lm.predict(X_test_data)"
   ]
  },
  {
   "cell_type": "code",
   "execution_count": null,
   "id": "30b5bad8",
   "metadata": {},
   "outputs": [],
   "source": [
    "lm.score(X_test_data, Y_test)"
   ]
  },
  {
   "cell_type": "code",
   "execution_count": null,
   "id": "b8f20575",
   "metadata": {},
   "outputs": [],
   "source": [
    "fin = fin.set_index('uu_id')\n",
    "X_train, X_test, y_train, y_test = test_train_split(fin.ix[:, ~fin.columns.isin(['total_claims'])], fin.total_claims)"
   ]
  },
  {
   "cell_type": "code",
   "execution_count": null,
   "id": "dca15d23",
   "metadata": {},
   "outputs": [],
   "source": [
    "fin = fin.set_index('uu_id')\n",
    "X_train, X_test, y_train, y_test = train_test_split(fin.ix[:, ~fin.columns.isin(['total_claims'])], fin.total_claims)"
   ]
  },
  {
   "cell_type": "code",
   "execution_count": null,
   "id": "02698dc0",
   "metadata": {},
   "outputs": [],
   "source": [
    "final_data1 = final_data.drop(['timeperiod','tract_x','tract_name_x','tract_y','tract_name_y','countyfips_y'],axis=1)"
   ]
  },
  {
   "cell_type": "code",
   "execution_count": null,
   "id": "fbcffcff",
   "metadata": {},
   "outputs": [],
   "source": [
    "fin = pd.get_dummies(final_data1,columns = ['week_number','countyfips_x','top_category_employer1','top_category_employer2','top_category_employer3'])"
   ]
  },
  {
   "cell_type": "code",
   "execution_count": null,
   "id": "07e47a52",
   "metadata": {},
   "outputs": [],
   "source": [
    "fin = fin.set_index('uu_id')\n",
    "X_train, X_test, y_train, y_test = train_test_split(fin.ix[:, ~fin.columns.isin(['total_claims'])], fin.total_claims)"
   ]
  },
  {
   "cell_type": "code",
   "execution_count": null,
   "id": "8c7f6630",
   "metadata": {},
   "outputs": [],
   "source": [
    "fin = fin.set_index('uu_id')\n",
    "X = fin.drop(['total_claims'],axis=1)\n",
    "Y=fin['total_claims']\n",
    "#X_train, X_test, y_train, y_test = train_test_split(fin.ix[:, ~fin.columns.isin(['total_claims'])], fin.total_claims)"
   ]
  },
  {
   "cell_type": "code",
   "execution_count": null,
   "id": "196ea8b2",
   "metadata": {},
   "outputs": [],
   "source": [
    "fin = pd.get_dummies(final_data1,columns = ['week_number','countyfips_x','top_category_employer1','top_category_employer2','top_category_employer3'])"
   ]
  },
  {
   "cell_type": "code",
   "execution_count": null,
   "id": "5eacbcf8",
   "metadata": {},
   "outputs": [],
   "source": [
    "fin = fin.set_index('uu_id')\n",
    "X = fin.drop(['total_claims'],axis=1)\n",
    "Y=fin['total_claims']\n",
    "#X_train, X_test, y_train, y_test = train_test_split(fin.ix[:, ~fin.columns.isin(['total_claims'])], fin.total_claims)"
   ]
  },
  {
   "cell_type": "code",
   "execution_count": null,
   "id": "74842806",
   "metadata": {},
   "outputs": [],
   "source": [
    "from sklearn.model_selection import train_test_split\n",
    "from sklearn.linear_model import LinearRegression\n",
    "X_train, X_test,Y_train, Y_test = train_test_split(X,Y,test_size = 0.2, random_state=32)"
   ]
  },
  {
   "cell_type": "code",
   "execution_count": null,
   "id": "f697a06c",
   "metadata": {},
   "outputs": [],
   "source": [
    "lm = LinearRegression().fit(X_train_data,Y_train)\n",
    "prediction = lm.predict(X_test_data)"
   ]
  },
  {
   "cell_type": "code",
   "execution_count": null,
   "id": "e033bd84",
   "metadata": {},
   "outputs": [],
   "source": [
    "lm.score(X_test_data, Y_test)"
   ]
  },
  {
   "cell_type": "code",
   "execution_count": null,
   "id": "100fb61b",
   "metadata": {},
   "outputs": [],
   "source": [
    "lm = LinearRegression().fit(X_train,Y_train)\n",
    "prediction = lm.predict(X_test)"
   ]
  },
  {
   "cell_type": "code",
   "execution_count": null,
   "id": "2479face",
   "metadata": {},
   "outputs": [],
   "source": [
    "lm.score(X_test, Y_test)"
   ]
  },
  {
   "cell_type": "code",
   "execution_count": null,
   "id": "15cb7228",
   "metadata": {},
   "outputs": [],
   "source": [
    "final_data1 = final_data.drop(['timeperiod','tract_x','tract_name_x','tract_y','tract_name_y','countyfips_y'],axis=1)"
   ]
  },
  {
   "cell_type": "code",
   "execution_count": null,
   "id": "29b92271",
   "metadata": {},
   "outputs": [],
   "source": [
    "fin = pd.get_dummies(final_data1,columns = ['week_number','countyfips_x','top_category_employer1','top_category_employer2','top_category_employer3'])"
   ]
  },
  {
   "cell_type": "code",
   "execution_count": null,
   "id": "8ec95a29",
   "metadata": {},
   "outputs": [],
   "source": [
    "fin = fin.set_index('uu_id')\n",
    "X = fin.drop(['total_claims'],axis=1)\n",
    "Y=fin['total_claims']\n",
    "#X_train, X_test, y_train, y_test = train_test_split(fin.ix[:, ~fin.columns.isin(['total_claims'])], fin.total_claims)"
   ]
  },
  {
   "cell_type": "code",
   "execution_count": null,
   "id": "aca006fb",
   "metadata": {},
   "outputs": [],
   "source": [
    "from sklearn.model_selection import train_test_split\n",
    "from sklearn.linear_model import LinearRegression\n",
    "X_train, X_test,Y_train, Y_test = train_test_split(X,Y,test_size = 0.2, random_state=32)"
   ]
  },
  {
   "cell_type": "code",
   "execution_count": null,
   "id": "b8a55066",
   "metadata": {},
   "outputs": [],
   "source": [
    "lm = LinearRegression().fit(X_train,Y_train)\n",
    "prediction = lm.predict(X_test)"
   ]
  },
  {
   "cell_type": "code",
   "execution_count": null,
   "id": "801963a4",
   "metadata": {},
   "outputs": [],
   "source": [
    "lm.score(X_test, Y_test)"
   ]
  },
  {
   "cell_type": "code",
   "execution_count": null,
   "id": "f4f4f9f4",
   "metadata": {},
   "outputs": [],
   "source": [
    "final_data1 = final_data.drop(['timeperiod','tract_x','tract_name_x','tract_y','tract_name_y','countyfips_y'],axis=1)"
   ]
  },
  {
   "cell_type": "code",
   "execution_count": null,
   "id": "bd699c04",
   "metadata": {},
   "outputs": [],
   "source": [
    "fin = pd.get_dummies(final_data1,columns = ['week_number','countyfips_x','top_category_employer1','top_category_employer2','top_category_employer3'])"
   ]
  },
  {
   "cell_type": "code",
   "execution_count": null,
   "id": "9d5a4b9c",
   "metadata": {},
   "outputs": [],
   "source": [
    "X = fin.drop(['uu_id','total_claims'],axis=1)\n",
    "Y=fin['total_claims']"
   ]
  },
  {
   "cell_type": "code",
   "execution_count": null,
   "id": "7093815b",
   "metadata": {},
   "outputs": [],
   "source": [
    "from sklearn.model_selection import train_test_split\n",
    "from sklearn.linear_model import LinearRegression\n",
    "X_train, X_test,Y_train, Y_test = train_test_split(X,Y,test_size = 0.2, random_state=32)"
   ]
  },
  {
   "cell_type": "code",
   "execution_count": null,
   "id": "b8502469",
   "metadata": {},
   "outputs": [],
   "source": [
    "lm = LinearRegression().fit(X_train,Y_train)\n",
    "prediction = lm.predict(X_test)"
   ]
  },
  {
   "cell_type": "code",
   "execution_count": null,
   "id": "32c52f83",
   "metadata": {},
   "outputs": [],
   "source": [
    "lm.score(X_test, Y_test)"
   ]
  },
  {
   "cell_type": "code",
   "execution_count": null,
   "id": "68c6efe0",
   "metadata": {},
   "outputs": [],
   "source": [
    "final_data = unemp_data.merge(wage_data,how='left', on = 'uu_id')"
   ]
  },
  {
   "cell_type": "code",
   "execution_count": null,
   "id": "9a74f70d",
   "metadata": {},
   "outputs": [],
   "source": [
    "final_data.info()"
   ]
  },
  {
   "cell_type": "code",
   "execution_count": null,
   "id": "710578bc",
   "metadata": {},
   "outputs": [],
   "source": [
    "final_data1 = final_data.drop(['timeperiod','tract_x','tract_name_x','tract_y','tract_name_y','countyfips_y'],axis=1)"
   ]
  },
  {
   "cell_type": "code",
   "execution_count": null,
   "id": "1db131cd",
   "metadata": {},
   "outputs": [],
   "source": [
    "fin = pd.get_dummies(final_data1,columns = ['week_number','countyfips_x','top_category_employer1','top_category_employer2','top_category_employer3'])"
   ]
  },
  {
   "cell_type": "code",
   "execution_count": null,
   "id": "e771d11c",
   "metadata": {},
   "outputs": [],
   "source": [
    "X = fin.drop(['uu_id','total_claims'],axis=1)\n",
    "Y=fin['total_claims']"
   ]
  },
  {
   "cell_type": "code",
   "execution_count": null,
   "id": "abade4d4",
   "metadata": {},
   "outputs": [],
   "source": [
    "X = fin.drop(['uu_id','total_claims'],axis=1)\n",
    "Y=fin[['total_claims']]"
   ]
  },
  {
   "cell_type": "code",
   "execution_count": null,
   "id": "7b76978a",
   "metadata": {},
   "outputs": [],
   "source": [
    "from sklearn.model_selection import train_test_split\n",
    "from sklearn.linear_model import LinearRegression\n",
    "X_train, X_test,Y_train, Y_test = train_test_split(X,Y,test_size = 0.2, random_state=32)"
   ]
  },
  {
   "cell_type": "code",
   "execution_count": null,
   "id": "93834295",
   "metadata": {},
   "outputs": [],
   "source": [
    "lm = LinearRegression().fit(X_train,Y_train)\n",
    "prediction = lm.predict(X_test)"
   ]
  },
  {
   "cell_type": "code",
   "execution_count": null,
   "id": "7ddfefa1",
   "metadata": {},
   "outputs": [],
   "source": [
    "lm.score(X_test, Y_test)"
   ]
  },
  {
   "cell_type": "code",
   "execution_count": null,
   "id": "355f276f",
   "metadata": {},
   "outputs": [],
   "source": [
    "X = fin.drop(['uu_id','total_claims'],axis=1)\n",
    "Y=fin['total_claims']"
   ]
  },
  {
   "cell_type": "code",
   "execution_count": null,
   "id": "621186f3",
   "metadata": {},
   "outputs": [],
   "source": [
    "from sklearn.model_selection import train_test_split\n",
    "from sklearn.linear_model import LinearRegression\n",
    "X_train, X_test,Y_train, Y_test = train_test_split(X,Y,test_size = 0.2, random_state=32)"
   ]
  },
  {
   "cell_type": "code",
   "execution_count": null,
   "id": "cd251eec",
   "metadata": {},
   "outputs": [],
   "source": [
    "lm = LinearRegression().fit(X_train,Y_train)\n",
    "prediction = lm.predict(X_test)"
   ]
  },
  {
   "cell_type": "code",
   "execution_count": null,
   "id": "285095a5",
   "metadata": {},
   "outputs": [],
   "source": [
    "lm.score(X_test, Y_test)"
   ]
  },
  {
   "cell_type": "code",
   "execution_count": null,
   "id": "bcdb15cc",
   "metadata": {},
   "outputs": [],
   "source": [
    "import xgboost as xgb\n",
    "model = xgb.XGBRegressor(n_estimators=500, max_depth=4,eta=0.1).fit(X_train,Y_train)\n",
    "y_pred = model.predict(X_test)"
   ]
  },
  {
   "cell_type": "code",
   "execution_count": null,
   "id": "625f8bbf",
   "metadata": {},
   "outputs": [],
   "source": [
    "model.score(X_test, Y_test)"
   ]
  },
  {
   "cell_type": "code",
   "execution_count": null,
   "id": "d3d13ccc",
   "metadata": {},
   "outputs": [],
   "source": [
    "df_pred_final = pred_data[['uu_id']]\n",
    "df_pred_final['week_number'] = pred_data[['week_number']]\n",
    "df_pred_final[\"total_claims\"] = y_pred"
   ]
  },
  {
   "cell_type": "code",
   "execution_count": null,
   "id": "eea07eda",
   "metadata": {},
   "outputs": [],
   "source": [
    "Y_test_final = pred_data.merge(fin,how='left',on= 'uu_id')"
   ]
  },
  {
   "cell_type": "code",
   "execution_count": null,
   "id": "7583e235",
   "metadata": {},
   "outputs": [],
   "source": [
    "Y_test_final"
   ]
  },
  {
   "cell_type": "code",
   "execution_count": null,
   "id": "510ae70e",
   "metadata": {},
   "outputs": [],
   "source": [
    "Y_test_final = pred_data.merge(fin,how='inner',on= 'uu_id')"
   ]
  },
  {
   "cell_type": "code",
   "execution_count": null,
   "id": "67a637a0",
   "metadata": {},
   "outputs": [],
   "source": [
    "Y_test_final"
   ]
  },
  {
   "cell_type": "code",
   "execution_count": null,
   "id": "b96a7a73",
   "metadata": {},
   "outputs": [],
   "source": [
    "Y_test_final"
   ]
  },
  {
   "cell_type": "code",
   "execution_count": null,
   "id": "0cdbb2f2",
   "metadata": {},
   "outputs": [],
   "source": [
    "Y_test_final = pred_data.merge(fin,how='right',on= 'uu_id')"
   ]
  },
  {
   "cell_type": "code",
   "execution_count": null,
   "id": "4b09f4fb",
   "metadata": {},
   "outputs": [],
   "source": [
    "Y_test_final"
   ]
  },
  {
   "cell_type": "code",
   "execution_count": null,
   "id": "e1859b7b",
   "metadata": {},
   "outputs": [],
   "source": [
    "Y_test_final = pred_data.merge(fin,how='left',on= 'uu_id')"
   ]
  },
  {
   "cell_type": "code",
   "execution_count": null,
   "id": "04dd2faf",
   "metadata": {},
   "outputs": [],
   "source": [
    "Y_test_final"
   ]
  },
  {
   "cell_type": "code",
   "execution_count": null,
   "id": "ace238ea",
   "metadata": {},
   "outputs": [],
   "source": [
    "df_test = fin[fin.uu_id == i for i in pred_data['uu_id']]\n",
    "df_test"
   ]
  },
  {
   "cell_type": "code",
   "execution_count": null,
   "id": "e5192ef5",
   "metadata": {},
   "outputs": [],
   "source": [
    "Y_test_final = pred_data.join(fin)"
   ]
  },
  {
   "cell_type": "code",
   "execution_count": null,
   "id": "7fe2343e",
   "metadata": {},
   "outputs": [],
   "source": [
    "final_data1 = final_data.drop(['timeperiod','tract_x','tract_name_x','tract_y','tract_name_y','countyfips_y'],axis=1)"
   ]
  },
  {
   "cell_type": "code",
   "execution_count": null,
   "id": "d969043b",
   "metadata": {},
   "outputs": [],
   "source": [
    "fin = pd.get_dummies(final_data1,columns = ['week_number','countyfips_x','top_category_employer1','top_category_employer2','top_category_employer3'])"
   ]
  },
  {
   "cell_type": "code",
   "execution_count": null,
   "id": "8fc12be2",
   "metadata": {},
   "outputs": [],
   "source": [
    "Y_test_final = pred_data.join(fin)"
   ]
  },
  {
   "cell_type": "code",
   "execution_count": null,
   "id": "556c5aad",
   "metadata": {},
   "outputs": [],
   "source": [
    "Y_test_final = pred_data.merge(fin,how='left',on = 'uu_id')"
   ]
  },
  {
   "cell_type": "code",
   "execution_count": null,
   "id": "40c55297",
   "metadata": {},
   "outputs": [],
   "source": [
    "Y_test_final"
   ]
  },
  {
   "cell_type": "code",
   "execution_count": null,
   "id": "3b6f55bd",
   "metadata": {},
   "outputs": [],
   "source": [
    "pred_data = pred_data.set_index('uu_id')\n",
    "fin = fin.set_index('uu_id)\n",
    "Y_test_final = pred_data.join(fin)"
   ]
  },
  {
   "cell_type": "code",
   "execution_count": null,
   "id": "428594d8",
   "metadata": {},
   "outputs": [],
   "source": [
    "pred_data = pred_data.set_index('uu_id')\n",
    "fin = fin.set_index('uu_id')\n",
    "Y_test_final = pred_data.join(fin)"
   ]
  },
  {
   "cell_type": "code",
   "execution_count": null,
   "id": "6ecef208",
   "metadata": {},
   "outputs": [],
   "source": [
    "Y_test_final"
   ]
  },
  {
   "cell_type": "code",
   "execution_count": null,
   "id": "faf400a7",
   "metadata": {},
   "outputs": [],
   "source": [
    "X = fin.drop(['uu_id','total_claims'],axis=1)\n",
    "Y=fin['total_claims']"
   ]
  },
  {
   "cell_type": "code",
   "execution_count": null,
   "id": "af4fd3bc",
   "metadata": {},
   "outputs": [],
   "source": [
    "final_data1 = final_data.drop(['timeperiod','tract_x','tract_name_x','tract_y','tract_name_y','countyfips_y'],axis=1)"
   ]
  },
  {
   "cell_type": "code",
   "execution_count": null,
   "id": "9641d753",
   "metadata": {},
   "outputs": [],
   "source": [
    "fin = pd.get_dummies(final_data1,columns = ['week_number','countyfips_x','top_category_employer1','top_category_employer2','top_category_employer3'])"
   ]
  },
  {
   "cell_type": "code",
   "execution_count": null,
   "id": "cff3dc67",
   "metadata": {},
   "outputs": [],
   "source": [
    "X = fin.drop(['uu_id','total_claims'],axis=1)\n",
    "Y=fin['total_claims']"
   ]
  },
  {
   "cell_type": "code",
   "execution_count": null,
   "id": "71f2b16b",
   "metadata": {},
   "outputs": [],
   "source": [
    "from sklearn.model_selection import train_test_split\n",
    "X_train, X_test,Y_train, Y_test = train_test_split(X,Y,test_size = 0.2, random_state=32)"
   ]
  },
  {
   "cell_type": "code",
   "execution_count": null,
   "id": "14adac88",
   "metadata": {},
   "outputs": [],
   "source": [
    "import xgboost as xgb\n",
    "model = xgb.XGBRegressor(n_estimators=500, max_depth=4,eta=0.1).fit(X_train,Y_train)\n",
    "y_pred = model.predict(X_test)"
   ]
  },
  {
   "cell_type": "code",
   "execution_count": null,
   "id": "ccda56c1",
   "metadata": {},
   "outputs": [],
   "source": [
    "df_test = pred_data.merge(fin,how='left',on= 'uu_id')"
   ]
  },
  {
   "cell_type": "code",
   "execution_count": null,
   "id": "f12d5408",
   "metadata": {},
   "outputs": [],
   "source": [
    "X_df_test = df_test.drop(['uu_id','total_claims'],axis=1)\n",
    "Y_df_test = df_test['total_claims']"
   ]
  },
  {
   "cell_type": "code",
   "execution_count": null,
   "id": "9e7117cb",
   "metadata": {},
   "outputs": [],
   "source": [
    "prediction = model.predict(X_df_test)"
   ]
  },
  {
   "cell_type": "code",
   "execution_count": null,
   "id": "fd859045",
   "metadata": {},
   "outputs": [],
   "source": [
    "df_test"
   ]
  },
  {
   "cell_type": "code",
   "execution_count": null,
   "id": "9791706d",
   "metadata": {},
   "outputs": [],
   "source": [
    "final_data1 = final_data.drop(['timeperiod','tract_x','tract_name_x','tract_y','tract_name_y','countyfips_y','week_number'],axis=1)"
   ]
  },
  {
   "cell_type": "code",
   "execution_count": null,
   "id": "90051958",
   "metadata": {},
   "outputs": [],
   "source": [
    "fin = pd.get_dummies(final_data1,columns = ['countyfips_x','top_category_employer1','top_category_employer2','top_category_employer3'])"
   ]
  },
  {
   "cell_type": "code",
   "execution_count": null,
   "id": "efe7ca2f",
   "metadata": {},
   "outputs": [],
   "source": [
    "X = fin.drop(['uu_id','total_claims'],axis=1)\n",
    "Y=fin['total_claims']"
   ]
  },
  {
   "cell_type": "code",
   "execution_count": null,
   "id": "e14a619e",
   "metadata": {},
   "outputs": [],
   "source": [
    "from sklearn.model_selection import train_test_split\n",
    "X_train, X_test,Y_train, Y_test = train_test_split(X,Y,test_size = 0.2, random_state=32)"
   ]
  },
  {
   "cell_type": "code",
   "execution_count": null,
   "id": "5b44a55b",
   "metadata": {},
   "outputs": [],
   "source": [
    "import xgboost as xgb\n",
    "model = xgb.XGBRegressor(n_estimators=500, max_depth=4,eta=0.1).fit(X_train,Y_train)\n",
    "y_pred = model.predict(X_test)"
   ]
  },
  {
   "cell_type": "code",
   "execution_count": null,
   "id": "8518bb61",
   "metadata": {},
   "outputs": [],
   "source": [
    "model.score(X_test, Y_test)"
   ]
  },
  {
   "cell_type": "code",
   "execution_count": null,
   "id": "f1f0c1bd",
   "metadata": {},
   "outputs": [],
   "source": [
    "df_test = pred_data.merge(fin,how='left',on= 'uu_id')"
   ]
  },
  {
   "cell_type": "code",
   "execution_count": null,
   "id": "62228fc5",
   "metadata": {},
   "outputs": [],
   "source": [
    "X_df_test = df_test.drop(['uu_id','week_number','total_claims'],axis=1)\n",
    "Y_df_test = df_test['total_claims']"
   ]
  },
  {
   "cell_type": "code",
   "execution_count": null,
   "id": "2366842d",
   "metadata": {},
   "outputs": [],
   "source": [
    "prediction = model.predict(X_df_test)"
   ]
  },
  {
   "cell_type": "code",
   "execution_count": null,
   "id": "a8caedcb",
   "metadata": {},
   "outputs": [],
   "source": [
    "model.score(X_df_test,Y_df_test)"
   ]
  },
  {
   "cell_type": "code",
   "execution_count": null,
   "id": "9cd5d8f8",
   "metadata": {},
   "outputs": [],
   "source": [
    "df_pred_final = pred_data[['uu_id']]\n",
    "df_pred_final['week_number'] = pred_data[['week_number']]\n",
    "df_pred_final[\"total_claims\"] = prediction"
   ]
  },
  {
   "cell_type": "code",
   "execution_count": null,
   "id": "c89add68",
   "metadata": {},
   "outputs": [],
   "source": [
    "df_pred_final = pred_data[['uu_id']]"
   ]
  },
  {
   "cell_type": "code",
   "execution_count": null,
   "id": "05675089",
   "metadata": {},
   "outputs": [],
   "source": [
    "df_pred_final = pred_data['uu_id']"
   ]
  },
  {
   "cell_type": "code",
   "execution_count": null,
   "id": "54b7819e",
   "metadata": {},
   "outputs": [],
   "source": [
    "df_pred_final['uu_id'] = pred_data['uu_id']"
   ]
  },
  {
   "cell_type": "code",
   "execution_count": null,
   "id": "b0311d00",
   "metadata": {},
   "outputs": [],
   "source": [
    "df_pred_final['uu_id'] = pred_data[['uu_id']]"
   ]
  },
  {
   "cell_type": "code",
   "execution_count": null,
   "id": "31592a45",
   "metadata": {},
   "outputs": [],
   "source": [
    "df_pred_final1['uu_id'] = pred_data[['uu_id']]"
   ]
  },
  {
   "cell_type": "code",
   "execution_count": null,
   "id": "ebf3db84",
   "metadata": {},
   "outputs": [],
   "source": [
    "df_pred_final2 = pred_data[['uu_id']]"
   ]
  },
  {
   "cell_type": "code",
   "execution_count": null,
   "id": "4809b424",
   "metadata": {},
   "outputs": [],
   "source": [
    "df_pred_final['week_number'] = pred_data[['week_number']]\n",
    "df_pred_final[\"total_claims\"] = prediction"
   ]
  },
  {
   "cell_type": "code",
   "execution_count": null,
   "id": "a5cba250",
   "metadata": {},
   "outputs": [],
   "source": [
    "df_pred_final_yams = pred_data[['uu_id']]"
   ]
  },
  {
   "cell_type": "code",
   "execution_count": null,
   "id": "5ec70624",
   "metadata": {},
   "outputs": [],
   "source": [
    "df_pred_final_yams == pred_data[['uu_id']]"
   ]
  },
  {
   "cell_type": "code",
   "execution_count": null,
   "id": "8e0df5c7",
   "metadata": {},
   "outputs": [],
   "source": [
    "df_pred_final_yams=[]\n",
    "df_pred_final_yams == pred_data[['uu_id']]"
   ]
  },
  {
   "cell_type": "code",
   "execution_count": null,
   "id": "df519673",
   "metadata": {},
   "outputs": [],
   "source": [
    "df_pred_final_1 = df_test[['uu_id']]"
   ]
  },
  {
   "cell_type": "code",
   "execution_count": null,
   "id": "c8c1b764",
   "metadata": {},
   "outputs": [],
   "source": [
    "df_pred_final_1['week_number'] = df_test[['week_number']]"
   ]
  },
  {
   "cell_type": "code",
   "execution_count": null,
   "id": "c17dc147",
   "metadata": {},
   "outputs": [],
   "source": [
    "df_pred_final_1['total_claims'] = prediction"
   ]
  },
  {
   "cell_type": "code",
   "execution_count": null,
   "id": "4fe41ca9",
   "metadata": {},
   "outputs": [],
   "source": [
    "df_pred_final_1"
   ]
  },
  {
   "cell_type": "code",
   "execution_count": null,
   "id": "069ef44c",
   "metadata": {},
   "outputs": [],
   "source": [
    "df_final = df_pred_final_1.drop_duplicates(subset=['uu_id'])"
   ]
  },
  {
   "cell_type": "code",
   "execution_count": null,
   "id": "ceaf60df",
   "metadata": {},
   "outputs": [],
   "source": [
    "df_final"
   ]
  },
  {
   "cell_type": "code",
   "execution_count": null,
   "id": "e9ff9eba",
   "metadata": {},
   "outputs": [],
   "source": [
    "fin.shape"
   ]
  },
  {
   "cell_type": "code",
   "execution_count": null,
   "id": "4fccea01",
   "metadata": {},
   "outputs": [],
   "source": [
    "get_ipython().run_cell_magic('capture', '', \"%logstop\\n%logstart -t -r -q ipython_command_log.py global\\n\\n#- IRONHACKS RESEARCH TRACKING CODE\\n#----------------------------------\\n# The following code is used to help our research team understand how you \\n# our notebook environment. We do not collect any personal information with\\n# the following code, it is used to measure when and how often you work on\\n# your submission files.\\n\\nimport os\\nfrom datetime import datetime\\nimport IPython.core.history as history\\n\\nha = history.HistoryAccessor()\\nha_tail = ha.get_tail(1)\\nha_cmd = next(ha_tail)\\nsession_id = str(ha_cmd[0])\\ncommand_id = str(ha_cmd[1])\\ntimestamp = datetime.utcnow().isoformat()\\nhistory_line = ','.join([session_id, command_id, timestamp]) + '\\\\n'\\nlogfile = open(os.environ['HOME']+'/ipython_session_log.csv', 'a')\\nlogfile.write(history_line)\\nlogfile.close()\\n\")"
   ]
  },
  {
   "cell_type": "code",
   "execution_count": null,
   "id": "3c8a559e",
   "metadata": {},
   "outputs": [],
   "source": [
    "df_final.to_csv('submission_prediction_output.csv')"
   ]
  },
  {
   "cell_type": "code",
   "execution_count": null,
   "id": "1cd2c25b",
   "metadata": {
    "lines_to_next_cell": 2
   },
   "outputs": [],
   "source": [
    "get_ipython().run_cell_magic('capture', '', \"%logstop\\n%logstart -t -r -q ipython_command_log.py global\\n\\n#- IRONHACKS RESEARCH TRACKING CODE\\n#----------------------------------\\n# The following code is used to help our research team understand how you \\n# our notebook environment. We do not collect any personal information with\\n# the following code, it is used to measure when and how often you work on\\n# your submission files.\\n\\nimport os\\nfrom datetime import datetime\\nimport IPython.core.history as history\\n\\nha = history.HistoryAccessor()\\nha_tail = ha.get_tail(1)\\nha_cmd = next(ha_tail)\\nsession_id = str(ha_cmd[0])\\ncommand_id = str(ha_cmd[1])\\ntimestamp = datetime.utcnow().isoformat()\\nhistory_line = ','.join([session_id, command_id, timestamp]) + '\\\\n'\\nlogfile = open(os.environ['HOME']+'/ipython_session_log.csv', 'a')\\nlogfile.write(history_line)\\nlogfile.close()\\n\")"
   ]
  }
 ],
 "metadata": {
  "jupytext": {
   "cell_metadata_filter": "-all",
   "main_language": "python",
   "notebook_metadata_filter": "-all"
  }
 },
 "nbformat": 4,
 "nbformat_minor": 5
}
