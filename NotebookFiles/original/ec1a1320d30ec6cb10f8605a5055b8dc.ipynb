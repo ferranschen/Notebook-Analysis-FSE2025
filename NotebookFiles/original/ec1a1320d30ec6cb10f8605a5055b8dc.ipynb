{
 "cells": [
  {
   "cell_type": "code",
   "execution_count": null,
   "id": "007be824",
   "metadata": {},
   "outputs": [],
   "source": [
    "get_ipython().run_cell_magic('capture', '', \"%logstop\\n%logstart -t -r -q ipython_command_log.py global\\n\\n#- IRONHACKS RESEARCH TRACKING CODE\\n#----------------------------------\\n# The following code is used to help our research team understand how use \\n# our notebook environment. We do not collect any personal information with\\n# the following code, it is used to measure when and how often you work on\\n# your submission files.\\n\\nimport os\\nfrom datetime import datetime\\nimport IPython.core.history as history\\n\\nha = history.HistoryAccessor()\\nha_tail = ha.get_tail(1)\\nha_cmd = next(ha_tail)\\nsession_id = str(ha_cmd[0])\\ncommand_id = str(ha_cmd[1])\\ntimestamp = datetime.utcnow().isoformat()\\nhistory_line = ','.join([session_id, command_id, timestamp]) + '\\\\n'\\nlogfile = open(os.environ['HOME']+'/ipython_session_log.csv', 'a')\\nlogfile.write(history_line)\\nlogfile.close()\\n\")"
   ]
  },
  {
   "cell_type": "code",
   "execution_count": null,
   "id": "5072c91c",
   "metadata": {},
   "outputs": [],
   "source": [
    "get_ipython().run_cell_magic('capture', '', \"\\n#- INSTALL ADDITIONAL LIBRARIES IF REQUIRED\\n#------------------------------------------\\n# This is normally not required. The hub environment comes preinstaled with \\n# many packages that you can already use without setup. In case there is some\\n# other library you would like to use that isn't on the list you run this command\\n# once to install them.  If it is already installed this command has no effect.\\n\\n!python3 -m pip install pandas\\n\")"
   ]
  },
  {
   "cell_type": "code",
   "execution_count": null,
   "id": "d260cf06",
   "metadata": {},
   "outputs": [],
   "source": [
    "get_ipython().run_line_magic('pip', 'install db-dtypes')"
   ]
  },
  {
   "cell_type": "code",
   "execution_count": null,
   "id": "f3443f6e",
   "metadata": {},
   "outputs": [],
   "source": [
    "get_ipython().run_line_magic('pip', 'install plotly')"
   ]
  },
  {
   "cell_type": "markdown",
   "id": "13cb6ce7",
   "metadata": {},
   "source": [
    "- IMPORT THE LIBRARIES YOU WILL USE\n",
    "------------------------------------------\n",
    "You only need to import packages one time per notebook session. To keep your\n",
    "notebook clean and organized you can handle all imports at the top of your file.\n",
    "The following are included for example purposed, feel free to modify or delete \n",
    "anything in this section."
   ]
  },
  {
   "cell_type": "code",
   "execution_count": null,
   "id": "d017b700",
   "metadata": {},
   "outputs": [],
   "source": [
    "import csv\n",
    "import pandas as pd\n",
    "import numpy as np\n",
    "import seaborn as sns\n",
    "import plotly.express as px\n",
    "import csv"
   ]
  },
  {
   "cell_type": "code",
   "execution_count": null,
   "id": "ba46cca4",
   "metadata": {
    "lines_to_next_cell": 1
   },
   "outputs": [],
   "source": [
    "from google.cloud import bigquery\n",
    "from google.oauth2 import service_account\n",
    "from google.cloud.bigquery import magics"
   ]
  },
  {
   "cell_type": "markdown",
   "id": "74b3c64d",
   "metadata": {},
   "source": [
    "- DEFINE YOUR CLASSES AND FUNCTIONS \n",
    "-----------------------------------\n",
    "This is not required, but is helpful in keeping your notebook organized. \n",
    "You can use the following cell or several cells to define your functions\n",
    "and classes to keep them separate from your analysis or results code.\n",
    "In general it useful to define your methods in a separate cell from where\n",
    "it is run."
   ]
  },
  {
   "cell_type": "code",
   "execution_count": null,
   "id": "3adaa767",
   "metadata": {
    "lines_to_next_cell": 1
   },
   "outputs": [],
   "source": [
    "def querydb(request):\n",
    "    query_job = bigquery_client.query(request)\n",
    "    data = query_job.to_dataframe()\n",
    "    return data"
   ]
  },
  {
   "cell_type": "code",
   "execution_count": null,
   "id": "db22d82a",
   "metadata": {
    "lines_to_next_cell": 1
   },
   "outputs": [],
   "source": [
    "def createSubmission():\n",
    "    return"
   ]
  },
  {
   "cell_type": "markdown",
   "id": "bb553d7f",
   "metadata": {},
   "source": [
    "load data\n",
    "CONFIGURE THE BIGQUERY SETTINGS"
   ]
  },
  {
   "cell_type": "code",
   "execution_count": null,
   "id": "79289f5f",
   "metadata": {},
   "outputs": [],
   "source": [
    "BIGQUERY_PROJECT = 'ironhacks-data'\n",
    "bigquery_client = bigquery.Client(project=BIGQUERY_PROJECT)"
   ]
  },
  {
   "cell_type": "code",
   "execution_count": null,
   "id": "c282a383",
   "metadata": {},
   "outputs": [],
   "source": [
    "#Unemployment Data\n",
    "query = \"\"\"\n",
    "SELECT *\n",
    "FROM `ironhacks-data.ironhacks_competition.unemployment_data`\n",
    "\"\"\"\n",
    "unemployment_data = querydb(query)"
   ]
  },
  {
   "cell_type": "code",
   "execution_count": null,
   "id": "9f9cc283",
   "metadata": {},
   "outputs": [],
   "source": [
    "# Wage Data\n",
    "query = \"\"\"\n",
    "SELECT *\n",
    "FROM `ironhacks-data.ironhacks_competition.wage_data`\n",
    "\"\"\"\n",
    "wage_data = querydb(query)"
   ]
  },
  {
   "cell_type": "code",
   "execution_count": null,
   "id": "8ec9df83",
   "metadata": {},
   "outputs": [],
   "source": [
    "# Prediction Data\n",
    "query = \"\"\"\n",
    "SELECT *\n",
    "FROM `ironhacks-data.ironhacks_competition.prediction_list`\n",
    "\"\"\"\n",
    "prediction_data = querydb(query)"
   ]
  },
  {
   "cell_type": "code",
   "execution_count": null,
   "id": "6683ae34",
   "metadata": {},
   "outputs": [],
   "source": [
    "querydb(\"\"\"SELECT * \n",
    "FROM `ironhacks-data.ironhacks_competition.INFORMATION_SCHEMA.TABLES`\"\"\")"
   ]
  },
  {
   "cell_type": "markdown",
   "id": "060ad317",
   "metadata": {},
   "source": [
    "# uu_id = \n",
    "# countyflips =\n",
    "# tract = \n",
    "# tract_name = \n",
    "# average_wage = "
   ]
  },
  {
   "cell_type": "code",
   "execution_count": null,
   "id": "356edc5b",
   "metadata": {},
   "outputs": [],
   "source": [
    "df_wage = wage_data"
   ]
  },
  {
   "cell_type": "code",
   "execution_count": null,
   "id": "5877d738",
   "metadata": {},
   "outputs": [],
   "source": [
    "#should add another column called previous week claims, this would probably be a good predictor for the next week of claims\n",
    "df_un = unemployment_data"
   ]
  },
  {
   "cell_type": "code",
   "execution_count": null,
   "id": "9e773704",
   "metadata": {},
   "outputs": [],
   "source": [
    "df_pred = prediction_data"
   ]
  },
  {
   "cell_type": "code",
   "execution_count": null,
   "id": "0367cab8",
   "metadata": {},
   "outputs": [],
   "source": [
    "get_ipython().run_cell_magic('capture', '', \"%logstop\\n%logstart -t -r -q ipython_command_log.py global\\n\\n#- IRONHACKS RESEARCH TRACKING CODE\\n#----------------------------------\\n# The following code is used to help our research team understand how use \\n# our notebook environment. We do not collect any personal information with\\n# the following code, it is used to measure when and how often you work on\\n# your submission files.\\n\\nimport os\\nfrom datetime import datetime\\nimport IPython.core.history as history\\n\\nha = history.HistoryAccessor()\\nha_tail = ha.get_tail(1)\\nha_cmd = next(ha_tail)\\nsession_id = str(ha_cmd[0])\\ncommand_id = str(ha_cmd[1])\\ntimestamp = datetime.utcnow().isoformat()\\nhistory_line = ','.join([session_id, command_id, timestamp]) + '\\\\n'\\nlogfile = open(os.environ['HOME']+'/ipython_session_log.csv', 'a')\\nlogfile.write(history_line)\\nlogfile.close()\\n\")"
   ]
  },
  {
   "cell_type": "code",
   "execution_count": null,
   "id": "2d790871",
   "metadata": {},
   "outputs": [],
   "source": [
    "get_ipython().run_cell_magic('capture', '', \"\\n#- INSTALL ADDITIONAL LIBRARIES IF REQUIRED\\n#------------------------------------------\\n# This is normally not required. The hub environment comes preinstaled with \\n# many packages that you can already use without setup. In case there is some\\n# other library you would like to use that isn't on the list you run this command\\n# once to install them.  If it is already installed this command has no effect.\\n\\n!python3 -m pip install pandas\\n\")"
   ]
  },
  {
   "cell_type": "code",
   "execution_count": null,
   "id": "89dc5819",
   "metadata": {},
   "outputs": [],
   "source": [
    "get_ipython().run_line_magic('pip', 'install db-dtypes')"
   ]
  },
  {
   "cell_type": "code",
   "execution_count": null,
   "id": "2cd77ba6",
   "metadata": {},
   "outputs": [],
   "source": [
    "get_ipython().run_line_magic('pip', 'install plotly')"
   ]
  },
  {
   "cell_type": "markdown",
   "id": "b8e907ea",
   "metadata": {},
   "source": [
    "- IMPORT THE LIBRARIES YOU WILL USE\n",
    "------------------------------------------\n",
    "You only need to import packages one time per notebook session. To keep your\n",
    "notebook clean and organized you can handle all imports at the top of your file.\n",
    "The following are included for example purposed, feel free to modify or delete \n",
    "anything in this section."
   ]
  },
  {
   "cell_type": "code",
   "execution_count": null,
   "id": "b5b303d9",
   "metadata": {},
   "outputs": [],
   "source": [
    "import csv\n",
    "import pandas as pd\n",
    "import numpy as np\n",
    "import seaborn as sns\n",
    "import plotly.express as px\n",
    "import csv"
   ]
  },
  {
   "cell_type": "code",
   "execution_count": null,
   "id": "fbd59dcc",
   "metadata": {
    "lines_to_next_cell": 1
   },
   "outputs": [],
   "source": [
    "from google.cloud import bigquery\n",
    "from google.oauth2 import service_account\n",
    "from google.cloud.bigquery import magics"
   ]
  },
  {
   "cell_type": "markdown",
   "id": "bd6cf8d3",
   "metadata": {},
   "source": [
    "- DEFINE YOUR CLASSES AND FUNCTIONS \n",
    "-----------------------------------\n",
    "This is not required, but is helpful in keeping your notebook organized. \n",
    "You can use the following cell or several cells to define your functions\n",
    "and classes to keep them separate from your analysis or results code.\n",
    "In general it useful to define your methods in a separate cell from where\n",
    "it is run."
   ]
  },
  {
   "cell_type": "code",
   "execution_count": null,
   "id": "ad820c26",
   "metadata": {
    "lines_to_next_cell": 1
   },
   "outputs": [],
   "source": [
    "def querydb(request):\n",
    "    query_job = bigquery_client.query(request)\n",
    "    data = query_job.to_dataframe()\n",
    "    return data"
   ]
  },
  {
   "cell_type": "code",
   "execution_count": null,
   "id": "f5b3f028",
   "metadata": {
    "lines_to_next_cell": 1
   },
   "outputs": [],
   "source": [
    "def createSubmission():\n",
    "    return"
   ]
  },
  {
   "cell_type": "markdown",
   "id": "c5a0a486",
   "metadata": {},
   "source": [
    "load data\n",
    "CONFIGURE THE BIGQUERY SETTINGS"
   ]
  },
  {
   "cell_type": "code",
   "execution_count": null,
   "id": "94ec6051",
   "metadata": {},
   "outputs": [],
   "source": [
    "BIGQUERY_PROJECT = 'ironhacks-data'\n",
    "bigquery_client = bigquery.Client(project=BIGQUERY_PROJECT)"
   ]
  },
  {
   "cell_type": "code",
   "execution_count": null,
   "id": "1c11df42",
   "metadata": {},
   "outputs": [],
   "source": [
    "#Unemployment Data\n",
    "query = \"\"\"\n",
    "SELECT *\n",
    "FROM `ironhacks-data.ironhacks_competition.unemployment_data`\n",
    "\"\"\"\n",
    "unemployment_data = querydb(query)"
   ]
  },
  {
   "cell_type": "code",
   "execution_count": null,
   "id": "bd9a0b1e",
   "metadata": {},
   "outputs": [],
   "source": [
    "# Wage Data\n",
    "query = \"\"\"\n",
    "SELECT *\n",
    "FROM `ironhacks-data.ironhacks_competition.wage_data`\n",
    "\"\"\"\n",
    "wage_data = querydb(query)"
   ]
  },
  {
   "cell_type": "code",
   "execution_count": null,
   "id": "6d18b6b0",
   "metadata": {},
   "outputs": [],
   "source": [
    "# Prediction Data\n",
    "query = \"\"\"\n",
    "SELECT *\n",
    "FROM `ironhacks-data.ironhacks_competition.prediction_list`\n",
    "\"\"\"\n",
    "prediction_data = querydb(query)"
   ]
  },
  {
   "cell_type": "code",
   "execution_count": null,
   "id": "ac9ac166",
   "metadata": {},
   "outputs": [],
   "source": [
    "querydb(\"\"\"SELECT * \n",
    "FROM `ironhacks-data.ironhacks_competition.INFORMATION_SCHEMA.TABLES`\"\"\")"
   ]
  },
  {
   "cell_type": "markdown",
   "id": "e377320c",
   "metadata": {},
   "source": [
    "# uu_id = \n",
    "# countyflips =\n",
    "# tract = \n",
    "# tract_name = \n",
    "# average_wage = "
   ]
  },
  {
   "cell_type": "code",
   "execution_count": null,
   "id": "21f10dff",
   "metadata": {},
   "outputs": [],
   "source": [
    "df_wage = wage_data"
   ]
  },
  {
   "cell_type": "code",
   "execution_count": null,
   "id": "96893c00",
   "metadata": {},
   "outputs": [],
   "source": [
    "#should add another column called previous week claims, this would probably be a good predictor for the next week of claims\n",
    "df_un = unemployment_data"
   ]
  },
  {
   "cell_type": "code",
   "execution_count": null,
   "id": "edf68a39",
   "metadata": {},
   "outputs": [],
   "source": [
    "df_pred = prediction_data"
   ]
  },
  {
   "cell_type": "code",
   "execution_count": null,
   "id": "e0f3d3a2",
   "metadata": {},
   "outputs": [],
   "source": [
    "df_un[df_un[\"uu_id\"] == \"bbcb018f0e5e49e13636f6e78ce9f60f\"].sort_values(by = [\"week_number\"]).drop_duplicates()"
   ]
  },
  {
   "cell_type": "code",
   "execution_count": null,
   "id": "143db4f4",
   "metadata": {},
   "outputs": [],
   "source": [
    "df_pred[\"uu_id\"]"
   ]
  },
  {
   "cell_type": "markdown",
   "id": "da4c9d20",
   "metadata": {},
   "source": [
    "# This can also be a good place for you to cleanup any input/output and export your results to a file.\n",
    "# might just do a niave approach and declare the average as the value for each\n",
    "# pull all values as a dictionary with uu_id as the key and average as the value\n",
    "df_un[df_un[\"uu_id\"] == \"bbcb018f0e5e49e13636f6e78ce9f60f\"].sort_values(by = [\"week_number\"]).drop_duplicates()"
   ]
  },
  {
   "cell_type": "code",
   "execution_count": null,
   "id": "cb7e1c02",
   "metadata": {},
   "outputs": [],
   "source": [
    "prediction_dict = {}\n",
    "for i, tract in enumerate(df_pred[\"uu_id\"]):\n",
    "    df_working = df_un[df_un[\"uu_id\"] == tract].sort_values(by = [\"week_number\"]).drop_duplicates()\n",
    "    mean = df_working[\"total_claims\"].mean()\n",
    "    prediction_dict[tract] = mean"
   ]
  },
  {
   "cell_type": "code",
   "execution_count": null,
   "id": "fa1ccab0",
   "metadata": {},
   "outputs": [],
   "source": [
    "header = [\"uu_id\",\"total_claims\",\"week_number\"]\n",
    "week = 38\n",
    "fname = \"submission_prediction_output.csv\"\n",
    "with open(fname, 'w', encoding = \"UTF8\", newline=\"\") as f:\n",
    "    writer = csv.writer(f)\n",
    "    writer.writerow(header)\n",
    "    for k, v in prediction_dict.items():\n",
    "        writer.writerow([k, v, week]) "
   ]
  },
  {
   "cell_type": "markdown",
   "id": "625c8151",
   "metadata": {},
   "source": [
    "# This can also be a good place for you to cleanup any input/output and export your results to a file.\n",
    "# might just do a niave approach and declare the average as the value for each\n",
    "# pull all values as a dictionary with uu_id as the key and average as the value\n",
    "df_un[df_un[\"uu_id\"] == \"bbcb018f0e5e49e13636f6e78ce9f60f\"].sort_values(by = [\"week_number\"]).drop_duplicates()"
   ]
  },
  {
   "cell_type": "code",
   "execution_count": null,
   "id": "590d9a75",
   "metadata": {},
   "outputs": [],
   "source": [
    "prediction_dict = {}\n",
    "count = 0\n",
    "total = 0\n",
    "for i, tract in enumerate(df_pred[\"uu_id\"]):\n",
    "    df_working = df_un[df_un[\"uu_id\"] == tract].sort_values(by = [\"week_number\"]).drop_duplicates()\n",
    "    mean = df_working[\"total_claims\"].mean()\n",
    "    count += 1\n",
    "    total += mean\n",
    "    prediction_dict[tract] = mean"
   ]
  },
  {
   "cell_type": "code",
   "execution_count": null,
   "id": "53290fce",
   "metadata": {},
   "outputs": [],
   "source": [
    "total/count"
   ]
  },
  {
   "cell_type": "code",
   "execution_count": null,
   "id": "9e655f7b",
   "metadata": {},
   "outputs": [],
   "source": [
    "7.5/21.5"
   ]
  },
  {
   "cell_type": "code",
   "execution_count": null,
   "id": "b3a43fd6",
   "metadata": {},
   "outputs": [],
   "source": [
    "# how can I pull this from just pandas\n",
    "tract_dict = {}"
   ]
  },
  {
   "cell_type": "code",
   "execution_count": null,
   "id": "7d3b6134",
   "metadata": {},
   "outputs": [],
   "source": [
    "for i, tract in enumerate(df_pred[\"uu_id\"]):\n",
    "    tract_dict[i] = df_un[df_un[\"uu_id\"] == tract].sort_values(by = [\"week_number\"]).drop_duplicates()"
   ]
  },
  {
   "cell_type": "markdown",
   "id": "9b54dccf",
   "metadata": {},
   "source": [
    "# uu_id = \n",
    "# countyflips =\n",
    "# tract = \n",
    "# tract_name = \n",
    "# average_wage = "
   ]
  },
  {
   "cell_type": "code",
   "execution_count": null,
   "id": "673d80bb",
   "metadata": {},
   "outputs": [],
   "source": [
    "df_wage = wage_data\n",
    "print(df_wage)"
   ]
  },
  {
   "cell_type": "markdown",
   "id": "efef8cf8",
   "metadata": {},
   "source": [
    "# uu_id = \n",
    "# countyflips =\n",
    "# tract = \n",
    "# tract_name = \n",
    "# average_wage = "
   ]
  },
  {
   "cell_type": "code",
   "execution_count": null,
   "id": "b0f76827",
   "metadata": {},
   "outputs": [],
   "source": [
    "df_wage = wage_data\n",
    "df_wage.head()"
   ]
  },
  {
   "cell_type": "markdown",
   "id": "31fd3a53",
   "metadata": {},
   "source": [
    "how can I pull this from just pandas"
   ]
  },
  {
   "cell_type": "code",
   "execution_count": null,
   "id": "6076d17b",
   "metadata": {},
   "outputs": [],
   "source": [
    "# dictionary of df's for each uu_id\n",
    "tract_dict = {}"
   ]
  },
  {
   "cell_type": "code",
   "execution_count": null,
   "id": "a550f33a",
   "metadata": {},
   "outputs": [],
   "source": [
    "for i, tract in enumerate(df_pred[\"uu_id\"]):\n",
    "    tract_dict[i] = df_un[df_un[\"uu_id\"] == tract].sort_values(by = [\"week_number\"]).drop_duplicates()"
   ]
  },
  {
   "cell_type": "code",
   "execution_count": null,
   "id": "04d6f0d2",
   "metadata": {},
   "outputs": [],
   "source": [
    "tract[0].head()"
   ]
  },
  {
   "cell_type": "code",
   "execution_count": null,
   "id": "ff64eb2a",
   "metadata": {},
   "outputs": [],
   "source": [
    "tract[0]"
   ]
  },
  {
   "cell_type": "code",
   "execution_count": null,
   "id": "8bf846fd",
   "metadata": {},
   "outputs": [],
   "source": [
    "tract[1]"
   ]
  },
  {
   "cell_type": "code",
   "execution_count": null,
   "id": "5731009c",
   "metadata": {},
   "outputs": [],
   "source": [
    "tract[3]"
   ]
  },
  {
   "cell_type": "code",
   "execution_count": null,
   "id": "6858c6f8",
   "metadata": {},
   "outputs": [],
   "source": [
    "tract[78]"
   ]
  },
  {
   "cell_type": "code",
   "execution_count": null,
   "id": "98620a01",
   "metadata": {},
   "outputs": [],
   "source": [
    "tract_dict[0].head()"
   ]
  },
  {
   "cell_type": "code",
   "execution_count": null,
   "id": "d1472002",
   "metadata": {},
   "outputs": [],
   "source": [
    "tract_dict[1].head(38)"
   ]
  },
  {
   "cell_type": "code",
   "execution_count": null,
   "id": "89453222",
   "metadata": {},
   "outputs": [],
   "source": [
    "tract_dict[0].head(38)"
   ]
  },
  {
   "cell_type": "code",
   "execution_count": null,
   "id": "6f68c754",
   "metadata": {},
   "outputs": [],
   "source": [
    "# compute the simple moving average over 4 weeks for each frame\n",
    "for key, val in tract_dict.items():\n",
    "    tract_dict[key][\"SMA4\"] = tract_dict[key][\"total_claims\"].rolling(4).mean()"
   ]
  },
  {
   "cell_type": "code",
   "execution_count": null,
   "id": "9ff849c0",
   "metadata": {},
   "outputs": [],
   "source": [
    "tract_dict[0][[\"SMA4\", \"total_claims\"]].plot()"
   ]
  },
  {
   "cell_type": "code",
   "execution_count": null,
   "id": "41da676e",
   "metadata": {},
   "outputs": [],
   "source": [
    "tract_dict[0][[\"total_claims\", \"SMA4\"]].plot()"
   ]
  },
  {
   "cell_type": "code",
   "execution_count": null,
   "id": "bb1edd15",
   "metadata": {},
   "outputs": [],
   "source": [
    "df_un[df_un[\"uu_id\"] == \"bbcb018f0e5e49e13636f6e78ce9f60f\"].sort_values(by = [\"week_number\"]).drop_duplicates().set_index(\"week_number\")"
   ]
  },
  {
   "cell_type": "markdown",
   "id": "c846abf3",
   "metadata": {},
   "source": [
    "how can I pull this from just pandas"
   ]
  },
  {
   "cell_type": "code",
   "execution_count": null,
   "id": "bb472b67",
   "metadata": {},
   "outputs": [],
   "source": [
    "# dictionary of df's for each uu_id\n",
    "tract_dict = {}"
   ]
  },
  {
   "cell_type": "code",
   "execution_count": null,
   "id": "ae37313e",
   "metadata": {},
   "outputs": [],
   "source": [
    "for i, tract in enumerate(df_pred[\"uu_id\"]):\n",
    "    tract_dict[i] = df_un[df_un[\"uu_id\"] == tract].sort_values(by = [\"week_number\"]).drop_duplicates().set_index(\"week_number\")"
   ]
  },
  {
   "cell_type": "code",
   "execution_count": null,
   "id": "3710eea8",
   "metadata": {},
   "outputs": [],
   "source": [
    "# compute the simple moving average over 4 weeks for each frame\n",
    "for key, val in tract_dict.items():\n",
    "    tract_dict[key][\"SMA4\"] = tract_dict[key][\"total_claims\"].rolling(4).mean()"
   ]
  },
  {
   "cell_type": "code",
   "execution_count": null,
   "id": "9c70768b",
   "metadata": {},
   "outputs": [],
   "source": [
    "tract_dict[0][[\"total_claims\", \"SMA4\"]].plot()"
   ]
  },
  {
   "cell_type": "code",
   "execution_count": null,
   "id": "c9ab3af8",
   "metadata": {},
   "outputs": [],
   "source": [
    "# compute the simple moving average over 4 weeks for each frame\n",
    "for key, val in tract_dict.items():\n",
    "    tract_dict[key][\"SMA4\"] = tract_dict[key][\"total_claims\"].rolling(4).mean()\n",
    "    tract_dict[key][\"y_bar\"] = tract_dict[key][\"total_claims\"].mean()"
   ]
  },
  {
   "cell_type": "code",
   "execution_count": null,
   "id": "18e92977",
   "metadata": {},
   "outputs": [],
   "source": [
    "tract_dict[0][[\"total_claims\", \"SMA4\", \"y_bar\"]].plot()"
   ]
  },
  {
   "cell_type": "markdown",
   "id": "c6d5b23d",
   "metadata": {},
   "source": [
    "- IMPORT THE LIBRARIES YOU WILL USE\n",
    "------------------------------------------\n",
    "You only need to import packages one time per notebook session. To keep your\n",
    "notebook clean and organized you can handle all imports at the top of your file.\n",
    "The following are included for example purposed, feel free to modify or delete \n",
    "anything in this section."
   ]
  },
  {
   "cell_type": "code",
   "execution_count": null,
   "id": "a76b5756",
   "metadata": {},
   "outputs": [],
   "source": [
    "import csv\n",
    "import pandas as pd\n",
    "import numpy as np\n",
    "import seaborn as sns\n",
    "import plotly.express as px\n",
    "import csv\n",
    "import random"
   ]
  },
  {
   "cell_type": "code",
   "execution_count": null,
   "id": "05585a2c",
   "metadata": {},
   "outputs": [],
   "source": [
    "from google.cloud import bigquery\n",
    "from google.oauth2 import service_account\n",
    "from google.cloud.bigquery import magics"
   ]
  },
  {
   "cell_type": "code",
   "execution_count": null,
   "id": "ef652fa9",
   "metadata": {},
   "outputs": [],
   "source": [
    "# compute the simple moving average over 4 weeks for each frame\n",
    "for key, val in tract_dict.items():\n",
    "    tract_dict[key][\"SMA4\"] = tract_dict[key][\"total_claims\"].rolling(4).mean()\n",
    "    tract_dict[key][\"EMA4\"] = tract_dict[key][\"total_claims\"].ewm(4).mean()\n",
    "    tract_dict[key][\"y_bar\"] = tract_dict[key][\"total_claims\"].mean()"
   ]
  },
  {
   "cell_type": "code",
   "execution_count": null,
   "id": "e7cfc980",
   "metadata": {},
   "outputs": [],
   "source": [
    "#compare the previous predictor to the new predictor\n",
    "tract_dict[0][[\"total_claims\", \"SMA4\", \"EMA4\",\"y_bar\"]].plot()"
   ]
  },
  {
   "cell_type": "code",
   "execution_count": null,
   "id": "c477441e",
   "metadata": {},
   "outputs": [],
   "source": [
    "#compare the previous predictor to the new predictor\n",
    "tract_dict[1[[\"total_claims\", \"SMA4\", \"EMA4\",\"y_bar\"]].plot()"
   ]
  },
  {
   "cell_type": "code",
   "execution_count": null,
   "id": "658c995c",
   "metadata": {},
   "outputs": [],
   "source": [
    "#compare the previous predictor to the new predictor\n",
    "tract_dict[1][\"total_claims\", \"SMA4\", \"EMA4\",\"y_bar\"]].plot()"
   ]
  },
  {
   "cell_type": "code",
   "execution_count": null,
   "id": "08b81fc3",
   "metadata": {},
   "outputs": [],
   "source": [
    "#compare the previous predictor to the new predictor\n",
    "tract_dict[1[[\"total_claims\", \"SMA4\", \"EMA4\",\"y_bar\"]].plot()"
   ]
  },
  {
   "cell_type": "code",
   "execution_count": null,
   "id": "1d10b0a7",
   "metadata": {},
   "outputs": [],
   "source": [
    "#compare the previous predictor to the new predictor\n",
    "tract_dict[0][[\"total_claims\", \"SMA4\", \"EMA4\",\"y_bar\"]].plot()"
   ]
  },
  {
   "cell_type": "code",
   "execution_count": null,
   "id": "2c1954c5",
   "metadata": {},
   "outputs": [],
   "source": [
    "#compare the previous predictor to the new predictor\n",
    "tract_dict[1[[\"total_claims\", \"SMA4\", \"EMA4\",\"y_bar\"]].plot()"
   ]
  },
  {
   "cell_type": "code",
   "execution_count": null,
   "id": "aa8e3552",
   "metadata": {},
   "outputs": [],
   "source": [
    "#compare the previous predictor to the new predictor\n",
    "tract_dict[1][[\"total_claims\", \"SMA4\", \"EMA4\",\"y_bar\"]].plot()"
   ]
  },
  {
   "cell_type": "code",
   "execution_count": null,
   "id": "46a7ae5e",
   "metadata": {},
   "outputs": [],
   "source": [
    "#compare the previous predictor to the new predictor\n",
    "tract_dict[5][[\"total_claims\", \"SMA4\", \"EMA4\",\"y_bar\"]].plot()"
   ]
  },
  {
   "cell_type": "code",
   "execution_count": null,
   "id": "4b0ade5b",
   "metadata": {},
   "outputs": [],
   "source": [
    "#compare the previous predictor to the new predictor\n",
    "tract_dict[9][[\"total_claims\", \"SMA4\", \"EMA4\",\"y_bar\"]].plot()"
   ]
  },
  {
   "cell_type": "code",
   "execution_count": null,
   "id": "2736105b",
   "metadata": {},
   "outputs": [],
   "source": [
    "#compare the previous predictor to the new predictor\n",
    "tract_dict[10][[\"total_claims\", \"SMA4\", \"EMA4\",\"y_bar\"]].plot()"
   ]
  },
  {
   "cell_type": "code",
   "execution_count": null,
   "id": "226071aa",
   "metadata": {},
   "outputs": [],
   "source": [
    "#compare the previous predictor to the new predictor\n",
    "tract_dict[11][[\"total_claims\", \"SMA4\", \"EMA4\",\"y_bar\"]].plot()"
   ]
  },
  {
   "cell_type": "code",
   "execution_count": null,
   "id": "66f0b2c2",
   "metadata": {},
   "outputs": [],
   "source": [
    "tract_dict[0][\"EMA4\"].iat[-1]"
   ]
  },
  {
   "cell_type": "code",
   "execution_count": null,
   "id": "6671d326",
   "metadata": {},
   "outputs": [],
   "source": [
    "tract_dict[0][\"EMA4\"].tail()"
   ]
  },
  {
   "cell_type": "code",
   "execution_count": null,
   "id": "28697e88",
   "metadata": {},
   "outputs": [],
   "source": [
    "tract_dict[0][\"EMA4\"].iat[-1]"
   ]
  },
  {
   "cell_type": "code",
   "execution_count": null,
   "id": "e66c1254",
   "metadata": {},
   "outputs": [],
   "source": [
    "# make the EMA4 the prediction\n",
    "header = [\"uu_id\",\"total_claims\",\"week_number\"]\n",
    "week = 38\n",
    "fname = \"submission_prediction_output.csv\"\n",
    "with open(fname, 'w', encoding = \"UTF8\", newline=\"\") as f:\n",
    "    writer = csv.writer(f)\n",
    "    writer.writerow(header)\n",
    "    for k, v in tract_dict.items():\n",
    "        writer.writerow([k, v[\"EMA4\"].iat[-1], week]) "
   ]
  },
  {
   "cell_type": "code",
   "execution_count": null,
   "id": "e7850c17",
   "metadata": {
    "lines_to_next_cell": 2
   },
   "outputs": [],
   "source": [
    "#compare the previous predictor to the new predictor\n",
    "tract_dict[0][[\"total_claims\", \"SMA4\", \"EMA4\",\"y_bar\"]].plot()"
   ]
  }
 ],
 "metadata": {
  "jupytext": {
   "cell_metadata_filter": "-all",
   "main_language": "python",
   "notebook_metadata_filter": "-all"
  }
 },
 "nbformat": 4,
 "nbformat_minor": 5
}
