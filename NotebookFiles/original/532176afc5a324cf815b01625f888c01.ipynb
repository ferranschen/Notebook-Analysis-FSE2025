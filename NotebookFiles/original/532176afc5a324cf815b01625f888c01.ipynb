{
 "cells": [
  {
   "cell_type": "code",
   "execution_count": null,
   "id": "543eb78e",
   "metadata": {},
   "outputs": [],
   "source": [
    "get_ipython().system('pip install db-dtypes')\n",
    "get_ipython().system('pip install plotly')"
   ]
  },
  {
   "cell_type": "code",
   "execution_count": null,
   "id": "40565f67",
   "metadata": {},
   "outputs": [],
   "source": [
    "import os\n",
    "import pandas\n",
    "from google.cloud import bigquery\n",
    "from google.oauth2 import service_account\n",
    "from google.cloud.bigquery import magics"
   ]
  },
  {
   "cell_type": "code",
   "execution_count": null,
   "id": "8bdd46ab",
   "metadata": {},
   "outputs": [],
   "source": [
    "from sklearn.experimental import enable_iterative_imputer\n",
    "from sklearn.impute import IterativeImputer\n",
    "from sklearn.impute import KNNImputer\n",
    "from sklearn.preprocessing import StandardScaler\n",
    "from scipy import stats\n",
    "from scipy.stats import shapiro\n",
    "from scipy.stats import skew"
   ]
  },
  {
   "cell_type": "code",
   "execution_count": null,
   "id": "58fc0bef",
   "metadata": {},
   "outputs": [],
   "source": [
    "import numpy as np\n",
    "from numpy import isnan\n",
    "from matplotlib import pyplot"
   ]
  },
  {
   "cell_type": "code",
   "execution_count": null,
   "id": "f242c342",
   "metadata": {},
   "outputs": [],
   "source": [
    "import seaborn as sns\n",
    "import matplotlib \n",
    "import matplotlib.pyplot as plt\n",
    "import plotly \n",
    "import plotly.express as px"
   ]
  },
  {
   "cell_type": "code",
   "execution_count": null,
   "id": "9da76eda",
   "metadata": {},
   "outputs": [],
   "source": [
    "import pandas as pd"
   ]
  },
  {
   "cell_type": "code",
   "execution_count": null,
   "id": "9486a10c",
   "metadata": {},
   "outputs": [],
   "source": [
    "BIGQUERY_PROJECT = 'ironhacks-data'\n",
    "bigquery_client = bigquery.Client(project=BIGQUERY_PROJECT)"
   ]
  },
  {
   "cell_type": "code",
   "execution_count": null,
   "id": "82c1c281",
   "metadata": {},
   "outputs": [],
   "source": [
    "query = \"\"\"\n",
    "SELECT *\n",
    "FROM `ironhacks-data.ironhacks_competition.unemployment_data`\n",
    "\"\"\""
   ]
  },
  {
   "cell_type": "code",
   "execution_count": null,
   "id": "2302d784",
   "metadata": {},
   "outputs": [],
   "source": [
    "query_job = bigquery_client.query(query)\n",
    "unemploy = query_job.to_dataframe()\n",
    "unemploy.head()"
   ]
  },
  {
   "cell_type": "code",
   "execution_count": null,
   "id": "d7224664",
   "metadata": {},
   "outputs": [],
   "source": [
    "wage = \"\"\"\n",
    "SELECT *\n",
    "FROM `ironhacks-data.ironhacks_competition.wage_data`\n",
    "\"\"\""
   ]
  },
  {
   "cell_type": "code",
   "execution_count": null,
   "id": "16178efb",
   "metadata": {},
   "outputs": [],
   "source": [
    "query_wage = bigquery_client.query(wage)\n",
    "wages = query_wage.to_dataframe()\n",
    "wages.head()"
   ]
  },
  {
   "cell_type": "code",
   "execution_count": null,
   "id": "9df4d12a",
   "metadata": {},
   "outputs": [],
   "source": [
    "wages.info()"
   ]
  },
  {
   "cell_type": "code",
   "execution_count": null,
   "id": "84f991bf",
   "metadata": {},
   "outputs": [],
   "source": [
    "unemploy.info()"
   ]
  },
  {
   "cell_type": "code",
   "execution_count": null,
   "id": "e354184a",
   "metadata": {},
   "outputs": [],
   "source": [
    "unemploy.isnull().sum()"
   ]
  },
  {
   "cell_type": "code",
   "execution_count": null,
   "id": "ba6d13a4",
   "metadata": {},
   "outputs": [],
   "source": [
    "unemploy=unemploy.sort_values('week_number', ascending=True)\n",
    "unemploy.reset_index(inplace=True)\n",
    "unemploy"
   ]
  },
  {
   "cell_type": "code",
   "execution_count": null,
   "id": "538df8a5",
   "metadata": {},
   "outputs": [],
   "source": [
    "sns.heatmap(unemploy.isnull(),cbar=False)"
   ]
  },
  {
   "cell_type": "code",
   "execution_count": null,
   "id": "a82df6c9",
   "metadata": {},
   "outputs": [],
   "source": [
    "miss=unemploy.isnull()\n",
    "total=unemploy.count()\n",
    "total"
   ]
  },
  {
   "cell_type": "code",
   "execution_count": null,
   "id": "02ed89fc",
   "metadata": {},
   "outputs": [],
   "source": [
    "miss.sum()"
   ]
  },
  {
   "cell_type": "code",
   "execution_count": null,
   "id": "196271c8",
   "metadata": {},
   "outputs": [],
   "source": [
    "miss.sum()/len(unemploy)"
   ]
  },
  {
   "cell_type": "code",
   "execution_count": null,
   "id": "5c5cc5b7",
   "metadata": {},
   "outputs": [],
   "source": [
    "map_1 = unemploy.corr(method ='spearman')\n",
    "sns.heatmap(map_1)"
   ]
  },
  {
   "cell_type": "code",
   "execution_count": null,
   "id": "ff442102",
   "metadata": {},
   "outputs": [],
   "source": [
    "unemploy[\"race_hawaiiannative\"].unique()"
   ]
  },
  {
   "cell_type": "code",
   "execution_count": null,
   "id": "8a738e24",
   "metadata": {},
   "outputs": [],
   "source": [
    "df1=unemploy.copy()\n",
    "df1=df1.drop(columns=\"race_hawaiiannative\")"
   ]
  },
  {
   "cell_type": "code",
   "execution_count": null,
   "id": "8cbdbeb2",
   "metadata": {},
   "outputs": [],
   "source": [
    "df=unemploy[['top_category_employer1',\"top_category_employer2\",\"top_category_employer3\",'uu_id',\"tract_name\",\"timeperiod\",\"tract\",\"countyfips\"]]"
   ]
  },
  {
   "cell_type": "code",
   "execution_count": null,
   "id": "5db13c58",
   "metadata": {},
   "outputs": [],
   "source": [
    "df"
   ]
  },
  {
   "cell_type": "code",
   "execution_count": null,
   "id": "05e61c31",
   "metadata": {},
   "outputs": [],
   "source": [
    "df1.drop(columns=['top_category_employer1',\"top_category_employer2\",\"top_category_employer3\",'uu_id',\"tract_name\",\"timeperiod\",\"tract\",\"countyfips\"],inplace=True)"
   ]
  },
  {
   "cell_type": "code",
   "execution_count": null,
   "id": "80b07699",
   "metadata": {},
   "outputs": [],
   "source": [
    "impute1=KNNImputer()\n",
    "impute1.fit(df1)\n",
    "unemploy1=pd.DataFrame(impute1.fit_transform(df1),columns = df1.columns)"
   ]
  },
  {
   "cell_type": "code",
   "execution_count": null,
   "id": "c8f18bb2",
   "metadata": {},
   "outputs": [],
   "source": [
    "unemploy1"
   ]
  },
  {
   "cell_type": "code",
   "execution_count": null,
   "id": "dde49dd3",
   "metadata": {},
   "outputs": [],
   "source": [
    "trial=pd.merge(df, unemploy1, left_index=True, right_index=True)"
   ]
  },
  {
   "cell_type": "code",
   "execution_count": null,
   "id": "e11f1794",
   "metadata": {},
   "outputs": [],
   "source": [
    "trial.head()"
   ]
  },
  {
   "cell_type": "code",
   "execution_count": null,
   "id": "f2887722",
   "metadata": {},
   "outputs": [],
   "source": [
    "trial.describe()"
   ]
  },
  {
   "cell_type": "code",
   "execution_count": null,
   "id": "7c514027",
   "metadata": {},
   "outputs": [],
   "source": [
    "sns.heatmap(trial.corr(method=\"spearman\"))"
   ]
  },
  {
   "cell_type": "code",
   "execution_count": null,
   "id": "2bc2f712",
   "metadata": {},
   "outputs": [],
   "source": [
    "trial1=trial.copy()"
   ]
  },
  {
   "cell_type": "code",
   "execution_count": null,
   "id": "68c929bd",
   "metadata": {},
   "outputs": [],
   "source": [
    "scaler = StandardScaler()\n",
    "scaled=pd.DataFrame(scaler.fit_transform(unemploy1),columns = unemploy1.columns)"
   ]
  },
  {
   "cell_type": "code",
   "execution_count": null,
   "id": "498b0e13",
   "metadata": {},
   "outputs": [],
   "source": [
    "scaled"
   ]
  },
  {
   "cell_type": "code",
   "execution_count": null,
   "id": "82a13a8e",
   "metadata": {},
   "outputs": [],
   "source": [
    "sns.displot(data=scaled,x=\"total_claims\",kind=\"kde\")"
   ]
  },
  {
   "cell_type": "code",
   "execution_count": null,
   "id": "b45c5f4a",
   "metadata": {},
   "outputs": [],
   "source": [
    "claim = np.array(scaled[\"total_claims\"])\n",
    "sqrt_claim = np.sqrt(claim)\n",
    "log_claim = np.log(claim)\n",
    "f, ((f1, f2, f3), (f4, f5, f6)) = plt.subplots(2, 3)\n",
    "#f, ((f1, f2), (f4, f5)) = plt.subplots(2, 2)\n",
    "f1.hist(claim, 30)\n",
    "f2.hist(sqrt_claim, 30)\n",
    "f3.hist(log_claim, 30)"
   ]
  },
  {
   "cell_type": "code",
   "execution_count": null,
   "id": "c278cda4",
   "metadata": {},
   "outputs": [],
   "source": [
    "stats.probplot(claim, plot=f4)\n",
    "stats.probplot(sqrt_claim, plot=f5)\n",
    "stats.probplot(log_claim, plot=f6)\n",
    "plt.show\n",
    "stats.shapiro(claim)[1], stats.shapiro(sqrt_claim)[1], stats.shapiro(log_claim)[1]"
   ]
  },
  {
   "cell_type": "code",
   "execution_count": null,
   "id": "1fc24023",
   "metadata": {},
   "outputs": [],
   "source": [
    "shapiro(sqrt_claim)"
   ]
  },
  {
   "cell_type": "code",
   "execution_count": null,
   "id": "e834cfd2",
   "metadata": {},
   "outputs": [],
   "source": [
    "print(skew(sqrt_claim))"
   ]
  },
  {
   "cell_type": "code",
   "execution_count": null,
   "id": "45cec3a5",
   "metadata": {},
   "outputs": [],
   "source": [
    "shapiro(unemploy1.total_claims)"
   ]
  },
  {
   "cell_type": "code",
   "execution_count": null,
   "id": "9f5cac45",
   "metadata": {},
   "outputs": [],
   "source": [
    "sns.displot(data=scaled,x=\"total_claims\",kind=\"kde\")"
   ]
  },
  {
   "cell_type": "code",
   "execution_count": null,
   "id": "c01be64c",
   "metadata": {},
   "outputs": [],
   "source": [
    "f3.hist(log_claim, 30)"
   ]
  },
  {
   "cell_type": "code",
   "execution_count": null,
   "id": "3d69fc4e",
   "metadata": {},
   "outputs": [],
   "source": [
    "stats.probplot(scaled[\"total_claims\"],dist=\"norm\",plot=pylab)\n",
    "pylab.show()"
   ]
  },
  {
   "cell_type": "code",
   "execution_count": null,
   "id": "9343fb45",
   "metadata": {},
   "outputs": [],
   "source": [
    "import pylab"
   ]
  },
  {
   "cell_type": "code",
   "execution_count": null,
   "id": "0f0e50d0",
   "metadata": {},
   "outputs": [],
   "source": [
    "stats.probplot(scaled[\"total_claims\"],dist=\"norm\",plot=pylab)\n",
    "pylab.show()"
   ]
  },
  {
   "cell_type": "code",
   "execution_count": null,
   "id": "1e41df9b",
   "metadata": {},
   "outputs": [],
   "source": [
    "sns.boxplot(x=scaled[\"total_claims\"])"
   ]
  },
  {
   "cell_type": "code",
   "execution_count": null,
   "id": "a5b70fc5",
   "metadata": {},
   "outputs": [],
   "source": [
    "sns.distplot(scaled[\"total_claims\"])"
   ]
  },
  {
   "cell_type": "code",
   "execution_count": null,
   "id": "508189e0",
   "metadata": {},
   "outputs": [],
   "source": [
    "sns.distplot(scaled[\"total_claims\"])\n",
    "sns.distplot(log_claim)"
   ]
  },
  {
   "cell_type": "code",
   "execution_count": null,
   "id": "a500cf08",
   "metadata": {},
   "outputs": [],
   "source": [
    "#sns.distplot(scaled[\"total_claims\"])\n",
    "sns.distplot(log_claim)"
   ]
  },
  {
   "cell_type": "code",
   "execution_count": null,
   "id": "59465c82",
   "metadata": {},
   "outputs": [],
   "source": [
    "stats.probplot(log_claim,dist=\"norm\",plot=pylab)\n",
    "pylab.show()"
   ]
  },
  {
   "cell_type": "code",
   "execution_count": null,
   "id": "5bee425f",
   "metadata": {},
   "outputs": [],
   "source": [
    "sns.boxplot(x=log_claim)"
   ]
  },
  {
   "cell_type": "code",
   "execution_count": null,
   "id": "42827885",
   "metadata": {},
   "outputs": [],
   "source": [
    "#sns.distplot(scaled[\"total_claims\"])\n",
    "sns.distplot(scaled)"
   ]
  },
  {
   "cell_type": "code",
   "execution_count": null,
   "id": "edd70232",
   "metadata": {},
   "outputs": [],
   "source": [
    "scaled.plot.hist(subplots=True, legend=True, layout=(8, 2))"
   ]
  },
  {
   "cell_type": "code",
   "execution_count": null,
   "id": "f9d80dee",
   "metadata": {},
   "outputs": [],
   "source": [
    "scaled.plot.hist(subplots=True, legend=True, layout=(9, 2))"
   ]
  },
  {
   "cell_type": "code",
   "execution_count": null,
   "id": "89bd74f0",
   "metadata": {},
   "outputs": [],
   "source": [
    "scale_logs = np.log(scaled)"
   ]
  },
  {
   "cell_type": "code",
   "execution_count": null,
   "id": "139cb765",
   "metadata": {},
   "outputs": [],
   "source": [
    "scale_log"
   ]
  },
  {
   "cell_type": "code",
   "execution_count": null,
   "id": "1ff8115d",
   "metadata": {},
   "outputs": [],
   "source": [
    "scale_logs"
   ]
  },
  {
   "cell_type": "code",
   "execution_count": null,
   "id": "583639c1",
   "metadata": {},
   "outputs": [],
   "source": [
    "sns.boxplot(x=scaled[\"edu_grades_9_11\"])"
   ]
  },
  {
   "cell_type": "code",
   "execution_count": null,
   "id": "aec4ed7f",
   "metadata": {},
   "outputs": [],
   "source": [
    "sns.boxplot(x=scale_logs[\"edu_grades_9_11\"])"
   ]
  },
  {
   "cell_type": "code",
   "execution_count": null,
   "id": "c7f71a88",
   "metadata": {},
   "outputs": [],
   "source": [
    "scale_sqrt=np.sqrt(scaled)"
   ]
  },
  {
   "cell_type": "code",
   "execution_count": null,
   "id": "303068a9",
   "metadata": {},
   "outputs": [],
   "source": [
    "scale_sqrt"
   ]
  },
  {
   "cell_type": "code",
   "execution_count": null,
   "id": "cd769e8d",
   "metadata": {},
   "outputs": [],
   "source": [
    "sns.distplot(log_claim)"
   ]
  },
  {
   "cell_type": "code",
   "execution_count": null,
   "id": "a02c0234",
   "metadata": {},
   "outputs": [],
   "source": [
    "unemploy_logs = np.log(unemploy1)"
   ]
  },
  {
   "cell_type": "code",
   "execution_count": null,
   "id": "4946e384",
   "metadata": {},
   "outputs": [],
   "source": [
    "unemploy_logs"
   ]
  },
  {
   "cell_type": "code",
   "execution_count": null,
   "id": "5b4054b8",
   "metadata": {},
   "outputs": [],
   "source": [
    "unemp_sqrt=np.sqrt(unemploy1)"
   ]
  },
  {
   "cell_type": "code",
   "execution_count": null,
   "id": "6786c8a5",
   "metadata": {},
   "outputs": [],
   "source": [
    "unemp_sqrt"
   ]
  },
  {
   "cell_type": "code",
   "execution_count": null,
   "id": "6fcea043",
   "metadata": {},
   "outputs": [],
   "source": [
    "sns.distplot(unemp_sqrt)"
   ]
  },
  {
   "cell_type": "code",
   "execution_count": null,
   "id": "c735ec62",
   "metadata": {},
   "outputs": [],
   "source": [
    "sns.distplot(unemp_sqrt[edu_grades_9_11])"
   ]
  },
  {
   "cell_type": "code",
   "execution_count": null,
   "id": "20fbdfbb",
   "metadata": {},
   "outputs": [],
   "source": [
    "sns.distplot(unemp_sqrt[\"edu_grades_9_11\"])"
   ]
  },
  {
   "cell_type": "code",
   "execution_count": null,
   "id": "aa5c13c6",
   "metadata": {},
   "outputs": [],
   "source": [
    "unemp_cube=np.power((unemploy1),1/3)"
   ]
  },
  {
   "cell_type": "code",
   "execution_count": null,
   "id": "7d3534f3",
   "metadata": {},
   "outputs": [],
   "source": [
    "unemp_cube"
   ]
  },
  {
   "cell_type": "code",
   "execution_count": null,
   "id": "a1b5d8b9",
   "metadata": {},
   "outputs": [],
   "source": [
    "sns.distplot(unemp_cube[\"edu_grades_9_11\"])"
   ]
  },
  {
   "cell_type": "code",
   "execution_count": null,
   "id": "a5033aff",
   "metadata": {},
   "outputs": [],
   "source": [
    "unemp_cube=np.power((unemploy1),1/4)"
   ]
  },
  {
   "cell_type": "code",
   "execution_count": null,
   "id": "fff9d57d",
   "metadata": {},
   "outputs": [],
   "source": [
    "sns.distplot(unemp_cube[\"edu_grades_9_11\"])"
   ]
  },
  {
   "cell_type": "code",
   "execution_count": null,
   "id": "2ff22809",
   "metadata": {},
   "outputs": [],
   "source": [
    "unemp_cube=np.power((unemploy1),1/6)"
   ]
  },
  {
   "cell_type": "code",
   "execution_count": null,
   "id": "8ebf10cc",
   "metadata": {},
   "outputs": [],
   "source": [
    "sns.distplot(unemp_cube[\"edu_grades_9_11\"])"
   ]
  },
  {
   "cell_type": "code",
   "execution_count": null,
   "id": "e70a3f14",
   "metadata": {},
   "outputs": [],
   "source": [
    "unemp_cube=np.power((unemploy1),1/10)"
   ]
  },
  {
   "cell_type": "code",
   "execution_count": null,
   "id": "41c30f69",
   "metadata": {},
   "outputs": [],
   "source": [
    "sns.distplot(unemp_cube[\"edu_grades_9_11\"])"
   ]
  },
  {
   "cell_type": "code",
   "execution_count": null,
   "id": "d49782e2",
   "metadata": {},
   "outputs": [],
   "source": [
    "unemp_cube=np.power((unemploy1),1/3)"
   ]
  },
  {
   "cell_type": "code",
   "execution_count": null,
   "id": "b64125b1",
   "metadata": {},
   "outputs": [],
   "source": [
    "sns.distplot(unemp_cube[\"edu_grades_9_11\"])"
   ]
  },
  {
   "cell_type": "code",
   "execution_count": null,
   "id": "63e76a78",
   "metadata": {},
   "outputs": [],
   "source": [
    "shapiro(unemp_cube.total_claims)"
   ]
  },
  {
   "cell_type": "code",
   "execution_count": null,
   "id": "f75a402d",
   "metadata": {},
   "outputs": [],
   "source": [
    "from scipy.stats import jarque_bera"
   ]
  },
  {
   "cell_type": "code",
   "execution_count": null,
   "id": "e9a3c01b",
   "metadata": {},
   "outputs": [],
   "source": [
    "statistics,pvalue = jarque_bera(unemploy1.total_claims)"
   ]
  },
  {
   "cell_type": "code",
   "execution_count": null,
   "id": "44b52211",
   "metadata": {},
   "outputs": [],
   "source": [
    "print('statistics=%.3f, p=%.3f\\n' %(statisticss, pvalue))\n",
    "if pvalue>0.05:\n",
    "    print(\"Probably Normal\")\n",
    "else:\n",
    "    print(\"Probably not Normal\")"
   ]
  },
  {
   "cell_type": "code",
   "execution_count": null,
   "id": "2a011dbf",
   "metadata": {},
   "outputs": [],
   "source": [
    "statistics,pvalue = jarque_bera(unemploy1.total_claims)"
   ]
  },
  {
   "cell_type": "code",
   "execution_count": null,
   "id": "110bafbf",
   "metadata": {},
   "outputs": [],
   "source": [
    "print('statistics=%.3f, p=%.3f\\n' %(statistics, pvalue))\n",
    "if pvalue>0.05:\n",
    "    print(\"Probably Normal\")\n",
    "else:\n",
    "    print(\"Probably not Normal\")"
   ]
  },
  {
   "cell_type": "code",
   "execution_count": null,
   "id": "392034c5",
   "metadata": {},
   "outputs": [],
   "source": [
    "statistics,pvalue = jarque_bera(unemp_sqrt.total_claims)"
   ]
  },
  {
   "cell_type": "code",
   "execution_count": null,
   "id": "bd0228cc",
   "metadata": {},
   "outputs": [],
   "source": [
    "print('statistics=%.3f, p=%.3f\\n' %(statistics, pvalue))\n",
    "if pvalue>0.05:\n",
    "    print(\"Probably Normal\")\n",
    "else:\n",
    "    print(\"Probably not Normal\")"
   ]
  },
  {
   "cell_type": "code",
   "execution_count": null,
   "id": "d46fb4ae",
   "metadata": {},
   "outputs": [],
   "source": [
    "statistics,pvalue = jarque_bera(unemp_log.total_claims)"
   ]
  },
  {
   "cell_type": "code",
   "execution_count": null,
   "id": "7b507023",
   "metadata": {},
   "outputs": [],
   "source": [
    "print('statistics=%.3f, p=%.3f\\n' %(statistics, pvalue))\n",
    "if pvalue>0.05:\n",
    "    print(\"Probably Normal\")\n",
    "else:\n",
    "    print(\"Probably not Normal\")"
   ]
  },
  {
   "cell_type": "code",
   "execution_count": null,
   "id": "fa3478e0",
   "metadata": {},
   "outputs": [],
   "source": [
    "statistics,pvalue = jarque_bera(unemp_logs.total_claims)"
   ]
  },
  {
   "cell_type": "code",
   "execution_count": null,
   "id": "1befd64d",
   "metadata": {},
   "outputs": [],
   "source": [
    "print('statistics=%.3f, p=%.3f\\n' %(statistics, pvalue))\n",
    "if pvalue>0.05:\n",
    "    print(\"Probably Normal\")\n",
    "else:\n",
    "    print(\"Probably not Normal\")"
   ]
  },
  {
   "cell_type": "code",
   "execution_count": null,
   "id": "059ce2c6",
   "metadata": {},
   "outputs": [],
   "source": [
    "statistics,pvalue = jarque_bera(unemp_cube.total_claims)"
   ]
  },
  {
   "cell_type": "code",
   "execution_count": null,
   "id": "3052f3dd",
   "metadata": {},
   "outputs": [],
   "source": [
    "print('statistics=%.3f, p=%.3f\\n' %(statistics, pvalue))\n",
    "if pvalue>0.05:\n",
    "    print(\"Probably Normal\")\n",
    "else:\n",
    "    print(\"Probably not Normal\")"
   ]
  },
  {
   "cell_type": "code",
   "execution_count": null,
   "id": "a3777207",
   "metadata": {},
   "outputs": [],
   "source": [
    "statistics,pvalue = jarque_bera(unemp_cube)"
   ]
  },
  {
   "cell_type": "code",
   "execution_count": null,
   "id": "7184e42c",
   "metadata": {
    "lines_to_next_cell": 2
   },
   "outputs": [],
   "source": [
    "print('statistics=%.3f, p=%.3f\\n' %(statistics, pvalue))\n",
    "if pvalue>0.05:\n",
    "    print(\"Probably Normal\")\n",
    "else:\n",
    "    print(\"Probably not Normal\")"
   ]
  }
 ],
 "metadata": {
  "jupytext": {
   "cell_metadata_filter": "-all",
   "main_language": "python",
   "notebook_metadata_filter": "-all"
  }
 },
 "nbformat": 4,
 "nbformat_minor": 5
}
