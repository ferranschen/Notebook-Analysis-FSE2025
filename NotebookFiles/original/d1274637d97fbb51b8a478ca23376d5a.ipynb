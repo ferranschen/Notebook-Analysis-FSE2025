{
 "cells": [
  {
   "cell_type": "code",
   "execution_count": 1,
   "id": "71e80681",
   "metadata": {},
   "outputs": [],
   "source": [
    "get_ipython().run_cell_magic('capture', '', \"%logstop\\n%logstart -t -r -q ipython_command_log.py global\\n\\n#- IRONHACKS RESEARCH TRACKING CODE\\n#----------------------------------\\n# The following code is used to help our research team understand how you \\n# our notebook environment. We do not collect any personal information with\\n# the following code, it is used to measure when and how often you work on\\n# your submission files.\\n\\nimport os\\nfrom datetime import datetime\\nimport IPython.core.history as history\\n\\nha = history.HistoryAccessor()\\nha_tail = ha.get_tail(1)\\nha_cmd = next(ha_tail)\\nsession_id = str(ha_cmd[0])\\ncommand_id = str(ha_cmd[1])\\ntimestamp = datetime.utcnow().isoformat()\\nhistory_line = ','.join([session_id, command_id, timestamp]) + '\\\\n'\\nlogfile = open(os.environ['HOME']+'/ipython_session_log.csv', 'a')\\nlogfile.write(history_line)\\nlogfile.close()\\n\")"
   ]
  },
  {
   "cell_type": "markdown",
   "id": "154a594d",
   "metadata": {},
   "source": [
    "SUBMISSION 11 Milestone\n",
    "The task was to predict the total_claims for week 42\n",
    "For each week there is a distinct list of uu_ids with unique uu_id in the table called prediction_list\n",
    "Predict a value for each of those uu_ids\n",
    "The list is changing over time (given the streaming nature of the data)"
   ]
  },
  {
   "cell_type": "code",
   "execution_count": 2,
   "id": "c30deb78",
   "metadata": {},
   "outputs": [],
   "source": [
    "get_ipython().run_cell_magic('capture', '', \"\\n# INSTALL ADDITIONAL LIBRARIES IF REQUIRED\\n# ------------------------------------------\\n# This is normally not required. The hub environment comes preinstaled with \\n# many packages that you can already use without setup. In case there is some\\n# other library you would like to use that isn't on the list you run this command\\n# once to install them.  If it is already installed this command has no effect.\\n\\n!python3 -m pip install pandas\\n!python3 -m pip install [ensorflow]\\n!python3 -m pip install [Keras]\\n!python3 -m pip install [Pytorch]\\n\")"
   ]
  },
  {
   "cell_type": "markdown",
   "id": "f5ad0912",
   "metadata": {},
   "source": [
    "INSTALL PACKAGES"
   ]
  },
  {
   "cell_type": "code",
   "execution_count": 3,
   "id": "7bf8bea9",
   "metadata": {},
   "outputs": [
    {
     "name": "stdout",
     "output_type": "stream",
     "text": [
      "Requirement already satisfied: db-dtypes in /opt/anaconda3/lib/python3.9/site-packages (1.0.5)\n",
      "Requirement already satisfied: pandas<2.0dev,>=0.24.2 in /opt/anaconda3/lib/python3.9/site-packages (from db-dtypes) (1.5.3)\n",
      "Requirement already satisfied: pyarrow>=3.0.0 in /opt/anaconda3/lib/python3.9/site-packages (from db-dtypes) (10.0.1)\n",
      "Requirement already satisfied: packaging>=17.0 in /opt/anaconda3/lib/python3.9/site-packages (from db-dtypes) (21.3)\n",
      "Requirement already satisfied: numpy<2.0dev,>=1.16.6 in /opt/anaconda3/lib/python3.9/site-packages (from db-dtypes) (1.22.4)\n",
      "Requirement already satisfied: pyparsing!=3.0.5,>=2.0.2 in /opt/anaconda3/lib/python3.9/site-packages (from packaging>=17.0->db-dtypes) (3.0.4)\n",
      "Requirement already satisfied: pytz>=2020.1 in /opt/anaconda3/lib/python3.9/site-packages (from pandas<2.0dev,>=0.24.2->db-dtypes) (2021.3)\n",
      "Requirement already satisfied: python-dateutil>=2.8.1 in /opt/anaconda3/lib/python3.9/site-packages (from pandas<2.0dev,>=0.24.2->db-dtypes) (2.8.2)\n",
      "Requirement already satisfied: six>=1.5 in /opt/anaconda3/lib/python3.9/site-packages (from python-dateutil>=2.8.1->pandas<2.0dev,>=0.24.2->db-dtypes) (1.16.0)\n",
      "Requirement already satisfied: plotly in /opt/anaconda3/lib/python3.9/site-packages (5.11.0)\n",
      "Requirement already satisfied: tenacity>=6.2.0 in /opt/anaconda3/lib/python3.9/site-packages (from plotly) (8.1.0)\n",
      "Requirement already satisfied: plotly-geo in /opt/anaconda3/lib/python3.9/site-packages (1.0.0)\n",
      "Requirement already satisfied: geopandas in /opt/anaconda3/lib/python3.9/site-packages (0.12.2)\n",
      "Requirement already satisfied: fiona>=1.8 in /opt/anaconda3/lib/python3.9/site-packages (from geopandas) (1.9.1)\n",
      "Requirement already satisfied: shapely>=1.7 in /opt/anaconda3/lib/python3.9/site-packages (from geopandas) (2.0.1)\n",
      "Requirement already satisfied: packaging in /opt/anaconda3/lib/python3.9/site-packages (from geopandas) (21.3)\n",
      "Requirement already satisfied: pandas>=1.0.0 in /opt/anaconda3/lib/python3.9/site-packages (from geopandas) (1.5.3)\n",
      "Requirement already satisfied: pyproj>=2.6.1.post1 in /opt/anaconda3/lib/python3.9/site-packages (from geopandas) (3.4.1)\n",
      "Requirement already satisfied: attrs>=19.2.0 in /opt/anaconda3/lib/python3.9/site-packages (from fiona>=1.8->geopandas) (21.2.0)\n",
      "Requirement already satisfied: certifi in /opt/anaconda3/lib/python3.9/site-packages (from fiona>=1.8->geopandas) (2021.10.8)\n",
      "Requirement already satisfied: cligj>=0.5 in /opt/anaconda3/lib/python3.9/site-packages (from fiona>=1.8->geopandas) (0.7.2)\n",
      "Requirement already satisfied: munch>=2.3.2 in /opt/anaconda3/lib/python3.9/site-packages (from fiona>=1.8->geopandas) (2.5.0)\n",
      "Requirement already satisfied: click~=8.0 in /opt/anaconda3/lib/python3.9/site-packages (from fiona>=1.8->geopandas) (8.0.3)\n",
      "Requirement already satisfied: setuptools in /opt/anaconda3/lib/python3.9/site-packages (from fiona>=1.8->geopandas) (58.0.4)\n",
      "Requirement already satisfied: click-plugins>=1.0 in /opt/anaconda3/lib/python3.9/site-packages (from fiona>=1.8->geopandas) (1.1.1)\n",
      "Requirement already satisfied: six in /opt/anaconda3/lib/python3.9/site-packages (from munch>=2.3.2->fiona>=1.8->geopandas) (1.16.0)\n",
      "Requirement already satisfied: python-dateutil>=2.8.1 in /opt/anaconda3/lib/python3.9/site-packages (from pandas>=1.0.0->geopandas) (2.8.2)\n",
      "Requirement already satisfied: numpy>=1.20.3 in /opt/anaconda3/lib/python3.9/site-packages (from pandas>=1.0.0->geopandas) (1.22.4)\n",
      "Requirement already satisfied: pytz>=2020.1 in /opt/anaconda3/lib/python3.9/site-packages (from pandas>=1.0.0->geopandas) (2021.3)\n",
      "Requirement already satisfied: pyparsing!=3.0.5,>=2.0.2 in /opt/anaconda3/lib/python3.9/site-packages (from packaging->geopandas) (3.0.4)\n",
      "Requirement already satisfied: shapely in /opt/anaconda3/lib/python3.9/site-packages (2.0.1)\n",
      "Requirement already satisfied: numpy>=1.14 in /opt/anaconda3/lib/python3.9/site-packages (from shapely) (1.22.4)\n"
     ]
    }
   ],
   "source": [
    "get_ipython().system('pip install db-dtypes')\n",
    "get_ipython().system('pip install plotly')\n",
    "get_ipython().system('pip install plotly-geo')\n",
    "get_ipython().system('pip install geopandas')\n",
    "get_ipython().system('pip install shapely')"
   ]
  },
  {
   "cell_type": "markdown",
   "id": "4b2739c4",
   "metadata": {},
   "source": [
    "IMPORT THE LIBRARIES YOU WILL USE\n",
    "------------------------------------------\n",
    "You only need to import packages one time per notebook session. To keep your\n",
    "notebook clean and organized you can handle all imports at the top of your file.\n",
    "The following are included for example purposed, feel free to modify or delete \n",
    "anything in this section."
   ]
  },
  {
   "cell_type": "code",
   "execution_count": 4,
   "id": "ecbc41de",
   "metadata": {},
   "outputs": [],
   "source": [
    "import csv\n",
    "import pandas as pd\n",
    "import numpy as np\n",
    "from google.cloud import bigquery\n",
    "from google.oauth2 import service_account\n",
    "from google.cloud.bigquery import magics\n",
    "import statsmodels.api as sm\n",
    "import math"
   ]
  },
  {
   "cell_type": "markdown",
   "id": "99112436",
   "metadata": {},
   "source": [
    "IMPORT THE DATASET"
   ]
  },
  {
   "cell_type": "code",
   "execution_count": 5,
   "id": "011719e7",
   "metadata": {},
   "outputs": [],
   "source": [
    "import pandas as pd\n",
    "import numpy as np\n",
    "import matplotlib.pyplot as plt\n",
    "import seaborn as sns\n",
    "get_ipython().run_line_magic('matplotlib', 'inline')"
   ]
  },
  {
   "cell_type": "code",
   "execution_count": 6,
   "id": "f9db072c",
   "metadata": {},
   "outputs": [],
   "source": [
    "import os\n",
    "from google.cloud import bigquery\n",
    "from google.oauth2 import service_account\n",
    "from google.cloud.bigquery import magics"
   ]
  },
  {
   "cell_type": "markdown",
   "id": "eb58196c",
   "metadata": {},
   "source": [
    "IMPORT IRONHACKS DATA"
   ]
  },
  {
   "cell_type": "code",
   "execution_count": 7,
   "id": "2bfc0358",
   "metadata": {},
   "outputs": [],
   "source": [
    "import os\n",
    "BIGQUERY_PROJECT = 'ironhacks-data'"
   ]
  },
  {
   "cell_type": "code",
   "execution_count": 8,
   "id": "fb3fab18",
   "metadata": {},
   "outputs": [
    {
     "data": {
      "text/plain": [
       "<google.cloud.bigquery.client.Client at 0x7fd332336d90>"
      ]
     },
     "execution_count": 8,
     "metadata": {},
     "output_type": "execute_result"
    }
   ],
   "source": [
    "bigquery.Client(project=BIGQUERY_PROJECT)"
   ]
  },
  {
   "cell_type": "markdown",
   "id": "50a5871e",
   "metadata": {},
   "source": [
    "IMPORT THE LINEAR REGRESSION MODEL"
   ]
  },
  {
   "cell_type": "code",
   "execution_count": 9,
   "id": "ef145472",
   "metadata": {},
   "outputs": [],
   "source": [
    "import csv\n",
    "import pandas as pd\n",
    "import numpy as np\n",
    "from google.cloud import bigquery\n",
    "from google.oauth2 import service_account\n",
    "from google.cloud.bigquery import magics\n",
    "from sklearn.model_selection import train_test_split \n",
    "from sklearn.linear_model import LinearRegression\n",
    "from sklearn import metrics\n",
    "import matplotlib.pyplot as plt  "
   ]
  },
  {
   "cell_type": "markdown",
   "id": "c8a776a4",
   "metadata": {},
   "source": [
    "IMPORT PACKAGE THE LINEAR REGRESSION MODEL- SCIKIT-LEARN \n",
    "SOURCE: https://realpython.com/linear-regression-in-python/#simple-linear-regression-with-scikit-learn\n",
    "NUMPY IS A FUNDAMENTAL PUYTHON SCIENTIFIC PACKAGE THAT ALLOWS MANY HIGH PEROFORMATION OPERATION SON A SINGLE AND MULTI DIMENSIONAL ARRAYS.\n",
    "SOURCE: https://realpython.com/linear-regression-in-python/#python-packages-for-linear-regression"
   ]
  },
  {
   "cell_type": "code",
   "execution_count": 10,
   "id": "3365ddca",
   "metadata": {},
   "outputs": [],
   "source": [
    "import numpy as np\n",
    "from sklearn.linear_model import LinearRegression"
   ]
  },
  {
   "cell_type": "code",
   "execution_count": 11,
   "id": "ec4946f6",
   "metadata": {
    "lines_to_next_cell": 1
   },
   "outputs": [],
   "source": [
    "# DEFINING THE DATA; INPUTS (REGRESSOR.X) AND OUTPUTS (RESPONSE.Y)\n",
    "x = np.array([5, 15, 25, 35, 45, 55]).reshape((-1, 1))\n",
    "y = np.array([5, 20, 14, 32, 22, 38])"
   ]
  },
  {
   "cell_type": "markdown",
   "id": "0417e93d",
   "metadata": {},
   "source": [
    "DEFINE YOUR CLASSES AND FUNCTIONS \n",
    "-----------------------------------\n",
    "This is not required, but is helpful in keeping your notebook organized. \n",
    "You can use the following cell or several cells to define your functions\n",
    "and classes to keep them separate from your analysis or results code.\n",
    "In general it useful to define your methods in a separate cell from where\n",
    "it is run."
   ]
  },
  {
   "cell_type": "code",
   "execution_count": 12,
   "id": "ee933bec",
   "metadata": {
    "lines_to_next_cell": 1
   },
   "outputs": [],
   "source": [
    "def example_function():\n",
    "    print('Hello World')"
   ]
  },
  {
   "cell_type": "code",
   "execution_count": 13,
   "id": "2112e93d",
   "metadata": {},
   "outputs": [],
   "source": [
    "# CREATE A LINEAR REGRESSION MODEL\n",
    "model = LinearRegression()"
   ]
  },
  {
   "cell_type": "markdown",
   "id": "04649295",
   "metadata": {},
   "source": [
    "START USING A MODEL - .fit() fits the model\n",
    "SOURCE: REAL PYTHON - https://realpython.com/linear-regression-in-python/#simple-linear-regression-with-scikit-learn"
   ]
  },
  {
   "cell_type": "code",
   "execution_count": 14,
   "id": "392b02c8",
   "metadata": {},
   "outputs": [
    {
     "data": {
      "text/plain": [
       "sklearn.linear_model._base.LinearRegression"
      ]
     },
     "execution_count": 14,
     "metadata": {},
     "output_type": "execute_result"
    }
   ],
   "source": [
    "model.fit(x,y)\n",
    "LinearRegression"
   ]
  },
  {
   "cell_type": "code",
   "execution_count": 15,
   "id": "f7f3284e",
   "metadata": {},
   "outputs": [
    {
     "name": "stdout",
     "output_type": "stream",
     "text": [
      "coefficient of determination: 0.7158756137479542\n"
     ]
    }
   ],
   "source": [
    "# GET RESULTS - NOW THAT THE MODEL HAS BEEN FITTED; LET SEE IF IT WORKS!\n",
    "r_sq = model.score(x, y)\n",
    "print(f\"coefficient of determination: {r_sq}\")"
   ]
  },
  {
   "cell_type": "markdown",
   "id": "f5504ce2",
   "metadata": {},
   "source": [
    "THE RETURN VALUE SHOULD BE R2"
   ]
  },
  {
   "cell_type": "markdown",
   "id": "07fd0b61",
   "metadata": {},
   "source": [
    "DETERMIINE HOW TO GET b0 and b1 (scikit-learn)\n",
    "intercept and coefficient are estimated values"
   ]
  },
  {
   "cell_type": "code",
   "execution_count": 16,
   "id": "1820afe9",
   "metadata": {},
   "outputs": [
    {
     "name": "stdout",
     "output_type": "stream",
     "text": [
      "intercept: [5.63333333]\n"
     ]
    }
   ],
   "source": [
    "new_model = LinearRegression().fit(x,y.reshape((-1,1)))\n",
    "print(f\"intercept: {new_model.intercept_}\")"
   ]
  },
  {
   "cell_type": "code",
   "execution_count": 17,
   "id": "615f4705",
   "metadata": {},
   "outputs": [
    {
     "name": "stdout",
     "output_type": "stream",
     "text": [
      "slope: [[0.54]]\n"
     ]
    }
   ],
   "source": [
    "# DETERMIINE HOW TO GET b0 and b1 (scikit-learn)\n",
    "# intercept and coefficient are estimated values\n",
    "print(f\"slope: {new_model.coef_}\")"
   ]
  },
  {
   "cell_type": "code",
   "execution_count": 18,
   "id": "d37c3bbe",
   "metadata": {},
   "outputs": [
    {
     "name": "stdout",
     "output_type": "stream",
     "text": [
      "predicted response:\n",
      "[ 8.33333333 13.73333333 19.13333333 24.53333333 29.93333333 35.33333333]\n"
     ]
    }
   ],
   "source": [
    "# NOW THAT WE KNOW OUR MODEL IS WORKING; LET'S PREDICT A RESPONSE!\n",
    "y_pred = model.predict(x)\n",
    "print(f\"predicted response:\\n{y_pred}\")"
   ]
  },
  {
   "cell_type": "markdown",
   "id": "1729536c",
   "metadata": {},
   "source": [
    "HERE'S ANOTHER WAY TO PREDICT THE RESPONSE\n",
    "THIS IS WERE EACH ELEMENT OF X WERE MULTIPLIED BY WITH THE MODEL COEFFICIENT"
   ]
  },
  {
   "cell_type": "code",
   "execution_count": 19,
   "id": "5ecb34ff",
   "metadata": {},
   "outputs": [
    {
     "name": "stdout",
     "output_type": "stream",
     "text": [
      "predicted response:\n",
      "[[ 8.33333333]\n",
      " [13.73333333]\n",
      " [19.13333333]\n",
      " [24.53333333]\n",
      " [29.93333333]\n",
      " [35.33333333]]\n"
     ]
    }
   ],
   "source": [
    "y_pred = model.intercept_ + model.coef_ * x\n",
    "print(f\"predicted response:\\n{y_pred}\")"
   ]
  },
  {
   "cell_type": "markdown",
   "id": "5ba54d8c",
   "metadata": {},
   "source": [
    "REGRESSION MODELS ARE TYPCIALLY USED FOR FORECASTS\n",
    "FITTED MODELS CAN BE USED TO CALCULATE THE OUTPUTS"
   ]
  },
  {
   "cell_type": "code",
   "execution_count": 20,
   "id": "736d1e5b",
   "metadata": {},
   "outputs": [
    {
     "data": {
      "text/plain": [
       "array([[0],\n",
       "       [1],\n",
       "       [2],\n",
       "       [3],\n",
       "       [4]])"
      ]
     },
     "execution_count": 20,
     "metadata": {},
     "output_type": "execute_result"
    }
   ],
   "source": [
    "x_new = np.arange(5). reshape((-1, 1))\n",
    "x_new"
   ]
  },
  {
   "cell_type": "code",
   "execution_count": 21,
   "id": "9d21c5c9",
   "metadata": {},
   "outputs": [
    {
     "data": {
      "text/plain": [
       "array([5.63333333, 6.17333333, 6.71333333, 7.25333333, 7.79333333])"
      ]
     },
     "execution_count": 21,
     "metadata": {},
     "output_type": "execute_result"
    }
   ],
   "source": [
    "# REGRESSION MODELS ARE TYPCIALLY USED FOR FORECASTS\n",
    "# FITTED MODELS CAN BE USED TO CALCULATE THE OUTPUTS\n",
    "y_new = model.predict(x_new)\n",
    "y_new"
   ]
  },
  {
   "cell_type": "markdown",
   "id": "69943506",
   "metadata": {},
   "source": [
    "Obtain data using BigQuery"
   ]
  },
  {
   "cell_type": "code",
   "execution_count": 22,
   "id": "df228f24",
   "metadata": {},
   "outputs": [],
   "source": [
    "BIGQUERY_PROJECT = 'ironhacks-data'\n",
    "bigquery_client = bigquery.Client(project=BIGQUERY_PROJECT)"
   ]
  },
  {
   "cell_type": "code",
   "execution_count": 23,
   "id": "b812db9a",
   "metadata": {},
   "outputs": [],
   "source": [
    "query = \"\"\"\n",
    "SELECT\n",
    "x.*,\n",
    "y.average_wage\n",
    "FROM\n",
    "(SELECT\n",
    "*\n",
    "FROM `ironhacks-data.ironhacks_competition.unemployment_data`) x\n",
    "JOIN `ironhacks-data.ironhacks_competition.wage_data` y\n",
    "ON x.uu_id = y.uu_id\n",
    "\"\"\""
   ]
  },
  {
   "cell_type": "code",
   "execution_count": 24,
   "id": "f522f6c8",
   "metadata": {},
   "outputs": [],
   "source": [
    "query_job = bigquery_client.query(query)\n",
    "data = query_job.to_dataframe()"
   ]
  },
  {
   "cell_type": "code",
   "execution_count": 25,
   "id": "d78390f5",
   "metadata": {},
   "outputs": [],
   "source": [
    "query_pred = \"\"\"\n",
    "SELECT * FROM `ironhacks-data.ironhacks_competition.prediction_list`\n",
    "\"\"\""
   ]
  },
  {
   "cell_type": "code",
   "execution_count": 26,
   "id": "c17b1d0f",
   "metadata": {},
   "outputs": [],
   "source": [
    "query_job_pred = bigquery_client.query(query_pred)\n",
    "data_pred_query= query_job_pred.to_dataframe()"
   ]
  },
  {
   "cell_type": "code",
   "execution_count": 27,
   "id": "6355483c",
   "metadata": {},
   "outputs": [],
   "source": [
    "# START USING A MODEL - Same statement written differently\n",
    "model = LinearRegression().fit(x,y)"
   ]
  },
  {
   "cell_type": "code",
   "execution_count": 28,
   "id": "95c57022",
   "metadata": {},
   "outputs": [
    {
     "name": "stdout",
     "output_type": "stream",
     "text": [
      "coefficient of determination: 0.7158756137479542\n"
     ]
    }
   ],
   "source": [
    "# GET RESULTS - NOW THAT THE MODEL HAS BEEN FITTED; LET SEE IF IT WORKS!\n",
    "r_sq = model.score(x, y)\n",
    "print(f\"coefficient of determination: {r_sq}\")"
   ]
  },
  {
   "cell_type": "markdown",
   "id": "a19f183a",
   "metadata": {},
   "source": [
    "THE RETURN VALUE SHOULD BE R2"
   ]
  },
  {
   "cell_type": "code",
   "execution_count": 29,
   "id": "1e7b0dfe",
   "metadata": {},
   "outputs": [
    {
     "data": {
      "text/plain": [
       "LinearRegression()"
      ]
     },
     "execution_count": 29,
     "metadata": {},
     "output_type": "execute_result"
    }
   ],
   "source": [
    "# Linear Regression\n",
    "model.fit(x, y)\n",
    "LinearRegression()"
   ]
  },
  {
   "cell_type": "code",
   "execution_count": 30,
   "id": "2a8cb3fc",
   "metadata": {},
   "outputs": [],
   "source": [
    "# Test Linear Regression\n",
    "model = LinearRegression().fit(x, y)"
   ]
  },
  {
   "cell_type": "code",
   "execution_count": 31,
   "id": "9ddf53f1",
   "metadata": {},
   "outputs": [
    {
     "name": "stdout",
     "output_type": "stream",
     "text": [
      "coefficient of determination: 0.7158756137479542\n"
     ]
    }
   ],
   "source": [
    "# Test Linear Regression\n",
    "r_sq = model.score(x, y)\n",
    "print(f\"coefficient of determination: {r_sq}\")"
   ]
  },
  {
   "cell_type": "code",
   "execution_count": 32,
   "id": "520adf33",
   "metadata": {},
   "outputs": [
    {
     "name": "stdout",
     "output_type": "stream",
     "text": [
      "predicted response:\n",
      "[[ 8.33333333]\n",
      " [13.73333333]\n",
      " [19.13333333]\n",
      " [24.53333333]\n",
      " [29.93333333]\n",
      " [35.33333333]]\n"
     ]
    }
   ],
   "source": [
    "# Test Linear Regression\n",
    "print(f\"predicted response:\\n{y_pred}\")"
   ]
  },
  {
   "cell_type": "code",
   "execution_count": 33,
   "id": "194f8042",
   "metadata": {},
   "outputs": [
    {
     "name": "stdout",
     "output_type": "stream",
     "text": [
      "intercept: [5.63333333]\n"
     ]
    }
   ],
   "source": [
    "# Test Linear Regression\n",
    "new_model = LinearRegression().fit(x, y.reshape((-1, 1)))\n",
    "print(f\"intercept: {new_model.intercept_}\")"
   ]
  },
  {
   "cell_type": "code",
   "execution_count": 34,
   "id": "b95afaec",
   "metadata": {},
   "outputs": [
    {
     "name": "stdout",
     "output_type": "stream",
     "text": [
      "slope: [[0.54]]\n"
     ]
    }
   ],
   "source": [
    "print(f\"slope: {new_model.coef_}\")"
   ]
  },
  {
   "cell_type": "code",
   "execution_count": 35,
   "id": "683b4e22",
   "metadata": {},
   "outputs": [
    {
     "data": {
      "text/plain": [
       "array([[0],\n",
       "       [1],\n",
       "       [2],\n",
       "       [3],\n",
       "       [4]])"
      ]
     },
     "execution_count": 35,
     "metadata": {},
     "output_type": "execute_result"
    }
   ],
   "source": [
    "# Test Linear Regression\n",
    "x_new = np.arange(5).reshape((-1, 1))\n",
    "x_new"
   ]
  },
  {
   "cell_type": "code",
   "execution_count": 36,
   "id": "ed4b3ad2",
   "metadata": {},
   "outputs": [
    {
     "data": {
      "text/plain": [
       "array([[ 5],\n",
       "       [15],\n",
       "       [25],\n",
       "       [35],\n",
       "       [45],\n",
       "       [55]])"
      ]
     },
     "execution_count": 36,
     "metadata": {},
     "output_type": "execute_result"
    }
   ],
   "source": [
    "# Test Linear Regression\n",
    "x"
   ]
  },
  {
   "cell_type": "code",
   "execution_count": 37,
   "id": "dfd1ab60",
   "metadata": {},
   "outputs": [
    {
     "data": {
      "text/plain": [
       "array([ 5, 20, 14, 32, 22, 38])"
      ]
     },
     "execution_count": 37,
     "metadata": {},
     "output_type": "execute_result"
    }
   ],
   "source": [
    "# Test Linear Regression\n",
    "y"
   ]
  },
  {
   "cell_type": "code",
   "execution_count": 38,
   "id": "4ac36639",
   "metadata": {},
   "outputs": [],
   "source": [
    "# Test Linear Regression\n",
    "model = LinearRegression().fit(x, y)"
   ]
  },
  {
   "cell_type": "code",
   "execution_count": 39,
   "id": "6421cb14",
   "metadata": {},
   "outputs": [],
   "source": [
    "# Test Linear Regression\n",
    "model = sm.OLS(y, x)"
   ]
  },
  {
   "cell_type": "code",
   "execution_count": 40,
   "id": "14421a63",
   "metadata": {},
   "outputs": [],
   "source": [
    "# Test Linear Regression\n",
    "results = model.fit()"
   ]
  },
  {
   "cell_type": "markdown",
   "id": "11b75147",
   "metadata": {},
   "source": [
    "install conda install module_name"
   ]
  },
  {
   "cell_type": "code",
   "execution_count": 41,
   "id": "5e3a8ca3",
   "metadata": {},
   "outputs": [
    {
     "name": "stdout",
     "output_type": "stream",
     "text": [
      "                                 OLS Regression Results                                \n",
      "=======================================================================================\n",
      "Dep. Variable:                      y   R-squared (uncentered):                   0.930\n",
      "Model:                            OLS   Adj. R-squared (uncentered):              0.916\n",
      "Method:                 Least Squares   F-statistic:                              66.71\n",
      "Date:                Fri, 21 Apr 2023   Prob (F-statistic):                    0.000447\n",
      "Time:                        18:26:09   Log-Likelihood:                         -19.692\n",
      "No. Observations:                   6   AIC:                                      41.38\n",
      "Df Residuals:                       5   BIC:                                      41.18\n",
      "Df Model:                           1                                                  \n",
      "Covariance Type:            nonrobust                                                  \n",
      "==============================================================================\n",
      "                 coef    std err          t      P>|t|      [0.025      0.975]\n",
      "------------------------------------------------------------------------------\n",
      "x1             0.6818      0.083      8.167      0.000       0.467       0.896\n",
      "==============================================================================\n",
      "Omnibus:                          nan   Durbin-Watson:                   2.904\n",
      "Prob(Omnibus):                    nan   Jarque-Bera (JB):                0.334\n",
      "Skew:                          -0.137   Prob(JB):                        0.846\n",
      "Kurtosis:                       1.877   Cond. No.                         1.00\n",
      "==============================================================================\n",
      "\n",
      "Notes:\n",
      "[1] R² is computed without centering (uncentered) since the model does not contain a constant.\n",
      "[2] Standard Errors assume that the covariance matrix of the errors is correctly specified.\n"
     ]
    },
    {
     "name": "stderr",
     "output_type": "stream",
     "text": [
      "/opt/anaconda3/lib/python3.9/site-packages/statsmodels/stats/stattools.py:74: ValueWarning: omni_normtest is not valid with less than 8 observations; 6 samples were given.\n",
      "  warn(\"omni_normtest is not valid with less than 8 observations; %i \"\n"
     ]
    }
   ],
   "source": [
    "# Test Linear Regression\n",
    "print(results.summary())"
   ]
  },
  {
   "cell_type": "code",
   "execution_count": 42,
   "id": "f491fcef",
   "metadata": {},
   "outputs": [],
   "source": [
    "from statsmodels.compat import lzip\n",
    "import numpy as np\n",
    "import matplotlib.pyplot as plt\n",
    "import statsmodels.api as sm\n",
    "from statsmodels.formula.api import ols"
   ]
  },
  {
   "cell_type": "code",
   "execution_count": 43,
   "id": "86594cfe",
   "metadata": {},
   "outputs": [],
   "source": [
    "plt.rc(\"figure\", figsize=(16, 8))\n",
    "plt.rc(\"font\", size=14)"
   ]
  },
  {
   "cell_type": "markdown",
   "id": "35849b61",
   "metadata": {},
   "source": [
    "https://www.statsmodels.org/dev/examples/notebooks/generated/regression_plots.html"
   ]
  },
  {
   "cell_type": "markdown",
   "id": "c9f124c0",
   "metadata": {},
   "source": [
    "dta = pd.read_csv(\"http://www.stat.ufl.edu/~aa/social/csv_files/statewide-crime-2.csv\")\n",
    "dta = dta.set_index(\"State\", inplace=True).dropna()\n",
    "dta.rename(columns={\"VR\" : \"crime\",\n",
    "                   \"MR\" : \"murder\",\n",
    "                   \"M\"  : \"pctmetro\",\n",
    "                   \"W\"  : \"pctwhite\",\n",
    "                   \"H\"  : \"pcths\",\n",
    "                   \"P\"  : \"poverty\",\n",
    "                   \"S\"  : \"single\"\n",
    "                   }, inplace=True)\n",
    "\n",
    "crime_model = ols(\"murder ~ pctmetro + poverty + pcths + single\", data=dta).fit()"
   ]
  },
  {
   "cell_type": "code",
   "execution_count": 44,
   "id": "3236d74d",
   "metadata": {},
   "outputs": [],
   "source": [
    "dta = sm.datasets.statecrime.load_pandas().data"
   ]
  },
  {
   "cell_type": "markdown",
   "id": "15758f29",
   "metadata": {},
   "source": [
    "LINEAR REGRESSION\n",
    "TOWARD DATA SCIENCE https://towardsdatascience.com/multiple-linear-regression-model-using-python-machine-learning-d00c78f1172a"
   ]
  },
  {
   "cell_type": "code",
   "execution_count": 45,
   "id": "8b6d811d",
   "metadata": {},
   "outputs": [],
   "source": [
    "# https://www.statsmodels.org/dev/examples/notebooks/generated/plots_boxplots.html\n",
    "get_ipython().run_line_magic('matplotlib', 'inline')"
   ]
  },
  {
   "cell_type": "code",
   "execution_count": 46,
   "id": "21f19d08",
   "metadata": {},
   "outputs": [],
   "source": [
    "import numpy as np\n",
    "import matplotlib.pyplot as plt\n",
    "import statsmodels.api as sm"
   ]
  },
  {
   "cell_type": "markdown",
   "id": "11eb67f8",
   "metadata": {},
   "source": [
    "STAT Models\n",
    "https://www.statsmodels.org/dev/examples/notebooks/generated/plots_boxplots.html"
   ]
  },
  {
   "cell_type": "code",
   "execution_count": 47,
   "id": "157fe018",
   "metadata": {},
   "outputs": [],
   "source": [
    "data = sm.datasets.anes96.load_pandas()\n",
    "party_ID = np.arange(7)\n",
    "labels = [\n",
    "    \"Strong Democrat\",\n",
    "    \"Weak Democrat\",\n",
    "    \"Independent-Democrat\",\n",
    "    \"Independent-Independent\",\n",
    "    \"Independent-Republican\",\n",
    "    \"Weak Republican\",\n",
    "    \"Strong Republican\",\n",
    "]"
   ]
  },
  {
   "cell_type": "code",
   "execution_count": 48,
   "id": "b1335701",
   "metadata": {},
   "outputs": [
    {
     "data": {
      "text/plain": [
       "Text(0, 0.5, 'Age')"
      ]
     },
     "execution_count": 48,
     "metadata": {},
     "output_type": "execute_result"
    },
    {
     "data": {
      "image/png": "[encoded data removed]",
      "text/plain": [
       "<Figure size 720x576 with 1 Axes>"
      ]
     },
     "metadata": {
      "needs_background": "light"
     },
     "output_type": "display_data"
    }
   ],
   "source": [
    "# STAT Models\n",
    "# https://www.statsmodels.org/dev/examples/notebooks/generated/plots_boxplots.html\n",
    "plt.rcParams[\"figure.subplot.bottom\"] = 0.23  # keep labels visible\n",
    "plt.rcParams[\"figure.figsize\"] = (10.0, 8.0)  # make plot larger in notebook\n",
    "age = [data.exog[\"age\"][data.endog == id] for id in party_ID]\n",
    "fig = plt.figure()\n",
    "ax = fig.add_subplot(111)\n",
    "plot_opts = {\n",
    "    \"cutoff_val\": 5,\n",
    "    \"cutoff_type\": \"abs\",\n",
    "    \"label_fontsize\": \"small\",\n",
    "    \"label_rotation\": 30,\n",
    "}\n",
    "sm.graphics.beanplot(age, ax=ax, labels=labels, plot_opts=plot_opts)\n",
    "ax.set_xlabel(\"Party identification of respondent.\")\n",
    "ax.set_ylabel(\"Age\")\n",
    "# plt.show()"
   ]
  },
  {
   "cell_type": "markdown",
   "id": "e183cf9f",
   "metadata": {},
   "source": [
    "PREDICTING THE RESULTS\n",
    "COMPLETE PYTHON CODE FOR LINEAR REGRESSION\n",
    "CREDIT: ASK PYTHON"
   ]
  },
  {
   "cell_type": "markdown",
   "id": "fdc1b4e1",
   "metadata": {},
   "source": [
    "SIMPLE REGRESSION ANALYSIS"
   ]
  },
  {
   "cell_type": "markdown",
   "id": "9ffa3ad7",
   "metadata": {},
   "source": [
    "CALCULATING MAPE\n",
    "CREDIT: ASK PYTHON"
   ]
  },
  {
   "cell_type": "code",
   "execution_count": 49,
   "id": "e9e5806e",
   "metadata": {},
   "outputs": [],
   "source": [
    "query_job = bigquery_client.query(query)\n",
    "data = query_job.to_dataframe()"
   ]
  },
  {
   "cell_type": "code",
   "execution_count": 50,
   "id": "6ae3dac6",
   "metadata": {},
   "outputs": [],
   "source": [
    "query_pred = \"\"\"\n",
    "SELECT * FROM `ironhacks-data.ironhacks_competition.unemployment_data`\n",
    "\"\"\""
   ]
  },
  {
   "cell_type": "code",
   "execution_count": 51,
   "id": "70d13f47",
   "metadata": {},
   "outputs": [],
   "source": [
    "query_job_pred = bigquery_client.query(query_pred)\n",
    "data_pred_query = query_job_pred.to_dataframe()"
   ]
  },
  {
   "cell_type": "code",
   "execution_count": 52,
   "id": "263f1237",
   "metadata": {
    "lines_to_next_cell": 1
   },
   "outputs": [],
   "source": [
    "import csv\n",
    "import pandas as pd\n",
    "import numpy as np\n",
    "from google.cloud import bigquery\n",
    "from google.oauth2 import service_account\n",
    "from google.cloud.bigquery import magics\n",
    "from sklearn.model_selection import train_test_split \n",
    "from sklearn.linear_model import LinearRegression\n",
    "from sklearn import metrics\n",
    "import matplotlib.pyplot as plt  "
   ]
  },
  {
   "cell_type": "code",
   "execution_count": 53,
   "id": "5c935bbc",
   "metadata": {
    "lines_to_next_cell": 1
   },
   "outputs": [],
   "source": [
    "# Defining MAPE function\n",
    "def MAPE(Y_actual,Y_Predicted):\n",
    "    mape = np.mean(np.abs((Y_actual - Y_Predicted)/Y_actual))*100\n",
    "    return mape"
   ]
  },
  {
   "cell_type": "code",
   "execution_count": 54,
   "id": "13a02f6a",
   "metadata": {},
   "outputs": [],
   "source": [
    "import os\n",
    "BIGQUERY_PROJECT = 'ironhacks-data'\n",
    "bigquery_client = bigquery.Client(project=BIGQUERY_PROJECT)"
   ]
  },
  {
   "cell_type": "code",
   "execution_count": 55,
   "id": "1c113d32",
   "metadata": {},
   "outputs": [],
   "source": [
    "query = \"\"\"\n",
    "SELECT * FROM `ironhacks-data.ironhacks_competition.unemployment_data`\n",
    "\"\"\""
   ]
  },
  {
   "cell_type": "code",
   "execution_count": 56,
   "id": "5b48fe1e",
   "metadata": {},
   "outputs": [
    {
     "data": {
      "text/html": [
       "<div>\n",
       "<style scoped>\n",
       "    .dataframe tbody tr th:only-of-type {\n",
       "        vertical-align: middle;\n",
       "    }\n",
       "\n",
       "    .dataframe tbody tr th {\n",
       "        vertical-align: top;\n",
       "    }\n",
       "\n",
       "    .dataframe thead th {\n",
       "        text-align: right;\n",
       "    }\n",
       "</style>\n",
       "<table border=\"1\" class=\"dataframe\">\n",
       "  <thead>\n",
       "    <tr style=\"text-align: right;\">\n",
       "      <th></th>\n",
       "      <th>uu_id</th>\n",
       "      <th>timeperiod</th>\n",
       "      <th>week_number</th>\n",
       "      <th>countyfips</th>\n",
       "      <th>tract</th>\n",
       "      <th>tract_name</th>\n",
       "      <th>total_claims</th>\n",
       "      <th>edu_8th_or_less</th>\n",
       "      <th>edu_grades_9_11</th>\n",
       "      <th>edu_hs_grad_equiv</th>\n",
       "      <th>...</th>\n",
       "      <th>gender_female</th>\n",
       "      <th>gender_male</th>\n",
       "      <th>gender_na</th>\n",
       "      <th>race_amerindian</th>\n",
       "      <th>race_asian</th>\n",
       "      <th>race_black</th>\n",
       "      <th>race_noanswer</th>\n",
       "      <th>race_hawaiiannative</th>\n",
       "      <th>race_other</th>\n",
       "      <th>race_white</th>\n",
       "    </tr>\n",
       "  </thead>\n",
       "  <tbody>\n",
       "    <tr>\n",
       "      <th>0</th>\n",
       "      <td>f013068de98db1470bd986137a0c6d23</td>\n",
       "      <td>20220416</td>\n",
       "      <td>16</td>\n",
       "      <td>18003</td>\n",
       "      <td>900</td>\n",
       "      <td>Census Tract 9, Allen County, Indiana</td>\n",
       "      <td>22</td>\n",
       "      <td>0</td>\n",
       "      <td>&lt;NA&gt;</td>\n",
       "      <td>14</td>\n",
       "      <td>...</td>\n",
       "      <td>&lt;NA&gt;</td>\n",
       "      <td>&lt;NA&gt;</td>\n",
       "      <td>0</td>\n",
       "      <td>0</td>\n",
       "      <td>0</td>\n",
       "      <td>11</td>\n",
       "      <td>0</td>\n",
       "      <td>0</td>\n",
       "      <td>&lt;NA&gt;</td>\n",
       "      <td>&lt;NA&gt;</td>\n",
       "    </tr>\n",
       "    <tr>\n",
       "      <th>1</th>\n",
       "      <td>21957d5517323845818d87623589e1ba</td>\n",
       "      <td>20220319</td>\n",
       "      <td>12</td>\n",
       "      <td>18089</td>\n",
       "      <td>10400</td>\n",
       "      <td>Census Tract 104, Lake County, Indiana</td>\n",
       "      <td>111</td>\n",
       "      <td>0</td>\n",
       "      <td>&lt;NA&gt;</td>\n",
       "      <td>108</td>\n",
       "      <td>...</td>\n",
       "      <td>76</td>\n",
       "      <td>35</td>\n",
       "      <td>0</td>\n",
       "      <td>0</td>\n",
       "      <td>0</td>\n",
       "      <td>&lt;NA&gt;</td>\n",
       "      <td>&lt;NA&gt;</td>\n",
       "      <td>0</td>\n",
       "      <td>0</td>\n",
       "      <td>0</td>\n",
       "    </tr>\n",
       "    <tr>\n",
       "      <th>2</th>\n",
       "      <td>6a5609f385912113b6f1014b958ed748</td>\n",
       "      <td>20220326</td>\n",
       "      <td>13</td>\n",
       "      <td>18089</td>\n",
       "      <td>11500</td>\n",
       "      <td>Census Tract 115, Lake County, Indiana</td>\n",
       "      <td>39</td>\n",
       "      <td>0</td>\n",
       "      <td>&lt;NA&gt;</td>\n",
       "      <td>&lt;NA&gt;</td>\n",
       "      <td>...</td>\n",
       "      <td>&lt;NA&gt;</td>\n",
       "      <td>&lt;NA&gt;</td>\n",
       "      <td>0</td>\n",
       "      <td>0</td>\n",
       "      <td>0</td>\n",
       "      <td>39</td>\n",
       "      <td>0</td>\n",
       "      <td>0</td>\n",
       "      <td>0</td>\n",
       "      <td>0</td>\n",
       "    </tr>\n",
       "    <tr>\n",
       "      <th>3</th>\n",
       "      <td>46b2882ec4c373527ec33f7bd4f1388d</td>\n",
       "      <td>20220716</td>\n",
       "      <td>29</td>\n",
       "      <td>18089</td>\n",
       "      <td>20700</td>\n",
       "      <td>Census Tract 207, Lake County, Indiana</td>\n",
       "      <td>14</td>\n",
       "      <td>0</td>\n",
       "      <td>&lt;NA&gt;</td>\n",
       "      <td>&lt;NA&gt;</td>\n",
       "      <td>...</td>\n",
       "      <td>&lt;NA&gt;</td>\n",
       "      <td>&lt;NA&gt;</td>\n",
       "      <td>0</td>\n",
       "      <td>0</td>\n",
       "      <td>&lt;NA&gt;</td>\n",
       "      <td>10</td>\n",
       "      <td>0</td>\n",
       "      <td>0</td>\n",
       "      <td>&lt;NA&gt;</td>\n",
       "      <td>&lt;NA&gt;</td>\n",
       "    </tr>\n",
       "    <tr>\n",
       "      <th>4</th>\n",
       "      <td>37495d17e82f7df326bfc2c4c090f7b7</td>\n",
       "      <td>20220409</td>\n",
       "      <td>15</td>\n",
       "      <td>18089</td>\n",
       "      <td>21900</td>\n",
       "      <td>Census Tract 219, Lake County, Indiana</td>\n",
       "      <td>155</td>\n",
       "      <td>0</td>\n",
       "      <td>&lt;NA&gt;</td>\n",
       "      <td>69</td>\n",
       "      <td>...</td>\n",
       "      <td>90</td>\n",
       "      <td>65</td>\n",
       "      <td>0</td>\n",
       "      <td>0</td>\n",
       "      <td>0</td>\n",
       "      <td>135</td>\n",
       "      <td>&lt;NA&gt;</td>\n",
       "      <td>&lt;NA&gt;</td>\n",
       "      <td>&lt;NA&gt;</td>\n",
       "      <td>&lt;NA&gt;</td>\n",
       "    </tr>\n",
       "  </tbody>\n",
       "</table>\n",
       "<p>5 rows × 25 columns</p>\n",
       "</div>"
      ],
      "text/plain": [
       "                              uu_id  timeperiod  week_number  countyfips  \\\n",
       "0  f013068de98db1470bd986137a0c6d23    20220416           16       18003   \n",
       "1  21957d5517323845818d87623589e1ba    20220319           12       18089   \n",
       "2  6a5609f385912113b6f1014b958ed748    20220326           13       18089   \n",
       "3  46b2882ec4c373527ec33f7bd4f1388d    20220716           29       18089   \n",
       "4  37495d17e82f7df326bfc2c4c090f7b7    20220409           15       18089   \n",
       "\n",
       "   tract                              tract_name  total_claims  \\\n",
       "0    900   Census Tract 9, Allen County, Indiana            22   \n",
       "1  10400  Census Tract 104, Lake County, Indiana           111   \n",
       "2  11500  Census Tract 115, Lake County, Indiana            39   \n",
       "3  20700  Census Tract 207, Lake County, Indiana            14   \n",
       "4  21900  Census Tract 219, Lake County, Indiana           155   \n",
       "\n",
       "   edu_8th_or_less  edu_grades_9_11  edu_hs_grad_equiv  ...  gender_female  \\\n",
       "0                0             <NA>                 14  ...           <NA>   \n",
       "1                0             <NA>                108  ...             76   \n",
       "2                0             <NA>               <NA>  ...           <NA>   \n",
       "3                0             <NA>               <NA>  ...           <NA>   \n",
       "4                0             <NA>                 69  ...             90   \n",
       "\n",
       "   gender_male gender_na race_amerindian race_asian  race_black  \\\n",
       "0         <NA>         0               0          0          11   \n",
       "1           35         0               0          0        <NA>   \n",
       "2         <NA>         0               0          0          39   \n",
       "3         <NA>         0               0       <NA>          10   \n",
       "4           65         0               0          0         135   \n",
       "\n",
       "   race_noanswer  race_hawaiiannative  race_other  race_white  \n",
       "0              0                    0        <NA>        <NA>  \n",
       "1           <NA>                    0           0           0  \n",
       "2              0                    0           0           0  \n",
       "3              0                    0        <NA>        <NA>  \n",
       "4           <NA>                 <NA>        <NA>        <NA>  \n",
       "\n",
       "[5 rows x 25 columns]"
      ]
     },
     "execution_count": 56,
     "metadata": {},
     "output_type": "execute_result"
    }
   ],
   "source": [
    "query_job = bigquery_client.query(query)\n",
    "data = query_job.to_dataframe()\n",
    "data.head()"
   ]
  },
  {
   "cell_type": "code",
   "execution_count": 57,
   "id": "77eeb1a4",
   "metadata": {},
   "outputs": [],
   "source": [
    "X = data['total_claims'].values.reshape(-1,1)\n",
    "y = data['week_number'].values.reshape(-1,1)"
   ]
  },
  {
   "cell_type": "code",
   "execution_count": 58,
   "id": "fc60ba47",
   "metadata": {},
   "outputs": [],
   "source": [
    "X_train, X_test, y_train, y_test = train_test_split(X, y, test_size=0.2, random_state=0)"
   ]
  },
  {
   "cell_type": "markdown",
   "id": "5e0391b3",
   "metadata": {},
   "source": [
    "COMPARE ACTUAL OUTPUT VALUES FOR X_TEST WITH PREDICTED VALUES - TEST"
   ]
  },
  {
   "cell_type": "code",
   "execution_count": 59,
   "id": "6f2757ca",
   "metadata": {},
   "outputs": [],
   "source": [
    "df = pd.DataFrame(np.random.rand(10, 3), columns =['a', 'b', 'c'])"
   ]
  },
  {
   "cell_type": "code",
   "execution_count": 60,
   "id": "94172ebb",
   "metadata": {},
   "outputs": [
    {
     "name": "stdout",
     "output_type": "stream",
     "text": [
      "          a         b         c\n",
      "0  0.126316  0.155777  0.270916\n",
      "1  0.106435  0.333212  0.146157\n",
      "2  0.500857  0.692300  0.405110\n",
      "3  0.762981  0.736917  0.920962\n",
      "4  0.240352  0.915873  0.983266\n",
      "5  0.133338  0.632113  0.903785\n",
      "6  0.097555  0.906639  0.988098\n",
      "7  0.220570  0.208900  0.499007\n",
      "8  0.994710  0.151955  0.743120\n",
      "9  0.364249  0.420705  0.329990\n"
     ]
    }
   ],
   "source": [
    "print(df)"
   ]
  },
  {
   "cell_type": "markdown",
   "id": "17fe0a81",
   "metadata": {},
   "source": [
    "DATA VISUALIZATION - COMPARISON RESULTS AS A BAR GRAPH"
   ]
  },
  {
   "cell_type": "code",
   "execution_count": 61,
   "id": "cc4467e8",
   "metadata": {},
   "outputs": [
    {
     "data": {
      "image/png": "[encoded data removed]",
      "text/plain": [
       "<Figure size 1152x720 with 1 Axes>"
      ]
     },
     "metadata": {
      "needs_background": "light"
     },
     "output_type": "display_data"
    }
   ],
   "source": [
    "df1 = df.head(25)\n",
    "df1.plot(kind='bar',figsize=(16,10))\n",
    "plt.grid(which='major', linestyle='-', linewidth='0.5', color='green')\n",
    "plt.grid(which='minor', linestyle=':', linewidth='0.5', color='black')\n",
    "plt.show()"
   ]
  },
  {
   "cell_type": "code",
   "execution_count": 62,
   "id": "5b559993",
   "metadata": {},
   "outputs": [],
   "source": [
    "# importing matplotlib\n",
    "import matplotlib.pyplot"
   ]
  },
  {
   "cell_type": "code",
   "execution_count": 63,
   "id": "f5bb1df5",
   "metadata": {},
   "outputs": [],
   "source": [
    "# importing pandas as pd\n",
    "import pandas as pd"
   ]
  },
  {
   "cell_type": "code",
   "execution_count": 64,
   "id": "2cfd25ef",
   "metadata": {},
   "outputs": [],
   "source": [
    "# importing numpy as np\n",
    "import numpy as np"
   ]
  },
  {
   "cell_type": "code",
   "execution_count": 65,
   "id": "6d642d8f",
   "metadata": {},
   "outputs": [],
   "source": [
    "# creating a dataframe\n",
    "df = pd.DataFrame(np.random.rand(10, 10),\n",
    "                  columns =['a', 'b', 'c', 'd', 'e', 'f', 'g', 'h', 'i', 'j'])"
   ]
  },
  {
   "cell_type": "code",
   "execution_count": 66,
   "id": "7bb4d741",
   "metadata": {},
   "outputs": [
    {
     "data": {
      "text/html": [
       "<div>\n",
       "<style scoped>\n",
       "    .dataframe tbody tr th:only-of-type {\n",
       "        vertical-align: middle;\n",
       "    }\n",
       "\n",
       "    .dataframe tbody tr th {\n",
       "        vertical-align: top;\n",
       "    }\n",
       "\n",
       "    .dataframe thead th {\n",
       "        text-align: right;\n",
       "    }\n",
       "</style>\n",
       "<table border=\"1\" class=\"dataframe\">\n",
       "  <thead>\n",
       "    <tr style=\"text-align: right;\">\n",
       "      <th></th>\n",
       "      <th>a</th>\n",
       "      <th>b</th>\n",
       "      <th>c</th>\n",
       "      <th>d</th>\n",
       "      <th>e</th>\n",
       "      <th>f</th>\n",
       "      <th>g</th>\n",
       "      <th>h</th>\n",
       "      <th>i</th>\n",
       "      <th>j</th>\n",
       "    </tr>\n",
       "  </thead>\n",
       "  <tbody>\n",
       "    <tr>\n",
       "      <th>0</th>\n",
       "      <td>0.358278</td>\n",
       "      <td>0.704547</td>\n",
       "      <td>0.167080</td>\n",
       "      <td>0.893163</td>\n",
       "      <td>0.799583</td>\n",
       "      <td>0.000341</td>\n",
       "      <td>0.444881</td>\n",
       "      <td>0.909248</td>\n",
       "      <td>0.184593</td>\n",
       "      <td>0.344961</td>\n",
       "    </tr>\n",
       "    <tr>\n",
       "      <th>1</th>\n",
       "      <td>0.074523</td>\n",
       "      <td>0.594489</td>\n",
       "      <td>0.887264</td>\n",
       "      <td>0.275329</td>\n",
       "      <td>0.235334</td>\n",
       "      <td>0.683950</td>\n",
       "      <td>0.274640</td>\n",
       "      <td>0.655394</td>\n",
       "      <td>0.359343</td>\n",
       "      <td>0.830655</td>\n",
       "    </tr>\n",
       "    <tr>\n",
       "      <th>2</th>\n",
       "      <td>0.976877</td>\n",
       "      <td>0.263930</td>\n",
       "      <td>0.852393</td>\n",
       "      <td>0.518440</td>\n",
       "      <td>0.479779</td>\n",
       "      <td>0.031903</td>\n",
       "      <td>0.331045</td>\n",
       "      <td>0.665945</td>\n",
       "      <td>0.903268</td>\n",
       "      <td>0.131239</td>\n",
       "    </tr>\n",
       "    <tr>\n",
       "      <th>3</th>\n",
       "      <td>0.561506</td>\n",
       "      <td>0.260129</td>\n",
       "      <td>0.115204</td>\n",
       "      <td>0.637620</td>\n",
       "      <td>0.158795</td>\n",
       "      <td>0.264371</td>\n",
       "      <td>0.546047</td>\n",
       "      <td>0.405310</td>\n",
       "      <td>0.337653</td>\n",
       "      <td>0.700584</td>\n",
       "    </tr>\n",
       "    <tr>\n",
       "      <th>4</th>\n",
       "      <td>0.856373</td>\n",
       "      <td>0.579462</td>\n",
       "      <td>0.423793</td>\n",
       "      <td>0.397084</td>\n",
       "      <td>0.707376</td>\n",
       "      <td>0.060720</td>\n",
       "      <td>0.235946</td>\n",
       "      <td>0.414228</td>\n",
       "      <td>0.547345</td>\n",
       "      <td>0.153385</td>\n",
       "    </tr>\n",
       "    <tr>\n",
       "      <th>5</th>\n",
       "      <td>0.749302</td>\n",
       "      <td>0.211474</td>\n",
       "      <td>0.643872</td>\n",
       "      <td>0.818245</td>\n",
       "      <td>0.469784</td>\n",
       "      <td>0.987824</td>\n",
       "      <td>0.958941</td>\n",
       "      <td>0.260277</td>\n",
       "      <td>0.169984</td>\n",
       "      <td>0.234889</td>\n",
       "    </tr>\n",
       "    <tr>\n",
       "      <th>6</th>\n",
       "      <td>0.126114</td>\n",
       "      <td>0.754067</td>\n",
       "      <td>0.548077</td>\n",
       "      <td>0.490945</td>\n",
       "      <td>0.779890</td>\n",
       "      <td>0.082062</td>\n",
       "      <td>0.560285</td>\n",
       "      <td>0.360021</td>\n",
       "      <td>0.207729</td>\n",
       "      <td>0.372304</td>\n",
       "    </tr>\n",
       "    <tr>\n",
       "      <th>7</th>\n",
       "      <td>0.437364</td>\n",
       "      <td>0.412248</td>\n",
       "      <td>0.649854</td>\n",
       "      <td>0.348238</td>\n",
       "      <td>0.470080</td>\n",
       "      <td>0.586412</td>\n",
       "      <td>0.208573</td>\n",
       "      <td>0.221214</td>\n",
       "      <td>0.697672</td>\n",
       "      <td>0.465230</td>\n",
       "    </tr>\n",
       "    <tr>\n",
       "      <th>8</th>\n",
       "      <td>0.919644</td>\n",
       "      <td>0.154381</td>\n",
       "      <td>0.968686</td>\n",
       "      <td>0.932159</td>\n",
       "      <td>0.749948</td>\n",
       "      <td>0.002448</td>\n",
       "      <td>0.461723</td>\n",
       "      <td>0.755901</td>\n",
       "      <td>0.422930</td>\n",
       "      <td>0.418805</td>\n",
       "    </tr>\n",
       "    <tr>\n",
       "      <th>9</th>\n",
       "      <td>0.081366</td>\n",
       "      <td>0.884139</td>\n",
       "      <td>0.521565</td>\n",
       "      <td>0.106566</td>\n",
       "      <td>0.339978</td>\n",
       "      <td>0.601411</td>\n",
       "      <td>0.421349</td>\n",
       "      <td>0.011005</td>\n",
       "      <td>0.590682</td>\n",
       "      <td>0.335990</td>\n",
       "    </tr>\n",
       "  </tbody>\n",
       "</table>\n",
       "</div>"
      ],
      "text/plain": [
       "          a         b         c         d         e         f         g  \\\n",
       "0  0.358278  0.704547  0.167080  0.893163  0.799583  0.000341  0.444881   \n",
       "1  0.074523  0.594489  0.887264  0.275329  0.235334  0.683950  0.274640   \n",
       "2  0.976877  0.263930  0.852393  0.518440  0.479779  0.031903  0.331045   \n",
       "3  0.561506  0.260129  0.115204  0.637620  0.158795  0.264371  0.546047   \n",
       "4  0.856373  0.579462  0.423793  0.397084  0.707376  0.060720  0.235946   \n",
       "5  0.749302  0.211474  0.643872  0.818245  0.469784  0.987824  0.958941   \n",
       "6  0.126114  0.754067  0.548077  0.490945  0.779890  0.082062  0.560285   \n",
       "7  0.437364  0.412248  0.649854  0.348238  0.470080  0.586412  0.208573   \n",
       "8  0.919644  0.154381  0.968686  0.932159  0.749948  0.002448  0.461723   \n",
       "9  0.081366  0.884139  0.521565  0.106566  0.339978  0.601411  0.421349   \n",
       "\n",
       "          h         i         j  \n",
       "0  0.909248  0.184593  0.344961  \n",
       "1  0.655394  0.359343  0.830655  \n",
       "2  0.665945  0.903268  0.131239  \n",
       "3  0.405310  0.337653  0.700584  \n",
       "4  0.414228  0.547345  0.153385  \n",
       "5  0.260277  0.169984  0.234889  \n",
       "6  0.360021  0.207729  0.372304  \n",
       "7  0.221214  0.697672  0.465230  \n",
       "8  0.755901  0.422930  0.418805  \n",
       "9  0.011005  0.590682  0.335990  "
      ]
     },
     "execution_count": 66,
     "metadata": {},
     "output_type": "execute_result"
    }
   ],
   "source": [
    "df"
   ]
  },
  {
   "cell_type": "code",
   "execution_count": 67,
   "id": "6c425e91",
   "metadata": {},
   "outputs": [
    {
     "data": {
      "text/plain": [
       "<AxesSubplot:>"
      ]
     },
     "execution_count": 67,
     "metadata": {},
     "output_type": "execute_result"
    },
    {
     "data": {
      "image/png": "[encoded data removed]",
      "text/plain": [
       "<Figure size 720x576 with 1 Axes>"
      ]
     },
     "metadata": {
      "needs_background": "light"
     },
     "output_type": "display_data"
    }
   ],
   "source": [
    "# using a function df.plot.bar()\n",
    "df.plot.bar()"
   ]
  },
  {
   "cell_type": "markdown",
   "id": "31788698",
   "metadata": {},
   "source": [
    "CALCULATING MAPE\n",
    "CREDIT: ASK PYTHON"
   ]
  },
  {
   "cell_type": "code",
   "execution_count": 68,
   "id": "6304db06",
   "metadata": {},
   "outputs": [
    {
     "name": "stdout",
     "output_type": "stream",
     "text": [
      "13.999999999999984\n"
     ]
    }
   ],
   "source": [
    "from sklearn.metrics import mean_absolute_error\n",
    "Y_actual = [1,2,3,4,5]\n",
    "Y_Predicted = [1,2.5,3,4.1,4.9]\n",
    "mape = mean_absolute_error(Y_actual, Y_Predicted)*100\n",
    "print(mape)"
   ]
  },
  {
   "cell_type": "code",
   "execution_count": 69,
   "id": "c7fbd759",
   "metadata": {},
   "outputs": [],
   "source": [
    "query = \"\"\"\n",
    "SELECT *\n",
    "FROM `ironhacks-data.ironhacks_competition.unemployment_data`\n",
    "\"\"\" "
   ]
  },
  {
   "cell_type": "code",
   "execution_count": 70,
   "id": "d78be84a",
   "metadata": {},
   "outputs": [
    {
     "data": {
      "text/html": [
       "<div>\n",
       "<style scoped>\n",
       "    .dataframe tbody tr th:only-of-type {\n",
       "        vertical-align: middle;\n",
       "    }\n",
       "\n",
       "    .dataframe tbody tr th {\n",
       "        vertical-align: top;\n",
       "    }\n",
       "\n",
       "    .dataframe thead th {\n",
       "        text-align: right;\n",
       "    }\n",
       "</style>\n",
       "<table border=\"1\" class=\"dataframe\">\n",
       "  <thead>\n",
       "    <tr style=\"text-align: right;\">\n",
       "      <th></th>\n",
       "      <th>uu_id</th>\n",
       "      <th>timeperiod</th>\n",
       "      <th>week_number</th>\n",
       "      <th>countyfips</th>\n",
       "      <th>tract</th>\n",
       "      <th>tract_name</th>\n",
       "      <th>total_claims</th>\n",
       "      <th>edu_8th_or_less</th>\n",
       "      <th>edu_grades_9_11</th>\n",
       "      <th>edu_hs_grad_equiv</th>\n",
       "      <th>...</th>\n",
       "      <th>gender_female</th>\n",
       "      <th>gender_male</th>\n",
       "      <th>gender_na</th>\n",
       "      <th>race_amerindian</th>\n",
       "      <th>race_asian</th>\n",
       "      <th>race_black</th>\n",
       "      <th>race_noanswer</th>\n",
       "      <th>race_hawaiiannative</th>\n",
       "      <th>race_other</th>\n",
       "      <th>race_white</th>\n",
       "    </tr>\n",
       "  </thead>\n",
       "  <tbody>\n",
       "    <tr>\n",
       "      <th>0</th>\n",
       "      <td>f013068de98db1470bd986137a0c6d23</td>\n",
       "      <td>20220416</td>\n",
       "      <td>16</td>\n",
       "      <td>18003</td>\n",
       "      <td>900</td>\n",
       "      <td>Census Tract 9, Allen County, Indiana</td>\n",
       "      <td>22</td>\n",
       "      <td>0</td>\n",
       "      <td>&lt;NA&gt;</td>\n",
       "      <td>14</td>\n",
       "      <td>...</td>\n",
       "      <td>&lt;NA&gt;</td>\n",
       "      <td>&lt;NA&gt;</td>\n",
       "      <td>0</td>\n",
       "      <td>0</td>\n",
       "      <td>0</td>\n",
       "      <td>11</td>\n",
       "      <td>0</td>\n",
       "      <td>0</td>\n",
       "      <td>&lt;NA&gt;</td>\n",
       "      <td>&lt;NA&gt;</td>\n",
       "    </tr>\n",
       "    <tr>\n",
       "      <th>1</th>\n",
       "      <td>21957d5517323845818d87623589e1ba</td>\n",
       "      <td>20220319</td>\n",
       "      <td>12</td>\n",
       "      <td>18089</td>\n",
       "      <td>10400</td>\n",
       "      <td>Census Tract 104, Lake County, Indiana</td>\n",
       "      <td>111</td>\n",
       "      <td>0</td>\n",
       "      <td>&lt;NA&gt;</td>\n",
       "      <td>108</td>\n",
       "      <td>...</td>\n",
       "      <td>76</td>\n",
       "      <td>35</td>\n",
       "      <td>0</td>\n",
       "      <td>0</td>\n",
       "      <td>0</td>\n",
       "      <td>&lt;NA&gt;</td>\n",
       "      <td>&lt;NA&gt;</td>\n",
       "      <td>0</td>\n",
       "      <td>0</td>\n",
       "      <td>0</td>\n",
       "    </tr>\n",
       "    <tr>\n",
       "      <th>2</th>\n",
       "      <td>6a5609f385912113b6f1014b958ed748</td>\n",
       "      <td>20220326</td>\n",
       "      <td>13</td>\n",
       "      <td>18089</td>\n",
       "      <td>11500</td>\n",
       "      <td>Census Tract 115, Lake County, Indiana</td>\n",
       "      <td>39</td>\n",
       "      <td>0</td>\n",
       "      <td>&lt;NA&gt;</td>\n",
       "      <td>&lt;NA&gt;</td>\n",
       "      <td>...</td>\n",
       "      <td>&lt;NA&gt;</td>\n",
       "      <td>&lt;NA&gt;</td>\n",
       "      <td>0</td>\n",
       "      <td>0</td>\n",
       "      <td>0</td>\n",
       "      <td>39</td>\n",
       "      <td>0</td>\n",
       "      <td>0</td>\n",
       "      <td>0</td>\n",
       "      <td>0</td>\n",
       "    </tr>\n",
       "    <tr>\n",
       "      <th>3</th>\n",
       "      <td>46b2882ec4c373527ec33f7bd4f1388d</td>\n",
       "      <td>20220716</td>\n",
       "      <td>29</td>\n",
       "      <td>18089</td>\n",
       "      <td>20700</td>\n",
       "      <td>Census Tract 207, Lake County, Indiana</td>\n",
       "      <td>14</td>\n",
       "      <td>0</td>\n",
       "      <td>&lt;NA&gt;</td>\n",
       "      <td>&lt;NA&gt;</td>\n",
       "      <td>...</td>\n",
       "      <td>&lt;NA&gt;</td>\n",
       "      <td>&lt;NA&gt;</td>\n",
       "      <td>0</td>\n",
       "      <td>0</td>\n",
       "      <td>&lt;NA&gt;</td>\n",
       "      <td>10</td>\n",
       "      <td>0</td>\n",
       "      <td>0</td>\n",
       "      <td>&lt;NA&gt;</td>\n",
       "      <td>&lt;NA&gt;</td>\n",
       "    </tr>\n",
       "    <tr>\n",
       "      <th>4</th>\n",
       "      <td>37495d17e82f7df326bfc2c4c090f7b7</td>\n",
       "      <td>20220409</td>\n",
       "      <td>15</td>\n",
       "      <td>18089</td>\n",
       "      <td>21900</td>\n",
       "      <td>Census Tract 219, Lake County, Indiana</td>\n",
       "      <td>155</td>\n",
       "      <td>0</td>\n",
       "      <td>&lt;NA&gt;</td>\n",
       "      <td>69</td>\n",
       "      <td>...</td>\n",
       "      <td>90</td>\n",
       "      <td>65</td>\n",
       "      <td>0</td>\n",
       "      <td>0</td>\n",
       "      <td>0</td>\n",
       "      <td>135</td>\n",
       "      <td>&lt;NA&gt;</td>\n",
       "      <td>&lt;NA&gt;</td>\n",
       "      <td>&lt;NA&gt;</td>\n",
       "      <td>&lt;NA&gt;</td>\n",
       "    </tr>\n",
       "    <tr>\n",
       "      <th>5</th>\n",
       "      <td>25a57fe39e03c632125308737a7d3769</td>\n",
       "      <td>20220820</td>\n",
       "      <td>34</td>\n",
       "      <td>18067</td>\n",
       "      <td>300</td>\n",
       "      <td>Census Tract 3, Howard County, Indiana</td>\n",
       "      <td>24</td>\n",
       "      <td>0</td>\n",
       "      <td>&lt;NA&gt;</td>\n",
       "      <td>15</td>\n",
       "      <td>...</td>\n",
       "      <td>14</td>\n",
       "      <td>10</td>\n",
       "      <td>0</td>\n",
       "      <td>0</td>\n",
       "      <td>0</td>\n",
       "      <td>&lt;NA&gt;</td>\n",
       "      <td>0</td>\n",
       "      <td>0</td>\n",
       "      <td>0</td>\n",
       "      <td>&lt;NA&gt;</td>\n",
       "    </tr>\n",
       "    <tr>\n",
       "      <th>6</th>\n",
       "      <td>25a57fe39e03c632125308737a7d3769</td>\n",
       "      <td>20220820</td>\n",
       "      <td>34</td>\n",
       "      <td>18067</td>\n",
       "      <td>300</td>\n",
       "      <td>Census Tract 3, Howard County, Indiana</td>\n",
       "      <td>24</td>\n",
       "      <td>0</td>\n",
       "      <td>&lt;NA&gt;</td>\n",
       "      <td>15</td>\n",
       "      <td>...</td>\n",
       "      <td>14</td>\n",
       "      <td>10</td>\n",
       "      <td>0</td>\n",
       "      <td>0</td>\n",
       "      <td>0</td>\n",
       "      <td>&lt;NA&gt;</td>\n",
       "      <td>0</td>\n",
       "      <td>0</td>\n",
       "      <td>0</td>\n",
       "      <td>&lt;NA&gt;</td>\n",
       "    </tr>\n",
       "    <tr>\n",
       "      <th>7</th>\n",
       "      <td>45c8cf419dd4c4b442dbf3603ba94379</td>\n",
       "      <td>20220129</td>\n",
       "      <td>5</td>\n",
       "      <td>18003</td>\n",
       "      <td>3200</td>\n",
       "      <td>Census Tract 32, Allen County, Indiana</td>\n",
       "      <td>19</td>\n",
       "      <td>&lt;NA&gt;</td>\n",
       "      <td>&lt;NA&gt;</td>\n",
       "      <td>&lt;NA&gt;</td>\n",
       "      <td>...</td>\n",
       "      <td>11</td>\n",
       "      <td>&lt;NA&gt;</td>\n",
       "      <td>&lt;NA&gt;</td>\n",
       "      <td>0</td>\n",
       "      <td>&lt;NA&gt;</td>\n",
       "      <td>&lt;NA&gt;</td>\n",
       "      <td>&lt;NA&gt;</td>\n",
       "      <td>0</td>\n",
       "      <td>&lt;NA&gt;</td>\n",
       "      <td>12</td>\n",
       "    </tr>\n",
       "    <tr>\n",
       "      <th>8</th>\n",
       "      <td>8f782a6153268c6031e31784e2d4eae2</td>\n",
       "      <td>20220716</td>\n",
       "      <td>29</td>\n",
       "      <td>18089</td>\n",
       "      <td>42000</td>\n",
       "      <td>Census Tract 420, Lake County, Indiana</td>\n",
       "      <td>20</td>\n",
       "      <td>0</td>\n",
       "      <td>&lt;NA&gt;</td>\n",
       "      <td>10</td>\n",
       "      <td>...</td>\n",
       "      <td>&lt;NA&gt;</td>\n",
       "      <td>&lt;NA&gt;</td>\n",
       "      <td>0</td>\n",
       "      <td>&lt;NA&gt;</td>\n",
       "      <td>0</td>\n",
       "      <td>&lt;NA&gt;</td>\n",
       "      <td>&lt;NA&gt;</td>\n",
       "      <td>0</td>\n",
       "      <td>&lt;NA&gt;</td>\n",
       "      <td>14</td>\n",
       "    </tr>\n",
       "    <tr>\n",
       "      <th>9</th>\n",
       "      <td>5c04f20bd2f8552aa7ac210dc01292fb</td>\n",
       "      <td>20220611</td>\n",
       "      <td>24</td>\n",
       "      <td>18089</td>\n",
       "      <td>42200</td>\n",
       "      <td>Census Tract 422, Lake County, Indiana</td>\n",
       "      <td>12</td>\n",
       "      <td>&lt;NA&gt;</td>\n",
       "      <td>0</td>\n",
       "      <td>&lt;NA&gt;</td>\n",
       "      <td>...</td>\n",
       "      <td>&lt;NA&gt;</td>\n",
       "      <td>&lt;NA&gt;</td>\n",
       "      <td>0</td>\n",
       "      <td>0</td>\n",
       "      <td>0</td>\n",
       "      <td>&lt;NA&gt;</td>\n",
       "      <td>0</td>\n",
       "      <td>0</td>\n",
       "      <td>&lt;NA&gt;</td>\n",
       "      <td>&lt;NA&gt;</td>\n",
       "    </tr>\n",
       "    <tr>\n",
       "      <th>10</th>\n",
       "      <td>050a624d618a68e43fe31189909c644f</td>\n",
       "      <td>20220409</td>\n",
       "      <td>15</td>\n",
       "      <td>18067</td>\n",
       "      <td>700</td>\n",
       "      <td>Census Tract 7, Howard County, Indiana</td>\n",
       "      <td>20</td>\n",
       "      <td>&lt;NA&gt;</td>\n",
       "      <td>0</td>\n",
       "      <td>10</td>\n",
       "      <td>...</td>\n",
       "      <td>&lt;NA&gt;</td>\n",
       "      <td>&lt;NA&gt;</td>\n",
       "      <td>0</td>\n",
       "      <td>0</td>\n",
       "      <td>0</td>\n",
       "      <td>&lt;NA&gt;</td>\n",
       "      <td>0</td>\n",
       "      <td>0</td>\n",
       "      <td>&lt;NA&gt;</td>\n",
       "      <td>14</td>\n",
       "    </tr>\n",
       "    <tr>\n",
       "      <th>11</th>\n",
       "      <td>bc7ebe1813e2b66f084289e1b1172f21</td>\n",
       "      <td>20220507</td>\n",
       "      <td>19</td>\n",
       "      <td>18067</td>\n",
       "      <td>900</td>\n",
       "      <td>Census Tract 9, Howard County, Indiana</td>\n",
       "      <td>20</td>\n",
       "      <td>0</td>\n",
       "      <td>&lt;NA&gt;</td>\n",
       "      <td>&lt;NA&gt;</td>\n",
       "      <td>...</td>\n",
       "      <td>&lt;NA&gt;</td>\n",
       "      <td>&lt;NA&gt;</td>\n",
       "      <td>0</td>\n",
       "      <td>0</td>\n",
       "      <td>0</td>\n",
       "      <td>&lt;NA&gt;</td>\n",
       "      <td>0</td>\n",
       "      <td>0</td>\n",
       "      <td>0</td>\n",
       "      <td>&lt;NA&gt;</td>\n",
       "    </tr>\n",
       "    <tr>\n",
       "      <th>12</th>\n",
       "      <td>6239669cbfe444abd0a46536a670d150</td>\n",
       "      <td>20220709</td>\n",
       "      <td>28</td>\n",
       "      <td>18039</td>\n",
       "      <td>400</td>\n",
       "      <td>Census Tract 4, Elkhart County, Indiana</td>\n",
       "      <td>20</td>\n",
       "      <td>0</td>\n",
       "      <td>&lt;NA&gt;</td>\n",
       "      <td>13</td>\n",
       "      <td>...</td>\n",
       "      <td>&lt;NA&gt;</td>\n",
       "      <td>&lt;NA&gt;</td>\n",
       "      <td>0</td>\n",
       "      <td>0</td>\n",
       "      <td>0</td>\n",
       "      <td>0</td>\n",
       "      <td>&lt;NA&gt;</td>\n",
       "      <td>&lt;NA&gt;</td>\n",
       "      <td>&lt;NA&gt;</td>\n",
       "      <td>12</td>\n",
       "    </tr>\n",
       "    <tr>\n",
       "      <th>13</th>\n",
       "      <td>6657c9871fa2f67cd168e6f94354060e</td>\n",
       "      <td>20220910</td>\n",
       "      <td>37</td>\n",
       "      <td>18039</td>\n",
       "      <td>900</td>\n",
       "      <td>Census Tract 9, Elkhart County, Indiana</td>\n",
       "      <td>50</td>\n",
       "      <td>18</td>\n",
       "      <td>&lt;NA&gt;</td>\n",
       "      <td>21</td>\n",
       "      <td>...</td>\n",
       "      <td>11</td>\n",
       "      <td>39</td>\n",
       "      <td>0</td>\n",
       "      <td>0</td>\n",
       "      <td>0</td>\n",
       "      <td>0</td>\n",
       "      <td>0</td>\n",
       "      <td>0</td>\n",
       "      <td>&lt;NA&gt;</td>\n",
       "      <td>&lt;NA&gt;</td>\n",
       "    </tr>\n",
       "    <tr>\n",
       "      <th>14</th>\n",
       "      <td>6657c9871fa2f67cd168e6f94354060e</td>\n",
       "      <td>20220903</td>\n",
       "      <td>36</td>\n",
       "      <td>18039</td>\n",
       "      <td>900</td>\n",
       "      <td>Census Tract 9, Elkhart County, Indiana</td>\n",
       "      <td>29</td>\n",
       "      <td>14</td>\n",
       "      <td>&lt;NA&gt;</td>\n",
       "      <td>&lt;NA&gt;</td>\n",
       "      <td>...</td>\n",
       "      <td>&lt;NA&gt;</td>\n",
       "      <td>&lt;NA&gt;</td>\n",
       "      <td>0</td>\n",
       "      <td>0</td>\n",
       "      <td>0</td>\n",
       "      <td>0</td>\n",
       "      <td>0</td>\n",
       "      <td>0</td>\n",
       "      <td>&lt;NA&gt;</td>\n",
       "      <td>&lt;NA&gt;</td>\n",
       "    </tr>\n",
       "    <tr>\n",
       "      <th>15</th>\n",
       "      <td>6657c9871fa2f67cd168e6f94354060e</td>\n",
       "      <td>20220903</td>\n",
       "      <td>36</td>\n",
       "      <td>18039</td>\n",
       "      <td>900</td>\n",
       "      <td>Census Tract 9, Elkhart County, Indiana</td>\n",
       "      <td>29</td>\n",
       "      <td>14</td>\n",
       "      <td>&lt;NA&gt;</td>\n",
       "      <td>&lt;NA&gt;</td>\n",
       "      <td>...</td>\n",
       "      <td>&lt;NA&gt;</td>\n",
       "      <td>&lt;NA&gt;</td>\n",
       "      <td>0</td>\n",
       "      <td>0</td>\n",
       "      <td>0</td>\n",
       "      <td>0</td>\n",
       "      <td>0</td>\n",
       "      <td>0</td>\n",
       "      <td>&lt;NA&gt;</td>\n",
       "      <td>&lt;NA&gt;</td>\n",
       "    </tr>\n",
       "    <tr>\n",
       "      <th>16</th>\n",
       "      <td>6657c9871fa2f67cd168e6f94354060e</td>\n",
       "      <td>20220910</td>\n",
       "      <td>37</td>\n",
       "      <td>18039</td>\n",
       "      <td>900</td>\n",
       "      <td>Census Tract 9, Elkhart County, Indiana</td>\n",
       "      <td>50</td>\n",
       "      <td>18</td>\n",
       "      <td>&lt;NA&gt;</td>\n",
       "      <td>21</td>\n",
       "      <td>...</td>\n",
       "      <td>11</td>\n",
       "      <td>39</td>\n",
       "      <td>0</td>\n",
       "      <td>0</td>\n",
       "      <td>0</td>\n",
       "      <td>0</td>\n",
       "      <td>0</td>\n",
       "      <td>0</td>\n",
       "      <td>&lt;NA&gt;</td>\n",
       "      <td>&lt;NA&gt;</td>\n",
       "    </tr>\n",
       "    <tr>\n",
       "      <th>17</th>\n",
       "      <td>7df3e38fbdab0a32ca0fa9fb6c8bd8c4</td>\n",
       "      <td>20220702</td>\n",
       "      <td>27</td>\n",
       "      <td>18067</td>\n",
       "      <td>10200</td>\n",
       "      <td>Census Tract 102, Howard County, Indiana</td>\n",
       "      <td>75</td>\n",
       "      <td>0</td>\n",
       "      <td>&lt;NA&gt;</td>\n",
       "      <td>50</td>\n",
       "      <td>...</td>\n",
       "      <td>29</td>\n",
       "      <td>46</td>\n",
       "      <td>0</td>\n",
       "      <td>0</td>\n",
       "      <td>&lt;NA&gt;</td>\n",
       "      <td>0</td>\n",
       "      <td>&lt;NA&gt;</td>\n",
       "      <td>0</td>\n",
       "      <td>&lt;NA&gt;</td>\n",
       "      <td>71</td>\n",
       "    </tr>\n",
       "    <tr>\n",
       "      <th>18</th>\n",
       "      <td>7df3e38fbdab0a32ca0fa9fb6c8bd8c4</td>\n",
       "      <td>20220625</td>\n",
       "      <td>26</td>\n",
       "      <td>18067</td>\n",
       "      <td>10200</td>\n",
       "      <td>Census Tract 102, Howard County, Indiana</td>\n",
       "      <td>66</td>\n",
       "      <td>0</td>\n",
       "      <td>&lt;NA&gt;</td>\n",
       "      <td>44</td>\n",
       "      <td>...</td>\n",
       "      <td>20</td>\n",
       "      <td>46</td>\n",
       "      <td>0</td>\n",
       "      <td>0</td>\n",
       "      <td>&lt;NA&gt;</td>\n",
       "      <td>&lt;NA&gt;</td>\n",
       "      <td>&lt;NA&gt;</td>\n",
       "      <td>0</td>\n",
       "      <td>&lt;NA&gt;</td>\n",
       "      <td>61</td>\n",
       "    </tr>\n",
       "    <tr>\n",
       "      <th>19</th>\n",
       "      <td>e8f426c17a7172179be379cb926bd278</td>\n",
       "      <td>20220709</td>\n",
       "      <td>28</td>\n",
       "      <td>18067</td>\n",
       "      <td>10400</td>\n",
       "      <td>Census Tract 104, Howard County, Indiana</td>\n",
       "      <td>20</td>\n",
       "      <td>0</td>\n",
       "      <td>0</td>\n",
       "      <td>&lt;NA&gt;</td>\n",
       "      <td>...</td>\n",
       "      <td>&lt;NA&gt;</td>\n",
       "      <td>&lt;NA&gt;</td>\n",
       "      <td>0</td>\n",
       "      <td>0</td>\n",
       "      <td>0</td>\n",
       "      <td>0</td>\n",
       "      <td>0</td>\n",
       "      <td>0</td>\n",
       "      <td>&lt;NA&gt;</td>\n",
       "      <td>&lt;NA&gt;</td>\n",
       "    </tr>\n",
       "  </tbody>\n",
       "</table>\n",
       "<p>20 rows × 25 columns</p>\n",
       "</div>"
      ],
      "text/plain": [
       "                               uu_id  timeperiod  week_number  countyfips  \\\n",
       "0   f013068de98db1470bd986137a0c6d23    20220416           16       18003   \n",
       "1   21957d5517323845818d87623589e1ba    20220319           12       18089   \n",
       "2   6a5609f385912113b6f1014b958ed748    20220326           13       18089   \n",
       "3   46b2882ec4c373527ec33f7bd4f1388d    20220716           29       18089   \n",
       "4   37495d17e82f7df326bfc2c4c090f7b7    20220409           15       18089   \n",
       "5   25a57fe39e03c632125308737a7d3769    20220820           34       18067   \n",
       "6   25a57fe39e03c632125308737a7d3769    20220820           34       18067   \n",
       "7   45c8cf419dd4c4b442dbf3603ba94379    20220129            5       18003   \n",
       "8   8f782a6153268c6031e31784e2d4eae2    20220716           29       18089   \n",
       "9   5c04f20bd2f8552aa7ac210dc01292fb    20220611           24       18089   \n",
       "10  050a624d618a68e43fe31189909c644f    20220409           15       18067   \n",
       "11  bc7ebe1813e2b66f084289e1b1172f21    20220507           19       18067   \n",
       "12  6239669cbfe444abd0a46536a670d150    20220709           28       18039   \n",
       "13  6657c9871fa2f67cd168e6f94354060e    20220910           37       18039   \n",
       "14  6657c9871fa2f67cd168e6f94354060e    20220903           36       18039   \n",
       "15  6657c9871fa2f67cd168e6f94354060e    20220903           36       18039   \n",
       "16  6657c9871fa2f67cd168e6f94354060e    20220910           37       18039   \n",
       "17  7df3e38fbdab0a32ca0fa9fb6c8bd8c4    20220702           27       18067   \n",
       "18  7df3e38fbdab0a32ca0fa9fb6c8bd8c4    20220625           26       18067   \n",
       "19  e8f426c17a7172179be379cb926bd278    20220709           28       18067   \n",
       "\n",
       "    tract                                tract_name  total_claims  \\\n",
       "0     900     Census Tract 9, Allen County, Indiana            22   \n",
       "1   10400    Census Tract 104, Lake County, Indiana           111   \n",
       "2   11500    Census Tract 115, Lake County, Indiana            39   \n",
       "3   20700    Census Tract 207, Lake County, Indiana            14   \n",
       "4   21900    Census Tract 219, Lake County, Indiana           155   \n",
       "5     300    Census Tract 3, Howard County, Indiana            24   \n",
       "6     300    Census Tract 3, Howard County, Indiana            24   \n",
       "7    3200    Census Tract 32, Allen County, Indiana            19   \n",
       "8   42000    Census Tract 420, Lake County, Indiana            20   \n",
       "9   42200    Census Tract 422, Lake County, Indiana            12   \n",
       "10    700    Census Tract 7, Howard County, Indiana            20   \n",
       "11    900    Census Tract 9, Howard County, Indiana            20   \n",
       "12    400   Census Tract 4, Elkhart County, Indiana            20   \n",
       "13    900   Census Tract 9, Elkhart County, Indiana            50   \n",
       "14    900   Census Tract 9, Elkhart County, Indiana            29   \n",
       "15    900   Census Tract 9, Elkhart County, Indiana            29   \n",
       "16    900   Census Tract 9, Elkhart County, Indiana            50   \n",
       "17  10200  Census Tract 102, Howard County, Indiana            75   \n",
       "18  10200  Census Tract 102, Howard County, Indiana            66   \n",
       "19  10400  Census Tract 104, Howard County, Indiana            20   \n",
       "\n",
       "    edu_8th_or_less  edu_grades_9_11  edu_hs_grad_equiv  ...  gender_female  \\\n",
       "0                 0             <NA>                 14  ...           <NA>   \n",
       "1                 0             <NA>                108  ...             76   \n",
       "2                 0             <NA>               <NA>  ...           <NA>   \n",
       "3                 0             <NA>               <NA>  ...           <NA>   \n",
       "4                 0             <NA>                 69  ...             90   \n",
       "5                 0             <NA>                 15  ...             14   \n",
       "6                 0             <NA>                 15  ...             14   \n",
       "7              <NA>             <NA>               <NA>  ...             11   \n",
       "8                 0             <NA>                 10  ...           <NA>   \n",
       "9              <NA>                0               <NA>  ...           <NA>   \n",
       "10             <NA>                0                 10  ...           <NA>   \n",
       "11                0             <NA>               <NA>  ...           <NA>   \n",
       "12                0             <NA>                 13  ...           <NA>   \n",
       "13               18             <NA>                 21  ...             11   \n",
       "14               14             <NA>               <NA>  ...           <NA>   \n",
       "15               14             <NA>               <NA>  ...           <NA>   \n",
       "16               18             <NA>                 21  ...             11   \n",
       "17                0             <NA>                 50  ...             29   \n",
       "18                0             <NA>                 44  ...             20   \n",
       "19                0                0               <NA>  ...           <NA>   \n",
       "\n",
       "    gender_male gender_na race_amerindian race_asian  race_black  \\\n",
       "0          <NA>         0               0          0          11   \n",
       "1            35         0               0          0        <NA>   \n",
       "2          <NA>         0               0          0          39   \n",
       "3          <NA>         0               0       <NA>          10   \n",
       "4            65         0               0          0         135   \n",
       "5            10         0               0          0        <NA>   \n",
       "6            10         0               0          0        <NA>   \n",
       "7          <NA>      <NA>               0       <NA>        <NA>   \n",
       "8          <NA>         0            <NA>          0        <NA>   \n",
       "9          <NA>         0               0          0        <NA>   \n",
       "10         <NA>         0               0          0        <NA>   \n",
       "11         <NA>         0               0          0        <NA>   \n",
       "12         <NA>         0               0          0           0   \n",
       "13           39         0               0          0           0   \n",
       "14         <NA>         0               0          0           0   \n",
       "15         <NA>         0               0          0           0   \n",
       "16           39         0               0          0           0   \n",
       "17           46         0               0       <NA>           0   \n",
       "18           46         0               0       <NA>        <NA>   \n",
       "19         <NA>         0               0          0           0   \n",
       "\n",
       "    race_noanswer  race_hawaiiannative  race_other  race_white  \n",
       "0               0                    0        <NA>        <NA>  \n",
       "1            <NA>                    0           0           0  \n",
       "2               0                    0           0           0  \n",
       "3               0                    0        <NA>        <NA>  \n",
       "4            <NA>                 <NA>        <NA>        <NA>  \n",
       "5               0                    0           0        <NA>  \n",
       "6               0                    0           0        <NA>  \n",
       "7            <NA>                    0        <NA>          12  \n",
       "8            <NA>                    0        <NA>          14  \n",
       "9               0                    0        <NA>        <NA>  \n",
       "10              0                    0        <NA>          14  \n",
       "11              0                    0           0        <NA>  \n",
       "12           <NA>                 <NA>        <NA>          12  \n",
       "13              0                    0        <NA>        <NA>  \n",
       "14              0                    0        <NA>        <NA>  \n",
       "15              0                    0        <NA>        <NA>  \n",
       "16              0                    0        <NA>        <NA>  \n",
       "17           <NA>                    0        <NA>          71  \n",
       "18           <NA>                    0        <NA>          61  \n",
       "19              0                    0        <NA>        <NA>  \n",
       "\n",
       "[20 rows x 25 columns]"
      ]
     },
     "execution_count": 70,
     "metadata": {},
     "output_type": "execute_result"
    }
   ],
   "source": [
    "# QUERY THE DATA ONCE\n",
    "query_job = bigquery_client.query(query)\n",
    "unemployment_data = query_job.to_dataframe()\n",
    "unemployment_data.head(20)"
   ]
  },
  {
   "cell_type": "code",
   "execution_count": 71,
   "id": "279583c0",
   "metadata": {},
   "outputs": [],
   "source": [
    "query = \"\"\"\n",
    "SELECT *\n",
    "FROM `ironhacks-data.ironhacks_competition.wage_data`\n",
    "\"\"\" "
   ]
  },
  {
   "cell_type": "code",
   "execution_count": 72,
   "id": "1b632dd7",
   "metadata": {},
   "outputs": [
    {
     "data": {
      "text/html": [
       "<div>\n",
       "<style scoped>\n",
       "    .dataframe tbody tr th:only-of-type {\n",
       "        vertical-align: middle;\n",
       "    }\n",
       "\n",
       "    .dataframe tbody tr th {\n",
       "        vertical-align: top;\n",
       "    }\n",
       "\n",
       "    .dataframe thead th {\n",
       "        text-align: right;\n",
       "    }\n",
       "</style>\n",
       "<table border=\"1\" class=\"dataframe\">\n",
       "  <thead>\n",
       "    <tr style=\"text-align: right;\">\n",
       "      <th></th>\n",
       "      <th>uu_id</th>\n",
       "      <th>countyfips</th>\n",
       "      <th>tract</th>\n",
       "      <th>tract_name</th>\n",
       "      <th>average_wage</th>\n",
       "    </tr>\n",
       "  </thead>\n",
       "  <tbody>\n",
       "    <tr>\n",
       "      <th>0</th>\n",
       "      <td>585f8731c2255d6b3f817a31180848b9</td>\n",
       "      <td>18177</td>\n",
       "      <td>200</td>\n",
       "      <td>Census Tract 2, Wayne County, Indiana</td>\n",
       "      <td>6612.000000</td>\n",
       "    </tr>\n",
       "    <tr>\n",
       "      <th>1</th>\n",
       "      <td>8c9d2aa90948679972a9382aadcc6001</td>\n",
       "      <td>18177</td>\n",
       "      <td>900</td>\n",
       "      <td>Census Tract 9, Wayne County, Indiana</td>\n",
       "      <td>9883.250000</td>\n",
       "    </tr>\n",
       "    <tr>\n",
       "      <th>2</th>\n",
       "      <td>0f3d45341a5b113b813ffb7be7f58bab</td>\n",
       "      <td>18183</td>\n",
       "      <td>50300</td>\n",
       "      <td>Census Tract 503, Whitley County, Indiana</td>\n",
       "      <td>13992.250000</td>\n",
       "    </tr>\n",
       "    <tr>\n",
       "      <th>3</th>\n",
       "      <td>fb55464f8e34af6d750d06968bf719b8</td>\n",
       "      <td>18183</td>\n",
       "      <td>50400</td>\n",
       "      <td>Census Tract 504, Whitley County, Indiana</td>\n",
       "      <td>13613.500000</td>\n",
       "    </tr>\n",
       "    <tr>\n",
       "      <th>4</th>\n",
       "      <td>983badfd7b568728e39a2344a9006078</td>\n",
       "      <td>18001</td>\n",
       "      <td>30200</td>\n",
       "      <td>Census Tract 302, Adams County, Indiana</td>\n",
       "      <td>11816.666667</td>\n",
       "    </tr>\n",
       "    <tr>\n",
       "      <th>5</th>\n",
       "      <td>3ebec5c7e13f05f1772dae73f3a1f5e0</td>\n",
       "      <td>18003</td>\n",
       "      <td>11302</td>\n",
       "      <td>Census Tract 113.02, Allen County, Indiana</td>\n",
       "      <td>9201.800000</td>\n",
       "    </tr>\n",
       "    <tr>\n",
       "      <th>6</th>\n",
       "      <td>4e47a34030916597b6293593de5016a2</td>\n",
       "      <td>18003</td>\n",
       "      <td>2300</td>\n",
       "      <td>Census Tract 23, Allen County, Indiana</td>\n",
       "      <td>7106.857143</td>\n",
       "    </tr>\n",
       "    <tr>\n",
       "      <th>7</th>\n",
       "      <td>9b461ff4ed0094dc132cb01b2e1db9ba</td>\n",
       "      <td>18003</td>\n",
       "      <td>2800</td>\n",
       "      <td>Census Tract 28, Allen County, Indiana</td>\n",
       "      <td>7807.250000</td>\n",
       "    </tr>\n",
       "    <tr>\n",
       "      <th>8</th>\n",
       "      <td>f013068de98db1470bd986137a0c6d23</td>\n",
       "      <td>18003</td>\n",
       "      <td>900</td>\n",
       "      <td>Census Tract 9, Allen County, Indiana</td>\n",
       "      <td>8347.125000</td>\n",
       "    </tr>\n",
       "    <tr>\n",
       "      <th>9</th>\n",
       "      <td>d9f6293ea290fd5f01904c594b5a90b9</td>\n",
       "      <td>18003</td>\n",
       "      <td>10821</td>\n",
       "      <td>Census Tract 108.21, Allen County, Indiana</td>\n",
       "      <td>6903.666667</td>\n",
       "    </tr>\n",
       "    <tr>\n",
       "      <th>10</th>\n",
       "      <td>842c96eacb965c2a1c0cbd6e51a7f741</td>\n",
       "      <td>18003</td>\n",
       "      <td>2000</td>\n",
       "      <td>Census Tract 20, Allen County, Indiana</td>\n",
       "      <td>8182.250000</td>\n",
       "    </tr>\n",
       "    <tr>\n",
       "      <th>11</th>\n",
       "      <td>7322dfe92403d20403f7a527ba733641</td>\n",
       "      <td>18003</td>\n",
       "      <td>3100</td>\n",
       "      <td>Census Tract 31, Allen County, Indiana</td>\n",
       "      <td>8586.600000</td>\n",
       "    </tr>\n",
       "    <tr>\n",
       "      <th>12</th>\n",
       "      <td>6167d550c0cdd68c799d372c5df97acb</td>\n",
       "      <td>18003</td>\n",
       "      <td>10819</td>\n",
       "      <td>Census Tract 108.19, Allen County, Indiana</td>\n",
       "      <td>14195.285714</td>\n",
       "    </tr>\n",
       "    <tr>\n",
       "      <th>13</th>\n",
       "      <td>489a93264d03adecc4589fd9cd34ad36</td>\n",
       "      <td>18003</td>\n",
       "      <td>10306</td>\n",
       "      <td>Census Tract 103.06, Allen County, Indiana</td>\n",
       "      <td>9966.666667</td>\n",
       "    </tr>\n",
       "    <tr>\n",
       "      <th>14</th>\n",
       "      <td>e847a8217e0447f92b06d59fa7c88982</td>\n",
       "      <td>18003</td>\n",
       "      <td>3000</td>\n",
       "      <td>Census Tract 30, Allen County, Indiana</td>\n",
       "      <td>10280.444444</td>\n",
       "    </tr>\n",
       "    <tr>\n",
       "      <th>15</th>\n",
       "      <td>1901b891f05515a8c22c05ef58baba38</td>\n",
       "      <td>18003</td>\n",
       "      <td>11608</td>\n",
       "      <td>Census Tract 116.08, Allen County, Indiana</td>\n",
       "      <td>14278.000000</td>\n",
       "    </tr>\n",
       "    <tr>\n",
       "      <th>16</th>\n",
       "      <td>2094eb904cf826728093f0e2713d2e30</td>\n",
       "      <td>18003</td>\n",
       "      <td>11501</td>\n",
       "      <td>Census Tract 115.01, Allen County, Indiana</td>\n",
       "      <td>8336.500000</td>\n",
       "    </tr>\n",
       "    <tr>\n",
       "      <th>17</th>\n",
       "      <td>d6d6aa73853ad771aaf7f972661fd2e6</td>\n",
       "      <td>18003</td>\n",
       "      <td>10305</td>\n",
       "      <td>Census Tract 103.05, Allen County, Indiana</td>\n",
       "      <td>21141.375000</td>\n",
       "    </tr>\n",
       "    <tr>\n",
       "      <th>18</th>\n",
       "      <td>f1bebcc62175d8c0c05ba9e63aa68b2e</td>\n",
       "      <td>18003</td>\n",
       "      <td>10601</td>\n",
       "      <td>Census Tract 106.01, Allen County, Indiana</td>\n",
       "      <td>11355.800000</td>\n",
       "    </tr>\n",
       "    <tr>\n",
       "      <th>19</th>\n",
       "      <td>45c8cf419dd4c4b442dbf3603ba94379</td>\n",
       "      <td>18003</td>\n",
       "      <td>3200</td>\n",
       "      <td>Census Tract 32, Allen County, Indiana</td>\n",
       "      <td>11288.250000</td>\n",
       "    </tr>\n",
       "  </tbody>\n",
       "</table>\n",
       "</div>"
      ],
      "text/plain": [
       "                               uu_id  countyfips  tract  \\\n",
       "0   585f8731c2255d6b3f817a31180848b9       18177    200   \n",
       "1   8c9d2aa90948679972a9382aadcc6001       18177    900   \n",
       "2   0f3d45341a5b113b813ffb7be7f58bab       18183  50300   \n",
       "3   fb55464f8e34af6d750d06968bf719b8       18183  50400   \n",
       "4   983badfd7b568728e39a2344a9006078       18001  30200   \n",
       "5   3ebec5c7e13f05f1772dae73f3a1f5e0       18003  11302   \n",
       "6   4e47a34030916597b6293593de5016a2       18003   2300   \n",
       "7   9b461ff4ed0094dc132cb01b2e1db9ba       18003   2800   \n",
       "8   f013068de98db1470bd986137a0c6d23       18003    900   \n",
       "9   d9f6293ea290fd5f01904c594b5a90b9       18003  10821   \n",
       "10  842c96eacb965c2a1c0cbd6e51a7f741       18003   2000   \n",
       "11  7322dfe92403d20403f7a527ba733641       18003   3100   \n",
       "12  6167d550c0cdd68c799d372c5df97acb       18003  10819   \n",
       "13  489a93264d03adecc4589fd9cd34ad36       18003  10306   \n",
       "14  e847a8217e0447f92b06d59fa7c88982       18003   3000   \n",
       "15  1901b891f05515a8c22c05ef58baba38       18003  11608   \n",
       "16  2094eb904cf826728093f0e2713d2e30       18003  11501   \n",
       "17  d6d6aa73853ad771aaf7f972661fd2e6       18003  10305   \n",
       "18  f1bebcc62175d8c0c05ba9e63aa68b2e       18003  10601   \n",
       "19  45c8cf419dd4c4b442dbf3603ba94379       18003   3200   \n",
       "\n",
       "                                    tract_name  average_wage  \n",
       "0        Census Tract 2, Wayne County, Indiana   6612.000000  \n",
       "1        Census Tract 9, Wayne County, Indiana   9883.250000  \n",
       "2    Census Tract 503, Whitley County, Indiana  13992.250000  \n",
       "3    Census Tract 504, Whitley County, Indiana  13613.500000  \n",
       "4      Census Tract 302, Adams County, Indiana  11816.666667  \n",
       "5   Census Tract 113.02, Allen County, Indiana   9201.800000  \n",
       "6       Census Tract 23, Allen County, Indiana   7106.857143  \n",
       "7       Census Tract 28, Allen County, Indiana   7807.250000  \n",
       "8        Census Tract 9, Allen County, Indiana   8347.125000  \n",
       "9   Census Tract 108.21, Allen County, Indiana   6903.666667  \n",
       "10      Census Tract 20, Allen County, Indiana   8182.250000  \n",
       "11      Census Tract 31, Allen County, Indiana   8586.600000  \n",
       "12  Census Tract 108.19, Allen County, Indiana  14195.285714  \n",
       "13  Census Tract 103.06, Allen County, Indiana   9966.666667  \n",
       "14      Census Tract 30, Allen County, Indiana  10280.444444  \n",
       "15  Census Tract 116.08, Allen County, Indiana  14278.000000  \n",
       "16  Census Tract 115.01, Allen County, Indiana   8336.500000  \n",
       "17  Census Tract 103.05, Allen County, Indiana  21141.375000  \n",
       "18  Census Tract 106.01, Allen County, Indiana  11355.800000  \n",
       "19      Census Tract 32, Allen County, Indiana  11288.250000  "
      ]
     },
     "execution_count": 72,
     "metadata": {},
     "output_type": "execute_result"
    }
   ],
   "source": [
    "# QUERY THE DATA ONCE\n",
    "query_job = bigquery_client.query(query)\n",
    "wage_data = query_job.to_dataframe()\n",
    "wage_data.head(20)"
   ]
  },
  {
   "cell_type": "code",
   "execution_count": 73,
   "id": "c12f5814",
   "metadata": {},
   "outputs": [],
   "source": [
    "query = \"\"\"\n",
    "SELECT * FROM `ironhacks-data.ironhacks_competition.prediction_list`\n",
    "\"\"\""
   ]
  },
  {
   "cell_type": "code",
   "execution_count": 74,
   "id": "6df3eb3c",
   "metadata": {},
   "outputs": [
    {
     "data": {
      "text/html": [
       "<div>\n",
       "<style scoped>\n",
       "    .dataframe tbody tr th:only-of-type {\n",
       "        vertical-align: middle;\n",
       "    }\n",
       "\n",
       "    .dataframe tbody tr th {\n",
       "        vertical-align: top;\n",
       "    }\n",
       "\n",
       "    .dataframe thead th {\n",
       "        text-align: right;\n",
       "    }\n",
       "</style>\n",
       "<table border=\"1\" class=\"dataframe\">\n",
       "  <thead>\n",
       "    <tr style=\"text-align: right;\">\n",
       "      <th></th>\n",
       "      <th>uu_id</th>\n",
       "      <th>week_number</th>\n",
       "    </tr>\n",
       "  </thead>\n",
       "  <tbody>\n",
       "    <tr>\n",
       "      <th>0</th>\n",
       "      <td>5bf51fc2e162d6faf9e3cf79e4198378</td>\n",
       "      <td>44</td>\n",
       "    </tr>\n",
       "    <tr>\n",
       "      <th>1</th>\n",
       "      <td>420b44cc7e3f55d738df565421e59941</td>\n",
       "      <td>44</td>\n",
       "    </tr>\n",
       "    <tr>\n",
       "      <th>2</th>\n",
       "      <td>e39c66ecceec76ee8f9f811fa4a2d246</td>\n",
       "      <td>44</td>\n",
       "    </tr>\n",
       "    <tr>\n",
       "      <th>3</th>\n",
       "      <td>a90462cd11ae4e43144239bf7c4828a4</td>\n",
       "      <td>44</td>\n",
       "    </tr>\n",
       "    <tr>\n",
       "      <th>4</th>\n",
       "      <td>8b20a6749088c7ff1237983076ebfeaa</td>\n",
       "      <td>44</td>\n",
       "    </tr>\n",
       "    <tr>\n",
       "      <th>5</th>\n",
       "      <td>489a93264d03adecc4589fd9cd34ad36</td>\n",
       "      <td>44</td>\n",
       "    </tr>\n",
       "    <tr>\n",
       "      <th>6</th>\n",
       "      <td>f61f291c865fe4fe2bfd6dad53e5d058</td>\n",
       "      <td>44</td>\n",
       "    </tr>\n",
       "    <tr>\n",
       "      <th>7</th>\n",
       "      <td>f4520092ddd64f380cc29f27329112a6</td>\n",
       "      <td>44</td>\n",
       "    </tr>\n",
       "    <tr>\n",
       "      <th>8</th>\n",
       "      <td>447d5984bb8a8179bff002ccd1bba162</td>\n",
       "      <td>44</td>\n",
       "    </tr>\n",
       "    <tr>\n",
       "      <th>9</th>\n",
       "      <td>56d73815bdda97aca8e26051183ed3ba</td>\n",
       "      <td>44</td>\n",
       "    </tr>\n",
       "    <tr>\n",
       "      <th>10</th>\n",
       "      <td>050a624d618a68e43fe31189909c644f</td>\n",
       "      <td>44</td>\n",
       "    </tr>\n",
       "    <tr>\n",
       "      <th>11</th>\n",
       "      <td>5c43cbf8f0d860e91a9160706ea9b7d8</td>\n",
       "      <td>44</td>\n",
       "    </tr>\n",
       "    <tr>\n",
       "      <th>12</th>\n",
       "      <td>1400fd6122c6fe7582a30ee1280beb4b</td>\n",
       "      <td>44</td>\n",
       "    </tr>\n",
       "    <tr>\n",
       "      <th>13</th>\n",
       "      <td>02a7b845ab6b3fc2c09a50cdc486db2a</td>\n",
       "      <td>44</td>\n",
       "    </tr>\n",
       "    <tr>\n",
       "      <th>14</th>\n",
       "      <td>a993d47c7143bed2a187b0cac7d17983</td>\n",
       "      <td>44</td>\n",
       "    </tr>\n",
       "    <tr>\n",
       "      <th>15</th>\n",
       "      <td>09fbf26479f644ad33186ec51a90d65d</td>\n",
       "      <td>44</td>\n",
       "    </tr>\n",
       "    <tr>\n",
       "      <th>16</th>\n",
       "      <td>ce8723e47ce346b09bc20deb5d27749e</td>\n",
       "      <td>44</td>\n",
       "    </tr>\n",
       "    <tr>\n",
       "      <th>17</th>\n",
       "      <td>b67c2c4abede3730932f8d53aba0341a</td>\n",
       "      <td>44</td>\n",
       "    </tr>\n",
       "    <tr>\n",
       "      <th>18</th>\n",
       "      <td>68e5bdd9fde563b534c8a38dfddb6146</td>\n",
       "      <td>44</td>\n",
       "    </tr>\n",
       "    <tr>\n",
       "      <th>19</th>\n",
       "      <td>445ccda085809824099ff41f0ed427e5</td>\n",
       "      <td>44</td>\n",
       "    </tr>\n",
       "  </tbody>\n",
       "</table>\n",
       "</div>"
      ],
      "text/plain": [
       "                               uu_id  week_number\n",
       "0   5bf51fc2e162d6faf9e3cf79e4198378           44\n",
       "1   420b44cc7e3f55d738df565421e59941           44\n",
       "2   e39c66ecceec76ee8f9f811fa4a2d246           44\n",
       "3   a90462cd11ae4e43144239bf7c4828a4           44\n",
       "4   8b20a6749088c7ff1237983076ebfeaa           44\n",
       "5   489a93264d03adecc4589fd9cd34ad36           44\n",
       "6   f61f291c865fe4fe2bfd6dad53e5d058           44\n",
       "7   f4520092ddd64f380cc29f27329112a6           44\n",
       "8   447d5984bb8a8179bff002ccd1bba162           44\n",
       "9   56d73815bdda97aca8e26051183ed3ba           44\n",
       "10  050a624d618a68e43fe31189909c644f           44\n",
       "11  5c43cbf8f0d860e91a9160706ea9b7d8           44\n",
       "12  1400fd6122c6fe7582a30ee1280beb4b           44\n",
       "13  02a7b845ab6b3fc2c09a50cdc486db2a           44\n",
       "14  a993d47c7143bed2a187b0cac7d17983           44\n",
       "15  09fbf26479f644ad33186ec51a90d65d           44\n",
       "16  ce8723e47ce346b09bc20deb5d27749e           44\n",
       "17  b67c2c4abede3730932f8d53aba0341a           44\n",
       "18  68e5bdd9fde563b534c8a38dfddb6146           44\n",
       "19  445ccda085809824099ff41f0ed427e5           44"
      ]
     },
     "execution_count": 74,
     "metadata": {},
     "output_type": "execute_result"
    }
   ],
   "source": [
    "query_job = bigquery_client.query(query)\n",
    "data = query_job.to_dataframe()\n",
    "data.head(20)"
   ]
  },
  {
   "cell_type": "markdown",
   "id": "e21458c2",
   "metadata": {},
   "source": [
    "USING DATA SCIENCE OPERATIONS\n",
    "SOURCE: REALPYTHON https://realpython.com/numpy-tutorial/#using-ipython-notebooks-or-jupyterlab\n",
    "MASKING AND FILTERING - creating an array that has the same shape as your data"
   ]
  },
  {
   "cell_type": "code",
   "execution_count": 75,
   "id": "ede4c391",
   "metadata": {},
   "outputs": [
    {
     "data": {
      "text/plain": [
       "array([[ 5,  6,  8, 10, 12, 14],\n",
       "       [16, 18, 20, 22, 24, 26],\n",
       "       [28, 30, 32, 34, 36, 38],\n",
       "       [40, 42, 44, 46, 48, 50]])"
      ]
     },
     "execution_count": 75,
     "metadata": {},
     "output_type": "execute_result"
    }
   ],
   "source": [
    "import numpy as np\n",
    "numbers = np.linspace(5, 50, 24, dtype=int).reshape(4, -1)\n",
    "numbers"
   ]
  },
  {
   "cell_type": "markdown",
   "id": "9d72fc18",
   "metadata": {},
   "source": [
    "USING DATA SCIENCE OPERATIONS\n",
    "SOURCE: REALPYTHON https://realpython.com/numpy-tutorial/#using-ipython-notebooks-or-jupyterlab\n",
    "MASKING AND FILTERING - creating an array that has the same shape as your data"
   ]
  },
  {
   "cell_type": "code",
   "execution_count": 76,
   "id": "93559949",
   "metadata": {},
   "outputs": [
    {
     "data": {
      "text/plain": [
       "array([[False, False,  True, False,  True, False],\n",
       "       [ True, False,  True, False,  True, False],\n",
       "       [ True, False,  True, False,  True, False],\n",
       "       [ True, False,  True, False,  True, False]])"
      ]
     },
     "execution_count": 76,
     "metadata": {},
     "output_type": "execute_result"
    }
   ],
   "source": [
    "mask = numbers % 4 == 0\n",
    "mask"
   ]
  },
  {
   "cell_type": "code",
   "execution_count": 77,
   "id": "42753221",
   "metadata": {},
   "outputs": [
    {
     "data": {
      "text/plain": [
       "array([ 8, 12, 16, 20, 24, 28, 32, 36, 40, 44, 48])"
      ]
     },
     "execution_count": 77,
     "metadata": {},
     "output_type": "execute_result"
    }
   ],
   "source": [
    "# Input 4 creates the mask\n",
    "numbers[mask]"
   ]
  },
  {
   "cell_type": "code",
   "execution_count": 78,
   "id": "7dd2ae93",
   "metadata": {},
   "outputs": [
    {
     "data": {
      "text/plain": [
       "array([ 8, 12, 16, 20, 24, 28, 32, 36, 40, 44, 48])"
      ]
     },
     "execution_count": 78,
     "metadata": {},
     "output_type": "execute_result"
    }
   ],
   "source": [
    "by_four = numbers[numbers % 4 == 0]\n",
    "by_four"
   ]
  },
  {
   "cell_type": "code",
   "execution_count": 79,
   "id": "29228ce5",
   "metadata": {
    "lines_to_next_cell": 2
   },
   "outputs": [],
   "source": [
    "# USING MATPLOTLIB - image\n",
    "# A WAY TO COMMUNICATE DATA AND RESULTS\n",
    "# UNEMPLOYMENT RATES OCTOBER 2022 - Indiana Image\n",
    "# SOURCE: http://www.stats.indiana.edu/maptools/laus.asp\n",
    "# insall image\n",
    "# using opencv\n",
    "path = \"http://www.stats.indiana.edu/maptools/laus.asp\""
   ]
  },
  {
   "cell_type": "code",
   "execution_count": 80,
   "id": "dce8eae4",
   "metadata": {},
   "outputs": [],
   "source": [
    "import numpy as np\n",
    "import matplotlib.image as mpimg"
   ]
  },
  {
   "cell_type": "code",
   "execution_count": 81,
   "id": "0a7c7d04",
   "metadata": {},
   "outputs": [
    {
     "ename": "SyntaxError",
     "evalue": "invalid syntax (2913591077.py, line 1)",
     "output_type": "error",
     "traceback": [
      "\u001b[0;36m  File \u001b[0;32m\"/var/folders/l2/cnhff0_n1470l4xf0p7v7l_40000gn/T/ipykernel_8074/2913591077.py\"\u001b[0;36m, line \u001b[0;32m1\u001b[0m\n\u001b[0;31m    img = mpimg.imread (http://www.stats.indiana.edu/maptools/laus.asp)\u001b[0m\n\u001b[0m                            ^\u001b[0m\n\u001b[0;31mSyntaxError\u001b[0m\u001b[0;31m:\u001b[0m invalid syntax\n"
     ]
    }
   ],
   "source": [
    "img = mpimg.imread (http://www.stats.indiana.edu/maptools/laus.asp)\n",
    "print(type(img) )\n",
    "print(img.shape )"
   ]
  },
  {
   "cell_type": "markdown",
   "id": "6f7152f6",
   "metadata": {},
   "source": [
    "IMPORT THE LIBRARIES YOU WILL USE\n",
    "------------------------------------------\n",
    "You only need to import packages one time per notebook session. To keep your\n",
    "notebook clean and organized you can handle all imports at the top of your file.\n",
    "The following are included for example purposed, feel free to modify or delete \n",
    "anything in this section."
   ]
  },
  {
   "cell_type": "code",
   "execution_count": 82,
   "id": "2459e282",
   "metadata": {
    "lines_to_next_cell": 1
   },
   "outputs": [],
   "source": [
    "import csv\n",
    "import pandas as pd\n",
    "import numpy as np\n",
    "from google.cloud import bigquery\n",
    "from google.oauth2 import service_account\n",
    "from google.cloud.bigquery import magics\n",
    "import statsmodels.api as sm\n",
    "import math"
   ]
  },
  {
   "cell_type": "markdown",
   "id": "b8b6202e",
   "metadata": {},
   "source": [
    "IMPORT IRONHACKS DATA"
   ]
  },
  {
   "cell_type": "code",
   "execution_count": 83,
   "id": "b2117d6b",
   "metadata": {
    "lines_to_next_cell": 1
   },
   "outputs": [],
   "source": [
    "def query(table):\n",
    "    bigquery_client = bigquery.Client(project='ironhacks-data')\n",
    "    query_str = f'''\n",
    "SELECT *\n",
    "FROM `ironhacks-data.ironhacks_competition.{table}`\n",
    "'''\n",
    "    query_job = bigquery_client.query(query_str)\n",
    "    data = query_job.to_dataframe()\n",
    "    return data"
   ]
  },
  {
   "cell_type": "code",
   "execution_count": 84,
   "id": "4e738188",
   "metadata": {
    "lines_to_next_cell": 1
   },
   "outputs": [],
   "source": [
    "def combine(u, w):\n",
    "    '''\n",
    "    Joins the unemployment data and the wage data on `uu_id`\n",
    "    '''\n",
    "    ww = w.loc[:, ['uu_id', 'average_wage']]\n",
    "    d = u.join(ww.set_index('uu_id'), on='uu_id')\n",
    "    return d"
   ]
  },
  {
   "cell_type": "code",
   "execution_count": 85,
   "id": "5a2d8c62",
   "metadata": {
    "lines_to_next_cell": 1
   },
   "outputs": [
    {
     "ename": "IndentationError",
     "evalue": "expected an indented block (3718595506.py, line 1)",
     "output_type": "error",
     "traceback": [
      "\u001b[0;36m  File \u001b[0;32m\"/var/folders/l2/cnhff0_n1470l4xf0p7v7l_40000gn/T/ipykernel_8074/3718595506.py\"\u001b[0;36m, line \u001b[0;32m1\u001b[0m\n\u001b[0;31m    def load_raw(csv_name='0_raw.csv'):\u001b[0m\n\u001b[0m                                       ^\u001b[0m\n\u001b[0;31mIndentationError\u001b[0m\u001b[0;31m:\u001b[0m expected an indented block\n"
     ]
    }
   ],
   "source": [
    "def load_raw(csv_name='0_raw.csv'):"
   ]
  },
  {
   "cell_type": "markdown",
   "id": "cee091a0",
   "metadata": {},
   "source": [
    "IMPORT IRONHACKS DATA"
   ]
  },
  {
   "cell_type": "code",
   "execution_count": 86,
   "id": "e84b4dcf",
   "metadata": {
    "lines_to_next_cell": 1
   },
   "outputs": [],
   "source": [
    "def query(table):\n",
    "    bigquery_client = bigquery.Client(project='ironhacks-data')\n",
    "    query_str = f'''\n",
    "SELECT *\n",
    "FROM `ironhacks-data.ironhacks_competition.{table}`\n",
    "'''\n",
    "    query_job = bigquery_client.query(query_str)\n",
    "    data = query_job.to_dataframe()\n",
    "    return data"
   ]
  },
  {
   "cell_type": "code",
   "execution_count": 87,
   "id": "48a6479b",
   "metadata": {
    "lines_to_next_cell": 1
   },
   "outputs": [],
   "source": [
    "def combine(u, w):\n",
    "    '''\n",
    "    Joins the unemployment data and the wage data on `uu_id`\n",
    "    '''\n",
    "    ww = w.loc[:, ['uu_id', 'average_wage']]\n",
    "    d = u.join(ww.set_index('uu_id'), on='uu_id')\n",
    "    return d"
   ]
  },
  {
   "cell_type": "code",
   "execution_count": 88,
   "id": "37a07cc4",
   "metadata": {
    "lines_to_next_cell": 1
   },
   "outputs": [
    {
     "ename": "SyntaxError",
     "evalue": "invalid syntax (3976006987.py, line 9)",
     "output_type": "error",
     "traceback": [
      "\u001b[0;36m  File \u001b[0;32m\"/var/folders/l2/cnhff0_n1470l4xf0p7v7l_40000gn/T/ipykernel_8074/3976006987.py\"\u001b[0;36m, line \u001b[0;32m9\u001b[0m\n\u001b[0;31m    SELECT *\u001b[0m\n\u001b[0m            ^\u001b[0m\n\u001b[0;31mSyntaxError\u001b[0m\u001b[0;31m:\u001b[0m invalid syntax\n"
     ]
    }
   ],
   "source": [
    "def load_raw(csv_name='0_raw.csv'):\n",
    "    '''\n",
    "\n",
    "# IMPORT IRONHACKS DATA\n",
    "\n",
    "def query(table):\n",
    "    bigquery_client = bigquery.Client(project='ironhacks-data')\n",
    "    query_str = f'''\n",
    "SELECT *\n",
    "FROM `ironhacks-data.ironhacks_competition.{table}`\n",
    "'''\n",
    "    query_job = bigquery_client.query(query_str)\n",
    "    data = query_job.to_dataframe()\n",
    "    return data\n",
    "\n",
    "def combine(u, w):\n",
    "    '''\n",
    "    Joins the unemployment data and the wage data on `uu_id`\n",
    "    '''\n",
    "    ww = w.loc[:, ['uu_id', 'average_wage']]\n",
    "    d = u.join(ww.set_index('uu_id'), on='uu_id')\n",
    "    return d\n",
    "\n",
    "# IMPORT IRONHACKS DATA\n",
    "\n",
    "def query(table):\n",
    "    Bigquery_client = bigquery.Client(project='ironhacks-data')\n",
    "    query_str = f'''\n",
    "SELECT *\n",
    "FROM `ironhacks-data.ironhacks_competition.{table}`\n",
    "'''\n",
    "    query_job = bigquery_client.query(query_str)\n",
    "    data = query_job.to_dataframe()\n",
    "    return data\n",
    "\n",
    "def combine(u, w):\n",
    "    '''\n",
    "    Joins the unemployment data and the wage data on `uu_id`\n",
    "    '''\n",
    "    ww = w.loc[:, ['uu_id', 'average_wage']]\n",
    "    d = u.join(ww.set_index('uu_id'), on='uu_id')\n",
    "    return d\n",
    "\n",
    "# IMPORT THE LINEAR REGRESSION MODEL\n",
    "\n",
    "import csv\n",
    "import pandas as pd\n",
    "import numpy as np\n",
    "from google.cloud import bigquery\n",
    "from google.oauth2 import service_account\n",
    "from google.cloud.bigquery import magics\n",
    "from sklearn.model_selection import train_test_split \n",
    "from sklearn.linear_model import LinearRegression\n",
    "from sklearn import metrics\n",
    "import matplotlib.pyplot as plt  \n",
    "\n",
    "# IMPORT IRONHACKS DATA\n",
    "\n",
    "def query(table):\n",
    "    Bigquery_client = bigquery.Client(project='ironhacks-data')\n",
    "    query_str = f'''\n",
    "SELECT *\n",
    "FROM `ironhacks-data.ironhacks_competition.{table}`\n",
    "'''\n",
    "    query_job = bigquery_client.query(query_str)\n",
    "    data = query_job.to_dataframe()\n",
    "    return data\n",
    "\n",
    "def combine(u, w):\n",
    "    '''\n",
    "    Joins the unemployment data and the wage data on `uu_id`\n",
    "    '''\n",
    "    ww = w.loc[:, ['uu_id', 'average_wage']]\n",
    "    d = u.join(ww.set_index('uu_id'), on='uu_id')\n",
    "    return d\n",
    "\n",
    "# IMPORT THE LINEAR REGRESSION MODEL\n",
    "\n",
    "import csv\n",
    "import pandas as pd\n",
    "import numpy as np\n",
    "from google.cloud import bigquery\n",
    "from google.oauth2 import service_account\n",
    "from google.cloud.bigquery import magics\n",
    "from sklearn.model_selection import train_test_split \n",
    "from sklearn.linear_model import LinearRegression\n",
    "from sklearn import metrics\n",
    "import matplotlib.pyplot as plt  \n",
    "\n",
    "# IMPORT PACKAGE THE LINEAR REGRESSION MODEL- SCIKIT-LEARN \n",
    "# SOURCE: https://realpython.com/linear-regression-in-python/#simple-linear-regression-with-scikit-learn\n",
    "# NUMPY IS A FUNDAMENTAL PUYTHON SCIENTIFIC PACKAGE THAT ALLOWS MANY HIGH PEROFORMATION OPERATION SON A SINGLE AND MULTI DIMENSIONAL ARRAYS.\n",
    "# SOURCE: https://realpython.com/linear-regression-in-python/#python-packages-for-linear-regression\n",
    "\n",
    "import numpy as np\n",
    "from sklearn.linear_model import LinearRegression\n",
    "\n",
    "# DEFINING THE DATA; INPUTS (REGRESSOR.X) AND OUTPUTS (RESPONSE.Y)\n",
    "x = np.array([5, 15, 25, 35, 45, 55]).reshape((-1, 1))\n",
    "y = np.array([5, 20, 14, 32, 22, 38])\n",
    "\n",
    "# Test Linear Regression\n",
    "model = LinearRegression().fit(x, y)\n",
    "\n",
    "f load_county():\n",
    "    d = load_imp_tot()\n",
    "    l = []\n",
    "    for (county, week_number), g in d.groupby(['county', 'week_number']):        \n",
    "        l.append({\n",
    "            'county': county,\n",
    "            'fips': g.countyfips.values[0],\n",
    "            'week_number': week_number,\n",
    "            'total_claims': g.total_claims.mean()\n",
    "        })\n",
    "    c = pd.DataFrame(l)\n",
    "    return c\n",
    "\n",
    "def avg_weeks(c, start, end):\n",
    "    mask = (start <= c.week_number) & (c.week_number <= end)\n",
    "    cc = c.loc[mask, :]\n",
    "\n",
    "load_county().head()\n",
    "\n",
    "def load_county():\n",
    "    d = load_imp_tot()\n",
    "    l = []\n",
    "    for (county, week_number), g in d.groupby(['county', 'week_number']):        \n",
    "        l.append({\n",
    "            'county': county,\n",
    "            'fips': g.countyfips.values[0],\n",
    "            'week_number': week_number,\n",
    "            'total_claims': g.total_claims.mean()\n",
    "        })\n",
    "    c = pd.DataFrame(l)\n",
    "    return c\n",
    "\n",
    "def avg_weeks(c, start, end):\n",
    "    mask = (start <= c.week_number) & (c.week_number <= end)\n",
    "    cc = c.loc[mask, :]\n",
    "\n",
    "load_county().head()\n",
    "\n",
    "def load_county():\n",
    "    d = load_imp_tot()\n",
    "    l = []\n",
    "    for (county, week_number), g in d.groupby(['county', 'week_number']):        \n",
    "        l.append({\n",
    "            'county': county,\n",
    "            'fips': g.countyfips.values[0],\n",
    "            'week_number': week_number,\n",
    "            'total_claims': g.total_claims.mean()\n",
    "        })\n",
    "    c = pd.DataFrame(l)\n",
    "    return c\n",
    "\n",
    "def avg_weeks(c, start, end):\n",
    "    mask = (start <= c.week_number) & (c.week_number <= end)\n",
    "    cc = c.loc[mask, :]\n",
    "\n",
    "load_county().head()\n",
    "\n",
    "def load_county():\n",
    "    d = load_imp_tot()\n",
    "    l = []\n",
    "    for (county, week_number), g in d.groupby(['county', 'week_number']):        \n",
    "        l.append({\n",
    "            'county': county,\n",
    "            'fips': g.countyfips.values[0],\n",
    "            'week_number': week_number,\n",
    "            'total_claims': g.total_claims.mean()\n",
    "        })\n",
    "    c = pd.DataFrame(l)\n",
    "    return c\n",
    "\n",
    "def avg_weeks(c, start, end):\n",
    "    mask = (start <= c.week_number) & (c.week_number <= end)\n",
    "    cc = c.loc[mask, :]\n",
    "\n",
    "load_county().head()\n",
    "\n",
    "def load_county():\n",
    "    d = load_imp_tot()\n",
    "    l = []\n",
    "    for (county, week_number), g in d.groupby(['county', 'week_number']):        \n",
    "        l.append({\n",
    "            'county': county,\n",
    "            'fips': g.countyfips.values[0],\n",
    "            'week_number': week_number,\n",
    "            'total_claims': g.total_claims.mean()\n",
    "        })\n",
    "    c = pd.DataFrame(l)\n",
    "    return c\n",
    "\n",
    "def avg_weeks(c, start, end):\n",
    "    mask = (start <= c.week_number) & (c.week_number <= end)\n",
    "    cc = c.loc[mask, :]\n",
    "\n",
    "load_county().head()\n",
    "\n",
    "def get_week_number_map(g, colname):\n",
    "    '''\n",
    "    Creates a dictionary that maps from week number to an existing value in a given `colname`\n",
    "    '''\n",
    "    g = g[['week_number', colname]]\n",
    "    week_number_map = dict(sorted(g.values.tolist()))\n",
    "    return week_number_map\n",
    "\n",
    "def get_county(tract_name):\n",
    "    m = re.search('Census Tract \\S+, (.+) County, Indiana', tract_name)\n",
    "    county = m.group(1)\n",
    "    return county\n",
    "\n",
    "def load_county():\n",
    "    d = load_imp_tot()\n",
    "    l = []\n",
    "    for (county, week_number), g in d.groupby(['county', 'week_number']):        \n",
    "        l.append({\n",
    "            'county': county,\n",
    "            'fips': g.countyfips.values[0],\n",
    "            'week_number': week_number,\n",
    "            'total_claims': g.total_claims.mean()\n",
    "        })\n",
    "    c = pd.DataFrame(l)\n",
    "    return c\n",
    "\n",
    "def avg_weeks(c, start, end):\n",
    "    mask = (start <= c.week_number) & (c.week_number <= end)\n",
    "    cc = c.loc[mask, :]\n",
    "\n",
    "load_county().head()\n",
    "\n",
    "def get_week_number_map(g, colname):\n",
    "    '''\n",
    "    \n",
    "    g = g[['week_number', colname]]\n",
    "    week_number_map = dict(sorted(g.values.tolist()))\n",
    "    return week_number_map"
   ]
  },
  {
   "cell_type": "code",
   "execution_count": 89,
   "id": "ba31aa85",
   "metadata": {
    "lines_to_next_cell": 1
   },
   "outputs": [],
   "source": [
    "def get_county(tract_name):\n",
    "    m = re.search('Census Tract \\S+, (.+) County, Indiana', tract_name)\n",
    "    county = m.group(1)\n",
    "    return county"
   ]
  },
  {
   "cell_type": "code",
   "execution_count": 90,
   "id": "6cf54f14",
   "metadata": {
    "lines_to_next_cell": 1
   },
   "outputs": [],
   "source": [
    "def load_county():\n",
    "    d = load_imp_tot()\n",
    "    l = []\n",
    "    for (county, week_number), g in d.groupby(['county', 'week_number']):        \n",
    "        l.append({\n",
    "            'county': county,\n",
    "            'fips': g.countyfips.values[0],\n",
    "            'week_number': week_number,\n",
    "            'total_claims': g.total_claims.mean()\n",
    "        })\n",
    "    c = pd.DataFrame(l)\n",
    "    return c"
   ]
  },
  {
   "cell_type": "code",
   "execution_count": 91,
   "id": "424a24fc",
   "metadata": {
    "lines_to_next_cell": 1
   },
   "outputs": [],
   "source": [
    "def avg_weeks(c, start, end):\n",
    "    mask = (start <= c.week_number) & (c.week_number <= end)\n",
    "    cc = c.loc[mask, :]"
   ]
  },
  {
   "cell_type": "code",
   "execution_count": 92,
   "id": "bf7d5ecb",
   "metadata": {
    "lines_to_next_cell": 1
   },
   "outputs": [
    {
     "ename": "NameError",
     "evalue": "name 'load_imp_tot' is not defined",
     "output_type": "error",
     "traceback": [
      "\u001b[0;31m---------------------------------------------------------------------------\u001b[0m",
      "\u001b[0;31mNameError\u001b[0m                                 Traceback (most recent call last)",
      "\u001b[0;32m/var/folders/l2/cnhff0_n1470l4xf0p7v7l_40000gn/T/ipykernel_8074/2736073926.py\u001b[0m in \u001b[0;36m<module>\u001b[0;34m\u001b[0m\n\u001b[0;32m----> 1\u001b[0;31m \u001b[0mload_county\u001b[0m\u001b[0;34m(\u001b[0m\u001b[0;34m)\u001b[0m\u001b[0;34m.\u001b[0m\u001b[0mhead\u001b[0m\u001b[0;34m(\u001b[0m\u001b[0;34m)\u001b[0m\u001b[0;34m\u001b[0m\u001b[0;34m\u001b[0m\u001b[0m\n\u001b[0m",
      "\u001b[0;32m/var/folders/l2/cnhff0_n1470l4xf0p7v7l_40000gn/T/ipykernel_8074/198203614.py\u001b[0m in \u001b[0;36mload_county\u001b[0;34m()\u001b[0m\n\u001b[1;32m      1\u001b[0m \u001b[0;32mdef\u001b[0m \u001b[0mload_county\u001b[0m\u001b[0;34m(\u001b[0m\u001b[0;34m)\u001b[0m\u001b[0;34m:\u001b[0m\u001b[0;34m\u001b[0m\u001b[0;34m\u001b[0m\u001b[0m\n\u001b[0;32m----> 2\u001b[0;31m     \u001b[0md\u001b[0m \u001b[0;34m=\u001b[0m \u001b[0mload_imp_tot\u001b[0m\u001b[0;34m(\u001b[0m\u001b[0;34m)\u001b[0m\u001b[0;34m\u001b[0m\u001b[0;34m\u001b[0m\u001b[0m\n\u001b[0m\u001b[1;32m      3\u001b[0m     \u001b[0ml\u001b[0m \u001b[0;34m=\u001b[0m \u001b[0;34m[\u001b[0m\u001b[0;34m]\u001b[0m\u001b[0;34m\u001b[0m\u001b[0;34m\u001b[0m\u001b[0m\n\u001b[1;32m      4\u001b[0m     \u001b[0;32mfor\u001b[0m \u001b[0;34m(\u001b[0m\u001b[0mcounty\u001b[0m\u001b[0;34m,\u001b[0m \u001b[0mweek_number\u001b[0m\u001b[0;34m)\u001b[0m\u001b[0;34m,\u001b[0m \u001b[0mg\u001b[0m \u001b[0;32min\u001b[0m \u001b[0md\u001b[0m\u001b[0;34m.\u001b[0m\u001b[0mgroupby\u001b[0m\u001b[0;34m(\u001b[0m\u001b[0;34m[\u001b[0m\u001b[0;34m'county'\u001b[0m\u001b[0;34m,\u001b[0m \u001b[0;34m'week_number'\u001b[0m\u001b[0;34m]\u001b[0m\u001b[0;34m)\u001b[0m\u001b[0;34m:\u001b[0m\u001b[0;34m\u001b[0m\u001b[0;34m\u001b[0m\u001b[0m\n\u001b[1;32m      5\u001b[0m         l.append({\n",
      "\u001b[0;31mNameError\u001b[0m: name 'load_imp_tot' is not defined"
     ]
    }
   ],
   "source": [
    "load_county().head()"
   ]
  },
  {
   "cell_type": "code",
   "execution_count": 93,
   "id": "023eebdb",
   "metadata": {
    "lines_to_next_cell": 1
   },
   "outputs": [],
   "source": [
    "def get_week_number_map(g, colname):\n",
    "    '''\n",
    "    Creates a dictionary that maps from week number to an existing value in a given `colname`\n",
    "    '''\n",
    "    g = g[['week_number', colname]]\n",
    "    week_number_map = dict(sorted(g.values.tolist()))\n",
    "    return week_number_map"
   ]
  },
  {
   "cell_type": "code",
   "execution_count": 94,
   "id": "a54bd026",
   "metadata": {
    "lines_to_next_cell": 1
   },
   "outputs": [],
   "source": [
    "def get_county(tract_name):\n",
    "    m = re.search('Census Tract \\S+, (.+) County, Indiana', tract_name)\n",
    "    county = m.group(1)\n",
    "    return county"
   ]
  },
  {
   "cell_type": "code",
   "execution_count": 96,
   "id": "be836ce2",
   "metadata": {
    "lines_to_next_cell": 1
   },
   "outputs": [
    {
     "ename": "IndentationError",
     "evalue": "unindent does not match any outer indentation level (<tokenize>, line 38)",
     "output_type": "error",
     "traceback": [
      "\u001b[0;36m  File \u001b[0;32m\"<tokenize>\"\u001b[0;36m, line \u001b[0;32m38\u001b[0m\n\u001b[0;31m    Prepare a date column for ARIMA\u001b[0m\n\u001b[0m    ^\u001b[0m\n\u001b[0;31mIndentationError\u001b[0m\u001b[0;31m:\u001b[0m unindent does not match any outer indentation level\n"
     ]
    }
   ],
   "source": [
    "def week_number_to_date(week_number, first_week_date='20220101'):\n",
    "    '''\n",
    "\n",
    "def load_county():\n",
    "    d = load_imp_tot()\n",
    "    l = []\n",
    "    for (county, week_number), g in d.groupby(['county', 'week_number']):        \n",
    "        l.append({\n",
    "            'county': county,\n",
    "            'fips': g.countyfips.values[0],\n",
    "            'week_number': week_number,\n",
    "            'total_claims': g.total_claims.mean()\n",
    "        })\n",
    "    c = pd.DataFrame(l)\n",
    "    return c\n",
    "\n",
    "def avg_weeks(c, start, end):\n",
    "    mask = (start <= c.week_number) & (c.week_number <= end)\n",
    "    cc = c.loc[mask, :]\n",
    "\n",
    "load_county().head()\n",
    "\n",
    "def get_week_number_map(g, colname):\n",
    "    '''\n",
    "    Creates a dictionary that maps from week number to an existing value in a given `colname`\n",
    "    '''\n",
    "    g = g[['week_number', colname]]\n",
    "    week_number_map = dict(sorted(g.values.tolist()))\n",
    "    return week_number_map\n",
    "\n",
    "def get_county(tract_name):\n",
    "    m = re.search('Census Tract \\S+, (.+) County, Indiana', tract_name)\n",
    "    county = m.group(1)\n",
    "    return county\n",
    "\n",
    "def week_number_to_date(week_number, first_week_date='20220101'):\n",
    "    '''\n",
    "  Prepare a date column for ARIMA\n",
    "    '''\n",
    "def load_county():\n",
    "    d = load_imp_tot()\n",
    "    l = []\n",
    "    for (county, week_number), g in d.groupby(['county', 'week_number']):        \n",
    "        l.append({\n",
    "            'county': county,\n",
    "            'fips': g.countyfips.values[0],\n",
    "            'week_number': week_number,\n",
    "            'total_claims': g.total_claims.mean()\n",
    "        })\n",
    "    c = pd.DataFrame(l)\n",
    "    return c\n",
    "\n",
    "def avg_weeks(c, start, end):\n",
    "    mask = (start <= c.week_number) & (c.week_number <= end)\n",
    "    cc = c.loc[mask, :]\n",
    "\n",
    "load_county().head()\n",
    "\n",
    "def rf_industry(g):\n",
    "    uu_id = g.uu_id.values[0]\n",
    "    gg = g[COL_MAP['industry'] + ['week_number', 'total_claims']]    \n",
    "    gg = gg.dropna()\n",
    "    gg = pd.get_dummies(gg)\n",
    "        \n",
    "    if gg.shape[0] == 0:\n",
    "        print(g.uu_id.values[0])\n",
    "        mean = g.total_claims.mean()\n",
    "        return pd.DataFrame([{'uu_id': uu_id, 'week_number': 38, 'total_claims': mean, 'predicted': mean}])\n",
    "    x = gg.drop(['total_claims'], axis=1)    \n",
    "    y = gg['total_claims']    \n",
    "    max_avail_week_number = int(x.week_number.max())\n",
    "    rf = sklearn.ensemble.RandomForestRegressor(n_estimators=100, random_state=0).fit(x, y.values.ravel())\n",
    "    last = x.loc[x.week_number == max_avail_week_number, :].copy()\n",
    "    last['week_number'] = max_avail_week_number + 1\n",
    "    x_test = pd.concat([x, last], ignore_index=True)\n",
    "    x_test['predicted'] = rf.predict(x_test)\n",
    "    result = x_test.copy()\n",
    "    result['total_claims'] = y.reset_index(0, drop=True)\n",
    "    result['uu_id'] = uu_id\n",
    "    return result[['uu_id', 'week_number', 'total_claims', 'predicted']]\n",
    "    \n",
    "def plot_industry(d):\n",
    "    fig, axs = plt.subplots(ncols=6, figsize=(18, 3), sharey=True)\n",
    "    for i in range(6):\n",
    "        ax = axs[i]\n",
    "        dd = subset(d, i)\n",
    "        result = rf_industry(dd)\n",
    "        ax.plot(result.week_number, result.total_claims, 'o-', label='original')\n",
    "        ax.plot(result.week_number, result.predicted, 'o-', label='predict')\n",
    "        ax.set_xlabel('week_number')\n",
    "        ax.set_title(f'uu_id: {i}')\n",
    "        ax.set_xlim(0, 42)\n",
    "            \n",
    "    axs[-1].legend(frameon=False)\n",
    "    axs[0].set_ylabel('claims')\n",
    "    plt.show()\n",
    "\n",
    "plot_industry(load_featured())\n",
    "\n",
    "def rf_industry(g):\n",
    "    uu_id = g.uu_id.values[0]\n",
    "    gg = g[COL_MAP['industry'] + ['week_number', 'total_claims']]    \n",
    "    gg = gg.dropna()\n",
    "    gg = pd.get_dummies(gg)\n",
    "        \n",
    "    if gg.shape[0] == 0:\n",
    "        print(g.uu_id.values[0])\n",
    "        mean = g.total_claims.mean()\n",
    "        return pd.DataFrame([{'uu_id': uu_id, 'week_number': 38, 'total_claims': mean, 'predicted': mean}])\n",
    "    x = gg.drop(['total_claims'], axis=1)    \n",
    "    y = gg['total_claims']    \n",
    "    max_avail_week_number = int(x.week_number.max())\n",
    "    rf = sklearn.ensemble.RandomForestRegressor(n_estimators=100, random_state=0).fit(x, y.values.ravel())\n",
    "    last = x.loc[x.week_number == max_avail_week_number, :].copy()\n",
    "    last['week_number'] = max_avail_week_number + 1\n",
    "    x_test = pd.concat([x, last], ignore_index=True)\n",
    "    x_test['predicted'] = rf.predict(x_test)\n",
    "    result = x_test.copy()\n",
    "    result['total_claims'] = y.reset_index(0, drop=True)\n",
    "    result['uu_id'] = uu_id\n",
    "    return result[['uu_id', 'week_number', 'total_claims', 'predicted']]\n",
    "    \n",
    "def plot_industry(d):\n",
    "    fig, axs = plt.subplots(ncols=6, figsize=(18, 3), sharey=True)\n",
    "    for i in range(6):\n",
    "        ax = axs[i]\n",
    "        dd = subset(d, i)\n",
    "        result = rf_industry(dd)\n",
    "        ax.plot(result.week_number, result.total_claims, 'o-', label='original')\n",
    "        ax.plot(result.week_number, result.predicted, 'o-', label='predict')\n",
    "        ax.set_xlabel('week_number')\n",
    "        ax.set_title(f'uu_id: {i}')\n",
    "        ax.set_xlim(0, 42)\n",
    "            \n",
    "    axs[-1].legend(frameon=False)\n",
    "    axs[0].set_ylabel('claims')\n",
    "    plt.show()\n",
    "\n",
    "plot_industry(load_featured())\n",
    "\n",
    "def query(table):\n",
    "    bigquery_client = bigquery.Client(project='ironhacks-data')\n",
    "    query_str = f'''\n",
    "SELECT *\n",
    "FROM `ironhacks-data.ironhacks_competition.{table}`\n",
    "'''\n",
    "    query_job = bigquery_client.query(query_str)\n",
    "    data = query_job.to_dataframe()\n",
    "    return data\n",
    "\n",
    "def combine(u, w):\n",
    "    '''\n",
    "    Joins the unemployment data and the wage data on `uu_id`\n",
    "    '''\n",
    "    ww = w.loc[:, ['uu_id', 'average_wage']]\n",
    "    d = u.join(ww.set_index('uu_id'), on='uu_id')\n",
    "    return d\n",
    "\n",
    "def load_raw(csv_name='0_raw.csv'):\n",
    "    '''"
   ]
  },
  {
   "cell_type": "code",
   "execution_count": 97,
   "id": "5e82a29a",
   "metadata": {
    "lines_to_next_cell": 1
   },
   "outputs": [],
   "source": [
    "def query(table):\n",
    "    bigquery_client = bigquery.Client(project='ironhacks-data')\n",
    "    query_str = f'''\n",
    "SELECT *\n",
    "FROM `ironhacks-data.ironhacks_competition.{table}`\n",
    "'''\n",
    "    query_job = bigquery_client.query(query_str)\n",
    "    data = query_job.to_dataframe()\n",
    "    return data"
   ]
  },
  {
   "cell_type": "code",
   "execution_count": 98,
   "id": "f0299916",
   "metadata": {
    "lines_to_next_cell": 1
   },
   "outputs": [],
   "source": [
    "def combine(u, w):\n",
    "    '''\n",
    "    Joins the unemployment data and the wage data on `uu_id`\n",
    "    '''\n",
    "    ww = w.loc[:, ['uu_id', 'average_wage']]\n",
    "    d = u.join(ww.set_index('uu_id'), on='uu_id')\n",
    "    return d"
   ]
  },
  {
   "cell_type": "code",
   "execution_count": 99,
   "id": "de8433d1",
   "metadata": {
    "lines_to_next_cell": 1
   },
   "outputs": [
    {
     "ename": "SyntaxError",
     "evalue": "invalid syntax (630783013.py, line 6)",
     "output_type": "error",
     "traceback": [
      "\u001b[0;36m  File \u001b[0;32m\"/var/folders/l2/cnhff0_n1470l4xf0p7v7l_40000gn/T/ipykernel_8074/630783013.py\"\u001b[0;36m, line \u001b[0;32m6\u001b[0m\n\u001b[0;31m    SELECT *\u001b[0m\n\u001b[0m            ^\u001b[0m\n\u001b[0;31mSyntaxError\u001b[0m\u001b[0;31m:\u001b[0m invalid syntax\n"
     ]
    }
   ],
   "source": [
    "def load_raw(csv_name='0_raw.csv'):\n",
    "    '''\n",
    "    def query(table):\n",
    "    bigquery_client = bigquery.Client(project='ironhacks-data')\n",
    "    query_str = f'''\n",
    "SELECT *\n",
    "FROM `ironhacks-data.ironhacks_competition.{table}`\n",
    "'''\n",
    "    query_job = bigquery_client.query(query_str)\n",
    "    data = query_job.to_dataframe()\n",
    "    return data\n",
    "\n",
    "def combine(u, w):\n",
    "    '''\n",
    "    Joins the unemployment data and the wage data on `uu_id`\n",
    "    '''\n",
    "    ww = w.loc[:, ['uu_id', 'average_wage']]\n",
    "    d = u.join(ww.set_index('uu_id'), on='uu_id')\n",
    "    return d\n",
    "\n",
    "def load_raw(csv_name='0_raw.csv'):\n",
    "    '''"
   ]
  },
  {
   "cell_type": "code",
   "execution_count": 100,
   "id": "d04cb52d",
   "metadata": {
    "lines_to_next_cell": 1
   },
   "outputs": [],
   "source": [
    "def query(table):\n",
    "    bigquery_client = bigquery.Client(project='ironhacks-data')\n",
    "    query_str = f'''\n",
    "SELECT *\n",
    "FROM `ironhacks-data.ironhacks_competition.{table}`\n",
    "'''\n",
    "    query_job = bigquery_client.query(query_str)\n",
    "    data = query_job.to_dataframe()\n",
    "    return data"
   ]
  },
  {
   "cell_type": "code",
   "execution_count": 101,
   "id": "098a59dd",
   "metadata": {
    "lines_to_next_cell": 1
   },
   "outputs": [],
   "source": [
    "def combine(u, w):\n",
    "    '''\n",
    "    Joins the unemployment data and the wage data on `uu_id`\n",
    "    '''\n",
    "    ww = w.loc[:, ['uu_id', 'average_wage']]\n",
    "    d = u.join(ww.set_index('uu_id'), on='uu_id')\n",
    "    return d"
   ]
  },
  {
   "cell_type": "code",
   "execution_count": 103,
   "id": "a25eafbc",
   "metadata": {},
   "outputs": [
    {
     "ename": "IndentationError",
     "evalue": "unindent does not match any outer indentation level (<tokenize>, line 26)",
     "output_type": "error",
     "traceback": [
      "\u001b[0;36m  File \u001b[0;32m\"<tokenize>\"\u001b[0;36m, line \u001b[0;32m26\u001b[0m\n\u001b[0;31m    Loads the unemployment and wage data and does some basic cleaning\u001b[0m\n\u001b[0m    ^\u001b[0m\n\u001b[0;31mIndentationError\u001b[0m\u001b[0;31m:\u001b[0m unindent does not match any outer indentation level\n"
     ]
    }
   ],
   "source": [
    "def load_raw(csv_name='0_raw.csv'):\n",
    "    '''\n",
    " \n",
    "  \n",
    "\n",
    "def query(table):\n",
    "    bigquery_client = bigquery.Client(project='ironhacks-data')\n",
    "    query_str = f'''\n",
    "SELECT *\n",
    "FROM `ironhacks-data.ironhacks_competition.{table}`\n",
    "'''\n",
    "    query_job = bigquery_client.query(query_str)\n",
    "    data = query_job.to_dataframe()\n",
    "    return data\n",
    "\n",
    "def combine(u, w):\n",
    "    '''\n",
    "    Joins the unemployment data and the wage data on `uu_id`\n",
    "    '''\n",
    "    ww = w.loc[:, ['uu_id', 'average_wage']]\n",
    "    d = u.join(ww.set_index('uu_id'), on='uu_id')\n",
    "    return d\n",
    "\n",
    "def load_raw(csv_name='0_raw.csv'):\n",
    "    '''\n",
    "  Loads the unemployment and wage data and does some basic cleaning"
   ]
  },
  {
   "cell_type": "code",
   "execution_count": 104,
   "id": "f1dd07aa",
   "metadata": {
    "lines_to_next_cell": 1
   },
   "outputs": [],
   "source": [
    "def query(table):\n",
    "    bigquery_client = bigquery.Client(project='ironhacks-data')\n",
    "    query_str = f'''\n",
    "SELECT *\n",
    "FROM `ironhacks-data.ironhacks_competition.{table}`\n",
    "'''\n",
    "    query_job = bigquery_client.query(query_str)\n",
    "    data = query_job.to_dataframe()\n",
    "    return data"
   ]
  },
  {
   "cell_type": "code",
   "execution_count": 105,
   "id": "6bac2200",
   "metadata": {
    "lines_to_next_cell": 1
   },
   "outputs": [],
   "source": [
    "def combine(u, w):\n",
    "    '''\n",
    "    Joins the unemployment data and the wage data on `uu_id`\n",
    "    '''\n",
    "    ww = w.loc[:, ['uu_id', 'average_wage']]\n",
    "    d = u.join(ww.set_index('uu_id'), on='uu_id')\n",
    "    return d"
   ]
  },
  {
   "cell_type": "code",
   "execution_count": 106,
   "id": "ee218cec",
   "metadata": {
    "lines_to_next_cell": 1
   },
   "outputs": [],
   "source": [
    "def load_raw(csv_name='0_raw.csv'):\n",
    "    '''\n",
    "  Loads the unemployment and wage data and does some basic cleaning\n",
    "  '''\n",
    "    if not os.path.isfile(csv_name):\n",
    "        u = query('unemployment_data')\n",
    "        w = query('wage_data')\n",
    "        raw = combine(u, w)\n",
    "        raw.to_csv(csv_name, index=False)\n",
    "    else:\n",
    "        raw = pd.read_csv(csv_name)\n",
    "    raw = raw.drop(['tract', 'timeperiod'], axis=1)\n",
    "    raw = raw.sort_values(by=['uu_id', 'week_number'])\n",
    "    raw = raw.drop_duplicates()\n",
    "    raw = raw.replace({np.nan: None})\n",
    "    raw = raw.reset_index(0, drop=True)\n",
    "    return raw"
   ]
  },
  {
   "cell_type": "code",
   "execution_count": 107,
   "id": "9db2e5c1",
   "metadata": {},
   "outputs": [
    {
     "data": {
      "text/plain": [
       "{'uu_id': '001cd9ae23064d7f0fd3cd327c873d8d',\n",
       " 'week_number': 31,\n",
       " 'countyfips': 18099,\n",
       " 'tract_name': 'Census Tract 201.02, Marshall County, Indiana',\n",
       " 'total_claims': 34,\n",
       " 'edu_8th_or_less': None,\n",
       " 'edu_grades_9_11': 0,\n",
       " 'edu_hs_grad_equiv': 30,\n",
       " 'edu_post_hs': None,\n",
       " 'edu_unknown': 0,\n",
       " 'top_category_employer1': '31-33',\n",
       " 'top_category_employer2': '23',\n",
       " 'top_category_employer3': '81',\n",
       " 'gender_female': None,\n",
       " 'gender_male': None,\n",
       " 'gender_na': 0,\n",
       " 'race_amerindian': 0,\n",
       " 'race_asian': 0,\n",
       " 'race_black': 0,\n",
       " 'race_noanswer': 0,\n",
       " 'race_hawaiiannative': 0,\n",
       " 'race_other': 0,\n",
       " 'race_white': 34,\n",
       " 'average_wage': 10484.333333333334}"
      ]
     },
     "execution_count": 107,
     "metadata": {},
     "output_type": "execute_result"
    }
   ],
   "source": [
    "load_raw().to_dict('records')[0]"
   ]
  },
  {
   "cell_type": "code",
   "execution_count": 108,
   "id": "481d15e8",
   "metadata": {},
   "outputs": [
    {
     "ename": "KeyError",
     "evalue": "'total_claims'",
     "output_type": "error",
     "traceback": [
      "\u001b[0;31m---------------------------------------------------------------------------\u001b[0m",
      "\u001b[0;31mKeyError\u001b[0m                                  Traceback (most recent call last)",
      "\u001b[0;32m/opt/anaconda3/lib/python3.9/site-packages/pandas/core/indexes/base.py\u001b[0m in \u001b[0;36mget_loc\u001b[0;34m(self, key, method, tolerance)\u001b[0m\n\u001b[1;32m   3801\u001b[0m             \u001b[0;32mtry\u001b[0m\u001b[0;34m:\u001b[0m\u001b[0;34m\u001b[0m\u001b[0;34m\u001b[0m\u001b[0m\n\u001b[0;32m-> 3802\u001b[0;31m                 \u001b[0;32mreturn\u001b[0m \u001b[0mself\u001b[0m\u001b[0;34m.\u001b[0m\u001b[0m_engine\u001b[0m\u001b[0;34m.\u001b[0m\u001b[0mget_loc\u001b[0m\u001b[0;34m(\u001b[0m\u001b[0mcasted_key\u001b[0m\u001b[0;34m)\u001b[0m\u001b[0;34m\u001b[0m\u001b[0;34m\u001b[0m\u001b[0m\n\u001b[0m\u001b[1;32m   3803\u001b[0m             \u001b[0;32mexcept\u001b[0m \u001b[0mKeyError\u001b[0m \u001b[0;32mas\u001b[0m \u001b[0merr\u001b[0m\u001b[0;34m:\u001b[0m\u001b[0;34m\u001b[0m\u001b[0;34m\u001b[0m\u001b[0m\n",
      "\u001b[0;32m/opt/anaconda3/lib/python3.9/site-packages/pandas/_libs/index.pyx\u001b[0m in \u001b[0;36mpandas._libs.index.IndexEngine.get_loc\u001b[0;34m()\u001b[0m\n",
      "\u001b[0;32m/opt/anaconda3/lib/python3.9/site-packages/pandas/_libs/index.pyx\u001b[0m in \u001b[0;36mpandas._libs.index.IndexEngine.get_loc\u001b[0;34m()\u001b[0m\n",
      "\u001b[0;32mpandas/_libs/hashtable_class_helper.pxi\u001b[0m in \u001b[0;36mpandas._libs.hashtable.PyObjectHashTable.get_item\u001b[0;34m()\u001b[0m\n",
      "\u001b[0;32mpandas/_libs/hashtable_class_helper.pxi\u001b[0m in \u001b[0;36mpandas._libs.hashtable.PyObjectHashTable.get_item\u001b[0;34m()\u001b[0m\n",
      "\u001b[0;31mKeyError\u001b[0m: 'total_claims'",
      "\nThe above exception was the direct cause of the following exception:\n",
      "\u001b[0;31mKeyError\u001b[0m                                  Traceback (most recent call last)",
      "\u001b[0;32m/var/folders/l2/cnhff0_n1470l4xf0p7v7l_40000gn/T/ipykernel_8074/1836138743.py\u001b[0m in \u001b[0;36m<module>\u001b[0;34m\u001b[0m\n\u001b[0;32m----> 1\u001b[0;31m \u001b[0mX\u001b[0m \u001b[0;34m=\u001b[0m \u001b[0mdata\u001b[0m\u001b[0;34m[\u001b[0m\u001b[0;34m'total_claims'\u001b[0m\u001b[0;34m]\u001b[0m\u001b[0;34m.\u001b[0m\u001b[0mvalues\u001b[0m\u001b[0;34m.\u001b[0m\u001b[0mreshape\u001b[0m\u001b[0;34m(\u001b[0m\u001b[0;34m-\u001b[0m\u001b[0;36m1\u001b[0m\u001b[0;34m,\u001b[0m\u001b[0;36m1\u001b[0m\u001b[0;34m)\u001b[0m\u001b[0;34m\u001b[0m\u001b[0;34m\u001b[0m\u001b[0m\n\u001b[0m\u001b[1;32m      2\u001b[0m \u001b[0my\u001b[0m \u001b[0;34m=\u001b[0m \u001b[0mdata\u001b[0m\u001b[0;34m[\u001b[0m\u001b[0;34m'week_number'\u001b[0m\u001b[0;34m]\u001b[0m\u001b[0;34m.\u001b[0m\u001b[0mvalues\u001b[0m\u001b[0;34m.\u001b[0m\u001b[0mreshape\u001b[0m\u001b[0;34m(\u001b[0m\u001b[0;34m-\u001b[0m\u001b[0;36m1\u001b[0m\u001b[0;34m,\u001b[0m\u001b[0;36m1\u001b[0m\u001b[0;34m)\u001b[0m\u001b[0;34m\u001b[0m\u001b[0;34m\u001b[0m\u001b[0m\n",
      "\u001b[0;32m/opt/anaconda3/lib/python3.9/site-packages/pandas/core/frame.py\u001b[0m in \u001b[0;36m__getitem__\u001b[0;34m(self, key)\u001b[0m\n\u001b[1;32m   3805\u001b[0m             \u001b[0;32mif\u001b[0m \u001b[0mself\u001b[0m\u001b[0;34m.\u001b[0m\u001b[0mcolumns\u001b[0m\u001b[0;34m.\u001b[0m\u001b[0mnlevels\u001b[0m \u001b[0;34m>\u001b[0m \u001b[0;36m1\u001b[0m\u001b[0;34m:\u001b[0m\u001b[0;34m\u001b[0m\u001b[0;34m\u001b[0m\u001b[0m\n\u001b[1;32m   3806\u001b[0m                 \u001b[0;32mreturn\u001b[0m \u001b[0mself\u001b[0m\u001b[0;34m.\u001b[0m\u001b[0m_getitem_multilevel\u001b[0m\u001b[0;34m(\u001b[0m\u001b[0mkey\u001b[0m\u001b[0;34m)\u001b[0m\u001b[0;34m\u001b[0m\u001b[0;34m\u001b[0m\u001b[0m\n\u001b[0;32m-> 3807\u001b[0;31m             \u001b[0mindexer\u001b[0m \u001b[0;34m=\u001b[0m \u001b[0mself\u001b[0m\u001b[0;34m.\u001b[0m\u001b[0mcolumns\u001b[0m\u001b[0;34m.\u001b[0m\u001b[0mget_loc\u001b[0m\u001b[0;34m(\u001b[0m\u001b[0mkey\u001b[0m\u001b[0;34m)\u001b[0m\u001b[0;34m\u001b[0m\u001b[0;34m\u001b[0m\u001b[0m\n\u001b[0m\u001b[1;32m   3808\u001b[0m             \u001b[0;32mif\u001b[0m \u001b[0mis_integer\u001b[0m\u001b[0;34m(\u001b[0m\u001b[0mindexer\u001b[0m\u001b[0;34m)\u001b[0m\u001b[0;34m:\u001b[0m\u001b[0;34m\u001b[0m\u001b[0;34m\u001b[0m\u001b[0m\n\u001b[1;32m   3809\u001b[0m                 \u001b[0mindexer\u001b[0m \u001b[0;34m=\u001b[0m \u001b[0;34m[\u001b[0m\u001b[0mindexer\u001b[0m\u001b[0;34m]\u001b[0m\u001b[0;34m\u001b[0m\u001b[0;34m\u001b[0m\u001b[0m\n",
      "\u001b[0;32m/opt/anaconda3/lib/python3.9/site-packages/pandas/core/indexes/base.py\u001b[0m in \u001b[0;36mget_loc\u001b[0;34m(self, key, method, tolerance)\u001b[0m\n\u001b[1;32m   3802\u001b[0m                 \u001b[0;32mreturn\u001b[0m \u001b[0mself\u001b[0m\u001b[0;34m.\u001b[0m\u001b[0m_engine\u001b[0m\u001b[0;34m.\u001b[0m\u001b[0mget_loc\u001b[0m\u001b[0;34m(\u001b[0m\u001b[0mcasted_key\u001b[0m\u001b[0;34m)\u001b[0m\u001b[0;34m\u001b[0m\u001b[0;34m\u001b[0m\u001b[0m\n\u001b[1;32m   3803\u001b[0m             \u001b[0;32mexcept\u001b[0m \u001b[0mKeyError\u001b[0m \u001b[0;32mas\u001b[0m \u001b[0merr\u001b[0m\u001b[0;34m:\u001b[0m\u001b[0;34m\u001b[0m\u001b[0;34m\u001b[0m\u001b[0m\n\u001b[0;32m-> 3804\u001b[0;31m                 \u001b[0;32mraise\u001b[0m \u001b[0mKeyError\u001b[0m\u001b[0;34m(\u001b[0m\u001b[0mkey\u001b[0m\u001b[0;34m)\u001b[0m \u001b[0;32mfrom\u001b[0m \u001b[0merr\u001b[0m\u001b[0;34m\u001b[0m\u001b[0;34m\u001b[0m\u001b[0m\n\u001b[0m\u001b[1;32m   3805\u001b[0m             \u001b[0;32mexcept\u001b[0m \u001b[0mTypeError\u001b[0m\u001b[0;34m:\u001b[0m\u001b[0;34m\u001b[0m\u001b[0;34m\u001b[0m\u001b[0m\n\u001b[1;32m   3806\u001b[0m                 \u001b[0;31m# If we have a listlike key, _check_indexing_error will raise\u001b[0m\u001b[0;34m\u001b[0m\u001b[0;34m\u001b[0m\u001b[0m\n",
      "\u001b[0;31mKeyError\u001b[0m: 'total_claims'"
     ]
    }
   ],
   "source": [
    "X = data['total_claims'].values.reshape(-1,1)\n",
    "y = data['week_number'].values.reshape(-1,1)"
   ]
  },
  {
   "cell_type": "code",
   "execution_count": 109,
   "id": "fbc1c39f",
   "metadata": {},
   "outputs": [
    {
     "ename": "KeyError",
     "evalue": "'total_claims'",
     "output_type": "error",
     "traceback": [
      "\u001b[0;31m---------------------------------------------------------------------------\u001b[0m",
      "\u001b[0;31mKeyError\u001b[0m                                  Traceback (most recent call last)",
      "\u001b[0;32m/opt/anaconda3/lib/python3.9/site-packages/pandas/core/indexes/base.py\u001b[0m in \u001b[0;36mget_loc\u001b[0;34m(self, key, method, tolerance)\u001b[0m\n\u001b[1;32m   3801\u001b[0m             \u001b[0;32mtry\u001b[0m\u001b[0;34m:\u001b[0m\u001b[0;34m\u001b[0m\u001b[0;34m\u001b[0m\u001b[0m\n\u001b[0;32m-> 3802\u001b[0;31m                 \u001b[0;32mreturn\u001b[0m \u001b[0mself\u001b[0m\u001b[0;34m.\u001b[0m\u001b[0m_engine\u001b[0m\u001b[0;34m.\u001b[0m\u001b[0mget_loc\u001b[0m\u001b[0;34m(\u001b[0m\u001b[0mcasted_key\u001b[0m\u001b[0;34m)\u001b[0m\u001b[0;34m\u001b[0m\u001b[0;34m\u001b[0m\u001b[0m\n\u001b[0m\u001b[1;32m   3803\u001b[0m             \u001b[0;32mexcept\u001b[0m \u001b[0mKeyError\u001b[0m \u001b[0;32mas\u001b[0m \u001b[0merr\u001b[0m\u001b[0;34m:\u001b[0m\u001b[0;34m\u001b[0m\u001b[0;34m\u001b[0m\u001b[0m\n",
      "\u001b[0;32m/opt/anaconda3/lib/python3.9/site-packages/pandas/_libs/index.pyx\u001b[0m in \u001b[0;36mpandas._libs.index.IndexEngine.get_loc\u001b[0;34m()\u001b[0m\n",
      "\u001b[0;32m/opt/anaconda3/lib/python3.9/site-packages/pandas/_libs/index.pyx\u001b[0m in \u001b[0;36mpandas._libs.index.IndexEngine.get_loc\u001b[0;34m()\u001b[0m\n",
      "\u001b[0;32mpandas/_libs/hashtable_class_helper.pxi\u001b[0m in \u001b[0;36mpandas._libs.hashtable.PyObjectHashTable.get_item\u001b[0;34m()\u001b[0m\n",
      "\u001b[0;32mpandas/_libs/hashtable_class_helper.pxi\u001b[0m in \u001b[0;36mpandas._libs.hashtable.PyObjectHashTable.get_item\u001b[0;34m()\u001b[0m\n",
      "\u001b[0;31mKeyError\u001b[0m: 'total_claims'",
      "\nThe above exception was the direct cause of the following exception:\n",
      "\u001b[0;31mKeyError\u001b[0m                                  Traceback (most recent call last)",
      "\u001b[0;32m/var/folders/l2/cnhff0_n1470l4xf0p7v7l_40000gn/T/ipykernel_8074/1836138743.py\u001b[0m in \u001b[0;36m<module>\u001b[0;34m\u001b[0m\n\u001b[0;32m----> 1\u001b[0;31m \u001b[0mX\u001b[0m \u001b[0;34m=\u001b[0m \u001b[0mdata\u001b[0m\u001b[0;34m[\u001b[0m\u001b[0;34m'total_claims'\u001b[0m\u001b[0;34m]\u001b[0m\u001b[0;34m.\u001b[0m\u001b[0mvalues\u001b[0m\u001b[0;34m.\u001b[0m\u001b[0mreshape\u001b[0m\u001b[0;34m(\u001b[0m\u001b[0;34m-\u001b[0m\u001b[0;36m1\u001b[0m\u001b[0;34m,\u001b[0m\u001b[0;36m1\u001b[0m\u001b[0;34m)\u001b[0m\u001b[0;34m\u001b[0m\u001b[0;34m\u001b[0m\u001b[0m\n\u001b[0m\u001b[1;32m      2\u001b[0m \u001b[0my\u001b[0m \u001b[0;34m=\u001b[0m \u001b[0mdata\u001b[0m\u001b[0;34m[\u001b[0m\u001b[0;34m'week_number'\u001b[0m\u001b[0;34m]\u001b[0m\u001b[0;34m.\u001b[0m\u001b[0mvalues\u001b[0m\u001b[0;34m.\u001b[0m\u001b[0mreshape\u001b[0m\u001b[0;34m(\u001b[0m\u001b[0;34m-\u001b[0m\u001b[0;36m1\u001b[0m\u001b[0;34m,\u001b[0m\u001b[0;36m1\u001b[0m\u001b[0;34m)\u001b[0m\u001b[0;34m\u001b[0m\u001b[0;34m\u001b[0m\u001b[0m\n",
      "\u001b[0;32m/opt/anaconda3/lib/python3.9/site-packages/pandas/core/frame.py\u001b[0m in \u001b[0;36m__getitem__\u001b[0;34m(self, key)\u001b[0m\n\u001b[1;32m   3805\u001b[0m             \u001b[0;32mif\u001b[0m \u001b[0mself\u001b[0m\u001b[0;34m.\u001b[0m\u001b[0mcolumns\u001b[0m\u001b[0;34m.\u001b[0m\u001b[0mnlevels\u001b[0m \u001b[0;34m>\u001b[0m \u001b[0;36m1\u001b[0m\u001b[0;34m:\u001b[0m\u001b[0;34m\u001b[0m\u001b[0;34m\u001b[0m\u001b[0m\n\u001b[1;32m   3806\u001b[0m                 \u001b[0;32mreturn\u001b[0m \u001b[0mself\u001b[0m\u001b[0;34m.\u001b[0m\u001b[0m_getitem_multilevel\u001b[0m\u001b[0;34m(\u001b[0m\u001b[0mkey\u001b[0m\u001b[0;34m)\u001b[0m\u001b[0;34m\u001b[0m\u001b[0;34m\u001b[0m\u001b[0m\n\u001b[0;32m-> 3807\u001b[0;31m             \u001b[0mindexer\u001b[0m \u001b[0;34m=\u001b[0m \u001b[0mself\u001b[0m\u001b[0;34m.\u001b[0m\u001b[0mcolumns\u001b[0m\u001b[0;34m.\u001b[0m\u001b[0mget_loc\u001b[0m\u001b[0;34m(\u001b[0m\u001b[0mkey\u001b[0m\u001b[0;34m)\u001b[0m\u001b[0;34m\u001b[0m\u001b[0;34m\u001b[0m\u001b[0m\n\u001b[0m\u001b[1;32m   3808\u001b[0m             \u001b[0;32mif\u001b[0m \u001b[0mis_integer\u001b[0m\u001b[0;34m(\u001b[0m\u001b[0mindexer\u001b[0m\u001b[0;34m)\u001b[0m\u001b[0;34m:\u001b[0m\u001b[0;34m\u001b[0m\u001b[0;34m\u001b[0m\u001b[0m\n\u001b[1;32m   3809\u001b[0m                 \u001b[0mindexer\u001b[0m \u001b[0;34m=\u001b[0m \u001b[0;34m[\u001b[0m\u001b[0mindexer\u001b[0m\u001b[0;34m]\u001b[0m\u001b[0;34m\u001b[0m\u001b[0;34m\u001b[0m\u001b[0m\n",
      "\u001b[0;32m/opt/anaconda3/lib/python3.9/site-packages/pandas/core/indexes/base.py\u001b[0m in \u001b[0;36mget_loc\u001b[0;34m(self, key, method, tolerance)\u001b[0m\n\u001b[1;32m   3802\u001b[0m                 \u001b[0;32mreturn\u001b[0m \u001b[0mself\u001b[0m\u001b[0;34m.\u001b[0m\u001b[0m_engine\u001b[0m\u001b[0;34m.\u001b[0m\u001b[0mget_loc\u001b[0m\u001b[0;34m(\u001b[0m\u001b[0mcasted_key\u001b[0m\u001b[0;34m)\u001b[0m\u001b[0;34m\u001b[0m\u001b[0;34m\u001b[0m\u001b[0m\n\u001b[1;32m   3803\u001b[0m             \u001b[0;32mexcept\u001b[0m \u001b[0mKeyError\u001b[0m \u001b[0;32mas\u001b[0m \u001b[0merr\u001b[0m\u001b[0;34m:\u001b[0m\u001b[0;34m\u001b[0m\u001b[0;34m\u001b[0m\u001b[0m\n\u001b[0;32m-> 3804\u001b[0;31m                 \u001b[0;32mraise\u001b[0m \u001b[0mKeyError\u001b[0m\u001b[0;34m(\u001b[0m\u001b[0mkey\u001b[0m\u001b[0;34m)\u001b[0m \u001b[0;32mfrom\u001b[0m \u001b[0merr\u001b[0m\u001b[0;34m\u001b[0m\u001b[0;34m\u001b[0m\u001b[0m\n\u001b[0m\u001b[1;32m   3805\u001b[0m             \u001b[0;32mexcept\u001b[0m \u001b[0mTypeError\u001b[0m\u001b[0;34m:\u001b[0m\u001b[0;34m\u001b[0m\u001b[0;34m\u001b[0m\u001b[0m\n\u001b[1;32m   3806\u001b[0m                 \u001b[0;31m# If we have a listlike key, _check_indexing_error will raise\u001b[0m\u001b[0;34m\u001b[0m\u001b[0;34m\u001b[0m\u001b[0m\n",
      "\u001b[0;31mKeyError\u001b[0m: 'total_claims'"
     ]
    }
   ],
   "source": [
    "X = data['total_claims'].values.reshape(-1,1)\n",
    "y = data['week_number'].values.reshape(-1,1)"
   ]
  },
  {
   "cell_type": "code",
   "execution_count": 110,
   "id": "98b159f0",
   "metadata": {},
   "outputs": [],
   "source": [
    "X_train, X_test, y_train, y_test = train_test_split(X, y, test_size=0.2, random_state=0)"
   ]
  },
  {
   "cell_type": "code",
   "execution_count": 111,
   "id": "4cb6d572",
   "metadata": {},
   "outputs": [
    {
     "ename": "KeyError",
     "evalue": "'total_claims'",
     "output_type": "error",
     "traceback": [
      "\u001b[0;31m---------------------------------------------------------------------------\u001b[0m",
      "\u001b[0;31mKeyError\u001b[0m                                  Traceback (most recent call last)",
      "\u001b[0;32m/opt/anaconda3/lib/python3.9/site-packages/pandas/core/indexes/base.py\u001b[0m in \u001b[0;36mget_loc\u001b[0;34m(self, key, method, tolerance)\u001b[0m\n\u001b[1;32m   3801\u001b[0m             \u001b[0;32mtry\u001b[0m\u001b[0;34m:\u001b[0m\u001b[0;34m\u001b[0m\u001b[0;34m\u001b[0m\u001b[0m\n\u001b[0;32m-> 3802\u001b[0;31m                 \u001b[0;32mreturn\u001b[0m \u001b[0mself\u001b[0m\u001b[0;34m.\u001b[0m\u001b[0m_engine\u001b[0m\u001b[0;34m.\u001b[0m\u001b[0mget_loc\u001b[0m\u001b[0;34m(\u001b[0m\u001b[0mcasted_key\u001b[0m\u001b[0;34m)\u001b[0m\u001b[0;34m\u001b[0m\u001b[0;34m\u001b[0m\u001b[0m\n\u001b[0m\u001b[1;32m   3803\u001b[0m             \u001b[0;32mexcept\u001b[0m \u001b[0mKeyError\u001b[0m \u001b[0;32mas\u001b[0m \u001b[0merr\u001b[0m\u001b[0;34m:\u001b[0m\u001b[0;34m\u001b[0m\u001b[0;34m\u001b[0m\u001b[0m\n",
      "\u001b[0;32m/opt/anaconda3/lib/python3.9/site-packages/pandas/_libs/index.pyx\u001b[0m in \u001b[0;36mpandas._libs.index.IndexEngine.get_loc\u001b[0;34m()\u001b[0m\n",
      "\u001b[0;32m/opt/anaconda3/lib/python3.9/site-packages/pandas/_libs/index.pyx\u001b[0m in \u001b[0;36mpandas._libs.index.IndexEngine.get_loc\u001b[0;34m()\u001b[0m\n",
      "\u001b[0;32mpandas/_libs/hashtable_class_helper.pxi\u001b[0m in \u001b[0;36mpandas._libs.hashtable.PyObjectHashTable.get_item\u001b[0;34m()\u001b[0m\n",
      "\u001b[0;32mpandas/_libs/hashtable_class_helper.pxi\u001b[0m in \u001b[0;36mpandas._libs.hashtable.PyObjectHashTable.get_item\u001b[0;34m()\u001b[0m\n",
      "\u001b[0;31mKeyError\u001b[0m: 'total_claims'",
      "\nThe above exception was the direct cause of the following exception:\n",
      "\u001b[0;31mKeyError\u001b[0m                                  Traceback (most recent call last)",
      "\u001b[0;32m/var/folders/l2/cnhff0_n1470l4xf0p7v7l_40000gn/T/ipykernel_8074/1836138743.py\u001b[0m in \u001b[0;36m<module>\u001b[0;34m\u001b[0m\n\u001b[0;32m----> 1\u001b[0;31m \u001b[0mX\u001b[0m \u001b[0;34m=\u001b[0m \u001b[0mdata\u001b[0m\u001b[0;34m[\u001b[0m\u001b[0;34m'total_claims'\u001b[0m\u001b[0;34m]\u001b[0m\u001b[0;34m.\u001b[0m\u001b[0mvalues\u001b[0m\u001b[0;34m.\u001b[0m\u001b[0mreshape\u001b[0m\u001b[0;34m(\u001b[0m\u001b[0;34m-\u001b[0m\u001b[0;36m1\u001b[0m\u001b[0;34m,\u001b[0m\u001b[0;36m1\u001b[0m\u001b[0;34m)\u001b[0m\u001b[0;34m\u001b[0m\u001b[0;34m\u001b[0m\u001b[0m\n\u001b[0m\u001b[1;32m      2\u001b[0m \u001b[0my\u001b[0m \u001b[0;34m=\u001b[0m \u001b[0mdata\u001b[0m\u001b[0;34m[\u001b[0m\u001b[0;34m'week_number'\u001b[0m\u001b[0;34m]\u001b[0m\u001b[0;34m.\u001b[0m\u001b[0mvalues\u001b[0m\u001b[0;34m.\u001b[0m\u001b[0mreshape\u001b[0m\u001b[0;34m(\u001b[0m\u001b[0;34m-\u001b[0m\u001b[0;36m1\u001b[0m\u001b[0;34m,\u001b[0m\u001b[0;36m1\u001b[0m\u001b[0;34m)\u001b[0m\u001b[0;34m\u001b[0m\u001b[0;34m\u001b[0m\u001b[0m\n",
      "\u001b[0;32m/opt/anaconda3/lib/python3.9/site-packages/pandas/core/frame.py\u001b[0m in \u001b[0;36m__getitem__\u001b[0;34m(self, key)\u001b[0m\n\u001b[1;32m   3805\u001b[0m             \u001b[0;32mif\u001b[0m \u001b[0mself\u001b[0m\u001b[0;34m.\u001b[0m\u001b[0mcolumns\u001b[0m\u001b[0;34m.\u001b[0m\u001b[0mnlevels\u001b[0m \u001b[0;34m>\u001b[0m \u001b[0;36m1\u001b[0m\u001b[0;34m:\u001b[0m\u001b[0;34m\u001b[0m\u001b[0;34m\u001b[0m\u001b[0m\n\u001b[1;32m   3806\u001b[0m                 \u001b[0;32mreturn\u001b[0m \u001b[0mself\u001b[0m\u001b[0;34m.\u001b[0m\u001b[0m_getitem_multilevel\u001b[0m\u001b[0;34m(\u001b[0m\u001b[0mkey\u001b[0m\u001b[0;34m)\u001b[0m\u001b[0;34m\u001b[0m\u001b[0;34m\u001b[0m\u001b[0m\n\u001b[0;32m-> 3807\u001b[0;31m             \u001b[0mindexer\u001b[0m \u001b[0;34m=\u001b[0m \u001b[0mself\u001b[0m\u001b[0;34m.\u001b[0m\u001b[0mcolumns\u001b[0m\u001b[0;34m.\u001b[0m\u001b[0mget_loc\u001b[0m\u001b[0;34m(\u001b[0m\u001b[0mkey\u001b[0m\u001b[0;34m)\u001b[0m\u001b[0;34m\u001b[0m\u001b[0;34m\u001b[0m\u001b[0m\n\u001b[0m\u001b[1;32m   3808\u001b[0m             \u001b[0;32mif\u001b[0m \u001b[0mis_integer\u001b[0m\u001b[0;34m(\u001b[0m\u001b[0mindexer\u001b[0m\u001b[0;34m)\u001b[0m\u001b[0;34m:\u001b[0m\u001b[0;34m\u001b[0m\u001b[0;34m\u001b[0m\u001b[0m\n\u001b[1;32m   3809\u001b[0m                 \u001b[0mindexer\u001b[0m \u001b[0;34m=\u001b[0m \u001b[0;34m[\u001b[0m\u001b[0mindexer\u001b[0m\u001b[0;34m]\u001b[0m\u001b[0;34m\u001b[0m\u001b[0;34m\u001b[0m\u001b[0m\n",
      "\u001b[0;32m/opt/anaconda3/lib/python3.9/site-packages/pandas/core/indexes/base.py\u001b[0m in \u001b[0;36mget_loc\u001b[0;34m(self, key, method, tolerance)\u001b[0m\n\u001b[1;32m   3802\u001b[0m                 \u001b[0;32mreturn\u001b[0m \u001b[0mself\u001b[0m\u001b[0;34m.\u001b[0m\u001b[0m_engine\u001b[0m\u001b[0;34m.\u001b[0m\u001b[0mget_loc\u001b[0m\u001b[0;34m(\u001b[0m\u001b[0mcasted_key\u001b[0m\u001b[0;34m)\u001b[0m\u001b[0;34m\u001b[0m\u001b[0;34m\u001b[0m\u001b[0m\n\u001b[1;32m   3803\u001b[0m             \u001b[0;32mexcept\u001b[0m \u001b[0mKeyError\u001b[0m \u001b[0;32mas\u001b[0m \u001b[0merr\u001b[0m\u001b[0;34m:\u001b[0m\u001b[0;34m\u001b[0m\u001b[0;34m\u001b[0m\u001b[0m\n\u001b[0;32m-> 3804\u001b[0;31m                 \u001b[0;32mraise\u001b[0m \u001b[0mKeyError\u001b[0m\u001b[0;34m(\u001b[0m\u001b[0mkey\u001b[0m\u001b[0;34m)\u001b[0m \u001b[0;32mfrom\u001b[0m \u001b[0merr\u001b[0m\u001b[0;34m\u001b[0m\u001b[0;34m\u001b[0m\u001b[0m\n\u001b[0m\u001b[1;32m   3805\u001b[0m             \u001b[0;32mexcept\u001b[0m \u001b[0mTypeError\u001b[0m\u001b[0;34m:\u001b[0m\u001b[0;34m\u001b[0m\u001b[0;34m\u001b[0m\u001b[0m\n\u001b[1;32m   3806\u001b[0m                 \u001b[0;31m# If we have a listlike key, _check_indexing_error will raise\u001b[0m\u001b[0;34m\u001b[0m\u001b[0;34m\u001b[0m\u001b[0m\n",
      "\u001b[0;31mKeyError\u001b[0m: 'total_claims'"
     ]
    }
   ],
   "source": [
    "X = data['total_claims'].values.reshape(-1,1)\n",
    "y = data['week_number'].values.reshape(-1,1)"
   ]
  },
  {
   "cell_type": "code",
   "execution_count": 112,
   "id": "ef4a1721",
   "metadata": {},
   "outputs": [],
   "source": [
    "query = \"\"\"\n",
    "SELECT * FROM `ironhacks-data.ironhacks_competition.unemployment_data`\n",
    "\"\"\""
   ]
  },
  {
   "cell_type": "code",
   "execution_count": 113,
   "id": "c3860375",
   "metadata": {},
   "outputs": [
    {
     "data": {
      "text/html": [
       "<div>\n",
       "<style scoped>\n",
       "    .dataframe tbody tr th:only-of-type {\n",
       "        vertical-align: middle;\n",
       "    }\n",
       "\n",
       "    .dataframe tbody tr th {\n",
       "        vertical-align: top;\n",
       "    }\n",
       "\n",
       "    .dataframe thead th {\n",
       "        text-align: right;\n",
       "    }\n",
       "</style>\n",
       "<table border=\"1\" class=\"dataframe\">\n",
       "  <thead>\n",
       "    <tr style=\"text-align: right;\">\n",
       "      <th></th>\n",
       "      <th>uu_id</th>\n",
       "      <th>timeperiod</th>\n",
       "      <th>week_number</th>\n",
       "      <th>countyfips</th>\n",
       "      <th>tract</th>\n",
       "      <th>tract_name</th>\n",
       "      <th>total_claims</th>\n",
       "      <th>edu_8th_or_less</th>\n",
       "      <th>edu_grades_9_11</th>\n",
       "      <th>edu_hs_grad_equiv</th>\n",
       "      <th>...</th>\n",
       "      <th>gender_female</th>\n",
       "      <th>gender_male</th>\n",
       "      <th>gender_na</th>\n",
       "      <th>race_amerindian</th>\n",
       "      <th>race_asian</th>\n",
       "      <th>race_black</th>\n",
       "      <th>race_noanswer</th>\n",
       "      <th>race_hawaiiannative</th>\n",
       "      <th>race_other</th>\n",
       "      <th>race_white</th>\n",
       "    </tr>\n",
       "  </thead>\n",
       "  <tbody>\n",
       "    <tr>\n",
       "      <th>0</th>\n",
       "      <td>f013068de98db1470bd986137a0c6d23</td>\n",
       "      <td>20220416</td>\n",
       "      <td>16</td>\n",
       "      <td>18003</td>\n",
       "      <td>900</td>\n",
       "      <td>Census Tract 9, Allen County, Indiana</td>\n",
       "      <td>22</td>\n",
       "      <td>0</td>\n",
       "      <td>&lt;NA&gt;</td>\n",
       "      <td>14</td>\n",
       "      <td>...</td>\n",
       "      <td>&lt;NA&gt;</td>\n",
       "      <td>&lt;NA&gt;</td>\n",
       "      <td>0</td>\n",
       "      <td>0</td>\n",
       "      <td>0</td>\n",
       "      <td>11</td>\n",
       "      <td>0</td>\n",
       "      <td>0</td>\n",
       "      <td>&lt;NA&gt;</td>\n",
       "      <td>&lt;NA&gt;</td>\n",
       "    </tr>\n",
       "    <tr>\n",
       "      <th>1</th>\n",
       "      <td>21957d5517323845818d87623589e1ba</td>\n",
       "      <td>20220319</td>\n",
       "      <td>12</td>\n",
       "      <td>18089</td>\n",
       "      <td>10400</td>\n",
       "      <td>Census Tract 104, Lake County, Indiana</td>\n",
       "      <td>111</td>\n",
       "      <td>0</td>\n",
       "      <td>&lt;NA&gt;</td>\n",
       "      <td>108</td>\n",
       "      <td>...</td>\n",
       "      <td>76</td>\n",
       "      <td>35</td>\n",
       "      <td>0</td>\n",
       "      <td>0</td>\n",
       "      <td>0</td>\n",
       "      <td>&lt;NA&gt;</td>\n",
       "      <td>&lt;NA&gt;</td>\n",
       "      <td>0</td>\n",
       "      <td>0</td>\n",
       "      <td>0</td>\n",
       "    </tr>\n",
       "    <tr>\n",
       "      <th>2</th>\n",
       "      <td>6a5609f385912113b6f1014b958ed748</td>\n",
       "      <td>20220326</td>\n",
       "      <td>13</td>\n",
       "      <td>18089</td>\n",
       "      <td>11500</td>\n",
       "      <td>Census Tract 115, Lake County, Indiana</td>\n",
       "      <td>39</td>\n",
       "      <td>0</td>\n",
       "      <td>&lt;NA&gt;</td>\n",
       "      <td>&lt;NA&gt;</td>\n",
       "      <td>...</td>\n",
       "      <td>&lt;NA&gt;</td>\n",
       "      <td>&lt;NA&gt;</td>\n",
       "      <td>0</td>\n",
       "      <td>0</td>\n",
       "      <td>0</td>\n",
       "      <td>39</td>\n",
       "      <td>0</td>\n",
       "      <td>0</td>\n",
       "      <td>0</td>\n",
       "      <td>0</td>\n",
       "    </tr>\n",
       "    <tr>\n",
       "      <th>3</th>\n",
       "      <td>46b2882ec4c373527ec33f7bd4f1388d</td>\n",
       "      <td>20220716</td>\n",
       "      <td>29</td>\n",
       "      <td>18089</td>\n",
       "      <td>20700</td>\n",
       "      <td>Census Tract 207, Lake County, Indiana</td>\n",
       "      <td>14</td>\n",
       "      <td>0</td>\n",
       "      <td>&lt;NA&gt;</td>\n",
       "      <td>&lt;NA&gt;</td>\n",
       "      <td>...</td>\n",
       "      <td>&lt;NA&gt;</td>\n",
       "      <td>&lt;NA&gt;</td>\n",
       "      <td>0</td>\n",
       "      <td>0</td>\n",
       "      <td>&lt;NA&gt;</td>\n",
       "      <td>10</td>\n",
       "      <td>0</td>\n",
       "      <td>0</td>\n",
       "      <td>&lt;NA&gt;</td>\n",
       "      <td>&lt;NA&gt;</td>\n",
       "    </tr>\n",
       "    <tr>\n",
       "      <th>4</th>\n",
       "      <td>37495d17e82f7df326bfc2c4c090f7b7</td>\n",
       "      <td>20220409</td>\n",
       "      <td>15</td>\n",
       "      <td>18089</td>\n",
       "      <td>21900</td>\n",
       "      <td>Census Tract 219, Lake County, Indiana</td>\n",
       "      <td>155</td>\n",
       "      <td>0</td>\n",
       "      <td>&lt;NA&gt;</td>\n",
       "      <td>69</td>\n",
       "      <td>...</td>\n",
       "      <td>90</td>\n",
       "      <td>65</td>\n",
       "      <td>0</td>\n",
       "      <td>0</td>\n",
       "      <td>0</td>\n",
       "      <td>135</td>\n",
       "      <td>&lt;NA&gt;</td>\n",
       "      <td>&lt;NA&gt;</td>\n",
       "      <td>&lt;NA&gt;</td>\n",
       "      <td>&lt;NA&gt;</td>\n",
       "    </tr>\n",
       "  </tbody>\n",
       "</table>\n",
       "<p>5 rows × 25 columns</p>\n",
       "</div>"
      ],
      "text/plain": [
       "                              uu_id  timeperiod  week_number  countyfips  \\\n",
       "0  f013068de98db1470bd986137a0c6d23    20220416           16       18003   \n",
       "1  21957d5517323845818d87623589e1ba    20220319           12       18089   \n",
       "2  6a5609f385912113b6f1014b958ed748    20220326           13       18089   \n",
       "3  46b2882ec4c373527ec33f7bd4f1388d    20220716           29       18089   \n",
       "4  37495d17e82f7df326bfc2c4c090f7b7    20220409           15       18089   \n",
       "\n",
       "   tract                              tract_name  total_claims  \\\n",
       "0    900   Census Tract 9, Allen County, Indiana            22   \n",
       "1  10400  Census Tract 104, Lake County, Indiana           111   \n",
       "2  11500  Census Tract 115, Lake County, Indiana            39   \n",
       "3  20700  Census Tract 207, Lake County, Indiana            14   \n",
       "4  21900  Census Tract 219, Lake County, Indiana           155   \n",
       "\n",
       "   edu_8th_or_less  edu_grades_9_11  edu_hs_grad_equiv  ...  gender_female  \\\n",
       "0                0             <NA>                 14  ...           <NA>   \n",
       "1                0             <NA>                108  ...             76   \n",
       "2                0             <NA>               <NA>  ...           <NA>   \n",
       "3                0             <NA>               <NA>  ...           <NA>   \n",
       "4                0             <NA>                 69  ...             90   \n",
       "\n",
       "   gender_male gender_na race_amerindian race_asian  race_black  \\\n",
       "0         <NA>         0               0          0          11   \n",
       "1           35         0               0          0        <NA>   \n",
       "2         <NA>         0               0          0          39   \n",
       "3         <NA>         0               0       <NA>          10   \n",
       "4           65         0               0          0         135   \n",
       "\n",
       "   race_noanswer  race_hawaiiannative  race_other  race_white  \n",
       "0              0                    0        <NA>        <NA>  \n",
       "1           <NA>                    0           0           0  \n",
       "2              0                    0           0           0  \n",
       "3              0                    0        <NA>        <NA>  \n",
       "4           <NA>                 <NA>        <NA>        <NA>  \n",
       "\n",
       "[5 rows x 25 columns]"
      ]
     },
     "execution_count": 113,
     "metadata": {},
     "output_type": "execute_result"
    }
   ],
   "source": [
    "query_job = bigquery_client.query(query)\n",
    "data = query_job.to_dataframe()\n",
    "data.head()"
   ]
  },
  {
   "cell_type": "code",
   "execution_count": 114,
   "id": "95f9ca38",
   "metadata": {},
   "outputs": [],
   "source": [
    "X = data['total_claims'].values.reshape(-1,1)\n",
    "y = data['week_number'].values.reshape(-1,1)"
   ]
  },
  {
   "cell_type": "code",
   "execution_count": 115,
   "id": "bfd7cbf3",
   "metadata": {},
   "outputs": [],
   "source": [
    "X_train, X_test, y_train, y_test = train_test_split(X, y, test_size=0.2, random_state=0)"
   ]
  },
  {
   "cell_type": "code",
   "execution_count": 116,
   "id": "2fbf169a",
   "metadata": {
    "lines_to_next_cell": 1
   },
   "outputs": [],
   "source": [
    "X_train, X_test, y_train, y_test = train_test_split(X, y, test_size=0.2, random_state=0)"
   ]
  },
  {
   "cell_type": "markdown",
   "id": "4cc5c85e",
   "metadata": {},
   "source": [
    "Source:Acute Astronaut"
   ]
  },
  {
   "cell_type": "code",
   "execution_count": 117,
   "id": "148f8c46",
   "metadata": {
    "lines_to_next_cell": 1
   },
   "outputs": [],
   "source": [
    "def query(table):\n",
    "    bigquery_client = bigquery.Client(project='ironhacks-data')\n",
    "    query_str = f'''\n",
    "SELECT *\n",
    "FROM `ironhacks-data.ironhacks_competition.{table}`\n",
    "'''\n",
    "    query_job = bigquery_client.query(query_str)\n",
    "    data = query_job.to_dataframe()\n",
    "    return data"
   ]
  },
  {
   "cell_type": "code",
   "execution_count": 118,
   "id": "61faed9e",
   "metadata": {
    "lines_to_next_cell": 1
   },
   "outputs": [],
   "source": [
    "def combine(u, w):\n",
    "    '''\n",
    "    Joins the unemployment data and the wage data on `uu_id`\n",
    "    '''\n",
    "    ww = w.loc[:, ['uu_id', 'average_wage']]\n",
    "    d = u.join(ww.set_index('uu_id'), on='uu_id')\n",
    "    return d"
   ]
  },
  {
   "cell_type": "code",
   "execution_count": 119,
   "id": "377accbc",
   "metadata": {
    "lines_to_next_cell": 1
   },
   "outputs": [],
   "source": [
    "def load_raw(csv_name='0_raw.csv'):\n",
    "    '''\n",
    "  Loads the unemployment and wage data and does some basic cleaning\n",
    "  '''\n",
    "    if not os.path.isfile(csv_name):\n",
    "        u = query('unemployment_data')\n",
    "        w = query('wage_data')\n",
    "        raw = combine(u, w)\n",
    "        raw.to_csv(csv_name, index=False)\n",
    "    else:\n",
    "        raw = pd.read_csv(csv_name)\n",
    "    raw = raw.drop(['tract', 'timeperiod'], axis=1)\n",
    "    raw = raw.sort_values(by=['uu_id', 'week_number'])\n",
    "    raw = raw.drop_duplicates()\n",
    "    raw = raw.replace({np.nan: None})\n",
    "    raw = raw.reset_index(0, drop=True)\n",
    "    return raw"
   ]
  },
  {
   "cell_type": "code",
   "execution_count": 120,
   "id": "80c72f6b",
   "metadata": {},
   "outputs": [
    {
     "data": {
      "text/plain": [
       "{'uu_id': '001cd9ae23064d7f0fd3cd327c873d8d',\n",
       " 'week_number': 31,\n",
       " 'countyfips': 18099,\n",
       " 'tract_name': 'Census Tract 201.02, Marshall County, Indiana',\n",
       " 'total_claims': 34,\n",
       " 'edu_8th_or_less': None,\n",
       " 'edu_grades_9_11': 0.0,\n",
       " 'edu_hs_grad_equiv': 30.0,\n",
       " 'edu_post_hs': None,\n",
       " 'edu_unknown': 0.0,\n",
       " 'top_category_employer1': '31-33',\n",
       " 'top_category_employer2': '23',\n",
       " 'top_category_employer3': '81',\n",
       " 'gender_female': None,\n",
       " 'gender_male': None,\n",
       " 'gender_na': 0.0,\n",
       " 'race_amerindian': 0.0,\n",
       " 'race_asian': 0.0,\n",
       " 'race_black': 0.0,\n",
       " 'race_noanswer': 0.0,\n",
       " 'race_hawaiiannative': 0.0,\n",
       " 'race_other': 0.0,\n",
       " 'race_white': 34.0,\n",
       " 'average_wage': 10484.333333333334}"
      ]
     },
     "execution_count": 120,
     "metadata": {},
     "output_type": "execute_result"
    }
   ],
   "source": [
    "load_raw().to_dict('records')[0]"
   ]
  },
  {
   "cell_type": "markdown",
   "id": "1b6d2748",
   "metadata": {},
   "source": [
    "COMPARE ACTUAL OUTPUT VALUES FOR X_TEST WITH PREDICTED VALUES - TEST"
   ]
  },
  {
   "cell_type": "code",
   "execution_count": 121,
   "id": "68670e30",
   "metadata": {},
   "outputs": [],
   "source": [
    "df = pd.DataFrame(np.random.rand(10, 3), columns =['a', 'b', 'c'])"
   ]
  },
  {
   "cell_type": "code",
   "execution_count": 122,
   "id": "130a9635",
   "metadata": {},
   "outputs": [
    {
     "name": "stdout",
     "output_type": "stream",
     "text": [
      "          a         b         c\n",
      "0  0.527364  0.333068  0.218716\n",
      "1  0.621695  0.871897  0.688452\n",
      "2  0.023151  0.672508  0.318668\n",
      "3  0.885768  0.694741  0.624783\n",
      "4  0.320023  0.377819  0.307218\n",
      "5  0.194564  0.272761  0.955166\n",
      "6  0.742976  0.751996  0.612510\n",
      "7  0.041938  0.005390  0.800454\n",
      "8  0.063251  0.769416  0.639270\n",
      "9  0.008678  0.121487  0.241367\n"
     ]
    }
   ],
   "source": [
    "print(df)"
   ]
  },
  {
   "cell_type": "markdown",
   "id": "9c946cdc",
   "metadata": {},
   "source": [
    "DATA VISUALIZATION - COMPARISON RESULTS AS A BAR GRAPH"
   ]
  },
  {
   "cell_type": "code",
   "execution_count": 123,
   "id": "c59170a7",
   "metadata": {},
   "outputs": [
    {
     "data": {
      "image/png": "[encoded data removed]",
      "text/plain": [
       "<Figure size 1152x720 with 1 Axes>"
      ]
     },
     "metadata": {
      "needs_background": "light"
     },
     "output_type": "display_data"
    }
   ],
   "source": [
    "df1 = df.head(25)\n",
    "df1.plot(kind='bar',figsize=(16,10))\n",
    "plt.grid(which='major', linestyle='-', linewidth='0.5', color='green')\n",
    "plt.grid(which='minor', linestyle=':', linewidth='0.5', color='black')\n",
    "plt.show()"
   ]
  },
  {
   "cell_type": "markdown",
   "id": "18b734ea",
   "metadata": {},
   "source": [
    "CALCULATING MAPE\n",
    "CREDIT: ASK PYTHON"
   ]
  },
  {
   "cell_type": "code",
   "execution_count": 124,
   "id": "a2237eca",
   "metadata": {},
   "outputs": [
    {
     "name": "stdout",
     "output_type": "stream",
     "text": [
      "13.999999999999984\n"
     ]
    }
   ],
   "source": [
    "from sklearn.metrics import mean_absolute_error\n",
    "Y_actual = [1,2,3,4,5]\n",
    "Y_Predicted = [1,2.5,3,4.1,4.9]\n",
    "mape = mean_absolute_error(Y_actual, Y_Predicted)*100\n",
    "print(mape)"
   ]
  },
  {
   "cell_type": "code",
   "execution_count": 125,
   "id": "fbdf3a7f",
   "metadata": {},
   "outputs": [],
   "source": [
    "query = \"\"\"\n",
    "SELECT *\n",
    "FROM `ironhacks-data.ironhacks_competition.unemployment_data`\n",
    "\"\"\" "
   ]
  },
  {
   "cell_type": "code",
   "execution_count": 126,
   "id": "30f95a3c",
   "metadata": {},
   "outputs": [
    {
     "data": {
      "text/html": [
       "<div>\n",
       "<style scoped>\n",
       "    .dataframe tbody tr th:only-of-type {\n",
       "        vertical-align: middle;\n",
       "    }\n",
       "\n",
       "    .dataframe tbody tr th {\n",
       "        vertical-align: top;\n",
       "    }\n",
       "\n",
       "    .dataframe thead th {\n",
       "        text-align: right;\n",
       "    }\n",
       "</style>\n",
       "<table border=\"1\" class=\"dataframe\">\n",
       "  <thead>\n",
       "    <tr style=\"text-align: right;\">\n",
       "      <th></th>\n",
       "      <th>uu_id</th>\n",
       "      <th>timeperiod</th>\n",
       "      <th>week_number</th>\n",
       "      <th>countyfips</th>\n",
       "      <th>tract</th>\n",
       "      <th>tract_name</th>\n",
       "      <th>total_claims</th>\n",
       "      <th>edu_8th_or_less</th>\n",
       "      <th>edu_grades_9_11</th>\n",
       "      <th>edu_hs_grad_equiv</th>\n",
       "      <th>...</th>\n",
       "      <th>gender_female</th>\n",
       "      <th>gender_male</th>\n",
       "      <th>gender_na</th>\n",
       "      <th>race_amerindian</th>\n",
       "      <th>race_asian</th>\n",
       "      <th>race_black</th>\n",
       "      <th>race_noanswer</th>\n",
       "      <th>race_hawaiiannative</th>\n",
       "      <th>race_other</th>\n",
       "      <th>race_white</th>\n",
       "    </tr>\n",
       "  </thead>\n",
       "  <tbody>\n",
       "    <tr>\n",
       "      <th>0</th>\n",
       "      <td>f013068de98db1470bd986137a0c6d23</td>\n",
       "      <td>20220416</td>\n",
       "      <td>16</td>\n",
       "      <td>18003</td>\n",
       "      <td>900</td>\n",
       "      <td>Census Tract 9, Allen County, Indiana</td>\n",
       "      <td>22</td>\n",
       "      <td>0</td>\n",
       "      <td>&lt;NA&gt;</td>\n",
       "      <td>14</td>\n",
       "      <td>...</td>\n",
       "      <td>&lt;NA&gt;</td>\n",
       "      <td>&lt;NA&gt;</td>\n",
       "      <td>0</td>\n",
       "      <td>0</td>\n",
       "      <td>0</td>\n",
       "      <td>11</td>\n",
       "      <td>0</td>\n",
       "      <td>0</td>\n",
       "      <td>&lt;NA&gt;</td>\n",
       "      <td>&lt;NA&gt;</td>\n",
       "    </tr>\n",
       "    <tr>\n",
       "      <th>1</th>\n",
       "      <td>21957d5517323845818d87623589e1ba</td>\n",
       "      <td>20220319</td>\n",
       "      <td>12</td>\n",
       "      <td>18089</td>\n",
       "      <td>10400</td>\n",
       "      <td>Census Tract 104, Lake County, Indiana</td>\n",
       "      <td>111</td>\n",
       "      <td>0</td>\n",
       "      <td>&lt;NA&gt;</td>\n",
       "      <td>108</td>\n",
       "      <td>...</td>\n",
       "      <td>76</td>\n",
       "      <td>35</td>\n",
       "      <td>0</td>\n",
       "      <td>0</td>\n",
       "      <td>0</td>\n",
       "      <td>&lt;NA&gt;</td>\n",
       "      <td>&lt;NA&gt;</td>\n",
       "      <td>0</td>\n",
       "      <td>0</td>\n",
       "      <td>0</td>\n",
       "    </tr>\n",
       "    <tr>\n",
       "      <th>2</th>\n",
       "      <td>6a5609f385912113b6f1014b958ed748</td>\n",
       "      <td>20220326</td>\n",
       "      <td>13</td>\n",
       "      <td>18089</td>\n",
       "      <td>11500</td>\n",
       "      <td>Census Tract 115, Lake County, Indiana</td>\n",
       "      <td>39</td>\n",
       "      <td>0</td>\n",
       "      <td>&lt;NA&gt;</td>\n",
       "      <td>&lt;NA&gt;</td>\n",
       "      <td>...</td>\n",
       "      <td>&lt;NA&gt;</td>\n",
       "      <td>&lt;NA&gt;</td>\n",
       "      <td>0</td>\n",
       "      <td>0</td>\n",
       "      <td>0</td>\n",
       "      <td>39</td>\n",
       "      <td>0</td>\n",
       "      <td>0</td>\n",
       "      <td>0</td>\n",
       "      <td>0</td>\n",
       "    </tr>\n",
       "    <tr>\n",
       "      <th>3</th>\n",
       "      <td>46b2882ec4c373527ec33f7bd4f1388d</td>\n",
       "      <td>20220716</td>\n",
       "      <td>29</td>\n",
       "      <td>18089</td>\n",
       "      <td>20700</td>\n",
       "      <td>Census Tract 207, Lake County, Indiana</td>\n",
       "      <td>14</td>\n",
       "      <td>0</td>\n",
       "      <td>&lt;NA&gt;</td>\n",
       "      <td>&lt;NA&gt;</td>\n",
       "      <td>...</td>\n",
       "      <td>&lt;NA&gt;</td>\n",
       "      <td>&lt;NA&gt;</td>\n",
       "      <td>0</td>\n",
       "      <td>0</td>\n",
       "      <td>&lt;NA&gt;</td>\n",
       "      <td>10</td>\n",
       "      <td>0</td>\n",
       "      <td>0</td>\n",
       "      <td>&lt;NA&gt;</td>\n",
       "      <td>&lt;NA&gt;</td>\n",
       "    </tr>\n",
       "    <tr>\n",
       "      <th>4</th>\n",
       "      <td>37495d17e82f7df326bfc2c4c090f7b7</td>\n",
       "      <td>20220409</td>\n",
       "      <td>15</td>\n",
       "      <td>18089</td>\n",
       "      <td>21900</td>\n",
       "      <td>Census Tract 219, Lake County, Indiana</td>\n",
       "      <td>155</td>\n",
       "      <td>0</td>\n",
       "      <td>&lt;NA&gt;</td>\n",
       "      <td>69</td>\n",
       "      <td>...</td>\n",
       "      <td>90</td>\n",
       "      <td>65</td>\n",
       "      <td>0</td>\n",
       "      <td>0</td>\n",
       "      <td>0</td>\n",
       "      <td>135</td>\n",
       "      <td>&lt;NA&gt;</td>\n",
       "      <td>&lt;NA&gt;</td>\n",
       "      <td>&lt;NA&gt;</td>\n",
       "      <td>&lt;NA&gt;</td>\n",
       "    </tr>\n",
       "    <tr>\n",
       "      <th>5</th>\n",
       "      <td>25a57fe39e03c632125308737a7d3769</td>\n",
       "      <td>20220820</td>\n",
       "      <td>34</td>\n",
       "      <td>18067</td>\n",
       "      <td>300</td>\n",
       "      <td>Census Tract 3, Howard County, Indiana</td>\n",
       "      <td>24</td>\n",
       "      <td>0</td>\n",
       "      <td>&lt;NA&gt;</td>\n",
       "      <td>15</td>\n",
       "      <td>...</td>\n",
       "      <td>14</td>\n",
       "      <td>10</td>\n",
       "      <td>0</td>\n",
       "      <td>0</td>\n",
       "      <td>0</td>\n",
       "      <td>&lt;NA&gt;</td>\n",
       "      <td>0</td>\n",
       "      <td>0</td>\n",
       "      <td>0</td>\n",
       "      <td>&lt;NA&gt;</td>\n",
       "    </tr>\n",
       "    <tr>\n",
       "      <th>6</th>\n",
       "      <td>25a57fe39e03c632125308737a7d3769</td>\n",
       "      <td>20220820</td>\n",
       "      <td>34</td>\n",
       "      <td>18067</td>\n",
       "      <td>300</td>\n",
       "      <td>Census Tract 3, Howard County, Indiana</td>\n",
       "      <td>24</td>\n",
       "      <td>0</td>\n",
       "      <td>&lt;NA&gt;</td>\n",
       "      <td>15</td>\n",
       "      <td>...</td>\n",
       "      <td>14</td>\n",
       "      <td>10</td>\n",
       "      <td>0</td>\n",
       "      <td>0</td>\n",
       "      <td>0</td>\n",
       "      <td>&lt;NA&gt;</td>\n",
       "      <td>0</td>\n",
       "      <td>0</td>\n",
       "      <td>0</td>\n",
       "      <td>&lt;NA&gt;</td>\n",
       "    </tr>\n",
       "    <tr>\n",
       "      <th>7</th>\n",
       "      <td>45c8cf419dd4c4b442dbf3603ba94379</td>\n",
       "      <td>20220129</td>\n",
       "      <td>5</td>\n",
       "      <td>18003</td>\n",
       "      <td>3200</td>\n",
       "      <td>Census Tract 32, Allen County, Indiana</td>\n",
       "      <td>19</td>\n",
       "      <td>&lt;NA&gt;</td>\n",
       "      <td>&lt;NA&gt;</td>\n",
       "      <td>&lt;NA&gt;</td>\n",
       "      <td>...</td>\n",
       "      <td>11</td>\n",
       "      <td>&lt;NA&gt;</td>\n",
       "      <td>&lt;NA&gt;</td>\n",
       "      <td>0</td>\n",
       "      <td>&lt;NA&gt;</td>\n",
       "      <td>&lt;NA&gt;</td>\n",
       "      <td>&lt;NA&gt;</td>\n",
       "      <td>0</td>\n",
       "      <td>&lt;NA&gt;</td>\n",
       "      <td>12</td>\n",
       "    </tr>\n",
       "    <tr>\n",
       "      <th>8</th>\n",
       "      <td>8f782a6153268c6031e31784e2d4eae2</td>\n",
       "      <td>20220716</td>\n",
       "      <td>29</td>\n",
       "      <td>18089</td>\n",
       "      <td>42000</td>\n",
       "      <td>Census Tract 420, Lake County, Indiana</td>\n",
       "      <td>20</td>\n",
       "      <td>0</td>\n",
       "      <td>&lt;NA&gt;</td>\n",
       "      <td>10</td>\n",
       "      <td>...</td>\n",
       "      <td>&lt;NA&gt;</td>\n",
       "      <td>&lt;NA&gt;</td>\n",
       "      <td>0</td>\n",
       "      <td>&lt;NA&gt;</td>\n",
       "      <td>0</td>\n",
       "      <td>&lt;NA&gt;</td>\n",
       "      <td>&lt;NA&gt;</td>\n",
       "      <td>0</td>\n",
       "      <td>&lt;NA&gt;</td>\n",
       "      <td>14</td>\n",
       "    </tr>\n",
       "    <tr>\n",
       "      <th>9</th>\n",
       "      <td>5c04f20bd2f8552aa7ac210dc01292fb</td>\n",
       "      <td>20220611</td>\n",
       "      <td>24</td>\n",
       "      <td>18089</td>\n",
       "      <td>42200</td>\n",
       "      <td>Census Tract 422, Lake County, Indiana</td>\n",
       "      <td>12</td>\n",
       "      <td>&lt;NA&gt;</td>\n",
       "      <td>0</td>\n",
       "      <td>&lt;NA&gt;</td>\n",
       "      <td>...</td>\n",
       "      <td>&lt;NA&gt;</td>\n",
       "      <td>&lt;NA&gt;</td>\n",
       "      <td>0</td>\n",
       "      <td>0</td>\n",
       "      <td>0</td>\n",
       "      <td>&lt;NA&gt;</td>\n",
       "      <td>0</td>\n",
       "      <td>0</td>\n",
       "      <td>&lt;NA&gt;</td>\n",
       "      <td>&lt;NA&gt;</td>\n",
       "    </tr>\n",
       "    <tr>\n",
       "      <th>10</th>\n",
       "      <td>050a624d618a68e43fe31189909c644f</td>\n",
       "      <td>20220409</td>\n",
       "      <td>15</td>\n",
       "      <td>18067</td>\n",
       "      <td>700</td>\n",
       "      <td>Census Tract 7, Howard County, Indiana</td>\n",
       "      <td>20</td>\n",
       "      <td>&lt;NA&gt;</td>\n",
       "      <td>0</td>\n",
       "      <td>10</td>\n",
       "      <td>...</td>\n",
       "      <td>&lt;NA&gt;</td>\n",
       "      <td>&lt;NA&gt;</td>\n",
       "      <td>0</td>\n",
       "      <td>0</td>\n",
       "      <td>0</td>\n",
       "      <td>&lt;NA&gt;</td>\n",
       "      <td>0</td>\n",
       "      <td>0</td>\n",
       "      <td>&lt;NA&gt;</td>\n",
       "      <td>14</td>\n",
       "    </tr>\n",
       "    <tr>\n",
       "      <th>11</th>\n",
       "      <td>bc7ebe1813e2b66f084289e1b1172f21</td>\n",
       "      <td>20220507</td>\n",
       "      <td>19</td>\n",
       "      <td>18067</td>\n",
       "      <td>900</td>\n",
       "      <td>Census Tract 9, Howard County, Indiana</td>\n",
       "      <td>20</td>\n",
       "      <td>0</td>\n",
       "      <td>&lt;NA&gt;</td>\n",
       "      <td>&lt;NA&gt;</td>\n",
       "      <td>...</td>\n",
       "      <td>&lt;NA&gt;</td>\n",
       "      <td>&lt;NA&gt;</td>\n",
       "      <td>0</td>\n",
       "      <td>0</td>\n",
       "      <td>0</td>\n",
       "      <td>&lt;NA&gt;</td>\n",
       "      <td>0</td>\n",
       "      <td>0</td>\n",
       "      <td>0</td>\n",
       "      <td>&lt;NA&gt;</td>\n",
       "    </tr>\n",
       "    <tr>\n",
       "      <th>12</th>\n",
       "      <td>6239669cbfe444abd0a46536a670d150</td>\n",
       "      <td>20220709</td>\n",
       "      <td>28</td>\n",
       "      <td>18039</td>\n",
       "      <td>400</td>\n",
       "      <td>Census Tract 4, Elkhart County, Indiana</td>\n",
       "      <td>20</td>\n",
       "      <td>0</td>\n",
       "      <td>&lt;NA&gt;</td>\n",
       "      <td>13</td>\n",
       "      <td>...</td>\n",
       "      <td>&lt;NA&gt;</td>\n",
       "      <td>&lt;NA&gt;</td>\n",
       "      <td>0</td>\n",
       "      <td>0</td>\n",
       "      <td>0</td>\n",
       "      <td>0</td>\n",
       "      <td>&lt;NA&gt;</td>\n",
       "      <td>&lt;NA&gt;</td>\n",
       "      <td>&lt;NA&gt;</td>\n",
       "      <td>12</td>\n",
       "    </tr>\n",
       "    <tr>\n",
       "      <th>13</th>\n",
       "      <td>6657c9871fa2f67cd168e6f94354060e</td>\n",
       "      <td>20220910</td>\n",
       "      <td>37</td>\n",
       "      <td>18039</td>\n",
       "      <td>900</td>\n",
       "      <td>Census Tract 9, Elkhart County, Indiana</td>\n",
       "      <td>50</td>\n",
       "      <td>18</td>\n",
       "      <td>&lt;NA&gt;</td>\n",
       "      <td>21</td>\n",
       "      <td>...</td>\n",
       "      <td>11</td>\n",
       "      <td>39</td>\n",
       "      <td>0</td>\n",
       "      <td>0</td>\n",
       "      <td>0</td>\n",
       "      <td>0</td>\n",
       "      <td>0</td>\n",
       "      <td>0</td>\n",
       "      <td>&lt;NA&gt;</td>\n",
       "      <td>&lt;NA&gt;</td>\n",
       "    </tr>\n",
       "    <tr>\n",
       "      <th>14</th>\n",
       "      <td>6657c9871fa2f67cd168e6f94354060e</td>\n",
       "      <td>20220903</td>\n",
       "      <td>36</td>\n",
       "      <td>18039</td>\n",
       "      <td>900</td>\n",
       "      <td>Census Tract 9, Elkhart County, Indiana</td>\n",
       "      <td>29</td>\n",
       "      <td>14</td>\n",
       "      <td>&lt;NA&gt;</td>\n",
       "      <td>&lt;NA&gt;</td>\n",
       "      <td>...</td>\n",
       "      <td>&lt;NA&gt;</td>\n",
       "      <td>&lt;NA&gt;</td>\n",
       "      <td>0</td>\n",
       "      <td>0</td>\n",
       "      <td>0</td>\n",
       "      <td>0</td>\n",
       "      <td>0</td>\n",
       "      <td>0</td>\n",
       "      <td>&lt;NA&gt;</td>\n",
       "      <td>&lt;NA&gt;</td>\n",
       "    </tr>\n",
       "    <tr>\n",
       "      <th>15</th>\n",
       "      <td>6657c9871fa2f67cd168e6f94354060e</td>\n",
       "      <td>20220903</td>\n",
       "      <td>36</td>\n",
       "      <td>18039</td>\n",
       "      <td>900</td>\n",
       "      <td>Census Tract 9, Elkhart County, Indiana</td>\n",
       "      <td>29</td>\n",
       "      <td>14</td>\n",
       "      <td>&lt;NA&gt;</td>\n",
       "      <td>&lt;NA&gt;</td>\n",
       "      <td>...</td>\n",
       "      <td>&lt;NA&gt;</td>\n",
       "      <td>&lt;NA&gt;</td>\n",
       "      <td>0</td>\n",
       "      <td>0</td>\n",
       "      <td>0</td>\n",
       "      <td>0</td>\n",
       "      <td>0</td>\n",
       "      <td>0</td>\n",
       "      <td>&lt;NA&gt;</td>\n",
       "      <td>&lt;NA&gt;</td>\n",
       "    </tr>\n",
       "    <tr>\n",
       "      <th>16</th>\n",
       "      <td>6657c9871fa2f67cd168e6f94354060e</td>\n",
       "      <td>20220910</td>\n",
       "      <td>37</td>\n",
       "      <td>18039</td>\n",
       "      <td>900</td>\n",
       "      <td>Census Tract 9, Elkhart County, Indiana</td>\n",
       "      <td>50</td>\n",
       "      <td>18</td>\n",
       "      <td>&lt;NA&gt;</td>\n",
       "      <td>21</td>\n",
       "      <td>...</td>\n",
       "      <td>11</td>\n",
       "      <td>39</td>\n",
       "      <td>0</td>\n",
       "      <td>0</td>\n",
       "      <td>0</td>\n",
       "      <td>0</td>\n",
       "      <td>0</td>\n",
       "      <td>0</td>\n",
       "      <td>&lt;NA&gt;</td>\n",
       "      <td>&lt;NA&gt;</td>\n",
       "    </tr>\n",
       "    <tr>\n",
       "      <th>17</th>\n",
       "      <td>7df3e38fbdab0a32ca0fa9fb6c8bd8c4</td>\n",
       "      <td>20220702</td>\n",
       "      <td>27</td>\n",
       "      <td>18067</td>\n",
       "      <td>10200</td>\n",
       "      <td>Census Tract 102, Howard County, Indiana</td>\n",
       "      <td>75</td>\n",
       "      <td>0</td>\n",
       "      <td>&lt;NA&gt;</td>\n",
       "      <td>50</td>\n",
       "      <td>...</td>\n",
       "      <td>29</td>\n",
       "      <td>46</td>\n",
       "      <td>0</td>\n",
       "      <td>0</td>\n",
       "      <td>&lt;NA&gt;</td>\n",
       "      <td>0</td>\n",
       "      <td>&lt;NA&gt;</td>\n",
       "      <td>0</td>\n",
       "      <td>&lt;NA&gt;</td>\n",
       "      <td>71</td>\n",
       "    </tr>\n",
       "    <tr>\n",
       "      <th>18</th>\n",
       "      <td>7df3e38fbdab0a32ca0fa9fb6c8bd8c4</td>\n",
       "      <td>20220625</td>\n",
       "      <td>26</td>\n",
       "      <td>18067</td>\n",
       "      <td>10200</td>\n",
       "      <td>Census Tract 102, Howard County, Indiana</td>\n",
       "      <td>66</td>\n",
       "      <td>0</td>\n",
       "      <td>&lt;NA&gt;</td>\n",
       "      <td>44</td>\n",
       "      <td>...</td>\n",
       "      <td>20</td>\n",
       "      <td>46</td>\n",
       "      <td>0</td>\n",
       "      <td>0</td>\n",
       "      <td>&lt;NA&gt;</td>\n",
       "      <td>&lt;NA&gt;</td>\n",
       "      <td>&lt;NA&gt;</td>\n",
       "      <td>0</td>\n",
       "      <td>&lt;NA&gt;</td>\n",
       "      <td>61</td>\n",
       "    </tr>\n",
       "    <tr>\n",
       "      <th>19</th>\n",
       "      <td>e8f426c17a7172179be379cb926bd278</td>\n",
       "      <td>20220709</td>\n",
       "      <td>28</td>\n",
       "      <td>18067</td>\n",
       "      <td>10400</td>\n",
       "      <td>Census Tract 104, Howard County, Indiana</td>\n",
       "      <td>20</td>\n",
       "      <td>0</td>\n",
       "      <td>0</td>\n",
       "      <td>&lt;NA&gt;</td>\n",
       "      <td>...</td>\n",
       "      <td>&lt;NA&gt;</td>\n",
       "      <td>&lt;NA&gt;</td>\n",
       "      <td>0</td>\n",
       "      <td>0</td>\n",
       "      <td>0</td>\n",
       "      <td>0</td>\n",
       "      <td>0</td>\n",
       "      <td>0</td>\n",
       "      <td>&lt;NA&gt;</td>\n",
       "      <td>&lt;NA&gt;</td>\n",
       "    </tr>\n",
       "  </tbody>\n",
       "</table>\n",
       "<p>20 rows × 25 columns</p>\n",
       "</div>"
      ],
      "text/plain": [
       "                               uu_id  timeperiod  week_number  countyfips  \\\n",
       "0   f013068de98db1470bd986137a0c6d23    20220416           16       18003   \n",
       "1   21957d5517323845818d87623589e1ba    20220319           12       18089   \n",
       "2   6a5609f385912113b6f1014b958ed748    20220326           13       18089   \n",
       "3   46b2882ec4c373527ec33f7bd4f1388d    20220716           29       18089   \n",
       "4   37495d17e82f7df326bfc2c4c090f7b7    20220409           15       18089   \n",
       "5   25a57fe39e03c632125308737a7d3769    20220820           34       18067   \n",
       "6   25a57fe39e03c632125308737a7d3769    20220820           34       18067   \n",
       "7   45c8cf419dd4c4b442dbf3603ba94379    20220129            5       18003   \n",
       "8   8f782a6153268c6031e31784e2d4eae2    20220716           29       18089   \n",
       "9   5c04f20bd2f8552aa7ac210dc01292fb    20220611           24       18089   \n",
       "10  050a624d618a68e43fe31189909c644f    20220409           15       18067   \n",
       "11  bc7ebe1813e2b66f084289e1b1172f21    20220507           19       18067   \n",
       "12  6239669cbfe444abd0a46536a670d150    20220709           28       18039   \n",
       "13  6657c9871fa2f67cd168e6f94354060e    20220910           37       18039   \n",
       "14  6657c9871fa2f67cd168e6f94354060e    20220903           36       18039   \n",
       "15  6657c9871fa2f67cd168e6f94354060e    20220903           36       18039   \n",
       "16  6657c9871fa2f67cd168e6f94354060e    20220910           37       18039   \n",
       "17  7df3e38fbdab0a32ca0fa9fb6c8bd8c4    20220702           27       18067   \n",
       "18  7df3e38fbdab0a32ca0fa9fb6c8bd8c4    20220625           26       18067   \n",
       "19  e8f426c17a7172179be379cb926bd278    20220709           28       18067   \n",
       "\n",
       "    tract                                tract_name  total_claims  \\\n",
       "0     900     Census Tract 9, Allen County, Indiana            22   \n",
       "1   10400    Census Tract 104, Lake County, Indiana           111   \n",
       "2   11500    Census Tract 115, Lake County, Indiana            39   \n",
       "3   20700    Census Tract 207, Lake County, Indiana            14   \n",
       "4   21900    Census Tract 219, Lake County, Indiana           155   \n",
       "5     300    Census Tract 3, Howard County, Indiana            24   \n",
       "6     300    Census Tract 3, Howard County, Indiana            24   \n",
       "7    3200    Census Tract 32, Allen County, Indiana            19   \n",
       "8   42000    Census Tract 420, Lake County, Indiana            20   \n",
       "9   42200    Census Tract 422, Lake County, Indiana            12   \n",
       "10    700    Census Tract 7, Howard County, Indiana            20   \n",
       "11    900    Census Tract 9, Howard County, Indiana            20   \n",
       "12    400   Census Tract 4, Elkhart County, Indiana            20   \n",
       "13    900   Census Tract 9, Elkhart County, Indiana            50   \n",
       "14    900   Census Tract 9, Elkhart County, Indiana            29   \n",
       "15    900   Census Tract 9, Elkhart County, Indiana            29   \n",
       "16    900   Census Tract 9, Elkhart County, Indiana            50   \n",
       "17  10200  Census Tract 102, Howard County, Indiana            75   \n",
       "18  10200  Census Tract 102, Howard County, Indiana            66   \n",
       "19  10400  Census Tract 104, Howard County, Indiana            20   \n",
       "\n",
       "    edu_8th_or_less  edu_grades_9_11  edu_hs_grad_equiv  ...  gender_female  \\\n",
       "0                 0             <NA>                 14  ...           <NA>   \n",
       "1                 0             <NA>                108  ...             76   \n",
       "2                 0             <NA>               <NA>  ...           <NA>   \n",
       "3                 0             <NA>               <NA>  ...           <NA>   \n",
       "4                 0             <NA>                 69  ...             90   \n",
       "5                 0             <NA>                 15  ...             14   \n",
       "6                 0             <NA>                 15  ...             14   \n",
       "7              <NA>             <NA>               <NA>  ...             11   \n",
       "8                 0             <NA>                 10  ...           <NA>   \n",
       "9              <NA>                0               <NA>  ...           <NA>   \n",
       "10             <NA>                0                 10  ...           <NA>   \n",
       "11                0             <NA>               <NA>  ...           <NA>   \n",
       "12                0             <NA>                 13  ...           <NA>   \n",
       "13               18             <NA>                 21  ...             11   \n",
       "14               14             <NA>               <NA>  ...           <NA>   \n",
       "15               14             <NA>               <NA>  ...           <NA>   \n",
       "16               18             <NA>                 21  ...             11   \n",
       "17                0             <NA>                 50  ...             29   \n",
       "18                0             <NA>                 44  ...             20   \n",
       "19                0                0               <NA>  ...           <NA>   \n",
       "\n",
       "    gender_male gender_na race_amerindian race_asian  race_black  \\\n",
       "0          <NA>         0               0          0          11   \n",
       "1            35         0               0          0        <NA>   \n",
       "2          <NA>         0               0          0          39   \n",
       "3          <NA>         0               0       <NA>          10   \n",
       "4            65         0               0          0         135   \n",
       "5            10         0               0          0        <NA>   \n",
       "6            10         0               0          0        <NA>   \n",
       "7          <NA>      <NA>               0       <NA>        <NA>   \n",
       "8          <NA>         0            <NA>          0        <NA>   \n",
       "9          <NA>         0               0          0        <NA>   \n",
       "10         <NA>         0               0          0        <NA>   \n",
       "11         <NA>         0               0          0        <NA>   \n",
       "12         <NA>         0               0          0           0   \n",
       "13           39         0               0          0           0   \n",
       "14         <NA>         0               0          0           0   \n",
       "15         <NA>         0               0          0           0   \n",
       "16           39         0               0          0           0   \n",
       "17           46         0               0       <NA>           0   \n",
       "18           46         0               0       <NA>        <NA>   \n",
       "19         <NA>         0               0          0           0   \n",
       "\n",
       "    race_noanswer  race_hawaiiannative  race_other  race_white  \n",
       "0               0                    0        <NA>        <NA>  \n",
       "1            <NA>                    0           0           0  \n",
       "2               0                    0           0           0  \n",
       "3               0                    0        <NA>        <NA>  \n",
       "4            <NA>                 <NA>        <NA>        <NA>  \n",
       "5               0                    0           0        <NA>  \n",
       "6               0                    0           0        <NA>  \n",
       "7            <NA>                    0        <NA>          12  \n",
       "8            <NA>                    0        <NA>          14  \n",
       "9               0                    0        <NA>        <NA>  \n",
       "10              0                    0        <NA>          14  \n",
       "11              0                    0           0        <NA>  \n",
       "12           <NA>                 <NA>        <NA>          12  \n",
       "13              0                    0        <NA>        <NA>  \n",
       "14              0                    0        <NA>        <NA>  \n",
       "15              0                    0        <NA>        <NA>  \n",
       "16              0                    0        <NA>        <NA>  \n",
       "17           <NA>                    0        <NA>          71  \n",
       "18           <NA>                    0        <NA>          61  \n",
       "19              0                    0        <NA>        <NA>  \n",
       "\n",
       "[20 rows x 25 columns]"
      ]
     },
     "execution_count": 126,
     "metadata": {},
     "output_type": "execute_result"
    }
   ],
   "source": [
    "# QUERY THE DATA ONCE\n",
    "query_job = bigquery_client.query(query)\n",
    "unemployment_data = query_job.to_dataframe()\n",
    "unemployment_data.head(20)"
   ]
  },
  {
   "cell_type": "code",
   "execution_count": 127,
   "id": "3b2c47c3",
   "metadata": {
    "lines_to_next_cell": 2
   },
   "outputs": [],
   "source": [
    "# USING MATPLOTLIB - image\n",
    "# A WAY TO COMMUNICATE DATA AND RESULTS\n",
    "# UNEMPLOYMENT RATES OCTOBER 2022 - Indiana Image\n",
    "# SOURCE: http://www.stats.indiana.edu/maptools/laus.asp\n",
    "# insall image\n",
    "# using opencv\n",
    "path = \"http://www.stats.indiana.edu/maptools/laus.asp\""
   ]
  },
  {
   "cell_type": "code",
   "execution_count": 128,
   "id": "d7421b31",
   "metadata": {},
   "outputs": [],
   "source": [
    "import numpy as np\n",
    "import matplotlib.image as mpimg"
   ]
  },
  {
   "cell_type": "code",
   "execution_count": 129,
   "id": "f0504c99",
   "metadata": {},
   "outputs": [
    {
     "ename": "SyntaxError",
     "evalue": "invalid syntax (2913591077.py, line 1)",
     "output_type": "error",
     "traceback": [
      "\u001b[0;36m  File \u001b[0;32m\"/var/folders/l2/cnhff0_n1470l4xf0p7v7l_40000gn/T/ipykernel_8074/2913591077.py\"\u001b[0;36m, line \u001b[0;32m1\u001b[0m\n\u001b[0;31m    img = mpimg.imread (http://www.stats.indiana.edu/maptools/laus.asp)\u001b[0m\n\u001b[0m                            ^\u001b[0m\n\u001b[0;31mSyntaxError\u001b[0m\u001b[0;31m:\u001b[0m invalid syntax\n"
     ]
    }
   ],
   "source": [
    "img = mpimg.imread (http://www.stats.indiana.edu/maptools/laus.asp)\n",
    "print(type(img) )\n",
    "print(img.shape )"
   ]
  },
  {
   "cell_type": "code",
   "execution_count": 130,
   "id": "e39528ec",
   "metadata": {
    "lines_to_next_cell": 2
   },
   "outputs": [],
   "source": [
    "# USING MATPLOTLIB - image\n",
    "# A WAY TO COMMUNICATE DATA AND RESULTS\n",
    "# UNEMPLOYMENT RATES OCTOBER 2022 - Indiana Image\n",
    "# SOURCE: http://www.stats.indiana.edu/maptools/laus.asp\n",
    "# insall image\n",
    "# using opencv\n",
    "path = \"http://www.stats.indiana.edu/maptools/laus.asp\""
   ]
  },
  {
   "cell_type": "code",
   "execution_count": 131,
   "id": "ae573f71",
   "metadata": {},
   "outputs": [],
   "source": [
    "import numpy as np\n",
    "import matplotlib.image as mpimg"
   ]
  },
  {
   "cell_type": "code",
   "execution_count": 132,
   "id": "a4a44f03",
   "metadata": {},
   "outputs": [
    {
     "ename": "SyntaxError",
     "evalue": "invalid syntax (2913591077.py, line 1)",
     "output_type": "error",
     "traceback": [
      "\u001b[0;36m  File \u001b[0;32m\"/var/folders/l2/cnhff0_n1470l4xf0p7v7l_40000gn/T/ipykernel_8074/2913591077.py\"\u001b[0;36m, line \u001b[0;32m1\u001b[0m\n\u001b[0;31m    img = mpimg.imread (http://www.stats.indiana.edu/maptools/laus.asp)\u001b[0m\n\u001b[0m                            ^\u001b[0m\n\u001b[0;31mSyntaxError\u001b[0m\u001b[0;31m:\u001b[0m invalid syntax\n"
     ]
    }
   ],
   "source": [
    "img = mpimg.imread (http://www.stats.indiana.edu/maptools/laus.asp)\n",
    "print(type(img) )\n",
    "print(img.shape )"
   ]
  },
  {
   "cell_type": "code",
   "execution_count": 133,
   "id": "4b4105d6",
   "metadata": {
    "lines_to_next_cell": 2
   },
   "outputs": [],
   "source": [
    "# USING MATPLOTLIB - image\n",
    "# A WAY TO COMMUNICATE DATA AND RESULTS\n",
    "# UNEMPLOYMENT RATES OCTOBER 2022 - Indiana Image\n",
    "# SOURCE: http://www.stats.indiana.edu/maptools/laus.asp\n",
    "# insall image\n",
    "# using opencv\n",
    "path = \"http://www.stats.indiana.edu/maptools/laus.asp\""
   ]
  },
  {
   "cell_type": "code",
   "execution_count": 134,
   "id": "bf35d932",
   "metadata": {},
   "outputs": [],
   "source": [
    "import numpy as np\n",
    "import matplotlib.image as mpimg"
   ]
  },
  {
   "cell_type": "code",
   "execution_count": 135,
   "id": "9533d7a6",
   "metadata": {},
   "outputs": [
    {
     "ename": "SyntaxError",
     "evalue": "invalid syntax (660206827.py, line 1)",
     "output_type": "error",
     "traceback": [
      "\u001b[0;36m  File \u001b[0;32m\"/var/folders/l2/cnhff0_n1470l4xf0p7v7l_40000gn/T/ipykernel_8074/660206827.py\"\u001b[0;36m, line \u001b[0;32m1\u001b[0m\n\u001b[0;31m    img = mpimg.imread(http://www.stats.indiana.edu/maptools/laus.asp)\u001b[0m\n\u001b[0m                           ^\u001b[0m\n\u001b[0;31mSyntaxError\u001b[0m\u001b[0;31m:\u001b[0m invalid syntax\n"
     ]
    }
   ],
   "source": [
    "img = mpimg.imread(http://www.stats.indiana.edu/maptools/laus.asp)\n",
    "print(type(img) )\n",
    "print(img.shape )"
   ]
  },
  {
   "cell_type": "code",
   "execution_count": 136,
   "id": "5e412659",
   "metadata": {
    "lines_to_next_cell": 2
   },
   "outputs": [],
   "source": [
    "# USING MATPLOTLIB - image\n",
    "# A WAY TO COMMUNICATE DATA AND RESULTS\n",
    "# UNEMPLOYMENT RATES OCTOBER 2022 - Indiana Image\n",
    "# SOURCE: http://www.stats.indiana.edu/maptools/laus.asp\n",
    "# insall image\n",
    "# using opencv\n",
    "path = \"http://www.stats.indiana.edu/maptools/laus.asp\""
   ]
  },
  {
   "cell_type": "code",
   "execution_count": 137,
   "id": "062a019a",
   "metadata": {},
   "outputs": [],
   "source": [
    "import numpy as np\n",
    "import matplotlib.image as mpimg"
   ]
  },
  {
   "cell_type": "code",
   "execution_count": 138,
   "id": "6d9e2ede",
   "metadata": {
    "lines_to_next_cell": 1
   },
   "outputs": [
    {
     "ename": "SyntaxError",
     "evalue": "invalid syntax (660206827.py, line 1)",
     "output_type": "error",
     "traceback": [
      "\u001b[0;36m  File \u001b[0;32m\"/var/folders/l2/cnhff0_n1470l4xf0p7v7l_40000gn/T/ipykernel_8074/660206827.py\"\u001b[0;36m, line \u001b[0;32m1\u001b[0m\n\u001b[0;31m    img = mpimg.imread(http://www.stats.indiana.edu/maptools/laus.asp)\u001b[0m\n\u001b[0m                           ^\u001b[0m\n\u001b[0;31mSyntaxError\u001b[0m\u001b[0;31m:\u001b[0m invalid syntax\n"
     ]
    }
   ],
   "source": [
    "img = mpimg.imread(http://www.stats.indiana.edu/maptools/laus.asp)\n",
    "print(type(img) )\n",
    "print(img.shape )"
   ]
  },
  {
   "cell_type": "code",
   "execution_count": 139,
   "id": "75deff4b",
   "metadata": {
    "lines_to_next_cell": 1
   },
   "outputs": [],
   "source": [
    "def rf_industry(g):\n",
    "    uu_id = g.uu_id.values[0]\n",
    "    gg = g[COL_MAP['industry'] + ['week_number', 'total_claims']]    \n",
    "    gg = gg.dropna()\n",
    "    gg = pd.get_dummies(gg)\n",
    "        \n",
    "    if gg.shape[0] == 0:\n",
    "        print(g.uu_id.values[0])\n",
    "        mean = g.total_claims.mean()\n",
    "        return pd.DataFrame([{'uu_id': uu_id, 'week_number': 38, 'total_claims': mean, 'predicted': mean}])\n",
    "    x = gg.drop(['total_claims'], axis=1)    \n",
    "    y = gg['total_claims']    \n",
    "    max_avail_week_number = int(x.week_number.max())\n",
    "    rf = sklearn.ensemble.RandomForestRegressor(n_estimators=100, random_state=0).fit(x, y.values.ravel())\n",
    "    last = x.loc[x.week_number == max_avail_week_number, :].copy()\n",
    "    last['week_number'] = max_avail_week_number + 1\n",
    "    x_test = pd.concat([x, last], ignore_index=True)\n",
    "    x_test['predicted'] = rf.predict(x_test)\n",
    "    result = x_test.copy()\n",
    "    result['total_claims'] = y.reset_index(0, drop=True)\n",
    "    result['uu_id'] = uu_id\n",
    "    return result[['uu_id', 'week_number', 'total_claims', 'predicted']]"
   ]
  },
  {
   "cell_type": "code",
   "execution_count": 140,
   "id": "6f2661ae",
   "metadata": {
    "lines_to_next_cell": 1
   },
   "outputs": [],
   "source": [
    "def plot_industry(d):\n",
    "    fig, axs = plt.subplots(ncols=6, figsize=(18, 3), sharey=True)\n",
    "    for i in range(6):\n",
    "        ax = axs[i]\n",
    "        dd = subset(d, i)\n",
    "        result = rf_industry(dd)\n",
    "        ax.plot(result.week_number, result.total_claims, 'o-', label='original')\n",
    "        ax.plot(result.week_number, result.predicted, 'o-', label='predict')\n",
    "        ax.set_xlabel('week_number')\n",
    "        ax.set_title(f'uu_id: {i}')\n",
    "        ax.set_xlim(0, 42)\n",
    "            \n",
    "    axs[-1].legend(frameon=False)\n",
    "    axs[0].set_ylabel('claims')\n",
    "    plt.show()"
   ]
  },
  {
   "cell_type": "code",
   "execution_count": 141,
   "id": "d55db936",
   "metadata": {},
   "outputs": [
    {
     "ename": "NameError",
     "evalue": "name 'load_featured' is not defined",
     "output_type": "error",
     "traceback": [
      "\u001b[0;31m---------------------------------------------------------------------------\u001b[0m",
      "\u001b[0;31mNameError\u001b[0m                                 Traceback (most recent call last)",
      "\u001b[0;32m/var/folders/l2/cnhff0_n1470l4xf0p7v7l_40000gn/T/ipykernel_8074/2996889302.py\u001b[0m in \u001b[0;36m<module>\u001b[0;34m\u001b[0m\n\u001b[0;32m----> 1\u001b[0;31m \u001b[0mplot_industry\u001b[0m\u001b[0;34m(\u001b[0m\u001b[0mload_featured\u001b[0m\u001b[0;34m(\u001b[0m\u001b[0;34m)\u001b[0m\u001b[0;34m)\u001b[0m\u001b[0;34m\u001b[0m\u001b[0;34m\u001b[0m\u001b[0m\n\u001b[0m",
      "\u001b[0;31mNameError\u001b[0m: name 'load_featured' is not defined"
     ]
    }
   ],
   "source": [
    "plot_industry(load_featured())"
   ]
  },
  {
   "cell_type": "code",
   "execution_count": 142,
   "id": "2530b6c8",
   "metadata": {},
   "outputs": [
    {
     "ename": "AttributeError",
     "evalue": "'DataFrame' object has no attribute 'exog'",
     "output_type": "error",
     "traceback": [
      "\u001b[0;31m---------------------------------------------------------------------------\u001b[0m",
      "\u001b[0;31mAttributeError\u001b[0m                            Traceback (most recent call last)",
      "\u001b[0;32m/var/folders/l2/cnhff0_n1470l4xf0p7v7l_40000gn/T/ipykernel_8074/563217530.py\u001b[0m in \u001b[0;36m<module>\u001b[0;34m\u001b[0m\n\u001b[1;32m      3\u001b[0m \u001b[0mplt\u001b[0m\u001b[0;34m.\u001b[0m\u001b[0mrcParams\u001b[0m\u001b[0;34m[\u001b[0m\u001b[0;34m\"figure.subplot.bottom\"\u001b[0m\u001b[0;34m]\u001b[0m \u001b[0;34m=\u001b[0m \u001b[0;36m0.23\u001b[0m  \u001b[0;31m# keep labels visible\u001b[0m\u001b[0;34m\u001b[0m\u001b[0;34m\u001b[0m\u001b[0m\n\u001b[1;32m      4\u001b[0m \u001b[0mplt\u001b[0m\u001b[0;34m.\u001b[0m\u001b[0mrcParams\u001b[0m\u001b[0;34m[\u001b[0m\u001b[0;34m\"figure.figsize\"\u001b[0m\u001b[0;34m]\u001b[0m \u001b[0;34m=\u001b[0m \u001b[0;34m(\u001b[0m\u001b[0;36m10.0\u001b[0m\u001b[0;34m,\u001b[0m \u001b[0;36m8.0\u001b[0m\u001b[0;34m)\u001b[0m  \u001b[0;31m# make plot larger in notebook\u001b[0m\u001b[0;34m\u001b[0m\u001b[0;34m\u001b[0m\u001b[0m\n\u001b[0;32m----> 5\u001b[0;31m \u001b[0mage\u001b[0m \u001b[0;34m=\u001b[0m \u001b[0;34m[\u001b[0m\u001b[0mdata\u001b[0m\u001b[0;34m.\u001b[0m\u001b[0mexog\u001b[0m\u001b[0;34m[\u001b[0m\u001b[0;34m\"age\"\u001b[0m\u001b[0;34m]\u001b[0m\u001b[0;34m[\u001b[0m\u001b[0mdata\u001b[0m\u001b[0;34m.\u001b[0m\u001b[0mendog\u001b[0m \u001b[0;34m==\u001b[0m \u001b[0mid\u001b[0m\u001b[0;34m]\u001b[0m \u001b[0;32mfor\u001b[0m \u001b[0mid\u001b[0m \u001b[0;32min\u001b[0m \u001b[0mparty_ID\u001b[0m\u001b[0;34m]\u001b[0m\u001b[0;34m\u001b[0m\u001b[0;34m\u001b[0m\u001b[0m\n\u001b[0m\u001b[1;32m      6\u001b[0m \u001b[0mfig\u001b[0m \u001b[0;34m=\u001b[0m \u001b[0mplt\u001b[0m\u001b[0;34m.\u001b[0m\u001b[0mfigure\u001b[0m\u001b[0;34m(\u001b[0m\u001b[0;34m)\u001b[0m\u001b[0;34m\u001b[0m\u001b[0;34m\u001b[0m\u001b[0m\n\u001b[1;32m      7\u001b[0m \u001b[0max\u001b[0m \u001b[0;34m=\u001b[0m \u001b[0mfig\u001b[0m\u001b[0;34m.\u001b[0m\u001b[0madd_subplot\u001b[0m\u001b[0;34m(\u001b[0m\u001b[0;36m111\u001b[0m\u001b[0;34m)\u001b[0m\u001b[0;34m\u001b[0m\u001b[0;34m\u001b[0m\u001b[0m\n",
      "\u001b[0;32m/var/folders/l2/cnhff0_n1470l4xf0p7v7l_40000gn/T/ipykernel_8074/563217530.py\u001b[0m in \u001b[0;36m<listcomp>\u001b[0;34m(.0)\u001b[0m\n\u001b[1;32m      3\u001b[0m \u001b[0mplt\u001b[0m\u001b[0;34m.\u001b[0m\u001b[0mrcParams\u001b[0m\u001b[0;34m[\u001b[0m\u001b[0;34m\"figure.subplot.bottom\"\u001b[0m\u001b[0;34m]\u001b[0m \u001b[0;34m=\u001b[0m \u001b[0;36m0.23\u001b[0m  \u001b[0;31m# keep labels visible\u001b[0m\u001b[0;34m\u001b[0m\u001b[0;34m\u001b[0m\u001b[0m\n\u001b[1;32m      4\u001b[0m \u001b[0mplt\u001b[0m\u001b[0;34m.\u001b[0m\u001b[0mrcParams\u001b[0m\u001b[0;34m[\u001b[0m\u001b[0;34m\"figure.figsize\"\u001b[0m\u001b[0;34m]\u001b[0m \u001b[0;34m=\u001b[0m \u001b[0;34m(\u001b[0m\u001b[0;36m10.0\u001b[0m\u001b[0;34m,\u001b[0m \u001b[0;36m8.0\u001b[0m\u001b[0;34m)\u001b[0m  \u001b[0;31m# make plot larger in notebook\u001b[0m\u001b[0;34m\u001b[0m\u001b[0;34m\u001b[0m\u001b[0m\n\u001b[0;32m----> 5\u001b[0;31m \u001b[0mage\u001b[0m \u001b[0;34m=\u001b[0m \u001b[0;34m[\u001b[0m\u001b[0mdata\u001b[0m\u001b[0;34m.\u001b[0m\u001b[0mexog\u001b[0m\u001b[0;34m[\u001b[0m\u001b[0;34m\"age\"\u001b[0m\u001b[0;34m]\u001b[0m\u001b[0;34m[\u001b[0m\u001b[0mdata\u001b[0m\u001b[0;34m.\u001b[0m\u001b[0mendog\u001b[0m \u001b[0;34m==\u001b[0m \u001b[0mid\u001b[0m\u001b[0;34m]\u001b[0m \u001b[0;32mfor\u001b[0m \u001b[0mid\u001b[0m \u001b[0;32min\u001b[0m \u001b[0mparty_ID\u001b[0m\u001b[0;34m]\u001b[0m\u001b[0;34m\u001b[0m\u001b[0;34m\u001b[0m\u001b[0m\n\u001b[0m\u001b[1;32m      6\u001b[0m \u001b[0mfig\u001b[0m \u001b[0;34m=\u001b[0m \u001b[0mplt\u001b[0m\u001b[0;34m.\u001b[0m\u001b[0mfigure\u001b[0m\u001b[0;34m(\u001b[0m\u001b[0;34m)\u001b[0m\u001b[0;34m\u001b[0m\u001b[0;34m\u001b[0m\u001b[0m\n\u001b[1;32m      7\u001b[0m \u001b[0max\u001b[0m \u001b[0;34m=\u001b[0m \u001b[0mfig\u001b[0m\u001b[0;34m.\u001b[0m\u001b[0madd_subplot\u001b[0m\u001b[0;34m(\u001b[0m\u001b[0;36m111\u001b[0m\u001b[0;34m)\u001b[0m\u001b[0;34m\u001b[0m\u001b[0;34m\u001b[0m\u001b[0m\n",
      "\u001b[0;32m/opt/anaconda3/lib/python3.9/site-packages/pandas/core/generic.py\u001b[0m in \u001b[0;36m__getattr__\u001b[0;34m(self, name)\u001b[0m\n\u001b[1;32m   5900\u001b[0m         ):\n\u001b[1;32m   5901\u001b[0m             \u001b[0;32mreturn\u001b[0m \u001b[0mself\u001b[0m\u001b[0;34m[\u001b[0m\u001b[0mname\u001b[0m\u001b[0;34m]\u001b[0m\u001b[0;34m\u001b[0m\u001b[0;34m\u001b[0m\u001b[0m\n\u001b[0;32m-> 5902\u001b[0;31m         \u001b[0;32mreturn\u001b[0m \u001b[0mobject\u001b[0m\u001b[0;34m.\u001b[0m\u001b[0m__getattribute__\u001b[0m\u001b[0;34m(\u001b[0m\u001b[0mself\u001b[0m\u001b[0;34m,\u001b[0m \u001b[0mname\u001b[0m\u001b[0;34m)\u001b[0m\u001b[0;34m\u001b[0m\u001b[0;34m\u001b[0m\u001b[0m\n\u001b[0m\u001b[1;32m   5903\u001b[0m \u001b[0;34m\u001b[0m\u001b[0m\n\u001b[1;32m   5904\u001b[0m     \u001b[0;32mdef\u001b[0m \u001b[0m__setattr__\u001b[0m\u001b[0;34m(\u001b[0m\u001b[0mself\u001b[0m\u001b[0;34m,\u001b[0m \u001b[0mname\u001b[0m\u001b[0;34m:\u001b[0m \u001b[0mstr\u001b[0m\u001b[0;34m,\u001b[0m \u001b[0mvalue\u001b[0m\u001b[0;34m)\u001b[0m \u001b[0;34m->\u001b[0m \u001b[0;32mNone\u001b[0m\u001b[0;34m:\u001b[0m\u001b[0;34m\u001b[0m\u001b[0;34m\u001b[0m\u001b[0m\n",
      "\u001b[0;31mAttributeError\u001b[0m: 'DataFrame' object has no attribute 'exog'"
     ]
    }
   ],
   "source": [
    "# STAT Models\n",
    "# https://www.statsmodels.org/dev/examples/notebooks/generated/plots_boxplots.html\n",
    "plt.rcParams[\"figure.subplot.bottom\"] = 0.23  # keep labels visible\n",
    "plt.rcParams[\"figure.figsize\"] = (10.0, 8.0)  # make plot larger in notebook\n",
    "age = [data.exog[\"age\"][data.endog == id] for id in party_ID]\n",
    "fig = plt.figure()\n",
    "ax = fig.add_subplot(111)\n",
    "plot_opts = {\n",
    "    \"cutoff_val\": 5,\n",
    "    \"cutoff_type\": \"abs\",\n",
    "    \"label_fontsize\": \"small\",\n",
    "    \"label_rotation\": 30,\n",
    "}\n",
    "sm.graphics.beanplot(age, ax=ax, labels=labels, plot_opts=plot_opts)\n",
    "ax.set_xlabel(\"Party identification of respondent.\")\n",
    "ax.set_ylabel(\"Age\")\n",
    "# plt.show()"
   ]
  },
  {
   "cell_type": "code",
   "execution_count": 143,
   "id": "d28bf901",
   "metadata": {
    "lines_to_next_cell": 1
   },
   "outputs": [],
   "source": [
    "def rf_industry(g):\n",
    "    uu_id = g.uu_id.values[0]\n",
    "    gg = g[COL_MAP['industry'] + ['week_number', 'total_claims']]    \n",
    "    gg = gg.dropna()\n",
    "    gg = pd.get_dummies(gg)\n",
    "        \n",
    "    if gg.shape[0] == 0:\n",
    "        print(g.uu_id.values[0])\n",
    "        mean = g.total_claims.mean()\n",
    "        return pd.DataFrame([{'uu_id': uu_id, 'week_number': 38, 'total_claims': mean, 'predicted': mean}])\n",
    "    x = gg.drop(['total_claims'], axis=1)    \n",
    "    y = gg['total_claims']    \n",
    "    max_avail_week_number = int(x.week_number.max())\n",
    "    rf = sklearn.ensemble.RandomForestRegressor(n_estimators=100, random_state=0).fit(x, y.values.ravel())\n",
    "    last = x.loc[x.week_number == max_avail_week_number, :].copy()\n",
    "    last['week_number'] = max_avail_week_number + 1\n",
    "    x_test = pd.concat([x, last], ignore_index=True)\n",
    "    x_test['predicted'] = rf.predict(x_test)\n",
    "    result = x_test.copy()\n",
    "    result['total_claims'] = y.reset_index(0, drop=True)\n",
    "    result['uu_id'] = uu_id\n",
    "    return result[['uu_id', 'week_number', 'total_claims', 'predicted']]"
   ]
  },
  {
   "cell_type": "code",
   "execution_count": 144,
   "id": "26adaa72",
   "metadata": {
    "lines_to_next_cell": 1
   },
   "outputs": [],
   "source": [
    "def plot_industry(d):\n",
    "    fig, axs = plt.subplots(ncols=6, figsize=(18, 3), sharey=True)\n",
    "    for i in range(6):\n",
    "        ax = axs[i]\n",
    "        dd = subset(d, i)\n",
    "        result = rf_industry(dd)\n",
    "        ax.plot(result.week_number, result.total_claims, 'o-', label='original')\n",
    "        ax.plot(result.week_number, result.predicted, 'o-', label='predict')\n",
    "        ax.set_xlabel('week_number')\n",
    "        ax.set_title(f'uu_id: {i}')\n",
    "        ax.set_xlim(0, 42)\n",
    "            \n",
    "    axs[-1].legend(frameon=False)\n",
    "    axs[0].set_ylabel('claims')\n",
    "    plt.show()"
   ]
  },
  {
   "cell_type": "code",
   "execution_count": 145,
   "id": "21571021",
   "metadata": {},
   "outputs": [
    {
     "ename": "NameError",
     "evalue": "name 'load_featured' is not defined",
     "output_type": "error",
     "traceback": [
      "\u001b[0;31m---------------------------------------------------------------------------\u001b[0m",
      "\u001b[0;31mNameError\u001b[0m                                 Traceback (most recent call last)",
      "\u001b[0;32m/var/folders/l2/cnhff0_n1470l4xf0p7v7l_40000gn/T/ipykernel_8074/2996889302.py\u001b[0m in \u001b[0;36m<module>\u001b[0;34m\u001b[0m\n\u001b[0;32m----> 1\u001b[0;31m \u001b[0mplot_industry\u001b[0m\u001b[0;34m(\u001b[0m\u001b[0mload_featured\u001b[0m\u001b[0;34m(\u001b[0m\u001b[0;34m)\u001b[0m\u001b[0;34m)\u001b[0m\u001b[0;34m\u001b[0m\u001b[0;34m\u001b[0m\u001b[0m\n\u001b[0m",
      "\u001b[0;31mNameError\u001b[0m: name 'load_featured' is not defined"
     ]
    }
   ],
   "source": [
    "plot_industry(load_featured())"
   ]
  },
  {
   "cell_type": "code",
   "execution_count": 146,
   "id": "b3c7642f",
   "metadata": {},
   "outputs": [],
   "source": [
    "# https://www.statsmodels.org/dev/examples/notebooks/generated/plots_boxplots.html\n",
    "get_ipython().run_line_magic('matplotlib', 'inline')"
   ]
  },
  {
   "cell_type": "code",
   "execution_count": 147,
   "id": "8b275b72",
   "metadata": {
    "lines_to_next_cell": 1
   },
   "outputs": [],
   "source": [
    "import numpy as np\n",
    "import matplotlib.pyplot as plt\n",
    "import statsmodels.api as sm"
   ]
  },
  {
   "cell_type": "code",
   "execution_count": 148,
   "id": "2b70cd18",
   "metadata": {
    "lines_to_next_cell": 1
   },
   "outputs": [],
   "source": [
    "def rf_industry(g):\n",
    "    uu_id = g.uu_id.values[0]\n",
    "    gg = g[COL_MAP['industry'] + ['week_number', 'total_claims']]    \n",
    "    gg = gg.dropna()\n",
    "    gg = pd.get_dummies(gg)\n",
    "        \n",
    "    if gg.shape[0] == 0:\n",
    "        print(g.uu_id.values[0])\n",
    "        mean = g.total_claims.mean()\n",
    "        return pd.DataFrame([{'uu_id': uu_id, 'week_number': 38, 'total_claims': mean, 'predicted': mean}])\n",
    "    x = gg.drop(['total_claims'], axis=1)    \n",
    "    y = gg['total_claims']    \n",
    "    max_avail_week_number = int(x.week_number.max())\n",
    "    rf = sklearn.ensemble.RandomForestRegressor(n_estimators=100, random_state=0).fit(x, y.values.ravel())\n",
    "    last = x.loc[x.week_number == max_avail_week_number, :].copy()\n",
    "    last['week_number'] = max_avail_week_number + 1\n",
    "    x_test = pd.concat([x, last], ignore_index=True)\n",
    "    x_test['predicted'] = rf.predict(x_test)\n",
    "    result = x_test.copy()\n",
    "    result['total_claims'] = y.reset_index(0, drop=True)\n",
    "    result['uu_id'] = uu_id\n",
    "    return result[['uu_id', 'week_number', 'total_claims', 'predicted']]"
   ]
  },
  {
   "cell_type": "code",
   "execution_count": 149,
   "id": "017f11f8",
   "metadata": {
    "lines_to_next_cell": 1
   },
   "outputs": [],
   "source": [
    "def plot_industry(d):\n",
    "    fig, axs = plt.subplots(ncols=6, figsize=(18, 3), sharey=True)\n",
    "    for i in range(6):\n",
    "        ax = axs[i]\n",
    "        dd = subset(d, i)\n",
    "        result = rf_industry(dd)\n",
    "        ax.plot(result.week_number, result.total_claims, 'o-', label='original')\n",
    "        ax.plot(result.week_number, result.predicted, 'o-', label='predict')\n",
    "        ax.set_xlabel('week_number')\n",
    "        ax.set_title(f'uu_id: {i}')\n",
    "        ax.set_xlim(0, 42)\n",
    "            \n",
    "    axs[-1].legend(frameon=False)\n",
    "    axs[0].set_ylabel('claims')\n",
    "    plt.show()"
   ]
  },
  {
   "cell_type": "code",
   "execution_count": 150,
   "id": "e11a2995",
   "metadata": {},
   "outputs": [
    {
     "ename": "NameError",
     "evalue": "name 'load_featured' is not defined",
     "output_type": "error",
     "traceback": [
      "\u001b[0;31m---------------------------------------------------------------------------\u001b[0m",
      "\u001b[0;31mNameError\u001b[0m                                 Traceback (most recent call last)",
      "\u001b[0;32m/var/folders/l2/cnhff0_n1470l4xf0p7v7l_40000gn/T/ipykernel_8074/2996889302.py\u001b[0m in \u001b[0;36m<module>\u001b[0;34m\u001b[0m\n\u001b[0;32m----> 1\u001b[0;31m \u001b[0mplot_industry\u001b[0m\u001b[0;34m(\u001b[0m\u001b[0mload_featured\u001b[0m\u001b[0;34m(\u001b[0m\u001b[0;34m)\u001b[0m\u001b[0;34m)\u001b[0m\u001b[0;34m\u001b[0m\u001b[0;34m\u001b[0m\u001b[0m\n\u001b[0m",
      "\u001b[0;31mNameError\u001b[0m: name 'load_featured' is not defined"
     ]
    }
   ],
   "source": [
    "plot_industry(load_featured())"
   ]
  },
  {
   "cell_type": "code",
   "execution_count": 151,
   "id": "fbfb0317",
   "metadata": {},
   "outputs": [],
   "source": [
    "from statsmodels.compat import lzip\n",
    "import numpy as np\n",
    "import matplotlib.pyplot as plt\n",
    "import statsmodels.api as sm\n",
    "from statsmodels.formula.api import ols"
   ]
  },
  {
   "cell_type": "code",
   "execution_count": 152,
   "id": "1e7de0ad",
   "metadata": {},
   "outputs": [],
   "source": [
    "plt.rc(\"figure\", figsize=(16, 8))\n",
    "plt.rc(\"font\", size=14)"
   ]
  },
  {
   "cell_type": "markdown",
   "id": "d3054294",
   "metadata": {},
   "source": [
    "https://www.statsmodels.org/dev/examples/notebooks/generated/regression_plots.html"
   ]
  },
  {
   "cell_type": "markdown",
   "id": "3589ba2c",
   "metadata": {},
   "source": [
    "dta = pd.read_csv(\"http://www.stat.ufl.edu/~aa/social/csv_files/statewide-crime-2.csv\")\n",
    "dta = dta.set_index(\"State\", inplace=True).dropna()\n",
    "dta.rename(columns={\"VR\" : \"crime\",\n",
    "                   \"MR\" : \"murder\",\n",
    "                   \"M\"  : \"pctmetro\",\n",
    "                   \"W\"  : \"pctwhite\",\n",
    "                   \"H\"  : \"pcths\",\n",
    "                   \"P\"  : \"poverty\",\n",
    "                   \"S\"  : \"single\"\n",
    "                   }, inplace=True)\n",
    "\n",
    "crime_model = ols(\"murder ~ pctmetro + poverty + pcths + single\", data=dta).fit()"
   ]
  },
  {
   "cell_type": "code",
   "execution_count": 153,
   "id": "d636ad4e",
   "metadata": {},
   "outputs": [],
   "source": [
    "dta = sm.datasets.statecrime.load_pandas().data"
   ]
  },
  {
   "cell_type": "markdown",
   "id": "1e8adcc4",
   "metadata": {},
   "source": [
    "LINEAR REGRESSION\n",
    "TOWARD DATA SCIENCE https://towardsdatascience.com/multiple-linear-regression-model-using-python-machine-learning-d00c78f1172a"
   ]
  },
  {
   "cell_type": "code",
   "execution_count": 154,
   "id": "b820d729",
   "metadata": {},
   "outputs": [],
   "source": [
    "# https://www.statsmodels.org/dev/examples/notebooks/generated/plots_boxplots.html\n",
    "get_ipython().run_line_magic('matplotlib', 'inline')"
   ]
  },
  {
   "cell_type": "code",
   "execution_count": 155,
   "id": "dd492c20",
   "metadata": {
    "lines_to_next_cell": 1
   },
   "outputs": [],
   "source": [
    "import numpy as np\n",
    "import matplotlib.pyplot as plt\n",
    "import statsmodels.api as sm"
   ]
  },
  {
   "cell_type": "code",
   "execution_count": 156,
   "id": "17f53a6c",
   "metadata": {
    "lines_to_next_cell": 1
   },
   "outputs": [],
   "source": [
    "def rf_industry(g):\n",
    "    uu_id = g.uu_id.values[0]\n",
    "    gg = g[COL_MAP['industry'] + ['week_number', 'total_claims']]    \n",
    "    gg = gg.dropna()\n",
    "    gg = pd.get_dummies(gg)\n",
    "        \n",
    "    if gg.shape[0] == 0:\n",
    "        print(g.uu_id.values[0])\n",
    "        mean = g.total_claims.mean()\n",
    "        return pd.DataFrame([{'uu_id': uu_id, 'week_number': 38, 'total_claims': mean, 'predicted': mean}])\n",
    "    x = gg.drop(['total_claims'], axis=1)    \n",
    "    y = gg['total_claims']    \n",
    "    max_avail_week_number = int(x.week_number.max())\n",
    "    rf = sklearn.ensemble.RandomForestRegressor(n_estimators=100, random_state=0).fit(x, y.values.ravel())\n",
    "    last = x.loc[x.week_number == max_avail_week_number, :].copy()\n",
    "    last['week_number'] = max_avail_week_number + 1\n",
    "    x_test = pd.concat([x, last], ignore_index=True)\n",
    "    x_test['predicted'] = rf.predict(x_test)\n",
    "    result = x_test.copy()\n",
    "    result['total_claims'] = y.reset_index(0, drop=True)\n",
    "    result['uu_id'] = uu_id\n",
    "    return result[['uu_id', 'week_number', 'total_claims', 'predicted']]"
   ]
  },
  {
   "cell_type": "code",
   "execution_count": 157,
   "id": "092630b9",
   "metadata": {
    "lines_to_next_cell": 1
   },
   "outputs": [],
   "source": [
    "def plot_industry(d):\n",
    "    fig, axs = plt.subplots(ncols=6, figsize=(18, 3), sharey=True)\n",
    "    for i in range(6):\n",
    "        ax = axs[i]\n",
    "        dd = subset(d, i)\n",
    "        result = rf_industry(dd)\n",
    "        ax.plot(result.week_number, result.total_claims, 'o-', label='original')\n",
    "        ax.plot(result.week_number, result.predicted, 'o-', label='predict')\n",
    "        ax.set_xlabel('week_number')\n",
    "        ax.set_title(f'uu_id: {i}')\n",
    "        ax.set_xlim(0, 42)\n",
    "            \n",
    "    axs[-1].legend(frameon=False)\n",
    "    axs[0].set_ylabel('claims')\n",
    "    plt.show()"
   ]
  },
  {
   "cell_type": "code",
   "execution_count": 158,
   "id": "0c8309a5",
   "metadata": {
    "lines_to_next_cell": 1
   },
   "outputs": [
    {
     "ename": "NameError",
     "evalue": "name 'load_featured' is not defined",
     "output_type": "error",
     "traceback": [
      "\u001b[0;31m---------------------------------------------------------------------------\u001b[0m",
      "\u001b[0;31mNameError\u001b[0m                                 Traceback (most recent call last)",
      "\u001b[0;32m/var/folders/l2/cnhff0_n1470l4xf0p7v7l_40000gn/T/ipykernel_8074/2996889302.py\u001b[0m in \u001b[0;36m<module>\u001b[0;34m\u001b[0m\n\u001b[0;32m----> 1\u001b[0;31m \u001b[0mplot_industry\u001b[0m\u001b[0;34m(\u001b[0m\u001b[0mload_featured\u001b[0m\u001b[0;34m(\u001b[0m\u001b[0;34m)\u001b[0m\u001b[0;34m)\u001b[0m\u001b[0;34m\u001b[0m\u001b[0;34m\u001b[0m\u001b[0m\n\u001b[0m",
      "\u001b[0;31mNameError\u001b[0m: name 'load_featured' is not defined"
     ]
    }
   ],
   "source": [
    "plot_industry(load_featured())"
   ]
  },
  {
   "cell_type": "code",
   "execution_count": 159,
   "id": "e6d79c3c",
   "metadata": {
    "lines_to_next_cell": 1
   },
   "outputs": [],
   "source": [
    "def rf_industry(g):\n",
    "    uu_id = g.uu_id.values[0]\n",
    "    gg = g[COL_MAP['industry'] + ['week_number', 'total_claims']]    \n",
    "    gg = gg.dropna()\n",
    "    gg = pd.get_dummies(gg)\n",
    "        \n",
    "    if gg.shape[0] == 0:\n",
    "        print(g.uu_id.values[0])\n",
    "        mean = g.total_claims.mean()\n",
    "        return pd.DataFrame([{'uu_id': uu_id, 'week_number': 38, 'total_claims': mean, 'predicted': mean}])\n",
    "    x = gg.drop(['total_claims'], axis=1)    \n",
    "    y = gg['total_claims']    \n",
    "    max_avail_week_number = int(x.week_number.max())\n",
    "    rf = sklearn.ensemble.RandomForestRegressor(n_estimators=100, random_state=0).fit(x, y.values.ravel())\n",
    "    last = x.loc[x.week_number == max_avail_week_number, :].copy()\n",
    "    last['week_number'] = max_avail_week_number + 1\n",
    "    x_test = pd.concat([x, last], ignore_index=True)\n",
    "    x_test['predicted'] = rf.predict(x_test)\n",
    "    result = x_test.copy()\n",
    "    result['total_claims'] = y.reset_index(0, drop=True)\n",
    "    result['uu_id'] = uu_id\n",
    "    return result[['uu_id', 'week_number', 'total_claims', 'predicted']]"
   ]
  },
  {
   "cell_type": "code",
   "execution_count": 160,
   "id": "342d890a",
   "metadata": {
    "lines_to_next_cell": 1
   },
   "outputs": [],
   "source": [
    "def plot_industry(d):\n",
    "    fig, axs = plt.subplots(ncols=6, figsize=(18, 3), sharey=True)\n",
    "    for i in range(6):\n",
    "        ax = axs[i]\n",
    "        dd = subset(d, i)\n",
    "        result = rf_industry(dd)\n",
    "        ax.plot(result.week_number, result.total_claims, 'o-', label='original')\n",
    "        ax.plot(result.week_number, result.predicted, 'o-', label='predict')\n",
    "        ax.set_xlabel('week_number')\n",
    "        ax.set_title(f'uu_id: {i}')\n",
    "        ax.set_xlim(0, 42)\n",
    "            \n",
    "    axs[-1].legend(frameon=False)\n",
    "    axs[0].set_ylabel('claims')\n",
    "    plt.show()"
   ]
  },
  {
   "cell_type": "code",
   "execution_count": 161,
   "id": "ba03891f",
   "metadata": {
    "lines_to_next_cell": 1
   },
   "outputs": [
    {
     "ename": "NameError",
     "evalue": "name 'load_featured' is not defined",
     "output_type": "error",
     "traceback": [
      "\u001b[0;31m---------------------------------------------------------------------------\u001b[0m",
      "\u001b[0;31mNameError\u001b[0m                                 Traceback (most recent call last)",
      "\u001b[0;32m/var/folders/l2/cnhff0_n1470l4xf0p7v7l_40000gn/T/ipykernel_8074/2996889302.py\u001b[0m in \u001b[0;36m<module>\u001b[0;34m\u001b[0m\n\u001b[0;32m----> 1\u001b[0;31m \u001b[0mplot_industry\u001b[0m\u001b[0;34m(\u001b[0m\u001b[0mload_featured\u001b[0m\u001b[0;34m(\u001b[0m\u001b[0;34m)\u001b[0m\u001b[0;34m)\u001b[0m\u001b[0;34m\u001b[0m\u001b[0;34m\u001b[0m\u001b[0m\n\u001b[0m",
      "\u001b[0;31mNameError\u001b[0m: name 'load_featured' is not defined"
     ]
    }
   ],
   "source": [
    "plot_industry(load_featured())"
   ]
  },
  {
   "cell_type": "code",
   "execution_count": 162,
   "id": "4b9d4d1f",
   "metadata": {
    "lines_to_next_cell": 1
   },
   "outputs": [],
   "source": [
    "def plot_industry(d):\n",
    "    fig, axs = plt.subplots(ncols=6, figsize=(18, 3), sharey=True)\n",
    "    for i in range(6):\n",
    "        ax = axs[i]\n",
    "        dd = subset(d, i)\n",
    "        result = rf_industry(dd)\n",
    "        ax.plot(result.week_number, result.total_claims, 'o-', label='original')\n",
    "        ax.plot(result.week_number, result.predicted, 'o-', label='predict')\n",
    "        ax.set_xlabel('week_number')\n",
    "        ax.set_title(f'uu_id: {i}')\n",
    "        ax.set_xlim(0, 42)\n",
    "            \n",
    "    axs[-1].legend(frameon=False)\n",
    "    axs[0].set_ylabel('claims')\n",
    "    plt.show()"
   ]
  },
  {
   "cell_type": "code",
   "execution_count": 163,
   "id": "6303a6a9",
   "metadata": {},
   "outputs": [
    {
     "ename": "NameError",
     "evalue": "name 'load_featured' is not defined",
     "output_type": "error",
     "traceback": [
      "\u001b[0;31m---------------------------------------------------------------------------\u001b[0m",
      "\u001b[0;31mNameError\u001b[0m                                 Traceback (most recent call last)",
      "\u001b[0;32m/var/folders/l2/cnhff0_n1470l4xf0p7v7l_40000gn/T/ipykernel_8074/2996889302.py\u001b[0m in \u001b[0;36m<module>\u001b[0;34m\u001b[0m\n\u001b[0;32m----> 1\u001b[0;31m \u001b[0mplot_industry\u001b[0m\u001b[0;34m(\u001b[0m\u001b[0mload_featured\u001b[0m\u001b[0;34m(\u001b[0m\u001b[0;34m)\u001b[0m\u001b[0;34m)\u001b[0m\u001b[0;34m\u001b[0m\u001b[0;34m\u001b[0m\u001b[0m\n\u001b[0m",
      "\u001b[0;31mNameError\u001b[0m: name 'load_featured' is not defined"
     ]
    }
   ],
   "source": [
    "plot_industry(load_featured())"
   ]
  },
  {
   "cell_type": "markdown",
   "id": "95172205",
   "metadata": {},
   "source": [
    "STAT Models\n",
    "https://www.statsmodels.org/dev/examples/notebooks/generated/plots_boxplots.html"
   ]
  },
  {
   "cell_type": "code",
   "execution_count": 164,
   "id": "9860f620",
   "metadata": {},
   "outputs": [],
   "source": [
    "data = sm.datasets.anes96.load_pandas()\n",
    "party_ID = np.arange(7)\n",
    "labels = [\n",
    "    \"Strong Democrat\",\n",
    "    \"Weak Democrat\",\n",
    "    \"Independent-Democrat\",\n",
    "    \"Independent-Independent\",\n",
    "    \"Independent-Republican\",\n",
    "    \"Weak Republican\",\n",
    "    \"Strong Republican\",\n",
    "]"
   ]
  },
  {
   "cell_type": "code",
   "execution_count": 165,
   "id": "fe4e2b80",
   "metadata": {},
   "outputs": [
    {
     "data": {
      "text/plain": [
       "Text(0, 0.5, 'Age')"
      ]
     },
     "execution_count": 165,
     "metadata": {},
     "output_type": "execute_result"
    },
    {
     "data": {
      "image/png": "[encoded data removed]",
      "text/plain": [
       "<Figure size 720x576 with 1 Axes>"
      ]
     },
     "metadata": {
      "needs_background": "light"
     },
     "output_type": "display_data"
    }
   ],
   "source": [
    "# STAT Models\n",
    "# https://www.statsmodels.org/dev/examples/notebooks/generated/plots_boxplots.html\n",
    "plt.rcParams[\"figure.subplot.bottom\"] = 0.23  # keep labels visible\n",
    "plt.rcParams[\"figure.figsize\"] = (10.0, 8.0)  # make plot larger in notebook\n",
    "age = [data.exog[\"age\"][data.endog == id] for id in party_ID]\n",
    "fig = plt.figure()\n",
    "ax = fig.add_subplot(111)\n",
    "plot_opts = {\n",
    "    \"cutoff_val\": 5,\n",
    "    \"cutoff_type\": \"abs\",\n",
    "    \"label_fontsize\": \"small\",\n",
    "    \"label_rotation\": 30,\n",
    "}\n",
    "sm.graphics.beanplot(age, ax=ax, labels=labels, plot_opts=plot_opts)\n",
    "ax.set_xlabel(\"Party identification of respondent.\")\n",
    "ax.set_ylabel(\"Age\")\n",
    "# plt.show()"
   ]
  },
  {
   "cell_type": "markdown",
   "id": "38b37b72",
   "metadata": {},
   "source": [
    "STAT Models\n",
    "https://www.statsmodels.org/dev/examples/notebooks/generated/plots_boxplots.html"
   ]
  },
  {
   "cell_type": "code",
   "execution_count": 166,
   "id": "6a73cd4a",
   "metadata": {},
   "outputs": [
    {
     "data": {
      "text/plain": [
       "Text(0, 0.5, 'Age')"
      ]
     },
     "execution_count": 166,
     "metadata": {},
     "output_type": "execute_result"
    },
    {
     "data": {
      "image/png": "[encoded data removed]",
      "text/plain": [
       "<Figure size 720x576 with 1 Axes>"
      ]
     },
     "metadata": {
      "needs_background": "light"
     },
     "output_type": "display_data"
    }
   ],
   "source": [
    "plt.rcParams[\"figure.subplot.bottom\"] = 0.23  # keep labels visible\n",
    "plt.rcParams[\"figure.figsize\"] = (10.0, 8.0)  # make plot larger in notebook\n",
    "age = [data.exog[\"age\"][data.endog == id] for id in party_ID]\n",
    "fig = plt.figure()\n",
    "ax = fig.add_subplot(111)\n",
    "plot_opts = {\n",
    "    \"cutoff_val\": 5,\n",
    "    \"cutoff_type\": \"abs\",\n",
    "    \"label_fontsize\": \"small\",\n",
    "    \"label_rotation\": 30,\n",
    "}\n",
    "sm.graphics.beanplot(age, ax=ax, labels=labels, plot_opts=plot_opts)\n",
    "ax.set_xlabel(\"Party identification of respondent.\")\n",
    "ax.set_ylabel(\"Age\")\n",
    "# plt.show()"
   ]
  },
  {
   "cell_type": "markdown",
   "id": "f1769c9f",
   "metadata": {},
   "source": [
    "STAT Models\n",
    "https://www.statsmodels.org/dev/examples/notebooks/generated/plots_boxplots.html"
   ]
  },
  {
   "cell_type": "code",
   "execution_count": 167,
   "id": "af6b6e32",
   "metadata": {},
   "outputs": [
    {
     "data": {
      "text/plain": [
       "Text(0, 0.5, 'Age')"
      ]
     },
     "execution_count": 167,
     "metadata": {},
     "output_type": "execute_result"
    },
    {
     "data": {
      "image/png": "[encoded data removed]",
      "text/plain": [
       "<Figure size 720x576 with 1 Axes>"
      ]
     },
     "metadata": {
      "needs_background": "light"
     },
     "output_type": "display_data"
    }
   ],
   "source": [
    "plt.rcParams[\"figure.subplot.bottom\"] = 0.23  # keep labels visible\n",
    "plt.rcParams[\"figure.figsize\"] = (10.0, 8.0)  # make plot larger in notebook\n",
    "age = [data.exog[\"age\"][data.endog == id] for id in party_ID]\n",
    "fig = plt.figure()\n",
    "ax = fig.add_subplot(111)\n",
    "plot_opts = {\n",
    "    \"cutoff_val\": 5,\n",
    "    \"cutoff_type\": \"abs\",\n",
    "    \"label_fontsize\": \"small\",\n",
    "    \"label_rotation\": 30,\n",
    "}\n",
    "sm.graphics.beanplot(age, ax=ax, labels=labels, plot_opts=plot_opts)\n",
    "ax.set_xlabel(\"Unemployment.\")\n",
    "ax.set_ylabel(\"Age\")\n",
    "# plt.show()"
   ]
  },
  {
   "cell_type": "markdown",
   "id": "0ee4677f",
   "metadata": {},
   "source": [
    "STAT Models\n",
    "https://www.statsmodels.org/dev/examples/notebooks/generated/plots_boxplots.html"
   ]
  },
  {
   "cell_type": "code",
   "execution_count": 168,
   "id": "e5c4c1c3",
   "metadata": {},
   "outputs": [],
   "source": [
    "data = sm.datasets.anes96.load_pandas()\n",
    "party_ID = np.arange(7)\n",
    "labels = [\n",
    "    \"Strong Wages\",\n",
    "    \"Weak wages\",\n",
    "    \"Independent-Wages\",\n",
    "    \"Independent-Wages\",\n",
    "    \"Independent-Wages\",\n",
    "    \"Weak Wages\",\n",
    "    \"Strong Wages\",\n",
    "]"
   ]
  },
  {
   "cell_type": "markdown",
   "id": "a1a6f215",
   "metadata": {},
   "source": [
    "STAT Models\n",
    "https://www.statsmodels.org/dev/examples/notebooks/generated/plots_boxplots.html"
   ]
  },
  {
   "cell_type": "code",
   "execution_count": 169,
   "id": "9dc37201",
   "metadata": {},
   "outputs": [],
   "source": [
    "data = sm.datasets.anes96.load_pandas()\n",
    "party_ID = np.arange(7)\n",
    "labels = [\n",
    "    \"Strong Wages\",\n",
    "    \"Weak wages\",\n",
    "    \"Independent-Wages\",\n",
    "    \"Independent-Wages\",\n",
    "    \"Independent-Wages\",\n",
    "    \"Weak Wages\",\n",
    "    \"Strong Wages\",\n",
    "]"
   ]
  },
  {
   "cell_type": "markdown",
   "id": "41f89ae4",
   "metadata": {},
   "source": [
    "STAT Models\n",
    "https://www.statsmodels.org/dev/examples/notebooks/generated/plots_boxplots.html"
   ]
  },
  {
   "cell_type": "code",
   "execution_count": 170,
   "id": "f02f1c8b",
   "metadata": {},
   "outputs": [
    {
     "data": {
      "text/plain": [
       "Text(0, 0.5, 'Age')"
      ]
     },
     "execution_count": 170,
     "metadata": {},
     "output_type": "execute_result"
    },
    {
     "data": {
      "image/png": "[encoded data removed]",
      "text/plain": [
       "<Figure size 720x576 with 1 Axes>"
      ]
     },
     "metadata": {
      "needs_background": "light"
     },
     "output_type": "display_data"
    }
   ],
   "source": [
    "plt.rcParams[\"figure.subplot.bottom\"] = 0.23  # keep labels visible\n",
    "plt.rcParams[\"figure.figsize\"] = (10.0, 8.0)  # make plot larger in notebook\n",
    "age = [data.exog[\"age\"][data.endog == id] for id in party_ID]\n",
    "fig = plt.figure()\n",
    "ax = fig.add_subplot(111)\n",
    "plot_opts = {\n",
    "    \"cutoff_val\": 5,\n",
    "    \"cutoff_type\": \"abs\",\n",
    "    \"label_fontsize\": \"small\",\n",
    "    \"label_rotation\": 30,\n",
    "}\n",
    "sm.graphics.beanplot(age, ax=ax, labels=labels, plot_opts=plot_opts)\n",
    "ax.set_xlabel(\"Unemployment\")\n",
    "ax.set_ylabel(\"Age\")\n",
    "# plt.show()"
   ]
  },
  {
   "cell_type": "markdown",
   "id": "82640947",
   "metadata": {},
   "source": [
    "PREDICTING THE RESULTS\n",
    "COMPLETE PYTHON CODE FOR LINEAR REGRESSION\n",
    "CREDIT: ASK PYTHON"
   ]
  },
  {
   "cell_type": "markdown",
   "id": "d23ad3a7",
   "metadata": {
    "lines_to_next_cell": 2
   },
   "source": [
    "SIMPLE REGRESSION ANALYSIS"
   ]
  }
 ],
 "metadata": {
  "jupytext": {
   "cell_metadata_filter": "-all",
   "main_language": "python",
   "notebook_metadata_filter": "-all"
  },
  "kernelspec": {
   "display_name": "base",
   "language": "python",
   "name": "python3"
  },
  "language_info": {
   "codemirror_mode": {
    "name": "ipython",
    "version": 3
   },
   "file_extension": ".py",
   "mimetype": "text/x-python",
   "name": "python",
   "nbconvert_exporter": "python",
   "pygments_lexer": "ipython3",
   "version": "3.9.7"
  }
 },
 "nbformat": 4,
 "nbformat_minor": 5
}
