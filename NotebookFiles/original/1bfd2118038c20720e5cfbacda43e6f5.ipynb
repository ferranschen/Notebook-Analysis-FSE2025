{
 "cells": [
  {
   "cell_type": "code",
   "execution_count": null,
   "id": "25d5e8f3",
   "metadata": {},
   "outputs": [],
   "source": [
    "import os\n",
    "import pandas\n",
    "from google.cloud import bigquery\n",
    "from google.oauth2 import service_account\n",
    "from google.cloud.bigquery import magics"
   ]
  },
  {
   "cell_type": "markdown",
   "id": "1c38e407",
   "metadata": {},
   "source": [
    "CONFIGURE THE BIGQUERY SETTINGS"
   ]
  },
  {
   "cell_type": "code",
   "execution_count": null,
   "id": "7faafc19",
   "metadata": {},
   "outputs": [],
   "source": [
    "BIGQUERY_PROJECT = 'ironhacks-data'\n",
    "bigquery_client = bigquery.Client(project=BIGQUERY_PROJECT)"
   ]
  },
  {
   "cell_type": "code",
   "execution_count": null,
   "id": "81307f8a",
   "metadata": {},
   "outputs": [],
   "source": [
    "query = \"\"\"\n",
    "SELECT *\n",
    "FROM `ironhacks-data.ironhacks_training.covid19_cases`\n",
    "\"\"\""
   ]
  },
  {
   "cell_type": "code",
   "execution_count": null,
   "id": "69a24d93",
   "metadata": {
    "lines_to_next_cell": 2
   },
   "outputs": [],
   "source": [
    "# QUERY THE DATA ONCE\n",
    "query_job = bigquery_client.query(query)\n",
    "covid19_cases_data = query_job.to_dataframe()\n",
    "print(covid19_cases_data)"
   ]
  }
 ],
 "metadata": {
  "jupytext": {
   "cell_metadata_filter": "-all",
   "main_language": "python",
   "notebook_metadata_filter": "-all"
  }
 },
 "nbformat": 4,
 "nbformat_minor": 5
}
