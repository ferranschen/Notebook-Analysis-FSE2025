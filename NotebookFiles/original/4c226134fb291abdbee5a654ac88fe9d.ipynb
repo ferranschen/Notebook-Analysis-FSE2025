{
 "cells": [
  {
   "cell_type": "code",
   "execution_count": null,
   "id": "1eb045ac",
   "metadata": {},
   "outputs": [],
   "source": [
    "get_ipython().run_cell_magic('capture', '', \"%logstop\\n%logstart -t -r -q ipython_command_log.py global\\n\\n#- IRONHACKS RESEARCH TRACKING CODE\\n#----------------------------------\\n# The following code is used to help our research team understand how you \\n# our notebook environment. We do not collect any personal information with\\n# the following code, it is used to measure when and how often you work on\\n# your submission files.\\n\\nimport os\\nfrom datetime import datetime\\nimport IPython.core.history as history\\n\\nha = history.HistoryAccessor()\\nha_tail = ha.get_tail(1)\\nha_cmd = next(ha_tail)\\nsession_id = str(ha_cmd[0])\\ncommand_id = str(ha_cmd[1])\\ntimestamp = datetime.utcnow().isoformat()\\nhistory_line = ','.join([session_id, command_id, timestamp]) + '\\\\n'\\nlogfile = open(os.environ['HOME']+'/ipython_session_log.csv', 'a')\\nlogfile.write(history_line)\\nlogfile.close()\\n\")"
   ]
  },
  {
   "cell_type": "code",
   "execution_count": null,
   "id": "8f1297ee",
   "metadata": {},
   "outputs": [],
   "source": [
    "get_ipython().run_cell_magic('capture', '', \"\\n#- INSTALL ADDITIONAL LIBRARIES IF REQUIRED\\n#------------------------------------------\\n# This is normally not required. The hub environment comes preinstaled with \\n# many packages that you can already use without setup. In case there is some\\n# other library you would like to use that isn't on the list you run this command\\n# once to install them.  If it is already installed this command has no effect.\\n\\n!python3 -m pip install pandas\\n\")"
   ]
  },
  {
   "cell_type": "markdown",
   "id": "fe67b553",
   "metadata": {},
   "source": [
    "- IMPORT THE LIBRARIES YOU WILL USE\n",
    "------------------------------------------\n",
    "You only need to import packages one time per notebook session. To keep your\n",
    "notebook clean and organized you can handle all imports at the top of your file.\n",
    "The following are included for example purposed, feel free to modify or delete \n",
    "anything in this section."
   ]
  },
  {
   "cell_type": "code",
   "execution_count": null,
   "id": "976478ea",
   "metadata": {
    "lines_to_next_cell": 1
   },
   "outputs": [],
   "source": [
    "import csv\n",
    "import pandas as pd\n",
    "import numpy as np\n",
    "from google.cloud import bigquery\n",
    "from google.oauth2 import service_account\n",
    "from google.cloud.bigquery import magics"
   ]
  },
  {
   "cell_type": "markdown",
   "id": "c1393e3a",
   "metadata": {},
   "source": [
    "- DEFINE YOUR CLASSES AND FUNCTIONS \n",
    "-----------------------------------\n",
    "This is not required, but is helpful in keeping your notebook organized. \n",
    "You can use the following cell or several cells to define your functions\n",
    "and classes to keep them separate from your analysis or results code.\n",
    "In general it useful to define your methods in a separate cell from where\n",
    "it is run."
   ]
  },
  {
   "cell_type": "code",
   "execution_count": null,
   "id": "7c57b29e",
   "metadata": {
    "lines_to_next_cell": 1
   },
   "outputs": [],
   "source": [
    "def example_function():\n",
    "    print('Hello World')"
   ]
  },
  {
   "cell_type": "code",
   "execution_count": null,
   "id": "6bd55e2b",
   "metadata": {
    "lines_to_next_cell": 1
   },
   "outputs": [],
   "source": [
    "BIGQUERY_PROJECT = 'ironhacks-data'\n",
    "bigquery_client = bigquery.Client(project=BIGQUERY_PROJECT)"
   ]
  },
  {
   "cell_type": "code",
   "execution_count": null,
   "id": "05a85939",
   "metadata": {
    "lines_to_next_cell": 1
   },
   "outputs": [],
   "source": [
    "def get_data(table_name):\n",
    "    query = f\"\"\"\n",
    "    SELECT *\n",
    "    FROM `ironhacks-data.ironhacks_competition.{table_name}`\n",
    "    \"\"\"\n",
    "\n",
    "    # QUERY THE DATA ONCE\n",
    "    query_job = bigquery_client.query(query)\n",
    "    return query_job.to_dataframe()"
   ]
  },
  {
   "cell_type": "code",
   "execution_count": null,
   "id": "637171e9",
   "metadata": {},
   "outputs": [],
   "source": [
    "unemploy = get_data('unemployment_data')"
   ]
  },
  {
   "cell_type": "code",
   "execution_count": null,
   "id": "b39fe6e5",
   "metadata": {},
   "outputs": [],
   "source": [
    "wage = get_data('wage_data')"
   ]
  },
  {
   "cell_type": "code",
   "execution_count": null,
   "id": "6666dc6c",
   "metadata": {},
   "outputs": [],
   "source": [
    "sub = get_data('prediction_list')"
   ]
  },
  {
   "cell_type": "code",
   "execution_count": null,
   "id": "b9f3be10",
   "metadata": {},
   "outputs": [],
   "source": [
    "pred = unemploy.groupby('uu_id')['total_claims'].mean().apply(lambda x: int(x))"
   ]
  },
  {
   "cell_type": "code",
   "execution_count": null,
   "id": "3571993e",
   "metadata": {},
   "outputs": [],
   "source": [
    "pred = unemploy.groupby('uu_id').apply(lambda x: x.sort_values('week_number')['total_claims'].ewm(alpha=1/3).mean().to_numpy()[-1])"
   ]
  },
  {
   "cell_type": "code",
   "execution_count": null,
   "id": "a7266af5",
   "metadata": {},
   "outputs": [],
   "source": [
    "pred = pred[sub['uu_id'].to_list()]"
   ]
  },
  {
   "cell_type": "code",
   "execution_count": null,
   "id": "cbd84444",
   "metadata": {},
   "outputs": [],
   "source": [
    "pred = pd.DataFrame({\n",
    "    'uu_id': pred.index,\n",
    "    'week_number': 39,\n",
    "    'total_claims': pred.to_list()\n",
    "})"
   ]
  },
  {
   "cell_type": "code",
   "execution_count": null,
   "id": "8b0a4e25",
   "metadata": {},
   "outputs": [],
   "source": [
    "pred"
   ]
  },
  {
   "cell_type": "code",
   "execution_count": null,
   "id": "6335838c",
   "metadata": {},
   "outputs": [],
   "source": [
    "pred.to_csv('submission_prediction_output.csv', index=False)"
   ]
  },
  {
   "cell_type": "code",
   "execution_count": null,
   "id": "4aa44b12",
   "metadata": {},
   "outputs": [],
   "source": [
    "pred = pd.DataFrame({\n",
    "    'uu_id': pred.index,\n",
    "    'week_number': 39,\n",
    "    'total_claims': pred.to_numpy()\n",
    "})"
   ]
  },
  {
   "cell_type": "code",
   "execution_count": null,
   "id": "fc86dadd",
   "metadata": {},
   "outputs": [],
   "source": [
    "pred = pd.DataFrame({\n",
    "    'uu_id': pred.index,\n",
    "    'week_number': 39,\n",
    "    'total_claims': pred.to_list()\n",
    "})"
   ]
  },
  {
   "cell_type": "code",
   "execution_count": null,
   "id": "5dc76e84",
   "metadata": {},
   "outputs": [],
   "source": [
    "pred = unemploy.groupby('uu_id')['total_claims'].mean().apply(lambda x: int(x))"
   ]
  },
  {
   "cell_type": "code",
   "execution_count": null,
   "id": "7027f387",
   "metadata": {},
   "outputs": [],
   "source": [
    "pred = unemploy.groupby('uu_id').apply(lambda x: x.sort_values('week_number')['total_claims'].ewm(alpha=1/3).mean().to_numpy()[-1])"
   ]
  },
  {
   "cell_type": "code",
   "execution_count": null,
   "id": "49a10251",
   "metadata": {},
   "outputs": [],
   "source": [
    "pred = pred[sub['uu_id'].to_list()]"
   ]
  },
  {
   "cell_type": "code",
   "execution_count": null,
   "id": "fea925b9",
   "metadata": {},
   "outputs": [],
   "source": [
    "pred = pd.DataFrame({\n",
    "    'uu_id': pred.index,\n",
    "    'week_number': 39,\n",
    "    'total_claims': pred.to_numpy()\n",
    "})"
   ]
  },
  {
   "cell_type": "code",
   "execution_count": null,
   "id": "c481ae6a",
   "metadata": {},
   "outputs": [],
   "source": [
    "pred = unemploy.groupby('uu_id')['total_claims'].mean().apply(lambda x: int(x))"
   ]
  },
  {
   "cell_type": "code",
   "execution_count": null,
   "id": "635d1a17",
   "metadata": {},
   "outputs": [],
   "source": [
    "pred = unemploy.groupby('uu_id').apply(lambda x: x.sort_values('week_number')['total_claims'].ewm(alpha=1/3).mean().to_numpy()[-1])"
   ]
  },
  {
   "cell_type": "code",
   "execution_count": null,
   "id": "57ec4e58",
   "metadata": {},
   "outputs": [],
   "source": [
    "pred = pred[sub['uu_id'].to_list()]"
   ]
  },
  {
   "cell_type": "code",
   "execution_count": null,
   "id": "b0e1fc0f",
   "metadata": {},
   "outputs": [],
   "source": [
    "df = pd.DataFrame({\n",
    "    'uu_id': pred.index,\n",
    "    'week_number': 39,\n",
    "    'total_claims': pred.to_numpy().as_type(np.int)\n",
    "})"
   ]
  },
  {
   "cell_type": "code",
   "execution_count": null,
   "id": "1f731f7a",
   "metadata": {},
   "outputs": [],
   "source": [
    "df = pd.DataFrame({\n",
    "    'uu_id': pred.index,\n",
    "    'week_number': 39,\n",
    "    'total_claims': pred.to_numpy().astype(np.int)\n",
    "})"
   ]
  },
  {
   "cell_type": "code",
   "execution_count": null,
   "id": "b80b5f90",
   "metadata": {},
   "outputs": [],
   "source": [
    "df = pd.DataFrame({\n",
    "    'uu_id': pred.index,\n",
    "    'week_number': 39,\n",
    "    'total_claims': pred.to_numpy().astype(np.int32)\n",
    "})"
   ]
  },
  {
   "cell_type": "code",
   "execution_count": null,
   "id": "b06b1ef5",
   "metadata": {},
   "outputs": [],
   "source": [
    "df"
   ]
  },
  {
   "cell_type": "code",
   "execution_count": null,
   "id": "63ac8e44",
   "metadata": {},
   "outputs": [],
   "source": [
    "pred.to_csv('submission_prediction_output.csv', index=False)"
   ]
  },
  {
   "cell_type": "code",
   "execution_count": null,
   "id": "e5aa9cbf",
   "metadata": {
    "lines_to_next_cell": 2
   },
   "outputs": [],
   "source": [
    "df.to_csv('submission_prediction_output.csv', index=False)"
   ]
  }
 ],
 "metadata": {
  "jupytext": {
   "cell_metadata_filter": "-all",
   "main_language": "python",
   "notebook_metadata_filter": "-all"
  }
 },
 "nbformat": 4,
 "nbformat_minor": 5
}
