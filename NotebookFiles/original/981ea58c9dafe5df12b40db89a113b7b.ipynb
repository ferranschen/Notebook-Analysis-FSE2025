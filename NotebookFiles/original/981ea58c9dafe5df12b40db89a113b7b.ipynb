{
 "cells": [
  {
   "cell_type": "code",
   "execution_count": null,
   "id": "84f3871f",
   "metadata": {},
   "outputs": [],
   "source": [
    "data[data[\"top_category_employer1\"]]"
   ]
  },
  {
   "cell_type": "code",
   "execution_count": null,
   "id": "ad8aa782",
   "metadata": {},
   "outputs": [],
   "source": [
    "get_ipython().system('pip install db-dtypes')"
   ]
  },
  {
   "cell_type": "code",
   "execution_count": null,
   "id": "bee1518b",
   "metadata": {},
   "outputs": [],
   "source": [
    "import os\n",
    "import pandas\n",
    "from google.cloud import bigquery\n",
    "from google.oauth2 import service_account\n",
    "from google.cloud.bigquery import magics"
   ]
  },
  {
   "cell_type": "code",
   "execution_count": null,
   "id": "aa173931",
   "metadata": {},
   "outputs": [],
   "source": [
    "BIGQUERY_PROJECT = 'ironhacks-data'\n",
    "bigquery_client = bigquery.Client(project=BIGQUERY_PROJECT)"
   ]
  },
  {
   "cell_type": "code",
   "execution_count": null,
   "id": "b60bb3c3",
   "metadata": {},
   "outputs": [],
   "source": [
    "query = \"\"\"\n",
    "SELECT *\n",
    "FROM `ironhacks-data.ironhacks_competition.unemployment_data`\n",
    "\"\"\""
   ]
  },
  {
   "cell_type": "code",
   "execution_count": null,
   "id": "a097df8a",
   "metadata": {},
   "outputs": [],
   "source": [
    "# QUERY THE DATA ONCE\n",
    "query_job = bigquery_client.query(query)\n",
    "data = query_job.to_dataframe()\n",
    "data.head()"
   ]
  },
  {
   "cell_type": "code",
   "execution_count": null,
   "id": "454f918b",
   "metadata": {},
   "outputs": [],
   "source": [
    "data.info()"
   ]
  },
  {
   "cell_type": "code",
   "execution_count": null,
   "id": "4875e196",
   "metadata": {},
   "outputs": [],
   "source": [
    "data[data[\"top_category_employer1\"]]"
   ]
  },
  {
   "cell_type": "code",
   "execution_count": null,
   "id": "c8b41005",
   "metadata": {},
   "outputs": [],
   "source": [
    "data[\"top_category_employer1\"]"
   ]
  },
  {
   "cell_type": "code",
   "execution_count": null,
   "id": "7c9d1d6b",
   "metadata": {},
   "outputs": [],
   "source": [
    "data[[\"top_category_employer1\"]]"
   ]
  },
  {
   "cell_type": "code",
   "execution_count": null,
   "id": "87888f64",
   "metadata": {
    "lines_to_next_cell": 2
   },
   "outputs": [],
   "source": [
    "data[\"top_category_employer1\"].value_counts()"
   ]
  }
 ],
 "metadata": {
  "jupytext": {
   "cell_metadata_filter": "-all",
   "main_language": "python",
   "notebook_metadata_filter": "-all"
  }
 },
 "nbformat": 4,
 "nbformat_minor": 5
}
