{
 "cells": [
  {
   "cell_type": "markdown",
   "id": "45e9d631",
   "metadata": {},
   "source": [
    "CONFIGURE THE BIGQUERY SETTINGS"
   ]
  },
  {
   "cell_type": "code",
   "execution_count": 1,
   "id": "975a223f",
   "metadata": {},
   "outputs": [
    {
     "ename": "NameError",
     "evalue": "name 'bigquery' is not defined",
     "output_type": "error",
     "traceback": [
      "\u001b[0;31m---------------------------------------------------------------------------\u001b[0m",
      "\u001b[0;31mNameError\u001b[0m                                 Traceback (most recent call last)",
      "\u001b[0;32m/var/folders/l2/cnhff0_n1470l4xf0p7v7l_40000gn/T/ipykernel_4522/44561530.py\u001b[0m in \u001b[0;36m<module>\u001b[0;34m\u001b[0m\n\u001b[1;32m      1\u001b[0m \u001b[0mBIGQUERY_PROJECT\u001b[0m \u001b[0;34m=\u001b[0m \u001b[0;34m'ironhacks-data'\u001b[0m\u001b[0;34m\u001b[0m\u001b[0;34m\u001b[0m\u001b[0m\n\u001b[0;32m----> 2\u001b[0;31m \u001b[0mbigquery_client\u001b[0m \u001b[0;34m=\u001b[0m \u001b[0mbigquery\u001b[0m\u001b[0;34m.\u001b[0m\u001b[0mClient\u001b[0m\u001b[0;34m(\u001b[0m\u001b[0mproject\u001b[0m\u001b[0;34m=\u001b[0m\u001b[0mBIGQUERY_PROJECT\u001b[0m\u001b[0;34m)\u001b[0m\u001b[0;34m\u001b[0m\u001b[0;34m\u001b[0m\u001b[0m\n\u001b[0m",
      "\u001b[0;31mNameError\u001b[0m: name 'bigquery' is not defined"
     ]
    }
   ],
   "source": [
    "BIGQUERY_PROJECT = 'ironhacks-data'\n",
    "bigquery_client = bigquery.Client(project=BIGQUERY_PROJECT)"
   ]
  },
  {
   "cell_type": "code",
   "execution_count": 2,
   "id": "b4451ffb",
   "metadata": {},
   "outputs": [],
   "source": [
    "import os\n",
    "import pandas\n",
    "from google.cloud import bigquery\n",
    "from google.oauth2 import service_account\n",
    "from google.cloud.bigquery import magics"
   ]
  },
  {
   "cell_type": "markdown",
   "id": "5e36831b",
   "metadata": {},
   "source": [
    "CONFIGURE THE BIGQUERY SETTINGS"
   ]
  },
  {
   "cell_type": "code",
   "execution_count": 3,
   "id": "40373c7f",
   "metadata": {},
   "outputs": [],
   "source": [
    "BIGQUERY_PROJECT = 'ironhacks-data'\n",
    "bigquery_client = bigquery.Client(project=BIGQUERY_PROJECT)"
   ]
  },
  {
   "cell_type": "code",
   "execution_count": 4,
   "id": "ddcbd3fb",
   "metadata": {},
   "outputs": [],
   "source": [
    "import os\n",
    "import pandas\n",
    "from google.cloud import bigquery\n",
    "from google.oauth2 import service_account\n",
    "from google.cloud.bigquery import magics"
   ]
  },
  {
   "cell_type": "markdown",
   "id": "afbdf546",
   "metadata": {},
   "source": [
    "CONFIGURE THE BIGQUERY SETTINGS"
   ]
  },
  {
   "cell_type": "code",
   "execution_count": 5,
   "id": "6b455d01",
   "metadata": {},
   "outputs": [],
   "source": [
    "BIGQUERY_PROJECT = 'ironhacks-data'\n",
    "bigquery_client = bigquery.Client(project=BIGQUERY_PROJECT)"
   ]
  },
  {
   "cell_type": "markdown",
   "id": "b7cf3ad1",
   "metadata": {},
   "source": [
    "CONFIGURE THE BIGQUERY SETTINGS"
   ]
  },
  {
   "cell_type": "code",
   "execution_count": 6,
   "id": "19b5f878",
   "metadata": {},
   "outputs": [],
   "source": [
    "BIGQUERY_PROJECT = 'ironhacks-data'\n",
    "bigquery_client = bigquery.Client(project=BIGQUERY_PROJECT)"
   ]
  },
  {
   "cell_type": "markdown",
   "id": "15e3bd70",
   "metadata": {},
   "source": [
    "CONFIGURE THE BIGQUERY SETTINGS"
   ]
  },
  {
   "cell_type": "code",
   "execution_count": 7,
   "id": "5dd0e6c5",
   "metadata": {},
   "outputs": [],
   "source": [
    "BIGQUERY_PROJECT = 'ironhacks-data'\n",
    "bigquery_client = bigquery.Client(project=BIGQUERY_PROJECT)"
   ]
  },
  {
   "cell_type": "code",
   "execution_count": 8,
   "id": "1826b2e6",
   "metadata": {},
   "outputs": [],
   "source": [
    "query = \"\"\"\n",
    "SELECT *\n",
    "FROM `ironhacks-data.ironhacks_training.covid19_cases`\n",
    "\"\"\""
   ]
  },
  {
   "cell_type": "code",
   "execution_count": 9,
   "id": "d853d896",
   "metadata": {},
   "outputs": [],
   "source": [
    "# QUERY THE DATA ONCE\n",
    "query_job = bigquery_client.query(query)\n",
    "covid19_cases_data = query_job.to_dataframe()"
   ]
  },
  {
   "cell_type": "code",
   "execution_count": 10,
   "id": "da9c4616",
   "metadata": {},
   "outputs": [
    {
     "name": "stdout",
     "output_type": "stream",
     "text": [
      "Columns:\n",
      "week_number\n",
      "start_date\n",
      "county\n",
      "fips\n",
      "cases\n",
      "deaths\n",
      "\n",
      "Results:\n",
      "   week_number  start_date  county   fips  cases  deaths\n",
      "0            9  2021-03-01  Marion  18097    664      23\n",
      "1           12  2021-03-22  Marion  18097    623      11\n",
      "2           19  2021-05-10  Marion  18097   1156       4\n",
      "3           11  2021-03-15  Marion  18097    560      13\n",
      "4            6  2021-02-08  Marion  18097   1542     219\n"
     ]
    }
   ],
   "source": [
    "# THEN WORK BELOW TO DO SOMETHING THE RESULTS\n",
    "print(\"Columns:\")\n",
    "print('\\n'.join(covid19_cases_data.columns))\n",
    "print(\"\\nResults:\")\n",
    "print(covid19_cases_data.head())"
   ]
  },
  {
   "cell_type": "code",
   "execution_count": 11,
   "id": "58b629b8",
   "metadata": {},
   "outputs": [],
   "source": [
    "query = \"\"\"\n",
    "SELECT COUNT(*)\n",
    "FROM `ironhacks-data.ironhacks_training.covid19_cases`\n",
    "\"\"\""
   ]
  },
  {
   "cell_type": "code",
   "execution_count": 12,
   "id": "719a42cb",
   "metadata": {},
   "outputs": [],
   "source": [
    "query_job = bigquery_client.query(query)\n",
    "covid19_cases_data = query_job.to_dataframe()"
   ]
  },
  {
   "cell_type": "code",
   "execution_count": 13,
   "id": "57898561",
   "metadata": {},
   "outputs": [
    {
     "name": "stdout",
     "output_type": "stream",
     "text": [
      "   f0_\n",
      "0   46\n"
     ]
    }
   ],
   "source": [
    "print(covid19_cases_data)"
   ]
  },
  {
   "cell_type": "code",
   "execution_count": 14,
   "id": "8eed9bfe",
   "metadata": {},
   "outputs": [],
   "source": [
    "query = \"\"\"\n",
    "SELECT \n",
    "week_number,\n",
    "cases \n",
    "FROM `ironhacks-data.ironhacks_training.covid19_cases`\n",
    "Where week_number between 1 and 3\n",
    "order by week_number\n",
    "\"\"\""
   ]
  },
  {
   "cell_type": "code",
   "execution_count": 15,
   "id": "70bd0191",
   "metadata": {},
   "outputs": [],
   "source": [
    "query_job = bigquery_client.query(query)\n",
    "covid19_cases_data = query_job.to_dataframe()"
   ]
  },
  {
   "cell_type": "code",
   "execution_count": 16,
   "id": "744e8423",
   "metadata": {},
   "outputs": [
    {
     "name": "stdout",
     "output_type": "stream",
     "text": [
      "   week_number  cases\n",
      "0            1   4714\n",
      "1            1    964\n",
      "2            2   5289\n",
      "3            2   1232\n",
      "4            3   3460\n"
     ]
    }
   ],
   "source": [
    "print(covid19_cases_data.head())"
   ]
  },
  {
   "cell_type": "code",
   "execution_count": 17,
   "id": "f00cf677",
   "metadata": {
    "lines_to_next_cell": 2
   },
   "outputs": [
    {
     "name": "stdout",
     "output_type": "stream",
     "text": [
      "mean:  cases    2732.666667\n",
      "dtype: float64\n"
     ]
    }
   ],
   "source": [
    "df = pandas.DataFrame(covid19_cases_data, columns = ['cases'])\n",
    "print(\"mean: \", df.mean()); "
   ]
  }
 ],
 "metadata": {
  "jupytext": {
   "cell_metadata_filter": "-all",
   "main_language": "python",
   "notebook_metadata_filter": "-all"
  },
  "kernelspec": {
   "display_name": "base",
   "language": "python",
   "name": "python3"
  },
  "language_info": {
   "codemirror_mode": {
    "name": "ipython",
    "version": 3
   },
   "file_extension": ".py",
   "mimetype": "text/x-python",
   "name": "python",
   "nbconvert_exporter": "python",
   "pygments_lexer": "ipython3",
   "version": "3.9.7"
  }
 },
 "nbformat": 4,
 "nbformat_minor": 5
}
