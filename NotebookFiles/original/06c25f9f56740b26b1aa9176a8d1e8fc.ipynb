{
 "cells": [
  {
   "cell_type": "code",
   "execution_count": null,
   "id": "4e772a2f",
   "metadata": {},
   "outputs": [],
   "source": [
    "import os\n",
    "import pandas as pd\n",
    "import db_dtypes\n",
    "from google.cloud import bigquery\n",
    "from google.oauth2 import service_account\n",
    "from google.cloud.bigquery import magics"
   ]
  },
  {
   "cell_type": "markdown",
   "id": "f1321d9d",
   "metadata": {},
   "source": [
    "CONFIGURE THE BIGQUERY SETTINGS"
   ]
  },
  {
   "cell_type": "code",
   "execution_count": null,
   "id": "de8663d5",
   "metadata": {},
   "outputs": [],
   "source": [
    "BIGQUERY_PROJECT = 'ironhacks-data'\n",
    "bigquery_client = bigquery.Client(project=BIGQUERY_PROJECT)"
   ]
  },
  {
   "cell_type": "code",
   "execution_count": null,
   "id": "60bd52de",
   "metadata": {},
   "outputs": [],
   "source": [
    "query = \"\"\"\n",
    "SELECT *\n",
    "FROM `ironhacks-data.ironhacks_competition.unemployment_data`\n",
    "\"\"\""
   ]
  },
  {
   "cell_type": "code",
   "execution_count": null,
   "id": "859ad41c",
   "metadata": {},
   "outputs": [],
   "source": [
    "# QUERY THE DATA ONCE\n",
    "query_job = bigquery_client.query(query)\n",
    "print(query_job)\n",
    "unemployment_data = query_job.to_dataframe()"
   ]
  },
  {
   "cell_type": "code",
   "execution_count": null,
   "id": "a084a385",
   "metadata": {},
   "outputs": [],
   "source": [
    "unemployment_data = unemployment_data.drop_duplicates()\n",
    "unemployment_data.shape"
   ]
  },
  {
   "cell_type": "code",
   "execution_count": null,
   "id": "ad73aefb",
   "metadata": {},
   "outputs": [],
   "source": [
    "k = unemployment_data.copy()"
   ]
  },
  {
   "cell_type": "code",
   "execution_count": null,
   "id": "9e5e6886",
   "metadata": {},
   "outputs": [],
   "source": [
    "## number of unique ids are matching the number of entries in the wage_data set\n",
    "import numpy as np\n",
    "pd.unique(k.uu_id).shape"
   ]
  },
  {
   "cell_type": "code",
   "execution_count": null,
   "id": "f8ea4662",
   "metadata": {},
   "outputs": [],
   "source": [
    "query = \"\"\"\n",
    "SELECT *\n",
    "FROM `ironhacks-data.ironhacks_competition.wage_data`\n",
    "\"\"\""
   ]
  },
  {
   "cell_type": "code",
   "execution_count": null,
   "id": "ba0f65e9",
   "metadata": {},
   "outputs": [],
   "source": [
    "# QUERY THE DATA ONCE\n",
    "query_job = bigquery_client.query(query)\n",
    "print(query_job)\n",
    "wage_data = query_job.to_dataframe()"
   ]
  },
  {
   "cell_type": "code",
   "execution_count": null,
   "id": "67dab7c0",
   "metadata": {},
   "outputs": [],
   "source": [
    "wage_data = pd.DataFrame(wage_data)\n",
    "wage_data.head()"
   ]
  },
  {
   "cell_type": "code",
   "execution_count": null,
   "id": "036ea641",
   "metadata": {},
   "outputs": [],
   "source": [
    "wage_data = wage_data.drop_duplicates()\n",
    "wage_data.shape\n",
    "## no duplicates here!"
   ]
  },
  {
   "cell_type": "code",
   "execution_count": null,
   "id": "d125ca0d",
   "metadata": {},
   "outputs": [],
   "source": [
    "pd.unique(wage_data.uu_id).shape"
   ]
  },
  {
   "cell_type": "code",
   "execution_count": null,
   "id": "953ba25b",
   "metadata": {},
   "outputs": [],
   "source": [
    "## lets join the 2 datasets on uu_id\n",
    "unemployment_data.columns, wage_data.columns"
   ]
  },
  {
   "cell_type": "code",
   "execution_count": null,
   "id": "df78c85d",
   "metadata": {},
   "outputs": [],
   "source": [
    "data=pd.merge(unemployment_data,wage_data, how='inner')\n",
    "print(data.shape)"
   ]
  },
  {
   "cell_type": "code",
   "execution_count": null,
   "id": "4e34a263",
   "metadata": {},
   "outputs": [],
   "source": [
    "data.columns"
   ]
  },
  {
   "cell_type": "code",
   "execution_count": null,
   "id": "5dfa01bb",
   "metadata": {},
   "outputs": [],
   "source": [
    "pd.set_option('display.max_columns', None)  # or 1000\n",
    "pd.set_option('display.max_rows', None)  # or 1000\n",
    "pd.set_option('display.max_colwidth', None)  # or 199\n",
    "data.head()"
   ]
  },
  {
   "cell_type": "code",
   "execution_count": null,
   "id": "ed14b269",
   "metadata": {
    "lines_to_next_cell": 1
   },
   "outputs": [],
   "source": [
    "data.isna().sum()"
   ]
  },
  {
   "cell_type": "markdown",
   "id": "ce9f77f4",
   "metadata": {},
   "source": [
    "df = pd.DataFrame()\n",
    "df[['Value1', 'Value2']] = data['top_category_employer1'].str.split('-', 1, expand=True)\n",
    "## replace the null values by the value before hypen\n",
    "df['Value2'].fillna(df['Value1'],inplace=True)"
   ]
  },
  {
   "cell_type": "markdown",
   "id": "c7b8c273",
   "metadata": {},
   "source": [
    "df['Value1'] = pd.to_numeric(df['Value1'])\n",
    "df['Value2'] = pd.to_numeric(df['Value2'])"
   ]
  },
  {
   "cell_type": "markdown",
   "id": "bab299bd",
   "metadata": {},
   "source": [
    "df['Value3'] = (df['Value1']+df['Value2'])//2"
   ]
  },
  {
   "cell_type": "code",
   "execution_count": null,
   "id": "39398219",
   "metadata": {
    "lines_to_next_cell": 1
   },
   "outputs": [],
   "source": [
    "def breakcolumn(a,data):\n",
    "    df=pd.DataFrame()\n",
    "    df[['Value1', 'Value2']] = data[a].str.split('-', 1, expand=True)\n",
    "    ## replace the null values by the value before hypen\n",
    "    df['Value2'].fillna(df['Value1'],inplace=True)\n",
    "\n",
    "    df['Value1'] = pd.to_numeric(df['Value1'])\n",
    "    df['Value2'] = pd.to_numeric(df['Value2'])\n",
    "\n",
    "    df['Value3'] = (df['Value1']+df['Value2'])//2\n",
    "    data[a] = df['Value3']"
   ]
  },
  {
   "cell_type": "code",
   "execution_count": null,
   "id": "243ab05b",
   "metadata": {},
   "outputs": [],
   "source": [
    "data1 = data.copy()\n",
    "obj_list = ['top_category_employer1','top_category_employer2','top_category_employer3']\n",
    "for i in obj_list:\n",
    "    data1[i].replace('N/A',0,inplace=True)\n",
    "    breakcolumn(i,data1)"
   ]
  },
  {
   "cell_type": "code",
   "execution_count": null,
   "id": "2395a872",
   "metadata": {},
   "outputs": [],
   "source": [
    "data1.head()    "
   ]
  },
  {
   "cell_type": "code",
   "execution_count": null,
   "id": "6595a536",
   "metadata": {},
   "outputs": [],
   "source": [
    "data1.info()"
   ]
  },
  {
   "cell_type": "code",
   "execution_count": null,
   "id": "4150a360",
   "metadata": {},
   "outputs": [],
   "source": [
    "data1['race_black'].fillna(0,inplace=True)\n",
    "data1['race_other'].fillna(0,inplace=True)\n",
    "data1['club_races'] = data1['race_black'] + data1['race_other']\n",
    "data1.drop(['race_black','race_other'],axis=1,inplace=True)"
   ]
  },
  {
   "cell_type": "code",
   "execution_count": null,
   "id": "fb21fade",
   "metadata": {},
   "outputs": [],
   "source": [
    "data1.info()"
   ]
  },
  {
   "cell_type": "code",
   "execution_count": null,
   "id": "8a2d781a",
   "metadata": {},
   "outputs": [],
   "source": [
    "data1.drop(['gender_male','gender_male','race_white','edu_grades_9_11','edu_hs_grad_equiv','edu_post_hs'],axis=1,inplace=True)\n",
    "data1.info()"
   ]
  },
  {
   "cell_type": "code",
   "execution_count": null,
   "id": "a5fb25e6",
   "metadata": {},
   "outputs": [],
   "source": [
    "data1.fillna(method='bfill',inplace=True)\n",
    "data1.info()"
   ]
  },
  {
   "cell_type": "code",
   "execution_count": null,
   "id": "e2086490",
   "metadata": {},
   "outputs": [],
   "source": [
    "data1['race_asian'] = data1['race_asian'].fillna(int(np.mean(data1['race_asian'])))\n",
    "data1['race_noanswer'] = data1['race_noanswer'].fillna(int(np.mean(data1['race_noanswer'])))\n",
    "data1['edu_unknown'] = data1['edu_unknown'].fillna(int(np.mean(data1['edu_unknown'])))\n",
    "data1['gender_female'] = data1['gender_female'].fillna(int(np.mean(data1['gender_female'])))\n",
    "data1['top_category_employer3'] = data1['top_category_employer3'].fillna(int(np.mean(data1['top_category_employer3'])))"
   ]
  },
  {
   "cell_type": "code",
   "execution_count": null,
   "id": "8a910826",
   "metadata": {},
   "outputs": [],
   "source": [
    "from sklearn import preprocessing\n",
    "# label_encoder object knows how to understand word labels. \n",
    "label_encoder = preprocessing.LabelEncoder()\n",
    "# Encode labels in column 'Country'. \n",
    "data1['tract_name']= label_encoder.fit_transform(data1['tract_name']) "
   ]
  },
  {
   "cell_type": "code",
   "execution_count": null,
   "id": "c8123ea8",
   "metadata": {},
   "outputs": [],
   "source": [
    "data2 = data1.copy()\n",
    "data1['uu_id']= label_encoder.fit_transform(data1['uu_id']) "
   ]
  },
  {
   "cell_type": "code",
   "execution_count": null,
   "id": "84140569",
   "metadata": {},
   "outputs": [],
   "source": [
    "data1.info()"
   ]
  },
  {
   "cell_type": "code",
   "execution_count": null,
   "id": "1b80345d",
   "metadata": {},
   "outputs": [],
   "source": [
    "X = data1.drop('total_claims',axis=1)\n",
    "y = data1['total_claims']\n",
    "from sklearn.model_selection import train_test_split\n",
    "X_train,X_test,y_train,y_test = train_test_split(X,y,test_size = 0.25,random_state = 42)"
   ]
  },
  {
   "cell_type": "code",
   "execution_count": null,
   "id": "88e93bd3",
   "metadata": {},
   "outputs": [],
   "source": [
    "from sklearn.linear_model import LinearRegression\n",
    "linreg = LinearRegression()\n",
    "linreg.fit(X_train,y_train)\n",
    "y_pred = linreg.predict(X_test)"
   ]
  },
  {
   "cell_type": "code",
   "execution_count": null,
   "id": "b4a9a054",
   "metadata": {},
   "outputs": [],
   "source": [
    "y_pred = np.round(y_pred)\n",
    "from sklearn.metrics import mean_squared_error\n",
    "mean_squared_error(y_test,y_pred)"
   ]
  },
  {
   "cell_type": "code",
   "execution_count": null,
   "id": "676c89d4",
   "metadata": {
    "lines_to_next_cell": 1
   },
   "outputs": [],
   "source": [
    "y_pred"
   ]
  },
  {
   "cell_type": "code",
   "execution_count": null,
   "id": "9ff49223",
   "metadata": {
    "lines_to_next_cell": 1
   },
   "outputs": [],
   "source": [
    "## MAPE function\n",
    "def MAPE(Y_actual,Y_Predicted):\n",
    "    mape = np.mean(np.abs((Y_actual - Y_Predicted)/Y_actual))*100\n",
    "    return mape"
   ]
  },
  {
   "cell_type": "code",
   "execution_count": null,
   "id": "e89f3ae3",
   "metadata": {},
   "outputs": [],
   "source": [
    "print(MAPE(y_test,y_pred))"
   ]
  },
  {
   "cell_type": "code",
   "execution_count": null,
   "id": "be8fb97c",
   "metadata": {},
   "outputs": [],
   "source": [
    "from sklearn.ensemble import RandomForestRegressor\n",
    "rfr = RandomForestRegressor(n_estimators = 500, random_state = 0)\n",
    "rfr.fit(X_train, y_train)"
   ]
  },
  {
   "cell_type": "code",
   "execution_count": null,
   "id": "0fa9492c",
   "metadata": {},
   "outputs": [],
   "source": [
    "y_pred = rfr.predict(X_test)"
   ]
  },
  {
   "cell_type": "code",
   "execution_count": null,
   "id": "35c32b47",
   "metadata": {},
   "outputs": [],
   "source": [
    "y_pred = np.round(y_pred)"
   ]
  },
  {
   "cell_type": "code",
   "execution_count": null,
   "id": "66228baf",
   "metadata": {},
   "outputs": [],
   "source": [
    "from sklearn.metrics import mean_squared_error\n",
    "mean_squared_error(y_test,y_pred)"
   ]
  },
  {
   "cell_type": "code",
   "execution_count": null,
   "id": "415bc603",
   "metadata": {},
   "outputs": [],
   "source": [
    "X2 = X.copy()"
   ]
  },
  {
   "cell_type": "code",
   "execution_count": null,
   "id": "c3f462e6",
   "metadata": {},
   "outputs": [],
   "source": [
    "X2 = X2.apply(lambda iterator: ((iterator - iterator.mean())/iterator.std()).round(2))"
   ]
  },
  {
   "cell_type": "code",
   "execution_count": null,
   "id": "2d8bc5c4",
   "metadata": {},
   "outputs": [],
   "source": [
    "X_train,X_test,y_train,y_test = train_test_split(X2,y,test_size = 0.25,random_state = 42)"
   ]
  },
  {
   "cell_type": "code",
   "execution_count": null,
   "id": "f38300a2",
   "metadata": {},
   "outputs": [],
   "source": [
    "from sklearn.linear_model import LinearRegression\n",
    "linreg = LinearRegression()\n",
    "linreg.fit(X_train,y_train)\n",
    "y_pred = linreg.predict(X_test)"
   ]
  },
  {
   "cell_type": "code",
   "execution_count": null,
   "id": "204722d4",
   "metadata": {},
   "outputs": [],
   "source": [
    "y_pred = np.round(y_pred)\n",
    "from sklearn.metrics import mean_squared_error\n",
    "mean_squared_error(y_test,y_pred)"
   ]
  },
  {
   "cell_type": "code",
   "execution_count": null,
   "id": "e1ca12d7",
   "metadata": {},
   "outputs": [],
   "source": [
    "from sklearn.ensemble import RandomForestRegressor\n",
    "rfr = RandomForestRegressor(n_estimators = 600, random_state = 0)\n",
    "rfr.fit(X_train, y_train)"
   ]
  },
  {
   "cell_type": "code",
   "execution_count": null,
   "id": "35bbe75d",
   "metadata": {},
   "outputs": [],
   "source": [
    "y_pred = rfr.predict(X_test)\n",
    "y_pred = np.round(y_pred)\n",
    "from sklearn.metrics import mean_squared_error\n",
    "mean_squared_error(y_test,y_pred)"
   ]
  },
  {
   "cell_type": "code",
   "execution_count": null,
   "id": "cd5e1615",
   "metadata": {},
   "outputs": [],
   "source": [
    "y_pred"
   ]
  },
  {
   "cell_type": "markdown",
   "id": "33ef4550",
   "metadata": {},
   "source": [
    "from sklearn.model_selection import GridSearchCV\n",
    "# Create the parameter grid based on the results of random search \n",
    "param_grid = {\n",
    "    'bootstrap': [True],\n",
    "    'max_depth': [10,20,5,4,25,50],\n",
    "    'max_features': [2, 3],\n",
    "    'min_samples_leaf': [3, 4, 5],\n",
    "    'min_samples_split': [8, 10, 12],\n",
    "    'n_estimators': [100, 200, 300, 1000]\n",
    "}\n",
    "# Create a based model\n",
    "rf = RandomForestRegressor()\n",
    "# Instantiate the grid search model\n",
    "grid_search = GridSearchCV(estimator = rf, param_grid = param_grid, \n",
    "                          cv = 3, n_jobs = -1, verbose = 2)"
   ]
  },
  {
   "cell_type": "markdown",
   "id": "88871b62",
   "metadata": {},
   "source": [
    "grid_search.fit(X_train,y_train)"
   ]
  },
  {
   "cell_type": "markdown",
   "id": "6ddd7534",
   "metadata": {},
   "source": [
    "grid_search.best_params_\n",
    "y_pred = grid_search.predict(X_test)\n",
    "mean_squared_error(y_test,y_pred)"
   ]
  },
  {
   "cell_type": "code",
   "execution_count": null,
   "id": "71b2f9d4",
   "metadata": {},
   "outputs": [],
   "source": [
    "get_ipython().system('pip install xgboost')\n",
    "from xgboost.sklearn import XGBRegressor\n",
    "regressor = XGBRegressor(\n",
    "    n_estimators=500,\n",
    "    reg_lambda=1,\n",
    "    gamma=0,\n",
    "    max_depth=3)"
   ]
  },
  {
   "cell_type": "code",
   "execution_count": null,
   "id": "a1f43199",
   "metadata": {},
   "outputs": [],
   "source": [
    "regressor.fit(X_train, y_train)\n",
    "y_pred = regressor.predict(X_test)\n",
    "mean_squared_error(y_test,y_pred)"
   ]
  },
  {
   "cell_type": "code",
   "execution_count": null,
   "id": "50718667",
   "metadata": {},
   "outputs": [],
   "source": [
    "from xgboost.sklearn import XGBRegressor\n",
    "from sklearn.model_selection import GridSearchCV"
   ]
  },
  {
   "cell_type": "code",
   "execution_count": null,
   "id": "2934b680",
   "metadata": {},
   "outputs": [],
   "source": [
    "xgb1 = XGBRegressor()\n",
    "parameters = {'nthread':[4], #when use hyperthread, xgboost may become slower\n",
    "              'objective':['reg:linear'],\n",
    "              'learning_rate': [.03, 0.05, .07], #so called `eta` value\n",
    "              'max_depth': [5, 6, 7],\n",
    "              'min_child_weight': [4],\n",
    "              'subsample': [0.7],\n",
    "              'colsample_bytree': [0.7],\n",
    "              'n_estimators': [400,500,600,100]}"
   ]
  },
  {
   "cell_type": "code",
   "execution_count": null,
   "id": "9d602778",
   "metadata": {},
   "outputs": [],
   "source": [
    "xgb_grid = GridSearchCV(xgb1,\n",
    "                        parameters,\n",
    "                        cv = 2,\n",
    "                        n_jobs = 5,\n",
    "                        verbose=True)"
   ]
  },
  {
   "cell_type": "code",
   "execution_count": null,
   "id": "66189eda",
   "metadata": {},
   "outputs": [],
   "source": [
    "xgb_grid.fit(X_train,y_train)\n",
    "y_pred = xgb_grid.predict(X_test)\n",
    "mean_squared_error(y_test,y_pred)"
   ]
  },
  {
   "cell_type": "code",
   "execution_count": null,
   "id": "4712ce14",
   "metadata": {},
   "outputs": [],
   "source": [
    "query = \"\"\"\n",
    "SELECT *\n",
    "FROM `ironhacks-data.ironhacks_competition.prediction_list`\n",
    "\"\"\""
   ]
  },
  {
   "cell_type": "code",
   "execution_count": null,
   "id": "1c79088f",
   "metadata": {},
   "outputs": [],
   "source": [
    "# QUERY THE DATA ONCE\n",
    "query_job = bigquery_client.query(query)\n",
    "print(query_job)\n",
    "prediction = query_job.to_dataframe()"
   ]
  },
  {
   "cell_type": "code",
   "execution_count": null,
   "id": "19c1e8ae",
   "metadata": {},
   "outputs": [],
   "source": [
    "print(prediction.shape)\n",
    "pd.DataFrame(prediction).head()"
   ]
  },
  {
   "cell_type": "code",
   "execution_count": null,
   "id": "93be6cf0",
   "metadata": {},
   "outputs": [],
   "source": [
    "data2 = data2.drop_duplicates(subset=['uu_id'],keep='last')"
   ]
  },
  {
   "cell_type": "code",
   "execution_count": null,
   "id": "de9ed7ca",
   "metadata": {},
   "outputs": [],
   "source": [
    "data2 = data2.set_index('uu_id')\n",
    "data2.head()"
   ]
  },
  {
   "cell_type": "code",
   "execution_count": null,
   "id": "8b927c32",
   "metadata": {},
   "outputs": [],
   "source": [
    "final_prediction = data2.join(prediction.set_index('uu_id'),on='uu_id',rsuffix='_other')\n",
    "final_prediction.head()"
   ]
  },
  {
   "cell_type": "code",
   "execution_count": null,
   "id": "3b565d8d",
   "metadata": {},
   "outputs": [],
   "source": [
    "final_prediction_data = pd.DataFrame()\n",
    "final_prediction_data['index'] = final_prediction.index\n",
    "final_prediction_data['week_number_other'] = final_prediction.week_number_other"
   ]
  },
  {
   "cell_type": "code",
   "execution_count": null,
   "id": "385f9e04",
   "metadata": {},
   "outputs": [],
   "source": [
    "final_prediction = final_prediction.drop(['week_number_other'], axis=1)\n",
    "final_prediction.reset_index(drop=True, inplace=True)"
   ]
  },
  {
   "cell_type": "code",
   "execution_count": null,
   "id": "52472a02",
   "metadata": {},
   "outputs": [],
   "source": [
    "future = final_prediction.values\n",
    "future_weeks_pred = rfr.predict(future)\n",
    "print(future_weeks_pred.shape)"
   ]
  },
  {
   "cell_type": "code",
   "execution_count": null,
   "id": "a6fb2f44",
   "metadata": {},
   "outputs": [],
   "source": [
    "prediction['total_claims'] = future_weeks_pred.astype('int')\n",
    "prediction.columns = ['uuid','week','count']\n",
    "print(prediction)"
   ]
  },
  {
   "cell_type": "code",
   "execution_count": null,
   "id": "1459a5c9",
   "metadata": {},
   "outputs": [],
   "source": [
    "prediction.to_csv(\"submission_prediction_output.csv\",index=False)"
   ]
  },
  {
   "cell_type": "code",
   "execution_count": null,
   "id": "98d9fac2",
   "metadata": {},
   "outputs": [],
   "source": [
    "get_ipython().run_cell_magic('capture', '', \"%logstop\\n%logstart -t -r -q ipython_command_log.py global\\n\\n#- IRONHACKS RESEARCH TRACKING CODE\\n#----------------------------------\\n# The following code is used to help our research team understand how you \\n# our notebook environment. We do not collect any personal information with\\n# the following code, it is used to measure when and how often you work on\\n# your submission files.\\n\\nimport os\\nfrom datetime import datetime\\nimport IPython.core.history as history\\n\\nha = history.HistoryAccessor()\\nha_tail = ha.get_tail(1)\\nha_cmd = next(ha_tail)\\nsession_id = str(ha_cmd[0])\\ncommand_id = str(ha_cmd[1])\\ntimestamp = datetime.utcnow().isoformat()\\nhistory_line = ','.join([session_id, command_id, timestamp]) + '\\\\n'\\nlogfile = open(os.environ['HOME']+'/ipython_session_log.csv', 'a')\\nlogfile.write(history_line)\\nlogfile.close()\\n\")"
   ]
  },
  {
   "cell_type": "code",
   "execution_count": null,
   "id": "87361905",
   "metadata": {},
   "outputs": [],
   "source": [
    "pip install db_dtypes\n",
    "import os\n",
    "import pandas as pd\n",
    "import db_dtypes\n",
    "from google.cloud import bigquery\n",
    "from google.oauth2 import service_account\n",
    "from google.cloud.bigquery import magics"
   ]
  },
  {
   "cell_type": "code",
   "execution_count": null,
   "id": "bc366a65",
   "metadata": {
    "lines_to_next_cell": 2
   },
   "outputs": [],
   "source": [
    "get_ipython().system('pip install db_dtypes')\n",
    "import os\n",
    "import pandas as pd\n",
    "import db_dtypes\n",
    "from google.cloud import bigquery\n",
    "from google.oauth2 import service_account\n",
    "from google.cloud.bigquery import magics"
   ]
  }
 ],
 "metadata": {
  "jupytext": {
   "cell_metadata_filter": "-all",
   "main_language": "python",
   "notebook_metadata_filter": "-all"
  }
 },
 "nbformat": 4,
 "nbformat_minor": 5
}
