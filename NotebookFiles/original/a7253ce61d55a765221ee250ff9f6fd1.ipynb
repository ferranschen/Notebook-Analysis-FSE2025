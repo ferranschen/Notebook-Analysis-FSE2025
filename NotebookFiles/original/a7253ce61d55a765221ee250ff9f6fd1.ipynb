{
 "cells": [
  {
   "cell_type": "code",
   "execution_count": null,
   "id": "858289bb",
   "metadata": {},
   "outputs": [],
   "source": [
    "get_ipython().run_cell_magic('capture', '', \"%logstop\\n%logstart -t -r -q ipython_command_log.py global\\n\\n#- IRONHACKS RESEARCH TRACKING CODE\\n#----------------------------------\\n# The following code is used to help our research team understand how you \\n# our notebook environment. We do not collect any personal information with\\n# the following code, it is used to measure when and how often you work on\\n# your submission files.\\n\\nimport os\\nfrom datetime import datetime\\nimport IPython.core.history as history\\n\\nha = history.HistoryAccessor()\\nha_tail = ha.get_tail(1)\\nha_cmd = next(ha_tail)\\nsession_id = str(ha_cmd[0])\\ncommand_id = str(ha_cmd[1])\\ntimestamp = datetime.utcnow().isoformat()\\nhistory_line = ','.join([session_id, command_id, timestamp]) + '\\\\n'\\nlogfile = open(os.environ['HOME']+'/ipython_session_log.csv', 'a')\\nlogfile.write(history_line)\\nlogfile.close()\\n\")"
   ]
  },
  {
   "cell_type": "code",
   "execution_count": null,
   "id": "339f37f6",
   "metadata": {},
   "outputs": [],
   "source": [
    "#import cell\n",
    "import pandas as pd\n",
    "import numpy as np\n",
    "import statistics\n",
    "import csv\n",
    "import matplotlib.pyplot as plt\n",
    "from google.cloud import bigquery\n",
    "from google.oauth2 import service_account\n",
    "from google.cloud.bigquery import magics"
   ]
  },
  {
   "cell_type": "code",
   "execution_count": null,
   "id": "c29adaea",
   "metadata": {},
   "outputs": [],
   "source": [
    "BIGQUERY_PROJECT = 'ironhacks-data'\n",
    "bigquery_client = bigquery.Client(project=BIGQUERY_PROJECT)"
   ]
  },
  {
   "cell_type": "code",
   "execution_count": null,
   "id": "d6ab5be0",
   "metadata": {},
   "outputs": [],
   "source": [
    "#Gets the master unemployed table\n",
    "query = \"\"\"\n",
    "SELECT *\n",
    "FROM `ironhacks-data.ironhacks_competition.unemployment_data`\n",
    "\"\"\""
   ]
  },
  {
   "cell_type": "code",
   "execution_count": null,
   "id": "4276b7b1",
   "metadata": {},
   "outputs": [],
   "source": [
    "# QUERY THE DATA ONCE\n",
    "query_job = bigquery_client.query(query)\n",
    "unemploymentData = query_job.to_dataframe()\n",
    "print(unemploymentData.shape)\n",
    "pd.set_option('display.max_columns', None)\n",
    "unemploymentData.head(3)"
   ]
  },
  {
   "cell_type": "code",
   "execution_count": null,
   "id": "57d5bec4",
   "metadata": {},
   "outputs": [],
   "source": [
    "#Gets each tracks mean and std dev\n",
    "#unlist has the master unemployment list\n",
    "#b becomes the filtered list\n",
    "unList = unemploymentData.values.tolist()\n",
    "b_set = set(tuple(x) for x in unList)\n",
    "b = [ list(x) for x in b_set ]"
   ]
  },
  {
   "cell_type": "code",
   "execution_count": null,
   "id": "4fa7eb03",
   "metadata": {},
   "outputs": [],
   "source": [
    "uuid = []\n",
    "#makes a list of the unique uuid\n",
    "for x in b:\n",
    "    if(uuid.count(x[0]) == 0):\n",
    "        uuid.append(x[0])"
   ]
  },
  {
   "cell_type": "code",
   "execution_count": null,
   "id": "64685ab7",
   "metadata": {},
   "outputs": [],
   "source": [
    "#setup for extract        \n",
    "values = []\n",
    "export = []"
   ]
  },
  {
   "cell_type": "code",
   "execution_count": null,
   "id": "5a32000b",
   "metadata": {},
   "outputs": [],
   "source": [
    "#for each value make a list of each weeks claims\n",
    "for y in uuid:\n",
    "    temp = [y]\n",
    "    for x in b:\n",
    "        if (x[0] == y):\n",
    "            temp.append(x[6])\n",
    "    values.append(temp)"
   ]
  },
  {
   "cell_type": "code",
   "execution_count": null,
   "id": "f6edb303",
   "metadata": {},
   "outputs": [],
   "source": [
    "for x in values:\n",
    "    name = x[0]\n",
    "    mean = statistics.mean(x[1:])\n",
    "    if (len(x) > 2):\n",
    "        stdev = statistics.stdev(x[1:])\n",
    "    else:\n",
    "        print(\"short\")\n",
    "    export.append([name, mean, stdev])"
   ]
  },
  {
   "cell_type": "code",
   "execution_count": null,
   "id": "6a3dcd7c",
   "metadata": {},
   "outputs": [],
   "source": [
    "#Everything above this is testing\n",
    "#Make the answer csv\n",
    "query = \"\"\"\n",
    "SELECT *\n",
    "FROM `ironhacks-data.ironhacks_competition.prediction_list`\n",
    "\"\"\""
   ]
  },
  {
   "cell_type": "code",
   "execution_count": null,
   "id": "916b690e",
   "metadata": {},
   "outputs": [],
   "source": [
    "# QUERY THE DATA ONCE\n",
    "query_job = bigquery_client.query(query)\n",
    "predictionData = query_job.to_dataframe()"
   ]
  },
  {
   "cell_type": "code",
   "execution_count": null,
   "id": "2b5268c4",
   "metadata": {},
   "outputs": [],
   "source": [
    "answers = predictionData.values.tolist()\n",
    "#Answers[names, week]\n",
    "#export[names, mean, stddev]\n",
    "i = 0\n",
    "for x in answers:\n",
    "    for y in export:\n",
    "        if(y.count(x[0]) == 1):\n",
    "            answers[i].insert(1, y[1])\n",
    "    i = i + 1"
   ]
  },
  {
   "cell_type": "code",
   "execution_count": null,
   "id": "ee97878e",
   "metadata": {
    "lines_to_next_cell": 2
   },
   "outputs": [],
   "source": [
    "fields = ['uu_id', 'total_claims', 'week_number']\n",
    "with open('submission_prediction_output.csv', 'w') as f:\n",
    "    write = csv.writer(f)\n",
    "    write.writerow(fields)\n",
    "    write.writerows(answers)"
   ]
  }
 ],
 "metadata": {
  "jupytext": {
   "cell_metadata_filter": "-all",
   "main_language": "python",
   "notebook_metadata_filter": "-all"
  }
 },
 "nbformat": 4,
 "nbformat_minor": 5
}
