{
 "cells": [
  {
   "cell_type": "code",
   "execution_count": null,
   "id": "7b763d16",
   "metadata": {},
   "outputs": [],
   "source": [
    "get_ipython().system('pip install db-dtypes')\n",
    "get_ipython().system('pip install plotly')"
   ]
  },
  {
   "cell_type": "code",
   "execution_count": null,
   "id": "19311f9a",
   "metadata": {},
   "outputs": [],
   "source": [
    "import os\n",
    "import pandas\n",
    "from google.cloud import bigquery\n",
    "from google.oauth2 import service_account\n",
    "from google.cloud.bigquery import magics"
   ]
  },
  {
   "cell_type": "code",
   "execution_count": null,
   "id": "4c5532db",
   "metadata": {},
   "outputs": [],
   "source": [
    "from sklearn.experimental import enable_iterative_imputer\n",
    "from sklearn.impute import IterativeImputer\n",
    "from sklearn.impute import KNNImputer\n",
    "from sklearn.preprocessing import StandardScaler\n",
    "from scipy import stats\n",
    "from scipy.stats import shapiro\n",
    "from scipy.stats import skew"
   ]
  },
  {
   "cell_type": "code",
   "execution_count": null,
   "id": "28d8901c",
   "metadata": {},
   "outputs": [],
   "source": [
    "import numpy as np\n",
    "from numpy import isnan\n",
    "from matplotlib import pyplot"
   ]
  },
  {
   "cell_type": "code",
   "execution_count": null,
   "id": "c4ed9067",
   "metadata": {},
   "outputs": [],
   "source": [
    "import seaborn as sns\n",
    "import matplotlib \n",
    "import matplotlib.pyplot as plt\n",
    "import plotly \n",
    "import plotly.express as px"
   ]
  },
  {
   "cell_type": "code",
   "execution_count": null,
   "id": "5b341361",
   "metadata": {},
   "outputs": [],
   "source": [
    "import pandas as pd"
   ]
  },
  {
   "cell_type": "code",
   "execution_count": null,
   "id": "72b90c5e",
   "metadata": {},
   "outputs": [],
   "source": [
    "BIGQUERY_PROJECT = 'ironhacks-data'\n",
    "bigquery_client = bigquery.Client(project=BIGQUERY_PROJECT)"
   ]
  },
  {
   "cell_type": "code",
   "execution_count": null,
   "id": "4c8559fc",
   "metadata": {},
   "outputs": [],
   "source": [
    "query = \"\"\"\n",
    "SELECT *\n",
    "FROM `ironhacks-data.ironhacks_competition.unemployment_data`\n",
    "\"\"\""
   ]
  },
  {
   "cell_type": "code",
   "execution_count": null,
   "id": "17f1dce2",
   "metadata": {},
   "outputs": [],
   "source": [
    "query_job = bigquery_client.query(query)\n",
    "unemploy = query_job.to_dataframe()\n",
    "unemploy.head()"
   ]
  },
  {
   "cell_type": "code",
   "execution_count": null,
   "id": "970adf36",
   "metadata": {},
   "outputs": [],
   "source": [
    "wage = \"\"\"\n",
    "SELECT *\n",
    "FROM `ironhacks-data.ironhacks_competition.wage_data`\n",
    "\"\"\""
   ]
  },
  {
   "cell_type": "code",
   "execution_count": null,
   "id": "74587b49",
   "metadata": {},
   "outputs": [],
   "source": [
    "query_wage = bigquery_client.query(wage)\n",
    "wages = query_wage.to_dataframe()\n",
    "wages.head()"
   ]
  },
  {
   "cell_type": "code",
   "execution_count": null,
   "id": "813459d6",
   "metadata": {},
   "outputs": [],
   "source": [
    "wages.info()"
   ]
  },
  {
   "cell_type": "code",
   "execution_count": null,
   "id": "ef95409f",
   "metadata": {},
   "outputs": [],
   "source": [
    "unemploy.info()"
   ]
  },
  {
   "cell_type": "code",
   "execution_count": null,
   "id": "36139552",
   "metadata": {},
   "outputs": [],
   "source": [
    "unemploy.isnull().sum()"
   ]
  },
  {
   "cell_type": "code",
   "execution_count": null,
   "id": "ef559065",
   "metadata": {},
   "outputs": [],
   "source": [
    "unemploy=unemploy.sort_values('week_number', ascending=True)\n",
    "unemploy.reset_index(inplace=True)\n",
    "unemploy"
   ]
  },
  {
   "cell_type": "code",
   "execution_count": null,
   "id": "ae1c6dc8",
   "metadata": {},
   "outputs": [],
   "source": [
    "sns.heatmap(unemploy.isnull(),cbar=False)"
   ]
  },
  {
   "cell_type": "code",
   "execution_count": null,
   "id": "c6edb8ee",
   "metadata": {},
   "outputs": [],
   "source": [
    "miss=unemploy.isnull()\n",
    "total=unemploy.count()\n",
    "total"
   ]
  },
  {
   "cell_type": "code",
   "execution_count": null,
   "id": "171e1ced",
   "metadata": {},
   "outputs": [],
   "source": [
    "miss.sum()"
   ]
  },
  {
   "cell_type": "code",
   "execution_count": null,
   "id": "0ccbdb72",
   "metadata": {},
   "outputs": [],
   "source": [
    "miss.sum()/len(unemploy)"
   ]
  },
  {
   "cell_type": "code",
   "execution_count": null,
   "id": "e0ca0e46",
   "metadata": {},
   "outputs": [],
   "source": [
    "map_1 = unemploy.corr(method ='spearman')\n",
    "sns.heatmap(map_1)"
   ]
  },
  {
   "cell_type": "code",
   "execution_count": null,
   "id": "4f4d4e16",
   "metadata": {},
   "outputs": [],
   "source": [
    "unemploy[\"race_hawaiiannative\"].unique()"
   ]
  },
  {
   "cell_type": "code",
   "execution_count": null,
   "id": "14faaef7",
   "metadata": {},
   "outputs": [],
   "source": [
    "df1=unemploy.copy()\n",
    "df1=df1.drop(columns=\"race_hawaiiannative\")"
   ]
  },
  {
   "cell_type": "code",
   "execution_count": null,
   "id": "3b2d9d6e",
   "metadata": {},
   "outputs": [],
   "source": [
    "df=unemploy[['top_category_employer1',\"top_category_employer2\",\"top_category_employer3\",'uu_id',\"tract_name\",\"timeperiod\",\"tract\",\"countyfips\"]]"
   ]
  },
  {
   "cell_type": "code",
   "execution_count": null,
   "id": "3abbb3ab",
   "metadata": {},
   "outputs": [],
   "source": [
    "df"
   ]
  },
  {
   "cell_type": "code",
   "execution_count": null,
   "id": "84fe7d40",
   "metadata": {},
   "outputs": [],
   "source": [
    "df1.drop(columns=['top_category_employer1',\"top_category_employer2\",\"top_category_employer3\",'uu_id',\"tract_name\",\"timeperiod\",\"tract\",\"countyfips\"],inplace=True)"
   ]
  },
  {
   "cell_type": "code",
   "execution_count": null,
   "id": "ff53ae50",
   "metadata": {},
   "outputs": [],
   "source": [
    "impute1=KNNImputer()\n",
    "impute1.fit(df1)\n",
    "unemploy1=pd.DataFrame(impute1.fit_transform(df1),columns = df1.columns)"
   ]
  },
  {
   "cell_type": "code",
   "execution_count": null,
   "id": "7e944501",
   "metadata": {},
   "outputs": [],
   "source": [
    "unemploy1"
   ]
  },
  {
   "cell_type": "code",
   "execution_count": null,
   "id": "7826ced8",
   "metadata": {},
   "outputs": [],
   "source": [
    "trial=pd.merge(df, unemploy1, left_index=True, right_index=True)"
   ]
  },
  {
   "cell_type": "code",
   "execution_count": null,
   "id": "8e010a44",
   "metadata": {},
   "outputs": [],
   "source": [
    "trial.head()"
   ]
  },
  {
   "cell_type": "code",
   "execution_count": null,
   "id": "82876634",
   "metadata": {},
   "outputs": [],
   "source": [
    "trial.describe()"
   ]
  },
  {
   "cell_type": "code",
   "execution_count": null,
   "id": "6f2fc685",
   "metadata": {},
   "outputs": [],
   "source": [
    "sns.heatmap(trial.corr(method=\"spearman\"))"
   ]
  },
  {
   "cell_type": "code",
   "execution_count": null,
   "id": "7203885e",
   "metadata": {},
   "outputs": [],
   "source": [
    "trial1=trial.copy()"
   ]
  },
  {
   "cell_type": "code",
   "execution_count": null,
   "id": "d3e712ee",
   "metadata": {},
   "outputs": [],
   "source": [
    "scaler = StandardScaler()\n",
    "scaled=pd.DataFrame(scaler.fit_transform(unemploy1),columns = unemploy1.columns)"
   ]
  },
  {
   "cell_type": "code",
   "execution_count": null,
   "id": "bdc6c37f",
   "metadata": {},
   "outputs": [],
   "source": [
    "scaled"
   ]
  },
  {
   "cell_type": "code",
   "execution_count": null,
   "id": "5711ef69",
   "metadata": {},
   "outputs": [],
   "source": [
    "sns.displot(data=scaled,x=\"total_claims\",kind=\"kde\")"
   ]
  },
  {
   "cell_type": "code",
   "execution_count": null,
   "id": "c7e58320",
   "metadata": {},
   "outputs": [],
   "source": [
    "claim = np.array(scaled[\"total_claims\"])\n",
    "sqrt_claim = np.sqrt(claim)\n",
    "log_claim = np.log(claim)\n",
    "f, ((f1, f2, f3), (f4, f5, f6)) = plt.subplots(2, 3)\n",
    "#f, ((f1, f2), (f4, f5)) = plt.subplots(2, 2)\n",
    "f1.hist(claim, 30)\n",
    "f2.hist(sqrt_claim, 30)\n",
    "f3.hist(log_claim, 30)"
   ]
  },
  {
   "cell_type": "code",
   "execution_count": null,
   "id": "6cc280cb",
   "metadata": {},
   "outputs": [],
   "source": [
    "stats.probplot(claim, plot=f4)\n",
    "stats.probplot(sqrt_claim, plot=f5)\n",
    "stats.probplot(log_claim, plot=f6)\n",
    "plt.show\n",
    "stats.shapiro(claim)[1], stats.shapiro(sqrt_claim)[1], stats.shapiro(log_claim)[1]"
   ]
  },
  {
   "cell_type": "code",
   "execution_count": null,
   "id": "ebc7d866",
   "metadata": {},
   "outputs": [],
   "source": [
    "shapiro(sqrt_claim)"
   ]
  },
  {
   "cell_type": "code",
   "execution_count": null,
   "id": "0a6b9c91",
   "metadata": {},
   "outputs": [],
   "source": [
    "print(skew(sqrt_claim))"
   ]
  },
  {
   "cell_type": "code",
   "execution_count": null,
   "id": "ca871770",
   "metadata": {},
   "outputs": [],
   "source": [
    "shapiro(unemploy1.total_claims)"
   ]
  },
  {
   "cell_type": "code",
   "execution_count": null,
   "id": "89998f07",
   "metadata": {},
   "outputs": [],
   "source": [
    "sns.displot(data=scaled,x=\"total_claims\",kind=\"kde\")"
   ]
  },
  {
   "cell_type": "code",
   "execution_count": null,
   "id": "12d62cb8",
   "metadata": {},
   "outputs": [],
   "source": [
    "f3.hist(log_claim, 30)"
   ]
  },
  {
   "cell_type": "code",
   "execution_count": null,
   "id": "29ed3e7f",
   "metadata": {},
   "outputs": [],
   "source": [
    "import pylab"
   ]
  },
  {
   "cell_type": "code",
   "execution_count": null,
   "id": "c4ca3d55",
   "metadata": {},
   "outputs": [],
   "source": [
    "stats.probplot(log_claim,dist=\"norm\",plot=pylab)\n",
    "pylab.show()"
   ]
  },
  {
   "cell_type": "code",
   "execution_count": null,
   "id": "9e8771a7",
   "metadata": {},
   "outputs": [],
   "source": [
    "sns.distplot(une)"
   ]
  },
  {
   "cell_type": "code",
   "execution_count": null,
   "id": "5962f375",
   "metadata": {},
   "outputs": [],
   "source": [
    "sns.boxplot(x=scale_logs[\"edu_grades_9_11\"])"
   ]
  },
  {
   "cell_type": "code",
   "execution_count": null,
   "id": "e3ea0854",
   "metadata": {},
   "outputs": [],
   "source": [
    "unemploy_logs = np.log(unemploy1)"
   ]
  },
  {
   "cell_type": "code",
   "execution_count": null,
   "id": "ecb34562",
   "metadata": {},
   "outputs": [],
   "source": [
    "unemp_cube=np.power((unemploy1),1/3)"
   ]
  },
  {
   "cell_type": "code",
   "execution_count": null,
   "id": "01c4e2b3",
   "metadata": {},
   "outputs": [],
   "source": [
    "statistics,pvalue = jarque_bera(unemp_cube)"
   ]
  },
  {
   "cell_type": "code",
   "execution_count": null,
   "id": "da2a0f4d",
   "metadata": {},
   "outputs": [],
   "source": [
    "print('statistics=%.3f, p=%.3f\\n' %(statistics, pvalue))\n",
    "if pvalue>0.05:\n",
    "    print(\"Probably Normal\")\n",
    "else:\n",
    "    print(\"Probably not Normal\")"
   ]
  },
  {
   "cell_type": "code",
   "execution_count": null,
   "id": "5a27e248",
   "metadata": {},
   "outputs": [],
   "source": [
    "from scipy.stats import jarque_bera"
   ]
  },
  {
   "cell_type": "code",
   "execution_count": null,
   "id": "0122821e",
   "metadata": {},
   "outputs": [],
   "source": [
    "statistics,pvalue = jarque_bera(unemp_cube)"
   ]
  },
  {
   "cell_type": "code",
   "execution_count": null,
   "id": "1dab1425",
   "metadata": {},
   "outputs": [],
   "source": [
    "print('statistics=%.3f, p=%.3f\\n' %(statistics, pvalue))\n",
    "if pvalue>0.05:\n",
    "    print(\"Probably Normal\")\n",
    "else:\n",
    "    print(\"Probably not Normal\")"
   ]
  },
  {
   "cell_type": "code",
   "execution_count": null,
   "id": "35e44711",
   "metadata": {},
   "outputs": [],
   "source": [
    "statistics,pvalue = jarque_bera(unemp_cube[\"edu_grades_9_11\"])"
   ]
  },
  {
   "cell_type": "code",
   "execution_count": null,
   "id": "e61c3b58",
   "metadata": {},
   "outputs": [],
   "source": [
    "print('statistics=%.3f, p=%.3f\\n' %(statistics, pvalue))\n",
    "if pvalue>0.05:\n",
    "    print(\"Probably Normal\")\n",
    "else:\n",
    "    print(\"Probably not Normal\")"
   ]
  },
  {
   "cell_type": "code",
   "execution_count": null,
   "id": "45560e79",
   "metadata": {},
   "outputs": [],
   "source": [
    "statistics,pvalue = jarque_bera(unemploy1[\"edu_grades_9_11\"])"
   ]
  },
  {
   "cell_type": "code",
   "execution_count": null,
   "id": "a36aef70",
   "metadata": {},
   "outputs": [],
   "source": [
    "print('statistics=%.3f, p=%.3f\\n' %(statistics, pvalue))\n",
    "if pvalue>0.05:\n",
    "    print(\"Probably Normal\")\n",
    "else:\n",
    "    print(\"Probably not Normal\")"
   ]
  },
  {
   "cell_type": "code",
   "execution_count": null,
   "id": "845aa446",
   "metadata": {},
   "outputs": [],
   "source": [
    "statistics,pvalue = jarque_bera(unemploy1[\"gender_male\"])"
   ]
  },
  {
   "cell_type": "code",
   "execution_count": null,
   "id": "6c3710f4",
   "metadata": {},
   "outputs": [],
   "source": [
    "print('statistics=%.3f, p=%.3f\\n' %(statistics, pvalue))\n",
    "if pvalue>0.05:\n",
    "    print(\"Probably Normal\")\n",
    "else:\n",
    "    print(\"Probably not Normal\")"
   ]
  },
  {
   "cell_type": "code",
   "execution_count": null,
   "id": "94272995",
   "metadata": {},
   "outputs": [],
   "source": [
    "statistics,pvalue = jarque_bera(unemploy1[\"gender_female\"])"
   ]
  },
  {
   "cell_type": "code",
   "execution_count": null,
   "id": "531f0c10",
   "metadata": {},
   "outputs": [],
   "source": [
    "print('statistics=%.3f, p=%.3f\\n' %(statistics, pvalue))\n",
    "if pvalue>0.05:\n",
    "    print(\"Probably Normal\")\n",
    "else:\n",
    "    print(\"Probably not Normal\")"
   ]
  },
  {
   "cell_type": "code",
   "execution_count": null,
   "id": "9c72b248",
   "metadata": {},
   "outputs": [],
   "source": [
    "statistics,pvalue = jarque_bera(unemploy1[\"gender_na\"])"
   ]
  },
  {
   "cell_type": "code",
   "execution_count": null,
   "id": "7693f19f",
   "metadata": {},
   "outputs": [],
   "source": [
    "print('statistics=%.3f, p=%.3f\\n' %(statistics, pvalue))\n",
    "if pvalue>0.05:\n",
    "    print(\"Probably Normal\")\n",
    "else:\n",
    "    print(\"Probably not Normal\")"
   ]
  },
  {
   "cell_type": "code",
   "execution_count": null,
   "id": "f5329aaa",
   "metadata": {},
   "outputs": [],
   "source": [
    "statistics,pvalue = jarque_bera(unemploy1[\"race_white\"])"
   ]
  },
  {
   "cell_type": "code",
   "execution_count": null,
   "id": "cc7c13e5",
   "metadata": {},
   "outputs": [],
   "source": [
    "print('statistics=%.3f, p=%.3f\\n' %(statistics, pvalue))\n",
    "if pvalue>0.05:\n",
    "    print(\"Probably Normal\")\n",
    "else:\n",
    "    print(\"Probably not Normal\")"
   ]
  },
  {
   "cell_type": "code",
   "execution_count": null,
   "id": "4b2c103d",
   "metadata": {},
   "outputs": [],
   "source": [
    "statistics,pvalue = jarque_bera(unemploy1[\"race_black\"])"
   ]
  },
  {
   "cell_type": "code",
   "execution_count": null,
   "id": "a0ed8c14",
   "metadata": {},
   "outputs": [],
   "source": [
    "print('statistics=%.3f, p=%.3f\\n' %(statistics, pvalue))\n",
    "if pvalue>0.05:\n",
    "    print(\"Probably Normal\")\n",
    "else:\n",
    "    print(\"Probably not Normal\")"
   ]
  },
  {
   "cell_type": "code",
   "execution_count": null,
   "id": "9f2f4391",
   "metadata": {},
   "outputs": [],
   "source": [
    "statistics,pvalue = jarque_bera(unemploy1[\"race_ameriindia\"])"
   ]
  },
  {
   "cell_type": "code",
   "execution_count": null,
   "id": "25c447e3",
   "metadata": {},
   "outputs": [],
   "source": [
    "print('statistics=%.3f, p=%.3f\\n' %(statistics, pvalue))\n",
    "if pvalue>0.05:\n",
    "    print(\"Probably Normal\")\n",
    "else:\n",
    "    print(\"Probably not Normal\")"
   ]
  },
  {
   "cell_type": "code",
   "execution_count": null,
   "id": "31147006",
   "metadata": {},
   "outputs": [],
   "source": [
    "statistics,pvalue = jarque_bera(unemploy1[\"race_amerindian\"])"
   ]
  },
  {
   "cell_type": "code",
   "execution_count": null,
   "id": "2d108732",
   "metadata": {},
   "outputs": [],
   "source": [
    "print('statistics=%.3f, p=%.3f\\n' %(statistics, pvalue))\n",
    "if pvalue>0.05:\n",
    "    print(\"Probably Normal\")\n",
    "else:\n",
    "    print(\"Probably not Normal\")"
   ]
  },
  {
   "cell_type": "code",
   "execution_count": null,
   "id": "ac2bd3db",
   "metadata": {},
   "outputs": [],
   "source": [
    "statistics,pvalue = jarque_bera(unemploy1[\"race_asian\"])"
   ]
  },
  {
   "cell_type": "code",
   "execution_count": null,
   "id": "a9f78644",
   "metadata": {},
   "outputs": [],
   "source": [
    "print('statistics=%.3f, p=%.3f\\n' %(statistics, pvalue))\n",
    "if pvalue>0.05:\n",
    "    print(\"Probably Normal\")\n",
    "else:\n",
    "    print(\"Probably not Normal\")"
   ]
  },
  {
   "cell_type": "code",
   "execution_count": null,
   "id": "aa3ecc88",
   "metadata": {},
   "outputs": [],
   "source": [
    "from sklearn.experimental import enable_iterative_imputer\n",
    "from sklearn.impute import IterativeImputer\n",
    "from sklearn.impute import KNNImputer\n",
    "from sklearn.preprocessing import StandardScaler\n",
    "from scipy import stats\n",
    "from scipy.stats import boxcox\n",
    "from scipy.stats import jarque_bera\n",
    "from scipy.stats import shapiro\n",
    "from scipy.stats import skew"
   ]
  },
  {
   "cell_type": "code",
   "execution_count": null,
   "id": "31cb0865",
   "metadata": {},
   "outputs": [],
   "source": [
    "import numpy as np\n",
    "from numpy import isnan\n",
    "from matplotlib import pyplot"
   ]
  },
  {
   "cell_type": "code",
   "execution_count": null,
   "id": "25d2e9c8",
   "metadata": {},
   "outputs": [],
   "source": [
    "import seaborn as sns\n",
    "import matplotlib \n",
    "import matplotlib.pyplot as plt\n",
    "import plotly \n",
    "import plotly.express as px"
   ]
  },
  {
   "cell_type": "code",
   "execution_count": null,
   "id": "73431b6a",
   "metadata": {},
   "outputs": [],
   "source": [
    "import pandas as pd"
   ]
  },
  {
   "cell_type": "code",
   "execution_count": null,
   "id": "c46cece9",
   "metadata": {},
   "outputs": [],
   "source": [
    "transformed_data, best_lambda = boxcox(unemploy1)\n",
    "sns.distpolt(transformed_data,)"
   ]
  },
  {
   "cell_type": "code",
   "execution_count": null,
   "id": "724c44cb",
   "metadata": {},
   "outputs": [],
   "source": [
    "transformed_data, best_lambda = boxcox(unemploy1[\"total_claims\"])\n",
    "sns.distpolt(transformed_data,)"
   ]
  },
  {
   "cell_type": "code",
   "execution_count": null,
   "id": "b60b83bc",
   "metadata": {},
   "outputs": [],
   "source": [
    "transformed_data, best_lambda = boxcox(unemploy1[\"total_claims\"])\n",
    "sns.distpolt(transformed_data)"
   ]
  },
  {
   "cell_type": "code",
   "execution_count": null,
   "id": "11bc0089",
   "metadata": {},
   "outputs": [],
   "source": [
    "transformed_data, best_lambda = boxcox(unemploy1[\"total_claims\"])\n",
    "sns.distplot(transformed_data)"
   ]
  },
  {
   "cell_type": "code",
   "execution_count": null,
   "id": "fc237102",
   "metadata": {},
   "outputs": [],
   "source": [
    "claim = np.array(transformed_data)\n",
    "sqrt_claim = np.sqrt(transformed_data)\n",
    "log_claim = np.logtransformed_data)\n",
    "f, ((f1, f2, f3), (f4, f5, f6)) = plt.subplots(2, 3)\n",
    "#f, ((f1, f2), (f4, f5)) = plt.subplots(2, 2)\n",
    "f1.hist(claim, 30)\n",
    "f2.hist(sqrt_claim, 30)\n",
    "f3.hist(log_claim, 30)"
   ]
  },
  {
   "cell_type": "code",
   "execution_count": null,
   "id": "93cc2485",
   "metadata": {},
   "outputs": [],
   "source": [
    "stats.probplot(claim, plot=f4)\n",
    "stats.probplot(sqrt_claim, plot=f5)\n",
    "stats.probplot(log_claim, plot=f6)\n",
    "plt.show\n",
    "stats.shapiro(claim)[1], stats.shapiro(sqrt_claim)[1], stats.shapiro(log_claim)[1]"
   ]
  },
  {
   "cell_type": "code",
   "execution_count": null,
   "id": "bc3260ef",
   "metadata": {},
   "outputs": [],
   "source": [
    "claim = np.array(transformed_data)\n",
    "sqrt_claim = np.sqrt(transformed_data)\n",
    "log_claim = np.log(transformed_data)\n",
    "f, ((f1, f2, f3), (f4, f5, f6)) = plt.subplots(2, 3)\n",
    "#f, ((f1, f2), (f4, f5)) = plt.subplots(2, 2)\n",
    "f1.hist(claim, 30)\n",
    "f2.hist(sqrt_claim, 30)\n",
    "f3.hist(log_claim, 30)"
   ]
  },
  {
   "cell_type": "code",
   "execution_count": null,
   "id": "31f52c2f",
   "metadata": {},
   "outputs": [],
   "source": [
    "stats.probplot(claim, plot=f4)\n",
    "stats.probplot(sqrt_claim, plot=f5)\n",
    "stats.probplot(log_claim, plot=f6)\n",
    "plt.show\n",
    "stats.shapiro(claim)[1], stats.shapiro(sqrt_claim)[1], stats.shapiro(log_claim)[1]"
   ]
  },
  {
   "cell_type": "code",
   "execution_count": null,
   "id": "32a09c4e",
   "metadata": {},
   "outputs": [],
   "source": [
    "statistics,pvalue = jarque_bera(transformed_data)"
   ]
  },
  {
   "cell_type": "code",
   "execution_count": null,
   "id": "9b9f2a63",
   "metadata": {},
   "outputs": [],
   "source": [
    "print('statistics=%.3f, p=%.3f\\n' %(statistics, pvalue))\n",
    "if pvalue>0.05:\n",
    "    print(\"Probably Normal\")\n",
    "else:\n",
    "    print(\"Probably not Normal\")"
   ]
  },
  {
   "cell_type": "code",
   "execution_count": null,
   "id": "514bd97b",
   "metadata": {},
   "outputs": [],
   "source": [
    "statistics,pvalue = jarque_bera(log_claims)"
   ]
  },
  {
   "cell_type": "code",
   "execution_count": null,
   "id": "50505e73",
   "metadata": {},
   "outputs": [],
   "source": [
    "print('statistics=%.3f, p=%.3f\\n' %(statistics, pvalue))\n",
    "if pvalue>0.05:\n",
    "    print(\"Probably Normal\")\n",
    "else:\n",
    "    print(\"Probably not Normal\")"
   ]
  },
  {
   "cell_type": "code",
   "execution_count": null,
   "id": "31353165",
   "metadata": {},
   "outputs": [],
   "source": [
    "statistics,pvalue = jarque_bera(log_claim)"
   ]
  },
  {
   "cell_type": "code",
   "execution_count": null,
   "id": "2282f396",
   "metadata": {},
   "outputs": [],
   "source": [
    "print('statistics=%.3f, p=%.3f\\n' %(statistics, pvalue))\n",
    "if pvalue>0.05:\n",
    "    print(\"Probably Normal\")\n",
    "else:\n",
    "    print(\"Probably not Normal\")"
   ]
  },
  {
   "cell_type": "code",
   "execution_count": null,
   "id": "72408f64",
   "metadata": {},
   "outputs": [],
   "source": [
    "statistics,pvalue = jarque_bera(sqrt_claim)"
   ]
  },
  {
   "cell_type": "code",
   "execution_count": null,
   "id": "4807d221",
   "metadata": {},
   "outputs": [],
   "source": [
    "print('statistics=%.3f, p=%.3f\\n' %(statistics, pvalue))\n",
    "if pvalue>0.05:\n",
    "    print(\"Probably Normal\")\n",
    "else:\n",
    "    print(\"Probably not Normal\")"
   ]
  },
  {
   "cell_type": "code",
   "execution_count": null,
   "id": "ae8a4338",
   "metadata": {},
   "outputs": [],
   "source": [
    "statistics,pvalue = jarque_bera(claim)"
   ]
  },
  {
   "cell_type": "code",
   "execution_count": null,
   "id": "9f165c05",
   "metadata": {},
   "outputs": [],
   "source": [
    "print('statistics=%.3f, p=%.3f\\n' %(statistics, pvalue))\n",
    "if pvalue>0.05:\n",
    "    print(\"Probably Normal\")\n",
    "else:\n",
    "    print(\"Probably not Normal\")"
   ]
  },
  {
   "cell_type": "code",
   "execution_count": null,
   "id": "bd7463cd",
   "metadata": {},
   "outputs": [],
   "source": [
    "transformed_data, best_lambda = boxcox(unemploy1[\"total_claims\"])\n",
    "sns.distplot(transformed_data)\n",
    "ed_9_11=boxcox(unemploy[\"edu_grades_9_11\"])"
   ]
  },
  {
   "cell_type": "code",
   "execution_count": null,
   "id": "b63c2cb4",
   "metadata": {},
   "outputs": [],
   "source": [
    "transformed_data, best_lambda = boxcox(unemploy1[\"total_claims\"])\n",
    "sns.distplot(transformed_data)\n",
    "ed_9_11=boxcox(unemploy1[\"edu_grades_9_11\"])"
   ]
  },
  {
   "cell_type": "code",
   "execution_count": null,
   "id": "656d221b",
   "metadata": {},
   "outputs": [],
   "source": [
    "transformed_data, best_lambda = boxcox(unemploy1[\"total_claims\"])\n",
    "sns.distplot(unemploy1[\"edu_grades_9_11\"])"
   ]
  },
  {
   "cell_type": "code",
   "execution_count": null,
   "id": "3ce87695",
   "metadata": {},
   "outputs": [],
   "source": [
    "transformed_data, best_lambda = boxcox(unemploy1[\"total_claims\"])\n",
    "sns.distplot(unemploy1[\"race_white\"])"
   ]
  },
  {
   "cell_type": "code",
   "execution_count": null,
   "id": "0f0325ec",
   "metadata": {},
   "outputs": [],
   "source": [
    "transformed_data, best_lambda = boxcox(unemploy1[\"total_claims\"])\n",
    "sns.distplot(unemploy1[\"race_black\"])"
   ]
  },
  {
   "cell_type": "code",
   "execution_count": null,
   "id": "b365f5a2",
   "metadata": {},
   "outputs": [],
   "source": [
    "transformed_data, best_lambda = boxcox(unemploy1[\"total_claims\"])\n",
    "sns.distplot(unemploy1[\"race_amerindian\"])"
   ]
  },
  {
   "cell_type": "code",
   "execution_count": null,
   "id": "4cbaf428",
   "metadata": {},
   "outputs": [],
   "source": [
    "transformed_data, best_lambda = boxcox(unemploy1[\"total_claims\"])\n",
    "sns.distplot(unemploy1[\"race_asian\"])"
   ]
  },
  {
   "cell_type": "code",
   "execution_count": null,
   "id": "df786882",
   "metadata": {},
   "outputs": [],
   "source": [
    "from sklearn.experimental import enable_iterative_imputer\n",
    "from sklearn.impute import IterativeImputer\n",
    "from sklearn.impute import KNNImputer\n",
    "from sklearn.preprocessing import StandardScaler\n",
    "from sklearn.preprocessing import MinMaxScaler"
   ]
  },
  {
   "cell_type": "code",
   "execution_count": null,
   "id": "cdcb7516",
   "metadata": {},
   "outputs": [],
   "source": [
    "from scipy import stats\n",
    "from scipy.stats import boxcox\n",
    "from scipy.stats import jarque_bera\n",
    "from scipy.stats import shapiro\n",
    "from scipy.stats import skew"
   ]
  },
  {
   "cell_type": "code",
   "execution_count": null,
   "id": "63715353",
   "metadata": {},
   "outputs": [],
   "source": [
    "import numpy as np\n",
    "from numpy import isnan\n",
    "from matplotlib import pyplot"
   ]
  },
  {
   "cell_type": "code",
   "execution_count": null,
   "id": "4f1f9e13",
   "metadata": {},
   "outputs": [],
   "source": [
    "import seaborn as sns\n",
    "import matplotlib \n",
    "import matplotlib.pyplot as plt\n",
    "import plotly \n",
    "import plotly.express as px"
   ]
  },
  {
   "cell_type": "code",
   "execution_count": null,
   "id": "d01164a8",
   "metadata": {},
   "outputs": [],
   "source": [
    "import pandas as pd"
   ]
  },
  {
   "cell_type": "code",
   "execution_count": null,
   "id": "77590112",
   "metadata": {},
   "outputs": [],
   "source": [
    "scaler= MinMaxScaler()\n",
    "scaler.fit(unemploy1)\n",
    "# transform the test test\n",
    "scaled1 = scaler.transform(unemploy1)"
   ]
  },
  {
   "cell_type": "code",
   "execution_count": null,
   "id": "2d8a4131",
   "metadata": {},
   "outputs": [],
   "source": [
    "scaler"
   ]
  },
  {
   "cell_type": "code",
   "execution_count": null,
   "id": "f38a3286",
   "metadata": {},
   "outputs": [],
   "source": [
    "scaled1"
   ]
  },
  {
   "cell_type": "code",
   "execution_count": null,
   "id": "9e4e8420",
   "metadata": {},
   "outputs": [],
   "source": [
    "scaler= MinMaxScaler()\n",
    "# transform the test test\n",
    "scaled1 = pd.DataFrame(scaler.transform_fit(unemploy1),columns=unemploy1.columns)"
   ]
  },
  {
   "cell_type": "code",
   "execution_count": null,
   "id": "1b0598ee",
   "metadata": {},
   "outputs": [],
   "source": [
    "scaler= MinMaxScaler()\n",
    "# transform the test test\n",
    "scaled1 = pd.DataFrame(scaler.fit_transform(unemploy1),columns=unemploy1.columns)"
   ]
  },
  {
   "cell_type": "code",
   "execution_count": null,
   "id": "d1857b90",
   "metadata": {},
   "outputs": [],
   "source": [
    "scaled1"
   ]
  },
  {
   "cell_type": "code",
   "execution_count": null,
   "id": "189adf9e",
   "metadata": {},
   "outputs": [],
   "source": [
    "sns.distplot(scaled1[\"total_claims\"])"
   ]
  },
  {
   "cell_type": "code",
   "execution_count": null,
   "id": "8dbe4864",
   "metadata": {},
   "outputs": [],
   "source": [
    "sns.distplot(scaled1[\"race_asian\"])"
   ]
  },
  {
   "cell_type": "code",
   "execution_count": null,
   "id": "8cb92bf0",
   "metadata": {},
   "outputs": [],
   "source": [
    "unemploy1[\"race_asian\"].unique()"
   ]
  },
  {
   "cell_type": "code",
   "execution_count": null,
   "id": "6cea4ed3",
   "metadata": {},
   "outputs": [],
   "source": [
    "unemploy1[\"race_asian\"].unique().count()"
   ]
  },
  {
   "cell_type": "code",
   "execution_count": null,
   "id": "7e9de686",
   "metadata": {},
   "outputs": [],
   "source": [
    "unemploy1[\"race_asian\"].unique().counts()"
   ]
  },
  {
   "cell_type": "code",
   "execution_count": null,
   "id": "a989a59d",
   "metadata": {},
   "outputs": [],
   "source": [
    "unemploy1[\"race_asian\"].unique().counts"
   ]
  },
  {
   "cell_type": "code",
   "execution_count": null,
   "id": "f3109761",
   "metadata": {},
   "outputs": [],
   "source": [
    "unemploy_ish=pd.DataFrame(np.arcsinh(unemploy1),columns=unemploy1)"
   ]
  },
  {
   "cell_type": "code",
   "execution_count": null,
   "id": "e282e44a",
   "metadata": {},
   "outputs": [],
   "source": [
    "unemploy_ish=pd.DataFrame(np.arcsinh(unemploy1[\"edu_hs_grad_quiv\"]))"
   ]
  },
  {
   "cell_type": "code",
   "execution_count": null,
   "id": "61668ecf",
   "metadata": {},
   "outputs": [],
   "source": [
    "unemploy_ish=pd.DataFrame(np.arcsinh(unemploy1[\"edu_hs_grad_equiv\"]))"
   ]
  },
  {
   "cell_type": "code",
   "execution_count": null,
   "id": "0ca17b00",
   "metadata": {},
   "outputs": [],
   "source": [
    "unemploy_ish=pd.DataFrame(np.arcsinh(unemploy1[\"edu_hs_grad_equiv\"]))\n",
    "sns.distplot(unemploy_ish)"
   ]
  },
  {
   "cell_type": "code",
   "execution_count": null,
   "id": "f6eb7393",
   "metadata": {},
   "outputs": [],
   "source": [
    "unemploy_ish=pd.DataFrame(np.arcsinh(unemploy1[\"edu_hs_grad_equiv\"]))\n",
    "sns.displot(unemploy_ish)"
   ]
  },
  {
   "cell_type": "code",
   "execution_count": null,
   "id": "fbf4201e",
   "metadata": {},
   "outputs": [],
   "source": [
    "statistics,pvalue = jarque_bera(unemploy_ish)"
   ]
  },
  {
   "cell_type": "code",
   "execution_count": null,
   "id": "6961fa8e",
   "metadata": {},
   "outputs": [],
   "source": [
    "print('statistics=%.3f, p=%.3f\\n' %(statistics, pvalue))\n",
    "if pvalue>0.05:\n",
    "    print(\"Probably Normal\")\n",
    "else:\n",
    "    print(\"Probably not Normal\")"
   ]
  },
  {
   "cell_type": "code",
   "execution_count": null,
   "id": "8b459b2a",
   "metadata": {},
   "outputs": [],
   "source": [
    "stats.probplot(unemploy_ish)"
   ]
  },
  {
   "cell_type": "code",
   "execution_count": null,
   "id": "7659d006",
   "metadata": {},
   "outputs": [],
   "source": [
    "unemploy_ish"
   ]
  },
  {
   "cell_type": "code",
   "execution_count": null,
   "id": "a15b9dfd",
   "metadata": {},
   "outputs": [],
   "source": [
    "stats.probplot(unemploy_ish,dist=\"norm\",plot=pylab)\n",
    "pylab.show()"
   ]
  },
  {
   "cell_type": "code",
   "execution_count": null,
   "id": "7fd07cac",
   "metadata": {},
   "outputs": [],
   "source": [
    "unemploy_ish=pd.DataFrame(np.arcsinh(unemploy1[\"edu_hs_grad_equiv\"]))\n",
    "sns.distplot(unemploy_ish)"
   ]
  },
  {
   "cell_type": "code",
   "execution_count": null,
   "id": "562bc1c7",
   "metadata": {},
   "outputs": [],
   "source": [
    "unemploy_ish"
   ]
  },
  {
   "cell_type": "code",
   "execution_count": null,
   "id": "21715b88",
   "metadata": {},
   "outputs": [],
   "source": [
    "unemploy_ish1=np.arcsinh(unemploy1[\"edu_hs_grad_equiv\"])\n",
    "sns.distplot(unemploy_ish)"
   ]
  },
  {
   "cell_type": "code",
   "execution_count": null,
   "id": "ccf6e4f2",
   "metadata": {},
   "outputs": [],
   "source": [
    "stats.probplot(unemploy_ish1,dist=\"norm\",plot=pylab)\n",
    "pylab.show()"
   ]
  },
  {
   "cell_type": "code",
   "execution_count": null,
   "id": "488c8ced",
   "metadata": {},
   "outputs": [],
   "source": [
    "statistics,pvalue = jarque_bera(unemploy_ish1)"
   ]
  },
  {
   "cell_type": "code",
   "execution_count": null,
   "id": "aef5d8ef",
   "metadata": {},
   "outputs": [],
   "source": [
    "print('statistics=%.3f, p=%.3f\\n' %(statistics, pvalue))\n",
    "if pvalue>0.05:\n",
    "    print(\"Probably Normal\")\n",
    "else:\n",
    "    print(\"Probably not Normal\")"
   ]
  },
  {
   "cell_type": "code",
   "execution_count": null,
   "id": "0b81fe9f",
   "metadata": {},
   "outputs": [],
   "source": [
    "unemploy_ish=pd.DataFrame(np.arcsinh(unemploy1[\"edu_hs_grad_equiv\"]))\n",
    "unemployed_ish=boxcox.fit_transform(unemploy_ish)\n",
    "sns.distplot(unemployed_ish)"
   ]
  },
  {
   "cell_type": "code",
   "execution_count": null,
   "id": "d7b0c7a8",
   "metadata": {},
   "outputs": [],
   "source": [
    "unemploy_ish=pd.DataFrame(np.arcsinh(unemploy1[\"edu_hs_grad_equiv\"]))\n",
    "unemployed_ish=boxcox.transform_fit(unemploy_ish)\n",
    "sns.distplot(unemployed_ish)"
   ]
  },
  {
   "cell_type": "code",
   "execution_count": null,
   "id": "d0116f87",
   "metadata": {},
   "outputs": [],
   "source": [
    "unemploy_ish=pd.DataFrame(np.arcsinh(unemploy1[\"edu_hs_grad_equiv\"]))\n",
    "unemployed_ish=boxcox(unemploy_ish)\n",
    "sns.distplot(unemployed_ish)"
   ]
  },
  {
   "cell_type": "code",
   "execution_count": null,
   "id": "3baac4bf",
   "metadata": {},
   "outputs": [],
   "source": [
    "unemploy1[\"gender_male\"]"
   ]
  },
  {
   "cell_type": "code",
   "execution_count": null,
   "id": "72f44b07",
   "metadata": {},
   "outputs": [],
   "source": [
    "unemploy1"
   ]
  },
  {
   "cell_type": "code",
   "execution_count": null,
   "id": "84a2358b",
   "metadata": {},
   "outputs": [],
   "source": [
    "Q1 = np.percentile(unemploy1[\"total_claims\"], 25,\n",
    "                   interpolation = 'midpoint')"
   ]
  },
  {
   "cell_type": "code",
   "execution_count": null,
   "id": "18112625",
   "metadata": {},
   "outputs": [],
   "source": [
    "Q3 = np.percentile(unemploy1[\"total_claims\"], 75,\n",
    "                   interpolation = 'midpoint')\n",
    "IQR = Q3 - Q1"
   ]
  },
  {
   "cell_type": "code",
   "execution_count": null,
   "id": "fe362ab2",
   "metadata": {},
   "outputs": [],
   "source": [
    "print(\"Old Shape: \", unemploy1.shape)"
   ]
  },
  {
   "cell_type": "code",
   "execution_count": null,
   "id": "38567db4",
   "metadata": {},
   "outputs": [],
   "source": [
    "# Upper bound\n",
    "upper = np.where(unemploy1[\"total_claims\"]>= (Q3+1.5*IQR))\n",
    "# Lower bound\n",
    "lower = np.where(unemploy1[\"total_claims\"]<= (Q1-1.5*IQR))"
   ]
  },
  {
   "cell_type": "code",
   "execution_count": null,
   "id": "296dd886",
   "metadata": {},
   "outputs": [],
   "source": [
    "''' Removing the Outliers '''\n",
    "unemploy1.drop(upper[0], inplace = True)\n",
    "unemploy1.drop(lower[0], inplace = True)"
   ]
  },
  {
   "cell_type": "code",
   "execution_count": null,
   "id": "f3836241",
   "metadata": {},
   "outputs": [],
   "source": [
    "print(\"New Shape: \", unemploy1.shape)"
   ]
  },
  {
   "cell_type": "code",
   "execution_count": null,
   "id": "74c3271c",
   "metadata": {},
   "outputs": [],
   "source": [
    "unemploy1.shape"
   ]
  },
  {
   "cell_type": "code",
   "execution_count": null,
   "id": "fd95a7be",
   "metadata": {},
   "outputs": [],
   "source": [
    "sns.distplot(unemploy1[\"total_claims\"])"
   ]
  },
  {
   "cell_type": "code",
   "execution_count": null,
   "id": "61134424",
   "metadata": {},
   "outputs": [],
   "source": [
    "sns.histplot(unemploy1[\"total_claims\"])"
   ]
  },
  {
   "cell_type": "code",
   "execution_count": null,
   "id": "c4e32cce",
   "metadata": {},
   "outputs": [],
   "source": [
    "sns.distplot(unemploy1[\"total_claims\"])"
   ]
  },
  {
   "cell_type": "code",
   "execution_count": null,
   "id": "3604f299",
   "metadata": {},
   "outputs": [],
   "source": [
    "sns.distplot(unemploy1)"
   ]
  },
  {
   "cell_type": "code",
   "execution_count": null,
   "id": "77d4abee",
   "metadata": {},
   "outputs": [],
   "source": [
    "sns.distplot(unemploy1[\"gender_male\"])"
   ]
  },
  {
   "cell_type": "code",
   "execution_count": null,
   "id": "287a23d9",
   "metadata": {},
   "outputs": [],
   "source": [
    "sns.distplot(unemploy1[\"gender_female\"])"
   ]
  },
  {
   "cell_type": "code",
   "execution_count": null,
   "id": "7756da3b",
   "metadata": {},
   "outputs": [],
   "source": [
    "sns.distplot(unemploy1[\"gender_na\"])"
   ]
  },
  {
   "cell_type": "code",
   "execution_count": null,
   "id": "968768ed",
   "metadata": {},
   "outputs": [],
   "source": [
    "sns.distplot(unemploy1[\"race_whaite\"])"
   ]
  },
  {
   "cell_type": "code",
   "execution_count": null,
   "id": "fc7478fc",
   "metadata": {},
   "outputs": [],
   "source": [
    "sns.distplot(unemploy1[\"race_white\"])"
   ]
  },
  {
   "cell_type": "code",
   "execution_count": null,
   "id": "31a5c0d0",
   "metadata": {},
   "outputs": [],
   "source": [
    "sns.distplot(unemploy1[\"race_black\"])"
   ]
  },
  {
   "cell_type": "code",
   "execution_count": null,
   "id": "4627d831",
   "metadata": {},
   "outputs": [],
   "source": [
    "sns.distplot(unemploy1[\"race_amerindian\"])"
   ]
  },
  {
   "cell_type": "code",
   "execution_count": null,
   "id": "c66a2271",
   "metadata": {},
   "outputs": [],
   "source": [
    "sns.distplot(unemploy1[\"race_asian\"])"
   ]
  },
  {
   "cell_type": "code",
   "execution_count": null,
   "id": "3eb2caed",
   "metadata": {},
   "outputs": [],
   "source": [
    "sns.distplot(unemploy1[\"race_noanswere\"])"
   ]
  },
  {
   "cell_type": "code",
   "execution_count": null,
   "id": "245a8bb3",
   "metadata": {},
   "outputs": [],
   "source": [
    "sns.distplot(unemploy1[\"race_noanswer\"])"
   ]
  },
  {
   "cell_type": "code",
   "execution_count": null,
   "id": "b8f1b4dd",
   "metadata": {},
   "outputs": [],
   "source": [
    "sns.distplot(unemploy1[\"race_other\"])"
   ]
  },
  {
   "cell_type": "code",
   "execution_count": null,
   "id": "80312f05",
   "metadata": {},
   "outputs": [],
   "source": [
    "sns.distplot(unemploy1[\"edu_hs_grad_equiv\"])"
   ]
  },
  {
   "cell_type": "code",
   "execution_count": null,
   "id": "aa0ffc13",
   "metadata": {},
   "outputs": [],
   "source": [
    "sns.heatmap(unemploy1.corr(method=\"spearman\"))"
   ]
  },
  {
   "cell_type": "code",
   "execution_count": null,
   "id": "0a89485d",
   "metadata": {},
   "outputs": [],
   "source": [
    "trial[\"uuid\"].unique()"
   ]
  },
  {
   "cell_type": "code",
   "execution_count": null,
   "id": "9804ee5e",
   "metadata": {},
   "outputs": [],
   "source": [
    "trial[\"uu_id\"].unique()"
   ]
  },
  {
   "cell_type": "code",
   "execution_count": null,
   "id": "cb875801",
   "metadata": {},
   "outputs": [],
   "source": [
    "trial[\"uu_id\"].unique().sum()"
   ]
  },
  {
   "cell_type": "code",
   "execution_count": null,
   "id": "fa11da60",
   "metadata": {},
   "outputs": [],
   "source": [
    "trial[\"uu_id\"].unique().count()"
   ]
  },
  {
   "cell_type": "code",
   "execution_count": null,
   "id": "5653dcdb",
   "metadata": {
    "lines_to_next_cell": 2
   },
   "outputs": [],
   "source": [
    "trial[\"uu_id\"].unique().count"
   ]
  }
 ],
 "metadata": {
  "jupytext": {
   "cell_metadata_filter": "-all",
   "main_language": "python",
   "notebook_metadata_filter": "-all"
  }
 },
 "nbformat": 4,
 "nbformat_minor": 5
}
