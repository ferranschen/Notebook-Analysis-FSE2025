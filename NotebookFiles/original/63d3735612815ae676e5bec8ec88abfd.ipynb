{
 "cells": [
  {
   "cell_type": "code",
   "execution_count": null,
   "id": "aec290c5",
   "metadata": {},
   "outputs": [],
   "source": [
    "import os\n",
    "import pandas as pd\n",
    "import numpy as np\n",
    "from google.cloud import bigquery\n",
    "from google.oauth2 import service_account\n",
    "from google.cloud.bigquery import magics\n",
    "BIGQUERY_PROJECT = 'ironhacks-data'\n",
    "bigquery_client = bigquery.Client(project=BIGQUERY_PROJECT)"
   ]
  },
  {
   "cell_type": "code",
   "execution_count": null,
   "id": "da057207",
   "metadata": {},
   "outputs": [],
   "source": [
    "query = \"\"\"\n",
    "SELECT *\n",
    "FROM `ironhacks-data.ironhacks_competition.unemployment_data`\n",
    "\"\"\"\n",
    "# QUERY THE DATA ONCE\n",
    "query_job = bigquery_client.query(query)\n",
    "unemp_data = query_job.to_dataframe()\n",
    "unemp_data.head(5)"
   ]
  },
  {
   "cell_type": "code",
   "execution_count": null,
   "id": "b71a3b19",
   "metadata": {},
   "outputs": [],
   "source": [
    "query = \"\"\"\n",
    "SELECT *\n",
    "FROM `ironhacks-data.ironhacks_competition.wage_data`\n",
    "\"\"\"\n",
    "# QUERY THE DATA ONCE\n",
    "query_job = bigquery_client.query(query)\n",
    "wage_data = query_job.to_dataframe()\n",
    "wage_data.head()"
   ]
  },
  {
   "cell_type": "code",
   "execution_count": null,
   "id": "16e57f62",
   "metadata": {},
   "outputs": [],
   "source": [
    "query = \"\"\"\n",
    "SELECT *\n",
    "FROM `ironhacks-data.ironhacks_competition.prediction_list`\n",
    "\"\"\"\n",
    "# QUERY THE DATA ONCE\n",
    "query_job = bigquery_client.query(query)\n",
    "pred_data = query_job.to_dataframe()\n",
    "pred_data.head()"
   ]
  },
  {
   "cell_type": "code",
   "execution_count": null,
   "id": "7b689ce6",
   "metadata": {},
   "outputs": [],
   "source": [
    "unemp_data.info()"
   ]
  },
  {
   "cell_type": "code",
   "execution_count": null,
   "id": "3250a844",
   "metadata": {},
   "outputs": [],
   "source": [
    "unemp_data['top_category_employer2'] = unemp_data['top_category_employer2'].replace('N/A',np.NaN)\n",
    "unemp_data['top_category_employer3'] = unemp_data['top_category_employer3'].replace('N/A',np.NaN)"
   ]
  },
  {
   "cell_type": "code",
   "execution_count": null,
   "id": "381f78dd",
   "metadata": {},
   "outputs": [],
   "source": [
    "unemp_data['race_asian'] = unemp_data.groupby('countyfips')['race_asian'].transform(lambda x: x.fillna(int(x.mean())))"
   ]
  },
  {
   "cell_type": "code",
   "execution_count": null,
   "id": "18fe52aa",
   "metadata": {},
   "outputs": [],
   "source": [
    "unemp_data['race_amerindian'] = unemp_data.groupby('countyfips')['race_amerindian'].transform(lambda x: x.fillna(int(x.mean())))"
   ]
  },
  {
   "cell_type": "code",
   "execution_count": null,
   "id": "7c166e0e",
   "metadata": {},
   "outputs": [],
   "source": [
    "unemp_data['race_black'] = unemp_data.groupby('countyfips')['race_black'].transform(lambda x: x.fillna(int(x.mean())))"
   ]
  },
  {
   "cell_type": "code",
   "execution_count": null,
   "id": "a7292c34",
   "metadata": {},
   "outputs": [],
   "source": [
    "unemp_data['race_hawaiiannative'] = unemp_data.groupby('countyfips')['race_hawaiiannative'].transform(lambda x: x.fillna(int(x.mean())))\n",
    "unemp_data['race_other'] = unemp_data.groupby('countyfips')['race_other'].transform(lambda x: x.fillna(int(x.mean())))\n",
    "unemp_data['race_white'] = unemp_data.groupby('countyfips')['race_white'].transform(lambda x: x.fillna(int(x.mean())))"
   ]
  },
  {
   "cell_type": "code",
   "execution_count": null,
   "id": "fdecfde8",
   "metadata": {},
   "outputs": [],
   "source": [
    "unemp_data['race_noanswer'] = unemp_data['race_noanswer'].fillna(0)\n",
    "unemp_data['gender_na'] = unemp_data['gender_na'].fillna(0)\n",
    "unemp_data['edu_unknown'] = unemp_data['edu_unknown'].fillna(0)"
   ]
  },
  {
   "cell_type": "code",
   "execution_count": null,
   "id": "7b5c2e91",
   "metadata": {},
   "outputs": [],
   "source": [
    "unemp_data['edu_8th_or_less'] = unemp_data.groupby('countyfips')['edu_8th_or_less'].transform(lambda x: x.fillna(int(x.mean())))\n",
    "unemp_data['edu_grades_9_11'] = unemp_data.groupby('countyfips')['edu_grades_9_11'].transform(lambda x: x.fillna(int(x.mean())))\n",
    "unemp_data['edu_hs_grad_equiv'] = unemp_data.groupby('countyfips')['edu_hs_grad_equiv'].transform(lambda x: x.fillna(int(x.mean())))"
   ]
  },
  {
   "cell_type": "code",
   "execution_count": null,
   "id": "9730b3aa",
   "metadata": {},
   "outputs": [],
   "source": [
    "unemp_data['edu_post_hs'] = unemp_data.groupby('countyfips')['edu_post_hs'].transform(lambda x: x.fillna(int(x.mean())))"
   ]
  },
  {
   "cell_type": "code",
   "execution_count": null,
   "id": "f6453fb2",
   "metadata": {},
   "outputs": [],
   "source": [
    "unemp_data['edu_post_hs'] = unemp_data.groupby('countyfips')['edu_post_hs'].transform(lambda x: x.fillna(int(x.mean()) if not x.isnull() else 0))"
   ]
  },
  {
   "cell_type": "code",
   "execution_count": null,
   "id": "afd7dea2",
   "metadata": {},
   "outputs": [],
   "source": [
    "unemp_data['edu_post_hs'] = unemp_data.groupby('countyfips')['edu_post_hs'].transform(lambda x: x.fillna(int(x.mean()) if not x.mean().empty else 0))"
   ]
  },
  {
   "cell_type": "code",
   "execution_count": null,
   "id": "61f12b37",
   "metadata": {},
   "outputs": [],
   "source": [
    "unemp_data['edu_post_hs'] = unemp_data.groupby('countyfips')['edu_post_hs'].transform(lambda x: x.fillna(int(x.mean()) if not x.mean().isnull() else 0))"
   ]
  },
  {
   "cell_type": "code",
   "execution_count": null,
   "id": "33427798",
   "metadata": {},
   "outputs": [],
   "source": [
    "import numpy as np\n",
    "unemp_data['edu_post_hs'] = unemp_data['edu_post_hs'].replace(NA,np.NaN)\n",
    "unemp_data['edu_post_hs'] = unemp_data.groupby('countyfips')['edu_post_hs'].transform(lambda x: x.fillna(int(x.mean())))"
   ]
  },
  {
   "cell_type": "code",
   "execution_count": null,
   "id": "fb0e65b7",
   "metadata": {},
   "outputs": [],
   "source": [
    "import numpy as np\n",
    "unemp_data['edu_post_hs'] = unemp_data['edu_post_hs'].replace(np.NaN,np.NaN)\n",
    "unemp_data['edu_post_hs'] = unemp_data.groupby('countyfips')['edu_post_hs'].transform(lambda x: x.fillna(int(x.mean())))"
   ]
  },
  {
   "cell_type": "code",
   "execution_count": null,
   "id": "d5cf3fa8",
   "metadata": {},
   "outputs": [],
   "source": [
    "unemp_data['edu_post_hs']"
   ]
  },
  {
   "cell_type": "code",
   "execution_count": null,
   "id": "3402522c",
   "metadata": {},
   "outputs": [],
   "source": [
    "import numpy as np\n",
    "unemp_data['edu_post_hs'] = unemp_data['edu_post_hs'].replace('<NA>',np.NaN)\n",
    "unemp_data['edu_post_hs'] = unemp_data.groupby('countyfips')['edu_post_hs'].transform(lambda x: x.fillna(int(x.mean())))"
   ]
  },
  {
   "cell_type": "code",
   "execution_count": null,
   "id": "0e312916",
   "metadata": {},
   "outputs": [],
   "source": [
    "unemp_data['edu_post_hs']"
   ]
  },
  {
   "cell_type": "code",
   "execution_count": null,
   "id": "edf20315",
   "metadata": {},
   "outputs": [],
   "source": [
    "import numpy as np\n",
    "unemp_data['edu_post_hs'] = unemp_data['edu_post_hs'].replace(<NA>,np.NaN)\n",
    "unemp_data['edu_post_hs'] = unemp_data.groupby('countyfips')['edu_post_hs'].transform(lambda x: x.fillna(int(x.mean())))"
   ]
  },
  {
   "cell_type": "code",
   "execution_count": null,
   "id": "7777ac08",
   "metadata": {},
   "outputs": [],
   "source": [
    "unemp_data['edu_post_hs']"
   ]
  },
  {
   "cell_type": "code",
   "execution_count": null,
   "id": "ad9add80",
   "metadata": {},
   "outputs": [],
   "source": [
    "unemp_data['edu_post_hs'] = unemp_data.groupby('countyfips')['edu_post_hs']\\\n",
    "    .transform(lambda x: x.fillna(x.mean()))"
   ]
  },
  {
   "cell_type": "code",
   "execution_count": null,
   "id": "54cee5dc",
   "metadata": {},
   "outputs": [],
   "source": [
    "unemp_data['edu_post_hs'] = unemp_data.groupby('countyfips')['edu_post_hs']\\\n",
    "    .transform(lambda x: x.fillna(int(x.mean())))"
   ]
  },
  {
   "cell_type": "code",
   "execution_count": null,
   "id": "c56d68b7",
   "metadata": {},
   "outputs": [],
   "source": [
    "#unemp_data['gender_female'] = unemp_data.groupby('countyfips')['gender_female'].transform(lambda x: x.fillna(int(x.mean())))\n",
    "unemp_data['gender_male'] = unemp_data.groupby('countyfips')['gender_male'].transform(lambda x: x.fillna(int(x.mean())))"
   ]
  },
  {
   "cell_type": "code",
   "execution_count": null,
   "id": "a8d8f59b",
   "metadata": {},
   "outputs": [],
   "source": [
    "unemp_data.isna().sum()"
   ]
  },
  {
   "cell_type": "code",
   "execution_count": null,
   "id": "902f25d3",
   "metadata": {},
   "outputs": [],
   "source": [
    "unemp_data['top_category_employer2'] = unemp_data.groupby('countyfips')['top_category_employer2'].transform(lambda x: x.fillna(int(x.mode()[0] if not x.mode().empty else 'unknown')))"
   ]
  },
  {
   "cell_type": "code",
   "execution_count": null,
   "id": "0a3cfb72",
   "metadata": {},
   "outputs": [],
   "source": [
    "unemp_data['top_category_employer2'] = unemp_data.groupby('countyfips')['top_category_employer2'].transform(lambda x: x.fillna(x.mode()[0] if not x.mode().empty else 'unknown'))"
   ]
  },
  {
   "cell_type": "code",
   "execution_count": null,
   "id": "14af8953",
   "metadata": {},
   "outputs": [],
   "source": [
    "unemp_data['top_category_employer3'] = unemp_data.groupby('countyfips')['top_category_employer3'].transform(lambda x: x.fillna(x.mode()[0] if not x.mode().empty else 'unknown'))"
   ]
  },
  {
   "cell_type": "code",
   "execution_count": null,
   "id": "26a41ff6",
   "metadata": {},
   "outputs": [],
   "source": [
    "unemp_data.isna().sum()"
   ]
  },
  {
   "cell_type": "code",
   "execution_count": null,
   "id": "0c5d8398",
   "metadata": {},
   "outputs": [],
   "source": [
    "unemp_data['edu_post_hs'] = unemp_data.groupby('countyfips')['edu_post_hs']\\\n",
    "    .transform(lambda x: x.fillna(int(x.mean()[0])))"
   ]
  },
  {
   "cell_type": "code",
   "execution_count": null,
   "id": "9acae685",
   "metadata": {},
   "outputs": [],
   "source": [
    "unemp_data['edu_post_hs'] = unemp_data.groupby('countyfips')['edu_post_hs']\\\n",
    "    .transform(lambda x: x.fillna(int(x.mean())[0]))"
   ]
  },
  {
   "cell_type": "code",
   "execution_count": null,
   "id": "97950f37",
   "metadata": {},
   "outputs": [],
   "source": [
    "unemp_data['edu_post_hs'] = unemp_data.groupby('countyfips')['edu_post_hs'].fillna(0)"
   ]
  },
  {
   "cell_type": "code",
   "execution_count": null,
   "id": "84fcd11c",
   "metadata": {},
   "outputs": [],
   "source": [
    "#unemp_data['gender_female'] = unemp_data.groupby('countyfips')['gender_female'].transform(lambda x: x.fillna(int(x.mean())))\n",
    "unemp_data['gender_male'] = unemp_data['gender_male'].fillna(unemp_data.groupby('countyfips')['gender_male'].transform(mean))"
   ]
  },
  {
   "cell_type": "code",
   "execution_count": null,
   "id": "b70ba30d",
   "metadata": {},
   "outputs": [],
   "source": [
    "#unemp_data['gender_female'] = unemp_data.groupby('countyfips')['gender_female'].transform(lambda x: x.fillna(int(x.mean())))\n",
    "unemp_data['gender_male'] = unemp_data['gender_male'].fillna(unemp_data.groupby('countyfips')['gender_male'].transform('mean'))"
   ]
  },
  {
   "cell_type": "code",
   "execution_count": null,
   "id": "d4e095ea",
   "metadata": {},
   "outputs": [],
   "source": [
    "unemp_data['gender_male'] = unemp_data['gender_male'].astype(float)"
   ]
  },
  {
   "cell_type": "code",
   "execution_count": null,
   "id": "34f1b17e",
   "metadata": {},
   "outputs": [],
   "source": [
    "#unemp_data['gender_female'] = unemp_data.groupby('countyfips')['gender_female'].transform(lambda x: x.fillna(int(x.mean())))\n",
    "unemp_data['gender_male'] = unemp_data['gender_male'].fillna(unemp_data.groupby('countyfips')['gender_male'].transform('mean'))"
   ]
  },
  {
   "cell_type": "code",
   "execution_count": null,
   "id": "e2ed07d8",
   "metadata": {},
   "outputs": [],
   "source": [
    "unemp_data['gender_female'] = unemp_data['gender_female'].fillna(unemp_data.groupby('countyfips')['gender_female'].transform('mean'))\n",
    "unemp_data['edu_post_hs'] = unemp_data['edu_post_hs'].fillna(unemp_data.groupby('countyfips')['edu_post_hs'].transform('mean'))"
   ]
  },
  {
   "cell_type": "code",
   "execution_count": null,
   "id": "55b055c6",
   "metadata": {},
   "outputs": [],
   "source": [
    "unemp_data['gender_male'] = unemp_data['gender_male'].astype(float)\n",
    "unemp_data['gender_female'] = unemp_data['gender_female'].astype(float)\n",
    "unemp_data['edu_post_hs'] = unemp_data['edu_post_hs'].astype(float)"
   ]
  },
  {
   "cell_type": "code",
   "execution_count": null,
   "id": "bec6f277",
   "metadata": {
    "lines_to_next_cell": 2
   },
   "outputs": [],
   "source": [
    "unemp_data['gender_female'] = unemp_data['gender_female'].fillna(unemp_data.groupby('countyfips')['gender_female'].transform('mean'))\n",
    "unemp_data['edu_post_hs'] = unemp_data['edu_post_hs'].fillna(unemp_data.groupby('countyfips')['edu_post_hs'].transform('mean'))"
   ]
  }
 ],
 "metadata": {
  "jupytext": {
   "cell_metadata_filter": "-all",
   "main_language": "python",
   "notebook_metadata_filter": "-all"
  }
 },
 "nbformat": 4,
 "nbformat_minor": 5
}
