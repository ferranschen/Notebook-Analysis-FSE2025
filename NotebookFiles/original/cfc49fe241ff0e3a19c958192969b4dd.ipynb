{
 "cells": [
  {
   "cell_type": "code",
   "execution_count": null,
   "id": "887c8f3a",
   "metadata": {
    "lines_to_next_cell": 2
   },
   "outputs": [],
   "source": [
    "stats.probplot(scaled[\"total_claims\"],dist=\"norm\",plot=pylab)\n",
    "pylab.show()"
   ]
  }
 ],
 "metadata": {
  "jupytext": {
   "cell_metadata_filter": "-all",
   "main_language": "python",
   "notebook_metadata_filter": "-all"
  }
 },
 "nbformat": 4,
 "nbformat_minor": 5
}
