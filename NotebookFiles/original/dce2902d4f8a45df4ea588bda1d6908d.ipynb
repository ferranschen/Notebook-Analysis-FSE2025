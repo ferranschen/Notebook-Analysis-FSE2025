{
 "cells": [
  {
   "cell_type": "code",
   "execution_count": null,
   "id": "55cec7ff",
   "metadata": {},
   "outputs": [],
   "source": [
    "get_ipython().run_cell_magic('capture', '', \"%logstop\\n%logstart -t -r -q ipython_command_log.py global\\n\\n#- IRONHACKS RESEARCH TRACKING CODE\\n#----------------------------------\\n# The following code is used to help our research team understand how use \\n# our notebook environment. We do not collect any personal information with\\n# the following code, it is used to measure when and how often you work on\\n# your submission files.\\n\\nimport os\\nfrom datetime import datetime\\nimport IPython.core.history as history\\n\\nha = history.HistoryAccessor()\\nha_tail = ha.get_tail(1)\\nha_cmd = next(ha_tail)\\nsession_id = str(ha_cmd[0])\\ncommand_id = str(ha_cmd[1])\\ntimestamp = datetime.utcnow().isoformat()\\nhistory_line = ','.join([session_id, command_id, timestamp]) + '\\\\n'\\nlogfile = open(os.environ['HOME']+'/ipython_session_log.csv', 'a')\\nlogfile.write(history_line)\\nlogfile.close()\\n\")"
   ]
  },
  {
   "cell_type": "code",
   "execution_count": null,
   "id": "1454d284",
   "metadata": {},
   "outputs": [],
   "source": [
    "get_ipython().run_cell_magic('capture', '', \"\\n#- INSTALL ADDITIONAL LIBRARIES IF REQUIRED\\n#------------------------------------------\\n# This is normally not required. The hub environment comes preinstaled with \\n# many packages that you can already use without setup. In case there is some\\n# other library you would like to use that isn't on the list you run this command\\n# once to install them.  If it is already installed this command has no effect.\\n\\n!python3 -m pip install pandas\\n\")"
   ]
  },
  {
   "cell_type": "code",
   "execution_count": null,
   "id": "0856071d",
   "metadata": {},
   "outputs": [],
   "source": [
    "get_ipython().run_line_magic('pip', 'install db-dtypes')"
   ]
  },
  {
   "cell_type": "code",
   "execution_count": null,
   "id": "9c79434b",
   "metadata": {},
   "outputs": [],
   "source": [
    "get_ipython().run_line_magic('pip', 'install plotly')"
   ]
  },
  {
   "cell_type": "markdown",
   "id": "f366e386",
   "metadata": {},
   "source": [
    "- IMPORT THE LIBRARIES YOU WILL USE\n",
    "------------------------------------------\n",
    "You only need to import packages one time per notebook session. To keep your\n",
    "notebook clean and organized you can handle all imports at the top of your file.\n",
    "The following are included for example purposed, feel free to modify or delete \n",
    "anything in this section."
   ]
  },
  {
   "cell_type": "code",
   "execution_count": null,
   "id": "aeb9d1cb",
   "metadata": {},
   "outputs": [],
   "source": [
    "import csv\n",
    "import pandas as pd\n",
    "import numpy as np\n",
    "import seaborn as sns\n",
    "import plotly.express as px\n",
    "import csv"
   ]
  },
  {
   "cell_type": "code",
   "execution_count": null,
   "id": "dde0eb29",
   "metadata": {
    "lines_to_next_cell": 1
   },
   "outputs": [],
   "source": [
    "from google.cloud import bigquery\n",
    "from google.oauth2 import service_account\n",
    "from google.cloud.bigquery import magics"
   ]
  },
  {
   "cell_type": "markdown",
   "id": "a65f2591",
   "metadata": {},
   "source": [
    "- DEFINE YOUR CLASSES AND FUNCTIONS \n",
    "-----------------------------------\n",
    "This is not required, but is helpful in keeping your notebook organized. \n",
    "You can use the following cell or several cells to define your functions\n",
    "and classes to keep them separate from your analysis or results code.\n",
    "In general it useful to define your methods in a separate cell from where\n",
    "it is run."
   ]
  },
  {
   "cell_type": "code",
   "execution_count": null,
   "id": "1a8a4574",
   "metadata": {
    "lines_to_next_cell": 1
   },
   "outputs": [],
   "source": [
    "def querydb(request):\n",
    "    query_job = bigquery_client.query(request)\n",
    "    data = query_job.to_dataframe()\n",
    "    return data"
   ]
  },
  {
   "cell_type": "code",
   "execution_count": null,
   "id": "72f2610d",
   "metadata": {
    "lines_to_next_cell": 1
   },
   "outputs": [],
   "source": [
    "def createSubmission():\n",
    "    return"
   ]
  },
  {
   "cell_type": "markdown",
   "id": "0253b948",
   "metadata": {},
   "source": [
    "load data\n",
    "CONFIGURE THE BIGQUERY SETTINGS"
   ]
  },
  {
   "cell_type": "code",
   "execution_count": null,
   "id": "9f19d6f8",
   "metadata": {},
   "outputs": [],
   "source": [
    "BIGQUERY_PROJECT = 'ironhacks-data'\n",
    "bigquery_client = bigquery.Client(project=BIGQUERY_PROJECT)"
   ]
  },
  {
   "cell_type": "code",
   "execution_count": null,
   "id": "25835531",
   "metadata": {},
   "outputs": [],
   "source": [
    "#Unemployment Data\n",
    "query = \"\"\"\n",
    "SELECT *\n",
    "FROM `ironhacks-data.ironhacks_competition.unemployment_data`\n",
    "\"\"\"\n",
    "unemployment_data = querydb(query)"
   ]
  },
  {
   "cell_type": "code",
   "execution_count": null,
   "id": "cd5a4024",
   "metadata": {},
   "outputs": [],
   "source": [
    "# Wage Data\n",
    "query = \"\"\"\n",
    "SELECT *\n",
    "FROM `ironhacks-data.ironhacks_competition.wage_data`\n",
    "\"\"\"\n",
    "wage_data = querydb(query)"
   ]
  },
  {
   "cell_type": "code",
   "execution_count": null,
   "id": "56fad089",
   "metadata": {},
   "outputs": [],
   "source": [
    "# Prediction Data\n",
    "query = \"\"\"\n",
    "SELECT *\n",
    "FROM `ironhacks-data.ironhacks_competition.prediction_list`\n",
    "\"\"\"\n",
    "prediction_data = querydb(query)"
   ]
  },
  {
   "cell_type": "code",
   "execution_count": null,
   "id": "1d053270",
   "metadata": {},
   "outputs": [],
   "source": [
    "querydb(\"\"\"SELECT * \n",
    "FROM `ironhacks-data.ironhacks_competition.INFORMATION_SCHEMA.TABLES`\"\"\")"
   ]
  },
  {
   "cell_type": "markdown",
   "id": "ee832c1f",
   "metadata": {},
   "source": [
    "# uu_id = \n",
    "# countyflips =\n",
    "# tract = \n",
    "# tract_name = \n",
    "# average_wage = "
   ]
  },
  {
   "cell_type": "code",
   "execution_count": null,
   "id": "4b1b3068",
   "metadata": {},
   "outputs": [],
   "source": [
    "df_wage = wage_data"
   ]
  },
  {
   "cell_type": "code",
   "execution_count": null,
   "id": "138df830",
   "metadata": {},
   "outputs": [],
   "source": [
    "#should add another column called previous week claims, this would probably be a good predictor for the next week of claims\n",
    "df_un = unemployment_data"
   ]
  },
  {
   "cell_type": "code",
   "execution_count": null,
   "id": "8b78952a",
   "metadata": {},
   "outputs": [],
   "source": [
    "df_pred = prediction_data"
   ]
  },
  {
   "cell_type": "code",
   "execution_count": null,
   "id": "dd76b113",
   "metadata": {},
   "outputs": [],
   "source": [
    "df_un[df_un[\"uu_id\"] == \"bbcb018f0e5e49e13636f6e78ce9f60f\"].sort_values(by = [\"week_number\"]).drop_duplicates()"
   ]
  },
  {
   "cell_type": "code",
   "execution_count": null,
   "id": "a318ec9f",
   "metadata": {
    "lines_to_next_cell": 2
   },
   "outputs": [],
   "source": [
    "df_pred[\"uu_id\"]"
   ]
  }
 ],
 "metadata": {
  "jupytext": {
   "cell_metadata_filter": "-all",
   "main_language": "python",
   "notebook_metadata_filter": "-all"
  }
 },
 "nbformat": 4,
 "nbformat_minor": 5
}
