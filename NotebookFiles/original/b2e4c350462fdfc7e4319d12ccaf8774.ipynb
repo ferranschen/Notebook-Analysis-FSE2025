{
 "cells": [
  {
   "cell_type": "code",
   "execution_count": null,
   "id": "e2f27190",
   "metadata": {},
   "outputs": [],
   "source": [
    "get_ipython().run_cell_magic('capture', '', \"%logstop\\n%logstart -t -r -q ipython_command_log.py global\\n\\n#- IRONHACKS RESEARCH TRACKING CODE\\n#----------------------------------\\n# The following code is used to help our research team understand how you \\n# our notebook environment. We do not collect any personal information with\\n# the following code, it is used to measure when and how often you work on\\n# your submission files.\\n\\nimport os\\nfrom datetime import datetime\\nimport IPython.core.history as history\\n\\nha = history.HistoryAccessor()\\nha_tail = ha.get_tail(1)\\nha_cmd = next(ha_tail)\\nsession_id = str(ha_cmd[0])\\ncommand_id = str(ha_cmd[1])\\ntimestamp = datetime.utcnow().isoformat()\\nhistory_line = ','.join([session_id, command_id, timestamp]) + '\\\\n'\\nlogfile = open(os.environ['HOME']+'/ipython_session_log.csv', 'a')\\nlogfile.write(history_line)\\nlogfile.close()\\n\")"
   ]
  },
  {
   "cell_type": "code",
   "execution_count": null,
   "id": "ab8448d2",
   "metadata": {},
   "outputs": [],
   "source": [
    "get_ipython().run_cell_magic('capture', '', \"\\n#- INSTALL ADDITIONAL LIBRARIES IF REQUIRED\\n#------------------------------------------\\n# This is normally not required. The hub environment comes preinstaled with \\n# many packages that you can already use without setup. In case there is some\\n# other library you would like to use that isn't on the list you run this command\\n# once to install them.  If it is already installed this command has no effect.\\n\\n!python3 -m pip install pandas\\n!pip install db-dtypes\\n\")"
   ]
  },
  {
   "cell_type": "markdown",
   "id": "20c29049",
   "metadata": {},
   "source": [
    "- IMPORT THE LIBRARIES YOU WILL USE\n",
    "------------------------------------------\n",
    "You only need to import packages one time per notebook session. To keep your\n",
    "notebook clean and organized you can handle all imports at the top of your file.\n",
    "The following are included for example purposed, feel free to modify or delete \n",
    "anything in this section."
   ]
  },
  {
   "cell_type": "code",
   "execution_count": null,
   "id": "fba5f197",
   "metadata": {},
   "outputs": [],
   "source": [
    "import csv\n",
    "import pandas as pd\n",
    "import numpy as np\n",
    "import seaborn as sns\n",
    "import matplotlib.pyplot as plt\n",
    "import statsmodels.api as sm\n",
    "from google.cloud import bigquery\n",
    "from google.oauth2 import service_account\n",
    "from google.cloud.bigquery import magics\n",
    "from sklearn.model_selection import train_test_split \n",
    "from sklearn.linear_model import LinearRegression\n",
    "from sklearn import metrics\n",
    "from statsmodels.formula.api import ols\n",
    "from pandas import Series, DataFrame"
   ]
  },
  {
   "cell_type": "markdown",
   "id": "168166c9",
   "metadata": {},
   "source": [
    "CONFIGURE THE BIGQUERY SETTINGS"
   ]
  },
  {
   "cell_type": "code",
   "execution_count": null,
   "id": "c7890b5e",
   "metadata": {},
   "outputs": [],
   "source": [
    "BIGQUERY_PROJECT = 'ironhacks-data'\n",
    "bigquery_client = bigquery.Client(project=BIGQUERY_PROJECT)"
   ]
  },
  {
   "cell_type": "code",
   "execution_count": null,
   "id": "da5dda17",
   "metadata": {},
   "outputs": [],
   "source": [
    "query = \"\"\"\n",
    "SELECT *\n",
    "FROM `ironhacks-data.ironhacks_competition.unemployment_data`\n",
    "\"\"\""
   ]
  },
  {
   "cell_type": "code",
   "execution_count": null,
   "id": "f47ffcb0",
   "metadata": {},
   "outputs": [],
   "source": [
    "query_job = bigquery_client.query(query)\n",
    "unemployment_data = query_job.to_dataframe()\n",
    "unemployment_data.head()"
   ]
  },
  {
   "cell_type": "code",
   "execution_count": null,
   "id": "c6143b70",
   "metadata": {},
   "outputs": [],
   "source": [
    "query2 = \"\"\"\n",
    "SELECT *\n",
    "FROM `ironhacks-data.ironhacks_competition.wage_data`\n",
    "\"\"\""
   ]
  },
  {
   "cell_type": "code",
   "execution_count": null,
   "id": "ed227013",
   "metadata": {},
   "outputs": [],
   "source": [
    "query_job2 = bigquery_client.query(query2)\n",
    "wage_data = query_job2.to_dataframe()\n",
    "wage_data.head()"
   ]
  },
  {
   "cell_type": "code",
   "execution_count": null,
   "id": "386fe91a",
   "metadata": {},
   "outputs": [],
   "source": [
    "wage_data[wage_data.isnull().any(axis=1)]"
   ]
  },
  {
   "cell_type": "code",
   "execution_count": null,
   "id": "52b2d715",
   "metadata": {},
   "outputs": [],
   "source": [
    "wage_data2 = wage_data.fillna({'average_wage': wage_data.average_wage.mean()})\n",
    "wage_data2.head()"
   ]
  },
  {
   "cell_type": "code",
   "execution_count": null,
   "id": "e278b9f4",
   "metadata": {},
   "outputs": [],
   "source": [
    "query3 = \"\"\"\n",
    "SELECT *\n",
    "FROM `ironhacks-data.ironhacks_competition.prediction_list`\n",
    "\"\"\""
   ]
  },
  {
   "cell_type": "code",
   "execution_count": null,
   "id": "8eb02ddf",
   "metadata": {},
   "outputs": [],
   "source": [
    "query_job3 = bigquery_client.query(query3)\n",
    "prediction_list = query_job3.to_dataframe()\n",
    "prediction_list.head()"
   ]
  },
  {
   "cell_type": "code",
   "execution_count": null,
   "id": "09ea2297",
   "metadata": {},
   "outputs": [],
   "source": [
    "unemploy_wage_data = pd.merge(unemployment_data, wage_data, on=['uu_id'], how='inner')\n",
    "unemploy_wage_data = unemploy_wage_data.drop(['timeperiod', 'countyfips_y', 'tract_y', 'tract_name_y'], axis=1)\n",
    "unemploy_wage_data = unemploy_wage_data.fillna(0)\n",
    "unemploy_wage_data.head()"
   ]
  },
  {
   "cell_type": "code",
   "execution_count": null,
   "id": "af25fafa",
   "metadata": {},
   "outputs": [],
   "source": [
    "unemploy_wage_data.describe()"
   ]
  },
  {
   "cell_type": "code",
   "execution_count": null,
   "id": "24863a44",
   "metadata": {},
   "outputs": [],
   "source": [
    "sns.relplot(data=unemploy_wage_data, x='week_number', y='total_claims')"
   ]
  },
  {
   "cell_type": "code",
   "execution_count": null,
   "id": "3f8c49a3",
   "metadata": {},
   "outputs": [],
   "source": [
    "sns.distplot(unemploy_wage_data.total_claims, bins=10)"
   ]
  },
  {
   "cell_type": "code",
   "execution_count": null,
   "id": "360a0271",
   "metadata": {},
   "outputs": [],
   "source": [
    "plt.figure(figsize=(20,18))\n",
    "cor = unemploy_wage_data.corr()\n",
    "cmap = sns.diverging_palette(210, 20, as_cmap=True)\n",
    "sns.heatmap(cor, cmap=cmap, vmax=.99, vmin=-.99, annot=True)"
   ]
  },
  {
   "cell_type": "code",
   "execution_count": null,
   "id": "48f99876",
   "metadata": {},
   "outputs": [],
   "source": [
    "X = unemploy_wage_data[['week_number', 'countyfips_x', 'tract_x', 'edu_8th_or_less', 'edu_grades_9_11', \\\n",
    "                        'edu_hs_grad_equiv', 'edu_post_hs', 'edu_unknown', 'gender_female', 'gender_male', \\\n",
    "                        'gender_na', 'race_amerindian', 'race_asian', 'race_black', 'race_noanswer', \\\n",
    "                        'race_hawaiiannative', 'race_other', 'race_white', 'average_wage']]\n",
    "y = unemploy_wage_data['total_claims']"
   ]
  },
  {
   "cell_type": "code",
   "execution_count": null,
   "id": "c29291a7",
   "metadata": {},
   "outputs": [],
   "source": [
    "X_train, X_test, y_train, y_test = train_test_split(X, y, test_size=0.2, random_state=0)"
   ]
  },
  {
   "cell_type": "code",
   "execution_count": null,
   "id": "929a0096",
   "metadata": {},
   "outputs": [],
   "source": [
    "print(f'intercept: {reg.intercept_}')\n",
    "coef = DataFrame(reg.coef_, X.columns, columns=['coefficients'])\n",
    "print(coef)"
   ]
  },
  {
   "cell_type": "code",
   "execution_count": null,
   "id": "b8876636",
   "metadata": {},
   "outputs": [],
   "source": [
    "reg = LinearRegression()  \n",
    "reg.fit(X_train, y_train)\n",
    "print(reg)"
   ]
  },
  {
   "cell_type": "code",
   "execution_count": null,
   "id": "5183a8a1",
   "metadata": {},
   "outputs": [],
   "source": [
    "print(f'intercept: {reg.intercept_}')\n",
    "coef = DataFrame(reg.coef_, X.columns, columns=['coefficients'])\n",
    "print(coef)"
   ]
  },
  {
   "cell_type": "code",
   "execution_count": null,
   "id": "a0a0790b",
   "metadata": {},
   "outputs": [],
   "source": [
    "y_pred = reg.predict(X_test)\n",
    "df = DataFrame({'Actual': y_test, 'Predicted': y_pred})\n",
    "df"
   ]
  },
  {
   "cell_type": "code",
   "execution_count": null,
   "id": "ddb14fdb",
   "metadata": {},
   "outputs": [],
   "source": [
    "print('R squared: {:.2f}'.format(reg.score(X, y)*100))\n",
    "print('MAE:', metrics.mean_absolute_error(y_test, y_pred))\n",
    "print('MSE:', metrics.mean_squared_error(y_test, y_pred))\n",
    "print('RMSE:', np.sqrt(metrics.mean_squared_error(y_test, y_pred)))"
   ]
  },
  {
   "cell_type": "code",
   "execution_count": null,
   "id": "00d2bc94",
   "metadata": {},
   "outputs": [],
   "source": [
    "df['Predicted'].mean()"
   ]
  },
  {
   "cell_type": "code",
   "execution_count": null,
   "id": "e5ac4c71",
   "metadata": {},
   "outputs": [],
   "source": [
    "query = \"\"\"\n",
    "SELECT *\n",
    "FROM `ironhacks-data.ironhacks_competition.unemployment_data`\n",
    "\"\"\""
   ]
  },
  {
   "cell_type": "code",
   "execution_count": null,
   "id": "0f26f5c7",
   "metadata": {},
   "outputs": [],
   "source": [
    "query_job = bigquery_client.query(query)\n",
    "unemployment_data = query_job.to_dataframe()\n",
    "unemployment_data"
   ]
  },
  {
   "cell_type": "code",
   "execution_count": null,
   "id": "e20038b7",
   "metadata": {},
   "outputs": [],
   "source": [
    "query = \"\"\"\n",
    "SELECT *\n",
    "FROM `ironhacks-data.ironhacks_competition.unemployment_data`\n",
    "\"\"\""
   ]
  },
  {
   "cell_type": "code",
   "execution_count": null,
   "id": "ff2083ab",
   "metadata": {},
   "outputs": [],
   "source": [
    "query_job = bigquery_client.query(query)\n",
    "unemployment_data = query_job.to_dataframe()\n",
    "unemployment_data()"
   ]
  },
  {
   "cell_type": "code",
   "execution_count": null,
   "id": "4a9ccdee",
   "metadata": {},
   "outputs": [],
   "source": [
    "query = \"\"\"\n",
    "SELECT *\n",
    "FROM `ironhacks-data.ironhacks_competition.unemployment_data`\n",
    "\"\"\""
   ]
  },
  {
   "cell_type": "code",
   "execution_count": null,
   "id": "269b87f3",
   "metadata": {},
   "outputs": [],
   "source": [
    "query_job = bigquery_client.query(query)\n",
    "unemployment_data = query_job.to_dataframe()\n",
    "unemployment_data.head()"
   ]
  },
  {
   "cell_type": "code",
   "execution_count": null,
   "id": "ca1c70e3",
   "metadata": {},
   "outputs": [],
   "source": [
    "plt.figure(figsize=(18,16))\n",
    "cor = unemploy_wage_data.corr()\n",
    "cmap = sns.diverging_palette(210, 20, as_cmap=True)\n",
    "sns.heatmap(cor, cmap=cmap, vmax=.99, vmin=-.99, annot=True)"
   ]
  },
  {
   "cell_type": "code",
   "execution_count": null,
   "id": "b029af01",
   "metadata": {},
   "outputs": [],
   "source": [
    "plt.figure(figsize=(16,14))\n",
    "cor = unemploy_wage_data.corr()\n",
    "cmap = sns.diverging_palette(210, 20, as_cmap=True)\n",
    "sns.heatmap(cor, cmap=cmap, vmax=.99, vmin=-.99, annot=True)"
   ]
  },
  {
   "cell_type": "code",
   "execution_count": null,
   "id": "2ae0173f",
   "metadata": {},
   "outputs": [],
   "source": [
    "predicted_unemploy = pd.merge(unemploy_wage_data,df)"
   ]
  },
  {
   "cell_type": "code",
   "execution_count": null,
   "id": "b9d57e39",
   "metadata": {},
   "outputs": [],
   "source": [
    "query3 = \"\"\"\n",
    "SELECT *\n",
    "FROM `ironhacks-data.ironhacks_competition.prediction_list`\n",
    "\"\"\""
   ]
  },
  {
   "cell_type": "code",
   "execution_count": null,
   "id": "71cc7e0b",
   "metadata": {},
   "outputs": [],
   "source": [
    "query_job3 = bigquery_client.query(query3)\n",
    "prediction_list = query_job3.to_dataframe()\n",
    "prediction_list"
   ]
  },
  {
   "cell_type": "code",
   "execution_count": null,
   "id": "e6220bae",
   "metadata": {},
   "outputs": [],
   "source": [
    "query3 = \"\"\"\n",
    "SELECT *\n",
    "FROM `ironhacks-data.ironhacks_competition.prediction_list`\n",
    "\"\"\""
   ]
  },
  {
   "cell_type": "code",
   "execution_count": null,
   "id": "16d9703c",
   "metadata": {},
   "outputs": [],
   "source": [
    "query_job3 = bigquery_client.query(query3)\n",
    "prediction_list = query_job3.to_dataframe()\n",
    "prediction_list.head()"
   ]
  },
  {
   "cell_type": "code",
   "execution_count": null,
   "id": "f8cccadc",
   "metadata": {},
   "outputs": [],
   "source": [
    "unemployment_data.week_number.unique()"
   ]
  },
  {
   "cell_type": "code",
   "execution_count": null,
   "id": "49c1c07d",
   "metadata": {},
   "outputs": [],
   "source": [
    "predicted_claims = prediction_list.values\n",
    "predicted_claims"
   ]
  },
  {
   "cell_type": "code",
   "execution_count": null,
   "id": "6f06b9eb",
   "metadata": {},
   "outputs": [],
   "source": [
    "reg = LinearRegression()  \n",
    "reg.fit(X, y)\n",
    "print(reg)"
   ]
  },
  {
   "cell_type": "code",
   "execution_count": null,
   "id": "1b53924a",
   "metadata": {},
   "outputs": [],
   "source": [
    "print(f'intercept: {reg.intercept_}')\n",
    "coef = DataFrame(reg.coef_, X.columns, columns=['coefficients'])\n",
    "print(coef)"
   ]
  },
  {
   "cell_type": "code",
   "execution_count": null,
   "id": "554c0667",
   "metadata": {},
   "outputs": [],
   "source": [
    "final_reg = LinearRegression()  \n",
    "final_reg.fit(X, y)\n",
    "print(final_reg)"
   ]
  },
  {
   "cell_type": "code",
   "execution_count": null,
   "id": "8c04c3d4",
   "metadata": {},
   "outputs": [],
   "source": [
    "print(f'intercept: {final_reg.intercept_}')\n",
    "coef = DataFrame(final_reg.coef_, X.columns, columns=['coefficients'])\n",
    "print(coef)"
   ]
  },
  {
   "cell_type": "code",
   "execution_count": null,
   "id": "02602d22",
   "metadata": {},
   "outputs": [],
   "source": [
    "prediction_data = pd.merge(unemploy_wage_data, prediction_data, on=['uu_id'], how='inner')\n",
    "prediction_data.head()"
   ]
  },
  {
   "cell_type": "code",
   "execution_count": null,
   "id": "af5b8f8e",
   "metadata": {},
   "outputs": [],
   "source": [
    "prediction_data = pd.merge(unemploy_wage_data, prediction_list, on=['uu_id'], how='inner')\n",
    "prediction_data.head()"
   ]
  },
  {
   "cell_type": "code",
   "execution_count": null,
   "id": "37af23b4",
   "metadata": {},
   "outputs": [],
   "source": [
    "prediction_data = pd.merge(unemploy_wage_data, prediction_list, on=['uu_id'], how='inner')\n",
    "prediction_data = prediction_data.drop(['week_number_x','total_claims'],axis=1)\n",
    "prediction_data.head()"
   ]
  },
  {
   "cell_type": "code",
   "execution_count": null,
   "id": "fe03cbcc",
   "metadata": {},
   "outputs": [],
   "source": [
    "prediction_data = pd.merge(unemploy_wage_data, prediction_list, on=['uu_id'], how='inner')\n",
    "prediction_data = prediction_data.drop(['week_number_x','total_claims'],axis=1)\n",
    "prediction_data = prediction_data.groupby(['uu_id'])\n",
    "prediction_data.head()"
   ]
  },
  {
   "cell_type": "code",
   "execution_count": null,
   "id": "7a267513",
   "metadata": {},
   "outputs": [],
   "source": [
    "prediction_data = pd.merge(unemploy_wage_data, prediction_list, on=['uu_id'], how='inner')\n",
    "prediction_data = prediction_data.drop(['week_number_x','total_claims'],axis=1)\n",
    "prediction_data = prediction_data.groupby(['uu_id'])\n",
    "prediction_data"
   ]
  },
  {
   "cell_type": "code",
   "execution_count": null,
   "id": "c9ae9499",
   "metadata": {},
   "outputs": [],
   "source": [
    "prediction_data = pd.merge(unemploy_wage_data, prediction_list, on=['uu_id'], how='inner')\n",
    "prediction_data = prediction_data.drop(['week_number_x','total_claims'],axis=1)\n",
    "prediction_data = prediction_data.groupby(['uu_id'])\n",
    "prediction_data.head()"
   ]
  },
  {
   "cell_type": "code",
   "execution_count": null,
   "id": "a4536ac5",
   "metadata": {},
   "outputs": [],
   "source": [
    "prediction_data = pd.merge(unemploy_wage_data, prediction_list, on=['uu_id'], how='inner')\n",
    "prediction_data = prediction_data.drop(['week_number_x','total_claims'],axis=1)\n",
    "prediction_data = prediction_data.groupby(['uu_id']).mean()\n",
    "prediction_data.head()"
   ]
  },
  {
   "cell_type": "code",
   "execution_count": null,
   "id": "80f70b96",
   "metadata": {},
   "outputs": [],
   "source": [
    "prediction_data = pd.merge(unemploy_wage_data, prediction_list, on=['uu_id'], how='inner')\n",
    "prediction_data = prediction_data.drop(['week_number_x','total_claims'],axis=1)\n",
    "prediction_data = prediction_data.groupby(['uu_id']).mean()\n",
    "prediction_data"
   ]
  },
  {
   "cell_type": "code",
   "execution_count": null,
   "id": "a77cfc74",
   "metadata": {},
   "outputs": [],
   "source": [
    "final_reg = LinearRegression()  \n",
    "final_reg.fit(X, y)\n",
    "final_X = prediction_data[['week_number', 'countyfips_x', 'tract_x', 'edu_8th_or_less', 'edu_grades_9_11', \\\n",
    "                           'edu_hs_grad_equiv', 'edu_post_hs', 'edu_unknown', 'gender_female', 'gender_male', \\\n",
    "                           'gender_na', 'race_amerindian', 'race_asian', 'race_black', 'race_noanswer', \\\n",
    "                           'race_hawaiiannative', 'race_other', 'race_white', 'average_wage']]\n",
    "pred_claims = final_reg.predict(final_X)\n",
    "pred_caims"
   ]
  },
  {
   "cell_type": "code",
   "execution_count": null,
   "id": "d3cfdc2a",
   "metadata": {},
   "outputs": [],
   "source": [
    "final_reg = LinearRegression()  \n",
    "final_reg.fit(X, y)\n",
    "final_X = prediction_data[['week_number', 'countyfips_x', 'tract_x', 'edu_8th_or_less', 'edu_grades_9_11', \\\n",
    "                           'edu_hs_grad_equiv', 'edu_post_hs', 'edu_unknown', 'gender_female', 'gender_male', \\\n",
    "                           'gender_na', 'race_amerindian', 'race_asian', 'race_black', 'race_noanswer', \\\n",
    "                           'race_hawaiiannative', 'race_other', 'race_white', 'average_wage']]\n",
    "pred_claims = final_reg.predict(final_X)\n",
    "pred_claims"
   ]
  },
  {
   "cell_type": "code",
   "execution_count": null,
   "id": "3f6b6051",
   "metadata": {},
   "outputs": [],
   "source": [
    "final_reg = LinearRegression()  \n",
    "final_reg.fit(X, y)\n",
    "final_X = prediction_data[['week_number_y', 'countyfips_x', 'tract_x', 'edu_8th_or_less', 'edu_grades_9_11', \\\n",
    "                           'edu_hs_grad_equiv', 'edu_post_hs', 'edu_unknown', 'gender_female', 'gender_male', \\\n",
    "                           'gender_na', 'race_amerindian', 'race_asian', 'race_black', 'race_noanswer', \\\n",
    "                           'race_hawaiiannative', 'race_other', 'race_white', 'average_wage']]\n",
    "pred_claims = final_reg.predict(final_X)\n",
    "pred_claims"
   ]
  },
  {
   "cell_type": "code",
   "execution_count": null,
   "id": "ecd9200b",
   "metadata": {},
   "outputs": [],
   "source": [
    "final_reg = LinearRegression()  \n",
    "final_reg.fit(X, y)\n",
    "final_X = prediction_data[['week_number_y', 'countyfips_x', 'tract_x', 'edu_8th_or_less', 'edu_grades_9_11', \\\n",
    "                           'edu_hs_grad_equiv', 'edu_post_hs', 'edu_unknown', 'gender_female', 'gender_male', \\\n",
    "                           'gender_na', 'race_amerindian', 'race_asian', 'race_black', 'race_noanswer', \\\n",
    "                           'race_hawaiiannative', 'race_other', 'race_white', 'average_wage']]\n",
    "pred_claims = final_reg.predict(final_X)\n",
    "prediction_list[total_claims] = int(pred_claims)\n",
    "prediction_list"
   ]
  },
  {
   "cell_type": "code",
   "execution_count": null,
   "id": "b9e2d23d",
   "metadata": {},
   "outputs": [],
   "source": [
    "final_reg = LinearRegression()  \n",
    "final_reg.fit(X, y)\n",
    "final_X = prediction_data[['week_number_y', 'countyfips_x', 'tract_x', 'edu_8th_or_less', 'edu_grades_9_11', \\\n",
    "                           'edu_hs_grad_equiv', 'edu_post_hs', 'edu_unknown', 'gender_female', 'gender_male', \\\n",
    "                           'gender_na', 'race_amerindian', 'race_asian', 'race_black', 'race_noanswer', \\\n",
    "                           'race_hawaiiannative', 'race_other', 'race_white', 'average_wage']]\n",
    "pred_claims = final_reg.predict(final_X)\n",
    "prediction_list[total_claims] = pred_claims\n",
    "prediction_list"
   ]
  },
  {
   "cell_type": "code",
   "execution_count": null,
   "id": "dadeac8d",
   "metadata": {},
   "outputs": [],
   "source": [
    "final_reg = LinearRegression()  \n",
    "final_reg.fit(X, y)\n",
    "final_X = prediction_data[['week_number_y', 'countyfips_x', 'tract_x', 'edu_8th_or_less', 'edu_grades_9_11', \\\n",
    "                           'edu_hs_grad_equiv', 'edu_post_hs', 'edu_unknown', 'gender_female', 'gender_male', \\\n",
    "                           'gender_na', 'race_amerindian', 'race_asian', 'race_black', 'race_noanswer', \\\n",
    "                           'race_hawaiiannative', 'race_other', 'race_white', 'average_wage']]\n",
    "pred_claims = final_reg.predict(final_X)\n",
    "prediction_list['total_claims'] = pred_claims\n",
    "prediction_list"
   ]
  },
  {
   "cell_type": "code",
   "execution_count": null,
   "id": "9b1a140e",
   "metadata": {},
   "outputs": [],
   "source": [
    "final_reg = LinearRegression()  \n",
    "final_reg.fit(X, y)\n",
    "final_X = prediction_data[['week_number_y', 'countyfips_x', 'tract_x', 'edu_8th_or_less', 'edu_grades_9_11', \\\n",
    "                           'edu_hs_grad_equiv', 'edu_post_hs', 'edu_unknown', 'gender_female', 'gender_male', \\\n",
    "                           'gender_na', 'race_amerindian', 'race_asian', 'race_black', 'race_noanswer', \\\n",
    "                           'race_hawaiiannative', 'race_other', 'race_white', 'average_wage']]\n",
    "pred_claims = final_reg.predict(final_X)\n",
    "prediction_list['total_claims'] = int(pred_claims)\n",
    "prediction_list"
   ]
  },
  {
   "cell_type": "code",
   "execution_count": null,
   "id": "23d529a6",
   "metadata": {},
   "outputs": [],
   "source": [
    "final_reg = LinearRegression()  \n",
    "final_reg.fit(X, y)\n",
    "final_X = prediction_data[['week_number_y', 'countyfips_x', 'tract_x', 'edu_8th_or_less', 'edu_grades_9_11', \\\n",
    "                           'edu_hs_grad_equiv', 'edu_post_hs', 'edu_unknown', 'gender_female', 'gender_male', \\\n",
    "                           'gender_na', 'race_amerindian', 'race_asian', 'race_black', 'race_noanswer', \\\n",
    "                           'race_hawaiiannative', 'race_other', 'race_white', 'average_wage']]\n",
    "pred_claims = final_reg.predict(final_X)\n",
    "prediction_list['total_claims'] = pred_claims\n",
    "prediction_list"
   ]
  },
  {
   "cell_type": "code",
   "execution_count": null,
   "id": "3ce5a627",
   "metadata": {},
   "outputs": [],
   "source": [
    "unemploy_wage_data.groupby(['uu_id'])['total_claims'].mean()"
   ]
  },
  {
   "cell_type": "code",
   "execution_count": null,
   "id": "d381ec83",
   "metadata": {},
   "outputs": [],
   "source": [
    "final_reg = LinearRegression()  \n",
    "final_reg.fit(X, y)\n",
    "final_X = prediction_data[['week_number_y', 'countyfips_x', 'tract_x', 'edu_8th_or_less', 'edu_grades_9_11', \\\n",
    "                           'edu_hs_grad_equiv', 'edu_post_hs', 'edu_unknown', 'gender_female', 'gender_male', \\\n",
    "                           'gender_na', 'race_amerindian', 'race_asian', 'race_black', 'race_noanswer', \\\n",
    "                           'race_hawaiiannative', 'race_other', 'race_white', 'average_wage']]\n",
    "pred_claims = final_reg.predict(final_X)\n",
    "prediction_list['total_claims'] = pred_claims.astype(int)\n",
    "prediction_list"
   ]
  },
  {
   "cell_type": "code",
   "execution_count": null,
   "id": "7f568de7",
   "metadata": {},
   "outputs": [],
   "source": [
    "unemployment_prediction_data.to_csv('submission_prediction_output.csv', index=False)"
   ]
  },
  {
   "cell_type": "code",
   "execution_count": null,
   "id": "9251faad",
   "metadata": {},
   "outputs": [],
   "source": [
    "prediction_list.to_csv('submission_prediction_output.csv', index=False)"
   ]
  },
  {
   "cell_type": "code",
   "execution_count": null,
   "id": "10a26434",
   "metadata": {
    "lines_to_next_cell": 2
   },
   "outputs": [],
   "source": [
    "#Make prediction\n",
    "prediction_data = pd.merge(unemploy_wage_data, prediction_list, on=['uu_id'], how='inner')\n",
    "prediction_data = prediction_data.drop(['week_number_x','total_claims'],axis=1)\n",
    "prediction_data = prediction_data.groupby(['uu_id']).mean()\n",
    "prediction_data"
   ]
  }
 ],
 "metadata": {
  "jupytext": {
   "cell_metadata_filter": "-all",
   "main_language": "python",
   "notebook_metadata_filter": "-all"
  }
 },
 "nbformat": 4,
 "nbformat_minor": 5
}
