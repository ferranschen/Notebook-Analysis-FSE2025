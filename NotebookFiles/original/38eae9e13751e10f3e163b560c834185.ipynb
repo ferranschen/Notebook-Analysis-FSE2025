{
 "cells": [
  {
   "cell_type": "code",
   "execution_count": null,
   "id": "d23d811a",
   "metadata": {},
   "outputs": [],
   "source": [
    "get_ipython().run_cell_magic('capture', '', \"%logstop\\n%logstart -t -r -q ipython_command_log.py global\\n\\n#- IRONHACKS RESEARCH TRACKING CODE\\n#----------------------------------\\n\\nimport os\\nfrom datetime import datetime\\nimport IPython.core.history as history\\n\\nha = history.HistoryAccessor()\\nha_tail = ha.get_tail(1)\\nha_cmd = next(ha_tail)\\nsession_id = str(ha_cmd[0])\\ncommand_id = str(ha_cmd[1])\\ntimestamp = datetime.utcnow().isoformat()\\nhistory_line = ','.join([session_id, command_id, timestamp]) + '\\\\n'\\nlogfile = open(os.environ['HOME']+'/ipython_session_log.csv', 'a')\\nlogfile.write(history_line)\\nlogfile.close()\\n\")"
   ]
  },
  {
   "cell_type": "markdown",
   "id": "26b5e00b",
   "metadata": {},
   "source": [
    "- LIBRARIES\n",
    "------------------------------------------\n",
    "DATA PROCESSING\n",
    "import pandas, google-cloud-bigquery, chardet, click, cytoolz, dask, decorator, pyjson5, jsonschema, tables"
   ]
  },
  {
   "cell_type": "markdown",
   "id": "5217bfff",
   "metadata": {},
   "source": [
    "STATISTICAL MODELING\n",
    "import numpy, scipy, statsmodels, statistics, scikit-learn, patsy, simpy"
   ]
  },
  {
   "cell_type": "markdown",
   "id": "47d088dd",
   "metadata": {},
   "source": [
    "DATA VISUALIZATION\n",
    "import plotly, bokeh, seaborn, matplotlib, vincent"
   ]
  },
  {
   "cell_type": "code",
   "execution_count": null,
   "id": "3c73fc02",
   "metadata": {},
   "outputs": [],
   "source": [
    "import csv\n",
    "import pandas as pd\n",
    "import numpy as np"
   ]
  },
  {
   "cell_type": "code",
   "execution_count": null,
   "id": "b8a49d4e",
   "metadata": {},
   "outputs": [],
   "source": [
    "from google.cloud import bigquery\n",
    "from google.oauth2 import service_account\n",
    "from google.cloud.bigquery import magics"
   ]
  },
  {
   "cell_type": "code",
   "execution_count": null,
   "id": "9127bcfe",
   "metadata": {},
   "outputs": [],
   "source": [
    "from sklearn.model_selection import train_test_split \n",
    "from sklearn.linear_model import LinearRegression\n",
    "from sklearn import metrics\n",
    "import seaborn as sns\n",
    "import matplotlib.pyplot as plt "
   ]
  },
  {
   "cell_type": "markdown",
   "id": "1d8b78cb",
   "metadata": {},
   "source": [
    "- PROJECT INFORMATION\n",
    "------------------------------------------\n",
    "These details for the Ironhack project are needed for the Query client"
   ]
  },
  {
   "cell_type": "code",
   "execution_count": null,
   "id": "149b573f",
   "metadata": {
    "lines_to_next_cell": 1
   },
   "outputs": [],
   "source": [
    "BIGQUERY_PROJECT = 'ironhacks-data'\n",
    "bigquery_client = bigquery.Client(project=BIGQUERY_PROJECT)"
   ]
  },
  {
   "cell_type": "markdown",
   "id": "2dbca22a",
   "metadata": {},
   "source": [
    "- DEFINE YOUR CLASSES AND FUNCTIONS \n",
    "----------------------------------"
   ]
  },
  {
   "cell_type": "markdown",
   "id": "0c4b4f67",
   "metadata": {},
   "source": [
    "QUERY FUNCTION"
   ]
  },
  {
   "cell_type": "code",
   "execution_count": null,
   "id": "1e5abba9",
   "metadata": {
    "lines_to_next_cell": 1
   },
   "outputs": [],
   "source": [
    "def query_from_statement(query):\n",
    "    query_job = bigquery_client.query(query)  # BIGQUERY \n",
    "    df = query_job.to_dataframe() # TURNING INTO PANDAS DF\n",
    "    #display(df.tail(n=5))\n",
    "    #print(df.shape)\n",
    "    return df"
   ]
  },
  {
   "cell_type": "code",
   "execution_count": null,
   "id": "9b95ec11",
   "metadata": {},
   "outputs": [],
   "source": [
    "u_claims_query = \"\"\"\n",
    "SELECT *\n",
    "FROM `ironhacks-data.ironhacks_competition.unemployment_data`\n",
    "Where week_number between 1 and 37\n",
    "order by week_number\n",
    "\"\"\""
   ]
  },
  {
   "cell_type": "code",
   "execution_count": null,
   "id": "5cf6ec14",
   "metadata": {},
   "outputs": [],
   "source": [
    "unemployment_claims_data = query_from_statement(u_claims_query)"
   ]
  },
  {
   "cell_type": "code",
   "execution_count": null,
   "id": "74873f85",
   "metadata": {},
   "outputs": [],
   "source": [
    "wage_query = \"\"\"\n",
    "SELECT *\n",
    "FROM `ironhacks-data.ironhacks_competition.wage_data`\n",
    "\"\"\""
   ]
  },
  {
   "cell_type": "code",
   "execution_count": null,
   "id": "616a662f",
   "metadata": {},
   "outputs": [],
   "source": [
    "unemployment_wage_data = query_from_statement(wage_query)"
   ]
  },
  {
   "cell_type": "code",
   "execution_count": null,
   "id": "b0a3a149",
   "metadata": {},
   "outputs": [],
   "source": [
    "duplicated_rows = sum(unemployment_claims_data.duplicated()) # CHECKING FOR DUPLICATED ROWS\n",
    "# THERE ARE 3079 DUPLICATED ROWS BETWEEN WEEKS 1 and 37\n",
    "unemployment_claims_data = unemployment_claims_data.drop_duplicates()"
   ]
  },
  {
   "cell_type": "code",
   "execution_count": null,
   "id": "42e0d913",
   "metadata": {},
   "outputs": [],
   "source": [
    "duplicated_rows = sum(unemployment_wage_data.duplicated()) # CHECKING FOR DUPLICATED ROWS\n",
    "# THERE ARE NO DUPLICATES"
   ]
  },
  {
   "cell_type": "code",
   "execution_count": null,
   "id": "f77cb36d",
   "metadata": {},
   "outputs": [],
   "source": [
    "print(unemployment_claims_data.isna().sum())\n",
    "print(unemployment_wage_data.isna().sum())"
   ]
  },
  {
   "cell_type": "code",
   "execution_count": null,
   "id": "80ed0001",
   "metadata": {},
   "outputs": [],
   "source": [
    "unemployment_claims_data = unemployment_claims_data.fillna(0)\n",
    "unemployment_wage_data = unemployment_wage_data.fillna(0)"
   ]
  },
  {
   "cell_type": "code",
   "execution_count": null,
   "id": "4df87911",
   "metadata": {},
   "outputs": [],
   "source": [
    "data = unemployment_claims_data.join(unemployment_wage_data.set_index('uu_id'), on='uu_id',  rsuffix='_other') # JOINING \n",
    "data = data.drop(['countyfips_other', 'tract_other','tract_name_other'], axis=1) # REMOVING REPEATED COLUMNS IN BOTH TABLES"
   ]
  },
  {
   "cell_type": "code",
   "execution_count": null,
   "id": "61788f34",
   "metadata": {},
   "outputs": [],
   "source": [
    "data = data.drop(['tract_name', 'top_category_employer1', 'top_category_employer2',\n",
    "                  'top_category_employer3'], axis=1)\n",
    "print(data.shape)\n",
    "display(data.tail(n=5))"
   ]
  },
  {
   "cell_type": "code",
   "execution_count": null,
   "id": "720a8ee9",
   "metadata": {},
   "outputs": [],
   "source": [
    "plt.figure(figsize=(8,6))\n",
    "cor = data.corr().round(2)\n",
    "sns.heatmap(cor, annot=True, cmap=plt.cm.Reds, annot_kws={\"size\": 6})\n",
    "plt.show()"
   ]
  },
  {
   "cell_type": "code",
   "execution_count": null,
   "id": "143f7947",
   "metadata": {},
   "outputs": [],
   "source": [
    "data = data.drop(['uu_id','timeperiod'], axis=1)"
   ]
  },
  {
   "cell_type": "code",
   "execution_count": null,
   "id": "e17ea571",
   "metadata": {},
   "outputs": [],
   "source": [
    "y = np.array(data['total_claims'].values).reshape(-1,1)"
   ]
  },
  {
   "cell_type": "code",
   "execution_count": null,
   "id": "eb04cdb4",
   "metadata": {},
   "outputs": [],
   "source": [
    "data = data.drop(['total_claims'], axis=1)\n",
    "X = data.values"
   ]
  },
  {
   "cell_type": "code",
   "execution_count": null,
   "id": "0cb7d86a",
   "metadata": {},
   "outputs": [],
   "source": [
    "X_train, X_test, y_train, y_test = train_test_split(X, y, test_size=0.2, random_state=0)\n",
    "print(f'Training Features Shape: {X_train.shape}')\n",
    "print(f'Testing Features Shape: {X_test.shape}')\n",
    "print(f'Training Labels Shape: {y_train.shape}')\n",
    "print(f'Testing Labels Shape: {y_test.shape}')"
   ]
  },
  {
   "cell_type": "code",
   "execution_count": null,
   "id": "c19f00a8",
   "metadata": {},
   "outputs": [],
   "source": [
    "regressor = LinearRegression()  \n",
    "regressor.fit(X_train, y_train)\n",
    "print(regressor.intercept_)\n",
    "print(regressor.coef_)"
   ]
  },
  {
   "cell_type": "code",
   "execution_count": null,
   "id": "a9489549",
   "metadata": {},
   "outputs": [],
   "source": [
    "y_pred = regressor.predict(X_test)"
   ]
  },
  {
   "cell_type": "code",
   "execution_count": null,
   "id": "b91839b3",
   "metadata": {},
   "outputs": [],
   "source": [
    "plt.scatter(y_test, y_pred,  color='gray')\n",
    "plt.show()"
   ]
  },
  {
   "cell_type": "code",
   "execution_count": null,
   "id": "b81754bd",
   "metadata": {},
   "outputs": [],
   "source": [
    "metrics.mean_absolute_percentage_error(y_test, y_pred)"
   ]
  },
  {
   "cell_type": "code",
   "execution_count": null,
   "id": "4e01387e",
   "metadata": {},
   "outputs": [],
   "source": [
    "prediction_query = \"\"\"\n",
    "SELECT *\n",
    "FROM `ironhacks-data.ironhacks_competition.prediction_list`\n",
    "\"\"\""
   ]
  },
  {
   "cell_type": "code",
   "execution_count": null,
   "id": "19decaf5",
   "metadata": {},
   "outputs": [],
   "source": [
    "unemployment_prediction_data = query_from_statement(prediction_query)\n",
    "print(unemployment_prediction_data.shape)\n",
    "display(unemployment_prediction_data.head(n=5))"
   ]
  },
  {
   "cell_type": "code",
   "execution_count": null,
   "id": "2fa9f19f",
   "metadata": {},
   "outputs": [],
   "source": [
    "unemployclaims_supplemental_query = \"\"\"\n",
    "SELECT *\n",
    "FROM `ironhacks-data.ironhacks_competition.unemployment_data`\n",
    "Where week_number between 1 and 37\n",
    "order by week_number\n",
    "\"\"\""
   ]
  },
  {
   "cell_type": "code",
   "execution_count": null,
   "id": "fb413e55",
   "metadata": {},
   "outputs": [],
   "source": [
    "unemployclaims_supplemental_data = query_from_statement(unemployclaims_supplemental_query)"
   ]
  },
  {
   "cell_type": "code",
   "execution_count": null,
   "id": "858ba04d",
   "metadata": {},
   "outputs": [],
   "source": [
    "# APPLYING ALL TRANSFORMATIONS TO THE LATEST WEEK ONLY DATAFRAME\n",
    "unemployclaims_supplemental_data = unemployclaims_supplemental_data.drop_duplicates(subset=['uu_id'], keep='last')"
   ]
  },
  {
   "cell_type": "code",
   "execution_count": null,
   "id": "e8bf1f04",
   "metadata": {},
   "outputs": [],
   "source": [
    "unemployclaims_supplemental_data = unemployclaims_supplemental_data.join(unemployment_wage_data.set_index('uu_id'), on='uu_id',  rsuffix='_other') # JOINING\n",
    "unemployclaims_supplemental_data = unemployclaims_supplemental_data.drop(['countyfips_other', 'tract_other','tract_name_other'], axis=1) # REMOVING REPEATED COLUMNS IN BOTH TABLES\n",
    "unemployclaims_supplemental_data = unemployclaims_supplemental_data.drop(['tract_name', 'top_category_employer1', 'top_category_employer2', 'top_category_employer3'], axis=1)\n",
    "unemployclaims_supplemental_data = unemployclaims_supplemental_data.drop(['timeperiod'], axis=1)\n",
    "unemployclaims_supplemental_data = unemployclaims_supplemental_data.drop(['total_claims'], axis=1)"
   ]
  },
  {
   "cell_type": "code",
   "execution_count": null,
   "id": "81d3f695",
   "metadata": {},
   "outputs": [],
   "source": [
    "unemployclaims_supplemental_data = unemployclaims_supplemental_data.fillna(0)"
   ]
  },
  {
   "cell_type": "code",
   "execution_count": null,
   "id": "239f82e7",
   "metadata": {},
   "outputs": [],
   "source": [
    "print(unemployclaims_supplemental_data.shape)\n",
    "display(unemployclaims_supplemental_data.head(n=5))"
   ]
  },
  {
   "cell_type": "code",
   "execution_count": null,
   "id": "d85df168",
   "metadata": {},
   "outputs": [],
   "source": [
    "final_prediction_data = unemployment_prediction_data.join(unemployclaims_supplemental_data.set_index('uu_id'), on='uu_id',  rsuffix='_other') # JOINING\n",
    "final_prediction_data = final_prediction_data.drop(['uu_id', 'week_number_other'], axis=1)\n",
    "print(final_prediction_data.shape)"
   ]
  },
  {
   "cell_type": "code",
   "execution_count": null,
   "id": "fe0b16bb",
   "metadata": {},
   "outputs": [],
   "source": [
    "future_regressor = LinearRegression()  \n",
    "future_regressor.fit(X, y)\n",
    "print(future_regressor.intercept_)\n",
    "print(future_regressor.coef_)"
   ]
  },
  {
   "cell_type": "code",
   "execution_count": null,
   "id": "fc085c0c",
   "metadata": {},
   "outputs": [],
   "source": [
    "future = final_prediction_data.values\n",
    "future_weeks_pred = future_regressor.predict(future)\n",
    "print(future_weeks_pred.shape)"
   ]
  },
  {
   "cell_type": "code",
   "execution_count": null,
   "id": "b8900bac",
   "metadata": {},
   "outputs": [],
   "source": [
    "unemployment_prediction_data['total_claims'] = future_weeks_pred.astype(int)\n",
    "display(unemployment_prediction_data)"
   ]
  },
  {
   "cell_type": "code",
   "execution_count": null,
   "id": "80962944",
   "metadata": {
    "lines_to_next_cell": 2
   },
   "outputs": [],
   "source": [
    "unemployment_prediction_data.to_csv(\"submission_prediction_output.csv\",index=False)"
   ]
  }
 ],
 "metadata": {
  "jupytext": {
   "cell_metadata_filter": "-all",
   "main_language": "python",
   "notebook_metadata_filter": "-all"
  }
 },
 "nbformat": 4,
 "nbformat_minor": 5
}
