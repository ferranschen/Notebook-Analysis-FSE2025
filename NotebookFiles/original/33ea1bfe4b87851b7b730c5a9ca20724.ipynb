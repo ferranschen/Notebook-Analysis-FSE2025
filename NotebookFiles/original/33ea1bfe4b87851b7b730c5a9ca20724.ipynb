{
 "cells": [
  {
   "cell_type": "code",
   "execution_count": null,
   "id": "f0d8d620",
   "metadata": {},
   "outputs": [],
   "source": [
    "get_ipython().run_cell_magic('capture', '', \"%logstop\\n%logstart -t -r -q ipython_command_log.py global\\n\\n#- IRONHACKS RESEARCH TRACKING CODE\\n#----------------------------------\\n# The following code is used to help our research team understand how you \\n# our notebook environment. We do not collect any personal information with\\n# the following code, it is used to measure when and how often you work on\\n# your submission files.\\n\\nimport os\\nfrom datetime import datetime\\nimport IPython.core.history as history\\n\\nha = history.HistoryAccessor()\\nha_tail = ha.get_tail(1)\\nha_cmd = next(ha_tail)\\nsession_id = str(ha_cmd[0])\\ncommand_id = str(ha_cmd[1])\\ntimestamp = datetime.utcnow().isoformat()\\nhistory_line = ','.join([session_id, command_id, timestamp]) + '\\\\n'\\nlogfile = open(os.environ['HOME']+'/ipython_session_log.csv', 'a')\\nlogfile.write(history_line)\\nlogfile.close()\\n\")"
   ]
  },
  {
   "cell_type": "code",
   "execution_count": null,
   "id": "1d556ae4",
   "metadata": {},
   "outputs": [],
   "source": [
    "get_ipython().run_cell_magic('capture', '', \"\\n#- INSTALL ADDITIONAL LIBRARIES IF REQUIRED\\n#------------------------------------------\\n# This is normally not required. The hub environment comes preinstaled with \\n# many packages that you can already use without setup. In case there is some\\n# other library you would like to use that isn't on the list you run this command\\n# once to install them.  If it is already installed this command has no effect.\\n\\n#!python3 -m pip install pandas\\n\")"
   ]
  },
  {
   "cell_type": "markdown",
   "id": "ae3da6f3",
   "metadata": {},
   "source": [
    "- IMPORT THE LIBRARIES YOU WILL USE\n",
    "------------------------------------------\n",
    "You only need to import packages one time per notebook session. To keep your\n",
    "notebook clean and organized you can handle all imports at the top of your file.\n",
    "The following are included for example purposed, feel free to modify or delete \n",
    "anything in this section."
   ]
  },
  {
   "cell_type": "code",
   "execution_count": null,
   "id": "a1e99c64",
   "metadata": {},
   "outputs": [],
   "source": [
    "import csv\n",
    "import pandas as pd\n",
    "import numpy as np\n",
    "from google.cloud import bigquery\n",
    "from google.oauth2 import service_account\n",
    "from google.cloud.bigquery import magics"
   ]
  },
  {
   "cell_type": "markdown",
   "id": "6ccc3736",
   "metadata": {},
   "source": [
    "- DEFINE YOUR CLASSES AND FUNCTIONS \n",
    "-----------------------------------\n",
    "This is not required, but is helpful in keeping your notebook organized. \n",
    "You can use the following cell or several cells to define your functions\n",
    "and classes to keep them separate from your analysis or results code.\n",
    "In general it useful to define your methods in a separate cell from where\n",
    "it is run."
   ]
  },
  {
   "cell_type": "code",
   "execution_count": null,
   "id": "6a430c6a",
   "metadata": {},
   "outputs": [],
   "source": [
    "BIGQUERY_PROJECT = 'ironhacks-data'\n",
    "bigquery_client = bigquery.Client(project=BIGQUERY_PROJECT)"
   ]
  },
  {
   "cell_type": "code",
   "execution_count": null,
   "id": "95266d6b",
   "metadata": {},
   "outputs": [],
   "source": [
    "!pip install db-dtypes\n",
    "query_unemployment = \"\"\"\n",
    "SELECT *\n",
    "FROM `ironhacks-data.ironhacks_competition.unemployment_data` \n",
    "\"\"\"\n",
    "query = bigquery_client.query(query_unemployment)\n",
    "df_unemployment = query.to_dataframe()\n",
    "#df_unemployment.head()"
   ]
  },
  {
   "cell_type": "code",
   "execution_count": null,
   "id": "1287c6c5",
   "metadata": {},
   "outputs": [],
   "source": [
    "query_wage = \"\"\"\n",
    "SELECT *\n",
    "FROM `ironhacks-data.ironhacks_competition.wage_data`\n",
    "\"\"\"\n",
    "query = bigquery_client.query(query_wage)\n",
    "df_wage = query.to_dataframe()\n",
    "#df_wage.head()"
   ]
  },
  {
   "cell_type": "code",
   "execution_count": null,
   "id": "e97ca87a",
   "metadata": {},
   "outputs": [],
   "source": [
    "query_pred_list = \"\"\"\n",
    "SELECT *\n",
    "FROM `ironhacks-data.ironhacks_competition.prediction_list`\n",
    "\"\"\"\n",
    "query = bigquery_client.query(query_pred_list)\n",
    "df_pred_list = query.to_dataframe()\n",
    "#df_pred_list.head()"
   ]
  },
  {
   "cell_type": "code",
   "execution_count": null,
   "id": "d9eac5e9",
   "metadata": {},
   "outputs": [],
   "source": [
    "query_schema = \"\"\"\n",
    "SELECT *\n",
    "FROM `ironhacks-data.ironhacks_competition.INFORMATION_SCHEMA.TABLES`\n",
    "\"\"\"\n",
    "query = bigquery_client.query(query_schema)\n",
    "df_schema = query.to_dataframe()\n",
    "#df_schema.head()"
   ]
  },
  {
   "cell_type": "code",
   "execution_count": null,
   "id": "d0e5ec1e",
   "metadata": {},
   "outputs": [],
   "source": [
    "df_three_col = df_unemployment[[\"uu_id\", \"week_number\", \"total_claims\"]]"
   ]
  },
  {
   "cell_type": "code",
   "execution_count": null,
   "id": "39f381cb",
   "metadata": {},
   "outputs": [],
   "source": [
    "df_three_col.to_csv(\"three_col.txt\",index=False,sep=\"\\t\")"
   ]
  },
  {
   "cell_type": "code",
   "execution_count": null,
   "id": "ffa75345",
   "metadata": {},
   "outputs": [],
   "source": [
    "df_three_col = df_unemployment[[\"uu_id\", \"week_number\", \"total_claims\"]]\n",
    "df_three_col.shape"
   ]
  },
  {
   "cell_type": "code",
   "execution_count": null,
   "id": "3977421e",
   "metadata": {},
   "outputs": [],
   "source": [
    "df_three_col = df_three_col.drop_duplicates()\n",
    "df_three_col.shape"
   ]
  },
  {
   "cell_type": "code",
   "execution_count": null,
   "id": "a6230143",
   "metadata": {},
   "outputs": [],
   "source": [
    "df_three_col = df_unemployment[[\"uu_id\", \"week_number\", \"total_claims\"]]\n",
    "df_three_col.shape"
   ]
  },
  {
   "cell_type": "code",
   "execution_count": null,
   "id": "56f6b0a9",
   "metadata": {},
   "outputs": [],
   "source": [
    "df_three_col = df_three_col.drop_duplicates()\n",
    "df_three_col.shape"
   ]
  },
  {
   "cell_type": "code",
   "execution_count": null,
   "id": "a902685f",
   "metadata": {},
   "outputs": [],
   "source": [
    "df_three_col = df_three_col.drop_duplicates()\n",
    "df_three_col.shape"
   ]
  },
  {
   "cell_type": "code",
   "execution_count": null,
   "id": "d21c1015",
   "metadata": {},
   "outputs": [],
   "source": [
    "df_three_col.sort_values(by=['uu_id', \"week_number\"],inplace=True)\n",
    "head(df_three_col)"
   ]
  },
  {
   "cell_type": "code",
   "execution_count": null,
   "id": "ee8d02ad",
   "metadata": {},
   "outputs": [],
   "source": [
    "df_three_col = df_three_col.drop_duplicates()\n",
    "print(df_three_col.shape)"
   ]
  },
  {
   "cell_type": "code",
   "execution_count": null,
   "id": "4dffa985",
   "metadata": {},
   "outputs": [],
   "source": [
    "df_three_col.sort_values(by=['uu_id', \"week_number\"],inplace=True)\n",
    "df_three_col.head()"
   ]
  },
  {
   "cell_type": "code",
   "execution_count": null,
   "id": "dae5a5b0",
   "metadata": {},
   "outputs": [],
   "source": [
    "df_three_col = df_three_col.drop_duplicates()\n",
    "print(df_three_col.shape)"
   ]
  },
  {
   "cell_type": "code",
   "execution_count": null,
   "id": "b82c5924",
   "metadata": {},
   "outputs": [],
   "source": [
    "df_three_col.sort_values(by=['uu_id', \"week_number\"],inplace=True)\n",
    "df_three_col[0:21,]"
   ]
  },
  {
   "cell_type": "code",
   "execution_count": null,
   "id": "801eb0fe",
   "metadata": {},
   "outputs": [],
   "source": [
    "df_three_col = df_three_col.drop_duplicates()\n",
    "print(df_three_col.shape)"
   ]
  },
  {
   "cell_type": "code",
   "execution_count": null,
   "id": "9586cdb7",
   "metadata": {},
   "outputs": [],
   "source": [
    "df_three_col.sort_values(by=['uu_id', \"week_number\"],inplace=True)\n",
    "df_three_col.head(21)"
   ]
  },
  {
   "cell_type": "code",
   "execution_count": null,
   "id": "7f250db2",
   "metadata": {},
   "outputs": [],
   "source": [
    "df_three_col = df_three_col.drop_duplicates()\n",
    "#print(df_three_col.shape)"
   ]
  },
  {
   "cell_type": "code",
   "execution_count": null,
   "id": "40831874",
   "metadata": {},
   "outputs": [],
   "source": [
    "df_three_col.sort_values(by=['uu_id', \"week_number\"],inplace=True)\n",
    "#df_three_col.head(21)\n",
    "df_three_col.tail(3)"
   ]
  },
  {
   "cell_type": "code",
   "execution_count": null,
   "id": "88b52f45",
   "metadata": {},
   "outputs": [],
   "source": [
    "res = pd.DataFrame(columns = ['uu_id', 'total_claims', 'week_number'])"
   ]
  },
  {
   "cell_type": "code",
   "execution_count": null,
   "id": "26cbbe5a",
   "metadata": {
    "lines_to_next_cell": 2
   },
   "outputs": [],
   "source": [
    "for cur_uu_id in df_pred_list['uu_id']:\n",
    "    #print(uu_id)\n",
    "    test_data = df_three_col[df_three_col[\"uu_id\"].isin([cur_uu_id]) ]\n",
    "    test_data = test_data.tail(3)\n",
    "    y_pred = int(test_data[\"total_claims\"].mean())\n",
    "    cur_row =  pd.DataFrame([[cur_uu_id, y_pred, 41]], columns=['uu_id', 'total_claims', 'week_number'] )\n",
    "    res = pd.concat([res,cur_row] ,ignore_index = True)"
   ]
  },
  {
   "cell_type": "code",
   "execution_count": null,
   "id": "bb3ad244",
   "metadata": {
    "lines_to_next_cell": 2
   },
   "outputs": [],
   "source": [
    "res.to_csv(\"Nov19_submission_prediction_output.csv\", index=False)"
   ]
  }
 ],
 "metadata": {
  "jupytext": {
   "cell_metadata_filter": "-all",
   "main_language": "python",
   "notebook_metadata_filter": "-all"
  }
 },
 "nbformat": 4,
 "nbformat_minor": 5
}
