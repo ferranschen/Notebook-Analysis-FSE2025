{
 "cells": [
  {
   "cell_type": "code",
   "execution_count": 1,
   "id": "7eda5eb0",
   "metadata": {},
   "outputs": [],
   "source": [
    "import os\n",
    "import pandas\n",
    "from google.cloud import bigquery\n",
    "from google.oauth2 import service_account\n",
    "from google.cloud.bigquery import magics"
   ]
  },
  {
   "cell_type": "code",
   "execution_count": 2,
   "id": "57ee3a5d",
   "metadata": {},
   "outputs": [],
   "source": [
    "BIGQUERY_PROJECT = 'ironhacks-data'"
   ]
  },
  {
   "cell_type": "code",
   "execution_count": 3,
   "id": "bf5f305b",
   "metadata": {},
   "outputs": [],
   "source": [
    "bigquery_client = bigquery.Client(project=BIGQUERY_PROJECT)"
   ]
  },
  {
   "cell_type": "code",
   "execution_count": 4,
   "id": "2e9dcf23",
   "metadata": {},
   "outputs": [],
   "source": [
    "query = \"\"\"\n",
    "SELECT * FROM `ironhacks-data.ironhacks_training.weather_data`\n",
    "\"\"\""
   ]
  },
  {
   "cell_type": "code",
   "execution_count": 5,
   "id": "16610b2a",
   "metadata": {},
   "outputs": [
    {
     "data": {
      "text/html": [
       "<div>\n",
       "<style scoped>\n",
       "    .dataframe tbody tr th:only-of-type {\n",
       "        vertical-align: middle;\n",
       "    }\n",
       "\n",
       "    .dataframe tbody tr th {\n",
       "        vertical-align: top;\n",
       "    }\n",
       "\n",
       "    .dataframe thead th {\n",
       "        text-align: right;\n",
       "    }\n",
       "</style>\n",
       "<table border=\"1\" class=\"dataframe\">\n",
       "  <thead>\n",
       "    <tr style=\"text-align: right;\">\n",
       "      <th></th>\n",
       "      <th>date</th>\n",
       "      <th>max_rel_humidity</th>\n",
       "      <th>max_temperature</th>\n",
       "      <th>mean_temperature</th>\n",
       "      <th>min_rel_humidity</th>\n",
       "      <th>min_temperature</th>\n",
       "      <th>potential_water_deficit</th>\n",
       "      <th>precipitation_data</th>\n",
       "      <th>wind_speed</th>\n",
       "    </tr>\n",
       "  </thead>\n",
       "  <tbody>\n",
       "    <tr>\n",
       "      <th>0</th>\n",
       "      <td>2019-09-04</td>\n",
       "      <td>99.9498</td>\n",
       "      <td>25.4570</td>\n",
       "      <td>18.6242</td>\n",
       "      <td>56.4720</td>\n",
       "      <td>11.7913</td>\n",
       "      <td>-3.6142</td>\n",
       "      <td>0.0</td>\n",
       "      <td>3.6461</td>\n",
       "    </tr>\n",
       "    <tr>\n",
       "      <th>1</th>\n",
       "      <td>2020-02-16</td>\n",
       "      <td>84.4966</td>\n",
       "      <td>8.6228</td>\n",
       "      <td>3.1896</td>\n",
       "      <td>40.7666</td>\n",
       "      <td>-2.2436</td>\n",
       "      <td>-1.4307</td>\n",
       "      <td>0.0</td>\n",
       "      <td>2.2398</td>\n",
       "    </tr>\n",
       "    <tr>\n",
       "      <th>2</th>\n",
       "      <td>2019-12-19</td>\n",
       "      <td>95.9017</td>\n",
       "      <td>2.8886</td>\n",
       "      <td>-3.4884</td>\n",
       "      <td>39.0330</td>\n",
       "      <td>-9.8654</td>\n",
       "      <td>-0.9389</td>\n",
       "      <td>0.0</td>\n",
       "      <td>4.1230</td>\n",
       "    </tr>\n",
       "    <tr>\n",
       "      <th>3</th>\n",
       "      <td>2020-02-20</td>\n",
       "      <td>70.0359</td>\n",
       "      <td>0.7939</td>\n",
       "      <td>-4.0254</td>\n",
       "      <td>34.7544</td>\n",
       "      <td>-8.8446</td>\n",
       "      <td>-1.4427</td>\n",
       "      <td>0.0</td>\n",
       "      <td>4.8531</td>\n",
       "    </tr>\n",
       "    <tr>\n",
       "      <th>4</th>\n",
       "      <td>2019-12-23</td>\n",
       "      <td>97.1634</td>\n",
       "      <td>13.8411</td>\n",
       "      <td>5.7818</td>\n",
       "      <td>31.2553</td>\n",
       "      <td>-2.2774</td>\n",
       "      <td>-1.2787</td>\n",
       "      <td>0.0</td>\n",
       "      <td>2.3404</td>\n",
       "    </tr>\n",
       "  </tbody>\n",
       "</table>\n",
       "</div>"
      ],
      "text/plain": [
       "         date  max_rel_humidity  max_temperature  mean_temperature  \\\n",
       "0  2019-09-04           99.9498          25.4570           18.6242   \n",
       "1  2020-02-16           84.4966           8.6228            3.1896   \n",
       "2  2019-12-19           95.9017           2.8886           -3.4884   \n",
       "3  2020-02-20           70.0359           0.7939           -4.0254   \n",
       "4  2019-12-23           97.1634          13.8411            5.7818   \n",
       "\n",
       "   min_rel_humidity  min_temperature  potential_water_deficit  \\\n",
       "0           56.4720          11.7913                  -3.6142   \n",
       "1           40.7666          -2.2436                  -1.4307   \n",
       "2           39.0330          -9.8654                  -0.9389   \n",
       "3           34.7544          -8.8446                  -1.4427   \n",
       "4           31.2553          -2.2774                  -1.2787   \n",
       "\n",
       "   precipitation_data  wind_speed  \n",
       "0                 0.0      3.6461  \n",
       "1                 0.0      2.2398  \n",
       "2                 0.0      4.1230  \n",
       "3                 0.0      4.8531  \n",
       "4                 0.0      2.3404  "
      ]
     },
     "execution_count": 5,
     "metadata": {},
     "output_type": "execute_result"
    }
   ],
   "source": [
    "query_job = bigquery_client.query(query)\n",
    "data = query_job.to_dataframe()\n",
    "data.head()"
   ]
  },
  {
   "cell_type": "code",
   "execution_count": 6,
   "id": "6a0df6ef",
   "metadata": {},
   "outputs": [],
   "source": [
    "query = \"\"\"\n",
    "\n",
    "SELECT date, max_rel_humidity\n",
    "FROM ironhacks-data.ironhacks_training.weather_data\n",
    "WHERE date='2020-06-16'\n",
    "\n",
    "\n",
    "\n",
    "\n",
    "\"\"\""
   ]
  },
  {
   "cell_type": "code",
   "execution_count": 7,
   "id": "b1773ee0",
   "metadata": {
    "lines_to_next_cell": 2
   },
   "outputs": [
    {
     "name": "stdout",
     "output_type": "stream",
     "text": [
      "Requirement already satisfied: pandas in /opt/anaconda3/lib/python3.9/site-packages (1.5.3)\n",
      "Requirement already satisfied: pytz>=2020.1 in /opt/anaconda3/lib/python3.9/site-packages (from pandas) (2021.3)\n",
      "Requirement already satisfied: numpy>=1.20.3 in /opt/anaconda3/lib/python3.9/site-packages (from pandas) (1.22.4)\n",
      "Requirement already satisfied: python-dateutil>=2.8.1 in /opt/anaconda3/lib/python3.9/site-packages (from pandas) (2.8.2)\n",
      "Requirement already satisfied: six>=1.5 in /opt/anaconda3/lib/python3.9/site-packages (from python-dateutil>=2.8.1->pandas) (1.16.0)\n"
     ]
    },
    {
     "data": {
      "text/html": [
       "<div>\n",
       "<style scoped>\n",
       "    .dataframe tbody tr th:only-of-type {\n",
       "        vertical-align: middle;\n",
       "    }\n",
       "\n",
       "    .dataframe tbody tr th {\n",
       "        vertical-align: top;\n",
       "    }\n",
       "\n",
       "    .dataframe thead th {\n",
       "        text-align: right;\n",
       "    }\n",
       "</style>\n",
       "<table border=\"1\" class=\"dataframe\">\n",
       "  <thead>\n",
       "    <tr style=\"text-align: right;\">\n",
       "      <th></th>\n",
       "      <th>date</th>\n",
       "      <th>max_rel_humidity</th>\n",
       "    </tr>\n",
       "  </thead>\n",
       "  <tbody>\n",
       "    <tr>\n",
       "      <th>0</th>\n",
       "      <td>2020-06-16</td>\n",
       "      <td>82.2795</td>\n",
       "    </tr>\n",
       "  </tbody>\n",
       "</table>\n",
       "</div>"
      ],
      "text/plain": [
       "         date  max_rel_humidity\n",
       "0  2020-06-16           82.2795"
      ]
     },
     "execution_count": 7,
     "metadata": {},
     "output_type": "execute_result"
    }
   ],
   "source": [
    "query_job = bigquery_client.query(query)\n",
    "get_ipython().system('python3 -m pip install pandas')\n",
    "import pandas\n",
    "data = query_job.to_dataframe()\n",
    "data.head()"
   ]
  }
 ],
 "metadata": {
  "jupytext": {
   "cell_metadata_filter": "-all",
   "main_language": "python",
   "notebook_metadata_filter": "-all"
  },
  "kernelspec": {
   "display_name": "base",
   "language": "python",
   "name": "python3"
  },
  "language_info": {
   "codemirror_mode": {
    "name": "ipython",
    "version": 3
   },
   "file_extension": ".py",
   "mimetype": "text/x-python",
   "name": "python",
   "nbconvert_exporter": "python",
   "pygments_lexer": "ipython3",
   "version": "3.9.7"
  }
 },
 "nbformat": 4,
 "nbformat_minor": 5
}
