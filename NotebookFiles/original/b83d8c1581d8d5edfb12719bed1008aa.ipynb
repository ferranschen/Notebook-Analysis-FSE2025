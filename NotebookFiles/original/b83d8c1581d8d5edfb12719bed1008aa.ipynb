{
 "cells": [
  {
   "cell_type": "code",
   "execution_count": null,
   "id": "6fabb3cc",
   "metadata": {},
   "outputs": [],
   "source": [
    "get_ipython().run_cell_magic('capture', '', \"%logstop\\n%logstart -t -r -q ipython_command_log.py global\\n\\n#- IRONHACKS RESEARCH TRACKING CODE\\n#----------------------------------\\n# The following code is used to help our research team understand how you \\n# our notebook environment. We do not collect any personal information with\\n# the following code, it is used to measure when and how often you work on\\n# your submission files.\\n\\nimport os\\nfrom datetime import datetime\\nimport IPython.core.history as history\\n\\nha = history.HistoryAccessor()\\nha_tail = ha.get_tail(1)\\nha_cmd = next(ha_tail)\\nsession_id = str(ha_cmd[0])\\ncommand_id = str(ha_cmd[1])\\ntimestamp = datetime.utcnow().isoformat()\\nhistory_line = ','.join([session_id, command_id, timestamp]) + '\\\\n'\\nlogfile = open(os.environ['HOME']+'/ipython_session_log.csv', 'a')\\nlogfile.write(history_line)\\nlogfile.close()\\n\")"
   ]
  },
  {
   "cell_type": "code",
   "execution_count": null,
   "id": "8bb32ada",
   "metadata": {},
   "outputs": [],
   "source": [
    "#import cell\n",
    "import pandas as pd\n",
    "import numpy as np\n",
    "import statistics\n",
    "import csv\n",
    "import matplotlib.pyplot as plt\n",
    "from google.cloud import bigquery\n",
    "from google.oauth2 import service_account\n",
    "from google.cloud.bigquery import magics"
   ]
  },
  {
   "cell_type": "code",
   "execution_count": null,
   "id": "441277f4",
   "metadata": {},
   "outputs": [],
   "source": [
    "BIGQUERY_PROJECT = 'ironhacks-data'\n",
    "bigquery_client = bigquery.Client(project=BIGQUERY_PROJECT)"
   ]
  },
  {
   "cell_type": "code",
   "execution_count": null,
   "id": "2aaa140b",
   "metadata": {},
   "outputs": [],
   "source": [
    "#Gets the master unemployed table\n",
    "query = \"\"\"\n",
    "SELECT *\n",
    "FROM `ironhacks-data.ironhacks_competition.unemployment_data`\n",
    "\"\"\""
   ]
  },
  {
   "cell_type": "code",
   "execution_count": null,
   "id": "750ee507",
   "metadata": {},
   "outputs": [],
   "source": [
    "# QUERY THE DATA ONCE\n",
    "query_job = bigquery_client.query(query)\n",
    "unemploymentData = query_job.to_dataframe()\n",
    "print(unemploymentData.shape)\n",
    "pd.set_option('display.max_columns', None)\n",
    "unemploymentData.head(3)"
   ]
  },
  {
   "cell_type": "code",
   "execution_count": null,
   "id": "47e73b1d",
   "metadata": {},
   "outputs": [],
   "source": [
    "#Gets each tracks mean and std dev\n",
    "#unlist has the master unemployment list\n",
    "#b becomes the filtered list\n",
    "unList = unemploymentData.values.tolist()\n",
    "b_set = set(tuple(x) for x in unList)\n",
    "b = [ list(x) for x in b_set ]"
   ]
  },
  {
   "cell_type": "code",
   "execution_count": null,
   "id": "ba578223",
   "metadata": {},
   "outputs": [],
   "source": [
    "uuid = []\n",
    "#makes a list of the unique uuid\n",
    "for x in b:\n",
    "    if(uuid.count(x[0]) == 0):\n",
    "        uuid.append(x[0])"
   ]
  },
  {
   "cell_type": "code",
   "execution_count": null,
   "id": "43d81a8c",
   "metadata": {},
   "outputs": [],
   "source": [
    "#setup for extract        \n",
    "values = []\n",
    "export = []"
   ]
  },
  {
   "cell_type": "code",
   "execution_count": null,
   "id": "8f53af3c",
   "metadata": {},
   "outputs": [],
   "source": [
    "#for each value make a list of each weeks claims\n",
    "for y in uuid:\n",
    "    temp = [y]\n",
    "    for x in b:\n",
    "        if (x[0] == y):\n",
    "            temp.append(x[6])\n",
    "    values.append(temp)"
   ]
  },
  {
   "cell_type": "code",
   "execution_count": null,
   "id": "8be4c32a",
   "metadata": {},
   "outputs": [],
   "source": [
    "for x in values:\n",
    "    name = x[0]\n",
    "    mean = statistics.mean(x[1:])\n",
    "    if (len(x) > 2):\n",
    "        stdev = statistics.stdev(x[1:])\n",
    "    else:\n",
    "        print(\"short\")\n",
    "    export.append([name, mean, stdev])\n",
    "#Everything below this is testing"
   ]
  },
  {
   "cell_type": "code",
   "execution_count": null,
   "id": "245b4294",
   "metadata": {},
   "outputs": [],
   "source": [
    "#Make bar charts\n",
    "#unique list as guide to count\n",
    "x1 = []\n",
    "y1 = []\n",
    "for i in uuid[:1]:\n",
    "    for k in b:\n",
    "        if (k[0] == i):\n",
    "            x1.append(k[2])\n",
    "            y1.append(k[6])"
   ]
  },
  {
   "cell_type": "code",
   "execution_count": null,
   "id": "7cfbe3eb",
   "metadata": {},
   "outputs": [],
   "source": [
    "plt.bar(x1,y1)"
   ]
  },
  {
   "cell_type": "markdown",
   "id": "bfe8262d",
   "metadata": {},
   "source": [
    "Make bar charts\n",
    "unique list as guide to count\n",
    "num of unemployment claims versus count"
   ]
  },
  {
   "cell_type": "code",
   "execution_count": null,
   "id": "6d04b3e6",
   "metadata": {},
   "outputs": [],
   "source": [
    "xValues = []\n",
    "xCount = []\n",
    "for i in uuid[:1]:\n",
    "    for k in b:\n",
    "        if (k[0] == i):\n",
    "            xValues.append(k[6])\n",
    "c_set = set(tuple(x) for x in xValues)\n",
    "c = [ list(x) for x in c_set ]"
   ]
  },
  {
   "cell_type": "code",
   "execution_count": null,
   "id": "25c0016f",
   "metadata": {},
   "outputs": [],
   "source": [
    "for x in c:\n",
    "    xCount.append(xValues.count(x))"
   ]
  },
  {
   "cell_type": "code",
   "execution_count": null,
   "id": "4a8cb0ad",
   "metadata": {},
   "outputs": [],
   "source": [
    "plt.bar(xValues,xCount)"
   ]
  },
  {
   "cell_type": "markdown",
   "id": "e13174f2",
   "metadata": {},
   "source": [
    "Make bar charts\n",
    "unique list as guide to count\n",
    "num of unemployment claims versus count"
   ]
  },
  {
   "cell_type": "code",
   "execution_count": null,
   "id": "0f584284",
   "metadata": {},
   "outputs": [],
   "source": [
    "xValues = []\n",
    "xCount = []\n",
    "for i in uuid[:1]:\n",
    "    for k in b:\n",
    "        if (k[0] == i):\n",
    "            xValues.append(k[6])\n",
    "c = list(dict.fromkeys(xValues))"
   ]
  },
  {
   "cell_type": "code",
   "execution_count": null,
   "id": "20a9501a",
   "metadata": {},
   "outputs": [],
   "source": [
    "for x in c:\n",
    "    xCount.append(xValues.count(x))"
   ]
  },
  {
   "cell_type": "code",
   "execution_count": null,
   "id": "313d3c91",
   "metadata": {},
   "outputs": [],
   "source": [
    "plt.bar(xValues,xCount)"
   ]
  },
  {
   "cell_type": "markdown",
   "id": "8459a643",
   "metadata": {},
   "source": [
    "Make bar charts\n",
    "unique list as guide to count\n",
    "num of unemployment claims versus count"
   ]
  },
  {
   "cell_type": "code",
   "execution_count": null,
   "id": "f5a542c8",
   "metadata": {},
   "outputs": [],
   "source": [
    "xValues = []\n",
    "xCount = []\n",
    "for i in uuid[:1]:\n",
    "    for k in b:\n",
    "        if (k[0] == i):\n",
    "            xValues.append(k[6])\n",
    "c = list(dict.fromkeys(xValues))"
   ]
  },
  {
   "cell_type": "code",
   "execution_count": null,
   "id": "ac376ede",
   "metadata": {},
   "outputs": [],
   "source": [
    "for x in c:\n",
    "    xCount.append(xValues.count(x))\n",
    "print(xValues)\n",
    "print(xCount)\n",
    "plt.bar(xValues,xCount)"
   ]
  },
  {
   "cell_type": "markdown",
   "id": "03a66e55",
   "metadata": {},
   "source": [
    "Make bar charts\n",
    "unique list as guide to count\n",
    "num of unemployment claims versus count"
   ]
  },
  {
   "cell_type": "code",
   "execution_count": null,
   "id": "7fe1e5a1",
   "metadata": {},
   "outputs": [],
   "source": [
    "xValues = []\n",
    "xCount = []\n",
    "for i in uuid[:1]:\n",
    "    for k in b:\n",
    "        if (k[0] == i):\n",
    "            xValues.append(k[6])\n",
    "c = list(dict.fromkeys(xValues))"
   ]
  },
  {
   "cell_type": "code",
   "execution_count": null,
   "id": "9f60f2c1",
   "metadata": {},
   "outputs": [],
   "source": [
    "for x in c:\n",
    "    xCount.append(xValues.count(x))\n",
    "print(xValues)\n",
    "print(xCount)\n",
    "plt.bar(c,xCount)"
   ]
  },
  {
   "cell_type": "markdown",
   "id": "cb5c9ed1",
   "metadata": {},
   "source": [
    "Make bar charts\n",
    "unique list as guide to count\n",
    "num of unemployment claims versus count"
   ]
  },
  {
   "cell_type": "code",
   "execution_count": null,
   "id": "3bd59bbc",
   "metadata": {},
   "outputs": [],
   "source": [
    "xValues = []\n",
    "xCount = []\n",
    "for i in uuid[:1]:\n",
    "    for k in b:\n",
    "        if (k[0] == i):\n",
    "            xValues.append(k[6])\n",
    "c = list(dict.fromkeys(xValues))"
   ]
  },
  {
   "cell_type": "code",
   "execution_count": null,
   "id": "e7e58b83",
   "metadata": {},
   "outputs": [],
   "source": [
    "for x in c:\n",
    "    xCount.append(xValues.count(x))\n",
    "print(len(xValues))\n",
    "plt.bar(c,xCount)"
   ]
  },
  {
   "cell_type": "markdown",
   "id": "cf137117",
   "metadata": {},
   "source": [
    "Make bar charts\n",
    "unique list as guide to count\n",
    "num of unemployment claims versus count"
   ]
  },
  {
   "cell_type": "code",
   "execution_count": null,
   "id": "6fe522e9",
   "metadata": {},
   "outputs": [],
   "source": [
    "xValues = []\n",
    "xCount = []\n",
    "for i in uuid[:1]:\n",
    "    for k in b:\n",
    "        if (k[0] == i):\n",
    "            xValues.append(k[6])\n",
    "c = list(dict.fromkeys(xValues))"
   ]
  },
  {
   "cell_type": "code",
   "execution_count": null,
   "id": "9a0e51ef",
   "metadata": {},
   "outputs": [],
   "source": [
    "for x in c:\n",
    "    xCount.append(xValues.count(x))\n",
    "print(len(xValues))\n",
    "print(statistics.mean(xxValues)\n",
    "plt.bar(c,xCount)"
   ]
  },
  {
   "cell_type": "markdown",
   "id": "6171dd1f",
   "metadata": {},
   "source": [
    "Make bar charts\n",
    "unique list as guide to count\n",
    "num of unemployment claims versus count"
   ]
  },
  {
   "cell_type": "code",
   "execution_count": null,
   "id": "c08e41c5",
   "metadata": {},
   "outputs": [],
   "source": [
    "xValues = []\n",
    "xCount = []\n",
    "for i in uuid[:1]:\n",
    "    for k in b:\n",
    "        if (k[0] == i):\n",
    "            xValues.append(k[6])\n",
    "c = list(dict.fromkeys(xValues))"
   ]
  },
  {
   "cell_type": "code",
   "execution_count": null,
   "id": "643540ab",
   "metadata": {},
   "outputs": [],
   "source": [
    "for x in c:\n",
    "    xCount.append(xValues.count(x))\n",
    "print(len(xValues))\n",
    "print(statistics.mean(xValues))\n",
    "plt.bar(c,xCount)"
   ]
  },
  {
   "cell_type": "markdown",
   "id": "f6004d27",
   "metadata": {},
   "source": [
    "Make bar charts\n",
    "unique list as guide to count\n",
    "num of unemployment claims versus count"
   ]
  },
  {
   "cell_type": "code",
   "execution_count": null,
   "id": "b4c937ad",
   "metadata": {},
   "outputs": [],
   "source": [
    "xValues = []\n",
    "xCount = []\n",
    "for i in uuid[:1]:\n",
    "    for k in b:\n",
    "        if (k[0] == i):\n",
    "            xValues.append(k[6])\n",
    "c = list(dict.fromkeys(xValues))"
   ]
  },
  {
   "cell_type": "code",
   "execution_count": null,
   "id": "e08815e9",
   "metadata": {},
   "outputs": [],
   "source": [
    "for x in c:\n",
    "    xCount.append(xValues.count(x))\n",
    "print(statistics.mean(xValues))\n",
    "print(statistics.median(xValues))\n",
    "plt.bar(c,xCount)"
   ]
  },
  {
   "cell_type": "markdown",
   "id": "1f0bddaa",
   "metadata": {},
   "source": [
    "Make bar charts\n",
    "unique list as guide to count\n",
    "num of unemployment claims versus count"
   ]
  },
  {
   "cell_type": "code",
   "execution_count": null,
   "id": "e45442e1",
   "metadata": {},
   "outputs": [],
   "source": [
    "xValues = []\n",
    "xCount = []\n",
    "for i in uuid[4:5]:\n",
    "    for k in b:\n",
    "        if (k[0] == i):\n",
    "            xValues.append(k[6])\n",
    "c = list(dict.fromkeys(xValues))"
   ]
  },
  {
   "cell_type": "code",
   "execution_count": null,
   "id": "dfc1e2d1",
   "metadata": {},
   "outputs": [],
   "source": [
    "for x in c:\n",
    "    xCount.append(xValues.count(x))\n",
    "print(statistics.mean(xValues))\n",
    "print(statistics.median(xValues))\n",
    "plt.bar(c,xCount)"
   ]
  },
  {
   "cell_type": "markdown",
   "id": "85637082",
   "metadata": {},
   "source": [
    "Make bar charts\n",
    "unique list as guide to count\n",
    "num of unemployment claims versus count"
   ]
  },
  {
   "cell_type": "code",
   "execution_count": null,
   "id": "44e4d6dd",
   "metadata": {},
   "outputs": [],
   "source": [
    "xValues = []\n",
    "xCount = []\n",
    "for i in uuid[:2]:\n",
    "    for k in b:\n",
    "        if (k[0] == i):\n",
    "            xValues.append(k[6])\n",
    "    c = list(dict.fromkeys(xValues))\n",
    "\n",
    "    for x in c:\n",
    "        xCount.append(xValues.count(x))\n",
    "    print(statistics.mean(xValues))\n",
    "    print(statistics.median(xValues))\n",
    "    plt.bar(c,xCount)"
   ]
  },
  {
   "cell_type": "markdown",
   "id": "c9c8b697",
   "metadata": {},
   "source": [
    "Make bar charts\n",
    "unique list as guide to count\n",
    "num of unemployment claims versus count"
   ]
  },
  {
   "cell_type": "code",
   "execution_count": null,
   "id": "34fcb2d6",
   "metadata": {},
   "outputs": [],
   "source": [
    "for i in uuid[:2]:\n",
    "    xValues = []\n",
    "    xCount = []\n",
    "    for k in b:\n",
    "        if (k[0] == i):\n",
    "            xValues.append(k[6])\n",
    "    c = list(dict.fromkeys(xValues))\n",
    "\n",
    "    for x in c:\n",
    "        xCount.append(xValues.count(x))\n",
    "    print(statistics.mean(xValues))\n",
    "    print(statistics.median(xValues))\n",
    "    plt.bar(c,xCount)"
   ]
  },
  {
   "cell_type": "markdown",
   "id": "f28951e1",
   "metadata": {},
   "source": [
    "Make bar charts\n",
    "unique list as guide to count\n",
    "num of unemployment claims versus count"
   ]
  },
  {
   "cell_type": "code",
   "execution_count": null,
   "id": "4136974f",
   "metadata": {},
   "outputs": [],
   "source": [
    "for i in uuid[:10]:\n",
    "    xValues = []\n",
    "    xCount = []\n",
    "    for k in b:\n",
    "        if (k[0] == i):\n",
    "            xValues.append(k[6])\n",
    "    c = list(dict.fromkeys(xValues))\n",
    "\n",
    "    for x in c:\n",
    "        xCount.append(xValues.count(x))\n",
    "    print(statistics.mean(xValues))\n",
    "    print(statistics.median(xValues))\n",
    "    plt.bar(c,xCount)"
   ]
  },
  {
   "cell_type": "markdown",
   "id": "f523135e",
   "metadata": {},
   "source": [
    "Make bar charts\n",
    "unique list as guide to count\n",
    "num of unemployment claims versus count"
   ]
  },
  {
   "cell_type": "code",
   "execution_count": null,
   "id": "349b67d0",
   "metadata": {
    "lines_to_next_cell": 2
   },
   "outputs": [],
   "source": [
    "for i in uuid[:1]:\n",
    "    xValues = []\n",
    "    xCount = []\n",
    "    for k in b:\n",
    "        if (k[0] == i):\n",
    "            xValues.append(k[6])\n",
    "    c = list(dict.fromkeys(xValues))\n",
    "\n",
    "    for x in c:\n",
    "        xCount.append(xValues.count(x))\n",
    "    print(statistics.mean(xValues))\n",
    "    print(statistics.median(xValues))\n",
    "    plt.bar(c,xCount)"
   ]
  }
 ],
 "metadata": {
  "jupytext": {
   "cell_metadata_filter": "-all",
   "main_language": "python",
   "notebook_metadata_filter": "-all"
  }
 },
 "nbformat": 4,
 "nbformat_minor": 5
}
