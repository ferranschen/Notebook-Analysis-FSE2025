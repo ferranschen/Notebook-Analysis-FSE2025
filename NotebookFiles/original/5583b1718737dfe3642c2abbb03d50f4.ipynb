{
 "cells": [
  {
   "cell_type": "code",
   "execution_count": null,
   "id": "2d8793f7",
   "metadata": {},
   "outputs": [],
   "source": [
    "get_ipython().run_cell_magic('capture', '', \"%logstop\\n%logstart -t -r -q ipython_command_log.py global\\n\\n#- IRONHACKS RESEARCH TRACKING CODE\\n#----------------------------------\\n# The following code is used to help our research team understand how you \\n# our notebook environment. We do not collect any personal information with\\n# the following code, it is used to measure when and how often you work on\\n# your submission files.\\n\\nimport os\\nfrom datetime import datetime\\nimport IPython.core.history as history\\n\\nha = history.HistoryAccessor()\\nha_tail = ha.get_tail(1)\\nha_cmd = next(ha_tail)\\nsession_id = str(ha_cmd[0])\\ncommand_id = str(ha_cmd[1])\\ntimestamp = datetime.utcnow().isoformat()\\nhistory_line = ','.join([session_id, command_id, timestamp]) + '\\\\n'\\nlogfile = open(os.environ['HOME']+'/ipython_session_log.csv', 'a')\\nlogfile.write(history_line)\\nlogfile.close()\\n\")"
   ]
  },
  {
   "cell_type": "code",
   "execution_count": null,
   "id": "d10430ff",
   "metadata": {},
   "outputs": [],
   "source": [
    "get_ipython().run_cell_magic('capture', '', \"\\n#- INSTALL ADDITIONAL LIBRARIES IF REQUIRED\\n#------------------------------------------\\n# This is normally not required. The hub environment comes preinstaled with \\n# many packages that you can already use without setup. In case there is some\\n# other library you would like to use that isn't on the list you run this command\\n# once to install them.  If it is already installed this command has no effect.\\n!pip install db-dtypes\\n!python3 -m pip install pandas\\n!pip install pmdarima\\n!pip install plotly==5.11.0\\n!pip install scikit-hts[auto-arima]\\n\")"
   ]
  },
  {
   "cell_type": "markdown",
   "id": "821dc173",
   "metadata": {},
   "source": [
    "- IMPORT THE LIBRARIES YOU WILL USE\n",
    "------------------------------------------\n",
    "You only need to import packages one time per notebook session. To keep your\n",
    "notebook clean and organized you can handle all imports at the top of your file.\n",
    "The following are included for example purposed, feel free to modify or delete \n",
    "anything in this section."
   ]
  },
  {
   "cell_type": "code",
   "execution_count": null,
   "id": "07ca58fe",
   "metadata": {},
   "outputs": [],
   "source": [
    "import csv\n",
    "import pandas as pd\n",
    "import numpy as np\n",
    "from google.cloud import bigquery\n",
    "from google.oauth2 import service_account\n",
    "from google.cloud.bigquery import magics\n",
    "import statsmodels.api as sm\n",
    "import math\n",
    "import plotly.express as px\n",
    "from pmdarima.arima import auto_arima\n",
    "import collections.abc\n",
    "collections.Iterable = collections.abc.Iterable\n",
    "collections.Mapping = collections.abc.Mapping\n",
    "collections.MutableSet = collections.abc.MutableSet\n",
    "collections.MutableMapping = collections.abc.MutableMapping\n",
    "import hts\n",
    "from hts.hierarchy import HierarchyTree\n",
    "from hts.model import AutoArimaModel\n",
    "from hts import HTSRegressor"
   ]
  },
  {
   "cell_type": "markdown",
   "id": "dc45fb01",
   "metadata": {
    "lines_to_next_cell": 2
   },
   "source": [
    "- DEFINE YOUR CLASSES AND FUNCTIONS \n",
    "-----------------------------------\n",
    "This is not required, but is helpful in keeping your notebook organized. \n",
    "You can use the following cell or several cells to define your functions\n",
    "and classes to keep them separate from your analysis or results code.\n",
    "In general it useful to define your methods in a separate cell from where\n",
    "it is run."
   ]
  },
  {
   "cell_type": "code",
   "execution_count": null,
   "id": "48f64b51",
   "metadata": {
    "lines_to_next_cell": 1
   },
   "outputs": [],
   "source": [
    "def dataExplore(data):\n",
    "    '''\n",
    "    Explore dataframe\n",
    "    '''\n",
    "    print(\"# of observations: \", data.shape[0])\n",
    "    for col in data.columns:\n",
    "        if col in [\"uu_id\", \"timeperiod\", \"week_number\", \"countyfips\", \"tract\", \"tract_name\", \"date\"]:\n",
    "            print(\"# of %s: %s\" % (col, len(pd.unique(data[col]))))\n",
    "        else:\n",
    "            print(\"Unique value of %s: %s\" % (col, pd.unique(data[col])))"
   ]
  },
  {
   "cell_type": "code",
   "execution_count": null,
   "id": "a9b84a57",
   "metadata": {},
   "outputs": [],
   "source": [
    "def dataBalanceCheck(data):\n",
    "    '''\n",
    "    Check the balance of data frame\n",
    "    '''\n",
    "    unbalance_count = 0\n",
    "    print(\"# of observations in complete time series: \", len(pd.unique(data[\"week_number\"])))\n",
    "    for id in pd.unique(data[\"uu_id\"]):\n",
    "        if len(data[data[\"uu_id\"] == id]) <  len(pd.unique(data[\"week_number\"])):\n",
    "            print(id, len(data[data[\"uu_id\"] == id]))\n",
    "            unbalance_count += 1\n",
    "    print(\"% of tracts with incomplete time series: \", unbalance_count / len(pd.unique(data[\"uu_id\"]))*100)"
   ]
  },
  {
   "cell_type": "code",
   "execution_count": null,
   "id": "e3cb0497",
   "metadata": {
    "lines_to_next_cell": 1
   },
   "outputs": [],
   "source": [
    "def dataFillNa(data, value):\n",
    "    \"\"\"\n",
    "   fill NA with given value in the dataframe\n",
    "    \"\"\"\n",
    "    for col in data.columns:\n",
    "        if col in [\"uu_id\", \"timeperiod\", \"week_number\", \"countyfips\", \"tract\", \"tract_name\", \"date\"]:\n",
    "            pass\n",
    "        elif col in [\"top_category_employer1\", \"top_category_employer2\", \"top_category_employer3\"]:\n",
    "            data[col] = data[col].replace({'N/A':str(value)})\n",
    "        else:\n",
    "            data[col] = data[col].fillna(value)\n",
    "    return(data)"
   ]
  },
  {
   "cell_type": "code",
   "execution_count": null,
   "id": "bdf3676b",
   "metadata": {
    "lines_to_next_cell": 1
   },
   "outputs": [],
   "source": [
    "def dataIdentifyDWM(data):\n",
    "    '''\n",
    "    Input: # of week. Output: date for the first day, month and week order in the month\n",
    "    '''\n",
    "    data[\"date\"] = pd.to_datetime(2022 * 1000 + (1+(data[\"week_number\"]-1)*7), format='%Y%j')\n",
    "    data[\"month\"] = pd.DatetimeIndex(data[\"date\"]).month\n",
    "    data[\"weekofmonth\"]= pd.to_numeric(data[\"date\"].dt.day/7)\n",
    "    data['weekofmonth'] = data['weekofmonth'].apply(lambda x: math.ceil(x))\n",
    "    return(data)"
   ]
  },
  {
   "cell_type": "code",
   "execution_count": null,
   "id": "c49ae8c3",
   "metadata": {
    "lines_to_next_cell": 1
   },
   "outputs": [],
   "source": [
    "def MSPE(s1, s2):\n",
    "    return(sum((s1 - s2)**2)/len(s1))"
   ]
  },
  {
   "cell_type": "code",
   "execution_count": null,
   "id": "acaece8e",
   "metadata": {
    "lines_to_next_cell": 1
   },
   "outputs": [],
   "source": [
    "def MAPE(s1, s2):\n",
    "    return(sum(abs(s1 - s2))/len(s1))"
   ]
  },
  {
   "cell_type": "code",
   "execution_count": null,
   "id": "81b330dd",
   "metadata": {
    "lines_to_next_cell": 1
   },
   "outputs": [],
   "source": [
    "def ARIMA_predict(df_input, cutoff_rate = 0.8, n_period = 15):\n",
    "    cutoff = int(cutoff_rate * len(df_input))\n",
    "    if cutoff_rate < 1:\n",
    "        valid = df_input[cutoff:]\n",
    "    train = df_input[:cutoff]\n",
    "    model = auto_arima(train, trace=False, error_action='ignore', suppress_warnings=True)\n",
    "    model.fit(train)\n",
    "    forecast = model.predict(n_period)\n",
    "    return(forecast)"
   ]
  },
  {
   "cell_type": "code",
   "execution_count": null,
   "id": "fa84d370",
   "metadata": {},
   "outputs": [],
   "source": [
    "# Obtain data using BigQuery\n",
    "BIGQUERY_PROJECT = 'ironhacks-data'\n",
    "bigquery_client = bigquery.Client(project=BIGQUERY_PROJECT)"
   ]
  },
  {
   "cell_type": "code",
   "execution_count": null,
   "id": "2081cdd2",
   "metadata": {},
   "outputs": [],
   "source": [
    "query = \"\"\"\n",
    "SELECT\n",
    "a.*,\n",
    "b.average_wage\n",
    "FROM \n",
    "(SELECT \n",
    "*\n",
    "FROM `ironhacks-data.ironhacks_competition.unemployment_data`) a\n",
    "JOIN `ironhacks-data.ironhacks_competition.wage_data` b \n",
    "ON a.uu_id=b.uu_id\n",
    "\"\"\""
   ]
  },
  {
   "cell_type": "code",
   "execution_count": null,
   "id": "c57a879a",
   "metadata": {},
   "outputs": [],
   "source": [
    "query_job = bigquery_client.query(query)\n",
    "data = query_job.to_dataframe()"
   ]
  },
  {
   "cell_type": "code",
   "execution_count": null,
   "id": "e97a5917",
   "metadata": {},
   "outputs": [],
   "source": [
    "query_pred = \"\"\"\n",
    "SELECT * FROM `ironhacks-data.ironhacks_competition.prediction_list`\n",
    "\"\"\""
   ]
  },
  {
   "cell_type": "code",
   "execution_count": null,
   "id": "e83c599f",
   "metadata": {},
   "outputs": [],
   "source": [
    "query_job_pred = bigquery_client.query(query_pred)\n",
    "data_pred_query= query_job_pred.to_dataframe()"
   ]
  },
  {
   "cell_type": "code",
   "execution_count": null,
   "id": "370cafcb",
   "metadata": {},
   "outputs": [],
   "source": [
    "# Explore input data for NA and special values\n",
    "dataExplore(data)\n",
    "# dataExplore(data_pred_query)\n",
    "# data_pred_query.head()\n",
    "# data.head()"
   ]
  },
  {
   "cell_type": "code",
   "execution_count": null,
   "id": "f22d6fc0",
   "metadata": {},
   "outputs": [],
   "source": [
    "# Explore input data for NA and special values\n",
    "# dataExplore(data)\n",
    "dataExplore(data_pred_query)\n",
    "# data_pred_query.head()\n",
    "# data.head()"
   ]
  },
  {
   "cell_type": "code",
   "execution_count": null,
   "id": "8abef94a",
   "metadata": {},
   "outputs": [],
   "source": [
    "# Explore input data for NA and special values\n",
    "# dataExplore(data)\n",
    "# dataExplore(data_pred_query)\n",
    "data_pred_query.head()\n",
    "# data.head()"
   ]
  },
  {
   "cell_type": "code",
   "execution_count": null,
   "id": "b6a4d826",
   "metadata": {},
   "outputs": [],
   "source": [
    "# Further check tracts with average_wage as Nan\n",
    "# I find three tracts with all average_wage as Nan. If I drop these tracts due to Nan value, they cannot be predicted\n",
    "for id in pd.unique(data[data['average_wage'].isna()][\"uu_id\"]):\n",
    "    print(id)\n",
    "    print(\"All value are nan?\", data[data['uu_id'] == id][\"average_wage\"].isnull().all())\n",
    "    print(\"Included in prediction list?\", len(data_pred_query[data_pred_query['uu_id'] == id]) > 0)"
   ]
  },
  {
   "cell_type": "code",
   "execution_count": null,
   "id": "21aa7144",
   "metadata": {},
   "outputs": [],
   "source": [
    "# Backup the data before pre-treatment\n",
    "data_backup = data.copy()\n",
    "data_pred_query_backup = data_pred_query.copy()"
   ]
  },
  {
   "cell_type": "code",
   "execution_count": null,
   "id": "774b3d69",
   "metadata": {},
   "outputs": [],
   "source": [
    "# Pretreatment: convert week_number to month and week of month, to capture seasonality\n",
    "data = dataIdentifyDWM(data)"
   ]
  },
  {
   "cell_type": "code",
   "execution_count": null,
   "id": "c21a356e",
   "metadata": {},
   "outputs": [],
   "source": [
    "# Check if the dataset is a balance panel (all tracts have value for all time periods)\n",
    "# 54% of tracts has less than 35 observations (total number of full time series), indicating it is unbalanced\n",
    "# Even if only checking data afer 2022/6/1, there are still 36% of tracts with incomplete series\n",
    "dataBalanceCheck(data)\n",
    "dataBalanceCheck(data[data[\"date\"] > \"2022-06-01\"])"
   ]
  },
  {
   "cell_type": "code",
   "execution_count": null,
   "id": "0773a7a7",
   "metadata": {},
   "outputs": [],
   "source": [
    "# To balance the dataset as panel data\n",
    "data_balance = data.set_index('week_number')\n",
    "data_balance = data_balance.sort_index(ascending=False)\n",
    "data_balance = data_balance.set_index('uu_id',append=True)\n",
    "data_balance = data_balance[~data_balance.index.duplicated(keep='first')]"
   ]
  },
  {
   "cell_type": "code",
   "execution_count": null,
   "id": "2712eb6d",
   "metadata": {},
   "outputs": [],
   "source": [
    "data_balance = data_balance.reset_index(level=['week_number'])\n",
    "data_balance = (data_balance.set_index('week_number',append=True).reindex(pd.MultiIndex.from_product([data_balance.index.unique(),\n",
    "                                                      range(data_balance.week_number.min(),data_balance.week_number.max()+1)],\n",
    "                                                     names=['uu_id','week_number'])).reset_index(level=1))"
   ]
  },
  {
   "cell_type": "code",
   "execution_count": null,
   "id": "45891c36",
   "metadata": {},
   "outputs": [],
   "source": [
    "data_balance = data_balance.set_index('week_number',append=True)\n",
    "data_balance['total_claims'] = data_balance['total_claims'].fillna(0)\n",
    "data_balance['average_wage'] = data_balance['average_wage'].interpolate(method = \"linear\")"
   ]
  },
  {
   "cell_type": "code",
   "execution_count": null,
   "id": "a8e46251",
   "metadata": {},
   "outputs": [],
   "source": [
    "data_balance = data_balance.reset_index(level=['uu_id', \"week_number\"])\n",
    "data_balance = dataIdentifyDWM(data_balance)"
   ]
  },
  {
   "cell_type": "code",
   "execution_count": null,
   "id": "966ecac8",
   "metadata": {},
   "outputs": [],
   "source": [
    "dataBalanceCheck(data_balance)"
   ]
  },
  {
   "cell_type": "code",
   "execution_count": null,
   "id": "503196fe",
   "metadata": {},
   "outputs": [],
   "source": [
    "# Fill missing values of country_fips and tract\n",
    "data_balance.sort_values(by='uu_id',inplace=True)\n",
    "data_balance = data_balance.fillna(method='ffill')\n",
    "data_balance.sort_index()"
   ]
  },
  {
   "cell_type": "code",
   "execution_count": null,
   "id": "cc104f31",
   "metadata": {},
   "outputs": [],
   "source": [
    "# Data clean up: convert NA to 0 for gender, race, education and top employer and recalculate unknown category\n",
    "# Based on the check of Nan in average_wage above, I also convert Nan to zero as well, but try models with and without \"average_wage\" variable\n",
    "data = dataFillNa(data, 0)"
   ]
  },
  {
   "cell_type": "code",
   "execution_count": null,
   "id": "2da14945",
   "metadata": {},
   "outputs": [],
   "source": [
    "# Split data to training and validaton sets\n",
    "# Max trainweek is 37, use a 80 / 20 rule\n",
    "train_week = int(max(pd.unique(data[\"week_number\"]))*0.8)"
   ]
  },
  {
   "cell_type": "code",
   "execution_count": null,
   "id": "d3b9d57e",
   "metadata": {},
   "outputs": [],
   "source": [
    "data_train = data[data[\"week_number\"] < train_week]\n",
    "data_valid = data[data[\"week_number\"] >= train_week]"
   ]
  },
  {
   "cell_type": "code",
   "execution_count": null,
   "id": "bc30a4bc",
   "metadata": {},
   "outputs": [],
   "source": [
    "data_train_x = data_train.drop(\"total_claims\",1)\n",
    "data_train_y = data_train[\"total_claims\"]"
   ]
  },
  {
   "cell_type": "code",
   "execution_count": null,
   "id": "8a509084",
   "metadata": {},
   "outputs": [],
   "source": [
    "data_valid_x = data_valid.drop(\"total_claims\",1)\n",
    "data_valid_y = data_valid[\"total_claims\"]"
   ]
  },
  {
   "cell_type": "markdown",
   "id": "2afc2979",
   "metadata": {},
   "source": [
    "Also prepare it for balanced dataset"
   ]
  },
  {
   "cell_type": "code",
   "execution_count": null,
   "id": "8d6ce28b",
   "metadata": {},
   "outputs": [],
   "source": [
    "data_balance_train = data_balance[data_balance[\"week_number\"] < train_week]\n",
    "data_balance_valid = data_balance[data_balance[\"week_number\"] >= train_week]"
   ]
  },
  {
   "cell_type": "code",
   "execution_count": null,
   "id": "fdf58ae4",
   "metadata": {},
   "outputs": [],
   "source": [
    "data_balance_train_x = data_balance_train.drop(\"total_claims\",1)\n",
    "data_balance_train_y = data_balance_train[\"total_claims\"]"
   ]
  },
  {
   "cell_type": "code",
   "execution_count": null,
   "id": "7c7966e0",
   "metadata": {},
   "outputs": [],
   "source": [
    "data_balance_valid_x = data_balance_valid.drop(\"total_claims\",1)\n",
    "data_balance_valid_y = data_balance_valid[\"total_claims\"]"
   ]
  },
  {
   "cell_type": "code",
   "execution_count": null,
   "id": "f8a2eaec",
   "metadata": {},
   "outputs": [],
   "source": [
    "data_balance_valid_y.shape"
   ]
  },
  {
   "cell_type": "code",
   "execution_count": null,
   "id": "b02f1c28",
   "metadata": {},
   "outputs": [],
   "source": [
    "# Model 1 : Poisson regression with unbalanced data\n",
    "data_train_x_m1 = data_train_x[[\"week_number\",\"month\", \"weekofmonth\",  \"average_wage\"]]\n",
    "data_train_x_m1[\"month\"] = data_train_x_m1[\"month\"].astype(str)\n",
    "data_train_x_m1[\"weekofmonth\"] = data_train_x_m1[\"weekofmonth\"].astype(str)\n",
    "data_train_x_m1[\"week_number2\"] = data_train_x_m1[\"week_number\"]**2\n",
    "data_train_x_m1 = pd.get_dummies(data_train_x_m1)"
   ]
  },
  {
   "cell_type": "code",
   "execution_count": null,
   "id": "60e52b25",
   "metadata": {},
   "outputs": [],
   "source": [
    "data_valid_x_m1 = data_valid_x[[\"week_number\",\"month\", \"weekofmonth\",  \"average_wage\"]]\n",
    "data_valid_x_m1[\"month\"] = data_valid_x_m1[\"month\"].astype(str)\n",
    "data_valid_x_m1[\"weekofmonth\"] = data_valid_x_m1[\"weekofmonth\"].astype(str)\n",
    "data_valid_x_m1[\"week_number2\"] = data_valid_x_m1[\"week_number\"]**2\n",
    "data_valid_x_m1 = pd.get_dummies(data_valid_x_m1)"
   ]
  },
  {
   "cell_type": "code",
   "execution_count": null,
   "id": "3e17d1a2",
   "metadata": {},
   "outputs": [],
   "source": [
    "data_train_x_m1[\"month_8\"] = 0\n",
    "data_train_x_m1[\"month_9\"] = 0"
   ]
  },
  {
   "cell_type": "code",
   "execution_count": null,
   "id": "cb015b85",
   "metadata": {},
   "outputs": [],
   "source": [
    "for i in range(8):\n",
    "    data_valid_x_m1[\"month_\"+str(1+i)] = 0"
   ]
  },
  {
   "cell_type": "code",
   "execution_count": null,
   "id": "9f23b0b4",
   "metadata": {},
   "outputs": [],
   "source": [
    "for i in range(5):\n",
    "    if i == 1:\n",
    "        pass\n",
    "    data_valid_x_m1[\"weekofmonth_\"+str(1+i)] = 0"
   ]
  },
  {
   "cell_type": "code",
   "execution_count": null,
   "id": "9c1efb91",
   "metadata": {},
   "outputs": [],
   "source": [
    "poission_model = sm.GLM(data_train_y.astype(int), data_train_x_m1.astype(float), family=sm.families.Poisson())\n",
    "result = poission_model.fit()\n",
    "result.summary()"
   ]
  },
  {
   "cell_type": "code",
   "execution_count": null,
   "id": "51e37601",
   "metadata": {},
   "outputs": [],
   "source": [
    "data_estimate_m1 = result.predict(data_valid_x_m1.astype(float))\n",
    "print(\"MAPE: \", MAPE(data_estimate_m1, data_valid_y))\n",
    "print(\"MSPE: \", MSPE(data_estimate_m1, data_valid_y))"
   ]
  },
  {
   "cell_type": "code",
   "execution_count": null,
   "id": "469198b6",
   "metadata": {},
   "outputs": [],
   "source": [
    "# Model 2: Poisson with balanced data\n",
    "data_balance_train_x_m1 = data_balance_train_x[[\"week_number\",\"month\", \"weekofmonth\",  \"average_wage\"]]\n",
    "data_balance_train_x_m1[\"month\"] = data_balance_train_x_m1[\"month\"].astype(str)\n",
    "data_balance_train_x_m1[\"weekofmonth\"] = data_balance_train_x_m1[\"weekofmonth\"].astype(str)\n",
    "data_balance_train_x_m1[\"week_number2\"] = data_balance_train_x_m1[\"week_number\"]**2\n",
    "data_balance_train_x_m1 = pd.get_dummies(data_balance_train_x_m1)"
   ]
  },
  {
   "cell_type": "code",
   "execution_count": null,
   "id": "7bc7698b",
   "metadata": {},
   "outputs": [],
   "source": [
    "data_balance_valid_x_m1 = data_balance_valid_x[[\"week_number\",\"month\", \"weekofmonth\",  \"average_wage\"]]\n",
    "data_balance_valid_x_m1[\"month\"] = data_balance_valid_x_m1[\"month\"].astype(str)\n",
    "data_balance_valid_x_m1[\"weekofmonth\"] = data_balance_valid_x_m1[\"weekofmonth\"].astype(str)\n",
    "data_balance_valid_x_m1[\"week_number2\"] = data_balance_valid_x_m1[\"week_number\"]**2\n",
    "data_balance_valid_x_m1 = pd.get_dummies(data_balance_valid_x_m1)"
   ]
  },
  {
   "cell_type": "code",
   "execution_count": null,
   "id": "45ac6f43",
   "metadata": {},
   "outputs": [],
   "source": [
    "data_balance_train_x_m1[\"month_8\"] = 0\n",
    "data_balance_train_x_m1[\"month_9\"] = 0"
   ]
  },
  {
   "cell_type": "code",
   "execution_count": null,
   "id": "2915462c",
   "metadata": {},
   "outputs": [],
   "source": [
    "for i in range(8):\n",
    "    data_balance_valid_x_m1[\"month_\"+str(1+i)] = 0"
   ]
  },
  {
   "cell_type": "code",
   "execution_count": null,
   "id": "f4c03ec0",
   "metadata": {},
   "outputs": [],
   "source": [
    "for i in range(5):\n",
    "    if i == 1:\n",
    "        pass\n",
    "    data_balance_valid_x_m1[\"weekofmonth_\"+str(1+i)] = 0"
   ]
  },
  {
   "cell_type": "code",
   "execution_count": null,
   "id": "6aa64617",
   "metadata": {},
   "outputs": [],
   "source": [
    "poission_model_m2 = sm.GLM(data_balance_train_y.astype(int), data_balance_train_x_m1.astype(float), family=sm.families.Poisson())\n",
    "result_m2 = poission_model_m2.fit()\n",
    "result_m2.summary()"
   ]
  },
  {
   "cell_type": "code",
   "execution_count": null,
   "id": "451213fc",
   "metadata": {},
   "outputs": [],
   "source": [
    "data_balance_estimate_m2 = result_m2.predict(data_balance_valid_x_m1.astype(float))\n",
    "print(\"MAPE: \", MAPE(data_balance_estimate_m2, data_balance_valid_y))\n",
    "print(\"MSPE: \", MSPE(data_balance_estimate_m2, data_balance_valid_y))"
   ]
  },
  {
   "cell_type": "code",
   "execution_count": null,
   "id": "8f0d8ee8",
   "metadata": {},
   "outputs": [],
   "source": [
    "# Model 3 time series\n",
    "# First, visualize average total_claim\n",
    "data_balance_ave = data_balance[[\"week_number\", \"total_claims\", \"uu_id\"]]\n",
    "data_balance_ave = data_balance_ave.groupby(['week_number']).mean()\n",
    "data_balance_ave = data_balance_ave.reset_index()\n",
    "data_balance_ave['MA4'] = data['total_claims'].rolling(4).mean()\n",
    "fig = px.line(data_balance_ave, x=\"week_number\", y=[\"total_claims\", \"MA4\"])\n",
    "fig.show()"
   ]
  },
  {
   "cell_type": "code",
   "execution_count": null,
   "id": "e75a3930",
   "metadata": {},
   "outputs": [],
   "source": [
    "# Model 4 Hierarchical ARIMA model\n",
    "# data_balance.groupby(\"countyfips\")[\"uu_id\"].apply(set).to_frame()\n",
    "data_balance[\"county_tract\"] = data_balance.apply(lambda x: f\"{x['countyfips']}_{x['uu_id']}\", axis=1)\n",
    "data_balance_hts = data_balance.copy()\n",
    "data_balance_hts = data_balance_hts[[\"date\", \"uu_id\", \"countyfips\", \"total_claims\", \"county_tract\"]]\n",
    "data_balance_hts[\"countyfips\"] = data_balance_hts[\"countyfips\"].astype(str)\n",
    "data_balance_hts.sort_values(by='date',inplace=True)"
   ]
  },
  {
   "cell_type": "code",
   "execution_count": null,
   "id": "0ca85a66",
   "metadata": {},
   "outputs": [],
   "source": [
    "data_balance_hts"
   ]
  },
  {
   "cell_type": "code",
   "execution_count": null,
   "id": "29aac4a5",
   "metadata": {},
   "outputs": [],
   "source": [
    "df_bottom_level = data_balance_hts.pivot(index=\"date\", columns=\"county_tract\", values=\"total_claims\")\n",
    "df_middle_level = data_balance_hts.groupby([\"date\", \"countyfips\"]) \\\n",
    "                    .sum() \\\n",
    "                    .reset_index(drop=False) \\\n",
    "                    .pivot(index=\"date\", columns=\"countyfips\", values=\"total_claims\")\n",
    "df_total = data_balance_hts.groupby(\"date\")[\"total_claims\"] \\\n",
    "             .sum() \\\n",
    "             .to_frame() \\\n",
    "             .rename(columns={\"total_claims\": \"total\"})\n",
    "hierarchy_df = df_bottom_level.join(df_middle_level) \\\n",
    "                              .join(df_total)\n",
    "hierarchy_df.index = pd.to_datetime(hierarchy_df.index)\n",
    "hierarchy_df = hierarchy_df.resample(\"7D\") \\\n",
    "                           .sum()"
   ]
  },
  {
   "cell_type": "code",
   "execution_count": null,
   "id": "1b0d22d6",
   "metadata": {},
   "outputs": [],
   "source": [
    "print(f\"Number of time series at the bottom level: {df_bottom_level.shape[1]}\")\n",
    "print(f\"Number of time series at the middle level: {df_middle_level.shape[1]}\")\n",
    "hierarchy_df = hierarchy_df.fillna(0)"
   ]
  },
  {
   "cell_type": "code",
   "execution_count": null,
   "id": "6cb2ceba",
   "metadata": {},
   "outputs": [],
   "source": [
    "county = data_balance_hts[\"countyfips\"].unique()\n",
    "tract = data_balance_hts[\"county_tract\"].unique()"
   ]
  },
  {
   "cell_type": "code",
   "execution_count": null,
   "id": "afdc1ccc",
   "metadata": {},
   "outputs": [],
   "source": [
    "total = {'total': list(county)}\n",
    "county = {k: [v for v in tract if v.startswith(k)] for k in county}\n",
    "hierarchy = {**total, **county}"
   ]
  },
  {
   "cell_type": "code",
   "execution_count": null,
   "id": "55719a1d",
   "metadata": {},
   "outputs": [],
   "source": [
    "ax = hierarchy_df[hierarchy['total']].plot(title=\"Trips - state level\")\n",
    "ax.legend(bbox_to_anchor=(1.0, 1.0));"
   ]
  },
  {
   "cell_type": "code",
   "execution_count": null,
   "id": "6471958d",
   "metadata": {},
   "outputs": [],
   "source": [
    "ax = hierarchy_df[hierarchy['total']].plot(title=\"total unemployment claims - county level\")\n",
    "ax.legend(bbox_to_anchor=(1.0, 1.0));"
   ]
  },
  {
   "cell_type": "code",
   "execution_count": null,
   "id": "6bc083a5",
   "metadata": {},
   "outputs": [],
   "source": [
    "data_balance"
   ]
  },
  {
   "cell_type": "code",
   "execution_count": null,
   "id": "f3e5e6aa",
   "metadata": {},
   "outputs": [],
   "source": [
    "data_balance[data_balance[\"uu_id\"] == \"001cd9ae23064d7f0fd3cd327c873d8d\"]"
   ]
  },
  {
   "cell_type": "code",
   "execution_count": null,
   "id": "a78904cc",
   "metadata": {},
   "outputs": [],
   "source": [
    "# Explore input data for NA and special values\n",
    "dataExplore(data)\n",
    "# dataExplore(data_pred_query)\n",
    "# data_pred_query.head()\n",
    "# data.head()"
   ]
  },
  {
   "cell_type": "markdown",
   "id": "020b3aa6",
   "metadata": {},
   "source": [
    "Explore input data for NA and special values\n",
    "dataExplore(data)\n",
    "dataExplore(data_pred_query)\n",
    "data_pred_query.head()\n",
    "data.head()"
   ]
  },
  {
   "cell_type": "code",
   "execution_count": null,
   "id": "bf52ca17",
   "metadata": {},
   "outputs": [],
   "source": [
    "data_balance = data.set_index('week_number')\n",
    "data_balance = data_balance.sort_index(ascending=False)\n",
    "data_balance = data_balance.set_index('uu_id',append=True)"
   ]
  },
  {
   "cell_type": "code",
   "execution_count": null,
   "id": "3adf12cd",
   "metadata": {},
   "outputs": [],
   "source": [
    "data_balance"
   ]
  },
  {
   "cell_type": "code",
   "execution_count": null,
   "id": "47f64099",
   "metadata": {},
   "outputs": [],
   "source": [
    "pd.unique(data[\"week_number\"])"
   ]
  },
  {
   "cell_type": "code",
   "execution_count": null,
   "id": "0798c159",
   "metadata": {},
   "outputs": [],
   "source": [
    "# To balance the dataset as panel data\n",
    "data_balance = data.set_index('week_number')\n",
    "data_balance = data_balance.sort_index(ascending=False)\n",
    "data_balance = data_balance.set_index('uu_id',append=True)\n",
    "data_balance = data_balance[~data_balance.index.duplicated(keep='first')]"
   ]
  },
  {
   "cell_type": "code",
   "execution_count": null,
   "id": "5a7c09d9",
   "metadata": {},
   "outputs": [],
   "source": [
    "data_balance = data_balance.reset_index(level=['week_number'])\n",
    "data_balance = (data_balance.set_index('week_number',append=True).reindex(pd.MultiIndex.from_product([data_balance.index.unique(),\n",
    "                                                      range(data_balance.week_number.min(),data_balance.week_number.max()+1)],\n",
    "                                                     names=['uu_id','week_number'])).reset_index(level=1))"
   ]
  },
  {
   "cell_type": "code",
   "execution_count": null,
   "id": "c2ad81b3",
   "metadata": {},
   "outputs": [],
   "source": [
    "data_balance = data_balance.set_index('week_number',append=True)"
   ]
  },
  {
   "cell_type": "code",
   "execution_count": null,
   "id": "532ee834",
   "metadata": {},
   "outputs": [],
   "source": [
    "# To balance the dataset as panel data\n",
    "data_balance = data.set_index('week_number')\n",
    "data_balance = data_balance.sort_index(ascending=False)\n",
    "data_balance = data_balance.set_index('uu_id',append=True)\n",
    "data_balance = data_balance[~data_balance.index.duplicated(keep='first')]"
   ]
  },
  {
   "cell_type": "code",
   "execution_count": null,
   "id": "8ab98c62",
   "metadata": {},
   "outputs": [],
   "source": [
    "data_balance = data_balance.reset_index(level=['week_number'])\n",
    "data_balance = (data_balance.set_index('week_number',append=True).reindex(pd.MultiIndex.from_product([data_balance.index.unique(),\n",
    "                                                      range(data_balance.week_number.min(),data_balance.week_number.max()+1)],\n",
    "                                                     names=['uu_id','week_number'])).reset_index(level=1))"
   ]
  },
  {
   "cell_type": "markdown",
   "id": "11375e28",
   "metadata": {},
   "source": [
    "data_balance = data_balance.set_index('week_number',append=True)"
   ]
  },
  {
   "cell_type": "code",
   "execution_count": null,
   "id": "9cd7b74a",
   "metadata": {},
   "outputs": [],
   "source": [
    "pd.unique(data_balance[\"week_number\"])"
   ]
  },
  {
   "cell_type": "code",
   "execution_count": null,
   "id": "79258d42",
   "metadata": {},
   "outputs": [],
   "source": [
    "# To balance the dataset as panel data\n",
    "data_balance = data.set_index('week_number')\n",
    "data_balance = data_balance.sort_index(ascending=False)\n",
    "data_balance = data_balance.set_index('uu_id',append=True)\n",
    "data_balance = data_balance[~data_balance.index.duplicated(keep='first')]"
   ]
  },
  {
   "cell_type": "code",
   "execution_count": null,
   "id": "f12f52ee",
   "metadata": {},
   "outputs": [],
   "source": [
    "data_balance = data_balance.reset_index(level=['week_number'])\n",
    "data_balance = (data_balance.set_index('week_number',append=True).reindex(pd.MultiIndex.from_product([data_balance.index.unique(),\n",
    "                                                      range(data_balance.week_number.min(),data_balance.week_number.max()+1)],\n",
    "                                                     names=['uu_id','week_number'])).reset_index(level=1))"
   ]
  },
  {
   "cell_type": "code",
   "execution_count": null,
   "id": "7b414fb0",
   "metadata": {},
   "outputs": [],
   "source": [
    "data_balance = data_balance.set_index('week_number',append=True)"
   ]
  },
  {
   "cell_type": "code",
   "execution_count": null,
   "id": "4de005c3",
   "metadata": {},
   "outputs": [],
   "source": [
    "data_balance.head"
   ]
  },
  {
   "cell_type": "code",
   "execution_count": null,
   "id": "ae43dfc6",
   "metadata": {},
   "outputs": [],
   "source": [
    "data_balance.head（）"
   ]
  },
  {
   "cell_type": "code",
   "execution_count": null,
   "id": "3b63cc8d",
   "metadata": {},
   "outputs": [],
   "source": [
    "data_balance.head()"
   ]
  },
  {
   "cell_type": "code",
   "execution_count": null,
   "id": "bc0e6241",
   "metadata": {},
   "outputs": [],
   "source": [
    "data_balance"
   ]
  },
  {
   "cell_type": "code",
   "execution_count": null,
   "id": "1e47ac7d",
   "metadata": {},
   "outputs": [],
   "source": [
    "# To balance the dataset as panel data\n",
    "data_balance = data.set_index('week_number')\n",
    "data_balance = data_balance.sort_index(ascending=False)\n",
    "data_balance = data_balance.set_index('uu_id',append=True)\n",
    "data_balance = data_balance[~data_balance.index.duplicated(keep='first')]"
   ]
  },
  {
   "cell_type": "code",
   "execution_count": null,
   "id": "0648c098",
   "metadata": {},
   "outputs": [],
   "source": [
    "data_balance = data_balance.reset_index(level=['week_number'])\n",
    "data_balance = (data_balance.set_index('week_number',append=True).reindex(pd.MultiIndex.from_product([data_balance.index.unique(),\n",
    "                                                      range(data_balance.week_number.min(),data_balance.week_number.max()+1)],\n",
    "                                                     names=['uu_id','week_number'])).reset_index(level=1))"
   ]
  },
  {
   "cell_type": "code",
   "execution_count": null,
   "id": "b80d3492",
   "metadata": {},
   "outputs": [],
   "source": [
    "data_balance = data_balance.set_index('week_number',append=True)"
   ]
  },
  {
   "cell_type": "code",
   "execution_count": null,
   "id": "d66dbe85",
   "metadata": {},
   "outputs": [],
   "source": [
    "data_balance['total_claims'] = data_balance['total_claims'].fillna(0)\n",
    "data_balance['average_wage'] = data_balance['average_wage'].interpolate(method = \"linear\")"
   ]
  },
  {
   "cell_type": "code",
   "execution_count": null,
   "id": "59c4d366",
   "metadata": {},
   "outputs": [],
   "source": [
    "data_balance = data_balance.reset_index(level=['uu_id', \"week_number\"])"
   ]
  },
  {
   "cell_type": "code",
   "execution_count": null,
   "id": "4bdaf39b",
   "metadata": {},
   "outputs": [],
   "source": [
    "data_balance"
   ]
  },
  {
   "cell_type": "code",
   "execution_count": null,
   "id": "2d9704af",
   "metadata": {},
   "outputs": [],
   "source": [
    "uu_id_list = pd.unique(data_balance[\"uu_id\"])\n",
    "# In checking, I find the total_claim for week number 4 and 23 are missing over all tracts. Use the average value before and after to replace\n",
    "for i in range(len(uu_id_list)):\n",
    "    print(i)\n",
    "    print(data_balance[data_balance[\"uu_id\"] == uu_id_list[i] and data_balance[\"week_numer\"] == 4])\n",
    "    break"
   ]
  },
  {
   "cell_type": "code",
   "execution_count": null,
   "id": "581a5301",
   "metadata": {},
   "outputs": [],
   "source": [
    "uu_id_list = pd.unique(data_balance[\"uu_id\"])\n",
    "# In checking, I find the total_claim for week number 4 and 23 are missing over all tracts. Use the average value before and after to replace\n",
    "for i in range(len(uu_id_list)):\n",
    "    print(i)\n",
    "    print(data_balance[data_balance[\"uu_id\"] == uu_id_list[i] & data_balance[\"week_numer\"] == 4])\n",
    "    break"
   ]
  },
  {
   "cell_type": "code",
   "execution_count": null,
   "id": "4d19498c",
   "metadata": {},
   "outputs": [],
   "source": [
    "uu_id_list = pd.unique(data_balance[\"uu_id\"])\n",
    "# In checking, I find the total_claim for week number 4 and 23 are missing over all tracts. Use the average value before and after to replace\n",
    "for i in range(len(uu_id_list)):\n",
    "    print(i)\n",
    "    print(data_balance[data_balance[\"uu_id\"] == uu_id_list[i] & data_balance[\"week_number\"] == 4])\n",
    "    break"
   ]
  },
  {
   "cell_type": "code",
   "execution_count": null,
   "id": "33fbd730",
   "metadata": {},
   "outputs": [],
   "source": [
    "uu_id_list = pd.unique(data_balance[\"uu_id\"])\n",
    "# In checking, I find the total_claim for week number 4 and 23 are missing over all tracts. Use the average value before and after to replace\n",
    "for i in range(len(uu_id_list)):\n",
    "    print(i)\n",
    "    print(data_balance[data_balance[\"uu_id\"] == uu_id_list[i] && data_balance[\"week_number\"] == 4])\n",
    "    break"
   ]
  },
  {
   "cell_type": "code",
   "execution_count": null,
   "id": "a023dc37",
   "metadata": {},
   "outputs": [],
   "source": [
    "uu_id_list = pd.unique(data_balance[\"uu_id\"])\n",
    "# In checking, I find the total_claim for week number 4 and 23 are missing over all tracts. Use the average value before and after to replace\n",
    "for i in range(len(uu_id_list)):\n",
    "    print(i)\n",
    "    df = data_balance[(data_balance[\"uu_id\"] == uu_id_list[i]) & (data_balance[\"week_number\"] == 4)]\n",
    "    print(df)\n",
    "    break"
   ]
  },
  {
   "cell_type": "code",
   "execution_count": null,
   "id": "ef98312e",
   "metadata": {},
   "outputs": [],
   "source": [
    "uu_id_list = pd.unique(data_balance[\"uu_id\"])\n",
    "# In checking, I find the total_claim for week number 4 and 23 are missing over all tracts. Use the average value before and after to replace\n",
    "for i in range(len(uu_id_list)):\n",
    "    print(i)\n",
    "    \n",
    "    print(data_balance.loc[(data_balance.uu_id == uu_id_list[i]) & (data_balance.week_number == 4), ['total_claims']])\n",
    "    print(data_balance.loc[(data_balance.uu_id == uu_id_list[i]) & (data_balance.week_number == 3), ['total_claims']])\n",
    "    print(data_balance.loc[(data_balance.uu_id == uu_id_list[i]) & (data_balance.week_number == 5), ['total_claims']])\n",
    "\n",
    "    break"
   ]
  },
  {
   "cell_type": "code",
   "execution_count": null,
   "id": "4a795c64",
   "metadata": {},
   "outputs": [],
   "source": [
    "uu_id_list = pd.unique(data_balance[\"uu_id\"])\n",
    "# In checking, I find the total_claim for week number 4 and 23 are missing over all tracts. Use the average value before and after to replace\n",
    "for i in range(len(uu_id_list)):\n",
    "    print(i)\n",
    "    week_3 = data_balance.loc[(data_balance.uu_id == uu_id_list[i]) & (data_balance.week_number == 3), ['total_claims']]\n",
    "    week_5 = data_balance.loc[(data_balance.uu_id == uu_id_list[i]) & (data_balance.week_number == 5), ['total_claims']]\n",
    "    print(data_balance.loc[(data_balance.uu_id == uu_id_list[i]) & (data_balance.week_number == 23), ['total_claims']])\n",
    "    print(data_balance.loc[(data_balance.uu_id == uu_id_list[i]) & (data_balance.week_number == 22), ['total_claims']])\n",
    "    print(data_balance.loc[(data_balance.uu_id == uu_id_list[i]) & (data_balance.week_number == 24), ['total_claims']])\n",
    "\n",
    "    break"
   ]
  },
  {
   "cell_type": "code",
   "execution_count": null,
   "id": "351f1bc2",
   "metadata": {},
   "outputs": [],
   "source": [
    "uu_id_list = pd.unique(data_balance[\"uu_id\"])\n",
    "# In checking, I find the total_claim for week number 4 and 23 are missing over all tracts. Use the average value before and after to replace\n",
    "for i in range(len(uu_id_list)):\n",
    "    print(i)\n",
    "    week_3 = data_balance.loc[(data_balance.uu_id == uu_id_list[i]) & (data_balance.week_number == 3), ['total_claims']]\n",
    "    week_5 = data_balance.loc[(data_balance.uu_id == uu_id_list[i]) & (data_balance.week_number == 5), ['total_claims']]\n",
    "    print(data_balance.loc[(data_balance.uu_id == uu_id_list[i]) & (data_balance.week_number == 23)])\n",
    "    print(data_balance.loc[(data_balance.uu_id == uu_id_list[i]) & (data_balance.week_number == 22), ['total_claims']])\n",
    "    print(data_balance.loc[(data_balance.uu_id == uu_id_list[i]) & (data_balance.week_number == 24), ['total_claims']])\n",
    "\n",
    "    break"
   ]
  },
  {
   "cell_type": "code",
   "execution_count": null,
   "id": "2159ef7b",
   "metadata": {},
   "outputs": [],
   "source": [
    "uu_id_list = pd.unique(data_balance[\"uu_id\"])\n",
    "# In checking, I find the total_claim for week number 4 and 23 are missing over all tracts. Use the average value before and after to replace\n",
    "for i in range(len(uu_id_list)):\n",
    "    print(i)\n",
    "    week_3 = data_balance.loc[(data_balance.uu_id == uu_id_list[i]) & (data_balance.week_number == 3), ['total_claims']]\n",
    "    week_5 = data_balance.loc[(data_balance.uu_id == uu_id_list[i]) & (data_balance.week_number == 5), ['total_claims']]\n",
    "    \n",
    "    data_balance.loc[(data_balance.uu_id == uu_id_list[i]) & (data_balance.week_number == 4), ['total_claims']] = (week_3 + week_3)/2\n",
    "    \n",
    "    \n",
    "    week_22 = data_balance.loc[(data_balance.uu_id == uu_id_list[i]) & (data_balance.week_number == 22), ['total_claims']]\n",
    "    week_24 = data_balance.loc[(data_balance.uu_id == uu_id_list[i]) & (data_balance.week_number == 24), ['total_claims']]\n",
    "    \n",
    "    data_balance.loc[(data_balance.uu_id == uu_id_list[i]) & (data_balance.week_number == 23), ['total_claims']] = (week_22 + week_24)/2\n",
    "    break"
   ]
  },
  {
   "cell_type": "code",
   "execution_count": null,
   "id": "1c93f868",
   "metadata": {},
   "outputs": [],
   "source": [
    "data_balance.head()"
   ]
  },
  {
   "cell_type": "code",
   "execution_count": null,
   "id": "93bfc1e3",
   "metadata": {},
   "outputs": [],
   "source": [
    "uu_id_list = pd.unique(data_balance[\"uu_id\"])\n",
    "# In checking, I find the total_claim for week number 4 and 23 are missing over all tracts. Use the average value before and after to replace\n",
    "for i in range(len(uu_id_list)):\n",
    "    print(i)\n",
    "    week_3 = data_balance.loc[(data_balance.uu_id == uu_id_list[i]) & (data_balance.week_number == 3), ['total_claims']]\n",
    "    week_5 = data_balance.loc[(data_balance.uu_id == uu_id_list[i]) & (data_balance.week_number == 5), ['total_claims']]\n",
    "    \n",
    "    data_balance.loc[(data_balance.uu_id == uu_id_list[i]) & (data_balance.week_number == 4)]['total_claims'] = (week_3 + week_3)/2\n",
    "    \n",
    "    \n",
    "    week_22 = data_balance.loc[(data_balance.uu_id == uu_id_list[i]) & (data_balance.week_number == 22), ['total_claims']]\n",
    "    week_24 = data_balance.loc[(data_balance.uu_id == uu_id_list[i]) & (data_balance.week_number == 24), ['total_claims']]\n",
    "    \n",
    "    data_balance.loc[(data_balance.uu_id == uu_id_list[i]) & (data_balance.week_number == 23), ['total_claims']] = (week_22 + week_24)/2\n",
    "    break"
   ]
  },
  {
   "cell_type": "code",
   "execution_count": null,
   "id": "f088bbad",
   "metadata": {},
   "outputs": [],
   "source": [
    "data_balance.head()"
   ]
  },
  {
   "cell_type": "code",
   "execution_count": null,
   "id": "f220e0c3",
   "metadata": {},
   "outputs": [],
   "source": [
    "uu_id_list = pd.unique(data_balance[\"uu_id\"])\n",
    "# In checking, I find the total_claim for week number 4 and 23 are missing over all tracts. Use the average value before and after to replace\n",
    "for i in range(len(uu_id_list)):\n",
    "    print(i)\n",
    "    week_3 = data_balance.loc[(data_balance.uu_id == uu_id_list[i]) & (data_balance.week_number == 3), ['total_claims']]\n",
    "    week_5 = data_balance.loc[(data_balance.uu_id == uu_id_list[i]) & (data_balance.week_number == 5), ['total_claims']]\n",
    "    \n",
    "    data_balance.loc[(data_balance.uu_id == uu_id_list[i]) & (data_balance.week_number == 4)]['total_claims'] = (week_3 + week_5)/2\n",
    "    \n",
    "    \n",
    "    week_22 = data_balance.loc[(data_balance.uu_id == uu_id_list[i]) & (data_balance.week_number == 22), ['total_claims']]\n",
    "    week_24 = data_balance.loc[(data_balance.uu_id == uu_id_list[i]) & (data_balance.week_number == 24), ['total_claims']]\n",
    "    \n",
    "    data_balance.loc[(data_balance.uu_id == uu_id_list[i]) & (data_balance.week_number == 23), ['total_claims']] = (week_22 + week_24)/2\n",
    "    break"
   ]
  },
  {
   "cell_type": "code",
   "execution_count": null,
   "id": "b0a54f26",
   "metadata": {},
   "outputs": [],
   "source": [
    "data_balance.head()"
   ]
  },
  {
   "cell_type": "code",
   "execution_count": null,
   "id": "fce0befd",
   "metadata": {},
   "outputs": [],
   "source": [
    "# To balance the dataset as panel data\n",
    "data_balance = data.set_index('week_number')\n",
    "data_balance = data_balance.sort_index(ascending=False)\n",
    "data_balance = data_balance.set_index('uu_id',append=True)\n",
    "data_balance = data_balance[~data_balance.index.duplicated(keep='first')]"
   ]
  },
  {
   "cell_type": "code",
   "execution_count": null,
   "id": "7a3bbea3",
   "metadata": {},
   "outputs": [],
   "source": [
    "data_balance = data_balance.reset_index(level=['week_number'])\n",
    "data_balance = (data_balance.set_index('week_number',append=True).reindex(pd.MultiIndex.from_product([data_balance.index.unique(),\n",
    "                                                      range(data_balance.week_number.min(),data_balance.week_number.max()+1)],\n",
    "                                                     names=['uu_id','week_number'])).reset_index(level=1))"
   ]
  },
  {
   "cell_type": "code",
   "execution_count": null,
   "id": "337b45bc",
   "metadata": {},
   "outputs": [],
   "source": [
    "data_balance = data_balance.set_index('week_number',append=True)"
   ]
  },
  {
   "cell_type": "code",
   "execution_count": null,
   "id": "19ccbdb2",
   "metadata": {},
   "outputs": [],
   "source": [
    "data_balance['total_claims'] = data_balance['total_claims'].fillna(0)\n",
    "data_balance['average_wage'] = data_balance['average_wage'].interpolate(method = \"linear\")"
   ]
  },
  {
   "cell_type": "code",
   "execution_count": null,
   "id": "85775530",
   "metadata": {},
   "outputs": [],
   "source": [
    "data_balance = data_balance.reset_index(level=['uu_id', \"week_number\"])"
   ]
  },
  {
   "cell_type": "code",
   "execution_count": null,
   "id": "14e10cae",
   "metadata": {},
   "outputs": [],
   "source": [
    "data_balance.head()"
   ]
  },
  {
   "cell_type": "code",
   "execution_count": null,
   "id": "8e89c818",
   "metadata": {},
   "outputs": [],
   "source": [
    "uu_id_list = pd.unique(data_balance[\"uu_id\"])\n",
    "# In checking, I find the total_claim for week number 4 and 23 are missing over all tracts. Use the average value before and after to replace\n",
    "for i in range(len(uu_id_list)):\n",
    "    print(i)\n",
    "    week_3 = data_balance.loc[(data_balance.uu_id == uu_id_list[i]) & (data_balance.week_number == 3), ['total_claims']]\n",
    "    week_5 = data_balance.loc[(data_balance.uu_id == uu_id_list[i]) & (data_balance.week_number == 5), ['total_claims']]\n",
    "    \n",
    "    data_balance.loc[(data_balance.uu_id == uu_id_list[i]) & (data_balance.week_number == 4), ['total_claims']]= (week_3 + week_5)/2\n",
    "    \n",
    "    week_22 = data_balance.loc[(data_balance.uu_id == uu_id_list[i]) & (data_balance.week_number == 22), ['total_claims']]\n",
    "    week_24 = data_balance.loc[(data_balance.uu_id == uu_id_list[i]) & (data_balance.week_number == 24), ['total_claims']]\n",
    "    \n",
    "    data_balance.loc[(data_balance.uu_id == uu_id_list[i]) & (data_balance.week_number == 23), ['total_claims']] = (week_22 + week_24)/2\n",
    "    break"
   ]
  },
  {
   "cell_type": "code",
   "execution_count": null,
   "id": "a2c4b040",
   "metadata": {},
   "outputs": [],
   "source": [
    "data_balance.head()"
   ]
  },
  {
   "cell_type": "code",
   "execution_count": null,
   "id": "bfdc709e",
   "metadata": {},
   "outputs": [],
   "source": [
    "uu_id_list = pd.unique(data_balance[\"uu_id\"])\n",
    "# In checking, I find the total_claim for week number 4 and 23 are missing over all tracts. Use the average value before and after to replace\n",
    "for i in range(len(uu_id_list)):\n",
    "    print(i)\n",
    "    week_3 = data_balance.loc[(data_balance.uu_id == uu_id_list[i]) & (data_balance.week_number == 3), ['total_claims']]\n",
    "    week_5 = data_balance.loc[(data_balance.uu_id == uu_id_list[i]) & (data_balance.week_number == 5), ['total_claims']]\n",
    "    \n",
    "    data_balance.loc[(data_balance.uu_id == uu_id_list[i]) & (data_balance.week_number == 4), ['total_claims']]= 1\n",
    "    \n",
    "    week_22 = data_balance.loc[(data_balance.uu_id == uu_id_list[i]) & (data_balance.week_number == 22), ['total_claims']]\n",
    "    week_24 = data_balance.loc[(data_balance.uu_id == uu_id_list[i]) & (data_balance.week_number == 24), ['total_claims']]\n",
    "    \n",
    "    data_balance.loc[(data_balance.uu_id == uu_id_list[i]) & (data_balance.week_number == 23), ['total_claims']] = (week_22 + week_24)/2\n",
    "    break"
   ]
  },
  {
   "cell_type": "code",
   "execution_count": null,
   "id": "b39d920a",
   "metadata": {},
   "outputs": [],
   "source": [
    "data_balance.head()"
   ]
  },
  {
   "cell_type": "code",
   "execution_count": null,
   "id": "ee5a7010",
   "metadata": {},
   "outputs": [],
   "source": [
    "uu_id_list = pd.unique(data_balance[\"uu_id\"])\n",
    "# In checking, I find the total_claim for week number 4 and 23 are missing over all tracts. Use the average value before and after to replace\n",
    "for i in range(len(uu_id_list)):\n",
    "    print(i)\n",
    "    week_3 = data_balance.loc[(data_balance.uu_id == uu_id_list[i]) & (data_balance.week_number == 3), ['total_claims']]\n",
    "    week_5 = data_balance.loc[(data_balance.uu_id == uu_id_list[i]) & (data_balance.week_number == 5), ['total_claims']]\n",
    "    print((week_3 + week_5)/2)\n",
    "    data_balance.loc[(data_balance.uu_id == uu_id_list[i]) & (data_balance.week_number == 4), ['total_claims']]= (week_3 + week_5)/2\n",
    "    \n",
    "    week_22 = data_balance.loc[(data_balance.uu_id == uu_id_list[i]) & (data_balance.week_number == 22), ['total_claims']]\n",
    "    week_24 = data_balance.loc[(data_balance.uu_id == uu_id_list[i]) & (data_balance.week_number == 24), ['total_claims']]\n",
    "    \n",
    "    data_balance.loc[(data_balance.uu_id == uu_id_list[i]) & (data_balance.week_number == 23), ['total_claims']] = (week_22 + week_24)/2\n",
    "    break"
   ]
  },
  {
   "cell_type": "code",
   "execution_count": null,
   "id": "8ab0c3c3",
   "metadata": {},
   "outputs": [],
   "source": [
    "uu_id_list = pd.unique(data_balance[\"uu_id\"])\n",
    "# In checking, I find the total_claim for week number 4 and 23 are missing over all tracts. Use the average value before and after to replace\n",
    "for i in range(len(uu_id_list)):\n",
    "    print(i)\n",
    "    week_3 = data_balance.loc[(data_balance.uu_id == uu_id_list[i]) & (data_balance.week_number == 3), ['total_claims']]\n",
    "    week_5 = data_balance.loc[(data_balance.uu_id == uu_id_list[i]) & (data_balance.week_number == 5), ['total_claims']]\n",
    "    print(week_3)\n",
    "    data_balance.loc[(data_balance.uu_id == uu_id_list[i]) & (data_balance.week_number == 4), ['total_claims']]= (week_3 + week_5)/2\n",
    "    \n",
    "    week_22 = data_balance.loc[(data_balance.uu_id == uu_id_list[i]) & (data_balance.week_number == 22), ['total_claims']]\n",
    "    week_24 = data_balance.loc[(data_balance.uu_id == uu_id_list[i]) & (data_balance.week_number == 24), ['total_claims']]\n",
    "    \n",
    "    data_balance.loc[(data_balance.uu_id == uu_id_list[i]) & (data_balance.week_number == 23), ['total_claims']] = (week_22 + week_24)/2\n",
    "    break"
   ]
  },
  {
   "cell_type": "code",
   "execution_count": null,
   "id": "0c87d08e",
   "metadata": {},
   "outputs": [],
   "source": [
    "uu_id_list = pd.unique(data_balance[\"uu_id\"])\n",
    "# In checking, I find the total_claim for week number 4 and 23 are missing over all tracts. Use the average value before and after to replace\n",
    "for i in range(len(uu_id_list)):\n",
    "    print(i)\n",
    "    week_3 = data_balance.loc[(data_balance.uu_id == uu_id_list[i]) & (data_balance.week_number == 3), ['total_claims']]\n",
    "    week_5 = data_balance.loc[(data_balance.uu_id == uu_id_list[i]) & (data_balance.week_number == 5), ['total_claims']]\n",
    "    print(week_3[0])\n",
    "    data_balance.loc[(data_balance.uu_id == uu_id_list[i]) & (data_balance.week_number == 4), ['total_claims']]= (week_3 + week_5)/2\n",
    "    \n",
    "    week_22 = data_balance.loc[(data_balance.uu_id == uu_id_list[i]) & (data_balance.week_number == 22), ['total_claims']]\n",
    "    week_24 = data_balance.loc[(data_balance.uu_id == uu_id_list[i]) & (data_balance.week_number == 24), ['total_claims']]\n",
    "    \n",
    "    data_balance.loc[(data_balance.uu_id == uu_id_list[i]) & (data_balance.week_number == 23), ['total_claims']] = (week_22 + week_24)/2\n",
    "    break"
   ]
  },
  {
   "cell_type": "code",
   "execution_count": null,
   "id": "6eae8db8",
   "metadata": {},
   "outputs": [],
   "source": [
    "uu_id_list = pd.unique(data_balance[\"uu_id\"])\n",
    "# In checking, I find the total_claim for week number 4 and 23 are missing over all tracts. Use the average value before and after to replace\n",
    "for i in range(len(uu_id_list)):\n",
    "    print(i)\n",
    "    week_3 = data_balance.loc[(data_balance.uu_id == uu_id_list[i]) & (data_balance.week_number == 3), ['total_claims']]\n",
    "    week_5 = data_balance.loc[(data_balance.uu_id == uu_id_list[i]) & (data_balance.week_number == 5), ['total_claims']]\n",
    "    print(week_3.item())\n",
    "    data_balance.loc[(data_balance.uu_id == uu_id_list[i]) & (data_balance.week_number == 4), ['total_claims']]= (week_3 + week_5)/2\n",
    "    \n",
    "    week_22 = data_balance.loc[(data_balance.uu_id == uu_id_list[i]) & (data_balance.week_number == 22), ['total_claims']]\n",
    "    week_24 = data_balance.loc[(data_balance.uu_id == uu_id_list[i]) & (data_balance.week_number == 24), ['total_claims']]\n",
    "    \n",
    "    data_balance.loc[(data_balance.uu_id == uu_id_list[i]) & (data_balance.week_number == 23), ['total_claims']] = (week_22 + week_24)/2\n",
    "    break"
   ]
  },
  {
   "cell_type": "code",
   "execution_count": null,
   "id": "4d402215",
   "metadata": {},
   "outputs": [],
   "source": [
    "uu_id_list = pd.unique(data_balance[\"uu_id\"])\n",
    "# In checking, I find the total_claim for week number 4 and 23 are missing over all tracts. Use the average value before and after to replace\n",
    "for i in range(len(uu_id_list)):\n",
    "    print(i)\n",
    "    week_3 = data_balance.loc[(data_balance.uu_id == uu_id_list[i]) & (data_balance.week_number == 3), ['total_claims']]\n",
    "    week_5 = data_balance.loc[(data_balance.uu_id == uu_id_list[i]) & (data_balance.week_number == 5), ['total_claims']]\n",
    "    print(week_3.values[0])\n",
    "    data_balance.loc[(data_balance.uu_id == uu_id_list[i]) & (data_balance.week_number == 4), ['total_claims']]= (week_3 + week_5)/2\n",
    "    \n",
    "    week_22 = data_balance.loc[(data_balance.uu_id == uu_id_list[i]) & (data_balance.week_number == 22), ['total_claims']]\n",
    "    week_24 = data_balance.loc[(data_balance.uu_id == uu_id_list[i]) & (data_balance.week_number == 24), ['total_claims']]\n",
    "    \n",
    "    data_balance.loc[(data_balance.uu_id == uu_id_list[i]) & (data_balance.week_number == 23), ['total_claims']] = (week_22 + week_24)/2\n",
    "    break"
   ]
  },
  {
   "cell_type": "code",
   "execution_count": null,
   "id": "4fab25a6",
   "metadata": {},
   "outputs": [],
   "source": [
    "uu_id_list = pd.unique(data_balance[\"uu_id\"])\n",
    "# In checking, I find the total_claim for week number 4 and 23 are missing over all tracts. Use the average value before and after to replace\n",
    "for i in range(len(uu_id_list)):\n",
    "    print(i)\n",
    "    week_3 = data_balance.loc[(data_balance.uu_id == uu_id_list[i]) & (data_balance.week_number == 3), ['total_claims']]\n",
    "    week_5 = data_balance.loc[(data_balance.uu_id == uu_id_list[i]) & (data_balance.week_number == 5), ['total_claims']]\n",
    "    print(week_3.values[0][0])\n",
    "    data_balance.loc[(data_balance.uu_id == uu_id_list[i]) & (data_balance.week_number == 4), ['total_claims']]= (week_3 + week_5)/2\n",
    "    \n",
    "    week_22 = data_balance.loc[(data_balance.uu_id == uu_id_list[i]) & (data_balance.week_number == 22), ['total_claims']]\n",
    "    week_24 = data_balance.loc[(data_balance.uu_id == uu_id_list[i]) & (data_balance.week_number == 24), ['total_claims']]\n",
    "    \n",
    "    data_balance.loc[(data_balance.uu_id == uu_id_list[i]) & (data_balance.week_number == 23), ['total_claims']] = (week_22 + week_24)/2\n",
    "    break"
   ]
  },
  {
   "cell_type": "code",
   "execution_count": null,
   "id": "86982e91",
   "metadata": {},
   "outputs": [],
   "source": [
    "# To balance the dataset as panel data\n",
    "data_balance = data.set_index('week_number')\n",
    "data_balance = data_balance.sort_index(ascending=False)\n",
    "data_balance = data_balance.set_index('uu_id',append=True)\n",
    "data_balance = data_balance[~data_balance.index.duplicated(keep='first')]"
   ]
  },
  {
   "cell_type": "code",
   "execution_count": null,
   "id": "1887f90d",
   "metadata": {},
   "outputs": [],
   "source": [
    "data_balance = data_balance.reset_index(level=['week_number'])\n",
    "data_balance = (data_balance.set_index('week_number',append=True).reindex(pd.MultiIndex.from_product([data_balance.index.unique(),\n",
    "                                                      range(data_balance.week_number.min(),data_balance.week_number.max()+1)],\n",
    "                                                     names=['uu_id','week_number'])).reset_index(level=1))"
   ]
  },
  {
   "cell_type": "code",
   "execution_count": null,
   "id": "78aecf81",
   "metadata": {},
   "outputs": [],
   "source": [
    "data_balance = data_balance.set_index('week_number',append=True)"
   ]
  },
  {
   "cell_type": "code",
   "execution_count": null,
   "id": "01e6d21a",
   "metadata": {},
   "outputs": [],
   "source": [
    "data_balance['total_claims'] = data_balance['total_claims'].fillna(0)\n",
    "data_balance['average_wage'] = data_balance['average_wage'].interpolate(method = \"linear\")"
   ]
  },
  {
   "cell_type": "code",
   "execution_count": null,
   "id": "87e54ba6",
   "metadata": {},
   "outputs": [],
   "source": [
    "data_balance = data_balance.reset_index(level=['uu_id', \"week_number\"])"
   ]
  },
  {
   "cell_type": "code",
   "execution_count": null,
   "id": "f37741a7",
   "metadata": {},
   "outputs": [],
   "source": [
    "data_balance.head()"
   ]
  },
  {
   "cell_type": "code",
   "execution_count": null,
   "id": "f77aa29f",
   "metadata": {},
   "outputs": [],
   "source": [
    "uu_id_list = pd.unique(data_balance[\"uu_id\"])\n",
    "# In checking, I find the total_claim for week number 4 and 23 are missing over all tracts. Use the average value before and after to replace\n",
    "for i in range(len(uu_id_list)):\n",
    "    print(i)\n",
    "    week_3 = data_balance.loc[(data_balance.uu_id == uu_id_list[i]) & (data_balance.week_number == 3), ['total_claims']]\n",
    "    week_5 = data_balance.loc[(data_balance.uu_id == uu_id_list[i]) & (data_balance.week_number == 5), ['total_claims']]\n",
    "\n",
    "    data_balance.loc[(data_balance.uu_id == uu_id_list[i]) & (data_balance.week_number == 4), ['total_claims']]= (week_3.values[0][0] + week_5.values[0][0])/2\n",
    "    \n",
    "    week_22 = data_balance.loc[(data_balance.uu_id == uu_id_list[i]) & (data_balance.week_number == 22), ['total_claims']]\n",
    "    week_24 = data_balance.loc[(data_balance.uu_id == uu_id_list[i]) & (data_balance.week_number == 24), ['total_claims']]\n",
    "    \n",
    "    data_balance.loc[(data_balance.uu_id == uu_id_list[i]) & (data_balance.week_number == 23), ['total_claims']] = (week_22.values[0][0] + week_24.values[0][0])/2\n",
    "    break"
   ]
  },
  {
   "cell_type": "code",
   "execution_count": null,
   "id": "e681fe18",
   "metadata": {},
   "outputs": [],
   "source": [
    "uu_id_list = pd.unique(data_balance[\"uu_id\"])\n",
    "# In checking, I find the total_claim for week number 4 and 23 are missing over all tracts. Use the average value before and after to replace\n",
    "for i in range(len(uu_id_list)):\n",
    "    print(i)\n",
    "    week_3 = data_balance.loc[(data_balance.uu_id == uu_id_list[i]) & (data_balance.week_number == 3), ['total_claims']]\n",
    "    week_5 = data_balance.loc[(data_balance.uu_id == uu_id_list[i]) & (data_balance.week_number == 5), ['total_claims']]\n",
    "\n",
    "    data_balance.loc[(data_balance.uu_id == uu_id_list[i]) & (data_balance.week_number == 4), ['total_claims']]= int((week_3.values[0][0] + week_5.values[0][0])/2)\n",
    "    \n",
    "    week_22 = data_balance.loc[(data_balance.uu_id == uu_id_list[i]) & (data_balance.week_number == 22), ['total_claims']]\n",
    "    week_24 = data_balance.loc[(data_balance.uu_id == uu_id_list[i]) & (data_balance.week_number == 24), ['total_claims']]\n",
    "    \n",
    "    data_balance.loc[(data_balance.uu_id == uu_id_list[i]) & (data_balance.week_number == 23), ['total_claims']] = int((week_22.values[0][0] + week_24.values[0][0])/2)\n",
    "    break"
   ]
  },
  {
   "cell_type": "code",
   "execution_count": null,
   "id": "49c68682",
   "metadata": {},
   "outputs": [],
   "source": [
    "data_balance.head()"
   ]
  },
  {
   "cell_type": "code",
   "execution_count": null,
   "id": "02dd084f",
   "metadata": {},
   "outputs": [],
   "source": [
    "data = data_backup.copy()"
   ]
  },
  {
   "cell_type": "code",
   "execution_count": null,
   "id": "f25ca495",
   "metadata": {},
   "outputs": [],
   "source": [
    "# Pretreatment: convert week_number to month and week of month, to capture seasonality\n",
    "data = dataIdentifyDWM(data)"
   ]
  },
  {
   "cell_type": "code",
   "execution_count": null,
   "id": "5ddbca12",
   "metadata": {},
   "outputs": [],
   "source": [
    "# Check if the dataset is a balance panel (all tracts have value for all time periods)\n",
    "# 54% of tracts has less than 35 observations (total number of full time series), indicating it is unbalanced\n",
    "# Even if only checking data afer 2022/6/1, there are still 36% of tracts with incomplete series\n",
    "dataBalanceCheck(data)\n",
    "dataBalanceCheck(data[data[\"date\"] > \"2022-06-01\"])"
   ]
  },
  {
   "cell_type": "code",
   "execution_count": null,
   "id": "fc540c90",
   "metadata": {},
   "outputs": [],
   "source": [
    "# To balance the dataset as panel data\n",
    "data_balance = data.set_index('week_number')\n",
    "data_balance = data_balance.sort_index(ascending=False)\n",
    "data_balance = data_balance.set_index('uu_id',append=True)\n",
    "data_balance = data_balance[~data_balance.index.duplicated(keep='first')]"
   ]
  },
  {
   "cell_type": "code",
   "execution_count": null,
   "id": "753cc0f0",
   "metadata": {},
   "outputs": [],
   "source": [
    "data_balance = data_balance.reset_index(level=['week_number'])\n",
    "data_balance = (data_balance.set_index('week_number',append=True).reindex(pd.MultiIndex.from_product([data_balance.index.unique(),\n",
    "                                                      range(data_balance.week_number.min(),data_balance.week_number.max()+1)],\n",
    "                                                     names=['uu_id','week_number'])).reset_index(level=1))"
   ]
  },
  {
   "cell_type": "code",
   "execution_count": null,
   "id": "db05e3b3",
   "metadata": {},
   "outputs": [],
   "source": [
    "data_balance = data_balance.set_index('week_number',append=True)"
   ]
  },
  {
   "cell_type": "code",
   "execution_count": null,
   "id": "29710cd3",
   "metadata": {},
   "outputs": [],
   "source": [
    "data_balance['total_claims'] = data_balance['total_claims'].fillna(0)\n",
    "data_balance['average_wage'] = data_balance['average_wage'].interpolate(method = \"linear\")"
   ]
  },
  {
   "cell_type": "code",
   "execution_count": null,
   "id": "837c7c88",
   "metadata": {},
   "outputs": [],
   "source": [
    "data_balance = data_balance.reset_index(level=['uu_id', \"week_number\"])"
   ]
  },
  {
   "cell_type": "code",
   "execution_count": null,
   "id": "de22f4a0",
   "metadata": {},
   "outputs": [],
   "source": [
    "uu_id_list = pd.unique(data_balance[\"uu_id\"])\n",
    "# In checking, I find the total_claim for week number 4 and 23 are missing over all tracts. Use the average value before and after to replace\n",
    "for i in range(len(uu_id_list)):\n",
    "    print(i)\n",
    "    week_3 = data_balance.loc[(data_balance.uu_id == uu_id_list[i]) & (data_balance.week_number == 3), ['total_claims']]\n",
    "    week_5 = data_balance.loc[(data_balance.uu_id == uu_id_list[i]) & (data_balance.week_number == 5), ['total_claims']]\n",
    "\n",
    "    data_balance.loc[(data_balance.uu_id == uu_id_list[i]) & (data_balance.week_number == 4), ['total_claims']]= int((week_3.values[0][0] + week_5.values[0][0])/2)\n",
    "    \n",
    "    week_22 = data_balance.loc[(data_balance.uu_id == uu_id_list[i]) & (data_balance.week_number == 22), ['total_claims']]\n",
    "    week_24 = data_balance.loc[(data_balance.uu_id == uu_id_list[i]) & (data_balance.week_number == 24), ['total_claims']]\n",
    "    \n",
    "    data_balance.loc[(data_balance.uu_id == uu_id_list[i]) & (data_balance.week_number == 23), ['total_claims']] = int((week_22.values[0][0] + week_24.values[0][0])/2)"
   ]
  },
  {
   "cell_type": "code",
   "execution_count": null,
   "id": "6be80727",
   "metadata": {},
   "outputs": [],
   "source": [
    "# To balance the dataset as panel data\n",
    "data_balance = data.set_index('week_number')\n",
    "data_balance = data_balance.sort_index(ascending=False)\n",
    "data_balance = data_balance.set_index('uu_id',append=True)\n",
    "data_balance = data_balance[~data_balance.index.duplicated(keep='first')]"
   ]
  },
  {
   "cell_type": "code",
   "execution_count": null,
   "id": "868d626e",
   "metadata": {},
   "outputs": [],
   "source": [
    "data_balance = data_balance.reset_index(level=['week_number'])\n",
    "data_balance = (data_balance.set_index('week_number',append=True).reindex(pd.MultiIndex.from_product([data_balance.index.unique(),\n",
    "                                                      range(data_balance.week_number.min(),data_balance.week_number.max()+1)],\n",
    "                                                     names=['uu_id','week_number'])).reset_index(level=1))"
   ]
  },
  {
   "cell_type": "code",
   "execution_count": null,
   "id": "0f1db16c",
   "metadata": {},
   "outputs": [],
   "source": [
    "data_balance = data_balance.set_index('week_number',append=True)"
   ]
  },
  {
   "cell_type": "code",
   "execution_count": null,
   "id": "699ec5b0",
   "metadata": {},
   "outputs": [],
   "source": [
    "data_balance['total_claims'] = data_balance['total_claims'].fillna(0)\n",
    "data_balance['average_wage'] = data_balance['average_wage'].interpolate(method = \"linear\")"
   ]
  },
  {
   "cell_type": "code",
   "execution_count": null,
   "id": "39896214",
   "metadata": {},
   "outputs": [],
   "source": [
    "data_balance = data_balance.reset_index(level=['uu_id', \"week_number\"])"
   ]
  },
  {
   "cell_type": "code",
   "execution_count": null,
   "id": "1d2db99a",
   "metadata": {},
   "outputs": [],
   "source": [
    "uu_id_list = pd.unique(data_balance[\"uu_id\"])\n",
    "# In checking, I find the total_claim for week number 4 and 23 are missing over all tracts. Use the average value before and after to replace\n",
    "for i in range(len(uu_id_list)):\n",
    "    #print(i)\n",
    "    week_3 = data_balance.loc[(data_balance.uu_id == uu_id_list[i]) & (data_balance.week_number == 3), ['total_claims']]\n",
    "    week_5 = data_balance.loc[(data_balance.uu_id == uu_id_list[i]) & (data_balance.week_number == 5), ['total_claims']]\n",
    "\n",
    "    data_balance.loc[(data_balance.uu_id == uu_id_list[i]) & (data_balance.week_number == 4), ['total_claims']]= int((week_3.values[0][0] + week_5.values[0][0])/2)\n",
    "    \n",
    "    week_22 = data_balance.loc[(data_balance.uu_id == uu_id_list[i]) & (data_balance.week_number == 22), ['total_claims']]\n",
    "    week_24 = data_balance.loc[(data_balance.uu_id == uu_id_list[i]) & (data_balance.week_number == 24), ['total_claims']]\n",
    "    \n",
    "    data_balance.loc[(data_balance.uu_id == uu_id_list[i]) & (data_balance.week_number == 23), ['total_claims']] = int((week_22.values[0][0] + week_24.values[0][0])/2)"
   ]
  },
  {
   "cell_type": "code",
   "execution_count": null,
   "id": "01884822",
   "metadata": {},
   "outputs": [],
   "source": [
    "data_balance.head()"
   ]
  },
  {
   "cell_type": "code",
   "execution_count": null,
   "id": "b6a7595e",
   "metadata": {},
   "outputs": [],
   "source": [
    "data_balance = dataIdentifyDWM(data_balance)"
   ]
  },
  {
   "cell_type": "code",
   "execution_count": null,
   "id": "e6698e5e",
   "metadata": {},
   "outputs": [],
   "source": [
    "dataBalanceCheck(data_balance)"
   ]
  },
  {
   "cell_type": "code",
   "execution_count": null,
   "id": "1a639722",
   "metadata": {},
   "outputs": [],
   "source": [
    "# Fill missing values of country_fips and tract\n",
    "data_balance.sort_values(by='uu_id',inplace=True)\n",
    "data_balance = data_balance.fillna(method='ffill')\n",
    "data_balance.sort_index()"
   ]
  },
  {
   "cell_type": "code",
   "execution_count": null,
   "id": "7cc7bc7c",
   "metadata": {},
   "outputs": [],
   "source": [
    "# Data clean up: convert NA to 0 for gender, race, education and top employer and recalculate unknown category\n",
    "# Based on the check of Nan in average_wage above, I also convert Nan to zero as well, but try models with and without \"average_wage\" variable\n",
    "data = dataFillNa(data, 0)"
   ]
  },
  {
   "cell_type": "code",
   "execution_count": null,
   "id": "86752c70",
   "metadata": {},
   "outputs": [],
   "source": [
    "# Split data to training and validaton sets\n",
    "# Max trainweek is 37, use a 80 / 20 rule\n",
    "train_week = int(max(pd.unique(data[\"week_number\"]))*0.8)"
   ]
  },
  {
   "cell_type": "code",
   "execution_count": null,
   "id": "31467f3b",
   "metadata": {},
   "outputs": [],
   "source": [
    "data_train = data[data[\"week_number\"] < train_week]\n",
    "data_valid = data[data[\"week_number\"] >= train_week]"
   ]
  },
  {
   "cell_type": "code",
   "execution_count": null,
   "id": "6011e7e8",
   "metadata": {},
   "outputs": [],
   "source": [
    "data_train_x = data_train.drop(\"total_claims\",1)\n",
    "data_train_y = data_train[\"total_claims\"]"
   ]
  },
  {
   "cell_type": "code",
   "execution_count": null,
   "id": "60b4403a",
   "metadata": {},
   "outputs": [],
   "source": [
    "data_valid_x = data_valid.drop(\"total_claims\",1)\n",
    "data_valid_y = data_valid[\"total_claims\"]"
   ]
  },
  {
   "cell_type": "markdown",
   "id": "c87d06d9",
   "metadata": {},
   "source": [
    "Also prepare it for balanced dataset"
   ]
  },
  {
   "cell_type": "code",
   "execution_count": null,
   "id": "633e6f1b",
   "metadata": {},
   "outputs": [],
   "source": [
    "data_balance_train = data_balance[data_balance[\"week_number\"] < train_week]\n",
    "data_balance_valid = data_balance[data_balance[\"week_number\"] >= train_week]"
   ]
  },
  {
   "cell_type": "code",
   "execution_count": null,
   "id": "e48524ae",
   "metadata": {},
   "outputs": [],
   "source": [
    "data_balance_train_x = data_balance_train.drop(\"total_claims\",1)\n",
    "data_balance_train_y = data_balance_train[\"total_claims\"]"
   ]
  },
  {
   "cell_type": "code",
   "execution_count": null,
   "id": "18d73574",
   "metadata": {},
   "outputs": [],
   "source": [
    "data_balance_valid_x = data_balance_valid.drop(\"total_claims\",1)\n",
    "data_balance_valid_y = data_balance_valid[\"total_claims\"]"
   ]
  },
  {
   "cell_type": "code",
   "execution_count": null,
   "id": "3fc8e7a7",
   "metadata": {},
   "outputs": [],
   "source": [
    "data_balance_valid_y.shape"
   ]
  },
  {
   "cell_type": "code",
   "execution_count": null,
   "id": "d4fac1d2",
   "metadata": {},
   "outputs": [],
   "source": [
    "# Model 1 : Poisson regression with unbalanced data\n",
    "data_train_x_m1 = data_train_x[[\"week_number\",\"month\", \"weekofmonth\",  \"average_wage\"]]\n",
    "data_train_x_m1[\"month\"] = data_train_x_m1[\"month\"].astype(str)\n",
    "data_train_x_m1[\"weekofmonth\"] = data_train_x_m1[\"weekofmonth\"].astype(str)\n",
    "data_train_x_m1[\"week_number2\"] = data_train_x_m1[\"week_number\"]**2\n",
    "data_train_x_m1 = pd.get_dummies(data_train_x_m1)"
   ]
  },
  {
   "cell_type": "code",
   "execution_count": null,
   "id": "e3e21311",
   "metadata": {},
   "outputs": [],
   "source": [
    "data_valid_x_m1 = data_valid_x[[\"week_number\",\"month\", \"weekofmonth\",  \"average_wage\"]]\n",
    "data_valid_x_m1[\"month\"] = data_valid_x_m1[\"month\"].astype(str)\n",
    "data_valid_x_m1[\"weekofmonth\"] = data_valid_x_m1[\"weekofmonth\"].astype(str)\n",
    "data_valid_x_m1[\"week_number2\"] = data_valid_x_m1[\"week_number\"]**2\n",
    "data_valid_x_m1 = pd.get_dummies(data_valid_x_m1)"
   ]
  },
  {
   "cell_type": "code",
   "execution_count": null,
   "id": "2baa2452",
   "metadata": {},
   "outputs": [],
   "source": [
    "data_train_x_m1[\"month_8\"] = 0\n",
    "data_train_x_m1[\"month_9\"] = 0"
   ]
  },
  {
   "cell_type": "code",
   "execution_count": null,
   "id": "ab0f54a2",
   "metadata": {},
   "outputs": [],
   "source": [
    "for i in range(8):\n",
    "    data_valid_x_m1[\"month_\"+str(1+i)] = 0"
   ]
  },
  {
   "cell_type": "code",
   "execution_count": null,
   "id": "cef9823b",
   "metadata": {},
   "outputs": [],
   "source": [
    "for i in range(5):\n",
    "    if i == 1:\n",
    "        pass\n",
    "    data_valid_x_m1[\"weekofmonth_\"+str(1+i)] = 0"
   ]
  },
  {
   "cell_type": "code",
   "execution_count": null,
   "id": "2dca6d25",
   "metadata": {},
   "outputs": [],
   "source": [
    "poission_model = sm.GLM(data_train_y.astype(int), data_train_x_m1.astype(float), family=sm.families.Poisson())\n",
    "result = poission_model.fit()\n",
    "result.summary()"
   ]
  },
  {
   "cell_type": "code",
   "execution_count": null,
   "id": "06b920f6",
   "metadata": {},
   "outputs": [],
   "source": [
    "data_estimate_m1 = result.predict(data_valid_x_m1.astype(float))\n",
    "print(\"MAPE: \", MAPE(data_estimate_m1, data_valid_y))\n",
    "print(\"MSPE: \", MSPE(data_estimate_m1, data_valid_y))"
   ]
  },
  {
   "cell_type": "code",
   "execution_count": null,
   "id": "b7cc9806",
   "metadata": {},
   "outputs": [],
   "source": [
    "data_estimate_m1 = result.predict(data_valid_x_m1.astype(float))\n",
    "print(\"MAPE: \", MAPE(data_estimate_m1, data_valid_y))\n",
    "print(\"MSPE: \", MSPE(data_estimate_m1, data_valid_y))"
   ]
  },
  {
   "cell_type": "code",
   "execution_count": null,
   "id": "205fb17e",
   "metadata": {},
   "outputs": [],
   "source": [
    "# Model 2: Poisson with balanced data\n",
    "data_balance_train_x_m1 = data_balance_train_x[[\"week_number\",\"month\", \"weekofmonth\",  \"average_wage\"]]\n",
    "data_balance_train_x_m1[\"month\"] = data_balance_train_x_m1[\"month\"].astype(str)\n",
    "data_balance_train_x_m1[\"weekofmonth\"] = data_balance_train_x_m1[\"weekofmonth\"].astype(str)\n",
    "data_balance_train_x_m1[\"week_number2\"] = data_balance_train_x_m1[\"week_number\"]**2\n",
    "data_balance_train_x_m1 = pd.get_dummies(data_balance_train_x_m1)"
   ]
  },
  {
   "cell_type": "code",
   "execution_count": null,
   "id": "2086451d",
   "metadata": {},
   "outputs": [],
   "source": [
    "data_balance_valid_x_m1 = data_balance_valid_x[[\"week_number\",\"month\", \"weekofmonth\",  \"average_wage\"]]\n",
    "data_balance_valid_x_m1[\"month\"] = data_balance_valid_x_m1[\"month\"].astype(str)\n",
    "data_balance_valid_x_m1[\"weekofmonth\"] = data_balance_valid_x_m1[\"weekofmonth\"].astype(str)\n",
    "data_balance_valid_x_m1[\"week_number2\"] = data_balance_valid_x_m1[\"week_number\"]**2\n",
    "data_balance_valid_x_m1 = pd.get_dummies(data_balance_valid_x_m1)"
   ]
  },
  {
   "cell_type": "code",
   "execution_count": null,
   "id": "c827bc7b",
   "metadata": {},
   "outputs": [],
   "source": [
    "data_balance_train_x_m1[\"month_8\"] = 0\n",
    "data_balance_train_x_m1[\"month_9\"] = 0"
   ]
  },
  {
   "cell_type": "code",
   "execution_count": null,
   "id": "aacdf29b",
   "metadata": {},
   "outputs": [],
   "source": [
    "for i in range(8):\n",
    "    data_balance_valid_x_m1[\"month_\"+str(1+i)] = 0"
   ]
  },
  {
   "cell_type": "code",
   "execution_count": null,
   "id": "667f2a9c",
   "metadata": {},
   "outputs": [],
   "source": [
    "for i in range(5):\n",
    "    if i == 1:\n",
    "        pass\n",
    "    data_balance_valid_x_m1[\"weekofmonth_\"+str(1+i)] = 0"
   ]
  },
  {
   "cell_type": "code",
   "execution_count": null,
   "id": "5db8668a",
   "metadata": {},
   "outputs": [],
   "source": [
    "poission_model_m2 = sm.GLM(data_balance_train_y.astype(int), data_balance_train_x_m1.astype(float), family=sm.families.Poisson())\n",
    "result_m2 = poission_model_m2.fit()\n",
    "result_m2.summary()"
   ]
  },
  {
   "cell_type": "code",
   "execution_count": null,
   "id": "2afd5d3c",
   "metadata": {},
   "outputs": [],
   "source": [
    "data_balance_estimate_m2 = result_m2.predict(data_balance_valid_x_m1.astype(float))\n",
    "print(\"MAPE: \", MAPE(data_balance_estimate_m2, data_balance_valid_y))\n",
    "print(\"MSPE: \", MSPE(data_balance_estimate_m2, data_balance_valid_y))"
   ]
  },
  {
   "cell_type": "code",
   "execution_count": null,
   "id": "d87a6b8d",
   "metadata": {},
   "outputs": [],
   "source": [
    "# Model 3 time series\n",
    "# First, visualize average total_claim\n",
    "data_balance_ave = data_balance[[\"week_number\", \"total_claims\", \"uu_id\"]]\n",
    "data_balance_ave = data_balance_ave.groupby(['week_number']).mean()\n",
    "data_balance_ave = data_balance_ave.reset_index()\n",
    "data_balance_ave['MA4'] = data['total_claims'].rolling(4).mean()\n",
    "fig = px.line(data_balance_ave, x=\"week_number\", y=[\"total_claims\", \"MA4\"])\n",
    "fig.show()"
   ]
  },
  {
   "cell_type": "code",
   "execution_count": null,
   "id": "03214285",
   "metadata": {},
   "outputs": [],
   "source": [
    "# Model 4 Hierarchical ARIMA model\n",
    "# data_balance.groupby(\"countyfips\")[\"uu_id\"].apply(set).to_frame()\n",
    "data_balance[\"county_tract\"] = data_balance.apply(lambda x: f\"{x['countyfips']}_{x['uu_id']}\", axis=1)\n",
    "data_balance_hts = data_balance.copy()\n",
    "data_balance_hts = data_balance_hts[[\"date\", \"uu_id\", \"countyfips\", \"total_claims\", \"county_tract\"]]\n",
    "data_balance_hts[\"countyfips\"] = data_balance_hts[\"countyfips\"].astype(str)\n",
    "data_balance_hts.sort_values(by='date',inplace=True)"
   ]
  },
  {
   "cell_type": "code",
   "execution_count": null,
   "id": "fc672d35",
   "metadata": {},
   "outputs": [],
   "source": [
    "data_balance_hts"
   ]
  },
  {
   "cell_type": "code",
   "execution_count": null,
   "id": "8e0114b7",
   "metadata": {},
   "outputs": [],
   "source": [
    "df_bottom_level = data_balance_hts.pivot(index=\"date\", columns=\"county_tract\", values=\"total_claims\")\n",
    "df_middle_level = data_balance_hts.groupby([\"date\", \"countyfips\"]) \\\n",
    "                    .sum() \\\n",
    "                    .reset_index(drop=False) \\\n",
    "                    .pivot(index=\"date\", columns=\"countyfips\", values=\"total_claims\")\n",
    "df_total = data_balance_hts.groupby(\"date\")[\"total_claims\"] \\\n",
    "             .sum() \\\n",
    "             .to_frame() \\\n",
    "             .rename(columns={\"total_claims\": \"total\"})\n",
    "hierarchy_df = df_bottom_level.join(df_middle_level) \\\n",
    "                              .join(df_total)\n",
    "hierarchy_df.index = pd.to_datetime(hierarchy_df.index)\n",
    "hierarchy_df = hierarchy_df.resample(\"7D\") \\\n",
    "                           .sum()"
   ]
  },
  {
   "cell_type": "code",
   "execution_count": null,
   "id": "35a0d7a2",
   "metadata": {},
   "outputs": [],
   "source": [
    "print(f\"Number of time series at the bottom level: {df_bottom_level.shape[1]}\")\n",
    "print(f\"Number of time series at the middle level: {df_middle_level.shape[1]}\")\n",
    "hierarchy_df = hierarchy_df.fillna(0)"
   ]
  },
  {
   "cell_type": "code",
   "execution_count": null,
   "id": "79389d60",
   "metadata": {},
   "outputs": [],
   "source": [
    "county = data_balance_hts[\"countyfips\"].unique()\n",
    "tract = data_balance_hts[\"county_tract\"].unique()"
   ]
  },
  {
   "cell_type": "code",
   "execution_count": null,
   "id": "d796bcb8",
   "metadata": {},
   "outputs": [],
   "source": [
    "total = {'total': list(county)}\n",
    "county = {k: [v for v in tract if v.startswith(k)] for k in county}\n",
    "hierarchy = {**total, **county}"
   ]
  },
  {
   "cell_type": "code",
   "execution_count": null,
   "id": "40a59525",
   "metadata": {},
   "outputs": [],
   "source": [
    "ax = hierarchy_df[hierarchy['total']].plot(title=\"total unemployment claims - county level\")\n",
    "ax.legend(bbox_to_anchor=(1.0, 1.0));"
   ]
  },
  {
   "cell_type": "code",
   "execution_count": null,
   "id": "fcefd456",
   "metadata": {},
   "outputs": [],
   "source": [
    "model_ols_arima = hts.HTSRegressor(model='auto_arima', revision_method='OLS', n_jobs=0)\n",
    "model_ols_arima = model_ols_arima.fit(hierarchy_df, hierarchy)\n",
    "pred_ols_arima = model_ols_arima.predict(steps_ahead=10)"
   ]
  },
  {
   "cell_type": "code",
   "execution_count": null,
   "id": "cbfa3a3c",
   "metadata": {},
   "outputs": [],
   "source": [
    "pred_ols_arima "
   ]
  },
  {
   "cell_type": "code",
   "execution_count": null,
   "id": "25ebdafc",
   "metadata": {},
   "outputs": [],
   "source": [
    "# Based on MAPE and MSPE, now the ARIMA model has best prediction, so the following prediction is based on ARIMA model\n",
    "data_pred = data_pred_query.copy()"
   ]
  },
  {
   "cell_type": "code",
   "execution_count": null,
   "id": "9fa9ef41",
   "metadata": {},
   "outputs": [],
   "source": [
    "data_pred = dataIdentifyDWM(data_pred)"
   ]
  },
  {
   "cell_type": "code",
   "execution_count": null,
   "id": "58e4d896",
   "metadata": {},
   "outputs": [],
   "source": [
    "# Prediction with Hierarchical ARIMA model, for week 43\n",
    "pred_col = pred_ols_arima.columns\n",
    "pred = pred_ols_arima.copy()\n",
    "pred = pred.reset_index()\n",
    "pred_long = pd.melt(pred, id_vars='index', value_vars=pred_col)"
   ]
  },
  {
   "cell_type": "code",
   "execution_count": null,
   "id": "049a045f",
   "metadata": {},
   "outputs": [],
   "source": [
    "pred_long = pred_long[pred_long['variable'].str.contains('_')]"
   ]
  },
  {
   "cell_type": "code",
   "execution_count": null,
   "id": "a5983bff",
   "metadata": {},
   "outputs": [],
   "source": [
    "new = pred_long[\"variable\"].str.split(\"_\", n = 1, expand = True)"
   ]
  },
  {
   "cell_type": "code",
   "execution_count": null,
   "id": "c9b8fcc9",
   "metadata": {},
   "outputs": [],
   "source": [
    "pred_long[\"uu_id\"] = new[1]\n",
    "pred_long = pred_long.rename(columns={\"index\": \"date\"})"
   ]
  },
  {
   "cell_type": "code",
   "execution_count": null,
   "id": "fff4ba84",
   "metadata": {},
   "outputs": [],
   "source": [
    "pred_long = pred_long[pred_long[\"date\"] == \"2022-10-22\"]"
   ]
  },
  {
   "cell_type": "code",
   "execution_count": null,
   "id": "3f8655df",
   "metadata": {},
   "outputs": [],
   "source": [
    "pred_long"
   ]
  },
  {
   "cell_type": "code",
   "execution_count": null,
   "id": "d65ec38a",
   "metadata": {},
   "outputs": [],
   "source": [
    "data_pred"
   ]
  },
  {
   "cell_type": "code",
   "execution_count": null,
   "id": "25d30a41",
   "metadata": {},
   "outputs": [],
   "source": [
    "# Prediction with Hierarchical ARIMA model, for week 44\n",
    "pred_col = pred_ols_arima.columns\n",
    "pred = pred_ols_arima.copy()\n",
    "pred = pred.reset_index()\n",
    "pred_long = pd.melt(pred, id_vars='index', value_vars=pred_col)"
   ]
  },
  {
   "cell_type": "code",
   "execution_count": null,
   "id": "3cfefb8e",
   "metadata": {},
   "outputs": [],
   "source": [
    "pred_long = pred_long[pred_long['variable'].str.contains('_')]"
   ]
  },
  {
   "cell_type": "code",
   "execution_count": null,
   "id": "28197c3f",
   "metadata": {},
   "outputs": [],
   "source": [
    "new = pred_long[\"variable\"].str.split(\"_\", n = 1, expand = True)"
   ]
  },
  {
   "cell_type": "code",
   "execution_count": null,
   "id": "c4a2315e",
   "metadata": {},
   "outputs": [],
   "source": [
    "pred_long[\"uu_id\"] = new[1]\n",
    "pred_long = pred_long.rename(columns={\"index\": \"date\"})"
   ]
  },
  {
   "cell_type": "code",
   "execution_count": null,
   "id": "440b1d30",
   "metadata": {},
   "outputs": [],
   "source": [
    "pred_long = pred_long[pred_long[\"date\"] == \"2022-10-29\"]"
   ]
  },
  {
   "cell_type": "code",
   "execution_count": null,
   "id": "fde9d6e2",
   "metadata": {},
   "outputs": [],
   "source": [
    "pred_long"
   ]
  },
  {
   "cell_type": "code",
   "execution_count": null,
   "id": "fb011120",
   "metadata": {},
   "outputs": [],
   "source": [
    "pred_long = pred_long.sort_values('value', ascending=False).drop_duplicates('uu_id').sort_index()"
   ]
  },
  {
   "cell_type": "code",
   "execution_count": null,
   "id": "a26a6904",
   "metadata": {},
   "outputs": [],
   "source": [
    "data_pred_join = pd.merge(data_pred, pred_long,  how='left', left_on=['date','uu_id'], right_on=['date','uu_id'])"
   ]
  },
  {
   "cell_type": "code",
   "execution_count": null,
   "id": "bd2fb2c4",
   "metadata": {},
   "outputs": [],
   "source": [
    "data_pred_join = data_pred_join.rename(columns={\"value\": \"total_claims\"})"
   ]
  },
  {
   "cell_type": "code",
   "execution_count": null,
   "id": "5981c344",
   "metadata": {},
   "outputs": [],
   "source": [
    "data_pred_join.loc[data_pred_join['total_claims']<0,'total_claims']=0"
   ]
  },
  {
   "cell_type": "code",
   "execution_count": null,
   "id": "252f9707",
   "metadata": {},
   "outputs": [],
   "source": [
    "data_pred = data_pred_join[[\"uu_id\", \"total_claims\", \"week_number\"]]"
   ]
  },
  {
   "cell_type": "code",
   "execution_count": null,
   "id": "0c6829a7",
   "metadata": {},
   "outputs": [],
   "source": [
    "## This can also be a good place for you to cleanup any input/output and export your results to a file.\n",
    "data_pred.to_csv(\"submission_prediction_output.csv\", index=False)"
   ]
  },
  {
   "cell_type": "code",
   "execution_count": null,
   "id": "516cab7c",
   "metadata": {},
   "outputs": [],
   "source": [
    "# model train and validation\n",
    "MAPE_list = []\n",
    "MSPE_list = []"
   ]
  },
  {
   "cell_type": "code",
   "execution_count": null,
   "id": "d6d89afa",
   "metadata": {},
   "outputs": [],
   "source": [
    "uu_id_list = pd.unique(data_balance[\"uu_id\"])"
   ]
  },
  {
   "cell_type": "code",
   "execution_count": null,
   "id": "f43396c1",
   "metadata": {},
   "outputs": [],
   "source": [
    "for i in range(len(uu_id_list)):\n",
    "    print(i)\n",
    "    data_balance_tract = data_balance[data_balance[\"uu_id\"] == uu_id_list[i]]\n",
    "    data_balance_tract_model = data_balance_tract[[\"week_number\",\"total_claims\"]]\n",
    "    data_balance_tract_model = data_balance_tract_model.set_index(\"week_number\")\n",
    "    forecast = ARIMA_predict(data_balance_tract_model, cutoff_rate = 0.8, n_period = 15)\n",
    "    \n",
    "    df_forecast = pd.DataFrame(forecast)\n",
    "    df_forecast.index.name = \"week_number\"\n",
    "    df_forecast.columns = [\"total_claim_pred\"]\n",
    "    \n",
    "    data_balance_ave_valid_check = data_balance_tract_model.merge(df_forecast, on = \"week_number\")\n",
    "    MAPE_series = MAPE(data_balance_ave_valid_check[\"total_claims\"], data_balance_ave_valid_check[\"total_claim_pred\"])\n",
    "    MSPE_series = MSPE(data_balance_ave_valid_check[\"total_claims\"], data_balance_ave_valid_check[\"total_claim_pred\"])\n",
    "    \n",
    "    MAPE_list.append(MAPE_series)\n",
    "    MSPE_list.append(MSPE_series)"
   ]
  },
  {
   "cell_type": "code",
   "execution_count": null,
   "id": "9535898e",
   "metadata": {},
   "outputs": [],
   "source": [
    "# validation\n",
    "print(\"MAPE: \", sum(MAPE_list)/len(MAPE_list))\n",
    "print(\"MSPE: \", sum(MSPE_list)/len(MSPE_list))"
   ]
  },
  {
   "cell_type": "code",
   "execution_count": null,
   "id": "293f8947",
   "metadata": {},
   "outputs": [],
   "source": [
    "# Based on MAPE and MSPE, now the ARIMA model has best prediction, so the following prediction is based on ARIMA model\n",
    "data_pred = data_pred_query.copy()"
   ]
  },
  {
   "cell_type": "markdown",
   "id": "400a80bd",
   "metadata": {},
   "source": [
    "Prediction with ARIMA model, for week 44"
   ]
  },
  {
   "cell_type": "code",
   "execution_count": null,
   "id": "244a3dd9",
   "metadata": {},
   "outputs": [],
   "source": [
    "data_pred[\"total_claims\"] = 0\n",
    "for i in range(len(data_pred)):\n",
    "    uu_id_pre = data_pred.loc[i][\"uu_id\"]\n",
    "    data_balance_tract = data_balance[data_balance[\"uu_id\"] == uu_id_pre]\n",
    "    data_balance_tract_model = data_balance_tract[[\"week_number\",\"total_claims\"]]\n",
    "    data_balance_tract_model = data_balance_tract_model.set_index(\"week_number\")\n",
    "    forecast = ARIMA_predict(data_balance_tract_model, cutoff_rate = 1, n_period = 15)\n",
    "    \n",
    "    df_forecast = pd.DataFrame(forecast)\n",
    "    df_forecast.index.name = \"week_number\"\n",
    "    df_forecast.columns = [\"total_claim_pred\"]\n",
    "    \n",
    "    total_claim_pre = df_forecast.loc[data_pred.iloc[i][\"week_number\"]][\"total_claim_pred\"]\n",
    "    \n",
    "    data_pred.loc[i,\"total_claims\"] = total_claim_pre\n",
    "    #print(i)\n",
    "    #print(data_pred.iloc[i][\"week_number\"])\n",
    "    #print(total_claim_pre)"
   ]
  },
  {
   "cell_type": "code",
   "execution_count": null,
   "id": "f745c90c",
   "metadata": {},
   "outputs": [],
   "source": [
    "data_pred"
   ]
  },
  {
   "cell_type": "code",
   "execution_count": null,
   "id": "fce6ab1f",
   "metadata": {},
   "outputs": [],
   "source": [
    "data_pred = data_pred[[\"uu_id\", \"total_claims\", \"week_number\"]]"
   ]
  },
  {
   "cell_type": "code",
   "execution_count": null,
   "id": "0d34faf1",
   "metadata": {},
   "outputs": [],
   "source": [
    "data_pred"
   ]
  },
  {
   "cell_type": "code",
   "execution_count": null,
   "id": "0b49d787",
   "metadata": {
    "lines_to_next_cell": 2
   },
   "outputs": [],
   "source": [
    "## This can also be a good place for you to cleanup any input/output and export your results to a file.\n",
    "data_pred.to_csv(\"submission_prediction_output.csv\", index=False)"
   ]
  }
 ],
 "metadata": {
  "jupytext": {
   "cell_metadata_filter": "-all",
   "main_language": "python",
   "notebook_metadata_filter": "-all"
  }
 },
 "nbformat": 4,
 "nbformat_minor": 5
}
