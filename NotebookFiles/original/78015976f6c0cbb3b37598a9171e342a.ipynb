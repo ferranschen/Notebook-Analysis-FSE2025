{
 "cells": [
  {
   "cell_type": "markdown",
   "id": "68b38619",
   "metadata": {},
   "source": [
    "- IMPORT THE LIBRARIES YOU WILL USE\n",
    "------------------------------------------\n",
    "You only need to import packages one time per notebook session. To keep your\n",
    "notebook clean and organized you can handle all imports at the top of your file.\n",
    "The following are included for example purposed, feel free to modify or delete \n",
    "anything in this section."
   ]
  },
  {
   "cell_type": "code",
   "execution_count": null,
   "id": "2175412b",
   "metadata": {},
   "outputs": [],
   "source": [
    "import os\n",
    "import csv\n",
    "#import pandas as pd\n",
    "import pandas\n",
    "import numpy as np\n",
    "from google.cloud import bigquery\n",
    "from google.oauth2 import service_account\n",
    "from google.cloud.bigquery import magics"
   ]
  },
  {
   "cell_type": "code",
   "execution_count": null,
   "id": "2b683bf7",
   "metadata": {},
   "outputs": [],
   "source": [
    "get_ipython().system('pip install lightgbm')\n",
    "import db_dtypes\n",
    "import lightgbm as lgb\n",
    "#print(\"OK\")"
   ]
  },
  {
   "cell_type": "code",
   "execution_count": null,
   "id": "af5446c5",
   "metadata": {},
   "outputs": [],
   "source": [
    "BIGQUERY_PROJECT = 'ironhacks-data'\n",
    "bigquery_client = bigquery.Client(project=BIGQUERY_PROJECT)"
   ]
  },
  {
   "cell_type": "code",
   "execution_count": null,
   "id": "669d6588",
   "metadata": {},
   "outputs": [],
   "source": [
    "!pip install db-dtypes"
   ]
  },
  {
   "cell_type": "code",
   "execution_count": null,
   "id": "b369d36f",
   "metadata": {},
   "outputs": [],
   "source": [
    "query = \"\"\"\n",
    "SELECT *\n",
    "FROM `ironhacks-data.ironhacks_competition.prediction_list`\n",
    "\"\"\""
   ]
  },
  {
   "cell_type": "code",
   "execution_count": null,
   "id": "0a36f2e5",
   "metadata": {},
   "outputs": [],
   "source": [
    "query_job = bigquery_client.query(query)\n",
    "df_unemployment = query_job.to_dataframe()\n",
    "df_unemployment.head()"
   ]
  },
  {
   "cell_type": "code",
   "execution_count": null,
   "id": "47854b15",
   "metadata": {},
   "outputs": [],
   "source": [
    "!pip install db-dtypes\n",
    "query_unemployment = \"\"\"\n",
    "SELECT *\n",
    "FROM `ironhacks-data.ironhacks_competition.unemployment_data` \n",
    "\"\"\"\n",
    "query = bigquery_client.query(query_unemployment)\n",
    "df_unemployment = query.to_dataframe()\n",
    "df_unemployment.head()"
   ]
  },
  {
   "cell_type": "code",
   "execution_count": null,
   "id": "fd3f9d5a",
   "metadata": {},
   "outputs": [],
   "source": [
    "query_wage = \"\"\"\n",
    "SELECT *\n",
    "FROM `ironhacks-data.ironhacks_competition.wage_data`\n",
    "\"\"\"\n",
    "query = bigquery_client.query(query_wage)\n",
    "df_wage = query.to_dataframe()\n",
    "df_wage.head()"
   ]
  },
  {
   "cell_type": "code",
   "execution_count": null,
   "id": "42dba033",
   "metadata": {},
   "outputs": [],
   "source": [
    "query_pred_list = \"\"\"\n",
    "SELECT *\n",
    "FROM `ironhacks-data.ironhacks_competition.prediction_list`\n",
    "\"\"\"\n",
    "query = bigquery_client.query(query_pred_list)\n",
    "df_pred_list = query.to_dataframe()\n",
    "df_pred_list.head()"
   ]
  },
  {
   "cell_type": "code",
   "execution_count": null,
   "id": "35790551",
   "metadata": {},
   "outputs": [],
   "source": [
    "query_schema = \"\"\"\n",
    "SELECT *\n",
    "FROM `ironhacks-data.ironhacks_competition.INFORMATION_SCHEMA.TABLES`\n",
    "\"\"\"\n",
    "query = bigquery_client.query(query_schema)\n",
    "df_schema = query.to_dataframe()\n",
    "df_schema.head()"
   ]
  },
  {
   "cell_type": "code",
   "execution_count": null,
   "id": "b227cfb5",
   "metadata": {},
   "outputs": [],
   "source": [
    "df_unemployment.shape\n",
    "df_wage.shape\n",
    "df_schema.shape\n",
    "df_pred_list.shape"
   ]
  },
  {
   "cell_type": "code",
   "execution_count": null,
   "id": "818e07c1",
   "metadata": {},
   "outputs": [],
   "source": [
    "print(df_unemployment.shape)\n",
    "print(df_wage.shape)\n",
    "print(df_schema.shape)\n",
    "print(df_pred_list.shape)"
   ]
  },
  {
   "cell_type": "code",
   "execution_count": null,
   "id": "eb3f010f",
   "metadata": {},
   "outputs": [],
   "source": [
    "print(df_unemployment.shape)\n",
    "print(df_wage.shape)\n",
    "print(df_pred_list.shape)\n",
    "print(df_schema.shape)"
   ]
  },
  {
   "cell_type": "code",
   "execution_count": null,
   "id": "35ed89e5",
   "metadata": {},
   "outputs": [],
   "source": [
    "print(\"OK\")"
   ]
  },
  {
   "cell_type": "code",
   "execution_count": null,
   "id": "d1485a0e",
   "metadata": {},
   "outputs": [],
   "source": [
    "print(df_pred_list[\"uu_id\"].unique())"
   ]
  },
  {
   "cell_type": "code",
   "execution_count": null,
   "id": "07ce7bc6",
   "metadata": {},
   "outputs": [],
   "source": [
    "print(df_pred_list[\"week_number\"].unique())"
   ]
  },
  {
   "cell_type": "code",
   "execution_count": null,
   "id": "4a23cf4e",
   "metadata": {},
   "outputs": [],
   "source": [
    "print(df_pred_list[\"week_number\"].unique().size) # 39"
   ]
  },
  {
   "cell_type": "code",
   "execution_count": null,
   "id": "a96387f4",
   "metadata": {},
   "outputs": [],
   "source": [
    "print(df_unemployment[\"uu_id\"].unique().size) # 39"
   ]
  },
  {
   "cell_type": "code",
   "execution_count": null,
   "id": "76bde838",
   "metadata": {},
   "outputs": [],
   "source": [
    "print(df_unemployment[\"week_number\"].unique().size) # 39"
   ]
  },
  {
   "cell_type": "code",
   "execution_count": null,
   "id": "f714827c",
   "metadata": {},
   "outputs": [],
   "source": [
    "print(df_unemployment[\"week_number\"].unique())  "
   ]
  },
  {
   "cell_type": "code",
   "execution_count": null,
   "id": "dac4d3d2",
   "metadata": {},
   "outputs": [],
   "source": [
    "print(df_unemployment[\"week_number\"].unique().sort())  "
   ]
  },
  {
   "cell_type": "code",
   "execution_count": null,
   "id": "40a814ea",
   "metadata": {},
   "outputs": [],
   "source": [
    "print(sorted(df_unemployment[\"week_number\"].unique())) # 35"
   ]
  },
  {
   "cell_type": "code",
   "execution_count": null,
   "id": "25e4d054",
   "metadata": {},
   "outputs": [],
   "source": [
    "df_three_col = df_unemployment[[\"uu_id\", \"week_number\", \"total_claims\"]]"
   ]
  },
  {
   "cell_type": "code",
   "execution_count": null,
   "id": "c423b5e9",
   "metadata": {},
   "outputs": [],
   "source": [
    "df_three_col.head()"
   ]
  },
  {
   "cell_type": "code",
   "execution_count": null,
   "id": "ee565f71",
   "metadata": {},
   "outputs": [],
   "source": [
    "df_three_col.shape"
   ]
  },
  {
   "cell_type": "code",
   "execution_count": null,
   "id": "b492a3ff",
   "metadata": {},
   "outputs": [],
   "source": [
    "test_data = df_three_col[df_three_col[\"uu_id\"].isin(['26c71b31d464bc7bedc8aed7e5c6e641', 'd0808351616eaf2e1d5d36d52e6cb669', '241f741bee0eb0ce595304d106811776'])  ]\n",
    "test_data.shape"
   ]
  },
  {
   "cell_type": "markdown",
   "id": "6b55946e",
   "metadata": {},
   "source": [
    "- IMPORT THE LIBRARIES YOU WILL USE\n",
    "------------------------------------------\n",
    "You only need to import packages one time per notebook session. To keep your\n",
    "notebook clean and organized you can handle all imports at the top of your file.\n",
    "The following are included for example purposed, feel free to modify or delete \n",
    "anything in this section."
   ]
  },
  {
   "cell_type": "code",
   "execution_count": null,
   "id": "aedc342c",
   "metadata": {},
   "outputs": [],
   "source": [
    "import os\n",
    "import csv\n",
    "#import pandas as pd\n",
    "import pandas\n",
    "import numpy as np\n",
    "from google.cloud import bigquery\n",
    "from google.oauth2 import service_account\n",
    "from google.cloud.bigquery import magics"
   ]
  },
  {
   "cell_type": "code",
   "execution_count": null,
   "id": "66536f5e",
   "metadata": {},
   "outputs": [],
   "source": [
    "get_ipython().system('pip install lightgbm')\n",
    "import db_dtypes\n",
    "import lightgbm as lgb\n",
    "#print(\"OK\")"
   ]
  },
  {
   "cell_type": "code",
   "execution_count": null,
   "id": "bae58007",
   "metadata": {},
   "outputs": [],
   "source": [
    "import matplotlib\n",
    "import matplotlib.pyplot as plt\n",
    "import seaborn as sns\n",
    "get_ipython().run_line_magic('matplotlib', 'inline')"
   ]
  },
  {
   "cell_type": "code",
   "execution_count": null,
   "id": "1108bb12",
   "metadata": {},
   "outputs": [],
   "source": [
    "seaborn.lmplot(x=\"week_number\", y = \"total_claims\", hue = \"uu_id\", data = test_data)"
   ]
  },
  {
   "cell_type": "code",
   "execution_count": null,
   "id": "2041448b",
   "metadata": {},
   "outputs": [],
   "source": [
    "sns.lmplot(x=\"week_number\", y = \"total_claims\", hue = \"uu_id\", data = test_data)"
   ]
  },
  {
   "cell_type": "code",
   "execution_count": null,
   "id": "de21b951",
   "metadata": {},
   "outputs": [],
   "source": [
    "#sns.lmplot(x=\"week_number\", y = \"total_claims\", hue = \"uu_id\", data = test_data)\n",
    "sns.scatterplot(data = test_data, x = 'week_number', y = 'total_claims', data =  'uu_id')"
   ]
  },
  {
   "cell_type": "code",
   "execution_count": null,
   "id": "a383ca1d",
   "metadata": {},
   "outputs": [],
   "source": [
    "#sns.lmplot(x=\"week_number\", y = \"total_claims\", hue = \"uu_id\", data = test_data)\n",
    "sns.scatterplot(data = test_data, x = 'week_number', y = 'total_claims', hue =  'uu_id')"
   ]
  },
  {
   "cell_type": "code",
   "execution_count": null,
   "id": "cafd9fb5",
   "metadata": {},
   "outputs": [],
   "source": [
    "from sklearn.linear_model import LogisticRegression\n",
    "logisticRegr = LogisticRegression(solver = 'lbfgs')"
   ]
  },
  {
   "cell_type": "code",
   "execution_count": null,
   "id": "1fb81856",
   "metadata": {},
   "outputs": [],
   "source": [
    "logreg.fit(test_data[\"week_number\"], test_data[\"total_claims\"])"
   ]
  },
  {
   "cell_type": "code",
   "execution_count": null,
   "id": "8f8b2648",
   "metadata": {},
   "outputs": [],
   "source": [
    "y_pred = logreg.predict(39)\n",
    "print(y_pred)"
   ]
  },
  {
   "cell_type": "code",
   "execution_count": null,
   "id": "458f1458",
   "metadata": {},
   "outputs": [],
   "source": [
    "from sklearn.linear_model import LogisticRegression\n",
    "logisticRegr = LogisticRegression(solver = 'lbfgs')"
   ]
  },
  {
   "cell_type": "code",
   "execution_count": null,
   "id": "25f23bc5",
   "metadata": {},
   "outputs": [],
   "source": [
    "logisticRegr.fit(test_data[\"week_number\"], test_data[\"total_claims\"])"
   ]
  },
  {
   "cell_type": "code",
   "execution_count": null,
   "id": "387a0cd2",
   "metadata": {},
   "outputs": [],
   "source": [
    "y_pred = logisticRegr.predict(39)\n",
    "print(y_pred)"
   ]
  },
  {
   "cell_type": "code",
   "execution_count": null,
   "id": "c3bde5a5",
   "metadata": {},
   "outputs": [],
   "source": [
    "from sklearn.linear_model import LogisticRegression\n",
    "logisticRegr = LogisticRegression(solver = 'lbfgs')"
   ]
  },
  {
   "cell_type": "code",
   "execution_count": null,
   "id": "07b618e1",
   "metadata": {},
   "outputs": [],
   "source": [
    "logisticRegr.fit(test_data[\"week_number\"], test_data[\"total_claims\"])"
   ]
  },
  {
   "cell_type": "code",
   "execution_count": null,
   "id": "588f6a0d",
   "metadata": {},
   "outputs": [],
   "source": [
    "y_pred = logisticRegr.predict(39)\n",
    "print(y_pred)"
   ]
  },
  {
   "cell_type": "code",
   "execution_count": null,
   "id": "5e0dbd58",
   "metadata": {},
   "outputs": [],
   "source": [
    "test_data.shape[1]"
   ]
  },
  {
   "cell_type": "code",
   "execution_count": null,
   "id": "c167e94d",
   "metadata": {},
   "outputs": [],
   "source": [
    "test_data.shape[0]"
   ]
  },
  {
   "cell_type": "code",
   "execution_count": null,
   "id": "86d2cec4",
   "metadata": {},
   "outputs": [],
   "source": [
    "test_data.shape[0]\n",
    "x_pred = np.reshape([39], (1,1))\n",
    "x_pred"
   ]
  },
  {
   "cell_type": "code",
   "execution_count": null,
   "id": "f7cdedbe",
   "metadata": {},
   "outputs": [],
   "source": [
    "from sklearn.linear_model import LogisticRegression\n",
    "logisticRegr = LogisticRegression(solver = 'lbfgs')"
   ]
  },
  {
   "cell_type": "code",
   "execution_count": null,
   "id": "14e43822",
   "metadata": {},
   "outputs": [],
   "source": [
    "x_train = np.reshape(test_data[\"week_number\"], (test_data.shape[0],1))\n",
    "y_train = np.reshape(test_data[\"total_claims\"], (test_data.shape[0],1))\n",
    "logreg.fit(x_train, y_train)"
   ]
  },
  {
   "cell_type": "code",
   "execution_count": null,
   "id": "3d854656",
   "metadata": {},
   "outputs": [],
   "source": [
    "x_pred = np.reshape([39], (1,1))\n",
    "y_pred = logreg.predict(x_pred)\n",
    "print(y_pred)"
   ]
  },
  {
   "cell_type": "code",
   "execution_count": null,
   "id": "0a808894",
   "metadata": {},
   "outputs": [],
   "source": [
    "from sklearn.linear_model import LogisticRegression\n",
    "logisticRegr = LogisticRegression(solver = 'lbfgs')"
   ]
  },
  {
   "cell_type": "code",
   "execution_count": null,
   "id": "927b43c0",
   "metadata": {},
   "outputs": [],
   "source": [
    "x_train = np.reshape(test_data[\"week_number\"].to_numpy(), (test_data.shape[0],1))\n",
    "y_train = np.reshape(test_data[\"total_claims\"].to_numpy(), (test_data.shape[0],1))\n",
    "logreg.fit(x_train, y_train)"
   ]
  },
  {
   "cell_type": "code",
   "execution_count": null,
   "id": "5d0c8d5b",
   "metadata": {},
   "outputs": [],
   "source": [
    "x_pred = np.reshape([39], (1,1))\n",
    "y_pred = logreg.predict(x_pred)\n",
    "print(y_pred)"
   ]
  },
  {
   "cell_type": "code",
   "execution_count": null,
   "id": "66814a8d",
   "metadata": {},
   "outputs": [],
   "source": [
    "from sklearn.linear_model import LogisticRegression\n",
    "logisticRegr = LogisticRegression(solver = 'lbfgs')"
   ]
  },
  {
   "cell_type": "code",
   "execution_count": null,
   "id": "859e254e",
   "metadata": {},
   "outputs": [],
   "source": [
    "x_train = np.reshape(test_data[\"week_number\"].to_numpy(), (test_data.shape[0],1))\n",
    "y_train = np.reshape(test_data[\"total_claims\"].to_numpy(), (test_data.shape[0],1))\n",
    "logisticRegr.fit(x_train, y_train)"
   ]
  },
  {
   "cell_type": "code",
   "execution_count": null,
   "id": "78fdf9c7",
   "metadata": {},
   "outputs": [],
   "source": [
    "x_pred = np.reshape([39], (1,1))\n",
    "y_pred = logisticRegr.predict(x_pred)\n",
    "print(y_pred)"
   ]
  },
  {
   "cell_type": "code",
   "execution_count": null,
   "id": "14fc2500",
   "metadata": {},
   "outputs": [],
   "source": [
    "from sklearn.linear_model import LogisticRegression\n",
    "logisticRegr = LogisticRegression(solver = 'lbfgs')"
   ]
  },
  {
   "cell_type": "code",
   "execution_count": null,
   "id": "5083eb1b",
   "metadata": {},
   "outputs": [],
   "source": [
    "x_train = np.reshape(test_data[\"week_number\"].to_numpy(), (test_data.shape[0],1))\n",
    "y_train = np.reshape(test_data[\"total_claims\"].to_numpy(), (test_data.shape[0],1))\n",
    "logisticRegr.fit(x_train, y_train)"
   ]
  },
  {
   "cell_type": "code",
   "execution_count": null,
   "id": "0feb3f16",
   "metadata": {},
   "outputs": [],
   "source": [
    "from sklearn.linear_model import LogisticRegression\n",
    "logisticRegr = LogisticRegression(solver = 'lbfgs')"
   ]
  },
  {
   "cell_type": "code",
   "execution_count": null,
   "id": "e8ceec95",
   "metadata": {},
   "outputs": [],
   "source": [
    "x_train = np.reshape(test_data[\"week_number\"].to_numpy(), (test_data.shape[0],1))\n",
    "y_train = np.reshape(test_data[\"total_claims\"].to_numpy(), (test_data.shape[0],1))"
   ]
  },
  {
   "cell_type": "code",
   "execution_count": null,
   "id": "80390082",
   "metadata": {},
   "outputs": [],
   "source": [
    "print(x_train)\n",
    "print(y_train)"
   ]
  },
  {
   "cell_type": "code",
   "execution_count": null,
   "id": "7b4fe381",
   "metadata": {},
   "outputs": [],
   "source": [
    "from sklearn.linear_model import LogisticRegression\n",
    "logisticRegr = LogisticRegression(solver = 'lbfgs')"
   ]
  },
  {
   "cell_type": "code",
   "execution_count": null,
   "id": "71847cc7",
   "metadata": {},
   "outputs": [],
   "source": [
    "x_train = np.reshape(test_data[\"week_number\"].to_numpy(), (test_data.shape[0],1))\n",
    "y_train = np.reshape(test_data[\"total_claims\"].to_numpy(), (test_data.shape[0],1))"
   ]
  },
  {
   "cell_type": "code",
   "execution_count": null,
   "id": "4a9ba598",
   "metadata": {},
   "outputs": [],
   "source": [
    "print(x_train)\n",
    "print(\"OK\")\n",
    "print(y_train)"
   ]
  },
  {
   "cell_type": "code",
   "execution_count": null,
   "id": "13a909fe",
   "metadata": {},
   "outputs": [],
   "source": [
    "x_train = np.array(test_data[\"week_number\"]).reshape(-1, 1)\n",
    "y_train = np.array(test_data[\"total_claims\"]).reshape(-1, 1)\n",
    "logisticRegr.fit(x_train, y_train)"
   ]
  },
  {
   "cell_type": "code",
   "execution_count": null,
   "id": "8072a3eb",
   "metadata": {},
   "outputs": [],
   "source": [
    "test_data[\"total_claims\"]"
   ]
  },
  {
   "cell_type": "code",
   "execution_count": null,
   "id": "03d2e7d8",
   "metadata": {},
   "outputs": [],
   "source": [
    "test_data[\"total_claims\"].values"
   ]
  },
  {
   "cell_type": "code",
   "execution_count": null,
   "id": "bca72366",
   "metadata": {},
   "outputs": [],
   "source": [
    "x_train = np.array(test_data[\"week_number\"].values).reshape(-1, 1)\n",
    "y_train = np.array(test_data[\"total_claims\"].values).reshape(-1, 1)\n",
    "logisticRegr.fit(x_train, y_train)"
   ]
  },
  {
   "cell_type": "code",
   "execution_count": null,
   "id": "4577bd87",
   "metadata": {},
   "outputs": [],
   "source": [
    "x_train = np.array(test_data[\"week_number\"].values).reshape(-1, 1)\n",
    "y_train = np.array(test_data[\"total_claims\"].values)\n",
    "logisticRegr.fit(x_train, y_train)"
   ]
  },
  {
   "cell_type": "code",
   "execution_count": null,
   "id": "f0bdc8e4",
   "metadata": {},
   "outputs": [],
   "source": [
    "x_train = np.array(test_data[\"week_number\"].values).reshape(-1, 1)\n",
    "y_train = np.array(test_data[\"total_claims\"].values)\n",
    "print(y_train)"
   ]
  },
  {
   "cell_type": "markdown",
   "id": "7d4eb0bc",
   "metadata": {},
   "source": [
    "logisticRegr.fit(x_train, y_train)"
   ]
  },
  {
   "cell_type": "code",
   "execution_count": null,
   "id": "0ff0ce26",
   "metadata": {},
   "outputs": [],
   "source": [
    "x_train = np.array(test_data[\"week_number\"].values).reshape(-1, 1)\n",
    "y_train = np.array(test_data[\"total_claims\"].values)\n",
    "print(y_train)"
   ]
  },
  {
   "cell_type": "code",
   "execution_count": null,
   "id": "1bdca348",
   "metadata": {},
   "outputs": [],
   "source": [
    "logisticRegr.fit(x_train, y_train)"
   ]
  },
  {
   "cell_type": "code",
   "execution_count": null,
   "id": "0b5f354c",
   "metadata": {},
   "outputs": [],
   "source": [
    "from sklearn.linear_model import SGDRegressor\n",
    "sgdr = SGDRegressor()"
   ]
  },
  {
   "cell_type": "markdown",
   "id": "975be2ca",
   "metadata": {},
   "source": [
    "X_new = np.array([1, 2000, 3, 4, 5, 26, 7]).reshape(-1, 1)"
   ]
  },
  {
   "cell_type": "code",
   "execution_count": null,
   "id": "1816a557",
   "metadata": {},
   "outputs": [],
   "source": [
    "#https://www.datatechnotes.com/2020/09/regression-example-with-sgdregressor-in-python.html\n",
    "x_train = np.array(test_data[\"week_number\"].values).reshape(-1, 1)\n",
    "y_train = np.array(test_data[\"total_claims\"].values).reshape(-1, 1)\n",
    "sgdr.fit(x_train, y_train)"
   ]
  },
  {
   "cell_type": "code",
   "execution_count": null,
   "id": "fa579493",
   "metadata": {},
   "outputs": [],
   "source": [
    "x_pred = np.array([39]).reshape(-1,1)\n",
    "y_pred = sgdr.predict(x_pred)\n",
    "print(y_pred)"
   ]
  },
  {
   "cell_type": "code",
   "execution_count": null,
   "id": "59b7c853",
   "metadata": {},
   "outputs": [],
   "source": [
    "from sklearn.linear_model import SGDRegressor\n",
    "sgdr = SGDRegressor()"
   ]
  },
  {
   "cell_type": "markdown",
   "id": "97c521fc",
   "metadata": {},
   "source": [
    "X_new = np.array([1, 2000, 3, 4, 5, 26, 7]).reshape(-1, 1)"
   ]
  },
  {
   "cell_type": "code",
   "execution_count": null,
   "id": "f82e4dd4",
   "metadata": {},
   "outputs": [],
   "source": [
    "#https://www.datatechnotes.com/2020/09/regression-example-with-sgdregressor-in-python.html\n",
    "x_train = np.array(test_data[\"week_number\"].values).reshape(-1, 1)\n",
    "y_train = np.array(test_data[\"total_claims\"].values).reshape(-1, 1)\n",
    "sgdr.fit(x_train, y_train)"
   ]
  },
  {
   "cell_type": "code",
   "execution_count": null,
   "id": "ae46ddc6",
   "metadata": {},
   "outputs": [],
   "source": [
    "x_pred = np.array([39]).reshape(-1,1)\n",
    "y_pred = int(sgdr.predict(x_pred))\n",
    "print(y_pred)"
   ]
  },
  {
   "cell_type": "code",
   "execution_count": null,
   "id": "f1eb3989",
   "metadata": {},
   "outputs": [],
   "source": [
    "from sklearn.linear_model import SGDRegressor\n",
    "sgdr = SGDRegressor(max_iter = 10000)"
   ]
  },
  {
   "cell_type": "code",
   "execution_count": null,
   "id": "ab58cfe0",
   "metadata": {},
   "outputs": [],
   "source": [
    "x_train = np.array(test_data[\"week_number\"].values).reshape(-1, 1)\n",
    "y_train = np.array(test_data[\"total_claims\"].values).reshape(-1, 1)\n",
    "sgdr.fit(x_train, y_train)"
   ]
  },
  {
   "cell_type": "code",
   "execution_count": null,
   "id": "fccfb9e4",
   "metadata": {},
   "outputs": [],
   "source": [
    "x_pred = np.array([39]).reshape(-1,1)\n",
    "y_pred = int(sgdr.predict(x_pred))\n",
    "print(y_pred)"
   ]
  },
  {
   "cell_type": "code",
   "execution_count": null,
   "id": "08acd664",
   "metadata": {},
   "outputs": [],
   "source": [
    "from sklearn.linear_model import SGDRegressor\n",
    "sgdr = SGDRegressor(max_iter = 10000)"
   ]
  },
  {
   "cell_type": "code",
   "execution_count": null,
   "id": "0d1caaa4",
   "metadata": {},
   "outputs": [],
   "source": [
    "x_train = np.array(test_data[\"week_number\"].values).reshape(-1, 1)\n",
    "y_train = np.array(test_data[\"total_claims\"].values) \n",
    "sgdr.fit(x_train, y_train)"
   ]
  },
  {
   "cell_type": "code",
   "execution_count": null,
   "id": "c3d4455f",
   "metadata": {},
   "outputs": [],
   "source": [
    "x_pred = np.array([39]) \n",
    "y_pred = int(sgdr.predict(x_pred))\n",
    "print(y_pred)"
   ]
  },
  {
   "cell_type": "code",
   "execution_count": null,
   "id": "b96baf6c",
   "metadata": {},
   "outputs": [],
   "source": [
    "from sklearn.linear_model import SGDRegressor\n",
    "sgdr = SGDRegressor(max_iter = 10000)"
   ]
  },
  {
   "cell_type": "code",
   "execution_count": null,
   "id": "89fdfe6d",
   "metadata": {},
   "outputs": [],
   "source": [
    "x_train = np.array(test_data[\"week_number\"].values).reshape(-1, 1)\n",
    "y_train = np.array(test_data[\"total_claims\"].values) \n",
    "sgdr.fit(x_train, y_train)"
   ]
  },
  {
   "cell_type": "code",
   "execution_count": null,
   "id": "198bb3f9",
   "metadata": {},
   "outputs": [],
   "source": [
    "x_pred = np.array([39]).reshape(-1, 1)\n",
    "y_pred = int(sgdr.predict(x_pred))\n",
    "print(y_pred)"
   ]
  },
  {
   "cell_type": "code",
   "execution_count": null,
   "id": "4ff0788c",
   "metadata": {},
   "outputs": [],
   "source": [
    "from sklearn.linear_model import SGDRegressor\n",
    "sgdr = SGDRegressor(max_iter = 10000)"
   ]
  },
  {
   "cell_type": "code",
   "execution_count": null,
   "id": "7b8990c5",
   "metadata": {},
   "outputs": [],
   "source": [
    "x_train = np.array(test_data[\"week_number\"].values).reshape(-1, 1)\n",
    "y_train = np.array(test_data[\"total_claims\"].values) \n",
    "sgdr.fit(x_train, y_train)"
   ]
  },
  {
   "cell_type": "code",
   "execution_count": null,
   "id": "4ce95f6e",
   "metadata": {},
   "outputs": [],
   "source": [
    "x_pred = np.array([39]).reshape(-1, 1)\n",
    "y_pred = int(sgdr.predict(x_pred))\n",
    "print(y_pred)"
   ]
  },
  {
   "cell_type": "code",
   "execution_count": null,
   "id": "76e84995",
   "metadata": {},
   "outputs": [],
   "source": [
    "from sklearn.linear_model import SGDRegressor\n",
    "sgdr = SGDRegressor(max_iter = 10000)"
   ]
  },
  {
   "cell_type": "code",
   "execution_count": null,
   "id": "fb4e1a40",
   "metadata": {},
   "outputs": [],
   "source": [
    "x_train = np.array(test_data[\"week_number\"].values).reshape(-1, 1)\n",
    "y_train = np.array(test_data[\"total_claims\"].values) \n",
    "sgdr.fit(x_train, y_train)"
   ]
  },
  {
   "cell_type": "code",
   "execution_count": null,
   "id": "5581ccb8",
   "metadata": {},
   "outputs": [],
   "source": [
    "x_pred = np.array([39]).reshape(-1, 1)\n",
    "y_pred = int(sgdr.predict(x_pred))\n",
    "print(y_pred)"
   ]
  },
  {
   "cell_type": "code",
   "execution_count": null,
   "id": "1440f2a0",
   "metadata": {},
   "outputs": [],
   "source": [
    "from sklearn.linear_model import SGDRegressor\n",
    "sgdr = SGDRegressor(max_iter = 10000)"
   ]
  },
  {
   "cell_type": "code",
   "execution_count": null,
   "id": "fc8aae1d",
   "metadata": {},
   "outputs": [],
   "source": [
    "x_train = np.array(test_data[\"week_number\"].values).reshape(-1, 1)\n",
    "y_train = np.array(test_data[\"total_claims\"].values) \n",
    "sgdr.fit(x_train, y_train)"
   ]
  },
  {
   "cell_type": "code",
   "execution_count": null,
   "id": "59a9f5e6",
   "metadata": {},
   "outputs": [],
   "source": [
    "x_pred = np.array([39]).reshape(-1, 1)\n",
    "y_pred = int(sgdr.predict(x_pred))\n",
    "print(y_pred)"
   ]
  },
  {
   "cell_type": "code",
   "execution_count": null,
   "id": "73fcd21f",
   "metadata": {},
   "outputs": [],
   "source": [
    "from sklearn.linear_model import SGDRegressor\n",
    "sgdr = SGDRegressor(max_iter = 10000)"
   ]
  },
  {
   "cell_type": "code",
   "execution_count": null,
   "id": "4719f88a",
   "metadata": {},
   "outputs": [],
   "source": [
    "x_train = np.array(test_data[\"week_number\"].values).reshape(-1, 1)\n",
    "y_train = np.array(test_data[\"total_claims\"].values) \n",
    "sgdr.fit(x_train, y_train)"
   ]
  },
  {
   "cell_type": "code",
   "execution_count": null,
   "id": "618d2ef9",
   "metadata": {},
   "outputs": [],
   "source": [
    "x_pred = np.array([39]).reshape(-1, 1)\n",
    "y_pred = int(sgdr.predict(x_pred))\n",
    "print(y_pred)"
   ]
  },
  {
   "cell_type": "code",
   "execution_count": null,
   "id": "247fb1c1",
   "metadata": {},
   "outputs": [],
   "source": [
    "from sklearn.linear_model import SGDRegressor\n",
    "sgdr = SGDRegressor(max_iter = 10000)"
   ]
  },
  {
   "cell_type": "code",
   "execution_count": null,
   "id": "1670163b",
   "metadata": {},
   "outputs": [],
   "source": [
    "x_train = np.array(test_data[\"week_number\"].values).reshape(-1, 1)\n",
    "y_train = np.array(test_data[\"total_claims\"].values) \n",
    "sgdr.fit(x_train, y_train)"
   ]
  },
  {
   "cell_type": "code",
   "execution_count": null,
   "id": "58ba695f",
   "metadata": {},
   "outputs": [],
   "source": [
    "x_pred = np.array([39]).reshape(-1, 1)\n",
    "y_pred = int(sgdr.predict(x_pred))\n",
    "print(y_pred)"
   ]
  },
  {
   "cell_type": "code",
   "execution_count": null,
   "id": "c0667351",
   "metadata": {},
   "outputs": [],
   "source": [
    "from sklearn.linear_model import SGDRegressor\n",
    "sgdr = SGDRegressor(max_iter = 10000)"
   ]
  },
  {
   "cell_type": "code",
   "execution_count": null,
   "id": "261c16fc",
   "metadata": {},
   "outputs": [],
   "source": [
    "x_train = np.array(test_data[\"week_number\"].values).reshape(-1, 1)\n",
    "y_train = np.array(test_data[\"total_claims\"].values) \n",
    "sgdr.fit(x_train, y_train)"
   ]
  },
  {
   "cell_type": "code",
   "execution_count": null,
   "id": "b86dadb7",
   "metadata": {},
   "outputs": [],
   "source": [
    "x_pred = np.array([39]).reshape(-1, 1)\n",
    "y_pred = int(sgdr.predict(x_pred))\n",
    "print(y_pred)"
   ]
  },
  {
   "cell_type": "code",
   "execution_count": null,
   "id": "320cc7c8",
   "metadata": {},
   "outputs": [],
   "source": [
    "from sklearn.linear_model import SGDRegressor\n",
    "sgdr = SGDRegressor(max_iter = 10000)"
   ]
  },
  {
   "cell_type": "code",
   "execution_count": null,
   "id": "a144b066",
   "metadata": {},
   "outputs": [],
   "source": [
    "x_train = np.array(test_data[\"week_number\"].values).reshape(-1, 1)\n",
    "y_train = np.array(test_data[\"total_claims\"].values) \n",
    "sgdr.fit(x_train, y_train)"
   ]
  },
  {
   "cell_type": "code",
   "execution_count": null,
   "id": "0ebd6de8",
   "metadata": {},
   "outputs": [],
   "source": [
    "x_pred = np.array([39]).reshape(-1, 1)\n",
    "y_pred = int(sgdr.predict(x_pred))\n",
    "print(y_pred)"
   ]
  },
  {
   "cell_type": "code",
   "execution_count": null,
   "id": "23002695",
   "metadata": {},
   "outputs": [],
   "source": [
    "from sklearn.linear_model import SGDRegressor\n",
    "sgdr = SGDRegressor(max_iter = 10000)"
   ]
  },
  {
   "cell_type": "code",
   "execution_count": null,
   "id": "554dea13",
   "metadata": {},
   "outputs": [],
   "source": [
    "for uu_id in df_pred_list['uu_id']:\n",
    "    print(uu_id)"
   ]
  },
  {
   "cell_type": "markdown",
   "id": "58ffcaf9",
   "metadata": {},
   "source": [
    "x_train = np.array(test_data[\"week_number\"].values).reshape(-1, 1)\n",
    "y_train = np.array(test_data[\"total_claims\"].values) \n",
    "sgdr.fit(x_train, y_train)"
   ]
  },
  {
   "cell_type": "markdown",
   "id": "f25f4aa2",
   "metadata": {},
   "source": [
    "x_pred = np.array([39]).reshape(-1, 1)\n",
    "y_pred = int(sgdr.predict(x_pred))\n",
    "print(y_pred)"
   ]
  },
  {
   "cell_type": "code",
   "execution_count": null,
   "id": "7a105fb5",
   "metadata": {},
   "outputs": [],
   "source": [
    "sgdr = SGDRegressor(max_iter = 10000)"
   ]
  },
  {
   "cell_type": "code",
   "execution_count": null,
   "id": "bbfb29ad",
   "metadata": {},
   "outputs": [],
   "source": [
    "random.seed(0)"
   ]
  },
  {
   "cell_type": "code",
   "execution_count": null,
   "id": "2ad84bab",
   "metadata": {},
   "outputs": [],
   "source": [
    "res = pandas.DataFrame(columns = ['Name', 'Articles', 'Improved'])"
   ]
  },
  {
   "cell_type": "code",
   "execution_count": null,
   "id": "7ad8c56e",
   "metadata": {
    "lines_to_next_cell": 2
   },
   "outputs": [],
   "source": [
    "for cur_uu_id in df_pred_list['uu_id']:\n",
    "    #print(uu_id)\n",
    "    test_data = df_three_col[df_three_col[\"uu_id\"].isin([cur_uu_id]) ]\n",
    "    x_train = np.array(test_data[\"week_number\"].values).reshape(-1, 1)\n",
    "    y_train = np.array(test_data[\"total_claims\"].values) \n",
    "    sgdr.fit(x_train, y_train)\n",
    "    x_pred = np.array([39]).reshape(-1, 1)\n",
    "    y_pred = int(sgdr.predict(x_pred))\n",
    "    res = pd.DataFrame(columns = ['uu_id', 'week_number', 'total_claims'])\n",
    "    res = df.append({'uu_id' : cur_uu_id, 'week_number' : 37, 'total_claims' : y_pred},ignore_index = True)"
   ]
  },
  {
   "cell_type": "code",
   "execution_count": null,
   "id": "4052bf5f",
   "metadata": {},
   "outputs": [],
   "source": [
    "res.to_csv(\"submission_prediction_output.csv\", index=False)s"
   ]
  },
  {
   "cell_type": "code",
   "execution_count": null,
   "id": "b953925a",
   "metadata": {},
   "outputs": [],
   "source": [
    "sgdr = SGDRegressor(max_iter = 10000)"
   ]
  },
  {
   "cell_type": "code",
   "execution_count": null,
   "id": "f515ef8b",
   "metadata": {},
   "outputs": [],
   "source": [
    "random.seed(0)"
   ]
  },
  {
   "cell_type": "code",
   "execution_count": null,
   "id": "3ce64978",
   "metadata": {},
   "outputs": [],
   "source": [
    "res = pandas.DataFrame(columns = ['Name', 'Articles', 'Improved'])"
   ]
  },
  {
   "cell_type": "code",
   "execution_count": null,
   "id": "6d908f63",
   "metadata": {
    "lines_to_next_cell": 2
   },
   "outputs": [],
   "source": [
    "for cur_uu_id in df_pred_list['uu_id']:\n",
    "    #print(uu_id)\n",
    "    test_data = df_three_col[df_three_col[\"uu_id\"].isin([cur_uu_id]) ]\n",
    "    x_train = np.array(test_data[\"week_number\"].values).reshape(-1, 1)\n",
    "    y_train = np.array(test_data[\"total_claims\"].values) \n",
    "    sgdr.fit(x_train, y_train)\n",
    "    x_pred = np.array([39]).reshape(-1, 1)\n",
    "    y_pred = int(sgdr.predict(x_pred))\n",
    "    res = pd.DataFrame(columns = ['uu_id', 'week_number', 'total_claims'])\n",
    "    res = df.append({'uu_id' : cur_uu_id, 'week_number' : 37, 'total_claims' : y_pred},ignore_index = True)"
   ]
  },
  {
   "cell_type": "code",
   "execution_count": null,
   "id": "cb7f56fd",
   "metadata": {},
   "outputs": [],
   "source": [
    "res.to_csv(\"submission_prediction_output.csv\", index=False)"
   ]
  },
  {
   "cell_type": "markdown",
   "id": "9953f953",
   "metadata": {},
   "source": [
    "- IMPORT THE LIBRARIES YOU WILL USE\n",
    "------------------------------------------\n",
    "You only need to import packages one time per notebook session. To keep your\n",
    "notebook clean and organized you can handle all imports at the top of your file.\n",
    "The following are included for example purposed, feel free to modify or delete \n",
    "anything in this section."
   ]
  },
  {
   "cell_type": "code",
   "execution_count": null,
   "id": "53b22af7",
   "metadata": {},
   "outputs": [],
   "source": [
    "#import os\n",
    "import csv\n",
    "#import pandas as pd\n",
    "import pandas\n",
    "import numpy as np\n",
    "from google.cloud import bigquery\n",
    "from google.oauth2 import service_account\n",
    "from google.cloud.bigquery import magics"
   ]
  },
  {
   "cell_type": "code",
   "execution_count": null,
   "id": "0561e95f",
   "metadata": {},
   "outputs": [],
   "source": [
    "from sklearn.linear_model import SGDRegressor\n",
    "import random"
   ]
  },
  {
   "cell_type": "code",
   "execution_count": null,
   "id": "14f808bb",
   "metadata": {},
   "outputs": [],
   "source": [
    "sgdr = SGDRegressor(max_iter = 10000)"
   ]
  },
  {
   "cell_type": "code",
   "execution_count": null,
   "id": "34a86d99",
   "metadata": {},
   "outputs": [],
   "source": [
    "random.seed(0)"
   ]
  },
  {
   "cell_type": "code",
   "execution_count": null,
   "id": "b9cdd393",
   "metadata": {},
   "outputs": [],
   "source": [
    "res = pandas.DataFrame(columns = ['Name', 'Articles', 'Improved'])"
   ]
  },
  {
   "cell_type": "code",
   "execution_count": null,
   "id": "c8fefa14",
   "metadata": {
    "lines_to_next_cell": 2
   },
   "outputs": [],
   "source": [
    "for cur_uu_id in df_pred_list['uu_id']:\n",
    "    #print(uu_id)\n",
    "    test_data = df_three_col[df_three_col[\"uu_id\"].isin([cur_uu_id]) ]\n",
    "    x_train = np.array(test_data[\"week_number\"].values).reshape(-1, 1)\n",
    "    y_train = np.array(test_data[\"total_claims\"].values) \n",
    "    sgdr.fit(x_train, y_train)\n",
    "    x_pred = np.array([39]).reshape(-1, 1)\n",
    "    y_pred = int(sgdr.predict(x_pred))\n",
    "    res = pd.DataFrame(columns = ['uu_id', 'week_number', 'total_claims'])\n",
    "    res = df.append({'uu_id' : cur_uu_id, 'week_number' : 37, 'total_claims' : y_pred},ignore_index = True)"
   ]
  },
  {
   "cell_type": "code",
   "execution_count": null,
   "id": "cb58196a",
   "metadata": {},
   "outputs": [],
   "source": [
    "res.to_csv(\"submission_prediction_output.csv\", index=False)"
   ]
  },
  {
   "cell_type": "code",
   "execution_count": null,
   "id": "d309dbd5",
   "metadata": {},
   "outputs": [],
   "source": [
    "sgdr = SGDRegressor(max_iter = 10000)"
   ]
  },
  {
   "cell_type": "code",
   "execution_count": null,
   "id": "c632d308",
   "metadata": {},
   "outputs": [],
   "source": [
    "random.seed(0)"
   ]
  },
  {
   "cell_type": "code",
   "execution_count": null,
   "id": "15b11ef9",
   "metadata": {},
   "outputs": [],
   "source": [
    "res = pandas.DataFrame(columns = ['Name', 'Articles', 'Improved'])"
   ]
  },
  {
   "cell_type": "code",
   "execution_count": null,
   "id": "d9d80dd4",
   "metadata": {
    "lines_to_next_cell": 2
   },
   "outputs": [],
   "source": [
    "for cur_uu_id in df_pred_list['uu_id']:\n",
    "    #print(uu_id)\n",
    "    test_data = df_three_col[df_three_col[\"uu_id\"].isin([cur_uu_id]) ]\n",
    "    x_train = np.array(test_data[\"week_number\"].values).reshape(-1, 1)\n",
    "    y_train = np.array(test_data[\"total_claims\"].values) \n",
    "    sgdr.fit(x_train, y_train)\n",
    "    x_pred = np.array([39]).reshape(-1, 1)\n",
    "    y_pred = int(sgdr.predict(x_pred))\n",
    "    res = pandas.DataFrame(columns = ['uu_id', 'week_number', 'total_claims'])\n",
    "    res = res.append({'uu_id' : cur_uu_id, 'week_number' : 37, 'total_claims' : y_pred},ignore_index = True)"
   ]
  },
  {
   "cell_type": "code",
   "execution_count": null,
   "id": "721cf9b8",
   "metadata": {},
   "outputs": [],
   "source": [
    "res.to_csv(\"submission_prediction_output.csv\", index=False)"
   ]
  },
  {
   "cell_type": "code",
   "execution_count": null,
   "id": "32f4a355",
   "metadata": {},
   "outputs": [],
   "source": [
    "sgdr = SGDRegressor(max_iter = 10000)"
   ]
  },
  {
   "cell_type": "code",
   "execution_count": null,
   "id": "ab1d14d6",
   "metadata": {},
   "outputs": [],
   "source": [
    "random.seed(0)"
   ]
  },
  {
   "cell_type": "code",
   "execution_count": null,
   "id": "fffd96cd",
   "metadata": {},
   "outputs": [],
   "source": [
    "res = pandas.DataFrame(columns = ['Name', 'Articles', 'Improved'])"
   ]
  },
  {
   "cell_type": "code",
   "execution_count": null,
   "id": "e2cf46ef",
   "metadata": {
    "lines_to_next_cell": 2
   },
   "outputs": [],
   "source": [
    "for cur_uu_id in df_pred_list['uu_id']:\n",
    "    #print(uu_id)\n",
    "    test_data = df_three_col[df_three_col[\"uu_id\"].isin([cur_uu_id]) ]\n",
    "    x_train = np.array(test_data[\"week_number\"].values).reshape(-1, 1)\n",
    "    y_train = np.array(test_data[\"total_claims\"].values) \n",
    "    sgdr.fit(x_train, y_train)\n",
    "    x_pred = np.array([39]).reshape(-1, 1)\n",
    "    y_pred = int(sgdr.predict(x_pred))\n",
    "    res = pandas.DataFrame(columns = ['uu_id', 'week_number', 'total_claims'])\n",
    "    res = res.concat({'uu_id' : cur_uu_id, 'week_number' : 37, 'total_claims' : y_pred},ignore_index = True)"
   ]
  },
  {
   "cell_type": "code",
   "execution_count": null,
   "id": "f77fc6f8",
   "metadata": {},
   "outputs": [],
   "source": [
    "res.to_csv(\"submission_prediction_output.csv\", index=False)"
   ]
  },
  {
   "cell_type": "code",
   "execution_count": null,
   "id": "e727dca4",
   "metadata": {},
   "outputs": [],
   "source": [
    "sgdr = SGDRegressor(max_iter = 10000)"
   ]
  },
  {
   "cell_type": "code",
   "execution_count": null,
   "id": "2f4bf7db",
   "metadata": {},
   "outputs": [],
   "source": [
    "random.seed(0)"
   ]
  },
  {
   "cell_type": "code",
   "execution_count": null,
   "id": "a6acbb9b",
   "metadata": {},
   "outputs": [],
   "source": [
    "res = pandas.DataFrame(columns = ['Name', 'Articles', 'Improved'])"
   ]
  },
  {
   "cell_type": "code",
   "execution_count": null,
   "id": "9ed6a255",
   "metadata": {
    "lines_to_next_cell": 2
   },
   "outputs": [],
   "source": [
    "for cur_uu_id in df_pred_list['uu_id']:\n",
    "    #print(uu_id)\n",
    "    test_data = df_three_col[df_three_col[\"uu_id\"].isin([cur_uu_id]) ]\n",
    "    x_train = np.array(test_data[\"week_number\"].values).reshape(-1, 1)\n",
    "    y_train = np.array(test_data[\"total_claims\"].values) \n",
    "    sgdr.fit(x_train, y_train)\n",
    "    x_pred = np.array([39]).reshape(-1, 1)\n",
    "    y_pred = int(sgdr.predict(x_pred))\n",
    "    res = pandas.DataFrame(columns = ['uu_id', 'week_number', 'total_claims'])\n",
    "    res = pandas.concat(res, {'uu_id' : cur_uu_id, 'week_number' : 37, 'total_claims' : y_pred},ignore_index = True)"
   ]
  },
  {
   "cell_type": "code",
   "execution_count": null,
   "id": "87cbf137",
   "metadata": {},
   "outputs": [],
   "source": [
    "res.to_csv(\"submission_prediction_output.csv\", index=False)"
   ]
  },
  {
   "cell_type": "markdown",
   "id": "f98737be",
   "metadata": {},
   "source": [
    "- IMPORT THE LIBRARIES YOU WILL USE\n",
    "------------------------------------------\n",
    "You only need to import packages one time per notebook session. To keep your\n",
    "notebook clean and organized you can handle all imports at the top of your file.\n",
    "The following are included for example purposed, feel free to modify or delete \n",
    "anything in this section."
   ]
  },
  {
   "cell_type": "code",
   "execution_count": null,
   "id": "57e2593b",
   "metadata": {},
   "outputs": [],
   "source": [
    "#import os\n",
    "import csv\n",
    "import pandas as pd\n",
    "import numpy as np\n",
    "from google.cloud import bigquery\n",
    "from google.oauth2 import service_account\n",
    "from google.cloud.bigquery import magics"
   ]
  },
  {
   "cell_type": "code",
   "execution_count": null,
   "id": "a26f0cb4",
   "metadata": {},
   "outputs": [],
   "source": [
    "from sklearn.linear_model import SGDRegressor\n",
    "import random"
   ]
  },
  {
   "cell_type": "code",
   "execution_count": null,
   "id": "a3b92179",
   "metadata": {},
   "outputs": [],
   "source": [
    "sgdr = SGDRegressor(max_iter = 10000)"
   ]
  },
  {
   "cell_type": "code",
   "execution_count": null,
   "id": "c02d4316",
   "metadata": {},
   "outputs": [],
   "source": [
    "random.seed(0)"
   ]
  },
  {
   "cell_type": "code",
   "execution_count": null,
   "id": "0df29934",
   "metadata": {},
   "outputs": [],
   "source": [
    "res = pd.DataFrame(columns = ['uu_id', 'week_number', 'total_claims'])"
   ]
  },
  {
   "cell_type": "code",
   "execution_count": null,
   "id": "4543dd13",
   "metadata": {
    "lines_to_next_cell": 2
   },
   "outputs": [],
   "source": [
    "for cur_uu_id in df_pred_list['uu_id']:\n",
    "    #print(uu_id)\n",
    "    test_data = df_three_col[df_three_col[\"uu_id\"].isin([cur_uu_id]) ]\n",
    "    x_train = np.array(test_data[\"week_number\"].values).reshape(-1, 1)\n",
    "    y_train = np.array(test_data[\"total_claims\"].values) \n",
    "    sgdr.fit(x_train, y_train)\n",
    "    x_pred = np.array([39]).reshape(-1, 1)\n",
    "    y_pred = int(sgdr.predict(x_pred))\n",
    "    cur_row =  pd.DataFrame( {'uu_id' : cur_uu_id, 'week_number' : 37, 'total_claims' : y_pred})\n",
    "    res = pd.concat(res,cur_row,ignore_index = True)"
   ]
  },
  {
   "cell_type": "code",
   "execution_count": null,
   "id": "060584db",
   "metadata": {},
   "outputs": [],
   "source": [
    "res.to_csv(\"submission_prediction_output.csv\", index=False)"
   ]
  },
  {
   "cell_type": "code",
   "execution_count": null,
   "id": "b61de8c6",
   "metadata": {},
   "outputs": [],
   "source": [
    "sgdr = SGDRegressor(max_iter = 10000)"
   ]
  },
  {
   "cell_type": "code",
   "execution_count": null,
   "id": "b1be4686",
   "metadata": {},
   "outputs": [],
   "source": [
    "random.seed(0)"
   ]
  },
  {
   "cell_type": "code",
   "execution_count": null,
   "id": "25b9424d",
   "metadata": {},
   "outputs": [],
   "source": [
    "res = pd.DataFrame(columns = ['uu_id', 'week_number', 'total_claims'])"
   ]
  },
  {
   "cell_type": "code",
   "execution_count": null,
   "id": "d4404bf4",
   "metadata": {
    "lines_to_next_cell": 2
   },
   "outputs": [],
   "source": [
    "for cur_uu_id in df_pred_list['uu_id']:\n",
    "    #print(uu_id)\n",
    "    test_data = df_three_col[df_three_col[\"uu_id\"].isin([cur_uu_id]) ]\n",
    "    x_train = np.array(test_data[\"week_number\"].values).reshape(-1, 1)\n",
    "    y_train = np.array(test_data[\"total_claims\"].values) \n",
    "    sgdr.fit(x_train, y_train)\n",
    "    x_pred = np.array([39]).reshape(-1, 1)\n",
    "    y_pred = int(sgdr.predict(x_pred))\n",
    "    cur_row =  pd.DataFrame([[cur_uu_id, 39, y_pred]], columns=['uu_id', 'week_number', 'total_claims'] )\n",
    "    res = pd.concat(res,cur_row,ignore_index = True)"
   ]
  },
  {
   "cell_type": "code",
   "execution_count": null,
   "id": "ffd76311",
   "metadata": {},
   "outputs": [],
   "source": [
    "res.to_csv(\"submission_prediction_output.csv\", index=False)"
   ]
  },
  {
   "cell_type": "code",
   "execution_count": null,
   "id": "3a6739b7",
   "metadata": {},
   "outputs": [],
   "source": [
    "sgdr = SGDRegressor(max_iter = 10000)"
   ]
  },
  {
   "cell_type": "code",
   "execution_count": null,
   "id": "f8d240ff",
   "metadata": {},
   "outputs": [],
   "source": [
    "random.seed(0)"
   ]
  },
  {
   "cell_type": "code",
   "execution_count": null,
   "id": "28cbf296",
   "metadata": {},
   "outputs": [],
   "source": [
    "res = pd.DataFrame(columns = ['uu_id', 'week_number', 'total_claims'])"
   ]
  },
  {
   "cell_type": "code",
   "execution_count": null,
   "id": "a4c48211",
   "metadata": {
    "lines_to_next_cell": 2
   },
   "outputs": [],
   "source": [
    "for cur_uu_id in df_pred_list['uu_id']:\n",
    "    #print(uu_id)\n",
    "    test_data = df_three_col[df_three_col[\"uu_id\"].isin([cur_uu_id]) ]\n",
    "    x_train = np.array(test_data[\"week_number\"].values).reshape(-1, 1)\n",
    "    y_train = np.array(test_data[\"total_claims\"].values) \n",
    "    sgdr.fit(x_train, y_train)\n",
    "    x_pred = np.array([39]).reshape(-1, 1)\n",
    "    y_pred = int(sgdr.predict(x_pred))\n",
    "    cur_row =  pd.DataFrame([[cur_uu_id, 39, y_pred]], columns=['uu_id', 'week_number', 'total_claims'] )\n",
    "    res = pd.concat([res,cur_row] ,ignore_index = True)"
   ]
  },
  {
   "cell_type": "code",
   "execution_count": null,
   "id": "b27a5884",
   "metadata": {},
   "outputs": [],
   "source": [
    "res.to_csv(\"submission_prediction_output.csv\", index=False)"
   ]
  },
  {
   "cell_type": "code",
   "execution_count": null,
   "id": "5b05d9d9",
   "metadata": {},
   "outputs": [],
   "source": [
    "sgdr = SGDRegressor(max_iter = 100000)"
   ]
  },
  {
   "cell_type": "code",
   "execution_count": null,
   "id": "6a95a1cb",
   "metadata": {},
   "outputs": [],
   "source": [
    "random.seed(0)"
   ]
  },
  {
   "cell_type": "code",
   "execution_count": null,
   "id": "2571b8fb",
   "metadata": {},
   "outputs": [],
   "source": [
    "res = pd.DataFrame(columns = ['uu_id', 'week_number', 'total_claims'])"
   ]
  },
  {
   "cell_type": "code",
   "execution_count": null,
   "id": "7c6f4688",
   "metadata": {
    "lines_to_next_cell": 2
   },
   "outputs": [],
   "source": [
    "for cur_uu_id in df_pred_list['uu_id']:\n",
    "    #print(uu_id)\n",
    "    test_data = df_three_col[df_three_col[\"uu_id\"].isin([cur_uu_id]) ]\n",
    "    x_train = np.array(test_data[\"week_number\"].values).reshape(-1, 1)\n",
    "    y_train = np.array(test_data[\"total_claims\"].values) \n",
    "    sgdr.fit(x_train, y_train)\n",
    "    x_pred = np.array([39]).reshape(-1, 1)\n",
    "    y_pred = int(sgdr.predict(x_pred))\n",
    "    cur_row =  pd.DataFrame([[cur_uu_id, 39, y_pred]], columns=['uu_id', 'week_number', 'total_claims'] )\n",
    "    res = pd.concat([res,cur_row] ,ignore_index = True)"
   ]
  },
  {
   "cell_type": "code",
   "execution_count": null,
   "id": "7f9b4994",
   "metadata": {},
   "outputs": [],
   "source": [
    "res.to_csv(\"submission_prediction_output.csv\", index=False)"
   ]
  },
  {
   "cell_type": "code",
   "execution_count": null,
   "id": "51a76bd0",
   "metadata": {},
   "outputs": [],
   "source": [
    "sgdr = SGDRegressor(max_iter = 100000)"
   ]
  },
  {
   "cell_type": "code",
   "execution_count": null,
   "id": "d11a06b5",
   "metadata": {},
   "outputs": [],
   "source": [
    "random.seed(0)"
   ]
  },
  {
   "cell_type": "code",
   "execution_count": null,
   "id": "aceaca4f",
   "metadata": {},
   "outputs": [],
   "source": [
    "res = pd.DataFrame(columns = ['uu_id', 'week_number', 'total_claims'])"
   ]
  },
  {
   "cell_type": "code",
   "execution_count": null,
   "id": "f3ab186c",
   "metadata": {
    "lines_to_next_cell": 2
   },
   "outputs": [],
   "source": [
    "for cur_uu_id in df_pred_list['uu_id']:\n",
    "    #print(uu_id)\n",
    "    test_data = df_three_col[df_three_col[\"uu_id\"].isin([cur_uu_id]) ]\n",
    "    x_train = np.array(test_data[\"week_number\"].values).reshape(-1, 1)\n",
    "    y_train = np.array(test_data[\"total_claims\"].values) \n",
    "    sgdr.fit(x_train, y_train)\n",
    "    x_pred = np.array([39]).reshape(-1, 1)\n",
    "    y_pred = int(sgdr.predict(x_pred))\n",
    "    cur_row =  pd.DataFrame([[cur_uu_id, 39, y_pred]], columns=['uu_id', 'week_number', 'total_claims'] )\n",
    "    res = pd.concat([res,cur_row] ,ignore_index = True)"
   ]
  },
  {
   "cell_type": "code",
   "execution_count": null,
   "id": "33389466",
   "metadata": {},
   "outputs": [],
   "source": [
    "res.to_csv(\"submission_prediction_output.csv\", index=False)\n",
    "print(\"done\")"
   ]
  },
  {
   "cell_type": "code",
   "execution_count": null,
   "id": "f38b1b09",
   "metadata": {},
   "outputs": [],
   "source": [
    "reg = LinearRegression()"
   ]
  },
  {
   "cell_type": "code",
   "execution_count": null,
   "id": "9ff295d2",
   "metadata": {},
   "outputs": [],
   "source": [
    "random.seed(0)"
   ]
  },
  {
   "cell_type": "code",
   "execution_count": null,
   "id": "22684b0f",
   "metadata": {},
   "outputs": [],
   "source": [
    "res = pd.DataFrame(columns = ['uu_id', 'week_number', 'total_claims'])"
   ]
  },
  {
   "cell_type": "code",
   "execution_count": null,
   "id": "cacfaf81",
   "metadata": {
    "lines_to_next_cell": 2
   },
   "outputs": [],
   "source": [
    "for cur_uu_id in df_pred_list['uu_id']:\n",
    "    #print(uu_id)\n",
    "    test_data = df_three_col[df_three_col[\"uu_id\"].isin([cur_uu_id]) ]\n",
    "    x_train = np.array(test_data[\"week_number\"].values).reshape(-1, 1)\n",
    "    y_train = np.array(test_data[\"total_claims\"].values) \n",
    "    reg.fit(x_train, y_train)\n",
    "    x_pred = np.array([39]).reshape(-1, 1)\n",
    "    y_pred = int(reg.predict(x_pred))\n",
    "    cur_row =  pd.DataFrame([[cur_uu_id, 39, y_pred]], columns=['uu_id', 'week_number', 'total_claims'] )\n",
    "    res = pd.concat([res,cur_row] ,ignore_index = True)"
   ]
  },
  {
   "cell_type": "code",
   "execution_count": null,
   "id": "5a06a863",
   "metadata": {},
   "outputs": [],
   "source": [
    "res.to_csv(\"submission_prediction_output.csv\", index=False)\n",
    "print(\"done\")"
   ]
  },
  {
   "cell_type": "code",
   "execution_count": null,
   "id": "32a110cc",
   "metadata": {},
   "outputs": [],
   "source": [
    "from sklearn.linear_model import LinearRegression\n",
    "import random"
   ]
  },
  {
   "cell_type": "code",
   "execution_count": null,
   "id": "72940afd",
   "metadata": {},
   "outputs": [],
   "source": [
    "reg = LinearRegression()"
   ]
  },
  {
   "cell_type": "code",
   "execution_count": null,
   "id": "4a422478",
   "metadata": {},
   "outputs": [],
   "source": [
    "random.seed(0)"
   ]
  },
  {
   "cell_type": "code",
   "execution_count": null,
   "id": "f0743c0b",
   "metadata": {},
   "outputs": [],
   "source": [
    "res = pd.DataFrame(columns = ['uu_id', 'week_number', 'total_claims'])"
   ]
  },
  {
   "cell_type": "code",
   "execution_count": null,
   "id": "de8588b1",
   "metadata": {
    "lines_to_next_cell": 2
   },
   "outputs": [],
   "source": [
    "for cur_uu_id in df_pred_list['uu_id']:\n",
    "    #print(uu_id)\n",
    "    test_data = df_three_col[df_three_col[\"uu_id\"].isin([cur_uu_id]) ]\n",
    "    x_train = np.array(test_data[\"week_number\"].values).reshape(-1, 1)\n",
    "    y_train = np.array(test_data[\"total_claims\"].values) \n",
    "    reg.fit(x_train, y_train)\n",
    "    x_pred = np.array([39]).reshape(-1, 1)\n",
    "    y_pred = int(reg.predict(x_pred))\n",
    "    cur_row =  pd.DataFrame([[cur_uu_id, 39, y_pred]], columns=['uu_id', 'week_number', 'total_claims'] )\n",
    "    res = pd.concat([res,cur_row] ,ignore_index = True)"
   ]
  },
  {
   "cell_type": "code",
   "execution_count": null,
   "id": "96d1cb97",
   "metadata": {},
   "outputs": [],
   "source": [
    "res.to_csv(\"submission_prediction_output.csv\", index=False)\n",
    "print(\"done\")"
   ]
  },
  {
   "cell_type": "code",
   "execution_count": null,
   "id": "cb4f42d8",
   "metadata": {},
   "outputs": [],
   "source": [
    "get_ipython().run_cell_magic('capture', '', \"%logstop\\n%logstart -t -r -q ipython_command_log.py global\\n\\n#- IRONHACKS RESEARCH TRACKING CODE\\n#----------------------------------\\n# The following code is used to help our research team understand how you \\n# our notebook environment. We do not collect any personal information with\\n# the following code, it is used to measure when and how often you work on\\n# your submission files.\\n\\nimport os\\nfrom datetime import datetime\\nimport IPython.core.history as history\\n\\nha = history.HistoryAccessor()\\nha_tail = ha.get_tail(1)\\nha_cmd = next(ha_tail)\\nsession_id = str(ha_cmd[0])\\ncommand_id = str(ha_cmd[1])\\ntimestamp = datetime.utcnow().isoformat()\\nhistory_line = ','.join([session_id, command_id, timestamp]) + '\\\\n'\\nlogfile = open(os.environ['HOME']+'/ipython_session_log.csv', 'a')\\nlogfile.write(history_line)\\nlogfile.close()\\n\")"
   ]
  },
  {
   "cell_type": "code",
   "execution_count": null,
   "id": "bb1572b8",
   "metadata": {},
   "outputs": [],
   "source": [
    "get_ipython().run_cell_magic('capture', '', \"\\n#- INSTALL ADDITIONAL LIBRARIES IF REQUIRED\\n#------------------------------------------\\n# This is normally not required. The hub environment comes preinstaled with \\n# many packages that you can already use without setup. In case there is some\\n# other library you would like to use that isn't on the list you run this command\\n# once to install them.  If it is already installed this command has no effect.\\n\\n#!python3 -m pip install pandas\\n\")"
   ]
  },
  {
   "cell_type": "markdown",
   "id": "97f928a0",
   "metadata": {},
   "source": [
    "- IMPORT THE LIBRARIES YOU WILL USE\n",
    "------------------------------------------\n",
    "You only need to import packages one time per notebook session. To keep your\n",
    "notebook clean and organized you can handle all imports at the top of your file.\n",
    "The following are included for example purposed, feel free to modify or delete \n",
    "anything in this section."
   ]
  },
  {
   "cell_type": "code",
   "execution_count": null,
   "id": "f0560478",
   "metadata": {},
   "outputs": [],
   "source": [
    "import csv\n",
    "import pandas as pd\n",
    "import numpy as np\n",
    "from google.cloud import bigquery\n",
    "from google.oauth2 import service_account\n",
    "from google.cloud.bigquery import magics"
   ]
  },
  {
   "cell_type": "code",
   "execution_count": null,
   "id": "19e78103",
   "metadata": {},
   "outputs": [],
   "source": [
    "from sklearn.linear_model import LinearRegression\n",
    "import random"
   ]
  },
  {
   "cell_type": "markdown",
   "id": "1db16e18",
   "metadata": {},
   "source": [
    "- DEFINE YOUR CLASSES AND FUNCTIONS \n",
    "-----------------------------------\n",
    "This is not required, but is helpful in keeping your notebook organized. \n",
    "You can use the following cell or several cells to define your functions\n",
    "and classes to keep them separate from your analysis or results code.\n",
    "In general it useful to define your methods in a separate cell from where\n",
    "it is run."
   ]
  },
  {
   "cell_type": "code",
   "execution_count": null,
   "id": "75e80369",
   "metadata": {},
   "outputs": [],
   "source": [
    "BIGQUERY_PROJECT = 'ironhacks-data'\n",
    "bigquery_client = bigquery.Client(project=BIGQUERY_PROJECT)"
   ]
  },
  {
   "cell_type": "code",
   "execution_count": null,
   "id": "6da5a89e",
   "metadata": {},
   "outputs": [],
   "source": [
    "!pip install db-dtypes\n",
    "query_unemployment = \"\"\"\n",
    "SELECT *\n",
    "FROM `ironhacks-data.ironhacks_competition.unemployment_data` \n",
    "\"\"\"\n",
    "query = bigquery_client.query(query_unemployment)\n",
    "df_unemployment = query.to_dataframe()\n",
    "#df_unemployment.head()"
   ]
  },
  {
   "cell_type": "code",
   "execution_count": null,
   "id": "89505acb",
   "metadata": {},
   "outputs": [],
   "source": [
    "query_wage = \"\"\"\n",
    "SELECT *\n",
    "FROM `ironhacks-data.ironhacks_competition.wage_data`\n",
    "\"\"\"\n",
    "query = bigquery_client.query(query_wage)\n",
    "df_wage = query.to_dataframe()\n",
    "#df_wage.head()"
   ]
  },
  {
   "cell_type": "code",
   "execution_count": null,
   "id": "4b4c0515",
   "metadata": {},
   "outputs": [],
   "source": [
    "query_pred_list = \"\"\"\n",
    "SELECT *\n",
    "FROM `ironhacks-data.ironhacks_competition.prediction_list`\n",
    "\"\"\"\n",
    "query = bigquery_client.query(query_pred_list)\n",
    "df_pred_list = query.to_dataframe()\n",
    "#df_pred_list.head()"
   ]
  },
  {
   "cell_type": "code",
   "execution_count": null,
   "id": "5dff8ec1",
   "metadata": {},
   "outputs": [],
   "source": [
    "query_schema = \"\"\"\n",
    "SELECT *\n",
    "FROM `ironhacks-data.ironhacks_competition.INFORMATION_SCHEMA.TABLES`\n",
    "\"\"\"\n",
    "query = bigquery_client.query(query_schema)\n",
    "df_schema = query.to_dataframe()\n",
    "#df_schema.head()"
   ]
  },
  {
   "cell_type": "code",
   "execution_count": null,
   "id": "c3f9e240",
   "metadata": {},
   "outputs": [],
   "source": [
    "df_three_col = df_unemployment[[\"uu_id\", \"week_number\", \"total_claims\"]]"
   ]
  },
  {
   "cell_type": "code",
   "execution_count": null,
   "id": "d48df56a",
   "metadata": {},
   "outputs": [],
   "source": [
    "reg = LinearRegression()"
   ]
  },
  {
   "cell_type": "code",
   "execution_count": null,
   "id": "c5c06c17",
   "metadata": {},
   "outputs": [],
   "source": [
    "random.seed(0)"
   ]
  },
  {
   "cell_type": "code",
   "execution_count": null,
   "id": "87560b48",
   "metadata": {},
   "outputs": [],
   "source": [
    "res = pd.DataFrame(columns = ['uu_id', 'week_number', 'total_claims'])"
   ]
  },
  {
   "cell_type": "code",
   "execution_count": null,
   "id": "29b99f8b",
   "metadata": {
    "lines_to_next_cell": 2
   },
   "outputs": [],
   "source": [
    "for cur_uu_id in df_pred_list['uu_id']:\n",
    "    #print(uu_id)\n",
    "    test_data = df_three_col[df_three_col[\"uu_id\"].isin([cur_uu_id]) ]\n",
    "    x_train = np.array(test_data[\"week_number\"].values).reshape(-1, 1)\n",
    "    y_train = np.array(test_data[\"total_claims\"].values) \n",
    "    reg.fit(x_train, y_train)\n",
    "    x_pred = np.array([39]).reshape(-1, 1)\n",
    "    y_pred = int(reg.predict(x_pred))\n",
    "    cur_row =  pd.DataFrame([[cur_uu_id, 39, y_pred]], columns=['uu_id', 'week_number', 'total_claims'] )\n",
    "    res = pd.concat([res,cur_row] ,ignore_index = True)"
   ]
  },
  {
   "cell_type": "code",
   "execution_count": null,
   "id": "c6b0d4df",
   "metadata": {
    "lines_to_next_cell": 2
   },
   "outputs": [],
   "source": [
    "res.to_csv(\"submission_prediction_output.csv\", index=False)"
   ]
  }
 ],
 "metadata": {
  "jupytext": {
   "cell_metadata_filter": "-all",
   "main_language": "python",
   "notebook_metadata_filter": "-all"
  }
 },
 "nbformat": 4,
 "nbformat_minor": 5
}
