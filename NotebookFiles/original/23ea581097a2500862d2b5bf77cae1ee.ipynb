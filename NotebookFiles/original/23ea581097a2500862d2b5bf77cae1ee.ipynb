{
 "cells": [
  {
   "cell_type": "code",
   "execution_count": null,
   "id": "7175daea",
   "metadata": {},
   "outputs": [],
   "source": [
    "query = \"\"\"\n",
    "SELECT *\n",
    "FROM `ironhacks-data.ironhacks_competition.unemployment_data`\n",
    "GROUP BY tract_name\n",
    "ORDER BY week_number \n",
    "\"\"\""
   ]
  },
  {
   "cell_type": "code",
   "execution_count": null,
   "id": "53ffb55c",
   "metadata": {},
   "outputs": [],
   "source": [
    "# QUERY THE DATA ONCE\n",
    "query_job = bigquery_client.query(query)\n",
    "unemployment_data = query_job.to_dataframe()\n",
    "unemployment_data.drop_duplicates(inplace = True)\n",
    "print(unemployment_data)"
   ]
  },
  {
   "cell_type": "code",
   "execution_count": null,
   "id": "bb8eef0a",
   "metadata": {},
   "outputs": [],
   "source": [
    "query = \"\"\"\n",
    "SELECT *\n",
    "FROM `ironhacks-data.ironhacks_competition.unemployment_data`\n",
    "GROUP BY tract_name\n",
    "ORDER BY week_number \n",
    "\"\"\""
   ]
  },
  {
   "cell_type": "code",
   "execution_count": null,
   "id": "e07194b0",
   "metadata": {},
   "outputs": [],
   "source": [
    "# QUERY THE DATA ONCE\n",
    "query_job = bigquery_client.query(query)\n",
    "unemployment_data = query_job.to_dataframe()\n",
    "unemployment_data.drop_duplicates(inplace = True)\n",
    "print(unemployment_data)"
   ]
  },
  {
   "cell_type": "code",
   "execution_count": null,
   "id": "4f6f880c",
   "metadata": {},
   "outputs": [],
   "source": [
    "import pandas as pd\n",
    "import numpy as np\n",
    "import matplotlib\n",
    "import matplotlib.pyplot as plt\n",
    "import seaborn as sns\n",
    "get_ipython().run_line_magic('matplotlib', 'inline')"
   ]
  },
  {
   "cell_type": "code",
   "execution_count": null,
   "id": "e789abfe",
   "metadata": {},
   "outputs": [],
   "source": [
    "import os\n",
    "import pandas\n",
    "from google.cloud import bigquery\n",
    "from google.oauth2 import service_account\n",
    "from google.cloud.bigquery import magics"
   ]
  },
  {
   "cell_type": "code",
   "execution_count": null,
   "id": "1b3b8a42",
   "metadata": {},
   "outputs": [],
   "source": [
    "BIGQUERY_PROJECT = 'ironhacks-data'\n",
    "bigquery_client = bigquery.Client(project=BIGQUERY_PROJECT)\n",
    "query = \"\"\"\n",
    "SELECT week_number, COUNT(total_claims) AS total_claims, COUNT(edu_8th_or_less) AS eigth, COUNT(edu_grades_9_11) AS nine_eleven, COUNT(edu_hs_grad_equiv) AS hs_diploma, COUNT(edu_post_hs) AS post_hs, COUNT(edu_unknown) AS edu_unknown, COUNT(gender_female) AS female, COUNT(gender_male) AS male, COUNT(gender_na) AS gender_na, COUNT(race_amerindian) AS american, COUNT(race_asian) AS asian, COUNT(race_black) AS black, COUNT(race_noanswer) AS r_noAns, COUNT(race_hawaiiannative) AS hawaii, COUNT(race_other) AS other, COUNT(race_white) AS white\n",
    "FROM `ironhacks-data.ironhacks_competition.unemployment_data`\n",
    "GROUP BY week_number\n",
    "ORDER BY week_number ASC\n",
    "\"\"\"\n",
    "#\n",
    "#SELECT week_number, COUNT(total_claims) AS total_claims, COUNT(edu_8th_or_less) AS 8th, COUNT(edu_grades_9_11) AS 9_11, COUNT(edu_hs_grad_equiv) AS hs_diploma, COUNT(edu_post_hs) AS post_hs, COUNT(edu_unknown) AS edu_unknown, COUNT(top_category_employer1) AS top_category_employer1, COUNT(top_category_employer2) AS top_category_employer2, COUNT(top_category_employer3) AS top_category_employer3, COUNT(gender_female) AS female, COUNT(gender_male) AS male, COUNT(gender_na) AS gender_na, COUNT(race_amerindian) AS american, COUNT(race_asian) AS asian, COUNT(race_black) AS black, COUNT(race_noanswer) AS r_noAns, COUNT(race_hawaiiannative) AS hawaii, COUNT(race_other) AS other, COUNT(race_white) AS white\n",
    "#GROUP BY week_number"
   ]
  },
  {
   "cell_type": "code",
   "execution_count": null,
   "id": "7781cefb",
   "metadata": {},
   "outputs": [],
   "source": [
    "# QUERY THE DATA ONCE\n",
    "query_job = bigquery_client.query(query)\n",
    "unemployment_data = query_job.to_dataframe()\n",
    "unemployment_data.drop_duplicates(inplace = True)\n",
    "#unemployment_data.plot(subplots=True, figsize=(20,24))\n",
    "cor_target = abs(cor[\"total_claims\"])\n",
    "relevant_features = cor_target[cor_target>0.9]\n",
    "print(relevant_features)"
   ]
  },
  {
   "cell_type": "code",
   "execution_count": null,
   "id": "a66f3aa2",
   "metadata": {
    "lines_to_next_cell": 2
   },
   "outputs": [],
   "source": [
    "query = \"\"\"\n",
    "SELECT \n",
    "FROM `ironhacks-data.ironhacks_competition.wage_data`\n",
    "\"\"\""
   ]
  },
  {
   "cell_type": "code",
   "execution_count": null,
   "id": "e87c5db7",
   "metadata": {},
   "outputs": [],
   "source": [
    "# QUERY THE DATA ONCE\n",
    "query_job = bigquery_client.query(query)\n",
    "wage_data = query_job.to_dataframe()\n",
    "print(wage_data)"
   ]
  },
  {
   "cell_type": "code",
   "execution_count": null,
   "id": "954558c6",
   "metadata": {
    "lines_to_next_cell": 2
   },
   "outputs": [],
   "source": [
    "query = \"\"\"\n",
    "SELECT *\n",
    "FROM `ironhacks-data.ironhacks_competition.wage_data`\n",
    "\"\"\""
   ]
  },
  {
   "cell_type": "code",
   "execution_count": null,
   "id": "46bff7d4",
   "metadata": {},
   "outputs": [],
   "source": [
    "# QUERY THE DATA ONCE\n",
    "query_job = bigquery_client.query(query)\n",
    "wage_data = query_job.to_dataframe()\n",
    "print(wage_data)"
   ]
  },
  {
   "cell_type": "code",
   "execution_count": null,
   "id": "931fb9f4",
   "metadata": {},
   "outputs": [],
   "source": [
    "import pandas as pd\n",
    "import numpy as np\n",
    "import matplotlib\n",
    "import matplotlib.pyplot as plt\n",
    "import seaborn as sns\n",
    "get_ipython().run_line_magic('matplotlib', 'inline')"
   ]
  },
  {
   "cell_type": "code",
   "execution_count": null,
   "id": "c87c8fe5",
   "metadata": {},
   "outputs": [],
   "source": [
    "import os\n",
    "import pandas\n",
    "from google.cloud import bigquery\n",
    "from google.oauth2 import service_account\n",
    "from google.cloud.bigquery import magics"
   ]
  },
  {
   "cell_type": "code",
   "execution_count": null,
   "id": "56e040bd",
   "metadata": {},
   "outputs": [],
   "source": [
    "BIGQUERY_PROJECT = 'ironhacks-data'\n",
    "bigquery_client = bigquery.Client(project=BIGQUERY_PROJECT)\n",
    "query = \"\"\"\n",
    "SELECT week_number, COUNT(total_claims) AS total_claims, COUNT(edu_8th_or_less) AS eigth, COUNT(edu_grades_9_11) AS nine_eleven, COUNT(edu_hs_grad_equiv) AS hs_diploma, COUNT(edu_post_hs) AS post_hs, COUNT(edu_unknown) AS edu_unknown, COUNT(gender_female) AS female, COUNT(gender_male) AS male, COUNT(gender_na) AS gender_na, COUNT(race_amerindian) AS american, COUNT(race_asian) AS asian, COUNT(race_black) AS black, COUNT(race_noanswer) AS r_noAns, COUNT(race_hawaiiannative) AS hawaii, COUNT(race_other) AS other, COUNT(race_white) AS white\n",
    "FROM `ironhacks-data.ironhacks_competition.unemployment_data`\n",
    "GROUP BY week_number\n",
    "ORDER BY week_number ASC\n",
    "\"\"\"\n",
    "#\n",
    "#SELECT week_number, COUNT(total_claims) AS total_claims, COUNT(edu_8th_or_less) AS 8th, COUNT(edu_grades_9_11) AS 9_11, COUNT(edu_hs_grad_equiv) AS hs_diploma, COUNT(edu_post_hs) AS post_hs, COUNT(edu_unknown) AS edu_unknown, COUNT(top_category_employer1) AS top_category_employer1, COUNT(top_category_employer2) AS top_category_employer2, COUNT(top_category_employer3) AS top_category_employer3, COUNT(gender_female) AS female, COUNT(gender_male) AS male, COUNT(gender_na) AS gender_na, COUNT(race_amerindian) AS american, COUNT(race_asian) AS asian, COUNT(race_black) AS black, COUNT(race_noanswer) AS r_noAns, COUNT(race_hawaiiannative) AS hawaii, COUNT(race_other) AS other, COUNT(race_white) AS white\n",
    "#GROUP BY week_number"
   ]
  },
  {
   "cell_type": "code",
   "execution_count": null,
   "id": "8c791e84",
   "metadata": {},
   "outputs": [],
   "source": [
    "# QUERY THE DATA ONCE\n",
    "query_job = bigquery_client.query(query)\n",
    "unemployment_data = query_job.to_dataframe()\n",
    "unemployment_data.drop_duplicates(inplace = True)\n",
    "#unemployment_data.plot(subplots=True, figsize=(20,24))"
   ]
  },
  {
   "cell_type": "code",
   "execution_count": null,
   "id": "6b5e31e6",
   "metadata": {},
   "outputs": [],
   "source": [
    "print(relevant_features)"
   ]
  },
  {
   "cell_type": "code",
   "execution_count": null,
   "id": "87337865",
   "metadata": {},
   "outputs": [],
   "source": [
    "query = \"\"\"\n",
    "SELECT week_number,tract_name, COUNT(total_claims) AS total_claims \n",
    "FROM `ironhacks-data.ironhacks_competition.unemployment_data`\n",
    "GROUP BY tract_name\n",
    "ORDER BY week_number \n",
    "\"\"\""
   ]
  },
  {
   "cell_type": "code",
   "execution_count": null,
   "id": "87927bee",
   "metadata": {},
   "outputs": [],
   "source": [
    "# QUERY THE DATA ONCE\n",
    "query_job = bigquery_client.query(query)\n",
    "unemployment_data = query_job.to_dataframe()\n",
    "unemployment_data.drop_duplicates(inplace = True)\n",
    "print(unemployment_data)"
   ]
  },
  {
   "cell_type": "code",
   "execution_count": null,
   "id": "8eb819a8",
   "metadata": {},
   "outputs": [],
   "source": [
    "import pandas as pd\n",
    "import numpy as np\n",
    "import matplotlib\n",
    "import matplotlib.pyplot as plt\n",
    "import seaborn as sns\n",
    "get_ipython().run_line_magic('matplotlib', 'inline')"
   ]
  },
  {
   "cell_type": "code",
   "execution_count": null,
   "id": "abad67d8",
   "metadata": {},
   "outputs": [],
   "source": [
    "import os\n",
    "import pandas\n",
    "from google.cloud import bigquery\n",
    "from google.oauth2 import service_account\n",
    "from google.cloud.bigquery import magics"
   ]
  },
  {
   "cell_type": "code",
   "execution_count": null,
   "id": "7a661593",
   "metadata": {},
   "outputs": [],
   "source": [
    "BIGQUERY_PROJECT = 'ironhacks-data'\n",
    "bigquery_client = bigquery.Client(project=BIGQUERY_PROJECT)\n",
    "query = \"\"\"\n",
    "SELECT week_number, COUNT(total_claims) AS total_claims, COUNT(edu_8th_or_less) AS eigth, COUNT(edu_grades_9_11) AS nine_eleven, COUNT(edu_hs_grad_equiv) AS hs_diploma, COUNT(edu_post_hs) AS post_hs, COUNT(edu_unknown) AS edu_unknown, COUNT(gender_female) AS female, COUNT(gender_male) AS male, COUNT(gender_na) AS gender_na, COUNT(race_amerindian) AS american, COUNT(race_asian) AS asian, COUNT(race_black) AS black, COUNT(race_noanswer) AS r_noAns, COUNT(race_hawaiiannative) AS hawaii, COUNT(race_other) AS other, COUNT(race_white) AS white\n",
    "FROM `ironhacks-data.ironhacks_competition.unemployment_data`\n",
    "GROUP BY week_number\n",
    "ORDER BY week_number ASC\n",
    "\"\"\"\n",
    "#\n",
    "#SELECT week_number, COUNT(total_claims) AS total_claims, COUNT(edu_8th_or_less) AS 8th, COUNT(edu_grades_9_11) AS 9_11, COUNT(edu_hs_grad_equiv) AS hs_diploma, COUNT(edu_post_hs) AS post_hs, COUNT(edu_unknown) AS edu_unknown, COUNT(top_category_employer1) AS top_category_employer1, COUNT(top_category_employer2) AS top_category_employer2, COUNT(top_category_employer3) AS top_category_employer3, COUNT(gender_female) AS female, COUNT(gender_male) AS male, COUNT(gender_na) AS gender_na, COUNT(race_amerindian) AS american, COUNT(race_asian) AS asian, COUNT(race_black) AS black, COUNT(race_noanswer) AS r_noAns, COUNT(race_hawaiiannative) AS hawaii, COUNT(race_other) AS other, COUNT(race_white) AS white\n",
    "#GROUP BY week_number"
   ]
  },
  {
   "cell_type": "code",
   "execution_count": null,
   "id": "71dc532c",
   "metadata": {},
   "outputs": [],
   "source": [
    "# QUERY THE DATA ONCE\n",
    "query_job = bigquery_client.query(query)\n",
    "unemployment_data = query_job.to_dataframe()\n",
    "unemployment_data.drop_duplicates(inplace = True)\n",
    "#unemployment_data.plot(subplots=True, figsize=(20,24))"
   ]
  },
  {
   "cell_type": "code",
   "execution_count": null,
   "id": "b0f168bb",
   "metadata": {},
   "outputs": [],
   "source": [
    "import pandas as pd\n",
    "import numpy as np\n",
    "import matplotlib\n",
    "import matplotlib.pyplot as plt\n",
    "import seaborn as sns\n",
    "get_ipython().run_line_magic('matplotlib', 'inline')"
   ]
  },
  {
   "cell_type": "code",
   "execution_count": null,
   "id": "dcfd8b71",
   "metadata": {},
   "outputs": [],
   "source": [
    "import os\n",
    "import pandas\n",
    "from google.cloud import bigquery\n",
    "from google.oauth2 import service_account\n",
    "from google.cloud.bigquery import magics"
   ]
  },
  {
   "cell_type": "code",
   "execution_count": null,
   "id": "5867d2a9",
   "metadata": {},
   "outputs": [],
   "source": [
    "BIGQUERY_PROJECT = 'ironhacks-data'\n",
    "bigquery_client = bigquery.Client(project=BIGQUERY_PROJECT)\n",
    "query = \"\"\"\n",
    "SELECT week_number, COUNT(total_claims) AS total_claims, COUNT(edu_8th_or_less) AS eigth, COUNT(edu_grades_9_11) AS nine_eleven, COUNT(edu_hs_grad_equiv) AS hs_diploma, COUNT(edu_post_hs) AS post_hs, COUNT(edu_unknown) AS edu_unknown, COUNT(gender_female) AS female, COUNT(gender_male) AS male, COUNT(gender_na) AS gender_na, COUNT(race_amerindian) AS american, COUNT(race_asian) AS asian, COUNT(race_black) AS black, COUNT(race_noanswer) AS r_noAns, COUNT(race_hawaiiannative) AS hawaii, COUNT(race_other) AS other, COUNT(race_white) AS white\n",
    "FROM `ironhacks-data.ironhacks_competition.unemployment_data`\n",
    "GROUP BY week_number\n",
    "ORDER BY week_number ASC\n",
    "\"\"\"\n",
    "#\n",
    "#SELECT week_number, COUNT(total_claims) AS total_claims, COUNT(edu_8th_or_less) AS 8th, COUNT(edu_grades_9_11) AS 9_11, COUNT(edu_hs_grad_equiv) AS hs_diploma, COUNT(edu_post_hs) AS post_hs, COUNT(edu_unknown) AS edu_unknown, COUNT(top_category_employer1) AS top_category_employer1, COUNT(top_category_employer2) AS top_category_employer2, COUNT(top_category_employer3) AS top_category_employer3, COUNT(gender_female) AS female, COUNT(gender_male) AS male, COUNT(gender_na) AS gender_na, COUNT(race_amerindian) AS american, COUNT(race_asian) AS asian, COUNT(race_black) AS black, COUNT(race_noanswer) AS r_noAns, COUNT(race_hawaiiannative) AS hawaii, COUNT(race_other) AS other, COUNT(race_white) AS white\n",
    "#GROUP BY week_number"
   ]
  },
  {
   "cell_type": "code",
   "execution_count": null,
   "id": "6fd4d33c",
   "metadata": {},
   "outputs": [],
   "source": [
    "# QUERY THE DATA ONCE\n",
    "query_job = bigquery_client.query(query)\n",
    "unemployment_data = query_job.to_dataframe()\n",
    "unemployment_data.drop_duplicates(inplace = True)\n",
    "#unemployment_data.plot(subplots=True, figsize=(20,24))"
   ]
  },
  {
   "cell_type": "code",
   "execution_count": null,
   "id": "686ee44b",
   "metadata": {},
   "outputs": [],
   "source": [
    "print(unemployment_data)"
   ]
  },
  {
   "cell_type": "code",
   "execution_count": null,
   "id": "9faac034",
   "metadata": {},
   "outputs": [],
   "source": [
    "query = \"\"\"\n",
    "SELECT week_number,tract_name, COUNT(total_claims) AS total_claims \n",
    "FROM `ironhacks-data.ironhacks_competition.unemployment_data`\n",
    "GROUP BY tract_name\n",
    "ORDER BY week_number \n",
    "\"\"\""
   ]
  },
  {
   "cell_type": "code",
   "execution_count": null,
   "id": "dcfc2d06",
   "metadata": {},
   "outputs": [],
   "source": [
    "# QUERY THE DATA ONCE\n",
    "query_job = bigquery_client.query(query)\n",
    "unemployment_data = query_job.to_dataframe()\n",
    "unemployment_data.drop_duplicates(inplace = True)\n",
    "print(unemployment_data)"
   ]
  },
  {
   "cell_type": "code",
   "execution_count": null,
   "id": "12e13f28",
   "metadata": {},
   "outputs": [],
   "source": [
    "import pandas as pd\n",
    "import numpy as np\n",
    "import matplotlib\n",
    "import matplotlib.pyplot as plt\n",
    "import seaborn as sns\n",
    "get_ipython().run_line_magic('matplotlib', 'inline')"
   ]
  },
  {
   "cell_type": "code",
   "execution_count": null,
   "id": "2d240241",
   "metadata": {},
   "outputs": [],
   "source": [
    "import os\n",
    "import pandas\n",
    "from google.cloud import bigquery\n",
    "from google.oauth2 import service_account\n",
    "from google.cloud.bigquery import magics"
   ]
  },
  {
   "cell_type": "code",
   "execution_count": null,
   "id": "53361028",
   "metadata": {},
   "outputs": [],
   "source": [
    "BIGQUERY_PROJECT = 'ironhacks-data'\n",
    "bigquery_client = bigquery.Client(project=BIGQUERY_PROJECT)\n",
    "query = \"\"\"\n",
    "SELECT week_number,tract_name, COUNT(total_claims) AS total_claims \n",
    "FROM `ironhacks-data.ironhacks_competition.unemployment_data`\n",
    "GROUP BY tract_name\n",
    "ORDER BY week_number \n",
    "\"\"\"\n",
    "#\n",
    "#SELECT week_number, COUNT(total_claims) AS total_claims, COUNT(edu_8th_or_less) AS 8th, COUNT(edu_grades_9_11) AS 9_11, COUNT(edu_hs_grad_equiv) AS hs_diploma, COUNT(edu_post_hs) AS post_hs, COUNT(edu_unknown) AS edu_unknown, COUNT(top_category_employer1) AS top_category_employer1, COUNT(top_category_employer2) AS top_category_employer2, COUNT(top_category_employer3) AS top_category_employer3, COUNT(gender_female) AS female, COUNT(gender_male) AS male, COUNT(gender_na) AS gender_na, COUNT(race_amerindian) AS american, COUNT(race_asian) AS asian, COUNT(race_black) AS black, COUNT(race_noanswer) AS r_noAns, COUNT(race_hawaiiannative) AS hawaii, COUNT(race_other) AS other, COUNT(race_white) AS white\n",
    "#GROUP BY week_number"
   ]
  },
  {
   "cell_type": "code",
   "execution_count": null,
   "id": "b68a4900",
   "metadata": {},
   "outputs": [],
   "source": [
    "# QUERY THE DATA ONCE\n",
    "query_job = bigquery_client.query(query)\n",
    "unemployment_data = query_job.to_dataframe()\n",
    "unemployment_data.drop_duplicates(inplace = True)\n",
    "#unemployment_data.plot(subplots=True, figsize=(20,24))"
   ]
  },
  {
   "cell_type": "code",
   "execution_count": null,
   "id": "63679a43",
   "metadata": {},
   "outputs": [],
   "source": [
    "print(unemployment_data)"
   ]
  },
  {
   "cell_type": "code",
   "execution_count": null,
   "id": "b3903240",
   "metadata": {},
   "outputs": [],
   "source": [
    "import pandas as pd\n",
    "import numpy as np\n",
    "import matplotlib\n",
    "import matplotlib.pyplot as plt\n",
    "import seaborn as sns\n",
    "get_ipython().run_line_magic('matplotlib', 'inline')"
   ]
  },
  {
   "cell_type": "code",
   "execution_count": null,
   "id": "bc572179",
   "metadata": {},
   "outputs": [],
   "source": [
    "import os\n",
    "import pandas\n",
    "from google.cloud import bigquery\n",
    "from google.oauth2 import service_account\n",
    "from google.cloud.bigquery import magics"
   ]
  },
  {
   "cell_type": "code",
   "execution_count": null,
   "id": "201201e9",
   "metadata": {},
   "outputs": [],
   "source": [
    "BIGQUERY_PROJECT = 'ironhacks-data'\n",
    "bigquery_client = bigquery.Client(project=BIGQUERY_PROJECT)\n",
    "query = \"\"\"\n",
    "SELECT * \n",
    "FROM `ironhacks-data.ironhacks_competition.unemployment_data`\n",
    "\n",
    "ORDER BY week_number \n",
    "\"\"\"\n",
    "#GROUP BY tract_name\n",
    "#SELECT week_number, COUNT(total_claims) AS total_claims, COUNT(edu_8th_or_less) AS 8th, COUNT(edu_grades_9_11) AS 9_11, COUNT(edu_hs_grad_equiv) AS hs_diploma, COUNT(edu_post_hs) AS post_hs, COUNT(edu_unknown) AS edu_unknown, COUNT(top_category_employer1) AS top_category_employer1, COUNT(top_category_employer2) AS top_category_employer2, COUNT(top_category_employer3) AS top_category_employer3, COUNT(gender_female) AS female, COUNT(gender_male) AS male, COUNT(gender_na) AS gender_na, COUNT(race_amerindian) AS american, COUNT(race_asian) AS asian, COUNT(race_black) AS black, COUNT(race_noanswer) AS r_noAns, COUNT(race_hawaiiannative) AS hawaii, COUNT(race_other) AS other, COUNT(race_white) AS white\n",
    "#GROUP BY week_number"
   ]
  },
  {
   "cell_type": "code",
   "execution_count": null,
   "id": "4223e904",
   "metadata": {},
   "outputs": [],
   "source": [
    "# QUERY THE DATA ONCE\n",
    "query_job = bigquery_client.query(query)\n",
    "unemployment_data = query_job.to_dataframe()\n",
    "unemployment_data.drop_duplicates(inplace = True)\n",
    "#unemployment_data.plot(subplots=True, figsize=(20,24))"
   ]
  },
  {
   "cell_type": "code",
   "execution_count": null,
   "id": "c41ab7bf",
   "metadata": {},
   "outputs": [],
   "source": [
    "print(unemployment_data)"
   ]
  },
  {
   "cell_type": "code",
   "execution_count": null,
   "id": "a6e13225",
   "metadata": {},
   "outputs": [],
   "source": [
    "import pandas as pd\n",
    "import numpy as np\n",
    "import matplotlib\n",
    "import matplotlib.pyplot as plt\n",
    "import seaborn as sns\n",
    "get_ipython().run_line_magic('matplotlib', 'inline')"
   ]
  },
  {
   "cell_type": "code",
   "execution_count": null,
   "id": "25fa7274",
   "metadata": {},
   "outputs": [],
   "source": [
    "import os\n",
    "import pandas\n",
    "from google.cloud import bigquery\n",
    "from google.oauth2 import service_account\n",
    "from google.cloud.bigquery import magics"
   ]
  },
  {
   "cell_type": "code",
   "execution_count": null,
   "id": "bc17e094",
   "metadata": {},
   "outputs": [],
   "source": [
    "BIGQUERY_PROJECT = 'ironhacks-data'\n",
    "bigquery_client = bigquery.Client(project=BIGQUERY_PROJECT)\n",
    "query = \"\"\"\n",
    "SELECT week_number,tract_name, COUNT(total_claims) AS total_claims\n",
    "FROM `ironhacks-data.ironhacks_competition.unemployment_data`\n",
    "\n",
    "ORDER BY week_number \n",
    "\"\"\"\n",
    "#GROUP BY tract_name\n",
    "#SELECT week_number, COUNT(total_claims) AS total_claims, COUNT(edu_8th_or_less) AS 8th, COUNT(edu_grades_9_11) AS 9_11, COUNT(edu_hs_grad_equiv) AS hs_diploma, COUNT(edu_post_hs) AS post_hs, COUNT(edu_unknown) AS edu_unknown, COUNT(top_category_employer1) AS top_category_employer1, COUNT(top_category_employer2) AS top_category_employer2, COUNT(top_category_employer3) AS top_category_employer3, COUNT(gender_female) AS female, COUNT(gender_male) AS male, COUNT(gender_na) AS gender_na, COUNT(race_amerindian) AS american, COUNT(race_asian) AS asian, COUNT(race_black) AS black, COUNT(race_noanswer) AS r_noAns, COUNT(race_hawaiiannative) AS hawaii, COUNT(race_other) AS other, COUNT(race_white) AS white\n",
    "#GROUP BY week_number"
   ]
  },
  {
   "cell_type": "code",
   "execution_count": null,
   "id": "3f9effe7",
   "metadata": {},
   "outputs": [],
   "source": [
    "# QUERY THE DATA ONCE\n",
    "query_job = bigquery_client.query(query)\n",
    "unemployment_data = query_job.to_dataframe()\n",
    "unemployment_data.drop_duplicates(inplace = True)\n",
    "#unemployment_data.plot(subplots=True, figsize=(20,24))"
   ]
  },
  {
   "cell_type": "code",
   "execution_count": null,
   "id": "f86f0561",
   "metadata": {},
   "outputs": [],
   "source": [
    "print(unemployment_data)"
   ]
  },
  {
   "cell_type": "code",
   "execution_count": null,
   "id": "3495f82d",
   "metadata": {},
   "outputs": [],
   "source": [
    "import pandas as pd\n",
    "import numpy as np\n",
    "import matplotlib\n",
    "import matplotlib.pyplot as plt\n",
    "import seaborn as sns\n",
    "get_ipython().run_line_magic('matplotlib', 'inline')"
   ]
  },
  {
   "cell_type": "code",
   "execution_count": null,
   "id": "c20c9d64",
   "metadata": {},
   "outputs": [],
   "source": [
    "import os\n",
    "import pandas\n",
    "from google.cloud import bigquery\n",
    "from google.oauth2 import service_account\n",
    "from google.cloud.bigquery import magics"
   ]
  },
  {
   "cell_type": "code",
   "execution_count": null,
   "id": "19e0f2dc",
   "metadata": {},
   "outputs": [],
   "source": [
    "BIGQUERY_PROJECT = 'ironhacks-data'\n",
    "bigquery_client = bigquery.Client(project=BIGQUERY_PROJECT)\n",
    "query = \"\"\"\n",
    "SELECT week_number,tract_name , COUNT(total_claims) AS total_claims\n",
    "FROM `ironhacks-data.ironhacks_competition.unemployment_data`\n",
    "\n",
    "ORDER BY week_number \n",
    "\"\"\"\n",
    "#GROUP BY tract_name\n",
    "#SELECT week_number, COUNT(total_claims) AS total_claims, COUNT(edu_8th_or_less) AS 8th, COUNT(edu_grades_9_11) AS 9_11, COUNT(edu_hs_grad_equiv) AS hs_diploma, COUNT(edu_post_hs) AS post_hs, COUNT(edu_unknown) AS edu_unknown, COUNT(top_category_employer1) AS top_category_employer1, COUNT(top_category_employer2) AS top_category_employer2, COUNT(top_category_employer3) AS top_category_employer3, COUNT(gender_female) AS female, COUNT(gender_male) AS male, COUNT(gender_na) AS gender_na, COUNT(race_amerindian) AS american, COUNT(race_asian) AS asian, COUNT(race_black) AS black, COUNT(race_noanswer) AS r_noAns, COUNT(race_hawaiiannative) AS hawaii, COUNT(race_other) AS other, COUNT(race_white) AS white\n",
    "#GROUP BY week_number"
   ]
  },
  {
   "cell_type": "code",
   "execution_count": null,
   "id": "ded2f70c",
   "metadata": {},
   "outputs": [],
   "source": [
    "# QUERY THE DATA ONCE\n",
    "query_job = bigquery_client.query(query)\n",
    "unemployment_data = query_job.to_dataframe()\n",
    "unemployment_data.drop_duplicates(inplace = True)\n",
    "#unemployment_data.plot(subplots=True, figsize=(20,24))"
   ]
  },
  {
   "cell_type": "code",
   "execution_count": null,
   "id": "f17ad1a3",
   "metadata": {},
   "outputs": [],
   "source": [
    "print(unemployment_data)"
   ]
  },
  {
   "cell_type": "code",
   "execution_count": null,
   "id": "eefaa10a",
   "metadata": {},
   "outputs": [],
   "source": [
    "import pandas as pd\n",
    "import numpy as np\n",
    "import matplotlib\n",
    "import matplotlib.pyplot as plt\n",
    "import seaborn as sns\n",
    "get_ipython().run_line_magic('matplotlib', 'inline')"
   ]
  },
  {
   "cell_type": "code",
   "execution_count": null,
   "id": "43ca1ecd",
   "metadata": {},
   "outputs": [],
   "source": [
    "import os\n",
    "import pandas\n",
    "from google.cloud import bigquery\n",
    "from google.oauth2 import service_account\n",
    "from google.cloud.bigquery import magics"
   ]
  },
  {
   "cell_type": "code",
   "execution_count": null,
   "id": "9bf2af04",
   "metadata": {},
   "outputs": [],
   "source": [
    "BIGQUERY_PROJECT = 'ironhacks-data'\n",
    "bigquery_client = bigquery.Client(project=BIGQUERY_PROJECT)\n",
    "query = \"\"\"\n",
    "SELECT tract_name , COUNT(total_claims) AS total_claims\n",
    "FROM `ironhacks-data.ironhacks_competition.unemployment_data`\n",
    "\n",
    "ORDER BY week_number \n",
    "\"\"\"\n",
    "#GROUP BY tract_name\n",
    "#SELECT week_number, COUNT(total_claims) AS total_claims, COUNT(edu_8th_or_less) AS 8th, COUNT(edu_grades_9_11) AS 9_11, COUNT(edu_hs_grad_equiv) AS hs_diploma, COUNT(edu_post_hs) AS post_hs, COUNT(edu_unknown) AS edu_unknown, COUNT(top_category_employer1) AS top_category_employer1, COUNT(top_category_employer2) AS top_category_employer2, COUNT(top_category_employer3) AS top_category_employer3, COUNT(gender_female) AS female, COUNT(gender_male) AS male, COUNT(gender_na) AS gender_na, COUNT(race_amerindian) AS american, COUNT(race_asian) AS asian, COUNT(race_black) AS black, COUNT(race_noanswer) AS r_noAns, COUNT(race_hawaiiannative) AS hawaii, COUNT(race_other) AS other, COUNT(race_white) AS white\n",
    "#GROUP BY week_number"
   ]
  },
  {
   "cell_type": "code",
   "execution_count": null,
   "id": "490a83b0",
   "metadata": {},
   "outputs": [],
   "source": [
    "# QUERY THE DATA ONCE\n",
    "query_job = bigquery_client.query(query)\n",
    "unemployment_data = query_job.to_dataframe()\n",
    "unemployment_data.drop_duplicates(inplace = True)\n",
    "#unemployment_data.plot(subplots=True, figsize=(20,24))"
   ]
  },
  {
   "cell_type": "code",
   "execution_count": null,
   "id": "b2bec774",
   "metadata": {},
   "outputs": [],
   "source": [
    "print(unemployment_data)"
   ]
  },
  {
   "cell_type": "code",
   "execution_count": null,
   "id": "580ff16a",
   "metadata": {},
   "outputs": [],
   "source": [
    "import pandas as pd\n",
    "import numpy as np\n",
    "import matplotlib\n",
    "import matplotlib.pyplot as plt\n",
    "import seaborn as sns\n",
    "get_ipython().run_line_magic('matplotlib', 'inline')"
   ]
  },
  {
   "cell_type": "code",
   "execution_count": null,
   "id": "80979592",
   "metadata": {},
   "outputs": [],
   "source": [
    "import os\n",
    "import pandas\n",
    "from google.cloud import bigquery\n",
    "from google.oauth2 import service_account\n",
    "from google.cloud.bigquery import magics"
   ]
  },
  {
   "cell_type": "code",
   "execution_count": null,
   "id": "5da3cb5a",
   "metadata": {},
   "outputs": [],
   "source": [
    "BIGQUERY_PROJECT = 'ironhacks-data'\n",
    "bigquery_client = bigquery.Client(project=BIGQUERY_PROJECT)\n",
    "query = \"\"\"\n",
    "SELECT week_number,tract_name , COUNT(total_claims) AS total_claims\n",
    "FROM `ironhacks-data.ironhacks_competition.unemployment_data`\n",
    "ORDER BY week_number \n",
    "\"\"\""
   ]
  },
  {
   "cell_type": "markdown",
   "id": "9acb3436",
   "metadata": {},
   "source": [
    "GROUP BY tract_name\n",
    "SELECT week_number, COUNT(total_claims) AS total_claims, COUNT(edu_8th_or_less) AS 8th, COUNT(edu_grades_9_11) AS 9_11, COUNT(edu_hs_grad_equiv) AS hs_diploma, COUNT(edu_post_hs) AS post_hs, COUNT(edu_unknown) AS edu_unknown, COUNT(top_category_employer1) AS top_category_employer1, COUNT(top_category_employer2) AS top_category_employer2, COUNT(top_category_employer3) AS top_category_employer3, COUNT(gender_female) AS female, COUNT(gender_male) AS male, COUNT(gender_na) AS gender_na, COUNT(race_amerindian) AS american, COUNT(race_asian) AS asian, COUNT(race_black) AS black, COUNT(race_noanswer) AS r_noAns, COUNT(race_hawaiiannative) AS hawaii, COUNT(race_other) AS other, COUNT(race_white) AS white\n",
    "GROUP BY week_number"
   ]
  },
  {
   "cell_type": "code",
   "execution_count": null,
   "id": "552a5af2",
   "metadata": {},
   "outputs": [],
   "source": [
    "# QUERY THE DATA ONCE\n",
    "query_job = bigquery_client.query(query)\n",
    "unemployment_data = query_job.to_dataframe()\n",
    "unemployment_data.drop_duplicates(inplace = True)\n",
    "#unemployment_data.plot(subplots=True, figsize=(20,24))"
   ]
  },
  {
   "cell_type": "code",
   "execution_count": null,
   "id": "e8075bdc",
   "metadata": {},
   "outputs": [],
   "source": [
    "print(unemployment_data)"
   ]
  },
  {
   "cell_type": "code",
   "execution_count": null,
   "id": "1fd7d82d",
   "metadata": {},
   "outputs": [],
   "source": [
    "import pandas as pd\n",
    "import numpy as np\n",
    "import matplotlib\n",
    "import matplotlib.pyplot as plt\n",
    "import seaborn as sns\n",
    "get_ipython().run_line_magic('matplotlib', 'inline')"
   ]
  },
  {
   "cell_type": "code",
   "execution_count": null,
   "id": "c1b74cc6",
   "metadata": {},
   "outputs": [],
   "source": [
    "import os\n",
    "import pandas\n",
    "from google.cloud import bigquery\n",
    "from google.oauth2 import service_account\n",
    "from google.cloud.bigquery import magics"
   ]
  },
  {
   "cell_type": "code",
   "execution_count": null,
   "id": "1b92d22b",
   "metadata": {},
   "outputs": [],
   "source": [
    "BIGQUERY_PROJECT = 'ironhacks-data'\n",
    "bigquery_client = bigquery.Client(project=BIGQUERY_PROJECT)\n",
    "query = \"\"\"\n",
    "SELECT week_number,tract_name , COUNT(total_claims) AS total_claims\n",
    "FROM `ironhacks-data.ironhacks_competition.unemployment_data`\n",
    "\"\"\""
   ]
  },
  {
   "cell_type": "markdown",
   "id": "758df0b2",
   "metadata": {},
   "source": [
    "GROUP BY tract_name\n",
    "SELECT week_number, COUNT(total_claims) AS total_claims, COUNT(edu_8th_or_less) AS 8th, COUNT(edu_grades_9_11) AS 9_11, COUNT(edu_hs_grad_equiv) AS hs_diploma, COUNT(edu_post_hs) AS post_hs, COUNT(edu_unknown) AS edu_unknown, COUNT(top_category_employer1) AS top_category_employer1, COUNT(top_category_employer2) AS top_category_employer2, COUNT(top_category_employer3) AS top_category_employer3, COUNT(gender_female) AS female, COUNT(gender_male) AS male, COUNT(gender_na) AS gender_na, COUNT(race_amerindian) AS american, COUNT(race_asian) AS asian, COUNT(race_black) AS black, COUNT(race_noanswer) AS r_noAns, COUNT(race_hawaiiannative) AS hawaii, COUNT(race_other) AS other, COUNT(race_white) AS white\n",
    "GROUP BY week_number"
   ]
  },
  {
   "cell_type": "code",
   "execution_count": null,
   "id": "f48a79c9",
   "metadata": {},
   "outputs": [],
   "source": [
    "# QUERY THE DATA ONCE\n",
    "query_job = bigquery_client.query(query)\n",
    "unemployment_data = query_job.to_dataframe()\n",
    "unemployment_data.drop_duplicates(inplace = True)\n",
    "#unemployment_data.plot(subplots=True, figsize=(20,24))"
   ]
  },
  {
   "cell_type": "code",
   "execution_count": null,
   "id": "9bf2abc9",
   "metadata": {},
   "outputs": [],
   "source": [
    "print(unemployment_data)"
   ]
  },
  {
   "cell_type": "code",
   "execution_count": null,
   "id": "6cd72019",
   "metadata": {},
   "outputs": [],
   "source": [
    "import pandas as pd\n",
    "import numpy as np\n",
    "import matplotlib\n",
    "import matplotlib.pyplot as plt\n",
    "import seaborn as sns\n",
    "get_ipython().run_line_magic('matplotlib', 'inline')"
   ]
  },
  {
   "cell_type": "code",
   "execution_count": null,
   "id": "f11185c8",
   "metadata": {},
   "outputs": [],
   "source": [
    "import os\n",
    "import pandas\n",
    "from google.cloud import bigquery\n",
    "from google.oauth2 import service_account\n",
    "from google.cloud.bigquery import magics"
   ]
  },
  {
   "cell_type": "code",
   "execution_count": null,
   "id": "9dafd538",
   "metadata": {},
   "outputs": [],
   "source": [
    "BIGQUERY_PROJECT = 'ironhacks-data'\n",
    "bigquery_client = bigquery.Client(project=BIGQUERY_PROJECT)\n",
    "query = \"\"\"\n",
    "SELECT week_number, tract_name, COUNT(total_claims) AS total_claims\n",
    "FROM `ironhacks-data.ironhacks_competition.unemployment_data`\n",
    "ORDER BY week_number \n",
    "\"\"\""
   ]
  },
  {
   "cell_type": "markdown",
   "id": "12aa3a7f",
   "metadata": {},
   "source": [
    "GROUP BY tract_name\n",
    "SELECT week_number, COUNT(total_claims) AS total_claims, COUNT(edu_8th_or_less) AS 8th, COUNT(edu_grades_9_11) AS 9_11, COUNT(edu_hs_grad_equiv) AS hs_diploma, COUNT(edu_post_hs) AS post_hs, COUNT(edu_unknown) AS edu_unknown, COUNT(top_category_employer1) AS top_category_employer1, COUNT(top_category_employer2) AS top_category_employer2, COUNT(top_category_employer3) AS top_category_employer3, COUNT(gender_female) AS female, COUNT(gender_male) AS male, COUNT(gender_na) AS gender_na, COUNT(race_amerindian) AS american, COUNT(race_asian) AS asian, COUNT(race_black) AS black, COUNT(race_noanswer) AS r_noAns, COUNT(race_hawaiiannative) AS hawaii, COUNT(race_other) AS other, COUNT(race_white) AS white\n",
    "GROUP BY week_number"
   ]
  },
  {
   "cell_type": "code",
   "execution_count": null,
   "id": "2d16bf55",
   "metadata": {},
   "outputs": [],
   "source": [
    "# QUERY THE DATA ONCE\n",
    "query_job = bigquery_client.query(query)\n",
    "unemployment_data = query_job.to_dataframe()\n",
    "unemployment_data.drop_duplicates(inplace = True)\n",
    "#unemployment_data.plot(subplots=True, figsize=(20,24))"
   ]
  },
  {
   "cell_type": "code",
   "execution_count": null,
   "id": "eda6bb5d",
   "metadata": {},
   "outputs": [],
   "source": [
    "print(unemployment_data)"
   ]
  },
  {
   "cell_type": "code",
   "execution_count": null,
   "id": "5cabec2d",
   "metadata": {},
   "outputs": [],
   "source": [
    "import pandas as pd\n",
    "import numpy as np\n",
    "import matplotlib\n",
    "import matplotlib.pyplot as plt\n",
    "import seaborn as sns\n",
    "get_ipython().run_line_magic('matplotlib', 'inline')"
   ]
  },
  {
   "cell_type": "code",
   "execution_count": null,
   "id": "5b2dda47",
   "metadata": {},
   "outputs": [],
   "source": [
    "import os\n",
    "import pandas\n",
    "from google.cloud import bigquery\n",
    "from google.oauth2 import service_account\n",
    "from google.cloud.bigquery import magics"
   ]
  },
  {
   "cell_type": "code",
   "execution_count": null,
   "id": "4826f366",
   "metadata": {},
   "outputs": [],
   "source": [
    "BIGQUERY_PROJECT = 'ironhacks-data'\n",
    "bigquery_client = bigquery.Client(project=BIGQUERY_PROJECT)\n",
    "query = \"\"\"\n",
    "SELECT *\n",
    "FROM `ironhacks-data.ironhacks_competition.unemployment_data`\n",
    "ORDER BY week_number \n",
    "\"\"\""
   ]
  },
  {
   "cell_type": "markdown",
   "id": "4f0a7550",
   "metadata": {},
   "source": [
    "GROUP BY tract_name\n",
    "SELECT week_number, COUNT(total_claims) AS total_claims, COUNT(edu_8th_or_less) AS 8th, COUNT(edu_grades_9_11) AS 9_11, COUNT(edu_hs_grad_equiv) AS hs_diploma, COUNT(edu_post_hs) AS post_hs, COUNT(edu_unknown) AS edu_unknown, COUNT(top_category_employer1) AS top_category_employer1, COUNT(top_category_employer2) AS top_category_employer2, COUNT(top_category_employer3) AS top_category_employer3, COUNT(gender_female) AS female, COUNT(gender_male) AS male, COUNT(gender_na) AS gender_na, COUNT(race_amerindian) AS american, COUNT(race_asian) AS asian, COUNT(race_black) AS black, COUNT(race_noanswer) AS r_noAns, COUNT(race_hawaiiannative) AS hawaii, COUNT(race_other) AS other, COUNT(race_white) AS white\n",
    "GROUP BY week_number"
   ]
  },
  {
   "cell_type": "code",
   "execution_count": null,
   "id": "a4ff2a87",
   "metadata": {},
   "outputs": [],
   "source": [
    "# QUERY THE DATA ONCE\n",
    "query_job = bigquery_client.query(query)\n",
    "unemployment_data = query_job.to_dataframe()\n",
    "unemployment_data.drop_duplicates(inplace = True)\n",
    "#unemployment_data.plot(subplots=True, figsize=(20,24))"
   ]
  },
  {
   "cell_type": "code",
   "execution_count": null,
   "id": "1f1f8326",
   "metadata": {},
   "outputs": [],
   "source": [
    "print(unemployment_data)"
   ]
  },
  {
   "cell_type": "code",
   "execution_count": null,
   "id": "ba558f98",
   "metadata": {},
   "outputs": [],
   "source": [
    "import pandas as pd\n",
    "import numpy as np\n",
    "import matplotlib\n",
    "import matplotlib.pyplot as plt\n",
    "import seaborn as sns\n",
    "get_ipython().run_line_magic('matplotlib', 'inline')"
   ]
  },
  {
   "cell_type": "code",
   "execution_count": null,
   "id": "005d590b",
   "metadata": {},
   "outputs": [],
   "source": [
    "import os\n",
    "import pandas\n",
    "from google.cloud import bigquery\n",
    "from google.oauth2 import service_account\n",
    "from google.cloud.bigquery import magics"
   ]
  },
  {
   "cell_type": "code",
   "execution_count": null,
   "id": "e4814971",
   "metadata": {},
   "outputs": [],
   "source": [
    "BIGQUERY_PROJECT = 'ironhacks-data'\n",
    "bigquery_client = bigquery.Client(project=BIGQUERY_PROJECT)\n",
    "query = \"\"\"\n",
    "SELECT week_number\n",
    "FROM `ironhacks-data.ironhacks_competition.unemployment_data`\n",
    "ORDER BY week_number \n",
    "\"\"\""
   ]
  },
  {
   "cell_type": "markdown",
   "id": "d30d817e",
   "metadata": {},
   "source": [
    "GROUP BY tract_name\n",
    "SELECT week_number, COUNT(total_claims) AS total_claims, COUNT(edu_8th_or_less) AS 8th, COUNT(edu_grades_9_11) AS 9_11, COUNT(edu_hs_grad_equiv) AS hs_diploma, COUNT(edu_post_hs) AS post_hs, COUNT(edu_unknown) AS edu_unknown, COUNT(top_category_employer1) AS top_category_employer1, COUNT(top_category_employer2) AS top_category_employer2, COUNT(top_category_employer3) AS top_category_employer3, COUNT(gender_female) AS female, COUNT(gender_male) AS male, COUNT(gender_na) AS gender_na, COUNT(race_amerindian) AS american, COUNT(race_asian) AS asian, COUNT(race_black) AS black, COUNT(race_noanswer) AS r_noAns, COUNT(race_hawaiiannative) AS hawaii, COUNT(race_other) AS other, COUNT(race_white) AS white\n",
    "GROUP BY week_number"
   ]
  },
  {
   "cell_type": "code",
   "execution_count": null,
   "id": "6101715e",
   "metadata": {},
   "outputs": [],
   "source": [
    "# QUERY THE DATA ONCE\n",
    "query_job = bigquery_client.query(query)\n",
    "unemployment_data = query_job.to_dataframe()\n",
    "unemployment_data.drop_duplicates(inplace = True)\n",
    "#unemployment_data.plot(subplots=True, figsize=(20,24))"
   ]
  },
  {
   "cell_type": "code",
   "execution_count": null,
   "id": "bc25232c",
   "metadata": {},
   "outputs": [],
   "source": [
    "print(unemployment_data)"
   ]
  },
  {
   "cell_type": "code",
   "execution_count": null,
   "id": "8d6a49a7",
   "metadata": {},
   "outputs": [],
   "source": [
    "import pandas as pd\n",
    "import numpy as np\n",
    "import matplotlib\n",
    "import matplotlib.pyplot as plt\n",
    "import seaborn as sns\n",
    "get_ipython().run_line_magic('matplotlib', 'inline')"
   ]
  },
  {
   "cell_type": "code",
   "execution_count": null,
   "id": "027a09eb",
   "metadata": {},
   "outputs": [],
   "source": [
    "import os\n",
    "import pandas\n",
    "from google.cloud import bigquery\n",
    "from google.oauth2 import service_account\n",
    "from google.cloud.bigquery import magics"
   ]
  },
  {
   "cell_type": "code",
   "execution_count": null,
   "id": "3c1e8681",
   "metadata": {},
   "outputs": [],
   "source": [
    "BIGQUERY_PROJECT = 'ironhacks-data'\n",
    "bigquery_client = bigquery.Client(project=BIGQUERY_PROJECT)\n",
    "query = \"\"\"\n",
    "SELECT week_number, COUNT(total_claims) AS total_claims,\n",
    "FROM `ironhacks-data.ironhacks_competition.unemployment_data`\n",
    "ORDER BY week_number \n",
    "\"\"\""
   ]
  },
  {
   "cell_type": "markdown",
   "id": "799a732c",
   "metadata": {},
   "source": [
    "GROUP BY tract_name\n",
    "SELECT week_number, COUNT(total_claims) AS total_claims, COUNT(edu_8th_or_less) AS 8th, COUNT(edu_grades_9_11) AS 9_11, COUNT(edu_hs_grad_equiv) AS hs_diploma, COUNT(edu_post_hs) AS post_hs, COUNT(edu_unknown) AS edu_unknown, COUNT(top_category_employer1) AS top_category_employer1, COUNT(top_category_employer2) AS top_category_employer2, COUNT(top_category_employer3) AS top_category_employer3, COUNT(gender_female) AS female, COUNT(gender_male) AS male, COUNT(gender_na) AS gender_na, COUNT(race_amerindian) AS american, COUNT(race_asian) AS asian, COUNT(race_black) AS black, COUNT(race_noanswer) AS r_noAns, COUNT(race_hawaiiannative) AS hawaii, COUNT(race_other) AS other, COUNT(race_white) AS white\n",
    "GROUP BY week_number"
   ]
  },
  {
   "cell_type": "code",
   "execution_count": null,
   "id": "d95272cd",
   "metadata": {},
   "outputs": [],
   "source": [
    "# QUERY THE DATA ONCE\n",
    "query_job = bigquery_client.query(query)\n",
    "unemployment_data = query_job.to_dataframe()\n",
    "unemployment_data.drop_duplicates(inplace = True)\n",
    "#unemployment_data.plot(subplots=True, figsize=(20,24))"
   ]
  },
  {
   "cell_type": "code",
   "execution_count": null,
   "id": "2247e0d9",
   "metadata": {},
   "outputs": [],
   "source": [
    "print(unemployment_data)"
   ]
  },
  {
   "cell_type": "code",
   "execution_count": null,
   "id": "72616ee3",
   "metadata": {},
   "outputs": [],
   "source": [
    "import pandas as pd\n",
    "import numpy as np\n",
    "import matplotlib\n",
    "import matplotlib.pyplot as plt\n",
    "import seaborn as sns\n",
    "get_ipython().run_line_magic('matplotlib', 'inline')"
   ]
  },
  {
   "cell_type": "code",
   "execution_count": null,
   "id": "e96f51b2",
   "metadata": {},
   "outputs": [],
   "source": [
    "import os\n",
    "import pandas\n",
    "from google.cloud import bigquery\n",
    "from google.oauth2 import service_account\n",
    "from google.cloud.bigquery import magics"
   ]
  },
  {
   "cell_type": "code",
   "execution_count": null,
   "id": "0e19fb48",
   "metadata": {},
   "outputs": [],
   "source": [
    "BIGQUERY_PROJECT = 'ironhacks-data'\n",
    "bigquery_client = bigquery.Client(project=BIGQUERY_PROJECT)\n",
    "query = \"\"\"\n",
    "SELECT week_number, COUNT(total_claims) AS total_claims\n",
    "FROM `ironhacks-data.ironhacks_competition.unemployment_data`\n",
    "ORDER BY week_number \n",
    "\"\"\""
   ]
  },
  {
   "cell_type": "markdown",
   "id": "bf66c94f",
   "metadata": {},
   "source": [
    "GROUP BY tract_name\n",
    "SELECT week_number, COUNT(total_claims) AS total_claims, COUNT(edu_8th_or_less) AS 8th, COUNT(edu_grades_9_11) AS 9_11, COUNT(edu_hs_grad_equiv) AS hs_diploma, COUNT(edu_post_hs) AS post_hs, COUNT(edu_unknown) AS edu_unknown, COUNT(top_category_employer1) AS top_category_employer1, COUNT(top_category_employer2) AS top_category_employer2, COUNT(top_category_employer3) AS top_category_employer3, COUNT(gender_female) AS female, COUNT(gender_male) AS male, COUNT(gender_na) AS gender_na, COUNT(race_amerindian) AS american, COUNT(race_asian) AS asian, COUNT(race_black) AS black, COUNT(race_noanswer) AS r_noAns, COUNT(race_hawaiiannative) AS hawaii, COUNT(race_other) AS other, COUNT(race_white) AS white\n",
    "GROUP BY week_number"
   ]
  },
  {
   "cell_type": "code",
   "execution_count": null,
   "id": "e8949157",
   "metadata": {},
   "outputs": [],
   "source": [
    "# QUERY THE DATA ONCE\n",
    "query_job = bigquery_client.query(query)\n",
    "unemployment_data = query_job.to_dataframe()\n",
    "unemployment_data.drop_duplicates(inplace = True)\n",
    "#unemployment_data.plot(subplots=True, figsize=(20,24))"
   ]
  },
  {
   "cell_type": "code",
   "execution_count": null,
   "id": "7fa1d80f",
   "metadata": {},
   "outputs": [],
   "source": [
    "print(unemployment_data)"
   ]
  },
  {
   "cell_type": "code",
   "execution_count": null,
   "id": "152414b7",
   "metadata": {},
   "outputs": [],
   "source": [
    "import pandas as pd\n",
    "import numpy as np\n",
    "import matplotlib\n",
    "import matplotlib.pyplot as plt\n",
    "import seaborn as sns\n",
    "get_ipython().run_line_magic('matplotlib', 'inline')"
   ]
  },
  {
   "cell_type": "code",
   "execution_count": null,
   "id": "c864b4a6",
   "metadata": {},
   "outputs": [],
   "source": [
    "import os\n",
    "import pandas\n",
    "from google.cloud import bigquery\n",
    "from google.oauth2 import service_account\n",
    "from google.cloud.bigquery import magics"
   ]
  },
  {
   "cell_type": "code",
   "execution_count": null,
   "id": "d29d9515",
   "metadata": {},
   "outputs": [],
   "source": [
    "BIGQUERY_PROJECT = 'ironhacks-data'\n",
    "bigquery_client = bigquery.Client(project=BIGQUERY_PROJECT)\n",
    "query = \"\"\"\n",
    "SELECT week_number, COUNT(total_claims) AS total_claims\n",
    "FROM `ironhacks-data.ironhacks_competition.unemployment_data\n",
    "GROUP BY tract_name`\n",
    "ORDER BY week_number \n",
    "\"\"\""
   ]
  },
  {
   "cell_type": "markdown",
   "id": "e7630ef6",
   "metadata": {},
   "source": [
    "GROUP BY tract_name\n",
    "SELECT week_number, COUNT(total_claims) AS total_claims, COUNT(edu_8th_or_less) AS 8th, COUNT(edu_grades_9_11) AS 9_11, COUNT(edu_hs_grad_equiv) AS hs_diploma, COUNT(edu_post_hs) AS post_hs, COUNT(edu_unknown) AS edu_unknown, COUNT(top_category_employer1) AS top_category_employer1, COUNT(top_category_employer2) AS top_category_employer2, COUNT(top_category_employer3) AS top_category_employer3, COUNT(gender_female) AS female, COUNT(gender_male) AS male, COUNT(gender_na) AS gender_na, COUNT(race_amerindian) AS american, COUNT(race_asian) AS asian, COUNT(race_black) AS black, COUNT(race_noanswer) AS r_noAns, COUNT(race_hawaiiannative) AS hawaii, COUNT(race_other) AS other, COUNT(race_white) AS white\n",
    "GROUP BY week_number"
   ]
  },
  {
   "cell_type": "code",
   "execution_count": null,
   "id": "6f7a7ae9",
   "metadata": {},
   "outputs": [],
   "source": [
    "# QUERY THE DATA ONCE\n",
    "query_job = bigquery_client.query(query)\n",
    "unemployment_data = query_job.to_dataframe()\n",
    "unemployment_data.drop_duplicates(inplace = True)\n",
    "#unemployment_data.plot(subplots=True, figsize=(20,24))"
   ]
  },
  {
   "cell_type": "code",
   "execution_count": null,
   "id": "c062e828",
   "metadata": {},
   "outputs": [],
   "source": [
    "print(unemployment_data)"
   ]
  },
  {
   "cell_type": "code",
   "execution_count": null,
   "id": "a33c53de",
   "metadata": {},
   "outputs": [],
   "source": [
    "import pandas as pd\n",
    "import numpy as np\n",
    "import matplotlib\n",
    "import matplotlib.pyplot as plt\n",
    "import seaborn as sns\n",
    "get_ipython().run_line_magic('matplotlib', 'inline')"
   ]
  },
  {
   "cell_type": "code",
   "execution_count": null,
   "id": "d953d037",
   "metadata": {},
   "outputs": [],
   "source": [
    "import os\n",
    "import pandas\n",
    "from google.cloud import bigquery\n",
    "from google.oauth2 import service_account\n",
    "from google.cloud.bigquery import magics"
   ]
  },
  {
   "cell_type": "code",
   "execution_count": null,
   "id": "37a0630a",
   "metadata": {},
   "outputs": [],
   "source": [
    "BIGQUERY_PROJECT = 'ironhacks-data'\n",
    "bigquery_client = bigquery.Client(project=BIGQUERY_PROJECT)\n",
    "query = \"\"\"\n",
    "SELECT week_number, COUNT(total_claims) AS total_claims\n",
    "FROM `ironhacks-data.ironhacks_competition.unemployment_data\n",
    "GROUP BY tract_name\n",
    "ORDER BY week_number \n",
    "\"\"\""
   ]
  },
  {
   "cell_type": "markdown",
   "id": "9219d1a6",
   "metadata": {},
   "source": [
    "GROUP BY tract_name\n",
    "SELECT week_number, COUNT(total_claims) AS total_claims, COUNT(edu_8th_or_less) AS 8th, COUNT(edu_grades_9_11) AS 9_11, COUNT(edu_hs_grad_equiv) AS hs_diploma, COUNT(edu_post_hs) AS post_hs, COUNT(edu_unknown) AS edu_unknown, COUNT(top_category_employer1) AS top_category_employer1, COUNT(top_category_employer2) AS top_category_employer2, COUNT(top_category_employer3) AS top_category_employer3, COUNT(gender_female) AS female, COUNT(gender_male) AS male, COUNT(gender_na) AS gender_na, COUNT(race_amerindian) AS american, COUNT(race_asian) AS asian, COUNT(race_black) AS black, COUNT(race_noanswer) AS r_noAns, COUNT(race_hawaiiannative) AS hawaii, COUNT(race_other) AS other, COUNT(race_white) AS white\n",
    "GROUP BY week_number"
   ]
  },
  {
   "cell_type": "code",
   "execution_count": null,
   "id": "62c73d5a",
   "metadata": {},
   "outputs": [],
   "source": [
    "# QUERY THE DATA ONCE\n",
    "query_job = bigquery_client.query(query)\n",
    "unemployment_data = query_job.to_dataframe()\n",
    "unemployment_data.drop_duplicates(inplace = True)\n",
    "#unemployment_data.plot(subplots=True, figsize=(20,24))"
   ]
  },
  {
   "cell_type": "code",
   "execution_count": null,
   "id": "b72f7f9e",
   "metadata": {},
   "outputs": [],
   "source": [
    "print(unemployment_data)"
   ]
  },
  {
   "cell_type": "code",
   "execution_count": null,
   "id": "20538f8e",
   "metadata": {},
   "outputs": [],
   "source": [
    "import pandas as pd\n",
    "import numpy as np\n",
    "import matplotlib\n",
    "import matplotlib.pyplot as plt\n",
    "import seaborn as sns\n",
    "get_ipython().run_line_magic('matplotlib', 'inline')"
   ]
  },
  {
   "cell_type": "code",
   "execution_count": null,
   "id": "737ba788",
   "metadata": {},
   "outputs": [],
   "source": [
    "import os\n",
    "import pandas\n",
    "from google.cloud import bigquery\n",
    "from google.oauth2 import service_account\n",
    "from google.cloud.bigquery import magics"
   ]
  },
  {
   "cell_type": "code",
   "execution_count": null,
   "id": "282efff6",
   "metadata": {},
   "outputs": [],
   "source": [
    "BIGQUERY_PROJECT = 'ironhacks-data'\n",
    "bigquery_client = bigquery.Client(project=BIGQUERY_PROJECT)\n",
    "query = \"\"\"\n",
    "SELECT week_number, COUNT(total_claims) AS total_claims\n",
    "FROM `ironhacks-data.ironhacks_competition.unemployment_data'\n",
    "GROUP BY tract_name\n",
    "ORDER BY week_number \n",
    "\"\"\""
   ]
  },
  {
   "cell_type": "markdown",
   "id": "49513aca",
   "metadata": {},
   "source": [
    "GROUP BY tract_name\n",
    "SELECT week_number, COUNT(total_claims) AS total_claims, COUNT(edu_8th_or_less) AS 8th, COUNT(edu_grades_9_11) AS 9_11, COUNT(edu_hs_grad_equiv) AS hs_diploma, COUNT(edu_post_hs) AS post_hs, COUNT(edu_unknown) AS edu_unknown, COUNT(top_category_employer1) AS top_category_employer1, COUNT(top_category_employer2) AS top_category_employer2, COUNT(top_category_employer3) AS top_category_employer3, COUNT(gender_female) AS female, COUNT(gender_male) AS male, COUNT(gender_na) AS gender_na, COUNT(race_amerindian) AS american, COUNT(race_asian) AS asian, COUNT(race_black) AS black, COUNT(race_noanswer) AS r_noAns, COUNT(race_hawaiiannative) AS hawaii, COUNT(race_other) AS other, COUNT(race_white) AS white\n",
    "GROUP BY week_number"
   ]
  },
  {
   "cell_type": "code",
   "execution_count": null,
   "id": "cfcdc7d2",
   "metadata": {},
   "outputs": [],
   "source": [
    "# QUERY THE DATA ONCE\n",
    "query_job = bigquery_client.query(query)\n",
    "unemployment_data = query_job.to_dataframe()\n",
    "unemployment_data.drop_duplicates(inplace = True)\n",
    "#unemployment_data.plot(subplots=True, figsize=(20,24))"
   ]
  },
  {
   "cell_type": "code",
   "execution_count": null,
   "id": "f99415ec",
   "metadata": {},
   "outputs": [],
   "source": [
    "print(unemployment_data)"
   ]
  },
  {
   "cell_type": "code",
   "execution_count": null,
   "id": "b5119f40",
   "metadata": {},
   "outputs": [],
   "source": [
    "import pandas as pd\n",
    "import numpy as np\n",
    "import matplotlib\n",
    "import matplotlib.pyplot as plt\n",
    "import seaborn as sns\n",
    "get_ipython().run_line_magic('matplotlib', 'inline')"
   ]
  },
  {
   "cell_type": "code",
   "execution_count": null,
   "id": "9e1d709d",
   "metadata": {},
   "outputs": [],
   "source": [
    "import os\n",
    "import pandas\n",
    "from google.cloud import bigquery\n",
    "from google.oauth2 import service_account\n",
    "from google.cloud.bigquery import magics"
   ]
  },
  {
   "cell_type": "code",
   "execution_count": null,
   "id": "b86086fb",
   "metadata": {},
   "outputs": [],
   "source": [
    "BIGQUERY_PROJECT = 'ironhacks-data'\n",
    "bigquery_client = bigquery.Client(project=BIGQUERY_PROJECT)\n",
    "query = \"\"\"\n",
    "SELECT week_number, \n",
    "FROM `ironhacks-data.ironhacks_competition.unemployment_data'\n",
    "GROUP BY tract_name\n",
    "ORDER BY week_number \n",
    "\"\"\""
   ]
  },
  {
   "cell_type": "markdown",
   "id": "f9bb5d3f",
   "metadata": {},
   "source": [
    "GROUP BY tract_name\n",
    "SELECT week_number, COUNT(total_claims) AS total_claims, COUNT(edu_8th_or_less) AS 8th, COUNT(edu_grades_9_11) AS 9_11, COUNT(edu_hs_grad_equiv) AS hs_diploma, COUNT(edu_post_hs) AS post_hs, COUNT(edu_unknown) AS edu_unknown, COUNT(top_category_employer1) AS top_category_employer1, COUNT(top_category_employer2) AS top_category_employer2, COUNT(top_category_employer3) AS top_category_employer3, COUNT(gender_female) AS female, COUNT(gender_male) AS male, COUNT(gender_na) AS gender_na, COUNT(race_amerindian) AS american, COUNT(race_asian) AS asian, COUNT(race_black) AS black, COUNT(race_noanswer) AS r_noAns, COUNT(race_hawaiiannative) AS hawaii, COUNT(race_other) AS other, COUNT(race_white) AS white\n",
    "GROUP BY week_number"
   ]
  },
  {
   "cell_type": "code",
   "execution_count": null,
   "id": "a9f59cd2",
   "metadata": {},
   "outputs": [],
   "source": [
    "# QUERY THE DATA ONCE\n",
    "query_job = bigquery_client.query(query)\n",
    "unemployment_data = query_job.to_dataframe()\n",
    "unemployment_data.drop_duplicates(inplace = True)\n",
    "#unemployment_data.plot(subplots=True, figsize=(20,24))"
   ]
  },
  {
   "cell_type": "code",
   "execution_count": null,
   "id": "5281e30d",
   "metadata": {},
   "outputs": [],
   "source": [
    "print(unemployment_data)"
   ]
  },
  {
   "cell_type": "code",
   "execution_count": null,
   "id": "238e96c4",
   "metadata": {},
   "outputs": [],
   "source": [
    "import pandas as pd\n",
    "import numpy as np\n",
    "import matplotlib\n",
    "import matplotlib.pyplot as plt\n",
    "import seaborn as sns\n",
    "get_ipython().run_line_magic('matplotlib', 'inline')"
   ]
  },
  {
   "cell_type": "code",
   "execution_count": null,
   "id": "e5f853b1",
   "metadata": {},
   "outputs": [],
   "source": [
    "import os\n",
    "import pandas\n",
    "from google.cloud import bigquery\n",
    "from google.oauth2 import service_account\n",
    "from google.cloud.bigquery import magics"
   ]
  },
  {
   "cell_type": "code",
   "execution_count": null,
   "id": "6cbd5b57",
   "metadata": {},
   "outputs": [],
   "source": [
    "BIGQUERY_PROJECT = 'ironhacks-data'\n",
    "bigquery_client = bigquery.Client(project=BIGQUERY_PROJECT)\n",
    "query = \"\"\"\n",
    "SELECT week_number, \n",
    "FROM `ironhacks-data.ironhacks_competition.unemployment_data'\n",
    "\n",
    "ORDER BY week_number \n",
    "\"\"\""
   ]
  },
  {
   "cell_type": "markdown",
   "id": "1e3fccf1",
   "metadata": {},
   "source": [
    "GROUP BY tract_name\n",
    "SELECT week_number, COUNT(total_claims) AS total_claims, COUNT(edu_8th_or_less) AS 8th, COUNT(edu_grades_9_11) AS 9_11, COUNT(edu_hs_grad_equiv) AS hs_diploma, COUNT(edu_post_hs) AS post_hs, COUNT(edu_unknown) AS edu_unknown, COUNT(top_category_employer1) AS top_category_employer1, COUNT(top_category_employer2) AS top_category_employer2, COUNT(top_category_employer3) AS top_category_employer3, COUNT(gender_female) AS female, COUNT(gender_male) AS male, COUNT(gender_na) AS gender_na, COUNT(race_amerindian) AS american, COUNT(race_asian) AS asian, COUNT(race_black) AS black, COUNT(race_noanswer) AS r_noAns, COUNT(race_hawaiiannative) AS hawaii, COUNT(race_other) AS other, COUNT(race_white) AS white\n",
    "GROUP BY week_number"
   ]
  },
  {
   "cell_type": "code",
   "execution_count": null,
   "id": "2409a175",
   "metadata": {},
   "outputs": [],
   "source": [
    "# QUERY THE DATA ONCE\n",
    "query_job = bigquery_client.query(query)\n",
    "unemployment_data = query_job.to_dataframe()\n",
    "unemployment_data.drop_duplicates(inplace = True)\n",
    "#unemployment_data.plot(subplots=True, figsize=(20,24))"
   ]
  },
  {
   "cell_type": "code",
   "execution_count": null,
   "id": "24682e22",
   "metadata": {},
   "outputs": [],
   "source": [
    "print(unemployment_data)"
   ]
  },
  {
   "cell_type": "code",
   "execution_count": null,
   "id": "544156c4",
   "metadata": {},
   "outputs": [],
   "source": [
    "import pandas as pd\n",
    "import numpy as np\n",
    "import matplotlib\n",
    "import matplotlib.pyplot as plt\n",
    "import seaborn as sns\n",
    "get_ipython().run_line_magic('matplotlib', 'inline')"
   ]
  },
  {
   "cell_type": "code",
   "execution_count": null,
   "id": "4f32ec61",
   "metadata": {},
   "outputs": [],
   "source": [
    "import os\n",
    "import pandas\n",
    "from google.cloud import bigquery\n",
    "from google.oauth2 import service_account\n",
    "from google.cloud.bigquery import magics"
   ]
  },
  {
   "cell_type": "code",
   "execution_count": null,
   "id": "d93bcab1",
   "metadata": {},
   "outputs": [],
   "source": [
    "BIGQUERY_PROJECT = 'ironhacks-data'\n",
    "bigquery_client = bigquery.Client(project=BIGQUERY_PROJECT)\n",
    "query = \"\"\"\n",
    "SELECT week_number\n",
    "FROM `ironhacks-data.ironhacks_competition.unemployment_data'\n",
    "\n",
    "ORDER BY week_number \n",
    "\"\"\""
   ]
  },
  {
   "cell_type": "markdown",
   "id": "1f40a7f6",
   "metadata": {},
   "source": [
    "GROUP BY tract_name\n",
    "SELECT week_number, COUNT(total_claims) AS total_claims, COUNT(edu_8th_or_less) AS 8th, COUNT(edu_grades_9_11) AS 9_11, COUNT(edu_hs_grad_equiv) AS hs_diploma, COUNT(edu_post_hs) AS post_hs, COUNT(edu_unknown) AS edu_unknown, COUNT(top_category_employer1) AS top_category_employer1, COUNT(top_category_employer2) AS top_category_employer2, COUNT(top_category_employer3) AS top_category_employer3, COUNT(gender_female) AS female, COUNT(gender_male) AS male, COUNT(gender_na) AS gender_na, COUNT(race_amerindian) AS american, COUNT(race_asian) AS asian, COUNT(race_black) AS black, COUNT(race_noanswer) AS r_noAns, COUNT(race_hawaiiannative) AS hawaii, COUNT(race_other) AS other, COUNT(race_white) AS white\n",
    "GROUP BY week_number"
   ]
  },
  {
   "cell_type": "code",
   "execution_count": null,
   "id": "85065f4c",
   "metadata": {},
   "outputs": [],
   "source": [
    "# QUERY THE DATA ONCE\n",
    "query_job = bigquery_client.query(query)\n",
    "unemployment_data = query_job.to_dataframe()\n",
    "unemployment_data.drop_duplicates(inplace = True)\n",
    "#unemployment_data.plot(subplots=True, figsize=(20,24))"
   ]
  },
  {
   "cell_type": "code",
   "execution_count": null,
   "id": "00ead4a4",
   "metadata": {},
   "outputs": [],
   "source": [
    "print(unemployment_data)"
   ]
  },
  {
   "cell_type": "code",
   "execution_count": null,
   "id": "cb91ccfc",
   "metadata": {},
   "outputs": [],
   "source": [
    "import pandas as pd\n",
    "import numpy as np\n",
    "import matplotlib\n",
    "import matplotlib.pyplot as plt\n",
    "import seaborn as sns\n",
    "get_ipython().run_line_magic('matplotlib', 'inline')"
   ]
  },
  {
   "cell_type": "code",
   "execution_count": null,
   "id": "9e786bae",
   "metadata": {},
   "outputs": [],
   "source": [
    "import os\n",
    "import pandas\n",
    "from google.cloud import bigquery\n",
    "from google.oauth2 import service_account\n",
    "from google.cloud.bigquery import magics"
   ]
  },
  {
   "cell_type": "code",
   "execution_count": null,
   "id": "bfa2ed0c",
   "metadata": {},
   "outputs": [],
   "source": [
    "BIGQUERY_PROJECT = 'ironhacks-data'\n",
    "bigquery_client = bigquery.Client(project=BIGQUERY_PROJECT)\n",
    "query = \"\"\"\n",
    "SELECT *\n",
    "FROM `ironhacks-data.ironhacks_competition.unemployment_data'\n",
    "\n",
    "ORDER BY week_number \n",
    "\"\"\""
   ]
  },
  {
   "cell_type": "markdown",
   "id": "3f520def",
   "metadata": {},
   "source": [
    "GROUP BY tract_name\n",
    "SELECT week_number, COUNT(total_claims) AS total_claims, COUNT(edu_8th_or_less) AS 8th, COUNT(edu_grades_9_11) AS 9_11, COUNT(edu_hs_grad_equiv) AS hs_diploma, COUNT(edu_post_hs) AS post_hs, COUNT(edu_unknown) AS edu_unknown, COUNT(top_category_employer1) AS top_category_employer1, COUNT(top_category_employer2) AS top_category_employer2, COUNT(top_category_employer3) AS top_category_employer3, COUNT(gender_female) AS female, COUNT(gender_male) AS male, COUNT(gender_na) AS gender_na, COUNT(race_amerindian) AS american, COUNT(race_asian) AS asian, COUNT(race_black) AS black, COUNT(race_noanswer) AS r_noAns, COUNT(race_hawaiiannative) AS hawaii, COUNT(race_other) AS other, COUNT(race_white) AS white\n",
    "GROUP BY week_number"
   ]
  },
  {
   "cell_type": "code",
   "execution_count": null,
   "id": "e1c11c5a",
   "metadata": {},
   "outputs": [],
   "source": [
    "# QUERY THE DATA ONCE\n",
    "query_job = bigquery_client.query(query)\n",
    "unemployment_data = query_job.to_dataframe()\n",
    "unemployment_data.drop_duplicates(inplace = True)\n",
    "#unemployment_data.plot(subplots=True, figsize=(20,24))"
   ]
  },
  {
   "cell_type": "code",
   "execution_count": null,
   "id": "e32dcb61",
   "metadata": {},
   "outputs": [],
   "source": [
    "print(unemployment_data)"
   ]
  },
  {
   "cell_type": "code",
   "execution_count": null,
   "id": "8d7f3785",
   "metadata": {},
   "outputs": [],
   "source": [
    "import pandas as pd\n",
    "import numpy as np\n",
    "import matplotlib\n",
    "import matplotlib.pyplot as plt\n",
    "import seaborn as sns\n",
    "get_ipython().run_line_magic('matplotlib', 'inline')"
   ]
  },
  {
   "cell_type": "code",
   "execution_count": null,
   "id": "a97d1bb9",
   "metadata": {},
   "outputs": [],
   "source": [
    "import os\n",
    "import pandas\n",
    "from google.cloud import bigquery\n",
    "from google.oauth2 import service_account\n",
    "from google.cloud.bigquery import magics"
   ]
  },
  {
   "cell_type": "code",
   "execution_count": null,
   "id": "732e6157",
   "metadata": {},
   "outputs": [],
   "source": [
    "BIGQUERY_PROJECT = 'ironhacks-data'\n",
    "bigquery_client = bigquery.Client(project=BIGQUERY_PROJECT)\n",
    "query = \"\"\"\n",
    "SELECT *\n",
    "FROM `ironhacks-data.ironhacks_competition.unemployment_data'\n",
    "ORDER BY week_number \n",
    "\"\"\""
   ]
  },
  {
   "cell_type": "markdown",
   "id": "b1dc002c",
   "metadata": {},
   "source": [
    "GROUP BY tract_name\n",
    "SELECT week_number, COUNT(total_claims) AS total_claims, COUNT(edu_8th_or_less) AS 8th, COUNT(edu_grades_9_11) AS 9_11, COUNT(edu_hs_grad_equiv) AS hs_diploma, COUNT(edu_post_hs) AS post_hs, COUNT(edu_unknown) AS edu_unknown, COUNT(top_category_employer1) AS top_category_employer1, COUNT(top_category_employer2) AS top_category_employer2, COUNT(top_category_employer3) AS top_category_employer3, COUNT(gender_female) AS female, COUNT(gender_male) AS male, COUNT(gender_na) AS gender_na, COUNT(race_amerindian) AS american, COUNT(race_asian) AS asian, COUNT(race_black) AS black, COUNT(race_noanswer) AS r_noAns, COUNT(race_hawaiiannative) AS hawaii, COUNT(race_other) AS other, COUNT(race_white) AS white\n",
    "GROUP BY week_number"
   ]
  },
  {
   "cell_type": "code",
   "execution_count": null,
   "id": "2531a6f0",
   "metadata": {},
   "outputs": [],
   "source": [
    "# QUERY THE DATA ONCE\n",
    "query_job = bigquery_client.query(query)\n",
    "unemployment_data = query_job.to_dataframe()\n",
    "unemployment_data.drop_duplicates(inplace = True)\n",
    "#unemployment_data.plot(subplots=True, figsize=(20,24))"
   ]
  },
  {
   "cell_type": "code",
   "execution_count": null,
   "id": "2a76fefd",
   "metadata": {},
   "outputs": [],
   "source": [
    "print(unemployment_data)"
   ]
  },
  {
   "cell_type": "code",
   "execution_count": null,
   "id": "f9ee2859",
   "metadata": {},
   "outputs": [],
   "source": [
    "import pandas as pd\n",
    "import numpy as np\n",
    "import matplotlib\n",
    "import matplotlib.pyplot as plt\n",
    "import seaborn as sns\n",
    "get_ipython().run_line_magic('matplotlib', 'inline')"
   ]
  },
  {
   "cell_type": "code",
   "execution_count": null,
   "id": "ad936f04",
   "metadata": {},
   "outputs": [],
   "source": [
    "import os\n",
    "import pandas\n",
    "from google.cloud import bigquery\n",
    "from google.oauth2 import service_account\n",
    "from google.cloud.bigquery import magics"
   ]
  },
  {
   "cell_type": "code",
   "execution_count": null,
   "id": "e20bd97c",
   "metadata": {},
   "outputs": [],
   "source": [
    "BIGQUERY_PROJECT = 'ironhacks-data'\n",
    "bigquery_client = bigquery.Client(project=BIGQUERY_PROJECT)\n",
    "query = \"\"\"\n",
    "SELECT *\n",
    "FROM `ironhacks-data.ironhacks_competition.unemployment_data'\n",
    " \n",
    "\"\"\""
   ]
  },
  {
   "cell_type": "markdown",
   "id": "a76364d7",
   "metadata": {},
   "source": [
    "GROUP BY tract_name\n",
    "SELECT week_number, COUNT(total_claims) AS total_claims, COUNT(edu_8th_or_less) AS 8th, COUNT(edu_grades_9_11) AS 9_11, COUNT(edu_hs_grad_equiv) AS hs_diploma, COUNT(edu_post_hs) AS post_hs, COUNT(edu_unknown) AS edu_unknown, COUNT(top_category_employer1) AS top_category_employer1, COUNT(top_category_employer2) AS top_category_employer2, COUNT(top_category_employer3) AS top_category_employer3, COUNT(gender_female) AS female, COUNT(gender_male) AS male, COUNT(gender_na) AS gender_na, COUNT(race_amerindian) AS american, COUNT(race_asian) AS asian, COUNT(race_black) AS black, COUNT(race_noanswer) AS r_noAns, COUNT(race_hawaiiannative) AS hawaii, COUNT(race_other) AS other, COUNT(race_white) AS white\n",
    "GROUP BY week_number"
   ]
  },
  {
   "cell_type": "code",
   "execution_count": null,
   "id": "6ae80cec",
   "metadata": {},
   "outputs": [],
   "source": [
    "# QUERY THE DATA ONCE\n",
    "query_job = bigquery_client.query(query)\n",
    "unemployment_data = query_job.to_dataframe()\n",
    "unemployment_data.drop_duplicates(inplace = True)\n",
    "#unemployment_data.plot(subplots=True, figsize=(20,24))"
   ]
  },
  {
   "cell_type": "code",
   "execution_count": null,
   "id": "fbb72c75",
   "metadata": {},
   "outputs": [],
   "source": [
    "print(unemployment_data)"
   ]
  },
  {
   "cell_type": "code",
   "execution_count": null,
   "id": "18b0d555",
   "metadata": {},
   "outputs": [],
   "source": [
    "import pandas as pd\n",
    "import numpy as np\n",
    "import matplotlib\n",
    "import matplotlib.pyplot as plt\n",
    "import seaborn as sns\n",
    "get_ipython().run_line_magic('matplotlib', 'inline')"
   ]
  },
  {
   "cell_type": "code",
   "execution_count": null,
   "id": "72c474f0",
   "metadata": {},
   "outputs": [],
   "source": [
    "import os\n",
    "import pandas\n",
    "from google.cloud import bigquery\n",
    "from google.oauth2 import service_account\n",
    "from google.cloud.bigquery import magics"
   ]
  },
  {
   "cell_type": "code",
   "execution_count": null,
   "id": "5065079f",
   "metadata": {},
   "outputs": [],
   "source": [
    "BIGQUERY_PROJECT = 'ironhacks-data'\n",
    "bigquery_client = bigquery.Client(project=BIGQUERY_PROJECT)\n",
    "query = \"\"\"\n",
    "SELECT *\n",
    "FROM `ironhacks-data.ironhacks_competition.unemployment_data'\n",
    " \n",
    "\"\"\""
   ]
  },
  {
   "cell_type": "markdown",
   "id": "e0024925",
   "metadata": {},
   "source": [
    "GROUP BY tract_name\n",
    "SELECT week_number, COUNT(total_claims) AS total_claims, COUNT(edu_8th_or_less) AS 8th, COUNT(edu_grades_9_11) AS 9_11, COUNT(edu_hs_grad_equiv) AS hs_diploma, COUNT(edu_post_hs) AS post_hs, COUNT(edu_unknown) AS edu_unknown, COUNT(top_category_employer1) AS top_category_employer1, COUNT(top_category_employer2) AS top_category_employer2, COUNT(top_category_employer3) AS top_category_employer3, COUNT(gender_female) AS female, COUNT(gender_male) AS male, COUNT(gender_na) AS gender_na, COUNT(race_amerindian) AS american, COUNT(race_asian) AS asian, COUNT(race_black) AS black, COUNT(race_noanswer) AS r_noAns, COUNT(race_hawaiiannative) AS hawaii, COUNT(race_other) AS other, COUNT(race_white) AS white\n",
    "GROUP BY week_number"
   ]
  },
  {
   "cell_type": "code",
   "execution_count": null,
   "id": "db1ee328",
   "metadata": {},
   "outputs": [],
   "source": [
    "# QUERY THE DATA ONCE\n",
    "query_job = bigquery_client.query(query)\n",
    "unemployment_data = query_job.to_dataframe()\n",
    "unemployment_data.drop_duplicates(inplace = True)\n",
    "#unemployment_data.plot(subplots=True, figsize=(20,24))"
   ]
  },
  {
   "cell_type": "code",
   "execution_count": null,
   "id": "ab105f77",
   "metadata": {},
   "outputs": [],
   "source": [
    "print(unemployment_data)"
   ]
  },
  {
   "cell_type": "code",
   "execution_count": null,
   "id": "7f89ab69",
   "metadata": {},
   "outputs": [],
   "source": [
    "import pandas as pd\n",
    "import numpy as np\n",
    "import matplotlib\n",
    "import matplotlib.pyplot as plt\n",
    "import seaborn as sns\n",
    "get_ipython().run_line_magic('matplotlib', 'inline')"
   ]
  },
  {
   "cell_type": "code",
   "execution_count": null,
   "id": "a27f13fb",
   "metadata": {},
   "outputs": [],
   "source": [
    "import os\n",
    "import pandas\n",
    "from google.cloud import bigquery\n",
    "from google.oauth2 import service_account\n",
    "from google.cloud.bigquery import magics"
   ]
  },
  {
   "cell_type": "code",
   "execution_count": null,
   "id": "65d7c1c3",
   "metadata": {},
   "outputs": [],
   "source": [
    "BIGQUERY_PROJECT = 'ironhacks-data'\n",
    "bigquery_client = bigquery.Client(project=BIGQUERY_PROJECT)\n",
    "query = \"\"\"\n",
    "SELECT *\n",
    "FROM `ironhacks-data.ironhacks_competition.unemployment_data`\n",
    " \n",
    "\"\"\""
   ]
  },
  {
   "cell_type": "markdown",
   "id": "39616278",
   "metadata": {},
   "source": [
    "GROUP BY tract_name\n",
    "SELECT week_number, COUNT(total_claims) AS total_claims, COUNT(edu_8th_or_less) AS 8th, COUNT(edu_grades_9_11) AS 9_11, COUNT(edu_hs_grad_equiv) AS hs_diploma, COUNT(edu_post_hs) AS post_hs, COUNT(edu_unknown) AS edu_unknown, COUNT(top_category_employer1) AS top_category_employer1, COUNT(top_category_employer2) AS top_category_employer2, COUNT(top_category_employer3) AS top_category_employer3, COUNT(gender_female) AS female, COUNT(gender_male) AS male, COUNT(gender_na) AS gender_na, COUNT(race_amerindian) AS american, COUNT(race_asian) AS asian, COUNT(race_black) AS black, COUNT(race_noanswer) AS r_noAns, COUNT(race_hawaiiannative) AS hawaii, COUNT(race_other) AS other, COUNT(race_white) AS white\n",
    "GROUP BY week_number"
   ]
  },
  {
   "cell_type": "code",
   "execution_count": null,
   "id": "6ef14f76",
   "metadata": {},
   "outputs": [],
   "source": [
    "# QUERY THE DATA ONCE\n",
    "query_job = bigquery_client.query(query)\n",
    "unemployment_data = query_job.to_dataframe()\n",
    "unemployment_data.drop_duplicates(inplace = True)\n",
    "#unemployment_data.plot(subplots=True, figsize=(20,24))"
   ]
  },
  {
   "cell_type": "code",
   "execution_count": null,
   "id": "5ea5bee2",
   "metadata": {},
   "outputs": [],
   "source": [
    "print(unemployment_data)"
   ]
  },
  {
   "cell_type": "code",
   "execution_count": null,
   "id": "92fa34ef",
   "metadata": {},
   "outputs": [],
   "source": [
    "import pandas as pd\n",
    "import numpy as np\n",
    "import matplotlib\n",
    "import matplotlib.pyplot as plt\n",
    "import seaborn as sns\n",
    "get_ipython().run_line_magic('matplotlib', 'inline')"
   ]
  },
  {
   "cell_type": "code",
   "execution_count": null,
   "id": "597674b8",
   "metadata": {},
   "outputs": [],
   "source": [
    "import os\n",
    "import pandas\n",
    "from google.cloud import bigquery\n",
    "from google.oauth2 import service_account\n",
    "from google.cloud.bigquery import magics"
   ]
  },
  {
   "cell_type": "code",
   "execution_count": null,
   "id": "bc66dd82",
   "metadata": {},
   "outputs": [],
   "source": [
    "BIGQUERY_PROJECT = 'ironhacks-data'\n",
    "bigquery_client = bigquery.Client(project=BIGQUERY_PROJECT)\n",
    "query = \"\"\"\n",
    "SELECT week_number,tract_name, COUNT(total_claims) AS total_claims \n",
    "FROM `ironhacks-data.ironhacks_competition.unemployment_data`\n",
    "GROUP BY tract_name\n",
    "ORDER BY week_number\n",
    "\"\"\""
   ]
  },
  {
   "cell_type": "markdown",
   "id": "f40912a4",
   "metadata": {},
   "source": [
    "GROUP BY tract_name\n",
    "SELECT week_number, COUNT(total_claims) AS total_claims, COUNT(edu_8th_or_less) AS 8th, COUNT(edu_grades_9_11) AS 9_11, COUNT(edu_hs_grad_equiv) AS hs_diploma, COUNT(edu_post_hs) AS post_hs, COUNT(edu_unknown) AS edu_unknown, COUNT(top_category_employer1) AS top_category_employer1, COUNT(top_category_employer2) AS top_category_employer2, COUNT(top_category_employer3) AS top_category_employer3, COUNT(gender_female) AS female, COUNT(gender_male) AS male, COUNT(gender_na) AS gender_na, COUNT(race_amerindian) AS american, COUNT(race_asian) AS asian, COUNT(race_black) AS black, COUNT(race_noanswer) AS r_noAns, COUNT(race_hawaiiannative) AS hawaii, COUNT(race_other) AS other, COUNT(race_white) AS white\n",
    "GROUP BY week_number"
   ]
  },
  {
   "cell_type": "code",
   "execution_count": null,
   "id": "7812d96e",
   "metadata": {},
   "outputs": [],
   "source": [
    "# QUERY THE DATA ONCE\n",
    "query_job = bigquery_client.query(query)\n",
    "unemployment_data = query_job.to_dataframe()\n",
    "unemployment_data.drop_duplicates(inplace = True)\n",
    "#unemployment_data.plot(subplots=True, figsize=(20,24))"
   ]
  },
  {
   "cell_type": "code",
   "execution_count": null,
   "id": "53a6efbd",
   "metadata": {},
   "outputs": [],
   "source": [
    "print(unemployment_data)"
   ]
  },
  {
   "cell_type": "code",
   "execution_count": null,
   "id": "10174feb",
   "metadata": {},
   "outputs": [],
   "source": [
    "import pandas as pd\n",
    "import numpy as np\n",
    "import matplotlib\n",
    "import matplotlib.pyplot as plt\n",
    "import seaborn as sns\n",
    "get_ipython().run_line_magic('matplotlib', 'inline')"
   ]
  },
  {
   "cell_type": "code",
   "execution_count": null,
   "id": "4b7ee579",
   "metadata": {},
   "outputs": [],
   "source": [
    "import os\n",
    "import pandas\n",
    "from google.cloud import bigquery\n",
    "from google.oauth2 import service_account\n",
    "from google.cloud.bigquery import magics"
   ]
  },
  {
   "cell_type": "code",
   "execution_count": null,
   "id": "a63db9d3",
   "metadata": {},
   "outputs": [],
   "source": [
    "BIGQUERY_PROJECT = 'ironhacks-data'\n",
    "bigquery_client = bigquery.Client(project=BIGQUERY_PROJECT)\n",
    "query = \"\"\"\n",
    "SELECT week_number,tract_name, \n",
    "FROM `ironhacks-data.ironhacks_competition.unemployment_data`\n",
    "GROUP BY tract_name\n",
    "ORDER BY week_number\n",
    "\"\"\""
   ]
  },
  {
   "cell_type": "markdown",
   "id": "f958bcca",
   "metadata": {},
   "source": [
    "GROUP BY tract_name\n",
    "SELECT week_number, COUNT(total_claims) AS total_claims, COUNT(edu_8th_or_less) AS 8th, COUNT(edu_grades_9_11) AS 9_11, COUNT(edu_hs_grad_equiv) AS hs_diploma, COUNT(edu_post_hs) AS post_hs, COUNT(edu_unknown) AS edu_unknown, COUNT(top_category_employer1) AS top_category_employer1, COUNT(top_category_employer2) AS top_category_employer2, COUNT(top_category_employer3) AS top_category_employer3, COUNT(gender_female) AS female, COUNT(gender_male) AS male, COUNT(gender_na) AS gender_na, COUNT(race_amerindian) AS american, COUNT(race_asian) AS asian, COUNT(race_black) AS black, COUNT(race_noanswer) AS r_noAns, COUNT(race_hawaiiannative) AS hawaii, COUNT(race_other) AS other, COUNT(race_white) AS white\n",
    "GROUP BY week_number"
   ]
  },
  {
   "cell_type": "code",
   "execution_count": null,
   "id": "707e955c",
   "metadata": {},
   "outputs": [],
   "source": [
    "# QUERY THE DATA ONCE\n",
    "query_job = bigquery_client.query(query)\n",
    "unemployment_data = query_job.to_dataframe()\n",
    "unemployment_data.drop_duplicates(inplace = True)\n",
    "#unemployment_data.plot(subplots=True, figsize=(20,24))"
   ]
  },
  {
   "cell_type": "code",
   "execution_count": null,
   "id": "a3561f26",
   "metadata": {},
   "outputs": [],
   "source": [
    "print(unemployment_data)"
   ]
  },
  {
   "cell_type": "code",
   "execution_count": null,
   "id": "7092451e",
   "metadata": {},
   "outputs": [],
   "source": [
    "import pandas as pd\n",
    "import numpy as np\n",
    "import matplotlib\n",
    "import matplotlib.pyplot as plt\n",
    "import seaborn as sns\n",
    "get_ipython().run_line_magic('matplotlib', 'inline')"
   ]
  },
  {
   "cell_type": "code",
   "execution_count": null,
   "id": "353b2c67",
   "metadata": {},
   "outputs": [],
   "source": [
    "import os\n",
    "import pandas\n",
    "from google.cloud import bigquery\n",
    "from google.oauth2 import service_account\n",
    "from google.cloud.bigquery import magics"
   ]
  },
  {
   "cell_type": "code",
   "execution_count": null,
   "id": "e631e648",
   "metadata": {},
   "outputs": [],
   "source": [
    "BIGQUERY_PROJECT = 'ironhacks-data'\n",
    "bigquery_client = bigquery.Client(project=BIGQUERY_PROJECT)\n",
    "query = \"\"\"\n",
    "SELECT week_number,tract_name \n",
    "FROM `ironhacks-data.ironhacks_competition.unemployment_data`\n",
    "GROUP BY tract_name\n",
    "ORDER BY week_number\n",
    "\"\"\""
   ]
  },
  {
   "cell_type": "markdown",
   "id": "aecd9dd3",
   "metadata": {},
   "source": [
    "GROUP BY tract_name\n",
    "SELECT week_number, COUNT(total_claims) AS total_claims, COUNT(edu_8th_or_less) AS 8th, COUNT(edu_grades_9_11) AS 9_11, COUNT(edu_hs_grad_equiv) AS hs_diploma, COUNT(edu_post_hs) AS post_hs, COUNT(edu_unknown) AS edu_unknown, COUNT(top_category_employer1) AS top_category_employer1, COUNT(top_category_employer2) AS top_category_employer2, COUNT(top_category_employer3) AS top_category_employer3, COUNT(gender_female) AS female, COUNT(gender_male) AS male, COUNT(gender_na) AS gender_na, COUNT(race_amerindian) AS american, COUNT(race_asian) AS asian, COUNT(race_black) AS black, COUNT(race_noanswer) AS r_noAns, COUNT(race_hawaiiannative) AS hawaii, COUNT(race_other) AS other, COUNT(race_white) AS white\n",
    "GROUP BY week_number"
   ]
  },
  {
   "cell_type": "code",
   "execution_count": null,
   "id": "5ef21f43",
   "metadata": {},
   "outputs": [],
   "source": [
    "# QUERY THE DATA ONCE\n",
    "query_job = bigquery_client.query(query)\n",
    "unemployment_data = query_job.to_dataframe()\n",
    "unemployment_data.drop_duplicates(inplace = True)\n",
    "#unemployment_data.plot(subplots=True, figsize=(20,24))"
   ]
  },
  {
   "cell_type": "code",
   "execution_count": null,
   "id": "59582976",
   "metadata": {},
   "outputs": [],
   "source": [
    "print(unemployment_data)"
   ]
  },
  {
   "cell_type": "code",
   "execution_count": null,
   "id": "99ab9715",
   "metadata": {},
   "outputs": [],
   "source": [
    "import pandas as pd\n",
    "import numpy as np\n",
    "import matplotlib\n",
    "import matplotlib.pyplot as plt\n",
    "import seaborn as sns\n",
    "get_ipython().run_line_magic('matplotlib', 'inline')"
   ]
  },
  {
   "cell_type": "code",
   "execution_count": null,
   "id": "d4f0e2ef",
   "metadata": {},
   "outputs": [],
   "source": [
    "import os\n",
    "import pandas\n",
    "from google.cloud import bigquery\n",
    "from google.oauth2 import service_account\n",
    "from google.cloud.bigquery import magics"
   ]
  },
  {
   "cell_type": "code",
   "execution_count": null,
   "id": "3be20737",
   "metadata": {},
   "outputs": [],
   "source": [
    "BIGQUERY_PROJECT = 'ironhacks-data'\n",
    "bigquery_client = bigquery.Client(project=BIGQUERY_PROJECT)\n",
    "query = \"\"\"\n",
    "SELECT week_number,tract_name \n",
    "FROM `ironhacks-data.ironhacks_competition.unemployment_data`\n",
    "\n",
    "ORDER BY week_number\n",
    "\"\"\""
   ]
  },
  {
   "cell_type": "markdown",
   "id": "eec24b7a",
   "metadata": {},
   "source": [
    "GROUP BY tract_name\n",
    "SELECT week_number, COUNT(total_claims) AS total_claims, COUNT(edu_8th_or_less) AS 8th, COUNT(edu_grades_9_11) AS 9_11, COUNT(edu_hs_grad_equiv) AS hs_diploma, COUNT(edu_post_hs) AS post_hs, COUNT(edu_unknown) AS edu_unknown, COUNT(top_category_employer1) AS top_category_employer1, COUNT(top_category_employer2) AS top_category_employer2, COUNT(top_category_employer3) AS top_category_employer3, COUNT(gender_female) AS female, COUNT(gender_male) AS male, COUNT(gender_na) AS gender_na, COUNT(race_amerindian) AS american, COUNT(race_asian) AS asian, COUNT(race_black) AS black, COUNT(race_noanswer) AS r_noAns, COUNT(race_hawaiiannative) AS hawaii, COUNT(race_other) AS other, COUNT(race_white) AS white\n",
    "GROUP BY week_number"
   ]
  },
  {
   "cell_type": "code",
   "execution_count": null,
   "id": "951de99b",
   "metadata": {},
   "outputs": [],
   "source": [
    "# QUERY THE DATA ONCE\n",
    "query_job = bigquery_client.query(query)\n",
    "unemployment_data = query_job.to_dataframe()\n",
    "unemployment_data.drop_duplicates(inplace = True)\n",
    "#unemployment_data.plot(subplots=True, figsize=(20,24))"
   ]
  },
  {
   "cell_type": "code",
   "execution_count": null,
   "id": "85a8c633",
   "metadata": {},
   "outputs": [],
   "source": [
    "print(unemployment_data)"
   ]
  },
  {
   "cell_type": "code",
   "execution_count": null,
   "id": "aae47d94",
   "metadata": {},
   "outputs": [],
   "source": [
    "import pandas as pd\n",
    "import numpy as np\n",
    "import matplotlib\n",
    "import matplotlib.pyplot as plt\n",
    "import seaborn as sns\n",
    "get_ipython().run_line_magic('matplotlib', 'inline')"
   ]
  },
  {
   "cell_type": "code",
   "execution_count": null,
   "id": "be8991d8",
   "metadata": {},
   "outputs": [],
   "source": [
    "import os\n",
    "import pandas\n",
    "from google.cloud import bigquery\n",
    "from google.oauth2 import service_account\n",
    "from google.cloud.bigquery import magics"
   ]
  },
  {
   "cell_type": "code",
   "execution_count": null,
   "id": "e645fe1f",
   "metadata": {},
   "outputs": [],
   "source": [
    "BIGQUERY_PROJECT = 'ironhacks-data'\n",
    "bigquery_client = bigquery.Client(project=BIGQUERY_PROJECT)\n",
    "query = \"\"\"\n",
    "SELECT week_number,tract_name \n",
    "FROM `ironhacks-data.ironhacks_competition.unemployment_data`\n",
    "GROUP BY tract_name\n",
    "ORDER BY week_number\n",
    "\"\"\""
   ]
  },
  {
   "cell_type": "markdown",
   "id": "c7fc0ae1",
   "metadata": {},
   "source": [
    "GROUP BY tract_name\n",
    "SELECT week_number, COUNT(total_claims) AS total_claims, COUNT(edu_8th_or_less) AS 8th, COUNT(edu_grades_9_11) AS 9_11, COUNT(edu_hs_grad_equiv) AS hs_diploma, COUNT(edu_post_hs) AS post_hs, COUNT(edu_unknown) AS edu_unknown, COUNT(top_category_employer1) AS top_category_employer1, COUNT(top_category_employer2) AS top_category_employer2, COUNT(top_category_employer3) AS top_category_employer3, COUNT(gender_female) AS female, COUNT(gender_male) AS male, COUNT(gender_na) AS gender_na, COUNT(race_amerindian) AS american, COUNT(race_asian) AS asian, COUNT(race_black) AS black, COUNT(race_noanswer) AS r_noAns, COUNT(race_hawaiiannative) AS hawaii, COUNT(race_other) AS other, COUNT(race_white) AS white\n",
    "GROUP BY week_number"
   ]
  },
  {
   "cell_type": "code",
   "execution_count": null,
   "id": "7aae1735",
   "metadata": {},
   "outputs": [],
   "source": [
    "# QUERY THE DATA ONCE\n",
    "query_job = bigquery_client.query(query)\n",
    "unemployment_data = query_job.to_dataframe()\n",
    "unemployment_data.drop_duplicates(inplace = True)\n",
    "#unemployment_data.plot(subplots=True, figsize=(20,24))"
   ]
  },
  {
   "cell_type": "code",
   "execution_count": null,
   "id": "0f83270e",
   "metadata": {},
   "outputs": [],
   "source": [
    "print(unemployment_data)"
   ]
  },
  {
   "cell_type": "code",
   "execution_count": null,
   "id": "63b80beb",
   "metadata": {},
   "outputs": [],
   "source": [
    "import pandas as pd\n",
    "import numpy as np\n",
    "import matplotlib\n",
    "import matplotlib.pyplot as plt\n",
    "import seaborn as sns\n",
    "get_ipython().run_line_magic('matplotlib', 'inline')"
   ]
  },
  {
   "cell_type": "code",
   "execution_count": null,
   "id": "2337e3e3",
   "metadata": {},
   "outputs": [],
   "source": [
    "import os\n",
    "import pandas\n",
    "from google.cloud import bigquery\n",
    "from google.oauth2 import service_account\n",
    "from google.cloud.bigquery import magics"
   ]
  },
  {
   "cell_type": "code",
   "execution_count": null,
   "id": "440c7af1",
   "metadata": {},
   "outputs": [],
   "source": [
    "BIGQUERY_PROJECT = 'ironhacks-data'\n",
    "bigquery_client = bigquery.Client(project=BIGQUERY_PROJECT)\n",
    "query = \"\"\"\n",
    "SELECT week_number,tract_name \n",
    "FROM `ironhacks-data.ironhacks_competition.unemployment_data`\n",
    "\n",
    "ORDER BY tract_name\n",
    "\"\"\""
   ]
  },
  {
   "cell_type": "markdown",
   "id": "00167708",
   "metadata": {},
   "source": [
    "GROUP BY tract_name\n",
    "SELECT week_number, COUNT(total_claims) AS total_claims, COUNT(edu_8th_or_less) AS 8th, COUNT(edu_grades_9_11) AS 9_11, COUNT(edu_hs_grad_equiv) AS hs_diploma, COUNT(edu_post_hs) AS post_hs, COUNT(edu_unknown) AS edu_unknown, COUNT(top_category_employer1) AS top_category_employer1, COUNT(top_category_employer2) AS top_category_employer2, COUNT(top_category_employer3) AS top_category_employer3, COUNT(gender_female) AS female, COUNT(gender_male) AS male, COUNT(gender_na) AS gender_na, COUNT(race_amerindian) AS american, COUNT(race_asian) AS asian, COUNT(race_black) AS black, COUNT(race_noanswer) AS r_noAns, COUNT(race_hawaiiannative) AS hawaii, COUNT(race_other) AS other, COUNT(race_white) AS white\n",
    "GROUP BY week_number"
   ]
  },
  {
   "cell_type": "code",
   "execution_count": null,
   "id": "2599a3b4",
   "metadata": {},
   "outputs": [],
   "source": [
    "# QUERY THE DATA ONCE\n",
    "query_job = bigquery_client.query(query)\n",
    "unemployment_data = query_job.to_dataframe()\n",
    "unemployment_data.drop_duplicates(inplace = True)\n",
    "#unemployment_data.plot(subplots=True, figsize=(20,24))"
   ]
  },
  {
   "cell_type": "code",
   "execution_count": null,
   "id": "cc32eb62",
   "metadata": {},
   "outputs": [],
   "source": [
    "print(unemployment_data)"
   ]
  },
  {
   "cell_type": "code",
   "execution_count": null,
   "id": "5c578e41",
   "metadata": {},
   "outputs": [],
   "source": [
    "import pandas as pd\n",
    "import numpy as np\n",
    "import matplotlib\n",
    "import matplotlib.pyplot as plt\n",
    "import seaborn as sns\n",
    "get_ipython().run_line_magic('matplotlib', 'inline')"
   ]
  },
  {
   "cell_type": "code",
   "execution_count": null,
   "id": "4f8e3ca2",
   "metadata": {},
   "outputs": [],
   "source": [
    "import os\n",
    "import pandas\n",
    "from google.cloud import bigquery\n",
    "from google.oauth2 import service_account\n",
    "from google.cloud.bigquery import magics"
   ]
  },
  {
   "cell_type": "code",
   "execution_count": null,
   "id": "606707e0",
   "metadata": {},
   "outputs": [],
   "source": [
    "BIGQUERY_PROJECT = 'ironhacks-data'\n",
    "bigquery_client = bigquery.Client(project=BIGQUERY_PROJECT)\n",
    "query = \"\"\"\n",
    "SELECT week_number,tract_name \n",
    "FROM `ironhacks-data.ironhacks_competition.unemployment_data`\n",
    "GROUP BY tract_name\n",
    "\n",
    "\"\"\""
   ]
  },
  {
   "cell_type": "markdown",
   "id": "323c1913",
   "metadata": {},
   "source": [
    "GROUP BY tract_name\n",
    "SELECT week_number, COUNT(total_claims) AS total_claims, COUNT(edu_8th_or_less) AS 8th, COUNT(edu_grades_9_11) AS 9_11, COUNT(edu_hs_grad_equiv) AS hs_diploma, COUNT(edu_post_hs) AS post_hs, COUNT(edu_unknown) AS edu_unknown, COUNT(top_category_employer1) AS top_category_employer1, COUNT(top_category_employer2) AS top_category_employer2, COUNT(top_category_employer3) AS top_category_employer3, COUNT(gender_female) AS female, COUNT(gender_male) AS male, COUNT(gender_na) AS gender_na, COUNT(race_amerindian) AS american, COUNT(race_asian) AS asian, COUNT(race_black) AS black, COUNT(race_noanswer) AS r_noAns, COUNT(race_hawaiiannative) AS hawaii, COUNT(race_other) AS other, COUNT(race_white) AS white\n",
    "GROUP BY week_number"
   ]
  },
  {
   "cell_type": "code",
   "execution_count": null,
   "id": "1170747c",
   "metadata": {},
   "outputs": [],
   "source": [
    "# QUERY THE DATA ONCE\n",
    "query_job = bigquery_client.query(query)\n",
    "unemployment_data = query_job.to_dataframe()\n",
    "unemployment_data.drop_duplicates(inplace = True)\n",
    "#unemployment_data.plot(subplots=True, figsize=(20,24))"
   ]
  },
  {
   "cell_type": "code",
   "execution_count": null,
   "id": "170017b9",
   "metadata": {},
   "outputs": [],
   "source": [
    "print(unemployment_data)"
   ]
  },
  {
   "cell_type": "code",
   "execution_count": null,
   "id": "421e8dc9",
   "metadata": {},
   "outputs": [],
   "source": [
    "import pandas as pd\n",
    "import numpy as np\n",
    "import matplotlib\n",
    "import matplotlib.pyplot as plt\n",
    "import seaborn as sns\n",
    "get_ipython().run_line_magic('matplotlib', 'inline')"
   ]
  },
  {
   "cell_type": "code",
   "execution_count": null,
   "id": "9487872a",
   "metadata": {},
   "outputs": [],
   "source": [
    "import os\n",
    "import pandas\n",
    "from google.cloud import bigquery\n",
    "from google.oauth2 import service_account\n",
    "from google.cloud.bigquery import magics"
   ]
  },
  {
   "cell_type": "code",
   "execution_count": null,
   "id": "0203decf",
   "metadata": {},
   "outputs": [],
   "source": [
    "BIGQUERY_PROJECT = 'ironhacks-data'\n",
    "bigquery_client = bigquery.Client(project=BIGQUERY_PROJECT)\n",
    "query = \"\"\"\n",
    "SELECT COUNT(total_claims) AS total_claims, week_number,tract_name \n",
    "FROM `ironhacks-data.ironhacks_competition.unemployment_data`\n",
    "GROUP BY tract_name\n",
    "\n",
    "\"\"\""
   ]
  },
  {
   "cell_type": "markdown",
   "id": "9dbe73bf",
   "metadata": {},
   "source": [
    "GROUP BY tract_name\n",
    "SELECT week_number, COUNT(total_claims) AS total_claims, COUNT(edu_8th_or_less) AS 8th, COUNT(edu_grades_9_11) AS 9_11, COUNT(edu_hs_grad_equiv) AS hs_diploma, COUNT(edu_post_hs) AS post_hs, COUNT(edu_unknown) AS edu_unknown, COUNT(top_category_employer1) AS top_category_employer1, COUNT(top_category_employer2) AS top_category_employer2, COUNT(top_category_employer3) AS top_category_employer3, COUNT(gender_female) AS female, COUNT(gender_male) AS male, COUNT(gender_na) AS gender_na, COUNT(race_amerindian) AS american, COUNT(race_asian) AS asian, COUNT(race_black) AS black, COUNT(race_noanswer) AS r_noAns, COUNT(race_hawaiiannative) AS hawaii, COUNT(race_other) AS other, COUNT(race_white) AS white\n",
    "GROUP BY week_number"
   ]
  },
  {
   "cell_type": "code",
   "execution_count": null,
   "id": "6612833a",
   "metadata": {},
   "outputs": [],
   "source": [
    "# QUERY THE DATA ONCE\n",
    "query_job = bigquery_client.query(query)\n",
    "unemployment_data = query_job.to_dataframe()\n",
    "unemployment_data.drop_duplicates(inplace = True)\n",
    "#unemployment_data.plot(subplots=True, figsize=(20,24))"
   ]
  },
  {
   "cell_type": "code",
   "execution_count": null,
   "id": "8baf8126",
   "metadata": {},
   "outputs": [],
   "source": [
    "print(unemployment_data)"
   ]
  },
  {
   "cell_type": "code",
   "execution_count": null,
   "id": "6b4a0f7e",
   "metadata": {},
   "outputs": [],
   "source": [
    "import pandas as pd\n",
    "import numpy as np\n",
    "import matplotlib\n",
    "import matplotlib.pyplot as plt\n",
    "import seaborn as sns\n",
    "get_ipython().run_line_magic('matplotlib', 'inline')"
   ]
  },
  {
   "cell_type": "code",
   "execution_count": null,
   "id": "d6528ac6",
   "metadata": {},
   "outputs": [],
   "source": [
    "import os\n",
    "import pandas\n",
    "from google.cloud import bigquery\n",
    "from google.oauth2 import service_account\n",
    "from google.cloud.bigquery import magics"
   ]
  },
  {
   "cell_type": "code",
   "execution_count": null,
   "id": "4b768cfb",
   "metadata": {},
   "outputs": [],
   "source": [
    "BIGQUERY_PROJECT = 'ironhacks-data'\n",
    "bigquery_client = bigquery.Client(project=BIGQUERY_PROJECT)\n",
    "query = \"\"\"\n",
    "SELECT COUNT(total_claims) AS total_claims, \n",
    "FROM `ironhacks-data.ironhacks_competition.unemployment_data`\n",
    "GROUP BY tract_name\n",
    "\n",
    "\"\"\""
   ]
  },
  {
   "cell_type": "markdown",
   "id": "695fdb5f",
   "metadata": {},
   "source": [
    "GROUP BY tract_name\n",
    "SELECT week_number, COUNT(total_claims) AS total_claims, COUNT(edu_8th_or_less) AS 8th, COUNT(edu_grades_9_11) AS 9_11, COUNT(edu_hs_grad_equiv) AS hs_diploma, COUNT(edu_post_hs) AS post_hs, COUNT(edu_unknown) AS edu_unknown, COUNT(top_category_employer1) AS top_category_employer1, COUNT(top_category_employer2) AS top_category_employer2, COUNT(top_category_employer3) AS top_category_employer3, COUNT(gender_female) AS female, COUNT(gender_male) AS male, COUNT(gender_na) AS gender_na, COUNT(race_amerindian) AS american, COUNT(race_asian) AS asian, COUNT(race_black) AS black, COUNT(race_noanswer) AS r_noAns, COUNT(race_hawaiiannative) AS hawaii, COUNT(race_other) AS other, COUNT(race_white) AS white\n",
    "GROUP BY week_number"
   ]
  },
  {
   "cell_type": "code",
   "execution_count": null,
   "id": "2dbe05a4",
   "metadata": {},
   "outputs": [],
   "source": [
    "# QUERY THE DATA ONCE\n",
    "query_job = bigquery_client.query(query)\n",
    "unemployment_data = query_job.to_dataframe()\n",
    "unemployment_data.drop_duplicates(inplace = True)\n",
    "#unemployment_data.plot(subplots=True, figsize=(20,24))"
   ]
  },
  {
   "cell_type": "code",
   "execution_count": null,
   "id": "c7253424",
   "metadata": {
    "lines_to_next_cell": 2
   },
   "outputs": [],
   "source": [
    "print(unemployment_data)"
   ]
  }
 ],
 "metadata": {
  "jupytext": {
   "cell_metadata_filter": "-all",
   "main_language": "python",
   "notebook_metadata_filter": "-all"
  }
 },
 "nbformat": 4,
 "nbformat_minor": 5
}
