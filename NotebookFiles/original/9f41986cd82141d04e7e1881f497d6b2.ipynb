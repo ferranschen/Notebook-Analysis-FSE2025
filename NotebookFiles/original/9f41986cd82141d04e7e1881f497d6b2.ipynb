{
 "cells": [
  {
   "cell_type": "code",
   "execution_count": null,
   "id": "d170819b",
   "metadata": {},
   "outputs": [],
   "source": [
    "from sklearn.linear_model import LinearRegression\n",
    "model = LinearRegression()\n",
    "model.fit(X,y)"
   ]
  },
  {
   "cell_type": "code",
   "execution_count": null,
   "id": "44545ac6",
   "metadata": {},
   "outputs": [],
   "source": [
    "X=data.drop([\"date\",\"potential_water_deficit\"],1)\n",
    "y=data[\"mean_temperature\"]\n",
    "# print(X)\n",
    "# print(y)\n",
    "data.head()"
   ]
  },
  {
   "cell_type": "code",
   "execution_count": null,
   "id": "23e94de4",
   "metadata": {},
   "outputs": [],
   "source": [
    "get_ipython().system('pip install google-cloud-bigquery')\n",
    "get_ipython().system('pip install google-cloud-bigquery[pandas]')"
   ]
  },
  {
   "cell_type": "code",
   "execution_count": null,
   "id": "dac7a047",
   "metadata": {},
   "outputs": [],
   "source": [
    "import pandas as pd\n",
    "import numpy as np\n",
    "import matplotlib\n",
    "import matplotlib.pyplot as plt\n",
    "import seaborn as sns\n",
    "get_ipython().run_line_magic('matplotlib', 'inline')"
   ]
  },
  {
   "cell_type": "code",
   "execution_count": null,
   "id": "5916d473",
   "metadata": {},
   "outputs": [],
   "source": [
    "import os\n",
    "from google.cloud import bigquery\n",
    "from google.oauth2 import service_account\n",
    "from google.cloud.bigquery import magics"
   ]
  },
  {
   "cell_type": "code",
   "execution_count": null,
   "id": "82b9649c",
   "metadata": {},
   "outputs": [],
   "source": [
    "BIGQUERY_PROJECT = 'ironhacks-data'\n",
    "bigquery_client = bigquery.Client(project=BIGQUERY_PROJECT)"
   ]
  },
  {
   "cell_type": "code",
   "execution_count": null,
   "id": "8938db80",
   "metadata": {},
   "outputs": [],
   "source": [
    "query = \"\"\"\n",
    "select * from `ironhacks-data.ironhacks_training.weather_data`\n",
    "\"\"\""
   ]
  },
  {
   "cell_type": "code",
   "execution_count": null,
   "id": "04b8a59e",
   "metadata": {},
   "outputs": [],
   "source": [
    "query_job = bigquery_client.query(query)\n",
    "data = query_job.to_dataframe()\n",
    "data['date']=pd.to_datetime(data['date'])\n",
    "# data.dtypes\n",
    "data.head()"
   ]
  },
  {
   "cell_type": "code",
   "execution_count": null,
   "id": "4211ed19",
   "metadata": {},
   "outputs": [],
   "source": [
    "X=data.drop([\"date\",\"potential_water_deficit\"],1)\n",
    "y=data[\"mean_temperature\"]\n",
    "# print(X)\n",
    "# print(y)\n",
    "data.head()"
   ]
  },
  {
   "cell_type": "code",
   "execution_count": null,
   "id": "4052fe40",
   "metadata": {},
   "outputs": [],
   "source": [
    "plt.figure(figsize=(7,7))\n",
    "cor = data.corr()\n",
    "sns.heatmap(cor, annot=True, cmap=plt.cm.Reds)\n",
    "plt.show()"
   ]
  },
  {
   "cell_type": "code",
   "execution_count": null,
   "id": "4319de14",
   "metadata": {},
   "outputs": [],
   "source": [
    "cor_target = abs(cor[\"mean_temperature\"])\n",
    "relevant_features = cor_target[cor_target>0.75]\n",
    "print(relevant_features)"
   ]
  },
  {
   "cell_type": "code",
   "execution_count": null,
   "id": "5ccb1d7a",
   "metadata": {},
   "outputs": [],
   "source": [
    "from sklearn.linear_model import LinearRegression\n",
    "model = LinearRegression()\n",
    "model.fit(X,y)"
   ]
  },
  {
   "cell_type": "code",
   "execution_count": null,
   "id": "dd0ecbd7",
   "metadata": {},
   "outputs": [],
   "source": [
    "y_pred = pd.Series(model.predict(X), index=X.index)"
   ]
  },
  {
   "cell_type": "code",
   "execution_count": null,
   "id": "116d527a",
   "metadata": {},
   "outputs": [],
   "source": [
    "ax = y.plot(alpha=0.5)\n",
    "ax = y_pred.plot(ax=ax, linewidth=3)"
   ]
  },
  {
   "cell_type": "code",
   "execution_count": null,
   "id": "fb519720",
   "metadata": {},
   "outputs": [],
   "source": [
    "ax = y.plot(alpha=0.5)\n",
    "ax = y_pred.plot(ax=ax, linewidth=5)"
   ]
  },
  {
   "cell_type": "code",
   "execution_count": null,
   "id": "a4dd7861",
   "metadata": {},
   "outputs": [],
   "source": [
    "ax = y.plot(alpha=0.5)\n",
    "ax = y_pred.plot(ax=ax, linewidth=1)"
   ]
  },
  {
   "cell_type": "code",
   "execution_count": null,
   "id": "6858ae7a",
   "metadata": {},
   "outputs": [],
   "source": [
    "ax = y.plot(alpha=0.5)\n",
    "plt.figure().set_figwidth(3)\n",
    "ax = y_pred.plot(ax=ax, linewidth=1)"
   ]
  },
  {
   "cell_type": "code",
   "execution_count": null,
   "id": "d50a444c",
   "metadata": {},
   "outputs": [],
   "source": [
    "ax = y.plot(alpha=0.5)\n",
    "plt.figure().set_figwidth(7)\n",
    "ax = y_pred.plot(ax=ax, linewidth=1)"
   ]
  },
  {
   "cell_type": "code",
   "execution_count": null,
   "id": "06df7c94",
   "metadata": {},
   "outputs": [],
   "source": [
    "ax = y.plot(alpha=0.5)\n",
    "ax = y_pred.plot(ax=ax, linewidth=1)\n",
    "ax(figsize(1,1))"
   ]
  },
  {
   "cell_type": "code",
   "execution_count": null,
   "id": "c19fa161",
   "metadata": {},
   "outputs": [],
   "source": [
    "ax = y.plot(alpha=0.5)\n",
    "ax = y_pred.plot(ax=ax, linewidth=1)\n",
    "figure(figsize(1,1))"
   ]
  },
  {
   "cell_type": "code",
   "execution_count": null,
   "id": "789a50ba",
   "metadata": {},
   "outputs": [],
   "source": [
    "from matplotlib import figure\n",
    "ax = y.plot(alpha=0.5)\n",
    "ax = y_pred.plot(ax=ax, linewidth=1)\n",
    "figure(figsize(1,1))"
   ]
  },
  {
   "cell_type": "code",
   "execution_count": null,
   "id": "f3aa8ea5",
   "metadata": {},
   "outputs": [],
   "source": [
    "from matplotlib import figure\n",
    "ax = y.plot(alpha=0.5)\n",
    "ax = y_pred.plot(ax=ax, linewidth=1)\n",
    "ax.figure(figsize(1,1))"
   ]
  },
  {
   "cell_type": "code",
   "execution_count": null,
   "id": "1d7a04ca",
   "metadata": {},
   "outputs": [],
   "source": [
    "from matplotlib import figure\n",
    "ax = y.plot(alpha=0.5)\n",
    "ax = y_pred.plot(ax=ax, linewidth=1)\n",
    "ax.figure(figsize=(1,1))"
   ]
  },
  {
   "cell_type": "code",
   "execution_count": null,
   "id": "7cc79512",
   "metadata": {},
   "outputs": [],
   "source": [
    "from matplotlib.pyplot import figure\n",
    "ax = y.plot(alpha=0.5)\n",
    "ax = y_pred.plot(ax=ax, linewidth=1)\n",
    "ax.figure(figsize=(1,1))"
   ]
  },
  {
   "cell_type": "code",
   "execution_count": null,
   "id": "c9ce0994",
   "metadata": {},
   "outputs": [],
   "source": [
    "from matplotlib.pyplot import figure\n",
    "ax = y.plot(alpha=0.5)\n",
    "ax = y_pred.plot(ax=ax, linewidth=1)\n",
    "figure(figsize=(1,1))"
   ]
  },
  {
   "cell_type": "code",
   "execution_count": null,
   "id": "9ddaa731",
   "metadata": {},
   "outputs": [],
   "source": [
    "from matplotlib.pyplot import figure\n",
    "ax = y.plot(alpha=0.5)\n",
    "ax = y_pred.plot(ax=ax, linewidth=1)\n",
    "figure(figsize=(1,2))"
   ]
  },
  {
   "cell_type": "code",
   "execution_count": null,
   "id": "397e6ecc",
   "metadata": {},
   "outputs": [],
   "source": [
    "from matplotlib.pyplot import figure\n",
    "ax = y.plot(alpha=0.5)\n",
    "ax = y_pred.plot(ax=ax, linewidth=1)\n",
    "figure(figsize=(1,6))"
   ]
  },
  {
   "cell_type": "code",
   "execution_count": null,
   "id": "e5491c67",
   "metadata": {},
   "outputs": [],
   "source": [
    "from matplotlib.pyplot import figure\n",
    "ax = y.plot(alpha=0.5)\n",
    "ax = y_pred.plot(ax=ax, linewidth=1)\n",
    "figure(figsize=(1,7))"
   ]
  },
  {
   "cell_type": "code",
   "execution_count": null,
   "id": "1ffcbaf6",
   "metadata": {},
   "outputs": [],
   "source": [
    "from matplotlib.pyplot import figure\n",
    "ax = y.plot(alpha=0.5)\n",
    "ax = y_pred.plot(ax=ax, linewidth=1)\n",
    "figure(figsize=(5,1))"
   ]
  },
  {
   "cell_type": "code",
   "execution_count": null,
   "id": "c0ff834a",
   "metadata": {},
   "outputs": [],
   "source": [
    "from matplotlib.pyplot import figure\n",
    "ax = y.plot(alpha=0.5)\n",
    "ax = y_pred.plot(ax=ax, linewidth=1)\n",
    "figure(figsize=(10,1))"
   ]
  },
  {
   "cell_type": "code",
   "execution_count": null,
   "id": "a1a4a1ba",
   "metadata": {},
   "outputs": [],
   "source": [
    "from matplotlib.pyplot import figure\n",
    "ax = y.plot(alpha=0.5)\n",
    "ax = y_pred.plot(ax=ax, linewidth=1)\n",
    "figure(figsize=(100,100))"
   ]
  },
  {
   "cell_type": "code",
   "execution_count": null,
   "id": "3fc04968",
   "metadata": {},
   "outputs": [],
   "source": [
    "from matplotlib.pyplot import figure\n",
    "ax = y.plot(alpha=0.5)\n",
    "ax = y_pred.plot(ax=ax, linewidth=1)\n",
    "figure(figsize=(10000,10000))"
   ]
  },
  {
   "cell_type": "code",
   "execution_count": null,
   "id": "4e97f7e2",
   "metadata": {},
   "outputs": [],
   "source": [
    "from matplotlib.pyplot import figure\n",
    "ax = y.plot(alpha=0.5)\n",
    "ax = y_pred.plot(ax=ax, linewidth=1)\n",
    "figure(figsize=(1000,1000))"
   ]
  },
  {
   "cell_type": "code",
   "execution_count": null,
   "id": "d45e4365",
   "metadata": {},
   "outputs": [],
   "source": [
    "from matplotlib.pyplot import figure\n",
    "ax = y.plot(alpha=0.5)\n",
    "ax = y_pred.plot(ax=ax, linewidth=1)\n",
    "figure(figsize=(100,100))"
   ]
  },
  {
   "cell_type": "code",
   "execution_count": null,
   "id": "8eed8feb",
   "metadata": {},
   "outputs": [],
   "source": [
    "from matplotlib.pyplot import figure\n",
    "ax = y.plot(alpha=0.5)\n",
    "ax = y_pred.plot(ax=ax, linewidth=1)\n",
    "figure(figsize=(100,100))"
   ]
  },
  {
   "cell_type": "code",
   "execution_count": null,
   "id": "efa44b59",
   "metadata": {},
   "outputs": [],
   "source": [
    "from matplotlib.pyplot import figure\n",
    "ax = y.plot(alpha=0.5)\n",
    "ax = y_pred.plot(ax=ax, linewidth=3)\n",
    "figure(figsize=(100,100))"
   ]
  },
  {
   "cell_type": "code",
   "execution_count": null,
   "id": "7e5810b5",
   "metadata": {},
   "outputs": [],
   "source": [
    "from matplotlib.pyplot import figure\n",
    "ax = y.plot(alpha=0.5)\n",
    "ax = y_pred.plot(ax=ax, linewidth=1)\n",
    "figure(figsize=(100,100))"
   ]
  },
  {
   "cell_type": "code",
   "execution_count": null,
   "id": "b15c759b",
   "metadata": {},
   "outputs": [],
   "source": [
    "lag_1 = data['precipitation_data'].shift(1)"
   ]
  },
  {
   "cell_type": "code",
   "execution_count": null,
   "id": "30e3fd90",
   "metadata": {},
   "outputs": [],
   "source": [
    "data['lag_1']=lag_1"
   ]
  },
  {
   "cell_type": "code",
   "execution_count": null,
   "id": "65397016",
   "metadata": {},
   "outputs": [],
   "source": [
    "lag_1 = data['precipitation_data'].shift(1)"
   ]
  },
  {
   "cell_type": "code",
   "execution_count": null,
   "id": "9d79ef62",
   "metadata": {},
   "outputs": [],
   "source": [
    "data['lag_1']=lag_1\n",
    "data"
   ]
  },
  {
   "cell_type": "code",
   "execution_count": null,
   "id": "b7411860",
   "metadata": {},
   "outputs": [],
   "source": [
    "lag_1 = data['mean_temperature'].shift(1)"
   ]
  },
  {
   "cell_type": "code",
   "execution_count": null,
   "id": "028a7f44",
   "metadata": {
    "lines_to_next_cell": 2
   },
   "outputs": [],
   "source": [
    "data['lag_1']=lag_1\n",
    "data"
   ]
  }
 ],
 "metadata": {
  "jupytext": {
   "cell_metadata_filter": "-all",
   "main_language": "python",
   "notebook_metadata_filter": "-all"
  }
 },
 "nbformat": 4,
 "nbformat_minor": 5
}
