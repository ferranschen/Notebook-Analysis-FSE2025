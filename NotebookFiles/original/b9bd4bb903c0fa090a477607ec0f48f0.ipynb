{
 "cells": [
  {
   "cell_type": "code",
   "execution_count": null,
   "id": "b098dece",
   "metadata": {},
   "outputs": [],
   "source": [
    "get_ipython().system('pip install db-dtypes')"
   ]
  },
  {
   "cell_type": "code",
   "execution_count": null,
   "id": "872de3e2",
   "metadata": {},
   "outputs": [],
   "source": [
    "import pandas as pd\n",
    "import numpy as np\n",
    "from google.cloud import bigquery"
   ]
  },
  {
   "cell_type": "code",
   "execution_count": null,
   "id": "4753802f",
   "metadata": {},
   "outputs": [],
   "source": [
    "BIGQUERY_PROJECT = 'ironhacks-data'\n",
    "bigquery_client = bigquery.Client(project=BIGQUERY_PROJECT)"
   ]
  },
  {
   "cell_type": "code",
   "execution_count": null,
   "id": "96b6bfcf",
   "metadata": {},
   "outputs": [],
   "source": [
    "query = \"\"\"\n",
    "SELECT *\n",
    "FROM `ironhacks-data.ironhacks_competition.unemployment_data`\n",
    "WHERE uu_id='e201385d37b5f6eea30f6d6d4106dc6f'\n",
    "\"\"\""
   ]
  },
  {
   "cell_type": "code",
   "execution_count": null,
   "id": "9e565dc7",
   "metadata": {},
   "outputs": [],
   "source": [
    "query_job = bigquery_client.query(query)\n",
    "unemployment_data = query_job.to_dataframe()"
   ]
  },
  {
   "cell_type": "code",
   "execution_count": null,
   "id": "d6e006f5",
   "metadata": {},
   "outputs": [],
   "source": [
    "unemployment_data.shape"
   ]
  },
  {
   "cell_type": "code",
   "execution_count": null,
   "id": "9fa73b1c",
   "metadata": {},
   "outputs": [],
   "source": [
    "unemployment_data.sort_values(['week_number'])"
   ]
  },
  {
   "cell_type": "code",
   "execution_count": null,
   "id": "72a990eb",
   "metadata": {},
   "outputs": [],
   "source": [
    "unemployment_data.columns"
   ]
  },
  {
   "cell_type": "code",
   "execution_count": null,
   "id": "f2bb1976",
   "metadata": {},
   "outputs": [],
   "source": [
    "unemployment_data.drop(['uu_id', 'week_number', 'countyfips', 'tract',\n",
    "       'tract_name', 'edu_8th_or_less', 'edu_grades_9_11',\n",
    "       'edu_hs_grad_equiv', 'edu_post_hs', 'edu_unknown',\n",
    "       'top_category_employer1', 'top_category_employer2',\n",
    "       'top_category_employer3', 'gender_female', 'gender_male', 'gender_na',\n",
    "       'race_amerindian', 'race_asian', 'race_black', 'race_noanswer',\n",
    "       'race_hawaiiannative', 'race_other', 'race_white'], axis=1, inplace=True)"
   ]
  },
  {
   "cell_type": "code",
   "execution_count": null,
   "id": "b9dd2419",
   "metadata": {},
   "outputs": [],
   "source": [
    "unemployment_data"
   ]
  },
  {
   "cell_type": "code",
   "execution_count": null,
   "id": "f5703453",
   "metadata": {},
   "outputs": [],
   "source": [
    "unemployment_data['year'] = unemployment_data['timeperiod'].apply(lambda x: str(x)[:4])\n",
    "unemployment_data['month'] = unemployment_data['timeperiod'].apply(lambda x: str(x)[4:6])\n",
    "unemployment_data['day'] = unemployment_data['timeperiod'].apply(lambda x: str(x)[6:])"
   ]
  },
  {
   "cell_type": "code",
   "execution_count": null,
   "id": "21531dc6",
   "metadata": {},
   "outputs": [],
   "source": [
    "unemployment_data"
   ]
  },
  {
   "cell_type": "code",
   "execution_count": null,
   "id": "2ef8bec1",
   "metadata": {},
   "outputs": [],
   "source": [
    "unemployment_data['ds'] = pd.DatetimeIndex(unemployment_data['year'] + '-' + unemployment_data['month'] + '-' + unemployment_data['day'])"
   ]
  },
  {
   "cell_type": "code",
   "execution_count": null,
   "id": "a8289a64",
   "metadata": {},
   "outputs": [],
   "source": [
    "unemployment_data"
   ]
  },
  {
   "cell_type": "code",
   "execution_count": null,
   "id": "1c58cde1",
   "metadata": {},
   "outputs": [],
   "source": [
    "unemployment_data.drop(['timeperiod', 'year', 'month', 'day'], axis=1, inplace=True)\n",
    "unemployment_data.columns = ['y', 'ds']"
   ]
  },
  {
   "cell_type": "code",
   "execution_count": null,
   "id": "725c850b",
   "metadata": {},
   "outputs": [],
   "source": [
    "unemployment_data"
   ]
  },
  {
   "cell_type": "code",
   "execution_count": null,
   "id": "3ca7fd5a",
   "metadata": {},
   "outputs": [],
   "source": [
    "unemployment_data.sort_values(['ds'], inplace=True)"
   ]
  },
  {
   "cell_type": "code",
   "execution_count": null,
   "id": "a00df76c",
   "metadata": {},
   "outputs": [],
   "source": [
    "unemployment_data.drop_duplicates(inplace=True)"
   ]
  },
  {
   "cell_type": "code",
   "execution_count": null,
   "id": "9f54862b",
   "metadata": {},
   "outputs": [],
   "source": [
    "unemployment_data"
   ]
  },
  {
   "cell_type": "code",
   "execution_count": null,
   "id": "1b27703e",
   "metadata": {},
   "outputs": [],
   "source": [
    "from prophet import Prophet"
   ]
  },
  {
   "cell_type": "code",
   "execution_count": null,
   "id": "1776b750",
   "metadata": {},
   "outputs": [],
   "source": [
    "get_ipython().system('pip install prophet')"
   ]
  },
  {
   "cell_type": "code",
   "execution_count": null,
   "id": "9a2761e7",
   "metadata": {},
   "outputs": [],
   "source": [
    "from prophet import Prophet"
   ]
  },
  {
   "cell_type": "code",
   "execution_count": null,
   "id": "42d55bed",
   "metadata": {},
   "outputs": [],
   "source": [
    "ud = unemployment_data"
   ]
  },
  {
   "cell_type": "code",
   "execution_count": null,
   "id": "97e888f0",
   "metadata": {},
   "outputs": [],
   "source": [
    "threshold_date = pd.to_datetime('2022-05-14')\n",
    "mask = ud['ds'] < threshold_date"
   ]
  },
  {
   "cell_type": "code",
   "execution_count": null,
   "id": "7e2e3fb3",
   "metadata": {},
   "outputs": [],
   "source": [
    "# Split the data and select `ds` and `y` columns.\n",
    "ud_train = ud[mask][['ds', 'y']]\n",
    "ud_test = ud[~mask][['ds', 'y']]"
   ]
  },
  {
   "cell_type": "code",
   "execution_count": null,
   "id": "b1da604d",
   "metadata": {},
   "outputs": [],
   "source": [
    "m = Prophet()"
   ]
  },
  {
   "cell_type": "code",
   "execution_count": null,
   "id": "76d062c5",
   "metadata": {},
   "outputs": [],
   "source": [
    "m.fit(ud_train)"
   ]
  },
  {
   "cell_type": "code",
   "execution_count": null,
   "id": "51d80715",
   "metadata": {},
   "outputs": [],
   "source": [
    "future = m.make_future_dataframe(periods=ud_test.shape[0], freq='W')"
   ]
  },
  {
   "cell_type": "code",
   "execution_count": null,
   "id": "0c97996c",
   "metadata": {},
   "outputs": [],
   "source": [
    "forecast = m.predict(df=future)"
   ]
  },
  {
   "cell_type": "code",
   "execution_count": null,
   "id": "d836f6c1",
   "metadata": {},
   "outputs": [],
   "source": [
    "forecast"
   ]
  },
  {
   "cell_type": "code",
   "execution_count": null,
   "id": "4096b561",
   "metadata": {},
   "outputs": [],
   "source": [
    "plot1 = m.plot(forecast)"
   ]
  },
  {
   "cell_type": "code",
   "execution_count": null,
   "id": "8aee8885",
   "metadata": {},
   "outputs": [],
   "source": [
    "ud_test"
   ]
  },
  {
   "cell_type": "code",
   "execution_count": null,
   "id": "2e0e66ab",
   "metadata": {},
   "outputs": [],
   "source": [
    "ud_test\n",
    "ud_train"
   ]
  },
  {
   "cell_type": "code",
   "execution_count": null,
   "id": "28012fb4",
   "metadata": {},
   "outputs": [],
   "source": [
    "print(ud_train, ud_test)"
   ]
  },
  {
   "cell_type": "code",
   "execution_count": null,
   "id": "408340c3",
   "metadata": {},
   "outputs": [],
   "source": [
    "ud_train"
   ]
  },
  {
   "cell_type": "code",
   "execution_count": null,
   "id": "288ab979",
   "metadata": {},
   "outputs": [],
   "source": [
    "ud_test"
   ]
  },
  {
   "cell_type": "code",
   "execution_count": null,
   "id": "292d8b5d",
   "metadata": {},
   "outputs": [],
   "source": [
    "unemployment_data.drop(['uu_id', 'countyfips', 'tract',\n",
    "       'tract_name', 'edu_8th_or_less', 'edu_grades_9_11',\n",
    "       'edu_hs_grad_equiv', 'edu_post_hs', 'edu_unknown',\n",
    "       'top_category_employer1', 'top_category_employer2',\n",
    "       'top_category_employer3', 'gender_female', 'gender_male', 'gender_na',\n",
    "       'race_amerindian', 'race_asian', 'race_black', 'race_noanswer',\n",
    "       'race_hawaiiannative', 'race_other', 'race_white'], axis=1, inplace=True)"
   ]
  },
  {
   "cell_type": "code",
   "execution_count": null,
   "id": "71058061",
   "metadata": {},
   "outputs": [],
   "source": [
    "query = \"\"\"\n",
    "SELECT *\n",
    "FROM `ironhacks-data.ironhacks_competition.unemployment_data`\n",
    "WHERE uu_id='e201385d37b5f6eea30f6d6d4106dc6f'\n",
    "\"\"\""
   ]
  },
  {
   "cell_type": "code",
   "execution_count": null,
   "id": "18482d35",
   "metadata": {},
   "outputs": [],
   "source": [
    "query_job = bigquery_client.query(query)\n",
    "unemployment_data = query_job.to_dataframe()"
   ]
  },
  {
   "cell_type": "code",
   "execution_count": null,
   "id": "795034b7",
   "metadata": {},
   "outputs": [],
   "source": [
    "unemployment_data.shape"
   ]
  },
  {
   "cell_type": "code",
   "execution_count": null,
   "id": "6bab6e13",
   "metadata": {},
   "outputs": [],
   "source": [
    "unemployment_data.sort_values(['week_number'])"
   ]
  },
  {
   "cell_type": "code",
   "execution_count": null,
   "id": "53f87cde",
   "metadata": {},
   "outputs": [],
   "source": [
    "unemployment_data.columns"
   ]
  },
  {
   "cell_type": "code",
   "execution_count": null,
   "id": "88c0fec7",
   "metadata": {},
   "outputs": [],
   "source": [
    "unemployment_data.drop(['uu_id', 'countyfips', 'tract',\n",
    "       'tract_name', 'edu_8th_or_less', 'edu_grades_9_11',\n",
    "       'edu_hs_grad_equiv', 'edu_post_hs', 'edu_unknown',\n",
    "       'top_category_employer1', 'top_category_employer2',\n",
    "       'top_category_employer3', 'gender_female', 'gender_male', 'gender_na',\n",
    "       'race_amerindian', 'race_asian', 'race_black', 'race_noanswer',\n",
    "       'race_hawaiiannative', 'race_other', 'race_white'], axis=1, inplace=True)"
   ]
  },
  {
   "cell_type": "code",
   "execution_count": null,
   "id": "151262dd",
   "metadata": {},
   "outputs": [],
   "source": [
    "unemployment_data"
   ]
  },
  {
   "cell_type": "code",
   "execution_count": null,
   "id": "0489624c",
   "metadata": {},
   "outputs": [],
   "source": [
    "unemployment_data.sort_values(['week_number'])"
   ]
  },
  {
   "cell_type": "code",
   "execution_count": null,
   "id": "7d4ebaf1",
   "metadata": {},
   "outputs": [],
   "source": [
    "unemployment_data.drop_duplicates(inplace=True)\n",
    "unemployment_data.sort_values(['week_number'])"
   ]
  },
  {
   "cell_type": "code",
   "execution_count": null,
   "id": "73989f94",
   "metadata": {},
   "outputs": [],
   "source": [
    "future = m.make_future_dataframe(periods=35, freq='W')"
   ]
  },
  {
   "cell_type": "code",
   "execution_count": null,
   "id": "de7269b3",
   "metadata": {},
   "outputs": [],
   "source": [
    "forecast = m.predict(df=future)"
   ]
  },
  {
   "cell_type": "code",
   "execution_count": null,
   "id": "acd6a012",
   "metadata": {},
   "outputs": [],
   "source": [
    "forecast"
   ]
  },
  {
   "cell_type": "code",
   "execution_count": null,
   "id": "bfff1941",
   "metadata": {},
   "outputs": [],
   "source": [
    "plot1 = m.plot(forecast)"
   ]
  },
  {
   "cell_type": "code",
   "execution_count": null,
   "id": "71a54710",
   "metadata": {},
   "outputs": [],
   "source": [
    "m = Prophet(weekly_seasonality=False,\n",
    "        daily_seasonality=False,\n",
    "        interval_width=0.95, \n",
    "        mcmc_samples = 500)"
   ]
  },
  {
   "cell_type": "code",
   "execution_count": null,
   "id": "a9ca80ae",
   "metadata": {},
   "outputs": [],
   "source": [
    "m.add_seasonality(\n",
    "        name='monthly', \n",
    "        period=30.5, \n",
    "        fourier_order=5\n",
    "    )"
   ]
  },
  {
   "cell_type": "code",
   "execution_count": null,
   "id": "5033050e",
   "metadata": {},
   "outputs": [],
   "source": [
    "m.fit(ud_train)"
   ]
  },
  {
   "cell_type": "code",
   "execution_count": null,
   "id": "4a22c0a1",
   "metadata": {},
   "outputs": [],
   "source": [
    "future = m.make_future_dataframe(periods=35, freq='W')"
   ]
  },
  {
   "cell_type": "code",
   "execution_count": null,
   "id": "e536930d",
   "metadata": {},
   "outputs": [],
   "source": [
    "forecast = m.predict(df=future)"
   ]
  },
  {
   "cell_type": "code",
   "execution_count": null,
   "id": "c7bbd4eb",
   "metadata": {},
   "outputs": [],
   "source": [
    "forecast"
   ]
  },
  {
   "cell_type": "code",
   "execution_count": null,
   "id": "a6ec880c",
   "metadata": {},
   "outputs": [],
   "source": [
    "plot1 = m.plot(forecast)"
   ]
  },
  {
   "cell_type": "code",
   "execution_count": null,
   "id": "0207faec",
   "metadata": {},
   "outputs": [],
   "source": [
    "ud_test"
   ]
  },
  {
   "cell_type": "code",
   "execution_count": null,
   "id": "5030f3fd",
   "metadata": {},
   "outputs": [],
   "source": [
    "forecast['ds']"
   ]
  },
  {
   "cell_type": "code",
   "execution_count": null,
   "id": "e61d157a",
   "metadata": {},
   "outputs": [],
   "source": [
    "forecast['ds' == pd.to_datetime('2022-05-14')]).yhat"
   ]
  },
  {
   "cell_type": "code",
   "execution_count": null,
   "id": "c55f40d4",
   "metadata": {},
   "outputs": [],
   "source": [
    "forecast['ds' == pd.to_datetime('2022-05-14')])"
   ]
  },
  {
   "cell_type": "code",
   "execution_count": null,
   "id": "682e22b0",
   "metadata": {},
   "outputs": [],
   "source": [
    "forecast['ds' == pd.to_datetime('2022-05-14')].yhat"
   ]
  },
  {
   "cell_type": "code",
   "execution_count": null,
   "id": "e86ec14a",
   "metadata": {},
   "outputs": [],
   "source": [
    "forecast['ds' == pd.to_datetime('2022-05-14')]"
   ]
  },
  {
   "cell_type": "code",
   "execution_count": null,
   "id": "aaf4254e",
   "metadata": {},
   "outputs": [],
   "source": [
    "m = Prophet(weekly_seasonality=False,\n",
    "        daily_seasonality=False,\n",
    "        interval_width=0.95, \n",
    "        mcmc_samples = 500)"
   ]
  },
  {
   "cell_type": "markdown",
   "id": "2896c396",
   "metadata": {},
   "source": [
    "m.add_seasonality(\n",
    "        name='monthly', \n",
    "        period=30.5, \n",
    "        fourier_order=5\n",
    "    )"
   ]
  },
  {
   "cell_type": "code",
   "execution_count": null,
   "id": "441e520f",
   "metadata": {},
   "outputs": [],
   "source": [
    "m.fit(ud_train)"
   ]
  },
  {
   "cell_type": "code",
   "execution_count": null,
   "id": "0b63c7dc",
   "metadata": {},
   "outputs": [],
   "source": [
    "future = m.make_future_dataframe(periods=35, freq='W')"
   ]
  },
  {
   "cell_type": "code",
   "execution_count": null,
   "id": "ae5a9e37",
   "metadata": {},
   "outputs": [],
   "source": [
    "forecast = m.predict(df=future)"
   ]
  },
  {
   "cell_type": "code",
   "execution_count": null,
   "id": "2982f70f",
   "metadata": {},
   "outputs": [],
   "source": [
    "future = m.make_future_dataframe(periods=35, freq='W')"
   ]
  },
  {
   "cell_type": "code",
   "execution_count": null,
   "id": "5b2a87fb",
   "metadata": {},
   "outputs": [],
   "source": [
    "forecast = m.predict(df=future)"
   ]
  },
  {
   "cell_type": "code",
   "execution_count": null,
   "id": "2f34a503",
   "metadata": {},
   "outputs": [],
   "source": [
    "ud = unemployment_data"
   ]
  },
  {
   "cell_type": "code",
   "execution_count": null,
   "id": "dc042818",
   "metadata": {},
   "outputs": [],
   "source": [
    "threshold_date = pd.to_datetime('2022-05-14')\n",
    "mask = ud['ds'] < threshold_date"
   ]
  },
  {
   "cell_type": "code",
   "execution_count": null,
   "id": "1b99f716",
   "metadata": {},
   "outputs": [],
   "source": [
    "# Split the data and select `ds` and `y` columns.\n",
    "ud_train = ud[mask][['ds', 'y']]\n",
    "ud_test = ud[~mask][['ds', 'y']]"
   ]
  },
  {
   "cell_type": "code",
   "execution_count": null,
   "id": "0b679548",
   "metadata": {},
   "outputs": [],
   "source": [
    "query = \"\"\"\n",
    "SELECT *\n",
    "FROM `ironhacks-data.ironhacks_competition.unemployment_data`\n",
    "WHERE uu_id='e201385d37b5f6eea30f6d6d4106dc6f'\n",
    "\"\"\""
   ]
  },
  {
   "cell_type": "code",
   "execution_count": null,
   "id": "fe6c61e9",
   "metadata": {},
   "outputs": [],
   "source": [
    "query_job = bigquery_client.query(query)\n",
    "unemployment_data = query_job.to_dataframe()"
   ]
  },
  {
   "cell_type": "code",
   "execution_count": null,
   "id": "da854e81",
   "metadata": {},
   "outputs": [],
   "source": [
    "unemployment_data.drop(['uu_id', 'countyfips', 'tract',\n",
    "       'tract_name', 'edu_8th_or_less', 'edu_grades_9_11',\n",
    "       'edu_hs_grad_equiv', 'edu_post_hs', 'edu_unknown',\n",
    "       'top_category_employer1', 'top_category_employer2',\n",
    "       'top_category_employer3', 'gender_female', 'gender_male', 'gender_na',\n",
    "       'race_amerindian', 'race_asian', 'race_black', 'race_noanswer',\n",
    "       'race_hawaiiannative', 'race_other', 'race_white'], axis=1, inplace=True)"
   ]
  },
  {
   "cell_type": "code",
   "execution_count": null,
   "id": "d1b81d23",
   "metadata": {},
   "outputs": [],
   "source": [
    "unemployment_data.drop_duplicates(inplace=True)\n",
    "unemployment_data.sort_values(['week_number'])"
   ]
  },
  {
   "cell_type": "code",
   "execution_count": null,
   "id": "9a8bb85f",
   "metadata": {},
   "outputs": [],
   "source": [
    "unemployment_data['year'] = unemployment_data['timeperiod'].apply(lambda x: str(x)[:4])\n",
    "unemployment_data['month'] = unemployment_data['timeperiod'].apply(lambda x: str(x)[4:6])\n",
    "unemployment_data['day'] = unemployment_data['timeperiod'].apply(lambda x: str(x)[6:])"
   ]
  },
  {
   "cell_type": "code",
   "execution_count": null,
   "id": "5e9c5240",
   "metadata": {},
   "outputs": [],
   "source": [
    "unemployment_data['ds'] = pd.DatetimeIndex(unemployment_data['year'] + '-' + unemployment_data['month'] + '-' + unemployment_data['day'])"
   ]
  },
  {
   "cell_type": "code",
   "execution_count": null,
   "id": "32ccb272",
   "metadata": {},
   "outputs": [],
   "source": [
    "unemployment_data"
   ]
  },
  {
   "cell_type": "code",
   "execution_count": null,
   "id": "f9557745",
   "metadata": {},
   "outputs": [],
   "source": [
    "unemployment_data.drop(['timeperiod', 'year', 'month', 'day', 'week_number'], axis=1, inplace=True)\n",
    "unemployment_data.columns = ['y', 'ds']"
   ]
  },
  {
   "cell_type": "code",
   "execution_count": null,
   "id": "e8ce1dae",
   "metadata": {},
   "outputs": [],
   "source": [
    "unemployment_data"
   ]
  },
  {
   "cell_type": "code",
   "execution_count": null,
   "id": "1cce5dec",
   "metadata": {},
   "outputs": [],
   "source": [
    "unemployment_data.sort_values(['ds'], inplace=True)"
   ]
  },
  {
   "cell_type": "code",
   "execution_count": null,
   "id": "198adffb",
   "metadata": {},
   "outputs": [],
   "source": [
    "unemployment_data"
   ]
  },
  {
   "cell_type": "code",
   "execution_count": null,
   "id": "b4a26a4d",
   "metadata": {},
   "outputs": [],
   "source": [
    "ud = unemployment_data"
   ]
  },
  {
   "cell_type": "code",
   "execution_count": null,
   "id": "df6efa83",
   "metadata": {},
   "outputs": [],
   "source": [
    "threshold_date = pd.to_datetime('2022-05-14')\n",
    "mask = ud['ds'] < threshold_date"
   ]
  },
  {
   "cell_type": "code",
   "execution_count": null,
   "id": "952ac566",
   "metadata": {},
   "outputs": [],
   "source": [
    "# Split the data and select `ds` and `y` columns.\n",
    "ud_train = ud[mask][['ds', 'y']]\n",
    "ud_test = ud[~mask][['ds', 'y']]"
   ]
  },
  {
   "cell_type": "code",
   "execution_count": null,
   "id": "dcbf9fad",
   "metadata": {},
   "outputs": [],
   "source": [
    "m.fit(ud_train)"
   ]
  },
  {
   "cell_type": "code",
   "execution_count": null,
   "id": "8dd4dab5",
   "metadata": {},
   "outputs": [],
   "source": [
    "m = Prophet(weekly_seasonality=False,\n",
    "        daily_seasonality=False,\n",
    "        interval_width=0.95, \n",
    "        mcmc_samples = 500)"
   ]
  },
  {
   "cell_type": "markdown",
   "id": "4db42c53",
   "metadata": {},
   "source": [
    "m.add_seasonality(\n",
    "        name='monthly', \n",
    "        period=30.5, \n",
    "        fourier_order=5\n",
    "    )"
   ]
  },
  {
   "cell_type": "code",
   "execution_count": null,
   "id": "41b624d0",
   "metadata": {},
   "outputs": [],
   "source": [
    "m.fit(ud_train)"
   ]
  },
  {
   "cell_type": "code",
   "execution_count": null,
   "id": "3e180006",
   "metadata": {},
   "outputs": [],
   "source": [
    "future = m.make_future_dataframe(periods=35, freq='W')"
   ]
  },
  {
   "cell_type": "code",
   "execution_count": null,
   "id": "d9637d0d",
   "metadata": {},
   "outputs": [],
   "source": [
    "forecast = m.predict(df=future)"
   ]
  },
  {
   "cell_type": "code",
   "execution_count": null,
   "id": "71bc454b",
   "metadata": {},
   "outputs": [],
   "source": [
    "m = Prophet(weekly_seasonality=False,\n",
    "        daily_seasonality=False,\n",
    "        interval_width=0.95, \n",
    "        mcmc_samples = 500)"
   ]
  },
  {
   "cell_type": "markdown",
   "id": "b2db801b",
   "metadata": {},
   "source": [
    "m.add_seasonality(\n",
    "        name='monthly', \n",
    "        period=30.5, \n",
    "        fourier_order=5\n",
    "    )"
   ]
  },
  {
   "cell_type": "code",
   "execution_count": null,
   "id": "58f0070a",
   "metadata": {},
   "outputs": [],
   "source": [
    "m.fit(ud_train)"
   ]
  },
  {
   "cell_type": "code",
   "execution_count": null,
   "id": "e97847ea",
   "metadata": {},
   "outputs": [],
   "source": [
    "future = m.make_future_dataframe(periods=35, freq='W')"
   ]
  },
  {
   "cell_type": "code",
   "execution_count": null,
   "id": "7540943e",
   "metadata": {},
   "outputs": [],
   "source": [
    "forecast = m.predict(df=future)"
   ]
  },
  {
   "cell_type": "code",
   "execution_count": null,
   "id": "6c80302b",
   "metadata": {},
   "outputs": [],
   "source": [
    "threshold_date = pd.to_datetime('2022-05-14')\n",
    "mask = ud['ds'] < threshold_date"
   ]
  },
  {
   "cell_type": "code",
   "execution_count": null,
   "id": "82afda21",
   "metadata": {},
   "outputs": [],
   "source": [
    "# Split the data and select `ds` and `y` columns.\n",
    "ud_train = ud[mask][['ds', 'y']]\n",
    "ud_test = ud[~mask][['ds', 'y']]"
   ]
  },
  {
   "cell_type": "code",
   "execution_count": null,
   "id": "62ea2884",
   "metadata": {},
   "outputs": [],
   "source": [
    "threshold_date = pd.to_datetime('2022-05-14')\n",
    "mask = ud['ds'] < threshold_date"
   ]
  },
  {
   "cell_type": "code",
   "execution_count": null,
   "id": "e958f864",
   "metadata": {},
   "outputs": [],
   "source": [
    "# Split the data and select `ds` and `y` columns.\n",
    "ud_train = ud[mask][['ds', 'y']]\n",
    "ud_test = ud[~mask][['ds', 'y']]"
   ]
  },
  {
   "cell_type": "code",
   "execution_count": null,
   "id": "cb6235a9",
   "metadata": {},
   "outputs": [],
   "source": [
    "ud_train"
   ]
  },
  {
   "cell_type": "code",
   "execution_count": null,
   "id": "78545a52",
   "metadata": {},
   "outputs": [],
   "source": [
    "m = Prophet(weekly_seasonality=False,\n",
    "        daily_seasonality=False,\n",
    "        interval_width=0.95, \n",
    "        mcmc_samples = 500)"
   ]
  },
  {
   "cell_type": "markdown",
   "id": "36fd78f7",
   "metadata": {},
   "source": [
    "m.add_seasonality(\n",
    "        name='monthly', \n",
    "        period=30.5, \n",
    "        fourier_order=5\n",
    "    )"
   ]
  },
  {
   "cell_type": "code",
   "execution_count": null,
   "id": "f8d9929d",
   "metadata": {},
   "outputs": [],
   "source": [
    "m.fit(ud_train)"
   ]
  },
  {
   "cell_type": "code",
   "execution_count": null,
   "id": "89593b97",
   "metadata": {},
   "outputs": [],
   "source": [
    "future = m.make_future_dataframe(periods=35, freq='W')"
   ]
  },
  {
   "cell_type": "code",
   "execution_count": null,
   "id": "ec491d6b",
   "metadata": {},
   "outputs": [],
   "source": [
    "forecast = m.predict(df=future)"
   ]
  },
  {
   "cell_type": "code",
   "execution_count": null,
   "id": "b628b737",
   "metadata": {},
   "outputs": [],
   "source": [
    "future = m.make_future_dataframe(periods=20, freq='W')"
   ]
  },
  {
   "cell_type": "code",
   "execution_count": null,
   "id": "3cb2f660",
   "metadata": {
    "lines_to_next_cell": 2
   },
   "outputs": [],
   "source": [
    "forecast = m.predict(df=future)"
   ]
  }
 ],
 "metadata": {
  "jupytext": {
   "cell_metadata_filter": "-all",
   "main_language": "python",
   "notebook_metadata_filter": "-all"
  }
 },
 "nbformat": 4,
 "nbformat_minor": 5
}
