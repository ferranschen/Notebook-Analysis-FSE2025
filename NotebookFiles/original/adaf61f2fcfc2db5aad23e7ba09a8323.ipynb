{
 "cells": [
  {
   "cell_type": "code",
   "execution_count": null,
   "id": "125aa3b7",
   "metadata": {},
   "outputs": [],
   "source": [
    "get_ipython().system('pip install db-dtypes')\n",
    "get_ipython().system('pip install plotly')"
   ]
  },
  {
   "cell_type": "code",
   "execution_count": null,
   "id": "6c147553",
   "metadata": {},
   "outputs": [],
   "source": [
    "import os\n",
    "import pandas\n",
    "from google.cloud import bigquery\n",
    "from google.oauth2 import service_account\n",
    "from google.cloud.bigquery import magics"
   ]
  },
  {
   "cell_type": "code",
   "execution_count": null,
   "id": "71108f51",
   "metadata": {},
   "outputs": [],
   "source": [
    "from sklearn.experimental import enable_iterative_imputer\n",
    "from sklearn.impute import IterativeImputer\n",
    "from sklearn.impute import KNNImputer\n",
    "from sklearn.preprocessing import StandardScaler\n",
    "from scipy import stats\n",
    "from scipy.stats import shapiro\n",
    "from scipy.stats import skew"
   ]
  },
  {
   "cell_type": "code",
   "execution_count": null,
   "id": "2695c74a",
   "metadata": {},
   "outputs": [],
   "source": [
    "import numpy as np\n",
    "from numpy import isnan\n",
    "from matplotlib import pyplot"
   ]
  },
  {
   "cell_type": "code",
   "execution_count": null,
   "id": "c3034a83",
   "metadata": {},
   "outputs": [],
   "source": [
    "import seaborn as sns\n",
    "import matplotlib \n",
    "import matplotlib.pyplot as plt\n",
    "import plotly \n",
    "import plotly.express as px"
   ]
  },
  {
   "cell_type": "code",
   "execution_count": null,
   "id": "73ca1a10",
   "metadata": {},
   "outputs": [],
   "source": [
    "import pandas as pd"
   ]
  },
  {
   "cell_type": "code",
   "execution_count": null,
   "id": "b1cca934",
   "metadata": {},
   "outputs": [],
   "source": [
    "BIGQUERY_PROJECT = 'ironhacks-data'\n",
    "bigquery_client = bigquery.Client(project=BIGQUERY_PROJECT)"
   ]
  },
  {
   "cell_type": "code",
   "execution_count": null,
   "id": "ea6d057a",
   "metadata": {},
   "outputs": [],
   "source": [
    "query = \"\"\"\n",
    "SELECT *\n",
    "FROM `ironhacks-data.ironhacks_competition.unemployment_data`\n",
    "\"\"\""
   ]
  },
  {
   "cell_type": "code",
   "execution_count": null,
   "id": "37545df2",
   "metadata": {},
   "outputs": [],
   "source": [
    "query_job = bigquery_client.query(query)\n",
    "unemploy = query_job.to_dataframe()\n",
    "unemploy.head()"
   ]
  },
  {
   "cell_type": "code",
   "execution_count": null,
   "id": "d76b226d",
   "metadata": {},
   "outputs": [],
   "source": [
    "wage = \"\"\"\n",
    "SELECT *\n",
    "FROM `ironhacks-data.ironhacks_competition.wage_data`\n",
    "\"\"\""
   ]
  },
  {
   "cell_type": "code",
   "execution_count": null,
   "id": "ec71f4dd",
   "metadata": {},
   "outputs": [],
   "source": [
    "query_wage = bigquery_client.query(wage)\n",
    "wages = query_wage.to_dataframe()\n",
    "wages.head()"
   ]
  },
  {
   "cell_type": "code",
   "execution_count": null,
   "id": "83df92f7",
   "metadata": {},
   "outputs": [],
   "source": [
    "wages.info()"
   ]
  },
  {
   "cell_type": "code",
   "execution_count": null,
   "id": "b1f1542e",
   "metadata": {},
   "outputs": [],
   "source": [
    "unemploy.info()"
   ]
  },
  {
   "cell_type": "code",
   "execution_count": null,
   "id": "5a942ae4",
   "metadata": {},
   "outputs": [],
   "source": [
    "unemploy.isnull().sum()"
   ]
  },
  {
   "cell_type": "code",
   "execution_count": null,
   "id": "28eefce2",
   "metadata": {},
   "outputs": [],
   "source": [
    "unemploy=unemploy.sort_values('week_number', ascending=True)\n",
    "unemploy.reset_index(inplace=True)\n",
    "unemploy"
   ]
  },
  {
   "cell_type": "code",
   "execution_count": null,
   "id": "fc353d38",
   "metadata": {},
   "outputs": [],
   "source": [
    "sns.heatmap(unemploy.isnull(),cbar=False)"
   ]
  },
  {
   "cell_type": "code",
   "execution_count": null,
   "id": "97b56068",
   "metadata": {},
   "outputs": [],
   "source": [
    "miss=unemploy.isnull()\n",
    "total=unemploy.count()\n",
    "total"
   ]
  },
  {
   "cell_type": "code",
   "execution_count": null,
   "id": "86f77cc6",
   "metadata": {},
   "outputs": [],
   "source": [
    "miss.sum()"
   ]
  },
  {
   "cell_type": "code",
   "execution_count": null,
   "id": "d94f4d16",
   "metadata": {},
   "outputs": [],
   "source": [
    "miss.sum()/len(unemploy)"
   ]
  },
  {
   "cell_type": "code",
   "execution_count": null,
   "id": "eb1df077",
   "metadata": {},
   "outputs": [],
   "source": [
    "map_1 = unemploy.corr(method ='spearman')\n",
    "sns.heatmap(map_1)"
   ]
  },
  {
   "cell_type": "code",
   "execution_count": null,
   "id": "2fedad18",
   "metadata": {},
   "outputs": [],
   "source": [
    "unemploy[\"race_hawaiiannative\"].unique()"
   ]
  },
  {
   "cell_type": "code",
   "execution_count": null,
   "id": "76ef4933",
   "metadata": {},
   "outputs": [],
   "source": [
    "df1=unemploy.copy()\n",
    "df1=df1.drop(columns=\"race_hawaiiannative\")"
   ]
  },
  {
   "cell_type": "code",
   "execution_count": null,
   "id": "67c8383c",
   "metadata": {},
   "outputs": [],
   "source": [
    "df=unemploy[['top_category_employer1',\"top_category_employer2\",\"top_category_employer3\",'uu_id',\"tract_name\",\"timeperiod\",\"tract\",\"countyfips\"]]"
   ]
  },
  {
   "cell_type": "code",
   "execution_count": null,
   "id": "13336c59",
   "metadata": {},
   "outputs": [],
   "source": [
    "df"
   ]
  },
  {
   "cell_type": "code",
   "execution_count": null,
   "id": "da32777a",
   "metadata": {},
   "outputs": [],
   "source": [
    "df1.drop(columns=['top_category_employer1',\"top_category_employer2\",\"top_category_employer3\",'uu_id',\"tract_name\",\"timeperiod\",\"tract\",\"countyfips\"],inplace=True)"
   ]
  },
  {
   "cell_type": "code",
   "execution_count": null,
   "id": "776f4f6d",
   "metadata": {},
   "outputs": [],
   "source": [
    "impute1=KNNImputer()\n",
    "impute1.fit(df1)\n",
    "unemploy1=pd.DataFrame(impute1.fit_transform(df1),columns = df1.columns)"
   ]
  },
  {
   "cell_type": "code",
   "execution_count": null,
   "id": "9ee3793c",
   "metadata": {},
   "outputs": [],
   "source": [
    "unemploy1"
   ]
  },
  {
   "cell_type": "code",
   "execution_count": null,
   "id": "581728a5",
   "metadata": {},
   "outputs": [],
   "source": [
    "trial=pd.merge(df, unemploy1, left_index=True, right_index=True)"
   ]
  },
  {
   "cell_type": "code",
   "execution_count": null,
   "id": "671e03d0",
   "metadata": {},
   "outputs": [],
   "source": [
    "trial.head()"
   ]
  },
  {
   "cell_type": "code",
   "execution_count": null,
   "id": "fb8e2156",
   "metadata": {},
   "outputs": [],
   "source": [
    "trial.describe()"
   ]
  },
  {
   "cell_type": "code",
   "execution_count": null,
   "id": "daf44aba",
   "metadata": {},
   "outputs": [],
   "source": [
    "sns.heatmap(trial.corr(method=\"spearman\"))"
   ]
  },
  {
   "cell_type": "code",
   "execution_count": null,
   "id": "d03996d3",
   "metadata": {},
   "outputs": [],
   "source": [
    "trial1=trial.copy()"
   ]
  },
  {
   "cell_type": "code",
   "execution_count": null,
   "id": "ba1bba9b",
   "metadata": {},
   "outputs": [],
   "source": [
    "scaler = StandardScaler()\n",
    "scaled=pd.DataFrame(scaler.fit_transform(unemploy1),columns = unemploy1.columns)"
   ]
  },
  {
   "cell_type": "code",
   "execution_count": null,
   "id": "a8b71b76",
   "metadata": {},
   "outputs": [],
   "source": [
    "scaled"
   ]
  },
  {
   "cell_type": "code",
   "execution_count": null,
   "id": "fb144231",
   "metadata": {},
   "outputs": [],
   "source": [
    "sns.displot(data=scaled,x=\"total_claims\",kind=\"kde\")"
   ]
  },
  {
   "cell_type": "code",
   "execution_count": null,
   "id": "da70086a",
   "metadata": {},
   "outputs": [],
   "source": [
    "claim = np.array(scaled[\"total_claims\"])\n",
    "sqrt_claim = np.sqrt(claim)\n",
    "log_claim = np.log(claim)\n",
    "f, ((f1, f2, f3), (f4, f5, f6)) = plt.subplots(2, 3)\n",
    "#f, ((f1, f2), (f4, f5)) = plt.subplots(2, 2)\n",
    "f1.hist(claim, 30)\n",
    "f2.hist(sqrt_claim, 30)\n",
    "f3.hist(log_claim, 30)"
   ]
  },
  {
   "cell_type": "code",
   "execution_count": null,
   "id": "de6d722a",
   "metadata": {},
   "outputs": [],
   "source": [
    "stats.probplot(claim, plot=f4)\n",
    "stats.probplot(sqrt_claim, plot=f5)\n",
    "stats.probplot(log_claim, plot=f6)\n",
    "plt.show\n",
    "stats.shapiro(claim)[1], stats.shapiro(sqrt_claim)[1], stats.shapiro(log_claim)[1]"
   ]
  },
  {
   "cell_type": "code",
   "execution_count": null,
   "id": "beb3ed48",
   "metadata": {},
   "outputs": [],
   "source": [
    "shapiro(sqrt_claim)"
   ]
  },
  {
   "cell_type": "code",
   "execution_count": null,
   "id": "500a03d2",
   "metadata": {},
   "outputs": [],
   "source": [
    "print(skew(sqrt_claim))"
   ]
  },
  {
   "cell_type": "code",
   "execution_count": null,
   "id": "bdb1e861",
   "metadata": {},
   "outputs": [],
   "source": [
    "shapiro(unemploy1.total_claims)"
   ]
  },
  {
   "cell_type": "code",
   "execution_count": null,
   "id": "f2126ec6",
   "metadata": {},
   "outputs": [],
   "source": [
    "sns.displot(data=scaled,x=\"total_claims\",kind=\"kde\")"
   ]
  },
  {
   "cell_type": "code",
   "execution_count": null,
   "id": "d9e054c0",
   "metadata": {},
   "outputs": [],
   "source": [
    "f3.hist(log_claim, 30)"
   ]
  },
  {
   "cell_type": "code",
   "execution_count": null,
   "id": "5a336e44",
   "metadata": {},
   "outputs": [],
   "source": [
    "import pylab"
   ]
  },
  {
   "cell_type": "code",
   "execution_count": null,
   "id": "0603cd7d",
   "metadata": {},
   "outputs": [],
   "source": [
    "stats.probplot(log_claim,dist=\"norm\",plot=pylab)\n",
    "pylab.show()"
   ]
  },
  {
   "cell_type": "code",
   "execution_count": null,
   "id": "309f5204",
   "metadata": {},
   "outputs": [],
   "source": [
    "sns.distplot(une)"
   ]
  },
  {
   "cell_type": "code",
   "execution_count": null,
   "id": "2f4f165e",
   "metadata": {},
   "outputs": [],
   "source": [
    "sns.boxplot(x=scale_logs[\"edu_grades_9_11\"])"
   ]
  },
  {
   "cell_type": "code",
   "execution_count": null,
   "id": "74ceba1b",
   "metadata": {},
   "outputs": [],
   "source": [
    "unemploy_logs = np.log(unemploy1)"
   ]
  },
  {
   "cell_type": "code",
   "execution_count": null,
   "id": "0075a4a1",
   "metadata": {},
   "outputs": [],
   "source": [
    "unemp_cube=np.power((unemploy1),1/3)"
   ]
  },
  {
   "cell_type": "code",
   "execution_count": null,
   "id": "064f0ec4",
   "metadata": {},
   "outputs": [],
   "source": [
    "statistics,pvalue = jarque_bera(unemp_cube)"
   ]
  },
  {
   "cell_type": "code",
   "execution_count": null,
   "id": "0357428e",
   "metadata": {},
   "outputs": [],
   "source": [
    "print('statistics=%.3f, p=%.3f\\n' %(statistics, pvalue))\n",
    "if pvalue>0.05:\n",
    "    print(\"Probably Normal\")\n",
    "else:\n",
    "    print(\"Probably not Normal\")"
   ]
  },
  {
   "cell_type": "code",
   "execution_count": null,
   "id": "f03d0a8d",
   "metadata": {},
   "outputs": [],
   "source": [
    "from scipy.stats import jarque_bera"
   ]
  },
  {
   "cell_type": "code",
   "execution_count": null,
   "id": "5e62f05e",
   "metadata": {},
   "outputs": [],
   "source": [
    "statistics,pvalue = jarque_bera(unemp_cube)"
   ]
  },
  {
   "cell_type": "code",
   "execution_count": null,
   "id": "6622c293",
   "metadata": {},
   "outputs": [],
   "source": [
    "print('statistics=%.3f, p=%.3f\\n' %(statistics, pvalue))\n",
    "if pvalue>0.05:\n",
    "    print(\"Probably Normal\")\n",
    "else:\n",
    "    print(\"Probably not Normal\")"
   ]
  },
  {
   "cell_type": "code",
   "execution_count": null,
   "id": "5be683e5",
   "metadata": {},
   "outputs": [],
   "source": [
    "statistics,pvalue = jarque_bera(unemp_cube[\"edu_grades_9_11\"])"
   ]
  },
  {
   "cell_type": "code",
   "execution_count": null,
   "id": "b066d253",
   "metadata": {},
   "outputs": [],
   "source": [
    "print('statistics=%.3f, p=%.3f\\n' %(statistics, pvalue))\n",
    "if pvalue>0.05:\n",
    "    print(\"Probably Normal\")\n",
    "else:\n",
    "    print(\"Probably not Normal\")"
   ]
  },
  {
   "cell_type": "code",
   "execution_count": null,
   "id": "367be095",
   "metadata": {},
   "outputs": [],
   "source": [
    "statistics,pvalue = jarque_bera(unemploy1[\"edu_grades_9_11\"])"
   ]
  },
  {
   "cell_type": "code",
   "execution_count": null,
   "id": "04db572e",
   "metadata": {},
   "outputs": [],
   "source": [
    "print('statistics=%.3f, p=%.3f\\n' %(statistics, pvalue))\n",
    "if pvalue>0.05:\n",
    "    print(\"Probably Normal\")\n",
    "else:\n",
    "    print(\"Probably not Normal\")"
   ]
  },
  {
   "cell_type": "code",
   "execution_count": null,
   "id": "243c3215",
   "metadata": {},
   "outputs": [],
   "source": [
    "statistics,pvalue = jarque_bera(unemploy1[\"gender_male\"])"
   ]
  },
  {
   "cell_type": "code",
   "execution_count": null,
   "id": "0166b4c3",
   "metadata": {},
   "outputs": [],
   "source": [
    "print('statistics=%.3f, p=%.3f\\n' %(statistics, pvalue))\n",
    "if pvalue>0.05:\n",
    "    print(\"Probably Normal\")\n",
    "else:\n",
    "    print(\"Probably not Normal\")"
   ]
  },
  {
   "cell_type": "code",
   "execution_count": null,
   "id": "2e3c002f",
   "metadata": {},
   "outputs": [],
   "source": [
    "statistics,pvalue = jarque_bera(unemploy1[\"gender_female\"])"
   ]
  },
  {
   "cell_type": "code",
   "execution_count": null,
   "id": "5b039f3c",
   "metadata": {},
   "outputs": [],
   "source": [
    "print('statistics=%.3f, p=%.3f\\n' %(statistics, pvalue))\n",
    "if pvalue>0.05:\n",
    "    print(\"Probably Normal\")\n",
    "else:\n",
    "    print(\"Probably not Normal\")"
   ]
  },
  {
   "cell_type": "code",
   "execution_count": null,
   "id": "dd62aafe",
   "metadata": {},
   "outputs": [],
   "source": [
    "statistics,pvalue = jarque_bera(unemploy1[\"gender_na\"])"
   ]
  },
  {
   "cell_type": "code",
   "execution_count": null,
   "id": "ab21529c",
   "metadata": {},
   "outputs": [],
   "source": [
    "print('statistics=%.3f, p=%.3f\\n' %(statistics, pvalue))\n",
    "if pvalue>0.05:\n",
    "    print(\"Probably Normal\")\n",
    "else:\n",
    "    print(\"Probably not Normal\")"
   ]
  },
  {
   "cell_type": "code",
   "execution_count": null,
   "id": "dfd06414",
   "metadata": {},
   "outputs": [],
   "source": [
    "statistics,pvalue = jarque_bera(unemploy1[\"race_white\"])"
   ]
  },
  {
   "cell_type": "code",
   "execution_count": null,
   "id": "a48c224c",
   "metadata": {},
   "outputs": [],
   "source": [
    "print('statistics=%.3f, p=%.3f\\n' %(statistics, pvalue))\n",
    "if pvalue>0.05:\n",
    "    print(\"Probably Normal\")\n",
    "else:\n",
    "    print(\"Probably not Normal\")"
   ]
  },
  {
   "cell_type": "code",
   "execution_count": null,
   "id": "b210a4e6",
   "metadata": {},
   "outputs": [],
   "source": [
    "statistics,pvalue = jarque_bera(unemploy1[\"race_black\"])"
   ]
  },
  {
   "cell_type": "code",
   "execution_count": null,
   "id": "d2611dd1",
   "metadata": {},
   "outputs": [],
   "source": [
    "print('statistics=%.3f, p=%.3f\\n' %(statistics, pvalue))\n",
    "if pvalue>0.05:\n",
    "    print(\"Probably Normal\")\n",
    "else:\n",
    "    print(\"Probably not Normal\")"
   ]
  },
  {
   "cell_type": "code",
   "execution_count": null,
   "id": "67263dea",
   "metadata": {},
   "outputs": [],
   "source": [
    "statistics,pvalue = jarque_bera(unemploy1[\"race_ameriindia\"])"
   ]
  },
  {
   "cell_type": "code",
   "execution_count": null,
   "id": "74f48a0e",
   "metadata": {},
   "outputs": [],
   "source": [
    "print('statistics=%.3f, p=%.3f\\n' %(statistics, pvalue))\n",
    "if pvalue>0.05:\n",
    "    print(\"Probably Normal\")\n",
    "else:\n",
    "    print(\"Probably not Normal\")"
   ]
  },
  {
   "cell_type": "code",
   "execution_count": null,
   "id": "85086686",
   "metadata": {},
   "outputs": [],
   "source": [
    "statistics,pvalue = jarque_bera(unemploy1[\"race_amerindian\"])"
   ]
  },
  {
   "cell_type": "code",
   "execution_count": null,
   "id": "3cded47f",
   "metadata": {},
   "outputs": [],
   "source": [
    "print('statistics=%.3f, p=%.3f\\n' %(statistics, pvalue))\n",
    "if pvalue>0.05:\n",
    "    print(\"Probably Normal\")\n",
    "else:\n",
    "    print(\"Probably not Normal\")"
   ]
  },
  {
   "cell_type": "code",
   "execution_count": null,
   "id": "0cf6eb54",
   "metadata": {},
   "outputs": [],
   "source": [
    "statistics,pvalue = jarque_bera(unemploy1[\"race_asian\"])"
   ]
  },
  {
   "cell_type": "code",
   "execution_count": null,
   "id": "553ad13a",
   "metadata": {},
   "outputs": [],
   "source": [
    "print('statistics=%.3f, p=%.3f\\n' %(statistics, pvalue))\n",
    "if pvalue>0.05:\n",
    "    print(\"Probably Normal\")\n",
    "else:\n",
    "    print(\"Probably not Normal\")"
   ]
  },
  {
   "cell_type": "code",
   "execution_count": null,
   "id": "e0272ce4",
   "metadata": {},
   "outputs": [],
   "source": [
    "from sklearn.experimental import enable_iterative_imputer\n",
    "from sklearn.impute import IterativeImputer\n",
    "from sklearn.impute import KNNImputer\n",
    "from sklearn.preprocessing import StandardScaler\n",
    "from scipy import stats\n",
    "from scipy.stats import boxcox\n",
    "from scipy.stats import jarque_bera\n",
    "from scipy.stats import shapiro\n",
    "from scipy.stats import skew"
   ]
  },
  {
   "cell_type": "code",
   "execution_count": null,
   "id": "86b9f691",
   "metadata": {},
   "outputs": [],
   "source": [
    "import numpy as np\n",
    "from numpy import isnan\n",
    "from matplotlib import pyplot"
   ]
  },
  {
   "cell_type": "code",
   "execution_count": null,
   "id": "b8e54fdf",
   "metadata": {},
   "outputs": [],
   "source": [
    "import seaborn as sns\n",
    "import matplotlib \n",
    "import matplotlib.pyplot as plt\n",
    "import plotly \n",
    "import plotly.express as px"
   ]
  },
  {
   "cell_type": "code",
   "execution_count": null,
   "id": "216c5f4b",
   "metadata": {},
   "outputs": [],
   "source": [
    "import pandas as pd"
   ]
  },
  {
   "cell_type": "code",
   "execution_count": null,
   "id": "7d9f228d",
   "metadata": {},
   "outputs": [],
   "source": [
    "transformed_data, best_lambda = boxcox(unemploy1)\n",
    "sns.distpolt(transformed_data,)"
   ]
  },
  {
   "cell_type": "code",
   "execution_count": null,
   "id": "f38b6492",
   "metadata": {},
   "outputs": [],
   "source": [
    "transformed_data, best_lambda = boxcox(unemploy1[\"total_claims\"])\n",
    "sns.distpolt(transformed_data,)"
   ]
  },
  {
   "cell_type": "code",
   "execution_count": null,
   "id": "61e54b99",
   "metadata": {},
   "outputs": [],
   "source": [
    "transformed_data, best_lambda = boxcox(unemploy1[\"total_claims\"])\n",
    "sns.distpolt(transformed_data)"
   ]
  },
  {
   "cell_type": "code",
   "execution_count": null,
   "id": "fce117ca",
   "metadata": {},
   "outputs": [],
   "source": [
    "transformed_data, best_lambda = boxcox(unemploy1[\"total_claims\"])\n",
    "sns.distplot(transformed_data)"
   ]
  },
  {
   "cell_type": "code",
   "execution_count": null,
   "id": "29748138",
   "metadata": {},
   "outputs": [],
   "source": [
    "claim = np.array(transformed_data)\n",
    "sqrt_claim = np.sqrt(transformed_data)\n",
    "log_claim = np.logtransformed_data)\n",
    "f, ((f1, f2, f3), (f4, f5, f6)) = plt.subplots(2, 3)\n",
    "#f, ((f1, f2), (f4, f5)) = plt.subplots(2, 2)\n",
    "f1.hist(claim, 30)\n",
    "f2.hist(sqrt_claim, 30)\n",
    "f3.hist(log_claim, 30)"
   ]
  },
  {
   "cell_type": "code",
   "execution_count": null,
   "id": "2c274e55",
   "metadata": {},
   "outputs": [],
   "source": [
    "stats.probplot(claim, plot=f4)\n",
    "stats.probplot(sqrt_claim, plot=f5)\n",
    "stats.probplot(log_claim, plot=f6)\n",
    "plt.show\n",
    "stats.shapiro(claim)[1], stats.shapiro(sqrt_claim)[1], stats.shapiro(log_claim)[1]"
   ]
  },
  {
   "cell_type": "code",
   "execution_count": null,
   "id": "40b81a37",
   "metadata": {},
   "outputs": [],
   "source": [
    "claim = np.array(transformed_data)\n",
    "sqrt_claim = np.sqrt(transformed_data)\n",
    "log_claim = np.log(transformed_data)\n",
    "f, ((f1, f2, f3), (f4, f5, f6)) = plt.subplots(2, 3)\n",
    "#f, ((f1, f2), (f4, f5)) = plt.subplots(2, 2)\n",
    "f1.hist(claim, 30)\n",
    "f2.hist(sqrt_claim, 30)\n",
    "f3.hist(log_claim, 30)"
   ]
  },
  {
   "cell_type": "code",
   "execution_count": null,
   "id": "006ddf93",
   "metadata": {},
   "outputs": [],
   "source": [
    "stats.probplot(claim, plot=f4)\n",
    "stats.probplot(sqrt_claim, plot=f5)\n",
    "stats.probplot(log_claim, plot=f6)\n",
    "plt.show\n",
    "stats.shapiro(claim)[1], stats.shapiro(sqrt_claim)[1], stats.shapiro(log_claim)[1]"
   ]
  },
  {
   "cell_type": "code",
   "execution_count": null,
   "id": "5ce6a5d6",
   "metadata": {},
   "outputs": [],
   "source": [
    "statistics,pvalue = jarque_bera(transformed_data)"
   ]
  },
  {
   "cell_type": "code",
   "execution_count": null,
   "id": "08fcdd07",
   "metadata": {},
   "outputs": [],
   "source": [
    "print('statistics=%.3f, p=%.3f\\n' %(statistics, pvalue))\n",
    "if pvalue>0.05:\n",
    "    print(\"Probably Normal\")\n",
    "else:\n",
    "    print(\"Probably not Normal\")"
   ]
  },
  {
   "cell_type": "code",
   "execution_count": null,
   "id": "9af5b652",
   "metadata": {},
   "outputs": [],
   "source": [
    "statistics,pvalue = jarque_bera(log_claims)"
   ]
  },
  {
   "cell_type": "code",
   "execution_count": null,
   "id": "5c56a7a2",
   "metadata": {},
   "outputs": [],
   "source": [
    "print('statistics=%.3f, p=%.3f\\n' %(statistics, pvalue))\n",
    "if pvalue>0.05:\n",
    "    print(\"Probably Normal\")\n",
    "else:\n",
    "    print(\"Probably not Normal\")"
   ]
  },
  {
   "cell_type": "code",
   "execution_count": null,
   "id": "431145ad",
   "metadata": {},
   "outputs": [],
   "source": [
    "statistics,pvalue = jarque_bera(log_claim)"
   ]
  },
  {
   "cell_type": "code",
   "execution_count": null,
   "id": "e646e1ff",
   "metadata": {},
   "outputs": [],
   "source": [
    "print('statistics=%.3f, p=%.3f\\n' %(statistics, pvalue))\n",
    "if pvalue>0.05:\n",
    "    print(\"Probably Normal\")\n",
    "else:\n",
    "    print(\"Probably not Normal\")"
   ]
  },
  {
   "cell_type": "code",
   "execution_count": null,
   "id": "15fa3846",
   "metadata": {},
   "outputs": [],
   "source": [
    "statistics,pvalue = jarque_bera(sqrt_claim)"
   ]
  },
  {
   "cell_type": "code",
   "execution_count": null,
   "id": "332be082",
   "metadata": {},
   "outputs": [],
   "source": [
    "print('statistics=%.3f, p=%.3f\\n' %(statistics, pvalue))\n",
    "if pvalue>0.05:\n",
    "    print(\"Probably Normal\")\n",
    "else:\n",
    "    print(\"Probably not Normal\")"
   ]
  },
  {
   "cell_type": "code",
   "execution_count": null,
   "id": "543e128c",
   "metadata": {},
   "outputs": [],
   "source": [
    "statistics,pvalue = jarque_bera(claim)"
   ]
  },
  {
   "cell_type": "code",
   "execution_count": null,
   "id": "3d413bdd",
   "metadata": {},
   "outputs": [],
   "source": [
    "print('statistics=%.3f, p=%.3f\\n' %(statistics, pvalue))\n",
    "if pvalue>0.05:\n",
    "    print(\"Probably Normal\")\n",
    "else:\n",
    "    print(\"Probably not Normal\")"
   ]
  },
  {
   "cell_type": "code",
   "execution_count": null,
   "id": "7c303707",
   "metadata": {},
   "outputs": [],
   "source": [
    "transformed_data, best_lambda = boxcox(unemploy1[\"total_claims\"])\n",
    "sns.distplot(transformed_data)\n",
    "ed_9_11=boxcox(unemploy[\"edu_grades_9_11\"])"
   ]
  },
  {
   "cell_type": "code",
   "execution_count": null,
   "id": "271c2e56",
   "metadata": {},
   "outputs": [],
   "source": [
    "transformed_data, best_lambda = boxcox(unemploy1[\"total_claims\"])\n",
    "sns.distplot(transformed_data)\n",
    "ed_9_11=boxcox(unemploy1[\"edu_grades_9_11\"])"
   ]
  },
  {
   "cell_type": "code",
   "execution_count": null,
   "id": "9794e4c2",
   "metadata": {},
   "outputs": [],
   "source": [
    "transformed_data, best_lambda = boxcox(unemploy1[\"total_claims\"])\n",
    "sns.distplot(unemploy1[\"edu_grades_9_11\"])"
   ]
  },
  {
   "cell_type": "code",
   "execution_count": null,
   "id": "bc8cc065",
   "metadata": {},
   "outputs": [],
   "source": [
    "transformed_data, best_lambda = boxcox(unemploy1[\"total_claims\"])\n",
    "sns.distplot(unemploy1[\"race_white\"])"
   ]
  },
  {
   "cell_type": "code",
   "execution_count": null,
   "id": "d8005a67",
   "metadata": {},
   "outputs": [],
   "source": [
    "transformed_data, best_lambda = boxcox(unemploy1[\"total_claims\"])\n",
    "sns.distplot(unemploy1[\"race_black\"])"
   ]
  },
  {
   "cell_type": "code",
   "execution_count": null,
   "id": "7d495f4d",
   "metadata": {},
   "outputs": [],
   "source": [
    "transformed_data, best_lambda = boxcox(unemploy1[\"total_claims\"])\n",
    "sns.distplot(unemploy1[\"race_amerindian\"])"
   ]
  },
  {
   "cell_type": "code",
   "execution_count": null,
   "id": "fc4d260f",
   "metadata": {},
   "outputs": [],
   "source": [
    "transformed_data, best_lambda = boxcox(unemploy1[\"total_claims\"])\n",
    "sns.distplot(unemploy1[\"race_asian\"])"
   ]
  },
  {
   "cell_type": "code",
   "execution_count": null,
   "id": "f7d4d35c",
   "metadata": {},
   "outputs": [],
   "source": [
    "from sklearn.experimental import enable_iterative_imputer\n",
    "from sklearn.impute import IterativeImputer\n",
    "from sklearn.impute import KNNImputer\n",
    "from sklearn.preprocessing import StandardScaler\n",
    "from sklearn.preprocessing import MinMaxScaler"
   ]
  },
  {
   "cell_type": "code",
   "execution_count": null,
   "id": "bc9f3a0b",
   "metadata": {},
   "outputs": [],
   "source": [
    "from scipy import stats\n",
    "from scipy.stats import boxcox\n",
    "from scipy.stats import jarque_bera\n",
    "from scipy.stats import shapiro\n",
    "from scipy.stats import skew"
   ]
  },
  {
   "cell_type": "code",
   "execution_count": null,
   "id": "44731c78",
   "metadata": {},
   "outputs": [],
   "source": [
    "import numpy as np\n",
    "from numpy import isnan\n",
    "from matplotlib import pyplot"
   ]
  },
  {
   "cell_type": "code",
   "execution_count": null,
   "id": "3539efe2",
   "metadata": {},
   "outputs": [],
   "source": [
    "import seaborn as sns\n",
    "import matplotlib \n",
    "import matplotlib.pyplot as plt\n",
    "import plotly \n",
    "import plotly.express as px"
   ]
  },
  {
   "cell_type": "code",
   "execution_count": null,
   "id": "b81760d1",
   "metadata": {},
   "outputs": [],
   "source": [
    "import pandas as pd"
   ]
  },
  {
   "cell_type": "code",
   "execution_count": null,
   "id": "d3dbb353",
   "metadata": {},
   "outputs": [],
   "source": [
    "scaler= MinMaxScaler()\n",
    "scaler.fit(unemploy1)\n",
    "# transform the test test\n",
    "scaled1 = scaler.transform(unemploy1)"
   ]
  },
  {
   "cell_type": "code",
   "execution_count": null,
   "id": "4a7c5a32",
   "metadata": {},
   "outputs": [],
   "source": [
    "scaler"
   ]
  },
  {
   "cell_type": "code",
   "execution_count": null,
   "id": "f30c9aa3",
   "metadata": {},
   "outputs": [],
   "source": [
    "scaled1"
   ]
  },
  {
   "cell_type": "code",
   "execution_count": null,
   "id": "59227d99",
   "metadata": {},
   "outputs": [],
   "source": [
    "scaler= MinMaxScaler()\n",
    "# transform the test test\n",
    "scaled1 = pd.DataFrame(scaler.transform_fit(unemploy1),columns=unemploy1.columns)"
   ]
  },
  {
   "cell_type": "code",
   "execution_count": null,
   "id": "2bda55ca",
   "metadata": {},
   "outputs": [],
   "source": [
    "scaler= MinMaxScaler()\n",
    "# transform the test test\n",
    "scaled1 = pd.DataFrame(scaler.fit_transform(unemploy1),columns=unemploy1.columns)"
   ]
  },
  {
   "cell_type": "code",
   "execution_count": null,
   "id": "de35dddf",
   "metadata": {},
   "outputs": [],
   "source": [
    "scaled1"
   ]
  },
  {
   "cell_type": "code",
   "execution_count": null,
   "id": "78bb7f07",
   "metadata": {},
   "outputs": [],
   "source": [
    "sns.distplot(scaled1[\"total_claims\"])"
   ]
  },
  {
   "cell_type": "code",
   "execution_count": null,
   "id": "8d65e70d",
   "metadata": {},
   "outputs": [],
   "source": [
    "sns.distplot(scaled1[\"race_asian\"])"
   ]
  },
  {
   "cell_type": "code",
   "execution_count": null,
   "id": "cc952cb5",
   "metadata": {},
   "outputs": [],
   "source": [
    "unemploy1[\"race_asian\"].unique()"
   ]
  },
  {
   "cell_type": "code",
   "execution_count": null,
   "id": "bcab4f92",
   "metadata": {},
   "outputs": [],
   "source": [
    "unemploy1[\"race_asian\"].unique().count()"
   ]
  },
  {
   "cell_type": "code",
   "execution_count": null,
   "id": "a7a54778",
   "metadata": {},
   "outputs": [],
   "source": [
    "unemploy1[\"race_asian\"].unique().counts()"
   ]
  },
  {
   "cell_type": "code",
   "execution_count": null,
   "id": "e819ab5a",
   "metadata": {},
   "outputs": [],
   "source": [
    "unemploy1[\"race_asian\"].unique().counts"
   ]
  },
  {
   "cell_type": "code",
   "execution_count": null,
   "id": "2f92d3d3",
   "metadata": {},
   "outputs": [],
   "source": [
    "unemploy_ish=pd.DataFrame(np.arcsinh(unemploy1),columns=unemploy1)"
   ]
  },
  {
   "cell_type": "code",
   "execution_count": null,
   "id": "85078f5f",
   "metadata": {},
   "outputs": [],
   "source": [
    "unemploy_ish=pd.DataFrame(np.arcsinh(unemploy1[\"edu_hs_grad_quiv\"]))"
   ]
  },
  {
   "cell_type": "code",
   "execution_count": null,
   "id": "e0d6a46b",
   "metadata": {},
   "outputs": [],
   "source": [
    "unemploy_ish=pd.DataFrame(np.arcsinh(unemploy1[\"edu_hs_grad_equiv\"]))"
   ]
  },
  {
   "cell_type": "code",
   "execution_count": null,
   "id": "11dd0f55",
   "metadata": {},
   "outputs": [],
   "source": [
    "unemploy_ish=pd.DataFrame(np.arcsinh(unemploy1[\"edu_hs_grad_equiv\"]))\n",
    "sns.distplot(unemploy_ish)"
   ]
  },
  {
   "cell_type": "code",
   "execution_count": null,
   "id": "8ea9661d",
   "metadata": {},
   "outputs": [],
   "source": [
    "unemploy_ish=pd.DataFrame(np.arcsinh(unemploy1[\"edu_hs_grad_equiv\"]))\n",
    "sns.displot(unemploy_ish)"
   ]
  },
  {
   "cell_type": "code",
   "execution_count": null,
   "id": "9c708f59",
   "metadata": {},
   "outputs": [],
   "source": [
    "statistics,pvalue = jarque_bera(unemploy_ish)"
   ]
  },
  {
   "cell_type": "code",
   "execution_count": null,
   "id": "1adac059",
   "metadata": {},
   "outputs": [],
   "source": [
    "print('statistics=%.3f, p=%.3f\\n' %(statistics, pvalue))\n",
    "if pvalue>0.05:\n",
    "    print(\"Probably Normal\")\n",
    "else:\n",
    "    print(\"Probably not Normal\")"
   ]
  },
  {
   "cell_type": "code",
   "execution_count": null,
   "id": "e5a469eb",
   "metadata": {},
   "outputs": [],
   "source": [
    "stats.probplot(unemploy_ish)"
   ]
  },
  {
   "cell_type": "code",
   "execution_count": null,
   "id": "4a46b4e1",
   "metadata": {},
   "outputs": [],
   "source": [
    "unemploy_ish"
   ]
  },
  {
   "cell_type": "code",
   "execution_count": null,
   "id": "25be0b09",
   "metadata": {},
   "outputs": [],
   "source": [
    "stats.probplot(unemploy_ish,dist=\"norm\",plot=pylab)\n",
    "pylab.show()"
   ]
  },
  {
   "cell_type": "code",
   "execution_count": null,
   "id": "7b3777e8",
   "metadata": {},
   "outputs": [],
   "source": [
    "unemploy_ish=pd.DataFrame(np.arcsinh(unemploy1[\"edu_hs_grad_equiv\"]))\n",
    "sns.distplot(unemploy_ish)"
   ]
  },
  {
   "cell_type": "code",
   "execution_count": null,
   "id": "7048acda",
   "metadata": {},
   "outputs": [],
   "source": [
    "unemploy_ish"
   ]
  },
  {
   "cell_type": "code",
   "execution_count": null,
   "id": "a3651ace",
   "metadata": {},
   "outputs": [],
   "source": [
    "unemploy_ish1=np.arcsinh(unemploy1[\"edu_hs_grad_equiv\"])\n",
    "sns.distplot(unemploy_ish)"
   ]
  },
  {
   "cell_type": "code",
   "execution_count": null,
   "id": "ed6d246e",
   "metadata": {},
   "outputs": [],
   "source": [
    "stats.probplot(unemploy_ish1,dist=\"norm\",plot=pylab)\n",
    "pylab.show()"
   ]
  },
  {
   "cell_type": "code",
   "execution_count": null,
   "id": "c2b602e3",
   "metadata": {},
   "outputs": [],
   "source": [
    "statistics,pvalue = jarque_bera(unemploy_ish1)"
   ]
  },
  {
   "cell_type": "code",
   "execution_count": null,
   "id": "4ccbd55f",
   "metadata": {},
   "outputs": [],
   "source": [
    "print('statistics=%.3f, p=%.3f\\n' %(statistics, pvalue))\n",
    "if pvalue>0.05:\n",
    "    print(\"Probably Normal\")\n",
    "else:\n",
    "    print(\"Probably not Normal\")"
   ]
  },
  {
   "cell_type": "code",
   "execution_count": null,
   "id": "9d22e74c",
   "metadata": {},
   "outputs": [],
   "source": [
    "unemploy_ish=pd.DataFrame(np.arcsinh(unemploy1[\"edu_hs_grad_equiv\"]))\n",
    "unemployed_ish=boxcox.fit_transform(unemploy_ish)\n",
    "sns.distplot(unemployed_ish)"
   ]
  },
  {
   "cell_type": "code",
   "execution_count": null,
   "id": "90ca153e",
   "metadata": {},
   "outputs": [],
   "source": [
    "unemploy_ish=pd.DataFrame(np.arcsinh(unemploy1[\"edu_hs_grad_equiv\"]))\n",
    "unemployed_ish=boxcox.transform_fit(unemploy_ish)\n",
    "sns.distplot(unemployed_ish)"
   ]
  },
  {
   "cell_type": "code",
   "execution_count": null,
   "id": "cfe8acaa",
   "metadata": {},
   "outputs": [],
   "source": [
    "unemploy_ish=pd.DataFrame(np.arcsinh(unemploy1[\"edu_hs_grad_equiv\"]))\n",
    "unemployed_ish=boxcox(unemploy_ish)\n",
    "sns.distplot(unemployed_ish)"
   ]
  },
  {
   "cell_type": "code",
   "execution_count": null,
   "id": "1b8692b9",
   "metadata": {},
   "outputs": [],
   "source": [
    "unemploy1[\"gender_male\"]"
   ]
  },
  {
   "cell_type": "code",
   "execution_count": null,
   "id": "08e88b3a",
   "metadata": {},
   "outputs": [],
   "source": [
    "unemploy1"
   ]
  },
  {
   "cell_type": "code",
   "execution_count": null,
   "id": "36555abc",
   "metadata": {},
   "outputs": [],
   "source": [
    "Q1 = np.percentile(unemploy1[\"total_claims\"], 25,\n",
    "                   interpolation = 'midpoint')"
   ]
  },
  {
   "cell_type": "code",
   "execution_count": null,
   "id": "b4851a09",
   "metadata": {},
   "outputs": [],
   "source": [
    "Q3 = np.percentile(unemploy1[\"total_claims\"], 75,\n",
    "                   interpolation = 'midpoint')\n",
    "IQR = Q3 - Q1"
   ]
  },
  {
   "cell_type": "code",
   "execution_count": null,
   "id": "4817791a",
   "metadata": {},
   "outputs": [],
   "source": [
    "print(\"Old Shape: \", unemploy1.shape)"
   ]
  },
  {
   "cell_type": "code",
   "execution_count": null,
   "id": "14521a3b",
   "metadata": {},
   "outputs": [],
   "source": [
    "# Upper bound\n",
    "upper = np.where(unemploy1[\"total_claims\"]>= (Q3+1.5*IQR))\n",
    "# Lower bound\n",
    "lower = np.where(unemploy1[\"total_claims\"]<= (Q1-1.5*IQR))"
   ]
  },
  {
   "cell_type": "code",
   "execution_count": null,
   "id": "fe34594e",
   "metadata": {},
   "outputs": [],
   "source": [
    "''' Removing the Outliers '''\n",
    "unemploy1.drop(upper[0], inplace = True)\n",
    "unemploy1.drop(lower[0], inplace = True)"
   ]
  },
  {
   "cell_type": "code",
   "execution_count": null,
   "id": "1c987d02",
   "metadata": {},
   "outputs": [],
   "source": [
    "print(\"New Shape: \", unemploy1.shape)"
   ]
  },
  {
   "cell_type": "code",
   "execution_count": null,
   "id": "2456378b",
   "metadata": {},
   "outputs": [],
   "source": [
    "unemploy1.shape"
   ]
  },
  {
   "cell_type": "code",
   "execution_count": null,
   "id": "f987b21f",
   "metadata": {},
   "outputs": [],
   "source": [
    "sns.distplot(unemploy1[\"total_claims\"])"
   ]
  },
  {
   "cell_type": "code",
   "execution_count": null,
   "id": "cea70a3b",
   "metadata": {},
   "outputs": [],
   "source": [
    "sns.histplot(unemploy1[\"total_claims\"])"
   ]
  },
  {
   "cell_type": "code",
   "execution_count": null,
   "id": "cc99865f",
   "metadata": {},
   "outputs": [],
   "source": [
    "sns.distplot(unemploy1[\"total_claims\"])"
   ]
  },
  {
   "cell_type": "code",
   "execution_count": null,
   "id": "340709de",
   "metadata": {},
   "outputs": [],
   "source": [
    "sns.distplot(unemploy1)"
   ]
  },
  {
   "cell_type": "code",
   "execution_count": null,
   "id": "a43e8ac5",
   "metadata": {},
   "outputs": [],
   "source": [
    "sns.distplot(unemploy1[\"gender_male\"])"
   ]
  },
  {
   "cell_type": "code",
   "execution_count": null,
   "id": "ab6dd7a3",
   "metadata": {},
   "outputs": [],
   "source": [
    "sns.distplot(unemploy1[\"gender_female\"])"
   ]
  },
  {
   "cell_type": "code",
   "execution_count": null,
   "id": "c88e0409",
   "metadata": {},
   "outputs": [],
   "source": [
    "sns.distplot(unemploy1[\"gender_na\"])"
   ]
  },
  {
   "cell_type": "code",
   "execution_count": null,
   "id": "fc63389f",
   "metadata": {},
   "outputs": [],
   "source": [
    "sns.distplot(unemploy1[\"race_whaite\"])"
   ]
  },
  {
   "cell_type": "code",
   "execution_count": null,
   "id": "86f55f57",
   "metadata": {},
   "outputs": [],
   "source": [
    "sns.distplot(unemploy1[\"race_white\"])"
   ]
  },
  {
   "cell_type": "code",
   "execution_count": null,
   "id": "9de946ae",
   "metadata": {},
   "outputs": [],
   "source": [
    "sns.distplot(unemploy1[\"race_black\"])"
   ]
  },
  {
   "cell_type": "code",
   "execution_count": null,
   "id": "7dae43fc",
   "metadata": {},
   "outputs": [],
   "source": [
    "sns.distplot(unemploy1[\"race_amerindian\"])"
   ]
  },
  {
   "cell_type": "code",
   "execution_count": null,
   "id": "15cda7bf",
   "metadata": {},
   "outputs": [],
   "source": [
    "sns.distplot(unemploy1[\"race_asian\"])"
   ]
  },
  {
   "cell_type": "code",
   "execution_count": null,
   "id": "9040cf14",
   "metadata": {},
   "outputs": [],
   "source": [
    "sns.distplot(unemploy1[\"race_noanswere\"])"
   ]
  },
  {
   "cell_type": "code",
   "execution_count": null,
   "id": "d12f77da",
   "metadata": {},
   "outputs": [],
   "source": [
    "sns.distplot(unemploy1[\"race_noanswer\"])"
   ]
  },
  {
   "cell_type": "code",
   "execution_count": null,
   "id": "48497be7",
   "metadata": {},
   "outputs": [],
   "source": [
    "sns.distplot(unemploy1[\"race_other\"])"
   ]
  },
  {
   "cell_type": "code",
   "execution_count": null,
   "id": "2668804a",
   "metadata": {},
   "outputs": [],
   "source": [
    "sns.distplot(unemploy1[\"edu_hs_grad_equiv\"])"
   ]
  },
  {
   "cell_type": "code",
   "execution_count": null,
   "id": "1e2a5bf9",
   "metadata": {},
   "outputs": [],
   "source": [
    "sns.heatmap(unemploy1.corr(method=\"spearman\"))"
   ]
  },
  {
   "cell_type": "code",
   "execution_count": null,
   "id": "70010e88",
   "metadata": {},
   "outputs": [],
   "source": [
    "trial[\"uuid\"].unique()"
   ]
  },
  {
   "cell_type": "code",
   "execution_count": null,
   "id": "b8d3736d",
   "metadata": {},
   "outputs": [],
   "source": [
    "trial[\"uu_id\"].unique()"
   ]
  },
  {
   "cell_type": "code",
   "execution_count": null,
   "id": "a58b899f",
   "metadata": {},
   "outputs": [],
   "source": [
    "trial[\"uu_id\"].unique().sum()"
   ]
  },
  {
   "cell_type": "code",
   "execution_count": null,
   "id": "cd681bec",
   "metadata": {},
   "outputs": [],
   "source": [
    "trial[\"uu_id\"].unique().count()"
   ]
  },
  {
   "cell_type": "code",
   "execution_count": null,
   "id": "91f46f1d",
   "metadata": {
    "lines_to_next_cell": 2
   },
   "outputs": [],
   "source": [
    "trial[\"uu_id\"].unique().count"
   ]
  }
 ],
 "metadata": {
  "jupytext": {
   "cell_metadata_filter": "-all",
   "main_language": "python",
   "notebook_metadata_filter": "-all"
  }
 },
 "nbformat": 4,
 "nbformat_minor": 5
}
