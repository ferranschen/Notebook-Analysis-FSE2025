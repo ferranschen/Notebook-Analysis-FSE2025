{
 "cells": [
  {
   "cell_type": "code",
   "execution_count": null,
   "id": "340cca78",
   "metadata": {},
   "outputs": [],
   "source": [
    "get_ipython().run_line_magic('pip', 'install db-dtypes')"
   ]
  },
  {
   "cell_type": "code",
   "execution_count": null,
   "id": "c6cbe2dc",
   "metadata": {},
   "outputs": [],
   "source": [
    "get_ipython().system('pip install keras')\n",
    "get_ipython().system('pip install tensorflow')"
   ]
  },
  {
   "cell_type": "code",
   "execution_count": null,
   "id": "7ca1469b",
   "metadata": {},
   "outputs": [],
   "source": [
    "get_ipython().run_cell_magic('capture', '', \"%logstop\\n%logstart -t -r -q ipython_command_log.py global\\n\\n#- IRONHACKS RESEARCH TRACKING CODE\\n#----------------------------------\\n# The following code is used to help our research team understand how you \\n# our notebook environment. We do not collect any personal information with\\n# the following code, it is used to measure when and how often you work on\\n# your submission files.\\n\\nimport os\\nfrom datetime import datetime\\nimport IPython.core.history as history\\n\\nha = history.HistoryAccessor()\\nha_tail = ha.get_tail(1)\\nha_cmd = next(ha_tail)\\nsession_id = str(ha_cmd[0])\\ncommand_id = str(ha_cmd[1])\\ntimestamp = datetime.utcnow().isoformat()\\nhistory_line = ','.join([session_id, command_id, timestamp]) + '\\\\n'\\nlogfile = open(os.environ['HOME']+'/ipython_session_log.csv', 'a')\\nlogfile.write(history_line)\\nlogfile.close()\\n\")"
   ]
  },
  {
   "cell_type": "code",
   "execution_count": null,
   "id": "d644dd9a",
   "metadata": {},
   "outputs": [],
   "source": [
    "import os\n",
    "import csv\n",
    "import pandas as pd\n",
    "import numpy as np\n",
    "from google.cloud import bigquery\n",
    "from google.oauth2 import service_account\n",
    "from google.cloud.bigquery import magics\n",
    "from sklearn.model_selection import train_test_split \n",
    "from sklearn.linear_model import LinearRegression\n",
    "from sklearn import metrics\n",
    "import matplotlib.pyplot as plt  \n",
    "import statsmodels.api as sm\n",
    "import itertools"
   ]
  },
  {
   "cell_type": "code",
   "execution_count": null,
   "id": "cfa980a5",
   "metadata": {},
   "outputs": [],
   "source": [
    "BIGQUERY_PROJECT = 'ironhacks-data'"
   ]
  },
  {
   "cell_type": "code",
   "execution_count": null,
   "id": "4df05e63",
   "metadata": {},
   "outputs": [],
   "source": [
    "bigquery_client = bigquery.Client(project=BIGQUERY_PROJECT)"
   ]
  },
  {
   "cell_type": "code",
   "execution_count": null,
   "id": "9c56cfed",
   "metadata": {},
   "outputs": [],
   "source": [
    "query = \"\"\"\n",
    "SELECT *\n",
    "FROM `ironhacks-data.ironhacks_competition.unemployment_data` \n",
    "\"\"\""
   ]
  },
  {
   "cell_type": "code",
   "execution_count": null,
   "id": "64039a40",
   "metadata": {},
   "outputs": [],
   "source": [
    "# QUERY THE DATA ONCE\n",
    "query_job = bigquery_client.query(query)\n",
    "data = query_job.to_dataframe()"
   ]
  },
  {
   "cell_type": "code",
   "execution_count": null,
   "id": "b3ddefa5",
   "metadata": {},
   "outputs": [],
   "source": [
    "query = \"\"\"\n",
    "SELECT *\n",
    "FROM `ironhacks-data.ironhacks_competition.wage_data` \n",
    "\"\"\""
   ]
  },
  {
   "cell_type": "code",
   "execution_count": null,
   "id": "08db9c0e",
   "metadata": {},
   "outputs": [],
   "source": [
    "# QUERY THE DATA ONCE\n",
    "query_job = bigquery_client.query(query)\n",
    "wagedata = query_job.to_dataframe()"
   ]
  },
  {
   "cell_type": "code",
   "execution_count": null,
   "id": "a233d105",
   "metadata": {},
   "outputs": [],
   "source": [
    "query = \"\"\"\n",
    "SELECT *\n",
    "FROM `ironhacks-data.ironhacks_competition.prediction_list` \n",
    "\"\"\""
   ]
  },
  {
   "cell_type": "code",
   "execution_count": null,
   "id": "07126054",
   "metadata": {},
   "outputs": [],
   "source": [
    "# QUERY THE DATA ONCE\n",
    "query_job = bigquery_client.query(query)\n",
    "prediction_list = query_job.to_dataframe()"
   ]
  },
  {
   "cell_type": "code",
   "execution_count": null,
   "id": "863018f8",
   "metadata": {},
   "outputs": [],
   "source": [
    "import pandas as pd\n",
    "import numpy as np\n",
    "combined = pd.merge(data,wagedata,on=['uu_id','countyfips', 'tract','tract_name'],how = 'left')"
   ]
  },
  {
   "cell_type": "code",
   "execution_count": null,
   "id": "297c2bf0",
   "metadata": {},
   "outputs": [],
   "source": [
    "wagedata[wagedata['uu_id']=='a5c6dcff737e183f7931b472f10c3235']"
   ]
  },
  {
   "cell_type": "code",
   "execution_count": null,
   "id": "879251dc",
   "metadata": {},
   "outputs": [],
   "source": [
    "combined['average_wage'].fillna(combined['average_wage'].mean(),inplace = True)\n",
    "## Using the mean for the missing wage"
   ]
  },
  {
   "cell_type": "code",
   "execution_count": null,
   "id": "ae2cece8",
   "metadata": {},
   "outputs": [],
   "source": [
    "firstgroup = ['edu_8th_or_less','edu_grades_9_11','edu_hs_grad_equiv','edu_post_hs','edu_unknown']\n",
    "secondgroup = ['gender_female','gender_male','gender_na']\n",
    "thirdgroup = ['race_amerindian','race_asian','race_black','race_noanswer','race_hawaiiannative','race_other','race_white']\n",
    "## columns to impute"
   ]
  },
  {
   "cell_type": "code",
   "execution_count": null,
   "id": "ac960b2f",
   "metadata": {},
   "outputs": [],
   "source": [
    "complete = combined.dropna(axis = 0)\n",
    "#using the complete rows to estimate the ratio of each catagory occupying the claims\n",
    "prob = {}\n",
    "for i in firstgroup:\n",
    "    prob[i] = (complete[i]/complete['total_claims']).mean()\n",
    "for i in secondgroup:\n",
    "    prob[i] = (complete[i]/complete['total_claims']).mean()\n",
    "for i in thirdgroup:\n",
    "    prob[i] = (complete[i]/complete['total_claims']).mean()"
   ]
  },
  {
   "cell_type": "code",
   "execution_count": null,
   "id": "9ddfabc3",
   "metadata": {},
   "outputs": [],
   "source": [
    "prediction_list['total_claims'] = 0"
   ]
  },
  {
   "cell_type": "code",
   "execution_count": null,
   "id": "fff6aa2a",
   "metadata": {},
   "outputs": [],
   "source": [
    "prediction_list"
   ]
  },
  {
   "cell_type": "code",
   "execution_count": null,
   "id": "3bd37768",
   "metadata": {},
   "outputs": [],
   "source": [
    "prediction_list.loc[:,['uu_id','total_claims','week_number']].to_csv('submission_prediction_output(2).csv',index = False)"
   ]
  },
  {
   "cell_type": "code",
   "execution_count": null,
   "id": "e0030459",
   "metadata": {
    "lines_to_next_cell": 1
   },
   "outputs": [],
   "source": [
    "approximatedimputation(combined)\n",
    "combined.to_csv('submission_prediction_output(1).csv',index = False)"
   ]
  },
  {
   "cell_type": "code",
   "execution_count": null,
   "id": "e4f56c6c",
   "metadata": {
    "lines_to_next_cell": 1
   },
   "outputs": [],
   "source": [
    "def approximatedimputation(data):\n",
    "    firstgroup = ['edu_8th_or_less','edu_grades_9_11','edu_hs_grad_equiv','edu_post_hs','edu_unknown']\n",
    "    secondgroup = ['gender_female','gender_male','gender_na']\n",
    "    thirdgroup = ['race_amerindian','race_asian','race_black','race_noanswer','race_hawaiiannative','race_other','race_white']\n",
    "    for i in firstgroup:\n",
    "        for j in range(data.shape[0]):\n",
    "            # if is nan, we use the approximation method to try to impute\n",
    "            if pd.isna(data[i].values[j]):\n",
    "                data[i].values[j] = int(prob[i]*data['total_claims'].values[j])\n",
    "    for i in secondgroup:\n",
    "        for j in range(data.shape[0]):\n",
    "            if pd.isna(data[i].values[j]):\n",
    "                data[i].values[j] = int(prob[i]*data['total_claims'].values[j])\n",
    "    for i in thirdgroup:\n",
    "        for j in range(data.shape[0]):\n",
    "            if pd.isna(data[i].values[j]):\n",
    "                data[i].values[j] = int(prob[i]*data['total_claims'].values[j])"
   ]
  },
  {
   "cell_type": "code",
   "execution_count": null,
   "id": "130b6650",
   "metadata": {
    "lines_to_next_cell": 2
   },
   "outputs": [],
   "source": [
    "approximatedimputation(combined)\n",
    "combined.to_csv('submission_prediction_output(1).csv',index = False)"
   ]
  }
 ],
 "metadata": {
  "jupytext": {
   "cell_metadata_filter": "-all",
   "main_language": "python",
   "notebook_metadata_filter": "-all"
  }
 },
 "nbformat": 4,
 "nbformat_minor": 5
}
