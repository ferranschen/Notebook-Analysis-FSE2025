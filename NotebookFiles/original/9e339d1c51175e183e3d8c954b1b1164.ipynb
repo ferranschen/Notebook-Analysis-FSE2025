{
 "cells": [
  {
   "cell_type": "code",
   "execution_count": 1,
   "id": "a9c54474",
   "metadata": {},
   "outputs": [],
   "source": [
    "get_ipython().run_cell_magic('capture', '', \"%logstop\\n%logstart -t -r -q ipython_command_log.py global\\n\\n#- IRONHACKS RESEARCH TRACKING CODE\\n#----------------------------------\\n# The following code is used to help our research team understand how you \\n# our notebook environment. We do not collect any personal information with\\n# the following code, it is used to measure when and how often you work on\\n# your submission files.\\n\\nimport os\\nfrom datetime import datetime\\nimport IPython.core.history as history\\n\\nha = history.HistoryAccessor()\\nha_tail = ha.get_tail(1)\\nha_cmd = next(ha_tail)\\nsession_id = str(ha_cmd[0])\\ncommand_id = str(ha_cmd[1])\\ntimestamp = datetime.utcnow().isoformat()\\nhistory_line = ','.join([session_id, command_id, timestamp]) + '\\\\n'\\nlogfile = open(os.environ['HOME']+'/ipython_session_log.csv', 'a')\\nlogfile.write(history_line)\\nlogfile.close()\\n\")"
   ]
  },
  {
   "cell_type": "code",
   "execution_count": 2,
   "id": "88d30fc8",
   "metadata": {},
   "outputs": [],
   "source": [
    "import matplotlib.pyplot as plt\n",
    "import os\n",
    "import pandas as pd\n",
    "import numpy as np"
   ]
  },
  {
   "cell_type": "code",
   "execution_count": 3,
   "id": "45682044",
   "metadata": {},
   "outputs": [],
   "source": [
    "from google.cloud import bigquery\n",
    "from google.oauth2 import service_account\n",
    "from google.cloud.bigquery import magics\n",
    "from sklearn.model_selection import train_test_split \n",
    "from sklearn.linear_model import LinearRegression\n",
    "from sklearn.ensemble import RandomForestRegressor\n",
    "from sklearn import metrics"
   ]
  },
  {
   "cell_type": "code",
   "execution_count": 4,
   "id": "7f6eb699",
   "metadata": {},
   "outputs": [],
   "source": [
    "import csv \n",
    "import warnings\n",
    "warnings.filterwarnings('ignore')"
   ]
  },
  {
   "cell_type": "code",
   "execution_count": 5,
   "id": "0a31076a",
   "metadata": {},
   "outputs": [],
   "source": [
    "BIGQUERY_PROJECT = 'ironhacks-data'\n",
    "bigquery_client = bigquery.Client(project=BIGQUERY_PROJECT)"
   ]
  },
  {
   "cell_type": "code",
   "execution_count": 6,
   "id": "b2c44b0a",
   "metadata": {},
   "outputs": [],
   "source": [
    "query = \"\"\"\n",
    "SELECT *\n",
    "FROM `ironhacks-data.ironhacks_competition.unemployment_data`\n",
    "\"\"\""
   ]
  },
  {
   "cell_type": "code",
   "execution_count": 7,
   "id": "c131dac5",
   "metadata": {},
   "outputs": [],
   "source": [
    "query_job = bigquery_client.query(query)\n",
    "unemployment_data = query_job.to_dataframe()"
   ]
  },
  {
   "cell_type": "code",
   "execution_count": 8,
   "id": "92bcb924",
   "metadata": {},
   "outputs": [],
   "source": [
    "query = \"\"\"\n",
    "SELECT *\n",
    "FROM `ironhacks-data.ironhacks_competition.wage_data`\n",
    "\"\"\""
   ]
  },
  {
   "cell_type": "code",
   "execution_count": 9,
   "id": "3cacc2bc",
   "metadata": {},
   "outputs": [],
   "source": [
    "query_job = bigquery_client.query(query)\n",
    "wage_data = query_job.to_dataframe()"
   ]
  },
  {
   "cell_type": "code",
   "execution_count": 10,
   "id": "be9f8fbc",
   "metadata": {},
   "outputs": [],
   "source": [
    "unemployment_data = unemployment_data.drop_duplicates()\n",
    "unemployment_data.fillna(0, inplace=True)"
   ]
  },
  {
   "cell_type": "code",
   "execution_count": 11,
   "id": "baa7cc9c",
   "metadata": {},
   "outputs": [],
   "source": [
    "wage_data = wage_data.drop_duplicates()\n",
    "wage_data.fillna(0, inplace=True)\n",
    "wage_data = wage_data.filter(['uu_id', 'average_wage'])"
   ]
  },
  {
   "cell_type": "code",
   "execution_count": 12,
   "id": "fa112054",
   "metadata": {},
   "outputs": [],
   "source": [
    "unemployment_data=unemployment_data.filter(['uu_id', 'week_number','total_claims','edu_8th_or_less', 'edu_grades_9_11',\n",
    "       'edu_hs_grad_equiv', 'edu_post_hs','race_amerindian', 'race_asian', 'race_black','race_white'])"
   ]
  },
  {
   "cell_type": "code",
   "execution_count": 13,
   "id": "3b5a90bf",
   "metadata": {},
   "outputs": [],
   "source": [
    "unemployment_data = unemployment_data.sort_values(by=['uu_id','week_number']).reset_index()\n",
    "unemployment_data = unemployment_data.drop('index', axis=1)"
   ]
  },
  {
   "cell_type": "code",
   "execution_count": 14,
   "id": "e8f27107",
   "metadata": {},
   "outputs": [
    {
     "data": {
      "text/html": [
       "<div>\n",
       "<style scoped>\n",
       "    .dataframe tbody tr th:only-of-type {\n",
       "        vertical-align: middle;\n",
       "    }\n",
       "\n",
       "    .dataframe tbody tr th {\n",
       "        vertical-align: top;\n",
       "    }\n",
       "\n",
       "    .dataframe thead th {\n",
       "        text-align: right;\n",
       "    }\n",
       "</style>\n",
       "<table border=\"1\" class=\"dataframe\">\n",
       "  <thead>\n",
       "    <tr style=\"text-align: right;\">\n",
       "      <th></th>\n",
       "      <th>uu_id</th>\n",
       "      <th>week_number</th>\n",
       "      <th>total_claims</th>\n",
       "      <th>edu_8th_or_less</th>\n",
       "      <th>edu_grades_9_11</th>\n",
       "      <th>edu_hs_grad_equiv</th>\n",
       "      <th>edu_post_hs</th>\n",
       "      <th>race_amerindian</th>\n",
       "      <th>race_asian</th>\n",
       "      <th>race_black</th>\n",
       "      <th>race_white</th>\n",
       "      <th>average_wage</th>\n",
       "    </tr>\n",
       "  </thead>\n",
       "  <tbody>\n",
       "    <tr>\n",
       "      <th>0</th>\n",
       "      <td>001cd9ae23064d7f0fd3cd327c873d8d</td>\n",
       "      <td>31</td>\n",
       "      <td>34</td>\n",
       "      <td>0</td>\n",
       "      <td>0</td>\n",
       "      <td>30</td>\n",
       "      <td>0</td>\n",
       "      <td>0</td>\n",
       "      <td>0</td>\n",
       "      <td>0</td>\n",
       "      <td>34</td>\n",
       "      <td>10484.333333</td>\n",
       "    </tr>\n",
       "    <tr>\n",
       "      <th>1</th>\n",
       "      <td>001cd9ae23064d7f0fd3cd327c873d8d</td>\n",
       "      <td>33</td>\n",
       "      <td>10</td>\n",
       "      <td>0</td>\n",
       "      <td>0</td>\n",
       "      <td>0</td>\n",
       "      <td>0</td>\n",
       "      <td>0</td>\n",
       "      <td>0</td>\n",
       "      <td>0</td>\n",
       "      <td>10</td>\n",
       "      <td>10484.333333</td>\n",
       "    </tr>\n",
       "    <tr>\n",
       "      <th>2</th>\n",
       "      <td>001cd9ae23064d7f0fd3cd327c873d8d</td>\n",
       "      <td>34</td>\n",
       "      <td>25</td>\n",
       "      <td>0</td>\n",
       "      <td>0</td>\n",
       "      <td>0</td>\n",
       "      <td>0</td>\n",
       "      <td>0</td>\n",
       "      <td>0</td>\n",
       "      <td>0</td>\n",
       "      <td>0</td>\n",
       "      <td>10484.333333</td>\n",
       "    </tr>\n",
       "    <tr>\n",
       "      <th>3</th>\n",
       "      <td>001cd9ae23064d7f0fd3cd327c873d8d</td>\n",
       "      <td>35</td>\n",
       "      <td>10</td>\n",
       "      <td>0</td>\n",
       "      <td>0</td>\n",
       "      <td>0</td>\n",
       "      <td>0</td>\n",
       "      <td>0</td>\n",
       "      <td>0</td>\n",
       "      <td>0</td>\n",
       "      <td>0</td>\n",
       "      <td>10484.333333</td>\n",
       "    </tr>\n",
       "    <tr>\n",
       "      <th>4</th>\n",
       "      <td>001cd9ae23064d7f0fd3cd327c873d8d</td>\n",
       "      <td>36</td>\n",
       "      <td>10</td>\n",
       "      <td>0</td>\n",
       "      <td>0</td>\n",
       "      <td>0</td>\n",
       "      <td>0</td>\n",
       "      <td>0</td>\n",
       "      <td>0</td>\n",
       "      <td>0</td>\n",
       "      <td>0</td>\n",
       "      <td>10484.333333</td>\n",
       "    </tr>\n",
       "    <tr>\n",
       "      <th>...</th>\n",
       "      <td>...</td>\n",
       "      <td>...</td>\n",
       "      <td>...</td>\n",
       "      <td>...</td>\n",
       "      <td>...</td>\n",
       "      <td>...</td>\n",
       "      <td>...</td>\n",
       "      <td>...</td>\n",
       "      <td>...</td>\n",
       "      <td>...</td>\n",
       "      <td>...</td>\n",
       "      <td>...</td>\n",
       "    </tr>\n",
       "    <tr>\n",
       "      <th>13972</th>\n",
       "      <td>fec479d0202d6e1e3f051a9ee902ff5d</td>\n",
       "      <td>33</td>\n",
       "      <td>59</td>\n",
       "      <td>0</td>\n",
       "      <td>0</td>\n",
       "      <td>10</td>\n",
       "      <td>49</td>\n",
       "      <td>0</td>\n",
       "      <td>0</td>\n",
       "      <td>0</td>\n",
       "      <td>52</td>\n",
       "      <td>9908.312500</td>\n",
       "    </tr>\n",
       "    <tr>\n",
       "      <th>13973</th>\n",
       "      <td>fec479d0202d6e1e3f051a9ee902ff5d</td>\n",
       "      <td>34</td>\n",
       "      <td>34</td>\n",
       "      <td>0</td>\n",
       "      <td>0</td>\n",
       "      <td>0</td>\n",
       "      <td>25</td>\n",
       "      <td>0</td>\n",
       "      <td>0</td>\n",
       "      <td>0</td>\n",
       "      <td>26</td>\n",
       "      <td>9908.312500</td>\n",
       "    </tr>\n",
       "    <tr>\n",
       "      <th>13974</th>\n",
       "      <td>fec479d0202d6e1e3f051a9ee902ff5d</td>\n",
       "      <td>35</td>\n",
       "      <td>27</td>\n",
       "      <td>0</td>\n",
       "      <td>0</td>\n",
       "      <td>0</td>\n",
       "      <td>15</td>\n",
       "      <td>0</td>\n",
       "      <td>0</td>\n",
       "      <td>0</td>\n",
       "      <td>19</td>\n",
       "      <td>9908.312500</td>\n",
       "    </tr>\n",
       "    <tr>\n",
       "      <th>13975</th>\n",
       "      <td>fec479d0202d6e1e3f051a9ee902ff5d</td>\n",
       "      <td>36</td>\n",
       "      <td>28</td>\n",
       "      <td>0</td>\n",
       "      <td>0</td>\n",
       "      <td>0</td>\n",
       "      <td>18</td>\n",
       "      <td>0</td>\n",
       "      <td>0</td>\n",
       "      <td>0</td>\n",
       "      <td>18</td>\n",
       "      <td>9908.312500</td>\n",
       "    </tr>\n",
       "    <tr>\n",
       "      <th>13976</th>\n",
       "      <td>fec479d0202d6e1e3f051a9ee902ff5d</td>\n",
       "      <td>37</td>\n",
       "      <td>28</td>\n",
       "      <td>0</td>\n",
       "      <td>0</td>\n",
       "      <td>0</td>\n",
       "      <td>17</td>\n",
       "      <td>0</td>\n",
       "      <td>0</td>\n",
       "      <td>0</td>\n",
       "      <td>20</td>\n",
       "      <td>9908.312500</td>\n",
       "    </tr>\n",
       "  </tbody>\n",
       "</table>\n",
       "<p>13977 rows × 12 columns</p>\n",
       "</div>"
      ],
      "text/plain": [
       "                                  uu_id  week_number  total_claims  \\\n",
       "0      001cd9ae23064d7f0fd3cd327c873d8d           31            34   \n",
       "1      001cd9ae23064d7f0fd3cd327c873d8d           33            10   \n",
       "2      001cd9ae23064d7f0fd3cd327c873d8d           34            25   \n",
       "3      001cd9ae23064d7f0fd3cd327c873d8d           35            10   \n",
       "4      001cd9ae23064d7f0fd3cd327c873d8d           36            10   \n",
       "...                                 ...          ...           ...   \n",
       "13972  fec479d0202d6e1e3f051a9ee902ff5d           33            59   \n",
       "13973  fec479d0202d6e1e3f051a9ee902ff5d           34            34   \n",
       "13974  fec479d0202d6e1e3f051a9ee902ff5d           35            27   \n",
       "13975  fec479d0202d6e1e3f051a9ee902ff5d           36            28   \n",
       "13976  fec479d0202d6e1e3f051a9ee902ff5d           37            28   \n",
       "\n",
       "       edu_8th_or_less  edu_grades_9_11  edu_hs_grad_equiv  edu_post_hs  \\\n",
       "0                    0                0                 30            0   \n",
       "1                    0                0                  0            0   \n",
       "2                    0                0                  0            0   \n",
       "3                    0                0                  0            0   \n",
       "4                    0                0                  0            0   \n",
       "...                ...              ...                ...          ...   \n",
       "13972                0                0                 10           49   \n",
       "13973                0                0                  0           25   \n",
       "13974                0                0                  0           15   \n",
       "13975                0                0                  0           18   \n",
       "13976                0                0                  0           17   \n",
       "\n",
       "       race_amerindian  race_asian  race_black  race_white  average_wage  \n",
       "0                    0           0           0          34  10484.333333  \n",
       "1                    0           0           0          10  10484.333333  \n",
       "2                    0           0           0           0  10484.333333  \n",
       "3                    0           0           0           0  10484.333333  \n",
       "4                    0           0           0           0  10484.333333  \n",
       "...                ...         ...         ...         ...           ...  \n",
       "13972                0           0           0          52   9908.312500  \n",
       "13973                0           0           0          26   9908.312500  \n",
       "13974                0           0           0          19   9908.312500  \n",
       "13975                0           0           0          18   9908.312500  \n",
       "13976                0           0           0          20   9908.312500  \n",
       "\n",
       "[13977 rows x 12 columns]"
      ]
     },
     "execution_count": 14,
     "metadata": {},
     "output_type": "execute_result"
    }
   ],
   "source": [
    "a = pd.merge(unemployment_data, wage_data, on='uu_id')\n",
    "a"
   ]
  },
  {
   "cell_type": "code",
   "execution_count": 15,
   "id": "4ae085c6",
   "metadata": {},
   "outputs": [
    {
     "data": {
      "text/html": [
       "<div>\n",
       "<style scoped>\n",
       "    .dataframe tbody tr th:only-of-type {\n",
       "        vertical-align: middle;\n",
       "    }\n",
       "\n",
       "    .dataframe tbody tr th {\n",
       "        vertical-align: top;\n",
       "    }\n",
       "\n",
       "    .dataframe thead th {\n",
       "        text-align: right;\n",
       "    }\n",
       "</style>\n",
       "<table border=\"1\" class=\"dataframe\">\n",
       "  <thead>\n",
       "    <tr style=\"text-align: right;\">\n",
       "      <th></th>\n",
       "      <th>uu_id</th>\n",
       "      <th>week_number</th>\n",
       "      <th>total_claims</th>\n",
       "      <th>edu_8th_or_less</th>\n",
       "      <th>edu_grades_9_11</th>\n",
       "      <th>edu_hs_grad_equiv</th>\n",
       "      <th>edu_post_hs</th>\n",
       "      <th>race_amerindian</th>\n",
       "      <th>race_asian</th>\n",
       "      <th>race_black</th>\n",
       "      <th>race_white</th>\n",
       "    </tr>\n",
       "  </thead>\n",
       "  <tbody>\n",
       "    <tr>\n",
       "      <th>238</th>\n",
       "      <td>06c78e49b4daedfeb808c42e58fb25e4</td>\n",
       "      <td>1</td>\n",
       "      <td>17</td>\n",
       "      <td>0</td>\n",
       "      <td>0</td>\n",
       "      <td>0</td>\n",
       "      <td>10</td>\n",
       "      <td>0</td>\n",
       "      <td>0</td>\n",
       "      <td>0</td>\n",
       "      <td>0</td>\n",
       "    </tr>\n",
       "    <tr>\n",
       "      <th>239</th>\n",
       "      <td>06c78e49b4daedfeb808c42e58fb25e4</td>\n",
       "      <td>2</td>\n",
       "      <td>17</td>\n",
       "      <td>0</td>\n",
       "      <td>0</td>\n",
       "      <td>0</td>\n",
       "      <td>11</td>\n",
       "      <td>0</td>\n",
       "      <td>0</td>\n",
       "      <td>0</td>\n",
       "      <td>0</td>\n",
       "    </tr>\n",
       "    <tr>\n",
       "      <th>240</th>\n",
       "      <td>06c78e49b4daedfeb808c42e58fb25e4</td>\n",
       "      <td>3</td>\n",
       "      <td>18</td>\n",
       "      <td>0</td>\n",
       "      <td>0</td>\n",
       "      <td>0</td>\n",
       "      <td>0</td>\n",
       "      <td>0</td>\n",
       "      <td>0</td>\n",
       "      <td>0</td>\n",
       "      <td>0</td>\n",
       "    </tr>\n",
       "    <tr>\n",
       "      <th>241</th>\n",
       "      <td>06c78e49b4daedfeb808c42e58fb25e4</td>\n",
       "      <td>5</td>\n",
       "      <td>23</td>\n",
       "      <td>0</td>\n",
       "      <td>0</td>\n",
       "      <td>0</td>\n",
       "      <td>0</td>\n",
       "      <td>0</td>\n",
       "      <td>0</td>\n",
       "      <td>0</td>\n",
       "      <td>19</td>\n",
       "    </tr>\n",
       "    <tr>\n",
       "      <th>242</th>\n",
       "      <td>06c78e49b4daedfeb808c42e58fb25e4</td>\n",
       "      <td>6</td>\n",
       "      <td>15</td>\n",
       "      <td>0</td>\n",
       "      <td>0</td>\n",
       "      <td>0</td>\n",
       "      <td>0</td>\n",
       "      <td>0</td>\n",
       "      <td>0</td>\n",
       "      <td>0</td>\n",
       "      <td>0</td>\n",
       "    </tr>\n",
       "    <tr>\n",
       "      <th>243</th>\n",
       "      <td>06c78e49b4daedfeb808c42e58fb25e4</td>\n",
       "      <td>7</td>\n",
       "      <td>21</td>\n",
       "      <td>0</td>\n",
       "      <td>0</td>\n",
       "      <td>0</td>\n",
       "      <td>0</td>\n",
       "      <td>0</td>\n",
       "      <td>0</td>\n",
       "      <td>0</td>\n",
       "      <td>0</td>\n",
       "    </tr>\n",
       "    <tr>\n",
       "      <th>244</th>\n",
       "      <td>06c78e49b4daedfeb808c42e58fb25e4</td>\n",
       "      <td>8</td>\n",
       "      <td>17</td>\n",
       "      <td>0</td>\n",
       "      <td>0</td>\n",
       "      <td>0</td>\n",
       "      <td>0</td>\n",
       "      <td>0</td>\n",
       "      <td>0</td>\n",
       "      <td>0</td>\n",
       "      <td>0</td>\n",
       "    </tr>\n",
       "    <tr>\n",
       "      <th>245</th>\n",
       "      <td>06c78e49b4daedfeb808c42e58fb25e4</td>\n",
       "      <td>9</td>\n",
       "      <td>45</td>\n",
       "      <td>0</td>\n",
       "      <td>0</td>\n",
       "      <td>0</td>\n",
       "      <td>0</td>\n",
       "      <td>0</td>\n",
       "      <td>0</td>\n",
       "      <td>23</td>\n",
       "      <td>22</td>\n",
       "    </tr>\n",
       "    <tr>\n",
       "      <th>246</th>\n",
       "      <td>06c78e49b4daedfeb808c42e58fb25e4</td>\n",
       "      <td>10</td>\n",
       "      <td>19</td>\n",
       "      <td>0</td>\n",
       "      <td>0</td>\n",
       "      <td>0</td>\n",
       "      <td>0</td>\n",
       "      <td>0</td>\n",
       "      <td>0</td>\n",
       "      <td>0</td>\n",
       "      <td>0</td>\n",
       "    </tr>\n",
       "    <tr>\n",
       "      <th>247</th>\n",
       "      <td>06c78e49b4daedfeb808c42e58fb25e4</td>\n",
       "      <td>11</td>\n",
       "      <td>22</td>\n",
       "      <td>0</td>\n",
       "      <td>0</td>\n",
       "      <td>0</td>\n",
       "      <td>0</td>\n",
       "      <td>0</td>\n",
       "      <td>0</td>\n",
       "      <td>0</td>\n",
       "      <td>0</td>\n",
       "    </tr>\n",
       "    <tr>\n",
       "      <th>248</th>\n",
       "      <td>06c78e49b4daedfeb808c42e58fb25e4</td>\n",
       "      <td>12</td>\n",
       "      <td>16</td>\n",
       "      <td>0</td>\n",
       "      <td>0</td>\n",
       "      <td>0</td>\n",
       "      <td>0</td>\n",
       "      <td>0</td>\n",
       "      <td>0</td>\n",
       "      <td>0</td>\n",
       "      <td>0</td>\n",
       "    </tr>\n",
       "    <tr>\n",
       "      <th>249</th>\n",
       "      <td>06c78e49b4daedfeb808c42e58fb25e4</td>\n",
       "      <td>13</td>\n",
       "      <td>15</td>\n",
       "      <td>0</td>\n",
       "      <td>0</td>\n",
       "      <td>0</td>\n",
       "      <td>0</td>\n",
       "      <td>0</td>\n",
       "      <td>0</td>\n",
       "      <td>0</td>\n",
       "      <td>15</td>\n",
       "    </tr>\n",
       "    <tr>\n",
       "      <th>250</th>\n",
       "      <td>06c78e49b4daedfeb808c42e58fb25e4</td>\n",
       "      <td>14</td>\n",
       "      <td>45</td>\n",
       "      <td>0</td>\n",
       "      <td>0</td>\n",
       "      <td>21</td>\n",
       "      <td>24</td>\n",
       "      <td>0</td>\n",
       "      <td>0</td>\n",
       "      <td>19</td>\n",
       "      <td>26</td>\n",
       "    </tr>\n",
       "    <tr>\n",
       "      <th>251</th>\n",
       "      <td>06c78e49b4daedfeb808c42e58fb25e4</td>\n",
       "      <td>15</td>\n",
       "      <td>19</td>\n",
       "      <td>0</td>\n",
       "      <td>0</td>\n",
       "      <td>0</td>\n",
       "      <td>13</td>\n",
       "      <td>0</td>\n",
       "      <td>0</td>\n",
       "      <td>0</td>\n",
       "      <td>15</td>\n",
       "    </tr>\n",
       "    <tr>\n",
       "      <th>252</th>\n",
       "      <td>06c78e49b4daedfeb808c42e58fb25e4</td>\n",
       "      <td>16</td>\n",
       "      <td>11</td>\n",
       "      <td>0</td>\n",
       "      <td>0</td>\n",
       "      <td>0</td>\n",
       "      <td>0</td>\n",
       "      <td>0</td>\n",
       "      <td>0</td>\n",
       "      <td>0</td>\n",
       "      <td>11</td>\n",
       "    </tr>\n",
       "    <tr>\n",
       "      <th>253</th>\n",
       "      <td>06c78e49b4daedfeb808c42e58fb25e4</td>\n",
       "      <td>17</td>\n",
       "      <td>17</td>\n",
       "      <td>0</td>\n",
       "      <td>0</td>\n",
       "      <td>0</td>\n",
       "      <td>11</td>\n",
       "      <td>0</td>\n",
       "      <td>0</td>\n",
       "      <td>0</td>\n",
       "      <td>0</td>\n",
       "    </tr>\n",
       "    <tr>\n",
       "      <th>254</th>\n",
       "      <td>06c78e49b4daedfeb808c42e58fb25e4</td>\n",
       "      <td>18</td>\n",
       "      <td>12</td>\n",
       "      <td>0</td>\n",
       "      <td>0</td>\n",
       "      <td>0</td>\n",
       "      <td>0</td>\n",
       "      <td>0</td>\n",
       "      <td>0</td>\n",
       "      <td>0</td>\n",
       "      <td>12</td>\n",
       "    </tr>\n",
       "    <tr>\n",
       "      <th>255</th>\n",
       "      <td>06c78e49b4daedfeb808c42e58fb25e4</td>\n",
       "      <td>19</td>\n",
       "      <td>14</td>\n",
       "      <td>0</td>\n",
       "      <td>0</td>\n",
       "      <td>0</td>\n",
       "      <td>11</td>\n",
       "      <td>0</td>\n",
       "      <td>0</td>\n",
       "      <td>0</td>\n",
       "      <td>0</td>\n",
       "    </tr>\n",
       "    <tr>\n",
       "      <th>256</th>\n",
       "      <td>06c78e49b4daedfeb808c42e58fb25e4</td>\n",
       "      <td>20</td>\n",
       "      <td>10</td>\n",
       "      <td>0</td>\n",
       "      <td>0</td>\n",
       "      <td>0</td>\n",
       "      <td>0</td>\n",
       "      <td>0</td>\n",
       "      <td>0</td>\n",
       "      <td>0</td>\n",
       "      <td>10</td>\n",
       "    </tr>\n",
       "    <tr>\n",
       "      <th>257</th>\n",
       "      <td>06c78e49b4daedfeb808c42e58fb25e4</td>\n",
       "      <td>21</td>\n",
       "      <td>15</td>\n",
       "      <td>0</td>\n",
       "      <td>0</td>\n",
       "      <td>0</td>\n",
       "      <td>10</td>\n",
       "      <td>0</td>\n",
       "      <td>0</td>\n",
       "      <td>0</td>\n",
       "      <td>15</td>\n",
       "    </tr>\n",
       "    <tr>\n",
       "      <th>258</th>\n",
       "      <td>06c78e49b4daedfeb808c42e58fb25e4</td>\n",
       "      <td>22</td>\n",
       "      <td>10</td>\n",
       "      <td>0</td>\n",
       "      <td>0</td>\n",
       "      <td>0</td>\n",
       "      <td>0</td>\n",
       "      <td>0</td>\n",
       "      <td>0</td>\n",
       "      <td>0</td>\n",
       "      <td>10</td>\n",
       "    </tr>\n",
       "    <tr>\n",
       "      <th>259</th>\n",
       "      <td>06c78e49b4daedfeb808c42e58fb25e4</td>\n",
       "      <td>25</td>\n",
       "      <td>10</td>\n",
       "      <td>0</td>\n",
       "      <td>0</td>\n",
       "      <td>0</td>\n",
       "      <td>0</td>\n",
       "      <td>0</td>\n",
       "      <td>0</td>\n",
       "      <td>0</td>\n",
       "      <td>10</td>\n",
       "    </tr>\n",
       "    <tr>\n",
       "      <th>260</th>\n",
       "      <td>06c78e49b4daedfeb808c42e58fb25e4</td>\n",
       "      <td>26</td>\n",
       "      <td>25</td>\n",
       "      <td>0</td>\n",
       "      <td>0</td>\n",
       "      <td>0</td>\n",
       "      <td>19</td>\n",
       "      <td>0</td>\n",
       "      <td>0</td>\n",
       "      <td>0</td>\n",
       "      <td>0</td>\n",
       "    </tr>\n",
       "    <tr>\n",
       "      <th>261</th>\n",
       "      <td>06c78e49b4daedfeb808c42e58fb25e4</td>\n",
       "      <td>27</td>\n",
       "      <td>13</td>\n",
       "      <td>0</td>\n",
       "      <td>0</td>\n",
       "      <td>0</td>\n",
       "      <td>0</td>\n",
       "      <td>0</td>\n",
       "      <td>0</td>\n",
       "      <td>0</td>\n",
       "      <td>13</td>\n",
       "    </tr>\n",
       "    <tr>\n",
       "      <th>262</th>\n",
       "      <td>06c78e49b4daedfeb808c42e58fb25e4</td>\n",
       "      <td>29</td>\n",
       "      <td>12</td>\n",
       "      <td>0</td>\n",
       "      <td>0</td>\n",
       "      <td>0</td>\n",
       "      <td>0</td>\n",
       "      <td>0</td>\n",
       "      <td>0</td>\n",
       "      <td>0</td>\n",
       "      <td>0</td>\n",
       "    </tr>\n",
       "    <tr>\n",
       "      <th>263</th>\n",
       "      <td>06c78e49b4daedfeb808c42e58fb25e4</td>\n",
       "      <td>31</td>\n",
       "      <td>12</td>\n",
       "      <td>0</td>\n",
       "      <td>0</td>\n",
       "      <td>0</td>\n",
       "      <td>0</td>\n",
       "      <td>0</td>\n",
       "      <td>0</td>\n",
       "      <td>0</td>\n",
       "      <td>0</td>\n",
       "    </tr>\n",
       "    <tr>\n",
       "      <th>264</th>\n",
       "      <td>06c78e49b4daedfeb808c42e58fb25e4</td>\n",
       "      <td>33</td>\n",
       "      <td>12</td>\n",
       "      <td>0</td>\n",
       "      <td>0</td>\n",
       "      <td>0</td>\n",
       "      <td>0</td>\n",
       "      <td>0</td>\n",
       "      <td>0</td>\n",
       "      <td>0</td>\n",
       "      <td>0</td>\n",
       "    </tr>\n",
       "    <tr>\n",
       "      <th>265</th>\n",
       "      <td>06c78e49b4daedfeb808c42e58fb25e4</td>\n",
       "      <td>34</td>\n",
       "      <td>14</td>\n",
       "      <td>0</td>\n",
       "      <td>0</td>\n",
       "      <td>0</td>\n",
       "      <td>0</td>\n",
       "      <td>0</td>\n",
       "      <td>0</td>\n",
       "      <td>0</td>\n",
       "      <td>0</td>\n",
       "    </tr>\n",
       "    <tr>\n",
       "      <th>266</th>\n",
       "      <td>06c78e49b4daedfeb808c42e58fb25e4</td>\n",
       "      <td>36</td>\n",
       "      <td>25</td>\n",
       "      <td>0</td>\n",
       "      <td>0</td>\n",
       "      <td>0</td>\n",
       "      <td>0</td>\n",
       "      <td>0</td>\n",
       "      <td>0</td>\n",
       "      <td>0</td>\n",
       "      <td>25</td>\n",
       "    </tr>\n",
       "    <tr>\n",
       "      <th>267</th>\n",
       "      <td>06c78e49b4daedfeb808c42e58fb25e4</td>\n",
       "      <td>37</td>\n",
       "      <td>11</td>\n",
       "      <td>0</td>\n",
       "      <td>0</td>\n",
       "      <td>0</td>\n",
       "      <td>0</td>\n",
       "      <td>0</td>\n",
       "      <td>0</td>\n",
       "      <td>0</td>\n",
       "      <td>0</td>\n",
       "    </tr>\n",
       "  </tbody>\n",
       "</table>\n",
       "</div>"
      ],
      "text/plain": [
       "                                uu_id  week_number  total_claims  \\\n",
       "238  06c78e49b4daedfeb808c42e58fb25e4            1            17   \n",
       "239  06c78e49b4daedfeb808c42e58fb25e4            2            17   \n",
       "240  06c78e49b4daedfeb808c42e58fb25e4            3            18   \n",
       "241  06c78e49b4daedfeb808c42e58fb25e4            5            23   \n",
       "242  06c78e49b4daedfeb808c42e58fb25e4            6            15   \n",
       "243  06c78e49b4daedfeb808c42e58fb25e4            7            21   \n",
       "244  06c78e49b4daedfeb808c42e58fb25e4            8            17   \n",
       "245  06c78e49b4daedfeb808c42e58fb25e4            9            45   \n",
       "246  06c78e49b4daedfeb808c42e58fb25e4           10            19   \n",
       "247  06c78e49b4daedfeb808c42e58fb25e4           11            22   \n",
       "248  06c78e49b4daedfeb808c42e58fb25e4           12            16   \n",
       "249  06c78e49b4daedfeb808c42e58fb25e4           13            15   \n",
       "250  06c78e49b4daedfeb808c42e58fb25e4           14            45   \n",
       "251  06c78e49b4daedfeb808c42e58fb25e4           15            19   \n",
       "252  06c78e49b4daedfeb808c42e58fb25e4           16            11   \n",
       "253  06c78e49b4daedfeb808c42e58fb25e4           17            17   \n",
       "254  06c78e49b4daedfeb808c42e58fb25e4           18            12   \n",
       "255  06c78e49b4daedfeb808c42e58fb25e4           19            14   \n",
       "256  06c78e49b4daedfeb808c42e58fb25e4           20            10   \n",
       "257  06c78e49b4daedfeb808c42e58fb25e4           21            15   \n",
       "258  06c78e49b4daedfeb808c42e58fb25e4           22            10   \n",
       "259  06c78e49b4daedfeb808c42e58fb25e4           25            10   \n",
       "260  06c78e49b4daedfeb808c42e58fb25e4           26            25   \n",
       "261  06c78e49b4daedfeb808c42e58fb25e4           27            13   \n",
       "262  06c78e49b4daedfeb808c42e58fb25e4           29            12   \n",
       "263  06c78e49b4daedfeb808c42e58fb25e4           31            12   \n",
       "264  06c78e49b4daedfeb808c42e58fb25e4           33            12   \n",
       "265  06c78e49b4daedfeb808c42e58fb25e4           34            14   \n",
       "266  06c78e49b4daedfeb808c42e58fb25e4           36            25   \n",
       "267  06c78e49b4daedfeb808c42e58fb25e4           37            11   \n",
       "\n",
       "     edu_8th_or_less  edu_grades_9_11  edu_hs_grad_equiv  edu_post_hs  \\\n",
       "238                0                0                  0           10   \n",
       "239                0                0                  0           11   \n",
       "240                0                0                  0            0   \n",
       "241                0                0                  0            0   \n",
       "242                0                0                  0            0   \n",
       "243                0                0                  0            0   \n",
       "244                0                0                  0            0   \n",
       "245                0                0                  0            0   \n",
       "246                0                0                  0            0   \n",
       "247                0                0                  0            0   \n",
       "248                0                0                  0            0   \n",
       "249                0                0                  0            0   \n",
       "250                0                0                 21           24   \n",
       "251                0                0                  0           13   \n",
       "252                0                0                  0            0   \n",
       "253                0                0                  0           11   \n",
       "254                0                0                  0            0   \n",
       "255                0                0                  0           11   \n",
       "256                0                0                  0            0   \n",
       "257                0                0                  0           10   \n",
       "258                0                0                  0            0   \n",
       "259                0                0                  0            0   \n",
       "260                0                0                  0           19   \n",
       "261                0                0                  0            0   \n",
       "262                0                0                  0            0   \n",
       "263                0                0                  0            0   \n",
       "264                0                0                  0            0   \n",
       "265                0                0                  0            0   \n",
       "266                0                0                  0            0   \n",
       "267                0                0                  0            0   \n",
       "\n",
       "     race_amerindian  race_asian  race_black  race_white  \n",
       "238                0           0           0           0  \n",
       "239                0           0           0           0  \n",
       "240                0           0           0           0  \n",
       "241                0           0           0          19  \n",
       "242                0           0           0           0  \n",
       "243                0           0           0           0  \n",
       "244                0           0           0           0  \n",
       "245                0           0          23          22  \n",
       "246                0           0           0           0  \n",
       "247                0           0           0           0  \n",
       "248                0           0           0           0  \n",
       "249                0           0           0          15  \n",
       "250                0           0          19          26  \n",
       "251                0           0           0          15  \n",
       "252                0           0           0          11  \n",
       "253                0           0           0           0  \n",
       "254                0           0           0          12  \n",
       "255                0           0           0           0  \n",
       "256                0           0           0          10  \n",
       "257                0           0           0          15  \n",
       "258                0           0           0          10  \n",
       "259                0           0           0          10  \n",
       "260                0           0           0           0  \n",
       "261                0           0           0          13  \n",
       "262                0           0           0           0  \n",
       "263                0           0           0           0  \n",
       "264                0           0           0           0  \n",
       "265                0           0           0           0  \n",
       "266                0           0           0          25  \n",
       "267                0           0           0           0  "
      ]
     },
     "execution_count": 15,
     "metadata": {},
     "output_type": "execute_result"
    }
   ],
   "source": [
    "data = unemployment_data[unemployment_data.uu_id == '06c78e49b4daedfeb808c42e58fb25e4']\n",
    "data"
   ]
  },
  {
   "cell_type": "code",
   "execution_count": 16,
   "id": "f9f70882",
   "metadata": {},
   "outputs": [
    {
     "data": {
      "text/plain": [
       "array(['001cd9ae23064d7f0fd3cd327c873d8d',\n",
       "       '005be9532fd717dc36d4be318fd9ad25',\n",
       "       '007c1caccff1fbb3a0b8a10790f77141',\n",
       "       '009683350b175edfc6414d664e4ba873',\n",
       "       '00f962ce727b8dbbf20925abd5a253dd',\n",
       "       '02a7b845ab6b3fc2c09a50cdc486db2a',\n",
       "       '03ba3a9a63be1a5423457246f2846292',\n",
       "       '050a624d618a68e43fe31189909c644f',\n",
       "       '05298117cbe0fd69f04f89c83aaac091',\n",
       "       '05f47cc80d60a67d61e891e2b90c2045',\n",
       "       '06c78e49b4daedfeb808c42e58fb25e4',\n",
       "       '06e492b4f29d153af26c659d1f7da2a1',\n",
       "       '07306ce64b3496b7955efaaf7509d73c',\n",
       "       '074f501122885ab9aef5e9d07004209d',\n",
       "       '09fbf26479f644ad33186ec51a90d65d',\n",
       "       '0abaea6bbc30d7cf8dbacc64727e7091',\n",
       "       '0ad94f09274e2c9cb0ef5cb77eb334b4',\n",
       "       '0aed17ab54d56c6651d331418e8db6be',\n",
       "       '0bdc0df962a3c10541c2aa5220ded58b',\n",
       "       '0d165590afad07ce71727d690f4aad80'], dtype=object)"
      ]
     },
     "execution_count": 16,
     "metadata": {},
     "output_type": "execute_result"
    }
   ],
   "source": [
    "unemployment_data.uu_id.unique()[:20]"
   ]
  },
  {
   "cell_type": "code",
   "execution_count": 17,
   "id": "bac88a2b",
   "metadata": {},
   "outputs": [],
   "source": [
    "from sklearn.model_selection import train_test_split\n",
    "from sklearn.preprocessing import StandardScaler"
   ]
  },
  {
   "cell_type": "markdown",
   "id": "5b0b20f6",
   "metadata": {},
   "source": [
    "data = unemployment_data[unemployment_data.uu_id == 'ffbc87dc4bde6828daff6ad43e12db4a']\n",
    "y = data['total_claims']\n",
    "X = data.drop(['total_claims','uu_id'], axis = 1)"
   ]
  },
  {
   "cell_type": "markdown",
   "id": "e5f49d7f",
   "metadata": {},
   "source": [
    "X_train, X_test, y_train, y_test = train_test_split(X, y, test_size=0.5, random_state=0)"
   ]
  },
  {
   "cell_type": "markdown",
   "id": "f6ee0c66",
   "metadata": {},
   "source": [
    "regr = RandomForestRegressor(n_estimators = 1000, max_depth = 5, random_state = 101)\n",
    "regr.fit(X_train, y_train.values.ravel())\n",
    "predictions = regr.predict(X_test)"
   ]
  },
  {
   "cell_type": "markdown",
   "id": "26c9b51e",
   "metadata": {},
   "source": [
    "result = X_test\n",
    "result['total_claims'] = y_test\n",
    "result['prediction'] = predictions.tolist()\n",
    "result = result.sort_values('week_number')\n",
    "result_format = result[['week_number','total_claims', 'prediction']]"
   ]
  },
  {
   "cell_type": "markdown",
   "id": "1c0f7511",
   "metadata": {},
   "source": [
    "print('Mean Absolute Error:', metrics.mean_absolute_error(y_test, result['prediction'] ))\n",
    "print('Mean Squared Error:', metrics.mean_squared_error(y_test, result['prediction'] ))\n",
    "print('Root Mean Squared Error:', np.sqrt(metrics.mean_squared_error(y_test, result['prediction'] )))\n",
    "result"
   ]
  },
  {
   "cell_type": "code",
   "execution_count": 18,
   "id": "83bcb5b4",
   "metadata": {},
   "outputs": [
    {
     "ename": "NameError",
     "evalue": "name 'result' is not defined",
     "output_type": "error",
     "traceback": [
      "\u001b[0;31m---------------------------------------------------------------------------\u001b[0m",
      "\u001b[0;31mNameError\u001b[0m                                 Traceback (most recent call last)",
      "\u001b[0;32m/var/folders/l2/cnhff0_n1470l4xf0p7v7l_40000gn/T/ipykernel_5092/2430129630.py\u001b[0m in \u001b[0;36m<module>\u001b[0;34m\u001b[0m\n\u001b[0;32m----> 1\u001b[0;31m \u001b[0mx_axis\u001b[0m \u001b[0;34m=\u001b[0m \u001b[0mresult\u001b[0m\u001b[0;34m.\u001b[0m\u001b[0mweek_number\u001b[0m\u001b[0;34m\u001b[0m\u001b[0;34m\u001b[0m\u001b[0m\n\u001b[0m",
      "\u001b[0;31mNameError\u001b[0m: name 'result' is not defined"
     ]
    }
   ],
   "source": [
    "x_axis = result.week_number"
   ]
  },
  {
   "cell_type": "code",
   "execution_count": 19,
   "id": "13ae0787",
   "metadata": {
    "lines_to_next_cell": 2
   },
   "outputs": [
    {
     "ename": "NameError",
     "evalue": "name 'x_axis' is not defined",
     "output_type": "error",
     "traceback": [
      "\u001b[0;31m---------------------------------------------------------------------------\u001b[0m",
      "\u001b[0;31mNameError\u001b[0m                                 Traceback (most recent call last)",
      "\u001b[0;32m/var/folders/l2/cnhff0_n1470l4xf0p7v7l_40000gn/T/ipykernel_5092/638744333.py\u001b[0m in \u001b[0;36m<module>\u001b[0;34m\u001b[0m\n\u001b[1;32m      1\u001b[0m \u001b[0;31m# Build scatterplot\u001b[0m\u001b[0;34m\u001b[0m\u001b[0;34m\u001b[0m\u001b[0m\n\u001b[0;32m----> 2\u001b[0;31m \u001b[0mplt\u001b[0m\u001b[0;34m.\u001b[0m\u001b[0mplot\u001b[0m\u001b[0;34m(\u001b[0m\u001b[0mx_axis\u001b[0m\u001b[0;34m,\u001b[0m \u001b[0mresult\u001b[0m\u001b[0;34m[\u001b[0m\u001b[0;34m'total_claims'\u001b[0m\u001b[0;34m]\u001b[0m\u001b[0;34m,\u001b[0m \u001b[0mc\u001b[0m \u001b[0;34m=\u001b[0m \u001b[0;34m'b'\u001b[0m\u001b[0;34m,\u001b[0m \u001b[0malpha\u001b[0m \u001b[0;34m=\u001b[0m \u001b[0;36m0.5\u001b[0m\u001b[0;34m,\u001b[0m \u001b[0mmarker\u001b[0m \u001b[0;34m=\u001b[0m \u001b[0;34m'.'\u001b[0m\u001b[0;34m,\u001b[0m \u001b[0mlabel\u001b[0m \u001b[0;34m=\u001b[0m \u001b[0;34m'Real'\u001b[0m\u001b[0;34m)\u001b[0m\u001b[0;34m\u001b[0m\u001b[0;34m\u001b[0m\u001b[0m\n\u001b[0m\u001b[1;32m      3\u001b[0m \u001b[0mplt\u001b[0m\u001b[0;34m.\u001b[0m\u001b[0mplot\u001b[0m\u001b[0;34m(\u001b[0m\u001b[0mx_axis\u001b[0m\u001b[0;34m,\u001b[0m \u001b[0mresult\u001b[0m\u001b[0;34m[\u001b[0m\u001b[0;34m'prediction'\u001b[0m\u001b[0;34m]\u001b[0m\u001b[0;34m,\u001b[0m \u001b[0mc\u001b[0m \u001b[0;34m=\u001b[0m \u001b[0;34m'r'\u001b[0m\u001b[0;34m,\u001b[0m \u001b[0malpha\u001b[0m \u001b[0;34m=\u001b[0m \u001b[0;36m0.5\u001b[0m\u001b[0;34m,\u001b[0m \u001b[0mmarker\u001b[0m \u001b[0;34m=\u001b[0m \u001b[0;34m'.'\u001b[0m\u001b[0;34m,\u001b[0m \u001b[0mlabel\u001b[0m \u001b[0;34m=\u001b[0m \u001b[0;34m'Predicted'\u001b[0m\u001b[0;34m)\u001b[0m\u001b[0;34m\u001b[0m\u001b[0;34m\u001b[0m\u001b[0m\n",
      "\u001b[0;31mNameError\u001b[0m: name 'x_axis' is not defined"
     ]
    }
   ],
   "source": [
    "# Build scatterplot\n",
    "plt.plot(x_axis, result['total_claims'], c = 'b', alpha = 0.5, marker = '.', label = 'Real')\n",
    "plt.plot(x_axis, result['prediction'], c = 'r', alpha = 0.5, marker = '.', label = 'Predicted')"
   ]
  },
  {
   "cell_type": "code",
   "execution_count": 20,
   "id": "e09ffc42",
   "metadata": {},
   "outputs": [
    {
     "data": {
      "text/plain": [
       "Text(0, 0.5, 'Claims')"
      ]
     },
     "execution_count": 20,
     "metadata": {},
     "output_type": "execute_result"
    },
    {
     "data": {
      "image/png": "[encoded data removed]",
      "text/plain": [
       "<Figure size 432x288 with 1 Axes>"
      ]
     },
     "metadata": {
      "needs_background": "light"
     },
     "output_type": "display_data"
    }
   ],
   "source": [
    "plt.xlabel('Week')\n",
    "plt.ylabel('Claims')"
   ]
  },
  {
   "cell_type": "code",
   "execution_count": 21,
   "id": "49b05374",
   "metadata": {},
   "outputs": [
    {
     "data": {
      "image/png": "[encoded data removed]",
      "text/plain": [
       "<Figure size 432x288 with 1 Axes>"
      ]
     },
     "metadata": {
      "needs_background": "light"
     },
     "output_type": "display_data"
    }
   ],
   "source": [
    "plt.grid(color = '#D3D3D3', linestyle = 'solid')"
   ]
  },
  {
   "cell_type": "code",
   "execution_count": 22,
   "id": "13cb6a89",
   "metadata": {},
   "outputs": [
    {
     "name": "stderr",
     "output_type": "stream",
     "text": [
      "No handles with labels found to put in legend.\n"
     ]
    },
    {
     "data": {
      "text/plain": [
       "<matplotlib.legend.Legend at 0x7f876959b3d0>"
      ]
     },
     "execution_count": 22,
     "metadata": {},
     "output_type": "execute_result"
    },
    {
     "data": {
      "image/png": "[encoded data removed]",
      "text/plain": [
       "<Figure size 432x288 with 1 Axes>"
      ]
     },
     "metadata": {
      "needs_background": "light"
     },
     "output_type": "display_data"
    }
   ],
   "source": [
    "plt.legend(loc = 'lower right')"
   ]
  },
  {
   "cell_type": "code",
   "execution_count": 23,
   "id": "44c3fb7c",
   "metadata": {
    "lines_to_next_cell": 1
   },
   "outputs": [],
   "source": [
    "plt.show()"
   ]
  },
  {
   "cell_type": "code",
   "execution_count": 24,
   "id": "72ee3ac0",
   "metadata": {
    "lines_to_next_cell": 1
   },
   "outputs": [],
   "source": [
    "def predict_claim(uuid):\n",
    "    data = unemployment_data[unemployment_data.uu_id == uuid]\n",
    "    y = data['total_claims']\n",
    "    X = data.drop(['total_claims','uu_id'], axis = 1)\n",
    "\n",
    "    X_train, X_test, y_train, y_test = train_test_split(X, y, test_size=0.5, random_state=0)\n",
    "\n",
    "    regr = RandomForestRegressor(n_estimators = 1000, max_depth = 5, random_state = 101)\n",
    "    regr.fit(X_train, y_train.values.ravel())\n",
    "    predictions = regr.predict(X_test)\n",
    "\n",
    "    result = X_test\n",
    "    result['total_claims'] = y_test\n",
    "    result['prediction'] = predictions.tolist()\n",
    "    result = result.sort_values('week_number')\n",
    "    result = result[['week_number','total_claims', 'prediction']]\n",
    "    \n",
    "    lm = LinearRegression()\n",
    "    lm.fit(np.array(result['week_number']).reshape(-1,1), np.array(result['total_claims']))\n",
    "\n",
    "    intercept = lm.intercept_\n",
    "    slope = lm.coef_\n",
    "    \n",
    "    return 40*slope + intercept"
   ]
  },
  {
   "cell_type": "code",
   "execution_count": 25,
   "id": "255e49d1",
   "metadata": {},
   "outputs": [],
   "source": [
    "query = \"\"\"\n",
    "SELECT *\n",
    "FROM `ironhacks-data.ironhacks_competition.prediction_list`\n",
    "\"\"\""
   ]
  },
  {
   "cell_type": "code",
   "execution_count": 26,
   "id": "ef60fdeb",
   "metadata": {},
   "outputs": [],
   "source": [
    "query_job = bigquery_client.query(query)\n",
    "prediction_list = query_job.to_dataframe()"
   ]
  },
  {
   "cell_type": "code",
   "execution_count": 27,
   "id": "aaf91b38",
   "metadata": {},
   "outputs": [],
   "source": [
    "uuids = prediction_list.uu_id.tolist()"
   ]
  },
  {
   "cell_type": "code",
   "execution_count": 28,
   "id": "3e8fcda7",
   "metadata": {},
   "outputs": [
    {
     "data": {
      "text/plain": [
       "525"
      ]
     },
     "execution_count": 28,
     "metadata": {},
     "output_type": "execute_result"
    }
   ],
   "source": [
    "len(uuids)"
   ]
  },
  {
   "cell_type": "code",
   "execution_count": 29,
   "id": "a2ab6765",
   "metadata": {},
   "outputs": [
    {
     "name": "stdout",
     "output_type": "stream",
     "text": [
      "525\n"
     ]
    }
   ],
   "source": [
    "data_count = unemployment_data.uu_id.value_counts().to_dict()\n",
    "print(len(data_count))"
   ]
  },
  {
   "cell_type": "code",
   "execution_count": 30,
   "id": "68d26732",
   "metadata": {},
   "outputs": [
    {
     "name": "stdout",
     "output_type": "stream",
     "text": [
      "21\n"
     ]
    }
   ],
   "source": [
    "lessthanten = []\n",
    "for uuid, cnt in data_count.items():\n",
    "    if cnt <10:\n",
    "        lessthanten.append(uuid)\n",
    "print(len(lessthanten))"
   ]
  },
  {
   "cell_type": "code",
   "execution_count": 31,
   "id": "9676b685",
   "metadata": {},
   "outputs": [],
   "source": [
    "for i in lessthanten:\n",
    "    uuids.remove(i)"
   ]
  },
  {
   "cell_type": "code",
   "execution_count": 32,
   "id": "e1324864",
   "metadata": {},
   "outputs": [],
   "source": [
    "rows = []\n",
    "for uuid in uuids:\n",
    "    rows.append([uuid, 44, int(predict_claim(uuid))])"
   ]
  },
  {
   "cell_type": "code",
   "execution_count": 33,
   "id": "4bf70726",
   "metadata": {},
   "outputs": [],
   "source": [
    "for uuid in lessthanten:\n",
    "    rows.append([uuid, 44, int(unemployment_data.groupby('uu_id').median().total_claims[uuid])])    "
   ]
  },
  {
   "cell_type": "code",
   "execution_count": 34,
   "id": "bbfa78c1",
   "metadata": {},
   "outputs": [
    {
     "data": {
      "text/plain": [
       "525"
      ]
     },
     "execution_count": 34,
     "metadata": {},
     "output_type": "execute_result"
    }
   ],
   "source": [
    "len(rows)"
   ]
  },
  {
   "cell_type": "code",
   "execution_count": 35,
   "id": "a4c2c165",
   "metadata": {},
   "outputs": [],
   "source": [
    "filename = 'submission_prediction_output.csv'\n",
    "fields = ['uu_id', 'week_number', 'total_claims']"
   ]
  },
  {
   "cell_type": "code",
   "execution_count": 36,
   "id": "e41a148f",
   "metadata": {
    "lines_to_next_cell": 2
   },
   "outputs": [],
   "source": [
    "with open(filename, 'w') as csvfile: \n",
    "     \n",
    "    csvwriter = csv.writer(csvfile) \n",
    "\n",
    "    csvwriter.writerow(fields) \n",
    "\n",
    "    csvwriter.writerows(rows)"
   ]
  }
 ],
 "metadata": {
  "jupytext": {
   "cell_metadata_filter": "-all",
   "main_language": "python",
   "notebook_metadata_filter": "-all"
  },
  "kernelspec": {
   "display_name": "base",
   "language": "python",
   "name": "python3"
  },
  "language_info": {
   "codemirror_mode": {
    "name": "ipython",
    "version": 3
   },
   "file_extension": ".py",
   "mimetype": "text/x-python",
   "name": "python",
   "nbconvert_exporter": "python",
   "pygments_lexer": "ipython3",
   "version": "3.9.7"
  }
 },
 "nbformat": 4,
 "nbformat_minor": 5
}
