{
 "cells": [
  {
   "cell_type": "code",
   "execution_count": 1,
   "id": "33e63788",
   "metadata": {},
   "outputs": [],
   "source": [
    "get_ipython().run_cell_magic('capture', '', \"%logstop\\n%logstart -t -r -q ipython_command_log.py global\\n\\n#- IRONHACKS RESEARCH TRACKING CODE\\n#----------------------------------\\n# The following code is used to help our research team understand how you \\n# our notebook environment. We do not collect any personal information with\\n# the following code, it is used to measure when and how often you work on\\n# your submission files.\\n\\nimport os\\nfrom datetime import datetime\\nimport IPython.core.history as history\\n\\nha = history.HistoryAccessor()\\nha_tail = ha.get_tail(1)\\nha_cmd = next(ha_tail)\\nsession_id = str(ha_cmd[0])\\ncommand_id = str(ha_cmd[1])\\ntimestamp = datetime.utcnow().isoformat()\\nhistory_line = ','.join([session_id, command_id, timestamp]) + '\\\\n'\\nlogfile = open(os.environ['HOME']+'/ipython_session_log.csv', 'a')\\nlogfile.write(history_line)\\nlogfile.close()\\n\")"
   ]
  },
  {
   "cell_type": "code",
   "execution_count": 2,
   "id": "765503cd",
   "metadata": {},
   "outputs": [],
   "source": [
    "#LIBRARIES\n",
    "import os\n",
    "import pandas as pd\n",
    "import numpy as np\n",
    "import seaborn as sns\n",
    "import matplotlib.pyplot as plt\n",
    "from pandas import Series, DataFrame\n",
    "import warnings \n",
    "warnings.filterwarnings('ignore')\n",
    "from scipy import stats  \n",
    "from google.cloud import bigquery\n",
    "from google.oauth2 import service_account\n",
    "from google.cloud.bigquery import magics\n",
    "from sklearn.impute import SimpleImputer\n",
    "from sklearn import linear_model\n",
    "from sklearn.model_selection import train_test_split \n",
    "from sklearn.linear_model import LinearRegression\n",
    "from sklearn import metrics"
   ]
  },
  {
   "cell_type": "code",
   "execution_count": 3,
   "id": "22043f3e",
   "metadata": {},
   "outputs": [],
   "source": [
    "from neuralprophet import NeuralProphet\n",
    "import pickle"
   ]
  },
  {
   "cell_type": "code",
   "execution_count": 4,
   "id": "8a4a5667",
   "metadata": {
    "lines_to_next_cell": 2
   },
   "outputs": [
    {
     "name": "stdout",
     "output_type": "stream",
     "text": [
      "Collecting localpip\n",
      "  Downloading localpip-1.0.7-py3-none-any.whl (9.2 kB)\n",
      "Collecting bs4\n",
      "  Using cached bs4-0.0.1.tar.gz\n",
      "Requirement already satisfied: requests in /opt/anaconda3/lib/python3.9/site-packages (from localpip) (2.26.0)\n",
      "Collecting pypac\n",
      "  Downloading PyPAC-0.16.3-py2.py3-none-any.whl (23 kB)\n",
      "Requirement already satisfied: beautifulsoup4 in /opt/anaconda3/lib/python3.9/site-packages (from bs4->localpip) (4.10.0)\n",
      "Requirement already satisfied: soupsieve>1.2 in /opt/anaconda3/lib/python3.9/site-packages (from beautifulsoup4->bs4->localpip) (2.2.1)\n",
      "Collecting dukpy>=0.2.2\n",
      "  Downloading dukpy-0.3.0-cp39-cp39-macosx_10_9_x86_64.whl (1.4 MB)\n",
      "\u001b[K     |████████████████████████████████| 1.4 MB 5.3 MB/s eta 0:00:01\n",
      "\u001b[?25hCollecting tldextract>=2.2.3\n",
      "  Downloading tldextract-3.4.0-py3-none-any.whl (93 kB)\n",
      "\u001b[K     |████████████████████████████████| 93 kB 8.4 MB/s  eta 0:00:01\n",
      "\u001b[?25hCollecting pyobjc-framework-SystemConfiguration>=3.2.1\n",
      "  Downloading pyobjc_framework_SystemConfiguration-9.1.1-cp36-abi3-macosx_10_9_x86_64.whl (17 kB)\n",
      "Collecting pyobjc-core>=9.1.1\n",
      "  Downloading pyobjc_core-9.1.1-cp39-cp39-macosx_10_9_universal2.whl (735 kB)\n",
      "\u001b[K     |████████████████████████████████| 735 kB 13.4 MB/s eta 0:00:01\n",
      "\u001b[?25hCollecting pyobjc-framework-Cocoa>=9.1.1\n",
      "  Downloading pyobjc_framework_Cocoa-9.1.1-cp39-cp39-macosx_10_9_universal2.whl (390 kB)\n",
      "\u001b[K     |████████████████████████████████| 390 kB 12.1 MB/s eta 0:00:01\n",
      "\u001b[?25hRequirement already satisfied: idna<4,>=2.5 in /opt/anaconda3/lib/python3.9/site-packages (from requests->localpip) (3.2)\n",
      "Requirement already satisfied: charset-normalizer~=2.0.0 in /opt/anaconda3/lib/python3.9/site-packages (from requests->localpip) (2.0.4)\n",
      "Requirement already satisfied: urllib3<1.27,>=1.21.1 in /opt/anaconda3/lib/python3.9/site-packages (from requests->localpip) (1.26.7)\n",
      "Requirement already satisfied: certifi>=2017.4.17 in /opt/anaconda3/lib/python3.9/site-packages (from requests->localpip) (2021.10.8)\n",
      "Requirement already satisfied: filelock>=3.0.8 in /opt/anaconda3/lib/python3.9/site-packages (from tldextract>=2.2.3->pypac->localpip) (3.11.0)\n",
      "Collecting requests-file>=1.4\n",
      "  Downloading requests_file-1.5.1-py2.py3-none-any.whl (3.7 kB)\n",
      "Requirement already satisfied: six in /opt/anaconda3/lib/python3.9/site-packages (from requests-file>=1.4->tldextract>=2.2.3->pypac->localpip) (1.16.0)\n",
      "Building wheels for collected packages: bs4\n",
      "  Building wheel for bs4 (setup.py) ... \u001b[?25ldone\n",
      "\u001b[?25h  Created wheel for bs4: filename=bs4-0.0.1-py3-none-any.whl size=1271 sha256=d490178c0dd0ababbb80111db4f3874b7baf2bf52473bc2cf4a2da125a2afd89\n",
      "  Stored in directory: /Users/weihaochen/Library/Caches/pip/wheels/73/2b/cb/099980278a0c9a3e57ff1a89875ec07bfa0b6fcbebb9a8cad3\n",
      "Successfully built bs4\n",
      "Installing collected packages: pyobjc-core, requests-file, pyobjc-framework-Cocoa, tldextract, pyobjc-framework-SystemConfiguration, dukpy, pypac, bs4, localpip\n",
      "Successfully installed bs4-0.0.1 dukpy-0.3.0 localpip-1.0.7 pyobjc-core-9.1.1 pyobjc-framework-Cocoa-9.1.1 pyobjc-framework-SystemConfiguration-9.1.1 pypac-0.16.3 requests-file-1.5.1 tldextract-3.4.0\n",
      "Traceback (most recent call last):\n",
      "  File \"/opt/anaconda3/bin/localpip\", line 5, in <module>\n",
      "    from localpip.__main__ import main\n",
      "  File \"/opt/anaconda3/lib/python3.9/site-packages/localpip/__main__.py\", line 5, in <module>\n",
      "    from ctypes import Structure, byref, windll\n",
      "ImportError: cannot import name 'windll' from 'ctypes' (/opt/anaconda3/lib/python3.9/ctypes/__init__.py)\n"
     ]
    }
   ],
   "source": [
    "get_ipython().system('pip install localpip')\n",
    "get_ipython().system('localpip install neuralprophet')"
   ]
  }
 ],
 "metadata": {
  "jupytext": {
   "cell_metadata_filter": "-all",
   "main_language": "python",
   "notebook_metadata_filter": "-all"
  },
  "kernelspec": {
   "display_name": "base",
   "language": "python",
   "name": "python3"
  },
  "language_info": {
   "codemirror_mode": {
    "name": "ipython",
    "version": 3
   },
   "file_extension": ".py",
   "mimetype": "text/x-python",
   "name": "python",
   "nbconvert_exporter": "python",
   "pygments_lexer": "ipython3",
   "version": "3.9.7"
  }
 },
 "nbformat": 4,
 "nbformat_minor": 5
}
