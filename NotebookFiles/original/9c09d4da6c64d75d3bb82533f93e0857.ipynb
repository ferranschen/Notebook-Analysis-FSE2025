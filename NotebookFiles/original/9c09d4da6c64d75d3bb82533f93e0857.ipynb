{
 "cells": [
  {
   "cell_type": "markdown",
   "id": "cbe71357",
   "metadata": {},
   "source": [
    "load data\n",
    "CONFIGURE THE BIGQUERY SETTINGS"
   ]
  },
  {
   "cell_type": "code",
   "execution_count": null,
   "id": "e77d84e6",
   "metadata": {},
   "outputs": [],
   "source": [
    "BIGQUERY_PROJECT = 'ironhacks-data'\n",
    "bigquery_client = bigquery.Client(project=BIGQUERY_PROJECT)"
   ]
  },
  {
   "cell_type": "code",
   "execution_count": null,
   "id": "7b7b888b",
   "metadata": {},
   "outputs": [],
   "source": [
    "#Unemployment Data\n",
    "query = \"\"\"\n",
    "SELECT *\n",
    "FROM `ironhacks-data.ironhacks_competition.unemployment_data`\n",
    "\"\"\""
   ]
  },
  {
   "cell_type": "code",
   "execution_count": null,
   "id": "0e9f0711",
   "metadata": {},
   "outputs": [],
   "source": [
    "# QUERY THE DATA ONCE\n",
    "query_job = bigquery_client.query(query)\n",
    "unemployment_data = query_job.to_dataframe()"
   ]
  },
  {
   "cell_type": "code",
   "execution_count": null,
   "id": "357e2f21",
   "metadata": {},
   "outputs": [],
   "source": [
    "# Wage Data\n",
    "query = \"\"\"\n",
    "SELECT *\n",
    "FROM `ironhacks-data.ironhacks_competition.wage_data`\n",
    "\"\"\""
   ]
  },
  {
   "cell_type": "code",
   "execution_count": null,
   "id": "33b1714a",
   "metadata": {},
   "outputs": [],
   "source": [
    "# QUERY THE DATA ONCE\n",
    "query_job = bigquery_client.query(query)\n",
    "wage_data = query_job.to_dataframe()"
   ]
  },
  {
   "cell_type": "code",
   "execution_count": null,
   "id": "927dfaf1",
   "metadata": {},
   "outputs": [],
   "source": [
    "# Prediction Data\n",
    "query = \"\"\"\n",
    "SELECT *\n",
    "FROM `ironhacks-data.ironhacks_competition.prediction_list`\n",
    "\"\"\""
   ]
  },
  {
   "cell_type": "code",
   "execution_count": null,
   "id": "d6c1ea0b",
   "metadata": {},
   "outputs": [],
   "source": [
    "# QUERY THE DATA ONCE\n",
    "query_job = bigquery_client.query(query)\n",
    "prediction_data = query_job.to_dataframe()"
   ]
  },
  {
   "cell_type": "code",
   "execution_count": null,
   "id": "0eb1a8ce",
   "metadata": {},
   "outputs": [],
   "source": [
    "get_ipython().run_cell_magic('capture', '', \"%logstop\\n%logstart -t -r -q ipython_command_log.py global\\n\\n#- IRONHACKS RESEARCH TRACKING CODE\\n#----------------------------------\\n# The following code is used to help our research team understand how use \\n# our notebook environment. We do not collect any personal information with\\n# the following code, it is used to measure when and how often you work on\\n# your submission files.\\n\\nimport os\\nfrom datetime import datetime\\nimport IPython.core.history as history\\n\\nha = history.HistoryAccessor()\\nha_tail = ha.get_tail(1)\\nha_cmd = next(ha_tail)\\nsession_id = str(ha_cmd[0])\\ncommand_id = str(ha_cmd[1])\\ntimestamp = datetime.utcnow().isoformat()\\nhistory_line = ','.join([session_id, command_id, timestamp]) + '\\\\n'\\nlogfile = open(os.environ['HOME']+'/ipython_session_log.csv', 'a')\\nlogfile.write(history_line)\\nlogfile.close()\\n\")"
   ]
  },
  {
   "cell_type": "code",
   "execution_count": null,
   "id": "f369d587",
   "metadata": {},
   "outputs": [],
   "source": [
    "get_ipython().run_cell_magic('capture', '', \"\\n#- INSTALL ADDITIONAL LIBRARIES IF REQUIRED\\n#------------------------------------------\\n# This is normally not required. The hub environment comes preinstaled with \\n# many packages that you can already use without setup. In case there is some\\n# other library you would like to use that isn't on the list you run this command\\n# once to install them.  If it is already installed this command has no effect.\\n\\n!python3 -m pip install pandas\\n\")"
   ]
  },
  {
   "cell_type": "markdown",
   "id": "efbedc64",
   "metadata": {},
   "source": [
    "- IMPORT THE LIBRARIES YOU WILL USE\n",
    "------------------------------------------\n",
    "You only need to import packages one time per notebook session. To keep your\n",
    "notebook clean and organized you can handle all imports at the top of your file.\n",
    "The following are included for example purposed, feel free to modify or delete \n",
    "anything in this section."
   ]
  },
  {
   "cell_type": "code",
   "execution_count": null,
   "id": "9f96d4af",
   "metadata": {
    "lines_to_next_cell": 1
   },
   "outputs": [],
   "source": [
    "import csv\n",
    "import pandas as pd\n",
    "import numpy as np\n",
    "import seaborn as sns\n",
    "from google.cloud import bigquery\n",
    "from google.oauth2 import service_account\n",
    "from google.cloud.bigquery import magics"
   ]
  },
  {
   "cell_type": "markdown",
   "id": "385ecf51",
   "metadata": {},
   "source": [
    "- DEFINE YOUR CLASSES AND FUNCTIONS \n",
    "-----------------------------------\n",
    "This is not required, but is helpful in keeping your notebook organized. \n",
    "You can use the following cell or several cells to define your functions\n",
    "and classes to keep them separate from your analysis or results code.\n",
    "In general it useful to define your methods in a separate cell from where\n",
    "it is run."
   ]
  },
  {
   "cell_type": "code",
   "execution_count": null,
   "id": "c500db0b",
   "metadata": {
    "lines_to_next_cell": 1
   },
   "outputs": [],
   "source": [
    "def createSubmission():\n",
    "    return"
   ]
  },
  {
   "cell_type": "code",
   "execution_count": null,
   "id": "1508ba23",
   "metadata": {},
   "outputs": [],
   "source": [
    "get_ipython().run_line_magic('pip', 'install db-dtypes')"
   ]
  },
  {
   "cell_type": "markdown",
   "id": "13fefa73",
   "metadata": {},
   "source": [
    "load data\n",
    "CONFIGURE THE BIGQUERY SETTINGS"
   ]
  },
  {
   "cell_type": "code",
   "execution_count": null,
   "id": "21080b30",
   "metadata": {},
   "outputs": [],
   "source": [
    "BIGQUERY_PROJECT = 'ironhacks-data'\n",
    "bigquery_client = bigquery.Client(project=BIGQUERY_PROJECT)"
   ]
  },
  {
   "cell_type": "code",
   "execution_count": null,
   "id": "41dc59b5",
   "metadata": {},
   "outputs": [],
   "source": [
    "#Unemployment Data\n",
    "query = \"\"\"\n",
    "SELECT *\n",
    "FROM `ironhacks-data.ironhacks_competition.unemployment_data`\n",
    "\"\"\""
   ]
  },
  {
   "cell_type": "code",
   "execution_count": null,
   "id": "035c3213",
   "metadata": {},
   "outputs": [],
   "source": [
    "# QUERY THE DATA ONCE\n",
    "query_job = bigquery_client.query(query)\n",
    "unemployment_data = query_job.to_dataframe()"
   ]
  },
  {
   "cell_type": "code",
   "execution_count": null,
   "id": "d3b93869",
   "metadata": {},
   "outputs": [],
   "source": [
    "# Wage Data\n",
    "query = \"\"\"\n",
    "SELECT *\n",
    "FROM `ironhacks-data.ironhacks_competition.wage_data`\n",
    "\"\"\""
   ]
  },
  {
   "cell_type": "code",
   "execution_count": null,
   "id": "26b04659",
   "metadata": {},
   "outputs": [],
   "source": [
    "# QUERY THE DATA ONCE\n",
    "query_job = bigquery_client.query(query)\n",
    "wage_data = query_job.to_dataframe()"
   ]
  },
  {
   "cell_type": "code",
   "execution_count": null,
   "id": "d5d7f7be",
   "metadata": {},
   "outputs": [],
   "source": [
    "# Prediction Data\n",
    "query = \"\"\"\n",
    "SELECT *\n",
    "FROM `ironhacks-data.ironhacks_competition.prediction_list`\n",
    "\"\"\""
   ]
  },
  {
   "cell_type": "code",
   "execution_count": null,
   "id": "a58a3bda",
   "metadata": {},
   "outputs": [],
   "source": [
    "# QUERY THE DATA ONCE\n",
    "query_job = bigquery_client.query(query)\n",
    "prediction_data = query_job.to_dataframe()"
   ]
  },
  {
   "cell_type": "code",
   "execution_count": null,
   "id": "645abfe2",
   "metadata": {},
   "outputs": [],
   "source": [
    "wage_data"
   ]
  },
  {
   "cell_type": "code",
   "execution_count": null,
   "id": "695da645",
   "metadata": {},
   "outputs": [],
   "source": [
    "unemployment_data"
   ]
  },
  {
   "cell_type": "code",
   "execution_count": null,
   "id": "37613b90",
   "metadata": {},
   "outputs": [],
   "source": [
    "prediction_data"
   ]
  },
  {
   "cell_type": "markdown",
   "id": "a3cad9c7",
   "metadata": {},
   "source": [
    "- IMPORT THE LIBRARIES YOU WILL USE\n",
    "------------------------------------------\n",
    "You only need to import packages one time per notebook session. To keep your\n",
    "notebook clean and organized you can handle all imports at the top of your file.\n",
    "The following are included for example purposed, feel free to modify or delete \n",
    "anything in this section."
   ]
  },
  {
   "cell_type": "code",
   "execution_count": null,
   "id": "2cc46231",
   "metadata": {},
   "outputs": [],
   "source": [
    "import csv\n",
    "import pandas as pd\n",
    "import numpy as np\n",
    "import seaborn as sns\n",
    "import plotly.express as px\n",
    "from google.cloud import bigquery\n",
    "from google.oauth2 import service_account\n",
    "from google.cloud.bigquery import magics"
   ]
  },
  {
   "cell_type": "code",
   "execution_count": null,
   "id": "290d4bf5",
   "metadata": {},
   "outputs": [],
   "source": [
    "pip install db-dtypes\n",
    "pip install plotly"
   ]
  },
  {
   "cell_type": "code",
   "execution_count": null,
   "id": "a85dbacb",
   "metadata": {},
   "outputs": [],
   "source": [
    "get_ipython().run_line_magic('pip', 'install plotly')"
   ]
  },
  {
   "cell_type": "markdown",
   "id": "99fd1b33",
   "metadata": {},
   "source": [
    "- IMPORT THE LIBRARIES YOU WILL USE\n",
    "------------------------------------------\n",
    "You only need to import packages one time per notebook session. To keep your\n",
    "notebook clean and organized you can handle all imports at the top of your file.\n",
    "The following are included for example purposed, feel free to modify or delete \n",
    "anything in this section."
   ]
  },
  {
   "cell_type": "code",
   "execution_count": null,
   "id": "fa7a2ca3",
   "metadata": {},
   "outputs": [],
   "source": [
    "import csv\n",
    "import pandas as pd\n",
    "import numpy as np\n",
    "import seaborn as sns\n",
    "import plotly.express as px\n",
    "from google.cloud import bigquery\n",
    "from google.oauth2 import service_account\n",
    "from google.cloud.bigquery import magics"
   ]
  },
  {
   "cell_type": "markdown",
   "id": "de6e41a7",
   "metadata": {},
   "source": [
    "load data\n",
    "CONFIGURE THE BIGQUERY SETTINGS"
   ]
  },
  {
   "cell_type": "code",
   "execution_count": null,
   "id": "bc543069",
   "metadata": {},
   "outputs": [],
   "source": [
    "BIGQUERY_PROJECT = 'ironhacks-data'\n",
    "bigquery_client = bigquery.Client(project=BIGQUERY_PROJECT)"
   ]
  },
  {
   "cell_type": "code",
   "execution_count": null,
   "id": "def5783f",
   "metadata": {},
   "outputs": [],
   "source": [
    "#Unemployment Data\n",
    "query = \"\"\"\n",
    "SELECT *\n",
    "FROM `ironhacks-data.ironhacks_competition.unemployment_data`\n",
    "\"\"\"\n",
    "unemployment_data = querydb(query)"
   ]
  },
  {
   "cell_type": "code",
   "execution_count": null,
   "id": "ed0af92a",
   "metadata": {},
   "outputs": [],
   "source": [
    "# Wage Data\n",
    "query = \"\"\"\n",
    "SELECT *\n",
    "FROM `ironhacks-data.ironhacks_competition.wage_data`\n",
    "\"\"\"\n",
    "wage_data = querydb(query)"
   ]
  },
  {
   "cell_type": "code",
   "execution_count": null,
   "id": "4e39944b",
   "metadata": {
    "lines_to_next_cell": 1
   },
   "outputs": [],
   "source": [
    "# Prediction Data\n",
    "query = \"\"\"\n",
    "SELECT *\n",
    "FROM `ironhacks-data.ironhacks_competition.prediction_list`\n",
    "\"\"\"\n",
    "prediction_data = querydb(query)"
   ]
  },
  {
   "cell_type": "markdown",
   "id": "41d7c8c2",
   "metadata": {},
   "source": [
    "- DEFINE YOUR CLASSES AND FUNCTIONS \n",
    "-----------------------------------\n",
    "This is not required, but is helpful in keeping your notebook organized. \n",
    "You can use the following cell or several cells to define your functions\n",
    "and classes to keep them separate from your analysis or results code.\n",
    "In general it useful to define your methods in a separate cell from where\n",
    "it is run."
   ]
  },
  {
   "cell_type": "code",
   "execution_count": null,
   "id": "650b609b",
   "metadata": {
    "lines_to_next_cell": 1
   },
   "outputs": [],
   "source": [
    "def querydb(request):\n",
    "    query_job = bigquery_client.query(request)\n",
    "    data = query_job.to_dataframe()\n",
    "    return data"
   ]
  },
  {
   "cell_type": "code",
   "execution_count": null,
   "id": "d877704e",
   "metadata": {
    "lines_to_next_cell": 1
   },
   "outputs": [],
   "source": [
    "def createSubmission():\n",
    "    return"
   ]
  },
  {
   "cell_type": "markdown",
   "id": "bb3905a7",
   "metadata": {},
   "source": [
    "load data\n",
    "CONFIGURE THE BIGQUERY SETTINGS"
   ]
  },
  {
   "cell_type": "code",
   "execution_count": null,
   "id": "af6c4cf9",
   "metadata": {},
   "outputs": [],
   "source": [
    "BIGQUERY_PROJECT = 'ironhacks-data'\n",
    "bigquery_client = bigquery.Client(project=BIGQUERY_PROJECT)"
   ]
  },
  {
   "cell_type": "code",
   "execution_count": null,
   "id": "f51b4636",
   "metadata": {},
   "outputs": [],
   "source": [
    "#Unemployment Data\n",
    "query = \"\"\"\n",
    "SELECT *\n",
    "FROM `ironhacks-data.ironhacks_competition.unemployment_data`\n",
    "\"\"\"\n",
    "unemployment_data = querydb(query)"
   ]
  },
  {
   "cell_type": "code",
   "execution_count": null,
   "id": "87fdc0b3",
   "metadata": {},
   "outputs": [],
   "source": [
    "# Wage Data\n",
    "query = \"\"\"\n",
    "SELECT *\n",
    "FROM `ironhacks-data.ironhacks_competition.wage_data`\n",
    "\"\"\"\n",
    "wage_data = querydb(query)"
   ]
  },
  {
   "cell_type": "code",
   "execution_count": null,
   "id": "fc1e2f92",
   "metadata": {},
   "outputs": [],
   "source": [
    "# Prediction Data\n",
    "query = \"\"\"\n",
    "SELECT *\n",
    "FROM `ironhacks-data.ironhacks_competition.prediction_list`\n",
    "\"\"\"\n",
    "prediction_data = querydb(query)"
   ]
  },
  {
   "cell_type": "code",
   "execution_count": null,
   "id": "d91dbb3f",
   "metadata": {},
   "outputs": [],
   "source": [
    "querydb(\"\"\"SELECT * \n",
    "FROM `ironhacks-data.ironhacks_competition.INFORMATION_SCHEMA.TABLES`\"\"\")"
   ]
  },
  {
   "cell_type": "code",
   "execution_count": null,
   "id": "efed989e",
   "metadata": {},
   "outputs": [],
   "source": [
    "prediction_data[uu_id = \"bbcb018f0e5e49e13636f6e78ce9f60f\"]"
   ]
  },
  {
   "cell_type": "code",
   "execution_count": null,
   "id": "417c64ea",
   "metadata": {},
   "outputs": [],
   "source": [
    "prediction_data[uu_id == \"bbcb018f0e5e49e13636f6e78ce9f60f\"]"
   ]
  },
  {
   "cell_type": "code",
   "execution_count": null,
   "id": "28f090a8",
   "metadata": {},
   "outputs": [],
   "source": [
    "prediction_data[]"
   ]
  },
  {
   "cell_type": "code",
   "execution_count": null,
   "id": "bfb9b935",
   "metadata": {},
   "outputs": [],
   "source": [
    "prediction_data"
   ]
  },
  {
   "cell_type": "code",
   "execution_count": null,
   "id": "6d000a93",
   "metadata": {},
   "outputs": [],
   "source": [
    "prediction_data.columns"
   ]
  },
  {
   "cell_type": "code",
   "execution_count": null,
   "id": "4eabdd5d",
   "metadata": {},
   "outputs": [],
   "source": [
    "df_pred = prediction_data"
   ]
  },
  {
   "cell_type": "code",
   "execution_count": null,
   "id": "e2409d15",
   "metadata": {},
   "outputs": [],
   "source": [
    "df_pred.where(prediction_data)"
   ]
  },
  {
   "cell_type": "markdown",
   "id": "926bb5f7",
   "metadata": {},
   "source": [
    "# uu_id = \n",
    "# countyflips =\n",
    "# tract = \n",
    "# tract_name = \n",
    "# average_wage = "
   ]
  },
  {
   "cell_type": "code",
   "execution_count": null,
   "id": "3061abb8",
   "metadata": {},
   "outputs": [],
   "source": [
    "df_wage = wage_data"
   ]
  },
  {
   "cell_type": "code",
   "execution_count": null,
   "id": "cbd80291",
   "metadata": {},
   "outputs": [],
   "source": [
    "#should add another column called previous week claims, this would probably be a good predictor for the next week of claims\n",
    "df_un = unemployment_data"
   ]
  },
  {
   "cell_type": "code",
   "execution_count": null,
   "id": "f497a1bd",
   "metadata": {},
   "outputs": [],
   "source": [
    "df_pred = prediction_data"
   ]
  },
  {
   "cell_type": "code",
   "execution_count": null,
   "id": "9116b9e9",
   "metadata": {},
   "outputs": [],
   "source": [
    "df_pred.where(df_pred[\"uu_id\"] == \"bbcb018f0e5e49e13636f6e78ce9f60f\")"
   ]
  },
  {
   "cell_type": "code",
   "execution_count": null,
   "id": "f720ae95",
   "metadata": {},
   "outputs": [],
   "source": [
    "df_pred[\"uu_id\"].where(df_pred[\"uu_id\"] == \"bbcb018f0e5e49e13636f6e78ce9f60f\")"
   ]
  },
  {
   "cell_type": "code",
   "execution_count": null,
   "id": "e1fbfde1",
   "metadata": {},
   "outputs": [],
   "source": [
    "df_pred[\"uu_id\"].where(df_pred[\"uu_id\"] == \"bbcb018f0e5e49e13636f6e78ce9f60f\").dropna()"
   ]
  },
  {
   "cell_type": "code",
   "execution_count": null,
   "id": "36b3e26c",
   "metadata": {},
   "outputs": [],
   "source": [
    "get_ipython().run_line_magic('pip', 'install db-dtypes')"
   ]
  },
  {
   "cell_type": "code",
   "execution_count": null,
   "id": "4df3d482",
   "metadata": {},
   "outputs": [],
   "source": [
    "df_un[\"uu_id\"].where(df_pred[\"uu_id\"] == \"bbcb018f0e5e49e13636f6e78ce9f60f\").dropna()"
   ]
  },
  {
   "cell_type": "code",
   "execution_count": null,
   "id": "1010cfd8",
   "metadata": {},
   "outputs": [],
   "source": [
    "df_un[\"uu_id\"].where(df_un[\"uu_id\"] == \"bbcb018f0e5e49e13636f6e78ce9f60f\").dropna()"
   ]
  },
  {
   "cell_type": "code",
   "execution_count": null,
   "id": "829e8f0c",
   "metadata": {},
   "outputs": [],
   "source": [
    "df_un.where(df_un[\"uu_id\"] == \"bbcb018f0e5e49e13636f6e78ce9f60f\").dropna()"
   ]
  },
  {
   "cell_type": "code",
   "execution_count": null,
   "id": "ece1c336",
   "metadata": {},
   "outputs": [],
   "source": [
    "df_un[\"uu_id\"].where(df_un[\"uu_id\"] == \"bbcb018f0e5e49e13636f6e78ce9f60f\").dropna()"
   ]
  },
  {
   "cell_type": "code",
   "execution_count": null,
   "id": "80eedc17",
   "metadata": {},
   "outputs": [],
   "source": [
    "df_un[\"uu_id\" == \"bbcb018f0e5e49e13636f6e78ce9f60f\"]).dropna()"
   ]
  },
  {
   "cell_type": "code",
   "execution_count": null,
   "id": "05c7bb0e",
   "metadata": {},
   "outputs": [],
   "source": [
    "df_un[\"uu_id\" == \"bbcb018f0e5e49e13636f6e78ce9f60f\"]"
   ]
  },
  {
   "cell_type": "code",
   "execution_count": null,
   "id": "7df61674",
   "metadata": {},
   "outputs": [],
   "source": [
    "df[df_un[\"uu_id\"] = \"bbcb018f0e5e49e13636f6e78ce9f60f\"]]"
   ]
  },
  {
   "cell_type": "code",
   "execution_count": null,
   "id": "2e3364b1",
   "metadata": {},
   "outputs": [],
   "source": [
    "df[df_un[\"uu_id\"] = \"bbcb018f0e5e49e13636f6e78ce9f60f\"]"
   ]
  },
  {
   "cell_type": "code",
   "execution_count": null,
   "id": "8e6041b9",
   "metadata": {},
   "outputs": [],
   "source": [
    "df[df_un[\"uu_id\"] == \"bbcb018f0e5e49e13636f6e78ce9f60f\"]"
   ]
  },
  {
   "cell_type": "code",
   "execution_count": null,
   "id": "ace4dc53",
   "metadata": {},
   "outputs": [],
   "source": [
    "df_un[df_un[\"uu_id\"] == \"bbcb018f0e5e49e13636f6e78ce9f60f\"]"
   ]
  },
  {
   "cell_type": "code",
   "execution_count": null,
   "id": "07b4374f",
   "metadata": {},
   "outputs": [],
   "source": [
    "df_un[df_un[\"uu_id\"] == \"bbcb018f0e5e49e13636f6e78ce9f60f\"].sortby(\"week_number\")"
   ]
  },
  {
   "cell_type": "code",
   "execution_count": null,
   "id": "4b92bfc4",
   "metadata": {},
   "outputs": [],
   "source": [
    "df_un[df_un[\"uu_id\"] == \"bbcb018f0e5e49e13636f6e78ce9f60f\"].sort(by = \"week_number\")"
   ]
  },
  {
   "cell_type": "code",
   "execution_count": null,
   "id": "0b76d1cc",
   "metadata": {},
   "outputs": [],
   "source": [
    "df_un[df_un[\"uu_id\"] == \"bbcb018f0e5e49e13636f6e78ce9f60f\"].sort_values(by = [\"week_number\"])"
   ]
  },
  {
   "cell_type": "code",
   "execution_count": null,
   "id": "4080b87d",
   "metadata": {},
   "outputs": [],
   "source": [
    "df_un[df_un[\"uu_id\"] == \"bbcb018f0e5e49e13636f6e78ce9f60f\"].sort_values(by = [\"week_number\"]).drop_duplicates()"
   ]
  },
  {
   "cell_type": "code",
   "execution_count": null,
   "id": "81e31256",
   "metadata": {},
   "outputs": [],
   "source": [
    "## This can also be a good place for you to cleanup any input/output and export your results to a file.\n",
    "## might just do a niave approach and declare the average as the value for each\n",
    "## pull all values as a dictionary with uu_id as the key and average as the value\n",
    "# df_un[df_un[\"uu_id\"] == \"bbcb018f0e5e49e13636f6e78ce9f60f\"].sort_values(by = [\"week_number\"]).drop_duplicates()\n",
    "for i in df_pred[\"uu_id\"]:\n",
    "    print(i)"
   ]
  },
  {
   "cell_type": "code",
   "execution_count": null,
   "id": "8e752266",
   "metadata": {},
   "outputs": [],
   "source": [
    "## This can also be a good place for you to cleanup any input/output and export your results to a file.\n",
    "## might just do a niave approach and declare the average as the value for each\n",
    "## pull all values as a dictionary with uu_id as the key and average as the value\n",
    "# df_un[df_un[\"uu_id\"] == \"bbcb018f0e5e49e13636f6e78ce9f60f\"].sort_values(by = [\"week_number\"]).drop_duplicates()\n",
    "for i, j in enumerate(df_pred[\"uu_id\"]):\n",
    "    print(i, j)"
   ]
  },
  {
   "cell_type": "code",
   "execution_count": null,
   "id": "3c6f44b6",
   "metadata": {},
   "outputs": [],
   "source": [
    "## This can also be a good place for you to cleanup any input/output and export your results to a file.\n",
    "## might just do a niave approach and declare the average as the value for each\n",
    "## pull all values as a dictionary with uu_id as the key and average as the value\n",
    "# df_un[df_un[\"uu_id\"] == \"bbcb018f0e5e49e13636f6e78ce9f60f\"].sort_values(by = [\"week_number\"]).drop_duplicates()\n",
    "prediction_dict = {}\n",
    "for i, tract in enumerate(df_pred[\"uu_id\"]):\n",
    "    df_working = df_un[df_un[\"uu_id\"] == tract].sort_values(by = [\"week_number\"]).drop_duplicates()\n",
    "    mean = df_working[\"total_claims\"].mean()\n",
    "    prediction_dict[tract] = mean"
   ]
  },
  {
   "cell_type": "markdown",
   "id": "b4c0c32f",
   "metadata": {},
   "source": [
    "- IMPORT THE LIBRARIES YOU WILL USE\n",
    "------------------------------------------\n",
    "You only need to import packages one time per notebook session. To keep your\n",
    "notebook clean and organized you can handle all imports at the top of your file.\n",
    "The following are included for example purposed, feel free to modify or delete \n",
    "anything in this section."
   ]
  },
  {
   "cell_type": "code",
   "execution_count": null,
   "id": "09d69778",
   "metadata": {},
   "outputs": [],
   "source": [
    "import csv\n",
    "import pandas as pd\n",
    "import numpy as np\n",
    "import seaborn as sns\n",
    "import plotly.express as px\n",
    "import csv"
   ]
  },
  {
   "cell_type": "code",
   "execution_count": null,
   "id": "319a277d",
   "metadata": {},
   "outputs": [],
   "source": [
    "from google.cloud import bigquery\n",
    "from google.oauth2 import service_account\n",
    "from google.cloud.bigquery import magics"
   ]
  },
  {
   "cell_type": "code",
   "execution_count": null,
   "id": "2dfc15b7",
   "metadata": {},
   "outputs": [],
   "source": [
    "header = [\"uu_id\",\"total_claims\",\"week_number\"]\n",
    "week = 38\n",
    "fname = \"Bohlin_Week\" + str(week)+ \".csv\"\n",
    "with open(fname, 'w', encoding = \"UTF8\", newline=\"\") as f:\n",
    "    writer = csv.writer(f)\n",
    "    writer.writerow(header)\n",
    "    for k, v in predition_dict:\n",
    "        writer.writerow(k, v, week) "
   ]
  },
  {
   "cell_type": "markdown",
   "id": "6c0c3b9f",
   "metadata": {},
   "source": [
    "# This can also be a good place for you to cleanup any input/output and export your results to a file.\n",
    "# might just do a niave approach and declare the average as the value for each\n",
    "# pull all values as a dictionary with uu_id as the key and average as the value\n",
    "df_un[df_un[\"uu_id\"] == \"bbcb018f0e5e49e13636f6e78ce9f60f\"].sort_values(by = [\"week_number\"]).drop_duplicates()"
   ]
  },
  {
   "cell_type": "code",
   "execution_count": null,
   "id": "f96b362d",
   "metadata": {},
   "outputs": [],
   "source": [
    "prediction_dict = {}\n",
    "for i, tract in enumerate(df_pred[\"uu_id\"]):\n",
    "    df_working = df_un[df_un[\"uu_id\"] == tract].sort_values(by = [\"week_number\"]).drop_duplicates()\n",
    "    mean = df_working[\"total_claims\"].mean()\n",
    "    prediction_dict[tract] = mean"
   ]
  },
  {
   "cell_type": "code",
   "execution_count": null,
   "id": "6ec61678",
   "metadata": {},
   "outputs": [],
   "source": [
    "header = [\"uu_id\",\"total_claims\",\"week_number\"]\n",
    "week = 38\n",
    "fname = \"Bohlin_Week\" + str(week)+ \".csv\"\n",
    "with open(fname, 'w', encoding = \"UTF8\", newline=\"\") as f:\n",
    "    writer = csv.writer(f)\n",
    "    writer.writerow(header)\n",
    "    for k, v in predition_dict:\n",
    "        writer.writerow(k, v, week) "
   ]
  },
  {
   "cell_type": "code",
   "execution_count": null,
   "id": "6f5d1383",
   "metadata": {},
   "outputs": [],
   "source": [
    "header = [\"uu_id\",\"total_claims\",\"week_number\"]\n",
    "week = 38\n",
    "fname = \"Bohlin_Week\" + str(week)+ \".csv\"\n",
    "with open(fname, 'w', encoding = \"UTF8\", newline=\"\") as f:\n",
    "    writer = csv.writer(f)\n",
    "    writer.writerow(header)\n",
    "    for k, v in prediction_dict:\n",
    "        writer.writerow(k, v, week) "
   ]
  },
  {
   "cell_type": "code",
   "execution_count": null,
   "id": "ec684736",
   "metadata": {},
   "outputs": [],
   "source": [
    "for i in prediction_dict:\n",
    "    print(i)"
   ]
  },
  {
   "cell_type": "code",
   "execution_count": null,
   "id": "0a42640d",
   "metadata": {},
   "outputs": [],
   "source": [
    "header = [\"uu_id\",\"total_claims\",\"week_number\"]\n",
    "week = 38\n",
    "fname = \"Bohlin_Week\" + str(week)+ \".csv\"\n",
    "with open(fname, 'w', encoding = \"UTF8\", newline=\"\") as f:\n",
    "    writer = csv.writer(f)\n",
    "    writer.writerow(header)\n",
    "    for k, v in prediction_dict.items():\n",
    "        writer.writerow(k, v, week) "
   ]
  },
  {
   "cell_type": "code",
   "execution_count": null,
   "id": "e75aad68",
   "metadata": {},
   "outputs": [],
   "source": [
    "header = [\"uu_id\",\"total_claims\",\"week_number\"]\n",
    "week = 38\n",
    "fname = \"Bohlin_Week\" + str(week)+ \".csv\"\n",
    "with open(fname, 'w', encoding = \"UTF8\", newline=\"\") as f:\n",
    "    writer = csv.writer(f)\n",
    "    writer.writerow(header)\n",
    "    for k, v in prediction_dict.items():\n",
    "        writer.writerow([k, v, week]) "
   ]
  },
  {
   "cell_type": "code",
   "execution_count": null,
   "id": "a130c9c7",
   "metadata": {},
   "outputs": [],
   "source": [
    "df_pred[\"uu_id\"]"
   ]
  },
  {
   "cell_type": "code",
   "execution_count": null,
   "id": "252068f3",
   "metadata": {
    "lines_to_next_cell": 2
   },
   "outputs": [],
   "source": [
    "header = [\"uu_id\",\"total_claims\",\"week_number\"]\n",
    "week = 38\n",
    "fname = \"submission_prediction_output.csv\"\n",
    "with open(fname, 'w', encoding = \"UTF8\", newline=\"\") as f:\n",
    "    writer = csv.writer(f)\n",
    "    writer.writerow(header)\n",
    "    for k, v in prediction_dict.items():\n",
    "        writer.writerow([k, v, week]) "
   ]
  }
 ],
 "metadata": {
  "jupytext": {
   "cell_metadata_filter": "-all",
   "main_language": "python",
   "notebook_metadata_filter": "-all"
  }
 },
 "nbformat": 4,
 "nbformat_minor": 5
}
