{
 "cells": [
  {
   "cell_type": "code",
   "execution_count": null,
   "id": "a27f33f7",
   "metadata": {},
   "outputs": [],
   "source": [
    "get_ipython().run_cell_magic('capture', '', \"%logstop\\n%logstart -t -r -q ipython_command_log.py global\\n#- IRONHACKS RESEARCH TRACKING CODE\\n#----------------------------------\\n# The following code is used to help our research team understand how you \\n# our notebook environment. We do not collect any personal information with\\n# the following code, it is used to measure when and how often you work on\\n# your submission files.\\nimport os\\nfrom datetime import datetime\\nimport IPython.core.history as history\\nha = history.HistoryAccessor()\\nha_tail = ha.get_tail(1)\\nha_cmd = next(ha_tail)\\nsession_id = str(ha_cmd[0])\\ncommand_id = str(ha_cmd[1])\\ntimestamp = datetime.utcnow().isoformat()\\nhistory_line = ','.join([session_id, command_id, timestamp]) + '\\\\n'\\nlogfile = open(os.environ['HOME']+'/ipython_session_log.csv', 'a')\\nlogfile.write(history_line)\\nlogfile.close()\\n\")"
   ]
  },
  {
   "cell_type": "code",
   "execution_count": null,
   "id": "ce516930",
   "metadata": {},
   "outputs": [],
   "source": [
    "get_ipython().run_cell_magic('capture', '--no-display', '!pip3 install db-dtypes\\n')"
   ]
  },
  {
   "cell_type": "code",
   "execution_count": null,
   "id": "34d58d2b",
   "metadata": {},
   "outputs": [],
   "source": [
    "import os\n",
    "import pandas as pd\n",
    "import numpy as np\n",
    "import matplotlib.pyplot as plt\n",
    "import warnings\n",
    "warnings.filterwarnings('ignore')"
   ]
  },
  {
   "cell_type": "code",
   "execution_count": null,
   "id": "d116941d",
   "metadata": {},
   "outputs": [],
   "source": [
    "from google.cloud import bigquery\n",
    "from google.oauth2 import service_account\n",
    "from google.cloud.bigquery import magics"
   ]
  },
  {
   "cell_type": "code",
   "execution_count": null,
   "id": "f9fecb5d",
   "metadata": {},
   "outputs": [],
   "source": [
    "# Google Credential\n",
    "os.environ['GOOGLE_APPLICATION_CREDENTIALS'] ='key.json'\n",
    "bigquery_client = bigquery.Client(project='ironhacks-data')"
   ]
  },
  {
   "cell_type": "code",
   "execution_count": null,
   "id": "e77c85a8",
   "metadata": {},
   "outputs": [],
   "source": [
    "# Query the three provided data tables \n",
    "unemployement_data_query = \"\"\"\n",
    "SELECT *\n",
    "FROM `ironhacks-data.ironhacks_competition.unemployment_data`\n",
    "\"\"\""
   ]
  },
  {
   "cell_type": "code",
   "execution_count": null,
   "id": "3766779e",
   "metadata": {},
   "outputs": [],
   "source": [
    "wage_data_query = \"\"\"\n",
    "SELECT *\n",
    "FROM `ironhacks-data.ironhacks_competition.wage_data`\n",
    "\"\"\""
   ]
  },
  {
   "cell_type": "code",
   "execution_count": null,
   "id": "c1330a81",
   "metadata": {},
   "outputs": [],
   "source": [
    "prediction_list_query = \"\"\"\n",
    "SELECT *\n",
    "FROM `ironhacks-data.ironhacks_competition.prediction_list`\n",
    "\"\"\""
   ]
  },
  {
   "cell_type": "code",
   "execution_count": null,
   "id": "74f95af1",
   "metadata": {},
   "outputs": [],
   "source": [
    "# QUERY THE DATA ONCE\n",
    "ud_query_job = bigquery_client.query(unemployement_data_query)\n",
    "wd_query_job = bigquery_client.query(wage_data_query)\n",
    "pl_query_job = bigquery_client.query(prediction_list_query)"
   ]
  },
  {
   "cell_type": "code",
   "execution_count": null,
   "id": "bd3b87a0",
   "metadata": {},
   "outputs": [],
   "source": [
    "unemployement_data = ud_query_job.to_dataframe()\n",
    "wage_data = wd_query_job.to_dataframe()\n",
    "prediction_list = pl_query_job.to_dataframe()"
   ]
  },
  {
   "cell_type": "code",
   "execution_count": null,
   "id": "7a4c7add",
   "metadata": {},
   "outputs": [],
   "source": [
    "# save the query results to csv files\n",
    "unemployement_data.to_csv(\"data/unemployment_data.csv\")\n",
    "print(\"unemployment_data shape:\", unemployement_data.shape)"
   ]
  },
  {
   "cell_type": "code",
   "execution_count": null,
   "id": "005516a4",
   "metadata": {},
   "outputs": [],
   "source": [
    "wage_data.to_csv(\"data/wage_data.csv\")\n",
    "print(\"wage_data shape:\", wage_data.shape)"
   ]
  },
  {
   "cell_type": "code",
   "execution_count": null,
   "id": "09494226",
   "metadata": {},
   "outputs": [],
   "source": [
    "prediction_list.to_csv(\"data/prediction_list.csv\")\n",
    "print(\"prediction_list shape:\", prediction_list.shape)\n",
    "total_uuid = prediction_list.shape[0]"
   ]
  },
  {
   "cell_type": "code",
   "execution_count": null,
   "id": "8beefb9b",
   "metadata": {},
   "outputs": [],
   "source": [
    "# check if how many weeks of data are provided for each uu_id\n",
    "query = \"\"\"\n",
    "SELECT uu_id, COUNT(week_number) as num_of_weeks\n",
    "FROM ironhacks-data.ironhacks_competition.unemployment_data\n",
    "GROUP BY uu_id\n",
    "ORDER BY num_of_weeks DESC\n",
    "\"\"\""
   ]
  },
  {
   "cell_type": "code",
   "execution_count": null,
   "id": "5cb541bd",
   "metadata": {},
   "outputs": [],
   "source": [
    "bigquery_client.query(query).to_dataframe()"
   ]
  },
  {
   "cell_type": "code",
   "execution_count": null,
   "id": "851fc43a",
   "metadata": {},
   "outputs": [],
   "source": [
    "# query week_number data for uu_id f43fb9e90c5ecf879016b159aaa17fcb\n",
    "query = \"\"\"\n",
    "SELECT uu_id, week_number\n",
    "FROM ironhacks-data.ironhacks_competition.unemployment_data\n",
    "WHERE uu_id=\"f43fb9e90c5ecf879016b159aaa17fcb\"\n",
    "ORDER BY week_number\n",
    "\"\"\"\n",
    "print(bigquery_client.query(query).to_dataframe().to_string(index=False))"
   ]
  },
  {
   "cell_type": "code",
   "execution_count": null,
   "id": "eb016cd8",
   "metadata": {},
   "outputs": [],
   "source": [
    "# use distinct to remove the duplication and re-count the number of weeks\n",
    "query = \"\"\"\n",
    "SELECT uu_id, COUNT(DISTINCT(week_number)) as num_of_weeks\n",
    "FROM ironhacks-data.ironhacks_competition.unemployment_data\n",
    "GROUP BY uu_id\n",
    "ORDER BY num_of_weeks DESC\n",
    "\"\"\""
   ]
  },
  {
   "cell_type": "code",
   "execution_count": null,
   "id": "67a609d4",
   "metadata": {},
   "outputs": [],
   "source": [
    "bigquery_client.query(query).to_dataframe()"
   ]
  },
  {
   "cell_type": "code",
   "execution_count": null,
   "id": "c7920de6",
   "metadata": {},
   "outputs": [],
   "source": [
    "# use sub-query to retrieve the num_of_uuids vs num_of_weeks, plot the results\n",
    "query = \"\"\"\n",
    "SELECT num_of_weeks, COUNT(num_of_weeks) as num_of_uuids\n",
    "FROM (\n",
    "    SELECT uu_id, COUNT(DISTINCT(week_number)) as num_of_weeks\n",
    "    FROM ironhacks-data.ironhacks_competition.unemployment_data\n",
    "    GROUP BY uu_id\n",
    "    ORDER BY num_of_weeks DESC\n",
    ")\n",
    "GROUP BY num_of_weeks\n",
    "ORDER BY num_of_weeks\n",
    "\"\"\""
   ]
  },
  {
   "cell_type": "code",
   "execution_count": null,
   "id": "68623ab5",
   "metadata": {},
   "outputs": [],
   "source": [
    "uuid_weeks = bigquery_client.query(query).to_dataframe()"
   ]
  },
  {
   "cell_type": "code",
   "execution_count": null,
   "id": "e7db5926",
   "metadata": {},
   "outputs": [],
   "source": [
    "week_count_label = list(map(str, list(uuid_weeks[\"num_of_weeks\"])))\n",
    "num_of_uuids = list(uuid_weeks[\"num_of_uuids\"])\n",
    "plt.figure(figsize=(6,6))\n",
    "plt.barh(week_count_label, num_of_uuids)\n",
    "plt.yticks(week_count_label)\n",
    "plt.ylabel(\"How many weeks of data are included\")\n",
    "plt.xlabel(\"Number of UUIDs\")\n",
    "for i, v in enumerate(num_of_uuids):\n",
    "    plt.text(v + 1, i - 0.4, str(v), size=\"small\")\n",
    "plt.tight_layout()\n",
    "plt.show()"
   ]
  },
  {
   "cell_type": "code",
   "execution_count": null,
   "id": "6fff4e0a",
   "metadata": {},
   "outputs": [],
   "source": [
    "print(str(np.array(num_of_uuids)[-6:].sum()), \"out of\", total_uuid, \"uuids have no less than 30 weeks of datapoints.\")\n",
    "print(str(np.array(num_of_uuids)[:9].sum()), \"out of\", total_uuid, \"uuids have no more than 10 weeks of datapoints.\")"
   ]
  },
  {
   "cell_type": "code",
   "execution_count": null,
   "id": "d65f45aa",
   "metadata": {},
   "outputs": [],
   "source": [
    "# query the number of datapoints for each week, use DISTINCT on uu_id to remove duplication\n",
    "QUERY = \"\"\"\n",
    "SELECT week_number, Count(DISTINCT(uu_id)) as count\n",
    "FROM ironhacks-data.ironhacks_competition.unemployment_data\n",
    "GROUP BY week_number\n",
    "ORDER BY week_number\n",
    "\"\"\"\n",
    "query_job = bigquery_client.query(QUERY)\n",
    "week_number_count = query_job.to_dataframe()\n",
    "display(week_number_count.T)\n",
    "print(\"week_number: \\n\" + str(week_number_count.T.to_numpy()[0]))\n",
    "print(\"count: \\n\" + str(week_number_count.T.to_numpy()[1]))"
   ]
  },
  {
   "cell_type": "code",
   "execution_count": null,
   "id": "75d5ae9c",
   "metadata": {},
   "outputs": [],
   "source": [
    "# fill the missing weeks' count with 0 for week 4 and week 23\n",
    "i = 0\n",
    "week_number_count_filled = []\n",
    "for w_c in week_number_count.to_numpy():\n",
    "    i = i + 1\n",
    "    if w_c[0] == i:\n",
    "        week_number_count_filled.append(list(w_c))\n",
    "    else:\n",
    "        week_number_count_filled.append(list([i, 0]))\n",
    "        week_number_count_filled.append(list(w_c))\n",
    "        i = i + 1\n",
    "print(\"Total number of weeks:\", i)"
   ]
  },
  {
   "cell_type": "code",
   "execution_count": null,
   "id": "adce3ca6",
   "metadata": {},
   "outputs": [],
   "source": [
    "# plot the filled result\n",
    "week_number = list(np.array(week_number_count_filled)[:,0])\n",
    "week_count = list(np.array(week_number_count_filled)[:,1])\n",
    "plt.figure(figsize=(8,6))\n",
    "plt.barh(week_number, week_count)\n",
    "plt.yticks(week_number)\n",
    "plt.ylabel(\"Week number\") \n",
    "plt.xlabel(\"Number of Datapoints\")\n",
    "for i, v in enumerate(week_count):\n",
    "    plt.text(v + 2, i + 0.7, str(v), size=\"small\")\n",
    "plt.tight_layout()\n",
    "plt.show()"
   ]
  },
  {
   "cell_type": "code",
   "execution_count": null,
   "id": "f64c4d79",
   "metadata": {},
   "outputs": [],
   "source": [
    "# select 10 of 96 uuids with 3 weeks' data\n",
    "QUERY = \"\"\"\n",
    "SELECT uu_id\n",
    "FROM (\n",
    "    SELECT uu_id, COUNT(DISTINCT(week_number)) as week_count\n",
    "    FROM ironhacks-data.ironhacks_competition.unemployment_data\n",
    "    GROUP BY uu_id\n",
    ")\n",
    "WHERE week_count = 35\n",
    "LIMIT 10\n",
    "\"\"\"\n",
    "query_job = bigquery_client.query(QUERY)\n",
    "ten_uuid_with_35_weeks = query_job.to_dataframe()\n",
    "ten_uuid_with_35_weeks"
   ]
  },
  {
   "cell_type": "code",
   "execution_count": null,
   "id": "1ea3c103",
   "metadata": {
    "lines_to_next_cell": 1
   },
   "outputs": [],
   "source": [
    "# query the 10 selected UUID data\n",
    "ten_35w_data = []\n",
    "for uu_id in ten_uuid_with_35_weeks[\"uu_id\"]:\n",
    "    QUERY=\"\"\"\n",
    "    SELECT uu_id, week_number, total_claims\n",
    "    FROM ironhacks-data.ironhacks_competition.unemployment_data\n",
    "    WHERE uu_id=\"%s\"\n",
    "    ORDER BY week_number\n",
    "    \"\"\"%(uu_id)\n",
    "    query_job = bigquery_client.query(QUERY)\n",
    "    ten_35w_data.append(query_job.to_dataframe().drop_duplicates(ignore_index=True))"
   ]
  },
  {
   "cell_type": "code",
   "execution_count": null,
   "id": "d51d62da",
   "metadata": {
    "lines_to_next_cell": 1
   },
   "outputs": [],
   "source": [
    "# manually add week 4 and week 23 missing data\n",
    "def fill_week4_and_week23(df, method, replace=False):\n",
    "    \"\"\"\n",
    "    Fill or replace the week 4 and week 23 missing total_claims data.\n",
    "    Args:\n",
    "        df: Dataframe\n",
    "            The input dataframe with missing total claims or to be replaced.\n",
    "        method: string\n",
    "            prev - use previous week's value\n",
    "            next - use next week's value\n",
    "            mid - use mean value of previous and next weeks\n",
    "        replace: bool\n",
    "            True - replace the existing week 4 and week 23 total_claim values\n",
    "            False - add the missing values\n",
    "    Returns:\n",
    "        Dataframe:\n",
    "            Dataframe with added total_claim values or replaced values.\n",
    "    \"\"\"\n",
    "    uuid = df[\"uu_id\"][0]\n",
    "    week_list = list(df[\"week_number\"])\n",
    "    if 4 in week_list and 23 in week_list and not replace:\n",
    "        print(\"Week 4 and week 23 data already exist, please use replace=True\")\n",
    "        return df\n",
    "    if 4 not in week_list and 23 not in week_list and replace:\n",
    "        print(\"Week 4 and week 23 data do not exist, replace failed\")\n",
    "        return df\n",
    "    if 4 not in week_list and 23 not in week_list and not replace:\n",
    "        print(\"Fill uuid\", uuid, \"week 4 and week 23 data with\", method, \"values\")\n",
    "    if 4 in week_list and 23 in week_list and replace:\n",
    "        print(\"Replace uuid\", uuid, \"week 4 and week 23 data with\", method, \"values\")\n",
    "        # remove exisiting value and insert again\n",
    "        df = df.drop(df.index[[3, 22]])\n",
    "        df = df.sort_index().reset_index(drop=True)\n",
    "        \n",
    "    if method == \"prev\":\n",
    "        # use previous avaliable week's value\n",
    "        val_4 = df[\"total_claims\"][2]\n",
    "        val_23 = df[\"total_claims\"][20]\n",
    "    if method == \"next\":\n",
    "        # use next avaliable week's value\n",
    "        val_4 = df[\"total_claims\"][3]\n",
    "        val_23 = df[\"total_claims\"][21]\n",
    "    if method == \"mid\":\n",
    "        # use mean value of previous and next avaliable weeks\n",
    "        val_4 = int((df[\"total_claims\"][2] + df[\"total_claims\"][3]) * 0.5)\n",
    "        val_23 = int((df[\"total_claims\"][20] + df[\"total_claims\"][21]) * 0.5)\n",
    "    \n",
    "    # week 4\n",
    "    df.loc[2.5] = [uuid, 4, val_4]\n",
    "    # week 23\n",
    "    df.loc[20.5] = [uuid, 23, val_23]\n",
    "    return df.sort_index().reset_index(drop=True)"
   ]
  },
  {
   "cell_type": "code",
   "execution_count": null,
   "id": "59a7644f",
   "metadata": {},
   "outputs": [],
   "source": [
    "# fill the missing data using mean value of prev week and next week for all 10 uuids\n",
    "for i in range(len(ten_35w_data)):\n",
    "    ten_35w_data[i] = fill_week4_and_week23(ten_35w_data[i], \"mid\")"
   ]
  },
  {
   "cell_type": "code",
   "execution_count": null,
   "id": "3bd210c3",
   "metadata": {},
   "outputs": [],
   "source": [
    "# plot the 10 uuid total_claim data from week 1 to week 37\n",
    "plt.figure(figsize=(12,4))\n",
    "plt.title(\"10 selected uuid with 37 weeks of data total_claim plot\")\n",
    "for i in range(len(ten_35w_data)):\n",
    "    plt.plot(list(map(str, ten_35w_data[i][\"week_number\"])), \n",
    "             ten_35w_data[i][\"total_claims\"], \n",
    "             \"o-\", linewidth=1, markersize=5, alpha=0.7,\n",
    "             label=ten_35w_data[i][\"uu_id\"][0])\n",
    "    plt.legend(bbox_to_anchor=(1.01, 1), loc='upper left', borderaxespad=0.)\n",
    "plt.xlabel(\"week_number\")\n",
    "plt.ylabel(\"total_claims\")\n",
    "plt.grid(axis=\"y\")\n",
    "plt.tight_layout()\n",
    "plt.show()"
   ]
  },
  {
   "cell_type": "code",
   "execution_count": null,
   "id": "01f259b7",
   "metadata": {},
   "outputs": [],
   "source": [
    "# select 10 of 96 uuids with 3 weeks' data\n",
    "QUERY = \"\"\"\n",
    "SELECT uu_id\n",
    "FROM (\n",
    "    SELECT uu_id, COUNT(DISTINCT(week_number)) as week_count\n",
    "    FROM ironhacks-data.ironhacks_competition.unemployment_data\n",
    "    GROUP BY uu_id\n",
    ")\n",
    "WHERE week_count <= 10\n",
    "\"\"\"\n",
    "query_job = bigquery_client.query(QUERY)\n",
    "uuid_less_10w = query_job.to_dataframe()\n",
    "uuid_less_10w.shape\n",
    "total_uuid_less_10w = uuid_less_10w.shape[0]"
   ]
  },
  {
   "cell_type": "code",
   "execution_count": null,
   "id": "d5f707f3",
   "metadata": {},
   "outputs": [],
   "source": [
    "# select all uuid data with no more than 10 weeks of data\n",
    "data_less_10w = []\n",
    "for uuid in uuid_less_10w[\"uu_id\"]:\n",
    "    QUERY=\"\"\"\n",
    "    SELECT *\n",
    "    FROM ironhacks-data.ironhacks_competition.unemployment_data\n",
    "    WHERE uu_id=\"%s\"\n",
    "    ORDER BY week_number\n",
    "    \"\"\"%(uuid)\n",
    "    query_job = bigquery_client.query(QUERY)\n",
    "    data_less_10w.append(query_job.to_dataframe().drop_duplicates(ignore_index=True))"
   ]
  },
  {
   "cell_type": "code",
   "execution_count": null,
   "id": "723f5e23",
   "metadata": {},
   "outputs": [],
   "source": [
    "# find out which weeks are available for these uuids\n",
    "week_available = []\n",
    "for i in range(len(data_less_10w)):\n",
    "    week_available.append(list(data_less_10w[i][\"week_number\"]))"
   ]
  },
  {
   "cell_type": "code",
   "execution_count": null,
   "id": "5425ae61",
   "metadata": {
    "lines_to_next_cell": 1
   },
   "outputs": [],
   "source": [
    "# plot the avaliable weeks vs uu_id\n",
    "plt.figure(figsize=(12,4))\n",
    "plt.title(\"week_number distribution for uuid with no more than 10 weeks of data\")\n",
    "colors = ['C{}'.format(i) for i in range(total_uuid_less_10w)]\n",
    "plt.eventplot(week_available, orientation='vertical', linelengths=0.2, linewidths=4, colors=colors)\n",
    "plt.yticks([i for i in range(1,38,2)])\n",
    "plt.ylabel(\"week_number\")\n",
    "plt.xticks([i for i in range(total_uuid_less_10w)])\n",
    "plt.xlabel(\"uu_id\")\n",
    "plt.grid(axis=\"x\")\n",
    "plt.axhline(4, alpha=0.5)\n",
    "plt.axhline(23, alpha=0.5)\n",
    "plt.axhline(37, alpha=0.5)\n",
    "plt.tight_layout()\n",
    "plt.show()"
   ]
  },
  {
   "cell_type": "code",
   "execution_count": null,
   "id": "0a250f9e",
   "metadata": {
    "lines_to_next_cell": 1
   },
   "outputs": [],
   "source": [
    "# query all total_claims data and store in raw_total_claims_data dict\n",
    "def query_all_total_claims():\n",
    "    temp_query_list = prediction_list[\"uu_id\"] # the list of uuids to be queried\n",
    "    raw_total_claims_data = {uuid:[] for uuid in temp_query_list} # dict to store all query results\n",
    "    total_week = 37\n",
    "\n",
    "    progress = 0\n",
    "    total = len(temp_query_list)\n",
    "    for uuid in temp_query_list:\n",
    "        progress = progress + 1\n",
    "        print('\\r', \"Querying\", str(progress) + \"/\" + str(total), \"uuid's data...\", end='\\r')\n",
    "        QUERY=\"\"\"\n",
    "        SELECT week_number, total_claims\n",
    "        FROM ironhacks-data.ironhacks_competition.unemployment_data\n",
    "        WHERE uu_id=\"%s\"\n",
    "        ORDER BY week_number\n",
    "        \"\"\"%(uuid)\n",
    "        query_job = bigquery_client.query(QUERY)\n",
    "        res = query_job.to_dataframe().drop_duplicates(ignore_index=True).to_numpy()\n",
    "\n",
    "        # Fill the missing total_claims between week 1 and week 37 with value 0\n",
    "        index = 0\n",
    "        for w in range(1,total_week + 1):\n",
    "            if index == len(res):\n",
    "                raw_total_claims_data[uuid].append({w:0})\n",
    "                continue\n",
    "            if w == res[index][0]:\n",
    "                raw_total_claims_data[uuid].append({w:res[index][1]})\n",
    "                index = index + 1\n",
    "            else:\n",
    "                raw_total_claims_data[uuid].append({w:0})\n",
    "    return raw_total_claims_data"
   ]
  },
  {
   "cell_type": "code",
   "execution_count": null,
   "id": "16d03768",
   "metadata": {},
   "outputs": [],
   "source": [
    "# commented for only excuting once\n",
    "raw_total_claims_data = query_all_total_claims()"
   ]
  },
  {
   "cell_type": "code",
   "execution_count": null,
   "id": "0599c69c",
   "metadata": {},
   "outputs": [],
   "source": [
    "# save query result into csv file\n",
    "raw_total_claims_df = pd.DataFrame.from_dict(raw_total_claims_data)\n",
    "raw_total_claims_df.to_csv(\"raw_total_claims.csv\", index=False)"
   ]
  },
  {
   "cell_type": "code",
   "execution_count": null,
   "id": "c40ae796",
   "metadata": {},
   "outputs": [],
   "source": [
    "raw_total_claims_df = pd.read_csv(\"raw_total_claims.csv\")"
   ]
  },
  {
   "cell_type": "code",
   "execution_count": null,
   "id": "2915bca1",
   "metadata": {},
   "outputs": [],
   "source": [
    "for i in range(0, 37):\n",
    "    for j in range(0, total_uuid):\n",
    "        d = raw_total_claims_df.iloc[i,j]\n",
    "        # print(int(d.split(\":\")[1].split(\"}\")[0]))\n",
    "        raw_total_claims_df.iloc[i,j] = int(d.split(\":\")[1].split(\"}\")[0])"
   ]
  },
  {
   "cell_type": "code",
   "execution_count": null,
   "id": "8a0371b1",
   "metadata": {},
   "outputs": [],
   "source": [
    "raw_total_claims_list = raw_total_claims_df.T.to_numpy()\n",
    "raw_total_claims_list = raw_total_claims_list[:]"
   ]
  },
  {
   "cell_type": "code",
   "execution_count": null,
   "id": "1b977d65",
   "metadata": {},
   "outputs": [],
   "source": [
    "x_labels = [w for w in range(1, 38)]\n",
    "NUM_PLOTS = len(raw_total_claims_list)"
   ]
  },
  {
   "cell_type": "code",
   "execution_count": null,
   "id": "cfb84c58",
   "metadata": {},
   "outputs": [],
   "source": [
    "plt.figure(figsize=(15,5))\n",
    "plt.xticks(x_labels)\n",
    "for i in range(0, NUM_PLOTS):\n",
    "    plt.plot(x_labels, raw_total_claims_list[i], \".-\")"
   ]
  },
  {
   "cell_type": "code",
   "execution_count": null,
   "id": "feffdafe",
   "metadata": {},
   "outputs": [],
   "source": [
    "# fill week 4 and week 23 data with mean values for all uuids\n",
    "for row in raw_total_claims_list:\n",
    "    temp_sum = 0\n",
    "    w4_val = round(0.5 * (row[2] + row[4]) + 0.01)\n",
    "    w23_val = round(0.5 * (row[21] + row[23]) + 0.01)\n",
    "    row[3] = w4_val\n",
    "    row[22] = w23_val"
   ]
  },
  {
   "cell_type": "code",
   "execution_count": null,
   "id": "76719aca",
   "metadata": {
    "lines_to_next_cell": 1
   },
   "outputs": [],
   "source": [
    "plt.figure(figsize=(15,5))\n",
    "plt.xticks(x_labels)\n",
    "for i in range(0, NUM_PLOTS):\n",
    "    plt.plot(x_labels, raw_total_claims_list[i])"
   ]
  },
  {
   "cell_type": "code",
   "execution_count": null,
   "id": "da0e3b6a",
   "metadata": {
    "lines_to_next_cell": 1
   },
   "outputs": [],
   "source": [
    "def mse_loss(y_true, y_pred):\n",
    "    \"\"\"\n",
    "    MSE loss function\n",
    "    Inputs param\n",
    "    -------------------------\n",
    "    y_true: list\n",
    "    The ground truth values\n",
    "    y_pred: list\n",
    "    The predicted values\n",
    "    -------------------------\n",
    "    return: number\n",
    "    mean square error of the two input lists\n",
    "    \"\"\"\n",
    "    if(len(y_true) != len(y_pred)):\n",
    "        print(\"True label len:\" + str(len(y_true)) + \", Predict label len: \" + str(len(y_pred)))\n",
    "        raise Exception(\"Input lists have different length\")\n",
    "    mse = np.mean(np.array(y_true) - np.array(y_pred))**2\n",
    "    return mse"
   ]
  },
  {
   "cell_type": "code",
   "execution_count": null,
   "id": "335ab2ec",
   "metadata": {
    "lines_to_next_cell": 1
   },
   "outputs": [],
   "source": [
    "def mae_loss(y_true, y_pred):\n",
    "    \"\"\"\n",
    "    MAE loss function\n",
    "    Inputs param\n",
    "    -------------------------\n",
    "    y_true: list\n",
    "    The ground truth values\n",
    "    y_pred: list\n",
    "    The predicted values\n",
    "    -------------------------\n",
    "    return: number\n",
    "    mean absolute error of the two input lists\n",
    "    \"\"\"\n",
    "    if(len(y_true) != len(y_pred)):\n",
    "        print(\"True label len:\" + str(len(y_true)) + \", Predict label len: \" + str(len(y_pred)))\n",
    "        raise Exception(\"Input lists have different length\")\n",
    "    mae = np.mean(np.absolute(np.array(y_true) - np.array(y_pred)))\n",
    "    return mae"
   ]
  },
  {
   "cell_type": "code",
   "execution_count": null,
   "id": "d88c9d04",
   "metadata": {},
   "outputs": [],
   "source": [
    "uuid_list = list(raw_total_claims_df.columns)\n",
    "pred_results = [round(np.array(row).mean() + 0.01) for row in raw_total_claims_list]"
   ]
  },
  {
   "cell_type": "code",
   "execution_count": null,
   "id": "e52736fe",
   "metadata": {},
   "outputs": [],
   "source": [
    "# Mean value as the prediction result\n",
    "result_dict = {\n",
    "    'uu_id':uuid_list, \n",
    "    'total_claims': pred_results,\n",
    "    'week_number': [39 for i in range(total_uuid)]\n",
    "}\n",
    "result_to_csv = pd.DataFrame(result_dict)\n",
    "result_to_csv"
   ]
  },
  {
   "cell_type": "code",
   "execution_count": null,
   "id": "0443ce45",
   "metadata": {},
   "outputs": [],
   "source": [
    "print(uuid_list[0])\n",
    "print(list(raw_total_claims_list[0]))"
   ]
  },
  {
   "cell_type": "code",
   "execution_count": null,
   "id": "6f1ab20b",
   "metadata": {},
   "outputs": [],
   "source": [
    "print(list(raw_total_claims_df[\"8ba19786b86ae124a9d7eaa054f15d23\"]))"
   ]
  },
  {
   "cell_type": "code",
   "execution_count": null,
   "id": "f97c14b3",
   "metadata": {},
   "outputs": [],
   "source": [
    "result_to_csv.to_csv(\"submission_prediction_output.csv\", index=False)"
   ]
  },
  {
   "cell_type": "code",
   "execution_count": null,
   "id": "7c5400cc",
   "metadata": {},
   "outputs": [],
   "source": [
    "temp_res = [row[-1] for row in raw_total_claims_list]"
   ]
  },
  {
   "cell_type": "code",
   "execution_count": null,
   "id": "b56bbe64",
   "metadata": {},
   "outputs": [],
   "source": [
    "mae_loss(temp_res, pred_results)"
   ]
  },
  {
   "cell_type": "code",
   "execution_count": null,
   "id": "00c2251c",
   "metadata": {},
   "outputs": [],
   "source": [
    "query = \"\"\"\n",
    "SELECT Count(DISTINCT(uu_id)) as N_UUID\n",
    "FROM ironhacks-data.ironhacks_competition.unemployment_data\n",
    "WHERE week_number = 37\n",
    "\"\"\"\n",
    "query_job = bigquery_client.query(query)\n",
    "week_39_count = query_job.to_dataframe()\n",
    "week_39_count"
   ]
  },
  {
   "cell_type": "code",
   "execution_count": null,
   "id": "4513496f",
   "metadata": {},
   "outputs": [],
   "source": [
    "i = 0\n",
    "data = []\n",
    "for uu_id in prediction_list[\"uu_id\"]:\n",
    "    i = i + 1\n",
    "    query = \"\"\"\n",
    "    SELECT *\n",
    "    FROM ironhacks-data.ironhacks_competition.unemployment_data\n",
    "    WHERE uu_id=\"%s\"\n",
    "    ORDER BY week_number\n",
    "    \"\"\"%(uu_id)\n",
    "    print(\"Querying #\" + str(i) + \":\", uu_id, end='\\r')\n",
    "    query_job = bigquery_client.query(query)\n",
    "    data.append(query_job.to_dataframe())"
   ]
  },
  {
   "cell_type": "code",
   "execution_count": null,
   "id": "6b0c1f5a",
   "metadata": {},
   "outputs": [],
   "source": [
    "query = \"\"\"\n",
    "SELECT week_number, sum(total_claims) as all_claims\n",
    "FROM `ironhacks-data.ironhacks_competition.unemployment_data`\n",
    "GROUP BY week_number\n",
    "ORDER BY week_number\n",
    "\"\"\""
   ]
  },
  {
   "cell_type": "code",
   "execution_count": null,
   "id": "14d82303",
   "metadata": {},
   "outputs": [],
   "source": [
    "bigquery_client.query(query).to_dataframe()"
   ]
  },
  {
   "cell_type": "code",
   "execution_count": null,
   "id": "34158e30",
   "metadata": {},
   "outputs": [],
   "source": [
    "query = \"\"\"\n",
    "SELECT uu_id, week_number, sum(total_claims) as all_claims\n",
    "FROM `ironhacks-data.ironhacks_competition.unemployment_data`\n",
    "GROUP BY uu_id, week_number\n",
    "ORDER BY week_number\n",
    "\"\"\""
   ]
  },
  {
   "cell_type": "code",
   "execution_count": null,
   "id": "536d1cb6",
   "metadata": {},
   "outputs": [],
   "source": [
    "bigquery_client.query(query).to_dataframe().head(40)"
   ]
  },
  {
   "cell_type": "code",
   "execution_count": null,
   "id": "aa3b948e",
   "metadata": {},
   "outputs": [],
   "source": [
    "get_ipython().run_cell_magic('capture', '', \"%logstop\\n%logstart -t -r -q ipython_command_log.py global\\n#- IRONHACKS RESEARCH TRACKING CODE\\n#----------------------------------\\n# The following code is used to help our research team understand how you \\n# our notebook environment. We do not collect any personal information with\\n# the following code, it is used to measure when and how often you work on\\n# your submission files.\\nimport os\\nfrom datetime import datetime\\nimport IPython.core.history as history\\nha = history.HistoryAccessor()\\nha_tail = ha.get_tail(1)\\nha_cmd = next(ha_tail)\\nsession_id = str(ha_cmd[0])\\ncommand_id = str(ha_cmd[1])\\ntimestamp = datetime.utcnow().isoformat()\\nhistory_line = ','.join([session_id, command_id, timestamp]) + '\\\\n'\\nlogfile = open(os.environ['HOME']+'/ipython_session_log.csv', 'a')\\nlogfile.write(history_line)\\nlogfile.close()\\n\")"
   ]
  },
  {
   "cell_type": "code",
   "execution_count": null,
   "id": "d494ce55",
   "metadata": {
    "lines_to_next_cell": 2
   },
   "outputs": [],
   "source": [
    "get_ipython().run_cell_magic('capture', '', \"%logstop\\n%logstart -t -r -q ipython_command_log.py global\\n#- IRONHACKS RESEARCH TRACKING CODE\\n#----------------------------------\\n# The following code is used to help our research team understand how you \\n# our notebook environment. We do not collect any personal information with\\n# the following code, it is used to measure when and how often you work on\\n# your submission files.\\nimport os\\nfrom datetime import datetime\\nimport IPython.core.history as history\\nha = history.HistoryAccessor()\\nha_tail = ha.get_tail(1)\\nha_cmd = next(ha_tail)\\nsession_id = str(ha_cmd[0])\\ncommand_id = str(ha_cmd[1])\\ntimestamp = datetime.utcnow().isoformat()\\nhistory_line = ','.join([session_id, command_id, timestamp]) + '\\\\n'\\nlogfile = open(os.environ['HOME']+'/ipython_session_log.csv', 'a')\\nlogfile.write(history_line)\\nlogfile.close()\\n\")"
   ]
  }
 ],
 "metadata": {
  "jupytext": {
   "cell_metadata_filter": "-all",
   "main_language": "python",
   "notebook_metadata_filter": "-all"
  }
 },
 "nbformat": 4,
 "nbformat_minor": 5
}
