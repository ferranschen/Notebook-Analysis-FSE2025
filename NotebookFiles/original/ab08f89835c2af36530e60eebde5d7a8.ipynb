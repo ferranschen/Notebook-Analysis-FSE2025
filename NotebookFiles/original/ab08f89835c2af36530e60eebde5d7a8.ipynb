{
 "cells": [
  {
   "cell_type": "code",
   "execution_count": null,
   "id": "1753d8d1",
   "metadata": {},
   "outputs": [],
   "source": [
    "get_ipython().system('pip install db-dtypes')"
   ]
  },
  {
   "cell_type": "code",
   "execution_count": null,
   "id": "c2e1a858",
   "metadata": {},
   "outputs": [],
   "source": [
    "import os\n",
    "import pandas\n",
    "from google.cloud import bigquery\n",
    "from google.oauth2 import service_account\n",
    "from google.cloud.bigquery import magics"
   ]
  },
  {
   "cell_type": "code",
   "execution_count": null,
   "id": "3ba874f3",
   "metadata": {},
   "outputs": [],
   "source": [
    "BIGQUERY_PROJECT = 'ironhacks-data'\n",
    "bigquery_client = bigquery.Client(project=BIGQUERY_PROJECT)"
   ]
  },
  {
   "cell_type": "code",
   "execution_count": null,
   "id": "a884b9db",
   "metadata": {},
   "outputs": [],
   "source": [
    "query = \"\"\"\n",
    "SELECT *\n",
    "FROM `ironhacks-data.ironhacks_competition.unemployment_data`\n",
    "\"\"\""
   ]
  },
  {
   "cell_type": "code",
   "execution_count": null,
   "id": "c588e74a",
   "metadata": {},
   "outputs": [],
   "source": [
    "# QUERY THE DATA ONCE\n",
    "query_job = bigquery_client.query(query)\n",
    "data = query_job.to_dataframe()\n",
    "data.head()"
   ]
  },
  {
   "cell_type": "code",
   "execution_count": null,
   "id": "8221f0a1",
   "metadata": {},
   "outputs": [],
   "source": [
    "data.info()"
   ]
  },
  {
   "cell_type": "code",
   "execution_count": null,
   "id": "3e84a0db",
   "metadata": {},
   "outputs": [],
   "source": [
    "data[\"top_category_employer2\"].value_counts()"
   ]
  },
  {
   "cell_type": "code",
   "execution_count": null,
   "id": "4afd7913",
   "metadata": {},
   "outputs": [],
   "source": [
    "data.loc[data[\"uu_id\"] == \"bd5b040eae3010ce09da8b176ed5aee0\"]"
   ]
  },
  {
   "cell_type": "code",
   "execution_count": null,
   "id": "85268170",
   "metadata": {},
   "outputs": [],
   "source": [
    "data.info()"
   ]
  },
  {
   "cell_type": "code",
   "execution_count": null,
   "id": "45f58c62",
   "metadata": {},
   "outputs": [],
   "source": [
    "data[\"top_category_employer2\"].value_counts()"
   ]
  },
  {
   "cell_type": "code",
   "execution_count": null,
   "id": "09e9a528",
   "metadata": {},
   "outputs": [],
   "source": [
    "data.loc[data[\"uu_id\"] == \"bd5b040eae3010ce09da8b176ed5aee0\"]"
   ]
  },
  {
   "cell_type": "code",
   "execution_count": null,
   "id": "cb696fff",
   "metadata": {},
   "outputs": [],
   "source": [
    "query = \"\"\"\n",
    "SELECT *\n",
    "FROM `ironhacks-data.ironhacks_competition.wage_data`\n",
    "\"\"\""
   ]
  },
  {
   "cell_type": "code",
   "execution_count": null,
   "id": "6fc4f00b",
   "metadata": {},
   "outputs": [],
   "source": [
    "# QUERY THE DATA ONCE\n",
    "query_job = bigquery_client.query(query)\n",
    "wage_data = query_job.to_dataframe()\n",
    "wage_data.head()"
   ]
  },
  {
   "cell_type": "code",
   "execution_count": null,
   "id": "e6b23475",
   "metadata": {},
   "outputs": [],
   "source": [
    "query = \"\"\"\n",
    "SELECT *\n",
    "FROM `ironhacks-data.ironhacks_competition.prediction_list`\n",
    "\"\"\""
   ]
  },
  {
   "cell_type": "code",
   "execution_count": null,
   "id": "629fd96d",
   "metadata": {},
   "outputs": [],
   "source": [
    "# QUERY THE DATA ONCE\n",
    "query_job = bigquery_client.query(query)\n",
    "predict = query_job.to_dataframe()\n",
    "predict.head()"
   ]
  },
  {
   "cell_type": "code",
   "execution_count": null,
   "id": "62b53502",
   "metadata": {},
   "outputs": [],
   "source": [
    "data[\"edu_8th_or_less\"].value_counts()"
   ]
  },
  {
   "cell_type": "code",
   "execution_count": null,
   "id": "6691ae9b",
   "metadata": {},
   "outputs": [],
   "source": [
    "query = \"\"\"\n",
    "SELECT *\n",
    "FROM `ironhacks-data.ironhacks_competition.wage_data`\n",
    "\"\"\""
   ]
  },
  {
   "cell_type": "code",
   "execution_count": null,
   "id": "43091902",
   "metadata": {},
   "outputs": [],
   "source": [
    "# QUERY THE DATA ONCE\n",
    "query_job = bigquery_client.query(query)\n",
    "wage_data = query_job.to_dataframe()\n",
    "wage_data.head()"
   ]
  },
  {
   "cell_type": "code",
   "execution_count": null,
   "id": "c47b4e35",
   "metadata": {},
   "outputs": [],
   "source": [
    "query = \"\"\"\n",
    "SELECT *\n",
    "FROM `ironhacks-data.ironhacks_competition.prediction_list`\n",
    "\"\"\""
   ]
  },
  {
   "cell_type": "code",
   "execution_count": null,
   "id": "0565109a",
   "metadata": {},
   "outputs": [],
   "source": [
    "# QUERY THE DATA ONCE\n",
    "query_job = bigquery_client.query(query)\n",
    "predict = query_job.to_dataframe()\n",
    "predict.head()"
   ]
  },
  {
   "cell_type": "code",
   "execution_count": null,
   "id": "9096642e",
   "metadata": {},
   "outputs": [],
   "source": [
    "data[\"top_category_employer2\"].map(lambda x: '32' if x =='31-33')"
   ]
  },
  {
   "cell_type": "code",
   "execution_count": null,
   "id": "fc836c7d",
   "metadata": {},
   "outputs": [],
   "source": [
    "data[\"top_category_employer2\"].map(lambda x: '32' if x =='31-33' else x)"
   ]
  },
  {
   "cell_type": "code",
   "execution_count": null,
   "id": "de57746e",
   "metadata": {},
   "outputs": [],
   "source": [
    "data[\"top_category_employer2\"] = data[\"top_category_employer2\"].map(lambda x: '32' if x =='31-33' else x)"
   ]
  },
  {
   "cell_type": "code",
   "execution_count": null,
   "id": "46251901",
   "metadata": {},
   "outputs": [],
   "source": [
    "data[\"top_category_employer2\"].value_counts()"
   ]
  },
  {
   "cell_type": "code",
   "execution_count": null,
   "id": "c1e2a772",
   "metadata": {},
   "outputs": [],
   "source": [
    "data[\"top_category_employer1\"] = data[\"top_category_employer1\"].map(lambda x: '32' if x =='31-33' else x)"
   ]
  },
  {
   "cell_type": "code",
   "execution_count": null,
   "id": "db304a0e",
   "metadata": {},
   "outputs": [],
   "source": [
    "data[\"top_category_employer1\"] = data[\"top_category_employer1\"].map(lambda x: '44.5' if x =='44-45' else x)"
   ]
  },
  {
   "cell_type": "code",
   "execution_count": null,
   "id": "6b388d42",
   "metadata": {},
   "outputs": [],
   "source": [
    "data[\"top_category_employer1\"] = data[\"top_category_employer1\"].map(lambda x: '48.5' if x =='48-49' else x)"
   ]
  },
  {
   "cell_type": "code",
   "execution_count": null,
   "id": "3c0f006c",
   "metadata": {},
   "outputs": [],
   "source": [
    "data.info()"
   ]
  },
  {
   "cell_type": "code",
   "execution_count": null,
   "id": "f3fe5ab8",
   "metadata": {},
   "outputs": [],
   "source": [
    "data[\"top_category_employer2\"].value_counts()"
   ]
  },
  {
   "cell_type": "code",
   "execution_count": null,
   "id": "4a9424e0",
   "metadata": {},
   "outputs": [],
   "source": [
    "data[\"top_category_employer1\"] = data[\"top_category_employer1\"].map(lambda x: '32' if x =='31-33' else x)"
   ]
  },
  {
   "cell_type": "code",
   "execution_count": null,
   "id": "38ce2e9e",
   "metadata": {},
   "outputs": [],
   "source": [
    "data[\"top_category_employer1\"] = data[\"top_category_employer1\"].map(lambda x: '44.5' if x =='44-45' else x)"
   ]
  },
  {
   "cell_type": "code",
   "execution_count": null,
   "id": "2df088ce",
   "metadata": {},
   "outputs": [],
   "source": [
    "data[\"top_category_employer1\"] = data[\"top_category_employer1\"].map(lambda x: '48.5' if x =='48-49' else x)"
   ]
  },
  {
   "cell_type": "code",
   "execution_count": null,
   "id": "6bd28fd9",
   "metadata": {},
   "outputs": [],
   "source": [
    "data[\"top_category_employer2\"] = data[\"top_category_employer2\"].map(lambda x: '32' if x =='31-33' else x)"
   ]
  },
  {
   "cell_type": "code",
   "execution_count": null,
   "id": "d1a863d8",
   "metadata": {},
   "outputs": [],
   "source": [
    "data[\"top_category_employer2\"] = data[\"top_category_employer2\"].map(lambda x: '44.5' if x =='44-45' else x)"
   ]
  },
  {
   "cell_type": "code",
   "execution_count": null,
   "id": "67628c26",
   "metadata": {},
   "outputs": [],
   "source": [
    "data[\"top_category_employer2\"] = data[\"top_category_employer2\"].map(lambda x: '48.5' if x =='48-49' else x)"
   ]
  },
  {
   "cell_type": "code",
   "execution_count": null,
   "id": "8ad88ee4",
   "metadata": {},
   "outputs": [],
   "source": [
    "data[\"top_category_employer3\"] = data[\"top_category_employer3\"].map(lambda x: '32' if x =='31-33' else x)"
   ]
  },
  {
   "cell_type": "code",
   "execution_count": null,
   "id": "9cc2d4cc",
   "metadata": {},
   "outputs": [],
   "source": [
    "data[\"top_category_employer3\"] = data[\"top_category_employer3\"].map(lambda x: '44.5' if x =='44-45' else x)"
   ]
  },
  {
   "cell_type": "code",
   "execution_count": null,
   "id": "deb0c23f",
   "metadata": {},
   "outputs": [],
   "source": [
    "data[\"top_category_employer3\"] = data[\"top_category_employer3\"].map(lambda x: '48.5' if x =='48-49' else x)"
   ]
  },
  {
   "cell_type": "code",
   "execution_count": null,
   "id": "7efac33d",
   "metadata": {},
   "outputs": [],
   "source": [
    "data[\"edu_8th_or_less\"].value_counts()"
   ]
  },
  {
   "cell_type": "code",
   "execution_count": null,
   "id": "d87e099e",
   "metadata": {},
   "outputs": [],
   "source": [
    "df[\"top_category_employer1\"].astype(int) "
   ]
  },
  {
   "cell_type": "code",
   "execution_count": null,
   "id": "d0ba80e5",
   "metadata": {},
   "outputs": [],
   "source": [
    "data[\"top_category_employer1\"].astype(int) "
   ]
  },
  {
   "cell_type": "code",
   "execution_count": null,
   "id": "8eb91109",
   "metadata": {},
   "outputs": [],
   "source": [
    "data.info()"
   ]
  },
  {
   "cell_type": "code",
   "execution_count": null,
   "id": "52ff2c0b",
   "metadata": {},
   "outputs": [],
   "source": [
    "data[\"top_category_employer1\"].astype(float) "
   ]
  },
  {
   "cell_type": "code",
   "execution_count": null,
   "id": "f8642901",
   "metadata": {},
   "outputs": [],
   "source": [
    "data[\"race_black\"].value_counts()"
   ]
  },
  {
   "cell_type": "code",
   "execution_count": null,
   "id": "b43df0db",
   "metadata": {},
   "outputs": [],
   "source": [
    "data[\"top_category_employer1\"].astype(float) "
   ]
  },
  {
   "cell_type": "code",
   "execution_count": null,
   "id": "75bf8bd3",
   "metadata": {},
   "outputs": [],
   "source": [
    "data['edu_8th_or_less'].replace(np.NaN, data['edu_8th_or_less'].mean())"
   ]
  },
  {
   "cell_type": "code",
   "execution_count": null,
   "id": "37187c67",
   "metadata": {},
   "outputs": [],
   "source": [
    "import os\n",
    "import pandas\n",
    "from google.cloud import bigquery\n",
    "from google.oauth2 import service_account\n",
    "from google.cloud.bigquery import magics\n",
    "import numpy as np"
   ]
  },
  {
   "cell_type": "code",
   "execution_count": null,
   "id": "2064b71b",
   "metadata": {},
   "outputs": [],
   "source": [
    "data['edu_8th_or_less'].replace(np.NaN, data['edu_8th_or_less'].mean())"
   ]
  },
  {
   "cell_type": "code",
   "execution_count": null,
   "id": "a2eb4ff0",
   "metadata": {},
   "outputs": [],
   "source": [
    "data.fillna('0')"
   ]
  },
  {
   "cell_type": "code",
   "execution_count": null,
   "id": "4324594a",
   "metadata": {},
   "outputs": [],
   "source": [
    "data.fillna(0)"
   ]
  },
  {
   "cell_type": "code",
   "execution_count": null,
   "id": "c50d4013",
   "metadata": {},
   "outputs": [],
   "source": [
    "data = data.fillna(0)"
   ]
  },
  {
   "cell_type": "code",
   "execution_count": null,
   "id": "5857c2c9",
   "metadata": {},
   "outputs": [],
   "source": [
    "data = data.fillna(0)"
   ]
  },
  {
   "cell_type": "code",
   "execution_count": null,
   "id": "7757dea3",
   "metadata": {},
   "outputs": [],
   "source": [
    "data.info()"
   ]
  },
  {
   "cell_type": "code",
   "execution_count": null,
   "id": "f17dda45",
   "metadata": {},
   "outputs": [],
   "source": [
    "data['top_category_employer1'].astype(float)"
   ]
  },
  {
   "cell_type": "code",
   "execution_count": null,
   "id": "1f7ad826",
   "metadata": {},
   "outputs": [],
   "source": [
    "data = data.fillna(0)"
   ]
  },
  {
   "cell_type": "code",
   "execution_count": null,
   "id": "dc0c5076",
   "metadata": {},
   "outputs": [],
   "source": [
    "data['top_category_employer1'].astype(float)"
   ]
  },
  {
   "cell_type": "code",
   "execution_count": null,
   "id": "4ab0fc71",
   "metadata": {},
   "outputs": [],
   "source": [
    "data.isnull()"
   ]
  },
  {
   "cell_type": "code",
   "execution_count": null,
   "id": "2d71dbc9",
   "metadata": {},
   "outputs": [],
   "source": [
    "data.isnull().any()"
   ]
  },
  {
   "cell_type": "code",
   "execution_count": null,
   "id": "86598d7b",
   "metadata": {},
   "outputs": [],
   "source": [
    "data['top_category_employer1'].astype(float)"
   ]
  },
  {
   "cell_type": "code",
   "execution_count": null,
   "id": "7b997686",
   "metadata": {},
   "outputs": [],
   "source": [
    "data[\"top_category_employer1\"] = data[\"top_category_employer1\"].map(lambda x: '0' if x =='N/A' else x)"
   ]
  },
  {
   "cell_type": "code",
   "execution_count": null,
   "id": "c5fc7950",
   "metadata": {},
   "outputs": [],
   "source": [
    "data[\"top_category_employer2\"] = data[\"top_category_employer2\"].map(lambda x: '0' if x =='N/A' else x)"
   ]
  },
  {
   "cell_type": "code",
   "execution_count": null,
   "id": "2394ea5a",
   "metadata": {},
   "outputs": [],
   "source": [
    "data[\"top_category_employer2\"] = data[\"top_category_employer2\"].map(lambda x: '0' if x =='N/A' else x)"
   ]
  },
  {
   "cell_type": "code",
   "execution_count": null,
   "id": "d308bf4d",
   "metadata": {},
   "outputs": [],
   "source": [
    "data[\"top_category_employer3\"] = data[\"top_category_employer3\"].map(lambda x: '0' if x =='N/A' else x)"
   ]
  },
  {
   "cell_type": "code",
   "execution_count": null,
   "id": "bcd2577c",
   "metadata": {},
   "outputs": [],
   "source": [
    "data = data.fillna(0)"
   ]
  },
  {
   "cell_type": "code",
   "execution_count": null,
   "id": "07ee074f",
   "metadata": {},
   "outputs": [],
   "source": [
    "data['top_category_employer1'].astype(float)"
   ]
  },
  {
   "cell_type": "code",
   "execution_count": null,
   "id": "58483ced",
   "metadata": {},
   "outputs": [],
   "source": [
    "data['top_category_employer2'].astype(float)"
   ]
  },
  {
   "cell_type": "code",
   "execution_count": null,
   "id": "fb44eb04",
   "metadata": {},
   "outputs": [],
   "source": [
    "data['top_category_employer3'].astype(float)"
   ]
  },
  {
   "cell_type": "code",
   "execution_count": null,
   "id": "445999e9",
   "metadata": {},
   "outputs": [],
   "source": [
    "data[\"test\"] = data.groupby(by=[\"uu_id\"]).sum()"
   ]
  },
  {
   "cell_type": "code",
   "execution_count": null,
   "id": "8e9c4e97",
   "metadata": {},
   "outputs": [],
   "source": [
    "data.groupby(by=[\"uu_id\"]).mean()"
   ]
  },
  {
   "cell_type": "code",
   "execution_count": null,
   "id": "37858e20",
   "metadata": {},
   "outputs": [],
   "source": [
    "test = data.groupby(by=[\"uu_id\"]).mean()"
   ]
  },
  {
   "cell_type": "code",
   "execution_count": null,
   "id": "70227e6c",
   "metadata": {},
   "outputs": [],
   "source": [
    "test = data.groupby(by=[\"uu_id\"]).mean()\n",
    "test"
   ]
  },
  {
   "cell_type": "code",
   "execution_count": null,
   "id": "41d53af2",
   "metadata": {},
   "outputs": [],
   "source": [
    "predict = data.groupby(by=[\"uu_id\"]).mean()\n",
    "predict"
   ]
  },
  {
   "cell_type": "code",
   "execution_count": null,
   "id": "43f31e28",
   "metadata": {},
   "outputs": [],
   "source": [
    "data.info()"
   ]
  },
  {
   "cell_type": "code",
   "execution_count": null,
   "id": "e48695c4",
   "metadata": {},
   "outputs": [],
   "source": [
    "data = data['top_category_employer2'].astype(float)"
   ]
  },
  {
   "cell_type": "code",
   "execution_count": null,
   "id": "93aeb01c",
   "metadata": {},
   "outputs": [],
   "source": [
    "data = data['top_category_employer3'].astype(float)"
   ]
  },
  {
   "cell_type": "code",
   "execution_count": null,
   "id": "a1a0d071",
   "metadata": {},
   "outputs": [],
   "source": [
    "data = data['top_category_employer1'].astype(float)"
   ]
  },
  {
   "cell_type": "code",
   "execution_count": null,
   "id": "6efec8d8",
   "metadata": {},
   "outputs": [],
   "source": [
    "data['top_category_employer1'] = data['top_category_employer1'].astype(float)"
   ]
  },
  {
   "cell_type": "code",
   "execution_count": null,
   "id": "68b8ea9a",
   "metadata": {},
   "outputs": [],
   "source": [
    "data['top_category_employer1'].astype(float)"
   ]
  },
  {
   "cell_type": "code",
   "execution_count": null,
   "id": "53b27e12",
   "metadata": {},
   "outputs": [],
   "source": [
    "data['top_category_employer1'].astype(float)"
   ]
  },
  {
   "cell_type": "code",
   "execution_count": null,
   "id": "31f46b40",
   "metadata": {},
   "outputs": [],
   "source": [
    "data = data.fillna(0)"
   ]
  },
  {
   "cell_type": "code",
   "execution_count": null,
   "id": "fdc44f11",
   "metadata": {},
   "outputs": [],
   "source": [
    "data['top_category_employer1'].astype(float)"
   ]
  },
  {
   "cell_type": "code",
   "execution_count": null,
   "id": "80fa29ab",
   "metadata": {},
   "outputs": [],
   "source": [
    "data.info()"
   ]
  },
  {
   "cell_type": "code",
   "execution_count": null,
   "id": "cde82609",
   "metadata": {},
   "outputs": [],
   "source": [
    "data.info()"
   ]
  },
  {
   "cell_type": "code",
   "execution_count": null,
   "id": "0ad29400",
   "metadata": {},
   "outputs": [],
   "source": [
    "data.info"
   ]
  },
  {
   "cell_type": "code",
   "execution_count": null,
   "id": "68392597",
   "metadata": {},
   "outputs": [],
   "source": [
    "import os\n",
    "import pandas\n",
    "from google.cloud import bigquery\n",
    "from google.oauth2 import service_account\n",
    "from google.cloud.bigquery import magics\n",
    "import numpy as np"
   ]
  },
  {
   "cell_type": "code",
   "execution_count": null,
   "id": "f8117c1a",
   "metadata": {},
   "outputs": [],
   "source": [
    "BIGQUERY_PROJECT = 'ironhacks-data'\n",
    "bigquery_client = bigquery.Client(project=BIGQUERY_PROJECT)"
   ]
  },
  {
   "cell_type": "code",
   "execution_count": null,
   "id": "8fd947c4",
   "metadata": {},
   "outputs": [],
   "source": [
    "query = \"\"\"\n",
    "SELECT *\n",
    "FROM `ironhacks-data.ironhacks_competition.unemployment_data`\n",
    "\"\"\""
   ]
  },
  {
   "cell_type": "code",
   "execution_count": null,
   "id": "ac9033b9",
   "metadata": {},
   "outputs": [],
   "source": [
    "# QUERY THE DATA ONCE\n",
    "query_job = bigquery_client.query(query)\n",
    "data = query_job.to_dataframe()\n",
    "data.head()"
   ]
  },
  {
   "cell_type": "code",
   "execution_count": null,
   "id": "e5d30bc2",
   "metadata": {},
   "outputs": [],
   "source": [
    "data.info()"
   ]
  },
  {
   "cell_type": "code",
   "execution_count": null,
   "id": "5e940d52",
   "metadata": {},
   "outputs": [],
   "source": [
    "data[\"top_category_employer1\"] = data[\"top_category_employer1\"].map(lambda x: '32' if x =='31-33' else x)"
   ]
  },
  {
   "cell_type": "code",
   "execution_count": null,
   "id": "9c812445",
   "metadata": {},
   "outputs": [],
   "source": [
    "data[\"top_category_employer1\"] = data[\"top_category_employer1\"].map(lambda x: '44.5' if x =='44-45' else x)"
   ]
  },
  {
   "cell_type": "code",
   "execution_count": null,
   "id": "74afd7d5",
   "metadata": {},
   "outputs": [],
   "source": [
    "data[\"top_category_employer1\"] = data[\"top_category_employer1\"].map(lambda x: '48.5' if x =='48-49' else x)"
   ]
  },
  {
   "cell_type": "code",
   "execution_count": null,
   "id": "8614b995",
   "metadata": {},
   "outputs": [],
   "source": [
    "data[\"top_category_employer1\"] = data[\"top_category_employer1\"].map(lambda x: '0' if x =='N/A' else x)"
   ]
  },
  {
   "cell_type": "code",
   "execution_count": null,
   "id": "b4d5a6f3",
   "metadata": {},
   "outputs": [],
   "source": [
    "data[\"top_category_employer2\"] = data[\"top_category_employer2\"].map(lambda x: '32' if x =='31-33' else x)"
   ]
  },
  {
   "cell_type": "code",
   "execution_count": null,
   "id": "cce197a8",
   "metadata": {},
   "outputs": [],
   "source": [
    "data[\"top_category_employer2\"] = data[\"top_category_employer2\"].map(lambda x: '44.5' if x =='44-45' else x)"
   ]
  },
  {
   "cell_type": "code",
   "execution_count": null,
   "id": "cd183add",
   "metadata": {},
   "outputs": [],
   "source": [
    "data[\"top_category_employer2\"] = data[\"top_category_employer2\"].map(lambda x: '48.5' if x =='48-49' else x)"
   ]
  },
  {
   "cell_type": "code",
   "execution_count": null,
   "id": "0a19403c",
   "metadata": {},
   "outputs": [],
   "source": [
    "data[\"top_category_employer2\"] = data[\"top_category_employer2\"].map(lambda x: '0' if x =='N/A' else x)"
   ]
  },
  {
   "cell_type": "code",
   "execution_count": null,
   "id": "82d33aaa",
   "metadata": {},
   "outputs": [],
   "source": [
    "data[\"top_category_employer3\"] = data[\"top_category_employer3\"].map(lambda x: '32' if x =='31-33' else x)"
   ]
  },
  {
   "cell_type": "code",
   "execution_count": null,
   "id": "2ecad242",
   "metadata": {},
   "outputs": [],
   "source": [
    "data[\"top_category_employer3\"] = data[\"top_category_employer3\"].map(lambda x: '44.5' if x =='44-45' else x)"
   ]
  },
  {
   "cell_type": "code",
   "execution_count": null,
   "id": "a2682565",
   "metadata": {},
   "outputs": [],
   "source": [
    "data[\"top_category_employer3\"] = data[\"top_category_employer3\"].map(lambda x: '48.5' if x =='48-49' else x)"
   ]
  },
  {
   "cell_type": "code",
   "execution_count": null,
   "id": "2592baab",
   "metadata": {},
   "outputs": [],
   "source": [
    "data[\"top_category_employer3\"] = data[\"top_category_employer3\"].map(lambda x: '0' if x =='N/A' else x)"
   ]
  },
  {
   "cell_type": "code",
   "execution_count": null,
   "id": "be75853d",
   "metadata": {},
   "outputs": [],
   "source": [
    "data = data.fillna(0)"
   ]
  },
  {
   "cell_type": "code",
   "execution_count": null,
   "id": "b8da9955",
   "metadata": {},
   "outputs": [],
   "source": [
    "data['top_category_employer1'].astype(float)"
   ]
  },
  {
   "cell_type": "code",
   "execution_count": null,
   "id": "d484a735",
   "metadata": {},
   "outputs": [],
   "source": [
    "data = data['top_category_employer2'].astype(float)"
   ]
  },
  {
   "cell_type": "code",
   "execution_count": null,
   "id": "8ba551af",
   "metadata": {},
   "outputs": [],
   "source": [
    "data = data['top_category_employer3'].astype(float)"
   ]
  },
  {
   "cell_type": "code",
   "execution_count": null,
   "id": "2f6a9ef0",
   "metadata": {},
   "outputs": [],
   "source": [
    "get_ipython().system('pip install db-dtypes')"
   ]
  },
  {
   "cell_type": "code",
   "execution_count": null,
   "id": "806db2b3",
   "metadata": {},
   "outputs": [],
   "source": [
    "import os\n",
    "import pandas\n",
    "from google.cloud import bigquery\n",
    "from google.oauth2 import service_account\n",
    "from google.cloud.bigquery import magics\n",
    "import numpy as np"
   ]
  },
  {
   "cell_type": "code",
   "execution_count": null,
   "id": "8c4f7bff",
   "metadata": {},
   "outputs": [],
   "source": [
    "BIGQUERY_PROJECT = 'ironhacks-data'\n",
    "bigquery_client = bigquery.Client(project=BIGQUERY_PROJECT)"
   ]
  },
  {
   "cell_type": "code",
   "execution_count": null,
   "id": "e1b86e94",
   "metadata": {},
   "outputs": [],
   "source": [
    "query = \"\"\"\n",
    "SELECT *\n",
    "FROM `ironhacks-data.ironhacks_competition.unemployment_data`\n",
    "\"\"\""
   ]
  },
  {
   "cell_type": "code",
   "execution_count": null,
   "id": "83ab0622",
   "metadata": {},
   "outputs": [],
   "source": [
    "# QUERY THE DATA ONCE\n",
    "query_job = bigquery_client.query(query)\n",
    "data = query_job.to_dataframe()\n",
    "data.head()"
   ]
  },
  {
   "cell_type": "code",
   "execution_count": null,
   "id": "bf803509",
   "metadata": {},
   "outputs": [],
   "source": [
    "data.info()"
   ]
  },
  {
   "cell_type": "code",
   "execution_count": null,
   "id": "23dbf65a",
   "metadata": {},
   "outputs": [],
   "source": [
    "data[\"top_category_employer1\"] = data[\"top_category_employer1\"].map(lambda x: '32' if x =='31-33' else x)"
   ]
  },
  {
   "cell_type": "code",
   "execution_count": null,
   "id": "e1cee0fc",
   "metadata": {},
   "outputs": [],
   "source": [
    "data[\"top_category_employer1\"] = data[\"top_category_employer1\"].map(lambda x: '44.5' if x =='44-45' else x)"
   ]
  },
  {
   "cell_type": "code",
   "execution_count": null,
   "id": "cabb15d9",
   "metadata": {},
   "outputs": [],
   "source": [
    "data[\"top_category_employer1\"] = data[\"top_category_employer1\"].map(lambda x: '48.5' if x =='48-49' else x)"
   ]
  },
  {
   "cell_type": "code",
   "execution_count": null,
   "id": "c913f348",
   "metadata": {},
   "outputs": [],
   "source": [
    "data[\"top_category_employer1\"] = data[\"top_category_employer1\"].map(lambda x: '0' if x =='N/A' else x)"
   ]
  },
  {
   "cell_type": "code",
   "execution_count": null,
   "id": "95bc79de",
   "metadata": {},
   "outputs": [],
   "source": [
    "data[\"top_category_employer2\"] = data[\"top_category_employer2\"].map(lambda x: '32' if x =='31-33' else x)"
   ]
  },
  {
   "cell_type": "code",
   "execution_count": null,
   "id": "a718b560",
   "metadata": {},
   "outputs": [],
   "source": [
    "data[\"top_category_employer2\"] = data[\"top_category_employer2\"].map(lambda x: '44.5' if x =='44-45' else x)"
   ]
  },
  {
   "cell_type": "code",
   "execution_count": null,
   "id": "bb877616",
   "metadata": {},
   "outputs": [],
   "source": [
    "data[\"top_category_employer2\"] = data[\"top_category_employer2\"].map(lambda x: '48.5' if x =='48-49' else x)"
   ]
  },
  {
   "cell_type": "code",
   "execution_count": null,
   "id": "67fcf39d",
   "metadata": {},
   "outputs": [],
   "source": [
    "data[\"top_category_employer2\"] = data[\"top_category_employer2\"].map(lambda x: '0' if x =='N/A' else x)"
   ]
  },
  {
   "cell_type": "code",
   "execution_count": null,
   "id": "bb65c3f9",
   "metadata": {},
   "outputs": [],
   "source": [
    "data[\"top_category_employer3\"] = data[\"top_category_employer3\"].map(lambda x: '32' if x =='31-33' else x)"
   ]
  },
  {
   "cell_type": "code",
   "execution_count": null,
   "id": "66c1a668",
   "metadata": {},
   "outputs": [],
   "source": [
    "data[\"top_category_employer3\"] = data[\"top_category_employer3\"].map(lambda x: '44.5' if x =='44-45' else x)"
   ]
  },
  {
   "cell_type": "code",
   "execution_count": null,
   "id": "3c1c56d6",
   "metadata": {},
   "outputs": [],
   "source": [
    "data[\"top_category_employer3\"] = data[\"top_category_employer3\"].map(lambda x: '48.5' if x =='48-49' else x)"
   ]
  },
  {
   "cell_type": "code",
   "execution_count": null,
   "id": "35379919",
   "metadata": {},
   "outputs": [],
   "source": [
    "data[\"top_category_employer3\"] = data[\"top_category_employer3\"].map(lambda x: '0' if x =='N/A' else x)"
   ]
  },
  {
   "cell_type": "code",
   "execution_count": null,
   "id": "110d8fa8",
   "metadata": {},
   "outputs": [],
   "source": [
    "data = data.fillna(0)"
   ]
  },
  {
   "cell_type": "code",
   "execution_count": null,
   "id": "6af7dced",
   "metadata": {},
   "outputs": [],
   "source": [
    "data['top_category_employer1'].astype(float)"
   ]
  },
  {
   "cell_type": "code",
   "execution_count": null,
   "id": "f5d2f853",
   "metadata": {},
   "outputs": [],
   "source": [
    "query = \"\"\"\n",
    "SELECT *\n",
    "FROM `ironhacks-data.ironhacks_competition.wage_data`\n",
    "\"\"\""
   ]
  },
  {
   "cell_type": "code",
   "execution_count": null,
   "id": "10c2720e",
   "metadata": {},
   "outputs": [],
   "source": [
    "# QUERY THE DATA ONCE\n",
    "query_job = bigquery_client.query(query)\n",
    "wage_data = query_job.to_dataframe()\n",
    "wage_data.head()"
   ]
  },
  {
   "cell_type": "code",
   "execution_count": null,
   "id": "49204203",
   "metadata": {},
   "outputs": [],
   "source": [
    "query = \"\"\"\n",
    "SELECT *\n",
    "FROM `ironhacks-data.ironhacks_competition.prediction_list`\n",
    "\"\"\""
   ]
  },
  {
   "cell_type": "code",
   "execution_count": null,
   "id": "f932f808",
   "metadata": {},
   "outputs": [],
   "source": [
    "# QUERY THE DATA ONCE\n",
    "query_job = bigquery_client.query(query)\n",
    "predict = query_job.to_dataframe()\n",
    "predict.head()"
   ]
  },
  {
   "cell_type": "code",
   "execution_count": null,
   "id": "6bc5dc51",
   "metadata": {},
   "outputs": [],
   "source": [
    "predict = data.groupby(by=[\"uu_id\"]).mean()\n",
    "predict"
   ]
  },
  {
   "cell_type": "code",
   "execution_count": null,
   "id": "45247501",
   "metadata": {},
   "outputs": [],
   "source": [
    "data.info"
   ]
  },
  {
   "cell_type": "code",
   "execution_count": null,
   "id": "a3d10fd0",
   "metadata": {},
   "outputs": [],
   "source": [
    "X_train = data[\"\"]"
   ]
  },
  {
   "cell_type": "code",
   "execution_count": null,
   "id": "25e96f61",
   "metadata": {},
   "outputs": [],
   "source": [
    "data.info()"
   ]
  },
  {
   "cell_type": "code",
   "execution_count": null,
   "id": "5ac27689",
   "metadata": {},
   "outputs": [],
   "source": [
    "X_train = data[\"edu_8th_or_less\", \"edu_grades_9_11\", \"edu_hs_grad_equiv\", \"gender_female\", gender_male, ]X_train = data[\"edu_8th_or_less\", \"edu_grades_9_11\", \"edu_hs_grad_equiv\", \"gender_female\", \"gender_male\", \"race_amerindian\", \"race_asian\", \"race_black\", \"race_noanswer\", \"race_hawaiiannative\", \"race_other\", \"race_white\"]"
   ]
  },
  {
   "cell_type": "code",
   "execution_count": null,
   "id": "62e9f1dc",
   "metadata": {},
   "outputs": [],
   "source": [
    "X_train = data[[\"edu_8th_or_less\", \"edu_grades_9_11\", \"edu_hs_grad_equiv\", \"gender_female\", gender_male, ]X_train = data[\"edu_8th_or_less\", \"edu_grades_9_11\", \"edu_hs_grad_equiv\", \"gender_female\", \"gender_male\", \"race_amerindian\", \"race_asian\", \"race_black\", \"race_noanswer\", \"race_hawaiiannative\", \"race_other\", \"race_white\"]]"
   ]
  },
  {
   "cell_type": "code",
   "execution_count": null,
   "id": "ae797aad",
   "metadata": {},
   "outputs": [],
   "source": [
    "X_train = data[[\"edu_8th_or_less\", \"edu_grades_9_11\", \"edu_hs_grad_equiv\", \"gender_female\", gender_male, ]X_train = data[\"edu_8th_or_less\", \"edu_grades_9_11\", \"edu_hs_grad_equiv\", \"gender_female\", \"gender_male\", \"race_amerindian\", \"race_asian\", \"race_black\", \"race_noanswer\", \"race_hawaiiannative\", \"race_other\", \"race_white\"]]"
   ]
  },
  {
   "cell_type": "code",
   "execution_count": null,
   "id": "53dcb4a8",
   "metadata": {},
   "outputs": [],
   "source": [
    "X_train = data[[\"edu_8th_or_less\", \"edu_grades_9_11\", \"edu_hs_grad_equiv\", \"gender_female\", gender_male, ]X_train = data[\"edu_8th_or_less\", \"edu_grades_9_11\", \"edu_hs_grad_equiv\", \"gender_female\", \"gender_male\", \"race_amerindian\", \"race_asian\", \"race_black\", \"race_noanswer\", \"race_hawaiiannative\", \"race_other\", \"race_white\"]]"
   ]
  },
  {
   "cell_type": "code",
   "execution_count": null,
   "id": "eab42675",
   "metadata": {},
   "outputs": [],
   "source": [
    "X_train = data.iloc[:, 7:24]"
   ]
  },
  {
   "cell_type": "code",
   "execution_count": null,
   "id": "c396f41b",
   "metadata": {},
   "outputs": [],
   "source": [
    "y_train = data[\"total_claims\"]"
   ]
  },
  {
   "cell_type": "code",
   "execution_count": null,
   "id": "66809d6b",
   "metadata": {},
   "outputs": [],
   "source": [
    "from sklearn.linear_model import LinearRegression"
   ]
  },
  {
   "cell_type": "code",
   "execution_count": null,
   "id": "777194f9",
   "metadata": {},
   "outputs": [],
   "source": [
    "model = LinearRegression().fit(X_train, y_train)"
   ]
  },
  {
   "cell_type": "code",
   "execution_count": null,
   "id": "a871859e",
   "metadata": {},
   "outputs": [],
   "source": [
    "model.predict(X_test = predict.iloc[:, 7:24])"
   ]
  },
  {
   "cell_type": "code",
   "execution_count": null,
   "id": "c5a3f889",
   "metadata": {},
   "outputs": [],
   "source": [
    "model.predict(X_test = predict.iloc[:, 7:24])"
   ]
  },
  {
   "cell_type": "code",
   "execution_count": null,
   "id": "7271eb60",
   "metadata": {},
   "outputs": [],
   "source": [
    "model.predict(X_test = predict.iloc[:, 7:24])"
   ]
  },
  {
   "cell_type": "code",
   "execution_count": null,
   "id": "c5444a37",
   "metadata": {},
   "outputs": [],
   "source": [
    "model.predict(X_test)"
   ]
  },
  {
   "cell_type": "code",
   "execution_count": null,
   "id": "ad08a9db",
   "metadata": {},
   "outputs": [],
   "source": [
    "X_test = predict.iloc[:, 7:24]"
   ]
  },
  {
   "cell_type": "code",
   "execution_count": null,
   "id": "d03cc8ca",
   "metadata": {},
   "outputs": [],
   "source": [
    "model.predict(X_test)"
   ]
  },
  {
   "cell_type": "code",
   "execution_count": null,
   "id": "f9a67066",
   "metadata": {},
   "outputs": [],
   "source": [
    "X_test = predict.iloc[:, 7:24]"
   ]
  },
  {
   "cell_type": "code",
   "execution_count": null,
   "id": "1a056a7c",
   "metadata": {},
   "outputs": [],
   "source": [
    "model.predict(X_test)"
   ]
  },
  {
   "cell_type": "code",
   "execution_count": null,
   "id": "a65336b2",
   "metadata": {
    "lines_to_next_cell": 2
   },
   "outputs": [],
   "source": [
    "X_test"
   ]
  }
 ],
 "metadata": {
  "jupytext": {
   "cell_metadata_filter": "-all",
   "main_language": "python",
   "notebook_metadata_filter": "-all"
  }
 },
 "nbformat": 4,
 "nbformat_minor": 5
}
