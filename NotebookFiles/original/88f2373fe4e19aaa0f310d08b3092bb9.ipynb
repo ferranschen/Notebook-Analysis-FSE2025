{
 "cells": [
  {
   "cell_type": "code",
   "execution_count": null,
   "id": "59b6af19",
   "metadata": {},
   "outputs": [],
   "source": [
    "import pandas as pd\n",
    "import numpy as np\n",
    "import matplotlib\n",
    "import matplotlib.pyplot as plt\n",
    "import seaborn as sns\n",
    "get_ipython().run_line_magic('matplotlib', 'inline')"
   ]
  },
  {
   "cell_type": "code",
   "execution_count": null,
   "id": "22495161",
   "metadata": {},
   "outputs": [],
   "source": [
    "import os\n",
    "from google.cloud import bigquery\n",
    "from google.oauth2 import service_account\n",
    "from google.cloud.bigquery import magics"
   ]
  },
  {
   "cell_type": "code",
   "execution_count": null,
   "id": "358f692e",
   "metadata": {},
   "outputs": [],
   "source": [
    "BIGQUERY_PROJECT = 'ironhacks-data'\n",
    "bigquery_client = bigquery.Client(project=BIGQUERY_PROJECT)"
   ]
  },
  {
   "cell_type": "code",
   "execution_count": null,
   "id": "02dffa24",
   "metadata": {},
   "outputs": [],
   "source": [
    "query = \"\"\"\n",
    "SELECT *\n",
    "FROM `ironhacks-data.ironhacks_competition.unemployment_data`\n",
    "\"\"\""
   ]
  },
  {
   "cell_type": "code",
   "execution_count": null,
   "id": "b33efa48",
   "metadata": {},
   "outputs": [],
   "source": [
    "query_job = bigquery_client.query(query)\n",
    "unemployment_data = query_job.to_dataframe()\n",
    "unemployment_data.head(3)"
   ]
  },
  {
   "cell_type": "code",
   "execution_count": null,
   "id": "4813e61b",
   "metadata": {},
   "outputs": [],
   "source": [
    "query = \"\"\"\n",
    "SELECT *\n",
    "FROM `ironhacks-data.ironhacks_competition.wage_data`\n",
    "\"\"\""
   ]
  },
  {
   "cell_type": "code",
   "execution_count": null,
   "id": "d0efbfea",
   "metadata": {},
   "outputs": [],
   "source": [
    "query_job = bigquery_client.query(query)\n",
    "wage_data = query_job.to_dataframe()\n",
    "wage_data.head(3)"
   ]
  },
  {
   "cell_type": "code",
   "execution_count": null,
   "id": "c7533f9f",
   "metadata": {},
   "outputs": [],
   "source": [
    "query = \"\"\"\n",
    "SELECT *\n",
    "FROM `ironhacks-data.ironhacks_competition.prediction_list`\n",
    "\"\"\""
   ]
  },
  {
   "cell_type": "code",
   "execution_count": null,
   "id": "9a0335a7",
   "metadata": {},
   "outputs": [],
   "source": [
    "query_job = bigquery_client.query(query)\n",
    "prediction_data = query_job.to_dataframe()\n",
    "prediction_data.head(3)"
   ]
  },
  {
   "cell_type": "code",
   "execution_count": null,
   "id": "d662d66e",
   "metadata": {},
   "outputs": [],
   "source": [
    "query = \"\"\"\n",
    "SELECT * FROM `ironhacks-data.ironhacks_competition.INFORMATION_SCHEMA.TABLES`\n",
    "\"\"\""
   ]
  },
  {
   "cell_type": "code",
   "execution_count": null,
   "id": "3fe10cf5",
   "metadata": {},
   "outputs": [],
   "source": [
    "query_job = bigquery_client.query(query)\n",
    "information_data = query_job.to_dataframe()\n",
    "information_data.head(3)"
   ]
  },
  {
   "cell_type": "code",
   "execution_count": null,
   "id": "8ebfb99c",
   "metadata": {},
   "outputs": [],
   "source": [
    "print(f\"size of unemployment_data: {len(unemployment_data)}\")\n",
    "print(f\"size of wage_data: {len(wage_data)}\")\n",
    "print(f\"size of prediction_data: {len(prediction_data)}\")"
   ]
  },
  {
   "cell_type": "code",
   "execution_count": null,
   "id": "6ae61349",
   "metadata": {},
   "outputs": [],
   "source": [
    "unemployment_data.dtypes"
   ]
  },
  {
   "cell_type": "code",
   "execution_count": null,
   "id": "ffa9726b",
   "metadata": {},
   "outputs": [],
   "source": [
    "plt.figure(figsize=(12,10))\n",
    "cor = unemployment_data.corr()\n",
    "sns.heatmap(cor, annot=True, cmap=plt.cm.Reds)\n",
    "plt.show()"
   ]
  },
  {
   "cell_type": "code",
   "execution_count": null,
   "id": "3ae7c003",
   "metadata": {},
   "outputs": [],
   "source": [
    "#Correlation with output variable\n",
    "cor_target = abs(cor[\"total_claims\"])\n",
    "#Selecting highly correlated features\n",
    "relevant_features = cor_target[cor_target>0.5]\n",
    "print(relevant_features)"
   ]
  },
  {
   "cell_type": "code",
   "execution_count": null,
   "id": "e4f7d7be",
   "metadata": {},
   "outputs": [],
   "source": [
    "unemployment_data = unemployment_data.set_index('timeperiod')"
   ]
  },
  {
   "cell_type": "code",
   "execution_count": null,
   "id": "de628ec2",
   "metadata": {},
   "outputs": [],
   "source": [
    "X = unemployment_data.drop([\"uu_id\", \"weak_number\"], axis=1)\n",
    "X_cor = unemployment_data[[\"edu_hs_grad_equiv\", \"edu_post_hs\",\n",
    "                           \"gender_female\", \"gender_male\",\n",
    "                           \"race_black\", \"race_white\"]]\n",
    "y = unemployment_data[\"total_claims\"]"
   ]
  },
  {
   "cell_type": "code",
   "execution_count": null,
   "id": "b995832d",
   "metadata": {},
   "outputs": [],
   "source": [
    "X = unemployment_data.drop([\"uu_id\", \"week_number\"], axis=1)\n",
    "X_cor = unemployment_data[[\"edu_hs_grad_equiv\", \"edu_post_hs\",\n",
    "                           \"gender_female\", \"gender_male\",\n",
    "                           \"race_black\", \"race_white\"]]\n",
    "y = unemployment_data[\"total_claims\"]"
   ]
  },
  {
   "cell_type": "code",
   "execution_count": null,
   "id": "ce7efd05",
   "metadata": {},
   "outputs": [],
   "source": [
    "from sklearn.linear_model import LinearRegression\n",
    "model = LinearRegression()\n",
    "model.fit(X,y)"
   ]
  },
  {
   "cell_type": "code",
   "execution_count": null,
   "id": "c9ab9180",
   "metadata": {},
   "outputs": [],
   "source": [
    "from sklearn.linear_model import LinearRegression\n",
    "model = LinearRegression()\n",
    "model.fit(X_cor,y)"
   ]
  },
  {
   "cell_type": "code",
   "execution_count": null,
   "id": "de3634a7",
   "metadata": {},
   "outputs": [],
   "source": [
    "from sklearn.impute import SimpleImputer\n",
    "imp = SimpleImputer(missing_values=np.nan, strategy='mean')\n",
    "imp.fit_transform(X_cor, y)"
   ]
  },
  {
   "cell_type": "code",
   "execution_count": null,
   "id": "f4d39428",
   "metadata": {},
   "outputs": [],
   "source": [
    "from sklearn.linear_model import LinearRegression\n",
    "model = LinearRegression()\n",
    "model.fit(X_cor,y)"
   ]
  },
  {
   "cell_type": "code",
   "execution_count": null,
   "id": "05132aaf",
   "metadata": {},
   "outputs": [],
   "source": [
    "from sklearn.impute import SimpleImputer\n",
    "imp = SimpleImputer(missing_values=np.nan, strategy='mean')\n",
    "imp.fit_transform(X_cor)"
   ]
  },
  {
   "cell_type": "code",
   "execution_count": null,
   "id": "6fc3dc51",
   "metadata": {},
   "outputs": [],
   "source": [
    "from sklearn.impute import SimpleImputer\n",
    "imp = SimpleImputer(missing_values=np.nan, strategy='mean')\n",
    "X_cor = imp.fit_transform(X_cor)"
   ]
  },
  {
   "cell_type": "code",
   "execution_count": null,
   "id": "c6d25783",
   "metadata": {},
   "outputs": [],
   "source": [
    "from sklearn.linear_model import LinearRegression\n",
    "model = LinearRegression()\n",
    "model.fit(X_cor,y)"
   ]
  },
  {
   "cell_type": "code",
   "execution_count": null,
   "id": "77600369",
   "metadata": {},
   "outputs": [],
   "source": [
    "y_pred = pd.Series(model.predict(X), index=X.index)"
   ]
  },
  {
   "cell_type": "code",
   "execution_count": null,
   "id": "c4daf725",
   "metadata": {},
   "outputs": [],
   "source": [
    "y_pred = pd.Series(model.predict(X_xor), index=X_cor.index)"
   ]
  },
  {
   "cell_type": "code",
   "execution_count": null,
   "id": "9ed7e194",
   "metadata": {},
   "outputs": [],
   "source": [
    "y_pred = pd.Series(model.predict(X_cor), index=X_cor.index)"
   ]
  },
  {
   "cell_type": "code",
   "execution_count": null,
   "id": "21bafec9",
   "metadata": {},
   "outputs": [],
   "source": [
    "y_pred = pd.Series(model.predict(X_cor))"
   ]
  },
  {
   "cell_type": "code",
   "execution_count": null,
   "id": "03cb0973",
   "metadata": {},
   "outputs": [],
   "source": [
    "# y_pred = pd.Series(model.predict(X_cor), index=X_cor.index)\n",
    "y_pred = pd.Series(model.predict(X_cor))"
   ]
  },
  {
   "cell_type": "code",
   "execution_count": null,
   "id": "16d1ee3f",
   "metadata": {},
   "outputs": [],
   "source": [
    "ax = y.plot(alpha=0.5)\n",
    "ax = y_pred.plot(ax=ax, linewidth=3)"
   ]
  },
  {
   "cell_type": "code",
   "execution_count": null,
   "id": "fac7b3ad",
   "metadata": {},
   "outputs": [],
   "source": [
    "y_pred = pd.Series(model.predict(X_cor), index=X.index)\n",
    "# y_pred = pd.Series(model.predict(X_cor))"
   ]
  },
  {
   "cell_type": "code",
   "execution_count": null,
   "id": "cf73936a",
   "metadata": {},
   "outputs": [],
   "source": [
    "ax = y.plot(alpha=0.5)\n",
    "ax = y_pred.plot(ax=ax, linewidth=3)"
   ]
  },
  {
   "cell_type": "code",
   "execution_count": null,
   "id": "00cd8edb",
   "metadata": {},
   "outputs": [],
   "source": [
    "X = unemployment_data.drop([\"uu_id\", \"week_number\"], axis=1)\n",
    "X_cor = unemployment_data[[\"uu_id\", \"week_number\"\n",
    "                           \"edu_hs_grad_equiv\", \"edu_post_hs\",\n",
    "                           \"gender_female\", \"gender_male\",\n",
    "                           \"race_black\", \"race_white\"]]\n",
    "y = unemployment_data[\"total_claims\"]"
   ]
  },
  {
   "cell_type": "code",
   "execution_count": null,
   "id": "0a5cfb92",
   "metadata": {},
   "outputs": [],
   "source": [
    "y_pred = pd.Series(model.predict(X_cor), index=X.index)"
   ]
  },
  {
   "cell_type": "code",
   "execution_count": null,
   "id": "929fd3bc",
   "metadata": {},
   "outputs": [],
   "source": [
    "from sklearn.preprocessing import OneHotEncoder\n",
    "enc = OneHotEncoder()\n",
    "X = enc.fit_transform(data[\"uu_id\", \"tract_name\",\n",
    "                           \"top_category_employer1\",\n",
    "                           \"top_category_employer2\",\n",
    "                           \"top_category_employer3\"])"
   ]
  },
  {
   "cell_type": "code",
   "execution_count": null,
   "id": "ee9bbe10",
   "metadata": {},
   "outputs": [],
   "source": [
    "from sklearn.preprocessing import OneHotEncoder\n",
    "enc = OneHotEncoder()\n",
    "X = enc.fit_transform(unemployment_data[\"uu_id\", \"tract_name\",\n",
    "                           \"top_category_employer1\",\n",
    "                           \"top_category_employer2\",\n",
    "                           \"top_category_employer3\"])"
   ]
  },
  {
   "cell_type": "code",
   "execution_count": null,
   "id": "62c18afe",
   "metadata": {},
   "outputs": [],
   "source": [
    "from sklearn.preprocessing import OneHotEncoder\n",
    "enc = OneHotEncoder()\n",
    "X = enc.fit_transform(unemployment_data[[\"uu_id\", \"tract_name\",\n",
    "                           \"top_category_employer1\",\n",
    "                           \"top_category_employer2\",\n",
    "                           \"top_category_employer3\"]])"
   ]
  },
  {
   "cell_type": "code",
   "execution_count": null,
   "id": "499e8770",
   "metadata": {},
   "outputs": [],
   "source": [
    "plt.figure(figsize=(12,10))\n",
    "cor = X.corr()\n",
    "sns.heatmap(cor, annot=True, cmap=plt.cm.Reds)\n",
    "plt.show()"
   ]
  },
  {
   "cell_type": "code",
   "execution_count": null,
   "id": "9ce636fb",
   "metadata": {},
   "outputs": [],
   "source": [
    "plt.figure(figsize=(12,10))\n",
    "cor = pd.dataFrame(X).corr()\n",
    "sns.heatmap(cor, annot=True, cmap=plt.cm.Reds)\n",
    "plt.show()"
   ]
  },
  {
   "cell_type": "code",
   "execution_count": null,
   "id": "2f185857",
   "metadata": {},
   "outputs": [],
   "source": [
    "plt.figure(figsize=(12,10))\n",
    "cor = pd.dataframe(X).corr()\n",
    "sns.heatmap(cor, annot=True, cmap=plt.cm.Reds)\n",
    "plt.show()"
   ]
  },
  {
   "cell_type": "code",
   "execution_count": null,
   "id": "e5faaf3a",
   "metadata": {},
   "outputs": [],
   "source": [
    "plt.figure(figsize=(12,10))\n",
    "cor = pd.DataFrame(X).corr()\n",
    "sns.heatmap(cor, annot=True, cmap=plt.cm.Reds)\n",
    "plt.show()"
   ]
  },
  {
   "cell_type": "code",
   "execution_count": null,
   "id": "65eb7825",
   "metadata": {},
   "outputs": [],
   "source": [
    "X = pd.get_dummies(df, prefix=['col1', 'col2'])"
   ]
  },
  {
   "cell_type": "code",
   "execution_count": null,
   "id": "36214d0e",
   "metadata": {},
   "outputs": [],
   "source": [
    "X = pd.get_dummies(unemployment_data, prefix=['col1', 'col2'])"
   ]
  },
  {
   "cell_type": "code",
   "execution_count": null,
   "id": "888ada3e",
   "metadata": {},
   "outputs": [],
   "source": [
    "X = pd.get_dummies(unemployment_data)"
   ]
  },
  {
   "cell_type": "code",
   "execution_count": null,
   "id": "7b9ac255",
   "metadata": {
    "lines_to_next_cell": 2
   },
   "outputs": [],
   "source": [
    "plt.figure(figsize=(12,10))\n",
    "cor = X.corr()\n",
    "sns.heatmap(cor, annot=True, cmap=plt.cm.Reds)\n",
    "plt.show()"
   ]
  }
 ],
 "metadata": {
  "jupytext": {
   "cell_metadata_filter": "-all",
   "main_language": "python",
   "notebook_metadata_filter": "-all"
  }
 },
 "nbformat": 4,
 "nbformat_minor": 5
}
