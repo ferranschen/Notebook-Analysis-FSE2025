{
 "cells": [
  {
   "cell_type": "code",
   "execution_count": null,
   "id": "3d55e7a6",
   "metadata": {},
   "outputs": [],
   "source": [
    "get_ipython().run_cell_magic('capture', 'cont', '!pip install db-dtypes\\n')"
   ]
  },
  {
   "cell_type": "code",
   "execution_count": null,
   "id": "0caef1e5",
   "metadata": {},
   "outputs": [],
   "source": [
    "cont.show()"
   ]
  },
  {
   "cell_type": "code",
   "execution_count": null,
   "id": "f2ec1f72",
   "metadata": {},
   "outputs": [],
   "source": [
    "import pandas as pd\n",
    "import numpy as np\n",
    "import matplotlib\n",
    "import matplotlib.pyplot as plt\n",
    "import seaborn as sns\n",
    "get_ipython().run_line_magic('matplotlib', 'inline')"
   ]
  },
  {
   "cell_type": "code",
   "execution_count": null,
   "id": "cfd8f975",
   "metadata": {},
   "outputs": [],
   "source": [
    "import os\n",
    "from google.cloud import bigquery\n",
    "from google.oauth2 import service_account\n",
    "from google.cloud.bigquery import magics"
   ]
  },
  {
   "cell_type": "code",
   "execution_count": null,
   "id": "94e5a5d1",
   "metadata": {},
   "outputs": [],
   "source": [
    "import statsmodels.api as sm\n",
    "import itertools"
   ]
  },
  {
   "cell_type": "markdown",
   "id": "60ffaf52",
   "metadata": {},
   "source": [
    "CONFIGURE THE BIGQUERY SETTINGS"
   ]
  },
  {
   "cell_type": "code",
   "execution_count": null,
   "id": "f29efa9c",
   "metadata": {},
   "outputs": [],
   "source": [
    "BIGQUERY_PROJECT = 'ironhacks-data'\n",
    "bigquery_client = bigquery.Client(project=BIGQUERY_PROJECT)"
   ]
  },
  {
   "cell_type": "code",
   "execution_count": null,
   "id": "363e8bb5",
   "metadata": {},
   "outputs": [],
   "source": [
    "#obtaining the unemployment data\n",
    "query = \"\"\"\n",
    "SELECT *\n",
    "FROM `ironhacks-data.ironhacks_competition.unemployment_data`\n",
    "\"\"\""
   ]
  },
  {
   "cell_type": "code",
   "execution_count": null,
   "id": "9163184c",
   "metadata": {},
   "outputs": [],
   "source": [
    "# QUERY THE DATA ONCE\n",
    "query_job = bigquery_client.query(query)\n",
    "data = query_job.to_dataframe()\n",
    "#data['date']= pd.to_datetime(data['date'])\n",
    "data.head()"
   ]
  },
  {
   "cell_type": "code",
   "execution_count": null,
   "id": "e1f9b091",
   "metadata": {},
   "outputs": [],
   "source": [
    "#obtaining the submission file\n",
    "query = \"\"\"\n",
    "SELECT *\n",
    "FROM `ironhacks-data.ironhacks_competition.prediction_list`\n",
    "\"\"\""
   ]
  },
  {
   "cell_type": "code",
   "execution_count": null,
   "id": "a0dd6ad8",
   "metadata": {},
   "outputs": [],
   "source": [
    "# QUERY THE DATA ONCE\n",
    "query_job = bigquery_client.query(query)\n",
    "submit = query_job.to_dataframe()\n",
    "#data['date']= pd.to_datetime(data['date'])\n",
    "submit.head()"
   ]
  },
  {
   "cell_type": "code",
   "execution_count": null,
   "id": "f57add2e",
   "metadata": {},
   "outputs": [],
   "source": [
    "data.info()   #Feature Matrix\n",
    "#X = data.drop(\"date\",1)\n",
    "#y = data[\"wind_speed\"]          #Target Variable"
   ]
  },
  {
   "cell_type": "code",
   "execution_count": null,
   "id": "6ed9308b",
   "metadata": {},
   "outputs": [],
   "source": [
    "submit.info()"
   ]
  },
  {
   "cell_type": "markdown",
   "id": "aa65899b",
   "metadata": {},
   "source": [
    "dropping duplicate rows in the data"
   ]
  },
  {
   "cell_type": "code",
   "execution_count": null,
   "id": "a7fafea2",
   "metadata": {},
   "outputs": [],
   "source": [
    "data.drop_duplicates(inplace=True, ignore_index=True)\n",
    "data.info()"
   ]
  },
  {
   "cell_type": "markdown",
   "id": "2a86e3d7",
   "metadata": {},
   "source": [
    "unique number of ID in the data"
   ]
  },
  {
   "cell_type": "code",
   "execution_count": null,
   "id": "bc0bc175",
   "metadata": {},
   "outputs": [],
   "source": [
    "data.uu_id.unique().size"
   ]
  },
  {
   "cell_type": "markdown",
   "id": "6c4fe6dd",
   "metadata": {},
   "source": [
    "replace all na values with 0"
   ]
  },
  {
   "cell_type": "code",
   "execution_count": null,
   "id": "aec91e45",
   "metadata": {},
   "outputs": [],
   "source": [
    "data.fillna(0, inplace=True)"
   ]
  },
  {
   "cell_type": "code",
   "execution_count": null,
   "id": "f5d3049b",
   "metadata": {},
   "outputs": [],
   "source": [
    "data.info()"
   ]
  },
  {
   "cell_type": "markdown",
   "id": "8a81b93b",
   "metadata": {},
   "source": [
    "number of weeks in the data for a random ID"
   ]
  },
  {
   "cell_type": "code",
   "execution_count": null,
   "id": "4528f329",
   "metadata": {},
   "outputs": [],
   "source": [
    "test=data[data['uu_id']=='bbcb018f0e5e49e13636f6e78ce9f60f']\n",
    "len(test)"
   ]
  },
  {
   "cell_type": "markdown",
   "id": "05d7cbf9",
   "metadata": {},
   "source": [
    "convert the timeperiod column to datetime"
   ]
  },
  {
   "cell_type": "code",
   "execution_count": null,
   "id": "d43873d9",
   "metadata": {},
   "outputs": [],
   "source": [
    "data['timeperiod']= pd.to_datetime(data['timeperiod'], format='%Y%m%d')"
   ]
  },
  {
   "cell_type": "code",
   "execution_count": null,
   "id": "fcf170f4",
   "metadata": {},
   "outputs": [],
   "source": [
    "plt.figure(figsize=(12,10))\n",
    "cor = data.corr()\n",
    "sns.heatmap(cor,  cmap=plt.cm.Reds)\n",
    "plt.show()"
   ]
  },
  {
   "cell_type": "code",
   "execution_count": null,
   "id": "44ea0999",
   "metadata": {},
   "outputs": [],
   "source": [
    "#Correlation with output variable\n",
    "cor_target = abs(cor[\"total_claims\"])\n",
    "#Selecting highly correlated features\n",
    "relevant_features = cor_target[cor_target>0.2]\n",
    "print(relevant_features)"
   ]
  },
  {
   "cell_type": "code",
   "execution_count": null,
   "id": "882fa0c1",
   "metadata": {},
   "outputs": [],
   "source": [
    "columns_rel = relevant_features.index.to_list()"
   ]
  },
  {
   "cell_type": "code",
   "execution_count": null,
   "id": "61515389",
   "metadata": {},
   "outputs": [],
   "source": [
    "data.plot(subplots=True, figsize=(20,24))"
   ]
  },
  {
   "cell_type": "code",
   "execution_count": null,
   "id": "3a399ed6",
   "metadata": {},
   "outputs": [],
   "source": [
    "min(data['timeperiod']),max(data['timeperiod'])"
   ]
  },
  {
   "cell_type": "code",
   "execution_count": null,
   "id": "d6b5a68b",
   "metadata": {},
   "outputs": [],
   "source": [
    "data.dtypes"
   ]
  },
  {
   "cell_type": "markdown",
   "id": "71213f79",
   "metadata": {},
   "source": [
    "data = data.set_index('timeperiod')"
   ]
  },
  {
   "cell_type": "code",
   "execution_count": null,
   "id": "4c297eed",
   "metadata": {},
   "outputs": [],
   "source": [
    "data.index"
   ]
  },
  {
   "cell_type": "markdown",
   "id": "66ca5676",
   "metadata": {},
   "source": [
    "data['Year'] = data.index.year\n",
    "data['Month'] = data.index.month\n",
    "data['Day'] = data.index.day\n",
    "Display a random sampling of 5 rows\n",
    "data.sample(5, random_state=0)"
   ]
  },
  {
   "cell_type": "code",
   "execution_count": null,
   "id": "9653e302",
   "metadata": {},
   "outputs": [],
   "source": [
    "sns.set(rc={'figure.figsize':(11, 4)})"
   ]
  },
  {
   "cell_type": "code",
   "execution_count": null,
   "id": "a4606361",
   "metadata": {},
   "outputs": [],
   "source": [
    "data['total_claims'].plot(linewidth=.5);"
   ]
  },
  {
   "cell_type": "code",
   "execution_count": null,
   "id": "7da2e9b1",
   "metadata": {},
   "outputs": [],
   "source": [
    "cols_plot = ['week_number','countyfips','tract','total_claims','edu_8th_or_less','edu_grades_9_11','edu_hs_grad_equiv','edu_post_hs',\n",
    "            'edu_unknown', 'gender_female', 'gender_male', 'gender_na', 'race_amerindian', 'race_asian', 'race_black', 'race_noanswer', \n",
    "            'race_hawaiiannative', 'race_other', 'race_white']\n",
    "axes = data[cols_plot].plot(marker='.', alpha=0.5, linestyle='None', figsize=(30, 25), subplots=True)\n",
    "for ax in axes:\n",
    "    ax.set_ylabel('features')"
   ]
  },
  {
   "cell_type": "markdown",
   "id": "1b84aed9",
   "metadata": {},
   "source": [
    "import matplotlib.dates as mdates\n",
    "fig, ax = plt.subplots()\n",
    "ax.plot(data.loc['2019-08':'2019-12', 'precipitation_data'], marker='o', linestyle='-')\n",
    "ax.set_ylabel('Precipitation')\n",
    "ax.set_title('Aug 2019-2020 Precipiation Data')"
   ]
  },
  {
   "cell_type": "code",
   "execution_count": null,
   "id": "46e8cf10",
   "metadata": {},
   "outputs": [],
   "source": [
    "#fig, axes = plt.subplots(3, 1, figsize=(11, 10), sharex=True)\n",
    "#for name, ax in zip(['precipitation_data', 'min_temperature', 'max_temperature'], axes):\n",
    "#    sns.boxplot(data=data, x='Month', y=name, ax=ax)\n",
    "#    ax.set_ylabel('precipitation')\n",
    "#    ax.set_title(name)\n",
    "    # Remove the automatic x-axis label from all but the bottom subplot\n",
    "#    if ax != axes[-1]:\n",
    "#        ax.set_xlabel('')"
   ]
  },
  {
   "cell_type": "markdown",
   "id": "20d47f19",
   "metadata": {},
   "source": [
    "sns.boxplot(data=data, x='Month', y='total_claims');"
   ]
  },
  {
   "cell_type": "markdown",
   "id": "2dca745d",
   "metadata": {},
   "source": [
    "from statsmodels.graphics.tsaplots import plot_acf\n",
    "plot_acf(x=data['max_temperature'], lags=50)"
   ]
  },
  {
   "cell_type": "code",
   "execution_count": null,
   "id": "a02de9f3",
   "metadata": {},
   "outputs": [],
   "source": [
    "columns_rel.append('timeperiod')\n",
    "columns_rel.append('uu_id')\n",
    "columns_rel"
   ]
  },
  {
   "cell_type": "code",
   "execution_count": null,
   "id": "8d0db0ed",
   "metadata": {},
   "outputs": [],
   "source": [
    "data"
   ]
  },
  {
   "cell_type": "code",
   "execution_count": null,
   "id": "ce221c02",
   "metadata": {},
   "outputs": [],
   "source": [
    "data_arima=data[columns_rel]\n",
    "data_arima"
   ]
  },
  {
   "cell_type": "code",
   "execution_count": null,
   "id": "d09ca8f6",
   "metadata": {},
   "outputs": [],
   "source": [
    "get_ipython().run_cell_magic('capture', '', \"unique_id=list(data_arima['uu_id'].unique())\\ndata_dict = {}\\n\\nfor i in unique_id:\\n    j = data_arima[data_arima['uu_id']==i].groupby('timeperiod')['total_claims'].sum().reset_index()\\n    j = j.set_index('timeperiod')\\n    data_dict[i] = j\\n\")"
   ]
  },
  {
   "cell_type": "markdown",
   "id": "dc636a68",
   "metadata": {},
   "source": [
    "data_arima = data_arima.groupby('uu_id')[['total_claims', 'timeperiod','uu_id']]\n",
    "data_arima.head()"
   ]
  },
  {
   "cell_type": "markdown",
   "id": "c1b40d5e",
   "metadata": {},
   "source": [
    "data_arima_2 = data_arima.set_index('timeperiod')\n",
    "data_arima.index"
   ]
  },
  {
   "cell_type": "code",
   "execution_count": null,
   "id": "e2e93d2f",
   "metadata": {},
   "outputs": [],
   "source": [
    "p = d = q = range(0, 2)\n",
    "pdq = list(itertools.product(p, d, q))\n",
    "seasonal_pdq = [(x[0], x[1], x[2], 12) for x in list(itertools.product(p, d, q))]\n",
    "print('Examples of parameter combinations for Seasonal ARIMA...')\n",
    "print('SARIMAX: {} x {}'.format(pdq[1], seasonal_pdq[1]))\n",
    "print('SARIMAX: {} x {}'.format(pdq[1], seasonal_pdq[2]))\n",
    "print('SARIMAX: {} x {}'.format(pdq[2], seasonal_pdq[3]))\n",
    "print('SARIMAX: {} x {}'.format(pdq[2], seasonal_pdq[4]))"
   ]
  },
  {
   "cell_type": "code",
   "execution_count": null,
   "id": "2f4a8cf2",
   "metadata": {},
   "outputs": [],
   "source": [
    "import warnings\n",
    "warnings.filterwarnings(\"ignore\")"
   ]
  },
  {
   "cell_type": "code",
   "execution_count": null,
   "id": "071056cf",
   "metadata": {},
   "outputs": [],
   "source": [
    "with io.capture_output() as captured:"
   ]
  },
  {
   "cell_type": "code",
   "execution_count": null,
   "id": "e9eecf03",
   "metadata": {},
   "outputs": [],
   "source": [
    "import csv"
   ]
  },
  {
   "cell_type": "code",
   "execution_count": null,
   "id": "0f0a17a8",
   "metadata": {},
   "outputs": [],
   "source": [
    "filename =\"param.csv\""
   ]
  },
  {
   "cell_type": "code",
   "execution_count": null,
   "id": "af52d8f2",
   "metadata": {},
   "outputs": [],
   "source": [
    "# opening the file using \"with\"\n",
    "# statement\n",
    "with open(filename, 'r') as data:\n",
    "    for line in csv.DictReader(data):\n",
    "        print(line)"
   ]
  },
  {
   "cell_type": "code",
   "execution_count": null,
   "id": "4a9a6692",
   "metadata": {},
   "outputs": [],
   "source": [
    "data"
   ]
  },
  {
   "cell_type": "code",
   "execution_count": null,
   "id": "dd4ac6fd",
   "metadata": {},
   "outputs": [],
   "source": [
    "csv.DictReader(data)"
   ]
  },
  {
   "cell_type": "code",
   "execution_count": null,
   "id": "d970debb",
   "metadata": {},
   "outputs": [],
   "source": [
    "import csv"
   ]
  },
  {
   "cell_type": "code",
   "execution_count": null,
   "id": "f3b2a289",
   "metadata": {},
   "outputs": [],
   "source": [
    "filename =pd.read_csv(\"param.csv\")"
   ]
  },
  {
   "cell_type": "markdown",
   "id": "17738ba8",
   "metadata": {},
   "source": [
    "opening the file using \"with\"\n",
    "statement\n",
    "with open(filename, 'r') as data:\n",
    "   for line in csv.DictReader(data):\n",
    "       print(line)"
   ]
  },
  {
   "cell_type": "code",
   "execution_count": null,
   "id": "4248fdeb",
   "metadata": {},
   "outputs": [],
   "source": [
    "filename.head()"
   ]
  },
  {
   "cell_type": "code",
   "execution_count": null,
   "id": "063bf93a",
   "metadata": {},
   "outputs": [],
   "source": [
    "filename.to_dict()"
   ]
  },
  {
   "cell_type": "code",
   "execution_count": null,
   "id": "4828d884",
   "metadata": {},
   "outputs": [],
   "source": [
    "filename.head()"
   ]
  },
  {
   "cell_type": "code",
   "execution_count": null,
   "id": "85aa3555",
   "metadata": {},
   "outputs": [],
   "source": [
    "filename.to_dict()"
   ]
  },
  {
   "cell_type": "code",
   "execution_count": null,
   "id": "c753f19d",
   "metadata": {},
   "outputs": [],
   "source": [
    "filename.to_dict(list)"
   ]
  },
  {
   "cell_type": "code",
   "execution_count": null,
   "id": "9e3be67a",
   "metadata": {},
   "outputs": [],
   "source": [
    "filename.to_dict('list')"
   ]
  },
  {
   "cell_type": "code",
   "execution_count": null,
   "id": "65b52e92",
   "metadata": {},
   "outputs": [],
   "source": [
    "param_dict=file_param.to_dict('list')\n",
    "seasonal_dict=file_seasonal.to_dict('list')"
   ]
  },
  {
   "cell_type": "code",
   "execution_count": null,
   "id": "e84ca043",
   "metadata": {},
   "outputs": [],
   "source": [
    "import csv"
   ]
  },
  {
   "cell_type": "code",
   "execution_count": null,
   "id": "023b334d",
   "metadata": {},
   "outputs": [],
   "source": [
    "file_param =pd.read_csv(\"param.csv\")\n",
    "file_seasonal =pd.read_csv(\"seasonal.csv\")\n",
    "# opening the file using \"with\"\n",
    "# statement\n",
    "#with open(filename, 'r') as data:\n",
    "#    for line in csv.DictReader(data):\n",
    "#        print(line)"
   ]
  },
  {
   "cell_type": "code",
   "execution_count": null,
   "id": "bec2602e",
   "metadata": {},
   "outputs": [],
   "source": [
    "param_dict=file_param.to_dict('list')\n",
    "seasonal_dict=file_seasonal.to_dict('list')"
   ]
  },
  {
   "cell_type": "code",
   "execution_count": null,
   "id": "c0518c8d",
   "metadata": {},
   "outputs": [],
   "source": [
    "len(data_dict)"
   ]
  },
  {
   "cell_type": "code",
   "execution_count": null,
   "id": "cf684bc7",
   "metadata": {},
   "outputs": [],
   "source": [
    "hundred=list(data_dict.keys())[:100]\n",
    "two_hundred=list(data_dict.keys())[100:200]\n",
    "three_hundred=list(data_dict.keys())[200:300]\n",
    "four_hundred=list(data_dict.keys())[300:400]\n",
    "five_hundred=list(data_dict.keys())[500:573]"
   ]
  },
  {
   "cell_type": "code",
   "execution_count": null,
   "id": "fb13cc99",
   "metadata": {},
   "outputs": [],
   "source": [
    "#results = {}\n",
    "for key in hundred:\n",
    "    y=data_dict[key]['total_claims']\n",
    "    mod = sm.tsa.statespace.SARIMAX(y.astype(float),\n",
    "                                order=tuple(param_dict[key]),\n",
    "                                seasonal_order=tuple(seasonal_dict[key]),\n",
    "                                enforce_stationarity=False,\n",
    "                                enforce_invertibility=False)\n",
    "    results[key] = mod.fit(disp=False)\n",
    "    #print(results.summary().tables[1])"
   ]
  },
  {
   "cell_type": "code",
   "execution_count": null,
   "id": "cd5ee8cf",
   "metadata": {},
   "outputs": [],
   "source": [
    "results = {}\n",
    "for key in hundred:\n",
    "    y=data_dict[key]['total_claims']\n",
    "    mod = sm.tsa.statespace.SARIMAX(y.astype(float),\n",
    "                                order=tuple(param_dict[key]),\n",
    "                                seasonal_order=tuple(seasonal_dict[key]),\n",
    "                                enforce_stationarity=False,\n",
    "                                enforce_invertibility=False)\n",
    "    results[key] = mod.fit(disp=False)\n",
    "    #print(results.summary().tables[1])"
   ]
  },
  {
   "cell_type": "code",
   "execution_count": null,
   "id": "02d04201",
   "metadata": {},
   "outputs": [],
   "source": [
    "len(results)"
   ]
  },
  {
   "cell_type": "code",
   "execution_count": null,
   "id": "5d55ffa1",
   "metadata": {},
   "outputs": [],
   "source": [
    "#results = {}\n",
    "for key in two_hundred:\n",
    "    y=data_dict[key]['total_claims']\n",
    "    mod = sm.tsa.statespace.SARIMAX(y.astype(float),\n",
    "                                order=tuple(param_dict[key]),\n",
    "                                seasonal_order=tuple(seasonal_dict[key]),\n",
    "                                enforce_stationarity=False,\n",
    "                                enforce_invertibility=False)\n",
    "    results[key] = mod.fit(disp=False)\n",
    "    #print(results.summary().tables[1])"
   ]
  },
  {
   "cell_type": "code",
   "execution_count": null,
   "id": "1914da63",
   "metadata": {},
   "outputs": [],
   "source": [
    "len(results)"
   ]
  },
  {
   "cell_type": "code",
   "execution_count": null,
   "id": "4904add2",
   "metadata": {},
   "outputs": [],
   "source": [
    "#results = {}\n",
    "for key in three_hundred:\n",
    "    y=data_dict[key]['total_claims']\n",
    "    mod = sm.tsa.statespace.SARIMAX(y.astype(float),\n",
    "                                order=tuple(param_dict[key]),\n",
    "                                seasonal_order=tuple(seasonal_dict[key]),\n",
    "                                enforce_stationarity=False,\n",
    "                                enforce_invertibility=False)\n",
    "    results[key] = mod.fit(disp=False)\n",
    "    #print(results.summary().tables[1])"
   ]
  },
  {
   "cell_type": "code",
   "execution_count": null,
   "id": "5a075d12",
   "metadata": {},
   "outputs": [],
   "source": [
    "len(results)"
   ]
  },
  {
   "cell_type": "code",
   "execution_count": null,
   "id": "c0b6d5ce",
   "metadata": {},
   "outputs": [],
   "source": [
    "#results = {}\n",
    "for key in four_hundred:\n",
    "    y=data_dict[key]['total_claims']\n",
    "    mod = sm.tsa.statespace.SARIMAX(y.astype(float),\n",
    "                                order=tuple(param_dict[key]),\n",
    "                                seasonal_order=tuple(seasonal_dict[key]),\n",
    "                                enforce_stationarity=False,\n",
    "                                enforce_invertibility=False)\n",
    "    results[key] = mod.fit(disp=False)\n",
    "    #print(results.summary().tables[1])"
   ]
  },
  {
   "cell_type": "code",
   "execution_count": null,
   "id": "e3d9fa4b",
   "metadata": {},
   "outputs": [],
   "source": [
    "len(results)"
   ]
  },
  {
   "cell_type": "code",
   "execution_count": null,
   "id": "0c347d6d",
   "metadata": {},
   "outputs": [],
   "source": [
    "#results = {}\n",
    "for key in five_hundred:\n",
    "    y=data_dict[key]['total_claims']\n",
    "    mod = sm.tsa.statespace.SARIMAX(y.astype(float),\n",
    "                                order=tuple(param_dict[key]),\n",
    "                                seasonal_order=tuple(seasonal_dict[key]),\n",
    "                                enforce_stationarity=False,\n",
    "                                enforce_invertibility=False)\n",
    "    results[key] = mod.fit(disp=False)\n",
    "    #print(results.summary().tables[1])"
   ]
  },
  {
   "cell_type": "code",
   "execution_count": null,
   "id": "0207abb8",
   "metadata": {},
   "outputs": [],
   "source": [
    "len(results)"
   ]
  },
  {
   "cell_type": "code",
   "execution_count": null,
   "id": "82a14db0",
   "metadata": {},
   "outputs": [],
   "source": [
    "results = {}\n",
    "for key in hundred:\n",
    "    y=data_dict[key]['total_claims']\n",
    "    mod = sm.tsa.statespace.SARIMAX(y.astype(float),\n",
    "                                order=tuple(param_dict[key]),\n",
    "                                seasonal_order=tuple(seasonal_dict[key]),\n",
    "                                enforce_stationarity=False,\n",
    "                                enforce_invertibility=False)\n",
    "    results[key] = mod.fit(disp=False)\n",
    "    #print(results.summary().tables[1])"
   ]
  },
  {
   "cell_type": "code",
   "execution_count": null,
   "id": "74b3c853",
   "metadata": {},
   "outputs": [],
   "source": [
    "len(results)"
   ]
  },
  {
   "cell_type": "code",
   "execution_count": null,
   "id": "7fa9389d",
   "metadata": {},
   "outputs": [],
   "source": [
    "results = {}\n",
    "for key in two_hundred:\n",
    "    y=data_dict[key]['total_claims']\n",
    "    mod = sm.tsa.statespace.SARIMAX(y.astype(float),\n",
    "                                order=tuple(param_dict[key]),\n",
    "                                seasonal_order=tuple(seasonal_dict[key]),\n",
    "                                enforce_stationarity=False,\n",
    "                                enforce_invertibility=False)\n",
    "    results[key] = mod.fit(disp=False)\n",
    "    #print(results.summary().tables[1])"
   ]
  },
  {
   "cell_type": "code",
   "execution_count": null,
   "id": "9cf57199",
   "metadata": {},
   "outputs": [],
   "source": [
    "len(results)"
   ]
  },
  {
   "cell_type": "code",
   "execution_count": null,
   "id": "e1cfb25f",
   "metadata": {},
   "outputs": [],
   "source": [
    "results = {}\n",
    "for key in hundred:\n",
    "    y=data_dict[key]['total_claims']\n",
    "    mod = sm.tsa.statespace.SARIMAX(y.astype(float),\n",
    "                                order=tuple(param_dict[key]),\n",
    "                                seasonal_order=tuple(seasonal_dict[key]),\n",
    "                                enforce_stationarity=False,\n",
    "                                enforce_invertibility=False)\n",
    "    results[key] = mod.fit(disp=False)\n",
    "    #print(results.summary().tables[1])"
   ]
  },
  {
   "cell_type": "code",
   "execution_count": null,
   "id": "bd77269c",
   "metadata": {},
   "outputs": [],
   "source": [
    "len(results)"
   ]
  },
  {
   "cell_type": "code",
   "execution_count": null,
   "id": "3a7adbf2",
   "metadata": {},
   "outputs": [],
   "source": [
    "#results = {}\n",
    "for key in two_hundred:\n",
    "    y=data_dict[key]['total_claims']\n",
    "    mod = sm.tsa.statespace.SARIMAX(y.astype(float),\n",
    "                                order=tuple(param_dict[key]),\n",
    "                                seasonal_order=tuple(seasonal_dict[key]),\n",
    "                                enforce_stationarity=False,\n",
    "                                enforce_invertibility=False)\n",
    "    results[key] = mod.fit(disp=False)\n",
    "    #print(results.summary().tables[1])"
   ]
  },
  {
   "cell_type": "code",
   "execution_count": null,
   "id": "4f7087c4",
   "metadata": {},
   "outputs": [],
   "source": [
    "len(results)"
   ]
  },
  {
   "cell_type": "code",
   "execution_count": null,
   "id": "9df5f7e7",
   "metadata": {},
   "outputs": [],
   "source": [
    "#results = {}\n",
    "for key in three_hundred:\n",
    "    y=data_dict[key]['total_claims']\n",
    "    mod = sm.tsa.statespace.SARIMAX(y.astype(float),\n",
    "                                order=tuple(param_dict[key]),\n",
    "                                seasonal_order=tuple(seasonal_dict[key]),\n",
    "                                enforce_stationarity=False,\n",
    "                                enforce_invertibility=False)\n",
    "    results[key] = mod.fit(disp=False)\n",
    "    #print(results.summary().tables[1])"
   ]
  },
  {
   "cell_type": "code",
   "execution_count": null,
   "id": "317bfc52",
   "metadata": {},
   "outputs": [],
   "source": [
    "len(results)"
   ]
  },
  {
   "cell_type": "code",
   "execution_count": null,
   "id": "1a2fab96",
   "metadata": {},
   "outputs": [],
   "source": [
    "#results = {}\n",
    "for key in four_hundred:\n",
    "    y=data_dict[key]['total_claims']\n",
    "    mod = sm.tsa.statespace.SARIMAX(y.astype(float),\n",
    "                                order=tuple(param_dict[key]),\n",
    "                                seasonal_order=tuple(seasonal_dict[key]),\n",
    "                                enforce_stationarity=False,\n",
    "                                enforce_invertibility=False)\n",
    "    results[key] = mod.fit(disp=False)\n",
    "    #print(results.summary().tables[1])"
   ]
  },
  {
   "cell_type": "code",
   "execution_count": null,
   "id": "01ce731d",
   "metadata": {},
   "outputs": [],
   "source": [
    "hundred=list(data_dict.keys())[:100]\n",
    "two_hundred=list(data_dict.keys())[100:200]\n",
    "three_hundred=list(data_dict.keys())[200:300]\n",
    "four_hundred=list(data_dict.keys())[300:400]\n",
    "five_hundred=list(data_dict.keys())[400:573]"
   ]
  },
  {
   "cell_type": "code",
   "execution_count": null,
   "id": "e66712af",
   "metadata": {},
   "outputs": [],
   "source": [
    "len(results)"
   ]
  },
  {
   "cell_type": "code",
   "execution_count": null,
   "id": "7454c073",
   "metadata": {},
   "outputs": [],
   "source": [
    "hundred=list(data_dict.keys())[:100]\n",
    "two_hundred=list(data_dict.keys())[100:200]\n",
    "three_hundred=list(data_dict.keys())[200:300]\n",
    "four_hundred=list(data_dict.keys())[300:400]\n",
    "five_hundred=list(data_dict.keys())[400:500]\n",
    "six_hundred=list(data_dict.keys())[500:573]"
   ]
  },
  {
   "cell_type": "code",
   "execution_count": null,
   "id": "caf80229",
   "metadata": {},
   "outputs": [],
   "source": [
    "#results = {}\n",
    "for key in five_hundred:\n",
    "    y=data_dict[key]['total_claims']\n",
    "    mod = sm.tsa.statespace.SARIMAX(y.astype(float),\n",
    "                                order=tuple(param_dict[key]),\n",
    "                                seasonal_order=tuple(seasonal_dict[key]),\n",
    "                                enforce_stationarity=False,\n",
    "                                enforce_invertibility=False)\n",
    "    results[key] = mod.fit(disp=False)\n",
    "    #print(results.summary().tables[1])"
   ]
  },
  {
   "cell_type": "code",
   "execution_count": null,
   "id": "2ed00dfc",
   "metadata": {},
   "outputs": [],
   "source": [
    "len(results)"
   ]
  },
  {
   "cell_type": "code",
   "execution_count": null,
   "id": "3c25bd7d",
   "metadata": {},
   "outputs": [],
   "source": [
    "#results = {}\n",
    "for key in six_hundred:\n",
    "    y=data_dict[key]['total_claims']\n",
    "    mod = sm.tsa.statespace.SARIMAX(y.astype(float),\n",
    "                                order=tuple(param_dict[key]),\n",
    "                                seasonal_order=tuple(seasonal_dict[key]),\n",
    "                                enforce_stationarity=False,\n",
    "                                enforce_invertibility=False)\n",
    "    results[key] = mod.fit(disp=False)\n",
    "    #print(results.summary().tables[1])"
   ]
  },
  {
   "cell_type": "code",
   "execution_count": null,
   "id": "764ad945",
   "metadata": {},
   "outputs": [],
   "source": [
    "len(results)"
   ]
  },
  {
   "cell_type": "code",
   "execution_count": null,
   "id": "724c12cd",
   "metadata": {},
   "outputs": [],
   "source": [
    "list(results.keys())"
   ]
  },
  {
   "cell_type": "code",
   "execution_count": null,
   "id": "01bcb8eb",
   "metadata": {},
   "outputs": [],
   "source": [
    "x=list(results.keys())[0]"
   ]
  },
  {
   "cell_type": "code",
   "execution_count": null,
   "id": "326ff539",
   "metadata": {},
   "outputs": [],
   "source": [
    "results[x].plot_diagnostics(figsize=(16, 8))\n",
    "plt.show()"
   ]
  },
  {
   "cell_type": "code",
   "execution_count": null,
   "id": "40f0b777",
   "metadata": {},
   "outputs": [],
   "source": [
    "x=list(results.keys())[2]"
   ]
  },
  {
   "cell_type": "code",
   "execution_count": null,
   "id": "ab3463fe",
   "metadata": {},
   "outputs": [],
   "source": [
    "results[x].plot_diagnostics(figsize=(16, 8))\n",
    "plt.show()"
   ]
  },
  {
   "cell_type": "code",
   "execution_count": null,
   "id": "cb78c61f",
   "metadata": {},
   "outputs": [],
   "source": [
    "data_dict[x]['total_claims']"
   ]
  },
  {
   "cell_type": "code",
   "execution_count": null,
   "id": "28117444",
   "metadata": {},
   "outputs": [],
   "source": [
    "pred = results[x].get_prediction(start=pd.to_datetime('2022-09-26'), dynamic=False)"
   ]
  },
  {
   "cell_type": "code",
   "execution_count": null,
   "id": "7a5db72c",
   "metadata": {},
   "outputs": [],
   "source": [
    "data_dict[x]['total_claims']"
   ]
  },
  {
   "cell_type": "code",
   "execution_count": null,
   "id": "38e45e47",
   "metadata": {},
   "outputs": [],
   "source": [
    "pred = results[x].get_prediction(start=pd.to_datetime('2022-09-10'), dynamic=False)"
   ]
  },
  {
   "cell_type": "code",
   "execution_count": null,
   "id": "52120f96",
   "metadata": {},
   "outputs": [],
   "source": [
    "x=list(results.keys())[1]"
   ]
  },
  {
   "cell_type": "code",
   "execution_count": null,
   "id": "20af77e5",
   "metadata": {},
   "outputs": [],
   "source": [
    "pred = results[x].get_prediction(start=pd.to_datetime('2022-09-10'), dynamic=False)"
   ]
  },
  {
   "cell_type": "code",
   "execution_count": null,
   "id": "ff831417",
   "metadata": {},
   "outputs": [],
   "source": [
    "pred = results[x].get_prediction( dynamic=False)"
   ]
  },
  {
   "cell_type": "code",
   "execution_count": null,
   "id": "953343ed",
   "metadata": {},
   "outputs": [],
   "source": [
    "x=list(results.keys())[2]"
   ]
  },
  {
   "cell_type": "code",
   "execution_count": null,
   "id": "61ed7549",
   "metadata": {},
   "outputs": [],
   "source": [
    "pred = results[x].get_prediction( dynamic=False)"
   ]
  },
  {
   "cell_type": "code",
   "execution_count": null,
   "id": "45af0bc9",
   "metadata": {},
   "outputs": [],
   "source": [
    "pred_ci = pred.conf_int()\n",
    "ax = data_dict[x]['total_claims'].plot(label='observed')\n",
    "pred.predicted_mean.plot(ax=ax, label='One-step ahead Forecast', alpha=.7, figsize=(14, 7))\n",
    "ax.fill_between(pred_ci.index,\n",
    "                pred_ci.iloc[:, 0],\n",
    "                pred_ci.iloc[:, 1], color='k', alpha=.2)\n",
    "ax.set_xlabel('Date')\n",
    "ax.set_ylabel('Furniture Sales')\n",
    "plt.legend()\n",
    "plt.show()"
   ]
  },
  {
   "cell_type": "code",
   "execution_count": null,
   "id": "185e34aa",
   "metadata": {},
   "outputs": [],
   "source": [
    "pred = results[x].get_prediction()"
   ]
  },
  {
   "cell_type": "code",
   "execution_count": null,
   "id": "50530029",
   "metadata": {},
   "outputs": [],
   "source": [
    "pred_ci = pred.conf_int()\n",
    "ax = data_dict[x]['total_claims'].plot(label='observed')\n",
    "pred.predicted_mean.plot(ax=ax, label='One-step ahead Forecast', alpha=.7, figsize=(14, 7))\n",
    "ax.fill_between(pred_ci.index,\n",
    "                pred_ci.iloc[:, 0],\n",
    "                pred_ci.iloc[:, 1], color='k', alpha=.2)\n",
    "ax.set_xlabel('Date')\n",
    "ax.set_ylabel('Furniture Sales')\n",
    "plt.legend()\n",
    "plt.show()"
   ]
  },
  {
   "cell_type": "code",
   "execution_count": null,
   "id": "9f4aaad0",
   "metadata": {},
   "outputs": [],
   "source": [
    "pred = results[x].get_prediction(start=pd.to_datetime('2022-09-26'), dynamic=False)"
   ]
  },
  {
   "cell_type": "code",
   "execution_count": null,
   "id": "12b8716a",
   "metadata": {},
   "outputs": [],
   "source": [
    "data_dict[x]['total_claims']"
   ]
  },
  {
   "cell_type": "code",
   "execution_count": null,
   "id": "8d9e37f3",
   "metadata": {},
   "outputs": [],
   "source": [
    "pred = results[x].get_prediction(start=pd.to_datetime('2022-09-10'), dynamic=False)"
   ]
  },
  {
   "cell_type": "code",
   "execution_count": null,
   "id": "c8b025a4",
   "metadata": {},
   "outputs": [],
   "source": [
    "pred_ci = pred.conf_int()\n",
    "ax = data_dict[x]['total_claims'].plot(label='observed')\n",
    "pred.predicted_mean.plot(ax=ax, label='One-step ahead Forecast', alpha=.7, figsize=(14, 7))\n",
    "ax.fill_between(pred_ci.index,\n",
    "                pred_ci.iloc[:, 0],\n",
    "                pred_ci.iloc[:, 1], color='k', alpha=.2)\n",
    "ax.set_xlabel('Date')\n",
    "ax.set_ylabel('Furniture Sales')\n",
    "plt.legend()\n",
    "plt.show()"
   ]
  },
  {
   "cell_type": "code",
   "execution_count": null,
   "id": "427497af",
   "metadata": {},
   "outputs": [],
   "source": [
    "pred = results[x].get_prediction(start=pd.to_datetime('2022-09-10'), end=pd.to_datetime('2022-10-10'), dynamic=False)"
   ]
  },
  {
   "cell_type": "code",
   "execution_count": null,
   "id": "425eb257",
   "metadata": {},
   "outputs": [],
   "source": [
    "pred = results[x].get_prediction(start=pd.to_datetime('2022-09-10'), dynamic=False)"
   ]
  },
  {
   "cell_type": "code",
   "execution_count": null,
   "id": "d3b09ffb",
   "metadata": {},
   "outputs": [],
   "source": [
    "pred_ci = pred.conf_int()\n",
    "ax = data_dict[x]['total_claims'].plot(label='observed')\n",
    "pred.predicted_mean.plot(ax=ax, label='One-step ahead Forecast', alpha=.7, figsize=(14, 7))\n",
    "ax.fill_between(pred_ci.index,\n",
    "                pred_ci.iloc[:, 0],\n",
    "                pred_ci.iloc[:, 1], color='k', alpha=.2)\n",
    "ax.set_xlabel('Date')\n",
    "ax.set_ylabel('Furniture Sales')\n",
    "plt.legend()\n",
    "plt.show()"
   ]
  },
  {
   "cell_type": "code",
   "execution_count": null,
   "id": "9b17e5f9",
   "metadata": {},
   "outputs": [],
   "source": [
    "pred = results[x].forecast()"
   ]
  },
  {
   "cell_type": "code",
   "execution_count": null,
   "id": "2bb0c312",
   "metadata": {},
   "outputs": [],
   "source": [
    "pred_ci = pred.conf_int()\n",
    "ax = data_dict[x]['total_claims'].plot(label='observed')\n",
    "pred.predicted_mean.plot(ax=ax, label='One-step ahead Forecast', alpha=.7, figsize=(14, 7))\n",
    "ax.fill_between(pred_ci.index,\n",
    "                pred_ci.iloc[:, 0],\n",
    "                pred_ci.iloc[:, 1], color='k', alpha=.2)\n",
    "ax.set_xlabel('Date')\n",
    "ax.set_ylabel('Furniture Sales')\n",
    "plt.legend()\n",
    "plt.show()"
   ]
  },
  {
   "cell_type": "code",
   "execution_count": null,
   "id": "7e0edcc8",
   "metadata": {},
   "outputs": [],
   "source": [
    "pred"
   ]
  },
  {
   "cell_type": "code",
   "execution_count": null,
   "id": "ffe0b2a5",
   "metadata": {},
   "outputs": [],
   "source": [
    "pred = results[x].get_prediction(start=pd.to_datetime('2022-09-10'), dynamic=False)"
   ]
  },
  {
   "cell_type": "code",
   "execution_count": null,
   "id": "5ae490bd",
   "metadata": {},
   "outputs": [],
   "source": [
    "pred_ci = pred.conf_int()\n",
    "ax = data_dict[x]['total_claims'].plot(label='observed')\n",
    "pred.predicted_mean.plot(ax=ax, label='One-step ahead Forecast', alpha=.7, figsize=(14, 7))\n",
    "ax.fill_between(pred_ci.index,\n",
    "                pred_ci.iloc[:, 0],\n",
    "                pred_ci.iloc[:, 1], color='k', alpha=.2)\n",
    "ax.set_xlabel('Date')\n",
    "ax.set_ylabel('Furniture Sales')\n",
    "plt.legend()\n",
    "plt.show()"
   ]
  },
  {
   "cell_type": "code",
   "execution_count": null,
   "id": "781f8993",
   "metadata": {},
   "outputs": [],
   "source": [
    "pred = results[x].forecast()"
   ]
  },
  {
   "cell_type": "code",
   "execution_count": null,
   "id": "f60d1371",
   "metadata": {},
   "outputs": [],
   "source": [
    "pred"
   ]
  },
  {
   "cell_type": "code",
   "execution_count": null,
   "id": "311fd023",
   "metadata": {},
   "outputs": [],
   "source": [
    "pred = []\n",
    "for key in hundred:\n",
    "        i=results[key].forecast()\n",
    "        pred.append(i)\n",
    "    #print(results.summary().tables[1])"
   ]
  },
  {
   "cell_type": "code",
   "execution_count": null,
   "id": "192d9abd",
   "metadata": {},
   "outputs": [],
   "source": [
    "pred"
   ]
  },
  {
   "cell_type": "code",
   "execution_count": null,
   "id": "54cef413",
   "metadata": {},
   "outputs": [],
   "source": [
    "pred = results[x].forecast()"
   ]
  },
  {
   "cell_type": "code",
   "execution_count": null,
   "id": "846eee3d",
   "metadata": {},
   "outputs": [],
   "source": [
    "pred.values"
   ]
  },
  {
   "cell_type": "code",
   "execution_count": null,
   "id": "6d986424",
   "metadata": {},
   "outputs": [],
   "source": [
    "pred = []\n",
    "for key in hundred:\n",
    "        i=results[key].forecast()\n",
    "        pred.append(i.values)\n",
    "    #print(results.summary().tables[1])"
   ]
  },
  {
   "cell_type": "code",
   "execution_count": null,
   "id": "41254536",
   "metadata": {},
   "outputs": [],
   "source": [
    "pred"
   ]
  },
  {
   "cell_type": "code",
   "execution_count": null,
   "id": "b86da643",
   "metadata": {},
   "outputs": [],
   "source": [
    "pred = results[x].forecast()"
   ]
  },
  {
   "cell_type": "code",
   "execution_count": null,
   "id": "0cbea708",
   "metadata": {},
   "outputs": [],
   "source": [
    "pred.values[0]"
   ]
  },
  {
   "cell_type": "code",
   "execution_count": null,
   "id": "155c2969",
   "metadata": {},
   "outputs": [],
   "source": [
    "pred = []\n",
    "for key in hundred:\n",
    "        i=results[key].forecast()\n",
    "        pred.append(i.values[0])\n",
    "    #print(results.summary().tables[1])"
   ]
  },
  {
   "cell_type": "code",
   "execution_count": null,
   "id": "3de5e082",
   "metadata": {},
   "outputs": [],
   "source": [
    "pred"
   ]
  },
  {
   "cell_type": "code",
   "execution_count": null,
   "id": "2a2b1ab8",
   "metadata": {},
   "outputs": [],
   "source": [
    "len(pred)"
   ]
  },
  {
   "cell_type": "code",
   "execution_count": null,
   "id": "e0aebc09",
   "metadata": {},
   "outputs": [],
   "source": [
    "#pred = []\n",
    "for key in two_hundred:\n",
    "        i=results[key].forecast()\n",
    "        pred.append(i.values[0])\n",
    "    #print(results.summary().tables[1])"
   ]
  },
  {
   "cell_type": "code",
   "execution_count": null,
   "id": "b3ec023a",
   "metadata": {},
   "outputs": [],
   "source": [
    "len(pred)"
   ]
  },
  {
   "cell_type": "code",
   "execution_count": null,
   "id": "7a70b63b",
   "metadata": {},
   "outputs": [],
   "source": [
    "#pred = []\n",
    "for key in three_hundred:\n",
    "        i=results[key].forecast()\n",
    "        pred.append(i.values[0])\n",
    "    #print(results.summary().tables[1])"
   ]
  },
  {
   "cell_type": "code",
   "execution_count": null,
   "id": "e3efaaf3",
   "metadata": {},
   "outputs": [],
   "source": [
    "len(pred)"
   ]
  },
  {
   "cell_type": "code",
   "execution_count": null,
   "id": "a15ad663",
   "metadata": {},
   "outputs": [],
   "source": [
    "#pred = []\n",
    "for key in four_hundred:\n",
    "        i=results[key].forecast()\n",
    "        pred.append(i.values[0])\n",
    "    #print(results.summary().tables[1])"
   ]
  },
  {
   "cell_type": "code",
   "execution_count": null,
   "id": "cecce015",
   "metadata": {},
   "outputs": [],
   "source": [
    "len(pred)"
   ]
  },
  {
   "cell_type": "code",
   "execution_count": null,
   "id": "d51d178b",
   "metadata": {},
   "outputs": [],
   "source": [
    "#pred = []\n",
    "for key in five_hundred:\n",
    "        i=results[key].forecast()\n",
    "        pred.append(i.values[0])\n",
    "    #print(results.summary().tables[1])"
   ]
  },
  {
   "cell_type": "code",
   "execution_count": null,
   "id": "f0379e31",
   "metadata": {},
   "outputs": [],
   "source": [
    "len(pred)"
   ]
  },
  {
   "cell_type": "code",
   "execution_count": null,
   "id": "2279d61b",
   "metadata": {},
   "outputs": [],
   "source": [
    "#pred = []\n",
    "for key in six_hundred:\n",
    "        i=results[key].forecast()\n",
    "        pred.append(i.values[0])\n",
    "    #print(results.summary().tables[1])"
   ]
  },
  {
   "cell_type": "code",
   "execution_count": null,
   "id": "6aa99072",
   "metadata": {},
   "outputs": [],
   "source": [
    "len(pred)"
   ]
  },
  {
   "cell_type": "code",
   "execution_count": null,
   "id": "f5fcb1b9",
   "metadata": {},
   "outputs": [],
   "source": [
    "pred"
   ]
  },
  {
   "cell_type": "code",
   "execution_count": null,
   "id": "330a0602",
   "metadata": {},
   "outputs": [],
   "source": [
    "pred"
   ]
  },
  {
   "cell_type": "code",
   "execution_count": null,
   "id": "e10bde81",
   "metadata": {},
   "outputs": [],
   "source": [
    "hundred+two_hundred"
   ]
  },
  {
   "cell_type": "code",
   "execution_count": null,
   "id": "ed0196ee",
   "metadata": {},
   "outputs": [],
   "source": [
    "uu_id=hundred+two_hundred+three_hundred+four_hundred+five_hundred+six_hundred"
   ]
  },
  {
   "cell_type": "code",
   "execution_count": null,
   "id": "11806a67",
   "metadata": {},
   "outputs": [],
   "source": [
    "len(uu_id)"
   ]
  },
  {
   "cell_type": "code",
   "execution_count": null,
   "id": "de7d4928",
   "metadata": {},
   "outputs": [],
   "source": [
    "submit.head()"
   ]
  },
  {
   "cell_type": "code",
   "execution_count": null,
   "id": "0dcf601c",
   "metadata": {},
   "outputs": [],
   "source": [
    "first_trial = pd.DataFrame(uu_id, columns=['uu_id'])\n",
    "first_trial.head()"
   ]
  },
  {
   "cell_type": "code",
   "execution_count": null,
   "id": "35440cbf",
   "metadata": {},
   "outputs": [],
   "source": [
    "first_trial['total_claims']=pred"
   ]
  },
  {
   "cell_type": "code",
   "execution_count": null,
   "id": "11580e36",
   "metadata": {},
   "outputs": [],
   "source": [
    "first_trial.head()"
   ]
  },
  {
   "cell_type": "code",
   "execution_count": null,
   "id": "ca613577",
   "metadata": {},
   "outputs": [],
   "source": [
    "submit.head()"
   ]
  },
  {
   "cell_type": "code",
   "execution_count": null,
   "id": "95190c6b",
   "metadata": {},
   "outputs": [],
   "source": [
    "pd.merge(submit, first_trial, on='uu_id', how='outer')"
   ]
  },
  {
   "cell_type": "code",
   "execution_count": null,
   "id": "9ac146ed",
   "metadata": {},
   "outputs": [],
   "source": [
    "final_file=pd.merge(submit, first_trial, on='uu_id', how='outer')"
   ]
  },
  {
   "cell_type": "code",
   "execution_count": null,
   "id": "e6fc2268",
   "metadata": {},
   "outputs": [],
   "source": [
    "final_file=pd.merge(submit, first_trial, on='uu_id', how='outer')\n",
    "final_file.to_csv(./'submission.csv', index=False)"
   ]
  },
  {
   "cell_type": "code",
   "execution_count": null,
   "id": "9f9bb19d",
   "metadata": {
    "lines_to_next_cell": 2
   },
   "outputs": [],
   "source": [
    "final_file=pd.merge(submit, first_trial, on='uu_id', how='outer')\n",
    "final_file.to_csv('./submission.csv', index=False)"
   ]
  }
 ],
 "metadata": {
  "jupytext": {
   "cell_metadata_filter": "-all",
   "main_language": "python",
   "notebook_metadata_filter": "-all"
  }
 },
 "nbformat": 4,
 "nbformat_minor": 5
}
