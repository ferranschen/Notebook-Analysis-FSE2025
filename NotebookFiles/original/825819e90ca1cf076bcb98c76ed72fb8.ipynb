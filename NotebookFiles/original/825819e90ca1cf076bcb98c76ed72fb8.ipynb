{
 "cells": [
  {
   "cell_type": "code",
   "execution_count": null,
   "id": "b83b3915",
   "metadata": {},
   "outputs": [],
   "source": [
    "get_ipython().run_cell_magic('capture', '', \"%logstop\\n%logstart -t -r -q ipython_command_log.py global\\n\\n#- IRONHACKS RESEARCH TRACKING CODE\\n#----------------------------------\\n# The following code is used to help our research team understand how you \\n# our notebook environment. We do not collect any personal information with\\n# the following code, it is used to measure when and how often you work on\\n# your submission files.\\n\\nimport os\\nfrom datetime import datetime\\nimport IPython.core.history as history\\n\\nha = history.HistoryAccessor()\\nha_tail = ha.get_tail(1)\\nha_cmd = next(ha_tail)\\nsession_id = str(ha_cmd[0])\\ncommand_id = str(ha_cmd[1])\\ntimestamp = datetime.utcnow().isoformat()\\nhistory_line = ','.join([session_id, command_id, timestamp]) + '\\\\n'\\nlogfile = open(os.environ['HOME']+'/ipython_session_log.csv', 'a')\\nlogfile.write(history_line)\\nlogfile.close()\\n\")"
   ]
  },
  {
   "cell_type": "code",
   "execution_count": null,
   "id": "280c1edf",
   "metadata": {},
   "outputs": [],
   "source": [
    "get_ipython().run_cell_magic('capture', '', \"\\n#- INSTALL ADDITIONAL LIBRARIES IF REQUIRED\\n#------------------------------------------\\n# This is normally not required. The hub environment comes preinstaled with \\n# many packages that you can already use without setup. In case there is some\\n# other library you would like to use that isn't on the list you run this command\\n# once to install them.  If it is already installed this command has no effect.\\n\\n!python3 -m pip install pandas\\n\")"
   ]
  },
  {
   "cell_type": "markdown",
   "id": "bc11bef7",
   "metadata": {},
   "source": [
    "- IMPORT THE LIBRARIES YOU WILL USE\n",
    "------------------------------------------\n",
    "You only need to import packages one time per notebook session. To keep your\n",
    "notebook clean and organized you can handle all imports at the top of your file.\n",
    "The following are included for example purposed, feel free to modify or delete \n",
    "anything in this section."
   ]
  },
  {
   "cell_type": "code",
   "execution_count": null,
   "id": "464d0d70",
   "metadata": {
    "lines_to_next_cell": 1
   },
   "outputs": [],
   "source": [
    "import csv\n",
    "import pandas as pd\n",
    "import numpy as np\n",
    "from google.cloud import bigquery\n",
    "from google.oauth2 import service_account\n",
    "from google.cloud.bigquery import magics"
   ]
  },
  {
   "cell_type": "markdown",
   "id": "620a20cc",
   "metadata": {},
   "source": [
    "- DEFINE YOUR CLASSES AND FUNCTIONS \n",
    "-----------------------------------\n",
    "This is not required, but is helpful in keeping your notebook organized. \n",
    "You can use the following cell or several cells to define your functions\n",
    "and classes to keep them separate from your analysis or results code.\n",
    "In general it useful to define your methods in a separate cell from where\n",
    "it is run."
   ]
  },
  {
   "cell_type": "code",
   "execution_count": null,
   "id": "a9e8c98f",
   "metadata": {
    "lines_to_next_cell": 1
   },
   "outputs": [],
   "source": [
    "def example_function():\n",
    "    print('Hello World')"
   ]
  },
  {
   "cell_type": "code",
   "execution_count": null,
   "id": "afbfa0ec",
   "metadata": {},
   "outputs": [],
   "source": [
    "example_function()"
   ]
  },
  {
   "cell_type": "code",
   "execution_count": null,
   "id": "fe3f1f80",
   "metadata": {},
   "outputs": [],
   "source": [
    "query = \"\"\"\n",
    "SELECT *\n",
    "FROM `ironhacks-data.ironhacks_training.covid19_cases`\n",
    "\"\"\""
   ]
  },
  {
   "cell_type": "code",
   "execution_count": null,
   "id": "8039440f",
   "metadata": {},
   "outputs": [],
   "source": [
    "# QUERY THE DATA ONCE\n",
    "query_job = bigquery_client.query(query)\n",
    "covid19_cases_data = query_job.to_dataframe()\n",
    "#rn that error is expected, they r still tryna fix it"
   ]
  },
  {
   "cell_type": "markdown",
   "id": "8d89579b",
   "metadata": {},
   "source": [
    "- IMPORT THE LIBRARIES YOU WILL USE\n",
    "------------------------------------------\n",
    "You only need to import packages one time per notebook session. To keep your\n",
    "notebook clean and organized you can handle all imports at the top of your file.\n",
    "The following are included for example purposed, feel free to modify or delete \n",
    "anything in this section."
   ]
  },
  {
   "cell_type": "code",
   "execution_count": null,
   "id": "b5d19847",
   "metadata": {},
   "outputs": [],
   "source": [
    "import csv\n",
    "import pandas as pd\n",
    "import numpy as np\n",
    "from google.cloud import bigquery\n",
    "from google.oauth2 import service_account\n",
    "from google.cloud.bigquery import magics"
   ]
  },
  {
   "cell_type": "markdown",
   "id": "0c4c605b",
   "metadata": {},
   "source": [
    "CONFIGURE THE BIGQUERY SETTINGS"
   ]
  },
  {
   "cell_type": "code",
   "execution_count": null,
   "id": "1924aab5",
   "metadata": {},
   "outputs": [],
   "source": [
    "BIGQUERY_PROJECT = 'ironhacks-data'\n",
    "bigquery_client = bigquery.Client(project=BIGQUERY_PROJECT)"
   ]
  },
  {
   "cell_type": "code",
   "execution_count": null,
   "id": "90d084b3",
   "metadata": {},
   "outputs": [],
   "source": [
    "query = \"\"\"\n",
    "SELECT *\n",
    "FROM `ironhacks-data.ironhacks_training.covid19_cases`\n",
    "\"\"\""
   ]
  },
  {
   "cell_type": "code",
   "execution_count": null,
   "id": "ad622ccf",
   "metadata": {},
   "outputs": [],
   "source": [
    "# QUERY THE DATA ONCE\n",
    "query_job = bigquery_client.query(query)\n",
    "covid19_cases_data = query_job.to_dataframe()\n",
    "#rn that error is expected, they r still tryna fix it"
   ]
  },
  {
   "cell_type": "code",
   "execution_count": null,
   "id": "e0e6e8cb",
   "metadata": {},
   "outputs": [],
   "source": [
    "# THEN WORK BELOW TO DO SOMETHING THE RESULTS\n",
    "print(\"Columns:\")\n",
    "print('\\n'.join(covid19_cases_data.columns))\n",
    "print(\"\\nResults:\")\n",
    "print(covid19_cases_data.head())"
   ]
  },
  {
   "cell_type": "code",
   "execution_count": null,
   "id": "87a1a471",
   "metadata": {},
   "outputs": [],
   "source": [
    "query = \"\"\"\n",
    "SELECT *\n",
    "FROM `ironhacks-data.ironhacks_competition.unemployment_data` \n",
    "`\n",
    "\"\"\""
   ]
  },
  {
   "cell_type": "code",
   "execution_count": null,
   "id": "2f60c664",
   "metadata": {},
   "outputs": [],
   "source": [
    "# QUERY THE DATA ONCE\n",
    "query_job = bigquery_client.query(query)\n",
    "covid19_cases_data = query_job.to_dataframe()\n",
    "#rn that error is expected, they r still tryna fix it"
   ]
  },
  {
   "cell_type": "code",
   "execution_count": null,
   "id": "817edeaf",
   "metadata": {},
   "outputs": [],
   "source": [
    "query = \"\"\"\n",
    "SELECT *\n",
    "FROM `ironhacks-data.ironhacks_competition.unemployment_data` \n",
    "\"\"\""
   ]
  },
  {
   "cell_type": "code",
   "execution_count": null,
   "id": "5d872e62",
   "metadata": {},
   "outputs": [],
   "source": [
    "# QUERY THE DATA ONCE\n",
    "query_job = bigquery_client.query(query)\n",
    "covid19_cases_data = query_job.to_dataframe()\n",
    "#rn that error is expected, they r still tryna fix it"
   ]
  },
  {
   "cell_type": "code",
   "execution_count": null,
   "id": "c47224c7",
   "metadata": {},
   "outputs": [],
   "source": [
    "query = \"\"\"\n",
    "SELECT *\n",
    "FROM `ironhacks-data.ironhacks_competition.wage_data` \n",
    "\"\"\""
   ]
  },
  {
   "cell_type": "code",
   "execution_count": null,
   "id": "500b64c3",
   "metadata": {},
   "outputs": [],
   "source": [
    "# QUERY THE DATA ONCE\n",
    "query_job = bigquery_client.query(query)\n",
    "wage_data = query_job.to_dataframe()\n",
    "wage_data.head(5)"
   ]
  },
  {
   "cell_type": "code",
   "execution_count": null,
   "id": "c60b2b9d",
   "metadata": {},
   "outputs": [],
   "source": [
    "query = \"\"\"\n",
    "SELECT *\n",
    "FROM `ironhacks-data.ironhacks_competition.unemployment_data` \n",
    "\"\"\""
   ]
  },
  {
   "cell_type": "code",
   "execution_count": null,
   "id": "a936973e",
   "metadata": {},
   "outputs": [],
   "source": [
    "# QUERY THE DATA ONCE\n",
    "query_job = bigquery_client.query(query)\n",
    "unemployment_data = query_job.to_dataframe()\n",
    "unemployment_data.head(5)"
   ]
  },
  {
   "cell_type": "code",
   "execution_count": null,
   "id": "78f98c97",
   "metadata": {},
   "outputs": [],
   "source": [
    "query = \"\"\"\n",
    "SELECT *\n",
    "FROM `ironhacks-data.ironhacks_competition.unemployment_data` \n",
    "\"\"\""
   ]
  },
  {
   "cell_type": "code",
   "execution_count": null,
   "id": "72a2855f",
   "metadata": {},
   "outputs": [],
   "source": [
    "# QUERY THE DATA ONCE\n",
    "query_job = bigquery_client.query(query)\n",
    "unemployment_data = query_job.to_dataframe()\n",
    "#unemployment_data.head(5)\n",
    "unemployment_data.columns()"
   ]
  },
  {
   "cell_type": "code",
   "execution_count": null,
   "id": "b4b68484",
   "metadata": {},
   "outputs": [],
   "source": [
    "query = \"\"\"\n",
    "SELECT *\n",
    "FROM `ironhacks-data.ironhacks_competition.unemployment_data` \n",
    "\"\"\""
   ]
  },
  {
   "cell_type": "code",
   "execution_count": null,
   "id": "8797e35b",
   "metadata": {},
   "outputs": [],
   "source": [
    "# QUERY THE DATA ONCE\n",
    "query_job = bigquery_client.query(query)\n",
    "unemployment_data = query_job.to_dataframe()\n",
    "#unemployment_data.head(5)\n",
    "unemployment_data.columns"
   ]
  },
  {
   "cell_type": "code",
   "execution_count": null,
   "id": "73b7c977",
   "metadata": {},
   "outputs": [],
   "source": [
    "query = \"\"\"\n",
    "SELECT *\n",
    "FROM `ironhacks-data.ironhacks_competition.unemployment_data` \n",
    "\"\"\""
   ]
  },
  {
   "cell_type": "code",
   "execution_count": null,
   "id": "928d3ae4",
   "metadata": {},
   "outputs": [],
   "source": [
    "# QUERY THE DATA ONCE\n",
    "query_job = bigquery_client.query(query)\n",
    "unemployment_data = query_job.to_dataframe()\n",
    "#unemployment_data.head(5)\n",
    "print(unemployment_data.columns)"
   ]
  },
  {
   "cell_type": "code",
   "execution_count": null,
   "id": "70ff65fd",
   "metadata": {},
   "outputs": [],
   "source": [
    "query = \"\"\"\n",
    "SELECT *\n",
    "FROM `ironhacks-data.ironhacks_competition.wage_data` \n",
    "\"\"\""
   ]
  },
  {
   "cell_type": "code",
   "execution_count": null,
   "id": "ec5ac27b",
   "metadata": {},
   "outputs": [],
   "source": [
    "# QUERY THE DATA ONCE\n",
    "query_job = bigquery_client.query(query)\n",
    "wage_data = query_job.to_dataframe()\n",
    "#wage_data.head(5)\n",
    "print(wage_data.columns)"
   ]
  },
  {
   "cell_type": "code",
   "execution_count": null,
   "id": "6a104c4b",
   "metadata": {},
   "outputs": [],
   "source": [
    "query = \"\"\"\n",
    "SELECT *\n",
    "FROM `ironhacks-data.ironhacks_competition.prediction_list`\n",
    "\"\"\""
   ]
  },
  {
   "cell_type": "code",
   "execution_count": null,
   "id": "dabaf5a4",
   "metadata": {},
   "outputs": [],
   "source": [
    "# QUERY THE DATA ONCE\n",
    "query_job = bigquery_client.query(query)\n",
    "prediction_data = query_job.to_dataframe()\n",
    "#wage_data.head(5)\n",
    "print(prediction_data.columns)"
   ]
  },
  {
   "cell_type": "code",
   "execution_count": null,
   "id": "dd63f053",
   "metadata": {},
   "outputs": [],
   "source": [
    "query = \"\"\"\n",
    "SELECT *\n",
    "FROM `ironhacks-data.ironhacks_competition.prediction_list`\n",
    "\"\"\""
   ]
  },
  {
   "cell_type": "code",
   "execution_count": null,
   "id": "a6b31a73",
   "metadata": {},
   "outputs": [],
   "source": [
    "# QUERY THE DATA ONCE\n",
    "query_job = bigquery_client.query(query)\n",
    "prediction_data = query_job.to_dataframe()\n",
    "print(prediction_data.columns)"
   ]
  },
  {
   "cell_type": "code",
   "execution_count": null,
   "id": "6e8273aa",
   "metadata": {},
   "outputs": [],
   "source": [
    "prediction_data.head(5)"
   ]
  },
  {
   "cell_type": "code",
   "execution_count": null,
   "id": "53585ce8",
   "metadata": {},
   "outputs": [],
   "source": [
    "query = \"\"\"\n",
    "SELECT * \n",
    "FROM `ironhacks-data.ironhacks_competition.INFORMATION_SCHEMA.TABLES`\n",
    "\"\"\""
   ]
  },
  {
   "cell_type": "code",
   "execution_count": null,
   "id": "fd1c844a",
   "metadata": {},
   "outputs": [],
   "source": [
    "# QUERY THE DATA ONCE\n",
    "query_job = bigquery_client.query(query)\n",
    "table_data = query_job.to_dataframe()\n",
    "print(table_data.columns)"
   ]
  },
  {
   "cell_type": "code",
   "execution_count": null,
   "id": "b386d521",
   "metadata": {},
   "outputs": [],
   "source": [
    "table_data.head(5)"
   ]
  },
  {
   "cell_type": "code",
   "execution_count": null,
   "id": "9e560f6d",
   "metadata": {},
   "outputs": [],
   "source": [
    "pip install google-cloud-bigquery\n",
    "get_ipython().system('pip install google-cloud-bigquery[pandas]')"
   ]
  },
  {
   "cell_type": "code",
   "execution_count": null,
   "id": "839690c2",
   "metadata": {},
   "outputs": [],
   "source": [
    "get_ipython().system('pip install google-cloud-bigquery')\n",
    "get_ipython().system('pip install google-cloud-bigquery[pandas]')"
   ]
  },
  {
   "cell_type": "markdown",
   "id": "2cb069dc",
   "metadata": {},
   "source": [
    "- IMPORT THE LIBRARIES YOU WILL USE\n",
    "------------------------------------------\n",
    "You only need to import packages one time per notebook session. To keep your\n",
    "notebook clean and organized you can handle all imports at the top of your file.\n",
    "The following are included for example purposed, feel free to modify or delete \n",
    "anything in this section."
   ]
  },
  {
   "cell_type": "code",
   "execution_count": null,
   "id": "3453eb90",
   "metadata": {},
   "outputs": [],
   "source": [
    "import csv\n",
    "import pandas as pd\n",
    "import numpy as np\n",
    "import matplotlib\n",
    "import matplotlib.pyplot as plt\n",
    "import seaborn as sns\n",
    "get_ipython().run_line_magic('matplotlib', 'inline')"
   ]
  },
  {
   "cell_type": "code",
   "execution_count": null,
   "id": "6054f325",
   "metadata": {},
   "outputs": [],
   "source": [
    "from google.cloud import bigquery\n",
    "from google.oauth2 import service_account\n",
    "from google.cloud.bigquery import magics"
   ]
  },
  {
   "cell_type": "code",
   "execution_count": null,
   "id": "b9394119",
   "metadata": {},
   "outputs": [],
   "source": [
    "query = \"\"\"\n",
    "SELECT *\n",
    "FROM `ironhacks-data.ironhacks_competition.unemployment_data` \n",
    "\"\"\""
   ]
  },
  {
   "cell_type": "code",
   "execution_count": null,
   "id": "9c6c9ec3",
   "metadata": {},
   "outputs": [],
   "source": [
    "# QUERY THE DATA ONCE\n",
    "query_job = bigquery_client.query(query)\n",
    "unemployment_data = query_job.to_dataframe()\n",
    "#unemployment_data.head(5)\n",
    "print(unemployment_data.columns)\n",
    "dtype(unemployment_data)"
   ]
  },
  {
   "cell_type": "code",
   "execution_count": null,
   "id": "c04df68c",
   "metadata": {},
   "outputs": [],
   "source": [
    "query = \"\"\"\n",
    "SELECT *\n",
    "FROM `ironhacks-data.ironhacks_competition.unemployment_data` \n",
    "\"\"\""
   ]
  },
  {
   "cell_type": "code",
   "execution_count": null,
   "id": "0682f000",
   "metadata": {},
   "outputs": [],
   "source": [
    "# QUERY THE DATA ONCE\n",
    "query_job = bigquery_client.query(query)\n",
    "unemployment_data = query_job.to_dataframe()\n",
    "#unemployment_data.head(5)\n",
    "print(unemployment_data.columns)\n",
    "unemployment_data.dtypes"
   ]
  },
  {
   "cell_type": "code",
   "execution_count": null,
   "id": "abb08c4e",
   "metadata": {},
   "outputs": [],
   "source": [
    "query = \"\"\"\n",
    "SELECT *\n",
    "FROM `ironhacks-data.ironhacks_competition.unemployment_data` \n",
    "\"\"\""
   ]
  },
  {
   "cell_type": "code",
   "execution_count": null,
   "id": "3f5e98c2",
   "metadata": {},
   "outputs": [],
   "source": [
    "# QUERY THE DATA ONCE\n",
    "query_job = bigquery_client.query(query)\n",
    "unemployment_data = query_job.to_dataframe()\n",
    "#unemployment_data.head(5)\n",
    "print(unemployment_data.columns)"
   ]
  },
  {
   "cell_type": "markdown",
   "id": "78190780",
   "metadata": {},
   "source": [
    "Here, I want to combine the education levels into one dataframe. "
   ]
  },
  {
   "cell_type": "code",
   "execution_count": null,
   "id": "0f085139",
   "metadata": {},
   "outputs": [],
   "source": [
    "edu_level = unemployment_data[['edu_8th_or_less', 'edu_grades_9_11', 'edu_hs_grad_equiv', 'edu_post_hs', 'edu_unknown']]\n",
    "edu_level.head(5)"
   ]
  },
  {
   "cell_type": "code",
   "execution_count": null,
   "id": "c36740da",
   "metadata": {},
   "outputs": [],
   "source": [
    "query = \"\"\"\n",
    "SELECT *\n",
    "FROM `ironhacks-data.ironhacks_competition.unemployment_data` \n",
    "\"\"\""
   ]
  },
  {
   "cell_type": "code",
   "execution_count": null,
   "id": "d1477553",
   "metadata": {},
   "outputs": [],
   "source": [
    "# QUERY THE DATA ONCE\n",
    "query_job = bigquery_client.query(query)\n",
    "unemployment_data = query_job.to_dataframe()\n",
    "unemployment_data.head(5)\n",
    "print(unemployment_data.columns)"
   ]
  },
  {
   "cell_type": "code",
   "execution_count": null,
   "id": "9f5c1937",
   "metadata": {},
   "outputs": [],
   "source": [
    "query = \"\"\"\n",
    "SELECT *\n",
    "FROM `ironhacks-data.ironhacks_competition.unemployment_data` \n",
    "\"\"\""
   ]
  },
  {
   "cell_type": "code",
   "execution_count": null,
   "id": "e434c198",
   "metadata": {},
   "outputs": [],
   "source": [
    "# QUERY THE DATA ONCE\n",
    "query_job = bigquery_client.query(query)\n",
    "unemployment_data = query_job.to_dataframe()\n",
    "unemployment_data.head(5)\n",
    "#print(unemployment_data.columns)"
   ]
  },
  {
   "cell_type": "code",
   "execution_count": null,
   "id": "29b17b59",
   "metadata": {},
   "outputs": [],
   "source": [
    "query = \"\"\"\n",
    "SELECT *\n",
    "FROM `ironhacks-data.ironhacks_competition.unemployment_data` \n",
    "\"\"\""
   ]
  },
  {
   "cell_type": "code",
   "execution_count": null,
   "id": "d3939fc1",
   "metadata": {},
   "outputs": [],
   "source": [
    "# QUERY THE DATA ONCE\n",
    "query_job = bigquery_client.query(query)\n",
    "unemployment_data = query_job.to_dataframe()\n",
    "#unemployment_data.head(5)\n",
    "#print(unemployment_data.columns)"
   ]
  },
  {
   "cell_type": "code",
   "execution_count": null,
   "id": "f8a37099",
   "metadata": {},
   "outputs": [],
   "source": [
    "query = \"\"\"\n",
    "SELECT *\n",
    "FROM `ironhacks-data.ironhacks_competition.unemployment_data` \n",
    "\"\"\""
   ]
  },
  {
   "cell_type": "code",
   "execution_count": null,
   "id": "c9818338",
   "metadata": {},
   "outputs": [],
   "source": [
    "# QUERY THE DATA ONCE\n",
    "query_job = bigquery_client.query(query)\n",
    "unemployment_data = query_job.to_dataframe()\n",
    "#unemployment_data.head(5)\n",
    "#print(unemployment_data.columns)"
   ]
  },
  {
   "cell_type": "code",
   "execution_count": null,
   "id": "8c571daf",
   "metadata": {},
   "outputs": [],
   "source": [
    "query = \"\"\"\n",
    "SELECT *\n",
    "FROM `ironhacks-data.ironhacks_competition.unemployment_data` \n",
    "\"\"\""
   ]
  },
  {
   "cell_type": "code",
   "execution_count": null,
   "id": "4917055f",
   "metadata": {},
   "outputs": [],
   "source": [
    "# QUERY THE DATA ONCE\n",
    "query_job = bigquery_client.query(query)\n",
    "unemployment_data = query_job.to_dataframe()\n",
    "unemployment_data.head(5)\n",
    "#print(unemployment_data.columns)"
   ]
  },
  {
   "cell_type": "markdown",
   "id": "bfc94f47",
   "metadata": {},
   "source": [
    "Here, I want to combine the education levels into one dataframe. "
   ]
  },
  {
   "cell_type": "code",
   "execution_count": null,
   "id": "ed11e3ee",
   "metadata": {},
   "outputs": [],
   "source": [
    "edu_level = unemployment_data[['uu_id', 'edu_8th_or_less', 'edu_grades_9_11', 'edu_hs_grad_equiv', 'edu_post_hs', 'edu_unknown']]\n",
    "edu_level.head(5)"
   ]
  },
  {
   "cell_type": "code",
   "execution_count": null,
   "id": "a2e0938f",
   "metadata": {},
   "outputs": [],
   "source": [
    "edu_lvl = edu_level.groupby(['uu_id'])['edu_8th_or_less'].count().reset_index(\n",
    "  name='Count').sort_values(['Count'], ascending=True)"
   ]
  },
  {
   "cell_type": "markdown",
   "id": "4b93f11f",
   "metadata": {},
   "source": [
    "Here, I want to combine the education levels into one dataframe. "
   ]
  },
  {
   "cell_type": "code",
   "execution_count": null,
   "id": "c779ac55",
   "metadata": {},
   "outputs": [],
   "source": [
    "edu_level = unemployment_data[['uu_id', 'edu_8th_or_less', 'edu_grades_9_11', 'edu_hs_grad_equiv', 'edu_post_hs', 'edu_unknown']]\n",
    "edu_level.head(5)"
   ]
  },
  {
   "cell_type": "code",
   "execution_count": null,
   "id": "69a44dc2",
   "metadata": {},
   "outputs": [],
   "source": [
    "edu_lvl = edu_level.groupby(['uu_id'])['edu_8th_or_less'].count().reset_index(\n",
    "  name='Count').sort_values(['Count'], ascending=True)"
   ]
  },
  {
   "cell_type": "markdown",
   "id": "343af5ff",
   "metadata": {},
   "source": [
    "Here, I want to combine the education levels into one dataframe. "
   ]
  },
  {
   "cell_type": "code",
   "execution_count": null,
   "id": "333e410c",
   "metadata": {},
   "outputs": [],
   "source": [
    "edu_level = unemployment_data[['uu_id', 'edu_8th_or_less', 'edu_grades_9_11', 'edu_hs_grad_equiv', 'edu_post_hs', 'edu_unknown']]\n",
    "edu_level.head(5)"
   ]
  },
  {
   "cell_type": "code",
   "execution_count": null,
   "id": "b3026dba",
   "metadata": {},
   "outputs": [],
   "source": [
    "edu_lvl = edu_level.groupby(['uu_id'])['edu_8th_or_less'].count().reset_index(\n",
    "  name='Count').sort_values(['Count'], ascending=True)"
   ]
  },
  {
   "cell_type": "code",
   "execution_count": null,
   "id": "58479ea8",
   "metadata": {},
   "outputs": [],
   "source": [
    "edu_lvl.head(5)"
   ]
  },
  {
   "cell_type": "markdown",
   "id": "0605196a",
   "metadata": {},
   "source": [
    "Here, I want to combine the education levels into one dataframe. "
   ]
  },
  {
   "cell_type": "code",
   "execution_count": null,
   "id": "3d0b4935",
   "metadata": {},
   "outputs": [],
   "source": [
    "edu_level = unemployment_data[['uu_id', 'edu_8th_or_less', 'edu_grades_9_11', 'edu_hs_grad_equiv', 'edu_post_hs', 'edu_unknown']]\n",
    "edu_level.head(5)"
   ]
  },
  {
   "cell_type": "code",
   "execution_count": null,
   "id": "a35b3d62",
   "metadata": {},
   "outputs": [],
   "source": [
    "edu_lvl = edu_level.groupby(['uu_id'])['edu_8th_or_less'].count().reset_index(\n",
    "  name='Count').sort_values(['Count'], ascending=True)"
   ]
  },
  {
   "cell_type": "code",
   "execution_count": null,
   "id": "b623eb43",
   "metadata": {},
   "outputs": [],
   "source": [
    "edu_lvl.head(15)"
   ]
  },
  {
   "cell_type": "markdown",
   "id": "999bec35",
   "metadata": {},
   "source": [
    "Here, I want to combine the education levels into one dataframe. "
   ]
  },
  {
   "cell_type": "code",
   "execution_count": null,
   "id": "96ecdab1",
   "metadata": {},
   "outputs": [],
   "source": [
    "edu_level = unemployment_data[['uu_id', 'total_claims', 'edu_8th_or_less', 'edu_grades_9_11', 'edu_hs_grad_equiv', 'edu_post_hs', 'edu_unknown']]\n",
    "edu_level.head(5)"
   ]
  },
  {
   "cell_type": "code",
   "execution_count": null,
   "id": "a3ce0fbd",
   "metadata": {},
   "outputs": [],
   "source": [
    "edu_lvl = edu_level.groupby(['uu_id'])['edu_8th_or_less'].count().reset_index(\n",
    "  name='Count').sort_values(['Count'], ascending=True)"
   ]
  },
  {
   "cell_type": "code",
   "execution_count": null,
   "id": "aed3fcb3",
   "metadata": {},
   "outputs": [],
   "source": [
    "edu_lvl.head(15)"
   ]
  },
  {
   "cell_type": "markdown",
   "id": "0f0a0943",
   "metadata": {},
   "source": [
    "Here, I want to combine the education levels into one dataframe. "
   ]
  },
  {
   "cell_type": "code",
   "execution_count": null,
   "id": "3721284e",
   "metadata": {},
   "outputs": [],
   "source": [
    "edu_level = unemployment_data[['uu_id', 'total_claims', 'edu_8th_or_less', 'edu_grades_9_11', 'edu_hs_grad_equiv', 'edu_post_hs', 'edu_unknown']]\n",
    "edu_level.head(5)"
   ]
  },
  {
   "cell_type": "code",
   "execution_count": null,
   "id": "ee02df27",
   "metadata": {},
   "outputs": [],
   "source": [
    "edu_lvl = edu_level.groupby(['uu_id'])['total_claims'].count().reset_index(\n",
    "  name='Count').sort_values(['Count'], ascending=True)"
   ]
  },
  {
   "cell_type": "code",
   "execution_count": null,
   "id": "1e7af963",
   "metadata": {},
   "outputs": [],
   "source": [
    "edu_lvl.head(15)"
   ]
  },
  {
   "cell_type": "markdown",
   "id": "9ea05e27",
   "metadata": {},
   "source": [
    "Here, I want to combine the education levels into one dataframe. "
   ]
  },
  {
   "cell_type": "code",
   "execution_count": null,
   "id": "a49e0a4f",
   "metadata": {},
   "outputs": [],
   "source": [
    "edu_level = unemployment_data[['uu_id', 'total_claims', 'edu_8th_or_less', 'edu_grades_9_11', 'edu_hs_grad_equiv', 'edu_post_hs', 'edu_unknown']]\n",
    "edu_level.head(5)"
   ]
  },
  {
   "cell_type": "code",
   "execution_count": null,
   "id": "e1faf899",
   "metadata": {},
   "outputs": [],
   "source": [
    "edu_lvl = edu_level.groupby(['total_claims'])['edu_8th_or_less'].count().reset_index(\n",
    "  name='Count').sort_values(['Count'], ascending=True)"
   ]
  },
  {
   "cell_type": "code",
   "execution_count": null,
   "id": "c29182c3",
   "metadata": {},
   "outputs": [],
   "source": [
    "edu_lvl.head(15)"
   ]
  },
  {
   "cell_type": "markdown",
   "id": "2c388964",
   "metadata": {},
   "source": [
    "Here, I want to combine the education levels into one dataframe. "
   ]
  },
  {
   "cell_type": "code",
   "execution_count": null,
   "id": "67aff984",
   "metadata": {},
   "outputs": [],
   "source": [
    "edu_level = unemployment_data[['uu_id', 'total_claims', 'edu_8th_or_less', 'edu_grades_9_11', 'edu_hs_grad_equiv', 'edu_post_hs', 'edu_unknown']]\n",
    "edu_level.head(5)"
   ]
  },
  {
   "cell_type": "code",
   "execution_count": null,
   "id": "dc98f72d",
   "metadata": {},
   "outputs": [],
   "source": [
    "edu_lvl = edu_level.groupby(['total_claims'])['edu_8th_or_less'].count().reset_index(\n",
    "  name='Count').sort_values(['Count'], ascending=True)"
   ]
  },
  {
   "cell_type": "code",
   "execution_count": null,
   "id": "f27ba25b",
   "metadata": {},
   "outputs": [],
   "source": [
    "edu_lvl.head()"
   ]
  },
  {
   "cell_type": "markdown",
   "id": "a65daf93",
   "metadata": {},
   "source": [
    "Here, I want to combine the education levels into one dataframe. "
   ]
  },
  {
   "cell_type": "code",
   "execution_count": null,
   "id": "5222cdd3",
   "metadata": {},
   "outputs": [],
   "source": [
    "edu_level = unemployment_data[['uu_id', 'total_claims', 'edu_8th_or_less', 'edu_grades_9_11', 'edu_hs_grad_equiv', 'edu_post_hs', 'edu_unknown']]\n",
    "edu_level.head(5)"
   ]
  },
  {
   "cell_type": "code",
   "execution_count": null,
   "id": "fbe0a5cb",
   "metadata": {},
   "outputs": [],
   "source": [
    "edu_lvl = edu_level.groupby(['total_claims'])['edu_8th_or_less'].count().reset_index(\n",
    "  name='Count').sort_values(['Count'], ascending=True)"
   ]
  },
  {
   "cell_type": "code",
   "execution_count": null,
   "id": "908aebeb",
   "metadata": {},
   "outputs": [],
   "source": [
    "edu_lvl.head()"
   ]
  },
  {
   "cell_type": "markdown",
   "id": "8c12c83f",
   "metadata": {},
   "source": [
    "Here, I want to combine the education levels into one dataframe. "
   ]
  },
  {
   "cell_type": "code",
   "execution_count": null,
   "id": "71ce3fe9",
   "metadata": {},
   "outputs": [],
   "source": [
    "edu_level = unemployment_data[['uu_id', 'total_claims', 'edu_8th_or_less', 'edu_grades_9_11', 'edu_hs_grad_equiv', 'edu_post_hs', 'edu_unknown']]\n",
    "edu_level.head(5)"
   ]
  },
  {
   "cell_type": "code",
   "execution_count": null,
   "id": "dca70c89",
   "metadata": {},
   "outputs": [],
   "source": [
    "edu_lvl = edu_level.groupby(['total_claims'])['edu_8th_or_less'].count().reset_index(\n",
    "  name='Count').sort_values(['Count'], ascending=True)"
   ]
  },
  {
   "cell_type": "code",
   "execution_count": null,
   "id": "81aa0a6d",
   "metadata": {},
   "outputs": [],
   "source": [
    "edu_lvl.max()"
   ]
  },
  {
   "cell_type": "markdown",
   "id": "c073a48b",
   "metadata": {},
   "source": [
    "Here, I want to combine the education levels into one dataframe. "
   ]
  },
  {
   "cell_type": "code",
   "execution_count": null,
   "id": "7f2b1d9f",
   "metadata": {},
   "outputs": [],
   "source": [
    "edu_level = unemployment_data[['uu_id', 'total_claims', 'edu_8th_or_less', 'edu_grades_9_11', 'edu_hs_grad_equiv', 'edu_post_hs', 'edu_unknown']]\n",
    "edu_level.head(5)"
   ]
  },
  {
   "cell_type": "code",
   "execution_count": null,
   "id": "0fdbb686",
   "metadata": {},
   "outputs": [],
   "source": [
    "edu_lvl = edu_level.groupby(['total_claims'])['edu_8th_or_less'].count().reset_index(\n",
    "  name='Count').sort_values(['Count'], ascending=True)"
   ]
  },
  {
   "cell_type": "code",
   "execution_count": null,
   "id": "1c495664",
   "metadata": {},
   "outputs": [],
   "source": [
    "edu_lvl.min()"
   ]
  },
  {
   "cell_type": "markdown",
   "id": "30c6dc5f",
   "metadata": {},
   "source": [
    "Here, I want to combine the education levels into one dataframe. "
   ]
  },
  {
   "cell_type": "code",
   "execution_count": null,
   "id": "e31dc4a9",
   "metadata": {},
   "outputs": [],
   "source": [
    "edu_level = unemployment_data[['uu_id', 'total_claims', 'edu_8th_or_less', 'edu_grades_9_11', 'edu_hs_grad_equiv', 'edu_post_hs', 'edu_unknown']]\n",
    "edu_level.head(5)"
   ]
  },
  {
   "cell_type": "code",
   "execution_count": null,
   "id": "28582464",
   "metadata": {},
   "outputs": [],
   "source": [
    "edu_lvl = edu_level.groupby(['total_claims'])['edu_8th_or_less'].count().reset_index(\n",
    "  name='Count').sort_values(['Count'], ascending=True)"
   ]
  },
  {
   "cell_type": "code",
   "execution_count": null,
   "id": "816e36ca",
   "metadata": {},
   "outputs": [],
   "source": [
    "edu_lvl.max()"
   ]
  },
  {
   "cell_type": "markdown",
   "id": "1e22c2b1",
   "metadata": {},
   "source": [
    "Here, I want to combine the education levels into one dataframe. "
   ]
  },
  {
   "cell_type": "code",
   "execution_count": null,
   "id": "126be0e0",
   "metadata": {},
   "outputs": [],
   "source": [
    "gender = unemployment_data[['uu_id', 'total_claims', 'gender_female', 'gender_male', 'gender_na']]\n",
    "edu_level.head(5)"
   ]
  },
  {
   "cell_type": "code",
   "execution_count": null,
   "id": "3053495a",
   "metadata": {},
   "outputs": [],
   "source": [
    "edu_lvl = edu_level.groupby(['total_claims'])['edu_8th_or_less'].count().reset_index(\n",
    "  name='Count').sort_values(['Count'], ascending=True)"
   ]
  },
  {
   "cell_type": "code",
   "execution_count": null,
   "id": "62b5df04",
   "metadata": {},
   "outputs": [],
   "source": [
    "edu_lvl.max()"
   ]
  },
  {
   "cell_type": "markdown",
   "id": "1fec914a",
   "metadata": {},
   "source": [
    "Here, I want to combine the education levels into one dataframe. "
   ]
  },
  {
   "cell_type": "code",
   "execution_count": null,
   "id": "b601592a",
   "metadata": {},
   "outputs": [],
   "source": [
    "gender = unemployment_data[['uu_id', 'total_claims', 'gender_female', 'gender_male', 'gender_na']]\n",
    "edu_level.head(5)"
   ]
  },
  {
   "cell_type": "code",
   "execution_count": null,
   "id": "3709a3b1",
   "metadata": {},
   "outputs": [],
   "source": [
    "gender = edu_level.groupby(['total_claims'])['edu_8th_or_less'].count().reset_index(\n",
    "  name='Count').sort_values(['Count'], ascending=True)"
   ]
  },
  {
   "cell_type": "code",
   "execution_count": null,
   "id": "def7f212",
   "metadata": {},
   "outputs": [],
   "source": [
    "gender.max()"
   ]
  },
  {
   "cell_type": "markdown",
   "id": "2c487542",
   "metadata": {},
   "source": [
    "Here, I want to combine the education levels into one dataframe. "
   ]
  },
  {
   "cell_type": "code",
   "execution_count": null,
   "id": "9c374580",
   "metadata": {},
   "outputs": [],
   "source": [
    "gender = unemployment_data[['uu_id', 'total_claims', 'gender_female', 'gender_male', 'gender_na']]\n",
    "edu_level.head(5)"
   ]
  },
  {
   "cell_type": "code",
   "execution_count": null,
   "id": "8044abc6",
   "metadata": {},
   "outputs": [],
   "source": [
    "gender = edu_level.groupby(['total_claims'])['edu_8th_or_less'].count().reset_index(\n",
    "  name='Count').sort_values(['Count'], ascending=True)"
   ]
  },
  {
   "cell_type": "code",
   "execution_count": null,
   "id": "69fb3b04",
   "metadata": {},
   "outputs": [],
   "source": [
    "gender.head()"
   ]
  },
  {
   "cell_type": "markdown",
   "id": "9a71ee12",
   "metadata": {},
   "source": [
    "Here, I want to combine the education levels into one dataframe. "
   ]
  },
  {
   "cell_type": "code",
   "execution_count": null,
   "id": "0211a8c2",
   "metadata": {},
   "outputs": [],
   "source": [
    "gender = unemployment_data[['uu_id', 'total_claims', 'gender_female', 'gender_male', 'gender_na']]\n",
    "edu_level.head(5)"
   ]
  },
  {
   "cell_type": "code",
   "execution_count": null,
   "id": "678650c3",
   "metadata": {},
   "outputs": [],
   "source": [
    "gender = edu_level.groupby(['total_claims'])['gender_female'].count().reset_index(\n",
    "  name='Count').sort_values(['Count'], ascending=True)"
   ]
  },
  {
   "cell_type": "code",
   "execution_count": null,
   "id": "379147af",
   "metadata": {},
   "outputs": [],
   "source": [
    "gender.head()"
   ]
  },
  {
   "cell_type": "markdown",
   "id": "6e31c110",
   "metadata": {},
   "source": [
    "Here, I want to combine the education levels into one dataframe. "
   ]
  },
  {
   "cell_type": "code",
   "execution_count": null,
   "id": "910cc6a3",
   "metadata": {},
   "outputs": [],
   "source": [
    "gender = unemployment_data[['uu_id', 'total_claims', 'gender_female', 'gender_male', 'gender_na']]\n",
    "edu_level.head(5)"
   ]
  },
  {
   "cell_type": "code",
   "execution_count": null,
   "id": "49c18335",
   "metadata": {},
   "outputs": [],
   "source": [
    "genders = gender.groupby(['total_claims'])['gender_female'].count().reset_index(\n",
    "  name='Count').sort_values(['Count'], ascending=True)"
   ]
  },
  {
   "cell_type": "code",
   "execution_count": null,
   "id": "44bc2373",
   "metadata": {},
   "outputs": [],
   "source": [
    "genders.head()"
   ]
  },
  {
   "cell_type": "markdown",
   "id": "5072923c",
   "metadata": {},
   "source": [
    "Here, I want to combine the education levels into one dataframe. "
   ]
  },
  {
   "cell_type": "code",
   "execution_count": null,
   "id": "8f2b2f5a",
   "metadata": {},
   "outputs": [],
   "source": [
    "gender = unemployment_data[['uu_id', 'total_claims', 'gender_female', 'gender_male', 'gender_na']]\n",
    "edu_level.head(5)"
   ]
  },
  {
   "cell_type": "code",
   "execution_count": null,
   "id": "d620ce9c",
   "metadata": {},
   "outputs": [],
   "source": [
    "genders = gender.groupby(['total_claims', 'uu_id'])['gender_female'].count().reset_index(\n",
    "  name='Count').sort_values(['Count'], ascending=True)"
   ]
  },
  {
   "cell_type": "code",
   "execution_count": null,
   "id": "c8f0031f",
   "metadata": {},
   "outputs": [],
   "source": [
    "genders.head()"
   ]
  },
  {
   "cell_type": "markdown",
   "id": "642c1427",
   "metadata": {},
   "source": [
    "Here, I want to combine the education levels into one dataframe. "
   ]
  },
  {
   "cell_type": "code",
   "execution_count": null,
   "id": "eea77a83",
   "metadata": {},
   "outputs": [],
   "source": [
    "gender = unemployment_data[['uu_id', 'total_claims', 'gender_female', 'gender_male', 'gender_na']]\n",
    "edu_level.head(5)"
   ]
  },
  {
   "cell_type": "code",
   "execution_count": null,
   "id": "43b0366a",
   "metadata": {},
   "outputs": [],
   "source": [
    "genders = gender.groupby(['total_claims', 'uu_id'])['gender_female', 'gender_male'].count().reset_index(\n",
    "  name='Count').sort_values(['Count'], ascending=True)"
   ]
  },
  {
   "cell_type": "code",
   "execution_count": null,
   "id": "315c82aa",
   "metadata": {},
   "outputs": [],
   "source": [
    "genders.head()"
   ]
  },
  {
   "cell_type": "markdown",
   "id": "152aa1b0",
   "metadata": {},
   "source": [
    "Here, I want to combine the education levels into one dataframe. "
   ]
  },
  {
   "cell_type": "code",
   "execution_count": null,
   "id": "8e96d60e",
   "metadata": {},
   "outputs": [],
   "source": [
    "gender = unemployment_data[['uu_id', 'total_claims', 'gender_female', 'gender_male', 'gender_na']]\n",
    "edu_level.head(5)"
   ]
  },
  {
   "cell_type": "code",
   "execution_count": null,
   "id": "f630553e",
   "metadata": {},
   "outputs": [],
   "source": [
    "genders = gender.groupby(['total_claims', 'uu_id'])['gender_female'].count().reset_index(\n",
    "  name='Count').sort_values(['Count'], ascending=True)"
   ]
  },
  {
   "cell_type": "code",
   "execution_count": null,
   "id": "6bd3088b",
   "metadata": {},
   "outputs": [],
   "source": [
    "genders.head()"
   ]
  },
  {
   "cell_type": "markdown",
   "id": "44c46b85",
   "metadata": {},
   "source": [
    "Here, I want to combine the education levels into one dataframe. "
   ]
  },
  {
   "cell_type": "code",
   "execution_count": null,
   "id": "c219790e",
   "metadata": {},
   "outputs": [],
   "source": [
    "gender = unemployment_data[['uu_id', 'total_claims', 'gender_female', 'gender_male', 'gender_na']]\n",
    "edu_level.head(5)"
   ]
  },
  {
   "cell_type": "code",
   "execution_count": null,
   "id": "73d04eee",
   "metadata": {},
   "outputs": [],
   "source": [
    "genders = gender.groupby(['total_claims', 'uu_id'])['gender_female'].count().reset_index(\n",
    "  name='Count').sort_values(['Count'], ascending=True)"
   ]
  },
  {
   "cell_type": "code",
   "execution_count": null,
   "id": "ffdc73cf",
   "metadata": {},
   "outputs": [],
   "source": [
    "genders.max()"
   ]
  },
  {
   "cell_type": "code",
   "execution_count": null,
   "id": "9bddf3c5",
   "metadata": {},
   "outputs": [],
   "source": [
    "df = unemployment_data.dropna()\n",
    "df.head()"
   ]
  },
  {
   "cell_type": "markdown",
   "id": "396931c5",
   "metadata": {},
   "source": [
    "- IMPORT THE LIBRARIES YOU WILL USE\n",
    "------------------------------------------\n",
    "You only need to import packages one time per notebook session. To keep your\n",
    "notebook clean and organized you can handle all imports at the top of your file.\n",
    "The following are included for example purposed, feel free to modify or delete \n",
    "anything in this section."
   ]
  },
  {
   "cell_type": "code",
   "execution_count": null,
   "id": "577ec2c0",
   "metadata": {},
   "outputs": [],
   "source": [
    "import csv\n",
    "import pandas as pd\n",
    "import numpy as np\n",
    "import matplotlib\n",
    "import matplotlib.pyplot as plt\n",
    "import seaborn as sns\n",
    "get_ipython().run_line_magic('matplotlib', 'inline')\n",
    "from sklearn.model_selection import train_test_split \n",
    "from sklearn.linear_model import LinearRegression\n",
    "from sklearn import metrics"
   ]
  },
  {
   "cell_type": "code",
   "execution_count": null,
   "id": "f78d7f11",
   "metadata": {},
   "outputs": [],
   "source": [
    "from google.cloud import bigquery\n",
    "from google.oauth2 import service_account\n",
    "from google.cloud.bigquery import magics"
   ]
  },
  {
   "cell_type": "markdown",
   "id": "6dba36e6",
   "metadata": {},
   "source": [
    "Here, I want to combine the gender into one dataframe. "
   ]
  },
  {
   "cell_type": "code",
   "execution_count": null,
   "id": "dce8e392",
   "metadata": {},
   "outputs": [],
   "source": [
    "gender = df[['uu_id', 'total_claims', 'gender_female', 'gender_male', 'gender_na']]"
   ]
  },
  {
   "cell_type": "code",
   "execution_count": null,
   "id": "4fce2741",
   "metadata": {},
   "outputs": [],
   "source": [
    "query = \"\"\"\n",
    "SELECT *\n",
    "FROM `ironhacks-data.ironhacks_competition.unemployment_data` \n",
    "\"\"\""
   ]
  },
  {
   "cell_type": "code",
   "execution_count": null,
   "id": "7fc265b0",
   "metadata": {},
   "outputs": [],
   "source": [
    "# QUERY THE DATA ONCE\n",
    "query_job = bigquery_client.query(query)\n",
    "unemployment_data = query_job.to_dataframe()\n",
    "unemployment_data.head(5)\n",
    "print(unemployment_data.columns)"
   ]
  },
  {
   "cell_type": "markdown",
   "id": "6ac439b7",
   "metadata": {},
   "source": [
    "SPLIT training set"
   ]
  },
  {
   "cell_type": "code",
   "execution_count": null,
   "id": "daa64129",
   "metadata": {},
   "outputs": [],
   "source": [
    "x = df['edu_post_hs'].values.reshape(-1,1)\n",
    "y = df['total_claims'].values.reshape(-1,1)"
   ]
  },
  {
   "cell_type": "markdown",
   "id": "7d6d8e43",
   "metadata": {},
   "source": [
    "SPLIT training set"
   ]
  },
  {
   "cell_type": "code",
   "execution_count": null,
   "id": "405d69be",
   "metadata": {},
   "outputs": [],
   "source": [
    "X = df['edu_post_hs'].values.reshape(-1,1)\n",
    "Y = df['total_claims'].values.reshape(-1,1)"
   ]
  },
  {
   "cell_type": "code",
   "execution_count": null,
   "id": "ffb5c56f",
   "metadata": {},
   "outputs": [],
   "source": [
    "X_train, X_test, y_train, y_test = train_test_split(X, y, test_size=0.2, random_state=0)"
   ]
  },
  {
   "cell_type": "code",
   "execution_count": null,
   "id": "7992531d",
   "metadata": {},
   "outputs": [],
   "source": [
    "regressor = LinearRegression()  \n",
    "regressor.fit(X_train, y_train)"
   ]
  },
  {
   "cell_type": "code",
   "execution_count": null,
   "id": "1c6cbc38",
   "metadata": {},
   "outputs": [],
   "source": [
    "#To retrieve the intercept:\n",
    "print(regressor.intercept_)"
   ]
  },
  {
   "cell_type": "code",
   "execution_count": null,
   "id": "8f87eb3a",
   "metadata": {},
   "outputs": [],
   "source": [
    "#For retrieving the slope:\n",
    "print(regressor.coef_)"
   ]
  },
  {
   "cell_type": "code",
   "execution_count": null,
   "id": "46c596f2",
   "metadata": {},
   "outputs": [],
   "source": [
    "y_pred = regressor.predict(X_test)"
   ]
  },
  {
   "cell_type": "code",
   "execution_count": null,
   "id": "23eb9357",
   "metadata": {},
   "outputs": [],
   "source": [
    "df2 = pd.DataFrame({'Actual': y_test.flatten(), 'Predicted': y_pred.flatten()})\n",
    "df2"
   ]
  },
  {
   "cell_type": "code",
   "execution_count": null,
   "id": "4cedff98",
   "metadata": {},
   "outputs": [],
   "source": [
    "df2 = pd.DataFrame({'Actual': y_test.flatten(), 'Predicted': y_pred.flatten()})\n",
    "df2"
   ]
  },
  {
   "cell_type": "code",
   "execution_count": null,
   "id": "afd449d2",
   "metadata": {},
   "outputs": [],
   "source": [
    "y_pred = regressor.predict(X_test)"
   ]
  },
  {
   "cell_type": "code",
   "execution_count": null,
   "id": "9c4b7a1a",
   "metadata": {},
   "outputs": [],
   "source": [
    "df2 = pd.DataFrame({'Actual': y_test.flatten(), 'Predicted': y_pred.flatten()})\n",
    "df2"
   ]
  },
  {
   "cell_type": "code",
   "execution_count": null,
   "id": "63840244",
   "metadata": {},
   "outputs": [],
   "source": [
    "df2 = pd.DataFrame({'Actual': y_test, 'Predicted': y_pred.flatten()})\n",
    "df2"
   ]
  },
  {
   "cell_type": "code",
   "execution_count": null,
   "id": "0a87258b",
   "metadata": {},
   "outputs": [],
   "source": [
    "df2 = pd.DataFrame({'Actual': y_test , 'Predicted': y_pred.flatten()})\n",
    "df2"
   ]
  },
  {
   "cell_type": "code",
   "execution_count": null,
   "id": "24f1916b",
   "metadata": {},
   "outputs": [],
   "source": [
    "df1 = df.head(25)\n",
    "df1.plot(kind='bar',figsize=(16,10))\n",
    "plt.grid(which='major', linestyle='-', linewidth='0.5', color='green')\n",
    "plt.grid(which='minor', linestyle=':', linewidth='0.5', color='black')\n",
    "plt.show()"
   ]
  },
  {
   "cell_type": "code",
   "execution_count": null,
   "id": "3759b43e",
   "metadata": {},
   "outputs": [],
   "source": [
    "plt.scatter(X_test, y_test,  color='gray')\n",
    "plt.plot(X_test, y_pred, color='red', linewidth=2)\n",
    "plt.show()"
   ]
  },
  {
   "cell_type": "code",
   "execution_count": null,
   "id": "e4119939",
   "metadata": {},
   "outputs": [],
   "source": [
    "print('Mean Absolute Error:', metrics.mean_absolute_error(y_test, y_pred))  \n",
    "print('Mean Squared Error:', metrics.mean_squared_error(y_test, y_pred))  \n",
    "print('Root Mean Squared Error:', np.sqrt(metrics.mean_squared_error(y_test, y_pred)))"
   ]
  },
  {
   "cell_type": "code",
   "execution_count": null,
   "id": "d94ab80d",
   "metadata": {},
   "outputs": [],
   "source": [
    "df2 = df.head(25)\n",
    "df1.plot(kind='bar',figsize=(16,10))\n",
    "plt.grid(which='major', linestyle='-', linewidth='0.5', color='green')\n",
    "plt.grid(which='minor', linestyle=':', linewidth='0.5', color='black')\n",
    "plt.show()"
   ]
  },
  {
   "cell_type": "code",
   "execution_count": null,
   "id": "64f06290",
   "metadata": {},
   "outputs": [],
   "source": [
    "df2 = pd.DataFrame({'Actual': y_test.flatten() , 'Predicted': y_pred.flatten()})\n",
    "df2"
   ]
  },
  {
   "cell_type": "markdown",
   "id": "9b6f3d7b",
   "metadata": {},
   "source": [
    "SPLIT training set"
   ]
  },
  {
   "cell_type": "code",
   "execution_count": null,
   "id": "9de9c957",
   "metadata": {},
   "outputs": [],
   "source": [
    "X = df['uu_id'].values.reshape(-1,1)\n",
    "Y = df['total_claims'].values.reshape(-1,1)"
   ]
  },
  {
   "cell_type": "code",
   "execution_count": null,
   "id": "f994b5ac",
   "metadata": {},
   "outputs": [],
   "source": [
    "X_train, X_test, y_train, y_test = train_test_split(X, y, test_size=0.2, random_state=0)"
   ]
  },
  {
   "cell_type": "code",
   "execution_count": null,
   "id": "0b28c1cb",
   "metadata": {},
   "outputs": [],
   "source": [
    "regressor = LinearRegression()  \n",
    "regressor.fit(X_train, y_train)"
   ]
  },
  {
   "cell_type": "markdown",
   "id": "70f5bf5d",
   "metadata": {},
   "source": [
    "SPLIT training set"
   ]
  },
  {
   "cell_type": "code",
   "execution_count": null,
   "id": "b1a5a96b",
   "metadata": {},
   "outputs": [],
   "source": [
    "X = df['top_category_employer1'].values.reshape(-1,1)\n",
    "Y = df['total_claims'].values.reshape(-1,1)"
   ]
  },
  {
   "cell_type": "code",
   "execution_count": null,
   "id": "c8843bfc",
   "metadata": {},
   "outputs": [],
   "source": [
    "X_train, X_test, y_train, y_test = train_test_split(X, y, test_size=0.2, random_state=0)"
   ]
  },
  {
   "cell_type": "code",
   "execution_count": null,
   "id": "44df5f03",
   "metadata": {},
   "outputs": [],
   "source": [
    "regressor = LinearRegression()  \n",
    "regressor.fit(X_train, y_train)"
   ]
  },
  {
   "cell_type": "markdown",
   "id": "3dea6b44",
   "metadata": {},
   "source": [
    "SPLIT training set"
   ]
  },
  {
   "cell_type": "code",
   "execution_count": null,
   "id": "d3ef6f37",
   "metadata": {},
   "outputs": [],
   "source": [
    "X = df['edu_8th_or_less'].values.reshape(-1,1)\n",
    "Y = df['total_claims'].values.reshape(-1,1)"
   ]
  },
  {
   "cell_type": "code",
   "execution_count": null,
   "id": "b9313b78",
   "metadata": {},
   "outputs": [],
   "source": [
    "X_train, X_test, y_train, y_test = train_test_split(X, y, test_size=0.2, random_state=0)"
   ]
  },
  {
   "cell_type": "code",
   "execution_count": null,
   "id": "c5f18248",
   "metadata": {},
   "outputs": [],
   "source": [
    "regressor = LinearRegression()  \n",
    "regressor.fit(X_train, y_train)"
   ]
  },
  {
   "cell_type": "code",
   "execution_count": null,
   "id": "8da21154",
   "metadata": {},
   "outputs": [],
   "source": [
    "#To retrieve the intercept:\n",
    "print(regressor.intercept_)"
   ]
  },
  {
   "cell_type": "code",
   "execution_count": null,
   "id": "9459ecb2",
   "metadata": {},
   "outputs": [],
   "source": [
    "#For retrieving the slope:\n",
    "print(regressor.coef_)"
   ]
  },
  {
   "cell_type": "code",
   "execution_count": null,
   "id": "6d982fff",
   "metadata": {},
   "outputs": [],
   "source": [
    "y_pred = regressor.predict(X_test)"
   ]
  },
  {
   "cell_type": "code",
   "execution_count": null,
   "id": "069df1ee",
   "metadata": {},
   "outputs": [],
   "source": [
    "df2 = pd.DataFrame({'Actual': y_test.flatten() , 'Predicted': y_pred.flatten()})\n",
    "df2"
   ]
  },
  {
   "cell_type": "code",
   "execution_count": null,
   "id": "e5bb822f",
   "metadata": {},
   "outputs": [],
   "source": [
    "df2 = pd.DataFrame({'Actual': y_test.flatten , 'Predicted': y_pred.flatten()})\n",
    "df2"
   ]
  },
  {
   "cell_type": "code",
   "execution_count": null,
   "id": "a7e621ba",
   "metadata": {},
   "outputs": [],
   "source": [
    "df2 = pd.DataFrame({'Actual': y_test , 'Predicted': y_pred.flatten()})\n",
    "df2"
   ]
  },
  {
   "cell_type": "code",
   "execution_count": null,
   "id": "75b40bca",
   "metadata": {},
   "outputs": [],
   "source": [
    "X_train, X_test, y_train, y_test = train_test_split(X, y, test_size=0.5, random_state=0)"
   ]
  },
  {
   "cell_type": "code",
   "execution_count": null,
   "id": "1724f71b",
   "metadata": {},
   "outputs": [],
   "source": [
    "df2 = pd.DataFrame({'Actual': y_test , 'Predicted': y_pred.flatten()})\n",
    "df2"
   ]
  },
  {
   "cell_type": "code",
   "execution_count": null,
   "id": "f03e5e04",
   "metadata": {},
   "outputs": [],
   "source": [
    "X_train, X_test, y_train, y_test = train_test_split(X, y, test_size=0.1, random_state=0)"
   ]
  },
  {
   "cell_type": "code",
   "execution_count": null,
   "id": "82ed32ca",
   "metadata": {},
   "outputs": [],
   "source": [
    "df2 = pd.DataFrame({'Actual': y_test , 'Predicted': y_pred.flatten()})\n",
    "df2"
   ]
  },
  {
   "cell_type": "code",
   "execution_count": null,
   "id": "34be1d01",
   "metadata": {},
   "outputs": [],
   "source": [
    "X_train, X_test, y_train, y_test = train_test_split(X, y, test_size=0.3, random_state=0)"
   ]
  },
  {
   "cell_type": "code",
   "execution_count": null,
   "id": "4d25089f",
   "metadata": {},
   "outputs": [],
   "source": [
    "df2 = pd.DataFrame({'Actual': y_test , 'Predicted': y_pred.flatten()})\n",
    "df2"
   ]
  },
  {
   "cell_type": "code",
   "execution_count": null,
   "id": "de008968",
   "metadata": {},
   "outputs": [],
   "source": [
    "X_train, X_test, y_train, y_test = train_test_split(X, y, test_size=0.2, random_state=0)"
   ]
  },
  {
   "cell_type": "code",
   "execution_count": null,
   "id": "401e1f29",
   "metadata": {},
   "outputs": [],
   "source": [
    "df2 = pd.DataFrame({'Actual': y_test , 'Predicted': y_pred.flatten()})\n",
    "df2"
   ]
  },
  {
   "cell_type": "markdown",
   "id": "05b278eb",
   "metadata": {},
   "source": [
    "SPLIT training set"
   ]
  },
  {
   "cell_type": "code",
   "execution_count": null,
   "id": "7f83845f",
   "metadata": {},
   "outputs": [],
   "source": [
    "X = df['edu_post_hs'].values.reshape(-1,1)\n",
    "Y = df['total_claims'].values.reshape(-1,1)"
   ]
  },
  {
   "cell_type": "markdown",
   "id": "79195964",
   "metadata": {},
   "source": [
    "SPLIT training set"
   ]
  },
  {
   "cell_type": "code",
   "execution_count": null,
   "id": "c71e9112",
   "metadata": {},
   "outputs": [],
   "source": [
    "X = df['edu_post_hs'].values.reshape(-1,1)\n",
    "Y = df['total_claims'].values.reshape(-1,1)"
   ]
  },
  {
   "cell_type": "code",
   "execution_count": null,
   "id": "0799377c",
   "metadata": {},
   "outputs": [],
   "source": [
    "X_train, X_test, y_train, y_test = train_test_split(X, y, test_size=0.2, random_state=0)"
   ]
  },
  {
   "cell_type": "code",
   "execution_count": null,
   "id": "cd8c5fc0",
   "metadata": {},
   "outputs": [],
   "source": [
    "y_pred = regressor.predict(X_test)"
   ]
  },
  {
   "cell_type": "code",
   "execution_count": null,
   "id": "946c1b2e",
   "metadata": {},
   "outputs": [],
   "source": [
    "df2 = pd.DataFrame({'Actual': y_test , 'Predicted': y_pred.flatten()})\n",
    "df2"
   ]
  },
  {
   "cell_type": "code",
   "execution_count": null,
   "id": "8bdf281b",
   "metadata": {},
   "outputs": [],
   "source": [
    "plt.scatter(X_test, y_test,  color='gray')\n",
    "plt.plot(X_test, y_pred, color='red', linewidth=2)\n",
    "plt.show()"
   ]
  },
  {
   "cell_type": "code",
   "execution_count": null,
   "id": "071de2fb",
   "metadata": {},
   "outputs": [],
   "source": [
    "print('Mean Absolute Error:', metrics.mean_absolute_error(y_test, y_pred))  \n",
    "print('Mean Squared Error:', metrics.mean_squared_error(y_test, y_pred))  \n",
    "print('Root Mean Squared Error:', np.sqrt(metrics.mean_squared_error(y_test, y_pred)))"
   ]
  },
  {
   "cell_type": "markdown",
   "id": "ee263aba",
   "metadata": {},
   "source": [
    "split the data"
   ]
  },
  {
   "cell_type": "code",
   "execution_count": null,
   "id": "d31956c8",
   "metadata": {
    "lines_to_next_cell": 2
   },
   "outputs": [],
   "source": [
    "X = df['edu_post_hs'].values.reshape(-1,1)\n",
    "Y = df['total_claims'].values.reshape(-1,1)"
   ]
  },
  {
   "cell_type": "code",
   "execution_count": null,
   "id": "a4b226da",
   "metadata": {},
   "outputs": [],
   "source": [
    "#create training & split data\n",
    "X_train, X_test, y_train, y_test = train_test_split(X, y, test_size=0.2, random_state=0)"
   ]
  },
  {
   "cell_type": "code",
   "execution_count": null,
   "id": "80622554",
   "metadata": {},
   "outputs": [],
   "source": [
    "#fit the model to the data\n",
    "regressor = LinearRegression()  \n",
    "regressor.fit(X_train, y_train)"
   ]
  },
  {
   "cell_type": "code",
   "execution_count": null,
   "id": "1cb2af9f",
   "metadata": {},
   "outputs": [],
   "source": [
    "#To retrieve the intercept:\n",
    "print(regressor.intercept_)"
   ]
  },
  {
   "cell_type": "code",
   "execution_count": null,
   "id": "a04a96df",
   "metadata": {},
   "outputs": [],
   "source": [
    "#For retrieving the slope:\n",
    "print(regressor.coef_)"
   ]
  },
  {
   "cell_type": "markdown",
   "id": "6e8b87fb",
   "metadata": {},
   "source": [
    "split the data"
   ]
  },
  {
   "cell_type": "code",
   "execution_count": null,
   "id": "390f3a6e",
   "metadata": {
    "lines_to_next_cell": 2
   },
   "outputs": [],
   "source": [
    "X = df['edu_post_hs'].values.reshape(-1,1)\n",
    "Y = df['total_claims'].values.reshape(-1,1)"
   ]
  },
  {
   "cell_type": "code",
   "execution_count": null,
   "id": "c5f13b72",
   "metadata": {},
   "outputs": [],
   "source": [
    "#create training & split data\n",
    "X_train, X_test, y_train, y_test = train_test_split(X, y, test_size=0.2, random_state=0)"
   ]
  },
  {
   "cell_type": "code",
   "execution_count": null,
   "id": "6ebb9a6b",
   "metadata": {},
   "outputs": [],
   "source": [
    "#fit the model to the data\n",
    "model = LinearRegression()  \n",
    "model.fit(X_train, y_train)"
   ]
  },
  {
   "cell_type": "code",
   "execution_count": null,
   "id": "7da4fae0",
   "metadata": {},
   "outputs": [],
   "source": [
    "#To retrieve the intercept:\n",
    "print(regressor.intercept_)"
   ]
  },
  {
   "cell_type": "code",
   "execution_count": null,
   "id": "afe09a97",
   "metadata": {},
   "outputs": [],
   "source": [
    "#For retrieving the slope:\n",
    "print(regressor.coef_)"
   ]
  },
  {
   "cell_type": "markdown",
   "id": "0ec4edc4",
   "metadata": {},
   "source": []
  },
  {
   "cell_type": "markdown",
   "id": "75ffdf57",
   "metadata": {},
   "source": [
    "split the data"
   ]
  },
  {
   "cell_type": "code",
   "execution_count": null,
   "id": "e74914af",
   "metadata": {
    "lines_to_next_cell": 2
   },
   "outputs": [],
   "source": [
    "X = df['edu_post_hs'].values.reshape(-1,1)\n",
    "Y = df['total_claims'].values.reshape(-1,1)"
   ]
  },
  {
   "cell_type": "code",
   "execution_count": null,
   "id": "0bb29de6",
   "metadata": {},
   "outputs": [],
   "source": [
    "#create training & split data\n",
    "X_train, X_test, y_train, y_test = train_test_split(X, y, test_size=0.2, random_state=0)"
   ]
  },
  {
   "cell_type": "code",
   "execution_count": null,
   "id": "c1186159",
   "metadata": {},
   "outputs": [],
   "source": [
    "#fit the model to the data\n",
    "model = LinearRegression()  \n",
    "model.fit(X_train, y_train)"
   ]
  },
  {
   "cell_type": "code",
   "execution_count": null,
   "id": "dd29f575",
   "metadata": {},
   "outputs": [],
   "source": [
    "#To retrieve the intercept:\n",
    "print(model.intercept_)"
   ]
  },
  {
   "cell_type": "code",
   "execution_count": null,
   "id": "a0a4c013",
   "metadata": {},
   "outputs": [],
   "source": [
    "#For retrieving the slope:\n",
    "print(model.coef_)"
   ]
  },
  {
   "cell_type": "markdown",
   "id": "55d990dd",
   "metadata": {},
   "source": []
  },
  {
   "cell_type": "code",
   "execution_count": null,
   "id": "8633ec50",
   "metadata": {},
   "outputs": [],
   "source": [
    "query = \"\"\"\n",
    "SELECT *\n",
    "FROM `ironhacks-data.ironhacks_competition.unemployment_data` \n",
    "\"\"\""
   ]
  },
  {
   "cell_type": "code",
   "execution_count": null,
   "id": "45d431f8",
   "metadata": {},
   "outputs": [],
   "source": [
    "# QUERY THE DATA ONCE\n",
    "query_job = bigquery_client.query(query)\n",
    "unemployment_data = query_job.to_dataframe()\n",
    "unemployment_data.head(1)\n",
    "#print(unemployment_data.columns)"
   ]
  },
  {
   "cell_type": "code",
   "execution_count": null,
   "id": "d291d9b5",
   "metadata": {},
   "outputs": [],
   "source": [
    "df2 = pd.DataFrame({'Actual': y_test , 'Predicted': y_pred.flatten()})\n",
    "len(df2)"
   ]
  },
  {
   "cell_type": "markdown",
   "id": "c960de1a",
   "metadata": {},
   "source": [
    "split the data"
   ]
  },
  {
   "cell_type": "code",
   "execution_count": null,
   "id": "1c06ef93",
   "metadata": {
    "lines_to_next_cell": 2
   },
   "outputs": [],
   "source": [
    "X = df['week_number'].values.reshape(-1,1)\n",
    "Y = df['total_claims'].values.reshape(-1,1)"
   ]
  },
  {
   "cell_type": "code",
   "execution_count": null,
   "id": "4fdb85e3",
   "metadata": {},
   "outputs": [],
   "source": [
    "#create training & split data\n",
    "X_train, X_test, y_train, y_test = train_test_split(X, y, test_size=0.2, random_state=0)"
   ]
  },
  {
   "cell_type": "code",
   "execution_count": null,
   "id": "61076aae",
   "metadata": {},
   "outputs": [],
   "source": [
    "#fit the model to the data\n",
    "model = LinearRegression()  \n",
    "model.fit(X_train, y_train)"
   ]
  },
  {
   "cell_type": "code",
   "execution_count": null,
   "id": "047018a3",
   "metadata": {},
   "outputs": [],
   "source": [
    "#To retrieve the intercept:\n",
    "print(model.intercept_)"
   ]
  },
  {
   "cell_type": "code",
   "execution_count": null,
   "id": "4f34f9fe",
   "metadata": {},
   "outputs": [],
   "source": [
    "#For retrieving the slope:\n",
    "print(model.coef_)"
   ]
  },
  {
   "cell_type": "code",
   "execution_count": null,
   "id": "de0c820b",
   "metadata": {},
   "outputs": [],
   "source": [
    "#\n",
    "y_pred = model.predict(X_test)"
   ]
  },
  {
   "cell_type": "code",
   "execution_count": null,
   "id": "56e9c52b",
   "metadata": {},
   "outputs": [],
   "source": [
    "df2 = pd.DataFrame({'Actual': y_test , 'Predicted': y_pred.flatten()})\n",
    "len(df2)"
   ]
  },
  {
   "cell_type": "markdown",
   "id": "a4d8ea9a",
   "metadata": {},
   "source": [
    "Drop NA VALUES"
   ]
  },
  {
   "cell_type": "code",
   "execution_count": null,
   "id": "622d43cc",
   "metadata": {},
   "outputs": [],
   "source": [
    "df = unemployment_data.dropna()\n",
    "df.head()\n",
    "len(df)"
   ]
  },
  {
   "cell_type": "code",
   "execution_count": null,
   "id": "36bd45cc",
   "metadata": {},
   "outputs": [],
   "source": [
    "len(X)"
   ]
  },
  {
   "cell_type": "code",
   "execution_count": null,
   "id": "26b4d70d",
   "metadata": {},
   "outputs": [],
   "source": [
    "len(Y)"
   ]
  },
  {
   "cell_type": "code",
   "execution_count": null,
   "id": "443b6219",
   "metadata": {},
   "outputs": [],
   "source": [
    "df2 = pd.DataFrame({'Actual': y_test , 'Predicted': y_pred.flatten()})\n",
    "len(df2)"
   ]
  },
  {
   "cell_type": "code",
   "execution_count": null,
   "id": "a11c47b0",
   "metadata": {},
   "outputs": [],
   "source": [
    "len(X_test)"
   ]
  },
  {
   "cell_type": "code",
   "execution_count": null,
   "id": "66eda925",
   "metadata": {},
   "outputs": [],
   "source": [
    "len(Y_test)"
   ]
  },
  {
   "cell_type": "markdown",
   "id": "2ae78cb4",
   "metadata": {},
   "source": [
    "split the data"
   ]
  },
  {
   "cell_type": "code",
   "execution_count": null,
   "id": "97f80e76",
   "metadata": {
    "lines_to_next_cell": 2
   },
   "outputs": [],
   "source": [
    "X = df['week_number'].values.reshape(-1,1)\n",
    "Y = df['total_claims'].values.reshape(-1,1)"
   ]
  },
  {
   "cell_type": "code",
   "execution_count": null,
   "id": "6b7d4aa0",
   "metadata": {},
   "outputs": [],
   "source": [
    "#create training & split data\n",
    "X_train, X_test, y_train, y_test = train_test_split(X, y, train.size=0.9, test_size=0.1, random_state=0)"
   ]
  },
  {
   "cell_type": "code",
   "execution_count": null,
   "id": "3e5f17e7",
   "metadata": {},
   "outputs": [],
   "source": [
    "#fit the model to the data\n",
    "model = LinearRegression()  \n",
    "model.fit(X_train, y_train)"
   ]
  },
  {
   "cell_type": "code",
   "execution_count": null,
   "id": "1b0ced3d",
   "metadata": {},
   "outputs": [],
   "source": [
    "#To retrieve the intercept:\n",
    "print(model.intercept_)"
   ]
  },
  {
   "cell_type": "code",
   "execution_count": null,
   "id": "ec1ecf2d",
   "metadata": {},
   "outputs": [],
   "source": [
    "#For retrieving the slope:\n",
    "print(model.coef_)"
   ]
  },
  {
   "cell_type": "code",
   "execution_count": null,
   "id": "a9dbbc0e",
   "metadata": {},
   "outputs": [],
   "source": [
    "#\n",
    "y_pred = model.predict(X_test)"
   ]
  },
  {
   "cell_type": "markdown",
   "id": "4a2ccc61",
   "metadata": {},
   "source": [
    "split the data"
   ]
  },
  {
   "cell_type": "code",
   "execution_count": null,
   "id": "297c7adc",
   "metadata": {
    "lines_to_next_cell": 2
   },
   "outputs": [],
   "source": [
    "X = df['week_number'].values.reshape(-1,1)\n",
    "Y = df['total_claims'].values.reshape(-1,1)"
   ]
  },
  {
   "cell_type": "code",
   "execution_count": null,
   "id": "30c40236",
   "metadata": {},
   "outputs": [],
   "source": [
    "#create training & split data\n",
    "X_train, X_test, y_train, y_test = train_test_split(X, y, train.size==0.9, test_size==0.1, random_state=0)"
   ]
  },
  {
   "cell_type": "code",
   "execution_count": null,
   "id": "3367f0d4",
   "metadata": {},
   "outputs": [],
   "source": [
    "#fit the model to the data\n",
    "model = LinearRegression()  \n",
    "model.fit(X_train, y_train)"
   ]
  },
  {
   "cell_type": "code",
   "execution_count": null,
   "id": "26c23438",
   "metadata": {},
   "outputs": [],
   "source": [
    "#To retrieve the intercept:\n",
    "print(model.intercept_)"
   ]
  },
  {
   "cell_type": "code",
   "execution_count": null,
   "id": "d6f85edc",
   "metadata": {},
   "outputs": [],
   "source": [
    "#For retrieving the slope:\n",
    "print(model.coef_)"
   ]
  },
  {
   "cell_type": "code",
   "execution_count": null,
   "id": "3dc9744b",
   "metadata": {},
   "outputs": [],
   "source": [
    "#\n",
    "y_pred = model.predict(X_test)"
   ]
  },
  {
   "cell_type": "markdown",
   "id": "7bb9d787",
   "metadata": {},
   "source": [
    "split the data"
   ]
  },
  {
   "cell_type": "code",
   "execution_count": null,
   "id": "c0930621",
   "metadata": {
    "lines_to_next_cell": 2
   },
   "outputs": [],
   "source": [
    "X = df['week_number'].values.reshape(-1,1)\n",
    "Y = df['total_claims'].values.reshape(-1,1)"
   ]
  },
  {
   "cell_type": "code",
   "execution_count": null,
   "id": "723d8f8d",
   "metadata": {},
   "outputs": [],
   "source": [
    "#create training & split data\n",
    "X_train, X_test, y_train, y_test = train_test_split(X, y, train.size=0.9, test_size=0.1, random_state=0)"
   ]
  },
  {
   "cell_type": "code",
   "execution_count": null,
   "id": "319c3a0a",
   "metadata": {},
   "outputs": [],
   "source": [
    "#fit the model to the data\n",
    "model = LinearRegression()  \n",
    "model.fit(X_train, y_train)"
   ]
  },
  {
   "cell_type": "code",
   "execution_count": null,
   "id": "04b6aea5",
   "metadata": {},
   "outputs": [],
   "source": [
    "#To retrieve the intercept:\n",
    "print(model.intercept_)"
   ]
  },
  {
   "cell_type": "code",
   "execution_count": null,
   "id": "536bd30d",
   "metadata": {},
   "outputs": [],
   "source": [
    "#For retrieving the slope:\n",
    "print(model.coef_)"
   ]
  },
  {
   "cell_type": "code",
   "execution_count": null,
   "id": "64763c15",
   "metadata": {},
   "outputs": [],
   "source": [
    "#\n",
    "y_pred = model.predict(X_test)"
   ]
  },
  {
   "cell_type": "markdown",
   "id": "00e26a98",
   "metadata": {},
   "source": [
    "split the data"
   ]
  },
  {
   "cell_type": "code",
   "execution_count": null,
   "id": "5a75fbdb",
   "metadata": {
    "lines_to_next_cell": 2
   },
   "outputs": [],
   "source": [
    "X = df['week_number'].values.reshape(-1,1)\n",
    "Y = df['total_claims'].values.reshape(-1,1)"
   ]
  },
  {
   "cell_type": "code",
   "execution_count": null,
   "id": "9cde4b95",
   "metadata": {},
   "outputs": [],
   "source": [
    "#create training & split data\n",
    "X_train, X_test, y_train, y_test = train_test_split(X, y, train.size=0.9, test_size=0.1)"
   ]
  },
  {
   "cell_type": "code",
   "execution_count": null,
   "id": "2d8461f2",
   "metadata": {},
   "outputs": [],
   "source": [
    "#fit the model to the data\n",
    "model = LinearRegression()  \n",
    "model.fit(X_train, y_train)"
   ]
  },
  {
   "cell_type": "code",
   "execution_count": null,
   "id": "a585d3f0",
   "metadata": {},
   "outputs": [],
   "source": [
    "#To retrieve the intercept:\n",
    "print(model.intercept_)"
   ]
  },
  {
   "cell_type": "code",
   "execution_count": null,
   "id": "1bd2bb48",
   "metadata": {},
   "outputs": [],
   "source": [
    "#For retrieving the slope:\n",
    "print(model.coef_)"
   ]
  },
  {
   "cell_type": "code",
   "execution_count": null,
   "id": "334109c5",
   "metadata": {},
   "outputs": [],
   "source": [
    "#\n",
    "y_pred = model.predict(X_test)"
   ]
  },
  {
   "cell_type": "markdown",
   "id": "5f66ab95",
   "metadata": {},
   "source": [
    "split the data"
   ]
  },
  {
   "cell_type": "code",
   "execution_count": null,
   "id": "7ffb31c1",
   "metadata": {
    "lines_to_next_cell": 2
   },
   "outputs": [],
   "source": [
    "X = df['week_number'].values.reshape(-1,1)\n",
    "Y = df['total_claims'].values.reshape(-1,1)"
   ]
  },
  {
   "cell_type": "code",
   "execution_count": null,
   "id": "4d07b461",
   "metadata": {},
   "outputs": [],
   "source": [
    "#create training & split data\n",
    "X_train, X_test, Y_train, Y_test = train_test_split(X, Y, train.size=0.9, test_size=0.1)"
   ]
  },
  {
   "cell_type": "code",
   "execution_count": null,
   "id": "04c4eebc",
   "metadata": {},
   "outputs": [],
   "source": [
    "#fit the model to the data\n",
    "model = LinearRegression()  \n",
    "model.fit(X_train, y_train)"
   ]
  },
  {
   "cell_type": "code",
   "execution_count": null,
   "id": "c5965290",
   "metadata": {},
   "outputs": [],
   "source": [
    "#To retrieve the intercept:\n",
    "print(model.intercept_)"
   ]
  },
  {
   "cell_type": "code",
   "execution_count": null,
   "id": "d11f7278",
   "metadata": {},
   "outputs": [],
   "source": [
    "#For retrieving the slope:\n",
    "print(model.coef_)"
   ]
  },
  {
   "cell_type": "code",
   "execution_count": null,
   "id": "3cc8b2b7",
   "metadata": {},
   "outputs": [],
   "source": [
    "#\n",
    "y_pred = model.predict(X_test)"
   ]
  },
  {
   "cell_type": "markdown",
   "id": "6ff7deca",
   "metadata": {},
   "source": [
    "split the data"
   ]
  },
  {
   "cell_type": "code",
   "execution_count": null,
   "id": "4c96107a",
   "metadata": {
    "lines_to_next_cell": 2
   },
   "outputs": [],
   "source": [
    "X = df['week_number'].values.reshape(-1,1)\n",
    "Y = df['total_claims'].values.reshape(-1,1)"
   ]
  },
  {
   "cell_type": "code",
   "execution_count": null,
   "id": "4c91f91d",
   "metadata": {},
   "outputs": [],
   "source": [
    "#create training & split data\n",
    "X_train, X_test, Y_train, Y_test = train_test_split(X, Y, test_size=0.1)"
   ]
  },
  {
   "cell_type": "code",
   "execution_count": null,
   "id": "f41b887d",
   "metadata": {},
   "outputs": [],
   "source": [
    "#fit the model to the data\n",
    "model = LinearRegression()  \n",
    "model.fit(X_train, y_train)"
   ]
  },
  {
   "cell_type": "code",
   "execution_count": null,
   "id": "db916aef",
   "metadata": {},
   "outputs": [],
   "source": [
    "#To retrieve the intercept:\n",
    "print(model.intercept_)"
   ]
  },
  {
   "cell_type": "code",
   "execution_count": null,
   "id": "cddee287",
   "metadata": {},
   "outputs": [],
   "source": [
    "#For retrieving the slope:\n",
    "print(model.coef_)"
   ]
  },
  {
   "cell_type": "code",
   "execution_count": null,
   "id": "ae44afaf",
   "metadata": {},
   "outputs": [],
   "source": [
    "#\n",
    "y_pred = model.predict(X_test)"
   ]
  },
  {
   "cell_type": "markdown",
   "id": "066787ff",
   "metadata": {},
   "source": [
    "split the data"
   ]
  },
  {
   "cell_type": "code",
   "execution_count": null,
   "id": "dec17585",
   "metadata": {
    "lines_to_next_cell": 2
   },
   "outputs": [],
   "source": [
    "X = df['week_number'].values.reshape(-1,1)\n",
    "Y = df['total_claims'].values.reshape(-1,1)"
   ]
  },
  {
   "cell_type": "code",
   "execution_count": null,
   "id": "7c28ec58",
   "metadata": {},
   "outputs": [],
   "source": [
    "#create training & split data\n",
    "X_train, X_test, Y_train, Y_test = train_test_split(X, Y, test_size=0.2, random_state=0)"
   ]
  },
  {
   "cell_type": "code",
   "execution_count": null,
   "id": "868f0a78",
   "metadata": {},
   "outputs": [],
   "source": [
    "#fit the model to the data\n",
    "model = LinearRegression()  \n",
    "model.fit(X_train, y_train)"
   ]
  },
  {
   "cell_type": "code",
   "execution_count": null,
   "id": "bbebb9f4",
   "metadata": {},
   "outputs": [],
   "source": [
    "#To retrieve the intercept:\n",
    "print(model.intercept_)"
   ]
  },
  {
   "cell_type": "code",
   "execution_count": null,
   "id": "14b19356",
   "metadata": {},
   "outputs": [],
   "source": [
    "#For retrieving the slope:\n",
    "print(model.coef_)"
   ]
  },
  {
   "cell_type": "code",
   "execution_count": null,
   "id": "d72ea524",
   "metadata": {},
   "outputs": [],
   "source": [
    "#\n",
    "y_pred = model.predict(X_test)"
   ]
  },
  {
   "cell_type": "code",
   "execution_count": null,
   "id": "664e1334",
   "metadata": {},
   "outputs": [],
   "source": [
    "len(Y_test)"
   ]
  },
  {
   "cell_type": "code",
   "execution_count": null,
   "id": "2ccb1b9d",
   "metadata": {},
   "outputs": [],
   "source": [
    "df2 = pd.DataFrame({'Actual': y_test , 'Predicted': y_pred.flatten()})\n",
    "len(df2)"
   ]
  },
  {
   "cell_type": "code",
   "execution_count": null,
   "id": "81ff1fc0",
   "metadata": {},
   "outputs": [],
   "source": [
    "df2 = pd.DataFrame({'Actual': y_test , 'Predicted': y_pred.flatten()})\n",
    "df2"
   ]
  },
  {
   "cell_type": "code",
   "execution_count": null,
   "id": "db24ba3a",
   "metadata": {},
   "outputs": [],
   "source": [
    "df2 = pd.DataFrame({'Actual': y_test.flatten() , 'Predicted': y_pred.flatten()})\n",
    "df2"
   ]
  },
  {
   "cell_type": "code",
   "execution_count": null,
   "id": "f6363d72",
   "metadata": {},
   "outputs": [],
   "source": [
    "plt.scatter(X_test, y_test,  color='gray')\n",
    "plt.plot(X_test, y_pred, color='red', linewidth=2)\n",
    "plt.show()"
   ]
  },
  {
   "cell_type": "markdown",
   "id": "3653a5cf",
   "metadata": {},
   "source": [
    "split the data"
   ]
  },
  {
   "cell_type": "code",
   "execution_count": null,
   "id": "dd4212f5",
   "metadata": {
    "lines_to_next_cell": 2
   },
   "outputs": [],
   "source": [
    "X = df['week_number'].values.reshape(-1,1)\n",
    "y = df['total_claims'].values.reshape(-1,1)"
   ]
  },
  {
   "cell_type": "code",
   "execution_count": null,
   "id": "23adbbb7",
   "metadata": {},
   "outputs": [],
   "source": [
    "#create training & split data\n",
    "X_train, X_test, y_train, y_test = train_test_split(X, y, test_size=0.2, random_state=0)"
   ]
  },
  {
   "cell_type": "code",
   "execution_count": null,
   "id": "377172a6",
   "metadata": {},
   "outputs": [],
   "source": [
    "#fit the model to the data\n",
    "model = LinearRegression()  \n",
    "model.fit(X_train, y_train)"
   ]
  },
  {
   "cell_type": "code",
   "execution_count": null,
   "id": "2211db4a",
   "metadata": {},
   "outputs": [],
   "source": [
    "#To retrieve the intercept:\n",
    "print(model.intercept_)"
   ]
  },
  {
   "cell_type": "code",
   "execution_count": null,
   "id": "f868359f",
   "metadata": {},
   "outputs": [],
   "source": [
    "#For retrieving the slope:\n",
    "print(model.coef_)"
   ]
  },
  {
   "cell_type": "code",
   "execution_count": null,
   "id": "ebcb6641",
   "metadata": {},
   "outputs": [],
   "source": [
    "#\n",
    "y_pred = model.predict(X_test)"
   ]
  },
  {
   "cell_type": "code",
   "execution_count": null,
   "id": "3b0f6a1b",
   "metadata": {},
   "outputs": [],
   "source": [
    "df2 = pd.DataFrame({'Actual': y_test , 'Predicted': y_pred.flatten()})\n",
    "df2"
   ]
  },
  {
   "cell_type": "code",
   "execution_count": null,
   "id": "6cd784b0",
   "metadata": {},
   "outputs": [],
   "source": [
    "output = df2.to_csv('submission_prediction_output.csv')\n",
    "output"
   ]
  },
  {
   "cell_type": "code",
   "execution_count": null,
   "id": "12603cd2",
   "metadata": {},
   "outputs": [],
   "source": [
    "output = df2.to_csv('submission_prediction_output.csv')\n",
    "output"
   ]
  },
  {
   "cell_type": "code",
   "execution_count": null,
   "id": "8d380082",
   "metadata": {},
   "outputs": [],
   "source": [
    "df2 = pd.DataFrame({'Actual': y_test , 'Predicted': y_pred.flatten()})\n",
    "df2"
   ]
  },
  {
   "cell_type": "code",
   "execution_count": null,
   "id": "b7275347",
   "metadata": {},
   "outputs": [],
   "source": [
    "output = df2.to_csv('submission_prediction_output.csv')\n",
    "output"
   ]
  },
  {
   "cell_type": "code",
   "execution_count": null,
   "id": "c9fe1703",
   "metadata": {},
   "outputs": [],
   "source": [
    "output = df2.to_csv('submission_prediction_output.csv')\n",
    "output"
   ]
  },
  {
   "cell_type": "code",
   "execution_count": null,
   "id": "118674cc",
   "metadata": {},
   "outputs": [],
   "source": [
    "output = df2.to_csv('submission_prediction_output.csv')\n",
    "output"
   ]
  },
  {
   "cell_type": "code",
   "execution_count": null,
   "id": "b1f994dc",
   "metadata": {
    "lines_to_next_cell": 2
   },
   "outputs": [],
   "source": [
    "print('Mean Absolute Error:', metrics.mean_absolute_error(y_test, y_pred))  \n",
    "print('Mean Squared Error:', metrics.mean_squared_error(y_test, y_pred))  \n",
    "print('Root Mean Squared Error:', np.sqrt(metrics.mean_squared_error(y_test, y_pred)))"
   ]
  }
 ],
 "metadata": {
  "jupytext": {
   "cell_metadata_filter": "-all",
   "main_language": "python",
   "notebook_metadata_filter": "-all"
  }
 },
 "nbformat": 4,
 "nbformat_minor": 5
}
