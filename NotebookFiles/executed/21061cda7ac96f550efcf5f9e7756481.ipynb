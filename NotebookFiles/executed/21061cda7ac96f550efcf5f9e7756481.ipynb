{
 "cells": [
  {
   "cell_type": "code",
   "execution_count": 1,
   "id": "635b9595",
   "metadata": {
    "execution": {
     "iopub.execute_input": "2023-05-09T23:32:35.194147Z",
     "iopub.status.busy": "2023-05-09T23:32:35.193612Z",
     "iopub.status.idle": "2023-05-09T23:32:35.221952Z",
     "shell.execute_reply": "2023-05-09T23:32:35.221297Z"
    }
   },
   "outputs": [],
   "source": [
    "get_ipython().run_cell_magic('capture', '', \"%logstop\\n%logstart -t -r -q ipython_command_log.py global\\n\\n#- IRONHACKS RESEARCH TRACKING CODE\\n#----------------------------------\\n# The following code is used to help our research team understand how you \\n# our notebook environment. We do not collect any personal information with\\n# the following code, it is used to measure when and how often you work on\\n# your submission files.\\n\\nimport os\\nfrom datetime import datetime\\nimport IPython.core.history as history\\n\\nha = history.HistoryAccessor()\\nha_tail = ha.get_tail(1)\\nha_cmd = next(ha_tail)\\nsession_id = str(ha_cmd[0])\\ncommand_id = str(ha_cmd[1])\\ntimestamp = datetime.utcnow().isoformat()\\nhistory_line = ','.join([session_id, command_id, timestamp]) + '\\\\n'\\nlogfile = open(os.environ['HOME']+'/ipython_session_log.csv', 'a')\\nlogfile.write(history_line)\\nlogfile.close()\\n\")"
   ]
  },
  {
   "cell_type": "code",
   "execution_count": 2,
   "id": "04e183ed",
   "metadata": {
    "execution": {
     "iopub.execute_input": "2023-05-09T23:32:35.226036Z",
     "iopub.status.busy": "2023-05-09T23:32:35.225738Z",
     "iopub.status.idle": "2023-05-09T23:32:36.168592Z",
     "shell.execute_reply": "2023-05-09T23:32:36.168293Z"
    }
   },
   "outputs": [],
   "source": [
    "#LIBRARIES\n",
    "import os\n",
    "import pandas as pd\n",
    "import numpy as np\n",
    "import seaborn as sns\n",
    "import matplotlib.pyplot as plt\n",
    "from pandas import Series, DataFrame\n",
    "import warnings \n",
    "warnings.filterwarnings('ignore')\n",
    "from scipy import stats  \n",
    "from google.cloud import bigquery\n",
    "from google.oauth2 import service_account\n",
    "from google.cloud.bigquery import magics\n",
    "from sklearn.impute import SimpleImputer\n",
    "from sklearn import linear_model\n",
    "from sklearn.model_selection import train_test_split \n",
    "from sklearn.linear_model import LinearRegression\n",
    "from sklearn import metrics"
   ]
  },
  {
   "cell_type": "code",
   "execution_count": 3,
   "id": "63adb80d",
   "metadata": {
    "execution": {
     "iopub.execute_input": "2023-05-09T23:32:36.170378Z",
     "iopub.status.busy": "2023-05-09T23:32:36.170189Z",
     "iopub.status.idle": "2023-05-09T23:32:37.337249Z",
     "shell.execute_reply": "2023-05-09T23:32:37.336943Z"
    }
   },
   "outputs": [],
   "source": [
    "from neuralprophet import NeuralProphet\n",
    "import pickle"
   ]
  },
  {
   "cell_type": "code",
   "execution_count": 4,
   "id": "e1b4b332",
   "metadata": {
    "execution": {
     "iopub.execute_input": "2023-05-09T23:32:37.338998Z",
     "iopub.status.busy": "2023-05-09T23:32:37.338809Z",
     "iopub.status.idle": "2023-05-09T23:32:39.749747Z",
     "shell.execute_reply": "2023-05-09T23:32:39.749035Z"
    }
   },
   "outputs": [
    {
     "name": "stdout",
     "output_type": "stream",
     "text": [
      "\u001b[33mWARNING: Ignoring invalid distribution -umpy (/opt/anaconda3/lib/python3.9/site-packages)\u001b[0m\r\n",
      "\u001b[33mWARNING: Ignoring invalid distribution -umpy (/opt/anaconda3/lib/python3.9/site-packages)\u001b[0m\r\n",
      "Requirement already satisfied: db-dtypes in /opt/anaconda3/lib/python3.9/site-packages (1.0.5)\r\n",
      "Requirement already satisfied: packaging>=17.0 in /opt/anaconda3/lib/python3.9/site-packages (from db-dtypes) (21.3)\r\n",
      "Requirement already satisfied: pyarrow>=3.0.0 in /opt/anaconda3/lib/python3.9/site-packages (from db-dtypes) (10.0.1)\r\n",
      "Requirement already satisfied: pandas<2.0dev,>=0.24.2 in /opt/anaconda3/lib/python3.9/site-packages (from db-dtypes) (1.5.3)\r\n",
      "Requirement already satisfied: numpy<2.0dev,>=1.16.6 in /opt/anaconda3/lib/python3.9/site-packages (from db-dtypes) (1.22.4)\r\n",
      "Requirement already satisfied: pyparsing!=3.0.5,>=2.0.2 in /opt/anaconda3/lib/python3.9/site-packages (from packaging>=17.0->db-dtypes) (3.0.4)\r\n",
      "Requirement already satisfied: pytz>=2020.1 in /opt/anaconda3/lib/python3.9/site-packages (from pandas<2.0dev,>=0.24.2->db-dtypes) (2021.3)\r\n"
     ]
    },
    {
     "name": "stdout",
     "output_type": "stream",
     "text": [
      "Requirement already satisfied: python-dateutil>=2.8.1 in /opt/anaconda3/lib/python3.9/site-packages (from pandas<2.0dev,>=0.24.2->db-dtypes) (2.8.2)\r\n",
      "Requirement already satisfied: six>=1.5 in /opt/anaconda3/lib/python3.9/site-packages (from python-dateutil>=2.8.1->pandas<2.0dev,>=0.24.2->db-dtypes) (1.16.0)\r\n",
      "\u001b[33mWARNING: Ignoring invalid distribution -umpy (/opt/anaconda3/lib/python3.9/site-packages)\u001b[0m\r\n"
     ]
    },
    {
     "name": "stdout",
     "output_type": "stream",
     "text": [
      "\u001b[33mWARNING: Ignoring invalid distribution -umpy (/opt/anaconda3/lib/python3.9/site-packages)\u001b[0m\r\n",
      "\u001b[33mWARNING: Ignoring invalid distribution -umpy (/opt/anaconda3/lib/python3.9/site-packages)\u001b[0m\r\n",
      "\u001b[33mWARNING: Ignoring invalid distribution -umpy (/opt/anaconda3/lib/python3.9/site-packages)\u001b[0m\r\n"
     ]
    }
   ],
   "source": [
    "get_ipython().system('pip install db-dtypes')"
   ]
  },
  {
   "cell_type": "code",
   "execution_count": 5,
   "id": "acb981d2",
   "metadata": {
    "execution": {
     "iopub.execute_input": "2023-05-09T23:32:39.752746Z",
     "iopub.status.busy": "2023-05-09T23:32:39.752511Z",
     "iopub.status.idle": "2023-05-09T23:32:42.446163Z",
     "shell.execute_reply": "2023-05-09T23:32:42.445486Z"
    },
    "lines_to_next_cell": 2
   },
   "outputs": [
    {
     "name": "stdout",
     "output_type": "stream",
     "text": [
      "\u001b[33mWARNING: Ignoring invalid distribution -umpy (/opt/anaconda3/lib/python3.9/site-packages)\u001b[0m\r\n",
      "\u001b[33mWARNING: Ignoring invalid distribution -umpy (/opt/anaconda3/lib/python3.9/site-packages)\u001b[0m\r\n",
      "Requirement already satisfied: neuralprophet in /opt/anaconda3/lib/python3.9/site-packages (0.6.0rc1)\r\n",
      "Requirement already satisfied: matplotlib<4.0.0,>=3.5.3 in /opt/anaconda3/lib/python3.9/site-packages (from neuralprophet) (3.7.1)\r\n"
     ]
    },
    {
     "name": "stdout",
     "output_type": "stream",
     "text": [
      "Requirement already satisfied: holidays<0.22,>=0.21 in /opt/anaconda3/lib/python3.9/site-packages (from neuralprophet) (0.21.13)\r\n",
      "Requirement already satisfied: torch<2.0.0,>=1.13.1 in /opt/anaconda3/lib/python3.9/site-packages (from neuralprophet) (1.13.1)\r\n",
      "Requirement already satisfied: tensorboard<3.0.0,>=2.11.2 in /opt/anaconda3/lib/python3.9/site-packages (from neuralprophet) (2.12.0)\r\n",
      "Requirement already satisfied: torchmetrics<0.12.0,>=0.11.3 in /opt/anaconda3/lib/python3.9/site-packages (from neuralprophet) (0.11.4)\r\n",
      "Requirement already satisfied: captum<0.7.0,>=0.6.0 in /opt/anaconda3/lib/python3.9/site-packages (from neuralprophet) (0.6.0)\r\n",
      "Requirement already satisfied: pandas<2.0.0,>=1.3.5 in /opt/anaconda3/lib/python3.9/site-packages (from neuralprophet) (1.5.3)\r\n",
      "Requirement already satisfied: numpy<1.24.0,>=1.21.6 in /opt/anaconda3/lib/python3.9/site-packages (from neuralprophet) (1.22.4)\r\n",
      "Requirement already satisfied: plotly<6.0.0,>=5.13.1 in /opt/anaconda3/lib/python3.9/site-packages (from neuralprophet) (5.14.1)\r\n",
      "Requirement already satisfied: plotly-resampler<0.9.0.0,>=0.8.3.1 in /opt/anaconda3/lib/python3.9/site-packages (from neuralprophet) (0.8.3.1)\r\n",
      "Requirement already satisfied: typing-extensions<5.0.0,>=4.5.0 in /opt/anaconda3/lib/python3.9/site-packages (from neuralprophet) (4.5.0)\r\n",
      "Requirement already satisfied: pytorch-lightning<2.0.0,>=1.9.4 in /opt/anaconda3/lib/python3.9/site-packages (from neuralprophet) (1.9.5)\r\n",
      "Requirement already satisfied: PyMeeus in /opt/anaconda3/lib/python3.9/site-packages (from holidays<0.22,>=0.21->neuralprophet) (0.5.12)\r\n",
      "Requirement already satisfied: hijri-converter in /opt/anaconda3/lib/python3.9/site-packages (from holidays<0.22,>=0.21->neuralprophet) (2.2.4)\r\n",
      "Requirement already satisfied: convertdate>=2.3.0 in /opt/anaconda3/lib/python3.9/site-packages (from holidays<0.22,>=0.21->neuralprophet) (2.4.0)\r\n",
      "Requirement already satisfied: python-dateutil in /opt/anaconda3/lib/python3.9/site-packages (from holidays<0.22,>=0.21->neuralprophet) (2.8.2)\r\n",
      "Requirement already satisfied: korean-lunar-calendar in /opt/anaconda3/lib/python3.9/site-packages (from holidays<0.22,>=0.21->neuralprophet) (0.3.1)\r\n",
      "Requirement already satisfied: cycler>=0.10 in /opt/anaconda3/lib/python3.9/site-packages (from matplotlib<4.0.0,>=3.5.3->neuralprophet) (0.10.0)\r\n",
      "Requirement already satisfied: pyparsing>=2.3.1 in /opt/anaconda3/lib/python3.9/site-packages (from matplotlib<4.0.0,>=3.5.3->neuralprophet) (3.0.4)\r\n",
      "Requirement already satisfied: packaging>=20.0 in /opt/anaconda3/lib/python3.9/site-packages (from matplotlib<4.0.0,>=3.5.3->neuralprophet) (21.3)\r\n",
      "Requirement already satisfied: importlib-resources>=3.2.0 in /opt/anaconda3/lib/python3.9/site-packages (from matplotlib<4.0.0,>=3.5.3->neuralprophet) (5.12.0)\r\n",
      "Requirement already satisfied: pillow>=6.2.0 in /opt/anaconda3/lib/python3.9/site-packages (from matplotlib<4.0.0,>=3.5.3->neuralprophet) (8.4.0)\r\n",
      "Requirement already satisfied: contourpy>=1.0.1 in /opt/anaconda3/lib/python3.9/site-packages (from matplotlib<4.0.0,>=3.5.3->neuralprophet) (1.0.7)\r\n",
      "Requirement already satisfied: kiwisolver>=1.0.1 in /opt/anaconda3/lib/python3.9/site-packages (from matplotlib<4.0.0,>=3.5.3->neuralprophet) (1.3.1)\r\n",
      "Requirement already satisfied: fonttools>=4.22.0 in /opt/anaconda3/lib/python3.9/site-packages (from matplotlib<4.0.0,>=3.5.3->neuralprophet) (4.25.0)\r\n"
     ]
    },
    {
     "name": "stdout",
     "output_type": "stream",
     "text": [
      "Requirement already satisfied: six in /opt/anaconda3/lib/python3.9/site-packages (from cycler>=0.10->matplotlib<4.0.0,>=3.5.3->neuralprophet) (1.16.0)\r\n",
      "Requirement already satisfied: zipp>=3.1.0 in /opt/anaconda3/lib/python3.9/site-packages (from importlib-resources>=3.2.0->matplotlib<4.0.0,>=3.5.3->neuralprophet) (3.6.0)\r\n",
      "Requirement already satisfied: pytz>=2020.1 in /opt/anaconda3/lib/python3.9/site-packages (from pandas<2.0.0,>=1.3.5->neuralprophet) (2021.3)\r\n",
      "Requirement already satisfied: tenacity>=6.2.0 in /opt/anaconda3/lib/python3.9/site-packages (from plotly<6.0.0,>=5.13.1->neuralprophet) (8.1.0)\r\n",
      "Requirement already satisfied: Werkzeug<=2.1.2 in /opt/anaconda3/lib/python3.9/site-packages (from plotly-resampler<0.9.0.0,>=0.8.3.1->neuralprophet) (2.0.2)\r\n",
      "Requirement already satisfied: jupyter-dash>=0.4.2 in /opt/anaconda3/lib/python3.9/site-packages (from plotly-resampler<0.9.0.0,>=0.8.3.1->neuralprophet) (0.4.2)\r\n",
      "Requirement already satisfied: Flask-Cors<4.0.0,>=3.0.10 in /opt/anaconda3/lib/python3.9/site-packages (from plotly-resampler<0.9.0.0,>=0.8.3.1->neuralprophet) (3.0.10)\r\n",
      "Requirement already satisfied: dash<3.0.0,>=2.2.0 in /opt/anaconda3/lib/python3.9/site-packages (from plotly-resampler<0.9.0.0,>=0.8.3.1->neuralprophet) (2.8.1)\r\n",
      "Requirement already satisfied: orjson<4.0.0,>=3.8.0 in /opt/anaconda3/lib/python3.9/site-packages (from plotly-resampler<0.9.0.0,>=0.8.3.1->neuralprophet) (3.8.6)\r\n",
      "Requirement already satisfied: trace-updater>=0.0.8 in /opt/anaconda3/lib/python3.9/site-packages (from plotly-resampler<0.9.0.0,>=0.8.3.1->neuralprophet) (0.0.9)\r\n"
     ]
    },
    {
     "name": "stdout",
     "output_type": "stream",
     "text": [
      "Requirement already satisfied: dash-table==5.0.0 in /opt/anaconda3/lib/python3.9/site-packages (from dash<3.0.0,>=2.2.0->plotly-resampler<0.9.0.0,>=0.8.3.1->neuralprophet) (5.0.0)\r\n",
      "Requirement already satisfied: dash-core-components==2.0.0 in /opt/anaconda3/lib/python3.9/site-packages (from dash<3.0.0,>=2.2.0->plotly-resampler<0.9.0.0,>=0.8.3.1->neuralprophet) (2.0.0)\r\n",
      "Requirement already satisfied: dash-html-components==2.0.0 in /opt/anaconda3/lib/python3.9/site-packages (from dash<3.0.0,>=2.2.0->plotly-resampler<0.9.0.0,>=0.8.3.1->neuralprophet) (2.0.0)\r\n",
      "Requirement already satisfied: Flask>=1.0.4 in /opt/anaconda3/lib/python3.9/site-packages (from dash<3.0.0,>=2.2.0->plotly-resampler<0.9.0.0,>=0.8.3.1->neuralprophet) (1.1.2)\r\n",
      "Requirement already satisfied: click>=5.1 in /opt/anaconda3/lib/python3.9/site-packages (from Flask>=1.0.4->dash<3.0.0,>=2.2.0->plotly-resampler<0.9.0.0,>=0.8.3.1->neuralprophet) (8.0.3)\r\n",
      "Requirement already satisfied: itsdangerous>=0.24 in /opt/anaconda3/lib/python3.9/site-packages (from Flask>=1.0.4->dash<3.0.0,>=2.2.0->plotly-resampler<0.9.0.0,>=0.8.3.1->neuralprophet) (2.0.1)\r\n",
      "Requirement already satisfied: Jinja2>=2.10.1 in /opt/anaconda3/lib/python3.9/site-packages (from Flask>=1.0.4->dash<3.0.0,>=2.2.0->plotly-resampler<0.9.0.0,>=0.8.3.1->neuralprophet) (2.11.3)\r\n",
      "Requirement already satisfied: MarkupSafe>=0.23 in /opt/anaconda3/lib/python3.9/site-packages (from Jinja2>=2.10.1->Flask>=1.0.4->dash<3.0.0,>=2.2.0->plotly-resampler<0.9.0.0,>=0.8.3.1->neuralprophet) (1.1.1)\r\n",
      "Requirement already satisfied: ansi2html in /opt/anaconda3/lib/python3.9/site-packages (from jupyter-dash>=0.4.2->plotly-resampler<0.9.0.0,>=0.8.3.1->neuralprophet) (1.8.0)\r\n",
      "Requirement already satisfied: nest-asyncio in /opt/anaconda3/lib/python3.9/site-packages (from jupyter-dash>=0.4.2->plotly-resampler<0.9.0.0,>=0.8.3.1->neuralprophet) (1.5.1)\r\n",
      "Requirement already satisfied: ipython in /opt/anaconda3/lib/python3.9/site-packages (from jupyter-dash>=0.4.2->plotly-resampler<0.9.0.0,>=0.8.3.1->neuralprophet) (7.29.0)\r\n",
      "Requirement already satisfied: ipykernel in /opt/anaconda3/lib/python3.9/site-packages (from jupyter-dash>=0.4.2->plotly-resampler<0.9.0.0,>=0.8.3.1->neuralprophet) (6.4.1)\r\n",
      "Requirement already satisfied: retrying in /opt/anaconda3/lib/python3.9/site-packages (from jupyter-dash>=0.4.2->plotly-resampler<0.9.0.0,>=0.8.3.1->neuralprophet) (1.3.4)\r\n",
      "Requirement already satisfied: requests in /opt/anaconda3/lib/python3.9/site-packages (from jupyter-dash>=0.4.2->plotly-resampler<0.9.0.0,>=0.8.3.1->neuralprophet) (2.26.0)\r\n"
     ]
    },
    {
     "name": "stdout",
     "output_type": "stream",
     "text": [
      "Requirement already satisfied: fsspec[http]>2021.06.0 in /opt/anaconda3/lib/python3.9/site-packages (from pytorch-lightning<2.0.0,>=1.9.4->neuralprophet) (2021.8.1)\r\n"
     ]
    },
    {
     "name": "stdout",
     "output_type": "stream",
     "text": [
      "Requirement already satisfied: PyYAML>=5.4 in /opt/anaconda3/lib/python3.9/site-packages (from pytorch-lightning<2.0.0,>=1.9.4->neuralprophet) (6.0)\r\n",
      "Requirement already satisfied: lightning-utilities>=0.6.0.post0 in /opt/anaconda3/lib/python3.9/site-packages (from pytorch-lightning<2.0.0,>=1.9.4->neuralprophet) (0.8.0)\r\n",
      "Requirement already satisfied: tqdm>=4.57.0 in /opt/anaconda3/lib/python3.9/site-packages (from pytorch-lightning<2.0.0,>=1.9.4->neuralprophet) (4.62.3)\r\n",
      "Requirement already satisfied: aiohttp in /opt/anaconda3/lib/python3.9/site-packages (from fsspec[http]>2021.06.0->pytorch-lightning<2.0.0,>=1.9.4->neuralprophet) (3.8.4)\r\n",
      "Requirement already satisfied: grpcio>=1.48.2 in /opt/anaconda3/lib/python3.9/site-packages (from tensorboard<3.0.0,>=2.11.2->neuralprophet) (1.54.0)\r\n",
      "Requirement already satisfied: absl-py>=0.4 in /opt/anaconda3/lib/python3.9/site-packages (from tensorboard<3.0.0,>=2.11.2->neuralprophet) (1.4.0)\r\n",
      "Requirement already satisfied: wheel>=0.26 in /opt/anaconda3/lib/python3.9/site-packages (from tensorboard<3.0.0,>=2.11.2->neuralprophet) (0.37.0)\r\n",
      "Requirement already satisfied: google-auth<3,>=1.6.3 in /opt/anaconda3/lib/python3.9/site-packages (from tensorboard<3.0.0,>=2.11.2->neuralprophet) (2.16.0)\r\n",
      "Requirement already satisfied: markdown>=2.6.8 in /opt/anaconda3/lib/python3.9/site-packages (from tensorboard<3.0.0,>=2.11.2->neuralprophet) (3.4.1)\r\n",
      "Requirement already satisfied: protobuf>=3.19.6 in /opt/anaconda3/lib/python3.9/site-packages (from tensorboard<3.0.0,>=2.11.2->neuralprophet) (4.21.12)\r\n",
      "Requirement already satisfied: google-auth-oauthlib<0.5,>=0.4.1 in /opt/anaconda3/lib/python3.9/site-packages (from tensorboard<3.0.0,>=2.11.2->neuralprophet) (0.4.6)\r\n",
      "Requirement already satisfied: tensorboard-data-server<0.8.0,>=0.7.0 in /opt/anaconda3/lib/python3.9/site-packages (from tensorboard<3.0.0,>=2.11.2->neuralprophet) (0.7.0)\r\n",
      "Requirement already satisfied: tensorboard-plugin-wit>=1.6.0 in /opt/anaconda3/lib/python3.9/site-packages (from tensorboard<3.0.0,>=2.11.2->neuralprophet) (1.8.1)\r\n",
      "Requirement already satisfied: setuptools>=41.0.0 in /opt/anaconda3/lib/python3.9/site-packages (from tensorboard<3.0.0,>=2.11.2->neuralprophet) (58.0.4)\r\n"
     ]
    },
    {
     "name": "stdout",
     "output_type": "stream",
     "text": [
      "Requirement already satisfied: pyasn1-modules>=0.2.1 in /opt/anaconda3/lib/python3.9/site-packages (from google-auth<3,>=1.6.3->tensorboard<3.0.0,>=2.11.2->neuralprophet) (0.2.8)\r\n",
      "Requirement already satisfied: cachetools<6.0,>=2.0.0 in /opt/anaconda3/lib/python3.9/site-packages (from google-auth<3,>=1.6.3->tensorboard<3.0.0,>=2.11.2->neuralprophet) (5.2.1)\r\n",
      "Requirement already satisfied: rsa<5,>=3.1.4 in /opt/anaconda3/lib/python3.9/site-packages (from google-auth<3,>=1.6.3->tensorboard<3.0.0,>=2.11.2->neuralprophet) (4.9)\r\n",
      "Requirement already satisfied: requests-oauthlib>=0.7.0 in /opt/anaconda3/lib/python3.9/site-packages (from google-auth-oauthlib<0.5,>=0.4.1->tensorboard<3.0.0,>=2.11.2->neuralprophet) (1.3.1)\r\n",
      "Requirement already satisfied: importlib-metadata>=4.4 in /opt/anaconda3/lib/python3.9/site-packages (from markdown>=2.6.8->tensorboard<3.0.0,>=2.11.2->neuralprophet) (4.8.1)\r\n",
      "Requirement already satisfied: pyasn1<0.5.0,>=0.4.6 in /opt/anaconda3/lib/python3.9/site-packages (from pyasn1-modules>=0.2.1->google-auth<3,>=1.6.3->tensorboard<3.0.0,>=2.11.2->neuralprophet) (0.4.8)\r\n",
      "Requirement already satisfied: charset-normalizer~=2.0.0 in /opt/anaconda3/lib/python3.9/site-packages (from requests->jupyter-dash>=0.4.2->plotly-resampler<0.9.0.0,>=0.8.3.1->neuralprophet) (2.0.4)\r\n",
      "Requirement already satisfied: idna<4,>=2.5 in /opt/anaconda3/lib/python3.9/site-packages (from requests->jupyter-dash>=0.4.2->plotly-resampler<0.9.0.0,>=0.8.3.1->neuralprophet) (3.2)\r\n"
     ]
    },
    {
     "name": "stdout",
     "output_type": "stream",
     "text": [
      "Requirement already satisfied: urllib3<1.27,>=1.21.1 in /opt/anaconda3/lib/python3.9/site-packages (from requests->jupyter-dash>=0.4.2->plotly-resampler<0.9.0.0,>=0.8.3.1->neuralprophet) (1.26.7)\r\n",
      "Requirement already satisfied: certifi>=2017.4.17 in /opt/anaconda3/lib/python3.9/site-packages (from requests->jupyter-dash>=0.4.2->plotly-resampler<0.9.0.0,>=0.8.3.1->neuralprophet) (2021.10.8)\r\n",
      "Requirement already satisfied: oauthlib>=3.0.0 in /opt/anaconda3/lib/python3.9/site-packages (from requests-oauthlib>=0.7.0->google-auth-oauthlib<0.5,>=0.4.1->tensorboard<3.0.0,>=2.11.2->neuralprophet) (3.2.2)\r\n"
     ]
    },
    {
     "name": "stdout",
     "output_type": "stream",
     "text": [
      "Requirement already satisfied: multidict<7.0,>=4.5 in /opt/anaconda3/lib/python3.9/site-packages (from aiohttp->fsspec[http]>2021.06.0->pytorch-lightning<2.0.0,>=1.9.4->neuralprophet) (6.0.4)\r\n",
      "Requirement already satisfied: async-timeout<5.0,>=4.0.0a3 in /opt/anaconda3/lib/python3.9/site-packages (from aiohttp->fsspec[http]>2021.06.0->pytorch-lightning<2.0.0,>=1.9.4->neuralprophet) (4.0.2)\r\n",
      "Requirement already satisfied: aiosignal>=1.1.2 in /opt/anaconda3/lib/python3.9/site-packages (from aiohttp->fsspec[http]>2021.06.0->pytorch-lightning<2.0.0,>=1.9.4->neuralprophet) (1.3.1)\r\n",
      "Requirement already satisfied: frozenlist>=1.1.1 in /opt/anaconda3/lib/python3.9/site-packages (from aiohttp->fsspec[http]>2021.06.0->pytorch-lightning<2.0.0,>=1.9.4->neuralprophet) (1.3.3)\r\n",
      "Requirement already satisfied: yarl<2.0,>=1.0 in /opt/anaconda3/lib/python3.9/site-packages (from aiohttp->fsspec[http]>2021.06.0->pytorch-lightning<2.0.0,>=1.9.4->neuralprophet) (1.8.2)\r\n",
      "Requirement already satisfied: attrs>=17.3.0 in /opt/anaconda3/lib/python3.9/site-packages (from aiohttp->fsspec[http]>2021.06.0->pytorch-lightning<2.0.0,>=1.9.4->neuralprophet) (21.2.0)\r\n"
     ]
    },
    {
     "name": "stdout",
     "output_type": "stream",
     "text": [
      "Requirement already satisfied: traitlets<6.0,>=4.1.0 in /opt/anaconda3/lib/python3.9/site-packages (from ipykernel->jupyter-dash>=0.4.2->plotly-resampler<0.9.0.0,>=0.8.3.1->neuralprophet) (5.1.0)\r\n",
      "Requirement already satisfied: debugpy<2.0,>=1.0.0 in /opt/anaconda3/lib/python3.9/site-packages (from ipykernel->jupyter-dash>=0.4.2->plotly-resampler<0.9.0.0,>=0.8.3.1->neuralprophet) (1.4.1)\r\n",
      "Requirement already satisfied: jupyter-client<8.0 in /opt/anaconda3/lib/python3.9/site-packages (from ipykernel->jupyter-dash>=0.4.2->plotly-resampler<0.9.0.0,>=0.8.3.1->neuralprophet) (6.1.12)\r\n",
      "Requirement already satisfied: ipython-genutils in /opt/anaconda3/lib/python3.9/site-packages (from ipykernel->jupyter-dash>=0.4.2->plotly-resampler<0.9.0.0,>=0.8.3.1->neuralprophet) (0.2.0)\r\n",
      "Requirement already satisfied: tornado<7.0,>=4.2 in /opt/anaconda3/lib/python3.9/site-packages (from ipykernel->jupyter-dash>=0.4.2->plotly-resampler<0.9.0.0,>=0.8.3.1->neuralprophet) (6.1)\r\n",
      "Requirement already satisfied: matplotlib-inline<0.2.0,>=0.1.0 in /opt/anaconda3/lib/python3.9/site-packages (from ipykernel->jupyter-dash>=0.4.2->plotly-resampler<0.9.0.0,>=0.8.3.1->neuralprophet) (0.1.2)\r\n",
      "Requirement already satisfied: appnope in /opt/anaconda3/lib/python3.9/site-packages (from ipykernel->jupyter-dash>=0.4.2->plotly-resampler<0.9.0.0,>=0.8.3.1->neuralprophet) (0.1.2)\r\n"
     ]
    },
    {
     "name": "stdout",
     "output_type": "stream",
     "text": [
      "Requirement already satisfied: decorator in /opt/anaconda3/lib/python3.9/site-packages (from ipython->jupyter-dash>=0.4.2->plotly-resampler<0.9.0.0,>=0.8.3.1->neuralprophet) (5.1.0)\r\n",
      "Requirement already satisfied: pickleshare in /opt/anaconda3/lib/python3.9/site-packages (from ipython->jupyter-dash>=0.4.2->plotly-resampler<0.9.0.0,>=0.8.3.1->neuralprophet) (0.7.5)\r\n",
      "Requirement already satisfied: backcall in /opt/anaconda3/lib/python3.9/site-packages (from ipython->jupyter-dash>=0.4.2->plotly-resampler<0.9.0.0,>=0.8.3.1->neuralprophet) (0.2.0)\r\n",
      "Requirement already satisfied: prompt-toolkit!=3.0.0,!=3.0.1,<3.1.0,>=2.0.0 in /opt/anaconda3/lib/python3.9/site-packages (from ipython->jupyter-dash>=0.4.2->plotly-resampler<0.9.0.0,>=0.8.3.1->neuralprophet) (3.0.20)\r\n",
      "Requirement already satisfied: pygments in /opt/anaconda3/lib/python3.9/site-packages (from ipython->jupyter-dash>=0.4.2->plotly-resampler<0.9.0.0,>=0.8.3.1->neuralprophet) (2.10.0)\r\n",
      "Requirement already satisfied: pexpect>4.3 in /opt/anaconda3/lib/python3.9/site-packages (from ipython->jupyter-dash>=0.4.2->plotly-resampler<0.9.0.0,>=0.8.3.1->neuralprophet) (4.8.0)\r\n",
      "Requirement already satisfied: jedi>=0.16 in /opt/anaconda3/lib/python3.9/site-packages (from ipython->jupyter-dash>=0.4.2->plotly-resampler<0.9.0.0,>=0.8.3.1->neuralprophet) (0.18.0)\r\n",
      "Requirement already satisfied: parso<0.9.0,>=0.8.0 in /opt/anaconda3/lib/python3.9/site-packages (from jedi>=0.16->ipython->jupyter-dash>=0.4.2->plotly-resampler<0.9.0.0,>=0.8.3.1->neuralprophet) (0.8.2)\r\n",
      "Requirement already satisfied: jupyter-core>=4.6.0 in /opt/anaconda3/lib/python3.9/site-packages (from jupyter-client<8.0->ipykernel->jupyter-dash>=0.4.2->plotly-resampler<0.9.0.0,>=0.8.3.1->neuralprophet) (4.8.1)\r\n",
      "Requirement already satisfied: pyzmq>=13 in /opt/anaconda3/lib/python3.9/site-packages (from jupyter-client<8.0->ipykernel->jupyter-dash>=0.4.2->plotly-resampler<0.9.0.0,>=0.8.3.1->neuralprophet) (22.2.1)\r\n",
      "Requirement already satisfied: ptyprocess>=0.5 in /opt/anaconda3/lib/python3.9/site-packages (from pexpect>4.3->ipython->jupyter-dash>=0.4.2->plotly-resampler<0.9.0.0,>=0.8.3.1->neuralprophet) (0.7.0)\r\n"
     ]
    },
    {
     "name": "stdout",
     "output_type": "stream",
     "text": [
      "Requirement already satisfied: wcwidth in /opt/anaconda3/lib/python3.9/site-packages (from prompt-toolkit!=3.0.0,!=3.0.1,<3.1.0,>=2.0.0->ipython->jupyter-dash>=0.4.2->plotly-resampler<0.9.0.0,>=0.8.3.1->neuralprophet) (0.2.5)\r\n"
     ]
    },
    {
     "name": "stdout",
     "output_type": "stream",
     "text": [
      "\u001b[33mWARNING: Ignoring invalid distribution -umpy (/opt/anaconda3/lib/python3.9/site-packages)\u001b[0m\r\n"
     ]
    },
    {
     "name": "stdout",
     "output_type": "stream",
     "text": [
      "\u001b[33mWARNING: Ignoring invalid distribution -umpy (/opt/anaconda3/lib/python3.9/site-packages)\u001b[0m\r\n",
      "\u001b[33mWARNING: Ignoring invalid distribution -umpy (/opt/anaconda3/lib/python3.9/site-packages)\u001b[0m\r\n",
      "\u001b[33mWARNING: Ignoring invalid distribution -umpy (/opt/anaconda3/lib/python3.9/site-packages)\u001b[0m\r\n"
     ]
    }
   ],
   "source": [
    "get_ipython().system('pip install neuralprophet')"
   ]
  }
 ],
 "metadata": {
  "jupytext": {
   "cell_metadata_filter": "-all",
   "main_language": "python",
   "notebook_metadata_filter": "-all"
  },
  "kernelspec": {
   "display_name": "base",
   "language": "python",
   "name": "python3"
  },
  "language_info": {
   "codemirror_mode": {
    "name": "ipython",
    "version": 3
   },
   "file_extension": ".py",
   "mimetype": "text/x-python",
   "name": "python",
   "nbconvert_exporter": "python",
   "pygments_lexer": "ipython3",
   "version": "3.9.12"
  }
 },
 "nbformat": 4,
 "nbformat_minor": 5
}
