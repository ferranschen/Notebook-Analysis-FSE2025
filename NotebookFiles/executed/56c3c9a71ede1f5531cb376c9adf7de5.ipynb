{
 "cells": [
  {
   "cell_type": "code",
   "execution_count": 1,
   "id": "595f0721",
   "metadata": {
    "execution": {
     "iopub.execute_input": "2023-05-10T00:30:16.929848Z",
     "iopub.status.busy": "2023-05-10T00:30:16.929612Z",
     "iopub.status.idle": "2023-05-10T00:30:17.314336Z",
     "shell.execute_reply": "2023-05-10T00:30:17.314026Z"
    }
   },
   "outputs": [],
   "source": [
    "import os\n",
    "import pandas\n",
    "from google.cloud import bigquery\n",
    "from google.oauth2 import service_account\n",
    "from google.cloud.bigquery import magics"
   ]
  },
  {
   "cell_type": "code",
   "execution_count": 2,
   "id": "173aa0da",
   "metadata": {
    "execution": {
     "iopub.execute_input": "2023-05-10T00:30:17.316080Z",
     "iopub.status.busy": "2023-05-10T00:30:17.315926Z",
     "iopub.status.idle": "2023-05-10T00:30:17.317861Z",
     "shell.execute_reply": "2023-05-10T00:30:17.317568Z"
    }
   },
   "outputs": [],
   "source": [
    "BIGQUERY_PROJECT = 'ironhacks-data'"
   ]
  },
  {
   "cell_type": "code",
   "execution_count": 3,
   "id": "75eac574",
   "metadata": {
    "execution": {
     "iopub.execute_input": "2023-05-10T00:30:17.319556Z",
     "iopub.status.busy": "2023-05-10T00:30:17.319319Z",
     "iopub.status.idle": "2023-05-10T00:30:17.326439Z",
     "shell.execute_reply": "2023-05-10T00:30:17.326101Z"
    }
   },
   "outputs": [],
   "source": [
    "bigquery_client = bigquery.Client(project=BIGQUERY_PROJECT)"
   ]
  },
  {
   "cell_type": "code",
   "execution_count": 4,
   "id": "841a0ea9",
   "metadata": {
    "execution": {
     "iopub.execute_input": "2023-05-10T00:30:17.328042Z",
     "iopub.status.busy": "2023-05-10T00:30:17.327924Z",
     "iopub.status.idle": "2023-05-10T00:30:17.329896Z",
     "shell.execute_reply": "2023-05-10T00:30:17.329642Z"
    }
   },
   "outputs": [],
   "source": [
    "query = \"\"\"\n",
    "SELECT * FROM `ironhacks-data.ironhacks_training.weather_data`\n",
    "\"\"\""
   ]
  },
  {
   "cell_type": "code",
   "execution_count": 5,
   "id": "70ef2188",
   "metadata": {
    "execution": {
     "iopub.execute_input": "2023-05-10T00:30:17.331403Z",
     "iopub.status.busy": "2023-05-10T00:30:17.331293Z",
     "iopub.status.idle": "2023-05-10T00:30:20.475468Z",
     "shell.execute_reply": "2023-05-10T00:30:20.474958Z"
    }
   },
   "outputs": [
    {
     "data": {
      "text/html": [
       "<div>\n",
       "<style scoped>\n",
       "    .dataframe tbody tr th:only-of-type {\n",
       "        vertical-align: middle;\n",
       "    }\n",
       "\n",
       "    .dataframe tbody tr th {\n",
       "        vertical-align: top;\n",
       "    }\n",
       "\n",
       "    .dataframe thead th {\n",
       "        text-align: right;\n",
       "    }\n",
       "</style>\n",
       "<table border=\"1\" class=\"dataframe\">\n",
       "  <thead>\n",
       "    <tr style=\"text-align: right;\">\n",
       "      <th></th>\n",
       "      <th>date</th>\n",
       "      <th>max_rel_humidity</th>\n",
       "      <th>max_temperature</th>\n",
       "      <th>mean_temperature</th>\n",
       "      <th>min_rel_humidity</th>\n",
       "      <th>min_temperature</th>\n",
       "      <th>potential_water_deficit</th>\n",
       "      <th>precipitation_data</th>\n",
       "      <th>wind_speed</th>\n",
       "    </tr>\n",
       "  </thead>\n",
       "  <tbody>\n",
       "    <tr>\n",
       "      <th>0</th>\n",
       "      <td>2019-09-04</td>\n",
       "      <td>99.9498</td>\n",
       "      <td>25.4570</td>\n",
       "      <td>18.6242</td>\n",
       "      <td>56.4720</td>\n",
       "      <td>11.7913</td>\n",
       "      <td>-3.6142</td>\n",
       "      <td>0.0</td>\n",
       "      <td>3.6461</td>\n",
       "    </tr>\n",
       "    <tr>\n",
       "      <th>1</th>\n",
       "      <td>2020-02-16</td>\n",
       "      <td>84.4966</td>\n",
       "      <td>8.6228</td>\n",
       "      <td>3.1896</td>\n",
       "      <td>40.7666</td>\n",
       "      <td>-2.2436</td>\n",
       "      <td>-1.4307</td>\n",
       "      <td>0.0</td>\n",
       "      <td>2.2398</td>\n",
       "    </tr>\n",
       "    <tr>\n",
       "      <th>2</th>\n",
       "      <td>2019-12-19</td>\n",
       "      <td>95.9017</td>\n",
       "      <td>2.8886</td>\n",
       "      <td>-3.4884</td>\n",
       "      <td>39.0330</td>\n",
       "      <td>-9.8654</td>\n",
       "      <td>-0.9389</td>\n",
       "      <td>0.0</td>\n",
       "      <td>4.1230</td>\n",
       "    </tr>\n",
       "    <tr>\n",
       "      <th>3</th>\n",
       "      <td>2020-02-20</td>\n",
       "      <td>70.0359</td>\n",
       "      <td>0.7939</td>\n",
       "      <td>-4.0254</td>\n",
       "      <td>34.7544</td>\n",
       "      <td>-8.8446</td>\n",
       "      <td>-1.4427</td>\n",
       "      <td>0.0</td>\n",
       "      <td>4.8531</td>\n",
       "    </tr>\n",
       "    <tr>\n",
       "      <th>4</th>\n",
       "      <td>2019-12-23</td>\n",
       "      <td>97.1634</td>\n",
       "      <td>13.8411</td>\n",
       "      <td>5.7818</td>\n",
       "      <td>31.2553</td>\n",
       "      <td>-2.2774</td>\n",
       "      <td>-1.2787</td>\n",
       "      <td>0.0</td>\n",
       "      <td>2.3404</td>\n",
       "    </tr>\n",
       "  </tbody>\n",
       "</table>\n",
       "</div>"
      ],
      "text/plain": [
       "         date  max_rel_humidity  max_temperature  mean_temperature  \\\n",
       "0  2019-09-04           99.9498          25.4570           18.6242   \n",
       "1  2020-02-16           84.4966           8.6228            3.1896   \n",
       "2  2019-12-19           95.9017           2.8886           -3.4884   \n",
       "3  2020-02-20           70.0359           0.7939           -4.0254   \n",
       "4  2019-12-23           97.1634          13.8411            5.7818   \n",
       "\n",
       "   min_rel_humidity  min_temperature  potential_water_deficit  \\\n",
       "0           56.4720          11.7913                  -3.6142   \n",
       "1           40.7666          -2.2436                  -1.4307   \n",
       "2           39.0330          -9.8654                  -0.9389   \n",
       "3           34.7544          -8.8446                  -1.4427   \n",
       "4           31.2553          -2.2774                  -1.2787   \n",
       "\n",
       "   precipitation_data  wind_speed  \n",
       "0                 0.0      3.6461  \n",
       "1                 0.0      2.2398  \n",
       "2                 0.0      4.1230  \n",
       "3                 0.0      4.8531  \n",
       "4                 0.0      2.3404  "
      ]
     },
     "execution_count": 5,
     "metadata": {},
     "output_type": "execute_result"
    }
   ],
   "source": [
    "query_job = bigquery_client.query(query)\n",
    "data = query_job.to_dataframe()\n",
    "data.head()"
   ]
  },
  {
   "cell_type": "code",
   "execution_count": 6,
   "id": "9a8ec146",
   "metadata": {
    "execution": {
     "iopub.execute_input": "2023-05-10T00:30:20.477986Z",
     "iopub.status.busy": "2023-05-10T00:30:20.477770Z",
     "iopub.status.idle": "2023-05-10T00:30:23.063912Z",
     "shell.execute_reply": "2023-05-10T00:30:23.063291Z"
    },
    "lines_to_next_cell": 2
   },
   "outputs": [
    {
     "name": "stdout",
     "output_type": "stream",
     "text": [
      "\u001b[33mWARNING: Ignoring invalid distribution -umpy (/opt/anaconda3/lib/python3.9/site-packages)\u001b[0m\r\n",
      "\u001b[33mWARNING: Ignoring invalid distribution -umpy (/opt/anaconda3/lib/python3.9/site-packages)\u001b[0m\r\n"
     ]
    },
    {
     "name": "stdout",
     "output_type": "stream",
     "text": [
      "Requirement already satisfied: db-dtypes in /opt/anaconda3/lib/python3.9/site-packages (1.0.5)\r\n",
      "Requirement already satisfied: packaging>=17.0 in /opt/anaconda3/lib/python3.9/site-packages (from db-dtypes) (21.3)\r\n",
      "Requirement already satisfied: pandas<2.0dev,>=0.24.2 in /opt/anaconda3/lib/python3.9/site-packages (from db-dtypes) (1.5.3)\r\n",
      "Requirement already satisfied: pyarrow>=3.0.0 in /opt/anaconda3/lib/python3.9/site-packages (from db-dtypes) (10.0.1)\r\n",
      "Requirement already satisfied: numpy<2.0dev,>=1.16.6 in /opt/anaconda3/lib/python3.9/site-packages (from db-dtypes) (1.22.4)\r\n",
      "Requirement already satisfied: pyparsing!=3.0.5,>=2.0.2 in /opt/anaconda3/lib/python3.9/site-packages (from packaging>=17.0->db-dtypes) (3.0.4)\r\n",
      "Requirement already satisfied: python-dateutil>=2.8.1 in /opt/anaconda3/lib/python3.9/site-packages (from pandas<2.0dev,>=0.24.2->db-dtypes) (2.8.2)\r\n",
      "Requirement already satisfied: pytz>=2020.1 in /opt/anaconda3/lib/python3.9/site-packages (from pandas<2.0dev,>=0.24.2->db-dtypes) (2021.3)\r\n",
      "Requirement already satisfied: six>=1.5 in /opt/anaconda3/lib/python3.9/site-packages (from python-dateutil>=2.8.1->pandas<2.0dev,>=0.24.2->db-dtypes) (1.16.0)\r\n",
      "\u001b[33mWARNING: Ignoring invalid distribution -umpy (/opt/anaconda3/lib/python3.9/site-packages)\u001b[0m\r\n"
     ]
    },
    {
     "name": "stdout",
     "output_type": "stream",
     "text": [
      "\u001b[33mWARNING: Ignoring invalid distribution -umpy (/opt/anaconda3/lib/python3.9/site-packages)\u001b[0m\r\n",
      "\u001b[33mWARNING: Ignoring invalid distribution -umpy (/opt/anaconda3/lib/python3.9/site-packages)\u001b[0m\r\n",
      "\u001b[33mWARNING: Ignoring invalid distribution -umpy (/opt/anaconda3/lib/python3.9/site-packages)\u001b[0m\r\n"
     ]
    }
   ],
   "source": [
    "get_ipython().system('pip install db-dtypes')"
   ]
  }
 ],
 "metadata": {
  "jupytext": {
   "cell_metadata_filter": "-all",
   "main_language": "python",
   "notebook_metadata_filter": "-all"
  },
  "kernelspec": {
   "display_name": "base",
   "language": "python",
   "name": "python3"
  },
  "language_info": {
   "codemirror_mode": {
    "name": "ipython",
    "version": 3
   },
   "file_extension": ".py",
   "mimetype": "text/x-python",
   "name": "python",
   "nbconvert_exporter": "python",
   "pygments_lexer": "ipython3",
   "version": "3.9.12"
  }
 },
 "nbformat": 4,
 "nbformat_minor": 5
}
