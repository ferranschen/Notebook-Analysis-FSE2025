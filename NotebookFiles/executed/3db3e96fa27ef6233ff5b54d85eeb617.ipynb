{
 "cells": [
  {
   "cell_type": "code",
   "execution_count": 1,
   "id": "1ab9323b",
   "metadata": {
    "execution": {
     "iopub.execute_input": "2023-05-10T02:25:10.072075Z",
     "iopub.status.busy": "2023-05-10T02:25:10.070973Z",
     "iopub.status.idle": "2023-05-10T02:25:10.081957Z",
     "shell.execute_reply": "2023-05-10T02:25:10.081652Z"
    }
   },
   "outputs": [],
   "source": [
    "get_ipython().run_cell_magic('capture', '', \"%logstop\\n%logstart -t -r -q ipython_command_log.py global\\n\\n#- IRONHACKS RESEARCH TRACKING CODE\\n#----------------------------------\\n# The following code is used to help our research team understand how you \\n# our notebook environment. We do not collect any personal information with\\n# the following code, it is used to measure when and how often you work on\\n# your submission files.\\n\\nimport os\\nfrom datetime import datetime\\nimport IPython.core.history as history\\n\\nha = history.HistoryAccessor()\\nha_tail = ha.get_tail(1)\\nha_cmd = next(ha_tail)\\nsession_id = str(ha_cmd[0])\\ncommand_id = str(ha_cmd[1])\\ntimestamp = datetime.utcnow().isoformat()\\nhistory_line = ','.join([session_id, command_id, timestamp]) + '\\\\n'\\nlogfile = open(os.environ['HOME']+'/ipython_session_log.csv', 'a')\\nlogfile.write(history_line)\\nlogfile.close()\\n\")"
   ]
  },
  {
   "cell_type": "markdown",
   "id": "e4a144bf",
   "metadata": {},
   "source": [
    "SUBMISSION 11 Milestone\n",
    "The task was to predict the total_claims for week 42\n",
    "For each week there is a distinct list of uu_ids with unique uu_id in the table called prediction_list\n",
    "Predict a value for each of those uu_ids\n",
    "The list is changing over time (given the streaming nature of the data)"
   ]
  },
  {
   "cell_type": "code",
   "execution_count": 2,
   "id": "ec74a27f",
   "metadata": {
    "execution": {
     "iopub.execute_input": "2023-05-10T02:25:10.083754Z",
     "iopub.status.busy": "2023-05-10T02:25:10.083616Z",
     "iopub.status.idle": "2023-05-10T02:25:12.132240Z",
     "shell.execute_reply": "2023-05-10T02:25:12.131525Z"
    }
   },
   "outputs": [],
   "source": [
    "get_ipython().run_cell_magic('capture', '', \"\\n# INSTALL ADDITIONAL LIBRARIES IF REQUIRED\\n# ------------------------------------------\\n# This is normally not required. The hub environment comes preinstaled with \\n# many packages that you can already use without setup. In case there is some\\n# other library you would like to use that isn't on the list you run this command\\n# once to install them.  If it is already installed this command has no effect.\\n\\n!python3 -m pip install pandas\\n!python3 -m pip install [ensorflow]\\n!python3 -m pip install [Keras]\\n!python3 -m pip install [Pytorch]\\n\")"
   ]
  },
  {
   "cell_type": "markdown",
   "id": "04057cab",
   "metadata": {},
   "source": [
    "INSTALL PACKAGES"
   ]
  },
  {
   "cell_type": "code",
   "execution_count": 3,
   "id": "bf5e69ac",
   "metadata": {
    "execution": {
     "iopub.execute_input": "2023-05-10T02:25:12.135401Z",
     "iopub.status.busy": "2023-05-10T02:25:12.135164Z",
     "iopub.status.idle": "2023-05-10T02:25:14.738398Z",
     "shell.execute_reply": "2023-05-10T02:25:14.737761Z"
    }
   },
   "outputs": [
    {
     "name": "stdout",
     "output_type": "stream",
     "text": [
      "\u001b[33mWARNING: Ignoring invalid distribution -umpy (/opt/anaconda3/lib/python3.9/site-packages)\u001b[0m\r\n",
      "\u001b[33mWARNING: Ignoring invalid distribution -umpy (/opt/anaconda3/lib/python3.9/site-packages)\u001b[0m\r\n",
      "Requirement already satisfied: db-dtypes in /opt/anaconda3/lib/python3.9/site-packages (1.0.5)\r\n",
      "Requirement already satisfied: packaging>=17.0 in /opt/anaconda3/lib/python3.9/site-packages (from db-dtypes) (21.3)\r\n",
      "Requirement already satisfied: pyarrow>=3.0.0 in /opt/anaconda3/lib/python3.9/site-packages (from db-dtypes) (10.0.1)\r\n",
      "Requirement already satisfied: numpy<2.0dev,>=1.16.6 in /opt/anaconda3/lib/python3.9/site-packages (from db-dtypes) (1.22.4)\r\n",
      "Requirement already satisfied: pandas<2.0dev,>=0.24.2 in /opt/anaconda3/lib/python3.9/site-packages (from db-dtypes) (1.5.3)\r\n",
      "Requirement already satisfied: pyparsing!=3.0.5,>=2.0.2 in /opt/anaconda3/lib/python3.9/site-packages (from packaging>=17.0->db-dtypes) (3.0.4)\r\n",
      "Requirement already satisfied: python-dateutil>=2.8.1 in /opt/anaconda3/lib/python3.9/site-packages (from pandas<2.0dev,>=0.24.2->db-dtypes) (2.8.2)\r\n",
      "Requirement already satisfied: pytz>=2020.1 in /opt/anaconda3/lib/python3.9/site-packages (from pandas<2.0dev,>=0.24.2->db-dtypes) (2021.3)\r\n",
      "Requirement already satisfied: six>=1.5 in /opt/anaconda3/lib/python3.9/site-packages (from python-dateutil>=2.8.1->pandas<2.0dev,>=0.24.2->db-dtypes) (1.16.0)\r\n",
      "\u001b[33mWARNING: Ignoring invalid distribution -umpy (/opt/anaconda3/lib/python3.9/site-packages)\u001b[0m\r\n"
     ]
    },
    {
     "name": "stdout",
     "output_type": "stream",
     "text": [
      "\u001b[33mWARNING: Ignoring invalid distribution -umpy (/opt/anaconda3/lib/python3.9/site-packages)\u001b[0m\r\n"
     ]
    },
    {
     "name": "stdout",
     "output_type": "stream",
     "text": [
      "\u001b[33mWARNING: Ignoring invalid distribution -umpy (/opt/anaconda3/lib/python3.9/site-packages)\u001b[0m\r\n",
      "\u001b[33mWARNING: Ignoring invalid distribution -umpy (/opt/anaconda3/lib/python3.9/site-packages)\u001b[0m\r\n"
     ]
    }
   ],
   "source": [
    "get_ipython().system('pip install db-dtypes')"
   ]
  },
  {
   "cell_type": "markdown",
   "id": "dbb67d01",
   "metadata": {},
   "source": [
    "IMPORT THE LIBRARIES YOU WILL USE\n",
    "------------------------------------------\n",
    "You only need to import packages one time per notebook session. To keep your\n",
    "notebook clean and organized you can handle all imports at the top of your file.\n",
    "The following are included for example purposed, feel free to modify or delete \n",
    "anything in this section."
   ]
  },
  {
   "cell_type": "code",
   "execution_count": 4,
   "id": "764f176c",
   "metadata": {
    "execution": {
     "iopub.execute_input": "2023-05-10T02:25:14.741456Z",
     "iopub.status.busy": "2023-05-10T02:25:14.741231Z",
     "iopub.status.idle": "2023-05-10T02:25:15.477056Z",
     "shell.execute_reply": "2023-05-10T02:25:15.476742Z"
    }
   },
   "outputs": [],
   "source": [
    "import csv\n",
    "import pandas as pd\n",
    "import numpy as np\n",
    "from google.cloud import bigquery\n",
    "from google.oauth2 import service_account\n",
    "from google.cloud.bigquery import magics\n",
    "import statsmodels.api as sm\n",
    "import math"
   ]
  },
  {
   "cell_type": "markdown",
   "id": "3e56a58b",
   "metadata": {},
   "source": [
    "IMPORT THE DATASET"
   ]
  },
  {
   "cell_type": "code",
   "execution_count": 5,
   "id": "11a60899",
   "metadata": {
    "execution": {
     "iopub.execute_input": "2023-05-10T02:25:15.478785Z",
     "iopub.status.busy": "2023-05-10T02:25:15.478647Z",
     "iopub.status.idle": "2023-05-10T02:25:15.687125Z",
     "shell.execute_reply": "2023-05-10T02:25:15.686849Z"
    }
   },
   "outputs": [],
   "source": [
    "import pandas as pd\n",
    "import numpy as np\n",
    "import matplotlib.pyplot as plt\n",
    "import seaborn as sns\n",
    "get_ipython().run_line_magic('matplotlib', 'inline')"
   ]
  },
  {
   "cell_type": "code",
   "execution_count": 6,
   "id": "af930e3e",
   "metadata": {
    "execution": {
     "iopub.execute_input": "2023-05-10T02:25:15.688801Z",
     "iopub.status.busy": "2023-05-10T02:25:15.688653Z",
     "iopub.status.idle": "2023-05-10T02:25:15.690691Z",
     "shell.execute_reply": "2023-05-10T02:25:15.690422Z"
    }
   },
   "outputs": [],
   "source": [
    "import os\n",
    "from google.cloud import bigquery\n",
    "from google.oauth2 import service_account\n",
    "from google.cloud.bigquery import magics"
   ]
  },
  {
   "cell_type": "markdown",
   "id": "cfbad87e",
   "metadata": {},
   "source": [
    "IMPORT IRONHACKS DATA"
   ]
  },
  {
   "cell_type": "code",
   "execution_count": 7,
   "id": "95718c90",
   "metadata": {
    "execution": {
     "iopub.execute_input": "2023-05-10T02:25:15.692075Z",
     "iopub.status.busy": "2023-05-10T02:25:15.691998Z",
     "iopub.status.idle": "2023-05-10T02:25:15.693638Z",
     "shell.execute_reply": "2023-05-10T02:25:15.693400Z"
    }
   },
   "outputs": [],
   "source": [
    "import os\n",
    "BIGQUERY_PROJECT = 'ironhacks-data'"
   ]
  },
  {
   "cell_type": "code",
   "execution_count": 8,
   "id": "81cad258",
   "metadata": {
    "execution": {
     "iopub.execute_input": "2023-05-10T02:25:15.695036Z",
     "iopub.status.busy": "2023-05-10T02:25:15.694948Z",
     "iopub.status.idle": "2023-05-10T02:25:15.704450Z",
     "shell.execute_reply": "2023-05-10T02:25:15.704149Z"
    }
   },
   "outputs": [
    {
     "data": {
      "text/plain": [
       "<google.cloud.bigquery.client.Client at 0x107c7a8b0>"
      ]
     },
     "execution_count": 8,
     "metadata": {},
     "output_type": "execute_result"
    }
   ],
   "source": [
    "bigquery.Client(project=BIGQUERY_PROJECT)"
   ]
  },
  {
   "cell_type": "markdown",
   "id": "93fd008e",
   "metadata": {},
   "source": [
    "IMPORT THE LINEAR REGRESSION MODEL"
   ]
  },
  {
   "cell_type": "code",
   "execution_count": 9,
   "id": "20942734",
   "metadata": {
    "execution": {
     "iopub.execute_input": "2023-05-10T02:25:15.706091Z",
     "iopub.status.busy": "2023-05-10T02:25:15.705982Z",
     "iopub.status.idle": "2023-05-10T02:25:15.768161Z",
     "shell.execute_reply": "2023-05-10T02:25:15.767870Z"
    }
   },
   "outputs": [],
   "source": [
    "import csv\n",
    "import pandas as pd\n",
    "import numpy as np\n",
    "from google.cloud import bigquery\n",
    "from google.oauth2 import service_account\n",
    "from google.cloud.bigquery import magics\n",
    "from sklearn.model_selection import train_test_split \n",
    "from sklearn.linear_model import LinearRegression\n",
    "from sklearn import metrics\n",
    "import matplotlib.pyplot as plt  "
   ]
  },
  {
   "cell_type": "markdown",
   "id": "e51a60e8",
   "metadata": {},
   "source": [
    "IMPORT PACKAGE THE LINEAR REGRESSION MODEL- SCIKIT-LEARN \n",
    "SOURCE: https://realpython.com/linear-regression-in-python/#simple-linear-regression-with-scikit-learn\n",
    "NUMPY IS A FUNDAMENTAL PUYTHON SCIENTIFIC PACKAGE THAT ALLOWS MANY HIGH PEROFORMATION OPERATION SON A SINGLE AND MULTI DIMENSIONAL ARRAYS.\n",
    "SOURCE: https://realpython.com/linear-regression-in-python/#python-packages-for-linear-regression"
   ]
  },
  {
   "cell_type": "code",
   "execution_count": 10,
   "id": "da047099",
   "metadata": {
    "execution": {
     "iopub.execute_input": "2023-05-10T02:25:15.769815Z",
     "iopub.status.busy": "2023-05-10T02:25:15.769731Z",
     "iopub.status.idle": "2023-05-10T02:25:15.771415Z",
     "shell.execute_reply": "2023-05-10T02:25:15.771183Z"
    }
   },
   "outputs": [],
   "source": [
    "import numpy as np\n",
    "from sklearn.linear_model import LinearRegression"
   ]
  },
  {
   "cell_type": "code",
   "execution_count": 11,
   "id": "435df46c",
   "metadata": {
    "execution": {
     "iopub.execute_input": "2023-05-10T02:25:15.772765Z",
     "iopub.status.busy": "2023-05-10T02:25:15.772679Z",
     "iopub.status.idle": "2023-05-10T02:25:15.775678Z",
     "shell.execute_reply": "2023-05-10T02:25:15.775116Z"
    },
    "lines_to_next_cell": 1
   },
   "outputs": [],
   "source": [
    "# DEFINING THE DATA; INPUTS (REGRESSOR.X) AND OUTPUTS (RESPONSE.Y)\n",
    "x = np.array([5, 15, 25, 35, 45, 55]).reshape((-1, 1))\n",
    "y = np.array([5, 20, 14, 32, 22, 38])"
   ]
  },
  {
   "cell_type": "markdown",
   "id": "16cf32fc",
   "metadata": {},
   "source": [
    "DEFINE YOUR CLASSES AND FUNCTIONS \n",
    "-----------------------------------\n",
    "This is not required, but is helpful in keeping your notebook organized. \n",
    "You can use the following cell or several cells to define your functions\n",
    "and classes to keep them separate from your analysis or results code.\n",
    "In general it useful to define your methods in a separate cell from where\n",
    "it is run."
   ]
  },
  {
   "cell_type": "code",
   "execution_count": 12,
   "id": "ec8de800",
   "metadata": {
    "execution": {
     "iopub.execute_input": "2023-05-10T02:25:15.778026Z",
     "iopub.status.busy": "2023-05-10T02:25:15.777894Z",
     "iopub.status.idle": "2023-05-10T02:25:15.779779Z",
     "shell.execute_reply": "2023-05-10T02:25:15.779544Z"
    },
    "lines_to_next_cell": 1
   },
   "outputs": [],
   "source": [
    "def example_function():\n",
    "    print('Hello World')"
   ]
  },
  {
   "cell_type": "code",
   "execution_count": 13,
   "id": "3a28c80a",
   "metadata": {
    "execution": {
     "iopub.execute_input": "2023-05-10T02:25:15.781135Z",
     "iopub.status.busy": "2023-05-10T02:25:15.781040Z",
     "iopub.status.idle": "2023-05-10T02:25:15.782619Z",
     "shell.execute_reply": "2023-05-10T02:25:15.782390Z"
    }
   },
   "outputs": [],
   "source": [
    "# CREATE A LINEAR REGRESSION MODEL\n",
    "model = LinearRegression()"
   ]
  },
  {
   "cell_type": "markdown",
   "id": "fe533cba",
   "metadata": {},
   "source": [
    "START USING A MODEL - .fit() fits the model\n",
    "SOURCE: REAL PYTHON - https://realpython.com/linear-regression-in-python/#simple-linear-regression-with-scikit-learn"
   ]
  },
  {
   "cell_type": "code",
   "execution_count": 14,
   "id": "a7bc50c1",
   "metadata": {
    "execution": {
     "iopub.execute_input": "2023-05-10T02:25:15.783973Z",
     "iopub.status.busy": "2023-05-10T02:25:15.783895Z",
     "iopub.status.idle": "2023-05-10T02:25:15.788479Z",
     "shell.execute_reply": "2023-05-10T02:25:15.788238Z"
    }
   },
   "outputs": [
    {
     "data": {
      "text/plain": [
       "sklearn.linear_model._base.LinearRegression"
      ]
     },
     "execution_count": 14,
     "metadata": {},
     "output_type": "execute_result"
    }
   ],
   "source": [
    "model.fit(x,y)\n",
    "LinearRegression"
   ]
  },
  {
   "cell_type": "code",
   "execution_count": 15,
   "id": "cde38fd7",
   "metadata": {
    "execution": {
     "iopub.execute_input": "2023-05-10T02:25:15.789848Z",
     "iopub.status.busy": "2023-05-10T02:25:15.789747Z",
     "iopub.status.idle": "2023-05-10T02:25:15.791862Z",
     "shell.execute_reply": "2023-05-10T02:25:15.791607Z"
    }
   },
   "outputs": [
    {
     "name": "stdout",
     "output_type": "stream",
     "text": [
      "coefficient of determination: 0.715875613747954\n"
     ]
    }
   ],
   "source": [
    "# GET RESULTS - NOW THAT THE MODEL HAS BEEN FITTED; LET SEE IF IT WORKS!\n",
    "r_sq = model.score(x, y)\n",
    "print(f\"coefficient of determination: {r_sq}\")"
   ]
  },
  {
   "cell_type": "markdown",
   "id": "4e14c603",
   "metadata": {},
   "source": [
    "THE RETURN VALUE SHOULD BE R2"
   ]
  },
  {
   "cell_type": "markdown",
   "id": "b7d07ae5",
   "metadata": {},
   "source": [
    "DETERMIINE HOW TO GET b0 and b1 (scikit-learn)\n",
    "intercept and coefficient are estimated values"
   ]
  },
  {
   "cell_type": "code",
   "execution_count": 16,
   "id": "69e9b0e9",
   "metadata": {
    "execution": {
     "iopub.execute_input": "2023-05-10T02:25:15.793116Z",
     "iopub.status.busy": "2023-05-10T02:25:15.793036Z",
     "iopub.status.idle": "2023-05-10T02:25:15.795261Z",
     "shell.execute_reply": "2023-05-10T02:25:15.795032Z"
    }
   },
   "outputs": [
    {
     "name": "stdout",
     "output_type": "stream",
     "text": [
      "intercept: [5.63333333]\n"
     ]
    }
   ],
   "source": [
    "new_model = LinearRegression().fit(x,y.reshape((-1,1)))\n",
    "print(f\"intercept: {new_model.intercept_}\")"
   ]
  },
  {
   "cell_type": "code",
   "execution_count": 17,
   "id": "3b8373c2",
   "metadata": {
    "execution": {
     "iopub.execute_input": "2023-05-10T02:25:15.796566Z",
     "iopub.status.busy": "2023-05-10T02:25:15.796486Z",
     "iopub.status.idle": "2023-05-10T02:25:15.798195Z",
     "shell.execute_reply": "2023-05-10T02:25:15.797971Z"
    }
   },
   "outputs": [
    {
     "name": "stdout",
     "output_type": "stream",
     "text": [
      "slope: [[0.54]]\n"
     ]
    }
   ],
   "source": [
    "# DETERMIINE HOW TO GET b0 and b1 (scikit-learn)\n",
    "# intercept and coefficient are estimated values\n",
    "print(f\"slope: {new_model.coef_}\")"
   ]
  },
  {
   "cell_type": "code",
   "execution_count": 18,
   "id": "802c1e61",
   "metadata": {
    "execution": {
     "iopub.execute_input": "2023-05-10T02:25:15.799420Z",
     "iopub.status.busy": "2023-05-10T02:25:15.799335Z",
     "iopub.status.idle": "2023-05-10T02:25:15.801179Z",
     "shell.execute_reply": "2023-05-10T02:25:15.800940Z"
    }
   },
   "outputs": [
    {
     "name": "stdout",
     "output_type": "stream",
     "text": [
      "predicted response:\n",
      "[ 8.33333333 13.73333333 19.13333333 24.53333333 29.93333333 35.33333333]\n"
     ]
    }
   ],
   "source": [
    "# NOW THAT WE KNOW OUR MODEL IS WORKING; LET'S PREDICT A RESPONSE!\n",
    "y_pred = model.predict(x)\n",
    "print(f\"predicted response:\\n{y_pred}\")"
   ]
  },
  {
   "cell_type": "markdown",
   "id": "e558e748",
   "metadata": {},
   "source": [
    "HERE'S ANOTHER WAY TO PREDICT THE RESPONSE\n",
    "THIS IS WERE EACH ELEMENT OF X WERE MULTIPLIED BY WITH THE MODEL COEFFICIENT"
   ]
  },
  {
   "cell_type": "code",
   "execution_count": 19,
   "id": "c70b9fd2",
   "metadata": {
    "execution": {
     "iopub.execute_input": "2023-05-10T02:25:15.802434Z",
     "iopub.status.busy": "2023-05-10T02:25:15.802357Z",
     "iopub.status.idle": "2023-05-10T02:25:15.804208Z",
     "shell.execute_reply": "2023-05-10T02:25:15.803963Z"
    }
   },
   "outputs": [
    {
     "name": "stdout",
     "output_type": "stream",
     "text": [
      "predicted response:\n",
      "[[ 8.33333333]\n",
      " [13.73333333]\n",
      " [19.13333333]\n",
      " [24.53333333]\n",
      " [29.93333333]\n",
      " [35.33333333]]\n"
     ]
    }
   ],
   "source": [
    "y_pred = model.intercept_ + model.coef_ * x\n",
    "print(f\"predicted response:\\n{y_pred}\")"
   ]
  },
  {
   "cell_type": "markdown",
   "id": "01d84505",
   "metadata": {},
   "source": [
    "REGRESSION MODELS ARE TYPCIALLY USED FOR FORECASTS\n",
    "FITTED MODELS CAN BE USED TO CALCULATE THE OUTPUTS"
   ]
  },
  {
   "cell_type": "code",
   "execution_count": 20,
   "id": "9363319b",
   "metadata": {
    "execution": {
     "iopub.execute_input": "2023-05-10T02:25:15.805512Z",
     "iopub.status.busy": "2023-05-10T02:25:15.805435Z",
     "iopub.status.idle": "2023-05-10T02:25:15.807663Z",
     "shell.execute_reply": "2023-05-10T02:25:15.807431Z"
    }
   },
   "outputs": [
    {
     "data": {
      "text/plain": [
       "array([[0],\n",
       "       [1],\n",
       "       [2],\n",
       "       [3],\n",
       "       [4]])"
      ]
     },
     "execution_count": 20,
     "metadata": {},
     "output_type": "execute_result"
    }
   ],
   "source": [
    "x_new = np.arange(5). reshape((-1, 1))\n",
    "x_new"
   ]
  },
  {
   "cell_type": "code",
   "execution_count": 21,
   "id": "1298df9c",
   "metadata": {
    "execution": {
     "iopub.execute_input": "2023-05-10T02:25:15.808879Z",
     "iopub.status.busy": "2023-05-10T02:25:15.808804Z",
     "iopub.status.idle": "2023-05-10T02:25:15.811022Z",
     "shell.execute_reply": "2023-05-10T02:25:15.810801Z"
    }
   },
   "outputs": [
    {
     "data": {
      "text/plain": [
       "array([5.63333333, 6.17333333, 6.71333333, 7.25333333, 7.79333333])"
      ]
     },
     "execution_count": 21,
     "metadata": {},
     "output_type": "execute_result"
    }
   ],
   "source": [
    "# REGRESSION MODELS ARE TYPCIALLY USED FOR FORECASTS\n",
    "# FITTED MODELS CAN BE USED TO CALCULATE THE OUTPUTS\n",
    "y_new = model.predict(x_new)\n",
    "y_new"
   ]
  },
  {
   "cell_type": "markdown",
   "id": "3bf015d1",
   "metadata": {},
   "source": [
    "Obtain data using BigQuery"
   ]
  },
  {
   "cell_type": "code",
   "execution_count": 22,
   "id": "588012c3",
   "metadata": {
    "execution": {
     "iopub.execute_input": "2023-05-10T02:25:15.812372Z",
     "iopub.status.busy": "2023-05-10T02:25:15.812287Z",
     "iopub.status.idle": "2023-05-10T02:25:15.819171Z",
     "shell.execute_reply": "2023-05-10T02:25:15.818771Z"
    }
   },
   "outputs": [],
   "source": [
    "BIGQUERY_PROJECT = 'ironhacks-data'\n",
    "bigquery_client = bigquery.Client(project=BIGQUERY_PROJECT)"
   ]
  },
  {
   "cell_type": "code",
   "execution_count": 23,
   "id": "9d6031a0",
   "metadata": {
    "execution": {
     "iopub.execute_input": "2023-05-10T02:25:15.820772Z",
     "iopub.status.busy": "2023-05-10T02:25:15.820674Z",
     "iopub.status.idle": "2023-05-10T02:25:15.822743Z",
     "shell.execute_reply": "2023-05-10T02:25:15.822509Z"
    }
   },
   "outputs": [],
   "source": [
    "query = \"\"\"\n",
    "SELECT\n",
    "x.*,\n",
    "y.average_wage\n",
    "FROM\n",
    "(SELECT\n",
    "*\n",
    "FROM `ironhacks-data.ironhacks_competition.unemployment_data`) x\n",
    "JOIN `ironhacks-data.ironhacks_competition.wage_data` y\n",
    "ON x.uu_id = y.uu_id\n",
    "\"\"\""
   ]
  },
  {
   "cell_type": "code",
   "execution_count": 24,
   "id": "213df98c",
   "metadata": {
    "execution": {
     "iopub.execute_input": "2023-05-10T02:25:15.824078Z",
     "iopub.status.busy": "2023-05-10T02:25:15.823998Z",
     "iopub.status.idle": "2023-05-10T02:25:18.202636Z",
     "shell.execute_reply": "2023-05-10T02:25:18.201878Z"
    }
   },
   "outputs": [],
   "source": [
    "query_job = bigquery_client.query(query)\n",
    "data = query_job.to_dataframe()"
   ]
  },
  {
   "cell_type": "code",
   "execution_count": 25,
   "id": "94d3f645",
   "metadata": {
    "execution": {
     "iopub.execute_input": "2023-05-10T02:25:18.206620Z",
     "iopub.status.busy": "2023-05-10T02:25:18.206298Z",
     "iopub.status.idle": "2023-05-10T02:25:18.209501Z",
     "shell.execute_reply": "2023-05-10T02:25:18.208987Z"
    }
   },
   "outputs": [],
   "source": [
    "query_pred = \"\"\"\n",
    "SELECT * FROM `ironhacks-data.ironhacks_competition.prediction_list`\n",
    "\"\"\""
   ]
  },
  {
   "cell_type": "code",
   "execution_count": 26,
   "id": "92d61d87",
   "metadata": {
    "execution": {
     "iopub.execute_input": "2023-05-10T02:25:18.212241Z",
     "iopub.status.busy": "2023-05-10T02:25:18.212042Z",
     "iopub.status.idle": "2023-05-10T02:25:19.915445Z",
     "shell.execute_reply": "2023-05-10T02:25:19.913664Z"
    }
   },
   "outputs": [],
   "source": [
    "query_job_pred = bigquery_client.query(query_pred)\n",
    "data_pred_query= query_job_pred.to_dataframe()"
   ]
  },
  {
   "cell_type": "code",
   "execution_count": 27,
   "id": "f50fc8a3",
   "metadata": {
    "execution": {
     "iopub.execute_input": "2023-05-10T02:25:19.923568Z",
     "iopub.status.busy": "2023-05-10T02:25:19.923032Z",
     "iopub.status.idle": "2023-05-10T02:25:19.931705Z",
     "shell.execute_reply": "2023-05-10T02:25:19.930737Z"
    }
   },
   "outputs": [],
   "source": [
    "# START USING A MODEL - Same statement written differently\n",
    "model = LinearRegression().fit(x,y)"
   ]
  },
  {
   "cell_type": "code",
   "execution_count": 28,
   "id": "3abcd394",
   "metadata": {
    "execution": {
     "iopub.execute_input": "2023-05-10T02:25:19.936573Z",
     "iopub.status.busy": "2023-05-10T02:25:19.936206Z",
     "iopub.status.idle": "2023-05-10T02:25:19.942729Z",
     "shell.execute_reply": "2023-05-10T02:25:19.941382Z"
    }
   },
   "outputs": [
    {
     "name": "stdout",
     "output_type": "stream",
     "text": [
      "coefficient of determination: 0.715875613747954\n"
     ]
    }
   ],
   "source": [
    "# GET RESULTS - NOW THAT THE MODEL HAS BEEN FITTED; LET SEE IF IT WORKS!\n",
    "r_sq = model.score(x, y)\n",
    "print(f\"coefficient of determination: {r_sq}\")"
   ]
  },
  {
   "cell_type": "markdown",
   "id": "037cad40",
   "metadata": {},
   "source": [
    "THE RETURN VALUE SHOULD BE R2"
   ]
  },
  {
   "cell_type": "code",
   "execution_count": 29,
   "id": "c97f8566",
   "metadata": {
    "execution": {
     "iopub.execute_input": "2023-05-10T02:25:19.947628Z",
     "iopub.status.busy": "2023-05-10T02:25:19.947292Z",
     "iopub.status.idle": "2023-05-10T02:25:19.955645Z",
     "shell.execute_reply": "2023-05-10T02:25:19.955106Z"
    }
   },
   "outputs": [
    {
     "data": {
      "text/html": [
       "<style>#sk-container-id-1 {color: black;background-color: white;}#sk-container-id-1 pre{padding: 0;}#sk-container-id-1 div.sk-toggleable {background-color: white;}#sk-container-id-1 label.sk-toggleable__label {cursor: pointer;display: block;width: 100%;margin-bottom: 0;padding: 0.3em;box-sizing: border-box;text-align: center;}#sk-container-id-1 label.sk-toggleable__label-arrow:before {content: \"▸\";float: left;margin-right: 0.25em;color: #696969;}#sk-container-id-1 label.sk-toggleable__label-arrow:hover:before {color: black;}#sk-container-id-1 div.sk-estimator:hover label.sk-toggleable__label-arrow:before {color: black;}#sk-container-id-1 div.sk-toggleable__content {max-height: 0;max-width: 0;overflow: hidden;text-align: left;background-color: #f0f8ff;}#sk-container-id-1 div.sk-toggleable__content pre {margin: 0.2em;color: black;border-radius: 0.25em;background-color: #f0f8ff;}#sk-container-id-1 input.sk-toggleable__control:checked~div.sk-toggleable__content {max-height: 200px;max-width: 100%;overflow: auto;}#sk-container-id-1 input.sk-toggleable__control:checked~label.sk-toggleable__label-arrow:before {content: \"▾\";}#sk-container-id-1 div.sk-estimator input.sk-toggleable__control:checked~label.sk-toggleable__label {background-color: #d4ebff;}#sk-container-id-1 div.sk-label input.sk-toggleable__control:checked~label.sk-toggleable__label {background-color: #d4ebff;}#sk-container-id-1 input.sk-hidden--visually {border: 0;clip: rect(1px 1px 1px 1px);clip: rect(1px, 1px, 1px, 1px);height: 1px;margin: -1px;overflow: hidden;padding: 0;position: absolute;width: 1px;}#sk-container-id-1 div.sk-estimator {font-family: monospace;background-color: #f0f8ff;border: 1px dotted black;border-radius: 0.25em;box-sizing: border-box;margin-bottom: 0.5em;}#sk-container-id-1 div.sk-estimator:hover {background-color: #d4ebff;}#sk-container-id-1 div.sk-parallel-item::after {content: \"\";width: 100%;border-bottom: 1px solid gray;flex-grow: 1;}#sk-container-id-1 div.sk-label:hover label.sk-toggleable__label {background-color: #d4ebff;}#sk-container-id-1 div.sk-serial::before {content: \"\";position: absolute;border-left: 1px solid gray;box-sizing: border-box;top: 0;bottom: 0;left: 50%;z-index: 0;}#sk-container-id-1 div.sk-serial {display: flex;flex-direction: column;align-items: center;background-color: white;padding-right: 0.2em;padding-left: 0.2em;position: relative;}#sk-container-id-1 div.sk-item {position: relative;z-index: 1;}#sk-container-id-1 div.sk-parallel {display: flex;align-items: stretch;justify-content: center;background-color: white;position: relative;}#sk-container-id-1 div.sk-item::before, #sk-container-id-1 div.sk-parallel-item::before {content: \"\";position: absolute;border-left: 1px solid gray;box-sizing: border-box;top: 0;bottom: 0;left: 50%;z-index: -1;}#sk-container-id-1 div.sk-parallel-item {display: flex;flex-direction: column;z-index: 1;position: relative;background-color: white;}#sk-container-id-1 div.sk-parallel-item:first-child::after {align-self: flex-end;width: 50%;}#sk-container-id-1 div.sk-parallel-item:last-child::after {align-self: flex-start;width: 50%;}#sk-container-id-1 div.sk-parallel-item:only-child::after {width: 0;}#sk-container-id-1 div.sk-dashed-wrapped {border: 1px dashed gray;margin: 0 0.4em 0.5em 0.4em;box-sizing: border-box;padding-bottom: 0.4em;background-color: white;}#sk-container-id-1 div.sk-label label {font-family: monospace;font-weight: bold;display: inline-block;line-height: 1.2em;}#sk-container-id-1 div.sk-label-container {text-align: center;}#sk-container-id-1 div.sk-container {/* jupyter's `normalize.less` sets `[hidden] { display: none; }` but bootstrap.min.css set `[hidden] { display: none !important; }` so we also need the `!important` here to be able to override the default hidden behavior on the sphinx rendered scikit-learn.org. See: https://github.com/scikit-learn/scikit-learn/issues/21755 */display: inline-block !important;position: relative;}#sk-container-id-1 div.sk-text-repr-fallback {display: none;}</style><div id=\"sk-container-id-1\" class=\"sk-top-container\"><div class=\"sk-text-repr-fallback\"><pre>LinearRegression()</pre><b>In a Jupyter environment, please rerun this cell to show the HTML representation or trust the notebook. <br />On GitHub, the HTML representation is unable to render, please try loading this page with nbviewer.org.</b></div><div class=\"sk-container\" hidden><div class=\"sk-item\"><div class=\"sk-estimator sk-toggleable\"><input class=\"sk-toggleable__control sk-hidden--visually\" id=\"sk-estimator-id-1\" type=\"checkbox\" checked><label for=\"sk-estimator-id-1\" class=\"sk-toggleable__label sk-toggleable__label-arrow\">LinearRegression</label><div class=\"sk-toggleable__content\"><pre>LinearRegression()</pre></div></div></div></div></div>"
      ],
      "text/plain": [
       "LinearRegression()"
      ]
     },
     "execution_count": 29,
     "metadata": {},
     "output_type": "execute_result"
    }
   ],
   "source": [
    "# Linear Regression\n",
    "model.fit(x, y)\n",
    "LinearRegression()"
   ]
  },
  {
   "cell_type": "code",
   "execution_count": 30,
   "id": "11184f8b",
   "metadata": {
    "execution": {
     "iopub.execute_input": "2023-05-10T02:25:19.958541Z",
     "iopub.status.busy": "2023-05-10T02:25:19.958307Z",
     "iopub.status.idle": "2023-05-10T02:25:19.961996Z",
     "shell.execute_reply": "2023-05-10T02:25:19.961532Z"
    }
   },
   "outputs": [],
   "source": [
    "# Test Linear Regression\n",
    "model = LinearRegression().fit(x, y)"
   ]
  },
  {
   "cell_type": "code",
   "execution_count": 31,
   "id": "9ebcd3aa",
   "metadata": {
    "execution": {
     "iopub.execute_input": "2023-05-10T02:25:19.964555Z",
     "iopub.status.busy": "2023-05-10T02:25:19.964368Z",
     "iopub.status.idle": "2023-05-10T02:25:19.967812Z",
     "shell.execute_reply": "2023-05-10T02:25:19.967355Z"
    }
   },
   "outputs": [
    {
     "name": "stdout",
     "output_type": "stream",
     "text": [
      "coefficient of determination: 0.715875613747954\n"
     ]
    }
   ],
   "source": [
    "# Test Linear Regression\n",
    "r_sq = model.score(x, y)\n",
    "print(f\"coefficient of determination: {r_sq}\")"
   ]
  },
  {
   "cell_type": "code",
   "execution_count": 32,
   "id": "9f236bbe",
   "metadata": {
    "execution": {
     "iopub.execute_input": "2023-05-10T02:25:19.970142Z",
     "iopub.status.busy": "2023-05-10T02:25:19.969962Z",
     "iopub.status.idle": "2023-05-10T02:25:19.972566Z",
     "shell.execute_reply": "2023-05-10T02:25:19.972190Z"
    }
   },
   "outputs": [
    {
     "name": "stdout",
     "output_type": "stream",
     "text": [
      "predicted response:\n",
      "[[ 8.33333333]\n",
      " [13.73333333]\n",
      " [19.13333333]\n",
      " [24.53333333]\n",
      " [29.93333333]\n",
      " [35.33333333]]\n"
     ]
    }
   ],
   "source": [
    "# Test Linear Regression\n",
    "print(f\"predicted response:\\n{y_pred}\")"
   ]
  },
  {
   "cell_type": "code",
   "execution_count": 33,
   "id": "2f07e10f",
   "metadata": {
    "execution": {
     "iopub.execute_input": "2023-05-10T02:25:19.974769Z",
     "iopub.status.busy": "2023-05-10T02:25:19.974593Z",
     "iopub.status.idle": "2023-05-10T02:25:19.978001Z",
     "shell.execute_reply": "2023-05-10T02:25:19.977571Z"
    }
   },
   "outputs": [
    {
     "name": "stdout",
     "output_type": "stream",
     "text": [
      "intercept: [5.63333333]\n"
     ]
    }
   ],
   "source": [
    "# Test Linear Regression\n",
    "new_model = LinearRegression().fit(x, y.reshape((-1, 1)))\n",
    "print(f\"intercept: {new_model.intercept_}\")"
   ]
  },
  {
   "cell_type": "code",
   "execution_count": 34,
   "id": "a603c80c",
   "metadata": {
    "execution": {
     "iopub.execute_input": "2023-05-10T02:25:19.979882Z",
     "iopub.status.busy": "2023-05-10T02:25:19.979759Z",
     "iopub.status.idle": "2023-05-10T02:25:19.982343Z",
     "shell.execute_reply": "2023-05-10T02:25:19.981999Z"
    }
   },
   "outputs": [
    {
     "name": "stdout",
     "output_type": "stream",
     "text": [
      "slope: [[0.54]]\n"
     ]
    }
   ],
   "source": [
    "print(f\"slope: {new_model.coef_}\")"
   ]
  },
  {
   "cell_type": "code",
   "execution_count": 35,
   "id": "633dab92",
   "metadata": {
    "execution": {
     "iopub.execute_input": "2023-05-10T02:25:19.984139Z",
     "iopub.status.busy": "2023-05-10T02:25:19.984024Z",
     "iopub.status.idle": "2023-05-10T02:25:19.986934Z",
     "shell.execute_reply": "2023-05-10T02:25:19.986622Z"
    }
   },
   "outputs": [
    {
     "data": {
      "text/plain": [
       "array([[0],\n",
       "       [1],\n",
       "       [2],\n",
       "       [3],\n",
       "       [4]])"
      ]
     },
     "execution_count": 35,
     "metadata": {},
     "output_type": "execute_result"
    }
   ],
   "source": [
    "# Test Linear Regression\n",
    "x_new = np.arange(5).reshape((-1, 1))\n",
    "x_new"
   ]
  },
  {
   "cell_type": "code",
   "execution_count": 36,
   "id": "ed0f90c9",
   "metadata": {
    "execution": {
     "iopub.execute_input": "2023-05-10T02:25:19.988608Z",
     "iopub.status.busy": "2023-05-10T02:25:19.988472Z",
     "iopub.status.idle": "2023-05-10T02:25:19.990987Z",
     "shell.execute_reply": "2023-05-10T02:25:19.990678Z"
    }
   },
   "outputs": [
    {
     "data": {
      "text/plain": [
       "array([[ 5],\n",
       "       [15],\n",
       "       [25],\n",
       "       [35],\n",
       "       [45],\n",
       "       [55]])"
      ]
     },
     "execution_count": 36,
     "metadata": {},
     "output_type": "execute_result"
    }
   ],
   "source": [
    "# Test Linear Regression\n",
    "x"
   ]
  },
  {
   "cell_type": "code",
   "execution_count": 37,
   "id": "d2a243e2",
   "metadata": {
    "execution": {
     "iopub.execute_input": "2023-05-10T02:25:19.992666Z",
     "iopub.status.busy": "2023-05-10T02:25:19.992525Z",
     "iopub.status.idle": "2023-05-10T02:25:19.994941Z",
     "shell.execute_reply": "2023-05-10T02:25:19.994664Z"
    }
   },
   "outputs": [
    {
     "data": {
      "text/plain": [
       "array([ 5, 20, 14, 32, 22, 38])"
      ]
     },
     "execution_count": 37,
     "metadata": {},
     "output_type": "execute_result"
    }
   ],
   "source": [
    "# Test Linear Regression\n",
    "y"
   ]
  },
  {
   "cell_type": "code",
   "execution_count": 38,
   "id": "819f0f82",
   "metadata": {
    "execution": {
     "iopub.execute_input": "2023-05-10T02:25:19.996459Z",
     "iopub.status.busy": "2023-05-10T02:25:19.996342Z",
     "iopub.status.idle": "2023-05-10T02:25:19.998547Z",
     "shell.execute_reply": "2023-05-10T02:25:19.998275Z"
    }
   },
   "outputs": [],
   "source": [
    "# Test Linear Regression\n",
    "model = LinearRegression().fit(x, y)"
   ]
  },
  {
   "cell_type": "code",
   "execution_count": 39,
   "id": "a47d67a0",
   "metadata": {
    "execution": {
     "iopub.execute_input": "2023-05-10T02:25:20.000047Z",
     "iopub.status.busy": "2023-05-10T02:25:19.999935Z",
     "iopub.status.idle": "2023-05-10T02:25:20.002008Z",
     "shell.execute_reply": "2023-05-10T02:25:20.001735Z"
    }
   },
   "outputs": [],
   "source": [
    "# Test Linear Regression\n",
    "model = sm.OLS(y, x)"
   ]
  },
  {
   "cell_type": "code",
   "execution_count": 40,
   "id": "47f4f83e",
   "metadata": {
    "execution": {
     "iopub.execute_input": "2023-05-10T02:25:20.003502Z",
     "iopub.status.busy": "2023-05-10T02:25:20.003386Z",
     "iopub.status.idle": "2023-05-10T02:25:20.005309Z",
     "shell.execute_reply": "2023-05-10T02:25:20.005054Z"
    }
   },
   "outputs": [],
   "source": [
    "# Test Linear Regression\n",
    "results = model.fit()"
   ]
  },
  {
   "cell_type": "markdown",
   "id": "4eaf4e18",
   "metadata": {},
   "source": [
    "install conda install module_name"
   ]
  },
  {
   "cell_type": "code",
   "execution_count": 41,
   "id": "e1a78332",
   "metadata": {
    "execution": {
     "iopub.execute_input": "2023-05-10T02:25:20.006755Z",
     "iopub.status.busy": "2023-05-10T02:25:20.006647Z",
     "iopub.status.idle": "2023-05-10T02:25:20.013844Z",
     "shell.execute_reply": "2023-05-10T02:25:20.013582Z"
    }
   },
   "outputs": [
    {
     "name": "stdout",
     "output_type": "stream",
     "text": [
      "                                 OLS Regression Results                                \n",
      "=======================================================================================\n",
      "Dep. Variable:                      y   R-squared (uncentered):                   0.930\n",
      "Model:                            OLS   Adj. R-squared (uncentered):              0.916\n",
      "Method:                 Least Squares   F-statistic:                              66.71\n",
      "Date:                Tue, 09 May 2023   Prob (F-statistic):                    0.000447\n",
      "Time:                        22:25:20   Log-Likelihood:                         -19.692\n",
      "No. Observations:                   6   AIC:                                      41.38\n",
      "Df Residuals:                       5   BIC:                                      41.18\n",
      "Df Model:                           1                                                  \n",
      "Covariance Type:            nonrobust                                                  \n",
      "==============================================================================\n",
      "                 coef    std err          t      P>|t|      [0.025      0.975]\n",
      "------------------------------------------------------------------------------\n",
      "x1             0.6818      0.083      8.167      0.000       0.467       0.896\n",
      "==============================================================================\n",
      "Omnibus:                          nan   Durbin-Watson:                   2.904\n",
      "Prob(Omnibus):                    nan   Jarque-Bera (JB):                0.334\n",
      "Skew:                          -0.137   Prob(JB):                        0.846\n",
      "Kurtosis:                       1.877   Cond. No.                         1.00\n",
      "==============================================================================\n",
      "\n",
      "Notes:\n",
      "[1] R² is computed without centering (uncentered) since the model does not contain a constant.\n",
      "[2] Standard Errors assume that the covariance matrix of the errors is correctly specified.\n"
     ]
    },
    {
     "name": "stderr",
     "output_type": "stream",
     "text": [
      "/opt/homebrew/lib/python3.9/site-packages/statsmodels/stats/stattools.py:74: ValueWarning: omni_normtest is not valid with less than 8 observations; 6 samples were given.\n",
      "  warn(\"omni_normtest is not valid with less than 8 observations; %i \"\n"
     ]
    }
   ],
   "source": [
    "# Test Linear Regression\n",
    "print(results.summary())"
   ]
  },
  {
   "cell_type": "code",
   "execution_count": 42,
   "id": "301f4525",
   "metadata": {
    "execution": {
     "iopub.execute_input": "2023-05-10T02:25:20.015272Z",
     "iopub.status.busy": "2023-05-10T02:25:20.015154Z",
     "iopub.status.idle": "2023-05-10T02:25:20.017138Z",
     "shell.execute_reply": "2023-05-10T02:25:20.016893Z"
    }
   },
   "outputs": [],
   "source": [
    "from statsmodels.compat import lzip\n",
    "import numpy as np\n",
    "import matplotlib.pyplot as plt\n",
    "import statsmodels.api as sm\n",
    "from statsmodels.formula.api import ols"
   ]
  },
  {
   "cell_type": "code",
   "execution_count": 43,
   "id": "0c8c7e17",
   "metadata": {
    "execution": {
     "iopub.execute_input": "2023-05-10T02:25:20.018579Z",
     "iopub.status.busy": "2023-05-10T02:25:20.018487Z",
     "iopub.status.idle": "2023-05-10T02:25:20.020379Z",
     "shell.execute_reply": "2023-05-10T02:25:20.020126Z"
    }
   },
   "outputs": [],
   "source": [
    "plt.rc(\"figure\", figsize=(16, 8))\n",
    "plt.rc(\"font\", size=14)"
   ]
  },
  {
   "cell_type": "code",
   "execution_count": 44,
   "id": "ec8e9247",
   "metadata": {
    "execution": {
     "iopub.execute_input": "2023-05-10T02:25:20.021733Z",
     "iopub.status.busy": "2023-05-10T02:25:20.021653Z",
     "iopub.status.idle": "2023-05-10T02:25:20.094127Z",
     "shell.execute_reply": "2023-05-10T02:25:20.093877Z"
    }
   },
   "outputs": [
    {
     "ename": "NameError",
     "evalue": "name 'prestige_model' is not defined",
     "output_type": "error",
     "traceback": [
      "\u001b[0;31m---------------------------------------------------------------------------\u001b[0m",
      "\u001b[0;31mNameError\u001b[0m                                 Traceback (most recent call last)",
      "Cell \u001b[0;32mIn [44], line 1\u001b[0m\n\u001b[0;32m----> 1\u001b[0m \u001b[38;5;28mprint\u001b[39m(\u001b[43mprestige_model\u001b[49m\u001b[38;5;241m.\u001b[39msummary())\n",
      "\u001b[0;31mNameError\u001b[0m: name 'prestige_model' is not defined"
     ]
    }
   ],
   "source": [
    "print(prestige_model.summary())"
   ]
  },
  {
   "cell_type": "markdown",
   "id": "5b1b4d6e",
   "metadata": {},
   "source": [
    "https://www.statsmodels.org/dev/examples/notebooks/generated/regression_plots.html"
   ]
  },
  {
   "cell_type": "markdown",
   "id": "7ee790e8",
   "metadata": {},
   "source": [
    "dta = pd.read_csv(\"http://www.stat.ufl.edu/~aa/social/csv_files/statewide-crime-2.csv\")\n",
    "dta = dta.set_index(\"State\", inplace=True).dropna()\n",
    "dta.rename(columns={\"VR\" : \"crime\",\n",
    "                   \"MR\" : \"murder\",\n",
    "                   \"M\"  : \"pctmetro\",\n",
    "                   \"W\"  : \"pctwhite\",\n",
    "                   \"H\"  : \"pcths\",\n",
    "                   \"P\"  : \"poverty\",\n",
    "                   \"S\"  : \"single\"\n",
    "                   }, inplace=True)\n",
    "\n",
    "crime_model = ols(\"murder ~ pctmetro + poverty + pcths + single\", data=dta).fit()"
   ]
  },
  {
   "cell_type": "markdown",
   "id": "ca10244e",
   "metadata": {},
   "source": [
    "https://www.statsmodels.org/dev/examples/notebooks/generated/regression_plots.html"
   ]
  },
  {
   "cell_type": "markdown",
   "id": "088068ea",
   "metadata": {},
   "source": [
    "dta = pd.read_csv(\"http://www.stat.ufl.edu/~aa/social/csv_files/statewide-crime-2.csv\")\n",
    "dta = dta.set_index(\"State\", inplace=True).dropna()\n",
    "dta.rename(columns={\"VR\" : \"crime\",\n",
    "                   \"MR\" : \"murder\",\n",
    "                   \"M\"  : \"pctmetro\",\n",
    "                   \"W\"  : \"pctwhite\",\n",
    "                   \"H\"  : \"pcths\",\n",
    "                   \"P\"  : \"poverty\",\n",
    "                   \"S\"  : \"single\"\n",
    "                   }, inplace=True)\n",
    "\n",
    "crime_model = ols(\"murder ~ pctmetro + poverty + pcths + single\", data=dta).fit()"
   ]
  },
  {
   "cell_type": "code",
   "execution_count": 45,
   "id": "5430524d",
   "metadata": {
    "execution": {
     "iopub.execute_input": "2023-05-10T02:25:20.095558Z",
     "iopub.status.busy": "2023-05-10T02:25:20.095475Z",
     "iopub.status.idle": "2023-05-10T02:25:20.099873Z",
     "shell.execute_reply": "2023-05-10T02:25:20.099636Z"
    }
   },
   "outputs": [],
   "source": [
    "dta = sm.datasets.statecrime.load_pandas().data"
   ]
  },
  {
   "cell_type": "code",
   "execution_count": 46,
   "id": "f416b7a6",
   "metadata": {
    "execution": {
     "iopub.execute_input": "2023-05-10T02:25:20.101209Z",
     "iopub.status.busy": "2023-05-10T02:25:20.101134Z",
     "iopub.status.idle": "2023-05-10T02:25:20.103091Z",
     "shell.execute_reply": "2023-05-10T02:25:20.102840Z"
    }
   },
   "outputs": [],
   "source": [
    "# https://www.statsmodels.org/dev/examples/notebooks/generated/plots_boxplots.html\n",
    "get_ipython().run_line_magic('matplotlib', 'inline')"
   ]
  },
  {
   "cell_type": "code",
   "execution_count": 47,
   "id": "e24d9f6e",
   "metadata": {
    "execution": {
     "iopub.execute_input": "2023-05-10T02:25:20.104394Z",
     "iopub.status.busy": "2023-05-10T02:25:20.104313Z",
     "iopub.status.idle": "2023-05-10T02:25:20.105959Z",
     "shell.execute_reply": "2023-05-10T02:25:20.105726Z"
    }
   },
   "outputs": [],
   "source": [
    "import numpy as np\n",
    "import matplotlib.pyplot as plt\n",
    "import statsmodels.api as sm"
   ]
  },
  {
   "cell_type": "markdown",
   "id": "9eddd3fc",
   "metadata": {},
   "source": [
    "STAT Models\n",
    "https://www.statsmodels.org/dev/examples/notebooks/generated/plots_boxplots.html"
   ]
  },
  {
   "cell_type": "code",
   "execution_count": 48,
   "id": "67a0355f",
   "metadata": {
    "execution": {
     "iopub.execute_input": "2023-05-10T02:25:20.107253Z",
     "iopub.status.busy": "2023-05-10T02:25:20.107179Z",
     "iopub.status.idle": "2023-05-10T02:25:20.114197Z",
     "shell.execute_reply": "2023-05-10T02:25:20.113948Z"
    }
   },
   "outputs": [],
   "source": [
    "data = sm.datasets.anes96.load_pandas()\n",
    "party_ID = np.arange(7)\n",
    "labels = [\n",
    "    \"Strong Democrat\",\n",
    "    \"Weak Democrat\",\n",
    "    \"Independent-Democrat\",\n",
    "    \"Independent-Independent\",\n",
    "    \"Independent-Republican\",\n",
    "    \"Weak Republican\",\n",
    "    \"Strong Republican\",\n",
    "]"
   ]
  },
  {
   "cell_type": "markdown",
   "id": "56363498",
   "metadata": {},
   "source": [
    "STAT Models\n",
    "https://www.statsmodels.org/dev/examples/notebooks/generated/plots_boxplots.html"
   ]
  },
  {
   "cell_type": "code",
   "execution_count": 49,
   "id": "14e03ff5",
   "metadata": {
    "execution": {
     "iopub.execute_input": "2023-05-10T02:25:20.115589Z",
     "iopub.status.busy": "2023-05-10T02:25:20.115492Z",
     "iopub.status.idle": "2023-05-10T02:25:20.121733Z",
     "shell.execute_reply": "2023-05-10T02:25:20.121495Z"
    }
   },
   "outputs": [],
   "source": [
    "data = sm.datasets.anes96.load_pandas()\n",
    "party_ID = np.arange(7)\n",
    "labels = [\n",
    "    \"Strong Democrat\",\n",
    "    \"Weak Democrat\",\n",
    "    \"Independent-Democrat\",\n",
    "    \"Independent-Independent\",\n",
    "    \"Independent-Republican\",\n",
    "    \"Weak Republican\",\n",
    "    \"Strong Republican\",\n",
    "]"
   ]
  },
  {
   "cell_type": "code",
   "execution_count": 50,
   "id": "3921cc93",
   "metadata": {
    "execution": {
     "iopub.execute_input": "2023-05-10T02:25:20.123093Z",
     "iopub.status.busy": "2023-05-10T02:25:20.123009Z",
     "iopub.status.idle": "2023-05-10T02:25:20.128038Z",
     "shell.execute_reply": "2023-05-10T02:25:20.127782Z"
    }
   },
   "outputs": [],
   "source": [
    "get_ipython().run_cell_magic('capture', '', \"%logstop\\n%logstart -t -r -q ipython_command_log.py global\\n\\n#- IRONHACKS RESEARCH TRACKING CODE\\n#----------------------------------\\n# The following code is used to help our research team understand how you \\n# our notebook environment. We do not collect any personal information with\\n# the following code, it is used to measure when and how often you work on\\n# your submission files.\\n\\nimport os\\nfrom datetime import datetime\\nimport IPython.core.history as history\\n\\nha = history.HistoryAccessor()\\nha_tail = ha.get_tail(1)\\nha_cmd = next(ha_tail)\\nsession_id = str(ha_cmd[0])\\ncommand_id = str(ha_cmd[1])\\ntimestamp = datetime.utcnow().isoformat()\\nhistory_line = ','.join([session_id, command_id, timestamp]) + '\\\\n'\\nlogfile = open(os.environ['HOME']+'/ipython_session_log.csv', 'a')\\nlogfile.write(history_line)\\nlogfile.close()\\n\")"
   ]
  },
  {
   "cell_type": "markdown",
   "id": "85ea436c",
   "metadata": {},
   "source": [
    "SUBMISSION 11 Milestone\n",
    "The task was to predict the total_claims for week 42\n",
    "For each week there is a distinct list of uu_ids with unique uu_id in the table called prediction_list\n",
    "Predict a value for each of those uu_ids\n",
    "The list is changing over time (given the streaming nature of the data)"
   ]
  },
  {
   "cell_type": "code",
   "execution_count": 51,
   "id": "7247edec",
   "metadata": {
    "execution": {
     "iopub.execute_input": "2023-05-10T02:25:20.129334Z",
     "iopub.status.busy": "2023-05-10T02:25:20.129239Z",
     "iopub.status.idle": "2023-05-10T02:25:22.180956Z",
     "shell.execute_reply": "2023-05-10T02:25:22.180502Z"
    }
   },
   "outputs": [],
   "source": [
    "get_ipython().run_cell_magic('capture', '', \"\\n# INSTALL ADDITIONAL LIBRARIES IF REQUIRED\\n# ------------------------------------------\\n# This is normally not required. The hub environment comes preinstaled with \\n# many packages that you can already use without setup. In case there is some\\n# other library you would like to use that isn't on the list you run this command\\n# once to install them.  If it is already installed this command has no effect.\\n\\n!python3 -m pip install pandas\\n!python3 -m pip install [ensorflow]\\n!python3 -m pip install [Keras]\\n!python3 -m pip install [Pytorch]\\n\")"
   ]
  },
  {
   "cell_type": "markdown",
   "id": "502a7ee5",
   "metadata": {},
   "source": [
    "INSTALL PACKAGES"
   ]
  },
  {
   "cell_type": "code",
   "execution_count": 52,
   "id": "4568fb0b",
   "metadata": {
    "execution": {
     "iopub.execute_input": "2023-05-10T02:25:22.182957Z",
     "iopub.status.busy": "2023-05-10T02:25:22.182822Z",
     "iopub.status.idle": "2023-05-10T02:25:24.843381Z",
     "shell.execute_reply": "2023-05-10T02:25:24.842941Z"
    }
   },
   "outputs": [
    {
     "name": "stdout",
     "output_type": "stream",
     "text": [
      "\u001b[33mWARNING: Ignoring invalid distribution -umpy (/opt/anaconda3/lib/python3.9/site-packages)\u001b[0m\r\n",
      "\u001b[33mWARNING: Ignoring invalid distribution -umpy (/opt/anaconda3/lib/python3.9/site-packages)\u001b[0m\r\n",
      "Requirement already satisfied: db-dtypes in /opt/anaconda3/lib/python3.9/site-packages (1.0.5)\r\n",
      "Requirement already satisfied: numpy<2.0dev,>=1.16.6 in /opt/anaconda3/lib/python3.9/site-packages (from db-dtypes) (1.22.4)\r\n",
      "Requirement already satisfied: pandas<2.0dev,>=0.24.2 in /opt/anaconda3/lib/python3.9/site-packages (from db-dtypes) (1.5.3)\r\n",
      "Requirement already satisfied: packaging>=17.0 in /opt/anaconda3/lib/python3.9/site-packages (from db-dtypes) (21.3)\r\n",
      "Requirement already satisfied: pyarrow>=3.0.0 in /opt/anaconda3/lib/python3.9/site-packages (from db-dtypes) (10.0.1)\r\n",
      "Requirement already satisfied: pyparsing!=3.0.5,>=2.0.2 in /opt/anaconda3/lib/python3.9/site-packages (from packaging>=17.0->db-dtypes) (3.0.4)\r\n",
      "Requirement already satisfied: pytz>=2020.1 in /opt/anaconda3/lib/python3.9/site-packages (from pandas<2.0dev,>=0.24.2->db-dtypes) (2021.3)\r\n",
      "Requirement already satisfied: python-dateutil>=2.8.1 in /opt/anaconda3/lib/python3.9/site-packages (from pandas<2.0dev,>=0.24.2->db-dtypes) (2.8.2)\r\n",
      "Requirement already satisfied: six>=1.5 in /opt/anaconda3/lib/python3.9/site-packages (from python-dateutil>=2.8.1->pandas<2.0dev,>=0.24.2->db-dtypes) (1.16.0)\r\n",
      "\u001b[33mWARNING: Ignoring invalid distribution -umpy (/opt/anaconda3/lib/python3.9/site-packages)\u001b[0m\r\n"
     ]
    },
    {
     "name": "stdout",
     "output_type": "stream",
     "text": [
      "\u001b[33mWARNING: Ignoring invalid distribution -umpy (/opt/anaconda3/lib/python3.9/site-packages)\u001b[0m\r\n",
      "\u001b[33mWARNING: Ignoring invalid distribution -umpy (/opt/anaconda3/lib/python3.9/site-packages)\u001b[0m\r\n",
      "\u001b[33mWARNING: Ignoring invalid distribution -umpy (/opt/anaconda3/lib/python3.9/site-packages)\u001b[0m\r\n"
     ]
    }
   ],
   "source": [
    "get_ipython().system('pip install db-dtypes')"
   ]
  },
  {
   "cell_type": "markdown",
   "id": "0cc909dc",
   "metadata": {},
   "source": [
    "IMPORT THE LIBRARIES YOU WILL USE\n",
    "------------------------------------------\n",
    "You only need to import packages one time per notebook session. To keep your\n",
    "notebook clean and organized you can handle all imports at the top of your file.\n",
    "The following are included for example purposed, feel free to modify or delete \n",
    "anything in this section."
   ]
  },
  {
   "cell_type": "code",
   "execution_count": 53,
   "id": "98547ecb",
   "metadata": {
    "execution": {
     "iopub.execute_input": "2023-05-10T02:25:24.845463Z",
     "iopub.status.busy": "2023-05-10T02:25:24.845304Z",
     "iopub.status.idle": "2023-05-10T02:25:24.847902Z",
     "shell.execute_reply": "2023-05-10T02:25:24.847570Z"
    }
   },
   "outputs": [],
   "source": [
    "import csv\n",
    "import pandas as pd\n",
    "import numpy as np\n",
    "from google.cloud import bigquery\n",
    "from google.oauth2 import service_account\n",
    "from google.cloud.bigquery import magics\n",
    "import statsmodels.api as sm\n",
    "import math"
   ]
  },
  {
   "cell_type": "markdown",
   "id": "85f93c8c",
   "metadata": {},
   "source": [
    "IMPORT THE DATASET"
   ]
  },
  {
   "cell_type": "code",
   "execution_count": 54,
   "id": "56b7ca28",
   "metadata": {
    "execution": {
     "iopub.execute_input": "2023-05-10T02:25:24.851447Z",
     "iopub.status.busy": "2023-05-10T02:25:24.850633Z",
     "iopub.status.idle": "2023-05-10T02:25:24.857264Z",
     "shell.execute_reply": "2023-05-10T02:25:24.856433Z"
    }
   },
   "outputs": [],
   "source": [
    "import pandas as pd\n",
    "import numpy as np\n",
    "import matplotlib.pyplot as plt\n",
    "import seaborn as sns\n",
    "get_ipython().run_line_magic('matplotlib', 'inline')"
   ]
  },
  {
   "cell_type": "code",
   "execution_count": 55,
   "id": "f00838c1",
   "metadata": {
    "execution": {
     "iopub.execute_input": "2023-05-10T02:25:24.860708Z",
     "iopub.status.busy": "2023-05-10T02:25:24.860562Z",
     "iopub.status.idle": "2023-05-10T02:25:24.862731Z",
     "shell.execute_reply": "2023-05-10T02:25:24.862465Z"
    }
   },
   "outputs": [],
   "source": [
    "import os\n",
    "from google.cloud import bigquery\n",
    "from google.oauth2 import service_account\n",
    "from google.cloud.bigquery import magics"
   ]
  },
  {
   "cell_type": "markdown",
   "id": "3250dd15",
   "metadata": {},
   "source": [
    "IMPORT IRONHACKS DATA"
   ]
  },
  {
   "cell_type": "code",
   "execution_count": 56,
   "id": "a8743ad8",
   "metadata": {
    "execution": {
     "iopub.execute_input": "2023-05-10T02:25:24.864271Z",
     "iopub.status.busy": "2023-05-10T02:25:24.864155Z",
     "iopub.status.idle": "2023-05-10T02:25:24.865859Z",
     "shell.execute_reply": "2023-05-10T02:25:24.865613Z"
    }
   },
   "outputs": [],
   "source": [
    "import os\n",
    "BIGQUERY_PROJECT = 'ironhacks-data'"
   ]
  },
  {
   "cell_type": "code",
   "execution_count": 57,
   "id": "9fc26044",
   "metadata": {
    "execution": {
     "iopub.execute_input": "2023-05-10T02:25:24.867769Z",
     "iopub.status.busy": "2023-05-10T02:25:24.867532Z",
     "iopub.status.idle": "2023-05-10T02:25:24.878720Z",
     "shell.execute_reply": "2023-05-10T02:25:24.878431Z"
    }
   },
   "outputs": [
    {
     "data": {
      "text/plain": [
       "<google.cloud.bigquery.client.Client at 0x1775c1820>"
      ]
     },
     "execution_count": 57,
     "metadata": {},
     "output_type": "execute_result"
    }
   ],
   "source": [
    "bigquery.Client(project=BIGQUERY_PROJECT)"
   ]
  },
  {
   "cell_type": "markdown",
   "id": "c1482f92",
   "metadata": {},
   "source": [
    "IMPORT THE LINEAR REGRESSION MODEL"
   ]
  },
  {
   "cell_type": "code",
   "execution_count": 58,
   "id": "35849a2f",
   "metadata": {
    "execution": {
     "iopub.execute_input": "2023-05-10T02:25:24.880439Z",
     "iopub.status.busy": "2023-05-10T02:25:24.880310Z",
     "iopub.status.idle": "2023-05-10T02:25:24.882849Z",
     "shell.execute_reply": "2023-05-10T02:25:24.882579Z"
    }
   },
   "outputs": [],
   "source": [
    "import csv\n",
    "import pandas as pd\n",
    "import numpy as np\n",
    "from google.cloud import bigquery\n",
    "from google.oauth2 import service_account\n",
    "from google.cloud.bigquery import magics\n",
    "from sklearn.model_selection import train_test_split \n",
    "from sklearn.linear_model import LinearRegression\n",
    "from sklearn import metrics\n",
    "import matplotlib.pyplot as plt  "
   ]
  },
  {
   "cell_type": "markdown",
   "id": "6eaeeee2",
   "metadata": {},
   "source": [
    "IMPORT PACKAGE THE LINEAR REGRESSION MODEL- SCIKIT-LEARN \n",
    "SOURCE: https://realpython.com/linear-regression-in-python/#simple-linear-regression-with-scikit-learn\n",
    "NUMPY IS A FUNDAMENTAL PUYTHON SCIENTIFIC PACKAGE THAT ALLOWS MANY HIGH PEROFORMATION OPERATION SON A SINGLE AND MULTI DIMENSIONAL ARRAYS.\n",
    "SOURCE: https://realpython.com/linear-regression-in-python/#python-packages-for-linear-regression"
   ]
  },
  {
   "cell_type": "code",
   "execution_count": 59,
   "id": "72a22812",
   "metadata": {
    "execution": {
     "iopub.execute_input": "2023-05-10T02:25:24.884350Z",
     "iopub.status.busy": "2023-05-10T02:25:24.884243Z",
     "iopub.status.idle": "2023-05-10T02:25:24.886022Z",
     "shell.execute_reply": "2023-05-10T02:25:24.885784Z"
    }
   },
   "outputs": [],
   "source": [
    "import numpy as np\n",
    "from sklearn.linear_model import LinearRegression"
   ]
  },
  {
   "cell_type": "code",
   "execution_count": 60,
   "id": "8dd40e19",
   "metadata": {
    "execution": {
     "iopub.execute_input": "2023-05-10T02:25:24.887397Z",
     "iopub.status.busy": "2023-05-10T02:25:24.887293Z",
     "iopub.status.idle": "2023-05-10T02:25:24.889306Z",
     "shell.execute_reply": "2023-05-10T02:25:24.889060Z"
    },
    "lines_to_next_cell": 1
   },
   "outputs": [],
   "source": [
    "# DEFINING THE DATA; INPUTS (REGRESSOR.X) AND OUTPUTS (RESPONSE.Y)\n",
    "x = np.array([5, 15, 25, 35, 45, 55]).reshape((-1, 1))\n",
    "y = np.array([5, 20, 14, 32, 22, 38])"
   ]
  },
  {
   "cell_type": "markdown",
   "id": "006ee90d",
   "metadata": {},
   "source": [
    "DEFINE YOUR CLASSES AND FUNCTIONS \n",
    "-----------------------------------\n",
    "This is not required, but is helpful in keeping your notebook organized. \n",
    "You can use the following cell or several cells to define your functions\n",
    "and classes to keep them separate from your analysis or results code.\n",
    "In general it useful to define your methods in a separate cell from where\n",
    "it is run."
   ]
  },
  {
   "cell_type": "code",
   "execution_count": 61,
   "id": "d6451bf3",
   "metadata": {
    "execution": {
     "iopub.execute_input": "2023-05-10T02:25:24.890770Z",
     "iopub.status.busy": "2023-05-10T02:25:24.890662Z",
     "iopub.status.idle": "2023-05-10T02:25:24.892357Z",
     "shell.execute_reply": "2023-05-10T02:25:24.892119Z"
    },
    "lines_to_next_cell": 1
   },
   "outputs": [],
   "source": [
    "def example_function():\n",
    "    print('Hello World')"
   ]
  },
  {
   "cell_type": "code",
   "execution_count": 62,
   "id": "87e47870",
   "metadata": {
    "execution": {
     "iopub.execute_input": "2023-05-10T02:25:24.893670Z",
     "iopub.status.busy": "2023-05-10T02:25:24.893590Z",
     "iopub.status.idle": "2023-05-10T02:25:24.895262Z",
     "shell.execute_reply": "2023-05-10T02:25:24.895000Z"
    }
   },
   "outputs": [],
   "source": [
    "# CREATE A LINEAR REGRESSION MODEL\n",
    "model = LinearRegression()"
   ]
  },
  {
   "cell_type": "markdown",
   "id": "8dfdaa8a",
   "metadata": {},
   "source": [
    "START USING A MODEL - .fit() fits the model\n",
    "SOURCE: REAL PYTHON - https://realpython.com/linear-regression-in-python/#simple-linear-regression-with-scikit-learn"
   ]
  },
  {
   "cell_type": "code",
   "execution_count": 63,
   "id": "05835539",
   "metadata": {
    "execution": {
     "iopub.execute_input": "2023-05-10T02:25:24.896718Z",
     "iopub.status.busy": "2023-05-10T02:25:24.896635Z",
     "iopub.status.idle": "2023-05-10T02:25:24.899715Z",
     "shell.execute_reply": "2023-05-10T02:25:24.899474Z"
    }
   },
   "outputs": [
    {
     "data": {
      "text/plain": [
       "sklearn.linear_model._base.LinearRegression"
      ]
     },
     "execution_count": 63,
     "metadata": {},
     "output_type": "execute_result"
    }
   ],
   "source": [
    "model.fit(x,y)\n",
    "LinearRegression"
   ]
  },
  {
   "cell_type": "code",
   "execution_count": 64,
   "id": "e6e3dd61",
   "metadata": {
    "execution": {
     "iopub.execute_input": "2023-05-10T02:25:24.901156Z",
     "iopub.status.busy": "2023-05-10T02:25:24.901044Z",
     "iopub.status.idle": "2023-05-10T02:25:24.903219Z",
     "shell.execute_reply": "2023-05-10T02:25:24.902973Z"
    }
   },
   "outputs": [
    {
     "name": "stdout",
     "output_type": "stream",
     "text": [
      "coefficient of determination: 0.715875613747954\n"
     ]
    }
   ],
   "source": [
    "# GET RESULTS - NOW THAT THE MODEL HAS BEEN FITTED; LET SEE IF IT WORKS!\n",
    "r_sq = model.score(x, y)\n",
    "print(f\"coefficient of determination: {r_sq}\")"
   ]
  },
  {
   "cell_type": "markdown",
   "id": "0ef14c8b",
   "metadata": {},
   "source": [
    "THE RETURN VALUE SHOULD BE R2"
   ]
  },
  {
   "cell_type": "markdown",
   "id": "4ee39b9a",
   "metadata": {},
   "source": [
    "DETERMIINE HOW TO GET b0 and b1 (scikit-learn)\n",
    "intercept and coefficient are estimated values"
   ]
  },
  {
   "cell_type": "code",
   "execution_count": 65,
   "id": "0b79649c",
   "metadata": {
    "execution": {
     "iopub.execute_input": "2023-05-10T02:25:24.904606Z",
     "iopub.status.busy": "2023-05-10T02:25:24.904502Z",
     "iopub.status.idle": "2023-05-10T02:25:24.907054Z",
     "shell.execute_reply": "2023-05-10T02:25:24.906600Z"
    }
   },
   "outputs": [
    {
     "name": "stdout",
     "output_type": "stream",
     "text": [
      "intercept: [5.63333333]\n"
     ]
    }
   ],
   "source": [
    "new_model = LinearRegression().fit(x,y.reshape((-1,1)))\n",
    "print(f\"intercept: {new_model.intercept_}\")"
   ]
  },
  {
   "cell_type": "code",
   "execution_count": 66,
   "id": "a1032dab",
   "metadata": {
    "execution": {
     "iopub.execute_input": "2023-05-10T02:25:24.908548Z",
     "iopub.status.busy": "2023-05-10T02:25:24.908438Z",
     "iopub.status.idle": "2023-05-10T02:25:24.910412Z",
     "shell.execute_reply": "2023-05-10T02:25:24.910132Z"
    }
   },
   "outputs": [
    {
     "name": "stdout",
     "output_type": "stream",
     "text": [
      "slope: [[0.54]]\n"
     ]
    }
   ],
   "source": [
    "# DETERMIINE HOW TO GET b0 and b1 (scikit-learn)\n",
    "# intercept and coefficient are estimated values\n",
    "print(f\"slope: {new_model.coef_}\")"
   ]
  },
  {
   "cell_type": "code",
   "execution_count": 67,
   "id": "8ca319e4",
   "metadata": {
    "execution": {
     "iopub.execute_input": "2023-05-10T02:25:24.911911Z",
     "iopub.status.busy": "2023-05-10T02:25:24.911803Z",
     "iopub.status.idle": "2023-05-10T02:25:24.913832Z",
     "shell.execute_reply": "2023-05-10T02:25:24.913592Z"
    }
   },
   "outputs": [
    {
     "name": "stdout",
     "output_type": "stream",
     "text": [
      "predicted response:\n",
      "[ 8.33333333 13.73333333 19.13333333 24.53333333 29.93333333 35.33333333]\n"
     ]
    }
   ],
   "source": [
    "# NOW THAT WE KNOW OUR MODEL IS WORKING; LET'S PREDICT A RESPONSE!\n",
    "y_pred = model.predict(x)\n",
    "print(f\"predicted response:\\n{y_pred}\")"
   ]
  },
  {
   "cell_type": "markdown",
   "id": "55cd1566",
   "metadata": {},
   "source": [
    "HERE'S ANOTHER WAY TO PREDICT THE RESPONSE\n",
    "THIS IS WERE EACH ELEMENT OF X WERE MULTIPLIED BY WITH THE MODEL COEFFICIENT"
   ]
  },
  {
   "cell_type": "code",
   "execution_count": 68,
   "id": "2244ce10",
   "metadata": {
    "execution": {
     "iopub.execute_input": "2023-05-10T02:25:24.915249Z",
     "iopub.status.busy": "2023-05-10T02:25:24.915145Z",
     "iopub.status.idle": "2023-05-10T02:25:24.917062Z",
     "shell.execute_reply": "2023-05-10T02:25:24.916808Z"
    }
   },
   "outputs": [
    {
     "name": "stdout",
     "output_type": "stream",
     "text": [
      "predicted response:\n",
      "[[ 8.33333333]\n",
      " [13.73333333]\n",
      " [19.13333333]\n",
      " [24.53333333]\n",
      " [29.93333333]\n",
      " [35.33333333]]\n"
     ]
    }
   ],
   "source": [
    "y_pred = model.intercept_ + model.coef_ * x\n",
    "print(f\"predicted response:\\n{y_pred}\")"
   ]
  },
  {
   "cell_type": "markdown",
   "id": "a5a6e08d",
   "metadata": {},
   "source": [
    "REGRESSION MODELS ARE TYPCIALLY USED FOR FORECASTS\n",
    "FITTED MODELS CAN BE USED TO CALCULATE THE OUTPUTS"
   ]
  },
  {
   "cell_type": "code",
   "execution_count": 69,
   "id": "db2332cb",
   "metadata": {
    "execution": {
     "iopub.execute_input": "2023-05-10T02:25:24.918446Z",
     "iopub.status.busy": "2023-05-10T02:25:24.918338Z",
     "iopub.status.idle": "2023-05-10T02:25:24.920698Z",
     "shell.execute_reply": "2023-05-10T02:25:24.920429Z"
    }
   },
   "outputs": [
    {
     "data": {
      "text/plain": [
       "array([[0],\n",
       "       [1],\n",
       "       [2],\n",
       "       [3],\n",
       "       [4]])"
      ]
     },
     "execution_count": 69,
     "metadata": {},
     "output_type": "execute_result"
    }
   ],
   "source": [
    "x_new = np.arange(5). reshape((-1, 1))\n",
    "x_new"
   ]
  },
  {
   "cell_type": "code",
   "execution_count": 70,
   "id": "538549ec",
   "metadata": {
    "execution": {
     "iopub.execute_input": "2023-05-10T02:25:24.922296Z",
     "iopub.status.busy": "2023-05-10T02:25:24.922178Z",
     "iopub.status.idle": "2023-05-10T02:25:24.924514Z",
     "shell.execute_reply": "2023-05-10T02:25:24.924270Z"
    }
   },
   "outputs": [
    {
     "data": {
      "text/plain": [
       "array([5.63333333, 6.17333333, 6.71333333, 7.25333333, 7.79333333])"
      ]
     },
     "execution_count": 70,
     "metadata": {},
     "output_type": "execute_result"
    }
   ],
   "source": [
    "# REGRESSION MODELS ARE TYPCIALLY USED FOR FORECASTS\n",
    "# FITTED MODELS CAN BE USED TO CALCULATE THE OUTPUTS\n",
    "y_new = model.predict(x_new)\n",
    "y_new"
   ]
  },
  {
   "cell_type": "markdown",
   "id": "3a1e0b18",
   "metadata": {},
   "source": [
    "Obtain data using BigQuery"
   ]
  },
  {
   "cell_type": "code",
   "execution_count": 71,
   "id": "847787fc",
   "metadata": {
    "execution": {
     "iopub.execute_input": "2023-05-10T02:25:24.925910Z",
     "iopub.status.busy": "2023-05-10T02:25:24.925807Z",
     "iopub.status.idle": "2023-05-10T02:25:24.933744Z",
     "shell.execute_reply": "2023-05-10T02:25:24.933384Z"
    }
   },
   "outputs": [],
   "source": [
    "BIGQUERY_PROJECT = 'ironhacks-data'\n",
    "bigquery_client = bigquery.Client(project=BIGQUERY_PROJECT)"
   ]
  },
  {
   "cell_type": "code",
   "execution_count": 72,
   "id": "84e452d1",
   "metadata": {
    "execution": {
     "iopub.execute_input": "2023-05-10T02:25:24.935499Z",
     "iopub.status.busy": "2023-05-10T02:25:24.935383Z",
     "iopub.status.idle": "2023-05-10T02:25:24.937328Z",
     "shell.execute_reply": "2023-05-10T02:25:24.937087Z"
    }
   },
   "outputs": [],
   "source": [
    "query = \"\"\"\n",
    "SELECT\n",
    "x.*,\n",
    "y.average_wage\n",
    "FROM\n",
    "(SELECT\n",
    "*\n",
    "FROM `ironhacks-data.ironhacks_competition.unemployment_data`) x\n",
    "JOIN `ironhacks-data.ironhacks_competition.wage_data` y\n",
    "ON x.uu_id = y.uu_id\n",
    "\"\"\""
   ]
  },
  {
   "cell_type": "code",
   "execution_count": 73,
   "id": "79081558",
   "metadata": {
    "execution": {
     "iopub.execute_input": "2023-05-10T02:25:24.938783Z",
     "iopub.status.busy": "2023-05-10T02:25:24.938679Z",
     "iopub.status.idle": "2023-05-10T02:25:26.394143Z",
     "shell.execute_reply": "2023-05-10T02:25:26.393107Z"
    }
   },
   "outputs": [],
   "source": [
    "query_job = bigquery_client.query(query)\n",
    "data = query_job.to_dataframe()"
   ]
  },
  {
   "cell_type": "code",
   "execution_count": 74,
   "id": "9287ec1d",
   "metadata": {
    "execution": {
     "iopub.execute_input": "2023-05-10T02:25:26.397767Z",
     "iopub.status.busy": "2023-05-10T02:25:26.397463Z",
     "iopub.status.idle": "2023-05-10T02:25:26.401951Z",
     "shell.execute_reply": "2023-05-10T02:25:26.400826Z"
    }
   },
   "outputs": [],
   "source": [
    "query_pred = \"\"\"\n",
    "SELECT * FROM `ironhacks-data.ironhacks_competition.prediction_list`\n",
    "\"\"\""
   ]
  },
  {
   "cell_type": "code",
   "execution_count": 75,
   "id": "ad7f20ff",
   "metadata": {
    "execution": {
     "iopub.execute_input": "2023-05-10T02:25:26.406755Z",
     "iopub.status.busy": "2023-05-10T02:25:26.406401Z",
     "iopub.status.idle": "2023-05-10T02:25:27.811009Z",
     "shell.execute_reply": "2023-05-10T02:25:27.810255Z"
    }
   },
   "outputs": [],
   "source": [
    "query_job_pred = bigquery_client.query(query_pred)\n",
    "data_pred_query= query_job_pred.to_dataframe()"
   ]
  },
  {
   "cell_type": "code",
   "execution_count": 76,
   "id": "74f7cf6c",
   "metadata": {
    "execution": {
     "iopub.execute_input": "2023-05-10T02:25:27.816974Z",
     "iopub.status.busy": "2023-05-10T02:25:27.816534Z",
     "iopub.status.idle": "2023-05-10T02:25:27.822577Z",
     "shell.execute_reply": "2023-05-10T02:25:27.821816Z"
    }
   },
   "outputs": [],
   "source": [
    "# START USING A MODEL - Same statement written differently\n",
    "model = LinearRegression().fit(x,y)"
   ]
  },
  {
   "cell_type": "code",
   "execution_count": 77,
   "id": "36a6a817",
   "metadata": {
    "execution": {
     "iopub.execute_input": "2023-05-10T02:25:27.826327Z",
     "iopub.status.busy": "2023-05-10T02:25:27.825977Z",
     "iopub.status.idle": "2023-05-10T02:25:27.831327Z",
     "shell.execute_reply": "2023-05-10T02:25:27.830571Z"
    }
   },
   "outputs": [
    {
     "name": "stdout",
     "output_type": "stream",
     "text": [
      "coefficient of determination: 0.715875613747954\n"
     ]
    }
   ],
   "source": [
    "# GET RESULTS - NOW THAT THE MODEL HAS BEEN FITTED; LET SEE IF IT WORKS!\n",
    "r_sq = model.score(x, y)\n",
    "print(f\"coefficient of determination: {r_sq}\")"
   ]
  },
  {
   "cell_type": "markdown",
   "id": "cef26481",
   "metadata": {},
   "source": [
    "THE RETURN VALUE SHOULD BE R2"
   ]
  },
  {
   "cell_type": "code",
   "execution_count": 78,
   "id": "3c5edafe",
   "metadata": {
    "execution": {
     "iopub.execute_input": "2023-05-10T02:25:27.835535Z",
     "iopub.status.busy": "2023-05-10T02:25:27.835162Z",
     "iopub.status.idle": "2023-05-10T02:25:27.840978Z",
     "shell.execute_reply": "2023-05-10T02:25:27.840424Z"
    }
   },
   "outputs": [
    {
     "data": {
      "text/html": [
       "<style>#sk-container-id-2 {color: black;background-color: white;}#sk-container-id-2 pre{padding: 0;}#sk-container-id-2 div.sk-toggleable {background-color: white;}#sk-container-id-2 label.sk-toggleable__label {cursor: pointer;display: block;width: 100%;margin-bottom: 0;padding: 0.3em;box-sizing: border-box;text-align: center;}#sk-container-id-2 label.sk-toggleable__label-arrow:before {content: \"▸\";float: left;margin-right: 0.25em;color: #696969;}#sk-container-id-2 label.sk-toggleable__label-arrow:hover:before {color: black;}#sk-container-id-2 div.sk-estimator:hover label.sk-toggleable__label-arrow:before {color: black;}#sk-container-id-2 div.sk-toggleable__content {max-height: 0;max-width: 0;overflow: hidden;text-align: left;background-color: #f0f8ff;}#sk-container-id-2 div.sk-toggleable__content pre {margin: 0.2em;color: black;border-radius: 0.25em;background-color: #f0f8ff;}#sk-container-id-2 input.sk-toggleable__control:checked~div.sk-toggleable__content {max-height: 200px;max-width: 100%;overflow: auto;}#sk-container-id-2 input.sk-toggleable__control:checked~label.sk-toggleable__label-arrow:before {content: \"▾\";}#sk-container-id-2 div.sk-estimator input.sk-toggleable__control:checked~label.sk-toggleable__label {background-color: #d4ebff;}#sk-container-id-2 div.sk-label input.sk-toggleable__control:checked~label.sk-toggleable__label {background-color: #d4ebff;}#sk-container-id-2 input.sk-hidden--visually {border: 0;clip: rect(1px 1px 1px 1px);clip: rect(1px, 1px, 1px, 1px);height: 1px;margin: -1px;overflow: hidden;padding: 0;position: absolute;width: 1px;}#sk-container-id-2 div.sk-estimator {font-family: monospace;background-color: #f0f8ff;border: 1px dotted black;border-radius: 0.25em;box-sizing: border-box;margin-bottom: 0.5em;}#sk-container-id-2 div.sk-estimator:hover {background-color: #d4ebff;}#sk-container-id-2 div.sk-parallel-item::after {content: \"\";width: 100%;border-bottom: 1px solid gray;flex-grow: 1;}#sk-container-id-2 div.sk-label:hover label.sk-toggleable__label {background-color: #d4ebff;}#sk-container-id-2 div.sk-serial::before {content: \"\";position: absolute;border-left: 1px solid gray;box-sizing: border-box;top: 0;bottom: 0;left: 50%;z-index: 0;}#sk-container-id-2 div.sk-serial {display: flex;flex-direction: column;align-items: center;background-color: white;padding-right: 0.2em;padding-left: 0.2em;position: relative;}#sk-container-id-2 div.sk-item {position: relative;z-index: 1;}#sk-container-id-2 div.sk-parallel {display: flex;align-items: stretch;justify-content: center;background-color: white;position: relative;}#sk-container-id-2 div.sk-item::before, #sk-container-id-2 div.sk-parallel-item::before {content: \"\";position: absolute;border-left: 1px solid gray;box-sizing: border-box;top: 0;bottom: 0;left: 50%;z-index: -1;}#sk-container-id-2 div.sk-parallel-item {display: flex;flex-direction: column;z-index: 1;position: relative;background-color: white;}#sk-container-id-2 div.sk-parallel-item:first-child::after {align-self: flex-end;width: 50%;}#sk-container-id-2 div.sk-parallel-item:last-child::after {align-self: flex-start;width: 50%;}#sk-container-id-2 div.sk-parallel-item:only-child::after {width: 0;}#sk-container-id-2 div.sk-dashed-wrapped {border: 1px dashed gray;margin: 0 0.4em 0.5em 0.4em;box-sizing: border-box;padding-bottom: 0.4em;background-color: white;}#sk-container-id-2 div.sk-label label {font-family: monospace;font-weight: bold;display: inline-block;line-height: 1.2em;}#sk-container-id-2 div.sk-label-container {text-align: center;}#sk-container-id-2 div.sk-container {/* jupyter's `normalize.less` sets `[hidden] { display: none; }` but bootstrap.min.css set `[hidden] { display: none !important; }` so we also need the `!important` here to be able to override the default hidden behavior on the sphinx rendered scikit-learn.org. See: https://github.com/scikit-learn/scikit-learn/issues/21755 */display: inline-block !important;position: relative;}#sk-container-id-2 div.sk-text-repr-fallback {display: none;}</style><div id=\"sk-container-id-2\" class=\"sk-top-container\"><div class=\"sk-text-repr-fallback\"><pre>LinearRegression()</pre><b>In a Jupyter environment, please rerun this cell to show the HTML representation or trust the notebook. <br />On GitHub, the HTML representation is unable to render, please try loading this page with nbviewer.org.</b></div><div class=\"sk-container\" hidden><div class=\"sk-item\"><div class=\"sk-estimator sk-toggleable\"><input class=\"sk-toggleable__control sk-hidden--visually\" id=\"sk-estimator-id-2\" type=\"checkbox\" checked><label for=\"sk-estimator-id-2\" class=\"sk-toggleable__label sk-toggleable__label-arrow\">LinearRegression</label><div class=\"sk-toggleable__content\"><pre>LinearRegression()</pre></div></div></div></div></div>"
      ],
      "text/plain": [
       "LinearRegression()"
      ]
     },
     "execution_count": 78,
     "metadata": {},
     "output_type": "execute_result"
    }
   ],
   "source": [
    "# Linear Regression\n",
    "model.fit(x, y)\n",
    "LinearRegression()"
   ]
  },
  {
   "cell_type": "code",
   "execution_count": 79,
   "id": "2c07447e",
   "metadata": {
    "execution": {
     "iopub.execute_input": "2023-05-10T02:25:27.843952Z",
     "iopub.status.busy": "2023-05-10T02:25:27.843715Z",
     "iopub.status.idle": "2023-05-10T02:25:27.847115Z",
     "shell.execute_reply": "2023-05-10T02:25:27.846658Z"
    }
   },
   "outputs": [],
   "source": [
    "# Test Linear Regression\n",
    "model = LinearRegression().fit(x, y)"
   ]
  },
  {
   "cell_type": "code",
   "execution_count": 80,
   "id": "bf6e8db2",
   "metadata": {
    "execution": {
     "iopub.execute_input": "2023-05-10T02:25:27.849514Z",
     "iopub.status.busy": "2023-05-10T02:25:27.849340Z",
     "iopub.status.idle": "2023-05-10T02:25:27.852902Z",
     "shell.execute_reply": "2023-05-10T02:25:27.852409Z"
    }
   },
   "outputs": [
    {
     "name": "stdout",
     "output_type": "stream",
     "text": [
      "coefficient of determination: 0.715875613747954\n"
     ]
    }
   ],
   "source": [
    "# Test Linear Regression\n",
    "r_sq = model.score(x, y)\n",
    "print(f\"coefficient of determination: {r_sq}\")"
   ]
  },
  {
   "cell_type": "code",
   "execution_count": 81,
   "id": "c9b1e23e",
   "metadata": {
    "execution": {
     "iopub.execute_input": "2023-05-10T02:25:27.855743Z",
     "iopub.status.busy": "2023-05-10T02:25:27.855504Z",
     "iopub.status.idle": "2023-05-10T02:25:27.858862Z",
     "shell.execute_reply": "2023-05-10T02:25:27.858275Z"
    }
   },
   "outputs": [
    {
     "name": "stdout",
     "output_type": "stream",
     "text": [
      "predicted response:\n",
      "[[ 8.33333333]\n",
      " [13.73333333]\n",
      " [19.13333333]\n",
      " [24.53333333]\n",
      " [29.93333333]\n",
      " [35.33333333]]\n"
     ]
    }
   ],
   "source": [
    "# Test Linear Regression\n",
    "print(f\"predicted response:\\n{y_pred}\")"
   ]
  },
  {
   "cell_type": "code",
   "execution_count": 82,
   "id": "356a2faa",
   "metadata": {
    "execution": {
     "iopub.execute_input": "2023-05-10T02:25:27.862235Z",
     "iopub.status.busy": "2023-05-10T02:25:27.861935Z",
     "iopub.status.idle": "2023-05-10T02:25:27.866301Z",
     "shell.execute_reply": "2023-05-10T02:25:27.865765Z"
    }
   },
   "outputs": [
    {
     "name": "stdout",
     "output_type": "stream",
     "text": [
      "intercept: [5.63333333]\n"
     ]
    }
   ],
   "source": [
    "# Test Linear Regression\n",
    "new_model = LinearRegression().fit(x, y.reshape((-1, 1)))\n",
    "print(f\"intercept: {new_model.intercept_}\")"
   ]
  },
  {
   "cell_type": "code",
   "execution_count": 83,
   "id": "44e17a65",
   "metadata": {
    "execution": {
     "iopub.execute_input": "2023-05-10T02:25:27.868642Z",
     "iopub.status.busy": "2023-05-10T02:25:27.868490Z",
     "iopub.status.idle": "2023-05-10T02:25:27.871320Z",
     "shell.execute_reply": "2023-05-10T02:25:27.870917Z"
    }
   },
   "outputs": [
    {
     "name": "stdout",
     "output_type": "stream",
     "text": [
      "slope: [[0.54]]\n"
     ]
    }
   ],
   "source": [
    "print(f\"slope: {new_model.coef_}\")"
   ]
  },
  {
   "cell_type": "code",
   "execution_count": 84,
   "id": "3b156b71",
   "metadata": {
    "execution": {
     "iopub.execute_input": "2023-05-10T02:25:27.873424Z",
     "iopub.status.busy": "2023-05-10T02:25:27.873251Z",
     "iopub.status.idle": "2023-05-10T02:25:27.876925Z",
     "shell.execute_reply": "2023-05-10T02:25:27.876520Z"
    }
   },
   "outputs": [
    {
     "data": {
      "text/plain": [
       "array([[0],\n",
       "       [1],\n",
       "       [2],\n",
       "       [3],\n",
       "       [4]])"
      ]
     },
     "execution_count": 84,
     "metadata": {},
     "output_type": "execute_result"
    }
   ],
   "source": [
    "# Test Linear Regression\n",
    "x_new = np.arange(5).reshape((-1, 1))\n",
    "x_new"
   ]
  },
  {
   "cell_type": "code",
   "execution_count": 85,
   "id": "15e9ba2a",
   "metadata": {
    "execution": {
     "iopub.execute_input": "2023-05-10T02:25:27.878996Z",
     "iopub.status.busy": "2023-05-10T02:25:27.878852Z",
     "iopub.status.idle": "2023-05-10T02:25:27.881642Z",
     "shell.execute_reply": "2023-05-10T02:25:27.881315Z"
    }
   },
   "outputs": [
    {
     "data": {
      "text/plain": [
       "array([[ 5],\n",
       "       [15],\n",
       "       [25],\n",
       "       [35],\n",
       "       [45],\n",
       "       [55]])"
      ]
     },
     "execution_count": 85,
     "metadata": {},
     "output_type": "execute_result"
    }
   ],
   "source": [
    "# Test Linear Regression\n",
    "x"
   ]
  },
  {
   "cell_type": "code",
   "execution_count": 86,
   "id": "3ec93bf5",
   "metadata": {
    "execution": {
     "iopub.execute_input": "2023-05-10T02:25:27.883373Z",
     "iopub.status.busy": "2023-05-10T02:25:27.883235Z",
     "iopub.status.idle": "2023-05-10T02:25:27.885650Z",
     "shell.execute_reply": "2023-05-10T02:25:27.885336Z"
    }
   },
   "outputs": [
    {
     "data": {
      "text/plain": [
       "array([ 5, 20, 14, 32, 22, 38])"
      ]
     },
     "execution_count": 86,
     "metadata": {},
     "output_type": "execute_result"
    }
   ],
   "source": [
    "# Test Linear Regression\n",
    "y"
   ]
  },
  {
   "cell_type": "code",
   "execution_count": 87,
   "id": "2c4532c6",
   "metadata": {
    "execution": {
     "iopub.execute_input": "2023-05-10T02:25:27.887424Z",
     "iopub.status.busy": "2023-05-10T02:25:27.887304Z",
     "iopub.status.idle": "2023-05-10T02:25:27.889792Z",
     "shell.execute_reply": "2023-05-10T02:25:27.889426Z"
    }
   },
   "outputs": [],
   "source": [
    "# Test Linear Regression\n",
    "model = LinearRegression().fit(x, y)"
   ]
  },
  {
   "cell_type": "code",
   "execution_count": 88,
   "id": "d36b2ab0",
   "metadata": {
    "execution": {
     "iopub.execute_input": "2023-05-10T02:25:27.891521Z",
     "iopub.status.busy": "2023-05-10T02:25:27.891382Z",
     "iopub.status.idle": "2023-05-10T02:25:27.893639Z",
     "shell.execute_reply": "2023-05-10T02:25:27.893355Z"
    }
   },
   "outputs": [],
   "source": [
    "# Test Linear Regression\n",
    "model = sm.OLS(y, x)"
   ]
  },
  {
   "cell_type": "code",
   "execution_count": 89,
   "id": "7c734c64",
   "metadata": {
    "execution": {
     "iopub.execute_input": "2023-05-10T02:25:27.895281Z",
     "iopub.status.busy": "2023-05-10T02:25:27.895142Z",
     "iopub.status.idle": "2023-05-10T02:25:27.897079Z",
     "shell.execute_reply": "2023-05-10T02:25:27.896771Z"
    }
   },
   "outputs": [],
   "source": [
    "# Test Linear Regression\n",
    "results = model.fit()"
   ]
  },
  {
   "cell_type": "markdown",
   "id": "668123f4",
   "metadata": {},
   "source": [
    "install conda install module_name"
   ]
  },
  {
   "cell_type": "code",
   "execution_count": 90,
   "id": "30198b97",
   "metadata": {
    "execution": {
     "iopub.execute_input": "2023-05-10T02:25:27.898883Z",
     "iopub.status.busy": "2023-05-10T02:25:27.898742Z",
     "iopub.status.idle": "2023-05-10T02:25:27.903847Z",
     "shell.execute_reply": "2023-05-10T02:25:27.903581Z"
    }
   },
   "outputs": [
    {
     "name": "stdout",
     "output_type": "stream",
     "text": [
      "                                 OLS Regression Results                                \n",
      "=======================================================================================\n",
      "Dep. Variable:                      y   R-squared (uncentered):                   0.930\n",
      "Model:                            OLS   Adj. R-squared (uncentered):              0.916\n",
      "Method:                 Least Squares   F-statistic:                              66.71\n",
      "Date:                Tue, 09 May 2023   Prob (F-statistic):                    0.000447\n",
      "Time:                        22:25:27   Log-Likelihood:                         -19.692\n",
      "No. Observations:                   6   AIC:                                      41.38\n",
      "Df Residuals:                       5   BIC:                                      41.18\n",
      "Df Model:                           1                                                  \n",
      "Covariance Type:            nonrobust                                                  \n",
      "==============================================================================\n",
      "                 coef    std err          t      P>|t|      [0.025      0.975]\n",
      "------------------------------------------------------------------------------\n",
      "x1             0.6818      0.083      8.167      0.000       0.467       0.896\n",
      "==============================================================================\n",
      "Omnibus:                          nan   Durbin-Watson:                   2.904\n",
      "Prob(Omnibus):                    nan   Jarque-Bera (JB):                0.334\n",
      "Skew:                          -0.137   Prob(JB):                        0.846\n",
      "Kurtosis:                       1.877   Cond. No.                         1.00\n",
      "==============================================================================\n",
      "\n",
      "Notes:\n",
      "[1] R² is computed without centering (uncentered) since the model does not contain a constant.\n",
      "[2] Standard Errors assume that the covariance matrix of the errors is correctly specified.\n"
     ]
    },
    {
     "name": "stderr",
     "output_type": "stream",
     "text": [
      "/opt/homebrew/lib/python3.9/site-packages/statsmodels/stats/stattools.py:74: ValueWarning: omni_normtest is not valid with less than 8 observations; 6 samples were given.\n",
      "  warn(\"omni_normtest is not valid with less than 8 observations; %i \"\n"
     ]
    }
   ],
   "source": [
    "# Test Linear Regression\n",
    "print(results.summary())"
   ]
  },
  {
   "cell_type": "code",
   "execution_count": 91,
   "id": "f8dcff45",
   "metadata": {
    "execution": {
     "iopub.execute_input": "2023-05-10T02:25:27.905367Z",
     "iopub.status.busy": "2023-05-10T02:25:27.905263Z",
     "iopub.status.idle": "2023-05-10T02:25:27.907444Z",
     "shell.execute_reply": "2023-05-10T02:25:27.907169Z"
    }
   },
   "outputs": [],
   "source": [
    "from statsmodels.compat import lzip\n",
    "import numpy as np\n",
    "import matplotlib.pyplot as plt\n",
    "import statsmodels.api as sm\n",
    "from statsmodels.formula.api import ols"
   ]
  },
  {
   "cell_type": "code",
   "execution_count": 92,
   "id": "bae64082",
   "metadata": {
    "execution": {
     "iopub.execute_input": "2023-05-10T02:25:27.908986Z",
     "iopub.status.busy": "2023-05-10T02:25:27.908899Z",
     "iopub.status.idle": "2023-05-10T02:25:27.910900Z",
     "shell.execute_reply": "2023-05-10T02:25:27.910625Z"
    }
   },
   "outputs": [],
   "source": [
    "plt.rc(\"figure\", figsize=(16, 8))\n",
    "plt.rc(\"font\", size=14)"
   ]
  },
  {
   "cell_type": "markdown",
   "id": "d77bd4d3",
   "metadata": {},
   "source": [
    "https://www.statsmodels.org/dev/examples/notebooks/generated/regression_plots.html"
   ]
  },
  {
   "cell_type": "markdown",
   "id": "7878975f",
   "metadata": {},
   "source": [
    "dta = pd.read_csv(\"http://www.stat.ufl.edu/~aa/social/csv_files/statewide-crime-2.csv\")\n",
    "dta = dta.set_index(\"State\", inplace=True).dropna()\n",
    "dta.rename(columns={\"VR\" : \"crime\",\n",
    "                   \"MR\" : \"murder\",\n",
    "                   \"M\"  : \"pctmetro\",\n",
    "                   \"W\"  : \"pctwhite\",\n",
    "                   \"H\"  : \"pcths\",\n",
    "                   \"P\"  : \"poverty\",\n",
    "                   \"S\"  : \"single\"\n",
    "                   }, inplace=True)\n",
    "\n",
    "crime_model = ols(\"murder ~ pctmetro + poverty + pcths + single\", data=dta).fit()"
   ]
  },
  {
   "cell_type": "code",
   "execution_count": 93,
   "id": "4fa0021e",
   "metadata": {
    "execution": {
     "iopub.execute_input": "2023-05-10T02:25:27.912265Z",
     "iopub.status.busy": "2023-05-10T02:25:27.912179Z",
     "iopub.status.idle": "2023-05-10T02:25:27.915741Z",
     "shell.execute_reply": "2023-05-10T02:25:27.915491Z"
    }
   },
   "outputs": [],
   "source": [
    "dta = sm.datasets.statecrime.load_pandas().data"
   ]
  },
  {
   "cell_type": "markdown",
   "id": "b8add118",
   "metadata": {},
   "source": [
    "LINEAR REGRESSION\n",
    "TOWARD DATA SCIENCE https://towardsdatascience.com/multiple-linear-regression-model-using-python-machine-learning-d00c78f1172a"
   ]
  },
  {
   "cell_type": "code",
   "execution_count": 94,
   "id": "1ce4fe1e",
   "metadata": {
    "execution": {
     "iopub.execute_input": "2023-05-10T02:25:27.917137Z",
     "iopub.status.busy": "2023-05-10T02:25:27.917048Z",
     "iopub.status.idle": "2023-05-10T02:25:27.919100Z",
     "shell.execute_reply": "2023-05-10T02:25:27.918865Z"
    }
   },
   "outputs": [],
   "source": [
    "# https://www.statsmodels.org/dev/examples/notebooks/generated/plots_boxplots.html\n",
    "get_ipython().run_line_magic('matplotlib', 'inline')"
   ]
  },
  {
   "cell_type": "code",
   "execution_count": 95,
   "id": "8f9e7912",
   "metadata": {
    "execution": {
     "iopub.execute_input": "2023-05-10T02:25:27.920470Z",
     "iopub.status.busy": "2023-05-10T02:25:27.920386Z",
     "iopub.status.idle": "2023-05-10T02:25:27.922215Z",
     "shell.execute_reply": "2023-05-10T02:25:27.921976Z"
    }
   },
   "outputs": [],
   "source": [
    "import numpy as np\n",
    "import matplotlib.pyplot as plt\n",
    "import statsmodels.api as sm"
   ]
  },
  {
   "cell_type": "markdown",
   "id": "c2f0c0e2",
   "metadata": {},
   "source": [
    "STAT Models\n",
    "https://www.statsmodels.org/dev/examples/notebooks/generated/plots_boxplots.html"
   ]
  },
  {
   "cell_type": "code",
   "execution_count": 96,
   "id": "a7841295",
   "metadata": {
    "execution": {
     "iopub.execute_input": "2023-05-10T02:25:27.923609Z",
     "iopub.status.busy": "2023-05-10T02:25:27.923521Z",
     "iopub.status.idle": "2023-05-10T02:25:27.930952Z",
     "shell.execute_reply": "2023-05-10T02:25:27.930679Z"
    }
   },
   "outputs": [],
   "source": [
    "data = sm.datasets.anes96.load_pandas()\n",
    "party_ID = np.arange(7)\n",
    "labels = [\n",
    "    \"Strong Democrat\",\n",
    "    \"Weak Democrat\",\n",
    "    \"Independent-Democrat\",\n",
    "    \"Independent-Independent\",\n",
    "    \"Independent-Republican\",\n",
    "    \"Weak Republican\",\n",
    "    \"Strong Republican\",\n",
    "]"
   ]
  },
  {
   "cell_type": "code",
   "execution_count": 97,
   "id": "4c3b9589",
   "metadata": {
    "execution": {
     "iopub.execute_input": "2023-05-10T02:25:27.932459Z",
     "iopub.status.busy": "2023-05-10T02:25:27.932375Z",
     "iopub.status.idle": "2023-05-10T02:25:28.148043Z",
     "shell.execute_reply": "2023-05-10T02:25:28.147190Z"
    }
   },
   "outputs": [
    {
     "data": {
      "text/plain": [
       "Text(0, 0.5, 'Age')"
      ]
     },
     "execution_count": 97,
     "metadata": {},
     "output_type": "execute_result"
    },
    {
     "data": {
      "image/png": "[encoded data removed]",
      "text/plain": [
       "<Figure size 1000x800 with 1 Axes>"
      ]
     },
     "metadata": {},
     "output_type": "display_data"
    }
   ],
   "source": [
    "# STAT Models\n",
    "# https://www.statsmodels.org/dev/examples/notebooks/generated/plots_boxplots.html\n",
    "plt.rcParams[\"figure.subplot.bottom\"] = 0.23  # keep labels visible\n",
    "plt.rcParams[\"figure.figsize\"] = (10.0, 8.0)  # make plot larger in notebook\n",
    "age = [data.exog[\"age\"][data.endog == id] for id in party_ID]\n",
    "fig = plt.figure()\n",
    "ax = fig.add_subplot(111)\n",
    "plot_opts = {\n",
    "    \"cutoff_val\": 5,\n",
    "    \"cutoff_type\": \"abs\",\n",
    "    \"label_fontsize\": \"small\",\n",
    "    \"label_rotation\": 30,\n",
    "}\n",
    "sm.graphics.beanplot(age, ax=ax, labels=labels, plot_opts=plot_opts)\n",
    "ax.set_xlabel(\"Party identification of respondent.\")\n",
    "ax.set_ylabel(\"Age\")\n",
    "# plt.show()"
   ]
  },
  {
   "cell_type": "markdown",
   "id": "1a8926ad",
   "metadata": {},
   "source": [
    "PREDICTING THE RESULTS\n",
    "COMPLETE PYTHON CODE FOR LINEAR REGRESSION\n",
    "CREDIT: ASK PYTHON"
   ]
  },
  {
   "cell_type": "markdown",
   "id": "26a9e6fa",
   "metadata": {},
   "source": [
    "SIMPLE REGRESSION ANALYSIS"
   ]
  },
  {
   "cell_type": "markdown",
   "id": "9627b9a0",
   "metadata": {},
   "source": [
    "CALCULATING MAPE\n",
    "CREDIT: ASK PYTHON"
   ]
  },
  {
   "cell_type": "code",
   "execution_count": 98,
   "id": "af7dc89d",
   "metadata": {
    "execution": {
     "iopub.execute_input": "2023-05-10T02:25:28.152481Z",
     "iopub.status.busy": "2023-05-10T02:25:28.152060Z",
     "iopub.status.idle": "2023-05-10T02:25:29.778090Z",
     "shell.execute_reply": "2023-05-10T02:25:29.777178Z"
    }
   },
   "outputs": [],
   "source": [
    "query_job = bigquery_client.query(query)\n",
    "data = query_job.to_dataframe()"
   ]
  },
  {
   "cell_type": "code",
   "execution_count": 99,
   "id": "4d971da0",
   "metadata": {
    "execution": {
     "iopub.execute_input": "2023-05-10T02:25:29.783132Z",
     "iopub.status.busy": "2023-05-10T02:25:29.782781Z",
     "iopub.status.idle": "2023-05-10T02:25:29.786555Z",
     "shell.execute_reply": "2023-05-10T02:25:29.785927Z"
    }
   },
   "outputs": [],
   "source": [
    "query_pred = \"\"\"\n",
    "SELECT * FROM `ironhacks-data.ironhacks_competition.unemployment_data`\n",
    "\"\"\""
   ]
  },
  {
   "cell_type": "code",
   "execution_count": 100,
   "id": "0f07778e",
   "metadata": {
    "execution": {
     "iopub.execute_input": "2023-05-10T02:25:29.790003Z",
     "iopub.status.busy": "2023-05-10T02:25:29.789737Z",
     "iopub.status.idle": "2023-05-10T02:25:31.258123Z",
     "shell.execute_reply": "2023-05-10T02:25:31.257099Z"
    }
   },
   "outputs": [],
   "source": [
    "query_job_pred = bigquery_client.query(query_pred)\n",
    "data_pred_query = query_job_pred.to_dataframe()"
   ]
  },
  {
   "cell_type": "code",
   "execution_count": 101,
   "id": "7aa1a3de",
   "metadata": {
    "execution": {
     "iopub.execute_input": "2023-05-10T02:25:31.262593Z",
     "iopub.status.busy": "2023-05-10T02:25:31.262176Z",
     "iopub.status.idle": "2023-05-10T02:25:31.267034Z",
     "shell.execute_reply": "2023-05-10T02:25:31.266357Z"
    },
    "lines_to_next_cell": 1
   },
   "outputs": [],
   "source": [
    "import csv\n",
    "import pandas as pd\n",
    "import numpy as np\n",
    "from google.cloud import bigquery\n",
    "from google.oauth2 import service_account\n",
    "from google.cloud.bigquery import magics\n",
    "from sklearn.model_selection import train_test_split \n",
    "from sklearn.linear_model import LinearRegression\n",
    "from sklearn import metrics\n",
    "import matplotlib.pyplot as plt  "
   ]
  },
  {
   "cell_type": "code",
   "execution_count": 102,
   "id": "df83c535",
   "metadata": {
    "execution": {
     "iopub.execute_input": "2023-05-10T02:25:31.270357Z",
     "iopub.status.busy": "2023-05-10T02:25:31.270050Z",
     "iopub.status.idle": "2023-05-10T02:25:31.274146Z",
     "shell.execute_reply": "2023-05-10T02:25:31.273425Z"
    },
    "lines_to_next_cell": 1
   },
   "outputs": [],
   "source": [
    "# Defining MAPE function\n",
    "def MAPE(Y_actual,Y_Predicted):\n",
    "    mape = np.mean(np.abs((Y_actual - Y_Predicted)/Y_actual))*100\n",
    "    return mape"
   ]
  },
  {
   "cell_type": "code",
   "execution_count": 103,
   "id": "ddbcae7c",
   "metadata": {
    "execution": {
     "iopub.execute_input": "2023-05-10T02:25:31.277224Z",
     "iopub.status.busy": "2023-05-10T02:25:31.276976Z",
     "iopub.status.idle": "2023-05-10T02:25:31.291872Z",
     "shell.execute_reply": "2023-05-10T02:25:31.291148Z"
    }
   },
   "outputs": [],
   "source": [
    "import os\n",
    "BIGQUERY_PROJECT = 'ironhacks-data'\n",
    "bigquery_client = bigquery.Client(project=BIGQUERY_PROJECT)"
   ]
  },
  {
   "cell_type": "code",
   "execution_count": 104,
   "id": "b4bdb050",
   "metadata": {
    "execution": {
     "iopub.execute_input": "2023-05-10T02:25:31.294971Z",
     "iopub.status.busy": "2023-05-10T02:25:31.294734Z",
     "iopub.status.idle": "2023-05-10T02:25:31.297873Z",
     "shell.execute_reply": "2023-05-10T02:25:31.297412Z"
    }
   },
   "outputs": [],
   "source": [
    "query = \"\"\"\n",
    "SELECT * FROM `ironhacks-data.ironhacks_competition.unemployment_data`\n",
    "\"\"\""
   ]
  },
  {
   "cell_type": "code",
   "execution_count": 105,
   "id": "de388633",
   "metadata": {
    "execution": {
     "iopub.execute_input": "2023-05-10T02:25:31.300129Z",
     "iopub.status.busy": "2023-05-10T02:25:31.299972Z",
     "iopub.status.idle": "2023-05-10T02:25:32.799487Z",
     "shell.execute_reply": "2023-05-10T02:25:32.799123Z"
    }
   },
   "outputs": [
    {
     "data": {
      "text/html": [
       "<div>\n",
       "<style scoped>\n",
       "    .dataframe tbody tr th:only-of-type {\n",
       "        vertical-align: middle;\n",
       "    }\n",
       "\n",
       "    .dataframe tbody tr th {\n",
       "        vertical-align: top;\n",
       "    }\n",
       "\n",
       "    .dataframe thead th {\n",
       "        text-align: right;\n",
       "    }\n",
       "</style>\n",
       "<table border=\"1\" class=\"dataframe\">\n",
       "  <thead>\n",
       "    <tr style=\"text-align: right;\">\n",
       "      <th></th>\n",
       "      <th>uu_id</th>\n",
       "      <th>timeperiod</th>\n",
       "      <th>week_number</th>\n",
       "      <th>countyfips</th>\n",
       "      <th>tract</th>\n",
       "      <th>tract_name</th>\n",
       "      <th>total_claims</th>\n",
       "      <th>edu_8th_or_less</th>\n",
       "      <th>edu_grades_9_11</th>\n",
       "      <th>edu_hs_grad_equiv</th>\n",
       "      <th>...</th>\n",
       "      <th>gender_female</th>\n",
       "      <th>gender_male</th>\n",
       "      <th>gender_na</th>\n",
       "      <th>race_amerindian</th>\n",
       "      <th>race_asian</th>\n",
       "      <th>race_black</th>\n",
       "      <th>race_noanswer</th>\n",
       "      <th>race_hawaiiannative</th>\n",
       "      <th>race_other</th>\n",
       "      <th>race_white</th>\n",
       "    </tr>\n",
       "  </thead>\n",
       "  <tbody>\n",
       "    <tr>\n",
       "      <th>0</th>\n",
       "      <td>f013068de98db1470bd986137a0c6d23</td>\n",
       "      <td>20220416</td>\n",
       "      <td>16</td>\n",
       "      <td>18003</td>\n",
       "      <td>900</td>\n",
       "      <td>Census Tract 9, Allen County, Indiana</td>\n",
       "      <td>22</td>\n",
       "      <td>0</td>\n",
       "      <td>&lt;NA&gt;</td>\n",
       "      <td>14</td>\n",
       "      <td>...</td>\n",
       "      <td>&lt;NA&gt;</td>\n",
       "      <td>&lt;NA&gt;</td>\n",
       "      <td>0</td>\n",
       "      <td>0</td>\n",
       "      <td>0</td>\n",
       "      <td>11</td>\n",
       "      <td>0</td>\n",
       "      <td>0</td>\n",
       "      <td>&lt;NA&gt;</td>\n",
       "      <td>&lt;NA&gt;</td>\n",
       "    </tr>\n",
       "    <tr>\n",
       "      <th>1</th>\n",
       "      <td>21957d5517323845818d87623589e1ba</td>\n",
       "      <td>20220319</td>\n",
       "      <td>12</td>\n",
       "      <td>18089</td>\n",
       "      <td>10400</td>\n",
       "      <td>Census Tract 104, Lake County, Indiana</td>\n",
       "      <td>111</td>\n",
       "      <td>0</td>\n",
       "      <td>&lt;NA&gt;</td>\n",
       "      <td>108</td>\n",
       "      <td>...</td>\n",
       "      <td>76</td>\n",
       "      <td>35</td>\n",
       "      <td>0</td>\n",
       "      <td>0</td>\n",
       "      <td>0</td>\n",
       "      <td>&lt;NA&gt;</td>\n",
       "      <td>&lt;NA&gt;</td>\n",
       "      <td>0</td>\n",
       "      <td>0</td>\n",
       "      <td>0</td>\n",
       "    </tr>\n",
       "    <tr>\n",
       "      <th>2</th>\n",
       "      <td>6a5609f385912113b6f1014b958ed748</td>\n",
       "      <td>20220326</td>\n",
       "      <td>13</td>\n",
       "      <td>18089</td>\n",
       "      <td>11500</td>\n",
       "      <td>Census Tract 115, Lake County, Indiana</td>\n",
       "      <td>39</td>\n",
       "      <td>0</td>\n",
       "      <td>&lt;NA&gt;</td>\n",
       "      <td>&lt;NA&gt;</td>\n",
       "      <td>...</td>\n",
       "      <td>&lt;NA&gt;</td>\n",
       "      <td>&lt;NA&gt;</td>\n",
       "      <td>0</td>\n",
       "      <td>0</td>\n",
       "      <td>0</td>\n",
       "      <td>39</td>\n",
       "      <td>0</td>\n",
       "      <td>0</td>\n",
       "      <td>0</td>\n",
       "      <td>0</td>\n",
       "    </tr>\n",
       "    <tr>\n",
       "      <th>3</th>\n",
       "      <td>46b2882ec4c373527ec33f7bd4f1388d</td>\n",
       "      <td>20220716</td>\n",
       "      <td>29</td>\n",
       "      <td>18089</td>\n",
       "      <td>20700</td>\n",
       "      <td>Census Tract 207, Lake County, Indiana</td>\n",
       "      <td>14</td>\n",
       "      <td>0</td>\n",
       "      <td>&lt;NA&gt;</td>\n",
       "      <td>&lt;NA&gt;</td>\n",
       "      <td>...</td>\n",
       "      <td>&lt;NA&gt;</td>\n",
       "      <td>&lt;NA&gt;</td>\n",
       "      <td>0</td>\n",
       "      <td>0</td>\n",
       "      <td>&lt;NA&gt;</td>\n",
       "      <td>10</td>\n",
       "      <td>0</td>\n",
       "      <td>0</td>\n",
       "      <td>&lt;NA&gt;</td>\n",
       "      <td>&lt;NA&gt;</td>\n",
       "    </tr>\n",
       "    <tr>\n",
       "      <th>4</th>\n",
       "      <td>37495d17e82f7df326bfc2c4c090f7b7</td>\n",
       "      <td>20220409</td>\n",
       "      <td>15</td>\n",
       "      <td>18089</td>\n",
       "      <td>21900</td>\n",
       "      <td>Census Tract 219, Lake County, Indiana</td>\n",
       "      <td>155</td>\n",
       "      <td>0</td>\n",
       "      <td>&lt;NA&gt;</td>\n",
       "      <td>69</td>\n",
       "      <td>...</td>\n",
       "      <td>90</td>\n",
       "      <td>65</td>\n",
       "      <td>0</td>\n",
       "      <td>0</td>\n",
       "      <td>0</td>\n",
       "      <td>135</td>\n",
       "      <td>&lt;NA&gt;</td>\n",
       "      <td>&lt;NA&gt;</td>\n",
       "      <td>&lt;NA&gt;</td>\n",
       "      <td>&lt;NA&gt;</td>\n",
       "    </tr>\n",
       "  </tbody>\n",
       "</table>\n",
       "<p>5 rows × 25 columns</p>\n",
       "</div>"
      ],
      "text/plain": [
       "                              uu_id  timeperiod  week_number  countyfips  \\\n",
       "0  f013068de98db1470bd986137a0c6d23    20220416           16       18003   \n",
       "1  21957d5517323845818d87623589e1ba    20220319           12       18089   \n",
       "2  6a5609f385912113b6f1014b958ed748    20220326           13       18089   \n",
       "3  46b2882ec4c373527ec33f7bd4f1388d    20220716           29       18089   \n",
       "4  37495d17e82f7df326bfc2c4c090f7b7    20220409           15       18089   \n",
       "\n",
       "   tract                              tract_name  total_claims  \\\n",
       "0    900   Census Tract 9, Allen County, Indiana            22   \n",
       "1  10400  Census Tract 104, Lake County, Indiana           111   \n",
       "2  11500  Census Tract 115, Lake County, Indiana            39   \n",
       "3  20700  Census Tract 207, Lake County, Indiana            14   \n",
       "4  21900  Census Tract 219, Lake County, Indiana           155   \n",
       "\n",
       "   edu_8th_or_less  edu_grades_9_11  edu_hs_grad_equiv  ...  gender_female  \\\n",
       "0                0             <NA>                 14  ...           <NA>   \n",
       "1                0             <NA>                108  ...             76   \n",
       "2                0             <NA>               <NA>  ...           <NA>   \n",
       "3                0             <NA>               <NA>  ...           <NA>   \n",
       "4                0             <NA>                 69  ...             90   \n",
       "\n",
       "   gender_male gender_na race_amerindian race_asian  race_black  \\\n",
       "0         <NA>         0               0          0          11   \n",
       "1           35         0               0          0        <NA>   \n",
       "2         <NA>         0               0          0          39   \n",
       "3         <NA>         0               0       <NA>          10   \n",
       "4           65         0               0          0         135   \n",
       "\n",
       "   race_noanswer  race_hawaiiannative  race_other  race_white  \n",
       "0              0                    0        <NA>        <NA>  \n",
       "1           <NA>                    0           0           0  \n",
       "2              0                    0           0           0  \n",
       "3              0                    0        <NA>        <NA>  \n",
       "4           <NA>                 <NA>        <NA>        <NA>  \n",
       "\n",
       "[5 rows x 25 columns]"
      ]
     },
     "execution_count": 105,
     "metadata": {},
     "output_type": "execute_result"
    }
   ],
   "source": [
    "query_job = bigquery_client.query(query)\n",
    "data = query_job.to_dataframe()\n",
    "data.head()"
   ]
  },
  {
   "cell_type": "code",
   "execution_count": 106,
   "id": "62f1c739",
   "metadata": {
    "execution": {
     "iopub.execute_input": "2023-05-10T02:25:32.801352Z",
     "iopub.status.busy": "2023-05-10T02:25:32.801206Z",
     "iopub.status.idle": "2023-05-10T02:25:32.803622Z",
     "shell.execute_reply": "2023-05-10T02:25:32.803232Z"
    }
   },
   "outputs": [],
   "source": [
    "X = data['total_claims'].values.reshape(-1,1)\n",
    "y = data['week_number'].values.reshape(-1,1)"
   ]
  },
  {
   "cell_type": "code",
   "execution_count": 107,
   "id": "4fefff98",
   "metadata": {
    "execution": {
     "iopub.execute_input": "2023-05-10T02:25:32.805559Z",
     "iopub.status.busy": "2023-05-10T02:25:32.805418Z",
     "iopub.status.idle": "2023-05-10T02:25:32.808629Z",
     "shell.execute_reply": "2023-05-10T02:25:32.808248Z"
    }
   },
   "outputs": [],
   "source": [
    "X_train, X_test, y_train, y_test = train_test_split(X, y, test_size=0.2, random_state=0)"
   ]
  },
  {
   "cell_type": "markdown",
   "id": "5c23d9fb",
   "metadata": {},
   "source": [
    "COMPARE ACTUAL OUTPUT VALUES FOR X_TEST WITH PREDICTED VALUES - TEST"
   ]
  },
  {
   "cell_type": "code",
   "execution_count": 108,
   "id": "b05db8d3",
   "metadata": {
    "execution": {
     "iopub.execute_input": "2023-05-10T02:25:32.810455Z",
     "iopub.status.busy": "2023-05-10T02:25:32.810341Z",
     "iopub.status.idle": "2023-05-10T02:25:32.812879Z",
     "shell.execute_reply": "2023-05-10T02:25:32.812556Z"
    }
   },
   "outputs": [],
   "source": [
    "df = pd.DataFrame(np.random.rand(10, 3), columns =['a', 'b', 'c'])"
   ]
  },
  {
   "cell_type": "code",
   "execution_count": 109,
   "id": "6b526eb5",
   "metadata": {
    "execution": {
     "iopub.execute_input": "2023-05-10T02:25:32.814630Z",
     "iopub.status.busy": "2023-05-10T02:25:32.814520Z",
     "iopub.status.idle": "2023-05-10T02:25:32.817886Z",
     "shell.execute_reply": "2023-05-10T02:25:32.817558Z"
    }
   },
   "outputs": [
    {
     "name": "stdout",
     "output_type": "stream",
     "text": [
      "          a         b         c\n",
      "0  0.102938  0.179256  0.408490\n",
      "1  0.749570  0.036917  0.110809\n",
      "2  0.507031  0.853283  0.701070\n",
      "3  0.546936  0.116243  0.327177\n",
      "4  0.689016  0.984851  0.826887\n",
      "5  0.986570  0.696181  0.577391\n",
      "6  0.736757  0.065737  0.435073\n",
      "7  0.408664  0.849124  0.432033\n",
      "8  0.635232  0.774941  0.769931\n",
      "9  0.188085  0.309274  0.039918\n"
     ]
    }
   ],
   "source": [
    "print(df)"
   ]
  },
  {
   "cell_type": "markdown",
   "id": "57ea4632",
   "metadata": {},
   "source": [
    "DATA VISUALIZATION - COMPARISON RESULTS AS A BAR GRAPH"
   ]
  },
  {
   "cell_type": "code",
   "execution_count": 110,
   "id": "4de1577f",
   "metadata": {
    "execution": {
     "iopub.execute_input": "2023-05-10T02:25:32.819647Z",
     "iopub.status.busy": "2023-05-10T02:25:32.819502Z",
     "iopub.status.idle": "2023-05-10T02:25:33.011284Z",
     "shell.execute_reply": "2023-05-10T02:25:33.010633Z"
    }
   },
   "outputs": [
    {
     "data": {
      "image/png": "[encoded data removed]",
      "text/plain": [
       "<Figure size 1600x1000 with 1 Axes>"
      ]
     },
     "metadata": {},
     "output_type": "display_data"
    }
   ],
   "source": [
    "df1 = df.head(25)\n",
    "df1.plot(kind='bar',figsize=(16,10))\n",
    "plt.grid(which='major', linestyle='-', linewidth='0.5', color='green')\n",
    "plt.grid(which='minor', linestyle=':', linewidth='0.5', color='black')\n",
    "plt.show()"
   ]
  },
  {
   "cell_type": "code",
   "execution_count": 111,
   "id": "28351011",
   "metadata": {
    "execution": {
     "iopub.execute_input": "2023-05-10T02:25:33.014768Z",
     "iopub.status.busy": "2023-05-10T02:25:33.014480Z",
     "iopub.status.idle": "2023-05-10T02:25:33.018278Z",
     "shell.execute_reply": "2023-05-10T02:25:33.017235Z"
    }
   },
   "outputs": [],
   "source": [
    "# importing matplotlib\n",
    "import matplotlib.pyplot"
   ]
  },
  {
   "cell_type": "code",
   "execution_count": 112,
   "id": "68d84b33",
   "metadata": {
    "execution": {
     "iopub.execute_input": "2023-05-10T02:25:33.021628Z",
     "iopub.status.busy": "2023-05-10T02:25:33.021340Z",
     "iopub.status.idle": "2023-05-10T02:25:33.024904Z",
     "shell.execute_reply": "2023-05-10T02:25:33.024130Z"
    }
   },
   "outputs": [],
   "source": [
    "# importing pandas as pd\n",
    "import pandas as pd"
   ]
  },
  {
   "cell_type": "code",
   "execution_count": 113,
   "id": "1d335baa",
   "metadata": {
    "execution": {
     "iopub.execute_input": "2023-05-10T02:25:33.027988Z",
     "iopub.status.busy": "2023-05-10T02:25:33.027711Z",
     "iopub.status.idle": "2023-05-10T02:25:33.031469Z",
     "shell.execute_reply": "2023-05-10T02:25:33.030388Z"
    }
   },
   "outputs": [],
   "source": [
    "# importing numpy as np\n",
    "import numpy as np"
   ]
  },
  {
   "cell_type": "code",
   "execution_count": 114,
   "id": "ad60677d",
   "metadata": {
    "execution": {
     "iopub.execute_input": "2023-05-10T02:25:33.034658Z",
     "iopub.status.busy": "2023-05-10T02:25:33.034383Z",
     "iopub.status.idle": "2023-05-10T02:25:33.039074Z",
     "shell.execute_reply": "2023-05-10T02:25:33.038043Z"
    }
   },
   "outputs": [],
   "source": [
    "# creating a dataframe\n",
    "df = pd.DataFrame(np.random.rand(10, 10),\n",
    "                  columns =['a', 'b', 'c', 'd', 'e', 'f', 'g', 'h', 'i', 'j'])"
   ]
  },
  {
   "cell_type": "code",
   "execution_count": 115,
   "id": "5720623d",
   "metadata": {
    "execution": {
     "iopub.execute_input": "2023-05-10T02:25:33.042397Z",
     "iopub.status.busy": "2023-05-10T02:25:33.042118Z",
     "iopub.status.idle": "2023-05-10T02:25:33.055754Z",
     "shell.execute_reply": "2023-05-10T02:25:33.054819Z"
    }
   },
   "outputs": [
    {
     "data": {
      "text/html": [
       "<div>\n",
       "<style scoped>\n",
       "    .dataframe tbody tr th:only-of-type {\n",
       "        vertical-align: middle;\n",
       "    }\n",
       "\n",
       "    .dataframe tbody tr th {\n",
       "        vertical-align: top;\n",
       "    }\n",
       "\n",
       "    .dataframe thead th {\n",
       "        text-align: right;\n",
       "    }\n",
       "</style>\n",
       "<table border=\"1\" class=\"dataframe\">\n",
       "  <thead>\n",
       "    <tr style=\"text-align: right;\">\n",
       "      <th></th>\n",
       "      <th>a</th>\n",
       "      <th>b</th>\n",
       "      <th>c</th>\n",
       "      <th>d</th>\n",
       "      <th>e</th>\n",
       "      <th>f</th>\n",
       "      <th>g</th>\n",
       "      <th>h</th>\n",
       "      <th>i</th>\n",
       "      <th>j</th>\n",
       "    </tr>\n",
       "  </thead>\n",
       "  <tbody>\n",
       "    <tr>\n",
       "      <th>0</th>\n",
       "      <td>0.431537</td>\n",
       "      <td>0.476369</td>\n",
       "      <td>0.706251</td>\n",
       "      <td>0.596710</td>\n",
       "      <td>0.375551</td>\n",
       "      <td>0.104329</td>\n",
       "      <td>0.855169</td>\n",
       "      <td>0.099217</td>\n",
       "      <td>0.879644</td>\n",
       "      <td>0.406791</td>\n",
       "    </tr>\n",
       "    <tr>\n",
       "      <th>1</th>\n",
       "      <td>0.602310</td>\n",
       "      <td>0.403189</td>\n",
       "      <td>0.648809</td>\n",
       "      <td>0.323359</td>\n",
       "      <td>0.746161</td>\n",
       "      <td>0.549171</td>\n",
       "      <td>0.109668</td>\n",
       "      <td>0.257139</td>\n",
       "      <td>0.333113</td>\n",
       "      <td>0.741667</td>\n",
       "    </tr>\n",
       "    <tr>\n",
       "      <th>2</th>\n",
       "      <td>0.558448</td>\n",
       "      <td>0.178473</td>\n",
       "      <td>0.743786</td>\n",
       "      <td>0.618500</td>\n",
       "      <td>0.738445</td>\n",
       "      <td>0.578852</td>\n",
       "      <td>0.624467</td>\n",
       "      <td>0.437937</td>\n",
       "      <td>0.002515</td>\n",
       "      <td>0.268757</td>\n",
       "    </tr>\n",
       "    <tr>\n",
       "      <th>3</th>\n",
       "      <td>0.277782</td>\n",
       "      <td>0.704269</td>\n",
       "      <td>0.289790</td>\n",
       "      <td>0.958856</td>\n",
       "      <td>0.063591</td>\n",
       "      <td>0.140668</td>\n",
       "      <td>0.631839</td>\n",
       "      <td>0.903100</td>\n",
       "      <td>0.539898</td>\n",
       "      <td>0.811672</td>\n",
       "    </tr>\n",
       "    <tr>\n",
       "      <th>4</th>\n",
       "      <td>0.522349</td>\n",
       "      <td>0.370047</td>\n",
       "      <td>0.864156</td>\n",
       "      <td>0.141793</td>\n",
       "      <td>0.331129</td>\n",
       "      <td>0.655905</td>\n",
       "      <td>0.546513</td>\n",
       "      <td>0.977156</td>\n",
       "      <td>0.529795</td>\n",
       "      <td>0.032251</td>\n",
       "    </tr>\n",
       "    <tr>\n",
       "      <th>5</th>\n",
       "      <td>0.405045</td>\n",
       "      <td>0.377651</td>\n",
       "      <td>0.749558</td>\n",
       "      <td>0.993212</td>\n",
       "      <td>0.775966</td>\n",
       "      <td>0.734227</td>\n",
       "      <td>0.661719</td>\n",
       "      <td>0.421984</td>\n",
       "      <td>0.773409</td>\n",
       "      <td>0.067450</td>\n",
       "    </tr>\n",
       "    <tr>\n",
       "      <th>6</th>\n",
       "      <td>0.282552</td>\n",
       "      <td>0.799865</td>\n",
       "      <td>0.943450</td>\n",
       "      <td>0.728399</td>\n",
       "      <td>0.281523</td>\n",
       "      <td>0.106625</td>\n",
       "      <td>0.960959</td>\n",
       "      <td>0.483466</td>\n",
       "      <td>0.631091</td>\n",
       "      <td>0.435611</td>\n",
       "    </tr>\n",
       "    <tr>\n",
       "      <th>7</th>\n",
       "      <td>0.351701</td>\n",
       "      <td>0.536841</td>\n",
       "      <td>0.703950</td>\n",
       "      <td>0.631264</td>\n",
       "      <td>0.318960</td>\n",
       "      <td>0.906039</td>\n",
       "      <td>0.870953</td>\n",
       "      <td>0.228518</td>\n",
       "      <td>0.116685</td>\n",
       "      <td>0.860446</td>\n",
       "    </tr>\n",
       "    <tr>\n",
       "      <th>8</th>\n",
       "      <td>0.411210</td>\n",
       "      <td>0.328827</td>\n",
       "      <td>0.778598</td>\n",
       "      <td>0.234160</td>\n",
       "      <td>0.953406</td>\n",
       "      <td>0.263740</td>\n",
       "      <td>0.813462</td>\n",
       "      <td>0.509041</td>\n",
       "      <td>0.114912</td>\n",
       "      <td>0.603783</td>\n",
       "    </tr>\n",
       "    <tr>\n",
       "      <th>9</th>\n",
       "      <td>0.247854</td>\n",
       "      <td>0.105437</td>\n",
       "      <td>0.211940</td>\n",
       "      <td>0.296736</td>\n",
       "      <td>0.913213</td>\n",
       "      <td>0.798788</td>\n",
       "      <td>0.619582</td>\n",
       "      <td>0.140681</td>\n",
       "      <td>0.686206</td>\n",
       "      <td>0.955678</td>\n",
       "    </tr>\n",
       "  </tbody>\n",
       "</table>\n",
       "</div>"
      ],
      "text/plain": [
       "          a         b         c         d         e         f         g  \\\n",
       "0  0.431537  0.476369  0.706251  0.596710  0.375551  0.104329  0.855169   \n",
       "1  0.602310  0.403189  0.648809  0.323359  0.746161  0.549171  0.109668   \n",
       "2  0.558448  0.178473  0.743786  0.618500  0.738445  0.578852  0.624467   \n",
       "3  0.277782  0.704269  0.289790  0.958856  0.063591  0.140668  0.631839   \n",
       "4  0.522349  0.370047  0.864156  0.141793  0.331129  0.655905  0.546513   \n",
       "5  0.405045  0.377651  0.749558  0.993212  0.775966  0.734227  0.661719   \n",
       "6  0.282552  0.799865  0.943450  0.728399  0.281523  0.106625  0.960959   \n",
       "7  0.351701  0.536841  0.703950  0.631264  0.318960  0.906039  0.870953   \n",
       "8  0.411210  0.328827  0.778598  0.234160  0.953406  0.263740  0.813462   \n",
       "9  0.247854  0.105437  0.211940  0.296736  0.913213  0.798788  0.619582   \n",
       "\n",
       "          h         i         j  \n",
       "0  0.099217  0.879644  0.406791  \n",
       "1  0.257139  0.333113  0.741667  \n",
       "2  0.437937  0.002515  0.268757  \n",
       "3  0.903100  0.539898  0.811672  \n",
       "4  0.977156  0.529795  0.032251  \n",
       "5  0.421984  0.773409  0.067450  \n",
       "6  0.483466  0.631091  0.435611  \n",
       "7  0.228518  0.116685  0.860446  \n",
       "8  0.509041  0.114912  0.603783  \n",
       "9  0.140681  0.686206  0.955678  "
      ]
     },
     "execution_count": 115,
     "metadata": {},
     "output_type": "execute_result"
    }
   ],
   "source": [
    "df"
   ]
  },
  {
   "cell_type": "code",
   "execution_count": 116,
   "id": "a977dc5f",
   "metadata": {
    "execution": {
     "iopub.execute_input": "2023-05-10T02:25:33.059035Z",
     "iopub.status.busy": "2023-05-10T02:25:33.058755Z",
     "iopub.status.idle": "2023-05-10T02:25:33.307300Z",
     "shell.execute_reply": "2023-05-10T02:25:33.306958Z"
    }
   },
   "outputs": [
    {
     "data": {
      "text/plain": [
       "<AxesSubplot: >"
      ]
     },
     "execution_count": 116,
     "metadata": {},
     "output_type": "execute_result"
    },
    {
     "data": {
      "image/png": "[encoded data removed]",
      "text/plain": [
       "<Figure size 1000x800 with 1 Axes>"
      ]
     },
     "metadata": {},
     "output_type": "display_data"
    }
   ],
   "source": [
    "# using a function df.plot.bar()\n",
    "df.plot.bar()"
   ]
  },
  {
   "cell_type": "markdown",
   "id": "59650843",
   "metadata": {},
   "source": [
    "CALCULATING MAPE\n",
    "CREDIT: ASK PYTHON"
   ]
  },
  {
   "cell_type": "code",
   "execution_count": 117,
   "id": "40a38ef7",
   "metadata": {
    "execution": {
     "iopub.execute_input": "2023-05-10T02:25:33.308917Z",
     "iopub.status.busy": "2023-05-10T02:25:33.308797Z",
     "iopub.status.idle": "2023-05-10T02:25:33.311270Z",
     "shell.execute_reply": "2023-05-10T02:25:33.311005Z"
    }
   },
   "outputs": [
    {
     "name": "stdout",
     "output_type": "stream",
     "text": [
      "13.999999999999984\n"
     ]
    }
   ],
   "source": [
    "from sklearn.metrics import mean_absolute_error\n",
    "Y_actual = [1,2,3,4,5]\n",
    "Y_Predicted = [1,2.5,3,4.1,4.9]\n",
    "mape = mean_absolute_error(Y_actual, Y_Predicted)*100\n",
    "print(mape)"
   ]
  },
  {
   "cell_type": "code",
   "execution_count": 118,
   "id": "7c8f1905",
   "metadata": {
    "execution": {
     "iopub.execute_input": "2023-05-10T02:25:33.312793Z",
     "iopub.status.busy": "2023-05-10T02:25:33.312693Z",
     "iopub.status.idle": "2023-05-10T02:25:33.314535Z",
     "shell.execute_reply": "2023-05-10T02:25:33.314233Z"
    }
   },
   "outputs": [],
   "source": [
    "query = \"\"\"\n",
    "SELECT *\n",
    "FROM `ironhacks-data.ironhacks_competition.unemployment_data`\n",
    "\"\"\" "
   ]
  },
  {
   "cell_type": "code",
   "execution_count": 119,
   "id": "5424f4e8",
   "metadata": {
    "execution": {
     "iopub.execute_input": "2023-05-10T02:25:33.315961Z",
     "iopub.status.busy": "2023-05-10T02:25:33.315855Z",
     "iopub.status.idle": "2023-05-10T02:25:34.796863Z",
     "shell.execute_reply": "2023-05-10T02:25:34.796274Z"
    }
   },
   "outputs": [
    {
     "data": {
      "text/html": [
       "<div>\n",
       "<style scoped>\n",
       "    .dataframe tbody tr th:only-of-type {\n",
       "        vertical-align: middle;\n",
       "    }\n",
       "\n",
       "    .dataframe tbody tr th {\n",
       "        vertical-align: top;\n",
       "    }\n",
       "\n",
       "    .dataframe thead th {\n",
       "        text-align: right;\n",
       "    }\n",
       "</style>\n",
       "<table border=\"1\" class=\"dataframe\">\n",
       "  <thead>\n",
       "    <tr style=\"text-align: right;\">\n",
       "      <th></th>\n",
       "      <th>uu_id</th>\n",
       "      <th>timeperiod</th>\n",
       "      <th>week_number</th>\n",
       "      <th>countyfips</th>\n",
       "      <th>tract</th>\n",
       "      <th>tract_name</th>\n",
       "      <th>total_claims</th>\n",
       "      <th>edu_8th_or_less</th>\n",
       "      <th>edu_grades_9_11</th>\n",
       "      <th>edu_hs_grad_equiv</th>\n",
       "      <th>...</th>\n",
       "      <th>gender_female</th>\n",
       "      <th>gender_male</th>\n",
       "      <th>gender_na</th>\n",
       "      <th>race_amerindian</th>\n",
       "      <th>race_asian</th>\n",
       "      <th>race_black</th>\n",
       "      <th>race_noanswer</th>\n",
       "      <th>race_hawaiiannative</th>\n",
       "      <th>race_other</th>\n",
       "      <th>race_white</th>\n",
       "    </tr>\n",
       "  </thead>\n",
       "  <tbody>\n",
       "    <tr>\n",
       "      <th>0</th>\n",
       "      <td>f013068de98db1470bd986137a0c6d23</td>\n",
       "      <td>20220416</td>\n",
       "      <td>16</td>\n",
       "      <td>18003</td>\n",
       "      <td>900</td>\n",
       "      <td>Census Tract 9, Allen County, Indiana</td>\n",
       "      <td>22</td>\n",
       "      <td>0</td>\n",
       "      <td>&lt;NA&gt;</td>\n",
       "      <td>14</td>\n",
       "      <td>...</td>\n",
       "      <td>&lt;NA&gt;</td>\n",
       "      <td>&lt;NA&gt;</td>\n",
       "      <td>0</td>\n",
       "      <td>0</td>\n",
       "      <td>0</td>\n",
       "      <td>11</td>\n",
       "      <td>0</td>\n",
       "      <td>0</td>\n",
       "      <td>&lt;NA&gt;</td>\n",
       "      <td>&lt;NA&gt;</td>\n",
       "    </tr>\n",
       "    <tr>\n",
       "      <th>1</th>\n",
       "      <td>21957d5517323845818d87623589e1ba</td>\n",
       "      <td>20220319</td>\n",
       "      <td>12</td>\n",
       "      <td>18089</td>\n",
       "      <td>10400</td>\n",
       "      <td>Census Tract 104, Lake County, Indiana</td>\n",
       "      <td>111</td>\n",
       "      <td>0</td>\n",
       "      <td>&lt;NA&gt;</td>\n",
       "      <td>108</td>\n",
       "      <td>...</td>\n",
       "      <td>76</td>\n",
       "      <td>35</td>\n",
       "      <td>0</td>\n",
       "      <td>0</td>\n",
       "      <td>0</td>\n",
       "      <td>&lt;NA&gt;</td>\n",
       "      <td>&lt;NA&gt;</td>\n",
       "      <td>0</td>\n",
       "      <td>0</td>\n",
       "      <td>0</td>\n",
       "    </tr>\n",
       "    <tr>\n",
       "      <th>2</th>\n",
       "      <td>6a5609f385912113b6f1014b958ed748</td>\n",
       "      <td>20220326</td>\n",
       "      <td>13</td>\n",
       "      <td>18089</td>\n",
       "      <td>11500</td>\n",
       "      <td>Census Tract 115, Lake County, Indiana</td>\n",
       "      <td>39</td>\n",
       "      <td>0</td>\n",
       "      <td>&lt;NA&gt;</td>\n",
       "      <td>&lt;NA&gt;</td>\n",
       "      <td>...</td>\n",
       "      <td>&lt;NA&gt;</td>\n",
       "      <td>&lt;NA&gt;</td>\n",
       "      <td>0</td>\n",
       "      <td>0</td>\n",
       "      <td>0</td>\n",
       "      <td>39</td>\n",
       "      <td>0</td>\n",
       "      <td>0</td>\n",
       "      <td>0</td>\n",
       "      <td>0</td>\n",
       "    </tr>\n",
       "    <tr>\n",
       "      <th>3</th>\n",
       "      <td>46b2882ec4c373527ec33f7bd4f1388d</td>\n",
       "      <td>20220716</td>\n",
       "      <td>29</td>\n",
       "      <td>18089</td>\n",
       "      <td>20700</td>\n",
       "      <td>Census Tract 207, Lake County, Indiana</td>\n",
       "      <td>14</td>\n",
       "      <td>0</td>\n",
       "      <td>&lt;NA&gt;</td>\n",
       "      <td>&lt;NA&gt;</td>\n",
       "      <td>...</td>\n",
       "      <td>&lt;NA&gt;</td>\n",
       "      <td>&lt;NA&gt;</td>\n",
       "      <td>0</td>\n",
       "      <td>0</td>\n",
       "      <td>&lt;NA&gt;</td>\n",
       "      <td>10</td>\n",
       "      <td>0</td>\n",
       "      <td>0</td>\n",
       "      <td>&lt;NA&gt;</td>\n",
       "      <td>&lt;NA&gt;</td>\n",
       "    </tr>\n",
       "    <tr>\n",
       "      <th>4</th>\n",
       "      <td>37495d17e82f7df326bfc2c4c090f7b7</td>\n",
       "      <td>20220409</td>\n",
       "      <td>15</td>\n",
       "      <td>18089</td>\n",
       "      <td>21900</td>\n",
       "      <td>Census Tract 219, Lake County, Indiana</td>\n",
       "      <td>155</td>\n",
       "      <td>0</td>\n",
       "      <td>&lt;NA&gt;</td>\n",
       "      <td>69</td>\n",
       "      <td>...</td>\n",
       "      <td>90</td>\n",
       "      <td>65</td>\n",
       "      <td>0</td>\n",
       "      <td>0</td>\n",
       "      <td>0</td>\n",
       "      <td>135</td>\n",
       "      <td>&lt;NA&gt;</td>\n",
       "      <td>&lt;NA&gt;</td>\n",
       "      <td>&lt;NA&gt;</td>\n",
       "      <td>&lt;NA&gt;</td>\n",
       "    </tr>\n",
       "    <tr>\n",
       "      <th>5</th>\n",
       "      <td>25a57fe39e03c632125308737a7d3769</td>\n",
       "      <td>20220820</td>\n",
       "      <td>34</td>\n",
       "      <td>18067</td>\n",
       "      <td>300</td>\n",
       "      <td>Census Tract 3, Howard County, Indiana</td>\n",
       "      <td>24</td>\n",
       "      <td>0</td>\n",
       "      <td>&lt;NA&gt;</td>\n",
       "      <td>15</td>\n",
       "      <td>...</td>\n",
       "      <td>14</td>\n",
       "      <td>10</td>\n",
       "      <td>0</td>\n",
       "      <td>0</td>\n",
       "      <td>0</td>\n",
       "      <td>&lt;NA&gt;</td>\n",
       "      <td>0</td>\n",
       "      <td>0</td>\n",
       "      <td>0</td>\n",
       "      <td>&lt;NA&gt;</td>\n",
       "    </tr>\n",
       "    <tr>\n",
       "      <th>6</th>\n",
       "      <td>25a57fe39e03c632125308737a7d3769</td>\n",
       "      <td>20220820</td>\n",
       "      <td>34</td>\n",
       "      <td>18067</td>\n",
       "      <td>300</td>\n",
       "      <td>Census Tract 3, Howard County, Indiana</td>\n",
       "      <td>24</td>\n",
       "      <td>0</td>\n",
       "      <td>&lt;NA&gt;</td>\n",
       "      <td>15</td>\n",
       "      <td>...</td>\n",
       "      <td>14</td>\n",
       "      <td>10</td>\n",
       "      <td>0</td>\n",
       "      <td>0</td>\n",
       "      <td>0</td>\n",
       "      <td>&lt;NA&gt;</td>\n",
       "      <td>0</td>\n",
       "      <td>0</td>\n",
       "      <td>0</td>\n",
       "      <td>&lt;NA&gt;</td>\n",
       "    </tr>\n",
       "    <tr>\n",
       "      <th>7</th>\n",
       "      <td>45c8cf419dd4c4b442dbf3603ba94379</td>\n",
       "      <td>20220129</td>\n",
       "      <td>5</td>\n",
       "      <td>18003</td>\n",
       "      <td>3200</td>\n",
       "      <td>Census Tract 32, Allen County, Indiana</td>\n",
       "      <td>19</td>\n",
       "      <td>&lt;NA&gt;</td>\n",
       "      <td>&lt;NA&gt;</td>\n",
       "      <td>&lt;NA&gt;</td>\n",
       "      <td>...</td>\n",
       "      <td>11</td>\n",
       "      <td>&lt;NA&gt;</td>\n",
       "      <td>&lt;NA&gt;</td>\n",
       "      <td>0</td>\n",
       "      <td>&lt;NA&gt;</td>\n",
       "      <td>&lt;NA&gt;</td>\n",
       "      <td>&lt;NA&gt;</td>\n",
       "      <td>0</td>\n",
       "      <td>&lt;NA&gt;</td>\n",
       "      <td>12</td>\n",
       "    </tr>\n",
       "    <tr>\n",
       "      <th>8</th>\n",
       "      <td>8f782a6153268c6031e31784e2d4eae2</td>\n",
       "      <td>20220716</td>\n",
       "      <td>29</td>\n",
       "      <td>18089</td>\n",
       "      <td>42000</td>\n",
       "      <td>Census Tract 420, Lake County, Indiana</td>\n",
       "      <td>20</td>\n",
       "      <td>0</td>\n",
       "      <td>&lt;NA&gt;</td>\n",
       "      <td>10</td>\n",
       "      <td>...</td>\n",
       "      <td>&lt;NA&gt;</td>\n",
       "      <td>&lt;NA&gt;</td>\n",
       "      <td>0</td>\n",
       "      <td>&lt;NA&gt;</td>\n",
       "      <td>0</td>\n",
       "      <td>&lt;NA&gt;</td>\n",
       "      <td>&lt;NA&gt;</td>\n",
       "      <td>0</td>\n",
       "      <td>&lt;NA&gt;</td>\n",
       "      <td>14</td>\n",
       "    </tr>\n",
       "    <tr>\n",
       "      <th>9</th>\n",
       "      <td>5c04f20bd2f8552aa7ac210dc01292fb</td>\n",
       "      <td>20220611</td>\n",
       "      <td>24</td>\n",
       "      <td>18089</td>\n",
       "      <td>42200</td>\n",
       "      <td>Census Tract 422, Lake County, Indiana</td>\n",
       "      <td>12</td>\n",
       "      <td>&lt;NA&gt;</td>\n",
       "      <td>0</td>\n",
       "      <td>&lt;NA&gt;</td>\n",
       "      <td>...</td>\n",
       "      <td>&lt;NA&gt;</td>\n",
       "      <td>&lt;NA&gt;</td>\n",
       "      <td>0</td>\n",
       "      <td>0</td>\n",
       "      <td>0</td>\n",
       "      <td>&lt;NA&gt;</td>\n",
       "      <td>0</td>\n",
       "      <td>0</td>\n",
       "      <td>&lt;NA&gt;</td>\n",
       "      <td>&lt;NA&gt;</td>\n",
       "    </tr>\n",
       "    <tr>\n",
       "      <th>10</th>\n",
       "      <td>050a624d618a68e43fe31189909c644f</td>\n",
       "      <td>20220409</td>\n",
       "      <td>15</td>\n",
       "      <td>18067</td>\n",
       "      <td>700</td>\n",
       "      <td>Census Tract 7, Howard County, Indiana</td>\n",
       "      <td>20</td>\n",
       "      <td>&lt;NA&gt;</td>\n",
       "      <td>0</td>\n",
       "      <td>10</td>\n",
       "      <td>...</td>\n",
       "      <td>&lt;NA&gt;</td>\n",
       "      <td>&lt;NA&gt;</td>\n",
       "      <td>0</td>\n",
       "      <td>0</td>\n",
       "      <td>0</td>\n",
       "      <td>&lt;NA&gt;</td>\n",
       "      <td>0</td>\n",
       "      <td>0</td>\n",
       "      <td>&lt;NA&gt;</td>\n",
       "      <td>14</td>\n",
       "    </tr>\n",
       "    <tr>\n",
       "      <th>11</th>\n",
       "      <td>bc7ebe1813e2b66f084289e1b1172f21</td>\n",
       "      <td>20220507</td>\n",
       "      <td>19</td>\n",
       "      <td>18067</td>\n",
       "      <td>900</td>\n",
       "      <td>Census Tract 9, Howard County, Indiana</td>\n",
       "      <td>20</td>\n",
       "      <td>0</td>\n",
       "      <td>&lt;NA&gt;</td>\n",
       "      <td>&lt;NA&gt;</td>\n",
       "      <td>...</td>\n",
       "      <td>&lt;NA&gt;</td>\n",
       "      <td>&lt;NA&gt;</td>\n",
       "      <td>0</td>\n",
       "      <td>0</td>\n",
       "      <td>0</td>\n",
       "      <td>&lt;NA&gt;</td>\n",
       "      <td>0</td>\n",
       "      <td>0</td>\n",
       "      <td>0</td>\n",
       "      <td>&lt;NA&gt;</td>\n",
       "    </tr>\n",
       "    <tr>\n",
       "      <th>12</th>\n",
       "      <td>6239669cbfe444abd0a46536a670d150</td>\n",
       "      <td>20220709</td>\n",
       "      <td>28</td>\n",
       "      <td>18039</td>\n",
       "      <td>400</td>\n",
       "      <td>Census Tract 4, Elkhart County, Indiana</td>\n",
       "      <td>20</td>\n",
       "      <td>0</td>\n",
       "      <td>&lt;NA&gt;</td>\n",
       "      <td>13</td>\n",
       "      <td>...</td>\n",
       "      <td>&lt;NA&gt;</td>\n",
       "      <td>&lt;NA&gt;</td>\n",
       "      <td>0</td>\n",
       "      <td>0</td>\n",
       "      <td>0</td>\n",
       "      <td>0</td>\n",
       "      <td>&lt;NA&gt;</td>\n",
       "      <td>&lt;NA&gt;</td>\n",
       "      <td>&lt;NA&gt;</td>\n",
       "      <td>12</td>\n",
       "    </tr>\n",
       "    <tr>\n",
       "      <th>13</th>\n",
       "      <td>6657c9871fa2f67cd168e6f94354060e</td>\n",
       "      <td>20220910</td>\n",
       "      <td>37</td>\n",
       "      <td>18039</td>\n",
       "      <td>900</td>\n",
       "      <td>Census Tract 9, Elkhart County, Indiana</td>\n",
       "      <td>50</td>\n",
       "      <td>18</td>\n",
       "      <td>&lt;NA&gt;</td>\n",
       "      <td>21</td>\n",
       "      <td>...</td>\n",
       "      <td>11</td>\n",
       "      <td>39</td>\n",
       "      <td>0</td>\n",
       "      <td>0</td>\n",
       "      <td>0</td>\n",
       "      <td>0</td>\n",
       "      <td>0</td>\n",
       "      <td>0</td>\n",
       "      <td>&lt;NA&gt;</td>\n",
       "      <td>&lt;NA&gt;</td>\n",
       "    </tr>\n",
       "    <tr>\n",
       "      <th>14</th>\n",
       "      <td>6657c9871fa2f67cd168e6f94354060e</td>\n",
       "      <td>20220903</td>\n",
       "      <td>36</td>\n",
       "      <td>18039</td>\n",
       "      <td>900</td>\n",
       "      <td>Census Tract 9, Elkhart County, Indiana</td>\n",
       "      <td>29</td>\n",
       "      <td>14</td>\n",
       "      <td>&lt;NA&gt;</td>\n",
       "      <td>&lt;NA&gt;</td>\n",
       "      <td>...</td>\n",
       "      <td>&lt;NA&gt;</td>\n",
       "      <td>&lt;NA&gt;</td>\n",
       "      <td>0</td>\n",
       "      <td>0</td>\n",
       "      <td>0</td>\n",
       "      <td>0</td>\n",
       "      <td>0</td>\n",
       "      <td>0</td>\n",
       "      <td>&lt;NA&gt;</td>\n",
       "      <td>&lt;NA&gt;</td>\n",
       "    </tr>\n",
       "    <tr>\n",
       "      <th>15</th>\n",
       "      <td>6657c9871fa2f67cd168e6f94354060e</td>\n",
       "      <td>20220903</td>\n",
       "      <td>36</td>\n",
       "      <td>18039</td>\n",
       "      <td>900</td>\n",
       "      <td>Census Tract 9, Elkhart County, Indiana</td>\n",
       "      <td>29</td>\n",
       "      <td>14</td>\n",
       "      <td>&lt;NA&gt;</td>\n",
       "      <td>&lt;NA&gt;</td>\n",
       "      <td>...</td>\n",
       "      <td>&lt;NA&gt;</td>\n",
       "      <td>&lt;NA&gt;</td>\n",
       "      <td>0</td>\n",
       "      <td>0</td>\n",
       "      <td>0</td>\n",
       "      <td>0</td>\n",
       "      <td>0</td>\n",
       "      <td>0</td>\n",
       "      <td>&lt;NA&gt;</td>\n",
       "      <td>&lt;NA&gt;</td>\n",
       "    </tr>\n",
       "    <tr>\n",
       "      <th>16</th>\n",
       "      <td>6657c9871fa2f67cd168e6f94354060e</td>\n",
       "      <td>20220910</td>\n",
       "      <td>37</td>\n",
       "      <td>18039</td>\n",
       "      <td>900</td>\n",
       "      <td>Census Tract 9, Elkhart County, Indiana</td>\n",
       "      <td>50</td>\n",
       "      <td>18</td>\n",
       "      <td>&lt;NA&gt;</td>\n",
       "      <td>21</td>\n",
       "      <td>...</td>\n",
       "      <td>11</td>\n",
       "      <td>39</td>\n",
       "      <td>0</td>\n",
       "      <td>0</td>\n",
       "      <td>0</td>\n",
       "      <td>0</td>\n",
       "      <td>0</td>\n",
       "      <td>0</td>\n",
       "      <td>&lt;NA&gt;</td>\n",
       "      <td>&lt;NA&gt;</td>\n",
       "    </tr>\n",
       "    <tr>\n",
       "      <th>17</th>\n",
       "      <td>7df3e38fbdab0a32ca0fa9fb6c8bd8c4</td>\n",
       "      <td>20220702</td>\n",
       "      <td>27</td>\n",
       "      <td>18067</td>\n",
       "      <td>10200</td>\n",
       "      <td>Census Tract 102, Howard County, Indiana</td>\n",
       "      <td>75</td>\n",
       "      <td>0</td>\n",
       "      <td>&lt;NA&gt;</td>\n",
       "      <td>50</td>\n",
       "      <td>...</td>\n",
       "      <td>29</td>\n",
       "      <td>46</td>\n",
       "      <td>0</td>\n",
       "      <td>0</td>\n",
       "      <td>&lt;NA&gt;</td>\n",
       "      <td>0</td>\n",
       "      <td>&lt;NA&gt;</td>\n",
       "      <td>0</td>\n",
       "      <td>&lt;NA&gt;</td>\n",
       "      <td>71</td>\n",
       "    </tr>\n",
       "    <tr>\n",
       "      <th>18</th>\n",
       "      <td>7df3e38fbdab0a32ca0fa9fb6c8bd8c4</td>\n",
       "      <td>20220625</td>\n",
       "      <td>26</td>\n",
       "      <td>18067</td>\n",
       "      <td>10200</td>\n",
       "      <td>Census Tract 102, Howard County, Indiana</td>\n",
       "      <td>66</td>\n",
       "      <td>0</td>\n",
       "      <td>&lt;NA&gt;</td>\n",
       "      <td>44</td>\n",
       "      <td>...</td>\n",
       "      <td>20</td>\n",
       "      <td>46</td>\n",
       "      <td>0</td>\n",
       "      <td>0</td>\n",
       "      <td>&lt;NA&gt;</td>\n",
       "      <td>&lt;NA&gt;</td>\n",
       "      <td>&lt;NA&gt;</td>\n",
       "      <td>0</td>\n",
       "      <td>&lt;NA&gt;</td>\n",
       "      <td>61</td>\n",
       "    </tr>\n",
       "    <tr>\n",
       "      <th>19</th>\n",
       "      <td>e8f426c17a7172179be379cb926bd278</td>\n",
       "      <td>20220709</td>\n",
       "      <td>28</td>\n",
       "      <td>18067</td>\n",
       "      <td>10400</td>\n",
       "      <td>Census Tract 104, Howard County, Indiana</td>\n",
       "      <td>20</td>\n",
       "      <td>0</td>\n",
       "      <td>0</td>\n",
       "      <td>&lt;NA&gt;</td>\n",
       "      <td>...</td>\n",
       "      <td>&lt;NA&gt;</td>\n",
       "      <td>&lt;NA&gt;</td>\n",
       "      <td>0</td>\n",
       "      <td>0</td>\n",
       "      <td>0</td>\n",
       "      <td>0</td>\n",
       "      <td>0</td>\n",
       "      <td>0</td>\n",
       "      <td>&lt;NA&gt;</td>\n",
       "      <td>&lt;NA&gt;</td>\n",
       "    </tr>\n",
       "  </tbody>\n",
       "</table>\n",
       "<p>20 rows × 25 columns</p>\n",
       "</div>"
      ],
      "text/plain": [
       "                               uu_id  timeperiod  week_number  countyfips  \\\n",
       "0   f013068de98db1470bd986137a0c6d23    20220416           16       18003   \n",
       "1   21957d5517323845818d87623589e1ba    20220319           12       18089   \n",
       "2   6a5609f385912113b6f1014b958ed748    20220326           13       18089   \n",
       "3   46b2882ec4c373527ec33f7bd4f1388d    20220716           29       18089   \n",
       "4   37495d17e82f7df326bfc2c4c090f7b7    20220409           15       18089   \n",
       "5   25a57fe39e03c632125308737a7d3769    20220820           34       18067   \n",
       "6   25a57fe39e03c632125308737a7d3769    20220820           34       18067   \n",
       "7   45c8cf419dd4c4b442dbf3603ba94379    20220129            5       18003   \n",
       "8   8f782a6153268c6031e31784e2d4eae2    20220716           29       18089   \n",
       "9   5c04f20bd2f8552aa7ac210dc01292fb    20220611           24       18089   \n",
       "10  050a624d618a68e43fe31189909c644f    20220409           15       18067   \n",
       "11  bc7ebe1813e2b66f084289e1b1172f21    20220507           19       18067   \n",
       "12  6239669cbfe444abd0a46536a670d150    20220709           28       18039   \n",
       "13  6657c9871fa2f67cd168e6f94354060e    20220910           37       18039   \n",
       "14  6657c9871fa2f67cd168e6f94354060e    20220903           36       18039   \n",
       "15  6657c9871fa2f67cd168e6f94354060e    20220903           36       18039   \n",
       "16  6657c9871fa2f67cd168e6f94354060e    20220910           37       18039   \n",
       "17  7df3e38fbdab0a32ca0fa9fb6c8bd8c4    20220702           27       18067   \n",
       "18  7df3e38fbdab0a32ca0fa9fb6c8bd8c4    20220625           26       18067   \n",
       "19  e8f426c17a7172179be379cb926bd278    20220709           28       18067   \n",
       "\n",
       "    tract                                tract_name  total_claims  \\\n",
       "0     900     Census Tract 9, Allen County, Indiana            22   \n",
       "1   10400    Census Tract 104, Lake County, Indiana           111   \n",
       "2   11500    Census Tract 115, Lake County, Indiana            39   \n",
       "3   20700    Census Tract 207, Lake County, Indiana            14   \n",
       "4   21900    Census Tract 219, Lake County, Indiana           155   \n",
       "5     300    Census Tract 3, Howard County, Indiana            24   \n",
       "6     300    Census Tract 3, Howard County, Indiana            24   \n",
       "7    3200    Census Tract 32, Allen County, Indiana            19   \n",
       "8   42000    Census Tract 420, Lake County, Indiana            20   \n",
       "9   42200    Census Tract 422, Lake County, Indiana            12   \n",
       "10    700    Census Tract 7, Howard County, Indiana            20   \n",
       "11    900    Census Tract 9, Howard County, Indiana            20   \n",
       "12    400   Census Tract 4, Elkhart County, Indiana            20   \n",
       "13    900   Census Tract 9, Elkhart County, Indiana            50   \n",
       "14    900   Census Tract 9, Elkhart County, Indiana            29   \n",
       "15    900   Census Tract 9, Elkhart County, Indiana            29   \n",
       "16    900   Census Tract 9, Elkhart County, Indiana            50   \n",
       "17  10200  Census Tract 102, Howard County, Indiana            75   \n",
       "18  10200  Census Tract 102, Howard County, Indiana            66   \n",
       "19  10400  Census Tract 104, Howard County, Indiana            20   \n",
       "\n",
       "    edu_8th_or_less  edu_grades_9_11  edu_hs_grad_equiv  ...  gender_female  \\\n",
       "0                 0             <NA>                 14  ...           <NA>   \n",
       "1                 0             <NA>                108  ...             76   \n",
       "2                 0             <NA>               <NA>  ...           <NA>   \n",
       "3                 0             <NA>               <NA>  ...           <NA>   \n",
       "4                 0             <NA>                 69  ...             90   \n",
       "5                 0             <NA>                 15  ...             14   \n",
       "6                 0             <NA>                 15  ...             14   \n",
       "7              <NA>             <NA>               <NA>  ...             11   \n",
       "8                 0             <NA>                 10  ...           <NA>   \n",
       "9              <NA>                0               <NA>  ...           <NA>   \n",
       "10             <NA>                0                 10  ...           <NA>   \n",
       "11                0             <NA>               <NA>  ...           <NA>   \n",
       "12                0             <NA>                 13  ...           <NA>   \n",
       "13               18             <NA>                 21  ...             11   \n",
       "14               14             <NA>               <NA>  ...           <NA>   \n",
       "15               14             <NA>               <NA>  ...           <NA>   \n",
       "16               18             <NA>                 21  ...             11   \n",
       "17                0             <NA>                 50  ...             29   \n",
       "18                0             <NA>                 44  ...             20   \n",
       "19                0                0               <NA>  ...           <NA>   \n",
       "\n",
       "    gender_male gender_na race_amerindian race_asian  race_black  \\\n",
       "0          <NA>         0               0          0          11   \n",
       "1            35         0               0          0        <NA>   \n",
       "2          <NA>         0               0          0          39   \n",
       "3          <NA>         0               0       <NA>          10   \n",
       "4            65         0               0          0         135   \n",
       "5            10         0               0          0        <NA>   \n",
       "6            10         0               0          0        <NA>   \n",
       "7          <NA>      <NA>               0       <NA>        <NA>   \n",
       "8          <NA>         0            <NA>          0        <NA>   \n",
       "9          <NA>         0               0          0        <NA>   \n",
       "10         <NA>         0               0          0        <NA>   \n",
       "11         <NA>         0               0          0        <NA>   \n",
       "12         <NA>         0               0          0           0   \n",
       "13           39         0               0          0           0   \n",
       "14         <NA>         0               0          0           0   \n",
       "15         <NA>         0               0          0           0   \n",
       "16           39         0               0          0           0   \n",
       "17           46         0               0       <NA>           0   \n",
       "18           46         0               0       <NA>        <NA>   \n",
       "19         <NA>         0               0          0           0   \n",
       "\n",
       "    race_noanswer  race_hawaiiannative  race_other  race_white  \n",
       "0               0                    0        <NA>        <NA>  \n",
       "1            <NA>                    0           0           0  \n",
       "2               0                    0           0           0  \n",
       "3               0                    0        <NA>        <NA>  \n",
       "4            <NA>                 <NA>        <NA>        <NA>  \n",
       "5               0                    0           0        <NA>  \n",
       "6               0                    0           0        <NA>  \n",
       "7            <NA>                    0        <NA>          12  \n",
       "8            <NA>                    0        <NA>          14  \n",
       "9               0                    0        <NA>        <NA>  \n",
       "10              0                    0        <NA>          14  \n",
       "11              0                    0           0        <NA>  \n",
       "12           <NA>                 <NA>        <NA>          12  \n",
       "13              0                    0        <NA>        <NA>  \n",
       "14              0                    0        <NA>        <NA>  \n",
       "15              0                    0        <NA>        <NA>  \n",
       "16              0                    0        <NA>        <NA>  \n",
       "17           <NA>                    0        <NA>          71  \n",
       "18           <NA>                    0        <NA>          61  \n",
       "19              0                    0        <NA>        <NA>  \n",
       "\n",
       "[20 rows x 25 columns]"
      ]
     },
     "execution_count": 119,
     "metadata": {},
     "output_type": "execute_result"
    }
   ],
   "source": [
    "# QUERY THE DATA ONCE\n",
    "query_job = bigquery_client.query(query)\n",
    "unemployment_data = query_job.to_dataframe()\n",
    "unemployment_data.head(20)"
   ]
  },
  {
   "cell_type": "code",
   "execution_count": 120,
   "id": "40aed80c",
   "metadata": {
    "execution": {
     "iopub.execute_input": "2023-05-10T02:25:34.799732Z",
     "iopub.status.busy": "2023-05-10T02:25:34.799545Z",
     "iopub.status.idle": "2023-05-10T02:25:34.802339Z",
     "shell.execute_reply": "2023-05-10T02:25:34.801907Z"
    }
   },
   "outputs": [],
   "source": [
    "query = \"\"\"\n",
    "SELECT *\n",
    "FROM `ironhacks-data.ironhacks_competition.wage_data`\n",
    "\"\"\" "
   ]
  },
  {
   "cell_type": "code",
   "execution_count": 121,
   "id": "f79c1371",
   "metadata": {
    "execution": {
     "iopub.execute_input": "2023-05-10T02:25:34.804764Z",
     "iopub.status.busy": "2023-05-10T02:25:34.804561Z",
     "iopub.status.idle": "2023-05-10T02:25:36.211380Z",
     "shell.execute_reply": "2023-05-10T02:25:36.210483Z"
    }
   },
   "outputs": [
    {
     "data": {
      "text/html": [
       "<div>\n",
       "<style scoped>\n",
       "    .dataframe tbody tr th:only-of-type {\n",
       "        vertical-align: middle;\n",
       "    }\n",
       "\n",
       "    .dataframe tbody tr th {\n",
       "        vertical-align: top;\n",
       "    }\n",
       "\n",
       "    .dataframe thead th {\n",
       "        text-align: right;\n",
       "    }\n",
       "</style>\n",
       "<table border=\"1\" class=\"dataframe\">\n",
       "  <thead>\n",
       "    <tr style=\"text-align: right;\">\n",
       "      <th></th>\n",
       "      <th>uu_id</th>\n",
       "      <th>countyfips</th>\n",
       "      <th>tract</th>\n",
       "      <th>tract_name</th>\n",
       "      <th>average_wage</th>\n",
       "    </tr>\n",
       "  </thead>\n",
       "  <tbody>\n",
       "    <tr>\n",
       "      <th>0</th>\n",
       "      <td>585f8731c2255d6b3f817a31180848b9</td>\n",
       "      <td>18177</td>\n",
       "      <td>200</td>\n",
       "      <td>Census Tract 2, Wayne County, Indiana</td>\n",
       "      <td>6612.000000</td>\n",
       "    </tr>\n",
       "    <tr>\n",
       "      <th>1</th>\n",
       "      <td>8c9d2aa90948679972a9382aadcc6001</td>\n",
       "      <td>18177</td>\n",
       "      <td>900</td>\n",
       "      <td>Census Tract 9, Wayne County, Indiana</td>\n",
       "      <td>9883.250000</td>\n",
       "    </tr>\n",
       "    <tr>\n",
       "      <th>2</th>\n",
       "      <td>0f3d45341a5b113b813ffb7be7f58bab</td>\n",
       "      <td>18183</td>\n",
       "      <td>50300</td>\n",
       "      <td>Census Tract 503, Whitley County, Indiana</td>\n",
       "      <td>13992.250000</td>\n",
       "    </tr>\n",
       "    <tr>\n",
       "      <th>3</th>\n",
       "      <td>fb55464f8e34af6d750d06968bf719b8</td>\n",
       "      <td>18183</td>\n",
       "      <td>50400</td>\n",
       "      <td>Census Tract 504, Whitley County, Indiana</td>\n",
       "      <td>13613.500000</td>\n",
       "    </tr>\n",
       "    <tr>\n",
       "      <th>4</th>\n",
       "      <td>983badfd7b568728e39a2344a9006078</td>\n",
       "      <td>18001</td>\n",
       "      <td>30200</td>\n",
       "      <td>Census Tract 302, Adams County, Indiana</td>\n",
       "      <td>11816.666667</td>\n",
       "    </tr>\n",
       "    <tr>\n",
       "      <th>5</th>\n",
       "      <td>3ebec5c7e13f05f1772dae73f3a1f5e0</td>\n",
       "      <td>18003</td>\n",
       "      <td>11302</td>\n",
       "      <td>Census Tract 113.02, Allen County, Indiana</td>\n",
       "      <td>9201.800000</td>\n",
       "    </tr>\n",
       "    <tr>\n",
       "      <th>6</th>\n",
       "      <td>4e47a34030916597b6293593de5016a2</td>\n",
       "      <td>18003</td>\n",
       "      <td>2300</td>\n",
       "      <td>Census Tract 23, Allen County, Indiana</td>\n",
       "      <td>7106.857143</td>\n",
       "    </tr>\n",
       "    <tr>\n",
       "      <th>7</th>\n",
       "      <td>9b461ff4ed0094dc132cb01b2e1db9ba</td>\n",
       "      <td>18003</td>\n",
       "      <td>2800</td>\n",
       "      <td>Census Tract 28, Allen County, Indiana</td>\n",
       "      <td>7807.250000</td>\n",
       "    </tr>\n",
       "    <tr>\n",
       "      <th>8</th>\n",
       "      <td>f013068de98db1470bd986137a0c6d23</td>\n",
       "      <td>18003</td>\n",
       "      <td>900</td>\n",
       "      <td>Census Tract 9, Allen County, Indiana</td>\n",
       "      <td>8347.125000</td>\n",
       "    </tr>\n",
       "    <tr>\n",
       "      <th>9</th>\n",
       "      <td>d9f6293ea290fd5f01904c594b5a90b9</td>\n",
       "      <td>18003</td>\n",
       "      <td>10821</td>\n",
       "      <td>Census Tract 108.21, Allen County, Indiana</td>\n",
       "      <td>6903.666667</td>\n",
       "    </tr>\n",
       "    <tr>\n",
       "      <th>10</th>\n",
       "      <td>842c96eacb965c2a1c0cbd6e51a7f741</td>\n",
       "      <td>18003</td>\n",
       "      <td>2000</td>\n",
       "      <td>Census Tract 20, Allen County, Indiana</td>\n",
       "      <td>8182.250000</td>\n",
       "    </tr>\n",
       "    <tr>\n",
       "      <th>11</th>\n",
       "      <td>7322dfe92403d20403f7a527ba733641</td>\n",
       "      <td>18003</td>\n",
       "      <td>3100</td>\n",
       "      <td>Census Tract 31, Allen County, Indiana</td>\n",
       "      <td>8586.600000</td>\n",
       "    </tr>\n",
       "    <tr>\n",
       "      <th>12</th>\n",
       "      <td>6167d550c0cdd68c799d372c5df97acb</td>\n",
       "      <td>18003</td>\n",
       "      <td>10819</td>\n",
       "      <td>Census Tract 108.19, Allen County, Indiana</td>\n",
       "      <td>14195.285714</td>\n",
       "    </tr>\n",
       "    <tr>\n",
       "      <th>13</th>\n",
       "      <td>489a93264d03adecc4589fd9cd34ad36</td>\n",
       "      <td>18003</td>\n",
       "      <td>10306</td>\n",
       "      <td>Census Tract 103.06, Allen County, Indiana</td>\n",
       "      <td>9966.666667</td>\n",
       "    </tr>\n",
       "    <tr>\n",
       "      <th>14</th>\n",
       "      <td>e847a8217e0447f92b06d59fa7c88982</td>\n",
       "      <td>18003</td>\n",
       "      <td>3000</td>\n",
       "      <td>Census Tract 30, Allen County, Indiana</td>\n",
       "      <td>10280.444444</td>\n",
       "    </tr>\n",
       "    <tr>\n",
       "      <th>15</th>\n",
       "      <td>1901b891f05515a8c22c05ef58baba38</td>\n",
       "      <td>18003</td>\n",
       "      <td>11608</td>\n",
       "      <td>Census Tract 116.08, Allen County, Indiana</td>\n",
       "      <td>14278.000000</td>\n",
       "    </tr>\n",
       "    <tr>\n",
       "      <th>16</th>\n",
       "      <td>2094eb904cf826728093f0e2713d2e30</td>\n",
       "      <td>18003</td>\n",
       "      <td>11501</td>\n",
       "      <td>Census Tract 115.01, Allen County, Indiana</td>\n",
       "      <td>8336.500000</td>\n",
       "    </tr>\n",
       "    <tr>\n",
       "      <th>17</th>\n",
       "      <td>d6d6aa73853ad771aaf7f972661fd2e6</td>\n",
       "      <td>18003</td>\n",
       "      <td>10305</td>\n",
       "      <td>Census Tract 103.05, Allen County, Indiana</td>\n",
       "      <td>21141.375000</td>\n",
       "    </tr>\n",
       "    <tr>\n",
       "      <th>18</th>\n",
       "      <td>f1bebcc62175d8c0c05ba9e63aa68b2e</td>\n",
       "      <td>18003</td>\n",
       "      <td>10601</td>\n",
       "      <td>Census Tract 106.01, Allen County, Indiana</td>\n",
       "      <td>11355.800000</td>\n",
       "    </tr>\n",
       "    <tr>\n",
       "      <th>19</th>\n",
       "      <td>45c8cf419dd4c4b442dbf3603ba94379</td>\n",
       "      <td>18003</td>\n",
       "      <td>3200</td>\n",
       "      <td>Census Tract 32, Allen County, Indiana</td>\n",
       "      <td>11288.250000</td>\n",
       "    </tr>\n",
       "  </tbody>\n",
       "</table>\n",
       "</div>"
      ],
      "text/plain": [
       "                               uu_id  countyfips  tract  \\\n",
       "0   585f8731c2255d6b3f817a31180848b9       18177    200   \n",
       "1   8c9d2aa90948679972a9382aadcc6001       18177    900   \n",
       "2   0f3d45341a5b113b813ffb7be7f58bab       18183  50300   \n",
       "3   fb55464f8e34af6d750d06968bf719b8       18183  50400   \n",
       "4   983badfd7b568728e39a2344a9006078       18001  30200   \n",
       "5   3ebec5c7e13f05f1772dae73f3a1f5e0       18003  11302   \n",
       "6   4e47a34030916597b6293593de5016a2       18003   2300   \n",
       "7   9b461ff4ed0094dc132cb01b2e1db9ba       18003   2800   \n",
       "8   f013068de98db1470bd986137a0c6d23       18003    900   \n",
       "9   d9f6293ea290fd5f01904c594b5a90b9       18003  10821   \n",
       "10  842c96eacb965c2a1c0cbd6e51a7f741       18003   2000   \n",
       "11  7322dfe92403d20403f7a527ba733641       18003   3100   \n",
       "12  6167d550c0cdd68c799d372c5df97acb       18003  10819   \n",
       "13  489a93264d03adecc4589fd9cd34ad36       18003  10306   \n",
       "14  e847a8217e0447f92b06d59fa7c88982       18003   3000   \n",
       "15  1901b891f05515a8c22c05ef58baba38       18003  11608   \n",
       "16  2094eb904cf826728093f0e2713d2e30       18003  11501   \n",
       "17  d6d6aa73853ad771aaf7f972661fd2e6       18003  10305   \n",
       "18  f1bebcc62175d8c0c05ba9e63aa68b2e       18003  10601   \n",
       "19  45c8cf419dd4c4b442dbf3603ba94379       18003   3200   \n",
       "\n",
       "                                    tract_name  average_wage  \n",
       "0        Census Tract 2, Wayne County, Indiana   6612.000000  \n",
       "1        Census Tract 9, Wayne County, Indiana   9883.250000  \n",
       "2    Census Tract 503, Whitley County, Indiana  13992.250000  \n",
       "3    Census Tract 504, Whitley County, Indiana  13613.500000  \n",
       "4      Census Tract 302, Adams County, Indiana  11816.666667  \n",
       "5   Census Tract 113.02, Allen County, Indiana   9201.800000  \n",
       "6       Census Tract 23, Allen County, Indiana   7106.857143  \n",
       "7       Census Tract 28, Allen County, Indiana   7807.250000  \n",
       "8        Census Tract 9, Allen County, Indiana   8347.125000  \n",
       "9   Census Tract 108.21, Allen County, Indiana   6903.666667  \n",
       "10      Census Tract 20, Allen County, Indiana   8182.250000  \n",
       "11      Census Tract 31, Allen County, Indiana   8586.600000  \n",
       "12  Census Tract 108.19, Allen County, Indiana  14195.285714  \n",
       "13  Census Tract 103.06, Allen County, Indiana   9966.666667  \n",
       "14      Census Tract 30, Allen County, Indiana  10280.444444  \n",
       "15  Census Tract 116.08, Allen County, Indiana  14278.000000  \n",
       "16  Census Tract 115.01, Allen County, Indiana   8336.500000  \n",
       "17  Census Tract 103.05, Allen County, Indiana  21141.375000  \n",
       "18  Census Tract 106.01, Allen County, Indiana  11355.800000  \n",
       "19      Census Tract 32, Allen County, Indiana  11288.250000  "
      ]
     },
     "execution_count": 121,
     "metadata": {},
     "output_type": "execute_result"
    }
   ],
   "source": [
    "# QUERY THE DATA ONCE\n",
    "query_job = bigquery_client.query(query)\n",
    "wage_data = query_job.to_dataframe()\n",
    "wage_data.head(20)"
   ]
  },
  {
   "cell_type": "code",
   "execution_count": 122,
   "id": "ddfc76d0",
   "metadata": {
    "execution": {
     "iopub.execute_input": "2023-05-10T02:25:36.217011Z",
     "iopub.status.busy": "2023-05-10T02:25:36.216578Z",
     "iopub.status.idle": "2023-05-10T02:25:36.220589Z",
     "shell.execute_reply": "2023-05-10T02:25:36.219738Z"
    }
   },
   "outputs": [],
   "source": [
    "query = \"\"\"\n",
    "SELECT * FROM `ironhacks-data.ironhacks_competition.prediction_list`\n",
    "\"\"\""
   ]
  },
  {
   "cell_type": "code",
   "execution_count": 123,
   "id": "01ce7026",
   "metadata": {
    "execution": {
     "iopub.execute_input": "2023-05-10T02:25:36.224168Z",
     "iopub.status.busy": "2023-05-10T02:25:36.223700Z",
     "iopub.status.idle": "2023-05-10T02:25:37.773773Z",
     "shell.execute_reply": "2023-05-10T02:25:37.772678Z"
    }
   },
   "outputs": [
    {
     "data": {
      "text/html": [
       "<div>\n",
       "<style scoped>\n",
       "    .dataframe tbody tr th:only-of-type {\n",
       "        vertical-align: middle;\n",
       "    }\n",
       "\n",
       "    .dataframe tbody tr th {\n",
       "        vertical-align: top;\n",
       "    }\n",
       "\n",
       "    .dataframe thead th {\n",
       "        text-align: right;\n",
       "    }\n",
       "</style>\n",
       "<table border=\"1\" class=\"dataframe\">\n",
       "  <thead>\n",
       "    <tr style=\"text-align: right;\">\n",
       "      <th></th>\n",
       "      <th>uu_id</th>\n",
       "      <th>week_number</th>\n",
       "    </tr>\n",
       "  </thead>\n",
       "  <tbody>\n",
       "    <tr>\n",
       "      <th>0</th>\n",
       "      <td>5bf51fc2e162d6faf9e3cf79e4198378</td>\n",
       "      <td>44</td>\n",
       "    </tr>\n",
       "    <tr>\n",
       "      <th>1</th>\n",
       "      <td>420b44cc7e3f55d738df565421e59941</td>\n",
       "      <td>44</td>\n",
       "    </tr>\n",
       "    <tr>\n",
       "      <th>2</th>\n",
       "      <td>e39c66ecceec76ee8f9f811fa4a2d246</td>\n",
       "      <td>44</td>\n",
       "    </tr>\n",
       "    <tr>\n",
       "      <th>3</th>\n",
       "      <td>a90462cd11ae4e43144239bf7c4828a4</td>\n",
       "      <td>44</td>\n",
       "    </tr>\n",
       "    <tr>\n",
       "      <th>4</th>\n",
       "      <td>8b20a6749088c7ff1237983076ebfeaa</td>\n",
       "      <td>44</td>\n",
       "    </tr>\n",
       "    <tr>\n",
       "      <th>5</th>\n",
       "      <td>489a93264d03adecc4589fd9cd34ad36</td>\n",
       "      <td>44</td>\n",
       "    </tr>\n",
       "    <tr>\n",
       "      <th>6</th>\n",
       "      <td>f61f291c865fe4fe2bfd6dad53e5d058</td>\n",
       "      <td>44</td>\n",
       "    </tr>\n",
       "    <tr>\n",
       "      <th>7</th>\n",
       "      <td>f4520092ddd64f380cc29f27329112a6</td>\n",
       "      <td>44</td>\n",
       "    </tr>\n",
       "    <tr>\n",
       "      <th>8</th>\n",
       "      <td>447d5984bb8a8179bff002ccd1bba162</td>\n",
       "      <td>44</td>\n",
       "    </tr>\n",
       "    <tr>\n",
       "      <th>9</th>\n",
       "      <td>56d73815bdda97aca8e26051183ed3ba</td>\n",
       "      <td>44</td>\n",
       "    </tr>\n",
       "    <tr>\n",
       "      <th>10</th>\n",
       "      <td>050a624d618a68e43fe31189909c644f</td>\n",
       "      <td>44</td>\n",
       "    </tr>\n",
       "    <tr>\n",
       "      <th>11</th>\n",
       "      <td>5c43cbf8f0d860e91a9160706ea9b7d8</td>\n",
       "      <td>44</td>\n",
       "    </tr>\n",
       "    <tr>\n",
       "      <th>12</th>\n",
       "      <td>1400fd6122c6fe7582a30ee1280beb4b</td>\n",
       "      <td>44</td>\n",
       "    </tr>\n",
       "    <tr>\n",
       "      <th>13</th>\n",
       "      <td>02a7b845ab6b3fc2c09a50cdc486db2a</td>\n",
       "      <td>44</td>\n",
       "    </tr>\n",
       "    <tr>\n",
       "      <th>14</th>\n",
       "      <td>a993d47c7143bed2a187b0cac7d17983</td>\n",
       "      <td>44</td>\n",
       "    </tr>\n",
       "    <tr>\n",
       "      <th>15</th>\n",
       "      <td>09fbf26479f644ad33186ec51a90d65d</td>\n",
       "      <td>44</td>\n",
       "    </tr>\n",
       "    <tr>\n",
       "      <th>16</th>\n",
       "      <td>ce8723e47ce346b09bc20deb5d27749e</td>\n",
       "      <td>44</td>\n",
       "    </tr>\n",
       "    <tr>\n",
       "      <th>17</th>\n",
       "      <td>b67c2c4abede3730932f8d53aba0341a</td>\n",
       "      <td>44</td>\n",
       "    </tr>\n",
       "    <tr>\n",
       "      <th>18</th>\n",
       "      <td>68e5bdd9fde563b534c8a38dfddb6146</td>\n",
       "      <td>44</td>\n",
       "    </tr>\n",
       "    <tr>\n",
       "      <th>19</th>\n",
       "      <td>445ccda085809824099ff41f0ed427e5</td>\n",
       "      <td>44</td>\n",
       "    </tr>\n",
       "  </tbody>\n",
       "</table>\n",
       "</div>"
      ],
      "text/plain": [
       "                               uu_id  week_number\n",
       "0   5bf51fc2e162d6faf9e3cf79e4198378           44\n",
       "1   420b44cc7e3f55d738df565421e59941           44\n",
       "2   e39c66ecceec76ee8f9f811fa4a2d246           44\n",
       "3   a90462cd11ae4e43144239bf7c4828a4           44\n",
       "4   8b20a6749088c7ff1237983076ebfeaa           44\n",
       "5   489a93264d03adecc4589fd9cd34ad36           44\n",
       "6   f61f291c865fe4fe2bfd6dad53e5d058           44\n",
       "7   f4520092ddd64f380cc29f27329112a6           44\n",
       "8   447d5984bb8a8179bff002ccd1bba162           44\n",
       "9   56d73815bdda97aca8e26051183ed3ba           44\n",
       "10  050a624d618a68e43fe31189909c644f           44\n",
       "11  5c43cbf8f0d860e91a9160706ea9b7d8           44\n",
       "12  1400fd6122c6fe7582a30ee1280beb4b           44\n",
       "13  02a7b845ab6b3fc2c09a50cdc486db2a           44\n",
       "14  a993d47c7143bed2a187b0cac7d17983           44\n",
       "15  09fbf26479f644ad33186ec51a90d65d           44\n",
       "16  ce8723e47ce346b09bc20deb5d27749e           44\n",
       "17  b67c2c4abede3730932f8d53aba0341a           44\n",
       "18  68e5bdd9fde563b534c8a38dfddb6146           44\n",
       "19  445ccda085809824099ff41f0ed427e5           44"
      ]
     },
     "execution_count": 123,
     "metadata": {},
     "output_type": "execute_result"
    }
   ],
   "source": [
    "query_job = bigquery_client.query(query)\n",
    "data = query_job.to_dataframe()\n",
    "data.head(20)"
   ]
  },
  {
   "cell_type": "markdown",
   "id": "befa21e0",
   "metadata": {},
   "source": [
    "USING DATA SCIENCE OPERATIONS\n",
    "SOURCE: REALPYTHON https://realpython.com/numpy-tutorial/#using-ipython-notebooks-or-jupyterlab\n",
    "MASKING AND FILTERING - creating an array that has the same shape as your data"
   ]
  },
  {
   "cell_type": "code",
   "execution_count": 124,
   "id": "899e42d4",
   "metadata": {
    "execution": {
     "iopub.execute_input": "2023-05-10T02:25:37.778396Z",
     "iopub.status.busy": "2023-05-10T02:25:37.777819Z",
     "iopub.status.idle": "2023-05-10T02:25:37.786602Z",
     "shell.execute_reply": "2023-05-10T02:25:37.785524Z"
    }
   },
   "outputs": [
    {
     "data": {
      "text/plain": [
       "array([[ 5,  6,  8, 10, 12, 14],\n",
       "       [16, 18, 20, 22, 24, 26],\n",
       "       [28, 30, 32, 34, 36, 38],\n",
       "       [40, 42, 44, 46, 48, 50]])"
      ]
     },
     "execution_count": 124,
     "metadata": {},
     "output_type": "execute_result"
    }
   ],
   "source": [
    "import numpy as np\n",
    "numbers = np.linspace(5, 50, 24, dtype=int).reshape(4, -1)\n",
    "numbers"
   ]
  },
  {
   "cell_type": "markdown",
   "id": "7a27df45",
   "metadata": {},
   "source": [
    "USING DATA SCIENCE OPERATIONS\n",
    "SOURCE: REALPYTHON https://realpython.com/numpy-tutorial/#using-ipython-notebooks-or-jupyterlab\n",
    "MASKING AND FILTERING - creating an array that has the same shape as your data"
   ]
  },
  {
   "cell_type": "code",
   "execution_count": 125,
   "id": "659aa4d9",
   "metadata": {
    "execution": {
     "iopub.execute_input": "2023-05-10T02:25:37.791577Z",
     "iopub.status.busy": "2023-05-10T02:25:37.791191Z",
     "iopub.status.idle": "2023-05-10T02:25:37.796555Z",
     "shell.execute_reply": "2023-05-10T02:25:37.795965Z"
    }
   },
   "outputs": [
    {
     "data": {
      "text/plain": [
       "array([[False, False,  True, False,  True, False],\n",
       "       [ True, False,  True, False,  True, False],\n",
       "       [ True, False,  True, False,  True, False],\n",
       "       [ True, False,  True, False,  True, False]])"
      ]
     },
     "execution_count": 125,
     "metadata": {},
     "output_type": "execute_result"
    }
   ],
   "source": [
    "mask = numbers % 4 == 0\n",
    "mask"
   ]
  },
  {
   "cell_type": "code",
   "execution_count": 126,
   "id": "13f73393",
   "metadata": {
    "execution": {
     "iopub.execute_input": "2023-05-10T02:25:37.799811Z",
     "iopub.status.busy": "2023-05-10T02:25:37.799293Z",
     "iopub.status.idle": "2023-05-10T02:25:37.803860Z",
     "shell.execute_reply": "2023-05-10T02:25:37.803245Z"
    }
   },
   "outputs": [
    {
     "data": {
      "text/plain": [
       "array([ 8, 12, 16, 20, 24, 28, 32, 36, 40, 44, 48])"
      ]
     },
     "execution_count": 126,
     "metadata": {},
     "output_type": "execute_result"
    }
   ],
   "source": [
    "# Input 4 creates the mask\n",
    "numbers[mask]"
   ]
  },
  {
   "cell_type": "code",
   "execution_count": 127,
   "id": "c93b7f9c",
   "metadata": {
    "execution": {
     "iopub.execute_input": "2023-05-10T02:25:37.806921Z",
     "iopub.status.busy": "2023-05-10T02:25:37.806623Z",
     "iopub.status.idle": "2023-05-10T02:25:37.811187Z",
     "shell.execute_reply": "2023-05-10T02:25:37.810710Z"
    }
   },
   "outputs": [
    {
     "data": {
      "text/plain": [
       "array([ 8, 12, 16, 20, 24, 28, 32, 36, 40, 44, 48])"
      ]
     },
     "execution_count": 127,
     "metadata": {},
     "output_type": "execute_result"
    }
   ],
   "source": [
    "by_four = numbers[numbers % 4 == 0]\n",
    "by_four"
   ]
  },
  {
   "cell_type": "code",
   "execution_count": 128,
   "id": "2b175f65",
   "metadata": {
    "execution": {
     "iopub.execute_input": "2023-05-10T02:25:37.813653Z",
     "iopub.status.busy": "2023-05-10T02:25:37.813440Z",
     "iopub.status.idle": "2023-05-10T02:25:37.816037Z",
     "shell.execute_reply": "2023-05-10T02:25:37.815592Z"
    },
    "lines_to_next_cell": 2
   },
   "outputs": [],
   "source": [
    "# USING MATPLOTLIB - image\n",
    "# A WAY TO COMMUNICATE DATA AND RESULTS\n",
    "# UNEMPLOYMENT RATES OCTOBER 2022 - Indiana Image\n",
    "# SOURCE: http://www.stats.indiana.edu/maptools/laus.asp\n",
    "# insall image\n",
    "# using opencv\n",
    "path = \"http://www.stats.indiana.edu/maptools/laus.asp\""
   ]
  },
  {
   "cell_type": "code",
   "execution_count": 129,
   "id": "40e36182",
   "metadata": {
    "execution": {
     "iopub.execute_input": "2023-05-10T02:25:37.817999Z",
     "iopub.status.busy": "2023-05-10T02:25:37.817867Z",
     "iopub.status.idle": "2023-05-10T02:25:37.819843Z",
     "shell.execute_reply": "2023-05-10T02:25:37.819542Z"
    }
   },
   "outputs": [],
   "source": [
    "import numpy as np\n",
    "import matplotlib.image as mpimg"
   ]
  },
  {
   "cell_type": "code",
   "execution_count": 130,
   "id": "0b58cd11",
   "metadata": {
    "execution": {
     "iopub.execute_input": "2023-05-10T02:25:37.821648Z",
     "iopub.status.busy": "2023-05-10T02:25:37.821475Z",
     "iopub.status.idle": "2023-05-10T02:25:37.824611Z",
     "shell.execute_reply": "2023-05-10T02:25:37.824215Z"
    }
   },
   "outputs": [
    {
     "ename": "SyntaxError",
     "evalue": "invalid syntax (2913591077.py, line 1)",
     "output_type": "error",
     "traceback": [
      "\u001b[0;36m  Cell \u001b[0;32mIn [130], line 1\u001b[0;36m\u001b[0m\n\u001b[0;31m    img = mpimg.imread (http://www.stats.indiana.edu/maptools/laus.asp)\u001b[0m\n\u001b[0m                            ^\u001b[0m\n\u001b[0;31mSyntaxError\u001b[0m\u001b[0;31m:\u001b[0m invalid syntax\n"
     ]
    }
   ],
   "source": [
    "img = mpimg.imread (http://www.stats.indiana.edu/maptools/laus.asp)\n",
    "print(type(img) )\n",
    "print(img.shape )"
   ]
  },
  {
   "cell_type": "markdown",
   "id": "6c2194bc",
   "metadata": {},
   "source": [
    "# This can also be a good place for you to cleanup any input/output and export your results to a file.\n",
    "REFERENCE: https://www.askpython.com/python/examples/linear-regression-in-python"
   ]
  },
  {
   "cell_type": "markdown",
   "id": "bbe7f48f",
   "metadata": {
    "lines_to_next_cell": 2
   },
   "source": [
    "# This can also be a good place for you to cleanup any input/output and export your results to a file.\n",
    "REFERENCE: https://www.askpython.com/python/examples/linear-regression-in-python"
   ]
  }
 ],
 "metadata": {
  "jupytext": {
   "cell_metadata_filter": "-all",
   "main_language": "python",
   "notebook_metadata_filter": "-all"
  },
  "kernelspec": {
   "display_name": "base",
   "language": "python",
   "name": "python3"
  },
  "language_info": {
   "codemirror_mode": {
    "name": "ipython",
    "version": 3
   },
   "file_extension": ".py",
   "mimetype": "text/x-python",
   "name": "python",
   "nbconvert_exporter": "python",
   "pygments_lexer": "ipython3",
   "version": "3.9.12"
  }
 },
 "nbformat": 4,
 "nbformat_minor": 5
}
