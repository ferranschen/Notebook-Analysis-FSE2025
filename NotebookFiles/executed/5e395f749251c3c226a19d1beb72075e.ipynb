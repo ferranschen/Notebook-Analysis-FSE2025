{
 "cells": [
  {
   "cell_type": "code",
   "execution_count": 1,
   "id": "4ddb8265",
   "metadata": {
    "execution": {
     "iopub.execute_input": "2023-05-09T23:15:10.518173Z",
     "iopub.status.busy": "2023-05-09T23:15:10.518052Z",
     "iopub.status.idle": "2023-05-09T23:15:10.527100Z",
     "shell.execute_reply": "2023-05-09T23:15:10.526781Z"
    }
   },
   "outputs": [],
   "source": [
    "get_ipython().run_cell_magic('capture', '', \"%logstop\\n%logstart -t -r -q ipython_command_log.py global\\n\\n#- IRONHACKS RESEARCH TRACKING CODE\\n#----------------------------------\\n# The following code is used to help our research team understand how you \\n# our notebook environment. We do not collect any personal information with\\n# the following code, it is used to measure when and how often you work on\\n# your submission files.\\n\\nimport os\\nfrom datetime import datetime\\nimport IPython.core.history as history\\n\\nha = history.HistoryAccessor()\\nha_tail = ha.get_tail(1)\\nha_cmd = next(ha_tail)\\nsession_id = str(ha_cmd[0])\\ncommand_id = str(ha_cmd[1])\\ntimestamp = datetime.utcnow().isoformat()\\nhistory_line = ','.join([session_id, command_id, timestamp]) + '\\\\n'\\nlogfile = open(os.environ['HOME']+'/ipython_session_log.csv', 'a')\\nlogfile.write(history_line)\\nlogfile.close()\\n\")"
   ]
  },
  {
   "cell_type": "code",
   "execution_count": 2,
   "id": "bde21441",
   "metadata": {
    "execution": {
     "iopub.execute_input": "2023-05-09T23:15:10.528799Z",
     "iopub.status.busy": "2023-05-09T23:15:10.528686Z",
     "iopub.status.idle": "2023-05-09T23:15:11.616388Z",
     "shell.execute_reply": "2023-05-09T23:15:11.615727Z"
    }
   },
   "outputs": [],
   "source": [
    "get_ipython().run_cell_magic('capture', '', \"\\n#- INSTALL ADDITIONAL LIBRARIES IF REQUIRED\\n#------------------------------------------\\n# This is normally not required. The hub environment comes preinstaled with \\n# many packages that you can already use without setup. In case there is some\\n# other library you would like to use that isn't on the list you run this command\\n# once to install them.  If it is already installed this command has no effect.\\n\\n!python3 -m pip install pandas db-dtypes\\n\")"
   ]
  },
  {
   "cell_type": "markdown",
   "id": "73299ee9",
   "metadata": {},
   "source": [
    "- IMPORT THE LIBRARIES YOU WILL USE\n",
    "------------------------------------------\n",
    "You only need to import packages one time per notebook session. To keep your\n",
    "notebook clean and organized you can handle all imports at the top of your file.\n",
    "The following are included for example purposed, feel free to modify or delete \n",
    "anything in this section."
   ]
  },
  {
   "cell_type": "code",
   "execution_count": 3,
   "id": "faa245fc",
   "metadata": {
    "execution": {
     "iopub.execute_input": "2023-05-09T23:15:11.619215Z",
     "iopub.status.busy": "2023-05-09T23:15:11.619013Z",
     "iopub.status.idle": "2023-05-09T23:15:12.001413Z",
     "shell.execute_reply": "2023-05-09T23:15:12.001110Z"
    },
    "lines_to_next_cell": 1
   },
   "outputs": [],
   "source": [
    "import csv\n",
    "import pandas as pd\n",
    "import numpy as np\n",
    "from google.cloud import bigquery\n",
    "from google.oauth2 import service_account\n",
    "from google.cloud.bigquery import magics"
   ]
  },
  {
   "cell_type": "markdown",
   "id": "2a0ba7d6",
   "metadata": {},
   "source": [
    "- DEFINE YOUR CLASSES AND FUNCTIONS \n",
    "-----------------------------------\n",
    "This is not required, but is helpful in keeping your notebook organized. \n",
    "You can use the following cell or several cells to define your functions\n",
    "and classes to keep them separate from your analysis or results code.\n",
    "In general it useful to define your methods in a separate cell from where\n",
    "it is run."
   ]
  },
  {
   "cell_type": "code",
   "execution_count": 4,
   "id": "f14a33e5",
   "metadata": {
    "execution": {
     "iopub.execute_input": "2023-05-09T23:15:12.003133Z",
     "iopub.status.busy": "2023-05-09T23:15:12.003000Z",
     "iopub.status.idle": "2023-05-09T23:15:12.004754Z",
     "shell.execute_reply": "2023-05-09T23:15:12.004522Z"
    },
    "lines_to_next_cell": 1
   },
   "outputs": [],
   "source": [
    "def example_function():\n",
    "    print('Hello World')"
   ]
  },
  {
   "cell_type": "code",
   "execution_count": 5,
   "id": "af98b2a6",
   "metadata": {
    "execution": {
     "iopub.execute_input": "2023-05-09T23:15:12.006122Z",
     "iopub.status.busy": "2023-05-09T23:15:12.006038Z",
     "iopub.status.idle": "2023-05-09T23:15:12.012782Z",
     "shell.execute_reply": "2023-05-09T23:15:12.012468Z"
    }
   },
   "outputs": [],
   "source": [
    "BIGQUERY_PROJECT = 'ironhacks-data'\n",
    "bigquery_client = bigquery.Client(project=BIGQUERY_PROJECT)"
   ]
  },
  {
   "cell_type": "code",
   "execution_count": 6,
   "id": "03abad0a",
   "metadata": {
    "execution": {
     "iopub.execute_input": "2023-05-09T23:15:12.014347Z",
     "iopub.status.busy": "2023-05-09T23:15:12.014251Z",
     "iopub.status.idle": "2023-05-09T23:15:12.016310Z",
     "shell.execute_reply": "2023-05-09T23:15:12.016089Z"
    }
   },
   "outputs": [],
   "source": [
    "query = \"\"\"\n",
    "SELECT *\n",
    "FROM `ironhacks-data.ironhacks_competition.unemployment_data`\n",
    "\"\"\""
   ]
  },
  {
   "cell_type": "code",
   "execution_count": 7,
   "id": "c09bb890",
   "metadata": {
    "execution": {
     "iopub.execute_input": "2023-05-09T23:15:12.017679Z",
     "iopub.status.busy": "2023-05-09T23:15:12.017564Z",
     "iopub.status.idle": "2023-05-09T23:15:13.609649Z",
     "shell.execute_reply": "2023-05-09T23:15:13.608743Z"
    }
   },
   "outputs": [
    {
     "name": "stdout",
     "output_type": "stream",
     "text": [
      "                                  uu_id  timeperiod  week_number  countyfips  \\\n",
      "0      f013068de98db1470bd986137a0c6d23    20220416           16       18003   \n",
      "1      21957d5517323845818d87623589e1ba    20220319           12       18089   \n",
      "2      6a5609f385912113b6f1014b958ed748    20220326           13       18089   \n",
      "3      46b2882ec4c373527ec33f7bd4f1388d    20220716           29       18089   \n",
      "4      37495d17e82f7df326bfc2c4c090f7b7    20220409           15       18089   \n",
      "...                                 ...         ...          ...         ...   \n",
      "16828  f35320206f3dd1ffc411e4ac127caf92    20220618           25       18163   \n",
      "16829  f35320206f3dd1ffc411e4ac127caf92    20220827           35       18163   \n",
      "16830  f35320206f3dd1ffc411e4ac127caf92    20220827           35       18163   \n",
      "16831  bbcb018f0e5e49e13636f6e78ce9f60f    20220326           13       18163   \n",
      "16832  bbcb018f0e5e49e13636f6e78ce9f60f    20220416           16       18163   \n",
      "\n",
      "       tract                                        tract_name  total_claims  \\\n",
      "0        900             Census Tract 9, Allen County, Indiana            22   \n",
      "1      10400            Census Tract 104, Lake County, Indiana           111   \n",
      "2      11500            Census Tract 115, Lake County, Indiana            39   \n",
      "3      20700            Census Tract 207, Lake County, Indiana            14   \n",
      "4      21900            Census Tract 219, Lake County, Indiana           155   \n",
      "...      ...                                               ...           ...   \n",
      "16828   3804   Census Tract 38.04, Vanderburgh County, Indiana            21   \n",
      "16829   3804   Census Tract 38.04, Vanderburgh County, Indiana            22   \n",
      "16830   3804   Census Tract 38.04, Vanderburgh County, Indiana            22   \n",
      "16831  10203  Census Tract 102.03, Vanderburgh County, Indiana            53   \n",
      "16832  10203  Census Tract 102.03, Vanderburgh County, Indiana            24   \n",
      "\n",
      "       edu_8th_or_less  edu_grades_9_11  edu_hs_grad_equiv  ...  \\\n",
      "0                    0             <NA>                 14  ...   \n",
      "1                    0             <NA>                108  ...   \n",
      "2                    0             <NA>               <NA>  ...   \n",
      "3                    0             <NA>               <NA>  ...   \n",
      "4                    0             <NA>                 69  ...   \n",
      "...                ...              ...                ...  ...   \n",
      "16828                0             <NA>               <NA>  ...   \n",
      "16829                0             <NA>                 13  ...   \n",
      "16830                0             <NA>                 13  ...   \n",
      "16831                0             <NA>                 48  ...   \n",
      "16832                0             <NA>                 18  ...   \n",
      "\n",
      "       gender_female  gender_male gender_na race_amerindian race_asian  \\\n",
      "0               <NA>         <NA>         0               0          0   \n",
      "1                 76           35         0               0          0   \n",
      "2               <NA>         <NA>         0               0          0   \n",
      "3               <NA>         <NA>         0               0       <NA>   \n",
      "4                 90           65         0               0          0   \n",
      "...              ...          ...       ...             ...        ...   \n",
      "16828           <NA>         <NA>         0               0          0   \n",
      "16829           <NA>         <NA>         0               0          0   \n",
      "16830           <NA>         <NA>         0               0          0   \n",
      "16831           <NA>         <NA>         0               0          0   \n",
      "16832             11           13         0               0       <NA>   \n",
      "\n",
      "       race_black  race_noanswer  race_hawaiiannative  race_other  race_white  \n",
      "0              11              0                    0        <NA>        <NA>  \n",
      "1            <NA>           <NA>                    0           0           0  \n",
      "2              39              0                    0           0           0  \n",
      "3              10              0                    0        <NA>        <NA>  \n",
      "4             135           <NA>                 <NA>        <NA>        <NA>  \n",
      "...           ...            ...                  ...         ...         ...  \n",
      "16828        <NA>           <NA>                    0        <NA>          14  \n",
      "16829        <NA>           <NA>                    0        <NA>        <NA>  \n",
      "16830        <NA>           <NA>                    0        <NA>        <NA>  \n",
      "16831        <NA>           <NA>                    0           0        <NA>  \n",
      "16832        <NA>           <NA>                    0           0        <NA>  \n",
      "\n",
      "[16833 rows x 25 columns]\n"
     ]
    }
   ],
   "source": [
    "query_job = bigquery_client.query(query)\n",
    "unemployment_data = query_job.to_dataframe()\n",
    "print(unemployment_data)"
   ]
  },
  {
   "cell_type": "code",
   "execution_count": 8,
   "id": "c130e9c5",
   "metadata": {
    "execution": {
     "iopub.execute_input": "2023-05-09T23:15:13.613994Z",
     "iopub.status.busy": "2023-05-09T23:15:13.613674Z",
     "iopub.status.idle": "2023-05-09T23:15:13.617910Z",
     "shell.execute_reply": "2023-05-09T23:15:13.617070Z"
    }
   },
   "outputs": [],
   "source": [
    "query = \"\"\"\n",
    "SELECT *\n",
    "FROM `ironhacks-data.ironhacks_competition.wage_data`\n",
    "\"\"\""
   ]
  },
  {
   "cell_type": "code",
   "execution_count": 9,
   "id": "eb1f8501",
   "metadata": {
    "execution": {
     "iopub.execute_input": "2023-05-09T23:15:13.622455Z",
     "iopub.status.busy": "2023-05-09T23:15:13.622010Z",
     "iopub.status.idle": "2023-05-09T23:15:15.282816Z",
     "shell.execute_reply": "2023-05-09T23:15:15.281772Z"
    }
   },
   "outputs": [
    {
     "name": "stdout",
     "output_type": "stream",
     "text": [
      "                                uu_id  countyfips   tract  \\\n",
      "0    585f8731c2255d6b3f817a31180848b9       18177     200   \n",
      "1    8c9d2aa90948679972a9382aadcc6001       18177     900   \n",
      "2    0f3d45341a5b113b813ffb7be7f58bab       18183   50300   \n",
      "3    fb55464f8e34af6d750d06968bf719b8       18183   50400   \n",
      "4    983badfd7b568728e39a2344a9006078       18001   30200   \n",
      "..                                ...         ...     ...   \n",
      "520  4a6ae3b5be1b9b7c10c177e1b9fded82       18169  102800   \n",
      "521  e0e676badd59e9b1f2ecf853d2ca1ecb       18173   30500   \n",
      "522  4338a76c28b57d89da8a28cf06adcf73       18173   30600   \n",
      "523  3224483a60925de51923d51b10a00141       18173   30800   \n",
      "524  7b67eb2512a721025efe5cb967a38aff       18173   30400   \n",
      "\n",
      "                                    tract_name  average_wage  \n",
      "0        Census Tract 2, Wayne County, Indiana   6612.000000  \n",
      "1        Census Tract 9, Wayne County, Indiana   9883.250000  \n",
      "2    Census Tract 503, Whitley County, Indiana  13992.250000  \n",
      "3    Census Tract 504, Whitley County, Indiana  13613.500000  \n",
      "4      Census Tract 302, Adams County, Indiana  11816.666667  \n",
      "..                                         ...           ...  \n",
      "520  Census Tract 1028, Wabash County, Indiana   7061.200000  \n",
      "521  Census Tract 305, Warrick County, Indiana   8687.000000  \n",
      "522  Census Tract 306, Warrick County, Indiana  11917.375000  \n",
      "523  Census Tract 308, Warrick County, Indiana  15117.700000  \n",
      "524  Census Tract 304, Warrick County, Indiana   9386.000000  \n",
      "\n",
      "[525 rows x 5 columns]\n"
     ]
    }
   ],
   "source": [
    "query_job = bigquery_client.query(query)\n",
    "wage_data = query_job.to_dataframe()\n",
    "print(wage_data)"
   ]
  },
  {
   "cell_type": "code",
   "execution_count": 10,
   "id": "539a987e",
   "metadata": {
    "execution": {
     "iopub.execute_input": "2023-05-09T23:15:15.288475Z",
     "iopub.status.busy": "2023-05-09T23:15:15.287993Z",
     "iopub.status.idle": "2023-05-09T23:15:15.292865Z",
     "shell.execute_reply": "2023-05-09T23:15:15.292265Z"
    }
   },
   "outputs": [],
   "source": [
    "query = \"\"\"\n",
    "SELECT *\n",
    "FROM `ironhacks-data.ironhacks_competition.prediction_list`\n",
    "\"\"\""
   ]
  },
  {
   "cell_type": "code",
   "execution_count": 11,
   "id": "35e5586f",
   "metadata": {
    "execution": {
     "iopub.execute_input": "2023-05-09T23:15:15.297222Z",
     "iopub.status.busy": "2023-05-09T23:15:15.296702Z",
     "iopub.status.idle": "2023-05-09T23:15:16.934608Z",
     "shell.execute_reply": "2023-05-09T23:15:16.933604Z"
    }
   },
   "outputs": [
    {
     "name": "stdout",
     "output_type": "stream",
     "text": [
      "                                uu_id  week_number\n",
      "0    5bf51fc2e162d6faf9e3cf79e4198378           44\n",
      "1    420b44cc7e3f55d738df565421e59941           44\n",
      "2    e39c66ecceec76ee8f9f811fa4a2d246           44\n",
      "3    a90462cd11ae4e43144239bf7c4828a4           44\n",
      "4    8b20a6749088c7ff1237983076ebfeaa           44\n",
      "..                                ...          ...\n",
      "520  46c4f6c75e663b1ca82ea7994e6d83d3           44\n",
      "521  1deebda501712e7595b531b8337bc31a           44\n",
      "522  5a9758f65f001b6432ff31ff64a459d7           44\n",
      "523  e8b3b95e93a6dc7dbb90f4e72e7ac065           44\n",
      "524  932a58530abff8a48558e2a15639d453           44\n",
      "\n",
      "[525 rows x 2 columns]\n"
     ]
    }
   ],
   "source": [
    "query_job = bigquery_client.query(query)\n",
    "prediction_list = query_job.to_dataframe()\n",
    "print(prediction_list)"
   ]
  },
  {
   "cell_type": "code",
   "execution_count": 12,
   "id": "c80eb984",
   "metadata": {
    "execution": {
     "iopub.execute_input": "2023-05-09T23:15:16.939418Z",
     "iopub.status.busy": "2023-05-09T23:15:16.939054Z",
     "iopub.status.idle": "2023-05-09T23:15:16.955593Z",
     "shell.execute_reply": "2023-05-09T23:15:16.954688Z"
    }
   },
   "outputs": [
    {
     "data": {
      "text/plain": [
       "525"
      ]
     },
     "execution_count": 12,
     "metadata": {},
     "output_type": "execute_result"
    }
   ],
   "source": [
    "len(pd.unique(unemployment_data[\"uu_id\"]))"
   ]
  },
  {
   "cell_type": "code",
   "execution_count": 13,
   "id": "86389dc5",
   "metadata": {
    "execution": {
     "iopub.execute_input": "2023-05-09T23:15:16.959256Z",
     "iopub.status.busy": "2023-05-09T23:15:16.958663Z",
     "iopub.status.idle": "2023-05-09T23:15:16.963723Z",
     "shell.execute_reply": "2023-05-09T23:15:16.963204Z"
    }
   },
   "outputs": [
    {
     "name": "stdout",
     "output_type": "stream",
     "text": [
      "uu_id                          f013068de98db1470bd986137a0c6d23\n",
      "timeperiod                                             20220416\n",
      "week_number                                                  16\n",
      "countyfips                                                18003\n",
      "tract                                                       900\n",
      "tract_name                Census Tract 9, Allen County, Indiana\n",
      "total_claims                                                 22\n",
      "edu_8th_or_less                                               0\n",
      "edu_grades_9_11                                            <NA>\n",
      "edu_hs_grad_equiv                                            14\n",
      "edu_post_hs                                                <NA>\n",
      "edu_unknown                                                   0\n",
      "top_category_employer1                                    31-33\n",
      "top_category_employer2                                       51\n",
      "top_category_employer3                                       62\n",
      "gender_female                                              <NA>\n",
      "gender_male                                                <NA>\n",
      "gender_na                                                     0\n",
      "race_amerindian                                               0\n",
      "race_asian                                                    0\n",
      "race_black                                                   11\n",
      "race_noanswer                                                 0\n",
      "race_hawaiiannative                                           0\n",
      "race_other                                                 <NA>\n",
      "race_white                                                 <NA>\n",
      "Name: 0, dtype: object\n"
     ]
    }
   ],
   "source": [
    "print(unemployment_data.loc[0])"
   ]
  },
  {
   "cell_type": "code",
   "execution_count": 14,
   "id": "211d26dc",
   "metadata": {
    "execution": {
     "iopub.execute_input": "2023-05-09T23:15:16.966434Z",
     "iopub.status.busy": "2023-05-09T23:15:16.966229Z",
     "iopub.status.idle": "2023-05-09T23:15:16.981094Z",
     "shell.execute_reply": "2023-05-09T23:15:16.980650Z"
    }
   },
   "outputs": [],
   "source": [
    "# remove unnecessary colomns and combine unemployment data together with wages\n",
    "unemployment_sample = unemployment_data.copy()\n",
    "unemployment_sample = unemployment_sample.drop(['timeperiod', 'tract', 'tract_name', 'edu_8th_or_less', 'edu_grades_9_11', 'edu_hs_grad_equiv', 'edu_post_hs',\\\n",
    "                                               'edu_unknown', 'top_category_employer1', 'top_category_employer2', 'top_category_employer3', 'gender_female', 'gender_male',\\\n",
    "                                                'gender_na', 'race_amerindian', 'race_asian', 'race_black', 'race_noanswer', 'race_hawaiiannative',\\\n",
    "                                               'race_other', 'race_white'], axis=1)\n",
    "wage_sample = wage_data.copy()\n",
    "wage_sample.drop(['tract', 'tract_name'], axis=1)\n",
    "prediction_sample = prediction_list.copy()\n",
    "wages_dict = {i:wage_sample[\"average_wage\"].values[k] for k,i in enumerate(wage_sample[\"uu_id\"])}\n",
    "wage_list = [wages_dict[i]  for i in unemployment_sample[\"uu_id\"]]\n",
    "# print(wages_dict)\n",
    "unemployment_sample[\"average_wage\"] = wage_list"
   ]
  },
  {
   "cell_type": "code",
   "execution_count": 15,
   "id": "3f46d7ec",
   "metadata": {
    "execution": {
     "iopub.execute_input": "2023-05-09T23:15:16.983368Z",
     "iopub.status.busy": "2023-05-09T23:15:16.983185Z",
     "iopub.status.idle": "2023-05-09T23:15:16.986073Z",
     "shell.execute_reply": "2023-05-09T23:15:16.985674Z"
    }
   },
   "outputs": [],
   "source": [
    "tract_dic = {i:k for k,i in enumerate(wage_sample[\"uu_id\"])}"
   ]
  },
  {
   "cell_type": "code",
   "execution_count": 16,
   "id": "189b9557",
   "metadata": {
    "execution": {
     "iopub.execute_input": "2023-05-09T23:15:16.988191Z",
     "iopub.status.busy": "2023-05-09T23:15:16.988015Z",
     "iopub.status.idle": "2023-05-09T23:15:16.995528Z",
     "shell.execute_reply": "2023-05-09T23:15:16.995156Z"
    }
   },
   "outputs": [],
   "source": [
    "unemployment_sample[\"uu_id\"] = [tract_dic[i] for i in unemployment_sample[\"uu_id\"]]"
   ]
  },
  {
   "cell_type": "code",
   "execution_count": 17,
   "id": "d4721289",
   "metadata": {
    "execution": {
     "iopub.execute_input": "2023-05-09T23:15:16.997348Z",
     "iopub.status.busy": "2023-05-09T23:15:16.997207Z",
     "iopub.status.idle": "2023-05-09T23:15:17.000067Z",
     "shell.execute_reply": "2023-05-09T23:15:16.999733Z"
    }
   },
   "outputs": [
    {
     "name": "stdout",
     "output_type": "stream",
     "text": [
      "uu_id                 236.0\n",
      "week_number            12.0\n",
      "countyfips          18089.0\n",
      "total_claims          111.0\n",
      "average_wage    7036.636364\n",
      "Name: 1, dtype: Float64\n"
     ]
    }
   ],
   "source": [
    "print(unemployment_sample.loc[1])"
   ]
  },
  {
   "cell_type": "code",
   "execution_count": 18,
   "id": "d635a2dc",
   "metadata": {
    "execution": {
     "iopub.execute_input": "2023-05-09T23:15:17.001784Z",
     "iopub.status.busy": "2023-05-09T23:15:17.001641Z",
     "iopub.status.idle": "2023-05-09T23:15:17.005867Z",
     "shell.execute_reply": "2023-05-09T23:15:17.005541Z"
    }
   },
   "outputs": [],
   "source": [
    "X = unemployment_sample.drop([\"total_claims\"], axis=1).to_numpy() #to_numpy() values\n",
    "y = unemployment_sample['total_claims'].to_numpy()   #to_numpy() values\n",
    "# print(X.shape,y.shape)"
   ]
  },
  {
   "cell_type": "code",
   "execution_count": 19,
   "id": "cc40a063",
   "metadata": {
    "execution": {
     "iopub.execute_input": "2023-05-09T23:15:17.007594Z",
     "iopub.status.busy": "2023-05-09T23:15:17.007483Z",
     "iopub.status.idle": "2023-05-09T23:15:17.295892Z",
     "shell.execute_reply": "2023-05-09T23:15:17.295592Z"
    }
   },
   "outputs": [],
   "source": [
    "from sklearn.model_selection import train_test_split \n",
    "from sklearn.linear_model import LinearRegression\n",
    "from sklearn import metrics"
   ]
  },
  {
   "cell_type": "code",
   "execution_count": 20,
   "id": "53e7ae42",
   "metadata": {
    "execution": {
     "iopub.execute_input": "2023-05-09T23:15:17.297710Z",
     "iopub.status.busy": "2023-05-09T23:15:17.297534Z",
     "iopub.status.idle": "2023-05-09T23:15:17.300549Z",
     "shell.execute_reply": "2023-05-09T23:15:17.300317Z"
    }
   },
   "outputs": [],
   "source": [
    "X_train, X_test, y_train, y_test = train_test_split(X, y, test_size=0.2, random_state=0)"
   ]
  },
  {
   "cell_type": "code",
   "execution_count": 21,
   "id": "fec96fc2",
   "metadata": {
    "execution": {
     "iopub.execute_input": "2023-05-09T23:15:17.301996Z",
     "iopub.status.busy": "2023-05-09T23:15:17.301905Z",
     "iopub.status.idle": "2023-05-09T23:15:17.307533Z",
     "shell.execute_reply": "2023-05-09T23:15:17.307315Z"
    }
   },
   "outputs": [
    {
     "data": {
      "text/html": [
       "<style>#sk-container-id-1 {color: black;background-color: white;}#sk-container-id-1 pre{padding: 0;}#sk-container-id-1 div.sk-toggleable {background-color: white;}#sk-container-id-1 label.sk-toggleable__label {cursor: pointer;display: block;width: 100%;margin-bottom: 0;padding: 0.3em;box-sizing: border-box;text-align: center;}#sk-container-id-1 label.sk-toggleable__label-arrow:before {content: \"▸\";float: left;margin-right: 0.25em;color: #696969;}#sk-container-id-1 label.sk-toggleable__label-arrow:hover:before {color: black;}#sk-container-id-1 div.sk-estimator:hover label.sk-toggleable__label-arrow:before {color: black;}#sk-container-id-1 div.sk-toggleable__content {max-height: 0;max-width: 0;overflow: hidden;text-align: left;background-color: #f0f8ff;}#sk-container-id-1 div.sk-toggleable__content pre {margin: 0.2em;color: black;border-radius: 0.25em;background-color: #f0f8ff;}#sk-container-id-1 input.sk-toggleable__control:checked~div.sk-toggleable__content {max-height: 200px;max-width: 100%;overflow: auto;}#sk-container-id-1 input.sk-toggleable__control:checked~label.sk-toggleable__label-arrow:before {content: \"▾\";}#sk-container-id-1 div.sk-estimator input.sk-toggleable__control:checked~label.sk-toggleable__label {background-color: #d4ebff;}#sk-container-id-1 div.sk-label input.sk-toggleable__control:checked~label.sk-toggleable__label {background-color: #d4ebff;}#sk-container-id-1 input.sk-hidden--visually {border: 0;clip: rect(1px 1px 1px 1px);clip: rect(1px, 1px, 1px, 1px);height: 1px;margin: -1px;overflow: hidden;padding: 0;position: absolute;width: 1px;}#sk-container-id-1 div.sk-estimator {font-family: monospace;background-color: #f0f8ff;border: 1px dotted black;border-radius: 0.25em;box-sizing: border-box;margin-bottom: 0.5em;}#sk-container-id-1 div.sk-estimator:hover {background-color: #d4ebff;}#sk-container-id-1 div.sk-parallel-item::after {content: \"\";width: 100%;border-bottom: 1px solid gray;flex-grow: 1;}#sk-container-id-1 div.sk-label:hover label.sk-toggleable__label {background-color: #d4ebff;}#sk-container-id-1 div.sk-serial::before {content: \"\";position: absolute;border-left: 1px solid gray;box-sizing: border-box;top: 0;bottom: 0;left: 50%;z-index: 0;}#sk-container-id-1 div.sk-serial {display: flex;flex-direction: column;align-items: center;background-color: white;padding-right: 0.2em;padding-left: 0.2em;position: relative;}#sk-container-id-1 div.sk-item {position: relative;z-index: 1;}#sk-container-id-1 div.sk-parallel {display: flex;align-items: stretch;justify-content: center;background-color: white;position: relative;}#sk-container-id-1 div.sk-item::before, #sk-container-id-1 div.sk-parallel-item::before {content: \"\";position: absolute;border-left: 1px solid gray;box-sizing: border-box;top: 0;bottom: 0;left: 50%;z-index: -1;}#sk-container-id-1 div.sk-parallel-item {display: flex;flex-direction: column;z-index: 1;position: relative;background-color: white;}#sk-container-id-1 div.sk-parallel-item:first-child::after {align-self: flex-end;width: 50%;}#sk-container-id-1 div.sk-parallel-item:last-child::after {align-self: flex-start;width: 50%;}#sk-container-id-1 div.sk-parallel-item:only-child::after {width: 0;}#sk-container-id-1 div.sk-dashed-wrapped {border: 1px dashed gray;margin: 0 0.4em 0.5em 0.4em;box-sizing: border-box;padding-bottom: 0.4em;background-color: white;}#sk-container-id-1 div.sk-label label {font-family: monospace;font-weight: bold;display: inline-block;line-height: 1.2em;}#sk-container-id-1 div.sk-label-container {text-align: center;}#sk-container-id-1 div.sk-container {/* jupyter's `normalize.less` sets `[hidden] { display: none; }` but bootstrap.min.css set `[hidden] { display: none !important; }` so we also need the `!important` here to be able to override the default hidden behavior on the sphinx rendered scikit-learn.org. See: https://github.com/scikit-learn/scikit-learn/issues/21755 */display: inline-block !important;position: relative;}#sk-container-id-1 div.sk-text-repr-fallback {display: none;}</style><div id=\"sk-container-id-1\" class=\"sk-top-container\"><div class=\"sk-text-repr-fallback\"><pre>LinearRegression()</pre><b>In a Jupyter environment, please rerun this cell to show the HTML representation or trust the notebook. <br />On GitHub, the HTML representation is unable to render, please try loading this page with nbviewer.org.</b></div><div class=\"sk-container\" hidden><div class=\"sk-item\"><div class=\"sk-estimator sk-toggleable\"><input class=\"sk-toggleable__control sk-hidden--visually\" id=\"sk-estimator-id-1\" type=\"checkbox\" checked><label for=\"sk-estimator-id-1\" class=\"sk-toggleable__label sk-toggleable__label-arrow\">LinearRegression</label><div class=\"sk-toggleable__content\"><pre>LinearRegression()</pre></div></div></div></div></div>"
      ],
      "text/plain": [
       "LinearRegression()"
      ]
     },
     "execution_count": 21,
     "metadata": {},
     "output_type": "execute_result"
    }
   ],
   "source": [
    "regressor = LinearRegression()  \n",
    "regressor.fit(X_train, y_train) #training the algorithm"
   ]
  },
  {
   "cell_type": "markdown",
   "id": "48a9e7b0",
   "metadata": {},
   "source": [
    "#To retrieve the intercept:\n",
    "print(regressor.intercept_)"
   ]
  },
  {
   "cell_type": "markdown",
   "id": "2bd9c0a2",
   "metadata": {},
   "source": [
    "#For retrieving the slope:\n",
    "print(regressor.coef_)"
   ]
  },
  {
   "cell_type": "code",
   "execution_count": 22,
   "id": "8543d7c7",
   "metadata": {
    "execution": {
     "iopub.execute_input": "2023-05-09T23:15:17.308937Z",
     "iopub.status.busy": "2023-05-09T23:15:17.308854Z",
     "iopub.status.idle": "2023-05-09T23:15:17.312907Z",
     "shell.execute_reply": "2023-05-09T23:15:17.312615Z"
    }
   },
   "outputs": [],
   "source": [
    "X = unemployment_sample.drop([\"total_claims\"], axis=1).to_numpy() #to_numpy() values\n",
    "y = unemployment_sample['total_claims'].to_numpy()   #to_numpy() values\n",
    "# print(X.shape,y.shape)"
   ]
  },
  {
   "cell_type": "code",
   "execution_count": 23,
   "id": "9175c66f",
   "metadata": {
    "execution": {
     "iopub.execute_input": "2023-05-09T23:15:17.314336Z",
     "iopub.status.busy": "2023-05-09T23:15:17.314252Z",
     "iopub.status.idle": "2023-05-09T23:15:17.315962Z",
     "shell.execute_reply": "2023-05-09T23:15:17.315723Z"
    }
   },
   "outputs": [
    {
     "name": "stdout",
     "output_type": "stream",
     "text": [
      "[[8 16 18003 8347.125]\n",
      " [236 12 18089 7036.636363636364]\n",
      " [243 13 18089 7890.142857142857]\n",
      " ...\n",
      " [502 35 18163 13163.083333333334]\n",
      " [509 13 18163 10040.111111111111]\n",
      " [509 16 18163 10040.111111111111]]\n"
     ]
    }
   ],
   "source": [
    "print(X)"
   ]
  },
  {
   "cell_type": "code",
   "execution_count": 24,
   "id": "4bef968f",
   "metadata": {
    "execution": {
     "iopub.execute_input": "2023-05-09T23:15:17.317338Z",
     "iopub.status.busy": "2023-05-09T23:15:17.317259Z",
     "iopub.status.idle": "2023-05-09T23:15:17.319168Z",
     "shell.execute_reply": "2023-05-09T23:15:17.318929Z"
    }
   },
   "outputs": [
    {
     "name": "stdout",
     "output_type": "stream",
     "text": [
      "[22 111 39 ... 22 53 24]\n"
     ]
    }
   ],
   "source": [
    "print(y)"
   ]
  },
  {
   "cell_type": "code",
   "execution_count": 25,
   "id": "845356dd",
   "metadata": {
    "execution": {
     "iopub.execute_input": "2023-05-09T23:15:17.320490Z",
     "iopub.status.busy": "2023-05-09T23:15:17.320405Z",
     "iopub.status.idle": "2023-05-09T23:15:17.322260Z",
     "shell.execute_reply": "2023-05-09T23:15:17.322034Z"
    }
   },
   "outputs": [
    {
     "name": "stdout",
     "output_type": "stream",
     "text": [
      "[[8 16 18003 8347.125]\n",
      " [236 12 18089 7036.636363636364]\n",
      " [243 13 18089 7890.142857142857]\n",
      " ...\n",
      " [502 35 18163 13163.083333333334]\n",
      " [509 13 18163 10040.111111111111]\n",
      " [509 16 18163 10040.111111111111]]\n"
     ]
    }
   ],
   "source": [
    "print(X)"
   ]
  },
  {
   "cell_type": "code",
   "execution_count": 26,
   "id": "655f8415",
   "metadata": {
    "execution": {
     "iopub.execute_input": "2023-05-09T23:15:17.323582Z",
     "iopub.status.busy": "2023-05-09T23:15:17.323502Z",
     "iopub.status.idle": "2023-05-09T23:15:17.357187Z",
     "shell.execute_reply": "2023-05-09T23:15:17.356972Z"
    }
   },
   "outputs": [],
   "source": [
    "for k,i in enumerate(X):\n",
    "    if np.nan in i:\n",
    "        print(k,i)"
   ]
  },
  {
   "cell_type": "code",
   "execution_count": 27,
   "id": "adc77b77",
   "metadata": {
    "execution": {
     "iopub.execute_input": "2023-05-09T23:15:17.358511Z",
     "iopub.status.busy": "2023-05-09T23:15:17.358424Z",
     "iopub.status.idle": "2023-05-09T23:15:17.416942Z",
     "shell.execute_reply": "2023-05-09T23:15:17.416699Z"
    }
   },
   "outputs": [
    {
     "name": "stderr",
     "output_type": "stream",
     "text": [
      "/var/folders/l2/cnhff0_n1470l4xf0p7v7l_40000gn/T/ipykernel_14470/3468756.py:2: DeprecationWarning: `np.int` is a deprecated alias for the builtin `int`. To silence this warning, use `int` by itself. Doing this will not modify any behavior and is safe. When replacing `np.int`, you may wish to use e.g. `np.int64` or `np.int32` to specify the precision. If you wish to review your current use, check the release note link for additional information.\n",
      "Deprecated in NumPy 1.20; for more details and guidance: https://numpy.org/devdocs/release/1.20.0-notes.html#deprecations\n",
      "  if np.int in i:\n"
     ]
    }
   ],
   "source": [
    "for k,i in enumerate(X):\n",
    "    if np.int in i:\n",
    "        print(k,i)"
   ]
  },
  {
   "cell_type": "code",
   "execution_count": 28,
   "id": "116b4457",
   "metadata": {
    "execution": {
     "iopub.execute_input": "2023-05-09T23:15:17.418339Z",
     "iopub.status.busy": "2023-05-09T23:15:17.418255Z",
     "iopub.status.idle": "2023-05-09T23:15:17.498291Z",
     "shell.execute_reply": "2023-05-09T23:15:17.498012Z"
    }
   },
   "outputs": [
    {
     "ename": "AttributeError",
     "evalue": "module 'pandas' has no attribute 'nan'",
     "output_type": "error",
     "traceback": [
      "\u001b[0;31m---------------------------------------------------------------------------\u001b[0m",
      "\u001b[0;31mAttributeError\u001b[0m                            Traceback (most recent call last)",
      "Cell \u001b[0;32mIn [28], line 2\u001b[0m\n\u001b[1;32m      1\u001b[0m \u001b[38;5;28;01mfor\u001b[39;00m k,i \u001b[38;5;129;01min\u001b[39;00m \u001b[38;5;28menumerate\u001b[39m(X):\n\u001b[0;32m----> 2\u001b[0m     \u001b[38;5;28;01mif\u001b[39;00m \u001b[43mpd\u001b[49m\u001b[38;5;241;43m.\u001b[39;49m\u001b[43mnan\u001b[49m \u001b[38;5;129;01min\u001b[39;00m i:\n\u001b[1;32m      3\u001b[0m         \u001b[38;5;28mprint\u001b[39m(k,i)\n",
      "File \u001b[0;32m/opt/homebrew/lib/python3.9/site-packages/pandas/__init__.py:264\u001b[0m, in \u001b[0;36m__getattr__\u001b[0;34m(name)\u001b[0m\n\u001b[1;32m    260\u001b[0m     \u001b[38;5;28;01mfrom\u001b[39;00m \u001b[38;5;21;01mpandas\u001b[39;00m\u001b[38;5;21;01m.\u001b[39;00m\u001b[38;5;21;01mcore\u001b[39;00m\u001b[38;5;21;01m.\u001b[39;00m\u001b[38;5;21;01marrays\u001b[39;00m\u001b[38;5;21;01m.\u001b[39;00m\u001b[38;5;21;01msparse\u001b[39;00m \u001b[38;5;28;01mimport\u001b[39;00m SparseArray \u001b[38;5;28;01mas\u001b[39;00m _SparseArray\n\u001b[1;32m    262\u001b[0m     \u001b[38;5;28;01mreturn\u001b[39;00m _SparseArray\n\u001b[0;32m--> 264\u001b[0m \u001b[38;5;28;01mraise\u001b[39;00m \u001b[38;5;167;01mAttributeError\u001b[39;00m(\u001b[38;5;124mf\u001b[39m\u001b[38;5;124m\"\u001b[39m\u001b[38;5;124mmodule \u001b[39m\u001b[38;5;124m'\u001b[39m\u001b[38;5;124mpandas\u001b[39m\u001b[38;5;124m'\u001b[39m\u001b[38;5;124m has no attribute \u001b[39m\u001b[38;5;124m'\u001b[39m\u001b[38;5;132;01m{\u001b[39;00mname\u001b[38;5;132;01m}\u001b[39;00m\u001b[38;5;124m'\u001b[39m\u001b[38;5;124m\"\u001b[39m)\n",
      "\u001b[0;31mAttributeError\u001b[0m: module 'pandas' has no attribute 'nan'"
     ]
    }
   ],
   "source": [
    "for k,i in enumerate(X):\n",
    "    if pd.nan in i:\n",
    "        print(k,i)"
   ]
  },
  {
   "cell_type": "code",
   "execution_count": 29,
   "id": "d88caae0",
   "metadata": {
    "execution": {
     "iopub.execute_input": "2023-05-09T23:15:17.499812Z",
     "iopub.status.busy": "2023-05-09T23:15:17.499706Z",
     "iopub.status.idle": "2023-05-09T23:15:17.501819Z",
     "shell.execute_reply": "2023-05-09T23:15:17.501572Z"
    }
   },
   "outputs": [
    {
     "ename": "SyntaxError",
     "evalue": "invalid syntax (397597801.py, line 3)",
     "output_type": "error",
     "traceback": [
      "\u001b[0;36m  Cell \u001b[0;32mIn [29], line 3\u001b[0;36m\u001b[0m\n\u001b[0;31m    if pd.isna(j)\u001b[0m\n\u001b[0m                 ^\u001b[0m\n\u001b[0;31mSyntaxError\u001b[0m\u001b[0;31m:\u001b[0m invalid syntax\n"
     ]
    }
   ],
   "source": [
    "for k,i in enumerate(X):\n",
    "    for j in i:\n",
    "        if pd.isna(j)\n",
    "            print(k,i)"
   ]
  },
  {
   "cell_type": "code",
   "execution_count": 30,
   "id": "de60d6bd",
   "metadata": {
    "execution": {
     "iopub.execute_input": "2023-05-09T23:15:17.503152Z",
     "iopub.status.busy": "2023-05-09T23:15:17.503049Z",
     "iopub.status.idle": "2023-05-09T23:15:17.523479Z",
     "shell.execute_reply": "2023-05-09T23:15:17.523260Z"
    }
   },
   "outputs": [],
   "source": [
    "for k,i in enumerate(X):\n",
    "    for j in i:\n",
    "        if pd.isna(j):\n",
    "            print(k,i)"
   ]
  },
  {
   "cell_type": "code",
   "execution_count": 31,
   "id": "b28424c1",
   "metadata": {
    "execution": {
     "iopub.execute_input": "2023-05-09T23:15:17.524827Z",
     "iopub.status.busy": "2023-05-09T23:15:17.524741Z",
     "iopub.status.idle": "2023-05-09T23:15:17.530058Z",
     "shell.execute_reply": "2023-05-09T23:15:17.529807Z"
    }
   },
   "outputs": [],
   "source": [
    "for k,i in enumerate(wage_list):\n",
    "    if pd.isna(i):\n",
    "        print(k,i)\n",
    "    # for j in i:\n",
    "    #     if pd.isna(j):\n",
    "    #         print(k,i)"
   ]
  },
  {
   "cell_type": "code",
   "execution_count": 32,
   "id": "fb602a4d",
   "metadata": {
    "execution": {
     "iopub.execute_input": "2023-05-09T23:15:17.531462Z",
     "iopub.status.busy": "2023-05-09T23:15:17.531389Z",
     "iopub.status.idle": "2023-05-09T23:15:17.539019Z",
     "shell.execute_reply": "2023-05-09T23:15:17.538755Z"
    }
   },
   "outputs": [],
   "source": [
    "# remove unnecessary colomns and combine unemployment data together with wages\n",
    "unemployment_sample = unemployment_data.copy()\n",
    "unemployment_sample = unemployment_sample.drop(['timeperiod', 'tract', 'tract_name', 'edu_8th_or_less', 'edu_grades_9_11', 'edu_hs_grad_equiv', 'edu_post_hs',\\\n",
    "                                               'edu_unknown', 'top_category_employer1', 'top_category_employer2', 'top_category_employer3', 'gender_female', 'gender_male',\\\n",
    "                                                'gender_na', 'race_amerindian', 'race_asian', 'race_black', 'race_noanswer', 'race_hawaiiannative',\\\n",
    "                                               'race_other', 'race_white'], axis=1)\n",
    "wage_sample = wage_data.copy()\n",
    "wage_sample.drop(['tract', 'tract_name'], axis=1)\n",
    "prediction_sample = prediction_list.copy()\n",
    "wages_dict = {i:wage_sample[\"average_wage\"].values[k] for k,i in enumerate(wage_sample[\"uu_id\"])}\n",
    "wage_list = [wages_dict[i]  for i in unemployment_sample[\"uu_id\"]]\n",
    "# print(wages_dict)\n",
    "unemployment_sample[\"average_wage\"] = wage_list"
   ]
  },
  {
   "cell_type": "code",
   "execution_count": 33,
   "id": "bd0cdaaa",
   "metadata": {
    "execution": {
     "iopub.execute_input": "2023-05-09T23:15:17.540467Z",
     "iopub.status.busy": "2023-05-09T23:15:17.540381Z",
     "iopub.status.idle": "2023-05-09T23:15:17.542293Z",
     "shell.execute_reply": "2023-05-09T23:15:17.542071Z"
    }
   },
   "outputs": [],
   "source": [
    "tract_dic = {i:k for k,i in enumerate(wage_sample[\"uu_id\"])}"
   ]
  },
  {
   "cell_type": "code",
   "execution_count": 34,
   "id": "54a8cc2d",
   "metadata": {
    "execution": {
     "iopub.execute_input": "2023-05-09T23:15:17.543623Z",
     "iopub.status.busy": "2023-05-09T23:15:17.543543Z",
     "iopub.status.idle": "2023-05-09T23:15:17.547984Z",
     "shell.execute_reply": "2023-05-09T23:15:17.547756Z"
    }
   },
   "outputs": [],
   "source": [
    "unemployment_sample[\"uu_id\"] = [tract_dic[i] for i in unemployment_sample[\"uu_id\"]]"
   ]
  },
  {
   "cell_type": "code",
   "execution_count": 35,
   "id": "da59399d",
   "metadata": {
    "execution": {
     "iopub.execute_input": "2023-05-09T23:15:17.549342Z",
     "iopub.status.busy": "2023-05-09T23:15:17.549262Z",
     "iopub.status.idle": "2023-05-09T23:15:17.551616Z",
     "shell.execute_reply": "2023-05-09T23:15:17.551374Z"
    }
   },
   "outputs": [],
   "source": [
    "unemployment_sample = unemployment_sample.dropna()"
   ]
  },
  {
   "cell_type": "code",
   "execution_count": 36,
   "id": "7958ca03",
   "metadata": {
    "execution": {
     "iopub.execute_input": "2023-05-09T23:15:17.552896Z",
     "iopub.status.busy": "2023-05-09T23:15:17.552820Z",
     "iopub.status.idle": "2023-05-09T23:15:17.555068Z",
     "shell.execute_reply": "2023-05-09T23:15:17.554820Z"
    }
   },
   "outputs": [
    {
     "name": "stdout",
     "output_type": "stream",
     "text": [
      "uu_id                 236.0\n",
      "week_number            12.0\n",
      "countyfips          18089.0\n",
      "total_claims          111.0\n",
      "average_wage    7036.636364\n",
      "Name: 1, dtype: Float64\n"
     ]
    }
   ],
   "source": [
    "print(unemployment_sample.loc[1])"
   ]
  },
  {
   "cell_type": "code",
   "execution_count": 37,
   "id": "d1749003",
   "metadata": {
    "execution": {
     "iopub.execute_input": "2023-05-09T23:15:17.556357Z",
     "iopub.status.busy": "2023-05-09T23:15:17.556280Z",
     "iopub.status.idle": "2023-05-09T23:15:17.559846Z",
     "shell.execute_reply": "2023-05-09T23:15:17.559601Z"
    }
   },
   "outputs": [],
   "source": [
    "X = unemployment_sample.drop([\"total_claims\"], axis=1).to_numpy() #to_numpy() values\n",
    "y = unemployment_sample['total_claims'].to_numpy()   #to_numpy() values\n",
    "# print(X.shape,y.shape)"
   ]
  },
  {
   "cell_type": "code",
   "execution_count": 38,
   "id": "b8198359",
   "metadata": {
    "execution": {
     "iopub.execute_input": "2023-05-09T23:15:17.561268Z",
     "iopub.status.busy": "2023-05-09T23:15:17.561186Z",
     "iopub.status.idle": "2023-05-09T23:15:17.566481Z",
     "shell.execute_reply": "2023-05-09T23:15:17.566250Z"
    }
   },
   "outputs": [],
   "source": [
    "for k,i in enumerate(wage_list):\n",
    "    if pd.isna(i):\n",
    "        print(k,i)\n",
    "    # for j in i:\n",
    "    #     if pd.isna(j):\n",
    "    #         print(k,i)"
   ]
  },
  {
   "cell_type": "code",
   "execution_count": 39,
   "id": "17f1e6d4",
   "metadata": {
    "execution": {
     "iopub.execute_input": "2023-05-09T23:15:17.567862Z",
     "iopub.status.busy": "2023-05-09T23:15:17.567783Z",
     "iopub.status.idle": "2023-05-09T23:15:17.588175Z",
     "shell.execute_reply": "2023-05-09T23:15:17.587916Z"
    }
   },
   "outputs": [],
   "source": [
    "for k,i in enumerate(X):\n",
    "    for j in i:\n",
    "        if pd.isna(j):\n",
    "            print(k,i)"
   ]
  },
  {
   "cell_type": "code",
   "execution_count": 40,
   "id": "2a02aa6b",
   "metadata": {
    "execution": {
     "iopub.execute_input": "2023-05-09T23:15:17.589557Z",
     "iopub.status.busy": "2023-05-09T23:15:17.589476Z",
     "iopub.status.idle": "2023-05-09T23:15:17.591117Z",
     "shell.execute_reply": "2023-05-09T23:15:17.590878Z"
    }
   },
   "outputs": [],
   "source": [
    "from sklearn.model_selection import train_test_split \n",
    "from sklearn.linear_model import LinearRegression\n",
    "from sklearn import metrics"
   ]
  },
  {
   "cell_type": "code",
   "execution_count": 41,
   "id": "f600f001",
   "metadata": {
    "execution": {
     "iopub.execute_input": "2023-05-09T23:15:17.592362Z",
     "iopub.status.busy": "2023-05-09T23:15:17.592288Z",
     "iopub.status.idle": "2023-05-09T23:15:17.595190Z",
     "shell.execute_reply": "2023-05-09T23:15:17.594959Z"
    }
   },
   "outputs": [],
   "source": [
    "X_train, X_test, y_train, y_test = train_test_split(X, y, test_size=0.2, random_state=0)"
   ]
  },
  {
   "cell_type": "code",
   "execution_count": 42,
   "id": "2316c4fd",
   "metadata": {
    "execution": {
     "iopub.execute_input": "2023-05-09T23:15:17.596534Z",
     "iopub.status.busy": "2023-05-09T23:15:17.596453Z",
     "iopub.status.idle": "2023-05-09T23:15:17.601505Z",
     "shell.execute_reply": "2023-05-09T23:15:17.601281Z"
    }
   },
   "outputs": [
    {
     "data": {
      "text/html": [
       "<style>#sk-container-id-2 {color: black;background-color: white;}#sk-container-id-2 pre{padding: 0;}#sk-container-id-2 div.sk-toggleable {background-color: white;}#sk-container-id-2 label.sk-toggleable__label {cursor: pointer;display: block;width: 100%;margin-bottom: 0;padding: 0.3em;box-sizing: border-box;text-align: center;}#sk-container-id-2 label.sk-toggleable__label-arrow:before {content: \"▸\";float: left;margin-right: 0.25em;color: #696969;}#sk-container-id-2 label.sk-toggleable__label-arrow:hover:before {color: black;}#sk-container-id-2 div.sk-estimator:hover label.sk-toggleable__label-arrow:before {color: black;}#sk-container-id-2 div.sk-toggleable__content {max-height: 0;max-width: 0;overflow: hidden;text-align: left;background-color: #f0f8ff;}#sk-container-id-2 div.sk-toggleable__content pre {margin: 0.2em;color: black;border-radius: 0.25em;background-color: #f0f8ff;}#sk-container-id-2 input.sk-toggleable__control:checked~div.sk-toggleable__content {max-height: 200px;max-width: 100%;overflow: auto;}#sk-container-id-2 input.sk-toggleable__control:checked~label.sk-toggleable__label-arrow:before {content: \"▾\";}#sk-container-id-2 div.sk-estimator input.sk-toggleable__control:checked~label.sk-toggleable__label {background-color: #d4ebff;}#sk-container-id-2 div.sk-label input.sk-toggleable__control:checked~label.sk-toggleable__label {background-color: #d4ebff;}#sk-container-id-2 input.sk-hidden--visually {border: 0;clip: rect(1px 1px 1px 1px);clip: rect(1px, 1px, 1px, 1px);height: 1px;margin: -1px;overflow: hidden;padding: 0;position: absolute;width: 1px;}#sk-container-id-2 div.sk-estimator {font-family: monospace;background-color: #f0f8ff;border: 1px dotted black;border-radius: 0.25em;box-sizing: border-box;margin-bottom: 0.5em;}#sk-container-id-2 div.sk-estimator:hover {background-color: #d4ebff;}#sk-container-id-2 div.sk-parallel-item::after {content: \"\";width: 100%;border-bottom: 1px solid gray;flex-grow: 1;}#sk-container-id-2 div.sk-label:hover label.sk-toggleable__label {background-color: #d4ebff;}#sk-container-id-2 div.sk-serial::before {content: \"\";position: absolute;border-left: 1px solid gray;box-sizing: border-box;top: 0;bottom: 0;left: 50%;z-index: 0;}#sk-container-id-2 div.sk-serial {display: flex;flex-direction: column;align-items: center;background-color: white;padding-right: 0.2em;padding-left: 0.2em;position: relative;}#sk-container-id-2 div.sk-item {position: relative;z-index: 1;}#sk-container-id-2 div.sk-parallel {display: flex;align-items: stretch;justify-content: center;background-color: white;position: relative;}#sk-container-id-2 div.sk-item::before, #sk-container-id-2 div.sk-parallel-item::before {content: \"\";position: absolute;border-left: 1px solid gray;box-sizing: border-box;top: 0;bottom: 0;left: 50%;z-index: -1;}#sk-container-id-2 div.sk-parallel-item {display: flex;flex-direction: column;z-index: 1;position: relative;background-color: white;}#sk-container-id-2 div.sk-parallel-item:first-child::after {align-self: flex-end;width: 50%;}#sk-container-id-2 div.sk-parallel-item:last-child::after {align-self: flex-start;width: 50%;}#sk-container-id-2 div.sk-parallel-item:only-child::after {width: 0;}#sk-container-id-2 div.sk-dashed-wrapped {border: 1px dashed gray;margin: 0 0.4em 0.5em 0.4em;box-sizing: border-box;padding-bottom: 0.4em;background-color: white;}#sk-container-id-2 div.sk-label label {font-family: monospace;font-weight: bold;display: inline-block;line-height: 1.2em;}#sk-container-id-2 div.sk-label-container {text-align: center;}#sk-container-id-2 div.sk-container {/* jupyter's `normalize.less` sets `[hidden] { display: none; }` but bootstrap.min.css set `[hidden] { display: none !important; }` so we also need the `!important` here to be able to override the default hidden behavior on the sphinx rendered scikit-learn.org. See: https://github.com/scikit-learn/scikit-learn/issues/21755 */display: inline-block !important;position: relative;}#sk-container-id-2 div.sk-text-repr-fallback {display: none;}</style><div id=\"sk-container-id-2\" class=\"sk-top-container\"><div class=\"sk-text-repr-fallback\"><pre>LinearRegression()</pre><b>In a Jupyter environment, please rerun this cell to show the HTML representation or trust the notebook. <br />On GitHub, the HTML representation is unable to render, please try loading this page with nbviewer.org.</b></div><div class=\"sk-container\" hidden><div class=\"sk-item\"><div class=\"sk-estimator sk-toggleable\"><input class=\"sk-toggleable__control sk-hidden--visually\" id=\"sk-estimator-id-2\" type=\"checkbox\" checked><label for=\"sk-estimator-id-2\" class=\"sk-toggleable__label sk-toggleable__label-arrow\">LinearRegression</label><div class=\"sk-toggleable__content\"><pre>LinearRegression()</pre></div></div></div></div></div>"
      ],
      "text/plain": [
       "LinearRegression()"
      ]
     },
     "execution_count": 42,
     "metadata": {},
     "output_type": "execute_result"
    }
   ],
   "source": [
    "regressor = LinearRegression()  \n",
    "regressor.fit(X_train, y_train) #training the algorithm"
   ]
  },
  {
   "cell_type": "markdown",
   "id": "a51eaaf4",
   "metadata": {},
   "source": [
    "#To retrieve the intercept:\n",
    "print(regressor.intercept_)"
   ]
  },
  {
   "cell_type": "markdown",
   "id": "eb136465",
   "metadata": {},
   "source": [
    "#For retrieving the slope:\n",
    "print(regressor.coef_)"
   ]
  },
  {
   "cell_type": "code",
   "execution_count": 43,
   "id": "1d75bcc5",
   "metadata": {
    "execution": {
     "iopub.execute_input": "2023-05-09T23:15:17.602864Z",
     "iopub.status.busy": "2023-05-09T23:15:17.602785Z",
     "iopub.status.idle": "2023-05-09T23:15:17.607983Z",
     "shell.execute_reply": "2023-05-09T23:15:17.607734Z"
    }
   },
   "outputs": [
    {
     "data": {
      "text/html": [
       "<style>#sk-container-id-3 {color: black;background-color: white;}#sk-container-id-3 pre{padding: 0;}#sk-container-id-3 div.sk-toggleable {background-color: white;}#sk-container-id-3 label.sk-toggleable__label {cursor: pointer;display: block;width: 100%;margin-bottom: 0;padding: 0.3em;box-sizing: border-box;text-align: center;}#sk-container-id-3 label.sk-toggleable__label-arrow:before {content: \"▸\";float: left;margin-right: 0.25em;color: #696969;}#sk-container-id-3 label.sk-toggleable__label-arrow:hover:before {color: black;}#sk-container-id-3 div.sk-estimator:hover label.sk-toggleable__label-arrow:before {color: black;}#sk-container-id-3 div.sk-toggleable__content {max-height: 0;max-width: 0;overflow: hidden;text-align: left;background-color: #f0f8ff;}#sk-container-id-3 div.sk-toggleable__content pre {margin: 0.2em;color: black;border-radius: 0.25em;background-color: #f0f8ff;}#sk-container-id-3 input.sk-toggleable__control:checked~div.sk-toggleable__content {max-height: 200px;max-width: 100%;overflow: auto;}#sk-container-id-3 input.sk-toggleable__control:checked~label.sk-toggleable__label-arrow:before {content: \"▾\";}#sk-container-id-3 div.sk-estimator input.sk-toggleable__control:checked~label.sk-toggleable__label {background-color: #d4ebff;}#sk-container-id-3 div.sk-label input.sk-toggleable__control:checked~label.sk-toggleable__label {background-color: #d4ebff;}#sk-container-id-3 input.sk-hidden--visually {border: 0;clip: rect(1px 1px 1px 1px);clip: rect(1px, 1px, 1px, 1px);height: 1px;margin: -1px;overflow: hidden;padding: 0;position: absolute;width: 1px;}#sk-container-id-3 div.sk-estimator {font-family: monospace;background-color: #f0f8ff;border: 1px dotted black;border-radius: 0.25em;box-sizing: border-box;margin-bottom: 0.5em;}#sk-container-id-3 div.sk-estimator:hover {background-color: #d4ebff;}#sk-container-id-3 div.sk-parallel-item::after {content: \"\";width: 100%;border-bottom: 1px solid gray;flex-grow: 1;}#sk-container-id-3 div.sk-label:hover label.sk-toggleable__label {background-color: #d4ebff;}#sk-container-id-3 div.sk-serial::before {content: \"\";position: absolute;border-left: 1px solid gray;box-sizing: border-box;top: 0;bottom: 0;left: 50%;z-index: 0;}#sk-container-id-3 div.sk-serial {display: flex;flex-direction: column;align-items: center;background-color: white;padding-right: 0.2em;padding-left: 0.2em;position: relative;}#sk-container-id-3 div.sk-item {position: relative;z-index: 1;}#sk-container-id-3 div.sk-parallel {display: flex;align-items: stretch;justify-content: center;background-color: white;position: relative;}#sk-container-id-3 div.sk-item::before, #sk-container-id-3 div.sk-parallel-item::before {content: \"\";position: absolute;border-left: 1px solid gray;box-sizing: border-box;top: 0;bottom: 0;left: 50%;z-index: -1;}#sk-container-id-3 div.sk-parallel-item {display: flex;flex-direction: column;z-index: 1;position: relative;background-color: white;}#sk-container-id-3 div.sk-parallel-item:first-child::after {align-self: flex-end;width: 50%;}#sk-container-id-3 div.sk-parallel-item:last-child::after {align-self: flex-start;width: 50%;}#sk-container-id-3 div.sk-parallel-item:only-child::after {width: 0;}#sk-container-id-3 div.sk-dashed-wrapped {border: 1px dashed gray;margin: 0 0.4em 0.5em 0.4em;box-sizing: border-box;padding-bottom: 0.4em;background-color: white;}#sk-container-id-3 div.sk-label label {font-family: monospace;font-weight: bold;display: inline-block;line-height: 1.2em;}#sk-container-id-3 div.sk-label-container {text-align: center;}#sk-container-id-3 div.sk-container {/* jupyter's `normalize.less` sets `[hidden] { display: none; }` but bootstrap.min.css set `[hidden] { display: none !important; }` so we also need the `!important` here to be able to override the default hidden behavior on the sphinx rendered scikit-learn.org. See: https://github.com/scikit-learn/scikit-learn/issues/21755 */display: inline-block !important;position: relative;}#sk-container-id-3 div.sk-text-repr-fallback {display: none;}</style><div id=\"sk-container-id-3\" class=\"sk-top-container\"><div class=\"sk-text-repr-fallback\"><pre>LinearRegression()</pre><b>In a Jupyter environment, please rerun this cell to show the HTML representation or trust the notebook. <br />On GitHub, the HTML representation is unable to render, please try loading this page with nbviewer.org.</b></div><div class=\"sk-container\" hidden><div class=\"sk-item\"><div class=\"sk-estimator sk-toggleable\"><input class=\"sk-toggleable__control sk-hidden--visually\" id=\"sk-estimator-id-3\" type=\"checkbox\" checked><label for=\"sk-estimator-id-3\" class=\"sk-toggleable__label sk-toggleable__label-arrow\">LinearRegression</label><div class=\"sk-toggleable__content\"><pre>LinearRegression()</pre></div></div></div></div></div>"
      ],
      "text/plain": [
       "LinearRegression()"
      ]
     },
     "execution_count": 43,
     "metadata": {},
     "output_type": "execute_result"
    }
   ],
   "source": [
    "regressor = LinearRegression()  \n",
    "regressor.fit(X_train, y_train) #training the algorithm"
   ]
  },
  {
   "cell_type": "code",
   "execution_count": 44,
   "id": "8104a5e7",
   "metadata": {
    "execution": {
     "iopub.execute_input": "2023-05-09T23:15:17.609344Z",
     "iopub.status.busy": "2023-05-09T23:15:17.609262Z",
     "iopub.status.idle": "2023-05-09T23:15:17.611067Z",
     "shell.execute_reply": "2023-05-09T23:15:17.610846Z"
    }
   },
   "outputs": [
    {
     "name": "stdout",
     "output_type": "stream",
     "text": [
      "465.96753093227784\n"
     ]
    }
   ],
   "source": [
    "#To retrieve the intercept:\n",
    "print(regressor.intercept_)"
   ]
  },
  {
   "cell_type": "code",
   "execution_count": 45,
   "id": "4c3ef648",
   "metadata": {
    "execution": {
     "iopub.execute_input": "2023-05-09T23:15:17.612423Z",
     "iopub.status.busy": "2023-05-09T23:15:17.612336Z",
     "iopub.status.idle": "2023-05-09T23:15:17.614223Z",
     "shell.execute_reply": "2023-05-09T23:15:17.613984Z"
    }
   },
   "outputs": [
    {
     "name": "stdout",
     "output_type": "stream",
     "text": [
      "[ 0.00501859 -0.06887925 -0.02433251 -0.00023549]\n"
     ]
    }
   ],
   "source": [
    "#For retrieving the slope:\n",
    "print(regressor.coef_)"
   ]
  },
  {
   "cell_type": "code",
   "execution_count": 46,
   "id": "0a4178fc",
   "metadata": {
    "execution": {
     "iopub.execute_input": "2023-05-09T23:15:17.615505Z",
     "iopub.status.busy": "2023-05-09T23:15:17.615426Z",
     "iopub.status.idle": "2023-05-09T23:15:17.627821Z",
     "shell.execute_reply": "2023-05-09T23:15:17.627107Z"
    }
   },
   "outputs": [
    {
     "data": {
      "text/html": [
       "<div>\n",
       "<style scoped>\n",
       "    .dataframe tbody tr th:only-of-type {\n",
       "        vertical-align: middle;\n",
       "    }\n",
       "\n",
       "    .dataframe tbody tr th {\n",
       "        vertical-align: top;\n",
       "    }\n",
       "\n",
       "    .dataframe thead th {\n",
       "        text-align: right;\n",
       "    }\n",
       "</style>\n",
       "<table border=\"1\" class=\"dataframe\">\n",
       "  <thead>\n",
       "    <tr style=\"text-align: right;\">\n",
       "      <th></th>\n",
       "      <th>Actual</th>\n",
       "      <th>Predicted</th>\n",
       "    </tr>\n",
       "  </thead>\n",
       "  <tbody>\n",
       "    <tr>\n",
       "      <th>0</th>\n",
       "      <td>45</td>\n",
       "      <td>22.676140</td>\n",
       "    </tr>\n",
       "    <tr>\n",
       "      <th>1</th>\n",
       "      <td>10</td>\n",
       "      <td>22.628223</td>\n",
       "    </tr>\n",
       "    <tr>\n",
       "      <th>2</th>\n",
       "      <td>16</td>\n",
       "      <td>24.366439</td>\n",
       "    </tr>\n",
       "    <tr>\n",
       "      <th>3</th>\n",
       "      <td>13</td>\n",
       "      <td>22.294855</td>\n",
       "    </tr>\n",
       "    <tr>\n",
       "      <th>4</th>\n",
       "      <td>44</td>\n",
       "      <td>23.213586</td>\n",
       "    </tr>\n",
       "    <tr>\n",
       "      <th>...</th>\n",
       "      <td>...</td>\n",
       "      <td>...</td>\n",
       "    </tr>\n",
       "    <tr>\n",
       "      <th>3362</th>\n",
       "      <td>14</td>\n",
       "      <td>23.931541</td>\n",
       "    </tr>\n",
       "    <tr>\n",
       "      <th>3363</th>\n",
       "      <td>11</td>\n",
       "      <td>21.391625</td>\n",
       "    </tr>\n",
       "    <tr>\n",
       "      <th>3364</th>\n",
       "      <td>50</td>\n",
       "      <td>22.503098</td>\n",
       "    </tr>\n",
       "    <tr>\n",
       "      <th>3365</th>\n",
       "      <td>28</td>\n",
       "      <td>22.471390</td>\n",
       "    </tr>\n",
       "    <tr>\n",
       "      <th>3366</th>\n",
       "      <td>13</td>\n",
       "      <td>24.935976</td>\n",
       "    </tr>\n",
       "  </tbody>\n",
       "</table>\n",
       "<p>3367 rows × 2 columns</p>\n",
       "</div>"
      ],
      "text/plain": [
       "     Actual  Predicted\n",
       "0        45  22.676140\n",
       "1        10  22.628223\n",
       "2        16  24.366439\n",
       "3        13  22.294855\n",
       "4        44  23.213586\n",
       "...     ...        ...\n",
       "3362     14  23.931541\n",
       "3363     11  21.391625\n",
       "3364     50  22.503098\n",
       "3365     28  22.471390\n",
       "3366     13  24.935976\n",
       "\n",
       "[3367 rows x 2 columns]"
      ]
     },
     "execution_count": 46,
     "metadata": {},
     "output_type": "execute_result"
    }
   ],
   "source": [
    "y_pred = regressor.predict(X_test)\n",
    "df = pd.DataFrame({'Actual': y_test.flatten(), 'Predicted': y_pred.flatten()})\n",
    "df"
   ]
  },
  {
   "cell_type": "code",
   "execution_count": 47,
   "id": "6f0b32d3",
   "metadata": {
    "execution": {
     "iopub.execute_input": "2023-05-09T23:15:17.631840Z",
     "iopub.status.busy": "2023-05-09T23:15:17.631537Z",
     "iopub.status.idle": "2023-05-09T23:15:17.646108Z",
     "shell.execute_reply": "2023-05-09T23:15:17.645437Z"
    }
   },
   "outputs": [
    {
     "data": {
      "text/html": [
       "<div>\n",
       "<style scoped>\n",
       "    .dataframe tbody tr th:only-of-type {\n",
       "        vertical-align: middle;\n",
       "    }\n",
       "\n",
       "    .dataframe tbody tr th {\n",
       "        vertical-align: top;\n",
       "    }\n",
       "\n",
       "    .dataframe thead th {\n",
       "        text-align: right;\n",
       "    }\n",
       "</style>\n",
       "<table border=\"1\" class=\"dataframe\">\n",
       "  <thead>\n",
       "    <tr style=\"text-align: right;\">\n",
       "      <th></th>\n",
       "      <th>Actual</th>\n",
       "      <th>Predicted</th>\n",
       "    </tr>\n",
       "  </thead>\n",
       "  <tbody>\n",
       "    <tr>\n",
       "      <th>0</th>\n",
       "      <td>45</td>\n",
       "      <td>22.676140</td>\n",
       "    </tr>\n",
       "    <tr>\n",
       "      <th>1</th>\n",
       "      <td>10</td>\n",
       "      <td>22.628223</td>\n",
       "    </tr>\n",
       "    <tr>\n",
       "      <th>2</th>\n",
       "      <td>16</td>\n",
       "      <td>24.366439</td>\n",
       "    </tr>\n",
       "    <tr>\n",
       "      <th>3</th>\n",
       "      <td>13</td>\n",
       "      <td>22.294855</td>\n",
       "    </tr>\n",
       "    <tr>\n",
       "      <th>4</th>\n",
       "      <td>44</td>\n",
       "      <td>23.213586</td>\n",
       "    </tr>\n",
       "    <tr>\n",
       "      <th>...</th>\n",
       "      <td>...</td>\n",
       "      <td>...</td>\n",
       "    </tr>\n",
       "    <tr>\n",
       "      <th>3362</th>\n",
       "      <td>14</td>\n",
       "      <td>23.931541</td>\n",
       "    </tr>\n",
       "    <tr>\n",
       "      <th>3363</th>\n",
       "      <td>11</td>\n",
       "      <td>21.391625</td>\n",
       "    </tr>\n",
       "    <tr>\n",
       "      <th>3364</th>\n",
       "      <td>50</td>\n",
       "      <td>22.503098</td>\n",
       "    </tr>\n",
       "    <tr>\n",
       "      <th>3365</th>\n",
       "      <td>28</td>\n",
       "      <td>22.471390</td>\n",
       "    </tr>\n",
       "    <tr>\n",
       "      <th>3366</th>\n",
       "      <td>13</td>\n",
       "      <td>24.935976</td>\n",
       "    </tr>\n",
       "  </tbody>\n",
       "</table>\n",
       "<p>3367 rows × 2 columns</p>\n",
       "</div>"
      ],
      "text/plain": [
       "     Actual  Predicted\n",
       "0        45  22.676140\n",
       "1        10  22.628223\n",
       "2        16  24.366439\n",
       "3        13  22.294855\n",
       "4        44  23.213586\n",
       "...     ...        ...\n",
       "3362     14  23.931541\n",
       "3363     11  21.391625\n",
       "3364     50  22.503098\n",
       "3365     28  22.471390\n",
       "3366     13  24.935976\n",
       "\n",
       "[3367 rows x 2 columns]"
      ]
     },
     "execution_count": 47,
     "metadata": {},
     "output_type": "execute_result"
    }
   ],
   "source": [
    "y_pred = regressor.predict(X_test)\n",
    "df = pd.DataFrame({'Actual': y_test.flatten(), 'Predicted': y_pred.flatten()})\n",
    "df"
   ]
  },
  {
   "cell_type": "code",
   "execution_count": 48,
   "id": "4333d827",
   "metadata": {
    "execution": {
     "iopub.execute_input": "2023-05-09T23:15:17.650031Z",
     "iopub.status.busy": "2023-05-09T23:15:17.649743Z",
     "iopub.status.idle": "2023-05-09T23:15:18.114012Z",
     "shell.execute_reply": "2023-05-09T23:15:18.113733Z"
    }
   },
   "outputs": [
    {
     "ename": "NameError",
     "evalue": "name 'plt' is not defined",
     "output_type": "error",
     "traceback": [
      "\u001b[0;31m---------------------------------------------------------------------------\u001b[0m",
      "\u001b[0;31mNameError\u001b[0m                                 Traceback (most recent call last)",
      "Cell \u001b[0;32mIn [48], line 3\u001b[0m\n\u001b[1;32m      1\u001b[0m df1 \u001b[38;5;241m=\u001b[39m df\u001b[38;5;241m.\u001b[39mhead(\u001b[38;5;241m25\u001b[39m)\n\u001b[1;32m      2\u001b[0m df1\u001b[38;5;241m.\u001b[39mplot(kind\u001b[38;5;241m=\u001b[39m\u001b[38;5;124m'\u001b[39m\u001b[38;5;124mbar\u001b[39m\u001b[38;5;124m'\u001b[39m,figsize\u001b[38;5;241m=\u001b[39m(\u001b[38;5;241m16\u001b[39m,\u001b[38;5;241m10\u001b[39m))\n\u001b[0;32m----> 3\u001b[0m \u001b[43mplt\u001b[49m\u001b[38;5;241m.\u001b[39mgrid(which\u001b[38;5;241m=\u001b[39m\u001b[38;5;124m'\u001b[39m\u001b[38;5;124mmajor\u001b[39m\u001b[38;5;124m'\u001b[39m, linestyle\u001b[38;5;241m=\u001b[39m\u001b[38;5;124m'\u001b[39m\u001b[38;5;124m-\u001b[39m\u001b[38;5;124m'\u001b[39m, linewidth\u001b[38;5;241m=\u001b[39m\u001b[38;5;124m'\u001b[39m\u001b[38;5;124m0.5\u001b[39m\u001b[38;5;124m'\u001b[39m, color\u001b[38;5;241m=\u001b[39m\u001b[38;5;124m'\u001b[39m\u001b[38;5;124mgreen\u001b[39m\u001b[38;5;124m'\u001b[39m)\n\u001b[1;32m      4\u001b[0m plt\u001b[38;5;241m.\u001b[39mgrid(which\u001b[38;5;241m=\u001b[39m\u001b[38;5;124m'\u001b[39m\u001b[38;5;124mminor\u001b[39m\u001b[38;5;124m'\u001b[39m, linestyle\u001b[38;5;241m=\u001b[39m\u001b[38;5;124m'\u001b[39m\u001b[38;5;124m:\u001b[39m\u001b[38;5;124m'\u001b[39m, linewidth\u001b[38;5;241m=\u001b[39m\u001b[38;5;124m'\u001b[39m\u001b[38;5;124m0.5\u001b[39m\u001b[38;5;124m'\u001b[39m, color\u001b[38;5;241m=\u001b[39m\u001b[38;5;124m'\u001b[39m\u001b[38;5;124mblack\u001b[39m\u001b[38;5;124m'\u001b[39m)\n\u001b[1;32m      5\u001b[0m plt\u001b[38;5;241m.\u001b[39mshow()\n",
      "\u001b[0;31mNameError\u001b[0m: name 'plt' is not defined"
     ]
    },
    {
     "data": {
      "image/png": "[encoded data removed]",
      "text/plain": [
       "<Figure size 1600x1000 with 1 Axes>"
      ]
     },
     "metadata": {},
     "output_type": "display_data"
    }
   ],
   "source": [
    "df1 = df.head(25)\n",
    "df1.plot(kind='bar',figsize=(16,10))\n",
    "plt.grid(which='major', linestyle='-', linewidth='0.5', color='green')\n",
    "plt.grid(which='minor', linestyle=':', linewidth='0.5', color='black')\n",
    "plt.show()"
   ]
  },
  {
   "cell_type": "code",
   "execution_count": 49,
   "id": "41c10a97",
   "metadata": {
    "execution": {
     "iopub.execute_input": "2023-05-09T23:15:18.115594Z",
     "iopub.status.busy": "2023-05-09T23:15:18.115476Z",
     "iopub.status.idle": "2023-05-09T23:15:18.117577Z",
     "shell.execute_reply": "2023-05-09T23:15:18.117330Z"
    }
   },
   "outputs": [],
   "source": [
    "from sklearn.model_selection import train_test_split \n",
    "from sklearn.linear_model import LinearRegression\n",
    "from sklearn import metrics\n",
    "import matplotlib.pyplot as plt "
   ]
  },
  {
   "cell_type": "code",
   "execution_count": 50,
   "id": "10810c93",
   "metadata": {
    "execution": {
     "iopub.execute_input": "2023-05-09T23:15:18.119020Z",
     "iopub.status.busy": "2023-05-09T23:15:18.118899Z",
     "iopub.status.idle": "2023-05-09T23:15:18.122091Z",
     "shell.execute_reply": "2023-05-09T23:15:18.121788Z"
    }
   },
   "outputs": [],
   "source": [
    "X_train, X_test, y_train, y_test = train_test_split(X, y, test_size=0.2, random_state=0)"
   ]
  },
  {
   "cell_type": "code",
   "execution_count": 51,
   "id": "f85c6166",
   "metadata": {
    "execution": {
     "iopub.execute_input": "2023-05-09T23:15:18.123509Z",
     "iopub.status.busy": "2023-05-09T23:15:18.123423Z",
     "iopub.status.idle": "2023-05-09T23:15:18.129002Z",
     "shell.execute_reply": "2023-05-09T23:15:18.128755Z"
    }
   },
   "outputs": [
    {
     "data": {
      "text/html": [
       "<style>#sk-container-id-4 {color: black;background-color: white;}#sk-container-id-4 pre{padding: 0;}#sk-container-id-4 div.sk-toggleable {background-color: white;}#sk-container-id-4 label.sk-toggleable__label {cursor: pointer;display: block;width: 100%;margin-bottom: 0;padding: 0.3em;box-sizing: border-box;text-align: center;}#sk-container-id-4 label.sk-toggleable__label-arrow:before {content: \"▸\";float: left;margin-right: 0.25em;color: #696969;}#sk-container-id-4 label.sk-toggleable__label-arrow:hover:before {color: black;}#sk-container-id-4 div.sk-estimator:hover label.sk-toggleable__label-arrow:before {color: black;}#sk-container-id-4 div.sk-toggleable__content {max-height: 0;max-width: 0;overflow: hidden;text-align: left;background-color: #f0f8ff;}#sk-container-id-4 div.sk-toggleable__content pre {margin: 0.2em;color: black;border-radius: 0.25em;background-color: #f0f8ff;}#sk-container-id-4 input.sk-toggleable__control:checked~div.sk-toggleable__content {max-height: 200px;max-width: 100%;overflow: auto;}#sk-container-id-4 input.sk-toggleable__control:checked~label.sk-toggleable__label-arrow:before {content: \"▾\";}#sk-container-id-4 div.sk-estimator input.sk-toggleable__control:checked~label.sk-toggleable__label {background-color: #d4ebff;}#sk-container-id-4 div.sk-label input.sk-toggleable__control:checked~label.sk-toggleable__label {background-color: #d4ebff;}#sk-container-id-4 input.sk-hidden--visually {border: 0;clip: rect(1px 1px 1px 1px);clip: rect(1px, 1px, 1px, 1px);height: 1px;margin: -1px;overflow: hidden;padding: 0;position: absolute;width: 1px;}#sk-container-id-4 div.sk-estimator {font-family: monospace;background-color: #f0f8ff;border: 1px dotted black;border-radius: 0.25em;box-sizing: border-box;margin-bottom: 0.5em;}#sk-container-id-4 div.sk-estimator:hover {background-color: #d4ebff;}#sk-container-id-4 div.sk-parallel-item::after {content: \"\";width: 100%;border-bottom: 1px solid gray;flex-grow: 1;}#sk-container-id-4 div.sk-label:hover label.sk-toggleable__label {background-color: #d4ebff;}#sk-container-id-4 div.sk-serial::before {content: \"\";position: absolute;border-left: 1px solid gray;box-sizing: border-box;top: 0;bottom: 0;left: 50%;z-index: 0;}#sk-container-id-4 div.sk-serial {display: flex;flex-direction: column;align-items: center;background-color: white;padding-right: 0.2em;padding-left: 0.2em;position: relative;}#sk-container-id-4 div.sk-item {position: relative;z-index: 1;}#sk-container-id-4 div.sk-parallel {display: flex;align-items: stretch;justify-content: center;background-color: white;position: relative;}#sk-container-id-4 div.sk-item::before, #sk-container-id-4 div.sk-parallel-item::before {content: \"\";position: absolute;border-left: 1px solid gray;box-sizing: border-box;top: 0;bottom: 0;left: 50%;z-index: -1;}#sk-container-id-4 div.sk-parallel-item {display: flex;flex-direction: column;z-index: 1;position: relative;background-color: white;}#sk-container-id-4 div.sk-parallel-item:first-child::after {align-self: flex-end;width: 50%;}#sk-container-id-4 div.sk-parallel-item:last-child::after {align-self: flex-start;width: 50%;}#sk-container-id-4 div.sk-parallel-item:only-child::after {width: 0;}#sk-container-id-4 div.sk-dashed-wrapped {border: 1px dashed gray;margin: 0 0.4em 0.5em 0.4em;box-sizing: border-box;padding-bottom: 0.4em;background-color: white;}#sk-container-id-4 div.sk-label label {font-family: monospace;font-weight: bold;display: inline-block;line-height: 1.2em;}#sk-container-id-4 div.sk-label-container {text-align: center;}#sk-container-id-4 div.sk-container {/* jupyter's `normalize.less` sets `[hidden] { display: none; }` but bootstrap.min.css set `[hidden] { display: none !important; }` so we also need the `!important` here to be able to override the default hidden behavior on the sphinx rendered scikit-learn.org. See: https://github.com/scikit-learn/scikit-learn/issues/21755 */display: inline-block !important;position: relative;}#sk-container-id-4 div.sk-text-repr-fallback {display: none;}</style><div id=\"sk-container-id-4\" class=\"sk-top-container\"><div class=\"sk-text-repr-fallback\"><pre>LinearRegression()</pre><b>In a Jupyter environment, please rerun this cell to show the HTML representation or trust the notebook. <br />On GitHub, the HTML representation is unable to render, please try loading this page with nbviewer.org.</b></div><div class=\"sk-container\" hidden><div class=\"sk-item\"><div class=\"sk-estimator sk-toggleable\"><input class=\"sk-toggleable__control sk-hidden--visually\" id=\"sk-estimator-id-4\" type=\"checkbox\" checked><label for=\"sk-estimator-id-4\" class=\"sk-toggleable__label sk-toggleable__label-arrow\">LinearRegression</label><div class=\"sk-toggleable__content\"><pre>LinearRegression()</pre></div></div></div></div></div>"
      ],
      "text/plain": [
       "LinearRegression()"
      ]
     },
     "execution_count": 51,
     "metadata": {},
     "output_type": "execute_result"
    }
   ],
   "source": [
    "regressor = LinearRegression()  \n",
    "regressor.fit(X_train, y_train) #training the algorithm"
   ]
  },
  {
   "cell_type": "code",
   "execution_count": 52,
   "id": "8a379131",
   "metadata": {
    "execution": {
     "iopub.execute_input": "2023-05-09T23:15:18.130604Z",
     "iopub.status.busy": "2023-05-09T23:15:18.130489Z",
     "iopub.status.idle": "2023-05-09T23:15:18.132484Z",
     "shell.execute_reply": "2023-05-09T23:15:18.132240Z"
    }
   },
   "outputs": [
    {
     "name": "stdout",
     "output_type": "stream",
     "text": [
      "465.96753093227784\n"
     ]
    }
   ],
   "source": [
    "#To retrieve the intercept:\n",
    "print(regressor.intercept_)"
   ]
  },
  {
   "cell_type": "code",
   "execution_count": 53,
   "id": "4a3dd5b8",
   "metadata": {
    "execution": {
     "iopub.execute_input": "2023-05-09T23:15:18.133950Z",
     "iopub.status.busy": "2023-05-09T23:15:18.133836Z",
     "iopub.status.idle": "2023-05-09T23:15:18.135929Z",
     "shell.execute_reply": "2023-05-09T23:15:18.135672Z"
    }
   },
   "outputs": [
    {
     "name": "stdout",
     "output_type": "stream",
     "text": [
      "[ 0.00501859 -0.06887925 -0.02433251 -0.00023549]\n"
     ]
    }
   ],
   "source": [
    "#For retrieving the slope:\n",
    "print(regressor.coef_)"
   ]
  },
  {
   "cell_type": "code",
   "execution_count": 54,
   "id": "fe8b13ec",
   "metadata": {
    "execution": {
     "iopub.execute_input": "2023-05-09T23:15:18.137303Z",
     "iopub.status.busy": "2023-05-09T23:15:18.137195Z",
     "iopub.status.idle": "2023-05-09T23:15:18.145519Z",
     "shell.execute_reply": "2023-05-09T23:15:18.144827Z"
    }
   },
   "outputs": [
    {
     "data": {
      "text/html": [
       "<div>\n",
       "<style scoped>\n",
       "    .dataframe tbody tr th:only-of-type {\n",
       "        vertical-align: middle;\n",
       "    }\n",
       "\n",
       "    .dataframe tbody tr th {\n",
       "        vertical-align: top;\n",
       "    }\n",
       "\n",
       "    .dataframe thead th {\n",
       "        text-align: right;\n",
       "    }\n",
       "</style>\n",
       "<table border=\"1\" class=\"dataframe\">\n",
       "  <thead>\n",
       "    <tr style=\"text-align: right;\">\n",
       "      <th></th>\n",
       "      <th>Actual</th>\n",
       "      <th>Predicted</th>\n",
       "    </tr>\n",
       "  </thead>\n",
       "  <tbody>\n",
       "    <tr>\n",
       "      <th>0</th>\n",
       "      <td>45</td>\n",
       "      <td>22.676140</td>\n",
       "    </tr>\n",
       "    <tr>\n",
       "      <th>1</th>\n",
       "      <td>10</td>\n",
       "      <td>22.628223</td>\n",
       "    </tr>\n",
       "    <tr>\n",
       "      <th>2</th>\n",
       "      <td>16</td>\n",
       "      <td>24.366439</td>\n",
       "    </tr>\n",
       "    <tr>\n",
       "      <th>3</th>\n",
       "      <td>13</td>\n",
       "      <td>22.294855</td>\n",
       "    </tr>\n",
       "    <tr>\n",
       "      <th>4</th>\n",
       "      <td>44</td>\n",
       "      <td>23.213586</td>\n",
       "    </tr>\n",
       "    <tr>\n",
       "      <th>...</th>\n",
       "      <td>...</td>\n",
       "      <td>...</td>\n",
       "    </tr>\n",
       "    <tr>\n",
       "      <th>3362</th>\n",
       "      <td>14</td>\n",
       "      <td>23.931541</td>\n",
       "    </tr>\n",
       "    <tr>\n",
       "      <th>3363</th>\n",
       "      <td>11</td>\n",
       "      <td>21.391625</td>\n",
       "    </tr>\n",
       "    <tr>\n",
       "      <th>3364</th>\n",
       "      <td>50</td>\n",
       "      <td>22.503098</td>\n",
       "    </tr>\n",
       "    <tr>\n",
       "      <th>3365</th>\n",
       "      <td>28</td>\n",
       "      <td>22.471390</td>\n",
       "    </tr>\n",
       "    <tr>\n",
       "      <th>3366</th>\n",
       "      <td>13</td>\n",
       "      <td>24.935976</td>\n",
       "    </tr>\n",
       "  </tbody>\n",
       "</table>\n",
       "<p>3367 rows × 2 columns</p>\n",
       "</div>"
      ],
      "text/plain": [
       "     Actual  Predicted\n",
       "0        45  22.676140\n",
       "1        10  22.628223\n",
       "2        16  24.366439\n",
       "3        13  22.294855\n",
       "4        44  23.213586\n",
       "...     ...        ...\n",
       "3362     14  23.931541\n",
       "3363     11  21.391625\n",
       "3364     50  22.503098\n",
       "3365     28  22.471390\n",
       "3366     13  24.935976\n",
       "\n",
       "[3367 rows x 2 columns]"
      ]
     },
     "execution_count": 54,
     "metadata": {},
     "output_type": "execute_result"
    }
   ],
   "source": [
    "y_pred = regressor.predict(X_test)\n",
    "df = pd.DataFrame({'Actual': y_test.flatten(), 'Predicted': y_pred.flatten()})\n",
    "df"
   ]
  },
  {
   "cell_type": "code",
   "execution_count": 55,
   "id": "9fe5ec9a",
   "metadata": {
    "execution": {
     "iopub.execute_input": "2023-05-09T23:15:18.149777Z",
     "iopub.status.busy": "2023-05-09T23:15:18.149469Z",
     "iopub.status.idle": "2023-05-09T23:15:18.450230Z",
     "shell.execute_reply": "2023-05-09T23:15:18.449944Z"
    }
   },
   "outputs": [
    {
     "data": {
      "image/png": "[encoded data removed]",
      "text/plain": [
       "<Figure size 1600x1000 with 1 Axes>"
      ]
     },
     "metadata": {},
     "output_type": "display_data"
    }
   ],
   "source": [
    "df1 = df.head(25)\n",
    "df1.plot(kind='bar',figsize=(16,10))\n",
    "plt.grid(which='major', linestyle='-', linewidth='0.5', color='green')\n",
    "plt.grid(which='minor', linestyle=':', linewidth='0.5', color='black')\n",
    "plt.show()"
   ]
  },
  {
   "cell_type": "code",
   "execution_count": 56,
   "id": "7b87ba39",
   "metadata": {
    "execution": {
     "iopub.execute_input": "2023-05-09T23:15:18.451749Z",
     "iopub.status.busy": "2023-05-09T23:15:18.451625Z",
     "iopub.status.idle": "2023-05-09T23:15:18.464437Z",
     "shell.execute_reply": "2023-05-09T23:15:18.463743Z"
    }
   },
   "outputs": [
    {
     "data": {
      "text/html": [
       "<div>\n",
       "<style scoped>\n",
       "    .dataframe tbody tr th:only-of-type {\n",
       "        vertical-align: middle;\n",
       "    }\n",
       "\n",
       "    .dataframe tbody tr th {\n",
       "        vertical-align: top;\n",
       "    }\n",
       "\n",
       "    .dataframe thead th {\n",
       "        text-align: right;\n",
       "    }\n",
       "</style>\n",
       "<table border=\"1\" class=\"dataframe\">\n",
       "  <thead>\n",
       "    <tr style=\"text-align: right;\">\n",
       "      <th></th>\n",
       "      <th>Actual</th>\n",
       "      <th>Predicted</th>\n",
       "    </tr>\n",
       "  </thead>\n",
       "  <tbody>\n",
       "    <tr>\n",
       "      <th>0</th>\n",
       "      <td>45</td>\n",
       "      <td>22.676140</td>\n",
       "    </tr>\n",
       "    <tr>\n",
       "      <th>1</th>\n",
       "      <td>10</td>\n",
       "      <td>22.628223</td>\n",
       "    </tr>\n",
       "    <tr>\n",
       "      <th>2</th>\n",
       "      <td>16</td>\n",
       "      <td>24.366439</td>\n",
       "    </tr>\n",
       "    <tr>\n",
       "      <th>3</th>\n",
       "      <td>13</td>\n",
       "      <td>22.294855</td>\n",
       "    </tr>\n",
       "    <tr>\n",
       "      <th>4</th>\n",
       "      <td>44</td>\n",
       "      <td>23.213586</td>\n",
       "    </tr>\n",
       "    <tr>\n",
       "      <th>...</th>\n",
       "      <td>...</td>\n",
       "      <td>...</td>\n",
       "    </tr>\n",
       "    <tr>\n",
       "      <th>3362</th>\n",
       "      <td>14</td>\n",
       "      <td>23.931541</td>\n",
       "    </tr>\n",
       "    <tr>\n",
       "      <th>3363</th>\n",
       "      <td>11</td>\n",
       "      <td>21.391625</td>\n",
       "    </tr>\n",
       "    <tr>\n",
       "      <th>3364</th>\n",
       "      <td>50</td>\n",
       "      <td>22.503098</td>\n",
       "    </tr>\n",
       "    <tr>\n",
       "      <th>3365</th>\n",
       "      <td>28</td>\n",
       "      <td>22.471390</td>\n",
       "    </tr>\n",
       "    <tr>\n",
       "      <th>3366</th>\n",
       "      <td>13</td>\n",
       "      <td>24.935976</td>\n",
       "    </tr>\n",
       "  </tbody>\n",
       "</table>\n",
       "<p>3367 rows × 2 columns</p>\n",
       "</div>"
      ],
      "text/plain": [
       "     Actual  Predicted\n",
       "0        45  22.676140\n",
       "1        10  22.628223\n",
       "2        16  24.366439\n",
       "3        13  22.294855\n",
       "4        44  23.213586\n",
       "...     ...        ...\n",
       "3362     14  23.931541\n",
       "3363     11  21.391625\n",
       "3364     50  22.503098\n",
       "3365     28  22.471390\n",
       "3366     13  24.935976\n",
       "\n",
       "[3367 rows x 2 columns]"
      ]
     },
     "execution_count": 56,
     "metadata": {},
     "output_type": "execute_result"
    }
   ],
   "source": [
    "y_pred = regressor.predict(X_test)\n",
    "df = pd.DataFrame({'Actual': y_test.flatten(), 'Predicted': y_pred.flatten()})\n",
    "df"
   ]
  },
  {
   "cell_type": "code",
   "execution_count": 57,
   "id": "b7e0b316",
   "metadata": {
    "execution": {
     "iopub.execute_input": "2023-05-09T23:15:18.468597Z",
     "iopub.status.busy": "2023-05-09T23:15:18.468304Z",
     "iopub.status.idle": "2023-05-09T23:15:18.907130Z",
     "shell.execute_reply": "2023-05-09T23:15:18.906821Z"
    }
   },
   "outputs": [
    {
     "ename": "ValueError",
     "evalue": "x and y must be the same size",
     "output_type": "error",
     "traceback": [
      "\u001b[0;31m---------------------------------------------------------------------------\u001b[0m",
      "\u001b[0;31mValueError\u001b[0m                                Traceback (most recent call last)",
      "Cell \u001b[0;32mIn [57], line 1\u001b[0m\n\u001b[0;32m----> 1\u001b[0m \u001b[43mplt\u001b[49m\u001b[38;5;241;43m.\u001b[39;49m\u001b[43mscatter\u001b[49m\u001b[43m(\u001b[49m\u001b[43mX_test\u001b[49m\u001b[43m,\u001b[49m\u001b[43m \u001b[49m\u001b[43my_test\u001b[49m\u001b[43m,\u001b[49m\u001b[43m  \u001b[49m\u001b[43mcolor\u001b[49m\u001b[38;5;241;43m=\u001b[39;49m\u001b[38;5;124;43m'\u001b[39;49m\u001b[38;5;124;43mgray\u001b[39;49m\u001b[38;5;124;43m'\u001b[39;49m\u001b[43m)\u001b[49m\n\u001b[1;32m      2\u001b[0m plt\u001b[38;5;241m.\u001b[39mplot(X_test, y_pred, color\u001b[38;5;241m=\u001b[39m\u001b[38;5;124m'\u001b[39m\u001b[38;5;124mred\u001b[39m\u001b[38;5;124m'\u001b[39m, linewidth\u001b[38;5;241m=\u001b[39m\u001b[38;5;241m2\u001b[39m)\n\u001b[1;32m      3\u001b[0m plt\u001b[38;5;241m.\u001b[39mshow()\n",
      "File \u001b[0;32m/opt/homebrew/lib/python3.9/site-packages/matplotlib/pyplot.py:2798\u001b[0m, in \u001b[0;36mscatter\u001b[0;34m(x, y, s, c, marker, cmap, norm, vmin, vmax, alpha, linewidths, edgecolors, plotnonfinite, data, **kwargs)\u001b[0m\n\u001b[1;32m   2793\u001b[0m \u001b[38;5;129m@_copy_docstring_and_deprecators\u001b[39m(Axes\u001b[38;5;241m.\u001b[39mscatter)\n\u001b[1;32m   2794\u001b[0m \u001b[38;5;28;01mdef\u001b[39;00m \u001b[38;5;21mscatter\u001b[39m(\n\u001b[1;32m   2795\u001b[0m         x, y, s\u001b[38;5;241m=\u001b[39m\u001b[38;5;28;01mNone\u001b[39;00m, c\u001b[38;5;241m=\u001b[39m\u001b[38;5;28;01mNone\u001b[39;00m, marker\u001b[38;5;241m=\u001b[39m\u001b[38;5;28;01mNone\u001b[39;00m, cmap\u001b[38;5;241m=\u001b[39m\u001b[38;5;28;01mNone\u001b[39;00m, norm\u001b[38;5;241m=\u001b[39m\u001b[38;5;28;01mNone\u001b[39;00m,\n\u001b[1;32m   2796\u001b[0m         vmin\u001b[38;5;241m=\u001b[39m\u001b[38;5;28;01mNone\u001b[39;00m, vmax\u001b[38;5;241m=\u001b[39m\u001b[38;5;28;01mNone\u001b[39;00m, alpha\u001b[38;5;241m=\u001b[39m\u001b[38;5;28;01mNone\u001b[39;00m, linewidths\u001b[38;5;241m=\u001b[39m\u001b[38;5;28;01mNone\u001b[39;00m, \u001b[38;5;241m*\u001b[39m,\n\u001b[1;32m   2797\u001b[0m         edgecolors\u001b[38;5;241m=\u001b[39m\u001b[38;5;28;01mNone\u001b[39;00m, plotnonfinite\u001b[38;5;241m=\u001b[39m\u001b[38;5;28;01mFalse\u001b[39;00m, data\u001b[38;5;241m=\u001b[39m\u001b[38;5;28;01mNone\u001b[39;00m, \u001b[38;5;241m*\u001b[39m\u001b[38;5;241m*\u001b[39mkwargs):\n\u001b[0;32m-> 2798\u001b[0m     __ret \u001b[38;5;241m=\u001b[39m \u001b[43mgca\u001b[49m\u001b[43m(\u001b[49m\u001b[43m)\u001b[49m\u001b[38;5;241;43m.\u001b[39;49m\u001b[43mscatter\u001b[49m\u001b[43m(\u001b[49m\n\u001b[1;32m   2799\u001b[0m \u001b[43m        \u001b[49m\u001b[43mx\u001b[49m\u001b[43m,\u001b[49m\u001b[43m \u001b[49m\u001b[43my\u001b[49m\u001b[43m,\u001b[49m\u001b[43m \u001b[49m\u001b[43ms\u001b[49m\u001b[38;5;241;43m=\u001b[39;49m\u001b[43ms\u001b[49m\u001b[43m,\u001b[49m\u001b[43m \u001b[49m\u001b[43mc\u001b[49m\u001b[38;5;241;43m=\u001b[39;49m\u001b[43mc\u001b[49m\u001b[43m,\u001b[49m\u001b[43m \u001b[49m\u001b[43mmarker\u001b[49m\u001b[38;5;241;43m=\u001b[39;49m\u001b[43mmarker\u001b[49m\u001b[43m,\u001b[49m\u001b[43m \u001b[49m\u001b[43mcmap\u001b[49m\u001b[38;5;241;43m=\u001b[39;49m\u001b[43mcmap\u001b[49m\u001b[43m,\u001b[49m\u001b[43m \u001b[49m\u001b[43mnorm\u001b[49m\u001b[38;5;241;43m=\u001b[39;49m\u001b[43mnorm\u001b[49m\u001b[43m,\u001b[49m\n\u001b[1;32m   2800\u001b[0m \u001b[43m        \u001b[49m\u001b[43mvmin\u001b[49m\u001b[38;5;241;43m=\u001b[39;49m\u001b[43mvmin\u001b[49m\u001b[43m,\u001b[49m\u001b[43m \u001b[49m\u001b[43mvmax\u001b[49m\u001b[38;5;241;43m=\u001b[39;49m\u001b[43mvmax\u001b[49m\u001b[43m,\u001b[49m\u001b[43m \u001b[49m\u001b[43malpha\u001b[49m\u001b[38;5;241;43m=\u001b[39;49m\u001b[43malpha\u001b[49m\u001b[43m,\u001b[49m\u001b[43m \u001b[49m\u001b[43mlinewidths\u001b[49m\u001b[38;5;241;43m=\u001b[39;49m\u001b[43mlinewidths\u001b[49m\u001b[43m,\u001b[49m\n\u001b[1;32m   2801\u001b[0m \u001b[43m        \u001b[49m\u001b[43medgecolors\u001b[49m\u001b[38;5;241;43m=\u001b[39;49m\u001b[43medgecolors\u001b[49m\u001b[43m,\u001b[49m\u001b[43m \u001b[49m\u001b[43mplotnonfinite\u001b[49m\u001b[38;5;241;43m=\u001b[39;49m\u001b[43mplotnonfinite\u001b[49m\u001b[43m,\u001b[49m\n\u001b[1;32m   2802\u001b[0m \u001b[43m        \u001b[49m\u001b[38;5;241;43m*\u001b[39;49m\u001b[38;5;241;43m*\u001b[39;49m\u001b[43m(\u001b[49m\u001b[43m{\u001b[49m\u001b[38;5;124;43m\"\u001b[39;49m\u001b[38;5;124;43mdata\u001b[39;49m\u001b[38;5;124;43m\"\u001b[39;49m\u001b[43m:\u001b[49m\u001b[43m \u001b[49m\u001b[43mdata\u001b[49m\u001b[43m}\u001b[49m\u001b[43m \u001b[49m\u001b[38;5;28;43;01mif\u001b[39;49;00m\u001b[43m \u001b[49m\u001b[43mdata\u001b[49m\u001b[43m \u001b[49m\u001b[38;5;129;43;01mis\u001b[39;49;00m\u001b[43m \u001b[49m\u001b[38;5;129;43;01mnot\u001b[39;49;00m\u001b[43m \u001b[49m\u001b[38;5;28;43;01mNone\u001b[39;49;00m\u001b[43m \u001b[49m\u001b[38;5;28;43;01melse\u001b[39;49;00m\u001b[43m \u001b[49m\u001b[43m{\u001b[49m\u001b[43m}\u001b[49m\u001b[43m)\u001b[49m\u001b[43m,\u001b[49m\u001b[43m \u001b[49m\u001b[38;5;241;43m*\u001b[39;49m\u001b[38;5;241;43m*\u001b[39;49m\u001b[43mkwargs\u001b[49m\u001b[43m)\u001b[49m\n\u001b[1;32m   2803\u001b[0m     sci(__ret)\n\u001b[1;32m   2804\u001b[0m     \u001b[38;5;28;01mreturn\u001b[39;00m __ret\n",
      "File \u001b[0;32m/opt/homebrew/lib/python3.9/site-packages/matplotlib/__init__.py:1433\u001b[0m, in \u001b[0;36m_preprocess_data.<locals>.inner\u001b[0;34m(ax, data, *args, **kwargs)\u001b[0m\n\u001b[1;32m   1430\u001b[0m \u001b[38;5;129m@functools\u001b[39m\u001b[38;5;241m.\u001b[39mwraps(func)\n\u001b[1;32m   1431\u001b[0m \u001b[38;5;28;01mdef\u001b[39;00m \u001b[38;5;21minner\u001b[39m(ax, \u001b[38;5;241m*\u001b[39margs, data\u001b[38;5;241m=\u001b[39m\u001b[38;5;28;01mNone\u001b[39;00m, \u001b[38;5;241m*\u001b[39m\u001b[38;5;241m*\u001b[39mkwargs):\n\u001b[1;32m   1432\u001b[0m     \u001b[38;5;28;01mif\u001b[39;00m data \u001b[38;5;129;01mis\u001b[39;00m \u001b[38;5;28;01mNone\u001b[39;00m:\n\u001b[0;32m-> 1433\u001b[0m         \u001b[38;5;28;01mreturn\u001b[39;00m \u001b[43mfunc\u001b[49m\u001b[43m(\u001b[49m\u001b[43max\u001b[49m\u001b[43m,\u001b[49m\u001b[43m \u001b[49m\u001b[38;5;241;43m*\u001b[39;49m\u001b[38;5;28;43mmap\u001b[39;49m\u001b[43m(\u001b[49m\u001b[43msanitize_sequence\u001b[49m\u001b[43m,\u001b[49m\u001b[43m \u001b[49m\u001b[43margs\u001b[49m\u001b[43m)\u001b[49m\u001b[43m,\u001b[49m\u001b[43m \u001b[49m\u001b[38;5;241;43m*\u001b[39;49m\u001b[38;5;241;43m*\u001b[39;49m\u001b[43mkwargs\u001b[49m\u001b[43m)\u001b[49m\n\u001b[1;32m   1435\u001b[0m     bound \u001b[38;5;241m=\u001b[39m new_sig\u001b[38;5;241m.\u001b[39mbind(ax, \u001b[38;5;241m*\u001b[39margs, \u001b[38;5;241m*\u001b[39m\u001b[38;5;241m*\u001b[39mkwargs)\n\u001b[1;32m   1436\u001b[0m     auto_label \u001b[38;5;241m=\u001b[39m (bound\u001b[38;5;241m.\u001b[39marguments\u001b[38;5;241m.\u001b[39mget(label_namer)\n\u001b[1;32m   1437\u001b[0m                   \u001b[38;5;129;01mor\u001b[39;00m bound\u001b[38;5;241m.\u001b[39mkwargs\u001b[38;5;241m.\u001b[39mget(label_namer))\n",
      "File \u001b[0;32m/opt/homebrew/lib/python3.9/site-packages/matplotlib/axes/_axes.py:4526\u001b[0m, in \u001b[0;36mAxes.scatter\u001b[0;34m(self, x, y, s, c, marker, cmap, norm, vmin, vmax, alpha, linewidths, edgecolors, plotnonfinite, **kwargs)\u001b[0m\n\u001b[1;32m   4524\u001b[0m y \u001b[38;5;241m=\u001b[39m np\u001b[38;5;241m.\u001b[39mma\u001b[38;5;241m.\u001b[39mravel(y)\n\u001b[1;32m   4525\u001b[0m \u001b[38;5;28;01mif\u001b[39;00m x\u001b[38;5;241m.\u001b[39msize \u001b[38;5;241m!=\u001b[39m y\u001b[38;5;241m.\u001b[39msize:\n\u001b[0;32m-> 4526\u001b[0m     \u001b[38;5;28;01mraise\u001b[39;00m \u001b[38;5;167;01mValueError\u001b[39;00m(\u001b[38;5;124m\"\u001b[39m\u001b[38;5;124mx and y must be the same size\u001b[39m\u001b[38;5;124m\"\u001b[39m)\n\u001b[1;32m   4528\u001b[0m \u001b[38;5;28;01mif\u001b[39;00m s \u001b[38;5;129;01mis\u001b[39;00m \u001b[38;5;28;01mNone\u001b[39;00m:\n\u001b[1;32m   4529\u001b[0m     s \u001b[38;5;241m=\u001b[39m (\u001b[38;5;241m20\u001b[39m \u001b[38;5;28;01mif\u001b[39;00m mpl\u001b[38;5;241m.\u001b[39mrcParams[\u001b[38;5;124m'\u001b[39m\u001b[38;5;124m_internal.classic_mode\u001b[39m\u001b[38;5;124m'\u001b[39m] \u001b[38;5;28;01melse\u001b[39;00m\n\u001b[1;32m   4530\u001b[0m          mpl\u001b[38;5;241m.\u001b[39mrcParams[\u001b[38;5;124m'\u001b[39m\u001b[38;5;124mlines.markersize\u001b[39m\u001b[38;5;124m'\u001b[39m] \u001b[38;5;241m*\u001b[39m\u001b[38;5;241m*\u001b[39m \u001b[38;5;241m2.0\u001b[39m)\n",
      "\u001b[0;31mValueError\u001b[0m: x and y must be the same size"
     ]
    },
    {
     "data": {
      "image/png": "[encoded data removed]",
      "text/plain": [
       "<Figure size 640x480 with 1 Axes>"
      ]
     },
     "metadata": {},
     "output_type": "display_data"
    }
   ],
   "source": [
    "plt.scatter(X_test, y_test,  color='gray')\n",
    "plt.plot(X_test, y_pred, color='red', linewidth=2)\n",
    "plt.show()"
   ]
  },
  {
   "cell_type": "code",
   "execution_count": 58,
   "id": "426e59f5",
   "metadata": {
    "execution": {
     "iopub.execute_input": "2023-05-09T23:15:18.908729Z",
     "iopub.status.busy": "2023-05-09T23:15:18.908607Z",
     "iopub.status.idle": "2023-05-09T23:15:18.911667Z",
     "shell.execute_reply": "2023-05-09T23:15:18.911420Z"
    }
   },
   "outputs": [
    {
     "name": "stdout",
     "output_type": "stream",
     "text": [
      "Mean Absolute Error: 10.043081761171448\n",
      "Mean Squared Error: 214.61790167297136\n",
      "Root Mean Squared Error: 14.649843059670344\n"
     ]
    }
   ],
   "source": [
    "print('Mean Absolute Error:', metrics.mean_absolute_error(y_test, y_pred))  \n",
    "print('Mean Squared Error:', metrics.mean_squared_error(y_test, y_pred))  \n",
    "print('Root Mean Squared Error:', np.sqrt(metrics.mean_squared_error(y_test, y_pred)))"
   ]
  },
  {
   "cell_type": "code",
   "execution_count": 59,
   "id": "0fb04faf",
   "metadata": {
    "execution": {
     "iopub.execute_input": "2023-05-09T23:15:18.913119Z",
     "iopub.status.busy": "2023-05-09T23:15:18.913025Z",
     "iopub.status.idle": "2023-05-09T23:15:19.059294Z",
     "shell.execute_reply": "2023-05-09T23:15:19.059001Z"
    },
    "lines_to_next_cell": 2
   },
   "outputs": [
    {
     "data": {
      "image/png": "[encoded data removed]",
      "text/plain": [
       "<Figure size 1600x1000 with 1 Axes>"
      ]
     },
     "metadata": {},
     "output_type": "display_data"
    }
   ],
   "source": [
    "df1 = df.head(25)\n",
    "df1.plot(kind='bar',figsize=(16,10))\n",
    "plt.grid(which='major', linestyle='-', linewidth='0.5', color='green')\n",
    "plt.grid(which='minor', linestyle=':', linewidth='0.5', color='black')\n",
    "plt.show()"
   ]
  }
 ],
 "metadata": {
  "jupytext": {
   "cell_metadata_filter": "-all",
   "main_language": "python",
   "notebook_metadata_filter": "-all"
  },
  "language_info": {
   "codemirror_mode": {
    "name": "ipython",
    "version": 3
   },
   "file_extension": ".py",
   "mimetype": "text/x-python",
   "name": "python",
   "nbconvert_exporter": "python",
   "pygments_lexer": "ipython3",
   "version": "3.9.12"
  }
 },
 "nbformat": 4,
 "nbformat_minor": 5
}
