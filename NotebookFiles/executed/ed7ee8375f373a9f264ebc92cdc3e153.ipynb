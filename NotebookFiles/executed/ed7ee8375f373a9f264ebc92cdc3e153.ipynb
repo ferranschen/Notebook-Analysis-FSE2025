{
 "cells": [
  {
   "cell_type": "code",
   "execution_count": 1,
   "id": "ce9dd70b",
   "metadata": {
    "execution": {
     "iopub.execute_input": "2023-05-10T02:16:20.531772Z",
     "iopub.status.busy": "2023-05-10T02:16:20.531639Z",
     "iopub.status.idle": "2023-05-10T02:16:21.681592Z",
     "shell.execute_reply": "2023-05-10T02:16:21.681011Z"
    }
   },
   "outputs": [
    {
     "name": "stdout",
     "output_type": "stream",
     "text": [
      "\u001b[33mDEPRECATION: Configuring installation scheme with distutils config files is deprecated and will no longer work in the near future. If you are using a Homebrew or Linuxbrew Python, please see discussion at https://github.com/Homebrew/homebrew-core/issues/76621\u001b[0m\u001b[33m\r\n",
      "\u001b[0m"
     ]
    },
    {
     "name": "stdout",
     "output_type": "stream",
     "text": [
      "Requirement already satisfied: db-dtypes in /opt/homebrew/lib/python3.9/site-packages (1.0.5)\r\n",
      "Requirement already satisfied: packaging>=17.0 in /Users/weihaochen/Library/Python/3.9/lib/python/site-packages (from db-dtypes) (21.3)\r\n",
      "Requirement already satisfied: pyarrow>=3.0.0 in /opt/homebrew/lib/python3.9/site-packages (from db-dtypes) (10.0.0)\r\n",
      "Requirement already satisfied: pandas<2.0dev,>=0.24.2 in /opt/homebrew/lib/python3.9/site-packages (from db-dtypes) (1.5.1)\r\n",
      "Requirement already satisfied: numpy<2.0dev,>=1.16.6 in /opt/homebrew/lib/python3.9/site-packages (from db-dtypes) (1.23.4)\r\n",
      "Requirement already satisfied: pyparsing!=3.0.5,>=2.0.2 in /Users/weihaochen/Library/Python/3.9/lib/python/site-packages (from packaging>=17.0->db-dtypes) (3.0.9)\r\n",
      "Requirement already satisfied: python-dateutil>=2.8.1 in /Users/weihaochen/Library/Python/3.9/lib/python/site-packages (from pandas<2.0dev,>=0.24.2->db-dtypes) (2.8.2)\r\n",
      "Requirement already satisfied: pytz>=2020.1 in /opt/homebrew/lib/python3.9/site-packages (from pandas<2.0dev,>=0.24.2->db-dtypes) (2022.6)\r\n",
      "Requirement already satisfied: six>=1.5 in /Users/weihaochen/Library/Python/3.9/lib/python/site-packages (from python-dateutil>=2.8.1->pandas<2.0dev,>=0.24.2->db-dtypes) (1.16.0)\r\n"
     ]
    },
    {
     "name": "stdout",
     "output_type": "stream",
     "text": [
      "\u001b[33mDEPRECATION: Configuring installation scheme with distutils config files is deprecated and will no longer work in the near future. If you are using a Homebrew or Linuxbrew Python, please see discussion at https://github.com/Homebrew/homebrew-core/issues/76621\u001b[0m\u001b[33m\r\n",
      "\u001b[0m\u001b[33mWARNING: You are using pip version 22.0.4; however, version 23.1.2 is available.\r\n",
      "You should consider upgrading via the '/opt/homebrew/opt/python@3.9/bin/python3.9 -m pip install --upgrade pip' command.\u001b[0m\u001b[33m\r\n",
      "\u001b[0m"
     ]
    },
    {
     "name": "stdout",
     "output_type": "stream",
     "text": [
      "Note: you may need to restart the kernel to use updated packages.\n"
     ]
    }
   ],
   "source": [
    "get_ipython().run_line_magic('pip', 'install db-dtypes')"
   ]
  },
  {
   "cell_type": "code",
   "execution_count": 2,
   "id": "b584aa0e",
   "metadata": {
    "execution": {
     "iopub.execute_input": "2023-05-10T02:16:21.684153Z",
     "iopub.status.busy": "2023-05-10T02:16:21.683962Z",
     "iopub.status.idle": "2023-05-10T02:16:27.076604Z",
     "shell.execute_reply": "2023-05-10T02:16:27.075937Z"
    }
   },
   "outputs": [
    {
     "name": "stdout",
     "output_type": "stream",
     "text": [
      "\u001b[33mWARNING: Ignoring invalid distribution -umpy (/opt/anaconda3/lib/python3.9/site-packages)\u001b[0m\r\n",
      "\u001b[33mWARNING: Ignoring invalid distribution -umpy (/opt/anaconda3/lib/python3.9/site-packages)\u001b[0m\r\n",
      "Requirement already satisfied: keras in /opt/anaconda3/lib/python3.9/site-packages (2.12.0)\r\n",
      "\u001b[33mWARNING: Ignoring invalid distribution -umpy (/opt/anaconda3/lib/python3.9/site-packages)\u001b[0m\r\n"
     ]
    },
    {
     "name": "stdout",
     "output_type": "stream",
     "text": [
      "\u001b[33mWARNING: Ignoring invalid distribution -umpy (/opt/anaconda3/lib/python3.9/site-packages)\u001b[0m\r\n",
      "\u001b[33mWARNING: Ignoring invalid distribution -umpy (/opt/anaconda3/lib/python3.9/site-packages)\u001b[0m\r\n",
      "\u001b[33mWARNING: Ignoring invalid distribution -umpy (/opt/anaconda3/lib/python3.9/site-packages)\u001b[0m\r\n"
     ]
    },
    {
     "name": "stdout",
     "output_type": "stream",
     "text": [
      "\u001b[33mWARNING: Ignoring invalid distribution -umpy (/opt/anaconda3/lib/python3.9/site-packages)\u001b[0m\r\n",
      "\u001b[33mWARNING: Ignoring invalid distribution -umpy (/opt/anaconda3/lib/python3.9/site-packages)\u001b[0m\r\n",
      "Requirement already satisfied: tensorflow in /opt/anaconda3/lib/python3.9/site-packages (2.12.0)\r\n",
      "Requirement already satisfied: keras<2.13,>=2.12.0 in /opt/anaconda3/lib/python3.9/site-packages (from tensorflow) (2.12.0)\r\n",
      "Requirement already satisfied: absl-py>=1.0.0 in /opt/anaconda3/lib/python3.9/site-packages (from tensorflow) (1.4.0)\r\n",
      "Requirement already satisfied: h5py>=2.9.0 in /opt/anaconda3/lib/python3.9/site-packages (from tensorflow) (3.2.1)\r\n",
      "Requirement already satisfied: gast<=0.4.0,>=0.2.1 in /opt/anaconda3/lib/python3.9/site-packages (from tensorflow) (0.4.0)\r\n",
      "Requirement already satisfied: six>=1.12.0 in /opt/anaconda3/lib/python3.9/site-packages (from tensorflow) (1.16.0)\r\n",
      "Requirement already satisfied: protobuf!=4.21.0,!=4.21.1,!=4.21.2,!=4.21.3,!=4.21.4,!=4.21.5,<5.0.0dev,>=3.20.3 in /opt/anaconda3/lib/python3.9/site-packages (from tensorflow) (4.21.12)\r\n",
      "Requirement already satisfied: libclang>=13.0.0 in /opt/anaconda3/lib/python3.9/site-packages (from tensorflow) (16.0.0)\r\n",
      "Requirement already satisfied: astunparse>=1.6.0 in /opt/anaconda3/lib/python3.9/site-packages (from tensorflow) (1.6.3)\r\n",
      "Requirement already satisfied: flatbuffers>=2.0 in /opt/anaconda3/lib/python3.9/site-packages (from tensorflow) (23.3.3)\r\n",
      "Requirement already satisfied: tensorflow-io-gcs-filesystem>=0.23.1 in /opt/anaconda3/lib/python3.9/site-packages (from tensorflow) (0.32.0)\r\n",
      "Requirement already satisfied: tensorboard<2.13,>=2.12 in /opt/anaconda3/lib/python3.9/site-packages (from tensorflow) (2.12.0)\r\n",
      "Requirement already satisfied: opt-einsum>=2.3.2 in /opt/anaconda3/lib/python3.9/site-packages (from tensorflow) (3.3.0)\r\n",
      "Requirement already satisfied: google-pasta>=0.1.1 in /opt/anaconda3/lib/python3.9/site-packages (from tensorflow) (0.2.0)\r\n",
      "Requirement already satisfied: packaging in /opt/anaconda3/lib/python3.9/site-packages (from tensorflow) (21.3)\r\n",
      "Requirement already satisfied: jax>=0.3.15 in /opt/anaconda3/lib/python3.9/site-packages (from tensorflow) (0.4.8)\r\n",
      "Requirement already satisfied: wrapt<1.15,>=1.11.0 in /opt/anaconda3/lib/python3.9/site-packages (from tensorflow) (1.12.1)\r\n",
      "Requirement already satisfied: typing-extensions>=3.6.6 in /opt/anaconda3/lib/python3.9/site-packages (from tensorflow) (4.5.0)\r\n",
      "Requirement already satisfied: tensorflow-estimator<2.13,>=2.12.0 in /opt/anaconda3/lib/python3.9/site-packages (from tensorflow) (2.12.0)\r\n",
      "Requirement already satisfied: grpcio<2.0,>=1.24.3 in /opt/anaconda3/lib/python3.9/site-packages (from tensorflow) (1.54.0)\r\n",
      "Requirement already satisfied: setuptools in /opt/anaconda3/lib/python3.9/site-packages (from tensorflow) (58.0.4)\r\n",
      "Requirement already satisfied: numpy<1.24,>=1.22 in /opt/anaconda3/lib/python3.9/site-packages (from tensorflow) (1.22.4)\r\n",
      "Requirement already satisfied: termcolor>=1.1.0 in /opt/anaconda3/lib/python3.9/site-packages (from tensorflow) (2.2.0)\r\n",
      "Requirement already satisfied: wheel<1.0,>=0.23.0 in /opt/anaconda3/lib/python3.9/site-packages (from astunparse>=1.6.0->tensorflow) (0.37.0)\r\n"
     ]
    },
    {
     "name": "stdout",
     "output_type": "stream",
     "text": [
      "Requirement already satisfied: scipy>=1.7 in /opt/anaconda3/lib/python3.9/site-packages (from jax>=0.3.15->tensorflow) (1.7.1)\r\n",
      "Requirement already satisfied: ml-dtypes>=0.0.3 in /opt/anaconda3/lib/python3.9/site-packages (from jax>=0.3.15->tensorflow) (0.1.0)\r\n",
      "Requirement already satisfied: google-auth<3,>=1.6.3 in /opt/anaconda3/lib/python3.9/site-packages (from tensorboard<2.13,>=2.12->tensorflow) (2.16.0)\r\n",
      "Requirement already satisfied: requests<3,>=2.21.0 in /opt/anaconda3/lib/python3.9/site-packages (from tensorboard<2.13,>=2.12->tensorflow) (2.30.0)\r\n",
      "Requirement already satisfied: google-auth-oauthlib<0.5,>=0.4.1 in /opt/anaconda3/lib/python3.9/site-packages (from tensorboard<2.13,>=2.12->tensorflow) (0.4.6)\r\n",
      "Requirement already satisfied: markdown>=2.6.8 in /opt/anaconda3/lib/python3.9/site-packages (from tensorboard<2.13,>=2.12->tensorflow) (3.4.1)\r\n",
      "Requirement already satisfied: tensorboard-plugin-wit>=1.6.0 in /opt/anaconda3/lib/python3.9/site-packages (from tensorboard<2.13,>=2.12->tensorflow) (1.8.1)\r\n",
      "Requirement already satisfied: tensorboard-data-server<0.8.0,>=0.7.0 in /opt/anaconda3/lib/python3.9/site-packages (from tensorboard<2.13,>=2.12->tensorflow) (0.7.0)\r\n",
      "Requirement already satisfied: werkzeug>=1.0.1 in /opt/anaconda3/lib/python3.9/site-packages (from tensorboard<2.13,>=2.12->tensorflow) (2.0.2)\r\n"
     ]
    },
    {
     "name": "stdout",
     "output_type": "stream",
     "text": [
      "Requirement already satisfied: rsa<5,>=3.1.4 in /opt/anaconda3/lib/python3.9/site-packages (from google-auth<3,>=1.6.3->tensorboard<2.13,>=2.12->tensorflow) (4.9)\r\n",
      "Requirement already satisfied: cachetools<6.0,>=2.0.0 in /opt/anaconda3/lib/python3.9/site-packages (from google-auth<3,>=1.6.3->tensorboard<2.13,>=2.12->tensorflow) (5.2.1)\r\n",
      "Requirement already satisfied: pyasn1-modules>=0.2.1 in /opt/anaconda3/lib/python3.9/site-packages (from google-auth<3,>=1.6.3->tensorboard<2.13,>=2.12->tensorflow) (0.2.8)\r\n",
      "Requirement already satisfied: requests-oauthlib>=0.7.0 in /opt/anaconda3/lib/python3.9/site-packages (from google-auth-oauthlib<0.5,>=0.4.1->tensorboard<2.13,>=2.12->tensorflow) (1.3.1)\r\n",
      "Requirement already satisfied: importlib-metadata>=4.4 in /opt/anaconda3/lib/python3.9/site-packages (from markdown>=2.6.8->tensorboard<2.13,>=2.12->tensorflow) (6.6.0)\r\n",
      "Requirement already satisfied: zipp>=0.5 in /opt/anaconda3/lib/python3.9/site-packages (from importlib-metadata>=4.4->markdown>=2.6.8->tensorboard<2.13,>=2.12->tensorflow) (3.6.0)\r\n",
      "Requirement already satisfied: pyasn1<0.5.0,>=0.4.6 in /opt/anaconda3/lib/python3.9/site-packages (from pyasn1-modules>=0.2.1->google-auth<3,>=1.6.3->tensorboard<2.13,>=2.12->tensorflow) (0.4.8)\r\n",
      "Requirement already satisfied: idna<4,>=2.5 in /opt/anaconda3/lib/python3.9/site-packages (from requests<3,>=2.21.0->tensorboard<2.13,>=2.12->tensorflow) (3.2)\r\n",
      "Requirement already satisfied: urllib3<3,>=1.21.1 in /opt/anaconda3/lib/python3.9/site-packages (from requests<3,>=2.21.0->tensorboard<2.13,>=2.12->tensorflow) (1.26.7)\r\n",
      "Requirement already satisfied: certifi>=2017.4.17 in /opt/anaconda3/lib/python3.9/site-packages (from requests<3,>=2.21.0->tensorboard<2.13,>=2.12->tensorflow) (2021.10.8)\r\n",
      "Requirement already satisfied: charset-normalizer<4,>=2 in /opt/anaconda3/lib/python3.9/site-packages (from requests<3,>=2.21.0->tensorboard<2.13,>=2.12->tensorflow) (2.0.4)\r\n",
      "Requirement already satisfied: oauthlib>=3.0.0 in /opt/anaconda3/lib/python3.9/site-packages (from requests-oauthlib>=0.7.0->google-auth-oauthlib<0.5,>=0.4.1->tensorboard<2.13,>=2.12->tensorflow) (3.2.2)\r\n"
     ]
    },
    {
     "name": "stdout",
     "output_type": "stream",
     "text": [
      "Requirement already satisfied: pyparsing!=3.0.5,>=2.0.2 in /opt/anaconda3/lib/python3.9/site-packages (from packaging->tensorflow) (3.0.4)\r\n",
      "\u001b[33mWARNING: Ignoring invalid distribution -umpy (/opt/anaconda3/lib/python3.9/site-packages)\u001b[0m\r\n"
     ]
    },
    {
     "name": "stdout",
     "output_type": "stream",
     "text": [
      "\u001b[33mWARNING: Ignoring invalid distribution -umpy (/opt/anaconda3/lib/python3.9/site-packages)\u001b[0m\r\n",
      "\u001b[33mWARNING: Ignoring invalid distribution -umpy (/opt/anaconda3/lib/python3.9/site-packages)\u001b[0m\r\n",
      "\u001b[33mWARNING: Ignoring invalid distribution -umpy (/opt/anaconda3/lib/python3.9/site-packages)\u001b[0m\r\n"
     ]
    }
   ],
   "source": [
    "get_ipython().system('pip install keras')\n",
    "get_ipython().system('pip install tensorflow')"
   ]
  },
  {
   "cell_type": "code",
   "execution_count": 3,
   "id": "f40ee4c7",
   "metadata": {
    "execution": {
     "iopub.execute_input": "2023-05-10T02:16:27.079821Z",
     "iopub.status.busy": "2023-05-10T02:16:27.079494Z",
     "iopub.status.idle": "2023-05-10T02:16:27.088583Z",
     "shell.execute_reply": "2023-05-10T02:16:27.088176Z"
    }
   },
   "outputs": [],
   "source": [
    "get_ipython().run_cell_magic('capture', '', \"%logstop\\n%logstart -t -r -q ipython_command_log.py global\\n\\n#- IRONHACKS RESEARCH TRACKING CODE\\n#----------------------------------\\n# The following code is used to help our research team understand how you \\n# our notebook environment. We do not collect any personal information with\\n# the following code, it is used to measure when and how often you work on\\n# your submission files.\\n\\nimport os\\nfrom datetime import datetime\\nimport IPython.core.history as history\\n\\nha = history.HistoryAccessor()\\nha_tail = ha.get_tail(1)\\nha_cmd = next(ha_tail)\\nsession_id = str(ha_cmd[0])\\ncommand_id = str(ha_cmd[1])\\ntimestamp = datetime.utcnow().isoformat()\\nhistory_line = ','.join([session_id, command_id, timestamp]) + '\\\\n'\\nlogfile = open(os.environ['HOME']+'/ipython_session_log.csv', 'a')\\nlogfile.write(history_line)\\nlogfile.close()\\n\")"
   ]
  },
  {
   "cell_type": "code",
   "execution_count": 4,
   "id": "9e7e051e",
   "metadata": {
    "execution": {
     "iopub.execute_input": "2023-05-10T02:16:27.090745Z",
     "iopub.status.busy": "2023-05-10T02:16:27.090551Z",
     "iopub.status.idle": "2023-05-10T02:16:28.187274Z",
     "shell.execute_reply": "2023-05-10T02:16:28.186860Z"
    }
   },
   "outputs": [],
   "source": [
    "import os\n",
    "import csv\n",
    "import pandas as pd\n",
    "import numpy as np\n",
    "from google.cloud import bigquery\n",
    "from google.oauth2 import service_account\n",
    "from google.cloud.bigquery import magics\n",
    "from sklearn.model_selection import train_test_split \n",
    "from sklearn.linear_model import LinearRegression\n",
    "from sklearn import metrics\n",
    "import matplotlib.pyplot as plt  \n",
    "import statsmodels.api as sm\n",
    "import itertools"
   ]
  },
  {
   "cell_type": "code",
   "execution_count": 5,
   "id": "235421fd",
   "metadata": {
    "execution": {
     "iopub.execute_input": "2023-05-10T02:16:28.189573Z",
     "iopub.status.busy": "2023-05-10T02:16:28.189291Z",
     "iopub.status.idle": "2023-05-10T02:16:28.191263Z",
     "shell.execute_reply": "2023-05-10T02:16:28.191030Z"
    }
   },
   "outputs": [],
   "source": [
    "BIGQUERY_PROJECT = 'ironhacks-data'"
   ]
  },
  {
   "cell_type": "code",
   "execution_count": 6,
   "id": "c1a703c3",
   "metadata": {
    "execution": {
     "iopub.execute_input": "2023-05-10T02:16:28.192659Z",
     "iopub.status.busy": "2023-05-10T02:16:28.192545Z",
     "iopub.status.idle": "2023-05-10T02:16:28.201740Z",
     "shell.execute_reply": "2023-05-10T02:16:28.201332Z"
    }
   },
   "outputs": [],
   "source": [
    "bigquery_client = bigquery.Client(project=BIGQUERY_PROJECT)"
   ]
  },
  {
   "cell_type": "code",
   "execution_count": 7,
   "id": "a133043b",
   "metadata": {
    "execution": {
     "iopub.execute_input": "2023-05-10T02:16:28.203613Z",
     "iopub.status.busy": "2023-05-10T02:16:28.203499Z",
     "iopub.status.idle": "2023-05-10T02:16:28.205605Z",
     "shell.execute_reply": "2023-05-10T02:16:28.205346Z"
    }
   },
   "outputs": [],
   "source": [
    "query = \"\"\"\n",
    "SELECT *\n",
    "FROM `ironhacks-data.ironhacks_competition.unemployment_data` \n",
    "\"\"\""
   ]
  },
  {
   "cell_type": "code",
   "execution_count": 8,
   "id": "b21b0def",
   "metadata": {
    "execution": {
     "iopub.execute_input": "2023-05-10T02:16:28.207041Z",
     "iopub.status.busy": "2023-05-10T02:16:28.206931Z",
     "iopub.status.idle": "2023-05-10T02:16:30.463554Z",
     "shell.execute_reply": "2023-05-10T02:16:30.462598Z"
    }
   },
   "outputs": [],
   "source": [
    "# QUERY THE DATA ONCE\n",
    "query_job = bigquery_client.query(query)\n",
    "data = query_job.to_dataframe()"
   ]
  },
  {
   "cell_type": "code",
   "execution_count": 9,
   "id": "c0ac669e",
   "metadata": {
    "execution": {
     "iopub.execute_input": "2023-05-10T02:16:30.467589Z",
     "iopub.status.busy": "2023-05-10T02:16:30.467254Z",
     "iopub.status.idle": "2023-05-10T02:16:30.470815Z",
     "shell.execute_reply": "2023-05-10T02:16:30.470179Z"
    }
   },
   "outputs": [],
   "source": [
    "query = \"\"\"\n",
    "SELECT *\n",
    "FROM `ironhacks-data.ironhacks_competition.wage_data` \n",
    "\"\"\""
   ]
  },
  {
   "cell_type": "code",
   "execution_count": 10,
   "id": "6c9b03cb",
   "metadata": {
    "execution": {
     "iopub.execute_input": "2023-05-10T02:16:30.473894Z",
     "iopub.status.busy": "2023-05-10T02:16:30.473503Z",
     "iopub.status.idle": "2023-05-10T02:16:31.953926Z",
     "shell.execute_reply": "2023-05-10T02:16:31.952534Z"
    }
   },
   "outputs": [],
   "source": [
    "# QUERY THE DATA ONCE\n",
    "query_job = bigquery_client.query(query)\n",
    "wagedata = query_job.to_dataframe()"
   ]
  },
  {
   "cell_type": "code",
   "execution_count": 11,
   "id": "42ca1d57",
   "metadata": {
    "execution": {
     "iopub.execute_input": "2023-05-10T02:16:31.960179Z",
     "iopub.status.busy": "2023-05-10T02:16:31.959710Z",
     "iopub.status.idle": "2023-05-10T02:16:31.964311Z",
     "shell.execute_reply": "2023-05-10T02:16:31.963526Z"
    }
   },
   "outputs": [],
   "source": [
    "query = \"\"\"\n",
    "SELECT *\n",
    "FROM `ironhacks-data.ironhacks_competition.prediction_list` \n",
    "\"\"\""
   ]
  },
  {
   "cell_type": "code",
   "execution_count": 12,
   "id": "a634e256",
   "metadata": {
    "execution": {
     "iopub.execute_input": "2023-05-10T02:16:31.968143Z",
     "iopub.status.busy": "2023-05-10T02:16:31.967840Z",
     "iopub.status.idle": "2023-05-10T02:16:33.527199Z",
     "shell.execute_reply": "2023-05-10T02:16:33.525779Z"
    }
   },
   "outputs": [],
   "source": [
    "# QUERY THE DATA ONCE\n",
    "query_job = bigquery_client.query(query)\n",
    "prediction_list = query_job.to_dataframe()"
   ]
  },
  {
   "cell_type": "code",
   "execution_count": 13,
   "id": "bd8e6463",
   "metadata": {
    "execution": {
     "iopub.execute_input": "2023-05-10T02:16:33.532805Z",
     "iopub.status.busy": "2023-05-10T02:16:33.532383Z",
     "iopub.status.idle": "2023-05-10T02:16:33.555099Z",
     "shell.execute_reply": "2023-05-10T02:16:33.554577Z"
    }
   },
   "outputs": [],
   "source": [
    "import pandas as pd\n",
    "import numpy as np\n",
    "combined = pd.merge(data,wagedata,on=['uu_id','countyfips', 'tract','tract_name'],how = 'left')"
   ]
  },
  {
   "cell_type": "code",
   "execution_count": 14,
   "id": "c78ef72b",
   "metadata": {
    "execution": {
     "iopub.execute_input": "2023-05-10T02:16:33.558135Z",
     "iopub.status.busy": "2023-05-10T02:16:33.557932Z",
     "iopub.status.idle": "2023-05-10T02:16:33.569081Z",
     "shell.execute_reply": "2023-05-10T02:16:33.568592Z"
    }
   },
   "outputs": [
    {
     "data": {
      "text/html": [
       "<div>\n",
       "<style scoped>\n",
       "    .dataframe tbody tr th:only-of-type {\n",
       "        vertical-align: middle;\n",
       "    }\n",
       "\n",
       "    .dataframe tbody tr th {\n",
       "        vertical-align: top;\n",
       "    }\n",
       "\n",
       "    .dataframe thead th {\n",
       "        text-align: right;\n",
       "    }\n",
       "</style>\n",
       "<table border=\"1\" class=\"dataframe\">\n",
       "  <thead>\n",
       "    <tr style=\"text-align: right;\">\n",
       "      <th></th>\n",
       "      <th>uu_id</th>\n",
       "      <th>countyfips</th>\n",
       "      <th>tract</th>\n",
       "      <th>tract_name</th>\n",
       "      <th>average_wage</th>\n",
       "    </tr>\n",
       "  </thead>\n",
       "  <tbody>\n",
       "  </tbody>\n",
       "</table>\n",
       "</div>"
      ],
      "text/plain": [
       "Empty DataFrame\n",
       "Columns: [uu_id, countyfips, tract, tract_name, average_wage]\n",
       "Index: []"
      ]
     },
     "execution_count": 14,
     "metadata": {},
     "output_type": "execute_result"
    }
   ],
   "source": [
    "wagedata[wagedata['uu_id']=='a5c6dcff737e183f7931b472f10c3235']"
   ]
  },
  {
   "cell_type": "code",
   "execution_count": 15,
   "id": "11cfb3e4",
   "metadata": {
    "execution": {
     "iopub.execute_input": "2023-05-10T02:16:33.571468Z",
     "iopub.status.busy": "2023-05-10T02:16:33.571239Z",
     "iopub.status.idle": "2023-05-10T02:16:33.577146Z",
     "shell.execute_reply": "2023-05-10T02:16:33.576680Z"
    }
   },
   "outputs": [],
   "source": [
    "combined['average_wage'].fillna(combined['average_wage'].mean(),inplace = True)\n",
    "## Using the mean for the missing wage"
   ]
  },
  {
   "cell_type": "code",
   "execution_count": 16,
   "id": "5534d2e7",
   "metadata": {
    "execution": {
     "iopub.execute_input": "2023-05-10T02:16:33.579505Z",
     "iopub.status.busy": "2023-05-10T02:16:33.579301Z",
     "iopub.status.idle": "2023-05-10T02:16:33.582816Z",
     "shell.execute_reply": "2023-05-10T02:16:33.582237Z"
    }
   },
   "outputs": [],
   "source": [
    "firstgroup = ['edu_8th_or_less','edu_grades_9_11','edu_hs_grad_equiv','edu_post_hs','edu_unknown']\n",
    "secondgroup = ['gender_female','gender_male','gender_na']\n",
    "thirdgroup = ['race_amerindian','race_asian','race_black','race_noanswer','race_hawaiiannative','race_other','race_white']\n",
    "## columns to impute"
   ]
  },
  {
   "cell_type": "code",
   "execution_count": 17,
   "id": "89d10c9f",
   "metadata": {
    "execution": {
     "iopub.execute_input": "2023-05-10T02:16:33.588209Z",
     "iopub.status.busy": "2023-05-10T02:16:33.587718Z",
     "iopub.status.idle": "2023-05-10T02:16:33.609233Z",
     "shell.execute_reply": "2023-05-10T02:16:33.608574Z"
    }
   },
   "outputs": [],
   "source": [
    "complete = combined.dropna(axis = 0)\n",
    "#using the complete rows to estimate the ratio of each catagory occupying the claims\n",
    "prob = {}\n",
    "for i in firstgroup:\n",
    "    prob[i] = (complete[i]/complete['total_claims']).mean()\n",
    "for i in secondgroup:\n",
    "    prob[i] = (complete[i]/complete['total_claims']).mean()\n",
    "for i in thirdgroup:\n",
    "    prob[i] = (complete[i]/complete['total_claims']).mean()"
   ]
  },
  {
   "cell_type": "code",
   "execution_count": 18,
   "id": "c05b768c",
   "metadata": {
    "execution": {
     "iopub.execute_input": "2023-05-10T02:16:33.612082Z",
     "iopub.status.busy": "2023-05-10T02:16:33.611888Z",
     "iopub.status.idle": "2023-05-10T02:16:33.614284Z",
     "shell.execute_reply": "2023-05-10T02:16:33.613941Z"
    },
    "lines_to_next_cell": 1
   },
   "outputs": [],
   "source": [
    "prediction_list['total_claims'] = 0"
   ]
  },
  {
   "cell_type": "code",
   "execution_count": 19,
   "id": "f5e0d048",
   "metadata": {
    "execution": {
     "iopub.execute_input": "2023-05-10T02:16:33.615965Z",
     "iopub.status.busy": "2023-05-10T02:16:33.615820Z",
     "iopub.status.idle": "2023-05-10T02:16:33.619863Z",
     "shell.execute_reply": "2023-05-10T02:16:33.619535Z"
    },
    "lines_to_next_cell": 1
   },
   "outputs": [],
   "source": [
    "def approximatedimputation(data):\n",
    "    firstgroup = ['edu_8th_or_less','edu_grades_9_11','edu_hs_grad_equiv','edu_post_hs','edu_unknown']\n",
    "    secondgroup = ['gender_female','gender_male','gender_na']\n",
    "    thirdgroup = ['race_amerindian','race_asian','race_black','race_noanswer','race_hawaiiannative','race_other','race_white']\n",
    "    for i in firstgroup:\n",
    "        for j in range(data.shape[0]):\n",
    "            # if is nan, we use the approximation method to try to impute\n",
    "            if pd.isna(data[i].values[j]):\n",
    "                data[i].values[j] = int(prob[i]*data['total_claims'].values[j])\n",
    "    for i in secondgroup:\n",
    "        for j in range(data.shape[0]):\n",
    "            if pd.isna(data[i].values[j]):\n",
    "                data[i].values[j] = int(prob[i]*data['total_claims'].values[j])\n",
    "    for i in thirdgroup:\n",
    "        for j in range(data.shape[0]):\n",
    "            if pd.isna(data[i].values[j]):\n",
    "                data[i].values[j] = int(prob[i]*data['total_claims'].values[j])"
   ]
  },
  {
   "cell_type": "code",
   "execution_count": 20,
   "id": "e3740923",
   "metadata": {
    "execution": {
     "iopub.execute_input": "2023-05-10T02:16:33.621420Z",
     "iopub.status.busy": "2023-05-10T02:16:33.621321Z",
     "iopub.status.idle": "2023-05-10T02:16:34.848393Z",
     "shell.execute_reply": "2023-05-10T02:16:34.848110Z"
    }
   },
   "outputs": [],
   "source": [
    "approximatedimputation(combined)\n",
    "combined.to_csv('submission_prediction_output(1).csv',index = False)"
   ]
  },
  {
   "cell_type": "code",
   "execution_count": 21,
   "id": "bbbbc8e8",
   "metadata": {
    "execution": {
     "iopub.execute_input": "2023-05-10T02:16:34.850055Z",
     "iopub.status.busy": "2023-05-10T02:16:34.849958Z",
     "iopub.status.idle": "2023-05-10T02:16:34.853361Z",
     "shell.execute_reply": "2023-05-10T02:16:34.853116Z"
    },
    "lines_to_next_cell": 2
   },
   "outputs": [],
   "source": [
    "prediction_list.loc[:,['uu_id','total_claims','week_number']].to_csv('submission_prediction_output(2).csv',index = False)"
   ]
  }
 ],
 "metadata": {
  "jupytext": {
   "cell_metadata_filter": "-all",
   "main_language": "python",
   "notebook_metadata_filter": "-all"
  },
  "language_info": {
   "codemirror_mode": {
    "name": "ipython",
    "version": 3
   },
   "file_extension": ".py",
   "mimetype": "text/x-python",
   "name": "python",
   "nbconvert_exporter": "python",
   "pygments_lexer": "ipython3",
   "version": "3.9.12"
  }
 },
 "nbformat": 4,
 "nbformat_minor": 5
}
