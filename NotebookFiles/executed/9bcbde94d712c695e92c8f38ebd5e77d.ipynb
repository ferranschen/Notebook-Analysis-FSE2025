{
 "cells": [
  {
   "cell_type": "code",
   "execution_count": 1,
   "id": "478c087d",
   "metadata": {
    "execution": {
     "iopub.execute_input": "2023-05-10T00:30:43.516896Z",
     "iopub.status.busy": "2023-05-10T00:30:43.516259Z",
     "iopub.status.idle": "2023-05-10T00:30:43.542686Z",
     "shell.execute_reply": "2023-05-10T00:30:43.542004Z"
    }
   },
   "outputs": [],
   "source": [
    "get_ipython().run_cell_magic('capture', '', \"%logstop\\n%logstart -t -r -q ipython_command_log.py global\\n\\n#- IRONHACKS RESEARCH TRACKING CODE\\n#----------------------------------\\n# The following code is used to help our research team understand how you \\n# our notebook environment. We do not collect any personal information with\\n# the following code, it is used to measure when and how often you work on\\n# your submission files.\\n\\nimport os\\nfrom datetime import datetime\\nimport IPython.core.history as history\\n\\nha = history.HistoryAccessor()\\nha_tail = ha.get_tail(1)\\nha_cmd = next(ha_tail)\\nsession_id = str(ha_cmd[0])\\ncommand_id = str(ha_cmd[1])\\ntimestamp = datetime.utcnow().isoformat()\\nhistory_line = ','.join([session_id, command_id, timestamp]) + '\\\\n'\\nlogfile = open(os.environ['HOME']+'/ipython_session_log.csv', 'a')\\nlogfile.write(history_line)\\nlogfile.close()\\n\")"
   ]
  },
  {
   "cell_type": "code",
   "execution_count": 2,
   "id": "8854b15c",
   "metadata": {
    "execution": {
     "iopub.execute_input": "2023-05-10T00:30:43.546384Z",
     "iopub.status.busy": "2023-05-10T00:30:43.546085Z",
     "iopub.status.idle": "2023-05-10T00:30:43.550796Z",
     "shell.execute_reply": "2023-05-10T00:30:43.550265Z"
    }
   },
   "outputs": [],
   "source": [
    "get_ipython().run_cell_magic('capture', '', \"\\n#- INSTALL ADDITIONAL LIBRARIES IF REQUIRED\\n#------------------------------------------\\n# This is normally not required. The hub environment comes preinstaled with \\n# many packages that you can already use without setup. In case there is some\\n# other library you would like to use that isn't on the list you run this command\\n# once to install them.  If it is already installed this command has no effect.\\n\\n#!python3 -m pip install pandas\\n\")"
   ]
  },
  {
   "cell_type": "markdown",
   "id": "d33b3fe8",
   "metadata": {},
   "source": [
    "- IMPORT THE LIBRARIES YOU WILL USE\n",
    "------------------------------------------\n",
    "You only need to import packages one time per notebook session. To keep your\n",
    "notebook clean and organized you can handle all imports at the top of your file.\n",
    "The following are included for example purposed, feel free to modify or delete \n",
    "anything in this section."
   ]
  },
  {
   "cell_type": "code",
   "execution_count": 3,
   "id": "7c6fd7f0",
   "metadata": {
    "execution": {
     "iopub.execute_input": "2023-05-10T00:30:43.554006Z",
     "iopub.status.busy": "2023-05-10T00:30:43.553583Z",
     "iopub.status.idle": "2023-05-10T00:30:43.961191Z",
     "shell.execute_reply": "2023-05-10T00:30:43.960897Z"
    }
   },
   "outputs": [],
   "source": [
    "import csv\n",
    "import pandas as pd\n",
    "import numpy as np\n",
    "from google.cloud import bigquery\n",
    "from google.oauth2 import service_account\n",
    "from google.cloud.bigquery import magics"
   ]
  },
  {
   "cell_type": "markdown",
   "id": "b74ff86e",
   "metadata": {},
   "source": [
    "- DEFINE YOUR CLASSES AND FUNCTIONS \n",
    "-----------------------------------\n",
    "This is not required, but is helpful in keeping your notebook organized. \n",
    "You can use the following cell or several cells to define your functions\n",
    "and classes to keep them separate from your analysis or results code.\n",
    "In general it useful to define your methods in a separate cell from where\n",
    "it is run."
   ]
  },
  {
   "cell_type": "code",
   "execution_count": 4,
   "id": "1f24c85e",
   "metadata": {
    "execution": {
     "iopub.execute_input": "2023-05-10T00:30:43.962945Z",
     "iopub.status.busy": "2023-05-10T00:30:43.962808Z",
     "iopub.status.idle": "2023-05-10T00:30:43.969886Z",
     "shell.execute_reply": "2023-05-10T00:30:43.969567Z"
    }
   },
   "outputs": [],
   "source": [
    "BIGQUERY_PROJECT = 'ironhacks-data'\n",
    "bigquery_client = bigquery.Client(project=BIGQUERY_PROJECT)"
   ]
  },
  {
   "cell_type": "code",
   "execution_count": 5,
   "id": "eb877528",
   "metadata": {
    "execution": {
     "iopub.execute_input": "2023-05-10T00:30:43.971496Z",
     "iopub.status.busy": "2023-05-10T00:30:43.971405Z",
     "iopub.status.idle": "2023-05-10T00:30:48.453887Z",
     "shell.execute_reply": "2023-05-10T00:30:48.453099Z"
    }
   },
   "outputs": [
    {
     "name": "stdout",
     "output_type": "stream",
     "text": [
      "\u001b[33mWARNING: Ignoring invalid distribution -umpy (/opt/anaconda3/lib/python3.9/site-packages)\u001b[0m\r\n"
     ]
    },
    {
     "name": "stdout",
     "output_type": "stream",
     "text": [
      "\u001b[33mWARNING: Ignoring invalid distribution -umpy (/opt/anaconda3/lib/python3.9/site-packages)\u001b[0m\r\n",
      "Requirement already satisfied: db-dtypes in /opt/anaconda3/lib/python3.9/site-packages (1.0.5)\r\n",
      "Requirement already satisfied: pandas<2.0dev,>=0.24.2 in /opt/anaconda3/lib/python3.9/site-packages (from db-dtypes) (1.5.3)\r\n",
      "Requirement already satisfied: numpy<2.0dev,>=1.16.6 in /opt/anaconda3/lib/python3.9/site-packages (from db-dtypes) (1.22.4)\r\n",
      "Requirement already satisfied: pyarrow>=3.0.0 in /opt/anaconda3/lib/python3.9/site-packages (from db-dtypes) (10.0.1)\r\n",
      "Requirement already satisfied: packaging>=17.0 in /opt/anaconda3/lib/python3.9/site-packages (from db-dtypes) (21.3)\r\n",
      "Requirement already satisfied: pyparsing!=3.0.5,>=2.0.2 in /opt/anaconda3/lib/python3.9/site-packages (from packaging>=17.0->db-dtypes) (3.0.4)\r\n",
      "Requirement already satisfied: python-dateutil>=2.8.1 in /opt/anaconda3/lib/python3.9/site-packages (from pandas<2.0dev,>=0.24.2->db-dtypes) (2.8.2)\r\n",
      "Requirement already satisfied: pytz>=2020.1 in /opt/anaconda3/lib/python3.9/site-packages (from pandas<2.0dev,>=0.24.2->db-dtypes) (2021.3)\r\n",
      "Requirement already satisfied: six>=1.5 in /opt/anaconda3/lib/python3.9/site-packages (from python-dateutil>=2.8.1->pandas<2.0dev,>=0.24.2->db-dtypes) (1.16.0)\r\n",
      "\u001b[33mWARNING: Ignoring invalid distribution -umpy (/opt/anaconda3/lib/python3.9/site-packages)\u001b[0m\r\n"
     ]
    },
    {
     "name": "stdout",
     "output_type": "stream",
     "text": [
      "\u001b[33mWARNING: Ignoring invalid distribution -umpy (/opt/anaconda3/lib/python3.9/site-packages)\u001b[0m\r\n",
      "\u001b[33mWARNING: Ignoring invalid distribution -umpy (/opt/anaconda3/lib/python3.9/site-packages)\u001b[0m\r\n",
      "\u001b[33mWARNING: Ignoring invalid distribution -umpy (/opt/anaconda3/lib/python3.9/site-packages)\u001b[0m\r\n"
     ]
    }
   ],
   "source": [
    "!pip install db-dtypes\n",
    "query_unemployment = \"\"\"\n",
    "SELECT *\n",
    "FROM `ironhacks-data.ironhacks_competition.unemployment_data` \n",
    "\"\"\"\n",
    "query = bigquery_client.query(query_unemployment)\n",
    "df_unemployment = query.to_dataframe()\n",
    "#df_unemployment.head()"
   ]
  },
  {
   "cell_type": "code",
   "execution_count": 6,
   "id": "c281b074",
   "metadata": {
    "execution": {
     "iopub.execute_input": "2023-05-10T00:30:48.457943Z",
     "iopub.status.busy": "2023-05-10T00:30:48.457633Z",
     "iopub.status.idle": "2023-05-10T00:30:50.236817Z",
     "shell.execute_reply": "2023-05-10T00:30:50.235149Z"
    }
   },
   "outputs": [],
   "source": [
    "query_wage = \"\"\"\n",
    "SELECT *\n",
    "FROM `ironhacks-data.ironhacks_competition.wage_data`\n",
    "\"\"\"\n",
    "query = bigquery_client.query(query_wage)\n",
    "df_wage = query.to_dataframe()\n",
    "#df_wage.head()"
   ]
  },
  {
   "cell_type": "code",
   "execution_count": 7,
   "id": "a5ae99a2",
   "metadata": {
    "execution": {
     "iopub.execute_input": "2023-05-10T00:30:50.243795Z",
     "iopub.status.busy": "2023-05-10T00:30:50.243308Z",
     "iopub.status.idle": "2023-05-10T00:30:52.065006Z",
     "shell.execute_reply": "2023-05-10T00:30:52.063264Z"
    }
   },
   "outputs": [],
   "source": [
    "query_pred_list = \"\"\"\n",
    "SELECT *\n",
    "FROM `ironhacks-data.ironhacks_competition.prediction_list`\n",
    "\"\"\"\n",
    "query = bigquery_client.query(query_pred_list)\n",
    "df_pred_list = query.to_dataframe()\n",
    "#df_pred_list.head()"
   ]
  },
  {
   "cell_type": "code",
   "execution_count": 8,
   "id": "a60e1350",
   "metadata": {
    "execution": {
     "iopub.execute_input": "2023-05-10T00:30:52.072377Z",
     "iopub.status.busy": "2023-05-10T00:30:52.071910Z",
     "iopub.status.idle": "2023-05-10T00:30:54.005631Z",
     "shell.execute_reply": "2023-05-10T00:30:54.004820Z"
    }
   },
   "outputs": [],
   "source": [
    "query_schema = \"\"\"\n",
    "SELECT *\n",
    "FROM `ironhacks-data.ironhacks_competition.INFORMATION_SCHEMA.TABLES`\n",
    "\"\"\"\n",
    "query = bigquery_client.query(query_schema)\n",
    "df_schema = query.to_dataframe()\n",
    "#df_schema.head()"
   ]
  },
  {
   "cell_type": "code",
   "execution_count": 9,
   "id": "78114334",
   "metadata": {
    "execution": {
     "iopub.execute_input": "2023-05-10T00:30:54.010211Z",
     "iopub.status.busy": "2023-05-10T00:30:54.009885Z",
     "iopub.status.idle": "2023-05-10T00:30:54.015460Z",
     "shell.execute_reply": "2023-05-10T00:30:54.014738Z"
    }
   },
   "outputs": [],
   "source": [
    "df_three_col = df_unemployment[[\"uu_id\", \"week_number\", \"total_claims\"]]\n",
    "#df_three_col.shape"
   ]
  },
  {
   "cell_type": "code",
   "execution_count": 10,
   "id": "e43ccc48",
   "metadata": {
    "execution": {
     "iopub.execute_input": "2023-05-10T00:30:54.018678Z",
     "iopub.status.busy": "2023-05-10T00:30:54.018442Z",
     "iopub.status.idle": "2023-05-10T00:30:54.026366Z",
     "shell.execute_reply": "2023-05-10T00:30:54.025926Z"
    }
   },
   "outputs": [],
   "source": [
    "df_three_col = df_three_col.drop_duplicates()\n",
    "#print(df_three_col.shape)"
   ]
  },
  {
   "cell_type": "code",
   "execution_count": 11,
   "id": "b37b07dc",
   "metadata": {
    "execution": {
     "iopub.execute_input": "2023-05-10T00:30:54.029030Z",
     "iopub.status.busy": "2023-05-10T00:30:54.028825Z",
     "iopub.status.idle": "2023-05-10T00:30:54.037676Z",
     "shell.execute_reply": "2023-05-10T00:30:54.037221Z"
    }
   },
   "outputs": [],
   "source": [
    "df_three_col.sort_values(by=['uu_id', \"week_number\"],inplace=True)\n",
    "#df_three_col.head(21)\n",
    "#df_three_col.tail(3)\n",
    "#uu_id\tweek_number\ttotal_claims\n",
    "#1876\t001cd9ae23064d7f0fd3cd327c873d8d\t31\t34"
   ]
  },
  {
   "cell_type": "code",
   "execution_count": 12,
   "id": "05243181",
   "metadata": {
    "execution": {
     "iopub.execute_input": "2023-05-10T00:30:54.040220Z",
     "iopub.status.busy": "2023-05-10T00:30:54.040017Z",
     "iopub.status.idle": "2023-05-10T00:30:54.044258Z",
     "shell.execute_reply": "2023-05-10T00:30:54.043816Z"
    }
   },
   "outputs": [
    {
     "name": "stdout",
     "output_type": "stream",
     "text": [
      "1877     31\n",
      "1873     33\n",
      "14073    34\n",
      "7254     35\n",
      "1872     36\n",
      "1871     37\n",
      "10905     1\n",
      "10906     2\n",
      "10910     3\n",
      "8603      5\n",
      "8604      6\n",
      "10907     7\n",
      "3813      8\n",
      "10902     9\n",
      "8602     10\n",
      "3350     14\n",
      "3814     16\n",
      "10903    19\n",
      "13455    20\n",
      "8601     24\n",
      "13456    25\n",
      "11905    26\n",
      "10901    27\n",
      "3812     28\n",
      "3816     29\n",
      "11904    30\n",
      "3811     32\n",
      "16345    11\n",
      "3349     13\n",
      "10894    15\n",
      "13441    22\n",
      "5265     17\n",
      "4818     12\n",
      "4812     18\n",
      "4811     21\n",
      "Name: week_number, dtype: Int64\n"
     ]
    }
   ],
   "source": [
    "tmp_df = df_three_col['week_number']\n",
    "tmp_df = tmp_df.drop_duplicates()\n",
    "print(tmp_df)"
   ]
  },
  {
   "cell_type": "code",
   "execution_count": 13,
   "id": "a66b66d7",
   "metadata": {
    "execution": {
     "iopub.execute_input": "2023-05-10T00:30:54.046736Z",
     "iopub.status.busy": "2023-05-10T00:30:54.046596Z",
     "iopub.status.idle": "2023-05-10T00:30:54.050515Z",
     "shell.execute_reply": "2023-05-10T00:30:54.050127Z"
    }
   },
   "outputs": [],
   "source": [
    "res = pd.DataFrame(columns = ['uu_id', 'total_claims', 'week_number'])"
   ]
  },
  {
   "cell_type": "code",
   "execution_count": 14,
   "id": "d6c6203b",
   "metadata": {
    "execution": {
     "iopub.execute_input": "2023-05-10T00:30:54.052670Z",
     "iopub.status.busy": "2023-05-10T00:30:54.052495Z",
     "iopub.status.idle": "2023-05-10T00:30:54.597115Z",
     "shell.execute_reply": "2023-05-10T00:30:54.596836Z"
    },
    "lines_to_next_cell": 2
   },
   "outputs": [],
   "source": [
    "for cur_uu_id in df_pred_list['uu_id']:\n",
    "    #print(uu_id)\n",
    "    test_data = df_three_col[df_three_col[\"uu_id\"].isin([cur_uu_id]) ]\n",
    "    #test_data = test_data.tail(3)\n",
    "    week_list = test_data['week_number'].tolist()\n",
    "    y_pred = -1\n",
    "    count = 0\n",
    "    sum = 0\n",
    "    for week_id in range(33,38):\n",
    "        if week_id in week_list:\n",
    "            count+=1\n",
    "            tmp_row = test_data[test_data['week_number'] == week_id  ]\n",
    "            sum+= int( tmp_row['total_claims'])\n",
    "    if count > 0:\n",
    "        y_pred = int(sum/count)\n",
    "    else:\n",
    "        max_week = max(week_list)\n",
    "        tmp_row = test_data[test_data['week_number'] ==  max_week  ] \n",
    "        y_pre = tmp_row['total_claims']\n",
    "    cur_row =  pd.DataFrame([[cur_uu_id, y_pred, 42]], columns=['uu_id', 'total_claims', 'week_number'] )\n",
    "    res = pd.concat([res,cur_row] ,ignore_index = True)"
   ]
  },
  {
   "cell_type": "code",
   "execution_count": 15,
   "id": "997649f3",
   "metadata": {
    "execution": {
     "iopub.execute_input": "2023-05-10T00:30:54.598717Z",
     "iopub.status.busy": "2023-05-10T00:30:54.598629Z",
     "iopub.status.idle": "2023-05-10T00:30:54.602801Z",
     "shell.execute_reply": "2023-05-10T00:30:54.602582Z"
    },
    "lines_to_next_cell": 2
   },
   "outputs": [],
   "source": [
    "res.to_csv(\"Nov28_submission_prediction_output.csv\", index=False)"
   ]
  }
 ],
 "metadata": {
  "jupytext": {
   "cell_metadata_filter": "-all",
   "main_language": "python",
   "notebook_metadata_filter": "-all"
  },
  "language_info": {
   "codemirror_mode": {
    "name": "ipython",
    "version": 3
   },
   "file_extension": ".py",
   "mimetype": "text/x-python",
   "name": "python",
   "nbconvert_exporter": "python",
   "pygments_lexer": "ipython3",
   "version": "3.9.12"
  }
 },
 "nbformat": 4,
 "nbformat_minor": 5
}
