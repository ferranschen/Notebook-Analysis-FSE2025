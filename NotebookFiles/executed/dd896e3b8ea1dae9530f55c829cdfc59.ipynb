{
 "cells": [
  {
   "cell_type": "code",
   "execution_count": 1,
   "id": "cc52cb3d",
   "metadata": {
    "execution": {
     "iopub.execute_input": "2023-05-09T21:32:04.523010Z",
     "iopub.status.busy": "2023-05-09T21:32:04.522724Z",
     "iopub.status.idle": "2023-05-09T21:32:06.994416Z",
     "shell.execute_reply": "2023-05-09T21:32:06.993807Z"
    }
   },
   "outputs": [
    {
     "name": "stdout",
     "output_type": "stream",
     "text": [
      "\u001b[33mWARNING: Ignoring invalid distribution -umpy (/opt/anaconda3/lib/python3.9/site-packages)\u001b[0m\r\n",
      "\u001b[33mWARNING: Ignoring invalid distribution -umpy (/opt/anaconda3/lib/python3.9/site-packages)\u001b[0m\r\n",
      "Requirement already satisfied: db-dtypes in /opt/anaconda3/lib/python3.9/site-packages (1.0.5)\r\n",
      "Requirement already satisfied: pyarrow>=3.0.0 in /opt/anaconda3/lib/python3.9/site-packages (from db-dtypes) (10.0.1)\r\n",
      "Requirement already satisfied: packaging>=17.0 in /opt/anaconda3/lib/python3.9/site-packages (from db-dtypes) (21.3)\r\n",
      "Requirement already satisfied: numpy<2.0dev,>=1.16.6 in /opt/anaconda3/lib/python3.9/site-packages (from db-dtypes) (1.22.4)\r\n",
      "Requirement already satisfied: pandas<2.0dev,>=0.24.2 in /opt/anaconda3/lib/python3.9/site-packages (from db-dtypes) (1.5.3)\r\n",
      "Requirement already satisfied: pyparsing!=3.0.5,>=2.0.2 in /opt/anaconda3/lib/python3.9/site-packages (from packaging>=17.0->db-dtypes) (3.0.4)\r\n"
     ]
    },
    {
     "name": "stdout",
     "output_type": "stream",
     "text": [
      "Requirement already satisfied: python-dateutil>=2.8.1 in /opt/anaconda3/lib/python3.9/site-packages (from pandas<2.0dev,>=0.24.2->db-dtypes) (2.8.2)\r\n",
      "Requirement already satisfied: pytz>=2020.1 in /opt/anaconda3/lib/python3.9/site-packages (from pandas<2.0dev,>=0.24.2->db-dtypes) (2021.3)\r\n",
      "Requirement already satisfied: six>=1.5 in /opt/anaconda3/lib/python3.9/site-packages (from python-dateutil>=2.8.1->pandas<2.0dev,>=0.24.2->db-dtypes) (1.16.0)\r\n",
      "\u001b[33mWARNING: Ignoring invalid distribution -umpy (/opt/anaconda3/lib/python3.9/site-packages)\u001b[0m\r\n"
     ]
    },
    {
     "name": "stdout",
     "output_type": "stream",
     "text": [
      "\u001b[33mWARNING: Ignoring invalid distribution -umpy (/opt/anaconda3/lib/python3.9/site-packages)\u001b[0m\r\n",
      "\u001b[33mWARNING: Ignoring invalid distribution -umpy (/opt/anaconda3/lib/python3.9/site-packages)\u001b[0m\r\n",
      "\u001b[33mWARNING: Ignoring invalid distribution -umpy (/opt/anaconda3/lib/python3.9/site-packages)\u001b[0m\r\n"
     ]
    }
   ],
   "source": [
    "get_ipython().system('pip install db-dtypes')"
   ]
  },
  {
   "cell_type": "code",
   "execution_count": 2,
   "id": "dec996fc",
   "metadata": {
    "execution": {
     "iopub.execute_input": "2023-05-09T21:32:06.997814Z",
     "iopub.status.busy": "2023-05-09T21:32:06.997325Z",
     "iopub.status.idle": "2023-05-09T21:32:07.390211Z",
     "shell.execute_reply": "2023-05-09T21:32:07.389900Z"
    }
   },
   "outputs": [],
   "source": [
    "import pandas as pd\n",
    "import numpy as np\n",
    "from google.cloud import bigquery"
   ]
  },
  {
   "cell_type": "code",
   "execution_count": 3,
   "id": "766c284b",
   "metadata": {
    "execution": {
     "iopub.execute_input": "2023-05-09T21:32:07.391883Z",
     "iopub.status.busy": "2023-05-09T21:32:07.391750Z",
     "iopub.status.idle": "2023-05-09T21:32:07.398480Z",
     "shell.execute_reply": "2023-05-09T21:32:07.398178Z"
    }
   },
   "outputs": [],
   "source": [
    "BIGQUERY_PROJECT = 'ironhacks-data'\n",
    "bigquery_client = bigquery.Client(project=BIGQUERY_PROJECT)"
   ]
  },
  {
   "cell_type": "code",
   "execution_count": 4,
   "id": "b557c503",
   "metadata": {
    "execution": {
     "iopub.execute_input": "2023-05-09T21:32:07.400096Z",
     "iopub.status.busy": "2023-05-09T21:32:07.400006Z",
     "iopub.status.idle": "2023-05-09T21:32:07.402148Z",
     "shell.execute_reply": "2023-05-09T21:32:07.401914Z"
    }
   },
   "outputs": [],
   "source": [
    "query = \"\"\"\n",
    "SELECT *\n",
    "FROM `ironhacks-data.ironhacks_competition.unemployment_data`\n",
    "WHERE uu_id='e201385d37b5f6eea30f6d6d4106dc6f'\n",
    "\"\"\""
   ]
  },
  {
   "cell_type": "code",
   "execution_count": 5,
   "id": "b1c96112",
   "metadata": {
    "execution": {
     "iopub.execute_input": "2023-05-09T21:32:07.403553Z",
     "iopub.status.busy": "2023-05-09T21:32:07.403456Z",
     "iopub.status.idle": "2023-05-09T21:32:09.885676Z",
     "shell.execute_reply": "2023-05-09T21:32:09.884963Z"
    }
   },
   "outputs": [],
   "source": [
    "query_job = bigquery_client.query(query)\n",
    "unemployment_data = query_job.to_dataframe()"
   ]
  },
  {
   "cell_type": "code",
   "execution_count": 6,
   "id": "14e6fd25",
   "metadata": {
    "execution": {
     "iopub.execute_input": "2023-05-09T21:32:09.889585Z",
     "iopub.status.busy": "2023-05-09T21:32:09.889263Z",
     "iopub.status.idle": "2023-05-09T21:32:09.899744Z",
     "shell.execute_reply": "2023-05-09T21:32:09.899223Z"
    }
   },
   "outputs": [
    {
     "data": {
      "text/plain": [
       "(0, 25)"
      ]
     },
     "execution_count": 6,
     "metadata": {},
     "output_type": "execute_result"
    }
   ],
   "source": [
    "unemployment_data.shape"
   ]
  },
  {
   "cell_type": "code",
   "execution_count": 7,
   "id": "7985438b",
   "metadata": {
    "execution": {
     "iopub.execute_input": "2023-05-09T21:32:09.902740Z",
     "iopub.status.busy": "2023-05-09T21:32:09.902290Z",
     "iopub.status.idle": "2023-05-09T21:32:09.906746Z",
     "shell.execute_reply": "2023-05-09T21:32:09.906234Z"
    }
   },
   "outputs": [
    {
     "data": {
      "text/plain": [
       "Index(['uu_id', 'timeperiod', 'week_number', 'countyfips', 'tract',\n",
       "       'tract_name', 'total_claims', 'edu_8th_or_less', 'edu_grades_9_11',\n",
       "       'edu_hs_grad_equiv', 'edu_post_hs', 'edu_unknown',\n",
       "       'top_category_employer1', 'top_category_employer2',\n",
       "       'top_category_employer3', 'gender_female', 'gender_male', 'gender_na',\n",
       "       'race_amerindian', 'race_asian', 'race_black', 'race_noanswer',\n",
       "       'race_hawaiiannative', 'race_other', 'race_white'],\n",
       "      dtype='object')"
      ]
     },
     "execution_count": 7,
     "metadata": {},
     "output_type": "execute_result"
    }
   ],
   "source": [
    "unemployment_data.columns"
   ]
  },
  {
   "cell_type": "code",
   "execution_count": 8,
   "id": "34cde753",
   "metadata": {
    "execution": {
     "iopub.execute_input": "2023-05-09T21:32:09.909355Z",
     "iopub.status.busy": "2023-05-09T21:32:09.909184Z",
     "iopub.status.idle": "2023-05-09T21:32:09.913417Z",
     "shell.execute_reply": "2023-05-09T21:32:09.912991Z"
    }
   },
   "outputs": [],
   "source": [
    "unemployment_data.drop(['uu_id', 'countyfips', 'tract',\n",
    "       'tract_name', 'edu_8th_or_less', 'edu_grades_9_11',\n",
    "       'edu_hs_grad_equiv', 'edu_post_hs', 'edu_unknown',\n",
    "       'top_category_employer1', 'top_category_employer2',\n",
    "       'top_category_employer3', 'gender_female', 'gender_male', 'gender_na',\n",
    "       'race_amerindian', 'race_asian', 'race_black', 'race_noanswer',\n",
    "       'race_hawaiiannative', 'race_other', 'race_white'], axis=1, inplace=True)"
   ]
  },
  {
   "cell_type": "code",
   "execution_count": 9,
   "id": "9127795e",
   "metadata": {
    "execution": {
     "iopub.execute_input": "2023-05-09T21:32:09.915860Z",
     "iopub.status.busy": "2023-05-09T21:32:09.915659Z",
     "iopub.status.idle": "2023-05-09T21:32:09.922172Z",
     "shell.execute_reply": "2023-05-09T21:32:09.921778Z"
    },
    "lines_to_next_cell": 1
   },
   "outputs": [
    {
     "data": {
      "text/html": [
       "<div>\n",
       "<style scoped>\n",
       "    .dataframe tbody tr th:only-of-type {\n",
       "        vertical-align: middle;\n",
       "    }\n",
       "\n",
       "    .dataframe tbody tr th {\n",
       "        vertical-align: top;\n",
       "    }\n",
       "\n",
       "    .dataframe thead th {\n",
       "        text-align: right;\n",
       "    }\n",
       "</style>\n",
       "<table border=\"1\" class=\"dataframe\">\n",
       "  <thead>\n",
       "    <tr style=\"text-align: right;\">\n",
       "      <th></th>\n",
       "      <th>timeperiod</th>\n",
       "      <th>week_number</th>\n",
       "      <th>total_claims</th>\n",
       "    </tr>\n",
       "  </thead>\n",
       "  <tbody>\n",
       "  </tbody>\n",
       "</table>\n",
       "</div>"
      ],
      "text/plain": [
       "Empty DataFrame\n",
       "Columns: [timeperiod, week_number, total_claims]\n",
       "Index: []"
      ]
     },
     "execution_count": 9,
     "metadata": {},
     "output_type": "execute_result"
    }
   ],
   "source": [
    "unemployment_data.drop_duplicates(inplace=True)\n",
    "unemployment_data.sort_values(['week_number'])"
   ]
  },
  {
   "cell_type": "code",
   "execution_count": 10,
   "id": "8921646e",
   "metadata": {
    "execution": {
     "iopub.execute_input": "2023-05-09T21:32:09.924341Z",
     "iopub.status.busy": "2023-05-09T21:32:09.924167Z",
     "iopub.status.idle": "2023-05-09T21:32:09.927532Z",
     "shell.execute_reply": "2023-05-09T21:32:09.927110Z"
    }
   },
   "outputs": [
    {
     "ename": "IndentationError",
     "evalue": "expected an indented block (1229759627.py, line 3)",
     "output_type": "error",
     "traceback": [
      "\u001b[0;36m  Cell \u001b[0;32mIn [10], line 3\u001b[0;36m\u001b[0m\n\u001b[0;31m    for week in range(1, 37):\u001b[0m\n\u001b[0m                             ^\u001b[0m\n\u001b[0;31mIndentationError\u001b[0m\u001b[0;31m:\u001b[0m expected an indented block\n"
     ]
    }
   ],
   "source": [
    "def add_missing_weeks(df):\n",
    "    # Fill in missing weeks by taking the ceil of the average of prev and next\n",
    "    for week in range(1, 37):"
   ]
  },
  {
   "cell_type": "code",
   "execution_count": 11,
   "id": "65adbea5",
   "metadata": {
    "execution": {
     "iopub.execute_input": "2023-05-09T21:32:09.929670Z",
     "iopub.status.busy": "2023-05-09T21:32:09.929538Z",
     "iopub.status.idle": "2023-05-09T21:32:09.933450Z",
     "shell.execute_reply": "2023-05-09T21:32:09.933093Z"
    }
   },
   "outputs": [],
   "source": [
    "unemployment_data['year'] = unemployment_data['timeperiod'].apply(lambda x: str(x)[:4])\n",
    "unemployment_data['month'] = unemployment_data['timeperiod'].apply(lambda x: str(x)[4:6])\n",
    "unemployment_data['day'] = unemployment_data['timeperiod'].apply(lambda x: str(x)[6:])"
   ]
  },
  {
   "cell_type": "code",
   "execution_count": 12,
   "id": "0d2db82a",
   "metadata": {
    "execution": {
     "iopub.execute_input": "2023-05-09T21:32:09.935311Z",
     "iopub.status.busy": "2023-05-09T21:32:09.935159Z",
     "iopub.status.idle": "2023-05-09T21:32:09.939013Z",
     "shell.execute_reply": "2023-05-09T21:32:09.938684Z"
    }
   },
   "outputs": [
    {
     "data": {
      "text/html": [
       "<div>\n",
       "<style scoped>\n",
       "    .dataframe tbody tr th:only-of-type {\n",
       "        vertical-align: middle;\n",
       "    }\n",
       "\n",
       "    .dataframe tbody tr th {\n",
       "        vertical-align: top;\n",
       "    }\n",
       "\n",
       "    .dataframe thead th {\n",
       "        text-align: right;\n",
       "    }\n",
       "</style>\n",
       "<table border=\"1\" class=\"dataframe\">\n",
       "  <thead>\n",
       "    <tr style=\"text-align: right;\">\n",
       "      <th></th>\n",
       "      <th>timeperiod</th>\n",
       "      <th>week_number</th>\n",
       "      <th>total_claims</th>\n",
       "      <th>year</th>\n",
       "      <th>month</th>\n",
       "      <th>day</th>\n",
       "    </tr>\n",
       "  </thead>\n",
       "  <tbody>\n",
       "  </tbody>\n",
       "</table>\n",
       "</div>"
      ],
      "text/plain": [
       "Empty DataFrame\n",
       "Columns: [timeperiod, week_number, total_claims, year, month, day]\n",
       "Index: []"
      ]
     },
     "execution_count": 12,
     "metadata": {},
     "output_type": "execute_result"
    }
   ],
   "source": [
    "unemployment_data"
   ]
  },
  {
   "cell_type": "code",
   "execution_count": 13,
   "id": "faae3b7e",
   "metadata": {
    "execution": {
     "iopub.execute_input": "2023-05-09T21:32:09.940757Z",
     "iopub.status.busy": "2023-05-09T21:32:09.940641Z",
     "iopub.status.idle": "2023-05-09T21:32:09.943638Z",
     "shell.execute_reply": "2023-05-09T21:32:09.943324Z"
    }
   },
   "outputs": [],
   "source": [
    "unemployment_data['ds'] = pd.DatetimeIndex(unemployment_data['year'] + '-' + unemployment_data['month'] + '-' + unemployment_data['day'])"
   ]
  },
  {
   "cell_type": "code",
   "execution_count": 14,
   "id": "0cd7b9cf",
   "metadata": {
    "execution": {
     "iopub.execute_input": "2023-05-09T21:32:09.945384Z",
     "iopub.status.busy": "2023-05-09T21:32:09.945245Z",
     "iopub.status.idle": "2023-05-09T21:32:09.948772Z",
     "shell.execute_reply": "2023-05-09T21:32:09.948474Z"
    }
   },
   "outputs": [
    {
     "data": {
      "text/html": [
       "<div>\n",
       "<style scoped>\n",
       "    .dataframe tbody tr th:only-of-type {\n",
       "        vertical-align: middle;\n",
       "    }\n",
       "\n",
       "    .dataframe tbody tr th {\n",
       "        vertical-align: top;\n",
       "    }\n",
       "\n",
       "    .dataframe thead th {\n",
       "        text-align: right;\n",
       "    }\n",
       "</style>\n",
       "<table border=\"1\" class=\"dataframe\">\n",
       "  <thead>\n",
       "    <tr style=\"text-align: right;\">\n",
       "      <th></th>\n",
       "      <th>timeperiod</th>\n",
       "      <th>week_number</th>\n",
       "      <th>total_claims</th>\n",
       "      <th>year</th>\n",
       "      <th>month</th>\n",
       "      <th>day</th>\n",
       "      <th>ds</th>\n",
       "    </tr>\n",
       "  </thead>\n",
       "  <tbody>\n",
       "  </tbody>\n",
       "</table>\n",
       "</div>"
      ],
      "text/plain": [
       "Empty DataFrame\n",
       "Columns: [timeperiod, week_number, total_claims, year, month, day, ds]\n",
       "Index: []"
      ]
     },
     "execution_count": 14,
     "metadata": {},
     "output_type": "execute_result"
    }
   ],
   "source": [
    "unemployment_data"
   ]
  },
  {
   "cell_type": "code",
   "execution_count": 15,
   "id": "5d3df6d8",
   "metadata": {
    "execution": {
     "iopub.execute_input": "2023-05-09T21:32:09.950396Z",
     "iopub.status.busy": "2023-05-09T21:32:09.950291Z",
     "iopub.status.idle": "2023-05-09T21:32:09.952888Z",
     "shell.execute_reply": "2023-05-09T21:32:09.952582Z"
    }
   },
   "outputs": [],
   "source": [
    "unemployment_data.drop(['timeperiod', 'year', 'month', 'day', 'week_number'], axis=1, inplace=True)\n",
    "unemployment_data.columns = ['y', 'ds']"
   ]
  },
  {
   "cell_type": "code",
   "execution_count": 16,
   "id": "65983306",
   "metadata": {
    "execution": {
     "iopub.execute_input": "2023-05-09T21:32:09.954384Z",
     "iopub.status.busy": "2023-05-09T21:32:09.954292Z",
     "iopub.status.idle": "2023-05-09T21:32:09.957271Z",
     "shell.execute_reply": "2023-05-09T21:32:09.956999Z"
    }
   },
   "outputs": [
    {
     "data": {
      "text/html": [
       "<div>\n",
       "<style scoped>\n",
       "    .dataframe tbody tr th:only-of-type {\n",
       "        vertical-align: middle;\n",
       "    }\n",
       "\n",
       "    .dataframe tbody tr th {\n",
       "        vertical-align: top;\n",
       "    }\n",
       "\n",
       "    .dataframe thead th {\n",
       "        text-align: right;\n",
       "    }\n",
       "</style>\n",
       "<table border=\"1\" class=\"dataframe\">\n",
       "  <thead>\n",
       "    <tr style=\"text-align: right;\">\n",
       "      <th></th>\n",
       "      <th>y</th>\n",
       "      <th>ds</th>\n",
       "    </tr>\n",
       "  </thead>\n",
       "  <tbody>\n",
       "  </tbody>\n",
       "</table>\n",
       "</div>"
      ],
      "text/plain": [
       "Empty DataFrame\n",
       "Columns: [y, ds]\n",
       "Index: []"
      ]
     },
     "execution_count": 16,
     "metadata": {},
     "output_type": "execute_result"
    }
   ],
   "source": [
    "unemployment_data"
   ]
  },
  {
   "cell_type": "code",
   "execution_count": 17,
   "id": "c5b80962",
   "metadata": {
    "execution": {
     "iopub.execute_input": "2023-05-09T21:32:09.958771Z",
     "iopub.status.busy": "2023-05-09T21:32:09.958662Z",
     "iopub.status.idle": "2023-05-09T21:32:09.960757Z",
     "shell.execute_reply": "2023-05-09T21:32:09.960491Z"
    }
   },
   "outputs": [],
   "source": [
    "unemployment_data.sort_values(['ds'], inplace=True)"
   ]
  },
  {
   "cell_type": "code",
   "execution_count": 18,
   "id": "daf802a2",
   "metadata": {
    "execution": {
     "iopub.execute_input": "2023-05-09T21:32:09.962205Z",
     "iopub.status.busy": "2023-05-09T21:32:09.962102Z",
     "iopub.status.idle": "2023-05-09T21:32:09.964865Z",
     "shell.execute_reply": "2023-05-09T21:32:09.964611Z"
    }
   },
   "outputs": [
    {
     "data": {
      "text/html": [
       "<div>\n",
       "<style scoped>\n",
       "    .dataframe tbody tr th:only-of-type {\n",
       "        vertical-align: middle;\n",
       "    }\n",
       "\n",
       "    .dataframe tbody tr th {\n",
       "        vertical-align: top;\n",
       "    }\n",
       "\n",
       "    .dataframe thead th {\n",
       "        text-align: right;\n",
       "    }\n",
       "</style>\n",
       "<table border=\"1\" class=\"dataframe\">\n",
       "  <thead>\n",
       "    <tr style=\"text-align: right;\">\n",
       "      <th></th>\n",
       "      <th>y</th>\n",
       "      <th>ds</th>\n",
       "    </tr>\n",
       "  </thead>\n",
       "  <tbody>\n",
       "  </tbody>\n",
       "</table>\n",
       "</div>"
      ],
      "text/plain": [
       "Empty DataFrame\n",
       "Columns: [y, ds]\n",
       "Index: []"
      ]
     },
     "execution_count": 18,
     "metadata": {},
     "output_type": "execute_result"
    }
   ],
   "source": [
    "unemployment_data"
   ]
  },
  {
   "cell_type": "code",
   "execution_count": 19,
   "id": "06af4749",
   "metadata": {
    "execution": {
     "iopub.execute_input": "2023-05-09T21:32:09.966234Z",
     "iopub.status.busy": "2023-05-09T21:32:09.966136Z",
     "iopub.status.idle": "2023-05-09T21:32:12.425031Z",
     "shell.execute_reply": "2023-05-09T21:32:12.424425Z"
    }
   },
   "outputs": [
    {
     "name": "stdout",
     "output_type": "stream",
     "text": [
      "\u001b[33mWARNING: Ignoring invalid distribution -umpy (/opt/anaconda3/lib/python3.9/site-packages)\u001b[0m\r\n",
      "\u001b[33mWARNING: Ignoring invalid distribution -umpy (/opt/anaconda3/lib/python3.9/site-packages)\u001b[0m\r\n",
      "Requirement already satisfied: prophet in /opt/anaconda3/lib/python3.9/site-packages (1.1.2)\r\n",
      "Requirement already satisfied: pandas>=1.0.4 in /opt/anaconda3/lib/python3.9/site-packages (from prophet) (1.5.3)\r\n",
      "Requirement already satisfied: holidays>=0.14.2 in /opt/anaconda3/lib/python3.9/site-packages (from prophet) (0.21.13)\r\n"
     ]
    },
    {
     "name": "stdout",
     "output_type": "stream",
     "text": [
      "Requirement already satisfied: python-dateutil>=2.8.0 in /opt/anaconda3/lib/python3.9/site-packages (from prophet) (2.8.2)\r\n",
      "Requirement already satisfied: tqdm>=4.36.1 in /opt/anaconda3/lib/python3.9/site-packages (from prophet) (4.62.3)\r\n",
      "Requirement already satisfied: numpy>=1.15.4 in /opt/anaconda3/lib/python3.9/site-packages (from prophet) (1.22.4)\r\n",
      "Requirement already satisfied: matplotlib>=2.0.0 in /opt/anaconda3/lib/python3.9/site-packages (from prophet) (3.7.1)\r\n",
      "Requirement already satisfied: LunarCalendar>=0.0.9 in /opt/anaconda3/lib/python3.9/site-packages (from prophet) (0.0.9)\r\n",
      "Requirement already satisfied: cmdstanpy>=1.0.4 in /opt/anaconda3/lib/python3.9/site-packages (from prophet) (1.1.0)\r\n",
      "Requirement already satisfied: convertdate>=2.1.2 in /opt/anaconda3/lib/python3.9/site-packages (from prophet) (2.4.0)\r\n",
      "Requirement already satisfied: pymeeus<=1,>=0.3.13 in /opt/anaconda3/lib/python3.9/site-packages (from convertdate>=2.1.2->prophet) (0.5.12)\r\n",
      "Requirement already satisfied: korean-lunar-calendar in /opt/anaconda3/lib/python3.9/site-packages (from holidays>=0.14.2->prophet) (0.3.1)\r\n",
      "Requirement already satisfied: hijri-converter in /opt/anaconda3/lib/python3.9/site-packages (from holidays>=0.14.2->prophet) (2.2.4)\r\n",
      "Requirement already satisfied: pytz in /opt/anaconda3/lib/python3.9/site-packages (from LunarCalendar>=0.0.9->prophet) (2021.3)\r\n",
      "Requirement already satisfied: ephem>=3.7.5.3 in /opt/anaconda3/lib/python3.9/site-packages (from LunarCalendar>=0.0.9->prophet) (4.1.4)\r\n",
      "Requirement already satisfied: importlib-resources>=3.2.0 in /opt/anaconda3/lib/python3.9/site-packages (from matplotlib>=2.0.0->prophet) (5.12.0)\r\n",
      "Requirement already satisfied: packaging>=20.0 in /opt/anaconda3/lib/python3.9/site-packages (from matplotlib>=2.0.0->prophet) (21.3)\r\n",
      "Requirement already satisfied: fonttools>=4.22.0 in /opt/anaconda3/lib/python3.9/site-packages (from matplotlib>=2.0.0->prophet) (4.25.0)\r\n",
      "Requirement already satisfied: cycler>=0.10 in /opt/anaconda3/lib/python3.9/site-packages (from matplotlib>=2.0.0->prophet) (0.10.0)\r\n",
      "Requirement already satisfied: pyparsing>=2.3.1 in /opt/anaconda3/lib/python3.9/site-packages (from matplotlib>=2.0.0->prophet) (3.0.4)\r\n",
      "Requirement already satisfied: pillow>=6.2.0 in /opt/anaconda3/lib/python3.9/site-packages (from matplotlib>=2.0.0->prophet) (8.4.0)\r\n",
      "Requirement already satisfied: contourpy>=1.0.1 in /opt/anaconda3/lib/python3.9/site-packages (from matplotlib>=2.0.0->prophet) (1.0.7)\r\n",
      "Requirement already satisfied: kiwisolver>=1.0.1 in /opt/anaconda3/lib/python3.9/site-packages (from matplotlib>=2.0.0->prophet) (1.3.1)\r\n",
      "Requirement already satisfied: six in /opt/anaconda3/lib/python3.9/site-packages (from cycler>=0.10->matplotlib>=2.0.0->prophet) (1.16.0)\r\n"
     ]
    },
    {
     "name": "stdout",
     "output_type": "stream",
     "text": [
      "Requirement already satisfied: zipp>=3.1.0 in /opt/anaconda3/lib/python3.9/site-packages (from importlib-resources>=3.2.0->matplotlib>=2.0.0->prophet) (3.6.0)\r\n",
      "\u001b[33mWARNING: Ignoring invalid distribution -umpy (/opt/anaconda3/lib/python3.9/site-packages)\u001b[0m\r\n"
     ]
    },
    {
     "name": "stdout",
     "output_type": "stream",
     "text": [
      "\u001b[33mWARNING: Ignoring invalid distribution -umpy (/opt/anaconda3/lib/python3.9/site-packages)\u001b[0m\r\n",
      "\u001b[33mWARNING: Ignoring invalid distribution -umpy (/opt/anaconda3/lib/python3.9/site-packages)\u001b[0m\r\n",
      "\u001b[33mWARNING: Ignoring invalid distribution -umpy (/opt/anaconda3/lib/python3.9/site-packages)\u001b[0m\r\n"
     ]
    }
   ],
   "source": [
    "get_ipython().system('pip install prophet')"
   ]
  },
  {
   "cell_type": "code",
   "execution_count": 20,
   "id": "b486a36e",
   "metadata": {
    "execution": {
     "iopub.execute_input": "2023-05-09T21:32:12.428512Z",
     "iopub.status.busy": "2023-05-09T21:32:12.428099Z",
     "iopub.status.idle": "2023-05-09T21:32:12.521993Z",
     "shell.execute_reply": "2023-05-09T21:32:12.521725Z"
    }
   },
   "outputs": [
    {
     "ename": "ModuleNotFoundError",
     "evalue": "No module named 'prophet'",
     "output_type": "error",
     "traceback": [
      "\u001b[0;31m---------------------------------------------------------------------------\u001b[0m",
      "\u001b[0;31mModuleNotFoundError\u001b[0m                       Traceback (most recent call last)",
      "Cell \u001b[0;32mIn [20], line 1\u001b[0m\n\u001b[0;32m----> 1\u001b[0m \u001b[38;5;28;01mfrom\u001b[39;00m \u001b[38;5;21;01mprophet\u001b[39;00m \u001b[38;5;28;01mimport\u001b[39;00m Prophet\n",
      "\u001b[0;31mModuleNotFoundError\u001b[0m: No module named 'prophet'"
     ]
    }
   ],
   "source": [
    "from prophet import Prophet"
   ]
  },
  {
   "cell_type": "code",
   "execution_count": 21,
   "id": "e805360f",
   "metadata": {
    "execution": {
     "iopub.execute_input": "2023-05-09T21:32:12.523391Z",
     "iopub.status.busy": "2023-05-09T21:32:12.523307Z",
     "iopub.status.idle": "2023-05-09T21:32:12.525080Z",
     "shell.execute_reply": "2023-05-09T21:32:12.524832Z"
    }
   },
   "outputs": [],
   "source": [
    "ud = unemployment_data"
   ]
  },
  {
   "cell_type": "code",
   "execution_count": 22,
   "id": "04841429",
   "metadata": {
    "execution": {
     "iopub.execute_input": "2023-05-09T21:32:12.526357Z",
     "iopub.status.busy": "2023-05-09T21:32:12.526276Z",
     "iopub.status.idle": "2023-05-09T21:32:12.528693Z",
     "shell.execute_reply": "2023-05-09T21:32:12.528471Z"
    }
   },
   "outputs": [],
   "source": [
    "threshold_date = pd.to_datetime('2022-05-14')\n",
    "mask = ud['ds'] < threshold_date"
   ]
  },
  {
   "cell_type": "code",
   "execution_count": 23,
   "id": "84efc7bf",
   "metadata": {
    "execution": {
     "iopub.execute_input": "2023-05-09T21:32:12.530071Z",
     "iopub.status.busy": "2023-05-09T21:32:12.529984Z",
     "iopub.status.idle": "2023-05-09T21:32:12.532690Z",
     "shell.execute_reply": "2023-05-09T21:32:12.532461Z"
    }
   },
   "outputs": [],
   "source": [
    "# Split the data and select `ds` and `y` columns.\n",
    "ud_train = ud[mask][['ds', 'y']]\n",
    "ud_test = ud[~mask][['ds', 'y']]"
   ]
  },
  {
   "cell_type": "code",
   "execution_count": 24,
   "id": "c47e7277",
   "metadata": {
    "execution": {
     "iopub.execute_input": "2023-05-09T21:32:12.533982Z",
     "iopub.status.busy": "2023-05-09T21:32:12.533908Z",
     "iopub.status.idle": "2023-05-09T21:32:12.536696Z",
     "shell.execute_reply": "2023-05-09T21:32:12.536479Z"
    }
   },
   "outputs": [
    {
     "data": {
      "text/html": [
       "<div>\n",
       "<style scoped>\n",
       "    .dataframe tbody tr th:only-of-type {\n",
       "        vertical-align: middle;\n",
       "    }\n",
       "\n",
       "    .dataframe tbody tr th {\n",
       "        vertical-align: top;\n",
       "    }\n",
       "\n",
       "    .dataframe thead th {\n",
       "        text-align: right;\n",
       "    }\n",
       "</style>\n",
       "<table border=\"1\" class=\"dataframe\">\n",
       "  <thead>\n",
       "    <tr style=\"text-align: right;\">\n",
       "      <th></th>\n",
       "      <th>ds</th>\n",
       "      <th>y</th>\n",
       "    </tr>\n",
       "  </thead>\n",
       "  <tbody>\n",
       "  </tbody>\n",
       "</table>\n",
       "</div>"
      ],
      "text/plain": [
       "Empty DataFrame\n",
       "Columns: [ds, y]\n",
       "Index: []"
      ]
     },
     "execution_count": 24,
     "metadata": {},
     "output_type": "execute_result"
    }
   ],
   "source": [
    "ud_train"
   ]
  },
  {
   "cell_type": "code",
   "execution_count": 25,
   "id": "17f4548c",
   "metadata": {
    "execution": {
     "iopub.execute_input": "2023-05-09T21:32:12.538039Z",
     "iopub.status.busy": "2023-05-09T21:32:12.537959Z",
     "iopub.status.idle": "2023-05-09T21:32:12.544860Z",
     "shell.execute_reply": "2023-05-09T21:32:12.544634Z"
    }
   },
   "outputs": [
    {
     "ename": "NameError",
     "evalue": "name 'Prophet' is not defined",
     "output_type": "error",
     "traceback": [
      "\u001b[0;31m---------------------------------------------------------------------------\u001b[0m",
      "\u001b[0;31mNameError\u001b[0m                                 Traceback (most recent call last)",
      "Cell \u001b[0;32mIn [25], line 1\u001b[0m\n\u001b[0;32m----> 1\u001b[0m m \u001b[38;5;241m=\u001b[39m \u001b[43mProphet\u001b[49m(weekly_seasonality\u001b[38;5;241m=\u001b[39m\u001b[38;5;28;01mFalse\u001b[39;00m,\n\u001b[1;32m      2\u001b[0m         daily_seasonality\u001b[38;5;241m=\u001b[39m\u001b[38;5;28;01mFalse\u001b[39;00m,\n\u001b[1;32m      3\u001b[0m         interval_width\u001b[38;5;241m=\u001b[39m\u001b[38;5;241m0.95\u001b[39m, \n\u001b[1;32m      4\u001b[0m         mcmc_samples \u001b[38;5;241m=\u001b[39m \u001b[38;5;241m500\u001b[39m)\n",
      "\u001b[0;31mNameError\u001b[0m: name 'Prophet' is not defined"
     ]
    }
   ],
   "source": [
    "m = Prophet(weekly_seasonality=False,\n",
    "        daily_seasonality=False,\n",
    "        interval_width=0.95, \n",
    "        mcmc_samples = 500)"
   ]
  },
  {
   "cell_type": "markdown",
   "id": "acf83a44",
   "metadata": {},
   "source": [
    "m.add_seasonality(\n",
    "        name='monthly', \n",
    "        period=30.5, \n",
    "        fourier_order=5\n",
    "    )"
   ]
  },
  {
   "cell_type": "code",
   "execution_count": 26,
   "id": "77aa1488",
   "metadata": {
    "execution": {
     "iopub.execute_input": "2023-05-09T21:32:12.546211Z",
     "iopub.status.busy": "2023-05-09T21:32:12.546129Z",
     "iopub.status.idle": "2023-05-09T21:32:12.552438Z",
     "shell.execute_reply": "2023-05-09T21:32:12.552214Z"
    }
   },
   "outputs": [
    {
     "ename": "NameError",
     "evalue": "name 'm' is not defined",
     "output_type": "error",
     "traceback": [
      "\u001b[0;31m---------------------------------------------------------------------------\u001b[0m",
      "\u001b[0;31mNameError\u001b[0m                                 Traceback (most recent call last)",
      "Cell \u001b[0;32mIn [26], line 1\u001b[0m\n\u001b[0;32m----> 1\u001b[0m \u001b[43mm\u001b[49m\u001b[38;5;241m.\u001b[39mfit(ud_train)\n",
      "\u001b[0;31mNameError\u001b[0m: name 'm' is not defined"
     ]
    }
   ],
   "source": [
    "m.fit(ud_train)"
   ]
  },
  {
   "cell_type": "code",
   "execution_count": 27,
   "id": "a479a6e3",
   "metadata": {
    "execution": {
     "iopub.execute_input": "2023-05-09T21:32:12.553819Z",
     "iopub.status.busy": "2023-05-09T21:32:12.553737Z",
     "iopub.status.idle": "2023-05-09T21:32:12.560177Z",
     "shell.execute_reply": "2023-05-09T21:32:12.559960Z"
    }
   },
   "outputs": [
    {
     "ename": "NameError",
     "evalue": "name 'm' is not defined",
     "output_type": "error",
     "traceback": [
      "\u001b[0;31m---------------------------------------------------------------------------\u001b[0m",
      "\u001b[0;31mNameError\u001b[0m                                 Traceback (most recent call last)",
      "Cell \u001b[0;32mIn [27], line 1\u001b[0m\n\u001b[0;32m----> 1\u001b[0m future \u001b[38;5;241m=\u001b[39m \u001b[43mm\u001b[49m\u001b[38;5;241m.\u001b[39mmake_future_dataframe(periods\u001b[38;5;241m=\u001b[39m\u001b[38;5;241m20\u001b[39m, freq\u001b[38;5;241m=\u001b[39m\u001b[38;5;124m'\u001b[39m\u001b[38;5;124mW\u001b[39m\u001b[38;5;124m'\u001b[39m)\n",
      "\u001b[0;31mNameError\u001b[0m: name 'm' is not defined"
     ]
    }
   ],
   "source": [
    "future = m.make_future_dataframe(periods=20, freq='W')"
   ]
  },
  {
   "cell_type": "code",
   "execution_count": 28,
   "id": "d9ff13b9",
   "metadata": {
    "execution": {
     "iopub.execute_input": "2023-05-09T21:32:12.561473Z",
     "iopub.status.busy": "2023-05-09T21:32:12.561393Z",
     "iopub.status.idle": "2023-05-09T21:32:12.567682Z",
     "shell.execute_reply": "2023-05-09T21:32:12.567448Z"
    }
   },
   "outputs": [
    {
     "ename": "NameError",
     "evalue": "name 'm' is not defined",
     "output_type": "error",
     "traceback": [
      "\u001b[0;31m---------------------------------------------------------------------------\u001b[0m",
      "\u001b[0;31mNameError\u001b[0m                                 Traceback (most recent call last)",
      "Cell \u001b[0;32mIn [28], line 1\u001b[0m\n\u001b[0;32m----> 1\u001b[0m forecast \u001b[38;5;241m=\u001b[39m \u001b[43mm\u001b[49m\u001b[38;5;241m.\u001b[39mpredict(df\u001b[38;5;241m=\u001b[39mfuture)\n",
      "\u001b[0;31mNameError\u001b[0m: name 'm' is not defined"
     ]
    }
   ],
   "source": [
    "forecast = m.predict(df=future)"
   ]
  },
  {
   "cell_type": "code",
   "execution_count": 29,
   "id": "d5b0b2ce",
   "metadata": {
    "execution": {
     "iopub.execute_input": "2023-05-09T21:32:12.569014Z",
     "iopub.status.busy": "2023-05-09T21:32:12.568932Z",
     "iopub.status.idle": "2023-05-09T21:32:12.575749Z",
     "shell.execute_reply": "2023-05-09T21:32:12.575513Z"
    }
   },
   "outputs": [
    {
     "ename": "NameError",
     "evalue": "name 'm' is not defined",
     "output_type": "error",
     "traceback": [
      "\u001b[0;31m---------------------------------------------------------------------------\u001b[0m",
      "\u001b[0;31mNameError\u001b[0m                                 Traceback (most recent call last)",
      "Cell \u001b[0;32mIn [29], line 1\u001b[0m\n\u001b[0;32m----> 1\u001b[0m \u001b[43mm\u001b[49m\u001b[38;5;241m.\u001b[39mfit(ud_train, show_console\u001b[38;5;241m=\u001b[39m\u001b[38;5;28;01mTrue\u001b[39;00m)\n",
      "\u001b[0;31mNameError\u001b[0m: name 'm' is not defined"
     ]
    }
   ],
   "source": [
    "m.fit(ud_train, show_console=True)"
   ]
  },
  {
   "cell_type": "code",
   "execution_count": 30,
   "id": "f31fe1f5",
   "metadata": {
    "execution": {
     "iopub.execute_input": "2023-05-09T21:32:12.577173Z",
     "iopub.status.busy": "2023-05-09T21:32:12.577069Z",
     "iopub.status.idle": "2023-05-09T21:32:12.583776Z",
     "shell.execute_reply": "2023-05-09T21:32:12.583548Z"
    }
   },
   "outputs": [
    {
     "ename": "NameError",
     "evalue": "name 'Prophet' is not defined",
     "output_type": "error",
     "traceback": [
      "\u001b[0;31m---------------------------------------------------------------------------\u001b[0m",
      "\u001b[0;31mNameError\u001b[0m                                 Traceback (most recent call last)",
      "Cell \u001b[0;32mIn [30], line 1\u001b[0m\n\u001b[0;32m----> 1\u001b[0m m \u001b[38;5;241m=\u001b[39m \u001b[43mProphet\u001b[49m(weekly_seasonality\u001b[38;5;241m=\u001b[39m\u001b[38;5;28;01mFalse\u001b[39;00m,\n\u001b[1;32m      2\u001b[0m         daily_seasonality\u001b[38;5;241m=\u001b[39m\u001b[38;5;28;01mFalse\u001b[39;00m,\n\u001b[1;32m      3\u001b[0m         interval_width\u001b[38;5;241m=\u001b[39m\u001b[38;5;241m0.95\u001b[39m, \n\u001b[1;32m      4\u001b[0m         mcmc_samples \u001b[38;5;241m=\u001b[39m \u001b[38;5;241m500\u001b[39m)\n",
      "\u001b[0;31mNameError\u001b[0m: name 'Prophet' is not defined"
     ]
    }
   ],
   "source": [
    "m = Prophet(weekly_seasonality=False,\n",
    "        daily_seasonality=False,\n",
    "        interval_width=0.95, \n",
    "        mcmc_samples = 500)"
   ]
  },
  {
   "cell_type": "markdown",
   "id": "0535a42a",
   "metadata": {},
   "source": [
    "m.add_seasonality(\n",
    "        name='monthly', \n",
    "        period=30.5, \n",
    "        fourier_order=5\n",
    "    )"
   ]
  },
  {
   "cell_type": "code",
   "execution_count": 31,
   "id": "55157a75",
   "metadata": {
    "execution": {
     "iopub.execute_input": "2023-05-09T21:32:12.585109Z",
     "iopub.status.busy": "2023-05-09T21:32:12.585030Z",
     "iopub.status.idle": "2023-05-09T21:32:12.591329Z",
     "shell.execute_reply": "2023-05-09T21:32:12.591099Z"
    }
   },
   "outputs": [
    {
     "ename": "NameError",
     "evalue": "name 'm' is not defined",
     "output_type": "error",
     "traceback": [
      "\u001b[0;31m---------------------------------------------------------------------------\u001b[0m",
      "\u001b[0;31mNameError\u001b[0m                                 Traceback (most recent call last)",
      "Cell \u001b[0;32mIn [31], line 1\u001b[0m\n\u001b[0;32m----> 1\u001b[0m \u001b[43mm\u001b[49m\u001b[38;5;241m.\u001b[39mfit(ud_train, show_console\u001b[38;5;241m=\u001b[39m\u001b[38;5;28;01mTrue\u001b[39;00m)\n",
      "\u001b[0;31mNameError\u001b[0m: name 'm' is not defined"
     ]
    }
   ],
   "source": [
    "m.fit(ud_train, show_console=True)"
   ]
  },
  {
   "cell_type": "code",
   "execution_count": 32,
   "id": "b4eeb2e1",
   "metadata": {
    "execution": {
     "iopub.execute_input": "2023-05-09T21:32:12.592641Z",
     "iopub.status.busy": "2023-05-09T21:32:12.592559Z",
     "iopub.status.idle": "2023-05-09T21:32:12.599320Z",
     "shell.execute_reply": "2023-05-09T21:32:12.599093Z"
    }
   },
   "outputs": [
    {
     "ename": "NameError",
     "evalue": "name 'm' is not defined",
     "output_type": "error",
     "traceback": [
      "\u001b[0;31m---------------------------------------------------------------------------\u001b[0m",
      "\u001b[0;31mNameError\u001b[0m                                 Traceback (most recent call last)",
      "Cell \u001b[0;32mIn [32], line 1\u001b[0m\n\u001b[0;32m----> 1\u001b[0m future \u001b[38;5;241m=\u001b[39m \u001b[43mm\u001b[49m\u001b[38;5;241m.\u001b[39mmake_future_dataframe(periods\u001b[38;5;241m=\u001b[39m\u001b[38;5;241m20\u001b[39m, freq\u001b[38;5;241m=\u001b[39m\u001b[38;5;124m'\u001b[39m\u001b[38;5;124mW\u001b[39m\u001b[38;5;124m'\u001b[39m)\n",
      "\u001b[0;31mNameError\u001b[0m: name 'm' is not defined"
     ]
    }
   ],
   "source": [
    "future = m.make_future_dataframe(periods=20, freq='W')"
   ]
  },
  {
   "cell_type": "code",
   "execution_count": 33,
   "id": "9962e64c",
   "metadata": {
    "execution": {
     "iopub.execute_input": "2023-05-09T21:32:12.600732Z",
     "iopub.status.busy": "2023-05-09T21:32:12.600651Z",
     "iopub.status.idle": "2023-05-09T21:32:12.606943Z",
     "shell.execute_reply": "2023-05-09T21:32:12.606722Z"
    },
    "lines_to_next_cell": 2
   },
   "outputs": [
    {
     "ename": "NameError",
     "evalue": "name 'm' is not defined",
     "output_type": "error",
     "traceback": [
      "\u001b[0;31m---------------------------------------------------------------------------\u001b[0m",
      "\u001b[0;31mNameError\u001b[0m                                 Traceback (most recent call last)",
      "Cell \u001b[0;32mIn [33], line 1\u001b[0m\n\u001b[0;32m----> 1\u001b[0m forecast \u001b[38;5;241m=\u001b[39m \u001b[43mm\u001b[49m\u001b[38;5;241m.\u001b[39mpredict(df\u001b[38;5;241m=\u001b[39mfuture)\n",
      "\u001b[0;31mNameError\u001b[0m: name 'm' is not defined"
     ]
    }
   ],
   "source": [
    "forecast = m.predict(df=future)"
   ]
  }
 ],
 "metadata": {
  "jupytext": {
   "cell_metadata_filter": "-all",
   "main_language": "python",
   "notebook_metadata_filter": "-all"
  },
  "language_info": {
   "codemirror_mode": {
    "name": "ipython",
    "version": 3
   },
   "file_extension": ".py",
   "mimetype": "text/x-python",
   "name": "python",
   "nbconvert_exporter": "python",
   "pygments_lexer": "ipython3",
   "version": "3.9.12"
  }
 },
 "nbformat": 4,
 "nbformat_minor": 5
}
