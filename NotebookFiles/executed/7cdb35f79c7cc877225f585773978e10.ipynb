{
 "cells": [
  {
   "cell_type": "code",
   "execution_count": 1,
   "id": "ffc812b1",
   "metadata": {
    "execution": {
     "iopub.execute_input": "2023-05-10T00:45:10.446878Z",
     "iopub.status.busy": "2023-05-10T00:45:10.446174Z",
     "iopub.status.idle": "2023-05-10T00:45:11.329707Z",
     "shell.execute_reply": "2023-05-10T00:45:11.329370Z"
    }
   },
   "outputs": [],
   "source": [
    "#LIBRARIES\n",
    "import os\n",
    "import pandas as pd\n",
    "import numpy as np\n",
    "import seaborn as sns\n",
    "import matplotlib.pyplot as plt\n",
    "from pandas import Series, DataFrame\n",
    "import warnings \n",
    "warnings.filterwarnings('ignore')\n",
    "from scipy import stats  \n",
    "from google.cloud import bigquery\n",
    "from google.oauth2 import service_account\n",
    "from google.cloud.bigquery import magics\n",
    "from sklearn.impute import SimpleImputer\n",
    "from sklearn import linear_model\n",
    "from sklearn.model_selection import train_test_split \n",
    "from sklearn.linear_model import LinearRegression\n",
    "from sklearn import metrics"
   ]
  },
  {
   "cell_type": "code",
   "execution_count": 2,
   "id": "60770ee6",
   "metadata": {
    "execution": {
     "iopub.execute_input": "2023-05-10T00:45:11.331487Z",
     "iopub.status.busy": "2023-05-10T00:45:11.331330Z",
     "iopub.status.idle": "2023-05-10T00:45:12.196791Z",
     "shell.execute_reply": "2023-05-10T00:45:12.196446Z"
    }
   },
   "outputs": [],
   "source": [
    "from neuralprophet import NeuralProphet\n",
    "import pickle"
   ]
  },
  {
   "cell_type": "code",
   "execution_count": 3,
   "id": "729c935d",
   "metadata": {
    "execution": {
     "iopub.execute_input": "2023-05-10T00:45:12.198628Z",
     "iopub.status.busy": "2023-05-10T00:45:12.198463Z",
     "iopub.status.idle": "2023-05-10T00:45:14.688077Z",
     "shell.execute_reply": "2023-05-10T00:45:14.687342Z"
    }
   },
   "outputs": [
    {
     "name": "stdout",
     "output_type": "stream",
     "text": [
      "\u001b[33mWARNING: Ignoring invalid distribution -umpy (/opt/anaconda3/lib/python3.9/site-packages)\u001b[0m\r\n"
     ]
    },
    {
     "name": "stdout",
     "output_type": "stream",
     "text": [
      "\u001b[33mWARNING: Ignoring invalid distribution -umpy (/opt/anaconda3/lib/python3.9/site-packages)\u001b[0m\r\n",
      "Requirement already satisfied: db-dtypes in /opt/anaconda3/lib/python3.9/site-packages (1.0.5)\r\n",
      "Requirement already satisfied: pyarrow>=3.0.0 in /opt/anaconda3/lib/python3.9/site-packages (from db-dtypes) (10.0.1)\r\n",
      "Requirement already satisfied: numpy<2.0dev,>=1.16.6 in /opt/anaconda3/lib/python3.9/site-packages (from db-dtypes) (1.22.4)\r\n",
      "Requirement already satisfied: pandas<2.0dev,>=0.24.2 in /opt/anaconda3/lib/python3.9/site-packages (from db-dtypes) (1.5.3)\r\n",
      "Requirement already satisfied: packaging>=17.0 in /opt/anaconda3/lib/python3.9/site-packages (from db-dtypes) (21.3)\r\n",
      "Requirement already satisfied: pyparsing!=3.0.5,>=2.0.2 in /opt/anaconda3/lib/python3.9/site-packages (from packaging>=17.0->db-dtypes) (3.0.4)\r\n",
      "Requirement already satisfied: python-dateutil>=2.8.1 in /opt/anaconda3/lib/python3.9/site-packages (from pandas<2.0dev,>=0.24.2->db-dtypes) (2.8.2)\r\n",
      "Requirement already satisfied: pytz>=2020.1 in /opt/anaconda3/lib/python3.9/site-packages (from pandas<2.0dev,>=0.24.2->db-dtypes) (2021.3)\r\n",
      "Requirement already satisfied: six>=1.5 in /opt/anaconda3/lib/python3.9/site-packages (from python-dateutil>=2.8.1->pandas<2.0dev,>=0.24.2->db-dtypes) (1.16.0)\r\n",
      "\u001b[33mWARNING: Ignoring invalid distribution -umpy (/opt/anaconda3/lib/python3.9/site-packages)\u001b[0m\r\n"
     ]
    },
    {
     "name": "stdout",
     "output_type": "stream",
     "text": [
      "\u001b[33mWARNING: Ignoring invalid distribution -umpy (/opt/anaconda3/lib/python3.9/site-packages)\u001b[0m\r\n",
      "\u001b[33mWARNING: Ignoring invalid distribution -umpy (/opt/anaconda3/lib/python3.9/site-packages)\u001b[0m\r\n",
      "\u001b[33mWARNING: Ignoring invalid distribution -umpy (/opt/anaconda3/lib/python3.9/site-packages)\u001b[0m\r\n"
     ]
    }
   ],
   "source": [
    "get_ipython().system('pip install db-dtypes')"
   ]
  },
  {
   "cell_type": "code",
   "execution_count": 4,
   "id": "0c6afd47",
   "metadata": {
    "execution": {
     "iopub.execute_input": "2023-05-10T00:45:14.691229Z",
     "iopub.status.busy": "2023-05-10T00:45:14.691002Z",
     "iopub.status.idle": "2023-05-10T00:45:16.024519Z",
     "shell.execute_reply": "2023-05-10T00:45:16.023990Z"
    }
   },
   "outputs": [
    {
     "name": "stdout",
     "output_type": "stream",
     "text": [
      "\u001b[33mDEPRECATION: Configuring installation scheme with distutils config files is deprecated and will no longer work in the near future. If you are using a Homebrew or Linuxbrew Python, please see discussion at https://github.com/Homebrew/homebrew-core/issues/76621\u001b[0m\u001b[33m\r\n",
      "\u001b[0m"
     ]
    },
    {
     "name": "stdout",
     "output_type": "stream",
     "text": [
      "Requirement already satisfied: neuralprophet in /opt/homebrew/lib/python3.9/site-packages (1.0.0rc2)\r\n",
      "Requirement already satisfied: nbformat>=4.2.0 in /Users/weihaochen/Library/Python/3.9/lib/python/site-packages (from neuralprophet) (5.7.0)\r\n",
      "Requirement already satisfied: typing-extensions<5.0.0,>=4.5.0 in /opt/homebrew/lib/python3.9/site-packages (from neuralprophet) (4.5.0)\r\n",
      "Requirement already satisfied: pandas<2.0.0,>=1.3.5 in /opt/homebrew/lib/python3.9/site-packages (from neuralprophet) (1.5.1)\r\n",
      "Requirement already satisfied: captum<0.7.0,>=0.6.0 in /opt/homebrew/lib/python3.9/site-packages (from neuralprophet) (0.6.0)\r\n",
      "Requirement already satisfied: pytorch-lightning<2.0.0,>=1.9.4 in /opt/homebrew/lib/python3.9/site-packages (from neuralprophet) (1.9.5)\r\n",
      "Requirement already satisfied: numpy<1.24.0,>=1.22.0 in /opt/homebrew/lib/python3.9/site-packages (from neuralprophet) (1.23.4)\r\n",
      "Requirement already satisfied: holidays<0.22,>=0.21 in /opt/homebrew/lib/python3.9/site-packages (from neuralprophet) (0.21.13)\r\n",
      "Requirement already satisfied: plotly-resampler<0.9.0.0,>=0.8.3.1 in /opt/homebrew/lib/python3.9/site-packages (from neuralprophet) (0.8.3.2)\r\n",
      "Requirement already satisfied: torchmetrics<0.12.0,>=0.11.3 in /opt/homebrew/lib/python3.9/site-packages (from neuralprophet) (0.11.4)\r\n",
      "Requirement already satisfied: tensorboard<3.0.0,>=2.11.2 in /opt/homebrew/lib/python3.9/site-packages (from neuralprophet) (2.13.0)\r\n",
      "Requirement already satisfied: matplotlib<4.0.0,>=3.5.3 in /opt/homebrew/lib/python3.9/site-packages (from neuralprophet) (3.6.3)\r\n",
      "Requirement already satisfied: torch<2.0.0,>=1.13.1 in /opt/homebrew/lib/python3.9/site-packages (from neuralprophet) (1.13.1)\r\n",
      "Requirement already satisfied: plotly<6.0.0,>=5.13.1 in /opt/homebrew/lib/python3.9/site-packages (from neuralprophet) (5.14.1)\r\n",
      "Requirement already satisfied: kaleido==0.2.1 in /opt/homebrew/lib/python3.9/site-packages (from neuralprophet) (0.2.1)\r\n",
      "Requirement already satisfied: korean-lunar-calendar in /opt/homebrew/lib/python3.9/site-packages (from holidays<0.22,>=0.21->neuralprophet) (0.3.1)\r\n",
      "Requirement already satisfied: convertdate>=2.3.0 in /opt/homebrew/lib/python3.9/site-packages (from holidays<0.22,>=0.21->neuralprophet) (2.4.0)\r\n",
      "Requirement already satisfied: hijri-converter in /opt/homebrew/lib/python3.9/site-packages (from holidays<0.22,>=0.21->neuralprophet) (2.3.1)\r\n",
      "Requirement already satisfied: PyMeeus in /opt/homebrew/lib/python3.9/site-packages (from holidays<0.22,>=0.21->neuralprophet) (0.5.12)\r\n",
      "Requirement already satisfied: python-dateutil in /Users/weihaochen/Library/Python/3.9/lib/python/site-packages (from holidays<0.22,>=0.21->neuralprophet) (2.8.2)\r\n",
      "Requirement already satisfied: packaging>=20.0 in /Users/weihaochen/Library/Python/3.9/lib/python/site-packages (from matplotlib<4.0.0,>=3.5.3->neuralprophet) (21.3)\r\n",
      "Requirement already satisfied: contourpy>=1.0.1 in /opt/homebrew/lib/python3.9/site-packages (from matplotlib<4.0.0,>=3.5.3->neuralprophet) (1.0.7)\r\n",
      "Requirement already satisfied: pyparsing>=2.2.1 in /Users/weihaochen/Library/Python/3.9/lib/python/site-packages (from matplotlib<4.0.0,>=3.5.3->neuralprophet) (3.0.9)\r\n",
      "Requirement already satisfied: cycler>=0.10 in /opt/homebrew/lib/python3.9/site-packages (from matplotlib<4.0.0,>=3.5.3->neuralprophet) (0.11.0)\r\n",
      "Requirement already satisfied: kiwisolver>=1.0.1 in /opt/homebrew/lib/python3.9/site-packages (from matplotlib<4.0.0,>=3.5.3->neuralprophet) (1.4.4)\r\n",
      "Requirement already satisfied: pillow>=6.2.0 in /opt/homebrew/lib/python3.9/site-packages (from matplotlib<4.0.0,>=3.5.3->neuralprophet) (9.4.0)\r\n",
      "Requirement already satisfied: fonttools>=4.22.0 in /opt/homebrew/lib/python3.9/site-packages (from matplotlib<4.0.0,>=3.5.3->neuralprophet) (4.38.0)\r\n",
      "Requirement already satisfied: fastjsonschema in /Users/weihaochen/Library/Python/3.9/lib/python/site-packages (from nbformat>=4.2.0->neuralprophet) (2.16.2)\r\n",
      "Requirement already satisfied: jsonschema>=2.6 in /Users/weihaochen/Library/Python/3.9/lib/python/site-packages (from nbformat>=4.2.0->neuralprophet) (4.17.0)\r\n",
      "Requirement already satisfied: traitlets>=5.1 in /Users/weihaochen/Library/Python/3.9/lib/python/site-packages (from nbformat>=4.2.0->neuralprophet) (5.5.0)\r\n",
      "Requirement already satisfied: jupyter-core in /Users/weihaochen/Library/Python/3.9/lib/python/site-packages (from nbformat>=4.2.0->neuralprophet) (5.0.0)\r\n",
      "Requirement already satisfied: pytz>=2020.1 in /opt/homebrew/lib/python3.9/site-packages (from pandas<2.0.0,>=1.3.5->neuralprophet) (2022.6)\r\n",
      "Requirement already satisfied: tenacity>=6.2.0 in /opt/homebrew/lib/python3.9/site-packages (from plotly<6.0.0,>=5.13.1->neuralprophet) (8.2.2)\r\n",
      "Requirement already satisfied: dash<3.0.0,>=2.2.0 in /opt/homebrew/lib/python3.9/site-packages (from plotly-resampler<0.9.0.0,>=0.8.3.1->neuralprophet) (2.9.3)\r\n",
      "Requirement already satisfied: trace-updater>=0.0.8 in /opt/homebrew/lib/python3.9/site-packages (from plotly-resampler<0.9.0.0,>=0.8.3.1->neuralprophet) (0.0.9.1)\r\n",
      "Requirement already satisfied: orjson<4.0.0,>=3.8.0 in /opt/homebrew/lib/python3.9/site-packages (from plotly-resampler<0.9.0.0,>=0.8.3.1->neuralprophet) (3.8.12)\r\n",
      "Requirement already satisfied: jupyter-dash>=0.4.2 in /opt/homebrew/lib/python3.9/site-packages (from plotly-resampler<0.9.0.0,>=0.8.3.1->neuralprophet) (0.4.2)\r\n"
     ]
    },
    {
     "name": "stdout",
     "output_type": "stream",
     "text": [
      "Requirement already satisfied: fsspec[http]>2021.06.0 in /opt/homebrew/lib/python3.9/site-packages (from pytorch-lightning<2.0.0,>=1.9.4->neuralprophet) (2023.5.0)\r\n",
      "Requirement already satisfied: PyYAML>=5.4 in /opt/homebrew/lib/python3.9/site-packages (from pytorch-lightning<2.0.0,>=1.9.4->neuralprophet) (6.0)\r\n",
      "Requirement already satisfied: lightning-utilities>=0.6.0.post0 in /opt/homebrew/lib/python3.9/site-packages (from pytorch-lightning<2.0.0,>=1.9.4->neuralprophet) (0.8.0)\r\n",
      "Requirement already satisfied: tqdm>=4.57.0 in /opt/homebrew/lib/python3.9/site-packages (from pytorch-lightning<2.0.0,>=1.9.4->neuralprophet) (4.65.0)\r\n",
      "Requirement already satisfied: werkzeug>=1.0.1 in /opt/homebrew/lib/python3.9/site-packages (from tensorboard<3.0.0,>=2.11.2->neuralprophet) (2.3.4)\r\n",
      "Requirement already satisfied: google-auth-oauthlib<1.1,>=0.5 in /opt/homebrew/lib/python3.9/site-packages (from tensorboard<3.0.0,>=2.11.2->neuralprophet) (1.0.0)\r\n",
      "Requirement already satisfied: markdown>=2.6.8 in /opt/homebrew/lib/python3.9/site-packages (from tensorboard<3.0.0,>=2.11.2->neuralprophet) (3.4.3)\r\n",
      "Requirement already satisfied: setuptools>=41.0.0 in /opt/homebrew/lib/python3.9/site-packages (from tensorboard<3.0.0,>=2.11.2->neuralprophet) (60.10.0)\r\n",
      "Requirement already satisfied: wheel>=0.26 in /opt/homebrew/lib/python3.9/site-packages (from tensorboard<3.0.0,>=2.11.2->neuralprophet) (0.37.1)\r\n",
      "Requirement already satisfied: protobuf>=3.19.6 in /opt/homebrew/lib/python3.9/site-packages (from tensorboard<3.0.0,>=2.11.2->neuralprophet) (4.21.12)\r\n",
      "Requirement already satisfied: absl-py>=0.4 in /opt/homebrew/lib/python3.9/site-packages (from tensorboard<3.0.0,>=2.11.2->neuralprophet) (1.4.0)\r\n",
      "Requirement already satisfied: google-auth<3,>=1.6.3 in /opt/homebrew/lib/python3.9/site-packages (from tensorboard<3.0.0,>=2.11.2->neuralprophet) (2.16.0)\r\n",
      "Requirement already satisfied: tensorboard-data-server<0.8.0,>=0.7.0 in /opt/homebrew/lib/python3.9/site-packages (from tensorboard<3.0.0,>=2.11.2->neuralprophet) (0.7.0)\r\n",
      "Requirement already satisfied: grpcio>=1.48.2 in /opt/homebrew/lib/python3.9/site-packages (from tensorboard<3.0.0,>=2.11.2->neuralprophet) (1.51.1)\r\n",
      "Requirement already satisfied: requests<3,>=2.21.0 in /opt/homebrew/lib/python3.9/site-packages (from tensorboard<3.0.0,>=2.11.2->neuralprophet) (2.28.2)\r\n"
     ]
    },
    {
     "name": "stdout",
     "output_type": "stream",
     "text": [
      "Requirement already satisfied: dash-table==5.0.0 in /opt/homebrew/lib/python3.9/site-packages (from dash<3.0.0,>=2.2.0->plotly-resampler<0.9.0.0,>=0.8.3.1->neuralprophet) (5.0.0)\r\n",
      "Requirement already satisfied: dash-html-components==2.0.0 in /opt/homebrew/lib/python3.9/site-packages (from dash<3.0.0,>=2.2.0->plotly-resampler<0.9.0.0,>=0.8.3.1->neuralprophet) (2.0.0)\r\n",
      "Requirement already satisfied: Flask>=1.0.4 in /opt/homebrew/lib/python3.9/site-packages (from dash<3.0.0,>=2.2.0->plotly-resampler<0.9.0.0,>=0.8.3.1->neuralprophet) (2.3.2)\r\n",
      "Requirement already satisfied: dash-core-components==2.0.0 in /opt/homebrew/lib/python3.9/site-packages (from dash<3.0.0,>=2.2.0->plotly-resampler<0.9.0.0,>=0.8.3.1->neuralprophet) (2.0.0)\r\n",
      "Requirement already satisfied: aiohttp!=4.0.0a0,!=4.0.0a1 in /opt/homebrew/lib/python3.9/site-packages (from fsspec[http]>2021.06.0->pytorch-lightning<2.0.0,>=1.9.4->neuralprophet) (3.8.4)\r\n"
     ]
    },
    {
     "name": "stdout",
     "output_type": "stream",
     "text": [
      "Requirement already satisfied: cachetools<6.0,>=2.0.0 in /opt/homebrew/lib/python3.9/site-packages (from google-auth<3,>=1.6.3->tensorboard<3.0.0,>=2.11.2->neuralprophet) (5.2.1)\r\n",
      "Requirement already satisfied: pyasn1-modules>=0.2.1 in /opt/homebrew/lib/python3.9/site-packages (from google-auth<3,>=1.6.3->tensorboard<3.0.0,>=2.11.2->neuralprophet) (0.2.8)\r\n",
      "Requirement already satisfied: six>=1.9.0 in /Users/weihaochen/Library/Python/3.9/lib/python/site-packages (from google-auth<3,>=1.6.3->tensorboard<3.0.0,>=2.11.2->neuralprophet) (1.16.0)\r\n",
      "Requirement already satisfied: rsa<5,>=3.1.4 in /opt/homebrew/lib/python3.9/site-packages (from google-auth<3,>=1.6.3->tensorboard<3.0.0,>=2.11.2->neuralprophet) (4.9)\r\n",
      "Requirement already satisfied: requests-oauthlib>=0.7.0 in /opt/homebrew/lib/python3.9/site-packages (from google-auth-oauthlib<1.1,>=0.5->tensorboard<3.0.0,>=2.11.2->neuralprophet) (1.3.1)\r\n",
      "Requirement already satisfied: attrs>=17.4.0 in /Users/weihaochen/Library/Python/3.9/lib/python/site-packages (from jsonschema>=2.6->nbformat>=4.2.0->neuralprophet) (22.1.0)\r\n",
      "Requirement already satisfied: pyrsistent!=0.17.0,!=0.17.1,!=0.17.2,>=0.14.0 in /Users/weihaochen/Library/Python/3.9/lib/python/site-packages (from jsonschema>=2.6->nbformat>=4.2.0->neuralprophet) (0.19.2)\r\n",
      "Requirement already satisfied: retrying in /opt/homebrew/lib/python3.9/site-packages (from jupyter-dash>=0.4.2->plotly-resampler<0.9.0.0,>=0.8.3.1->neuralprophet) (1.3.4)\r\n",
      "Requirement already satisfied: ipykernel in /Users/weihaochen/Library/Python/3.9/lib/python/site-packages (from jupyter-dash>=0.4.2->plotly-resampler<0.9.0.0,>=0.8.3.1->neuralprophet) (6.17.1)\r\n",
      "Requirement already satisfied: ansi2html in /opt/homebrew/lib/python3.9/site-packages (from jupyter-dash>=0.4.2->plotly-resampler<0.9.0.0,>=0.8.3.1->neuralprophet) (1.8.0)\r\n",
      "Requirement already satisfied: ipython in /Users/weihaochen/Library/Python/3.9/lib/python/site-packages (from jupyter-dash>=0.4.2->plotly-resampler<0.9.0.0,>=0.8.3.1->neuralprophet) (8.6.0)\r\n",
      "Requirement already satisfied: nest-asyncio in /Users/weihaochen/Library/Python/3.9/lib/python/site-packages (from jupyter-dash>=0.4.2->plotly-resampler<0.9.0.0,>=0.8.3.1->neuralprophet) (1.5.6)\r\n",
      "Requirement already satisfied: importlib-metadata>=4.4 in /Users/weihaochen/Library/Python/3.9/lib/python/site-packages (from markdown>=2.6.8->tensorboard<3.0.0,>=2.11.2->neuralprophet) (5.0.0)\r\n"
     ]
    },
    {
     "name": "stdout",
     "output_type": "stream",
     "text": [
      "Requirement already satisfied: urllib3<1.27,>=1.21.1 in /opt/homebrew/lib/python3.9/site-packages (from requests<3,>=2.21.0->tensorboard<3.0.0,>=2.11.2->neuralprophet) (1.26.14)\r\n",
      "Requirement already satisfied: charset-normalizer<4,>=2 in /opt/homebrew/lib/python3.9/site-packages (from requests<3,>=2.21.0->tensorboard<3.0.0,>=2.11.2->neuralprophet) (3.0.1)\r\n",
      "Requirement already satisfied: certifi>=2017.4.17 in /opt/homebrew/lib/python3.9/site-packages (from requests<3,>=2.21.0->tensorboard<3.0.0,>=2.11.2->neuralprophet) (2022.12.7)\r\n",
      "Requirement already satisfied: idna<4,>=2.5 in /Users/weihaochen/Library/Python/3.9/lib/python/site-packages (from requests<3,>=2.21.0->tensorboard<3.0.0,>=2.11.2->neuralprophet) (3.4)\r\n",
      "Requirement already satisfied: MarkupSafe>=2.1.1 in /Users/weihaochen/Library/Python/3.9/lib/python/site-packages (from werkzeug>=1.0.1->tensorboard<3.0.0,>=2.11.2->neuralprophet) (2.1.1)\r\n",
      "Requirement already satisfied: platformdirs in /Users/weihaochen/Library/Python/3.9/lib/python/site-packages (from jupyter-core->nbformat>=4.2.0->neuralprophet) (2.5.4)\r\n",
      "Requirement already satisfied: yarl<2.0,>=1.0 in /opt/homebrew/lib/python3.9/site-packages (from aiohttp!=4.0.0a0,!=4.0.0a1->fsspec[http]>2021.06.0->pytorch-lightning<2.0.0,>=1.9.4->neuralprophet) (1.9.2)\r\n",
      "Requirement already satisfied: aiosignal>=1.1.2 in /opt/homebrew/lib/python3.9/site-packages (from aiohttp!=4.0.0a0,!=4.0.0a1->fsspec[http]>2021.06.0->pytorch-lightning<2.0.0,>=1.9.4->neuralprophet) (1.3.1)\r\n",
      "Requirement already satisfied: frozenlist>=1.1.1 in /opt/homebrew/lib/python3.9/site-packages (from aiohttp!=4.0.0a0,!=4.0.0a1->fsspec[http]>2021.06.0->pytorch-lightning<2.0.0,>=1.9.4->neuralprophet) (1.3.3)\r\n",
      "Requirement already satisfied: multidict<7.0,>=4.5 in /opt/homebrew/lib/python3.9/site-packages (from aiohttp!=4.0.0a0,!=4.0.0a1->fsspec[http]>2021.06.0->pytorch-lightning<2.0.0,>=1.9.4->neuralprophet) (6.0.4)\r\n",
      "Requirement already satisfied: async-timeout<5.0,>=4.0.0a3 in /opt/homebrew/lib/python3.9/site-packages (from aiohttp!=4.0.0a0,!=4.0.0a1->fsspec[http]>2021.06.0->pytorch-lightning<2.0.0,>=1.9.4->neuralprophet) (4.0.2)\r\n"
     ]
    },
    {
     "name": "stdout",
     "output_type": "stream",
     "text": [
      "Requirement already satisfied: blinker>=1.6.2 in /opt/homebrew/lib/python3.9/site-packages (from Flask>=1.0.4->dash<3.0.0,>=2.2.0->plotly-resampler<0.9.0.0,>=0.8.3.1->neuralprophet) (1.6.2)\r\n",
      "Requirement already satisfied: Jinja2>=3.1.2 in /Users/weihaochen/Library/Python/3.9/lib/python/site-packages (from Flask>=1.0.4->dash<3.0.0,>=2.2.0->plotly-resampler<0.9.0.0,>=0.8.3.1->neuralprophet) (3.1.2)\r\n",
      "Requirement already satisfied: itsdangerous>=2.1.2 in /opt/homebrew/lib/python3.9/site-packages (from Flask>=1.0.4->dash<3.0.0,>=2.2.0->plotly-resampler<0.9.0.0,>=0.8.3.1->neuralprophet) (2.1.2)\r\n",
      "Requirement already satisfied: click>=8.1.3 in /opt/homebrew/lib/python3.9/site-packages (from Flask>=1.0.4->dash<3.0.0,>=2.2.0->plotly-resampler<0.9.0.0,>=0.8.3.1->neuralprophet) (8.1.3)\r\n",
      "Requirement already satisfied: zipp>=0.5 in /Users/weihaochen/Library/Python/3.9/lib/python/site-packages (from importlib-metadata>=4.4->markdown>=2.6.8->tensorboard<3.0.0,>=2.11.2->neuralprophet) (3.10.0)\r\n",
      "Requirement already satisfied: pyasn1<0.5.0,>=0.4.6 in /opt/homebrew/lib/python3.9/site-packages (from pyasn1-modules>=0.2.1->google-auth<3,>=1.6.3->tensorboard<3.0.0,>=2.11.2->neuralprophet) (0.4.8)\r\n",
      "Requirement already satisfied: oauthlib>=3.0.0 in /opt/homebrew/lib/python3.9/site-packages (from requests-oauthlib>=0.7.0->google-auth-oauthlib<1.1,>=0.5->tensorboard<3.0.0,>=2.11.2->neuralprophet) (3.2.2)\r\n"
     ]
    },
    {
     "name": "stdout",
     "output_type": "stream",
     "text": [
      "Requirement already satisfied: pyzmq>=17 in /Users/weihaochen/Library/Python/3.9/lib/python/site-packages (from ipykernel->jupyter-dash>=0.4.2->plotly-resampler<0.9.0.0,>=0.8.3.1->neuralprophet) (24.0.1)\r\n",
      "Requirement already satisfied: debugpy>=1.0 in /Users/weihaochen/Library/Python/3.9/lib/python/site-packages (from ipykernel->jupyter-dash>=0.4.2->plotly-resampler<0.9.0.0,>=0.8.3.1->neuralprophet) (1.6.3)\r\n",
      "Requirement already satisfied: appnope in /Users/weihaochen/Library/Python/3.9/lib/python/site-packages (from ipykernel->jupyter-dash>=0.4.2->plotly-resampler<0.9.0.0,>=0.8.3.1->neuralprophet) (0.1.3)\r\n",
      "Requirement already satisfied: tornado>=6.1 in /Users/weihaochen/Library/Python/3.9/lib/python/site-packages (from ipykernel->jupyter-dash>=0.4.2->plotly-resampler<0.9.0.0,>=0.8.3.1->neuralprophet) (6.2)\r\n",
      "Requirement already satisfied: matplotlib-inline>=0.1 in /Users/weihaochen/Library/Python/3.9/lib/python/site-packages (from ipykernel->jupyter-dash>=0.4.2->plotly-resampler<0.9.0.0,>=0.8.3.1->neuralprophet) (0.1.6)\r\n",
      "Requirement already satisfied: psutil in /Users/weihaochen/Library/Python/3.9/lib/python/site-packages (from ipykernel->jupyter-dash>=0.4.2->plotly-resampler<0.9.0.0,>=0.8.3.1->neuralprophet) (5.9.4)\r\n",
      "Requirement already satisfied: jupyter-client>=6.1.12 in /Users/weihaochen/Library/Python/3.9/lib/python/site-packages (from ipykernel->jupyter-dash>=0.4.2->plotly-resampler<0.9.0.0,>=0.8.3.1->neuralprophet) (7.4.5)\r\n",
      "Requirement already satisfied: prompt-toolkit<3.1.0,>3.0.1 in /Users/weihaochen/Library/Python/3.9/lib/python/site-packages (from ipython->jupyter-dash>=0.4.2->plotly-resampler<0.9.0.0,>=0.8.3.1->neuralprophet) (3.0.32)\r\n",
      "Requirement already satisfied: backcall in /Users/weihaochen/Library/Python/3.9/lib/python/site-packages (from ipython->jupyter-dash>=0.4.2->plotly-resampler<0.9.0.0,>=0.8.3.1->neuralprophet) (0.2.0)\r\n",
      "Requirement already satisfied: pickleshare in /Users/weihaochen/Library/Python/3.9/lib/python/site-packages (from ipython->jupyter-dash>=0.4.2->plotly-resampler<0.9.0.0,>=0.8.3.1->neuralprophet) (0.7.5)\r\n",
      "Requirement already satisfied: stack-data in /Users/weihaochen/Library/Python/3.9/lib/python/site-packages (from ipython->jupyter-dash>=0.4.2->plotly-resampler<0.9.0.0,>=0.8.3.1->neuralprophet) (0.6.1)\r\n",
      "Requirement already satisfied: pexpect>4.3 in /Users/weihaochen/Library/Python/3.9/lib/python/site-packages (from ipython->jupyter-dash>=0.4.2->plotly-resampler<0.9.0.0,>=0.8.3.1->neuralprophet) (4.8.0)\r\n",
      "Requirement already satisfied: decorator in /Users/weihaochen/Library/Python/3.9/lib/python/site-packages (from ipython->jupyter-dash>=0.4.2->plotly-resampler<0.9.0.0,>=0.8.3.1->neuralprophet) (5.1.1)\r\n",
      "Requirement already satisfied: pygments>=2.4.0 in /Users/weihaochen/Library/Python/3.9/lib/python/site-packages (from ipython->jupyter-dash>=0.4.2->plotly-resampler<0.9.0.0,>=0.8.3.1->neuralprophet) (2.13.0)\r\n",
      "Requirement already satisfied: jedi>=0.16 in /Users/weihaochen/Library/Python/3.9/lib/python/site-packages (from ipython->jupyter-dash>=0.4.2->plotly-resampler<0.9.0.0,>=0.8.3.1->neuralprophet) (0.18.1)\r\n"
     ]
    },
    {
     "name": "stdout",
     "output_type": "stream",
     "text": [
      "Requirement already satisfied: parso<0.9.0,>=0.8.0 in /Users/weihaochen/Library/Python/3.9/lib/python/site-packages (from jedi>=0.16->ipython->jupyter-dash>=0.4.2->plotly-resampler<0.9.0.0,>=0.8.3.1->neuralprophet) (0.8.3)\r\n",
      "Requirement already satisfied: entrypoints in /Users/weihaochen/Library/Python/3.9/lib/python/site-packages (from jupyter-client>=6.1.12->ipykernel->jupyter-dash>=0.4.2->plotly-resampler<0.9.0.0,>=0.8.3.1->neuralprophet) (0.4)\r\n",
      "Requirement already satisfied: ptyprocess>=0.5 in /Users/weihaochen/Library/Python/3.9/lib/python/site-packages (from pexpect>4.3->ipython->jupyter-dash>=0.4.2->plotly-resampler<0.9.0.0,>=0.8.3.1->neuralprophet) (0.7.0)\r\n",
      "Requirement already satisfied: wcwidth in /Users/weihaochen/Library/Python/3.9/lib/python/site-packages (from prompt-toolkit<3.1.0,>3.0.1->ipython->jupyter-dash>=0.4.2->plotly-resampler<0.9.0.0,>=0.8.3.1->neuralprophet) (0.2.5)\r\n"
     ]
    },
    {
     "name": "stdout",
     "output_type": "stream",
     "text": [
      "Requirement already satisfied: pure-eval in /Users/weihaochen/Library/Python/3.9/lib/python/site-packages (from stack-data->ipython->jupyter-dash>=0.4.2->plotly-resampler<0.9.0.0,>=0.8.3.1->neuralprophet) (0.2.2)\r\n",
      "Requirement already satisfied: executing>=1.2.0 in /Users/weihaochen/Library/Python/3.9/lib/python/site-packages (from stack-data->ipython->jupyter-dash>=0.4.2->plotly-resampler<0.9.0.0,>=0.8.3.1->neuralprophet) (1.2.0)\r\n",
      "Requirement already satisfied: asttokens>=2.1.0 in /Users/weihaochen/Library/Python/3.9/lib/python/site-packages (from stack-data->ipython->jupyter-dash>=0.4.2->plotly-resampler<0.9.0.0,>=0.8.3.1->neuralprophet) (2.1.0)\r\n"
     ]
    },
    {
     "name": "stdout",
     "output_type": "stream",
     "text": [
      "\u001b[33mDEPRECATION: Configuring installation scheme with distutils config files is deprecated and will no longer work in the near future. If you are using a Homebrew or Linuxbrew Python, please see discussion at https://github.com/Homebrew/homebrew-core/issues/76621\u001b[0m\u001b[33m\r\n",
      "\u001b[0m\u001b[33mWARNING: You are using pip version 22.0.4; however, version 23.1.2 is available.\r\n",
      "You should consider upgrading via the '/opt/homebrew/opt/python@3.9/bin/python3.9 -m pip install --upgrade pip' command.\u001b[0m\u001b[33m\r\n",
      "\u001b[0m"
     ]
    },
    {
     "name": "stdout",
     "output_type": "stream",
     "text": [
      "Note: you may need to restart the kernel to use updated packages.\n"
     ]
    }
   ],
   "source": [
    "pip install neuralprophet"
   ]
  },
  {
   "cell_type": "code",
   "execution_count": 5,
   "id": "e69f9777",
   "metadata": {
    "execution": {
     "iopub.execute_input": "2023-05-10T00:45:16.026997Z",
     "iopub.status.busy": "2023-05-10T00:45:16.026677Z",
     "iopub.status.idle": "2023-05-10T00:45:18.479810Z",
     "shell.execute_reply": "2023-05-10T00:45:18.479117Z"
    }
   },
   "outputs": [
    {
     "name": "stdout",
     "output_type": "stream",
     "text": [
      "\u001b[33mWARNING: Ignoring invalid distribution -umpy (/opt/anaconda3/lib/python3.9/site-packages)\u001b[0m\r\n"
     ]
    },
    {
     "name": "stdout",
     "output_type": "stream",
     "text": [
      "\u001b[33mWARNING: Ignoring invalid distribution -umpy (/opt/anaconda3/lib/python3.9/site-packages)\u001b[0m\r\n",
      "Requirement already satisfied: db-dtypes in /opt/anaconda3/lib/python3.9/site-packages (1.0.5)\r\n",
      "Requirement already satisfied: pyarrow>=3.0.0 in /opt/anaconda3/lib/python3.9/site-packages (from db-dtypes) (10.0.1)\r\n",
      "Requirement already satisfied: pandas<2.0dev,>=0.24.2 in /opt/anaconda3/lib/python3.9/site-packages (from db-dtypes) (1.5.3)\r\n",
      "Requirement already satisfied: packaging>=17.0 in /opt/anaconda3/lib/python3.9/site-packages (from db-dtypes) (21.3)\r\n",
      "Requirement already satisfied: numpy<2.0dev,>=1.16.6 in /opt/anaconda3/lib/python3.9/site-packages (from db-dtypes) (1.22.4)\r\n",
      "Requirement already satisfied: pyparsing!=3.0.5,>=2.0.2 in /opt/anaconda3/lib/python3.9/site-packages (from packaging>=17.0->db-dtypes) (3.0.4)\r\n",
      "Requirement already satisfied: python-dateutil>=2.8.1 in /opt/anaconda3/lib/python3.9/site-packages (from pandas<2.0dev,>=0.24.2->db-dtypes) (2.8.2)\r\n",
      "Requirement already satisfied: pytz>=2020.1 in /opt/anaconda3/lib/python3.9/site-packages (from pandas<2.0dev,>=0.24.2->db-dtypes) (2021.3)\r\n",
      "Requirement already satisfied: six>=1.5 in /opt/anaconda3/lib/python3.9/site-packages (from python-dateutil>=2.8.1->pandas<2.0dev,>=0.24.2->db-dtypes) (1.16.0)\r\n",
      "\u001b[33mWARNING: Ignoring invalid distribution -umpy (/opt/anaconda3/lib/python3.9/site-packages)\u001b[0m\r\n"
     ]
    },
    {
     "name": "stdout",
     "output_type": "stream",
     "text": [
      "\u001b[33mWARNING: Ignoring invalid distribution -umpy (/opt/anaconda3/lib/python3.9/site-packages)\u001b[0m\r\n",
      "\u001b[33mWARNING: Ignoring invalid distribution -umpy (/opt/anaconda3/lib/python3.9/site-packages)\u001b[0m\r\n",
      "\u001b[33mWARNING: Ignoring invalid distribution -umpy (/opt/anaconda3/lib/python3.9/site-packages)\u001b[0m\r\n"
     ]
    }
   ],
   "source": [
    "get_ipython().system('pip install db-dtypes')"
   ]
  },
  {
   "cell_type": "code",
   "execution_count": 6,
   "id": "3028548f",
   "metadata": {
    "execution": {
     "iopub.execute_input": "2023-05-10T00:45:18.482932Z",
     "iopub.status.busy": "2023-05-10T00:45:18.482690Z",
     "iopub.status.idle": "2023-05-10T00:45:21.224587Z",
     "shell.execute_reply": "2023-05-10T00:45:21.223899Z"
    }
   },
   "outputs": [
    {
     "name": "stdout",
     "output_type": "stream",
     "text": [
      "\u001b[33mWARNING: Ignoring invalid distribution -umpy (/opt/anaconda3/lib/python3.9/site-packages)\u001b[0m\r\n"
     ]
    },
    {
     "name": "stdout",
     "output_type": "stream",
     "text": [
      "\u001b[33mWARNING: Ignoring invalid distribution -umpy (/opt/anaconda3/lib/python3.9/site-packages)\u001b[0m\r\n",
      "Requirement already satisfied: neuralprophet in /opt/anaconda3/lib/python3.9/site-packages (0.6.0rc1)\r\n",
      "Requirement already satisfied: plotly-resampler<0.9.0.0,>=0.8.3.1 in /opt/anaconda3/lib/python3.9/site-packages (from neuralprophet) (0.8.3.1)\r\n",
      "Requirement already satisfied: tensorboard<3.0.0,>=2.11.2 in /opt/anaconda3/lib/python3.9/site-packages (from neuralprophet) (2.12.0)\r\n",
      "Requirement already satisfied: pytorch-lightning<2.0.0,>=1.9.4 in /opt/anaconda3/lib/python3.9/site-packages (from neuralprophet) (1.9.5)\r\n",
      "Requirement already satisfied: torchmetrics<0.12.0,>=0.11.3 in /opt/anaconda3/lib/python3.9/site-packages (from neuralprophet) (0.11.4)\r\n",
      "Requirement already satisfied: typing-extensions<5.0.0,>=4.5.0 in /opt/anaconda3/lib/python3.9/site-packages (from neuralprophet) (4.5.0)\r\n",
      "Requirement already satisfied: plotly<6.0.0,>=5.13.1 in /opt/anaconda3/lib/python3.9/site-packages (from neuralprophet) (5.14.1)\r\n",
      "Requirement already satisfied: pandas<2.0.0,>=1.3.5 in /opt/anaconda3/lib/python3.9/site-packages (from neuralprophet) (1.5.3)\r\n",
      "Requirement already satisfied: captum<0.7.0,>=0.6.0 in /opt/anaconda3/lib/python3.9/site-packages (from neuralprophet) (0.6.0)\r\n",
      "Requirement already satisfied: matplotlib<4.0.0,>=3.5.3 in /opt/anaconda3/lib/python3.9/site-packages (from neuralprophet) (3.7.1)\r\n",
      "Requirement already satisfied: holidays<0.22,>=0.21 in /opt/anaconda3/lib/python3.9/site-packages (from neuralprophet) (0.21.13)\r\n",
      "Requirement already satisfied: torch<2.0.0,>=1.13.1 in /opt/anaconda3/lib/python3.9/site-packages (from neuralprophet) (1.13.1)\r\n",
      "Requirement already satisfied: numpy<1.24.0,>=1.21.6 in /opt/anaconda3/lib/python3.9/site-packages (from neuralprophet) (1.22.4)\r\n",
      "Requirement already satisfied: python-dateutil in /opt/anaconda3/lib/python3.9/site-packages (from holidays<0.22,>=0.21->neuralprophet) (2.8.2)\r\n",
      "Requirement already satisfied: PyMeeus in /opt/anaconda3/lib/python3.9/site-packages (from holidays<0.22,>=0.21->neuralprophet) (0.5.12)\r\n",
      "Requirement already satisfied: hijri-converter in /opt/anaconda3/lib/python3.9/site-packages (from holidays<0.22,>=0.21->neuralprophet) (2.2.4)\r\n",
      "Requirement already satisfied: korean-lunar-calendar in /opt/anaconda3/lib/python3.9/site-packages (from holidays<0.22,>=0.21->neuralprophet) (0.3.1)\r\n",
      "Requirement already satisfied: convertdate>=2.3.0 in /opt/anaconda3/lib/python3.9/site-packages (from holidays<0.22,>=0.21->neuralprophet) (2.4.0)\r\n"
     ]
    },
    {
     "name": "stdout",
     "output_type": "stream",
     "text": [
      "Requirement already satisfied: fonttools>=4.22.0 in /opt/anaconda3/lib/python3.9/site-packages (from matplotlib<4.0.0,>=3.5.3->neuralprophet) (4.25.0)\r\n",
      "Requirement already satisfied: pyparsing>=2.3.1 in /opt/anaconda3/lib/python3.9/site-packages (from matplotlib<4.0.0,>=3.5.3->neuralprophet) (3.0.4)\r\n",
      "Requirement already satisfied: importlib-resources>=3.2.0 in /opt/anaconda3/lib/python3.9/site-packages (from matplotlib<4.0.0,>=3.5.3->neuralprophet) (5.12.0)\r\n",
      "Requirement already satisfied: contourpy>=1.0.1 in /opt/anaconda3/lib/python3.9/site-packages (from matplotlib<4.0.0,>=3.5.3->neuralprophet) (1.0.7)\r\n",
      "Requirement already satisfied: kiwisolver>=1.0.1 in /opt/anaconda3/lib/python3.9/site-packages (from matplotlib<4.0.0,>=3.5.3->neuralprophet) (1.3.1)\r\n",
      "Requirement already satisfied: pillow>=6.2.0 in /opt/anaconda3/lib/python3.9/site-packages (from matplotlib<4.0.0,>=3.5.3->neuralprophet) (8.4.0)\r\n",
      "Requirement already satisfied: packaging>=20.0 in /opt/anaconda3/lib/python3.9/site-packages (from matplotlib<4.0.0,>=3.5.3->neuralprophet) (21.3)\r\n",
      "Requirement already satisfied: cycler>=0.10 in /opt/anaconda3/lib/python3.9/site-packages (from matplotlib<4.0.0,>=3.5.3->neuralprophet) (0.10.0)\r\n",
      "Requirement already satisfied: six in /opt/anaconda3/lib/python3.9/site-packages (from cycler>=0.10->matplotlib<4.0.0,>=3.5.3->neuralprophet) (1.16.0)\r\n",
      "Requirement already satisfied: zipp>=3.1.0 in /opt/anaconda3/lib/python3.9/site-packages (from importlib-resources>=3.2.0->matplotlib<4.0.0,>=3.5.3->neuralprophet) (3.6.0)\r\n",
      "Requirement already satisfied: pytz>=2020.1 in /opt/anaconda3/lib/python3.9/site-packages (from pandas<2.0.0,>=1.3.5->neuralprophet) (2021.3)\r\n",
      "Requirement already satisfied: tenacity>=6.2.0 in /opt/anaconda3/lib/python3.9/site-packages (from plotly<6.0.0,>=5.13.1->neuralprophet) (8.1.0)\r\n"
     ]
    },
    {
     "name": "stdout",
     "output_type": "stream",
     "text": [
      "Requirement already satisfied: jupyter-dash>=0.4.2 in /opt/anaconda3/lib/python3.9/site-packages (from plotly-resampler<0.9.0.0,>=0.8.3.1->neuralprophet) (0.4.2)\r\n",
      "Requirement already satisfied: trace-updater>=0.0.8 in /opt/anaconda3/lib/python3.9/site-packages (from plotly-resampler<0.9.0.0,>=0.8.3.1->neuralprophet) (0.0.9)\r\n",
      "Requirement already satisfied: Flask-Cors<4.0.0,>=3.0.10 in /opt/anaconda3/lib/python3.9/site-packages (from plotly-resampler<0.9.0.0,>=0.8.3.1->neuralprophet) (3.0.10)\r\n",
      "Requirement already satisfied: dash<3.0.0,>=2.2.0 in /opt/anaconda3/lib/python3.9/site-packages (from plotly-resampler<0.9.0.0,>=0.8.3.1->neuralprophet) (2.8.1)\r\n",
      "Requirement already satisfied: orjson<4.0.0,>=3.8.0 in /opt/anaconda3/lib/python3.9/site-packages (from plotly-resampler<0.9.0.0,>=0.8.3.1->neuralprophet) (3.8.6)\r\n",
      "Requirement already satisfied: Werkzeug<=2.1.2 in /opt/anaconda3/lib/python3.9/site-packages (from plotly-resampler<0.9.0.0,>=0.8.3.1->neuralprophet) (2.0.2)\r\n",
      "Requirement already satisfied: Flask>=1.0.4 in /opt/anaconda3/lib/python3.9/site-packages (from dash<3.0.0,>=2.2.0->plotly-resampler<0.9.0.0,>=0.8.3.1->neuralprophet) (1.1.2)\r\n",
      "Requirement already satisfied: dash-core-components==2.0.0 in /opt/anaconda3/lib/python3.9/site-packages (from dash<3.0.0,>=2.2.0->plotly-resampler<0.9.0.0,>=0.8.3.1->neuralprophet) (2.0.0)\r\n",
      "Requirement already satisfied: dash-html-components==2.0.0 in /opt/anaconda3/lib/python3.9/site-packages (from dash<3.0.0,>=2.2.0->plotly-resampler<0.9.0.0,>=0.8.3.1->neuralprophet) (2.0.0)\r\n",
      "Requirement already satisfied: dash-table==5.0.0 in /opt/anaconda3/lib/python3.9/site-packages (from dash<3.0.0,>=2.2.0->plotly-resampler<0.9.0.0,>=0.8.3.1->neuralprophet) (5.0.0)\r\n",
      "Requirement already satisfied: itsdangerous>=0.24 in /opt/anaconda3/lib/python3.9/site-packages (from Flask>=1.0.4->dash<3.0.0,>=2.2.0->plotly-resampler<0.9.0.0,>=0.8.3.1->neuralprophet) (2.0.1)\r\n"
     ]
    },
    {
     "name": "stdout",
     "output_type": "stream",
     "text": [
      "Requirement already satisfied: click>=5.1 in /opt/anaconda3/lib/python3.9/site-packages (from Flask>=1.0.4->dash<3.0.0,>=2.2.0->plotly-resampler<0.9.0.0,>=0.8.3.1->neuralprophet) (8.0.3)\r\n",
      "Requirement already satisfied: Jinja2>=2.10.1 in /opt/anaconda3/lib/python3.9/site-packages (from Flask>=1.0.4->dash<3.0.0,>=2.2.0->plotly-resampler<0.9.0.0,>=0.8.3.1->neuralprophet) (2.11.3)\r\n",
      "Requirement already satisfied: MarkupSafe>=0.23 in /opt/anaconda3/lib/python3.9/site-packages (from Jinja2>=2.10.1->Flask>=1.0.4->dash<3.0.0,>=2.2.0->plotly-resampler<0.9.0.0,>=0.8.3.1->neuralprophet) (1.1.1)\r\n",
      "Requirement already satisfied: ipykernel in /opt/anaconda3/lib/python3.9/site-packages (from jupyter-dash>=0.4.2->plotly-resampler<0.9.0.0,>=0.8.3.1->neuralprophet) (6.4.1)\r\n",
      "Requirement already satisfied: nest-asyncio in /opt/anaconda3/lib/python3.9/site-packages (from jupyter-dash>=0.4.2->plotly-resampler<0.9.0.0,>=0.8.3.1->neuralprophet) (1.5.1)\r\n",
      "Requirement already satisfied: retrying in /opt/anaconda3/lib/python3.9/site-packages (from jupyter-dash>=0.4.2->plotly-resampler<0.9.0.0,>=0.8.3.1->neuralprophet) (1.3.4)\r\n",
      "Requirement already satisfied: ansi2html in /opt/anaconda3/lib/python3.9/site-packages (from jupyter-dash>=0.4.2->plotly-resampler<0.9.0.0,>=0.8.3.1->neuralprophet) (1.8.0)\r\n",
      "Requirement already satisfied: requests in /opt/anaconda3/lib/python3.9/site-packages (from jupyter-dash>=0.4.2->plotly-resampler<0.9.0.0,>=0.8.3.1->neuralprophet) (2.26.0)\r\n",
      "Requirement already satisfied: ipython in /opt/anaconda3/lib/python3.9/site-packages (from jupyter-dash>=0.4.2->plotly-resampler<0.9.0.0,>=0.8.3.1->neuralprophet) (7.29.0)\r\n"
     ]
    },
    {
     "name": "stdout",
     "output_type": "stream",
     "text": [
      "Requirement already satisfied: tqdm>=4.57.0 in /opt/anaconda3/lib/python3.9/site-packages (from pytorch-lightning<2.0.0,>=1.9.4->neuralprophet) (4.62.3)\r\n",
      "Requirement already satisfied: lightning-utilities>=0.6.0.post0 in /opt/anaconda3/lib/python3.9/site-packages (from pytorch-lightning<2.0.0,>=1.9.4->neuralprophet) (0.8.0)\r\n",
      "Requirement already satisfied: PyYAML>=5.4 in /opt/anaconda3/lib/python3.9/site-packages (from pytorch-lightning<2.0.0,>=1.9.4->neuralprophet) (6.0)\r\n",
      "Requirement already satisfied: fsspec[http]>2021.06.0 in /opt/anaconda3/lib/python3.9/site-packages (from pytorch-lightning<2.0.0,>=1.9.4->neuralprophet) (2021.8.1)\r\n",
      "Requirement already satisfied: aiohttp in /opt/anaconda3/lib/python3.9/site-packages (from fsspec[http]>2021.06.0->pytorch-lightning<2.0.0,>=1.9.4->neuralprophet) (3.8.4)\r\n"
     ]
    },
    {
     "name": "stdout",
     "output_type": "stream",
     "text": [
      "Requirement already satisfied: tensorboard-plugin-wit>=1.6.0 in /opt/anaconda3/lib/python3.9/site-packages (from tensorboard<3.0.0,>=2.11.2->neuralprophet) (1.8.1)\r\n",
      "Requirement already satisfied: google-auth<3,>=1.6.3 in /opt/anaconda3/lib/python3.9/site-packages (from tensorboard<3.0.0,>=2.11.2->neuralprophet) (2.16.0)\r\n",
      "Requirement already satisfied: tensorboard-data-server<0.8.0,>=0.7.0 in /opt/anaconda3/lib/python3.9/site-packages (from tensorboard<3.0.0,>=2.11.2->neuralprophet) (0.7.0)\r\n",
      "Requirement already satisfied: setuptools>=41.0.0 in /opt/anaconda3/lib/python3.9/site-packages (from tensorboard<3.0.0,>=2.11.2->neuralprophet) (58.0.4)\r\n",
      "Requirement already satisfied: markdown>=2.6.8 in /opt/anaconda3/lib/python3.9/site-packages (from tensorboard<3.0.0,>=2.11.2->neuralprophet) (3.4.1)\r\n",
      "Requirement already satisfied: google-auth-oauthlib<0.5,>=0.4.1 in /opt/anaconda3/lib/python3.9/site-packages (from tensorboard<3.0.0,>=2.11.2->neuralprophet) (0.4.6)\r\n",
      "Requirement already satisfied: protobuf>=3.19.6 in /opt/anaconda3/lib/python3.9/site-packages (from tensorboard<3.0.0,>=2.11.2->neuralprophet) (4.21.12)\r\n",
      "Requirement already satisfied: wheel>=0.26 in /opt/anaconda3/lib/python3.9/site-packages (from tensorboard<3.0.0,>=2.11.2->neuralprophet) (0.37.0)\r\n",
      "Requirement already satisfied: absl-py>=0.4 in /opt/anaconda3/lib/python3.9/site-packages (from tensorboard<3.0.0,>=2.11.2->neuralprophet) (1.4.0)\r\n",
      "Requirement already satisfied: grpcio>=1.48.2 in /opt/anaconda3/lib/python3.9/site-packages (from tensorboard<3.0.0,>=2.11.2->neuralprophet) (1.54.0)\r\n",
      "Requirement already satisfied: rsa<5,>=3.1.4 in /opt/anaconda3/lib/python3.9/site-packages (from google-auth<3,>=1.6.3->tensorboard<3.0.0,>=2.11.2->neuralprophet) (4.9)\r\n",
      "Requirement already satisfied: pyasn1-modules>=0.2.1 in /opt/anaconda3/lib/python3.9/site-packages (from google-auth<3,>=1.6.3->tensorboard<3.0.0,>=2.11.2->neuralprophet) (0.2.8)\r\n",
      "Requirement already satisfied: cachetools<6.0,>=2.0.0 in /opt/anaconda3/lib/python3.9/site-packages (from google-auth<3,>=1.6.3->tensorboard<3.0.0,>=2.11.2->neuralprophet) (5.2.1)\r\n",
      "Requirement already satisfied: requests-oauthlib>=0.7.0 in /opt/anaconda3/lib/python3.9/site-packages (from google-auth-oauthlib<0.5,>=0.4.1->tensorboard<3.0.0,>=2.11.2->neuralprophet) (1.3.1)\r\n",
      "Requirement already satisfied: importlib-metadata>=4.4 in /opt/anaconda3/lib/python3.9/site-packages (from markdown>=2.6.8->tensorboard<3.0.0,>=2.11.2->neuralprophet) (4.8.1)\r\n"
     ]
    },
    {
     "name": "stdout",
     "output_type": "stream",
     "text": [
      "Requirement already satisfied: pyasn1<0.5.0,>=0.4.6 in /opt/anaconda3/lib/python3.9/site-packages (from pyasn1-modules>=0.2.1->google-auth<3,>=1.6.3->tensorboard<3.0.0,>=2.11.2->neuralprophet) (0.4.8)\r\n",
      "Requirement already satisfied: urllib3<1.27,>=1.21.1 in /opt/anaconda3/lib/python3.9/site-packages (from requests->jupyter-dash>=0.4.2->plotly-resampler<0.9.0.0,>=0.8.3.1->neuralprophet) (1.26.7)\r\n",
      "Requirement already satisfied: charset-normalizer~=2.0.0 in /opt/anaconda3/lib/python3.9/site-packages (from requests->jupyter-dash>=0.4.2->plotly-resampler<0.9.0.0,>=0.8.3.1->neuralprophet) (2.0.4)\r\n",
      "Requirement already satisfied: idna<4,>=2.5 in /opt/anaconda3/lib/python3.9/site-packages (from requests->jupyter-dash>=0.4.2->plotly-resampler<0.9.0.0,>=0.8.3.1->neuralprophet) (3.2)\r\n",
      "Requirement already satisfied: certifi>=2017.4.17 in /opt/anaconda3/lib/python3.9/site-packages (from requests->jupyter-dash>=0.4.2->plotly-resampler<0.9.0.0,>=0.8.3.1->neuralprophet) (2021.10.8)\r\n",
      "Requirement already satisfied: oauthlib>=3.0.0 in /opt/anaconda3/lib/python3.9/site-packages (from requests-oauthlib>=0.7.0->google-auth-oauthlib<0.5,>=0.4.1->tensorboard<3.0.0,>=2.11.2->neuralprophet) (3.2.2)\r\n"
     ]
    },
    {
     "name": "stdout",
     "output_type": "stream",
     "text": [
      "Requirement already satisfied: yarl<2.0,>=1.0 in /opt/anaconda3/lib/python3.9/site-packages (from aiohttp->fsspec[http]>2021.06.0->pytorch-lightning<2.0.0,>=1.9.4->neuralprophet) (1.8.2)\r\n",
      "Requirement already satisfied: attrs>=17.3.0 in /opt/anaconda3/lib/python3.9/site-packages (from aiohttp->fsspec[http]>2021.06.0->pytorch-lightning<2.0.0,>=1.9.4->neuralprophet) (21.2.0)\r\n",
      "Requirement already satisfied: aiosignal>=1.1.2 in /opt/anaconda3/lib/python3.9/site-packages (from aiohttp->fsspec[http]>2021.06.0->pytorch-lightning<2.0.0,>=1.9.4->neuralprophet) (1.3.1)\r\n",
      "Requirement already satisfied: frozenlist>=1.1.1 in /opt/anaconda3/lib/python3.9/site-packages (from aiohttp->fsspec[http]>2021.06.0->pytorch-lightning<2.0.0,>=1.9.4->neuralprophet) (1.3.3)\r\n",
      "Requirement already satisfied: async-timeout<5.0,>=4.0.0a3 in /opt/anaconda3/lib/python3.9/site-packages (from aiohttp->fsspec[http]>2021.06.0->pytorch-lightning<2.0.0,>=1.9.4->neuralprophet) (4.0.2)\r\n",
      "Requirement already satisfied: multidict<7.0,>=4.5 in /opt/anaconda3/lib/python3.9/site-packages (from aiohttp->fsspec[http]>2021.06.0->pytorch-lightning<2.0.0,>=1.9.4->neuralprophet) (6.0.4)\r\n"
     ]
    },
    {
     "name": "stdout",
     "output_type": "stream",
     "text": [
      "Requirement already satisfied: jupyter-client<8.0 in /opt/anaconda3/lib/python3.9/site-packages (from ipykernel->jupyter-dash>=0.4.2->plotly-resampler<0.9.0.0,>=0.8.3.1->neuralprophet) (6.1.12)\r\n",
      "Requirement already satisfied: tornado<7.0,>=4.2 in /opt/anaconda3/lib/python3.9/site-packages (from ipykernel->jupyter-dash>=0.4.2->plotly-resampler<0.9.0.0,>=0.8.3.1->neuralprophet) (6.1)\r\n",
      "Requirement already satisfied: appnope in /opt/anaconda3/lib/python3.9/site-packages (from ipykernel->jupyter-dash>=0.4.2->plotly-resampler<0.9.0.0,>=0.8.3.1->neuralprophet) (0.1.2)\r\n",
      "Requirement already satisfied: traitlets<6.0,>=4.1.0 in /opt/anaconda3/lib/python3.9/site-packages (from ipykernel->jupyter-dash>=0.4.2->plotly-resampler<0.9.0.0,>=0.8.3.1->neuralprophet) (5.1.0)\r\n",
      "Requirement already satisfied: debugpy<2.0,>=1.0.0 in /opt/anaconda3/lib/python3.9/site-packages (from ipykernel->jupyter-dash>=0.4.2->plotly-resampler<0.9.0.0,>=0.8.3.1->neuralprophet) (1.4.1)\r\n",
      "Requirement already satisfied: matplotlib-inline<0.2.0,>=0.1.0 in /opt/anaconda3/lib/python3.9/site-packages (from ipykernel->jupyter-dash>=0.4.2->plotly-resampler<0.9.0.0,>=0.8.3.1->neuralprophet) (0.1.2)\r\n",
      "Requirement already satisfied: ipython-genutils in /opt/anaconda3/lib/python3.9/site-packages (from ipykernel->jupyter-dash>=0.4.2->plotly-resampler<0.9.0.0,>=0.8.3.1->neuralprophet) (0.2.0)\r\n",
      "Requirement already satisfied: jedi>=0.16 in /opt/anaconda3/lib/python3.9/site-packages (from ipython->jupyter-dash>=0.4.2->plotly-resampler<0.9.0.0,>=0.8.3.1->neuralprophet) (0.18.0)\r\n",
      "Requirement already satisfied: pickleshare in /opt/anaconda3/lib/python3.9/site-packages (from ipython->jupyter-dash>=0.4.2->plotly-resampler<0.9.0.0,>=0.8.3.1->neuralprophet) (0.7.5)\r\n",
      "Requirement already satisfied: decorator in /opt/anaconda3/lib/python3.9/site-packages (from ipython->jupyter-dash>=0.4.2->plotly-resampler<0.9.0.0,>=0.8.3.1->neuralprophet) (5.1.0)\r\n",
      "Requirement already satisfied: pygments in /opt/anaconda3/lib/python3.9/site-packages (from ipython->jupyter-dash>=0.4.2->plotly-resampler<0.9.0.0,>=0.8.3.1->neuralprophet) (2.10.0)\r\n",
      "Requirement already satisfied: backcall in /opt/anaconda3/lib/python3.9/site-packages (from ipython->jupyter-dash>=0.4.2->plotly-resampler<0.9.0.0,>=0.8.3.1->neuralprophet) (0.2.0)\r\n",
      "Requirement already satisfied: prompt-toolkit!=3.0.0,!=3.0.1,<3.1.0,>=2.0.0 in /opt/anaconda3/lib/python3.9/site-packages (from ipython->jupyter-dash>=0.4.2->plotly-resampler<0.9.0.0,>=0.8.3.1->neuralprophet) (3.0.20)\r\n"
     ]
    },
    {
     "name": "stdout",
     "output_type": "stream",
     "text": [
      "Requirement already satisfied: pexpect>4.3 in /opt/anaconda3/lib/python3.9/site-packages (from ipython->jupyter-dash>=0.4.2->plotly-resampler<0.9.0.0,>=0.8.3.1->neuralprophet) (4.8.0)\r\n",
      "Requirement already satisfied: parso<0.9.0,>=0.8.0 in /opt/anaconda3/lib/python3.9/site-packages (from jedi>=0.16->ipython->jupyter-dash>=0.4.2->plotly-resampler<0.9.0.0,>=0.8.3.1->neuralprophet) (0.8.2)\r\n",
      "Requirement already satisfied: pyzmq>=13 in /opt/anaconda3/lib/python3.9/site-packages (from jupyter-client<8.0->ipykernel->jupyter-dash>=0.4.2->plotly-resampler<0.9.0.0,>=0.8.3.1->neuralprophet) (22.2.1)\r\n",
      "Requirement already satisfied: jupyter-core>=4.6.0 in /opt/anaconda3/lib/python3.9/site-packages (from jupyter-client<8.0->ipykernel->jupyter-dash>=0.4.2->plotly-resampler<0.9.0.0,>=0.8.3.1->neuralprophet) (4.8.1)\r\n",
      "Requirement already satisfied: ptyprocess>=0.5 in /opt/anaconda3/lib/python3.9/site-packages (from pexpect>4.3->ipython->jupyter-dash>=0.4.2->plotly-resampler<0.9.0.0,>=0.8.3.1->neuralprophet) (0.7.0)\r\n",
      "Requirement already satisfied: wcwidth in /opt/anaconda3/lib/python3.9/site-packages (from prompt-toolkit!=3.0.0,!=3.0.1,<3.1.0,>=2.0.0->ipython->jupyter-dash>=0.4.2->plotly-resampler<0.9.0.0,>=0.8.3.1->neuralprophet) (0.2.5)\r\n"
     ]
    },
    {
     "name": "stdout",
     "output_type": "stream",
     "text": [
      "\u001b[33mWARNING: Ignoring invalid distribution -umpy (/opt/anaconda3/lib/python3.9/site-packages)\u001b[0m\r\n"
     ]
    },
    {
     "name": "stdout",
     "output_type": "stream",
     "text": [
      "\u001b[33mWARNING: Ignoring invalid distribution -umpy (/opt/anaconda3/lib/python3.9/site-packages)\u001b[0m\r\n",
      "\u001b[33mWARNING: Ignoring invalid distribution -umpy (/opt/anaconda3/lib/python3.9/site-packages)\u001b[0m\r\n",
      "\u001b[33mWARNING: Ignoring invalid distribution -umpy (/opt/anaconda3/lib/python3.9/site-packages)\u001b[0m\r\n"
     ]
    }
   ],
   "source": [
    "get_ipython().system('pip install neuralprophet')"
   ]
  },
  {
   "cell_type": "code",
   "execution_count": 7,
   "id": "e435ae7e",
   "metadata": {
    "execution": {
     "iopub.execute_input": "2023-05-10T00:45:21.227776Z",
     "iopub.status.busy": "2023-05-10T00:45:21.227545Z",
     "iopub.status.idle": "2023-05-10T00:45:21.233044Z",
     "shell.execute_reply": "2023-05-10T00:45:21.232584Z"
    }
   },
   "outputs": [],
   "source": [
    "#LIBRARIES\n",
    "import os\n",
    "import pandas as pd\n",
    "import numpy as np\n",
    "import seaborn as sns\n",
    "import matplotlib.pyplot as plt\n",
    "from pandas import Series, DataFrame\n",
    "import warnings \n",
    "warnings.filterwarnings('ignore')\n",
    "from scipy import stats  \n",
    "from google.cloud import bigquery\n",
    "from google.oauth2 import service_account\n",
    "from google.cloud.bigquery import magics\n",
    "from sklearn.impute import SimpleImputer\n",
    "from sklearn import linear_model\n",
    "from sklearn.model_selection import train_test_split \n",
    "from sklearn.linear_model import LinearRegression\n",
    "from sklearn import metrics\n",
    "from neuralprophet import NeuralProphet\n",
    "import pickle"
   ]
  },
  {
   "cell_type": "code",
   "execution_count": 8,
   "id": "ae94a8df",
   "metadata": {
    "execution": {
     "iopub.execute_input": "2023-05-10T00:45:21.235425Z",
     "iopub.status.busy": "2023-05-10T00:45:21.235237Z",
     "iopub.status.idle": "2023-05-10T00:45:23.672220Z",
     "shell.execute_reply": "2023-05-10T00:45:23.671490Z"
    }
   },
   "outputs": [
    {
     "name": "stdout",
     "output_type": "stream",
     "text": [
      "\u001b[33mWARNING: Ignoring invalid distribution -umpy (/opt/anaconda3/lib/python3.9/site-packages)\u001b[0m\r\n",
      "\u001b[33mWARNING: Ignoring invalid distribution -umpy (/opt/anaconda3/lib/python3.9/site-packages)\u001b[0m\r\n"
     ]
    },
    {
     "name": "stdout",
     "output_type": "stream",
     "text": [
      "Requirement already satisfied: db-dtypes in /opt/anaconda3/lib/python3.9/site-packages (1.0.5)\r\n",
      "Requirement already satisfied: packaging>=17.0 in /opt/anaconda3/lib/python3.9/site-packages (from db-dtypes) (21.3)\r\n",
      "Requirement already satisfied: pyarrow>=3.0.0 in /opt/anaconda3/lib/python3.9/site-packages (from db-dtypes) (10.0.1)\r\n",
      "Requirement already satisfied: pandas<2.0dev,>=0.24.2 in /opt/anaconda3/lib/python3.9/site-packages (from db-dtypes) (1.5.3)\r\n",
      "Requirement already satisfied: numpy<2.0dev,>=1.16.6 in /opt/anaconda3/lib/python3.9/site-packages (from db-dtypes) (1.22.4)\r\n",
      "Requirement already satisfied: pyparsing!=3.0.5,>=2.0.2 in /opt/anaconda3/lib/python3.9/site-packages (from packaging>=17.0->db-dtypes) (3.0.4)\r\n",
      "Requirement already satisfied: python-dateutil>=2.8.1 in /opt/anaconda3/lib/python3.9/site-packages (from pandas<2.0dev,>=0.24.2->db-dtypes) (2.8.2)\r\n",
      "Requirement already satisfied: pytz>=2020.1 in /opt/anaconda3/lib/python3.9/site-packages (from pandas<2.0dev,>=0.24.2->db-dtypes) (2021.3)\r\n",
      "Requirement already satisfied: six>=1.5 in /opt/anaconda3/lib/python3.9/site-packages (from python-dateutil>=2.8.1->pandas<2.0dev,>=0.24.2->db-dtypes) (1.16.0)\r\n",
      "\u001b[33mWARNING: Ignoring invalid distribution -umpy (/opt/anaconda3/lib/python3.9/site-packages)\u001b[0m\r\n"
     ]
    },
    {
     "name": "stdout",
     "output_type": "stream",
     "text": [
      "\u001b[33mWARNING: Ignoring invalid distribution -umpy (/opt/anaconda3/lib/python3.9/site-packages)\u001b[0m\r\n",
      "\u001b[33mWARNING: Ignoring invalid distribution -umpy (/opt/anaconda3/lib/python3.9/site-packages)\u001b[0m\r\n",
      "\u001b[33mWARNING: Ignoring invalid distribution -umpy (/opt/anaconda3/lib/python3.9/site-packages)\u001b[0m\r\n"
     ]
    }
   ],
   "source": [
    "get_ipython().system('pip install db-dtypes')"
   ]
  },
  {
   "cell_type": "code",
   "execution_count": 9,
   "id": "ad773a1d",
   "metadata": {
    "execution": {
     "iopub.execute_input": "2023-05-10T00:45:23.675375Z",
     "iopub.status.busy": "2023-05-10T00:45:23.675134Z",
     "iopub.status.idle": "2023-05-10T00:45:23.685362Z",
     "shell.execute_reply": "2023-05-10T00:45:23.684961Z"
    }
   },
   "outputs": [],
   "source": [
    "get_ipython().run_cell_magic('capture', '', \"%logstop\\n%logstart -t -r -q ipython_command_log.py global\\n\\n#- IRONHACKS RESEARCH TRACKING CODE\\n#----------------------------------\\n# The following code is used to help our research team understand how you \\n# our notebook environment. We do not collect any personal information with\\n# the following code, it is used to measure when and how often you work on\\n# your submission files.\\n\\nimport os\\nfrom datetime import datetime\\nimport IPython.core.history as history\\n\\nha = history.HistoryAccessor()\\nha_tail = ha.get_tail(1)\\nha_cmd = next(ha_tail)\\nsession_id = str(ha_cmd[0])\\ncommand_id = str(ha_cmd[1])\\ntimestamp = datetime.utcnow().isoformat()\\nhistory_line = ','.join([session_id, command_id, timestamp]) + '\\\\n'\\nlogfile = open(os.environ['HOME']+'/ipython_session_log.csv', 'a')\\nlogfile.write(history_line)\\nlogfile.close()\\n\")"
   ]
  },
  {
   "cell_type": "code",
   "execution_count": 10,
   "id": "cec66df5",
   "metadata": {
    "execution": {
     "iopub.execute_input": "2023-05-10T00:45:23.687642Z",
     "iopub.status.busy": "2023-05-10T00:45:23.687462Z",
     "iopub.status.idle": "2023-05-10T00:45:23.776480Z",
     "shell.execute_reply": "2023-05-10T00:45:23.776195Z"
    }
   },
   "outputs": [
    {
     "ename": "ImportError",
     "evalue": "cannot import name 'neuralprophet' from 'neuralprophet' (/opt/homebrew/lib/python3.9/site-packages/neuralprophet/__init__.py)",
     "output_type": "error",
     "traceback": [
      "\u001b[0;31m---------------------------------------------------------------------------\u001b[0m",
      "\u001b[0;31mImportError\u001b[0m                               Traceback (most recent call last)",
      "Cell \u001b[0;32mIn [10], line 19\u001b[0m\n\u001b[1;32m     17\u001b[0m \u001b[38;5;28;01mfrom\u001b[39;00m \u001b[38;5;21;01msklearn\u001b[39;00m\u001b[38;5;21;01m.\u001b[39;00m\u001b[38;5;21;01mlinear_model\u001b[39;00m \u001b[38;5;28;01mimport\u001b[39;00m LinearRegression\n\u001b[1;32m     18\u001b[0m \u001b[38;5;28;01mfrom\u001b[39;00m \u001b[38;5;21;01msklearn\u001b[39;00m \u001b[38;5;28;01mimport\u001b[39;00m metrics\n\u001b[0;32m---> 19\u001b[0m \u001b[38;5;28;01mfrom\u001b[39;00m \u001b[38;5;21;01mneuralprophet\u001b[39;00m \u001b[38;5;28;01mimport\u001b[39;00m neuralprophet\n\u001b[1;32m     20\u001b[0m \u001b[38;5;28;01mimport\u001b[39;00m \u001b[38;5;21;01mpickle\u001b[39;00m\n",
      "\u001b[0;31mImportError\u001b[0m: cannot import name 'neuralprophet' from 'neuralprophet' (/opt/homebrew/lib/python3.9/site-packages/neuralprophet/__init__.py)"
     ]
    }
   ],
   "source": [
    "#LIBRARIES\n",
    "import os\n",
    "import pandas as pd\n",
    "import numpy as np\n",
    "import seaborn as sns\n",
    "import matplotlib.pyplot as plt\n",
    "from pandas import Series, DataFrame\n",
    "import warnings \n",
    "warnings.filterwarnings('ignore')\n",
    "from scipy import stats  \n",
    "from google.cloud import bigquery\n",
    "from google.oauth2 import service_account\n",
    "from google.cloud.bigquery import magics\n",
    "from sklearn.impute import SimpleImputer\n",
    "from sklearn import linear_model\n",
    "from sklearn.model_selection import train_test_split \n",
    "from sklearn.linear_model import LinearRegression\n",
    "from sklearn import metrics\n",
    "from neuralprophet import neuralprophet\n",
    "import pickle"
   ]
  },
  {
   "cell_type": "code",
   "execution_count": 11,
   "id": "1da1ebab",
   "metadata": {
    "execution": {
     "iopub.execute_input": "2023-05-10T00:45:23.778023Z",
     "iopub.status.busy": "2023-05-10T00:45:23.777919Z",
     "iopub.status.idle": "2023-05-10T00:45:26.206584Z",
     "shell.execute_reply": "2023-05-10T00:45:26.205858Z"
    }
   },
   "outputs": [
    {
     "name": "stdout",
     "output_type": "stream",
     "text": [
      "\u001b[33mWARNING: Ignoring invalid distribution -umpy (/opt/anaconda3/lib/python3.9/site-packages)\u001b[0m\r\n"
     ]
    },
    {
     "name": "stdout",
     "output_type": "stream",
     "text": [
      "\u001b[33mWARNING: Ignoring invalid distribution -umpy (/opt/anaconda3/lib/python3.9/site-packages)\u001b[0m\r\n",
      "Requirement already satisfied: db-dtypes in /opt/anaconda3/lib/python3.9/site-packages (1.0.5)\r\n",
      "Requirement already satisfied: numpy<2.0dev,>=1.16.6 in /opt/anaconda3/lib/python3.9/site-packages (from db-dtypes) (1.22.4)\r\n",
      "Requirement already satisfied: pandas<2.0dev,>=0.24.2 in /opt/anaconda3/lib/python3.9/site-packages (from db-dtypes) (1.5.3)\r\n",
      "Requirement already satisfied: packaging>=17.0 in /opt/anaconda3/lib/python3.9/site-packages (from db-dtypes) (21.3)\r\n",
      "Requirement already satisfied: pyarrow>=3.0.0 in /opt/anaconda3/lib/python3.9/site-packages (from db-dtypes) (10.0.1)\r\n",
      "Requirement already satisfied: pyparsing!=3.0.5,>=2.0.2 in /opt/anaconda3/lib/python3.9/site-packages (from packaging>=17.0->db-dtypes) (3.0.4)\r\n",
      "Requirement already satisfied: pytz>=2020.1 in /opt/anaconda3/lib/python3.9/site-packages (from pandas<2.0dev,>=0.24.2->db-dtypes) (2021.3)\r\n",
      "Requirement already satisfied: python-dateutil>=2.8.1 in /opt/anaconda3/lib/python3.9/site-packages (from pandas<2.0dev,>=0.24.2->db-dtypes) (2.8.2)\r\n",
      "Requirement already satisfied: six>=1.5 in /opt/anaconda3/lib/python3.9/site-packages (from python-dateutil>=2.8.1->pandas<2.0dev,>=0.24.2->db-dtypes) (1.16.0)\r\n",
      "\u001b[33mWARNING: Ignoring invalid distribution -umpy (/opt/anaconda3/lib/python3.9/site-packages)\u001b[0m\r\n"
     ]
    },
    {
     "name": "stdout",
     "output_type": "stream",
     "text": [
      "\u001b[33mWARNING: Ignoring invalid distribution -umpy (/opt/anaconda3/lib/python3.9/site-packages)\u001b[0m\r\n",
      "\u001b[33mWARNING: Ignoring invalid distribution -umpy (/opt/anaconda3/lib/python3.9/site-packages)\u001b[0m\r\n",
      "\u001b[33mWARNING: Ignoring invalid distribution -umpy (/opt/anaconda3/lib/python3.9/site-packages)\u001b[0m\r\n"
     ]
    }
   ],
   "source": [
    "get_ipython().system('pip install db-dtypes')"
   ]
  },
  {
   "cell_type": "code",
   "execution_count": 12,
   "id": "d5581075",
   "metadata": {
    "execution": {
     "iopub.execute_input": "2023-05-10T00:45:26.209700Z",
     "iopub.status.busy": "2023-05-10T00:45:26.209462Z",
     "iopub.status.idle": "2023-05-10T00:45:28.951222Z",
     "shell.execute_reply": "2023-05-10T00:45:28.950500Z"
    }
   },
   "outputs": [
    {
     "name": "stdout",
     "output_type": "stream",
     "text": [
      "\u001b[33mWARNING: Ignoring invalid distribution -umpy (/opt/anaconda3/lib/python3.9/site-packages)\u001b[0m\r\n"
     ]
    },
    {
     "name": "stdout",
     "output_type": "stream",
     "text": [
      "\u001b[33mWARNING: Ignoring invalid distribution -umpy (/opt/anaconda3/lib/python3.9/site-packages)\u001b[0m\r\n",
      "Requirement already satisfied: neuralprophet in /opt/anaconda3/lib/python3.9/site-packages (0.6.0rc1)\r\n",
      "Requirement already satisfied: typing-extensions<5.0.0,>=4.5.0 in /opt/anaconda3/lib/python3.9/site-packages (from neuralprophet) (4.5.0)\r\n",
      "Requirement already satisfied: holidays<0.22,>=0.21 in /opt/anaconda3/lib/python3.9/site-packages (from neuralprophet) (0.21.13)\r\n",
      "Requirement already satisfied: captum<0.7.0,>=0.6.0 in /opt/anaconda3/lib/python3.9/site-packages (from neuralprophet) (0.6.0)\r\n",
      "Requirement already satisfied: tensorboard<3.0.0,>=2.11.2 in /opt/anaconda3/lib/python3.9/site-packages (from neuralprophet) (2.12.0)\r\n",
      "Requirement already satisfied: torch<2.0.0,>=1.13.1 in /opt/anaconda3/lib/python3.9/site-packages (from neuralprophet) (1.13.1)\r\n",
      "Requirement already satisfied: matplotlib<4.0.0,>=3.5.3 in /opt/anaconda3/lib/python3.9/site-packages (from neuralprophet) (3.7.1)\r\n",
      "Requirement already satisfied: numpy<1.24.0,>=1.21.6 in /opt/anaconda3/lib/python3.9/site-packages (from neuralprophet) (1.22.4)\r\n",
      "Requirement already satisfied: plotly<6.0.0,>=5.13.1 in /opt/anaconda3/lib/python3.9/site-packages (from neuralprophet) (5.14.1)\r\n",
      "Requirement already satisfied: torchmetrics<0.12.0,>=0.11.3 in /opt/anaconda3/lib/python3.9/site-packages (from neuralprophet) (0.11.4)\r\n",
      "Requirement already satisfied: pandas<2.0.0,>=1.3.5 in /opt/anaconda3/lib/python3.9/site-packages (from neuralprophet) (1.5.3)\r\n",
      "Requirement already satisfied: plotly-resampler<0.9.0.0,>=0.8.3.1 in /opt/anaconda3/lib/python3.9/site-packages (from neuralprophet) (0.8.3.1)\r\n",
      "Requirement already satisfied: pytorch-lightning<2.0.0,>=1.9.4 in /opt/anaconda3/lib/python3.9/site-packages (from neuralprophet) (1.9.5)\r\n",
      "Requirement already satisfied: korean-lunar-calendar in /opt/anaconda3/lib/python3.9/site-packages (from holidays<0.22,>=0.21->neuralprophet) (0.3.1)\r\n",
      "Requirement already satisfied: python-dateutil in /opt/anaconda3/lib/python3.9/site-packages (from holidays<0.22,>=0.21->neuralprophet) (2.8.2)\r\n",
      "Requirement already satisfied: PyMeeus in /opt/anaconda3/lib/python3.9/site-packages (from holidays<0.22,>=0.21->neuralprophet) (0.5.12)\r\n",
      "Requirement already satisfied: convertdate>=2.3.0 in /opt/anaconda3/lib/python3.9/site-packages (from holidays<0.22,>=0.21->neuralprophet) (2.4.0)\r\n",
      "Requirement already satisfied: hijri-converter in /opt/anaconda3/lib/python3.9/site-packages (from holidays<0.22,>=0.21->neuralprophet) (2.2.4)\r\n"
     ]
    },
    {
     "name": "stdout",
     "output_type": "stream",
     "text": [
      "Requirement already satisfied: cycler>=0.10 in /opt/anaconda3/lib/python3.9/site-packages (from matplotlib<4.0.0,>=3.5.3->neuralprophet) (0.10.0)\r\n",
      "Requirement already satisfied: fonttools>=4.22.0 in /opt/anaconda3/lib/python3.9/site-packages (from matplotlib<4.0.0,>=3.5.3->neuralprophet) (4.25.0)\r\n",
      "Requirement already satisfied: pillow>=6.2.0 in /opt/anaconda3/lib/python3.9/site-packages (from matplotlib<4.0.0,>=3.5.3->neuralprophet) (8.4.0)\r\n",
      "Requirement already satisfied: importlib-resources>=3.2.0 in /opt/anaconda3/lib/python3.9/site-packages (from matplotlib<4.0.0,>=3.5.3->neuralprophet) (5.12.0)\r\n",
      "Requirement already satisfied: packaging>=20.0 in /opt/anaconda3/lib/python3.9/site-packages (from matplotlib<4.0.0,>=3.5.3->neuralprophet) (21.3)\r\n",
      "Requirement already satisfied: kiwisolver>=1.0.1 in /opt/anaconda3/lib/python3.9/site-packages (from matplotlib<4.0.0,>=3.5.3->neuralprophet) (1.3.1)\r\n",
      "Requirement already satisfied: contourpy>=1.0.1 in /opt/anaconda3/lib/python3.9/site-packages (from matplotlib<4.0.0,>=3.5.3->neuralprophet) (1.0.7)\r\n",
      "Requirement already satisfied: pyparsing>=2.3.1 in /opt/anaconda3/lib/python3.9/site-packages (from matplotlib<4.0.0,>=3.5.3->neuralprophet) (3.0.4)\r\n",
      "Requirement already satisfied: six in /opt/anaconda3/lib/python3.9/site-packages (from cycler>=0.10->matplotlib<4.0.0,>=3.5.3->neuralprophet) (1.16.0)\r\n",
      "Requirement already satisfied: zipp>=3.1.0 in /opt/anaconda3/lib/python3.9/site-packages (from importlib-resources>=3.2.0->matplotlib<4.0.0,>=3.5.3->neuralprophet) (3.6.0)\r\n",
      "Requirement already satisfied: pytz>=2020.1 in /opt/anaconda3/lib/python3.9/site-packages (from pandas<2.0.0,>=1.3.5->neuralprophet) (2021.3)\r\n",
      "Requirement already satisfied: tenacity>=6.2.0 in /opt/anaconda3/lib/python3.9/site-packages (from plotly<6.0.0,>=5.13.1->neuralprophet) (8.1.0)\r\n",
      "Requirement already satisfied: dash<3.0.0,>=2.2.0 in /opt/anaconda3/lib/python3.9/site-packages (from plotly-resampler<0.9.0.0,>=0.8.3.1->neuralprophet) (2.8.1)\r\n",
      "Requirement already satisfied: jupyter-dash>=0.4.2 in /opt/anaconda3/lib/python3.9/site-packages (from plotly-resampler<0.9.0.0,>=0.8.3.1->neuralprophet) (0.4.2)\r\n",
      "Requirement already satisfied: Flask-Cors<4.0.0,>=3.0.10 in /opt/anaconda3/lib/python3.9/site-packages (from plotly-resampler<0.9.0.0,>=0.8.3.1->neuralprophet) (3.0.10)\r\n",
      "Requirement already satisfied: trace-updater>=0.0.8 in /opt/anaconda3/lib/python3.9/site-packages (from plotly-resampler<0.9.0.0,>=0.8.3.1->neuralprophet) (0.0.9)\r\n",
      "Requirement already satisfied: orjson<4.0.0,>=3.8.0 in /opt/anaconda3/lib/python3.9/site-packages (from plotly-resampler<0.9.0.0,>=0.8.3.1->neuralprophet) (3.8.6)\r\n",
      "Requirement already satisfied: Werkzeug<=2.1.2 in /opt/anaconda3/lib/python3.9/site-packages (from plotly-resampler<0.9.0.0,>=0.8.3.1->neuralprophet) (2.0.2)\r\n"
     ]
    },
    {
     "name": "stdout",
     "output_type": "stream",
     "text": [
      "Requirement already satisfied: dash-core-components==2.0.0 in /opt/anaconda3/lib/python3.9/site-packages (from dash<3.0.0,>=2.2.0->plotly-resampler<0.9.0.0,>=0.8.3.1->neuralprophet) (2.0.0)\r\n",
      "Requirement already satisfied: dash-table==5.0.0 in /opt/anaconda3/lib/python3.9/site-packages (from dash<3.0.0,>=2.2.0->plotly-resampler<0.9.0.0,>=0.8.3.1->neuralprophet) (5.0.0)\r\n",
      "Requirement already satisfied: dash-html-components==2.0.0 in /opt/anaconda3/lib/python3.9/site-packages (from dash<3.0.0,>=2.2.0->plotly-resampler<0.9.0.0,>=0.8.3.1->neuralprophet) (2.0.0)\r\n",
      "Requirement already satisfied: Flask>=1.0.4 in /opt/anaconda3/lib/python3.9/site-packages (from dash<3.0.0,>=2.2.0->plotly-resampler<0.9.0.0,>=0.8.3.1->neuralprophet) (1.1.2)\r\n",
      "Requirement already satisfied: click>=5.1 in /opt/anaconda3/lib/python3.9/site-packages (from Flask>=1.0.4->dash<3.0.0,>=2.2.0->plotly-resampler<0.9.0.0,>=0.8.3.1->neuralprophet) (8.0.3)\r\n",
      "Requirement already satisfied: itsdangerous>=0.24 in /opt/anaconda3/lib/python3.9/site-packages (from Flask>=1.0.4->dash<3.0.0,>=2.2.0->plotly-resampler<0.9.0.0,>=0.8.3.1->neuralprophet) (2.0.1)\r\n",
      "Requirement already satisfied: Jinja2>=2.10.1 in /opt/anaconda3/lib/python3.9/site-packages (from Flask>=1.0.4->dash<3.0.0,>=2.2.0->plotly-resampler<0.9.0.0,>=0.8.3.1->neuralprophet) (2.11.3)\r\n"
     ]
    },
    {
     "name": "stdout",
     "output_type": "stream",
     "text": [
      "Requirement already satisfied: MarkupSafe>=0.23 in /opt/anaconda3/lib/python3.9/site-packages (from Jinja2>=2.10.1->Flask>=1.0.4->dash<3.0.0,>=2.2.0->plotly-resampler<0.9.0.0,>=0.8.3.1->neuralprophet) (1.1.1)\r\n",
      "Requirement already satisfied: retrying in /opt/anaconda3/lib/python3.9/site-packages (from jupyter-dash>=0.4.2->plotly-resampler<0.9.0.0,>=0.8.3.1->neuralprophet) (1.3.4)\r\n",
      "Requirement already satisfied: ansi2html in /opt/anaconda3/lib/python3.9/site-packages (from jupyter-dash>=0.4.2->plotly-resampler<0.9.0.0,>=0.8.3.1->neuralprophet) (1.8.0)\r\n",
      "Requirement already satisfied: ipython in /opt/anaconda3/lib/python3.9/site-packages (from jupyter-dash>=0.4.2->plotly-resampler<0.9.0.0,>=0.8.3.1->neuralprophet) (7.29.0)\r\n",
      "Requirement already satisfied: ipykernel in /opt/anaconda3/lib/python3.9/site-packages (from jupyter-dash>=0.4.2->plotly-resampler<0.9.0.0,>=0.8.3.1->neuralprophet) (6.4.1)\r\n",
      "Requirement already satisfied: nest-asyncio in /opt/anaconda3/lib/python3.9/site-packages (from jupyter-dash>=0.4.2->plotly-resampler<0.9.0.0,>=0.8.3.1->neuralprophet) (1.5.1)\r\n",
      "Requirement already satisfied: requests in /opt/anaconda3/lib/python3.9/site-packages (from jupyter-dash>=0.4.2->plotly-resampler<0.9.0.0,>=0.8.3.1->neuralprophet) (2.26.0)\r\n"
     ]
    },
    {
     "name": "stdout",
     "output_type": "stream",
     "text": [
      "Requirement already satisfied: tqdm>=4.57.0 in /opt/anaconda3/lib/python3.9/site-packages (from pytorch-lightning<2.0.0,>=1.9.4->neuralprophet) (4.62.3)\r\n",
      "Requirement already satisfied: PyYAML>=5.4 in /opt/anaconda3/lib/python3.9/site-packages (from pytorch-lightning<2.0.0,>=1.9.4->neuralprophet) (6.0)\r\n",
      "Requirement already satisfied: lightning-utilities>=0.6.0.post0 in /opt/anaconda3/lib/python3.9/site-packages (from pytorch-lightning<2.0.0,>=1.9.4->neuralprophet) (0.8.0)\r\n",
      "Requirement already satisfied: fsspec[http]>2021.06.0 in /opt/anaconda3/lib/python3.9/site-packages (from pytorch-lightning<2.0.0,>=1.9.4->neuralprophet) (2021.8.1)\r\n",
      "Requirement already satisfied: aiohttp in /opt/anaconda3/lib/python3.9/site-packages (from fsspec[http]>2021.06.0->pytorch-lightning<2.0.0,>=1.9.4->neuralprophet) (3.8.4)\r\n"
     ]
    },
    {
     "name": "stdout",
     "output_type": "stream",
     "text": [
      "Requirement already satisfied: protobuf>=3.19.6 in /opt/anaconda3/lib/python3.9/site-packages (from tensorboard<3.0.0,>=2.11.2->neuralprophet) (4.21.12)\r\n",
      "Requirement already satisfied: wheel>=0.26 in /opt/anaconda3/lib/python3.9/site-packages (from tensorboard<3.0.0,>=2.11.2->neuralprophet) (0.37.0)\r\n",
      "Requirement already satisfied: absl-py>=0.4 in /opt/anaconda3/lib/python3.9/site-packages (from tensorboard<3.0.0,>=2.11.2->neuralprophet) (1.4.0)\r\n",
      "Requirement already satisfied: markdown>=2.6.8 in /opt/anaconda3/lib/python3.9/site-packages (from tensorboard<3.0.0,>=2.11.2->neuralprophet) (3.4.1)\r\n",
      "Requirement already satisfied: setuptools>=41.0.0 in /opt/anaconda3/lib/python3.9/site-packages (from tensorboard<3.0.0,>=2.11.2->neuralprophet) (58.0.4)\r\n",
      "Requirement already satisfied: google-auth<3,>=1.6.3 in /opt/anaconda3/lib/python3.9/site-packages (from tensorboard<3.0.0,>=2.11.2->neuralprophet) (2.16.0)\r\n",
      "Requirement already satisfied: grpcio>=1.48.2 in /opt/anaconda3/lib/python3.9/site-packages (from tensorboard<3.0.0,>=2.11.2->neuralprophet) (1.54.0)\r\n",
      "Requirement already satisfied: google-auth-oauthlib<0.5,>=0.4.1 in /opt/anaconda3/lib/python3.9/site-packages (from tensorboard<3.0.0,>=2.11.2->neuralprophet) (0.4.6)\r\n",
      "Requirement already satisfied: tensorboard-plugin-wit>=1.6.0 in /opt/anaconda3/lib/python3.9/site-packages (from tensorboard<3.0.0,>=2.11.2->neuralprophet) (1.8.1)\r\n",
      "Requirement already satisfied: tensorboard-data-server<0.8.0,>=0.7.0 in /opt/anaconda3/lib/python3.9/site-packages (from tensorboard<3.0.0,>=2.11.2->neuralprophet) (0.7.0)\r\n",
      "Requirement already satisfied: pyasn1-modules>=0.2.1 in /opt/anaconda3/lib/python3.9/site-packages (from google-auth<3,>=1.6.3->tensorboard<3.0.0,>=2.11.2->neuralprophet) (0.2.8)\r\n",
      "Requirement already satisfied: rsa<5,>=3.1.4 in /opt/anaconda3/lib/python3.9/site-packages (from google-auth<3,>=1.6.3->tensorboard<3.0.0,>=2.11.2->neuralprophet) (4.9)\r\n",
      "Requirement already satisfied: cachetools<6.0,>=2.0.0 in /opt/anaconda3/lib/python3.9/site-packages (from google-auth<3,>=1.6.3->tensorboard<3.0.0,>=2.11.2->neuralprophet) (5.2.1)\r\n",
      "Requirement already satisfied: requests-oauthlib>=0.7.0 in /opt/anaconda3/lib/python3.9/site-packages (from google-auth-oauthlib<0.5,>=0.4.1->tensorboard<3.0.0,>=2.11.2->neuralprophet) (1.3.1)\r\n",
      "Requirement already satisfied: importlib-metadata>=4.4 in /opt/anaconda3/lib/python3.9/site-packages (from markdown>=2.6.8->tensorboard<3.0.0,>=2.11.2->neuralprophet) (4.8.1)\r\n"
     ]
    },
    {
     "name": "stdout",
     "output_type": "stream",
     "text": [
      "Requirement already satisfied: pyasn1<0.5.0,>=0.4.6 in /opt/anaconda3/lib/python3.9/site-packages (from pyasn1-modules>=0.2.1->google-auth<3,>=1.6.3->tensorboard<3.0.0,>=2.11.2->neuralprophet) (0.4.8)\r\n",
      "Requirement already satisfied: urllib3<1.27,>=1.21.1 in /opt/anaconda3/lib/python3.9/site-packages (from requests->jupyter-dash>=0.4.2->plotly-resampler<0.9.0.0,>=0.8.3.1->neuralprophet) (1.26.7)\r\n",
      "Requirement already satisfied: certifi>=2017.4.17 in /opt/anaconda3/lib/python3.9/site-packages (from requests->jupyter-dash>=0.4.2->plotly-resampler<0.9.0.0,>=0.8.3.1->neuralprophet) (2021.10.8)\r\n",
      "Requirement already satisfied: idna<4,>=2.5 in /opt/anaconda3/lib/python3.9/site-packages (from requests->jupyter-dash>=0.4.2->plotly-resampler<0.9.0.0,>=0.8.3.1->neuralprophet) (3.2)\r\n",
      "Requirement already satisfied: charset-normalizer~=2.0.0 in /opt/anaconda3/lib/python3.9/site-packages (from requests->jupyter-dash>=0.4.2->plotly-resampler<0.9.0.0,>=0.8.3.1->neuralprophet) (2.0.4)\r\n",
      "Requirement already satisfied: oauthlib>=3.0.0 in /opt/anaconda3/lib/python3.9/site-packages (from requests-oauthlib>=0.7.0->google-auth-oauthlib<0.5,>=0.4.1->tensorboard<3.0.0,>=2.11.2->neuralprophet) (3.2.2)\r\n"
     ]
    },
    {
     "name": "stdout",
     "output_type": "stream",
     "text": [
      "Requirement already satisfied: attrs>=17.3.0 in /opt/anaconda3/lib/python3.9/site-packages (from aiohttp->fsspec[http]>2021.06.0->pytorch-lightning<2.0.0,>=1.9.4->neuralprophet) (21.2.0)\r\n",
      "Requirement already satisfied: async-timeout<5.0,>=4.0.0a3 in /opt/anaconda3/lib/python3.9/site-packages (from aiohttp->fsspec[http]>2021.06.0->pytorch-lightning<2.0.0,>=1.9.4->neuralprophet) (4.0.2)\r\n",
      "Requirement already satisfied: multidict<7.0,>=4.5 in /opt/anaconda3/lib/python3.9/site-packages (from aiohttp->fsspec[http]>2021.06.0->pytorch-lightning<2.0.0,>=1.9.4->neuralprophet) (6.0.4)\r\n",
      "Requirement already satisfied: frozenlist>=1.1.1 in /opt/anaconda3/lib/python3.9/site-packages (from aiohttp->fsspec[http]>2021.06.0->pytorch-lightning<2.0.0,>=1.9.4->neuralprophet) (1.3.3)\r\n",
      "Requirement already satisfied: yarl<2.0,>=1.0 in /opt/anaconda3/lib/python3.9/site-packages (from aiohttp->fsspec[http]>2021.06.0->pytorch-lightning<2.0.0,>=1.9.4->neuralprophet) (1.8.2)\r\n",
      "Requirement already satisfied: aiosignal>=1.1.2 in /opt/anaconda3/lib/python3.9/site-packages (from aiohttp->fsspec[http]>2021.06.0->pytorch-lightning<2.0.0,>=1.9.4->neuralprophet) (1.3.1)\r\n"
     ]
    },
    {
     "name": "stdout",
     "output_type": "stream",
     "text": [
      "Requirement already satisfied: jupyter-client<8.0 in /opt/anaconda3/lib/python3.9/site-packages (from ipykernel->jupyter-dash>=0.4.2->plotly-resampler<0.9.0.0,>=0.8.3.1->neuralprophet) (6.1.12)\r\n",
      "Requirement already satisfied: tornado<7.0,>=4.2 in /opt/anaconda3/lib/python3.9/site-packages (from ipykernel->jupyter-dash>=0.4.2->plotly-resampler<0.9.0.0,>=0.8.3.1->neuralprophet) (6.1)\r\n",
      "Requirement already satisfied: matplotlib-inline<0.2.0,>=0.1.0 in /opt/anaconda3/lib/python3.9/site-packages (from ipykernel->jupyter-dash>=0.4.2->plotly-resampler<0.9.0.0,>=0.8.3.1->neuralprophet) (0.1.2)\r\n",
      "Requirement already satisfied: appnope in /opt/anaconda3/lib/python3.9/site-packages (from ipykernel->jupyter-dash>=0.4.2->plotly-resampler<0.9.0.0,>=0.8.3.1->neuralprophet) (0.1.2)\r\n",
      "Requirement already satisfied: debugpy<2.0,>=1.0.0 in /opt/anaconda3/lib/python3.9/site-packages (from ipykernel->jupyter-dash>=0.4.2->plotly-resampler<0.9.0.0,>=0.8.3.1->neuralprophet) (1.4.1)\r\n",
      "Requirement already satisfied: ipython-genutils in /opt/anaconda3/lib/python3.9/site-packages (from ipykernel->jupyter-dash>=0.4.2->plotly-resampler<0.9.0.0,>=0.8.3.1->neuralprophet) (0.2.0)\r\n",
      "Requirement already satisfied: traitlets<6.0,>=4.1.0 in /opt/anaconda3/lib/python3.9/site-packages (from ipykernel->jupyter-dash>=0.4.2->plotly-resampler<0.9.0.0,>=0.8.3.1->neuralprophet) (5.1.0)\r\n",
      "Requirement already satisfied: decorator in /opt/anaconda3/lib/python3.9/site-packages (from ipython->jupyter-dash>=0.4.2->plotly-resampler<0.9.0.0,>=0.8.3.1->neuralprophet) (5.1.0)\r\n",
      "Requirement already satisfied: pygments in /opt/anaconda3/lib/python3.9/site-packages (from ipython->jupyter-dash>=0.4.2->plotly-resampler<0.9.0.0,>=0.8.3.1->neuralprophet) (2.10.0)\r\n",
      "Requirement already satisfied: pexpect>4.3 in /opt/anaconda3/lib/python3.9/site-packages (from ipython->jupyter-dash>=0.4.2->plotly-resampler<0.9.0.0,>=0.8.3.1->neuralprophet) (4.8.0)\r\n",
      "Requirement already satisfied: jedi>=0.16 in /opt/anaconda3/lib/python3.9/site-packages (from ipython->jupyter-dash>=0.4.2->plotly-resampler<0.9.0.0,>=0.8.3.1->neuralprophet) (0.18.0)\r\n",
      "Requirement already satisfied: backcall in /opt/anaconda3/lib/python3.9/site-packages (from ipython->jupyter-dash>=0.4.2->plotly-resampler<0.9.0.0,>=0.8.3.1->neuralprophet) (0.2.0)\r\n",
      "Requirement already satisfied: pickleshare in /opt/anaconda3/lib/python3.9/site-packages (from ipython->jupyter-dash>=0.4.2->plotly-resampler<0.9.0.0,>=0.8.3.1->neuralprophet) (0.7.5)\r\n",
      "Requirement already satisfied: prompt-toolkit!=3.0.0,!=3.0.1,<3.1.0,>=2.0.0 in /opt/anaconda3/lib/python3.9/site-packages (from ipython->jupyter-dash>=0.4.2->plotly-resampler<0.9.0.0,>=0.8.3.1->neuralprophet) (3.0.20)\r\n",
      "Requirement already satisfied: parso<0.9.0,>=0.8.0 in /opt/anaconda3/lib/python3.9/site-packages (from jedi>=0.16->ipython->jupyter-dash>=0.4.2->plotly-resampler<0.9.0.0,>=0.8.3.1->neuralprophet) (0.8.2)\r\n",
      "Requirement already satisfied: jupyter-core>=4.6.0 in /opt/anaconda3/lib/python3.9/site-packages (from jupyter-client<8.0->ipykernel->jupyter-dash>=0.4.2->plotly-resampler<0.9.0.0,>=0.8.3.1->neuralprophet) (4.8.1)\r\n"
     ]
    },
    {
     "name": "stdout",
     "output_type": "stream",
     "text": [
      "Requirement already satisfied: pyzmq>=13 in /opt/anaconda3/lib/python3.9/site-packages (from jupyter-client<8.0->ipykernel->jupyter-dash>=0.4.2->plotly-resampler<0.9.0.0,>=0.8.3.1->neuralprophet) (22.2.1)\r\n",
      "Requirement already satisfied: ptyprocess>=0.5 in /opt/anaconda3/lib/python3.9/site-packages (from pexpect>4.3->ipython->jupyter-dash>=0.4.2->plotly-resampler<0.9.0.0,>=0.8.3.1->neuralprophet) (0.7.0)\r\n",
      "Requirement already satisfied: wcwidth in /opt/anaconda3/lib/python3.9/site-packages (from prompt-toolkit!=3.0.0,!=3.0.1,<3.1.0,>=2.0.0->ipython->jupyter-dash>=0.4.2->plotly-resampler<0.9.0.0,>=0.8.3.1->neuralprophet) (0.2.5)\r\n"
     ]
    },
    {
     "name": "stdout",
     "output_type": "stream",
     "text": [
      "\u001b[33mWARNING: Ignoring invalid distribution -umpy (/opt/anaconda3/lib/python3.9/site-packages)\u001b[0m\r\n"
     ]
    },
    {
     "name": "stdout",
     "output_type": "stream",
     "text": [
      "\u001b[33mWARNING: Ignoring invalid distribution -umpy (/opt/anaconda3/lib/python3.9/site-packages)\u001b[0m\r\n",
      "\u001b[33mWARNING: Ignoring invalid distribution -umpy (/opt/anaconda3/lib/python3.9/site-packages)\u001b[0m\r\n",
      "\u001b[33mWARNING: Ignoring invalid distribution -umpy (/opt/anaconda3/lib/python3.9/site-packages)\u001b[0m\r\n"
     ]
    }
   ],
   "source": [
    "get_ipython().system('pip install neuralprophet')"
   ]
  },
  {
   "cell_type": "code",
   "execution_count": 13,
   "id": "70c70c2c",
   "metadata": {
    "execution": {
     "iopub.execute_input": "2023-05-10T00:45:28.954391Z",
     "iopub.status.busy": "2023-05-10T00:45:28.954152Z",
     "iopub.status.idle": "2023-05-10T00:45:28.966540Z",
     "shell.execute_reply": "2023-05-10T00:45:28.966033Z"
    }
   },
   "outputs": [],
   "source": [
    "BIGQUERY_PROJECT = 'ironhacks-data'\n",
    "bigquery_client = bigquery.Client(project=BIGQUERY_PROJECT)"
   ]
  },
  {
   "cell_type": "code",
   "execution_count": 14,
   "id": "a412fcc5",
   "metadata": {
    "execution": {
     "iopub.execute_input": "2023-05-10T00:45:28.969067Z",
     "iopub.status.busy": "2023-05-10T00:45:28.968798Z",
     "iopub.status.idle": "2023-05-10T00:45:28.971616Z",
     "shell.execute_reply": "2023-05-10T00:45:28.971254Z"
    }
   },
   "outputs": [],
   "source": [
    "# Let's look at the unemployment_data table\n",
    "query = \"\"\"\n",
    "SELECT *\n",
    "FROM `ironhacks-data.ironhacks_competition.unemployment_data`\n",
    "\"\"\""
   ]
  },
  {
   "cell_type": "code",
   "execution_count": 15,
   "id": "e4a16c7a",
   "metadata": {
    "execution": {
     "iopub.execute_input": "2023-05-10T00:45:28.973549Z",
     "iopub.status.busy": "2023-05-10T00:45:28.973390Z",
     "iopub.status.idle": "2023-05-10T00:45:31.086583Z",
     "shell.execute_reply": "2023-05-10T00:45:31.086106Z"
    }
   },
   "outputs": [
    {
     "data": {
      "text/html": [
       "<div>\n",
       "<style scoped>\n",
       "    .dataframe tbody tr th:only-of-type {\n",
       "        vertical-align: middle;\n",
       "    }\n",
       "\n",
       "    .dataframe tbody tr th {\n",
       "        vertical-align: top;\n",
       "    }\n",
       "\n",
       "    .dataframe thead th {\n",
       "        text-align: right;\n",
       "    }\n",
       "</style>\n",
       "<table border=\"1\" class=\"dataframe\">\n",
       "  <thead>\n",
       "    <tr style=\"text-align: right;\">\n",
       "      <th></th>\n",
       "      <th>uu_id</th>\n",
       "      <th>timeperiod</th>\n",
       "      <th>week_number</th>\n",
       "      <th>countyfips</th>\n",
       "      <th>tract</th>\n",
       "      <th>tract_name</th>\n",
       "      <th>total_claims</th>\n",
       "      <th>edu_8th_or_less</th>\n",
       "      <th>edu_grades_9_11</th>\n",
       "      <th>edu_hs_grad_equiv</th>\n",
       "      <th>...</th>\n",
       "      <th>gender_female</th>\n",
       "      <th>gender_male</th>\n",
       "      <th>gender_na</th>\n",
       "      <th>race_amerindian</th>\n",
       "      <th>race_asian</th>\n",
       "      <th>race_black</th>\n",
       "      <th>race_noanswer</th>\n",
       "      <th>race_hawaiiannative</th>\n",
       "      <th>race_other</th>\n",
       "      <th>race_white</th>\n",
       "    </tr>\n",
       "  </thead>\n",
       "  <tbody>\n",
       "    <tr>\n",
       "      <th>0</th>\n",
       "      <td>f013068de98db1470bd986137a0c6d23</td>\n",
       "      <td>20220416</td>\n",
       "      <td>16</td>\n",
       "      <td>18003</td>\n",
       "      <td>900</td>\n",
       "      <td>Census Tract 9, Allen County, Indiana</td>\n",
       "      <td>22</td>\n",
       "      <td>0</td>\n",
       "      <td>&lt;NA&gt;</td>\n",
       "      <td>14</td>\n",
       "      <td>...</td>\n",
       "      <td>&lt;NA&gt;</td>\n",
       "      <td>&lt;NA&gt;</td>\n",
       "      <td>0</td>\n",
       "      <td>0</td>\n",
       "      <td>0</td>\n",
       "      <td>11</td>\n",
       "      <td>0</td>\n",
       "      <td>0</td>\n",
       "      <td>&lt;NA&gt;</td>\n",
       "      <td>&lt;NA&gt;</td>\n",
       "    </tr>\n",
       "    <tr>\n",
       "      <th>1</th>\n",
       "      <td>21957d5517323845818d87623589e1ba</td>\n",
       "      <td>20220319</td>\n",
       "      <td>12</td>\n",
       "      <td>18089</td>\n",
       "      <td>10400</td>\n",
       "      <td>Census Tract 104, Lake County, Indiana</td>\n",
       "      <td>111</td>\n",
       "      <td>0</td>\n",
       "      <td>&lt;NA&gt;</td>\n",
       "      <td>108</td>\n",
       "      <td>...</td>\n",
       "      <td>76</td>\n",
       "      <td>35</td>\n",
       "      <td>0</td>\n",
       "      <td>0</td>\n",
       "      <td>0</td>\n",
       "      <td>&lt;NA&gt;</td>\n",
       "      <td>&lt;NA&gt;</td>\n",
       "      <td>0</td>\n",
       "      <td>0</td>\n",
       "      <td>0</td>\n",
       "    </tr>\n",
       "    <tr>\n",
       "      <th>2</th>\n",
       "      <td>6a5609f385912113b6f1014b958ed748</td>\n",
       "      <td>20220326</td>\n",
       "      <td>13</td>\n",
       "      <td>18089</td>\n",
       "      <td>11500</td>\n",
       "      <td>Census Tract 115, Lake County, Indiana</td>\n",
       "      <td>39</td>\n",
       "      <td>0</td>\n",
       "      <td>&lt;NA&gt;</td>\n",
       "      <td>&lt;NA&gt;</td>\n",
       "      <td>...</td>\n",
       "      <td>&lt;NA&gt;</td>\n",
       "      <td>&lt;NA&gt;</td>\n",
       "      <td>0</td>\n",
       "      <td>0</td>\n",
       "      <td>0</td>\n",
       "      <td>39</td>\n",
       "      <td>0</td>\n",
       "      <td>0</td>\n",
       "      <td>0</td>\n",
       "      <td>0</td>\n",
       "    </tr>\n",
       "  </tbody>\n",
       "</table>\n",
       "<p>3 rows × 25 columns</p>\n",
       "</div>"
      ],
      "text/plain": [
       "                              uu_id  timeperiod  week_number  countyfips  \\\n",
       "0  f013068de98db1470bd986137a0c6d23    20220416           16       18003   \n",
       "1  21957d5517323845818d87623589e1ba    20220319           12       18089   \n",
       "2  6a5609f385912113b6f1014b958ed748    20220326           13       18089   \n",
       "\n",
       "   tract                              tract_name  total_claims  \\\n",
       "0    900   Census Tract 9, Allen County, Indiana            22   \n",
       "1  10400  Census Tract 104, Lake County, Indiana           111   \n",
       "2  11500  Census Tract 115, Lake County, Indiana            39   \n",
       "\n",
       "   edu_8th_or_less  edu_grades_9_11  edu_hs_grad_equiv  ...  gender_female  \\\n",
       "0                0             <NA>                 14  ...           <NA>   \n",
       "1                0             <NA>                108  ...             76   \n",
       "2                0             <NA>               <NA>  ...           <NA>   \n",
       "\n",
       "   gender_male gender_na race_amerindian race_asian  race_black  \\\n",
       "0         <NA>         0               0          0          11   \n",
       "1           35         0               0          0        <NA>   \n",
       "2         <NA>         0               0          0          39   \n",
       "\n",
       "   race_noanswer  race_hawaiiannative  race_other  race_white  \n",
       "0              0                    0        <NA>        <NA>  \n",
       "1           <NA>                    0           0           0  \n",
       "2              0                    0           0           0  \n",
       "\n",
       "[3 rows x 25 columns]"
      ]
     },
     "execution_count": 15,
     "metadata": {},
     "output_type": "execute_result"
    }
   ],
   "source": [
    "query_job = bigquery_client.query(query)\n",
    "unemployment_data = query_job.to_dataframe()\n",
    "unemployment_data.head(3)"
   ]
  },
  {
   "cell_type": "code",
   "execution_count": 16,
   "id": "b86c2b78",
   "metadata": {
    "execution": {
     "iopub.execute_input": "2023-05-10T00:45:31.088925Z",
     "iopub.status.busy": "2023-05-10T00:45:31.088734Z",
     "iopub.status.idle": "2023-05-10T00:45:31.091818Z",
     "shell.execute_reply": "2023-05-10T00:45:31.091423Z"
    }
   },
   "outputs": [
    {
     "data": {
      "text/plain": [
       "16833"
      ]
     },
     "execution_count": 16,
     "metadata": {},
     "output_type": "execute_result"
    }
   ],
   "source": [
    "#Number of rows in unemployment_data\n",
    "len(unemployment_data.index)"
   ]
  },
  {
   "cell_type": "code",
   "execution_count": 17,
   "id": "7dbddd43",
   "metadata": {
    "execution": {
     "iopub.execute_input": "2023-05-10T00:45:31.093867Z",
     "iopub.status.busy": "2023-05-10T00:45:31.093746Z",
     "iopub.status.idle": "2023-05-10T00:45:31.096022Z",
     "shell.execute_reply": "2023-05-10T00:45:31.095662Z"
    }
   },
   "outputs": [],
   "source": [
    "# Let's look at the wage_data table\n",
    "query = \"\"\"\n",
    "SELECT *\n",
    "FROM `ironhacks-data.ironhacks_competition.wage_data`\n",
    "\"\"\""
   ]
  },
  {
   "cell_type": "code",
   "execution_count": 18,
   "id": "ddd56eed",
   "metadata": {
    "execution": {
     "iopub.execute_input": "2023-05-10T00:45:31.097928Z",
     "iopub.status.busy": "2023-05-10T00:45:31.097803Z",
     "iopub.status.idle": "2023-05-10T00:45:32.917153Z",
     "shell.execute_reply": "2023-05-10T00:45:32.916470Z"
    }
   },
   "outputs": [
    {
     "data": {
      "text/html": [
       "<div>\n",
       "<style scoped>\n",
       "    .dataframe tbody tr th:only-of-type {\n",
       "        vertical-align: middle;\n",
       "    }\n",
       "\n",
       "    .dataframe tbody tr th {\n",
       "        vertical-align: top;\n",
       "    }\n",
       "\n",
       "    .dataframe thead th {\n",
       "        text-align: right;\n",
       "    }\n",
       "</style>\n",
       "<table border=\"1\" class=\"dataframe\">\n",
       "  <thead>\n",
       "    <tr style=\"text-align: right;\">\n",
       "      <th></th>\n",
       "      <th>uu_id</th>\n",
       "      <th>countyfips</th>\n",
       "      <th>tract</th>\n",
       "      <th>tract_name</th>\n",
       "      <th>average_wage</th>\n",
       "    </tr>\n",
       "  </thead>\n",
       "  <tbody>\n",
       "    <tr>\n",
       "      <th>0</th>\n",
       "      <td>585f8731c2255d6b3f817a31180848b9</td>\n",
       "      <td>18177</td>\n",
       "      <td>200</td>\n",
       "      <td>Census Tract 2, Wayne County, Indiana</td>\n",
       "      <td>6612.00</td>\n",
       "    </tr>\n",
       "    <tr>\n",
       "      <th>1</th>\n",
       "      <td>8c9d2aa90948679972a9382aadcc6001</td>\n",
       "      <td>18177</td>\n",
       "      <td>900</td>\n",
       "      <td>Census Tract 9, Wayne County, Indiana</td>\n",
       "      <td>9883.25</td>\n",
       "    </tr>\n",
       "    <tr>\n",
       "      <th>2</th>\n",
       "      <td>0f3d45341a5b113b813ffb7be7f58bab</td>\n",
       "      <td>18183</td>\n",
       "      <td>50300</td>\n",
       "      <td>Census Tract 503, Whitley County, Indiana</td>\n",
       "      <td>13992.25</td>\n",
       "    </tr>\n",
       "  </tbody>\n",
       "</table>\n",
       "</div>"
      ],
      "text/plain": [
       "                              uu_id  countyfips  tract  \\\n",
       "0  585f8731c2255d6b3f817a31180848b9       18177    200   \n",
       "1  8c9d2aa90948679972a9382aadcc6001       18177    900   \n",
       "2  0f3d45341a5b113b813ffb7be7f58bab       18183  50300   \n",
       "\n",
       "                                  tract_name  average_wage  \n",
       "0      Census Tract 2, Wayne County, Indiana       6612.00  \n",
       "1      Census Tract 9, Wayne County, Indiana       9883.25  \n",
       "2  Census Tract 503, Whitley County, Indiana      13992.25  "
      ]
     },
     "execution_count": 18,
     "metadata": {},
     "output_type": "execute_result"
    }
   ],
   "source": [
    "query_job = bigquery_client.query(query)\n",
    "wage_data = query_job.to_dataframe()\n",
    "wage_data.head(3)"
   ]
  },
  {
   "cell_type": "code",
   "execution_count": 19,
   "id": "94ea533a",
   "metadata": {
    "execution": {
     "iopub.execute_input": "2023-05-10T00:45:32.920569Z",
     "iopub.status.busy": "2023-05-10T00:45:32.920296Z",
     "iopub.status.idle": "2023-05-10T00:45:32.924507Z",
     "shell.execute_reply": "2023-05-10T00:45:32.923994Z"
    }
   },
   "outputs": [
    {
     "data": {
      "text/plain": [
       "525"
      ]
     },
     "execution_count": 19,
     "metadata": {},
     "output_type": "execute_result"
    }
   ],
   "source": [
    "#Number of rows in wage_data\n",
    "len(wage_data.index)"
   ]
  },
  {
   "cell_type": "code",
   "execution_count": 20,
   "id": "312b2b48",
   "metadata": {
    "execution": {
     "iopub.execute_input": "2023-05-10T00:45:32.927161Z",
     "iopub.status.busy": "2023-05-10T00:45:32.926977Z",
     "iopub.status.idle": "2023-05-10T00:45:32.929799Z",
     "shell.execute_reply": "2023-05-10T00:45:32.929322Z"
    }
   },
   "outputs": [],
   "source": [
    "# Let's look at the prediction_list table\n",
    "query = \"\"\"\n",
    "SELECT *\n",
    "FROM `ironhacks-data.ironhacks_competition.prediction_list`\n",
    "\"\"\""
   ]
  },
  {
   "cell_type": "code",
   "execution_count": 21,
   "id": "34d70f7f",
   "metadata": {
    "execution": {
     "iopub.execute_input": "2023-05-10T00:45:32.932175Z",
     "iopub.status.busy": "2023-05-10T00:45:32.931980Z",
     "iopub.status.idle": "2023-05-10T00:45:34.747415Z",
     "shell.execute_reply": "2023-05-10T00:45:34.746775Z"
    }
   },
   "outputs": [
    {
     "data": {
      "text/html": [
       "<div>\n",
       "<style scoped>\n",
       "    .dataframe tbody tr th:only-of-type {\n",
       "        vertical-align: middle;\n",
       "    }\n",
       "\n",
       "    .dataframe tbody tr th {\n",
       "        vertical-align: top;\n",
       "    }\n",
       "\n",
       "    .dataframe thead th {\n",
       "        text-align: right;\n",
       "    }\n",
       "</style>\n",
       "<table border=\"1\" class=\"dataframe\">\n",
       "  <thead>\n",
       "    <tr style=\"text-align: right;\">\n",
       "      <th></th>\n",
       "      <th>uu_id</th>\n",
       "      <th>week_number</th>\n",
       "    </tr>\n",
       "  </thead>\n",
       "  <tbody>\n",
       "    <tr>\n",
       "      <th>0</th>\n",
       "      <td>5bf51fc2e162d6faf9e3cf79e4198378</td>\n",
       "      <td>44</td>\n",
       "    </tr>\n",
       "    <tr>\n",
       "      <th>1</th>\n",
       "      <td>420b44cc7e3f55d738df565421e59941</td>\n",
       "      <td>44</td>\n",
       "    </tr>\n",
       "    <tr>\n",
       "      <th>2</th>\n",
       "      <td>e39c66ecceec76ee8f9f811fa4a2d246</td>\n",
       "      <td>44</td>\n",
       "    </tr>\n",
       "  </tbody>\n",
       "</table>\n",
       "</div>"
      ],
      "text/plain": [
       "                              uu_id  week_number\n",
       "0  5bf51fc2e162d6faf9e3cf79e4198378           44\n",
       "1  420b44cc7e3f55d738df565421e59941           44\n",
       "2  e39c66ecceec76ee8f9f811fa4a2d246           44"
      ]
     },
     "execution_count": 21,
     "metadata": {},
     "output_type": "execute_result"
    }
   ],
   "source": [
    "query_job = bigquery_client.query(query)\n",
    "prediction_list = query_job.to_dataframe()\n",
    "prediction_list.head(3)"
   ]
  },
  {
   "cell_type": "code",
   "execution_count": 22,
   "id": "d40d50af",
   "metadata": {
    "execution": {
     "iopub.execute_input": "2023-05-10T00:45:34.751287Z",
     "iopub.status.busy": "2023-05-10T00:45:34.750766Z",
     "iopub.status.idle": "2023-05-10T00:45:34.755148Z",
     "shell.execute_reply": "2023-05-10T00:45:34.754614Z"
    }
   },
   "outputs": [
    {
     "data": {
      "text/plain": [
       "525"
      ]
     },
     "execution_count": 22,
     "metadata": {},
     "output_type": "execute_result"
    }
   ],
   "source": [
    "#Number of rows in wage_data\n",
    "len(prediction_list.index)"
   ]
  },
  {
   "cell_type": "code",
   "execution_count": 23,
   "id": "7bb5b1dc",
   "metadata": {
    "execution": {
     "iopub.execute_input": "2023-05-10T00:45:34.757915Z",
     "iopub.status.busy": "2023-05-10T00:45:34.757721Z",
     "iopub.status.idle": "2023-05-10T00:45:34.763065Z",
     "shell.execute_reply": "2023-05-10T00:45:34.762569Z"
    }
   },
   "outputs": [],
   "source": [
    "#LIBRARIES\n",
    "import os\n",
    "import pandas as pd\n",
    "import numpy as np\n",
    "import seaborn as sns\n",
    "import matplotlib.pyplot as plt\n",
    "from pandas import Series, DataFrame\n",
    "import warnings \n",
    "warnings.filterwarnings('ignore')\n",
    "from scipy import stats  \n",
    "from google.cloud import bigquery\n",
    "from google.oauth2 import service_account\n",
    "from google.cloud.bigquery import magics\n",
    "from sklearn.impute import SimpleImputer\n",
    "from sklearn import linear_model\n",
    "from sklearn.model_selection import train_test_split \n",
    "from sklearn.linear_model import LinearRegression\n",
    "from sklearn import metrics"
   ]
  },
  {
   "cell_type": "code",
   "execution_count": 24,
   "id": "95cbf74d",
   "metadata": {
    "execution": {
     "iopub.execute_input": "2023-05-10T00:45:34.765876Z",
     "iopub.status.busy": "2023-05-10T00:45:34.765642Z",
     "iopub.status.idle": "2023-05-10T00:45:37.214089Z",
     "shell.execute_reply": "2023-05-10T00:45:37.213386Z"
    }
   },
   "outputs": [
    {
     "name": "stdout",
     "output_type": "stream",
     "text": [
      "\u001b[33mWARNING: Ignoring invalid distribution -umpy (/opt/anaconda3/lib/python3.9/site-packages)\u001b[0m\r\n"
     ]
    },
    {
     "name": "stdout",
     "output_type": "stream",
     "text": [
      "\u001b[33mWARNING: Ignoring invalid distribution -umpy (/opt/anaconda3/lib/python3.9/site-packages)\u001b[0m\r\n",
      "Requirement already satisfied: db-dtypes in /opt/anaconda3/lib/python3.9/site-packages (1.0.5)\r\n",
      "Requirement already satisfied: packaging>=17.0 in /opt/anaconda3/lib/python3.9/site-packages (from db-dtypes) (21.3)\r\n",
      "Requirement already satisfied: pyarrow>=3.0.0 in /opt/anaconda3/lib/python3.9/site-packages (from db-dtypes) (10.0.1)\r\n",
      "Requirement already satisfied: numpy<2.0dev,>=1.16.6 in /opt/anaconda3/lib/python3.9/site-packages (from db-dtypes) (1.22.4)\r\n",
      "Requirement already satisfied: pandas<2.0dev,>=0.24.2 in /opt/anaconda3/lib/python3.9/site-packages (from db-dtypes) (1.5.3)\r\n",
      "Requirement already satisfied: pyparsing!=3.0.5,>=2.0.2 in /opt/anaconda3/lib/python3.9/site-packages (from packaging>=17.0->db-dtypes) (3.0.4)\r\n",
      "Requirement already satisfied: pytz>=2020.1 in /opt/anaconda3/lib/python3.9/site-packages (from pandas<2.0dev,>=0.24.2->db-dtypes) (2021.3)\r\n",
      "Requirement already satisfied: python-dateutil>=2.8.1 in /opt/anaconda3/lib/python3.9/site-packages (from pandas<2.0dev,>=0.24.2->db-dtypes) (2.8.2)\r\n",
      "Requirement already satisfied: six>=1.5 in /opt/anaconda3/lib/python3.9/site-packages (from python-dateutil>=2.8.1->pandas<2.0dev,>=0.24.2->db-dtypes) (1.16.0)\r\n",
      "\u001b[33mWARNING: Ignoring invalid distribution -umpy (/opt/anaconda3/lib/python3.9/site-packages)\u001b[0m\r\n"
     ]
    },
    {
     "name": "stdout",
     "output_type": "stream",
     "text": [
      "\u001b[33mWARNING: Ignoring invalid distribution -umpy (/opt/anaconda3/lib/python3.9/site-packages)\u001b[0m\r\n",
      "\u001b[33mWARNING: Ignoring invalid distribution -umpy (/opt/anaconda3/lib/python3.9/site-packages)\u001b[0m\r\n",
      "\u001b[33mWARNING: Ignoring invalid distribution -umpy (/opt/anaconda3/lib/python3.9/site-packages)\u001b[0m\r\n"
     ]
    }
   ],
   "source": [
    "get_ipython().system('pip install db-dtypes')"
   ]
  },
  {
   "cell_type": "code",
   "execution_count": 25,
   "id": "9e976620",
   "metadata": {
    "execution": {
     "iopub.execute_input": "2023-05-10T00:45:37.217185Z",
     "iopub.status.busy": "2023-05-10T00:45:37.216954Z",
     "iopub.status.idle": "2023-05-10T00:45:39.954777Z",
     "shell.execute_reply": "2023-05-10T00:45:39.954073Z"
    }
   },
   "outputs": [
    {
     "name": "stdout",
     "output_type": "stream",
     "text": [
      "\u001b[33mWARNING: Ignoring invalid distribution -umpy (/opt/anaconda3/lib/python3.9/site-packages)\u001b[0m\r\n",
      "\u001b[33mWARNING: Ignoring invalid distribution -umpy (/opt/anaconda3/lib/python3.9/site-packages)\u001b[0m\r\n"
     ]
    },
    {
     "name": "stdout",
     "output_type": "stream",
     "text": [
      "Requirement already satisfied: neuralprophet in /opt/anaconda3/lib/python3.9/site-packages (0.6.0rc1)\r\n",
      "Requirement already satisfied: plotly-resampler<0.9.0.0,>=0.8.3.1 in /opt/anaconda3/lib/python3.9/site-packages (from neuralprophet) (0.8.3.1)\r\n",
      "Requirement already satisfied: typing-extensions<5.0.0,>=4.5.0 in /opt/anaconda3/lib/python3.9/site-packages (from neuralprophet) (4.5.0)\r\n",
      "Requirement already satisfied: matplotlib<4.0.0,>=3.5.3 in /opt/anaconda3/lib/python3.9/site-packages (from neuralprophet) (3.7.1)\r\n",
      "Requirement already satisfied: plotly<6.0.0,>=5.13.1 in /opt/anaconda3/lib/python3.9/site-packages (from neuralprophet) (5.14.1)\r\n",
      "Requirement already satisfied: torch<2.0.0,>=1.13.1 in /opt/anaconda3/lib/python3.9/site-packages (from neuralprophet) (1.13.1)\r\n",
      "Requirement already satisfied: captum<0.7.0,>=0.6.0 in /opt/anaconda3/lib/python3.9/site-packages (from neuralprophet) (0.6.0)\r\n",
      "Requirement already satisfied: numpy<1.24.0,>=1.21.6 in /opt/anaconda3/lib/python3.9/site-packages (from neuralprophet) (1.22.4)\r\n",
      "Requirement already satisfied: holidays<0.22,>=0.21 in /opt/anaconda3/lib/python3.9/site-packages (from neuralprophet) (0.21.13)\r\n",
      "Requirement already satisfied: tensorboard<3.0.0,>=2.11.2 in /opt/anaconda3/lib/python3.9/site-packages (from neuralprophet) (2.12.0)\r\n",
      "Requirement already satisfied: torchmetrics<0.12.0,>=0.11.3 in /opt/anaconda3/lib/python3.9/site-packages (from neuralprophet) (0.11.4)\r\n",
      "Requirement already satisfied: pandas<2.0.0,>=1.3.5 in /opt/anaconda3/lib/python3.9/site-packages (from neuralprophet) (1.5.3)\r\n",
      "Requirement already satisfied: pytorch-lightning<2.0.0,>=1.9.4 in /opt/anaconda3/lib/python3.9/site-packages (from neuralprophet) (1.9.5)\r\n",
      "Requirement already satisfied: korean-lunar-calendar in /opt/anaconda3/lib/python3.9/site-packages (from holidays<0.22,>=0.21->neuralprophet) (0.3.1)\r\n",
      "Requirement already satisfied: PyMeeus in /opt/anaconda3/lib/python3.9/site-packages (from holidays<0.22,>=0.21->neuralprophet) (0.5.12)\r\n",
      "Requirement already satisfied: python-dateutil in /opt/anaconda3/lib/python3.9/site-packages (from holidays<0.22,>=0.21->neuralprophet) (2.8.2)\r\n",
      "Requirement already satisfied: hijri-converter in /opt/anaconda3/lib/python3.9/site-packages (from holidays<0.22,>=0.21->neuralprophet) (2.2.4)\r\n",
      "Requirement already satisfied: convertdate>=2.3.0 in /opt/anaconda3/lib/python3.9/site-packages (from holidays<0.22,>=0.21->neuralprophet) (2.4.0)\r\n",
      "Requirement already satisfied: contourpy>=1.0.1 in /opt/anaconda3/lib/python3.9/site-packages (from matplotlib<4.0.0,>=3.5.3->neuralprophet) (1.0.7)\r\n"
     ]
    },
    {
     "name": "stdout",
     "output_type": "stream",
     "text": [
      "Requirement already satisfied: pyparsing>=2.3.1 in /opt/anaconda3/lib/python3.9/site-packages (from matplotlib<4.0.0,>=3.5.3->neuralprophet) (3.0.4)\r\n",
      "Requirement already satisfied: packaging>=20.0 in /opt/anaconda3/lib/python3.9/site-packages (from matplotlib<4.0.0,>=3.5.3->neuralprophet) (21.3)\r\n",
      "Requirement already satisfied: cycler>=0.10 in /opt/anaconda3/lib/python3.9/site-packages (from matplotlib<4.0.0,>=3.5.3->neuralprophet) (0.10.0)\r\n",
      "Requirement already satisfied: fonttools>=4.22.0 in /opt/anaconda3/lib/python3.9/site-packages (from matplotlib<4.0.0,>=3.5.3->neuralprophet) (4.25.0)\r\n",
      "Requirement already satisfied: pillow>=6.2.0 in /opt/anaconda3/lib/python3.9/site-packages (from matplotlib<4.0.0,>=3.5.3->neuralprophet) (8.4.0)\r\n",
      "Requirement already satisfied: importlib-resources>=3.2.0 in /opt/anaconda3/lib/python3.9/site-packages (from matplotlib<4.0.0,>=3.5.3->neuralprophet) (5.12.0)\r\n",
      "Requirement already satisfied: kiwisolver>=1.0.1 in /opt/anaconda3/lib/python3.9/site-packages (from matplotlib<4.0.0,>=3.5.3->neuralprophet) (1.3.1)\r\n",
      "Requirement already satisfied: six in /opt/anaconda3/lib/python3.9/site-packages (from cycler>=0.10->matplotlib<4.0.0,>=3.5.3->neuralprophet) (1.16.0)\r\n",
      "Requirement already satisfied: zipp>=3.1.0 in /opt/anaconda3/lib/python3.9/site-packages (from importlib-resources>=3.2.0->matplotlib<4.0.0,>=3.5.3->neuralprophet) (3.6.0)\r\n",
      "Requirement already satisfied: pytz>=2020.1 in /opt/anaconda3/lib/python3.9/site-packages (from pandas<2.0.0,>=1.3.5->neuralprophet) (2021.3)\r\n",
      "Requirement already satisfied: tenacity>=6.2.0 in /opt/anaconda3/lib/python3.9/site-packages (from plotly<6.0.0,>=5.13.1->neuralprophet) (8.1.0)\r\n",
      "Requirement already satisfied: Flask-Cors<4.0.0,>=3.0.10 in /opt/anaconda3/lib/python3.9/site-packages (from plotly-resampler<0.9.0.0,>=0.8.3.1->neuralprophet) (3.0.10)\r\n",
      "Requirement already satisfied: trace-updater>=0.0.8 in /opt/anaconda3/lib/python3.9/site-packages (from plotly-resampler<0.9.0.0,>=0.8.3.1->neuralprophet) (0.0.9)\r\n",
      "Requirement already satisfied: jupyter-dash>=0.4.2 in /opt/anaconda3/lib/python3.9/site-packages (from plotly-resampler<0.9.0.0,>=0.8.3.1->neuralprophet) (0.4.2)\r\n",
      "Requirement already satisfied: orjson<4.0.0,>=3.8.0 in /opt/anaconda3/lib/python3.9/site-packages (from plotly-resampler<0.9.0.0,>=0.8.3.1->neuralprophet) (3.8.6)\r\n",
      "Requirement already satisfied: Werkzeug<=2.1.2 in /opt/anaconda3/lib/python3.9/site-packages (from plotly-resampler<0.9.0.0,>=0.8.3.1->neuralprophet) (2.0.2)\r\n",
      "Requirement already satisfied: dash<3.0.0,>=2.2.0 in /opt/anaconda3/lib/python3.9/site-packages (from plotly-resampler<0.9.0.0,>=0.8.3.1->neuralprophet) (2.8.1)\r\n"
     ]
    },
    {
     "name": "stdout",
     "output_type": "stream",
     "text": [
      "Requirement already satisfied: Flask>=1.0.4 in /opt/anaconda3/lib/python3.9/site-packages (from dash<3.0.0,>=2.2.0->plotly-resampler<0.9.0.0,>=0.8.3.1->neuralprophet) (1.1.2)\r\n",
      "Requirement already satisfied: dash-table==5.0.0 in /opt/anaconda3/lib/python3.9/site-packages (from dash<3.0.0,>=2.2.0->plotly-resampler<0.9.0.0,>=0.8.3.1->neuralprophet) (5.0.0)\r\n",
      "Requirement already satisfied: dash-core-components==2.0.0 in /opt/anaconda3/lib/python3.9/site-packages (from dash<3.0.0,>=2.2.0->plotly-resampler<0.9.0.0,>=0.8.3.1->neuralprophet) (2.0.0)\r\n",
      "Requirement already satisfied: dash-html-components==2.0.0 in /opt/anaconda3/lib/python3.9/site-packages (from dash<3.0.0,>=2.2.0->plotly-resampler<0.9.0.0,>=0.8.3.1->neuralprophet) (2.0.0)\r\n",
      "Requirement already satisfied: itsdangerous>=0.24 in /opt/anaconda3/lib/python3.9/site-packages (from Flask>=1.0.4->dash<3.0.0,>=2.2.0->plotly-resampler<0.9.0.0,>=0.8.3.1->neuralprophet) (2.0.1)\r\n",
      "Requirement already satisfied: click>=5.1 in /opt/anaconda3/lib/python3.9/site-packages (from Flask>=1.0.4->dash<3.0.0,>=2.2.0->plotly-resampler<0.9.0.0,>=0.8.3.1->neuralprophet) (8.0.3)\r\n",
      "Requirement already satisfied: Jinja2>=2.10.1 in /opt/anaconda3/lib/python3.9/site-packages (from Flask>=1.0.4->dash<3.0.0,>=2.2.0->plotly-resampler<0.9.0.0,>=0.8.3.1->neuralprophet) (2.11.3)\r\n"
     ]
    },
    {
     "name": "stdout",
     "output_type": "stream",
     "text": [
      "Requirement already satisfied: MarkupSafe>=0.23 in /opt/anaconda3/lib/python3.9/site-packages (from Jinja2>=2.10.1->Flask>=1.0.4->dash<3.0.0,>=2.2.0->plotly-resampler<0.9.0.0,>=0.8.3.1->neuralprophet) (1.1.1)\r\n",
      "Requirement already satisfied: ipython in /opt/anaconda3/lib/python3.9/site-packages (from jupyter-dash>=0.4.2->plotly-resampler<0.9.0.0,>=0.8.3.1->neuralprophet) (7.29.0)\r\n",
      "Requirement already satisfied: retrying in /opt/anaconda3/lib/python3.9/site-packages (from jupyter-dash>=0.4.2->plotly-resampler<0.9.0.0,>=0.8.3.1->neuralprophet) (1.3.4)\r\n",
      "Requirement already satisfied: ansi2html in /opt/anaconda3/lib/python3.9/site-packages (from jupyter-dash>=0.4.2->plotly-resampler<0.9.0.0,>=0.8.3.1->neuralprophet) (1.8.0)\r\n",
      "Requirement already satisfied: nest-asyncio in /opt/anaconda3/lib/python3.9/site-packages (from jupyter-dash>=0.4.2->plotly-resampler<0.9.0.0,>=0.8.3.1->neuralprophet) (1.5.1)\r\n",
      "Requirement already satisfied: ipykernel in /opt/anaconda3/lib/python3.9/site-packages (from jupyter-dash>=0.4.2->plotly-resampler<0.9.0.0,>=0.8.3.1->neuralprophet) (6.4.1)\r\n",
      "Requirement already satisfied: requests in /opt/anaconda3/lib/python3.9/site-packages (from jupyter-dash>=0.4.2->plotly-resampler<0.9.0.0,>=0.8.3.1->neuralprophet) (2.26.0)\r\n"
     ]
    },
    {
     "name": "stdout",
     "output_type": "stream",
     "text": [
      "Requirement already satisfied: tqdm>=4.57.0 in /opt/anaconda3/lib/python3.9/site-packages (from pytorch-lightning<2.0.0,>=1.9.4->neuralprophet) (4.62.3)\r\n",
      "Requirement already satisfied: lightning-utilities>=0.6.0.post0 in /opt/anaconda3/lib/python3.9/site-packages (from pytorch-lightning<2.0.0,>=1.9.4->neuralprophet) (0.8.0)\r\n",
      "Requirement already satisfied: PyYAML>=5.4 in /opt/anaconda3/lib/python3.9/site-packages (from pytorch-lightning<2.0.0,>=1.9.4->neuralprophet) (6.0)\r\n",
      "Requirement already satisfied: fsspec[http]>2021.06.0 in /opt/anaconda3/lib/python3.9/site-packages (from pytorch-lightning<2.0.0,>=1.9.4->neuralprophet) (2021.8.1)\r\n",
      "Requirement already satisfied: aiohttp in /opt/anaconda3/lib/python3.9/site-packages (from fsspec[http]>2021.06.0->pytorch-lightning<2.0.0,>=1.9.4->neuralprophet) (3.8.4)\r\n"
     ]
    },
    {
     "name": "stdout",
     "output_type": "stream",
     "text": [
      "Requirement already satisfied: grpcio>=1.48.2 in /opt/anaconda3/lib/python3.9/site-packages (from tensorboard<3.0.0,>=2.11.2->neuralprophet) (1.54.0)\r\n",
      "Requirement already satisfied: absl-py>=0.4 in /opt/anaconda3/lib/python3.9/site-packages (from tensorboard<3.0.0,>=2.11.2->neuralprophet) (1.4.0)\r\n",
      "Requirement already satisfied: google-auth-oauthlib<0.5,>=0.4.1 in /opt/anaconda3/lib/python3.9/site-packages (from tensorboard<3.0.0,>=2.11.2->neuralprophet) (0.4.6)\r\n",
      "Requirement already satisfied: protobuf>=3.19.6 in /opt/anaconda3/lib/python3.9/site-packages (from tensorboard<3.0.0,>=2.11.2->neuralprophet) (4.21.12)\r\n",
      "Requirement already satisfied: setuptools>=41.0.0 in /opt/anaconda3/lib/python3.9/site-packages (from tensorboard<3.0.0,>=2.11.2->neuralprophet) (58.0.4)\r\n",
      "Requirement already satisfied: wheel>=0.26 in /opt/anaconda3/lib/python3.9/site-packages (from tensorboard<3.0.0,>=2.11.2->neuralprophet) (0.37.0)\r\n",
      "Requirement already satisfied: markdown>=2.6.8 in /opt/anaconda3/lib/python3.9/site-packages (from tensorboard<3.0.0,>=2.11.2->neuralprophet) (3.4.1)\r\n",
      "Requirement already satisfied: tensorboard-data-server<0.8.0,>=0.7.0 in /opt/anaconda3/lib/python3.9/site-packages (from tensorboard<3.0.0,>=2.11.2->neuralprophet) (0.7.0)\r\n",
      "Requirement already satisfied: google-auth<3,>=1.6.3 in /opt/anaconda3/lib/python3.9/site-packages (from tensorboard<3.0.0,>=2.11.2->neuralprophet) (2.16.0)\r\n",
      "Requirement already satisfied: tensorboard-plugin-wit>=1.6.0 in /opt/anaconda3/lib/python3.9/site-packages (from tensorboard<3.0.0,>=2.11.2->neuralprophet) (1.8.1)\r\n",
      "Requirement already satisfied: rsa<5,>=3.1.4 in /opt/anaconda3/lib/python3.9/site-packages (from google-auth<3,>=1.6.3->tensorboard<3.0.0,>=2.11.2->neuralprophet) (4.9)\r\n",
      "Requirement already satisfied: pyasn1-modules>=0.2.1 in /opt/anaconda3/lib/python3.9/site-packages (from google-auth<3,>=1.6.3->tensorboard<3.0.0,>=2.11.2->neuralprophet) (0.2.8)\r\n",
      "Requirement already satisfied: cachetools<6.0,>=2.0.0 in /opt/anaconda3/lib/python3.9/site-packages (from google-auth<3,>=1.6.3->tensorboard<3.0.0,>=2.11.2->neuralprophet) (5.2.1)\r\n",
      "Requirement already satisfied: requests-oauthlib>=0.7.0 in /opt/anaconda3/lib/python3.9/site-packages (from google-auth-oauthlib<0.5,>=0.4.1->tensorboard<3.0.0,>=2.11.2->neuralprophet) (1.3.1)\r\n",
      "Requirement already satisfied: importlib-metadata>=4.4 in /opt/anaconda3/lib/python3.9/site-packages (from markdown>=2.6.8->tensorboard<3.0.0,>=2.11.2->neuralprophet) (4.8.1)\r\n"
     ]
    },
    {
     "name": "stdout",
     "output_type": "stream",
     "text": [
      "Requirement already satisfied: pyasn1<0.5.0,>=0.4.6 in /opt/anaconda3/lib/python3.9/site-packages (from pyasn1-modules>=0.2.1->google-auth<3,>=1.6.3->tensorboard<3.0.0,>=2.11.2->neuralprophet) (0.4.8)\r\n",
      "Requirement already satisfied: urllib3<1.27,>=1.21.1 in /opt/anaconda3/lib/python3.9/site-packages (from requests->jupyter-dash>=0.4.2->plotly-resampler<0.9.0.0,>=0.8.3.1->neuralprophet) (1.26.7)\r\n",
      "Requirement already satisfied: certifi>=2017.4.17 in /opt/anaconda3/lib/python3.9/site-packages (from requests->jupyter-dash>=0.4.2->plotly-resampler<0.9.0.0,>=0.8.3.1->neuralprophet) (2021.10.8)\r\n",
      "Requirement already satisfied: idna<4,>=2.5 in /opt/anaconda3/lib/python3.9/site-packages (from requests->jupyter-dash>=0.4.2->plotly-resampler<0.9.0.0,>=0.8.3.1->neuralprophet) (3.2)\r\n",
      "Requirement already satisfied: charset-normalizer~=2.0.0 in /opt/anaconda3/lib/python3.9/site-packages (from requests->jupyter-dash>=0.4.2->plotly-resampler<0.9.0.0,>=0.8.3.1->neuralprophet) (2.0.4)\r\n",
      "Requirement already satisfied: oauthlib>=3.0.0 in /opt/anaconda3/lib/python3.9/site-packages (from requests-oauthlib>=0.7.0->google-auth-oauthlib<0.5,>=0.4.1->tensorboard<3.0.0,>=2.11.2->neuralprophet) (3.2.2)\r\n"
     ]
    },
    {
     "name": "stdout",
     "output_type": "stream",
     "text": [
      "Requirement already satisfied: attrs>=17.3.0 in /opt/anaconda3/lib/python3.9/site-packages (from aiohttp->fsspec[http]>2021.06.0->pytorch-lightning<2.0.0,>=1.9.4->neuralprophet) (21.2.0)\r\n",
      "Requirement already satisfied: frozenlist>=1.1.1 in /opt/anaconda3/lib/python3.9/site-packages (from aiohttp->fsspec[http]>2021.06.0->pytorch-lightning<2.0.0,>=1.9.4->neuralprophet) (1.3.3)\r\n",
      "Requirement already satisfied: multidict<7.0,>=4.5 in /opt/anaconda3/lib/python3.9/site-packages (from aiohttp->fsspec[http]>2021.06.0->pytorch-lightning<2.0.0,>=1.9.4->neuralprophet) (6.0.4)\r\n",
      "Requirement already satisfied: yarl<2.0,>=1.0 in /opt/anaconda3/lib/python3.9/site-packages (from aiohttp->fsspec[http]>2021.06.0->pytorch-lightning<2.0.0,>=1.9.4->neuralprophet) (1.8.2)\r\n",
      "Requirement already satisfied: async-timeout<5.0,>=4.0.0a3 in /opt/anaconda3/lib/python3.9/site-packages (from aiohttp->fsspec[http]>2021.06.0->pytorch-lightning<2.0.0,>=1.9.4->neuralprophet) (4.0.2)\r\n",
      "Requirement already satisfied: aiosignal>=1.1.2 in /opt/anaconda3/lib/python3.9/site-packages (from aiohttp->fsspec[http]>2021.06.0->pytorch-lightning<2.0.0,>=1.9.4->neuralprophet) (1.3.1)\r\n"
     ]
    },
    {
     "name": "stdout",
     "output_type": "stream",
     "text": [
      "Requirement already satisfied: ipython-genutils in /opt/anaconda3/lib/python3.9/site-packages (from ipykernel->jupyter-dash>=0.4.2->plotly-resampler<0.9.0.0,>=0.8.3.1->neuralprophet) (0.2.0)\r\n",
      "Requirement already satisfied: jupyter-client<8.0 in /opt/anaconda3/lib/python3.9/site-packages (from ipykernel->jupyter-dash>=0.4.2->plotly-resampler<0.9.0.0,>=0.8.3.1->neuralprophet) (6.1.12)\r\n",
      "Requirement already satisfied: tornado<7.0,>=4.2 in /opt/anaconda3/lib/python3.9/site-packages (from ipykernel->jupyter-dash>=0.4.2->plotly-resampler<0.9.0.0,>=0.8.3.1->neuralprophet) (6.1)\r\n",
      "Requirement already satisfied: matplotlib-inline<0.2.0,>=0.1.0 in /opt/anaconda3/lib/python3.9/site-packages (from ipykernel->jupyter-dash>=0.4.2->plotly-resampler<0.9.0.0,>=0.8.3.1->neuralprophet) (0.1.2)\r\n",
      "Requirement already satisfied: appnope in /opt/anaconda3/lib/python3.9/site-packages (from ipykernel->jupyter-dash>=0.4.2->plotly-resampler<0.9.0.0,>=0.8.3.1->neuralprophet) (0.1.2)\r\n",
      "Requirement already satisfied: debugpy<2.0,>=1.0.0 in /opt/anaconda3/lib/python3.9/site-packages (from ipykernel->jupyter-dash>=0.4.2->plotly-resampler<0.9.0.0,>=0.8.3.1->neuralprophet) (1.4.1)\r\n",
      "Requirement already satisfied: traitlets<6.0,>=4.1.0 in /opt/anaconda3/lib/python3.9/site-packages (from ipykernel->jupyter-dash>=0.4.2->plotly-resampler<0.9.0.0,>=0.8.3.1->neuralprophet) (5.1.0)\r\n",
      "Requirement already satisfied: decorator in /opt/anaconda3/lib/python3.9/site-packages (from ipython->jupyter-dash>=0.4.2->plotly-resampler<0.9.0.0,>=0.8.3.1->neuralprophet) (5.1.0)\r\n",
      "Requirement already satisfied: backcall in /opt/anaconda3/lib/python3.9/site-packages (from ipython->jupyter-dash>=0.4.2->plotly-resampler<0.9.0.0,>=0.8.3.1->neuralprophet) (0.2.0)\r\n",
      "Requirement already satisfied: prompt-toolkit!=3.0.0,!=3.0.1,<3.1.0,>=2.0.0 in /opt/anaconda3/lib/python3.9/site-packages (from ipython->jupyter-dash>=0.4.2->plotly-resampler<0.9.0.0,>=0.8.3.1->neuralprophet) (3.0.20)\r\n",
      "Requirement already satisfied: pygments in /opt/anaconda3/lib/python3.9/site-packages (from ipython->jupyter-dash>=0.4.2->plotly-resampler<0.9.0.0,>=0.8.3.1->neuralprophet) (2.10.0)\r\n",
      "Requirement already satisfied: pickleshare in /opt/anaconda3/lib/python3.9/site-packages (from ipython->jupyter-dash>=0.4.2->plotly-resampler<0.9.0.0,>=0.8.3.1->neuralprophet) (0.7.5)\r\n",
      "Requirement already satisfied: jedi>=0.16 in /opt/anaconda3/lib/python3.9/site-packages (from ipython->jupyter-dash>=0.4.2->plotly-resampler<0.9.0.0,>=0.8.3.1->neuralprophet) (0.18.0)\r\n",
      "Requirement already satisfied: pexpect>4.3 in /opt/anaconda3/lib/python3.9/site-packages (from ipython->jupyter-dash>=0.4.2->plotly-resampler<0.9.0.0,>=0.8.3.1->neuralprophet) (4.8.0)\r\n",
      "Requirement already satisfied: parso<0.9.0,>=0.8.0 in /opt/anaconda3/lib/python3.9/site-packages (from jedi>=0.16->ipython->jupyter-dash>=0.4.2->plotly-resampler<0.9.0.0,>=0.8.3.1->neuralprophet) (0.8.2)\r\n"
     ]
    },
    {
     "name": "stdout",
     "output_type": "stream",
     "text": [
      "Requirement already satisfied: jupyter-core>=4.6.0 in /opt/anaconda3/lib/python3.9/site-packages (from jupyter-client<8.0->ipykernel->jupyter-dash>=0.4.2->plotly-resampler<0.9.0.0,>=0.8.3.1->neuralprophet) (4.8.1)\r\n",
      "Requirement already satisfied: pyzmq>=13 in /opt/anaconda3/lib/python3.9/site-packages (from jupyter-client<8.0->ipykernel->jupyter-dash>=0.4.2->plotly-resampler<0.9.0.0,>=0.8.3.1->neuralprophet) (22.2.1)\r\n",
      "Requirement already satisfied: ptyprocess>=0.5 in /opt/anaconda3/lib/python3.9/site-packages (from pexpect>4.3->ipython->jupyter-dash>=0.4.2->plotly-resampler<0.9.0.0,>=0.8.3.1->neuralprophet) (0.7.0)\r\n",
      "Requirement already satisfied: wcwidth in /opt/anaconda3/lib/python3.9/site-packages (from prompt-toolkit!=3.0.0,!=3.0.1,<3.1.0,>=2.0.0->ipython->jupyter-dash>=0.4.2->plotly-resampler<0.9.0.0,>=0.8.3.1->neuralprophet) (0.2.5)\r\n"
     ]
    },
    {
     "name": "stdout",
     "output_type": "stream",
     "text": [
      "\u001b[33mWARNING: Ignoring invalid distribution -umpy (/opt/anaconda3/lib/python3.9/site-packages)\u001b[0m\r\n"
     ]
    },
    {
     "name": "stdout",
     "output_type": "stream",
     "text": [
      "\u001b[33mWARNING: Ignoring invalid distribution -umpy (/opt/anaconda3/lib/python3.9/site-packages)\u001b[0m\r\n",
      "\u001b[33mWARNING: Ignoring invalid distribution -umpy (/opt/anaconda3/lib/python3.9/site-packages)\u001b[0m\r\n",
      "\u001b[33mWARNING: Ignoring invalid distribution -umpy (/opt/anaconda3/lib/python3.9/site-packages)\u001b[0m\r\n"
     ]
    }
   ],
   "source": [
    "get_ipython().system('pip install neuralprophet')"
   ]
  },
  {
   "cell_type": "code",
   "execution_count": 26,
   "id": "b62a0a29",
   "metadata": {
    "execution": {
     "iopub.execute_input": "2023-05-10T00:45:39.957856Z",
     "iopub.status.busy": "2023-05-10T00:45:39.957614Z",
     "iopub.status.idle": "2023-05-10T00:45:39.960747Z",
     "shell.execute_reply": "2023-05-10T00:45:39.960297Z"
    }
   },
   "outputs": [],
   "source": [
    "from neuralprophet import NeuralProphet\n",
    "import pickle"
   ]
  },
  {
   "cell_type": "code",
   "execution_count": 27,
   "id": "7937448c",
   "metadata": {
    "execution": {
     "iopub.execute_input": "2023-05-10T00:45:39.963129Z",
     "iopub.status.busy": "2023-05-10T00:45:39.962982Z",
     "iopub.status.idle": "2023-05-10T00:45:42.711480Z",
     "shell.execute_reply": "2023-05-10T00:45:42.710787Z"
    }
   },
   "outputs": [
    {
     "name": "stdout",
     "output_type": "stream",
     "text": [
      "\u001b[33mWARNING: Ignoring invalid distribution -umpy (/opt/anaconda3/lib/python3.9/site-packages)\u001b[0m\r\n"
     ]
    },
    {
     "name": "stdout",
     "output_type": "stream",
     "text": [
      "\u001b[33mWARNING: Ignoring invalid distribution -umpy (/opt/anaconda3/lib/python3.9/site-packages)\u001b[0m\r\n",
      "Requirement already satisfied: neuralprophet in /opt/anaconda3/lib/python3.9/site-packages (0.6.0rc1)\r\n",
      "Requirement already satisfied: pandas<2.0.0,>=1.3.5 in /opt/anaconda3/lib/python3.9/site-packages (from neuralprophet) (1.5.3)\r\n",
      "Requirement already satisfied: numpy<1.24.0,>=1.21.6 in /opt/anaconda3/lib/python3.9/site-packages (from neuralprophet) (1.22.4)\r\n",
      "Requirement already satisfied: torch<2.0.0,>=1.13.1 in /opt/anaconda3/lib/python3.9/site-packages (from neuralprophet) (1.13.1)\r\n",
      "Requirement already satisfied: torchmetrics<0.12.0,>=0.11.3 in /opt/anaconda3/lib/python3.9/site-packages (from neuralprophet) (0.11.4)\r\n",
      "Requirement already satisfied: plotly<6.0.0,>=5.13.1 in /opt/anaconda3/lib/python3.9/site-packages (from neuralprophet) (5.14.1)\r\n",
      "Requirement already satisfied: captum<0.7.0,>=0.6.0 in /opt/anaconda3/lib/python3.9/site-packages (from neuralprophet) (0.6.0)\r\n",
      "Requirement already satisfied: pytorch-lightning<2.0.0,>=1.9.4 in /opt/anaconda3/lib/python3.9/site-packages (from neuralprophet) (1.9.5)\r\n",
      "Requirement already satisfied: matplotlib<4.0.0,>=3.5.3 in /opt/anaconda3/lib/python3.9/site-packages (from neuralprophet) (3.7.1)\r\n",
      "Requirement already satisfied: holidays<0.22,>=0.21 in /opt/anaconda3/lib/python3.9/site-packages (from neuralprophet) (0.21.13)\r\n",
      "Requirement already satisfied: typing-extensions<5.0.0,>=4.5.0 in /opt/anaconda3/lib/python3.9/site-packages (from neuralprophet) (4.5.0)\r\n",
      "Requirement already satisfied: plotly-resampler<0.9.0.0,>=0.8.3.1 in /opt/anaconda3/lib/python3.9/site-packages (from neuralprophet) (0.8.3.1)\r\n",
      "Requirement already satisfied: tensorboard<3.0.0,>=2.11.2 in /opt/anaconda3/lib/python3.9/site-packages (from neuralprophet) (2.12.0)\r\n",
      "Requirement already satisfied: hijri-converter in /opt/anaconda3/lib/python3.9/site-packages (from holidays<0.22,>=0.21->neuralprophet) (2.2.4)\r\n",
      "Requirement already satisfied: python-dateutil in /opt/anaconda3/lib/python3.9/site-packages (from holidays<0.22,>=0.21->neuralprophet) (2.8.2)\r\n",
      "Requirement already satisfied: convertdate>=2.3.0 in /opt/anaconda3/lib/python3.9/site-packages (from holidays<0.22,>=0.21->neuralprophet) (2.4.0)\r\n",
      "Requirement already satisfied: PyMeeus in /opt/anaconda3/lib/python3.9/site-packages (from holidays<0.22,>=0.21->neuralprophet) (0.5.12)\r\n",
      "Requirement already satisfied: korean-lunar-calendar in /opt/anaconda3/lib/python3.9/site-packages (from holidays<0.22,>=0.21->neuralprophet) (0.3.1)\r\n"
     ]
    },
    {
     "name": "stdout",
     "output_type": "stream",
     "text": [
      "Requirement already satisfied: kiwisolver>=1.0.1 in /opt/anaconda3/lib/python3.9/site-packages (from matplotlib<4.0.0,>=3.5.3->neuralprophet) (1.3.1)\r\n",
      "Requirement already satisfied: importlib-resources>=3.2.0 in /opt/anaconda3/lib/python3.9/site-packages (from matplotlib<4.0.0,>=3.5.3->neuralprophet) (5.12.0)\r\n",
      "Requirement already satisfied: fonttools>=4.22.0 in /opt/anaconda3/lib/python3.9/site-packages (from matplotlib<4.0.0,>=3.5.3->neuralprophet) (4.25.0)\r\n",
      "Requirement already satisfied: pillow>=6.2.0 in /opt/anaconda3/lib/python3.9/site-packages (from matplotlib<4.0.0,>=3.5.3->neuralprophet) (8.4.0)\r\n",
      "Requirement already satisfied: pyparsing>=2.3.1 in /opt/anaconda3/lib/python3.9/site-packages (from matplotlib<4.0.0,>=3.5.3->neuralprophet) (3.0.4)\r\n",
      "Requirement already satisfied: packaging>=20.0 in /opt/anaconda3/lib/python3.9/site-packages (from matplotlib<4.0.0,>=3.5.3->neuralprophet) (21.3)\r\n",
      "Requirement already satisfied: contourpy>=1.0.1 in /opt/anaconda3/lib/python3.9/site-packages (from matplotlib<4.0.0,>=3.5.3->neuralprophet) (1.0.7)\r\n",
      "Requirement already satisfied: cycler>=0.10 in /opt/anaconda3/lib/python3.9/site-packages (from matplotlib<4.0.0,>=3.5.3->neuralprophet) (0.10.0)\r\n",
      "Requirement already satisfied: six in /opt/anaconda3/lib/python3.9/site-packages (from cycler>=0.10->matplotlib<4.0.0,>=3.5.3->neuralprophet) (1.16.0)\r\n",
      "Requirement already satisfied: zipp>=3.1.0 in /opt/anaconda3/lib/python3.9/site-packages (from importlib-resources>=3.2.0->matplotlib<4.0.0,>=3.5.3->neuralprophet) (3.6.0)\r\n",
      "Requirement already satisfied: pytz>=2020.1 in /opt/anaconda3/lib/python3.9/site-packages (from pandas<2.0.0,>=1.3.5->neuralprophet) (2021.3)\r\n",
      "Requirement already satisfied: tenacity>=6.2.0 in /opt/anaconda3/lib/python3.9/site-packages (from plotly<6.0.0,>=5.13.1->neuralprophet) (8.1.0)\r\n"
     ]
    },
    {
     "name": "stdout",
     "output_type": "stream",
     "text": [
      "Requirement already satisfied: orjson<4.0.0,>=3.8.0 in /opt/anaconda3/lib/python3.9/site-packages (from plotly-resampler<0.9.0.0,>=0.8.3.1->neuralprophet) (3.8.6)\r\n",
      "Requirement already satisfied: Flask-Cors<4.0.0,>=3.0.10 in /opt/anaconda3/lib/python3.9/site-packages (from plotly-resampler<0.9.0.0,>=0.8.3.1->neuralprophet) (3.0.10)\r\n",
      "Requirement already satisfied: dash<3.0.0,>=2.2.0 in /opt/anaconda3/lib/python3.9/site-packages (from plotly-resampler<0.9.0.0,>=0.8.3.1->neuralprophet) (2.8.1)\r\n",
      "Requirement already satisfied: jupyter-dash>=0.4.2 in /opt/anaconda3/lib/python3.9/site-packages (from plotly-resampler<0.9.0.0,>=0.8.3.1->neuralprophet) (0.4.2)\r\n",
      "Requirement already satisfied: trace-updater>=0.0.8 in /opt/anaconda3/lib/python3.9/site-packages (from plotly-resampler<0.9.0.0,>=0.8.3.1->neuralprophet) (0.0.9)\r\n",
      "Requirement already satisfied: Werkzeug<=2.1.2 in /opt/anaconda3/lib/python3.9/site-packages (from plotly-resampler<0.9.0.0,>=0.8.3.1->neuralprophet) (2.0.2)\r\n",
      "Requirement already satisfied: dash-core-components==2.0.0 in /opt/anaconda3/lib/python3.9/site-packages (from dash<3.0.0,>=2.2.0->plotly-resampler<0.9.0.0,>=0.8.3.1->neuralprophet) (2.0.0)\r\n",
      "Requirement already satisfied: dash-html-components==2.0.0 in /opt/anaconda3/lib/python3.9/site-packages (from dash<3.0.0,>=2.2.0->plotly-resampler<0.9.0.0,>=0.8.3.1->neuralprophet) (2.0.0)\r\n",
      "Requirement already satisfied: dash-table==5.0.0 in /opt/anaconda3/lib/python3.9/site-packages (from dash<3.0.0,>=2.2.0->plotly-resampler<0.9.0.0,>=0.8.3.1->neuralprophet) (5.0.0)\r\n",
      "Requirement already satisfied: Flask>=1.0.4 in /opt/anaconda3/lib/python3.9/site-packages (from dash<3.0.0,>=2.2.0->plotly-resampler<0.9.0.0,>=0.8.3.1->neuralprophet) (1.1.2)\r\n",
      "Requirement already satisfied: itsdangerous>=0.24 in /opt/anaconda3/lib/python3.9/site-packages (from Flask>=1.0.4->dash<3.0.0,>=2.2.0->plotly-resampler<0.9.0.0,>=0.8.3.1->neuralprophet) (2.0.1)\r\n"
     ]
    },
    {
     "name": "stdout",
     "output_type": "stream",
     "text": [
      "Requirement already satisfied: click>=5.1 in /opt/anaconda3/lib/python3.9/site-packages (from Flask>=1.0.4->dash<3.0.0,>=2.2.0->plotly-resampler<0.9.0.0,>=0.8.3.1->neuralprophet) (8.0.3)\r\n",
      "Requirement already satisfied: Jinja2>=2.10.1 in /opt/anaconda3/lib/python3.9/site-packages (from Flask>=1.0.4->dash<3.0.0,>=2.2.0->plotly-resampler<0.9.0.0,>=0.8.3.1->neuralprophet) (2.11.3)\r\n",
      "Requirement already satisfied: MarkupSafe>=0.23 in /opt/anaconda3/lib/python3.9/site-packages (from Jinja2>=2.10.1->Flask>=1.0.4->dash<3.0.0,>=2.2.0->plotly-resampler<0.9.0.0,>=0.8.3.1->neuralprophet) (1.1.1)\r\n",
      "Requirement already satisfied: ipython in /opt/anaconda3/lib/python3.9/site-packages (from jupyter-dash>=0.4.2->plotly-resampler<0.9.0.0,>=0.8.3.1->neuralprophet) (7.29.0)\r\n",
      "Requirement already satisfied: retrying in /opt/anaconda3/lib/python3.9/site-packages (from jupyter-dash>=0.4.2->plotly-resampler<0.9.0.0,>=0.8.3.1->neuralprophet) (1.3.4)\r\n",
      "Requirement already satisfied: ansi2html in /opt/anaconda3/lib/python3.9/site-packages (from jupyter-dash>=0.4.2->plotly-resampler<0.9.0.0,>=0.8.3.1->neuralprophet) (1.8.0)\r\n",
      "Requirement already satisfied: nest-asyncio in /opt/anaconda3/lib/python3.9/site-packages (from jupyter-dash>=0.4.2->plotly-resampler<0.9.0.0,>=0.8.3.1->neuralprophet) (1.5.1)\r\n",
      "Requirement already satisfied: ipykernel in /opt/anaconda3/lib/python3.9/site-packages (from jupyter-dash>=0.4.2->plotly-resampler<0.9.0.0,>=0.8.3.1->neuralprophet) (6.4.1)\r\n",
      "Requirement already satisfied: requests in /opt/anaconda3/lib/python3.9/site-packages (from jupyter-dash>=0.4.2->plotly-resampler<0.9.0.0,>=0.8.3.1->neuralprophet) (2.26.0)\r\n"
     ]
    },
    {
     "name": "stdout",
     "output_type": "stream",
     "text": [
      "Requirement already satisfied: PyYAML>=5.4 in /opt/anaconda3/lib/python3.9/site-packages (from pytorch-lightning<2.0.0,>=1.9.4->neuralprophet) (6.0)\r\n",
      "Requirement already satisfied: lightning-utilities>=0.6.0.post0 in /opt/anaconda3/lib/python3.9/site-packages (from pytorch-lightning<2.0.0,>=1.9.4->neuralprophet) (0.8.0)\r\n",
      "Requirement already satisfied: fsspec[http]>2021.06.0 in /opt/anaconda3/lib/python3.9/site-packages (from pytorch-lightning<2.0.0,>=1.9.4->neuralprophet) (2021.8.1)\r\n",
      "Requirement already satisfied: tqdm>=4.57.0 in /opt/anaconda3/lib/python3.9/site-packages (from pytorch-lightning<2.0.0,>=1.9.4->neuralprophet) (4.62.3)\r\n",
      "Requirement already satisfied: aiohttp in /opt/anaconda3/lib/python3.9/site-packages (from fsspec[http]>2021.06.0->pytorch-lightning<2.0.0,>=1.9.4->neuralprophet) (3.8.4)\r\n"
     ]
    },
    {
     "name": "stdout",
     "output_type": "stream",
     "text": [
      "Requirement already satisfied: tensorboard-data-server<0.8.0,>=0.7.0 in /opt/anaconda3/lib/python3.9/site-packages (from tensorboard<3.0.0,>=2.11.2->neuralprophet) (0.7.0)\r\n",
      "Requirement already satisfied: tensorboard-plugin-wit>=1.6.0 in /opt/anaconda3/lib/python3.9/site-packages (from tensorboard<3.0.0,>=2.11.2->neuralprophet) (1.8.1)\r\n",
      "Requirement already satisfied: absl-py>=0.4 in /opt/anaconda3/lib/python3.9/site-packages (from tensorboard<3.0.0,>=2.11.2->neuralprophet) (1.4.0)\r\n",
      "Requirement already satisfied: google-auth-oauthlib<0.5,>=0.4.1 in /opt/anaconda3/lib/python3.9/site-packages (from tensorboard<3.0.0,>=2.11.2->neuralprophet) (0.4.6)\r\n",
      "Requirement already satisfied: protobuf>=3.19.6 in /opt/anaconda3/lib/python3.9/site-packages (from tensorboard<3.0.0,>=2.11.2->neuralprophet) (4.21.12)\r\n",
      "Requirement already satisfied: grpcio>=1.48.2 in /opt/anaconda3/lib/python3.9/site-packages (from tensorboard<3.0.0,>=2.11.2->neuralprophet) (1.54.0)\r\n",
      "Requirement already satisfied: wheel>=0.26 in /opt/anaconda3/lib/python3.9/site-packages (from tensorboard<3.0.0,>=2.11.2->neuralprophet) (0.37.0)\r\n",
      "Requirement already satisfied: google-auth<3,>=1.6.3 in /opt/anaconda3/lib/python3.9/site-packages (from tensorboard<3.0.0,>=2.11.2->neuralprophet) (2.16.0)\r\n",
      "Requirement already satisfied: setuptools>=41.0.0 in /opt/anaconda3/lib/python3.9/site-packages (from tensorboard<3.0.0,>=2.11.2->neuralprophet) (58.0.4)\r\n",
      "Requirement already satisfied: markdown>=2.6.8 in /opt/anaconda3/lib/python3.9/site-packages (from tensorboard<3.0.0,>=2.11.2->neuralprophet) (3.4.1)\r\n",
      "Requirement already satisfied: rsa<5,>=3.1.4 in /opt/anaconda3/lib/python3.9/site-packages (from google-auth<3,>=1.6.3->tensorboard<3.0.0,>=2.11.2->neuralprophet) (4.9)\r\n",
      "Requirement already satisfied: cachetools<6.0,>=2.0.0 in /opt/anaconda3/lib/python3.9/site-packages (from google-auth<3,>=1.6.3->tensorboard<3.0.0,>=2.11.2->neuralprophet) (5.2.1)\r\n",
      "Requirement already satisfied: pyasn1-modules>=0.2.1 in /opt/anaconda3/lib/python3.9/site-packages (from google-auth<3,>=1.6.3->tensorboard<3.0.0,>=2.11.2->neuralprophet) (0.2.8)\r\n",
      "Requirement already satisfied: requests-oauthlib>=0.7.0 in /opt/anaconda3/lib/python3.9/site-packages (from google-auth-oauthlib<0.5,>=0.4.1->tensorboard<3.0.0,>=2.11.2->neuralprophet) (1.3.1)\r\n",
      "Requirement already satisfied: importlib-metadata>=4.4 in /opt/anaconda3/lib/python3.9/site-packages (from markdown>=2.6.8->tensorboard<3.0.0,>=2.11.2->neuralprophet) (4.8.1)\r\n",
      "Requirement already satisfied: pyasn1<0.5.0,>=0.4.6 in /opt/anaconda3/lib/python3.9/site-packages (from pyasn1-modules>=0.2.1->google-auth<3,>=1.6.3->tensorboard<3.0.0,>=2.11.2->neuralprophet) (0.4.8)\r\n"
     ]
    },
    {
     "name": "stdout",
     "output_type": "stream",
     "text": [
      "Requirement already satisfied: urllib3<1.27,>=1.21.1 in /opt/anaconda3/lib/python3.9/site-packages (from requests->jupyter-dash>=0.4.2->plotly-resampler<0.9.0.0,>=0.8.3.1->neuralprophet) (1.26.7)\r\n",
      "Requirement already satisfied: certifi>=2017.4.17 in /opt/anaconda3/lib/python3.9/site-packages (from requests->jupyter-dash>=0.4.2->plotly-resampler<0.9.0.0,>=0.8.3.1->neuralprophet) (2021.10.8)\r\n",
      "Requirement already satisfied: idna<4,>=2.5 in /opt/anaconda3/lib/python3.9/site-packages (from requests->jupyter-dash>=0.4.2->plotly-resampler<0.9.0.0,>=0.8.3.1->neuralprophet) (3.2)\r\n",
      "Requirement already satisfied: charset-normalizer~=2.0.0 in /opt/anaconda3/lib/python3.9/site-packages (from requests->jupyter-dash>=0.4.2->plotly-resampler<0.9.0.0,>=0.8.3.1->neuralprophet) (2.0.4)\r\n",
      "Requirement already satisfied: oauthlib>=3.0.0 in /opt/anaconda3/lib/python3.9/site-packages (from requests-oauthlib>=0.7.0->google-auth-oauthlib<0.5,>=0.4.1->tensorboard<3.0.0,>=2.11.2->neuralprophet) (3.2.2)\r\n"
     ]
    },
    {
     "name": "stdout",
     "output_type": "stream",
     "text": [
      "Requirement already satisfied: attrs>=17.3.0 in /opt/anaconda3/lib/python3.9/site-packages (from aiohttp->fsspec[http]>2021.06.0->pytorch-lightning<2.0.0,>=1.9.4->neuralprophet) (21.2.0)\r\n",
      "Requirement already satisfied: aiosignal>=1.1.2 in /opt/anaconda3/lib/python3.9/site-packages (from aiohttp->fsspec[http]>2021.06.0->pytorch-lightning<2.0.0,>=1.9.4->neuralprophet) (1.3.1)\r\n",
      "Requirement already satisfied: multidict<7.0,>=4.5 in /opt/anaconda3/lib/python3.9/site-packages (from aiohttp->fsspec[http]>2021.06.0->pytorch-lightning<2.0.0,>=1.9.4->neuralprophet) (6.0.4)\r\n",
      "Requirement already satisfied: yarl<2.0,>=1.0 in /opt/anaconda3/lib/python3.9/site-packages (from aiohttp->fsspec[http]>2021.06.0->pytorch-lightning<2.0.0,>=1.9.4->neuralprophet) (1.8.2)\r\n",
      "Requirement already satisfied: frozenlist>=1.1.1 in /opt/anaconda3/lib/python3.9/site-packages (from aiohttp->fsspec[http]>2021.06.0->pytorch-lightning<2.0.0,>=1.9.4->neuralprophet) (1.3.3)\r\n",
      "Requirement already satisfied: async-timeout<5.0,>=4.0.0a3 in /opt/anaconda3/lib/python3.9/site-packages (from aiohttp->fsspec[http]>2021.06.0->pytorch-lightning<2.0.0,>=1.9.4->neuralprophet) (4.0.2)\r\n"
     ]
    },
    {
     "name": "stdout",
     "output_type": "stream",
     "text": [
      "Requirement already satisfied: traitlets<6.0,>=4.1.0 in /opt/anaconda3/lib/python3.9/site-packages (from ipykernel->jupyter-dash>=0.4.2->plotly-resampler<0.9.0.0,>=0.8.3.1->neuralprophet) (5.1.0)\r\n",
      "Requirement already satisfied: debugpy<2.0,>=1.0.0 in /opt/anaconda3/lib/python3.9/site-packages (from ipykernel->jupyter-dash>=0.4.2->plotly-resampler<0.9.0.0,>=0.8.3.1->neuralprophet) (1.4.1)\r\n",
      "Requirement already satisfied: matplotlib-inline<0.2.0,>=0.1.0 in /opt/anaconda3/lib/python3.9/site-packages (from ipykernel->jupyter-dash>=0.4.2->plotly-resampler<0.9.0.0,>=0.8.3.1->neuralprophet) (0.1.2)\r\n",
      "Requirement already satisfied: appnope in /opt/anaconda3/lib/python3.9/site-packages (from ipykernel->jupyter-dash>=0.4.2->plotly-resampler<0.9.0.0,>=0.8.3.1->neuralprophet) (0.1.2)\r\n",
      "Requirement already satisfied: jupyter-client<8.0 in /opt/anaconda3/lib/python3.9/site-packages (from ipykernel->jupyter-dash>=0.4.2->plotly-resampler<0.9.0.0,>=0.8.3.1->neuralprophet) (6.1.12)\r\n",
      "Requirement already satisfied: tornado<7.0,>=4.2 in /opt/anaconda3/lib/python3.9/site-packages (from ipykernel->jupyter-dash>=0.4.2->plotly-resampler<0.9.0.0,>=0.8.3.1->neuralprophet) (6.1)\r\n",
      "Requirement already satisfied: ipython-genutils in /opt/anaconda3/lib/python3.9/site-packages (from ipykernel->jupyter-dash>=0.4.2->plotly-resampler<0.9.0.0,>=0.8.3.1->neuralprophet) (0.2.0)\r\n",
      "Requirement already satisfied: pickleshare in /opt/anaconda3/lib/python3.9/site-packages (from ipython->jupyter-dash>=0.4.2->plotly-resampler<0.9.0.0,>=0.8.3.1->neuralprophet) (0.7.5)\r\n",
      "Requirement already satisfied: decorator in /opt/anaconda3/lib/python3.9/site-packages (from ipython->jupyter-dash>=0.4.2->plotly-resampler<0.9.0.0,>=0.8.3.1->neuralprophet) (5.1.0)\r\n",
      "Requirement already satisfied: pexpect>4.3 in /opt/anaconda3/lib/python3.9/site-packages (from ipython->jupyter-dash>=0.4.2->plotly-resampler<0.9.0.0,>=0.8.3.1->neuralprophet) (4.8.0)\r\n",
      "Requirement already satisfied: jedi>=0.16 in /opt/anaconda3/lib/python3.9/site-packages (from ipython->jupyter-dash>=0.4.2->plotly-resampler<0.9.0.0,>=0.8.3.1->neuralprophet) (0.18.0)\r\n",
      "Requirement already satisfied: prompt-toolkit!=3.0.0,!=3.0.1,<3.1.0,>=2.0.0 in /opt/anaconda3/lib/python3.9/site-packages (from ipython->jupyter-dash>=0.4.2->plotly-resampler<0.9.0.0,>=0.8.3.1->neuralprophet) (3.0.20)\r\n",
      "Requirement already satisfied: backcall in /opt/anaconda3/lib/python3.9/site-packages (from ipython->jupyter-dash>=0.4.2->plotly-resampler<0.9.0.0,>=0.8.3.1->neuralprophet) (0.2.0)\r\n",
      "Requirement already satisfied: pygments in /opt/anaconda3/lib/python3.9/site-packages (from ipython->jupyter-dash>=0.4.2->plotly-resampler<0.9.0.0,>=0.8.3.1->neuralprophet) (2.10.0)\r\n",
      "Requirement already satisfied: parso<0.9.0,>=0.8.0 in /opt/anaconda3/lib/python3.9/site-packages (from jedi>=0.16->ipython->jupyter-dash>=0.4.2->plotly-resampler<0.9.0.0,>=0.8.3.1->neuralprophet) (0.8.2)\r\n"
     ]
    },
    {
     "name": "stdout",
     "output_type": "stream",
     "text": [
      "Requirement already satisfied: pyzmq>=13 in /opt/anaconda3/lib/python3.9/site-packages (from jupyter-client<8.0->ipykernel->jupyter-dash>=0.4.2->plotly-resampler<0.9.0.0,>=0.8.3.1->neuralprophet) (22.2.1)\r\n",
      "Requirement already satisfied: jupyter-core>=4.6.0 in /opt/anaconda3/lib/python3.9/site-packages (from jupyter-client<8.0->ipykernel->jupyter-dash>=0.4.2->plotly-resampler<0.9.0.0,>=0.8.3.1->neuralprophet) (4.8.1)\r\n",
      "Requirement already satisfied: ptyprocess>=0.5 in /opt/anaconda3/lib/python3.9/site-packages (from pexpect>4.3->ipython->jupyter-dash>=0.4.2->plotly-resampler<0.9.0.0,>=0.8.3.1->neuralprophet) (0.7.0)\r\n",
      "Requirement already satisfied: wcwidth in /opt/anaconda3/lib/python3.9/site-packages (from prompt-toolkit!=3.0.0,!=3.0.1,<3.1.0,>=2.0.0->ipython->jupyter-dash>=0.4.2->plotly-resampler<0.9.0.0,>=0.8.3.1->neuralprophet) (0.2.5)\r\n"
     ]
    },
    {
     "name": "stdout",
     "output_type": "stream",
     "text": [
      "\u001b[33mWARNING: Ignoring invalid distribution -umpy (/opt/anaconda3/lib/python3.9/site-packages)\u001b[0m\r\n"
     ]
    },
    {
     "name": "stdout",
     "output_type": "stream",
     "text": [
      "\u001b[33mWARNING: Ignoring invalid distribution -umpy (/opt/anaconda3/lib/python3.9/site-packages)\u001b[0m\r\n",
      "\u001b[33mWARNING: Ignoring invalid distribution -umpy (/opt/anaconda3/lib/python3.9/site-packages)\u001b[0m\r\n",
      "\u001b[33mWARNING: Ignoring invalid distribution -umpy (/opt/anaconda3/lib/python3.9/site-packages)\u001b[0m\r\n"
     ]
    }
   ],
   "source": [
    "get_ipython().system('pip install neuralprophet')"
   ]
  },
  {
   "cell_type": "code",
   "execution_count": 28,
   "id": "e88a0b7a",
   "metadata": {
    "execution": {
     "iopub.execute_input": "2023-05-10T00:45:42.714588Z",
     "iopub.status.busy": "2023-05-10T00:45:42.714352Z",
     "iopub.status.idle": "2023-05-10T00:45:42.717475Z",
     "shell.execute_reply": "2023-05-10T00:45:42.717014Z"
    }
   },
   "outputs": [],
   "source": [
    "from neuralprophet import NeuralProphet\n",
    "import pickle"
   ]
  },
  {
   "cell_type": "code",
   "execution_count": 29,
   "id": "e3c9b3f1",
   "metadata": {
    "execution": {
     "iopub.execute_input": "2023-05-10T00:45:42.719871Z",
     "iopub.status.busy": "2023-05-10T00:45:42.719717Z",
     "iopub.status.idle": "2023-05-10T00:45:42.722773Z",
     "shell.execute_reply": "2023-05-10T00:45:42.722402Z"
    }
   },
   "outputs": [
    {
     "ename": "SyntaxError",
     "evalue": "invalid syntax (1608793089.py, line 1)",
     "output_type": "error",
     "traceback": [
      "\u001b[0;36m  Cell \u001b[0;32mIn [29], line 1\u001b[0;36m\u001b[0m\n\u001b[0;31m    pip install localpip\u001b[0m\n\u001b[0m        ^\u001b[0m\n\u001b[0;31mSyntaxError\u001b[0m\u001b[0;31m:\u001b[0m invalid syntax\n"
     ]
    }
   ],
   "source": [
    "pip install localpip \n",
    "localpip install neuralprophet"
   ]
  },
  {
   "cell_type": "code",
   "execution_count": 30,
   "id": "98710a7f",
   "metadata": {
    "execution": {
     "iopub.execute_input": "2023-05-10T00:45:42.724929Z",
     "iopub.status.busy": "2023-05-10T00:45:42.724749Z",
     "iopub.status.idle": "2023-05-10T00:45:42.727676Z",
     "shell.execute_reply": "2023-05-10T00:45:42.727285Z"
    }
   },
   "outputs": [
    {
     "ename": "SyntaxError",
     "evalue": "invalid syntax (2720801069.py, line 2)",
     "output_type": "error",
     "traceback": [
      "\u001b[0;36m  Cell \u001b[0;32mIn [30], line 2\u001b[0;36m\u001b[0m\n\u001b[0;31m    localpip install neuralprophet\u001b[0m\n\u001b[0m             ^\u001b[0m\n\u001b[0;31mSyntaxError\u001b[0m\u001b[0;31m:\u001b[0m invalid syntax\n"
     ]
    }
   ],
   "source": [
    "get_ipython().system('pip install localpip')\n",
    "localpip install neuralprophet"
   ]
  },
  {
   "cell_type": "code",
   "execution_count": 31,
   "id": "2dcf6527",
   "metadata": {
    "execution": {
     "iopub.execute_input": "2023-05-10T00:45:42.729726Z",
     "iopub.status.busy": "2023-05-10T00:45:42.729575Z",
     "iopub.status.idle": "2023-05-10T00:45:45.521064Z",
     "shell.execute_reply": "2023-05-10T00:45:45.520377Z"
    }
   },
   "outputs": [
    {
     "name": "stdout",
     "output_type": "stream",
     "text": [
      "\u001b[33mWARNING: Ignoring invalid distribution -umpy (/opt/anaconda3/lib/python3.9/site-packages)\u001b[0m\r\n"
     ]
    },
    {
     "name": "stdout",
     "output_type": "stream",
     "text": [
      "\u001b[33mWARNING: Ignoring invalid distribution -umpy (/opt/anaconda3/lib/python3.9/site-packages)\u001b[0m\r\n",
      "Requirement already satisfied: localpip in /opt/anaconda3/lib/python3.9/site-packages (1.0.7)\r\n",
      "Requirement already satisfied: pypac in /opt/anaconda3/lib/python3.9/site-packages (from localpip) (0.16.3)\r\n",
      "Requirement already satisfied: requests in /opt/anaconda3/lib/python3.9/site-packages (from localpip) (2.26.0)\r\n",
      "Requirement already satisfied: bs4 in /opt/anaconda3/lib/python3.9/site-packages (from localpip) (0.0.1)\r\n",
      "Requirement already satisfied: beautifulsoup4 in /opt/anaconda3/lib/python3.9/site-packages (from bs4->localpip) (4.10.0)\r\n",
      "Requirement already satisfied: soupsieve>1.2 in /opt/anaconda3/lib/python3.9/site-packages (from beautifulsoup4->bs4->localpip) (2.2.1)\r\n",
      "Requirement already satisfied: pyobjc-framework-SystemConfiguration>=3.2.1 in /opt/anaconda3/lib/python3.9/site-packages (from pypac->localpip) (9.1.1)\r\n",
      "Requirement already satisfied: dukpy>=0.2.2 in /opt/anaconda3/lib/python3.9/site-packages (from pypac->localpip) (0.3.0)\r\n",
      "Requirement already satisfied: tldextract>=2.2.3 in /opt/anaconda3/lib/python3.9/site-packages (from pypac->localpip) (3.4.0)\r\n",
      "Requirement already satisfied: pyobjc-core>=9.1.1 in /opt/anaconda3/lib/python3.9/site-packages (from pyobjc-framework-SystemConfiguration>=3.2.1->pypac->localpip) (9.1.1)\r\n",
      "Requirement already satisfied: pyobjc-framework-Cocoa>=9.1.1 in /opt/anaconda3/lib/python3.9/site-packages (from pyobjc-framework-SystemConfiguration>=3.2.1->pypac->localpip) (9.1.1)\r\n",
      "Requirement already satisfied: charset-normalizer~=2.0.0 in /opt/anaconda3/lib/python3.9/site-packages (from requests->localpip) (2.0.4)\r\n",
      "Requirement already satisfied: certifi>=2017.4.17 in /opt/anaconda3/lib/python3.9/site-packages (from requests->localpip) (2021.10.8)\r\n",
      "Requirement already satisfied: urllib3<1.27,>=1.21.1 in /opt/anaconda3/lib/python3.9/site-packages (from requests->localpip) (1.26.7)\r\n",
      "Requirement already satisfied: idna<4,>=2.5 in /opt/anaconda3/lib/python3.9/site-packages (from requests->localpip) (3.2)\r\n",
      "Requirement already satisfied: requests-file>=1.4 in /opt/anaconda3/lib/python3.9/site-packages (from tldextract>=2.2.3->pypac->localpip) (1.5.1)\r\n",
      "Requirement already satisfied: filelock>=3.0.8 in /opt/anaconda3/lib/python3.9/site-packages (from tldextract>=2.2.3->pypac->localpip) (3.11.0)\r\n"
     ]
    },
    {
     "name": "stdout",
     "output_type": "stream",
     "text": [
      "Requirement already satisfied: six in /opt/anaconda3/lib/python3.9/site-packages (from requests-file>=1.4->tldextract>=2.2.3->pypac->localpip) (1.16.0)\r\n",
      "\u001b[33mWARNING: Ignoring invalid distribution -umpy (/opt/anaconda3/lib/python3.9/site-packages)\u001b[0m\r\n"
     ]
    },
    {
     "name": "stdout",
     "output_type": "stream",
     "text": [
      "\u001b[33mWARNING: Ignoring invalid distribution -umpy (/opt/anaconda3/lib/python3.9/site-packages)\u001b[0m\r\n",
      "\u001b[33mWARNING: Ignoring invalid distribution -umpy (/opt/anaconda3/lib/python3.9/site-packages)\u001b[0m\r\n",
      "\u001b[33mWARNING: Ignoring invalid distribution -umpy (/opt/anaconda3/lib/python3.9/site-packages)\u001b[0m\r\n"
     ]
    },
    {
     "name": "stdout",
     "output_type": "stream",
     "text": [
      "Traceback (most recent call last):\r\n",
      "  File \"/opt/anaconda3/bin/localpip\", line 5, in <module>\r\n",
      "    from localpip.__main__ import main\r\n",
      "  File \"/opt/anaconda3/lib/python3.9/site-packages/localpip/__main__.py\", line 5, in <module>\r\n",
      "    from ctypes import Structure, byref, windll\r\n",
      "ImportError: cannot import name 'windll' from 'ctypes' (/opt/anaconda3/lib/python3.9/ctypes/__init__.py)\r\n"
     ]
    }
   ],
   "source": [
    "get_ipython().system('pip install localpip')\n",
    "get_ipython().system('localpip install neuralprophet')"
   ]
  },
  {
   "cell_type": "code",
   "execution_count": 32,
   "id": "0b05e13c",
   "metadata": {
    "execution": {
     "iopub.execute_input": "2023-05-10T00:45:45.524039Z",
     "iopub.status.busy": "2023-05-10T00:45:45.523808Z",
     "iopub.status.idle": "2023-05-10T00:45:45.526950Z",
     "shell.execute_reply": "2023-05-10T00:45:45.526445Z"
    }
   },
   "outputs": [],
   "source": [
    "from neuralprophet import NeuralProphet\n",
    "import pickle"
   ]
  },
  {
   "cell_type": "code",
   "execution_count": 33,
   "id": "f3a9be54",
   "metadata": {
    "execution": {
     "iopub.execute_input": "2023-05-10T00:45:45.529329Z",
     "iopub.status.busy": "2023-05-10T00:45:45.529185Z",
     "iopub.status.idle": "2023-05-10T00:45:45.531683Z",
     "shell.execute_reply": "2023-05-10T00:45:45.531280Z"
    },
    "lines_to_next_cell": 2
   },
   "outputs": [],
   "source": [
    "from neuralprophet import NeuralProphet\n",
    "import pickle"
   ]
  }
 ],
 "metadata": {
  "jupytext": {
   "cell_metadata_filter": "-all",
   "main_language": "python",
   "notebook_metadata_filter": "-all"
  },
  "kernelspec": {
   "display_name": "base",
   "language": "python",
   "name": "python3"
  },
  "language_info": {
   "codemirror_mode": {
    "name": "ipython",
    "version": 3
   },
   "file_extension": ".py",
   "mimetype": "text/x-python",
   "name": "python",
   "nbconvert_exporter": "python",
   "pygments_lexer": "ipython3",
   "version": "3.9.12"
  }
 },
 "nbformat": 4,
 "nbformat_minor": 5
}
