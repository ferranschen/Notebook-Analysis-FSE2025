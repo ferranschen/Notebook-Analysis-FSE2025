{
 "cells": [
  {
   "cell_type": "code",
   "execution_count": 1,
   "id": "6c12d049",
   "metadata": {
    "execution": {
     "iopub.execute_input": "2023-05-09T21:20:00.063003Z",
     "iopub.status.busy": "2023-05-09T21:20:00.062695Z",
     "iopub.status.idle": "2023-05-09T21:20:00.076487Z",
     "shell.execute_reply": "2023-05-09T21:20:00.076062Z"
    }
   },
   "outputs": [],
   "source": [
    "get_ipython().run_cell_magic('capture', '', \"%logstop\\n%logstart -t -r -q ipython_command_log.py global\\n\\n#- IRONHACKS RESEARCH TRACKING CODE\\n#----------------------------------\\n# The following code is used to help our research team understand how you \\n# our notebook environment. We do not collect any personal information with\\n# the following code, it is used to measure when and how often you work on\\n# your submission files.\\n\\nimport os\\nfrom datetime import datetime\\nimport IPython.core.history as history\\n\\nha = history.HistoryAccessor()\\nha_tail = ha.get_tail(1)\\nha_cmd = next(ha_tail)\\nsession_id = str(ha_cmd[0])\\ncommand_id = str(ha_cmd[1])\\ntimestamp = datetime.utcnow().isoformat()\\nhistory_line = ','.join([session_id, command_id, timestamp]) + '\\\\n'\\nlogfile = open(os.environ['HOME']+'/ipython_session_log.csv', 'a')\\nlogfile.write(history_line)\\nlogfile.close()\\n\")"
   ]
  },
  {
   "cell_type": "code",
   "execution_count": 2,
   "id": "2d1ea975",
   "metadata": {
    "execution": {
     "iopub.execute_input": "2023-05-09T21:20:00.078896Z",
     "iopub.status.busy": "2023-05-09T21:20:00.078690Z",
     "iopub.status.idle": "2023-05-09T21:20:14.888670Z",
     "shell.execute_reply": "2023-05-09T21:20:14.888259Z"
    }
   },
   "outputs": [
    {
     "name": "stdout",
     "output_type": "stream",
     "text": [
      "\u001b[33mWARNING: Ignoring invalid distribution -umpy (/opt/anaconda3/lib/python3.9/site-packages)\u001b[0m\r\n"
     ]
    },
    {
     "name": "stdout",
     "output_type": "stream",
     "text": [
      "\u001b[33mWARNING: Ignoring invalid distribution -umpy (/opt/anaconda3/lib/python3.9/site-packages)\u001b[0m\r\n",
      "Requirement already satisfied: db-dtypes in /opt/anaconda3/lib/python3.9/site-packages (1.0.5)\r\n",
      "Requirement already satisfied: packaging>=17.0 in /opt/anaconda3/lib/python3.9/site-packages (from db-dtypes) (21.3)\r\n",
      "Requirement already satisfied: pyarrow>=3.0.0 in /opt/anaconda3/lib/python3.9/site-packages (from db-dtypes) (10.0.1)\r\n",
      "Requirement already satisfied: numpy<2.0dev,>=1.16.6 in /opt/anaconda3/lib/python3.9/site-packages (from db-dtypes) (1.22.4)\r\n",
      "Requirement already satisfied: pandas<2.0dev,>=0.24.2 in /opt/anaconda3/lib/python3.9/site-packages (from db-dtypes) (1.5.3)\r\n",
      "Requirement already satisfied: pyparsing!=3.0.5,>=2.0.2 in /opt/anaconda3/lib/python3.9/site-packages (from packaging>=17.0->db-dtypes) (3.0.4)\r\n",
      "Requirement already satisfied: pytz>=2020.1 in /opt/anaconda3/lib/python3.9/site-packages (from pandas<2.0dev,>=0.24.2->db-dtypes) (2021.3)\r\n",
      "Requirement already satisfied: python-dateutil>=2.8.1 in /opt/anaconda3/lib/python3.9/site-packages (from pandas<2.0dev,>=0.24.2->db-dtypes) (2.8.2)\r\n",
      "Requirement already satisfied: six>=1.5 in /opt/anaconda3/lib/python3.9/site-packages (from python-dateutil>=2.8.1->pandas<2.0dev,>=0.24.2->db-dtypes) (1.16.0)\r\n",
      "\u001b[33mWARNING: Ignoring invalid distribution -umpy (/opt/anaconda3/lib/python3.9/site-packages)\u001b[0m\r\n"
     ]
    },
    {
     "name": "stdout",
     "output_type": "stream",
     "text": [
      "\u001b[33mWARNING: Ignoring invalid distribution -umpy (/opt/anaconda3/lib/python3.9/site-packages)\u001b[0m\r\n",
      "\u001b[33mWARNING: Ignoring invalid distribution -umpy (/opt/anaconda3/lib/python3.9/site-packages)\u001b[0m\r\n",
      "\u001b[33mWARNING: Ignoring invalid distribution -umpy (/opt/anaconda3/lib/python3.9/site-packages)\u001b[0m\r\n"
     ]
    },
    {
     "name": "stdout",
     "output_type": "stream",
     "text": [
      "\u001b[33mWARNING: Ignoring invalid distribution -umpy (/opt/anaconda3/lib/python3.9/site-packages)\u001b[0m\r\n"
     ]
    },
    {
     "name": "stdout",
     "output_type": "stream",
     "text": [
      "\u001b[33mWARNING: Ignoring invalid distribution -umpy (/opt/anaconda3/lib/python3.9/site-packages)\u001b[0m\r\n",
      "Requirement already satisfied: xgboost in /opt/anaconda3/lib/python3.9/site-packages (1.7.5)\r\n",
      "Requirement already satisfied: scipy in /opt/anaconda3/lib/python3.9/site-packages (from xgboost) (1.7.1)\r\n",
      "Requirement already satisfied: numpy in /opt/anaconda3/lib/python3.9/site-packages (from xgboost) (1.22.4)\r\n",
      "\u001b[33mWARNING: Ignoring invalid distribution -umpy (/opt/anaconda3/lib/python3.9/site-packages)\u001b[0m\r\n"
     ]
    },
    {
     "name": "stdout",
     "output_type": "stream",
     "text": [
      "\u001b[33mWARNING: Ignoring invalid distribution -umpy (/opt/anaconda3/lib/python3.9/site-packages)\u001b[0m\r\n",
      "\u001b[33mWARNING: Ignoring invalid distribution -umpy (/opt/anaconda3/lib/python3.9/site-packages)\u001b[0m\r\n"
     ]
    },
    {
     "name": "stdout",
     "output_type": "stream",
     "text": [
      "\u001b[33mWARNING: Ignoring invalid distribution -umpy (/opt/anaconda3/lib/python3.9/site-packages)\u001b[0m\r\n"
     ]
    },
    {
     "name": "stdout",
     "output_type": "stream",
     "text": [
      "\u001b[33mWARNING: Ignoring invalid distribution -umpy (/opt/anaconda3/lib/python3.9/site-packages)\u001b[0m\r\n",
      "\u001b[33mWARNING: Ignoring invalid distribution -umpy (/opt/anaconda3/lib/python3.9/site-packages)\u001b[0m\r\n",
      "Requirement already satisfied: impyute in /opt/anaconda3/lib/python3.9/site-packages (0.0.8)\r\n",
      "Requirement already satisfied: numpy in /opt/anaconda3/lib/python3.9/site-packages (from impyute) (1.22.4)\r\n",
      "Requirement already satisfied: scipy in /opt/anaconda3/lib/python3.9/site-packages (from impyute) (1.7.1)\r\n",
      "Requirement already satisfied: scikit-learn in /opt/anaconda3/lib/python3.9/site-packages (from impyute) (0.24.2)\r\n",
      "Requirement already satisfied: threadpoolctl>=2.0.0 in /opt/anaconda3/lib/python3.9/site-packages (from scikit-learn->impyute) (2.2.0)\r\n"
     ]
    },
    {
     "name": "stdout",
     "output_type": "stream",
     "text": [
      "Requirement already satisfied: joblib>=0.11 in /opt/anaconda3/lib/python3.9/site-packages (from scikit-learn->impyute) (1.1.0)\r\n",
      "\u001b[33mWARNING: Ignoring invalid distribution -umpy (/opt/anaconda3/lib/python3.9/site-packages)\u001b[0m\r\n"
     ]
    },
    {
     "name": "stdout",
     "output_type": "stream",
     "text": [
      "\u001b[33mWARNING: Ignoring invalid distribution -umpy (/opt/anaconda3/lib/python3.9/site-packages)\u001b[0m\r\n"
     ]
    },
    {
     "name": "stdout",
     "output_type": "stream",
     "text": [
      "\u001b[33mWARNING: Ignoring invalid distribution -umpy (/opt/anaconda3/lib/python3.9/site-packages)\u001b[0m\r\n",
      "\u001b[33mWARNING: Ignoring invalid distribution -umpy (/opt/anaconda3/lib/python3.9/site-packages)\u001b[0m\r\n"
     ]
    },
    {
     "name": "stdout",
     "output_type": "stream",
     "text": [
      "\u001b[33mWARNING: Ignoring invalid distribution -umpy (/opt/anaconda3/lib/python3.9/site-packages)\u001b[0m\r\n"
     ]
    },
    {
     "name": "stdout",
     "output_type": "stream",
     "text": [
      "\u001b[33mWARNING: Ignoring invalid distribution -umpy (/opt/anaconda3/lib/python3.9/site-packages)\u001b[0m\r\n",
      "Requirement already satisfied: prophet in /opt/anaconda3/lib/python3.9/site-packages (1.1.2)\r\n",
      "Requirement already satisfied: matplotlib>=2.0.0 in /opt/anaconda3/lib/python3.9/site-packages (from prophet) (3.7.1)\r\n",
      "Requirement already satisfied: python-dateutil>=2.8.0 in /opt/anaconda3/lib/python3.9/site-packages (from prophet) (2.8.2)\r\n",
      "Requirement already satisfied: tqdm>=4.36.1 in /opt/anaconda3/lib/python3.9/site-packages (from prophet) (4.62.3)\r\n",
      "Requirement already satisfied: pandas>=1.0.4 in /opt/anaconda3/lib/python3.9/site-packages (from prophet) (1.5.3)\r\n",
      "Requirement already satisfied: holidays>=0.14.2 in /opt/anaconda3/lib/python3.9/site-packages (from prophet) (0.21.13)\r\n",
      "Requirement already satisfied: convertdate>=2.1.2 in /opt/anaconda3/lib/python3.9/site-packages (from prophet) (2.4.0)\r\n",
      "Requirement already satisfied: numpy>=1.15.4 in /opt/anaconda3/lib/python3.9/site-packages (from prophet) (1.22.4)\r\n",
      "Requirement already satisfied: cmdstanpy>=1.0.4 in /opt/anaconda3/lib/python3.9/site-packages (from prophet) (1.1.0)\r\n",
      "Requirement already satisfied: LunarCalendar>=0.0.9 in /opt/anaconda3/lib/python3.9/site-packages (from prophet) (0.0.9)\r\n",
      "Requirement already satisfied: pymeeus<=1,>=0.3.13 in /opt/anaconda3/lib/python3.9/site-packages (from convertdate>=2.1.2->prophet) (0.5.12)\r\n",
      "Requirement already satisfied: korean-lunar-calendar in /opt/anaconda3/lib/python3.9/site-packages (from holidays>=0.14.2->prophet) (0.3.1)\r\n",
      "Requirement already satisfied: hijri-converter in /opt/anaconda3/lib/python3.9/site-packages (from holidays>=0.14.2->prophet) (2.2.4)\r\n",
      "Requirement already satisfied: pytz in /opt/anaconda3/lib/python3.9/site-packages (from LunarCalendar>=0.0.9->prophet) (2021.3)\r\n",
      "Requirement already satisfied: ephem>=3.7.5.3 in /opt/anaconda3/lib/python3.9/site-packages (from LunarCalendar>=0.0.9->prophet) (4.1.4)\r\n",
      "Requirement already satisfied: packaging>=20.0 in /opt/anaconda3/lib/python3.9/site-packages (from matplotlib>=2.0.0->prophet) (21.3)\r\n"
     ]
    },
    {
     "name": "stdout",
     "output_type": "stream",
     "text": [
      "Requirement already satisfied: cycler>=0.10 in /opt/anaconda3/lib/python3.9/site-packages (from matplotlib>=2.0.0->prophet) (0.10.0)\r\n",
      "Requirement already satisfied: pillow>=6.2.0 in /opt/anaconda3/lib/python3.9/site-packages (from matplotlib>=2.0.0->prophet) (8.4.0)\r\n",
      "Requirement already satisfied: kiwisolver>=1.0.1 in /opt/anaconda3/lib/python3.9/site-packages (from matplotlib>=2.0.0->prophet) (1.3.1)\r\n",
      "Requirement already satisfied: fonttools>=4.22.0 in /opt/anaconda3/lib/python3.9/site-packages (from matplotlib>=2.0.0->prophet) (4.25.0)\r\n",
      "Requirement already satisfied: importlib-resources>=3.2.0 in /opt/anaconda3/lib/python3.9/site-packages (from matplotlib>=2.0.0->prophet) (5.12.0)\r\n",
      "Requirement already satisfied: contourpy>=1.0.1 in /opt/anaconda3/lib/python3.9/site-packages (from matplotlib>=2.0.0->prophet) (1.0.7)\r\n",
      "Requirement already satisfied: pyparsing>=2.3.1 in /opt/anaconda3/lib/python3.9/site-packages (from matplotlib>=2.0.0->prophet) (3.0.4)\r\n",
      "Requirement already satisfied: six in /opt/anaconda3/lib/python3.9/site-packages (from cycler>=0.10->matplotlib>=2.0.0->prophet) (1.16.0)\r\n",
      "Requirement already satisfied: zipp>=3.1.0 in /opt/anaconda3/lib/python3.9/site-packages (from importlib-resources>=3.2.0->matplotlib>=2.0.0->prophet) (3.6.0)\r\n"
     ]
    },
    {
     "name": "stdout",
     "output_type": "stream",
     "text": [
      "\u001b[33mWARNING: Ignoring invalid distribution -umpy (/opt/anaconda3/lib/python3.9/site-packages)\u001b[0m\r\n"
     ]
    },
    {
     "name": "stdout",
     "output_type": "stream",
     "text": [
      "\u001b[33mWARNING: Ignoring invalid distribution -umpy (/opt/anaconda3/lib/python3.9/site-packages)\u001b[0m\r\n",
      "\u001b[33mWARNING: Ignoring invalid distribution -umpy (/opt/anaconda3/lib/python3.9/site-packages)\u001b[0m\r\n",
      "\u001b[33mWARNING: Ignoring invalid distribution -umpy (/opt/anaconda3/lib/python3.9/site-packages)\u001b[0m\r\n"
     ]
    },
    {
     "name": "stdout",
     "output_type": "stream",
     "text": [
      "\u001b[33mWARNING: Ignoring invalid distribution -umpy (/opt/anaconda3/lib/python3.9/site-packages)\u001b[0m\r\n"
     ]
    },
    {
     "name": "stdout",
     "output_type": "stream",
     "text": [
      "\u001b[33mWARNING: Ignoring invalid distribution -umpy (/opt/anaconda3/lib/python3.9/site-packages)\u001b[0m\r\n",
      "Requirement already satisfied: plotly in /opt/anaconda3/lib/python3.9/site-packages (5.11.0)\r\n",
      "Requirement already satisfied: tenacity>=6.2.0 in /opt/anaconda3/lib/python3.9/site-packages (from plotly) (8.1.0)\r\n",
      "\u001b[33mWARNING: Ignoring invalid distribution -umpy (/opt/anaconda3/lib/python3.9/site-packages)\u001b[0m\r\n"
     ]
    },
    {
     "name": "stdout",
     "output_type": "stream",
     "text": [
      "\u001b[33mWARNING: Ignoring invalid distribution -umpy (/opt/anaconda3/lib/python3.9/site-packages)\u001b[0m\r\n",
      "\u001b[33mWARNING: Ignoring invalid distribution -umpy (/opt/anaconda3/lib/python3.9/site-packages)\u001b[0m\r\n",
      "\u001b[33mWARNING: Ignoring invalid distribution -umpy (/opt/anaconda3/lib/python3.9/site-packages)\u001b[0m\r\n"
     ]
    },
    {
     "name": "stdout",
     "output_type": "stream",
     "text": [
      "\u001b[33mWARNING: Ignoring invalid distribution -umpy (/opt/anaconda3/lib/python3.9/site-packages)\u001b[0m\r\n"
     ]
    },
    {
     "name": "stdout",
     "output_type": "stream",
     "text": [
      "\u001b[33mWARNING: Ignoring invalid distribution -umpy (/opt/anaconda3/lib/python3.9/site-packages)\u001b[0m\r\n",
      "Requirement already satisfied: plotly-geo in /opt/anaconda3/lib/python3.9/site-packages (1.0.0)\r\n",
      "\u001b[33mWARNING: Ignoring invalid distribution -umpy (/opt/anaconda3/lib/python3.9/site-packages)\u001b[0m\r\n"
     ]
    },
    {
     "name": "stdout",
     "output_type": "stream",
     "text": [
      "\u001b[33mWARNING: Ignoring invalid distribution -umpy (/opt/anaconda3/lib/python3.9/site-packages)\u001b[0m\r\n",
      "\u001b[33mWARNING: Ignoring invalid distribution -umpy (/opt/anaconda3/lib/python3.9/site-packages)\u001b[0m\r\n",
      "\u001b[33mWARNING: Ignoring invalid distribution -umpy (/opt/anaconda3/lib/python3.9/site-packages)\u001b[0m\r\n"
     ]
    }
   ],
   "source": [
    "get_ipython().system('pip install db-dtypes')\n",
    "get_ipython().system('pip install xgboost')\n",
    "get_ipython().system('pip install impyute')\n",
    "get_ipython().system('pip install prophet')\n",
    "get_ipython().system('pip install plotly')\n",
    "get_ipython().system('pip install plotly-geo')"
   ]
  },
  {
   "cell_type": "code",
   "execution_count": 3,
   "id": "22f91d6f",
   "metadata": {
    "execution": {
     "iopub.execute_input": "2023-05-09T21:20:14.890571Z",
     "iopub.status.busy": "2023-05-09T21:20:14.890446Z",
     "iopub.status.idle": "2023-05-09T21:20:15.393882Z",
     "shell.execute_reply": "2023-05-09T21:20:15.393550Z"
    }
   },
   "outputs": [
    {
     "ename": "ModuleNotFoundError",
     "evalue": "No module named 'plotly'",
     "output_type": "error",
     "traceback": [
      "\u001b[0;31m---------------------------------------------------------------------------\u001b[0m",
      "\u001b[0;31mModuleNotFoundError\u001b[0m                       Traceback (most recent call last)",
      "Cell \u001b[0;32mIn [3], line 8\u001b[0m\n\u001b[1;32m      6\u001b[0m \u001b[38;5;28;01mimport\u001b[39;00m \u001b[38;5;21;01mnumpy\u001b[39;00m \u001b[38;5;28;01mas\u001b[39;00m \u001b[38;5;21;01mnp\u001b[39;00m\n\u001b[1;32m      7\u001b[0m \u001b[38;5;28;01mimport\u001b[39;00m \u001b[38;5;21;01mmatplotlib\u001b[39;00m\u001b[38;5;21;01m.\u001b[39;00m\u001b[38;5;21;01mpyplot\u001b[39;00m \u001b[38;5;28;01mas\u001b[39;00m \u001b[38;5;21;01mplt\u001b[39;00m\n\u001b[0;32m----> 8\u001b[0m \u001b[38;5;28;01mimport\u001b[39;00m \u001b[38;5;21;01mplotly\u001b[39;00m\u001b[38;5;21;01m.\u001b[39;00m\u001b[38;5;21;01mfigure_factory\u001b[39;00m\n",
      "\u001b[0;31mModuleNotFoundError\u001b[0m: No module named 'plotly'"
     ]
    }
   ],
   "source": [
    "import datetime\n",
    "import itertools\n",
    "import os\n",
    "import re\n",
    "import pandas as pd\n",
    "import numpy as np\n",
    "import matplotlib.pyplot as plt\n",
    "import plotly.figure_factory"
   ]
  },
  {
   "cell_type": "code",
   "execution_count": 4,
   "id": "5dd8ef39",
   "metadata": {
    "execution": {
     "iopub.execute_input": "2023-05-09T21:20:15.395541Z",
     "iopub.status.busy": "2023-05-09T21:20:15.395423Z",
     "iopub.status.idle": "2023-05-09T21:20:15.820123Z",
     "shell.execute_reply": "2023-05-09T21:20:15.819872Z"
    }
   },
   "outputs": [
    {
     "ename": "ModuleNotFoundError",
     "evalue": "No module named 'xgboost'",
     "output_type": "error",
     "traceback": [
      "\u001b[0;31m---------------------------------------------------------------------------\u001b[0m",
      "\u001b[0;31mModuleNotFoundError\u001b[0m                       Traceback (most recent call last)",
      "Cell \u001b[0;32mIn [4], line 7\u001b[0m\n\u001b[1;32m      5\u001b[0m \u001b[38;5;28;01mimport\u001b[39;00m \u001b[38;5;21;01msklearn\u001b[39;00m\u001b[38;5;21;01m.\u001b[39;00m\u001b[38;5;21;01mmodel_selection\u001b[39;00m\n\u001b[1;32m      6\u001b[0m \u001b[38;5;28;01mimport\u001b[39;00m \u001b[38;5;21;01msklearn\u001b[39;00m\u001b[38;5;21;01m.\u001b[39;00m\u001b[38;5;21;01mlinear_model\u001b[39;00m\n\u001b[0;32m----> 7\u001b[0m \u001b[38;5;28;01mimport\u001b[39;00m \u001b[38;5;21;01mxgboost\u001b[39;00m \u001b[38;5;28;01mas\u001b[39;00m \u001b[38;5;21;01mxgb\u001b[39;00m\n",
      "\u001b[0;31mModuleNotFoundError\u001b[0m: No module named 'xgboost'"
     ]
    }
   ],
   "source": [
    "import statsmodels.api as sm\n",
    "import sklearn.experimental.enable_iterative_imputer\n",
    "import sklearn.impute\n",
    "import sklearn.ensemble\n",
    "import sklearn.model_selection\n",
    "import sklearn.linear_model\n",
    "import xgboost as xgb"
   ]
  },
  {
   "cell_type": "code",
   "execution_count": 5,
   "id": "13761431",
   "metadata": {
    "execution": {
     "iopub.execute_input": "2023-05-09T21:20:15.821740Z",
     "iopub.status.busy": "2023-05-09T21:20:15.821616Z",
     "iopub.status.idle": "2023-05-09T21:20:15.966965Z",
     "shell.execute_reply": "2023-05-09T21:20:15.966635Z"
    }
   },
   "outputs": [],
   "source": [
    "from google.cloud import bigquery\n",
    "from google.oauth2 import service_account\n",
    "from google.cloud.bigquery import magics"
   ]
  },
  {
   "cell_type": "code",
   "execution_count": 6,
   "id": "6cb6f2e7",
   "metadata": {
    "execution": {
     "iopub.execute_input": "2023-05-09T21:20:15.968686Z",
     "iopub.status.busy": "2023-05-09T21:20:15.968534Z",
     "iopub.status.idle": "2023-05-09T21:20:15.970610Z",
     "shell.execute_reply": "2023-05-09T21:20:15.970377Z"
    },
    "lines_to_next_cell": 1
   },
   "outputs": [],
   "source": [
    "pd.set_option('display.max_columns', 500)\n",
    "pd.set_option('display.max_rows', 500)\n",
    "pd.set_option('display.width', 1000)"
   ]
  },
  {
   "cell_type": "code",
   "execution_count": 7,
   "id": "65b109aa",
   "metadata": {
    "execution": {
     "iopub.execute_input": "2023-05-09T21:20:15.972086Z",
     "iopub.status.busy": "2023-05-09T21:20:15.972004Z",
     "iopub.status.idle": "2023-05-09T21:20:15.974135Z",
     "shell.execute_reply": "2023-05-09T21:20:15.973887Z"
    },
    "lines_to_next_cell": 1
   },
   "outputs": [],
   "source": [
    "# load data\n",
    "def query(table):\n",
    "    bigquery_client = bigquery.Client(project='ironhacks-data')\n",
    "    query_str = f'''\n",
    "SELECT *\n",
    "FROM `ironhacks-data.ironhacks_competition.{table}`\n",
    "'''\n",
    "    query_job = bigquery_client.query(query_str)\n",
    "    data = query_job.to_dataframe()\n",
    "    return data"
   ]
  },
  {
   "cell_type": "code",
   "execution_count": 8,
   "id": "0b5d99ba",
   "metadata": {
    "execution": {
     "iopub.execute_input": "2023-05-09T21:20:15.975485Z",
     "iopub.status.busy": "2023-05-09T21:20:15.975402Z",
     "iopub.status.idle": "2023-05-09T21:20:15.977341Z",
     "shell.execute_reply": "2023-05-09T21:20:15.977119Z"
    },
    "lines_to_next_cell": 1
   },
   "outputs": [],
   "source": [
    "def combine(u, w):\n",
    "    '''\n",
    "    Joins the unemployment data and the wage data on `uu_id`\n",
    "    '''\n",
    "    ww = w.loc[:, ['uu_id', 'average_wage']]\n",
    "    d = u.join(ww.set_index('uu_id'), on='uu_id')\n",
    "    return d"
   ]
  },
  {
   "cell_type": "code",
   "execution_count": 9,
   "id": "1f888f33",
   "metadata": {
    "execution": {
     "iopub.execute_input": "2023-05-09T21:20:15.978734Z",
     "iopub.status.busy": "2023-05-09T21:20:15.978656Z",
     "iopub.status.idle": "2023-05-09T21:20:15.981143Z",
     "shell.execute_reply": "2023-05-09T21:20:15.980932Z"
    },
    "lines_to_next_cell": 1
   },
   "outputs": [],
   "source": [
    "def load_raw(csv_name='0_raw.csv'):\n",
    "    '''\n",
    "    Loads the unemployment and wage data and does some basic cleaning\n",
    "    '''\n",
    "    if not os.path.isfile(csv_name):\n",
    "        u = query('unemployment_data')\n",
    "        w = query('wage_data')\n",
    "        raw = combine(u, w)\n",
    "        raw.to_csv(csv_name, index=False)\n",
    "    else:\n",
    "        raw = pd.read_csv(csv_name)\n",
    "    raw = raw.drop(['tract', 'timeperiod'], axis=1)\n",
    "    raw = raw.sort_values(by=['uu_id', 'week_number'])\n",
    "    raw = raw.drop_duplicates()\n",
    "    raw = raw.replace({np.nan: None})\n",
    "    raw = raw.reset_index(0, drop=True)\n",
    "    return raw"
   ]
  },
  {
   "cell_type": "code",
   "execution_count": 10,
   "id": "022de73a",
   "metadata": {
    "execution": {
     "iopub.execute_input": "2023-05-09T21:20:15.982439Z",
     "iopub.status.busy": "2023-05-09T21:20:15.982360Z",
     "iopub.status.idle": "2023-05-09T21:20:16.129942Z",
     "shell.execute_reply": "2023-05-09T21:20:16.129672Z"
    }
   },
   "outputs": [
    {
     "data": {
      "text/plain": [
       "{'uu_id': '001cd9ae23064d7f0fd3cd327c873d8d',\n",
       " 'week_number': 31,\n",
       " 'countyfips': 18099,\n",
       " 'tract_name': 'Census Tract 201.02, Marshall County, Indiana',\n",
       " 'total_claims': 34,\n",
       " 'edu_8th_or_less': None,\n",
       " 'edu_grades_9_11': 0.0,\n",
       " 'edu_hs_grad_equiv': 30.0,\n",
       " 'edu_post_hs': None,\n",
       " 'edu_unknown': 0.0,\n",
       " 'top_category_employer1': '31-33',\n",
       " 'top_category_employer2': '23',\n",
       " 'top_category_employer3': '81',\n",
       " 'gender_female': None,\n",
       " 'gender_male': None,\n",
       " 'gender_na': 0.0,\n",
       " 'race_amerindian': 0.0,\n",
       " 'race_asian': 0.0,\n",
       " 'race_black': 0.0,\n",
       " 'race_noanswer': 0.0,\n",
       " 'race_hawaiiannative': 0.0,\n",
       " 'race_other': 0.0,\n",
       " 'race_white': 34.0,\n",
       " 'average_wage': 10484.333333333334}"
      ]
     },
     "execution_count": 10,
     "metadata": {},
     "output_type": "execute_result"
    }
   ],
   "source": [
    "load_raw().to_dict('records')[0]"
   ]
  },
  {
   "cell_type": "code",
   "execution_count": 11,
   "id": "56db3b2f",
   "metadata": {
    "execution": {
     "iopub.execute_input": "2023-05-09T21:20:16.131420Z",
     "iopub.status.busy": "2023-05-09T21:20:16.131339Z",
     "iopub.status.idle": "2023-05-09T21:20:16.133373Z",
     "shell.execute_reply": "2023-05-09T21:20:16.133143Z"
    },
    "lines_to_next_cell": 1
   },
   "outputs": [],
   "source": [
    "# define relevant columns based on categories \n",
    "COL_MAP = {\n",
    "    'edu': ['edu_8th_or_less', 'edu_grades_9_11', 'edu_hs_grad_equiv', 'edu_post_hs', 'edu_unknown'],\n",
    "    'race': ['race_amerindian', 'race_asian', 'race_black', 'race_noanswer', 'race_hawaiiannative', 'race_other', 'race_white'],    \n",
    "    'gender': ['gender_female', 'gender_male', 'gender_na'],\n",
    "    'industry': ['top_category_employer1', 'top_category_employer2', 'top_category_employer3']        \n",
    "}"
   ]
  },
  {
   "cell_type": "code",
   "execution_count": 12,
   "id": "ec857bd6",
   "metadata": {
    "execution": {
     "iopub.execute_input": "2023-05-09T21:20:16.134724Z",
     "iopub.status.busy": "2023-05-09T21:20:16.134624Z",
     "iopub.status.idle": "2023-05-09T21:20:16.136419Z",
     "shell.execute_reply": "2023-05-09T21:20:16.136187Z"
    },
    "lines_to_next_cell": 1
   },
   "outputs": [],
   "source": [
    "def get_cols(names):\n",
    "    l = []\n",
    "    for name in names:\n",
    "        if name in COL_MAP:\n",
    "            l += COL_MAP[name]\n",
    "        else:\n",
    "            l += [name]\n",
    "    return l"
   ]
  },
  {
   "cell_type": "code",
   "execution_count": 13,
   "id": "637dff23",
   "metadata": {
    "execution": {
     "iopub.execute_input": "2023-05-09T21:20:16.137695Z",
     "iopub.status.busy": "2023-05-09T21:20:16.137616Z",
     "iopub.status.idle": "2023-05-09T21:20:16.139348Z",
     "shell.execute_reply": "2023-05-09T21:20:16.139110Z"
    },
    "lines_to_next_cell": 1
   },
   "outputs": [],
   "source": [
    "def subset(df, uu_id):        \n",
    "    return df.loc[df.uu_id == df.uu_id.unique()[uu_id], :]"
   ]
  },
  {
   "cell_type": "code",
   "execution_count": 14,
   "id": "41cc9304",
   "metadata": {
    "execution": {
     "iopub.execute_input": "2023-05-09T21:20:16.140689Z",
     "iopub.status.busy": "2023-05-09T21:20:16.140607Z",
     "iopub.status.idle": "2023-05-09T21:20:16.142796Z",
     "shell.execute_reply": "2023-05-09T21:20:16.142575Z"
    },
    "lines_to_next_cell": 1
   },
   "outputs": [],
   "source": [
    "def convert_to_submission(results_csv, week_number_to_submit=40):\n",
    "    r = pd.read_csv(results_csv)\n",
    "    last = r.loc[r.week_number == week_number_to_submit, ['uu_id', 'predicted']]\n",
    "    last.index = last.uu_id\n",
    "    uuid_map = last.to_dict(orient='dict')['predicted']\n",
    "    p = query('prediction_list')\n",
    "    p['total_claims'] = p['uu_id'].map(uuid_map)\n",
    "    p.to_csv('submission_prediction_output.csv', index=False)"
   ]
  },
  {
   "cell_type": "code",
   "execution_count": 15,
   "id": "b39d0fca",
   "metadata": {
    "execution": {
     "iopub.execute_input": "2023-05-09T21:20:16.144060Z",
     "iopub.status.busy": "2023-05-09T21:20:16.143988Z",
     "iopub.status.idle": "2023-05-09T21:20:16.145797Z",
     "shell.execute_reply": "2023-05-09T21:20:16.145564Z"
    },
    "lines_to_next_cell": 1
   },
   "outputs": [],
   "source": [
    "def get_week_number_map(g, colname):\n",
    "    '''\n",
    "    Creates a dictionary that maps from week number to an existing value in a given `colname`\n",
    "    '''\n",
    "    g = g[['week_number', colname]]\n",
    "    week_number_map = dict(sorted(g.values.tolist()))\n",
    "    return week_number_map"
   ]
  },
  {
   "cell_type": "code",
   "execution_count": 16,
   "id": "d1fc7e34",
   "metadata": {
    "execution": {
     "iopub.execute_input": "2023-05-09T21:20:16.147181Z",
     "iopub.status.busy": "2023-05-09T21:20:16.147098Z",
     "iopub.status.idle": "2023-05-09T21:20:16.148854Z",
     "shell.execute_reply": "2023-05-09T21:20:16.148619Z"
    },
    "lines_to_next_cell": 1
   },
   "outputs": [],
   "source": [
    "def get_county(tract_name):\n",
    "    m = re.search('Census Tract \\S+, (.+) County, Indiana', tract_name)\n",
    "    county = m.group(1)\n",
    "    return county"
   ]
  },
  {
   "cell_type": "code",
   "execution_count": 17,
   "id": "201c148f",
   "metadata": {
    "execution": {
     "iopub.execute_input": "2023-05-09T21:20:16.150167Z",
     "iopub.status.busy": "2023-05-09T21:20:16.150084Z",
     "iopub.status.idle": "2023-05-09T21:20:16.151907Z",
     "shell.execute_reply": "2023-05-09T21:20:16.151639Z"
    },
    "lines_to_next_cell": 1
   },
   "outputs": [],
   "source": [
    "def week_number_to_date(week_number, first_week_date='20220101'):\n",
    "    '''\n",
    "    Prepare a date column for ARIMA\n",
    "    '''\n",
    "    return pd.to_datetime(first_week_date, format='%Y%m%d') + pd.DateOffset(days=7*(week_number - 1))"
   ]
  },
  {
   "cell_type": "code",
   "execution_count": 18,
   "id": "90a42d9d",
   "metadata": {
    "execution": {
     "iopub.execute_input": "2023-05-09T21:20:16.153181Z",
     "iopub.status.busy": "2023-05-09T21:20:16.153097Z",
     "iopub.status.idle": "2023-05-09T21:20:16.155898Z",
     "shell.execute_reply": "2023-05-09T21:20:16.155651Z"
    },
    "lines_to_next_cell": 1
   },
   "outputs": [],
   "source": [
    "def insert_na_week_number(g, max_week_number=37):    \n",
    "    d = {}\n",
    "    for colname in g.columns:\n",
    "        if colname == 'week_number':\n",
    "            continue\n",
    "        week_number_map = get_week_number_map(g, colname)\n",
    "        series = pd.Series(range(1, max_week_number+1))        \n",
    "        d[colname] = series.map(week_number_map)        \n",
    "        \n",
    "    df = pd.DataFrame(d)\n",
    "    df['week_number'] = range(1, max_week_number+1)\n",
    "    df['uu_id'] = [v for v in df['uu_id'].unique() if type(v) == str][0]\n",
    "    df['average_wage'] = [v for v in g['average_wage'].unique()][0]\n",
    "    df['countyfips'] = [v for v in g['countyfips'].unique()][0]\n",
    "    df['county'] = get_county([v for v in g['tract_name'].unique()][0])\n",
    "    return df"
   ]
  },
  {
   "cell_type": "code",
   "execution_count": 19,
   "id": "68f1db7a",
   "metadata": {
    "execution": {
     "iopub.execute_input": "2023-05-09T21:20:16.157199Z",
     "iopub.status.busy": "2023-05-09T21:20:16.157116Z",
     "iopub.status.idle": "2023-05-09T21:20:16.159403Z",
     "shell.execute_reply": "2023-05-09T21:20:16.159181Z"
    },
    "lines_to_next_cell": 1
   },
   "outputs": [],
   "source": [
    "def load_raw_full(csv_name='1_raw_full.csv'):\n",
    "    if not os.path.isfile(csv_name):\n",
    "        raw = load_raw()\n",
    "        raw_full = raw.groupby('uu_id').apply(insert_na_week_number).reset_index(0, drop=True)\n",
    "        raw_full['date'] = raw_full['week_number'].apply(week_number_to_date)\n",
    "        raw_full = raw_full.drop(['tract_name'], axis=1)\n",
    "        raw_full.to_csv(csv_name, index=False)        \n",
    "    else:\n",
    "        raw_full = pd.read_csv(csv_name)\n",
    "    return raw_full"
   ]
  },
  {
   "cell_type": "code",
   "execution_count": 20,
   "id": "b8e72561",
   "metadata": {
    "execution": {
     "iopub.execute_input": "2023-05-09T21:20:16.160677Z",
     "iopub.status.busy": "2023-05-09T21:20:16.160601Z",
     "iopub.status.idle": "2023-05-09T21:20:16.316664Z",
     "shell.execute_reply": "2023-05-09T21:20:16.316407Z"
    },
    "lines_to_next_cell": 1
   },
   "outputs": [
    {
     "data": {
      "text/plain": [
       "{'uu_id': '001cd9ae23064d7f0fd3cd327c873d8d',\n",
       " 'total_claims': nan,\n",
       " 'edu_8th_or_less': nan,\n",
       " 'edu_grades_9_11': nan,\n",
       " 'edu_hs_grad_equiv': nan,\n",
       " 'edu_post_hs': nan,\n",
       " 'edu_unknown': nan,\n",
       " 'top_category_employer1': nan,\n",
       " 'top_category_employer2': nan,\n",
       " 'top_category_employer3': nan,\n",
       " 'gender_female': nan,\n",
       " 'gender_male': nan,\n",
       " 'gender_na': nan,\n",
       " 'race_amerindian': nan,\n",
       " 'race_asian': nan,\n",
       " 'race_black': nan,\n",
       " 'race_noanswer': nan,\n",
       " 'race_hawaiiannative': nan,\n",
       " 'race_other': nan,\n",
       " 'race_white': nan,\n",
       " 'average_wage': 10484.333333333334,\n",
       " 'week_number': 1,\n",
       " 'date': '2022-01-01'}"
      ]
     },
     "execution_count": 20,
     "metadata": {},
     "output_type": "execute_result"
    }
   ],
   "source": [
    "load_raw_full().to_dict('records')[0]"
   ]
  },
  {
   "cell_type": "code",
   "execution_count": 21,
   "id": "d9fc6623",
   "metadata": {
    "execution": {
     "iopub.execute_input": "2023-05-09T21:20:16.318076Z",
     "iopub.status.busy": "2023-05-09T21:20:16.317991Z",
     "iopub.status.idle": "2023-05-09T21:20:16.320725Z",
     "shell.execute_reply": "2023-05-09T21:20:16.320483Z"
    },
    "lines_to_next_cell": 1
   },
   "outputs": [],
   "source": [
    "def plot_impute(n=6):\n",
    "    raw = load_raw_full()\n",
    "    imp = load_imp_tot()\n",
    "    fig, axs = plt.subplots(ncols=n, sharey=False, figsize=(n*3, 3))\n",
    "    for i in range(n):\n",
    "        rraw = subset(raw, i)\n",
    "        iimp = subset(imp, i)\n",
    "        ax = axs[i]\n",
    "        ax.plot(rraw.week_number, rraw.total_claims, 'o', label='original')\n",
    "        ax.plot(iimp.week_number, iimp.total_claims, '-', label='imputed')\n",
    "        ax.set_xlim(0, 42)\n",
    "    axs[-1].legend(fancybox=False)"
   ]
  },
  {
   "cell_type": "code",
   "execution_count": 22,
   "id": "2a5eba45",
   "metadata": {
    "execution": {
     "iopub.execute_input": "2023-05-09T21:20:16.322058Z",
     "iopub.status.busy": "2023-05-09T21:20:16.321974Z",
     "iopub.status.idle": "2023-05-09T21:20:16.323868Z",
     "shell.execute_reply": "2023-05-09T21:20:16.323640Z"
    },
    "lines_to_next_cell": 1
   },
   "outputs": [],
   "source": [
    "def imp_tot(g):\n",
    "    g['total_claims'] = g['total_claims'].interpolate(method='linear')\n",
    "    g = g[g['total_claims'].notna()]\n",
    "    return g"
   ]
  },
  {
   "cell_type": "code",
   "execution_count": 23,
   "id": "1c66de79",
   "metadata": {
    "execution": {
     "iopub.execute_input": "2023-05-09T21:20:16.325207Z",
     "iopub.status.busy": "2023-05-09T21:20:16.325121Z",
     "iopub.status.idle": "2023-05-09T21:20:16.327108Z",
     "shell.execute_reply": "2023-05-09T21:20:16.326875Z"
    },
    "lines_to_next_cell": 1
   },
   "outputs": [],
   "source": [
    "def load_imp_tot(csv_name='2_imp_tot.csv'):\n",
    "    if not os.path.isfile(csv_name):\n",
    "        d = load_raw_full()\n",
    "        d = d.groupby(['uu_id']).apply(imp_tot).reset_index(0, drop=True)\n",
    "        d.to_csv(csv_name, index=False)\n",
    "    else:\n",
    "        d = pd.read_csv(csv_name)\n",
    "    return d"
   ]
  },
  {
   "cell_type": "code",
   "execution_count": 24,
   "id": "9ce9596f",
   "metadata": {
    "execution": {
     "iopub.execute_input": "2023-05-09T21:20:16.328394Z",
     "iopub.status.busy": "2023-05-09T21:20:16.328309Z",
     "iopub.status.idle": "2023-05-09T21:20:16.607489Z",
     "shell.execute_reply": "2023-05-09T21:20:16.607151Z"
    },
    "lines_to_next_cell": 1
   },
   "outputs": [
    {
     "data": {
      "image/png": "[encoded data removed]",
      "text/plain": [
       "<Figure size 1800x300 with 6 Axes>"
      ]
     },
     "metadata": {},
     "output_type": "display_data"
    }
   ],
   "source": [
    "plot_impute()"
   ]
  },
  {
   "cell_type": "code",
   "execution_count": 25,
   "id": "ef4fae53",
   "metadata": {
    "execution": {
     "iopub.execute_input": "2023-05-09T21:20:16.609265Z",
     "iopub.status.busy": "2023-05-09T21:20:16.609145Z",
     "iopub.status.idle": "2023-05-09T21:20:16.611385Z",
     "shell.execute_reply": "2023-05-09T21:20:16.611127Z"
    },
    "lines_to_next_cell": 1
   },
   "outputs": [],
   "source": [
    "def replace_na_cols(g):\n",
    "    '''\n",
    "    If a column only has None or zero values, replace that entire columnn with zeros\n",
    "    '''\n",
    "    x = g.copy()\n",
    "    for col in g.columns:\n",
    "        cond1 = g[col].isnull()\n",
    "        cond2 = g[col] == 0\n",
    "        if (cond1 | cond2).all():\n",
    "            x[col] = 0        \n",
    "    return x"
   ]
  },
  {
   "cell_type": "code",
   "execution_count": 26,
   "id": "44bd8b88",
   "metadata": {
    "execution": {
     "iopub.execute_input": "2023-05-09T21:20:16.612738Z",
     "iopub.status.busy": "2023-05-09T21:20:16.612637Z",
     "iopub.status.idle": "2023-05-09T21:20:16.614802Z",
     "shell.execute_reply": "2023-05-09T21:20:16.614560Z"
    },
    "lines_to_next_cell": 1
   },
   "outputs": [],
   "source": [
    "def impute_iterative(df):\n",
    "    '''\n",
    "    Wrapper fucntion for IterativeImputer for a generic data frame. \n",
    "    Mostly, for testing. We might need need this function\n",
    "    Impute data assuming there are zero columns where all the values are NA\n",
    "    '''\n",
    "    imputer = sklearn.impute.IterativeImputer(random_state=0, min_value=0)\n",
    "    imputed_cols = imputer.fit_transform(df)\n",
    "    df_imputed = pd.DataFrame(imputed_cols, columns=df.columns)\n",
    "    return df_imputed"
   ]
  },
  {
   "cell_type": "code",
   "execution_count": 27,
   "id": "ebd7b614",
   "metadata": {
    "execution": {
     "iopub.execute_input": "2023-05-09T21:20:16.616188Z",
     "iopub.status.busy": "2023-05-09T21:20:16.616084Z",
     "iopub.status.idle": "2023-05-09T21:20:16.618156Z",
     "shell.execute_reply": "2023-05-09T21:20:16.617887Z"
    },
    "lines_to_next_cell": 1
   },
   "outputs": [],
   "source": [
    "def iter_cat(g):\n",
    "    g = replace_na_cols(g)    \n",
    "    for cat in ['edu', 'race', 'gender']:\n",
    "        gg = g.loc[:, COL_MAP[cat] + ['total_claims']]\n",
    "        yield cat, gg"
   ]
  },
  {
   "cell_type": "code",
   "execution_count": 28,
   "id": "77b680c1",
   "metadata": {
    "execution": {
     "iopub.execute_input": "2023-05-09T21:20:16.619612Z",
     "iopub.status.busy": "2023-05-09T21:20:16.619507Z",
     "iopub.status.idle": "2023-05-09T21:20:16.621589Z",
     "shell.execute_reply": "2023-05-09T21:20:16.621341Z"
    },
    "lines_to_next_cell": 1
   },
   "outputs": [],
   "source": [
    "def print_impute_cat(test_subset, impute_func):\n",
    "    for cat, gg in iter_cat(test_subset):\n",
    "        line = '*'*len(cat)\n",
    "        print(line)\n",
    "        print(cat)\n",
    "        print(line)\n",
    "        print(impute_func(gg).head())"
   ]
  },
  {
   "cell_type": "code",
   "execution_count": 29,
   "id": "b6afdcf2",
   "metadata": {
    "execution": {
     "iopub.execute_input": "2023-05-09T21:20:16.622994Z",
     "iopub.status.busy": "2023-05-09T21:20:16.622882Z",
     "iopub.status.idle": "2023-05-09T21:20:16.680669Z",
     "shell.execute_reply": "2023-05-09T21:20:16.680366Z"
    },
    "lines_to_next_cell": 1
   },
   "outputs": [
    {
     "name": "stdout",
     "output_type": "stream",
     "text": [
      "***\n",
      "edu\n",
      "***\n",
      "   edu_8th_or_less  edu_grades_9_11  edu_hs_grad_equiv  edu_post_hs  edu_unknown  total_claims\n",
      "0              0.0              0.0          10.355547         21.0          0.0     17.000000\n",
      "1              0.0              0.0          11.000000         21.0          0.0     25.000000\n",
      "2              0.0              0.0          23.000000         21.0          0.0     32.000000\n",
      "3              0.0              0.0          17.446254         21.0          0.0     24.858612\n",
      "4              0.0              0.0          12.000000         21.0          0.0     20.000000\n",
      "****\n",
      "race\n",
      "****\n",
      "   race_amerindian  race_asian  race_black  race_noanswer  race_hawaiiannative  race_other  race_white  total_claims\n",
      "0              0.0         0.0   12.236978            0.0                  0.0         0.0    2.225134     17.000000\n",
      "1              0.0         0.0   21.000000            0.0                  0.0         0.0    1.868450     25.000000\n",
      "2              0.0         0.0   27.389486            0.0                  0.0         0.0    2.306723     32.000000\n",
      "3              0.0         0.0   20.175490            0.0                  0.0         0.0    2.267879     24.858612\n",
      "4              0.0         0.0   19.085491            0.0                  0.0         0.0    0.000000     20.000000\n",
      "******\n",
      "gender\n",
      "******\n",
      "   gender_female  gender_male  gender_na  total_claims\n",
      "0      12.751407     4.248594        0.0     17.000000\n",
      "1      12.750807    12.249195        0.0     25.000000\n",
      "2      18.000000    14.000007        0.0     32.000000\n",
      "3      12.750818    12.107796        0.0     24.858612\n",
      "4      12.751182     7.248820        0.0     20.000000\n"
     ]
    }
   ],
   "source": [
    "print_impute_cat(subset(load_imp_tot(), 6), impute_iterative)"
   ]
  },
  {
   "cell_type": "code",
   "execution_count": 30,
   "id": "2e5db720",
   "metadata": {
    "execution": {
     "iopub.execute_input": "2023-05-09T21:20:16.682193Z",
     "iopub.status.busy": "2023-05-09T21:20:16.682097Z",
     "iopub.status.idle": "2023-05-09T21:20:16.686156Z",
     "shell.execute_reply": "2023-05-09T21:20:16.685838Z"
    },
    "lines_to_next_cell": 1
   },
   "outputs": [],
   "source": [
    "def impute_rowsum(df, target_col='total_claims'):\n",
    "    l = []\n",
    "    for idx, row in df.iterrows():\n",
    "        n_unknowns = row.isna().sum()        \n",
    "        if n_unknowns == 1:\n",
    "            others = row[~row.isna() & (row.index != target_col)]\n",
    "            val = row[target_col] - others.sum()\n",
    "            val = val if val > 0 else 0\n",
    "            row[row.isna()] = val\n",
    "        l.append(row)\n",
    "    df = pd.DataFrame(l).reset_index(0, drop=True)\n",
    "    \n",
    "    l = []\n",
    "    for idx, row in df.iterrows():\n",
    "        n_unknowns = row.isna().sum()        \n",
    "        \n",
    "        weights = {}\n",
    "        for col in row[row.isna()].index:\n",
    "            weights[col] = df[col].mean()\n",
    "        weights = {k:v/sum(weights.values()) for k, v in weights.items()}       \n",
    "        \n",
    "        if n_unknowns > 1:            \n",
    "            others = row[~row.isna() & (row.index != target_col)]\n",
    "            row[row.isna()] = row[row.isna()].index.map(weights)*(row[target_col] - others.sum())            \n",
    "        l.append(row)\n",
    "        \n",
    "    df_imputed = pd.DataFrame(l).reset_index(0, drop=True)\n",
    "    return df_imputed"
   ]
  },
  {
   "cell_type": "code",
   "execution_count": 31,
   "id": "2eb91045",
   "metadata": {
    "execution": {
     "iopub.execute_input": "2023-05-09T21:20:16.687566Z",
     "iopub.status.busy": "2023-05-09T21:20:16.687476Z",
     "iopub.status.idle": "2023-05-09T21:20:16.799052Z",
     "shell.execute_reply": "2023-05-09T21:20:16.798791Z"
    },
    "lines_to_next_cell": 1
   },
   "outputs": [
    {
     "name": "stdout",
     "output_type": "stream",
     "text": [
      "***\n",
      "edu\n",
      "***\n",
      "   edu_8th_or_less  edu_grades_9_11  edu_hs_grad_equiv  edu_post_hs  edu_unknown  total_claims\n",
      "0              0.0              0.0          13.113065     3.886935          0.0     17.000000\n",
      "1              0.0              0.0          11.000000    14.000000          0.0     25.000000\n",
      "2              0.0              0.0          23.000000     9.000000          0.0     32.000000\n",
      "3              0.0              0.0          19.174859     5.683753          0.0     24.858612\n",
      "4              0.0              0.0          12.000000     8.000000          0.0     20.000000\n",
      "****\n",
      "race\n",
      "****\n",
      "   race_amerindian  race_asian  race_black  race_noanswer  race_hawaiiannative  race_other  race_white  total_claims\n",
      "0              0.0         0.0   15.266990            0.0                  0.0         0.0    1.733010     17.000000\n",
      "1              0.0         0.0   21.000000            0.0                  0.0         0.0    4.000000     25.000000\n",
      "2              0.0         0.0   28.737864            0.0                  0.0         0.0    3.262136     32.000000\n",
      "3              0.0         0.0   22.324482            0.0                  0.0         0.0    2.534130     24.858612\n",
      "4              0.0         0.0   20.000000            0.0                  0.0         0.0    0.000000     20.000000\n",
      "******\n",
      "gender\n",
      "******\n",
      "   gender_female  gender_male  gender_na  total_claims\n",
      "0       6.062937    10.937063        0.0     17.000000\n",
      "1       8.916084    16.083916        0.0     25.000000\n",
      "2      18.000000    14.000000        0.0     32.000000\n",
      "3       8.865659    15.992953        0.0     24.858612\n",
      "4       7.132867    12.867133        0.0     20.000000\n"
     ]
    }
   ],
   "source": [
    "print_impute_cat(subset(load_imp_tot(), 6), impute_rowsum)"
   ]
  },
  {
   "cell_type": "code",
   "execution_count": 32,
   "id": "542484f0",
   "metadata": {
    "execution": {
     "iopub.execute_input": "2023-05-09T21:20:16.800566Z",
     "iopub.status.busy": "2023-05-09T21:20:16.800465Z",
     "iopub.status.idle": "2023-05-09T21:20:16.802752Z",
     "shell.execute_reply": "2023-05-09T21:20:16.802499Z"
    },
    "lines_to_next_cell": 1
   },
   "outputs": [],
   "source": [
    "def impute_all(df):\n",
    "    x = df.copy().reset_index(0, drop=True)\n",
    "    for cat, gg in iter_cat(df):\n",
    "        df_imputed = impute_rowsum(gg)\n",
    "        df_imputed = df_imputed.drop('total_claims', axis=1)\n",
    "        x[COL_MAP[cat]] = df_imputed\n",
    "    return x"
   ]
  },
  {
   "cell_type": "code",
   "execution_count": 33,
   "id": "5a467875",
   "metadata": {
    "execution": {
     "iopub.execute_input": "2023-05-09T21:20:16.804206Z",
     "iopub.status.busy": "2023-05-09T21:20:16.804118Z",
     "iopub.status.idle": "2023-05-09T21:20:16.806281Z",
     "shell.execute_reply": "2023-05-09T21:20:16.806064Z"
    },
    "lines_to_next_cell": 1
   },
   "outputs": [],
   "source": [
    "def load_clean(csv_name='3_clean.csv'):    \n",
    "    if not os.path.isfile(csv_name):\n",
    "        imp_tot = load_imp_tot()\n",
    "        imp = imp_tot.groupby('uu_id').apply(impute_all).reset_index(0, drop=True)\n",
    "        imp['date'] = imp['week_number'].apply(week_number_to_date)\n",
    "        imp.to_csv(csv_name, index=False)\n",
    "    else:\n",
    "        imp = pd.read_csv(csv_name)\n",
    "    \n",
    "    return imp"
   ]
  },
  {
   "cell_type": "code",
   "execution_count": 34,
   "id": "940ffdb6",
   "metadata": {
    "execution": {
     "iopub.execute_input": "2023-05-09T21:20:16.807682Z",
     "iopub.status.busy": "2023-05-09T21:20:16.807601Z",
     "iopub.status.idle": "2023-05-09T21:20:16.974900Z",
     "shell.execute_reply": "2023-05-09T21:20:16.974625Z"
    },
    "lines_to_next_cell": 1
   },
   "outputs": [
    {
     "data": {
      "text/plain": [
       "{'uu_id': '001cd9ae23064d7f0fd3cd327c873d8d',\n",
       " 'total_claims': 104.32359001448832,\n",
       " 'edu_8th_or_less': 0.0,\n",
       " 'edu_grades_9_11': 0.0,\n",
       " 'edu_hs_grad_equiv': 104.32359001448832,\n",
       " 'edu_post_hs': 0.0,\n",
       " 'edu_unknown': 0.0,\n",
       " 'top_category_employer1': nan,\n",
       " 'top_category_employer2': nan,\n",
       " 'top_category_employer3': nan,\n",
       " 'gender_female': 0.0,\n",
       " 'gender_male': 104.32359001448832,\n",
       " 'gender_na': 0.0,\n",
       " 'race_amerindian': 0.0,\n",
       " 'race_asian': 0.0,\n",
       " 'race_black': 0.0,\n",
       " 'race_noanswer': 0.0,\n",
       " 'race_hawaiiannative': 0.0,\n",
       " 'race_other': 0.0,\n",
       " 'race_white': 104.32359001448832,\n",
       " 'average_wage': 10484.333333333334,\n",
       " 'week_number': 1,\n",
       " 'date': '2022-01-01'}"
      ]
     },
     "execution_count": 34,
     "metadata": {},
     "output_type": "execute_result"
    }
   ],
   "source": [
    "load_clean().to_dict('records')[0]"
   ]
  },
  {
   "cell_type": "code",
   "execution_count": 35,
   "id": "c4feacc3",
   "metadata": {
    "execution": {
     "iopub.execute_input": "2023-05-09T21:20:16.976297Z",
     "iopub.status.busy": "2023-05-09T21:20:16.976214Z",
     "iopub.status.idle": "2023-05-09T21:20:16.979404Z",
     "shell.execute_reply": "2023-05-09T21:20:16.979177Z"
    },
    "lines_to_next_cell": 1
   },
   "outputs": [],
   "source": [
    "def impute_logistic(g, ycol):\n",
    "    g = g[[ycol, 'week_number', 'total_claims']]\n",
    "    xcols = ['week_number', 'total_claims']\n",
    "    ycols = [ycol]\n",
    "    \n",
    "    mask_train = ~g[ycol].isnull()\n",
    "    x_train, x_test = g.loc[mask_train, xcols], g.loc[~mask_train, xcols]\n",
    "    y_train, y_test = g.loc[mask_train, ycols], g.loc[~mask_train, ycols]\n",
    "    \n",
    "    if y_train.shape[0] == 0:\n",
    "        g[ycol] = None\n",
    "        return g[ycol]\n",
    "    \n",
    "    classes = y_train[ycol].unique()\n",
    "    if len(classes) == 1:\n",
    "        yhat = [classes[0]]\n",
    "    else:\n",
    "        model = sklearn.linear_model.LogisticRegression(multi_class='multinomial', solver='lbfgs', max_iter=10000).fit(x_train, y_train.values.ravel())\n",
    "        yhat = model.predict(x_test)\n",
    "    g.loc[~mask_train, ycols] = yhat\n",
    "    return g[ycol]"
   ]
  },
  {
   "cell_type": "code",
   "execution_count": 36,
   "id": "a8a37e6e",
   "metadata": {
    "execution": {
     "iopub.execute_input": "2023-05-09T21:20:16.980704Z",
     "iopub.status.busy": "2023-05-09T21:20:16.980618Z",
     "iopub.status.idle": "2023-05-09T21:20:16.982555Z",
     "shell.execute_reply": "2023-05-09T21:20:16.982303Z"
    },
    "lines_to_next_cell": 1
   },
   "outputs": [],
   "source": [
    "def impute_industry(g, max_week_number=37):\n",
    "    g = g.loc[g.week_number <= max_week_number, :]\n",
    "    x = g.copy()\n",
    "    for colname in COL_MAP['industry']:\n",
    "        x[colname] = impute_logistic(g, colname)\n",
    "    return x"
   ]
  },
  {
   "cell_type": "code",
   "execution_count": 37,
   "id": "e66c5f61",
   "metadata": {
    "execution": {
     "iopub.execute_input": "2023-05-09T21:20:16.983873Z",
     "iopub.status.busy": "2023-05-09T21:20:16.983792Z",
     "iopub.status.idle": "2023-05-09T21:20:16.985828Z",
     "shell.execute_reply": "2023-05-09T21:20:16.985612Z"
    },
    "lines_to_next_cell": 1
   },
   "outputs": [],
   "source": [
    "def load_imp_industry(csv_name='4_imp_industry.csv'):\n",
    "    if not os.path.isfile(csv_name):\n",
    "        d = load_clean()\n",
    "        d = d.groupby('uu_id').apply(impute_industry).reset_index(0, drop=True)\n",
    "        d.to_csv(csv_name, index=False)\n",
    "    else:\n",
    "        d = pd.read_csv(csv_name)\n",
    "    return d"
   ]
  },
  {
   "cell_type": "code",
   "execution_count": 38,
   "id": "61a7a087",
   "metadata": {
    "execution": {
     "iopub.execute_input": "2023-05-09T21:20:16.987126Z",
     "iopub.status.busy": "2023-05-09T21:20:16.987043Z",
     "iopub.status.idle": "2023-05-09T21:20:17.020953Z",
     "shell.execute_reply": "2023-05-09T21:20:17.020687Z"
    },
    "lines_to_next_cell": 1
   },
   "outputs": [
    {
     "data": {
      "text/plain": [
       "uu_id                     0\n",
       "total_claims              0\n",
       "edu_8th_or_less           0\n",
       "edu_grades_9_11           0\n",
       "edu_hs_grad_equiv         0\n",
       "edu_post_hs               0\n",
       "edu_unknown               0\n",
       "top_category_employer1    0\n",
       "top_category_employer2    0\n",
       "top_category_employer3    0\n",
       "gender_female             0\n",
       "gender_male               0\n",
       "gender_na                 0\n",
       "race_amerindian           0\n",
       "race_asian                0\n",
       "race_black                0\n",
       "race_noanswer             0\n",
       "race_hawaiiannative       0\n",
       "race_other                0\n",
       "race_white                0\n",
       "average_wage              0\n",
       "week_number               0\n",
       "date                      0\n",
       "dtype: int64"
      ]
     },
     "execution_count": 38,
     "metadata": {},
     "output_type": "execute_result"
    }
   ],
   "source": [
    "load_imp_industry().isna().sum()"
   ]
  },
  {
   "cell_type": "code",
   "execution_count": 39,
   "id": "3285b88f",
   "metadata": {
    "execution": {
     "iopub.execute_input": "2023-05-09T21:20:17.022381Z",
     "iopub.status.busy": "2023-05-09T21:20:17.022297Z",
     "iopub.status.idle": "2023-05-09T21:20:17.024556Z",
     "shell.execute_reply": "2023-05-09T21:20:17.024341Z"
    },
    "lines_to_next_cell": 1
   },
   "outputs": [],
   "source": [
    "def feature_engineer(d):\n",
    "    d['gender_male_ratio'] = d['gender_male'] / d['total_claims']\n",
    "    d['edu_post_hs_ratio'] = d['edu_post_hs'] / d['total_claims']\n",
    "    d['race_white_ratio'] = d['race_white'] / d['total_claims']\n",
    "    d['race_black_ratio'] = d['race_black'] / d['total_claims']\n",
    "    d = d.drop(get_cols(['gender', 'edu', 'race']), axis=1)\n",
    "    return d"
   ]
  },
  {
   "cell_type": "code",
   "execution_count": 40,
   "id": "26648413",
   "metadata": {
    "execution": {
     "iopub.execute_input": "2023-05-09T21:20:17.025850Z",
     "iopub.status.busy": "2023-05-09T21:20:17.025771Z",
     "iopub.status.idle": "2023-05-09T21:20:17.027705Z",
     "shell.execute_reply": "2023-05-09T21:20:17.027453Z"
    },
    "lines_to_next_cell": 1
   },
   "outputs": [],
   "source": [
    "def load_featured(csv_name='5_featured.csv'):\n",
    "    if not os.path.isfile(csv_name):\n",
    "        d = load_imp_industry()\n",
    "        d = feature_engineer(d)\n",
    "    else:\n",
    "        d = pd.read_csv(csv_name)\n",
    "    return d"
   ]
  },
  {
   "cell_type": "code",
   "execution_count": 41,
   "id": "15dd9947",
   "metadata": {
    "execution": {
     "iopub.execute_input": "2023-05-09T21:20:17.029068Z",
     "iopub.status.busy": "2023-05-09T21:20:17.028985Z",
     "iopub.status.idle": "2023-05-09T21:20:17.124810Z",
     "shell.execute_reply": "2023-05-09T21:20:17.124540Z"
    },
    "lines_to_next_cell": 1
   },
   "outputs": [
    {
     "data": {
      "text/plain": [
       "{'uu_id': '001cd9ae23064d7f0fd3cd327c873d8d',\n",
       " 'total_claims': 104.32359001448832,\n",
       " 'top_category_employer1': '31-33',\n",
       " 'top_category_employer2': '23',\n",
       " 'top_category_employer3': '81',\n",
       " 'average_wage': 10484.333333333334,\n",
       " 'week_number': 1,\n",
       " 'date': '2022-01-01',\n",
       " 'gender_male_ratio': 1.0,\n",
       " 'edu_post_hs_ratio': 0.0,\n",
       " 'race_white_ratio': 1.0,\n",
       " 'race_black_ratio': 0.0}"
      ]
     },
     "execution_count": 41,
     "metadata": {},
     "output_type": "execute_result"
    }
   ],
   "source": [
    "load_featured().to_dict('records')[0]"
   ]
  },
  {
   "cell_type": "code",
   "execution_count": 42,
   "id": "00c6e39c",
   "metadata": {
    "execution": {
     "iopub.execute_input": "2023-05-09T21:20:17.126206Z",
     "iopub.status.busy": "2023-05-09T21:20:17.126121Z",
     "iopub.status.idle": "2023-05-09T21:20:17.128493Z",
     "shell.execute_reply": "2023-05-09T21:20:17.128253Z"
    },
    "lines_to_next_cell": 1
   },
   "outputs": [],
   "source": [
    "def get_tot_by_county(d):\n",
    "    l = []\n",
    "    for (county, week_number), g in d.groupby(['county', 'week_number']):        \n",
    "        l.append({\n",
    "            'county': county,\n",
    "            'fips': g.countyfips.values[0],\n",
    "            'week_number': week_number,\n",
    "            'total_claims': g.total_claims.mean()\n",
    "        })\n",
    "    c = pd.DataFrame(l)\n",
    "    return c"
   ]
  },
  {
   "cell_type": "code",
   "execution_count": 43,
   "id": "78fb671e",
   "metadata": {
    "execution": {
     "iopub.execute_input": "2023-05-09T21:20:17.129822Z",
     "iopub.status.busy": "2023-05-09T21:20:17.129744Z",
     "iopub.status.idle": "2023-05-09T21:20:17.473814Z",
     "shell.execute_reply": "2023-05-09T21:20:17.473523Z"
    }
   },
   "outputs": [
    {
     "ename": "KeyError",
     "evalue": "'county'",
     "output_type": "error",
     "traceback": [
      "\u001b[0;31m---------------------------------------------------------------------------\u001b[0m",
      "\u001b[0;31mKeyError\u001b[0m                                  Traceback (most recent call last)",
      "Cell \u001b[0;32mIn [43], line 1\u001b[0m\n\u001b[0;32m----> 1\u001b[0m c \u001b[38;5;241m=\u001b[39m \u001b[43mget_tot_by_county\u001b[49m\u001b[43m(\u001b[49m\u001b[43mload_featured\u001b[49m\u001b[43m(\u001b[49m\u001b[43m)\u001b[49m\u001b[43m)\u001b[49m\n\u001b[1;32m      2\u001b[0m c \u001b[38;5;241m=\u001b[39m c\u001b[38;5;241m.\u001b[39mloc[c\u001b[38;5;241m.\u001b[39mweek_number \u001b[38;5;241m==\u001b[39m \u001b[38;5;241m20\u001b[39m, :]\n\u001b[1;32m      3\u001b[0m c\u001b[38;5;241m.\u001b[39mhead()\n",
      "Cell \u001b[0;32mIn [42], line 3\u001b[0m, in \u001b[0;36mget_tot_by_county\u001b[0;34m(d)\u001b[0m\n\u001b[1;32m      1\u001b[0m \u001b[38;5;28;01mdef\u001b[39;00m \u001b[38;5;21mget_tot_by_county\u001b[39m(d):\n\u001b[1;32m      2\u001b[0m     l \u001b[38;5;241m=\u001b[39m []\n\u001b[0;32m----> 3\u001b[0m     \u001b[38;5;28;01mfor\u001b[39;00m (county, week_number), g \u001b[38;5;129;01min\u001b[39;00m \u001b[43md\u001b[49m\u001b[38;5;241;43m.\u001b[39;49m\u001b[43mgroupby\u001b[49m\u001b[43m(\u001b[49m\u001b[43m[\u001b[49m\u001b[38;5;124;43m'\u001b[39;49m\u001b[38;5;124;43mcounty\u001b[39;49m\u001b[38;5;124;43m'\u001b[39;49m\u001b[43m,\u001b[49m\u001b[43m \u001b[49m\u001b[38;5;124;43m'\u001b[39;49m\u001b[38;5;124;43mweek_number\u001b[39;49m\u001b[38;5;124;43m'\u001b[39;49m\u001b[43m]\u001b[49m\u001b[43m)\u001b[49m:        \n\u001b[1;32m      4\u001b[0m         l\u001b[38;5;241m.\u001b[39mappend({\n\u001b[1;32m      5\u001b[0m             \u001b[38;5;124m'\u001b[39m\u001b[38;5;124mcounty\u001b[39m\u001b[38;5;124m'\u001b[39m: county,\n\u001b[1;32m      6\u001b[0m             \u001b[38;5;124m'\u001b[39m\u001b[38;5;124mfips\u001b[39m\u001b[38;5;124m'\u001b[39m: g\u001b[38;5;241m.\u001b[39mcountyfips\u001b[38;5;241m.\u001b[39mvalues[\u001b[38;5;241m0\u001b[39m],\n\u001b[1;32m      7\u001b[0m             \u001b[38;5;124m'\u001b[39m\u001b[38;5;124mweek_number\u001b[39m\u001b[38;5;124m'\u001b[39m: week_number,\n\u001b[1;32m      8\u001b[0m             \u001b[38;5;124m'\u001b[39m\u001b[38;5;124mtotal_claims\u001b[39m\u001b[38;5;124m'\u001b[39m: g\u001b[38;5;241m.\u001b[39mtotal_claims\u001b[38;5;241m.\u001b[39mmean()\n\u001b[1;32m      9\u001b[0m         })\n\u001b[1;32m     10\u001b[0m     c \u001b[38;5;241m=\u001b[39m pd\u001b[38;5;241m.\u001b[39mDataFrame(l)\n",
      "File \u001b[0;32m/opt/homebrew/lib/python3.9/site-packages/pandas/core/frame.py:8389\u001b[0m, in \u001b[0;36mDataFrame.groupby\u001b[0;34m(self, by, axis, level, as_index, sort, group_keys, squeeze, observed, dropna)\u001b[0m\n\u001b[1;32m   8386\u001b[0m     \u001b[38;5;28;01mraise\u001b[39;00m \u001b[38;5;167;01mTypeError\u001b[39;00m(\u001b[38;5;124m\"\u001b[39m\u001b[38;5;124mYou have to supply one of \u001b[39m\u001b[38;5;124m'\u001b[39m\u001b[38;5;124mby\u001b[39m\u001b[38;5;124m'\u001b[39m\u001b[38;5;124m and \u001b[39m\u001b[38;5;124m'\u001b[39m\u001b[38;5;124mlevel\u001b[39m\u001b[38;5;124m'\u001b[39m\u001b[38;5;124m\"\u001b[39m)\n\u001b[1;32m   8387\u001b[0m axis \u001b[38;5;241m=\u001b[39m \u001b[38;5;28mself\u001b[39m\u001b[38;5;241m.\u001b[39m_get_axis_number(axis)\n\u001b[0;32m-> 8389\u001b[0m \u001b[38;5;28;01mreturn\u001b[39;00m \u001b[43mDataFrameGroupBy\u001b[49m\u001b[43m(\u001b[49m\n\u001b[1;32m   8390\u001b[0m \u001b[43m    \u001b[49m\u001b[43mobj\u001b[49m\u001b[38;5;241;43m=\u001b[39;49m\u001b[38;5;28;43mself\u001b[39;49m\u001b[43m,\u001b[49m\n\u001b[1;32m   8391\u001b[0m \u001b[43m    \u001b[49m\u001b[43mkeys\u001b[49m\u001b[38;5;241;43m=\u001b[39;49m\u001b[43mby\u001b[49m\u001b[43m,\u001b[49m\n\u001b[1;32m   8392\u001b[0m \u001b[43m    \u001b[49m\u001b[43maxis\u001b[49m\u001b[38;5;241;43m=\u001b[39;49m\u001b[43maxis\u001b[49m\u001b[43m,\u001b[49m\n\u001b[1;32m   8393\u001b[0m \u001b[43m    \u001b[49m\u001b[43mlevel\u001b[49m\u001b[38;5;241;43m=\u001b[39;49m\u001b[43mlevel\u001b[49m\u001b[43m,\u001b[49m\n\u001b[1;32m   8394\u001b[0m \u001b[43m    \u001b[49m\u001b[43mas_index\u001b[49m\u001b[38;5;241;43m=\u001b[39;49m\u001b[43mas_index\u001b[49m\u001b[43m,\u001b[49m\n\u001b[1;32m   8395\u001b[0m \u001b[43m    \u001b[49m\u001b[43msort\u001b[49m\u001b[38;5;241;43m=\u001b[39;49m\u001b[43msort\u001b[49m\u001b[43m,\u001b[49m\n\u001b[1;32m   8396\u001b[0m \u001b[43m    \u001b[49m\u001b[43mgroup_keys\u001b[49m\u001b[38;5;241;43m=\u001b[39;49m\u001b[43mgroup_keys\u001b[49m\u001b[43m,\u001b[49m\n\u001b[1;32m   8397\u001b[0m \u001b[43m    \u001b[49m\u001b[43msqueeze\u001b[49m\u001b[38;5;241;43m=\u001b[39;49m\u001b[43msqueeze\u001b[49m\u001b[43m,\u001b[49m\n\u001b[1;32m   8398\u001b[0m \u001b[43m    \u001b[49m\u001b[43mobserved\u001b[49m\u001b[38;5;241;43m=\u001b[39;49m\u001b[43mobserved\u001b[49m\u001b[43m,\u001b[49m\n\u001b[1;32m   8399\u001b[0m \u001b[43m    \u001b[49m\u001b[43mdropna\u001b[49m\u001b[38;5;241;43m=\u001b[39;49m\u001b[43mdropna\u001b[49m\u001b[43m,\u001b[49m\n\u001b[1;32m   8400\u001b[0m \u001b[43m\u001b[49m\u001b[43m)\u001b[49m\n",
      "File \u001b[0;32m/opt/homebrew/lib/python3.9/site-packages/pandas/core/groupby/groupby.py:959\u001b[0m, in \u001b[0;36mGroupBy.__init__\u001b[0;34m(self, obj, keys, axis, level, grouper, exclusions, selection, as_index, sort, group_keys, squeeze, observed, mutated, dropna)\u001b[0m\n\u001b[1;32m    956\u001b[0m \u001b[38;5;28;01mif\u001b[39;00m grouper \u001b[38;5;129;01mis\u001b[39;00m \u001b[38;5;28;01mNone\u001b[39;00m:\n\u001b[1;32m    957\u001b[0m     \u001b[38;5;28;01mfrom\u001b[39;00m \u001b[38;5;21;01mpandas\u001b[39;00m\u001b[38;5;21;01m.\u001b[39;00m\u001b[38;5;21;01mcore\u001b[39;00m\u001b[38;5;21;01m.\u001b[39;00m\u001b[38;5;21;01mgroupby\u001b[39;00m\u001b[38;5;21;01m.\u001b[39;00m\u001b[38;5;21;01mgrouper\u001b[39;00m \u001b[38;5;28;01mimport\u001b[39;00m get_grouper\n\u001b[0;32m--> 959\u001b[0m     grouper, exclusions, obj \u001b[38;5;241m=\u001b[39m \u001b[43mget_grouper\u001b[49m\u001b[43m(\u001b[49m\n\u001b[1;32m    960\u001b[0m \u001b[43m        \u001b[49m\u001b[43mobj\u001b[49m\u001b[43m,\u001b[49m\n\u001b[1;32m    961\u001b[0m \u001b[43m        \u001b[49m\u001b[43mkeys\u001b[49m\u001b[43m,\u001b[49m\n\u001b[1;32m    962\u001b[0m \u001b[43m        \u001b[49m\u001b[43maxis\u001b[49m\u001b[38;5;241;43m=\u001b[39;49m\u001b[43maxis\u001b[49m\u001b[43m,\u001b[49m\n\u001b[1;32m    963\u001b[0m \u001b[43m        \u001b[49m\u001b[43mlevel\u001b[49m\u001b[38;5;241;43m=\u001b[39;49m\u001b[43mlevel\u001b[49m\u001b[43m,\u001b[49m\n\u001b[1;32m    964\u001b[0m \u001b[43m        \u001b[49m\u001b[43msort\u001b[49m\u001b[38;5;241;43m=\u001b[39;49m\u001b[43msort\u001b[49m\u001b[43m,\u001b[49m\n\u001b[1;32m    965\u001b[0m \u001b[43m        \u001b[49m\u001b[43mobserved\u001b[49m\u001b[38;5;241;43m=\u001b[39;49m\u001b[43mobserved\u001b[49m\u001b[43m,\u001b[49m\n\u001b[1;32m    966\u001b[0m \u001b[43m        \u001b[49m\u001b[43mmutated\u001b[49m\u001b[38;5;241;43m=\u001b[39;49m\u001b[38;5;28;43mself\u001b[39;49m\u001b[38;5;241;43m.\u001b[39;49m\u001b[43mmutated\u001b[49m\u001b[43m,\u001b[49m\n\u001b[1;32m    967\u001b[0m \u001b[43m        \u001b[49m\u001b[43mdropna\u001b[49m\u001b[38;5;241;43m=\u001b[39;49m\u001b[38;5;28;43mself\u001b[39;49m\u001b[38;5;241;43m.\u001b[39;49m\u001b[43mdropna\u001b[49m\u001b[43m,\u001b[49m\n\u001b[1;32m    968\u001b[0m \u001b[43m    \u001b[49m\u001b[43m)\u001b[49m\n\u001b[1;32m    970\u001b[0m \u001b[38;5;28mself\u001b[39m\u001b[38;5;241m.\u001b[39mobj \u001b[38;5;241m=\u001b[39m obj\n\u001b[1;32m    971\u001b[0m \u001b[38;5;28mself\u001b[39m\u001b[38;5;241m.\u001b[39maxis \u001b[38;5;241m=\u001b[39m obj\u001b[38;5;241m.\u001b[39m_get_axis_number(axis)\n",
      "File \u001b[0;32m/opt/homebrew/lib/python3.9/site-packages/pandas/core/groupby/grouper.py:888\u001b[0m, in \u001b[0;36mget_grouper\u001b[0;34m(obj, key, axis, level, sort, observed, mutated, validate, dropna)\u001b[0m\n\u001b[1;32m    886\u001b[0m         in_axis, level, gpr \u001b[38;5;241m=\u001b[39m \u001b[38;5;28;01mFalse\u001b[39;00m, gpr, \u001b[38;5;28;01mNone\u001b[39;00m\n\u001b[1;32m    887\u001b[0m     \u001b[38;5;28;01melse\u001b[39;00m:\n\u001b[0;32m--> 888\u001b[0m         \u001b[38;5;28;01mraise\u001b[39;00m \u001b[38;5;167;01mKeyError\u001b[39;00m(gpr)\n\u001b[1;32m    889\u001b[0m \u001b[38;5;28;01melif\u001b[39;00m \u001b[38;5;28misinstance\u001b[39m(gpr, Grouper) \u001b[38;5;129;01mand\u001b[39;00m gpr\u001b[38;5;241m.\u001b[39mkey \u001b[38;5;129;01mis\u001b[39;00m \u001b[38;5;129;01mnot\u001b[39;00m \u001b[38;5;28;01mNone\u001b[39;00m:\n\u001b[1;32m    890\u001b[0m     \u001b[38;5;66;03m# Add key to exclusions\u001b[39;00m\n\u001b[1;32m    891\u001b[0m     exclusions\u001b[38;5;241m.\u001b[39madd(gpr\u001b[38;5;241m.\u001b[39mkey)\n",
      "\u001b[0;31mKeyError\u001b[0m: 'county'"
     ]
    }
   ],
   "source": [
    "c = get_tot_by_county(load_featured())\n",
    "c = c.loc[c.week_number == 20, :]\n",
    "c.head()"
   ]
  },
  {
   "cell_type": "code",
   "execution_count": 44,
   "id": "dcdbc928",
   "metadata": {
    "execution": {
     "iopub.execute_input": "2023-05-09T21:20:17.475346Z",
     "iopub.status.busy": "2023-05-09T21:20:17.475238Z",
     "iopub.status.idle": "2023-05-09T21:20:17.483404Z",
     "shell.execute_reply": "2023-05-09T21:20:17.483170Z"
    }
   },
   "outputs": [
    {
     "ename": "NameError",
     "evalue": "name 'c' is not defined",
     "output_type": "error",
     "traceback": [
      "\u001b[0;31m---------------------------------------------------------------------------\u001b[0m",
      "\u001b[0;31mNameError\u001b[0m                                 Traceback (most recent call last)",
      "Cell \u001b[0;32mIn [44], line 1\u001b[0m\n\u001b[0;32m----> 1\u001b[0m values \u001b[38;5;241m=\u001b[39m \u001b[43mc\u001b[49m\u001b[38;5;241m.\u001b[39mtotal_claims\n\u001b[1;32m      2\u001b[0m endpts \u001b[38;5;241m=\u001b[39m \u001b[38;5;28mlist\u001b[39m(np\u001b[38;5;241m.\u001b[39mmgrid[\u001b[38;5;28mmin\u001b[39m(values):\u001b[38;5;28mmax\u001b[39m(values):\u001b[38;5;241m4\u001b[39mj])\n\u001b[1;32m      3\u001b[0m colorscale \u001b[38;5;241m=\u001b[39m [\u001b[38;5;124m\"\u001b[39m\u001b[38;5;124m#030512\u001b[39m\u001b[38;5;124m\"\u001b[39m,\u001b[38;5;124m\"\u001b[39m\u001b[38;5;124m#1d1d3b\u001b[39m\u001b[38;5;124m\"\u001b[39m,\u001b[38;5;124m\"\u001b[39m\u001b[38;5;124m#323268\u001b[39m\u001b[38;5;124m\"\u001b[39m,\u001b[38;5;124m\"\u001b[39m\u001b[38;5;124m#3d4b94\u001b[39m\u001b[38;5;124m\"\u001b[39m,\u001b[38;5;124m\"\u001b[39m\u001b[38;5;124m#3e6ab0\u001b[39m\u001b[38;5;124m\"\u001b[39m,\n\u001b[1;32m      4\u001b[0m               \u001b[38;5;124m\"\u001b[39m\u001b[38;5;124m#4989bc\u001b[39m\u001b[38;5;124m\"\u001b[39m,\u001b[38;5;124m\"\u001b[39m\u001b[38;5;124m#60a7c7\u001b[39m\u001b[38;5;124m\"\u001b[39m,\u001b[38;5;124m\"\u001b[39m\u001b[38;5;124m#85c5d3\u001b[39m\u001b[38;5;124m\"\u001b[39m,\u001b[38;5;124m\"\u001b[39m\u001b[38;5;124m#b7e0e4\u001b[39m\u001b[38;5;124m\"\u001b[39m,\u001b[38;5;124m\"\u001b[39m\u001b[38;5;124m#eafcfd\u001b[39m\u001b[38;5;124m\"\u001b[39m]\n",
      "\u001b[0;31mNameError\u001b[0m: name 'c' is not defined"
     ]
    }
   ],
   "source": [
    "values = c.total_claims\n",
    "endpts = list(np.mgrid[min(values):max(values):4j])\n",
    "colorscale = [\"#030512\",\"#1d1d3b\",\"#323268\",\"#3d4b94\",\"#3e6ab0\",\n",
    "              \"#4989bc\",\"#60a7c7\",\"#85c5d3\",\"#b7e0e4\",\"#eafcfd\"]\n",
    "# fig = plotly.figure_factory.create_choropleth(\n",
    "#     fips=c.fips, values=values, scope=['Indiana'], show_state_data=True,\n",
    "#     colorscale=colorscale, binning_endpoints=endpts, round_legend_values=True,\n",
    "#     plot_bgcolor='rgb(229,229,229)',\n",
    "#     paper_bgcolor='rgb(229,229,229)',\n",
    "#     legend_title='Average Total Claims by County',\n",
    "#     county_outline={'color': 'rgb(255,255,255)', 'width': 0.5},\n",
    "#     exponent_format=True,\n",
    "# )"
   ]
  },
  {
   "cell_type": "code",
   "execution_count": 45,
   "id": "0a582133",
   "metadata": {
    "execution": {
     "iopub.execute_input": "2023-05-09T21:20:17.484795Z",
     "iopub.status.busy": "2023-05-09T21:20:17.484709Z",
     "iopub.status.idle": "2023-05-09T21:20:17.493031Z",
     "shell.execute_reply": "2023-05-09T21:20:17.492795Z"
    }
   },
   "outputs": [
    {
     "ename": "NameError",
     "evalue": "name 'c' is not defined",
     "output_type": "error",
     "traceback": [
      "\u001b[0;31m---------------------------------------------------------------------------\u001b[0m",
      "\u001b[0;31mNameError\u001b[0m                                 Traceback (most recent call last)",
      "Cell \u001b[0;32mIn [45], line 1\u001b[0m\n\u001b[0;32m----> 1\u001b[0m values \u001b[38;5;241m=\u001b[39m \u001b[43mc\u001b[49m\u001b[38;5;241m.\u001b[39mtotal_claims\n\u001b[1;32m      2\u001b[0m endpts \u001b[38;5;241m=\u001b[39m \u001b[38;5;28mlist\u001b[39m(np\u001b[38;5;241m.\u001b[39mmgrid[\u001b[38;5;28mmin\u001b[39m(values):\u001b[38;5;28mmax\u001b[39m(values):\u001b[38;5;241m4\u001b[39mj])\n\u001b[1;32m      3\u001b[0m colorscale \u001b[38;5;241m=\u001b[39m [\u001b[38;5;124m\"\u001b[39m\u001b[38;5;124m#030512\u001b[39m\u001b[38;5;124m\"\u001b[39m,\u001b[38;5;124m\"\u001b[39m\u001b[38;5;124m#1d1d3b\u001b[39m\u001b[38;5;124m\"\u001b[39m,\u001b[38;5;124m\"\u001b[39m\u001b[38;5;124m#323268\u001b[39m\u001b[38;5;124m\"\u001b[39m,\u001b[38;5;124m\"\u001b[39m\u001b[38;5;124m#3d4b94\u001b[39m\u001b[38;5;124m\"\u001b[39m,\u001b[38;5;124m\"\u001b[39m\u001b[38;5;124m#3e6ab0\u001b[39m\u001b[38;5;124m\"\u001b[39m,\n\u001b[1;32m      4\u001b[0m               \u001b[38;5;124m\"\u001b[39m\u001b[38;5;124m#4989bc\u001b[39m\u001b[38;5;124m\"\u001b[39m,\u001b[38;5;124m\"\u001b[39m\u001b[38;5;124m#60a7c7\u001b[39m\u001b[38;5;124m\"\u001b[39m,\u001b[38;5;124m\"\u001b[39m\u001b[38;5;124m#85c5d3\u001b[39m\u001b[38;5;124m\"\u001b[39m,\u001b[38;5;124m\"\u001b[39m\u001b[38;5;124m#b7e0e4\u001b[39m\u001b[38;5;124m\"\u001b[39m,\u001b[38;5;124m\"\u001b[39m\u001b[38;5;124m#eafcfd\u001b[39m\u001b[38;5;124m\"\u001b[39m]\n",
      "\u001b[0;31mNameError\u001b[0m: name 'c' is not defined"
     ]
    }
   ],
   "source": [
    "values = c.total_claims\n",
    "endpts = list(np.mgrid[min(values):max(values):4j])\n",
    "colorscale = [\"#030512\",\"#1d1d3b\",\"#323268\",\"#3d4b94\",\"#3e6ab0\",\n",
    "              \"#4989bc\",\"#60a7c7\",\"#85c5d3\",\"#b7e0e4\",\"#eafcfd\"]\n",
    "fig = plotly.figure_factory.create_choropleth(\n",
    "    fips=c.fips, values=values, scope=['Indiana'], show_state_data=True,\n",
    "    colorscale=colorscale, binning_endpoints=endpts, round_legend_values=True,\n",
    "    plot_bgcolor='rgb(229,229,229)',\n",
    "    paper_bgcolor='rgb(229,229,229)',\n",
    "    legend_title='Average Total Claims by County',\n",
    "    county_outline={'color': 'rgb(255,255,255)', 'width': 0.5},\n",
    "    exponent_format=True,\n",
    ")"
   ]
  },
  {
   "cell_type": "code",
   "execution_count": 46,
   "id": "ca973444",
   "metadata": {
    "execution": {
     "iopub.execute_input": "2023-05-09T21:20:17.494376Z",
     "iopub.status.busy": "2023-05-09T21:20:17.494286Z",
     "iopub.status.idle": "2023-05-09T21:20:40.040350Z",
     "shell.execute_reply": "2023-05-09T21:20:40.039695Z"
    },
    "lines_to_next_cell": 2
   },
   "outputs": [
    {
     "name": "stdout",
     "output_type": "stream",
     "text": [
      "\u001b[33mWARNING: Ignoring invalid distribution -umpy (/opt/anaconda3/lib/python3.9/site-packages)\u001b[0m\r\n"
     ]
    },
    {
     "name": "stdout",
     "output_type": "stream",
     "text": [
      "\u001b[33mWARNING: Ignoring invalid distribution -umpy (/opt/anaconda3/lib/python3.9/site-packages)\u001b[0m\r\n",
      "Requirement already satisfied: db-dtypes in /opt/anaconda3/lib/python3.9/site-packages (1.0.5)\r\n",
      "Requirement already satisfied: packaging>=17.0 in /opt/anaconda3/lib/python3.9/site-packages (from db-dtypes) (21.3)\r\n",
      "Requirement already satisfied: pandas<2.0dev,>=0.24.2 in /opt/anaconda3/lib/python3.9/site-packages (from db-dtypes) (1.5.3)\r\n",
      "Requirement already satisfied: pyarrow>=3.0.0 in /opt/anaconda3/lib/python3.9/site-packages (from db-dtypes) (10.0.1)\r\n",
      "Requirement already satisfied: numpy<2.0dev,>=1.16.6 in /opt/anaconda3/lib/python3.9/site-packages (from db-dtypes) (1.22.4)\r\n",
      "Requirement already satisfied: pyparsing!=3.0.5,>=2.0.2 in /opt/anaconda3/lib/python3.9/site-packages (from packaging>=17.0->db-dtypes) (3.0.4)\r\n",
      "Requirement already satisfied: pytz>=2020.1 in /opt/anaconda3/lib/python3.9/site-packages (from pandas<2.0dev,>=0.24.2->db-dtypes) (2021.3)\r\n",
      "Requirement already satisfied: python-dateutil>=2.8.1 in /opt/anaconda3/lib/python3.9/site-packages (from pandas<2.0dev,>=0.24.2->db-dtypes) (2.8.2)\r\n",
      "Requirement already satisfied: six>=1.5 in /opt/anaconda3/lib/python3.9/site-packages (from python-dateutil>=2.8.1->pandas<2.0dev,>=0.24.2->db-dtypes) (1.16.0)\r\n",
      "\u001b[33mWARNING: Ignoring invalid distribution -umpy (/opt/anaconda3/lib/python3.9/site-packages)\u001b[0m\r\n"
     ]
    },
    {
     "name": "stdout",
     "output_type": "stream",
     "text": [
      "\u001b[33mWARNING: Ignoring invalid distribution -umpy (/opt/anaconda3/lib/python3.9/site-packages)\u001b[0m\r\n",
      "\u001b[33mWARNING: Ignoring invalid distribution -umpy (/opt/anaconda3/lib/python3.9/site-packages)\u001b[0m\r\n",
      "\u001b[33mWARNING: Ignoring invalid distribution -umpy (/opt/anaconda3/lib/python3.9/site-packages)\u001b[0m\r\n"
     ]
    },
    {
     "name": "stdout",
     "output_type": "stream",
     "text": [
      "\u001b[33mWARNING: Ignoring invalid distribution -umpy (/opt/anaconda3/lib/python3.9/site-packages)\u001b[0m\r\n",
      "\u001b[33mWARNING: Ignoring invalid distribution -umpy (/opt/anaconda3/lib/python3.9/site-packages)\u001b[0m\r\n",
      "Requirement already satisfied: xgboost in /opt/anaconda3/lib/python3.9/site-packages (1.7.5)\r\n",
      "Requirement already satisfied: scipy in /opt/anaconda3/lib/python3.9/site-packages (from xgboost) (1.7.1)\r\n",
      "Requirement already satisfied: numpy in /opt/anaconda3/lib/python3.9/site-packages (from xgboost) (1.22.4)\r\n",
      "\u001b[33mWARNING: Ignoring invalid distribution -umpy (/opt/anaconda3/lib/python3.9/site-packages)\u001b[0m\r\n"
     ]
    },
    {
     "name": "stdout",
     "output_type": "stream",
     "text": [
      "\u001b[33mWARNING: Ignoring invalid distribution -umpy (/opt/anaconda3/lib/python3.9/site-packages)\u001b[0m\r\n",
      "\u001b[33mWARNING: Ignoring invalid distribution -umpy (/opt/anaconda3/lib/python3.9/site-packages)\u001b[0m\r\n",
      "\u001b[33mWARNING: Ignoring invalid distribution -umpy (/opt/anaconda3/lib/python3.9/site-packages)\u001b[0m\r\n"
     ]
    },
    {
     "name": "stdout",
     "output_type": "stream",
     "text": [
      "\u001b[33mWARNING: Ignoring invalid distribution -umpy (/opt/anaconda3/lib/python3.9/site-packages)\u001b[0m\r\n"
     ]
    },
    {
     "name": "stdout",
     "output_type": "stream",
     "text": [
      "\u001b[33mWARNING: Ignoring invalid distribution -umpy (/opt/anaconda3/lib/python3.9/site-packages)\u001b[0m\r\n",
      "Requirement already satisfied: impyute in /opt/anaconda3/lib/python3.9/site-packages (0.0.8)\r\n",
      "Requirement already satisfied: scikit-learn in /opt/anaconda3/lib/python3.9/site-packages (from impyute) (0.24.2)\r\n",
      "Requirement already satisfied: numpy in /opt/anaconda3/lib/python3.9/site-packages (from impyute) (1.22.4)\r\n",
      "Requirement already satisfied: scipy in /opt/anaconda3/lib/python3.9/site-packages (from impyute) (1.7.1)\r\n",
      "Requirement already satisfied: threadpoolctl>=2.0.0 in /opt/anaconda3/lib/python3.9/site-packages (from scikit-learn->impyute) (2.2.0)\r\n",
      "Requirement already satisfied: joblib>=0.11 in /opt/anaconda3/lib/python3.9/site-packages (from scikit-learn->impyute) (1.1.0)\r\n",
      "\u001b[33mWARNING: Ignoring invalid distribution -umpy (/opt/anaconda3/lib/python3.9/site-packages)\u001b[0m\r\n"
     ]
    },
    {
     "name": "stdout",
     "output_type": "stream",
     "text": [
      "\u001b[33mWARNING: Ignoring invalid distribution -umpy (/opt/anaconda3/lib/python3.9/site-packages)\u001b[0m\r\n",
      "\u001b[33mWARNING: Ignoring invalid distribution -umpy (/opt/anaconda3/lib/python3.9/site-packages)\u001b[0m\r\n",
      "\u001b[33mWARNING: Ignoring invalid distribution -umpy (/opt/anaconda3/lib/python3.9/site-packages)\u001b[0m\r\n"
     ]
    },
    {
     "name": "stdout",
     "output_type": "stream",
     "text": [
      "\u001b[33mWARNING: Ignoring invalid distribution -umpy (/opt/anaconda3/lib/python3.9/site-packages)\u001b[0m\r\n",
      "\u001b[33mWARNING: Ignoring invalid distribution -umpy (/opt/anaconda3/lib/python3.9/site-packages)\u001b[0m\r\n",
      "Requirement already satisfied: prophet in /opt/anaconda3/lib/python3.9/site-packages (1.1.2)\r\n",
      "Requirement already satisfied: matplotlib>=2.0.0 in /opt/anaconda3/lib/python3.9/site-packages (from prophet) (3.7.1)\r\n",
      "Requirement already satisfied: convertdate>=2.1.2 in /opt/anaconda3/lib/python3.9/site-packages (from prophet) (2.4.0)\r\n",
      "Requirement already satisfied: cmdstanpy>=1.0.4 in /opt/anaconda3/lib/python3.9/site-packages (from prophet) (1.1.0)\r\n",
      "Requirement already satisfied: LunarCalendar>=0.0.9 in /opt/anaconda3/lib/python3.9/site-packages (from prophet) (0.0.9)\r\n",
      "Requirement already satisfied: numpy>=1.15.4 in /opt/anaconda3/lib/python3.9/site-packages (from prophet) (1.22.4)\r\n",
      "Requirement already satisfied: tqdm>=4.36.1 in /opt/anaconda3/lib/python3.9/site-packages (from prophet) (4.62.3)\r\n",
      "Requirement already satisfied: pandas>=1.0.4 in /opt/anaconda3/lib/python3.9/site-packages (from prophet) (1.5.3)\r\n",
      "Requirement already satisfied: holidays>=0.14.2 in /opt/anaconda3/lib/python3.9/site-packages (from prophet) (0.21.13)\r\n",
      "Requirement already satisfied: python-dateutil>=2.8.0 in /opt/anaconda3/lib/python3.9/site-packages (from prophet) (2.8.2)\r\n",
      "Requirement already satisfied: pymeeus<=1,>=0.3.13 in /opt/anaconda3/lib/python3.9/site-packages (from convertdate>=2.1.2->prophet) (0.5.12)\r\n",
      "Requirement already satisfied: hijri-converter in /opt/anaconda3/lib/python3.9/site-packages (from holidays>=0.14.2->prophet) (2.2.4)\r\n",
      "Requirement already satisfied: korean-lunar-calendar in /opt/anaconda3/lib/python3.9/site-packages (from holidays>=0.14.2->prophet) (0.3.1)\r\n"
     ]
    },
    {
     "name": "stdout",
     "output_type": "stream",
     "text": [
      "Requirement already satisfied: pytz in /opt/anaconda3/lib/python3.9/site-packages (from LunarCalendar>=0.0.9->prophet) (2021.3)\r\n",
      "Requirement already satisfied: ephem>=3.7.5.3 in /opt/anaconda3/lib/python3.9/site-packages (from LunarCalendar>=0.0.9->prophet) (4.1.4)\r\n",
      "Requirement already satisfied: cycler>=0.10 in /opt/anaconda3/lib/python3.9/site-packages (from matplotlib>=2.0.0->prophet) (0.10.0)\r\n",
      "Requirement already satisfied: pillow>=6.2.0 in /opt/anaconda3/lib/python3.9/site-packages (from matplotlib>=2.0.0->prophet) (8.4.0)\r\n",
      "Requirement already satisfied: fonttools>=4.22.0 in /opt/anaconda3/lib/python3.9/site-packages (from matplotlib>=2.0.0->prophet) (4.25.0)\r\n",
      "Requirement already satisfied: packaging>=20.0 in /opt/anaconda3/lib/python3.9/site-packages (from matplotlib>=2.0.0->prophet) (21.3)\r\n",
      "Requirement already satisfied: importlib-resources>=3.2.0 in /opt/anaconda3/lib/python3.9/site-packages (from matplotlib>=2.0.0->prophet) (5.12.0)\r\n",
      "Requirement already satisfied: contourpy>=1.0.1 in /opt/anaconda3/lib/python3.9/site-packages (from matplotlib>=2.0.0->prophet) (1.0.7)\r\n",
      "Requirement already satisfied: pyparsing>=2.3.1 in /opt/anaconda3/lib/python3.9/site-packages (from matplotlib>=2.0.0->prophet) (3.0.4)\r\n",
      "Requirement already satisfied: kiwisolver>=1.0.1 in /opt/anaconda3/lib/python3.9/site-packages (from matplotlib>=2.0.0->prophet) (1.3.1)\r\n",
      "Requirement already satisfied: six in /opt/anaconda3/lib/python3.9/site-packages (from cycler>=0.10->matplotlib>=2.0.0->prophet) (1.16.0)\r\n",
      "Requirement already satisfied: zipp>=3.1.0 in /opt/anaconda3/lib/python3.9/site-packages (from importlib-resources>=3.2.0->matplotlib>=2.0.0->prophet) (3.6.0)\r\n"
     ]
    },
    {
     "name": "stdout",
     "output_type": "stream",
     "text": [
      "\u001b[33mWARNING: Ignoring invalid distribution -umpy (/opt/anaconda3/lib/python3.9/site-packages)\u001b[0m\r\n"
     ]
    },
    {
     "name": "stdout",
     "output_type": "stream",
     "text": [
      "\u001b[33mWARNING: Ignoring invalid distribution -umpy (/opt/anaconda3/lib/python3.9/site-packages)\u001b[0m\r\n",
      "\u001b[33mWARNING: Ignoring invalid distribution -umpy (/opt/anaconda3/lib/python3.9/site-packages)\u001b[0m\r\n",
      "\u001b[33mWARNING: Ignoring invalid distribution -umpy (/opt/anaconda3/lib/python3.9/site-packages)\u001b[0m\r\n"
     ]
    },
    {
     "name": "stdout",
     "output_type": "stream",
     "text": [
      "\u001b[33mWARNING: Ignoring invalid distribution -umpy (/opt/anaconda3/lib/python3.9/site-packages)\u001b[0m\r\n",
      "\u001b[33mWARNING: Ignoring invalid distribution -umpy (/opt/anaconda3/lib/python3.9/site-packages)\u001b[0m\r\n",
      "Requirement already satisfied: plotly in /opt/anaconda3/lib/python3.9/site-packages (5.11.0)\r\n",
      "Requirement already satisfied: tenacity>=6.2.0 in /opt/anaconda3/lib/python3.9/site-packages (from plotly) (8.1.0)\r\n",
      "\u001b[33mWARNING: Ignoring invalid distribution -umpy (/opt/anaconda3/lib/python3.9/site-packages)\u001b[0m\r\n"
     ]
    },
    {
     "name": "stdout",
     "output_type": "stream",
     "text": [
      "\u001b[33mWARNING: Ignoring invalid distribution -umpy (/opt/anaconda3/lib/python3.9/site-packages)\u001b[0m\r\n",
      "\u001b[33mWARNING: Ignoring invalid distribution -umpy (/opt/anaconda3/lib/python3.9/site-packages)\u001b[0m\r\n",
      "\u001b[33mWARNING: Ignoring invalid distribution -umpy (/opt/anaconda3/lib/python3.9/site-packages)\u001b[0m\r\n"
     ]
    },
    {
     "name": "stdout",
     "output_type": "stream",
     "text": [
      "\u001b[33mWARNING: Ignoring invalid distribution -umpy (/opt/anaconda3/lib/python3.9/site-packages)\u001b[0m\r\n"
     ]
    },
    {
     "name": "stdout",
     "output_type": "stream",
     "text": [
      "\u001b[33mWARNING: Ignoring invalid distribution -umpy (/opt/anaconda3/lib/python3.9/site-packages)\u001b[0m\r\n",
      "Requirement already satisfied: plotly-geo in /opt/anaconda3/lib/python3.9/site-packages (1.0.0)\r\n",
      "\u001b[33mWARNING: Ignoring invalid distribution -umpy (/opt/anaconda3/lib/python3.9/site-packages)\u001b[0m\r\n"
     ]
    },
    {
     "name": "stdout",
     "output_type": "stream",
     "text": [
      "\u001b[33mWARNING: Ignoring invalid distribution -umpy (/opt/anaconda3/lib/python3.9/site-packages)\u001b[0m\r\n",
      "\u001b[33mWARNING: Ignoring invalid distribution -umpy (/opt/anaconda3/lib/python3.9/site-packages)\u001b[0m\r\n",
      "\u001b[33mWARNING: Ignoring invalid distribution -umpy (/opt/anaconda3/lib/python3.9/site-packages)\u001b[0m\r\n"
     ]
    },
    {
     "name": "stdout",
     "output_type": "stream",
     "text": [
      "\u001b[33mWARNING: Ignoring invalid distribution -umpy (/opt/anaconda3/lib/python3.9/site-packages)\u001b[0m\r\n"
     ]
    },
    {
     "name": "stdout",
     "output_type": "stream",
     "text": [
      "\u001b[33mWARNING: Ignoring invalid distribution -umpy (/opt/anaconda3/lib/python3.9/site-packages)\u001b[0m\r\n",
      "Requirement already satisfied: geopandas in /opt/anaconda3/lib/python3.9/site-packages (0.12.2)\r\n",
      "Requirement already satisfied: packaging in /opt/anaconda3/lib/python3.9/site-packages (from geopandas) (21.3)\r\n",
      "Requirement already satisfied: pandas>=1.0.0 in /opt/anaconda3/lib/python3.9/site-packages (from geopandas) (1.5.3)\r\n",
      "Requirement already satisfied: fiona>=1.8 in /opt/anaconda3/lib/python3.9/site-packages (from geopandas) (1.9.1)\r\n",
      "Requirement already satisfied: pyproj>=2.6.1.post1 in /opt/anaconda3/lib/python3.9/site-packages (from geopandas) (3.4.1)\r\n",
      "Requirement already satisfied: shapely>=1.7 in /opt/anaconda3/lib/python3.9/site-packages (from geopandas) (2.0.1)\r\n",
      "Requirement already satisfied: setuptools in /opt/anaconda3/lib/python3.9/site-packages (from fiona>=1.8->geopandas) (58.0.4)\r\n",
      "Requirement already satisfied: munch>=2.3.2 in /opt/anaconda3/lib/python3.9/site-packages (from fiona>=1.8->geopandas) (2.5.0)\r\n",
      "Requirement already satisfied: certifi in /opt/anaconda3/lib/python3.9/site-packages (from fiona>=1.8->geopandas) (2021.10.8)\r\n",
      "Requirement already satisfied: click-plugins>=1.0 in /opt/anaconda3/lib/python3.9/site-packages (from fiona>=1.8->geopandas) (1.1.1)\r\n",
      "Requirement already satisfied: attrs>=19.2.0 in /opt/anaconda3/lib/python3.9/site-packages (from fiona>=1.8->geopandas) (21.2.0)\r\n",
      "Requirement already satisfied: click~=8.0 in /opt/anaconda3/lib/python3.9/site-packages (from fiona>=1.8->geopandas) (8.0.3)\r\n",
      "Requirement already satisfied: cligj>=0.5 in /opt/anaconda3/lib/python3.9/site-packages (from fiona>=1.8->geopandas) (0.7.2)\r\n",
      "Requirement already satisfied: six in /opt/anaconda3/lib/python3.9/site-packages (from munch>=2.3.2->fiona>=1.8->geopandas) (1.16.0)\r\n"
     ]
    },
    {
     "name": "stdout",
     "output_type": "stream",
     "text": [
      "Requirement already satisfied: pytz>=2020.1 in /opt/anaconda3/lib/python3.9/site-packages (from pandas>=1.0.0->geopandas) (2021.3)\r\n",
      "Requirement already satisfied: python-dateutil>=2.8.1 in /opt/anaconda3/lib/python3.9/site-packages (from pandas>=1.0.0->geopandas) (2.8.2)\r\n",
      "Requirement already satisfied: numpy>=1.20.3 in /opt/anaconda3/lib/python3.9/site-packages (from pandas>=1.0.0->geopandas) (1.22.4)\r\n",
      "Requirement already satisfied: pyparsing!=3.0.5,>=2.0.2 in /opt/anaconda3/lib/python3.9/site-packages (from packaging->geopandas) (3.0.4)\r\n",
      "\u001b[33mWARNING: Ignoring invalid distribution -umpy (/opt/anaconda3/lib/python3.9/site-packages)\u001b[0m\r\n"
     ]
    },
    {
     "name": "stdout",
     "output_type": "stream",
     "text": [
      "\u001b[33mWARNING: Ignoring invalid distribution -umpy (/opt/anaconda3/lib/python3.9/site-packages)\u001b[0m\r\n",
      "\u001b[33mWARNING: Ignoring invalid distribution -umpy (/opt/anaconda3/lib/python3.9/site-packages)\u001b[0m\r\n",
      "\u001b[33mWARNING: Ignoring invalid distribution -umpy (/opt/anaconda3/lib/python3.9/site-packages)\u001b[0m\r\n"
     ]
    },
    {
     "name": "stdout",
     "output_type": "stream",
     "text": [
      "\u001b[33mWARNING: Ignoring invalid distribution -umpy (/opt/anaconda3/lib/python3.9/site-packages)\u001b[0m\r\n"
     ]
    },
    {
     "name": "stdout",
     "output_type": "stream",
     "text": [
      "\u001b[33mWARNING: Ignoring invalid distribution -umpy (/opt/anaconda3/lib/python3.9/site-packages)\u001b[0m\r\n"
     ]
    },
    {
     "name": "stdout",
     "output_type": "stream",
     "text": [
      "Collecting pyshp\r\n"
     ]
    },
    {
     "name": "stdout",
     "output_type": "stream",
     "text": [
      "  Downloading pyshp-2.3.1-py2.py3-none-any.whl (46 kB)\r\n",
      "\u001b[?25l\r",
      "\u001b[K     |███████                         | 10 kB 6.5 MB/s eta 0:00:01\r",
      "\u001b[K     |██████████████                  | 20 kB 6.4 MB/s eta 0:00:01\r",
      "\u001b[K     |█████████████████████▏          | 30 kB 4.9 MB/s eta 0:00:01\r",
      "\u001b[K     |████████████████████████████▏   | 40 kB 2.2 MB/s eta 0:00:01"
     ]
    },
    {
     "name": "stdout",
     "output_type": "stream",
     "text": [
      "\r",
      "\u001b[K     |████████████████████████████████| 46 kB 2.3 MB/s \r\n",
      "\u001b[33mWARNING: Ignoring invalid distribution -umpy (/opt/anaconda3/lib/python3.9/site-packages)\u001b[0m\r\n"
     ]
    },
    {
     "name": "stdout",
     "output_type": "stream",
     "text": [
      "\u001b[?25hInstalling collected packages: pyshp\r\n"
     ]
    },
    {
     "name": "stdout",
     "output_type": "stream",
     "text": [
      "\u001b[33mWARNING: Ignoring invalid distribution -umpy (/opt/anaconda3/lib/python3.9/site-packages)\u001b[0m\r\n",
      "Successfully installed pyshp-2.3.1\r\n",
      "\u001b[33mWARNING: Ignoring invalid distribution -umpy (/opt/anaconda3/lib/python3.9/site-packages)\u001b[0m\r\n",
      "\u001b[33mWARNING: Ignoring invalid distribution -umpy (/opt/anaconda3/lib/python3.9/site-packages)\u001b[0m\r\n",
      "\u001b[33mWARNING: Ignoring invalid distribution -umpy (/opt/anaconda3/lib/python3.9/site-packages)\u001b[0m\r\n"
     ]
    },
    {
     "name": "stdout",
     "output_type": "stream",
     "text": [
      "\u001b[33mWARNING: Ignoring invalid distribution -umpy (/opt/anaconda3/lib/python3.9/site-packages)\u001b[0m\r\n",
      "\u001b[33mWARNING: Ignoring invalid distribution -umpy (/opt/anaconda3/lib/python3.9/site-packages)\u001b[0m\r\n",
      "Requirement already satisfied: shapely in /opt/anaconda3/lib/python3.9/site-packages (2.0.1)\r\n",
      "Requirement already satisfied: numpy>=1.14 in /opt/anaconda3/lib/python3.9/site-packages (from shapely) (1.22.4)\r\n",
      "\u001b[33mWARNING: Ignoring invalid distribution -umpy (/opt/anaconda3/lib/python3.9/site-packages)\u001b[0m\r\n"
     ]
    },
    {
     "name": "stdout",
     "output_type": "stream",
     "text": [
      "\u001b[33mWARNING: Ignoring invalid distribution -umpy (/opt/anaconda3/lib/python3.9/site-packages)\u001b[0m\r\n",
      "\u001b[33mWARNING: Ignoring invalid distribution -umpy (/opt/anaconda3/lib/python3.9/site-packages)\u001b[0m\r\n",
      "\u001b[33mWARNING: Ignoring invalid distribution -umpy (/opt/anaconda3/lib/python3.9/site-packages)\u001b[0m\r\n"
     ]
    }
   ],
   "source": [
    "get_ipython().system('pip install db-dtypes')\n",
    "get_ipython().system('pip install xgboost')\n",
    "get_ipython().system('pip install impyute')\n",
    "get_ipython().system('pip install prophet')\n",
    "get_ipython().system('pip install plotly')\n",
    "get_ipython().system('pip install plotly-geo')\n",
    "get_ipython().system('pip install geopandas')\n",
    "get_ipython().system('pip install pyshp')\n",
    "get_ipython().system('pip install shapely')"
   ]
  }
 ],
 "metadata": {
  "jupytext": {
   "cell_metadata_filter": "-all",
   "main_language": "python",
   "notebook_metadata_filter": "-all"
  },
  "language_info": {
   "codemirror_mode": {
    "name": "ipython",
    "version": 3
   },
   "file_extension": ".py",
   "mimetype": "text/x-python",
   "name": "python",
   "nbconvert_exporter": "python",
   "pygments_lexer": "ipython3",
   "version": "3.9.12"
  }
 },
 "nbformat": 4,
 "nbformat_minor": 5
}
