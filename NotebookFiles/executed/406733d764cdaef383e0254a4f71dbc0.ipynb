{
 "cells": [
  {
   "cell_type": "code",
   "execution_count": 1,
   "id": "261de933",
   "metadata": {
    "execution": {
     "iopub.execute_input": "2023-05-10T00:38:08.951542Z",
     "iopub.status.busy": "2023-05-10T00:38:08.950936Z",
     "iopub.status.idle": "2023-05-10T00:38:11.794232Z",
     "shell.execute_reply": "2023-05-10T00:38:11.793542Z"
    }
   },
   "outputs": [
    {
     "name": "stdout",
     "output_type": "stream",
     "text": [
      "\u001b[33mWARNING: Ignoring invalid distribution -umpy (/opt/anaconda3/lib/python3.9/site-packages)\u001b[0m\r\n",
      "\u001b[33mWARNING: Ignoring invalid distribution -umpy (/opt/anaconda3/lib/python3.9/site-packages)\u001b[0m\r\n",
      "Requirement already satisfied: google-cloud-bigquery in /opt/anaconda3/lib/python3.9/site-packages (3.4.1)\r\n",
      "Requirement already satisfied: requests<3.0.0dev,>=2.21.0 in /opt/anaconda3/lib/python3.9/site-packages (from google-cloud-bigquery) (2.26.0)\r\n",
      "Requirement already satisfied: google-api-core[grpc]!=2.0.*,!=2.1.*,!=2.2.*,!=2.3.0,<3.0.0dev,>=1.31.5 in /opt/anaconda3/lib/python3.9/site-packages (from google-cloud-bigquery) (2.11.0)\r\n",
      "Requirement already satisfied: google-resumable-media<3.0dev,>=0.6.0 in /opt/anaconda3/lib/python3.9/site-packages (from google-cloud-bigquery) (2.4.0)\r\n",
      "Requirement already satisfied: proto-plus<2.0.0dev,>=1.15.0 in /opt/anaconda3/lib/python3.9/site-packages (from google-cloud-bigquery) (1.22.2)\r\n",
      "Requirement already satisfied: python-dateutil<3.0dev,>=2.7.2 in /opt/anaconda3/lib/python3.9/site-packages (from google-cloud-bigquery) (2.8.2)\r\n",
      "Requirement already satisfied: protobuf!=3.20.0,!=3.20.1,!=4.21.0,!=4.21.1,!=4.21.2,!=4.21.3,!=4.21.4,!=4.21.5,<5.0.0dev,>=3.19.5 in /opt/anaconda3/lib/python3.9/site-packages (from google-cloud-bigquery) (4.21.12)\r\n",
      "Requirement already satisfied: grpcio<2.0dev,>=1.47.0 in /opt/anaconda3/lib/python3.9/site-packages (from google-cloud-bigquery) (1.54.0)\r\n",
      "Requirement already satisfied: packaging<22.0.0dev,>=14.3 in /opt/anaconda3/lib/python3.9/site-packages (from google-cloud-bigquery) (21.3)\r\n",
      "Requirement already satisfied: google-cloud-core<3.0.0dev,>=1.4.1 in /opt/anaconda3/lib/python3.9/site-packages (from google-cloud-bigquery) (2.3.2)\r\n"
     ]
    },
    {
     "name": "stdout",
     "output_type": "stream",
     "text": [
      "Requirement already satisfied: google-auth<3.0dev,>=2.14.1 in /opt/anaconda3/lib/python3.9/site-packages (from google-api-core[grpc]!=2.0.*,!=2.1.*,!=2.2.*,!=2.3.0,<3.0.0dev,>=1.31.5->google-cloud-bigquery) (2.16.0)\r\n",
      "Requirement already satisfied: googleapis-common-protos<2.0dev,>=1.56.2 in /opt/anaconda3/lib/python3.9/site-packages (from google-api-core[grpc]!=2.0.*,!=2.1.*,!=2.2.*,!=2.3.0,<3.0.0dev,>=1.31.5->google-cloud-bigquery) (1.58.0)\r\n",
      "Requirement already satisfied: grpcio-status<2.0dev,>=1.33.2 in /opt/anaconda3/lib/python3.9/site-packages (from google-api-core[grpc]!=2.0.*,!=2.1.*,!=2.2.*,!=2.3.0,<3.0.0dev,>=1.31.5->google-cloud-bigquery) (1.51.1)\r\n",
      "Requirement already satisfied: pyasn1-modules>=0.2.1 in /opt/anaconda3/lib/python3.9/site-packages (from google-auth<3.0dev,>=2.14.1->google-api-core[grpc]!=2.0.*,!=2.1.*,!=2.2.*,!=2.3.0,<3.0.0dev,>=1.31.5->google-cloud-bigquery) (0.2.8)\r\n",
      "Requirement already satisfied: cachetools<6.0,>=2.0.0 in /opt/anaconda3/lib/python3.9/site-packages (from google-auth<3.0dev,>=2.14.1->google-api-core[grpc]!=2.0.*,!=2.1.*,!=2.2.*,!=2.3.0,<3.0.0dev,>=1.31.5->google-cloud-bigquery) (5.2.1)\r\n",
      "Requirement already satisfied: six>=1.9.0 in /opt/anaconda3/lib/python3.9/site-packages (from google-auth<3.0dev,>=2.14.1->google-api-core[grpc]!=2.0.*,!=2.1.*,!=2.2.*,!=2.3.0,<3.0.0dev,>=1.31.5->google-cloud-bigquery) (1.16.0)\r\n",
      "Requirement already satisfied: rsa<5,>=3.1.4 in /opt/anaconda3/lib/python3.9/site-packages (from google-auth<3.0dev,>=2.14.1->google-api-core[grpc]!=2.0.*,!=2.1.*,!=2.2.*,!=2.3.0,<3.0.0dev,>=1.31.5->google-cloud-bigquery) (4.9)\r\n",
      "Requirement already satisfied: google-crc32c<2.0dev,>=1.0 in /opt/anaconda3/lib/python3.9/site-packages (from google-resumable-media<3.0dev,>=0.6.0->google-cloud-bigquery) (1.5.0)\r\n",
      "Requirement already satisfied: pyparsing!=3.0.5,>=2.0.2 in /opt/anaconda3/lib/python3.9/site-packages (from packaging<22.0.0dev,>=14.3->google-cloud-bigquery) (3.0.4)\r\n",
      "Requirement already satisfied: pyasn1<0.5.0,>=0.4.6 in /opt/anaconda3/lib/python3.9/site-packages (from pyasn1-modules>=0.2.1->google-auth<3.0dev,>=2.14.1->google-api-core[grpc]!=2.0.*,!=2.1.*,!=2.2.*,!=2.3.0,<3.0.0dev,>=1.31.5->google-cloud-bigquery) (0.4.8)\r\n"
     ]
    },
    {
     "name": "stdout",
     "output_type": "stream",
     "text": [
      "Requirement already satisfied: idna<4,>=2.5 in /opt/anaconda3/lib/python3.9/site-packages (from requests<3.0.0dev,>=2.21.0->google-cloud-bigquery) (3.2)\r\n",
      "Requirement already satisfied: urllib3<1.27,>=1.21.1 in /opt/anaconda3/lib/python3.9/site-packages (from requests<3.0.0dev,>=2.21.0->google-cloud-bigquery) (1.26.7)\r\n",
      "Requirement already satisfied: charset-normalizer~=2.0.0 in /opt/anaconda3/lib/python3.9/site-packages (from requests<3.0.0dev,>=2.21.0->google-cloud-bigquery) (2.0.4)\r\n",
      "Requirement already satisfied: certifi>=2017.4.17 in /opt/anaconda3/lib/python3.9/site-packages (from requests<3.0.0dev,>=2.21.0->google-cloud-bigquery) (2021.10.8)\r\n",
      "\u001b[33mWARNING: Ignoring invalid distribution -umpy (/opt/anaconda3/lib/python3.9/site-packages)\u001b[0m\r\n"
     ]
    },
    {
     "name": "stdout",
     "output_type": "stream",
     "text": [
      "\u001b[33mWARNING: Ignoring invalid distribution -umpy (/opt/anaconda3/lib/python3.9/site-packages)\u001b[0m\r\n",
      "\u001b[33mWARNING: Ignoring invalid distribution -umpy (/opt/anaconda3/lib/python3.9/site-packages)\u001b[0m\r\n",
      "\u001b[33mWARNING: Ignoring invalid distribution -umpy (/opt/anaconda3/lib/python3.9/site-packages)\u001b[0m\r\n"
     ]
    },
    {
     "name": "stdout",
     "output_type": "stream",
     "text": [
      "zsh:1: no matches found: google-cloud-bigquery[pandas]\r\n"
     ]
    }
   ],
   "source": [
    "get_ipython().system('pip install google-cloud-bigquery')\n",
    "get_ipython().system('pip install google-cloud-bigquery[pandas]')"
   ]
  },
  {
   "cell_type": "code",
   "execution_count": 2,
   "id": "7c3aafba",
   "metadata": {
    "execution": {
     "iopub.execute_input": "2023-05-10T00:38:11.797245Z",
     "iopub.status.busy": "2023-05-10T00:38:11.797005Z",
     "iopub.status.idle": "2023-05-10T00:38:12.441412Z",
     "shell.execute_reply": "2023-05-10T00:38:12.441126Z"
    }
   },
   "outputs": [],
   "source": [
    "import pandas as pd\n",
    "import numpy as np\n",
    "import matplotlib\n",
    "import matplotlib.pyplot as plt\n",
    "import seaborn as sns\n",
    "get_ipython().run_line_magic('matplotlib', 'inline')"
   ]
  },
  {
   "cell_type": "code",
   "execution_count": 3,
   "id": "85551fbd",
   "metadata": {
    "execution": {
     "iopub.execute_input": "2023-05-10T00:38:12.443084Z",
     "iopub.status.busy": "2023-05-10T00:38:12.442954Z",
     "iopub.status.idle": "2023-05-10T00:38:12.558942Z",
     "shell.execute_reply": "2023-05-10T00:38:12.558656Z"
    }
   },
   "outputs": [],
   "source": [
    "import os\n",
    "from google.cloud import bigquery\n",
    "from google.oauth2 import service_account\n",
    "from google.cloud.bigquery import magics"
   ]
  },
  {
   "cell_type": "code",
   "execution_count": 4,
   "id": "4ae36331",
   "metadata": {
    "execution": {
     "iopub.execute_input": "2023-05-10T00:38:12.560717Z",
     "iopub.status.busy": "2023-05-10T00:38:12.560558Z",
     "iopub.status.idle": "2023-05-10T00:38:12.632558Z",
     "shell.execute_reply": "2023-05-10T00:38:12.632263Z"
    }
   },
   "outputs": [
    {
     "ename": "NameError",
     "evalue": "name 'BIGQUERY' is not defined",
     "output_type": "error",
     "traceback": [
      "\u001b[0;31m---------------------------------------------------------------------------\u001b[0m",
      "\u001b[0;31mNameError\u001b[0m                                 Traceback (most recent call last)",
      "Cell \u001b[0;32mIn [4], line 2\u001b[0m\n\u001b[1;32m      1\u001b[0m BIGQUERY_PROJECT \u001b[38;5;241m=\u001b[39m \u001b[38;5;124m'\u001b[39m\u001b[38;5;124mironhacks-data\u001b[39m\u001b[38;5;124m'\u001b[39m\n\u001b[0;32m----> 2\u001b[0m bigquery_client \u001b[38;5;241m=\u001b[39m bigquery\u001b[38;5;241m.\u001b[39mClient(project\u001b[38;5;241m=\u001b[39m\u001b[43mBIGQUERY\u001b[49m\u001b[38;5;241m-\u001b[39mPROJECT)\n",
      "\u001b[0;31mNameError\u001b[0m: name 'BIGQUERY' is not defined"
     ]
    }
   ],
   "source": [
    "BIGQUERY_PROJECT = 'ironhacks-data'\n",
    "bigquery_client = bigquery.Client(project=BIGQUERY-PROJECT)"
   ]
  },
  {
   "cell_type": "code",
   "execution_count": 5,
   "id": "9a317b32",
   "metadata": {
    "execution": {
     "iopub.execute_input": "2023-05-10T00:38:12.634159Z",
     "iopub.status.busy": "2023-05-10T00:38:12.634045Z",
     "iopub.status.idle": "2023-05-10T00:38:12.641824Z",
     "shell.execute_reply": "2023-05-10T00:38:12.641445Z"
    }
   },
   "outputs": [],
   "source": [
    "BIGQUERY_PROJECT = 'ironhacks-data'\n",
    "bigquery_client = bigquery.Client(project=BIGQUERY_PROJECT)"
   ]
  },
  {
   "cell_type": "code",
   "execution_count": 6,
   "id": "03624c75",
   "metadata": {
    "execution": {
     "iopub.execute_input": "2023-05-10T00:38:12.643409Z",
     "iopub.status.busy": "2023-05-10T00:38:12.643320Z",
     "iopub.status.idle": "2023-05-10T00:38:12.645330Z",
     "shell.execute_reply": "2023-05-10T00:38:12.645084Z"
    }
   },
   "outputs": [],
   "source": [
    "query = \"\"\"\n",
    "select * from 'ironhacks-data.ironhacks_training.weather_data'\n",
    "\"\"\""
   ]
  },
  {
   "cell_type": "code",
   "execution_count": 7,
   "id": "7fc4274d",
   "metadata": {
    "execution": {
     "iopub.execute_input": "2023-05-10T00:38:12.646714Z",
     "iopub.status.busy": "2023-05-10T00:38:12.646631Z",
     "iopub.status.idle": "2023-05-10T00:38:13.231387Z",
     "shell.execute_reply": "2023-05-10T00:38:13.231069Z"
    }
   },
   "outputs": [
    {
     "ename": "BadRequest",
     "evalue": "400 Syntax error: Unexpected string literal 'ironhacks-data.ironhacks_training.weather_data' at [2:15]\n\nLocation: US\nJob ID: aa9c051c-94f8-4a0c-8527-8a2ce9557dfa\n",
     "output_type": "error",
     "traceback": [
      "\u001b[0;31m---------------------------------------------------------------------------\u001b[0m",
      "\u001b[0;31mBadRequest\u001b[0m                                Traceback (most recent call last)",
      "Cell \u001b[0;32mIn [7], line 2\u001b[0m\n\u001b[1;32m      1\u001b[0m query_job \u001b[38;5;241m=\u001b[39m bigquery_client\u001b[38;5;241m.\u001b[39mquery(query)\n\u001b[0;32m----> 2\u001b[0m data \u001b[38;5;241m=\u001b[39m \u001b[43mquery_job\u001b[49m\u001b[38;5;241;43m.\u001b[39;49m\u001b[43mto_dataframe\u001b[49m\u001b[43m(\u001b[49m\u001b[43m)\u001b[49m\n\u001b[1;32m      3\u001b[0m data[\u001b[38;5;124m'\u001b[39m\u001b[38;5;124mdate\u001b[39m\u001b[38;5;124m'\u001b[39m]\u001b[38;5;241m=\u001b[39mpd\u001b[38;5;241m.\u001b[39mto_dataframe(data[\u001b[38;5;124m'\u001b[39m\u001b[38;5;124mdate\u001b[39m\u001b[38;5;124m'\u001b[39m])\n\u001b[1;32m      4\u001b[0m data\u001b[38;5;241m.\u001b[39mhead()\n",
      "File \u001b[0;32m/opt/homebrew/lib/python3.9/site-packages/google/cloud/bigquery/job/query.py:1687\u001b[0m, in \u001b[0;36mQueryJob.to_dataframe\u001b[0;34m(self, bqstorage_client, dtypes, progress_bar_type, create_bqstorage_client, max_results, geography_as_object)\u001b[0m\n\u001b[1;32m   1612\u001b[0m \u001b[38;5;28;01mdef\u001b[39;00m \u001b[38;5;21mto_dataframe\u001b[39m(\n\u001b[1;32m   1613\u001b[0m     \u001b[38;5;28mself\u001b[39m,\n\u001b[1;32m   1614\u001b[0m     bqstorage_client: Optional[\u001b[38;5;124m\"\u001b[39m\u001b[38;5;124mbigquery_storage.BigQueryReadClient\u001b[39m\u001b[38;5;124m\"\u001b[39m] \u001b[38;5;241m=\u001b[39m \u001b[38;5;28;01mNone\u001b[39;00m,\n\u001b[0;32m   (...)\u001b[0m\n\u001b[1;32m   1619\u001b[0m     geography_as_object: \u001b[38;5;28mbool\u001b[39m \u001b[38;5;241m=\u001b[39m \u001b[38;5;28;01mFalse\u001b[39;00m,\n\u001b[1;32m   1620\u001b[0m ) \u001b[38;5;241m-\u001b[39m\u001b[38;5;241m>\u001b[39m \u001b[38;5;124m\"\u001b[39m\u001b[38;5;124mpandas.DataFrame\u001b[39m\u001b[38;5;124m\"\u001b[39m:\n\u001b[1;32m   1621\u001b[0m     \u001b[38;5;124;03m\"\"\"Return a pandas DataFrame from a QueryJob\u001b[39;00m\n\u001b[1;32m   1622\u001b[0m \n\u001b[1;32m   1623\u001b[0m \u001b[38;5;124;03m    Args:\u001b[39;00m\n\u001b[0;32m   (...)\u001b[0m\n\u001b[1;32m   1685\u001b[0m \u001b[38;5;124;03m            :mod:`shapely` library cannot be imported.\u001b[39;00m\n\u001b[1;32m   1686\u001b[0m \u001b[38;5;124;03m    \"\"\"\u001b[39;00m\n\u001b[0;32m-> 1687\u001b[0m     query_result \u001b[38;5;241m=\u001b[39m \u001b[43mwait_for_query\u001b[49m\u001b[43m(\u001b[49m\u001b[38;5;28;43mself\u001b[39;49m\u001b[43m,\u001b[49m\u001b[43m \u001b[49m\u001b[43mprogress_bar_type\u001b[49m\u001b[43m,\u001b[49m\u001b[43m \u001b[49m\u001b[43mmax_results\u001b[49m\u001b[38;5;241;43m=\u001b[39;49m\u001b[43mmax_results\u001b[49m\u001b[43m)\u001b[49m\n\u001b[1;32m   1688\u001b[0m     \u001b[38;5;28;01mreturn\u001b[39;00m query_result\u001b[38;5;241m.\u001b[39mto_dataframe(\n\u001b[1;32m   1689\u001b[0m         bqstorage_client\u001b[38;5;241m=\u001b[39mbqstorage_client,\n\u001b[1;32m   1690\u001b[0m         dtypes\u001b[38;5;241m=\u001b[39mdtypes,\n\u001b[0;32m   (...)\u001b[0m\n\u001b[1;32m   1693\u001b[0m         geography_as_object\u001b[38;5;241m=\u001b[39mgeography_as_object,\n\u001b[1;32m   1694\u001b[0m     )\n",
      "File \u001b[0;32m/opt/homebrew/lib/python3.9/site-packages/google/cloud/bigquery/_tqdm_helpers.py:104\u001b[0m, in \u001b[0;36mwait_for_query\u001b[0;34m(query_job, progress_bar_type, max_results)\u001b[0m\n\u001b[1;32m    100\u001b[0m progress_bar \u001b[38;5;241m=\u001b[39m get_progress_bar(\n\u001b[1;32m    101\u001b[0m     progress_bar_type, \u001b[38;5;124m\"\u001b[39m\u001b[38;5;124mQuery is running\u001b[39m\u001b[38;5;124m\"\u001b[39m, default_total, \u001b[38;5;124m\"\u001b[39m\u001b[38;5;124mquery\u001b[39m\u001b[38;5;124m\"\u001b[39m\n\u001b[1;32m    102\u001b[0m )\n\u001b[1;32m    103\u001b[0m \u001b[38;5;28;01mif\u001b[39;00m progress_bar \u001b[38;5;129;01mis\u001b[39;00m \u001b[38;5;28;01mNone\u001b[39;00m:\n\u001b[0;32m--> 104\u001b[0m     \u001b[38;5;28;01mreturn\u001b[39;00m \u001b[43mquery_job\u001b[49m\u001b[38;5;241;43m.\u001b[39;49m\u001b[43mresult\u001b[49m\u001b[43m(\u001b[49m\u001b[43mmax_results\u001b[49m\u001b[38;5;241;43m=\u001b[39;49m\u001b[43mmax_results\u001b[49m\u001b[43m)\u001b[49m\n\u001b[1;32m    106\u001b[0m i \u001b[38;5;241m=\u001b[39m \u001b[38;5;241m0\u001b[39m\n\u001b[1;32m    107\u001b[0m \u001b[38;5;28;01mwhile\u001b[39;00m \u001b[38;5;28;01mTrue\u001b[39;00m:\n",
      "File \u001b[0;32m/opt/homebrew/lib/python3.9/site-packages/google/cloud/bigquery/job/query.py:1499\u001b[0m, in \u001b[0;36mQueryJob.result\u001b[0;34m(self, page_size, max_results, retry, timeout, start_index, job_retry)\u001b[0m\n\u001b[1;32m   1496\u001b[0m     \u001b[38;5;28;01mif\u001b[39;00m retry_do_query \u001b[38;5;129;01mis\u001b[39;00m \u001b[38;5;129;01mnot\u001b[39;00m \u001b[38;5;28;01mNone\u001b[39;00m \u001b[38;5;129;01mand\u001b[39;00m job_retry \u001b[38;5;129;01mis\u001b[39;00m \u001b[38;5;129;01mnot\u001b[39;00m \u001b[38;5;28;01mNone\u001b[39;00m:\n\u001b[1;32m   1497\u001b[0m         do_get_result \u001b[38;5;241m=\u001b[39m job_retry(do_get_result)\n\u001b[0;32m-> 1499\u001b[0m     \u001b[43mdo_get_result\u001b[49m\u001b[43m(\u001b[49m\u001b[43m)\u001b[49m\n\u001b[1;32m   1501\u001b[0m \u001b[38;5;28;01mexcept\u001b[39;00m exceptions\u001b[38;5;241m.\u001b[39mGoogleAPICallError \u001b[38;5;28;01mas\u001b[39;00m exc:\n\u001b[1;32m   1502\u001b[0m     exc\u001b[38;5;241m.\u001b[39mmessage \u001b[38;5;241m=\u001b[39m _EXCEPTION_FOOTER_TEMPLATE\u001b[38;5;241m.\u001b[39mformat(\n\u001b[1;32m   1503\u001b[0m         message\u001b[38;5;241m=\u001b[39mexc\u001b[38;5;241m.\u001b[39mmessage, location\u001b[38;5;241m=\u001b[39m\u001b[38;5;28mself\u001b[39m\u001b[38;5;241m.\u001b[39mlocation, job_id\u001b[38;5;241m=\u001b[39m\u001b[38;5;28mself\u001b[39m\u001b[38;5;241m.\u001b[39mjob_id\n\u001b[1;32m   1504\u001b[0m     )\n",
      "File \u001b[0;32m/opt/homebrew/lib/python3.9/site-packages/google/api_core/retry.py:349\u001b[0m, in \u001b[0;36mRetry.__call__.<locals>.retry_wrapped_func\u001b[0;34m(*args, **kwargs)\u001b[0m\n\u001b[1;32m    345\u001b[0m target \u001b[38;5;241m=\u001b[39m functools\u001b[38;5;241m.\u001b[39mpartial(func, \u001b[38;5;241m*\u001b[39margs, \u001b[38;5;241m*\u001b[39m\u001b[38;5;241m*\u001b[39mkwargs)\n\u001b[1;32m    346\u001b[0m sleep_generator \u001b[38;5;241m=\u001b[39m exponential_sleep_generator(\n\u001b[1;32m    347\u001b[0m     \u001b[38;5;28mself\u001b[39m\u001b[38;5;241m.\u001b[39m_initial, \u001b[38;5;28mself\u001b[39m\u001b[38;5;241m.\u001b[39m_maximum, multiplier\u001b[38;5;241m=\u001b[39m\u001b[38;5;28mself\u001b[39m\u001b[38;5;241m.\u001b[39m_multiplier\n\u001b[1;32m    348\u001b[0m )\n\u001b[0;32m--> 349\u001b[0m \u001b[38;5;28;01mreturn\u001b[39;00m \u001b[43mretry_target\u001b[49m\u001b[43m(\u001b[49m\n\u001b[1;32m    350\u001b[0m \u001b[43m    \u001b[49m\u001b[43mtarget\u001b[49m\u001b[43m,\u001b[49m\n\u001b[1;32m    351\u001b[0m \u001b[43m    \u001b[49m\u001b[38;5;28;43mself\u001b[39;49m\u001b[38;5;241;43m.\u001b[39;49m\u001b[43m_predicate\u001b[49m\u001b[43m,\u001b[49m\n\u001b[1;32m    352\u001b[0m \u001b[43m    \u001b[49m\u001b[43msleep_generator\u001b[49m\u001b[43m,\u001b[49m\n\u001b[1;32m    353\u001b[0m \u001b[43m    \u001b[49m\u001b[38;5;28;43mself\u001b[39;49m\u001b[38;5;241;43m.\u001b[39;49m\u001b[43m_timeout\u001b[49m\u001b[43m,\u001b[49m\n\u001b[1;32m    354\u001b[0m \u001b[43m    \u001b[49m\u001b[43mon_error\u001b[49m\u001b[38;5;241;43m=\u001b[39;49m\u001b[43mon_error\u001b[49m\u001b[43m,\u001b[49m\n\u001b[1;32m    355\u001b[0m \u001b[43m\u001b[49m\u001b[43m)\u001b[49m\n",
      "File \u001b[0;32m/opt/homebrew/lib/python3.9/site-packages/google/api_core/retry.py:191\u001b[0m, in \u001b[0;36mretry_target\u001b[0;34m(target, predicate, sleep_generator, timeout, on_error, **kwargs)\u001b[0m\n\u001b[1;32m    189\u001b[0m \u001b[38;5;28;01mfor\u001b[39;00m sleep \u001b[38;5;129;01min\u001b[39;00m sleep_generator:\n\u001b[1;32m    190\u001b[0m     \u001b[38;5;28;01mtry\u001b[39;00m:\n\u001b[0;32m--> 191\u001b[0m         \u001b[38;5;28;01mreturn\u001b[39;00m \u001b[43mtarget\u001b[49m\u001b[43m(\u001b[49m\u001b[43m)\u001b[49m\n\u001b[1;32m    193\u001b[0m     \u001b[38;5;66;03m# pylint: disable=broad-except\u001b[39;00m\n\u001b[1;32m    194\u001b[0m     \u001b[38;5;66;03m# This function explicitly must deal with broad exceptions.\u001b[39;00m\n\u001b[1;32m    195\u001b[0m     \u001b[38;5;28;01mexcept\u001b[39;00m \u001b[38;5;167;01mException\u001b[39;00m \u001b[38;5;28;01mas\u001b[39;00m exc:\n",
      "File \u001b[0;32m/opt/homebrew/lib/python3.9/site-packages/google/cloud/bigquery/job/query.py:1489\u001b[0m, in \u001b[0;36mQueryJob.result.<locals>.do_get_result\u001b[0;34m()\u001b[0m\n\u001b[1;32m   1486\u001b[0m     \u001b[38;5;28mself\u001b[39m\u001b[38;5;241m.\u001b[39m_retry_do_query \u001b[38;5;241m=\u001b[39m retry_do_query\n\u001b[1;32m   1487\u001b[0m     \u001b[38;5;28mself\u001b[39m\u001b[38;5;241m.\u001b[39m_job_retry \u001b[38;5;241m=\u001b[39m job_retry\n\u001b[0;32m-> 1489\u001b[0m \u001b[38;5;28;43msuper\u001b[39;49m\u001b[43m(\u001b[49m\u001b[43mQueryJob\u001b[49m\u001b[43m,\u001b[49m\u001b[43m \u001b[49m\u001b[38;5;28;43mself\u001b[39;49m\u001b[43m)\u001b[49m\u001b[38;5;241;43m.\u001b[39;49m\u001b[43mresult\u001b[49m\u001b[43m(\u001b[49m\u001b[43mretry\u001b[49m\u001b[38;5;241;43m=\u001b[39;49m\u001b[43mretry\u001b[49m\u001b[43m,\u001b[49m\u001b[43m \u001b[49m\u001b[43mtimeout\u001b[49m\u001b[38;5;241;43m=\u001b[39;49m\u001b[43mtimeout\u001b[49m\u001b[43m)\u001b[49m\n\u001b[1;32m   1491\u001b[0m \u001b[38;5;66;03m# Since the job could already be \"done\" (e.g. got a finished job\u001b[39;00m\n\u001b[1;32m   1492\u001b[0m \u001b[38;5;66;03m# via client.get_job), the superclass call to done() might not\u001b[39;00m\n\u001b[1;32m   1493\u001b[0m \u001b[38;5;66;03m# set the self._query_results cache.\u001b[39;00m\n\u001b[1;32m   1494\u001b[0m \u001b[38;5;28mself\u001b[39m\u001b[38;5;241m.\u001b[39m_reload_query_results(retry\u001b[38;5;241m=\u001b[39mretry, timeout\u001b[38;5;241m=\u001b[39mtimeout)\n",
      "File \u001b[0;32m/opt/homebrew/lib/python3.9/site-packages/google/cloud/bigquery/job/base.py:728\u001b[0m, in \u001b[0;36m_AsyncJob.result\u001b[0;34m(self, retry, timeout)\u001b[0m\n\u001b[1;32m    725\u001b[0m     \u001b[38;5;28mself\u001b[39m\u001b[38;5;241m.\u001b[39m_begin(retry\u001b[38;5;241m=\u001b[39mretry, timeout\u001b[38;5;241m=\u001b[39mtimeout)\n\u001b[1;32m    727\u001b[0m kwargs \u001b[38;5;241m=\u001b[39m {} \u001b[38;5;28;01mif\u001b[39;00m retry \u001b[38;5;129;01mis\u001b[39;00m DEFAULT_RETRY \u001b[38;5;28;01melse\u001b[39;00m {\u001b[38;5;124m\"\u001b[39m\u001b[38;5;124mretry\u001b[39m\u001b[38;5;124m\"\u001b[39m: retry}\n\u001b[0;32m--> 728\u001b[0m \u001b[38;5;28;01mreturn\u001b[39;00m \u001b[38;5;28;43msuper\u001b[39;49m\u001b[43m(\u001b[49m\u001b[43m_AsyncJob\u001b[49m\u001b[43m,\u001b[49m\u001b[43m \u001b[49m\u001b[38;5;28;43mself\u001b[39;49m\u001b[43m)\u001b[49m\u001b[38;5;241;43m.\u001b[39;49m\u001b[43mresult\u001b[49m\u001b[43m(\u001b[49m\u001b[43mtimeout\u001b[49m\u001b[38;5;241;43m=\u001b[39;49m\u001b[43mtimeout\u001b[49m\u001b[43m,\u001b[49m\u001b[43m \u001b[49m\u001b[38;5;241;43m*\u001b[39;49m\u001b[38;5;241;43m*\u001b[39;49m\u001b[43mkwargs\u001b[49m\u001b[43m)\u001b[49m\n",
      "File \u001b[0;32m/opt/homebrew/lib/python3.9/site-packages/google/api_core/future/polling.py:261\u001b[0m, in \u001b[0;36mPollingFuture.result\u001b[0;34m(self, timeout, retry, polling)\u001b[0m\n\u001b[1;32m    256\u001b[0m \u001b[38;5;28mself\u001b[39m\u001b[38;5;241m.\u001b[39m_blocking_poll(timeout\u001b[38;5;241m=\u001b[39mtimeout, retry\u001b[38;5;241m=\u001b[39mretry, polling\u001b[38;5;241m=\u001b[39mpolling)\n\u001b[1;32m    258\u001b[0m \u001b[38;5;28;01mif\u001b[39;00m \u001b[38;5;28mself\u001b[39m\u001b[38;5;241m.\u001b[39m_exception \u001b[38;5;129;01mis\u001b[39;00m \u001b[38;5;129;01mnot\u001b[39;00m \u001b[38;5;28;01mNone\u001b[39;00m:\n\u001b[1;32m    259\u001b[0m     \u001b[38;5;66;03m# pylint: disable=raising-bad-type\u001b[39;00m\n\u001b[1;32m    260\u001b[0m     \u001b[38;5;66;03m# Pylint doesn't recognize that this is valid in this case.\u001b[39;00m\n\u001b[0;32m--> 261\u001b[0m     \u001b[38;5;28;01mraise\u001b[39;00m \u001b[38;5;28mself\u001b[39m\u001b[38;5;241m.\u001b[39m_exception\n\u001b[1;32m    263\u001b[0m \u001b[38;5;28;01mreturn\u001b[39;00m \u001b[38;5;28mself\u001b[39m\u001b[38;5;241m.\u001b[39m_result\n",
      "\u001b[0;31mBadRequest\u001b[0m: 400 Syntax error: Unexpected string literal 'ironhacks-data.ironhacks_training.weather_data' at [2:15]\n\nLocation: US\nJob ID: aa9c051c-94f8-4a0c-8527-8a2ce9557dfa\n"
     ]
    }
   ],
   "source": [
    "query_job = bigquery_client.query(query)\n",
    "data = query_job.to_dataframe()\n",
    "data['date']=pd.to_dataframe(data['date'])\n",
    "data.head()"
   ]
  },
  {
   "cell_type": "code",
   "execution_count": 8,
   "id": "8b802e2a",
   "metadata": {
    "execution": {
     "iopub.execute_input": "2023-05-10T00:38:13.233013Z",
     "iopub.status.busy": "2023-05-10T00:38:13.232901Z",
     "iopub.status.idle": "2023-05-10T00:38:13.234503Z",
     "shell.execute_reply": "2023-05-10T00:38:13.234281Z"
    }
   },
   "outputs": [],
   "source": [
    "query = \"\"\"\n",
    "select * from `ironhacks-data.ironhacks_training.weather_data`\n",
    "\"\"\""
   ]
  },
  {
   "cell_type": "code",
   "execution_count": 9,
   "id": "b18f1e61",
   "metadata": {
    "execution": {
     "iopub.execute_input": "2023-05-10T00:38:13.235836Z",
     "iopub.status.busy": "2023-05-10T00:38:13.235757Z",
     "iopub.status.idle": "2023-05-10T00:38:15.742567Z",
     "shell.execute_reply": "2023-05-10T00:38:15.742024Z"
    }
   },
   "outputs": [
    {
     "ename": "AttributeError",
     "evalue": "module 'pandas' has no attribute 'to_dataframe'",
     "output_type": "error",
     "traceback": [
      "\u001b[0;31m---------------------------------------------------------------------------\u001b[0m",
      "\u001b[0;31mAttributeError\u001b[0m                            Traceback (most recent call last)",
      "Cell \u001b[0;32mIn [9], line 3\u001b[0m\n\u001b[1;32m      1\u001b[0m query_job \u001b[38;5;241m=\u001b[39m bigquery_client\u001b[38;5;241m.\u001b[39mquery(query)\n\u001b[1;32m      2\u001b[0m data \u001b[38;5;241m=\u001b[39m query_job\u001b[38;5;241m.\u001b[39mto_dataframe()\n\u001b[0;32m----> 3\u001b[0m data[\u001b[38;5;124m'\u001b[39m\u001b[38;5;124mdate\u001b[39m\u001b[38;5;124m'\u001b[39m]\u001b[38;5;241m=\u001b[39m\u001b[43mpd\u001b[49m\u001b[38;5;241;43m.\u001b[39;49m\u001b[43mto_dataframe\u001b[49m(data[\u001b[38;5;124m'\u001b[39m\u001b[38;5;124mdate\u001b[39m\u001b[38;5;124m'\u001b[39m])\n\u001b[1;32m      4\u001b[0m data\u001b[38;5;241m.\u001b[39mhead()\n",
      "File \u001b[0;32m/opt/homebrew/lib/python3.9/site-packages/pandas/__init__.py:264\u001b[0m, in \u001b[0;36m__getattr__\u001b[0;34m(name)\u001b[0m\n\u001b[1;32m    260\u001b[0m     \u001b[38;5;28;01mfrom\u001b[39;00m \u001b[38;5;21;01mpandas\u001b[39;00m\u001b[38;5;21;01m.\u001b[39;00m\u001b[38;5;21;01mcore\u001b[39;00m\u001b[38;5;21;01m.\u001b[39;00m\u001b[38;5;21;01marrays\u001b[39;00m\u001b[38;5;21;01m.\u001b[39;00m\u001b[38;5;21;01msparse\u001b[39;00m \u001b[38;5;28;01mimport\u001b[39;00m SparseArray \u001b[38;5;28;01mas\u001b[39;00m _SparseArray\n\u001b[1;32m    262\u001b[0m     \u001b[38;5;28;01mreturn\u001b[39;00m _SparseArray\n\u001b[0;32m--> 264\u001b[0m \u001b[38;5;28;01mraise\u001b[39;00m \u001b[38;5;167;01mAttributeError\u001b[39;00m(\u001b[38;5;124mf\u001b[39m\u001b[38;5;124m\"\u001b[39m\u001b[38;5;124mmodule \u001b[39m\u001b[38;5;124m'\u001b[39m\u001b[38;5;124mpandas\u001b[39m\u001b[38;5;124m'\u001b[39m\u001b[38;5;124m has no attribute \u001b[39m\u001b[38;5;124m'\u001b[39m\u001b[38;5;132;01m{\u001b[39;00mname\u001b[38;5;132;01m}\u001b[39;00m\u001b[38;5;124m'\u001b[39m\u001b[38;5;124m\"\u001b[39m)\n",
      "\u001b[0;31mAttributeError\u001b[0m: module 'pandas' has no attribute 'to_dataframe'"
     ]
    }
   ],
   "source": [
    "query_job = bigquery_client.query(query)\n",
    "data = query_job.to_dataframe()\n",
    "data['date']=pd.to_dataframe(data['date'])\n",
    "data.head()"
   ]
  },
  {
   "cell_type": "code",
   "execution_count": 10,
   "id": "deabe5a9",
   "metadata": {
    "execution": {
     "iopub.execute_input": "2023-05-10T00:38:15.744848Z",
     "iopub.status.busy": "2023-05-10T00:38:15.744690Z",
     "iopub.status.idle": "2023-05-10T00:38:15.746755Z",
     "shell.execute_reply": "2023-05-10T00:38:15.746409Z"
    }
   },
   "outputs": [],
   "source": [
    "query = \"\"\"\n",
    "select * from `ironhacks-data.ironhacks_training.weather_data`\n",
    "\"\"\""
   ]
  },
  {
   "cell_type": "code",
   "execution_count": 11,
   "id": "a8a7908d",
   "metadata": {
    "execution": {
     "iopub.execute_input": "2023-05-10T00:38:15.748720Z",
     "iopub.status.busy": "2023-05-10T00:38:15.748570Z",
     "iopub.status.idle": "2023-05-10T00:38:17.255703Z",
     "shell.execute_reply": "2023-05-10T00:38:17.255040Z"
    }
   },
   "outputs": [
    {
     "data": {
      "text/html": [
       "<div>\n",
       "<style scoped>\n",
       "    .dataframe tbody tr th:only-of-type {\n",
       "        vertical-align: middle;\n",
       "    }\n",
       "\n",
       "    .dataframe tbody tr th {\n",
       "        vertical-align: top;\n",
       "    }\n",
       "\n",
       "    .dataframe thead th {\n",
       "        text-align: right;\n",
       "    }\n",
       "</style>\n",
       "<table border=\"1\" class=\"dataframe\">\n",
       "  <thead>\n",
       "    <tr style=\"text-align: right;\">\n",
       "      <th></th>\n",
       "      <th>date</th>\n",
       "      <th>max_rel_humidity</th>\n",
       "      <th>max_temperature</th>\n",
       "      <th>mean_temperature</th>\n",
       "      <th>min_rel_humidity</th>\n",
       "      <th>min_temperature</th>\n",
       "      <th>potential_water_deficit</th>\n",
       "      <th>precipitation_data</th>\n",
       "      <th>wind_speed</th>\n",
       "    </tr>\n",
       "  </thead>\n",
       "  <tbody>\n",
       "    <tr>\n",
       "      <th>0</th>\n",
       "      <td>2019-09-04</td>\n",
       "      <td>99.9498</td>\n",
       "      <td>25.4570</td>\n",
       "      <td>18.6242</td>\n",
       "      <td>56.4720</td>\n",
       "      <td>11.7913</td>\n",
       "      <td>-3.6142</td>\n",
       "      <td>0.0</td>\n",
       "      <td>3.6461</td>\n",
       "    </tr>\n",
       "    <tr>\n",
       "      <th>1</th>\n",
       "      <td>2020-02-16</td>\n",
       "      <td>84.4966</td>\n",
       "      <td>8.6228</td>\n",
       "      <td>3.1896</td>\n",
       "      <td>40.7666</td>\n",
       "      <td>-2.2436</td>\n",
       "      <td>-1.4307</td>\n",
       "      <td>0.0</td>\n",
       "      <td>2.2398</td>\n",
       "    </tr>\n",
       "    <tr>\n",
       "      <th>2</th>\n",
       "      <td>2019-12-19</td>\n",
       "      <td>95.9017</td>\n",
       "      <td>2.8886</td>\n",
       "      <td>-3.4884</td>\n",
       "      <td>39.0330</td>\n",
       "      <td>-9.8654</td>\n",
       "      <td>-0.9389</td>\n",
       "      <td>0.0</td>\n",
       "      <td>4.1230</td>\n",
       "    </tr>\n",
       "    <tr>\n",
       "      <th>3</th>\n",
       "      <td>2020-02-20</td>\n",
       "      <td>70.0359</td>\n",
       "      <td>0.7939</td>\n",
       "      <td>-4.0254</td>\n",
       "      <td>34.7544</td>\n",
       "      <td>-8.8446</td>\n",
       "      <td>-1.4427</td>\n",
       "      <td>0.0</td>\n",
       "      <td>4.8531</td>\n",
       "    </tr>\n",
       "    <tr>\n",
       "      <th>4</th>\n",
       "      <td>2019-12-23</td>\n",
       "      <td>97.1634</td>\n",
       "      <td>13.8411</td>\n",
       "      <td>5.7818</td>\n",
       "      <td>31.2553</td>\n",
       "      <td>-2.2774</td>\n",
       "      <td>-1.2787</td>\n",
       "      <td>0.0</td>\n",
       "      <td>2.3404</td>\n",
       "    </tr>\n",
       "  </tbody>\n",
       "</table>\n",
       "</div>"
      ],
      "text/plain": [
       "        date  max_rel_humidity  max_temperature  mean_temperature  \\\n",
       "0 2019-09-04           99.9498          25.4570           18.6242   \n",
       "1 2020-02-16           84.4966           8.6228            3.1896   \n",
       "2 2019-12-19           95.9017           2.8886           -3.4884   \n",
       "3 2020-02-20           70.0359           0.7939           -4.0254   \n",
       "4 2019-12-23           97.1634          13.8411            5.7818   \n",
       "\n",
       "   min_rel_humidity  min_temperature  potential_water_deficit  \\\n",
       "0           56.4720          11.7913                  -3.6142   \n",
       "1           40.7666          -2.2436                  -1.4307   \n",
       "2           39.0330          -9.8654                  -0.9389   \n",
       "3           34.7544          -8.8446                  -1.4427   \n",
       "4           31.2553          -2.2774                  -1.2787   \n",
       "\n",
       "   precipitation_data  wind_speed  \n",
       "0                 0.0      3.6461  \n",
       "1                 0.0      2.2398  \n",
       "2                 0.0      4.1230  \n",
       "3                 0.0      4.8531  \n",
       "4                 0.0      2.3404  "
      ]
     },
     "execution_count": 11,
     "metadata": {},
     "output_type": "execute_result"
    }
   ],
   "source": [
    "query_job = bigquery_client.query(query)\n",
    "data = query_job.to_dataframe()\n",
    "data['date']=pd.to_datetime(data['date'])\n",
    "data.head()"
   ]
  },
  {
   "cell_type": "code",
   "execution_count": 12,
   "id": "724f9b3c",
   "metadata": {
    "execution": {
     "iopub.execute_input": "2023-05-10T00:38:17.259350Z",
     "iopub.status.busy": "2023-05-10T00:38:17.258824Z",
     "iopub.status.idle": "2023-05-10T00:38:17.262253Z",
     "shell.execute_reply": "2023-05-10T00:38:17.261594Z"
    }
   },
   "outputs": [],
   "source": [
    "query = \"\"\"\n",
    "select * from `ironhacks-data.ironhacks_training.weather_data`\n",
    "\"\"\""
   ]
  },
  {
   "cell_type": "code",
   "execution_count": 13,
   "id": "d1f4da58",
   "metadata": {
    "execution": {
     "iopub.execute_input": "2023-05-10T00:38:17.265033Z",
     "iopub.status.busy": "2023-05-10T00:38:17.264841Z",
     "iopub.status.idle": "2023-05-10T00:38:19.034100Z",
     "shell.execute_reply": "2023-05-10T00:38:19.033469Z"
    }
   },
   "outputs": [
    {
     "name": "stdout",
     "output_type": "stream",
     "text": [
      "           date  max_rel_humidity  max_temperature  mean_temperature  \\\n",
      "0    2019-09-04           99.9498          25.4570           18.6242   \n",
      "1    2020-02-16           84.4966           8.6228            3.1896   \n",
      "2    2019-12-19           95.9017           2.8886           -3.4884   \n",
      "3    2020-02-20           70.0359           0.7939           -4.0254   \n",
      "4    2019-12-23           97.1634          13.8411            5.7818   \n",
      "..          ...               ...              ...               ...   \n",
      "360  2020-04-30           96.2771          10.2888            7.1714   \n",
      "361  2020-01-19           52.0808           3.7231           -1.8390   \n",
      "362  2020-05-09           65.8581          13.9009            7.3270   \n",
      "363  2020-06-25           75.0191          28.4810           22.4637   \n",
      "364  2020-01-28          100.0000           8.6565            0.7474   \n",
      "\n",
      "     min_rel_humidity  min_temperature  potential_water_deficit  \\\n",
      "0             56.4720          11.7913                  -3.6142   \n",
      "1             40.7666          -2.2436                  -1.4307   \n",
      "2             39.0330          -9.8654                  -0.9389   \n",
      "3             34.7544          -8.8446                  -1.4427   \n",
      "4             31.2553          -2.2774                  -1.2787   \n",
      "..                ...              ...                      ...   \n",
      "360           69.4000           4.0540                  -0.8344   \n",
      "361           23.0505          -7.4012                  -2.0879   \n",
      "362           26.1280           0.7531                  -3.9989   \n",
      "363           35.8970          16.4465                  -6.2345   \n",
      "364           45.1941          -7.1618                  -0.8509   \n",
      "\n",
      "     precipitation_data  wind_speed  \n",
      "0                0.0000      3.6461  \n",
      "1                0.0000      2.2398  \n",
      "2                0.0000      4.1230  \n",
      "3                0.0000      4.8531  \n",
      "4                0.0000      2.3404  \n",
      "..                  ...         ...  \n",
      "360              0.6096      6.1917  \n",
      "361              0.1006      7.3570  \n",
      "362              0.0221      3.9315  \n",
      "363              0.0884      3.7202  \n",
      "364              0.0282      1.9813  \n",
      "\n",
      "[365 rows x 9 columns]\n"
     ]
    },
    {
     "data": {
      "text/html": [
       "<div>\n",
       "<style scoped>\n",
       "    .dataframe tbody tr th:only-of-type {\n",
       "        vertical-align: middle;\n",
       "    }\n",
       "\n",
       "    .dataframe tbody tr th {\n",
       "        vertical-align: top;\n",
       "    }\n",
       "\n",
       "    .dataframe thead th {\n",
       "        text-align: right;\n",
       "    }\n",
       "</style>\n",
       "<table border=\"1\" class=\"dataframe\">\n",
       "  <thead>\n",
       "    <tr style=\"text-align: right;\">\n",
       "      <th></th>\n",
       "      <th>date</th>\n",
       "      <th>max_rel_humidity</th>\n",
       "      <th>max_temperature</th>\n",
       "      <th>mean_temperature</th>\n",
       "      <th>min_rel_humidity</th>\n",
       "      <th>min_temperature</th>\n",
       "      <th>potential_water_deficit</th>\n",
       "      <th>precipitation_data</th>\n",
       "      <th>wind_speed</th>\n",
       "    </tr>\n",
       "  </thead>\n",
       "  <tbody>\n",
       "    <tr>\n",
       "      <th>0</th>\n",
       "      <td>2019-09-04</td>\n",
       "      <td>99.9498</td>\n",
       "      <td>25.4570</td>\n",
       "      <td>18.6242</td>\n",
       "      <td>56.4720</td>\n",
       "      <td>11.7913</td>\n",
       "      <td>-3.6142</td>\n",
       "      <td>0.0</td>\n",
       "      <td>3.6461</td>\n",
       "    </tr>\n",
       "    <tr>\n",
       "      <th>1</th>\n",
       "      <td>2020-02-16</td>\n",
       "      <td>84.4966</td>\n",
       "      <td>8.6228</td>\n",
       "      <td>3.1896</td>\n",
       "      <td>40.7666</td>\n",
       "      <td>-2.2436</td>\n",
       "      <td>-1.4307</td>\n",
       "      <td>0.0</td>\n",
       "      <td>2.2398</td>\n",
       "    </tr>\n",
       "    <tr>\n",
       "      <th>2</th>\n",
       "      <td>2019-12-19</td>\n",
       "      <td>95.9017</td>\n",
       "      <td>2.8886</td>\n",
       "      <td>-3.4884</td>\n",
       "      <td>39.0330</td>\n",
       "      <td>-9.8654</td>\n",
       "      <td>-0.9389</td>\n",
       "      <td>0.0</td>\n",
       "      <td>4.1230</td>\n",
       "    </tr>\n",
       "    <tr>\n",
       "      <th>3</th>\n",
       "      <td>2020-02-20</td>\n",
       "      <td>70.0359</td>\n",
       "      <td>0.7939</td>\n",
       "      <td>-4.0254</td>\n",
       "      <td>34.7544</td>\n",
       "      <td>-8.8446</td>\n",
       "      <td>-1.4427</td>\n",
       "      <td>0.0</td>\n",
       "      <td>4.8531</td>\n",
       "    </tr>\n",
       "    <tr>\n",
       "      <th>4</th>\n",
       "      <td>2019-12-23</td>\n",
       "      <td>97.1634</td>\n",
       "      <td>13.8411</td>\n",
       "      <td>5.7818</td>\n",
       "      <td>31.2553</td>\n",
       "      <td>-2.2774</td>\n",
       "      <td>-1.2787</td>\n",
       "      <td>0.0</td>\n",
       "      <td>2.3404</td>\n",
       "    </tr>\n",
       "  </tbody>\n",
       "</table>\n",
       "</div>"
      ],
      "text/plain": [
       "        date  max_rel_humidity  max_temperature  mean_temperature  \\\n",
       "0 2019-09-04           99.9498          25.4570           18.6242   \n",
       "1 2020-02-16           84.4966           8.6228            3.1896   \n",
       "2 2019-12-19           95.9017           2.8886           -3.4884   \n",
       "3 2020-02-20           70.0359           0.7939           -4.0254   \n",
       "4 2019-12-23           97.1634          13.8411            5.7818   \n",
       "\n",
       "   min_rel_humidity  min_temperature  potential_water_deficit  \\\n",
       "0           56.4720          11.7913                  -3.6142   \n",
       "1           40.7666          -2.2436                  -1.4307   \n",
       "2           39.0330          -9.8654                  -0.9389   \n",
       "3           34.7544          -8.8446                  -1.4427   \n",
       "4           31.2553          -2.2774                  -1.2787   \n",
       "\n",
       "   precipitation_data  wind_speed  \n",
       "0                 0.0      3.6461  \n",
       "1                 0.0      2.2398  \n",
       "2                 0.0      4.1230  \n",
       "3                 0.0      4.8531  \n",
       "4                 0.0      2.3404  "
      ]
     },
     "execution_count": 13,
     "metadata": {},
     "output_type": "execute_result"
    }
   ],
   "source": [
    "query_job = bigquery_client.query(query)\n",
    "data = query_job.to_dataframe()\n",
    "print(data)\n",
    "data['date']=pd.to_datetime(data['date'])\n",
    "data.head()"
   ]
  },
  {
   "cell_type": "code",
   "execution_count": 14,
   "id": "9a013f2e",
   "metadata": {
    "execution": {
     "iopub.execute_input": "2023-05-10T00:38:19.037597Z",
     "iopub.status.busy": "2023-05-10T00:38:19.037138Z",
     "iopub.status.idle": "2023-05-10T00:38:19.039953Z",
     "shell.execute_reply": "2023-05-10T00:38:19.039439Z"
    }
   },
   "outputs": [],
   "source": [
    "query = \"\"\"\n",
    "select * from `ironhacks-data.ironhacks_training.weather_data`\n",
    "\"\"\""
   ]
  },
  {
   "cell_type": "code",
   "execution_count": 15,
   "id": "d0e4fff2",
   "metadata": {
    "execution": {
     "iopub.execute_input": "2023-05-10T00:38:19.042702Z",
     "iopub.status.busy": "2023-05-10T00:38:19.042467Z",
     "iopub.status.idle": "2023-05-10T00:38:20.555238Z",
     "shell.execute_reply": "2023-05-10T00:38:20.554455Z"
    }
   },
   "outputs": [
    {
     "name": "stdout",
     "output_type": "stream",
     "text": [
      "           date  max_rel_humidity  max_temperature  mean_temperature  \\\n",
      "0    2019-09-04           99.9498          25.4570           18.6242   \n",
      "1    2020-02-16           84.4966           8.6228            3.1896   \n",
      "2    2019-12-19           95.9017           2.8886           -3.4884   \n",
      "3    2020-02-20           70.0359           0.7939           -4.0254   \n",
      "4    2019-12-23           97.1634          13.8411            5.7818   \n",
      "..          ...               ...              ...               ...   \n",
      "360  2020-04-30           96.2771          10.2888            7.1714   \n",
      "361  2020-01-19           52.0808           3.7231           -1.8390   \n",
      "362  2020-05-09           65.8581          13.9009            7.3270   \n",
      "363  2020-06-25           75.0191          28.4810           22.4637   \n",
      "364  2020-01-28          100.0000           8.6565            0.7474   \n",
      "\n",
      "     min_rel_humidity  min_temperature  potential_water_deficit  \\\n",
      "0             56.4720          11.7913                  -3.6142   \n",
      "1             40.7666          -2.2436                  -1.4307   \n",
      "2             39.0330          -9.8654                  -0.9389   \n",
      "3             34.7544          -8.8446                  -1.4427   \n",
      "4             31.2553          -2.2774                  -1.2787   \n",
      "..                ...              ...                      ...   \n",
      "360           69.4000           4.0540                  -0.8344   \n",
      "361           23.0505          -7.4012                  -2.0879   \n",
      "362           26.1280           0.7531                  -3.9989   \n",
      "363           35.8970          16.4465                  -6.2345   \n",
      "364           45.1941          -7.1618                  -0.8509   \n",
      "\n",
      "     precipitation_data  wind_speed  \n",
      "0                0.0000      3.6461  \n",
      "1                0.0000      2.2398  \n",
      "2                0.0000      4.1230  \n",
      "3                0.0000      4.8531  \n",
      "4                0.0000      2.3404  \n",
      "..                  ...         ...  \n",
      "360              0.6096      6.1917  \n",
      "361              0.1006      7.3570  \n",
      "362              0.0221      3.9315  \n",
      "363              0.0884      3.7202  \n",
      "364              0.0282      1.9813  \n",
      "\n",
      "[365 rows x 9 columns]\n"
     ]
    }
   ],
   "source": [
    "query_job = bigquery_client.query(query)\n",
    "data = query_job.to_dataframe()\n",
    "print(data)\n",
    "data['date']=pd.to_datetime(data['date'])\n",
    "# data.head()"
   ]
  },
  {
   "cell_type": "code",
   "execution_count": 16,
   "id": "3f2b3e13",
   "metadata": {
    "execution": {
     "iopub.execute_input": "2023-05-10T00:38:20.559996Z",
     "iopub.status.busy": "2023-05-10T00:38:20.559546Z",
     "iopub.status.idle": "2023-05-10T00:38:20.563127Z",
     "shell.execute_reply": "2023-05-10T00:38:20.562478Z"
    }
   },
   "outputs": [],
   "source": [
    "query = \"\"\"\n",
    "select * from `ironhacks-data.ironhacks_training.weather_data`\n",
    "\"\"\""
   ]
  },
  {
   "cell_type": "code",
   "execution_count": 17,
   "id": "d2181463",
   "metadata": {
    "execution": {
     "iopub.execute_input": "2023-05-10T00:38:20.566717Z",
     "iopub.status.busy": "2023-05-10T00:38:20.566191Z",
     "iopub.status.idle": "2023-05-10T00:38:22.074903Z",
     "shell.execute_reply": "2023-05-10T00:38:22.074121Z"
    }
   },
   "outputs": [
    {
     "name": "stdout",
     "output_type": "stream",
     "text": [
      "QueryJob<project=ironhacks-data, location=US, id=134d9e52-8f60-49e9-b9c6-a509804414c9>\n"
     ]
    }
   ],
   "source": [
    "query_job = bigquery_client.query(query)\n",
    "data = query_job.to_dataframe()\n",
    "print(query_job)\n",
    "data['date']=pd.to_datetime(data['date'])\n",
    "# data.head()"
   ]
  },
  {
   "cell_type": "code",
   "execution_count": 18,
   "id": "76c90bf6",
   "metadata": {
    "execution": {
     "iopub.execute_input": "2023-05-10T00:38:22.079347Z",
     "iopub.status.busy": "2023-05-10T00:38:22.078965Z",
     "iopub.status.idle": "2023-05-10T00:38:22.082675Z",
     "shell.execute_reply": "2023-05-10T00:38:22.082074Z"
    }
   },
   "outputs": [],
   "source": [
    "query = \"\"\"\n",
    "select * from `ironhacks-data.ironhacks_training.weather_data`\n",
    "\"\"\""
   ]
  },
  {
   "cell_type": "code",
   "execution_count": 19,
   "id": "3b1fb3d4",
   "metadata": {
    "execution": {
     "iopub.execute_input": "2023-05-10T00:38:22.086877Z",
     "iopub.status.busy": "2023-05-10T00:38:22.086223Z",
     "iopub.status.idle": "2023-05-10T00:38:23.604650Z",
     "shell.execute_reply": "2023-05-10T00:38:23.603814Z"
    }
   },
   "outputs": [
    {
     "name": "stdout",
     "output_type": "stream",
     "text": [
      "           date  max_rel_humidity  max_temperature  mean_temperature  \\\n",
      "0    2019-09-04           99.9498          25.4570           18.6242   \n",
      "1    2020-02-16           84.4966           8.6228            3.1896   \n",
      "2    2019-12-19           95.9017           2.8886           -3.4884   \n",
      "3    2020-02-20           70.0359           0.7939           -4.0254   \n",
      "4    2019-12-23           97.1634          13.8411            5.7818   \n",
      "..          ...               ...              ...               ...   \n",
      "360  2020-04-30           96.2771          10.2888            7.1714   \n",
      "361  2020-01-19           52.0808           3.7231           -1.8390   \n",
      "362  2020-05-09           65.8581          13.9009            7.3270   \n",
      "363  2020-06-25           75.0191          28.4810           22.4637   \n",
      "364  2020-01-28          100.0000           8.6565            0.7474   \n",
      "\n",
      "     min_rel_humidity  min_temperature  potential_water_deficit  \\\n",
      "0             56.4720          11.7913                  -3.6142   \n",
      "1             40.7666          -2.2436                  -1.4307   \n",
      "2             39.0330          -9.8654                  -0.9389   \n",
      "3             34.7544          -8.8446                  -1.4427   \n",
      "4             31.2553          -2.2774                  -1.2787   \n",
      "..                ...              ...                      ...   \n",
      "360           69.4000           4.0540                  -0.8344   \n",
      "361           23.0505          -7.4012                  -2.0879   \n",
      "362           26.1280           0.7531                  -3.9989   \n",
      "363           35.8970          16.4465                  -6.2345   \n",
      "364           45.1941          -7.1618                  -0.8509   \n",
      "\n",
      "     precipitation_data  wind_speed  \n",
      "0                0.0000      3.6461  \n",
      "1                0.0000      2.2398  \n",
      "2                0.0000      4.1230  \n",
      "3                0.0000      4.8531  \n",
      "4                0.0000      2.3404  \n",
      "..                  ...         ...  \n",
      "360              0.6096      6.1917  \n",
      "361              0.1006      7.3570  \n",
      "362              0.0221      3.9315  \n",
      "363              0.0884      3.7202  \n",
      "364              0.0282      1.9813  \n",
      "\n",
      "[365 rows x 9 columns]\n"
     ]
    }
   ],
   "source": [
    "query_job = bigquery_client.query(query)\n",
    "data = query_job.to_dataframe()\n",
    "print(data)\n",
    "data['date']=pd.to_datetime(data['date'])\n",
    "# data.head()"
   ]
  },
  {
   "cell_type": "code",
   "execution_count": 20,
   "id": "6592ea56",
   "metadata": {
    "execution": {
     "iopub.execute_input": "2023-05-10T00:38:23.608705Z",
     "iopub.status.busy": "2023-05-10T00:38:23.608153Z",
     "iopub.status.idle": "2023-05-10T00:38:23.611732Z",
     "shell.execute_reply": "2023-05-10T00:38:23.610992Z"
    }
   },
   "outputs": [],
   "source": [
    "query = \"\"\"\n",
    "select * from `ironhacks-data.ironhacks_training.weather_data`\n",
    "\"\"\""
   ]
  },
  {
   "cell_type": "code",
   "execution_count": 21,
   "id": "49a527ee",
   "metadata": {
    "execution": {
     "iopub.execute_input": "2023-05-10T00:38:23.614931Z",
     "iopub.status.busy": "2023-05-10T00:38:23.614685Z",
     "iopub.status.idle": "2023-05-10T00:38:25.149459Z",
     "shell.execute_reply": "2023-05-10T00:38:25.148619Z"
    }
   },
   "outputs": [
    {
     "data": {
      "text/html": [
       "<div>\n",
       "<style scoped>\n",
       "    .dataframe tbody tr th:only-of-type {\n",
       "        vertical-align: middle;\n",
       "    }\n",
       "\n",
       "    .dataframe tbody tr th {\n",
       "        vertical-align: top;\n",
       "    }\n",
       "\n",
       "    .dataframe thead th {\n",
       "        text-align: right;\n",
       "    }\n",
       "</style>\n",
       "<table border=\"1\" class=\"dataframe\">\n",
       "  <thead>\n",
       "    <tr style=\"text-align: right;\">\n",
       "      <th></th>\n",
       "      <th>date</th>\n",
       "      <th>max_rel_humidity</th>\n",
       "      <th>max_temperature</th>\n",
       "      <th>mean_temperature</th>\n",
       "      <th>min_rel_humidity</th>\n",
       "      <th>min_temperature</th>\n",
       "      <th>potential_water_deficit</th>\n",
       "      <th>precipitation_data</th>\n",
       "      <th>wind_speed</th>\n",
       "    </tr>\n",
       "  </thead>\n",
       "  <tbody>\n",
       "    <tr>\n",
       "      <th>0</th>\n",
       "      <td>2019-09-04</td>\n",
       "      <td>99.9498</td>\n",
       "      <td>25.4570</td>\n",
       "      <td>18.6242</td>\n",
       "      <td>56.4720</td>\n",
       "      <td>11.7913</td>\n",
       "      <td>-3.6142</td>\n",
       "      <td>0.0</td>\n",
       "      <td>3.6461</td>\n",
       "    </tr>\n",
       "    <tr>\n",
       "      <th>1</th>\n",
       "      <td>2020-02-16</td>\n",
       "      <td>84.4966</td>\n",
       "      <td>8.6228</td>\n",
       "      <td>3.1896</td>\n",
       "      <td>40.7666</td>\n",
       "      <td>-2.2436</td>\n",
       "      <td>-1.4307</td>\n",
       "      <td>0.0</td>\n",
       "      <td>2.2398</td>\n",
       "    </tr>\n",
       "    <tr>\n",
       "      <th>2</th>\n",
       "      <td>2019-12-19</td>\n",
       "      <td>95.9017</td>\n",
       "      <td>2.8886</td>\n",
       "      <td>-3.4884</td>\n",
       "      <td>39.0330</td>\n",
       "      <td>-9.8654</td>\n",
       "      <td>-0.9389</td>\n",
       "      <td>0.0</td>\n",
       "      <td>4.1230</td>\n",
       "    </tr>\n",
       "    <tr>\n",
       "      <th>3</th>\n",
       "      <td>2020-02-20</td>\n",
       "      <td>70.0359</td>\n",
       "      <td>0.7939</td>\n",
       "      <td>-4.0254</td>\n",
       "      <td>34.7544</td>\n",
       "      <td>-8.8446</td>\n",
       "      <td>-1.4427</td>\n",
       "      <td>0.0</td>\n",
       "      <td>4.8531</td>\n",
       "    </tr>\n",
       "    <tr>\n",
       "      <th>4</th>\n",
       "      <td>2019-12-23</td>\n",
       "      <td>97.1634</td>\n",
       "      <td>13.8411</td>\n",
       "      <td>5.7818</td>\n",
       "      <td>31.2553</td>\n",
       "      <td>-2.2774</td>\n",
       "      <td>-1.2787</td>\n",
       "      <td>0.0</td>\n",
       "      <td>2.3404</td>\n",
       "    </tr>\n",
       "  </tbody>\n",
       "</table>\n",
       "</div>"
      ],
      "text/plain": [
       "        date  max_rel_humidity  max_temperature  mean_temperature  \\\n",
       "0 2019-09-04           99.9498          25.4570           18.6242   \n",
       "1 2020-02-16           84.4966           8.6228            3.1896   \n",
       "2 2019-12-19           95.9017           2.8886           -3.4884   \n",
       "3 2020-02-20           70.0359           0.7939           -4.0254   \n",
       "4 2019-12-23           97.1634          13.8411            5.7818   \n",
       "\n",
       "   min_rel_humidity  min_temperature  potential_water_deficit  \\\n",
       "0           56.4720          11.7913                  -3.6142   \n",
       "1           40.7666          -2.2436                  -1.4307   \n",
       "2           39.0330          -9.8654                  -0.9389   \n",
       "3           34.7544          -8.8446                  -1.4427   \n",
       "4           31.2553          -2.2774                  -1.2787   \n",
       "\n",
       "   precipitation_data  wind_speed  \n",
       "0                 0.0      3.6461  \n",
       "1                 0.0      2.2398  \n",
       "2                 0.0      4.1230  \n",
       "3                 0.0      4.8531  \n",
       "4                 0.0      2.3404  "
      ]
     },
     "execution_count": 21,
     "metadata": {},
     "output_type": "execute_result"
    }
   ],
   "source": [
    "query_job = bigquery_client.query(query)\n",
    "data = query_job.to_dataframe()\n",
    "# print(data)\n",
    "data['date']=pd.to_datetime(data['date'])\n",
    "data.head()"
   ]
  },
  {
   "cell_type": "code",
   "execution_count": 22,
   "id": "a08beb3a",
   "metadata": {
    "execution": {
     "iopub.execute_input": "2023-05-10T00:38:25.153193Z",
     "iopub.status.busy": "2023-05-10T00:38:25.152883Z",
     "iopub.status.idle": "2023-05-10T00:38:25.156321Z",
     "shell.execute_reply": "2023-05-10T00:38:25.155616Z"
    }
   },
   "outputs": [],
   "source": [
    "query = \"\"\"\n",
    "select * from `ironhacks-data.ironhacks_training.weather_data`\n",
    "\"\"\""
   ]
  },
  {
   "cell_type": "code",
   "execution_count": 23,
   "id": "0270d5a1",
   "metadata": {
    "execution": {
     "iopub.execute_input": "2023-05-10T00:38:25.159442Z",
     "iopub.status.busy": "2023-05-10T00:38:25.159183Z",
     "iopub.status.idle": "2023-05-10T00:38:26.576043Z",
     "shell.execute_reply": "2023-05-10T00:38:26.575426Z"
    }
   },
   "outputs": [
    {
     "name": "stdout",
     "output_type": "stream",
     "text": [
      "           date  max_rel_humidity  max_temperature  mean_temperature  \\\n",
      "0    2019-09-04           99.9498          25.4570           18.6242   \n",
      "1    2020-02-16           84.4966           8.6228            3.1896   \n",
      "2    2019-12-19           95.9017           2.8886           -3.4884   \n",
      "3    2020-02-20           70.0359           0.7939           -4.0254   \n",
      "4    2019-12-23           97.1634          13.8411            5.7818   \n",
      "..          ...               ...              ...               ...   \n",
      "360  2020-04-30           96.2771          10.2888            7.1714   \n",
      "361  2020-01-19           52.0808           3.7231           -1.8390   \n",
      "362  2020-05-09           65.8581          13.9009            7.3270   \n",
      "363  2020-06-25           75.0191          28.4810           22.4637   \n",
      "364  2020-01-28          100.0000           8.6565            0.7474   \n",
      "\n",
      "     min_rel_humidity  min_temperature  potential_water_deficit  \\\n",
      "0             56.4720          11.7913                  -3.6142   \n",
      "1             40.7666          -2.2436                  -1.4307   \n",
      "2             39.0330          -9.8654                  -0.9389   \n",
      "3             34.7544          -8.8446                  -1.4427   \n",
      "4             31.2553          -2.2774                  -1.2787   \n",
      "..                ...              ...                      ...   \n",
      "360           69.4000           4.0540                  -0.8344   \n",
      "361           23.0505          -7.4012                  -2.0879   \n",
      "362           26.1280           0.7531                  -3.9989   \n",
      "363           35.8970          16.4465                  -6.2345   \n",
      "364           45.1941          -7.1618                  -0.8509   \n",
      "\n",
      "     precipitation_data  wind_speed  \n",
      "0                0.0000      3.6461  \n",
      "1                0.0000      2.2398  \n",
      "2                0.0000      4.1230  \n",
      "3                0.0000      4.8531  \n",
      "4                0.0000      2.3404  \n",
      "..                  ...         ...  \n",
      "360              0.6096      6.1917  \n",
      "361              0.1006      7.3570  \n",
      "362              0.0221      3.9315  \n",
      "363              0.0884      3.7202  \n",
      "364              0.0282      1.9813  \n",
      "\n",
      "[365 rows x 9 columns]\n"
     ]
    },
    {
     "data": {
      "text/html": [
       "<div>\n",
       "<style scoped>\n",
       "    .dataframe tbody tr th:only-of-type {\n",
       "        vertical-align: middle;\n",
       "    }\n",
       "\n",
       "    .dataframe tbody tr th {\n",
       "        vertical-align: top;\n",
       "    }\n",
       "\n",
       "    .dataframe thead th {\n",
       "        text-align: right;\n",
       "    }\n",
       "</style>\n",
       "<table border=\"1\" class=\"dataframe\">\n",
       "  <thead>\n",
       "    <tr style=\"text-align: right;\">\n",
       "      <th></th>\n",
       "      <th>date</th>\n",
       "      <th>max_rel_humidity</th>\n",
       "      <th>max_temperature</th>\n",
       "      <th>mean_temperature</th>\n",
       "      <th>min_rel_humidity</th>\n",
       "      <th>min_temperature</th>\n",
       "      <th>potential_water_deficit</th>\n",
       "      <th>precipitation_data</th>\n",
       "      <th>wind_speed</th>\n",
       "    </tr>\n",
       "  </thead>\n",
       "  <tbody>\n",
       "    <tr>\n",
       "      <th>0</th>\n",
       "      <td>2019-09-04</td>\n",
       "      <td>99.9498</td>\n",
       "      <td>25.4570</td>\n",
       "      <td>18.6242</td>\n",
       "      <td>56.4720</td>\n",
       "      <td>11.7913</td>\n",
       "      <td>-3.6142</td>\n",
       "      <td>0.0</td>\n",
       "      <td>3.6461</td>\n",
       "    </tr>\n",
       "    <tr>\n",
       "      <th>1</th>\n",
       "      <td>2020-02-16</td>\n",
       "      <td>84.4966</td>\n",
       "      <td>8.6228</td>\n",
       "      <td>3.1896</td>\n",
       "      <td>40.7666</td>\n",
       "      <td>-2.2436</td>\n",
       "      <td>-1.4307</td>\n",
       "      <td>0.0</td>\n",
       "      <td>2.2398</td>\n",
       "    </tr>\n",
       "    <tr>\n",
       "      <th>2</th>\n",
       "      <td>2019-12-19</td>\n",
       "      <td>95.9017</td>\n",
       "      <td>2.8886</td>\n",
       "      <td>-3.4884</td>\n",
       "      <td>39.0330</td>\n",
       "      <td>-9.8654</td>\n",
       "      <td>-0.9389</td>\n",
       "      <td>0.0</td>\n",
       "      <td>4.1230</td>\n",
       "    </tr>\n",
       "    <tr>\n",
       "      <th>3</th>\n",
       "      <td>2020-02-20</td>\n",
       "      <td>70.0359</td>\n",
       "      <td>0.7939</td>\n",
       "      <td>-4.0254</td>\n",
       "      <td>34.7544</td>\n",
       "      <td>-8.8446</td>\n",
       "      <td>-1.4427</td>\n",
       "      <td>0.0</td>\n",
       "      <td>4.8531</td>\n",
       "    </tr>\n",
       "    <tr>\n",
       "      <th>4</th>\n",
       "      <td>2019-12-23</td>\n",
       "      <td>97.1634</td>\n",
       "      <td>13.8411</td>\n",
       "      <td>5.7818</td>\n",
       "      <td>31.2553</td>\n",
       "      <td>-2.2774</td>\n",
       "      <td>-1.2787</td>\n",
       "      <td>0.0</td>\n",
       "      <td>2.3404</td>\n",
       "    </tr>\n",
       "  </tbody>\n",
       "</table>\n",
       "</div>"
      ],
      "text/plain": [
       "        date  max_rel_humidity  max_temperature  mean_temperature  \\\n",
       "0 2019-09-04           99.9498          25.4570           18.6242   \n",
       "1 2020-02-16           84.4966           8.6228            3.1896   \n",
       "2 2019-12-19           95.9017           2.8886           -3.4884   \n",
       "3 2020-02-20           70.0359           0.7939           -4.0254   \n",
       "4 2019-12-23           97.1634          13.8411            5.7818   \n",
       "\n",
       "   min_rel_humidity  min_temperature  potential_water_deficit  \\\n",
       "0           56.4720          11.7913                  -3.6142   \n",
       "1           40.7666          -2.2436                  -1.4307   \n",
       "2           39.0330          -9.8654                  -0.9389   \n",
       "3           34.7544          -8.8446                  -1.4427   \n",
       "4           31.2553          -2.2774                  -1.2787   \n",
       "\n",
       "   precipitation_data  wind_speed  \n",
       "0                 0.0      3.6461  \n",
       "1                 0.0      2.2398  \n",
       "2                 0.0      4.1230  \n",
       "3                 0.0      4.8531  \n",
       "4                 0.0      2.3404  "
      ]
     },
     "execution_count": 23,
     "metadata": {},
     "output_type": "execute_result"
    }
   ],
   "source": [
    "query_job = bigquery_client.query(query)\n",
    "data = query_job.to_dataframe()\n",
    "print(data)\n",
    "data['date']=pd.to_datetime(data['date'])\n",
    "data.head()"
   ]
  },
  {
   "cell_type": "code",
   "execution_count": 24,
   "id": "3bcb1b60",
   "metadata": {
    "execution": {
     "iopub.execute_input": "2023-05-10T00:38:26.579664Z",
     "iopub.status.busy": "2023-05-10T00:38:26.579358Z",
     "iopub.status.idle": "2023-05-10T00:38:26.582238Z",
     "shell.execute_reply": "2023-05-10T00:38:26.581748Z"
    }
   },
   "outputs": [],
   "source": [
    "query = \"\"\"\n",
    "select * from `ironhacks-data.ironhacks_training.weather_data`\n",
    "\"\"\""
   ]
  },
  {
   "cell_type": "code",
   "execution_count": 25,
   "id": "3035a8e4",
   "metadata": {
    "execution": {
     "iopub.execute_input": "2023-05-10T00:38:26.585062Z",
     "iopub.status.busy": "2023-05-10T00:38:26.584820Z",
     "iopub.status.idle": "2023-05-10T00:38:28.109754Z",
     "shell.execute_reply": "2023-05-10T00:38:28.109138Z"
    }
   },
   "outputs": [
    {
     "name": "stdout",
     "output_type": "stream",
     "text": [
      "           date  max_rel_humidity  max_temperature  mean_temperature  \\\n",
      "0    2019-09-04           99.9498          25.4570           18.6242   \n",
      "1    2020-02-16           84.4966           8.6228            3.1896   \n",
      "2    2019-12-19           95.9017           2.8886           -3.4884   \n",
      "3    2020-02-20           70.0359           0.7939           -4.0254   \n",
      "4    2019-12-23           97.1634          13.8411            5.7818   \n",
      "..          ...               ...              ...               ...   \n",
      "360  2020-04-30           96.2771          10.2888            7.1714   \n",
      "361  2020-01-19           52.0808           3.7231           -1.8390   \n",
      "362  2020-05-09           65.8581          13.9009            7.3270   \n",
      "363  2020-06-25           75.0191          28.4810           22.4637   \n",
      "364  2020-01-28          100.0000           8.6565            0.7474   \n",
      "\n",
      "     min_rel_humidity  min_temperature  potential_water_deficit  \\\n",
      "0             56.4720          11.7913                  -3.6142   \n",
      "1             40.7666          -2.2436                  -1.4307   \n",
      "2             39.0330          -9.8654                  -0.9389   \n",
      "3             34.7544          -8.8446                  -1.4427   \n",
      "4             31.2553          -2.2774                  -1.2787   \n",
      "..                ...              ...                      ...   \n",
      "360           69.4000           4.0540                  -0.8344   \n",
      "361           23.0505          -7.4012                  -2.0879   \n",
      "362           26.1280           0.7531                  -3.9989   \n",
      "363           35.8970          16.4465                  -6.2345   \n",
      "364           45.1941          -7.1618                  -0.8509   \n",
      "\n",
      "     precipitation_data  wind_speed  \n",
      "0                0.0000      3.6461  \n",
      "1                0.0000      2.2398  \n",
      "2                0.0000      4.1230  \n",
      "3                0.0000      4.8531  \n",
      "4                0.0000      2.3404  \n",
      "..                  ...         ...  \n",
      "360              0.6096      6.1917  \n",
      "361              0.1006      7.3570  \n",
      "362              0.0221      3.9315  \n",
      "363              0.0884      3.7202  \n",
      "364              0.0282      1.9813  \n",
      "\n",
      "[365 rows x 9 columns]\n"
     ]
    },
    {
     "data": {
      "text/html": [
       "<div>\n",
       "<style scoped>\n",
       "    .dataframe tbody tr th:only-of-type {\n",
       "        vertical-align: middle;\n",
       "    }\n",
       "\n",
       "    .dataframe tbody tr th {\n",
       "        vertical-align: top;\n",
       "    }\n",
       "\n",
       "    .dataframe thead th {\n",
       "        text-align: right;\n",
       "    }\n",
       "</style>\n",
       "<table border=\"1\" class=\"dataframe\">\n",
       "  <thead>\n",
       "    <tr style=\"text-align: right;\">\n",
       "      <th></th>\n",
       "      <th>date</th>\n",
       "      <th>max_rel_humidity</th>\n",
       "      <th>max_temperature</th>\n",
       "      <th>mean_temperature</th>\n",
       "      <th>min_rel_humidity</th>\n",
       "      <th>min_temperature</th>\n",
       "      <th>potential_water_deficit</th>\n",
       "      <th>precipitation_data</th>\n",
       "      <th>wind_speed</th>\n",
       "    </tr>\n",
       "  </thead>\n",
       "  <tbody>\n",
       "    <tr>\n",
       "      <th>0</th>\n",
       "      <td>2019-09-04</td>\n",
       "      <td>99.9498</td>\n",
       "      <td>25.4570</td>\n",
       "      <td>18.6242</td>\n",
       "      <td>56.4720</td>\n",
       "      <td>11.7913</td>\n",
       "      <td>-3.6142</td>\n",
       "      <td>0.0</td>\n",
       "      <td>3.6461</td>\n",
       "    </tr>\n",
       "    <tr>\n",
       "      <th>1</th>\n",
       "      <td>2020-02-16</td>\n",
       "      <td>84.4966</td>\n",
       "      <td>8.6228</td>\n",
       "      <td>3.1896</td>\n",
       "      <td>40.7666</td>\n",
       "      <td>-2.2436</td>\n",
       "      <td>-1.4307</td>\n",
       "      <td>0.0</td>\n",
       "      <td>2.2398</td>\n",
       "    </tr>\n",
       "    <tr>\n",
       "      <th>2</th>\n",
       "      <td>2019-12-19</td>\n",
       "      <td>95.9017</td>\n",
       "      <td>2.8886</td>\n",
       "      <td>-3.4884</td>\n",
       "      <td>39.0330</td>\n",
       "      <td>-9.8654</td>\n",
       "      <td>-0.9389</td>\n",
       "      <td>0.0</td>\n",
       "      <td>4.1230</td>\n",
       "    </tr>\n",
       "    <tr>\n",
       "      <th>3</th>\n",
       "      <td>2020-02-20</td>\n",
       "      <td>70.0359</td>\n",
       "      <td>0.7939</td>\n",
       "      <td>-4.0254</td>\n",
       "      <td>34.7544</td>\n",
       "      <td>-8.8446</td>\n",
       "      <td>-1.4427</td>\n",
       "      <td>0.0</td>\n",
       "      <td>4.8531</td>\n",
       "    </tr>\n",
       "    <tr>\n",
       "      <th>4</th>\n",
       "      <td>2019-12-23</td>\n",
       "      <td>97.1634</td>\n",
       "      <td>13.8411</td>\n",
       "      <td>5.7818</td>\n",
       "      <td>31.2553</td>\n",
       "      <td>-2.2774</td>\n",
       "      <td>-1.2787</td>\n",
       "      <td>0.0</td>\n",
       "      <td>2.3404</td>\n",
       "    </tr>\n",
       "  </tbody>\n",
       "</table>\n",
       "</div>"
      ],
      "text/plain": [
       "         date  max_rel_humidity  max_temperature  mean_temperature  \\\n",
       "0  2019-09-04           99.9498          25.4570           18.6242   \n",
       "1  2020-02-16           84.4966           8.6228            3.1896   \n",
       "2  2019-12-19           95.9017           2.8886           -3.4884   \n",
       "3  2020-02-20           70.0359           0.7939           -4.0254   \n",
       "4  2019-12-23           97.1634          13.8411            5.7818   \n",
       "\n",
       "   min_rel_humidity  min_temperature  potential_water_deficit  \\\n",
       "0           56.4720          11.7913                  -3.6142   \n",
       "1           40.7666          -2.2436                  -1.4307   \n",
       "2           39.0330          -9.8654                  -0.9389   \n",
       "3           34.7544          -8.8446                  -1.4427   \n",
       "4           31.2553          -2.2774                  -1.2787   \n",
       "\n",
       "   precipitation_data  wind_speed  \n",
       "0                 0.0      3.6461  \n",
       "1                 0.0      2.2398  \n",
       "2                 0.0      4.1230  \n",
       "3                 0.0      4.8531  \n",
       "4                 0.0      2.3404  "
      ]
     },
     "execution_count": 25,
     "metadata": {},
     "output_type": "execute_result"
    }
   ],
   "source": [
    "query_job = bigquery_client.query(query)\n",
    "data = query_job.to_dataframe()\n",
    "print(data)\n",
    "# data['date']=pd.to_datetime(data['date'])\n",
    "data.head()"
   ]
  },
  {
   "cell_type": "code",
   "execution_count": 26,
   "id": "1ee8f02c",
   "metadata": {
    "execution": {
     "iopub.execute_input": "2023-05-10T00:38:28.113465Z",
     "iopub.status.busy": "2023-05-10T00:38:28.112883Z",
     "iopub.status.idle": "2023-05-10T00:38:28.116309Z",
     "shell.execute_reply": "2023-05-10T00:38:28.115639Z"
    }
   },
   "outputs": [],
   "source": [
    "query = \"\"\"\n",
    "select * from `ironhacks-data.ironhacks_training.weather_data`\n",
    "\"\"\""
   ]
  },
  {
   "cell_type": "code",
   "execution_count": 27,
   "id": "47fc0801",
   "metadata": {
    "execution": {
     "iopub.execute_input": "2023-05-10T00:38:28.118989Z",
     "iopub.status.busy": "2023-05-10T00:38:28.118798Z",
     "iopub.status.idle": "2023-05-10T00:38:29.524999Z",
     "shell.execute_reply": "2023-05-10T00:38:29.524442Z"
    }
   },
   "outputs": [
    {
     "name": "stdout",
     "output_type": "stream",
     "text": [
      "           date  max_rel_humidity  max_temperature  mean_temperature  \\\n",
      "0    2019-09-04           99.9498          25.4570           18.6242   \n",
      "1    2020-02-16           84.4966           8.6228            3.1896   \n",
      "2    2019-12-19           95.9017           2.8886           -3.4884   \n",
      "3    2020-02-20           70.0359           0.7939           -4.0254   \n",
      "4    2019-12-23           97.1634          13.8411            5.7818   \n",
      "..          ...               ...              ...               ...   \n",
      "360  2020-04-30           96.2771          10.2888            7.1714   \n",
      "361  2020-01-19           52.0808           3.7231           -1.8390   \n",
      "362  2020-05-09           65.8581          13.9009            7.3270   \n",
      "363  2020-06-25           75.0191          28.4810           22.4637   \n",
      "364  2020-01-28          100.0000           8.6565            0.7474   \n",
      "\n",
      "     min_rel_humidity  min_temperature  potential_water_deficit  \\\n",
      "0             56.4720          11.7913                  -3.6142   \n",
      "1             40.7666          -2.2436                  -1.4307   \n",
      "2             39.0330          -9.8654                  -0.9389   \n",
      "3             34.7544          -8.8446                  -1.4427   \n",
      "4             31.2553          -2.2774                  -1.2787   \n",
      "..                ...              ...                      ...   \n",
      "360           69.4000           4.0540                  -0.8344   \n",
      "361           23.0505          -7.4012                  -2.0879   \n",
      "362           26.1280           0.7531                  -3.9989   \n",
      "363           35.8970          16.4465                  -6.2345   \n",
      "364           45.1941          -7.1618                  -0.8509   \n",
      "\n",
      "     precipitation_data  wind_speed  \n",
      "0                0.0000      3.6461  \n",
      "1                0.0000      2.2398  \n",
      "2                0.0000      4.1230  \n",
      "3                0.0000      4.8531  \n",
      "4                0.0000      2.3404  \n",
      "..                  ...         ...  \n",
      "360              0.6096      6.1917  \n",
      "361              0.1006      7.3570  \n",
      "362              0.0221      3.9315  \n",
      "363              0.0884      3.7202  \n",
      "364              0.0282      1.9813  \n",
      "\n",
      "[365 rows x 9 columns]\n"
     ]
    },
    {
     "data": {
      "text/html": [
       "<div>\n",
       "<style scoped>\n",
       "    .dataframe tbody tr th:only-of-type {\n",
       "        vertical-align: middle;\n",
       "    }\n",
       "\n",
       "    .dataframe tbody tr th {\n",
       "        vertical-align: top;\n",
       "    }\n",
       "\n",
       "    .dataframe thead th {\n",
       "        text-align: right;\n",
       "    }\n",
       "</style>\n",
       "<table border=\"1\" class=\"dataframe\">\n",
       "  <thead>\n",
       "    <tr style=\"text-align: right;\">\n",
       "      <th></th>\n",
       "      <th>max_rel_humidity</th>\n",
       "      <th>max_temperature</th>\n",
       "      <th>mean_temperature</th>\n",
       "      <th>min_rel_humidity</th>\n",
       "      <th>min_temperature</th>\n",
       "      <th>potential_water_deficit</th>\n",
       "      <th>precipitation_data</th>\n",
       "      <th>wind_speed</th>\n",
       "    </tr>\n",
       "  </thead>\n",
       "  <tbody>\n",
       "    <tr>\n",
       "      <th>count</th>\n",
       "      <td>365.000000</td>\n",
       "      <td>365.000000</td>\n",
       "      <td>365.000000</td>\n",
       "      <td>365.000000</td>\n",
       "      <td>365.000000</td>\n",
       "      <td>365.000000</td>\n",
       "      <td>365.000000</td>\n",
       "      <td>365.000000</td>\n",
       "    </tr>\n",
       "    <tr>\n",
       "      <th>mean</th>\n",
       "      <td>88.902347</td>\n",
       "      <td>17.205314</td>\n",
       "      <td>11.831103</td>\n",
       "      <td>49.967298</td>\n",
       "      <td>6.456895</td>\n",
       "      <td>0.226587</td>\n",
       "      <td>3.205721</td>\n",
       "      <td>4.117679</td>\n",
       "    </tr>\n",
       "    <tr>\n",
       "      <th>std</th>\n",
       "      <td>11.912023</td>\n",
       "      <td>10.600519</td>\n",
       "      <td>9.877329</td>\n",
       "      <td>15.334746</td>\n",
       "      <td>9.420250</td>\n",
       "      <td>6.119481</td>\n",
       "      <td>5.772242</td>\n",
       "      <td>1.560592</td>\n",
       "    </tr>\n",
       "    <tr>\n",
       "      <th>min</th>\n",
       "      <td>29.981800</td>\n",
       "      <td>-14.856500</td>\n",
       "      <td>-17.124400</td>\n",
       "      <td>13.381200</td>\n",
       "      <td>-20.099800</td>\n",
       "      <td>-7.495600</td>\n",
       "      <td>0.000000</td>\n",
       "      <td>1.373600</td>\n",
       "    </tr>\n",
       "    <tr>\n",
       "      <th>25%</th>\n",
       "      <td>82.740000</td>\n",
       "      <td>8.344800</td>\n",
       "      <td>3.847400</td>\n",
       "      <td>38.590500</td>\n",
       "      <td>-0.507500</td>\n",
       "      <td>-3.220100</td>\n",
       "      <td>0.006700</td>\n",
       "      <td>2.930700</td>\n",
       "    </tr>\n",
       "    <tr>\n",
       "      <th>50%</th>\n",
       "      <td>92.855900</td>\n",
       "      <td>17.347500</td>\n",
       "      <td>11.290900</td>\n",
       "      <td>48.215500</td>\n",
       "      <td>5.318400</td>\n",
       "      <td>-1.442700</td>\n",
       "      <td>0.332300</td>\n",
       "      <td>3.911800</td>\n",
       "    </tr>\n",
       "    <tr>\n",
       "      <th>75%</th>\n",
       "      <td>97.864600</td>\n",
       "      <td>27.127500</td>\n",
       "      <td>21.199100</td>\n",
       "      <td>58.682700</td>\n",
       "      <td>14.967500</td>\n",
       "      <td>1.286500</td>\n",
       "      <td>3.829500</td>\n",
       "      <td>5.026800</td>\n",
       "    </tr>\n",
       "    <tr>\n",
       "      <th>max</th>\n",
       "      <td>100.000000</td>\n",
       "      <td>33.249300</td>\n",
       "      <td>27.511200</td>\n",
       "      <td>100.000000</td>\n",
       "      <td>22.520800</td>\n",
       "      <td>34.640100</td>\n",
       "      <td>36.755000</td>\n",
       "      <td>10.808300</td>\n",
       "    </tr>\n",
       "  </tbody>\n",
       "</table>\n",
       "</div>"
      ],
      "text/plain": [
       "       max_rel_humidity  max_temperature  mean_temperature  min_rel_humidity  \\\n",
       "count        365.000000       365.000000        365.000000        365.000000   \n",
       "mean          88.902347        17.205314         11.831103         49.967298   \n",
       "std           11.912023        10.600519          9.877329         15.334746   \n",
       "min           29.981800       -14.856500        -17.124400         13.381200   \n",
       "25%           82.740000         8.344800          3.847400         38.590500   \n",
       "50%           92.855900        17.347500         11.290900         48.215500   \n",
       "75%           97.864600        27.127500         21.199100         58.682700   \n",
       "max          100.000000        33.249300         27.511200        100.000000   \n",
       "\n",
       "       min_temperature  potential_water_deficit  precipitation_data  \\\n",
       "count       365.000000               365.000000          365.000000   \n",
       "mean          6.456895                 0.226587            3.205721   \n",
       "std           9.420250                 6.119481            5.772242   \n",
       "min         -20.099800                -7.495600            0.000000   \n",
       "25%          -0.507500                -3.220100            0.006700   \n",
       "50%           5.318400                -1.442700            0.332300   \n",
       "75%          14.967500                 1.286500            3.829500   \n",
       "max          22.520800                34.640100           36.755000   \n",
       "\n",
       "       wind_speed  \n",
       "count  365.000000  \n",
       "mean     4.117679  \n",
       "std      1.560592  \n",
       "min      1.373600  \n",
       "25%      2.930700  \n",
       "50%      3.911800  \n",
       "75%      5.026800  \n",
       "max     10.808300  "
      ]
     },
     "execution_count": 27,
     "metadata": {},
     "output_type": "execute_result"
    }
   ],
   "source": [
    "query_job = bigquery_client.query(query)\n",
    "data = query_job.to_dataframe()\n",
    "print(data)\n",
    "# data['date']=pd.to_datetime(data['date'])\n",
    "data.describe()"
   ]
  },
  {
   "cell_type": "code",
   "execution_count": 28,
   "id": "5300cbdd",
   "metadata": {
    "execution": {
     "iopub.execute_input": "2023-05-10T00:38:29.528042Z",
     "iopub.status.busy": "2023-05-10T00:38:29.527793Z",
     "iopub.status.idle": "2023-05-10T00:38:29.530593Z",
     "shell.execute_reply": "2023-05-10T00:38:29.530157Z"
    }
   },
   "outputs": [],
   "source": [
    "query = \"\"\"\n",
    "select * from `ironhacks-data.ironhacks_training.weather_data`\n",
    "\"\"\""
   ]
  },
  {
   "cell_type": "code",
   "execution_count": 29,
   "id": "74d0240e",
   "metadata": {
    "execution": {
     "iopub.execute_input": "2023-05-10T00:38:29.533128Z",
     "iopub.status.busy": "2023-05-10T00:38:29.532925Z",
     "iopub.status.idle": "2023-05-10T00:38:31.278249Z",
     "shell.execute_reply": "2023-05-10T00:38:31.277974Z"
    }
   },
   "outputs": [
    {
     "name": "stdout",
     "output_type": "stream",
     "text": [
      "           date  max_rel_humidity  max_temperature  mean_temperature  \\\n",
      "0    2019-09-04           99.9498          25.4570           18.6242   \n",
      "1    2020-02-16           84.4966           8.6228            3.1896   \n",
      "2    2019-12-19           95.9017           2.8886           -3.4884   \n",
      "3    2020-02-20           70.0359           0.7939           -4.0254   \n",
      "4    2019-12-23           97.1634          13.8411            5.7818   \n",
      "..          ...               ...              ...               ...   \n",
      "360  2020-04-30           96.2771          10.2888            7.1714   \n",
      "361  2020-01-19           52.0808           3.7231           -1.8390   \n",
      "362  2020-05-09           65.8581          13.9009            7.3270   \n",
      "363  2020-06-25           75.0191          28.4810           22.4637   \n",
      "364  2020-01-28          100.0000           8.6565            0.7474   \n",
      "\n",
      "     min_rel_humidity  min_temperature  potential_water_deficit  \\\n",
      "0             56.4720          11.7913                  -3.6142   \n",
      "1             40.7666          -2.2436                  -1.4307   \n",
      "2             39.0330          -9.8654                  -0.9389   \n",
      "3             34.7544          -8.8446                  -1.4427   \n",
      "4             31.2553          -2.2774                  -1.2787   \n",
      "..                ...              ...                      ...   \n",
      "360           69.4000           4.0540                  -0.8344   \n",
      "361           23.0505          -7.4012                  -2.0879   \n",
      "362           26.1280           0.7531                  -3.9989   \n",
      "363           35.8970          16.4465                  -6.2345   \n",
      "364           45.1941          -7.1618                  -0.8509   \n",
      "\n",
      "     precipitation_data  wind_speed  \n",
      "0                0.0000      3.6461  \n",
      "1                0.0000      2.2398  \n",
      "2                0.0000      4.1230  \n",
      "3                0.0000      4.8531  \n",
      "4                0.0000      2.3404  \n",
      "..                  ...         ...  \n",
      "360              0.6096      6.1917  \n",
      "361              0.1006      7.3570  \n",
      "362              0.0221      3.9315  \n",
      "363              0.0884      3.7202  \n",
      "364              0.0282      1.9813  \n",
      "\n",
      "[365 rows x 9 columns]\n"
     ]
    },
    {
     "ename": "AttributeError",
     "evalue": "'DataFrame' object has no attribute 'dtype'",
     "output_type": "error",
     "traceback": [
      "\u001b[0;31m---------------------------------------------------------------------------\u001b[0m",
      "\u001b[0;31mAttributeError\u001b[0m                            Traceback (most recent call last)",
      "Cell \u001b[0;32mIn [29], line 5\u001b[0m\n\u001b[1;32m      3\u001b[0m \u001b[38;5;28mprint\u001b[39m(data)\n\u001b[1;32m      4\u001b[0m \u001b[38;5;66;03m# data['date']=pd.to_datetime(data['date'])\u001b[39;00m\n\u001b[0;32m----> 5\u001b[0m \u001b[43mdata\u001b[49m\u001b[38;5;241;43m.\u001b[39;49m\u001b[43mdtype\u001b[49m()\n",
      "File \u001b[0;32m/opt/homebrew/lib/python3.9/site-packages/pandas/core/generic.py:5902\u001b[0m, in \u001b[0;36mNDFrame.__getattr__\u001b[0;34m(self, name)\u001b[0m\n\u001b[1;32m   5895\u001b[0m \u001b[38;5;28;01mif\u001b[39;00m (\n\u001b[1;32m   5896\u001b[0m     name \u001b[38;5;129;01mnot\u001b[39;00m \u001b[38;5;129;01min\u001b[39;00m \u001b[38;5;28mself\u001b[39m\u001b[38;5;241m.\u001b[39m_internal_names_set\n\u001b[1;32m   5897\u001b[0m     \u001b[38;5;129;01mand\u001b[39;00m name \u001b[38;5;129;01mnot\u001b[39;00m \u001b[38;5;129;01min\u001b[39;00m \u001b[38;5;28mself\u001b[39m\u001b[38;5;241m.\u001b[39m_metadata\n\u001b[1;32m   5898\u001b[0m     \u001b[38;5;129;01mand\u001b[39;00m name \u001b[38;5;129;01mnot\u001b[39;00m \u001b[38;5;129;01min\u001b[39;00m \u001b[38;5;28mself\u001b[39m\u001b[38;5;241m.\u001b[39m_accessors\n\u001b[1;32m   5899\u001b[0m     \u001b[38;5;129;01mand\u001b[39;00m \u001b[38;5;28mself\u001b[39m\u001b[38;5;241m.\u001b[39m_info_axis\u001b[38;5;241m.\u001b[39m_can_hold_identifiers_and_holds_name(name)\n\u001b[1;32m   5900\u001b[0m ):\n\u001b[1;32m   5901\u001b[0m     \u001b[38;5;28;01mreturn\u001b[39;00m \u001b[38;5;28mself\u001b[39m[name]\n\u001b[0;32m-> 5902\u001b[0m \u001b[38;5;28;01mreturn\u001b[39;00m \u001b[38;5;28;43mobject\u001b[39;49m\u001b[38;5;241;43m.\u001b[39;49m\u001b[38;5;21;43m__getattribute__\u001b[39;49m\u001b[43m(\u001b[49m\u001b[38;5;28;43mself\u001b[39;49m\u001b[43m,\u001b[49m\u001b[43m \u001b[49m\u001b[43mname\u001b[49m\u001b[43m)\u001b[49m\n",
      "\u001b[0;31mAttributeError\u001b[0m: 'DataFrame' object has no attribute 'dtype'"
     ]
    }
   ],
   "source": [
    "query_job = bigquery_client.query(query)\n",
    "data = query_job.to_dataframe()\n",
    "print(data)\n",
    "# data['date']=pd.to_datetime(data['date'])\n",
    "data.dtype()"
   ]
  },
  {
   "cell_type": "code",
   "execution_count": 30,
   "id": "8c5771ef",
   "metadata": {
    "execution": {
     "iopub.execute_input": "2023-05-10T00:38:31.279732Z",
     "iopub.status.busy": "2023-05-10T00:38:31.279629Z",
     "iopub.status.idle": "2023-05-10T00:38:31.281183Z",
     "shell.execute_reply": "2023-05-10T00:38:31.280964Z"
    }
   },
   "outputs": [],
   "source": [
    "query = \"\"\"\n",
    "select * from `ironhacks-data.ironhacks_training.weather_data`\n",
    "\"\"\""
   ]
  },
  {
   "cell_type": "code",
   "execution_count": 31,
   "id": "571e4534",
   "metadata": {
    "execution": {
     "iopub.execute_input": "2023-05-10T00:38:31.282497Z",
     "iopub.status.busy": "2023-05-10T00:38:31.282423Z",
     "iopub.status.idle": "2023-05-10T00:38:32.726579Z",
     "shell.execute_reply": "2023-05-10T00:38:32.725983Z"
    }
   },
   "outputs": [
    {
     "ename": "AttributeError",
     "evalue": "module 'pandas' has no attribute 'dtype'",
     "output_type": "error",
     "traceback": [
      "\u001b[0;31m---------------------------------------------------------------------------\u001b[0m",
      "\u001b[0;31mAttributeError\u001b[0m                            Traceback (most recent call last)",
      "Cell \u001b[0;32mIn [31], line 5\u001b[0m\n\u001b[1;32m      2\u001b[0m data \u001b[38;5;241m=\u001b[39m query_job\u001b[38;5;241m.\u001b[39mto_dataframe()\n\u001b[1;32m      3\u001b[0m \u001b[38;5;66;03m# print(data)\u001b[39;00m\n\u001b[1;32m      4\u001b[0m \u001b[38;5;66;03m# data['date']=pd.to_datetime(data['date'])\u001b[39;00m\n\u001b[0;32m----> 5\u001b[0m \u001b[43mpd\u001b[49m\u001b[38;5;241;43m.\u001b[39;49m\u001b[43mdtype\u001b[49m()\n",
      "File \u001b[0;32m/opt/homebrew/lib/python3.9/site-packages/pandas/__init__.py:264\u001b[0m, in \u001b[0;36m__getattr__\u001b[0;34m(name)\u001b[0m\n\u001b[1;32m    260\u001b[0m     \u001b[38;5;28;01mfrom\u001b[39;00m \u001b[38;5;21;01mpandas\u001b[39;00m\u001b[38;5;21;01m.\u001b[39;00m\u001b[38;5;21;01mcore\u001b[39;00m\u001b[38;5;21;01m.\u001b[39;00m\u001b[38;5;21;01marrays\u001b[39;00m\u001b[38;5;21;01m.\u001b[39;00m\u001b[38;5;21;01msparse\u001b[39;00m \u001b[38;5;28;01mimport\u001b[39;00m SparseArray \u001b[38;5;28;01mas\u001b[39;00m _SparseArray\n\u001b[1;32m    262\u001b[0m     \u001b[38;5;28;01mreturn\u001b[39;00m _SparseArray\n\u001b[0;32m--> 264\u001b[0m \u001b[38;5;28;01mraise\u001b[39;00m \u001b[38;5;167;01mAttributeError\u001b[39;00m(\u001b[38;5;124mf\u001b[39m\u001b[38;5;124m\"\u001b[39m\u001b[38;5;124mmodule \u001b[39m\u001b[38;5;124m'\u001b[39m\u001b[38;5;124mpandas\u001b[39m\u001b[38;5;124m'\u001b[39m\u001b[38;5;124m has no attribute \u001b[39m\u001b[38;5;124m'\u001b[39m\u001b[38;5;132;01m{\u001b[39;00mname\u001b[38;5;132;01m}\u001b[39;00m\u001b[38;5;124m'\u001b[39m\u001b[38;5;124m\"\u001b[39m)\n",
      "\u001b[0;31mAttributeError\u001b[0m: module 'pandas' has no attribute 'dtype'"
     ]
    }
   ],
   "source": [
    "query_job = bigquery_client.query(query)\n",
    "data = query_job.to_dataframe()\n",
    "# print(data)\n",
    "# data['date']=pd.to_datetime(data['date'])\n",
    "pd.dtype()"
   ]
  },
  {
   "cell_type": "code",
   "execution_count": 32,
   "id": "4f8ec9c1",
   "metadata": {
    "execution": {
     "iopub.execute_input": "2023-05-10T00:38:32.729971Z",
     "iopub.status.busy": "2023-05-10T00:38:32.729585Z",
     "iopub.status.idle": "2023-05-10T00:38:32.732365Z",
     "shell.execute_reply": "2023-05-10T00:38:32.731922Z"
    }
   },
   "outputs": [],
   "source": [
    "query = \"\"\"\n",
    "select *,data_type from `ironhacks-data.ironhacks_training.weather_data`\n",
    "\"\"\""
   ]
  },
  {
   "cell_type": "code",
   "execution_count": 33,
   "id": "ab95f233",
   "metadata": {
    "execution": {
     "iopub.execute_input": "2023-05-10T00:38:32.734883Z",
     "iopub.status.busy": "2023-05-10T00:38:32.734645Z",
     "iopub.status.idle": "2023-05-10T00:38:33.254687Z",
     "shell.execute_reply": "2023-05-10T00:38:33.254317Z"
    }
   },
   "outputs": [
    {
     "ename": "BadRequest",
     "evalue": "400 Unrecognized name: data_type at [2:10]\n\nLocation: US\nJob ID: 228889bf-4514-4d1b-9d23-661fd0a5643c\n",
     "output_type": "error",
     "traceback": [
      "\u001b[0;31m---------------------------------------------------------------------------\u001b[0m",
      "\u001b[0;31mBadRequest\u001b[0m                                Traceback (most recent call last)",
      "Cell \u001b[0;32mIn [33], line 2\u001b[0m\n\u001b[1;32m      1\u001b[0m query_job \u001b[38;5;241m=\u001b[39m bigquery_client\u001b[38;5;241m.\u001b[39mquery(query)\n\u001b[0;32m----> 2\u001b[0m data \u001b[38;5;241m=\u001b[39m \u001b[43mquery_job\u001b[49m\u001b[38;5;241;43m.\u001b[39;49m\u001b[43mto_dataframe\u001b[49m\u001b[43m(\u001b[49m\u001b[43m)\u001b[49m\n\u001b[1;32m      3\u001b[0m \u001b[38;5;28mprint\u001b[39m(data)\n\u001b[1;32m      4\u001b[0m \u001b[38;5;66;03m# data['date']=pd.to_datetime(data['date'])\u001b[39;00m\n\u001b[1;32m      5\u001b[0m \u001b[38;5;66;03m# pd.dtype()\u001b[39;00m\n",
      "File \u001b[0;32m/opt/homebrew/lib/python3.9/site-packages/google/cloud/bigquery/job/query.py:1687\u001b[0m, in \u001b[0;36mQueryJob.to_dataframe\u001b[0;34m(self, bqstorage_client, dtypes, progress_bar_type, create_bqstorage_client, max_results, geography_as_object)\u001b[0m\n\u001b[1;32m   1612\u001b[0m \u001b[38;5;28;01mdef\u001b[39;00m \u001b[38;5;21mto_dataframe\u001b[39m(\n\u001b[1;32m   1613\u001b[0m     \u001b[38;5;28mself\u001b[39m,\n\u001b[1;32m   1614\u001b[0m     bqstorage_client: Optional[\u001b[38;5;124m\"\u001b[39m\u001b[38;5;124mbigquery_storage.BigQueryReadClient\u001b[39m\u001b[38;5;124m\"\u001b[39m] \u001b[38;5;241m=\u001b[39m \u001b[38;5;28;01mNone\u001b[39;00m,\n\u001b[0;32m   (...)\u001b[0m\n\u001b[1;32m   1619\u001b[0m     geography_as_object: \u001b[38;5;28mbool\u001b[39m \u001b[38;5;241m=\u001b[39m \u001b[38;5;28;01mFalse\u001b[39;00m,\n\u001b[1;32m   1620\u001b[0m ) \u001b[38;5;241m-\u001b[39m\u001b[38;5;241m>\u001b[39m \u001b[38;5;124m\"\u001b[39m\u001b[38;5;124mpandas.DataFrame\u001b[39m\u001b[38;5;124m\"\u001b[39m:\n\u001b[1;32m   1621\u001b[0m     \u001b[38;5;124;03m\"\"\"Return a pandas DataFrame from a QueryJob\u001b[39;00m\n\u001b[1;32m   1622\u001b[0m \n\u001b[1;32m   1623\u001b[0m \u001b[38;5;124;03m    Args:\u001b[39;00m\n\u001b[0;32m   (...)\u001b[0m\n\u001b[1;32m   1685\u001b[0m \u001b[38;5;124;03m            :mod:`shapely` library cannot be imported.\u001b[39;00m\n\u001b[1;32m   1686\u001b[0m \u001b[38;5;124;03m    \"\"\"\u001b[39;00m\n\u001b[0;32m-> 1687\u001b[0m     query_result \u001b[38;5;241m=\u001b[39m \u001b[43mwait_for_query\u001b[49m\u001b[43m(\u001b[49m\u001b[38;5;28;43mself\u001b[39;49m\u001b[43m,\u001b[49m\u001b[43m \u001b[49m\u001b[43mprogress_bar_type\u001b[49m\u001b[43m,\u001b[49m\u001b[43m \u001b[49m\u001b[43mmax_results\u001b[49m\u001b[38;5;241;43m=\u001b[39;49m\u001b[43mmax_results\u001b[49m\u001b[43m)\u001b[49m\n\u001b[1;32m   1688\u001b[0m     \u001b[38;5;28;01mreturn\u001b[39;00m query_result\u001b[38;5;241m.\u001b[39mto_dataframe(\n\u001b[1;32m   1689\u001b[0m         bqstorage_client\u001b[38;5;241m=\u001b[39mbqstorage_client,\n\u001b[1;32m   1690\u001b[0m         dtypes\u001b[38;5;241m=\u001b[39mdtypes,\n\u001b[0;32m   (...)\u001b[0m\n\u001b[1;32m   1693\u001b[0m         geography_as_object\u001b[38;5;241m=\u001b[39mgeography_as_object,\n\u001b[1;32m   1694\u001b[0m     )\n",
      "File \u001b[0;32m/opt/homebrew/lib/python3.9/site-packages/google/cloud/bigquery/_tqdm_helpers.py:104\u001b[0m, in \u001b[0;36mwait_for_query\u001b[0;34m(query_job, progress_bar_type, max_results)\u001b[0m\n\u001b[1;32m    100\u001b[0m progress_bar \u001b[38;5;241m=\u001b[39m get_progress_bar(\n\u001b[1;32m    101\u001b[0m     progress_bar_type, \u001b[38;5;124m\"\u001b[39m\u001b[38;5;124mQuery is running\u001b[39m\u001b[38;5;124m\"\u001b[39m, default_total, \u001b[38;5;124m\"\u001b[39m\u001b[38;5;124mquery\u001b[39m\u001b[38;5;124m\"\u001b[39m\n\u001b[1;32m    102\u001b[0m )\n\u001b[1;32m    103\u001b[0m \u001b[38;5;28;01mif\u001b[39;00m progress_bar \u001b[38;5;129;01mis\u001b[39;00m \u001b[38;5;28;01mNone\u001b[39;00m:\n\u001b[0;32m--> 104\u001b[0m     \u001b[38;5;28;01mreturn\u001b[39;00m \u001b[43mquery_job\u001b[49m\u001b[38;5;241;43m.\u001b[39;49m\u001b[43mresult\u001b[49m\u001b[43m(\u001b[49m\u001b[43mmax_results\u001b[49m\u001b[38;5;241;43m=\u001b[39;49m\u001b[43mmax_results\u001b[49m\u001b[43m)\u001b[49m\n\u001b[1;32m    106\u001b[0m i \u001b[38;5;241m=\u001b[39m \u001b[38;5;241m0\u001b[39m\n\u001b[1;32m    107\u001b[0m \u001b[38;5;28;01mwhile\u001b[39;00m \u001b[38;5;28;01mTrue\u001b[39;00m:\n",
      "File \u001b[0;32m/opt/homebrew/lib/python3.9/site-packages/google/cloud/bigquery/job/query.py:1499\u001b[0m, in \u001b[0;36mQueryJob.result\u001b[0;34m(self, page_size, max_results, retry, timeout, start_index, job_retry)\u001b[0m\n\u001b[1;32m   1496\u001b[0m     \u001b[38;5;28;01mif\u001b[39;00m retry_do_query \u001b[38;5;129;01mis\u001b[39;00m \u001b[38;5;129;01mnot\u001b[39;00m \u001b[38;5;28;01mNone\u001b[39;00m \u001b[38;5;129;01mand\u001b[39;00m job_retry \u001b[38;5;129;01mis\u001b[39;00m \u001b[38;5;129;01mnot\u001b[39;00m \u001b[38;5;28;01mNone\u001b[39;00m:\n\u001b[1;32m   1497\u001b[0m         do_get_result \u001b[38;5;241m=\u001b[39m job_retry(do_get_result)\n\u001b[0;32m-> 1499\u001b[0m     \u001b[43mdo_get_result\u001b[49m\u001b[43m(\u001b[49m\u001b[43m)\u001b[49m\n\u001b[1;32m   1501\u001b[0m \u001b[38;5;28;01mexcept\u001b[39;00m exceptions\u001b[38;5;241m.\u001b[39mGoogleAPICallError \u001b[38;5;28;01mas\u001b[39;00m exc:\n\u001b[1;32m   1502\u001b[0m     exc\u001b[38;5;241m.\u001b[39mmessage \u001b[38;5;241m=\u001b[39m _EXCEPTION_FOOTER_TEMPLATE\u001b[38;5;241m.\u001b[39mformat(\n\u001b[1;32m   1503\u001b[0m         message\u001b[38;5;241m=\u001b[39mexc\u001b[38;5;241m.\u001b[39mmessage, location\u001b[38;5;241m=\u001b[39m\u001b[38;5;28mself\u001b[39m\u001b[38;5;241m.\u001b[39mlocation, job_id\u001b[38;5;241m=\u001b[39m\u001b[38;5;28mself\u001b[39m\u001b[38;5;241m.\u001b[39mjob_id\n\u001b[1;32m   1504\u001b[0m     )\n",
      "File \u001b[0;32m/opt/homebrew/lib/python3.9/site-packages/google/api_core/retry.py:349\u001b[0m, in \u001b[0;36mRetry.__call__.<locals>.retry_wrapped_func\u001b[0;34m(*args, **kwargs)\u001b[0m\n\u001b[1;32m    345\u001b[0m target \u001b[38;5;241m=\u001b[39m functools\u001b[38;5;241m.\u001b[39mpartial(func, \u001b[38;5;241m*\u001b[39margs, \u001b[38;5;241m*\u001b[39m\u001b[38;5;241m*\u001b[39mkwargs)\n\u001b[1;32m    346\u001b[0m sleep_generator \u001b[38;5;241m=\u001b[39m exponential_sleep_generator(\n\u001b[1;32m    347\u001b[0m     \u001b[38;5;28mself\u001b[39m\u001b[38;5;241m.\u001b[39m_initial, \u001b[38;5;28mself\u001b[39m\u001b[38;5;241m.\u001b[39m_maximum, multiplier\u001b[38;5;241m=\u001b[39m\u001b[38;5;28mself\u001b[39m\u001b[38;5;241m.\u001b[39m_multiplier\n\u001b[1;32m    348\u001b[0m )\n\u001b[0;32m--> 349\u001b[0m \u001b[38;5;28;01mreturn\u001b[39;00m \u001b[43mretry_target\u001b[49m\u001b[43m(\u001b[49m\n\u001b[1;32m    350\u001b[0m \u001b[43m    \u001b[49m\u001b[43mtarget\u001b[49m\u001b[43m,\u001b[49m\n\u001b[1;32m    351\u001b[0m \u001b[43m    \u001b[49m\u001b[38;5;28;43mself\u001b[39;49m\u001b[38;5;241;43m.\u001b[39;49m\u001b[43m_predicate\u001b[49m\u001b[43m,\u001b[49m\n\u001b[1;32m    352\u001b[0m \u001b[43m    \u001b[49m\u001b[43msleep_generator\u001b[49m\u001b[43m,\u001b[49m\n\u001b[1;32m    353\u001b[0m \u001b[43m    \u001b[49m\u001b[38;5;28;43mself\u001b[39;49m\u001b[38;5;241;43m.\u001b[39;49m\u001b[43m_timeout\u001b[49m\u001b[43m,\u001b[49m\n\u001b[1;32m    354\u001b[0m \u001b[43m    \u001b[49m\u001b[43mon_error\u001b[49m\u001b[38;5;241;43m=\u001b[39;49m\u001b[43mon_error\u001b[49m\u001b[43m,\u001b[49m\n\u001b[1;32m    355\u001b[0m \u001b[43m\u001b[49m\u001b[43m)\u001b[49m\n",
      "File \u001b[0;32m/opt/homebrew/lib/python3.9/site-packages/google/api_core/retry.py:191\u001b[0m, in \u001b[0;36mretry_target\u001b[0;34m(target, predicate, sleep_generator, timeout, on_error, **kwargs)\u001b[0m\n\u001b[1;32m    189\u001b[0m \u001b[38;5;28;01mfor\u001b[39;00m sleep \u001b[38;5;129;01min\u001b[39;00m sleep_generator:\n\u001b[1;32m    190\u001b[0m     \u001b[38;5;28;01mtry\u001b[39;00m:\n\u001b[0;32m--> 191\u001b[0m         \u001b[38;5;28;01mreturn\u001b[39;00m \u001b[43mtarget\u001b[49m\u001b[43m(\u001b[49m\u001b[43m)\u001b[49m\n\u001b[1;32m    193\u001b[0m     \u001b[38;5;66;03m# pylint: disable=broad-except\u001b[39;00m\n\u001b[1;32m    194\u001b[0m     \u001b[38;5;66;03m# This function explicitly must deal with broad exceptions.\u001b[39;00m\n\u001b[1;32m    195\u001b[0m     \u001b[38;5;28;01mexcept\u001b[39;00m \u001b[38;5;167;01mException\u001b[39;00m \u001b[38;5;28;01mas\u001b[39;00m exc:\n",
      "File \u001b[0;32m/opt/homebrew/lib/python3.9/site-packages/google/cloud/bigquery/job/query.py:1489\u001b[0m, in \u001b[0;36mQueryJob.result.<locals>.do_get_result\u001b[0;34m()\u001b[0m\n\u001b[1;32m   1486\u001b[0m     \u001b[38;5;28mself\u001b[39m\u001b[38;5;241m.\u001b[39m_retry_do_query \u001b[38;5;241m=\u001b[39m retry_do_query\n\u001b[1;32m   1487\u001b[0m     \u001b[38;5;28mself\u001b[39m\u001b[38;5;241m.\u001b[39m_job_retry \u001b[38;5;241m=\u001b[39m job_retry\n\u001b[0;32m-> 1489\u001b[0m \u001b[38;5;28;43msuper\u001b[39;49m\u001b[43m(\u001b[49m\u001b[43mQueryJob\u001b[49m\u001b[43m,\u001b[49m\u001b[43m \u001b[49m\u001b[38;5;28;43mself\u001b[39;49m\u001b[43m)\u001b[49m\u001b[38;5;241;43m.\u001b[39;49m\u001b[43mresult\u001b[49m\u001b[43m(\u001b[49m\u001b[43mretry\u001b[49m\u001b[38;5;241;43m=\u001b[39;49m\u001b[43mretry\u001b[49m\u001b[43m,\u001b[49m\u001b[43m \u001b[49m\u001b[43mtimeout\u001b[49m\u001b[38;5;241;43m=\u001b[39;49m\u001b[43mtimeout\u001b[49m\u001b[43m)\u001b[49m\n\u001b[1;32m   1491\u001b[0m \u001b[38;5;66;03m# Since the job could already be \"done\" (e.g. got a finished job\u001b[39;00m\n\u001b[1;32m   1492\u001b[0m \u001b[38;5;66;03m# via client.get_job), the superclass call to done() might not\u001b[39;00m\n\u001b[1;32m   1493\u001b[0m \u001b[38;5;66;03m# set the self._query_results cache.\u001b[39;00m\n\u001b[1;32m   1494\u001b[0m \u001b[38;5;28mself\u001b[39m\u001b[38;5;241m.\u001b[39m_reload_query_results(retry\u001b[38;5;241m=\u001b[39mretry, timeout\u001b[38;5;241m=\u001b[39mtimeout)\n",
      "File \u001b[0;32m/opt/homebrew/lib/python3.9/site-packages/google/cloud/bigquery/job/base.py:728\u001b[0m, in \u001b[0;36m_AsyncJob.result\u001b[0;34m(self, retry, timeout)\u001b[0m\n\u001b[1;32m    725\u001b[0m     \u001b[38;5;28mself\u001b[39m\u001b[38;5;241m.\u001b[39m_begin(retry\u001b[38;5;241m=\u001b[39mretry, timeout\u001b[38;5;241m=\u001b[39mtimeout)\n\u001b[1;32m    727\u001b[0m kwargs \u001b[38;5;241m=\u001b[39m {} \u001b[38;5;28;01mif\u001b[39;00m retry \u001b[38;5;129;01mis\u001b[39;00m DEFAULT_RETRY \u001b[38;5;28;01melse\u001b[39;00m {\u001b[38;5;124m\"\u001b[39m\u001b[38;5;124mretry\u001b[39m\u001b[38;5;124m\"\u001b[39m: retry}\n\u001b[0;32m--> 728\u001b[0m \u001b[38;5;28;01mreturn\u001b[39;00m \u001b[38;5;28;43msuper\u001b[39;49m\u001b[43m(\u001b[49m\u001b[43m_AsyncJob\u001b[49m\u001b[43m,\u001b[49m\u001b[43m \u001b[49m\u001b[38;5;28;43mself\u001b[39;49m\u001b[43m)\u001b[49m\u001b[38;5;241;43m.\u001b[39;49m\u001b[43mresult\u001b[49m\u001b[43m(\u001b[49m\u001b[43mtimeout\u001b[49m\u001b[38;5;241;43m=\u001b[39;49m\u001b[43mtimeout\u001b[49m\u001b[43m,\u001b[49m\u001b[43m \u001b[49m\u001b[38;5;241;43m*\u001b[39;49m\u001b[38;5;241;43m*\u001b[39;49m\u001b[43mkwargs\u001b[49m\u001b[43m)\u001b[49m\n",
      "File \u001b[0;32m/opt/homebrew/lib/python3.9/site-packages/google/api_core/future/polling.py:261\u001b[0m, in \u001b[0;36mPollingFuture.result\u001b[0;34m(self, timeout, retry, polling)\u001b[0m\n\u001b[1;32m    256\u001b[0m \u001b[38;5;28mself\u001b[39m\u001b[38;5;241m.\u001b[39m_blocking_poll(timeout\u001b[38;5;241m=\u001b[39mtimeout, retry\u001b[38;5;241m=\u001b[39mretry, polling\u001b[38;5;241m=\u001b[39mpolling)\n\u001b[1;32m    258\u001b[0m \u001b[38;5;28;01mif\u001b[39;00m \u001b[38;5;28mself\u001b[39m\u001b[38;5;241m.\u001b[39m_exception \u001b[38;5;129;01mis\u001b[39;00m \u001b[38;5;129;01mnot\u001b[39;00m \u001b[38;5;28;01mNone\u001b[39;00m:\n\u001b[1;32m    259\u001b[0m     \u001b[38;5;66;03m# pylint: disable=raising-bad-type\u001b[39;00m\n\u001b[1;32m    260\u001b[0m     \u001b[38;5;66;03m# Pylint doesn't recognize that this is valid in this case.\u001b[39;00m\n\u001b[0;32m--> 261\u001b[0m     \u001b[38;5;28;01mraise\u001b[39;00m \u001b[38;5;28mself\u001b[39m\u001b[38;5;241m.\u001b[39m_exception\n\u001b[1;32m    263\u001b[0m \u001b[38;5;28;01mreturn\u001b[39;00m \u001b[38;5;28mself\u001b[39m\u001b[38;5;241m.\u001b[39m_result\n",
      "\u001b[0;31mBadRequest\u001b[0m: 400 Unrecognized name: data_type at [2:10]\n\nLocation: US\nJob ID: 228889bf-4514-4d1b-9d23-661fd0a5643c\n"
     ]
    }
   ],
   "source": [
    "query_job = bigquery_client.query(query)\n",
    "data = query_job.to_dataframe()\n",
    "print(data)\n",
    "# data['date']=pd.to_datetime(data['date'])\n",
    "# pd.dtype()"
   ]
  },
  {
   "cell_type": "code",
   "execution_count": 34,
   "id": "26ab55d8",
   "metadata": {
    "execution": {
     "iopub.execute_input": "2023-05-10T00:38:33.256536Z",
     "iopub.status.busy": "2023-05-10T00:38:33.256404Z",
     "iopub.status.idle": "2023-05-10T00:38:33.258167Z",
     "shell.execute_reply": "2023-05-10T00:38:33.257887Z"
    }
   },
   "outputs": [],
   "source": [
    "query = \"\"\"\n",
    "select * from `ironhacks-data.ironhacks_training.weather_data`\n",
    "\"\"\""
   ]
  },
  {
   "cell_type": "code",
   "execution_count": 35,
   "id": "a7511c8d",
   "metadata": {
    "execution": {
     "iopub.execute_input": "2023-05-10T00:38:33.259654Z",
     "iopub.status.busy": "2023-05-10T00:38:33.259542Z",
     "iopub.status.idle": "2023-05-10T00:38:34.775870Z",
     "shell.execute_reply": "2023-05-10T00:38:34.775042Z"
    }
   },
   "outputs": [
    {
     "name": "stdout",
     "output_type": "stream",
     "text": [
      "           date  max_rel_humidity  max_temperature  mean_temperature  \\\n",
      "0    2019-09-04           99.9498          25.4570           18.6242   \n",
      "1    2020-02-16           84.4966           8.6228            3.1896   \n",
      "2    2019-12-19           95.9017           2.8886           -3.4884   \n",
      "3    2020-02-20           70.0359           0.7939           -4.0254   \n",
      "4    2019-12-23           97.1634          13.8411            5.7818   \n",
      "..          ...               ...              ...               ...   \n",
      "360  2020-04-30           96.2771          10.2888            7.1714   \n",
      "361  2020-01-19           52.0808           3.7231           -1.8390   \n",
      "362  2020-05-09           65.8581          13.9009            7.3270   \n",
      "363  2020-06-25           75.0191          28.4810           22.4637   \n",
      "364  2020-01-28          100.0000           8.6565            0.7474   \n",
      "\n",
      "     min_rel_humidity  min_temperature  potential_water_deficit  \\\n",
      "0             56.4720          11.7913                  -3.6142   \n",
      "1             40.7666          -2.2436                  -1.4307   \n",
      "2             39.0330          -9.8654                  -0.9389   \n",
      "3             34.7544          -8.8446                  -1.4427   \n",
      "4             31.2553          -2.2774                  -1.2787   \n",
      "..                ...              ...                      ...   \n",
      "360           69.4000           4.0540                  -0.8344   \n",
      "361           23.0505          -7.4012                  -2.0879   \n",
      "362           26.1280           0.7531                  -3.9989   \n",
      "363           35.8970          16.4465                  -6.2345   \n",
      "364           45.1941          -7.1618                  -0.8509   \n",
      "\n",
      "     precipitation_data  wind_speed  \n",
      "0                0.0000      3.6461  \n",
      "1                0.0000      2.2398  \n",
      "2                0.0000      4.1230  \n",
      "3                0.0000      4.8531  \n",
      "4                0.0000      2.3404  \n",
      "..                  ...         ...  \n",
      "360              0.6096      6.1917  \n",
      "361              0.1006      7.3570  \n",
      "362              0.0221      3.9315  \n",
      "363              0.0884      3.7202  \n",
      "364              0.0282      1.9813  \n",
      "\n",
      "[365 rows x 9 columns]\n"
     ]
    }
   ],
   "source": [
    "query_job = bigquery_client.query(query)\n",
    "data = query_job.to_dataframe()\n",
    "print(data)\n",
    "# data['date']=pd.to_datetime(data['date'])\n",
    "# pd.dtype()"
   ]
  },
  {
   "cell_type": "code",
   "execution_count": 36,
   "id": "86853be0",
   "metadata": {
    "execution": {
     "iopub.execute_input": "2023-05-10T00:38:34.781681Z",
     "iopub.status.busy": "2023-05-10T00:38:34.781050Z",
     "iopub.status.idle": "2023-05-10T00:38:34.786537Z",
     "shell.execute_reply": "2023-05-10T00:38:34.785560Z"
    }
   },
   "outputs": [],
   "source": [
    "query = \"\"\"\n",
    "select * from `ironhacks-data.ironhacks_training.weather_data`\n",
    "\"\"\""
   ]
  },
  {
   "cell_type": "code",
   "execution_count": 37,
   "id": "dee94c45",
   "metadata": {
    "execution": {
     "iopub.execute_input": "2023-05-10T00:38:34.790224Z",
     "iopub.status.busy": "2023-05-10T00:38:34.789886Z",
     "iopub.status.idle": "2023-05-10T00:38:36.458221Z",
     "shell.execute_reply": "2023-05-10T00:38:36.457959Z"
    }
   },
   "outputs": [
    {
     "ename": "AttributeError",
     "evalue": "module 'pandas' has no attribute 'Dataframe'",
     "output_type": "error",
     "traceback": [
      "\u001b[0;31m---------------------------------------------------------------------------\u001b[0m",
      "\u001b[0;31mAttributeError\u001b[0m                            Traceback (most recent call last)",
      "Cell \u001b[0;32mIn [37], line 3\u001b[0m\n\u001b[1;32m      1\u001b[0m query_job \u001b[38;5;241m=\u001b[39m bigquery_client\u001b[38;5;241m.\u001b[39mquery(query)\n\u001b[1;32m      2\u001b[0m data \u001b[38;5;241m=\u001b[39m query_job\u001b[38;5;241m.\u001b[39mto_dataframe()\n\u001b[0;32m----> 3\u001b[0m data \u001b[38;5;241m=\u001b[39m \u001b[43mpd\u001b[49m\u001b[38;5;241;43m.\u001b[39;49m\u001b[43mDataframe\u001b[49m()\n\u001b[1;32m      4\u001b[0m \u001b[38;5;28mprint\u001b[39m(data)\n\u001b[1;32m      5\u001b[0m \u001b[38;5;66;03m# data['date']=pd.to_datetime(data['date'])\u001b[39;00m\n\u001b[1;32m      6\u001b[0m \u001b[38;5;66;03m# pd.dtype()\u001b[39;00m\n",
      "File \u001b[0;32m/opt/homebrew/lib/python3.9/site-packages/pandas/__init__.py:264\u001b[0m, in \u001b[0;36m__getattr__\u001b[0;34m(name)\u001b[0m\n\u001b[1;32m    260\u001b[0m     \u001b[38;5;28;01mfrom\u001b[39;00m \u001b[38;5;21;01mpandas\u001b[39;00m\u001b[38;5;21;01m.\u001b[39;00m\u001b[38;5;21;01mcore\u001b[39;00m\u001b[38;5;21;01m.\u001b[39;00m\u001b[38;5;21;01marrays\u001b[39;00m\u001b[38;5;21;01m.\u001b[39;00m\u001b[38;5;21;01msparse\u001b[39;00m \u001b[38;5;28;01mimport\u001b[39;00m SparseArray \u001b[38;5;28;01mas\u001b[39;00m _SparseArray\n\u001b[1;32m    262\u001b[0m     \u001b[38;5;28;01mreturn\u001b[39;00m _SparseArray\n\u001b[0;32m--> 264\u001b[0m \u001b[38;5;28;01mraise\u001b[39;00m \u001b[38;5;167;01mAttributeError\u001b[39;00m(\u001b[38;5;124mf\u001b[39m\u001b[38;5;124m\"\u001b[39m\u001b[38;5;124mmodule \u001b[39m\u001b[38;5;124m'\u001b[39m\u001b[38;5;124mpandas\u001b[39m\u001b[38;5;124m'\u001b[39m\u001b[38;5;124m has no attribute \u001b[39m\u001b[38;5;124m'\u001b[39m\u001b[38;5;132;01m{\u001b[39;00mname\u001b[38;5;132;01m}\u001b[39;00m\u001b[38;5;124m'\u001b[39m\u001b[38;5;124m\"\u001b[39m)\n",
      "\u001b[0;31mAttributeError\u001b[0m: module 'pandas' has no attribute 'Dataframe'"
     ]
    }
   ],
   "source": [
    "query_job = bigquery_client.query(query)\n",
    "data = query_job.to_dataframe()\n",
    "data = pd.Dataframe()\n",
    "print(data)\n",
    "# data['date']=pd.to_datetime(data['date'])\n",
    "# pd.dtype()"
   ]
  },
  {
   "cell_type": "code",
   "execution_count": 38,
   "id": "03ecffcd",
   "metadata": {
    "execution": {
     "iopub.execute_input": "2023-05-10T00:38:36.459720Z",
     "iopub.status.busy": "2023-05-10T00:38:36.459635Z",
     "iopub.status.idle": "2023-05-10T00:38:36.461244Z",
     "shell.execute_reply": "2023-05-10T00:38:36.461026Z"
    }
   },
   "outputs": [],
   "source": [
    "query = \"\"\"\n",
    "select * from `ironhacks-data.ironhacks_training.weather_data`\n",
    "\"\"\""
   ]
  },
  {
   "cell_type": "code",
   "execution_count": 39,
   "id": "c08962ca",
   "metadata": {
    "execution": {
     "iopub.execute_input": "2023-05-10T00:38:36.462592Z",
     "iopub.status.busy": "2023-05-10T00:38:36.462519Z",
     "iopub.status.idle": "2023-05-10T00:38:38.004841Z",
     "shell.execute_reply": "2023-05-10T00:38:38.004229Z"
    }
   },
   "outputs": [
    {
     "ename": "AttributeError",
     "evalue": "module 'pandas' has no attribute 'Dataframe'",
     "output_type": "error",
     "traceback": [
      "\u001b[0;31m---------------------------------------------------------------------------\u001b[0m",
      "\u001b[0;31mAttributeError\u001b[0m                            Traceback (most recent call last)",
      "Cell \u001b[0;32mIn [39], line 3\u001b[0m\n\u001b[1;32m      1\u001b[0m query_job \u001b[38;5;241m=\u001b[39m bigquery_client\u001b[38;5;241m.\u001b[39mquery(query)\n\u001b[1;32m      2\u001b[0m data \u001b[38;5;241m=\u001b[39m query_job\u001b[38;5;241m.\u001b[39mto_dataframe()\n\u001b[0;32m----> 3\u001b[0m data \u001b[38;5;241m=\u001b[39m \u001b[43mpd\u001b[49m\u001b[38;5;241;43m.\u001b[39;49m\u001b[43mDataframe\u001b[49m()\n\u001b[1;32m      4\u001b[0m data[\u001b[38;5;124m'\u001b[39m\u001b[38;5;124mdate\u001b[39m\u001b[38;5;124m'\u001b[39m]\u001b[38;5;241m=\u001b[39mpd\u001b[38;5;241m.\u001b[39mto_datetime(data[\u001b[38;5;124m'\u001b[39m\u001b[38;5;124mdate\u001b[39m\u001b[38;5;124m'\u001b[39m])\n\u001b[1;32m      5\u001b[0m pd\u001b[38;5;241m.\u001b[39mdtype()\n",
      "File \u001b[0;32m/opt/homebrew/lib/python3.9/site-packages/pandas/__init__.py:264\u001b[0m, in \u001b[0;36m__getattr__\u001b[0;34m(name)\u001b[0m\n\u001b[1;32m    260\u001b[0m     \u001b[38;5;28;01mfrom\u001b[39;00m \u001b[38;5;21;01mpandas\u001b[39;00m\u001b[38;5;21;01m.\u001b[39;00m\u001b[38;5;21;01mcore\u001b[39;00m\u001b[38;5;21;01m.\u001b[39;00m\u001b[38;5;21;01marrays\u001b[39;00m\u001b[38;5;21;01m.\u001b[39;00m\u001b[38;5;21;01msparse\u001b[39;00m \u001b[38;5;28;01mimport\u001b[39;00m SparseArray \u001b[38;5;28;01mas\u001b[39;00m _SparseArray\n\u001b[1;32m    262\u001b[0m     \u001b[38;5;28;01mreturn\u001b[39;00m _SparseArray\n\u001b[0;32m--> 264\u001b[0m \u001b[38;5;28;01mraise\u001b[39;00m \u001b[38;5;167;01mAttributeError\u001b[39;00m(\u001b[38;5;124mf\u001b[39m\u001b[38;5;124m\"\u001b[39m\u001b[38;5;124mmodule \u001b[39m\u001b[38;5;124m'\u001b[39m\u001b[38;5;124mpandas\u001b[39m\u001b[38;5;124m'\u001b[39m\u001b[38;5;124m has no attribute \u001b[39m\u001b[38;5;124m'\u001b[39m\u001b[38;5;132;01m{\u001b[39;00mname\u001b[38;5;132;01m}\u001b[39;00m\u001b[38;5;124m'\u001b[39m\u001b[38;5;124m\"\u001b[39m)\n",
      "\u001b[0;31mAttributeError\u001b[0m: module 'pandas' has no attribute 'Dataframe'"
     ]
    }
   ],
   "source": [
    "query_job = bigquery_client.query(query)\n",
    "data = query_job.to_dataframe()\n",
    "data = pd.Dataframe()\n",
    "data['date']=pd.to_datetime(data['date'])\n",
    "pd.dtype()"
   ]
  },
  {
   "cell_type": "code",
   "execution_count": 40,
   "id": "9868baa2",
   "metadata": {
    "execution": {
     "iopub.execute_input": "2023-05-10T00:38:38.007966Z",
     "iopub.status.busy": "2023-05-10T00:38:38.007738Z",
     "iopub.status.idle": "2023-05-10T00:38:38.010301Z",
     "shell.execute_reply": "2023-05-10T00:38:38.009854Z"
    }
   },
   "outputs": [],
   "source": [
    "query = \"\"\"\n",
    "select * from `ironhacks-data.ironhacks_training.weather_data`\n",
    "\"\"\""
   ]
  },
  {
   "cell_type": "code",
   "execution_count": 41,
   "id": "358c89f0",
   "metadata": {
    "execution": {
     "iopub.execute_input": "2023-05-10T00:38:38.012683Z",
     "iopub.status.busy": "2023-05-10T00:38:38.012479Z",
     "iopub.status.idle": "2023-05-10T00:38:39.500307Z",
     "shell.execute_reply": "2023-05-10T00:38:39.499798Z"
    }
   },
   "outputs": [
    {
     "ename": "AttributeError",
     "evalue": "module 'pandas' has no attribute 'dtype'",
     "output_type": "error",
     "traceback": [
      "\u001b[0;31m---------------------------------------------------------------------------\u001b[0m",
      "\u001b[0;31mAttributeError\u001b[0m                            Traceback (most recent call last)",
      "Cell \u001b[0;32mIn [41], line 4\u001b[0m\n\u001b[1;32m      2\u001b[0m data \u001b[38;5;241m=\u001b[39m query_job\u001b[38;5;241m.\u001b[39mto_dataframe()\n\u001b[1;32m      3\u001b[0m data[\u001b[38;5;124m'\u001b[39m\u001b[38;5;124mdate\u001b[39m\u001b[38;5;124m'\u001b[39m]\u001b[38;5;241m=\u001b[39mpd\u001b[38;5;241m.\u001b[39mto_datetime(data[\u001b[38;5;124m'\u001b[39m\u001b[38;5;124mdate\u001b[39m\u001b[38;5;124m'\u001b[39m])\n\u001b[0;32m----> 4\u001b[0m \u001b[43mpd\u001b[49m\u001b[38;5;241;43m.\u001b[39;49m\u001b[43mdtype\u001b[49m()\n",
      "File \u001b[0;32m/opt/homebrew/lib/python3.9/site-packages/pandas/__init__.py:264\u001b[0m, in \u001b[0;36m__getattr__\u001b[0;34m(name)\u001b[0m\n\u001b[1;32m    260\u001b[0m     \u001b[38;5;28;01mfrom\u001b[39;00m \u001b[38;5;21;01mpandas\u001b[39;00m\u001b[38;5;21;01m.\u001b[39;00m\u001b[38;5;21;01mcore\u001b[39;00m\u001b[38;5;21;01m.\u001b[39;00m\u001b[38;5;21;01marrays\u001b[39;00m\u001b[38;5;21;01m.\u001b[39;00m\u001b[38;5;21;01msparse\u001b[39;00m \u001b[38;5;28;01mimport\u001b[39;00m SparseArray \u001b[38;5;28;01mas\u001b[39;00m _SparseArray\n\u001b[1;32m    262\u001b[0m     \u001b[38;5;28;01mreturn\u001b[39;00m _SparseArray\n\u001b[0;32m--> 264\u001b[0m \u001b[38;5;28;01mraise\u001b[39;00m \u001b[38;5;167;01mAttributeError\u001b[39;00m(\u001b[38;5;124mf\u001b[39m\u001b[38;5;124m\"\u001b[39m\u001b[38;5;124mmodule \u001b[39m\u001b[38;5;124m'\u001b[39m\u001b[38;5;124mpandas\u001b[39m\u001b[38;5;124m'\u001b[39m\u001b[38;5;124m has no attribute \u001b[39m\u001b[38;5;124m'\u001b[39m\u001b[38;5;132;01m{\u001b[39;00mname\u001b[38;5;132;01m}\u001b[39;00m\u001b[38;5;124m'\u001b[39m\u001b[38;5;124m\"\u001b[39m)\n",
      "\u001b[0;31mAttributeError\u001b[0m: module 'pandas' has no attribute 'dtype'"
     ]
    }
   ],
   "source": [
    "query_job = bigquery_client.query(query)\n",
    "data = query_job.to_dataframe()\n",
    "data['date']=pd.to_datetime(data['date'])\n",
    "pd.dtype()"
   ]
  },
  {
   "cell_type": "code",
   "execution_count": 42,
   "id": "099eb98f",
   "metadata": {
    "execution": {
     "iopub.execute_input": "2023-05-10T00:38:39.502921Z",
     "iopub.status.busy": "2023-05-10T00:38:39.502713Z",
     "iopub.status.idle": "2023-05-10T00:38:39.505399Z",
     "shell.execute_reply": "2023-05-10T00:38:39.504919Z"
    }
   },
   "outputs": [],
   "source": [
    "query = \"\"\"\n",
    "select * from `ironhacks-data.ironhacks_training.weather_data`\n",
    "\"\"\""
   ]
  },
  {
   "cell_type": "code",
   "execution_count": 43,
   "id": "4f8fe699",
   "metadata": {
    "execution": {
     "iopub.execute_input": "2023-05-10T00:38:39.507866Z",
     "iopub.status.busy": "2023-05-10T00:38:39.507683Z",
     "iopub.status.idle": "2023-05-10T00:38:40.923632Z",
     "shell.execute_reply": "2023-05-10T00:38:40.922809Z"
    }
   },
   "outputs": [
    {
     "data": {
      "text/html": [
       "<div>\n",
       "<style scoped>\n",
       "    .dataframe tbody tr th:only-of-type {\n",
       "        vertical-align: middle;\n",
       "    }\n",
       "\n",
       "    .dataframe tbody tr th {\n",
       "        vertical-align: top;\n",
       "    }\n",
       "\n",
       "    .dataframe thead th {\n",
       "        text-align: right;\n",
       "    }\n",
       "</style>\n",
       "<table border=\"1\" class=\"dataframe\">\n",
       "  <thead>\n",
       "    <tr style=\"text-align: right;\">\n",
       "      <th></th>\n",
       "      <th>date</th>\n",
       "      <th>max_rel_humidity</th>\n",
       "      <th>max_temperature</th>\n",
       "      <th>mean_temperature</th>\n",
       "      <th>min_rel_humidity</th>\n",
       "      <th>min_temperature</th>\n",
       "      <th>potential_water_deficit</th>\n",
       "      <th>precipitation_data</th>\n",
       "      <th>wind_speed</th>\n",
       "    </tr>\n",
       "  </thead>\n",
       "  <tbody>\n",
       "    <tr>\n",
       "      <th>0</th>\n",
       "      <td>2019-09-04</td>\n",
       "      <td>99.9498</td>\n",
       "      <td>25.4570</td>\n",
       "      <td>18.6242</td>\n",
       "      <td>56.4720</td>\n",
       "      <td>11.7913</td>\n",
       "      <td>-3.6142</td>\n",
       "      <td>0.0</td>\n",
       "      <td>3.6461</td>\n",
       "    </tr>\n",
       "    <tr>\n",
       "      <th>1</th>\n",
       "      <td>2020-02-16</td>\n",
       "      <td>84.4966</td>\n",
       "      <td>8.6228</td>\n",
       "      <td>3.1896</td>\n",
       "      <td>40.7666</td>\n",
       "      <td>-2.2436</td>\n",
       "      <td>-1.4307</td>\n",
       "      <td>0.0</td>\n",
       "      <td>2.2398</td>\n",
       "    </tr>\n",
       "    <tr>\n",
       "      <th>2</th>\n",
       "      <td>2019-12-19</td>\n",
       "      <td>95.9017</td>\n",
       "      <td>2.8886</td>\n",
       "      <td>-3.4884</td>\n",
       "      <td>39.0330</td>\n",
       "      <td>-9.8654</td>\n",
       "      <td>-0.9389</td>\n",
       "      <td>0.0</td>\n",
       "      <td>4.1230</td>\n",
       "    </tr>\n",
       "    <tr>\n",
       "      <th>3</th>\n",
       "      <td>2020-02-20</td>\n",
       "      <td>70.0359</td>\n",
       "      <td>0.7939</td>\n",
       "      <td>-4.0254</td>\n",
       "      <td>34.7544</td>\n",
       "      <td>-8.8446</td>\n",
       "      <td>-1.4427</td>\n",
       "      <td>0.0</td>\n",
       "      <td>4.8531</td>\n",
       "    </tr>\n",
       "    <tr>\n",
       "      <th>4</th>\n",
       "      <td>2019-12-23</td>\n",
       "      <td>97.1634</td>\n",
       "      <td>13.8411</td>\n",
       "      <td>5.7818</td>\n",
       "      <td>31.2553</td>\n",
       "      <td>-2.2774</td>\n",
       "      <td>-1.2787</td>\n",
       "      <td>0.0</td>\n",
       "      <td>2.3404</td>\n",
       "    </tr>\n",
       "  </tbody>\n",
       "</table>\n",
       "</div>"
      ],
      "text/plain": [
       "        date  max_rel_humidity  max_temperature  mean_temperature  \\\n",
       "0 2019-09-04           99.9498          25.4570           18.6242   \n",
       "1 2020-02-16           84.4966           8.6228            3.1896   \n",
       "2 2019-12-19           95.9017           2.8886           -3.4884   \n",
       "3 2020-02-20           70.0359           0.7939           -4.0254   \n",
       "4 2019-12-23           97.1634          13.8411            5.7818   \n",
       "\n",
       "   min_rel_humidity  min_temperature  potential_water_deficit  \\\n",
       "0           56.4720          11.7913                  -3.6142   \n",
       "1           40.7666          -2.2436                  -1.4307   \n",
       "2           39.0330          -9.8654                  -0.9389   \n",
       "3           34.7544          -8.8446                  -1.4427   \n",
       "4           31.2553          -2.2774                  -1.2787   \n",
       "\n",
       "   precipitation_data  wind_speed  \n",
       "0                 0.0      3.6461  \n",
       "1                 0.0      2.2398  \n",
       "2                 0.0      4.1230  \n",
       "3                 0.0      4.8531  \n",
       "4                 0.0      2.3404  "
      ]
     },
     "execution_count": 43,
     "metadata": {},
     "output_type": "execute_result"
    }
   ],
   "source": [
    "query_job = bigquery_client.query(query)\n",
    "data = query_job.to_dataframe()\n",
    "data['date']=pd.to_datetime(data['date'])\n",
    "data.head()"
   ]
  },
  {
   "cell_type": "code",
   "execution_count": 44,
   "id": "5d2024d9",
   "metadata": {
    "execution": {
     "iopub.execute_input": "2023-05-10T00:38:40.927660Z",
     "iopub.status.busy": "2023-05-10T00:38:40.927131Z",
     "iopub.status.idle": "2023-05-10T00:38:40.932864Z",
     "shell.execute_reply": "2023-05-10T00:38:40.932310Z"
    }
   },
   "outputs": [
    {
     "name": "stdout",
     "output_type": "stream",
     "text": [
      "0      0.0000\n",
      "1      0.0000\n",
      "2      0.0000\n",
      "3      0.0000\n",
      "4      0.0000\n",
      "        ...  \n",
      "360    0.6096\n",
      "361    0.1006\n",
      "362    0.0221\n",
      "363    0.0884\n",
      "364    0.0282\n",
      "Name: precipitation_data, Length: 365, dtype: float64\n"
     ]
    }
   ],
   "source": [
    "print(data['precipitation_data'])"
   ]
  },
  {
   "cell_type": "code",
   "execution_count": 45,
   "id": "391554a6",
   "metadata": {
    "execution": {
     "iopub.execute_input": "2023-05-10T00:38:40.935845Z",
     "iopub.status.busy": "2023-05-10T00:38:40.935602Z",
     "iopub.status.idle": "2023-05-10T00:38:40.939059Z",
     "shell.execute_reply": "2023-05-10T00:38:40.938498Z"
    }
   },
   "outputs": [
    {
     "name": "stdout",
     "output_type": "stream",
     "text": [
      "{0.0, 0.25, 1.7885, 0.8082, 4.3098, 5.0154, 6.9792, 5.8216, 8.4312, 9.7817, 9.0816, 11.2781, 6.0997, 13.8181, 14.0146, 10.0355, 16.9357, 8.2947, 10.1227, 16.3794, 13.8729, 21.4874, 3.6143, 3.4223, 24.6999, 0.0001, 18.1149, 27.5686, 28.7723, 20.9584, 4.0503, 31.0766, 5.5595, 0.2883, 0.0788, 3.2408, 36.755, 28.8922, 1.6252, 0.0163, 2.7181, 2.0886, 0.0022, 3.1907, 0.8326, 0.0002, 1.6954, 11.3859, 12.1094, 0.101, 0.0063, 0.1757, 0.22, 0.0628, 0.1958, 0.2161, 0.1414, 0.0849, 0.0547, 2.6605, 0.0003, 0.1834, 0.2459, 16.0353, 0.0064, 18.4548, 5.6102, 18.402, 19.3896, 0.0024, 0.0649, 0.1093, 7.8266, 0.0004, 1.842, 0.0387, 0.0548, 21.43, 0.0105, 0.0468, 0.0065, 1.1607, 1.2339, 0.0025, 0.0005, 0.3453, 0.178, 0.2926, 0.2486, 0.3392, 0.7279, 1.2752, 0.1477, 0.0086, 0.0026, 1.6457, 0.0268, 5.8407, 5.763, 5.9415, 5.6074, 5.4854, 6.2249, 6.3619, 6.6853, 0.9918, 0.0208, 0.0954, 6.3576, 0.0067, 8.1577, 0.5833, 0.0007, 10.4608, 11.766, 0.0209, 12.1307, 0.0068, 12.6444, 0.1136, 0.0532, 0.0048, 1.7786, 14.72, 0.8838, 0.0008, 15.2337, 2.2054, 2.7512, 3.7069, 3.1277, 4.2968, 5.1733, 5.5958, 5.0181, 0.0372, 0.0775, 0.0029, 0.0533, 7.5849, 7.065, 1.1401, 1.0181, 0.6096, 2.7666, 2.4678, 0.0352, 3.166, 0.001, 0.4726, 0.5794, 0.4867, 0.4143, 0.8697, 0.6256, 0.8703, 0.0938, 0.7264, 0.7144, 0.0091, 0.0535, 3.8933, 0.0051, 0.0031, 4.8811, 0.3628, 0.0011, 0.0132, 0.0253, 4.9573, 5.7255, 6.9618, 0.0656, 0.8706, 0.0092, 0.0576, 7.8672, 0.0213, 1.4682, 1.206, 0.0193, 8.2422, 2.7762, 2.2608, 9.1067, 3.6572, 0.0415, 3.8295, 10.5945, 3.331, 1.1771, 12.6003, 0.0073, 0.1282, 0.1927, 0.0053, 0.1445, 14.5012, 0.0013, 2.0202, 2.8663, 1.7134, 3.325, 0.127, 0.627, 0.0114, 4.7077, 1.8419, 5.7841, 18.8783, 5.5063, 1.2466, 0.0397, 0.1102, 19.0213, 0.0014, 0.076, 1.2109, 1.1469, 0.0256, 2.5005, 2.438, 2.1576, 22.108, 3.0159, 0.0337, 0.0559, 0.1028, 0.0075, 0.3284, 0.9915, 1.5052, 0.0156, 1.2903, 0.1205, 0.1526, 0.3586, 0.3825, 0.3323, 0.1366, 0.3181, 3.9581, 3.3468, 4.1822, 0.0016, 1.0313, 5.4613, 5.9292, 5.9945, 6.5266, 0.0339, 0.0924, 6.615, 7.2278, 1.9339, 2.8622, 0.0037, 0.0585, 0.1916, 10.2306, 0.3913, 1.652, 1.2785, 11.6518, 0.0199, 0.1369, 0.1833, 0.0058, 0.1006, 0.0884, 1.8868, 1.6124, 0.026, 0.028, 1.088, 2.6079, 2.6963, 0.0159, 14.3359, 15.0362, 3.0728, 0.6537, 0.0099, 1.329, 5.024, 0.0039, 6.1657, 0.1007, 0.0242, 0.0019, 0.5745, 7.0484, 1.2605, 2.0974, 2.0653, 0.0544, 0.0423, 3.7513, 0.0342, 0.006, 0.0221, 0.0282}\n"
     ]
    }
   ],
   "source": [
    "print(set(data['precipitation_data']))"
   ]
  },
  {
   "cell_type": "code",
   "execution_count": 46,
   "id": "52d5a324",
   "metadata": {
    "execution": {
     "iopub.execute_input": "2023-05-10T00:38:40.941802Z",
     "iopub.status.busy": "2023-05-10T00:38:40.941640Z",
     "iopub.status.idle": "2023-05-10T00:38:40.944681Z",
     "shell.execute_reply": "2023-05-10T00:38:40.944247Z"
    }
   },
   "outputs": [
    {
     "name": "stdout",
     "output_type": "stream",
     "text": [
      "[0.0, 0.25, 1.7885, 0.8082, 4.3098, 5.0154, 6.9792, 5.8216, 8.4312, 9.7817, 9.0816, 11.2781, 6.0997, 13.8181, 14.0146, 10.0355, 16.9357, 8.2947, 10.1227, 16.3794, 13.8729, 21.4874, 3.6143, 3.4223, 24.6999, 0.0001, 18.1149, 27.5686, 28.7723, 20.9584, 4.0503, 31.0766, 5.5595, 0.2883, 0.0788, 3.2408, 36.755, 28.8922, 1.6252, 0.0163, 2.7181, 2.0886, 0.0022, 3.1907, 0.8326, 0.0002, 1.6954, 11.3859, 12.1094, 0.101, 0.0063, 0.1757, 0.22, 0.0628, 0.1958, 0.2161, 0.1414, 0.0849, 0.0547, 2.6605, 0.0003, 0.1834, 0.2459, 16.0353, 0.0064, 18.4548, 5.6102, 18.402, 19.3896, 0.0024, 0.0649, 0.1093, 7.8266, 0.0004, 1.842, 0.0387, 0.0548, 21.43, 0.0105, 0.0468, 0.0065, 1.1607, 1.2339, 0.0025, 0.0005, 0.3453, 0.178, 0.2926, 0.2486, 0.3392, 0.7279, 1.2752, 0.1477, 0.0086, 0.0026, 1.6457, 0.0268, 5.8407, 5.763, 5.9415, 5.6074, 5.4854, 6.2249, 6.3619, 6.6853, 0.9918, 0.0208, 0.0954, 6.3576, 0.0067, 8.1577, 0.5833, 0.0007, 10.4608, 11.766, 0.0209, 12.1307, 0.0068, 12.6444, 0.1136, 0.0532, 0.0048, 1.7786, 14.72, 0.8838, 0.0008, 15.2337, 2.2054, 2.7512, 3.7069, 3.1277, 4.2968, 5.1733, 5.5958, 5.0181, 0.0372, 0.0775, 0.0029, 0.0533, 7.5849, 7.065, 1.1401, 1.0181, 0.6096, 2.7666, 2.4678, 0.0352, 3.166, 0.001, 0.4726, 0.5794, 0.4867, 0.4143, 0.8697, 0.6256, 0.8703, 0.0938, 0.7264, 0.7144, 0.0091, 0.0535, 3.8933, 0.0051, 0.0031, 4.8811, 0.3628, 0.0011, 0.0132, 0.0253, 4.9573, 5.7255, 6.9618, 0.0656, 0.8706, 0.0092, 0.0576, 7.8672, 0.0213, 1.4682, 1.206, 0.0193, 8.2422, 2.7762, 2.2608, 9.1067, 3.6572, 0.0415, 3.8295, 10.5945, 3.331, 1.1771, 12.6003, 0.0073, 0.1282, 0.1927, 0.0053, 0.1445, 14.5012, 0.0013, 2.0202, 2.8663, 1.7134, 3.325, 0.127, 0.627, 0.0114, 4.7077, 1.8419, 5.7841, 18.8783, 5.5063, 1.2466, 0.0397, 0.1102, 19.0213, 0.0014, 0.076, 1.2109, 1.1469, 0.0256, 2.5005, 2.438, 2.1576, 22.108, 3.0159, 0.0337, 0.0559, 0.1028, 0.0075, 0.3284, 0.9915, 1.5052, 0.0156, 1.2903, 0.1205, 0.1526, 0.3586, 0.3825, 0.3323, 0.1366, 0.3181, 3.9581, 3.3468, 4.1822, 0.0016, 1.0313, 5.4613, 5.9292, 5.9945, 6.5266, 0.0339, 0.0924, 6.615, 7.2278, 1.9339, 2.8622, 0.0037, 0.0585, 0.1916, 10.2306, 0.3913, 1.652, 1.2785, 11.6518, 0.0199, 0.1369, 0.1833, 0.0058, 0.1006, 0.0884, 1.8868, 1.6124, 0.026, 0.028, 1.088, 2.6079, 2.6963, 0.0159, 14.3359, 15.0362, 3.0728, 0.6537, 0.0099, 1.329, 5.024, 0.0039, 6.1657, 0.1007, 0.0242, 0.0019, 0.5745, 7.0484, 1.2605, 2.0974, 2.0653, 0.0544, 0.0423, 3.7513, 0.0342, 0.006, 0.0221, 0.0282]\n"
     ]
    }
   ],
   "source": [
    "print(list(set(data['precipitation_data'])))"
   ]
  },
  {
   "cell_type": "code",
   "execution_count": 47,
   "id": "c7db0662",
   "metadata": {
    "execution": {
     "iopub.execute_input": "2023-05-10T00:38:40.947921Z",
     "iopub.status.busy": "2023-05-10T00:38:40.947684Z",
     "iopub.status.idle": "2023-05-10T00:38:40.950622Z",
     "shell.execute_reply": "2023-05-10T00:38:40.950188Z"
    }
   },
   "outputs": [
    {
     "name": "stdout",
     "output_type": "stream",
     "text": [
      "{0.0, 0.25, 1.7885, 0.8082, 4.3098, 5.0154, 6.9792, 5.8216, 8.4312, 9.7817, 9.0816, 11.2781, 6.0997, 13.8181, 14.0146, 10.0355, 16.9357, 8.2947, 10.1227, 16.3794, 13.8729, 21.4874, 3.6143, 3.4223, 24.6999, 0.0001, 18.1149, 27.5686, 28.7723, 20.9584, 4.0503, 31.0766, 5.5595, 0.2883, 0.0788, 3.2408, 36.755, 28.8922, 1.6252, 0.0163, 2.7181, 2.0886, 0.0022, 3.1907, 0.8326, 0.0002, 1.6954, 11.3859, 12.1094, 0.101, 0.0063, 0.1757, 0.22, 0.0628, 0.1958, 0.2161, 0.1414, 0.0849, 0.0547, 2.6605, 0.0003, 0.1834, 0.2459, 16.0353, 0.0064, 18.4548, 5.6102, 18.402, 19.3896, 0.0024, 0.0649, 0.1093, 7.8266, 0.0004, 1.842, 0.0387, 0.0548, 21.43, 0.0105, 0.0468, 0.0065, 1.1607, 1.2339, 0.0025, 0.0005, 0.3453, 0.178, 0.2926, 0.2486, 0.3392, 0.7279, 1.2752, 0.1477, 0.0086, 0.0026, 1.6457, 0.0268, 5.8407, 5.763, 5.9415, 5.6074, 5.4854, 6.2249, 6.3619, 6.6853, 0.9918, 0.0208, 0.0954, 6.3576, 0.0067, 8.1577, 0.5833, 0.0007, 10.4608, 11.766, 0.0209, 12.1307, 0.0068, 12.6444, 0.1136, 0.0532, 0.0048, 1.7786, 14.72, 0.8838, 0.0008, 15.2337, 2.2054, 2.7512, 3.7069, 3.1277, 4.2968, 5.1733, 5.5958, 5.0181, 0.0372, 0.0775, 0.0029, 0.0533, 7.5849, 7.065, 1.1401, 1.0181, 0.6096, 2.7666, 2.4678, 0.0352, 3.166, 0.001, 0.4726, 0.5794, 0.4867, 0.4143, 0.8697, 0.6256, 0.8703, 0.0938, 0.7264, 0.7144, 0.0091, 0.0535, 3.8933, 0.0051, 0.0031, 4.8811, 0.3628, 0.0011, 0.0132, 0.0253, 4.9573, 5.7255, 6.9618, 0.0656, 0.8706, 0.0092, 0.0576, 7.8672, 0.0213, 1.4682, 1.206, 0.0193, 8.2422, 2.7762, 2.2608, 9.1067, 3.6572, 0.0415, 3.8295, 10.5945, 3.331, 1.1771, 12.6003, 0.0073, 0.1282, 0.1927, 0.0053, 0.1445, 14.5012, 0.0013, 2.0202, 2.8663, 1.7134, 3.325, 0.127, 0.627, 0.0114, 4.7077, 1.8419, 5.7841, 18.8783, 5.5063, 1.2466, 0.0397, 0.1102, 19.0213, 0.0014, 0.076, 1.2109, 1.1469, 0.0256, 2.5005, 2.438, 2.1576, 22.108, 3.0159, 0.0337, 0.0559, 0.1028, 0.0075, 0.3284, 0.9915, 1.5052, 0.0156, 1.2903, 0.1205, 0.1526, 0.3586, 0.3825, 0.3323, 0.1366, 0.3181, 3.9581, 3.3468, 4.1822, 0.0016, 1.0313, 5.4613, 5.9292, 5.9945, 6.5266, 0.0339, 0.0924, 6.615, 7.2278, 1.9339, 2.8622, 0.0037, 0.0585, 0.1916, 10.2306, 0.3913, 1.652, 1.2785, 11.6518, 0.0199, 0.1369, 0.1833, 0.0058, 0.1006, 0.0884, 1.8868, 1.6124, 0.026, 0.028, 1.088, 2.6079, 2.6963, 0.0159, 14.3359, 15.0362, 3.0728, 0.6537, 0.0099, 1.329, 5.024, 0.0039, 6.1657, 0.1007, 0.0242, 0.0019, 0.5745, 7.0484, 1.2605, 2.0974, 2.0653, 0.0544, 0.0423, 3.7513, 0.0342, 0.006, 0.0221, 0.0282}\n"
     ]
    }
   ],
   "source": [
    "print(set(data['precipitation_data']))"
   ]
  },
  {
   "cell_type": "code",
   "execution_count": 48,
   "id": "790e5d43",
   "metadata": {
    "execution": {
     "iopub.execute_input": "2023-05-10T00:38:40.953612Z",
     "iopub.status.busy": "2023-05-10T00:38:40.953410Z",
     "iopub.status.idle": "2023-05-10T00:38:40.955704Z",
     "shell.execute_reply": "2023-05-10T00:38:40.955281Z"
    }
   },
   "outputs": [],
   "source": [
    "query = \"\"\"\n",
    "select * from `ironhacks-data.ironhacks_training.weather_data`\n",
    "\"\"\""
   ]
  },
  {
   "cell_type": "code",
   "execution_count": 49,
   "id": "17c3cf32",
   "metadata": {
    "execution": {
     "iopub.execute_input": "2023-05-10T00:38:40.957757Z",
     "iopub.status.busy": "2023-05-10T00:38:40.957601Z",
     "iopub.status.idle": "2023-05-10T00:38:42.548297Z",
     "shell.execute_reply": "2023-05-10T00:38:42.547670Z"
    }
   },
   "outputs": [
    {
     "data": {
      "text/html": [
       "<div>\n",
       "<style scoped>\n",
       "    .dataframe tbody tr th:only-of-type {\n",
       "        vertical-align: middle;\n",
       "    }\n",
       "\n",
       "    .dataframe tbody tr th {\n",
       "        vertical-align: top;\n",
       "    }\n",
       "\n",
       "    .dataframe thead th {\n",
       "        text-align: right;\n",
       "    }\n",
       "</style>\n",
       "<table border=\"1\" class=\"dataframe\">\n",
       "  <thead>\n",
       "    <tr style=\"text-align: right;\">\n",
       "      <th></th>\n",
       "      <th>date</th>\n",
       "      <th>max_rel_humidity</th>\n",
       "      <th>max_temperature</th>\n",
       "      <th>mean_temperature</th>\n",
       "      <th>min_rel_humidity</th>\n",
       "      <th>min_temperature</th>\n",
       "      <th>potential_water_deficit</th>\n",
       "      <th>precipitation_data</th>\n",
       "      <th>wind_speed</th>\n",
       "    </tr>\n",
       "  </thead>\n",
       "  <tbody>\n",
       "    <tr>\n",
       "      <th>0</th>\n",
       "      <td>2019-09-04</td>\n",
       "      <td>99.9498</td>\n",
       "      <td>25.4570</td>\n",
       "      <td>18.6242</td>\n",
       "      <td>56.4720</td>\n",
       "      <td>11.7913</td>\n",
       "      <td>-3.6142</td>\n",
       "      <td>0.0000</td>\n",
       "      <td>3.6461</td>\n",
       "    </tr>\n",
       "    <tr>\n",
       "      <th>1</th>\n",
       "      <td>2020-02-16</td>\n",
       "      <td>84.4966</td>\n",
       "      <td>8.6228</td>\n",
       "      <td>3.1896</td>\n",
       "      <td>40.7666</td>\n",
       "      <td>-2.2436</td>\n",
       "      <td>-1.4307</td>\n",
       "      <td>0.0000</td>\n",
       "      <td>2.2398</td>\n",
       "    </tr>\n",
       "    <tr>\n",
       "      <th>2</th>\n",
       "      <td>2019-12-19</td>\n",
       "      <td>95.9017</td>\n",
       "      <td>2.8886</td>\n",
       "      <td>-3.4884</td>\n",
       "      <td>39.0330</td>\n",
       "      <td>-9.8654</td>\n",
       "      <td>-0.9389</td>\n",
       "      <td>0.0000</td>\n",
       "      <td>4.1230</td>\n",
       "    </tr>\n",
       "    <tr>\n",
       "      <th>3</th>\n",
       "      <td>2020-02-20</td>\n",
       "      <td>70.0359</td>\n",
       "      <td>0.7939</td>\n",
       "      <td>-4.0254</td>\n",
       "      <td>34.7544</td>\n",
       "      <td>-8.8446</td>\n",
       "      <td>-1.4427</td>\n",
       "      <td>0.0000</td>\n",
       "      <td>4.8531</td>\n",
       "    </tr>\n",
       "    <tr>\n",
       "      <th>4</th>\n",
       "      <td>2019-12-23</td>\n",
       "      <td>97.1634</td>\n",
       "      <td>13.8411</td>\n",
       "      <td>5.7818</td>\n",
       "      <td>31.2553</td>\n",
       "      <td>-2.2774</td>\n",
       "      <td>-1.2787</td>\n",
       "      <td>0.0000</td>\n",
       "      <td>2.3404</td>\n",
       "    </tr>\n",
       "    <tr>\n",
       "      <th>...</th>\n",
       "      <td>...</td>\n",
       "      <td>...</td>\n",
       "      <td>...</td>\n",
       "      <td>...</td>\n",
       "      <td>...</td>\n",
       "      <td>...</td>\n",
       "      <td>...</td>\n",
       "      <td>...</td>\n",
       "      <td>...</td>\n",
       "    </tr>\n",
       "    <tr>\n",
       "      <th>360</th>\n",
       "      <td>2020-04-30</td>\n",
       "      <td>96.2771</td>\n",
       "      <td>10.2888</td>\n",
       "      <td>7.1714</td>\n",
       "      <td>69.4000</td>\n",
       "      <td>4.0540</td>\n",
       "      <td>-0.8344</td>\n",
       "      <td>0.6096</td>\n",
       "      <td>6.1917</td>\n",
       "    </tr>\n",
       "    <tr>\n",
       "      <th>361</th>\n",
       "      <td>2020-01-19</td>\n",
       "      <td>52.0808</td>\n",
       "      <td>3.7231</td>\n",
       "      <td>-1.8390</td>\n",
       "      <td>23.0505</td>\n",
       "      <td>-7.4012</td>\n",
       "      <td>-2.0879</td>\n",
       "      <td>0.1006</td>\n",
       "      <td>7.3570</td>\n",
       "    </tr>\n",
       "    <tr>\n",
       "      <th>362</th>\n",
       "      <td>2020-05-09</td>\n",
       "      <td>65.8581</td>\n",
       "      <td>13.9009</td>\n",
       "      <td>7.3270</td>\n",
       "      <td>26.1280</td>\n",
       "      <td>0.7531</td>\n",
       "      <td>-3.9989</td>\n",
       "      <td>0.0221</td>\n",
       "      <td>3.9315</td>\n",
       "    </tr>\n",
       "    <tr>\n",
       "      <th>363</th>\n",
       "      <td>2020-06-25</td>\n",
       "      <td>75.0191</td>\n",
       "      <td>28.4810</td>\n",
       "      <td>22.4637</td>\n",
       "      <td>35.8970</td>\n",
       "      <td>16.4465</td>\n",
       "      <td>-6.2345</td>\n",
       "      <td>0.0884</td>\n",
       "      <td>3.7202</td>\n",
       "    </tr>\n",
       "    <tr>\n",
       "      <th>364</th>\n",
       "      <td>2020-01-28</td>\n",
       "      <td>100.0000</td>\n",
       "      <td>8.6565</td>\n",
       "      <td>0.7474</td>\n",
       "      <td>45.1941</td>\n",
       "      <td>-7.1618</td>\n",
       "      <td>-0.8509</td>\n",
       "      <td>0.0282</td>\n",
       "      <td>1.9813</td>\n",
       "    </tr>\n",
       "  </tbody>\n",
       "</table>\n",
       "<p>365 rows × 9 columns</p>\n",
       "</div>"
      ],
      "text/plain": [
       "          date  max_rel_humidity  max_temperature  mean_temperature  \\\n",
       "0   2019-09-04           99.9498          25.4570           18.6242   \n",
       "1   2020-02-16           84.4966           8.6228            3.1896   \n",
       "2   2019-12-19           95.9017           2.8886           -3.4884   \n",
       "3   2020-02-20           70.0359           0.7939           -4.0254   \n",
       "4   2019-12-23           97.1634          13.8411            5.7818   \n",
       "..         ...               ...              ...               ...   \n",
       "360 2020-04-30           96.2771          10.2888            7.1714   \n",
       "361 2020-01-19           52.0808           3.7231           -1.8390   \n",
       "362 2020-05-09           65.8581          13.9009            7.3270   \n",
       "363 2020-06-25           75.0191          28.4810           22.4637   \n",
       "364 2020-01-28          100.0000           8.6565            0.7474   \n",
       "\n",
       "     min_rel_humidity  min_temperature  potential_water_deficit  \\\n",
       "0             56.4720          11.7913                  -3.6142   \n",
       "1             40.7666          -2.2436                  -1.4307   \n",
       "2             39.0330          -9.8654                  -0.9389   \n",
       "3             34.7544          -8.8446                  -1.4427   \n",
       "4             31.2553          -2.2774                  -1.2787   \n",
       "..                ...              ...                      ...   \n",
       "360           69.4000           4.0540                  -0.8344   \n",
       "361           23.0505          -7.4012                  -2.0879   \n",
       "362           26.1280           0.7531                  -3.9989   \n",
       "363           35.8970          16.4465                  -6.2345   \n",
       "364           45.1941          -7.1618                  -0.8509   \n",
       "\n",
       "     precipitation_data  wind_speed  \n",
       "0                0.0000      3.6461  \n",
       "1                0.0000      2.2398  \n",
       "2                0.0000      4.1230  \n",
       "3                0.0000      4.8531  \n",
       "4                0.0000      2.3404  \n",
       "..                  ...         ...  \n",
       "360              0.6096      6.1917  \n",
       "361              0.1006      7.3570  \n",
       "362              0.0221      3.9315  \n",
       "363              0.0884      3.7202  \n",
       "364              0.0282      1.9813  \n",
       "\n",
       "[365 rows x 9 columns]"
      ]
     },
     "execution_count": 49,
     "metadata": {},
     "output_type": "execute_result"
    }
   ],
   "source": [
    "query_job = bigquery_client.query(query)\n",
    "data = query_job.to_dataframe()\n",
    "data['date']=pd.to_datetime(data['date'])\n",
    "data"
   ]
  },
  {
   "cell_type": "code",
   "execution_count": 50,
   "id": "a727c314",
   "metadata": {
    "execution": {
     "iopub.execute_input": "2023-05-10T00:38:42.551923Z",
     "iopub.status.busy": "2023-05-10T00:38:42.551617Z",
     "iopub.status.idle": "2023-05-10T00:38:42.555087Z",
     "shell.execute_reply": "2023-05-10T00:38:42.554394Z"
    }
   },
   "outputs": [],
   "source": [
    "query = \"\"\"\n",
    "select * from `ironhacks-data.ironhacks_training.weather_data`\n",
    "\"\"\""
   ]
  },
  {
   "cell_type": "code",
   "execution_count": 51,
   "id": "3f157a80",
   "metadata": {
    "execution": {
     "iopub.execute_input": "2023-05-10T00:38:42.558020Z",
     "iopub.status.busy": "2023-05-10T00:38:42.557767Z",
     "iopub.status.idle": "2023-05-10T00:38:44.401879Z",
     "shell.execute_reply": "2023-05-10T00:38:44.401609Z"
    }
   },
   "outputs": [
    {
     "ename": "InvalidIndexError",
     "evalue": "(slice(None, None, None), slice(None, None, None))",
     "output_type": "error",
     "traceback": [
      "\u001b[0;31m---------------------------------------------------------------------------\u001b[0m",
      "\u001b[0;31mTypeError\u001b[0m                                 Traceback (most recent call last)",
      "File \u001b[0;32m/opt/homebrew/lib/python3.9/site-packages/pandas/core/indexes/base.py:3803\u001b[0m, in \u001b[0;36mIndex.get_loc\u001b[0;34m(self, key, method, tolerance)\u001b[0m\n\u001b[1;32m   3802\u001b[0m \u001b[38;5;28;01mtry\u001b[39;00m:\n\u001b[0;32m-> 3803\u001b[0m     \u001b[38;5;28;01mreturn\u001b[39;00m \u001b[38;5;28;43mself\u001b[39;49m\u001b[38;5;241;43m.\u001b[39;49m\u001b[43m_engine\u001b[49m\u001b[38;5;241;43m.\u001b[39;49m\u001b[43mget_loc\u001b[49m\u001b[43m(\u001b[49m\u001b[43mcasted_key\u001b[49m\u001b[43m)\u001b[49m\n\u001b[1;32m   3804\u001b[0m \u001b[38;5;28;01mexcept\u001b[39;00m \u001b[38;5;167;01mKeyError\u001b[39;00m \u001b[38;5;28;01mas\u001b[39;00m err:\n",
      "File \u001b[0;32m/opt/homebrew/lib/python3.9/site-packages/pandas/_libs/index.pyx:138\u001b[0m, in \u001b[0;36mpandas._libs.index.IndexEngine.get_loc\u001b[0;34m()\u001b[0m\n",
      "File \u001b[0;32m/opt/homebrew/lib/python3.9/site-packages/pandas/_libs/index.pyx:144\u001b[0m, in \u001b[0;36mpandas._libs.index.IndexEngine.get_loc\u001b[0;34m()\u001b[0m\n",
      "\u001b[0;31mTypeError\u001b[0m: '(slice(None, None, None), slice(None, None, None))' is an invalid key",
      "\nDuring handling of the above exception, another exception occurred:\n",
      "\u001b[0;31mInvalidIndexError\u001b[0m                         Traceback (most recent call last)",
      "Cell \u001b[0;32mIn [51], line 4\u001b[0m\n\u001b[1;32m      2\u001b[0m data \u001b[38;5;241m=\u001b[39m query_job\u001b[38;5;241m.\u001b[39mto_dataframe()\n\u001b[1;32m      3\u001b[0m data[\u001b[38;5;124m'\u001b[39m\u001b[38;5;124mdate\u001b[39m\u001b[38;5;124m'\u001b[39m]\u001b[38;5;241m=\u001b[39mpd\u001b[38;5;241m.\u001b[39mto_datetime(data[\u001b[38;5;124m'\u001b[39m\u001b[38;5;124mdate\u001b[39m\u001b[38;5;124m'\u001b[39m])\n\u001b[0;32m----> 4\u001b[0m \u001b[43mdata\u001b[49m\u001b[43m[\u001b[49m\u001b[43m:\u001b[49m\u001b[43m,\u001b[49m\u001b[43m:\u001b[49m\u001b[43m]\u001b[49m\n",
      "File \u001b[0;32m/opt/homebrew/lib/python3.9/site-packages/pandas/core/frame.py:3804\u001b[0m, in \u001b[0;36mDataFrame.__getitem__\u001b[0;34m(self, key)\u001b[0m\n\u001b[1;32m   3802\u001b[0m \u001b[38;5;28;01mif\u001b[39;00m \u001b[38;5;28mself\u001b[39m\u001b[38;5;241m.\u001b[39mcolumns\u001b[38;5;241m.\u001b[39mnlevels \u001b[38;5;241m>\u001b[39m \u001b[38;5;241m1\u001b[39m:\n\u001b[1;32m   3803\u001b[0m     \u001b[38;5;28;01mreturn\u001b[39;00m \u001b[38;5;28mself\u001b[39m\u001b[38;5;241m.\u001b[39m_getitem_multilevel(key)\n\u001b[0;32m-> 3804\u001b[0m indexer \u001b[38;5;241m=\u001b[39m \u001b[38;5;28;43mself\u001b[39;49m\u001b[38;5;241;43m.\u001b[39;49m\u001b[43mcolumns\u001b[49m\u001b[38;5;241;43m.\u001b[39;49m\u001b[43mget_loc\u001b[49m\u001b[43m(\u001b[49m\u001b[43mkey\u001b[49m\u001b[43m)\u001b[49m\n\u001b[1;32m   3805\u001b[0m \u001b[38;5;28;01mif\u001b[39;00m is_integer(indexer):\n\u001b[1;32m   3806\u001b[0m     indexer \u001b[38;5;241m=\u001b[39m [indexer]\n",
      "File \u001b[0;32m/opt/homebrew/lib/python3.9/site-packages/pandas/core/indexes/base.py:3810\u001b[0m, in \u001b[0;36mIndex.get_loc\u001b[0;34m(self, key, method, tolerance)\u001b[0m\n\u001b[1;32m   3805\u001b[0m         \u001b[38;5;28;01mraise\u001b[39;00m \u001b[38;5;167;01mKeyError\u001b[39;00m(key) \u001b[38;5;28;01mfrom\u001b[39;00m \u001b[38;5;21;01merr\u001b[39;00m\n\u001b[1;32m   3806\u001b[0m     \u001b[38;5;28;01mexcept\u001b[39;00m \u001b[38;5;167;01mTypeError\u001b[39;00m:\n\u001b[1;32m   3807\u001b[0m         \u001b[38;5;66;03m# If we have a listlike key, _check_indexing_error will raise\u001b[39;00m\n\u001b[1;32m   3808\u001b[0m         \u001b[38;5;66;03m#  InvalidIndexError. Otherwise we fall through and re-raise\u001b[39;00m\n\u001b[1;32m   3809\u001b[0m         \u001b[38;5;66;03m#  the TypeError.\u001b[39;00m\n\u001b[0;32m-> 3810\u001b[0m         \u001b[38;5;28;43mself\u001b[39;49m\u001b[38;5;241;43m.\u001b[39;49m\u001b[43m_check_indexing_error\u001b[49m\u001b[43m(\u001b[49m\u001b[43mkey\u001b[49m\u001b[43m)\u001b[49m\n\u001b[1;32m   3811\u001b[0m         \u001b[38;5;28;01mraise\u001b[39;00m\n\u001b[1;32m   3813\u001b[0m \u001b[38;5;66;03m# GH#42269\u001b[39;00m\n",
      "File \u001b[0;32m/opt/homebrew/lib/python3.9/site-packages/pandas/core/indexes/base.py:5966\u001b[0m, in \u001b[0;36mIndex._check_indexing_error\u001b[0;34m(self, key)\u001b[0m\n\u001b[1;32m   5962\u001b[0m \u001b[38;5;28;01mdef\u001b[39;00m \u001b[38;5;21m_check_indexing_error\u001b[39m(\u001b[38;5;28mself\u001b[39m, key):\n\u001b[1;32m   5963\u001b[0m     \u001b[38;5;28;01mif\u001b[39;00m \u001b[38;5;129;01mnot\u001b[39;00m is_scalar(key):\n\u001b[1;32m   5964\u001b[0m         \u001b[38;5;66;03m# if key is not a scalar, directly raise an error (the code below\u001b[39;00m\n\u001b[1;32m   5965\u001b[0m         \u001b[38;5;66;03m# would convert to numpy arrays and raise later any way) - GH29926\u001b[39;00m\n\u001b[0;32m-> 5966\u001b[0m         \u001b[38;5;28;01mraise\u001b[39;00m InvalidIndexError(key)\n",
      "\u001b[0;31mInvalidIndexError\u001b[0m: (slice(None, None, None), slice(None, None, None))"
     ]
    }
   ],
   "source": [
    "query_job = bigquery_client.query(query)\n",
    "data = query_job.to_dataframe()\n",
    "data['date']=pd.to_datetime(data['date'])\n",
    "data[:,:]"
   ]
  },
  {
   "cell_type": "code",
   "execution_count": 52,
   "id": "5b58a6e6",
   "metadata": {
    "execution": {
     "iopub.execute_input": "2023-05-10T00:38:44.403401Z",
     "iopub.status.busy": "2023-05-10T00:38:44.403287Z",
     "iopub.status.idle": "2023-05-10T00:38:44.404838Z",
     "shell.execute_reply": "2023-05-10T00:38:44.404621Z"
    }
   },
   "outputs": [],
   "source": [
    "query = \"\"\"\n",
    "select * from `ironhacks-data.ironhacks_training.weather_data`\n",
    "\"\"\""
   ]
  },
  {
   "cell_type": "code",
   "execution_count": 53,
   "id": "f90e1059",
   "metadata": {
    "execution": {
     "iopub.execute_input": "2023-05-10T00:38:44.406164Z",
     "iopub.status.busy": "2023-05-10T00:38:44.406075Z",
     "iopub.status.idle": "2023-05-10T00:38:45.921115Z",
     "shell.execute_reply": "2023-05-10T00:38:45.920439Z"
    }
   },
   "outputs": [
    {
     "data": {
      "text/html": [
       "<div>\n",
       "<style scoped>\n",
       "    .dataframe tbody tr th:only-of-type {\n",
       "        vertical-align: middle;\n",
       "    }\n",
       "\n",
       "    .dataframe tbody tr th {\n",
       "        vertical-align: top;\n",
       "    }\n",
       "\n",
       "    .dataframe thead th {\n",
       "        text-align: right;\n",
       "    }\n",
       "</style>\n",
       "<table border=\"1\" class=\"dataframe\">\n",
       "  <thead>\n",
       "    <tr style=\"text-align: right;\">\n",
       "      <th></th>\n",
       "      <th>date</th>\n",
       "      <th>max_rel_humidity</th>\n",
       "      <th>max_temperature</th>\n",
       "      <th>mean_temperature</th>\n",
       "      <th>min_rel_humidity</th>\n",
       "      <th>min_temperature</th>\n",
       "      <th>potential_water_deficit</th>\n",
       "      <th>precipitation_data</th>\n",
       "      <th>wind_speed</th>\n",
       "    </tr>\n",
       "  </thead>\n",
       "  <tbody>\n",
       "    <tr>\n",
       "      <th>0</th>\n",
       "      <td>2019-09-04</td>\n",
       "      <td>99.9498</td>\n",
       "      <td>25.4570</td>\n",
       "      <td>18.6242</td>\n",
       "      <td>56.4720</td>\n",
       "      <td>11.7913</td>\n",
       "      <td>-3.6142</td>\n",
       "      <td>0.0000</td>\n",
       "      <td>3.6461</td>\n",
       "    </tr>\n",
       "    <tr>\n",
       "      <th>1</th>\n",
       "      <td>2020-02-16</td>\n",
       "      <td>84.4966</td>\n",
       "      <td>8.6228</td>\n",
       "      <td>3.1896</td>\n",
       "      <td>40.7666</td>\n",
       "      <td>-2.2436</td>\n",
       "      <td>-1.4307</td>\n",
       "      <td>0.0000</td>\n",
       "      <td>2.2398</td>\n",
       "    </tr>\n",
       "    <tr>\n",
       "      <th>2</th>\n",
       "      <td>2019-12-19</td>\n",
       "      <td>95.9017</td>\n",
       "      <td>2.8886</td>\n",
       "      <td>-3.4884</td>\n",
       "      <td>39.0330</td>\n",
       "      <td>-9.8654</td>\n",
       "      <td>-0.9389</td>\n",
       "      <td>0.0000</td>\n",
       "      <td>4.1230</td>\n",
       "    </tr>\n",
       "    <tr>\n",
       "      <th>3</th>\n",
       "      <td>2020-02-20</td>\n",
       "      <td>70.0359</td>\n",
       "      <td>0.7939</td>\n",
       "      <td>-4.0254</td>\n",
       "      <td>34.7544</td>\n",
       "      <td>-8.8446</td>\n",
       "      <td>-1.4427</td>\n",
       "      <td>0.0000</td>\n",
       "      <td>4.8531</td>\n",
       "    </tr>\n",
       "    <tr>\n",
       "      <th>4</th>\n",
       "      <td>2019-12-23</td>\n",
       "      <td>97.1634</td>\n",
       "      <td>13.8411</td>\n",
       "      <td>5.7818</td>\n",
       "      <td>31.2553</td>\n",
       "      <td>-2.2774</td>\n",
       "      <td>-1.2787</td>\n",
       "      <td>0.0000</td>\n",
       "      <td>2.3404</td>\n",
       "    </tr>\n",
       "    <tr>\n",
       "      <th>...</th>\n",
       "      <td>...</td>\n",
       "      <td>...</td>\n",
       "      <td>...</td>\n",
       "      <td>...</td>\n",
       "      <td>...</td>\n",
       "      <td>...</td>\n",
       "      <td>...</td>\n",
       "      <td>...</td>\n",
       "      <td>...</td>\n",
       "    </tr>\n",
       "    <tr>\n",
       "      <th>360</th>\n",
       "      <td>2020-04-30</td>\n",
       "      <td>96.2771</td>\n",
       "      <td>10.2888</td>\n",
       "      <td>7.1714</td>\n",
       "      <td>69.4000</td>\n",
       "      <td>4.0540</td>\n",
       "      <td>-0.8344</td>\n",
       "      <td>0.6096</td>\n",
       "      <td>6.1917</td>\n",
       "    </tr>\n",
       "    <tr>\n",
       "      <th>361</th>\n",
       "      <td>2020-01-19</td>\n",
       "      <td>52.0808</td>\n",
       "      <td>3.7231</td>\n",
       "      <td>-1.8390</td>\n",
       "      <td>23.0505</td>\n",
       "      <td>-7.4012</td>\n",
       "      <td>-2.0879</td>\n",
       "      <td>0.1006</td>\n",
       "      <td>7.3570</td>\n",
       "    </tr>\n",
       "    <tr>\n",
       "      <th>362</th>\n",
       "      <td>2020-05-09</td>\n",
       "      <td>65.8581</td>\n",
       "      <td>13.9009</td>\n",
       "      <td>7.3270</td>\n",
       "      <td>26.1280</td>\n",
       "      <td>0.7531</td>\n",
       "      <td>-3.9989</td>\n",
       "      <td>0.0221</td>\n",
       "      <td>3.9315</td>\n",
       "    </tr>\n",
       "    <tr>\n",
       "      <th>363</th>\n",
       "      <td>2020-06-25</td>\n",
       "      <td>75.0191</td>\n",
       "      <td>28.4810</td>\n",
       "      <td>22.4637</td>\n",
       "      <td>35.8970</td>\n",
       "      <td>16.4465</td>\n",
       "      <td>-6.2345</td>\n",
       "      <td>0.0884</td>\n",
       "      <td>3.7202</td>\n",
       "    </tr>\n",
       "    <tr>\n",
       "      <th>364</th>\n",
       "      <td>2020-01-28</td>\n",
       "      <td>100.0000</td>\n",
       "      <td>8.6565</td>\n",
       "      <td>0.7474</td>\n",
       "      <td>45.1941</td>\n",
       "      <td>-7.1618</td>\n",
       "      <td>-0.8509</td>\n",
       "      <td>0.0282</td>\n",
       "      <td>1.9813</td>\n",
       "    </tr>\n",
       "  </tbody>\n",
       "</table>\n",
       "<p>365 rows × 9 columns</p>\n",
       "</div>"
      ],
      "text/plain": [
       "          date  max_rel_humidity  max_temperature  mean_temperature  \\\n",
       "0   2019-09-04           99.9498          25.4570           18.6242   \n",
       "1   2020-02-16           84.4966           8.6228            3.1896   \n",
       "2   2019-12-19           95.9017           2.8886           -3.4884   \n",
       "3   2020-02-20           70.0359           0.7939           -4.0254   \n",
       "4   2019-12-23           97.1634          13.8411            5.7818   \n",
       "..         ...               ...              ...               ...   \n",
       "360 2020-04-30           96.2771          10.2888            7.1714   \n",
       "361 2020-01-19           52.0808           3.7231           -1.8390   \n",
       "362 2020-05-09           65.8581          13.9009            7.3270   \n",
       "363 2020-06-25           75.0191          28.4810           22.4637   \n",
       "364 2020-01-28          100.0000           8.6565            0.7474   \n",
       "\n",
       "     min_rel_humidity  min_temperature  potential_water_deficit  \\\n",
       "0             56.4720          11.7913                  -3.6142   \n",
       "1             40.7666          -2.2436                  -1.4307   \n",
       "2             39.0330          -9.8654                  -0.9389   \n",
       "3             34.7544          -8.8446                  -1.4427   \n",
       "4             31.2553          -2.2774                  -1.2787   \n",
       "..                ...              ...                      ...   \n",
       "360           69.4000           4.0540                  -0.8344   \n",
       "361           23.0505          -7.4012                  -2.0879   \n",
       "362           26.1280           0.7531                  -3.9989   \n",
       "363           35.8970          16.4465                  -6.2345   \n",
       "364           45.1941          -7.1618                  -0.8509   \n",
       "\n",
       "     precipitation_data  wind_speed  \n",
       "0                0.0000      3.6461  \n",
       "1                0.0000      2.2398  \n",
       "2                0.0000      4.1230  \n",
       "3                0.0000      4.8531  \n",
       "4                0.0000      2.3404  \n",
       "..                  ...         ...  \n",
       "360              0.6096      6.1917  \n",
       "361              0.1006      7.3570  \n",
       "362              0.0221      3.9315  \n",
       "363              0.0884      3.7202  \n",
       "364              0.0282      1.9813  \n",
       "\n",
       "[365 rows x 9 columns]"
      ]
     },
     "execution_count": 53,
     "metadata": {},
     "output_type": "execute_result"
    }
   ],
   "source": [
    "query_job = bigquery_client.query(query)\n",
    "data = query_job.to_dataframe()\n",
    "data['date']=pd.to_datetime(data['date'])\n",
    "data"
   ]
  },
  {
   "cell_type": "code",
   "execution_count": 54,
   "id": "33f30672",
   "metadata": {
    "execution": {
     "iopub.execute_input": "2023-05-10T00:38:45.924535Z",
     "iopub.status.busy": "2023-05-10T00:38:45.924231Z",
     "iopub.status.idle": "2023-05-10T00:38:45.927380Z",
     "shell.execute_reply": "2023-05-10T00:38:45.926877Z"
    }
   },
   "outputs": [],
   "source": [
    "query = \"\"\"\n",
    "select * from `ironhacks-data.ironhacks_training.weather_data`\n",
    "\"\"\""
   ]
  },
  {
   "cell_type": "code",
   "execution_count": 55,
   "id": "af76f671",
   "metadata": {
    "execution": {
     "iopub.execute_input": "2023-05-10T00:38:45.930074Z",
     "iopub.status.busy": "2023-05-10T00:38:45.929891Z",
     "iopub.status.idle": "2023-05-10T00:38:47.424500Z",
     "shell.execute_reply": "2023-05-10T00:38:47.423906Z"
    }
   },
   "outputs": [
    {
     "ename": "AttributeError",
     "evalue": "'DataFrame' object has no attribute 'data_type'",
     "output_type": "error",
     "traceback": [
      "\u001b[0;31m---------------------------------------------------------------------------\u001b[0m",
      "\u001b[0;31mAttributeError\u001b[0m                            Traceback (most recent call last)",
      "Cell \u001b[0;32mIn [55], line 4\u001b[0m\n\u001b[1;32m      2\u001b[0m data \u001b[38;5;241m=\u001b[39m query_job\u001b[38;5;241m.\u001b[39mto_dataframe()\n\u001b[1;32m      3\u001b[0m data[\u001b[38;5;124m'\u001b[39m\u001b[38;5;124mdate\u001b[39m\u001b[38;5;124m'\u001b[39m]\u001b[38;5;241m=\u001b[39mpd\u001b[38;5;241m.\u001b[39mto_datetime(data[\u001b[38;5;124m'\u001b[39m\u001b[38;5;124mdate\u001b[39m\u001b[38;5;124m'\u001b[39m])\n\u001b[0;32m----> 4\u001b[0m \u001b[43mdata\u001b[49m\u001b[38;5;241;43m.\u001b[39;49m\u001b[43mdata_type\u001b[49m()\n",
      "File \u001b[0;32m/opt/homebrew/lib/python3.9/site-packages/pandas/core/generic.py:5902\u001b[0m, in \u001b[0;36mNDFrame.__getattr__\u001b[0;34m(self, name)\u001b[0m\n\u001b[1;32m   5895\u001b[0m \u001b[38;5;28;01mif\u001b[39;00m (\n\u001b[1;32m   5896\u001b[0m     name \u001b[38;5;129;01mnot\u001b[39;00m \u001b[38;5;129;01min\u001b[39;00m \u001b[38;5;28mself\u001b[39m\u001b[38;5;241m.\u001b[39m_internal_names_set\n\u001b[1;32m   5897\u001b[0m     \u001b[38;5;129;01mand\u001b[39;00m name \u001b[38;5;129;01mnot\u001b[39;00m \u001b[38;5;129;01min\u001b[39;00m \u001b[38;5;28mself\u001b[39m\u001b[38;5;241m.\u001b[39m_metadata\n\u001b[1;32m   5898\u001b[0m     \u001b[38;5;129;01mand\u001b[39;00m name \u001b[38;5;129;01mnot\u001b[39;00m \u001b[38;5;129;01min\u001b[39;00m \u001b[38;5;28mself\u001b[39m\u001b[38;5;241m.\u001b[39m_accessors\n\u001b[1;32m   5899\u001b[0m     \u001b[38;5;129;01mand\u001b[39;00m \u001b[38;5;28mself\u001b[39m\u001b[38;5;241m.\u001b[39m_info_axis\u001b[38;5;241m.\u001b[39m_can_hold_identifiers_and_holds_name(name)\n\u001b[1;32m   5900\u001b[0m ):\n\u001b[1;32m   5901\u001b[0m     \u001b[38;5;28;01mreturn\u001b[39;00m \u001b[38;5;28mself\u001b[39m[name]\n\u001b[0;32m-> 5902\u001b[0m \u001b[38;5;28;01mreturn\u001b[39;00m \u001b[38;5;28;43mobject\u001b[39;49m\u001b[38;5;241;43m.\u001b[39;49m\u001b[38;5;21;43m__getattribute__\u001b[39;49m\u001b[43m(\u001b[49m\u001b[38;5;28;43mself\u001b[39;49m\u001b[43m,\u001b[49m\u001b[43m \u001b[49m\u001b[43mname\u001b[49m\u001b[43m)\u001b[49m\n",
      "\u001b[0;31mAttributeError\u001b[0m: 'DataFrame' object has no attribute 'data_type'"
     ]
    }
   ],
   "source": [
    "query_job = bigquery_client.query(query)\n",
    "data = query_job.to_dataframe()\n",
    "data['date']=pd.to_datetime(data['date'])\n",
    "data.data_type()"
   ]
  },
  {
   "cell_type": "code",
   "execution_count": 56,
   "id": "ce9f47a2",
   "metadata": {
    "execution": {
     "iopub.execute_input": "2023-05-10T00:38:47.428020Z",
     "iopub.status.busy": "2023-05-10T00:38:47.427448Z",
     "iopub.status.idle": "2023-05-10T00:38:47.430276Z",
     "shell.execute_reply": "2023-05-10T00:38:47.429820Z"
    }
   },
   "outputs": [],
   "source": [
    "query = \"\"\"\n",
    "select * from `ironhacks-data.ironhacks_training.weather_data`\n",
    "\"\"\""
   ]
  },
  {
   "cell_type": "code",
   "execution_count": 57,
   "id": "929b6a4d",
   "metadata": {
    "execution": {
     "iopub.execute_input": "2023-05-10T00:38:47.432649Z",
     "iopub.status.busy": "2023-05-10T00:38:47.432452Z",
     "iopub.status.idle": "2023-05-10T00:38:48.859813Z",
     "shell.execute_reply": "2023-05-10T00:38:48.858849Z"
    }
   },
   "outputs": [
    {
     "data": {
      "text/plain": [
       "pandas.core.frame.DataFrame"
      ]
     },
     "execution_count": 57,
     "metadata": {},
     "output_type": "execute_result"
    }
   ],
   "source": [
    "query_job = bigquery_client.query(query)\n",
    "data = query_job.to_dataframe()\n",
    "data['date']=pd.to_datetime(data['date'])\n",
    "type(data)"
   ]
  },
  {
   "cell_type": "code",
   "execution_count": 58,
   "id": "3bf4c093",
   "metadata": {
    "execution": {
     "iopub.execute_input": "2023-05-10T00:38:48.864324Z",
     "iopub.status.busy": "2023-05-10T00:38:48.863947Z",
     "iopub.status.idle": "2023-05-10T00:38:48.867758Z",
     "shell.execute_reply": "2023-05-10T00:38:48.867023Z"
    }
   },
   "outputs": [],
   "source": [
    "query = \"\"\"\n",
    "select * from `ironhacks-data.ironhacks_training.weather_data`\n",
    "\"\"\""
   ]
  },
  {
   "cell_type": "code",
   "execution_count": 59,
   "id": "bdb296a0",
   "metadata": {
    "execution": {
     "iopub.execute_input": "2023-05-10T00:38:48.872213Z",
     "iopub.status.busy": "2023-05-10T00:38:48.871847Z",
     "iopub.status.idle": "2023-05-10T00:38:50.568100Z",
     "shell.execute_reply": "2023-05-10T00:38:50.567168Z"
    }
   },
   "outputs": [
    {
     "name": "stdout",
     "output_type": "stream",
     "text": [
      "<class 'str'>\n",
      "<class 'str'>\n",
      "<class 'str'>\n",
      "<class 'str'>\n",
      "<class 'str'>\n",
      "<class 'str'>\n",
      "<class 'str'>\n",
      "<class 'str'>\n",
      "<class 'str'>\n"
     ]
    }
   ],
   "source": [
    "query_job = bigquery_client.query(query)\n",
    "data = query_job.to_dataframe()\n",
    "data['date']=pd.to_datetime(data['date'])\n",
    "for i in data:\n",
    "    print(type(i))"
   ]
  },
  {
   "cell_type": "code",
   "execution_count": 60,
   "id": "15dd0631",
   "metadata": {
    "execution": {
     "iopub.execute_input": "2023-05-10T00:38:50.572691Z",
     "iopub.status.busy": "2023-05-10T00:38:50.572285Z",
     "iopub.status.idle": "2023-05-10T00:38:50.576785Z",
     "shell.execute_reply": "2023-05-10T00:38:50.575926Z"
    }
   },
   "outputs": [],
   "source": [
    "query = \"\"\"\n",
    "select * from `ironhacks-data.ironhacks_training.weather_data`\n",
    "\"\"\""
   ]
  },
  {
   "cell_type": "code",
   "execution_count": 61,
   "id": "ee59b340",
   "metadata": {
    "execution": {
     "iopub.execute_input": "2023-05-10T00:38:50.580382Z",
     "iopub.status.busy": "2023-05-10T00:38:50.580093Z",
     "iopub.status.idle": "2023-05-10T00:38:52.463168Z",
     "shell.execute_reply": "2023-05-10T00:38:52.462194Z"
    }
   },
   "outputs": [
    {
     "name": "stdout",
     "output_type": "stream",
     "text": [
      "date\n",
      "max_rel_humidity\n",
      "max_temperature\n",
      "mean_temperature\n",
      "min_rel_humidity\n",
      "min_temperature\n",
      "potential_water_deficit\n",
      "precipitation_data\n",
      "wind_speed\n"
     ]
    }
   ],
   "source": [
    "query_job = bigquery_client.query(query)\n",
    "data = query_job.to_dataframe()\n",
    "data['date']=pd.to_datetime(data['date'])\n",
    "for i in data:\n",
    "    print(i)"
   ]
  },
  {
   "cell_type": "code",
   "execution_count": 62,
   "id": "d919fca5",
   "metadata": {
    "execution": {
     "iopub.execute_input": "2023-05-10T00:38:52.468167Z",
     "iopub.status.busy": "2023-05-10T00:38:52.467776Z",
     "iopub.status.idle": "2023-05-10T00:38:52.471369Z",
     "shell.execute_reply": "2023-05-10T00:38:52.470771Z"
    }
   },
   "outputs": [],
   "source": [
    "query = \"\"\"\n",
    "select * from `ironhacks-data.ironhacks_training.weather_data`\n",
    "\"\"\""
   ]
  },
  {
   "cell_type": "code",
   "execution_count": 63,
   "id": "166a3285",
   "metadata": {
    "execution": {
     "iopub.execute_input": "2023-05-10T00:38:52.475861Z",
     "iopub.status.busy": "2023-05-10T00:38:52.475178Z",
     "iopub.status.idle": "2023-05-10T00:38:53.971373Z",
     "shell.execute_reply": "2023-05-10T00:38:53.970263Z"
    }
   },
   "outputs": [
    {
     "name": "stdout",
     "output_type": "stream",
     "text": [
      "a\n",
      "a\n",
      "a\n",
      "e\n",
      "i\n",
      "i\n",
      "o\n",
      "r\n",
      "i\n"
     ]
    }
   ],
   "source": [
    "query_job = bigquery_client.query(query)\n",
    "data = query_job.to_dataframe()\n",
    "data['date']=pd.to_datetime(data['date'])\n",
    "for i in data:\n",
    "    print(i[1])"
   ]
  },
  {
   "cell_type": "code",
   "execution_count": 64,
   "id": "9a2e3282",
   "metadata": {
    "execution": {
     "iopub.execute_input": "2023-05-10T00:38:53.976673Z",
     "iopub.status.busy": "2023-05-10T00:38:53.976275Z",
     "iopub.status.idle": "2023-05-10T00:38:53.979968Z",
     "shell.execute_reply": "2023-05-10T00:38:53.979317Z"
    }
   },
   "outputs": [],
   "source": [
    "query = \"\"\"\n",
    "select * from `ironhacks-data.ironhacks_training.weather_data`\n",
    "\"\"\""
   ]
  },
  {
   "cell_type": "code",
   "execution_count": 65,
   "id": "22515af6",
   "metadata": {
    "execution": {
     "iopub.execute_input": "2023-05-10T00:38:53.983971Z",
     "iopub.status.busy": "2023-05-10T00:38:53.983563Z",
     "iopub.status.idle": "2023-05-10T00:38:55.354346Z",
     "shell.execute_reply": "2023-05-10T00:38:55.353391Z"
    }
   },
   "outputs": [],
   "source": [
    "query_job = bigquery_client.query(query)\n",
    "data = query_job.to_dataframe()\n",
    "data['date']=pd.to_datetime(data['date'])"
   ]
  },
  {
   "cell_type": "code",
   "execution_count": 66,
   "id": "97e4ba3d",
   "metadata": {
    "execution": {
     "iopub.execute_input": "2023-05-10T00:38:55.359502Z",
     "iopub.status.busy": "2023-05-10T00:38:55.359134Z",
     "iopub.status.idle": "2023-05-10T00:38:55.363054Z",
     "shell.execute_reply": "2023-05-10T00:38:55.362341Z"
    }
   },
   "outputs": [],
   "source": [
    "query = \"\"\"\n",
    "select * from `ironhacks-data.ironhacks_training.weather_data`\n",
    "\"\"\""
   ]
  },
  {
   "cell_type": "code",
   "execution_count": 67,
   "id": "f58af79c",
   "metadata": {
    "execution": {
     "iopub.execute_input": "2023-05-10T00:38:55.367606Z",
     "iopub.status.busy": "2023-05-10T00:38:55.367154Z",
     "iopub.status.idle": "2023-05-10T00:38:55.679042Z",
     "shell.execute_reply": "2023-05-10T00:38:55.677552Z"
    }
   },
   "outputs": [],
   "source": [
    "query_job = bigquery_client.query(query)\n",
    "# data = query_job.to_dataframe()\n",
    "df = pd.DataFrame(data)\n",
    "data['date']=pd.to_datetime(data['date'])"
   ]
  },
  {
   "cell_type": "code",
   "execution_count": 68,
   "id": "672ec8b1",
   "metadata": {
    "execution": {
     "iopub.execute_input": "2023-05-10T00:38:55.686073Z",
     "iopub.status.busy": "2023-05-10T00:38:55.685532Z",
     "iopub.status.idle": "2023-05-10T00:38:55.691449Z",
     "shell.execute_reply": "2023-05-10T00:38:55.690092Z"
    }
   },
   "outputs": [],
   "source": [
    "query = \"\"\"\n",
    "select * from `ironhacks-data.ironhacks_training.weather_data`\n",
    "\"\"\""
   ]
  },
  {
   "cell_type": "code",
   "execution_count": 69,
   "id": "aeeb2eea",
   "metadata": {
    "execution": {
     "iopub.execute_input": "2023-05-10T00:38:55.695958Z",
     "iopub.status.busy": "2023-05-10T00:38:55.695598Z",
     "iopub.status.idle": "2023-05-10T00:38:56.139531Z",
     "shell.execute_reply": "2023-05-10T00:38:56.138649Z"
    }
   },
   "outputs": [
    {
     "data": {
      "text/html": [
       "<div>\n",
       "<style scoped>\n",
       "    .dataframe tbody tr th:only-of-type {\n",
       "        vertical-align: middle;\n",
       "    }\n",
       "\n",
       "    .dataframe tbody tr th {\n",
       "        vertical-align: top;\n",
       "    }\n",
       "\n",
       "    .dataframe thead th {\n",
       "        text-align: right;\n",
       "    }\n",
       "</style>\n",
       "<table border=\"1\" class=\"dataframe\">\n",
       "  <thead>\n",
       "    <tr style=\"text-align: right;\">\n",
       "      <th></th>\n",
       "      <th>date</th>\n",
       "      <th>max_rel_humidity</th>\n",
       "      <th>max_temperature</th>\n",
       "      <th>mean_temperature</th>\n",
       "      <th>min_rel_humidity</th>\n",
       "      <th>min_temperature</th>\n",
       "      <th>potential_water_deficit</th>\n",
       "      <th>precipitation_data</th>\n",
       "      <th>wind_speed</th>\n",
       "    </tr>\n",
       "  </thead>\n",
       "  <tbody>\n",
       "    <tr>\n",
       "      <th>0</th>\n",
       "      <td>2019-09-04</td>\n",
       "      <td>99.9498</td>\n",
       "      <td>25.4570</td>\n",
       "      <td>18.6242</td>\n",
       "      <td>56.4720</td>\n",
       "      <td>11.7913</td>\n",
       "      <td>-3.6142</td>\n",
       "      <td>0.0000</td>\n",
       "      <td>3.6461</td>\n",
       "    </tr>\n",
       "    <tr>\n",
       "      <th>1</th>\n",
       "      <td>2020-02-16</td>\n",
       "      <td>84.4966</td>\n",
       "      <td>8.6228</td>\n",
       "      <td>3.1896</td>\n",
       "      <td>40.7666</td>\n",
       "      <td>-2.2436</td>\n",
       "      <td>-1.4307</td>\n",
       "      <td>0.0000</td>\n",
       "      <td>2.2398</td>\n",
       "    </tr>\n",
       "    <tr>\n",
       "      <th>2</th>\n",
       "      <td>2019-12-19</td>\n",
       "      <td>95.9017</td>\n",
       "      <td>2.8886</td>\n",
       "      <td>-3.4884</td>\n",
       "      <td>39.0330</td>\n",
       "      <td>-9.8654</td>\n",
       "      <td>-0.9389</td>\n",
       "      <td>0.0000</td>\n",
       "      <td>4.1230</td>\n",
       "    </tr>\n",
       "    <tr>\n",
       "      <th>3</th>\n",
       "      <td>2020-02-20</td>\n",
       "      <td>70.0359</td>\n",
       "      <td>0.7939</td>\n",
       "      <td>-4.0254</td>\n",
       "      <td>34.7544</td>\n",
       "      <td>-8.8446</td>\n",
       "      <td>-1.4427</td>\n",
       "      <td>0.0000</td>\n",
       "      <td>4.8531</td>\n",
       "    </tr>\n",
       "    <tr>\n",
       "      <th>4</th>\n",
       "      <td>2019-12-23</td>\n",
       "      <td>97.1634</td>\n",
       "      <td>13.8411</td>\n",
       "      <td>5.7818</td>\n",
       "      <td>31.2553</td>\n",
       "      <td>-2.2774</td>\n",
       "      <td>-1.2787</td>\n",
       "      <td>0.0000</td>\n",
       "      <td>2.3404</td>\n",
       "    </tr>\n",
       "    <tr>\n",
       "      <th>...</th>\n",
       "      <td>...</td>\n",
       "      <td>...</td>\n",
       "      <td>...</td>\n",
       "      <td>...</td>\n",
       "      <td>...</td>\n",
       "      <td>...</td>\n",
       "      <td>...</td>\n",
       "      <td>...</td>\n",
       "      <td>...</td>\n",
       "    </tr>\n",
       "    <tr>\n",
       "      <th>360</th>\n",
       "      <td>2020-04-30</td>\n",
       "      <td>96.2771</td>\n",
       "      <td>10.2888</td>\n",
       "      <td>7.1714</td>\n",
       "      <td>69.4000</td>\n",
       "      <td>4.0540</td>\n",
       "      <td>-0.8344</td>\n",
       "      <td>0.6096</td>\n",
       "      <td>6.1917</td>\n",
       "    </tr>\n",
       "    <tr>\n",
       "      <th>361</th>\n",
       "      <td>2020-01-19</td>\n",
       "      <td>52.0808</td>\n",
       "      <td>3.7231</td>\n",
       "      <td>-1.8390</td>\n",
       "      <td>23.0505</td>\n",
       "      <td>-7.4012</td>\n",
       "      <td>-2.0879</td>\n",
       "      <td>0.1006</td>\n",
       "      <td>7.3570</td>\n",
       "    </tr>\n",
       "    <tr>\n",
       "      <th>362</th>\n",
       "      <td>2020-05-09</td>\n",
       "      <td>65.8581</td>\n",
       "      <td>13.9009</td>\n",
       "      <td>7.3270</td>\n",
       "      <td>26.1280</td>\n",
       "      <td>0.7531</td>\n",
       "      <td>-3.9989</td>\n",
       "      <td>0.0221</td>\n",
       "      <td>3.9315</td>\n",
       "    </tr>\n",
       "    <tr>\n",
       "      <th>363</th>\n",
       "      <td>2020-06-25</td>\n",
       "      <td>75.0191</td>\n",
       "      <td>28.4810</td>\n",
       "      <td>22.4637</td>\n",
       "      <td>35.8970</td>\n",
       "      <td>16.4465</td>\n",
       "      <td>-6.2345</td>\n",
       "      <td>0.0884</td>\n",
       "      <td>3.7202</td>\n",
       "    </tr>\n",
       "    <tr>\n",
       "      <th>364</th>\n",
       "      <td>2020-01-28</td>\n",
       "      <td>100.0000</td>\n",
       "      <td>8.6565</td>\n",
       "      <td>0.7474</td>\n",
       "      <td>45.1941</td>\n",
       "      <td>-7.1618</td>\n",
       "      <td>-0.8509</td>\n",
       "      <td>0.0282</td>\n",
       "      <td>1.9813</td>\n",
       "    </tr>\n",
       "  </tbody>\n",
       "</table>\n",
       "<p>365 rows × 9 columns</p>\n",
       "</div>"
      ],
      "text/plain": [
       "          date  max_rel_humidity  max_temperature  mean_temperature  \\\n",
       "0   2019-09-04           99.9498          25.4570           18.6242   \n",
       "1   2020-02-16           84.4966           8.6228            3.1896   \n",
       "2   2019-12-19           95.9017           2.8886           -3.4884   \n",
       "3   2020-02-20           70.0359           0.7939           -4.0254   \n",
       "4   2019-12-23           97.1634          13.8411            5.7818   \n",
       "..         ...               ...              ...               ...   \n",
       "360 2020-04-30           96.2771          10.2888            7.1714   \n",
       "361 2020-01-19           52.0808           3.7231           -1.8390   \n",
       "362 2020-05-09           65.8581          13.9009            7.3270   \n",
       "363 2020-06-25           75.0191          28.4810           22.4637   \n",
       "364 2020-01-28          100.0000           8.6565            0.7474   \n",
       "\n",
       "     min_rel_humidity  min_temperature  potential_water_deficit  \\\n",
       "0             56.4720          11.7913                  -3.6142   \n",
       "1             40.7666          -2.2436                  -1.4307   \n",
       "2             39.0330          -9.8654                  -0.9389   \n",
       "3             34.7544          -8.8446                  -1.4427   \n",
       "4             31.2553          -2.2774                  -1.2787   \n",
       "..                ...              ...                      ...   \n",
       "360           69.4000           4.0540                  -0.8344   \n",
       "361           23.0505          -7.4012                  -2.0879   \n",
       "362           26.1280           0.7531                  -3.9989   \n",
       "363           35.8970          16.4465                  -6.2345   \n",
       "364           45.1941          -7.1618                  -0.8509   \n",
       "\n",
       "     precipitation_data  wind_speed  \n",
       "0                0.0000      3.6461  \n",
       "1                0.0000      2.2398  \n",
       "2                0.0000      4.1230  \n",
       "3                0.0000      4.8531  \n",
       "4                0.0000      2.3404  \n",
       "..                  ...         ...  \n",
       "360              0.6096      6.1917  \n",
       "361              0.1006      7.3570  \n",
       "362              0.0221      3.9315  \n",
       "363              0.0884      3.7202  \n",
       "364              0.0282      1.9813  \n",
       "\n",
       "[365 rows x 9 columns]"
      ]
     },
     "execution_count": 69,
     "metadata": {},
     "output_type": "execute_result"
    }
   ],
   "source": [
    "query_job = bigquery_client.query(query)\n",
    "# data = query_job.to_dataframe()\n",
    "df = pd.DataFrame(data)\n",
    "data['date']=pd.to_datetime(data['date'])\n",
    "data"
   ]
  },
  {
   "cell_type": "code",
   "execution_count": 70,
   "id": "a2ffcd79",
   "metadata": {
    "execution": {
     "iopub.execute_input": "2023-05-10T00:38:56.143716Z",
     "iopub.status.busy": "2023-05-10T00:38:56.143324Z",
     "iopub.status.idle": "2023-05-10T00:38:56.147400Z",
     "shell.execute_reply": "2023-05-10T00:38:56.146587Z"
    }
   },
   "outputs": [],
   "source": [
    "query = \"\"\"\n",
    "select * from `ironhacks-data.ironhacks_training.weather_data`\n",
    "\"\"\""
   ]
  },
  {
   "cell_type": "code",
   "execution_count": 71,
   "id": "b843affc",
   "metadata": {
    "execution": {
     "iopub.execute_input": "2023-05-10T00:38:56.150862Z",
     "iopub.status.busy": "2023-05-10T00:38:56.150337Z",
     "iopub.status.idle": "2023-05-10T00:38:56.521960Z",
     "shell.execute_reply": "2023-05-10T00:38:56.521394Z"
    }
   },
   "outputs": [
    {
     "ename": "AttributeError",
     "evalue": "'DataFrame' object has no attribute 'dtype'",
     "output_type": "error",
     "traceback": [
      "\u001b[0;31m---------------------------------------------------------------------------\u001b[0m",
      "\u001b[0;31mAttributeError\u001b[0m                            Traceback (most recent call last)",
      "Cell \u001b[0;32mIn [71], line 5\u001b[0m\n\u001b[1;32m      3\u001b[0m df \u001b[38;5;241m=\u001b[39m pd\u001b[38;5;241m.\u001b[39mDataFrame(data)\n\u001b[1;32m      4\u001b[0m data[\u001b[38;5;124m'\u001b[39m\u001b[38;5;124mdate\u001b[39m\u001b[38;5;124m'\u001b[39m]\u001b[38;5;241m=\u001b[39mpd\u001b[38;5;241m.\u001b[39mto_datetime(data[\u001b[38;5;124m'\u001b[39m\u001b[38;5;124mdate\u001b[39m\u001b[38;5;124m'\u001b[39m])\n\u001b[0;32m----> 5\u001b[0m \u001b[43mdf\u001b[49m\u001b[38;5;241;43m.\u001b[39;49m\u001b[43mdtype\u001b[49m()\n",
      "File \u001b[0;32m/opt/homebrew/lib/python3.9/site-packages/pandas/core/generic.py:5902\u001b[0m, in \u001b[0;36mNDFrame.__getattr__\u001b[0;34m(self, name)\u001b[0m\n\u001b[1;32m   5895\u001b[0m \u001b[38;5;28;01mif\u001b[39;00m (\n\u001b[1;32m   5896\u001b[0m     name \u001b[38;5;129;01mnot\u001b[39;00m \u001b[38;5;129;01min\u001b[39;00m \u001b[38;5;28mself\u001b[39m\u001b[38;5;241m.\u001b[39m_internal_names_set\n\u001b[1;32m   5897\u001b[0m     \u001b[38;5;129;01mand\u001b[39;00m name \u001b[38;5;129;01mnot\u001b[39;00m \u001b[38;5;129;01min\u001b[39;00m \u001b[38;5;28mself\u001b[39m\u001b[38;5;241m.\u001b[39m_metadata\n\u001b[1;32m   5898\u001b[0m     \u001b[38;5;129;01mand\u001b[39;00m name \u001b[38;5;129;01mnot\u001b[39;00m \u001b[38;5;129;01min\u001b[39;00m \u001b[38;5;28mself\u001b[39m\u001b[38;5;241m.\u001b[39m_accessors\n\u001b[1;32m   5899\u001b[0m     \u001b[38;5;129;01mand\u001b[39;00m \u001b[38;5;28mself\u001b[39m\u001b[38;5;241m.\u001b[39m_info_axis\u001b[38;5;241m.\u001b[39m_can_hold_identifiers_and_holds_name(name)\n\u001b[1;32m   5900\u001b[0m ):\n\u001b[1;32m   5901\u001b[0m     \u001b[38;5;28;01mreturn\u001b[39;00m \u001b[38;5;28mself\u001b[39m[name]\n\u001b[0;32m-> 5902\u001b[0m \u001b[38;5;28;01mreturn\u001b[39;00m \u001b[38;5;28;43mobject\u001b[39;49m\u001b[38;5;241;43m.\u001b[39;49m\u001b[38;5;21;43m__getattribute__\u001b[39;49m\u001b[43m(\u001b[49m\u001b[38;5;28;43mself\u001b[39;49m\u001b[43m,\u001b[49m\u001b[43m \u001b[49m\u001b[43mname\u001b[49m\u001b[43m)\u001b[49m\n",
      "\u001b[0;31mAttributeError\u001b[0m: 'DataFrame' object has no attribute 'dtype'"
     ]
    }
   ],
   "source": [
    "query_job = bigquery_client.query(query)\n",
    "# data = query_job.to_dataframe()\n",
    "df = pd.DataFrame(data)\n",
    "data['date']=pd.to_datetime(data['date'])\n",
    "df.dtype()"
   ]
  },
  {
   "cell_type": "code",
   "execution_count": 72,
   "id": "3f6ba9ff",
   "metadata": {
    "execution": {
     "iopub.execute_input": "2023-05-10T00:38:56.525030Z",
     "iopub.status.busy": "2023-05-10T00:38:56.524778Z",
     "iopub.status.idle": "2023-05-10T00:38:56.527535Z",
     "shell.execute_reply": "2023-05-10T00:38:56.527026Z"
    }
   },
   "outputs": [],
   "source": [
    "query = \"\"\"\n",
    "select * from `ironhacks-data.ironhacks_training.weather_data`\n",
    "\"\"\""
   ]
  },
  {
   "cell_type": "code",
   "execution_count": 73,
   "id": "9237857b",
   "metadata": {
    "execution": {
     "iopub.execute_input": "2023-05-10T00:38:56.530016Z",
     "iopub.status.busy": "2023-05-10T00:38:56.529821Z",
     "iopub.status.idle": "2023-05-10T00:38:57.041215Z",
     "shell.execute_reply": "2023-05-10T00:38:57.040128Z"
    }
   },
   "outputs": [
    {
     "data": {
      "text/plain": [
       "date                       datetime64[ns]\n",
       "max_rel_humidity                  float64\n",
       "max_temperature                   float64\n",
       "mean_temperature                  float64\n",
       "min_rel_humidity                  float64\n",
       "min_temperature                   float64\n",
       "potential_water_deficit           float64\n",
       "precipitation_data                float64\n",
       "wind_speed                        float64\n",
       "dtype: object"
      ]
     },
     "execution_count": 73,
     "metadata": {},
     "output_type": "execute_result"
    }
   ],
   "source": [
    "query_job = bigquery_client.query(query)\n",
    "# data = query_job.to_dataframe()\n",
    "df = pd.DataFrame(data)\n",
    "data['date']=pd.to_datetime(data['date'])\n",
    "df.dtypes"
   ]
  },
  {
   "cell_type": "code",
   "execution_count": 74,
   "id": "6715ed86",
   "metadata": {
    "execution": {
     "iopub.execute_input": "2023-05-10T00:38:57.046009Z",
     "iopub.status.busy": "2023-05-10T00:38:57.045631Z",
     "iopub.status.idle": "2023-05-10T00:38:57.049658Z",
     "shell.execute_reply": "2023-05-10T00:38:57.048944Z"
    }
   },
   "outputs": [],
   "source": [
    "query = \"\"\"\n",
    "select * from `ironhacks-data.ironhacks_training.weather_data`\n",
    "\"\"\""
   ]
  },
  {
   "cell_type": "code",
   "execution_count": 75,
   "id": "ceef313c",
   "metadata": {
    "execution": {
     "iopub.execute_input": "2023-05-10T00:38:57.054404Z",
     "iopub.status.busy": "2023-05-10T00:38:57.053956Z",
     "iopub.status.idle": "2023-05-10T00:38:58.619540Z",
     "shell.execute_reply": "2023-05-10T00:38:58.618387Z"
    }
   },
   "outputs": [
    {
     "data": {
      "text/plain": [
       "date                       datetime64[ns]\n",
       "max_rel_humidity                  float64\n",
       "max_temperature                   float64\n",
       "mean_temperature                  float64\n",
       "min_rel_humidity                  float64\n",
       "min_temperature                   float64\n",
       "potential_water_deficit           float64\n",
       "precipitation_data                float64\n",
       "wind_speed                        float64\n",
       "dtype: object"
      ]
     },
     "execution_count": 75,
     "metadata": {},
     "output_type": "execute_result"
    }
   ],
   "source": [
    "query_job = bigquery_client.query(query)\n",
    "data = query_job.to_dataframe()\n",
    "# df = pd.DataFrame(data)\n",
    "data['date']=pd.to_datetime(data['date'])\n",
    "data.dtypes"
   ]
  },
  {
   "cell_type": "code",
   "execution_count": 76,
   "id": "4f73e04b",
   "metadata": {
    "execution": {
     "iopub.execute_input": "2023-05-10T00:38:58.624070Z",
     "iopub.status.busy": "2023-05-10T00:38:58.623734Z",
     "iopub.status.idle": "2023-05-10T00:38:58.627316Z",
     "shell.execute_reply": "2023-05-10T00:38:58.626721Z"
    }
   },
   "outputs": [],
   "source": [
    "query = \"\"\"\n",
    "select * from `ironhacks-data.ironhacks_training.weather_data`\n",
    "\"\"\""
   ]
  },
  {
   "cell_type": "code",
   "execution_count": 77,
   "id": "59740d3b",
   "metadata": {
    "execution": {
     "iopub.execute_input": "2023-05-10T00:38:58.631939Z",
     "iopub.status.busy": "2023-05-10T00:38:58.631580Z",
     "iopub.status.idle": "2023-05-10T00:39:00.366411Z",
     "shell.execute_reply": "2023-05-10T00:39:00.365497Z"
    }
   },
   "outputs": [
    {
     "data": {
      "text/plain": [
       "date                       datetime64[ns]\n",
       "max_rel_humidity                  float64\n",
       "max_temperature                   float64\n",
       "mean_temperature                  float64\n",
       "min_rel_humidity                  float64\n",
       "min_temperature                   float64\n",
       "potential_water_deficit           float64\n",
       "precipitation_data                float64\n",
       "wind_speed                        float64\n",
       "dtype: object"
      ]
     },
     "execution_count": 77,
     "metadata": {},
     "output_type": "execute_result"
    }
   ],
   "source": [
    "query_job = bigquery_client.query(query)\n",
    "data = query_job.to_dataframe()\n",
    "data['date']=pd.to_datetime(data['date'])\n",
    "data.dtypes"
   ]
  },
  {
   "cell_type": "code",
   "execution_count": 78,
   "id": "ab83d0d2",
   "metadata": {
    "execution": {
     "iopub.execute_input": "2023-05-10T00:39:00.371343Z",
     "iopub.status.busy": "2023-05-10T00:39:00.370932Z",
     "iopub.status.idle": "2023-05-10T00:39:00.375864Z",
     "shell.execute_reply": "2023-05-10T00:39:00.374905Z"
    }
   },
   "outputs": [],
   "source": [
    "query = \"\"\"\n",
    "select * from `ironhacks-data.ironhacks_training.weather_data`\n",
    "\"\"\""
   ]
  },
  {
   "cell_type": "code",
   "execution_count": 79,
   "id": "6cc7de31",
   "metadata": {
    "execution": {
     "iopub.execute_input": "2023-05-10T00:39:00.379776Z",
     "iopub.status.busy": "2023-05-10T00:39:00.379215Z",
     "iopub.status.idle": "2023-05-10T00:39:02.095332Z",
     "shell.execute_reply": "2023-05-10T00:39:02.094474Z"
    }
   },
   "outputs": [
    {
     "data": {
      "text/html": [
       "<div>\n",
       "<style scoped>\n",
       "    .dataframe tbody tr th:only-of-type {\n",
       "        vertical-align: middle;\n",
       "    }\n",
       "\n",
       "    .dataframe tbody tr th {\n",
       "        vertical-align: top;\n",
       "    }\n",
       "\n",
       "    .dataframe thead th {\n",
       "        text-align: right;\n",
       "    }\n",
       "</style>\n",
       "<table border=\"1\" class=\"dataframe\">\n",
       "  <thead>\n",
       "    <tr style=\"text-align: right;\">\n",
       "      <th></th>\n",
       "      <th>date</th>\n",
       "      <th>max_rel_humidity</th>\n",
       "      <th>max_temperature</th>\n",
       "      <th>mean_temperature</th>\n",
       "      <th>min_rel_humidity</th>\n",
       "      <th>min_temperature</th>\n",
       "      <th>potential_water_deficit</th>\n",
       "      <th>precipitation_data</th>\n",
       "      <th>wind_speed</th>\n",
       "    </tr>\n",
       "  </thead>\n",
       "  <tbody>\n",
       "    <tr>\n",
       "      <th>0</th>\n",
       "      <td>2019-09-04</td>\n",
       "      <td>99.9498</td>\n",
       "      <td>25.4570</td>\n",
       "      <td>18.6242</td>\n",
       "      <td>56.4720</td>\n",
       "      <td>11.7913</td>\n",
       "      <td>-3.6142</td>\n",
       "      <td>0.0</td>\n",
       "      <td>3.6461</td>\n",
       "    </tr>\n",
       "    <tr>\n",
       "      <th>1</th>\n",
       "      <td>2020-02-16</td>\n",
       "      <td>84.4966</td>\n",
       "      <td>8.6228</td>\n",
       "      <td>3.1896</td>\n",
       "      <td>40.7666</td>\n",
       "      <td>-2.2436</td>\n",
       "      <td>-1.4307</td>\n",
       "      <td>0.0</td>\n",
       "      <td>2.2398</td>\n",
       "    </tr>\n",
       "    <tr>\n",
       "      <th>2</th>\n",
       "      <td>2019-12-19</td>\n",
       "      <td>95.9017</td>\n",
       "      <td>2.8886</td>\n",
       "      <td>-3.4884</td>\n",
       "      <td>39.0330</td>\n",
       "      <td>-9.8654</td>\n",
       "      <td>-0.9389</td>\n",
       "      <td>0.0</td>\n",
       "      <td>4.1230</td>\n",
       "    </tr>\n",
       "    <tr>\n",
       "      <th>3</th>\n",
       "      <td>2020-02-20</td>\n",
       "      <td>70.0359</td>\n",
       "      <td>0.7939</td>\n",
       "      <td>-4.0254</td>\n",
       "      <td>34.7544</td>\n",
       "      <td>-8.8446</td>\n",
       "      <td>-1.4427</td>\n",
       "      <td>0.0</td>\n",
       "      <td>4.8531</td>\n",
       "    </tr>\n",
       "    <tr>\n",
       "      <th>4</th>\n",
       "      <td>2019-12-23</td>\n",
       "      <td>97.1634</td>\n",
       "      <td>13.8411</td>\n",
       "      <td>5.7818</td>\n",
       "      <td>31.2553</td>\n",
       "      <td>-2.2774</td>\n",
       "      <td>-1.2787</td>\n",
       "      <td>0.0</td>\n",
       "      <td>2.3404</td>\n",
       "    </tr>\n",
       "  </tbody>\n",
       "</table>\n",
       "</div>"
      ],
      "text/plain": [
       "        date  max_rel_humidity  max_temperature  mean_temperature  \\\n",
       "0 2019-09-04           99.9498          25.4570           18.6242   \n",
       "1 2020-02-16           84.4966           8.6228            3.1896   \n",
       "2 2019-12-19           95.9017           2.8886           -3.4884   \n",
       "3 2020-02-20           70.0359           0.7939           -4.0254   \n",
       "4 2019-12-23           97.1634          13.8411            5.7818   \n",
       "\n",
       "   min_rel_humidity  min_temperature  potential_water_deficit  \\\n",
       "0           56.4720          11.7913                  -3.6142   \n",
       "1           40.7666          -2.2436                  -1.4307   \n",
       "2           39.0330          -9.8654                  -0.9389   \n",
       "3           34.7544          -8.8446                  -1.4427   \n",
       "4           31.2553          -2.2774                  -1.2787   \n",
       "\n",
       "   precipitation_data  wind_speed  \n",
       "0                 0.0      3.6461  \n",
       "1                 0.0      2.2398  \n",
       "2                 0.0      4.1230  \n",
       "3                 0.0      4.8531  \n",
       "4                 0.0      2.3404  "
      ]
     },
     "execution_count": 79,
     "metadata": {},
     "output_type": "execute_result"
    }
   ],
   "source": [
    "query_job = bigquery_client.query(query)\n",
    "data = query_job.to_dataframe()\n",
    "data['date']=pd.to_datetime(data['date'])\n",
    "data.dtypes\n",
    "data.head()"
   ]
  },
  {
   "cell_type": "code",
   "execution_count": 80,
   "id": "7f41bd9b",
   "metadata": {
    "execution": {
     "iopub.execute_input": "2023-05-10T00:39:02.099276Z",
     "iopub.status.busy": "2023-05-10T00:39:02.098952Z",
     "iopub.status.idle": "2023-05-10T00:39:02.102542Z",
     "shell.execute_reply": "2023-05-10T00:39:02.101920Z"
    }
   },
   "outputs": [],
   "source": [
    "query = \"\"\"\n",
    "select * from `ironhacks-data.ironhacks_training.weather_data`\n",
    "\"\"\""
   ]
  },
  {
   "cell_type": "code",
   "execution_count": 81,
   "id": "fe8350a0",
   "metadata": {
    "execution": {
     "iopub.execute_input": "2023-05-10T00:39:02.105928Z",
     "iopub.status.busy": "2023-05-10T00:39:02.105575Z",
     "iopub.status.idle": "2023-05-10T00:39:03.530887Z",
     "shell.execute_reply": "2023-05-10T00:39:03.529864Z"
    }
   },
   "outputs": [
    {
     "data": {
      "text/plain": [
       "date                       datetime64[ns]\n",
       "max_rel_humidity                  float64\n",
       "max_temperature                   float64\n",
       "mean_temperature                  float64\n",
       "min_rel_humidity                  float64\n",
       "min_temperature                   float64\n",
       "potential_water_deficit           float64\n",
       "precipitation_data                float64\n",
       "wind_speed                        float64\n",
       "dtype: object"
      ]
     },
     "execution_count": 81,
     "metadata": {},
     "output_type": "execute_result"
    }
   ],
   "source": [
    "query_job = bigquery_client.query(query)\n",
    "data = query_job.to_dataframe()\n",
    "data['date']=pd.to_datetime(data['date'])\n",
    "data.dtypes\n",
    "# data.head()"
   ]
  },
  {
   "cell_type": "code",
   "execution_count": 82,
   "id": "73e464aa",
   "metadata": {
    "execution": {
     "iopub.execute_input": "2023-05-10T00:39:03.535397Z",
     "iopub.status.busy": "2023-05-10T00:39:03.535084Z",
     "iopub.status.idle": "2023-05-10T00:39:03.538628Z",
     "shell.execute_reply": "2023-05-10T00:39:03.537878Z"
    }
   },
   "outputs": [],
   "source": [
    "query = \"\"\"\n",
    "select * from `ironhacks-data.ironhacks_training.weather_data`\n",
    "\"\"\""
   ]
  },
  {
   "cell_type": "code",
   "execution_count": 83,
   "id": "32378864",
   "metadata": {
    "execution": {
     "iopub.execute_input": "2023-05-10T00:39:03.543765Z",
     "iopub.status.busy": "2023-05-10T00:39:03.543374Z",
     "iopub.status.idle": "2023-05-10T00:39:05.030711Z",
     "shell.execute_reply": "2023-05-10T00:39:05.029505Z"
    }
   },
   "outputs": [],
   "source": [
    "query_job = bigquery_client.query(query)\n",
    "data = query_job.to_dataframe()\n",
    "data['date']=pd.to_datetime(data['date'])\n",
    "# data.dtypes\n",
    "# data.head()"
   ]
  },
  {
   "cell_type": "code",
   "execution_count": 84,
   "id": "deba9912",
   "metadata": {
    "execution": {
     "iopub.execute_input": "2023-05-10T00:39:05.036577Z",
     "iopub.status.busy": "2023-05-10T00:39:05.036182Z",
     "iopub.status.idle": "2023-05-10T00:39:05.040305Z",
     "shell.execute_reply": "2023-05-10T00:39:05.039565Z"
    }
   },
   "outputs": [],
   "source": [
    "query = \"\"\"\n",
    "select * from `ironhacks-data.ironhacks_training.weather_data`\n",
    "\"\"\""
   ]
  },
  {
   "cell_type": "code",
   "execution_count": 85,
   "id": "e11277b1",
   "metadata": {
    "execution": {
     "iopub.execute_input": "2023-05-10T00:39:05.045469Z",
     "iopub.status.busy": "2023-05-10T00:39:05.044972Z",
     "iopub.status.idle": "2023-05-10T00:39:07.164316Z",
     "shell.execute_reply": "2023-05-10T00:39:07.163575Z"
    }
   },
   "outputs": [
    {
     "data": {
      "text/html": [
       "<div>\n",
       "<style scoped>\n",
       "    .dataframe tbody tr th:only-of-type {\n",
       "        vertical-align: middle;\n",
       "    }\n",
       "\n",
       "    .dataframe tbody tr th {\n",
       "        vertical-align: top;\n",
       "    }\n",
       "\n",
       "    .dataframe thead th {\n",
       "        text-align: right;\n",
       "    }\n",
       "</style>\n",
       "<table border=\"1\" class=\"dataframe\">\n",
       "  <thead>\n",
       "    <tr style=\"text-align: right;\">\n",
       "      <th></th>\n",
       "      <th>date</th>\n",
       "      <th>max_rel_humidity</th>\n",
       "      <th>max_temperature</th>\n",
       "      <th>mean_temperature</th>\n",
       "      <th>min_rel_humidity</th>\n",
       "      <th>min_temperature</th>\n",
       "      <th>potential_water_deficit</th>\n",
       "      <th>precipitation_data</th>\n",
       "      <th>wind_speed</th>\n",
       "    </tr>\n",
       "  </thead>\n",
       "  <tbody>\n",
       "    <tr>\n",
       "      <th>0</th>\n",
       "      <td>2019-09-04</td>\n",
       "      <td>99.9498</td>\n",
       "      <td>25.4570</td>\n",
       "      <td>18.6242</td>\n",
       "      <td>56.4720</td>\n",
       "      <td>11.7913</td>\n",
       "      <td>-3.6142</td>\n",
       "      <td>0.0</td>\n",
       "      <td>3.6461</td>\n",
       "    </tr>\n",
       "    <tr>\n",
       "      <th>1</th>\n",
       "      <td>2020-02-16</td>\n",
       "      <td>84.4966</td>\n",
       "      <td>8.6228</td>\n",
       "      <td>3.1896</td>\n",
       "      <td>40.7666</td>\n",
       "      <td>-2.2436</td>\n",
       "      <td>-1.4307</td>\n",
       "      <td>0.0</td>\n",
       "      <td>2.2398</td>\n",
       "    </tr>\n",
       "    <tr>\n",
       "      <th>2</th>\n",
       "      <td>2019-12-19</td>\n",
       "      <td>95.9017</td>\n",
       "      <td>2.8886</td>\n",
       "      <td>-3.4884</td>\n",
       "      <td>39.0330</td>\n",
       "      <td>-9.8654</td>\n",
       "      <td>-0.9389</td>\n",
       "      <td>0.0</td>\n",
       "      <td>4.1230</td>\n",
       "    </tr>\n",
       "    <tr>\n",
       "      <th>3</th>\n",
       "      <td>2020-02-20</td>\n",
       "      <td>70.0359</td>\n",
       "      <td>0.7939</td>\n",
       "      <td>-4.0254</td>\n",
       "      <td>34.7544</td>\n",
       "      <td>-8.8446</td>\n",
       "      <td>-1.4427</td>\n",
       "      <td>0.0</td>\n",
       "      <td>4.8531</td>\n",
       "    </tr>\n",
       "    <tr>\n",
       "      <th>4</th>\n",
       "      <td>2019-12-23</td>\n",
       "      <td>97.1634</td>\n",
       "      <td>13.8411</td>\n",
       "      <td>5.7818</td>\n",
       "      <td>31.2553</td>\n",
       "      <td>-2.2774</td>\n",
       "      <td>-1.2787</td>\n",
       "      <td>0.0</td>\n",
       "      <td>2.3404</td>\n",
       "    </tr>\n",
       "  </tbody>\n",
       "</table>\n",
       "</div>"
      ],
      "text/plain": [
       "        date  max_rel_humidity  max_temperature  mean_temperature  \\\n",
       "0 2019-09-04           99.9498          25.4570           18.6242   \n",
       "1 2020-02-16           84.4966           8.6228            3.1896   \n",
       "2 2019-12-19           95.9017           2.8886           -3.4884   \n",
       "3 2020-02-20           70.0359           0.7939           -4.0254   \n",
       "4 2019-12-23           97.1634          13.8411            5.7818   \n",
       "\n",
       "   min_rel_humidity  min_temperature  potential_water_deficit  \\\n",
       "0           56.4720          11.7913                  -3.6142   \n",
       "1           40.7666          -2.2436                  -1.4307   \n",
       "2           39.0330          -9.8654                  -0.9389   \n",
       "3           34.7544          -8.8446                  -1.4427   \n",
       "4           31.2553          -2.2774                  -1.2787   \n",
       "\n",
       "   precipitation_data  wind_speed  \n",
       "0                 0.0      3.6461  \n",
       "1                 0.0      2.2398  \n",
       "2                 0.0      4.1230  \n",
       "3                 0.0      4.8531  \n",
       "4                 0.0      2.3404  "
      ]
     },
     "execution_count": 85,
     "metadata": {},
     "output_type": "execute_result"
    }
   ],
   "source": [
    "query_job = bigquery_client.query(query)\n",
    "data = query_job.to_dataframe()\n",
    "data['date']=pd.to_datetime(data['date'])\n",
    "# data.dtypes\n",
    "data.head()"
   ]
  },
  {
   "cell_type": "code",
   "execution_count": 86,
   "id": "56458d82",
   "metadata": {
    "execution": {
     "iopub.execute_input": "2023-05-10T00:39:07.167868Z",
     "iopub.status.busy": "2023-05-10T00:39:07.167551Z",
     "iopub.status.idle": "2023-05-10T00:39:07.172019Z",
     "shell.execute_reply": "2023-05-10T00:39:07.171514Z"
    }
   },
   "outputs": [
    {
     "name": "stderr",
     "output_type": "stream",
     "text": [
      "/var/folders/l2/cnhff0_n1470l4xf0p7v7l_40000gn/T/ipykernel_15032/1036149893.py:1: FutureWarning: In a future version of pandas all arguments of DataFrame.drop except for the argument 'labels' will be keyword-only.\n",
      "  X=data.drop(\"potential_water_deficit\",1)\n"
     ]
    }
   ],
   "source": [
    "X=data.drop(\"potential_water_deficit\",1)"
   ]
  },
  {
   "cell_type": "code",
   "execution_count": 87,
   "id": "4d1c0929",
   "metadata": {
    "execution": {
     "iopub.execute_input": "2023-05-10T00:39:07.175405Z",
     "iopub.status.busy": "2023-05-10T00:39:07.175171Z",
     "iopub.status.idle": "2023-05-10T00:39:07.188540Z",
     "shell.execute_reply": "2023-05-10T00:39:07.188113Z"
    }
   },
   "outputs": [
    {
     "name": "stderr",
     "output_type": "stream",
     "text": [
      "/var/folders/l2/cnhff0_n1470l4xf0p7v7l_40000gn/T/ipykernel_15032/3324516779.py:1: FutureWarning: In a future version of pandas all arguments of DataFrame.drop except for the argument 'labels' will be keyword-only.\n",
      "  X=data.drop(\"potential_water_deficit\",1)\n"
     ]
    },
    {
     "data": {
      "text/html": [
       "<div>\n",
       "<style scoped>\n",
       "    .dataframe tbody tr th:only-of-type {\n",
       "        vertical-align: middle;\n",
       "    }\n",
       "\n",
       "    .dataframe tbody tr th {\n",
       "        vertical-align: top;\n",
       "    }\n",
       "\n",
       "    .dataframe thead th {\n",
       "        text-align: right;\n",
       "    }\n",
       "</style>\n",
       "<table border=\"1\" class=\"dataframe\">\n",
       "  <thead>\n",
       "    <tr style=\"text-align: right;\">\n",
       "      <th></th>\n",
       "      <th>date</th>\n",
       "      <th>max_rel_humidity</th>\n",
       "      <th>max_temperature</th>\n",
       "      <th>mean_temperature</th>\n",
       "      <th>min_rel_humidity</th>\n",
       "      <th>min_temperature</th>\n",
       "      <th>potential_water_deficit</th>\n",
       "      <th>precipitation_data</th>\n",
       "      <th>wind_speed</th>\n",
       "    </tr>\n",
       "  </thead>\n",
       "  <tbody>\n",
       "    <tr>\n",
       "      <th>0</th>\n",
       "      <td>2019-09-04</td>\n",
       "      <td>99.9498</td>\n",
       "      <td>25.4570</td>\n",
       "      <td>18.6242</td>\n",
       "      <td>56.4720</td>\n",
       "      <td>11.7913</td>\n",
       "      <td>-3.6142</td>\n",
       "      <td>0.0000</td>\n",
       "      <td>3.6461</td>\n",
       "    </tr>\n",
       "    <tr>\n",
       "      <th>1</th>\n",
       "      <td>2020-02-16</td>\n",
       "      <td>84.4966</td>\n",
       "      <td>8.6228</td>\n",
       "      <td>3.1896</td>\n",
       "      <td>40.7666</td>\n",
       "      <td>-2.2436</td>\n",
       "      <td>-1.4307</td>\n",
       "      <td>0.0000</td>\n",
       "      <td>2.2398</td>\n",
       "    </tr>\n",
       "    <tr>\n",
       "      <th>2</th>\n",
       "      <td>2019-12-19</td>\n",
       "      <td>95.9017</td>\n",
       "      <td>2.8886</td>\n",
       "      <td>-3.4884</td>\n",
       "      <td>39.0330</td>\n",
       "      <td>-9.8654</td>\n",
       "      <td>-0.9389</td>\n",
       "      <td>0.0000</td>\n",
       "      <td>4.1230</td>\n",
       "    </tr>\n",
       "    <tr>\n",
       "      <th>3</th>\n",
       "      <td>2020-02-20</td>\n",
       "      <td>70.0359</td>\n",
       "      <td>0.7939</td>\n",
       "      <td>-4.0254</td>\n",
       "      <td>34.7544</td>\n",
       "      <td>-8.8446</td>\n",
       "      <td>-1.4427</td>\n",
       "      <td>0.0000</td>\n",
       "      <td>4.8531</td>\n",
       "    </tr>\n",
       "    <tr>\n",
       "      <th>4</th>\n",
       "      <td>2019-12-23</td>\n",
       "      <td>97.1634</td>\n",
       "      <td>13.8411</td>\n",
       "      <td>5.7818</td>\n",
       "      <td>31.2553</td>\n",
       "      <td>-2.2774</td>\n",
       "      <td>-1.2787</td>\n",
       "      <td>0.0000</td>\n",
       "      <td>2.3404</td>\n",
       "    </tr>\n",
       "    <tr>\n",
       "      <th>...</th>\n",
       "      <td>...</td>\n",
       "      <td>...</td>\n",
       "      <td>...</td>\n",
       "      <td>...</td>\n",
       "      <td>...</td>\n",
       "      <td>...</td>\n",
       "      <td>...</td>\n",
       "      <td>...</td>\n",
       "      <td>...</td>\n",
       "    </tr>\n",
       "    <tr>\n",
       "      <th>360</th>\n",
       "      <td>2020-04-30</td>\n",
       "      <td>96.2771</td>\n",
       "      <td>10.2888</td>\n",
       "      <td>7.1714</td>\n",
       "      <td>69.4000</td>\n",
       "      <td>4.0540</td>\n",
       "      <td>-0.8344</td>\n",
       "      <td>0.6096</td>\n",
       "      <td>6.1917</td>\n",
       "    </tr>\n",
       "    <tr>\n",
       "      <th>361</th>\n",
       "      <td>2020-01-19</td>\n",
       "      <td>52.0808</td>\n",
       "      <td>3.7231</td>\n",
       "      <td>-1.8390</td>\n",
       "      <td>23.0505</td>\n",
       "      <td>-7.4012</td>\n",
       "      <td>-2.0879</td>\n",
       "      <td>0.1006</td>\n",
       "      <td>7.3570</td>\n",
       "    </tr>\n",
       "    <tr>\n",
       "      <th>362</th>\n",
       "      <td>2020-05-09</td>\n",
       "      <td>65.8581</td>\n",
       "      <td>13.9009</td>\n",
       "      <td>7.3270</td>\n",
       "      <td>26.1280</td>\n",
       "      <td>0.7531</td>\n",
       "      <td>-3.9989</td>\n",
       "      <td>0.0221</td>\n",
       "      <td>3.9315</td>\n",
       "    </tr>\n",
       "    <tr>\n",
       "      <th>363</th>\n",
       "      <td>2020-06-25</td>\n",
       "      <td>75.0191</td>\n",
       "      <td>28.4810</td>\n",
       "      <td>22.4637</td>\n",
       "      <td>35.8970</td>\n",
       "      <td>16.4465</td>\n",
       "      <td>-6.2345</td>\n",
       "      <td>0.0884</td>\n",
       "      <td>3.7202</td>\n",
       "    </tr>\n",
       "    <tr>\n",
       "      <th>364</th>\n",
       "      <td>2020-01-28</td>\n",
       "      <td>100.0000</td>\n",
       "      <td>8.6565</td>\n",
       "      <td>0.7474</td>\n",
       "      <td>45.1941</td>\n",
       "      <td>-7.1618</td>\n",
       "      <td>-0.8509</td>\n",
       "      <td>0.0282</td>\n",
       "      <td>1.9813</td>\n",
       "    </tr>\n",
       "  </tbody>\n",
       "</table>\n",
       "<p>365 rows × 9 columns</p>\n",
       "</div>"
      ],
      "text/plain": [
       "          date  max_rel_humidity  max_temperature  mean_temperature  \\\n",
       "0   2019-09-04           99.9498          25.4570           18.6242   \n",
       "1   2020-02-16           84.4966           8.6228            3.1896   \n",
       "2   2019-12-19           95.9017           2.8886           -3.4884   \n",
       "3   2020-02-20           70.0359           0.7939           -4.0254   \n",
       "4   2019-12-23           97.1634          13.8411            5.7818   \n",
       "..         ...               ...              ...               ...   \n",
       "360 2020-04-30           96.2771          10.2888            7.1714   \n",
       "361 2020-01-19           52.0808           3.7231           -1.8390   \n",
       "362 2020-05-09           65.8581          13.9009            7.3270   \n",
       "363 2020-06-25           75.0191          28.4810           22.4637   \n",
       "364 2020-01-28          100.0000           8.6565            0.7474   \n",
       "\n",
       "     min_rel_humidity  min_temperature  potential_water_deficit  \\\n",
       "0             56.4720          11.7913                  -3.6142   \n",
       "1             40.7666          -2.2436                  -1.4307   \n",
       "2             39.0330          -9.8654                  -0.9389   \n",
       "3             34.7544          -8.8446                  -1.4427   \n",
       "4             31.2553          -2.2774                  -1.2787   \n",
       "..                ...              ...                      ...   \n",
       "360           69.4000           4.0540                  -0.8344   \n",
       "361           23.0505          -7.4012                  -2.0879   \n",
       "362           26.1280           0.7531                  -3.9989   \n",
       "363           35.8970          16.4465                  -6.2345   \n",
       "364           45.1941          -7.1618                  -0.8509   \n",
       "\n",
       "     precipitation_data  wind_speed  \n",
       "0                0.0000      3.6461  \n",
       "1                0.0000      2.2398  \n",
       "2                0.0000      4.1230  \n",
       "3                0.0000      4.8531  \n",
       "4                0.0000      2.3404  \n",
       "..                  ...         ...  \n",
       "360              0.6096      6.1917  \n",
       "361              0.1006      7.3570  \n",
       "362              0.0221      3.9315  \n",
       "363              0.0884      3.7202  \n",
       "364              0.0282      1.9813  \n",
       "\n",
       "[365 rows x 9 columns]"
      ]
     },
     "execution_count": 87,
     "metadata": {},
     "output_type": "execute_result"
    }
   ],
   "source": [
    "X=data.drop(\"potential_water_deficit\",1)\n",
    "data"
   ]
  },
  {
   "cell_type": "code",
   "execution_count": 88,
   "id": "ce60cc51",
   "metadata": {
    "execution": {
     "iopub.execute_input": "2023-05-10T00:39:07.191608Z",
     "iopub.status.busy": "2023-05-10T00:39:07.191413Z",
     "iopub.status.idle": "2023-05-10T00:39:07.202054Z",
     "shell.execute_reply": "2023-05-10T00:39:07.201691Z"
    }
   },
   "outputs": [
    {
     "name": "stderr",
     "output_type": "stream",
     "text": [
      "/var/folders/l2/cnhff0_n1470l4xf0p7v7l_40000gn/T/ipykernel_15032/1492301310.py:1: FutureWarning: In a future version of pandas all arguments of DataFrame.drop except for the argument 'labels' will be keyword-only.\n",
      "  X=data.drop(\"potential_water_deficit\",1)\n",
      "/var/folders/l2/cnhff0_n1470l4xf0p7v7l_40000gn/T/ipykernel_15032/1492301310.py:2: FutureWarning: In a future version of pandas all arguments of DataFrame.drop except for the argument 'labels' will be keyword-only.\n",
      "  X = data.drop(\"date\",1)\n"
     ]
    },
    {
     "data": {
      "text/html": [
       "<div>\n",
       "<style scoped>\n",
       "    .dataframe tbody tr th:only-of-type {\n",
       "        vertical-align: middle;\n",
       "    }\n",
       "\n",
       "    .dataframe tbody tr th {\n",
       "        vertical-align: top;\n",
       "    }\n",
       "\n",
       "    .dataframe thead th {\n",
       "        text-align: right;\n",
       "    }\n",
       "</style>\n",
       "<table border=\"1\" class=\"dataframe\">\n",
       "  <thead>\n",
       "    <tr style=\"text-align: right;\">\n",
       "      <th></th>\n",
       "      <th>date</th>\n",
       "      <th>max_rel_humidity</th>\n",
       "      <th>max_temperature</th>\n",
       "      <th>mean_temperature</th>\n",
       "      <th>min_rel_humidity</th>\n",
       "      <th>min_temperature</th>\n",
       "      <th>potential_water_deficit</th>\n",
       "      <th>precipitation_data</th>\n",
       "      <th>wind_speed</th>\n",
       "    </tr>\n",
       "  </thead>\n",
       "  <tbody>\n",
       "    <tr>\n",
       "      <th>0</th>\n",
       "      <td>2019-09-04</td>\n",
       "      <td>99.9498</td>\n",
       "      <td>25.4570</td>\n",
       "      <td>18.6242</td>\n",
       "      <td>56.4720</td>\n",
       "      <td>11.7913</td>\n",
       "      <td>-3.6142</td>\n",
       "      <td>0.0000</td>\n",
       "      <td>3.6461</td>\n",
       "    </tr>\n",
       "    <tr>\n",
       "      <th>1</th>\n",
       "      <td>2020-02-16</td>\n",
       "      <td>84.4966</td>\n",
       "      <td>8.6228</td>\n",
       "      <td>3.1896</td>\n",
       "      <td>40.7666</td>\n",
       "      <td>-2.2436</td>\n",
       "      <td>-1.4307</td>\n",
       "      <td>0.0000</td>\n",
       "      <td>2.2398</td>\n",
       "    </tr>\n",
       "    <tr>\n",
       "      <th>2</th>\n",
       "      <td>2019-12-19</td>\n",
       "      <td>95.9017</td>\n",
       "      <td>2.8886</td>\n",
       "      <td>-3.4884</td>\n",
       "      <td>39.0330</td>\n",
       "      <td>-9.8654</td>\n",
       "      <td>-0.9389</td>\n",
       "      <td>0.0000</td>\n",
       "      <td>4.1230</td>\n",
       "    </tr>\n",
       "    <tr>\n",
       "      <th>3</th>\n",
       "      <td>2020-02-20</td>\n",
       "      <td>70.0359</td>\n",
       "      <td>0.7939</td>\n",
       "      <td>-4.0254</td>\n",
       "      <td>34.7544</td>\n",
       "      <td>-8.8446</td>\n",
       "      <td>-1.4427</td>\n",
       "      <td>0.0000</td>\n",
       "      <td>4.8531</td>\n",
       "    </tr>\n",
       "    <tr>\n",
       "      <th>4</th>\n",
       "      <td>2019-12-23</td>\n",
       "      <td>97.1634</td>\n",
       "      <td>13.8411</td>\n",
       "      <td>5.7818</td>\n",
       "      <td>31.2553</td>\n",
       "      <td>-2.2774</td>\n",
       "      <td>-1.2787</td>\n",
       "      <td>0.0000</td>\n",
       "      <td>2.3404</td>\n",
       "    </tr>\n",
       "    <tr>\n",
       "      <th>...</th>\n",
       "      <td>...</td>\n",
       "      <td>...</td>\n",
       "      <td>...</td>\n",
       "      <td>...</td>\n",
       "      <td>...</td>\n",
       "      <td>...</td>\n",
       "      <td>...</td>\n",
       "      <td>...</td>\n",
       "      <td>...</td>\n",
       "    </tr>\n",
       "    <tr>\n",
       "      <th>360</th>\n",
       "      <td>2020-04-30</td>\n",
       "      <td>96.2771</td>\n",
       "      <td>10.2888</td>\n",
       "      <td>7.1714</td>\n",
       "      <td>69.4000</td>\n",
       "      <td>4.0540</td>\n",
       "      <td>-0.8344</td>\n",
       "      <td>0.6096</td>\n",
       "      <td>6.1917</td>\n",
       "    </tr>\n",
       "    <tr>\n",
       "      <th>361</th>\n",
       "      <td>2020-01-19</td>\n",
       "      <td>52.0808</td>\n",
       "      <td>3.7231</td>\n",
       "      <td>-1.8390</td>\n",
       "      <td>23.0505</td>\n",
       "      <td>-7.4012</td>\n",
       "      <td>-2.0879</td>\n",
       "      <td>0.1006</td>\n",
       "      <td>7.3570</td>\n",
       "    </tr>\n",
       "    <tr>\n",
       "      <th>362</th>\n",
       "      <td>2020-05-09</td>\n",
       "      <td>65.8581</td>\n",
       "      <td>13.9009</td>\n",
       "      <td>7.3270</td>\n",
       "      <td>26.1280</td>\n",
       "      <td>0.7531</td>\n",
       "      <td>-3.9989</td>\n",
       "      <td>0.0221</td>\n",
       "      <td>3.9315</td>\n",
       "    </tr>\n",
       "    <tr>\n",
       "      <th>363</th>\n",
       "      <td>2020-06-25</td>\n",
       "      <td>75.0191</td>\n",
       "      <td>28.4810</td>\n",
       "      <td>22.4637</td>\n",
       "      <td>35.8970</td>\n",
       "      <td>16.4465</td>\n",
       "      <td>-6.2345</td>\n",
       "      <td>0.0884</td>\n",
       "      <td>3.7202</td>\n",
       "    </tr>\n",
       "    <tr>\n",
       "      <th>364</th>\n",
       "      <td>2020-01-28</td>\n",
       "      <td>100.0000</td>\n",
       "      <td>8.6565</td>\n",
       "      <td>0.7474</td>\n",
       "      <td>45.1941</td>\n",
       "      <td>-7.1618</td>\n",
       "      <td>-0.8509</td>\n",
       "      <td>0.0282</td>\n",
       "      <td>1.9813</td>\n",
       "    </tr>\n",
       "  </tbody>\n",
       "</table>\n",
       "<p>365 rows × 9 columns</p>\n",
       "</div>"
      ],
      "text/plain": [
       "          date  max_rel_humidity  max_temperature  mean_temperature  \\\n",
       "0   2019-09-04           99.9498          25.4570           18.6242   \n",
       "1   2020-02-16           84.4966           8.6228            3.1896   \n",
       "2   2019-12-19           95.9017           2.8886           -3.4884   \n",
       "3   2020-02-20           70.0359           0.7939           -4.0254   \n",
       "4   2019-12-23           97.1634          13.8411            5.7818   \n",
       "..         ...               ...              ...               ...   \n",
       "360 2020-04-30           96.2771          10.2888            7.1714   \n",
       "361 2020-01-19           52.0808           3.7231           -1.8390   \n",
       "362 2020-05-09           65.8581          13.9009            7.3270   \n",
       "363 2020-06-25           75.0191          28.4810           22.4637   \n",
       "364 2020-01-28          100.0000           8.6565            0.7474   \n",
       "\n",
       "     min_rel_humidity  min_temperature  potential_water_deficit  \\\n",
       "0             56.4720          11.7913                  -3.6142   \n",
       "1             40.7666          -2.2436                  -1.4307   \n",
       "2             39.0330          -9.8654                  -0.9389   \n",
       "3             34.7544          -8.8446                  -1.4427   \n",
       "4             31.2553          -2.2774                  -1.2787   \n",
       "..                ...              ...                      ...   \n",
       "360           69.4000           4.0540                  -0.8344   \n",
       "361           23.0505          -7.4012                  -2.0879   \n",
       "362           26.1280           0.7531                  -3.9989   \n",
       "363           35.8970          16.4465                  -6.2345   \n",
       "364           45.1941          -7.1618                  -0.8509   \n",
       "\n",
       "     precipitation_data  wind_speed  \n",
       "0                0.0000      3.6461  \n",
       "1                0.0000      2.2398  \n",
       "2                0.0000      4.1230  \n",
       "3                0.0000      4.8531  \n",
       "4                0.0000      2.3404  \n",
       "..                  ...         ...  \n",
       "360              0.6096      6.1917  \n",
       "361              0.1006      7.3570  \n",
       "362              0.0221      3.9315  \n",
       "363              0.0884      3.7202  \n",
       "364              0.0282      1.9813  \n",
       "\n",
       "[365 rows x 9 columns]"
      ]
     },
     "execution_count": 88,
     "metadata": {},
     "output_type": "execute_result"
    }
   ],
   "source": [
    "X=data.drop(\"potential_water_deficit\",1)\n",
    "X = data.drop(\"date\",1)\n",
    "data"
   ]
  },
  {
   "cell_type": "code",
   "execution_count": 89,
   "id": "5f726985",
   "metadata": {
    "execution": {
     "iopub.execute_input": "2023-05-10T00:39:07.204384Z",
     "iopub.status.busy": "2023-05-10T00:39:07.204219Z",
     "iopub.status.idle": "2023-05-10T00:39:07.211418Z",
     "shell.execute_reply": "2023-05-10T00:39:07.211088Z"
    }
   },
   "outputs": [
    {
     "name": "stderr",
     "output_type": "stream",
     "text": [
      "/var/folders/l2/cnhff0_n1470l4xf0p7v7l_40000gn/T/ipykernel_15032/2437286576.py:1: FutureWarning: In a future version of pandas all arguments of DataFrame.drop except for the argument 'labels' will be keyword-only.\n",
      "  X=data.drop(\"potential_water_deficit\",1)\n",
      "/var/folders/l2/cnhff0_n1470l4xf0p7v7l_40000gn/T/ipykernel_15032/2437286576.py:2: FutureWarning: In a future version of pandas all arguments of DataFrame.drop except for the argument 'labels' will be keyword-only.\n",
      "  X = data.drop(\"date\",1)\n"
     ]
    },
    {
     "data": {
      "text/html": [
       "<div>\n",
       "<style scoped>\n",
       "    .dataframe tbody tr th:only-of-type {\n",
       "        vertical-align: middle;\n",
       "    }\n",
       "\n",
       "    .dataframe tbody tr th {\n",
       "        vertical-align: top;\n",
       "    }\n",
       "\n",
       "    .dataframe thead th {\n",
       "        text-align: right;\n",
       "    }\n",
       "</style>\n",
       "<table border=\"1\" class=\"dataframe\">\n",
       "  <thead>\n",
       "    <tr style=\"text-align: right;\">\n",
       "      <th></th>\n",
       "      <th>date</th>\n",
       "      <th>max_rel_humidity</th>\n",
       "      <th>max_temperature</th>\n",
       "      <th>mean_temperature</th>\n",
       "      <th>min_rel_humidity</th>\n",
       "      <th>min_temperature</th>\n",
       "      <th>potential_water_deficit</th>\n",
       "      <th>precipitation_data</th>\n",
       "      <th>wind_speed</th>\n",
       "    </tr>\n",
       "  </thead>\n",
       "  <tbody>\n",
       "    <tr>\n",
       "      <th>0</th>\n",
       "      <td>2019-09-04</td>\n",
       "      <td>99.9498</td>\n",
       "      <td>25.4570</td>\n",
       "      <td>18.6242</td>\n",
       "      <td>56.4720</td>\n",
       "      <td>11.7913</td>\n",
       "      <td>-3.6142</td>\n",
       "      <td>0.0</td>\n",
       "      <td>3.6461</td>\n",
       "    </tr>\n",
       "    <tr>\n",
       "      <th>1</th>\n",
       "      <td>2020-02-16</td>\n",
       "      <td>84.4966</td>\n",
       "      <td>8.6228</td>\n",
       "      <td>3.1896</td>\n",
       "      <td>40.7666</td>\n",
       "      <td>-2.2436</td>\n",
       "      <td>-1.4307</td>\n",
       "      <td>0.0</td>\n",
       "      <td>2.2398</td>\n",
       "    </tr>\n",
       "    <tr>\n",
       "      <th>2</th>\n",
       "      <td>2019-12-19</td>\n",
       "      <td>95.9017</td>\n",
       "      <td>2.8886</td>\n",
       "      <td>-3.4884</td>\n",
       "      <td>39.0330</td>\n",
       "      <td>-9.8654</td>\n",
       "      <td>-0.9389</td>\n",
       "      <td>0.0</td>\n",
       "      <td>4.1230</td>\n",
       "    </tr>\n",
       "    <tr>\n",
       "      <th>3</th>\n",
       "      <td>2020-02-20</td>\n",
       "      <td>70.0359</td>\n",
       "      <td>0.7939</td>\n",
       "      <td>-4.0254</td>\n",
       "      <td>34.7544</td>\n",
       "      <td>-8.8446</td>\n",
       "      <td>-1.4427</td>\n",
       "      <td>0.0</td>\n",
       "      <td>4.8531</td>\n",
       "    </tr>\n",
       "    <tr>\n",
       "      <th>4</th>\n",
       "      <td>2019-12-23</td>\n",
       "      <td>97.1634</td>\n",
       "      <td>13.8411</td>\n",
       "      <td>5.7818</td>\n",
       "      <td>31.2553</td>\n",
       "      <td>-2.2774</td>\n",
       "      <td>-1.2787</td>\n",
       "      <td>0.0</td>\n",
       "      <td>2.3404</td>\n",
       "    </tr>\n",
       "  </tbody>\n",
       "</table>\n",
       "</div>"
      ],
      "text/plain": [
       "        date  max_rel_humidity  max_temperature  mean_temperature  \\\n",
       "0 2019-09-04           99.9498          25.4570           18.6242   \n",
       "1 2020-02-16           84.4966           8.6228            3.1896   \n",
       "2 2019-12-19           95.9017           2.8886           -3.4884   \n",
       "3 2020-02-20           70.0359           0.7939           -4.0254   \n",
       "4 2019-12-23           97.1634          13.8411            5.7818   \n",
       "\n",
       "   min_rel_humidity  min_temperature  potential_water_deficit  \\\n",
       "0           56.4720          11.7913                  -3.6142   \n",
       "1           40.7666          -2.2436                  -1.4307   \n",
       "2           39.0330          -9.8654                  -0.9389   \n",
       "3           34.7544          -8.8446                  -1.4427   \n",
       "4           31.2553          -2.2774                  -1.2787   \n",
       "\n",
       "   precipitation_data  wind_speed  \n",
       "0                 0.0      3.6461  \n",
       "1                 0.0      2.2398  \n",
       "2                 0.0      4.1230  \n",
       "3                 0.0      4.8531  \n",
       "4                 0.0      2.3404  "
      ]
     },
     "execution_count": 89,
     "metadata": {},
     "output_type": "execute_result"
    }
   ],
   "source": [
    "X=data.drop(\"potential_water_deficit\",1)\n",
    "X = data.drop(\"date\",1)\n",
    "data.head()"
   ]
  },
  {
   "cell_type": "code",
   "execution_count": 90,
   "id": "c23fe490",
   "metadata": {
    "execution": {
     "iopub.execute_input": "2023-05-10T00:39:07.213150Z",
     "iopub.status.busy": "2023-05-10T00:39:07.213018Z",
     "iopub.status.idle": "2023-05-10T00:39:07.219477Z",
     "shell.execute_reply": "2023-05-10T00:39:07.219217Z"
    }
   },
   "outputs": [
    {
     "name": "stderr",
     "output_type": "stream",
     "text": [
      "/var/folders/l2/cnhff0_n1470l4xf0p7v7l_40000gn/T/ipykernel_15032/942062277.py:1: FutureWarning: In a future version of pandas all arguments of DataFrame.drop except for the argument 'labels' will be keyword-only.\n",
      "  X=data.drop(\"potential_water_deficit\",1)\n",
      "/var/folders/l2/cnhff0_n1470l4xf0p7v7l_40000gn/T/ipykernel_15032/942062277.py:2: FutureWarning: In a future version of pandas all arguments of DataFrame.drop except for the argument 'labels' will be keyword-only.\n",
      "  X=data.drop(\"date\",1)\n"
     ]
    },
    {
     "data": {
      "text/html": [
       "<div>\n",
       "<style scoped>\n",
       "    .dataframe tbody tr th:only-of-type {\n",
       "        vertical-align: middle;\n",
       "    }\n",
       "\n",
       "    .dataframe tbody tr th {\n",
       "        vertical-align: top;\n",
       "    }\n",
       "\n",
       "    .dataframe thead th {\n",
       "        text-align: right;\n",
       "    }\n",
       "</style>\n",
       "<table border=\"1\" class=\"dataframe\">\n",
       "  <thead>\n",
       "    <tr style=\"text-align: right;\">\n",
       "      <th></th>\n",
       "      <th>date</th>\n",
       "      <th>max_rel_humidity</th>\n",
       "      <th>max_temperature</th>\n",
       "      <th>mean_temperature</th>\n",
       "      <th>min_rel_humidity</th>\n",
       "      <th>min_temperature</th>\n",
       "      <th>potential_water_deficit</th>\n",
       "      <th>precipitation_data</th>\n",
       "      <th>wind_speed</th>\n",
       "    </tr>\n",
       "  </thead>\n",
       "  <tbody>\n",
       "    <tr>\n",
       "      <th>0</th>\n",
       "      <td>2019-09-04</td>\n",
       "      <td>99.9498</td>\n",
       "      <td>25.4570</td>\n",
       "      <td>18.6242</td>\n",
       "      <td>56.4720</td>\n",
       "      <td>11.7913</td>\n",
       "      <td>-3.6142</td>\n",
       "      <td>0.0</td>\n",
       "      <td>3.6461</td>\n",
       "    </tr>\n",
       "    <tr>\n",
       "      <th>1</th>\n",
       "      <td>2020-02-16</td>\n",
       "      <td>84.4966</td>\n",
       "      <td>8.6228</td>\n",
       "      <td>3.1896</td>\n",
       "      <td>40.7666</td>\n",
       "      <td>-2.2436</td>\n",
       "      <td>-1.4307</td>\n",
       "      <td>0.0</td>\n",
       "      <td>2.2398</td>\n",
       "    </tr>\n",
       "    <tr>\n",
       "      <th>2</th>\n",
       "      <td>2019-12-19</td>\n",
       "      <td>95.9017</td>\n",
       "      <td>2.8886</td>\n",
       "      <td>-3.4884</td>\n",
       "      <td>39.0330</td>\n",
       "      <td>-9.8654</td>\n",
       "      <td>-0.9389</td>\n",
       "      <td>0.0</td>\n",
       "      <td>4.1230</td>\n",
       "    </tr>\n",
       "    <tr>\n",
       "      <th>3</th>\n",
       "      <td>2020-02-20</td>\n",
       "      <td>70.0359</td>\n",
       "      <td>0.7939</td>\n",
       "      <td>-4.0254</td>\n",
       "      <td>34.7544</td>\n",
       "      <td>-8.8446</td>\n",
       "      <td>-1.4427</td>\n",
       "      <td>0.0</td>\n",
       "      <td>4.8531</td>\n",
       "    </tr>\n",
       "    <tr>\n",
       "      <th>4</th>\n",
       "      <td>2019-12-23</td>\n",
       "      <td>97.1634</td>\n",
       "      <td>13.8411</td>\n",
       "      <td>5.7818</td>\n",
       "      <td>31.2553</td>\n",
       "      <td>-2.2774</td>\n",
       "      <td>-1.2787</td>\n",
       "      <td>0.0</td>\n",
       "      <td>2.3404</td>\n",
       "    </tr>\n",
       "  </tbody>\n",
       "</table>\n",
       "</div>"
      ],
      "text/plain": [
       "        date  max_rel_humidity  max_temperature  mean_temperature  \\\n",
       "0 2019-09-04           99.9498          25.4570           18.6242   \n",
       "1 2020-02-16           84.4966           8.6228            3.1896   \n",
       "2 2019-12-19           95.9017           2.8886           -3.4884   \n",
       "3 2020-02-20           70.0359           0.7939           -4.0254   \n",
       "4 2019-12-23           97.1634          13.8411            5.7818   \n",
       "\n",
       "   min_rel_humidity  min_temperature  potential_water_deficit  \\\n",
       "0           56.4720          11.7913                  -3.6142   \n",
       "1           40.7666          -2.2436                  -1.4307   \n",
       "2           39.0330          -9.8654                  -0.9389   \n",
       "3           34.7544          -8.8446                  -1.4427   \n",
       "4           31.2553          -2.2774                  -1.2787   \n",
       "\n",
       "   precipitation_data  wind_speed  \n",
       "0                 0.0      3.6461  \n",
       "1                 0.0      2.2398  \n",
       "2                 0.0      4.1230  \n",
       "3                 0.0      4.8531  \n",
       "4                 0.0      2.3404  "
      ]
     },
     "execution_count": 90,
     "metadata": {},
     "output_type": "execute_result"
    }
   ],
   "source": [
    "X=data.drop(\"potential_water_deficit\",1)\n",
    "X=data.drop(\"date\",1)\n",
    "y=data[\"mean_temperature\"]\n",
    "data.head()"
   ]
  },
  {
   "cell_type": "code",
   "execution_count": 91,
   "id": "ae4a72a8",
   "metadata": {
    "execution": {
     "iopub.execute_input": "2023-05-10T00:39:07.221073Z",
     "iopub.status.busy": "2023-05-10T00:39:07.220956Z",
     "iopub.status.idle": "2023-05-10T00:39:07.226705Z",
     "shell.execute_reply": "2023-05-10T00:39:07.226430Z"
    }
   },
   "outputs": [
    {
     "name": "stderr",
     "output_type": "stream",
     "text": [
      "/var/folders/l2/cnhff0_n1470l4xf0p7v7l_40000gn/T/ipykernel_15032/942062277.py:1: FutureWarning: In a future version of pandas all arguments of DataFrame.drop except for the argument 'labels' will be keyword-only.\n",
      "  X=data.drop(\"potential_water_deficit\",1)\n",
      "/var/folders/l2/cnhff0_n1470l4xf0p7v7l_40000gn/T/ipykernel_15032/942062277.py:2: FutureWarning: In a future version of pandas all arguments of DataFrame.drop except for the argument 'labels' will be keyword-only.\n",
      "  X=data.drop(\"date\",1)\n"
     ]
    },
    {
     "data": {
      "text/html": [
       "<div>\n",
       "<style scoped>\n",
       "    .dataframe tbody tr th:only-of-type {\n",
       "        vertical-align: middle;\n",
       "    }\n",
       "\n",
       "    .dataframe tbody tr th {\n",
       "        vertical-align: top;\n",
       "    }\n",
       "\n",
       "    .dataframe thead th {\n",
       "        text-align: right;\n",
       "    }\n",
       "</style>\n",
       "<table border=\"1\" class=\"dataframe\">\n",
       "  <thead>\n",
       "    <tr style=\"text-align: right;\">\n",
       "      <th></th>\n",
       "      <th>date</th>\n",
       "      <th>max_rel_humidity</th>\n",
       "      <th>max_temperature</th>\n",
       "      <th>mean_temperature</th>\n",
       "      <th>min_rel_humidity</th>\n",
       "      <th>min_temperature</th>\n",
       "      <th>potential_water_deficit</th>\n",
       "      <th>precipitation_data</th>\n",
       "      <th>wind_speed</th>\n",
       "    </tr>\n",
       "  </thead>\n",
       "  <tbody>\n",
       "    <tr>\n",
       "      <th>0</th>\n",
       "      <td>2019-09-04</td>\n",
       "      <td>99.9498</td>\n",
       "      <td>25.4570</td>\n",
       "      <td>18.6242</td>\n",
       "      <td>56.4720</td>\n",
       "      <td>11.7913</td>\n",
       "      <td>-3.6142</td>\n",
       "      <td>0.0</td>\n",
       "      <td>3.6461</td>\n",
       "    </tr>\n",
       "    <tr>\n",
       "      <th>1</th>\n",
       "      <td>2020-02-16</td>\n",
       "      <td>84.4966</td>\n",
       "      <td>8.6228</td>\n",
       "      <td>3.1896</td>\n",
       "      <td>40.7666</td>\n",
       "      <td>-2.2436</td>\n",
       "      <td>-1.4307</td>\n",
       "      <td>0.0</td>\n",
       "      <td>2.2398</td>\n",
       "    </tr>\n",
       "    <tr>\n",
       "      <th>2</th>\n",
       "      <td>2019-12-19</td>\n",
       "      <td>95.9017</td>\n",
       "      <td>2.8886</td>\n",
       "      <td>-3.4884</td>\n",
       "      <td>39.0330</td>\n",
       "      <td>-9.8654</td>\n",
       "      <td>-0.9389</td>\n",
       "      <td>0.0</td>\n",
       "      <td>4.1230</td>\n",
       "    </tr>\n",
       "    <tr>\n",
       "      <th>3</th>\n",
       "      <td>2020-02-20</td>\n",
       "      <td>70.0359</td>\n",
       "      <td>0.7939</td>\n",
       "      <td>-4.0254</td>\n",
       "      <td>34.7544</td>\n",
       "      <td>-8.8446</td>\n",
       "      <td>-1.4427</td>\n",
       "      <td>0.0</td>\n",
       "      <td>4.8531</td>\n",
       "    </tr>\n",
       "    <tr>\n",
       "      <th>4</th>\n",
       "      <td>2019-12-23</td>\n",
       "      <td>97.1634</td>\n",
       "      <td>13.8411</td>\n",
       "      <td>5.7818</td>\n",
       "      <td>31.2553</td>\n",
       "      <td>-2.2774</td>\n",
       "      <td>-1.2787</td>\n",
       "      <td>0.0</td>\n",
       "      <td>2.3404</td>\n",
       "    </tr>\n",
       "  </tbody>\n",
       "</table>\n",
       "</div>"
      ],
      "text/plain": [
       "        date  max_rel_humidity  max_temperature  mean_temperature  \\\n",
       "0 2019-09-04           99.9498          25.4570           18.6242   \n",
       "1 2020-02-16           84.4966           8.6228            3.1896   \n",
       "2 2019-12-19           95.9017           2.8886           -3.4884   \n",
       "3 2020-02-20           70.0359           0.7939           -4.0254   \n",
       "4 2019-12-23           97.1634          13.8411            5.7818   \n",
       "\n",
       "   min_rel_humidity  min_temperature  potential_water_deficit  \\\n",
       "0           56.4720          11.7913                  -3.6142   \n",
       "1           40.7666          -2.2436                  -1.4307   \n",
       "2           39.0330          -9.8654                  -0.9389   \n",
       "3           34.7544          -8.8446                  -1.4427   \n",
       "4           31.2553          -2.2774                  -1.2787   \n",
       "\n",
       "   precipitation_data  wind_speed  \n",
       "0                 0.0      3.6461  \n",
       "1                 0.0      2.2398  \n",
       "2                 0.0      4.1230  \n",
       "3                 0.0      4.8531  \n",
       "4                 0.0      2.3404  "
      ]
     },
     "execution_count": 91,
     "metadata": {},
     "output_type": "execute_result"
    }
   ],
   "source": [
    "X=data.drop(\"potential_water_deficit\",1)\n",
    "X=data.drop(\"date\",1)\n",
    "y=data[\"mean_temperature\"]\n",
    "data.head()"
   ]
  },
  {
   "cell_type": "code",
   "execution_count": 92,
   "id": "8a9e6ccf",
   "metadata": {
    "execution": {
     "iopub.execute_input": "2023-05-10T00:39:07.228215Z",
     "iopub.status.busy": "2023-05-10T00:39:07.228096Z",
     "iopub.status.idle": "2023-05-10T00:39:07.520940Z",
     "shell.execute_reply": "2023-05-10T00:39:07.520655Z"
    }
   },
   "outputs": [
    {
     "name": "stderr",
     "output_type": "stream",
     "text": [
      "/var/folders/l2/cnhff0_n1470l4xf0p7v7l_40000gn/T/ipykernel_15032/3188068582.py:2: FutureWarning: The default value of numeric_only in DataFrame.corr is deprecated. In a future version, it will default to False. Select only valid columns or specify the value of numeric_only to silence this warning.\n",
      "  cor = data.corr()\n"
     ]
    },
    {
     "data": {
      "image/png": "[encoded data removed]",
      "text/plain": [
       "<Figure size 1200x1000 with 2 Axes>"
      ]
     },
     "metadata": {},
     "output_type": "display_data"
    }
   ],
   "source": [
    "plt.figure(figsize=(12,10))\n",
    "cor = data.corr()\n",
    "sns.heatmap(cor, annot=True, cmap=plt.cm.Reds)\n",
    "plt.show()"
   ]
  },
  {
   "cell_type": "code",
   "execution_count": 93,
   "id": "2ac61e85",
   "metadata": {
    "execution": {
     "iopub.execute_input": "2023-05-10T00:39:07.522636Z",
     "iopub.status.busy": "2023-05-10T00:39:07.522530Z",
     "iopub.status.idle": "2023-05-10T00:39:07.683749Z",
     "shell.execute_reply": "2023-05-10T00:39:07.683387Z"
    }
   },
   "outputs": [
    {
     "name": "stderr",
     "output_type": "stream",
     "text": [
      "/var/folders/l2/cnhff0_n1470l4xf0p7v7l_40000gn/T/ipykernel_15032/2348797851.py:2: FutureWarning: The default value of numeric_only in DataFrame.corr is deprecated. In a future version, it will default to False. Select only valid columns or specify the value of numeric_only to silence this warning.\n",
      "  cor = data.corr()\n"
     ]
    },
    {
     "data": {
      "image/png": "[encoded data removed]",
      "text/plain": [
       "<Figure size 1000x1000 with 2 Axes>"
      ]
     },
     "metadata": {},
     "output_type": "display_data"
    }
   ],
   "source": [
    "plt.figure(figsize=(10,10))\n",
    "cor = data.corr()\n",
    "sns.heatmap(cor, annot=True, cmap=plt.cm.Reds)\n",
    "plt.show()"
   ]
  },
  {
   "cell_type": "code",
   "execution_count": 94,
   "id": "c903b87a",
   "metadata": {
    "execution": {
     "iopub.execute_input": "2023-05-10T00:39:07.685600Z",
     "iopub.status.busy": "2023-05-10T00:39:07.685477Z",
     "iopub.status.idle": "2023-05-10T00:39:07.834472Z",
     "shell.execute_reply": "2023-05-10T00:39:07.834141Z"
    }
   },
   "outputs": [
    {
     "name": "stderr",
     "output_type": "stream",
     "text": [
      "/var/folders/l2/cnhff0_n1470l4xf0p7v7l_40000gn/T/ipykernel_15032/1820900750.py:2: FutureWarning: The default value of numeric_only in DataFrame.corr is deprecated. In a future version, it will default to False. Select only valid columns or specify the value of numeric_only to silence this warning.\n",
      "  cor = data.corr()\n"
     ]
    },
    {
     "data": {
      "image/png": "[encoded data removed]",
      "text/plain": [
       "<Figure size 800x800 with 2 Axes>"
      ]
     },
     "metadata": {},
     "output_type": "display_data"
    }
   ],
   "source": [
    "plt.figure(figsize=(8,8))\n",
    "cor = data.corr()\n",
    "sns.heatmap(cor, annot=True, cmap=plt.cm.Reds)\n",
    "plt.show()"
   ]
  },
  {
   "cell_type": "code",
   "execution_count": 95,
   "id": "7c50d369",
   "metadata": {
    "execution": {
     "iopub.execute_input": "2023-05-10T00:39:07.836015Z",
     "iopub.status.busy": "2023-05-10T00:39:07.835900Z",
     "iopub.status.idle": "2023-05-10T00:39:07.843556Z",
     "shell.execute_reply": "2023-05-10T00:39:07.843273Z"
    }
   },
   "outputs": [
    {
     "name": "stdout",
     "output_type": "stream",
     "text": [
      "     max_rel_humidity  max_temperature  mean_temperature  min_rel_humidity  \\\n",
      "0             99.9498          25.4570           18.6242           56.4720   \n",
      "1             84.4966           8.6228            3.1896           40.7666   \n",
      "2             95.9017           2.8886           -3.4884           39.0330   \n",
      "3             70.0359           0.7939           -4.0254           34.7544   \n",
      "4             97.1634          13.8411            5.7818           31.2553   \n",
      "..                ...              ...               ...               ...   \n",
      "360           96.2771          10.2888            7.1714           69.4000   \n",
      "361           52.0808           3.7231           -1.8390           23.0505   \n",
      "362           65.8581          13.9009            7.3270           26.1280   \n",
      "363           75.0191          28.4810           22.4637           35.8970   \n",
      "364          100.0000           8.6565            0.7474           45.1941   \n",
      "\n",
      "     min_temperature  potential_water_deficit  precipitation_data  wind_speed  \n",
      "0            11.7913                  -3.6142              0.0000      3.6461  \n",
      "1            -2.2436                  -1.4307              0.0000      2.2398  \n",
      "2            -9.8654                  -0.9389              0.0000      4.1230  \n",
      "3            -8.8446                  -1.4427              0.0000      4.8531  \n",
      "4            -2.2774                  -1.2787              0.0000      2.3404  \n",
      "..               ...                      ...                 ...         ...  \n",
      "360           4.0540                  -0.8344              0.6096      6.1917  \n",
      "361          -7.4012                  -2.0879              0.1006      7.3570  \n",
      "362           0.7531                  -3.9989              0.0221      3.9315  \n",
      "363          16.4465                  -6.2345              0.0884      3.7202  \n",
      "364          -7.1618                  -0.8509              0.0282      1.9813  \n",
      "\n",
      "[365 rows x 8 columns]\n"
     ]
    },
    {
     "name": "stderr",
     "output_type": "stream",
     "text": [
      "/var/folders/l2/cnhff0_n1470l4xf0p7v7l_40000gn/T/ipykernel_15032/4111537985.py:1: FutureWarning: In a future version of pandas all arguments of DataFrame.drop except for the argument 'labels' will be keyword-only.\n",
      "  X=data.drop(\"potential_water_deficit\",1)\n",
      "/var/folders/l2/cnhff0_n1470l4xf0p7v7l_40000gn/T/ipykernel_15032/4111537985.py:2: FutureWarning: In a future version of pandas all arguments of DataFrame.drop except for the argument 'labels' will be keyword-only.\n",
      "  X=data.drop(\"date\",1)\n"
     ]
    },
    {
     "data": {
      "text/html": [
       "<div>\n",
       "<style scoped>\n",
       "    .dataframe tbody tr th:only-of-type {\n",
       "        vertical-align: middle;\n",
       "    }\n",
       "\n",
       "    .dataframe tbody tr th {\n",
       "        vertical-align: top;\n",
       "    }\n",
       "\n",
       "    .dataframe thead th {\n",
       "        text-align: right;\n",
       "    }\n",
       "</style>\n",
       "<table border=\"1\" class=\"dataframe\">\n",
       "  <thead>\n",
       "    <tr style=\"text-align: right;\">\n",
       "      <th></th>\n",
       "      <th>date</th>\n",
       "      <th>max_rel_humidity</th>\n",
       "      <th>max_temperature</th>\n",
       "      <th>mean_temperature</th>\n",
       "      <th>min_rel_humidity</th>\n",
       "      <th>min_temperature</th>\n",
       "      <th>potential_water_deficit</th>\n",
       "      <th>precipitation_data</th>\n",
       "      <th>wind_speed</th>\n",
       "    </tr>\n",
       "  </thead>\n",
       "  <tbody>\n",
       "    <tr>\n",
       "      <th>0</th>\n",
       "      <td>2019-09-04</td>\n",
       "      <td>99.9498</td>\n",
       "      <td>25.4570</td>\n",
       "      <td>18.6242</td>\n",
       "      <td>56.4720</td>\n",
       "      <td>11.7913</td>\n",
       "      <td>-3.6142</td>\n",
       "      <td>0.0</td>\n",
       "      <td>3.6461</td>\n",
       "    </tr>\n",
       "    <tr>\n",
       "      <th>1</th>\n",
       "      <td>2020-02-16</td>\n",
       "      <td>84.4966</td>\n",
       "      <td>8.6228</td>\n",
       "      <td>3.1896</td>\n",
       "      <td>40.7666</td>\n",
       "      <td>-2.2436</td>\n",
       "      <td>-1.4307</td>\n",
       "      <td>0.0</td>\n",
       "      <td>2.2398</td>\n",
       "    </tr>\n",
       "    <tr>\n",
       "      <th>2</th>\n",
       "      <td>2019-12-19</td>\n",
       "      <td>95.9017</td>\n",
       "      <td>2.8886</td>\n",
       "      <td>-3.4884</td>\n",
       "      <td>39.0330</td>\n",
       "      <td>-9.8654</td>\n",
       "      <td>-0.9389</td>\n",
       "      <td>0.0</td>\n",
       "      <td>4.1230</td>\n",
       "    </tr>\n",
       "    <tr>\n",
       "      <th>3</th>\n",
       "      <td>2020-02-20</td>\n",
       "      <td>70.0359</td>\n",
       "      <td>0.7939</td>\n",
       "      <td>-4.0254</td>\n",
       "      <td>34.7544</td>\n",
       "      <td>-8.8446</td>\n",
       "      <td>-1.4427</td>\n",
       "      <td>0.0</td>\n",
       "      <td>4.8531</td>\n",
       "    </tr>\n",
       "    <tr>\n",
       "      <th>4</th>\n",
       "      <td>2019-12-23</td>\n",
       "      <td>97.1634</td>\n",
       "      <td>13.8411</td>\n",
       "      <td>5.7818</td>\n",
       "      <td>31.2553</td>\n",
       "      <td>-2.2774</td>\n",
       "      <td>-1.2787</td>\n",
       "      <td>0.0</td>\n",
       "      <td>2.3404</td>\n",
       "    </tr>\n",
       "  </tbody>\n",
       "</table>\n",
       "</div>"
      ],
      "text/plain": [
       "        date  max_rel_humidity  max_temperature  mean_temperature  \\\n",
       "0 2019-09-04           99.9498          25.4570           18.6242   \n",
       "1 2020-02-16           84.4966           8.6228            3.1896   \n",
       "2 2019-12-19           95.9017           2.8886           -3.4884   \n",
       "3 2020-02-20           70.0359           0.7939           -4.0254   \n",
       "4 2019-12-23           97.1634          13.8411            5.7818   \n",
       "\n",
       "   min_rel_humidity  min_temperature  potential_water_deficit  \\\n",
       "0           56.4720          11.7913                  -3.6142   \n",
       "1           40.7666          -2.2436                  -1.4307   \n",
       "2           39.0330          -9.8654                  -0.9389   \n",
       "3           34.7544          -8.8446                  -1.4427   \n",
       "4           31.2553          -2.2774                  -1.2787   \n",
       "\n",
       "   precipitation_data  wind_speed  \n",
       "0                 0.0      3.6461  \n",
       "1                 0.0      2.2398  \n",
       "2                 0.0      4.1230  \n",
       "3                 0.0      4.8531  \n",
       "4                 0.0      2.3404  "
      ]
     },
     "execution_count": 95,
     "metadata": {},
     "output_type": "execute_result"
    }
   ],
   "source": [
    "X=data.drop(\"potential_water_deficit\",1)\n",
    "X=data.drop(\"date\",1)\n",
    "y=data[\"mean_temperature\"]\n",
    "print(X)\n",
    "data.head()"
   ]
  },
  {
   "cell_type": "code",
   "execution_count": 96,
   "id": "bd8a0ed6",
   "metadata": {
    "execution": {
     "iopub.execute_input": "2023-05-10T00:39:07.845345Z",
     "iopub.status.busy": "2023-05-10T00:39:07.845241Z",
     "iopub.status.idle": "2023-05-10T00:39:07.849548Z",
     "shell.execute_reply": "2023-05-10T00:39:07.849260Z"
    }
   },
   "outputs": [
    {
     "name": "stdout",
     "output_type": "stream",
     "text": [
      "     max_rel_humidity  max_temperature  mean_temperature  min_rel_humidity  \\\n",
      "0             99.9498          25.4570           18.6242           56.4720   \n",
      "1             84.4966           8.6228            3.1896           40.7666   \n",
      "2             95.9017           2.8886           -3.4884           39.0330   \n",
      "3             70.0359           0.7939           -4.0254           34.7544   \n",
      "4             97.1634          13.8411            5.7818           31.2553   \n",
      "..                ...              ...               ...               ...   \n",
      "360           96.2771          10.2888            7.1714           69.4000   \n",
      "361           52.0808           3.7231           -1.8390           23.0505   \n",
      "362           65.8581          13.9009            7.3270           26.1280   \n",
      "363           75.0191          28.4810           22.4637           35.8970   \n",
      "364          100.0000           8.6565            0.7474           45.1941   \n",
      "\n",
      "     min_temperature  potential_water_deficit  precipitation_data  wind_speed  \n",
      "0            11.7913                  -3.6142              0.0000      3.6461  \n",
      "1            -2.2436                  -1.4307              0.0000      2.2398  \n",
      "2            -9.8654                  -0.9389              0.0000      4.1230  \n",
      "3            -8.8446                  -1.4427              0.0000      4.8531  \n",
      "4            -2.2774                  -1.2787              0.0000      2.3404  \n",
      "..               ...                      ...                 ...         ...  \n",
      "360           4.0540                  -0.8344              0.6096      6.1917  \n",
      "361          -7.4012                  -2.0879              0.1006      7.3570  \n",
      "362           0.7531                  -3.9989              0.0221      3.9315  \n",
      "363          16.4465                  -6.2345              0.0884      3.7202  \n",
      "364          -7.1618                  -0.8509              0.0282      1.9813  \n",
      "\n",
      "[365 rows x 8 columns]\n"
     ]
    },
    {
     "name": "stderr",
     "output_type": "stream",
     "text": [
      "/var/folders/l2/cnhff0_n1470l4xf0p7v7l_40000gn/T/ipykernel_15032/2296298847.py:1: FutureWarning: In a future version of pandas all arguments of DataFrame.drop except for the argument 'labels' will be keyword-only.\n",
      "  X=data.drop(\"potential_water_deficit\",1)\n",
      "/var/folders/l2/cnhff0_n1470l4xf0p7v7l_40000gn/T/ipykernel_15032/2296298847.py:2: FutureWarning: In a future version of pandas all arguments of DataFrame.drop except for the argument 'labels' will be keyword-only.\n",
      "  X=data.drop(\"date\",1)\n"
     ]
    }
   ],
   "source": [
    "X=data.drop(\"potential_water_deficit\",1)\n",
    "X=data.drop(\"date\",1)\n",
    "y=data[\"mean_temperature\"]\n",
    "print(X)\n",
    "# data.head()"
   ]
  },
  {
   "cell_type": "code",
   "execution_count": 97,
   "id": "3d325fe2",
   "metadata": {
    "execution": {
     "iopub.execute_input": "2023-05-10T00:39:07.851052Z",
     "iopub.status.busy": "2023-05-10T00:39:07.850965Z",
     "iopub.status.idle": "2023-05-10T00:39:07.857392Z",
     "shell.execute_reply": "2023-05-10T00:39:07.857115Z"
    }
   },
   "outputs": [
    {
     "name": "stderr",
     "output_type": "stream",
     "text": [
      "/var/folders/l2/cnhff0_n1470l4xf0p7v7l_40000gn/T/ipykernel_15032/506964356.py:1: FutureWarning: In a future version of pandas all arguments of DataFrame.drop except for the argument 'labels' will be keyword-only.\n",
      "  X=data.drop(\"potential_water_deficit\",1)\n",
      "/var/folders/l2/cnhff0_n1470l4xf0p7v7l_40000gn/T/ipykernel_15032/506964356.py:2: FutureWarning: In a future version of pandas all arguments of DataFrame.drop except for the argument 'labels' will be keyword-only.\n",
      "  X=data.drop(\"date\",1)\n"
     ]
    },
    {
     "data": {
      "text/html": [
       "<div>\n",
       "<style scoped>\n",
       "    .dataframe tbody tr th:only-of-type {\n",
       "        vertical-align: middle;\n",
       "    }\n",
       "\n",
       "    .dataframe tbody tr th {\n",
       "        vertical-align: top;\n",
       "    }\n",
       "\n",
       "    .dataframe thead th {\n",
       "        text-align: right;\n",
       "    }\n",
       "</style>\n",
       "<table border=\"1\" class=\"dataframe\">\n",
       "  <thead>\n",
       "    <tr style=\"text-align: right;\">\n",
       "      <th></th>\n",
       "      <th>max_rel_humidity</th>\n",
       "      <th>max_temperature</th>\n",
       "      <th>mean_temperature</th>\n",
       "      <th>min_rel_humidity</th>\n",
       "      <th>min_temperature</th>\n",
       "      <th>potential_water_deficit</th>\n",
       "      <th>precipitation_data</th>\n",
       "      <th>wind_speed</th>\n",
       "    </tr>\n",
       "  </thead>\n",
       "  <tbody>\n",
       "    <tr>\n",
       "      <th>0</th>\n",
       "      <td>99.9498</td>\n",
       "      <td>25.4570</td>\n",
       "      <td>18.6242</td>\n",
       "      <td>56.4720</td>\n",
       "      <td>11.7913</td>\n",
       "      <td>-3.6142</td>\n",
       "      <td>0.0000</td>\n",
       "      <td>3.6461</td>\n",
       "    </tr>\n",
       "    <tr>\n",
       "      <th>1</th>\n",
       "      <td>84.4966</td>\n",
       "      <td>8.6228</td>\n",
       "      <td>3.1896</td>\n",
       "      <td>40.7666</td>\n",
       "      <td>-2.2436</td>\n",
       "      <td>-1.4307</td>\n",
       "      <td>0.0000</td>\n",
       "      <td>2.2398</td>\n",
       "    </tr>\n",
       "    <tr>\n",
       "      <th>2</th>\n",
       "      <td>95.9017</td>\n",
       "      <td>2.8886</td>\n",
       "      <td>-3.4884</td>\n",
       "      <td>39.0330</td>\n",
       "      <td>-9.8654</td>\n",
       "      <td>-0.9389</td>\n",
       "      <td>0.0000</td>\n",
       "      <td>4.1230</td>\n",
       "    </tr>\n",
       "    <tr>\n",
       "      <th>3</th>\n",
       "      <td>70.0359</td>\n",
       "      <td>0.7939</td>\n",
       "      <td>-4.0254</td>\n",
       "      <td>34.7544</td>\n",
       "      <td>-8.8446</td>\n",
       "      <td>-1.4427</td>\n",
       "      <td>0.0000</td>\n",
       "      <td>4.8531</td>\n",
       "    </tr>\n",
       "    <tr>\n",
       "      <th>4</th>\n",
       "      <td>97.1634</td>\n",
       "      <td>13.8411</td>\n",
       "      <td>5.7818</td>\n",
       "      <td>31.2553</td>\n",
       "      <td>-2.2774</td>\n",
       "      <td>-1.2787</td>\n",
       "      <td>0.0000</td>\n",
       "      <td>2.3404</td>\n",
       "    </tr>\n",
       "    <tr>\n",
       "      <th>...</th>\n",
       "      <td>...</td>\n",
       "      <td>...</td>\n",
       "      <td>...</td>\n",
       "      <td>...</td>\n",
       "      <td>...</td>\n",
       "      <td>...</td>\n",
       "      <td>...</td>\n",
       "      <td>...</td>\n",
       "    </tr>\n",
       "    <tr>\n",
       "      <th>360</th>\n",
       "      <td>96.2771</td>\n",
       "      <td>10.2888</td>\n",
       "      <td>7.1714</td>\n",
       "      <td>69.4000</td>\n",
       "      <td>4.0540</td>\n",
       "      <td>-0.8344</td>\n",
       "      <td>0.6096</td>\n",
       "      <td>6.1917</td>\n",
       "    </tr>\n",
       "    <tr>\n",
       "      <th>361</th>\n",
       "      <td>52.0808</td>\n",
       "      <td>3.7231</td>\n",
       "      <td>-1.8390</td>\n",
       "      <td>23.0505</td>\n",
       "      <td>-7.4012</td>\n",
       "      <td>-2.0879</td>\n",
       "      <td>0.1006</td>\n",
       "      <td>7.3570</td>\n",
       "    </tr>\n",
       "    <tr>\n",
       "      <th>362</th>\n",
       "      <td>65.8581</td>\n",
       "      <td>13.9009</td>\n",
       "      <td>7.3270</td>\n",
       "      <td>26.1280</td>\n",
       "      <td>0.7531</td>\n",
       "      <td>-3.9989</td>\n",
       "      <td>0.0221</td>\n",
       "      <td>3.9315</td>\n",
       "    </tr>\n",
       "    <tr>\n",
       "      <th>363</th>\n",
       "      <td>75.0191</td>\n",
       "      <td>28.4810</td>\n",
       "      <td>22.4637</td>\n",
       "      <td>35.8970</td>\n",
       "      <td>16.4465</td>\n",
       "      <td>-6.2345</td>\n",
       "      <td>0.0884</td>\n",
       "      <td>3.7202</td>\n",
       "    </tr>\n",
       "    <tr>\n",
       "      <th>364</th>\n",
       "      <td>100.0000</td>\n",
       "      <td>8.6565</td>\n",
       "      <td>0.7474</td>\n",
       "      <td>45.1941</td>\n",
       "      <td>-7.1618</td>\n",
       "      <td>-0.8509</td>\n",
       "      <td>0.0282</td>\n",
       "      <td>1.9813</td>\n",
       "    </tr>\n",
       "  </tbody>\n",
       "</table>\n",
       "<p>365 rows × 8 columns</p>\n",
       "</div>"
      ],
      "text/plain": [
       "     max_rel_humidity  max_temperature  mean_temperature  min_rel_humidity  \\\n",
       "0             99.9498          25.4570           18.6242           56.4720   \n",
       "1             84.4966           8.6228            3.1896           40.7666   \n",
       "2             95.9017           2.8886           -3.4884           39.0330   \n",
       "3             70.0359           0.7939           -4.0254           34.7544   \n",
       "4             97.1634          13.8411            5.7818           31.2553   \n",
       "..                ...              ...               ...               ...   \n",
       "360           96.2771          10.2888            7.1714           69.4000   \n",
       "361           52.0808           3.7231           -1.8390           23.0505   \n",
       "362           65.8581          13.9009            7.3270           26.1280   \n",
       "363           75.0191          28.4810           22.4637           35.8970   \n",
       "364          100.0000           8.6565            0.7474           45.1941   \n",
       "\n",
       "     min_temperature  potential_water_deficit  precipitation_data  wind_speed  \n",
       "0            11.7913                  -3.6142              0.0000      3.6461  \n",
       "1            -2.2436                  -1.4307              0.0000      2.2398  \n",
       "2            -9.8654                  -0.9389              0.0000      4.1230  \n",
       "3            -8.8446                  -1.4427              0.0000      4.8531  \n",
       "4            -2.2774                  -1.2787              0.0000      2.3404  \n",
       "..               ...                      ...                 ...         ...  \n",
       "360           4.0540                  -0.8344              0.6096      6.1917  \n",
       "361          -7.4012                  -2.0879              0.1006      7.3570  \n",
       "362           0.7531                  -3.9989              0.0221      3.9315  \n",
       "363          16.4465                  -6.2345              0.0884      3.7202  \n",
       "364          -7.1618                  -0.8509              0.0282      1.9813  \n",
       "\n",
       "[365 rows x 8 columns]"
      ]
     },
     "execution_count": 97,
     "metadata": {},
     "output_type": "execute_result"
    }
   ],
   "source": [
    "X=data.drop(\"potential_water_deficit\",1)\n",
    "X=data.drop(\"date\",1)\n",
    "y=data[\"mean_temperature\"]\n",
    "X\n",
    "# data.head()"
   ]
  },
  {
   "cell_type": "code",
   "execution_count": 98,
   "id": "b6f7c202",
   "metadata": {
    "execution": {
     "iopub.execute_input": "2023-05-10T00:39:07.858967Z",
     "iopub.status.busy": "2023-05-10T00:39:07.858853Z",
     "iopub.status.idle": "2023-05-10T00:39:07.862261Z",
     "shell.execute_reply": "2023-05-10T00:39:07.862003Z"
    }
   },
   "outputs": [
    {
     "name": "stderr",
     "output_type": "stream",
     "text": [
      "/var/folders/l2/cnhff0_n1470l4xf0p7v7l_40000gn/T/ipykernel_15032/1981958909.py:1: FutureWarning: In a future version of pandas all arguments of DataFrame.drop except for the argument 'labels' will be keyword-only.\n",
      "  X=data.drop(\"potential_water_deficit\",1)\n",
      "/var/folders/l2/cnhff0_n1470l4xf0p7v7l_40000gn/T/ipykernel_15032/1981958909.py:2: FutureWarning: In a future version of pandas all arguments of DataFrame.drop except for the argument 'labels' will be keyword-only.\n",
      "  X=data.drop(\"date\",1)\n"
     ]
    },
    {
     "data": {
      "text/plain": [
       "0      18.6242\n",
       "1       3.1896\n",
       "2      -3.4884\n",
       "3      -4.0254\n",
       "4       5.7818\n",
       "        ...   \n",
       "360     7.1714\n",
       "361    -1.8390\n",
       "362     7.3270\n",
       "363    22.4637\n",
       "364     0.7474\n",
       "Name: mean_temperature, Length: 365, dtype: float64"
      ]
     },
     "execution_count": 98,
     "metadata": {},
     "output_type": "execute_result"
    }
   ],
   "source": [
    "X=data.drop(\"potential_water_deficit\",1)\n",
    "X=data.drop(\"date\",1)\n",
    "y=data[\"mean_temperature\"]\n",
    "y\n",
    "# data.head()"
   ]
  },
  {
   "cell_type": "code",
   "execution_count": 99,
   "id": "069c796d",
   "metadata": {
    "execution": {
     "iopub.execute_input": "2023-05-10T00:39:07.863705Z",
     "iopub.status.busy": "2023-05-10T00:39:07.863620Z",
     "iopub.status.idle": "2023-05-10T00:39:07.869902Z",
     "shell.execute_reply": "2023-05-10T00:39:07.869639Z"
    }
   },
   "outputs": [
    {
     "name": "stderr",
     "output_type": "stream",
     "text": [
      "/var/folders/l2/cnhff0_n1470l4xf0p7v7l_40000gn/T/ipykernel_15032/506964356.py:1: FutureWarning: In a future version of pandas all arguments of DataFrame.drop except for the argument 'labels' will be keyword-only.\n",
      "  X=data.drop(\"potential_water_deficit\",1)\n",
      "/var/folders/l2/cnhff0_n1470l4xf0p7v7l_40000gn/T/ipykernel_15032/506964356.py:2: FutureWarning: In a future version of pandas all arguments of DataFrame.drop except for the argument 'labels' will be keyword-only.\n",
      "  X=data.drop(\"date\",1)\n"
     ]
    },
    {
     "data": {
      "text/html": [
       "<div>\n",
       "<style scoped>\n",
       "    .dataframe tbody tr th:only-of-type {\n",
       "        vertical-align: middle;\n",
       "    }\n",
       "\n",
       "    .dataframe tbody tr th {\n",
       "        vertical-align: top;\n",
       "    }\n",
       "\n",
       "    .dataframe thead th {\n",
       "        text-align: right;\n",
       "    }\n",
       "</style>\n",
       "<table border=\"1\" class=\"dataframe\">\n",
       "  <thead>\n",
       "    <tr style=\"text-align: right;\">\n",
       "      <th></th>\n",
       "      <th>max_rel_humidity</th>\n",
       "      <th>max_temperature</th>\n",
       "      <th>mean_temperature</th>\n",
       "      <th>min_rel_humidity</th>\n",
       "      <th>min_temperature</th>\n",
       "      <th>potential_water_deficit</th>\n",
       "      <th>precipitation_data</th>\n",
       "      <th>wind_speed</th>\n",
       "    </tr>\n",
       "  </thead>\n",
       "  <tbody>\n",
       "    <tr>\n",
       "      <th>0</th>\n",
       "      <td>99.9498</td>\n",
       "      <td>25.4570</td>\n",
       "      <td>18.6242</td>\n",
       "      <td>56.4720</td>\n",
       "      <td>11.7913</td>\n",
       "      <td>-3.6142</td>\n",
       "      <td>0.0000</td>\n",
       "      <td>3.6461</td>\n",
       "    </tr>\n",
       "    <tr>\n",
       "      <th>1</th>\n",
       "      <td>84.4966</td>\n",
       "      <td>8.6228</td>\n",
       "      <td>3.1896</td>\n",
       "      <td>40.7666</td>\n",
       "      <td>-2.2436</td>\n",
       "      <td>-1.4307</td>\n",
       "      <td>0.0000</td>\n",
       "      <td>2.2398</td>\n",
       "    </tr>\n",
       "    <tr>\n",
       "      <th>2</th>\n",
       "      <td>95.9017</td>\n",
       "      <td>2.8886</td>\n",
       "      <td>-3.4884</td>\n",
       "      <td>39.0330</td>\n",
       "      <td>-9.8654</td>\n",
       "      <td>-0.9389</td>\n",
       "      <td>0.0000</td>\n",
       "      <td>4.1230</td>\n",
       "    </tr>\n",
       "    <tr>\n",
       "      <th>3</th>\n",
       "      <td>70.0359</td>\n",
       "      <td>0.7939</td>\n",
       "      <td>-4.0254</td>\n",
       "      <td>34.7544</td>\n",
       "      <td>-8.8446</td>\n",
       "      <td>-1.4427</td>\n",
       "      <td>0.0000</td>\n",
       "      <td>4.8531</td>\n",
       "    </tr>\n",
       "    <tr>\n",
       "      <th>4</th>\n",
       "      <td>97.1634</td>\n",
       "      <td>13.8411</td>\n",
       "      <td>5.7818</td>\n",
       "      <td>31.2553</td>\n",
       "      <td>-2.2774</td>\n",
       "      <td>-1.2787</td>\n",
       "      <td>0.0000</td>\n",
       "      <td>2.3404</td>\n",
       "    </tr>\n",
       "    <tr>\n",
       "      <th>...</th>\n",
       "      <td>...</td>\n",
       "      <td>...</td>\n",
       "      <td>...</td>\n",
       "      <td>...</td>\n",
       "      <td>...</td>\n",
       "      <td>...</td>\n",
       "      <td>...</td>\n",
       "      <td>...</td>\n",
       "    </tr>\n",
       "    <tr>\n",
       "      <th>360</th>\n",
       "      <td>96.2771</td>\n",
       "      <td>10.2888</td>\n",
       "      <td>7.1714</td>\n",
       "      <td>69.4000</td>\n",
       "      <td>4.0540</td>\n",
       "      <td>-0.8344</td>\n",
       "      <td>0.6096</td>\n",
       "      <td>6.1917</td>\n",
       "    </tr>\n",
       "    <tr>\n",
       "      <th>361</th>\n",
       "      <td>52.0808</td>\n",
       "      <td>3.7231</td>\n",
       "      <td>-1.8390</td>\n",
       "      <td>23.0505</td>\n",
       "      <td>-7.4012</td>\n",
       "      <td>-2.0879</td>\n",
       "      <td>0.1006</td>\n",
       "      <td>7.3570</td>\n",
       "    </tr>\n",
       "    <tr>\n",
       "      <th>362</th>\n",
       "      <td>65.8581</td>\n",
       "      <td>13.9009</td>\n",
       "      <td>7.3270</td>\n",
       "      <td>26.1280</td>\n",
       "      <td>0.7531</td>\n",
       "      <td>-3.9989</td>\n",
       "      <td>0.0221</td>\n",
       "      <td>3.9315</td>\n",
       "    </tr>\n",
       "    <tr>\n",
       "      <th>363</th>\n",
       "      <td>75.0191</td>\n",
       "      <td>28.4810</td>\n",
       "      <td>22.4637</td>\n",
       "      <td>35.8970</td>\n",
       "      <td>16.4465</td>\n",
       "      <td>-6.2345</td>\n",
       "      <td>0.0884</td>\n",
       "      <td>3.7202</td>\n",
       "    </tr>\n",
       "    <tr>\n",
       "      <th>364</th>\n",
       "      <td>100.0000</td>\n",
       "      <td>8.6565</td>\n",
       "      <td>0.7474</td>\n",
       "      <td>45.1941</td>\n",
       "      <td>-7.1618</td>\n",
       "      <td>-0.8509</td>\n",
       "      <td>0.0282</td>\n",
       "      <td>1.9813</td>\n",
       "    </tr>\n",
       "  </tbody>\n",
       "</table>\n",
       "<p>365 rows × 8 columns</p>\n",
       "</div>"
      ],
      "text/plain": [
       "     max_rel_humidity  max_temperature  mean_temperature  min_rel_humidity  \\\n",
       "0             99.9498          25.4570           18.6242           56.4720   \n",
       "1             84.4966           8.6228            3.1896           40.7666   \n",
       "2             95.9017           2.8886           -3.4884           39.0330   \n",
       "3             70.0359           0.7939           -4.0254           34.7544   \n",
       "4             97.1634          13.8411            5.7818           31.2553   \n",
       "..                ...              ...               ...               ...   \n",
       "360           96.2771          10.2888            7.1714           69.4000   \n",
       "361           52.0808           3.7231           -1.8390           23.0505   \n",
       "362           65.8581          13.9009            7.3270           26.1280   \n",
       "363           75.0191          28.4810           22.4637           35.8970   \n",
       "364          100.0000           8.6565            0.7474           45.1941   \n",
       "\n",
       "     min_temperature  potential_water_deficit  precipitation_data  wind_speed  \n",
       "0            11.7913                  -3.6142              0.0000      3.6461  \n",
       "1            -2.2436                  -1.4307              0.0000      2.2398  \n",
       "2            -9.8654                  -0.9389              0.0000      4.1230  \n",
       "3            -8.8446                  -1.4427              0.0000      4.8531  \n",
       "4            -2.2774                  -1.2787              0.0000      2.3404  \n",
       "..               ...                      ...                 ...         ...  \n",
       "360           4.0540                  -0.8344              0.6096      6.1917  \n",
       "361          -7.4012                  -2.0879              0.1006      7.3570  \n",
       "362           0.7531                  -3.9989              0.0221      3.9315  \n",
       "363          16.4465                  -6.2345              0.0884      3.7202  \n",
       "364          -7.1618                  -0.8509              0.0282      1.9813  \n",
       "\n",
       "[365 rows x 8 columns]"
      ]
     },
     "execution_count": 99,
     "metadata": {},
     "output_type": "execute_result"
    }
   ],
   "source": [
    "X=data.drop(\"potential_water_deficit\",1)\n",
    "X=data.drop(\"date\",1)\n",
    "y=data[\"mean_temperature\"]\n",
    "X\n",
    "# data.head()"
   ]
  },
  {
   "cell_type": "code",
   "execution_count": 100,
   "id": "9a84083e",
   "metadata": {
    "execution": {
     "iopub.execute_input": "2023-05-10T00:39:07.871315Z",
     "iopub.status.busy": "2023-05-10T00:39:07.871198Z",
     "iopub.status.idle": "2023-05-10T00:39:07.874674Z",
     "shell.execute_reply": "2023-05-10T00:39:07.874382Z"
    }
   },
   "outputs": [
    {
     "name": "stderr",
     "output_type": "stream",
     "text": [
      "/var/folders/l2/cnhff0_n1470l4xf0p7v7l_40000gn/T/ipykernel_15032/1877636000.py:1: FutureWarning: In a future version of pandas all arguments of DataFrame.drop except for the argument 'labels' will be keyword-only.\n",
      "  X=data.drop(\"potential_water_deficit\",1)\n",
      "/var/folders/l2/cnhff0_n1470l4xf0p7v7l_40000gn/T/ipykernel_15032/1877636000.py:2: FutureWarning: In a future version of pandas all arguments of DataFrame.drop except for the argument 'labels' will be keyword-only.\n",
      "  X=data.drop(\"date\",1)\n"
     ]
    },
    {
     "data": {
      "text/plain": [
       "0      18.6242\n",
       "1       3.1896\n",
       "2      -3.4884\n",
       "3      -4.0254\n",
       "4       5.7818\n",
       "        ...   \n",
       "360     7.1714\n",
       "361    -1.8390\n",
       "362     7.3270\n",
       "363    22.4637\n",
       "364     0.7474\n",
       "Name: mean_temperature, Length: 365, dtype: float64"
      ]
     },
     "execution_count": 100,
     "metadata": {},
     "output_type": "execute_result"
    }
   ],
   "source": [
    "X=data.drop(\"potential_water_deficit\",1)\n",
    "X=data.drop(\"date\",1)\n",
    "y=data[\"mean_temperature\"]\n",
    "X\n",
    "y\n",
    "# data.head()"
   ]
  },
  {
   "cell_type": "code",
   "execution_count": 101,
   "id": "1c7f475c",
   "metadata": {
    "execution": {
     "iopub.execute_input": "2023-05-10T00:39:07.876118Z",
     "iopub.status.busy": "2023-05-10T00:39:07.876032Z",
     "iopub.status.idle": "2023-05-10T00:39:07.880611Z",
     "shell.execute_reply": "2023-05-10T00:39:07.880332Z"
    }
   },
   "outputs": [
    {
     "name": "stdout",
     "output_type": "stream",
     "text": [
      "     max_rel_humidity  max_temperature  mean_temperature  min_rel_humidity  \\\n",
      "0             99.9498          25.4570           18.6242           56.4720   \n",
      "1             84.4966           8.6228            3.1896           40.7666   \n",
      "2             95.9017           2.8886           -3.4884           39.0330   \n",
      "3             70.0359           0.7939           -4.0254           34.7544   \n",
      "4             97.1634          13.8411            5.7818           31.2553   \n",
      "..                ...              ...               ...               ...   \n",
      "360           96.2771          10.2888            7.1714           69.4000   \n",
      "361           52.0808           3.7231           -1.8390           23.0505   \n",
      "362           65.8581          13.9009            7.3270           26.1280   \n",
      "363           75.0191          28.4810           22.4637           35.8970   \n",
      "364          100.0000           8.6565            0.7474           45.1941   \n",
      "\n",
      "     min_temperature  potential_water_deficit  precipitation_data  wind_speed  \n",
      "0            11.7913                  -3.6142              0.0000      3.6461  \n",
      "1            -2.2436                  -1.4307              0.0000      2.2398  \n",
      "2            -9.8654                  -0.9389              0.0000      4.1230  \n",
      "3            -8.8446                  -1.4427              0.0000      4.8531  \n",
      "4            -2.2774                  -1.2787              0.0000      2.3404  \n",
      "..               ...                      ...                 ...         ...  \n",
      "360           4.0540                  -0.8344              0.6096      6.1917  \n",
      "361          -7.4012                  -2.0879              0.1006      7.3570  \n",
      "362           0.7531                  -3.9989              0.0221      3.9315  \n",
      "363          16.4465                  -6.2345              0.0884      3.7202  \n",
      "364          -7.1618                  -0.8509              0.0282      1.9813  \n",
      "\n",
      "[365 rows x 8 columns]\n",
      "0      18.6242\n",
      "1       3.1896\n",
      "2      -3.4884\n",
      "3      -4.0254\n",
      "4       5.7818\n",
      "        ...   \n",
      "360     7.1714\n",
      "361    -1.8390\n",
      "362     7.3270\n",
      "363    22.4637\n",
      "364     0.7474\n",
      "Name: mean_temperature, Length: 365, dtype: float64\n"
     ]
    },
    {
     "name": "stderr",
     "output_type": "stream",
     "text": [
      "/var/folders/l2/cnhff0_n1470l4xf0p7v7l_40000gn/T/ipykernel_15032/1395326034.py:1: FutureWarning: In a future version of pandas all arguments of DataFrame.drop except for the argument 'labels' will be keyword-only.\n",
      "  X=data.drop(\"potential_water_deficit\",1)\n",
      "/var/folders/l2/cnhff0_n1470l4xf0p7v7l_40000gn/T/ipykernel_15032/1395326034.py:2: FutureWarning: In a future version of pandas all arguments of DataFrame.drop except for the argument 'labels' will be keyword-only.\n",
      "  X=data.drop(\"date\",1)\n"
     ]
    }
   ],
   "source": [
    "X=data.drop(\"potential_water_deficit\",1)\n",
    "X=data.drop(\"date\",1)\n",
    "y=data[\"mean_temperature\"]\n",
    "print(X)\n",
    "print(y)\n",
    "# data.head()"
   ]
  },
  {
   "cell_type": "code",
   "execution_count": 102,
   "id": "3e23ed31",
   "metadata": {
    "execution": {
     "iopub.execute_input": "2023-05-10T00:39:07.882138Z",
     "iopub.status.busy": "2023-05-10T00:39:07.882034Z",
     "iopub.status.idle": "2023-05-10T00:39:07.886568Z",
     "shell.execute_reply": "2023-05-10T00:39:07.886311Z"
    }
   },
   "outputs": [
    {
     "name": "stdout",
     "output_type": "stream",
     "text": [
      "          date  max_rel_humidity  max_temperature  mean_temperature  \\\n",
      "0   2019-09-04           99.9498          25.4570           18.6242   \n",
      "1   2020-02-16           84.4966           8.6228            3.1896   \n",
      "2   2019-12-19           95.9017           2.8886           -3.4884   \n",
      "3   2020-02-20           70.0359           0.7939           -4.0254   \n",
      "4   2019-12-23           97.1634          13.8411            5.7818   \n",
      "..         ...               ...              ...               ...   \n",
      "360 2020-04-30           96.2771          10.2888            7.1714   \n",
      "361 2020-01-19           52.0808           3.7231           -1.8390   \n",
      "362 2020-05-09           65.8581          13.9009            7.3270   \n",
      "363 2020-06-25           75.0191          28.4810           22.4637   \n",
      "364 2020-01-28          100.0000           8.6565            0.7474   \n",
      "\n",
      "     min_rel_humidity  min_temperature  precipitation_data  wind_speed  \n",
      "0             56.4720          11.7913              0.0000      3.6461  \n",
      "1             40.7666          -2.2436              0.0000      2.2398  \n",
      "2             39.0330          -9.8654              0.0000      4.1230  \n",
      "3             34.7544          -8.8446              0.0000      4.8531  \n",
      "4             31.2553          -2.2774              0.0000      2.3404  \n",
      "..                ...              ...                 ...         ...  \n",
      "360           69.4000           4.0540              0.6096      6.1917  \n",
      "361           23.0505          -7.4012              0.1006      7.3570  \n",
      "362           26.1280           0.7531              0.0221      3.9315  \n",
      "363           35.8970          16.4465              0.0884      3.7202  \n",
      "364           45.1941          -7.1618              0.0282      1.9813  \n",
      "\n",
      "[365 rows x 8 columns]\n",
      "0      18.6242\n",
      "1       3.1896\n",
      "2      -3.4884\n",
      "3      -4.0254\n",
      "4       5.7818\n",
      "        ...   \n",
      "360     7.1714\n",
      "361    -1.8390\n",
      "362     7.3270\n",
      "363    22.4637\n",
      "364     0.7474\n",
      "Name: mean_temperature, Length: 365, dtype: float64\n"
     ]
    },
    {
     "name": "stderr",
     "output_type": "stream",
     "text": [
      "/var/folders/l2/cnhff0_n1470l4xf0p7v7l_40000gn/T/ipykernel_15032/1471259388.py:1: FutureWarning: In a future version of pandas all arguments of DataFrame.drop except for the argument 'labels' will be keyword-only.\n",
      "  X=data.drop(\"date\",1)\n",
      "/var/folders/l2/cnhff0_n1470l4xf0p7v7l_40000gn/T/ipykernel_15032/1471259388.py:2: FutureWarning: In a future version of pandas all arguments of DataFrame.drop except for the argument 'labels' will be keyword-only.\n",
      "  X=data.drop(\"potential_water_deficit\",1)\n"
     ]
    }
   ],
   "source": [
    "X=data.drop(\"date\",1)\n",
    "X=data.drop(\"potential_water_deficit\",1)\n",
    "y=data[\"mean_temperature\"]\n",
    "print(X)\n",
    "print(y)\n",
    "# data.head()"
   ]
  },
  {
   "cell_type": "code",
   "execution_count": 103,
   "id": "c8ab2b14",
   "metadata": {
    "execution": {
     "iopub.execute_input": "2023-05-10T00:39:07.888177Z",
     "iopub.status.busy": "2023-05-10T00:39:07.888085Z",
     "iopub.status.idle": "2023-05-10T00:39:07.954528Z",
     "shell.execute_reply": "2023-05-10T00:39:07.954218Z"
    }
   },
   "outputs": [
    {
     "name": "stderr",
     "output_type": "stream",
     "text": [
      "/var/folders/l2/cnhff0_n1470l4xf0p7v7l_40000gn/T/ipykernel_15032/3803536140.py:1: FutureWarning: In a future version of pandas all arguments of DataFrame.drop except for the argument 'labels' will be keyword-only.\n",
      "  X=data.drop(\"date\",\"potential_water_deficit\",1)\n"
     ]
    },
    {
     "ename": "ValueError",
     "evalue": "Cannot specify both 'labels' and 'index'/'columns'",
     "output_type": "error",
     "traceback": [
      "\u001b[0;31m---------------------------------------------------------------------------\u001b[0m",
      "\u001b[0;31mValueError\u001b[0m                                Traceback (most recent call last)",
      "Cell \u001b[0;32mIn [103], line 1\u001b[0m\n\u001b[0;32m----> 1\u001b[0m X\u001b[38;5;241m=\u001b[39m\u001b[43mdata\u001b[49m\u001b[38;5;241;43m.\u001b[39;49m\u001b[43mdrop\u001b[49m\u001b[43m(\u001b[49m\u001b[38;5;124;43m\"\u001b[39;49m\u001b[38;5;124;43mdate\u001b[39;49m\u001b[38;5;124;43m\"\u001b[39;49m\u001b[43m,\u001b[49m\u001b[38;5;124;43m\"\u001b[39;49m\u001b[38;5;124;43mpotential_water_deficit\u001b[39;49m\u001b[38;5;124;43m\"\u001b[39;49m\u001b[43m,\u001b[49m\u001b[38;5;241;43m1\u001b[39;49m\u001b[43m)\u001b[49m\n\u001b[1;32m      2\u001b[0m y\u001b[38;5;241m=\u001b[39mdata[\u001b[38;5;124m\"\u001b[39m\u001b[38;5;124mmean_temperature\u001b[39m\u001b[38;5;124m\"\u001b[39m]\n\u001b[1;32m      3\u001b[0m \u001b[38;5;28mprint\u001b[39m(X)\n",
      "File \u001b[0;32m/opt/homebrew/lib/python3.9/site-packages/pandas/util/_decorators.py:331\u001b[0m, in \u001b[0;36mdeprecate_nonkeyword_arguments.<locals>.decorate.<locals>.wrapper\u001b[0;34m(*args, **kwargs)\u001b[0m\n\u001b[1;32m    325\u001b[0m \u001b[38;5;28;01mif\u001b[39;00m \u001b[38;5;28mlen\u001b[39m(args) \u001b[38;5;241m>\u001b[39m num_allow_args:\n\u001b[1;32m    326\u001b[0m     warnings\u001b[38;5;241m.\u001b[39mwarn(\n\u001b[1;32m    327\u001b[0m         msg\u001b[38;5;241m.\u001b[39mformat(arguments\u001b[38;5;241m=\u001b[39m_format_argument_list(allow_args)),\n\u001b[1;32m    328\u001b[0m         \u001b[38;5;167;01mFutureWarning\u001b[39;00m,\n\u001b[1;32m    329\u001b[0m         stacklevel\u001b[38;5;241m=\u001b[39mfind_stack_level(),\n\u001b[1;32m    330\u001b[0m     )\n\u001b[0;32m--> 331\u001b[0m \u001b[38;5;28;01mreturn\u001b[39;00m \u001b[43mfunc\u001b[49m\u001b[43m(\u001b[49m\u001b[38;5;241;43m*\u001b[39;49m\u001b[43margs\u001b[49m\u001b[43m,\u001b[49m\u001b[43m \u001b[49m\u001b[38;5;241;43m*\u001b[39;49m\u001b[38;5;241;43m*\u001b[39;49m\u001b[43mkwargs\u001b[49m\u001b[43m)\u001b[49m\n",
      "File \u001b[0;32m/opt/homebrew/lib/python3.9/site-packages/pandas/core/frame.py:5388\u001b[0m, in \u001b[0;36mDataFrame.drop\u001b[0;34m(self, labels, axis, index, columns, level, inplace, errors)\u001b[0m\n\u001b[1;32m   5240\u001b[0m \u001b[38;5;129m@deprecate_nonkeyword_arguments\u001b[39m(version\u001b[38;5;241m=\u001b[39m\u001b[38;5;28;01mNone\u001b[39;00m, allowed_args\u001b[38;5;241m=\u001b[39m[\u001b[38;5;124m\"\u001b[39m\u001b[38;5;124mself\u001b[39m\u001b[38;5;124m\"\u001b[39m, \u001b[38;5;124m\"\u001b[39m\u001b[38;5;124mlabels\u001b[39m\u001b[38;5;124m\"\u001b[39m])\n\u001b[1;32m   5241\u001b[0m \u001b[38;5;28;01mdef\u001b[39;00m \u001b[38;5;21mdrop\u001b[39m(  \u001b[38;5;66;03m# type: ignore[override]\u001b[39;00m\n\u001b[1;32m   5242\u001b[0m     \u001b[38;5;28mself\u001b[39m,\n\u001b[0;32m   (...)\u001b[0m\n\u001b[1;32m   5249\u001b[0m     errors: IgnoreRaise \u001b[38;5;241m=\u001b[39m \u001b[38;5;124m\"\u001b[39m\u001b[38;5;124mraise\u001b[39m\u001b[38;5;124m\"\u001b[39m,\n\u001b[1;32m   5250\u001b[0m ) \u001b[38;5;241m-\u001b[39m\u001b[38;5;241m>\u001b[39m DataFrame \u001b[38;5;241m|\u001b[39m \u001b[38;5;28;01mNone\u001b[39;00m:\n\u001b[1;32m   5251\u001b[0m     \u001b[38;5;124;03m\"\"\"\u001b[39;00m\n\u001b[1;32m   5252\u001b[0m \u001b[38;5;124;03m    Drop specified labels from rows or columns.\u001b[39;00m\n\u001b[1;32m   5253\u001b[0m \n\u001b[0;32m   (...)\u001b[0m\n\u001b[1;32m   5386\u001b[0m \u001b[38;5;124;03m            weight  1.0     0.8\u001b[39;00m\n\u001b[1;32m   5387\u001b[0m \u001b[38;5;124;03m    \"\"\"\u001b[39;00m\n\u001b[0;32m-> 5388\u001b[0m     \u001b[38;5;28;01mreturn\u001b[39;00m \u001b[38;5;28;43msuper\u001b[39;49m\u001b[43m(\u001b[49m\u001b[43m)\u001b[49m\u001b[38;5;241;43m.\u001b[39;49m\u001b[43mdrop\u001b[49m\u001b[43m(\u001b[49m\n\u001b[1;32m   5389\u001b[0m \u001b[43m        \u001b[49m\u001b[43mlabels\u001b[49m\u001b[38;5;241;43m=\u001b[39;49m\u001b[43mlabels\u001b[49m\u001b[43m,\u001b[49m\n\u001b[1;32m   5390\u001b[0m \u001b[43m        \u001b[49m\u001b[43maxis\u001b[49m\u001b[38;5;241;43m=\u001b[39;49m\u001b[43maxis\u001b[49m\u001b[43m,\u001b[49m\n\u001b[1;32m   5391\u001b[0m \u001b[43m        \u001b[49m\u001b[43mindex\u001b[49m\u001b[38;5;241;43m=\u001b[39;49m\u001b[43mindex\u001b[49m\u001b[43m,\u001b[49m\n\u001b[1;32m   5392\u001b[0m \u001b[43m        \u001b[49m\u001b[43mcolumns\u001b[49m\u001b[38;5;241;43m=\u001b[39;49m\u001b[43mcolumns\u001b[49m\u001b[43m,\u001b[49m\n\u001b[1;32m   5393\u001b[0m \u001b[43m        \u001b[49m\u001b[43mlevel\u001b[49m\u001b[38;5;241;43m=\u001b[39;49m\u001b[43mlevel\u001b[49m\u001b[43m,\u001b[49m\n\u001b[1;32m   5394\u001b[0m \u001b[43m        \u001b[49m\u001b[43minplace\u001b[49m\u001b[38;5;241;43m=\u001b[39;49m\u001b[43minplace\u001b[49m\u001b[43m,\u001b[49m\n\u001b[1;32m   5395\u001b[0m \u001b[43m        \u001b[49m\u001b[43merrors\u001b[49m\u001b[38;5;241;43m=\u001b[39;49m\u001b[43merrors\u001b[49m\u001b[43m,\u001b[49m\n\u001b[1;32m   5396\u001b[0m \u001b[43m    \u001b[49m\u001b[43m)\u001b[49m\n",
      "File \u001b[0;32m/opt/homebrew/lib/python3.9/site-packages/pandas/util/_decorators.py:331\u001b[0m, in \u001b[0;36mdeprecate_nonkeyword_arguments.<locals>.decorate.<locals>.wrapper\u001b[0;34m(*args, **kwargs)\u001b[0m\n\u001b[1;32m    325\u001b[0m \u001b[38;5;28;01mif\u001b[39;00m \u001b[38;5;28mlen\u001b[39m(args) \u001b[38;5;241m>\u001b[39m num_allow_args:\n\u001b[1;32m    326\u001b[0m     warnings\u001b[38;5;241m.\u001b[39mwarn(\n\u001b[1;32m    327\u001b[0m         msg\u001b[38;5;241m.\u001b[39mformat(arguments\u001b[38;5;241m=\u001b[39m_format_argument_list(allow_args)),\n\u001b[1;32m    328\u001b[0m         \u001b[38;5;167;01mFutureWarning\u001b[39;00m,\n\u001b[1;32m    329\u001b[0m         stacklevel\u001b[38;5;241m=\u001b[39mfind_stack_level(),\n\u001b[1;32m    330\u001b[0m     )\n\u001b[0;32m--> 331\u001b[0m \u001b[38;5;28;01mreturn\u001b[39;00m \u001b[43mfunc\u001b[49m\u001b[43m(\u001b[49m\u001b[38;5;241;43m*\u001b[39;49m\u001b[43margs\u001b[49m\u001b[43m,\u001b[49m\u001b[43m \u001b[49m\u001b[38;5;241;43m*\u001b[39;49m\u001b[38;5;241;43m*\u001b[39;49m\u001b[43mkwargs\u001b[49m\u001b[43m)\u001b[49m\n",
      "File \u001b[0;32m/opt/homebrew/lib/python3.9/site-packages/pandas/core/generic.py:4491\u001b[0m, in \u001b[0;36mNDFrame.drop\u001b[0;34m(self, labels, axis, index, columns, level, inplace, errors)\u001b[0m\n\u001b[1;32m   4489\u001b[0m \u001b[38;5;28;01mif\u001b[39;00m labels \u001b[38;5;129;01mis\u001b[39;00m \u001b[38;5;129;01mnot\u001b[39;00m \u001b[38;5;28;01mNone\u001b[39;00m:\n\u001b[1;32m   4490\u001b[0m     \u001b[38;5;28;01mif\u001b[39;00m index \u001b[38;5;129;01mis\u001b[39;00m \u001b[38;5;129;01mnot\u001b[39;00m \u001b[38;5;28;01mNone\u001b[39;00m \u001b[38;5;129;01mor\u001b[39;00m columns \u001b[38;5;129;01mis\u001b[39;00m \u001b[38;5;129;01mnot\u001b[39;00m \u001b[38;5;28;01mNone\u001b[39;00m:\n\u001b[0;32m-> 4491\u001b[0m         \u001b[38;5;28;01mraise\u001b[39;00m \u001b[38;5;167;01mValueError\u001b[39;00m(\u001b[38;5;124m\"\u001b[39m\u001b[38;5;124mCannot specify both \u001b[39m\u001b[38;5;124m'\u001b[39m\u001b[38;5;124mlabels\u001b[39m\u001b[38;5;124m'\u001b[39m\u001b[38;5;124m and \u001b[39m\u001b[38;5;124m'\u001b[39m\u001b[38;5;124mindex\u001b[39m\u001b[38;5;124m'\u001b[39m\u001b[38;5;124m/\u001b[39m\u001b[38;5;124m'\u001b[39m\u001b[38;5;124mcolumns\u001b[39m\u001b[38;5;124m'\u001b[39m\u001b[38;5;124m\"\u001b[39m)\n\u001b[1;32m   4492\u001b[0m     axis_name \u001b[38;5;241m=\u001b[39m \u001b[38;5;28mself\u001b[39m\u001b[38;5;241m.\u001b[39m_get_axis_name(axis)\n\u001b[1;32m   4493\u001b[0m     axes \u001b[38;5;241m=\u001b[39m {axis_name: labels}\n",
      "\u001b[0;31mValueError\u001b[0m: Cannot specify both 'labels' and 'index'/'columns'"
     ]
    }
   ],
   "source": [
    "X=data.drop(\"date\",\"potential_water_deficit\",1)\n",
    "y=data[\"mean_temperature\"]\n",
    "print(X)\n",
    "print(y)\n",
    "# data.head()"
   ]
  },
  {
   "cell_type": "code",
   "execution_count": 104,
   "id": "ab7ded81",
   "metadata": {
    "execution": {
     "iopub.execute_input": "2023-05-10T00:39:07.956134Z",
     "iopub.status.busy": "2023-05-10T00:39:07.956019Z",
     "iopub.status.idle": "2023-05-10T00:39:07.960609Z",
     "shell.execute_reply": "2023-05-10T00:39:07.960319Z"
    }
   },
   "outputs": [
    {
     "name": "stdout",
     "output_type": "stream",
     "text": [
      "     max_rel_humidity  max_temperature  mean_temperature  min_rel_humidity  \\\n",
      "0             99.9498          25.4570           18.6242           56.4720   \n",
      "1             84.4966           8.6228            3.1896           40.7666   \n",
      "2             95.9017           2.8886           -3.4884           39.0330   \n",
      "3             70.0359           0.7939           -4.0254           34.7544   \n",
      "4             97.1634          13.8411            5.7818           31.2553   \n",
      "..                ...              ...               ...               ...   \n",
      "360           96.2771          10.2888            7.1714           69.4000   \n",
      "361           52.0808           3.7231           -1.8390           23.0505   \n",
      "362           65.8581          13.9009            7.3270           26.1280   \n",
      "363           75.0191          28.4810           22.4637           35.8970   \n",
      "364          100.0000           8.6565            0.7474           45.1941   \n",
      "\n",
      "     min_temperature  precipitation_data  wind_speed  \n",
      "0            11.7913              0.0000      3.6461  \n",
      "1            -2.2436              0.0000      2.2398  \n",
      "2            -9.8654              0.0000      4.1230  \n",
      "3            -8.8446              0.0000      4.8531  \n",
      "4            -2.2774              0.0000      2.3404  \n",
      "..               ...                 ...         ...  \n",
      "360           4.0540              0.6096      6.1917  \n",
      "361          -7.4012              0.1006      7.3570  \n",
      "362           0.7531              0.0221      3.9315  \n",
      "363          16.4465              0.0884      3.7202  \n",
      "364          -7.1618              0.0282      1.9813  \n",
      "\n",
      "[365 rows x 7 columns]\n",
      "0      18.6242\n",
      "1       3.1896\n",
      "2      -3.4884\n",
      "3      -4.0254\n",
      "4       5.7818\n",
      "        ...   \n",
      "360     7.1714\n",
      "361    -1.8390\n",
      "362     7.3270\n",
      "363    22.4637\n",
      "364     0.7474\n",
      "Name: mean_temperature, Length: 365, dtype: float64\n"
     ]
    },
    {
     "name": "stderr",
     "output_type": "stream",
     "text": [
      "/var/folders/l2/cnhff0_n1470l4xf0p7v7l_40000gn/T/ipykernel_15032/4008183648.py:1: FutureWarning: In a future version of pandas all arguments of DataFrame.drop except for the argument 'labels' will be keyword-only.\n",
      "  X=data.drop([\"date\",\"potential_water_deficit\"],1)\n"
     ]
    }
   ],
   "source": [
    "X=data.drop([\"date\",\"potential_water_deficit\"],1)\n",
    "y=data[\"mean_temperature\"]\n",
    "print(X)\n",
    "print(y)\n",
    "# data.head()"
   ]
  },
  {
   "cell_type": "code",
   "execution_count": 105,
   "id": "02bdf683",
   "metadata": {
    "execution": {
     "iopub.execute_input": "2023-05-10T00:39:07.962107Z",
     "iopub.status.busy": "2023-05-10T00:39:07.962021Z",
     "iopub.status.idle": "2023-05-10T00:39:07.967266Z",
     "shell.execute_reply": "2023-05-10T00:39:07.967019Z"
    }
   },
   "outputs": [
    {
     "name": "stderr",
     "output_type": "stream",
     "text": [
      "/var/folders/l2/cnhff0_n1470l4xf0p7v7l_40000gn/T/ipykernel_15032/2628695287.py:1: FutureWarning: In a future version of pandas all arguments of DataFrame.drop except for the argument 'labels' will be keyword-only.\n",
      "  X=data.drop([\"date\",\"potential_water_deficit\"],1)\n"
     ]
    },
    {
     "data": {
      "text/html": [
       "<div>\n",
       "<style scoped>\n",
       "    .dataframe tbody tr th:only-of-type {\n",
       "        vertical-align: middle;\n",
       "    }\n",
       "\n",
       "    .dataframe tbody tr th {\n",
       "        vertical-align: top;\n",
       "    }\n",
       "\n",
       "    .dataframe thead th {\n",
       "        text-align: right;\n",
       "    }\n",
       "</style>\n",
       "<table border=\"1\" class=\"dataframe\">\n",
       "  <thead>\n",
       "    <tr style=\"text-align: right;\">\n",
       "      <th></th>\n",
       "      <th>date</th>\n",
       "      <th>max_rel_humidity</th>\n",
       "      <th>max_temperature</th>\n",
       "      <th>mean_temperature</th>\n",
       "      <th>min_rel_humidity</th>\n",
       "      <th>min_temperature</th>\n",
       "      <th>potential_water_deficit</th>\n",
       "      <th>precipitation_data</th>\n",
       "      <th>wind_speed</th>\n",
       "    </tr>\n",
       "  </thead>\n",
       "  <tbody>\n",
       "    <tr>\n",
       "      <th>0</th>\n",
       "      <td>2019-09-04</td>\n",
       "      <td>99.9498</td>\n",
       "      <td>25.4570</td>\n",
       "      <td>18.6242</td>\n",
       "      <td>56.4720</td>\n",
       "      <td>11.7913</td>\n",
       "      <td>-3.6142</td>\n",
       "      <td>0.0</td>\n",
       "      <td>3.6461</td>\n",
       "    </tr>\n",
       "    <tr>\n",
       "      <th>1</th>\n",
       "      <td>2020-02-16</td>\n",
       "      <td>84.4966</td>\n",
       "      <td>8.6228</td>\n",
       "      <td>3.1896</td>\n",
       "      <td>40.7666</td>\n",
       "      <td>-2.2436</td>\n",
       "      <td>-1.4307</td>\n",
       "      <td>0.0</td>\n",
       "      <td>2.2398</td>\n",
       "    </tr>\n",
       "    <tr>\n",
       "      <th>2</th>\n",
       "      <td>2019-12-19</td>\n",
       "      <td>95.9017</td>\n",
       "      <td>2.8886</td>\n",
       "      <td>-3.4884</td>\n",
       "      <td>39.0330</td>\n",
       "      <td>-9.8654</td>\n",
       "      <td>-0.9389</td>\n",
       "      <td>0.0</td>\n",
       "      <td>4.1230</td>\n",
       "    </tr>\n",
       "    <tr>\n",
       "      <th>3</th>\n",
       "      <td>2020-02-20</td>\n",
       "      <td>70.0359</td>\n",
       "      <td>0.7939</td>\n",
       "      <td>-4.0254</td>\n",
       "      <td>34.7544</td>\n",
       "      <td>-8.8446</td>\n",
       "      <td>-1.4427</td>\n",
       "      <td>0.0</td>\n",
       "      <td>4.8531</td>\n",
       "    </tr>\n",
       "    <tr>\n",
       "      <th>4</th>\n",
       "      <td>2019-12-23</td>\n",
       "      <td>97.1634</td>\n",
       "      <td>13.8411</td>\n",
       "      <td>5.7818</td>\n",
       "      <td>31.2553</td>\n",
       "      <td>-2.2774</td>\n",
       "      <td>-1.2787</td>\n",
       "      <td>0.0</td>\n",
       "      <td>2.3404</td>\n",
       "    </tr>\n",
       "  </tbody>\n",
       "</table>\n",
       "</div>"
      ],
      "text/plain": [
       "        date  max_rel_humidity  max_temperature  mean_temperature  \\\n",
       "0 2019-09-04           99.9498          25.4570           18.6242   \n",
       "1 2020-02-16           84.4966           8.6228            3.1896   \n",
       "2 2019-12-19           95.9017           2.8886           -3.4884   \n",
       "3 2020-02-20           70.0359           0.7939           -4.0254   \n",
       "4 2019-12-23           97.1634          13.8411            5.7818   \n",
       "\n",
       "   min_rel_humidity  min_temperature  potential_water_deficit  \\\n",
       "0           56.4720          11.7913                  -3.6142   \n",
       "1           40.7666          -2.2436                  -1.4307   \n",
       "2           39.0330          -9.8654                  -0.9389   \n",
       "3           34.7544          -8.8446                  -1.4427   \n",
       "4           31.2553          -2.2774                  -1.2787   \n",
       "\n",
       "   precipitation_data  wind_speed  \n",
       "0                 0.0      3.6461  \n",
       "1                 0.0      2.2398  \n",
       "2                 0.0      4.1230  \n",
       "3                 0.0      4.8531  \n",
       "4                 0.0      2.3404  "
      ]
     },
     "execution_count": 105,
     "metadata": {},
     "output_type": "execute_result"
    }
   ],
   "source": [
    "X=data.drop([\"date\",\"potential_water_deficit\"],1)\n",
    "y=data[\"mean_temperature\"]\n",
    "# print(X)\n",
    "# print(y)\n",
    "data.head()"
   ]
  },
  {
   "cell_type": "code",
   "execution_count": 106,
   "id": "cde64f13",
   "metadata": {
    "execution": {
     "iopub.execute_input": "2023-05-10T00:39:07.968752Z",
     "iopub.status.busy": "2023-05-10T00:39:07.968650Z",
     "iopub.status.idle": "2023-05-10T00:39:08.110644Z",
     "shell.execute_reply": "2023-05-10T00:39:08.110364Z"
    }
   },
   "outputs": [
    {
     "name": "stderr",
     "output_type": "stream",
     "text": [
      "/var/folders/l2/cnhff0_n1470l4xf0p7v7l_40000gn/T/ipykernel_15032/2359937594.py:2: FutureWarning: The default value of numeric_only in DataFrame.corr is deprecated. In a future version, it will default to False. Select only valid columns or specify the value of numeric_only to silence this warning.\n",
      "  cor = data.corr()\n"
     ]
    },
    {
     "data": {
      "image/png": "[encoded data removed]",
      "text/plain": [
       "<Figure size 700x700 with 2 Axes>"
      ]
     },
     "metadata": {},
     "output_type": "display_data"
    }
   ],
   "source": [
    "plt.figure(figsize=(7,7))\n",
    "cor = data.corr()\n",
    "sns.heatmap(cor, annot=True, cmap=plt.cm.Reds)\n",
    "plt.show()"
   ]
  },
  {
   "cell_type": "code",
   "execution_count": 107,
   "id": "c87888e7",
   "metadata": {
    "execution": {
     "iopub.execute_input": "2023-05-10T00:39:08.112360Z",
     "iopub.status.busy": "2023-05-10T00:39:08.112242Z",
     "iopub.status.idle": "2023-05-10T00:39:08.114739Z",
     "shell.execute_reply": "2023-05-10T00:39:08.114494Z"
    }
   },
   "outputs": [
    {
     "name": "stdout",
     "output_type": "stream",
     "text": [
      "max_temperature     0.988198\n",
      "mean_temperature    1.000000\n",
      "min_temperature     0.985032\n",
      "Name: mean_temperature, dtype: float64\n"
     ]
    }
   ],
   "source": [
    "cor_target = abs(cor[\"mean_temperature\"])\n",
    "relevant_features = cor_target[cor_target>0.75]\n",
    "print(relevant_features)"
   ]
  },
  {
   "cell_type": "code",
   "execution_count": 108,
   "id": "8f526cd0",
   "metadata": {
    "execution": {
     "iopub.execute_input": "2023-05-10T00:39:08.116150Z",
     "iopub.status.busy": "2023-05-10T00:39:08.116040Z",
     "iopub.status.idle": "2023-05-10T00:39:08.118215Z",
     "shell.execute_reply": "2023-05-10T00:39:08.117971Z"
    }
   },
   "outputs": [
    {
     "name": "stdout",
     "output_type": "stream",
     "text": [
      "max_temperature     0.988198\n",
      "mean_temperature    1.000000\n",
      "min_temperature     0.985032\n",
      "Name: mean_temperature, dtype: float64\n"
     ]
    }
   ],
   "source": [
    "cor_target = abs(cor[\"mean_temperature\"])\n",
    "relevant_features = cor_target[cor_target>0.5]\n",
    "print(relevant_features)"
   ]
  },
  {
   "cell_type": "code",
   "execution_count": 109,
   "id": "a2adb760",
   "metadata": {
    "execution": {
     "iopub.execute_input": "2023-05-10T00:39:08.119629Z",
     "iopub.status.busy": "2023-05-10T00:39:08.119526Z",
     "iopub.status.idle": "2023-05-10T00:39:08.121727Z",
     "shell.execute_reply": "2023-05-10T00:39:08.121467Z"
    }
   },
   "outputs": [
    {
     "name": "stdout",
     "output_type": "stream",
     "text": [
      "max_temperature     0.988198\n",
      "mean_temperature    1.000000\n",
      "min_temperature     0.985032\n",
      "Name: mean_temperature, dtype: float64\n"
     ]
    }
   ],
   "source": [
    "cor_target = abs(cor[\"mean_temperature\"])\n",
    "relevant_features = cor_target[cor_target>0.75]\n",
    "print(relevant_features)"
   ]
  },
  {
   "cell_type": "code",
   "execution_count": 110,
   "id": "8b93681d",
   "metadata": {
    "execution": {
     "iopub.execute_input": "2023-05-10T00:39:08.123175Z",
     "iopub.status.busy": "2023-05-10T00:39:08.123079Z",
     "iopub.status.idle": "2023-05-10T00:39:08.125273Z",
     "shell.execute_reply": "2023-05-10T00:39:08.124980Z"
    },
    "lines_to_next_cell": 2
   },
   "outputs": [
    {
     "name": "stdout",
     "output_type": "stream",
     "text": [
      "max_temperature     0.988198\n",
      "mean_temperature    1.000000\n",
      "min_temperature     0.985032\n",
      "Name: mean_temperature, dtype: float64\n"
     ]
    }
   ],
   "source": [
    "cor_target = abs(cor[\"mean_temperature\"])\n",
    "relevant_features = cor_target[cor_target>0.75]\n",
    "print(relevant_features)"
   ]
  }
 ],
 "metadata": {
  "jupytext": {
   "cell_metadata_filter": "-all",
   "main_language": "python",
   "notebook_metadata_filter": "-all"
  },
  "language_info": {
   "codemirror_mode": {
    "name": "ipython",
    "version": 3
   },
   "file_extension": ".py",
   "mimetype": "text/x-python",
   "name": "python",
   "nbconvert_exporter": "python",
   "pygments_lexer": "ipython3",
   "version": "3.9.12"
  }
 },
 "nbformat": 4,
 "nbformat_minor": 5
}
