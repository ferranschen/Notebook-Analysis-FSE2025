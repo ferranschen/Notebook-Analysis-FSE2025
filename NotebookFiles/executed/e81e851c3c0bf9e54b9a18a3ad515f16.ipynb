{
 "cells": [
  {
   "cell_type": "code",
   "execution_count": 1,
   "id": "ec4cc47d",
   "metadata": {
    "execution": {
     "iopub.execute_input": "2023-05-10T02:47:09.401652Z",
     "iopub.status.busy": "2023-05-10T02:47:09.401312Z",
     "iopub.status.idle": "2023-05-10T02:47:09.417126Z",
     "shell.execute_reply": "2023-05-10T02:47:09.416651Z"
    }
   },
   "outputs": [],
   "source": [
    "get_ipython().run_cell_magic('capture', '', \"%logstop\\n%logstart -t -r -q ipython_command_log.py global\\n\\n#- IRONHACKS RESEARCH TRACKING CODE\\n#----------------------------------\\n# The following code is used to help our research team understand how you \\n# our notebook environment. We do not collect any personal information with\\n# the following code, it is used to measure when and how often you work on\\n# your submission files.\\n\\nimport os\\nfrom datetime import datetime\\nimport IPython.core.history as history\\n\\nha = history.HistoryAccessor()\\nha_tail = ha.get_tail(1)\\nha_cmd = next(ha_tail)\\nsession_id = str(ha_cmd[0])\\ncommand_id = str(ha_cmd[1])\\ntimestamp = datetime.utcnow().isoformat()\\nhistory_line = ','.join([session_id, command_id, timestamp]) + '\\\\n'\\nlogfile = open(os.environ['HOME']+'/ipython_session_log.csv', 'a')\\nlogfile.write(history_line)\\nlogfile.close()\\n\")"
   ]
  },
  {
   "cell_type": "code",
   "execution_count": 2,
   "id": "9627c040",
   "metadata": {
    "execution": {
     "iopub.execute_input": "2023-05-10T02:47:09.419829Z",
     "iopub.status.busy": "2023-05-10T02:47:09.419603Z",
     "iopub.status.idle": "2023-05-10T02:47:10.046543Z",
     "shell.execute_reply": "2023-05-10T02:47:10.046248Z"
    }
   },
   "outputs": [],
   "source": [
    "#import cell\n",
    "import pandas as pd\n",
    "import numpy as np\n",
    "import statistics\n",
    "import csv\n",
    "import matplotlib.pyplot as plt\n",
    "from google.cloud import bigquery\n",
    "from google.oauth2 import service_account\n",
    "from google.cloud.bigquery import magics"
   ]
  },
  {
   "cell_type": "code",
   "execution_count": 3,
   "id": "1c5b71fe",
   "metadata": {
    "execution": {
     "iopub.execute_input": "2023-05-10T02:47:10.048388Z",
     "iopub.status.busy": "2023-05-10T02:47:10.048201Z",
     "iopub.status.idle": "2023-05-10T02:47:10.056118Z",
     "shell.execute_reply": "2023-05-10T02:47:10.055775Z"
    }
   },
   "outputs": [],
   "source": [
    "BIGQUERY_PROJECT = 'ironhacks-data'\n",
    "bigquery_client = bigquery.Client(project=BIGQUERY_PROJECT)"
   ]
  },
  {
   "cell_type": "code",
   "execution_count": 4,
   "id": "f42e320f",
   "metadata": {
    "execution": {
     "iopub.execute_input": "2023-05-10T02:47:10.057734Z",
     "iopub.status.busy": "2023-05-10T02:47:10.057616Z",
     "iopub.status.idle": "2023-05-10T02:47:10.059833Z",
     "shell.execute_reply": "2023-05-10T02:47:10.059579Z"
    }
   },
   "outputs": [],
   "source": [
    "#Gets the master unemployed table\n",
    "query = \"\"\"\n",
    "SELECT *\n",
    "FROM `ironhacks-data.ironhacks_competition.unemployment_data`\n",
    "\"\"\""
   ]
  },
  {
   "cell_type": "code",
   "execution_count": 5,
   "id": "900711be",
   "metadata": {
    "execution": {
     "iopub.execute_input": "2023-05-10T02:47:10.061214Z",
     "iopub.status.busy": "2023-05-10T02:47:10.061107Z",
     "iopub.status.idle": "2023-05-10T02:47:13.171078Z",
     "shell.execute_reply": "2023-05-10T02:47:13.170519Z"
    }
   },
   "outputs": [
    {
     "name": "stdout",
     "output_type": "stream",
     "text": [
      "(16833, 25)\n"
     ]
    },
    {
     "data": {
      "text/html": [
       "<div>\n",
       "<style scoped>\n",
       "    .dataframe tbody tr th:only-of-type {\n",
       "        vertical-align: middle;\n",
       "    }\n",
       "\n",
       "    .dataframe tbody tr th {\n",
       "        vertical-align: top;\n",
       "    }\n",
       "\n",
       "    .dataframe thead th {\n",
       "        text-align: right;\n",
       "    }\n",
       "</style>\n",
       "<table border=\"1\" class=\"dataframe\">\n",
       "  <thead>\n",
       "    <tr style=\"text-align: right;\">\n",
       "      <th></th>\n",
       "      <th>uu_id</th>\n",
       "      <th>timeperiod</th>\n",
       "      <th>week_number</th>\n",
       "      <th>countyfips</th>\n",
       "      <th>tract</th>\n",
       "      <th>tract_name</th>\n",
       "      <th>total_claims</th>\n",
       "      <th>edu_8th_or_less</th>\n",
       "      <th>edu_grades_9_11</th>\n",
       "      <th>edu_hs_grad_equiv</th>\n",
       "      <th>edu_post_hs</th>\n",
       "      <th>edu_unknown</th>\n",
       "      <th>top_category_employer1</th>\n",
       "      <th>top_category_employer2</th>\n",
       "      <th>top_category_employer3</th>\n",
       "      <th>gender_female</th>\n",
       "      <th>gender_male</th>\n",
       "      <th>gender_na</th>\n",
       "      <th>race_amerindian</th>\n",
       "      <th>race_asian</th>\n",
       "      <th>race_black</th>\n",
       "      <th>race_noanswer</th>\n",
       "      <th>race_hawaiiannative</th>\n",
       "      <th>race_other</th>\n",
       "      <th>race_white</th>\n",
       "    </tr>\n",
       "  </thead>\n",
       "  <tbody>\n",
       "    <tr>\n",
       "      <th>0</th>\n",
       "      <td>f013068de98db1470bd986137a0c6d23</td>\n",
       "      <td>20220416</td>\n",
       "      <td>16</td>\n",
       "      <td>18003</td>\n",
       "      <td>900</td>\n",
       "      <td>Census Tract 9, Allen County, Indiana</td>\n",
       "      <td>22</td>\n",
       "      <td>0</td>\n",
       "      <td>&lt;NA&gt;</td>\n",
       "      <td>14</td>\n",
       "      <td>&lt;NA&gt;</td>\n",
       "      <td>0</td>\n",
       "      <td>31-33</td>\n",
       "      <td>51</td>\n",
       "      <td>62</td>\n",
       "      <td>&lt;NA&gt;</td>\n",
       "      <td>&lt;NA&gt;</td>\n",
       "      <td>0</td>\n",
       "      <td>0</td>\n",
       "      <td>0</td>\n",
       "      <td>11</td>\n",
       "      <td>0</td>\n",
       "      <td>0</td>\n",
       "      <td>&lt;NA&gt;</td>\n",
       "      <td>&lt;NA&gt;</td>\n",
       "    </tr>\n",
       "    <tr>\n",
       "      <th>1</th>\n",
       "      <td>21957d5517323845818d87623589e1ba</td>\n",
       "      <td>20220319</td>\n",
       "      <td>12</td>\n",
       "      <td>18089</td>\n",
       "      <td>10400</td>\n",
       "      <td>Census Tract 104, Lake County, Indiana</td>\n",
       "      <td>111</td>\n",
       "      <td>0</td>\n",
       "      <td>&lt;NA&gt;</td>\n",
       "      <td>108</td>\n",
       "      <td>&lt;NA&gt;</td>\n",
       "      <td>0</td>\n",
       "      <td>48-49</td>\n",
       "      <td>51</td>\n",
       "      <td>56</td>\n",
       "      <td>76</td>\n",
       "      <td>35</td>\n",
       "      <td>0</td>\n",
       "      <td>0</td>\n",
       "      <td>0</td>\n",
       "      <td>&lt;NA&gt;</td>\n",
       "      <td>&lt;NA&gt;</td>\n",
       "      <td>0</td>\n",
       "      <td>0</td>\n",
       "      <td>0</td>\n",
       "    </tr>\n",
       "    <tr>\n",
       "      <th>2</th>\n",
       "      <td>6a5609f385912113b6f1014b958ed748</td>\n",
       "      <td>20220326</td>\n",
       "      <td>13</td>\n",
       "      <td>18089</td>\n",
       "      <td>11500</td>\n",
       "      <td>Census Tract 115, Lake County, Indiana</td>\n",
       "      <td>39</td>\n",
       "      <td>0</td>\n",
       "      <td>&lt;NA&gt;</td>\n",
       "      <td>&lt;NA&gt;</td>\n",
       "      <td>&lt;NA&gt;</td>\n",
       "      <td>0</td>\n",
       "      <td>56</td>\n",
       "      <td>N/A</td>\n",
       "      <td>N/A</td>\n",
       "      <td>&lt;NA&gt;</td>\n",
       "      <td>&lt;NA&gt;</td>\n",
       "      <td>0</td>\n",
       "      <td>0</td>\n",
       "      <td>0</td>\n",
       "      <td>39</td>\n",
       "      <td>0</td>\n",
       "      <td>0</td>\n",
       "      <td>0</td>\n",
       "      <td>0</td>\n",
       "    </tr>\n",
       "  </tbody>\n",
       "</table>\n",
       "</div>"
      ],
      "text/plain": [
       "                              uu_id  timeperiod  week_number  countyfips  \\\n",
       "0  f013068de98db1470bd986137a0c6d23    20220416           16       18003   \n",
       "1  21957d5517323845818d87623589e1ba    20220319           12       18089   \n",
       "2  6a5609f385912113b6f1014b958ed748    20220326           13       18089   \n",
       "\n",
       "   tract                              tract_name  total_claims  \\\n",
       "0    900   Census Tract 9, Allen County, Indiana            22   \n",
       "1  10400  Census Tract 104, Lake County, Indiana           111   \n",
       "2  11500  Census Tract 115, Lake County, Indiana            39   \n",
       "\n",
       "   edu_8th_or_less  edu_grades_9_11  edu_hs_grad_equiv  edu_post_hs  \\\n",
       "0                0             <NA>                 14         <NA>   \n",
       "1                0             <NA>                108         <NA>   \n",
       "2                0             <NA>               <NA>         <NA>   \n",
       "\n",
       "   edu_unknown top_category_employer1 top_category_employer2  \\\n",
       "0            0                  31-33                     51   \n",
       "1            0                  48-49                     51   \n",
       "2            0                     56                    N/A   \n",
       "\n",
       "  top_category_employer3  gender_female  gender_male  gender_na  \\\n",
       "0                     62           <NA>         <NA>          0   \n",
       "1                     56             76           35          0   \n",
       "2                    N/A           <NA>         <NA>          0   \n",
       "\n",
       "   race_amerindian  race_asian  race_black  race_noanswer  \\\n",
       "0                0           0          11              0   \n",
       "1                0           0        <NA>           <NA>   \n",
       "2                0           0          39              0   \n",
       "\n",
       "   race_hawaiiannative  race_other  race_white  \n",
       "0                    0        <NA>        <NA>  \n",
       "1                    0           0           0  \n",
       "2                    0           0           0  "
      ]
     },
     "execution_count": 5,
     "metadata": {},
     "output_type": "execute_result"
    }
   ],
   "source": [
    "# QUERY THE DATA ONCE\n",
    "query_job = bigquery_client.query(query)\n",
    "unemploymentData = query_job.to_dataframe()\n",
    "print(unemploymentData.shape)\n",
    "pd.set_option('display.max_columns', None)\n",
    "unemploymentData.head(3)"
   ]
  },
  {
   "cell_type": "code",
   "execution_count": 6,
   "id": "b1e43334",
   "metadata": {
    "execution": {
     "iopub.execute_input": "2023-05-10T02:47:13.173633Z",
     "iopub.status.busy": "2023-05-10T02:47:13.173439Z",
     "iopub.status.idle": "2023-05-10T02:47:13.251597Z",
     "shell.execute_reply": "2023-05-10T02:47:13.251315Z"
    }
   },
   "outputs": [],
   "source": [
    "#Gets each tracks mean and std dev\n",
    "#unlist has the master unemployment list\n",
    "#b becomes the filtered list\n",
    "unList = unemploymentData.values.tolist()\n",
    "b_set = set(tuple(x) for x in unList)\n",
    "b = [ list(x) for x in b_set ]"
   ]
  },
  {
   "cell_type": "code",
   "execution_count": 7,
   "id": "6cd2e6c4",
   "metadata": {
    "execution": {
     "iopub.execute_input": "2023-05-10T02:47:13.253301Z",
     "iopub.status.busy": "2023-05-10T02:47:13.253204Z",
     "iopub.status.idle": "2023-05-10T02:47:13.306736Z",
     "shell.execute_reply": "2023-05-10T02:47:13.306498Z"
    }
   },
   "outputs": [],
   "source": [
    "uuid = []\n",
    "#makes a list of the unique uuid\n",
    "for x in b:\n",
    "    if(uuid.count(x[0]) == 0):\n",
    "        uuid.append(x[0])"
   ]
  },
  {
   "cell_type": "code",
   "execution_count": 8,
   "id": "68758768",
   "metadata": {
    "execution": {
     "iopub.execute_input": "2023-05-10T02:47:13.308209Z",
     "iopub.status.busy": "2023-05-10T02:47:13.308123Z",
     "iopub.status.idle": "2023-05-10T02:47:13.309921Z",
     "shell.execute_reply": "2023-05-10T02:47:13.309695Z"
    }
   },
   "outputs": [],
   "source": [
    "#setup for extract        \n",
    "values = []\n",
    "export = []"
   ]
  },
  {
   "cell_type": "code",
   "execution_count": 9,
   "id": "5d0ce5f5",
   "metadata": {
    "execution": {
     "iopub.execute_input": "2023-05-10T02:47:13.311200Z",
     "iopub.status.busy": "2023-05-10T02:47:13.311120Z",
     "iopub.status.idle": "2023-05-10T02:47:13.627061Z",
     "shell.execute_reply": "2023-05-10T02:47:13.626772Z"
    }
   },
   "outputs": [],
   "source": [
    "#for each value make a list of each weeks claims\n",
    "for y in uuid:\n",
    "    temp = [y]\n",
    "    for x in b:\n",
    "        if (x[0] == y):\n",
    "            temp.append(x[6])\n",
    "    values.append(temp)"
   ]
  },
  {
   "cell_type": "code",
   "execution_count": 10,
   "id": "d7b7d757",
   "metadata": {
    "execution": {
     "iopub.execute_input": "2023-05-10T02:47:13.628660Z",
     "iopub.status.busy": "2023-05-10T02:47:13.628573Z",
     "iopub.status.idle": "2023-05-10T02:47:13.665376Z",
     "shell.execute_reply": "2023-05-10T02:47:13.665057Z"
    }
   },
   "outputs": [],
   "source": [
    "for x in values:\n",
    "    name = x[0]\n",
    "    mean = statistics.mean(x[1:])\n",
    "    if (len(x) > 2):\n",
    "        stdev = statistics.stdev(x[1:])\n",
    "    else:\n",
    "        print(\"short\")\n",
    "    export.append([name, mean, stdev])"
   ]
  },
  {
   "cell_type": "code",
   "execution_count": 11,
   "id": "55e514f7",
   "metadata": {
    "execution": {
     "iopub.execute_input": "2023-05-10T02:47:13.666830Z",
     "iopub.status.busy": "2023-05-10T02:47:13.666739Z",
     "iopub.status.idle": "2023-05-10T02:47:13.668569Z",
     "shell.execute_reply": "2023-05-10T02:47:13.668323Z"
    }
   },
   "outputs": [],
   "source": [
    "#Everything above this is testing\n",
    "#Make the answer csv\n",
    "query = \"\"\"\n",
    "SELECT *\n",
    "FROM `ironhacks-data.ironhacks_competition.prediction_list`\n",
    "\"\"\""
   ]
  },
  {
   "cell_type": "code",
   "execution_count": 12,
   "id": "3ecf03a4",
   "metadata": {
    "execution": {
     "iopub.execute_input": "2023-05-10T02:47:13.669927Z",
     "iopub.status.busy": "2023-05-10T02:47:13.669849Z",
     "iopub.status.idle": "2023-05-10T02:47:15.273973Z",
     "shell.execute_reply": "2023-05-10T02:47:15.272479Z"
    }
   },
   "outputs": [],
   "source": [
    "# QUERY THE DATA ONCE\n",
    "query_job = bigquery_client.query(query)\n",
    "predictionData = query_job.to_dataframe()"
   ]
  },
  {
   "cell_type": "code",
   "execution_count": 13,
   "id": "26128353",
   "metadata": {
    "execution": {
     "iopub.execute_input": "2023-05-10T02:47:15.279766Z",
     "iopub.status.busy": "2023-05-10T02:47:15.279348Z",
     "iopub.status.idle": "2023-05-10T02:47:15.339872Z",
     "shell.execute_reply": "2023-05-10T02:47:15.339448Z"
    }
   },
   "outputs": [],
   "source": [
    "answers = predictionData.values.tolist()\n",
    "#Answers[names, week]\n",
    "#export[names, mean, stddev]\n",
    "i = 0\n",
    "for x in answers:\n",
    "    for y in export:\n",
    "        if(y.count(x[0]) == 1):\n",
    "            answers[i].insert(1, y[1])\n",
    "    i = i + 1"
   ]
  },
  {
   "cell_type": "code",
   "execution_count": 14,
   "id": "880131b6",
   "metadata": {
    "execution": {
     "iopub.execute_input": "2023-05-10T02:47:15.341928Z",
     "iopub.status.busy": "2023-05-10T02:47:15.341768Z",
     "iopub.status.idle": "2023-05-10T02:47:15.345305Z",
     "shell.execute_reply": "2023-05-10T02:47:15.344976Z"
    },
    "lines_to_next_cell": 2
   },
   "outputs": [],
   "source": [
    "fields = ['uu_id', 'total_claims', 'week_number']\n",
    "with open('submission_prediction_output.csv', 'w') as f:\n",
    "    write = csv.writer(f)\n",
    "    write.writerow(fields)\n",
    "    write.writerows(answers)"
   ]
  }
 ],
 "metadata": {
  "jupytext": {
   "cell_metadata_filter": "-all",
   "main_language": "python",
   "notebook_metadata_filter": "-all"
  },
  "language_info": {
   "codemirror_mode": {
    "name": "ipython",
    "version": 3
   },
   "file_extension": ".py",
   "mimetype": "text/x-python",
   "name": "python",
   "nbconvert_exporter": "python",
   "pygments_lexer": "ipython3",
   "version": "3.9.12"
  }
 },
 "nbformat": 4,
 "nbformat_minor": 5
}
