{
 "cells": [
  {
   "cell_type": "code",
   "execution_count": 1,
   "id": "acf5fb6b",
   "metadata": {
    "execution": {
     "iopub.execute_input": "2023-05-10T02:03:00.720431Z",
     "iopub.status.busy": "2023-05-10T02:03:00.719985Z",
     "iopub.status.idle": "2023-05-10T02:03:01.176835Z",
     "shell.execute_reply": "2023-05-10T02:03:01.176515Z"
    }
   },
   "outputs": [],
   "source": [
    "import os\n",
    "import pandas\n",
    "from google.cloud import bigquery\n",
    "from google.oauth2 import service_account\n",
    "from google.cloud.bigquery import magics"
   ]
  },
  {
   "cell_type": "markdown",
   "id": "371e46b4",
   "metadata": {},
   "source": [
    "CONFIGURE THE BIGQUERY SETTINGS"
   ]
  },
  {
   "cell_type": "code",
   "execution_count": 2,
   "id": "9ec3107d",
   "metadata": {
    "execution": {
     "iopub.execute_input": "2023-05-10T02:03:01.178582Z",
     "iopub.status.busy": "2023-05-10T02:03:01.178444Z",
     "iopub.status.idle": "2023-05-10T02:03:01.185324Z",
     "shell.execute_reply": "2023-05-10T02:03:01.184984Z"
    }
   },
   "outputs": [],
   "source": [
    "BIGQUERY_PROJECT = 'ironhacks-data'\n",
    "bigquery_client = bigquery.Client(project=BIGQUERY_PROJECT)"
   ]
  },
  {
   "cell_type": "code",
   "execution_count": 3,
   "id": "1b4bd824",
   "metadata": {
    "execution": {
     "iopub.execute_input": "2023-05-10T02:03:01.187093Z",
     "iopub.status.busy": "2023-05-10T02:03:01.186961Z",
     "iopub.status.idle": "2023-05-10T02:03:01.188892Z",
     "shell.execute_reply": "2023-05-10T02:03:01.188651Z"
    }
   },
   "outputs": [],
   "source": [
    "query = \"\"\"\n",
    "SELECT *\n",
    "FROM `ironhacks-data.ironhacks_training.covid19_cases`\n",
    "\"\"\""
   ]
  },
  {
   "cell_type": "code",
   "execution_count": 4,
   "id": "1f2ef05f",
   "metadata": {
    "execution": {
     "iopub.execute_input": "2023-05-10T02:03:01.190294Z",
     "iopub.status.busy": "2023-05-10T02:03:01.190183Z",
     "iopub.status.idle": "2023-05-10T02:03:02.902717Z",
     "shell.execute_reply": "2023-05-10T02:03:02.901933Z"
    },
    "lines_to_next_cell": 2
   },
   "outputs": [],
   "source": [
    "# QUERY THE DATA ONCE\n",
    "query_job = bigquery_client.query(query)\n",
    "covid19_cases_data = query_job.to_dataframe()"
   ]
  }
 ],
 "metadata": {
  "jupytext": {
   "cell_metadata_filter": "-all",
   "main_language": "python",
   "notebook_metadata_filter": "-all"
  },
  "language_info": {
   "codemirror_mode": {
    "name": "ipython",
    "version": 3
   },
   "file_extension": ".py",
   "mimetype": "text/x-python",
   "name": "python",
   "nbconvert_exporter": "python",
   "pygments_lexer": "ipython3",
   "version": "3.9.12"
  }
 },
 "nbformat": 4,
 "nbformat_minor": 5
}
