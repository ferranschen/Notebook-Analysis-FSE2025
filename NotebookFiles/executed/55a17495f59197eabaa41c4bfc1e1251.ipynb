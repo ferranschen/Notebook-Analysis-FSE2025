{
 "cells": [
  {
   "cell_type": "code",
   "execution_count": 1,
   "id": "699a2ab0",
   "metadata": {
    "execution": {
     "iopub.execute_input": "2023-05-10T00:53:18.653993Z",
     "iopub.status.busy": "2023-05-10T00:53:18.653843Z",
     "iopub.status.idle": "2023-05-10T00:53:19.105303Z",
     "shell.execute_reply": "2023-05-10T00:53:19.104992Z"
    }
   },
   "outputs": [],
   "source": [
    "import os\n",
    "import pandas\n",
    "from google.cloud import bigquery\n",
    "from google.oauth2 import service_account\n",
    "from google.cloud.bigquery import magics"
   ]
  },
  {
   "cell_type": "code",
   "execution_count": 2,
   "id": "24ed6f39",
   "metadata": {
    "execution": {
     "iopub.execute_input": "2023-05-10T00:53:19.107164Z",
     "iopub.status.busy": "2023-05-10T00:53:19.107006Z",
     "iopub.status.idle": "2023-05-10T00:53:19.108959Z",
     "shell.execute_reply": "2023-05-10T00:53:19.108730Z"
    }
   },
   "outputs": [],
   "source": [
    "import os\n",
    "import pandas\n",
    "from google.cloud import bigquery\n",
    "from google.oauth2 import service_account\n",
    "from google.cloud.bigquery import magics"
   ]
  },
  {
   "cell_type": "code",
   "execution_count": 3,
   "id": "0904bf23",
   "metadata": {
    "execution": {
     "iopub.execute_input": "2023-05-10T00:53:19.110305Z",
     "iopub.status.busy": "2023-05-10T00:53:19.110207Z",
     "iopub.status.idle": "2023-05-10T00:53:19.111868Z",
     "shell.execute_reply": "2023-05-10T00:53:19.111627Z"
    }
   },
   "outputs": [],
   "source": [
    "BIGQUERY_PROJECT = 'ironhacks-data'"
   ]
  },
  {
   "cell_type": "code",
   "execution_count": 4,
   "id": "36fa2442",
   "metadata": {
    "execution": {
     "iopub.execute_input": "2023-05-10T00:53:19.113398Z",
     "iopub.status.busy": "2023-05-10T00:53:19.113277Z",
     "iopub.status.idle": "2023-05-10T00:53:19.120523Z",
     "shell.execute_reply": "2023-05-10T00:53:19.120187Z"
    }
   },
   "outputs": [],
   "source": [
    "bigquery_client = bigquery.Client(project=BIGQUERY_PROJECT)"
   ]
  },
  {
   "cell_type": "code",
   "execution_count": 5,
   "id": "3d317772",
   "metadata": {
    "execution": {
     "iopub.execute_input": "2023-05-10T00:53:19.122275Z",
     "iopub.status.busy": "2023-05-10T00:53:19.122156Z",
     "iopub.status.idle": "2023-05-10T00:53:19.123946Z",
     "shell.execute_reply": "2023-05-10T00:53:19.123709Z"
    }
   },
   "outputs": [],
   "source": [
    "BIGQUERY_PROJECT = 'ironhacks-data'"
   ]
  },
  {
   "cell_type": "code",
   "execution_count": 6,
   "id": "de7cc325",
   "metadata": {
    "execution": {
     "iopub.execute_input": "2023-05-10T00:53:19.125360Z",
     "iopub.status.busy": "2023-05-10T00:53:19.125266Z",
     "iopub.status.idle": "2023-05-10T00:53:19.131231Z",
     "shell.execute_reply": "2023-05-10T00:53:19.130839Z"
    }
   },
   "outputs": [],
   "source": [
    "bigquery_client = bigquery.Client(project=BIGQUERY_PROJECT)"
   ]
  },
  {
   "cell_type": "code",
   "execution_count": 7,
   "id": "d5e80750",
   "metadata": {
    "execution": {
     "iopub.execute_input": "2023-05-10T00:53:19.133376Z",
     "iopub.status.busy": "2023-05-10T00:53:19.133243Z",
     "iopub.status.idle": "2023-05-10T00:53:19.135157Z",
     "shell.execute_reply": "2023-05-10T00:53:19.134906Z"
    }
   },
   "outputs": [],
   "source": [
    "query = \"\"\"\n",
    "SELECT * FROM `ironhacks-data.ironhacks_training.weather_data`\n",
    "\"\"\""
   ]
  },
  {
   "cell_type": "code",
   "execution_count": 8,
   "id": "04bfed71",
   "metadata": {
    "execution": {
     "iopub.execute_input": "2023-05-10T00:53:19.136530Z",
     "iopub.status.busy": "2023-05-10T00:53:19.136431Z",
     "iopub.status.idle": "2023-05-10T00:53:20.783440Z",
     "shell.execute_reply": "2023-05-10T00:53:20.782853Z"
    }
   },
   "outputs": [
    {
     "data": {
      "text/html": [
       "<div>\n",
       "<style scoped>\n",
       "    .dataframe tbody tr th:only-of-type {\n",
       "        vertical-align: middle;\n",
       "    }\n",
       "\n",
       "    .dataframe tbody tr th {\n",
       "        vertical-align: top;\n",
       "    }\n",
       "\n",
       "    .dataframe thead th {\n",
       "        text-align: right;\n",
       "    }\n",
       "</style>\n",
       "<table border=\"1\" class=\"dataframe\">\n",
       "  <thead>\n",
       "    <tr style=\"text-align: right;\">\n",
       "      <th></th>\n",
       "      <th>date</th>\n",
       "      <th>max_rel_humidity</th>\n",
       "      <th>max_temperature</th>\n",
       "      <th>mean_temperature</th>\n",
       "      <th>min_rel_humidity</th>\n",
       "      <th>min_temperature</th>\n",
       "      <th>potential_water_deficit</th>\n",
       "      <th>precipitation_data</th>\n",
       "      <th>wind_speed</th>\n",
       "    </tr>\n",
       "  </thead>\n",
       "  <tbody>\n",
       "    <tr>\n",
       "      <th>0</th>\n",
       "      <td>2019-09-04</td>\n",
       "      <td>99.9498</td>\n",
       "      <td>25.4570</td>\n",
       "      <td>18.6242</td>\n",
       "      <td>56.4720</td>\n",
       "      <td>11.7913</td>\n",
       "      <td>-3.6142</td>\n",
       "      <td>0.0</td>\n",
       "      <td>3.6461</td>\n",
       "    </tr>\n",
       "    <tr>\n",
       "      <th>1</th>\n",
       "      <td>2020-02-16</td>\n",
       "      <td>84.4966</td>\n",
       "      <td>8.6228</td>\n",
       "      <td>3.1896</td>\n",
       "      <td>40.7666</td>\n",
       "      <td>-2.2436</td>\n",
       "      <td>-1.4307</td>\n",
       "      <td>0.0</td>\n",
       "      <td>2.2398</td>\n",
       "    </tr>\n",
       "    <tr>\n",
       "      <th>2</th>\n",
       "      <td>2019-12-19</td>\n",
       "      <td>95.9017</td>\n",
       "      <td>2.8886</td>\n",
       "      <td>-3.4884</td>\n",
       "      <td>39.0330</td>\n",
       "      <td>-9.8654</td>\n",
       "      <td>-0.9389</td>\n",
       "      <td>0.0</td>\n",
       "      <td>4.1230</td>\n",
       "    </tr>\n",
       "    <tr>\n",
       "      <th>3</th>\n",
       "      <td>2020-02-20</td>\n",
       "      <td>70.0359</td>\n",
       "      <td>0.7939</td>\n",
       "      <td>-4.0254</td>\n",
       "      <td>34.7544</td>\n",
       "      <td>-8.8446</td>\n",
       "      <td>-1.4427</td>\n",
       "      <td>0.0</td>\n",
       "      <td>4.8531</td>\n",
       "    </tr>\n",
       "    <tr>\n",
       "      <th>4</th>\n",
       "      <td>2019-12-23</td>\n",
       "      <td>97.1634</td>\n",
       "      <td>13.8411</td>\n",
       "      <td>5.7818</td>\n",
       "      <td>31.2553</td>\n",
       "      <td>-2.2774</td>\n",
       "      <td>-1.2787</td>\n",
       "      <td>0.0</td>\n",
       "      <td>2.3404</td>\n",
       "    </tr>\n",
       "  </tbody>\n",
       "</table>\n",
       "</div>"
      ],
      "text/plain": [
       "         date  max_rel_humidity  max_temperature  mean_temperature  \\\n",
       "0  2019-09-04           99.9498          25.4570           18.6242   \n",
       "1  2020-02-16           84.4966           8.6228            3.1896   \n",
       "2  2019-12-19           95.9017           2.8886           -3.4884   \n",
       "3  2020-02-20           70.0359           0.7939           -4.0254   \n",
       "4  2019-12-23           97.1634          13.8411            5.7818   \n",
       "\n",
       "   min_rel_humidity  min_temperature  potential_water_deficit  \\\n",
       "0           56.4720          11.7913                  -3.6142   \n",
       "1           40.7666          -2.2436                  -1.4307   \n",
       "2           39.0330          -9.8654                  -0.9389   \n",
       "3           34.7544          -8.8446                  -1.4427   \n",
       "4           31.2553          -2.2774                  -1.2787   \n",
       "\n",
       "   precipitation_data  wind_speed  \n",
       "0                 0.0      3.6461  \n",
       "1                 0.0      2.2398  \n",
       "2                 0.0      4.1230  \n",
       "3                 0.0      4.8531  \n",
       "4                 0.0      2.3404  "
      ]
     },
     "execution_count": 8,
     "metadata": {},
     "output_type": "execute_result"
    }
   ],
   "source": [
    "query_job = bigquery_client.query(query)\n",
    "data = query_job.to_dataframe()\n",
    "data.head()"
   ]
  },
  {
   "cell_type": "code",
   "execution_count": 9,
   "id": "fe774de3",
   "metadata": {
    "execution": {
     "iopub.execute_input": "2023-05-10T00:53:20.786172Z",
     "iopub.status.busy": "2023-05-10T00:53:20.785958Z",
     "iopub.status.idle": "2023-05-10T00:53:20.788377Z",
     "shell.execute_reply": "2023-05-10T00:53:20.787942Z"
    }
   },
   "outputs": [],
   "source": [
    "query = \"\"\"\n",
    "SELECT * FROM `ironhacks-data.ironhacks_training.weather_data`\n",
    "\"\"\""
   ]
  },
  {
   "cell_type": "code",
   "execution_count": 10,
   "id": "c102e360",
   "metadata": {
    "execution": {
     "iopub.execute_input": "2023-05-10T00:53:20.790589Z",
     "iopub.status.busy": "2023-05-10T00:53:20.790411Z",
     "iopub.status.idle": "2023-05-10T00:53:22.232092Z",
     "shell.execute_reply": "2023-05-10T00:53:22.231410Z"
    }
   },
   "outputs": [
    {
     "data": {
      "text/html": [
       "<div>\n",
       "<style scoped>\n",
       "    .dataframe tbody tr th:only-of-type {\n",
       "        vertical-align: middle;\n",
       "    }\n",
       "\n",
       "    .dataframe tbody tr th {\n",
       "        vertical-align: top;\n",
       "    }\n",
       "\n",
       "    .dataframe thead th {\n",
       "        text-align: right;\n",
       "    }\n",
       "</style>\n",
       "<table border=\"1\" class=\"dataframe\">\n",
       "  <thead>\n",
       "    <tr style=\"text-align: right;\">\n",
       "      <th></th>\n",
       "      <th>date</th>\n",
       "      <th>max_rel_humidity</th>\n",
       "      <th>max_temperature</th>\n",
       "      <th>mean_temperature</th>\n",
       "      <th>min_rel_humidity</th>\n",
       "      <th>min_temperature</th>\n",
       "      <th>potential_water_deficit</th>\n",
       "      <th>precipitation_data</th>\n",
       "      <th>wind_speed</th>\n",
       "    </tr>\n",
       "  </thead>\n",
       "  <tbody>\n",
       "    <tr>\n",
       "      <th>0</th>\n",
       "      <td>2019-09-04</td>\n",
       "      <td>99.9498</td>\n",
       "      <td>25.4570</td>\n",
       "      <td>18.6242</td>\n",
       "      <td>56.4720</td>\n",
       "      <td>11.7913</td>\n",
       "      <td>-3.6142</td>\n",
       "      <td>0.0000</td>\n",
       "      <td>3.6461</td>\n",
       "    </tr>\n",
       "    <tr>\n",
       "      <th>1</th>\n",
       "      <td>2020-02-16</td>\n",
       "      <td>84.4966</td>\n",
       "      <td>8.6228</td>\n",
       "      <td>3.1896</td>\n",
       "      <td>40.7666</td>\n",
       "      <td>-2.2436</td>\n",
       "      <td>-1.4307</td>\n",
       "      <td>0.0000</td>\n",
       "      <td>2.2398</td>\n",
       "    </tr>\n",
       "    <tr>\n",
       "      <th>2</th>\n",
       "      <td>2019-12-19</td>\n",
       "      <td>95.9017</td>\n",
       "      <td>2.8886</td>\n",
       "      <td>-3.4884</td>\n",
       "      <td>39.0330</td>\n",
       "      <td>-9.8654</td>\n",
       "      <td>-0.9389</td>\n",
       "      <td>0.0000</td>\n",
       "      <td>4.1230</td>\n",
       "    </tr>\n",
       "    <tr>\n",
       "      <th>3</th>\n",
       "      <td>2020-02-20</td>\n",
       "      <td>70.0359</td>\n",
       "      <td>0.7939</td>\n",
       "      <td>-4.0254</td>\n",
       "      <td>34.7544</td>\n",
       "      <td>-8.8446</td>\n",
       "      <td>-1.4427</td>\n",
       "      <td>0.0000</td>\n",
       "      <td>4.8531</td>\n",
       "    </tr>\n",
       "    <tr>\n",
       "      <th>4</th>\n",
       "      <td>2019-12-23</td>\n",
       "      <td>97.1634</td>\n",
       "      <td>13.8411</td>\n",
       "      <td>5.7818</td>\n",
       "      <td>31.2553</td>\n",
       "      <td>-2.2774</td>\n",
       "      <td>-1.2787</td>\n",
       "      <td>0.0000</td>\n",
       "      <td>2.3404</td>\n",
       "    </tr>\n",
       "    <tr>\n",
       "      <th>...</th>\n",
       "      <td>...</td>\n",
       "      <td>...</td>\n",
       "      <td>...</td>\n",
       "      <td>...</td>\n",
       "      <td>...</td>\n",
       "      <td>...</td>\n",
       "      <td>...</td>\n",
       "      <td>...</td>\n",
       "      <td>...</td>\n",
       "    </tr>\n",
       "    <tr>\n",
       "      <th>360</th>\n",
       "      <td>2020-04-30</td>\n",
       "      <td>96.2771</td>\n",
       "      <td>10.2888</td>\n",
       "      <td>7.1714</td>\n",
       "      <td>69.4000</td>\n",
       "      <td>4.0540</td>\n",
       "      <td>-0.8344</td>\n",
       "      <td>0.6096</td>\n",
       "      <td>6.1917</td>\n",
       "    </tr>\n",
       "    <tr>\n",
       "      <th>361</th>\n",
       "      <td>2020-01-19</td>\n",
       "      <td>52.0808</td>\n",
       "      <td>3.7231</td>\n",
       "      <td>-1.8390</td>\n",
       "      <td>23.0505</td>\n",
       "      <td>-7.4012</td>\n",
       "      <td>-2.0879</td>\n",
       "      <td>0.1006</td>\n",
       "      <td>7.3570</td>\n",
       "    </tr>\n",
       "    <tr>\n",
       "      <th>362</th>\n",
       "      <td>2020-05-09</td>\n",
       "      <td>65.8581</td>\n",
       "      <td>13.9009</td>\n",
       "      <td>7.3270</td>\n",
       "      <td>26.1280</td>\n",
       "      <td>0.7531</td>\n",
       "      <td>-3.9989</td>\n",
       "      <td>0.0221</td>\n",
       "      <td>3.9315</td>\n",
       "    </tr>\n",
       "    <tr>\n",
       "      <th>363</th>\n",
       "      <td>2020-06-25</td>\n",
       "      <td>75.0191</td>\n",
       "      <td>28.4810</td>\n",
       "      <td>22.4637</td>\n",
       "      <td>35.8970</td>\n",
       "      <td>16.4465</td>\n",
       "      <td>-6.2345</td>\n",
       "      <td>0.0884</td>\n",
       "      <td>3.7202</td>\n",
       "    </tr>\n",
       "    <tr>\n",
       "      <th>364</th>\n",
       "      <td>2020-01-28</td>\n",
       "      <td>100.0000</td>\n",
       "      <td>8.6565</td>\n",
       "      <td>0.7474</td>\n",
       "      <td>45.1941</td>\n",
       "      <td>-7.1618</td>\n",
       "      <td>-0.8509</td>\n",
       "      <td>0.0282</td>\n",
       "      <td>1.9813</td>\n",
       "    </tr>\n",
       "  </tbody>\n",
       "</table>\n",
       "<p>365 rows × 9 columns</p>\n",
       "</div>"
      ],
      "text/plain": [
       "           date  max_rel_humidity  max_temperature  mean_temperature  \\\n",
       "0    2019-09-04           99.9498          25.4570           18.6242   \n",
       "1    2020-02-16           84.4966           8.6228            3.1896   \n",
       "2    2019-12-19           95.9017           2.8886           -3.4884   \n",
       "3    2020-02-20           70.0359           0.7939           -4.0254   \n",
       "4    2019-12-23           97.1634          13.8411            5.7818   \n",
       "..          ...               ...              ...               ...   \n",
       "360  2020-04-30           96.2771          10.2888            7.1714   \n",
       "361  2020-01-19           52.0808           3.7231           -1.8390   \n",
       "362  2020-05-09           65.8581          13.9009            7.3270   \n",
       "363  2020-06-25           75.0191          28.4810           22.4637   \n",
       "364  2020-01-28          100.0000           8.6565            0.7474   \n",
       "\n",
       "     min_rel_humidity  min_temperature  potential_water_deficit  \\\n",
       "0             56.4720          11.7913                  -3.6142   \n",
       "1             40.7666          -2.2436                  -1.4307   \n",
       "2             39.0330          -9.8654                  -0.9389   \n",
       "3             34.7544          -8.8446                  -1.4427   \n",
       "4             31.2553          -2.2774                  -1.2787   \n",
       "..                ...              ...                      ...   \n",
       "360           69.4000           4.0540                  -0.8344   \n",
       "361           23.0505          -7.4012                  -2.0879   \n",
       "362           26.1280           0.7531                  -3.9989   \n",
       "363           35.8970          16.4465                  -6.2345   \n",
       "364           45.1941          -7.1618                  -0.8509   \n",
       "\n",
       "     precipitation_data  wind_speed  \n",
       "0                0.0000      3.6461  \n",
       "1                0.0000      2.2398  \n",
       "2                0.0000      4.1230  \n",
       "3                0.0000      4.8531  \n",
       "4                0.0000      2.3404  \n",
       "..                  ...         ...  \n",
       "360              0.6096      6.1917  \n",
       "361              0.1006      7.3570  \n",
       "362              0.0221      3.9315  \n",
       "363              0.0884      3.7202  \n",
       "364              0.0282      1.9813  \n",
       "\n",
       "[365 rows x 9 columns]"
      ]
     },
     "execution_count": 10,
     "metadata": {},
     "output_type": "execute_result"
    }
   ],
   "source": [
    "query_job = bigquery_client.query(query)\n",
    "data = query_job.to_dataframe()\n",
    "data"
   ]
  },
  {
   "cell_type": "code",
   "execution_count": 11,
   "id": "145af2a6",
   "metadata": {
    "execution": {
     "iopub.execute_input": "2023-05-10T00:53:22.235289Z",
     "iopub.status.busy": "2023-05-10T00:53:22.235011Z",
     "iopub.status.idle": "2023-05-10T00:53:22.237936Z",
     "shell.execute_reply": "2023-05-10T00:53:22.237396Z"
    }
   },
   "outputs": [],
   "source": [
    "query = \"\"\"\n",
    "SELECT * FROM `ironhacks-data.ironhacks_training.weather_data`\n",
    "\"\"\""
   ]
  },
  {
   "cell_type": "code",
   "execution_count": 12,
   "id": "3beda6fd",
   "metadata": {
    "execution": {
     "iopub.execute_input": "2023-05-10T00:53:22.240708Z",
     "iopub.status.busy": "2023-05-10T00:53:22.240469Z",
     "iopub.status.idle": "2023-05-10T00:53:23.613944Z",
     "shell.execute_reply": "2023-05-10T00:53:23.613124Z"
    }
   },
   "outputs": [
    {
     "data": {
      "text/html": [
       "<div>\n",
       "<style scoped>\n",
       "    .dataframe tbody tr th:only-of-type {\n",
       "        vertical-align: middle;\n",
       "    }\n",
       "\n",
       "    .dataframe tbody tr th {\n",
       "        vertical-align: top;\n",
       "    }\n",
       "\n",
       "    .dataframe thead th {\n",
       "        text-align: right;\n",
       "    }\n",
       "</style>\n",
       "<table border=\"1\" class=\"dataframe\">\n",
       "  <thead>\n",
       "    <tr style=\"text-align: right;\">\n",
       "      <th></th>\n",
       "      <th>date</th>\n",
       "      <th>max_rel_humidity</th>\n",
       "      <th>max_temperature</th>\n",
       "      <th>mean_temperature</th>\n",
       "      <th>min_rel_humidity</th>\n",
       "      <th>min_temperature</th>\n",
       "      <th>potential_water_deficit</th>\n",
       "      <th>precipitation_data</th>\n",
       "      <th>wind_speed</th>\n",
       "    </tr>\n",
       "  </thead>\n",
       "  <tbody>\n",
       "    <tr>\n",
       "      <th>0</th>\n",
       "      <td>2019-09-04</td>\n",
       "      <td>99.9498</td>\n",
       "      <td>25.4570</td>\n",
       "      <td>18.6242</td>\n",
       "      <td>56.4720</td>\n",
       "      <td>11.7913</td>\n",
       "      <td>-3.6142</td>\n",
       "      <td>0.0</td>\n",
       "      <td>3.6461</td>\n",
       "    </tr>\n",
       "    <tr>\n",
       "      <th>1</th>\n",
       "      <td>2020-02-16</td>\n",
       "      <td>84.4966</td>\n",
       "      <td>8.6228</td>\n",
       "      <td>3.1896</td>\n",
       "      <td>40.7666</td>\n",
       "      <td>-2.2436</td>\n",
       "      <td>-1.4307</td>\n",
       "      <td>0.0</td>\n",
       "      <td>2.2398</td>\n",
       "    </tr>\n",
       "    <tr>\n",
       "      <th>2</th>\n",
       "      <td>2019-12-19</td>\n",
       "      <td>95.9017</td>\n",
       "      <td>2.8886</td>\n",
       "      <td>-3.4884</td>\n",
       "      <td>39.0330</td>\n",
       "      <td>-9.8654</td>\n",
       "      <td>-0.9389</td>\n",
       "      <td>0.0</td>\n",
       "      <td>4.1230</td>\n",
       "    </tr>\n",
       "    <tr>\n",
       "      <th>3</th>\n",
       "      <td>2020-02-20</td>\n",
       "      <td>70.0359</td>\n",
       "      <td>0.7939</td>\n",
       "      <td>-4.0254</td>\n",
       "      <td>34.7544</td>\n",
       "      <td>-8.8446</td>\n",
       "      <td>-1.4427</td>\n",
       "      <td>0.0</td>\n",
       "      <td>4.8531</td>\n",
       "    </tr>\n",
       "    <tr>\n",
       "      <th>4</th>\n",
       "      <td>2019-12-23</td>\n",
       "      <td>97.1634</td>\n",
       "      <td>13.8411</td>\n",
       "      <td>5.7818</td>\n",
       "      <td>31.2553</td>\n",
       "      <td>-2.2774</td>\n",
       "      <td>-1.2787</td>\n",
       "      <td>0.0</td>\n",
       "      <td>2.3404</td>\n",
       "    </tr>\n",
       "  </tbody>\n",
       "</table>\n",
       "</div>"
      ],
      "text/plain": [
       "         date  max_rel_humidity  max_temperature  mean_temperature  \\\n",
       "0  2019-09-04           99.9498          25.4570           18.6242   \n",
       "1  2020-02-16           84.4966           8.6228            3.1896   \n",
       "2  2019-12-19           95.9017           2.8886           -3.4884   \n",
       "3  2020-02-20           70.0359           0.7939           -4.0254   \n",
       "4  2019-12-23           97.1634          13.8411            5.7818   \n",
       "\n",
       "   min_rel_humidity  min_temperature  potential_water_deficit  \\\n",
       "0           56.4720          11.7913                  -3.6142   \n",
       "1           40.7666          -2.2436                  -1.4307   \n",
       "2           39.0330          -9.8654                  -0.9389   \n",
       "3           34.7544          -8.8446                  -1.4427   \n",
       "4           31.2553          -2.2774                  -1.2787   \n",
       "\n",
       "   precipitation_data  wind_speed  \n",
       "0                 0.0      3.6461  \n",
       "1                 0.0      2.2398  \n",
       "2                 0.0      4.1230  \n",
       "3                 0.0      4.8531  \n",
       "4                 0.0      2.3404  "
      ]
     },
     "execution_count": 12,
     "metadata": {},
     "output_type": "execute_result"
    }
   ],
   "source": [
    "query_job = bigquery_client.query(query)\n",
    "data = query_job.to_dataframe()\n",
    "data.head()"
   ]
  },
  {
   "cell_type": "code",
   "execution_count": 13,
   "id": "5a0b3a77",
   "metadata": {
    "execution": {
     "iopub.execute_input": "2023-05-10T00:53:23.619391Z",
     "iopub.status.busy": "2023-05-10T00:53:23.618922Z",
     "iopub.status.idle": "2023-05-10T00:53:25.233616Z",
     "shell.execute_reply": "2023-05-10T00:53:25.232141Z"
    }
   },
   "outputs": [],
   "source": [
    "query = \"\"\"\n",
    "SELECT date, max_rel_humidity\n",
    "FROM ironhacks-data.ironhacks_training.weather_data\n",
    "WHERE date='2020-06-16'\n",
    "\"\"\"\n",
    "query_job = bigquery_client.query(query)\n",
    "data = query_job.to_dataframe()"
   ]
  },
  {
   "cell_type": "code",
   "execution_count": 14,
   "id": "153128b0",
   "metadata": {
    "execution": {
     "iopub.execute_input": "2023-05-10T00:53:25.240416Z",
     "iopub.status.busy": "2023-05-10T00:53:25.239929Z",
     "iopub.status.idle": "2023-05-10T00:53:26.569671Z",
     "shell.execute_reply": "2023-05-10T00:53:26.568968Z"
    }
   },
   "outputs": [
    {
     "data": {
      "text/html": [
       "<div>\n",
       "<style scoped>\n",
       "    .dataframe tbody tr th:only-of-type {\n",
       "        vertical-align: middle;\n",
       "    }\n",
       "\n",
       "    .dataframe tbody tr th {\n",
       "        vertical-align: top;\n",
       "    }\n",
       "\n",
       "    .dataframe thead th {\n",
       "        text-align: right;\n",
       "    }\n",
       "</style>\n",
       "<table border=\"1\" class=\"dataframe\">\n",
       "  <thead>\n",
       "    <tr style=\"text-align: right;\">\n",
       "      <th></th>\n",
       "      <th>date</th>\n",
       "      <th>max_rel_humidity</th>\n",
       "    </tr>\n",
       "  </thead>\n",
       "  <tbody>\n",
       "    <tr>\n",
       "      <th>0</th>\n",
       "      <td>2020-06-16</td>\n",
       "      <td>82.2795</td>\n",
       "    </tr>\n",
       "  </tbody>\n",
       "</table>\n",
       "</div>"
      ],
      "text/plain": [
       "         date  max_rel_humidity\n",
       "0  2020-06-16           82.2795"
      ]
     },
     "execution_count": 14,
     "metadata": {},
     "output_type": "execute_result"
    }
   ],
   "source": [
    "query = \"\"\"\n",
    "SELECT date, max_rel_humidity\n",
    "FROM ironhacks-data.ironhacks_training.weather_data\n",
    "WHERE date='2020-06-16'\n",
    "\"\"\"\n",
    "query_job = bigquery_client.query(query)\n",
    "data = query_job.to_dataframe()\n",
    "data.head()"
   ]
  },
  {
   "cell_type": "code",
   "execution_count": 15,
   "id": "5deb5757",
   "metadata": {
    "execution": {
     "iopub.execute_input": "2023-05-10T00:53:26.574348Z",
     "iopub.status.busy": "2023-05-10T00:53:26.573764Z",
     "iopub.status.idle": "2023-05-10T00:53:26.578290Z",
     "shell.execute_reply": "2023-05-10T00:53:26.577424Z"
    }
   },
   "outputs": [],
   "source": [
    "query = \"\"\"\n",
    "\n",
    "Select \n",
    "a.*,\n",
    "b.cases \n",
    "\n",
    "FROM \n",
    "\n",
    "(SELECT \n",
    "extract(week(Monday) from date) as week_number,\n",
    "AVG(mean_temperature) as mean_temperature_week,\n",
    "date as start_date,\n",
    "AVG(wind_speed) as mean_wind_speed_week\n",
    "FROM `ironhacks_training.weather_data`\n",
    "group by week_number,start_date) a\n",
    "\n",
    "JOIN `ironhacks-data.ironhacks_training.covid19_cases` b \n",
    "ON a.week_number=b.week_number\n",
    "order by week_number\n",
    "\n",
    "\n",
    "\n",
    "\"\"\""
   ]
  },
  {
   "cell_type": "code",
   "execution_count": 16,
   "id": "b1906bcd",
   "metadata": {
    "execution": {
     "iopub.execute_input": "2023-05-10T00:53:26.583732Z",
     "iopub.status.busy": "2023-05-10T00:53:26.583370Z",
     "iopub.status.idle": "2023-05-10T00:53:28.237560Z",
     "shell.execute_reply": "2023-05-10T00:53:28.236569Z"
    },
    "lines_to_next_cell": 2
   },
   "outputs": [
    {
     "data": {
      "text/html": [
       "<div>\n",
       "<style scoped>\n",
       "    .dataframe tbody tr th:only-of-type {\n",
       "        vertical-align: middle;\n",
       "    }\n",
       "\n",
       "    .dataframe tbody tr th {\n",
       "        vertical-align: top;\n",
       "    }\n",
       "\n",
       "    .dataframe thead th {\n",
       "        text-align: right;\n",
       "    }\n",
       "</style>\n",
       "<table border=\"1\" class=\"dataframe\">\n",
       "  <thead>\n",
       "    <tr style=\"text-align: right;\">\n",
       "      <th></th>\n",
       "      <th>week_number</th>\n",
       "      <th>mean_temperature_week</th>\n",
       "      <th>start_date</th>\n",
       "      <th>mean_wind_speed_week</th>\n",
       "      <th>cases</th>\n",
       "    </tr>\n",
       "  </thead>\n",
       "  <tbody>\n",
       "    <tr>\n",
       "      <th>0</th>\n",
       "      <td>1</td>\n",
       "      <td>8.5567</td>\n",
       "      <td>2020-01-06</td>\n",
       "      <td>2.8754</td>\n",
       "      <td>4714</td>\n",
       "    </tr>\n",
       "    <tr>\n",
       "      <th>1</th>\n",
       "      <td>1</td>\n",
       "      <td>8.5567</td>\n",
       "      <td>2020-01-06</td>\n",
       "      <td>2.8754</td>\n",
       "      <td>964</td>\n",
       "    </tr>\n",
       "    <tr>\n",
       "      <th>2</th>\n",
       "      <td>1</td>\n",
       "      <td>13.4670</td>\n",
       "      <td>2020-01-07</td>\n",
       "      <td>4.0858</td>\n",
       "      <td>4714</td>\n",
       "    </tr>\n",
       "    <tr>\n",
       "      <th>3</th>\n",
       "      <td>1</td>\n",
       "      <td>13.4670</td>\n",
       "      <td>2020-01-07</td>\n",
       "      <td>4.0858</td>\n",
       "      <td>964</td>\n",
       "    </tr>\n",
       "    <tr>\n",
       "      <th>4</th>\n",
       "      <td>1</td>\n",
       "      <td>8.4360</td>\n",
       "      <td>2020-01-08</td>\n",
       "      <td>4.1800</td>\n",
       "      <td>4714</td>\n",
       "    </tr>\n",
       "  </tbody>\n",
       "</table>\n",
       "</div>"
      ],
      "text/plain": [
       "   week_number  mean_temperature_week  start_date  mean_wind_speed_week  cases\n",
       "0            1                 8.5567  2020-01-06                2.8754   4714\n",
       "1            1                 8.5567  2020-01-06                2.8754    964\n",
       "2            1                13.4670  2020-01-07                4.0858   4714\n",
       "3            1                13.4670  2020-01-07                4.0858    964\n",
       "4            1                 8.4360  2020-01-08                4.1800   4714"
      ]
     },
     "execution_count": 16,
     "metadata": {},
     "output_type": "execute_result"
    }
   ],
   "source": [
    "query_job = bigquery_client.query(query)\n",
    "data = query_job.to_dataframe()\n",
    "data.head()"
   ]
  }
 ],
 "metadata": {
  "jupytext": {
   "cell_metadata_filter": "-all",
   "main_language": "python",
   "notebook_metadata_filter": "-all"
  },
  "language_info": {
   "codemirror_mode": {
    "name": "ipython",
    "version": 3
   },
   "file_extension": ".py",
   "mimetype": "text/x-python",
   "name": "python",
   "nbconvert_exporter": "python",
   "pygments_lexer": "ipython3",
   "version": "3.9.12"
  }
 },
 "nbformat": 4,
 "nbformat_minor": 5
}
