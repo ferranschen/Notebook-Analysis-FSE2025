{
 "cells": [
  {
   "cell_type": "code",
   "execution_count": 1,
   "id": "23c68288",
   "metadata": {
    "execution": {
     "iopub.execute_input": "2023-05-09T21:12:42.514301Z",
     "iopub.status.busy": "2023-05-09T21:12:42.513812Z",
     "iopub.status.idle": "2023-05-09T21:12:42.932149Z",
     "shell.execute_reply": "2023-05-09T21:12:42.931872Z"
    }
   },
   "outputs": [],
   "source": [
    "import os\n",
    "import pandas\n",
    "from google.cloud import bigquery\n",
    "from google.oauth2 import service_account\n",
    "from google.cloud.bigquery import magics"
   ]
  },
  {
   "cell_type": "code",
   "execution_count": 2,
   "id": "d0a45d04",
   "metadata": {
    "execution": {
     "iopub.execute_input": "2023-05-09T21:12:42.933970Z",
     "iopub.status.busy": "2023-05-09T21:12:42.933836Z",
     "iopub.status.idle": "2023-05-09T21:12:42.935528Z",
     "shell.execute_reply": "2023-05-09T21:12:42.935289Z"
    }
   },
   "outputs": [],
   "source": [
    "BIGQUERY_PROJECT = 'ironhacks-data'"
   ]
  },
  {
   "cell_type": "code",
   "execution_count": 3,
   "id": "876d00db",
   "metadata": {
    "execution": {
     "iopub.execute_input": "2023-05-09T21:12:42.936918Z",
     "iopub.status.busy": "2023-05-09T21:12:42.936838Z",
     "iopub.status.idle": "2023-05-09T21:12:42.944123Z",
     "shell.execute_reply": "2023-05-09T21:12:42.943794Z"
    }
   },
   "outputs": [],
   "source": [
    "bigquery_client = bigquery.Client(project=BIGQUERY_PROJECT)"
   ]
  },
  {
   "cell_type": "code",
   "execution_count": 4,
   "id": "f45456dc",
   "metadata": {
    "execution": {
     "iopub.execute_input": "2023-05-09T21:12:42.945683Z",
     "iopub.status.busy": "2023-05-09T21:12:42.945595Z",
     "iopub.status.idle": "2023-05-09T21:12:42.947549Z",
     "shell.execute_reply": "2023-05-09T21:12:42.947278Z"
    }
   },
   "outputs": [],
   "source": [
    "query = \"\"\"\n",
    "SELECT * FROM `ironhacks-data.ironhacks_training.weather_data`\n",
    "\"\"\""
   ]
  },
  {
   "cell_type": "code",
   "execution_count": 5,
   "id": "dfd8370a",
   "metadata": {
    "execution": {
     "iopub.execute_input": "2023-05-09T21:12:42.948889Z",
     "iopub.status.busy": "2023-05-09T21:12:42.948810Z",
     "iopub.status.idle": "2023-05-09T21:12:45.409043Z",
     "shell.execute_reply": "2023-05-09T21:12:45.408401Z"
    }
   },
   "outputs": [
    {
     "data": {
      "text/html": [
       "<div>\n",
       "<style scoped>\n",
       "    .dataframe tbody tr th:only-of-type {\n",
       "        vertical-align: middle;\n",
       "    }\n",
       "\n",
       "    .dataframe tbody tr th {\n",
       "        vertical-align: top;\n",
       "    }\n",
       "\n",
       "    .dataframe thead th {\n",
       "        text-align: right;\n",
       "    }\n",
       "</style>\n",
       "<table border=\"1\" class=\"dataframe\">\n",
       "  <thead>\n",
       "    <tr style=\"text-align: right;\">\n",
       "      <th></th>\n",
       "      <th>date</th>\n",
       "      <th>max_rel_humidity</th>\n",
       "      <th>max_temperature</th>\n",
       "      <th>mean_temperature</th>\n",
       "      <th>min_rel_humidity</th>\n",
       "      <th>min_temperature</th>\n",
       "      <th>potential_water_deficit</th>\n",
       "      <th>precipitation_data</th>\n",
       "      <th>wind_speed</th>\n",
       "    </tr>\n",
       "  </thead>\n",
       "  <tbody>\n",
       "    <tr>\n",
       "      <th>0</th>\n",
       "      <td>2019-09-04</td>\n",
       "      <td>99.9498</td>\n",
       "      <td>25.4570</td>\n",
       "      <td>18.6242</td>\n",
       "      <td>56.4720</td>\n",
       "      <td>11.7913</td>\n",
       "      <td>-3.6142</td>\n",
       "      <td>0.0</td>\n",
       "      <td>3.6461</td>\n",
       "    </tr>\n",
       "    <tr>\n",
       "      <th>1</th>\n",
       "      <td>2020-02-16</td>\n",
       "      <td>84.4966</td>\n",
       "      <td>8.6228</td>\n",
       "      <td>3.1896</td>\n",
       "      <td>40.7666</td>\n",
       "      <td>-2.2436</td>\n",
       "      <td>-1.4307</td>\n",
       "      <td>0.0</td>\n",
       "      <td>2.2398</td>\n",
       "    </tr>\n",
       "    <tr>\n",
       "      <th>2</th>\n",
       "      <td>2019-12-19</td>\n",
       "      <td>95.9017</td>\n",
       "      <td>2.8886</td>\n",
       "      <td>-3.4884</td>\n",
       "      <td>39.0330</td>\n",
       "      <td>-9.8654</td>\n",
       "      <td>-0.9389</td>\n",
       "      <td>0.0</td>\n",
       "      <td>4.1230</td>\n",
       "    </tr>\n",
       "    <tr>\n",
       "      <th>3</th>\n",
       "      <td>2020-02-20</td>\n",
       "      <td>70.0359</td>\n",
       "      <td>0.7939</td>\n",
       "      <td>-4.0254</td>\n",
       "      <td>34.7544</td>\n",
       "      <td>-8.8446</td>\n",
       "      <td>-1.4427</td>\n",
       "      <td>0.0</td>\n",
       "      <td>4.8531</td>\n",
       "    </tr>\n",
       "    <tr>\n",
       "      <th>4</th>\n",
       "      <td>2019-12-23</td>\n",
       "      <td>97.1634</td>\n",
       "      <td>13.8411</td>\n",
       "      <td>5.7818</td>\n",
       "      <td>31.2553</td>\n",
       "      <td>-2.2774</td>\n",
       "      <td>-1.2787</td>\n",
       "      <td>0.0</td>\n",
       "      <td>2.3404</td>\n",
       "    </tr>\n",
       "  </tbody>\n",
       "</table>\n",
       "</div>"
      ],
      "text/plain": [
       "         date  max_rel_humidity  max_temperature  mean_temperature  \\\n",
       "0  2019-09-04           99.9498          25.4570           18.6242   \n",
       "1  2020-02-16           84.4966           8.6228            3.1896   \n",
       "2  2019-12-19           95.9017           2.8886           -3.4884   \n",
       "3  2020-02-20           70.0359           0.7939           -4.0254   \n",
       "4  2019-12-23           97.1634          13.8411            5.7818   \n",
       "\n",
       "   min_rel_humidity  min_temperature  potential_water_deficit  \\\n",
       "0           56.4720          11.7913                  -3.6142   \n",
       "1           40.7666          -2.2436                  -1.4307   \n",
       "2           39.0330          -9.8654                  -0.9389   \n",
       "3           34.7544          -8.8446                  -1.4427   \n",
       "4           31.2553          -2.2774                  -1.2787   \n",
       "\n",
       "   precipitation_data  wind_speed  \n",
       "0                 0.0      3.6461  \n",
       "1                 0.0      2.2398  \n",
       "2                 0.0      4.1230  \n",
       "3                 0.0      4.8531  \n",
       "4                 0.0      2.3404  "
      ]
     },
     "execution_count": 5,
     "metadata": {},
     "output_type": "execute_result"
    }
   ],
   "source": [
    "query_job = bigquery_client.query(query)\n",
    "data = query_job.to_dataframe()\n",
    "data.head()"
   ]
  },
  {
   "cell_type": "code",
   "execution_count": 6,
   "id": "179807ec",
   "metadata": {
    "execution": {
     "iopub.execute_input": "2023-05-09T21:12:45.412186Z",
     "iopub.status.busy": "2023-05-09T21:12:45.411939Z",
     "iopub.status.idle": "2023-05-09T21:12:45.415854Z",
     "shell.execute_reply": "2023-05-09T21:12:45.415352Z"
    }
   },
   "outputs": [
    {
     "ename": "SyntaxError",
     "evalue": "invalid syntax (3984629028.py, line 6)",
     "output_type": "error",
     "traceback": [
      "\u001b[0;36m  Cell \u001b[0;32mIn [6], line 6\u001b[0;36m\u001b[0m\n\u001b[0;31m    pip install db_dtypes\u001b[0m\n\u001b[0m        ^\u001b[0m\n\u001b[0;31mSyntaxError\u001b[0m\u001b[0;31m:\u001b[0m invalid syntax\n"
     ]
    }
   ],
   "source": [
    "import os\n",
    "import pandas\n",
    "from google.cloud import bigquery\n",
    "from google.oauth2 import service_account\n",
    "from google.cloud.bigquery import magics\n",
    "pip install db_dtypes"
   ]
  },
  {
   "cell_type": "code",
   "execution_count": 7,
   "id": "ace46e74",
   "metadata": {
    "execution": {
     "iopub.execute_input": "2023-05-09T21:12:45.418307Z",
     "iopub.status.busy": "2023-05-09T21:12:45.418157Z",
     "iopub.status.idle": "2023-05-09T21:12:45.420513Z",
     "shell.execute_reply": "2023-05-09T21:12:45.420114Z"
    }
   },
   "outputs": [],
   "source": [
    "query = \"\"\"\n",
    "SELECT * FROM `ironhacks-data.ironhacks_training.weather_data`\n",
    "\"\"\""
   ]
  },
  {
   "cell_type": "code",
   "execution_count": 8,
   "id": "59af95a6",
   "metadata": {
    "execution": {
     "iopub.execute_input": "2023-05-09T21:12:45.422654Z",
     "iopub.status.busy": "2023-05-09T21:12:45.422471Z",
     "iopub.status.idle": "2023-05-09T21:12:47.197300Z",
     "shell.execute_reply": "2023-05-09T21:12:47.196500Z"
    }
   },
   "outputs": [
    {
     "data": {
      "text/html": [
       "<div>\n",
       "<style scoped>\n",
       "    .dataframe tbody tr th:only-of-type {\n",
       "        vertical-align: middle;\n",
       "    }\n",
       "\n",
       "    .dataframe tbody tr th {\n",
       "        vertical-align: top;\n",
       "    }\n",
       "\n",
       "    .dataframe thead th {\n",
       "        text-align: right;\n",
       "    }\n",
       "</style>\n",
       "<table border=\"1\" class=\"dataframe\">\n",
       "  <thead>\n",
       "    <tr style=\"text-align: right;\">\n",
       "      <th></th>\n",
       "      <th>date</th>\n",
       "      <th>max_rel_humidity</th>\n",
       "      <th>max_temperature</th>\n",
       "      <th>mean_temperature</th>\n",
       "      <th>min_rel_humidity</th>\n",
       "      <th>min_temperature</th>\n",
       "      <th>potential_water_deficit</th>\n",
       "      <th>precipitation_data</th>\n",
       "      <th>wind_speed</th>\n",
       "    </tr>\n",
       "  </thead>\n",
       "  <tbody>\n",
       "    <tr>\n",
       "      <th>0</th>\n",
       "      <td>2019-09-04</td>\n",
       "      <td>99.9498</td>\n",
       "      <td>25.4570</td>\n",
       "      <td>18.6242</td>\n",
       "      <td>56.4720</td>\n",
       "      <td>11.7913</td>\n",
       "      <td>-3.6142</td>\n",
       "      <td>0.0</td>\n",
       "      <td>3.6461</td>\n",
       "    </tr>\n",
       "    <tr>\n",
       "      <th>1</th>\n",
       "      <td>2020-02-16</td>\n",
       "      <td>84.4966</td>\n",
       "      <td>8.6228</td>\n",
       "      <td>3.1896</td>\n",
       "      <td>40.7666</td>\n",
       "      <td>-2.2436</td>\n",
       "      <td>-1.4307</td>\n",
       "      <td>0.0</td>\n",
       "      <td>2.2398</td>\n",
       "    </tr>\n",
       "    <tr>\n",
       "      <th>2</th>\n",
       "      <td>2019-12-19</td>\n",
       "      <td>95.9017</td>\n",
       "      <td>2.8886</td>\n",
       "      <td>-3.4884</td>\n",
       "      <td>39.0330</td>\n",
       "      <td>-9.8654</td>\n",
       "      <td>-0.9389</td>\n",
       "      <td>0.0</td>\n",
       "      <td>4.1230</td>\n",
       "    </tr>\n",
       "    <tr>\n",
       "      <th>3</th>\n",
       "      <td>2020-02-20</td>\n",
       "      <td>70.0359</td>\n",
       "      <td>0.7939</td>\n",
       "      <td>-4.0254</td>\n",
       "      <td>34.7544</td>\n",
       "      <td>-8.8446</td>\n",
       "      <td>-1.4427</td>\n",
       "      <td>0.0</td>\n",
       "      <td>4.8531</td>\n",
       "    </tr>\n",
       "    <tr>\n",
       "      <th>4</th>\n",
       "      <td>2019-12-23</td>\n",
       "      <td>97.1634</td>\n",
       "      <td>13.8411</td>\n",
       "      <td>5.7818</td>\n",
       "      <td>31.2553</td>\n",
       "      <td>-2.2774</td>\n",
       "      <td>-1.2787</td>\n",
       "      <td>0.0</td>\n",
       "      <td>2.3404</td>\n",
       "    </tr>\n",
       "  </tbody>\n",
       "</table>\n",
       "</div>"
      ],
      "text/plain": [
       "         date  max_rel_humidity  max_temperature  mean_temperature  \\\n",
       "0  2019-09-04           99.9498          25.4570           18.6242   \n",
       "1  2020-02-16           84.4966           8.6228            3.1896   \n",
       "2  2019-12-19           95.9017           2.8886           -3.4884   \n",
       "3  2020-02-20           70.0359           0.7939           -4.0254   \n",
       "4  2019-12-23           97.1634          13.8411            5.7818   \n",
       "\n",
       "   min_rel_humidity  min_temperature  potential_water_deficit  \\\n",
       "0           56.4720          11.7913                  -3.6142   \n",
       "1           40.7666          -2.2436                  -1.4307   \n",
       "2           39.0330          -9.8654                  -0.9389   \n",
       "3           34.7544          -8.8446                  -1.4427   \n",
       "4           31.2553          -2.2774                  -1.2787   \n",
       "\n",
       "   precipitation_data  wind_speed  \n",
       "0                 0.0      3.6461  \n",
       "1                 0.0      2.2398  \n",
       "2                 0.0      4.1230  \n",
       "3                 0.0      4.8531  \n",
       "4                 0.0      2.3404  "
      ]
     },
     "execution_count": 8,
     "metadata": {},
     "output_type": "execute_result"
    }
   ],
   "source": [
    "query_job = bigquery_client.query(query)\n",
    "data = query_job.to_dataframe()\n",
    "data.head()"
   ]
  },
  {
   "cell_type": "code",
   "execution_count": 9,
   "id": "bb391301",
   "metadata": {
    "execution": {
     "iopub.execute_input": "2023-05-09T21:12:47.201379Z",
     "iopub.status.busy": "2023-05-09T21:12:47.200992Z",
     "iopub.status.idle": "2023-05-09T21:12:47.204396Z",
     "shell.execute_reply": "2023-05-09T21:12:47.203946Z"
    }
   },
   "outputs": [],
   "source": [
    "import os\n",
    "import pandas\n",
    "import db_dtypes\n",
    "from google.cloud import bigquery\n",
    "from google.oauth2 import service_account\n",
    "from google.cloud.bigquery import magics"
   ]
  },
  {
   "cell_type": "code",
   "execution_count": 10,
   "id": "2156e1c3",
   "metadata": {
    "execution": {
     "iopub.execute_input": "2023-05-09T21:12:47.206348Z",
     "iopub.status.busy": "2023-05-09T21:12:47.206163Z",
     "iopub.status.idle": "2023-05-09T21:12:47.208626Z",
     "shell.execute_reply": "2023-05-09T21:12:47.208197Z"
    }
   },
   "outputs": [],
   "source": [
    "BIGQUERY_PROJECT = 'ironhacks-data'"
   ]
  },
  {
   "cell_type": "code",
   "execution_count": 11,
   "id": "698a4a29",
   "metadata": {
    "execution": {
     "iopub.execute_input": "2023-05-09T21:12:47.210619Z",
     "iopub.status.busy": "2023-05-09T21:12:47.210441Z",
     "iopub.status.idle": "2023-05-09T21:12:47.218628Z",
     "shell.execute_reply": "2023-05-09T21:12:47.218176Z"
    }
   },
   "outputs": [],
   "source": [
    "bigquery_client = bigquery.Client(project=BIGQUERY_PROJECT)"
   ]
  },
  {
   "cell_type": "code",
   "execution_count": 12,
   "id": "98296260",
   "metadata": {
    "execution": {
     "iopub.execute_input": "2023-05-09T21:12:47.220819Z",
     "iopub.status.busy": "2023-05-09T21:12:47.220664Z",
     "iopub.status.idle": "2023-05-09T21:12:47.222759Z",
     "shell.execute_reply": "2023-05-09T21:12:47.222439Z"
    }
   },
   "outputs": [],
   "source": [
    "query = \"\"\"\n",
    "SELECT * FROM `ironhacks-data.ironhacks_training.weather_data`\n",
    "\"\"\""
   ]
  },
  {
   "cell_type": "code",
   "execution_count": 13,
   "id": "a379fb7b",
   "metadata": {
    "execution": {
     "iopub.execute_input": "2023-05-09T21:12:47.224513Z",
     "iopub.status.busy": "2023-05-09T21:12:47.224379Z",
     "iopub.status.idle": "2023-05-09T21:12:49.138147Z",
     "shell.execute_reply": "2023-05-09T21:12:49.137309Z"
    }
   },
   "outputs": [
    {
     "data": {
      "text/html": [
       "<div>\n",
       "<style scoped>\n",
       "    .dataframe tbody tr th:only-of-type {\n",
       "        vertical-align: middle;\n",
       "    }\n",
       "\n",
       "    .dataframe tbody tr th {\n",
       "        vertical-align: top;\n",
       "    }\n",
       "\n",
       "    .dataframe thead th {\n",
       "        text-align: right;\n",
       "    }\n",
       "</style>\n",
       "<table border=\"1\" class=\"dataframe\">\n",
       "  <thead>\n",
       "    <tr style=\"text-align: right;\">\n",
       "      <th></th>\n",
       "      <th>date</th>\n",
       "      <th>max_rel_humidity</th>\n",
       "      <th>max_temperature</th>\n",
       "      <th>mean_temperature</th>\n",
       "      <th>min_rel_humidity</th>\n",
       "      <th>min_temperature</th>\n",
       "      <th>potential_water_deficit</th>\n",
       "      <th>precipitation_data</th>\n",
       "      <th>wind_speed</th>\n",
       "    </tr>\n",
       "  </thead>\n",
       "  <tbody>\n",
       "    <tr>\n",
       "      <th>0</th>\n",
       "      <td>2019-09-04</td>\n",
       "      <td>99.9498</td>\n",
       "      <td>25.4570</td>\n",
       "      <td>18.6242</td>\n",
       "      <td>56.4720</td>\n",
       "      <td>11.7913</td>\n",
       "      <td>-3.6142</td>\n",
       "      <td>0.0</td>\n",
       "      <td>3.6461</td>\n",
       "    </tr>\n",
       "    <tr>\n",
       "      <th>1</th>\n",
       "      <td>2020-02-16</td>\n",
       "      <td>84.4966</td>\n",
       "      <td>8.6228</td>\n",
       "      <td>3.1896</td>\n",
       "      <td>40.7666</td>\n",
       "      <td>-2.2436</td>\n",
       "      <td>-1.4307</td>\n",
       "      <td>0.0</td>\n",
       "      <td>2.2398</td>\n",
       "    </tr>\n",
       "    <tr>\n",
       "      <th>2</th>\n",
       "      <td>2019-12-19</td>\n",
       "      <td>95.9017</td>\n",
       "      <td>2.8886</td>\n",
       "      <td>-3.4884</td>\n",
       "      <td>39.0330</td>\n",
       "      <td>-9.8654</td>\n",
       "      <td>-0.9389</td>\n",
       "      <td>0.0</td>\n",
       "      <td>4.1230</td>\n",
       "    </tr>\n",
       "    <tr>\n",
       "      <th>3</th>\n",
       "      <td>2020-02-20</td>\n",
       "      <td>70.0359</td>\n",
       "      <td>0.7939</td>\n",
       "      <td>-4.0254</td>\n",
       "      <td>34.7544</td>\n",
       "      <td>-8.8446</td>\n",
       "      <td>-1.4427</td>\n",
       "      <td>0.0</td>\n",
       "      <td>4.8531</td>\n",
       "    </tr>\n",
       "    <tr>\n",
       "      <th>4</th>\n",
       "      <td>2019-12-23</td>\n",
       "      <td>97.1634</td>\n",
       "      <td>13.8411</td>\n",
       "      <td>5.7818</td>\n",
       "      <td>31.2553</td>\n",
       "      <td>-2.2774</td>\n",
       "      <td>-1.2787</td>\n",
       "      <td>0.0</td>\n",
       "      <td>2.3404</td>\n",
       "    </tr>\n",
       "  </tbody>\n",
       "</table>\n",
       "</div>"
      ],
      "text/plain": [
       "         date  max_rel_humidity  max_temperature  mean_temperature  \\\n",
       "0  2019-09-04           99.9498          25.4570           18.6242   \n",
       "1  2020-02-16           84.4966           8.6228            3.1896   \n",
       "2  2019-12-19           95.9017           2.8886           -3.4884   \n",
       "3  2020-02-20           70.0359           0.7939           -4.0254   \n",
       "4  2019-12-23           97.1634          13.8411            5.7818   \n",
       "\n",
       "   min_rel_humidity  min_temperature  potential_water_deficit  \\\n",
       "0           56.4720          11.7913                  -3.6142   \n",
       "1           40.7666          -2.2436                  -1.4307   \n",
       "2           39.0330          -9.8654                  -0.9389   \n",
       "3           34.7544          -8.8446                  -1.4427   \n",
       "4           31.2553          -2.2774                  -1.2787   \n",
       "\n",
       "   precipitation_data  wind_speed  \n",
       "0                 0.0      3.6461  \n",
       "1                 0.0      2.2398  \n",
       "2                 0.0      4.1230  \n",
       "3                 0.0      4.8531  \n",
       "4                 0.0      2.3404  "
      ]
     },
     "execution_count": 13,
     "metadata": {},
     "output_type": "execute_result"
    }
   ],
   "source": [
    "query_job = bigquery_client.query(query)\n",
    "data = query_job.to_dataframe()\n",
    "data.head()"
   ]
  },
  {
   "cell_type": "code",
   "execution_count": 14,
   "id": "dd67a7ea",
   "metadata": {
    "execution": {
     "iopub.execute_input": "2023-05-09T21:12:49.142011Z",
     "iopub.status.busy": "2023-05-09T21:12:49.141673Z",
     "iopub.status.idle": "2023-05-09T21:12:49.145807Z",
     "shell.execute_reply": "2023-05-09T21:12:49.145156Z"
    }
   },
   "outputs": [],
   "source": [
    "import os\n",
    "import pandas\n",
    "import db_dtypes\n",
    "from google.cloud import bigquery\n",
    "from google.oauth2 import service_account\n",
    "from google.cloud.bigquery import magics"
   ]
  },
  {
   "cell_type": "code",
   "execution_count": 15,
   "id": "c3609e80",
   "metadata": {
    "execution": {
     "iopub.execute_input": "2023-05-09T21:12:49.149333Z",
     "iopub.status.busy": "2023-05-09T21:12:49.148847Z",
     "iopub.status.idle": "2023-05-09T21:12:49.151901Z",
     "shell.execute_reply": "2023-05-09T21:12:49.151388Z"
    }
   },
   "outputs": [],
   "source": [
    "BIGQUERY_PROJECT = 'ironhacks-data'"
   ]
  },
  {
   "cell_type": "code",
   "execution_count": 16,
   "id": "e654dfa9",
   "metadata": {
    "execution": {
     "iopub.execute_input": "2023-05-09T21:12:49.154588Z",
     "iopub.status.busy": "2023-05-09T21:12:49.154400Z",
     "iopub.status.idle": "2023-05-09T21:12:49.165530Z",
     "shell.execute_reply": "2023-05-09T21:12:49.164904Z"
    }
   },
   "outputs": [],
   "source": [
    "bigquery_client = bigquery.Client(project=BIGQUERY_PROJECT)"
   ]
  },
  {
   "cell_type": "code",
   "execution_count": 17,
   "id": "ebbc27b7",
   "metadata": {
    "execution": {
     "iopub.execute_input": "2023-05-09T21:12:49.168538Z",
     "iopub.status.busy": "2023-05-09T21:12:49.168319Z",
     "iopub.status.idle": "2023-05-09T21:12:49.171061Z",
     "shell.execute_reply": "2023-05-09T21:12:49.170657Z"
    }
   },
   "outputs": [],
   "source": [
    "query = \"\"\"\n",
    "SELECT * FROM `ironhacks-data.ironhacks_training.weather_data`\n",
    "\"\"\""
   ]
  },
  {
   "cell_type": "code",
   "execution_count": 18,
   "id": "cb44b76d",
   "metadata": {
    "execution": {
     "iopub.execute_input": "2023-05-09T21:12:49.173241Z",
     "iopub.status.busy": "2023-05-09T21:12:49.173074Z",
     "iopub.status.idle": "2023-05-09T21:12:54.139027Z",
     "shell.execute_reply": "2023-05-09T21:12:54.138010Z"
    }
   },
   "outputs": [
    {
     "data": {
      "text/html": [
       "<div>\n",
       "<style scoped>\n",
       "    .dataframe tbody tr th:only-of-type {\n",
       "        vertical-align: middle;\n",
       "    }\n",
       "\n",
       "    .dataframe tbody tr th {\n",
       "        vertical-align: top;\n",
       "    }\n",
       "\n",
       "    .dataframe thead th {\n",
       "        text-align: right;\n",
       "    }\n",
       "</style>\n",
       "<table border=\"1\" class=\"dataframe\">\n",
       "  <thead>\n",
       "    <tr style=\"text-align: right;\">\n",
       "      <th></th>\n",
       "      <th>date</th>\n",
       "      <th>max_rel_humidity</th>\n",
       "      <th>max_temperature</th>\n",
       "      <th>mean_temperature</th>\n",
       "      <th>min_rel_humidity</th>\n",
       "      <th>min_temperature</th>\n",
       "      <th>potential_water_deficit</th>\n",
       "      <th>precipitation_data</th>\n",
       "      <th>wind_speed</th>\n",
       "    </tr>\n",
       "  </thead>\n",
       "  <tbody>\n",
       "    <tr>\n",
       "      <th>0</th>\n",
       "      <td>2019-09-04</td>\n",
       "      <td>99.9498</td>\n",
       "      <td>25.4570</td>\n",
       "      <td>18.6242</td>\n",
       "      <td>56.4720</td>\n",
       "      <td>11.7913</td>\n",
       "      <td>-3.6142</td>\n",
       "      <td>0.0</td>\n",
       "      <td>3.6461</td>\n",
       "    </tr>\n",
       "    <tr>\n",
       "      <th>1</th>\n",
       "      <td>2020-02-16</td>\n",
       "      <td>84.4966</td>\n",
       "      <td>8.6228</td>\n",
       "      <td>3.1896</td>\n",
       "      <td>40.7666</td>\n",
       "      <td>-2.2436</td>\n",
       "      <td>-1.4307</td>\n",
       "      <td>0.0</td>\n",
       "      <td>2.2398</td>\n",
       "    </tr>\n",
       "    <tr>\n",
       "      <th>2</th>\n",
       "      <td>2019-12-19</td>\n",
       "      <td>95.9017</td>\n",
       "      <td>2.8886</td>\n",
       "      <td>-3.4884</td>\n",
       "      <td>39.0330</td>\n",
       "      <td>-9.8654</td>\n",
       "      <td>-0.9389</td>\n",
       "      <td>0.0</td>\n",
       "      <td>4.1230</td>\n",
       "    </tr>\n",
       "    <tr>\n",
       "      <th>3</th>\n",
       "      <td>2020-02-20</td>\n",
       "      <td>70.0359</td>\n",
       "      <td>0.7939</td>\n",
       "      <td>-4.0254</td>\n",
       "      <td>34.7544</td>\n",
       "      <td>-8.8446</td>\n",
       "      <td>-1.4427</td>\n",
       "      <td>0.0</td>\n",
       "      <td>4.8531</td>\n",
       "    </tr>\n",
       "    <tr>\n",
       "      <th>4</th>\n",
       "      <td>2019-12-23</td>\n",
       "      <td>97.1634</td>\n",
       "      <td>13.8411</td>\n",
       "      <td>5.7818</td>\n",
       "      <td>31.2553</td>\n",
       "      <td>-2.2774</td>\n",
       "      <td>-1.2787</td>\n",
       "      <td>0.0</td>\n",
       "      <td>2.3404</td>\n",
       "    </tr>\n",
       "  </tbody>\n",
       "</table>\n",
       "</div>"
      ],
      "text/plain": [
       "         date  max_rel_humidity  max_temperature  mean_temperature  \\\n",
       "0  2019-09-04           99.9498          25.4570           18.6242   \n",
       "1  2020-02-16           84.4966           8.6228            3.1896   \n",
       "2  2019-12-19           95.9017           2.8886           -3.4884   \n",
       "3  2020-02-20           70.0359           0.7939           -4.0254   \n",
       "4  2019-12-23           97.1634          13.8411            5.7818   \n",
       "\n",
       "   min_rel_humidity  min_temperature  potential_water_deficit  \\\n",
       "0           56.4720          11.7913                  -3.6142   \n",
       "1           40.7666          -2.2436                  -1.4307   \n",
       "2           39.0330          -9.8654                  -0.9389   \n",
       "3           34.7544          -8.8446                  -1.4427   \n",
       "4           31.2553          -2.2774                  -1.2787   \n",
       "\n",
       "   precipitation_data  wind_speed  \n",
       "0                 0.0      3.6461  \n",
       "1                 0.0      2.2398  \n",
       "2                 0.0      4.1230  \n",
       "3                 0.0      4.8531  \n",
       "4                 0.0      2.3404  "
      ]
     },
     "execution_count": 18,
     "metadata": {},
     "output_type": "execute_result"
    }
   ],
   "source": [
    "query_job = bigquery_client.query(query)\n",
    "data = query_job.to_dataframe()\n",
    "data.head()"
   ]
  },
  {
   "cell_type": "code",
   "execution_count": 19,
   "id": "78b3d15d",
   "metadata": {
    "execution": {
     "iopub.execute_input": "2023-05-09T21:12:54.143243Z",
     "iopub.status.busy": "2023-05-09T21:12:54.142902Z",
     "iopub.status.idle": "2023-05-09T21:12:54.148271Z",
     "shell.execute_reply": "2023-05-09T21:12:54.147628Z"
    }
   },
   "outputs": [
    {
     "ename": "SyntaxError",
     "evalue": "invalid syntax (1473121775.py, line 3)",
     "output_type": "error",
     "traceback": [
      "\u001b[0;36m  Cell \u001b[0;32mIn [19], line 3\u001b[0;36m\u001b[0m\n\u001b[0;31m    import db-dtypes\u001b[0m\n\u001b[0m             ^\u001b[0m\n\u001b[0;31mSyntaxError\u001b[0m\u001b[0;31m:\u001b[0m invalid syntax\n"
     ]
    }
   ],
   "source": [
    "import os\n",
    "import pandas\n",
    "import db-dtypes\n",
    "from google.cloud import bigquery\n",
    "from google.oauth2 import service_account\n",
    "from google.cloud.bigquery import magics"
   ]
  },
  {
   "cell_type": "code",
   "execution_count": 20,
   "id": "ce8a6477",
   "metadata": {
    "execution": {
     "iopub.execute_input": "2023-05-09T21:12:54.151844Z",
     "iopub.status.busy": "2023-05-09T21:12:54.151317Z",
     "iopub.status.idle": "2023-05-09T21:12:54.155112Z",
     "shell.execute_reply": "2023-05-09T21:12:54.154595Z"
    }
   },
   "outputs": [],
   "source": [
    "import os\n",
    "import pandas\n",
    "import db_dtypes\n",
    "from google.cloud import bigquery\n",
    "from google.oauth2 import service_account\n",
    "from google.cloud.bigquery import magics"
   ]
  },
  {
   "cell_type": "code",
   "execution_count": 21,
   "id": "d92fa121",
   "metadata": {
    "execution": {
     "iopub.execute_input": "2023-05-09T21:12:54.157982Z",
     "iopub.status.busy": "2023-05-09T21:12:54.157726Z",
     "iopub.status.idle": "2023-05-09T21:12:54.160834Z",
     "shell.execute_reply": "2023-05-09T21:12:54.160254Z"
    }
   },
   "outputs": [],
   "source": [
    "BIGQUERY_PROJECT = 'ironhacks-data'"
   ]
  },
  {
   "cell_type": "code",
   "execution_count": 22,
   "id": "13930893",
   "metadata": {
    "execution": {
     "iopub.execute_input": "2023-05-09T21:12:54.163187Z",
     "iopub.status.busy": "2023-05-09T21:12:54.163025Z",
     "iopub.status.idle": "2023-05-09T21:12:54.173320Z",
     "shell.execute_reply": "2023-05-09T21:12:54.172745Z"
    }
   },
   "outputs": [],
   "source": [
    "bigquery_client = bigquery.Client(project=BIGQUERY_PROJECT)"
   ]
  },
  {
   "cell_type": "code",
   "execution_count": 23,
   "id": "080fdc45",
   "metadata": {
    "execution": {
     "iopub.execute_input": "2023-05-09T21:12:54.175896Z",
     "iopub.status.busy": "2023-05-09T21:12:54.175707Z",
     "iopub.status.idle": "2023-05-09T21:12:54.178238Z",
     "shell.execute_reply": "2023-05-09T21:12:54.177843Z"
    }
   },
   "outputs": [],
   "source": [
    "query = \"\"\"\n",
    "SELECT * FROM `ironhacks-data.ironhacks_training.weather_data`\n",
    "\"\"\""
   ]
  },
  {
   "cell_type": "code",
   "execution_count": 24,
   "id": "cb28974f",
   "metadata": {
    "execution": {
     "iopub.execute_input": "2023-05-09T21:12:54.180616Z",
     "iopub.status.busy": "2023-05-09T21:12:54.180444Z",
     "iopub.status.idle": "2023-05-09T21:12:56.173545Z",
     "shell.execute_reply": "2023-05-09T21:12:56.172660Z"
    },
    "lines_to_next_cell": 2
   },
   "outputs": [
    {
     "data": {
      "text/html": [
       "<div>\n",
       "<style scoped>\n",
       "    .dataframe tbody tr th:only-of-type {\n",
       "        vertical-align: middle;\n",
       "    }\n",
       "\n",
       "    .dataframe tbody tr th {\n",
       "        vertical-align: top;\n",
       "    }\n",
       "\n",
       "    .dataframe thead th {\n",
       "        text-align: right;\n",
       "    }\n",
       "</style>\n",
       "<table border=\"1\" class=\"dataframe\">\n",
       "  <thead>\n",
       "    <tr style=\"text-align: right;\">\n",
       "      <th></th>\n",
       "      <th>date</th>\n",
       "      <th>max_rel_humidity</th>\n",
       "      <th>max_temperature</th>\n",
       "      <th>mean_temperature</th>\n",
       "      <th>min_rel_humidity</th>\n",
       "      <th>min_temperature</th>\n",
       "      <th>potential_water_deficit</th>\n",
       "      <th>precipitation_data</th>\n",
       "      <th>wind_speed</th>\n",
       "    </tr>\n",
       "  </thead>\n",
       "  <tbody>\n",
       "    <tr>\n",
       "      <th>0</th>\n",
       "      <td>2019-09-04</td>\n",
       "      <td>99.9498</td>\n",
       "      <td>25.4570</td>\n",
       "      <td>18.6242</td>\n",
       "      <td>56.4720</td>\n",
       "      <td>11.7913</td>\n",
       "      <td>-3.6142</td>\n",
       "      <td>0.0</td>\n",
       "      <td>3.6461</td>\n",
       "    </tr>\n",
       "    <tr>\n",
       "      <th>1</th>\n",
       "      <td>2020-02-16</td>\n",
       "      <td>84.4966</td>\n",
       "      <td>8.6228</td>\n",
       "      <td>3.1896</td>\n",
       "      <td>40.7666</td>\n",
       "      <td>-2.2436</td>\n",
       "      <td>-1.4307</td>\n",
       "      <td>0.0</td>\n",
       "      <td>2.2398</td>\n",
       "    </tr>\n",
       "    <tr>\n",
       "      <th>2</th>\n",
       "      <td>2019-12-19</td>\n",
       "      <td>95.9017</td>\n",
       "      <td>2.8886</td>\n",
       "      <td>-3.4884</td>\n",
       "      <td>39.0330</td>\n",
       "      <td>-9.8654</td>\n",
       "      <td>-0.9389</td>\n",
       "      <td>0.0</td>\n",
       "      <td>4.1230</td>\n",
       "    </tr>\n",
       "    <tr>\n",
       "      <th>3</th>\n",
       "      <td>2020-02-20</td>\n",
       "      <td>70.0359</td>\n",
       "      <td>0.7939</td>\n",
       "      <td>-4.0254</td>\n",
       "      <td>34.7544</td>\n",
       "      <td>-8.8446</td>\n",
       "      <td>-1.4427</td>\n",
       "      <td>0.0</td>\n",
       "      <td>4.8531</td>\n",
       "    </tr>\n",
       "    <tr>\n",
       "      <th>4</th>\n",
       "      <td>2019-12-23</td>\n",
       "      <td>97.1634</td>\n",
       "      <td>13.8411</td>\n",
       "      <td>5.7818</td>\n",
       "      <td>31.2553</td>\n",
       "      <td>-2.2774</td>\n",
       "      <td>-1.2787</td>\n",
       "      <td>0.0</td>\n",
       "      <td>2.3404</td>\n",
       "    </tr>\n",
       "  </tbody>\n",
       "</table>\n",
       "</div>"
      ],
      "text/plain": [
       "         date  max_rel_humidity  max_temperature  mean_temperature  \\\n",
       "0  2019-09-04           99.9498          25.4570           18.6242   \n",
       "1  2020-02-16           84.4966           8.6228            3.1896   \n",
       "2  2019-12-19           95.9017           2.8886           -3.4884   \n",
       "3  2020-02-20           70.0359           0.7939           -4.0254   \n",
       "4  2019-12-23           97.1634          13.8411            5.7818   \n",
       "\n",
       "   min_rel_humidity  min_temperature  potential_water_deficit  \\\n",
       "0           56.4720          11.7913                  -3.6142   \n",
       "1           40.7666          -2.2436                  -1.4307   \n",
       "2           39.0330          -9.8654                  -0.9389   \n",
       "3           34.7544          -8.8446                  -1.4427   \n",
       "4           31.2553          -2.2774                  -1.2787   \n",
       "\n",
       "   precipitation_data  wind_speed  \n",
       "0                 0.0      3.6461  \n",
       "1                 0.0      2.2398  \n",
       "2                 0.0      4.1230  \n",
       "3                 0.0      4.8531  \n",
       "4                 0.0      2.3404  "
      ]
     },
     "execution_count": 24,
     "metadata": {},
     "output_type": "execute_result"
    }
   ],
   "source": [
    "query_job = bigquery_client.query(query)\n",
    "data = query_job.to_dataframe()\n",
    "data.head()"
   ]
  }
 ],
 "metadata": {
  "jupytext": {
   "cell_metadata_filter": "-all",
   "main_language": "python",
   "notebook_metadata_filter": "-all"
  },
  "kernelspec": {
   "display_name": "base",
   "language": "python",
   "name": "python3"
  },
  "language_info": {
   "codemirror_mode": {
    "name": "ipython",
    "version": 3
   },
   "file_extension": ".py",
   "mimetype": "text/x-python",
   "name": "python",
   "nbconvert_exporter": "python",
   "pygments_lexer": "ipython3",
   "version": "3.9.12"
  }
 },
 "nbformat": 4,
 "nbformat_minor": 5
}
