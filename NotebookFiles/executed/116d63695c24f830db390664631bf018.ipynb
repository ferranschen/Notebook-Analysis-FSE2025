{
 "cells": [
  {
   "cell_type": "code",
   "execution_count": 1,
   "id": "a3640c6a",
   "metadata": {
    "execution": {
     "iopub.execute_input": "2023-05-10T01:21:34.869130Z",
     "iopub.status.busy": "2023-05-10T01:21:34.868676Z",
     "iopub.status.idle": "2023-05-10T01:21:37.538442Z",
     "shell.execute_reply": "2023-05-10T01:21:37.537785Z"
    }
   },
   "outputs": [
    {
     "name": "stdout",
     "output_type": "stream",
     "text": [
      "\u001b[33mWARNING: Ignoring invalid distribution -umpy (/opt/anaconda3/lib/python3.9/site-packages)\u001b[0m\r\n",
      "\u001b[33mWARNING: Ignoring invalid distribution -umpy (/opt/anaconda3/lib/python3.9/site-packages)\u001b[0m\r\n",
      "Requirement already satisfied: torch in /opt/anaconda3/lib/python3.9/site-packages (1.13.1)\r\n",
      "Requirement already satisfied: typing-extensions in /opt/anaconda3/lib/python3.9/site-packages (from torch) (4.5.0)\r\n",
      "\u001b[33mWARNING: Ignoring invalid distribution -umpy (/opt/anaconda3/lib/python3.9/site-packages)\u001b[0m\r\n"
     ]
    },
    {
     "name": "stdout",
     "output_type": "stream",
     "text": [
      "\u001b[33mWARNING: Ignoring invalid distribution -umpy (/opt/anaconda3/lib/python3.9/site-packages)\u001b[0m\r\n",
      "\u001b[33mWARNING: Ignoring invalid distribution -umpy (/opt/anaconda3/lib/python3.9/site-packages)\u001b[0m\r\n",
      "\u001b[33mWARNING: Ignoring invalid distribution -umpy (/opt/anaconda3/lib/python3.9/site-packages)\u001b[0m\r\n"
     ]
    }
   ],
   "source": [
    "get_ipython().system('pip install torch')"
   ]
  },
  {
   "cell_type": "code",
   "execution_count": 2,
   "id": "df40a66d",
   "metadata": {
    "execution": {
     "iopub.execute_input": "2023-05-10T01:21:37.541665Z",
     "iopub.status.busy": "2023-05-10T01:21:37.541422Z",
     "iopub.status.idle": "2023-05-10T01:21:38.202565Z",
     "shell.execute_reply": "2023-05-10T01:21:38.202288Z"
    },
    "lines_to_next_cell": 2
   },
   "outputs": [
    {
     "name": "stdout",
     "output_type": "stream",
     "text": [
      "tensor([[0.6724, 0.7294, 0.9846],\n",
      "        [0.3986, 0.0897, 0.9293],\n",
      "        [0.0426, 0.2499, 0.3567],\n",
      "        [0.6133, 0.4425, 0.5885],\n",
      "        [0.7766, 0.6545, 0.8007]])\n"
     ]
    }
   ],
   "source": [
    "import torch\n",
    "x = torch.rand(5, 3)\n",
    "print(x)"
   ]
  }
 ],
 "metadata": {
  "jupytext": {
   "cell_metadata_filter": "-all",
   "main_language": "python",
   "notebook_metadata_filter": "-all"
  },
  "kernelspec": {
   "display_name": "base",
   "language": "python",
   "name": "python3"
  },
  "language_info": {
   "codemirror_mode": {
    "name": "ipython",
    "version": 3
   },
   "file_extension": ".py",
   "mimetype": "text/x-python",
   "name": "python",
   "nbconvert_exporter": "python",
   "pygments_lexer": "ipython3",
   "version": "3.9.12"
  }
 },
 "nbformat": 4,
 "nbformat_minor": 5
}
