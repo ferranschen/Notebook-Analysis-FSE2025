{
 "cells": [
  {
   "cell_type": "code",
   "execution_count": 1,
   "id": "f175b4d6",
   "metadata": {
    "execution": {
     "iopub.execute_input": "2023-05-09T23:13:40.235470Z",
     "iopub.status.busy": "2023-05-09T23:13:40.234909Z",
     "iopub.status.idle": "2023-05-09T23:13:42.739325Z",
     "shell.execute_reply": "2023-05-09T23:13:42.738685Z"
    }
   },
   "outputs": [
    {
     "name": "stdout",
     "output_type": "stream",
     "text": [
      "\u001b[33mWARNING: Ignoring invalid distribution -umpy (/opt/anaconda3/lib/python3.9/site-packages)\u001b[0m\r\n",
      "\u001b[33mWARNING: Ignoring invalid distribution -umpy (/opt/anaconda3/lib/python3.9/site-packages)\u001b[0m\r\n",
      "Requirement already satisfied: db-dtypes in /opt/anaconda3/lib/python3.9/site-packages (1.0.5)\r\n",
      "Requirement already satisfied: pandas<2.0dev,>=0.24.2 in /opt/anaconda3/lib/python3.9/site-packages (from db-dtypes) (1.5.3)\r\n",
      "Requirement already satisfied: packaging>=17.0 in /opt/anaconda3/lib/python3.9/site-packages (from db-dtypes) (21.3)\r\n",
      "Requirement already satisfied: pyarrow>=3.0.0 in /opt/anaconda3/lib/python3.9/site-packages (from db-dtypes) (10.0.1)\r\n",
      "Requirement already satisfied: numpy<2.0dev,>=1.16.6 in /opt/anaconda3/lib/python3.9/site-packages (from db-dtypes) (1.22.4)\r\n",
      "Requirement already satisfied: pyparsing!=3.0.5,>=2.0.2 in /opt/anaconda3/lib/python3.9/site-packages (from packaging>=17.0->db-dtypes) (3.0.4)\r\n",
      "Requirement already satisfied: python-dateutil>=2.8.1 in /opt/anaconda3/lib/python3.9/site-packages (from pandas<2.0dev,>=0.24.2->db-dtypes) (2.8.2)\r\n"
     ]
    },
    {
     "name": "stdout",
     "output_type": "stream",
     "text": [
      "Requirement already satisfied: pytz>=2020.1 in /opt/anaconda3/lib/python3.9/site-packages (from pandas<2.0dev,>=0.24.2->db-dtypes) (2021.3)\r\n",
      "Requirement already satisfied: six>=1.5 in /opt/anaconda3/lib/python3.9/site-packages (from python-dateutil>=2.8.1->pandas<2.0dev,>=0.24.2->db-dtypes) (1.16.0)\r\n",
      "\u001b[33mWARNING: Ignoring invalid distribution -umpy (/opt/anaconda3/lib/python3.9/site-packages)\u001b[0m\r\n"
     ]
    },
    {
     "name": "stdout",
     "output_type": "stream",
     "text": [
      "\u001b[33mWARNING: Ignoring invalid distribution -umpy (/opt/anaconda3/lib/python3.9/site-packages)\u001b[0m\r\n",
      "\u001b[33mWARNING: Ignoring invalid distribution -umpy (/opt/anaconda3/lib/python3.9/site-packages)\u001b[0m\r\n",
      "\u001b[33mWARNING: Ignoring invalid distribution -umpy (/opt/anaconda3/lib/python3.9/site-packages)\u001b[0m\r\n"
     ]
    }
   ],
   "source": [
    "get_ipython().system('pip install db-dtypes')"
   ]
  },
  {
   "cell_type": "code",
   "execution_count": 2,
   "id": "d5b6ef9d",
   "metadata": {
    "execution": {
     "iopub.execute_input": "2023-05-09T23:13:42.742318Z",
     "iopub.status.busy": "2023-05-09T23:13:42.742077Z",
     "iopub.status.idle": "2023-05-09T23:13:43.137240Z",
     "shell.execute_reply": "2023-05-09T23:13:43.136897Z"
    }
   },
   "outputs": [],
   "source": [
    "import pandas as pd\n",
    "import numpy as np\n",
    "from google.cloud import bigquery"
   ]
  },
  {
   "cell_type": "code",
   "execution_count": 3,
   "id": "1bf0c66a",
   "metadata": {
    "execution": {
     "iopub.execute_input": "2023-05-09T23:13:43.139363Z",
     "iopub.status.busy": "2023-05-09T23:13:43.138795Z",
     "iopub.status.idle": "2023-05-09T23:13:43.146418Z",
     "shell.execute_reply": "2023-05-09T23:13:43.146102Z"
    }
   },
   "outputs": [],
   "source": [
    "BIGQUERY_PROJECT = 'ironhacks-data'\n",
    "bigquery_client = bigquery.Client(project=BIGQUERY_PROJECT)"
   ]
  },
  {
   "cell_type": "code",
   "execution_count": 4,
   "id": "995ce6eb",
   "metadata": {
    "execution": {
     "iopub.execute_input": "2023-05-09T23:13:43.147994Z",
     "iopub.status.busy": "2023-05-09T23:13:43.147907Z",
     "iopub.status.idle": "2023-05-09T23:13:43.149965Z",
     "shell.execute_reply": "2023-05-09T23:13:43.149712Z"
    }
   },
   "outputs": [],
   "source": [
    "query = \"\"\"\n",
    "SELECT *\n",
    "FROM `ironhacks-data.ironhacks_competition.unemployment_data`\n",
    "WHERE uu_id='e201385d37b5f6eea30f6d6d4106dc6f'\n",
    "\"\"\""
   ]
  },
  {
   "cell_type": "code",
   "execution_count": 5,
   "id": "7f2d2cc3",
   "metadata": {
    "execution": {
     "iopub.execute_input": "2023-05-09T23:13:43.151311Z",
     "iopub.status.busy": "2023-05-09T23:13:43.151215Z",
     "iopub.status.idle": "2023-05-09T23:13:45.604238Z",
     "shell.execute_reply": "2023-05-09T23:13:45.602983Z"
    }
   },
   "outputs": [],
   "source": [
    "query_job = bigquery_client.query(query)\n",
    "unemployment_data = query_job.to_dataframe()"
   ]
  },
  {
   "cell_type": "code",
   "execution_count": 6,
   "id": "0a609ff5",
   "metadata": {
    "execution": {
     "iopub.execute_input": "2023-05-09T23:13:45.610969Z",
     "iopub.status.busy": "2023-05-09T23:13:45.610496Z",
     "iopub.status.idle": "2023-05-09T23:13:45.624507Z",
     "shell.execute_reply": "2023-05-09T23:13:45.623645Z"
    }
   },
   "outputs": [
    {
     "data": {
      "text/plain": [
       "(0, 25)"
      ]
     },
     "execution_count": 6,
     "metadata": {},
     "output_type": "execute_result"
    }
   ],
   "source": [
    "unemployment_data.shape"
   ]
  },
  {
   "cell_type": "code",
   "execution_count": 7,
   "id": "884cdc65",
   "metadata": {
    "execution": {
     "iopub.execute_input": "2023-05-09T23:13:45.628198Z",
     "iopub.status.busy": "2023-05-09T23:13:45.627666Z",
     "iopub.status.idle": "2023-05-09T23:13:45.632635Z",
     "shell.execute_reply": "2023-05-09T23:13:45.632146Z"
    }
   },
   "outputs": [
    {
     "data": {
      "text/plain": [
       "Index(['uu_id', 'timeperiod', 'week_number', 'countyfips', 'tract',\n",
       "       'tract_name', 'total_claims', 'edu_8th_or_less', 'edu_grades_9_11',\n",
       "       'edu_hs_grad_equiv', 'edu_post_hs', 'edu_unknown',\n",
       "       'top_category_employer1', 'top_category_employer2',\n",
       "       'top_category_employer3', 'gender_female', 'gender_male', 'gender_na',\n",
       "       'race_amerindian', 'race_asian', 'race_black', 'race_noanswer',\n",
       "       'race_hawaiiannative', 'race_other', 'race_white'],\n",
       "      dtype='object')"
      ]
     },
     "execution_count": 7,
     "metadata": {},
     "output_type": "execute_result"
    }
   ],
   "source": [
    "unemployment_data.columns"
   ]
  },
  {
   "cell_type": "code",
   "execution_count": 8,
   "id": "8a693e2a",
   "metadata": {
    "execution": {
     "iopub.execute_input": "2023-05-09T23:13:45.635470Z",
     "iopub.status.busy": "2023-05-09T23:13:45.635208Z",
     "iopub.status.idle": "2023-05-09T23:13:45.640257Z",
     "shell.execute_reply": "2023-05-09T23:13:45.639784Z"
    }
   },
   "outputs": [],
   "source": [
    "unemployment_data.drop(['uu_id', 'countyfips', 'tract',\n",
    "       'tract_name', 'edu_8th_or_less', 'edu_grades_9_11',\n",
    "       'edu_hs_grad_equiv', 'edu_post_hs', 'edu_unknown',\n",
    "       'top_category_employer1', 'top_category_employer2',\n",
    "       'top_category_employer3', 'gender_female', 'gender_male', 'gender_na',\n",
    "       'race_amerindian', 'race_asian', 'race_black', 'race_noanswer',\n",
    "       'race_hawaiiannative', 'race_other', 'race_white'], axis=1, inplace=True)"
   ]
  },
  {
   "cell_type": "code",
   "execution_count": 9,
   "id": "4a929cc3",
   "metadata": {
    "execution": {
     "iopub.execute_input": "2023-05-09T23:13:45.642658Z",
     "iopub.status.busy": "2023-05-09T23:13:45.642454Z",
     "iopub.status.idle": "2023-05-09T23:13:45.649299Z",
     "shell.execute_reply": "2023-05-09T23:13:45.648901Z"
    },
    "lines_to_next_cell": 1
   },
   "outputs": [
    {
     "data": {
      "text/html": [
       "<div>\n",
       "<style scoped>\n",
       "    .dataframe tbody tr th:only-of-type {\n",
       "        vertical-align: middle;\n",
       "    }\n",
       "\n",
       "    .dataframe tbody tr th {\n",
       "        vertical-align: top;\n",
       "    }\n",
       "\n",
       "    .dataframe thead th {\n",
       "        text-align: right;\n",
       "    }\n",
       "</style>\n",
       "<table border=\"1\" class=\"dataframe\">\n",
       "  <thead>\n",
       "    <tr style=\"text-align: right;\">\n",
       "      <th></th>\n",
       "      <th>timeperiod</th>\n",
       "      <th>week_number</th>\n",
       "      <th>total_claims</th>\n",
       "    </tr>\n",
       "  </thead>\n",
       "  <tbody>\n",
       "  </tbody>\n",
       "</table>\n",
       "</div>"
      ],
      "text/plain": [
       "Empty DataFrame\n",
       "Columns: [timeperiod, week_number, total_claims]\n",
       "Index: []"
      ]
     },
     "execution_count": 9,
     "metadata": {},
     "output_type": "execute_result"
    }
   ],
   "source": [
    "unemployment_data.drop_duplicates(inplace=True)\n",
    "unemployment_data.sort_values(['week_number'])"
   ]
  },
  {
   "cell_type": "code",
   "execution_count": 10,
   "id": "cd4f7b28",
   "metadata": {
    "execution": {
     "iopub.execute_input": "2023-05-09T23:13:45.651486Z",
     "iopub.status.busy": "2023-05-09T23:13:45.651311Z",
     "iopub.status.idle": "2023-05-09T23:13:45.654629Z",
     "shell.execute_reply": "2023-05-09T23:13:45.654126Z"
    }
   },
   "outputs": [
    {
     "ename": "IndentationError",
     "evalue": "expected an indented block (1229759627.py, line 3)",
     "output_type": "error",
     "traceback": [
      "\u001b[0;36m  Cell \u001b[0;32mIn [10], line 3\u001b[0;36m\u001b[0m\n\u001b[0;31m    for week in range(1, 37):\u001b[0m\n\u001b[0m                             ^\u001b[0m\n\u001b[0;31mIndentationError\u001b[0m\u001b[0;31m:\u001b[0m expected an indented block\n"
     ]
    }
   ],
   "source": [
    "def add_missing_weeks(df):\n",
    "    # Fill in missing weeks by taking the ceil of the average of prev and next\n",
    "    for week in range(1, 37):"
   ]
  },
  {
   "cell_type": "code",
   "execution_count": 11,
   "id": "89f34834",
   "metadata": {
    "execution": {
     "iopub.execute_input": "2023-05-09T23:13:45.656605Z",
     "iopub.status.busy": "2023-05-09T23:13:45.656483Z",
     "iopub.status.idle": "2023-05-09T23:13:45.660384Z",
     "shell.execute_reply": "2023-05-09T23:13:45.660036Z"
    }
   },
   "outputs": [],
   "source": [
    "unemployment_data['year'] = unemployment_data['timeperiod'].apply(lambda x: str(x)[:4])\n",
    "unemployment_data['month'] = unemployment_data['timeperiod'].apply(lambda x: str(x)[4:6])\n",
    "unemployment_data['day'] = unemployment_data['timeperiod'].apply(lambda x: str(x)[6:])"
   ]
  },
  {
   "cell_type": "code",
   "execution_count": 12,
   "id": "584b2a56",
   "metadata": {
    "execution": {
     "iopub.execute_input": "2023-05-09T23:13:45.662263Z",
     "iopub.status.busy": "2023-05-09T23:13:45.662111Z",
     "iopub.status.idle": "2023-05-09T23:13:45.665926Z",
     "shell.execute_reply": "2023-05-09T23:13:45.665588Z"
    }
   },
   "outputs": [
    {
     "data": {
      "text/html": [
       "<div>\n",
       "<style scoped>\n",
       "    .dataframe tbody tr th:only-of-type {\n",
       "        vertical-align: middle;\n",
       "    }\n",
       "\n",
       "    .dataframe tbody tr th {\n",
       "        vertical-align: top;\n",
       "    }\n",
       "\n",
       "    .dataframe thead th {\n",
       "        text-align: right;\n",
       "    }\n",
       "</style>\n",
       "<table border=\"1\" class=\"dataframe\">\n",
       "  <thead>\n",
       "    <tr style=\"text-align: right;\">\n",
       "      <th></th>\n",
       "      <th>timeperiod</th>\n",
       "      <th>week_number</th>\n",
       "      <th>total_claims</th>\n",
       "      <th>year</th>\n",
       "      <th>month</th>\n",
       "      <th>day</th>\n",
       "    </tr>\n",
       "  </thead>\n",
       "  <tbody>\n",
       "  </tbody>\n",
       "</table>\n",
       "</div>"
      ],
      "text/plain": [
       "Empty DataFrame\n",
       "Columns: [timeperiod, week_number, total_claims, year, month, day]\n",
       "Index: []"
      ]
     },
     "execution_count": 12,
     "metadata": {},
     "output_type": "execute_result"
    }
   ],
   "source": [
    "unemployment_data"
   ]
  },
  {
   "cell_type": "code",
   "execution_count": 13,
   "id": "e109f3c8",
   "metadata": {
    "execution": {
     "iopub.execute_input": "2023-05-09T23:13:45.667661Z",
     "iopub.status.busy": "2023-05-09T23:13:45.667548Z",
     "iopub.status.idle": "2023-05-09T23:13:45.670426Z",
     "shell.execute_reply": "2023-05-09T23:13:45.670128Z"
    }
   },
   "outputs": [],
   "source": [
    "unemployment_data['ds'] = pd.DatetimeIndex(unemployment_data['year'] + '-' + unemployment_data['month'] + '-' + unemployment_data['day'])"
   ]
  },
  {
   "cell_type": "code",
   "execution_count": 14,
   "id": "0ead8a38",
   "metadata": {
    "execution": {
     "iopub.execute_input": "2023-05-09T23:13:45.672016Z",
     "iopub.status.busy": "2023-05-09T23:13:45.671887Z",
     "iopub.status.idle": "2023-05-09T23:13:45.675315Z",
     "shell.execute_reply": "2023-05-09T23:13:45.675009Z"
    }
   },
   "outputs": [
    {
     "data": {
      "text/html": [
       "<div>\n",
       "<style scoped>\n",
       "    .dataframe tbody tr th:only-of-type {\n",
       "        vertical-align: middle;\n",
       "    }\n",
       "\n",
       "    .dataframe tbody tr th {\n",
       "        vertical-align: top;\n",
       "    }\n",
       "\n",
       "    .dataframe thead th {\n",
       "        text-align: right;\n",
       "    }\n",
       "</style>\n",
       "<table border=\"1\" class=\"dataframe\">\n",
       "  <thead>\n",
       "    <tr style=\"text-align: right;\">\n",
       "      <th></th>\n",
       "      <th>timeperiod</th>\n",
       "      <th>week_number</th>\n",
       "      <th>total_claims</th>\n",
       "      <th>year</th>\n",
       "      <th>month</th>\n",
       "      <th>day</th>\n",
       "      <th>ds</th>\n",
       "    </tr>\n",
       "  </thead>\n",
       "  <tbody>\n",
       "  </tbody>\n",
       "</table>\n",
       "</div>"
      ],
      "text/plain": [
       "Empty DataFrame\n",
       "Columns: [timeperiod, week_number, total_claims, year, month, day, ds]\n",
       "Index: []"
      ]
     },
     "execution_count": 14,
     "metadata": {},
     "output_type": "execute_result"
    }
   ],
   "source": [
    "unemployment_data"
   ]
  },
  {
   "cell_type": "code",
   "execution_count": 15,
   "id": "04af9e06",
   "metadata": {
    "execution": {
     "iopub.execute_input": "2023-05-09T23:13:45.676961Z",
     "iopub.status.busy": "2023-05-09T23:13:45.676857Z",
     "iopub.status.idle": "2023-05-09T23:13:45.679208Z",
     "shell.execute_reply": "2023-05-09T23:13:45.678928Z"
    }
   },
   "outputs": [],
   "source": [
    "unemployment_data.drop(['timeperiod', 'year', 'month', 'day', 'week_number'], axis=1, inplace=True)\n",
    "unemployment_data.columns = ['y', 'ds']"
   ]
  },
  {
   "cell_type": "code",
   "execution_count": 16,
   "id": "88415b1a",
   "metadata": {
    "execution": {
     "iopub.execute_input": "2023-05-09T23:13:45.680749Z",
     "iopub.status.busy": "2023-05-09T23:13:45.680657Z",
     "iopub.status.idle": "2023-05-09T23:13:45.683528Z",
     "shell.execute_reply": "2023-05-09T23:13:45.683281Z"
    }
   },
   "outputs": [
    {
     "data": {
      "text/html": [
       "<div>\n",
       "<style scoped>\n",
       "    .dataframe tbody tr th:only-of-type {\n",
       "        vertical-align: middle;\n",
       "    }\n",
       "\n",
       "    .dataframe tbody tr th {\n",
       "        vertical-align: top;\n",
       "    }\n",
       "\n",
       "    .dataframe thead th {\n",
       "        text-align: right;\n",
       "    }\n",
       "</style>\n",
       "<table border=\"1\" class=\"dataframe\">\n",
       "  <thead>\n",
       "    <tr style=\"text-align: right;\">\n",
       "      <th></th>\n",
       "      <th>y</th>\n",
       "      <th>ds</th>\n",
       "    </tr>\n",
       "  </thead>\n",
       "  <tbody>\n",
       "  </tbody>\n",
       "</table>\n",
       "</div>"
      ],
      "text/plain": [
       "Empty DataFrame\n",
       "Columns: [y, ds]\n",
       "Index: []"
      ]
     },
     "execution_count": 16,
     "metadata": {},
     "output_type": "execute_result"
    }
   ],
   "source": [
    "unemployment_data"
   ]
  },
  {
   "cell_type": "code",
   "execution_count": 17,
   "id": "8a82cd1e",
   "metadata": {
    "execution": {
     "iopub.execute_input": "2023-05-09T23:13:45.684939Z",
     "iopub.status.busy": "2023-05-09T23:13:45.684849Z",
     "iopub.status.idle": "2023-05-09T23:13:45.686634Z",
     "shell.execute_reply": "2023-05-09T23:13:45.686411Z"
    }
   },
   "outputs": [],
   "source": [
    "unemployment_data.sort_values(['ds'], inplace=True)"
   ]
  },
  {
   "cell_type": "code",
   "execution_count": 18,
   "id": "7044745d",
   "metadata": {
    "execution": {
     "iopub.execute_input": "2023-05-09T23:13:45.687960Z",
     "iopub.status.busy": "2023-05-09T23:13:45.687881Z",
     "iopub.status.idle": "2023-05-09T23:13:45.690527Z",
     "shell.execute_reply": "2023-05-09T23:13:45.690306Z"
    }
   },
   "outputs": [
    {
     "data": {
      "text/html": [
       "<div>\n",
       "<style scoped>\n",
       "    .dataframe tbody tr th:only-of-type {\n",
       "        vertical-align: middle;\n",
       "    }\n",
       "\n",
       "    .dataframe tbody tr th {\n",
       "        vertical-align: top;\n",
       "    }\n",
       "\n",
       "    .dataframe thead th {\n",
       "        text-align: right;\n",
       "    }\n",
       "</style>\n",
       "<table border=\"1\" class=\"dataframe\">\n",
       "  <thead>\n",
       "    <tr style=\"text-align: right;\">\n",
       "      <th></th>\n",
       "      <th>y</th>\n",
       "      <th>ds</th>\n",
       "    </tr>\n",
       "  </thead>\n",
       "  <tbody>\n",
       "  </tbody>\n",
       "</table>\n",
       "</div>"
      ],
      "text/plain": [
       "Empty DataFrame\n",
       "Columns: [y, ds]\n",
       "Index: []"
      ]
     },
     "execution_count": 18,
     "metadata": {},
     "output_type": "execute_result"
    }
   ],
   "source": [
    "unemployment_data"
   ]
  },
  {
   "cell_type": "code",
   "execution_count": 19,
   "id": "15b88789",
   "metadata": {
    "execution": {
     "iopub.execute_input": "2023-05-09T23:13:45.691837Z",
     "iopub.status.busy": "2023-05-09T23:13:45.691759Z",
     "iopub.status.idle": "2023-05-09T23:13:48.138090Z",
     "shell.execute_reply": "2023-05-09T23:13:48.137469Z"
    }
   },
   "outputs": [
    {
     "name": "stdout",
     "output_type": "stream",
     "text": [
      "\u001b[33mWARNING: Ignoring invalid distribution -umpy (/opt/anaconda3/lib/python3.9/site-packages)\u001b[0m\r\n",
      "\u001b[33mWARNING: Ignoring invalid distribution -umpy (/opt/anaconda3/lib/python3.9/site-packages)\u001b[0m\r\n",
      "Requirement already satisfied: prophet in /opt/anaconda3/lib/python3.9/site-packages (1.1.2)\r\n"
     ]
    },
    {
     "name": "stdout",
     "output_type": "stream",
     "text": [
      "Requirement already satisfied: tqdm>=4.36.1 in /opt/anaconda3/lib/python3.9/site-packages (from prophet) (4.62.3)\r\n",
      "Requirement already satisfied: holidays>=0.14.2 in /opt/anaconda3/lib/python3.9/site-packages (from prophet) (0.21.13)\r\n",
      "Requirement already satisfied: matplotlib>=2.0.0 in /opt/anaconda3/lib/python3.9/site-packages (from prophet) (3.7.1)\r\n",
      "Requirement already satisfied: python-dateutil>=2.8.0 in /opt/anaconda3/lib/python3.9/site-packages (from prophet) (2.8.2)\r\n",
      "Requirement already satisfied: numpy>=1.15.4 in /opt/anaconda3/lib/python3.9/site-packages (from prophet) (1.22.4)\r\n",
      "Requirement already satisfied: pandas>=1.0.4 in /opt/anaconda3/lib/python3.9/site-packages (from prophet) (1.5.3)\r\n",
      "Requirement already satisfied: convertdate>=2.1.2 in /opt/anaconda3/lib/python3.9/site-packages (from prophet) (2.4.0)\r\n",
      "Requirement already satisfied: cmdstanpy>=1.0.4 in /opt/anaconda3/lib/python3.9/site-packages (from prophet) (1.1.0)\r\n",
      "Requirement already satisfied: LunarCalendar>=0.0.9 in /opt/anaconda3/lib/python3.9/site-packages (from prophet) (0.0.9)\r\n",
      "Requirement already satisfied: pymeeus<=1,>=0.3.13 in /opt/anaconda3/lib/python3.9/site-packages (from convertdate>=2.1.2->prophet) (0.5.12)\r\n",
      "Requirement already satisfied: hijri-converter in /opt/anaconda3/lib/python3.9/site-packages (from holidays>=0.14.2->prophet) (2.2.4)\r\n",
      "Requirement already satisfied: korean-lunar-calendar in /opt/anaconda3/lib/python3.9/site-packages (from holidays>=0.14.2->prophet) (0.3.1)\r\n",
      "Requirement already satisfied: ephem>=3.7.5.3 in /opt/anaconda3/lib/python3.9/site-packages (from LunarCalendar>=0.0.9->prophet) (4.1.4)\r\n",
      "Requirement already satisfied: pytz in /opt/anaconda3/lib/python3.9/site-packages (from LunarCalendar>=0.0.9->prophet) (2021.3)\r\n",
      "Requirement already satisfied: importlib-resources>=3.2.0 in /opt/anaconda3/lib/python3.9/site-packages (from matplotlib>=2.0.0->prophet) (5.12.0)\r\n",
      "Requirement already satisfied: fonttools>=4.22.0 in /opt/anaconda3/lib/python3.9/site-packages (from matplotlib>=2.0.0->prophet) (4.25.0)\r\n",
      "Requirement already satisfied: pillow>=6.2.0 in /opt/anaconda3/lib/python3.9/site-packages (from matplotlib>=2.0.0->prophet) (8.4.0)\r\n",
      "Requirement already satisfied: contourpy>=1.0.1 in /opt/anaconda3/lib/python3.9/site-packages (from matplotlib>=2.0.0->prophet) (1.0.7)\r\n",
      "Requirement already satisfied: packaging>=20.0 in /opt/anaconda3/lib/python3.9/site-packages (from matplotlib>=2.0.0->prophet) (21.3)\r\n",
      "Requirement already satisfied: pyparsing>=2.3.1 in /opt/anaconda3/lib/python3.9/site-packages (from matplotlib>=2.0.0->prophet) (3.0.4)\r\n",
      "Requirement already satisfied: kiwisolver>=1.0.1 in /opt/anaconda3/lib/python3.9/site-packages (from matplotlib>=2.0.0->prophet) (1.3.1)\r\n",
      "Requirement already satisfied: cycler>=0.10 in /opt/anaconda3/lib/python3.9/site-packages (from matplotlib>=2.0.0->prophet) (0.10.0)\r\n",
      "Requirement already satisfied: six in /opt/anaconda3/lib/python3.9/site-packages (from cycler>=0.10->matplotlib>=2.0.0->prophet) (1.16.0)\r\n"
     ]
    },
    {
     "name": "stdout",
     "output_type": "stream",
     "text": [
      "Requirement already satisfied: zipp>=3.1.0 in /opt/anaconda3/lib/python3.9/site-packages (from importlib-resources>=3.2.0->matplotlib>=2.0.0->prophet) (3.6.0)\r\n",
      "\u001b[33mWARNING: Ignoring invalid distribution -umpy (/opt/anaconda3/lib/python3.9/site-packages)\u001b[0m\r\n"
     ]
    },
    {
     "name": "stdout",
     "output_type": "stream",
     "text": [
      "\u001b[33mWARNING: Ignoring invalid distribution -umpy (/opt/anaconda3/lib/python3.9/site-packages)\u001b[0m\r\n",
      "\u001b[33mWARNING: Ignoring invalid distribution -umpy (/opt/anaconda3/lib/python3.9/site-packages)\u001b[0m\r\n"
     ]
    },
    {
     "name": "stdout",
     "output_type": "stream",
     "text": [
      "\u001b[33mWARNING: Ignoring invalid distribution -umpy (/opt/anaconda3/lib/python3.9/site-packages)\u001b[0m\r\n"
     ]
    }
   ],
   "source": [
    "get_ipython().system('pip install prophet')"
   ]
  },
  {
   "cell_type": "code",
   "execution_count": 20,
   "id": "dbdc9f03",
   "metadata": {
    "execution": {
     "iopub.execute_input": "2023-05-09T23:13:48.141190Z",
     "iopub.status.busy": "2023-05-09T23:13:48.140948Z",
     "iopub.status.idle": "2023-05-09T23:13:48.230053Z",
     "shell.execute_reply": "2023-05-09T23:13:48.229780Z"
    }
   },
   "outputs": [
    {
     "ename": "ModuleNotFoundError",
     "evalue": "No module named 'prophet'",
     "output_type": "error",
     "traceback": [
      "\u001b[0;31m---------------------------------------------------------------------------\u001b[0m",
      "\u001b[0;31mModuleNotFoundError\u001b[0m                       Traceback (most recent call last)",
      "Cell \u001b[0;32mIn [20], line 1\u001b[0m\n\u001b[0;32m----> 1\u001b[0m \u001b[38;5;28;01mfrom\u001b[39;00m \u001b[38;5;21;01mprophet\u001b[39;00m \u001b[38;5;28;01mimport\u001b[39;00m Prophet\n",
      "\u001b[0;31mModuleNotFoundError\u001b[0m: No module named 'prophet'"
     ]
    }
   ],
   "source": [
    "from prophet import Prophet"
   ]
  },
  {
   "cell_type": "code",
   "execution_count": 21,
   "id": "f3640a48",
   "metadata": {
    "execution": {
     "iopub.execute_input": "2023-05-09T23:13:48.231583Z",
     "iopub.status.busy": "2023-05-09T23:13:48.231477Z",
     "iopub.status.idle": "2023-05-09T23:13:48.233238Z",
     "shell.execute_reply": "2023-05-09T23:13:48.233012Z"
    }
   },
   "outputs": [],
   "source": [
    "ud = unemployment_data"
   ]
  },
  {
   "cell_type": "code",
   "execution_count": 22,
   "id": "82c37717",
   "metadata": {
    "execution": {
     "iopub.execute_input": "2023-05-09T23:13:48.234654Z",
     "iopub.status.busy": "2023-05-09T23:13:48.234558Z",
     "iopub.status.idle": "2023-05-09T23:13:48.236967Z",
     "shell.execute_reply": "2023-05-09T23:13:48.236725Z"
    }
   },
   "outputs": [],
   "source": [
    "threshold_date = pd.to_datetime('2022-05-14')\n",
    "mask = ud['ds'] < threshold_date"
   ]
  },
  {
   "cell_type": "code",
   "execution_count": 23,
   "id": "42e11634",
   "metadata": {
    "execution": {
     "iopub.execute_input": "2023-05-09T23:13:48.238361Z",
     "iopub.status.busy": "2023-05-09T23:13:48.238263Z",
     "iopub.status.idle": "2023-05-09T23:13:48.241006Z",
     "shell.execute_reply": "2023-05-09T23:13:48.240763Z"
    }
   },
   "outputs": [],
   "source": [
    "# Split the data and select `ds` and `y` columns.\n",
    "ud_train = ud[mask][['ds', 'y']]\n",
    "ud_test = ud[~mask][['ds', 'y']]"
   ]
  },
  {
   "cell_type": "code",
   "execution_count": 24,
   "id": "77ca330e",
   "metadata": {
    "execution": {
     "iopub.execute_input": "2023-05-09T23:13:48.242397Z",
     "iopub.status.busy": "2023-05-09T23:13:48.242298Z",
     "iopub.status.idle": "2023-05-09T23:13:48.245111Z",
     "shell.execute_reply": "2023-05-09T23:13:48.244884Z"
    }
   },
   "outputs": [
    {
     "data": {
      "text/html": [
       "<div>\n",
       "<style scoped>\n",
       "    .dataframe tbody tr th:only-of-type {\n",
       "        vertical-align: middle;\n",
       "    }\n",
       "\n",
       "    .dataframe tbody tr th {\n",
       "        vertical-align: top;\n",
       "    }\n",
       "\n",
       "    .dataframe thead th {\n",
       "        text-align: right;\n",
       "    }\n",
       "</style>\n",
       "<table border=\"1\" class=\"dataframe\">\n",
       "  <thead>\n",
       "    <tr style=\"text-align: right;\">\n",
       "      <th></th>\n",
       "      <th>ds</th>\n",
       "      <th>y</th>\n",
       "    </tr>\n",
       "  </thead>\n",
       "  <tbody>\n",
       "  </tbody>\n",
       "</table>\n",
       "</div>"
      ],
      "text/plain": [
       "Empty DataFrame\n",
       "Columns: [ds, y]\n",
       "Index: []"
      ]
     },
     "execution_count": 24,
     "metadata": {},
     "output_type": "execute_result"
    }
   ],
   "source": [
    "ud_train"
   ]
  },
  {
   "cell_type": "code",
   "execution_count": 25,
   "id": "c9fc9fc8",
   "metadata": {
    "execution": {
     "iopub.execute_input": "2023-05-09T23:13:48.246453Z",
     "iopub.status.busy": "2023-05-09T23:13:48.246361Z",
     "iopub.status.idle": "2023-05-09T23:13:48.253062Z",
     "shell.execute_reply": "2023-05-09T23:13:48.252817Z"
    }
   },
   "outputs": [
    {
     "ename": "NameError",
     "evalue": "name 'Prophet' is not defined",
     "output_type": "error",
     "traceback": [
      "\u001b[0;31m---------------------------------------------------------------------------\u001b[0m",
      "\u001b[0;31mNameError\u001b[0m                                 Traceback (most recent call last)",
      "Cell \u001b[0;32mIn [25], line 1\u001b[0m\n\u001b[0;32m----> 1\u001b[0m m \u001b[38;5;241m=\u001b[39m \u001b[43mProphet\u001b[49m(weekly_seasonality\u001b[38;5;241m=\u001b[39m\u001b[38;5;28;01mFalse\u001b[39;00m,\n\u001b[1;32m      2\u001b[0m         daily_seasonality\u001b[38;5;241m=\u001b[39m\u001b[38;5;28;01mFalse\u001b[39;00m,\n\u001b[1;32m      3\u001b[0m         interval_width\u001b[38;5;241m=\u001b[39m\u001b[38;5;241m0.95\u001b[39m, \n\u001b[1;32m      4\u001b[0m         mcmc_samples \u001b[38;5;241m=\u001b[39m \u001b[38;5;241m500\u001b[39m)\n",
      "\u001b[0;31mNameError\u001b[0m: name 'Prophet' is not defined"
     ]
    }
   ],
   "source": [
    "m = Prophet(weekly_seasonality=False,\n",
    "        daily_seasonality=False,\n",
    "        interval_width=0.95, \n",
    "        mcmc_samples = 500)"
   ]
  },
  {
   "cell_type": "markdown",
   "id": "a70562e1",
   "metadata": {},
   "source": [
    "m.add_seasonality(\n",
    "        name='monthly', \n",
    "        period=30.5, \n",
    "        fourier_order=5\n",
    "    )"
   ]
  },
  {
   "cell_type": "code",
   "execution_count": 26,
   "id": "a0c3835e",
   "metadata": {
    "execution": {
     "iopub.execute_input": "2023-05-09T23:13:48.254393Z",
     "iopub.status.busy": "2023-05-09T23:13:48.254314Z",
     "iopub.status.idle": "2023-05-09T23:13:48.260633Z",
     "shell.execute_reply": "2023-05-09T23:13:48.260381Z"
    }
   },
   "outputs": [
    {
     "ename": "NameError",
     "evalue": "name 'm' is not defined",
     "output_type": "error",
     "traceback": [
      "\u001b[0;31m---------------------------------------------------------------------------\u001b[0m",
      "\u001b[0;31mNameError\u001b[0m                                 Traceback (most recent call last)",
      "Cell \u001b[0;32mIn [26], line 1\u001b[0m\n\u001b[0;32m----> 1\u001b[0m \u001b[43mm\u001b[49m\u001b[38;5;241m.\u001b[39mfit(ud_train)\n",
      "\u001b[0;31mNameError\u001b[0m: name 'm' is not defined"
     ]
    }
   ],
   "source": [
    "m.fit(ud_train)"
   ]
  },
  {
   "cell_type": "code",
   "execution_count": 27,
   "id": "e159c43d",
   "metadata": {
    "execution": {
     "iopub.execute_input": "2023-05-09T23:13:48.262065Z",
     "iopub.status.busy": "2023-05-09T23:13:48.261964Z",
     "iopub.status.idle": "2023-05-09T23:13:48.268340Z",
     "shell.execute_reply": "2023-05-09T23:13:48.268103Z"
    }
   },
   "outputs": [
    {
     "ename": "NameError",
     "evalue": "name 'm' is not defined",
     "output_type": "error",
     "traceback": [
      "\u001b[0;31m---------------------------------------------------------------------------\u001b[0m",
      "\u001b[0;31mNameError\u001b[0m                                 Traceback (most recent call last)",
      "Cell \u001b[0;32mIn [27], line 1\u001b[0m\n\u001b[0;32m----> 1\u001b[0m future \u001b[38;5;241m=\u001b[39m \u001b[43mm\u001b[49m\u001b[38;5;241m.\u001b[39mmake_future_dataframe(periods\u001b[38;5;241m=\u001b[39m\u001b[38;5;241m20\u001b[39m, freq\u001b[38;5;241m=\u001b[39m\u001b[38;5;124m'\u001b[39m\u001b[38;5;124mW\u001b[39m\u001b[38;5;124m'\u001b[39m)\n",
      "\u001b[0;31mNameError\u001b[0m: name 'm' is not defined"
     ]
    }
   ],
   "source": [
    "future = m.make_future_dataframe(periods=20, freq='W')"
   ]
  },
  {
   "cell_type": "code",
   "execution_count": 28,
   "id": "01923617",
   "metadata": {
    "execution": {
     "iopub.execute_input": "2023-05-09T23:13:48.269667Z",
     "iopub.status.busy": "2023-05-09T23:13:48.269592Z",
     "iopub.status.idle": "2023-05-09T23:13:48.275928Z",
     "shell.execute_reply": "2023-05-09T23:13:48.275688Z"
    }
   },
   "outputs": [
    {
     "ename": "NameError",
     "evalue": "name 'm' is not defined",
     "output_type": "error",
     "traceback": [
      "\u001b[0;31m---------------------------------------------------------------------------\u001b[0m",
      "\u001b[0;31mNameError\u001b[0m                                 Traceback (most recent call last)",
      "Cell \u001b[0;32mIn [28], line 1\u001b[0m\n\u001b[0;32m----> 1\u001b[0m forecast \u001b[38;5;241m=\u001b[39m \u001b[43mm\u001b[49m\u001b[38;5;241m.\u001b[39mpredict(df\u001b[38;5;241m=\u001b[39mfuture)\n",
      "\u001b[0;31mNameError\u001b[0m: name 'm' is not defined"
     ]
    }
   ],
   "source": [
    "forecast = m.predict(df=future)"
   ]
  },
  {
   "cell_type": "code",
   "execution_count": 29,
   "id": "ad8efe79",
   "metadata": {
    "execution": {
     "iopub.execute_input": "2023-05-09T23:13:48.277243Z",
     "iopub.status.busy": "2023-05-09T23:13:48.277167Z",
     "iopub.status.idle": "2023-05-09T23:13:48.283563Z",
     "shell.execute_reply": "2023-05-09T23:13:48.283282Z"
    }
   },
   "outputs": [
    {
     "ename": "NameError",
     "evalue": "name 'm' is not defined",
     "output_type": "error",
     "traceback": [
      "\u001b[0;31m---------------------------------------------------------------------------\u001b[0m",
      "\u001b[0;31mNameError\u001b[0m                                 Traceback (most recent call last)",
      "Cell \u001b[0;32mIn [29], line 1\u001b[0m\n\u001b[0;32m----> 1\u001b[0m \u001b[43mm\u001b[49m\u001b[38;5;241m.\u001b[39mfit(ud_train, show_console\u001b[38;5;241m=\u001b[39m\u001b[38;5;28;01mTrue\u001b[39;00m)\n",
      "\u001b[0;31mNameError\u001b[0m: name 'm' is not defined"
     ]
    }
   ],
   "source": [
    "m.fit(ud_train, show_console=True)"
   ]
  },
  {
   "cell_type": "code",
   "execution_count": 30,
   "id": "7490cd8c",
   "metadata": {
    "execution": {
     "iopub.execute_input": "2023-05-09T23:13:48.284934Z",
     "iopub.status.busy": "2023-05-09T23:13:48.284838Z",
     "iopub.status.idle": "2023-05-09T23:13:48.291685Z",
     "shell.execute_reply": "2023-05-09T23:13:48.291449Z"
    }
   },
   "outputs": [
    {
     "ename": "NameError",
     "evalue": "name 'Prophet' is not defined",
     "output_type": "error",
     "traceback": [
      "\u001b[0;31m---------------------------------------------------------------------------\u001b[0m",
      "\u001b[0;31mNameError\u001b[0m                                 Traceback (most recent call last)",
      "Cell \u001b[0;32mIn [30], line 1\u001b[0m\n\u001b[0;32m----> 1\u001b[0m m \u001b[38;5;241m=\u001b[39m \u001b[43mProphet\u001b[49m(weekly_seasonality\u001b[38;5;241m=\u001b[39m\u001b[38;5;28;01mFalse\u001b[39;00m,\n\u001b[1;32m      2\u001b[0m         daily_seasonality\u001b[38;5;241m=\u001b[39m\u001b[38;5;28;01mFalse\u001b[39;00m,\n\u001b[1;32m      3\u001b[0m         interval_width\u001b[38;5;241m=\u001b[39m\u001b[38;5;241m0.95\u001b[39m, \n\u001b[1;32m      4\u001b[0m         mcmc_samples \u001b[38;5;241m=\u001b[39m \u001b[38;5;241m500\u001b[39m)\n",
      "\u001b[0;31mNameError\u001b[0m: name 'Prophet' is not defined"
     ]
    }
   ],
   "source": [
    "m = Prophet(weekly_seasonality=False,\n",
    "        daily_seasonality=False,\n",
    "        interval_width=0.95, \n",
    "        mcmc_samples = 500)"
   ]
  },
  {
   "cell_type": "markdown",
   "id": "4b8853c5",
   "metadata": {},
   "source": [
    "m.add_seasonality(\n",
    "        name='monthly', \n",
    "        period=30.5, \n",
    "        fourier_order=5\n",
    "    )"
   ]
  },
  {
   "cell_type": "code",
   "execution_count": 31,
   "id": "1c5c9f20",
   "metadata": {
    "execution": {
     "iopub.execute_input": "2023-05-09T23:13:48.293066Z",
     "iopub.status.busy": "2023-05-09T23:13:48.292984Z",
     "iopub.status.idle": "2023-05-09T23:13:48.299284Z",
     "shell.execute_reply": "2023-05-09T23:13:48.299055Z"
    }
   },
   "outputs": [
    {
     "ename": "NameError",
     "evalue": "name 'm' is not defined",
     "output_type": "error",
     "traceback": [
      "\u001b[0;31m---------------------------------------------------------------------------\u001b[0m",
      "\u001b[0;31mNameError\u001b[0m                                 Traceback (most recent call last)",
      "Cell \u001b[0;32mIn [31], line 1\u001b[0m\n\u001b[0;32m----> 1\u001b[0m \u001b[43mm\u001b[49m\u001b[38;5;241m.\u001b[39mfit(ud_train, show_console\u001b[38;5;241m=\u001b[39m\u001b[38;5;28;01mTrue\u001b[39;00m)\n",
      "\u001b[0;31mNameError\u001b[0m: name 'm' is not defined"
     ]
    }
   ],
   "source": [
    "m.fit(ud_train, show_console=True)"
   ]
  },
  {
   "cell_type": "code",
   "execution_count": 32,
   "id": "5800077a",
   "metadata": {
    "execution": {
     "iopub.execute_input": "2023-05-09T23:13:48.300597Z",
     "iopub.status.busy": "2023-05-09T23:13:48.300518Z",
     "iopub.status.idle": "2023-05-09T23:13:48.306840Z",
     "shell.execute_reply": "2023-05-09T23:13:48.306613Z"
    }
   },
   "outputs": [
    {
     "ename": "NameError",
     "evalue": "name 'm' is not defined",
     "output_type": "error",
     "traceback": [
      "\u001b[0;31m---------------------------------------------------------------------------\u001b[0m",
      "\u001b[0;31mNameError\u001b[0m                                 Traceback (most recent call last)",
      "Cell \u001b[0;32mIn [32], line 1\u001b[0m\n\u001b[0;32m----> 1\u001b[0m future \u001b[38;5;241m=\u001b[39m \u001b[43mm\u001b[49m\u001b[38;5;241m.\u001b[39mmake_future_dataframe(periods\u001b[38;5;241m=\u001b[39m\u001b[38;5;241m20\u001b[39m, freq\u001b[38;5;241m=\u001b[39m\u001b[38;5;124m'\u001b[39m\u001b[38;5;124mW\u001b[39m\u001b[38;5;124m'\u001b[39m)\n",
      "\u001b[0;31mNameError\u001b[0m: name 'm' is not defined"
     ]
    }
   ],
   "source": [
    "future = m.make_future_dataframe(periods=20, freq='W')"
   ]
  },
  {
   "cell_type": "code",
   "execution_count": 33,
   "id": "a4ff0ff3",
   "metadata": {
    "execution": {
     "iopub.execute_input": "2023-05-09T23:13:48.308194Z",
     "iopub.status.busy": "2023-05-09T23:13:48.308111Z",
     "iopub.status.idle": "2023-05-09T23:13:48.314295Z",
     "shell.execute_reply": "2023-05-09T23:13:48.314041Z"
    },
    "lines_to_next_cell": 2
   },
   "outputs": [
    {
     "ename": "NameError",
     "evalue": "name 'm' is not defined",
     "output_type": "error",
     "traceback": [
      "\u001b[0;31m---------------------------------------------------------------------------\u001b[0m",
      "\u001b[0;31mNameError\u001b[0m                                 Traceback (most recent call last)",
      "Cell \u001b[0;32mIn [33], line 1\u001b[0m\n\u001b[0;32m----> 1\u001b[0m forecast \u001b[38;5;241m=\u001b[39m \u001b[43mm\u001b[49m\u001b[38;5;241m.\u001b[39mpredict(df\u001b[38;5;241m=\u001b[39mfuture)\n",
      "\u001b[0;31mNameError\u001b[0m: name 'm' is not defined"
     ]
    }
   ],
   "source": [
    "forecast = m.predict(df=future)"
   ]
  }
 ],
 "metadata": {
  "jupytext": {
   "cell_metadata_filter": "-all",
   "main_language": "python",
   "notebook_metadata_filter": "-all"
  },
  "language_info": {
   "codemirror_mode": {
    "name": "ipython",
    "version": 3
   },
   "file_extension": ".py",
   "mimetype": "text/x-python",
   "name": "python",
   "nbconvert_exporter": "python",
   "pygments_lexer": "ipython3",
   "version": "3.9.12"
  }
 },
 "nbformat": 4,
 "nbformat_minor": 5
}
