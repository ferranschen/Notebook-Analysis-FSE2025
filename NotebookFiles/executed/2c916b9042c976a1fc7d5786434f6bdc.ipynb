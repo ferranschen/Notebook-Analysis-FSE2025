{
 "cells": [
  {
   "cell_type": "code",
   "execution_count": 1,
   "id": "7cb9afb6",
   "metadata": {
    "execution": {
     "iopub.execute_input": "2023-05-10T02:49:19.481316Z",
     "iopub.status.busy": "2023-05-10T02:49:19.481138Z",
     "iopub.status.idle": "2023-05-10T02:49:19.491455Z",
     "shell.execute_reply": "2023-05-10T02:49:19.491119Z"
    }
   },
   "outputs": [],
   "source": [
    "get_ipython().run_cell_magic('capture', '', \"%logstop\\n%logstart -t -r -q ipython_command_log.py global\\n\\n#- IRONHACKS RESEARCH TRACKING CODE\\n#----------------------------------\\n# The following code is used to help our research team understand how you \\n# our notebook environment. We do not collect any personal information with\\n# the following code, it is used to measure when and how often you work on\\n# your submission files.\\n\\nimport os\\nfrom datetime import datetime\\nimport IPython.core.history as history\\n\\nha = history.HistoryAccessor()\\nha_tail = ha.get_tail(1)\\nha_cmd = next(ha_tail)\\nsession_id = str(ha_cmd[0])\\ncommand_id = str(ha_cmd[1])\\ntimestamp = datetime.utcnow().isoformat()\\nhistory_line = ','.join([session_id, command_id, timestamp]) + '\\\\n'\\nlogfile = open(os.environ['HOME']+'/ipython_session_log.csv', 'a')\\nlogfile.write(history_line)\\nlogfile.close()\\n\")"
   ]
  },
  {
   "cell_type": "code",
   "execution_count": 2,
   "id": "efd29ca6",
   "metadata": {
    "execution": {
     "iopub.execute_input": "2023-05-10T02:49:19.494051Z",
     "iopub.status.busy": "2023-05-10T02:49:19.493841Z",
     "iopub.status.idle": "2023-05-10T02:49:20.767140Z",
     "shell.execute_reply": "2023-05-10T02:49:20.766488Z"
    }
   },
   "outputs": [],
   "source": [
    "get_ipython().run_cell_magic('capture', '', \"\\n#- INSTALL ADDITIONAL LIBRARIES IF REQUIRED\\n#------------------------------------------\\n# This is normally not required. The hub environment comes preinstaled with \\n# many packages that you can already use without setup. In case there is some\\n# other library you would like to use that isn't on the list you run this command\\n# once to install them.  If it is already installed this command has no effect.\\n\\n!python3 -m pip install pandas\\n\")"
   ]
  },
  {
   "cell_type": "markdown",
   "id": "c4b473e2",
   "metadata": {},
   "source": [
    "- IMPORT THE LIBRARIES YOU WILL USE\n",
    "------------------------------------------\n",
    "You only need to import packages one time per notebook session. To keep your\n",
    "notebook clean and organized you can handle all imports at the top of your file.\n",
    "The following are included for example purposed, feel free to modify or delete \n",
    "anything in this section."
   ]
  },
  {
   "cell_type": "code",
   "execution_count": 3,
   "id": "3d5b5f3f",
   "metadata": {
    "execution": {
     "iopub.execute_input": "2023-05-10T02:49:20.770263Z",
     "iopub.status.busy": "2023-05-10T02:49:20.770013Z",
     "iopub.status.idle": "2023-05-10T02:49:21.216901Z",
     "shell.execute_reply": "2023-05-10T02:49:21.216602Z"
    },
    "lines_to_next_cell": 1
   },
   "outputs": [],
   "source": [
    "import csv\n",
    "import pandas as pd\n",
    "import numpy as np\n",
    "from google.cloud import bigquery\n",
    "from google.oauth2 import service_account\n",
    "from google.cloud.bigquery import magics"
   ]
  },
  {
   "cell_type": "markdown",
   "id": "1728fd5c",
   "metadata": {},
   "source": [
    "- DEFINE YOUR CLASSES AND FUNCTIONS \n",
    "-----------------------------------\n",
    "This is not required, but is helpful in keeping your notebook organized. \n",
    "You can use the following cell or several cells to define your functions\n",
    "and classes to keep them separate from your analysis or results code.\n",
    "In general it useful to define your methods in a separate cell from where\n",
    "it is run."
   ]
  },
  {
   "cell_type": "code",
   "execution_count": 4,
   "id": "611461fb",
   "metadata": {
    "execution": {
     "iopub.execute_input": "2023-05-10T02:49:21.218653Z",
     "iopub.status.busy": "2023-05-10T02:49:21.218509Z",
     "iopub.status.idle": "2023-05-10T02:49:21.220436Z",
     "shell.execute_reply": "2023-05-10T02:49:21.220184Z"
    },
    "lines_to_next_cell": 1
   },
   "outputs": [],
   "source": [
    "def example_function():\n",
    "    print('Hello World')"
   ]
  },
  {
   "cell_type": "code",
   "execution_count": 5,
   "id": "c409a593",
   "metadata": {
    "execution": {
     "iopub.execute_input": "2023-05-10T02:49:21.221898Z",
     "iopub.status.busy": "2023-05-10T02:49:21.221794Z",
     "iopub.status.idle": "2023-05-10T02:49:21.223583Z",
     "shell.execute_reply": "2023-05-10T02:49:21.223230Z"
    }
   },
   "outputs": [
    {
     "name": "stdout",
     "output_type": "stream",
     "text": [
      "Hello World\n"
     ]
    }
   ],
   "source": [
    "example_function()"
   ]
  },
  {
   "cell_type": "code",
   "execution_count": 6,
   "id": "87c4be72",
   "metadata": {
    "execution": {
     "iopub.execute_input": "2023-05-10T02:49:21.225665Z",
     "iopub.status.busy": "2023-05-10T02:49:21.225527Z",
     "iopub.status.idle": "2023-05-10T02:49:21.227426Z",
     "shell.execute_reply": "2023-05-10T02:49:21.227181Z"
    }
   },
   "outputs": [],
   "source": [
    "query = \"\"\"\n",
    "SELECT *\n",
    "FROM `ironhacks-data.ironhacks_training.covid19_cases`\n",
    "\"\"\""
   ]
  },
  {
   "cell_type": "code",
   "execution_count": 7,
   "id": "04a238b6",
   "metadata": {
    "execution": {
     "iopub.execute_input": "2023-05-10T02:49:21.228785Z",
     "iopub.status.busy": "2023-05-10T02:49:21.228681Z",
     "iopub.status.idle": "2023-05-10T02:49:21.304799Z",
     "shell.execute_reply": "2023-05-10T02:49:21.304522Z"
    }
   },
   "outputs": [
    {
     "ename": "NameError",
     "evalue": "name 'bigquery_client' is not defined",
     "output_type": "error",
     "traceback": [
      "\u001b[0;31m---------------------------------------------------------------------------\u001b[0m",
      "\u001b[0;31mNameError\u001b[0m                                 Traceback (most recent call last)",
      "Cell \u001b[0;32mIn [7], line 2\u001b[0m\n\u001b[1;32m      1\u001b[0m \u001b[38;5;66;03m# QUERY THE DATA ONCE\u001b[39;00m\n\u001b[0;32m----> 2\u001b[0m query_job \u001b[38;5;241m=\u001b[39m \u001b[43mbigquery_client\u001b[49m\u001b[38;5;241m.\u001b[39mquery(query)\n\u001b[1;32m      3\u001b[0m covid19_cases_data \u001b[38;5;241m=\u001b[39m query_job\u001b[38;5;241m.\u001b[39mto_dataframe()\n\u001b[1;32m      4\u001b[0m \u001b[38;5;66;03m#rn that error is expected, they r still tryna fix it\u001b[39;00m\n",
      "\u001b[0;31mNameError\u001b[0m: name 'bigquery_client' is not defined"
     ]
    }
   ],
   "source": [
    "# QUERY THE DATA ONCE\n",
    "query_job = bigquery_client.query(query)\n",
    "covid19_cases_data = query_job.to_dataframe()\n",
    "#rn that error is expected, they r still tryna fix it"
   ]
  },
  {
   "cell_type": "markdown",
   "id": "828477fa",
   "metadata": {},
   "source": [
    "- IMPORT THE LIBRARIES YOU WILL USE\n",
    "------------------------------------------\n",
    "You only need to import packages one time per notebook session. To keep your\n",
    "notebook clean and organized you can handle all imports at the top of your file.\n",
    "The following are included for example purposed, feel free to modify or delete \n",
    "anything in this section."
   ]
  },
  {
   "cell_type": "code",
   "execution_count": 8,
   "id": "7aa908f0",
   "metadata": {
    "execution": {
     "iopub.execute_input": "2023-05-10T02:49:21.306439Z",
     "iopub.status.busy": "2023-05-10T02:49:21.306330Z",
     "iopub.status.idle": "2023-05-10T02:49:21.308668Z",
     "shell.execute_reply": "2023-05-10T02:49:21.308178Z"
    }
   },
   "outputs": [],
   "source": [
    "import csv\n",
    "import pandas as pd\n",
    "import numpy as np\n",
    "from google.cloud import bigquery\n",
    "from google.oauth2 import service_account\n",
    "from google.cloud.bigquery import magics"
   ]
  },
  {
   "cell_type": "markdown",
   "id": "37b322ab",
   "metadata": {},
   "source": [
    "CONFIGURE THE BIGQUERY SETTINGS"
   ]
  },
  {
   "cell_type": "code",
   "execution_count": 9,
   "id": "51c421df",
   "metadata": {
    "execution": {
     "iopub.execute_input": "2023-05-10T02:49:21.310272Z",
     "iopub.status.busy": "2023-05-10T02:49:21.310159Z",
     "iopub.status.idle": "2023-05-10T02:49:21.317545Z",
     "shell.execute_reply": "2023-05-10T02:49:21.317183Z"
    }
   },
   "outputs": [],
   "source": [
    "BIGQUERY_PROJECT = 'ironhacks-data'\n",
    "bigquery_client = bigquery.Client(project=BIGQUERY_PROJECT)"
   ]
  },
  {
   "cell_type": "code",
   "execution_count": 10,
   "id": "fe1e9977",
   "metadata": {
    "execution": {
     "iopub.execute_input": "2023-05-10T02:49:21.319247Z",
     "iopub.status.busy": "2023-05-10T02:49:21.319126Z",
     "iopub.status.idle": "2023-05-10T02:49:21.320977Z",
     "shell.execute_reply": "2023-05-10T02:49:21.320679Z"
    }
   },
   "outputs": [],
   "source": [
    "query = \"\"\"\n",
    "SELECT *\n",
    "FROM `ironhacks-data.ironhacks_training.covid19_cases`\n",
    "\"\"\""
   ]
  },
  {
   "cell_type": "code",
   "execution_count": 11,
   "id": "6fbd2f4f",
   "metadata": {
    "execution": {
     "iopub.execute_input": "2023-05-10T02:49:21.322423Z",
     "iopub.status.busy": "2023-05-10T02:49:21.322313Z",
     "iopub.status.idle": "2023-05-10T02:49:23.019682Z",
     "shell.execute_reply": "2023-05-10T02:49:23.018865Z"
    }
   },
   "outputs": [],
   "source": [
    "# QUERY THE DATA ONCE\n",
    "query_job = bigquery_client.query(query)\n",
    "covid19_cases_data = query_job.to_dataframe()\n",
    "#rn that error is expected, they r still tryna fix it"
   ]
  },
  {
   "cell_type": "code",
   "execution_count": 12,
   "id": "d944ff3d",
   "metadata": {
    "execution": {
     "iopub.execute_input": "2023-05-10T02:49:23.024192Z",
     "iopub.status.busy": "2023-05-10T02:49:23.023515Z",
     "iopub.status.idle": "2023-05-10T02:49:23.033124Z",
     "shell.execute_reply": "2023-05-10T02:49:23.032517Z"
    }
   },
   "outputs": [
    {
     "name": "stdout",
     "output_type": "stream",
     "text": [
      "Columns:\n",
      "week_number\n",
      "start_date\n",
      "county\n",
      "fips\n",
      "cases\n",
      "deaths\n",
      "\n",
      "Results:\n",
      "   week_number  start_date  county   fips  cases  deaths\n",
      "0            9  2021-03-01  Marion  18097    664      23\n",
      "1           12  2021-03-22  Marion  18097    623      11\n",
      "2           19  2021-05-10  Marion  18097   1156       4\n",
      "3           11  2021-03-15  Marion  18097    560      13\n",
      "4            6  2021-02-08  Marion  18097   1542     219\n"
     ]
    }
   ],
   "source": [
    "# THEN WORK BELOW TO DO SOMETHING THE RESULTS\n",
    "print(\"Columns:\")\n",
    "print('\\n'.join(covid19_cases_data.columns))\n",
    "print(\"\\nResults:\")\n",
    "print(covid19_cases_data.head())"
   ]
  },
  {
   "cell_type": "code",
   "execution_count": 13,
   "id": "8ae9d5be",
   "metadata": {
    "execution": {
     "iopub.execute_input": "2023-05-10T02:49:23.036345Z",
     "iopub.status.busy": "2023-05-10T02:49:23.035900Z",
     "iopub.status.idle": "2023-05-10T02:49:23.038952Z",
     "shell.execute_reply": "2023-05-10T02:49:23.038439Z"
    }
   },
   "outputs": [],
   "source": [
    "query = \"\"\"\n",
    "SELECT *\n",
    "FROM `ironhacks-data.ironhacks_competition.unemployment_data` \n",
    "`\n",
    "\"\"\""
   ]
  },
  {
   "cell_type": "code",
   "execution_count": 14,
   "id": "d9e1a528",
   "metadata": {
    "execution": {
     "iopub.execute_input": "2023-05-10T02:49:23.041893Z",
     "iopub.status.busy": "2023-05-10T02:49:23.041648Z",
     "iopub.status.idle": "2023-05-10T02:49:23.367341Z",
     "shell.execute_reply": "2023-05-10T02:49:23.367015Z"
    }
   },
   "outputs": [
    {
     "ename": "BadRequest",
     "evalue": "400 Syntax error: Unclosed identifier literal at [4:1]\n\nLocation: US\nJob ID: 1fb9de2c-72da-4bc8-b8f8-5872feb0e6a2\n",
     "output_type": "error",
     "traceback": [
      "\u001b[0;31m---------------------------------------------------------------------------\u001b[0m",
      "\u001b[0;31mBadRequest\u001b[0m                                Traceback (most recent call last)",
      "Cell \u001b[0;32mIn [14], line 3\u001b[0m\n\u001b[1;32m      1\u001b[0m \u001b[38;5;66;03m# QUERY THE DATA ONCE\u001b[39;00m\n\u001b[1;32m      2\u001b[0m query_job \u001b[38;5;241m=\u001b[39m bigquery_client\u001b[38;5;241m.\u001b[39mquery(query)\n\u001b[0;32m----> 3\u001b[0m covid19_cases_data \u001b[38;5;241m=\u001b[39m \u001b[43mquery_job\u001b[49m\u001b[38;5;241;43m.\u001b[39;49m\u001b[43mto_dataframe\u001b[49m\u001b[43m(\u001b[49m\u001b[43m)\u001b[49m\n\u001b[1;32m      4\u001b[0m \u001b[38;5;66;03m#rn that error is expected, they r still tryna fix it\u001b[39;00m\n",
      "File \u001b[0;32m/opt/homebrew/lib/python3.9/site-packages/google/cloud/bigquery/job/query.py:1687\u001b[0m, in \u001b[0;36mQueryJob.to_dataframe\u001b[0;34m(self, bqstorage_client, dtypes, progress_bar_type, create_bqstorage_client, max_results, geography_as_object)\u001b[0m\n\u001b[1;32m   1612\u001b[0m \u001b[38;5;28;01mdef\u001b[39;00m \u001b[38;5;21mto_dataframe\u001b[39m(\n\u001b[1;32m   1613\u001b[0m     \u001b[38;5;28mself\u001b[39m,\n\u001b[1;32m   1614\u001b[0m     bqstorage_client: Optional[\u001b[38;5;124m\"\u001b[39m\u001b[38;5;124mbigquery_storage.BigQueryReadClient\u001b[39m\u001b[38;5;124m\"\u001b[39m] \u001b[38;5;241m=\u001b[39m \u001b[38;5;28;01mNone\u001b[39;00m,\n\u001b[0;32m   (...)\u001b[0m\n\u001b[1;32m   1619\u001b[0m     geography_as_object: \u001b[38;5;28mbool\u001b[39m \u001b[38;5;241m=\u001b[39m \u001b[38;5;28;01mFalse\u001b[39;00m,\n\u001b[1;32m   1620\u001b[0m ) \u001b[38;5;241m-\u001b[39m\u001b[38;5;241m>\u001b[39m \u001b[38;5;124m\"\u001b[39m\u001b[38;5;124mpandas.DataFrame\u001b[39m\u001b[38;5;124m\"\u001b[39m:\n\u001b[1;32m   1621\u001b[0m     \u001b[38;5;124;03m\"\"\"Return a pandas DataFrame from a QueryJob\u001b[39;00m\n\u001b[1;32m   1622\u001b[0m \n\u001b[1;32m   1623\u001b[0m \u001b[38;5;124;03m    Args:\u001b[39;00m\n\u001b[0;32m   (...)\u001b[0m\n\u001b[1;32m   1685\u001b[0m \u001b[38;5;124;03m            :mod:`shapely` library cannot be imported.\u001b[39;00m\n\u001b[1;32m   1686\u001b[0m \u001b[38;5;124;03m    \"\"\"\u001b[39;00m\n\u001b[0;32m-> 1687\u001b[0m     query_result \u001b[38;5;241m=\u001b[39m \u001b[43mwait_for_query\u001b[49m\u001b[43m(\u001b[49m\u001b[38;5;28;43mself\u001b[39;49m\u001b[43m,\u001b[49m\u001b[43m \u001b[49m\u001b[43mprogress_bar_type\u001b[49m\u001b[43m,\u001b[49m\u001b[43m \u001b[49m\u001b[43mmax_results\u001b[49m\u001b[38;5;241;43m=\u001b[39;49m\u001b[43mmax_results\u001b[49m\u001b[43m)\u001b[49m\n\u001b[1;32m   1688\u001b[0m     \u001b[38;5;28;01mreturn\u001b[39;00m query_result\u001b[38;5;241m.\u001b[39mto_dataframe(\n\u001b[1;32m   1689\u001b[0m         bqstorage_client\u001b[38;5;241m=\u001b[39mbqstorage_client,\n\u001b[1;32m   1690\u001b[0m         dtypes\u001b[38;5;241m=\u001b[39mdtypes,\n\u001b[0;32m   (...)\u001b[0m\n\u001b[1;32m   1693\u001b[0m         geography_as_object\u001b[38;5;241m=\u001b[39mgeography_as_object,\n\u001b[1;32m   1694\u001b[0m     )\n",
      "File \u001b[0;32m/opt/homebrew/lib/python3.9/site-packages/google/cloud/bigquery/_tqdm_helpers.py:104\u001b[0m, in \u001b[0;36mwait_for_query\u001b[0;34m(query_job, progress_bar_type, max_results)\u001b[0m\n\u001b[1;32m    100\u001b[0m progress_bar \u001b[38;5;241m=\u001b[39m get_progress_bar(\n\u001b[1;32m    101\u001b[0m     progress_bar_type, \u001b[38;5;124m\"\u001b[39m\u001b[38;5;124mQuery is running\u001b[39m\u001b[38;5;124m\"\u001b[39m, default_total, \u001b[38;5;124m\"\u001b[39m\u001b[38;5;124mquery\u001b[39m\u001b[38;5;124m\"\u001b[39m\n\u001b[1;32m    102\u001b[0m )\n\u001b[1;32m    103\u001b[0m \u001b[38;5;28;01mif\u001b[39;00m progress_bar \u001b[38;5;129;01mis\u001b[39;00m \u001b[38;5;28;01mNone\u001b[39;00m:\n\u001b[0;32m--> 104\u001b[0m     \u001b[38;5;28;01mreturn\u001b[39;00m \u001b[43mquery_job\u001b[49m\u001b[38;5;241;43m.\u001b[39;49m\u001b[43mresult\u001b[49m\u001b[43m(\u001b[49m\u001b[43mmax_results\u001b[49m\u001b[38;5;241;43m=\u001b[39;49m\u001b[43mmax_results\u001b[49m\u001b[43m)\u001b[49m\n\u001b[1;32m    106\u001b[0m i \u001b[38;5;241m=\u001b[39m \u001b[38;5;241m0\u001b[39m\n\u001b[1;32m    107\u001b[0m \u001b[38;5;28;01mwhile\u001b[39;00m \u001b[38;5;28;01mTrue\u001b[39;00m:\n",
      "File \u001b[0;32m/opt/homebrew/lib/python3.9/site-packages/google/cloud/bigquery/job/query.py:1499\u001b[0m, in \u001b[0;36mQueryJob.result\u001b[0;34m(self, page_size, max_results, retry, timeout, start_index, job_retry)\u001b[0m\n\u001b[1;32m   1496\u001b[0m     \u001b[38;5;28;01mif\u001b[39;00m retry_do_query \u001b[38;5;129;01mis\u001b[39;00m \u001b[38;5;129;01mnot\u001b[39;00m \u001b[38;5;28;01mNone\u001b[39;00m \u001b[38;5;129;01mand\u001b[39;00m job_retry \u001b[38;5;129;01mis\u001b[39;00m \u001b[38;5;129;01mnot\u001b[39;00m \u001b[38;5;28;01mNone\u001b[39;00m:\n\u001b[1;32m   1497\u001b[0m         do_get_result \u001b[38;5;241m=\u001b[39m job_retry(do_get_result)\n\u001b[0;32m-> 1499\u001b[0m     \u001b[43mdo_get_result\u001b[49m\u001b[43m(\u001b[49m\u001b[43m)\u001b[49m\n\u001b[1;32m   1501\u001b[0m \u001b[38;5;28;01mexcept\u001b[39;00m exceptions\u001b[38;5;241m.\u001b[39mGoogleAPICallError \u001b[38;5;28;01mas\u001b[39;00m exc:\n\u001b[1;32m   1502\u001b[0m     exc\u001b[38;5;241m.\u001b[39mmessage \u001b[38;5;241m=\u001b[39m _EXCEPTION_FOOTER_TEMPLATE\u001b[38;5;241m.\u001b[39mformat(\n\u001b[1;32m   1503\u001b[0m         message\u001b[38;5;241m=\u001b[39mexc\u001b[38;5;241m.\u001b[39mmessage, location\u001b[38;5;241m=\u001b[39m\u001b[38;5;28mself\u001b[39m\u001b[38;5;241m.\u001b[39mlocation, job_id\u001b[38;5;241m=\u001b[39m\u001b[38;5;28mself\u001b[39m\u001b[38;5;241m.\u001b[39mjob_id\n\u001b[1;32m   1504\u001b[0m     )\n",
      "File \u001b[0;32m/opt/homebrew/lib/python3.9/site-packages/google/api_core/retry.py:349\u001b[0m, in \u001b[0;36mRetry.__call__.<locals>.retry_wrapped_func\u001b[0;34m(*args, **kwargs)\u001b[0m\n\u001b[1;32m    345\u001b[0m target \u001b[38;5;241m=\u001b[39m functools\u001b[38;5;241m.\u001b[39mpartial(func, \u001b[38;5;241m*\u001b[39margs, \u001b[38;5;241m*\u001b[39m\u001b[38;5;241m*\u001b[39mkwargs)\n\u001b[1;32m    346\u001b[0m sleep_generator \u001b[38;5;241m=\u001b[39m exponential_sleep_generator(\n\u001b[1;32m    347\u001b[0m     \u001b[38;5;28mself\u001b[39m\u001b[38;5;241m.\u001b[39m_initial, \u001b[38;5;28mself\u001b[39m\u001b[38;5;241m.\u001b[39m_maximum, multiplier\u001b[38;5;241m=\u001b[39m\u001b[38;5;28mself\u001b[39m\u001b[38;5;241m.\u001b[39m_multiplier\n\u001b[1;32m    348\u001b[0m )\n\u001b[0;32m--> 349\u001b[0m \u001b[38;5;28;01mreturn\u001b[39;00m \u001b[43mretry_target\u001b[49m\u001b[43m(\u001b[49m\n\u001b[1;32m    350\u001b[0m \u001b[43m    \u001b[49m\u001b[43mtarget\u001b[49m\u001b[43m,\u001b[49m\n\u001b[1;32m    351\u001b[0m \u001b[43m    \u001b[49m\u001b[38;5;28;43mself\u001b[39;49m\u001b[38;5;241;43m.\u001b[39;49m\u001b[43m_predicate\u001b[49m\u001b[43m,\u001b[49m\n\u001b[1;32m    352\u001b[0m \u001b[43m    \u001b[49m\u001b[43msleep_generator\u001b[49m\u001b[43m,\u001b[49m\n\u001b[1;32m    353\u001b[0m \u001b[43m    \u001b[49m\u001b[38;5;28;43mself\u001b[39;49m\u001b[38;5;241;43m.\u001b[39;49m\u001b[43m_timeout\u001b[49m\u001b[43m,\u001b[49m\n\u001b[1;32m    354\u001b[0m \u001b[43m    \u001b[49m\u001b[43mon_error\u001b[49m\u001b[38;5;241;43m=\u001b[39;49m\u001b[43mon_error\u001b[49m\u001b[43m,\u001b[49m\n\u001b[1;32m    355\u001b[0m \u001b[43m\u001b[49m\u001b[43m)\u001b[49m\n",
      "File \u001b[0;32m/opt/homebrew/lib/python3.9/site-packages/google/api_core/retry.py:191\u001b[0m, in \u001b[0;36mretry_target\u001b[0;34m(target, predicate, sleep_generator, timeout, on_error, **kwargs)\u001b[0m\n\u001b[1;32m    189\u001b[0m \u001b[38;5;28;01mfor\u001b[39;00m sleep \u001b[38;5;129;01min\u001b[39;00m sleep_generator:\n\u001b[1;32m    190\u001b[0m     \u001b[38;5;28;01mtry\u001b[39;00m:\n\u001b[0;32m--> 191\u001b[0m         \u001b[38;5;28;01mreturn\u001b[39;00m \u001b[43mtarget\u001b[49m\u001b[43m(\u001b[49m\u001b[43m)\u001b[49m\n\u001b[1;32m    193\u001b[0m     \u001b[38;5;66;03m# pylint: disable=broad-except\u001b[39;00m\n\u001b[1;32m    194\u001b[0m     \u001b[38;5;66;03m# This function explicitly must deal with broad exceptions.\u001b[39;00m\n\u001b[1;32m    195\u001b[0m     \u001b[38;5;28;01mexcept\u001b[39;00m \u001b[38;5;167;01mException\u001b[39;00m \u001b[38;5;28;01mas\u001b[39;00m exc:\n",
      "File \u001b[0;32m/opt/homebrew/lib/python3.9/site-packages/google/cloud/bigquery/job/query.py:1489\u001b[0m, in \u001b[0;36mQueryJob.result.<locals>.do_get_result\u001b[0;34m()\u001b[0m\n\u001b[1;32m   1486\u001b[0m     \u001b[38;5;28mself\u001b[39m\u001b[38;5;241m.\u001b[39m_retry_do_query \u001b[38;5;241m=\u001b[39m retry_do_query\n\u001b[1;32m   1487\u001b[0m     \u001b[38;5;28mself\u001b[39m\u001b[38;5;241m.\u001b[39m_job_retry \u001b[38;5;241m=\u001b[39m job_retry\n\u001b[0;32m-> 1489\u001b[0m \u001b[38;5;28;43msuper\u001b[39;49m\u001b[43m(\u001b[49m\u001b[43mQueryJob\u001b[49m\u001b[43m,\u001b[49m\u001b[43m \u001b[49m\u001b[38;5;28;43mself\u001b[39;49m\u001b[43m)\u001b[49m\u001b[38;5;241;43m.\u001b[39;49m\u001b[43mresult\u001b[49m\u001b[43m(\u001b[49m\u001b[43mretry\u001b[49m\u001b[38;5;241;43m=\u001b[39;49m\u001b[43mretry\u001b[49m\u001b[43m,\u001b[49m\u001b[43m \u001b[49m\u001b[43mtimeout\u001b[49m\u001b[38;5;241;43m=\u001b[39;49m\u001b[43mtimeout\u001b[49m\u001b[43m)\u001b[49m\n\u001b[1;32m   1491\u001b[0m \u001b[38;5;66;03m# Since the job could already be \"done\" (e.g. got a finished job\u001b[39;00m\n\u001b[1;32m   1492\u001b[0m \u001b[38;5;66;03m# via client.get_job), the superclass call to done() might not\u001b[39;00m\n\u001b[1;32m   1493\u001b[0m \u001b[38;5;66;03m# set the self._query_results cache.\u001b[39;00m\n\u001b[1;32m   1494\u001b[0m \u001b[38;5;28mself\u001b[39m\u001b[38;5;241m.\u001b[39m_reload_query_results(retry\u001b[38;5;241m=\u001b[39mretry, timeout\u001b[38;5;241m=\u001b[39mtimeout)\n",
      "File \u001b[0;32m/opt/homebrew/lib/python3.9/site-packages/google/cloud/bigquery/job/base.py:728\u001b[0m, in \u001b[0;36m_AsyncJob.result\u001b[0;34m(self, retry, timeout)\u001b[0m\n\u001b[1;32m    725\u001b[0m     \u001b[38;5;28mself\u001b[39m\u001b[38;5;241m.\u001b[39m_begin(retry\u001b[38;5;241m=\u001b[39mretry, timeout\u001b[38;5;241m=\u001b[39mtimeout)\n\u001b[1;32m    727\u001b[0m kwargs \u001b[38;5;241m=\u001b[39m {} \u001b[38;5;28;01mif\u001b[39;00m retry \u001b[38;5;129;01mis\u001b[39;00m DEFAULT_RETRY \u001b[38;5;28;01melse\u001b[39;00m {\u001b[38;5;124m\"\u001b[39m\u001b[38;5;124mretry\u001b[39m\u001b[38;5;124m\"\u001b[39m: retry}\n\u001b[0;32m--> 728\u001b[0m \u001b[38;5;28;01mreturn\u001b[39;00m \u001b[38;5;28;43msuper\u001b[39;49m\u001b[43m(\u001b[49m\u001b[43m_AsyncJob\u001b[49m\u001b[43m,\u001b[49m\u001b[43m \u001b[49m\u001b[38;5;28;43mself\u001b[39;49m\u001b[43m)\u001b[49m\u001b[38;5;241;43m.\u001b[39;49m\u001b[43mresult\u001b[49m\u001b[43m(\u001b[49m\u001b[43mtimeout\u001b[49m\u001b[38;5;241;43m=\u001b[39;49m\u001b[43mtimeout\u001b[49m\u001b[43m,\u001b[49m\u001b[43m \u001b[49m\u001b[38;5;241;43m*\u001b[39;49m\u001b[38;5;241;43m*\u001b[39;49m\u001b[43mkwargs\u001b[49m\u001b[43m)\u001b[49m\n",
      "File \u001b[0;32m/opt/homebrew/lib/python3.9/site-packages/google/api_core/future/polling.py:261\u001b[0m, in \u001b[0;36mPollingFuture.result\u001b[0;34m(self, timeout, retry, polling)\u001b[0m\n\u001b[1;32m    256\u001b[0m \u001b[38;5;28mself\u001b[39m\u001b[38;5;241m.\u001b[39m_blocking_poll(timeout\u001b[38;5;241m=\u001b[39mtimeout, retry\u001b[38;5;241m=\u001b[39mretry, polling\u001b[38;5;241m=\u001b[39mpolling)\n\u001b[1;32m    258\u001b[0m \u001b[38;5;28;01mif\u001b[39;00m \u001b[38;5;28mself\u001b[39m\u001b[38;5;241m.\u001b[39m_exception \u001b[38;5;129;01mis\u001b[39;00m \u001b[38;5;129;01mnot\u001b[39;00m \u001b[38;5;28;01mNone\u001b[39;00m:\n\u001b[1;32m    259\u001b[0m     \u001b[38;5;66;03m# pylint: disable=raising-bad-type\u001b[39;00m\n\u001b[1;32m    260\u001b[0m     \u001b[38;5;66;03m# Pylint doesn't recognize that this is valid in this case.\u001b[39;00m\n\u001b[0;32m--> 261\u001b[0m     \u001b[38;5;28;01mraise\u001b[39;00m \u001b[38;5;28mself\u001b[39m\u001b[38;5;241m.\u001b[39m_exception\n\u001b[1;32m    263\u001b[0m \u001b[38;5;28;01mreturn\u001b[39;00m \u001b[38;5;28mself\u001b[39m\u001b[38;5;241m.\u001b[39m_result\n",
      "\u001b[0;31mBadRequest\u001b[0m: 400 Syntax error: Unclosed identifier literal at [4:1]\n\nLocation: US\nJob ID: 1fb9de2c-72da-4bc8-b8f8-5872feb0e6a2\n"
     ]
    }
   ],
   "source": [
    "# QUERY THE DATA ONCE\n",
    "query_job = bigquery_client.query(query)\n",
    "covid19_cases_data = query_job.to_dataframe()\n",
    "#rn that error is expected, they r still tryna fix it"
   ]
  },
  {
   "cell_type": "code",
   "execution_count": 15,
   "id": "18902db8",
   "metadata": {
    "execution": {
     "iopub.execute_input": "2023-05-10T02:49:23.368983Z",
     "iopub.status.busy": "2023-05-10T02:49:23.368865Z",
     "iopub.status.idle": "2023-05-10T02:49:23.370588Z",
     "shell.execute_reply": "2023-05-10T02:49:23.370324Z"
    }
   },
   "outputs": [],
   "source": [
    "query = \"\"\"\n",
    "SELECT *\n",
    "FROM `ironhacks-data.ironhacks_competition.unemployment_data` \n",
    "\"\"\""
   ]
  },
  {
   "cell_type": "code",
   "execution_count": 16,
   "id": "e89e2d99",
   "metadata": {
    "execution": {
     "iopub.execute_input": "2023-05-10T02:49:23.372014Z",
     "iopub.status.busy": "2023-05-10T02:49:23.371909Z",
     "iopub.status.idle": "2023-05-10T02:49:24.644200Z",
     "shell.execute_reply": "2023-05-10T02:49:24.643264Z"
    }
   },
   "outputs": [],
   "source": [
    "# QUERY THE DATA ONCE\n",
    "query_job = bigquery_client.query(query)\n",
    "covid19_cases_data = query_job.to_dataframe()\n",
    "#rn that error is expected, they r still tryna fix it"
   ]
  },
  {
   "cell_type": "code",
   "execution_count": 17,
   "id": "6345ce59",
   "metadata": {
    "execution": {
     "iopub.execute_input": "2023-05-10T02:49:24.648122Z",
     "iopub.status.busy": "2023-05-10T02:49:24.647827Z",
     "iopub.status.idle": "2023-05-10T02:49:24.651044Z",
     "shell.execute_reply": "2023-05-10T02:49:24.650489Z"
    }
   },
   "outputs": [],
   "source": [
    "query = \"\"\"\n",
    "SELECT *\n",
    "FROM `ironhacks-data.ironhacks_competition.wage_data` \n",
    "\"\"\""
   ]
  },
  {
   "cell_type": "code",
   "execution_count": 18,
   "id": "dfe9e98d",
   "metadata": {
    "execution": {
     "iopub.execute_input": "2023-05-10T02:49:24.653909Z",
     "iopub.status.busy": "2023-05-10T02:49:24.653690Z",
     "iopub.status.idle": "2023-05-10T02:49:26.270460Z",
     "shell.execute_reply": "2023-05-10T02:49:26.269401Z"
    }
   },
   "outputs": [
    {
     "data": {
      "text/html": [
       "<div>\n",
       "<style scoped>\n",
       "    .dataframe tbody tr th:only-of-type {\n",
       "        vertical-align: middle;\n",
       "    }\n",
       "\n",
       "    .dataframe tbody tr th {\n",
       "        vertical-align: top;\n",
       "    }\n",
       "\n",
       "    .dataframe thead th {\n",
       "        text-align: right;\n",
       "    }\n",
       "</style>\n",
       "<table border=\"1\" class=\"dataframe\">\n",
       "  <thead>\n",
       "    <tr style=\"text-align: right;\">\n",
       "      <th></th>\n",
       "      <th>uu_id</th>\n",
       "      <th>countyfips</th>\n",
       "      <th>tract</th>\n",
       "      <th>tract_name</th>\n",
       "      <th>average_wage</th>\n",
       "    </tr>\n",
       "  </thead>\n",
       "  <tbody>\n",
       "    <tr>\n",
       "      <th>0</th>\n",
       "      <td>585f8731c2255d6b3f817a31180848b9</td>\n",
       "      <td>18177</td>\n",
       "      <td>200</td>\n",
       "      <td>Census Tract 2, Wayne County, Indiana</td>\n",
       "      <td>6612.000000</td>\n",
       "    </tr>\n",
       "    <tr>\n",
       "      <th>1</th>\n",
       "      <td>8c9d2aa90948679972a9382aadcc6001</td>\n",
       "      <td>18177</td>\n",
       "      <td>900</td>\n",
       "      <td>Census Tract 9, Wayne County, Indiana</td>\n",
       "      <td>9883.250000</td>\n",
       "    </tr>\n",
       "    <tr>\n",
       "      <th>2</th>\n",
       "      <td>0f3d45341a5b113b813ffb7be7f58bab</td>\n",
       "      <td>18183</td>\n",
       "      <td>50300</td>\n",
       "      <td>Census Tract 503, Whitley County, Indiana</td>\n",
       "      <td>13992.250000</td>\n",
       "    </tr>\n",
       "    <tr>\n",
       "      <th>3</th>\n",
       "      <td>fb55464f8e34af6d750d06968bf719b8</td>\n",
       "      <td>18183</td>\n",
       "      <td>50400</td>\n",
       "      <td>Census Tract 504, Whitley County, Indiana</td>\n",
       "      <td>13613.500000</td>\n",
       "    </tr>\n",
       "    <tr>\n",
       "      <th>4</th>\n",
       "      <td>983badfd7b568728e39a2344a9006078</td>\n",
       "      <td>18001</td>\n",
       "      <td>30200</td>\n",
       "      <td>Census Tract 302, Adams County, Indiana</td>\n",
       "      <td>11816.666667</td>\n",
       "    </tr>\n",
       "  </tbody>\n",
       "</table>\n",
       "</div>"
      ],
      "text/plain": [
       "                              uu_id  countyfips  tract  \\\n",
       "0  585f8731c2255d6b3f817a31180848b9       18177    200   \n",
       "1  8c9d2aa90948679972a9382aadcc6001       18177    900   \n",
       "2  0f3d45341a5b113b813ffb7be7f58bab       18183  50300   \n",
       "3  fb55464f8e34af6d750d06968bf719b8       18183  50400   \n",
       "4  983badfd7b568728e39a2344a9006078       18001  30200   \n",
       "\n",
       "                                  tract_name  average_wage  \n",
       "0      Census Tract 2, Wayne County, Indiana   6612.000000  \n",
       "1      Census Tract 9, Wayne County, Indiana   9883.250000  \n",
       "2  Census Tract 503, Whitley County, Indiana  13992.250000  \n",
       "3  Census Tract 504, Whitley County, Indiana  13613.500000  \n",
       "4    Census Tract 302, Adams County, Indiana  11816.666667  "
      ]
     },
     "execution_count": 18,
     "metadata": {},
     "output_type": "execute_result"
    }
   ],
   "source": [
    "# QUERY THE DATA ONCE\n",
    "query_job = bigquery_client.query(query)\n",
    "wage_data = query_job.to_dataframe()\n",
    "wage_data.head(5)"
   ]
  },
  {
   "cell_type": "code",
   "execution_count": 19,
   "id": "983aed88",
   "metadata": {
    "execution": {
     "iopub.execute_input": "2023-05-10T02:49:26.274255Z",
     "iopub.status.busy": "2023-05-10T02:49:26.273913Z",
     "iopub.status.idle": "2023-05-10T02:49:26.278005Z",
     "shell.execute_reply": "2023-05-10T02:49:26.277280Z"
    }
   },
   "outputs": [],
   "source": [
    "query = \"\"\"\n",
    "SELECT *\n",
    "FROM `ironhacks-data.ironhacks_competition.unemployment_data` \n",
    "\"\"\""
   ]
  },
  {
   "cell_type": "code",
   "execution_count": 20,
   "id": "1dd1c7bf",
   "metadata": {
    "execution": {
     "iopub.execute_input": "2023-05-10T02:49:26.281035Z",
     "iopub.status.busy": "2023-05-10T02:49:26.280781Z",
     "iopub.status.idle": "2023-05-10T02:49:27.633914Z",
     "shell.execute_reply": "2023-05-10T02:49:27.633291Z"
    }
   },
   "outputs": [
    {
     "data": {
      "text/html": [
       "<div>\n",
       "<style scoped>\n",
       "    .dataframe tbody tr th:only-of-type {\n",
       "        vertical-align: middle;\n",
       "    }\n",
       "\n",
       "    .dataframe tbody tr th {\n",
       "        vertical-align: top;\n",
       "    }\n",
       "\n",
       "    .dataframe thead th {\n",
       "        text-align: right;\n",
       "    }\n",
       "</style>\n",
       "<table border=\"1\" class=\"dataframe\">\n",
       "  <thead>\n",
       "    <tr style=\"text-align: right;\">\n",
       "      <th></th>\n",
       "      <th>uu_id</th>\n",
       "      <th>timeperiod</th>\n",
       "      <th>week_number</th>\n",
       "      <th>countyfips</th>\n",
       "      <th>tract</th>\n",
       "      <th>tract_name</th>\n",
       "      <th>total_claims</th>\n",
       "      <th>edu_8th_or_less</th>\n",
       "      <th>edu_grades_9_11</th>\n",
       "      <th>edu_hs_grad_equiv</th>\n",
       "      <th>...</th>\n",
       "      <th>gender_female</th>\n",
       "      <th>gender_male</th>\n",
       "      <th>gender_na</th>\n",
       "      <th>race_amerindian</th>\n",
       "      <th>race_asian</th>\n",
       "      <th>race_black</th>\n",
       "      <th>race_noanswer</th>\n",
       "      <th>race_hawaiiannative</th>\n",
       "      <th>race_other</th>\n",
       "      <th>race_white</th>\n",
       "    </tr>\n",
       "  </thead>\n",
       "  <tbody>\n",
       "    <tr>\n",
       "      <th>0</th>\n",
       "      <td>f013068de98db1470bd986137a0c6d23</td>\n",
       "      <td>20220416</td>\n",
       "      <td>16</td>\n",
       "      <td>18003</td>\n",
       "      <td>900</td>\n",
       "      <td>Census Tract 9, Allen County, Indiana</td>\n",
       "      <td>22</td>\n",
       "      <td>0</td>\n",
       "      <td>&lt;NA&gt;</td>\n",
       "      <td>14</td>\n",
       "      <td>...</td>\n",
       "      <td>&lt;NA&gt;</td>\n",
       "      <td>&lt;NA&gt;</td>\n",
       "      <td>0</td>\n",
       "      <td>0</td>\n",
       "      <td>0</td>\n",
       "      <td>11</td>\n",
       "      <td>0</td>\n",
       "      <td>0</td>\n",
       "      <td>&lt;NA&gt;</td>\n",
       "      <td>&lt;NA&gt;</td>\n",
       "    </tr>\n",
       "    <tr>\n",
       "      <th>1</th>\n",
       "      <td>21957d5517323845818d87623589e1ba</td>\n",
       "      <td>20220319</td>\n",
       "      <td>12</td>\n",
       "      <td>18089</td>\n",
       "      <td>10400</td>\n",
       "      <td>Census Tract 104, Lake County, Indiana</td>\n",
       "      <td>111</td>\n",
       "      <td>0</td>\n",
       "      <td>&lt;NA&gt;</td>\n",
       "      <td>108</td>\n",
       "      <td>...</td>\n",
       "      <td>76</td>\n",
       "      <td>35</td>\n",
       "      <td>0</td>\n",
       "      <td>0</td>\n",
       "      <td>0</td>\n",
       "      <td>&lt;NA&gt;</td>\n",
       "      <td>&lt;NA&gt;</td>\n",
       "      <td>0</td>\n",
       "      <td>0</td>\n",
       "      <td>0</td>\n",
       "    </tr>\n",
       "    <tr>\n",
       "      <th>2</th>\n",
       "      <td>6a5609f385912113b6f1014b958ed748</td>\n",
       "      <td>20220326</td>\n",
       "      <td>13</td>\n",
       "      <td>18089</td>\n",
       "      <td>11500</td>\n",
       "      <td>Census Tract 115, Lake County, Indiana</td>\n",
       "      <td>39</td>\n",
       "      <td>0</td>\n",
       "      <td>&lt;NA&gt;</td>\n",
       "      <td>&lt;NA&gt;</td>\n",
       "      <td>...</td>\n",
       "      <td>&lt;NA&gt;</td>\n",
       "      <td>&lt;NA&gt;</td>\n",
       "      <td>0</td>\n",
       "      <td>0</td>\n",
       "      <td>0</td>\n",
       "      <td>39</td>\n",
       "      <td>0</td>\n",
       "      <td>0</td>\n",
       "      <td>0</td>\n",
       "      <td>0</td>\n",
       "    </tr>\n",
       "    <tr>\n",
       "      <th>3</th>\n",
       "      <td>46b2882ec4c373527ec33f7bd4f1388d</td>\n",
       "      <td>20220716</td>\n",
       "      <td>29</td>\n",
       "      <td>18089</td>\n",
       "      <td>20700</td>\n",
       "      <td>Census Tract 207, Lake County, Indiana</td>\n",
       "      <td>14</td>\n",
       "      <td>0</td>\n",
       "      <td>&lt;NA&gt;</td>\n",
       "      <td>&lt;NA&gt;</td>\n",
       "      <td>...</td>\n",
       "      <td>&lt;NA&gt;</td>\n",
       "      <td>&lt;NA&gt;</td>\n",
       "      <td>0</td>\n",
       "      <td>0</td>\n",
       "      <td>&lt;NA&gt;</td>\n",
       "      <td>10</td>\n",
       "      <td>0</td>\n",
       "      <td>0</td>\n",
       "      <td>&lt;NA&gt;</td>\n",
       "      <td>&lt;NA&gt;</td>\n",
       "    </tr>\n",
       "    <tr>\n",
       "      <th>4</th>\n",
       "      <td>37495d17e82f7df326bfc2c4c090f7b7</td>\n",
       "      <td>20220409</td>\n",
       "      <td>15</td>\n",
       "      <td>18089</td>\n",
       "      <td>21900</td>\n",
       "      <td>Census Tract 219, Lake County, Indiana</td>\n",
       "      <td>155</td>\n",
       "      <td>0</td>\n",
       "      <td>&lt;NA&gt;</td>\n",
       "      <td>69</td>\n",
       "      <td>...</td>\n",
       "      <td>90</td>\n",
       "      <td>65</td>\n",
       "      <td>0</td>\n",
       "      <td>0</td>\n",
       "      <td>0</td>\n",
       "      <td>135</td>\n",
       "      <td>&lt;NA&gt;</td>\n",
       "      <td>&lt;NA&gt;</td>\n",
       "      <td>&lt;NA&gt;</td>\n",
       "      <td>&lt;NA&gt;</td>\n",
       "    </tr>\n",
       "  </tbody>\n",
       "</table>\n",
       "<p>5 rows × 25 columns</p>\n",
       "</div>"
      ],
      "text/plain": [
       "                              uu_id  timeperiod  week_number  countyfips  \\\n",
       "0  f013068de98db1470bd986137a0c6d23    20220416           16       18003   \n",
       "1  21957d5517323845818d87623589e1ba    20220319           12       18089   \n",
       "2  6a5609f385912113b6f1014b958ed748    20220326           13       18089   \n",
       "3  46b2882ec4c373527ec33f7bd4f1388d    20220716           29       18089   \n",
       "4  37495d17e82f7df326bfc2c4c090f7b7    20220409           15       18089   \n",
       "\n",
       "   tract                              tract_name  total_claims  \\\n",
       "0    900   Census Tract 9, Allen County, Indiana            22   \n",
       "1  10400  Census Tract 104, Lake County, Indiana           111   \n",
       "2  11500  Census Tract 115, Lake County, Indiana            39   \n",
       "3  20700  Census Tract 207, Lake County, Indiana            14   \n",
       "4  21900  Census Tract 219, Lake County, Indiana           155   \n",
       "\n",
       "   edu_8th_or_less  edu_grades_9_11  edu_hs_grad_equiv  ...  gender_female  \\\n",
       "0                0             <NA>                 14  ...           <NA>   \n",
       "1                0             <NA>                108  ...             76   \n",
       "2                0             <NA>               <NA>  ...           <NA>   \n",
       "3                0             <NA>               <NA>  ...           <NA>   \n",
       "4                0             <NA>                 69  ...             90   \n",
       "\n",
       "   gender_male gender_na race_amerindian race_asian  race_black  \\\n",
       "0         <NA>         0               0          0          11   \n",
       "1           35         0               0          0        <NA>   \n",
       "2         <NA>         0               0          0          39   \n",
       "3         <NA>         0               0       <NA>          10   \n",
       "4           65         0               0          0         135   \n",
       "\n",
       "   race_noanswer  race_hawaiiannative  race_other  race_white  \n",
       "0              0                    0        <NA>        <NA>  \n",
       "1           <NA>                    0           0           0  \n",
       "2              0                    0           0           0  \n",
       "3              0                    0        <NA>        <NA>  \n",
       "4           <NA>                 <NA>        <NA>        <NA>  \n",
       "\n",
       "[5 rows x 25 columns]"
      ]
     },
     "execution_count": 20,
     "metadata": {},
     "output_type": "execute_result"
    }
   ],
   "source": [
    "# QUERY THE DATA ONCE\n",
    "query_job = bigquery_client.query(query)\n",
    "unemployment_data = query_job.to_dataframe()\n",
    "unemployment_data.head(5)"
   ]
  },
  {
   "cell_type": "code",
   "execution_count": 21,
   "id": "15506e13",
   "metadata": {
    "execution": {
     "iopub.execute_input": "2023-05-10T02:49:27.637267Z",
     "iopub.status.busy": "2023-05-10T02:49:27.636977Z",
     "iopub.status.idle": "2023-05-10T02:49:27.639906Z",
     "shell.execute_reply": "2023-05-10T02:49:27.639473Z"
    }
   },
   "outputs": [],
   "source": [
    "query = \"\"\"\n",
    "SELECT *\n",
    "FROM `ironhacks-data.ironhacks_competition.unemployment_data` \n",
    "\"\"\""
   ]
  },
  {
   "cell_type": "code",
   "execution_count": 22,
   "id": "7a81925c",
   "metadata": {
    "execution": {
     "iopub.execute_input": "2023-05-10T02:49:27.642378Z",
     "iopub.status.busy": "2023-05-10T02:49:27.642156Z",
     "iopub.status.idle": "2023-05-10T02:49:29.098664Z",
     "shell.execute_reply": "2023-05-10T02:49:29.097983Z"
    }
   },
   "outputs": [
    {
     "ename": "TypeError",
     "evalue": "'Index' object is not callable",
     "output_type": "error",
     "traceback": [
      "\u001b[0;31m---------------------------------------------------------------------------\u001b[0m",
      "\u001b[0;31mTypeError\u001b[0m                                 Traceback (most recent call last)",
      "Cell \u001b[0;32mIn [22], line 5\u001b[0m\n\u001b[1;32m      3\u001b[0m unemployment_data \u001b[38;5;241m=\u001b[39m query_job\u001b[38;5;241m.\u001b[39mto_dataframe()\n\u001b[1;32m      4\u001b[0m \u001b[38;5;66;03m#unemployment_data.head(5)\u001b[39;00m\n\u001b[0;32m----> 5\u001b[0m \u001b[43munemployment_data\u001b[49m\u001b[38;5;241;43m.\u001b[39;49m\u001b[43mcolumns\u001b[49m\u001b[43m(\u001b[49m\u001b[43m)\u001b[49m\n",
      "\u001b[0;31mTypeError\u001b[0m: 'Index' object is not callable"
     ]
    }
   ],
   "source": [
    "# QUERY THE DATA ONCE\n",
    "query_job = bigquery_client.query(query)\n",
    "unemployment_data = query_job.to_dataframe()\n",
    "#unemployment_data.head(5)\n",
    "unemployment_data.columns()"
   ]
  },
  {
   "cell_type": "code",
   "execution_count": 23,
   "id": "25f0ce82",
   "metadata": {
    "execution": {
     "iopub.execute_input": "2023-05-10T02:49:29.101964Z",
     "iopub.status.busy": "2023-05-10T02:49:29.101507Z",
     "iopub.status.idle": "2023-05-10T02:49:29.104645Z",
     "shell.execute_reply": "2023-05-10T02:49:29.104134Z"
    }
   },
   "outputs": [],
   "source": [
    "query = \"\"\"\n",
    "SELECT *\n",
    "FROM `ironhacks-data.ironhacks_competition.unemployment_data` \n",
    "\"\"\""
   ]
  },
  {
   "cell_type": "code",
   "execution_count": 24,
   "id": "057f9a63",
   "metadata": {
    "execution": {
     "iopub.execute_input": "2023-05-10T02:49:29.108161Z",
     "iopub.status.busy": "2023-05-10T02:49:29.107882Z",
     "iopub.status.idle": "2023-05-10T02:49:30.464159Z",
     "shell.execute_reply": "2023-05-10T02:49:30.463023Z"
    }
   },
   "outputs": [
    {
     "data": {
      "text/plain": [
       "Index(['uu_id', 'timeperiod', 'week_number', 'countyfips', 'tract',\n",
       "       'tract_name', 'total_claims', 'edu_8th_or_less', 'edu_grades_9_11',\n",
       "       'edu_hs_grad_equiv', 'edu_post_hs', 'edu_unknown',\n",
       "       'top_category_employer1', 'top_category_employer2',\n",
       "       'top_category_employer3', 'gender_female', 'gender_male', 'gender_na',\n",
       "       'race_amerindian', 'race_asian', 'race_black', 'race_noanswer',\n",
       "       'race_hawaiiannative', 'race_other', 'race_white'],\n",
       "      dtype='object')"
      ]
     },
     "execution_count": 24,
     "metadata": {},
     "output_type": "execute_result"
    }
   ],
   "source": [
    "# QUERY THE DATA ONCE\n",
    "query_job = bigquery_client.query(query)\n",
    "unemployment_data = query_job.to_dataframe()\n",
    "#unemployment_data.head(5)\n",
    "unemployment_data.columns"
   ]
  },
  {
   "cell_type": "code",
   "execution_count": 25,
   "id": "64223eaa",
   "metadata": {
    "execution": {
     "iopub.execute_input": "2023-05-10T02:49:30.468306Z",
     "iopub.status.busy": "2023-05-10T02:49:30.467978Z",
     "iopub.status.idle": "2023-05-10T02:49:30.471693Z",
     "shell.execute_reply": "2023-05-10T02:49:30.471051Z"
    }
   },
   "outputs": [],
   "source": [
    "query = \"\"\"\n",
    "SELECT *\n",
    "FROM `ironhacks-data.ironhacks_competition.unemployment_data` \n",
    "\"\"\""
   ]
  },
  {
   "cell_type": "code",
   "execution_count": 26,
   "id": "40f41346",
   "metadata": {
    "execution": {
     "iopub.execute_input": "2023-05-10T02:49:30.474834Z",
     "iopub.status.busy": "2023-05-10T02:49:30.474577Z",
     "iopub.status.idle": "2023-05-10T02:49:31.783988Z",
     "shell.execute_reply": "2023-05-10T02:49:31.783318Z"
    }
   },
   "outputs": [
    {
     "name": "stdout",
     "output_type": "stream",
     "text": [
      "Index(['uu_id', 'timeperiod', 'week_number', 'countyfips', 'tract',\n",
      "       'tract_name', 'total_claims', 'edu_8th_or_less', 'edu_grades_9_11',\n",
      "       'edu_hs_grad_equiv', 'edu_post_hs', 'edu_unknown',\n",
      "       'top_category_employer1', 'top_category_employer2',\n",
      "       'top_category_employer3', 'gender_female', 'gender_male', 'gender_na',\n",
      "       'race_amerindian', 'race_asian', 'race_black', 'race_noanswer',\n",
      "       'race_hawaiiannative', 'race_other', 'race_white'],\n",
      "      dtype='object')\n"
     ]
    }
   ],
   "source": [
    "# QUERY THE DATA ONCE\n",
    "query_job = bigquery_client.query(query)\n",
    "unemployment_data = query_job.to_dataframe()\n",
    "#unemployment_data.head(5)\n",
    "print(unemployment_data.columns)"
   ]
  },
  {
   "cell_type": "code",
   "execution_count": 27,
   "id": "93825b62",
   "metadata": {
    "execution": {
     "iopub.execute_input": "2023-05-10T02:49:31.787278Z",
     "iopub.status.busy": "2023-05-10T02:49:31.787090Z",
     "iopub.status.idle": "2023-05-10T02:49:31.789279Z",
     "shell.execute_reply": "2023-05-10T02:49:31.788929Z"
    }
   },
   "outputs": [],
   "source": [
    "query = \"\"\"\n",
    "SELECT *\n",
    "FROM `ironhacks-data.ironhacks_competition.wage_data` \n",
    "\"\"\""
   ]
  },
  {
   "cell_type": "code",
   "execution_count": 28,
   "id": "a795247d",
   "metadata": {
    "execution": {
     "iopub.execute_input": "2023-05-10T02:49:31.791128Z",
     "iopub.status.busy": "2023-05-10T02:49:31.790992Z",
     "iopub.status.idle": "2023-05-10T02:49:32.995753Z",
     "shell.execute_reply": "2023-05-10T02:49:32.994717Z"
    }
   },
   "outputs": [
    {
     "name": "stdout",
     "output_type": "stream",
     "text": [
      "Index(['uu_id', 'countyfips', 'tract', 'tract_name', 'average_wage'], dtype='object')\n"
     ]
    }
   ],
   "source": [
    "# QUERY THE DATA ONCE\n",
    "query_job = bigquery_client.query(query)\n",
    "wage_data = query_job.to_dataframe()\n",
    "#wage_data.head(5)\n",
    "print(wage_data.columns)"
   ]
  },
  {
   "cell_type": "code",
   "execution_count": 29,
   "id": "783f466c",
   "metadata": {
    "execution": {
     "iopub.execute_input": "2023-05-10T02:49:32.999637Z",
     "iopub.status.busy": "2023-05-10T02:49:32.999279Z",
     "iopub.status.idle": "2023-05-10T02:49:33.002939Z",
     "shell.execute_reply": "2023-05-10T02:49:33.002241Z"
    }
   },
   "outputs": [],
   "source": [
    "query = \"\"\"\n",
    "SELECT *\n",
    "FROM `ironhacks-data.ironhacks_competition.prediction_list`\n",
    "\"\"\""
   ]
  },
  {
   "cell_type": "code",
   "execution_count": 30,
   "id": "e8ca88f3",
   "metadata": {
    "execution": {
     "iopub.execute_input": "2023-05-10T02:49:33.006648Z",
     "iopub.status.busy": "2023-05-10T02:49:33.006293Z",
     "iopub.status.idle": "2023-05-10T02:49:34.389570Z",
     "shell.execute_reply": "2023-05-10T02:49:34.388945Z"
    }
   },
   "outputs": [
    {
     "name": "stdout",
     "output_type": "stream",
     "text": [
      "Index(['uu_id', 'week_number'], dtype='object')\n"
     ]
    }
   ],
   "source": [
    "# QUERY THE DATA ONCE\n",
    "query_job = bigquery_client.query(query)\n",
    "prediction_data = query_job.to_dataframe()\n",
    "#wage_data.head(5)\n",
    "print(prediction_data.columns)"
   ]
  },
  {
   "cell_type": "code",
   "execution_count": 31,
   "id": "717a857d",
   "metadata": {
    "execution": {
     "iopub.execute_input": "2023-05-10T02:49:34.392959Z",
     "iopub.status.busy": "2023-05-10T02:49:34.392645Z",
     "iopub.status.idle": "2023-05-10T02:49:34.396260Z",
     "shell.execute_reply": "2023-05-10T02:49:34.395431Z"
    }
   },
   "outputs": [],
   "source": [
    "query = \"\"\"\n",
    "SELECT *\n",
    "FROM `ironhacks-data.ironhacks_competition.prediction_list`\n",
    "\"\"\""
   ]
  },
  {
   "cell_type": "code",
   "execution_count": 32,
   "id": "b66473ac",
   "metadata": {
    "execution": {
     "iopub.execute_input": "2023-05-10T02:49:34.399924Z",
     "iopub.status.busy": "2023-05-10T02:49:34.399590Z",
     "iopub.status.idle": "2023-05-10T02:49:35.802263Z",
     "shell.execute_reply": "2023-05-10T02:49:35.801160Z"
    }
   },
   "outputs": [
    {
     "name": "stdout",
     "output_type": "stream",
     "text": [
      "Index(['uu_id', 'week_number'], dtype='object')\n"
     ]
    }
   ],
   "source": [
    "# QUERY THE DATA ONCE\n",
    "query_job = bigquery_client.query(query)\n",
    "prediction_data = query_job.to_dataframe()\n",
    "print(prediction_data.columns)"
   ]
  },
  {
   "cell_type": "code",
   "execution_count": 33,
   "id": "7b71ae32",
   "metadata": {
    "execution": {
     "iopub.execute_input": "2023-05-10T02:49:35.807455Z",
     "iopub.status.busy": "2023-05-10T02:49:35.806663Z",
     "iopub.status.idle": "2023-05-10T02:49:35.816585Z",
     "shell.execute_reply": "2023-05-10T02:49:35.815866Z"
    }
   },
   "outputs": [
    {
     "data": {
      "text/html": [
       "<div>\n",
       "<style scoped>\n",
       "    .dataframe tbody tr th:only-of-type {\n",
       "        vertical-align: middle;\n",
       "    }\n",
       "\n",
       "    .dataframe tbody tr th {\n",
       "        vertical-align: top;\n",
       "    }\n",
       "\n",
       "    .dataframe thead th {\n",
       "        text-align: right;\n",
       "    }\n",
       "</style>\n",
       "<table border=\"1\" class=\"dataframe\">\n",
       "  <thead>\n",
       "    <tr style=\"text-align: right;\">\n",
       "      <th></th>\n",
       "      <th>uu_id</th>\n",
       "      <th>week_number</th>\n",
       "    </tr>\n",
       "  </thead>\n",
       "  <tbody>\n",
       "    <tr>\n",
       "      <th>0</th>\n",
       "      <td>5bf51fc2e162d6faf9e3cf79e4198378</td>\n",
       "      <td>44</td>\n",
       "    </tr>\n",
       "    <tr>\n",
       "      <th>1</th>\n",
       "      <td>420b44cc7e3f55d738df565421e59941</td>\n",
       "      <td>44</td>\n",
       "    </tr>\n",
       "    <tr>\n",
       "      <th>2</th>\n",
       "      <td>e39c66ecceec76ee8f9f811fa4a2d246</td>\n",
       "      <td>44</td>\n",
       "    </tr>\n",
       "    <tr>\n",
       "      <th>3</th>\n",
       "      <td>a90462cd11ae4e43144239bf7c4828a4</td>\n",
       "      <td>44</td>\n",
       "    </tr>\n",
       "    <tr>\n",
       "      <th>4</th>\n",
       "      <td>8b20a6749088c7ff1237983076ebfeaa</td>\n",
       "      <td>44</td>\n",
       "    </tr>\n",
       "  </tbody>\n",
       "</table>\n",
       "</div>"
      ],
      "text/plain": [
       "                              uu_id  week_number\n",
       "0  5bf51fc2e162d6faf9e3cf79e4198378           44\n",
       "1  420b44cc7e3f55d738df565421e59941           44\n",
       "2  e39c66ecceec76ee8f9f811fa4a2d246           44\n",
       "3  a90462cd11ae4e43144239bf7c4828a4           44\n",
       "4  8b20a6749088c7ff1237983076ebfeaa           44"
      ]
     },
     "execution_count": 33,
     "metadata": {},
     "output_type": "execute_result"
    }
   ],
   "source": [
    "prediction_data.head(5)"
   ]
  },
  {
   "cell_type": "code",
   "execution_count": 34,
   "id": "2a8e9c32",
   "metadata": {
    "execution": {
     "iopub.execute_input": "2023-05-10T02:49:35.819140Z",
     "iopub.status.busy": "2023-05-10T02:49:35.818923Z",
     "iopub.status.idle": "2023-05-10T02:49:35.821527Z",
     "shell.execute_reply": "2023-05-10T02:49:35.821103Z"
    }
   },
   "outputs": [],
   "source": [
    "query = \"\"\"\n",
    "SELECT * \n",
    "FROM `ironhacks-data.ironhacks_competition.INFORMATION_SCHEMA.TABLES`\n",
    "\"\"\""
   ]
  },
  {
   "cell_type": "code",
   "execution_count": 35,
   "id": "c0025a51",
   "metadata": {
    "execution": {
     "iopub.execute_input": "2023-05-10T02:49:35.824080Z",
     "iopub.status.busy": "2023-05-10T02:49:35.823823Z",
     "iopub.status.idle": "2023-05-10T02:49:37.393854Z",
     "shell.execute_reply": "2023-05-10T02:49:37.392863Z"
    }
   },
   "outputs": [
    {
     "name": "stdout",
     "output_type": "stream",
     "text": [
      "Index(['table_catalog', 'table_schema', 'table_name', 'table_type',\n",
      "       'is_insertable_into', 'is_typed', 'creation_time', 'base_table_catalog',\n",
      "       'base_table_schema', 'base_table_name', 'snapshot_time_ms', 'ddl',\n",
      "       'default_collation_name', 'upsert_stream_apply_watermark'],\n",
      "      dtype='object')\n"
     ]
    }
   ],
   "source": [
    "# QUERY THE DATA ONCE\n",
    "query_job = bigquery_client.query(query)\n",
    "table_data = query_job.to_dataframe()\n",
    "print(table_data.columns)"
   ]
  },
  {
   "cell_type": "code",
   "execution_count": 36,
   "id": "b4783199",
   "metadata": {
    "execution": {
     "iopub.execute_input": "2023-05-10T02:49:37.398265Z",
     "iopub.status.busy": "2023-05-10T02:49:37.397985Z",
     "iopub.status.idle": "2023-05-10T02:49:37.411235Z",
     "shell.execute_reply": "2023-05-10T02:49:37.410859Z"
    }
   },
   "outputs": [
    {
     "data": {
      "text/html": [
       "<div>\n",
       "<style scoped>\n",
       "    .dataframe tbody tr th:only-of-type {\n",
       "        vertical-align: middle;\n",
       "    }\n",
       "\n",
       "    .dataframe tbody tr th {\n",
       "        vertical-align: top;\n",
       "    }\n",
       "\n",
       "    .dataframe thead th {\n",
       "        text-align: right;\n",
       "    }\n",
       "</style>\n",
       "<table border=\"1\" class=\"dataframe\">\n",
       "  <thead>\n",
       "    <tr style=\"text-align: right;\">\n",
       "      <th></th>\n",
       "      <th>table_catalog</th>\n",
       "      <th>table_schema</th>\n",
       "      <th>table_name</th>\n",
       "      <th>table_type</th>\n",
       "      <th>is_insertable_into</th>\n",
       "      <th>is_typed</th>\n",
       "      <th>creation_time</th>\n",
       "      <th>base_table_catalog</th>\n",
       "      <th>base_table_schema</th>\n",
       "      <th>base_table_name</th>\n",
       "      <th>snapshot_time_ms</th>\n",
       "      <th>ddl</th>\n",
       "      <th>default_collation_name</th>\n",
       "      <th>upsert_stream_apply_watermark</th>\n",
       "    </tr>\n",
       "  </thead>\n",
       "  <tbody>\n",
       "    <tr>\n",
       "      <th>0</th>\n",
       "      <td>ironhacks-data</td>\n",
       "      <td>ironhacks_competition</td>\n",
       "      <td>wage_data</td>\n",
       "      <td>BASE TABLE</td>\n",
       "      <td>YES</td>\n",
       "      <td>NO</td>\n",
       "      <td>2022-11-29 17:00:10.578000+00:00</td>\n",
       "      <td>None</td>\n",
       "      <td>None</td>\n",
       "      <td>None</td>\n",
       "      <td>NaT</td>\n",
       "      <td>CREATE TABLE `ironhacks-data.ironhacks_competi...</td>\n",
       "      <td>NULL</td>\n",
       "      <td>NaT</td>\n",
       "    </tr>\n",
       "    <tr>\n",
       "      <th>1</th>\n",
       "      <td>ironhacks-data</td>\n",
       "      <td>ironhacks_competition</td>\n",
       "      <td>prediction_list</td>\n",
       "      <td>BASE TABLE</td>\n",
       "      <td>YES</td>\n",
       "      <td>NO</td>\n",
       "      <td>2022-11-29 17:00:10.722000+00:00</td>\n",
       "      <td>None</td>\n",
       "      <td>None</td>\n",
       "      <td>None</td>\n",
       "      <td>NaT</td>\n",
       "      <td>CREATE TABLE `ironhacks-data.ironhacks_competi...</td>\n",
       "      <td>NULL</td>\n",
       "      <td>NaT</td>\n",
       "    </tr>\n",
       "    <tr>\n",
       "      <th>2</th>\n",
       "      <td>ironhacks-data</td>\n",
       "      <td>ironhacks_competition</td>\n",
       "      <td>unemployment_data</td>\n",
       "      <td>BASE TABLE</td>\n",
       "      <td>YES</td>\n",
       "      <td>NO</td>\n",
       "      <td>2022-11-29 17:00:14.588000+00:00</td>\n",
       "      <td>None</td>\n",
       "      <td>None</td>\n",
       "      <td>None</td>\n",
       "      <td>NaT</td>\n",
       "      <td>CREATE TABLE `ironhacks-data.ironhacks_competi...</td>\n",
       "      <td>NULL</td>\n",
       "      <td>NaT</td>\n",
       "    </tr>\n",
       "  </tbody>\n",
       "</table>\n",
       "</div>"
      ],
      "text/plain": [
       "    table_catalog           table_schema         table_name  table_type  \\\n",
       "0  ironhacks-data  ironhacks_competition          wage_data  BASE TABLE   \n",
       "1  ironhacks-data  ironhacks_competition    prediction_list  BASE TABLE   \n",
       "2  ironhacks-data  ironhacks_competition  unemployment_data  BASE TABLE   \n",
       "\n",
       "  is_insertable_into is_typed                    creation_time  \\\n",
       "0                YES       NO 2022-11-29 17:00:10.578000+00:00   \n",
       "1                YES       NO 2022-11-29 17:00:10.722000+00:00   \n",
       "2                YES       NO 2022-11-29 17:00:14.588000+00:00   \n",
       "\n",
       "  base_table_catalog base_table_schema base_table_name snapshot_time_ms  \\\n",
       "0               None              None            None              NaT   \n",
       "1               None              None            None              NaT   \n",
       "2               None              None            None              NaT   \n",
       "\n",
       "                                                 ddl default_collation_name  \\\n",
       "0  CREATE TABLE `ironhacks-data.ironhacks_competi...                   NULL   \n",
       "1  CREATE TABLE `ironhacks-data.ironhacks_competi...                   NULL   \n",
       "2  CREATE TABLE `ironhacks-data.ironhacks_competi...                   NULL   \n",
       "\n",
       "  upsert_stream_apply_watermark  \n",
       "0                           NaT  \n",
       "1                           NaT  \n",
       "2                           NaT  "
      ]
     },
     "execution_count": 36,
     "metadata": {},
     "output_type": "execute_result"
    }
   ],
   "source": [
    "table_data.head(5)"
   ]
  },
  {
   "cell_type": "code",
   "execution_count": 37,
   "id": "688680bf",
   "metadata": {
    "execution": {
     "iopub.execute_input": "2023-05-10T02:49:37.413448Z",
     "iopub.status.busy": "2023-05-10T02:49:37.413258Z",
     "iopub.status.idle": "2023-05-10T02:49:37.415957Z",
     "shell.execute_reply": "2023-05-10T02:49:37.415626Z"
    }
   },
   "outputs": [
    {
     "ename": "SyntaxError",
     "evalue": "invalid syntax (1030939068.py, line 1)",
     "output_type": "error",
     "traceback": [
      "\u001b[0;36m  Cell \u001b[0;32mIn [37], line 1\u001b[0;36m\u001b[0m\n\u001b[0;31m    pip install google-cloud-bigquery\u001b[0m\n\u001b[0m        ^\u001b[0m\n\u001b[0;31mSyntaxError\u001b[0m\u001b[0;31m:\u001b[0m invalid syntax\n"
     ]
    }
   ],
   "source": [
    "pip install google-cloud-bigquery\n",
    "get_ipython().system('pip install google-cloud-bigquery[pandas]')"
   ]
  },
  {
   "cell_type": "code",
   "execution_count": 38,
   "id": "36efeef4",
   "metadata": {
    "execution": {
     "iopub.execute_input": "2023-05-10T02:49:37.417840Z",
     "iopub.status.busy": "2023-05-10T02:49:37.417676Z",
     "iopub.status.idle": "2023-05-10T02:49:40.787378Z",
     "shell.execute_reply": "2023-05-10T02:49:40.786768Z"
    }
   },
   "outputs": [
    {
     "name": "stdout",
     "output_type": "stream",
     "text": [
      "\u001b[33mWARNING: Ignoring invalid distribution -umpy (/opt/anaconda3/lib/python3.9/site-packages)\u001b[0m\r\n",
      "\u001b[33mWARNING: Ignoring invalid distribution -umpy (/opt/anaconda3/lib/python3.9/site-packages)\u001b[0m\r\n",
      "Requirement already satisfied: google-cloud-bigquery in /opt/anaconda3/lib/python3.9/site-packages (3.4.1)\r\n"
     ]
    },
    {
     "name": "stdout",
     "output_type": "stream",
     "text": [
      "Requirement already satisfied: proto-plus<2.0.0dev,>=1.15.0 in /opt/anaconda3/lib/python3.9/site-packages (from google-cloud-bigquery) (1.22.2)\r\n",
      "Requirement already satisfied: google-resumable-media<3.0dev,>=0.6.0 in /opt/anaconda3/lib/python3.9/site-packages (from google-cloud-bigquery) (2.4.0)\r\n",
      "Requirement already satisfied: packaging<22.0.0dev,>=14.3 in /opt/anaconda3/lib/python3.9/site-packages (from google-cloud-bigquery) (21.3)\r\n",
      "Requirement already satisfied: python-dateutil<3.0dev,>=2.7.2 in /opt/anaconda3/lib/python3.9/site-packages (from google-cloud-bigquery) (2.8.2)\r\n",
      "Requirement already satisfied: google-cloud-core<3.0.0dev,>=1.4.1 in /opt/anaconda3/lib/python3.9/site-packages (from google-cloud-bigquery) (2.3.2)\r\n",
      "Requirement already satisfied: protobuf!=3.20.0,!=3.20.1,!=4.21.0,!=4.21.1,!=4.21.2,!=4.21.3,!=4.21.4,!=4.21.5,<5.0.0dev,>=3.19.5 in /opt/anaconda3/lib/python3.9/site-packages (from google-cloud-bigquery) (4.21.12)\r\n",
      "Requirement already satisfied: grpcio<2.0dev,>=1.47.0 in /opt/anaconda3/lib/python3.9/site-packages (from google-cloud-bigquery) (1.54.0)\r\n",
      "Requirement already satisfied: google-api-core[grpc]!=2.0.*,!=2.1.*,!=2.2.*,!=2.3.0,<3.0.0dev,>=1.31.5 in /opt/anaconda3/lib/python3.9/site-packages (from google-cloud-bigquery) (2.11.0)\r\n",
      "Requirement already satisfied: requests<3.0.0dev,>=2.21.0 in /opt/anaconda3/lib/python3.9/site-packages (from google-cloud-bigquery) (2.30.0)\r\n",
      "Requirement already satisfied: google-auth<3.0dev,>=2.14.1 in /opt/anaconda3/lib/python3.9/site-packages (from google-api-core[grpc]!=2.0.*,!=2.1.*,!=2.2.*,!=2.3.0,<3.0.0dev,>=1.31.5->google-cloud-bigquery) (2.16.0)\r\n",
      "Requirement already satisfied: googleapis-common-protos<2.0dev,>=1.56.2 in /opt/anaconda3/lib/python3.9/site-packages (from google-api-core[grpc]!=2.0.*,!=2.1.*,!=2.2.*,!=2.3.0,<3.0.0dev,>=1.31.5->google-cloud-bigquery) (1.58.0)\r\n",
      "Requirement already satisfied: grpcio-status<2.0dev,>=1.33.2 in /opt/anaconda3/lib/python3.9/site-packages (from google-api-core[grpc]!=2.0.*,!=2.1.*,!=2.2.*,!=2.3.0,<3.0.0dev,>=1.31.5->google-cloud-bigquery) (1.51.1)\r\n"
     ]
    },
    {
     "name": "stdout",
     "output_type": "stream",
     "text": [
      "Requirement already satisfied: pyasn1-modules>=0.2.1 in /opt/anaconda3/lib/python3.9/site-packages (from google-auth<3.0dev,>=2.14.1->google-api-core[grpc]!=2.0.*,!=2.1.*,!=2.2.*,!=2.3.0,<3.0.0dev,>=1.31.5->google-cloud-bigquery) (0.2.8)\r\n",
      "Requirement already satisfied: cachetools<6.0,>=2.0.0 in /opt/anaconda3/lib/python3.9/site-packages (from google-auth<3.0dev,>=2.14.1->google-api-core[grpc]!=2.0.*,!=2.1.*,!=2.2.*,!=2.3.0,<3.0.0dev,>=1.31.5->google-cloud-bigquery) (5.2.1)\r\n",
      "Requirement already satisfied: six>=1.9.0 in /opt/anaconda3/lib/python3.9/site-packages (from google-auth<3.0dev,>=2.14.1->google-api-core[grpc]!=2.0.*,!=2.1.*,!=2.2.*,!=2.3.0,<3.0.0dev,>=1.31.5->google-cloud-bigquery) (1.16.0)\r\n",
      "Requirement already satisfied: rsa<5,>=3.1.4 in /opt/anaconda3/lib/python3.9/site-packages (from google-auth<3.0dev,>=2.14.1->google-api-core[grpc]!=2.0.*,!=2.1.*,!=2.2.*,!=2.3.0,<3.0.0dev,>=1.31.5->google-cloud-bigquery) (4.9)\r\n",
      "Requirement already satisfied: google-crc32c<2.0dev,>=1.0 in /opt/anaconda3/lib/python3.9/site-packages (from google-resumable-media<3.0dev,>=0.6.0->google-cloud-bigquery) (1.5.0)\r\n",
      "Requirement already satisfied: pyparsing!=3.0.5,>=2.0.2 in /opt/anaconda3/lib/python3.9/site-packages (from packaging<22.0.0dev,>=14.3->google-cloud-bigquery) (3.0.4)\r\n",
      "Requirement already satisfied: pyasn1<0.5.0,>=0.4.6 in /opt/anaconda3/lib/python3.9/site-packages (from pyasn1-modules>=0.2.1->google-auth<3.0dev,>=2.14.1->google-api-core[grpc]!=2.0.*,!=2.1.*,!=2.2.*,!=2.3.0,<3.0.0dev,>=1.31.5->google-cloud-bigquery) (0.4.8)\r\n"
     ]
    },
    {
     "name": "stdout",
     "output_type": "stream",
     "text": [
      "Requirement already satisfied: charset-normalizer<4,>=2 in /opt/anaconda3/lib/python3.9/site-packages (from requests<3.0.0dev,>=2.21.0->google-cloud-bigquery) (2.0.4)\r\n",
      "Requirement already satisfied: idna<4,>=2.5 in /opt/anaconda3/lib/python3.9/site-packages (from requests<3.0.0dev,>=2.21.0->google-cloud-bigquery) (3.2)\r\n",
      "Requirement already satisfied: urllib3<3,>=1.21.1 in /opt/anaconda3/lib/python3.9/site-packages (from requests<3.0.0dev,>=2.21.0->google-cloud-bigquery) (1.26.7)\r\n",
      "Requirement already satisfied: certifi>=2017.4.17 in /opt/anaconda3/lib/python3.9/site-packages (from requests<3.0.0dev,>=2.21.0->google-cloud-bigquery) (2021.10.8)\r\n",
      "\u001b[33mWARNING: Ignoring invalid distribution -umpy (/opt/anaconda3/lib/python3.9/site-packages)\u001b[0m\r\n"
     ]
    },
    {
     "name": "stdout",
     "output_type": "stream",
     "text": [
      "\u001b[33mWARNING: Ignoring invalid distribution -umpy (/opt/anaconda3/lib/python3.9/site-packages)\u001b[0m\r\n",
      "\u001b[33mWARNING: Ignoring invalid distribution -umpy (/opt/anaconda3/lib/python3.9/site-packages)\u001b[0m\r\n",
      "\u001b[33mWARNING: Ignoring invalid distribution -umpy (/opt/anaconda3/lib/python3.9/site-packages)\u001b[0m\r\n"
     ]
    },
    {
     "name": "stdout",
     "output_type": "stream",
     "text": [
      "zsh:1: no matches found: google-cloud-bigquery[pandas]\r\n"
     ]
    }
   ],
   "source": [
    "get_ipython().system('pip install google-cloud-bigquery')\n",
    "get_ipython().system('pip install google-cloud-bigquery[pandas]')"
   ]
  },
  {
   "cell_type": "markdown",
   "id": "6eec1618",
   "metadata": {},
   "source": [
    "- IMPORT THE LIBRARIES YOU WILL USE\n",
    "------------------------------------------\n",
    "You only need to import packages one time per notebook session. To keep your\n",
    "notebook clean and organized you can handle all imports at the top of your file.\n",
    "The following are included for example purposed, feel free to modify or delete \n",
    "anything in this section."
   ]
  },
  {
   "cell_type": "code",
   "execution_count": 39,
   "id": "b82169e1",
   "metadata": {
    "execution": {
     "iopub.execute_input": "2023-05-10T02:49:40.790289Z",
     "iopub.status.busy": "2023-05-10T02:49:40.790081Z",
     "iopub.status.idle": "2023-05-10T02:49:41.265061Z",
     "shell.execute_reply": "2023-05-10T02:49:41.264764Z"
    }
   },
   "outputs": [],
   "source": [
    "import csv\n",
    "import pandas as pd\n",
    "import numpy as np\n",
    "import matplotlib\n",
    "import matplotlib.pyplot as plt\n",
    "import seaborn as sns\n",
    "get_ipython().run_line_magic('matplotlib', 'inline')"
   ]
  },
  {
   "cell_type": "code",
   "execution_count": 40,
   "id": "ea1b2573",
   "metadata": {
    "execution": {
     "iopub.execute_input": "2023-05-10T02:49:41.266829Z",
     "iopub.status.busy": "2023-05-10T02:49:41.266673Z",
     "iopub.status.idle": "2023-05-10T02:49:41.268647Z",
     "shell.execute_reply": "2023-05-10T02:49:41.268403Z"
    }
   },
   "outputs": [],
   "source": [
    "from google.cloud import bigquery\n",
    "from google.oauth2 import service_account\n",
    "from google.cloud.bigquery import magics"
   ]
  },
  {
   "cell_type": "code",
   "execution_count": 41,
   "id": "177afb14",
   "metadata": {
    "execution": {
     "iopub.execute_input": "2023-05-10T02:49:41.270032Z",
     "iopub.status.busy": "2023-05-10T02:49:41.269944Z",
     "iopub.status.idle": "2023-05-10T02:49:41.271617Z",
     "shell.execute_reply": "2023-05-10T02:49:41.271365Z"
    }
   },
   "outputs": [],
   "source": [
    "query = \"\"\"\n",
    "SELECT *\n",
    "FROM `ironhacks-data.ironhacks_competition.unemployment_data` \n",
    "\"\"\""
   ]
  },
  {
   "cell_type": "code",
   "execution_count": 42,
   "id": "cfab064e",
   "metadata": {
    "execution": {
     "iopub.execute_input": "2023-05-10T02:49:41.272955Z",
     "iopub.status.busy": "2023-05-10T02:49:41.272867Z",
     "iopub.status.idle": "2023-05-10T02:49:42.555636Z",
     "shell.execute_reply": "2023-05-10T02:49:42.554922Z"
    }
   },
   "outputs": [
    {
     "name": "stdout",
     "output_type": "stream",
     "text": [
      "Index(['uu_id', 'timeperiod', 'week_number', 'countyfips', 'tract',\n",
      "       'tract_name', 'total_claims', 'edu_8th_or_less', 'edu_grades_9_11',\n",
      "       'edu_hs_grad_equiv', 'edu_post_hs', 'edu_unknown',\n",
      "       'top_category_employer1', 'top_category_employer2',\n",
      "       'top_category_employer3', 'gender_female', 'gender_male', 'gender_na',\n",
      "       'race_amerindian', 'race_asian', 'race_black', 'race_noanswer',\n",
      "       'race_hawaiiannative', 'race_other', 'race_white'],\n",
      "      dtype='object')\n"
     ]
    },
    {
     "ename": "NameError",
     "evalue": "name 'dtype' is not defined",
     "output_type": "error",
     "traceback": [
      "\u001b[0;31m---------------------------------------------------------------------------\u001b[0m",
      "\u001b[0;31mNameError\u001b[0m                                 Traceback (most recent call last)",
      "Cell \u001b[0;32mIn [42], line 6\u001b[0m\n\u001b[1;32m      4\u001b[0m \u001b[38;5;66;03m#unemployment_data.head(5)\u001b[39;00m\n\u001b[1;32m      5\u001b[0m \u001b[38;5;28mprint\u001b[39m(unemployment_data\u001b[38;5;241m.\u001b[39mcolumns)\n\u001b[0;32m----> 6\u001b[0m \u001b[43mdtype\u001b[49m(unemployment_data)\n",
      "\u001b[0;31mNameError\u001b[0m: name 'dtype' is not defined"
     ]
    }
   ],
   "source": [
    "# QUERY THE DATA ONCE\n",
    "query_job = bigquery_client.query(query)\n",
    "unemployment_data = query_job.to_dataframe()\n",
    "#unemployment_data.head(5)\n",
    "print(unemployment_data.columns)\n",
    "dtype(unemployment_data)"
   ]
  },
  {
   "cell_type": "code",
   "execution_count": 43,
   "id": "1d4d2fc6",
   "metadata": {
    "execution": {
     "iopub.execute_input": "2023-05-10T02:49:42.559639Z",
     "iopub.status.busy": "2023-05-10T02:49:42.559439Z",
     "iopub.status.idle": "2023-05-10T02:49:42.562755Z",
     "shell.execute_reply": "2023-05-10T02:49:42.561276Z"
    }
   },
   "outputs": [],
   "source": [
    "query = \"\"\"\n",
    "SELECT *\n",
    "FROM `ironhacks-data.ironhacks_competition.unemployment_data` \n",
    "\"\"\""
   ]
  },
  {
   "cell_type": "code",
   "execution_count": 44,
   "id": "442c3d71",
   "metadata": {
    "execution": {
     "iopub.execute_input": "2023-05-10T02:49:42.566919Z",
     "iopub.status.busy": "2023-05-10T02:49:42.566319Z",
     "iopub.status.idle": "2023-05-10T02:49:43.920338Z",
     "shell.execute_reply": "2023-05-10T02:49:43.919609Z"
    }
   },
   "outputs": [
    {
     "name": "stdout",
     "output_type": "stream",
     "text": [
      "Index(['uu_id', 'timeperiod', 'week_number', 'countyfips', 'tract',\n",
      "       'tract_name', 'total_claims', 'edu_8th_or_less', 'edu_grades_9_11',\n",
      "       'edu_hs_grad_equiv', 'edu_post_hs', 'edu_unknown',\n",
      "       'top_category_employer1', 'top_category_employer2',\n",
      "       'top_category_employer3', 'gender_female', 'gender_male', 'gender_na',\n",
      "       'race_amerindian', 'race_asian', 'race_black', 'race_noanswer',\n",
      "       'race_hawaiiannative', 'race_other', 'race_white'],\n",
      "      dtype='object')\n"
     ]
    },
    {
     "data": {
      "text/plain": [
       "uu_id                     object\n",
       "timeperiod                 Int64\n",
       "week_number                Int64\n",
       "countyfips                 Int64\n",
       "tract                      Int64\n",
       "tract_name                object\n",
       "total_claims               Int64\n",
       "edu_8th_or_less            Int64\n",
       "edu_grades_9_11            Int64\n",
       "edu_hs_grad_equiv          Int64\n",
       "edu_post_hs                Int64\n",
       "edu_unknown                Int64\n",
       "top_category_employer1    object\n",
       "top_category_employer2    object\n",
       "top_category_employer3    object\n",
       "gender_female              Int64\n",
       "gender_male                Int64\n",
       "gender_na                  Int64\n",
       "race_amerindian            Int64\n",
       "race_asian                 Int64\n",
       "race_black                 Int64\n",
       "race_noanswer              Int64\n",
       "race_hawaiiannative        Int64\n",
       "race_other                 Int64\n",
       "race_white                 Int64\n",
       "dtype: object"
      ]
     },
     "execution_count": 44,
     "metadata": {},
     "output_type": "execute_result"
    }
   ],
   "source": [
    "# QUERY THE DATA ONCE\n",
    "query_job = bigquery_client.query(query)\n",
    "unemployment_data = query_job.to_dataframe()\n",
    "#unemployment_data.head(5)\n",
    "print(unemployment_data.columns)\n",
    "unemployment_data.dtypes"
   ]
  },
  {
   "cell_type": "code",
   "execution_count": 45,
   "id": "576be049",
   "metadata": {
    "execution": {
     "iopub.execute_input": "2023-05-10T02:49:43.922771Z",
     "iopub.status.busy": "2023-05-10T02:49:43.922579Z",
     "iopub.status.idle": "2023-05-10T02:49:43.925560Z",
     "shell.execute_reply": "2023-05-10T02:49:43.924607Z"
    }
   },
   "outputs": [],
   "source": [
    "query = \"\"\"\n",
    "SELECT *\n",
    "FROM `ironhacks-data.ironhacks_competition.unemployment_data` \n",
    "\"\"\""
   ]
  },
  {
   "cell_type": "code",
   "execution_count": 46,
   "id": "6df0f872",
   "metadata": {
    "execution": {
     "iopub.execute_input": "2023-05-10T02:49:43.929000Z",
     "iopub.status.busy": "2023-05-10T02:49:43.928772Z",
     "iopub.status.idle": "2023-05-10T02:49:45.232144Z",
     "shell.execute_reply": "2023-05-10T02:49:45.231339Z"
    }
   },
   "outputs": [
    {
     "name": "stdout",
     "output_type": "stream",
     "text": [
      "Index(['uu_id', 'timeperiod', 'week_number', 'countyfips', 'tract',\n",
      "       'tract_name', 'total_claims', 'edu_8th_or_less', 'edu_grades_9_11',\n",
      "       'edu_hs_grad_equiv', 'edu_post_hs', 'edu_unknown',\n",
      "       'top_category_employer1', 'top_category_employer2',\n",
      "       'top_category_employer3', 'gender_female', 'gender_male', 'gender_na',\n",
      "       'race_amerindian', 'race_asian', 'race_black', 'race_noanswer',\n",
      "       'race_hawaiiannative', 'race_other', 'race_white'],\n",
      "      dtype='object')\n"
     ]
    }
   ],
   "source": [
    "# QUERY THE DATA ONCE\n",
    "query_job = bigquery_client.query(query)\n",
    "unemployment_data = query_job.to_dataframe()\n",
    "#unemployment_data.head(5)\n",
    "print(unemployment_data.columns)"
   ]
  },
  {
   "cell_type": "markdown",
   "id": "72ece3db",
   "metadata": {},
   "source": [
    "Here, I want to combine the education levels into one dataframe. "
   ]
  },
  {
   "cell_type": "code",
   "execution_count": 47,
   "id": "5f5ca2b4",
   "metadata": {
    "execution": {
     "iopub.execute_input": "2023-05-10T02:49:45.235943Z",
     "iopub.status.busy": "2023-05-10T02:49:45.235625Z",
     "iopub.status.idle": "2023-05-10T02:49:45.245153Z",
     "shell.execute_reply": "2023-05-10T02:49:45.244513Z"
    }
   },
   "outputs": [
    {
     "data": {
      "text/html": [
       "<div>\n",
       "<style scoped>\n",
       "    .dataframe tbody tr th:only-of-type {\n",
       "        vertical-align: middle;\n",
       "    }\n",
       "\n",
       "    .dataframe tbody tr th {\n",
       "        vertical-align: top;\n",
       "    }\n",
       "\n",
       "    .dataframe thead th {\n",
       "        text-align: right;\n",
       "    }\n",
       "</style>\n",
       "<table border=\"1\" class=\"dataframe\">\n",
       "  <thead>\n",
       "    <tr style=\"text-align: right;\">\n",
       "      <th></th>\n",
       "      <th>edu_8th_or_less</th>\n",
       "      <th>edu_grades_9_11</th>\n",
       "      <th>edu_hs_grad_equiv</th>\n",
       "      <th>edu_post_hs</th>\n",
       "      <th>edu_unknown</th>\n",
       "    </tr>\n",
       "  </thead>\n",
       "  <tbody>\n",
       "    <tr>\n",
       "      <th>0</th>\n",
       "      <td>0</td>\n",
       "      <td>&lt;NA&gt;</td>\n",
       "      <td>14</td>\n",
       "      <td>&lt;NA&gt;</td>\n",
       "      <td>0</td>\n",
       "    </tr>\n",
       "    <tr>\n",
       "      <th>1</th>\n",
       "      <td>0</td>\n",
       "      <td>&lt;NA&gt;</td>\n",
       "      <td>108</td>\n",
       "      <td>&lt;NA&gt;</td>\n",
       "      <td>0</td>\n",
       "    </tr>\n",
       "    <tr>\n",
       "      <th>2</th>\n",
       "      <td>0</td>\n",
       "      <td>&lt;NA&gt;</td>\n",
       "      <td>&lt;NA&gt;</td>\n",
       "      <td>&lt;NA&gt;</td>\n",
       "      <td>0</td>\n",
       "    </tr>\n",
       "    <tr>\n",
       "      <th>3</th>\n",
       "      <td>0</td>\n",
       "      <td>&lt;NA&gt;</td>\n",
       "      <td>&lt;NA&gt;</td>\n",
       "      <td>&lt;NA&gt;</td>\n",
       "      <td>&lt;NA&gt;</td>\n",
       "    </tr>\n",
       "    <tr>\n",
       "      <th>4</th>\n",
       "      <td>0</td>\n",
       "      <td>&lt;NA&gt;</td>\n",
       "      <td>69</td>\n",
       "      <td>83</td>\n",
       "      <td>&lt;NA&gt;</td>\n",
       "    </tr>\n",
       "  </tbody>\n",
       "</table>\n",
       "</div>"
      ],
      "text/plain": [
       "   edu_8th_or_less  edu_grades_9_11  edu_hs_grad_equiv  edu_post_hs  \\\n",
       "0                0             <NA>                 14         <NA>   \n",
       "1                0             <NA>                108         <NA>   \n",
       "2                0             <NA>               <NA>         <NA>   \n",
       "3                0             <NA>               <NA>         <NA>   \n",
       "4                0             <NA>                 69           83   \n",
       "\n",
       "   edu_unknown  \n",
       "0            0  \n",
       "1            0  \n",
       "2            0  \n",
       "3         <NA>  \n",
       "4         <NA>  "
      ]
     },
     "execution_count": 47,
     "metadata": {},
     "output_type": "execute_result"
    }
   ],
   "source": [
    "edu_level = unemployment_data[['edu_8th_or_less', 'edu_grades_9_11', 'edu_hs_grad_equiv', 'edu_post_hs', 'edu_unknown']]\n",
    "edu_level.head(5)"
   ]
  },
  {
   "cell_type": "code",
   "execution_count": 48,
   "id": "c6a07641",
   "metadata": {
    "execution": {
     "iopub.execute_input": "2023-05-10T02:49:45.248013Z",
     "iopub.status.busy": "2023-05-10T02:49:45.247641Z",
     "iopub.status.idle": "2023-05-10T02:49:45.250460Z",
     "shell.execute_reply": "2023-05-10T02:49:45.249956Z"
    }
   },
   "outputs": [],
   "source": [
    "query = \"\"\"\n",
    "SELECT *\n",
    "FROM `ironhacks-data.ironhacks_competition.unemployment_data` \n",
    "\"\"\""
   ]
  },
  {
   "cell_type": "code",
   "execution_count": 49,
   "id": "7a7036af",
   "metadata": {
    "execution": {
     "iopub.execute_input": "2023-05-10T02:49:45.252841Z",
     "iopub.status.busy": "2023-05-10T02:49:45.252641Z",
     "iopub.status.idle": "2023-05-10T02:49:46.521223Z",
     "shell.execute_reply": "2023-05-10T02:49:46.520759Z"
    }
   },
   "outputs": [
    {
     "name": "stdout",
     "output_type": "stream",
     "text": [
      "Index(['uu_id', 'timeperiod', 'week_number', 'countyfips', 'tract',\n",
      "       'tract_name', 'total_claims', 'edu_8th_or_less', 'edu_grades_9_11',\n",
      "       'edu_hs_grad_equiv', 'edu_post_hs', 'edu_unknown',\n",
      "       'top_category_employer1', 'top_category_employer2',\n",
      "       'top_category_employer3', 'gender_female', 'gender_male', 'gender_na',\n",
      "       'race_amerindian', 'race_asian', 'race_black', 'race_noanswer',\n",
      "       'race_hawaiiannative', 'race_other', 'race_white'],\n",
      "      dtype='object')\n"
     ]
    }
   ],
   "source": [
    "# QUERY THE DATA ONCE\n",
    "query_job = bigquery_client.query(query)\n",
    "unemployment_data = query_job.to_dataframe()\n",
    "unemployment_data.head(5)\n",
    "print(unemployment_data.columns)"
   ]
  },
  {
   "cell_type": "code",
   "execution_count": 50,
   "id": "d0847384",
   "metadata": {
    "execution": {
     "iopub.execute_input": "2023-05-10T02:49:46.523932Z",
     "iopub.status.busy": "2023-05-10T02:49:46.523409Z",
     "iopub.status.idle": "2023-05-10T02:49:46.526226Z",
     "shell.execute_reply": "2023-05-10T02:49:46.525829Z"
    }
   },
   "outputs": [],
   "source": [
    "query = \"\"\"\n",
    "SELECT *\n",
    "FROM `ironhacks-data.ironhacks_competition.unemployment_data` \n",
    "\"\"\""
   ]
  },
  {
   "cell_type": "code",
   "execution_count": 51,
   "id": "bd5110cf",
   "metadata": {
    "execution": {
     "iopub.execute_input": "2023-05-10T02:49:46.528346Z",
     "iopub.status.busy": "2023-05-10T02:49:46.528176Z",
     "iopub.status.idle": "2023-05-10T02:49:47.853448Z",
     "shell.execute_reply": "2023-05-10T02:49:47.852835Z"
    }
   },
   "outputs": [
    {
     "data": {
      "text/html": [
       "<div>\n",
       "<style scoped>\n",
       "    .dataframe tbody tr th:only-of-type {\n",
       "        vertical-align: middle;\n",
       "    }\n",
       "\n",
       "    .dataframe tbody tr th {\n",
       "        vertical-align: top;\n",
       "    }\n",
       "\n",
       "    .dataframe thead th {\n",
       "        text-align: right;\n",
       "    }\n",
       "</style>\n",
       "<table border=\"1\" class=\"dataframe\">\n",
       "  <thead>\n",
       "    <tr style=\"text-align: right;\">\n",
       "      <th></th>\n",
       "      <th>uu_id</th>\n",
       "      <th>timeperiod</th>\n",
       "      <th>week_number</th>\n",
       "      <th>countyfips</th>\n",
       "      <th>tract</th>\n",
       "      <th>tract_name</th>\n",
       "      <th>total_claims</th>\n",
       "      <th>edu_8th_or_less</th>\n",
       "      <th>edu_grades_9_11</th>\n",
       "      <th>edu_hs_grad_equiv</th>\n",
       "      <th>...</th>\n",
       "      <th>gender_female</th>\n",
       "      <th>gender_male</th>\n",
       "      <th>gender_na</th>\n",
       "      <th>race_amerindian</th>\n",
       "      <th>race_asian</th>\n",
       "      <th>race_black</th>\n",
       "      <th>race_noanswer</th>\n",
       "      <th>race_hawaiiannative</th>\n",
       "      <th>race_other</th>\n",
       "      <th>race_white</th>\n",
       "    </tr>\n",
       "  </thead>\n",
       "  <tbody>\n",
       "    <tr>\n",
       "      <th>0</th>\n",
       "      <td>f013068de98db1470bd986137a0c6d23</td>\n",
       "      <td>20220416</td>\n",
       "      <td>16</td>\n",
       "      <td>18003</td>\n",
       "      <td>900</td>\n",
       "      <td>Census Tract 9, Allen County, Indiana</td>\n",
       "      <td>22</td>\n",
       "      <td>0</td>\n",
       "      <td>&lt;NA&gt;</td>\n",
       "      <td>14</td>\n",
       "      <td>...</td>\n",
       "      <td>&lt;NA&gt;</td>\n",
       "      <td>&lt;NA&gt;</td>\n",
       "      <td>0</td>\n",
       "      <td>0</td>\n",
       "      <td>0</td>\n",
       "      <td>11</td>\n",
       "      <td>0</td>\n",
       "      <td>0</td>\n",
       "      <td>&lt;NA&gt;</td>\n",
       "      <td>&lt;NA&gt;</td>\n",
       "    </tr>\n",
       "    <tr>\n",
       "      <th>1</th>\n",
       "      <td>21957d5517323845818d87623589e1ba</td>\n",
       "      <td>20220319</td>\n",
       "      <td>12</td>\n",
       "      <td>18089</td>\n",
       "      <td>10400</td>\n",
       "      <td>Census Tract 104, Lake County, Indiana</td>\n",
       "      <td>111</td>\n",
       "      <td>0</td>\n",
       "      <td>&lt;NA&gt;</td>\n",
       "      <td>108</td>\n",
       "      <td>...</td>\n",
       "      <td>76</td>\n",
       "      <td>35</td>\n",
       "      <td>0</td>\n",
       "      <td>0</td>\n",
       "      <td>0</td>\n",
       "      <td>&lt;NA&gt;</td>\n",
       "      <td>&lt;NA&gt;</td>\n",
       "      <td>0</td>\n",
       "      <td>0</td>\n",
       "      <td>0</td>\n",
       "    </tr>\n",
       "    <tr>\n",
       "      <th>2</th>\n",
       "      <td>6a5609f385912113b6f1014b958ed748</td>\n",
       "      <td>20220326</td>\n",
       "      <td>13</td>\n",
       "      <td>18089</td>\n",
       "      <td>11500</td>\n",
       "      <td>Census Tract 115, Lake County, Indiana</td>\n",
       "      <td>39</td>\n",
       "      <td>0</td>\n",
       "      <td>&lt;NA&gt;</td>\n",
       "      <td>&lt;NA&gt;</td>\n",
       "      <td>...</td>\n",
       "      <td>&lt;NA&gt;</td>\n",
       "      <td>&lt;NA&gt;</td>\n",
       "      <td>0</td>\n",
       "      <td>0</td>\n",
       "      <td>0</td>\n",
       "      <td>39</td>\n",
       "      <td>0</td>\n",
       "      <td>0</td>\n",
       "      <td>0</td>\n",
       "      <td>0</td>\n",
       "    </tr>\n",
       "    <tr>\n",
       "      <th>3</th>\n",
       "      <td>46b2882ec4c373527ec33f7bd4f1388d</td>\n",
       "      <td>20220716</td>\n",
       "      <td>29</td>\n",
       "      <td>18089</td>\n",
       "      <td>20700</td>\n",
       "      <td>Census Tract 207, Lake County, Indiana</td>\n",
       "      <td>14</td>\n",
       "      <td>0</td>\n",
       "      <td>&lt;NA&gt;</td>\n",
       "      <td>&lt;NA&gt;</td>\n",
       "      <td>...</td>\n",
       "      <td>&lt;NA&gt;</td>\n",
       "      <td>&lt;NA&gt;</td>\n",
       "      <td>0</td>\n",
       "      <td>0</td>\n",
       "      <td>&lt;NA&gt;</td>\n",
       "      <td>10</td>\n",
       "      <td>0</td>\n",
       "      <td>0</td>\n",
       "      <td>&lt;NA&gt;</td>\n",
       "      <td>&lt;NA&gt;</td>\n",
       "    </tr>\n",
       "    <tr>\n",
       "      <th>4</th>\n",
       "      <td>37495d17e82f7df326bfc2c4c090f7b7</td>\n",
       "      <td>20220409</td>\n",
       "      <td>15</td>\n",
       "      <td>18089</td>\n",
       "      <td>21900</td>\n",
       "      <td>Census Tract 219, Lake County, Indiana</td>\n",
       "      <td>155</td>\n",
       "      <td>0</td>\n",
       "      <td>&lt;NA&gt;</td>\n",
       "      <td>69</td>\n",
       "      <td>...</td>\n",
       "      <td>90</td>\n",
       "      <td>65</td>\n",
       "      <td>0</td>\n",
       "      <td>0</td>\n",
       "      <td>0</td>\n",
       "      <td>135</td>\n",
       "      <td>&lt;NA&gt;</td>\n",
       "      <td>&lt;NA&gt;</td>\n",
       "      <td>&lt;NA&gt;</td>\n",
       "      <td>&lt;NA&gt;</td>\n",
       "    </tr>\n",
       "  </tbody>\n",
       "</table>\n",
       "<p>5 rows × 25 columns</p>\n",
       "</div>"
      ],
      "text/plain": [
       "                              uu_id  timeperiod  week_number  countyfips  \\\n",
       "0  f013068de98db1470bd986137a0c6d23    20220416           16       18003   \n",
       "1  21957d5517323845818d87623589e1ba    20220319           12       18089   \n",
       "2  6a5609f385912113b6f1014b958ed748    20220326           13       18089   \n",
       "3  46b2882ec4c373527ec33f7bd4f1388d    20220716           29       18089   \n",
       "4  37495d17e82f7df326bfc2c4c090f7b7    20220409           15       18089   \n",
       "\n",
       "   tract                              tract_name  total_claims  \\\n",
       "0    900   Census Tract 9, Allen County, Indiana            22   \n",
       "1  10400  Census Tract 104, Lake County, Indiana           111   \n",
       "2  11500  Census Tract 115, Lake County, Indiana            39   \n",
       "3  20700  Census Tract 207, Lake County, Indiana            14   \n",
       "4  21900  Census Tract 219, Lake County, Indiana           155   \n",
       "\n",
       "   edu_8th_or_less  edu_grades_9_11  edu_hs_grad_equiv  ...  gender_female  \\\n",
       "0                0             <NA>                 14  ...           <NA>   \n",
       "1                0             <NA>                108  ...             76   \n",
       "2                0             <NA>               <NA>  ...           <NA>   \n",
       "3                0             <NA>               <NA>  ...           <NA>   \n",
       "4                0             <NA>                 69  ...             90   \n",
       "\n",
       "   gender_male gender_na race_amerindian race_asian  race_black  \\\n",
       "0         <NA>         0               0          0          11   \n",
       "1           35         0               0          0        <NA>   \n",
       "2         <NA>         0               0          0          39   \n",
       "3         <NA>         0               0       <NA>          10   \n",
       "4           65         0               0          0         135   \n",
       "\n",
       "   race_noanswer  race_hawaiiannative  race_other  race_white  \n",
       "0              0                    0        <NA>        <NA>  \n",
       "1           <NA>                    0           0           0  \n",
       "2              0                    0           0           0  \n",
       "3              0                    0        <NA>        <NA>  \n",
       "4           <NA>                 <NA>        <NA>        <NA>  \n",
       "\n",
       "[5 rows x 25 columns]"
      ]
     },
     "execution_count": 51,
     "metadata": {},
     "output_type": "execute_result"
    }
   ],
   "source": [
    "# QUERY THE DATA ONCE\n",
    "query_job = bigquery_client.query(query)\n",
    "unemployment_data = query_job.to_dataframe()\n",
    "unemployment_data.head(5)\n",
    "#print(unemployment_data.columns)"
   ]
  },
  {
   "cell_type": "code",
   "execution_count": 52,
   "id": "cd2ef7c3",
   "metadata": {
    "execution": {
     "iopub.execute_input": "2023-05-10T02:49:47.856641Z",
     "iopub.status.busy": "2023-05-10T02:49:47.856373Z",
     "iopub.status.idle": "2023-05-10T02:49:47.859960Z",
     "shell.execute_reply": "2023-05-10T02:49:47.859127Z"
    }
   },
   "outputs": [],
   "source": [
    "query = \"\"\"\n",
    "SELECT *\n",
    "FROM `ironhacks-data.ironhacks_competition.unemployment_data` \n",
    "\"\"\""
   ]
  },
  {
   "cell_type": "code",
   "execution_count": 53,
   "id": "4d9b887c",
   "metadata": {
    "execution": {
     "iopub.execute_input": "2023-05-10T02:49:47.862553Z",
     "iopub.status.busy": "2023-05-10T02:49:47.862364Z",
     "iopub.status.idle": "2023-05-10T02:49:49.163654Z",
     "shell.execute_reply": "2023-05-10T02:49:49.162906Z"
    }
   },
   "outputs": [],
   "source": [
    "# QUERY THE DATA ONCE\n",
    "query_job = bigquery_client.query(query)\n",
    "unemployment_data = query_job.to_dataframe()\n",
    "#unemployment_data.head(5)\n",
    "#print(unemployment_data.columns)"
   ]
  },
  {
   "cell_type": "code",
   "execution_count": 54,
   "id": "f2185585",
   "metadata": {
    "execution": {
     "iopub.execute_input": "2023-05-10T02:49:49.167820Z",
     "iopub.status.busy": "2023-05-10T02:49:49.167484Z",
     "iopub.status.idle": "2023-05-10T02:49:49.171267Z",
     "shell.execute_reply": "2023-05-10T02:49:49.170516Z"
    }
   },
   "outputs": [],
   "source": [
    "query = \"\"\"\n",
    "SELECT *\n",
    "FROM `ironhacks-data.ironhacks_competition.unemployment_data` \n",
    "\"\"\""
   ]
  },
  {
   "cell_type": "code",
   "execution_count": 55,
   "id": "558e3375",
   "metadata": {
    "execution": {
     "iopub.execute_input": "2023-05-10T02:49:49.174832Z",
     "iopub.status.busy": "2023-05-10T02:49:49.174541Z",
     "iopub.status.idle": "2023-05-10T02:49:50.523699Z",
     "shell.execute_reply": "2023-05-10T02:49:50.522900Z"
    }
   },
   "outputs": [],
   "source": [
    "# QUERY THE DATA ONCE\n",
    "query_job = bigquery_client.query(query)\n",
    "unemployment_data = query_job.to_dataframe()\n",
    "#unemployment_data.head(5)\n",
    "#print(unemployment_data.columns)"
   ]
  },
  {
   "cell_type": "code",
   "execution_count": 56,
   "id": "3225175d",
   "metadata": {
    "execution": {
     "iopub.execute_input": "2023-05-10T02:49:50.527942Z",
     "iopub.status.busy": "2023-05-10T02:49:50.527587Z",
     "iopub.status.idle": "2023-05-10T02:49:50.531286Z",
     "shell.execute_reply": "2023-05-10T02:49:50.530608Z"
    }
   },
   "outputs": [],
   "source": [
    "query = \"\"\"\n",
    "SELECT *\n",
    "FROM `ironhacks-data.ironhacks_competition.unemployment_data` \n",
    "\"\"\""
   ]
  },
  {
   "cell_type": "code",
   "execution_count": 57,
   "id": "42b87236",
   "metadata": {
    "execution": {
     "iopub.execute_input": "2023-05-10T02:49:50.534799Z",
     "iopub.status.busy": "2023-05-10T02:49:50.534304Z",
     "iopub.status.idle": "2023-05-10T02:49:51.954538Z",
     "shell.execute_reply": "2023-05-10T02:49:51.953816Z"
    }
   },
   "outputs": [
    {
     "data": {
      "text/html": [
       "<div>\n",
       "<style scoped>\n",
       "    .dataframe tbody tr th:only-of-type {\n",
       "        vertical-align: middle;\n",
       "    }\n",
       "\n",
       "    .dataframe tbody tr th {\n",
       "        vertical-align: top;\n",
       "    }\n",
       "\n",
       "    .dataframe thead th {\n",
       "        text-align: right;\n",
       "    }\n",
       "</style>\n",
       "<table border=\"1\" class=\"dataframe\">\n",
       "  <thead>\n",
       "    <tr style=\"text-align: right;\">\n",
       "      <th></th>\n",
       "      <th>uu_id</th>\n",
       "      <th>timeperiod</th>\n",
       "      <th>week_number</th>\n",
       "      <th>countyfips</th>\n",
       "      <th>tract</th>\n",
       "      <th>tract_name</th>\n",
       "      <th>total_claims</th>\n",
       "      <th>edu_8th_or_less</th>\n",
       "      <th>edu_grades_9_11</th>\n",
       "      <th>edu_hs_grad_equiv</th>\n",
       "      <th>...</th>\n",
       "      <th>gender_female</th>\n",
       "      <th>gender_male</th>\n",
       "      <th>gender_na</th>\n",
       "      <th>race_amerindian</th>\n",
       "      <th>race_asian</th>\n",
       "      <th>race_black</th>\n",
       "      <th>race_noanswer</th>\n",
       "      <th>race_hawaiiannative</th>\n",
       "      <th>race_other</th>\n",
       "      <th>race_white</th>\n",
       "    </tr>\n",
       "  </thead>\n",
       "  <tbody>\n",
       "    <tr>\n",
       "      <th>0</th>\n",
       "      <td>f013068de98db1470bd986137a0c6d23</td>\n",
       "      <td>20220416</td>\n",
       "      <td>16</td>\n",
       "      <td>18003</td>\n",
       "      <td>900</td>\n",
       "      <td>Census Tract 9, Allen County, Indiana</td>\n",
       "      <td>22</td>\n",
       "      <td>0</td>\n",
       "      <td>&lt;NA&gt;</td>\n",
       "      <td>14</td>\n",
       "      <td>...</td>\n",
       "      <td>&lt;NA&gt;</td>\n",
       "      <td>&lt;NA&gt;</td>\n",
       "      <td>0</td>\n",
       "      <td>0</td>\n",
       "      <td>0</td>\n",
       "      <td>11</td>\n",
       "      <td>0</td>\n",
       "      <td>0</td>\n",
       "      <td>&lt;NA&gt;</td>\n",
       "      <td>&lt;NA&gt;</td>\n",
       "    </tr>\n",
       "    <tr>\n",
       "      <th>1</th>\n",
       "      <td>21957d5517323845818d87623589e1ba</td>\n",
       "      <td>20220319</td>\n",
       "      <td>12</td>\n",
       "      <td>18089</td>\n",
       "      <td>10400</td>\n",
       "      <td>Census Tract 104, Lake County, Indiana</td>\n",
       "      <td>111</td>\n",
       "      <td>0</td>\n",
       "      <td>&lt;NA&gt;</td>\n",
       "      <td>108</td>\n",
       "      <td>...</td>\n",
       "      <td>76</td>\n",
       "      <td>35</td>\n",
       "      <td>0</td>\n",
       "      <td>0</td>\n",
       "      <td>0</td>\n",
       "      <td>&lt;NA&gt;</td>\n",
       "      <td>&lt;NA&gt;</td>\n",
       "      <td>0</td>\n",
       "      <td>0</td>\n",
       "      <td>0</td>\n",
       "    </tr>\n",
       "    <tr>\n",
       "      <th>2</th>\n",
       "      <td>6a5609f385912113b6f1014b958ed748</td>\n",
       "      <td>20220326</td>\n",
       "      <td>13</td>\n",
       "      <td>18089</td>\n",
       "      <td>11500</td>\n",
       "      <td>Census Tract 115, Lake County, Indiana</td>\n",
       "      <td>39</td>\n",
       "      <td>0</td>\n",
       "      <td>&lt;NA&gt;</td>\n",
       "      <td>&lt;NA&gt;</td>\n",
       "      <td>...</td>\n",
       "      <td>&lt;NA&gt;</td>\n",
       "      <td>&lt;NA&gt;</td>\n",
       "      <td>0</td>\n",
       "      <td>0</td>\n",
       "      <td>0</td>\n",
       "      <td>39</td>\n",
       "      <td>0</td>\n",
       "      <td>0</td>\n",
       "      <td>0</td>\n",
       "      <td>0</td>\n",
       "    </tr>\n",
       "    <tr>\n",
       "      <th>3</th>\n",
       "      <td>46b2882ec4c373527ec33f7bd4f1388d</td>\n",
       "      <td>20220716</td>\n",
       "      <td>29</td>\n",
       "      <td>18089</td>\n",
       "      <td>20700</td>\n",
       "      <td>Census Tract 207, Lake County, Indiana</td>\n",
       "      <td>14</td>\n",
       "      <td>0</td>\n",
       "      <td>&lt;NA&gt;</td>\n",
       "      <td>&lt;NA&gt;</td>\n",
       "      <td>...</td>\n",
       "      <td>&lt;NA&gt;</td>\n",
       "      <td>&lt;NA&gt;</td>\n",
       "      <td>0</td>\n",
       "      <td>0</td>\n",
       "      <td>&lt;NA&gt;</td>\n",
       "      <td>10</td>\n",
       "      <td>0</td>\n",
       "      <td>0</td>\n",
       "      <td>&lt;NA&gt;</td>\n",
       "      <td>&lt;NA&gt;</td>\n",
       "    </tr>\n",
       "    <tr>\n",
       "      <th>4</th>\n",
       "      <td>37495d17e82f7df326bfc2c4c090f7b7</td>\n",
       "      <td>20220409</td>\n",
       "      <td>15</td>\n",
       "      <td>18089</td>\n",
       "      <td>21900</td>\n",
       "      <td>Census Tract 219, Lake County, Indiana</td>\n",
       "      <td>155</td>\n",
       "      <td>0</td>\n",
       "      <td>&lt;NA&gt;</td>\n",
       "      <td>69</td>\n",
       "      <td>...</td>\n",
       "      <td>90</td>\n",
       "      <td>65</td>\n",
       "      <td>0</td>\n",
       "      <td>0</td>\n",
       "      <td>0</td>\n",
       "      <td>135</td>\n",
       "      <td>&lt;NA&gt;</td>\n",
       "      <td>&lt;NA&gt;</td>\n",
       "      <td>&lt;NA&gt;</td>\n",
       "      <td>&lt;NA&gt;</td>\n",
       "    </tr>\n",
       "  </tbody>\n",
       "</table>\n",
       "<p>5 rows × 25 columns</p>\n",
       "</div>"
      ],
      "text/plain": [
       "                              uu_id  timeperiod  week_number  countyfips  \\\n",
       "0  f013068de98db1470bd986137a0c6d23    20220416           16       18003   \n",
       "1  21957d5517323845818d87623589e1ba    20220319           12       18089   \n",
       "2  6a5609f385912113b6f1014b958ed748    20220326           13       18089   \n",
       "3  46b2882ec4c373527ec33f7bd4f1388d    20220716           29       18089   \n",
       "4  37495d17e82f7df326bfc2c4c090f7b7    20220409           15       18089   \n",
       "\n",
       "   tract                              tract_name  total_claims  \\\n",
       "0    900   Census Tract 9, Allen County, Indiana            22   \n",
       "1  10400  Census Tract 104, Lake County, Indiana           111   \n",
       "2  11500  Census Tract 115, Lake County, Indiana            39   \n",
       "3  20700  Census Tract 207, Lake County, Indiana            14   \n",
       "4  21900  Census Tract 219, Lake County, Indiana           155   \n",
       "\n",
       "   edu_8th_or_less  edu_grades_9_11  edu_hs_grad_equiv  ...  gender_female  \\\n",
       "0                0             <NA>                 14  ...           <NA>   \n",
       "1                0             <NA>                108  ...             76   \n",
       "2                0             <NA>               <NA>  ...           <NA>   \n",
       "3                0             <NA>               <NA>  ...           <NA>   \n",
       "4                0             <NA>                 69  ...             90   \n",
       "\n",
       "   gender_male gender_na race_amerindian race_asian  race_black  \\\n",
       "0         <NA>         0               0          0          11   \n",
       "1           35         0               0          0        <NA>   \n",
       "2         <NA>         0               0          0          39   \n",
       "3         <NA>         0               0       <NA>          10   \n",
       "4           65         0               0          0         135   \n",
       "\n",
       "   race_noanswer  race_hawaiiannative  race_other  race_white  \n",
       "0              0                    0        <NA>        <NA>  \n",
       "1           <NA>                    0           0           0  \n",
       "2              0                    0           0           0  \n",
       "3              0                    0        <NA>        <NA>  \n",
       "4           <NA>                 <NA>        <NA>        <NA>  \n",
       "\n",
       "[5 rows x 25 columns]"
      ]
     },
     "execution_count": 57,
     "metadata": {},
     "output_type": "execute_result"
    }
   ],
   "source": [
    "# QUERY THE DATA ONCE\n",
    "query_job = bigquery_client.query(query)\n",
    "unemployment_data = query_job.to_dataframe()\n",
    "unemployment_data.head(5)\n",
    "#print(unemployment_data.columns)"
   ]
  },
  {
   "cell_type": "markdown",
   "id": "61ad88a3",
   "metadata": {},
   "source": [
    "Here, I want to combine the education levels into one dataframe. "
   ]
  },
  {
   "cell_type": "code",
   "execution_count": 58,
   "id": "c7b98748",
   "metadata": {
    "execution": {
     "iopub.execute_input": "2023-05-10T02:49:51.957775Z",
     "iopub.status.busy": "2023-05-10T02:49:51.957404Z",
     "iopub.status.idle": "2023-05-10T02:49:51.966578Z",
     "shell.execute_reply": "2023-05-10T02:49:51.966060Z"
    }
   },
   "outputs": [
    {
     "data": {
      "text/html": [
       "<div>\n",
       "<style scoped>\n",
       "    .dataframe tbody tr th:only-of-type {\n",
       "        vertical-align: middle;\n",
       "    }\n",
       "\n",
       "    .dataframe tbody tr th {\n",
       "        vertical-align: top;\n",
       "    }\n",
       "\n",
       "    .dataframe thead th {\n",
       "        text-align: right;\n",
       "    }\n",
       "</style>\n",
       "<table border=\"1\" class=\"dataframe\">\n",
       "  <thead>\n",
       "    <tr style=\"text-align: right;\">\n",
       "      <th></th>\n",
       "      <th>uu_id</th>\n",
       "      <th>edu_8th_or_less</th>\n",
       "      <th>edu_grades_9_11</th>\n",
       "      <th>edu_hs_grad_equiv</th>\n",
       "      <th>edu_post_hs</th>\n",
       "      <th>edu_unknown</th>\n",
       "    </tr>\n",
       "  </thead>\n",
       "  <tbody>\n",
       "    <tr>\n",
       "      <th>0</th>\n",
       "      <td>f013068de98db1470bd986137a0c6d23</td>\n",
       "      <td>0</td>\n",
       "      <td>&lt;NA&gt;</td>\n",
       "      <td>14</td>\n",
       "      <td>&lt;NA&gt;</td>\n",
       "      <td>0</td>\n",
       "    </tr>\n",
       "    <tr>\n",
       "      <th>1</th>\n",
       "      <td>21957d5517323845818d87623589e1ba</td>\n",
       "      <td>0</td>\n",
       "      <td>&lt;NA&gt;</td>\n",
       "      <td>108</td>\n",
       "      <td>&lt;NA&gt;</td>\n",
       "      <td>0</td>\n",
       "    </tr>\n",
       "    <tr>\n",
       "      <th>2</th>\n",
       "      <td>6a5609f385912113b6f1014b958ed748</td>\n",
       "      <td>0</td>\n",
       "      <td>&lt;NA&gt;</td>\n",
       "      <td>&lt;NA&gt;</td>\n",
       "      <td>&lt;NA&gt;</td>\n",
       "      <td>0</td>\n",
       "    </tr>\n",
       "    <tr>\n",
       "      <th>3</th>\n",
       "      <td>46b2882ec4c373527ec33f7bd4f1388d</td>\n",
       "      <td>0</td>\n",
       "      <td>&lt;NA&gt;</td>\n",
       "      <td>&lt;NA&gt;</td>\n",
       "      <td>&lt;NA&gt;</td>\n",
       "      <td>&lt;NA&gt;</td>\n",
       "    </tr>\n",
       "    <tr>\n",
       "      <th>4</th>\n",
       "      <td>37495d17e82f7df326bfc2c4c090f7b7</td>\n",
       "      <td>0</td>\n",
       "      <td>&lt;NA&gt;</td>\n",
       "      <td>69</td>\n",
       "      <td>83</td>\n",
       "      <td>&lt;NA&gt;</td>\n",
       "    </tr>\n",
       "  </tbody>\n",
       "</table>\n",
       "</div>"
      ],
      "text/plain": [
       "                              uu_id  edu_8th_or_less  edu_grades_9_11  \\\n",
       "0  f013068de98db1470bd986137a0c6d23                0             <NA>   \n",
       "1  21957d5517323845818d87623589e1ba                0             <NA>   \n",
       "2  6a5609f385912113b6f1014b958ed748                0             <NA>   \n",
       "3  46b2882ec4c373527ec33f7bd4f1388d                0             <NA>   \n",
       "4  37495d17e82f7df326bfc2c4c090f7b7                0             <NA>   \n",
       "\n",
       "   edu_hs_grad_equiv  edu_post_hs  edu_unknown  \n",
       "0                 14         <NA>            0  \n",
       "1                108         <NA>            0  \n",
       "2               <NA>         <NA>            0  \n",
       "3               <NA>         <NA>         <NA>  \n",
       "4                 69           83         <NA>  "
      ]
     },
     "execution_count": 58,
     "metadata": {},
     "output_type": "execute_result"
    }
   ],
   "source": [
    "edu_level = unemployment_data[['uu_id', 'edu_8th_or_less', 'edu_grades_9_11', 'edu_hs_grad_equiv', 'edu_post_hs', 'edu_unknown']]\n",
    "edu_level.head(5)"
   ]
  },
  {
   "cell_type": "code",
   "execution_count": 59,
   "id": "4a671a4a",
   "metadata": {
    "execution": {
     "iopub.execute_input": "2023-05-10T02:49:51.968989Z",
     "iopub.status.busy": "2023-05-10T02:49:51.968801Z",
     "iopub.status.idle": "2023-05-10T02:49:51.974747Z",
     "shell.execute_reply": "2023-05-10T02:49:51.974330Z"
    }
   },
   "outputs": [],
   "source": [
    "edu_lvl = edu_level.groupby(['uu_id'])['edu_8th_or_less'].count().reset_index(\n",
    "  name='Count').sort_values(['Count'], ascending=True)"
   ]
  },
  {
   "cell_type": "markdown",
   "id": "f9f91046",
   "metadata": {},
   "source": [
    "Here, I want to combine the education levels into one dataframe. "
   ]
  },
  {
   "cell_type": "code",
   "execution_count": 60,
   "id": "8ab51985",
   "metadata": {
    "execution": {
     "iopub.execute_input": "2023-05-10T02:49:51.977057Z",
     "iopub.status.busy": "2023-05-10T02:49:51.976860Z",
     "iopub.status.idle": "2023-05-10T02:49:51.983811Z",
     "shell.execute_reply": "2023-05-10T02:49:51.983430Z"
    }
   },
   "outputs": [
    {
     "data": {
      "text/html": [
       "<div>\n",
       "<style scoped>\n",
       "    .dataframe tbody tr th:only-of-type {\n",
       "        vertical-align: middle;\n",
       "    }\n",
       "\n",
       "    .dataframe tbody tr th {\n",
       "        vertical-align: top;\n",
       "    }\n",
       "\n",
       "    .dataframe thead th {\n",
       "        text-align: right;\n",
       "    }\n",
       "</style>\n",
       "<table border=\"1\" class=\"dataframe\">\n",
       "  <thead>\n",
       "    <tr style=\"text-align: right;\">\n",
       "      <th></th>\n",
       "      <th>uu_id</th>\n",
       "      <th>edu_8th_or_less</th>\n",
       "      <th>edu_grades_9_11</th>\n",
       "      <th>edu_hs_grad_equiv</th>\n",
       "      <th>edu_post_hs</th>\n",
       "      <th>edu_unknown</th>\n",
       "    </tr>\n",
       "  </thead>\n",
       "  <tbody>\n",
       "    <tr>\n",
       "      <th>0</th>\n",
       "      <td>f013068de98db1470bd986137a0c6d23</td>\n",
       "      <td>0</td>\n",
       "      <td>&lt;NA&gt;</td>\n",
       "      <td>14</td>\n",
       "      <td>&lt;NA&gt;</td>\n",
       "      <td>0</td>\n",
       "    </tr>\n",
       "    <tr>\n",
       "      <th>1</th>\n",
       "      <td>21957d5517323845818d87623589e1ba</td>\n",
       "      <td>0</td>\n",
       "      <td>&lt;NA&gt;</td>\n",
       "      <td>108</td>\n",
       "      <td>&lt;NA&gt;</td>\n",
       "      <td>0</td>\n",
       "    </tr>\n",
       "    <tr>\n",
       "      <th>2</th>\n",
       "      <td>6a5609f385912113b6f1014b958ed748</td>\n",
       "      <td>0</td>\n",
       "      <td>&lt;NA&gt;</td>\n",
       "      <td>&lt;NA&gt;</td>\n",
       "      <td>&lt;NA&gt;</td>\n",
       "      <td>0</td>\n",
       "    </tr>\n",
       "    <tr>\n",
       "      <th>3</th>\n",
       "      <td>46b2882ec4c373527ec33f7bd4f1388d</td>\n",
       "      <td>0</td>\n",
       "      <td>&lt;NA&gt;</td>\n",
       "      <td>&lt;NA&gt;</td>\n",
       "      <td>&lt;NA&gt;</td>\n",
       "      <td>&lt;NA&gt;</td>\n",
       "    </tr>\n",
       "    <tr>\n",
       "      <th>4</th>\n",
       "      <td>37495d17e82f7df326bfc2c4c090f7b7</td>\n",
       "      <td>0</td>\n",
       "      <td>&lt;NA&gt;</td>\n",
       "      <td>69</td>\n",
       "      <td>83</td>\n",
       "      <td>&lt;NA&gt;</td>\n",
       "    </tr>\n",
       "  </tbody>\n",
       "</table>\n",
       "</div>"
      ],
      "text/plain": [
       "                              uu_id  edu_8th_or_less  edu_grades_9_11  \\\n",
       "0  f013068de98db1470bd986137a0c6d23                0             <NA>   \n",
       "1  21957d5517323845818d87623589e1ba                0             <NA>   \n",
       "2  6a5609f385912113b6f1014b958ed748                0             <NA>   \n",
       "3  46b2882ec4c373527ec33f7bd4f1388d                0             <NA>   \n",
       "4  37495d17e82f7df326bfc2c4c090f7b7                0             <NA>   \n",
       "\n",
       "   edu_hs_grad_equiv  edu_post_hs  edu_unknown  \n",
       "0                 14         <NA>            0  \n",
       "1                108         <NA>            0  \n",
       "2               <NA>         <NA>            0  \n",
       "3               <NA>         <NA>         <NA>  \n",
       "4                 69           83         <NA>  "
      ]
     },
     "execution_count": 60,
     "metadata": {},
     "output_type": "execute_result"
    }
   ],
   "source": [
    "edu_level = unemployment_data[['uu_id', 'edu_8th_or_less', 'edu_grades_9_11', 'edu_hs_grad_equiv', 'edu_post_hs', 'edu_unknown']]\n",
    "edu_level.head(5)"
   ]
  },
  {
   "cell_type": "code",
   "execution_count": 61,
   "id": "a46183b5",
   "metadata": {
    "execution": {
     "iopub.execute_input": "2023-05-10T02:49:51.985765Z",
     "iopub.status.busy": "2023-05-10T02:49:51.985603Z",
     "iopub.status.idle": "2023-05-10T02:49:51.990009Z",
     "shell.execute_reply": "2023-05-10T02:49:51.989685Z"
    }
   },
   "outputs": [],
   "source": [
    "edu_lvl = edu_level.groupby(['uu_id'])['edu_8th_or_less'].count().reset_index(\n",
    "  name='Count').sort_values(['Count'], ascending=True)"
   ]
  },
  {
   "cell_type": "markdown",
   "id": "a8f27cad",
   "metadata": {},
   "source": [
    "Here, I want to combine the education levels into one dataframe. "
   ]
  },
  {
   "cell_type": "code",
   "execution_count": 62,
   "id": "8fae82a0",
   "metadata": {
    "execution": {
     "iopub.execute_input": "2023-05-10T02:49:51.992135Z",
     "iopub.status.busy": "2023-05-10T02:49:51.991969Z",
     "iopub.status.idle": "2023-05-10T02:49:51.997702Z",
     "shell.execute_reply": "2023-05-10T02:49:51.997381Z"
    }
   },
   "outputs": [
    {
     "data": {
      "text/html": [
       "<div>\n",
       "<style scoped>\n",
       "    .dataframe tbody tr th:only-of-type {\n",
       "        vertical-align: middle;\n",
       "    }\n",
       "\n",
       "    .dataframe tbody tr th {\n",
       "        vertical-align: top;\n",
       "    }\n",
       "\n",
       "    .dataframe thead th {\n",
       "        text-align: right;\n",
       "    }\n",
       "</style>\n",
       "<table border=\"1\" class=\"dataframe\">\n",
       "  <thead>\n",
       "    <tr style=\"text-align: right;\">\n",
       "      <th></th>\n",
       "      <th>uu_id</th>\n",
       "      <th>edu_8th_or_less</th>\n",
       "      <th>edu_grades_9_11</th>\n",
       "      <th>edu_hs_grad_equiv</th>\n",
       "      <th>edu_post_hs</th>\n",
       "      <th>edu_unknown</th>\n",
       "    </tr>\n",
       "  </thead>\n",
       "  <tbody>\n",
       "    <tr>\n",
       "      <th>0</th>\n",
       "      <td>f013068de98db1470bd986137a0c6d23</td>\n",
       "      <td>0</td>\n",
       "      <td>&lt;NA&gt;</td>\n",
       "      <td>14</td>\n",
       "      <td>&lt;NA&gt;</td>\n",
       "      <td>0</td>\n",
       "    </tr>\n",
       "    <tr>\n",
       "      <th>1</th>\n",
       "      <td>21957d5517323845818d87623589e1ba</td>\n",
       "      <td>0</td>\n",
       "      <td>&lt;NA&gt;</td>\n",
       "      <td>108</td>\n",
       "      <td>&lt;NA&gt;</td>\n",
       "      <td>0</td>\n",
       "    </tr>\n",
       "    <tr>\n",
       "      <th>2</th>\n",
       "      <td>6a5609f385912113b6f1014b958ed748</td>\n",
       "      <td>0</td>\n",
       "      <td>&lt;NA&gt;</td>\n",
       "      <td>&lt;NA&gt;</td>\n",
       "      <td>&lt;NA&gt;</td>\n",
       "      <td>0</td>\n",
       "    </tr>\n",
       "    <tr>\n",
       "      <th>3</th>\n",
       "      <td>46b2882ec4c373527ec33f7bd4f1388d</td>\n",
       "      <td>0</td>\n",
       "      <td>&lt;NA&gt;</td>\n",
       "      <td>&lt;NA&gt;</td>\n",
       "      <td>&lt;NA&gt;</td>\n",
       "      <td>&lt;NA&gt;</td>\n",
       "    </tr>\n",
       "    <tr>\n",
       "      <th>4</th>\n",
       "      <td>37495d17e82f7df326bfc2c4c090f7b7</td>\n",
       "      <td>0</td>\n",
       "      <td>&lt;NA&gt;</td>\n",
       "      <td>69</td>\n",
       "      <td>83</td>\n",
       "      <td>&lt;NA&gt;</td>\n",
       "    </tr>\n",
       "  </tbody>\n",
       "</table>\n",
       "</div>"
      ],
      "text/plain": [
       "                              uu_id  edu_8th_or_less  edu_grades_9_11  \\\n",
       "0  f013068de98db1470bd986137a0c6d23                0             <NA>   \n",
       "1  21957d5517323845818d87623589e1ba                0             <NA>   \n",
       "2  6a5609f385912113b6f1014b958ed748                0             <NA>   \n",
       "3  46b2882ec4c373527ec33f7bd4f1388d                0             <NA>   \n",
       "4  37495d17e82f7df326bfc2c4c090f7b7                0             <NA>   \n",
       "\n",
       "   edu_hs_grad_equiv  edu_post_hs  edu_unknown  \n",
       "0                 14         <NA>            0  \n",
       "1                108         <NA>            0  \n",
       "2               <NA>         <NA>            0  \n",
       "3               <NA>         <NA>         <NA>  \n",
       "4                 69           83         <NA>  "
      ]
     },
     "execution_count": 62,
     "metadata": {},
     "output_type": "execute_result"
    }
   ],
   "source": [
    "edu_level = unemployment_data[['uu_id', 'edu_8th_or_less', 'edu_grades_9_11', 'edu_hs_grad_equiv', 'edu_post_hs', 'edu_unknown']]\n",
    "edu_level.head(5)"
   ]
  },
  {
   "cell_type": "code",
   "execution_count": 63,
   "id": "d2042d62",
   "metadata": {
    "execution": {
     "iopub.execute_input": "2023-05-10T02:49:51.999330Z",
     "iopub.status.busy": "2023-05-10T02:49:51.999192Z",
     "iopub.status.idle": "2023-05-10T02:49:52.003319Z",
     "shell.execute_reply": "2023-05-10T02:49:52.003019Z"
    }
   },
   "outputs": [],
   "source": [
    "edu_lvl = edu_level.groupby(['uu_id'])['edu_8th_or_less'].count().reset_index(\n",
    "  name='Count').sort_values(['Count'], ascending=True)"
   ]
  },
  {
   "cell_type": "code",
   "execution_count": 64,
   "id": "6bc837b6",
   "metadata": {
    "execution": {
     "iopub.execute_input": "2023-05-10T02:49:52.004868Z",
     "iopub.status.busy": "2023-05-10T02:49:52.004769Z",
     "iopub.status.idle": "2023-05-10T02:49:52.008213Z",
     "shell.execute_reply": "2023-05-10T02:49:52.007922Z"
    }
   },
   "outputs": [
    {
     "data": {
      "text/html": [
       "<div>\n",
       "<style scoped>\n",
       "    .dataframe tbody tr th:only-of-type {\n",
       "        vertical-align: middle;\n",
       "    }\n",
       "\n",
       "    .dataframe tbody tr th {\n",
       "        vertical-align: top;\n",
       "    }\n",
       "\n",
       "    .dataframe thead th {\n",
       "        text-align: right;\n",
       "    }\n",
       "</style>\n",
       "<table border=\"1\" class=\"dataframe\">\n",
       "  <thead>\n",
       "    <tr style=\"text-align: right;\">\n",
       "      <th></th>\n",
       "      <th>uu_id</th>\n",
       "      <th>Count</th>\n",
       "    </tr>\n",
       "  </thead>\n",
       "  <tbody>\n",
       "    <tr>\n",
       "      <th>451</th>\n",
       "      <td>d6a4947ec7c2a78bd32ba4e30f3bba53</td>\n",
       "      <td>0</td>\n",
       "    </tr>\n",
       "    <tr>\n",
       "      <th>248</th>\n",
       "      <td>6fbb60a508283bc1fb30c13ac419941a</td>\n",
       "      <td>0</td>\n",
       "    </tr>\n",
       "    <tr>\n",
       "      <th>0</th>\n",
       "      <td>001cd9ae23064d7f0fd3cd327c873d8d</td>\n",
       "      <td>2</td>\n",
       "    </tr>\n",
       "    <tr>\n",
       "      <th>271</th>\n",
       "      <td>7e1a4171a3a5fdf83696d9179174d4cd</td>\n",
       "      <td>2</td>\n",
       "    </tr>\n",
       "    <tr>\n",
       "      <th>111</th>\n",
       "      <td>3934b01a1e31d0a6af96867e1afbf03c</td>\n",
       "      <td>2</td>\n",
       "    </tr>\n",
       "  </tbody>\n",
       "</table>\n",
       "</div>"
      ],
      "text/plain": [
       "                                uu_id  Count\n",
       "451  d6a4947ec7c2a78bd32ba4e30f3bba53      0\n",
       "248  6fbb60a508283bc1fb30c13ac419941a      0\n",
       "0    001cd9ae23064d7f0fd3cd327c873d8d      2\n",
       "271  7e1a4171a3a5fdf83696d9179174d4cd      2\n",
       "111  3934b01a1e31d0a6af96867e1afbf03c      2"
      ]
     },
     "execution_count": 64,
     "metadata": {},
     "output_type": "execute_result"
    }
   ],
   "source": [
    "edu_lvl.head(5)"
   ]
  },
  {
   "cell_type": "markdown",
   "id": "b5d29ff6",
   "metadata": {},
   "source": [
    "Here, I want to combine the education levels into one dataframe. "
   ]
  },
  {
   "cell_type": "code",
   "execution_count": 65,
   "id": "8223b793",
   "metadata": {
    "execution": {
     "iopub.execute_input": "2023-05-10T02:49:52.009816Z",
     "iopub.status.busy": "2023-05-10T02:49:52.009692Z",
     "iopub.status.idle": "2023-05-10T02:49:52.014352Z",
     "shell.execute_reply": "2023-05-10T02:49:52.014091Z"
    }
   },
   "outputs": [
    {
     "data": {
      "text/html": [
       "<div>\n",
       "<style scoped>\n",
       "    .dataframe tbody tr th:only-of-type {\n",
       "        vertical-align: middle;\n",
       "    }\n",
       "\n",
       "    .dataframe tbody tr th {\n",
       "        vertical-align: top;\n",
       "    }\n",
       "\n",
       "    .dataframe thead th {\n",
       "        text-align: right;\n",
       "    }\n",
       "</style>\n",
       "<table border=\"1\" class=\"dataframe\">\n",
       "  <thead>\n",
       "    <tr style=\"text-align: right;\">\n",
       "      <th></th>\n",
       "      <th>uu_id</th>\n",
       "      <th>edu_8th_or_less</th>\n",
       "      <th>edu_grades_9_11</th>\n",
       "      <th>edu_hs_grad_equiv</th>\n",
       "      <th>edu_post_hs</th>\n",
       "      <th>edu_unknown</th>\n",
       "    </tr>\n",
       "  </thead>\n",
       "  <tbody>\n",
       "    <tr>\n",
       "      <th>0</th>\n",
       "      <td>f013068de98db1470bd986137a0c6d23</td>\n",
       "      <td>0</td>\n",
       "      <td>&lt;NA&gt;</td>\n",
       "      <td>14</td>\n",
       "      <td>&lt;NA&gt;</td>\n",
       "      <td>0</td>\n",
       "    </tr>\n",
       "    <tr>\n",
       "      <th>1</th>\n",
       "      <td>21957d5517323845818d87623589e1ba</td>\n",
       "      <td>0</td>\n",
       "      <td>&lt;NA&gt;</td>\n",
       "      <td>108</td>\n",
       "      <td>&lt;NA&gt;</td>\n",
       "      <td>0</td>\n",
       "    </tr>\n",
       "    <tr>\n",
       "      <th>2</th>\n",
       "      <td>6a5609f385912113b6f1014b958ed748</td>\n",
       "      <td>0</td>\n",
       "      <td>&lt;NA&gt;</td>\n",
       "      <td>&lt;NA&gt;</td>\n",
       "      <td>&lt;NA&gt;</td>\n",
       "      <td>0</td>\n",
       "    </tr>\n",
       "    <tr>\n",
       "      <th>3</th>\n",
       "      <td>46b2882ec4c373527ec33f7bd4f1388d</td>\n",
       "      <td>0</td>\n",
       "      <td>&lt;NA&gt;</td>\n",
       "      <td>&lt;NA&gt;</td>\n",
       "      <td>&lt;NA&gt;</td>\n",
       "      <td>&lt;NA&gt;</td>\n",
       "    </tr>\n",
       "    <tr>\n",
       "      <th>4</th>\n",
       "      <td>37495d17e82f7df326bfc2c4c090f7b7</td>\n",
       "      <td>0</td>\n",
       "      <td>&lt;NA&gt;</td>\n",
       "      <td>69</td>\n",
       "      <td>83</td>\n",
       "      <td>&lt;NA&gt;</td>\n",
       "    </tr>\n",
       "  </tbody>\n",
       "</table>\n",
       "</div>"
      ],
      "text/plain": [
       "                              uu_id  edu_8th_or_less  edu_grades_9_11  \\\n",
       "0  f013068de98db1470bd986137a0c6d23                0             <NA>   \n",
       "1  21957d5517323845818d87623589e1ba                0             <NA>   \n",
       "2  6a5609f385912113b6f1014b958ed748                0             <NA>   \n",
       "3  46b2882ec4c373527ec33f7bd4f1388d                0             <NA>   \n",
       "4  37495d17e82f7df326bfc2c4c090f7b7                0             <NA>   \n",
       "\n",
       "   edu_hs_grad_equiv  edu_post_hs  edu_unknown  \n",
       "0                 14         <NA>            0  \n",
       "1                108         <NA>            0  \n",
       "2               <NA>         <NA>            0  \n",
       "3               <NA>         <NA>         <NA>  \n",
       "4                 69           83         <NA>  "
      ]
     },
     "execution_count": 65,
     "metadata": {},
     "output_type": "execute_result"
    }
   ],
   "source": [
    "edu_level = unemployment_data[['uu_id', 'edu_8th_or_less', 'edu_grades_9_11', 'edu_hs_grad_equiv', 'edu_post_hs', 'edu_unknown']]\n",
    "edu_level.head(5)"
   ]
  },
  {
   "cell_type": "code",
   "execution_count": 66,
   "id": "486b029a",
   "metadata": {
    "execution": {
     "iopub.execute_input": "2023-05-10T02:49:52.015789Z",
     "iopub.status.busy": "2023-05-10T02:49:52.015699Z",
     "iopub.status.idle": "2023-05-10T02:49:52.019337Z",
     "shell.execute_reply": "2023-05-10T02:49:52.019085Z"
    }
   },
   "outputs": [],
   "source": [
    "edu_lvl = edu_level.groupby(['uu_id'])['edu_8th_or_less'].count().reset_index(\n",
    "  name='Count').sort_values(['Count'], ascending=True)"
   ]
  },
  {
   "cell_type": "code",
   "execution_count": 67,
   "id": "8d68b0cb",
   "metadata": {
    "execution": {
     "iopub.execute_input": "2023-05-10T02:49:52.020729Z",
     "iopub.status.busy": "2023-05-10T02:49:52.020647Z",
     "iopub.status.idle": "2023-05-10T02:49:52.023880Z",
     "shell.execute_reply": "2023-05-10T02:49:52.023599Z"
    }
   },
   "outputs": [
    {
     "data": {
      "text/html": [
       "<div>\n",
       "<style scoped>\n",
       "    .dataframe tbody tr th:only-of-type {\n",
       "        vertical-align: middle;\n",
       "    }\n",
       "\n",
       "    .dataframe tbody tr th {\n",
       "        vertical-align: top;\n",
       "    }\n",
       "\n",
       "    .dataframe thead th {\n",
       "        text-align: right;\n",
       "    }\n",
       "</style>\n",
       "<table border=\"1\" class=\"dataframe\">\n",
       "  <thead>\n",
       "    <tr style=\"text-align: right;\">\n",
       "      <th></th>\n",
       "      <th>uu_id</th>\n",
       "      <th>Count</th>\n",
       "    </tr>\n",
       "  </thead>\n",
       "  <tbody>\n",
       "    <tr>\n",
       "      <th>451</th>\n",
       "      <td>d6a4947ec7c2a78bd32ba4e30f3bba53</td>\n",
       "      <td>0</td>\n",
       "    </tr>\n",
       "    <tr>\n",
       "      <th>248</th>\n",
       "      <td>6fbb60a508283bc1fb30c13ac419941a</td>\n",
       "      <td>0</td>\n",
       "    </tr>\n",
       "    <tr>\n",
       "      <th>0</th>\n",
       "      <td>001cd9ae23064d7f0fd3cd327c873d8d</td>\n",
       "      <td>2</td>\n",
       "    </tr>\n",
       "    <tr>\n",
       "      <th>271</th>\n",
       "      <td>7e1a4171a3a5fdf83696d9179174d4cd</td>\n",
       "      <td>2</td>\n",
       "    </tr>\n",
       "    <tr>\n",
       "      <th>111</th>\n",
       "      <td>3934b01a1e31d0a6af96867e1afbf03c</td>\n",
       "      <td>2</td>\n",
       "    </tr>\n",
       "    <tr>\n",
       "      <th>66</th>\n",
       "      <td>2420ca4ef50459c0bcc8fdeb8ee35a68</td>\n",
       "      <td>3</td>\n",
       "    </tr>\n",
       "    <tr>\n",
       "      <th>514</th>\n",
       "      <td>f7f087af0599e6b2eaa4045ba1a0be50</td>\n",
       "      <td>3</td>\n",
       "    </tr>\n",
       "    <tr>\n",
       "      <th>100</th>\n",
       "      <td>33f8f477e670b3cac704f4c0faa6e318</td>\n",
       "      <td>3</td>\n",
       "    </tr>\n",
       "    <tr>\n",
       "      <th>252</th>\n",
       "      <td>747f8bc2b0c8c0a04d29caa4cfe327d2</td>\n",
       "      <td>4</td>\n",
       "    </tr>\n",
       "    <tr>\n",
       "      <th>126</th>\n",
       "      <td>420b44cc7e3f55d738df565421e59941</td>\n",
       "      <td>5</td>\n",
       "    </tr>\n",
       "    <tr>\n",
       "      <th>359</th>\n",
       "      <td>adef8f4cb061376c14393d4fb9ab3f89</td>\n",
       "      <td>5</td>\n",
       "    </tr>\n",
       "    <tr>\n",
       "      <th>313</th>\n",
       "      <td>9748c8d4f8762b4636a18fc95cb596a4</td>\n",
       "      <td>5</td>\n",
       "    </tr>\n",
       "    <tr>\n",
       "      <th>104</th>\n",
       "      <td>358cb073759d71d8abe8d6eaf7a3ead5</td>\n",
       "      <td>6</td>\n",
       "    </tr>\n",
       "    <tr>\n",
       "      <th>416</th>\n",
       "      <td>ca479a7052cd4e84391854e800362169</td>\n",
       "      <td>6</td>\n",
       "    </tr>\n",
       "    <tr>\n",
       "      <th>500</th>\n",
       "      <td>f328006c7c2a699678d33c97ed0b5dde</td>\n",
       "      <td>6</td>\n",
       "    </tr>\n",
       "  </tbody>\n",
       "</table>\n",
       "</div>"
      ],
      "text/plain": [
       "                                uu_id  Count\n",
       "451  d6a4947ec7c2a78bd32ba4e30f3bba53      0\n",
       "248  6fbb60a508283bc1fb30c13ac419941a      0\n",
       "0    001cd9ae23064d7f0fd3cd327c873d8d      2\n",
       "271  7e1a4171a3a5fdf83696d9179174d4cd      2\n",
       "111  3934b01a1e31d0a6af96867e1afbf03c      2\n",
       "66   2420ca4ef50459c0bcc8fdeb8ee35a68      3\n",
       "514  f7f087af0599e6b2eaa4045ba1a0be50      3\n",
       "100  33f8f477e670b3cac704f4c0faa6e318      3\n",
       "252  747f8bc2b0c8c0a04d29caa4cfe327d2      4\n",
       "126  420b44cc7e3f55d738df565421e59941      5\n",
       "359  adef8f4cb061376c14393d4fb9ab3f89      5\n",
       "313  9748c8d4f8762b4636a18fc95cb596a4      5\n",
       "104  358cb073759d71d8abe8d6eaf7a3ead5      6\n",
       "416  ca479a7052cd4e84391854e800362169      6\n",
       "500  f328006c7c2a699678d33c97ed0b5dde      6"
      ]
     },
     "execution_count": 67,
     "metadata": {},
     "output_type": "execute_result"
    }
   ],
   "source": [
    "edu_lvl.head(15)"
   ]
  },
  {
   "cell_type": "markdown",
   "id": "b71bdf71",
   "metadata": {},
   "source": [
    "Here, I want to combine the education levels into one dataframe. "
   ]
  },
  {
   "cell_type": "code",
   "execution_count": 68,
   "id": "ebb6c5f6",
   "metadata": {
    "execution": {
     "iopub.execute_input": "2023-05-10T02:49:52.025311Z",
     "iopub.status.busy": "2023-05-10T02:49:52.025231Z",
     "iopub.status.idle": "2023-05-10T02:49:52.029839Z",
     "shell.execute_reply": "2023-05-10T02:49:52.029599Z"
    }
   },
   "outputs": [
    {
     "data": {
      "text/html": [
       "<div>\n",
       "<style scoped>\n",
       "    .dataframe tbody tr th:only-of-type {\n",
       "        vertical-align: middle;\n",
       "    }\n",
       "\n",
       "    .dataframe tbody tr th {\n",
       "        vertical-align: top;\n",
       "    }\n",
       "\n",
       "    .dataframe thead th {\n",
       "        text-align: right;\n",
       "    }\n",
       "</style>\n",
       "<table border=\"1\" class=\"dataframe\">\n",
       "  <thead>\n",
       "    <tr style=\"text-align: right;\">\n",
       "      <th></th>\n",
       "      <th>uu_id</th>\n",
       "      <th>total_claims</th>\n",
       "      <th>edu_8th_or_less</th>\n",
       "      <th>edu_grades_9_11</th>\n",
       "      <th>edu_hs_grad_equiv</th>\n",
       "      <th>edu_post_hs</th>\n",
       "      <th>edu_unknown</th>\n",
       "    </tr>\n",
       "  </thead>\n",
       "  <tbody>\n",
       "    <tr>\n",
       "      <th>0</th>\n",
       "      <td>f013068de98db1470bd986137a0c6d23</td>\n",
       "      <td>22</td>\n",
       "      <td>0</td>\n",
       "      <td>&lt;NA&gt;</td>\n",
       "      <td>14</td>\n",
       "      <td>&lt;NA&gt;</td>\n",
       "      <td>0</td>\n",
       "    </tr>\n",
       "    <tr>\n",
       "      <th>1</th>\n",
       "      <td>21957d5517323845818d87623589e1ba</td>\n",
       "      <td>111</td>\n",
       "      <td>0</td>\n",
       "      <td>&lt;NA&gt;</td>\n",
       "      <td>108</td>\n",
       "      <td>&lt;NA&gt;</td>\n",
       "      <td>0</td>\n",
       "    </tr>\n",
       "    <tr>\n",
       "      <th>2</th>\n",
       "      <td>6a5609f385912113b6f1014b958ed748</td>\n",
       "      <td>39</td>\n",
       "      <td>0</td>\n",
       "      <td>&lt;NA&gt;</td>\n",
       "      <td>&lt;NA&gt;</td>\n",
       "      <td>&lt;NA&gt;</td>\n",
       "      <td>0</td>\n",
       "    </tr>\n",
       "    <tr>\n",
       "      <th>3</th>\n",
       "      <td>46b2882ec4c373527ec33f7bd4f1388d</td>\n",
       "      <td>14</td>\n",
       "      <td>0</td>\n",
       "      <td>&lt;NA&gt;</td>\n",
       "      <td>&lt;NA&gt;</td>\n",
       "      <td>&lt;NA&gt;</td>\n",
       "      <td>&lt;NA&gt;</td>\n",
       "    </tr>\n",
       "    <tr>\n",
       "      <th>4</th>\n",
       "      <td>37495d17e82f7df326bfc2c4c090f7b7</td>\n",
       "      <td>155</td>\n",
       "      <td>0</td>\n",
       "      <td>&lt;NA&gt;</td>\n",
       "      <td>69</td>\n",
       "      <td>83</td>\n",
       "      <td>&lt;NA&gt;</td>\n",
       "    </tr>\n",
       "  </tbody>\n",
       "</table>\n",
       "</div>"
      ],
      "text/plain": [
       "                              uu_id  total_claims  edu_8th_or_less  \\\n",
       "0  f013068de98db1470bd986137a0c6d23            22                0   \n",
       "1  21957d5517323845818d87623589e1ba           111                0   \n",
       "2  6a5609f385912113b6f1014b958ed748            39                0   \n",
       "3  46b2882ec4c373527ec33f7bd4f1388d            14                0   \n",
       "4  37495d17e82f7df326bfc2c4c090f7b7           155                0   \n",
       "\n",
       "   edu_grades_9_11  edu_hs_grad_equiv  edu_post_hs  edu_unknown  \n",
       "0             <NA>                 14         <NA>            0  \n",
       "1             <NA>                108         <NA>            0  \n",
       "2             <NA>               <NA>         <NA>            0  \n",
       "3             <NA>               <NA>         <NA>         <NA>  \n",
       "4             <NA>                 69           83         <NA>  "
      ]
     },
     "execution_count": 68,
     "metadata": {},
     "output_type": "execute_result"
    }
   ],
   "source": [
    "edu_level = unemployment_data[['uu_id', 'total_claims', 'edu_8th_or_less', 'edu_grades_9_11', 'edu_hs_grad_equiv', 'edu_post_hs', 'edu_unknown']]\n",
    "edu_level.head(5)"
   ]
  },
  {
   "cell_type": "code",
   "execution_count": 69,
   "id": "b61a02e6",
   "metadata": {
    "execution": {
     "iopub.execute_input": "2023-05-10T02:49:52.031201Z",
     "iopub.status.busy": "2023-05-10T02:49:52.031113Z",
     "iopub.status.idle": "2023-05-10T02:49:52.034373Z",
     "shell.execute_reply": "2023-05-10T02:49:52.034130Z"
    }
   },
   "outputs": [],
   "source": [
    "edu_lvl = edu_level.groupby(['uu_id'])['edu_8th_or_less'].count().reset_index(\n",
    "  name='Count').sort_values(['Count'], ascending=True)"
   ]
  },
  {
   "cell_type": "code",
   "execution_count": 70,
   "id": "be0c75ea",
   "metadata": {
    "execution": {
     "iopub.execute_input": "2023-05-10T02:49:52.035780Z",
     "iopub.status.busy": "2023-05-10T02:49:52.035695Z",
     "iopub.status.idle": "2023-05-10T02:49:52.038777Z",
     "shell.execute_reply": "2023-05-10T02:49:52.038538Z"
    }
   },
   "outputs": [
    {
     "data": {
      "text/html": [
       "<div>\n",
       "<style scoped>\n",
       "    .dataframe tbody tr th:only-of-type {\n",
       "        vertical-align: middle;\n",
       "    }\n",
       "\n",
       "    .dataframe tbody tr th {\n",
       "        vertical-align: top;\n",
       "    }\n",
       "\n",
       "    .dataframe thead th {\n",
       "        text-align: right;\n",
       "    }\n",
       "</style>\n",
       "<table border=\"1\" class=\"dataframe\">\n",
       "  <thead>\n",
       "    <tr style=\"text-align: right;\">\n",
       "      <th></th>\n",
       "      <th>uu_id</th>\n",
       "      <th>Count</th>\n",
       "    </tr>\n",
       "  </thead>\n",
       "  <tbody>\n",
       "    <tr>\n",
       "      <th>451</th>\n",
       "      <td>d6a4947ec7c2a78bd32ba4e30f3bba53</td>\n",
       "      <td>0</td>\n",
       "    </tr>\n",
       "    <tr>\n",
       "      <th>248</th>\n",
       "      <td>6fbb60a508283bc1fb30c13ac419941a</td>\n",
       "      <td>0</td>\n",
       "    </tr>\n",
       "    <tr>\n",
       "      <th>0</th>\n",
       "      <td>001cd9ae23064d7f0fd3cd327c873d8d</td>\n",
       "      <td>2</td>\n",
       "    </tr>\n",
       "    <tr>\n",
       "      <th>271</th>\n",
       "      <td>7e1a4171a3a5fdf83696d9179174d4cd</td>\n",
       "      <td>2</td>\n",
       "    </tr>\n",
       "    <tr>\n",
       "      <th>111</th>\n",
       "      <td>3934b01a1e31d0a6af96867e1afbf03c</td>\n",
       "      <td>2</td>\n",
       "    </tr>\n",
       "    <tr>\n",
       "      <th>66</th>\n",
       "      <td>2420ca4ef50459c0bcc8fdeb8ee35a68</td>\n",
       "      <td>3</td>\n",
       "    </tr>\n",
       "    <tr>\n",
       "      <th>514</th>\n",
       "      <td>f7f087af0599e6b2eaa4045ba1a0be50</td>\n",
       "      <td>3</td>\n",
       "    </tr>\n",
       "    <tr>\n",
       "      <th>100</th>\n",
       "      <td>33f8f477e670b3cac704f4c0faa6e318</td>\n",
       "      <td>3</td>\n",
       "    </tr>\n",
       "    <tr>\n",
       "      <th>252</th>\n",
       "      <td>747f8bc2b0c8c0a04d29caa4cfe327d2</td>\n",
       "      <td>4</td>\n",
       "    </tr>\n",
       "    <tr>\n",
       "      <th>126</th>\n",
       "      <td>420b44cc7e3f55d738df565421e59941</td>\n",
       "      <td>5</td>\n",
       "    </tr>\n",
       "    <tr>\n",
       "      <th>359</th>\n",
       "      <td>adef8f4cb061376c14393d4fb9ab3f89</td>\n",
       "      <td>5</td>\n",
       "    </tr>\n",
       "    <tr>\n",
       "      <th>313</th>\n",
       "      <td>9748c8d4f8762b4636a18fc95cb596a4</td>\n",
       "      <td>5</td>\n",
       "    </tr>\n",
       "    <tr>\n",
       "      <th>104</th>\n",
       "      <td>358cb073759d71d8abe8d6eaf7a3ead5</td>\n",
       "      <td>6</td>\n",
       "    </tr>\n",
       "    <tr>\n",
       "      <th>416</th>\n",
       "      <td>ca479a7052cd4e84391854e800362169</td>\n",
       "      <td>6</td>\n",
       "    </tr>\n",
       "    <tr>\n",
       "      <th>500</th>\n",
       "      <td>f328006c7c2a699678d33c97ed0b5dde</td>\n",
       "      <td>6</td>\n",
       "    </tr>\n",
       "  </tbody>\n",
       "</table>\n",
       "</div>"
      ],
      "text/plain": [
       "                                uu_id  Count\n",
       "451  d6a4947ec7c2a78bd32ba4e30f3bba53      0\n",
       "248  6fbb60a508283bc1fb30c13ac419941a      0\n",
       "0    001cd9ae23064d7f0fd3cd327c873d8d      2\n",
       "271  7e1a4171a3a5fdf83696d9179174d4cd      2\n",
       "111  3934b01a1e31d0a6af96867e1afbf03c      2\n",
       "66   2420ca4ef50459c0bcc8fdeb8ee35a68      3\n",
       "514  f7f087af0599e6b2eaa4045ba1a0be50      3\n",
       "100  33f8f477e670b3cac704f4c0faa6e318      3\n",
       "252  747f8bc2b0c8c0a04d29caa4cfe327d2      4\n",
       "126  420b44cc7e3f55d738df565421e59941      5\n",
       "359  adef8f4cb061376c14393d4fb9ab3f89      5\n",
       "313  9748c8d4f8762b4636a18fc95cb596a4      5\n",
       "104  358cb073759d71d8abe8d6eaf7a3ead5      6\n",
       "416  ca479a7052cd4e84391854e800362169      6\n",
       "500  f328006c7c2a699678d33c97ed0b5dde      6"
      ]
     },
     "execution_count": 70,
     "metadata": {},
     "output_type": "execute_result"
    }
   ],
   "source": [
    "edu_lvl.head(15)"
   ]
  },
  {
   "cell_type": "markdown",
   "id": "cbcd0029",
   "metadata": {},
   "source": [
    "Here, I want to combine the education levels into one dataframe. "
   ]
  },
  {
   "cell_type": "code",
   "execution_count": 71,
   "id": "b0a3c4e4",
   "metadata": {
    "execution": {
     "iopub.execute_input": "2023-05-10T02:49:52.040510Z",
     "iopub.status.busy": "2023-05-10T02:49:52.040312Z",
     "iopub.status.idle": "2023-05-10T02:49:52.045235Z",
     "shell.execute_reply": "2023-05-10T02:49:52.044973Z"
    }
   },
   "outputs": [
    {
     "data": {
      "text/html": [
       "<div>\n",
       "<style scoped>\n",
       "    .dataframe tbody tr th:only-of-type {\n",
       "        vertical-align: middle;\n",
       "    }\n",
       "\n",
       "    .dataframe tbody tr th {\n",
       "        vertical-align: top;\n",
       "    }\n",
       "\n",
       "    .dataframe thead th {\n",
       "        text-align: right;\n",
       "    }\n",
       "</style>\n",
       "<table border=\"1\" class=\"dataframe\">\n",
       "  <thead>\n",
       "    <tr style=\"text-align: right;\">\n",
       "      <th></th>\n",
       "      <th>uu_id</th>\n",
       "      <th>total_claims</th>\n",
       "      <th>edu_8th_or_less</th>\n",
       "      <th>edu_grades_9_11</th>\n",
       "      <th>edu_hs_grad_equiv</th>\n",
       "      <th>edu_post_hs</th>\n",
       "      <th>edu_unknown</th>\n",
       "    </tr>\n",
       "  </thead>\n",
       "  <tbody>\n",
       "    <tr>\n",
       "      <th>0</th>\n",
       "      <td>f013068de98db1470bd986137a0c6d23</td>\n",
       "      <td>22</td>\n",
       "      <td>0</td>\n",
       "      <td>&lt;NA&gt;</td>\n",
       "      <td>14</td>\n",
       "      <td>&lt;NA&gt;</td>\n",
       "      <td>0</td>\n",
       "    </tr>\n",
       "    <tr>\n",
       "      <th>1</th>\n",
       "      <td>21957d5517323845818d87623589e1ba</td>\n",
       "      <td>111</td>\n",
       "      <td>0</td>\n",
       "      <td>&lt;NA&gt;</td>\n",
       "      <td>108</td>\n",
       "      <td>&lt;NA&gt;</td>\n",
       "      <td>0</td>\n",
       "    </tr>\n",
       "    <tr>\n",
       "      <th>2</th>\n",
       "      <td>6a5609f385912113b6f1014b958ed748</td>\n",
       "      <td>39</td>\n",
       "      <td>0</td>\n",
       "      <td>&lt;NA&gt;</td>\n",
       "      <td>&lt;NA&gt;</td>\n",
       "      <td>&lt;NA&gt;</td>\n",
       "      <td>0</td>\n",
       "    </tr>\n",
       "    <tr>\n",
       "      <th>3</th>\n",
       "      <td>46b2882ec4c373527ec33f7bd4f1388d</td>\n",
       "      <td>14</td>\n",
       "      <td>0</td>\n",
       "      <td>&lt;NA&gt;</td>\n",
       "      <td>&lt;NA&gt;</td>\n",
       "      <td>&lt;NA&gt;</td>\n",
       "      <td>&lt;NA&gt;</td>\n",
       "    </tr>\n",
       "    <tr>\n",
       "      <th>4</th>\n",
       "      <td>37495d17e82f7df326bfc2c4c090f7b7</td>\n",
       "      <td>155</td>\n",
       "      <td>0</td>\n",
       "      <td>&lt;NA&gt;</td>\n",
       "      <td>69</td>\n",
       "      <td>83</td>\n",
       "      <td>&lt;NA&gt;</td>\n",
       "    </tr>\n",
       "  </tbody>\n",
       "</table>\n",
       "</div>"
      ],
      "text/plain": [
       "                              uu_id  total_claims  edu_8th_or_less  \\\n",
       "0  f013068de98db1470bd986137a0c6d23            22                0   \n",
       "1  21957d5517323845818d87623589e1ba           111                0   \n",
       "2  6a5609f385912113b6f1014b958ed748            39                0   \n",
       "3  46b2882ec4c373527ec33f7bd4f1388d            14                0   \n",
       "4  37495d17e82f7df326bfc2c4c090f7b7           155                0   \n",
       "\n",
       "   edu_grades_9_11  edu_hs_grad_equiv  edu_post_hs  edu_unknown  \n",
       "0             <NA>                 14         <NA>            0  \n",
       "1             <NA>                108         <NA>            0  \n",
       "2             <NA>               <NA>         <NA>            0  \n",
       "3             <NA>               <NA>         <NA>         <NA>  \n",
       "4             <NA>                 69           83         <NA>  "
      ]
     },
     "execution_count": 71,
     "metadata": {},
     "output_type": "execute_result"
    }
   ],
   "source": [
    "edu_level = unemployment_data[['uu_id', 'total_claims', 'edu_8th_or_less', 'edu_grades_9_11', 'edu_hs_grad_equiv', 'edu_post_hs', 'edu_unknown']]\n",
    "edu_level.head(5)"
   ]
  },
  {
   "cell_type": "code",
   "execution_count": 72,
   "id": "483351ab",
   "metadata": {
    "execution": {
     "iopub.execute_input": "2023-05-10T02:49:52.046607Z",
     "iopub.status.busy": "2023-05-10T02:49:52.046520Z",
     "iopub.status.idle": "2023-05-10T02:49:52.049772Z",
     "shell.execute_reply": "2023-05-10T02:49:52.049537Z"
    }
   },
   "outputs": [],
   "source": [
    "edu_lvl = edu_level.groupby(['uu_id'])['total_claims'].count().reset_index(\n",
    "  name='Count').sort_values(['Count'], ascending=True)"
   ]
  },
  {
   "cell_type": "code",
   "execution_count": 73,
   "id": "53f9060c",
   "metadata": {
    "execution": {
     "iopub.execute_input": "2023-05-10T02:49:52.051134Z",
     "iopub.status.busy": "2023-05-10T02:49:52.051046Z",
     "iopub.status.idle": "2023-05-10T02:49:52.054160Z",
     "shell.execute_reply": "2023-05-10T02:49:52.053890Z"
    }
   },
   "outputs": [
    {
     "data": {
      "text/html": [
       "<div>\n",
       "<style scoped>\n",
       "    .dataframe tbody tr th:only-of-type {\n",
       "        vertical-align: middle;\n",
       "    }\n",
       "\n",
       "    .dataframe tbody tr th {\n",
       "        vertical-align: top;\n",
       "    }\n",
       "\n",
       "    .dataframe thead th {\n",
       "        text-align: right;\n",
       "    }\n",
       "</style>\n",
       "<table border=\"1\" class=\"dataframe\">\n",
       "  <thead>\n",
       "    <tr style=\"text-align: right;\">\n",
       "      <th></th>\n",
       "      <th>uu_id</th>\n",
       "      <th>Count</th>\n",
       "    </tr>\n",
       "  </thead>\n",
       "  <tbody>\n",
       "    <tr>\n",
       "      <th>514</th>\n",
       "      <td>f7f087af0599e6b2eaa4045ba1a0be50</td>\n",
       "      <td>4</td>\n",
       "    </tr>\n",
       "    <tr>\n",
       "      <th>248</th>\n",
       "      <td>6fbb60a508283bc1fb30c13ac419941a</td>\n",
       "      <td>5</td>\n",
       "    </tr>\n",
       "    <tr>\n",
       "      <th>228</th>\n",
       "      <td>676fffaaecefffe4ce93ca264c5c3c36</td>\n",
       "      <td>6</td>\n",
       "    </tr>\n",
       "    <tr>\n",
       "      <th>252</th>\n",
       "      <td>747f8bc2b0c8c0a04d29caa4cfe327d2</td>\n",
       "      <td>6</td>\n",
       "    </tr>\n",
       "    <tr>\n",
       "      <th>321</th>\n",
       "      <td>99c1cb11273b064dc48649886138eb8e</td>\n",
       "      <td>6</td>\n",
       "    </tr>\n",
       "    <tr>\n",
       "      <th>378</th>\n",
       "      <td>b67c2c4abede3730932f8d53aba0341a</td>\n",
       "      <td>7</td>\n",
       "    </tr>\n",
       "    <tr>\n",
       "      <th>221</th>\n",
       "      <td>65c933853ba6f9ad80097936c2924aa6</td>\n",
       "      <td>8</td>\n",
       "    </tr>\n",
       "    <tr>\n",
       "      <th>111</th>\n",
       "      <td>3934b01a1e31d0a6af96867e1afbf03c</td>\n",
       "      <td>8</td>\n",
       "    </tr>\n",
       "    <tr>\n",
       "      <th>17</th>\n",
       "      <td>0aed17ab54d56c6651d331418e8db6be</td>\n",
       "      <td>8</td>\n",
       "    </tr>\n",
       "    <tr>\n",
       "      <th>126</th>\n",
       "      <td>420b44cc7e3f55d738df565421e59941</td>\n",
       "      <td>8</td>\n",
       "    </tr>\n",
       "    <tr>\n",
       "      <th>377</th>\n",
       "      <td>b63efd0868b06138b7c8f9da9027e457</td>\n",
       "      <td>8</td>\n",
       "    </tr>\n",
       "    <tr>\n",
       "      <th>499</th>\n",
       "      <td>f25446d4d951867ca7b984ad17c6c1e0</td>\n",
       "      <td>9</td>\n",
       "    </tr>\n",
       "    <tr>\n",
       "      <th>68</th>\n",
       "      <td>248b6a72aba270fd9794b41f53813d5e</td>\n",
       "      <td>9</td>\n",
       "    </tr>\n",
       "    <tr>\n",
       "      <th>110</th>\n",
       "      <td>38e264ca88c300dc19938de0abc88ec4</td>\n",
       "      <td>9</td>\n",
       "    </tr>\n",
       "    <tr>\n",
       "      <th>118</th>\n",
       "      <td>3b64b154b842527478b03e19c11e300b</td>\n",
       "      <td>10</td>\n",
       "    </tr>\n",
       "  </tbody>\n",
       "</table>\n",
       "</div>"
      ],
      "text/plain": [
       "                                uu_id  Count\n",
       "514  f7f087af0599e6b2eaa4045ba1a0be50      4\n",
       "248  6fbb60a508283bc1fb30c13ac419941a      5\n",
       "228  676fffaaecefffe4ce93ca264c5c3c36      6\n",
       "252  747f8bc2b0c8c0a04d29caa4cfe327d2      6\n",
       "321  99c1cb11273b064dc48649886138eb8e      6\n",
       "378  b67c2c4abede3730932f8d53aba0341a      7\n",
       "221  65c933853ba6f9ad80097936c2924aa6      8\n",
       "111  3934b01a1e31d0a6af96867e1afbf03c      8\n",
       "17   0aed17ab54d56c6651d331418e8db6be      8\n",
       "126  420b44cc7e3f55d738df565421e59941      8\n",
       "377  b63efd0868b06138b7c8f9da9027e457      8\n",
       "499  f25446d4d951867ca7b984ad17c6c1e0      9\n",
       "68   248b6a72aba270fd9794b41f53813d5e      9\n",
       "110  38e264ca88c300dc19938de0abc88ec4      9\n",
       "118  3b64b154b842527478b03e19c11e300b     10"
      ]
     },
     "execution_count": 73,
     "metadata": {},
     "output_type": "execute_result"
    }
   ],
   "source": [
    "edu_lvl.head(15)"
   ]
  },
  {
   "cell_type": "markdown",
   "id": "8bfd737a",
   "metadata": {},
   "source": [
    "Here, I want to combine the education levels into one dataframe. "
   ]
  },
  {
   "cell_type": "code",
   "execution_count": 74,
   "id": "7bf57315",
   "metadata": {
    "execution": {
     "iopub.execute_input": "2023-05-10T02:49:52.055554Z",
     "iopub.status.busy": "2023-05-10T02:49:52.055474Z",
     "iopub.status.idle": "2023-05-10T02:49:52.059995Z",
     "shell.execute_reply": "2023-05-10T02:49:52.059755Z"
    }
   },
   "outputs": [
    {
     "data": {
      "text/html": [
       "<div>\n",
       "<style scoped>\n",
       "    .dataframe tbody tr th:only-of-type {\n",
       "        vertical-align: middle;\n",
       "    }\n",
       "\n",
       "    .dataframe tbody tr th {\n",
       "        vertical-align: top;\n",
       "    }\n",
       "\n",
       "    .dataframe thead th {\n",
       "        text-align: right;\n",
       "    }\n",
       "</style>\n",
       "<table border=\"1\" class=\"dataframe\">\n",
       "  <thead>\n",
       "    <tr style=\"text-align: right;\">\n",
       "      <th></th>\n",
       "      <th>uu_id</th>\n",
       "      <th>total_claims</th>\n",
       "      <th>edu_8th_or_less</th>\n",
       "      <th>edu_grades_9_11</th>\n",
       "      <th>edu_hs_grad_equiv</th>\n",
       "      <th>edu_post_hs</th>\n",
       "      <th>edu_unknown</th>\n",
       "    </tr>\n",
       "  </thead>\n",
       "  <tbody>\n",
       "    <tr>\n",
       "      <th>0</th>\n",
       "      <td>f013068de98db1470bd986137a0c6d23</td>\n",
       "      <td>22</td>\n",
       "      <td>0</td>\n",
       "      <td>&lt;NA&gt;</td>\n",
       "      <td>14</td>\n",
       "      <td>&lt;NA&gt;</td>\n",
       "      <td>0</td>\n",
       "    </tr>\n",
       "    <tr>\n",
       "      <th>1</th>\n",
       "      <td>21957d5517323845818d87623589e1ba</td>\n",
       "      <td>111</td>\n",
       "      <td>0</td>\n",
       "      <td>&lt;NA&gt;</td>\n",
       "      <td>108</td>\n",
       "      <td>&lt;NA&gt;</td>\n",
       "      <td>0</td>\n",
       "    </tr>\n",
       "    <tr>\n",
       "      <th>2</th>\n",
       "      <td>6a5609f385912113b6f1014b958ed748</td>\n",
       "      <td>39</td>\n",
       "      <td>0</td>\n",
       "      <td>&lt;NA&gt;</td>\n",
       "      <td>&lt;NA&gt;</td>\n",
       "      <td>&lt;NA&gt;</td>\n",
       "      <td>0</td>\n",
       "    </tr>\n",
       "    <tr>\n",
       "      <th>3</th>\n",
       "      <td>46b2882ec4c373527ec33f7bd4f1388d</td>\n",
       "      <td>14</td>\n",
       "      <td>0</td>\n",
       "      <td>&lt;NA&gt;</td>\n",
       "      <td>&lt;NA&gt;</td>\n",
       "      <td>&lt;NA&gt;</td>\n",
       "      <td>&lt;NA&gt;</td>\n",
       "    </tr>\n",
       "    <tr>\n",
       "      <th>4</th>\n",
       "      <td>37495d17e82f7df326bfc2c4c090f7b7</td>\n",
       "      <td>155</td>\n",
       "      <td>0</td>\n",
       "      <td>&lt;NA&gt;</td>\n",
       "      <td>69</td>\n",
       "      <td>83</td>\n",
       "      <td>&lt;NA&gt;</td>\n",
       "    </tr>\n",
       "  </tbody>\n",
       "</table>\n",
       "</div>"
      ],
      "text/plain": [
       "                              uu_id  total_claims  edu_8th_or_less  \\\n",
       "0  f013068de98db1470bd986137a0c6d23            22                0   \n",
       "1  21957d5517323845818d87623589e1ba           111                0   \n",
       "2  6a5609f385912113b6f1014b958ed748            39                0   \n",
       "3  46b2882ec4c373527ec33f7bd4f1388d            14                0   \n",
       "4  37495d17e82f7df326bfc2c4c090f7b7           155                0   \n",
       "\n",
       "   edu_grades_9_11  edu_hs_grad_equiv  edu_post_hs  edu_unknown  \n",
       "0             <NA>                 14         <NA>            0  \n",
       "1             <NA>                108         <NA>            0  \n",
       "2             <NA>               <NA>         <NA>            0  \n",
       "3             <NA>               <NA>         <NA>         <NA>  \n",
       "4             <NA>                 69           83         <NA>  "
      ]
     },
     "execution_count": 74,
     "metadata": {},
     "output_type": "execute_result"
    }
   ],
   "source": [
    "edu_level = unemployment_data[['uu_id', 'total_claims', 'edu_8th_or_less', 'edu_grades_9_11', 'edu_hs_grad_equiv', 'edu_post_hs', 'edu_unknown']]\n",
    "edu_level.head(5)"
   ]
  },
  {
   "cell_type": "code",
   "execution_count": 75,
   "id": "2434eedd",
   "metadata": {
    "execution": {
     "iopub.execute_input": "2023-05-10T02:49:52.061385Z",
     "iopub.status.busy": "2023-05-10T02:49:52.061302Z",
     "iopub.status.idle": "2023-05-10T02:49:52.064008Z",
     "shell.execute_reply": "2023-05-10T02:49:52.063766Z"
    }
   },
   "outputs": [],
   "source": [
    "edu_lvl = edu_level.groupby(['total_claims'])['edu_8th_or_less'].count().reset_index(\n",
    "  name='Count').sort_values(['Count'], ascending=True)"
   ]
  },
  {
   "cell_type": "code",
   "execution_count": 76,
   "id": "ec671d2b",
   "metadata": {
    "execution": {
     "iopub.execute_input": "2023-05-10T02:49:52.065411Z",
     "iopub.status.busy": "2023-05-10T02:49:52.065304Z",
     "iopub.status.idle": "2023-05-10T02:49:52.068390Z",
     "shell.execute_reply": "2023-05-10T02:49:52.068137Z"
    }
   },
   "outputs": [
    {
     "data": {
      "text/html": [
       "<div>\n",
       "<style scoped>\n",
       "    .dataframe tbody tr th:only-of-type {\n",
       "        vertical-align: middle;\n",
       "    }\n",
       "\n",
       "    .dataframe tbody tr th {\n",
       "        vertical-align: top;\n",
       "    }\n",
       "\n",
       "    .dataframe thead th {\n",
       "        text-align: right;\n",
       "    }\n",
       "</style>\n",
       "<table border=\"1\" class=\"dataframe\">\n",
       "  <thead>\n",
       "    <tr style=\"text-align: right;\">\n",
       "      <th></th>\n",
       "      <th>total_claims</th>\n",
       "      <th>Count</th>\n",
       "    </tr>\n",
       "  </thead>\n",
       "  <tbody>\n",
       "    <tr>\n",
       "      <th>110</th>\n",
       "      <td>138</td>\n",
       "      <td>0</td>\n",
       "    </tr>\n",
       "    <tr>\n",
       "      <th>96</th>\n",
       "      <td>110</td>\n",
       "      <td>0</td>\n",
       "    </tr>\n",
       "    <tr>\n",
       "      <th>105</th>\n",
       "      <td>127</td>\n",
       "      <td>0</td>\n",
       "    </tr>\n",
       "    <tr>\n",
       "      <th>106</th>\n",
       "      <td>128</td>\n",
       "      <td>0</td>\n",
       "    </tr>\n",
       "    <tr>\n",
       "      <th>107</th>\n",
       "      <td>132</td>\n",
       "      <td>0</td>\n",
       "    </tr>\n",
       "    <tr>\n",
       "      <th>108</th>\n",
       "      <td>135</td>\n",
       "      <td>0</td>\n",
       "    </tr>\n",
       "    <tr>\n",
       "      <th>101</th>\n",
       "      <td>117</td>\n",
       "      <td>0</td>\n",
       "    </tr>\n",
       "    <tr>\n",
       "      <th>113</th>\n",
       "      <td>143</td>\n",
       "      <td>0</td>\n",
       "    </tr>\n",
       "    <tr>\n",
       "      <th>112</th>\n",
       "      <td>141</td>\n",
       "      <td>0</td>\n",
       "    </tr>\n",
       "    <tr>\n",
       "      <th>94</th>\n",
       "      <td>106</td>\n",
       "      <td>1</td>\n",
       "    </tr>\n",
       "    <tr>\n",
       "      <th>98</th>\n",
       "      <td>112</td>\n",
       "      <td>1</td>\n",
       "    </tr>\n",
       "    <tr>\n",
       "      <th>95</th>\n",
       "      <td>109</td>\n",
       "      <td>1</td>\n",
       "    </tr>\n",
       "    <tr>\n",
       "      <th>93</th>\n",
       "      <td>105</td>\n",
       "      <td>1</td>\n",
       "    </tr>\n",
       "    <tr>\n",
       "      <th>92</th>\n",
       "      <td>103</td>\n",
       "      <td>1</td>\n",
       "    </tr>\n",
       "    <tr>\n",
       "      <th>90</th>\n",
       "      <td>101</td>\n",
       "      <td>1</td>\n",
       "    </tr>\n",
       "  </tbody>\n",
       "</table>\n",
       "</div>"
      ],
      "text/plain": [
       "     total_claims  Count\n",
       "110           138      0\n",
       "96            110      0\n",
       "105           127      0\n",
       "106           128      0\n",
       "107           132      0\n",
       "108           135      0\n",
       "101           117      0\n",
       "113           143      0\n",
       "112           141      0\n",
       "94            106      1\n",
       "98            112      1\n",
       "95            109      1\n",
       "93            105      1\n",
       "92            103      1\n",
       "90            101      1"
      ]
     },
     "execution_count": 76,
     "metadata": {},
     "output_type": "execute_result"
    }
   ],
   "source": [
    "edu_lvl.head(15)"
   ]
  },
  {
   "cell_type": "markdown",
   "id": "0e502765",
   "metadata": {},
   "source": [
    "Here, I want to combine the education levels into one dataframe. "
   ]
  },
  {
   "cell_type": "code",
   "execution_count": 77,
   "id": "8a31db2f",
   "metadata": {
    "execution": {
     "iopub.execute_input": "2023-05-10T02:49:52.069770Z",
     "iopub.status.busy": "2023-05-10T02:49:52.069691Z",
     "iopub.status.idle": "2023-05-10T02:49:52.074048Z",
     "shell.execute_reply": "2023-05-10T02:49:52.073814Z"
    }
   },
   "outputs": [
    {
     "data": {
      "text/html": [
       "<div>\n",
       "<style scoped>\n",
       "    .dataframe tbody tr th:only-of-type {\n",
       "        vertical-align: middle;\n",
       "    }\n",
       "\n",
       "    .dataframe tbody tr th {\n",
       "        vertical-align: top;\n",
       "    }\n",
       "\n",
       "    .dataframe thead th {\n",
       "        text-align: right;\n",
       "    }\n",
       "</style>\n",
       "<table border=\"1\" class=\"dataframe\">\n",
       "  <thead>\n",
       "    <tr style=\"text-align: right;\">\n",
       "      <th></th>\n",
       "      <th>uu_id</th>\n",
       "      <th>total_claims</th>\n",
       "      <th>edu_8th_or_less</th>\n",
       "      <th>edu_grades_9_11</th>\n",
       "      <th>edu_hs_grad_equiv</th>\n",
       "      <th>edu_post_hs</th>\n",
       "      <th>edu_unknown</th>\n",
       "    </tr>\n",
       "  </thead>\n",
       "  <tbody>\n",
       "    <tr>\n",
       "      <th>0</th>\n",
       "      <td>f013068de98db1470bd986137a0c6d23</td>\n",
       "      <td>22</td>\n",
       "      <td>0</td>\n",
       "      <td>&lt;NA&gt;</td>\n",
       "      <td>14</td>\n",
       "      <td>&lt;NA&gt;</td>\n",
       "      <td>0</td>\n",
       "    </tr>\n",
       "    <tr>\n",
       "      <th>1</th>\n",
       "      <td>21957d5517323845818d87623589e1ba</td>\n",
       "      <td>111</td>\n",
       "      <td>0</td>\n",
       "      <td>&lt;NA&gt;</td>\n",
       "      <td>108</td>\n",
       "      <td>&lt;NA&gt;</td>\n",
       "      <td>0</td>\n",
       "    </tr>\n",
       "    <tr>\n",
       "      <th>2</th>\n",
       "      <td>6a5609f385912113b6f1014b958ed748</td>\n",
       "      <td>39</td>\n",
       "      <td>0</td>\n",
       "      <td>&lt;NA&gt;</td>\n",
       "      <td>&lt;NA&gt;</td>\n",
       "      <td>&lt;NA&gt;</td>\n",
       "      <td>0</td>\n",
       "    </tr>\n",
       "    <tr>\n",
       "      <th>3</th>\n",
       "      <td>46b2882ec4c373527ec33f7bd4f1388d</td>\n",
       "      <td>14</td>\n",
       "      <td>0</td>\n",
       "      <td>&lt;NA&gt;</td>\n",
       "      <td>&lt;NA&gt;</td>\n",
       "      <td>&lt;NA&gt;</td>\n",
       "      <td>&lt;NA&gt;</td>\n",
       "    </tr>\n",
       "    <tr>\n",
       "      <th>4</th>\n",
       "      <td>37495d17e82f7df326bfc2c4c090f7b7</td>\n",
       "      <td>155</td>\n",
       "      <td>0</td>\n",
       "      <td>&lt;NA&gt;</td>\n",
       "      <td>69</td>\n",
       "      <td>83</td>\n",
       "      <td>&lt;NA&gt;</td>\n",
       "    </tr>\n",
       "  </tbody>\n",
       "</table>\n",
       "</div>"
      ],
      "text/plain": [
       "                              uu_id  total_claims  edu_8th_or_less  \\\n",
       "0  f013068de98db1470bd986137a0c6d23            22                0   \n",
       "1  21957d5517323845818d87623589e1ba           111                0   \n",
       "2  6a5609f385912113b6f1014b958ed748            39                0   \n",
       "3  46b2882ec4c373527ec33f7bd4f1388d            14                0   \n",
       "4  37495d17e82f7df326bfc2c4c090f7b7           155                0   \n",
       "\n",
       "   edu_grades_9_11  edu_hs_grad_equiv  edu_post_hs  edu_unknown  \n",
       "0             <NA>                 14         <NA>            0  \n",
       "1             <NA>                108         <NA>            0  \n",
       "2             <NA>               <NA>         <NA>            0  \n",
       "3             <NA>               <NA>         <NA>         <NA>  \n",
       "4             <NA>                 69           83         <NA>  "
      ]
     },
     "execution_count": 77,
     "metadata": {},
     "output_type": "execute_result"
    }
   ],
   "source": [
    "edu_level = unemployment_data[['uu_id', 'total_claims', 'edu_8th_or_less', 'edu_grades_9_11', 'edu_hs_grad_equiv', 'edu_post_hs', 'edu_unknown']]\n",
    "edu_level.head(5)"
   ]
  },
  {
   "cell_type": "code",
   "execution_count": 78,
   "id": "228ab982",
   "metadata": {
    "execution": {
     "iopub.execute_input": "2023-05-10T02:49:52.075521Z",
     "iopub.status.busy": "2023-05-10T02:49:52.075440Z",
     "iopub.status.idle": "2023-05-10T02:49:52.078301Z",
     "shell.execute_reply": "2023-05-10T02:49:52.078051Z"
    }
   },
   "outputs": [],
   "source": [
    "edu_lvl = edu_level.groupby(['total_claims'])['edu_8th_or_less'].count().reset_index(\n",
    "  name='Count').sort_values(['Count'], ascending=True)"
   ]
  },
  {
   "cell_type": "code",
   "execution_count": 79,
   "id": "8ceabc46",
   "metadata": {
    "execution": {
     "iopub.execute_input": "2023-05-10T02:49:52.079673Z",
     "iopub.status.busy": "2023-05-10T02:49:52.079589Z",
     "iopub.status.idle": "2023-05-10T02:49:52.082562Z",
     "shell.execute_reply": "2023-05-10T02:49:52.082331Z"
    }
   },
   "outputs": [
    {
     "data": {
      "text/html": [
       "<div>\n",
       "<style scoped>\n",
       "    .dataframe tbody tr th:only-of-type {\n",
       "        vertical-align: middle;\n",
       "    }\n",
       "\n",
       "    .dataframe tbody tr th {\n",
       "        vertical-align: top;\n",
       "    }\n",
       "\n",
       "    .dataframe thead th {\n",
       "        text-align: right;\n",
       "    }\n",
       "</style>\n",
       "<table border=\"1\" class=\"dataframe\">\n",
       "  <thead>\n",
       "    <tr style=\"text-align: right;\">\n",
       "      <th></th>\n",
       "      <th>total_claims</th>\n",
       "      <th>Count</th>\n",
       "    </tr>\n",
       "  </thead>\n",
       "  <tbody>\n",
       "    <tr>\n",
       "      <th>110</th>\n",
       "      <td>138</td>\n",
       "      <td>0</td>\n",
       "    </tr>\n",
       "    <tr>\n",
       "      <th>96</th>\n",
       "      <td>110</td>\n",
       "      <td>0</td>\n",
       "    </tr>\n",
       "    <tr>\n",
       "      <th>105</th>\n",
       "      <td>127</td>\n",
       "      <td>0</td>\n",
       "    </tr>\n",
       "    <tr>\n",
       "      <th>106</th>\n",
       "      <td>128</td>\n",
       "      <td>0</td>\n",
       "    </tr>\n",
       "    <tr>\n",
       "      <th>107</th>\n",
       "      <td>132</td>\n",
       "      <td>0</td>\n",
       "    </tr>\n",
       "  </tbody>\n",
       "</table>\n",
       "</div>"
      ],
      "text/plain": [
       "     total_claims  Count\n",
       "110           138      0\n",
       "96            110      0\n",
       "105           127      0\n",
       "106           128      0\n",
       "107           132      0"
      ]
     },
     "execution_count": 79,
     "metadata": {},
     "output_type": "execute_result"
    }
   ],
   "source": [
    "edu_lvl.head()"
   ]
  },
  {
   "cell_type": "markdown",
   "id": "b24ce979",
   "metadata": {},
   "source": [
    "Here, I want to combine the education levels into one dataframe. "
   ]
  },
  {
   "cell_type": "code",
   "execution_count": 80,
   "id": "9cc24a8f",
   "metadata": {
    "execution": {
     "iopub.execute_input": "2023-05-10T02:49:52.083938Z",
     "iopub.status.busy": "2023-05-10T02:49:52.083858Z",
     "iopub.status.idle": "2023-05-10T02:49:52.088183Z",
     "shell.execute_reply": "2023-05-10T02:49:52.087940Z"
    }
   },
   "outputs": [
    {
     "data": {
      "text/html": [
       "<div>\n",
       "<style scoped>\n",
       "    .dataframe tbody tr th:only-of-type {\n",
       "        vertical-align: middle;\n",
       "    }\n",
       "\n",
       "    .dataframe tbody tr th {\n",
       "        vertical-align: top;\n",
       "    }\n",
       "\n",
       "    .dataframe thead th {\n",
       "        text-align: right;\n",
       "    }\n",
       "</style>\n",
       "<table border=\"1\" class=\"dataframe\">\n",
       "  <thead>\n",
       "    <tr style=\"text-align: right;\">\n",
       "      <th></th>\n",
       "      <th>uu_id</th>\n",
       "      <th>total_claims</th>\n",
       "      <th>edu_8th_or_less</th>\n",
       "      <th>edu_grades_9_11</th>\n",
       "      <th>edu_hs_grad_equiv</th>\n",
       "      <th>edu_post_hs</th>\n",
       "      <th>edu_unknown</th>\n",
       "    </tr>\n",
       "  </thead>\n",
       "  <tbody>\n",
       "    <tr>\n",
       "      <th>0</th>\n",
       "      <td>f013068de98db1470bd986137a0c6d23</td>\n",
       "      <td>22</td>\n",
       "      <td>0</td>\n",
       "      <td>&lt;NA&gt;</td>\n",
       "      <td>14</td>\n",
       "      <td>&lt;NA&gt;</td>\n",
       "      <td>0</td>\n",
       "    </tr>\n",
       "    <tr>\n",
       "      <th>1</th>\n",
       "      <td>21957d5517323845818d87623589e1ba</td>\n",
       "      <td>111</td>\n",
       "      <td>0</td>\n",
       "      <td>&lt;NA&gt;</td>\n",
       "      <td>108</td>\n",
       "      <td>&lt;NA&gt;</td>\n",
       "      <td>0</td>\n",
       "    </tr>\n",
       "    <tr>\n",
       "      <th>2</th>\n",
       "      <td>6a5609f385912113b6f1014b958ed748</td>\n",
       "      <td>39</td>\n",
       "      <td>0</td>\n",
       "      <td>&lt;NA&gt;</td>\n",
       "      <td>&lt;NA&gt;</td>\n",
       "      <td>&lt;NA&gt;</td>\n",
       "      <td>0</td>\n",
       "    </tr>\n",
       "    <tr>\n",
       "      <th>3</th>\n",
       "      <td>46b2882ec4c373527ec33f7bd4f1388d</td>\n",
       "      <td>14</td>\n",
       "      <td>0</td>\n",
       "      <td>&lt;NA&gt;</td>\n",
       "      <td>&lt;NA&gt;</td>\n",
       "      <td>&lt;NA&gt;</td>\n",
       "      <td>&lt;NA&gt;</td>\n",
       "    </tr>\n",
       "    <tr>\n",
       "      <th>4</th>\n",
       "      <td>37495d17e82f7df326bfc2c4c090f7b7</td>\n",
       "      <td>155</td>\n",
       "      <td>0</td>\n",
       "      <td>&lt;NA&gt;</td>\n",
       "      <td>69</td>\n",
       "      <td>83</td>\n",
       "      <td>&lt;NA&gt;</td>\n",
       "    </tr>\n",
       "  </tbody>\n",
       "</table>\n",
       "</div>"
      ],
      "text/plain": [
       "                              uu_id  total_claims  edu_8th_or_less  \\\n",
       "0  f013068de98db1470bd986137a0c6d23            22                0   \n",
       "1  21957d5517323845818d87623589e1ba           111                0   \n",
       "2  6a5609f385912113b6f1014b958ed748            39                0   \n",
       "3  46b2882ec4c373527ec33f7bd4f1388d            14                0   \n",
       "4  37495d17e82f7df326bfc2c4c090f7b7           155                0   \n",
       "\n",
       "   edu_grades_9_11  edu_hs_grad_equiv  edu_post_hs  edu_unknown  \n",
       "0             <NA>                 14         <NA>            0  \n",
       "1             <NA>                108         <NA>            0  \n",
       "2             <NA>               <NA>         <NA>            0  \n",
       "3             <NA>               <NA>         <NA>         <NA>  \n",
       "4             <NA>                 69           83         <NA>  "
      ]
     },
     "execution_count": 80,
     "metadata": {},
     "output_type": "execute_result"
    }
   ],
   "source": [
    "edu_level = unemployment_data[['uu_id', 'total_claims', 'edu_8th_or_less', 'edu_grades_9_11', 'edu_hs_grad_equiv', 'edu_post_hs', 'edu_unknown']]\n",
    "edu_level.head(5)"
   ]
  },
  {
   "cell_type": "code",
   "execution_count": 81,
   "id": "e4363b44",
   "metadata": {
    "execution": {
     "iopub.execute_input": "2023-05-10T02:49:52.089473Z",
     "iopub.status.busy": "2023-05-10T02:49:52.089393Z",
     "iopub.status.idle": "2023-05-10T02:49:52.092149Z",
     "shell.execute_reply": "2023-05-10T02:49:52.091904Z"
    }
   },
   "outputs": [],
   "source": [
    "edu_lvl = edu_level.groupby(['total_claims'])['edu_8th_or_less'].count().reset_index(\n",
    "  name='Count').sort_values(['Count'], ascending=True)"
   ]
  },
  {
   "cell_type": "code",
   "execution_count": 82,
   "id": "4e693dbd",
   "metadata": {
    "execution": {
     "iopub.execute_input": "2023-05-10T02:49:52.093714Z",
     "iopub.status.busy": "2023-05-10T02:49:52.093629Z",
     "iopub.status.idle": "2023-05-10T02:49:52.096780Z",
     "shell.execute_reply": "2023-05-10T02:49:52.096535Z"
    }
   },
   "outputs": [
    {
     "data": {
      "text/html": [
       "<div>\n",
       "<style scoped>\n",
       "    .dataframe tbody tr th:only-of-type {\n",
       "        vertical-align: middle;\n",
       "    }\n",
       "\n",
       "    .dataframe tbody tr th {\n",
       "        vertical-align: top;\n",
       "    }\n",
       "\n",
       "    .dataframe thead th {\n",
       "        text-align: right;\n",
       "    }\n",
       "</style>\n",
       "<table border=\"1\" class=\"dataframe\">\n",
       "  <thead>\n",
       "    <tr style=\"text-align: right;\">\n",
       "      <th></th>\n",
       "      <th>total_claims</th>\n",
       "      <th>Count</th>\n",
       "    </tr>\n",
       "  </thead>\n",
       "  <tbody>\n",
       "    <tr>\n",
       "      <th>110</th>\n",
       "      <td>138</td>\n",
       "      <td>0</td>\n",
       "    </tr>\n",
       "    <tr>\n",
       "      <th>96</th>\n",
       "      <td>110</td>\n",
       "      <td>0</td>\n",
       "    </tr>\n",
       "    <tr>\n",
       "      <th>105</th>\n",
       "      <td>127</td>\n",
       "      <td>0</td>\n",
       "    </tr>\n",
       "    <tr>\n",
       "      <th>106</th>\n",
       "      <td>128</td>\n",
       "      <td>0</td>\n",
       "    </tr>\n",
       "    <tr>\n",
       "      <th>107</th>\n",
       "      <td>132</td>\n",
       "      <td>0</td>\n",
       "    </tr>\n",
       "  </tbody>\n",
       "</table>\n",
       "</div>"
      ],
      "text/plain": [
       "     total_claims  Count\n",
       "110           138      0\n",
       "96            110      0\n",
       "105           127      0\n",
       "106           128      0\n",
       "107           132      0"
      ]
     },
     "execution_count": 82,
     "metadata": {},
     "output_type": "execute_result"
    }
   ],
   "source": [
    "edu_lvl.head()"
   ]
  },
  {
   "cell_type": "markdown",
   "id": "cb8a16ed",
   "metadata": {},
   "source": [
    "Here, I want to combine the education levels into one dataframe. "
   ]
  },
  {
   "cell_type": "code",
   "execution_count": 83,
   "id": "1d2a84bb",
   "metadata": {
    "execution": {
     "iopub.execute_input": "2023-05-10T02:49:52.098152Z",
     "iopub.status.busy": "2023-05-10T02:49:52.098069Z",
     "iopub.status.idle": "2023-05-10T02:49:52.102590Z",
     "shell.execute_reply": "2023-05-10T02:49:52.102362Z"
    }
   },
   "outputs": [
    {
     "data": {
      "text/html": [
       "<div>\n",
       "<style scoped>\n",
       "    .dataframe tbody tr th:only-of-type {\n",
       "        vertical-align: middle;\n",
       "    }\n",
       "\n",
       "    .dataframe tbody tr th {\n",
       "        vertical-align: top;\n",
       "    }\n",
       "\n",
       "    .dataframe thead th {\n",
       "        text-align: right;\n",
       "    }\n",
       "</style>\n",
       "<table border=\"1\" class=\"dataframe\">\n",
       "  <thead>\n",
       "    <tr style=\"text-align: right;\">\n",
       "      <th></th>\n",
       "      <th>uu_id</th>\n",
       "      <th>total_claims</th>\n",
       "      <th>edu_8th_or_less</th>\n",
       "      <th>edu_grades_9_11</th>\n",
       "      <th>edu_hs_grad_equiv</th>\n",
       "      <th>edu_post_hs</th>\n",
       "      <th>edu_unknown</th>\n",
       "    </tr>\n",
       "  </thead>\n",
       "  <tbody>\n",
       "    <tr>\n",
       "      <th>0</th>\n",
       "      <td>f013068de98db1470bd986137a0c6d23</td>\n",
       "      <td>22</td>\n",
       "      <td>0</td>\n",
       "      <td>&lt;NA&gt;</td>\n",
       "      <td>14</td>\n",
       "      <td>&lt;NA&gt;</td>\n",
       "      <td>0</td>\n",
       "    </tr>\n",
       "    <tr>\n",
       "      <th>1</th>\n",
       "      <td>21957d5517323845818d87623589e1ba</td>\n",
       "      <td>111</td>\n",
       "      <td>0</td>\n",
       "      <td>&lt;NA&gt;</td>\n",
       "      <td>108</td>\n",
       "      <td>&lt;NA&gt;</td>\n",
       "      <td>0</td>\n",
       "    </tr>\n",
       "    <tr>\n",
       "      <th>2</th>\n",
       "      <td>6a5609f385912113b6f1014b958ed748</td>\n",
       "      <td>39</td>\n",
       "      <td>0</td>\n",
       "      <td>&lt;NA&gt;</td>\n",
       "      <td>&lt;NA&gt;</td>\n",
       "      <td>&lt;NA&gt;</td>\n",
       "      <td>0</td>\n",
       "    </tr>\n",
       "    <tr>\n",
       "      <th>3</th>\n",
       "      <td>46b2882ec4c373527ec33f7bd4f1388d</td>\n",
       "      <td>14</td>\n",
       "      <td>0</td>\n",
       "      <td>&lt;NA&gt;</td>\n",
       "      <td>&lt;NA&gt;</td>\n",
       "      <td>&lt;NA&gt;</td>\n",
       "      <td>&lt;NA&gt;</td>\n",
       "    </tr>\n",
       "    <tr>\n",
       "      <th>4</th>\n",
       "      <td>37495d17e82f7df326bfc2c4c090f7b7</td>\n",
       "      <td>155</td>\n",
       "      <td>0</td>\n",
       "      <td>&lt;NA&gt;</td>\n",
       "      <td>69</td>\n",
       "      <td>83</td>\n",
       "      <td>&lt;NA&gt;</td>\n",
       "    </tr>\n",
       "  </tbody>\n",
       "</table>\n",
       "</div>"
      ],
      "text/plain": [
       "                              uu_id  total_claims  edu_8th_or_less  \\\n",
       "0  f013068de98db1470bd986137a0c6d23            22                0   \n",
       "1  21957d5517323845818d87623589e1ba           111                0   \n",
       "2  6a5609f385912113b6f1014b958ed748            39                0   \n",
       "3  46b2882ec4c373527ec33f7bd4f1388d            14                0   \n",
       "4  37495d17e82f7df326bfc2c4c090f7b7           155                0   \n",
       "\n",
       "   edu_grades_9_11  edu_hs_grad_equiv  edu_post_hs  edu_unknown  \n",
       "0             <NA>                 14         <NA>            0  \n",
       "1             <NA>                108         <NA>            0  \n",
       "2             <NA>               <NA>         <NA>            0  \n",
       "3             <NA>               <NA>         <NA>         <NA>  \n",
       "4             <NA>                 69           83         <NA>  "
      ]
     },
     "execution_count": 83,
     "metadata": {},
     "output_type": "execute_result"
    }
   ],
   "source": [
    "edu_level = unemployment_data[['uu_id', 'total_claims', 'edu_8th_or_less', 'edu_grades_9_11', 'edu_hs_grad_equiv', 'edu_post_hs', 'edu_unknown']]\n",
    "edu_level.head(5)"
   ]
  },
  {
   "cell_type": "code",
   "execution_count": 84,
   "id": "a5b2b474",
   "metadata": {
    "execution": {
     "iopub.execute_input": "2023-05-10T02:49:52.103943Z",
     "iopub.status.busy": "2023-05-10T02:49:52.103860Z",
     "iopub.status.idle": "2023-05-10T02:49:52.106491Z",
     "shell.execute_reply": "2023-05-10T02:49:52.106262Z"
    }
   },
   "outputs": [],
   "source": [
    "edu_lvl = edu_level.groupby(['total_claims'])['edu_8th_or_less'].count().reset_index(\n",
    "  name='Count').sort_values(['Count'], ascending=True)"
   ]
  },
  {
   "cell_type": "code",
   "execution_count": 85,
   "id": "b37282e9",
   "metadata": {
    "execution": {
     "iopub.execute_input": "2023-05-10T02:49:52.107935Z",
     "iopub.status.busy": "2023-05-10T02:49:52.107850Z",
     "iopub.status.idle": "2023-05-10T02:49:52.110478Z",
     "shell.execute_reply": "2023-05-10T02:49:52.110231Z"
    }
   },
   "outputs": [
    {
     "data": {
      "text/plain": [
       "total_claims    170\n",
       "Count           964\n",
       "dtype: int64"
      ]
     },
     "execution_count": 85,
     "metadata": {},
     "output_type": "execute_result"
    }
   ],
   "source": [
    "edu_lvl.max()"
   ]
  },
  {
   "cell_type": "markdown",
   "id": "5bbb71be",
   "metadata": {},
   "source": [
    "Here, I want to combine the education levels into one dataframe. "
   ]
  },
  {
   "cell_type": "code",
   "execution_count": 86,
   "id": "a1e06b8c",
   "metadata": {
    "execution": {
     "iopub.execute_input": "2023-05-10T02:49:52.111830Z",
     "iopub.status.busy": "2023-05-10T02:49:52.111751Z",
     "iopub.status.idle": "2023-05-10T02:49:52.116717Z",
     "shell.execute_reply": "2023-05-10T02:49:52.116454Z"
    }
   },
   "outputs": [
    {
     "data": {
      "text/html": [
       "<div>\n",
       "<style scoped>\n",
       "    .dataframe tbody tr th:only-of-type {\n",
       "        vertical-align: middle;\n",
       "    }\n",
       "\n",
       "    .dataframe tbody tr th {\n",
       "        vertical-align: top;\n",
       "    }\n",
       "\n",
       "    .dataframe thead th {\n",
       "        text-align: right;\n",
       "    }\n",
       "</style>\n",
       "<table border=\"1\" class=\"dataframe\">\n",
       "  <thead>\n",
       "    <tr style=\"text-align: right;\">\n",
       "      <th></th>\n",
       "      <th>uu_id</th>\n",
       "      <th>total_claims</th>\n",
       "      <th>edu_8th_or_less</th>\n",
       "      <th>edu_grades_9_11</th>\n",
       "      <th>edu_hs_grad_equiv</th>\n",
       "      <th>edu_post_hs</th>\n",
       "      <th>edu_unknown</th>\n",
       "    </tr>\n",
       "  </thead>\n",
       "  <tbody>\n",
       "    <tr>\n",
       "      <th>0</th>\n",
       "      <td>f013068de98db1470bd986137a0c6d23</td>\n",
       "      <td>22</td>\n",
       "      <td>0</td>\n",
       "      <td>&lt;NA&gt;</td>\n",
       "      <td>14</td>\n",
       "      <td>&lt;NA&gt;</td>\n",
       "      <td>0</td>\n",
       "    </tr>\n",
       "    <tr>\n",
       "      <th>1</th>\n",
       "      <td>21957d5517323845818d87623589e1ba</td>\n",
       "      <td>111</td>\n",
       "      <td>0</td>\n",
       "      <td>&lt;NA&gt;</td>\n",
       "      <td>108</td>\n",
       "      <td>&lt;NA&gt;</td>\n",
       "      <td>0</td>\n",
       "    </tr>\n",
       "    <tr>\n",
       "      <th>2</th>\n",
       "      <td>6a5609f385912113b6f1014b958ed748</td>\n",
       "      <td>39</td>\n",
       "      <td>0</td>\n",
       "      <td>&lt;NA&gt;</td>\n",
       "      <td>&lt;NA&gt;</td>\n",
       "      <td>&lt;NA&gt;</td>\n",
       "      <td>0</td>\n",
       "    </tr>\n",
       "    <tr>\n",
       "      <th>3</th>\n",
       "      <td>46b2882ec4c373527ec33f7bd4f1388d</td>\n",
       "      <td>14</td>\n",
       "      <td>0</td>\n",
       "      <td>&lt;NA&gt;</td>\n",
       "      <td>&lt;NA&gt;</td>\n",
       "      <td>&lt;NA&gt;</td>\n",
       "      <td>&lt;NA&gt;</td>\n",
       "    </tr>\n",
       "    <tr>\n",
       "      <th>4</th>\n",
       "      <td>37495d17e82f7df326bfc2c4c090f7b7</td>\n",
       "      <td>155</td>\n",
       "      <td>0</td>\n",
       "      <td>&lt;NA&gt;</td>\n",
       "      <td>69</td>\n",
       "      <td>83</td>\n",
       "      <td>&lt;NA&gt;</td>\n",
       "    </tr>\n",
       "  </tbody>\n",
       "</table>\n",
       "</div>"
      ],
      "text/plain": [
       "                              uu_id  total_claims  edu_8th_or_less  \\\n",
       "0  f013068de98db1470bd986137a0c6d23            22                0   \n",
       "1  21957d5517323845818d87623589e1ba           111                0   \n",
       "2  6a5609f385912113b6f1014b958ed748            39                0   \n",
       "3  46b2882ec4c373527ec33f7bd4f1388d            14                0   \n",
       "4  37495d17e82f7df326bfc2c4c090f7b7           155                0   \n",
       "\n",
       "   edu_grades_9_11  edu_hs_grad_equiv  edu_post_hs  edu_unknown  \n",
       "0             <NA>                 14         <NA>            0  \n",
       "1             <NA>                108         <NA>            0  \n",
       "2             <NA>               <NA>         <NA>            0  \n",
       "3             <NA>               <NA>         <NA>         <NA>  \n",
       "4             <NA>                 69           83         <NA>  "
      ]
     },
     "execution_count": 86,
     "metadata": {},
     "output_type": "execute_result"
    }
   ],
   "source": [
    "edu_level = unemployment_data[['uu_id', 'total_claims', 'edu_8th_or_less', 'edu_grades_9_11', 'edu_hs_grad_equiv', 'edu_post_hs', 'edu_unknown']]\n",
    "edu_level.head(5)"
   ]
  },
  {
   "cell_type": "code",
   "execution_count": 87,
   "id": "211c03c0",
   "metadata": {
    "execution": {
     "iopub.execute_input": "2023-05-10T02:49:52.118146Z",
     "iopub.status.busy": "2023-05-10T02:49:52.118061Z",
     "iopub.status.idle": "2023-05-10T02:49:52.120798Z",
     "shell.execute_reply": "2023-05-10T02:49:52.120525Z"
    }
   },
   "outputs": [],
   "source": [
    "edu_lvl = edu_level.groupby(['total_claims'])['edu_8th_or_less'].count().reset_index(\n",
    "  name='Count').sort_values(['Count'], ascending=True)"
   ]
  },
  {
   "cell_type": "code",
   "execution_count": 88,
   "id": "bc88b8dd",
   "metadata": {
    "execution": {
     "iopub.execute_input": "2023-05-10T02:49:52.122134Z",
     "iopub.status.busy": "2023-05-10T02:49:52.122032Z",
     "iopub.status.idle": "2023-05-10T02:49:52.124503Z",
     "shell.execute_reply": "2023-05-10T02:49:52.124265Z"
    }
   },
   "outputs": [
    {
     "data": {
      "text/plain": [
       "total_claims    10\n",
       "Count            0\n",
       "dtype: int64"
      ]
     },
     "execution_count": 88,
     "metadata": {},
     "output_type": "execute_result"
    }
   ],
   "source": [
    "edu_lvl.min()"
   ]
  },
  {
   "cell_type": "markdown",
   "id": "250a7421",
   "metadata": {},
   "source": [
    "Here, I want to combine the education levels into one dataframe. "
   ]
  },
  {
   "cell_type": "code",
   "execution_count": 89,
   "id": "a0623f7b",
   "metadata": {
    "execution": {
     "iopub.execute_input": "2023-05-10T02:49:52.125906Z",
     "iopub.status.busy": "2023-05-10T02:49:52.125781Z",
     "iopub.status.idle": "2023-05-10T02:49:52.130307Z",
     "shell.execute_reply": "2023-05-10T02:49:52.130069Z"
    }
   },
   "outputs": [
    {
     "data": {
      "text/html": [
       "<div>\n",
       "<style scoped>\n",
       "    .dataframe tbody tr th:only-of-type {\n",
       "        vertical-align: middle;\n",
       "    }\n",
       "\n",
       "    .dataframe tbody tr th {\n",
       "        vertical-align: top;\n",
       "    }\n",
       "\n",
       "    .dataframe thead th {\n",
       "        text-align: right;\n",
       "    }\n",
       "</style>\n",
       "<table border=\"1\" class=\"dataframe\">\n",
       "  <thead>\n",
       "    <tr style=\"text-align: right;\">\n",
       "      <th></th>\n",
       "      <th>uu_id</th>\n",
       "      <th>total_claims</th>\n",
       "      <th>edu_8th_or_less</th>\n",
       "      <th>edu_grades_9_11</th>\n",
       "      <th>edu_hs_grad_equiv</th>\n",
       "      <th>edu_post_hs</th>\n",
       "      <th>edu_unknown</th>\n",
       "    </tr>\n",
       "  </thead>\n",
       "  <tbody>\n",
       "    <tr>\n",
       "      <th>0</th>\n",
       "      <td>f013068de98db1470bd986137a0c6d23</td>\n",
       "      <td>22</td>\n",
       "      <td>0</td>\n",
       "      <td>&lt;NA&gt;</td>\n",
       "      <td>14</td>\n",
       "      <td>&lt;NA&gt;</td>\n",
       "      <td>0</td>\n",
       "    </tr>\n",
       "    <tr>\n",
       "      <th>1</th>\n",
       "      <td>21957d5517323845818d87623589e1ba</td>\n",
       "      <td>111</td>\n",
       "      <td>0</td>\n",
       "      <td>&lt;NA&gt;</td>\n",
       "      <td>108</td>\n",
       "      <td>&lt;NA&gt;</td>\n",
       "      <td>0</td>\n",
       "    </tr>\n",
       "    <tr>\n",
       "      <th>2</th>\n",
       "      <td>6a5609f385912113b6f1014b958ed748</td>\n",
       "      <td>39</td>\n",
       "      <td>0</td>\n",
       "      <td>&lt;NA&gt;</td>\n",
       "      <td>&lt;NA&gt;</td>\n",
       "      <td>&lt;NA&gt;</td>\n",
       "      <td>0</td>\n",
       "    </tr>\n",
       "    <tr>\n",
       "      <th>3</th>\n",
       "      <td>46b2882ec4c373527ec33f7bd4f1388d</td>\n",
       "      <td>14</td>\n",
       "      <td>0</td>\n",
       "      <td>&lt;NA&gt;</td>\n",
       "      <td>&lt;NA&gt;</td>\n",
       "      <td>&lt;NA&gt;</td>\n",
       "      <td>&lt;NA&gt;</td>\n",
       "    </tr>\n",
       "    <tr>\n",
       "      <th>4</th>\n",
       "      <td>37495d17e82f7df326bfc2c4c090f7b7</td>\n",
       "      <td>155</td>\n",
       "      <td>0</td>\n",
       "      <td>&lt;NA&gt;</td>\n",
       "      <td>69</td>\n",
       "      <td>83</td>\n",
       "      <td>&lt;NA&gt;</td>\n",
       "    </tr>\n",
       "  </tbody>\n",
       "</table>\n",
       "</div>"
      ],
      "text/plain": [
       "                              uu_id  total_claims  edu_8th_or_less  \\\n",
       "0  f013068de98db1470bd986137a0c6d23            22                0   \n",
       "1  21957d5517323845818d87623589e1ba           111                0   \n",
       "2  6a5609f385912113b6f1014b958ed748            39                0   \n",
       "3  46b2882ec4c373527ec33f7bd4f1388d            14                0   \n",
       "4  37495d17e82f7df326bfc2c4c090f7b7           155                0   \n",
       "\n",
       "   edu_grades_9_11  edu_hs_grad_equiv  edu_post_hs  edu_unknown  \n",
       "0             <NA>                 14         <NA>            0  \n",
       "1             <NA>                108         <NA>            0  \n",
       "2             <NA>               <NA>         <NA>            0  \n",
       "3             <NA>               <NA>         <NA>         <NA>  \n",
       "4             <NA>                 69           83         <NA>  "
      ]
     },
     "execution_count": 89,
     "metadata": {},
     "output_type": "execute_result"
    }
   ],
   "source": [
    "edu_level = unemployment_data[['uu_id', 'total_claims', 'edu_8th_or_less', 'edu_grades_9_11', 'edu_hs_grad_equiv', 'edu_post_hs', 'edu_unknown']]\n",
    "edu_level.head(5)"
   ]
  },
  {
   "cell_type": "code",
   "execution_count": 90,
   "id": "5813054f",
   "metadata": {
    "execution": {
     "iopub.execute_input": "2023-05-10T02:49:52.131609Z",
     "iopub.status.busy": "2023-05-10T02:49:52.131529Z",
     "iopub.status.idle": "2023-05-10T02:49:52.134212Z",
     "shell.execute_reply": "2023-05-10T02:49:52.133977Z"
    }
   },
   "outputs": [],
   "source": [
    "edu_lvl = edu_level.groupby(['total_claims'])['edu_8th_or_less'].count().reset_index(\n",
    "  name='Count').sort_values(['Count'], ascending=True)"
   ]
  },
  {
   "cell_type": "code",
   "execution_count": 91,
   "id": "19964b9f",
   "metadata": {
    "execution": {
     "iopub.execute_input": "2023-05-10T02:49:52.135492Z",
     "iopub.status.busy": "2023-05-10T02:49:52.135405Z",
     "iopub.status.idle": "2023-05-10T02:49:52.137837Z",
     "shell.execute_reply": "2023-05-10T02:49:52.137616Z"
    }
   },
   "outputs": [
    {
     "data": {
      "text/plain": [
       "total_claims    170\n",
       "Count           964\n",
       "dtype: int64"
      ]
     },
     "execution_count": 91,
     "metadata": {},
     "output_type": "execute_result"
    }
   ],
   "source": [
    "edu_lvl.max()"
   ]
  },
  {
   "cell_type": "markdown",
   "id": "4ecdf379",
   "metadata": {},
   "source": [
    "Here, I want to combine the education levels into one dataframe. "
   ]
  },
  {
   "cell_type": "code",
   "execution_count": 92,
   "id": "1da0d130",
   "metadata": {
    "execution": {
     "iopub.execute_input": "2023-05-10T02:49:52.139132Z",
     "iopub.status.busy": "2023-05-10T02:49:52.139058Z",
     "iopub.status.idle": "2023-05-10T02:49:52.143555Z",
     "shell.execute_reply": "2023-05-10T02:49:52.143268Z"
    }
   },
   "outputs": [
    {
     "data": {
      "text/html": [
       "<div>\n",
       "<style scoped>\n",
       "    .dataframe tbody tr th:only-of-type {\n",
       "        vertical-align: middle;\n",
       "    }\n",
       "\n",
       "    .dataframe tbody tr th {\n",
       "        vertical-align: top;\n",
       "    }\n",
       "\n",
       "    .dataframe thead th {\n",
       "        text-align: right;\n",
       "    }\n",
       "</style>\n",
       "<table border=\"1\" class=\"dataframe\">\n",
       "  <thead>\n",
       "    <tr style=\"text-align: right;\">\n",
       "      <th></th>\n",
       "      <th>uu_id</th>\n",
       "      <th>total_claims</th>\n",
       "      <th>edu_8th_or_less</th>\n",
       "      <th>edu_grades_9_11</th>\n",
       "      <th>edu_hs_grad_equiv</th>\n",
       "      <th>edu_post_hs</th>\n",
       "      <th>edu_unknown</th>\n",
       "    </tr>\n",
       "  </thead>\n",
       "  <tbody>\n",
       "    <tr>\n",
       "      <th>0</th>\n",
       "      <td>f013068de98db1470bd986137a0c6d23</td>\n",
       "      <td>22</td>\n",
       "      <td>0</td>\n",
       "      <td>&lt;NA&gt;</td>\n",
       "      <td>14</td>\n",
       "      <td>&lt;NA&gt;</td>\n",
       "      <td>0</td>\n",
       "    </tr>\n",
       "    <tr>\n",
       "      <th>1</th>\n",
       "      <td>21957d5517323845818d87623589e1ba</td>\n",
       "      <td>111</td>\n",
       "      <td>0</td>\n",
       "      <td>&lt;NA&gt;</td>\n",
       "      <td>108</td>\n",
       "      <td>&lt;NA&gt;</td>\n",
       "      <td>0</td>\n",
       "    </tr>\n",
       "    <tr>\n",
       "      <th>2</th>\n",
       "      <td>6a5609f385912113b6f1014b958ed748</td>\n",
       "      <td>39</td>\n",
       "      <td>0</td>\n",
       "      <td>&lt;NA&gt;</td>\n",
       "      <td>&lt;NA&gt;</td>\n",
       "      <td>&lt;NA&gt;</td>\n",
       "      <td>0</td>\n",
       "    </tr>\n",
       "    <tr>\n",
       "      <th>3</th>\n",
       "      <td>46b2882ec4c373527ec33f7bd4f1388d</td>\n",
       "      <td>14</td>\n",
       "      <td>0</td>\n",
       "      <td>&lt;NA&gt;</td>\n",
       "      <td>&lt;NA&gt;</td>\n",
       "      <td>&lt;NA&gt;</td>\n",
       "      <td>&lt;NA&gt;</td>\n",
       "    </tr>\n",
       "    <tr>\n",
       "      <th>4</th>\n",
       "      <td>37495d17e82f7df326bfc2c4c090f7b7</td>\n",
       "      <td>155</td>\n",
       "      <td>0</td>\n",
       "      <td>&lt;NA&gt;</td>\n",
       "      <td>69</td>\n",
       "      <td>83</td>\n",
       "      <td>&lt;NA&gt;</td>\n",
       "    </tr>\n",
       "  </tbody>\n",
       "</table>\n",
       "</div>"
      ],
      "text/plain": [
       "                              uu_id  total_claims  edu_8th_or_less  \\\n",
       "0  f013068de98db1470bd986137a0c6d23            22                0   \n",
       "1  21957d5517323845818d87623589e1ba           111                0   \n",
       "2  6a5609f385912113b6f1014b958ed748            39                0   \n",
       "3  46b2882ec4c373527ec33f7bd4f1388d            14                0   \n",
       "4  37495d17e82f7df326bfc2c4c090f7b7           155                0   \n",
       "\n",
       "   edu_grades_9_11  edu_hs_grad_equiv  edu_post_hs  edu_unknown  \n",
       "0             <NA>                 14         <NA>            0  \n",
       "1             <NA>                108         <NA>            0  \n",
       "2             <NA>               <NA>         <NA>            0  \n",
       "3             <NA>               <NA>         <NA>         <NA>  \n",
       "4             <NA>                 69           83         <NA>  "
      ]
     },
     "execution_count": 92,
     "metadata": {},
     "output_type": "execute_result"
    }
   ],
   "source": [
    "gender = unemployment_data[['uu_id', 'total_claims', 'gender_female', 'gender_male', 'gender_na']]\n",
    "edu_level.head(5)"
   ]
  },
  {
   "cell_type": "code",
   "execution_count": 93,
   "id": "da4e1ac0",
   "metadata": {
    "execution": {
     "iopub.execute_input": "2023-05-10T02:49:52.144890Z",
     "iopub.status.busy": "2023-05-10T02:49:52.144800Z",
     "iopub.status.idle": "2023-05-10T02:49:52.147467Z",
     "shell.execute_reply": "2023-05-10T02:49:52.147230Z"
    }
   },
   "outputs": [],
   "source": [
    "edu_lvl = edu_level.groupby(['total_claims'])['edu_8th_or_less'].count().reset_index(\n",
    "  name='Count').sort_values(['Count'], ascending=True)"
   ]
  },
  {
   "cell_type": "code",
   "execution_count": 94,
   "id": "e2a1842c",
   "metadata": {
    "execution": {
     "iopub.execute_input": "2023-05-10T02:49:52.148854Z",
     "iopub.status.busy": "2023-05-10T02:49:52.148768Z",
     "iopub.status.idle": "2023-05-10T02:49:52.151279Z",
     "shell.execute_reply": "2023-05-10T02:49:52.151043Z"
    }
   },
   "outputs": [
    {
     "data": {
      "text/plain": [
       "total_claims    170\n",
       "Count           964\n",
       "dtype: int64"
      ]
     },
     "execution_count": 94,
     "metadata": {},
     "output_type": "execute_result"
    }
   ],
   "source": [
    "edu_lvl.max()"
   ]
  },
  {
   "cell_type": "markdown",
   "id": "00d66c4f",
   "metadata": {},
   "source": [
    "Here, I want to combine the education levels into one dataframe. "
   ]
  },
  {
   "cell_type": "code",
   "execution_count": 95,
   "id": "0dedaa82",
   "metadata": {
    "execution": {
     "iopub.execute_input": "2023-05-10T02:49:52.152628Z",
     "iopub.status.busy": "2023-05-10T02:49:52.152546Z",
     "iopub.status.idle": "2023-05-10T02:49:52.156975Z",
     "shell.execute_reply": "2023-05-10T02:49:52.156704Z"
    }
   },
   "outputs": [
    {
     "data": {
      "text/html": [
       "<div>\n",
       "<style scoped>\n",
       "    .dataframe tbody tr th:only-of-type {\n",
       "        vertical-align: middle;\n",
       "    }\n",
       "\n",
       "    .dataframe tbody tr th {\n",
       "        vertical-align: top;\n",
       "    }\n",
       "\n",
       "    .dataframe thead th {\n",
       "        text-align: right;\n",
       "    }\n",
       "</style>\n",
       "<table border=\"1\" class=\"dataframe\">\n",
       "  <thead>\n",
       "    <tr style=\"text-align: right;\">\n",
       "      <th></th>\n",
       "      <th>uu_id</th>\n",
       "      <th>total_claims</th>\n",
       "      <th>edu_8th_or_less</th>\n",
       "      <th>edu_grades_9_11</th>\n",
       "      <th>edu_hs_grad_equiv</th>\n",
       "      <th>edu_post_hs</th>\n",
       "      <th>edu_unknown</th>\n",
       "    </tr>\n",
       "  </thead>\n",
       "  <tbody>\n",
       "    <tr>\n",
       "      <th>0</th>\n",
       "      <td>f013068de98db1470bd986137a0c6d23</td>\n",
       "      <td>22</td>\n",
       "      <td>0</td>\n",
       "      <td>&lt;NA&gt;</td>\n",
       "      <td>14</td>\n",
       "      <td>&lt;NA&gt;</td>\n",
       "      <td>0</td>\n",
       "    </tr>\n",
       "    <tr>\n",
       "      <th>1</th>\n",
       "      <td>21957d5517323845818d87623589e1ba</td>\n",
       "      <td>111</td>\n",
       "      <td>0</td>\n",
       "      <td>&lt;NA&gt;</td>\n",
       "      <td>108</td>\n",
       "      <td>&lt;NA&gt;</td>\n",
       "      <td>0</td>\n",
       "    </tr>\n",
       "    <tr>\n",
       "      <th>2</th>\n",
       "      <td>6a5609f385912113b6f1014b958ed748</td>\n",
       "      <td>39</td>\n",
       "      <td>0</td>\n",
       "      <td>&lt;NA&gt;</td>\n",
       "      <td>&lt;NA&gt;</td>\n",
       "      <td>&lt;NA&gt;</td>\n",
       "      <td>0</td>\n",
       "    </tr>\n",
       "    <tr>\n",
       "      <th>3</th>\n",
       "      <td>46b2882ec4c373527ec33f7bd4f1388d</td>\n",
       "      <td>14</td>\n",
       "      <td>0</td>\n",
       "      <td>&lt;NA&gt;</td>\n",
       "      <td>&lt;NA&gt;</td>\n",
       "      <td>&lt;NA&gt;</td>\n",
       "      <td>&lt;NA&gt;</td>\n",
       "    </tr>\n",
       "    <tr>\n",
       "      <th>4</th>\n",
       "      <td>37495d17e82f7df326bfc2c4c090f7b7</td>\n",
       "      <td>155</td>\n",
       "      <td>0</td>\n",
       "      <td>&lt;NA&gt;</td>\n",
       "      <td>69</td>\n",
       "      <td>83</td>\n",
       "      <td>&lt;NA&gt;</td>\n",
       "    </tr>\n",
       "  </tbody>\n",
       "</table>\n",
       "</div>"
      ],
      "text/plain": [
       "                              uu_id  total_claims  edu_8th_or_less  \\\n",
       "0  f013068de98db1470bd986137a0c6d23            22                0   \n",
       "1  21957d5517323845818d87623589e1ba           111                0   \n",
       "2  6a5609f385912113b6f1014b958ed748            39                0   \n",
       "3  46b2882ec4c373527ec33f7bd4f1388d            14                0   \n",
       "4  37495d17e82f7df326bfc2c4c090f7b7           155                0   \n",
       "\n",
       "   edu_grades_9_11  edu_hs_grad_equiv  edu_post_hs  edu_unknown  \n",
       "0             <NA>                 14         <NA>            0  \n",
       "1             <NA>                108         <NA>            0  \n",
       "2             <NA>               <NA>         <NA>            0  \n",
       "3             <NA>               <NA>         <NA>         <NA>  \n",
       "4             <NA>                 69           83         <NA>  "
      ]
     },
     "execution_count": 95,
     "metadata": {},
     "output_type": "execute_result"
    }
   ],
   "source": [
    "gender = unemployment_data[['uu_id', 'total_claims', 'gender_female', 'gender_male', 'gender_na']]\n",
    "edu_level.head(5)"
   ]
  },
  {
   "cell_type": "code",
   "execution_count": 96,
   "id": "4fa20bb1",
   "metadata": {
    "execution": {
     "iopub.execute_input": "2023-05-10T02:49:52.158396Z",
     "iopub.status.busy": "2023-05-10T02:49:52.158310Z",
     "iopub.status.idle": "2023-05-10T02:49:52.161075Z",
     "shell.execute_reply": "2023-05-10T02:49:52.160835Z"
    }
   },
   "outputs": [],
   "source": [
    "gender = edu_level.groupby(['total_claims'])['edu_8th_or_less'].count().reset_index(\n",
    "  name='Count').sort_values(['Count'], ascending=True)"
   ]
  },
  {
   "cell_type": "code",
   "execution_count": 97,
   "id": "5ef13a32",
   "metadata": {
    "execution": {
     "iopub.execute_input": "2023-05-10T02:49:52.162471Z",
     "iopub.status.busy": "2023-05-10T02:49:52.162362Z",
     "iopub.status.idle": "2023-05-10T02:49:52.164932Z",
     "shell.execute_reply": "2023-05-10T02:49:52.164663Z"
    }
   },
   "outputs": [
    {
     "data": {
      "text/plain": [
       "total_claims    170\n",
       "Count           964\n",
       "dtype: int64"
      ]
     },
     "execution_count": 97,
     "metadata": {},
     "output_type": "execute_result"
    }
   ],
   "source": [
    "gender.max()"
   ]
  },
  {
   "cell_type": "markdown",
   "id": "05568b68",
   "metadata": {},
   "source": [
    "Here, I want to combine the education levels into one dataframe. "
   ]
  },
  {
   "cell_type": "code",
   "execution_count": 98,
   "id": "5f310940",
   "metadata": {
    "execution": {
     "iopub.execute_input": "2023-05-10T02:49:52.166299Z",
     "iopub.status.busy": "2023-05-10T02:49:52.166195Z",
     "iopub.status.idle": "2023-05-10T02:49:52.170546Z",
     "shell.execute_reply": "2023-05-10T02:49:52.170318Z"
    }
   },
   "outputs": [
    {
     "data": {
      "text/html": [
       "<div>\n",
       "<style scoped>\n",
       "    .dataframe tbody tr th:only-of-type {\n",
       "        vertical-align: middle;\n",
       "    }\n",
       "\n",
       "    .dataframe tbody tr th {\n",
       "        vertical-align: top;\n",
       "    }\n",
       "\n",
       "    .dataframe thead th {\n",
       "        text-align: right;\n",
       "    }\n",
       "</style>\n",
       "<table border=\"1\" class=\"dataframe\">\n",
       "  <thead>\n",
       "    <tr style=\"text-align: right;\">\n",
       "      <th></th>\n",
       "      <th>uu_id</th>\n",
       "      <th>total_claims</th>\n",
       "      <th>edu_8th_or_less</th>\n",
       "      <th>edu_grades_9_11</th>\n",
       "      <th>edu_hs_grad_equiv</th>\n",
       "      <th>edu_post_hs</th>\n",
       "      <th>edu_unknown</th>\n",
       "    </tr>\n",
       "  </thead>\n",
       "  <tbody>\n",
       "    <tr>\n",
       "      <th>0</th>\n",
       "      <td>f013068de98db1470bd986137a0c6d23</td>\n",
       "      <td>22</td>\n",
       "      <td>0</td>\n",
       "      <td>&lt;NA&gt;</td>\n",
       "      <td>14</td>\n",
       "      <td>&lt;NA&gt;</td>\n",
       "      <td>0</td>\n",
       "    </tr>\n",
       "    <tr>\n",
       "      <th>1</th>\n",
       "      <td>21957d5517323845818d87623589e1ba</td>\n",
       "      <td>111</td>\n",
       "      <td>0</td>\n",
       "      <td>&lt;NA&gt;</td>\n",
       "      <td>108</td>\n",
       "      <td>&lt;NA&gt;</td>\n",
       "      <td>0</td>\n",
       "    </tr>\n",
       "    <tr>\n",
       "      <th>2</th>\n",
       "      <td>6a5609f385912113b6f1014b958ed748</td>\n",
       "      <td>39</td>\n",
       "      <td>0</td>\n",
       "      <td>&lt;NA&gt;</td>\n",
       "      <td>&lt;NA&gt;</td>\n",
       "      <td>&lt;NA&gt;</td>\n",
       "      <td>0</td>\n",
       "    </tr>\n",
       "    <tr>\n",
       "      <th>3</th>\n",
       "      <td>46b2882ec4c373527ec33f7bd4f1388d</td>\n",
       "      <td>14</td>\n",
       "      <td>0</td>\n",
       "      <td>&lt;NA&gt;</td>\n",
       "      <td>&lt;NA&gt;</td>\n",
       "      <td>&lt;NA&gt;</td>\n",
       "      <td>&lt;NA&gt;</td>\n",
       "    </tr>\n",
       "    <tr>\n",
       "      <th>4</th>\n",
       "      <td>37495d17e82f7df326bfc2c4c090f7b7</td>\n",
       "      <td>155</td>\n",
       "      <td>0</td>\n",
       "      <td>&lt;NA&gt;</td>\n",
       "      <td>69</td>\n",
       "      <td>83</td>\n",
       "      <td>&lt;NA&gt;</td>\n",
       "    </tr>\n",
       "  </tbody>\n",
       "</table>\n",
       "</div>"
      ],
      "text/plain": [
       "                              uu_id  total_claims  edu_8th_or_less  \\\n",
       "0  f013068de98db1470bd986137a0c6d23            22                0   \n",
       "1  21957d5517323845818d87623589e1ba           111                0   \n",
       "2  6a5609f385912113b6f1014b958ed748            39                0   \n",
       "3  46b2882ec4c373527ec33f7bd4f1388d            14                0   \n",
       "4  37495d17e82f7df326bfc2c4c090f7b7           155                0   \n",
       "\n",
       "   edu_grades_9_11  edu_hs_grad_equiv  edu_post_hs  edu_unknown  \n",
       "0             <NA>                 14         <NA>            0  \n",
       "1             <NA>                108         <NA>            0  \n",
       "2             <NA>               <NA>         <NA>            0  \n",
       "3             <NA>               <NA>         <NA>         <NA>  \n",
       "4             <NA>                 69           83         <NA>  "
      ]
     },
     "execution_count": 98,
     "metadata": {},
     "output_type": "execute_result"
    }
   ],
   "source": [
    "gender = unemployment_data[['uu_id', 'total_claims', 'gender_female', 'gender_male', 'gender_na']]\n",
    "edu_level.head(5)"
   ]
  },
  {
   "cell_type": "code",
   "execution_count": 99,
   "id": "676baa33",
   "metadata": {
    "execution": {
     "iopub.execute_input": "2023-05-10T02:49:52.171857Z",
     "iopub.status.busy": "2023-05-10T02:49:52.171779Z",
     "iopub.status.idle": "2023-05-10T02:49:52.174491Z",
     "shell.execute_reply": "2023-05-10T02:49:52.174256Z"
    }
   },
   "outputs": [],
   "source": [
    "gender = edu_level.groupby(['total_claims'])['edu_8th_or_less'].count().reset_index(\n",
    "  name='Count').sort_values(['Count'], ascending=True)"
   ]
  },
  {
   "cell_type": "code",
   "execution_count": 100,
   "id": "e77529d0",
   "metadata": {
    "execution": {
     "iopub.execute_input": "2023-05-10T02:49:52.175991Z",
     "iopub.status.busy": "2023-05-10T02:49:52.175892Z",
     "iopub.status.idle": "2023-05-10T02:49:52.178970Z",
     "shell.execute_reply": "2023-05-10T02:49:52.178701Z"
    }
   },
   "outputs": [
    {
     "data": {
      "text/html": [
       "<div>\n",
       "<style scoped>\n",
       "    .dataframe tbody tr th:only-of-type {\n",
       "        vertical-align: middle;\n",
       "    }\n",
       "\n",
       "    .dataframe tbody tr th {\n",
       "        vertical-align: top;\n",
       "    }\n",
       "\n",
       "    .dataframe thead th {\n",
       "        text-align: right;\n",
       "    }\n",
       "</style>\n",
       "<table border=\"1\" class=\"dataframe\">\n",
       "  <thead>\n",
       "    <tr style=\"text-align: right;\">\n",
       "      <th></th>\n",
       "      <th>total_claims</th>\n",
       "      <th>Count</th>\n",
       "    </tr>\n",
       "  </thead>\n",
       "  <tbody>\n",
       "    <tr>\n",
       "      <th>110</th>\n",
       "      <td>138</td>\n",
       "      <td>0</td>\n",
       "    </tr>\n",
       "    <tr>\n",
       "      <th>96</th>\n",
       "      <td>110</td>\n",
       "      <td>0</td>\n",
       "    </tr>\n",
       "    <tr>\n",
       "      <th>105</th>\n",
       "      <td>127</td>\n",
       "      <td>0</td>\n",
       "    </tr>\n",
       "    <tr>\n",
       "      <th>106</th>\n",
       "      <td>128</td>\n",
       "      <td>0</td>\n",
       "    </tr>\n",
       "    <tr>\n",
       "      <th>107</th>\n",
       "      <td>132</td>\n",
       "      <td>0</td>\n",
       "    </tr>\n",
       "  </tbody>\n",
       "</table>\n",
       "</div>"
      ],
      "text/plain": [
       "     total_claims  Count\n",
       "110           138      0\n",
       "96            110      0\n",
       "105           127      0\n",
       "106           128      0\n",
       "107           132      0"
      ]
     },
     "execution_count": 100,
     "metadata": {},
     "output_type": "execute_result"
    }
   ],
   "source": [
    "gender.head()"
   ]
  },
  {
   "cell_type": "markdown",
   "id": "a4e505d4",
   "metadata": {},
   "source": [
    "Here, I want to combine the education levels into one dataframe. "
   ]
  },
  {
   "cell_type": "code",
   "execution_count": 101,
   "id": "8297658e",
   "metadata": {
    "execution": {
     "iopub.execute_input": "2023-05-10T02:49:52.180263Z",
     "iopub.status.busy": "2023-05-10T02:49:52.180184Z",
     "iopub.status.idle": "2023-05-10T02:49:52.184586Z",
     "shell.execute_reply": "2023-05-10T02:49:52.184335Z"
    }
   },
   "outputs": [
    {
     "data": {
      "text/html": [
       "<div>\n",
       "<style scoped>\n",
       "    .dataframe tbody tr th:only-of-type {\n",
       "        vertical-align: middle;\n",
       "    }\n",
       "\n",
       "    .dataframe tbody tr th {\n",
       "        vertical-align: top;\n",
       "    }\n",
       "\n",
       "    .dataframe thead th {\n",
       "        text-align: right;\n",
       "    }\n",
       "</style>\n",
       "<table border=\"1\" class=\"dataframe\">\n",
       "  <thead>\n",
       "    <tr style=\"text-align: right;\">\n",
       "      <th></th>\n",
       "      <th>uu_id</th>\n",
       "      <th>total_claims</th>\n",
       "      <th>edu_8th_or_less</th>\n",
       "      <th>edu_grades_9_11</th>\n",
       "      <th>edu_hs_grad_equiv</th>\n",
       "      <th>edu_post_hs</th>\n",
       "      <th>edu_unknown</th>\n",
       "    </tr>\n",
       "  </thead>\n",
       "  <tbody>\n",
       "    <tr>\n",
       "      <th>0</th>\n",
       "      <td>f013068de98db1470bd986137a0c6d23</td>\n",
       "      <td>22</td>\n",
       "      <td>0</td>\n",
       "      <td>&lt;NA&gt;</td>\n",
       "      <td>14</td>\n",
       "      <td>&lt;NA&gt;</td>\n",
       "      <td>0</td>\n",
       "    </tr>\n",
       "    <tr>\n",
       "      <th>1</th>\n",
       "      <td>21957d5517323845818d87623589e1ba</td>\n",
       "      <td>111</td>\n",
       "      <td>0</td>\n",
       "      <td>&lt;NA&gt;</td>\n",
       "      <td>108</td>\n",
       "      <td>&lt;NA&gt;</td>\n",
       "      <td>0</td>\n",
       "    </tr>\n",
       "    <tr>\n",
       "      <th>2</th>\n",
       "      <td>6a5609f385912113b6f1014b958ed748</td>\n",
       "      <td>39</td>\n",
       "      <td>0</td>\n",
       "      <td>&lt;NA&gt;</td>\n",
       "      <td>&lt;NA&gt;</td>\n",
       "      <td>&lt;NA&gt;</td>\n",
       "      <td>0</td>\n",
       "    </tr>\n",
       "    <tr>\n",
       "      <th>3</th>\n",
       "      <td>46b2882ec4c373527ec33f7bd4f1388d</td>\n",
       "      <td>14</td>\n",
       "      <td>0</td>\n",
       "      <td>&lt;NA&gt;</td>\n",
       "      <td>&lt;NA&gt;</td>\n",
       "      <td>&lt;NA&gt;</td>\n",
       "      <td>&lt;NA&gt;</td>\n",
       "    </tr>\n",
       "    <tr>\n",
       "      <th>4</th>\n",
       "      <td>37495d17e82f7df326bfc2c4c090f7b7</td>\n",
       "      <td>155</td>\n",
       "      <td>0</td>\n",
       "      <td>&lt;NA&gt;</td>\n",
       "      <td>69</td>\n",
       "      <td>83</td>\n",
       "      <td>&lt;NA&gt;</td>\n",
       "    </tr>\n",
       "  </tbody>\n",
       "</table>\n",
       "</div>"
      ],
      "text/plain": [
       "                              uu_id  total_claims  edu_8th_or_less  \\\n",
       "0  f013068de98db1470bd986137a0c6d23            22                0   \n",
       "1  21957d5517323845818d87623589e1ba           111                0   \n",
       "2  6a5609f385912113b6f1014b958ed748            39                0   \n",
       "3  46b2882ec4c373527ec33f7bd4f1388d            14                0   \n",
       "4  37495d17e82f7df326bfc2c4c090f7b7           155                0   \n",
       "\n",
       "   edu_grades_9_11  edu_hs_grad_equiv  edu_post_hs  edu_unknown  \n",
       "0             <NA>                 14         <NA>            0  \n",
       "1             <NA>                108         <NA>            0  \n",
       "2             <NA>               <NA>         <NA>            0  \n",
       "3             <NA>               <NA>         <NA>         <NA>  \n",
       "4             <NA>                 69           83         <NA>  "
      ]
     },
     "execution_count": 101,
     "metadata": {},
     "output_type": "execute_result"
    }
   ],
   "source": [
    "gender = unemployment_data[['uu_id', 'total_claims', 'gender_female', 'gender_male', 'gender_na']]\n",
    "edu_level.head(5)"
   ]
  },
  {
   "cell_type": "code",
   "execution_count": 102,
   "id": "782e4bb4",
   "metadata": {
    "execution": {
     "iopub.execute_input": "2023-05-10T02:49:52.185904Z",
     "iopub.status.busy": "2023-05-10T02:49:52.185824Z",
     "iopub.status.idle": "2023-05-10T02:49:52.261980Z",
     "shell.execute_reply": "2023-05-10T02:49:52.261719Z"
    }
   },
   "outputs": [
    {
     "ename": "KeyError",
     "evalue": "'Column not found: gender_female'",
     "output_type": "error",
     "traceback": [
      "\u001b[0;31m---------------------------------------------------------------------------\u001b[0m",
      "\u001b[0;31mKeyError\u001b[0m                                  Traceback (most recent call last)",
      "Cell \u001b[0;32mIn [102], line 1\u001b[0m\n\u001b[0;32m----> 1\u001b[0m gender \u001b[38;5;241m=\u001b[39m \u001b[43medu_level\u001b[49m\u001b[38;5;241;43m.\u001b[39;49m\u001b[43mgroupby\u001b[49m\u001b[43m(\u001b[49m\u001b[43m[\u001b[49m\u001b[38;5;124;43m'\u001b[39;49m\u001b[38;5;124;43mtotal_claims\u001b[39;49m\u001b[38;5;124;43m'\u001b[39;49m\u001b[43m]\u001b[49m\u001b[43m)\u001b[49m\u001b[43m[\u001b[49m\u001b[38;5;124;43m'\u001b[39;49m\u001b[38;5;124;43mgender_female\u001b[39;49m\u001b[38;5;124;43m'\u001b[39;49m\u001b[43m]\u001b[49m\u001b[38;5;241m.\u001b[39mcount()\u001b[38;5;241m.\u001b[39mreset_index(\n\u001b[1;32m      2\u001b[0m   name\u001b[38;5;241m=\u001b[39m\u001b[38;5;124m'\u001b[39m\u001b[38;5;124mCount\u001b[39m\u001b[38;5;124m'\u001b[39m)\u001b[38;5;241m.\u001b[39msort_values([\u001b[38;5;124m'\u001b[39m\u001b[38;5;124mCount\u001b[39m\u001b[38;5;124m'\u001b[39m], ascending\u001b[38;5;241m=\u001b[39m\u001b[38;5;28;01mTrue\u001b[39;00m)\n",
      "File \u001b[0;32m/opt/homebrew/lib/python3.9/site-packages/pandas/core/groupby/generic.py:1415\u001b[0m, in \u001b[0;36mDataFrameGroupBy.__getitem__\u001b[0;34m(self, key)\u001b[0m\n\u001b[1;32m   1406\u001b[0m \u001b[38;5;28;01mif\u001b[39;00m \u001b[38;5;28misinstance\u001b[39m(key, \u001b[38;5;28mtuple\u001b[39m) \u001b[38;5;129;01mand\u001b[39;00m \u001b[38;5;28mlen\u001b[39m(key) \u001b[38;5;241m>\u001b[39m \u001b[38;5;241m1\u001b[39m:\n\u001b[1;32m   1407\u001b[0m     \u001b[38;5;66;03m# if len == 1, then it becomes a SeriesGroupBy and this is actually\u001b[39;00m\n\u001b[1;32m   1408\u001b[0m     \u001b[38;5;66;03m# valid syntax, so don't raise warning\u001b[39;00m\n\u001b[1;32m   1409\u001b[0m     warnings\u001b[38;5;241m.\u001b[39mwarn(\n\u001b[1;32m   1410\u001b[0m         \u001b[38;5;124m\"\u001b[39m\u001b[38;5;124mIndexing with multiple keys (implicitly converted to a tuple \u001b[39m\u001b[38;5;124m\"\u001b[39m\n\u001b[1;32m   1411\u001b[0m         \u001b[38;5;124m\"\u001b[39m\u001b[38;5;124mof keys) will be deprecated, use a list instead.\u001b[39m\u001b[38;5;124m\"\u001b[39m,\n\u001b[1;32m   1412\u001b[0m         \u001b[38;5;167;01mFutureWarning\u001b[39;00m,\n\u001b[1;32m   1413\u001b[0m         stacklevel\u001b[38;5;241m=\u001b[39mfind_stack_level(),\n\u001b[1;32m   1414\u001b[0m     )\n\u001b[0;32m-> 1415\u001b[0m \u001b[38;5;28;01mreturn\u001b[39;00m \u001b[38;5;28;43msuper\u001b[39;49m\u001b[43m(\u001b[49m\u001b[43m)\u001b[49m\u001b[38;5;241;43m.\u001b[39;49m\u001b[38;5;21;43m__getitem__\u001b[39;49m\u001b[43m(\u001b[49m\u001b[43mkey\u001b[49m\u001b[43m)\u001b[49m\n",
      "File \u001b[0;32m/opt/homebrew/lib/python3.9/site-packages/pandas/core/base.py:248\u001b[0m, in \u001b[0;36mSelectionMixin.__getitem__\u001b[0;34m(self, key)\u001b[0m\n\u001b[1;32m    246\u001b[0m \u001b[38;5;28;01melse\u001b[39;00m:\n\u001b[1;32m    247\u001b[0m     \u001b[38;5;28;01mif\u001b[39;00m key \u001b[38;5;129;01mnot\u001b[39;00m \u001b[38;5;129;01min\u001b[39;00m \u001b[38;5;28mself\u001b[39m\u001b[38;5;241m.\u001b[39mobj:\n\u001b[0;32m--> 248\u001b[0m         \u001b[38;5;28;01mraise\u001b[39;00m \u001b[38;5;167;01mKeyError\u001b[39;00m(\u001b[38;5;124mf\u001b[39m\u001b[38;5;124m\"\u001b[39m\u001b[38;5;124mColumn not found: \u001b[39m\u001b[38;5;132;01m{\u001b[39;00mkey\u001b[38;5;132;01m}\u001b[39;00m\u001b[38;5;124m\"\u001b[39m)\n\u001b[1;32m    249\u001b[0m     subset \u001b[38;5;241m=\u001b[39m \u001b[38;5;28mself\u001b[39m\u001b[38;5;241m.\u001b[39mobj[key]\n\u001b[1;32m    250\u001b[0m     ndim \u001b[38;5;241m=\u001b[39m subset\u001b[38;5;241m.\u001b[39mndim\n",
      "\u001b[0;31mKeyError\u001b[0m: 'Column not found: gender_female'"
     ]
    }
   ],
   "source": [
    "gender = edu_level.groupby(['total_claims'])['gender_female'].count().reset_index(\n",
    "  name='Count').sort_values(['Count'], ascending=True)"
   ]
  },
  {
   "cell_type": "code",
   "execution_count": 103,
   "id": "9ded4814",
   "metadata": {
    "execution": {
     "iopub.execute_input": "2023-05-10T02:49:52.263465Z",
     "iopub.status.busy": "2023-05-10T02:49:52.263371Z",
     "iopub.status.idle": "2023-05-10T02:49:52.267261Z",
     "shell.execute_reply": "2023-05-10T02:49:52.266996Z"
    }
   },
   "outputs": [
    {
     "data": {
      "text/html": [
       "<div>\n",
       "<style scoped>\n",
       "    .dataframe tbody tr th:only-of-type {\n",
       "        vertical-align: middle;\n",
       "    }\n",
       "\n",
       "    .dataframe tbody tr th {\n",
       "        vertical-align: top;\n",
       "    }\n",
       "\n",
       "    .dataframe thead th {\n",
       "        text-align: right;\n",
       "    }\n",
       "</style>\n",
       "<table border=\"1\" class=\"dataframe\">\n",
       "  <thead>\n",
       "    <tr style=\"text-align: right;\">\n",
       "      <th></th>\n",
       "      <th>uu_id</th>\n",
       "      <th>total_claims</th>\n",
       "      <th>gender_female</th>\n",
       "      <th>gender_male</th>\n",
       "      <th>gender_na</th>\n",
       "    </tr>\n",
       "  </thead>\n",
       "  <tbody>\n",
       "    <tr>\n",
       "      <th>0</th>\n",
       "      <td>f013068de98db1470bd986137a0c6d23</td>\n",
       "      <td>22</td>\n",
       "      <td>&lt;NA&gt;</td>\n",
       "      <td>&lt;NA&gt;</td>\n",
       "      <td>0</td>\n",
       "    </tr>\n",
       "    <tr>\n",
       "      <th>1</th>\n",
       "      <td>21957d5517323845818d87623589e1ba</td>\n",
       "      <td>111</td>\n",
       "      <td>76</td>\n",
       "      <td>35</td>\n",
       "      <td>0</td>\n",
       "    </tr>\n",
       "    <tr>\n",
       "      <th>2</th>\n",
       "      <td>6a5609f385912113b6f1014b958ed748</td>\n",
       "      <td>39</td>\n",
       "      <td>&lt;NA&gt;</td>\n",
       "      <td>&lt;NA&gt;</td>\n",
       "      <td>0</td>\n",
       "    </tr>\n",
       "    <tr>\n",
       "      <th>3</th>\n",
       "      <td>46b2882ec4c373527ec33f7bd4f1388d</td>\n",
       "      <td>14</td>\n",
       "      <td>&lt;NA&gt;</td>\n",
       "      <td>&lt;NA&gt;</td>\n",
       "      <td>0</td>\n",
       "    </tr>\n",
       "    <tr>\n",
       "      <th>4</th>\n",
       "      <td>37495d17e82f7df326bfc2c4c090f7b7</td>\n",
       "      <td>155</td>\n",
       "      <td>90</td>\n",
       "      <td>65</td>\n",
       "      <td>0</td>\n",
       "    </tr>\n",
       "  </tbody>\n",
       "</table>\n",
       "</div>"
      ],
      "text/plain": [
       "                              uu_id  total_claims  gender_female  gender_male  \\\n",
       "0  f013068de98db1470bd986137a0c6d23            22           <NA>         <NA>   \n",
       "1  21957d5517323845818d87623589e1ba           111             76           35   \n",
       "2  6a5609f385912113b6f1014b958ed748            39           <NA>         <NA>   \n",
       "3  46b2882ec4c373527ec33f7bd4f1388d            14           <NA>         <NA>   \n",
       "4  37495d17e82f7df326bfc2c4c090f7b7           155             90           65   \n",
       "\n",
       "   gender_na  \n",
       "0          0  \n",
       "1          0  \n",
       "2          0  \n",
       "3          0  \n",
       "4          0  "
      ]
     },
     "execution_count": 103,
     "metadata": {},
     "output_type": "execute_result"
    }
   ],
   "source": [
    "gender.head()"
   ]
  },
  {
   "cell_type": "markdown",
   "id": "674b2fe9",
   "metadata": {},
   "source": [
    "Here, I want to combine the education levels into one dataframe. "
   ]
  },
  {
   "cell_type": "code",
   "execution_count": 104,
   "id": "0007b2e6",
   "metadata": {
    "execution": {
     "iopub.execute_input": "2023-05-10T02:49:52.268572Z",
     "iopub.status.busy": "2023-05-10T02:49:52.268488Z",
     "iopub.status.idle": "2023-05-10T02:49:52.273030Z",
     "shell.execute_reply": "2023-05-10T02:49:52.272772Z"
    }
   },
   "outputs": [
    {
     "data": {
      "text/html": [
       "<div>\n",
       "<style scoped>\n",
       "    .dataframe tbody tr th:only-of-type {\n",
       "        vertical-align: middle;\n",
       "    }\n",
       "\n",
       "    .dataframe tbody tr th {\n",
       "        vertical-align: top;\n",
       "    }\n",
       "\n",
       "    .dataframe thead th {\n",
       "        text-align: right;\n",
       "    }\n",
       "</style>\n",
       "<table border=\"1\" class=\"dataframe\">\n",
       "  <thead>\n",
       "    <tr style=\"text-align: right;\">\n",
       "      <th></th>\n",
       "      <th>uu_id</th>\n",
       "      <th>total_claims</th>\n",
       "      <th>edu_8th_or_less</th>\n",
       "      <th>edu_grades_9_11</th>\n",
       "      <th>edu_hs_grad_equiv</th>\n",
       "      <th>edu_post_hs</th>\n",
       "      <th>edu_unknown</th>\n",
       "    </tr>\n",
       "  </thead>\n",
       "  <tbody>\n",
       "    <tr>\n",
       "      <th>0</th>\n",
       "      <td>f013068de98db1470bd986137a0c6d23</td>\n",
       "      <td>22</td>\n",
       "      <td>0</td>\n",
       "      <td>&lt;NA&gt;</td>\n",
       "      <td>14</td>\n",
       "      <td>&lt;NA&gt;</td>\n",
       "      <td>0</td>\n",
       "    </tr>\n",
       "    <tr>\n",
       "      <th>1</th>\n",
       "      <td>21957d5517323845818d87623589e1ba</td>\n",
       "      <td>111</td>\n",
       "      <td>0</td>\n",
       "      <td>&lt;NA&gt;</td>\n",
       "      <td>108</td>\n",
       "      <td>&lt;NA&gt;</td>\n",
       "      <td>0</td>\n",
       "    </tr>\n",
       "    <tr>\n",
       "      <th>2</th>\n",
       "      <td>6a5609f385912113b6f1014b958ed748</td>\n",
       "      <td>39</td>\n",
       "      <td>0</td>\n",
       "      <td>&lt;NA&gt;</td>\n",
       "      <td>&lt;NA&gt;</td>\n",
       "      <td>&lt;NA&gt;</td>\n",
       "      <td>0</td>\n",
       "    </tr>\n",
       "    <tr>\n",
       "      <th>3</th>\n",
       "      <td>46b2882ec4c373527ec33f7bd4f1388d</td>\n",
       "      <td>14</td>\n",
       "      <td>0</td>\n",
       "      <td>&lt;NA&gt;</td>\n",
       "      <td>&lt;NA&gt;</td>\n",
       "      <td>&lt;NA&gt;</td>\n",
       "      <td>&lt;NA&gt;</td>\n",
       "    </tr>\n",
       "    <tr>\n",
       "      <th>4</th>\n",
       "      <td>37495d17e82f7df326bfc2c4c090f7b7</td>\n",
       "      <td>155</td>\n",
       "      <td>0</td>\n",
       "      <td>&lt;NA&gt;</td>\n",
       "      <td>69</td>\n",
       "      <td>83</td>\n",
       "      <td>&lt;NA&gt;</td>\n",
       "    </tr>\n",
       "  </tbody>\n",
       "</table>\n",
       "</div>"
      ],
      "text/plain": [
       "                              uu_id  total_claims  edu_8th_or_less  \\\n",
       "0  f013068de98db1470bd986137a0c6d23            22                0   \n",
       "1  21957d5517323845818d87623589e1ba           111                0   \n",
       "2  6a5609f385912113b6f1014b958ed748            39                0   \n",
       "3  46b2882ec4c373527ec33f7bd4f1388d            14                0   \n",
       "4  37495d17e82f7df326bfc2c4c090f7b7           155                0   \n",
       "\n",
       "   edu_grades_9_11  edu_hs_grad_equiv  edu_post_hs  edu_unknown  \n",
       "0             <NA>                 14         <NA>            0  \n",
       "1             <NA>                108         <NA>            0  \n",
       "2             <NA>               <NA>         <NA>            0  \n",
       "3             <NA>               <NA>         <NA>         <NA>  \n",
       "4             <NA>                 69           83         <NA>  "
      ]
     },
     "execution_count": 104,
     "metadata": {},
     "output_type": "execute_result"
    }
   ],
   "source": [
    "gender = unemployment_data[['uu_id', 'total_claims', 'gender_female', 'gender_male', 'gender_na']]\n",
    "edu_level.head(5)"
   ]
  },
  {
   "cell_type": "code",
   "execution_count": 105,
   "id": "406ec7bc",
   "metadata": {
    "execution": {
     "iopub.execute_input": "2023-05-10T02:49:52.274458Z",
     "iopub.status.busy": "2023-05-10T02:49:52.274374Z",
     "iopub.status.idle": "2023-05-10T02:49:52.277252Z",
     "shell.execute_reply": "2023-05-10T02:49:52.276985Z"
    }
   },
   "outputs": [],
   "source": [
    "genders = gender.groupby(['total_claims'])['gender_female'].count().reset_index(\n",
    "  name='Count').sort_values(['Count'], ascending=True)"
   ]
  },
  {
   "cell_type": "code",
   "execution_count": 106,
   "id": "998e38c7",
   "metadata": {
    "execution": {
     "iopub.execute_input": "2023-05-10T02:49:52.278639Z",
     "iopub.status.busy": "2023-05-10T02:49:52.278553Z",
     "iopub.status.idle": "2023-05-10T02:49:52.281578Z",
     "shell.execute_reply": "2023-05-10T02:49:52.281343Z"
    }
   },
   "outputs": [
    {
     "data": {
      "text/html": [
       "<div>\n",
       "<style scoped>\n",
       "    .dataframe tbody tr th:only-of-type {\n",
       "        vertical-align: middle;\n",
       "    }\n",
       "\n",
       "    .dataframe tbody tr th {\n",
       "        vertical-align: top;\n",
       "    }\n",
       "\n",
       "    .dataframe thead th {\n",
       "        text-align: right;\n",
       "    }\n",
       "</style>\n",
       "<table border=\"1\" class=\"dataframe\">\n",
       "  <thead>\n",
       "    <tr style=\"text-align: right;\">\n",
       "      <th></th>\n",
       "      <th>total_claims</th>\n",
       "      <th>Count</th>\n",
       "    </tr>\n",
       "  </thead>\n",
       "  <tbody>\n",
       "    <tr>\n",
       "      <th>119</th>\n",
       "      <td>170</td>\n",
       "      <td>0</td>\n",
       "    </tr>\n",
       "    <tr>\n",
       "      <th>75</th>\n",
       "      <td>85</td>\n",
       "      <td>0</td>\n",
       "    </tr>\n",
       "    <tr>\n",
       "      <th>96</th>\n",
       "      <td>110</td>\n",
       "      <td>0</td>\n",
       "    </tr>\n",
       "    <tr>\n",
       "      <th>77</th>\n",
       "      <td>87</td>\n",
       "      <td>1</td>\n",
       "    </tr>\n",
       "    <tr>\n",
       "      <th>80</th>\n",
       "      <td>90</td>\n",
       "      <td>1</td>\n",
       "    </tr>\n",
       "  </tbody>\n",
       "</table>\n",
       "</div>"
      ],
      "text/plain": [
       "     total_claims  Count\n",
       "119           170      0\n",
       "75             85      0\n",
       "96            110      0\n",
       "77             87      1\n",
       "80             90      1"
      ]
     },
     "execution_count": 106,
     "metadata": {},
     "output_type": "execute_result"
    }
   ],
   "source": [
    "genders.head()"
   ]
  },
  {
   "cell_type": "markdown",
   "id": "d2c9672e",
   "metadata": {},
   "source": [
    "Here, I want to combine the education levels into one dataframe. "
   ]
  },
  {
   "cell_type": "code",
   "execution_count": 107,
   "id": "8a91cb2a",
   "metadata": {
    "execution": {
     "iopub.execute_input": "2023-05-10T02:49:52.282874Z",
     "iopub.status.busy": "2023-05-10T02:49:52.282795Z",
     "iopub.status.idle": "2023-05-10T02:49:52.287176Z",
     "shell.execute_reply": "2023-05-10T02:49:52.286942Z"
    }
   },
   "outputs": [
    {
     "data": {
      "text/html": [
       "<div>\n",
       "<style scoped>\n",
       "    .dataframe tbody tr th:only-of-type {\n",
       "        vertical-align: middle;\n",
       "    }\n",
       "\n",
       "    .dataframe tbody tr th {\n",
       "        vertical-align: top;\n",
       "    }\n",
       "\n",
       "    .dataframe thead th {\n",
       "        text-align: right;\n",
       "    }\n",
       "</style>\n",
       "<table border=\"1\" class=\"dataframe\">\n",
       "  <thead>\n",
       "    <tr style=\"text-align: right;\">\n",
       "      <th></th>\n",
       "      <th>uu_id</th>\n",
       "      <th>total_claims</th>\n",
       "      <th>edu_8th_or_less</th>\n",
       "      <th>edu_grades_9_11</th>\n",
       "      <th>edu_hs_grad_equiv</th>\n",
       "      <th>edu_post_hs</th>\n",
       "      <th>edu_unknown</th>\n",
       "    </tr>\n",
       "  </thead>\n",
       "  <tbody>\n",
       "    <tr>\n",
       "      <th>0</th>\n",
       "      <td>f013068de98db1470bd986137a0c6d23</td>\n",
       "      <td>22</td>\n",
       "      <td>0</td>\n",
       "      <td>&lt;NA&gt;</td>\n",
       "      <td>14</td>\n",
       "      <td>&lt;NA&gt;</td>\n",
       "      <td>0</td>\n",
       "    </tr>\n",
       "    <tr>\n",
       "      <th>1</th>\n",
       "      <td>21957d5517323845818d87623589e1ba</td>\n",
       "      <td>111</td>\n",
       "      <td>0</td>\n",
       "      <td>&lt;NA&gt;</td>\n",
       "      <td>108</td>\n",
       "      <td>&lt;NA&gt;</td>\n",
       "      <td>0</td>\n",
       "    </tr>\n",
       "    <tr>\n",
       "      <th>2</th>\n",
       "      <td>6a5609f385912113b6f1014b958ed748</td>\n",
       "      <td>39</td>\n",
       "      <td>0</td>\n",
       "      <td>&lt;NA&gt;</td>\n",
       "      <td>&lt;NA&gt;</td>\n",
       "      <td>&lt;NA&gt;</td>\n",
       "      <td>0</td>\n",
       "    </tr>\n",
       "    <tr>\n",
       "      <th>3</th>\n",
       "      <td>46b2882ec4c373527ec33f7bd4f1388d</td>\n",
       "      <td>14</td>\n",
       "      <td>0</td>\n",
       "      <td>&lt;NA&gt;</td>\n",
       "      <td>&lt;NA&gt;</td>\n",
       "      <td>&lt;NA&gt;</td>\n",
       "      <td>&lt;NA&gt;</td>\n",
       "    </tr>\n",
       "    <tr>\n",
       "      <th>4</th>\n",
       "      <td>37495d17e82f7df326bfc2c4c090f7b7</td>\n",
       "      <td>155</td>\n",
       "      <td>0</td>\n",
       "      <td>&lt;NA&gt;</td>\n",
       "      <td>69</td>\n",
       "      <td>83</td>\n",
       "      <td>&lt;NA&gt;</td>\n",
       "    </tr>\n",
       "  </tbody>\n",
       "</table>\n",
       "</div>"
      ],
      "text/plain": [
       "                              uu_id  total_claims  edu_8th_or_less  \\\n",
       "0  f013068de98db1470bd986137a0c6d23            22                0   \n",
       "1  21957d5517323845818d87623589e1ba           111                0   \n",
       "2  6a5609f385912113b6f1014b958ed748            39                0   \n",
       "3  46b2882ec4c373527ec33f7bd4f1388d            14                0   \n",
       "4  37495d17e82f7df326bfc2c4c090f7b7           155                0   \n",
       "\n",
       "   edu_grades_9_11  edu_hs_grad_equiv  edu_post_hs  edu_unknown  \n",
       "0             <NA>                 14         <NA>            0  \n",
       "1             <NA>                108         <NA>            0  \n",
       "2             <NA>               <NA>         <NA>            0  \n",
       "3             <NA>               <NA>         <NA>         <NA>  \n",
       "4             <NA>                 69           83         <NA>  "
      ]
     },
     "execution_count": 107,
     "metadata": {},
     "output_type": "execute_result"
    }
   ],
   "source": [
    "gender = unemployment_data[['uu_id', 'total_claims', 'gender_female', 'gender_male', 'gender_na']]\n",
    "edu_level.head(5)"
   ]
  },
  {
   "cell_type": "code",
   "execution_count": 108,
   "id": "ec8c8748",
   "metadata": {
    "execution": {
     "iopub.execute_input": "2023-05-10T02:49:52.288591Z",
     "iopub.status.busy": "2023-05-10T02:49:52.288507Z",
     "iopub.status.idle": "2023-05-10T02:49:52.293808Z",
     "shell.execute_reply": "2023-05-10T02:49:52.293526Z"
    }
   },
   "outputs": [],
   "source": [
    "genders = gender.groupby(['total_claims', 'uu_id'])['gender_female'].count().reset_index(\n",
    "  name='Count').sort_values(['Count'], ascending=True)"
   ]
  },
  {
   "cell_type": "code",
   "execution_count": 109,
   "id": "f72c3fa9",
   "metadata": {
    "execution": {
     "iopub.execute_input": "2023-05-10T02:49:52.295285Z",
     "iopub.status.busy": "2023-05-10T02:49:52.295199Z",
     "iopub.status.idle": "2023-05-10T02:49:52.298504Z",
     "shell.execute_reply": "2023-05-10T02:49:52.298273Z"
    }
   },
   "outputs": [
    {
     "data": {
      "text/html": [
       "<div>\n",
       "<style scoped>\n",
       "    .dataframe tbody tr th:only-of-type {\n",
       "        vertical-align: middle;\n",
       "    }\n",
       "\n",
       "    .dataframe tbody tr th {\n",
       "        vertical-align: top;\n",
       "    }\n",
       "\n",
       "    .dataframe thead th {\n",
       "        text-align: right;\n",
       "    }\n",
       "</style>\n",
       "<table border=\"1\" class=\"dataframe\">\n",
       "  <thead>\n",
       "    <tr style=\"text-align: right;\">\n",
       "      <th></th>\n",
       "      <th>total_claims</th>\n",
       "      <th>uu_id</th>\n",
       "      <th>Count</th>\n",
       "    </tr>\n",
       "  </thead>\n",
       "  <tbody>\n",
       "    <tr>\n",
       "      <th>0</th>\n",
       "      <td>10</td>\n",
       "      <td>001cd9ae23064d7f0fd3cd327c873d8d</td>\n",
       "      <td>0</td>\n",
       "    </tr>\n",
       "    <tr>\n",
       "      <th>3940</th>\n",
       "      <td>21</td>\n",
       "      <td>3098ba7b30da9acf99e1d491a22e01e5</td>\n",
       "      <td>0</td>\n",
       "    </tr>\n",
       "    <tr>\n",
       "      <th>3939</th>\n",
       "      <td>21</td>\n",
       "      <td>2e6f7ee3f6f1ea9096625cbcb38e54cd</td>\n",
       "      <td>0</td>\n",
       "    </tr>\n",
       "    <tr>\n",
       "      <th>3938</th>\n",
       "      <td>21</td>\n",
       "      <td>2db2c67aed99c51c9d00d01f14030608</td>\n",
       "      <td>0</td>\n",
       "    </tr>\n",
       "    <tr>\n",
       "      <th>3937</th>\n",
       "      <td>21</td>\n",
       "      <td>2af35a38ee1416c5532a5e35425ecbb8</td>\n",
       "      <td>0</td>\n",
       "    </tr>\n",
       "  </tbody>\n",
       "</table>\n",
       "</div>"
      ],
      "text/plain": [
       "      total_claims                             uu_id  Count\n",
       "0               10  001cd9ae23064d7f0fd3cd327c873d8d      0\n",
       "3940            21  3098ba7b30da9acf99e1d491a22e01e5      0\n",
       "3939            21  2e6f7ee3f6f1ea9096625cbcb38e54cd      0\n",
       "3938            21  2db2c67aed99c51c9d00d01f14030608      0\n",
       "3937            21  2af35a38ee1416c5532a5e35425ecbb8      0"
      ]
     },
     "execution_count": 109,
     "metadata": {},
     "output_type": "execute_result"
    }
   ],
   "source": [
    "genders.head()"
   ]
  },
  {
   "cell_type": "markdown",
   "id": "7504c49a",
   "metadata": {},
   "source": [
    "Here, I want to combine the education levels into one dataframe. "
   ]
  },
  {
   "cell_type": "code",
   "execution_count": 110,
   "id": "162d0576",
   "metadata": {
    "execution": {
     "iopub.execute_input": "2023-05-10T02:49:52.299798Z",
     "iopub.status.busy": "2023-05-10T02:49:52.299716Z",
     "iopub.status.idle": "2023-05-10T02:49:52.304236Z",
     "shell.execute_reply": "2023-05-10T02:49:52.303940Z"
    }
   },
   "outputs": [
    {
     "data": {
      "text/html": [
       "<div>\n",
       "<style scoped>\n",
       "    .dataframe tbody tr th:only-of-type {\n",
       "        vertical-align: middle;\n",
       "    }\n",
       "\n",
       "    .dataframe tbody tr th {\n",
       "        vertical-align: top;\n",
       "    }\n",
       "\n",
       "    .dataframe thead th {\n",
       "        text-align: right;\n",
       "    }\n",
       "</style>\n",
       "<table border=\"1\" class=\"dataframe\">\n",
       "  <thead>\n",
       "    <tr style=\"text-align: right;\">\n",
       "      <th></th>\n",
       "      <th>uu_id</th>\n",
       "      <th>total_claims</th>\n",
       "      <th>edu_8th_or_less</th>\n",
       "      <th>edu_grades_9_11</th>\n",
       "      <th>edu_hs_grad_equiv</th>\n",
       "      <th>edu_post_hs</th>\n",
       "      <th>edu_unknown</th>\n",
       "    </tr>\n",
       "  </thead>\n",
       "  <tbody>\n",
       "    <tr>\n",
       "      <th>0</th>\n",
       "      <td>f013068de98db1470bd986137a0c6d23</td>\n",
       "      <td>22</td>\n",
       "      <td>0</td>\n",
       "      <td>&lt;NA&gt;</td>\n",
       "      <td>14</td>\n",
       "      <td>&lt;NA&gt;</td>\n",
       "      <td>0</td>\n",
       "    </tr>\n",
       "    <tr>\n",
       "      <th>1</th>\n",
       "      <td>21957d5517323845818d87623589e1ba</td>\n",
       "      <td>111</td>\n",
       "      <td>0</td>\n",
       "      <td>&lt;NA&gt;</td>\n",
       "      <td>108</td>\n",
       "      <td>&lt;NA&gt;</td>\n",
       "      <td>0</td>\n",
       "    </tr>\n",
       "    <tr>\n",
       "      <th>2</th>\n",
       "      <td>6a5609f385912113b6f1014b958ed748</td>\n",
       "      <td>39</td>\n",
       "      <td>0</td>\n",
       "      <td>&lt;NA&gt;</td>\n",
       "      <td>&lt;NA&gt;</td>\n",
       "      <td>&lt;NA&gt;</td>\n",
       "      <td>0</td>\n",
       "    </tr>\n",
       "    <tr>\n",
       "      <th>3</th>\n",
       "      <td>46b2882ec4c373527ec33f7bd4f1388d</td>\n",
       "      <td>14</td>\n",
       "      <td>0</td>\n",
       "      <td>&lt;NA&gt;</td>\n",
       "      <td>&lt;NA&gt;</td>\n",
       "      <td>&lt;NA&gt;</td>\n",
       "      <td>&lt;NA&gt;</td>\n",
       "    </tr>\n",
       "    <tr>\n",
       "      <th>4</th>\n",
       "      <td>37495d17e82f7df326bfc2c4c090f7b7</td>\n",
       "      <td>155</td>\n",
       "      <td>0</td>\n",
       "      <td>&lt;NA&gt;</td>\n",
       "      <td>69</td>\n",
       "      <td>83</td>\n",
       "      <td>&lt;NA&gt;</td>\n",
       "    </tr>\n",
       "  </tbody>\n",
       "</table>\n",
       "</div>"
      ],
      "text/plain": [
       "                              uu_id  total_claims  edu_8th_or_less  \\\n",
       "0  f013068de98db1470bd986137a0c6d23            22                0   \n",
       "1  21957d5517323845818d87623589e1ba           111                0   \n",
       "2  6a5609f385912113b6f1014b958ed748            39                0   \n",
       "3  46b2882ec4c373527ec33f7bd4f1388d            14                0   \n",
       "4  37495d17e82f7df326bfc2c4c090f7b7           155                0   \n",
       "\n",
       "   edu_grades_9_11  edu_hs_grad_equiv  edu_post_hs  edu_unknown  \n",
       "0             <NA>                 14         <NA>            0  \n",
       "1             <NA>                108         <NA>            0  \n",
       "2             <NA>               <NA>         <NA>            0  \n",
       "3             <NA>               <NA>         <NA>         <NA>  \n",
       "4             <NA>                 69           83         <NA>  "
      ]
     },
     "execution_count": 110,
     "metadata": {},
     "output_type": "execute_result"
    }
   ],
   "source": [
    "gender = unemployment_data[['uu_id', 'total_claims', 'gender_female', 'gender_male', 'gender_na']]\n",
    "edu_level.head(5)"
   ]
  },
  {
   "cell_type": "code",
   "execution_count": 111,
   "id": "8a34e8a1",
   "metadata": {
    "execution": {
     "iopub.execute_input": "2023-05-10T02:49:52.305796Z",
     "iopub.status.busy": "2023-05-10T02:49:52.305664Z",
     "iopub.status.idle": "2023-05-10T02:49:52.330052Z",
     "shell.execute_reply": "2023-05-10T02:49:52.329797Z"
    }
   },
   "outputs": [
    {
     "name": "stderr",
     "output_type": "stream",
     "text": [
      "/var/folders/l2/cnhff0_n1470l4xf0p7v7l_40000gn/T/ipykernel_19084/1356010726.py:1: FutureWarning: Indexing with multiple keys (implicitly converted to a tuple of keys) will be deprecated, use a list instead.\n",
      "  genders = gender.groupby(['total_claims', 'uu_id'])['gender_female', 'gender_male'].count().reset_index(\n"
     ]
    },
    {
     "ename": "TypeError",
     "evalue": "reset_index() got an unexpected keyword argument 'name'",
     "output_type": "error",
     "traceback": [
      "\u001b[0;31m---------------------------------------------------------------------------\u001b[0m",
      "\u001b[0;31mTypeError\u001b[0m                                 Traceback (most recent call last)",
      "Cell \u001b[0;32mIn [111], line 1\u001b[0m\n\u001b[0;32m----> 1\u001b[0m genders \u001b[38;5;241m=\u001b[39m \u001b[43mgender\u001b[49m\u001b[38;5;241;43m.\u001b[39;49m\u001b[43mgroupby\u001b[49m\u001b[43m(\u001b[49m\u001b[43m[\u001b[49m\u001b[38;5;124;43m'\u001b[39;49m\u001b[38;5;124;43mtotal_claims\u001b[39;49m\u001b[38;5;124;43m'\u001b[39;49m\u001b[43m,\u001b[49m\u001b[43m \u001b[49m\u001b[38;5;124;43m'\u001b[39;49m\u001b[38;5;124;43muu_id\u001b[39;49m\u001b[38;5;124;43m'\u001b[39;49m\u001b[43m]\u001b[49m\u001b[43m)\u001b[49m\u001b[43m[\u001b[49m\u001b[38;5;124;43m'\u001b[39;49m\u001b[38;5;124;43mgender_female\u001b[39;49m\u001b[38;5;124;43m'\u001b[39;49m\u001b[43m,\u001b[49m\u001b[43m \u001b[49m\u001b[38;5;124;43m'\u001b[39;49m\u001b[38;5;124;43mgender_male\u001b[39;49m\u001b[38;5;124;43m'\u001b[39;49m\u001b[43m]\u001b[49m\u001b[38;5;241;43m.\u001b[39;49m\u001b[43mcount\u001b[49m\u001b[43m(\u001b[49m\u001b[43m)\u001b[49m\u001b[38;5;241;43m.\u001b[39;49m\u001b[43mreset_index\u001b[49m\u001b[43m(\u001b[49m\n\u001b[1;32m      2\u001b[0m \u001b[43m  \u001b[49m\u001b[43mname\u001b[49m\u001b[38;5;241;43m=\u001b[39;49m\u001b[38;5;124;43m'\u001b[39;49m\u001b[38;5;124;43mCount\u001b[39;49m\u001b[38;5;124;43m'\u001b[39;49m\u001b[43m)\u001b[49m\u001b[38;5;241m.\u001b[39msort_values([\u001b[38;5;124m'\u001b[39m\u001b[38;5;124mCount\u001b[39m\u001b[38;5;124m'\u001b[39m], ascending\u001b[38;5;241m=\u001b[39m\u001b[38;5;28;01mTrue\u001b[39;00m)\n",
      "File \u001b[0;32m/opt/homebrew/lib/python3.9/site-packages/pandas/util/_decorators.py:331\u001b[0m, in \u001b[0;36mdeprecate_nonkeyword_arguments.<locals>.decorate.<locals>.wrapper\u001b[0;34m(*args, **kwargs)\u001b[0m\n\u001b[1;32m    325\u001b[0m \u001b[38;5;28;01mif\u001b[39;00m \u001b[38;5;28mlen\u001b[39m(args) \u001b[38;5;241m>\u001b[39m num_allow_args:\n\u001b[1;32m    326\u001b[0m     warnings\u001b[38;5;241m.\u001b[39mwarn(\n\u001b[1;32m    327\u001b[0m         msg\u001b[38;5;241m.\u001b[39mformat(arguments\u001b[38;5;241m=\u001b[39m_format_argument_list(allow_args)),\n\u001b[1;32m    328\u001b[0m         \u001b[38;5;167;01mFutureWarning\u001b[39;00m,\n\u001b[1;32m    329\u001b[0m         stacklevel\u001b[38;5;241m=\u001b[39mfind_stack_level(),\n\u001b[1;32m    330\u001b[0m     )\n\u001b[0;32m--> 331\u001b[0m \u001b[38;5;28;01mreturn\u001b[39;00m \u001b[43mfunc\u001b[49m\u001b[43m(\u001b[49m\u001b[38;5;241;43m*\u001b[39;49m\u001b[43margs\u001b[49m\u001b[43m,\u001b[49m\u001b[43m \u001b[49m\u001b[38;5;241;43m*\u001b[39;49m\u001b[38;5;241;43m*\u001b[39;49m\u001b[43mkwargs\u001b[49m\u001b[43m)\u001b[49m\n",
      "\u001b[0;31mTypeError\u001b[0m: reset_index() got an unexpected keyword argument 'name'"
     ]
    }
   ],
   "source": [
    "genders = gender.groupby(['total_claims', 'uu_id'])['gender_female', 'gender_male'].count().reset_index(\n",
    "  name='Count').sort_values(['Count'], ascending=True)"
   ]
  },
  {
   "cell_type": "code",
   "execution_count": 112,
   "id": "0382818d",
   "metadata": {
    "execution": {
     "iopub.execute_input": "2023-05-10T02:49:52.331452Z",
     "iopub.status.busy": "2023-05-10T02:49:52.331371Z",
     "iopub.status.idle": "2023-05-10T02:49:52.334671Z",
     "shell.execute_reply": "2023-05-10T02:49:52.334423Z"
    }
   },
   "outputs": [
    {
     "data": {
      "text/html": [
       "<div>\n",
       "<style scoped>\n",
       "    .dataframe tbody tr th:only-of-type {\n",
       "        vertical-align: middle;\n",
       "    }\n",
       "\n",
       "    .dataframe tbody tr th {\n",
       "        vertical-align: top;\n",
       "    }\n",
       "\n",
       "    .dataframe thead th {\n",
       "        text-align: right;\n",
       "    }\n",
       "</style>\n",
       "<table border=\"1\" class=\"dataframe\">\n",
       "  <thead>\n",
       "    <tr style=\"text-align: right;\">\n",
       "      <th></th>\n",
       "      <th>total_claims</th>\n",
       "      <th>uu_id</th>\n",
       "      <th>Count</th>\n",
       "    </tr>\n",
       "  </thead>\n",
       "  <tbody>\n",
       "    <tr>\n",
       "      <th>0</th>\n",
       "      <td>10</td>\n",
       "      <td>001cd9ae23064d7f0fd3cd327c873d8d</td>\n",
       "      <td>0</td>\n",
       "    </tr>\n",
       "    <tr>\n",
       "      <th>3940</th>\n",
       "      <td>21</td>\n",
       "      <td>3098ba7b30da9acf99e1d491a22e01e5</td>\n",
       "      <td>0</td>\n",
       "    </tr>\n",
       "    <tr>\n",
       "      <th>3939</th>\n",
       "      <td>21</td>\n",
       "      <td>2e6f7ee3f6f1ea9096625cbcb38e54cd</td>\n",
       "      <td>0</td>\n",
       "    </tr>\n",
       "    <tr>\n",
       "      <th>3938</th>\n",
       "      <td>21</td>\n",
       "      <td>2db2c67aed99c51c9d00d01f14030608</td>\n",
       "      <td>0</td>\n",
       "    </tr>\n",
       "    <tr>\n",
       "      <th>3937</th>\n",
       "      <td>21</td>\n",
       "      <td>2af35a38ee1416c5532a5e35425ecbb8</td>\n",
       "      <td>0</td>\n",
       "    </tr>\n",
       "  </tbody>\n",
       "</table>\n",
       "</div>"
      ],
      "text/plain": [
       "      total_claims                             uu_id  Count\n",
       "0               10  001cd9ae23064d7f0fd3cd327c873d8d      0\n",
       "3940            21  3098ba7b30da9acf99e1d491a22e01e5      0\n",
       "3939            21  2e6f7ee3f6f1ea9096625cbcb38e54cd      0\n",
       "3938            21  2db2c67aed99c51c9d00d01f14030608      0\n",
       "3937            21  2af35a38ee1416c5532a5e35425ecbb8      0"
      ]
     },
     "execution_count": 112,
     "metadata": {},
     "output_type": "execute_result"
    }
   ],
   "source": [
    "genders.head()"
   ]
  },
  {
   "cell_type": "markdown",
   "id": "6a610ecb",
   "metadata": {},
   "source": [
    "Here, I want to combine the education levels into one dataframe. "
   ]
  },
  {
   "cell_type": "code",
   "execution_count": 113,
   "id": "dddf71f5",
   "metadata": {
    "execution": {
     "iopub.execute_input": "2023-05-10T02:49:52.336018Z",
     "iopub.status.busy": "2023-05-10T02:49:52.335926Z",
     "iopub.status.idle": "2023-05-10T02:49:52.340402Z",
     "shell.execute_reply": "2023-05-10T02:49:52.340131Z"
    }
   },
   "outputs": [
    {
     "data": {
      "text/html": [
       "<div>\n",
       "<style scoped>\n",
       "    .dataframe tbody tr th:only-of-type {\n",
       "        vertical-align: middle;\n",
       "    }\n",
       "\n",
       "    .dataframe tbody tr th {\n",
       "        vertical-align: top;\n",
       "    }\n",
       "\n",
       "    .dataframe thead th {\n",
       "        text-align: right;\n",
       "    }\n",
       "</style>\n",
       "<table border=\"1\" class=\"dataframe\">\n",
       "  <thead>\n",
       "    <tr style=\"text-align: right;\">\n",
       "      <th></th>\n",
       "      <th>uu_id</th>\n",
       "      <th>total_claims</th>\n",
       "      <th>edu_8th_or_less</th>\n",
       "      <th>edu_grades_9_11</th>\n",
       "      <th>edu_hs_grad_equiv</th>\n",
       "      <th>edu_post_hs</th>\n",
       "      <th>edu_unknown</th>\n",
       "    </tr>\n",
       "  </thead>\n",
       "  <tbody>\n",
       "    <tr>\n",
       "      <th>0</th>\n",
       "      <td>f013068de98db1470bd986137a0c6d23</td>\n",
       "      <td>22</td>\n",
       "      <td>0</td>\n",
       "      <td>&lt;NA&gt;</td>\n",
       "      <td>14</td>\n",
       "      <td>&lt;NA&gt;</td>\n",
       "      <td>0</td>\n",
       "    </tr>\n",
       "    <tr>\n",
       "      <th>1</th>\n",
       "      <td>21957d5517323845818d87623589e1ba</td>\n",
       "      <td>111</td>\n",
       "      <td>0</td>\n",
       "      <td>&lt;NA&gt;</td>\n",
       "      <td>108</td>\n",
       "      <td>&lt;NA&gt;</td>\n",
       "      <td>0</td>\n",
       "    </tr>\n",
       "    <tr>\n",
       "      <th>2</th>\n",
       "      <td>6a5609f385912113b6f1014b958ed748</td>\n",
       "      <td>39</td>\n",
       "      <td>0</td>\n",
       "      <td>&lt;NA&gt;</td>\n",
       "      <td>&lt;NA&gt;</td>\n",
       "      <td>&lt;NA&gt;</td>\n",
       "      <td>0</td>\n",
       "    </tr>\n",
       "    <tr>\n",
       "      <th>3</th>\n",
       "      <td>46b2882ec4c373527ec33f7bd4f1388d</td>\n",
       "      <td>14</td>\n",
       "      <td>0</td>\n",
       "      <td>&lt;NA&gt;</td>\n",
       "      <td>&lt;NA&gt;</td>\n",
       "      <td>&lt;NA&gt;</td>\n",
       "      <td>&lt;NA&gt;</td>\n",
       "    </tr>\n",
       "    <tr>\n",
       "      <th>4</th>\n",
       "      <td>37495d17e82f7df326bfc2c4c090f7b7</td>\n",
       "      <td>155</td>\n",
       "      <td>0</td>\n",
       "      <td>&lt;NA&gt;</td>\n",
       "      <td>69</td>\n",
       "      <td>83</td>\n",
       "      <td>&lt;NA&gt;</td>\n",
       "    </tr>\n",
       "  </tbody>\n",
       "</table>\n",
       "</div>"
      ],
      "text/plain": [
       "                              uu_id  total_claims  edu_8th_or_less  \\\n",
       "0  f013068de98db1470bd986137a0c6d23            22                0   \n",
       "1  21957d5517323845818d87623589e1ba           111                0   \n",
       "2  6a5609f385912113b6f1014b958ed748            39                0   \n",
       "3  46b2882ec4c373527ec33f7bd4f1388d            14                0   \n",
       "4  37495d17e82f7df326bfc2c4c090f7b7           155                0   \n",
       "\n",
       "   edu_grades_9_11  edu_hs_grad_equiv  edu_post_hs  edu_unknown  \n",
       "0             <NA>                 14         <NA>            0  \n",
       "1             <NA>                108         <NA>            0  \n",
       "2             <NA>               <NA>         <NA>            0  \n",
       "3             <NA>               <NA>         <NA>         <NA>  \n",
       "4             <NA>                 69           83         <NA>  "
      ]
     },
     "execution_count": 113,
     "metadata": {},
     "output_type": "execute_result"
    }
   ],
   "source": [
    "gender = unemployment_data[['uu_id', 'total_claims', 'gender_female', 'gender_male', 'gender_na']]\n",
    "edu_level.head(5)"
   ]
  },
  {
   "cell_type": "code",
   "execution_count": 114,
   "id": "a2a4d6e9",
   "metadata": {
    "execution": {
     "iopub.execute_input": "2023-05-10T02:49:52.341863Z",
     "iopub.status.busy": "2023-05-10T02:49:52.341777Z",
     "iopub.status.idle": "2023-05-10T02:49:52.346708Z",
     "shell.execute_reply": "2023-05-10T02:49:52.346460Z"
    }
   },
   "outputs": [],
   "source": [
    "genders = gender.groupby(['total_claims', 'uu_id'])['gender_female'].count().reset_index(\n",
    "  name='Count').sort_values(['Count'], ascending=True)"
   ]
  },
  {
   "cell_type": "code",
   "execution_count": 115,
   "id": "a3e18b27",
   "metadata": {
    "execution": {
     "iopub.execute_input": "2023-05-10T02:49:52.348084Z",
     "iopub.status.busy": "2023-05-10T02:49:52.348005Z",
     "iopub.status.idle": "2023-05-10T02:49:52.351305Z",
     "shell.execute_reply": "2023-05-10T02:49:52.351055Z"
    }
   },
   "outputs": [
    {
     "data": {
      "text/html": [
       "<div>\n",
       "<style scoped>\n",
       "    .dataframe tbody tr th:only-of-type {\n",
       "        vertical-align: middle;\n",
       "    }\n",
       "\n",
       "    .dataframe tbody tr th {\n",
       "        vertical-align: top;\n",
       "    }\n",
       "\n",
       "    .dataframe thead th {\n",
       "        text-align: right;\n",
       "    }\n",
       "</style>\n",
       "<table border=\"1\" class=\"dataframe\">\n",
       "  <thead>\n",
       "    <tr style=\"text-align: right;\">\n",
       "      <th></th>\n",
       "      <th>total_claims</th>\n",
       "      <th>uu_id</th>\n",
       "      <th>Count</th>\n",
       "    </tr>\n",
       "  </thead>\n",
       "  <tbody>\n",
       "    <tr>\n",
       "      <th>0</th>\n",
       "      <td>10</td>\n",
       "      <td>001cd9ae23064d7f0fd3cd327c873d8d</td>\n",
       "      <td>0</td>\n",
       "    </tr>\n",
       "    <tr>\n",
       "      <th>3940</th>\n",
       "      <td>21</td>\n",
       "      <td>3098ba7b30da9acf99e1d491a22e01e5</td>\n",
       "      <td>0</td>\n",
       "    </tr>\n",
       "    <tr>\n",
       "      <th>3939</th>\n",
       "      <td>21</td>\n",
       "      <td>2e6f7ee3f6f1ea9096625cbcb38e54cd</td>\n",
       "      <td>0</td>\n",
       "    </tr>\n",
       "    <tr>\n",
       "      <th>3938</th>\n",
       "      <td>21</td>\n",
       "      <td>2db2c67aed99c51c9d00d01f14030608</td>\n",
       "      <td>0</td>\n",
       "    </tr>\n",
       "    <tr>\n",
       "      <th>3937</th>\n",
       "      <td>21</td>\n",
       "      <td>2af35a38ee1416c5532a5e35425ecbb8</td>\n",
       "      <td>0</td>\n",
       "    </tr>\n",
       "  </tbody>\n",
       "</table>\n",
       "</div>"
      ],
      "text/plain": [
       "      total_claims                             uu_id  Count\n",
       "0               10  001cd9ae23064d7f0fd3cd327c873d8d      0\n",
       "3940            21  3098ba7b30da9acf99e1d491a22e01e5      0\n",
       "3939            21  2e6f7ee3f6f1ea9096625cbcb38e54cd      0\n",
       "3938            21  2db2c67aed99c51c9d00d01f14030608      0\n",
       "3937            21  2af35a38ee1416c5532a5e35425ecbb8      0"
      ]
     },
     "execution_count": 115,
     "metadata": {},
     "output_type": "execute_result"
    }
   ],
   "source": [
    "genders.head()"
   ]
  },
  {
   "cell_type": "markdown",
   "id": "04b028d6",
   "metadata": {},
   "source": [
    "Here, I want to combine the education levels into one dataframe. "
   ]
  },
  {
   "cell_type": "code",
   "execution_count": 116,
   "id": "1d4fd952",
   "metadata": {
    "execution": {
     "iopub.execute_input": "2023-05-10T02:49:52.352636Z",
     "iopub.status.busy": "2023-05-10T02:49:52.352556Z",
     "iopub.status.idle": "2023-05-10T02:49:52.357082Z",
     "shell.execute_reply": "2023-05-10T02:49:52.356804Z"
    }
   },
   "outputs": [
    {
     "data": {
      "text/html": [
       "<div>\n",
       "<style scoped>\n",
       "    .dataframe tbody tr th:only-of-type {\n",
       "        vertical-align: middle;\n",
       "    }\n",
       "\n",
       "    .dataframe tbody tr th {\n",
       "        vertical-align: top;\n",
       "    }\n",
       "\n",
       "    .dataframe thead th {\n",
       "        text-align: right;\n",
       "    }\n",
       "</style>\n",
       "<table border=\"1\" class=\"dataframe\">\n",
       "  <thead>\n",
       "    <tr style=\"text-align: right;\">\n",
       "      <th></th>\n",
       "      <th>uu_id</th>\n",
       "      <th>total_claims</th>\n",
       "      <th>edu_8th_or_less</th>\n",
       "      <th>edu_grades_9_11</th>\n",
       "      <th>edu_hs_grad_equiv</th>\n",
       "      <th>edu_post_hs</th>\n",
       "      <th>edu_unknown</th>\n",
       "    </tr>\n",
       "  </thead>\n",
       "  <tbody>\n",
       "    <tr>\n",
       "      <th>0</th>\n",
       "      <td>f013068de98db1470bd986137a0c6d23</td>\n",
       "      <td>22</td>\n",
       "      <td>0</td>\n",
       "      <td>&lt;NA&gt;</td>\n",
       "      <td>14</td>\n",
       "      <td>&lt;NA&gt;</td>\n",
       "      <td>0</td>\n",
       "    </tr>\n",
       "    <tr>\n",
       "      <th>1</th>\n",
       "      <td>21957d5517323845818d87623589e1ba</td>\n",
       "      <td>111</td>\n",
       "      <td>0</td>\n",
       "      <td>&lt;NA&gt;</td>\n",
       "      <td>108</td>\n",
       "      <td>&lt;NA&gt;</td>\n",
       "      <td>0</td>\n",
       "    </tr>\n",
       "    <tr>\n",
       "      <th>2</th>\n",
       "      <td>6a5609f385912113b6f1014b958ed748</td>\n",
       "      <td>39</td>\n",
       "      <td>0</td>\n",
       "      <td>&lt;NA&gt;</td>\n",
       "      <td>&lt;NA&gt;</td>\n",
       "      <td>&lt;NA&gt;</td>\n",
       "      <td>0</td>\n",
       "    </tr>\n",
       "    <tr>\n",
       "      <th>3</th>\n",
       "      <td>46b2882ec4c373527ec33f7bd4f1388d</td>\n",
       "      <td>14</td>\n",
       "      <td>0</td>\n",
       "      <td>&lt;NA&gt;</td>\n",
       "      <td>&lt;NA&gt;</td>\n",
       "      <td>&lt;NA&gt;</td>\n",
       "      <td>&lt;NA&gt;</td>\n",
       "    </tr>\n",
       "    <tr>\n",
       "      <th>4</th>\n",
       "      <td>37495d17e82f7df326bfc2c4c090f7b7</td>\n",
       "      <td>155</td>\n",
       "      <td>0</td>\n",
       "      <td>&lt;NA&gt;</td>\n",
       "      <td>69</td>\n",
       "      <td>83</td>\n",
       "      <td>&lt;NA&gt;</td>\n",
       "    </tr>\n",
       "  </tbody>\n",
       "</table>\n",
       "</div>"
      ],
      "text/plain": [
       "                              uu_id  total_claims  edu_8th_or_less  \\\n",
       "0  f013068de98db1470bd986137a0c6d23            22                0   \n",
       "1  21957d5517323845818d87623589e1ba           111                0   \n",
       "2  6a5609f385912113b6f1014b958ed748            39                0   \n",
       "3  46b2882ec4c373527ec33f7bd4f1388d            14                0   \n",
       "4  37495d17e82f7df326bfc2c4c090f7b7           155                0   \n",
       "\n",
       "   edu_grades_9_11  edu_hs_grad_equiv  edu_post_hs  edu_unknown  \n",
       "0             <NA>                 14         <NA>            0  \n",
       "1             <NA>                108         <NA>            0  \n",
       "2             <NA>               <NA>         <NA>            0  \n",
       "3             <NA>               <NA>         <NA>         <NA>  \n",
       "4             <NA>                 69           83         <NA>  "
      ]
     },
     "execution_count": 116,
     "metadata": {},
     "output_type": "execute_result"
    }
   ],
   "source": [
    "gender = unemployment_data[['uu_id', 'total_claims', 'gender_female', 'gender_male', 'gender_na']]\n",
    "edu_level.head(5)"
   ]
  },
  {
   "cell_type": "code",
   "execution_count": 117,
   "id": "e48a260f",
   "metadata": {
    "execution": {
     "iopub.execute_input": "2023-05-10T02:49:52.358559Z",
     "iopub.status.busy": "2023-05-10T02:49:52.358474Z",
     "iopub.status.idle": "2023-05-10T02:49:52.363679Z",
     "shell.execute_reply": "2023-05-10T02:49:52.363418Z"
    }
   },
   "outputs": [],
   "source": [
    "genders = gender.groupby(['total_claims', 'uu_id'])['gender_female'].count().reset_index(\n",
    "  name='Count').sort_values(['Count'], ascending=True)"
   ]
  },
  {
   "cell_type": "code",
   "execution_count": 118,
   "id": "e8d91555",
   "metadata": {
    "execution": {
     "iopub.execute_input": "2023-05-10T02:49:52.365108Z",
     "iopub.status.busy": "2023-05-10T02:49:52.365019Z",
     "iopub.status.idle": "2023-05-10T02:49:52.368447Z",
     "shell.execute_reply": "2023-05-10T02:49:52.368190Z"
    }
   },
   "outputs": [
    {
     "data": {
      "text/plain": [
       "total_claims                                 170\n",
       "uu_id           fec479d0202d6e1e3f051a9ee902ff5d\n",
       "Count                                          6\n",
       "dtype: object"
      ]
     },
     "execution_count": 118,
     "metadata": {},
     "output_type": "execute_result"
    }
   ],
   "source": [
    "genders.max()"
   ]
  },
  {
   "cell_type": "code",
   "execution_count": 119,
   "id": "9ef628d6",
   "metadata": {
    "execution": {
     "iopub.execute_input": "2023-05-10T02:49:52.369790Z",
     "iopub.status.busy": "2023-05-10T02:49:52.369707Z",
     "iopub.status.idle": "2023-05-10T02:49:52.383679Z",
     "shell.execute_reply": "2023-05-10T02:49:52.383409Z"
    }
   },
   "outputs": [
    {
     "data": {
      "text/html": [
       "<div>\n",
       "<style scoped>\n",
       "    .dataframe tbody tr th:only-of-type {\n",
       "        vertical-align: middle;\n",
       "    }\n",
       "\n",
       "    .dataframe tbody tr th {\n",
       "        vertical-align: top;\n",
       "    }\n",
       "\n",
       "    .dataframe thead th {\n",
       "        text-align: right;\n",
       "    }\n",
       "</style>\n",
       "<table border=\"1\" class=\"dataframe\">\n",
       "  <thead>\n",
       "    <tr style=\"text-align: right;\">\n",
       "      <th></th>\n",
       "      <th>uu_id</th>\n",
       "      <th>timeperiod</th>\n",
       "      <th>week_number</th>\n",
       "      <th>countyfips</th>\n",
       "      <th>tract</th>\n",
       "      <th>tract_name</th>\n",
       "      <th>total_claims</th>\n",
       "      <th>edu_8th_or_less</th>\n",
       "      <th>edu_grades_9_11</th>\n",
       "      <th>edu_hs_grad_equiv</th>\n",
       "      <th>...</th>\n",
       "      <th>gender_female</th>\n",
       "      <th>gender_male</th>\n",
       "      <th>gender_na</th>\n",
       "      <th>race_amerindian</th>\n",
       "      <th>race_asian</th>\n",
       "      <th>race_black</th>\n",
       "      <th>race_noanswer</th>\n",
       "      <th>race_hawaiiannative</th>\n",
       "      <th>race_other</th>\n",
       "      <th>race_white</th>\n",
       "    </tr>\n",
       "  </thead>\n",
       "  <tbody>\n",
       "    <tr>\n",
       "      <th>27</th>\n",
       "      <td>1bd2241076381b8c9e85d660512a013e</td>\n",
       "      <td>20220514</td>\n",
       "      <td>20</td>\n",
       "      <td>18039</td>\n",
       "      <td>1300</td>\n",
       "      <td>Census Tract 13, Elkhart County, Indiana</td>\n",
       "      <td>16</td>\n",
       "      <td>0</td>\n",
       "      <td>0</td>\n",
       "      <td>0</td>\n",
       "      <td>...</td>\n",
       "      <td>16</td>\n",
       "      <td>0</td>\n",
       "      <td>0</td>\n",
       "      <td>0</td>\n",
       "      <td>0</td>\n",
       "      <td>16</td>\n",
       "      <td>0</td>\n",
       "      <td>0</td>\n",
       "      <td>0</td>\n",
       "      <td>0</td>\n",
       "    </tr>\n",
       "    <tr>\n",
       "      <th>566</th>\n",
       "      <td>81594c0c7e4ef4c4cdbb7133d01cb361</td>\n",
       "      <td>20220101</td>\n",
       "      <td>1</td>\n",
       "      <td>18067</td>\n",
       "      <td>10100</td>\n",
       "      <td>Census Tract 101, Howard County, Indiana</td>\n",
       "      <td>28</td>\n",
       "      <td>0</td>\n",
       "      <td>0</td>\n",
       "      <td>15</td>\n",
       "      <td>...</td>\n",
       "      <td>14</td>\n",
       "      <td>14</td>\n",
       "      <td>0</td>\n",
       "      <td>0</td>\n",
       "      <td>0</td>\n",
       "      <td>0</td>\n",
       "      <td>0</td>\n",
       "      <td>0</td>\n",
       "      <td>0</td>\n",
       "      <td>28</td>\n",
       "    </tr>\n",
       "    <tr>\n",
       "      <th>1483</th>\n",
       "      <td>6f483941cceef95c97d28b4f904a0d57</td>\n",
       "      <td>20220129</td>\n",
       "      <td>5</td>\n",
       "      <td>18127</td>\n",
       "      <td>51002</td>\n",
       "      <td>Census Tract 510.02, Porter County, Indiana</td>\n",
       "      <td>37</td>\n",
       "      <td>0</td>\n",
       "      <td>0</td>\n",
       "      <td>14</td>\n",
       "      <td>...</td>\n",
       "      <td>16</td>\n",
       "      <td>21</td>\n",
       "      <td>0</td>\n",
       "      <td>0</td>\n",
       "      <td>0</td>\n",
       "      <td>0</td>\n",
       "      <td>0</td>\n",
       "      <td>0</td>\n",
       "      <td>0</td>\n",
       "      <td>37</td>\n",
       "    </tr>\n",
       "    <tr>\n",
       "      <th>3634</th>\n",
       "      <td>06c78e49b4daedfeb808c42e58fb25e4</td>\n",
       "      <td>20220402</td>\n",
       "      <td>14</td>\n",
       "      <td>18063</td>\n",
       "      <td>210603</td>\n",
       "      <td>Census Tract 2106.03, Hendricks County, Indiana</td>\n",
       "      <td>45</td>\n",
       "      <td>0</td>\n",
       "      <td>0</td>\n",
       "      <td>21</td>\n",
       "      <td>...</td>\n",
       "      <td>22</td>\n",
       "      <td>23</td>\n",
       "      <td>0</td>\n",
       "      <td>0</td>\n",
       "      <td>0</td>\n",
       "      <td>19</td>\n",
       "      <td>0</td>\n",
       "      <td>0</td>\n",
       "      <td>0</td>\n",
       "      <td>26</td>\n",
       "    </tr>\n",
       "    <tr>\n",
       "      <th>7094</th>\n",
       "      <td>9e943f3dccee65ed33733a794a4d030e</td>\n",
       "      <td>20220115</td>\n",
       "      <td>3</td>\n",
       "      <td>18097</td>\n",
       "      <td>321600</td>\n",
       "      <td>Census Tract 3216, Marion County, Indiana</td>\n",
       "      <td>37</td>\n",
       "      <td>0</td>\n",
       "      <td>0</td>\n",
       "      <td>17</td>\n",
       "      <td>...</td>\n",
       "      <td>22</td>\n",
       "      <td>15</td>\n",
       "      <td>0</td>\n",
       "      <td>0</td>\n",
       "      <td>0</td>\n",
       "      <td>26</td>\n",
       "      <td>0</td>\n",
       "      <td>0</td>\n",
       "      <td>0</td>\n",
       "      <td>11</td>\n",
       "    </tr>\n",
       "  </tbody>\n",
       "</table>\n",
       "<p>5 rows × 25 columns</p>\n",
       "</div>"
      ],
      "text/plain": [
       "                                 uu_id  timeperiod  week_number  countyfips  \\\n",
       "27    1bd2241076381b8c9e85d660512a013e    20220514           20       18039   \n",
       "566   81594c0c7e4ef4c4cdbb7133d01cb361    20220101            1       18067   \n",
       "1483  6f483941cceef95c97d28b4f904a0d57    20220129            5       18127   \n",
       "3634  06c78e49b4daedfeb808c42e58fb25e4    20220402           14       18063   \n",
       "7094  9e943f3dccee65ed33733a794a4d030e    20220115            3       18097   \n",
       "\n",
       "       tract                                       tract_name  total_claims  \\\n",
       "27      1300         Census Tract 13, Elkhart County, Indiana            16   \n",
       "566    10100         Census Tract 101, Howard County, Indiana            28   \n",
       "1483   51002      Census Tract 510.02, Porter County, Indiana            37   \n",
       "3634  210603  Census Tract 2106.03, Hendricks County, Indiana            45   \n",
       "7094  321600        Census Tract 3216, Marion County, Indiana            37   \n",
       "\n",
       "      edu_8th_or_less  edu_grades_9_11  edu_hs_grad_equiv  ...  gender_female  \\\n",
       "27                  0                0                  0  ...             16   \n",
       "566                 0                0                 15  ...             14   \n",
       "1483                0                0                 14  ...             16   \n",
       "3634                0                0                 21  ...             22   \n",
       "7094                0                0                 17  ...             22   \n",
       "\n",
       "      gender_male gender_na race_amerindian race_asian  race_black  \\\n",
       "27              0         0               0          0          16   \n",
       "566            14         0               0          0           0   \n",
       "1483           21         0               0          0           0   \n",
       "3634           23         0               0          0          19   \n",
       "7094           15         0               0          0          26   \n",
       "\n",
       "      race_noanswer  race_hawaiiannative  race_other  race_white  \n",
       "27                0                    0           0           0  \n",
       "566               0                    0           0          28  \n",
       "1483              0                    0           0          37  \n",
       "3634              0                    0           0          26  \n",
       "7094              0                    0           0          11  \n",
       "\n",
       "[5 rows x 25 columns]"
      ]
     },
     "execution_count": 119,
     "metadata": {},
     "output_type": "execute_result"
    }
   ],
   "source": [
    "df = unemployment_data.dropna()\n",
    "df.head()"
   ]
  },
  {
   "cell_type": "markdown",
   "id": "21844fca",
   "metadata": {},
   "source": [
    "- IMPORT THE LIBRARIES YOU WILL USE\n",
    "------------------------------------------\n",
    "You only need to import packages one time per notebook session. To keep your\n",
    "notebook clean and organized you can handle all imports at the top of your file.\n",
    "The following are included for example purposed, feel free to modify or delete \n",
    "anything in this section."
   ]
  },
  {
   "cell_type": "code",
   "execution_count": 120,
   "id": "4822a398",
   "metadata": {
    "execution": {
     "iopub.execute_input": "2023-05-10T02:49:52.385066Z",
     "iopub.status.busy": "2023-05-10T02:49:52.384985Z",
     "iopub.status.idle": "2023-05-10T02:49:52.518612Z",
     "shell.execute_reply": "2023-05-10T02:49:52.518318Z"
    }
   },
   "outputs": [],
   "source": [
    "import csv\n",
    "import pandas as pd\n",
    "import numpy as np\n",
    "import matplotlib\n",
    "import matplotlib.pyplot as plt\n",
    "import seaborn as sns\n",
    "get_ipython().run_line_magic('matplotlib', 'inline')\n",
    "from sklearn.model_selection import train_test_split \n",
    "from sklearn.linear_model import LinearRegression\n",
    "from sklearn import metrics"
   ]
  },
  {
   "cell_type": "code",
   "execution_count": 121,
   "id": "45692069",
   "metadata": {
    "execution": {
     "iopub.execute_input": "2023-05-10T02:49:52.520313Z",
     "iopub.status.busy": "2023-05-10T02:49:52.520117Z",
     "iopub.status.idle": "2023-05-10T02:49:52.522094Z",
     "shell.execute_reply": "2023-05-10T02:49:52.521850Z"
    }
   },
   "outputs": [],
   "source": [
    "from google.cloud import bigquery\n",
    "from google.oauth2 import service_account\n",
    "from google.cloud.bigquery import magics"
   ]
  },
  {
   "cell_type": "markdown",
   "id": "ab4e41b7",
   "metadata": {},
   "source": [
    "Here, I want to combine the gender into one dataframe. "
   ]
  },
  {
   "cell_type": "code",
   "execution_count": 122,
   "id": "6065ffff",
   "metadata": {
    "execution": {
     "iopub.execute_input": "2023-05-10T02:49:52.523536Z",
     "iopub.status.busy": "2023-05-10T02:49:52.523432Z",
     "iopub.status.idle": "2023-05-10T02:49:52.525771Z",
     "shell.execute_reply": "2023-05-10T02:49:52.525527Z"
    }
   },
   "outputs": [],
   "source": [
    "gender = df[['uu_id', 'total_claims', 'gender_female', 'gender_male', 'gender_na']]"
   ]
  },
  {
   "cell_type": "code",
   "execution_count": 123,
   "id": "1f933e6a",
   "metadata": {
    "execution": {
     "iopub.execute_input": "2023-05-10T02:49:52.527142Z",
     "iopub.status.busy": "2023-05-10T02:49:52.527040Z",
     "iopub.status.idle": "2023-05-10T02:49:52.528713Z",
     "shell.execute_reply": "2023-05-10T02:49:52.528483Z"
    }
   },
   "outputs": [],
   "source": [
    "query = \"\"\"\n",
    "SELECT *\n",
    "FROM `ironhacks-data.ironhacks_competition.unemployment_data` \n",
    "\"\"\""
   ]
  },
  {
   "cell_type": "code",
   "execution_count": 124,
   "id": "97b1e0e4",
   "metadata": {
    "execution": {
     "iopub.execute_input": "2023-05-10T02:49:52.529955Z",
     "iopub.status.busy": "2023-05-10T02:49:52.529853Z",
     "iopub.status.idle": "2023-05-10T02:49:53.991261Z",
     "shell.execute_reply": "2023-05-10T02:49:53.990305Z"
    }
   },
   "outputs": [
    {
     "name": "stdout",
     "output_type": "stream",
     "text": [
      "Index(['uu_id', 'timeperiod', 'week_number', 'countyfips', 'tract',\n",
      "       'tract_name', 'total_claims', 'edu_8th_or_less', 'edu_grades_9_11',\n",
      "       'edu_hs_grad_equiv', 'edu_post_hs', 'edu_unknown',\n",
      "       'top_category_employer1', 'top_category_employer2',\n",
      "       'top_category_employer3', 'gender_female', 'gender_male', 'gender_na',\n",
      "       'race_amerindian', 'race_asian', 'race_black', 'race_noanswer',\n",
      "       'race_hawaiiannative', 'race_other', 'race_white'],\n",
      "      dtype='object')\n"
     ]
    }
   ],
   "source": [
    "# QUERY THE DATA ONCE\n",
    "query_job = bigquery_client.query(query)\n",
    "unemployment_data = query_job.to_dataframe()\n",
    "unemployment_data.head(5)\n",
    "print(unemployment_data.columns)"
   ]
  },
  {
   "cell_type": "markdown",
   "id": "87b3ea82",
   "metadata": {},
   "source": [
    "SPLIT training set"
   ]
  },
  {
   "cell_type": "code",
   "execution_count": 125,
   "id": "cf4f3c2c",
   "metadata": {
    "execution": {
     "iopub.execute_input": "2023-05-10T02:49:53.995063Z",
     "iopub.status.busy": "2023-05-10T02:49:53.994736Z",
     "iopub.status.idle": "2023-05-10T02:49:53.998733Z",
     "shell.execute_reply": "2023-05-10T02:49:53.998156Z"
    }
   },
   "outputs": [],
   "source": [
    "x = df['edu_post_hs'].values.reshape(-1,1)\n",
    "y = df['total_claims'].values.reshape(-1,1)"
   ]
  },
  {
   "cell_type": "markdown",
   "id": "e862b3b5",
   "metadata": {},
   "source": [
    "SPLIT training set"
   ]
  },
  {
   "cell_type": "code",
   "execution_count": 126,
   "id": "25589a1b",
   "metadata": {
    "execution": {
     "iopub.execute_input": "2023-05-10T02:49:54.001606Z",
     "iopub.status.busy": "2023-05-10T02:49:54.001327Z",
     "iopub.status.idle": "2023-05-10T02:49:54.004726Z",
     "shell.execute_reply": "2023-05-10T02:49:54.004197Z"
    }
   },
   "outputs": [],
   "source": [
    "X = df['edu_post_hs'].values.reshape(-1,1)\n",
    "Y = df['total_claims'].values.reshape(-1,1)"
   ]
  },
  {
   "cell_type": "code",
   "execution_count": 127,
   "id": "c1322ba9",
   "metadata": {
    "execution": {
     "iopub.execute_input": "2023-05-10T02:49:54.007824Z",
     "iopub.status.busy": "2023-05-10T02:49:54.007448Z",
     "iopub.status.idle": "2023-05-10T02:49:54.011570Z",
     "shell.execute_reply": "2023-05-10T02:49:54.011056Z"
    }
   },
   "outputs": [],
   "source": [
    "X_train, X_test, y_train, y_test = train_test_split(X, y, test_size=0.2, random_state=0)"
   ]
  },
  {
   "cell_type": "code",
   "execution_count": 128,
   "id": "1b0610bc",
   "metadata": {
    "execution": {
     "iopub.execute_input": "2023-05-10T02:49:54.014033Z",
     "iopub.status.busy": "2023-05-10T02:49:54.013866Z",
     "iopub.status.idle": "2023-05-10T02:49:54.020547Z",
     "shell.execute_reply": "2023-05-10T02:49:54.020133Z"
    }
   },
   "outputs": [
    {
     "data": {
      "text/html": [
       "<style>#sk-container-id-1 {color: black;background-color: white;}#sk-container-id-1 pre{padding: 0;}#sk-container-id-1 div.sk-toggleable {background-color: white;}#sk-container-id-1 label.sk-toggleable__label {cursor: pointer;display: block;width: 100%;margin-bottom: 0;padding: 0.3em;box-sizing: border-box;text-align: center;}#sk-container-id-1 label.sk-toggleable__label-arrow:before {content: \"▸\";float: left;margin-right: 0.25em;color: #696969;}#sk-container-id-1 label.sk-toggleable__label-arrow:hover:before {color: black;}#sk-container-id-1 div.sk-estimator:hover label.sk-toggleable__label-arrow:before {color: black;}#sk-container-id-1 div.sk-toggleable__content {max-height: 0;max-width: 0;overflow: hidden;text-align: left;background-color: #f0f8ff;}#sk-container-id-1 div.sk-toggleable__content pre {margin: 0.2em;color: black;border-radius: 0.25em;background-color: #f0f8ff;}#sk-container-id-1 input.sk-toggleable__control:checked~div.sk-toggleable__content {max-height: 200px;max-width: 100%;overflow: auto;}#sk-container-id-1 input.sk-toggleable__control:checked~label.sk-toggleable__label-arrow:before {content: \"▾\";}#sk-container-id-1 div.sk-estimator input.sk-toggleable__control:checked~label.sk-toggleable__label {background-color: #d4ebff;}#sk-container-id-1 div.sk-label input.sk-toggleable__control:checked~label.sk-toggleable__label {background-color: #d4ebff;}#sk-container-id-1 input.sk-hidden--visually {border: 0;clip: rect(1px 1px 1px 1px);clip: rect(1px, 1px, 1px, 1px);height: 1px;margin: -1px;overflow: hidden;padding: 0;position: absolute;width: 1px;}#sk-container-id-1 div.sk-estimator {font-family: monospace;background-color: #f0f8ff;border: 1px dotted black;border-radius: 0.25em;box-sizing: border-box;margin-bottom: 0.5em;}#sk-container-id-1 div.sk-estimator:hover {background-color: #d4ebff;}#sk-container-id-1 div.sk-parallel-item::after {content: \"\";width: 100%;border-bottom: 1px solid gray;flex-grow: 1;}#sk-container-id-1 div.sk-label:hover label.sk-toggleable__label {background-color: #d4ebff;}#sk-container-id-1 div.sk-serial::before {content: \"\";position: absolute;border-left: 1px solid gray;box-sizing: border-box;top: 0;bottom: 0;left: 50%;z-index: 0;}#sk-container-id-1 div.sk-serial {display: flex;flex-direction: column;align-items: center;background-color: white;padding-right: 0.2em;padding-left: 0.2em;position: relative;}#sk-container-id-1 div.sk-item {position: relative;z-index: 1;}#sk-container-id-1 div.sk-parallel {display: flex;align-items: stretch;justify-content: center;background-color: white;position: relative;}#sk-container-id-1 div.sk-item::before, #sk-container-id-1 div.sk-parallel-item::before {content: \"\";position: absolute;border-left: 1px solid gray;box-sizing: border-box;top: 0;bottom: 0;left: 50%;z-index: -1;}#sk-container-id-1 div.sk-parallel-item {display: flex;flex-direction: column;z-index: 1;position: relative;background-color: white;}#sk-container-id-1 div.sk-parallel-item:first-child::after {align-self: flex-end;width: 50%;}#sk-container-id-1 div.sk-parallel-item:last-child::after {align-self: flex-start;width: 50%;}#sk-container-id-1 div.sk-parallel-item:only-child::after {width: 0;}#sk-container-id-1 div.sk-dashed-wrapped {border: 1px dashed gray;margin: 0 0.4em 0.5em 0.4em;box-sizing: border-box;padding-bottom: 0.4em;background-color: white;}#sk-container-id-1 div.sk-label label {font-family: monospace;font-weight: bold;display: inline-block;line-height: 1.2em;}#sk-container-id-1 div.sk-label-container {text-align: center;}#sk-container-id-1 div.sk-container {/* jupyter's `normalize.less` sets `[hidden] { display: none; }` but bootstrap.min.css set `[hidden] { display: none !important; }` so we also need the `!important` here to be able to override the default hidden behavior on the sphinx rendered scikit-learn.org. See: https://github.com/scikit-learn/scikit-learn/issues/21755 */display: inline-block !important;position: relative;}#sk-container-id-1 div.sk-text-repr-fallback {display: none;}</style><div id=\"sk-container-id-1\" class=\"sk-top-container\"><div class=\"sk-text-repr-fallback\"><pre>LinearRegression()</pre><b>In a Jupyter environment, please rerun this cell to show the HTML representation or trust the notebook. <br />On GitHub, the HTML representation is unable to render, please try loading this page with nbviewer.org.</b></div><div class=\"sk-container\" hidden><div class=\"sk-item\"><div class=\"sk-estimator sk-toggleable\"><input class=\"sk-toggleable__control sk-hidden--visually\" id=\"sk-estimator-id-1\" type=\"checkbox\" checked><label for=\"sk-estimator-id-1\" class=\"sk-toggleable__label sk-toggleable__label-arrow\">LinearRegression</label><div class=\"sk-toggleable__content\"><pre>LinearRegression()</pre></div></div></div></div></div>"
      ],
      "text/plain": [
       "LinearRegression()"
      ]
     },
     "execution_count": 128,
     "metadata": {},
     "output_type": "execute_result"
    }
   ],
   "source": [
    "regressor = LinearRegression()  \n",
    "regressor.fit(X_train, y_train)"
   ]
  },
  {
   "cell_type": "code",
   "execution_count": 129,
   "id": "42dc5422",
   "metadata": {
    "execution": {
     "iopub.execute_input": "2023-05-10T02:49:54.022823Z",
     "iopub.status.busy": "2023-05-10T02:49:54.022643Z",
     "iopub.status.idle": "2023-05-10T02:49:54.025587Z",
     "shell.execute_reply": "2023-05-10T02:49:54.024849Z"
    }
   },
   "outputs": [
    {
     "name": "stdout",
     "output_type": "stream",
     "text": [
      "[30.28846154]\n"
     ]
    }
   ],
   "source": [
    "#To retrieve the intercept:\n",
    "print(regressor.intercept_)"
   ]
  },
  {
   "cell_type": "code",
   "execution_count": 130,
   "id": "18aa0524",
   "metadata": {
    "execution": {
     "iopub.execute_input": "2023-05-10T02:49:54.028016Z",
     "iopub.status.busy": "2023-05-10T02:49:54.027830Z",
     "iopub.status.idle": "2023-05-10T02:49:54.030392Z",
     "shell.execute_reply": "2023-05-10T02:49:54.030043Z"
    }
   },
   "outputs": [
    {
     "name": "stdout",
     "output_type": "stream",
     "text": [
      "[[0.90811966]]\n"
     ]
    }
   ],
   "source": [
    "#For retrieving the slope:\n",
    "print(regressor.coef_)"
   ]
  },
  {
   "cell_type": "code",
   "execution_count": 131,
   "id": "1570453b",
   "metadata": {
    "execution": {
     "iopub.execute_input": "2023-05-10T02:49:54.032303Z",
     "iopub.status.busy": "2023-05-10T02:49:54.032150Z",
     "iopub.status.idle": "2023-05-10T02:49:54.034360Z",
     "shell.execute_reply": "2023-05-10T02:49:54.034002Z"
    }
   },
   "outputs": [],
   "source": [
    "y_pred = regressor.predict(X_test)"
   ]
  },
  {
   "cell_type": "code",
   "execution_count": 132,
   "id": "6ba683c8",
   "metadata": {
    "execution": {
     "iopub.execute_input": "2023-05-10T02:49:54.036067Z",
     "iopub.status.busy": "2023-05-10T02:49:54.035928Z",
     "iopub.status.idle": "2023-05-10T02:49:54.045319Z",
     "shell.execute_reply": "2023-05-10T02:49:54.045003Z"
    }
   },
   "outputs": [
    {
     "ename": "AttributeError",
     "evalue": "'IntegerArray' object has no attribute 'flatten'",
     "output_type": "error",
     "traceback": [
      "\u001b[0;31m---------------------------------------------------------------------------\u001b[0m",
      "\u001b[0;31mAttributeError\u001b[0m                            Traceback (most recent call last)",
      "Cell \u001b[0;32mIn [132], line 1\u001b[0m\n\u001b[0;32m----> 1\u001b[0m df2 \u001b[38;5;241m=\u001b[39m pd\u001b[38;5;241m.\u001b[39mDataFrame({\u001b[38;5;124m'\u001b[39m\u001b[38;5;124mActual\u001b[39m\u001b[38;5;124m'\u001b[39m: \u001b[43my_test\u001b[49m\u001b[38;5;241;43m.\u001b[39;49m\u001b[43mflatten\u001b[49m(), \u001b[38;5;124m'\u001b[39m\u001b[38;5;124mPredicted\u001b[39m\u001b[38;5;124m'\u001b[39m: y_pred\u001b[38;5;241m.\u001b[39mflatten()})\n\u001b[1;32m      2\u001b[0m df2\n",
      "\u001b[0;31mAttributeError\u001b[0m: 'IntegerArray' object has no attribute 'flatten'"
     ]
    }
   ],
   "source": [
    "df2 = pd.DataFrame({'Actual': y_test.flatten(), 'Predicted': y_pred.flatten()})\n",
    "df2"
   ]
  },
  {
   "cell_type": "code",
   "execution_count": 133,
   "id": "eebf3781",
   "metadata": {
    "execution": {
     "iopub.execute_input": "2023-05-10T02:49:54.046989Z",
     "iopub.status.busy": "2023-05-10T02:49:54.046861Z",
     "iopub.status.idle": "2023-05-10T02:49:54.054469Z",
     "shell.execute_reply": "2023-05-10T02:49:54.054203Z"
    }
   },
   "outputs": [
    {
     "ename": "AttributeError",
     "evalue": "'IntegerArray' object has no attribute 'flatten'",
     "output_type": "error",
     "traceback": [
      "\u001b[0;31m---------------------------------------------------------------------------\u001b[0m",
      "\u001b[0;31mAttributeError\u001b[0m                            Traceback (most recent call last)",
      "Cell \u001b[0;32mIn [133], line 1\u001b[0m\n\u001b[0;32m----> 1\u001b[0m df2 \u001b[38;5;241m=\u001b[39m pd\u001b[38;5;241m.\u001b[39mDataFrame({\u001b[38;5;124m'\u001b[39m\u001b[38;5;124mActual\u001b[39m\u001b[38;5;124m'\u001b[39m: \u001b[43my_test\u001b[49m\u001b[38;5;241;43m.\u001b[39;49m\u001b[43mflatten\u001b[49m(), \u001b[38;5;124m'\u001b[39m\u001b[38;5;124mPredicted\u001b[39m\u001b[38;5;124m'\u001b[39m: y_pred\u001b[38;5;241m.\u001b[39mflatten()})\n\u001b[1;32m      2\u001b[0m df2\n",
      "\u001b[0;31mAttributeError\u001b[0m: 'IntegerArray' object has no attribute 'flatten'"
     ]
    }
   ],
   "source": [
    "df2 = pd.DataFrame({'Actual': y_test.flatten(), 'Predicted': y_pred.flatten()})\n",
    "df2"
   ]
  },
  {
   "cell_type": "code",
   "execution_count": 134,
   "id": "53b699c7",
   "metadata": {
    "execution": {
     "iopub.execute_input": "2023-05-10T02:49:54.055872Z",
     "iopub.status.busy": "2023-05-10T02:49:54.055781Z",
     "iopub.status.idle": "2023-05-10T02:49:54.057745Z",
     "shell.execute_reply": "2023-05-10T02:49:54.057477Z"
    }
   },
   "outputs": [],
   "source": [
    "y_pred = regressor.predict(X_test)"
   ]
  },
  {
   "cell_type": "code",
   "execution_count": 135,
   "id": "1d997919",
   "metadata": {
    "execution": {
     "iopub.execute_input": "2023-05-10T02:49:54.059498Z",
     "iopub.status.busy": "2023-05-10T02:49:54.059388Z",
     "iopub.status.idle": "2023-05-10T02:49:54.066358Z",
     "shell.execute_reply": "2023-05-10T02:49:54.066106Z"
    }
   },
   "outputs": [
    {
     "ename": "AttributeError",
     "evalue": "'IntegerArray' object has no attribute 'flatten'",
     "output_type": "error",
     "traceback": [
      "\u001b[0;31m---------------------------------------------------------------------------\u001b[0m",
      "\u001b[0;31mAttributeError\u001b[0m                            Traceback (most recent call last)",
      "Cell \u001b[0;32mIn [135], line 1\u001b[0m\n\u001b[0;32m----> 1\u001b[0m df2 \u001b[38;5;241m=\u001b[39m pd\u001b[38;5;241m.\u001b[39mDataFrame({\u001b[38;5;124m'\u001b[39m\u001b[38;5;124mActual\u001b[39m\u001b[38;5;124m'\u001b[39m: \u001b[43my_test\u001b[49m\u001b[38;5;241;43m.\u001b[39;49m\u001b[43mflatten\u001b[49m(), \u001b[38;5;124m'\u001b[39m\u001b[38;5;124mPredicted\u001b[39m\u001b[38;5;124m'\u001b[39m: y_pred\u001b[38;5;241m.\u001b[39mflatten()})\n\u001b[1;32m      2\u001b[0m df2\n",
      "\u001b[0;31mAttributeError\u001b[0m: 'IntegerArray' object has no attribute 'flatten'"
     ]
    }
   ],
   "source": [
    "df2 = pd.DataFrame({'Actual': y_test.flatten(), 'Predicted': y_pred.flatten()})\n",
    "df2"
   ]
  },
  {
   "cell_type": "code",
   "execution_count": 136,
   "id": "3d96085b",
   "metadata": {
    "execution": {
     "iopub.execute_input": "2023-05-10T02:49:54.067731Z",
     "iopub.status.busy": "2023-05-10T02:49:54.067644Z",
     "iopub.status.idle": "2023-05-10T02:49:54.071549Z",
     "shell.execute_reply": "2023-05-10T02:49:54.071259Z"
    }
   },
   "outputs": [
    {
     "data": {
      "text/html": [
       "<div>\n",
       "<style scoped>\n",
       "    .dataframe tbody tr th:only-of-type {\n",
       "        vertical-align: middle;\n",
       "    }\n",
       "\n",
       "    .dataframe tbody tr th {\n",
       "        vertical-align: top;\n",
       "    }\n",
       "\n",
       "    .dataframe thead th {\n",
       "        text-align: right;\n",
       "    }\n",
       "</style>\n",
       "<table border=\"1\" class=\"dataframe\">\n",
       "  <thead>\n",
       "    <tr style=\"text-align: right;\">\n",
       "      <th></th>\n",
       "      <th>Actual</th>\n",
       "      <th>Predicted</th>\n",
       "    </tr>\n",
       "  </thead>\n",
       "  <tbody>\n",
       "    <tr>\n",
       "      <th>0</th>\n",
       "      <td>(28,)</td>\n",
       "      <td>42.094017</td>\n",
       "    </tr>\n",
       "    <tr>\n",
       "      <th>1</th>\n",
       "      <td>(73,)</td>\n",
       "      <td>48.450855</td>\n",
       "    </tr>\n",
       "    <tr>\n",
       "      <th>2</th>\n",
       "      <td>(53,)</td>\n",
       "      <td>49.358974</td>\n",
       "    </tr>\n",
       "    <tr>\n",
       "      <th>3</th>\n",
       "      <td>(37,)</td>\n",
       "      <td>39.369658</td>\n",
       "    </tr>\n",
       "  </tbody>\n",
       "</table>\n",
       "</div>"
      ],
      "text/plain": [
       "  Actual  Predicted\n",
       "0  (28,)  42.094017\n",
       "1  (73,)  48.450855\n",
       "2  (53,)  49.358974\n",
       "3  (37,)  39.369658"
      ]
     },
     "execution_count": 136,
     "metadata": {},
     "output_type": "execute_result"
    }
   ],
   "source": [
    "df2 = pd.DataFrame({'Actual': y_test, 'Predicted': y_pred.flatten()})\n",
    "df2"
   ]
  },
  {
   "cell_type": "code",
   "execution_count": 137,
   "id": "002b97ba",
   "metadata": {
    "execution": {
     "iopub.execute_input": "2023-05-10T02:49:54.073024Z",
     "iopub.status.busy": "2023-05-10T02:49:54.072942Z",
     "iopub.status.idle": "2023-05-10T02:49:54.076555Z",
     "shell.execute_reply": "2023-05-10T02:49:54.076297Z"
    }
   },
   "outputs": [
    {
     "data": {
      "text/html": [
       "<div>\n",
       "<style scoped>\n",
       "    .dataframe tbody tr th:only-of-type {\n",
       "        vertical-align: middle;\n",
       "    }\n",
       "\n",
       "    .dataframe tbody tr th {\n",
       "        vertical-align: top;\n",
       "    }\n",
       "\n",
       "    .dataframe thead th {\n",
       "        text-align: right;\n",
       "    }\n",
       "</style>\n",
       "<table border=\"1\" class=\"dataframe\">\n",
       "  <thead>\n",
       "    <tr style=\"text-align: right;\">\n",
       "      <th></th>\n",
       "      <th>Actual</th>\n",
       "      <th>Predicted</th>\n",
       "    </tr>\n",
       "  </thead>\n",
       "  <tbody>\n",
       "    <tr>\n",
       "      <th>0</th>\n",
       "      <td>(28,)</td>\n",
       "      <td>42.094017</td>\n",
       "    </tr>\n",
       "    <tr>\n",
       "      <th>1</th>\n",
       "      <td>(73,)</td>\n",
       "      <td>48.450855</td>\n",
       "    </tr>\n",
       "    <tr>\n",
       "      <th>2</th>\n",
       "      <td>(53,)</td>\n",
       "      <td>49.358974</td>\n",
       "    </tr>\n",
       "    <tr>\n",
       "      <th>3</th>\n",
       "      <td>(37,)</td>\n",
       "      <td>39.369658</td>\n",
       "    </tr>\n",
       "  </tbody>\n",
       "</table>\n",
       "</div>"
      ],
      "text/plain": [
       "  Actual  Predicted\n",
       "0  (28,)  42.094017\n",
       "1  (73,)  48.450855\n",
       "2  (53,)  49.358974\n",
       "3  (37,)  39.369658"
      ]
     },
     "execution_count": 137,
     "metadata": {},
     "output_type": "execute_result"
    }
   ],
   "source": [
    "df2 = pd.DataFrame({'Actual': y_test , 'Predicted': y_pred.flatten()})\n",
    "df2"
   ]
  },
  {
   "cell_type": "code",
   "execution_count": 138,
   "id": "47f4f994",
   "metadata": {
    "execution": {
     "iopub.execute_input": "2023-05-10T02:49:54.077871Z",
     "iopub.status.busy": "2023-05-10T02:49:54.077784Z",
     "iopub.status.idle": "2023-05-10T02:49:54.597094Z",
     "shell.execute_reply": "2023-05-10T02:49:54.596808Z"
    }
   },
   "outputs": [
    {
     "data": {
      "image/png": "[encoded data removed]",
      "text/plain": [
       "<Figure size 1600x1000 with 1 Axes>"
      ]
     },
     "metadata": {},
     "output_type": "display_data"
    }
   ],
   "source": [
    "df1 = df.head(25)\n",
    "df1.plot(kind='bar',figsize=(16,10))\n",
    "plt.grid(which='major', linestyle='-', linewidth='0.5', color='green')\n",
    "plt.grid(which='minor', linestyle=':', linewidth='0.5', color='black')\n",
    "plt.show()"
   ]
  },
  {
   "cell_type": "code",
   "execution_count": 139,
   "id": "d6b8ba20",
   "metadata": {
    "execution": {
     "iopub.execute_input": "2023-05-10T02:49:54.598585Z",
     "iopub.status.busy": "2023-05-10T02:49:54.598476Z",
     "iopub.status.idle": "2023-05-10T02:49:54.646713Z",
     "shell.execute_reply": "2023-05-10T02:49:54.646434Z"
    }
   },
   "outputs": [
    {
     "data": {
      "image/png": "[encoded data removed]",
      "text/plain": [
       "<Figure size 640x480 with 1 Axes>"
      ]
     },
     "metadata": {},
     "output_type": "display_data"
    }
   ],
   "source": [
    "plt.scatter(X_test, y_test,  color='gray')\n",
    "plt.plot(X_test, y_pred, color='red', linewidth=2)\n",
    "plt.show()"
   ]
  },
  {
   "cell_type": "code",
   "execution_count": 140,
   "id": "5ce8fee4",
   "metadata": {
    "execution": {
     "iopub.execute_input": "2023-05-10T02:49:54.648228Z",
     "iopub.status.busy": "2023-05-10T02:49:54.648120Z",
     "iopub.status.idle": "2023-05-10T02:49:54.650740Z",
     "shell.execute_reply": "2023-05-10T02:49:54.650469Z"
    }
   },
   "outputs": [
    {
     "name": "stdout",
     "output_type": "stream",
     "text": [
      "Mean Absolute Error: 11.163461538461537\n",
      "Mean Squared Error: 205.04355002191537\n",
      "Root Mean Squared Error: 14.31934181524819\n"
     ]
    }
   ],
   "source": [
    "print('Mean Absolute Error:', metrics.mean_absolute_error(y_test, y_pred))  \n",
    "print('Mean Squared Error:', metrics.mean_squared_error(y_test, y_pred))  \n",
    "print('Root Mean Squared Error:', np.sqrt(metrics.mean_squared_error(y_test, y_pred)))"
   ]
  },
  {
   "cell_type": "code",
   "execution_count": 141,
   "id": "877d3a71",
   "metadata": {
    "execution": {
     "iopub.execute_input": "2023-05-10T02:49:54.652154Z",
     "iopub.status.busy": "2023-05-10T02:49:54.652057Z",
     "iopub.status.idle": "2023-05-10T02:49:54.997162Z",
     "shell.execute_reply": "2023-05-10T02:49:54.996794Z"
    }
   },
   "outputs": [
    {
     "data": {
      "image/png": "[encoded data removed]",
      "text/plain": [
       "<Figure size 1600x1000 with 1 Axes>"
      ]
     },
     "metadata": {},
     "output_type": "display_data"
    }
   ],
   "source": [
    "df2 = df.head(25)\n",
    "df1.plot(kind='bar',figsize=(16,10))\n",
    "plt.grid(which='major', linestyle='-', linewidth='0.5', color='green')\n",
    "plt.grid(which='minor', linestyle=':', linewidth='0.5', color='black')\n",
    "plt.show()"
   ]
  },
  {
   "cell_type": "code",
   "execution_count": 142,
   "id": "3ba27271",
   "metadata": {
    "execution": {
     "iopub.execute_input": "2023-05-10T02:49:54.998803Z",
     "iopub.status.busy": "2023-05-10T02:49:54.998682Z",
     "iopub.status.idle": "2023-05-10T02:49:55.006136Z",
     "shell.execute_reply": "2023-05-10T02:49:55.005875Z"
    }
   },
   "outputs": [
    {
     "ename": "AttributeError",
     "evalue": "'IntegerArray' object has no attribute 'flatten'",
     "output_type": "error",
     "traceback": [
      "\u001b[0;31m---------------------------------------------------------------------------\u001b[0m",
      "\u001b[0;31mAttributeError\u001b[0m                            Traceback (most recent call last)",
      "Cell \u001b[0;32mIn [142], line 1\u001b[0m\n\u001b[0;32m----> 1\u001b[0m df2 \u001b[38;5;241m=\u001b[39m pd\u001b[38;5;241m.\u001b[39mDataFrame({\u001b[38;5;124m'\u001b[39m\u001b[38;5;124mActual\u001b[39m\u001b[38;5;124m'\u001b[39m: \u001b[43my_test\u001b[49m\u001b[38;5;241;43m.\u001b[39;49m\u001b[43mflatten\u001b[49m() , \u001b[38;5;124m'\u001b[39m\u001b[38;5;124mPredicted\u001b[39m\u001b[38;5;124m'\u001b[39m: y_pred\u001b[38;5;241m.\u001b[39mflatten()})\n\u001b[1;32m      2\u001b[0m df2\n",
      "\u001b[0;31mAttributeError\u001b[0m: 'IntegerArray' object has no attribute 'flatten'"
     ]
    }
   ],
   "source": [
    "df2 = pd.DataFrame({'Actual': y_test.flatten() , 'Predicted': y_pred.flatten()})\n",
    "df2"
   ]
  },
  {
   "cell_type": "markdown",
   "id": "07fdd634",
   "metadata": {},
   "source": [
    "SPLIT training set"
   ]
  },
  {
   "cell_type": "code",
   "execution_count": 143,
   "id": "5abec6ab",
   "metadata": {
    "execution": {
     "iopub.execute_input": "2023-05-10T02:49:55.007629Z",
     "iopub.status.busy": "2023-05-10T02:49:55.007519Z",
     "iopub.status.idle": "2023-05-10T02:49:55.009602Z",
     "shell.execute_reply": "2023-05-10T02:49:55.009347Z"
    }
   },
   "outputs": [],
   "source": [
    "X = df['uu_id'].values.reshape(-1,1)\n",
    "Y = df['total_claims'].values.reshape(-1,1)"
   ]
  },
  {
   "cell_type": "code",
   "execution_count": 144,
   "id": "e2159adb",
   "metadata": {
    "execution": {
     "iopub.execute_input": "2023-05-10T02:49:55.011112Z",
     "iopub.status.busy": "2023-05-10T02:49:55.011002Z",
     "iopub.status.idle": "2023-05-10T02:49:55.013327Z",
     "shell.execute_reply": "2023-05-10T02:49:55.013077Z"
    }
   },
   "outputs": [],
   "source": [
    "X_train, X_test, y_train, y_test = train_test_split(X, y, test_size=0.2, random_state=0)"
   ]
  },
  {
   "cell_type": "code",
   "execution_count": 145,
   "id": "b4a1fff7",
   "metadata": {
    "execution": {
     "iopub.execute_input": "2023-05-10T02:49:55.014743Z",
     "iopub.status.busy": "2023-05-10T02:49:55.014630Z",
     "iopub.status.idle": "2023-05-10T02:49:55.130816Z",
     "shell.execute_reply": "2023-05-10T02:49:55.130504Z"
    }
   },
   "outputs": [
    {
     "ename": "ValueError",
     "evalue": "could not convert string to float: 'def0c3fa02633394cd2b5041de7710ac'",
     "output_type": "error",
     "traceback": [
      "\u001b[0;31m---------------------------------------------------------------------------\u001b[0m",
      "\u001b[0;31mValueError\u001b[0m                                Traceback (most recent call last)",
      "Cell \u001b[0;32mIn [145], line 2\u001b[0m\n\u001b[1;32m      1\u001b[0m regressor \u001b[38;5;241m=\u001b[39m LinearRegression()  \n\u001b[0;32m----> 2\u001b[0m \u001b[43mregressor\u001b[49m\u001b[38;5;241;43m.\u001b[39;49m\u001b[43mfit\u001b[49m\u001b[43m(\u001b[49m\u001b[43mX_train\u001b[49m\u001b[43m,\u001b[49m\u001b[43m \u001b[49m\u001b[43my_train\u001b[49m\u001b[43m)\u001b[49m\n",
      "File \u001b[0;32m/opt/homebrew/lib/python3.9/site-packages/sklearn/linear_model/_base.py:649\u001b[0m, in \u001b[0;36mLinearRegression.fit\u001b[0;34m(self, X, y, sample_weight)\u001b[0m\n\u001b[1;32m    645\u001b[0m n_jobs_ \u001b[38;5;241m=\u001b[39m \u001b[38;5;28mself\u001b[39m\u001b[38;5;241m.\u001b[39mn_jobs\n\u001b[1;32m    647\u001b[0m accept_sparse \u001b[38;5;241m=\u001b[39m \u001b[38;5;28;01mFalse\u001b[39;00m \u001b[38;5;28;01mif\u001b[39;00m \u001b[38;5;28mself\u001b[39m\u001b[38;5;241m.\u001b[39mpositive \u001b[38;5;28;01melse\u001b[39;00m [\u001b[38;5;124m\"\u001b[39m\u001b[38;5;124mcsr\u001b[39m\u001b[38;5;124m\"\u001b[39m, \u001b[38;5;124m\"\u001b[39m\u001b[38;5;124mcsc\u001b[39m\u001b[38;5;124m\"\u001b[39m, \u001b[38;5;124m\"\u001b[39m\u001b[38;5;124mcoo\u001b[39m\u001b[38;5;124m\"\u001b[39m]\n\u001b[0;32m--> 649\u001b[0m X, y \u001b[38;5;241m=\u001b[39m \u001b[38;5;28;43mself\u001b[39;49m\u001b[38;5;241;43m.\u001b[39;49m\u001b[43m_validate_data\u001b[49m\u001b[43m(\u001b[49m\n\u001b[1;32m    650\u001b[0m \u001b[43m    \u001b[49m\u001b[43mX\u001b[49m\u001b[43m,\u001b[49m\u001b[43m \u001b[49m\u001b[43my\u001b[49m\u001b[43m,\u001b[49m\u001b[43m \u001b[49m\u001b[43maccept_sparse\u001b[49m\u001b[38;5;241;43m=\u001b[39;49m\u001b[43maccept_sparse\u001b[49m\u001b[43m,\u001b[49m\u001b[43m \u001b[49m\u001b[43my_numeric\u001b[49m\u001b[38;5;241;43m=\u001b[39;49m\u001b[38;5;28;43;01mTrue\u001b[39;49;00m\u001b[43m,\u001b[49m\u001b[43m \u001b[49m\u001b[43mmulti_output\u001b[49m\u001b[38;5;241;43m=\u001b[39;49m\u001b[38;5;28;43;01mTrue\u001b[39;49;00m\n\u001b[1;32m    651\u001b[0m \u001b[43m\u001b[49m\u001b[43m)\u001b[49m\n\u001b[1;32m    653\u001b[0m sample_weight \u001b[38;5;241m=\u001b[39m _check_sample_weight(\n\u001b[1;32m    654\u001b[0m     sample_weight, X, dtype\u001b[38;5;241m=\u001b[39mX\u001b[38;5;241m.\u001b[39mdtype, only_non_negative\u001b[38;5;241m=\u001b[39m\u001b[38;5;28;01mTrue\u001b[39;00m\n\u001b[1;32m    655\u001b[0m )\n\u001b[1;32m    657\u001b[0m X, y, X_offset, y_offset, X_scale \u001b[38;5;241m=\u001b[39m _preprocess_data(\n\u001b[1;32m    658\u001b[0m     X,\n\u001b[1;32m    659\u001b[0m     y,\n\u001b[0;32m   (...)\u001b[0m\n\u001b[1;32m    662\u001b[0m     sample_weight\u001b[38;5;241m=\u001b[39msample_weight,\n\u001b[1;32m    663\u001b[0m )\n",
      "File \u001b[0;32m/opt/homebrew/lib/python3.9/site-packages/sklearn/base.py:554\u001b[0m, in \u001b[0;36mBaseEstimator._validate_data\u001b[0;34m(self, X, y, reset, validate_separately, **check_params)\u001b[0m\n\u001b[1;32m    552\u001b[0m         y \u001b[38;5;241m=\u001b[39m check_array(y, input_name\u001b[38;5;241m=\u001b[39m\u001b[38;5;124m\"\u001b[39m\u001b[38;5;124my\u001b[39m\u001b[38;5;124m\"\u001b[39m, \u001b[38;5;241m*\u001b[39m\u001b[38;5;241m*\u001b[39mcheck_y_params)\n\u001b[1;32m    553\u001b[0m     \u001b[38;5;28;01melse\u001b[39;00m:\n\u001b[0;32m--> 554\u001b[0m         X, y \u001b[38;5;241m=\u001b[39m \u001b[43mcheck_X_y\u001b[49m\u001b[43m(\u001b[49m\u001b[43mX\u001b[49m\u001b[43m,\u001b[49m\u001b[43m \u001b[49m\u001b[43my\u001b[49m\u001b[43m,\u001b[49m\u001b[43m \u001b[49m\u001b[38;5;241;43m*\u001b[39;49m\u001b[38;5;241;43m*\u001b[39;49m\u001b[43mcheck_params\u001b[49m\u001b[43m)\u001b[49m\n\u001b[1;32m    555\u001b[0m     out \u001b[38;5;241m=\u001b[39m X, y\n\u001b[1;32m    557\u001b[0m \u001b[38;5;28;01mif\u001b[39;00m \u001b[38;5;129;01mnot\u001b[39;00m no_val_X \u001b[38;5;129;01mand\u001b[39;00m check_params\u001b[38;5;241m.\u001b[39mget(\u001b[38;5;124m\"\u001b[39m\u001b[38;5;124mensure_2d\u001b[39m\u001b[38;5;124m\"\u001b[39m, \u001b[38;5;28;01mTrue\u001b[39;00m):\n",
      "File \u001b[0;32m/opt/homebrew/lib/python3.9/site-packages/sklearn/utils/validation.py:1104\u001b[0m, in \u001b[0;36mcheck_X_y\u001b[0;34m(X, y, accept_sparse, accept_large_sparse, dtype, order, copy, force_all_finite, ensure_2d, allow_nd, multi_output, ensure_min_samples, ensure_min_features, y_numeric, estimator)\u001b[0m\n\u001b[1;32m   1099\u001b[0m         estimator_name \u001b[38;5;241m=\u001b[39m _check_estimator_name(estimator)\n\u001b[1;32m   1100\u001b[0m     \u001b[38;5;28;01mraise\u001b[39;00m \u001b[38;5;167;01mValueError\u001b[39;00m(\n\u001b[1;32m   1101\u001b[0m         \u001b[38;5;124mf\u001b[39m\u001b[38;5;124m\"\u001b[39m\u001b[38;5;132;01m{\u001b[39;00mestimator_name\u001b[38;5;132;01m}\u001b[39;00m\u001b[38;5;124m requires y to be passed, but the target y is None\u001b[39m\u001b[38;5;124m\"\u001b[39m\n\u001b[1;32m   1102\u001b[0m     )\n\u001b[0;32m-> 1104\u001b[0m X \u001b[38;5;241m=\u001b[39m \u001b[43mcheck_array\u001b[49m\u001b[43m(\u001b[49m\n\u001b[1;32m   1105\u001b[0m \u001b[43m    \u001b[49m\u001b[43mX\u001b[49m\u001b[43m,\u001b[49m\n\u001b[1;32m   1106\u001b[0m \u001b[43m    \u001b[49m\u001b[43maccept_sparse\u001b[49m\u001b[38;5;241;43m=\u001b[39;49m\u001b[43maccept_sparse\u001b[49m\u001b[43m,\u001b[49m\n\u001b[1;32m   1107\u001b[0m \u001b[43m    \u001b[49m\u001b[43maccept_large_sparse\u001b[49m\u001b[38;5;241;43m=\u001b[39;49m\u001b[43maccept_large_sparse\u001b[49m\u001b[43m,\u001b[49m\n\u001b[1;32m   1108\u001b[0m \u001b[43m    \u001b[49m\u001b[43mdtype\u001b[49m\u001b[38;5;241;43m=\u001b[39;49m\u001b[43mdtype\u001b[49m\u001b[43m,\u001b[49m\n\u001b[1;32m   1109\u001b[0m \u001b[43m    \u001b[49m\u001b[43morder\u001b[49m\u001b[38;5;241;43m=\u001b[39;49m\u001b[43morder\u001b[49m\u001b[43m,\u001b[49m\n\u001b[1;32m   1110\u001b[0m \u001b[43m    \u001b[49m\u001b[43mcopy\u001b[49m\u001b[38;5;241;43m=\u001b[39;49m\u001b[43mcopy\u001b[49m\u001b[43m,\u001b[49m\n\u001b[1;32m   1111\u001b[0m \u001b[43m    \u001b[49m\u001b[43mforce_all_finite\u001b[49m\u001b[38;5;241;43m=\u001b[39;49m\u001b[43mforce_all_finite\u001b[49m\u001b[43m,\u001b[49m\n\u001b[1;32m   1112\u001b[0m \u001b[43m    \u001b[49m\u001b[43mensure_2d\u001b[49m\u001b[38;5;241;43m=\u001b[39;49m\u001b[43mensure_2d\u001b[49m\u001b[43m,\u001b[49m\n\u001b[1;32m   1113\u001b[0m \u001b[43m    \u001b[49m\u001b[43mallow_nd\u001b[49m\u001b[38;5;241;43m=\u001b[39;49m\u001b[43mallow_nd\u001b[49m\u001b[43m,\u001b[49m\n\u001b[1;32m   1114\u001b[0m \u001b[43m    \u001b[49m\u001b[43mensure_min_samples\u001b[49m\u001b[38;5;241;43m=\u001b[39;49m\u001b[43mensure_min_samples\u001b[49m\u001b[43m,\u001b[49m\n\u001b[1;32m   1115\u001b[0m \u001b[43m    \u001b[49m\u001b[43mensure_min_features\u001b[49m\u001b[38;5;241;43m=\u001b[39;49m\u001b[43mensure_min_features\u001b[49m\u001b[43m,\u001b[49m\n\u001b[1;32m   1116\u001b[0m \u001b[43m    \u001b[49m\u001b[43mestimator\u001b[49m\u001b[38;5;241;43m=\u001b[39;49m\u001b[43mestimator\u001b[49m\u001b[43m,\u001b[49m\n\u001b[1;32m   1117\u001b[0m \u001b[43m    \u001b[49m\u001b[43minput_name\u001b[49m\u001b[38;5;241;43m=\u001b[39;49m\u001b[38;5;124;43m\"\u001b[39;49m\u001b[38;5;124;43mX\u001b[39;49m\u001b[38;5;124;43m\"\u001b[39;49m\u001b[43m,\u001b[49m\n\u001b[1;32m   1118\u001b[0m \u001b[43m\u001b[49m\u001b[43m)\u001b[49m\n\u001b[1;32m   1120\u001b[0m y \u001b[38;5;241m=\u001b[39m _check_y(y, multi_output\u001b[38;5;241m=\u001b[39mmulti_output, y_numeric\u001b[38;5;241m=\u001b[39my_numeric, estimator\u001b[38;5;241m=\u001b[39mestimator)\n\u001b[1;32m   1122\u001b[0m check_consistent_length(X, y)\n",
      "File \u001b[0;32m/opt/homebrew/lib/python3.9/site-packages/sklearn/utils/validation.py:877\u001b[0m, in \u001b[0;36mcheck_array\u001b[0;34m(array, accept_sparse, accept_large_sparse, dtype, order, copy, force_all_finite, ensure_2d, allow_nd, ensure_min_samples, ensure_min_features, estimator, input_name)\u001b[0m\n\u001b[1;32m    875\u001b[0m         array \u001b[38;5;241m=\u001b[39m xp\u001b[38;5;241m.\u001b[39mastype(array, dtype, copy\u001b[38;5;241m=\u001b[39m\u001b[38;5;28;01mFalse\u001b[39;00m)\n\u001b[1;32m    876\u001b[0m     \u001b[38;5;28;01melse\u001b[39;00m:\n\u001b[0;32m--> 877\u001b[0m         array \u001b[38;5;241m=\u001b[39m \u001b[43m_asarray_with_order\u001b[49m\u001b[43m(\u001b[49m\u001b[43marray\u001b[49m\u001b[43m,\u001b[49m\u001b[43m \u001b[49m\u001b[43morder\u001b[49m\u001b[38;5;241;43m=\u001b[39;49m\u001b[43morder\u001b[49m\u001b[43m,\u001b[49m\u001b[43m \u001b[49m\u001b[43mdtype\u001b[49m\u001b[38;5;241;43m=\u001b[39;49m\u001b[43mdtype\u001b[49m\u001b[43m,\u001b[49m\u001b[43m \u001b[49m\u001b[43mxp\u001b[49m\u001b[38;5;241;43m=\u001b[39;49m\u001b[43mxp\u001b[49m\u001b[43m)\u001b[49m\n\u001b[1;32m    878\u001b[0m \u001b[38;5;28;01mexcept\u001b[39;00m ComplexWarning \u001b[38;5;28;01mas\u001b[39;00m complex_warning:\n\u001b[1;32m    879\u001b[0m     \u001b[38;5;28;01mraise\u001b[39;00m \u001b[38;5;167;01mValueError\u001b[39;00m(\n\u001b[1;32m    880\u001b[0m         \u001b[38;5;124m\"\u001b[39m\u001b[38;5;124mComplex data not supported\u001b[39m\u001b[38;5;130;01m\\n\u001b[39;00m\u001b[38;5;132;01m{}\u001b[39;00m\u001b[38;5;130;01m\\n\u001b[39;00m\u001b[38;5;124m\"\u001b[39m\u001b[38;5;241m.\u001b[39mformat(array)\n\u001b[1;32m    881\u001b[0m     ) \u001b[38;5;28;01mfrom\u001b[39;00m \u001b[38;5;21;01mcomplex_warning\u001b[39;00m\n",
      "File \u001b[0;32m/opt/homebrew/lib/python3.9/site-packages/sklearn/utils/_array_api.py:185\u001b[0m, in \u001b[0;36m_asarray_with_order\u001b[0;34m(array, dtype, order, copy, xp)\u001b[0m\n\u001b[1;32m    182\u001b[0m     xp, _ \u001b[38;5;241m=\u001b[39m get_namespace(array)\n\u001b[1;32m    183\u001b[0m \u001b[38;5;28;01mif\u001b[39;00m xp\u001b[38;5;241m.\u001b[39m\u001b[38;5;18m__name__\u001b[39m \u001b[38;5;129;01min\u001b[39;00m {\u001b[38;5;124m\"\u001b[39m\u001b[38;5;124mnumpy\u001b[39m\u001b[38;5;124m\"\u001b[39m, \u001b[38;5;124m\"\u001b[39m\u001b[38;5;124mnumpy.array_api\u001b[39m\u001b[38;5;124m\"\u001b[39m}:\n\u001b[1;32m    184\u001b[0m     \u001b[38;5;66;03m# Use NumPy API to support order\u001b[39;00m\n\u001b[0;32m--> 185\u001b[0m     array \u001b[38;5;241m=\u001b[39m \u001b[43mnumpy\u001b[49m\u001b[38;5;241;43m.\u001b[39;49m\u001b[43masarray\u001b[49m\u001b[43m(\u001b[49m\u001b[43marray\u001b[49m\u001b[43m,\u001b[49m\u001b[43m \u001b[49m\u001b[43morder\u001b[49m\u001b[38;5;241;43m=\u001b[39;49m\u001b[43morder\u001b[49m\u001b[43m,\u001b[49m\u001b[43m \u001b[49m\u001b[43mdtype\u001b[49m\u001b[38;5;241;43m=\u001b[39;49m\u001b[43mdtype\u001b[49m\u001b[43m)\u001b[49m\n\u001b[1;32m    186\u001b[0m     \u001b[38;5;28;01mreturn\u001b[39;00m xp\u001b[38;5;241m.\u001b[39masarray(array, copy\u001b[38;5;241m=\u001b[39mcopy)\n\u001b[1;32m    187\u001b[0m \u001b[38;5;28;01melse\u001b[39;00m:\n",
      "\u001b[0;31mValueError\u001b[0m: could not convert string to float: 'def0c3fa02633394cd2b5041de7710ac'"
     ]
    }
   ],
   "source": [
    "regressor = LinearRegression()  \n",
    "regressor.fit(X_train, y_train)"
   ]
  },
  {
   "cell_type": "markdown",
   "id": "eff476e8",
   "metadata": {},
   "source": [
    "SPLIT training set"
   ]
  },
  {
   "cell_type": "code",
   "execution_count": 146,
   "id": "37efb230",
   "metadata": {
    "execution": {
     "iopub.execute_input": "2023-05-10T02:49:55.132392Z",
     "iopub.status.busy": "2023-05-10T02:49:55.132282Z",
     "iopub.status.idle": "2023-05-10T02:49:55.134250Z",
     "shell.execute_reply": "2023-05-10T02:49:55.134028Z"
    }
   },
   "outputs": [],
   "source": [
    "X = df['top_category_employer1'].values.reshape(-1,1)\n",
    "Y = df['total_claims'].values.reshape(-1,1)"
   ]
  },
  {
   "cell_type": "code",
   "execution_count": 147,
   "id": "84c606a3",
   "metadata": {
    "execution": {
     "iopub.execute_input": "2023-05-10T02:49:55.135571Z",
     "iopub.status.busy": "2023-05-10T02:49:55.135468Z",
     "iopub.status.idle": "2023-05-10T02:49:55.137480Z",
     "shell.execute_reply": "2023-05-10T02:49:55.137196Z"
    }
   },
   "outputs": [],
   "source": [
    "X_train, X_test, y_train, y_test = train_test_split(X, y, test_size=0.2, random_state=0)"
   ]
  },
  {
   "cell_type": "code",
   "execution_count": 148,
   "id": "72c2ea5d",
   "metadata": {
    "execution": {
     "iopub.execute_input": "2023-05-10T02:49:55.138866Z",
     "iopub.status.busy": "2023-05-10T02:49:55.138764Z",
     "iopub.status.idle": "2023-05-10T02:49:55.172820Z",
     "shell.execute_reply": "2023-05-10T02:49:55.172513Z"
    }
   },
   "outputs": [
    {
     "ename": "ValueError",
     "evalue": "could not convert string to float: '48-49'",
     "output_type": "error",
     "traceback": [
      "\u001b[0;31m---------------------------------------------------------------------------\u001b[0m",
      "\u001b[0;31mValueError\u001b[0m                                Traceback (most recent call last)",
      "Cell \u001b[0;32mIn [148], line 2\u001b[0m\n\u001b[1;32m      1\u001b[0m regressor \u001b[38;5;241m=\u001b[39m LinearRegression()  \n\u001b[0;32m----> 2\u001b[0m \u001b[43mregressor\u001b[49m\u001b[38;5;241;43m.\u001b[39;49m\u001b[43mfit\u001b[49m\u001b[43m(\u001b[49m\u001b[43mX_train\u001b[49m\u001b[43m,\u001b[49m\u001b[43m \u001b[49m\u001b[43my_train\u001b[49m\u001b[43m)\u001b[49m\n",
      "File \u001b[0;32m/opt/homebrew/lib/python3.9/site-packages/sklearn/linear_model/_base.py:649\u001b[0m, in \u001b[0;36mLinearRegression.fit\u001b[0;34m(self, X, y, sample_weight)\u001b[0m\n\u001b[1;32m    645\u001b[0m n_jobs_ \u001b[38;5;241m=\u001b[39m \u001b[38;5;28mself\u001b[39m\u001b[38;5;241m.\u001b[39mn_jobs\n\u001b[1;32m    647\u001b[0m accept_sparse \u001b[38;5;241m=\u001b[39m \u001b[38;5;28;01mFalse\u001b[39;00m \u001b[38;5;28;01mif\u001b[39;00m \u001b[38;5;28mself\u001b[39m\u001b[38;5;241m.\u001b[39mpositive \u001b[38;5;28;01melse\u001b[39;00m [\u001b[38;5;124m\"\u001b[39m\u001b[38;5;124mcsr\u001b[39m\u001b[38;5;124m\"\u001b[39m, \u001b[38;5;124m\"\u001b[39m\u001b[38;5;124mcsc\u001b[39m\u001b[38;5;124m\"\u001b[39m, \u001b[38;5;124m\"\u001b[39m\u001b[38;5;124mcoo\u001b[39m\u001b[38;5;124m\"\u001b[39m]\n\u001b[0;32m--> 649\u001b[0m X, y \u001b[38;5;241m=\u001b[39m \u001b[38;5;28;43mself\u001b[39;49m\u001b[38;5;241;43m.\u001b[39;49m\u001b[43m_validate_data\u001b[49m\u001b[43m(\u001b[49m\n\u001b[1;32m    650\u001b[0m \u001b[43m    \u001b[49m\u001b[43mX\u001b[49m\u001b[43m,\u001b[49m\u001b[43m \u001b[49m\u001b[43my\u001b[49m\u001b[43m,\u001b[49m\u001b[43m \u001b[49m\u001b[43maccept_sparse\u001b[49m\u001b[38;5;241;43m=\u001b[39;49m\u001b[43maccept_sparse\u001b[49m\u001b[43m,\u001b[49m\u001b[43m \u001b[49m\u001b[43my_numeric\u001b[49m\u001b[38;5;241;43m=\u001b[39;49m\u001b[38;5;28;43;01mTrue\u001b[39;49;00m\u001b[43m,\u001b[49m\u001b[43m \u001b[49m\u001b[43mmulti_output\u001b[49m\u001b[38;5;241;43m=\u001b[39;49m\u001b[38;5;28;43;01mTrue\u001b[39;49;00m\n\u001b[1;32m    651\u001b[0m \u001b[43m\u001b[49m\u001b[43m)\u001b[49m\n\u001b[1;32m    653\u001b[0m sample_weight \u001b[38;5;241m=\u001b[39m _check_sample_weight(\n\u001b[1;32m    654\u001b[0m     sample_weight, X, dtype\u001b[38;5;241m=\u001b[39mX\u001b[38;5;241m.\u001b[39mdtype, only_non_negative\u001b[38;5;241m=\u001b[39m\u001b[38;5;28;01mTrue\u001b[39;00m\n\u001b[1;32m    655\u001b[0m )\n\u001b[1;32m    657\u001b[0m X, y, X_offset, y_offset, X_scale \u001b[38;5;241m=\u001b[39m _preprocess_data(\n\u001b[1;32m    658\u001b[0m     X,\n\u001b[1;32m    659\u001b[0m     y,\n\u001b[0;32m   (...)\u001b[0m\n\u001b[1;32m    662\u001b[0m     sample_weight\u001b[38;5;241m=\u001b[39msample_weight,\n\u001b[1;32m    663\u001b[0m )\n",
      "File \u001b[0;32m/opt/homebrew/lib/python3.9/site-packages/sklearn/base.py:554\u001b[0m, in \u001b[0;36mBaseEstimator._validate_data\u001b[0;34m(self, X, y, reset, validate_separately, **check_params)\u001b[0m\n\u001b[1;32m    552\u001b[0m         y \u001b[38;5;241m=\u001b[39m check_array(y, input_name\u001b[38;5;241m=\u001b[39m\u001b[38;5;124m\"\u001b[39m\u001b[38;5;124my\u001b[39m\u001b[38;5;124m\"\u001b[39m, \u001b[38;5;241m*\u001b[39m\u001b[38;5;241m*\u001b[39mcheck_y_params)\n\u001b[1;32m    553\u001b[0m     \u001b[38;5;28;01melse\u001b[39;00m:\n\u001b[0;32m--> 554\u001b[0m         X, y \u001b[38;5;241m=\u001b[39m \u001b[43mcheck_X_y\u001b[49m\u001b[43m(\u001b[49m\u001b[43mX\u001b[49m\u001b[43m,\u001b[49m\u001b[43m \u001b[49m\u001b[43my\u001b[49m\u001b[43m,\u001b[49m\u001b[43m \u001b[49m\u001b[38;5;241;43m*\u001b[39;49m\u001b[38;5;241;43m*\u001b[39;49m\u001b[43mcheck_params\u001b[49m\u001b[43m)\u001b[49m\n\u001b[1;32m    555\u001b[0m     out \u001b[38;5;241m=\u001b[39m X, y\n\u001b[1;32m    557\u001b[0m \u001b[38;5;28;01mif\u001b[39;00m \u001b[38;5;129;01mnot\u001b[39;00m no_val_X \u001b[38;5;129;01mand\u001b[39;00m check_params\u001b[38;5;241m.\u001b[39mget(\u001b[38;5;124m\"\u001b[39m\u001b[38;5;124mensure_2d\u001b[39m\u001b[38;5;124m\"\u001b[39m, \u001b[38;5;28;01mTrue\u001b[39;00m):\n",
      "File \u001b[0;32m/opt/homebrew/lib/python3.9/site-packages/sklearn/utils/validation.py:1104\u001b[0m, in \u001b[0;36mcheck_X_y\u001b[0;34m(X, y, accept_sparse, accept_large_sparse, dtype, order, copy, force_all_finite, ensure_2d, allow_nd, multi_output, ensure_min_samples, ensure_min_features, y_numeric, estimator)\u001b[0m\n\u001b[1;32m   1099\u001b[0m         estimator_name \u001b[38;5;241m=\u001b[39m _check_estimator_name(estimator)\n\u001b[1;32m   1100\u001b[0m     \u001b[38;5;28;01mraise\u001b[39;00m \u001b[38;5;167;01mValueError\u001b[39;00m(\n\u001b[1;32m   1101\u001b[0m         \u001b[38;5;124mf\u001b[39m\u001b[38;5;124m\"\u001b[39m\u001b[38;5;132;01m{\u001b[39;00mestimator_name\u001b[38;5;132;01m}\u001b[39;00m\u001b[38;5;124m requires y to be passed, but the target y is None\u001b[39m\u001b[38;5;124m\"\u001b[39m\n\u001b[1;32m   1102\u001b[0m     )\n\u001b[0;32m-> 1104\u001b[0m X \u001b[38;5;241m=\u001b[39m \u001b[43mcheck_array\u001b[49m\u001b[43m(\u001b[49m\n\u001b[1;32m   1105\u001b[0m \u001b[43m    \u001b[49m\u001b[43mX\u001b[49m\u001b[43m,\u001b[49m\n\u001b[1;32m   1106\u001b[0m \u001b[43m    \u001b[49m\u001b[43maccept_sparse\u001b[49m\u001b[38;5;241;43m=\u001b[39;49m\u001b[43maccept_sparse\u001b[49m\u001b[43m,\u001b[49m\n\u001b[1;32m   1107\u001b[0m \u001b[43m    \u001b[49m\u001b[43maccept_large_sparse\u001b[49m\u001b[38;5;241;43m=\u001b[39;49m\u001b[43maccept_large_sparse\u001b[49m\u001b[43m,\u001b[49m\n\u001b[1;32m   1108\u001b[0m \u001b[43m    \u001b[49m\u001b[43mdtype\u001b[49m\u001b[38;5;241;43m=\u001b[39;49m\u001b[43mdtype\u001b[49m\u001b[43m,\u001b[49m\n\u001b[1;32m   1109\u001b[0m \u001b[43m    \u001b[49m\u001b[43morder\u001b[49m\u001b[38;5;241;43m=\u001b[39;49m\u001b[43morder\u001b[49m\u001b[43m,\u001b[49m\n\u001b[1;32m   1110\u001b[0m \u001b[43m    \u001b[49m\u001b[43mcopy\u001b[49m\u001b[38;5;241;43m=\u001b[39;49m\u001b[43mcopy\u001b[49m\u001b[43m,\u001b[49m\n\u001b[1;32m   1111\u001b[0m \u001b[43m    \u001b[49m\u001b[43mforce_all_finite\u001b[49m\u001b[38;5;241;43m=\u001b[39;49m\u001b[43mforce_all_finite\u001b[49m\u001b[43m,\u001b[49m\n\u001b[1;32m   1112\u001b[0m \u001b[43m    \u001b[49m\u001b[43mensure_2d\u001b[49m\u001b[38;5;241;43m=\u001b[39;49m\u001b[43mensure_2d\u001b[49m\u001b[43m,\u001b[49m\n\u001b[1;32m   1113\u001b[0m \u001b[43m    \u001b[49m\u001b[43mallow_nd\u001b[49m\u001b[38;5;241;43m=\u001b[39;49m\u001b[43mallow_nd\u001b[49m\u001b[43m,\u001b[49m\n\u001b[1;32m   1114\u001b[0m \u001b[43m    \u001b[49m\u001b[43mensure_min_samples\u001b[49m\u001b[38;5;241;43m=\u001b[39;49m\u001b[43mensure_min_samples\u001b[49m\u001b[43m,\u001b[49m\n\u001b[1;32m   1115\u001b[0m \u001b[43m    \u001b[49m\u001b[43mensure_min_features\u001b[49m\u001b[38;5;241;43m=\u001b[39;49m\u001b[43mensure_min_features\u001b[49m\u001b[43m,\u001b[49m\n\u001b[1;32m   1116\u001b[0m \u001b[43m    \u001b[49m\u001b[43mestimator\u001b[49m\u001b[38;5;241;43m=\u001b[39;49m\u001b[43mestimator\u001b[49m\u001b[43m,\u001b[49m\n\u001b[1;32m   1117\u001b[0m \u001b[43m    \u001b[49m\u001b[43minput_name\u001b[49m\u001b[38;5;241;43m=\u001b[39;49m\u001b[38;5;124;43m\"\u001b[39;49m\u001b[38;5;124;43mX\u001b[39;49m\u001b[38;5;124;43m\"\u001b[39;49m\u001b[43m,\u001b[49m\n\u001b[1;32m   1118\u001b[0m \u001b[43m\u001b[49m\u001b[43m)\u001b[49m\n\u001b[1;32m   1120\u001b[0m y \u001b[38;5;241m=\u001b[39m _check_y(y, multi_output\u001b[38;5;241m=\u001b[39mmulti_output, y_numeric\u001b[38;5;241m=\u001b[39my_numeric, estimator\u001b[38;5;241m=\u001b[39mestimator)\n\u001b[1;32m   1122\u001b[0m check_consistent_length(X, y)\n",
      "File \u001b[0;32m/opt/homebrew/lib/python3.9/site-packages/sklearn/utils/validation.py:877\u001b[0m, in \u001b[0;36mcheck_array\u001b[0;34m(array, accept_sparse, accept_large_sparse, dtype, order, copy, force_all_finite, ensure_2d, allow_nd, ensure_min_samples, ensure_min_features, estimator, input_name)\u001b[0m\n\u001b[1;32m    875\u001b[0m         array \u001b[38;5;241m=\u001b[39m xp\u001b[38;5;241m.\u001b[39mastype(array, dtype, copy\u001b[38;5;241m=\u001b[39m\u001b[38;5;28;01mFalse\u001b[39;00m)\n\u001b[1;32m    876\u001b[0m     \u001b[38;5;28;01melse\u001b[39;00m:\n\u001b[0;32m--> 877\u001b[0m         array \u001b[38;5;241m=\u001b[39m \u001b[43m_asarray_with_order\u001b[49m\u001b[43m(\u001b[49m\u001b[43marray\u001b[49m\u001b[43m,\u001b[49m\u001b[43m \u001b[49m\u001b[43morder\u001b[49m\u001b[38;5;241;43m=\u001b[39;49m\u001b[43morder\u001b[49m\u001b[43m,\u001b[49m\u001b[43m \u001b[49m\u001b[43mdtype\u001b[49m\u001b[38;5;241;43m=\u001b[39;49m\u001b[43mdtype\u001b[49m\u001b[43m,\u001b[49m\u001b[43m \u001b[49m\u001b[43mxp\u001b[49m\u001b[38;5;241;43m=\u001b[39;49m\u001b[43mxp\u001b[49m\u001b[43m)\u001b[49m\n\u001b[1;32m    878\u001b[0m \u001b[38;5;28;01mexcept\u001b[39;00m ComplexWarning \u001b[38;5;28;01mas\u001b[39;00m complex_warning:\n\u001b[1;32m    879\u001b[0m     \u001b[38;5;28;01mraise\u001b[39;00m \u001b[38;5;167;01mValueError\u001b[39;00m(\n\u001b[1;32m    880\u001b[0m         \u001b[38;5;124m\"\u001b[39m\u001b[38;5;124mComplex data not supported\u001b[39m\u001b[38;5;130;01m\\n\u001b[39;00m\u001b[38;5;132;01m{}\u001b[39;00m\u001b[38;5;130;01m\\n\u001b[39;00m\u001b[38;5;124m\"\u001b[39m\u001b[38;5;241m.\u001b[39mformat(array)\n\u001b[1;32m    881\u001b[0m     ) \u001b[38;5;28;01mfrom\u001b[39;00m \u001b[38;5;21;01mcomplex_warning\u001b[39;00m\n",
      "File \u001b[0;32m/opt/homebrew/lib/python3.9/site-packages/sklearn/utils/_array_api.py:185\u001b[0m, in \u001b[0;36m_asarray_with_order\u001b[0;34m(array, dtype, order, copy, xp)\u001b[0m\n\u001b[1;32m    182\u001b[0m     xp, _ \u001b[38;5;241m=\u001b[39m get_namespace(array)\n\u001b[1;32m    183\u001b[0m \u001b[38;5;28;01mif\u001b[39;00m xp\u001b[38;5;241m.\u001b[39m\u001b[38;5;18m__name__\u001b[39m \u001b[38;5;129;01min\u001b[39;00m {\u001b[38;5;124m\"\u001b[39m\u001b[38;5;124mnumpy\u001b[39m\u001b[38;5;124m\"\u001b[39m, \u001b[38;5;124m\"\u001b[39m\u001b[38;5;124mnumpy.array_api\u001b[39m\u001b[38;5;124m\"\u001b[39m}:\n\u001b[1;32m    184\u001b[0m     \u001b[38;5;66;03m# Use NumPy API to support order\u001b[39;00m\n\u001b[0;32m--> 185\u001b[0m     array \u001b[38;5;241m=\u001b[39m \u001b[43mnumpy\u001b[49m\u001b[38;5;241;43m.\u001b[39;49m\u001b[43masarray\u001b[49m\u001b[43m(\u001b[49m\u001b[43marray\u001b[49m\u001b[43m,\u001b[49m\u001b[43m \u001b[49m\u001b[43morder\u001b[49m\u001b[38;5;241;43m=\u001b[39;49m\u001b[43morder\u001b[49m\u001b[43m,\u001b[49m\u001b[43m \u001b[49m\u001b[43mdtype\u001b[49m\u001b[38;5;241;43m=\u001b[39;49m\u001b[43mdtype\u001b[49m\u001b[43m)\u001b[49m\n\u001b[1;32m    186\u001b[0m     \u001b[38;5;28;01mreturn\u001b[39;00m xp\u001b[38;5;241m.\u001b[39masarray(array, copy\u001b[38;5;241m=\u001b[39mcopy)\n\u001b[1;32m    187\u001b[0m \u001b[38;5;28;01melse\u001b[39;00m:\n",
      "\u001b[0;31mValueError\u001b[0m: could not convert string to float: '48-49'"
     ]
    }
   ],
   "source": [
    "regressor = LinearRegression()  \n",
    "regressor.fit(X_train, y_train)"
   ]
  },
  {
   "cell_type": "markdown",
   "id": "26a7fa30",
   "metadata": {},
   "source": [
    "SPLIT training set"
   ]
  },
  {
   "cell_type": "code",
   "execution_count": 149,
   "id": "4f589ecd",
   "metadata": {
    "execution": {
     "iopub.execute_input": "2023-05-10T02:49:55.174409Z",
     "iopub.status.busy": "2023-05-10T02:49:55.174301Z",
     "iopub.status.idle": "2023-05-10T02:49:55.176543Z",
     "shell.execute_reply": "2023-05-10T02:49:55.176254Z"
    }
   },
   "outputs": [],
   "source": [
    "X = df['edu_8th_or_less'].values.reshape(-1,1)\n",
    "Y = df['total_claims'].values.reshape(-1,1)"
   ]
  },
  {
   "cell_type": "code",
   "execution_count": 150,
   "id": "7f02d44a",
   "metadata": {
    "execution": {
     "iopub.execute_input": "2023-05-10T02:49:55.178065Z",
     "iopub.status.busy": "2023-05-10T02:49:55.177954Z",
     "iopub.status.idle": "2023-05-10T02:49:55.180040Z",
     "shell.execute_reply": "2023-05-10T02:49:55.179794Z"
    }
   },
   "outputs": [],
   "source": [
    "X_train, X_test, y_train, y_test = train_test_split(X, y, test_size=0.2, random_state=0)"
   ]
  },
  {
   "cell_type": "code",
   "execution_count": 151,
   "id": "254bcbba",
   "metadata": {
    "execution": {
     "iopub.execute_input": "2023-05-10T02:49:55.181338Z",
     "iopub.status.busy": "2023-05-10T02:49:55.181233Z",
     "iopub.status.idle": "2023-05-10T02:49:55.184728Z",
     "shell.execute_reply": "2023-05-10T02:49:55.184486Z"
    }
   },
   "outputs": [
    {
     "data": {
      "text/html": [
       "<style>#sk-container-id-2 {color: black;background-color: white;}#sk-container-id-2 pre{padding: 0;}#sk-container-id-2 div.sk-toggleable {background-color: white;}#sk-container-id-2 label.sk-toggleable__label {cursor: pointer;display: block;width: 100%;margin-bottom: 0;padding: 0.3em;box-sizing: border-box;text-align: center;}#sk-container-id-2 label.sk-toggleable__label-arrow:before {content: \"▸\";float: left;margin-right: 0.25em;color: #696969;}#sk-container-id-2 label.sk-toggleable__label-arrow:hover:before {color: black;}#sk-container-id-2 div.sk-estimator:hover label.sk-toggleable__label-arrow:before {color: black;}#sk-container-id-2 div.sk-toggleable__content {max-height: 0;max-width: 0;overflow: hidden;text-align: left;background-color: #f0f8ff;}#sk-container-id-2 div.sk-toggleable__content pre {margin: 0.2em;color: black;border-radius: 0.25em;background-color: #f0f8ff;}#sk-container-id-2 input.sk-toggleable__control:checked~div.sk-toggleable__content {max-height: 200px;max-width: 100%;overflow: auto;}#sk-container-id-2 input.sk-toggleable__control:checked~label.sk-toggleable__label-arrow:before {content: \"▾\";}#sk-container-id-2 div.sk-estimator input.sk-toggleable__control:checked~label.sk-toggleable__label {background-color: #d4ebff;}#sk-container-id-2 div.sk-label input.sk-toggleable__control:checked~label.sk-toggleable__label {background-color: #d4ebff;}#sk-container-id-2 input.sk-hidden--visually {border: 0;clip: rect(1px 1px 1px 1px);clip: rect(1px, 1px, 1px, 1px);height: 1px;margin: -1px;overflow: hidden;padding: 0;position: absolute;width: 1px;}#sk-container-id-2 div.sk-estimator {font-family: monospace;background-color: #f0f8ff;border: 1px dotted black;border-radius: 0.25em;box-sizing: border-box;margin-bottom: 0.5em;}#sk-container-id-2 div.sk-estimator:hover {background-color: #d4ebff;}#sk-container-id-2 div.sk-parallel-item::after {content: \"\";width: 100%;border-bottom: 1px solid gray;flex-grow: 1;}#sk-container-id-2 div.sk-label:hover label.sk-toggleable__label {background-color: #d4ebff;}#sk-container-id-2 div.sk-serial::before {content: \"\";position: absolute;border-left: 1px solid gray;box-sizing: border-box;top: 0;bottom: 0;left: 50%;z-index: 0;}#sk-container-id-2 div.sk-serial {display: flex;flex-direction: column;align-items: center;background-color: white;padding-right: 0.2em;padding-left: 0.2em;position: relative;}#sk-container-id-2 div.sk-item {position: relative;z-index: 1;}#sk-container-id-2 div.sk-parallel {display: flex;align-items: stretch;justify-content: center;background-color: white;position: relative;}#sk-container-id-2 div.sk-item::before, #sk-container-id-2 div.sk-parallel-item::before {content: \"\";position: absolute;border-left: 1px solid gray;box-sizing: border-box;top: 0;bottom: 0;left: 50%;z-index: -1;}#sk-container-id-2 div.sk-parallel-item {display: flex;flex-direction: column;z-index: 1;position: relative;background-color: white;}#sk-container-id-2 div.sk-parallel-item:first-child::after {align-self: flex-end;width: 50%;}#sk-container-id-2 div.sk-parallel-item:last-child::after {align-self: flex-start;width: 50%;}#sk-container-id-2 div.sk-parallel-item:only-child::after {width: 0;}#sk-container-id-2 div.sk-dashed-wrapped {border: 1px dashed gray;margin: 0 0.4em 0.5em 0.4em;box-sizing: border-box;padding-bottom: 0.4em;background-color: white;}#sk-container-id-2 div.sk-label label {font-family: monospace;font-weight: bold;display: inline-block;line-height: 1.2em;}#sk-container-id-2 div.sk-label-container {text-align: center;}#sk-container-id-2 div.sk-container {/* jupyter's `normalize.less` sets `[hidden] { display: none; }` but bootstrap.min.css set `[hidden] { display: none !important; }` so we also need the `!important` here to be able to override the default hidden behavior on the sphinx rendered scikit-learn.org. See: https://github.com/scikit-learn/scikit-learn/issues/21755 */display: inline-block !important;position: relative;}#sk-container-id-2 div.sk-text-repr-fallback {display: none;}</style><div id=\"sk-container-id-2\" class=\"sk-top-container\"><div class=\"sk-text-repr-fallback\"><pre>LinearRegression()</pre><b>In a Jupyter environment, please rerun this cell to show the HTML representation or trust the notebook. <br />On GitHub, the HTML representation is unable to render, please try loading this page with nbviewer.org.</b></div><div class=\"sk-container\" hidden><div class=\"sk-item\"><div class=\"sk-estimator sk-toggleable\"><input class=\"sk-toggleable__control sk-hidden--visually\" id=\"sk-estimator-id-2\" type=\"checkbox\" checked><label for=\"sk-estimator-id-2\" class=\"sk-toggleable__label sk-toggleable__label-arrow\">LinearRegression</label><div class=\"sk-toggleable__content\"><pre>LinearRegression()</pre></div></div></div></div></div>"
      ],
      "text/plain": [
       "LinearRegression()"
      ]
     },
     "execution_count": 151,
     "metadata": {},
     "output_type": "execute_result"
    }
   ],
   "source": [
    "regressor = LinearRegression()  \n",
    "regressor.fit(X_train, y_train)"
   ]
  },
  {
   "cell_type": "code",
   "execution_count": 152,
   "id": "8e7ce874",
   "metadata": {
    "execution": {
     "iopub.execute_input": "2023-05-10T02:49:55.186005Z",
     "iopub.status.busy": "2023-05-10T02:49:55.185920Z",
     "iopub.status.idle": "2023-05-10T02:49:55.187702Z",
     "shell.execute_reply": "2023-05-10T02:49:55.187427Z"
    }
   },
   "outputs": [
    {
     "name": "stdout",
     "output_type": "stream",
     "text": [
      "[52.08333333]\n"
     ]
    }
   ],
   "source": [
    "#To retrieve the intercept:\n",
    "print(regressor.intercept_)"
   ]
  },
  {
   "cell_type": "code",
   "execution_count": 153,
   "id": "2174435c",
   "metadata": {
    "execution": {
     "iopub.execute_input": "2023-05-10T02:49:55.189006Z",
     "iopub.status.busy": "2023-05-10T02:49:55.188927Z",
     "iopub.status.idle": "2023-05-10T02:49:55.190602Z",
     "shell.execute_reply": "2023-05-10T02:49:55.190366Z"
    }
   },
   "outputs": [
    {
     "name": "stdout",
     "output_type": "stream",
     "text": [
      "[[0.]]\n"
     ]
    }
   ],
   "source": [
    "#For retrieving the slope:\n",
    "print(regressor.coef_)"
   ]
  },
  {
   "cell_type": "code",
   "execution_count": 154,
   "id": "9723dd8b",
   "metadata": {
    "execution": {
     "iopub.execute_input": "2023-05-10T02:49:55.192064Z",
     "iopub.status.busy": "2023-05-10T02:49:55.191987Z",
     "iopub.status.idle": "2023-05-10T02:49:55.193673Z",
     "shell.execute_reply": "2023-05-10T02:49:55.193441Z"
    }
   },
   "outputs": [],
   "source": [
    "y_pred = regressor.predict(X_test)"
   ]
  },
  {
   "cell_type": "code",
   "execution_count": 155,
   "id": "30f076ae",
   "metadata": {
    "execution": {
     "iopub.execute_input": "2023-05-10T02:49:55.195012Z",
     "iopub.status.busy": "2023-05-10T02:49:55.194927Z",
     "iopub.status.idle": "2023-05-10T02:49:55.201633Z",
     "shell.execute_reply": "2023-05-10T02:49:55.201393Z"
    }
   },
   "outputs": [
    {
     "ename": "AttributeError",
     "evalue": "'IntegerArray' object has no attribute 'flatten'",
     "output_type": "error",
     "traceback": [
      "\u001b[0;31m---------------------------------------------------------------------------\u001b[0m",
      "\u001b[0;31mAttributeError\u001b[0m                            Traceback (most recent call last)",
      "Cell \u001b[0;32mIn [155], line 1\u001b[0m\n\u001b[0;32m----> 1\u001b[0m df2 \u001b[38;5;241m=\u001b[39m pd\u001b[38;5;241m.\u001b[39mDataFrame({\u001b[38;5;124m'\u001b[39m\u001b[38;5;124mActual\u001b[39m\u001b[38;5;124m'\u001b[39m: \u001b[43my_test\u001b[49m\u001b[38;5;241;43m.\u001b[39;49m\u001b[43mflatten\u001b[49m() , \u001b[38;5;124m'\u001b[39m\u001b[38;5;124mPredicted\u001b[39m\u001b[38;5;124m'\u001b[39m: y_pred\u001b[38;5;241m.\u001b[39mflatten()})\n\u001b[1;32m      2\u001b[0m df2\n",
      "\u001b[0;31mAttributeError\u001b[0m: 'IntegerArray' object has no attribute 'flatten'"
     ]
    }
   ],
   "source": [
    "df2 = pd.DataFrame({'Actual': y_test.flatten() , 'Predicted': y_pred.flatten()})\n",
    "df2"
   ]
  },
  {
   "cell_type": "code",
   "execution_count": 156,
   "id": "ccf491eb",
   "metadata": {
    "execution": {
     "iopub.execute_input": "2023-05-10T02:49:55.202919Z",
     "iopub.status.busy": "2023-05-10T02:49:55.202845Z",
     "iopub.status.idle": "2023-05-10T02:49:55.209939Z",
     "shell.execute_reply": "2023-05-10T02:49:55.209688Z"
    }
   },
   "outputs": [
    {
     "ename": "AttributeError",
     "evalue": "'IntegerArray' object has no attribute 'flatten'",
     "output_type": "error",
     "traceback": [
      "\u001b[0;31m---------------------------------------------------------------------------\u001b[0m",
      "\u001b[0;31mAttributeError\u001b[0m                            Traceback (most recent call last)",
      "Cell \u001b[0;32mIn [156], line 1\u001b[0m\n\u001b[0;32m----> 1\u001b[0m df2 \u001b[38;5;241m=\u001b[39m pd\u001b[38;5;241m.\u001b[39mDataFrame({\u001b[38;5;124m'\u001b[39m\u001b[38;5;124mActual\u001b[39m\u001b[38;5;124m'\u001b[39m: \u001b[43my_test\u001b[49m\u001b[38;5;241;43m.\u001b[39;49m\u001b[43mflatten\u001b[49m , \u001b[38;5;124m'\u001b[39m\u001b[38;5;124mPredicted\u001b[39m\u001b[38;5;124m'\u001b[39m: y_pred\u001b[38;5;241m.\u001b[39mflatten()})\n\u001b[1;32m      2\u001b[0m df2\n",
      "\u001b[0;31mAttributeError\u001b[0m: 'IntegerArray' object has no attribute 'flatten'"
     ]
    }
   ],
   "source": [
    "df2 = pd.DataFrame({'Actual': y_test.flatten , 'Predicted': y_pred.flatten()})\n",
    "df2"
   ]
  },
  {
   "cell_type": "code",
   "execution_count": 157,
   "id": "f3881671",
   "metadata": {
    "execution": {
     "iopub.execute_input": "2023-05-10T02:49:55.211328Z",
     "iopub.status.busy": "2023-05-10T02:49:55.211224Z",
     "iopub.status.idle": "2023-05-10T02:49:55.215096Z",
     "shell.execute_reply": "2023-05-10T02:49:55.214818Z"
    }
   },
   "outputs": [
    {
     "data": {
      "text/html": [
       "<div>\n",
       "<style scoped>\n",
       "    .dataframe tbody tr th:only-of-type {\n",
       "        vertical-align: middle;\n",
       "    }\n",
       "\n",
       "    .dataframe tbody tr th {\n",
       "        vertical-align: top;\n",
       "    }\n",
       "\n",
       "    .dataframe thead th {\n",
       "        text-align: right;\n",
       "    }\n",
       "</style>\n",
       "<table border=\"1\" class=\"dataframe\">\n",
       "  <thead>\n",
       "    <tr style=\"text-align: right;\">\n",
       "      <th></th>\n",
       "      <th>Actual</th>\n",
       "      <th>Predicted</th>\n",
       "    </tr>\n",
       "  </thead>\n",
       "  <tbody>\n",
       "    <tr>\n",
       "      <th>0</th>\n",
       "      <td>(28,)</td>\n",
       "      <td>52.083333</td>\n",
       "    </tr>\n",
       "    <tr>\n",
       "      <th>1</th>\n",
       "      <td>(73,)</td>\n",
       "      <td>52.083333</td>\n",
       "    </tr>\n",
       "    <tr>\n",
       "      <th>2</th>\n",
       "      <td>(53,)</td>\n",
       "      <td>52.083333</td>\n",
       "    </tr>\n",
       "    <tr>\n",
       "      <th>3</th>\n",
       "      <td>(37,)</td>\n",
       "      <td>52.083333</td>\n",
       "    </tr>\n",
       "  </tbody>\n",
       "</table>\n",
       "</div>"
      ],
      "text/plain": [
       "  Actual  Predicted\n",
       "0  (28,)  52.083333\n",
       "1  (73,)  52.083333\n",
       "2  (53,)  52.083333\n",
       "3  (37,)  52.083333"
      ]
     },
     "execution_count": 157,
     "metadata": {},
     "output_type": "execute_result"
    }
   ],
   "source": [
    "df2 = pd.DataFrame({'Actual': y_test , 'Predicted': y_pred.flatten()})\n",
    "df2"
   ]
  },
  {
   "cell_type": "code",
   "execution_count": 158,
   "id": "6a9f63bc",
   "metadata": {
    "execution": {
     "iopub.execute_input": "2023-05-10T02:49:55.216435Z",
     "iopub.status.busy": "2023-05-10T02:49:55.216355Z",
     "iopub.status.idle": "2023-05-10T02:49:55.218529Z",
     "shell.execute_reply": "2023-05-10T02:49:55.218282Z"
    }
   },
   "outputs": [],
   "source": [
    "X_train, X_test, y_train, y_test = train_test_split(X, y, test_size=0.5, random_state=0)"
   ]
  },
  {
   "cell_type": "code",
   "execution_count": 159,
   "id": "82a89b42",
   "metadata": {
    "execution": {
     "iopub.execute_input": "2023-05-10T02:49:55.219821Z",
     "iopub.status.busy": "2023-05-10T02:49:55.219745Z",
     "iopub.status.idle": "2023-05-10T02:49:55.532630Z",
     "shell.execute_reply": "2023-05-10T02:49:55.532274Z"
    }
   },
   "outputs": [
    {
     "ename": "ValueError",
     "evalue": "Length of values (8) does not match length of index (4)",
     "output_type": "error",
     "traceback": [
      "\u001b[0;31m---------------------------------------------------------------------------\u001b[0m",
      "\u001b[0;31mValueError\u001b[0m                                Traceback (most recent call last)",
      "Cell \u001b[0;32mIn [159], line 1\u001b[0m\n\u001b[0;32m----> 1\u001b[0m df2 \u001b[38;5;241m=\u001b[39m \u001b[43mpd\u001b[49m\u001b[38;5;241;43m.\u001b[39;49m\u001b[43mDataFrame\u001b[49m\u001b[43m(\u001b[49m\u001b[43m{\u001b[49m\u001b[38;5;124;43m'\u001b[39;49m\u001b[38;5;124;43mActual\u001b[39;49m\u001b[38;5;124;43m'\u001b[39;49m\u001b[43m:\u001b[49m\u001b[43m \u001b[49m\u001b[43my_test\u001b[49m\u001b[43m \u001b[49m\u001b[43m,\u001b[49m\u001b[43m \u001b[49m\u001b[38;5;124;43m'\u001b[39;49m\u001b[38;5;124;43mPredicted\u001b[39;49m\u001b[38;5;124;43m'\u001b[39;49m\u001b[43m:\u001b[49m\u001b[43m \u001b[49m\u001b[43my_pred\u001b[49m\u001b[38;5;241;43m.\u001b[39;49m\u001b[43mflatten\u001b[49m\u001b[43m(\u001b[49m\u001b[43m)\u001b[49m\u001b[43m}\u001b[49m\u001b[43m)\u001b[49m\n\u001b[1;32m      2\u001b[0m df2\n",
      "File \u001b[0;32m/opt/homebrew/lib/python3.9/site-packages/pandas/core/frame.py:662\u001b[0m, in \u001b[0;36mDataFrame.__init__\u001b[0;34m(self, data, index, columns, dtype, copy)\u001b[0m\n\u001b[1;32m    656\u001b[0m     mgr \u001b[38;5;241m=\u001b[39m \u001b[38;5;28mself\u001b[39m\u001b[38;5;241m.\u001b[39m_init_mgr(\n\u001b[1;32m    657\u001b[0m         data, axes\u001b[38;5;241m=\u001b[39m{\u001b[38;5;124m\"\u001b[39m\u001b[38;5;124mindex\u001b[39m\u001b[38;5;124m\"\u001b[39m: index, \u001b[38;5;124m\"\u001b[39m\u001b[38;5;124mcolumns\u001b[39m\u001b[38;5;124m\"\u001b[39m: columns}, dtype\u001b[38;5;241m=\u001b[39mdtype, copy\u001b[38;5;241m=\u001b[39mcopy\n\u001b[1;32m    658\u001b[0m     )\n\u001b[1;32m    660\u001b[0m \u001b[38;5;28;01melif\u001b[39;00m \u001b[38;5;28misinstance\u001b[39m(data, \u001b[38;5;28mdict\u001b[39m):\n\u001b[1;32m    661\u001b[0m     \u001b[38;5;66;03m# GH#38939 de facto copy defaults to False only in non-dict cases\u001b[39;00m\n\u001b[0;32m--> 662\u001b[0m     mgr \u001b[38;5;241m=\u001b[39m \u001b[43mdict_to_mgr\u001b[49m\u001b[43m(\u001b[49m\u001b[43mdata\u001b[49m\u001b[43m,\u001b[49m\u001b[43m \u001b[49m\u001b[43mindex\u001b[49m\u001b[43m,\u001b[49m\u001b[43m \u001b[49m\u001b[43mcolumns\u001b[49m\u001b[43m,\u001b[49m\u001b[43m \u001b[49m\u001b[43mdtype\u001b[49m\u001b[38;5;241;43m=\u001b[39;49m\u001b[43mdtype\u001b[49m\u001b[43m,\u001b[49m\u001b[43m \u001b[49m\u001b[43mcopy\u001b[49m\u001b[38;5;241;43m=\u001b[39;49m\u001b[43mcopy\u001b[49m\u001b[43m,\u001b[49m\u001b[43m \u001b[49m\u001b[43mtyp\u001b[49m\u001b[38;5;241;43m=\u001b[39;49m\u001b[43mmanager\u001b[49m\u001b[43m)\u001b[49m\n\u001b[1;32m    663\u001b[0m \u001b[38;5;28;01melif\u001b[39;00m \u001b[38;5;28misinstance\u001b[39m(data, ma\u001b[38;5;241m.\u001b[39mMaskedArray):\n\u001b[1;32m    664\u001b[0m     \u001b[38;5;28;01mimport\u001b[39;00m \u001b[38;5;21;01mnumpy\u001b[39;00m\u001b[38;5;21;01m.\u001b[39;00m\u001b[38;5;21;01mma\u001b[39;00m\u001b[38;5;21;01m.\u001b[39;00m\u001b[38;5;21;01mmrecords\u001b[39;00m \u001b[38;5;28;01mas\u001b[39;00m \u001b[38;5;21;01mmrecords\u001b[39;00m\n",
      "File \u001b[0;32m/opt/homebrew/lib/python3.9/site-packages/pandas/core/internals/construction.py:493\u001b[0m, in \u001b[0;36mdict_to_mgr\u001b[0;34m(data, index, columns, dtype, typ, copy)\u001b[0m\n\u001b[1;32m    489\u001b[0m     \u001b[38;5;28;01melse\u001b[39;00m:\n\u001b[1;32m    490\u001b[0m         \u001b[38;5;66;03m# dtype check to exclude e.g. range objects, scalars\u001b[39;00m\n\u001b[1;32m    491\u001b[0m         arrays \u001b[38;5;241m=\u001b[39m [x\u001b[38;5;241m.\u001b[39mcopy() \u001b[38;5;28;01mif\u001b[39;00m \u001b[38;5;28mhasattr\u001b[39m(x, \u001b[38;5;124m\"\u001b[39m\u001b[38;5;124mdtype\u001b[39m\u001b[38;5;124m\"\u001b[39m) \u001b[38;5;28;01melse\u001b[39;00m x \u001b[38;5;28;01mfor\u001b[39;00m x \u001b[38;5;129;01min\u001b[39;00m arrays]\n\u001b[0;32m--> 493\u001b[0m \u001b[38;5;28;01mreturn\u001b[39;00m \u001b[43marrays_to_mgr\u001b[49m\u001b[43m(\u001b[49m\u001b[43marrays\u001b[49m\u001b[43m,\u001b[49m\u001b[43m \u001b[49m\u001b[43mcolumns\u001b[49m\u001b[43m,\u001b[49m\u001b[43m \u001b[49m\u001b[43mindex\u001b[49m\u001b[43m,\u001b[49m\u001b[43m \u001b[49m\u001b[43mdtype\u001b[49m\u001b[38;5;241;43m=\u001b[39;49m\u001b[43mdtype\u001b[49m\u001b[43m,\u001b[49m\u001b[43m \u001b[49m\u001b[43mtyp\u001b[49m\u001b[38;5;241;43m=\u001b[39;49m\u001b[43mtyp\u001b[49m\u001b[43m,\u001b[49m\u001b[43m \u001b[49m\u001b[43mconsolidate\u001b[49m\u001b[38;5;241;43m=\u001b[39;49m\u001b[43mcopy\u001b[49m\u001b[43m)\u001b[49m\n",
      "File \u001b[0;32m/opt/homebrew/lib/python3.9/site-packages/pandas/core/internals/construction.py:123\u001b[0m, in \u001b[0;36marrays_to_mgr\u001b[0;34m(arrays, columns, index, dtype, verify_integrity, typ, consolidate)\u001b[0m\n\u001b[1;32m    120\u001b[0m         index \u001b[38;5;241m=\u001b[39m ensure_index(index)\n\u001b[1;32m    122\u001b[0m     \u001b[38;5;66;03m# don't force copy because getting jammed in an ndarray anyway\u001b[39;00m\n\u001b[0;32m--> 123\u001b[0m     arrays \u001b[38;5;241m=\u001b[39m \u001b[43m_homogenize\u001b[49m\u001b[43m(\u001b[49m\u001b[43marrays\u001b[49m\u001b[43m,\u001b[49m\u001b[43m \u001b[49m\u001b[43mindex\u001b[49m\u001b[43m,\u001b[49m\u001b[43m \u001b[49m\u001b[43mdtype\u001b[49m\u001b[43m)\u001b[49m\n\u001b[1;32m    124\u001b[0m     \u001b[38;5;66;03m# _homogenize ensures\u001b[39;00m\n\u001b[1;32m    125\u001b[0m     \u001b[38;5;66;03m#  - all(len(x) == len(index) for x in arrays)\u001b[39;00m\n\u001b[1;32m    126\u001b[0m     \u001b[38;5;66;03m#  - all(x.ndim == 1 for x in arrays)\u001b[39;00m\n\u001b[0;32m   (...)\u001b[0m\n\u001b[1;32m    129\u001b[0m \n\u001b[1;32m    130\u001b[0m \u001b[38;5;28;01melse\u001b[39;00m:\n\u001b[1;32m    131\u001b[0m     index \u001b[38;5;241m=\u001b[39m ensure_index(index)\n",
      "File \u001b[0;32m/opt/homebrew/lib/python3.9/site-packages/pandas/core/internals/construction.py:620\u001b[0m, in \u001b[0;36m_homogenize\u001b[0;34m(data, index, dtype)\u001b[0m\n\u001b[1;32m    615\u001b[0m             val \u001b[38;5;241m=\u001b[39m lib\u001b[38;5;241m.\u001b[39mfast_multiget(val, oindex\u001b[38;5;241m.\u001b[39m_values, default\u001b[38;5;241m=\u001b[39mnp\u001b[38;5;241m.\u001b[39mnan)\n\u001b[1;32m    617\u001b[0m         val \u001b[38;5;241m=\u001b[39m sanitize_array(\n\u001b[1;32m    618\u001b[0m             val, index, dtype\u001b[38;5;241m=\u001b[39mdtype, copy\u001b[38;5;241m=\u001b[39m\u001b[38;5;28;01mFalse\u001b[39;00m, raise_cast_failure\u001b[38;5;241m=\u001b[39m\u001b[38;5;28;01mFalse\u001b[39;00m\n\u001b[1;32m    619\u001b[0m         )\n\u001b[0;32m--> 620\u001b[0m         \u001b[43mcom\u001b[49m\u001b[38;5;241;43m.\u001b[39;49m\u001b[43mrequire_length_match\u001b[49m\u001b[43m(\u001b[49m\u001b[43mval\u001b[49m\u001b[43m,\u001b[49m\u001b[43m \u001b[49m\u001b[43mindex\u001b[49m\u001b[43m)\u001b[49m\n\u001b[1;32m    622\u001b[0m     homogenized\u001b[38;5;241m.\u001b[39mappend(val)\n\u001b[1;32m    624\u001b[0m \u001b[38;5;28;01mreturn\u001b[39;00m homogenized\n",
      "File \u001b[0;32m/opt/homebrew/lib/python3.9/site-packages/pandas/core/common.py:561\u001b[0m, in \u001b[0;36mrequire_length_match\u001b[0;34m(data, index)\u001b[0m\n\u001b[1;32m    557\u001b[0m \u001b[38;5;124;03m\"\"\"\u001b[39;00m\n\u001b[1;32m    558\u001b[0m \u001b[38;5;124;03mCheck the length of data matches the length of the index.\u001b[39;00m\n\u001b[1;32m    559\u001b[0m \u001b[38;5;124;03m\"\"\"\u001b[39;00m\n\u001b[1;32m    560\u001b[0m \u001b[38;5;28;01mif\u001b[39;00m \u001b[38;5;28mlen\u001b[39m(data) \u001b[38;5;241m!=\u001b[39m \u001b[38;5;28mlen\u001b[39m(index):\n\u001b[0;32m--> 561\u001b[0m     \u001b[38;5;28;01mraise\u001b[39;00m \u001b[38;5;167;01mValueError\u001b[39;00m(\n\u001b[1;32m    562\u001b[0m         \u001b[38;5;124m\"\u001b[39m\u001b[38;5;124mLength of values \u001b[39m\u001b[38;5;124m\"\u001b[39m\n\u001b[1;32m    563\u001b[0m         \u001b[38;5;124mf\u001b[39m\u001b[38;5;124m\"\u001b[39m\u001b[38;5;124m(\u001b[39m\u001b[38;5;132;01m{\u001b[39;00m\u001b[38;5;28mlen\u001b[39m(data)\u001b[38;5;132;01m}\u001b[39;00m\u001b[38;5;124m) \u001b[39m\u001b[38;5;124m\"\u001b[39m\n\u001b[1;32m    564\u001b[0m         \u001b[38;5;124m\"\u001b[39m\u001b[38;5;124mdoes not match length of index \u001b[39m\u001b[38;5;124m\"\u001b[39m\n\u001b[1;32m    565\u001b[0m         \u001b[38;5;124mf\u001b[39m\u001b[38;5;124m\"\u001b[39m\u001b[38;5;124m(\u001b[39m\u001b[38;5;132;01m{\u001b[39;00m\u001b[38;5;28mlen\u001b[39m(index)\u001b[38;5;132;01m}\u001b[39;00m\u001b[38;5;124m)\u001b[39m\u001b[38;5;124m\"\u001b[39m\n\u001b[1;32m    566\u001b[0m     )\n",
      "\u001b[0;31mValueError\u001b[0m: Length of values (8) does not match length of index (4)"
     ]
    }
   ],
   "source": [
    "df2 = pd.DataFrame({'Actual': y_test , 'Predicted': y_pred.flatten()})\n",
    "df2"
   ]
  },
  {
   "cell_type": "code",
   "execution_count": 160,
   "id": "d21f5006",
   "metadata": {
    "execution": {
     "iopub.execute_input": "2023-05-10T02:49:55.534228Z",
     "iopub.status.busy": "2023-05-10T02:49:55.534112Z",
     "iopub.status.idle": "2023-05-10T02:49:55.536260Z",
     "shell.execute_reply": "2023-05-10T02:49:55.536011Z"
    }
   },
   "outputs": [],
   "source": [
    "X_train, X_test, y_train, y_test = train_test_split(X, y, test_size=0.1, random_state=0)"
   ]
  },
  {
   "cell_type": "code",
   "execution_count": 161,
   "id": "b88fbacc",
   "metadata": {
    "execution": {
     "iopub.execute_input": "2023-05-10T02:49:55.537577Z",
     "iopub.status.busy": "2023-05-10T02:49:55.537477Z",
     "iopub.status.idle": "2023-05-10T02:49:55.570300Z",
     "shell.execute_reply": "2023-05-10T02:49:55.570002Z"
    }
   },
   "outputs": [
    {
     "ename": "ValueError",
     "evalue": "Length of values (2) does not match length of index (4)",
     "output_type": "error",
     "traceback": [
      "\u001b[0;31m---------------------------------------------------------------------------\u001b[0m",
      "\u001b[0;31mValueError\u001b[0m                                Traceback (most recent call last)",
      "Cell \u001b[0;32mIn [161], line 1\u001b[0m\n\u001b[0;32m----> 1\u001b[0m df2 \u001b[38;5;241m=\u001b[39m \u001b[43mpd\u001b[49m\u001b[38;5;241;43m.\u001b[39;49m\u001b[43mDataFrame\u001b[49m\u001b[43m(\u001b[49m\u001b[43m{\u001b[49m\u001b[38;5;124;43m'\u001b[39;49m\u001b[38;5;124;43mActual\u001b[39;49m\u001b[38;5;124;43m'\u001b[39;49m\u001b[43m:\u001b[49m\u001b[43m \u001b[49m\u001b[43my_test\u001b[49m\u001b[43m \u001b[49m\u001b[43m,\u001b[49m\u001b[43m \u001b[49m\u001b[38;5;124;43m'\u001b[39;49m\u001b[38;5;124;43mPredicted\u001b[39;49m\u001b[38;5;124;43m'\u001b[39;49m\u001b[43m:\u001b[49m\u001b[43m \u001b[49m\u001b[43my_pred\u001b[49m\u001b[38;5;241;43m.\u001b[39;49m\u001b[43mflatten\u001b[49m\u001b[43m(\u001b[49m\u001b[43m)\u001b[49m\u001b[43m}\u001b[49m\u001b[43m)\u001b[49m\n\u001b[1;32m      2\u001b[0m df2\n",
      "File \u001b[0;32m/opt/homebrew/lib/python3.9/site-packages/pandas/core/frame.py:662\u001b[0m, in \u001b[0;36mDataFrame.__init__\u001b[0;34m(self, data, index, columns, dtype, copy)\u001b[0m\n\u001b[1;32m    656\u001b[0m     mgr \u001b[38;5;241m=\u001b[39m \u001b[38;5;28mself\u001b[39m\u001b[38;5;241m.\u001b[39m_init_mgr(\n\u001b[1;32m    657\u001b[0m         data, axes\u001b[38;5;241m=\u001b[39m{\u001b[38;5;124m\"\u001b[39m\u001b[38;5;124mindex\u001b[39m\u001b[38;5;124m\"\u001b[39m: index, \u001b[38;5;124m\"\u001b[39m\u001b[38;5;124mcolumns\u001b[39m\u001b[38;5;124m\"\u001b[39m: columns}, dtype\u001b[38;5;241m=\u001b[39mdtype, copy\u001b[38;5;241m=\u001b[39mcopy\n\u001b[1;32m    658\u001b[0m     )\n\u001b[1;32m    660\u001b[0m \u001b[38;5;28;01melif\u001b[39;00m \u001b[38;5;28misinstance\u001b[39m(data, \u001b[38;5;28mdict\u001b[39m):\n\u001b[1;32m    661\u001b[0m     \u001b[38;5;66;03m# GH#38939 de facto copy defaults to False only in non-dict cases\u001b[39;00m\n\u001b[0;32m--> 662\u001b[0m     mgr \u001b[38;5;241m=\u001b[39m \u001b[43mdict_to_mgr\u001b[49m\u001b[43m(\u001b[49m\u001b[43mdata\u001b[49m\u001b[43m,\u001b[49m\u001b[43m \u001b[49m\u001b[43mindex\u001b[49m\u001b[43m,\u001b[49m\u001b[43m \u001b[49m\u001b[43mcolumns\u001b[49m\u001b[43m,\u001b[49m\u001b[43m \u001b[49m\u001b[43mdtype\u001b[49m\u001b[38;5;241;43m=\u001b[39;49m\u001b[43mdtype\u001b[49m\u001b[43m,\u001b[49m\u001b[43m \u001b[49m\u001b[43mcopy\u001b[49m\u001b[38;5;241;43m=\u001b[39;49m\u001b[43mcopy\u001b[49m\u001b[43m,\u001b[49m\u001b[43m \u001b[49m\u001b[43mtyp\u001b[49m\u001b[38;5;241;43m=\u001b[39;49m\u001b[43mmanager\u001b[49m\u001b[43m)\u001b[49m\n\u001b[1;32m    663\u001b[0m \u001b[38;5;28;01melif\u001b[39;00m \u001b[38;5;28misinstance\u001b[39m(data, ma\u001b[38;5;241m.\u001b[39mMaskedArray):\n\u001b[1;32m    664\u001b[0m     \u001b[38;5;28;01mimport\u001b[39;00m \u001b[38;5;21;01mnumpy\u001b[39;00m\u001b[38;5;21;01m.\u001b[39;00m\u001b[38;5;21;01mma\u001b[39;00m\u001b[38;5;21;01m.\u001b[39;00m\u001b[38;5;21;01mmrecords\u001b[39;00m \u001b[38;5;28;01mas\u001b[39;00m \u001b[38;5;21;01mmrecords\u001b[39;00m\n",
      "File \u001b[0;32m/opt/homebrew/lib/python3.9/site-packages/pandas/core/internals/construction.py:493\u001b[0m, in \u001b[0;36mdict_to_mgr\u001b[0;34m(data, index, columns, dtype, typ, copy)\u001b[0m\n\u001b[1;32m    489\u001b[0m     \u001b[38;5;28;01melse\u001b[39;00m:\n\u001b[1;32m    490\u001b[0m         \u001b[38;5;66;03m# dtype check to exclude e.g. range objects, scalars\u001b[39;00m\n\u001b[1;32m    491\u001b[0m         arrays \u001b[38;5;241m=\u001b[39m [x\u001b[38;5;241m.\u001b[39mcopy() \u001b[38;5;28;01mif\u001b[39;00m \u001b[38;5;28mhasattr\u001b[39m(x, \u001b[38;5;124m\"\u001b[39m\u001b[38;5;124mdtype\u001b[39m\u001b[38;5;124m\"\u001b[39m) \u001b[38;5;28;01melse\u001b[39;00m x \u001b[38;5;28;01mfor\u001b[39;00m x \u001b[38;5;129;01min\u001b[39;00m arrays]\n\u001b[0;32m--> 493\u001b[0m \u001b[38;5;28;01mreturn\u001b[39;00m \u001b[43marrays_to_mgr\u001b[49m\u001b[43m(\u001b[49m\u001b[43marrays\u001b[49m\u001b[43m,\u001b[49m\u001b[43m \u001b[49m\u001b[43mcolumns\u001b[49m\u001b[43m,\u001b[49m\u001b[43m \u001b[49m\u001b[43mindex\u001b[49m\u001b[43m,\u001b[49m\u001b[43m \u001b[49m\u001b[43mdtype\u001b[49m\u001b[38;5;241;43m=\u001b[39;49m\u001b[43mdtype\u001b[49m\u001b[43m,\u001b[49m\u001b[43m \u001b[49m\u001b[43mtyp\u001b[49m\u001b[38;5;241;43m=\u001b[39;49m\u001b[43mtyp\u001b[49m\u001b[43m,\u001b[49m\u001b[43m \u001b[49m\u001b[43mconsolidate\u001b[49m\u001b[38;5;241;43m=\u001b[39;49m\u001b[43mcopy\u001b[49m\u001b[43m)\u001b[49m\n",
      "File \u001b[0;32m/opt/homebrew/lib/python3.9/site-packages/pandas/core/internals/construction.py:123\u001b[0m, in \u001b[0;36marrays_to_mgr\u001b[0;34m(arrays, columns, index, dtype, verify_integrity, typ, consolidate)\u001b[0m\n\u001b[1;32m    120\u001b[0m         index \u001b[38;5;241m=\u001b[39m ensure_index(index)\n\u001b[1;32m    122\u001b[0m     \u001b[38;5;66;03m# don't force copy because getting jammed in an ndarray anyway\u001b[39;00m\n\u001b[0;32m--> 123\u001b[0m     arrays \u001b[38;5;241m=\u001b[39m \u001b[43m_homogenize\u001b[49m\u001b[43m(\u001b[49m\u001b[43marrays\u001b[49m\u001b[43m,\u001b[49m\u001b[43m \u001b[49m\u001b[43mindex\u001b[49m\u001b[43m,\u001b[49m\u001b[43m \u001b[49m\u001b[43mdtype\u001b[49m\u001b[43m)\u001b[49m\n\u001b[1;32m    124\u001b[0m     \u001b[38;5;66;03m# _homogenize ensures\u001b[39;00m\n\u001b[1;32m    125\u001b[0m     \u001b[38;5;66;03m#  - all(len(x) == len(index) for x in arrays)\u001b[39;00m\n\u001b[1;32m    126\u001b[0m     \u001b[38;5;66;03m#  - all(x.ndim == 1 for x in arrays)\u001b[39;00m\n\u001b[0;32m   (...)\u001b[0m\n\u001b[1;32m    129\u001b[0m \n\u001b[1;32m    130\u001b[0m \u001b[38;5;28;01melse\u001b[39;00m:\n\u001b[1;32m    131\u001b[0m     index \u001b[38;5;241m=\u001b[39m ensure_index(index)\n",
      "File \u001b[0;32m/opt/homebrew/lib/python3.9/site-packages/pandas/core/internals/construction.py:620\u001b[0m, in \u001b[0;36m_homogenize\u001b[0;34m(data, index, dtype)\u001b[0m\n\u001b[1;32m    615\u001b[0m             val \u001b[38;5;241m=\u001b[39m lib\u001b[38;5;241m.\u001b[39mfast_multiget(val, oindex\u001b[38;5;241m.\u001b[39m_values, default\u001b[38;5;241m=\u001b[39mnp\u001b[38;5;241m.\u001b[39mnan)\n\u001b[1;32m    617\u001b[0m         val \u001b[38;5;241m=\u001b[39m sanitize_array(\n\u001b[1;32m    618\u001b[0m             val, index, dtype\u001b[38;5;241m=\u001b[39mdtype, copy\u001b[38;5;241m=\u001b[39m\u001b[38;5;28;01mFalse\u001b[39;00m, raise_cast_failure\u001b[38;5;241m=\u001b[39m\u001b[38;5;28;01mFalse\u001b[39;00m\n\u001b[1;32m    619\u001b[0m         )\n\u001b[0;32m--> 620\u001b[0m         \u001b[43mcom\u001b[49m\u001b[38;5;241;43m.\u001b[39;49m\u001b[43mrequire_length_match\u001b[49m\u001b[43m(\u001b[49m\u001b[43mval\u001b[49m\u001b[43m,\u001b[49m\u001b[43m \u001b[49m\u001b[43mindex\u001b[49m\u001b[43m)\u001b[49m\n\u001b[1;32m    622\u001b[0m     homogenized\u001b[38;5;241m.\u001b[39mappend(val)\n\u001b[1;32m    624\u001b[0m \u001b[38;5;28;01mreturn\u001b[39;00m homogenized\n",
      "File \u001b[0;32m/opt/homebrew/lib/python3.9/site-packages/pandas/core/common.py:561\u001b[0m, in \u001b[0;36mrequire_length_match\u001b[0;34m(data, index)\u001b[0m\n\u001b[1;32m    557\u001b[0m \u001b[38;5;124;03m\"\"\"\u001b[39;00m\n\u001b[1;32m    558\u001b[0m \u001b[38;5;124;03mCheck the length of data matches the length of the index.\u001b[39;00m\n\u001b[1;32m    559\u001b[0m \u001b[38;5;124;03m\"\"\"\u001b[39;00m\n\u001b[1;32m    560\u001b[0m \u001b[38;5;28;01mif\u001b[39;00m \u001b[38;5;28mlen\u001b[39m(data) \u001b[38;5;241m!=\u001b[39m \u001b[38;5;28mlen\u001b[39m(index):\n\u001b[0;32m--> 561\u001b[0m     \u001b[38;5;28;01mraise\u001b[39;00m \u001b[38;5;167;01mValueError\u001b[39;00m(\n\u001b[1;32m    562\u001b[0m         \u001b[38;5;124m\"\u001b[39m\u001b[38;5;124mLength of values \u001b[39m\u001b[38;5;124m\"\u001b[39m\n\u001b[1;32m    563\u001b[0m         \u001b[38;5;124mf\u001b[39m\u001b[38;5;124m\"\u001b[39m\u001b[38;5;124m(\u001b[39m\u001b[38;5;132;01m{\u001b[39;00m\u001b[38;5;28mlen\u001b[39m(data)\u001b[38;5;132;01m}\u001b[39;00m\u001b[38;5;124m) \u001b[39m\u001b[38;5;124m\"\u001b[39m\n\u001b[1;32m    564\u001b[0m         \u001b[38;5;124m\"\u001b[39m\u001b[38;5;124mdoes not match length of index \u001b[39m\u001b[38;5;124m\"\u001b[39m\n\u001b[1;32m    565\u001b[0m         \u001b[38;5;124mf\u001b[39m\u001b[38;5;124m\"\u001b[39m\u001b[38;5;124m(\u001b[39m\u001b[38;5;132;01m{\u001b[39;00m\u001b[38;5;28mlen\u001b[39m(index)\u001b[38;5;132;01m}\u001b[39;00m\u001b[38;5;124m)\u001b[39m\u001b[38;5;124m\"\u001b[39m\n\u001b[1;32m    566\u001b[0m     )\n",
      "\u001b[0;31mValueError\u001b[0m: Length of values (2) does not match length of index (4)"
     ]
    }
   ],
   "source": [
    "df2 = pd.DataFrame({'Actual': y_test , 'Predicted': y_pred.flatten()})\n",
    "df2"
   ]
  },
  {
   "cell_type": "code",
   "execution_count": 162,
   "id": "9e47f11b",
   "metadata": {
    "execution": {
     "iopub.execute_input": "2023-05-10T02:49:55.571885Z",
     "iopub.status.busy": "2023-05-10T02:49:55.571779Z",
     "iopub.status.idle": "2023-05-10T02:49:55.574002Z",
     "shell.execute_reply": "2023-05-10T02:49:55.573759Z"
    }
   },
   "outputs": [],
   "source": [
    "X_train, X_test, y_train, y_test = train_test_split(X, y, test_size=0.3, random_state=0)"
   ]
  },
  {
   "cell_type": "code",
   "execution_count": 163,
   "id": "3a1f10f2",
   "metadata": {
    "execution": {
     "iopub.execute_input": "2023-05-10T02:49:55.575423Z",
     "iopub.status.busy": "2023-05-10T02:49:55.575327Z",
     "iopub.status.idle": "2023-05-10T02:49:55.606915Z",
     "shell.execute_reply": "2023-05-10T02:49:55.606612Z"
    }
   },
   "outputs": [
    {
     "ename": "ValueError",
     "evalue": "Length of values (5) does not match length of index (4)",
     "output_type": "error",
     "traceback": [
      "\u001b[0;31m---------------------------------------------------------------------------\u001b[0m",
      "\u001b[0;31mValueError\u001b[0m                                Traceback (most recent call last)",
      "Cell \u001b[0;32mIn [163], line 1\u001b[0m\n\u001b[0;32m----> 1\u001b[0m df2 \u001b[38;5;241m=\u001b[39m \u001b[43mpd\u001b[49m\u001b[38;5;241;43m.\u001b[39;49m\u001b[43mDataFrame\u001b[49m\u001b[43m(\u001b[49m\u001b[43m{\u001b[49m\u001b[38;5;124;43m'\u001b[39;49m\u001b[38;5;124;43mActual\u001b[39;49m\u001b[38;5;124;43m'\u001b[39;49m\u001b[43m:\u001b[49m\u001b[43m \u001b[49m\u001b[43my_test\u001b[49m\u001b[43m \u001b[49m\u001b[43m,\u001b[49m\u001b[43m \u001b[49m\u001b[38;5;124;43m'\u001b[39;49m\u001b[38;5;124;43mPredicted\u001b[39;49m\u001b[38;5;124;43m'\u001b[39;49m\u001b[43m:\u001b[49m\u001b[43m \u001b[49m\u001b[43my_pred\u001b[49m\u001b[38;5;241;43m.\u001b[39;49m\u001b[43mflatten\u001b[49m\u001b[43m(\u001b[49m\u001b[43m)\u001b[49m\u001b[43m}\u001b[49m\u001b[43m)\u001b[49m\n\u001b[1;32m      2\u001b[0m df2\n",
      "File \u001b[0;32m/opt/homebrew/lib/python3.9/site-packages/pandas/core/frame.py:662\u001b[0m, in \u001b[0;36mDataFrame.__init__\u001b[0;34m(self, data, index, columns, dtype, copy)\u001b[0m\n\u001b[1;32m    656\u001b[0m     mgr \u001b[38;5;241m=\u001b[39m \u001b[38;5;28mself\u001b[39m\u001b[38;5;241m.\u001b[39m_init_mgr(\n\u001b[1;32m    657\u001b[0m         data, axes\u001b[38;5;241m=\u001b[39m{\u001b[38;5;124m\"\u001b[39m\u001b[38;5;124mindex\u001b[39m\u001b[38;5;124m\"\u001b[39m: index, \u001b[38;5;124m\"\u001b[39m\u001b[38;5;124mcolumns\u001b[39m\u001b[38;5;124m\"\u001b[39m: columns}, dtype\u001b[38;5;241m=\u001b[39mdtype, copy\u001b[38;5;241m=\u001b[39mcopy\n\u001b[1;32m    658\u001b[0m     )\n\u001b[1;32m    660\u001b[0m \u001b[38;5;28;01melif\u001b[39;00m \u001b[38;5;28misinstance\u001b[39m(data, \u001b[38;5;28mdict\u001b[39m):\n\u001b[1;32m    661\u001b[0m     \u001b[38;5;66;03m# GH#38939 de facto copy defaults to False only in non-dict cases\u001b[39;00m\n\u001b[0;32m--> 662\u001b[0m     mgr \u001b[38;5;241m=\u001b[39m \u001b[43mdict_to_mgr\u001b[49m\u001b[43m(\u001b[49m\u001b[43mdata\u001b[49m\u001b[43m,\u001b[49m\u001b[43m \u001b[49m\u001b[43mindex\u001b[49m\u001b[43m,\u001b[49m\u001b[43m \u001b[49m\u001b[43mcolumns\u001b[49m\u001b[43m,\u001b[49m\u001b[43m \u001b[49m\u001b[43mdtype\u001b[49m\u001b[38;5;241;43m=\u001b[39;49m\u001b[43mdtype\u001b[49m\u001b[43m,\u001b[49m\u001b[43m \u001b[49m\u001b[43mcopy\u001b[49m\u001b[38;5;241;43m=\u001b[39;49m\u001b[43mcopy\u001b[49m\u001b[43m,\u001b[49m\u001b[43m \u001b[49m\u001b[43mtyp\u001b[49m\u001b[38;5;241;43m=\u001b[39;49m\u001b[43mmanager\u001b[49m\u001b[43m)\u001b[49m\n\u001b[1;32m    663\u001b[0m \u001b[38;5;28;01melif\u001b[39;00m \u001b[38;5;28misinstance\u001b[39m(data, ma\u001b[38;5;241m.\u001b[39mMaskedArray):\n\u001b[1;32m    664\u001b[0m     \u001b[38;5;28;01mimport\u001b[39;00m \u001b[38;5;21;01mnumpy\u001b[39;00m\u001b[38;5;21;01m.\u001b[39;00m\u001b[38;5;21;01mma\u001b[39;00m\u001b[38;5;21;01m.\u001b[39;00m\u001b[38;5;21;01mmrecords\u001b[39;00m \u001b[38;5;28;01mas\u001b[39;00m \u001b[38;5;21;01mmrecords\u001b[39;00m\n",
      "File \u001b[0;32m/opt/homebrew/lib/python3.9/site-packages/pandas/core/internals/construction.py:493\u001b[0m, in \u001b[0;36mdict_to_mgr\u001b[0;34m(data, index, columns, dtype, typ, copy)\u001b[0m\n\u001b[1;32m    489\u001b[0m     \u001b[38;5;28;01melse\u001b[39;00m:\n\u001b[1;32m    490\u001b[0m         \u001b[38;5;66;03m# dtype check to exclude e.g. range objects, scalars\u001b[39;00m\n\u001b[1;32m    491\u001b[0m         arrays \u001b[38;5;241m=\u001b[39m [x\u001b[38;5;241m.\u001b[39mcopy() \u001b[38;5;28;01mif\u001b[39;00m \u001b[38;5;28mhasattr\u001b[39m(x, \u001b[38;5;124m\"\u001b[39m\u001b[38;5;124mdtype\u001b[39m\u001b[38;5;124m\"\u001b[39m) \u001b[38;5;28;01melse\u001b[39;00m x \u001b[38;5;28;01mfor\u001b[39;00m x \u001b[38;5;129;01min\u001b[39;00m arrays]\n\u001b[0;32m--> 493\u001b[0m \u001b[38;5;28;01mreturn\u001b[39;00m \u001b[43marrays_to_mgr\u001b[49m\u001b[43m(\u001b[49m\u001b[43marrays\u001b[49m\u001b[43m,\u001b[49m\u001b[43m \u001b[49m\u001b[43mcolumns\u001b[49m\u001b[43m,\u001b[49m\u001b[43m \u001b[49m\u001b[43mindex\u001b[49m\u001b[43m,\u001b[49m\u001b[43m \u001b[49m\u001b[43mdtype\u001b[49m\u001b[38;5;241;43m=\u001b[39;49m\u001b[43mdtype\u001b[49m\u001b[43m,\u001b[49m\u001b[43m \u001b[49m\u001b[43mtyp\u001b[49m\u001b[38;5;241;43m=\u001b[39;49m\u001b[43mtyp\u001b[49m\u001b[43m,\u001b[49m\u001b[43m \u001b[49m\u001b[43mconsolidate\u001b[49m\u001b[38;5;241;43m=\u001b[39;49m\u001b[43mcopy\u001b[49m\u001b[43m)\u001b[49m\n",
      "File \u001b[0;32m/opt/homebrew/lib/python3.9/site-packages/pandas/core/internals/construction.py:123\u001b[0m, in \u001b[0;36marrays_to_mgr\u001b[0;34m(arrays, columns, index, dtype, verify_integrity, typ, consolidate)\u001b[0m\n\u001b[1;32m    120\u001b[0m         index \u001b[38;5;241m=\u001b[39m ensure_index(index)\n\u001b[1;32m    122\u001b[0m     \u001b[38;5;66;03m# don't force copy because getting jammed in an ndarray anyway\u001b[39;00m\n\u001b[0;32m--> 123\u001b[0m     arrays \u001b[38;5;241m=\u001b[39m \u001b[43m_homogenize\u001b[49m\u001b[43m(\u001b[49m\u001b[43marrays\u001b[49m\u001b[43m,\u001b[49m\u001b[43m \u001b[49m\u001b[43mindex\u001b[49m\u001b[43m,\u001b[49m\u001b[43m \u001b[49m\u001b[43mdtype\u001b[49m\u001b[43m)\u001b[49m\n\u001b[1;32m    124\u001b[0m     \u001b[38;5;66;03m# _homogenize ensures\u001b[39;00m\n\u001b[1;32m    125\u001b[0m     \u001b[38;5;66;03m#  - all(len(x) == len(index) for x in arrays)\u001b[39;00m\n\u001b[1;32m    126\u001b[0m     \u001b[38;5;66;03m#  - all(x.ndim == 1 for x in arrays)\u001b[39;00m\n\u001b[0;32m   (...)\u001b[0m\n\u001b[1;32m    129\u001b[0m \n\u001b[1;32m    130\u001b[0m \u001b[38;5;28;01melse\u001b[39;00m:\n\u001b[1;32m    131\u001b[0m     index \u001b[38;5;241m=\u001b[39m ensure_index(index)\n",
      "File \u001b[0;32m/opt/homebrew/lib/python3.9/site-packages/pandas/core/internals/construction.py:620\u001b[0m, in \u001b[0;36m_homogenize\u001b[0;34m(data, index, dtype)\u001b[0m\n\u001b[1;32m    615\u001b[0m             val \u001b[38;5;241m=\u001b[39m lib\u001b[38;5;241m.\u001b[39mfast_multiget(val, oindex\u001b[38;5;241m.\u001b[39m_values, default\u001b[38;5;241m=\u001b[39mnp\u001b[38;5;241m.\u001b[39mnan)\n\u001b[1;32m    617\u001b[0m         val \u001b[38;5;241m=\u001b[39m sanitize_array(\n\u001b[1;32m    618\u001b[0m             val, index, dtype\u001b[38;5;241m=\u001b[39mdtype, copy\u001b[38;5;241m=\u001b[39m\u001b[38;5;28;01mFalse\u001b[39;00m, raise_cast_failure\u001b[38;5;241m=\u001b[39m\u001b[38;5;28;01mFalse\u001b[39;00m\n\u001b[1;32m    619\u001b[0m         )\n\u001b[0;32m--> 620\u001b[0m         \u001b[43mcom\u001b[49m\u001b[38;5;241;43m.\u001b[39;49m\u001b[43mrequire_length_match\u001b[49m\u001b[43m(\u001b[49m\u001b[43mval\u001b[49m\u001b[43m,\u001b[49m\u001b[43m \u001b[49m\u001b[43mindex\u001b[49m\u001b[43m)\u001b[49m\n\u001b[1;32m    622\u001b[0m     homogenized\u001b[38;5;241m.\u001b[39mappend(val)\n\u001b[1;32m    624\u001b[0m \u001b[38;5;28;01mreturn\u001b[39;00m homogenized\n",
      "File \u001b[0;32m/opt/homebrew/lib/python3.9/site-packages/pandas/core/common.py:561\u001b[0m, in \u001b[0;36mrequire_length_match\u001b[0;34m(data, index)\u001b[0m\n\u001b[1;32m    557\u001b[0m \u001b[38;5;124;03m\"\"\"\u001b[39;00m\n\u001b[1;32m    558\u001b[0m \u001b[38;5;124;03mCheck the length of data matches the length of the index.\u001b[39;00m\n\u001b[1;32m    559\u001b[0m \u001b[38;5;124;03m\"\"\"\u001b[39;00m\n\u001b[1;32m    560\u001b[0m \u001b[38;5;28;01mif\u001b[39;00m \u001b[38;5;28mlen\u001b[39m(data) \u001b[38;5;241m!=\u001b[39m \u001b[38;5;28mlen\u001b[39m(index):\n\u001b[0;32m--> 561\u001b[0m     \u001b[38;5;28;01mraise\u001b[39;00m \u001b[38;5;167;01mValueError\u001b[39;00m(\n\u001b[1;32m    562\u001b[0m         \u001b[38;5;124m\"\u001b[39m\u001b[38;5;124mLength of values \u001b[39m\u001b[38;5;124m\"\u001b[39m\n\u001b[1;32m    563\u001b[0m         \u001b[38;5;124mf\u001b[39m\u001b[38;5;124m\"\u001b[39m\u001b[38;5;124m(\u001b[39m\u001b[38;5;132;01m{\u001b[39;00m\u001b[38;5;28mlen\u001b[39m(data)\u001b[38;5;132;01m}\u001b[39;00m\u001b[38;5;124m) \u001b[39m\u001b[38;5;124m\"\u001b[39m\n\u001b[1;32m    564\u001b[0m         \u001b[38;5;124m\"\u001b[39m\u001b[38;5;124mdoes not match length of index \u001b[39m\u001b[38;5;124m\"\u001b[39m\n\u001b[1;32m    565\u001b[0m         \u001b[38;5;124mf\u001b[39m\u001b[38;5;124m\"\u001b[39m\u001b[38;5;124m(\u001b[39m\u001b[38;5;132;01m{\u001b[39;00m\u001b[38;5;28mlen\u001b[39m(index)\u001b[38;5;132;01m}\u001b[39;00m\u001b[38;5;124m)\u001b[39m\u001b[38;5;124m\"\u001b[39m\n\u001b[1;32m    566\u001b[0m     )\n",
      "\u001b[0;31mValueError\u001b[0m: Length of values (5) does not match length of index (4)"
     ]
    }
   ],
   "source": [
    "df2 = pd.DataFrame({'Actual': y_test , 'Predicted': y_pred.flatten()})\n",
    "df2"
   ]
  },
  {
   "cell_type": "code",
   "execution_count": 164,
   "id": "d7261299",
   "metadata": {
    "execution": {
     "iopub.execute_input": "2023-05-10T02:49:55.608509Z",
     "iopub.status.busy": "2023-05-10T02:49:55.608419Z",
     "iopub.status.idle": "2023-05-10T02:49:55.610589Z",
     "shell.execute_reply": "2023-05-10T02:49:55.610350Z"
    }
   },
   "outputs": [],
   "source": [
    "X_train, X_test, y_train, y_test = train_test_split(X, y, test_size=0.2, random_state=0)"
   ]
  },
  {
   "cell_type": "code",
   "execution_count": 165,
   "id": "2d594186",
   "metadata": {
    "execution": {
     "iopub.execute_input": "2023-05-10T02:49:55.612012Z",
     "iopub.status.busy": "2023-05-10T02:49:55.611904Z",
     "iopub.status.idle": "2023-05-10T02:49:55.615588Z",
     "shell.execute_reply": "2023-05-10T02:49:55.615321Z"
    }
   },
   "outputs": [
    {
     "data": {
      "text/html": [
       "<div>\n",
       "<style scoped>\n",
       "    .dataframe tbody tr th:only-of-type {\n",
       "        vertical-align: middle;\n",
       "    }\n",
       "\n",
       "    .dataframe tbody tr th {\n",
       "        vertical-align: top;\n",
       "    }\n",
       "\n",
       "    .dataframe thead th {\n",
       "        text-align: right;\n",
       "    }\n",
       "</style>\n",
       "<table border=\"1\" class=\"dataframe\">\n",
       "  <thead>\n",
       "    <tr style=\"text-align: right;\">\n",
       "      <th></th>\n",
       "      <th>Actual</th>\n",
       "      <th>Predicted</th>\n",
       "    </tr>\n",
       "  </thead>\n",
       "  <tbody>\n",
       "    <tr>\n",
       "      <th>0</th>\n",
       "      <td>(28,)</td>\n",
       "      <td>52.083333</td>\n",
       "    </tr>\n",
       "    <tr>\n",
       "      <th>1</th>\n",
       "      <td>(73,)</td>\n",
       "      <td>52.083333</td>\n",
       "    </tr>\n",
       "    <tr>\n",
       "      <th>2</th>\n",
       "      <td>(53,)</td>\n",
       "      <td>52.083333</td>\n",
       "    </tr>\n",
       "    <tr>\n",
       "      <th>3</th>\n",
       "      <td>(37,)</td>\n",
       "      <td>52.083333</td>\n",
       "    </tr>\n",
       "  </tbody>\n",
       "</table>\n",
       "</div>"
      ],
      "text/plain": [
       "  Actual  Predicted\n",
       "0  (28,)  52.083333\n",
       "1  (73,)  52.083333\n",
       "2  (53,)  52.083333\n",
       "3  (37,)  52.083333"
      ]
     },
     "execution_count": 165,
     "metadata": {},
     "output_type": "execute_result"
    }
   ],
   "source": [
    "df2 = pd.DataFrame({'Actual': y_test , 'Predicted': y_pred.flatten()})\n",
    "df2"
   ]
  },
  {
   "cell_type": "markdown",
   "id": "f771c3b2",
   "metadata": {},
   "source": [
    "SPLIT training set"
   ]
  },
  {
   "cell_type": "code",
   "execution_count": 166,
   "id": "bd0818ed",
   "metadata": {
    "execution": {
     "iopub.execute_input": "2023-05-10T02:49:55.617006Z",
     "iopub.status.busy": "2023-05-10T02:49:55.616926Z",
     "iopub.status.idle": "2023-05-10T02:49:55.618718Z",
     "shell.execute_reply": "2023-05-10T02:49:55.618462Z"
    }
   },
   "outputs": [],
   "source": [
    "X = df['edu_post_hs'].values.reshape(-1,1)\n",
    "Y = df['total_claims'].values.reshape(-1,1)"
   ]
  },
  {
   "cell_type": "markdown",
   "id": "83993526",
   "metadata": {},
   "source": [
    "SPLIT training set"
   ]
  },
  {
   "cell_type": "code",
   "execution_count": 167,
   "id": "782d82e0",
   "metadata": {
    "execution": {
     "iopub.execute_input": "2023-05-10T02:49:55.620043Z",
     "iopub.status.busy": "2023-05-10T02:49:55.619954Z",
     "iopub.status.idle": "2023-05-10T02:49:55.621797Z",
     "shell.execute_reply": "2023-05-10T02:49:55.621559Z"
    }
   },
   "outputs": [],
   "source": [
    "X = df['edu_post_hs'].values.reshape(-1,1)\n",
    "Y = df['total_claims'].values.reshape(-1,1)"
   ]
  },
  {
   "cell_type": "code",
   "execution_count": 168,
   "id": "db80dd5a",
   "metadata": {
    "execution": {
     "iopub.execute_input": "2023-05-10T02:49:55.623162Z",
     "iopub.status.busy": "2023-05-10T02:49:55.623080Z",
     "iopub.status.idle": "2023-05-10T02:49:55.625099Z",
     "shell.execute_reply": "2023-05-10T02:49:55.624857Z"
    }
   },
   "outputs": [],
   "source": [
    "X_train, X_test, y_train, y_test = train_test_split(X, y, test_size=0.2, random_state=0)"
   ]
  },
  {
   "cell_type": "code",
   "execution_count": 169,
   "id": "9f395f15",
   "metadata": {
    "execution": {
     "iopub.execute_input": "2023-05-10T02:49:55.626425Z",
     "iopub.status.busy": "2023-05-10T02:49:55.626351Z",
     "iopub.status.idle": "2023-05-10T02:49:55.628112Z",
     "shell.execute_reply": "2023-05-10T02:49:55.627869Z"
    }
   },
   "outputs": [],
   "source": [
    "y_pred = regressor.predict(X_test)"
   ]
  },
  {
   "cell_type": "code",
   "execution_count": 170,
   "id": "68f83c03",
   "metadata": {
    "execution": {
     "iopub.execute_input": "2023-05-10T02:49:55.629409Z",
     "iopub.status.busy": "2023-05-10T02:49:55.629331Z",
     "iopub.status.idle": "2023-05-10T02:49:55.632893Z",
     "shell.execute_reply": "2023-05-10T02:49:55.632662Z"
    }
   },
   "outputs": [
    {
     "data": {
      "text/html": [
       "<div>\n",
       "<style scoped>\n",
       "    .dataframe tbody tr th:only-of-type {\n",
       "        vertical-align: middle;\n",
       "    }\n",
       "\n",
       "    .dataframe tbody tr th {\n",
       "        vertical-align: top;\n",
       "    }\n",
       "\n",
       "    .dataframe thead th {\n",
       "        text-align: right;\n",
       "    }\n",
       "</style>\n",
       "<table border=\"1\" class=\"dataframe\">\n",
       "  <thead>\n",
       "    <tr style=\"text-align: right;\">\n",
       "      <th></th>\n",
       "      <th>Actual</th>\n",
       "      <th>Predicted</th>\n",
       "    </tr>\n",
       "  </thead>\n",
       "  <tbody>\n",
       "    <tr>\n",
       "      <th>0</th>\n",
       "      <td>(28,)</td>\n",
       "      <td>52.083333</td>\n",
       "    </tr>\n",
       "    <tr>\n",
       "      <th>1</th>\n",
       "      <td>(73,)</td>\n",
       "      <td>52.083333</td>\n",
       "    </tr>\n",
       "    <tr>\n",
       "      <th>2</th>\n",
       "      <td>(53,)</td>\n",
       "      <td>52.083333</td>\n",
       "    </tr>\n",
       "    <tr>\n",
       "      <th>3</th>\n",
       "      <td>(37,)</td>\n",
       "      <td>52.083333</td>\n",
       "    </tr>\n",
       "  </tbody>\n",
       "</table>\n",
       "</div>"
      ],
      "text/plain": [
       "  Actual  Predicted\n",
       "0  (28,)  52.083333\n",
       "1  (73,)  52.083333\n",
       "2  (53,)  52.083333\n",
       "3  (37,)  52.083333"
      ]
     },
     "execution_count": 170,
     "metadata": {},
     "output_type": "execute_result"
    }
   ],
   "source": [
    "df2 = pd.DataFrame({'Actual': y_test , 'Predicted': y_pred.flatten()})\n",
    "df2"
   ]
  },
  {
   "cell_type": "code",
   "execution_count": 171,
   "id": "38fa6a01",
   "metadata": {
    "execution": {
     "iopub.execute_input": "2023-05-10T02:49:55.634233Z",
     "iopub.status.busy": "2023-05-10T02:49:55.634148Z",
     "iopub.status.idle": "2023-05-10T02:49:55.682195Z",
     "shell.execute_reply": "2023-05-10T02:49:55.681905Z"
    }
   },
   "outputs": [
    {
     "data": {
      "image/png": "[encoded data removed]",
      "text/plain": [
       "<Figure size 640x480 with 1 Axes>"
      ]
     },
     "metadata": {},
     "output_type": "display_data"
    }
   ],
   "source": [
    "plt.scatter(X_test, y_test,  color='gray')\n",
    "plt.plot(X_test, y_pred, color='red', linewidth=2)\n",
    "plt.show()"
   ]
  },
  {
   "cell_type": "code",
   "execution_count": 172,
   "id": "b8d0853f",
   "metadata": {
    "execution": {
     "iopub.execute_input": "2023-05-10T02:49:55.683731Z",
     "iopub.status.busy": "2023-05-10T02:49:55.683614Z",
     "iopub.status.idle": "2023-05-10T02:49:55.686315Z",
     "shell.execute_reply": "2023-05-10T02:49:55.686021Z"
    }
   },
   "outputs": [
    {
     "name": "stdout",
     "output_type": "stream",
     "text": [
      "Mean Absolute Error: 15.25\n",
      "Mean Squared Error: 311.4652777777778\n",
      "Root Mean Squared Error: 17.648378899428067\n"
     ]
    }
   ],
   "source": [
    "print('Mean Absolute Error:', metrics.mean_absolute_error(y_test, y_pred))  \n",
    "print('Mean Squared Error:', metrics.mean_squared_error(y_test, y_pred))  \n",
    "print('Root Mean Squared Error:', np.sqrt(metrics.mean_squared_error(y_test, y_pred)))"
   ]
  },
  {
   "cell_type": "markdown",
   "id": "49990c2d",
   "metadata": {},
   "source": [
    "split the data"
   ]
  },
  {
   "cell_type": "code",
   "execution_count": 173,
   "id": "779f01c3",
   "metadata": {
    "execution": {
     "iopub.execute_input": "2023-05-10T02:49:55.687764Z",
     "iopub.status.busy": "2023-05-10T02:49:55.687659Z",
     "iopub.status.idle": "2023-05-10T02:49:55.689672Z",
     "shell.execute_reply": "2023-05-10T02:49:55.689362Z"
    },
    "lines_to_next_cell": 2
   },
   "outputs": [],
   "source": [
    "X = df['edu_post_hs'].values.reshape(-1,1)\n",
    "Y = df['total_claims'].values.reshape(-1,1)"
   ]
  },
  {
   "cell_type": "code",
   "execution_count": 174,
   "id": "544bb868",
   "metadata": {
    "execution": {
     "iopub.execute_input": "2023-05-10T02:49:55.691161Z",
     "iopub.status.busy": "2023-05-10T02:49:55.691058Z",
     "iopub.status.idle": "2023-05-10T02:49:55.693306Z",
     "shell.execute_reply": "2023-05-10T02:49:55.693045Z"
    }
   },
   "outputs": [],
   "source": [
    "#create training & split data\n",
    "X_train, X_test, y_train, y_test = train_test_split(X, y, test_size=0.2, random_state=0)"
   ]
  },
  {
   "cell_type": "code",
   "execution_count": 175,
   "id": "efa2b142",
   "metadata": {
    "execution": {
     "iopub.execute_input": "2023-05-10T02:49:55.694696Z",
     "iopub.status.busy": "2023-05-10T02:49:55.694590Z",
     "iopub.status.idle": "2023-05-10T02:49:55.697471Z",
     "shell.execute_reply": "2023-05-10T02:49:55.697215Z"
    }
   },
   "outputs": [
    {
     "data": {
      "text/html": [
       "<style>#sk-container-id-3 {color: black;background-color: white;}#sk-container-id-3 pre{padding: 0;}#sk-container-id-3 div.sk-toggleable {background-color: white;}#sk-container-id-3 label.sk-toggleable__label {cursor: pointer;display: block;width: 100%;margin-bottom: 0;padding: 0.3em;box-sizing: border-box;text-align: center;}#sk-container-id-3 label.sk-toggleable__label-arrow:before {content: \"▸\";float: left;margin-right: 0.25em;color: #696969;}#sk-container-id-3 label.sk-toggleable__label-arrow:hover:before {color: black;}#sk-container-id-3 div.sk-estimator:hover label.sk-toggleable__label-arrow:before {color: black;}#sk-container-id-3 div.sk-toggleable__content {max-height: 0;max-width: 0;overflow: hidden;text-align: left;background-color: #f0f8ff;}#sk-container-id-3 div.sk-toggleable__content pre {margin: 0.2em;color: black;border-radius: 0.25em;background-color: #f0f8ff;}#sk-container-id-3 input.sk-toggleable__control:checked~div.sk-toggleable__content {max-height: 200px;max-width: 100%;overflow: auto;}#sk-container-id-3 input.sk-toggleable__control:checked~label.sk-toggleable__label-arrow:before {content: \"▾\";}#sk-container-id-3 div.sk-estimator input.sk-toggleable__control:checked~label.sk-toggleable__label {background-color: #d4ebff;}#sk-container-id-3 div.sk-label input.sk-toggleable__control:checked~label.sk-toggleable__label {background-color: #d4ebff;}#sk-container-id-3 input.sk-hidden--visually {border: 0;clip: rect(1px 1px 1px 1px);clip: rect(1px, 1px, 1px, 1px);height: 1px;margin: -1px;overflow: hidden;padding: 0;position: absolute;width: 1px;}#sk-container-id-3 div.sk-estimator {font-family: monospace;background-color: #f0f8ff;border: 1px dotted black;border-radius: 0.25em;box-sizing: border-box;margin-bottom: 0.5em;}#sk-container-id-3 div.sk-estimator:hover {background-color: #d4ebff;}#sk-container-id-3 div.sk-parallel-item::after {content: \"\";width: 100%;border-bottom: 1px solid gray;flex-grow: 1;}#sk-container-id-3 div.sk-label:hover label.sk-toggleable__label {background-color: #d4ebff;}#sk-container-id-3 div.sk-serial::before {content: \"\";position: absolute;border-left: 1px solid gray;box-sizing: border-box;top: 0;bottom: 0;left: 50%;z-index: 0;}#sk-container-id-3 div.sk-serial {display: flex;flex-direction: column;align-items: center;background-color: white;padding-right: 0.2em;padding-left: 0.2em;position: relative;}#sk-container-id-3 div.sk-item {position: relative;z-index: 1;}#sk-container-id-3 div.sk-parallel {display: flex;align-items: stretch;justify-content: center;background-color: white;position: relative;}#sk-container-id-3 div.sk-item::before, #sk-container-id-3 div.sk-parallel-item::before {content: \"\";position: absolute;border-left: 1px solid gray;box-sizing: border-box;top: 0;bottom: 0;left: 50%;z-index: -1;}#sk-container-id-3 div.sk-parallel-item {display: flex;flex-direction: column;z-index: 1;position: relative;background-color: white;}#sk-container-id-3 div.sk-parallel-item:first-child::after {align-self: flex-end;width: 50%;}#sk-container-id-3 div.sk-parallel-item:last-child::after {align-self: flex-start;width: 50%;}#sk-container-id-3 div.sk-parallel-item:only-child::after {width: 0;}#sk-container-id-3 div.sk-dashed-wrapped {border: 1px dashed gray;margin: 0 0.4em 0.5em 0.4em;box-sizing: border-box;padding-bottom: 0.4em;background-color: white;}#sk-container-id-3 div.sk-label label {font-family: monospace;font-weight: bold;display: inline-block;line-height: 1.2em;}#sk-container-id-3 div.sk-label-container {text-align: center;}#sk-container-id-3 div.sk-container {/* jupyter's `normalize.less` sets `[hidden] { display: none; }` but bootstrap.min.css set `[hidden] { display: none !important; }` so we also need the `!important` here to be able to override the default hidden behavior on the sphinx rendered scikit-learn.org. See: https://github.com/scikit-learn/scikit-learn/issues/21755 */display: inline-block !important;position: relative;}#sk-container-id-3 div.sk-text-repr-fallback {display: none;}</style><div id=\"sk-container-id-3\" class=\"sk-top-container\"><div class=\"sk-text-repr-fallback\"><pre>LinearRegression()</pre><b>In a Jupyter environment, please rerun this cell to show the HTML representation or trust the notebook. <br />On GitHub, the HTML representation is unable to render, please try loading this page with nbviewer.org.</b></div><div class=\"sk-container\" hidden><div class=\"sk-item\"><div class=\"sk-estimator sk-toggleable\"><input class=\"sk-toggleable__control sk-hidden--visually\" id=\"sk-estimator-id-3\" type=\"checkbox\" checked><label for=\"sk-estimator-id-3\" class=\"sk-toggleable__label sk-toggleable__label-arrow\">LinearRegression</label><div class=\"sk-toggleable__content\"><pre>LinearRegression()</pre></div></div></div></div></div>"
      ],
      "text/plain": [
       "LinearRegression()"
      ]
     },
     "execution_count": 175,
     "metadata": {},
     "output_type": "execute_result"
    }
   ],
   "source": [
    "#fit the model to the data\n",
    "regressor = LinearRegression()  \n",
    "regressor.fit(X_train, y_train)"
   ]
  },
  {
   "cell_type": "code",
   "execution_count": 176,
   "id": "cddefe99",
   "metadata": {
    "execution": {
     "iopub.execute_input": "2023-05-10T02:49:55.698834Z",
     "iopub.status.busy": "2023-05-10T02:49:55.698736Z",
     "iopub.status.idle": "2023-05-10T02:49:55.700604Z",
     "shell.execute_reply": "2023-05-10T02:49:55.700349Z"
    }
   },
   "outputs": [
    {
     "name": "stdout",
     "output_type": "stream",
     "text": [
      "[30.28846154]\n"
     ]
    }
   ],
   "source": [
    "#To retrieve the intercept:\n",
    "print(regressor.intercept_)"
   ]
  },
  {
   "cell_type": "code",
   "execution_count": 177,
   "id": "b60576a2",
   "metadata": {
    "execution": {
     "iopub.execute_input": "2023-05-10T02:49:55.701980Z",
     "iopub.status.busy": "2023-05-10T02:49:55.701871Z",
     "iopub.status.idle": "2023-05-10T02:49:55.703657Z",
     "shell.execute_reply": "2023-05-10T02:49:55.703411Z"
    }
   },
   "outputs": [
    {
     "name": "stdout",
     "output_type": "stream",
     "text": [
      "[[0.90811966]]\n"
     ]
    }
   ],
   "source": [
    "#For retrieving the slope:\n",
    "print(regressor.coef_)"
   ]
  },
  {
   "cell_type": "markdown",
   "id": "9bd0671a",
   "metadata": {},
   "source": [
    "split the data"
   ]
  },
  {
   "cell_type": "code",
   "execution_count": 178,
   "id": "291a864c",
   "metadata": {
    "execution": {
     "iopub.execute_input": "2023-05-10T02:49:55.705126Z",
     "iopub.status.busy": "2023-05-10T02:49:55.705028Z",
     "iopub.status.idle": "2023-05-10T02:49:55.706947Z",
     "shell.execute_reply": "2023-05-10T02:49:55.706689Z"
    },
    "lines_to_next_cell": 2
   },
   "outputs": [],
   "source": [
    "X = df['edu_post_hs'].values.reshape(-1,1)\n",
    "Y = df['total_claims'].values.reshape(-1,1)"
   ]
  },
  {
   "cell_type": "code",
   "execution_count": 179,
   "id": "7c7c99ef",
   "metadata": {
    "execution": {
     "iopub.execute_input": "2023-05-10T02:49:55.708345Z",
     "iopub.status.busy": "2023-05-10T02:49:55.708241Z",
     "iopub.status.idle": "2023-05-10T02:49:55.710359Z",
     "shell.execute_reply": "2023-05-10T02:49:55.710104Z"
    }
   },
   "outputs": [],
   "source": [
    "#create training & split data\n",
    "X_train, X_test, y_train, y_test = train_test_split(X, y, test_size=0.2, random_state=0)"
   ]
  },
  {
   "cell_type": "code",
   "execution_count": 180,
   "id": "6ba1435f",
   "metadata": {
    "execution": {
     "iopub.execute_input": "2023-05-10T02:49:55.711893Z",
     "iopub.status.busy": "2023-05-10T02:49:55.711776Z",
     "iopub.status.idle": "2023-05-10T02:49:55.714708Z",
     "shell.execute_reply": "2023-05-10T02:49:55.714457Z"
    }
   },
   "outputs": [
    {
     "data": {
      "text/html": [
       "<style>#sk-container-id-4 {color: black;background-color: white;}#sk-container-id-4 pre{padding: 0;}#sk-container-id-4 div.sk-toggleable {background-color: white;}#sk-container-id-4 label.sk-toggleable__label {cursor: pointer;display: block;width: 100%;margin-bottom: 0;padding: 0.3em;box-sizing: border-box;text-align: center;}#sk-container-id-4 label.sk-toggleable__label-arrow:before {content: \"▸\";float: left;margin-right: 0.25em;color: #696969;}#sk-container-id-4 label.sk-toggleable__label-arrow:hover:before {color: black;}#sk-container-id-4 div.sk-estimator:hover label.sk-toggleable__label-arrow:before {color: black;}#sk-container-id-4 div.sk-toggleable__content {max-height: 0;max-width: 0;overflow: hidden;text-align: left;background-color: #f0f8ff;}#sk-container-id-4 div.sk-toggleable__content pre {margin: 0.2em;color: black;border-radius: 0.25em;background-color: #f0f8ff;}#sk-container-id-4 input.sk-toggleable__control:checked~div.sk-toggleable__content {max-height: 200px;max-width: 100%;overflow: auto;}#sk-container-id-4 input.sk-toggleable__control:checked~label.sk-toggleable__label-arrow:before {content: \"▾\";}#sk-container-id-4 div.sk-estimator input.sk-toggleable__control:checked~label.sk-toggleable__label {background-color: #d4ebff;}#sk-container-id-4 div.sk-label input.sk-toggleable__control:checked~label.sk-toggleable__label {background-color: #d4ebff;}#sk-container-id-4 input.sk-hidden--visually {border: 0;clip: rect(1px 1px 1px 1px);clip: rect(1px, 1px, 1px, 1px);height: 1px;margin: -1px;overflow: hidden;padding: 0;position: absolute;width: 1px;}#sk-container-id-4 div.sk-estimator {font-family: monospace;background-color: #f0f8ff;border: 1px dotted black;border-radius: 0.25em;box-sizing: border-box;margin-bottom: 0.5em;}#sk-container-id-4 div.sk-estimator:hover {background-color: #d4ebff;}#sk-container-id-4 div.sk-parallel-item::after {content: \"\";width: 100%;border-bottom: 1px solid gray;flex-grow: 1;}#sk-container-id-4 div.sk-label:hover label.sk-toggleable__label {background-color: #d4ebff;}#sk-container-id-4 div.sk-serial::before {content: \"\";position: absolute;border-left: 1px solid gray;box-sizing: border-box;top: 0;bottom: 0;left: 50%;z-index: 0;}#sk-container-id-4 div.sk-serial {display: flex;flex-direction: column;align-items: center;background-color: white;padding-right: 0.2em;padding-left: 0.2em;position: relative;}#sk-container-id-4 div.sk-item {position: relative;z-index: 1;}#sk-container-id-4 div.sk-parallel {display: flex;align-items: stretch;justify-content: center;background-color: white;position: relative;}#sk-container-id-4 div.sk-item::before, #sk-container-id-4 div.sk-parallel-item::before {content: \"\";position: absolute;border-left: 1px solid gray;box-sizing: border-box;top: 0;bottom: 0;left: 50%;z-index: -1;}#sk-container-id-4 div.sk-parallel-item {display: flex;flex-direction: column;z-index: 1;position: relative;background-color: white;}#sk-container-id-4 div.sk-parallel-item:first-child::after {align-self: flex-end;width: 50%;}#sk-container-id-4 div.sk-parallel-item:last-child::after {align-self: flex-start;width: 50%;}#sk-container-id-4 div.sk-parallel-item:only-child::after {width: 0;}#sk-container-id-4 div.sk-dashed-wrapped {border: 1px dashed gray;margin: 0 0.4em 0.5em 0.4em;box-sizing: border-box;padding-bottom: 0.4em;background-color: white;}#sk-container-id-4 div.sk-label label {font-family: monospace;font-weight: bold;display: inline-block;line-height: 1.2em;}#sk-container-id-4 div.sk-label-container {text-align: center;}#sk-container-id-4 div.sk-container {/* jupyter's `normalize.less` sets `[hidden] { display: none; }` but bootstrap.min.css set `[hidden] { display: none !important; }` so we also need the `!important` here to be able to override the default hidden behavior on the sphinx rendered scikit-learn.org. See: https://github.com/scikit-learn/scikit-learn/issues/21755 */display: inline-block !important;position: relative;}#sk-container-id-4 div.sk-text-repr-fallback {display: none;}</style><div id=\"sk-container-id-4\" class=\"sk-top-container\"><div class=\"sk-text-repr-fallback\"><pre>LinearRegression()</pre><b>In a Jupyter environment, please rerun this cell to show the HTML representation or trust the notebook. <br />On GitHub, the HTML representation is unable to render, please try loading this page with nbviewer.org.</b></div><div class=\"sk-container\" hidden><div class=\"sk-item\"><div class=\"sk-estimator sk-toggleable\"><input class=\"sk-toggleable__control sk-hidden--visually\" id=\"sk-estimator-id-4\" type=\"checkbox\" checked><label for=\"sk-estimator-id-4\" class=\"sk-toggleable__label sk-toggleable__label-arrow\">LinearRegression</label><div class=\"sk-toggleable__content\"><pre>LinearRegression()</pre></div></div></div></div></div>"
      ],
      "text/plain": [
       "LinearRegression()"
      ]
     },
     "execution_count": 180,
     "metadata": {},
     "output_type": "execute_result"
    }
   ],
   "source": [
    "#fit the model to the data\n",
    "model = LinearRegression()  \n",
    "model.fit(X_train, y_train)"
   ]
  },
  {
   "cell_type": "code",
   "execution_count": 181,
   "id": "3a20da85",
   "metadata": {
    "execution": {
     "iopub.execute_input": "2023-05-10T02:49:55.716107Z",
     "iopub.status.busy": "2023-05-10T02:49:55.716002Z",
     "iopub.status.idle": "2023-05-10T02:49:55.717846Z",
     "shell.execute_reply": "2023-05-10T02:49:55.717612Z"
    }
   },
   "outputs": [
    {
     "name": "stdout",
     "output_type": "stream",
     "text": [
      "[30.28846154]\n"
     ]
    }
   ],
   "source": [
    "#To retrieve the intercept:\n",
    "print(regressor.intercept_)"
   ]
  },
  {
   "cell_type": "code",
   "execution_count": 182,
   "id": "2fd6d8a0",
   "metadata": {
    "execution": {
     "iopub.execute_input": "2023-05-10T02:49:55.719236Z",
     "iopub.status.busy": "2023-05-10T02:49:55.719129Z",
     "iopub.status.idle": "2023-05-10T02:49:55.720951Z",
     "shell.execute_reply": "2023-05-10T02:49:55.720691Z"
    }
   },
   "outputs": [
    {
     "name": "stdout",
     "output_type": "stream",
     "text": [
      "[[0.90811966]]\n"
     ]
    }
   ],
   "source": [
    "#For retrieving the slope:\n",
    "print(regressor.coef_)"
   ]
  },
  {
   "cell_type": "markdown",
   "id": "5002737b",
   "metadata": {},
   "source": []
  },
  {
   "cell_type": "markdown",
   "id": "d2621d23",
   "metadata": {},
   "source": [
    "split the data"
   ]
  },
  {
   "cell_type": "code",
   "execution_count": 183,
   "id": "7088f63e",
   "metadata": {
    "execution": {
     "iopub.execute_input": "2023-05-10T02:49:55.722293Z",
     "iopub.status.busy": "2023-05-10T02:49:55.722194Z",
     "iopub.status.idle": "2023-05-10T02:49:55.724086Z",
     "shell.execute_reply": "2023-05-10T02:49:55.723835Z"
    },
    "lines_to_next_cell": 2
   },
   "outputs": [],
   "source": [
    "X = df['edu_post_hs'].values.reshape(-1,1)\n",
    "Y = df['total_claims'].values.reshape(-1,1)"
   ]
  },
  {
   "cell_type": "code",
   "execution_count": 184,
   "id": "39fbf023",
   "metadata": {
    "execution": {
     "iopub.execute_input": "2023-05-10T02:49:55.725473Z",
     "iopub.status.busy": "2023-05-10T02:49:55.725376Z",
     "iopub.status.idle": "2023-05-10T02:49:55.727433Z",
     "shell.execute_reply": "2023-05-10T02:49:55.727200Z"
    }
   },
   "outputs": [],
   "source": [
    "#create training & split data\n",
    "X_train, X_test, y_train, y_test = train_test_split(X, y, test_size=0.2, random_state=0)"
   ]
  },
  {
   "cell_type": "code",
   "execution_count": 185,
   "id": "ff8eeb44",
   "metadata": {
    "execution": {
     "iopub.execute_input": "2023-05-10T02:49:55.729748Z",
     "iopub.status.busy": "2023-05-10T02:49:55.729634Z",
     "iopub.status.idle": "2023-05-10T02:49:55.732541Z",
     "shell.execute_reply": "2023-05-10T02:49:55.732298Z"
    }
   },
   "outputs": [
    {
     "data": {
      "text/html": [
       "<style>#sk-container-id-5 {color: black;background-color: white;}#sk-container-id-5 pre{padding: 0;}#sk-container-id-5 div.sk-toggleable {background-color: white;}#sk-container-id-5 label.sk-toggleable__label {cursor: pointer;display: block;width: 100%;margin-bottom: 0;padding: 0.3em;box-sizing: border-box;text-align: center;}#sk-container-id-5 label.sk-toggleable__label-arrow:before {content: \"▸\";float: left;margin-right: 0.25em;color: #696969;}#sk-container-id-5 label.sk-toggleable__label-arrow:hover:before {color: black;}#sk-container-id-5 div.sk-estimator:hover label.sk-toggleable__label-arrow:before {color: black;}#sk-container-id-5 div.sk-toggleable__content {max-height: 0;max-width: 0;overflow: hidden;text-align: left;background-color: #f0f8ff;}#sk-container-id-5 div.sk-toggleable__content pre {margin: 0.2em;color: black;border-radius: 0.25em;background-color: #f0f8ff;}#sk-container-id-5 input.sk-toggleable__control:checked~div.sk-toggleable__content {max-height: 200px;max-width: 100%;overflow: auto;}#sk-container-id-5 input.sk-toggleable__control:checked~label.sk-toggleable__label-arrow:before {content: \"▾\";}#sk-container-id-5 div.sk-estimator input.sk-toggleable__control:checked~label.sk-toggleable__label {background-color: #d4ebff;}#sk-container-id-5 div.sk-label input.sk-toggleable__control:checked~label.sk-toggleable__label {background-color: #d4ebff;}#sk-container-id-5 input.sk-hidden--visually {border: 0;clip: rect(1px 1px 1px 1px);clip: rect(1px, 1px, 1px, 1px);height: 1px;margin: -1px;overflow: hidden;padding: 0;position: absolute;width: 1px;}#sk-container-id-5 div.sk-estimator {font-family: monospace;background-color: #f0f8ff;border: 1px dotted black;border-radius: 0.25em;box-sizing: border-box;margin-bottom: 0.5em;}#sk-container-id-5 div.sk-estimator:hover {background-color: #d4ebff;}#sk-container-id-5 div.sk-parallel-item::after {content: \"\";width: 100%;border-bottom: 1px solid gray;flex-grow: 1;}#sk-container-id-5 div.sk-label:hover label.sk-toggleable__label {background-color: #d4ebff;}#sk-container-id-5 div.sk-serial::before {content: \"\";position: absolute;border-left: 1px solid gray;box-sizing: border-box;top: 0;bottom: 0;left: 50%;z-index: 0;}#sk-container-id-5 div.sk-serial {display: flex;flex-direction: column;align-items: center;background-color: white;padding-right: 0.2em;padding-left: 0.2em;position: relative;}#sk-container-id-5 div.sk-item {position: relative;z-index: 1;}#sk-container-id-5 div.sk-parallel {display: flex;align-items: stretch;justify-content: center;background-color: white;position: relative;}#sk-container-id-5 div.sk-item::before, #sk-container-id-5 div.sk-parallel-item::before {content: \"\";position: absolute;border-left: 1px solid gray;box-sizing: border-box;top: 0;bottom: 0;left: 50%;z-index: -1;}#sk-container-id-5 div.sk-parallel-item {display: flex;flex-direction: column;z-index: 1;position: relative;background-color: white;}#sk-container-id-5 div.sk-parallel-item:first-child::after {align-self: flex-end;width: 50%;}#sk-container-id-5 div.sk-parallel-item:last-child::after {align-self: flex-start;width: 50%;}#sk-container-id-5 div.sk-parallel-item:only-child::after {width: 0;}#sk-container-id-5 div.sk-dashed-wrapped {border: 1px dashed gray;margin: 0 0.4em 0.5em 0.4em;box-sizing: border-box;padding-bottom: 0.4em;background-color: white;}#sk-container-id-5 div.sk-label label {font-family: monospace;font-weight: bold;display: inline-block;line-height: 1.2em;}#sk-container-id-5 div.sk-label-container {text-align: center;}#sk-container-id-5 div.sk-container {/* jupyter's `normalize.less` sets `[hidden] { display: none; }` but bootstrap.min.css set `[hidden] { display: none !important; }` so we also need the `!important` here to be able to override the default hidden behavior on the sphinx rendered scikit-learn.org. See: https://github.com/scikit-learn/scikit-learn/issues/21755 */display: inline-block !important;position: relative;}#sk-container-id-5 div.sk-text-repr-fallback {display: none;}</style><div id=\"sk-container-id-5\" class=\"sk-top-container\"><div class=\"sk-text-repr-fallback\"><pre>LinearRegression()</pre><b>In a Jupyter environment, please rerun this cell to show the HTML representation or trust the notebook. <br />On GitHub, the HTML representation is unable to render, please try loading this page with nbviewer.org.</b></div><div class=\"sk-container\" hidden><div class=\"sk-item\"><div class=\"sk-estimator sk-toggleable\"><input class=\"sk-toggleable__control sk-hidden--visually\" id=\"sk-estimator-id-5\" type=\"checkbox\" checked><label for=\"sk-estimator-id-5\" class=\"sk-toggleable__label sk-toggleable__label-arrow\">LinearRegression</label><div class=\"sk-toggleable__content\"><pre>LinearRegression()</pre></div></div></div></div></div>"
      ],
      "text/plain": [
       "LinearRegression()"
      ]
     },
     "execution_count": 185,
     "metadata": {},
     "output_type": "execute_result"
    }
   ],
   "source": [
    "#fit the model to the data\n",
    "model = LinearRegression()  \n",
    "model.fit(X_train, y_train)"
   ]
  },
  {
   "cell_type": "code",
   "execution_count": 186,
   "id": "90e0cd9a",
   "metadata": {
    "execution": {
     "iopub.execute_input": "2023-05-10T02:49:55.733866Z",
     "iopub.status.busy": "2023-05-10T02:49:55.733759Z",
     "iopub.status.idle": "2023-05-10T02:49:55.735678Z",
     "shell.execute_reply": "2023-05-10T02:49:55.735429Z"
    }
   },
   "outputs": [
    {
     "name": "stdout",
     "output_type": "stream",
     "text": [
      "[30.28846154]\n"
     ]
    }
   ],
   "source": [
    "#To retrieve the intercept:\n",
    "print(model.intercept_)"
   ]
  },
  {
   "cell_type": "code",
   "execution_count": 187,
   "id": "78bf521b",
   "metadata": {
    "execution": {
     "iopub.execute_input": "2023-05-10T02:49:55.737094Z",
     "iopub.status.busy": "2023-05-10T02:49:55.736987Z",
     "iopub.status.idle": "2023-05-10T02:49:55.738895Z",
     "shell.execute_reply": "2023-05-10T02:49:55.738588Z"
    }
   },
   "outputs": [
    {
     "name": "stdout",
     "output_type": "stream",
     "text": [
      "[[0.90811966]]\n"
     ]
    }
   ],
   "source": [
    "#For retrieving the slope:\n",
    "print(model.coef_)"
   ]
  },
  {
   "cell_type": "markdown",
   "id": "9e8f9eb7",
   "metadata": {},
   "source": []
  },
  {
   "cell_type": "code",
   "execution_count": 188,
   "id": "cee65d3e",
   "metadata": {
    "execution": {
     "iopub.execute_input": "2023-05-10T02:49:55.740341Z",
     "iopub.status.busy": "2023-05-10T02:49:55.740235Z",
     "iopub.status.idle": "2023-05-10T02:49:55.742006Z",
     "shell.execute_reply": "2023-05-10T02:49:55.741715Z"
    }
   },
   "outputs": [],
   "source": [
    "query = \"\"\"\n",
    "SELECT *\n",
    "FROM `ironhacks-data.ironhacks_competition.unemployment_data` \n",
    "\"\"\""
   ]
  },
  {
   "cell_type": "code",
   "execution_count": 189,
   "id": "b33cd89d",
   "metadata": {
    "execution": {
     "iopub.execute_input": "2023-05-10T02:49:55.743530Z",
     "iopub.status.busy": "2023-05-10T02:49:55.743422Z",
     "iopub.status.idle": "2023-05-10T02:49:57.166151Z",
     "shell.execute_reply": "2023-05-10T02:49:57.165551Z"
    }
   },
   "outputs": [
    {
     "data": {
      "text/html": [
       "<div>\n",
       "<style scoped>\n",
       "    .dataframe tbody tr th:only-of-type {\n",
       "        vertical-align: middle;\n",
       "    }\n",
       "\n",
       "    .dataframe tbody tr th {\n",
       "        vertical-align: top;\n",
       "    }\n",
       "\n",
       "    .dataframe thead th {\n",
       "        text-align: right;\n",
       "    }\n",
       "</style>\n",
       "<table border=\"1\" class=\"dataframe\">\n",
       "  <thead>\n",
       "    <tr style=\"text-align: right;\">\n",
       "      <th></th>\n",
       "      <th>uu_id</th>\n",
       "      <th>timeperiod</th>\n",
       "      <th>week_number</th>\n",
       "      <th>countyfips</th>\n",
       "      <th>tract</th>\n",
       "      <th>tract_name</th>\n",
       "      <th>total_claims</th>\n",
       "      <th>edu_8th_or_less</th>\n",
       "      <th>edu_grades_9_11</th>\n",
       "      <th>edu_hs_grad_equiv</th>\n",
       "      <th>...</th>\n",
       "      <th>gender_female</th>\n",
       "      <th>gender_male</th>\n",
       "      <th>gender_na</th>\n",
       "      <th>race_amerindian</th>\n",
       "      <th>race_asian</th>\n",
       "      <th>race_black</th>\n",
       "      <th>race_noanswer</th>\n",
       "      <th>race_hawaiiannative</th>\n",
       "      <th>race_other</th>\n",
       "      <th>race_white</th>\n",
       "    </tr>\n",
       "  </thead>\n",
       "  <tbody>\n",
       "    <tr>\n",
       "      <th>0</th>\n",
       "      <td>f013068de98db1470bd986137a0c6d23</td>\n",
       "      <td>20220416</td>\n",
       "      <td>16</td>\n",
       "      <td>18003</td>\n",
       "      <td>900</td>\n",
       "      <td>Census Tract 9, Allen County, Indiana</td>\n",
       "      <td>22</td>\n",
       "      <td>0</td>\n",
       "      <td>&lt;NA&gt;</td>\n",
       "      <td>14</td>\n",
       "      <td>...</td>\n",
       "      <td>&lt;NA&gt;</td>\n",
       "      <td>&lt;NA&gt;</td>\n",
       "      <td>0</td>\n",
       "      <td>0</td>\n",
       "      <td>0</td>\n",
       "      <td>11</td>\n",
       "      <td>0</td>\n",
       "      <td>0</td>\n",
       "      <td>&lt;NA&gt;</td>\n",
       "      <td>&lt;NA&gt;</td>\n",
       "    </tr>\n",
       "  </tbody>\n",
       "</table>\n",
       "<p>1 rows × 25 columns</p>\n",
       "</div>"
      ],
      "text/plain": [
       "                              uu_id  timeperiod  week_number  countyfips  \\\n",
       "0  f013068de98db1470bd986137a0c6d23    20220416           16       18003   \n",
       "\n",
       "   tract                             tract_name  total_claims  \\\n",
       "0    900  Census Tract 9, Allen County, Indiana            22   \n",
       "\n",
       "   edu_8th_or_less  edu_grades_9_11  edu_hs_grad_equiv  ...  gender_female  \\\n",
       "0                0             <NA>                 14  ...           <NA>   \n",
       "\n",
       "   gender_male gender_na race_amerindian race_asian  race_black  \\\n",
       "0         <NA>         0               0          0          11   \n",
       "\n",
       "   race_noanswer  race_hawaiiannative  race_other  race_white  \n",
       "0              0                    0        <NA>        <NA>  \n",
       "\n",
       "[1 rows x 25 columns]"
      ]
     },
     "execution_count": 189,
     "metadata": {},
     "output_type": "execute_result"
    }
   ],
   "source": [
    "# QUERY THE DATA ONCE\n",
    "query_job = bigquery_client.query(query)\n",
    "unemployment_data = query_job.to_dataframe()\n",
    "unemployment_data.head(1)\n",
    "#print(unemployment_data.columns)"
   ]
  },
  {
   "cell_type": "code",
   "execution_count": 190,
   "id": "2bfd2648",
   "metadata": {
    "execution": {
     "iopub.execute_input": "2023-05-10T02:49:57.169396Z",
     "iopub.status.busy": "2023-05-10T02:49:57.168875Z",
     "iopub.status.idle": "2023-05-10T02:49:57.173628Z",
     "shell.execute_reply": "2023-05-10T02:49:57.173182Z"
    }
   },
   "outputs": [
    {
     "data": {
      "text/plain": [
       "4"
      ]
     },
     "execution_count": 190,
     "metadata": {},
     "output_type": "execute_result"
    }
   ],
   "source": [
    "df2 = pd.DataFrame({'Actual': y_test , 'Predicted': y_pred.flatten()})\n",
    "len(df2)"
   ]
  },
  {
   "cell_type": "markdown",
   "id": "5fdcb818",
   "metadata": {},
   "source": [
    "split the data"
   ]
  },
  {
   "cell_type": "code",
   "execution_count": 191,
   "id": "fb773d83",
   "metadata": {
    "execution": {
     "iopub.execute_input": "2023-05-10T02:49:57.176172Z",
     "iopub.status.busy": "2023-05-10T02:49:57.175960Z",
     "iopub.status.idle": "2023-05-10T02:49:57.178975Z",
     "shell.execute_reply": "2023-05-10T02:49:57.178552Z"
    },
    "lines_to_next_cell": 2
   },
   "outputs": [],
   "source": [
    "X = df['week_number'].values.reshape(-1,1)\n",
    "Y = df['total_claims'].values.reshape(-1,1)"
   ]
  },
  {
   "cell_type": "code",
   "execution_count": 192,
   "id": "718cac66",
   "metadata": {
    "execution": {
     "iopub.execute_input": "2023-05-10T02:49:57.181150Z",
     "iopub.status.busy": "2023-05-10T02:49:57.180995Z",
     "iopub.status.idle": "2023-05-10T02:49:57.184101Z",
     "shell.execute_reply": "2023-05-10T02:49:57.183679Z"
    }
   },
   "outputs": [],
   "source": [
    "#create training & split data\n",
    "X_train, X_test, y_train, y_test = train_test_split(X, y, test_size=0.2, random_state=0)"
   ]
  },
  {
   "cell_type": "code",
   "execution_count": 193,
   "id": "ea7db319",
   "metadata": {
    "execution": {
     "iopub.execute_input": "2023-05-10T02:49:57.186140Z",
     "iopub.status.busy": "2023-05-10T02:49:57.185961Z",
     "iopub.status.idle": "2023-05-10T02:49:57.189865Z",
     "shell.execute_reply": "2023-05-10T02:49:57.189453Z"
    }
   },
   "outputs": [
    {
     "data": {
      "text/html": [
       "<style>#sk-container-id-6 {color: black;background-color: white;}#sk-container-id-6 pre{padding: 0;}#sk-container-id-6 div.sk-toggleable {background-color: white;}#sk-container-id-6 label.sk-toggleable__label {cursor: pointer;display: block;width: 100%;margin-bottom: 0;padding: 0.3em;box-sizing: border-box;text-align: center;}#sk-container-id-6 label.sk-toggleable__label-arrow:before {content: \"▸\";float: left;margin-right: 0.25em;color: #696969;}#sk-container-id-6 label.sk-toggleable__label-arrow:hover:before {color: black;}#sk-container-id-6 div.sk-estimator:hover label.sk-toggleable__label-arrow:before {color: black;}#sk-container-id-6 div.sk-toggleable__content {max-height: 0;max-width: 0;overflow: hidden;text-align: left;background-color: #f0f8ff;}#sk-container-id-6 div.sk-toggleable__content pre {margin: 0.2em;color: black;border-radius: 0.25em;background-color: #f0f8ff;}#sk-container-id-6 input.sk-toggleable__control:checked~div.sk-toggleable__content {max-height: 200px;max-width: 100%;overflow: auto;}#sk-container-id-6 input.sk-toggleable__control:checked~label.sk-toggleable__label-arrow:before {content: \"▾\";}#sk-container-id-6 div.sk-estimator input.sk-toggleable__control:checked~label.sk-toggleable__label {background-color: #d4ebff;}#sk-container-id-6 div.sk-label input.sk-toggleable__control:checked~label.sk-toggleable__label {background-color: #d4ebff;}#sk-container-id-6 input.sk-hidden--visually {border: 0;clip: rect(1px 1px 1px 1px);clip: rect(1px, 1px, 1px, 1px);height: 1px;margin: -1px;overflow: hidden;padding: 0;position: absolute;width: 1px;}#sk-container-id-6 div.sk-estimator {font-family: monospace;background-color: #f0f8ff;border: 1px dotted black;border-radius: 0.25em;box-sizing: border-box;margin-bottom: 0.5em;}#sk-container-id-6 div.sk-estimator:hover {background-color: #d4ebff;}#sk-container-id-6 div.sk-parallel-item::after {content: \"\";width: 100%;border-bottom: 1px solid gray;flex-grow: 1;}#sk-container-id-6 div.sk-label:hover label.sk-toggleable__label {background-color: #d4ebff;}#sk-container-id-6 div.sk-serial::before {content: \"\";position: absolute;border-left: 1px solid gray;box-sizing: border-box;top: 0;bottom: 0;left: 50%;z-index: 0;}#sk-container-id-6 div.sk-serial {display: flex;flex-direction: column;align-items: center;background-color: white;padding-right: 0.2em;padding-left: 0.2em;position: relative;}#sk-container-id-6 div.sk-item {position: relative;z-index: 1;}#sk-container-id-6 div.sk-parallel {display: flex;align-items: stretch;justify-content: center;background-color: white;position: relative;}#sk-container-id-6 div.sk-item::before, #sk-container-id-6 div.sk-parallel-item::before {content: \"\";position: absolute;border-left: 1px solid gray;box-sizing: border-box;top: 0;bottom: 0;left: 50%;z-index: -1;}#sk-container-id-6 div.sk-parallel-item {display: flex;flex-direction: column;z-index: 1;position: relative;background-color: white;}#sk-container-id-6 div.sk-parallel-item:first-child::after {align-self: flex-end;width: 50%;}#sk-container-id-6 div.sk-parallel-item:last-child::after {align-self: flex-start;width: 50%;}#sk-container-id-6 div.sk-parallel-item:only-child::after {width: 0;}#sk-container-id-6 div.sk-dashed-wrapped {border: 1px dashed gray;margin: 0 0.4em 0.5em 0.4em;box-sizing: border-box;padding-bottom: 0.4em;background-color: white;}#sk-container-id-6 div.sk-label label {font-family: monospace;font-weight: bold;display: inline-block;line-height: 1.2em;}#sk-container-id-6 div.sk-label-container {text-align: center;}#sk-container-id-6 div.sk-container {/* jupyter's `normalize.less` sets `[hidden] { display: none; }` but bootstrap.min.css set `[hidden] { display: none !important; }` so we also need the `!important` here to be able to override the default hidden behavior on the sphinx rendered scikit-learn.org. See: https://github.com/scikit-learn/scikit-learn/issues/21755 */display: inline-block !important;position: relative;}#sk-container-id-6 div.sk-text-repr-fallback {display: none;}</style><div id=\"sk-container-id-6\" class=\"sk-top-container\"><div class=\"sk-text-repr-fallback\"><pre>LinearRegression()</pre><b>In a Jupyter environment, please rerun this cell to show the HTML representation or trust the notebook. <br />On GitHub, the HTML representation is unable to render, please try loading this page with nbviewer.org.</b></div><div class=\"sk-container\" hidden><div class=\"sk-item\"><div class=\"sk-estimator sk-toggleable\"><input class=\"sk-toggleable__control sk-hidden--visually\" id=\"sk-estimator-id-6\" type=\"checkbox\" checked><label for=\"sk-estimator-id-6\" class=\"sk-toggleable__label sk-toggleable__label-arrow\">LinearRegression</label><div class=\"sk-toggleable__content\"><pre>LinearRegression()</pre></div></div></div></div></div>"
      ],
      "text/plain": [
       "LinearRegression()"
      ]
     },
     "execution_count": 193,
     "metadata": {},
     "output_type": "execute_result"
    }
   ],
   "source": [
    "#fit the model to the data\n",
    "model = LinearRegression()  \n",
    "model.fit(X_train, y_train)"
   ]
  },
  {
   "cell_type": "code",
   "execution_count": 194,
   "id": "4f79b77f",
   "metadata": {
    "execution": {
     "iopub.execute_input": "2023-05-10T02:49:57.192316Z",
     "iopub.status.busy": "2023-05-10T02:49:57.192166Z",
     "iopub.status.idle": "2023-05-10T02:49:57.194738Z",
     "shell.execute_reply": "2023-05-10T02:49:57.194419Z"
    }
   },
   "outputs": [
    {
     "name": "stdout",
     "output_type": "stream",
     "text": [
      "[37.40526129]\n"
     ]
    }
   ],
   "source": [
    "#To retrieve the intercept:\n",
    "print(model.intercept_)"
   ]
  },
  {
   "cell_type": "code",
   "execution_count": 195,
   "id": "697e7805",
   "metadata": {
    "execution": {
     "iopub.execute_input": "2023-05-10T02:49:57.196455Z",
     "iopub.status.busy": "2023-05-10T02:49:57.196309Z",
     "iopub.status.idle": "2023-05-10T02:49:57.198457Z",
     "shell.execute_reply": "2023-05-10T02:49:57.198166Z"
    }
   },
   "outputs": [
    {
     "name": "stdout",
     "output_type": "stream",
     "text": [
      "[[0.81169062]]\n"
     ]
    }
   ],
   "source": [
    "#For retrieving the slope:\n",
    "print(model.coef_)"
   ]
  },
  {
   "cell_type": "code",
   "execution_count": 196,
   "id": "6ecaba85",
   "metadata": {
    "execution": {
     "iopub.execute_input": "2023-05-10T02:49:57.200111Z",
     "iopub.status.busy": "2023-05-10T02:49:57.199981Z",
     "iopub.status.idle": "2023-05-10T02:49:57.202016Z",
     "shell.execute_reply": "2023-05-10T02:49:57.201734Z"
    }
   },
   "outputs": [],
   "source": [
    "#\n",
    "y_pred = model.predict(X_test)"
   ]
  },
  {
   "cell_type": "code",
   "execution_count": 197,
   "id": "862713e1",
   "metadata": {
    "execution": {
     "iopub.execute_input": "2023-05-10T02:49:57.203622Z",
     "iopub.status.busy": "2023-05-10T02:49:57.203500Z",
     "iopub.status.idle": "2023-05-10T02:49:57.206266Z",
     "shell.execute_reply": "2023-05-10T02:49:57.205970Z"
    }
   },
   "outputs": [
    {
     "data": {
      "text/plain": [
       "4"
      ]
     },
     "execution_count": 197,
     "metadata": {},
     "output_type": "execute_result"
    }
   ],
   "source": [
    "df2 = pd.DataFrame({'Actual': y_test , 'Predicted': y_pred.flatten()})\n",
    "len(df2)"
   ]
  },
  {
   "cell_type": "markdown",
   "id": "d94c4bbb",
   "metadata": {},
   "source": [
    "Drop NA VALUES"
   ]
  },
  {
   "cell_type": "code",
   "execution_count": 198,
   "id": "14445edc",
   "metadata": {
    "execution": {
     "iopub.execute_input": "2023-05-10T02:49:57.207980Z",
     "iopub.status.busy": "2023-05-10T02:49:57.207844Z",
     "iopub.status.idle": "2023-05-10T02:49:57.218032Z",
     "shell.execute_reply": "2023-05-10T02:49:57.217769Z"
    }
   },
   "outputs": [
    {
     "data": {
      "text/plain": [
       "16"
      ]
     },
     "execution_count": 198,
     "metadata": {},
     "output_type": "execute_result"
    }
   ],
   "source": [
    "df = unemployment_data.dropna()\n",
    "df.head()\n",
    "len(df)"
   ]
  },
  {
   "cell_type": "code",
   "execution_count": 199,
   "id": "8e91e3ee",
   "metadata": {
    "execution": {
     "iopub.execute_input": "2023-05-10T02:49:57.219465Z",
     "iopub.status.busy": "2023-05-10T02:49:57.219371Z",
     "iopub.status.idle": "2023-05-10T02:49:57.221621Z",
     "shell.execute_reply": "2023-05-10T02:49:57.221369Z"
    }
   },
   "outputs": [
    {
     "data": {
      "text/plain": [
       "16"
      ]
     },
     "execution_count": 199,
     "metadata": {},
     "output_type": "execute_result"
    }
   ],
   "source": [
    "len(X)"
   ]
  },
  {
   "cell_type": "code",
   "execution_count": 200,
   "id": "161be6e8",
   "metadata": {
    "execution": {
     "iopub.execute_input": "2023-05-10T02:49:57.222925Z",
     "iopub.status.busy": "2023-05-10T02:49:57.222845Z",
     "iopub.status.idle": "2023-05-10T02:49:57.224981Z",
     "shell.execute_reply": "2023-05-10T02:49:57.224729Z"
    }
   },
   "outputs": [
    {
     "data": {
      "text/plain": [
       "16"
      ]
     },
     "execution_count": 200,
     "metadata": {},
     "output_type": "execute_result"
    }
   ],
   "source": [
    "len(Y)"
   ]
  },
  {
   "cell_type": "code",
   "execution_count": 201,
   "id": "ae15eda9",
   "metadata": {
    "execution": {
     "iopub.execute_input": "2023-05-10T02:49:57.226362Z",
     "iopub.status.busy": "2023-05-10T02:49:57.226278Z",
     "iopub.status.idle": "2023-05-10T02:49:57.228714Z",
     "shell.execute_reply": "2023-05-10T02:49:57.228443Z"
    }
   },
   "outputs": [
    {
     "data": {
      "text/plain": [
       "4"
      ]
     },
     "execution_count": 201,
     "metadata": {},
     "output_type": "execute_result"
    }
   ],
   "source": [
    "df2 = pd.DataFrame({'Actual': y_test , 'Predicted': y_pred.flatten()})\n",
    "len(df2)"
   ]
  },
  {
   "cell_type": "code",
   "execution_count": 202,
   "id": "b0540dd8",
   "metadata": {
    "execution": {
     "iopub.execute_input": "2023-05-10T02:49:57.230096Z",
     "iopub.status.busy": "2023-05-10T02:49:57.230013Z",
     "iopub.status.idle": "2023-05-10T02:49:57.232042Z",
     "shell.execute_reply": "2023-05-10T02:49:57.231788Z"
    }
   },
   "outputs": [
    {
     "data": {
      "text/plain": [
       "4"
      ]
     },
     "execution_count": 202,
     "metadata": {},
     "output_type": "execute_result"
    }
   ],
   "source": [
    "len(X_test)"
   ]
  },
  {
   "cell_type": "code",
   "execution_count": 203,
   "id": "1877fd29",
   "metadata": {
    "execution": {
     "iopub.execute_input": "2023-05-10T02:49:57.233335Z",
     "iopub.status.busy": "2023-05-10T02:49:57.233260Z",
     "iopub.status.idle": "2023-05-10T02:49:57.239574Z",
     "shell.execute_reply": "2023-05-10T02:49:57.239344Z"
    }
   },
   "outputs": [
    {
     "ename": "NameError",
     "evalue": "name 'Y_test' is not defined",
     "output_type": "error",
     "traceback": [
      "\u001b[0;31m---------------------------------------------------------------------------\u001b[0m",
      "\u001b[0;31mNameError\u001b[0m                                 Traceback (most recent call last)",
      "Cell \u001b[0;32mIn [203], line 1\u001b[0m\n\u001b[0;32m----> 1\u001b[0m \u001b[38;5;28mlen\u001b[39m(\u001b[43mY_test\u001b[49m)\n",
      "\u001b[0;31mNameError\u001b[0m: name 'Y_test' is not defined"
     ]
    }
   ],
   "source": [
    "len(Y_test)"
   ]
  },
  {
   "cell_type": "markdown",
   "id": "76384a0c",
   "metadata": {},
   "source": [
    "split the data"
   ]
  },
  {
   "cell_type": "code",
   "execution_count": 204,
   "id": "7b49a888",
   "metadata": {
    "execution": {
     "iopub.execute_input": "2023-05-10T02:49:57.240988Z",
     "iopub.status.busy": "2023-05-10T02:49:57.240903Z",
     "iopub.status.idle": "2023-05-10T02:49:57.242842Z",
     "shell.execute_reply": "2023-05-10T02:49:57.242613Z"
    },
    "lines_to_next_cell": 2
   },
   "outputs": [],
   "source": [
    "X = df['week_number'].values.reshape(-1,1)\n",
    "Y = df['total_claims'].values.reshape(-1,1)"
   ]
  },
  {
   "cell_type": "code",
   "execution_count": 205,
   "id": "143c2a42",
   "metadata": {
    "execution": {
     "iopub.execute_input": "2023-05-10T02:49:57.244220Z",
     "iopub.status.busy": "2023-05-10T02:49:57.244138Z",
     "iopub.status.idle": "2023-05-10T02:49:57.246170Z",
     "shell.execute_reply": "2023-05-10T02:49:57.245934Z"
    }
   },
   "outputs": [
    {
     "ename": "SyntaxError",
     "evalue": "expression cannot contain assignment, perhaps you meant \"==\"? (3067441006.py, line 2)",
     "output_type": "error",
     "traceback": [
      "\u001b[0;36m  Cell \u001b[0;32mIn [205], line 2\u001b[0;36m\u001b[0m\n\u001b[0;31m    X_train, X_test, y_train, y_test = train_test_split(X, y, train.size=0.9, test_size=0.1, random_state=0)\u001b[0m\n\u001b[0m                                                              ^\u001b[0m\n\u001b[0;31mSyntaxError\u001b[0m\u001b[0;31m:\u001b[0m expression cannot contain assignment, perhaps you meant \"==\"?\n"
     ]
    }
   ],
   "source": [
    "#create training & split data\n",
    "X_train, X_test, y_train, y_test = train_test_split(X, y, train.size=0.9, test_size=0.1, random_state=0)"
   ]
  },
  {
   "cell_type": "code",
   "execution_count": 206,
   "id": "2d1c4d24",
   "metadata": {
    "execution": {
     "iopub.execute_input": "2023-05-10T02:49:57.247523Z",
     "iopub.status.busy": "2023-05-10T02:49:57.247439Z",
     "iopub.status.idle": "2023-05-10T02:49:57.250214Z",
     "shell.execute_reply": "2023-05-10T02:49:57.249904Z"
    }
   },
   "outputs": [
    {
     "data": {
      "text/html": [
       "<style>#sk-container-id-7 {color: black;background-color: white;}#sk-container-id-7 pre{padding: 0;}#sk-container-id-7 div.sk-toggleable {background-color: white;}#sk-container-id-7 label.sk-toggleable__label {cursor: pointer;display: block;width: 100%;margin-bottom: 0;padding: 0.3em;box-sizing: border-box;text-align: center;}#sk-container-id-7 label.sk-toggleable__label-arrow:before {content: \"▸\";float: left;margin-right: 0.25em;color: #696969;}#sk-container-id-7 label.sk-toggleable__label-arrow:hover:before {color: black;}#sk-container-id-7 div.sk-estimator:hover label.sk-toggleable__label-arrow:before {color: black;}#sk-container-id-7 div.sk-toggleable__content {max-height: 0;max-width: 0;overflow: hidden;text-align: left;background-color: #f0f8ff;}#sk-container-id-7 div.sk-toggleable__content pre {margin: 0.2em;color: black;border-radius: 0.25em;background-color: #f0f8ff;}#sk-container-id-7 input.sk-toggleable__control:checked~div.sk-toggleable__content {max-height: 200px;max-width: 100%;overflow: auto;}#sk-container-id-7 input.sk-toggleable__control:checked~label.sk-toggleable__label-arrow:before {content: \"▾\";}#sk-container-id-7 div.sk-estimator input.sk-toggleable__control:checked~label.sk-toggleable__label {background-color: #d4ebff;}#sk-container-id-7 div.sk-label input.sk-toggleable__control:checked~label.sk-toggleable__label {background-color: #d4ebff;}#sk-container-id-7 input.sk-hidden--visually {border: 0;clip: rect(1px 1px 1px 1px);clip: rect(1px, 1px, 1px, 1px);height: 1px;margin: -1px;overflow: hidden;padding: 0;position: absolute;width: 1px;}#sk-container-id-7 div.sk-estimator {font-family: monospace;background-color: #f0f8ff;border: 1px dotted black;border-radius: 0.25em;box-sizing: border-box;margin-bottom: 0.5em;}#sk-container-id-7 div.sk-estimator:hover {background-color: #d4ebff;}#sk-container-id-7 div.sk-parallel-item::after {content: \"\";width: 100%;border-bottom: 1px solid gray;flex-grow: 1;}#sk-container-id-7 div.sk-label:hover label.sk-toggleable__label {background-color: #d4ebff;}#sk-container-id-7 div.sk-serial::before {content: \"\";position: absolute;border-left: 1px solid gray;box-sizing: border-box;top: 0;bottom: 0;left: 50%;z-index: 0;}#sk-container-id-7 div.sk-serial {display: flex;flex-direction: column;align-items: center;background-color: white;padding-right: 0.2em;padding-left: 0.2em;position: relative;}#sk-container-id-7 div.sk-item {position: relative;z-index: 1;}#sk-container-id-7 div.sk-parallel {display: flex;align-items: stretch;justify-content: center;background-color: white;position: relative;}#sk-container-id-7 div.sk-item::before, #sk-container-id-7 div.sk-parallel-item::before {content: \"\";position: absolute;border-left: 1px solid gray;box-sizing: border-box;top: 0;bottom: 0;left: 50%;z-index: -1;}#sk-container-id-7 div.sk-parallel-item {display: flex;flex-direction: column;z-index: 1;position: relative;background-color: white;}#sk-container-id-7 div.sk-parallel-item:first-child::after {align-self: flex-end;width: 50%;}#sk-container-id-7 div.sk-parallel-item:last-child::after {align-self: flex-start;width: 50%;}#sk-container-id-7 div.sk-parallel-item:only-child::after {width: 0;}#sk-container-id-7 div.sk-dashed-wrapped {border: 1px dashed gray;margin: 0 0.4em 0.5em 0.4em;box-sizing: border-box;padding-bottom: 0.4em;background-color: white;}#sk-container-id-7 div.sk-label label {font-family: monospace;font-weight: bold;display: inline-block;line-height: 1.2em;}#sk-container-id-7 div.sk-label-container {text-align: center;}#sk-container-id-7 div.sk-container {/* jupyter's `normalize.less` sets `[hidden] { display: none; }` but bootstrap.min.css set `[hidden] { display: none !important; }` so we also need the `!important` here to be able to override the default hidden behavior on the sphinx rendered scikit-learn.org. See: https://github.com/scikit-learn/scikit-learn/issues/21755 */display: inline-block !important;position: relative;}#sk-container-id-7 div.sk-text-repr-fallback {display: none;}</style><div id=\"sk-container-id-7\" class=\"sk-top-container\"><div class=\"sk-text-repr-fallback\"><pre>LinearRegression()</pre><b>In a Jupyter environment, please rerun this cell to show the HTML representation or trust the notebook. <br />On GitHub, the HTML representation is unable to render, please try loading this page with nbviewer.org.</b></div><div class=\"sk-container\" hidden><div class=\"sk-item\"><div class=\"sk-estimator sk-toggleable\"><input class=\"sk-toggleable__control sk-hidden--visually\" id=\"sk-estimator-id-7\" type=\"checkbox\" checked><label for=\"sk-estimator-id-7\" class=\"sk-toggleable__label sk-toggleable__label-arrow\">LinearRegression</label><div class=\"sk-toggleable__content\"><pre>LinearRegression()</pre></div></div></div></div></div>"
      ],
      "text/plain": [
       "LinearRegression()"
      ]
     },
     "execution_count": 206,
     "metadata": {},
     "output_type": "execute_result"
    }
   ],
   "source": [
    "#fit the model to the data\n",
    "model = LinearRegression()  \n",
    "model.fit(X_train, y_train)"
   ]
  },
  {
   "cell_type": "code",
   "execution_count": 207,
   "id": "e981b589",
   "metadata": {
    "execution": {
     "iopub.execute_input": "2023-05-10T02:49:57.251521Z",
     "iopub.status.busy": "2023-05-10T02:49:57.251440Z",
     "iopub.status.idle": "2023-05-10T02:49:57.253180Z",
     "shell.execute_reply": "2023-05-10T02:49:57.252943Z"
    }
   },
   "outputs": [
    {
     "name": "stdout",
     "output_type": "stream",
     "text": [
      "[37.40526129]\n"
     ]
    }
   ],
   "source": [
    "#To retrieve the intercept:\n",
    "print(model.intercept_)"
   ]
  },
  {
   "cell_type": "code",
   "execution_count": 208,
   "id": "e9301828",
   "metadata": {
    "execution": {
     "iopub.execute_input": "2023-05-10T02:49:57.254443Z",
     "iopub.status.busy": "2023-05-10T02:49:57.254366Z",
     "iopub.status.idle": "2023-05-10T02:49:57.256108Z",
     "shell.execute_reply": "2023-05-10T02:49:57.255888Z"
    }
   },
   "outputs": [
    {
     "name": "stdout",
     "output_type": "stream",
     "text": [
      "[[0.81169062]]\n"
     ]
    }
   ],
   "source": [
    "#For retrieving the slope:\n",
    "print(model.coef_)"
   ]
  },
  {
   "cell_type": "code",
   "execution_count": 209,
   "id": "cc6aa1f3",
   "metadata": {
    "execution": {
     "iopub.execute_input": "2023-05-10T02:49:57.257463Z",
     "iopub.status.busy": "2023-05-10T02:49:57.257382Z",
     "iopub.status.idle": "2023-05-10T02:49:57.259141Z",
     "shell.execute_reply": "2023-05-10T02:49:57.258912Z"
    }
   },
   "outputs": [],
   "source": [
    "#\n",
    "y_pred = model.predict(X_test)"
   ]
  },
  {
   "cell_type": "markdown",
   "id": "3b792497",
   "metadata": {},
   "source": [
    "split the data"
   ]
  },
  {
   "cell_type": "code",
   "execution_count": 210,
   "id": "9dc3f88c",
   "metadata": {
    "execution": {
     "iopub.execute_input": "2023-05-10T02:49:57.260489Z",
     "iopub.status.busy": "2023-05-10T02:49:57.260411Z",
     "iopub.status.idle": "2023-05-10T02:49:57.262388Z",
     "shell.execute_reply": "2023-05-10T02:49:57.262151Z"
    },
    "lines_to_next_cell": 2
   },
   "outputs": [],
   "source": [
    "X = df['week_number'].values.reshape(-1,1)\n",
    "Y = df['total_claims'].values.reshape(-1,1)"
   ]
  },
  {
   "cell_type": "code",
   "execution_count": 211,
   "id": "44908574",
   "metadata": {
    "execution": {
     "iopub.execute_input": "2023-05-10T02:49:57.263750Z",
     "iopub.status.busy": "2023-05-10T02:49:57.263671Z",
     "iopub.status.idle": "2023-05-10T02:49:57.270476Z",
     "shell.execute_reply": "2023-05-10T02:49:57.270212Z"
    }
   },
   "outputs": [
    {
     "ename": "NameError",
     "evalue": "name 'train' is not defined",
     "output_type": "error",
     "traceback": [
      "\u001b[0;31m---------------------------------------------------------------------------\u001b[0m",
      "\u001b[0;31mNameError\u001b[0m                                 Traceback (most recent call last)",
      "Cell \u001b[0;32mIn [211], line 2\u001b[0m\n\u001b[1;32m      1\u001b[0m \u001b[38;5;66;03m#create training & split data\u001b[39;00m\n\u001b[0;32m----> 2\u001b[0m X_train, X_test, y_train, y_test \u001b[38;5;241m=\u001b[39m train_test_split(X, y, \u001b[43mtrain\u001b[49m\u001b[38;5;241m.\u001b[39msize\u001b[38;5;241m==\u001b[39m\u001b[38;5;241m0.9\u001b[39m, test_size\u001b[38;5;241m==\u001b[39m\u001b[38;5;241m0.1\u001b[39m, random_state\u001b[38;5;241m=\u001b[39m\u001b[38;5;241m0\u001b[39m)\n",
      "\u001b[0;31mNameError\u001b[0m: name 'train' is not defined"
     ]
    }
   ],
   "source": [
    "#create training & split data\n",
    "X_train, X_test, y_train, y_test = train_test_split(X, y, train.size==0.9, test_size==0.1, random_state=0)"
   ]
  },
  {
   "cell_type": "code",
   "execution_count": 212,
   "id": "17a185c2",
   "metadata": {
    "execution": {
     "iopub.execute_input": "2023-05-10T02:49:57.271830Z",
     "iopub.status.busy": "2023-05-10T02:49:57.271747Z",
     "iopub.status.idle": "2023-05-10T02:49:57.274520Z",
     "shell.execute_reply": "2023-05-10T02:49:57.274270Z"
    }
   },
   "outputs": [
    {
     "data": {
      "text/html": [
       "<style>#sk-container-id-8 {color: black;background-color: white;}#sk-container-id-8 pre{padding: 0;}#sk-container-id-8 div.sk-toggleable {background-color: white;}#sk-container-id-8 label.sk-toggleable__label {cursor: pointer;display: block;width: 100%;margin-bottom: 0;padding: 0.3em;box-sizing: border-box;text-align: center;}#sk-container-id-8 label.sk-toggleable__label-arrow:before {content: \"▸\";float: left;margin-right: 0.25em;color: #696969;}#sk-container-id-8 label.sk-toggleable__label-arrow:hover:before {color: black;}#sk-container-id-8 div.sk-estimator:hover label.sk-toggleable__label-arrow:before {color: black;}#sk-container-id-8 div.sk-toggleable__content {max-height: 0;max-width: 0;overflow: hidden;text-align: left;background-color: #f0f8ff;}#sk-container-id-8 div.sk-toggleable__content pre {margin: 0.2em;color: black;border-radius: 0.25em;background-color: #f0f8ff;}#sk-container-id-8 input.sk-toggleable__control:checked~div.sk-toggleable__content {max-height: 200px;max-width: 100%;overflow: auto;}#sk-container-id-8 input.sk-toggleable__control:checked~label.sk-toggleable__label-arrow:before {content: \"▾\";}#sk-container-id-8 div.sk-estimator input.sk-toggleable__control:checked~label.sk-toggleable__label {background-color: #d4ebff;}#sk-container-id-8 div.sk-label input.sk-toggleable__control:checked~label.sk-toggleable__label {background-color: #d4ebff;}#sk-container-id-8 input.sk-hidden--visually {border: 0;clip: rect(1px 1px 1px 1px);clip: rect(1px, 1px, 1px, 1px);height: 1px;margin: -1px;overflow: hidden;padding: 0;position: absolute;width: 1px;}#sk-container-id-8 div.sk-estimator {font-family: monospace;background-color: #f0f8ff;border: 1px dotted black;border-radius: 0.25em;box-sizing: border-box;margin-bottom: 0.5em;}#sk-container-id-8 div.sk-estimator:hover {background-color: #d4ebff;}#sk-container-id-8 div.sk-parallel-item::after {content: \"\";width: 100%;border-bottom: 1px solid gray;flex-grow: 1;}#sk-container-id-8 div.sk-label:hover label.sk-toggleable__label {background-color: #d4ebff;}#sk-container-id-8 div.sk-serial::before {content: \"\";position: absolute;border-left: 1px solid gray;box-sizing: border-box;top: 0;bottom: 0;left: 50%;z-index: 0;}#sk-container-id-8 div.sk-serial {display: flex;flex-direction: column;align-items: center;background-color: white;padding-right: 0.2em;padding-left: 0.2em;position: relative;}#sk-container-id-8 div.sk-item {position: relative;z-index: 1;}#sk-container-id-8 div.sk-parallel {display: flex;align-items: stretch;justify-content: center;background-color: white;position: relative;}#sk-container-id-8 div.sk-item::before, #sk-container-id-8 div.sk-parallel-item::before {content: \"\";position: absolute;border-left: 1px solid gray;box-sizing: border-box;top: 0;bottom: 0;left: 50%;z-index: -1;}#sk-container-id-8 div.sk-parallel-item {display: flex;flex-direction: column;z-index: 1;position: relative;background-color: white;}#sk-container-id-8 div.sk-parallel-item:first-child::after {align-self: flex-end;width: 50%;}#sk-container-id-8 div.sk-parallel-item:last-child::after {align-self: flex-start;width: 50%;}#sk-container-id-8 div.sk-parallel-item:only-child::after {width: 0;}#sk-container-id-8 div.sk-dashed-wrapped {border: 1px dashed gray;margin: 0 0.4em 0.5em 0.4em;box-sizing: border-box;padding-bottom: 0.4em;background-color: white;}#sk-container-id-8 div.sk-label label {font-family: monospace;font-weight: bold;display: inline-block;line-height: 1.2em;}#sk-container-id-8 div.sk-label-container {text-align: center;}#sk-container-id-8 div.sk-container {/* jupyter's `normalize.less` sets `[hidden] { display: none; }` but bootstrap.min.css set `[hidden] { display: none !important; }` so we also need the `!important` here to be able to override the default hidden behavior on the sphinx rendered scikit-learn.org. See: https://github.com/scikit-learn/scikit-learn/issues/21755 */display: inline-block !important;position: relative;}#sk-container-id-8 div.sk-text-repr-fallback {display: none;}</style><div id=\"sk-container-id-8\" class=\"sk-top-container\"><div class=\"sk-text-repr-fallback\"><pre>LinearRegression()</pre><b>In a Jupyter environment, please rerun this cell to show the HTML representation or trust the notebook. <br />On GitHub, the HTML representation is unable to render, please try loading this page with nbviewer.org.</b></div><div class=\"sk-container\" hidden><div class=\"sk-item\"><div class=\"sk-estimator sk-toggleable\"><input class=\"sk-toggleable__control sk-hidden--visually\" id=\"sk-estimator-id-8\" type=\"checkbox\" checked><label for=\"sk-estimator-id-8\" class=\"sk-toggleable__label sk-toggleable__label-arrow\">LinearRegression</label><div class=\"sk-toggleable__content\"><pre>LinearRegression()</pre></div></div></div></div></div>"
      ],
      "text/plain": [
       "LinearRegression()"
      ]
     },
     "execution_count": 212,
     "metadata": {},
     "output_type": "execute_result"
    }
   ],
   "source": [
    "#fit the model to the data\n",
    "model = LinearRegression()  \n",
    "model.fit(X_train, y_train)"
   ]
  },
  {
   "cell_type": "code",
   "execution_count": 213,
   "id": "da409fe2",
   "metadata": {
    "execution": {
     "iopub.execute_input": "2023-05-10T02:49:57.275889Z",
     "iopub.status.busy": "2023-05-10T02:49:57.275811Z",
     "iopub.status.idle": "2023-05-10T02:49:57.277542Z",
     "shell.execute_reply": "2023-05-10T02:49:57.277306Z"
    }
   },
   "outputs": [
    {
     "name": "stdout",
     "output_type": "stream",
     "text": [
      "[37.40526129]\n"
     ]
    }
   ],
   "source": [
    "#To retrieve the intercept:\n",
    "print(model.intercept_)"
   ]
  },
  {
   "cell_type": "code",
   "execution_count": 214,
   "id": "e625d507",
   "metadata": {
    "execution": {
     "iopub.execute_input": "2023-05-10T02:49:57.278828Z",
     "iopub.status.busy": "2023-05-10T02:49:57.278745Z",
     "iopub.status.idle": "2023-05-10T02:49:57.280314Z",
     "shell.execute_reply": "2023-05-10T02:49:57.280080Z"
    }
   },
   "outputs": [
    {
     "name": "stdout",
     "output_type": "stream",
     "text": [
      "[[0.81169062]]\n"
     ]
    }
   ],
   "source": [
    "#For retrieving the slope:\n",
    "print(model.coef_)"
   ]
  },
  {
   "cell_type": "code",
   "execution_count": 215,
   "id": "75695104",
   "metadata": {
    "execution": {
     "iopub.execute_input": "2023-05-10T02:49:57.281670Z",
     "iopub.status.busy": "2023-05-10T02:49:57.281591Z",
     "iopub.status.idle": "2023-05-10T02:49:57.283207Z",
     "shell.execute_reply": "2023-05-10T02:49:57.282967Z"
    }
   },
   "outputs": [],
   "source": [
    "#\n",
    "y_pred = model.predict(X_test)"
   ]
  },
  {
   "cell_type": "markdown",
   "id": "4e77feeb",
   "metadata": {},
   "source": [
    "split the data"
   ]
  },
  {
   "cell_type": "code",
   "execution_count": 216,
   "id": "8e0339d5",
   "metadata": {
    "execution": {
     "iopub.execute_input": "2023-05-10T02:49:57.284506Z",
     "iopub.status.busy": "2023-05-10T02:49:57.284430Z",
     "iopub.status.idle": "2023-05-10T02:49:57.286228Z",
     "shell.execute_reply": "2023-05-10T02:49:57.285987Z"
    },
    "lines_to_next_cell": 2
   },
   "outputs": [],
   "source": [
    "X = df['week_number'].values.reshape(-1,1)\n",
    "Y = df['total_claims'].values.reshape(-1,1)"
   ]
  },
  {
   "cell_type": "code",
   "execution_count": 217,
   "id": "043487c2",
   "metadata": {
    "execution": {
     "iopub.execute_input": "2023-05-10T02:49:57.287588Z",
     "iopub.status.busy": "2023-05-10T02:49:57.287504Z",
     "iopub.status.idle": "2023-05-10T02:49:57.289557Z",
     "shell.execute_reply": "2023-05-10T02:49:57.289307Z"
    }
   },
   "outputs": [
    {
     "ename": "SyntaxError",
     "evalue": "expression cannot contain assignment, perhaps you meant \"==\"? (3067441006.py, line 2)",
     "output_type": "error",
     "traceback": [
      "\u001b[0;36m  Cell \u001b[0;32mIn [217], line 2\u001b[0;36m\u001b[0m\n\u001b[0;31m    X_train, X_test, y_train, y_test = train_test_split(X, y, train.size=0.9, test_size=0.1, random_state=0)\u001b[0m\n\u001b[0m                                                              ^\u001b[0m\n\u001b[0;31mSyntaxError\u001b[0m\u001b[0;31m:\u001b[0m expression cannot contain assignment, perhaps you meant \"==\"?\n"
     ]
    }
   ],
   "source": [
    "#create training & split data\n",
    "X_train, X_test, y_train, y_test = train_test_split(X, y, train.size=0.9, test_size=0.1, random_state=0)"
   ]
  },
  {
   "cell_type": "code",
   "execution_count": 218,
   "id": "902b8f32",
   "metadata": {
    "execution": {
     "iopub.execute_input": "2023-05-10T02:49:57.290882Z",
     "iopub.status.busy": "2023-05-10T02:49:57.290802Z",
     "iopub.status.idle": "2023-05-10T02:49:57.293661Z",
     "shell.execute_reply": "2023-05-10T02:49:57.293402Z"
    }
   },
   "outputs": [
    {
     "data": {
      "text/html": [
       "<style>#sk-container-id-9 {color: black;background-color: white;}#sk-container-id-9 pre{padding: 0;}#sk-container-id-9 div.sk-toggleable {background-color: white;}#sk-container-id-9 label.sk-toggleable__label {cursor: pointer;display: block;width: 100%;margin-bottom: 0;padding: 0.3em;box-sizing: border-box;text-align: center;}#sk-container-id-9 label.sk-toggleable__label-arrow:before {content: \"▸\";float: left;margin-right: 0.25em;color: #696969;}#sk-container-id-9 label.sk-toggleable__label-arrow:hover:before {color: black;}#sk-container-id-9 div.sk-estimator:hover label.sk-toggleable__label-arrow:before {color: black;}#sk-container-id-9 div.sk-toggleable__content {max-height: 0;max-width: 0;overflow: hidden;text-align: left;background-color: #f0f8ff;}#sk-container-id-9 div.sk-toggleable__content pre {margin: 0.2em;color: black;border-radius: 0.25em;background-color: #f0f8ff;}#sk-container-id-9 input.sk-toggleable__control:checked~div.sk-toggleable__content {max-height: 200px;max-width: 100%;overflow: auto;}#sk-container-id-9 input.sk-toggleable__control:checked~label.sk-toggleable__label-arrow:before {content: \"▾\";}#sk-container-id-9 div.sk-estimator input.sk-toggleable__control:checked~label.sk-toggleable__label {background-color: #d4ebff;}#sk-container-id-9 div.sk-label input.sk-toggleable__control:checked~label.sk-toggleable__label {background-color: #d4ebff;}#sk-container-id-9 input.sk-hidden--visually {border: 0;clip: rect(1px 1px 1px 1px);clip: rect(1px, 1px, 1px, 1px);height: 1px;margin: -1px;overflow: hidden;padding: 0;position: absolute;width: 1px;}#sk-container-id-9 div.sk-estimator {font-family: monospace;background-color: #f0f8ff;border: 1px dotted black;border-radius: 0.25em;box-sizing: border-box;margin-bottom: 0.5em;}#sk-container-id-9 div.sk-estimator:hover {background-color: #d4ebff;}#sk-container-id-9 div.sk-parallel-item::after {content: \"\";width: 100%;border-bottom: 1px solid gray;flex-grow: 1;}#sk-container-id-9 div.sk-label:hover label.sk-toggleable__label {background-color: #d4ebff;}#sk-container-id-9 div.sk-serial::before {content: \"\";position: absolute;border-left: 1px solid gray;box-sizing: border-box;top: 0;bottom: 0;left: 50%;z-index: 0;}#sk-container-id-9 div.sk-serial {display: flex;flex-direction: column;align-items: center;background-color: white;padding-right: 0.2em;padding-left: 0.2em;position: relative;}#sk-container-id-9 div.sk-item {position: relative;z-index: 1;}#sk-container-id-9 div.sk-parallel {display: flex;align-items: stretch;justify-content: center;background-color: white;position: relative;}#sk-container-id-9 div.sk-item::before, #sk-container-id-9 div.sk-parallel-item::before {content: \"\";position: absolute;border-left: 1px solid gray;box-sizing: border-box;top: 0;bottom: 0;left: 50%;z-index: -1;}#sk-container-id-9 div.sk-parallel-item {display: flex;flex-direction: column;z-index: 1;position: relative;background-color: white;}#sk-container-id-9 div.sk-parallel-item:first-child::after {align-self: flex-end;width: 50%;}#sk-container-id-9 div.sk-parallel-item:last-child::after {align-self: flex-start;width: 50%;}#sk-container-id-9 div.sk-parallel-item:only-child::after {width: 0;}#sk-container-id-9 div.sk-dashed-wrapped {border: 1px dashed gray;margin: 0 0.4em 0.5em 0.4em;box-sizing: border-box;padding-bottom: 0.4em;background-color: white;}#sk-container-id-9 div.sk-label label {font-family: monospace;font-weight: bold;display: inline-block;line-height: 1.2em;}#sk-container-id-9 div.sk-label-container {text-align: center;}#sk-container-id-9 div.sk-container {/* jupyter's `normalize.less` sets `[hidden] { display: none; }` but bootstrap.min.css set `[hidden] { display: none !important; }` so we also need the `!important` here to be able to override the default hidden behavior on the sphinx rendered scikit-learn.org. See: https://github.com/scikit-learn/scikit-learn/issues/21755 */display: inline-block !important;position: relative;}#sk-container-id-9 div.sk-text-repr-fallback {display: none;}</style><div id=\"sk-container-id-9\" class=\"sk-top-container\"><div class=\"sk-text-repr-fallback\"><pre>LinearRegression()</pre><b>In a Jupyter environment, please rerun this cell to show the HTML representation or trust the notebook. <br />On GitHub, the HTML representation is unable to render, please try loading this page with nbviewer.org.</b></div><div class=\"sk-container\" hidden><div class=\"sk-item\"><div class=\"sk-estimator sk-toggleable\"><input class=\"sk-toggleable__control sk-hidden--visually\" id=\"sk-estimator-id-9\" type=\"checkbox\" checked><label for=\"sk-estimator-id-9\" class=\"sk-toggleable__label sk-toggleable__label-arrow\">LinearRegression</label><div class=\"sk-toggleable__content\"><pre>LinearRegression()</pre></div></div></div></div></div>"
      ],
      "text/plain": [
       "LinearRegression()"
      ]
     },
     "execution_count": 218,
     "metadata": {},
     "output_type": "execute_result"
    }
   ],
   "source": [
    "#fit the model to the data\n",
    "model = LinearRegression()  \n",
    "model.fit(X_train, y_train)"
   ]
  },
  {
   "cell_type": "code",
   "execution_count": 219,
   "id": "33c06fab",
   "metadata": {
    "execution": {
     "iopub.execute_input": "2023-05-10T02:49:57.295011Z",
     "iopub.status.busy": "2023-05-10T02:49:57.294925Z",
     "iopub.status.idle": "2023-05-10T02:49:57.296764Z",
     "shell.execute_reply": "2023-05-10T02:49:57.296540Z"
    }
   },
   "outputs": [
    {
     "name": "stdout",
     "output_type": "stream",
     "text": [
      "[37.40526129]\n"
     ]
    }
   ],
   "source": [
    "#To retrieve the intercept:\n",
    "print(model.intercept_)"
   ]
  },
  {
   "cell_type": "code",
   "execution_count": 220,
   "id": "1008490f",
   "metadata": {
    "execution": {
     "iopub.execute_input": "2023-05-10T02:49:57.298141Z",
     "iopub.status.busy": "2023-05-10T02:49:57.298061Z",
     "iopub.status.idle": "2023-05-10T02:49:57.299785Z",
     "shell.execute_reply": "2023-05-10T02:49:57.299544Z"
    }
   },
   "outputs": [
    {
     "name": "stdout",
     "output_type": "stream",
     "text": [
      "[[0.81169062]]\n"
     ]
    }
   ],
   "source": [
    "#For retrieving the slope:\n",
    "print(model.coef_)"
   ]
  },
  {
   "cell_type": "code",
   "execution_count": 221,
   "id": "622a41b9",
   "metadata": {
    "execution": {
     "iopub.execute_input": "2023-05-10T02:49:57.301086Z",
     "iopub.status.busy": "2023-05-10T02:49:57.301006Z",
     "iopub.status.idle": "2023-05-10T02:49:57.302562Z",
     "shell.execute_reply": "2023-05-10T02:49:57.302316Z"
    }
   },
   "outputs": [],
   "source": [
    "#\n",
    "y_pred = model.predict(X_test)"
   ]
  },
  {
   "cell_type": "markdown",
   "id": "292dec95",
   "metadata": {},
   "source": [
    "split the data"
   ]
  },
  {
   "cell_type": "code",
   "execution_count": 222,
   "id": "20ac6522",
   "metadata": {
    "execution": {
     "iopub.execute_input": "2023-05-10T02:49:57.303853Z",
     "iopub.status.busy": "2023-05-10T02:49:57.303754Z",
     "iopub.status.idle": "2023-05-10T02:49:57.305494Z",
     "shell.execute_reply": "2023-05-10T02:49:57.305277Z"
    },
    "lines_to_next_cell": 2
   },
   "outputs": [],
   "source": [
    "X = df['week_number'].values.reshape(-1,1)\n",
    "Y = df['total_claims'].values.reshape(-1,1)"
   ]
  },
  {
   "cell_type": "code",
   "execution_count": 223,
   "id": "d5d63158",
   "metadata": {
    "execution": {
     "iopub.execute_input": "2023-05-10T02:49:57.306831Z",
     "iopub.status.busy": "2023-05-10T02:49:57.306752Z",
     "iopub.status.idle": "2023-05-10T02:49:57.308877Z",
     "shell.execute_reply": "2023-05-10T02:49:57.308620Z"
    }
   },
   "outputs": [
    {
     "ename": "SyntaxError",
     "evalue": "expression cannot contain assignment, perhaps you meant \"==\"? (3283266690.py, line 2)",
     "output_type": "error",
     "traceback": [
      "\u001b[0;36m  Cell \u001b[0;32mIn [223], line 2\u001b[0;36m\u001b[0m\n\u001b[0;31m    X_train, X_test, y_train, y_test = train_test_split(X, y, train.size=0.9, test_size=0.1)\u001b[0m\n\u001b[0m                                                              ^\u001b[0m\n\u001b[0;31mSyntaxError\u001b[0m\u001b[0;31m:\u001b[0m expression cannot contain assignment, perhaps you meant \"==\"?\n"
     ]
    }
   ],
   "source": [
    "#create training & split data\n",
    "X_train, X_test, y_train, y_test = train_test_split(X, y, train.size=0.9, test_size=0.1)"
   ]
  },
  {
   "cell_type": "code",
   "execution_count": 224,
   "id": "a8ef509f",
   "metadata": {
    "execution": {
     "iopub.execute_input": "2023-05-10T02:49:57.310238Z",
     "iopub.status.busy": "2023-05-10T02:49:57.310136Z",
     "iopub.status.idle": "2023-05-10T02:49:57.312789Z",
     "shell.execute_reply": "2023-05-10T02:49:57.312570Z"
    }
   },
   "outputs": [
    {
     "data": {
      "text/html": [
       "<style>#sk-container-id-10 {color: black;background-color: white;}#sk-container-id-10 pre{padding: 0;}#sk-container-id-10 div.sk-toggleable {background-color: white;}#sk-container-id-10 label.sk-toggleable__label {cursor: pointer;display: block;width: 100%;margin-bottom: 0;padding: 0.3em;box-sizing: border-box;text-align: center;}#sk-container-id-10 label.sk-toggleable__label-arrow:before {content: \"▸\";float: left;margin-right: 0.25em;color: #696969;}#sk-container-id-10 label.sk-toggleable__label-arrow:hover:before {color: black;}#sk-container-id-10 div.sk-estimator:hover label.sk-toggleable__label-arrow:before {color: black;}#sk-container-id-10 div.sk-toggleable__content {max-height: 0;max-width: 0;overflow: hidden;text-align: left;background-color: #f0f8ff;}#sk-container-id-10 div.sk-toggleable__content pre {margin: 0.2em;color: black;border-radius: 0.25em;background-color: #f0f8ff;}#sk-container-id-10 input.sk-toggleable__control:checked~div.sk-toggleable__content {max-height: 200px;max-width: 100%;overflow: auto;}#sk-container-id-10 input.sk-toggleable__control:checked~label.sk-toggleable__label-arrow:before {content: \"▾\";}#sk-container-id-10 div.sk-estimator input.sk-toggleable__control:checked~label.sk-toggleable__label {background-color: #d4ebff;}#sk-container-id-10 div.sk-label input.sk-toggleable__control:checked~label.sk-toggleable__label {background-color: #d4ebff;}#sk-container-id-10 input.sk-hidden--visually {border: 0;clip: rect(1px 1px 1px 1px);clip: rect(1px, 1px, 1px, 1px);height: 1px;margin: -1px;overflow: hidden;padding: 0;position: absolute;width: 1px;}#sk-container-id-10 div.sk-estimator {font-family: monospace;background-color: #f0f8ff;border: 1px dotted black;border-radius: 0.25em;box-sizing: border-box;margin-bottom: 0.5em;}#sk-container-id-10 div.sk-estimator:hover {background-color: #d4ebff;}#sk-container-id-10 div.sk-parallel-item::after {content: \"\";width: 100%;border-bottom: 1px solid gray;flex-grow: 1;}#sk-container-id-10 div.sk-label:hover label.sk-toggleable__label {background-color: #d4ebff;}#sk-container-id-10 div.sk-serial::before {content: \"\";position: absolute;border-left: 1px solid gray;box-sizing: border-box;top: 0;bottom: 0;left: 50%;z-index: 0;}#sk-container-id-10 div.sk-serial {display: flex;flex-direction: column;align-items: center;background-color: white;padding-right: 0.2em;padding-left: 0.2em;position: relative;}#sk-container-id-10 div.sk-item {position: relative;z-index: 1;}#sk-container-id-10 div.sk-parallel {display: flex;align-items: stretch;justify-content: center;background-color: white;position: relative;}#sk-container-id-10 div.sk-item::before, #sk-container-id-10 div.sk-parallel-item::before {content: \"\";position: absolute;border-left: 1px solid gray;box-sizing: border-box;top: 0;bottom: 0;left: 50%;z-index: -1;}#sk-container-id-10 div.sk-parallel-item {display: flex;flex-direction: column;z-index: 1;position: relative;background-color: white;}#sk-container-id-10 div.sk-parallel-item:first-child::after {align-self: flex-end;width: 50%;}#sk-container-id-10 div.sk-parallel-item:last-child::after {align-self: flex-start;width: 50%;}#sk-container-id-10 div.sk-parallel-item:only-child::after {width: 0;}#sk-container-id-10 div.sk-dashed-wrapped {border: 1px dashed gray;margin: 0 0.4em 0.5em 0.4em;box-sizing: border-box;padding-bottom: 0.4em;background-color: white;}#sk-container-id-10 div.sk-label label {font-family: monospace;font-weight: bold;display: inline-block;line-height: 1.2em;}#sk-container-id-10 div.sk-label-container {text-align: center;}#sk-container-id-10 div.sk-container {/* jupyter's `normalize.less` sets `[hidden] { display: none; }` but bootstrap.min.css set `[hidden] { display: none !important; }` so we also need the `!important` here to be able to override the default hidden behavior on the sphinx rendered scikit-learn.org. See: https://github.com/scikit-learn/scikit-learn/issues/21755 */display: inline-block !important;position: relative;}#sk-container-id-10 div.sk-text-repr-fallback {display: none;}</style><div id=\"sk-container-id-10\" class=\"sk-top-container\"><div class=\"sk-text-repr-fallback\"><pre>LinearRegression()</pre><b>In a Jupyter environment, please rerun this cell to show the HTML representation or trust the notebook. <br />On GitHub, the HTML representation is unable to render, please try loading this page with nbviewer.org.</b></div><div class=\"sk-container\" hidden><div class=\"sk-item\"><div class=\"sk-estimator sk-toggleable\"><input class=\"sk-toggleable__control sk-hidden--visually\" id=\"sk-estimator-id-10\" type=\"checkbox\" checked><label for=\"sk-estimator-id-10\" class=\"sk-toggleable__label sk-toggleable__label-arrow\">LinearRegression</label><div class=\"sk-toggleable__content\"><pre>LinearRegression()</pre></div></div></div></div></div>"
      ],
      "text/plain": [
       "LinearRegression()"
      ]
     },
     "execution_count": 224,
     "metadata": {},
     "output_type": "execute_result"
    }
   ],
   "source": [
    "#fit the model to the data\n",
    "model = LinearRegression()  \n",
    "model.fit(X_train, y_train)"
   ]
  },
  {
   "cell_type": "code",
   "execution_count": 225,
   "id": "cdb7a13c",
   "metadata": {
    "execution": {
     "iopub.execute_input": "2023-05-10T02:49:57.314121Z",
     "iopub.status.busy": "2023-05-10T02:49:57.314021Z",
     "iopub.status.idle": "2023-05-10T02:49:57.315826Z",
     "shell.execute_reply": "2023-05-10T02:49:57.315586Z"
    }
   },
   "outputs": [
    {
     "name": "stdout",
     "output_type": "stream",
     "text": [
      "[37.40526129]\n"
     ]
    }
   ],
   "source": [
    "#To retrieve the intercept:\n",
    "print(model.intercept_)"
   ]
  },
  {
   "cell_type": "code",
   "execution_count": 226,
   "id": "150ebc7d",
   "metadata": {
    "execution": {
     "iopub.execute_input": "2023-05-10T02:49:57.317260Z",
     "iopub.status.busy": "2023-05-10T02:49:57.317159Z",
     "iopub.status.idle": "2023-05-10T02:49:57.318894Z",
     "shell.execute_reply": "2023-05-10T02:49:57.318665Z"
    }
   },
   "outputs": [
    {
     "name": "stdout",
     "output_type": "stream",
     "text": [
      "[[0.81169062]]\n"
     ]
    }
   ],
   "source": [
    "#For retrieving the slope:\n",
    "print(model.coef_)"
   ]
  },
  {
   "cell_type": "code",
   "execution_count": 227,
   "id": "2448174b",
   "metadata": {
    "execution": {
     "iopub.execute_input": "2023-05-10T02:49:57.320224Z",
     "iopub.status.busy": "2023-05-10T02:49:57.320144Z",
     "iopub.status.idle": "2023-05-10T02:49:57.321838Z",
     "shell.execute_reply": "2023-05-10T02:49:57.321612Z"
    }
   },
   "outputs": [],
   "source": [
    "#\n",
    "y_pred = model.predict(X_test)"
   ]
  },
  {
   "cell_type": "markdown",
   "id": "c57522fe",
   "metadata": {},
   "source": [
    "split the data"
   ]
  },
  {
   "cell_type": "code",
   "execution_count": 228,
   "id": "781b068a",
   "metadata": {
    "execution": {
     "iopub.execute_input": "2023-05-10T02:49:57.323149Z",
     "iopub.status.busy": "2023-05-10T02:49:57.323068Z",
     "iopub.status.idle": "2023-05-10T02:49:57.324918Z",
     "shell.execute_reply": "2023-05-10T02:49:57.324680Z"
    },
    "lines_to_next_cell": 2
   },
   "outputs": [],
   "source": [
    "X = df['week_number'].values.reshape(-1,1)\n",
    "Y = df['total_claims'].values.reshape(-1,1)"
   ]
  },
  {
   "cell_type": "code",
   "execution_count": 229,
   "id": "80e806a5",
   "metadata": {
    "execution": {
     "iopub.execute_input": "2023-05-10T02:49:57.326279Z",
     "iopub.status.busy": "2023-05-10T02:49:57.326195Z",
     "iopub.status.idle": "2023-05-10T02:49:57.328286Z",
     "shell.execute_reply": "2023-05-10T02:49:57.328049Z"
    }
   },
   "outputs": [
    {
     "ename": "SyntaxError",
     "evalue": "expression cannot contain assignment, perhaps you meant \"==\"? (3162311790.py, line 2)",
     "output_type": "error",
     "traceback": [
      "\u001b[0;36m  Cell \u001b[0;32mIn [229], line 2\u001b[0;36m\u001b[0m\n\u001b[0;31m    X_train, X_test, Y_train, Y_test = train_test_split(X, Y, train.size=0.9, test_size=0.1)\u001b[0m\n\u001b[0m                                                              ^\u001b[0m\n\u001b[0;31mSyntaxError\u001b[0m\u001b[0;31m:\u001b[0m expression cannot contain assignment, perhaps you meant \"==\"?\n"
     ]
    }
   ],
   "source": [
    "#create training & split data\n",
    "X_train, X_test, Y_train, Y_test = train_test_split(X, Y, train.size=0.9, test_size=0.1)"
   ]
  },
  {
   "cell_type": "code",
   "execution_count": 230,
   "id": "716b6231",
   "metadata": {
    "execution": {
     "iopub.execute_input": "2023-05-10T02:49:57.329577Z",
     "iopub.status.busy": "2023-05-10T02:49:57.329501Z",
     "iopub.status.idle": "2023-05-10T02:49:57.332245Z",
     "shell.execute_reply": "2023-05-10T02:49:57.332002Z"
    }
   },
   "outputs": [
    {
     "data": {
      "text/html": [
       "<style>#sk-container-id-11 {color: black;background-color: white;}#sk-container-id-11 pre{padding: 0;}#sk-container-id-11 div.sk-toggleable {background-color: white;}#sk-container-id-11 label.sk-toggleable__label {cursor: pointer;display: block;width: 100%;margin-bottom: 0;padding: 0.3em;box-sizing: border-box;text-align: center;}#sk-container-id-11 label.sk-toggleable__label-arrow:before {content: \"▸\";float: left;margin-right: 0.25em;color: #696969;}#sk-container-id-11 label.sk-toggleable__label-arrow:hover:before {color: black;}#sk-container-id-11 div.sk-estimator:hover label.sk-toggleable__label-arrow:before {color: black;}#sk-container-id-11 div.sk-toggleable__content {max-height: 0;max-width: 0;overflow: hidden;text-align: left;background-color: #f0f8ff;}#sk-container-id-11 div.sk-toggleable__content pre {margin: 0.2em;color: black;border-radius: 0.25em;background-color: #f0f8ff;}#sk-container-id-11 input.sk-toggleable__control:checked~div.sk-toggleable__content {max-height: 200px;max-width: 100%;overflow: auto;}#sk-container-id-11 input.sk-toggleable__control:checked~label.sk-toggleable__label-arrow:before {content: \"▾\";}#sk-container-id-11 div.sk-estimator input.sk-toggleable__control:checked~label.sk-toggleable__label {background-color: #d4ebff;}#sk-container-id-11 div.sk-label input.sk-toggleable__control:checked~label.sk-toggleable__label {background-color: #d4ebff;}#sk-container-id-11 input.sk-hidden--visually {border: 0;clip: rect(1px 1px 1px 1px);clip: rect(1px, 1px, 1px, 1px);height: 1px;margin: -1px;overflow: hidden;padding: 0;position: absolute;width: 1px;}#sk-container-id-11 div.sk-estimator {font-family: monospace;background-color: #f0f8ff;border: 1px dotted black;border-radius: 0.25em;box-sizing: border-box;margin-bottom: 0.5em;}#sk-container-id-11 div.sk-estimator:hover {background-color: #d4ebff;}#sk-container-id-11 div.sk-parallel-item::after {content: \"\";width: 100%;border-bottom: 1px solid gray;flex-grow: 1;}#sk-container-id-11 div.sk-label:hover label.sk-toggleable__label {background-color: #d4ebff;}#sk-container-id-11 div.sk-serial::before {content: \"\";position: absolute;border-left: 1px solid gray;box-sizing: border-box;top: 0;bottom: 0;left: 50%;z-index: 0;}#sk-container-id-11 div.sk-serial {display: flex;flex-direction: column;align-items: center;background-color: white;padding-right: 0.2em;padding-left: 0.2em;position: relative;}#sk-container-id-11 div.sk-item {position: relative;z-index: 1;}#sk-container-id-11 div.sk-parallel {display: flex;align-items: stretch;justify-content: center;background-color: white;position: relative;}#sk-container-id-11 div.sk-item::before, #sk-container-id-11 div.sk-parallel-item::before {content: \"\";position: absolute;border-left: 1px solid gray;box-sizing: border-box;top: 0;bottom: 0;left: 50%;z-index: -1;}#sk-container-id-11 div.sk-parallel-item {display: flex;flex-direction: column;z-index: 1;position: relative;background-color: white;}#sk-container-id-11 div.sk-parallel-item:first-child::after {align-self: flex-end;width: 50%;}#sk-container-id-11 div.sk-parallel-item:last-child::after {align-self: flex-start;width: 50%;}#sk-container-id-11 div.sk-parallel-item:only-child::after {width: 0;}#sk-container-id-11 div.sk-dashed-wrapped {border: 1px dashed gray;margin: 0 0.4em 0.5em 0.4em;box-sizing: border-box;padding-bottom: 0.4em;background-color: white;}#sk-container-id-11 div.sk-label label {font-family: monospace;font-weight: bold;display: inline-block;line-height: 1.2em;}#sk-container-id-11 div.sk-label-container {text-align: center;}#sk-container-id-11 div.sk-container {/* jupyter's `normalize.less` sets `[hidden] { display: none; }` but bootstrap.min.css set `[hidden] { display: none !important; }` so we also need the `!important` here to be able to override the default hidden behavior on the sphinx rendered scikit-learn.org. See: https://github.com/scikit-learn/scikit-learn/issues/21755 */display: inline-block !important;position: relative;}#sk-container-id-11 div.sk-text-repr-fallback {display: none;}</style><div id=\"sk-container-id-11\" class=\"sk-top-container\"><div class=\"sk-text-repr-fallback\"><pre>LinearRegression()</pre><b>In a Jupyter environment, please rerun this cell to show the HTML representation or trust the notebook. <br />On GitHub, the HTML representation is unable to render, please try loading this page with nbviewer.org.</b></div><div class=\"sk-container\" hidden><div class=\"sk-item\"><div class=\"sk-estimator sk-toggleable\"><input class=\"sk-toggleable__control sk-hidden--visually\" id=\"sk-estimator-id-11\" type=\"checkbox\" checked><label for=\"sk-estimator-id-11\" class=\"sk-toggleable__label sk-toggleable__label-arrow\">LinearRegression</label><div class=\"sk-toggleable__content\"><pre>LinearRegression()</pre></div></div></div></div></div>"
      ],
      "text/plain": [
       "LinearRegression()"
      ]
     },
     "execution_count": 230,
     "metadata": {},
     "output_type": "execute_result"
    }
   ],
   "source": [
    "#fit the model to the data\n",
    "model = LinearRegression()  \n",
    "model.fit(X_train, y_train)"
   ]
  },
  {
   "cell_type": "code",
   "execution_count": 231,
   "id": "f850a450",
   "metadata": {
    "execution": {
     "iopub.execute_input": "2023-05-10T02:49:57.333531Z",
     "iopub.status.busy": "2023-05-10T02:49:57.333452Z",
     "iopub.status.idle": "2023-05-10T02:49:57.335115Z",
     "shell.execute_reply": "2023-05-10T02:49:57.334864Z"
    }
   },
   "outputs": [
    {
     "name": "stdout",
     "output_type": "stream",
     "text": [
      "[37.40526129]\n"
     ]
    }
   ],
   "source": [
    "#To retrieve the intercept:\n",
    "print(model.intercept_)"
   ]
  },
  {
   "cell_type": "code",
   "execution_count": 232,
   "id": "06b46ec8",
   "metadata": {
    "execution": {
     "iopub.execute_input": "2023-05-10T02:49:57.336399Z",
     "iopub.status.busy": "2023-05-10T02:49:57.336318Z",
     "iopub.status.idle": "2023-05-10T02:49:57.338071Z",
     "shell.execute_reply": "2023-05-10T02:49:57.337844Z"
    }
   },
   "outputs": [
    {
     "name": "stdout",
     "output_type": "stream",
     "text": [
      "[[0.81169062]]\n"
     ]
    }
   ],
   "source": [
    "#For retrieving the slope:\n",
    "print(model.coef_)"
   ]
  },
  {
   "cell_type": "code",
   "execution_count": 233,
   "id": "7f8b1050",
   "metadata": {
    "execution": {
     "iopub.execute_input": "2023-05-10T02:49:57.339322Z",
     "iopub.status.busy": "2023-05-10T02:49:57.339243Z",
     "iopub.status.idle": "2023-05-10T02:49:57.340884Z",
     "shell.execute_reply": "2023-05-10T02:49:57.340629Z"
    }
   },
   "outputs": [],
   "source": [
    "#\n",
    "y_pred = model.predict(X_test)"
   ]
  },
  {
   "cell_type": "markdown",
   "id": "c15160f7",
   "metadata": {},
   "source": [
    "split the data"
   ]
  },
  {
   "cell_type": "code",
   "execution_count": 234,
   "id": "a88c2fdc",
   "metadata": {
    "execution": {
     "iopub.execute_input": "2023-05-10T02:49:57.342259Z",
     "iopub.status.busy": "2023-05-10T02:49:57.342181Z",
     "iopub.status.idle": "2023-05-10T02:49:57.344016Z",
     "shell.execute_reply": "2023-05-10T02:49:57.343773Z"
    },
    "lines_to_next_cell": 2
   },
   "outputs": [],
   "source": [
    "X = df['week_number'].values.reshape(-1,1)\n",
    "Y = df['total_claims'].values.reshape(-1,1)"
   ]
  },
  {
   "cell_type": "code",
   "execution_count": 235,
   "id": "0593475b",
   "metadata": {
    "execution": {
     "iopub.execute_input": "2023-05-10T02:49:57.345323Z",
     "iopub.status.busy": "2023-05-10T02:49:57.345246Z",
     "iopub.status.idle": "2023-05-10T02:49:57.346991Z",
     "shell.execute_reply": "2023-05-10T02:49:57.346771Z"
    }
   },
   "outputs": [],
   "source": [
    "#create training & split data\n",
    "X_train, X_test, Y_train, Y_test = train_test_split(X, Y, test_size=0.1)"
   ]
  },
  {
   "cell_type": "code",
   "execution_count": 236,
   "id": "bfbb333c",
   "metadata": {
    "execution": {
     "iopub.execute_input": "2023-05-10T02:49:57.348268Z",
     "iopub.status.busy": "2023-05-10T02:49:57.348186Z",
     "iopub.status.idle": "2023-05-10T02:49:57.376896Z",
     "shell.execute_reply": "2023-05-10T02:49:57.376628Z"
    }
   },
   "outputs": [
    {
     "ename": "ValueError",
     "evalue": "Found input variables with inconsistent numbers of samples: [14, 12]",
     "output_type": "error",
     "traceback": [
      "\u001b[0;31m---------------------------------------------------------------------------\u001b[0m",
      "\u001b[0;31mValueError\u001b[0m                                Traceback (most recent call last)",
      "Cell \u001b[0;32mIn [236], line 3\u001b[0m\n\u001b[1;32m      1\u001b[0m \u001b[38;5;66;03m#fit the model to the data\u001b[39;00m\n\u001b[1;32m      2\u001b[0m model \u001b[38;5;241m=\u001b[39m LinearRegression()  \n\u001b[0;32m----> 3\u001b[0m \u001b[43mmodel\u001b[49m\u001b[38;5;241;43m.\u001b[39;49m\u001b[43mfit\u001b[49m\u001b[43m(\u001b[49m\u001b[43mX_train\u001b[49m\u001b[43m,\u001b[49m\u001b[43m \u001b[49m\u001b[43my_train\u001b[49m\u001b[43m)\u001b[49m\n",
      "File \u001b[0;32m/opt/homebrew/lib/python3.9/site-packages/sklearn/linear_model/_base.py:649\u001b[0m, in \u001b[0;36mLinearRegression.fit\u001b[0;34m(self, X, y, sample_weight)\u001b[0m\n\u001b[1;32m    645\u001b[0m n_jobs_ \u001b[38;5;241m=\u001b[39m \u001b[38;5;28mself\u001b[39m\u001b[38;5;241m.\u001b[39mn_jobs\n\u001b[1;32m    647\u001b[0m accept_sparse \u001b[38;5;241m=\u001b[39m \u001b[38;5;28;01mFalse\u001b[39;00m \u001b[38;5;28;01mif\u001b[39;00m \u001b[38;5;28mself\u001b[39m\u001b[38;5;241m.\u001b[39mpositive \u001b[38;5;28;01melse\u001b[39;00m [\u001b[38;5;124m\"\u001b[39m\u001b[38;5;124mcsr\u001b[39m\u001b[38;5;124m\"\u001b[39m, \u001b[38;5;124m\"\u001b[39m\u001b[38;5;124mcsc\u001b[39m\u001b[38;5;124m\"\u001b[39m, \u001b[38;5;124m\"\u001b[39m\u001b[38;5;124mcoo\u001b[39m\u001b[38;5;124m\"\u001b[39m]\n\u001b[0;32m--> 649\u001b[0m X, y \u001b[38;5;241m=\u001b[39m \u001b[38;5;28;43mself\u001b[39;49m\u001b[38;5;241;43m.\u001b[39;49m\u001b[43m_validate_data\u001b[49m\u001b[43m(\u001b[49m\n\u001b[1;32m    650\u001b[0m \u001b[43m    \u001b[49m\u001b[43mX\u001b[49m\u001b[43m,\u001b[49m\u001b[43m \u001b[49m\u001b[43my\u001b[49m\u001b[43m,\u001b[49m\u001b[43m \u001b[49m\u001b[43maccept_sparse\u001b[49m\u001b[38;5;241;43m=\u001b[39;49m\u001b[43maccept_sparse\u001b[49m\u001b[43m,\u001b[49m\u001b[43m \u001b[49m\u001b[43my_numeric\u001b[49m\u001b[38;5;241;43m=\u001b[39;49m\u001b[38;5;28;43;01mTrue\u001b[39;49;00m\u001b[43m,\u001b[49m\u001b[43m \u001b[49m\u001b[43mmulti_output\u001b[49m\u001b[38;5;241;43m=\u001b[39;49m\u001b[38;5;28;43;01mTrue\u001b[39;49;00m\n\u001b[1;32m    651\u001b[0m \u001b[43m\u001b[49m\u001b[43m)\u001b[49m\n\u001b[1;32m    653\u001b[0m sample_weight \u001b[38;5;241m=\u001b[39m _check_sample_weight(\n\u001b[1;32m    654\u001b[0m     sample_weight, X, dtype\u001b[38;5;241m=\u001b[39mX\u001b[38;5;241m.\u001b[39mdtype, only_non_negative\u001b[38;5;241m=\u001b[39m\u001b[38;5;28;01mTrue\u001b[39;00m\n\u001b[1;32m    655\u001b[0m )\n\u001b[1;32m    657\u001b[0m X, y, X_offset, y_offset, X_scale \u001b[38;5;241m=\u001b[39m _preprocess_data(\n\u001b[1;32m    658\u001b[0m     X,\n\u001b[1;32m    659\u001b[0m     y,\n\u001b[0;32m   (...)\u001b[0m\n\u001b[1;32m    662\u001b[0m     sample_weight\u001b[38;5;241m=\u001b[39msample_weight,\n\u001b[1;32m    663\u001b[0m )\n",
      "File \u001b[0;32m/opt/homebrew/lib/python3.9/site-packages/sklearn/base.py:554\u001b[0m, in \u001b[0;36mBaseEstimator._validate_data\u001b[0;34m(self, X, y, reset, validate_separately, **check_params)\u001b[0m\n\u001b[1;32m    552\u001b[0m         y \u001b[38;5;241m=\u001b[39m check_array(y, input_name\u001b[38;5;241m=\u001b[39m\u001b[38;5;124m\"\u001b[39m\u001b[38;5;124my\u001b[39m\u001b[38;5;124m\"\u001b[39m, \u001b[38;5;241m*\u001b[39m\u001b[38;5;241m*\u001b[39mcheck_y_params)\n\u001b[1;32m    553\u001b[0m     \u001b[38;5;28;01melse\u001b[39;00m:\n\u001b[0;32m--> 554\u001b[0m         X, y \u001b[38;5;241m=\u001b[39m \u001b[43mcheck_X_y\u001b[49m\u001b[43m(\u001b[49m\u001b[43mX\u001b[49m\u001b[43m,\u001b[49m\u001b[43m \u001b[49m\u001b[43my\u001b[49m\u001b[43m,\u001b[49m\u001b[43m \u001b[49m\u001b[38;5;241;43m*\u001b[39;49m\u001b[38;5;241;43m*\u001b[39;49m\u001b[43mcheck_params\u001b[49m\u001b[43m)\u001b[49m\n\u001b[1;32m    555\u001b[0m     out \u001b[38;5;241m=\u001b[39m X, y\n\u001b[1;32m    557\u001b[0m \u001b[38;5;28;01mif\u001b[39;00m \u001b[38;5;129;01mnot\u001b[39;00m no_val_X \u001b[38;5;129;01mand\u001b[39;00m check_params\u001b[38;5;241m.\u001b[39mget(\u001b[38;5;124m\"\u001b[39m\u001b[38;5;124mensure_2d\u001b[39m\u001b[38;5;124m\"\u001b[39m, \u001b[38;5;28;01mTrue\u001b[39;00m):\n",
      "File \u001b[0;32m/opt/homebrew/lib/python3.9/site-packages/sklearn/utils/validation.py:1122\u001b[0m, in \u001b[0;36mcheck_X_y\u001b[0;34m(X, y, accept_sparse, accept_large_sparse, dtype, order, copy, force_all_finite, ensure_2d, allow_nd, multi_output, ensure_min_samples, ensure_min_features, y_numeric, estimator)\u001b[0m\n\u001b[1;32m   1104\u001b[0m X \u001b[38;5;241m=\u001b[39m check_array(\n\u001b[1;32m   1105\u001b[0m     X,\n\u001b[1;32m   1106\u001b[0m     accept_sparse\u001b[38;5;241m=\u001b[39maccept_sparse,\n\u001b[0;32m   (...)\u001b[0m\n\u001b[1;32m   1117\u001b[0m     input_name\u001b[38;5;241m=\u001b[39m\u001b[38;5;124m\"\u001b[39m\u001b[38;5;124mX\u001b[39m\u001b[38;5;124m\"\u001b[39m,\n\u001b[1;32m   1118\u001b[0m )\n\u001b[1;32m   1120\u001b[0m y \u001b[38;5;241m=\u001b[39m _check_y(y, multi_output\u001b[38;5;241m=\u001b[39mmulti_output, y_numeric\u001b[38;5;241m=\u001b[39my_numeric, estimator\u001b[38;5;241m=\u001b[39mestimator)\n\u001b[0;32m-> 1122\u001b[0m \u001b[43mcheck_consistent_length\u001b[49m\u001b[43m(\u001b[49m\u001b[43mX\u001b[49m\u001b[43m,\u001b[49m\u001b[43m \u001b[49m\u001b[43my\u001b[49m\u001b[43m)\u001b[49m\n\u001b[1;32m   1124\u001b[0m \u001b[38;5;28;01mreturn\u001b[39;00m X, y\n",
      "File \u001b[0;32m/opt/homebrew/lib/python3.9/site-packages/sklearn/utils/validation.py:397\u001b[0m, in \u001b[0;36mcheck_consistent_length\u001b[0;34m(*arrays)\u001b[0m\n\u001b[1;32m    395\u001b[0m uniques \u001b[38;5;241m=\u001b[39m np\u001b[38;5;241m.\u001b[39munique(lengths)\n\u001b[1;32m    396\u001b[0m \u001b[38;5;28;01mif\u001b[39;00m \u001b[38;5;28mlen\u001b[39m(uniques) \u001b[38;5;241m>\u001b[39m \u001b[38;5;241m1\u001b[39m:\n\u001b[0;32m--> 397\u001b[0m     \u001b[38;5;28;01mraise\u001b[39;00m \u001b[38;5;167;01mValueError\u001b[39;00m(\n\u001b[1;32m    398\u001b[0m         \u001b[38;5;124m\"\u001b[39m\u001b[38;5;124mFound input variables with inconsistent numbers of samples: \u001b[39m\u001b[38;5;132;01m%r\u001b[39;00m\u001b[38;5;124m\"\u001b[39m\n\u001b[1;32m    399\u001b[0m         \u001b[38;5;241m%\u001b[39m [\u001b[38;5;28mint\u001b[39m(l) \u001b[38;5;28;01mfor\u001b[39;00m l \u001b[38;5;129;01min\u001b[39;00m lengths]\n\u001b[1;32m    400\u001b[0m     )\n",
      "\u001b[0;31mValueError\u001b[0m: Found input variables with inconsistent numbers of samples: [14, 12]"
     ]
    }
   ],
   "source": [
    "#fit the model to the data\n",
    "model = LinearRegression()  \n",
    "model.fit(X_train, y_train)"
   ]
  },
  {
   "cell_type": "code",
   "execution_count": 237,
   "id": "e8e109c0",
   "metadata": {
    "execution": {
     "iopub.execute_input": "2023-05-10T02:49:57.378559Z",
     "iopub.status.busy": "2023-05-10T02:49:57.378453Z",
     "iopub.status.idle": "2023-05-10T02:49:57.384892Z",
     "shell.execute_reply": "2023-05-10T02:49:57.384636Z"
    }
   },
   "outputs": [
    {
     "ename": "AttributeError",
     "evalue": "'LinearRegression' object has no attribute 'intercept_'",
     "output_type": "error",
     "traceback": [
      "\u001b[0;31m---------------------------------------------------------------------------\u001b[0m",
      "\u001b[0;31mAttributeError\u001b[0m                            Traceback (most recent call last)",
      "Cell \u001b[0;32mIn [237], line 2\u001b[0m\n\u001b[1;32m      1\u001b[0m \u001b[38;5;66;03m#To retrieve the intercept:\u001b[39;00m\n\u001b[0;32m----> 2\u001b[0m \u001b[38;5;28mprint\u001b[39m(\u001b[43mmodel\u001b[49m\u001b[38;5;241;43m.\u001b[39;49m\u001b[43mintercept_\u001b[49m)\n",
      "\u001b[0;31mAttributeError\u001b[0m: 'LinearRegression' object has no attribute 'intercept_'"
     ]
    }
   ],
   "source": [
    "#To retrieve the intercept:\n",
    "print(model.intercept_)"
   ]
  },
  {
   "cell_type": "code",
   "execution_count": 238,
   "id": "6ad6055b",
   "metadata": {
    "execution": {
     "iopub.execute_input": "2023-05-10T02:49:57.386186Z",
     "iopub.status.busy": "2023-05-10T02:49:57.386104Z",
     "iopub.status.idle": "2023-05-10T02:49:57.392405Z",
     "shell.execute_reply": "2023-05-10T02:49:57.392150Z"
    }
   },
   "outputs": [
    {
     "ename": "AttributeError",
     "evalue": "'LinearRegression' object has no attribute 'coef_'",
     "output_type": "error",
     "traceback": [
      "\u001b[0;31m---------------------------------------------------------------------------\u001b[0m",
      "\u001b[0;31mAttributeError\u001b[0m                            Traceback (most recent call last)",
      "Cell \u001b[0;32mIn [238], line 2\u001b[0m\n\u001b[1;32m      1\u001b[0m \u001b[38;5;66;03m#For retrieving the slope:\u001b[39;00m\n\u001b[0;32m----> 2\u001b[0m \u001b[38;5;28mprint\u001b[39m(\u001b[43mmodel\u001b[49m\u001b[38;5;241;43m.\u001b[39;49m\u001b[43mcoef_\u001b[49m)\n",
      "\u001b[0;31mAttributeError\u001b[0m: 'LinearRegression' object has no attribute 'coef_'"
     ]
    }
   ],
   "source": [
    "#For retrieving the slope:\n",
    "print(model.coef_)"
   ]
  },
  {
   "cell_type": "code",
   "execution_count": 239,
   "id": "9844ea8a",
   "metadata": {
    "execution": {
     "iopub.execute_input": "2023-05-10T02:49:57.393862Z",
     "iopub.status.busy": "2023-05-10T02:49:57.393769Z",
     "iopub.status.idle": "2023-05-10T02:49:57.413188Z",
     "shell.execute_reply": "2023-05-10T02:49:57.412888Z"
    }
   },
   "outputs": [
    {
     "ename": "NotFittedError",
     "evalue": "This LinearRegression instance is not fitted yet. Call 'fit' with appropriate arguments before using this estimator.",
     "output_type": "error",
     "traceback": [
      "\u001b[0;31m---------------------------------------------------------------------------\u001b[0m",
      "\u001b[0;31mNotFittedError\u001b[0m                            Traceback (most recent call last)",
      "Cell \u001b[0;32mIn [239], line 2\u001b[0m\n\u001b[1;32m      1\u001b[0m \u001b[38;5;66;03m#\u001b[39;00m\n\u001b[0;32m----> 2\u001b[0m y_pred \u001b[38;5;241m=\u001b[39m \u001b[43mmodel\u001b[49m\u001b[38;5;241;43m.\u001b[39;49m\u001b[43mpredict\u001b[49m\u001b[43m(\u001b[49m\u001b[43mX_test\u001b[49m\u001b[43m)\u001b[49m\n",
      "File \u001b[0;32m/opt/homebrew/lib/python3.9/site-packages/sklearn/linear_model/_base.py:355\u001b[0m, in \u001b[0;36mLinearModel.predict\u001b[0;34m(self, X)\u001b[0m\n\u001b[1;32m    341\u001b[0m \u001b[38;5;28;01mdef\u001b[39;00m \u001b[38;5;21mpredict\u001b[39m(\u001b[38;5;28mself\u001b[39m, X):\n\u001b[1;32m    342\u001b[0m     \u001b[38;5;124;03m\"\"\"\u001b[39;00m\n\u001b[1;32m    343\u001b[0m \u001b[38;5;124;03m    Predict using the linear model.\u001b[39;00m\n\u001b[1;32m    344\u001b[0m \n\u001b[0;32m   (...)\u001b[0m\n\u001b[1;32m    353\u001b[0m \u001b[38;5;124;03m        Returns predicted values.\u001b[39;00m\n\u001b[1;32m    354\u001b[0m \u001b[38;5;124;03m    \"\"\"\u001b[39;00m\n\u001b[0;32m--> 355\u001b[0m     \u001b[38;5;28;01mreturn\u001b[39;00m \u001b[38;5;28;43mself\u001b[39;49m\u001b[38;5;241;43m.\u001b[39;49m\u001b[43m_decision_function\u001b[49m\u001b[43m(\u001b[49m\u001b[43mX\u001b[49m\u001b[43m)\u001b[49m\n",
      "File \u001b[0;32m/opt/homebrew/lib/python3.9/site-packages/sklearn/linear_model/_base.py:336\u001b[0m, in \u001b[0;36mLinearModel._decision_function\u001b[0;34m(self, X)\u001b[0m\n\u001b[1;32m    335\u001b[0m \u001b[38;5;28;01mdef\u001b[39;00m \u001b[38;5;21m_decision_function\u001b[39m(\u001b[38;5;28mself\u001b[39m, X):\n\u001b[0;32m--> 336\u001b[0m     \u001b[43mcheck_is_fitted\u001b[49m\u001b[43m(\u001b[49m\u001b[38;5;28;43mself\u001b[39;49m\u001b[43m)\u001b[49m\n\u001b[1;32m    338\u001b[0m     X \u001b[38;5;241m=\u001b[39m \u001b[38;5;28mself\u001b[39m\u001b[38;5;241m.\u001b[39m_validate_data(X, accept_sparse\u001b[38;5;241m=\u001b[39m[\u001b[38;5;124m\"\u001b[39m\u001b[38;5;124mcsr\u001b[39m\u001b[38;5;124m\"\u001b[39m, \u001b[38;5;124m\"\u001b[39m\u001b[38;5;124mcsc\u001b[39m\u001b[38;5;124m\"\u001b[39m, \u001b[38;5;124m\"\u001b[39m\u001b[38;5;124mcoo\u001b[39m\u001b[38;5;124m\"\u001b[39m], reset\u001b[38;5;241m=\u001b[39m\u001b[38;5;28;01mFalse\u001b[39;00m)\n\u001b[1;32m    339\u001b[0m     \u001b[38;5;28;01mreturn\u001b[39;00m safe_sparse_dot(X, \u001b[38;5;28mself\u001b[39m\u001b[38;5;241m.\u001b[39mcoef_\u001b[38;5;241m.\u001b[39mT, dense_output\u001b[38;5;241m=\u001b[39m\u001b[38;5;28;01mTrue\u001b[39;00m) \u001b[38;5;241m+\u001b[39m \u001b[38;5;28mself\u001b[39m\u001b[38;5;241m.\u001b[39mintercept_\n",
      "File \u001b[0;32m/opt/homebrew/lib/python3.9/site-packages/sklearn/utils/validation.py:1380\u001b[0m, in \u001b[0;36mcheck_is_fitted\u001b[0;34m(estimator, attributes, msg, all_or_any)\u001b[0m\n\u001b[1;32m   1375\u001b[0m     fitted \u001b[38;5;241m=\u001b[39m [\n\u001b[1;32m   1376\u001b[0m         v \u001b[38;5;28;01mfor\u001b[39;00m v \u001b[38;5;129;01min\u001b[39;00m \u001b[38;5;28mvars\u001b[39m(estimator) \u001b[38;5;28;01mif\u001b[39;00m v\u001b[38;5;241m.\u001b[39mendswith(\u001b[38;5;124m\"\u001b[39m\u001b[38;5;124m_\u001b[39m\u001b[38;5;124m\"\u001b[39m) \u001b[38;5;129;01mand\u001b[39;00m \u001b[38;5;129;01mnot\u001b[39;00m v\u001b[38;5;241m.\u001b[39mstartswith(\u001b[38;5;124m\"\u001b[39m\u001b[38;5;124m__\u001b[39m\u001b[38;5;124m\"\u001b[39m)\n\u001b[1;32m   1377\u001b[0m     ]\n\u001b[1;32m   1379\u001b[0m \u001b[38;5;28;01mif\u001b[39;00m \u001b[38;5;129;01mnot\u001b[39;00m fitted:\n\u001b[0;32m-> 1380\u001b[0m     \u001b[38;5;28;01mraise\u001b[39;00m NotFittedError(msg \u001b[38;5;241m%\u001b[39m {\u001b[38;5;124m\"\u001b[39m\u001b[38;5;124mname\u001b[39m\u001b[38;5;124m\"\u001b[39m: \u001b[38;5;28mtype\u001b[39m(estimator)\u001b[38;5;241m.\u001b[39m\u001b[38;5;18m__name__\u001b[39m})\n",
      "\u001b[0;31mNotFittedError\u001b[0m: This LinearRegression instance is not fitted yet. Call 'fit' with appropriate arguments before using this estimator."
     ]
    }
   ],
   "source": [
    "#\n",
    "y_pred = model.predict(X_test)"
   ]
  },
  {
   "cell_type": "markdown",
   "id": "e1b02de2",
   "metadata": {},
   "source": [
    "split the data"
   ]
  },
  {
   "cell_type": "code",
   "execution_count": 240,
   "id": "4dac17a1",
   "metadata": {
    "execution": {
     "iopub.execute_input": "2023-05-10T02:49:57.414669Z",
     "iopub.status.busy": "2023-05-10T02:49:57.414561Z",
     "iopub.status.idle": "2023-05-10T02:49:57.416529Z",
     "shell.execute_reply": "2023-05-10T02:49:57.416292Z"
    },
    "lines_to_next_cell": 2
   },
   "outputs": [],
   "source": [
    "X = df['week_number'].values.reshape(-1,1)\n",
    "Y = df['total_claims'].values.reshape(-1,1)"
   ]
  },
  {
   "cell_type": "code",
   "execution_count": 241,
   "id": "45bd8eec",
   "metadata": {
    "execution": {
     "iopub.execute_input": "2023-05-10T02:49:57.417822Z",
     "iopub.status.busy": "2023-05-10T02:49:57.417723Z",
     "iopub.status.idle": "2023-05-10T02:49:57.419757Z",
     "shell.execute_reply": "2023-05-10T02:49:57.419524Z"
    }
   },
   "outputs": [],
   "source": [
    "#create training & split data\n",
    "X_train, X_test, Y_train, Y_test = train_test_split(X, Y, test_size=0.2, random_state=0)"
   ]
  },
  {
   "cell_type": "code",
   "execution_count": 242,
   "id": "542cefe4",
   "metadata": {
    "execution": {
     "iopub.execute_input": "2023-05-10T02:49:57.421118Z",
     "iopub.status.busy": "2023-05-10T02:49:57.421017Z",
     "iopub.status.idle": "2023-05-10T02:49:57.423676Z",
     "shell.execute_reply": "2023-05-10T02:49:57.423430Z"
    }
   },
   "outputs": [
    {
     "data": {
      "text/html": [
       "<style>#sk-container-id-12 {color: black;background-color: white;}#sk-container-id-12 pre{padding: 0;}#sk-container-id-12 div.sk-toggleable {background-color: white;}#sk-container-id-12 label.sk-toggleable__label {cursor: pointer;display: block;width: 100%;margin-bottom: 0;padding: 0.3em;box-sizing: border-box;text-align: center;}#sk-container-id-12 label.sk-toggleable__label-arrow:before {content: \"▸\";float: left;margin-right: 0.25em;color: #696969;}#sk-container-id-12 label.sk-toggleable__label-arrow:hover:before {color: black;}#sk-container-id-12 div.sk-estimator:hover label.sk-toggleable__label-arrow:before {color: black;}#sk-container-id-12 div.sk-toggleable__content {max-height: 0;max-width: 0;overflow: hidden;text-align: left;background-color: #f0f8ff;}#sk-container-id-12 div.sk-toggleable__content pre {margin: 0.2em;color: black;border-radius: 0.25em;background-color: #f0f8ff;}#sk-container-id-12 input.sk-toggleable__control:checked~div.sk-toggleable__content {max-height: 200px;max-width: 100%;overflow: auto;}#sk-container-id-12 input.sk-toggleable__control:checked~label.sk-toggleable__label-arrow:before {content: \"▾\";}#sk-container-id-12 div.sk-estimator input.sk-toggleable__control:checked~label.sk-toggleable__label {background-color: #d4ebff;}#sk-container-id-12 div.sk-label input.sk-toggleable__control:checked~label.sk-toggleable__label {background-color: #d4ebff;}#sk-container-id-12 input.sk-hidden--visually {border: 0;clip: rect(1px 1px 1px 1px);clip: rect(1px, 1px, 1px, 1px);height: 1px;margin: -1px;overflow: hidden;padding: 0;position: absolute;width: 1px;}#sk-container-id-12 div.sk-estimator {font-family: monospace;background-color: #f0f8ff;border: 1px dotted black;border-radius: 0.25em;box-sizing: border-box;margin-bottom: 0.5em;}#sk-container-id-12 div.sk-estimator:hover {background-color: #d4ebff;}#sk-container-id-12 div.sk-parallel-item::after {content: \"\";width: 100%;border-bottom: 1px solid gray;flex-grow: 1;}#sk-container-id-12 div.sk-label:hover label.sk-toggleable__label {background-color: #d4ebff;}#sk-container-id-12 div.sk-serial::before {content: \"\";position: absolute;border-left: 1px solid gray;box-sizing: border-box;top: 0;bottom: 0;left: 50%;z-index: 0;}#sk-container-id-12 div.sk-serial {display: flex;flex-direction: column;align-items: center;background-color: white;padding-right: 0.2em;padding-left: 0.2em;position: relative;}#sk-container-id-12 div.sk-item {position: relative;z-index: 1;}#sk-container-id-12 div.sk-parallel {display: flex;align-items: stretch;justify-content: center;background-color: white;position: relative;}#sk-container-id-12 div.sk-item::before, #sk-container-id-12 div.sk-parallel-item::before {content: \"\";position: absolute;border-left: 1px solid gray;box-sizing: border-box;top: 0;bottom: 0;left: 50%;z-index: -1;}#sk-container-id-12 div.sk-parallel-item {display: flex;flex-direction: column;z-index: 1;position: relative;background-color: white;}#sk-container-id-12 div.sk-parallel-item:first-child::after {align-self: flex-end;width: 50%;}#sk-container-id-12 div.sk-parallel-item:last-child::after {align-self: flex-start;width: 50%;}#sk-container-id-12 div.sk-parallel-item:only-child::after {width: 0;}#sk-container-id-12 div.sk-dashed-wrapped {border: 1px dashed gray;margin: 0 0.4em 0.5em 0.4em;box-sizing: border-box;padding-bottom: 0.4em;background-color: white;}#sk-container-id-12 div.sk-label label {font-family: monospace;font-weight: bold;display: inline-block;line-height: 1.2em;}#sk-container-id-12 div.sk-label-container {text-align: center;}#sk-container-id-12 div.sk-container {/* jupyter's `normalize.less` sets `[hidden] { display: none; }` but bootstrap.min.css set `[hidden] { display: none !important; }` so we also need the `!important` here to be able to override the default hidden behavior on the sphinx rendered scikit-learn.org. See: https://github.com/scikit-learn/scikit-learn/issues/21755 */display: inline-block !important;position: relative;}#sk-container-id-12 div.sk-text-repr-fallback {display: none;}</style><div id=\"sk-container-id-12\" class=\"sk-top-container\"><div class=\"sk-text-repr-fallback\"><pre>LinearRegression()</pre><b>In a Jupyter environment, please rerun this cell to show the HTML representation or trust the notebook. <br />On GitHub, the HTML representation is unable to render, please try loading this page with nbviewer.org.</b></div><div class=\"sk-container\" hidden><div class=\"sk-item\"><div class=\"sk-estimator sk-toggleable\"><input class=\"sk-toggleable__control sk-hidden--visually\" id=\"sk-estimator-id-12\" type=\"checkbox\" checked><label for=\"sk-estimator-id-12\" class=\"sk-toggleable__label sk-toggleable__label-arrow\">LinearRegression</label><div class=\"sk-toggleable__content\"><pre>LinearRegression()</pre></div></div></div></div></div>"
      ],
      "text/plain": [
       "LinearRegression()"
      ]
     },
     "execution_count": 242,
     "metadata": {},
     "output_type": "execute_result"
    }
   ],
   "source": [
    "#fit the model to the data\n",
    "model = LinearRegression()  \n",
    "model.fit(X_train, y_train)"
   ]
  },
  {
   "cell_type": "code",
   "execution_count": 243,
   "id": "9c8f2288",
   "metadata": {
    "execution": {
     "iopub.execute_input": "2023-05-10T02:49:57.425246Z",
     "iopub.status.busy": "2023-05-10T02:49:57.425125Z",
     "iopub.status.idle": "2023-05-10T02:49:57.427215Z",
     "shell.execute_reply": "2023-05-10T02:49:57.426970Z"
    }
   },
   "outputs": [
    {
     "name": "stdout",
     "output_type": "stream",
     "text": [
      "[37.40526129]\n"
     ]
    }
   ],
   "source": [
    "#To retrieve the intercept:\n",
    "print(model.intercept_)"
   ]
  },
  {
   "cell_type": "code",
   "execution_count": 244,
   "id": "cb0b489f",
   "metadata": {
    "execution": {
     "iopub.execute_input": "2023-05-10T02:49:57.428643Z",
     "iopub.status.busy": "2023-05-10T02:49:57.428532Z",
     "iopub.status.idle": "2023-05-10T02:49:57.430369Z",
     "shell.execute_reply": "2023-05-10T02:49:57.430134Z"
    }
   },
   "outputs": [
    {
     "name": "stdout",
     "output_type": "stream",
     "text": [
      "[[0.81169062]]\n"
     ]
    }
   ],
   "source": [
    "#For retrieving the slope:\n",
    "print(model.coef_)"
   ]
  },
  {
   "cell_type": "code",
   "execution_count": 245,
   "id": "8c5dd6fe",
   "metadata": {
    "execution": {
     "iopub.execute_input": "2023-05-10T02:49:57.431727Z",
     "iopub.status.busy": "2023-05-10T02:49:57.431629Z",
     "iopub.status.idle": "2023-05-10T02:49:57.433303Z",
     "shell.execute_reply": "2023-05-10T02:49:57.433076Z"
    }
   },
   "outputs": [],
   "source": [
    "#\n",
    "y_pred = model.predict(X_test)"
   ]
  },
  {
   "cell_type": "code",
   "execution_count": 246,
   "id": "9e27a018",
   "metadata": {
    "execution": {
     "iopub.execute_input": "2023-05-10T02:49:57.434559Z",
     "iopub.status.busy": "2023-05-10T02:49:57.434486Z",
     "iopub.status.idle": "2023-05-10T02:49:57.436548Z",
     "shell.execute_reply": "2023-05-10T02:49:57.436321Z"
    }
   },
   "outputs": [
    {
     "data": {
      "text/plain": [
       "4"
      ]
     },
     "execution_count": 246,
     "metadata": {},
     "output_type": "execute_result"
    }
   ],
   "source": [
    "len(Y_test)"
   ]
  },
  {
   "cell_type": "code",
   "execution_count": 247,
   "id": "33a7d9d5",
   "metadata": {
    "execution": {
     "iopub.execute_input": "2023-05-10T02:49:57.437867Z",
     "iopub.status.busy": "2023-05-10T02:49:57.437789Z",
     "iopub.status.idle": "2023-05-10T02:49:57.440200Z",
     "shell.execute_reply": "2023-05-10T02:49:57.439957Z"
    }
   },
   "outputs": [
    {
     "data": {
      "text/plain": [
       "4"
      ]
     },
     "execution_count": 247,
     "metadata": {},
     "output_type": "execute_result"
    }
   ],
   "source": [
    "df2 = pd.DataFrame({'Actual': y_test , 'Predicted': y_pred.flatten()})\n",
    "len(df2)"
   ]
  },
  {
   "cell_type": "code",
   "execution_count": 248,
   "id": "2b025a88",
   "metadata": {
    "execution": {
     "iopub.execute_input": "2023-05-10T02:49:57.441612Z",
     "iopub.status.busy": "2023-05-10T02:49:57.441531Z",
     "iopub.status.idle": "2023-05-10T02:49:57.445332Z",
     "shell.execute_reply": "2023-05-10T02:49:57.445076Z"
    }
   },
   "outputs": [
    {
     "data": {
      "text/html": [
       "<div>\n",
       "<style scoped>\n",
       "    .dataframe tbody tr th:only-of-type {\n",
       "        vertical-align: middle;\n",
       "    }\n",
       "\n",
       "    .dataframe tbody tr th {\n",
       "        vertical-align: top;\n",
       "    }\n",
       "\n",
       "    .dataframe thead th {\n",
       "        text-align: right;\n",
       "    }\n",
       "</style>\n",
       "<table border=\"1\" class=\"dataframe\">\n",
       "  <thead>\n",
       "    <tr style=\"text-align: right;\">\n",
       "      <th></th>\n",
       "      <th>Actual</th>\n",
       "      <th>Predicted</th>\n",
       "    </tr>\n",
       "  </thead>\n",
       "  <tbody>\n",
       "    <tr>\n",
       "      <th>0</th>\n",
       "      <td>(28,)</td>\n",
       "      <td>38.216952</td>\n",
       "    </tr>\n",
       "    <tr>\n",
       "      <th>1</th>\n",
       "      <td>(73,)</td>\n",
       "      <td>66.626124</td>\n",
       "    </tr>\n",
       "    <tr>\n",
       "      <th>2</th>\n",
       "      <td>(53,)</td>\n",
       "      <td>46.333858</td>\n",
       "    </tr>\n",
       "    <tr>\n",
       "      <th>3</th>\n",
       "      <td>(37,)</td>\n",
       "      <td>41.463714</td>\n",
       "    </tr>\n",
       "  </tbody>\n",
       "</table>\n",
       "</div>"
      ],
      "text/plain": [
       "  Actual  Predicted\n",
       "0  (28,)  38.216952\n",
       "1  (73,)  66.626124\n",
       "2  (53,)  46.333858\n",
       "3  (37,)  41.463714"
      ]
     },
     "execution_count": 248,
     "metadata": {},
     "output_type": "execute_result"
    }
   ],
   "source": [
    "df2 = pd.DataFrame({'Actual': y_test , 'Predicted': y_pred.flatten()})\n",
    "df2"
   ]
  },
  {
   "cell_type": "code",
   "execution_count": 249,
   "id": "7d94fbce",
   "metadata": {
    "execution": {
     "iopub.execute_input": "2023-05-10T02:49:57.446706Z",
     "iopub.status.busy": "2023-05-10T02:49:57.446625Z",
     "iopub.status.idle": "2023-05-10T02:49:57.453897Z",
     "shell.execute_reply": "2023-05-10T02:49:57.453657Z"
    }
   },
   "outputs": [
    {
     "ename": "AttributeError",
     "evalue": "'IntegerArray' object has no attribute 'flatten'",
     "output_type": "error",
     "traceback": [
      "\u001b[0;31m---------------------------------------------------------------------------\u001b[0m",
      "\u001b[0;31mAttributeError\u001b[0m                            Traceback (most recent call last)",
      "Cell \u001b[0;32mIn [249], line 1\u001b[0m\n\u001b[0;32m----> 1\u001b[0m df2 \u001b[38;5;241m=\u001b[39m pd\u001b[38;5;241m.\u001b[39mDataFrame({\u001b[38;5;124m'\u001b[39m\u001b[38;5;124mActual\u001b[39m\u001b[38;5;124m'\u001b[39m: \u001b[43my_test\u001b[49m\u001b[38;5;241;43m.\u001b[39;49m\u001b[43mflatten\u001b[49m() , \u001b[38;5;124m'\u001b[39m\u001b[38;5;124mPredicted\u001b[39m\u001b[38;5;124m'\u001b[39m: y_pred\u001b[38;5;241m.\u001b[39mflatten()})\n\u001b[1;32m      2\u001b[0m df2\n",
      "\u001b[0;31mAttributeError\u001b[0m: 'IntegerArray' object has no attribute 'flatten'"
     ]
    }
   ],
   "source": [
    "df2 = pd.DataFrame({'Actual': y_test.flatten() , 'Predicted': y_pred.flatten()})\n",
    "df2"
   ]
  },
  {
   "cell_type": "code",
   "execution_count": 250,
   "id": "cebff87f",
   "metadata": {
    "execution": {
     "iopub.execute_input": "2023-05-10T02:49:57.455269Z",
     "iopub.status.busy": "2023-05-10T02:49:57.455190Z",
     "iopub.status.idle": "2023-05-10T02:49:57.507447Z",
     "shell.execute_reply": "2023-05-10T02:49:57.507113Z"
    }
   },
   "outputs": [
    {
     "data": {
      "image/png": "[encoded data removed]",
      "text/plain": [
       "<Figure size 640x480 with 1 Axes>"
      ]
     },
     "metadata": {},
     "output_type": "display_data"
    }
   ],
   "source": [
    "plt.scatter(X_test, y_test,  color='gray')\n",
    "plt.plot(X_test, y_pred, color='red', linewidth=2)\n",
    "plt.show()"
   ]
  },
  {
   "cell_type": "markdown",
   "id": "c79f4220",
   "metadata": {},
   "source": [
    "split the data"
   ]
  },
  {
   "cell_type": "code",
   "execution_count": 251,
   "id": "7ff2c54a",
   "metadata": {
    "execution": {
     "iopub.execute_input": "2023-05-10T02:49:57.509126Z",
     "iopub.status.busy": "2023-05-10T02:49:57.509005Z",
     "iopub.status.idle": "2023-05-10T02:49:57.511056Z",
     "shell.execute_reply": "2023-05-10T02:49:57.510801Z"
    },
    "lines_to_next_cell": 2
   },
   "outputs": [],
   "source": [
    "X = df['week_number'].values.reshape(-1,1)\n",
    "y = df['total_claims'].values.reshape(-1,1)"
   ]
  },
  {
   "cell_type": "code",
   "execution_count": 252,
   "id": "daf1f907",
   "metadata": {
    "execution": {
     "iopub.execute_input": "2023-05-10T02:49:57.512593Z",
     "iopub.status.busy": "2023-05-10T02:49:57.512480Z",
     "iopub.status.idle": "2023-05-10T02:49:57.514680Z",
     "shell.execute_reply": "2023-05-10T02:49:57.514412Z"
    }
   },
   "outputs": [],
   "source": [
    "#create training & split data\n",
    "X_train, X_test, y_train, y_test = train_test_split(X, y, test_size=0.2, random_state=0)"
   ]
  },
  {
   "cell_type": "code",
   "execution_count": 253,
   "id": "250f6772",
   "metadata": {
    "execution": {
     "iopub.execute_input": "2023-05-10T02:49:57.516079Z",
     "iopub.status.busy": "2023-05-10T02:49:57.515972Z",
     "iopub.status.idle": "2023-05-10T02:49:57.518945Z",
     "shell.execute_reply": "2023-05-10T02:49:57.518661Z"
    }
   },
   "outputs": [
    {
     "data": {
      "text/html": [
       "<style>#sk-container-id-13 {color: black;background-color: white;}#sk-container-id-13 pre{padding: 0;}#sk-container-id-13 div.sk-toggleable {background-color: white;}#sk-container-id-13 label.sk-toggleable__label {cursor: pointer;display: block;width: 100%;margin-bottom: 0;padding: 0.3em;box-sizing: border-box;text-align: center;}#sk-container-id-13 label.sk-toggleable__label-arrow:before {content: \"▸\";float: left;margin-right: 0.25em;color: #696969;}#sk-container-id-13 label.sk-toggleable__label-arrow:hover:before {color: black;}#sk-container-id-13 div.sk-estimator:hover label.sk-toggleable__label-arrow:before {color: black;}#sk-container-id-13 div.sk-toggleable__content {max-height: 0;max-width: 0;overflow: hidden;text-align: left;background-color: #f0f8ff;}#sk-container-id-13 div.sk-toggleable__content pre {margin: 0.2em;color: black;border-radius: 0.25em;background-color: #f0f8ff;}#sk-container-id-13 input.sk-toggleable__control:checked~div.sk-toggleable__content {max-height: 200px;max-width: 100%;overflow: auto;}#sk-container-id-13 input.sk-toggleable__control:checked~label.sk-toggleable__label-arrow:before {content: \"▾\";}#sk-container-id-13 div.sk-estimator input.sk-toggleable__control:checked~label.sk-toggleable__label {background-color: #d4ebff;}#sk-container-id-13 div.sk-label input.sk-toggleable__control:checked~label.sk-toggleable__label {background-color: #d4ebff;}#sk-container-id-13 input.sk-hidden--visually {border: 0;clip: rect(1px 1px 1px 1px);clip: rect(1px, 1px, 1px, 1px);height: 1px;margin: -1px;overflow: hidden;padding: 0;position: absolute;width: 1px;}#sk-container-id-13 div.sk-estimator {font-family: monospace;background-color: #f0f8ff;border: 1px dotted black;border-radius: 0.25em;box-sizing: border-box;margin-bottom: 0.5em;}#sk-container-id-13 div.sk-estimator:hover {background-color: #d4ebff;}#sk-container-id-13 div.sk-parallel-item::after {content: \"\";width: 100%;border-bottom: 1px solid gray;flex-grow: 1;}#sk-container-id-13 div.sk-label:hover label.sk-toggleable__label {background-color: #d4ebff;}#sk-container-id-13 div.sk-serial::before {content: \"\";position: absolute;border-left: 1px solid gray;box-sizing: border-box;top: 0;bottom: 0;left: 50%;z-index: 0;}#sk-container-id-13 div.sk-serial {display: flex;flex-direction: column;align-items: center;background-color: white;padding-right: 0.2em;padding-left: 0.2em;position: relative;}#sk-container-id-13 div.sk-item {position: relative;z-index: 1;}#sk-container-id-13 div.sk-parallel {display: flex;align-items: stretch;justify-content: center;background-color: white;position: relative;}#sk-container-id-13 div.sk-item::before, #sk-container-id-13 div.sk-parallel-item::before {content: \"\";position: absolute;border-left: 1px solid gray;box-sizing: border-box;top: 0;bottom: 0;left: 50%;z-index: -1;}#sk-container-id-13 div.sk-parallel-item {display: flex;flex-direction: column;z-index: 1;position: relative;background-color: white;}#sk-container-id-13 div.sk-parallel-item:first-child::after {align-self: flex-end;width: 50%;}#sk-container-id-13 div.sk-parallel-item:last-child::after {align-self: flex-start;width: 50%;}#sk-container-id-13 div.sk-parallel-item:only-child::after {width: 0;}#sk-container-id-13 div.sk-dashed-wrapped {border: 1px dashed gray;margin: 0 0.4em 0.5em 0.4em;box-sizing: border-box;padding-bottom: 0.4em;background-color: white;}#sk-container-id-13 div.sk-label label {font-family: monospace;font-weight: bold;display: inline-block;line-height: 1.2em;}#sk-container-id-13 div.sk-label-container {text-align: center;}#sk-container-id-13 div.sk-container {/* jupyter's `normalize.less` sets `[hidden] { display: none; }` but bootstrap.min.css set `[hidden] { display: none !important; }` so we also need the `!important` here to be able to override the default hidden behavior on the sphinx rendered scikit-learn.org. See: https://github.com/scikit-learn/scikit-learn/issues/21755 */display: inline-block !important;position: relative;}#sk-container-id-13 div.sk-text-repr-fallback {display: none;}</style><div id=\"sk-container-id-13\" class=\"sk-top-container\"><div class=\"sk-text-repr-fallback\"><pre>LinearRegression()</pre><b>In a Jupyter environment, please rerun this cell to show the HTML representation or trust the notebook. <br />On GitHub, the HTML representation is unable to render, please try loading this page with nbviewer.org.</b></div><div class=\"sk-container\" hidden><div class=\"sk-item\"><div class=\"sk-estimator sk-toggleable\"><input class=\"sk-toggleable__control sk-hidden--visually\" id=\"sk-estimator-id-13\" type=\"checkbox\" checked><label for=\"sk-estimator-id-13\" class=\"sk-toggleable__label sk-toggleable__label-arrow\">LinearRegression</label><div class=\"sk-toggleable__content\"><pre>LinearRegression()</pre></div></div></div></div></div>"
      ],
      "text/plain": [
       "LinearRegression()"
      ]
     },
     "execution_count": 253,
     "metadata": {},
     "output_type": "execute_result"
    }
   ],
   "source": [
    "#fit the model to the data\n",
    "model = LinearRegression()  \n",
    "model.fit(X_train, y_train)"
   ]
  },
  {
   "cell_type": "code",
   "execution_count": 254,
   "id": "dc9b3e07",
   "metadata": {
    "execution": {
     "iopub.execute_input": "2023-05-10T02:49:57.520335Z",
     "iopub.status.busy": "2023-05-10T02:49:57.520234Z",
     "iopub.status.idle": "2023-05-10T02:49:57.522127Z",
     "shell.execute_reply": "2023-05-10T02:49:57.521887Z"
    }
   },
   "outputs": [
    {
     "name": "stdout",
     "output_type": "stream",
     "text": [
      "[37.40526129]\n"
     ]
    }
   ],
   "source": [
    "#To retrieve the intercept:\n",
    "print(model.intercept_)"
   ]
  },
  {
   "cell_type": "code",
   "execution_count": 255,
   "id": "2e2ad2cb",
   "metadata": {
    "execution": {
     "iopub.execute_input": "2023-05-10T02:49:57.523664Z",
     "iopub.status.busy": "2023-05-10T02:49:57.523561Z",
     "iopub.status.idle": "2023-05-10T02:49:57.525889Z",
     "shell.execute_reply": "2023-05-10T02:49:57.525292Z"
    }
   },
   "outputs": [
    {
     "name": "stdout",
     "output_type": "stream",
     "text": [
      "[[0.81169062]]\n"
     ]
    }
   ],
   "source": [
    "#For retrieving the slope:\n",
    "print(model.coef_)"
   ]
  },
  {
   "cell_type": "code",
   "execution_count": 256,
   "id": "5d717825",
   "metadata": {
    "execution": {
     "iopub.execute_input": "2023-05-10T02:49:57.527527Z",
     "iopub.status.busy": "2023-05-10T02:49:57.527390Z",
     "iopub.status.idle": "2023-05-10T02:49:57.529322Z",
     "shell.execute_reply": "2023-05-10T02:49:57.529055Z"
    }
   },
   "outputs": [],
   "source": [
    "#\n",
    "y_pred = model.predict(X_test)"
   ]
  },
  {
   "cell_type": "code",
   "execution_count": 257,
   "id": "c4eda078",
   "metadata": {
    "execution": {
     "iopub.execute_input": "2023-05-10T02:49:57.530697Z",
     "iopub.status.busy": "2023-05-10T02:49:57.530593Z",
     "iopub.status.idle": "2023-05-10T02:49:57.534406Z",
     "shell.execute_reply": "2023-05-10T02:49:57.534133Z"
    }
   },
   "outputs": [
    {
     "data": {
      "text/html": [
       "<div>\n",
       "<style scoped>\n",
       "    .dataframe tbody tr th:only-of-type {\n",
       "        vertical-align: middle;\n",
       "    }\n",
       "\n",
       "    .dataframe tbody tr th {\n",
       "        vertical-align: top;\n",
       "    }\n",
       "\n",
       "    .dataframe thead th {\n",
       "        text-align: right;\n",
       "    }\n",
       "</style>\n",
       "<table border=\"1\" class=\"dataframe\">\n",
       "  <thead>\n",
       "    <tr style=\"text-align: right;\">\n",
       "      <th></th>\n",
       "      <th>Actual</th>\n",
       "      <th>Predicted</th>\n",
       "    </tr>\n",
       "  </thead>\n",
       "  <tbody>\n",
       "    <tr>\n",
       "      <th>0</th>\n",
       "      <td>(28,)</td>\n",
       "      <td>38.216952</td>\n",
       "    </tr>\n",
       "    <tr>\n",
       "      <th>1</th>\n",
       "      <td>(73,)</td>\n",
       "      <td>66.626124</td>\n",
       "    </tr>\n",
       "    <tr>\n",
       "      <th>2</th>\n",
       "      <td>(53,)</td>\n",
       "      <td>46.333858</td>\n",
       "    </tr>\n",
       "    <tr>\n",
       "      <th>3</th>\n",
       "      <td>(37,)</td>\n",
       "      <td>41.463714</td>\n",
       "    </tr>\n",
       "  </tbody>\n",
       "</table>\n",
       "</div>"
      ],
      "text/plain": [
       "  Actual  Predicted\n",
       "0  (28,)  38.216952\n",
       "1  (73,)  66.626124\n",
       "2  (53,)  46.333858\n",
       "3  (37,)  41.463714"
      ]
     },
     "execution_count": 257,
     "metadata": {},
     "output_type": "execute_result"
    }
   ],
   "source": [
    "df2 = pd.DataFrame({'Actual': y_test , 'Predicted': y_pred.flatten()})\n",
    "df2"
   ]
  },
  {
   "cell_type": "code",
   "execution_count": 258,
   "id": "252e4387",
   "metadata": {
    "execution": {
     "iopub.execute_input": "2023-05-10T02:49:57.535782Z",
     "iopub.status.busy": "2023-05-10T02:49:57.535700Z",
     "iopub.status.idle": "2023-05-10T02:49:57.539676Z",
     "shell.execute_reply": "2023-05-10T02:49:57.539408Z"
    }
   },
   "outputs": [],
   "source": [
    "output = df2.to_csv('submission_prediction_output.csv')\n",
    "output"
   ]
  },
  {
   "cell_type": "code",
   "execution_count": 259,
   "id": "f542f322",
   "metadata": {
    "execution": {
     "iopub.execute_input": "2023-05-10T02:49:57.541213Z",
     "iopub.status.busy": "2023-05-10T02:49:57.541124Z",
     "iopub.status.idle": "2023-05-10T02:49:57.543519Z",
     "shell.execute_reply": "2023-05-10T02:49:57.543267Z"
    }
   },
   "outputs": [],
   "source": [
    "output = df2.to_csv('submission_prediction_output.csv')\n",
    "output"
   ]
  },
  {
   "cell_type": "code",
   "execution_count": 260,
   "id": "a4d4da35",
   "metadata": {
    "execution": {
     "iopub.execute_input": "2023-05-10T02:49:57.544936Z",
     "iopub.status.busy": "2023-05-10T02:49:57.544837Z",
     "iopub.status.idle": "2023-05-10T02:49:57.548677Z",
     "shell.execute_reply": "2023-05-10T02:49:57.548387Z"
    }
   },
   "outputs": [
    {
     "data": {
      "text/html": [
       "<div>\n",
       "<style scoped>\n",
       "    .dataframe tbody tr th:only-of-type {\n",
       "        vertical-align: middle;\n",
       "    }\n",
       "\n",
       "    .dataframe tbody tr th {\n",
       "        vertical-align: top;\n",
       "    }\n",
       "\n",
       "    .dataframe thead th {\n",
       "        text-align: right;\n",
       "    }\n",
       "</style>\n",
       "<table border=\"1\" class=\"dataframe\">\n",
       "  <thead>\n",
       "    <tr style=\"text-align: right;\">\n",
       "      <th></th>\n",
       "      <th>Actual</th>\n",
       "      <th>Predicted</th>\n",
       "    </tr>\n",
       "  </thead>\n",
       "  <tbody>\n",
       "    <tr>\n",
       "      <th>0</th>\n",
       "      <td>(28,)</td>\n",
       "      <td>38.216952</td>\n",
       "    </tr>\n",
       "    <tr>\n",
       "      <th>1</th>\n",
       "      <td>(73,)</td>\n",
       "      <td>66.626124</td>\n",
       "    </tr>\n",
       "    <tr>\n",
       "      <th>2</th>\n",
       "      <td>(53,)</td>\n",
       "      <td>46.333858</td>\n",
       "    </tr>\n",
       "    <tr>\n",
       "      <th>3</th>\n",
       "      <td>(37,)</td>\n",
       "      <td>41.463714</td>\n",
       "    </tr>\n",
       "  </tbody>\n",
       "</table>\n",
       "</div>"
      ],
      "text/plain": [
       "  Actual  Predicted\n",
       "0  (28,)  38.216952\n",
       "1  (73,)  66.626124\n",
       "2  (53,)  46.333858\n",
       "3  (37,)  41.463714"
      ]
     },
     "execution_count": 260,
     "metadata": {},
     "output_type": "execute_result"
    }
   ],
   "source": [
    "df2 = pd.DataFrame({'Actual': y_test , 'Predicted': y_pred.flatten()})\n",
    "df2"
   ]
  },
  {
   "cell_type": "code",
   "execution_count": 261,
   "id": "8f99311c",
   "metadata": {
    "execution": {
     "iopub.execute_input": "2023-05-10T02:49:57.550050Z",
     "iopub.status.busy": "2023-05-10T02:49:57.549947Z",
     "iopub.status.idle": "2023-05-10T02:49:57.552247Z",
     "shell.execute_reply": "2023-05-10T02:49:57.552012Z"
    }
   },
   "outputs": [],
   "source": [
    "output = df2.to_csv('submission_prediction_output.csv')\n",
    "output"
   ]
  },
  {
   "cell_type": "code",
   "execution_count": 262,
   "id": "6accb442",
   "metadata": {
    "execution": {
     "iopub.execute_input": "2023-05-10T02:49:57.553568Z",
     "iopub.status.busy": "2023-05-10T02:49:57.553473Z",
     "iopub.status.idle": "2023-05-10T02:49:57.555669Z",
     "shell.execute_reply": "2023-05-10T02:49:57.555423Z"
    }
   },
   "outputs": [],
   "source": [
    "output = df2.to_csv('submission_prediction_output.csv')\n",
    "output"
   ]
  },
  {
   "cell_type": "code",
   "execution_count": 263,
   "id": "6e4371dd",
   "metadata": {
    "execution": {
     "iopub.execute_input": "2023-05-10T02:49:57.557119Z",
     "iopub.status.busy": "2023-05-10T02:49:57.557030Z",
     "iopub.status.idle": "2023-05-10T02:49:57.559402Z",
     "shell.execute_reply": "2023-05-10T02:49:57.559103Z"
    }
   },
   "outputs": [],
   "source": [
    "output = df2.to_csv('submission_prediction_output.csv')\n",
    "output"
   ]
  },
  {
   "cell_type": "code",
   "execution_count": 264,
   "id": "4f1fcc22",
   "metadata": {
    "execution": {
     "iopub.execute_input": "2023-05-10T02:49:57.560985Z",
     "iopub.status.busy": "2023-05-10T02:49:57.560902Z",
     "iopub.status.idle": "2023-05-10T02:49:57.563530Z",
     "shell.execute_reply": "2023-05-10T02:49:57.563272Z"
    },
    "lines_to_next_cell": 2
   },
   "outputs": [
    {
     "name": "stdout",
     "output_type": "stream",
     "text": [
      "Mean Absolute Error: 6.930171144177541\n",
      "Mean Squared Error: 52.34365009143951\n",
      "Root Mean Squared Error: 7.234891159612528\n"
     ]
    }
   ],
   "source": [
    "print('Mean Absolute Error:', metrics.mean_absolute_error(y_test, y_pred))  \n",
    "print('Mean Squared Error:', metrics.mean_squared_error(y_test, y_pred))  \n",
    "print('Root Mean Squared Error:', np.sqrt(metrics.mean_squared_error(y_test, y_pred)))"
   ]
  }
 ],
 "metadata": {
  "jupytext": {
   "cell_metadata_filter": "-all",
   "main_language": "python",
   "notebook_metadata_filter": "-all"
  },
  "language_info": {
   "codemirror_mode": {
    "name": "ipython",
    "version": 3
   },
   "file_extension": ".py",
   "mimetype": "text/x-python",
   "name": "python",
   "nbconvert_exporter": "python",
   "pygments_lexer": "ipython3",
   "version": "3.9.12"
  }
 },
 "nbformat": 4,
 "nbformat_minor": 5
}
