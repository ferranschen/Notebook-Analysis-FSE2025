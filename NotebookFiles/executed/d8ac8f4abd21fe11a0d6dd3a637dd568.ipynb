{
 "cells": [
  {
   "cell_type": "code",
   "execution_count": 1,
   "id": "06a71ae9",
   "metadata": {
    "execution": {
     "iopub.execute_input": "2023-05-10T00:56:27.636681Z",
     "iopub.status.busy": "2023-05-10T00:56:27.636524Z",
     "iopub.status.idle": "2023-05-10T00:56:27.643726Z",
     "shell.execute_reply": "2023-05-10T00:56:27.642864Z"
    },
    "lines_to_next_cell": 2
   },
   "outputs": [
    {
     "name": "stdout",
     "output_type": "stream",
     "text": [
      "   1: get_ipython().run_line_magic('history', '-g')\n"
     ]
    }
   ],
   "source": [
    "get_ipython().run_line_magic('history', '-g')"
   ]
  }
 ],
 "metadata": {
  "jupytext": {
   "cell_metadata_filter": "-all",
   "main_language": "python",
   "notebook_metadata_filter": "-all"
  },
  "language_info": {
   "codemirror_mode": {
    "name": "ipython",
    "version": 3
   },
   "file_extension": ".py",
   "mimetype": "text/x-python",
   "name": "python",
   "nbconvert_exporter": "python",
   "pygments_lexer": "ipython3",
   "version": "3.9.12"
  }
 },
 "nbformat": 4,
 "nbformat_minor": 5
}
