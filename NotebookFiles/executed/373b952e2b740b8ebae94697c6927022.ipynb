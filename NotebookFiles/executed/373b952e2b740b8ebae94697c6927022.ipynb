{
 "cells": [
  {
   "cell_type": "markdown",
   "id": "e84f3b63",
   "metadata": {},
   "source": [
    "- IMPORT THE LIBRARIES YOU WILL USE\n",
    "------------------------------------------\n",
    "You only need to import packages one time per notebook session. To keep your\n",
    "notebook clean and organized you can handle all imports at the top of your file.\n",
    "The following are included for example purposed, feel free to modify or delete \n",
    "anything in this section."
   ]
  },
  {
   "cell_type": "code",
   "execution_count": 1,
   "id": "d43f57b2",
   "metadata": {
    "execution": {
     "iopub.execute_input": "2023-05-10T00:30:24.105381Z",
     "iopub.status.busy": "2023-05-10T00:30:24.105198Z",
     "iopub.status.idle": "2023-05-10T00:30:24.964566Z",
     "shell.execute_reply": "2023-05-10T00:30:24.964224Z"
    }
   },
   "outputs": [],
   "source": [
    "import csv\n",
    "import pandas as pd\n",
    "import numpy as np\n",
    "import matplotlib\n",
    "import matplotlib.pyplot as plt\n",
    "import seaborn as sns\n",
    "get_ipython().run_line_magic('matplotlib', 'inline')\n",
    "from sklearn.model_selection import train_test_split \n",
    "from sklearn.linear_model import LinearRegression\n",
    "from sklearn import metrics"
   ]
  },
  {
   "cell_type": "code",
   "execution_count": 2,
   "id": "2a852845",
   "metadata": {
    "execution": {
     "iopub.execute_input": "2023-05-10T00:30:24.966384Z",
     "iopub.status.busy": "2023-05-10T00:30:24.966219Z",
     "iopub.status.idle": "2023-05-10T00:30:25.056997Z",
     "shell.execute_reply": "2023-05-10T00:30:25.056696Z"
    }
   },
   "outputs": [],
   "source": [
    "from google.cloud import bigquery\n",
    "from google.oauth2 import service_account\n",
    "from google.cloud.bigquery import magics"
   ]
  },
  {
   "cell_type": "code",
   "execution_count": 3,
   "id": "50a611b9",
   "metadata": {
    "execution": {
     "iopub.execute_input": "2023-05-10T00:30:25.058785Z",
     "iopub.status.busy": "2023-05-10T00:30:25.058619Z",
     "iopub.status.idle": "2023-05-10T00:30:25.060410Z",
     "shell.execute_reply": "2023-05-10T00:30:25.060142Z"
    }
   },
   "outputs": [],
   "source": [
    "query = \"\"\"\n",
    "SELECT *\n",
    "FROM `ironhacks-data.ironhacks_competition.unemployment_data` \n",
    "\"\"\""
   ]
  },
  {
   "cell_type": "code",
   "execution_count": 4,
   "id": "7ad043e1",
   "metadata": {
    "execution": {
     "iopub.execute_input": "2023-05-10T00:30:25.061823Z",
     "iopub.status.busy": "2023-05-10T00:30:25.061736Z",
     "iopub.status.idle": "2023-05-10T00:30:25.064106Z",
     "shell.execute_reply": "2023-05-10T00:30:25.063781Z"
    }
   },
   "outputs": [
    {
     "ename": "SyntaxError",
     "evalue": "invalid syntax (1332658177.py, line 6)",
     "output_type": "error",
     "traceback": [
      "\u001b[0;36m  Cell \u001b[0;32mIn [4], line 6\u001b[0;36m\u001b[0m\n\u001b[0;31m    9/59:\u001b[0m\n\u001b[0m         ^\u001b[0m\n\u001b[0;31mSyntaxError\u001b[0m\u001b[0;31m:\u001b[0m invalid syntax\n"
     ]
    }
   ],
   "source": [
    "# QUERY THE DATA ONCE\n",
    "query_job = bigquery_client.query(query)\n",
    "unemployment_data = query_job.to_dataframe()\n",
    "unemployment_data.head(5)\n",
    "print(unemployment_data.columns)\n",
    "9/59:\n",
    "#SPLIT training set"
   ]
  },
  {
   "cell_type": "code",
   "execution_count": 5,
   "id": "28481286",
   "metadata": {
    "execution": {
     "iopub.execute_input": "2023-05-10T00:30:25.065574Z",
     "iopub.status.busy": "2023-05-10T00:30:25.065468Z",
     "iopub.status.idle": "2023-05-10T00:30:25.067531Z",
     "shell.execute_reply": "2023-05-10T00:30:25.067301Z"
    }
   },
   "outputs": [
    {
     "ename": "SyntaxError",
     "evalue": "invalid syntax (2617227960.py, line 3)",
     "output_type": "error",
     "traceback": [
      "\u001b[0;36m  Cell \u001b[0;32mIn [5], line 3\u001b[0;36m\u001b[0m\n\u001b[0;31m    9/60:\u001b[0m\n\u001b[0m         ^\u001b[0m\n\u001b[0;31mSyntaxError\u001b[0m\u001b[0;31m:\u001b[0m invalid syntax\n"
     ]
    }
   ],
   "source": [
    "x = df['edu_post_hs'].values.reshape(-1,1)\n",
    "y = df['total_claims'].values.reshape(-1,1)\n",
    "9/60:\n",
    "#SPLIT training set"
   ]
  },
  {
   "cell_type": "code",
   "execution_count": 6,
   "id": "1b312bde",
   "metadata": {
    "execution": {
     "iopub.execute_input": "2023-05-10T00:30:25.068880Z",
     "iopub.status.busy": "2023-05-10T00:30:25.068777Z",
     "iopub.status.idle": "2023-05-10T00:30:25.071129Z",
     "shell.execute_reply": "2023-05-10T00:30:25.070889Z"
    }
   },
   "outputs": [
    {
     "ename": "SyntaxError",
     "evalue": "illegal target for annotation (212994395.py, line 3)",
     "output_type": "error",
     "traceback": [
      "\u001b[0;36m  Cell \u001b[0;32mIn [6], line 3\u001b[0;36m\u001b[0m\n\u001b[0;31m    9/61: X_train, X_test, y_train, y_test = train_test_split(X, y, test_size=0.2, random_state=0)\u001b[0m\n\u001b[0m    ^\u001b[0m\n\u001b[0;31mSyntaxError\u001b[0m\u001b[0;31m:\u001b[0m illegal target for annotation\n"
     ]
    }
   ],
   "source": [
    "X = df['edu_post_hs'].values.reshape(-1,1)\n",
    "Y = df['total_claims'].values.reshape(-1,1)\n",
    "9/61: X_train, X_test, y_train, y_test = train_test_split(X, y, test_size=0.2, random_state=0)\n",
    "9/62:\n",
    "regressor = LinearRegression()  \n",
    "regressor.fit(X_train, y_train)\n",
    "9/63:\n",
    "#To retrieve the intercept:\n",
    "print(regressor.intercept_)"
   ]
  },
  {
   "cell_type": "code",
   "execution_count": 7,
   "id": "b75f2af0",
   "metadata": {
    "execution": {
     "iopub.execute_input": "2023-05-10T00:30:25.072488Z",
     "iopub.status.busy": "2023-05-10T00:30:25.072392Z",
     "iopub.status.idle": "2023-05-10T00:30:25.074360Z",
     "shell.execute_reply": "2023-05-10T00:30:25.074141Z"
    }
   },
   "outputs": [
    {
     "ename": "SyntaxError",
     "evalue": "illegal target for annotation (7914315.py, line 3)",
     "output_type": "error",
     "traceback": [
      "\u001b[0;36m  Cell \u001b[0;32mIn [7], line 3\u001b[0;36m\u001b[0m\n\u001b[0;31m    9/64: y_pred = regressor.predict(X_test)\u001b[0m\n\u001b[0m    ^\u001b[0m\n\u001b[0;31mSyntaxError\u001b[0m\u001b[0;31m:\u001b[0m illegal target for annotation\n"
     ]
    }
   ],
   "source": [
    "#For retrieving the slope:\n",
    "print(regressor.coef_)\n",
    "9/64: y_pred = regressor.predict(X_test)\n",
    "9/65:\n",
    "df2 = pd.DataFrame({'Actual': y_test.flatten(), 'Predicted': y_pred.flatten()})\n",
    "df2"
   ]
  },
  {
   "cell_type": "code",
   "execution_count": 8,
   "id": "f900550a",
   "metadata": {
    "execution": {
     "iopub.execute_input": "2023-05-10T00:30:25.075749Z",
     "iopub.status.busy": "2023-05-10T00:30:25.075658Z",
     "iopub.status.idle": "2023-05-10T00:30:25.077233Z",
     "shell.execute_reply": "2023-05-10T00:30:25.077005Z"
    }
   },
   "outputs": [],
   "source": [
    "query = \"\"\"\n",
    "SELECT *\n",
    "FROM `ironhacks-data.ironhacks_competition.unemployment_data` \n",
    "\"\"\""
   ]
  },
  {
   "cell_type": "code",
   "execution_count": 9,
   "id": "7b904db5",
   "metadata": {
    "execution": {
     "iopub.execute_input": "2023-05-10T00:30:25.078544Z",
     "iopub.status.busy": "2023-05-10T00:30:25.078467Z",
     "iopub.status.idle": "2023-05-10T00:30:25.189608Z",
     "shell.execute_reply": "2023-05-10T00:30:25.189330Z"
    }
   },
   "outputs": [
    {
     "ename": "NameError",
     "evalue": "name 'bigquery_client' is not defined",
     "output_type": "error",
     "traceback": [
      "\u001b[0;31m---------------------------------------------------------------------------\u001b[0m",
      "\u001b[0;31mNameError\u001b[0m                                 Traceback (most recent call last)",
      "Cell \u001b[0;32mIn [9], line 2\u001b[0m\n\u001b[1;32m      1\u001b[0m \u001b[38;5;66;03m# QUERY THE DATA ONCE\u001b[39;00m\n\u001b[0;32m----> 2\u001b[0m query_job \u001b[38;5;241m=\u001b[39m \u001b[43mbigquery_client\u001b[49m\u001b[38;5;241m.\u001b[39mquery(query)\n\u001b[1;32m      3\u001b[0m unemployment_data \u001b[38;5;241m=\u001b[39m query_job\u001b[38;5;241m.\u001b[39mto_dataframe()\n\u001b[1;32m      4\u001b[0m unemployment_data\u001b[38;5;241m.\u001b[39mhead(\u001b[38;5;241m5\u001b[39m)\n",
      "\u001b[0;31mNameError\u001b[0m: name 'bigquery_client' is not defined"
     ]
    }
   ],
   "source": [
    "# QUERY THE DATA ONCE\n",
    "query_job = bigquery_client.query(query)\n",
    "unemployment_data = query_job.to_dataframe()\n",
    "unemployment_data.head(5)\n",
    "print(unemployment_data.columns)"
   ]
  },
  {
   "cell_type": "markdown",
   "id": "6edfe189",
   "metadata": {},
   "source": [
    "CONFIGURE THE BIGQUERY SETTINGS"
   ]
  },
  {
   "cell_type": "code",
   "execution_count": 10,
   "id": "cd220cc8",
   "metadata": {
    "execution": {
     "iopub.execute_input": "2023-05-10T00:30:25.191129Z",
     "iopub.status.busy": "2023-05-10T00:30:25.191026Z",
     "iopub.status.idle": "2023-05-10T00:30:25.199335Z",
     "shell.execute_reply": "2023-05-10T00:30:25.198895Z"
    }
   },
   "outputs": [],
   "source": [
    "BIGQUERY_PROJECT = 'ironhacks-data'\n",
    "bigquery_client = bigquery.Client(project=BIGQUERY_PROJECT)"
   ]
  },
  {
   "cell_type": "code",
   "execution_count": 11,
   "id": "3914e012",
   "metadata": {
    "execution": {
     "iopub.execute_input": "2023-05-10T00:30:25.201170Z",
     "iopub.status.busy": "2023-05-10T00:30:25.201051Z",
     "iopub.status.idle": "2023-05-10T00:30:25.202832Z",
     "shell.execute_reply": "2023-05-10T00:30:25.202597Z"
    }
   },
   "outputs": [],
   "source": [
    "query = \"\"\"\n",
    "SELECT *\n",
    "FROM `ironhacks-data.ironhacks_competition.unemployment_data` \n",
    "\"\"\""
   ]
  },
  {
   "cell_type": "code",
   "execution_count": 12,
   "id": "f7a5d06e",
   "metadata": {
    "execution": {
     "iopub.execute_input": "2023-05-10T00:30:25.204325Z",
     "iopub.status.busy": "2023-05-10T00:30:25.204219Z",
     "iopub.status.idle": "2023-05-10T00:30:28.310989Z",
     "shell.execute_reply": "2023-05-10T00:30:28.310284Z"
    }
   },
   "outputs": [
    {
     "name": "stdout",
     "output_type": "stream",
     "text": [
      "Index(['uu_id', 'timeperiod', 'week_number', 'countyfips', 'tract',\n",
      "       'tract_name', 'total_claims', 'edu_8th_or_less', 'edu_grades_9_11',\n",
      "       'edu_hs_grad_equiv', 'edu_post_hs', 'edu_unknown',\n",
      "       'top_category_employer1', 'top_category_employer2',\n",
      "       'top_category_employer3', 'gender_female', 'gender_male', 'gender_na',\n",
      "       'race_amerindian', 'race_asian', 'race_black', 'race_noanswer',\n",
      "       'race_hawaiiannative', 'race_other', 'race_white'],\n",
      "      dtype='object')\n"
     ]
    }
   ],
   "source": [
    "# QUERY THE DATA ONCE\n",
    "query_job = bigquery_client.query(query)\n",
    "unemployment_data = query_job.to_dataframe()\n",
    "unemployment_data.head(5)\n",
    "print(unemployment_data.columns)"
   ]
  },
  {
   "cell_type": "code",
   "execution_count": 13,
   "id": "631dba14",
   "metadata": {
    "execution": {
     "iopub.execute_input": "2023-05-10T00:30:28.314609Z",
     "iopub.status.busy": "2023-05-10T00:30:28.314133Z",
     "iopub.status.idle": "2023-05-10T00:30:28.332104Z",
     "shell.execute_reply": "2023-05-10T00:30:28.331674Z"
    }
   },
   "outputs": [],
   "source": [
    "df = unemployment_data.dropna()"
   ]
  },
  {
   "cell_type": "markdown",
   "id": "d2a849c7",
   "metadata": {},
   "source": [
    "SPLIT training set"
   ]
  },
  {
   "cell_type": "code",
   "execution_count": 14,
   "id": "8c8f7ba6",
   "metadata": {
    "execution": {
     "iopub.execute_input": "2023-05-10T00:30:28.334423Z",
     "iopub.status.busy": "2023-05-10T00:30:28.334242Z",
     "iopub.status.idle": "2023-05-10T00:30:28.337600Z",
     "shell.execute_reply": "2023-05-10T00:30:28.337184Z"
    }
   },
   "outputs": [
    {
     "ename": "SyntaxError",
     "evalue": "invalid syntax (2617227960.py, line 3)",
     "output_type": "error",
     "traceback": [
      "\u001b[0;36m  Cell \u001b[0;32mIn [14], line 3\u001b[0;36m\u001b[0m\n\u001b[0;31m    9/60:\u001b[0m\n\u001b[0m         ^\u001b[0m\n\u001b[0;31mSyntaxError\u001b[0m\u001b[0;31m:\u001b[0m invalid syntax\n"
     ]
    }
   ],
   "source": [
    "x = df['edu_post_hs'].values.reshape(-1,1)\n",
    "y = df['total_claims'].values.reshape(-1,1)\n",
    "9/60:\n",
    "#SPLIT training set"
   ]
  },
  {
   "cell_type": "code",
   "execution_count": 15,
   "id": "0213182e",
   "metadata": {
    "execution": {
     "iopub.execute_input": "2023-05-10T00:30:28.339795Z",
     "iopub.status.busy": "2023-05-10T00:30:28.339651Z",
     "iopub.status.idle": "2023-05-10T00:30:28.343206Z",
     "shell.execute_reply": "2023-05-10T00:30:28.342845Z"
    }
   },
   "outputs": [
    {
     "ename": "SyntaxError",
     "evalue": "illegal target for annotation (212994395.py, line 3)",
     "output_type": "error",
     "traceback": [
      "\u001b[0;36m  Cell \u001b[0;32mIn [15], line 3\u001b[0;36m\u001b[0m\n\u001b[0;31m    9/61: X_train, X_test, y_train, y_test = train_test_split(X, y, test_size=0.2, random_state=0)\u001b[0m\n\u001b[0m    ^\u001b[0m\n\u001b[0;31mSyntaxError\u001b[0m\u001b[0;31m:\u001b[0m illegal target for annotation\n"
     ]
    }
   ],
   "source": [
    "X = df['edu_post_hs'].values.reshape(-1,1)\n",
    "Y = df['total_claims'].values.reshape(-1,1)\n",
    "9/61: X_train, X_test, y_train, y_test = train_test_split(X, y, test_size=0.2, random_state=0)\n",
    "9/62:\n",
    "regressor = LinearRegression()  \n",
    "regressor.fit(X_train, y_train)\n",
    "9/63:\n",
    "#To retrieve the intercept:\n",
    "print(regressor.intercept_)"
   ]
  },
  {
   "cell_type": "code",
   "execution_count": 16,
   "id": "f9d78b38",
   "metadata": {
    "execution": {
     "iopub.execute_input": "2023-05-10T00:30:28.345084Z",
     "iopub.status.busy": "2023-05-10T00:30:28.344928Z",
     "iopub.status.idle": "2023-05-10T00:30:28.347753Z",
     "shell.execute_reply": "2023-05-10T00:30:28.347401Z"
    }
   },
   "outputs": [
    {
     "ename": "SyntaxError",
     "evalue": "illegal target for annotation (7914315.py, line 3)",
     "output_type": "error",
     "traceback": [
      "\u001b[0;36m  Cell \u001b[0;32mIn [16], line 3\u001b[0;36m\u001b[0m\n\u001b[0;31m    9/64: y_pred = regressor.predict(X_test)\u001b[0m\n\u001b[0m    ^\u001b[0m\n\u001b[0;31mSyntaxError\u001b[0m\u001b[0;31m:\u001b[0m illegal target for annotation\n"
     ]
    }
   ],
   "source": [
    "#For retrieving the slope:\n",
    "print(regressor.coef_)\n",
    "9/64: y_pred = regressor.predict(X_test)\n",
    "9/65:\n",
    "df2 = pd.DataFrame({'Actual': y_test.flatten(), 'Predicted': y_pred.flatten()})\n",
    "df2"
   ]
  },
  {
   "cell_type": "markdown",
   "id": "8571c1cc",
   "metadata": {},
   "source": [
    "SPLIT training set"
   ]
  },
  {
   "cell_type": "code",
   "execution_count": 17,
   "id": "7007e166",
   "metadata": {
    "execution": {
     "iopub.execute_input": "2023-05-10T00:30:28.349606Z",
     "iopub.status.busy": "2023-05-10T00:30:28.349456Z",
     "iopub.status.idle": "2023-05-10T00:30:28.351746Z",
     "shell.execute_reply": "2023-05-10T00:30:28.351425Z"
    }
   },
   "outputs": [],
   "source": [
    "x = df['edu_post_hs'].values.reshape(-1,1)\n",
    "y = df['total_claims'].values.reshape(-1,1)"
   ]
  },
  {
   "cell_type": "markdown",
   "id": "6d50256d",
   "metadata": {},
   "source": [
    "SPLIT training set"
   ]
  },
  {
   "cell_type": "code",
   "execution_count": 18,
   "id": "0520151d",
   "metadata": {
    "execution": {
     "iopub.execute_input": "2023-05-10T00:30:28.353518Z",
     "iopub.status.busy": "2023-05-10T00:30:28.353376Z",
     "iopub.status.idle": "2023-05-10T00:30:28.356087Z",
     "shell.execute_reply": "2023-05-10T00:30:28.355813Z"
    }
   },
   "outputs": [],
   "source": [
    "X = df['edu_post_hs'].values.reshape(-1,1)\n",
    "Y = df['total_claims'].values.reshape(-1,1)\n",
    "X_train, X_test, y_train, y_test = train_test_split(X, y, test_size=0.2, random_state=0)"
   ]
  },
  {
   "cell_type": "code",
   "execution_count": 19,
   "id": "4949d006",
   "metadata": {
    "execution": {
     "iopub.execute_input": "2023-05-10T00:30:28.357694Z",
     "iopub.status.busy": "2023-05-10T00:30:28.357578Z",
     "iopub.status.idle": "2023-05-10T00:30:28.362524Z",
     "shell.execute_reply": "2023-05-10T00:30:28.362250Z"
    }
   },
   "outputs": [
    {
     "data": {
      "text/html": [
       "<style>#sk-container-id-1 {color: black;background-color: white;}#sk-container-id-1 pre{padding: 0;}#sk-container-id-1 div.sk-toggleable {background-color: white;}#sk-container-id-1 label.sk-toggleable__label {cursor: pointer;display: block;width: 100%;margin-bottom: 0;padding: 0.3em;box-sizing: border-box;text-align: center;}#sk-container-id-1 label.sk-toggleable__label-arrow:before {content: \"▸\";float: left;margin-right: 0.25em;color: #696969;}#sk-container-id-1 label.sk-toggleable__label-arrow:hover:before {color: black;}#sk-container-id-1 div.sk-estimator:hover label.sk-toggleable__label-arrow:before {color: black;}#sk-container-id-1 div.sk-toggleable__content {max-height: 0;max-width: 0;overflow: hidden;text-align: left;background-color: #f0f8ff;}#sk-container-id-1 div.sk-toggleable__content pre {margin: 0.2em;color: black;border-radius: 0.25em;background-color: #f0f8ff;}#sk-container-id-1 input.sk-toggleable__control:checked~div.sk-toggleable__content {max-height: 200px;max-width: 100%;overflow: auto;}#sk-container-id-1 input.sk-toggleable__control:checked~label.sk-toggleable__label-arrow:before {content: \"▾\";}#sk-container-id-1 div.sk-estimator input.sk-toggleable__control:checked~label.sk-toggleable__label {background-color: #d4ebff;}#sk-container-id-1 div.sk-label input.sk-toggleable__control:checked~label.sk-toggleable__label {background-color: #d4ebff;}#sk-container-id-1 input.sk-hidden--visually {border: 0;clip: rect(1px 1px 1px 1px);clip: rect(1px, 1px, 1px, 1px);height: 1px;margin: -1px;overflow: hidden;padding: 0;position: absolute;width: 1px;}#sk-container-id-1 div.sk-estimator {font-family: monospace;background-color: #f0f8ff;border: 1px dotted black;border-radius: 0.25em;box-sizing: border-box;margin-bottom: 0.5em;}#sk-container-id-1 div.sk-estimator:hover {background-color: #d4ebff;}#sk-container-id-1 div.sk-parallel-item::after {content: \"\";width: 100%;border-bottom: 1px solid gray;flex-grow: 1;}#sk-container-id-1 div.sk-label:hover label.sk-toggleable__label {background-color: #d4ebff;}#sk-container-id-1 div.sk-serial::before {content: \"\";position: absolute;border-left: 1px solid gray;box-sizing: border-box;top: 0;bottom: 0;left: 50%;z-index: 0;}#sk-container-id-1 div.sk-serial {display: flex;flex-direction: column;align-items: center;background-color: white;padding-right: 0.2em;padding-left: 0.2em;position: relative;}#sk-container-id-1 div.sk-item {position: relative;z-index: 1;}#sk-container-id-1 div.sk-parallel {display: flex;align-items: stretch;justify-content: center;background-color: white;position: relative;}#sk-container-id-1 div.sk-item::before, #sk-container-id-1 div.sk-parallel-item::before {content: \"\";position: absolute;border-left: 1px solid gray;box-sizing: border-box;top: 0;bottom: 0;left: 50%;z-index: -1;}#sk-container-id-1 div.sk-parallel-item {display: flex;flex-direction: column;z-index: 1;position: relative;background-color: white;}#sk-container-id-1 div.sk-parallel-item:first-child::after {align-self: flex-end;width: 50%;}#sk-container-id-1 div.sk-parallel-item:last-child::after {align-self: flex-start;width: 50%;}#sk-container-id-1 div.sk-parallel-item:only-child::after {width: 0;}#sk-container-id-1 div.sk-dashed-wrapped {border: 1px dashed gray;margin: 0 0.4em 0.5em 0.4em;box-sizing: border-box;padding-bottom: 0.4em;background-color: white;}#sk-container-id-1 div.sk-label label {font-family: monospace;font-weight: bold;display: inline-block;line-height: 1.2em;}#sk-container-id-1 div.sk-label-container {text-align: center;}#sk-container-id-1 div.sk-container {/* jupyter's `normalize.less` sets `[hidden] { display: none; }` but bootstrap.min.css set `[hidden] { display: none !important; }` so we also need the `!important` here to be able to override the default hidden behavior on the sphinx rendered scikit-learn.org. See: https://github.com/scikit-learn/scikit-learn/issues/21755 */display: inline-block !important;position: relative;}#sk-container-id-1 div.sk-text-repr-fallback {display: none;}</style><div id=\"sk-container-id-1\" class=\"sk-top-container\"><div class=\"sk-text-repr-fallback\"><pre>LinearRegression()</pre><b>In a Jupyter environment, please rerun this cell to show the HTML representation or trust the notebook. <br />On GitHub, the HTML representation is unable to render, please try loading this page with nbviewer.org.</b></div><div class=\"sk-container\" hidden><div class=\"sk-item\"><div class=\"sk-estimator sk-toggleable\"><input class=\"sk-toggleable__control sk-hidden--visually\" id=\"sk-estimator-id-1\" type=\"checkbox\" checked><label for=\"sk-estimator-id-1\" class=\"sk-toggleable__label sk-toggleable__label-arrow\">LinearRegression</label><div class=\"sk-toggleable__content\"><pre>LinearRegression()</pre></div></div></div></div></div>"
      ],
      "text/plain": [
       "LinearRegression()"
      ]
     },
     "execution_count": 19,
     "metadata": {},
     "output_type": "execute_result"
    }
   ],
   "source": [
    "regressor = LinearRegression()  \n",
    "regressor.fit(X_train, y_train)"
   ]
  },
  {
   "cell_type": "code",
   "execution_count": 20,
   "id": "fb5ddbe3",
   "metadata": {
    "execution": {
     "iopub.execute_input": "2023-05-10T00:30:28.364043Z",
     "iopub.status.busy": "2023-05-10T00:30:28.363930Z",
     "iopub.status.idle": "2023-05-10T00:30:28.365975Z",
     "shell.execute_reply": "2023-05-10T00:30:28.365744Z"
    }
   },
   "outputs": [
    {
     "name": "stdout",
     "output_type": "stream",
     "text": [
      "[30.28846154]\n"
     ]
    }
   ],
   "source": [
    "#To retrieve the intercept:\n",
    "print(regressor.intercept_)"
   ]
  },
  {
   "cell_type": "code",
   "execution_count": 21,
   "id": "3672194f",
   "metadata": {
    "execution": {
     "iopub.execute_input": "2023-05-10T00:30:28.367401Z",
     "iopub.status.busy": "2023-05-10T00:30:28.367308Z",
     "iopub.status.idle": "2023-05-10T00:30:28.369425Z",
     "shell.execute_reply": "2023-05-10T00:30:28.369177Z"
    }
   },
   "outputs": [
    {
     "ename": "IndentationError",
     "evalue": "unexpected indent (1311846525.py, line 3)",
     "output_type": "error",
     "traceback": [
      "\u001b[0;36m  Cell \u001b[0;32mIn [21], line 3\u001b[0;36m\u001b[0m\n\u001b[0;31m    y_pred = regressor.predict(X_test)\u001b[0m\n\u001b[0m    ^\u001b[0m\n\u001b[0;31mIndentationError\u001b[0m\u001b[0;31m:\u001b[0m unexpected indent\n"
     ]
    }
   ],
   "source": [
    "#For retrieving the slope:\n",
    "print(regressor.coef_)\n",
    " y_pred = regressor.predict(X_test)"
   ]
  },
  {
   "cell_type": "markdown",
   "id": "bf8965fc",
   "metadata": {},
   "source": [
    "SPLIT training set"
   ]
  },
  {
   "cell_type": "code",
   "execution_count": 22,
   "id": "4b8ce760",
   "metadata": {
    "execution": {
     "iopub.execute_input": "2023-05-10T00:30:28.370821Z",
     "iopub.status.busy": "2023-05-10T00:30:28.370736Z",
     "iopub.status.idle": "2023-05-10T00:30:28.372598Z",
     "shell.execute_reply": "2023-05-10T00:30:28.372359Z"
    }
   },
   "outputs": [],
   "source": [
    "x = df['edu_post_hs'].values.reshape(-1,1)\n",
    "y = df['total_claims'].values.reshape(-1,1)"
   ]
  },
  {
   "cell_type": "markdown",
   "id": "bb767d4b",
   "metadata": {},
   "source": [
    "SPLIT training set"
   ]
  },
  {
   "cell_type": "code",
   "execution_count": 23,
   "id": "2479d50d",
   "metadata": {
    "execution": {
     "iopub.execute_input": "2023-05-10T00:30:28.373948Z",
     "iopub.status.busy": "2023-05-10T00:30:28.373867Z",
     "iopub.status.idle": "2023-05-10T00:30:28.376032Z",
     "shell.execute_reply": "2023-05-10T00:30:28.375787Z"
    }
   },
   "outputs": [],
   "source": [
    "X = df['edu_post_hs'].values.reshape(-1,1)\n",
    "Y = df['total_claims'].values.reshape(-1,1)\n",
    "X_train, X_test, y_train, y_test = train_test_split(X, y, test_size=0.2, random_state=0)"
   ]
  },
  {
   "cell_type": "code",
   "execution_count": 24,
   "id": "fb0e9d82",
   "metadata": {
    "execution": {
     "iopub.execute_input": "2023-05-10T00:30:28.377432Z",
     "iopub.status.busy": "2023-05-10T00:30:28.377338Z",
     "iopub.status.idle": "2023-05-10T00:30:28.380099Z",
     "shell.execute_reply": "2023-05-10T00:30:28.379851Z"
    }
   },
   "outputs": [
    {
     "data": {
      "text/html": [
       "<style>#sk-container-id-2 {color: black;background-color: white;}#sk-container-id-2 pre{padding: 0;}#sk-container-id-2 div.sk-toggleable {background-color: white;}#sk-container-id-2 label.sk-toggleable__label {cursor: pointer;display: block;width: 100%;margin-bottom: 0;padding: 0.3em;box-sizing: border-box;text-align: center;}#sk-container-id-2 label.sk-toggleable__label-arrow:before {content: \"▸\";float: left;margin-right: 0.25em;color: #696969;}#sk-container-id-2 label.sk-toggleable__label-arrow:hover:before {color: black;}#sk-container-id-2 div.sk-estimator:hover label.sk-toggleable__label-arrow:before {color: black;}#sk-container-id-2 div.sk-toggleable__content {max-height: 0;max-width: 0;overflow: hidden;text-align: left;background-color: #f0f8ff;}#sk-container-id-2 div.sk-toggleable__content pre {margin: 0.2em;color: black;border-radius: 0.25em;background-color: #f0f8ff;}#sk-container-id-2 input.sk-toggleable__control:checked~div.sk-toggleable__content {max-height: 200px;max-width: 100%;overflow: auto;}#sk-container-id-2 input.sk-toggleable__control:checked~label.sk-toggleable__label-arrow:before {content: \"▾\";}#sk-container-id-2 div.sk-estimator input.sk-toggleable__control:checked~label.sk-toggleable__label {background-color: #d4ebff;}#sk-container-id-2 div.sk-label input.sk-toggleable__control:checked~label.sk-toggleable__label {background-color: #d4ebff;}#sk-container-id-2 input.sk-hidden--visually {border: 0;clip: rect(1px 1px 1px 1px);clip: rect(1px, 1px, 1px, 1px);height: 1px;margin: -1px;overflow: hidden;padding: 0;position: absolute;width: 1px;}#sk-container-id-2 div.sk-estimator {font-family: monospace;background-color: #f0f8ff;border: 1px dotted black;border-radius: 0.25em;box-sizing: border-box;margin-bottom: 0.5em;}#sk-container-id-2 div.sk-estimator:hover {background-color: #d4ebff;}#sk-container-id-2 div.sk-parallel-item::after {content: \"\";width: 100%;border-bottom: 1px solid gray;flex-grow: 1;}#sk-container-id-2 div.sk-label:hover label.sk-toggleable__label {background-color: #d4ebff;}#sk-container-id-2 div.sk-serial::before {content: \"\";position: absolute;border-left: 1px solid gray;box-sizing: border-box;top: 0;bottom: 0;left: 50%;z-index: 0;}#sk-container-id-2 div.sk-serial {display: flex;flex-direction: column;align-items: center;background-color: white;padding-right: 0.2em;padding-left: 0.2em;position: relative;}#sk-container-id-2 div.sk-item {position: relative;z-index: 1;}#sk-container-id-2 div.sk-parallel {display: flex;align-items: stretch;justify-content: center;background-color: white;position: relative;}#sk-container-id-2 div.sk-item::before, #sk-container-id-2 div.sk-parallel-item::before {content: \"\";position: absolute;border-left: 1px solid gray;box-sizing: border-box;top: 0;bottom: 0;left: 50%;z-index: -1;}#sk-container-id-2 div.sk-parallel-item {display: flex;flex-direction: column;z-index: 1;position: relative;background-color: white;}#sk-container-id-2 div.sk-parallel-item:first-child::after {align-self: flex-end;width: 50%;}#sk-container-id-2 div.sk-parallel-item:last-child::after {align-self: flex-start;width: 50%;}#sk-container-id-2 div.sk-parallel-item:only-child::after {width: 0;}#sk-container-id-2 div.sk-dashed-wrapped {border: 1px dashed gray;margin: 0 0.4em 0.5em 0.4em;box-sizing: border-box;padding-bottom: 0.4em;background-color: white;}#sk-container-id-2 div.sk-label label {font-family: monospace;font-weight: bold;display: inline-block;line-height: 1.2em;}#sk-container-id-2 div.sk-label-container {text-align: center;}#sk-container-id-2 div.sk-container {/* jupyter's `normalize.less` sets `[hidden] { display: none; }` but bootstrap.min.css set `[hidden] { display: none !important; }` so we also need the `!important` here to be able to override the default hidden behavior on the sphinx rendered scikit-learn.org. See: https://github.com/scikit-learn/scikit-learn/issues/21755 */display: inline-block !important;position: relative;}#sk-container-id-2 div.sk-text-repr-fallback {display: none;}</style><div id=\"sk-container-id-2\" class=\"sk-top-container\"><div class=\"sk-text-repr-fallback\"><pre>LinearRegression()</pre><b>In a Jupyter environment, please rerun this cell to show the HTML representation or trust the notebook. <br />On GitHub, the HTML representation is unable to render, please try loading this page with nbviewer.org.</b></div><div class=\"sk-container\" hidden><div class=\"sk-item\"><div class=\"sk-estimator sk-toggleable\"><input class=\"sk-toggleable__control sk-hidden--visually\" id=\"sk-estimator-id-2\" type=\"checkbox\" checked><label for=\"sk-estimator-id-2\" class=\"sk-toggleable__label sk-toggleable__label-arrow\">LinearRegression</label><div class=\"sk-toggleable__content\"><pre>LinearRegression()</pre></div></div></div></div></div>"
      ],
      "text/plain": [
       "LinearRegression()"
      ]
     },
     "execution_count": 24,
     "metadata": {},
     "output_type": "execute_result"
    }
   ],
   "source": [
    "regressor = LinearRegression()  \n",
    "regressor.fit(X_train, y_train)"
   ]
  },
  {
   "cell_type": "code",
   "execution_count": 25,
   "id": "6feaeb3f",
   "metadata": {
    "execution": {
     "iopub.execute_input": "2023-05-10T00:30:28.381487Z",
     "iopub.status.busy": "2023-05-10T00:30:28.381397Z",
     "iopub.status.idle": "2023-05-10T00:30:28.383141Z",
     "shell.execute_reply": "2023-05-10T00:30:28.382915Z"
    }
   },
   "outputs": [
    {
     "name": "stdout",
     "output_type": "stream",
     "text": [
      "[30.28846154]\n"
     ]
    }
   ],
   "source": [
    "#To retrieve the intercept:\n",
    "print(regressor.intercept_)"
   ]
  },
  {
   "cell_type": "code",
   "execution_count": 26,
   "id": "a39d024c",
   "metadata": {
    "execution": {
     "iopub.execute_input": "2023-05-10T00:30:28.384523Z",
     "iopub.status.busy": "2023-05-10T00:30:28.384441Z",
     "iopub.status.idle": "2023-05-10T00:30:28.386380Z",
     "shell.execute_reply": "2023-05-10T00:30:28.386146Z"
    }
   },
   "outputs": [
    {
     "ename": "IndentationError",
     "evalue": "unexpected indent (1311846525.py, line 3)",
     "output_type": "error",
     "traceback": [
      "\u001b[0;36m  Cell \u001b[0;32mIn [26], line 3\u001b[0;36m\u001b[0m\n\u001b[0;31m    y_pred = regressor.predict(X_test)\u001b[0m\n\u001b[0m    ^\u001b[0m\n\u001b[0;31mIndentationError\u001b[0m\u001b[0;31m:\u001b[0m unexpected indent\n"
     ]
    }
   ],
   "source": [
    "#For retrieving the slope:\n",
    "print(regressor.coef_)\n",
    " y_pred = regressor.predict(X_test)"
   ]
  },
  {
   "cell_type": "markdown",
   "id": "0f1b67d6",
   "metadata": {},
   "source": [
    "SPLIT training set"
   ]
  },
  {
   "cell_type": "code",
   "execution_count": 27,
   "id": "19d2c06a",
   "metadata": {
    "execution": {
     "iopub.execute_input": "2023-05-10T00:30:28.387702Z",
     "iopub.status.busy": "2023-05-10T00:30:28.387627Z",
     "iopub.status.idle": "2023-05-10T00:30:28.389368Z",
     "shell.execute_reply": "2023-05-10T00:30:28.389144Z"
    }
   },
   "outputs": [],
   "source": [
    "x = df['edu_post_hs'].values.reshape(-1,1)\n",
    "y = df['total_claims'].values.reshape(-1,1)"
   ]
  },
  {
   "cell_type": "markdown",
   "id": "00f92a28",
   "metadata": {},
   "source": [
    "SPLIT training set"
   ]
  },
  {
   "cell_type": "code",
   "execution_count": 28,
   "id": "47460c15",
   "metadata": {
    "execution": {
     "iopub.execute_input": "2023-05-10T00:30:28.390715Z",
     "iopub.status.busy": "2023-05-10T00:30:28.390638Z",
     "iopub.status.idle": "2023-05-10T00:30:28.392737Z",
     "shell.execute_reply": "2023-05-10T00:30:28.392523Z"
    }
   },
   "outputs": [],
   "source": [
    "X = df['edu_post_hs'].values.reshape(-1,1)\n",
    "Y = df['total_claims'].values.reshape(-1,1)\n",
    "X_train, X_test, y_train, y_test = train_test_split(X, y, test_size=0.2, random_state=0)"
   ]
  },
  {
   "cell_type": "code",
   "execution_count": 29,
   "id": "d892a90d",
   "metadata": {
    "execution": {
     "iopub.execute_input": "2023-05-10T00:30:28.394089Z",
     "iopub.status.busy": "2023-05-10T00:30:28.394012Z",
     "iopub.status.idle": "2023-05-10T00:30:28.396556Z",
     "shell.execute_reply": "2023-05-10T00:30:28.396322Z"
    }
   },
   "outputs": [
    {
     "data": {
      "text/html": [
       "<style>#sk-container-id-3 {color: black;background-color: white;}#sk-container-id-3 pre{padding: 0;}#sk-container-id-3 div.sk-toggleable {background-color: white;}#sk-container-id-3 label.sk-toggleable__label {cursor: pointer;display: block;width: 100%;margin-bottom: 0;padding: 0.3em;box-sizing: border-box;text-align: center;}#sk-container-id-3 label.sk-toggleable__label-arrow:before {content: \"▸\";float: left;margin-right: 0.25em;color: #696969;}#sk-container-id-3 label.sk-toggleable__label-arrow:hover:before {color: black;}#sk-container-id-3 div.sk-estimator:hover label.sk-toggleable__label-arrow:before {color: black;}#sk-container-id-3 div.sk-toggleable__content {max-height: 0;max-width: 0;overflow: hidden;text-align: left;background-color: #f0f8ff;}#sk-container-id-3 div.sk-toggleable__content pre {margin: 0.2em;color: black;border-radius: 0.25em;background-color: #f0f8ff;}#sk-container-id-3 input.sk-toggleable__control:checked~div.sk-toggleable__content {max-height: 200px;max-width: 100%;overflow: auto;}#sk-container-id-3 input.sk-toggleable__control:checked~label.sk-toggleable__label-arrow:before {content: \"▾\";}#sk-container-id-3 div.sk-estimator input.sk-toggleable__control:checked~label.sk-toggleable__label {background-color: #d4ebff;}#sk-container-id-3 div.sk-label input.sk-toggleable__control:checked~label.sk-toggleable__label {background-color: #d4ebff;}#sk-container-id-3 input.sk-hidden--visually {border: 0;clip: rect(1px 1px 1px 1px);clip: rect(1px, 1px, 1px, 1px);height: 1px;margin: -1px;overflow: hidden;padding: 0;position: absolute;width: 1px;}#sk-container-id-3 div.sk-estimator {font-family: monospace;background-color: #f0f8ff;border: 1px dotted black;border-radius: 0.25em;box-sizing: border-box;margin-bottom: 0.5em;}#sk-container-id-3 div.sk-estimator:hover {background-color: #d4ebff;}#sk-container-id-3 div.sk-parallel-item::after {content: \"\";width: 100%;border-bottom: 1px solid gray;flex-grow: 1;}#sk-container-id-3 div.sk-label:hover label.sk-toggleable__label {background-color: #d4ebff;}#sk-container-id-3 div.sk-serial::before {content: \"\";position: absolute;border-left: 1px solid gray;box-sizing: border-box;top: 0;bottom: 0;left: 50%;z-index: 0;}#sk-container-id-3 div.sk-serial {display: flex;flex-direction: column;align-items: center;background-color: white;padding-right: 0.2em;padding-left: 0.2em;position: relative;}#sk-container-id-3 div.sk-item {position: relative;z-index: 1;}#sk-container-id-3 div.sk-parallel {display: flex;align-items: stretch;justify-content: center;background-color: white;position: relative;}#sk-container-id-3 div.sk-item::before, #sk-container-id-3 div.sk-parallel-item::before {content: \"\";position: absolute;border-left: 1px solid gray;box-sizing: border-box;top: 0;bottom: 0;left: 50%;z-index: -1;}#sk-container-id-3 div.sk-parallel-item {display: flex;flex-direction: column;z-index: 1;position: relative;background-color: white;}#sk-container-id-3 div.sk-parallel-item:first-child::after {align-self: flex-end;width: 50%;}#sk-container-id-3 div.sk-parallel-item:last-child::after {align-self: flex-start;width: 50%;}#sk-container-id-3 div.sk-parallel-item:only-child::after {width: 0;}#sk-container-id-3 div.sk-dashed-wrapped {border: 1px dashed gray;margin: 0 0.4em 0.5em 0.4em;box-sizing: border-box;padding-bottom: 0.4em;background-color: white;}#sk-container-id-3 div.sk-label label {font-family: monospace;font-weight: bold;display: inline-block;line-height: 1.2em;}#sk-container-id-3 div.sk-label-container {text-align: center;}#sk-container-id-3 div.sk-container {/* jupyter's `normalize.less` sets `[hidden] { display: none; }` but bootstrap.min.css set `[hidden] { display: none !important; }` so we also need the `!important` here to be able to override the default hidden behavior on the sphinx rendered scikit-learn.org. See: https://github.com/scikit-learn/scikit-learn/issues/21755 */display: inline-block !important;position: relative;}#sk-container-id-3 div.sk-text-repr-fallback {display: none;}</style><div id=\"sk-container-id-3\" class=\"sk-top-container\"><div class=\"sk-text-repr-fallback\"><pre>LinearRegression()</pre><b>In a Jupyter environment, please rerun this cell to show the HTML representation or trust the notebook. <br />On GitHub, the HTML representation is unable to render, please try loading this page with nbviewer.org.</b></div><div class=\"sk-container\" hidden><div class=\"sk-item\"><div class=\"sk-estimator sk-toggleable\"><input class=\"sk-toggleable__control sk-hidden--visually\" id=\"sk-estimator-id-3\" type=\"checkbox\" checked><label for=\"sk-estimator-id-3\" class=\"sk-toggleable__label sk-toggleable__label-arrow\">LinearRegression</label><div class=\"sk-toggleable__content\"><pre>LinearRegression()</pre></div></div></div></div></div>"
      ],
      "text/plain": [
       "LinearRegression()"
      ]
     },
     "execution_count": 29,
     "metadata": {},
     "output_type": "execute_result"
    }
   ],
   "source": [
    "regressor = LinearRegression()  \n",
    "regressor.fit(X_train, y_train)"
   ]
  },
  {
   "cell_type": "code",
   "execution_count": 30,
   "id": "72ad7841",
   "metadata": {
    "execution": {
     "iopub.execute_input": "2023-05-10T00:30:28.397884Z",
     "iopub.status.busy": "2023-05-10T00:30:28.397799Z",
     "iopub.status.idle": "2023-05-10T00:30:28.399495Z",
     "shell.execute_reply": "2023-05-10T00:30:28.399247Z"
    }
   },
   "outputs": [
    {
     "name": "stdout",
     "output_type": "stream",
     "text": [
      "[30.28846154]\n"
     ]
    }
   ],
   "source": [
    "#To retrieve the intercept:\n",
    "print(regressor.intercept_)"
   ]
  },
  {
   "cell_type": "code",
   "execution_count": 31,
   "id": "fe4c93c2",
   "metadata": {
    "execution": {
     "iopub.execute_input": "2023-05-10T00:30:28.400803Z",
     "iopub.status.busy": "2023-05-10T00:30:28.400721Z",
     "iopub.status.idle": "2023-05-10T00:30:28.402552Z",
     "shell.execute_reply": "2023-05-10T00:30:28.402318Z"
    }
   },
   "outputs": [
    {
     "name": "stdout",
     "output_type": "stream",
     "text": [
      "[[0.90811966]]\n"
     ]
    }
   ],
   "source": [
    "#For retrieving the slope:\n",
    "print(regressor.coef_)\n",
    "y_pred = regressor.predict(X_test)"
   ]
  },
  {
   "cell_type": "code",
   "execution_count": 32,
   "id": "90ab03e1",
   "metadata": {
    "execution": {
     "iopub.execute_input": "2023-05-10T00:30:28.403921Z",
     "iopub.status.busy": "2023-05-10T00:30:28.403840Z",
     "iopub.status.idle": "2023-05-10T00:30:28.410787Z",
     "shell.execute_reply": "2023-05-10T00:30:28.410545Z"
    }
   },
   "outputs": [
    {
     "ename": "AttributeError",
     "evalue": "'IntegerArray' object has no attribute 'flatten'",
     "output_type": "error",
     "traceback": [
      "\u001b[0;31m---------------------------------------------------------------------------\u001b[0m",
      "\u001b[0;31mAttributeError\u001b[0m                            Traceback (most recent call last)",
      "Cell \u001b[0;32mIn [32], line 1\u001b[0m\n\u001b[0;32m----> 1\u001b[0m df2 \u001b[38;5;241m=\u001b[39m pd\u001b[38;5;241m.\u001b[39mDataFrame({\u001b[38;5;124m'\u001b[39m\u001b[38;5;124mActual\u001b[39m\u001b[38;5;124m'\u001b[39m: \u001b[43my_test\u001b[49m\u001b[38;5;241;43m.\u001b[39;49m\u001b[43mflatten\u001b[49m(), \u001b[38;5;124m'\u001b[39m\u001b[38;5;124mPredicted\u001b[39m\u001b[38;5;124m'\u001b[39m: y_pred\u001b[38;5;241m.\u001b[39mflatten()})\n\u001b[1;32m      2\u001b[0m df2\n",
      "\u001b[0;31mAttributeError\u001b[0m: 'IntegerArray' object has no attribute 'flatten'"
     ]
    }
   ],
   "source": [
    "df2 = pd.DataFrame({'Actual': y_test.flatten(), 'Predicted': y_pred.flatten()})\n",
    "df2"
   ]
  },
  {
   "cell_type": "code",
   "execution_count": 33,
   "id": "780313b0",
   "metadata": {
    "execution": {
     "iopub.execute_input": "2023-05-10T00:30:28.412074Z",
     "iopub.status.busy": "2023-05-10T00:30:28.411989Z",
     "iopub.status.idle": "2023-05-10T00:30:28.416360Z",
     "shell.execute_reply": "2023-05-10T00:30:28.416134Z"
    },
    "lines_to_next_cell": 2
   },
   "outputs": [
    {
     "data": {
      "text/html": [
       "<div>\n",
       "<style scoped>\n",
       "    .dataframe tbody tr th:only-of-type {\n",
       "        vertical-align: middle;\n",
       "    }\n",
       "\n",
       "    .dataframe tbody tr th {\n",
       "        vertical-align: top;\n",
       "    }\n",
       "\n",
       "    .dataframe thead th {\n",
       "        text-align: right;\n",
       "    }\n",
       "</style>\n",
       "<table border=\"1\" class=\"dataframe\">\n",
       "  <thead>\n",
       "    <tr style=\"text-align: right;\">\n",
       "      <th></th>\n",
       "      <th>Actual</th>\n",
       "      <th>Predicted</th>\n",
       "    </tr>\n",
       "  </thead>\n",
       "  <tbody>\n",
       "    <tr>\n",
       "      <th>0</th>\n",
       "      <td>(28,)</td>\n",
       "      <td>42.094017</td>\n",
       "    </tr>\n",
       "    <tr>\n",
       "      <th>1</th>\n",
       "      <td>(73,)</td>\n",
       "      <td>48.450855</td>\n",
       "    </tr>\n",
       "    <tr>\n",
       "      <th>2</th>\n",
       "      <td>(53,)</td>\n",
       "      <td>49.358974</td>\n",
       "    </tr>\n",
       "    <tr>\n",
       "      <th>3</th>\n",
       "      <td>(37,)</td>\n",
       "      <td>39.369658</td>\n",
       "    </tr>\n",
       "  </tbody>\n",
       "</table>\n",
       "</div>"
      ],
      "text/plain": [
       "  Actual  Predicted\n",
       "0  (28,)  42.094017\n",
       "1  (73,)  48.450855\n",
       "2  (53,)  49.358974\n",
       "3  (37,)  39.369658"
      ]
     },
     "execution_count": 33,
     "metadata": {},
     "output_type": "execute_result"
    }
   ],
   "source": [
    "df2 = pd.DataFrame({'Actual': y_test, 'Predicted': y_pred.flatten()})\n",
    "df2"
   ]
  }
 ],
 "metadata": {
  "jupytext": {
   "cell_metadata_filter": "-all",
   "main_language": "python",
   "notebook_metadata_filter": "-all"
  },
  "language_info": {
   "codemirror_mode": {
    "name": "ipython",
    "version": 3
   },
   "file_extension": ".py",
   "mimetype": "text/x-python",
   "name": "python",
   "nbconvert_exporter": "python",
   "pygments_lexer": "ipython3",
   "version": "3.9.12"
  }
 },
 "nbformat": 4,
 "nbformat_minor": 5
}
