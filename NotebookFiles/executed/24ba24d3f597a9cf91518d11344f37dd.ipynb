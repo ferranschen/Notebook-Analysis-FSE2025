{
 "cells": [
  {
   "cell_type": "code",
   "execution_count": 1,
   "id": "c73031a0",
   "metadata": {
    "execution": {
     "iopub.execute_input": "2023-05-10T02:14:16.007178Z",
     "iopub.status.busy": "2023-05-10T02:14:16.007021Z",
     "iopub.status.idle": "2023-05-10T02:14:16.390531Z",
     "shell.execute_reply": "2023-05-10T02:14:16.390224Z"
    }
   },
   "outputs": [],
   "source": [
    "import os\n",
    "import pandas\n",
    "from google.cloud import bigquery\n",
    "from google.oauth2 import service_account\n",
    "from google.cloud.bigquery import magics"
   ]
  },
  {
   "cell_type": "code",
   "execution_count": 2,
   "id": "59dd96fa",
   "metadata": {
    "execution": {
     "iopub.execute_input": "2023-05-10T02:14:16.392304Z",
     "iopub.status.busy": "2023-05-10T02:14:16.392159Z",
     "iopub.status.idle": "2023-05-10T02:14:16.399388Z",
     "shell.execute_reply": "2023-05-10T02:14:16.399060Z"
    }
   },
   "outputs": [],
   "source": [
    "BIGQUERY_PROJECT = 'ironhacks-data'\n",
    "bigquery_client = bigquery.Client(project=BIGQUERY_PROJECT)\n",
    "query = \"\"\"\n",
    "SELECT COUNT(*)\n",
    "FROM `ironhacks-data.ironhacks_training.covid19_cases`\n",
    "\"\"\""
   ]
  },
  {
   "cell_type": "code",
   "execution_count": 3,
   "id": "d5543352",
   "metadata": {
    "execution": {
     "iopub.execute_input": "2023-05-10T02:14:16.401118Z",
     "iopub.status.busy": "2023-05-10T02:14:16.401008Z",
     "iopub.status.idle": "2023-05-10T02:14:18.070564Z",
     "shell.execute_reply": "2023-05-10T02:14:18.069843Z"
    }
   },
   "outputs": [
    {
     "name": "stdout",
     "output_type": "stream",
     "text": [
      "Columns:\n",
      "f0_\n",
      "\n",
      "Results:\n",
      "   f0_\n",
      "0   46\n"
     ]
    }
   ],
   "source": [
    "query_job = bigquery_client.query(query)\n",
    "covid19_cases_data = query_job.to_dataframe()\n",
    "print(\"Columns:\")\n",
    "print('\\n'.join(covid19_cases_data.columns))\n",
    "print(\"\\nResults:\")\n",
    "print(covid19_cases_data.head())"
   ]
  },
  {
   "cell_type": "code",
   "execution_count": 4,
   "id": "a25b854f",
   "metadata": {
    "execution": {
     "iopub.execute_input": "2023-05-10T02:14:18.075221Z",
     "iopub.status.busy": "2023-05-10T02:14:18.074823Z",
     "iopub.status.idle": "2023-05-10T02:14:18.080665Z",
     "shell.execute_reply": "2023-05-10T02:14:18.079452Z"
    }
   },
   "outputs": [],
   "source": [
    "import os\n",
    "import pandas\n",
    "from google.cloud import bigquery\n",
    "from google.oauth2 import service_account\n",
    "from google.cloud.bigquery import magics"
   ]
  },
  {
   "cell_type": "code",
   "execution_count": 5,
   "id": "7e718c56",
   "metadata": {
    "execution": {
     "iopub.execute_input": "2023-05-10T02:14:18.084614Z",
     "iopub.status.busy": "2023-05-10T02:14:18.084274Z",
     "iopub.status.idle": "2023-05-10T02:14:18.097392Z",
     "shell.execute_reply": "2023-05-10T02:14:18.096656Z"
    }
   },
   "outputs": [],
   "source": [
    "BIGQUERY_PROJECT = 'ironhacks-data'\n",
    "bigquery_client = bigquery.Client(project=BIGQUERY_PROJECT)\n",
    "query = \"\"\"\n",
    "SELECT COUNT(*)\n",
    "FROM `ironhacks-data.ironhacks_training.covid19_cases`\n",
    "\"\"\""
   ]
  },
  {
   "cell_type": "code",
   "execution_count": 6,
   "id": "b336736c",
   "metadata": {
    "execution": {
     "iopub.execute_input": "2023-05-10T02:14:18.101100Z",
     "iopub.status.busy": "2023-05-10T02:14:18.100814Z",
     "iopub.status.idle": "2023-05-10T02:14:19.670712Z",
     "shell.execute_reply": "2023-05-10T02:14:19.669995Z"
    }
   },
   "outputs": [
    {
     "name": "stdout",
     "output_type": "stream",
     "text": [
      "Columns:\n",
      "f0_\n",
      "\n",
      "Results:\n",
      "   f0_\n",
      "0   46\n"
     ]
    }
   ],
   "source": [
    "query_job = bigquery_client.query(query)\n",
    "covid19_cases_data = query_job.to_dataframe()\n",
    "print(\"Columns:\")\n",
    "print('\\n'.join(covid19_cases_data.columns))\n",
    "print(\"\\nResults:\")\n",
    "print(covid19_cases_data.head())"
   ]
  },
  {
   "cell_type": "code",
   "execution_count": 7,
   "id": "c422e7ff",
   "metadata": {
    "execution": {
     "iopub.execute_input": "2023-05-10T02:14:19.675351Z",
     "iopub.status.busy": "2023-05-10T02:14:19.674899Z",
     "iopub.status.idle": "2023-05-10T02:14:19.682257Z",
     "shell.execute_reply": "2023-05-10T02:14:19.680814Z"
    }
   },
   "outputs": [],
   "source": [
    "import os\n",
    "import pandas\n",
    "from google.cloud import bigquery\n",
    "from google.oauth2 import service_account\n",
    "from google.cloud.bigquery import magics"
   ]
  },
  {
   "cell_type": "code",
   "execution_count": 8,
   "id": "9db6feb4",
   "metadata": {
    "execution": {
     "iopub.execute_input": "2023-05-10T02:14:19.686568Z",
     "iopub.status.busy": "2023-05-10T02:14:19.686111Z",
     "iopub.status.idle": "2023-05-10T02:14:19.701766Z",
     "shell.execute_reply": "2023-05-10T02:14:19.700920Z"
    }
   },
   "outputs": [],
   "source": [
    "BIGQUERY_PROJECT = 'ironhacks-data'\n",
    "bigquery_client = bigquery.Client(project=BIGQUERY_PROJECT)\n",
    "query = \"\"\"\n",
    "SELECT COUNT(*)\n",
    "FROM `ironhacks-data.ironhacks_training.covid19_cases`\n",
    "\"\"\""
   ]
  },
  {
   "cell_type": "code",
   "execution_count": 9,
   "id": "a6146cef",
   "metadata": {
    "execution": {
     "iopub.execute_input": "2023-05-10T02:14:19.705349Z",
     "iopub.status.busy": "2023-05-10T02:14:19.705069Z",
     "iopub.status.idle": "2023-05-10T02:14:23.145577Z",
     "shell.execute_reply": "2023-05-10T02:14:23.144389Z"
    },
    "lines_to_next_cell": 2
   },
   "outputs": [
    {
     "name": "stdout",
     "output_type": "stream",
     "text": [
      "   f0_\n",
      "0   46\n"
     ]
    }
   ],
   "source": [
    "query_job = bigquery_client.query(query)\n",
    "covid19_cases_data = query_job.to_dataframe()\n",
    "query_job = bigquery_client.query(query)\n",
    "covid19_cases_data = query_job.to_dataframe()\n",
    "print(covid19_cases_data)"
   ]
  }
 ],
 "metadata": {
  "jupytext": {
   "cell_metadata_filter": "-all",
   "main_language": "python",
   "notebook_metadata_filter": "-all"
  },
  "kernelspec": {
   "display_name": "base",
   "language": "python",
   "name": "python3"
  },
  "language_info": {
   "codemirror_mode": {
    "name": "ipython",
    "version": 3
   },
   "file_extension": ".py",
   "mimetype": "text/x-python",
   "name": "python",
   "nbconvert_exporter": "python",
   "pygments_lexer": "ipython3",
   "version": "3.9.12"
  }
 },
 "nbformat": 4,
 "nbformat_minor": 5
}
