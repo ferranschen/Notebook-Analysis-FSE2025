{
 "cells": [
  {
   "cell_type": "code",
   "execution_count": 1,
   "id": "71b29fd9",
   "metadata": {
    "execution": {
     "iopub.execute_input": "2023-05-09T22:09:19.161911Z",
     "iopub.status.busy": "2023-05-09T22:09:19.161077Z",
     "iopub.status.idle": "2023-05-09T22:09:19.171775Z",
     "shell.execute_reply": "2023-05-09T22:09:19.171169Z"
    }
   },
   "outputs": [],
   "source": [
    "query = \"\"\"\n",
    "SELECT COUNT(*)\n",
    "FROM `ironhacks-data.ironhacks_training.covid19_cases`\n",
    "\"\"\""
   ]
  },
  {
   "cell_type": "code",
   "execution_count": 2,
   "id": "16744348",
   "metadata": {
    "execution": {
     "iopub.execute_input": "2023-05-09T22:09:19.174972Z",
     "iopub.status.busy": "2023-05-09T22:09:19.174733Z",
     "iopub.status.idle": "2023-05-09T22:09:19.275285Z",
     "shell.execute_reply": "2023-05-09T22:09:19.275023Z"
    }
   },
   "outputs": [
    {
     "ename": "NameError",
     "evalue": "name 'bigquery_client' is not defined",
     "output_type": "error",
     "traceback": [
      "\u001b[0;31m---------------------------------------------------------------------------\u001b[0m",
      "\u001b[0;31mNameError\u001b[0m                                 Traceback (most recent call last)",
      "Cell \u001b[0;32mIn [2], line 1\u001b[0m\n\u001b[0;32m----> 1\u001b[0m query_job \u001b[38;5;241m=\u001b[39m \u001b[43mbigquery_client\u001b[49m\u001b[38;5;241m.\u001b[39mquery(query)\n\u001b[1;32m      2\u001b[0m covid19_cases_data \u001b[38;5;241m=\u001b[39m query_job\u001b[38;5;241m.\u001b[39mto_dataframe()\n\u001b[1;32m      3\u001b[0m \u001b[38;5;28mprint\u001b[39m(covid19_cases_data)\n",
      "\u001b[0;31mNameError\u001b[0m: name 'bigquery_client' is not defined"
     ]
    }
   ],
   "source": [
    "query_job = bigquery_client.query(query)\n",
    "covid19_cases_data = query_job.to_dataframe()\n",
    "print(covid19_cases_data)"
   ]
  },
  {
   "cell_type": "code",
   "execution_count": 3,
   "id": "73e1c40d",
   "metadata": {
    "execution": {
     "iopub.execute_input": "2023-05-09T22:09:19.276749Z",
     "iopub.status.busy": "2023-05-09T22:09:19.276653Z",
     "iopub.status.idle": "2023-05-09T22:09:19.283380Z",
     "shell.execute_reply": "2023-05-09T22:09:19.283144Z"
    }
   },
   "outputs": [
    {
     "ename": "NameError",
     "evalue": "name 'bigquery' is not defined",
     "output_type": "error",
     "traceback": [
      "\u001b[0;31m---------------------------------------------------------------------------\u001b[0m",
      "\u001b[0;31mNameError\u001b[0m                                 Traceback (most recent call last)",
      "Cell \u001b[0;32mIn [3], line 2\u001b[0m\n\u001b[1;32m      1\u001b[0m BIGQUERY_PROJECT \u001b[38;5;241m=\u001b[39m \u001b[38;5;124m'\u001b[39m\u001b[38;5;124mironhacks-data\u001b[39m\u001b[38;5;124m'\u001b[39m\n\u001b[0;32m----> 2\u001b[0m bigquery_client \u001b[38;5;241m=\u001b[39m \u001b[43mbigquery\u001b[49m\u001b[38;5;241m.\u001b[39mClient(project\u001b[38;5;241m=\u001b[39mBIGQUERY_PROJECT)\n\u001b[1;32m      3\u001b[0m query \u001b[38;5;241m=\u001b[39m \u001b[38;5;124m\"\"\"\u001b[39m\n\u001b[1;32m      4\u001b[0m \u001b[38;5;124mSELECT COUNT(*)\u001b[39m\n\u001b[1;32m      5\u001b[0m \u001b[38;5;124mFROM `ironhacks-data.ironhacks_training.covid19_cases`\u001b[39m\n\u001b[1;32m      6\u001b[0m \u001b[38;5;124m\"\"\"\u001b[39m\n",
      "\u001b[0;31mNameError\u001b[0m: name 'bigquery' is not defined"
     ]
    }
   ],
   "source": [
    "BIGQUERY_PROJECT = 'ironhacks-data'\n",
    "bigquery_client = bigquery.Client(project=BIGQUERY_PROJECT)\n",
    "query = \"\"\"\n",
    "SELECT COUNT(*)\n",
    "FROM `ironhacks-data.ironhacks_training.covid19_cases`\n",
    "\"\"\""
   ]
  },
  {
   "cell_type": "code",
   "execution_count": 4,
   "id": "18d79008",
   "metadata": {
    "execution": {
     "iopub.execute_input": "2023-05-09T22:09:19.284744Z",
     "iopub.status.busy": "2023-05-09T22:09:19.284665Z",
     "iopub.status.idle": "2023-05-09T22:09:19.291128Z",
     "shell.execute_reply": "2023-05-09T22:09:19.290884Z"
    }
   },
   "outputs": [
    {
     "ename": "NameError",
     "evalue": "name 'bigquery_client' is not defined",
     "output_type": "error",
     "traceback": [
      "\u001b[0;31m---------------------------------------------------------------------------\u001b[0m",
      "\u001b[0;31mNameError\u001b[0m                                 Traceback (most recent call last)",
      "Cell \u001b[0;32mIn [4], line 1\u001b[0m\n\u001b[0;32m----> 1\u001b[0m query_job \u001b[38;5;241m=\u001b[39m \u001b[43mbigquery_client\u001b[49m\u001b[38;5;241m.\u001b[39mquery(query)\n\u001b[1;32m      2\u001b[0m covid19_cases_data \u001b[38;5;241m=\u001b[39m query_job\u001b[38;5;241m.\u001b[39mto_dataframe()\n\u001b[1;32m      3\u001b[0m \u001b[38;5;28mprint\u001b[39m(covid19_cases_data)\n",
      "\u001b[0;31mNameError\u001b[0m: name 'bigquery_client' is not defined"
     ]
    }
   ],
   "source": [
    "query_job = bigquery_client.query(query)\n",
    "covid19_cases_data = query_job.to_dataframe()\n",
    "print(covid19_cases_data)"
   ]
  },
  {
   "cell_type": "code",
   "execution_count": 5,
   "id": "57d475fb",
   "metadata": {
    "execution": {
     "iopub.execute_input": "2023-05-09T22:09:19.292488Z",
     "iopub.status.busy": "2023-05-09T22:09:19.292408Z",
     "iopub.status.idle": "2023-05-09T22:09:19.686000Z",
     "shell.execute_reply": "2023-05-09T22:09:19.685631Z"
    }
   },
   "outputs": [],
   "source": [
    "from google.cloud import bigquery\n",
    "BIGQUERY_PROJECT = 'ironhacks-data'\n",
    "bigquery_client = bigquery.Client(project=BIGQUERY_PROJECT)\n",
    "query = \"\"\"\n",
    "SELECT COUNT(*)\n",
    "FROM `ironhacks-data.ironhacks_training.covid19_cases`\n",
    "\"\"\""
   ]
  },
  {
   "cell_type": "code",
   "execution_count": 6,
   "id": "fff2fe37",
   "metadata": {
    "execution": {
     "iopub.execute_input": "2023-05-09T22:09:19.687849Z",
     "iopub.status.busy": "2023-05-09T22:09:19.687655Z",
     "iopub.status.idle": "2023-05-09T22:09:22.912615Z",
     "shell.execute_reply": "2023-05-09T22:09:22.911749Z"
    }
   },
   "outputs": [
    {
     "name": "stdout",
     "output_type": "stream",
     "text": [
      "   f0_\n",
      "0   46\n"
     ]
    }
   ],
   "source": [
    "query_job = bigquery_client.query(query)\n",
    "covid19_cases_data = query_job.to_dataframe()\n",
    "print(covid19_cases_data)"
   ]
  },
  {
   "cell_type": "code",
   "execution_count": 7,
   "id": "9c0d53c7",
   "metadata": {
    "execution": {
     "iopub.execute_input": "2023-05-09T22:09:22.916411Z",
     "iopub.status.busy": "2023-05-09T22:09:22.916080Z",
     "iopub.status.idle": "2023-05-09T22:09:22.929517Z",
     "shell.execute_reply": "2023-05-09T22:09:22.928883Z"
    }
   },
   "outputs": [],
   "source": [
    "from google.cloud import bigquery\n",
    "import pandas as pd\n",
    "import db_dtypes\n",
    "BIGQUERY_PROJECT = 'ironhacks-data'\n",
    "bigquery_client = bigquery.Client(project=BIGQUERY_PROJECT)\n",
    "query = \"\"\"\n",
    "SELECT COUNT(*)\n",
    "FROM `ironhacks-data.ironhacks_training.covid19_cases`\n",
    "\"\"\""
   ]
  },
  {
   "cell_type": "code",
   "execution_count": 8,
   "id": "e9691443",
   "metadata": {
    "execution": {
     "iopub.execute_input": "2023-05-09T22:09:22.932518Z",
     "iopub.status.busy": "2023-05-09T22:09:22.932285Z",
     "iopub.status.idle": "2023-05-09T22:09:25.212831Z",
     "shell.execute_reply": "2023-05-09T22:09:25.212081Z"
    }
   },
   "outputs": [
    {
     "name": "stdout",
     "output_type": "stream",
     "text": [
      "   f0_\n",
      "0   46\n"
     ]
    }
   ],
   "source": [
    "query_job = bigquery_client.query(query)\n",
    "covid19_cases_data = query_job.to_dataframe()\n",
    "print(covid19_cases_data)"
   ]
  },
  {
   "cell_type": "code",
   "execution_count": 9,
   "id": "7de59ee2",
   "metadata": {
    "execution": {
     "iopub.execute_input": "2023-05-09T22:09:25.216621Z",
     "iopub.status.busy": "2023-05-09T22:09:25.216286Z",
     "iopub.status.idle": "2023-05-09T22:09:25.220024Z",
     "shell.execute_reply": "2023-05-09T22:09:25.219364Z"
    }
   },
   "outputs": [],
   "source": [
    "from google.cloud import bigquery\n",
    "import pandas as pd"
   ]
  },
  {
   "cell_type": "code",
   "execution_count": 10,
   "id": "63919d3b",
   "metadata": {
    "execution": {
     "iopub.execute_input": "2023-05-09T22:09:25.223280Z",
     "iopub.status.busy": "2023-05-09T22:09:25.223025Z",
     "iopub.status.idle": "2023-05-09T22:09:25.235395Z",
     "shell.execute_reply": "2023-05-09T22:09:25.234733Z"
    }
   },
   "outputs": [],
   "source": [
    "BIGQUERY_PROJECT = 'ironhacks-data'\n",
    "bigquery_client = bigquery.Client(project=BIGQUERY_PROJECT)\n",
    "query = \"\"\"\n",
    "SELECT COUNT(*)\n",
    "FROM `ironhacks-data.ironhacks_training.covid19_cases`\n",
    "\"\"\""
   ]
  },
  {
   "cell_type": "code",
   "execution_count": 11,
   "id": "0cf4d947",
   "metadata": {
    "execution": {
     "iopub.execute_input": "2023-05-09T22:09:25.238840Z",
     "iopub.status.busy": "2023-05-09T22:09:25.238199Z",
     "iopub.status.idle": "2023-05-09T22:09:27.005965Z",
     "shell.execute_reply": "2023-05-09T22:09:27.005223Z"
    }
   },
   "outputs": [
    {
     "name": "stdout",
     "output_type": "stream",
     "text": [
      "   f0_\n",
      "0   46\n"
     ]
    }
   ],
   "source": [
    "query_job = bigquery_client.query(query)\n",
    "covid19_cases_data = query_job.to_dataframe()\n",
    "print(covid19_cases_data)"
   ]
  },
  {
   "cell_type": "code",
   "execution_count": 12,
   "id": "bfec5385",
   "metadata": {
    "execution": {
     "iopub.execute_input": "2023-05-09T22:09:27.009956Z",
     "iopub.status.busy": "2023-05-09T22:09:27.009441Z",
     "iopub.status.idle": "2023-05-09T22:09:27.013163Z",
     "shell.execute_reply": "2023-05-09T22:09:27.012648Z"
    }
   },
   "outputs": [],
   "source": [
    "from google.cloud import bigquery\n",
    "import pandas as pd\n",
    "import numpy as np"
   ]
  },
  {
   "cell_type": "code",
   "execution_count": 13,
   "id": "44668e0b",
   "metadata": {
    "execution": {
     "iopub.execute_input": "2023-05-09T22:09:27.016275Z",
     "iopub.status.busy": "2023-05-09T22:09:27.015860Z",
     "iopub.status.idle": "2023-05-09T22:09:27.027536Z",
     "shell.execute_reply": "2023-05-09T22:09:27.026875Z"
    }
   },
   "outputs": [],
   "source": [
    "BIGQUERY_PROJECT = 'ironhacks-data'\n",
    "bigquery_client = bigquery.Client(project=BIGQUERY_PROJECT)\n",
    "query = \"\"\"\n",
    "SELECT COUNT(*)\n",
    "FROM `ironhacks-data.ironhacks_training.covid19_cases`\n",
    "\"\"\""
   ]
  },
  {
   "cell_type": "code",
   "execution_count": 14,
   "id": "eef6d7b6",
   "metadata": {
    "execution": {
     "iopub.execute_input": "2023-05-09T22:09:27.030346Z",
     "iopub.status.busy": "2023-05-09T22:09:27.030116Z",
     "iopub.status.idle": "2023-05-09T22:09:28.690357Z",
     "shell.execute_reply": "2023-05-09T22:09:28.689541Z"
    }
   },
   "outputs": [
    {
     "name": "stdout",
     "output_type": "stream",
     "text": [
      "   f0_\n",
      "0   46\n"
     ]
    }
   ],
   "source": [
    "query_job = bigquery_client.query(query)\n",
    "covid19_cases_data = query_job.to_dataframe()\n",
    "print(covid19_cases_data)"
   ]
  },
  {
   "cell_type": "code",
   "execution_count": 15,
   "id": "735eaaa0",
   "metadata": {
    "execution": {
     "iopub.execute_input": "2023-05-09T22:09:28.693836Z",
     "iopub.status.busy": "2023-05-09T22:09:28.693536Z",
     "iopub.status.idle": "2023-05-09T22:09:28.719731Z",
     "shell.execute_reply": "2023-05-09T22:09:28.719222Z"
    }
   },
   "outputs": [],
   "source": [
    "import os\n",
    "import pandas\n",
    "from google.cloud import bigquery\n",
    "from google.oauth2 import service_account\n",
    "from google.cloud.bigquery import magics"
   ]
  },
  {
   "cell_type": "code",
   "execution_count": 16,
   "id": "a9df69e0",
   "metadata": {
    "execution": {
     "iopub.execute_input": "2023-05-09T22:09:28.722304Z",
     "iopub.status.busy": "2023-05-09T22:09:28.722095Z",
     "iopub.status.idle": "2023-05-09T22:09:28.732117Z",
     "shell.execute_reply": "2023-05-09T22:09:28.731521Z"
    }
   },
   "outputs": [],
   "source": [
    "BIGQUERY_PROJECT = 'ironhacks-data'\n",
    "bigquery_client = bigquery.Client(project=BIGQUERY_PROJECT)\n",
    "query = \"\"\"\n",
    "SELECT COUNT(*)\n",
    "FROM `ironhacks-data.ironhacks_training.covid19_cases`\n",
    "\"\"\""
   ]
  },
  {
   "cell_type": "code",
   "execution_count": 17,
   "id": "d7fd7b46",
   "metadata": {
    "execution": {
     "iopub.execute_input": "2023-05-09T22:09:28.734782Z",
     "iopub.status.busy": "2023-05-09T22:09:28.734581Z",
     "iopub.status.idle": "2023-05-09T22:09:30.556996Z",
     "shell.execute_reply": "2023-05-09T22:09:30.556303Z"
    }
   },
   "outputs": [
    {
     "name": "stdout",
     "output_type": "stream",
     "text": [
      "   f0_\n",
      "0   46\n"
     ]
    }
   ],
   "source": [
    "query_job = bigquery_client.query(query)\n",
    "covid19_cases_data = query_job.to_dataframe()\n",
    "print(covid19_cases_data)"
   ]
  },
  {
   "cell_type": "code",
   "execution_count": 18,
   "id": "9e9cc48e",
   "metadata": {
    "execution": {
     "iopub.execute_input": "2023-05-09T22:09:30.560638Z",
     "iopub.status.busy": "2023-05-09T22:09:30.560328Z",
     "iopub.status.idle": "2023-05-09T22:09:33.007231Z",
     "shell.execute_reply": "2023-05-09T22:09:33.006603Z"
    }
   },
   "outputs": [
    {
     "name": "stdout",
     "output_type": "stream",
     "text": [
      "\u001b[33mWARNING: Ignoring invalid distribution -umpy (/opt/anaconda3/lib/python3.9/site-packages)\u001b[0m\r\n",
      "\u001b[33mWARNING: Ignoring invalid distribution -umpy (/opt/anaconda3/lib/python3.9/site-packages)\u001b[0m\r\n",
      "Requirement already satisfied: db-dtypes in /opt/anaconda3/lib/python3.9/site-packages (1.0.5)\r\n",
      "Requirement already satisfied: packaging>=17.0 in /opt/anaconda3/lib/python3.9/site-packages (from db-dtypes) (21.3)\r\n",
      "Requirement already satisfied: numpy<2.0dev,>=1.16.6 in /opt/anaconda3/lib/python3.9/site-packages (from db-dtypes) (1.22.4)\r\n",
      "Requirement already satisfied: pyarrow>=3.0.0 in /opt/anaconda3/lib/python3.9/site-packages (from db-dtypes) (10.0.1)\r\n",
      "Requirement already satisfied: pandas<2.0dev,>=0.24.2 in /opt/anaconda3/lib/python3.9/site-packages (from db-dtypes) (1.5.3)\r\n",
      "Requirement already satisfied: pyparsing!=3.0.5,>=2.0.2 in /opt/anaconda3/lib/python3.9/site-packages (from packaging>=17.0->db-dtypes) (3.0.4)\r\n",
      "Requirement already satisfied: pytz>=2020.1 in /opt/anaconda3/lib/python3.9/site-packages (from pandas<2.0dev,>=0.24.2->db-dtypes) (2021.3)\r\n"
     ]
    },
    {
     "name": "stdout",
     "output_type": "stream",
     "text": [
      "Requirement already satisfied: python-dateutil>=2.8.1 in /opt/anaconda3/lib/python3.9/site-packages (from pandas<2.0dev,>=0.24.2->db-dtypes) (2.8.2)\r\n",
      "Requirement already satisfied: six>=1.5 in /opt/anaconda3/lib/python3.9/site-packages (from python-dateutil>=2.8.1->pandas<2.0dev,>=0.24.2->db-dtypes) (1.16.0)\r\n",
      "\u001b[33mWARNING: Ignoring invalid distribution -umpy (/opt/anaconda3/lib/python3.9/site-packages)\u001b[0m\r\n"
     ]
    },
    {
     "name": "stdout",
     "output_type": "stream",
     "text": [
      "\u001b[33mWARNING: Ignoring invalid distribution -umpy (/opt/anaconda3/lib/python3.9/site-packages)\u001b[0m\r\n",
      "\u001b[33mWARNING: Ignoring invalid distribution -umpy (/opt/anaconda3/lib/python3.9/site-packages)\u001b[0m\r\n",
      "\u001b[33mWARNING: Ignoring invalid distribution -umpy (/opt/anaconda3/lib/python3.9/site-packages)\u001b[0m\r\n"
     ]
    }
   ],
   "source": [
    "get_ipython().system('pip install db-dtypes')"
   ]
  },
  {
   "cell_type": "code",
   "execution_count": 19,
   "id": "19ebdc40",
   "metadata": {
    "execution": {
     "iopub.execute_input": "2023-05-09T22:09:33.010345Z",
     "iopub.status.busy": "2023-05-09T22:09:33.010113Z",
     "iopub.status.idle": "2023-05-09T22:09:33.013474Z",
     "shell.execute_reply": "2023-05-09T22:09:33.013014Z"
    }
   },
   "outputs": [],
   "source": [
    "import os\n",
    "import pandas\n",
    "from google.cloud import bigquery\n",
    "from google.oauth2 import service_account\n",
    "from google.cloud.bigquery import magics"
   ]
  },
  {
   "cell_type": "code",
   "execution_count": 20,
   "id": "8fa32beb",
   "metadata": {
    "execution": {
     "iopub.execute_input": "2023-05-09T22:09:33.015950Z",
     "iopub.status.busy": "2023-05-09T22:09:33.015786Z",
     "iopub.status.idle": "2023-05-09T22:09:33.024833Z",
     "shell.execute_reply": "2023-05-09T22:09:33.024292Z"
    }
   },
   "outputs": [],
   "source": [
    "BIGQUERY_PROJECT = 'ironhacks-data'\n",
    "bigquery_client = bigquery.Client(project=BIGQUERY_PROJECT)\n",
    "query = \"\"\"\n",
    "SELECT COUNT(*)\n",
    "FROM `ironhacks-data.ironhacks_training.covid19_cases`\n",
    "\"\"\""
   ]
  },
  {
   "cell_type": "code",
   "execution_count": 21,
   "id": "7afd2e29",
   "metadata": {
    "execution": {
     "iopub.execute_input": "2023-05-09T22:09:33.027252Z",
     "iopub.status.busy": "2023-05-09T22:09:33.027058Z",
     "iopub.status.idle": "2023-05-09T22:09:34.677292Z",
     "shell.execute_reply": "2023-05-09T22:09:34.676599Z"
    },
    "lines_to_next_cell": 2
   },
   "outputs": [
    {
     "name": "stdout",
     "output_type": "stream",
     "text": [
      "   f0_\n",
      "0   46\n"
     ]
    }
   ],
   "source": [
    "query_job = bigquery_client.query(query)\n",
    "covid19_cases_data = query_job.to_dataframe()\n",
    "print(covid19_cases_data)"
   ]
  }
 ],
 "metadata": {
  "jupytext": {
   "cell_metadata_filter": "-all",
   "main_language": "python",
   "notebook_metadata_filter": "-all"
  },
  "kernelspec": {
   "display_name": "base",
   "language": "python",
   "name": "python3"
  },
  "language_info": {
   "codemirror_mode": {
    "name": "ipython",
    "version": 3
   },
   "file_extension": ".py",
   "mimetype": "text/x-python",
   "name": "python",
   "nbconvert_exporter": "python",
   "pygments_lexer": "ipython3",
   "version": "3.9.12"
  }
 },
 "nbformat": 4,
 "nbformat_minor": 5
}
