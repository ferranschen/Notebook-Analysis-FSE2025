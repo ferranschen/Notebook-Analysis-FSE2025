{
 "cells": [
  {
   "cell_type": "code",
   "execution_count": 1,
   "id": "858289bb",
   "metadata": {
    "execution": {
     "iopub.execute_input": "2023-05-10T01:36:40.993509Z",
     "iopub.status.busy": "2023-05-10T01:36:40.993096Z",
     "iopub.status.idle": "2023-05-10T01:36:41.015492Z",
     "shell.execute_reply": "2023-05-10T01:36:41.013564Z"
    }
   },
   "outputs": [],
   "source": [
    "get_ipython().run_cell_magic('capture', '', \"%logstop\\n%logstart -t -r -q ipython_command_log.py global\\n\\n#- IRONHACKS RESEARCH TRACKING CODE\\n#----------------------------------\\n# The following code is used to help our research team understand how you \\n# our notebook environment. We do not collect any personal information with\\n# the following code, it is used to measure when and how often you work on\\n# your submission files.\\n\\nimport os\\nfrom datetime import datetime\\nimport IPython.core.history as history\\n\\nha = history.HistoryAccessor()\\nha_tail = ha.get_tail(1)\\nha_cmd = next(ha_tail)\\nsession_id = str(ha_cmd[0])\\ncommand_id = str(ha_cmd[1])\\ntimestamp = datetime.utcnow().isoformat()\\nhistory_line = ','.join([session_id, command_id, timestamp]) + '\\\\n'\\nlogfile = open(os.environ['HOME']+'/ipython_session_log.csv', 'a')\\nlogfile.write(history_line)\\nlogfile.close()\\n\")"
   ]
  },
  {
   "cell_type": "code",
   "execution_count": 2,
   "id": "339f37f6",
   "metadata": {
    "execution": {
     "iopub.execute_input": "2023-05-10T01:36:41.029824Z",
     "iopub.status.busy": "2023-05-10T01:36:41.027782Z",
     "iopub.status.idle": "2023-05-10T01:36:41.684455Z",
     "shell.execute_reply": "2023-05-10T01:36:41.684122Z"
    }
   },
   "outputs": [],
   "source": [
    "#import cell\n",
    "import pandas as pd\n",
    "import numpy as np\n",
    "import statistics\n",
    "import csv\n",
    "import matplotlib.pyplot as plt\n",
    "from google.cloud import bigquery\n",
    "from google.oauth2 import service_account\n",
    "from google.cloud.bigquery import magics"
   ]
  },
  {
   "cell_type": "code",
   "execution_count": 3,
   "id": "c29adaea",
   "metadata": {
    "execution": {
     "iopub.execute_input": "2023-05-10T01:36:41.686387Z",
     "iopub.status.busy": "2023-05-10T01:36:41.686207Z",
     "iopub.status.idle": "2023-05-10T01:36:41.694598Z",
     "shell.execute_reply": "2023-05-10T01:36:41.694202Z"
    }
   },
   "outputs": [],
   "source": [
    "BIGQUERY_PROJECT = 'ironhacks-data'\n",
    "bigquery_client = bigquery.Client(project=BIGQUERY_PROJECT)"
   ]
  },
  {
   "cell_type": "code",
   "execution_count": 4,
   "id": "d6ab5be0",
   "metadata": {
    "execution": {
     "iopub.execute_input": "2023-05-10T01:36:41.696431Z",
     "iopub.status.busy": "2023-05-10T01:36:41.696308Z",
     "iopub.status.idle": "2023-05-10T01:36:41.698409Z",
     "shell.execute_reply": "2023-05-10T01:36:41.698149Z"
    }
   },
   "outputs": [],
   "source": [
    "#Gets the master unemployed table\n",
    "query = \"\"\"\n",
    "SELECT *\n",
    "FROM `ironhacks-data.ironhacks_competition.unemployment_data`\n",
    "\"\"\""
   ]
  },
  {
   "cell_type": "code",
   "execution_count": 5,
   "id": "4276b7b1",
   "metadata": {
    "execution": {
     "iopub.execute_input": "2023-05-10T01:36:41.699868Z",
     "iopub.status.busy": "2023-05-10T01:36:41.699768Z",
     "iopub.status.idle": "2023-05-10T01:36:43.555745Z",
     "shell.execute_reply": "2023-05-10T01:36:43.555236Z"
    }
   },
   "outputs": [
    {
     "name": "stdout",
     "output_type": "stream",
     "text": [
      "(16833, 25)\n"
     ]
    },
    {
     "data": {
      "text/html": [
       "<div>\n",
       "<style scoped>\n",
       "    .dataframe tbody tr th:only-of-type {\n",
       "        vertical-align: middle;\n",
       "    }\n",
       "\n",
       "    .dataframe tbody tr th {\n",
       "        vertical-align: top;\n",
       "    }\n",
       "\n",
       "    .dataframe thead th {\n",
       "        text-align: right;\n",
       "    }\n",
       "</style>\n",
       "<table border=\"1\" class=\"dataframe\">\n",
       "  <thead>\n",
       "    <tr style=\"text-align: right;\">\n",
       "      <th></th>\n",
       "      <th>uu_id</th>\n",
       "      <th>timeperiod</th>\n",
       "      <th>week_number</th>\n",
       "      <th>countyfips</th>\n",
       "      <th>tract</th>\n",
       "      <th>tract_name</th>\n",
       "      <th>total_claims</th>\n",
       "      <th>edu_8th_or_less</th>\n",
       "      <th>edu_grades_9_11</th>\n",
       "      <th>edu_hs_grad_equiv</th>\n",
       "      <th>edu_post_hs</th>\n",
       "      <th>edu_unknown</th>\n",
       "      <th>top_category_employer1</th>\n",
       "      <th>top_category_employer2</th>\n",
       "      <th>top_category_employer3</th>\n",
       "      <th>gender_female</th>\n",
       "      <th>gender_male</th>\n",
       "      <th>gender_na</th>\n",
       "      <th>race_amerindian</th>\n",
       "      <th>race_asian</th>\n",
       "      <th>race_black</th>\n",
       "      <th>race_noanswer</th>\n",
       "      <th>race_hawaiiannative</th>\n",
       "      <th>race_other</th>\n",
       "      <th>race_white</th>\n",
       "    </tr>\n",
       "  </thead>\n",
       "  <tbody>\n",
       "    <tr>\n",
       "      <th>0</th>\n",
       "      <td>f013068de98db1470bd986137a0c6d23</td>\n",
       "      <td>20220416</td>\n",
       "      <td>16</td>\n",
       "      <td>18003</td>\n",
       "      <td>900</td>\n",
       "      <td>Census Tract 9, Allen County, Indiana</td>\n",
       "      <td>22</td>\n",
       "      <td>0</td>\n",
       "      <td>&lt;NA&gt;</td>\n",
       "      <td>14</td>\n",
       "      <td>&lt;NA&gt;</td>\n",
       "      <td>0</td>\n",
       "      <td>31-33</td>\n",
       "      <td>51</td>\n",
       "      <td>62</td>\n",
       "      <td>&lt;NA&gt;</td>\n",
       "      <td>&lt;NA&gt;</td>\n",
       "      <td>0</td>\n",
       "      <td>0</td>\n",
       "      <td>0</td>\n",
       "      <td>11</td>\n",
       "      <td>0</td>\n",
       "      <td>0</td>\n",
       "      <td>&lt;NA&gt;</td>\n",
       "      <td>&lt;NA&gt;</td>\n",
       "    </tr>\n",
       "    <tr>\n",
       "      <th>1</th>\n",
       "      <td>21957d5517323845818d87623589e1ba</td>\n",
       "      <td>20220319</td>\n",
       "      <td>12</td>\n",
       "      <td>18089</td>\n",
       "      <td>10400</td>\n",
       "      <td>Census Tract 104, Lake County, Indiana</td>\n",
       "      <td>111</td>\n",
       "      <td>0</td>\n",
       "      <td>&lt;NA&gt;</td>\n",
       "      <td>108</td>\n",
       "      <td>&lt;NA&gt;</td>\n",
       "      <td>0</td>\n",
       "      <td>48-49</td>\n",
       "      <td>51</td>\n",
       "      <td>56</td>\n",
       "      <td>76</td>\n",
       "      <td>35</td>\n",
       "      <td>0</td>\n",
       "      <td>0</td>\n",
       "      <td>0</td>\n",
       "      <td>&lt;NA&gt;</td>\n",
       "      <td>&lt;NA&gt;</td>\n",
       "      <td>0</td>\n",
       "      <td>0</td>\n",
       "      <td>0</td>\n",
       "    </tr>\n",
       "    <tr>\n",
       "      <th>2</th>\n",
       "      <td>6a5609f385912113b6f1014b958ed748</td>\n",
       "      <td>20220326</td>\n",
       "      <td>13</td>\n",
       "      <td>18089</td>\n",
       "      <td>11500</td>\n",
       "      <td>Census Tract 115, Lake County, Indiana</td>\n",
       "      <td>39</td>\n",
       "      <td>0</td>\n",
       "      <td>&lt;NA&gt;</td>\n",
       "      <td>&lt;NA&gt;</td>\n",
       "      <td>&lt;NA&gt;</td>\n",
       "      <td>0</td>\n",
       "      <td>56</td>\n",
       "      <td>N/A</td>\n",
       "      <td>N/A</td>\n",
       "      <td>&lt;NA&gt;</td>\n",
       "      <td>&lt;NA&gt;</td>\n",
       "      <td>0</td>\n",
       "      <td>0</td>\n",
       "      <td>0</td>\n",
       "      <td>39</td>\n",
       "      <td>0</td>\n",
       "      <td>0</td>\n",
       "      <td>0</td>\n",
       "      <td>0</td>\n",
       "    </tr>\n",
       "  </tbody>\n",
       "</table>\n",
       "</div>"
      ],
      "text/plain": [
       "                              uu_id  timeperiod  week_number  countyfips  \\\n",
       "0  f013068de98db1470bd986137a0c6d23    20220416           16       18003   \n",
       "1  21957d5517323845818d87623589e1ba    20220319           12       18089   \n",
       "2  6a5609f385912113b6f1014b958ed748    20220326           13       18089   \n",
       "\n",
       "   tract                              tract_name  total_claims  \\\n",
       "0    900   Census Tract 9, Allen County, Indiana            22   \n",
       "1  10400  Census Tract 104, Lake County, Indiana           111   \n",
       "2  11500  Census Tract 115, Lake County, Indiana            39   \n",
       "\n",
       "   edu_8th_or_less  edu_grades_9_11  edu_hs_grad_equiv  edu_post_hs  \\\n",
       "0                0             <NA>                 14         <NA>   \n",
       "1                0             <NA>                108         <NA>   \n",
       "2                0             <NA>               <NA>         <NA>   \n",
       "\n",
       "   edu_unknown top_category_employer1 top_category_employer2  \\\n",
       "0            0                  31-33                     51   \n",
       "1            0                  48-49                     51   \n",
       "2            0                     56                    N/A   \n",
       "\n",
       "  top_category_employer3  gender_female  gender_male  gender_na  \\\n",
       "0                     62           <NA>         <NA>          0   \n",
       "1                     56             76           35          0   \n",
       "2                    N/A           <NA>         <NA>          0   \n",
       "\n",
       "   race_amerindian  race_asian  race_black  race_noanswer  \\\n",
       "0                0           0          11              0   \n",
       "1                0           0        <NA>           <NA>   \n",
       "2                0           0          39              0   \n",
       "\n",
       "   race_hawaiiannative  race_other  race_white  \n",
       "0                    0        <NA>        <NA>  \n",
       "1                    0           0           0  \n",
       "2                    0           0           0  "
      ]
     },
     "execution_count": 5,
     "metadata": {},
     "output_type": "execute_result"
    }
   ],
   "source": [
    "# QUERY THE DATA ONCE\n",
    "query_job = bigquery_client.query(query)\n",
    "unemploymentData = query_job.to_dataframe()\n",
    "print(unemploymentData.shape)\n",
    "pd.set_option('display.max_columns', None)\n",
    "unemploymentData.head(3)"
   ]
  },
  {
   "cell_type": "code",
   "execution_count": 6,
   "id": "57d5bec4",
   "metadata": {
    "execution": {
     "iopub.execute_input": "2023-05-10T01:36:43.558471Z",
     "iopub.status.busy": "2023-05-10T01:36:43.558278Z",
     "iopub.status.idle": "2023-05-10T01:36:43.635508Z",
     "shell.execute_reply": "2023-05-10T01:36:43.635194Z"
    }
   },
   "outputs": [],
   "source": [
    "#Gets each tracks mean and std dev\n",
    "#unlist has the master unemployment list\n",
    "#b becomes the filtered list\n",
    "unList = unemploymentData.values.tolist()\n",
    "b_set = set(tuple(x) for x in unList)\n",
    "b = [ list(x) for x in b_set ]"
   ]
  },
  {
   "cell_type": "code",
   "execution_count": 7,
   "id": "4fa7eb03",
   "metadata": {
    "execution": {
     "iopub.execute_input": "2023-05-10T01:36:43.637184Z",
     "iopub.status.busy": "2023-05-10T01:36:43.637088Z",
     "iopub.status.idle": "2023-05-10T01:36:43.690705Z",
     "shell.execute_reply": "2023-05-10T01:36:43.690460Z"
    }
   },
   "outputs": [],
   "source": [
    "uuid = []\n",
    "#makes a list of the unique uuid\n",
    "for x in b:\n",
    "    if(uuid.count(x[0]) == 0):\n",
    "        uuid.append(x[0])"
   ]
  },
  {
   "cell_type": "code",
   "execution_count": 8,
   "id": "64685ab7",
   "metadata": {
    "execution": {
     "iopub.execute_input": "2023-05-10T01:36:43.692135Z",
     "iopub.status.busy": "2023-05-10T01:36:43.692040Z",
     "iopub.status.idle": "2023-05-10T01:36:43.693838Z",
     "shell.execute_reply": "2023-05-10T01:36:43.693621Z"
    }
   },
   "outputs": [],
   "source": [
    "#setup for extract        \n",
    "values = []\n",
    "export = []"
   ]
  },
  {
   "cell_type": "code",
   "execution_count": 9,
   "id": "5a32000b",
   "metadata": {
    "execution": {
     "iopub.execute_input": "2023-05-10T01:36:43.695163Z",
     "iopub.status.busy": "2023-05-10T01:36:43.695087Z",
     "iopub.status.idle": "2023-05-10T01:36:44.043503Z",
     "shell.execute_reply": "2023-05-10T01:36:44.043181Z"
    }
   },
   "outputs": [],
   "source": [
    "#for each value make a list of each weeks claims\n",
    "for y in uuid:\n",
    "    temp = [y]\n",
    "    for x in b:\n",
    "        if (x[0] == y):\n",
    "            temp.append(x[6])\n",
    "    values.append(temp)"
   ]
  },
  {
   "cell_type": "code",
   "execution_count": 10,
   "id": "f6edb303",
   "metadata": {
    "execution": {
     "iopub.execute_input": "2023-05-10T01:36:44.045247Z",
     "iopub.status.busy": "2023-05-10T01:36:44.045151Z",
     "iopub.status.idle": "2023-05-10T01:36:44.081217Z",
     "shell.execute_reply": "2023-05-10T01:36:44.080968Z"
    }
   },
   "outputs": [],
   "source": [
    "for x in values:\n",
    "    name = x[0]\n",
    "    mean = statistics.mean(x[1:])\n",
    "    if (len(x) > 2):\n",
    "        stdev = statistics.stdev(x[1:])\n",
    "    else:\n",
    "        print(\"short\")\n",
    "    export.append([name, mean, stdev])"
   ]
  },
  {
   "cell_type": "code",
   "execution_count": 11,
   "id": "6a3dcd7c",
   "metadata": {
    "execution": {
     "iopub.execute_input": "2023-05-10T01:36:44.082603Z",
     "iopub.status.busy": "2023-05-10T01:36:44.082513Z",
     "iopub.status.idle": "2023-05-10T01:36:44.084215Z",
     "shell.execute_reply": "2023-05-10T01:36:44.083977Z"
    }
   },
   "outputs": [],
   "source": [
    "#Everything above this is testing\n",
    "#Make the answer csv\n",
    "query = \"\"\"\n",
    "SELECT *\n",
    "FROM `ironhacks-data.ironhacks_competition.prediction_list`\n",
    "\"\"\""
   ]
  },
  {
   "cell_type": "code",
   "execution_count": 12,
   "id": "916b690e",
   "metadata": {
    "execution": {
     "iopub.execute_input": "2023-05-10T01:36:44.085504Z",
     "iopub.status.busy": "2023-05-10T01:36:44.085420Z",
     "iopub.status.idle": "2023-05-10T01:36:45.552081Z",
     "shell.execute_reply": "2023-05-10T01:36:45.551145Z"
    }
   },
   "outputs": [],
   "source": [
    "# QUERY THE DATA ONCE\n",
    "query_job = bigquery_client.query(query)\n",
    "predictionData = query_job.to_dataframe()"
   ]
  },
  {
   "cell_type": "code",
   "execution_count": 13,
   "id": "2b5268c4",
   "metadata": {
    "execution": {
     "iopub.execute_input": "2023-05-10T01:36:45.557511Z",
     "iopub.status.busy": "2023-05-10T01:36:45.556987Z",
     "iopub.status.idle": "2023-05-10T01:36:45.607151Z",
     "shell.execute_reply": "2023-05-10T01:36:45.606517Z"
    }
   },
   "outputs": [],
   "source": [
    "answers = predictionData.values.tolist()\n",
    "#Answers[names, week]\n",
    "#export[names, mean, stddev]\n",
    "i = 0\n",
    "for x in answers:\n",
    "    for y in export:\n",
    "        if(y.count(x[0]) == 1):\n",
    "            answers[i].insert(1, y[1])\n",
    "    i = i + 1"
   ]
  },
  {
   "cell_type": "code",
   "execution_count": 14,
   "id": "ee97878e",
   "metadata": {
    "execution": {
     "iopub.execute_input": "2023-05-10T01:36:45.609780Z",
     "iopub.status.busy": "2023-05-10T01:36:45.609499Z",
     "iopub.status.idle": "2023-05-10T01:36:45.613493Z",
     "shell.execute_reply": "2023-05-10T01:36:45.613111Z"
    },
    "lines_to_next_cell": 2
   },
   "outputs": [],
   "source": [
    "fields = ['uu_id', 'total_claims', 'week_number']\n",
    "with open('submission_prediction_output.csv', 'w') as f:\n",
    "    write = csv.writer(f)\n",
    "    write.writerow(fields)\n",
    "    write.writerows(answers)"
   ]
  }
 ],
 "metadata": {
  "jupytext": {
   "cell_metadata_filter": "-all",
   "main_language": "python",
   "notebook_metadata_filter": "-all"
  },
  "language_info": {
   "codemirror_mode": {
    "name": "ipython",
    "version": 3
   },
   "file_extension": ".py",
   "mimetype": "text/x-python",
   "name": "python",
   "nbconvert_exporter": "python",
   "pygments_lexer": "ipython3",
   "version": "3.9.12"
  }
 },
 "nbformat": 4,
 "nbformat_minor": 5
}
