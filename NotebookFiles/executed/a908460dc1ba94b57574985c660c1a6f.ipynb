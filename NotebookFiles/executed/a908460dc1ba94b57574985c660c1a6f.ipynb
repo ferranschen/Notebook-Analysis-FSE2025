{
 "cells": [
  {
   "cell_type": "code",
   "execution_count": 1,
   "id": "5a9d27ff",
   "metadata": {
    "execution": {
     "iopub.execute_input": "2023-05-10T01:42:57.300810Z",
     "iopub.status.busy": "2023-05-10T01:42:57.300699Z",
     "iopub.status.idle": "2023-05-10T01:42:59.962056Z",
     "shell.execute_reply": "2023-05-10T01:42:59.961387Z"
    }
   },
   "outputs": [
    {
     "name": "stdout",
     "output_type": "stream",
     "text": [
      "\u001b[33mWARNING: Ignoring invalid distribution -umpy (/opt/anaconda3/lib/python3.9/site-packages)\u001b[0m\r\n",
      "\u001b[33mWARNING: Ignoring invalid distribution -umpy (/opt/anaconda3/lib/python3.9/site-packages)\u001b[0m\r\n",
      "Requirement already satisfied: torch in /opt/anaconda3/lib/python3.9/site-packages (1.13.1)\r\n",
      "Requirement already satisfied: typing-extensions in /opt/anaconda3/lib/python3.9/site-packages (from torch) (4.5.0)\r\n",
      "\u001b[33mWARNING: Ignoring invalid distribution -umpy (/opt/anaconda3/lib/python3.9/site-packages)\u001b[0m\r\n"
     ]
    },
    {
     "name": "stdout",
     "output_type": "stream",
     "text": [
      "\u001b[33mWARNING: Ignoring invalid distribution -umpy (/opt/anaconda3/lib/python3.9/site-packages)\u001b[0m\r\n",
      "\u001b[33mWARNING: Ignoring invalid distribution -umpy (/opt/anaconda3/lib/python3.9/site-packages)\u001b[0m\r\n",
      "\u001b[33mWARNING: Ignoring invalid distribution -umpy (/opt/anaconda3/lib/python3.9/site-packages)\u001b[0m\r\n"
     ]
    }
   ],
   "source": [
    "get_ipython().system('pip install torch')"
   ]
  },
  {
   "cell_type": "code",
   "execution_count": 2,
   "id": "2123596c",
   "metadata": {
    "execution": {
     "iopub.execute_input": "2023-05-10T01:42:59.965133Z",
     "iopub.status.busy": "2023-05-10T01:42:59.964908Z",
     "iopub.status.idle": "2023-05-10T01:43:00.576734Z",
     "shell.execute_reply": "2023-05-10T01:43:00.576471Z"
    },
    "lines_to_next_cell": 2
   },
   "outputs": [
    {
     "name": "stdout",
     "output_type": "stream",
     "text": [
      "tensor([[0.7198, 0.8821, 0.1579],\n",
      "        [0.0842, 0.7676, 0.7312],\n",
      "        [0.4517, 0.1127, 0.8112],\n",
      "        [0.3931, 0.9255, 0.0728],\n",
      "        [0.9764, 0.9239, 0.8287]])\n"
     ]
    }
   ],
   "source": [
    "import torch\n",
    "x = torch.rand(5, 3)\n",
    "print(x)"
   ]
  }
 ],
 "metadata": {
  "jupytext": {
   "cell_metadata_filter": "-all",
   "main_language": "python",
   "notebook_metadata_filter": "-all"
  },
  "kernelspec": {
   "display_name": "base",
   "language": "python",
   "name": "python3"
  },
  "language_info": {
   "codemirror_mode": {
    "name": "ipython",
    "version": 3
   },
   "file_extension": ".py",
   "mimetype": "text/x-python",
   "name": "python",
   "nbconvert_exporter": "python",
   "pygments_lexer": "ipython3",
   "version": "3.9.12"
  }
 },
 "nbformat": 4,
 "nbformat_minor": 5
}
