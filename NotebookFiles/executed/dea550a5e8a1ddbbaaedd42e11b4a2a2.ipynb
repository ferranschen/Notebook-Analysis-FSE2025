{
 "cells": [
  {
   "cell_type": "code",
   "execution_count": 1,
   "id": "52136c27",
   "metadata": {
    "execution": {
     "iopub.execute_input": "2023-05-10T01:36:24.068756Z",
     "iopub.status.busy": "2023-05-10T01:36:24.068336Z",
     "iopub.status.idle": "2023-05-10T01:36:24.093085Z",
     "shell.execute_reply": "2023-05-10T01:36:24.092270Z"
    }
   },
   "outputs": [],
   "source": [
    "get_ipython().run_cell_magic('capture', '', \"%logstop\\n%logstart -t -r -q ipython_command_log.py global\\n\\n#- IRONHACKS RESEARCH TRACKING CODE\\n#----------------------------------\\n# The following code is used to help our research team understand how you \\n# our notebook environment. We do not collect any personal information with\\n# the following code, it is used to measure when and how often you work on\\n# your submission files.\\n\\nimport os\\nfrom datetime import datetime\\nimport IPython.core.history as history\\n\\nha = history.HistoryAccessor()\\nha_tail = ha.get_tail(1)\\nha_cmd = next(ha_tail)\\nsession_id = str(ha_cmd[0])\\ncommand_id = str(ha_cmd[1])\\ntimestamp = datetime.utcnow().isoformat()\\nhistory_line = ','.join([session_id, command_id, timestamp]) + '\\\\n'\\nlogfile = open(os.environ['HOME']+'/ipython_session_log.csv', 'a')\\nlogfile.write(history_line)\\nlogfile.close()\\n\")"
   ]
  },
  {
   "cell_type": "code",
   "execution_count": 2,
   "id": "2a288420",
   "metadata": {
    "execution": {
     "iopub.execute_input": "2023-05-10T01:36:24.096992Z",
     "iopub.status.busy": "2023-05-10T01:36:24.096674Z",
     "iopub.status.idle": "2023-05-10T01:36:24.101780Z",
     "shell.execute_reply": "2023-05-10T01:36:24.101173Z"
    }
   },
   "outputs": [],
   "source": [
    "get_ipython().run_cell_magic('capture', '', \"\\n#- INSTALL ADDITIONAL LIBRARIES IF REQUIRED\\n#------------------------------------------\\n# This is normally not required. The hub environment comes preinstaled with \\n# many packages that you can already use without setup. In case there is some\\n# other library you would like to use that isn't on the list you run this command\\n# once to install them.  If it is already installed this command has no effect.\\n\\n#!python3 -m pip install pandas\\n\")"
   ]
  },
  {
   "cell_type": "markdown",
   "id": "49791742",
   "metadata": {},
   "source": [
    "- IMPORT THE LIBRARIES YOU WILL USE\n",
    "------------------------------------------\n",
    "You only need to import packages one time per notebook session. To keep your\n",
    "notebook clean and organized you can handle all imports at the top of your file.\n",
    "The following are included for example purposed, feel free to modify or delete \n",
    "anything in this section."
   ]
  },
  {
   "cell_type": "code",
   "execution_count": 3,
   "id": "34ce8316",
   "metadata": {
    "execution": {
     "iopub.execute_input": "2023-05-10T01:36:24.105412Z",
     "iopub.status.busy": "2023-05-10T01:36:24.104922Z",
     "iopub.status.idle": "2023-05-10T01:36:24.538508Z",
     "shell.execute_reply": "2023-05-10T01:36:24.538215Z"
    }
   },
   "outputs": [],
   "source": [
    "import csv\n",
    "import pandas as pd\n",
    "import numpy as np\n",
    "from google.cloud import bigquery\n",
    "from google.oauth2 import service_account\n",
    "from google.cloud.bigquery import magics"
   ]
  },
  {
   "cell_type": "markdown",
   "id": "de26d30a",
   "metadata": {},
   "source": [
    "- DEFINE YOUR CLASSES AND FUNCTIONS \n",
    "-----------------------------------\n",
    "This is not required, but is helpful in keeping your notebook organized. \n",
    "You can use the following cell or several cells to define your functions\n",
    "and classes to keep them separate from your analysis or results code.\n",
    "In general it useful to define your methods in a separate cell from where\n",
    "it is run."
   ]
  },
  {
   "cell_type": "code",
   "execution_count": 4,
   "id": "fda30c6d",
   "metadata": {
    "execution": {
     "iopub.execute_input": "2023-05-10T01:36:24.540288Z",
     "iopub.status.busy": "2023-05-10T01:36:24.540136Z",
     "iopub.status.idle": "2023-05-10T01:36:24.547003Z",
     "shell.execute_reply": "2023-05-10T01:36:24.546684Z"
    }
   },
   "outputs": [],
   "source": [
    "BIGQUERY_PROJECT = 'ironhacks-data'\n",
    "bigquery_client = bigquery.Client(project=BIGQUERY_PROJECT)"
   ]
  },
  {
   "cell_type": "code",
   "execution_count": 5,
   "id": "0c61d57d",
   "metadata": {
    "execution": {
     "iopub.execute_input": "2023-05-10T01:36:24.548636Z",
     "iopub.status.busy": "2023-05-10T01:36:24.548547Z",
     "iopub.status.idle": "2023-05-10T01:36:29.809597Z",
     "shell.execute_reply": "2023-05-10T01:36:29.808811Z"
    }
   },
   "outputs": [
    {
     "name": "stdout",
     "output_type": "stream",
     "text": [
      "\u001b[33mWARNING: Ignoring invalid distribution -umpy (/opt/anaconda3/lib/python3.9/site-packages)\u001b[0m\r\n",
      "\u001b[33mWARNING: Ignoring invalid distribution -umpy (/opt/anaconda3/lib/python3.9/site-packages)\u001b[0m\r\n",
      "Requirement already satisfied: db-dtypes in /opt/anaconda3/lib/python3.9/site-packages (1.0.5)\r\n",
      "Requirement already satisfied: numpy<2.0dev,>=1.16.6 in /opt/anaconda3/lib/python3.9/site-packages (from db-dtypes) (1.22.4)\r\n",
      "Requirement already satisfied: packaging>=17.0 in /opt/anaconda3/lib/python3.9/site-packages (from db-dtypes) (21.3)\r\n",
      "Requirement already satisfied: pandas<2.0dev,>=0.24.2 in /opt/anaconda3/lib/python3.9/site-packages (from db-dtypes) (1.5.3)\r\n",
      "Requirement already satisfied: pyarrow>=3.0.0 in /opt/anaconda3/lib/python3.9/site-packages (from db-dtypes) (10.0.1)\r\n",
      "Requirement already satisfied: pyparsing!=3.0.5,>=2.0.2 in /opt/anaconda3/lib/python3.9/site-packages (from packaging>=17.0->db-dtypes) (3.0.4)\r\n"
     ]
    },
    {
     "name": "stdout",
     "output_type": "stream",
     "text": [
      "Requirement already satisfied: python-dateutil>=2.8.1 in /opt/anaconda3/lib/python3.9/site-packages (from pandas<2.0dev,>=0.24.2->db-dtypes) (2.8.2)\r\n",
      "Requirement already satisfied: pytz>=2020.1 in /opt/anaconda3/lib/python3.9/site-packages (from pandas<2.0dev,>=0.24.2->db-dtypes) (2021.3)\r\n",
      "Requirement already satisfied: six>=1.5 in /opt/anaconda3/lib/python3.9/site-packages (from python-dateutil>=2.8.1->pandas<2.0dev,>=0.24.2->db-dtypes) (1.16.0)\r\n",
      "\u001b[33mWARNING: Ignoring invalid distribution -umpy (/opt/anaconda3/lib/python3.9/site-packages)\u001b[0m\r\n"
     ]
    },
    {
     "name": "stdout",
     "output_type": "stream",
     "text": [
      "\u001b[33mWARNING: Ignoring invalid distribution -umpy (/opt/anaconda3/lib/python3.9/site-packages)\u001b[0m\r\n",
      "\u001b[33mWARNING: Ignoring invalid distribution -umpy (/opt/anaconda3/lib/python3.9/site-packages)\u001b[0m\r\n",
      "\u001b[33mWARNING: Ignoring invalid distribution -umpy (/opt/anaconda3/lib/python3.9/site-packages)\u001b[0m\r\n"
     ]
    }
   ],
   "source": [
    "!pip install db-dtypes\n",
    "query_unemployment = \"\"\"\n",
    "SELECT *\n",
    "FROM `ironhacks-data.ironhacks_competition.unemployment_data` \n",
    "\"\"\"\n",
    "query = bigquery_client.query(query_unemployment)\n",
    "df_unemployment = query.to_dataframe()\n",
    "#df_unemployment.head()"
   ]
  },
  {
   "cell_type": "code",
   "execution_count": 6,
   "id": "f472b203",
   "metadata": {
    "execution": {
     "iopub.execute_input": "2023-05-10T01:36:29.813773Z",
     "iopub.status.busy": "2023-05-10T01:36:29.813455Z",
     "iopub.status.idle": "2023-05-10T01:36:31.457289Z",
     "shell.execute_reply": "2023-05-10T01:36:31.455519Z"
    }
   },
   "outputs": [],
   "source": [
    "query_pred_list = \"\"\"\n",
    "SELECT *\n",
    "FROM `ironhacks-data.ironhacks_competition.prediction_list`\n",
    "\"\"\"\n",
    "query = bigquery_client.query(query_pred_list)\n",
    "df_pred_list = query.to_dataframe()\n",
    "#df_pred_list.head()"
   ]
  },
  {
   "cell_type": "code",
   "execution_count": 7,
   "id": "239a0b2d",
   "metadata": {
    "execution": {
     "iopub.execute_input": "2023-05-10T01:36:31.463653Z",
     "iopub.status.busy": "2023-05-10T01:36:31.463175Z",
     "iopub.status.idle": "2023-05-10T01:36:35.700287Z",
     "shell.execute_reply": "2023-05-10T01:36:35.699464Z"
    }
   },
   "outputs": [
    {
     "name": "stdout",
     "output_type": "stream",
     "text": [
      "\u001b[33mWARNING: Ignoring invalid distribution -umpy (/opt/anaconda3/lib/python3.9/site-packages)\u001b[0m\r\n",
      "\u001b[33mWARNING: Ignoring invalid distribution -umpy (/opt/anaconda3/lib/python3.9/site-packages)\u001b[0m\r\n",
      "Requirement already satisfied: db-dtypes in /opt/anaconda3/lib/python3.9/site-packages (1.0.5)\r\n",
      "Requirement already satisfied: packaging>=17.0 in /opt/anaconda3/lib/python3.9/site-packages (from db-dtypes) (21.3)\r\n",
      "Requirement already satisfied: pandas<2.0dev,>=0.24.2 in /opt/anaconda3/lib/python3.9/site-packages (from db-dtypes) (1.5.3)\r\n",
      "Requirement already satisfied: pyarrow>=3.0.0 in /opt/anaconda3/lib/python3.9/site-packages (from db-dtypes) (10.0.1)\r\n",
      "Requirement already satisfied: numpy<2.0dev,>=1.16.6 in /opt/anaconda3/lib/python3.9/site-packages (from db-dtypes) (1.22.4)\r\n",
      "Requirement already satisfied: pyparsing!=3.0.5,>=2.0.2 in /opt/anaconda3/lib/python3.9/site-packages (from packaging>=17.0->db-dtypes) (3.0.4)\r\n",
      "Requirement already satisfied: pytz>=2020.1 in /opt/anaconda3/lib/python3.9/site-packages (from pandas<2.0dev,>=0.24.2->db-dtypes) (2021.3)\r\n",
      "Requirement already satisfied: python-dateutil>=2.8.1 in /opt/anaconda3/lib/python3.9/site-packages (from pandas<2.0dev,>=0.24.2->db-dtypes) (2.8.2)\r\n",
      "Requirement already satisfied: six>=1.5 in /opt/anaconda3/lib/python3.9/site-packages (from python-dateutil>=2.8.1->pandas<2.0dev,>=0.24.2->db-dtypes) (1.16.0)\r\n",
      "\u001b[33mWARNING: Ignoring invalid distribution -umpy (/opt/anaconda3/lib/python3.9/site-packages)\u001b[0m\r\n"
     ]
    },
    {
     "name": "stdout",
     "output_type": "stream",
     "text": [
      "\u001b[33mWARNING: Ignoring invalid distribution -umpy (/opt/anaconda3/lib/python3.9/site-packages)\u001b[0m\r\n",
      "\u001b[33mWARNING: Ignoring invalid distribution -umpy (/opt/anaconda3/lib/python3.9/site-packages)\u001b[0m\r\n",
      "\u001b[33mWARNING: Ignoring invalid distribution -umpy (/opt/anaconda3/lib/python3.9/site-packages)\u001b[0m\r\n"
     ]
    }
   ],
   "source": [
    "!pip install db-dtypes\n",
    "query_unemployment = \"\"\"\n",
    "SELECT *\n",
    "FROM `ironhacks-data.ironhacks_competition.unemployment_data` \n",
    "\"\"\"\n",
    "query = bigquery_client.query(query_unemployment)\n",
    "df_unemployment = query.to_dataframe()\n",
    "#df_unemployment.head()"
   ]
  },
  {
   "cell_type": "code",
   "execution_count": 8,
   "id": "8f22cfdd",
   "metadata": {
    "execution": {
     "iopub.execute_input": "2023-05-10T01:36:35.704560Z",
     "iopub.status.busy": "2023-05-10T01:36:35.704216Z",
     "iopub.status.idle": "2023-05-10T01:36:35.716404Z",
     "shell.execute_reply": "2023-05-10T01:36:35.715933Z"
    }
   },
   "outputs": [],
   "source": [
    "get_ipython().run_cell_magic('capture', '', \"%logstop\\n%logstart -t -r -q ipython_command_log.py global\\n\\n#- IRONHACKS RESEARCH TRACKING CODE\\n#----------------------------------\\n# The following code is used to help our research team understand how you \\n# our notebook environment. We do not collect any personal information with\\n# the following code, it is used to measure when and how often you work on\\n# your submission files.\\n\\nimport os\\nfrom datetime import datetime\\nimport IPython.core.history as history\\n\\nha = history.HistoryAccessor()\\nha_tail = ha.get_tail(1)\\nha_cmd = next(ha_tail)\\nsession_id = str(ha_cmd[0])\\ncommand_id = str(ha_cmd[1])\\ntimestamp = datetime.utcnow().isoformat()\\nhistory_line = ','.join([session_id, command_id, timestamp]) + '\\\\n'\\nlogfile = open(os.environ['HOME']+'/ipython_session_log.csv', 'a')\\nlogfile.write(history_line)\\nlogfile.close()\\n\")"
   ]
  },
  {
   "cell_type": "code",
   "execution_count": 9,
   "id": "1c342407",
   "metadata": {
    "execution": {
     "iopub.execute_input": "2023-05-10T01:36:35.719088Z",
     "iopub.status.busy": "2023-05-10T01:36:35.718870Z",
     "iopub.status.idle": "2023-05-10T01:36:35.722609Z",
     "shell.execute_reply": "2023-05-10T01:36:35.722159Z"
    }
   },
   "outputs": [],
   "source": [
    "get_ipython().run_cell_magic('capture', '', \"\\n#- INSTALL ADDITIONAL LIBRARIES IF REQUIRED\\n#------------------------------------------\\n# This is normally not required. The hub environment comes preinstaled with \\n# many packages that you can already use without setup. In case there is some\\n# other library you would like to use that isn't on the list you run this command\\n# once to install them.  If it is already installed this command has no effect.\\n\\n#!python3 -m pip install pandas\\n\")"
   ]
  },
  {
   "cell_type": "markdown",
   "id": "864ba796",
   "metadata": {},
   "source": [
    "- IMPORT THE LIBRARIES YOU WILL USE\n",
    "------------------------------------------\n",
    "You only need to import packages one time per notebook session. To keep your\n",
    "notebook clean and organized you can handle all imports at the top of your file.\n",
    "The following are included for example purposed, feel free to modify or delete \n",
    "anything in this section."
   ]
  },
  {
   "cell_type": "code",
   "execution_count": 10,
   "id": "6d54a336",
   "metadata": {
    "execution": {
     "iopub.execute_input": "2023-05-10T01:36:35.725017Z",
     "iopub.status.busy": "2023-05-10T01:36:35.724859Z",
     "iopub.status.idle": "2023-05-10T01:36:35.727847Z",
     "shell.execute_reply": "2023-05-10T01:36:35.727415Z"
    }
   },
   "outputs": [],
   "source": [
    "import csv\n",
    "import pandas as pd\n",
    "import numpy as np\n",
    "from google.cloud import bigquery\n",
    "from google.oauth2 import service_account\n",
    "from google.cloud.bigquery import magics"
   ]
  },
  {
   "cell_type": "markdown",
   "id": "0af773e6",
   "metadata": {},
   "source": [
    "- DEFINE YOUR CLASSES AND FUNCTIONS \n",
    "-----------------------------------\n",
    "This is not required, but is helpful in keeping your notebook organized. \n",
    "You can use the following cell or several cells to define your functions\n",
    "and classes to keep them separate from your analysis or results code.\n",
    "In general it useful to define your methods in a separate cell from where\n",
    "it is run."
   ]
  },
  {
   "cell_type": "code",
   "execution_count": 11,
   "id": "721e20e8",
   "metadata": {
    "execution": {
     "iopub.execute_input": "2023-05-10T01:36:35.729937Z",
     "iopub.status.busy": "2023-05-10T01:36:35.729758Z",
     "iopub.status.idle": "2023-05-10T01:36:35.739663Z",
     "shell.execute_reply": "2023-05-10T01:36:35.739169Z"
    }
   },
   "outputs": [],
   "source": [
    "BIGQUERY_PROJECT = 'ironhacks-data'\n",
    "bigquery_client = bigquery.Client(project=BIGQUERY_PROJECT)"
   ]
  },
  {
   "cell_type": "code",
   "execution_count": 12,
   "id": "43006a5e",
   "metadata": {
    "execution": {
     "iopub.execute_input": "2023-05-10T01:36:35.742021Z",
     "iopub.status.busy": "2023-05-10T01:36:35.741833Z",
     "iopub.status.idle": "2023-05-10T01:36:40.020410Z",
     "shell.execute_reply": "2023-05-10T01:36:40.019173Z"
    },
    "lines_to_next_cell": 2
   },
   "outputs": [
    {
     "name": "stdout",
     "output_type": "stream",
     "text": [
      "\u001b[33mWARNING: Ignoring invalid distribution -umpy (/opt/anaconda3/lib/python3.9/site-packages)\u001b[0m\r\n",
      "\u001b[33mWARNING: Ignoring invalid distribution -umpy (/opt/anaconda3/lib/python3.9/site-packages)\u001b[0m\r\n",
      "Requirement already satisfied: db-dtypes in /opt/anaconda3/lib/python3.9/site-packages (1.0.5)\r\n",
      "Requirement already satisfied: packaging>=17.0 in /opt/anaconda3/lib/python3.9/site-packages (from db-dtypes) (21.3)\r\n",
      "Requirement already satisfied: pandas<2.0dev,>=0.24.2 in /opt/anaconda3/lib/python3.9/site-packages (from db-dtypes) (1.5.3)\r\n",
      "Requirement already satisfied: pyarrow>=3.0.0 in /opt/anaconda3/lib/python3.9/site-packages (from db-dtypes) (10.0.1)\r\n",
      "Requirement already satisfied: numpy<2.0dev,>=1.16.6 in /opt/anaconda3/lib/python3.9/site-packages (from db-dtypes) (1.22.4)\r\n",
      "Requirement already satisfied: pyparsing!=3.0.5,>=2.0.2 in /opt/anaconda3/lib/python3.9/site-packages (from packaging>=17.0->db-dtypes) (3.0.4)\r\n",
      "Requirement already satisfied: pytz>=2020.1 in /opt/anaconda3/lib/python3.9/site-packages (from pandas<2.0dev,>=0.24.2->db-dtypes) (2021.3)\r\n",
      "Requirement already satisfied: python-dateutil>=2.8.1 in /opt/anaconda3/lib/python3.9/site-packages (from pandas<2.0dev,>=0.24.2->db-dtypes) (2.8.2)\r\n",
      "Requirement already satisfied: six>=1.5 in /opt/anaconda3/lib/python3.9/site-packages (from python-dateutil>=2.8.1->pandas<2.0dev,>=0.24.2->db-dtypes) (1.16.0)\r\n",
      "\u001b[33mWARNING: Ignoring invalid distribution -umpy (/opt/anaconda3/lib/python3.9/site-packages)\u001b[0m\r\n"
     ]
    },
    {
     "name": "stdout",
     "output_type": "stream",
     "text": [
      "\u001b[33mWARNING: Ignoring invalid distribution -umpy (/opt/anaconda3/lib/python3.9/site-packages)\u001b[0m\r\n",
      "\u001b[33mWARNING: Ignoring invalid distribution -umpy (/opt/anaconda3/lib/python3.9/site-packages)\u001b[0m\r\n",
      "\u001b[33mWARNING: Ignoring invalid distribution -umpy (/opt/anaconda3/lib/python3.9/site-packages)\u001b[0m\r\n"
     ]
    }
   ],
   "source": [
    "!pip install db-dtypes\n",
    "query_unemployment = \"\"\"\n",
    "SELECT *\n",
    "FROM `ironhacks-data.ironhacks_competition.unemployment_data` \n",
    "\"\"\"\n",
    "query = bigquery_client.query(query_unemployment)\n",
    "df_unemployment = query.to_dataframe()\n",
    "#df_unemployment.head()"
   ]
  }
 ],
 "metadata": {
  "jupytext": {
   "cell_metadata_filter": "-all",
   "main_language": "python",
   "notebook_metadata_filter": "-all"
  },
  "language_info": {
   "codemirror_mode": {
    "name": "ipython",
    "version": 3
   },
   "file_extension": ".py",
   "mimetype": "text/x-python",
   "name": "python",
   "nbconvert_exporter": "python",
   "pygments_lexer": "ipython3",
   "version": "3.9.12"
  }
 },
 "nbformat": 4,
 "nbformat_minor": 5
}
