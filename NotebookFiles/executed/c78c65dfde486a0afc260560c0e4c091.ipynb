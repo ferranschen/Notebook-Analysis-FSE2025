{
 "cells": [
  {
   "cell_type": "code",
   "execution_count": 1,
   "id": "57605d02",
   "metadata": {
    "execution": {
     "iopub.execute_input": "2023-05-10T01:21:51.523586Z",
     "iopub.status.busy": "2023-05-10T01:21:51.523456Z",
     "iopub.status.idle": "2023-05-10T01:21:51.603780Z",
     "shell.execute_reply": "2023-05-10T01:21:51.603495Z"
    }
   },
   "outputs": [
    {
     "ename": "NameError",
     "evalue": "name 'bigquery' is not defined",
     "output_type": "error",
     "traceback": [
      "\u001b[0;31m---------------------------------------------------------------------------\u001b[0m",
      "\u001b[0;31mNameError\u001b[0m                                 Traceback (most recent call last)",
      "Cell \u001b[0;32mIn [1], line 2\u001b[0m\n\u001b[1;32m      1\u001b[0m BIGQUERY_PROJECT \u001b[38;5;241m=\u001b[39m \u001b[38;5;124m'\u001b[39m\u001b[38;5;124mironhacks-data\u001b[39m\u001b[38;5;124m'\u001b[39m\n\u001b[0;32m----> 2\u001b[0m bigquery_client \u001b[38;5;241m=\u001b[39m \u001b[43mbigquery\u001b[49m\u001b[38;5;241m.\u001b[39mClient(project\u001b[38;5;241m=\u001b[39mBIGQUERY_PROJECT)\n",
      "\u001b[0;31mNameError\u001b[0m: name 'bigquery' is not defined"
     ]
    }
   ],
   "source": [
    "BIGQUERY_PROJECT = 'ironhacks-data'\n",
    "bigquery_client = bigquery.Client(project=BIGQUERY_PROJECT)"
   ]
  },
  {
   "cell_type": "code",
   "execution_count": 2,
   "id": "7c5a718a",
   "metadata": {
    "execution": {
     "iopub.execute_input": "2023-05-10T01:21:51.605325Z",
     "iopub.status.busy": "2023-05-10T01:21:51.605209Z",
     "iopub.status.idle": "2023-05-10T01:21:51.607294Z",
     "shell.execute_reply": "2023-05-10T01:21:51.607054Z"
    }
   },
   "outputs": [
    {
     "ename": "SyntaxError",
     "evalue": "invalid syntax (1890479132.py, line 1)",
     "output_type": "error",
     "traceback": [
      "\u001b[0;36m  Cell \u001b[0;32mIn [2], line 1\u001b[0;36m\u001b[0m\n\u001b[0;31m    mport os\u001b[0m\n\u001b[0m          ^\u001b[0m\n\u001b[0;31mSyntaxError\u001b[0m\u001b[0;31m:\u001b[0m invalid syntax\n"
     ]
    }
   ],
   "source": [
    "mport os\n",
    "import pandas\n",
    "from google.cloud import bigquery\n",
    "from google.oauth2 import service_account\n",
    "from google.cloud.bigquery import magics"
   ]
  },
  {
   "cell_type": "code",
   "execution_count": 3,
   "id": "068a2471",
   "metadata": {
    "execution": {
     "iopub.execute_input": "2023-05-10T01:21:51.608704Z",
     "iopub.status.busy": "2023-05-10T01:21:51.608603Z",
     "iopub.status.idle": "2023-05-10T01:21:52.020463Z",
     "shell.execute_reply": "2023-05-10T01:21:52.020134Z"
    }
   },
   "outputs": [],
   "source": [
    "import os\n",
    "import pandas\n",
    "from google.cloud import bigquery\n",
    "from google.oauth2 import service_account\n",
    "from google.cloud.bigquery import magics"
   ]
  },
  {
   "cell_type": "code",
   "execution_count": 4,
   "id": "0650dd39",
   "metadata": {
    "execution": {
     "iopub.execute_input": "2023-05-10T01:21:52.022208Z",
     "iopub.status.busy": "2023-05-10T01:21:52.022057Z",
     "iopub.status.idle": "2023-05-10T01:21:52.028984Z",
     "shell.execute_reply": "2023-05-10T01:21:52.028614Z"
    }
   },
   "outputs": [],
   "source": [
    "BIGQUERY_PROJECT = 'ironhacks-data'\n",
    "bigquery_client = bigquery.Client(project=BIGQUERY_PROJECT)"
   ]
  },
  {
   "cell_type": "code",
   "execution_count": 5,
   "id": "f3db5019",
   "metadata": {
    "execution": {
     "iopub.execute_input": "2023-05-10T01:21:52.030723Z",
     "iopub.status.busy": "2023-05-10T01:21:52.030609Z",
     "iopub.status.idle": "2023-05-10T01:21:52.032573Z",
     "shell.execute_reply": "2023-05-10T01:21:52.032277Z"
    }
   },
   "outputs": [],
   "source": [
    "query = \"\"\"\n",
    "SELECT *\n",
    "FROM `ironhacks-data.ironhacks_training.covid19_cases`\n",
    "\"\"\""
   ]
  },
  {
   "cell_type": "code",
   "execution_count": 6,
   "id": "b765a800",
   "metadata": {
    "execution": {
     "iopub.execute_input": "2023-05-10T01:21:52.034016Z",
     "iopub.status.busy": "2023-05-10T01:21:52.033918Z",
     "iopub.status.idle": "2023-05-10T01:21:53.751322Z",
     "shell.execute_reply": "2023-05-10T01:21:53.750750Z"
    }
   },
   "outputs": [
    {
     "data": {
      "text/html": [
       "<div>\n",
       "<style scoped>\n",
       "    .dataframe tbody tr th:only-of-type {\n",
       "        vertical-align: middle;\n",
       "    }\n",
       "\n",
       "    .dataframe tbody tr th {\n",
       "        vertical-align: top;\n",
       "    }\n",
       "\n",
       "    .dataframe thead th {\n",
       "        text-align: right;\n",
       "    }\n",
       "</style>\n",
       "<table border=\"1\" class=\"dataframe\">\n",
       "  <thead>\n",
       "    <tr style=\"text-align: right;\">\n",
       "      <th></th>\n",
       "      <th>week_number</th>\n",
       "      <th>start_date</th>\n",
       "      <th>county</th>\n",
       "      <th>fips</th>\n",
       "      <th>cases</th>\n",
       "      <th>deaths</th>\n",
       "    </tr>\n",
       "  </thead>\n",
       "  <tbody>\n",
       "    <tr>\n",
       "      <th>0</th>\n",
       "      <td>9</td>\n",
       "      <td>2021-03-01</td>\n",
       "      <td>Marion</td>\n",
       "      <td>18097</td>\n",
       "      <td>664</td>\n",
       "      <td>23</td>\n",
       "    </tr>\n",
       "    <tr>\n",
       "      <th>1</th>\n",
       "      <td>12</td>\n",
       "      <td>2021-03-22</td>\n",
       "      <td>Marion</td>\n",
       "      <td>18097</td>\n",
       "      <td>623</td>\n",
       "      <td>11</td>\n",
       "    </tr>\n",
       "    <tr>\n",
       "      <th>2</th>\n",
       "      <td>19</td>\n",
       "      <td>2021-05-10</td>\n",
       "      <td>Marion</td>\n",
       "      <td>18097</td>\n",
       "      <td>1156</td>\n",
       "      <td>4</td>\n",
       "    </tr>\n",
       "    <tr>\n",
       "      <th>3</th>\n",
       "      <td>11</td>\n",
       "      <td>2021-03-15</td>\n",
       "      <td>Marion</td>\n",
       "      <td>18097</td>\n",
       "      <td>560</td>\n",
       "      <td>13</td>\n",
       "    </tr>\n",
       "    <tr>\n",
       "      <th>4</th>\n",
       "      <td>6</td>\n",
       "      <td>2021-02-08</td>\n",
       "      <td>Marion</td>\n",
       "      <td>18097</td>\n",
       "      <td>1542</td>\n",
       "      <td>219</td>\n",
       "    </tr>\n",
       "  </tbody>\n",
       "</table>\n",
       "</div>"
      ],
      "text/plain": [
       "   week_number  start_date  county   fips  cases  deaths\n",
       "0            9  2021-03-01  Marion  18097    664      23\n",
       "1           12  2021-03-22  Marion  18097    623      11\n",
       "2           19  2021-05-10  Marion  18097   1156       4\n",
       "3           11  2021-03-15  Marion  18097    560      13\n",
       "4            6  2021-02-08  Marion  18097   1542     219"
      ]
     },
     "execution_count": 6,
     "metadata": {},
     "output_type": "execute_result"
    }
   ],
   "source": [
    "# QUERY THE DATA ONCE\n",
    "query_job = bigquery_client.query(query)\n",
    "covid19_cases_data = query_job.to_dataframe()\n",
    "covid19_cases_data.head()"
   ]
  },
  {
   "cell_type": "code",
   "execution_count": 7,
   "id": "190ea804",
   "metadata": {
    "execution": {
     "iopub.execute_input": "2023-05-10T01:21:53.754826Z",
     "iopub.status.busy": "2023-05-10T01:21:53.754375Z",
     "iopub.status.idle": "2023-05-10T01:21:53.760130Z",
     "shell.execute_reply": "2023-05-10T01:21:53.759673Z"
    }
   },
   "outputs": [
    {
     "name": "stdout",
     "output_type": "stream",
     "text": [
      "Columns:\n",
      "week_number\n",
      "start_date\n",
      "county\n",
      "fips\n",
      "cases\n",
      "deaths\n",
      "\n",
      "Results:\n",
      "   week_number  start_date  county   fips  cases  deaths\n",
      "0            9  2021-03-01  Marion  18097    664      23\n",
      "1           12  2021-03-22  Marion  18097    623      11\n",
      "2           19  2021-05-10  Marion  18097   1156       4\n",
      "3           11  2021-03-15  Marion  18097    560      13\n",
      "4            6  2021-02-08  Marion  18097   1542     219\n"
     ]
    }
   ],
   "source": [
    "# THEN WORK BELOW TO DO SOMETHING THE RESULTS\n",
    "print(\"Columns:\")\n",
    "print('\\n'.join(covid19_cases_data.columns))\n",
    "print(\"\\nResults:\")\n",
    "print(covid19_cases_data.head())"
   ]
  },
  {
   "cell_type": "code",
   "execution_count": 8,
   "id": "a91c8875",
   "metadata": {
    "execution": {
     "iopub.execute_input": "2023-05-10T01:21:53.762647Z",
     "iopub.status.busy": "2023-05-10T01:21:53.762415Z",
     "iopub.status.idle": "2023-05-10T01:21:53.765082Z",
     "shell.execute_reply": "2023-05-10T01:21:53.764589Z"
    }
   },
   "outputs": [],
   "source": [
    "query = \"\"\"\n",
    "SELECT COUNT(*)\n",
    "FROM `ironhacks-data.ironhacks_training.covid19_cases`\n",
    "\"\"\""
   ]
  },
  {
   "cell_type": "code",
   "execution_count": 9,
   "id": "32a73860",
   "metadata": {
    "execution": {
     "iopub.execute_input": "2023-05-10T01:21:53.767338Z",
     "iopub.status.busy": "2023-05-10T01:21:53.767147Z",
     "iopub.status.idle": "2023-05-10T01:21:55.557742Z",
     "shell.execute_reply": "2023-05-10T01:21:55.556809Z"
    }
   },
   "outputs": [],
   "source": [
    "query_job = bigquery_client.query(query)\n",
    "covid19_cases_data = query_job.to_dataframe()"
   ]
  },
  {
   "cell_type": "code",
   "execution_count": 10,
   "id": "9f0dd17c",
   "metadata": {
    "execution": {
     "iopub.execute_input": "2023-05-10T01:21:55.564240Z",
     "iopub.status.busy": "2023-05-10T01:21:55.563195Z",
     "iopub.status.idle": "2023-05-10T01:21:55.570089Z",
     "shell.execute_reply": "2023-05-10T01:21:55.569420Z"
    }
   },
   "outputs": [
    {
     "name": "stdout",
     "output_type": "stream",
     "text": [
      "   f0_\n",
      "0   46\n"
     ]
    }
   ],
   "source": [
    "print(covid19_cases_data)"
   ]
  },
  {
   "cell_type": "code",
   "execution_count": 11,
   "id": "d426d414",
   "metadata": {
    "execution": {
     "iopub.execute_input": "2023-05-10T01:21:55.575089Z",
     "iopub.status.busy": "2023-05-10T01:21:55.574720Z",
     "iopub.status.idle": "2023-05-10T01:21:55.579707Z",
     "shell.execute_reply": "2023-05-10T01:21:55.578233Z"
    }
   },
   "outputs": [],
   "source": [
    "query = \"\"\"\n",
    "SELECT \n",
    "week_number,\n",
    "cases \n",
    "FROM `ironhacks-data.ironhacks_training.covid19_cases`\n",
    "Where week_number between 1 and 3\n",
    "order by week_number\n",
    "\"\"\""
   ]
  },
  {
   "cell_type": "code",
   "execution_count": 12,
   "id": "5dceb042",
   "metadata": {
    "execution": {
     "iopub.execute_input": "2023-05-10T01:21:55.584751Z",
     "iopub.status.busy": "2023-05-10T01:21:55.584378Z",
     "iopub.status.idle": "2023-05-10T01:21:57.365065Z",
     "shell.execute_reply": "2023-05-10T01:21:57.364212Z"
    }
   },
   "outputs": [],
   "source": [
    "query_job = bigquery_client.query(query)\n",
    "covid19_cases_data = query_job.to_dataframe()"
   ]
  },
  {
   "cell_type": "code",
   "execution_count": 13,
   "id": "dd55d2b5",
   "metadata": {
    "execution": {
     "iopub.execute_input": "2023-05-10T01:21:57.369351Z",
     "iopub.status.busy": "2023-05-10T01:21:57.369012Z",
     "iopub.status.idle": "2023-05-10T01:21:57.377249Z",
     "shell.execute_reply": "2023-05-10T01:21:57.376357Z"
    }
   },
   "outputs": [
    {
     "name": "stdout",
     "output_type": "stream",
     "text": [
      "   week_number  cases\n",
      "0            1   4714\n",
      "1            1    964\n",
      "2            2   5289\n",
      "3            2   1232\n",
      "4            3   3460\n"
     ]
    }
   ],
   "source": [
    "print(covid19_cases_data.head())"
   ]
  },
  {
   "cell_type": "code",
   "execution_count": 14,
   "id": "e0bd31fc",
   "metadata": {
    "execution": {
     "iopub.execute_input": "2023-05-10T01:21:57.384067Z",
     "iopub.status.busy": "2023-05-10T01:21:57.383673Z",
     "iopub.status.idle": "2023-05-10T01:21:57.392135Z",
     "shell.execute_reply": "2023-05-10T01:21:57.391361Z"
    },
    "lines_to_next_cell": 2
   },
   "outputs": [
    {
     "name": "stdout",
     "output_type": "stream",
     "text": [
      "mean:  cases    2732.666667\n",
      "dtype: float64\n"
     ]
    }
   ],
   "source": [
    "df = pandas.DataFrame(covid19_cases_data, columns = ['cases'])\n",
    "print(\"mean: \", df.mean()); "
   ]
  }
 ],
 "metadata": {
  "jupytext": {
   "cell_metadata_filter": "-all",
   "main_language": "python",
   "notebook_metadata_filter": "-all"
  },
  "language_info": {
   "codemirror_mode": {
    "name": "ipython",
    "version": 3
   },
   "file_extension": ".py",
   "mimetype": "text/x-python",
   "name": "python",
   "nbconvert_exporter": "python",
   "pygments_lexer": "ipython3",
   "version": "3.9.12"
  }
 },
 "nbformat": 4,
 "nbformat_minor": 5
}
