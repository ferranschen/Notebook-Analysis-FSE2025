{
 "cells": [
  {
   "cell_type": "code",
   "execution_count": 1,
   "id": "33e63788",
   "metadata": {
    "execution": {
     "iopub.execute_input": "2023-05-09T21:28:35.268155Z",
     "iopub.status.busy": "2023-05-09T21:28:35.267994Z",
     "iopub.status.idle": "2023-05-09T21:28:35.278996Z",
     "shell.execute_reply": "2023-05-09T21:28:35.278615Z"
    }
   },
   "outputs": [],
   "source": [
    "get_ipython().run_cell_magic('capture', '', \"%logstop\\n%logstart -t -r -q ipython_command_log.py global\\n\\n#- IRONHACKS RESEARCH TRACKING CODE\\n#----------------------------------\\n# The following code is used to help our research team understand how you \\n# our notebook environment. We do not collect any personal information with\\n# the following code, it is used to measure when and how often you work on\\n# your submission files.\\n\\nimport os\\nfrom datetime import datetime\\nimport IPython.core.history as history\\n\\nha = history.HistoryAccessor()\\nha_tail = ha.get_tail(1)\\nha_cmd = next(ha_tail)\\nsession_id = str(ha_cmd[0])\\ncommand_id = str(ha_cmd[1])\\ntimestamp = datetime.utcnow().isoformat()\\nhistory_line = ','.join([session_id, command_id, timestamp]) + '\\\\n'\\nlogfile = open(os.environ['HOME']+'/ipython_session_log.csv', 'a')\\nlogfile.write(history_line)\\nlogfile.close()\\n\")"
   ]
  },
  {
   "cell_type": "code",
   "execution_count": 2,
   "id": "765503cd",
   "metadata": {
    "execution": {
     "iopub.execute_input": "2023-05-09T21:28:35.281107Z",
     "iopub.status.busy": "2023-05-09T21:28:35.280956Z",
     "iopub.status.idle": "2023-05-09T21:28:36.103958Z",
     "shell.execute_reply": "2023-05-09T21:28:36.103677Z"
    }
   },
   "outputs": [],
   "source": [
    "#LIBRARIES\n",
    "import os\n",
    "import pandas as pd\n",
    "import numpy as np\n",
    "import seaborn as sns\n",
    "import matplotlib.pyplot as plt\n",
    "from pandas import Series, DataFrame\n",
    "import warnings \n",
    "warnings.filterwarnings('ignore')\n",
    "from scipy import stats  \n",
    "from google.cloud import bigquery\n",
    "from google.oauth2 import service_account\n",
    "from google.cloud.bigquery import magics\n",
    "from sklearn.impute import SimpleImputer\n",
    "from sklearn import linear_model\n",
    "from sklearn.model_selection import train_test_split \n",
    "from sklearn.linear_model import LinearRegression\n",
    "from sklearn import metrics"
   ]
  },
  {
   "cell_type": "code",
   "execution_count": 3,
   "id": "22043f3e",
   "metadata": {
    "execution": {
     "iopub.execute_input": "2023-05-09T21:28:36.106109Z",
     "iopub.status.busy": "2023-05-09T21:28:36.105907Z",
     "iopub.status.idle": "2023-05-09T21:28:36.216571Z",
     "shell.execute_reply": "2023-05-09T21:28:36.216298Z"
    }
   },
   "outputs": [
    {
     "ename": "ModuleNotFoundError",
     "evalue": "No module named 'neuralprophet'",
     "output_type": "error",
     "traceback": [
      "\u001b[0;31m---------------------------------------------------------------------------\u001b[0m",
      "\u001b[0;31mModuleNotFoundError\u001b[0m                       Traceback (most recent call last)",
      "Cell \u001b[0;32mIn [3], line 1\u001b[0m\n\u001b[0;32m----> 1\u001b[0m \u001b[38;5;28;01mfrom\u001b[39;00m \u001b[38;5;21;01mneuralprophet\u001b[39;00m \u001b[38;5;28;01mimport\u001b[39;00m NeuralProphet\n\u001b[1;32m      2\u001b[0m \u001b[38;5;28;01mimport\u001b[39;00m \u001b[38;5;21;01mpickle\u001b[39;00m\n",
      "\u001b[0;31mModuleNotFoundError\u001b[0m: No module named 'neuralprophet'"
     ]
    }
   ],
   "source": [
    "from neuralprophet import NeuralProphet\n",
    "import pickle"
   ]
  },
  {
   "cell_type": "code",
   "execution_count": 4,
   "id": "8a4a5667",
   "metadata": {
    "execution": {
     "iopub.execute_input": "2023-05-09T21:28:36.218095Z",
     "iopub.status.busy": "2023-05-09T21:28:36.217984Z",
     "iopub.status.idle": "2023-05-09T21:28:39.037298Z",
     "shell.execute_reply": "2023-05-09T21:28:39.036652Z"
    },
    "lines_to_next_cell": 2
   },
   "outputs": [
    {
     "name": "stdout",
     "output_type": "stream",
     "text": [
      "\u001b[33mWARNING: Ignoring invalid distribution -umpy (/opt/anaconda3/lib/python3.9/site-packages)\u001b[0m\r\n",
      "\u001b[33mWARNING: Ignoring invalid distribution -umpy (/opt/anaconda3/lib/python3.9/site-packages)\u001b[0m\r\n",
      "Requirement already satisfied: localpip in /opt/anaconda3/lib/python3.9/site-packages (1.0.7)\r\n",
      "Requirement already satisfied: bs4 in /opt/anaconda3/lib/python3.9/site-packages (from localpip) (0.0.1)\r\n",
      "Requirement already satisfied: pypac in /opt/anaconda3/lib/python3.9/site-packages (from localpip) (0.16.3)\r\n",
      "Requirement already satisfied: requests in /opt/anaconda3/lib/python3.9/site-packages (from localpip) (2.26.0)\r\n",
      "Requirement already satisfied: beautifulsoup4 in /opt/anaconda3/lib/python3.9/site-packages (from bs4->localpip) (4.10.0)\r\n",
      "Requirement already satisfied: soupsieve>1.2 in /opt/anaconda3/lib/python3.9/site-packages (from beautifulsoup4->bs4->localpip) (2.2.1)\r\n",
      "Requirement already satisfied: tldextract>=2.2.3 in /opt/anaconda3/lib/python3.9/site-packages (from pypac->localpip) (3.4.0)\r\n",
      "Requirement already satisfied: dukpy>=0.2.2 in /opt/anaconda3/lib/python3.9/site-packages (from pypac->localpip) (0.3.0)\r\n",
      "Requirement already satisfied: pyobjc-framework-SystemConfiguration>=3.2.1 in /opt/anaconda3/lib/python3.9/site-packages (from pypac->localpip) (9.1.1)\r\n"
     ]
    },
    {
     "name": "stdout",
     "output_type": "stream",
     "text": [
      "Requirement already satisfied: pyobjc-core>=9.1.1 in /opt/anaconda3/lib/python3.9/site-packages (from pyobjc-framework-SystemConfiguration>=3.2.1->pypac->localpip) (9.1.1)\r\n",
      "Requirement already satisfied: pyobjc-framework-Cocoa>=9.1.1 in /opt/anaconda3/lib/python3.9/site-packages (from pyobjc-framework-SystemConfiguration>=3.2.1->pypac->localpip) (9.1.1)\r\n",
      "Requirement already satisfied: urllib3<1.27,>=1.21.1 in /opt/anaconda3/lib/python3.9/site-packages (from requests->localpip) (1.26.7)\r\n",
      "Requirement already satisfied: charset-normalizer~=2.0.0 in /opt/anaconda3/lib/python3.9/site-packages (from requests->localpip) (2.0.4)\r\n",
      "Requirement already satisfied: idna<4,>=2.5 in /opt/anaconda3/lib/python3.9/site-packages (from requests->localpip) (3.2)\r\n",
      "Requirement already satisfied: certifi>=2017.4.17 in /opt/anaconda3/lib/python3.9/site-packages (from requests->localpip) (2021.10.8)\r\n",
      "Requirement already satisfied: filelock>=3.0.8 in /opt/anaconda3/lib/python3.9/site-packages (from tldextract>=2.2.3->pypac->localpip) (3.11.0)\r\n",
      "Requirement already satisfied: requests-file>=1.4 in /opt/anaconda3/lib/python3.9/site-packages (from tldextract>=2.2.3->pypac->localpip) (1.5.1)\r\n",
      "Requirement already satisfied: six in /opt/anaconda3/lib/python3.9/site-packages (from requests-file>=1.4->tldextract>=2.2.3->pypac->localpip) (1.16.0)\r\n",
      "\u001b[33mWARNING: Ignoring invalid distribution -umpy (/opt/anaconda3/lib/python3.9/site-packages)\u001b[0m\r\n"
     ]
    },
    {
     "name": "stdout",
     "output_type": "stream",
     "text": [
      "\u001b[33mWARNING: Ignoring invalid distribution -umpy (/opt/anaconda3/lib/python3.9/site-packages)\u001b[0m\r\n",
      "\u001b[33mWARNING: Ignoring invalid distribution -umpy (/opt/anaconda3/lib/python3.9/site-packages)\u001b[0m\r\n",
      "\u001b[33mWARNING: Ignoring invalid distribution -umpy (/opt/anaconda3/lib/python3.9/site-packages)\u001b[0m\r\n"
     ]
    },
    {
     "name": "stdout",
     "output_type": "stream",
     "text": [
      "Traceback (most recent call last):\r\n",
      "  File \"/opt/anaconda3/bin/localpip\", line 5, in <module>\r\n",
      "    from localpip.__main__ import main\r\n",
      "  File \"/opt/anaconda3/lib/python3.9/site-packages/localpip/__main__.py\", line 5, in <module>\r\n",
      "    from ctypes import Structure, byref, windll\r\n",
      "ImportError: cannot import name 'windll' from 'ctypes' (/opt/anaconda3/lib/python3.9/ctypes/__init__.py)\r\n"
     ]
    }
   ],
   "source": [
    "get_ipython().system('pip install localpip')\n",
    "get_ipython().system('localpip install neuralprophet')"
   ]
  }
 ],
 "metadata": {
  "jupytext": {
   "cell_metadata_filter": "-all",
   "main_language": "python",
   "notebook_metadata_filter": "-all"
  },
  "kernelspec": {
   "display_name": "base",
   "language": "python",
   "name": "python3"
  },
  "language_info": {
   "codemirror_mode": {
    "name": "ipython",
    "version": 3
   },
   "file_extension": ".py",
   "mimetype": "text/x-python",
   "name": "python",
   "nbconvert_exporter": "python",
   "pygments_lexer": "ipython3",
   "version": "3.9.12"
  }
 },
 "nbformat": 4,
 "nbformat_minor": 5
}
