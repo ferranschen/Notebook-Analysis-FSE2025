{
 "cells": [
  {
   "cell_type": "code",
   "execution_count": 1,
   "id": "2e15d653",
   "metadata": {
    "execution": {
     "iopub.execute_input": "2023-05-10T00:56:44.514464Z",
     "iopub.status.busy": "2023-05-10T00:56:44.513937Z",
     "iopub.status.idle": "2023-05-10T00:56:44.966005Z",
     "shell.execute_reply": "2023-05-10T00:56:44.965709Z"
    }
   },
   "outputs": [],
   "source": [
    "import os\n",
    "import pandas\n",
    "from google.cloud import bigquery\n",
    "from google.oauth2 import service_account\n",
    "from google.cloud.bigquery import magics"
   ]
  },
  {
   "cell_type": "code",
   "execution_count": 2,
   "id": "71a35d70",
   "metadata": {
    "execution": {
     "iopub.execute_input": "2023-05-10T00:56:44.967732Z",
     "iopub.status.busy": "2023-05-10T00:56:44.967602Z",
     "iopub.status.idle": "2023-05-10T00:56:45.551593Z",
     "shell.execute_reply": "2023-05-10T00:56:45.551166Z"
    }
   },
   "outputs": [
    {
     "name": "stdout",
     "output_type": "stream",
     "text": [
      "zsh:1: command not found: gcloud\r\n"
     ]
    },
    {
     "name": "stdout",
     "output_type": "stream",
     "text": [
      "zsh:1: command not found: gcloud\r\n"
     ]
    }
   ],
   "source": [
    "# Run these terminal commands when your Notebook Session begins\n",
    "get_ipython().system('gcloud auth login')\n",
    "get_ipython().system('gcloud auth application-default set-quota-project ironhacks-data')"
   ]
  },
  {
   "cell_type": "code",
   "execution_count": 3,
   "id": "e8d9d31b",
   "metadata": {
    "execution": {
     "iopub.execute_input": "2023-05-10T00:56:45.553512Z",
     "iopub.status.busy": "2023-05-10T00:56:45.553380Z",
     "iopub.status.idle": "2023-05-10T00:56:45.555735Z",
     "shell.execute_reply": "2023-05-10T00:56:45.555487Z"
    }
   },
   "outputs": [
    {
     "ename": "SyntaxError",
     "evalue": "invalid syntax (1294830799.py, line 2)",
     "output_type": "error",
     "traceback": [
      "\u001b[0;36m  Cell \u001b[0;32mIn [3], line 2\u001b[0;36m\u001b[0m\n\u001b[0;31m    gcloud auth login\u001b[0m\n\u001b[0m           ^\u001b[0m\n\u001b[0;31mSyntaxError\u001b[0m\u001b[0;31m:\u001b[0m invalid syntax\n"
     ]
    }
   ],
   "source": [
    "# Run these terminal commands when your Notebook Session begins\n",
    "gcloud auth login\n",
    "gcloud auth application-default set-quota-project ironhacks-data"
   ]
  },
  {
   "cell_type": "code",
   "execution_count": 4,
   "id": "1527c00f",
   "metadata": {
    "execution": {
     "iopub.execute_input": "2023-05-10T00:56:45.557142Z",
     "iopub.status.busy": "2023-05-10T00:56:45.557039Z",
     "iopub.status.idle": "2023-05-10T00:56:45.558879Z",
     "shell.execute_reply": "2023-05-10T00:56:45.558633Z"
    }
   },
   "outputs": [],
   "source": [
    "import os\n",
    "import pandas\n",
    "from google.cloud import bigquery\n",
    "from google.oauth2 import service_account\n",
    "from google.cloud.bigquery import magics"
   ]
  },
  {
   "cell_type": "markdown",
   "id": "c1de4ad1",
   "metadata": {},
   "source": [
    "CONFIGURE THE BIGQUERY SETTINGS"
   ]
  },
  {
   "cell_type": "code",
   "execution_count": 5,
   "id": "d7fb0262",
   "metadata": {
    "execution": {
     "iopub.execute_input": "2023-05-10T00:56:45.560336Z",
     "iopub.status.busy": "2023-05-10T00:56:45.560175Z",
     "iopub.status.idle": "2023-05-10T00:56:45.567246Z",
     "shell.execute_reply": "2023-05-10T00:56:45.566878Z"
    }
   },
   "outputs": [],
   "source": [
    "BIGQUERY_PROJECT = 'ironhacks-data'\n",
    "bigquery_client = bigquery.Client(project=BIGQUERY_PROJECT)"
   ]
  },
  {
   "cell_type": "code",
   "execution_count": 6,
   "id": "30a05b24",
   "metadata": {
    "execution": {
     "iopub.execute_input": "2023-05-10T00:56:45.568958Z",
     "iopub.status.busy": "2023-05-10T00:56:45.568844Z",
     "iopub.status.idle": "2023-05-10T00:56:45.570678Z",
     "shell.execute_reply": "2023-05-10T00:56:45.570448Z"
    }
   },
   "outputs": [],
   "source": [
    "query = \"\"\"\n",
    "SELECT *\n",
    "FROM `ironhacks-data.ironhacks_training.covid19_cases`\n",
    "\"\"\""
   ]
  },
  {
   "cell_type": "code",
   "execution_count": 7,
   "id": "bab4640e",
   "metadata": {
    "execution": {
     "iopub.execute_input": "2023-05-10T00:56:45.572072Z",
     "iopub.status.busy": "2023-05-10T00:56:45.571969Z",
     "iopub.status.idle": "2023-05-10T00:56:48.054608Z",
     "shell.execute_reply": "2023-05-10T00:56:48.053889Z"
    }
   },
   "outputs": [],
   "source": [
    "# QUERY THE DATA ONCE\n",
    "query_job = bigquery_client.query(query)\n",
    "covid19_cases_data = query_job.to_dataframe()"
   ]
  },
  {
   "cell_type": "code",
   "execution_count": 8,
   "id": "1d1d15e5",
   "metadata": {
    "execution": {
     "iopub.execute_input": "2023-05-10T00:56:48.058686Z",
     "iopub.status.busy": "2023-05-10T00:56:48.058352Z",
     "iopub.status.idle": "2023-05-10T00:56:49.196845Z",
     "shell.execute_reply": "2023-05-10T00:56:49.196112Z"
    }
   },
   "outputs": [
    {
     "name": "stdout",
     "output_type": "stream",
     "text": [
      "\u001b[33mDEPRECATION: Configuring installation scheme with distutils config files is deprecated and will no longer work in the near future. If you are using a Homebrew or Linuxbrew Python, please see discussion at https://github.com/Homebrew/homebrew-core/issues/76621\u001b[0m\u001b[33m\r\n",
      "\u001b[0m"
     ]
    },
    {
     "name": "stdout",
     "output_type": "stream",
     "text": [
      "Requirement already satisfied: db-dtypes in /opt/homebrew/lib/python3.9/site-packages (1.0.5)\r\n",
      "Requirement already satisfied: packaging>=17.0 in /Users/weihaochen/Library/Python/3.9/lib/python/site-packages (from db-dtypes) (21.3)\r\n",
      "Requirement already satisfied: pyarrow>=3.0.0 in /opt/homebrew/lib/python3.9/site-packages (from db-dtypes) (10.0.0)\r\n",
      "Requirement already satisfied: pandas<2.0dev,>=0.24.2 in /opt/homebrew/lib/python3.9/site-packages (from db-dtypes) (1.5.1)\r\n",
      "Requirement already satisfied: numpy<2.0dev,>=1.16.6 in /opt/homebrew/lib/python3.9/site-packages (from db-dtypes) (1.23.4)\r\n",
      "Requirement already satisfied: pyparsing!=3.0.5,>=2.0.2 in /Users/weihaochen/Library/Python/3.9/lib/python/site-packages (from packaging>=17.0->db-dtypes) (3.0.9)\r\n",
      "Requirement already satisfied: pytz>=2020.1 in /opt/homebrew/lib/python3.9/site-packages (from pandas<2.0dev,>=0.24.2->db-dtypes) (2022.6)\r\n",
      "Requirement already satisfied: python-dateutil>=2.8.1 in /Users/weihaochen/Library/Python/3.9/lib/python/site-packages (from pandas<2.0dev,>=0.24.2->db-dtypes) (2.8.2)\r\n",
      "Requirement already satisfied: six>=1.5 in /Users/weihaochen/Library/Python/3.9/lib/python/site-packages (from python-dateutil>=2.8.1->pandas<2.0dev,>=0.24.2->db-dtypes) (1.16.0)\r\n"
     ]
    },
    {
     "name": "stdout",
     "output_type": "stream",
     "text": [
      "\u001b[33mDEPRECATION: Configuring installation scheme with distutils config files is deprecated and will no longer work in the near future. If you are using a Homebrew or Linuxbrew Python, please see discussion at https://github.com/Homebrew/homebrew-core/issues/76621\u001b[0m\u001b[33m\r\n",
      "\u001b[0m\u001b[33mWARNING: You are using pip version 22.0.4; however, version 23.1.2 is available.\r\n",
      "You should consider upgrading via the '/opt/homebrew/opt/python@3.9/bin/python3.9 -m pip install --upgrade pip' command.\u001b[0m\u001b[33m\r\n",
      "\u001b[0m"
     ]
    },
    {
     "name": "stdout",
     "output_type": "stream",
     "text": [
      "Note: you may need to restart the kernel to use updated packages.\n"
     ]
    }
   ],
   "source": [
    "get_ipython().run_line_magic('pip', 'install db-dtypes')"
   ]
  },
  {
   "cell_type": "code",
   "execution_count": 9,
   "id": "e9e3c721",
   "metadata": {
    "execution": {
     "iopub.execute_input": "2023-05-10T00:56:49.199642Z",
     "iopub.status.busy": "2023-05-10T00:56:49.199404Z",
     "iopub.status.idle": "2023-05-10T00:56:49.202112Z",
     "shell.execute_reply": "2023-05-10T00:56:49.201674Z"
    }
   },
   "outputs": [],
   "source": [
    "query = \"\"\"\n",
    "SELECT *\n",
    "FROM `ironhacks-data.ironhacks_training.covid19_cases`\n",
    "\"\"\""
   ]
  },
  {
   "cell_type": "code",
   "execution_count": 10,
   "id": "8f86bb6f",
   "metadata": {
    "execution": {
     "iopub.execute_input": "2023-05-10T00:56:49.204267Z",
     "iopub.status.busy": "2023-05-10T00:56:49.204078Z",
     "iopub.status.idle": "2023-05-10T00:56:50.616963Z",
     "shell.execute_reply": "2023-05-10T00:56:50.615854Z"
    }
   },
   "outputs": [],
   "source": [
    "# QUERY THE DATA ONCE\n",
    "query_job = bigquery_client.query(query)\n",
    "covid19_cases_data = query_job.to_dataframe()"
   ]
  },
  {
   "cell_type": "code",
   "execution_count": 11,
   "id": "a0fbf143",
   "metadata": {
    "execution": {
     "iopub.execute_input": "2023-05-10T00:56:50.623767Z",
     "iopub.status.busy": "2023-05-10T00:56:50.623301Z",
     "iopub.status.idle": "2023-05-10T00:56:51.757340Z",
     "shell.execute_reply": "2023-05-10T00:56:51.756651Z"
    }
   },
   "outputs": [
    {
     "name": "stdout",
     "output_type": "stream",
     "text": [
      "\u001b[33mDEPRECATION: Configuring installation scheme with distutils config files is deprecated and will no longer work in the near future. If you are using a Homebrew or Linuxbrew Python, please see discussion at https://github.com/Homebrew/homebrew-core/issues/76621\u001b[0m\u001b[33m\r\n",
      "\u001b[0m"
     ]
    },
    {
     "name": "stdout",
     "output_type": "stream",
     "text": [
      "Requirement already satisfied: db-dtypes in /opt/homebrew/lib/python3.9/site-packages (1.0.5)\r\n",
      "Requirement already satisfied: numpy<2.0dev,>=1.16.6 in /opt/homebrew/lib/python3.9/site-packages (from db-dtypes) (1.23.4)\r\n",
      "Requirement already satisfied: pandas<2.0dev,>=0.24.2 in /opt/homebrew/lib/python3.9/site-packages (from db-dtypes) (1.5.1)\r\n",
      "Requirement already satisfied: pyarrow>=3.0.0 in /opt/homebrew/lib/python3.9/site-packages (from db-dtypes) (10.0.0)\r\n",
      "Requirement already satisfied: packaging>=17.0 in /Users/weihaochen/Library/Python/3.9/lib/python/site-packages (from db-dtypes) (21.3)\r\n",
      "Requirement already satisfied: pyparsing!=3.0.5,>=2.0.2 in /Users/weihaochen/Library/Python/3.9/lib/python/site-packages (from packaging>=17.0->db-dtypes) (3.0.9)\r\n",
      "Requirement already satisfied: python-dateutil>=2.8.1 in /Users/weihaochen/Library/Python/3.9/lib/python/site-packages (from pandas<2.0dev,>=0.24.2->db-dtypes) (2.8.2)\r\n",
      "Requirement already satisfied: pytz>=2020.1 in /opt/homebrew/lib/python3.9/site-packages (from pandas<2.0dev,>=0.24.2->db-dtypes) (2022.6)\r\n",
      "Requirement already satisfied: six>=1.5 in /Users/weihaochen/Library/Python/3.9/lib/python/site-packages (from python-dateutil>=2.8.1->pandas<2.0dev,>=0.24.2->db-dtypes) (1.16.0)\r\n"
     ]
    },
    {
     "name": "stdout",
     "output_type": "stream",
     "text": [
      "\u001b[33mDEPRECATION: Configuring installation scheme with distutils config files is deprecated and will no longer work in the near future. If you are using a Homebrew or Linuxbrew Python, please see discussion at https://github.com/Homebrew/homebrew-core/issues/76621\u001b[0m\u001b[33m\r\n",
      "\u001b[0m"
     ]
    },
    {
     "name": "stdout",
     "output_type": "stream",
     "text": [
      "\u001b[33mWARNING: You are using pip version 22.0.4; however, version 23.1.2 is available.\r\n",
      "You should consider upgrading via the '/opt/homebrew/opt/python@3.9/bin/python3.9 -m pip install --upgrade pip' command.\u001b[0m\u001b[33m\r\n",
      "\u001b[0m"
     ]
    },
    {
     "name": "stdout",
     "output_type": "stream",
     "text": [
      "Note: you may need to restart the kernel to use updated packages.\n"
     ]
    }
   ],
   "source": [
    "get_ipython().run_line_magic('pip', 'install db-dtypes')"
   ]
  },
  {
   "cell_type": "markdown",
   "id": "0a2df86d",
   "metadata": {},
   "source": [
    "CONFIGURE THE BIGQUERY SETTINGS"
   ]
  },
  {
   "cell_type": "code",
   "execution_count": 12,
   "id": "a6bac352",
   "metadata": {
    "execution": {
     "iopub.execute_input": "2023-05-10T00:56:51.760394Z",
     "iopub.status.busy": "2023-05-10T00:56:51.760147Z",
     "iopub.status.idle": "2023-05-10T00:56:51.770144Z",
     "shell.execute_reply": "2023-05-10T00:56:51.769583Z"
    }
   },
   "outputs": [],
   "source": [
    "BIGQUERY_PROJECT = 'ironhacks-data'\n",
    "bigquery_client = bigquery.Client(project=BIGQUERY_PROJECT)"
   ]
  },
  {
   "cell_type": "code",
   "execution_count": 13,
   "id": "2cbc45a5",
   "metadata": {
    "execution": {
     "iopub.execute_input": "2023-05-10T00:56:51.772748Z",
     "iopub.status.busy": "2023-05-10T00:56:51.772554Z",
     "iopub.status.idle": "2023-05-10T00:56:51.775011Z",
     "shell.execute_reply": "2023-05-10T00:56:51.774602Z"
    }
   },
   "outputs": [],
   "source": [
    "query = \"\"\"\n",
    "SELECT *\n",
    "FROM `ironhacks-data.ironhacks_training.covid19_cases`\n",
    "\"\"\""
   ]
  },
  {
   "cell_type": "code",
   "execution_count": 14,
   "id": "cc957994",
   "metadata": {
    "execution": {
     "iopub.execute_input": "2023-05-10T00:56:51.777139Z",
     "iopub.status.busy": "2023-05-10T00:56:51.776987Z",
     "iopub.status.idle": "2023-05-10T00:56:53.483422Z",
     "shell.execute_reply": "2023-05-10T00:56:53.482062Z"
    }
   },
   "outputs": [],
   "source": [
    "# QUERY THE DATA ONCE\n",
    "query_job = bigquery_client.query(query)\n",
    "covid19_cases_data = query_job.to_dataframe()"
   ]
  },
  {
   "cell_type": "markdown",
   "id": "453e48aa",
   "metadata": {},
   "source": [
    "CONFIGURE THE BIGQUERY SETTINGS"
   ]
  },
  {
   "cell_type": "code",
   "execution_count": 15,
   "id": "23c9ce25",
   "metadata": {
    "execution": {
     "iopub.execute_input": "2023-05-10T00:56:53.489984Z",
     "iopub.status.busy": "2023-05-10T00:56:53.489603Z",
     "iopub.status.idle": "2023-05-10T00:56:53.507055Z",
     "shell.execute_reply": "2023-05-10T00:56:53.505932Z"
    }
   },
   "outputs": [],
   "source": [
    "BIGQUERY_PROJECT = 'ironhacks-data'\n",
    "bigquery_client = bigquery.Client(project=BIGQUERY_PROJECT)"
   ]
  },
  {
   "cell_type": "code",
   "execution_count": 16,
   "id": "ea837a4f",
   "metadata": {
    "execution": {
     "iopub.execute_input": "2023-05-10T00:56:53.511608Z",
     "iopub.status.busy": "2023-05-10T00:56:53.511248Z",
     "iopub.status.idle": "2023-05-10T00:56:53.515303Z",
     "shell.execute_reply": "2023-05-10T00:56:53.514603Z"
    }
   },
   "outputs": [],
   "source": [
    "query = \"\"\"\n",
    "SELECT *\n",
    "FROM `ironhacks-data.ironhacks_training.covid19_cases`\n",
    "\"\"\""
   ]
  },
  {
   "cell_type": "code",
   "execution_count": 17,
   "id": "cfff0aa5",
   "metadata": {
    "execution": {
     "iopub.execute_input": "2023-05-10T00:56:53.518719Z",
     "iopub.status.busy": "2023-05-10T00:56:53.518324Z",
     "iopub.status.idle": "2023-05-10T00:56:55.204539Z",
     "shell.execute_reply": "2023-05-10T00:56:55.203286Z"
    }
   },
   "outputs": [],
   "source": [
    "# QUERY THE DATA ONCE\n",
    "query_job = bigquery_client.query(query)\n",
    "covid19_cases_data = query_job.to_dataframe()"
   ]
  },
  {
   "cell_type": "code",
   "execution_count": 18,
   "id": "ddbcff81",
   "metadata": {
    "execution": {
     "iopub.execute_input": "2023-05-10T00:56:55.211512Z",
     "iopub.status.busy": "2023-05-10T00:56:55.210987Z",
     "iopub.status.idle": "2023-05-10T00:56:55.217807Z",
     "shell.execute_reply": "2023-05-10T00:56:55.216815Z"
    }
   },
   "outputs": [
    {
     "ename": "SyntaxError",
     "evalue": "invalid syntax (2989339400.py, line 1)",
     "output_type": "error",
     "traceback": [
      "\u001b[0;36m  Cell \u001b[0;32mIn [18], line 1\u001b[0;36m\u001b[0m\n\u001b[0;31m    import db-dtypes\u001b[0m\n\u001b[0m             ^\u001b[0m\n\u001b[0;31mSyntaxError\u001b[0m\u001b[0;31m:\u001b[0m invalid syntax\n"
     ]
    }
   ],
   "source": [
    "import db-dtypes"
   ]
  },
  {
   "cell_type": "code",
   "execution_count": 19,
   "id": "4c3bbe5d",
   "metadata": {
    "execution": {
     "iopub.execute_input": "2023-05-10T00:56:55.222514Z",
     "iopub.status.busy": "2023-05-10T00:56:55.222120Z",
     "iopub.status.idle": "2023-05-10T00:56:55.226678Z",
     "shell.execute_reply": "2023-05-10T00:56:55.225563Z"
    }
   },
   "outputs": [],
   "source": [
    "import db_dtypes"
   ]
  },
  {
   "cell_type": "markdown",
   "id": "be3b42d7",
   "metadata": {},
   "source": [
    "CONFIGURE THE BIGQUERY SETTINGS"
   ]
  },
  {
   "cell_type": "code",
   "execution_count": 20,
   "id": "4a6c2aa6",
   "metadata": {
    "execution": {
     "iopub.execute_input": "2023-05-10T00:56:55.230855Z",
     "iopub.status.busy": "2023-05-10T00:56:55.230521Z",
     "iopub.status.idle": "2023-05-10T00:56:55.242304Z",
     "shell.execute_reply": "2023-05-10T00:56:55.241630Z"
    }
   },
   "outputs": [],
   "source": [
    "BIGQUERY_PROJECT = 'ironhacks-data'\n",
    "bigquery_client = bigquery.Client(project=BIGQUERY_PROJECT)"
   ]
  },
  {
   "cell_type": "code",
   "execution_count": 21,
   "id": "3826c164",
   "metadata": {
    "execution": {
     "iopub.execute_input": "2023-05-10T00:56:55.245852Z",
     "iopub.status.busy": "2023-05-10T00:56:55.245566Z",
     "iopub.status.idle": "2023-05-10T00:56:55.248501Z",
     "shell.execute_reply": "2023-05-10T00:56:55.248033Z"
    }
   },
   "outputs": [],
   "source": [
    "query = \"\"\"\n",
    "SELECT *\n",
    "FROM `ironhacks-data.ironhacks_training.covid19_cases`\n",
    "\"\"\""
   ]
  },
  {
   "cell_type": "code",
   "execution_count": 22,
   "id": "2ed81cbf",
   "metadata": {
    "execution": {
     "iopub.execute_input": "2023-05-10T00:56:55.250991Z",
     "iopub.status.busy": "2023-05-10T00:56:55.250768Z",
     "iopub.status.idle": "2023-05-10T00:56:56.757329Z",
     "shell.execute_reply": "2023-05-10T00:56:56.756147Z"
    }
   },
   "outputs": [],
   "source": [
    "# QUERY THE DATA ONCE\n",
    "query_job = bigquery_client.query(query)\n",
    "covid19_cases_data = query_job.to_dataframe()"
   ]
  },
  {
   "cell_type": "code",
   "execution_count": 23,
   "id": "23efe9b5",
   "metadata": {
    "execution": {
     "iopub.execute_input": "2023-05-10T00:56:56.763491Z",
     "iopub.status.busy": "2023-05-10T00:56:56.762981Z",
     "iopub.status.idle": "2023-05-10T00:56:56.766941Z",
     "shell.execute_reply": "2023-05-10T00:56:56.766081Z"
    }
   },
   "outputs": [],
   "source": [
    "query = \"\"\"\n",
    "SELECT *\n",
    "FROM `ironhacks-data.ironhacks_training.covid19_cases`\n",
    "\"\"\""
   ]
  },
  {
   "cell_type": "code",
   "execution_count": 24,
   "id": "48ff662d",
   "metadata": {
    "execution": {
     "iopub.execute_input": "2023-05-10T00:56:56.771428Z",
     "iopub.status.busy": "2023-05-10T00:56:56.770793Z",
     "iopub.status.idle": "2023-05-10T00:56:58.142114Z",
     "shell.execute_reply": "2023-05-10T00:56:58.140738Z"
    }
   },
   "outputs": [],
   "source": [
    "# QUERY THE DATA ONCE\n",
    "query_job = bigquery_client.query(query)\n",
    "covid19_cases_data = query_job.to_dataframe()"
   ]
  },
  {
   "cell_type": "code",
   "execution_count": 25,
   "id": "e0736c9d",
   "metadata": {
    "execution": {
     "iopub.execute_input": "2023-05-10T00:56:58.148814Z",
     "iopub.status.busy": "2023-05-10T00:56:58.148403Z",
     "iopub.status.idle": "2023-05-10T00:56:58.161594Z",
     "shell.execute_reply": "2023-05-10T00:56:58.160552Z"
    }
   },
   "outputs": [
    {
     "name": "stdout",
     "output_type": "stream",
     "text": [
      "Columns:\n",
      "week_number\n",
      "start_date\n",
      "county\n",
      "fips\n",
      "cases\n",
      "deaths\n",
      "\n",
      "Results:\n",
      "   week_number  start_date  county   fips  cases  deaths\n",
      "0            9  2021-03-01  Marion  18097    664      23\n",
      "1           12  2021-03-22  Marion  18097    623      11\n",
      "2           19  2021-05-10  Marion  18097   1156       4\n",
      "3           11  2021-03-15  Marion  18097    560      13\n",
      "4            6  2021-02-08  Marion  18097   1542     219\n"
     ]
    }
   ],
   "source": [
    "# THEN WORK BELOW TO DO SOMETHING THE RESULTS\n",
    "print(\"Columns:\")\n",
    "print('\\n'.join(covid19_cases_data.columns))\n",
    "print(\"\\nResults:\")\n",
    "print(covid19_cases_data.head())"
   ]
  },
  {
   "cell_type": "code",
   "execution_count": 26,
   "id": "bad44573",
   "metadata": {
    "execution": {
     "iopub.execute_input": "2023-05-10T00:56:58.165696Z",
     "iopub.status.busy": "2023-05-10T00:56:58.165364Z",
     "iopub.status.idle": "2023-05-10T00:56:58.168907Z",
     "shell.execute_reply": "2023-05-10T00:56:58.168155Z"
    }
   },
   "outputs": [],
   "source": [
    "import db_dtypes"
   ]
  },
  {
   "cell_type": "markdown",
   "id": "442124b1",
   "metadata": {},
   "source": [
    "CONFIGURE THE BIGQUERY SETTINGS"
   ]
  },
  {
   "cell_type": "code",
   "execution_count": 27,
   "id": "c9a297b2",
   "metadata": {
    "execution": {
     "iopub.execute_input": "2023-05-10T00:56:58.172269Z",
     "iopub.status.busy": "2023-05-10T00:56:58.171846Z",
     "iopub.status.idle": "2023-05-10T00:56:58.183426Z",
     "shell.execute_reply": "2023-05-10T00:56:58.182735Z"
    }
   },
   "outputs": [],
   "source": [
    "BIGQUERY_PROJECT = 'ironhacks-data'\n",
    "bigquery_client = bigquery.Client(project=BIGQUERY_PROJECT)"
   ]
  },
  {
   "cell_type": "code",
   "execution_count": 28,
   "id": "37cf7b7d",
   "metadata": {
    "execution": {
     "iopub.execute_input": "2023-05-10T00:56:58.186835Z",
     "iopub.status.busy": "2023-05-10T00:56:58.186582Z",
     "iopub.status.idle": "2023-05-10T00:56:58.189326Z",
     "shell.execute_reply": "2023-05-10T00:56:58.188875Z"
    }
   },
   "outputs": [],
   "source": [
    "query = \"\"\"\n",
    "SELECT *\n",
    "FROM `ironhacks-data.ironhacks_training.covid19_cases`\n",
    "\"\"\""
   ]
  },
  {
   "cell_type": "code",
   "execution_count": 29,
   "id": "fb2ff699",
   "metadata": {
    "execution": {
     "iopub.execute_input": "2023-05-10T00:56:58.191987Z",
     "iopub.status.busy": "2023-05-10T00:56:58.191764Z",
     "iopub.status.idle": "2023-05-10T00:56:59.938939Z",
     "shell.execute_reply": "2023-05-10T00:56:59.938258Z"
    },
    "lines_to_next_cell": 2
   },
   "outputs": [],
   "source": [
    "# QUERY THE DATA ONCE\n",
    "query_job = bigquery_client.query(query)\n",
    "covid19_cases_data = query_job.to_dataframe()"
   ]
  }
 ],
 "metadata": {
  "jupytext": {
   "cell_metadata_filter": "-all",
   "main_language": "python",
   "notebook_metadata_filter": "-all"
  },
  "kernelspec": {
   "display_name": "base",
   "language": "python",
   "name": "python3"
  },
  "language_info": {
   "codemirror_mode": {
    "name": "ipython",
    "version": 3
   },
   "file_extension": ".py",
   "mimetype": "text/x-python",
   "name": "python",
   "nbconvert_exporter": "python",
   "pygments_lexer": "ipython3",
   "version": "3.9.12"
  }
 },
 "nbformat": 4,
 "nbformat_minor": 5
}
