{
 "cells": [
  {
   "cell_type": "code",
   "execution_count": 1,
   "id": "38f36af0",
   "metadata": {
    "execution": {
     "iopub.execute_input": "2023-05-09T23:07:39.102331Z",
     "iopub.status.busy": "2023-05-09T23:07:39.101824Z",
     "iopub.status.idle": "2023-05-09T23:07:46.538191Z",
     "shell.execute_reply": "2023-05-09T23:07:46.537448Z"
    }
   },
   "outputs": [],
   "source": [
    "get_ipython().run_cell_magic('capture', '', '!pip install db-dtypes\\n!pip install keras\\n!pip install tensorflow\\n')"
   ]
  },
  {
   "cell_type": "code",
   "execution_count": 2,
   "id": "e37f3355",
   "metadata": {
    "execution": {
     "iopub.execute_input": "2023-05-09T23:07:46.541454Z",
     "iopub.status.busy": "2023-05-09T23:07:46.541202Z",
     "iopub.status.idle": "2023-05-09T23:07:46.550142Z",
     "shell.execute_reply": "2023-05-09T23:07:46.549740Z"
    }
   },
   "outputs": [],
   "source": [
    "get_ipython().run_cell_magic('capture', '', \"%logstop\\n%logstart -t -r -q ipython_command_log.py global\\n\\n#- IRONHACKS RESEARCH TRACKING CODE\\n#----------------------------------\\n# The following code is used to help our research team understand how you \\n# our notebook environment. We do not collect any personal information with\\n# the following code, it is used to measure when and how often you work on\\n# your submission files.\\n\\nimport os\\nfrom datetime import datetime\\nimport IPython.core.history as history\\n\\nha = history.HistoryAccessor()\\nha_tail = ha.get_tail(1)\\nha_cmd = next(ha_tail)\\nsession_id = str(ha_cmd[0])\\ncommand_id = str(ha_cmd[1])\\ntimestamp = datetime.utcnow().isoformat()\\nhistory_line = ','.join([session_id, command_id, timestamp]) + '\\\\n'\\nlogfile = open(os.environ['HOME']+'/ipython_session_log.csv', 'a')\\nlogfile.write(history_line)\\nlogfile.close()\\n\")"
   ]
  },
  {
   "cell_type": "code",
   "execution_count": 3,
   "id": "38d6963e",
   "metadata": {
    "execution": {
     "iopub.execute_input": "2023-05-09T23:07:46.552343Z",
     "iopub.status.busy": "2023-05-09T23:07:46.552162Z",
     "iopub.status.idle": "2023-05-09T23:07:47.528774Z",
     "shell.execute_reply": "2023-05-09T23:07:47.528485Z"
    }
   },
   "outputs": [
    {
     "ename": "ModuleNotFoundError",
     "evalue": "No module named 'keras'",
     "output_type": "error",
     "traceback": [
      "\u001b[0;31m---------------------------------------------------------------------------\u001b[0m",
      "\u001b[0;31mModuleNotFoundError\u001b[0m                       Traceback (most recent call last)",
      "Cell \u001b[0;32mIn [3], line 18\u001b[0m\n\u001b[1;32m     16\u001b[0m \u001b[38;5;28;01mfrom\u001b[39;00m \u001b[38;5;21;01msklearn\u001b[39;00m\u001b[38;5;21;01m.\u001b[39;00m\u001b[38;5;21;01mlinear_model\u001b[39;00m \u001b[38;5;28;01mimport\u001b[39;00m BayesianRidge\n\u001b[1;32m     17\u001b[0m \u001b[38;5;28;01mfrom\u001b[39;00m \u001b[38;5;21;01msklearn\u001b[39;00m\u001b[38;5;21;01m.\u001b[39;00m\u001b[38;5;21;01mlinear_model\u001b[39;00m \u001b[38;5;28;01mimport\u001b[39;00m ElasticNetCV\n\u001b[0;32m---> 18\u001b[0m \u001b[38;5;28;01mfrom\u001b[39;00m \u001b[38;5;21;01mkeras\u001b[39;00m\u001b[38;5;21;01m.\u001b[39;00m\u001b[38;5;21;01mmodels\u001b[39;00m \u001b[38;5;28;01mimport\u001b[39;00m Sequential\n\u001b[1;32m     19\u001b[0m \u001b[38;5;28;01mfrom\u001b[39;00m \u001b[38;5;21;01mkeras\u001b[39;00m\u001b[38;5;21;01m.\u001b[39;00m\u001b[38;5;21;01mlayers\u001b[39;00m \u001b[38;5;28;01mimport\u001b[39;00m Bidirectional, LSTM, Dropout, Dense\n",
      "\u001b[0;31mModuleNotFoundError\u001b[0m: No module named 'keras'"
     ]
    }
   ],
   "source": [
    "get_ipython().run_cell_magic('capture', '', 'import pandas as pd\\nimport numpy as np\\nimport os\\nfrom google.cloud import bigquery\\nfrom google.oauth2 import service_account\\nfrom google.cloud.bigquery import magics\\nimport matplotlib.pyplot as plt\\nimport seaborn as sns\\nfrom sklearn.svm import SVR\\nfrom sklearn.model_selection import GridSearchCV\\nfrom sklearn.metrics import mean_absolute_error, mean_squared_error\\nfrom sklearn.model_selection import train_test_split\\nfrom sklearn.ensemble import RandomForestRegressor\\nfrom sklearn.linear_model import LassoCV\\nfrom sklearn.model_selection import RepeatedKFold\\nfrom sklearn.linear_model import BayesianRidge\\nfrom sklearn.linear_model import ElasticNetCV\\nfrom keras.models import Sequential\\nfrom keras.layers import Bidirectional, LSTM, Dropout, Dense\\n')"
   ]
  },
  {
   "cell_type": "code",
   "execution_count": 4,
   "id": "d0762b2d",
   "metadata": {
    "execution": {
     "iopub.execute_input": "2023-05-09T23:07:47.530298Z",
     "iopub.status.busy": "2023-05-09T23:07:47.530160Z",
     "iopub.status.idle": "2023-05-09T23:07:47.538025Z",
     "shell.execute_reply": "2023-05-09T23:07:47.537675Z"
    }
   },
   "outputs": [],
   "source": [
    "BIGQUERY_PROJECT = 'ironhacks-data'\n",
    "bigquery_client = bigquery.Client(project=BIGQUERY_PROJECT)"
   ]
  },
  {
   "cell_type": "code",
   "execution_count": 5,
   "id": "fc5833f5",
   "metadata": {
    "execution": {
     "iopub.execute_input": "2023-05-09T23:07:47.539649Z",
     "iopub.status.busy": "2023-05-09T23:07:47.539562Z",
     "iopub.status.idle": "2023-05-09T23:07:47.541553Z",
     "shell.execute_reply": "2023-05-09T23:07:47.541336Z"
    }
   },
   "outputs": [],
   "source": [
    "query_main = \"\"\"\n",
    "SELECT *\n",
    "FROM `ironhacks-data.ironhacks_competition.unemployment_data`\n",
    "\"\"\""
   ]
  },
  {
   "cell_type": "code",
   "execution_count": 6,
   "id": "9bc3d5fe",
   "metadata": {
    "execution": {
     "iopub.execute_input": "2023-05-09T23:07:47.542978Z",
     "iopub.status.busy": "2023-05-09T23:07:47.542868Z",
     "iopub.status.idle": "2023-05-09T23:07:49.905414Z",
     "shell.execute_reply": "2023-05-09T23:07:49.904673Z"
    }
   },
   "outputs": [],
   "source": [
    "query_job = bigquery_client.query(query_main)\n",
    "unemployment_data = query_job.to_dataframe()"
   ]
  },
  {
   "cell_type": "code",
   "execution_count": 7,
   "id": "6c19f2a5",
   "metadata": {
    "execution": {
     "iopub.execute_input": "2023-05-09T23:07:49.909336Z",
     "iopub.status.busy": "2023-05-09T23:07:49.909005Z",
     "iopub.status.idle": "2023-05-09T23:07:49.912382Z",
     "shell.execute_reply": "2023-05-09T23:07:49.911718Z"
    }
   },
   "outputs": [],
   "source": [
    "query = \"\"\"\n",
    "SELECT *\n",
    "FROM `ironhacks-data.ironhacks_competition.wage_data`\n",
    "\"\"\""
   ]
  },
  {
   "cell_type": "code",
   "execution_count": 8,
   "id": "8f4d99d7",
   "metadata": {
    "execution": {
     "iopub.execute_input": "2023-05-09T23:07:49.915091Z",
     "iopub.status.busy": "2023-05-09T23:07:49.914893Z",
     "iopub.status.idle": "2023-05-09T23:07:51.457225Z",
     "shell.execute_reply": "2023-05-09T23:07:51.455459Z"
    }
   },
   "outputs": [],
   "source": [
    "query_job = bigquery_client.query(query)\n",
    "wage_data = query_job.to_dataframe()"
   ]
  },
  {
   "cell_type": "code",
   "execution_count": 9,
   "id": "9c09d6ca",
   "metadata": {
    "execution": {
     "iopub.execute_input": "2023-05-09T23:07:51.464444Z",
     "iopub.status.busy": "2023-05-09T23:07:51.463959Z",
     "iopub.status.idle": "2023-05-09T23:07:51.468534Z",
     "shell.execute_reply": "2023-05-09T23:07:51.467727Z"
    }
   },
   "outputs": [],
   "source": [
    "query_pred = \"\"\"\n",
    "SELECT * \n",
    "FROM `ironhacks-data.ironhacks_competition.prediction_list`\n",
    "\"\"\""
   ]
  },
  {
   "cell_type": "code",
   "execution_count": 10,
   "id": "99368e4c",
   "metadata": {
    "execution": {
     "iopub.execute_input": "2023-05-09T23:07:51.473634Z",
     "iopub.status.busy": "2023-05-09T23:07:51.473017Z",
     "iopub.status.idle": "2023-05-09T23:07:53.366004Z",
     "shell.execute_reply": "2023-05-09T23:07:53.364672Z"
    }
   },
   "outputs": [],
   "source": [
    "query_job = bigquery_client.query(query_pred)\n",
    "prediction_list = query_job.to_dataframe()"
   ]
  },
  {
   "cell_type": "code",
   "execution_count": 11,
   "id": "934bcdd4",
   "metadata": {
    "execution": {
     "iopub.execute_input": "2023-05-09T23:07:53.372689Z",
     "iopub.status.busy": "2023-05-09T23:07:53.372198Z",
     "iopub.status.idle": "2023-05-09T23:07:53.407593Z",
     "shell.execute_reply": "2023-05-09T23:07:53.407075Z"
    }
   },
   "outputs": [
    {
     "name": "stdout",
     "output_type": "stream",
     "text": [
      "<class 'pandas.core.frame.DataFrame'>\n",
      "RangeIndex: 16833 entries, 0 to 16832\n",
      "Data columns (total 25 columns):\n",
      " #   Column                  Non-Null Count  Dtype \n",
      "---  ------                  --------------  ----- \n",
      " 0   uu_id                   16833 non-null  object\n",
      " 1   timeperiod              16833 non-null  Int64 \n",
      " 2   week_number             16833 non-null  Int64 \n",
      " 3   countyfips              16833 non-null  Int64 \n",
      " 4   tract                   16833 non-null  Int64 \n",
      " 5   tract_name              16833 non-null  object\n",
      " 6   total_claims            16833 non-null  Int64 \n",
      " 7   edu_8th_or_less         13748 non-null  Int64 \n",
      " 8   edu_grades_9_11         5942 non-null   Int64 \n",
      " 9   edu_hs_grad_equiv       6036 non-null   Int64 \n",
      " 10  edu_post_hs             3246 non-null   Int64 \n",
      " 11  edu_unknown             12031 non-null  Int64 \n",
      " 12  top_category_employer1  16833 non-null  object\n",
      " 13  top_category_employer2  16833 non-null  object\n",
      " 14  top_category_employer3  16833 non-null  object\n",
      " 15  gender_female           3835 non-null   Int64 \n",
      " 16  gender_male             3931 non-null   Int64 \n",
      " 17  gender_na               15868 non-null  Int64 \n",
      " 18  race_amerindian         15285 non-null  Int64 \n",
      " 19  race_asian              14939 non-null  Int64 \n",
      " 20  race_black              7124 non-null   Int64 \n",
      " 21  race_noanswer           10089 non-null  Int64 \n",
      " 22  race_hawaiiannative     16426 non-null  Int64 \n",
      " 23  race_other              8075 non-null   Int64 \n",
      " 24  race_white              6392 non-null   Int64 \n",
      "dtypes: Int64(20), object(5)\n",
      "memory usage: 3.5+ MB\n",
      "None\n",
      "<class 'pandas.core.frame.DataFrame'>\n",
      "RangeIndex: 525 entries, 0 to 524\n",
      "Data columns (total 5 columns):\n",
      " #   Column        Non-Null Count  Dtype  \n",
      "---  ------        --------------  -----  \n",
      " 0   uu_id         525 non-null    object \n",
      " 1   countyfips    525 non-null    Int64  \n",
      " 2   tract         525 non-null    Int64  \n",
      " 3   tract_name    525 non-null    object \n",
      " 4   average_wage  525 non-null    float64\n",
      "dtypes: Int64(2), float64(1), object(2)\n",
      "memory usage: 21.7+ KB\n",
      "None\n"
     ]
    }
   ],
   "source": [
    "print(unemployment_data.info())\n",
    "print(wage_data.info())"
   ]
  },
  {
   "cell_type": "code",
   "execution_count": 12,
   "id": "264bf00c",
   "metadata": {
    "execution": {
     "iopub.execute_input": "2023-05-09T23:07:53.410549Z",
     "iopub.status.busy": "2023-05-09T23:07:53.410140Z",
     "iopub.status.idle": "2023-05-09T23:07:53.413257Z",
     "shell.execute_reply": "2023-05-09T23:07:53.412845Z"
    }
   },
   "outputs": [
    {
     "name": "stdout",
     "output_type": "stream",
     "text": [
      "Unemployment df size: (16833, 25)\n",
      "Wage df size: (525, 5)\n"
     ]
    }
   ],
   "source": [
    "# check shape of both frames to see if they are joinable\n",
    "print('Unemployment df size:', unemployment_data.shape)\n",
    "print('Wage df size:', wage_data.shape)"
   ]
  },
  {
   "cell_type": "code",
   "execution_count": 13,
   "id": "394688b3",
   "metadata": {
    "execution": {
     "iopub.execute_input": "2023-05-09T23:07:53.415394Z",
     "iopub.status.busy": "2023-05-09T23:07:53.415252Z",
     "iopub.status.idle": "2023-05-09T23:07:53.432167Z",
     "shell.execute_reply": "2023-05-09T23:07:53.431834Z"
    }
   },
   "outputs": [
    {
     "data": {
      "text/plain": [
       "uu_id                      0.000000\n",
       "timeperiod                 0.000000\n",
       "week_number                0.000000\n",
       "countyfips                 0.000000\n",
       "tract                      0.000000\n",
       "tract_name                 0.000000\n",
       "total_claims               0.000000\n",
       "edu_8th_or_less           18.327096\n",
       "edu_grades_9_11           64.700291\n",
       "edu_hs_grad_equiv         64.141864\n",
       "edu_post_hs               80.716450\n",
       "edu_unknown               28.527298\n",
       "top_category_employer1     0.000000\n",
       "top_category_employer2     0.000000\n",
       "top_category_employer3     0.000000\n",
       "gender_female             77.217371\n",
       "gender_male               76.647062\n",
       "gender_na                  5.732787\n",
       "race_amerindian            9.196222\n",
       "race_asian                11.251708\n",
       "race_black                57.678370\n",
       "race_noanswer             40.064160\n",
       "race_hawaiiannative        2.417870\n",
       "race_other                52.028753\n",
       "race_white                62.026971\n",
       "dtype: float64"
      ]
     },
     "execution_count": 13,
     "metadata": {},
     "output_type": "execute_result"
    }
   ],
   "source": [
    "unemployment_data.isnull().sum() / len(unemployment_data) * 100"
   ]
  },
  {
   "cell_type": "code",
   "execution_count": 14,
   "id": "6d708db8",
   "metadata": {
    "execution": {
     "iopub.execute_input": "2023-05-09T23:07:53.433980Z",
     "iopub.status.busy": "2023-05-09T23:07:53.433833Z",
     "iopub.status.idle": "2023-05-09T23:07:53.437605Z",
     "shell.execute_reply": "2023-05-09T23:07:53.437301Z"
    }
   },
   "outputs": [
    {
     "data": {
      "text/plain": [
       "uu_id           0.0\n",
       "countyfips      0.0\n",
       "tract           0.0\n",
       "tract_name      0.0\n",
       "average_wage    0.0\n",
       "dtype: float64"
      ]
     },
     "execution_count": 14,
     "metadata": {},
     "output_type": "execute_result"
    }
   ],
   "source": [
    "wage_data.isnull().sum() / len(wage_data) * 100"
   ]
  },
  {
   "cell_type": "code",
   "execution_count": 15,
   "id": "6002a7d9",
   "metadata": {
    "execution": {
     "iopub.execute_input": "2023-05-09T23:07:53.439238Z",
     "iopub.status.busy": "2023-05-09T23:07:53.439130Z",
     "iopub.status.idle": "2023-05-09T23:07:53.460449Z",
     "shell.execute_reply": "2023-05-09T23:07:53.460182Z"
    }
   },
   "outputs": [
    {
     "data": {
      "text/html": [
       "<div>\n",
       "<style scoped>\n",
       "    .dataframe tbody tr th:only-of-type {\n",
       "        vertical-align: middle;\n",
       "    }\n",
       "\n",
       "    .dataframe tbody tr th {\n",
       "        vertical-align: top;\n",
       "    }\n",
       "\n",
       "    .dataframe thead th {\n",
       "        text-align: right;\n",
       "    }\n",
       "</style>\n",
       "<table border=\"1\" class=\"dataframe\">\n",
       "  <thead>\n",
       "    <tr style=\"text-align: right;\">\n",
       "      <th></th>\n",
       "      <th>uu_id</th>\n",
       "      <th>timeperiod</th>\n",
       "      <th>week_number</th>\n",
       "      <th>countyfips</th>\n",
       "      <th>tract</th>\n",
       "      <th>tract_name</th>\n",
       "      <th>total_claims</th>\n",
       "      <th>edu_8th_or_less</th>\n",
       "      <th>edu_grades_9_11</th>\n",
       "      <th>edu_hs_grad_equiv</th>\n",
       "      <th>...</th>\n",
       "      <th>gender_female</th>\n",
       "      <th>gender_male</th>\n",
       "      <th>gender_na</th>\n",
       "      <th>race_amerindian</th>\n",
       "      <th>race_asian</th>\n",
       "      <th>race_black</th>\n",
       "      <th>race_noanswer</th>\n",
       "      <th>race_hawaiiannative</th>\n",
       "      <th>race_other</th>\n",
       "      <th>race_white</th>\n",
       "    </tr>\n",
       "  </thead>\n",
       "  <tbody>\n",
       "    <tr>\n",
       "      <th>0</th>\n",
       "      <td>f013068de98db1470bd986137a0c6d23</td>\n",
       "      <td>20220416</td>\n",
       "      <td>16</td>\n",
       "      <td>18003</td>\n",
       "      <td>900</td>\n",
       "      <td>Census Tract 9, Allen County, Indiana</td>\n",
       "      <td>22</td>\n",
       "      <td>0</td>\n",
       "      <td>0</td>\n",
       "      <td>14</td>\n",
       "      <td>...</td>\n",
       "      <td>0</td>\n",
       "      <td>0</td>\n",
       "      <td>0</td>\n",
       "      <td>0</td>\n",
       "      <td>0</td>\n",
       "      <td>11</td>\n",
       "      <td>0</td>\n",
       "      <td>0</td>\n",
       "      <td>0</td>\n",
       "      <td>0</td>\n",
       "    </tr>\n",
       "    <tr>\n",
       "      <th>1</th>\n",
       "      <td>21957d5517323845818d87623589e1ba</td>\n",
       "      <td>20220319</td>\n",
       "      <td>12</td>\n",
       "      <td>18089</td>\n",
       "      <td>10400</td>\n",
       "      <td>Census Tract 104, Lake County, Indiana</td>\n",
       "      <td>111</td>\n",
       "      <td>0</td>\n",
       "      <td>0</td>\n",
       "      <td>108</td>\n",
       "      <td>...</td>\n",
       "      <td>76</td>\n",
       "      <td>35</td>\n",
       "      <td>0</td>\n",
       "      <td>0</td>\n",
       "      <td>0</td>\n",
       "      <td>0</td>\n",
       "      <td>0</td>\n",
       "      <td>0</td>\n",
       "      <td>0</td>\n",
       "      <td>0</td>\n",
       "    </tr>\n",
       "    <tr>\n",
       "      <th>2</th>\n",
       "      <td>6a5609f385912113b6f1014b958ed748</td>\n",
       "      <td>20220326</td>\n",
       "      <td>13</td>\n",
       "      <td>18089</td>\n",
       "      <td>11500</td>\n",
       "      <td>Census Tract 115, Lake County, Indiana</td>\n",
       "      <td>39</td>\n",
       "      <td>0</td>\n",
       "      <td>0</td>\n",
       "      <td>0</td>\n",
       "      <td>...</td>\n",
       "      <td>0</td>\n",
       "      <td>0</td>\n",
       "      <td>0</td>\n",
       "      <td>0</td>\n",
       "      <td>0</td>\n",
       "      <td>39</td>\n",
       "      <td>0</td>\n",
       "      <td>0</td>\n",
       "      <td>0</td>\n",
       "      <td>0</td>\n",
       "    </tr>\n",
       "    <tr>\n",
       "      <th>3</th>\n",
       "      <td>46b2882ec4c373527ec33f7bd4f1388d</td>\n",
       "      <td>20220716</td>\n",
       "      <td>29</td>\n",
       "      <td>18089</td>\n",
       "      <td>20700</td>\n",
       "      <td>Census Tract 207, Lake County, Indiana</td>\n",
       "      <td>14</td>\n",
       "      <td>0</td>\n",
       "      <td>0</td>\n",
       "      <td>0</td>\n",
       "      <td>...</td>\n",
       "      <td>0</td>\n",
       "      <td>0</td>\n",
       "      <td>0</td>\n",
       "      <td>0</td>\n",
       "      <td>0</td>\n",
       "      <td>10</td>\n",
       "      <td>0</td>\n",
       "      <td>0</td>\n",
       "      <td>0</td>\n",
       "      <td>0</td>\n",
       "    </tr>\n",
       "    <tr>\n",
       "      <th>4</th>\n",
       "      <td>37495d17e82f7df326bfc2c4c090f7b7</td>\n",
       "      <td>20220409</td>\n",
       "      <td>15</td>\n",
       "      <td>18089</td>\n",
       "      <td>21900</td>\n",
       "      <td>Census Tract 219, Lake County, Indiana</td>\n",
       "      <td>155</td>\n",
       "      <td>0</td>\n",
       "      <td>0</td>\n",
       "      <td>69</td>\n",
       "      <td>...</td>\n",
       "      <td>90</td>\n",
       "      <td>65</td>\n",
       "      <td>0</td>\n",
       "      <td>0</td>\n",
       "      <td>0</td>\n",
       "      <td>135</td>\n",
       "      <td>0</td>\n",
       "      <td>0</td>\n",
       "      <td>0</td>\n",
       "      <td>0</td>\n",
       "    </tr>\n",
       "    <tr>\n",
       "      <th>...</th>\n",
       "      <td>...</td>\n",
       "      <td>...</td>\n",
       "      <td>...</td>\n",
       "      <td>...</td>\n",
       "      <td>...</td>\n",
       "      <td>...</td>\n",
       "      <td>...</td>\n",
       "      <td>...</td>\n",
       "      <td>...</td>\n",
       "      <td>...</td>\n",
       "      <td>...</td>\n",
       "      <td>...</td>\n",
       "      <td>...</td>\n",
       "      <td>...</td>\n",
       "      <td>...</td>\n",
       "      <td>...</td>\n",
       "      <td>...</td>\n",
       "      <td>...</td>\n",
       "      <td>...</td>\n",
       "      <td>...</td>\n",
       "      <td>...</td>\n",
       "    </tr>\n",
       "    <tr>\n",
       "      <th>16828</th>\n",
       "      <td>f35320206f3dd1ffc411e4ac127caf92</td>\n",
       "      <td>20220618</td>\n",
       "      <td>25</td>\n",
       "      <td>18163</td>\n",
       "      <td>3804</td>\n",
       "      <td>Census Tract 38.04, Vanderburgh County, Indiana</td>\n",
       "      <td>21</td>\n",
       "      <td>0</td>\n",
       "      <td>0</td>\n",
       "      <td>0</td>\n",
       "      <td>...</td>\n",
       "      <td>0</td>\n",
       "      <td>0</td>\n",
       "      <td>0</td>\n",
       "      <td>0</td>\n",
       "      <td>0</td>\n",
       "      <td>0</td>\n",
       "      <td>0</td>\n",
       "      <td>0</td>\n",
       "      <td>0</td>\n",
       "      <td>14</td>\n",
       "    </tr>\n",
       "    <tr>\n",
       "      <th>16829</th>\n",
       "      <td>f35320206f3dd1ffc411e4ac127caf92</td>\n",
       "      <td>20220827</td>\n",
       "      <td>35</td>\n",
       "      <td>18163</td>\n",
       "      <td>3804</td>\n",
       "      <td>Census Tract 38.04, Vanderburgh County, Indiana</td>\n",
       "      <td>22</td>\n",
       "      <td>0</td>\n",
       "      <td>0</td>\n",
       "      <td>13</td>\n",
       "      <td>...</td>\n",
       "      <td>0</td>\n",
       "      <td>0</td>\n",
       "      <td>0</td>\n",
       "      <td>0</td>\n",
       "      <td>0</td>\n",
       "      <td>0</td>\n",
       "      <td>0</td>\n",
       "      <td>0</td>\n",
       "      <td>0</td>\n",
       "      <td>0</td>\n",
       "    </tr>\n",
       "    <tr>\n",
       "      <th>16830</th>\n",
       "      <td>f35320206f3dd1ffc411e4ac127caf92</td>\n",
       "      <td>20220827</td>\n",
       "      <td>35</td>\n",
       "      <td>18163</td>\n",
       "      <td>3804</td>\n",
       "      <td>Census Tract 38.04, Vanderburgh County, Indiana</td>\n",
       "      <td>22</td>\n",
       "      <td>0</td>\n",
       "      <td>0</td>\n",
       "      <td>13</td>\n",
       "      <td>...</td>\n",
       "      <td>0</td>\n",
       "      <td>0</td>\n",
       "      <td>0</td>\n",
       "      <td>0</td>\n",
       "      <td>0</td>\n",
       "      <td>0</td>\n",
       "      <td>0</td>\n",
       "      <td>0</td>\n",
       "      <td>0</td>\n",
       "      <td>0</td>\n",
       "    </tr>\n",
       "    <tr>\n",
       "      <th>16831</th>\n",
       "      <td>bbcb018f0e5e49e13636f6e78ce9f60f</td>\n",
       "      <td>20220326</td>\n",
       "      <td>13</td>\n",
       "      <td>18163</td>\n",
       "      <td>10203</td>\n",
       "      <td>Census Tract 102.03, Vanderburgh County, Indiana</td>\n",
       "      <td>53</td>\n",
       "      <td>0</td>\n",
       "      <td>0</td>\n",
       "      <td>48</td>\n",
       "      <td>...</td>\n",
       "      <td>0</td>\n",
       "      <td>0</td>\n",
       "      <td>0</td>\n",
       "      <td>0</td>\n",
       "      <td>0</td>\n",
       "      <td>0</td>\n",
       "      <td>0</td>\n",
       "      <td>0</td>\n",
       "      <td>0</td>\n",
       "      <td>0</td>\n",
       "    </tr>\n",
       "    <tr>\n",
       "      <th>16832</th>\n",
       "      <td>bbcb018f0e5e49e13636f6e78ce9f60f</td>\n",
       "      <td>20220416</td>\n",
       "      <td>16</td>\n",
       "      <td>18163</td>\n",
       "      <td>10203</td>\n",
       "      <td>Census Tract 102.03, Vanderburgh County, Indiana</td>\n",
       "      <td>24</td>\n",
       "      <td>0</td>\n",
       "      <td>0</td>\n",
       "      <td>18</td>\n",
       "      <td>...</td>\n",
       "      <td>11</td>\n",
       "      <td>13</td>\n",
       "      <td>0</td>\n",
       "      <td>0</td>\n",
       "      <td>0</td>\n",
       "      <td>0</td>\n",
       "      <td>0</td>\n",
       "      <td>0</td>\n",
       "      <td>0</td>\n",
       "      <td>0</td>\n",
       "    </tr>\n",
       "  </tbody>\n",
       "</table>\n",
       "<p>16833 rows × 25 columns</p>\n",
       "</div>"
      ],
      "text/plain": [
       "                                  uu_id  timeperiod  week_number  countyfips  \\\n",
       "0      f013068de98db1470bd986137a0c6d23    20220416           16       18003   \n",
       "1      21957d5517323845818d87623589e1ba    20220319           12       18089   \n",
       "2      6a5609f385912113b6f1014b958ed748    20220326           13       18089   \n",
       "3      46b2882ec4c373527ec33f7bd4f1388d    20220716           29       18089   \n",
       "4      37495d17e82f7df326bfc2c4c090f7b7    20220409           15       18089   \n",
       "...                                 ...         ...          ...         ...   \n",
       "16828  f35320206f3dd1ffc411e4ac127caf92    20220618           25       18163   \n",
       "16829  f35320206f3dd1ffc411e4ac127caf92    20220827           35       18163   \n",
       "16830  f35320206f3dd1ffc411e4ac127caf92    20220827           35       18163   \n",
       "16831  bbcb018f0e5e49e13636f6e78ce9f60f    20220326           13       18163   \n",
       "16832  bbcb018f0e5e49e13636f6e78ce9f60f    20220416           16       18163   \n",
       "\n",
       "       tract                                        tract_name  total_claims  \\\n",
       "0        900             Census Tract 9, Allen County, Indiana            22   \n",
       "1      10400            Census Tract 104, Lake County, Indiana           111   \n",
       "2      11500            Census Tract 115, Lake County, Indiana            39   \n",
       "3      20700            Census Tract 207, Lake County, Indiana            14   \n",
       "4      21900            Census Tract 219, Lake County, Indiana           155   \n",
       "...      ...                                               ...           ...   \n",
       "16828   3804   Census Tract 38.04, Vanderburgh County, Indiana            21   \n",
       "16829   3804   Census Tract 38.04, Vanderburgh County, Indiana            22   \n",
       "16830   3804   Census Tract 38.04, Vanderburgh County, Indiana            22   \n",
       "16831  10203  Census Tract 102.03, Vanderburgh County, Indiana            53   \n",
       "16832  10203  Census Tract 102.03, Vanderburgh County, Indiana            24   \n",
       "\n",
       "       edu_8th_or_less  edu_grades_9_11  edu_hs_grad_equiv  ...  \\\n",
       "0                    0                0                 14  ...   \n",
       "1                    0                0                108  ...   \n",
       "2                    0                0                  0  ...   \n",
       "3                    0                0                  0  ...   \n",
       "4                    0                0                 69  ...   \n",
       "...                ...              ...                ...  ...   \n",
       "16828                0                0                  0  ...   \n",
       "16829                0                0                 13  ...   \n",
       "16830                0                0                 13  ...   \n",
       "16831                0                0                 48  ...   \n",
       "16832                0                0                 18  ...   \n",
       "\n",
       "       gender_female  gender_male gender_na race_amerindian race_asian  \\\n",
       "0                  0            0         0               0          0   \n",
       "1                 76           35         0               0          0   \n",
       "2                  0            0         0               0          0   \n",
       "3                  0            0         0               0          0   \n",
       "4                 90           65         0               0          0   \n",
       "...              ...          ...       ...             ...        ...   \n",
       "16828              0            0         0               0          0   \n",
       "16829              0            0         0               0          0   \n",
       "16830              0            0         0               0          0   \n",
       "16831              0            0         0               0          0   \n",
       "16832             11           13         0               0          0   \n",
       "\n",
       "       race_black  race_noanswer  race_hawaiiannative  race_other  race_white  \n",
       "0              11              0                    0           0           0  \n",
       "1               0              0                    0           0           0  \n",
       "2              39              0                    0           0           0  \n",
       "3              10              0                    0           0           0  \n",
       "4             135              0                    0           0           0  \n",
       "...           ...            ...                  ...         ...         ...  \n",
       "16828           0              0                    0           0          14  \n",
       "16829           0              0                    0           0           0  \n",
       "16830           0              0                    0           0           0  \n",
       "16831           0              0                    0           0           0  \n",
       "16832           0              0                    0           0           0  \n",
       "\n",
       "[16833 rows x 25 columns]"
      ]
     },
     "execution_count": 15,
     "metadata": {},
     "output_type": "execute_result"
    }
   ],
   "source": [
    "# replace values with 0\n",
    "clean_unemploymentDf = unemployment_data.copy()\n",
    "clean_unemploymentDf.fillna(0, inplace=True)\n",
    "clean_unemploymentDf"
   ]
  },
  {
   "cell_type": "code",
   "execution_count": 16,
   "id": "778828fd",
   "metadata": {
    "execution": {
     "iopub.execute_input": "2023-05-09T23:07:53.461886Z",
     "iopub.status.busy": "2023-05-09T23:07:53.461798Z",
     "iopub.status.idle": "2023-05-09T23:07:53.470131Z",
     "shell.execute_reply": "2023-05-09T23:07:53.469889Z"
    }
   },
   "outputs": [
    {
     "data": {
      "text/plain": [
       "uu_id                     0\n",
       "timeperiod                0\n",
       "week_number               0\n",
       "countyfips                0\n",
       "tract                     0\n",
       "tract_name                0\n",
       "total_claims              0\n",
       "edu_8th_or_less           0\n",
       "edu_grades_9_11           0\n",
       "edu_hs_grad_equiv         0\n",
       "edu_post_hs               0\n",
       "edu_unknown               0\n",
       "top_category_employer1    0\n",
       "top_category_employer2    0\n",
       "top_category_employer3    0\n",
       "gender_female             0\n",
       "gender_male               0\n",
       "gender_na                 0\n",
       "race_amerindian           0\n",
       "race_asian                0\n",
       "race_black                0\n",
       "race_noanswer             0\n",
       "race_hawaiiannative       0\n",
       "race_other                0\n",
       "race_white                0\n",
       "dtype: int64"
      ]
     },
     "execution_count": 16,
     "metadata": {},
     "output_type": "execute_result"
    }
   ],
   "source": [
    "clean_unemploymentDf.isnull().sum() #check"
   ]
  },
  {
   "cell_type": "code",
   "execution_count": 17,
   "id": "b569c7f6",
   "metadata": {
    "execution": {
     "iopub.execute_input": "2023-05-09T23:07:53.471525Z",
     "iopub.status.busy": "2023-05-09T23:07:53.471442Z",
     "iopub.status.idle": "2023-05-09T23:07:53.921437Z",
     "shell.execute_reply": "2023-05-09T23:07:53.921134Z"
    }
   },
   "outputs": [
    {
     "name": "stderr",
     "output_type": "stream",
     "text": [
      "/var/folders/l2/cnhff0_n1470l4xf0p7v7l_40000gn/T/ipykernel_14196/3330649336.py:2: FutureWarning: The default value of numeric_only in DataFrame.corr is deprecated. In a future version, it will default to False. Select only valid columns or specify the value of numeric_only to silence this warning.\n",
      "  correlation = clean_unemploymentDf.corr()\n"
     ]
    },
    {
     "data": {
      "text/plain": [
       "<AxesSubplot: >"
      ]
     },
     "execution_count": 17,
     "metadata": {},
     "output_type": "execute_result"
    },
    {
     "data": {
      "image/png": "[encoded data removed]",
      "text/plain": [
       "<Figure size 1500x1000 with 2 Axes>"
      ]
     },
     "metadata": {},
     "output_type": "display_data"
    }
   ],
   "source": [
    "# check correlation\n",
    "correlation = clean_unemploymentDf.corr()\n",
    "mask = np.triu(np.ones_like(correlation, dtype=bool))\n",
    "plt.figure(figsize=(15,10))\n",
    "sns.heatmap(correlation, mask=mask, annot=True, fmt='.2f')"
   ]
  },
  {
   "cell_type": "code",
   "execution_count": 18,
   "id": "a6bfa824",
   "metadata": {
    "execution": {
     "iopub.execute_input": "2023-05-09T23:07:53.923579Z",
     "iopub.status.busy": "2023-05-09T23:07:53.923470Z",
     "iopub.status.idle": "2023-05-09T23:07:53.926941Z",
     "shell.execute_reply": "2023-05-09T23:07:53.926645Z"
    }
   },
   "outputs": [
    {
     "data": {
      "text/html": [
       "<div>\n",
       "<style scoped>\n",
       "    .dataframe tbody tr th:only-of-type {\n",
       "        vertical-align: middle;\n",
       "    }\n",
       "\n",
       "    .dataframe tbody tr th {\n",
       "        vertical-align: top;\n",
       "    }\n",
       "\n",
       "    .dataframe thead th {\n",
       "        text-align: right;\n",
       "    }\n",
       "</style>\n",
       "<table border=\"1\" class=\"dataframe\">\n",
       "  <thead>\n",
       "    <tr style=\"text-align: right;\">\n",
       "      <th></th>\n",
       "      <th>uu_id</th>\n",
       "      <th>countyfips</th>\n",
       "      <th>tract</th>\n",
       "      <th>tract_name</th>\n",
       "      <th>average_wage</th>\n",
       "    </tr>\n",
       "  </thead>\n",
       "  <tbody>\n",
       "  </tbody>\n",
       "</table>\n",
       "</div>"
      ],
      "text/plain": [
       "Empty DataFrame\n",
       "Columns: [uu_id, countyfips, tract, tract_name, average_wage]\n",
       "Index: []"
      ]
     },
     "execution_count": 18,
     "metadata": {},
     "output_type": "execute_result"
    }
   ],
   "source": [
    "# check wage information\n",
    "wage_data[wage_data['average_wage'].isnull()] # there's 3 nulls here - might as well drop them and use this tract to attempt to join the datasets together; or impute with mean"
   ]
  },
  {
   "cell_type": "code",
   "execution_count": 19,
   "id": "fe1e745a",
   "metadata": {
    "execution": {
     "iopub.execute_input": "2023-05-09T23:07:53.928291Z",
     "iopub.status.busy": "2023-05-09T23:07:53.928207Z",
     "iopub.status.idle": "2023-05-09T23:07:53.931234Z",
     "shell.execute_reply": "2023-05-09T23:07:53.930985Z"
    }
   },
   "outputs": [
    {
     "data": {
      "text/plain": [
       "uu_id           0\n",
       "countyfips      0\n",
       "tract           0\n",
       "tract_name      0\n",
       "average_wage    0\n",
       "dtype: int64"
      ]
     },
     "execution_count": 19,
     "metadata": {},
     "output_type": "execute_result"
    }
   ],
   "source": [
    "#wage_data.dropna(axis=0, inplace=True)\n",
    "wage_data['average_wage'].fillna(wage_data['average_wage'].mean(), inplace=True)\n",
    "wage_data.isnull().sum()"
   ]
  },
  {
   "cell_type": "code",
   "execution_count": 20,
   "id": "baa79f8a",
   "metadata": {
    "execution": {
     "iopub.execute_input": "2023-05-09T23:07:53.932590Z",
     "iopub.status.busy": "2023-05-09T23:07:53.932509Z",
     "iopub.status.idle": "2023-05-09T23:07:53.935203Z",
     "shell.execute_reply": "2023-05-09T23:07:53.934970Z"
    }
   },
   "outputs": [
    {
     "name": "stdout",
     "output_type": "stream",
     "text": [
      "Duplicate rows:  Empty DataFrame\n",
      "Columns: [uu_id, countyfips, tract, tract_name, average_wage]\n",
      "Index: []\n"
     ]
    }
   ],
   "source": [
    "wage_dupl = wage_data[wage_data.duplicated()]\n",
    "print('Duplicate rows: ', wage_dupl)"
   ]
  },
  {
   "cell_type": "code",
   "execution_count": 21,
   "id": "8537a87f",
   "metadata": {
    "execution": {
     "iopub.execute_input": "2023-05-09T23:07:53.936462Z",
     "iopub.status.busy": "2023-05-09T23:07:53.936379Z",
     "iopub.status.idle": "2023-05-09T23:07:53.944444Z",
     "shell.execute_reply": "2023-05-09T23:07:53.944169Z"
    }
   },
   "outputs": [],
   "source": [
    "# join df on tract\n",
    "main_df = pd.merge(clean_unemploymentDf, wage_data, on=['tract', 'uu_id'], how='outer')"
   ]
  },
  {
   "cell_type": "code",
   "execution_count": 22,
   "id": "d4f9898f",
   "metadata": {
    "execution": {
     "iopub.execute_input": "2023-05-09T23:07:53.945985Z",
     "iopub.status.busy": "2023-05-09T23:07:53.945897Z",
     "iopub.status.idle": "2023-05-09T23:07:53.957452Z",
     "shell.execute_reply": "2023-05-09T23:07:53.957207Z"
    }
   },
   "outputs": [
    {
     "data": {
      "text/html": [
       "<div>\n",
       "<style scoped>\n",
       "    .dataframe tbody tr th:only-of-type {\n",
       "        vertical-align: middle;\n",
       "    }\n",
       "\n",
       "    .dataframe tbody tr th {\n",
       "        vertical-align: top;\n",
       "    }\n",
       "\n",
       "    .dataframe thead th {\n",
       "        text-align: right;\n",
       "    }\n",
       "</style>\n",
       "<table border=\"1\" class=\"dataframe\">\n",
       "  <thead>\n",
       "    <tr style=\"text-align: right;\">\n",
       "      <th></th>\n",
       "      <th>uu_id</th>\n",
       "      <th>timeperiod</th>\n",
       "      <th>week_number</th>\n",
       "      <th>countyfips_x</th>\n",
       "      <th>tract</th>\n",
       "      <th>tract_name_x</th>\n",
       "      <th>total_claims</th>\n",
       "      <th>edu_8th_or_less</th>\n",
       "      <th>edu_grades_9_11</th>\n",
       "      <th>edu_hs_grad_equiv</th>\n",
       "      <th>...</th>\n",
       "      <th>race_amerindian</th>\n",
       "      <th>race_asian</th>\n",
       "      <th>race_black</th>\n",
       "      <th>race_noanswer</th>\n",
       "      <th>race_hawaiiannative</th>\n",
       "      <th>race_other</th>\n",
       "      <th>race_white</th>\n",
       "      <th>countyfips_y</th>\n",
       "      <th>tract_name_y</th>\n",
       "      <th>average_wage</th>\n",
       "    </tr>\n",
       "  </thead>\n",
       "  <tbody>\n",
       "    <tr>\n",
       "      <th>0</th>\n",
       "      <td>f013068de98db1470bd986137a0c6d23</td>\n",
       "      <td>20220416</td>\n",
       "      <td>16</td>\n",
       "      <td>18003</td>\n",
       "      <td>900</td>\n",
       "      <td>Census Tract 9, Allen County, Indiana</td>\n",
       "      <td>22</td>\n",
       "      <td>0</td>\n",
       "      <td>0</td>\n",
       "      <td>14</td>\n",
       "      <td>...</td>\n",
       "      <td>0</td>\n",
       "      <td>0</td>\n",
       "      <td>11</td>\n",
       "      <td>0</td>\n",
       "      <td>0</td>\n",
       "      <td>0</td>\n",
       "      <td>0</td>\n",
       "      <td>18003</td>\n",
       "      <td>Census Tract 9, Allen County, Indiana</td>\n",
       "      <td>8347.125000</td>\n",
       "    </tr>\n",
       "    <tr>\n",
       "      <th>1</th>\n",
       "      <td>f013068de98db1470bd986137a0c6d23</td>\n",
       "      <td>20220212</td>\n",
       "      <td>7</td>\n",
       "      <td>18003</td>\n",
       "      <td>900</td>\n",
       "      <td>Census Tract 9, Allen County, Indiana</td>\n",
       "      <td>10</td>\n",
       "      <td>0</td>\n",
       "      <td>0</td>\n",
       "      <td>0</td>\n",
       "      <td>...</td>\n",
       "      <td>0</td>\n",
       "      <td>0</td>\n",
       "      <td>0</td>\n",
       "      <td>0</td>\n",
       "      <td>0</td>\n",
       "      <td>0</td>\n",
       "      <td>0</td>\n",
       "      <td>18003</td>\n",
       "      <td>Census Tract 9, Allen County, Indiana</td>\n",
       "      <td>8347.125000</td>\n",
       "    </tr>\n",
       "    <tr>\n",
       "      <th>2</th>\n",
       "      <td>f013068de98db1470bd986137a0c6d23</td>\n",
       "      <td>20220827</td>\n",
       "      <td>35</td>\n",
       "      <td>18003</td>\n",
       "      <td>900</td>\n",
       "      <td>Census Tract 9, Allen County, Indiana</td>\n",
       "      <td>11</td>\n",
       "      <td>0</td>\n",
       "      <td>0</td>\n",
       "      <td>0</td>\n",
       "      <td>...</td>\n",
       "      <td>0</td>\n",
       "      <td>0</td>\n",
       "      <td>0</td>\n",
       "      <td>0</td>\n",
       "      <td>0</td>\n",
       "      <td>0</td>\n",
       "      <td>0</td>\n",
       "      <td>18003</td>\n",
       "      <td>Census Tract 9, Allen County, Indiana</td>\n",
       "      <td>8347.125000</td>\n",
       "    </tr>\n",
       "    <tr>\n",
       "      <th>3</th>\n",
       "      <td>f013068de98db1470bd986137a0c6d23</td>\n",
       "      <td>20220312</td>\n",
       "      <td>11</td>\n",
       "      <td>18003</td>\n",
       "      <td>900</td>\n",
       "      <td>Census Tract 9, Allen County, Indiana</td>\n",
       "      <td>11</td>\n",
       "      <td>0</td>\n",
       "      <td>0</td>\n",
       "      <td>0</td>\n",
       "      <td>...</td>\n",
       "      <td>0</td>\n",
       "      <td>0</td>\n",
       "      <td>0</td>\n",
       "      <td>0</td>\n",
       "      <td>0</td>\n",
       "      <td>0</td>\n",
       "      <td>0</td>\n",
       "      <td>18003</td>\n",
       "      <td>Census Tract 9, Allen County, Indiana</td>\n",
       "      <td>8347.125000</td>\n",
       "    </tr>\n",
       "    <tr>\n",
       "      <th>4</th>\n",
       "      <td>f013068de98db1470bd986137a0c6d23</td>\n",
       "      <td>20220205</td>\n",
       "      <td>6</td>\n",
       "      <td>18003</td>\n",
       "      <td>900</td>\n",
       "      <td>Census Tract 9, Allen County, Indiana</td>\n",
       "      <td>11</td>\n",
       "      <td>0</td>\n",
       "      <td>0</td>\n",
       "      <td>0</td>\n",
       "      <td>...</td>\n",
       "      <td>0</td>\n",
       "      <td>0</td>\n",
       "      <td>0</td>\n",
       "      <td>0</td>\n",
       "      <td>0</td>\n",
       "      <td>0</td>\n",
       "      <td>0</td>\n",
       "      <td>18003</td>\n",
       "      <td>Census Tract 9, Allen County, Indiana</td>\n",
       "      <td>8347.125000</td>\n",
       "    </tr>\n",
       "    <tr>\n",
       "      <th>...</th>\n",
       "      <td>...</td>\n",
       "      <td>...</td>\n",
       "      <td>...</td>\n",
       "      <td>...</td>\n",
       "      <td>...</td>\n",
       "      <td>...</td>\n",
       "      <td>...</td>\n",
       "      <td>...</td>\n",
       "      <td>...</td>\n",
       "      <td>...</td>\n",
       "      <td>...</td>\n",
       "      <td>...</td>\n",
       "      <td>...</td>\n",
       "      <td>...</td>\n",
       "      <td>...</td>\n",
       "      <td>...</td>\n",
       "      <td>...</td>\n",
       "      <td>...</td>\n",
       "      <td>...</td>\n",
       "      <td>...</td>\n",
       "      <td>...</td>\n",
       "    </tr>\n",
       "    <tr>\n",
       "      <th>16828</th>\n",
       "      <td>33f8f477e670b3cac704f4c0faa6e318</td>\n",
       "      <td>20220305</td>\n",
       "      <td>10</td>\n",
       "      <td>18113</td>\n",
       "      <td>971900</td>\n",
       "      <td>Census Tract 9719, Noble County, Indiana</td>\n",
       "      <td>11</td>\n",
       "      <td>0</td>\n",
       "      <td>0</td>\n",
       "      <td>0</td>\n",
       "      <td>...</td>\n",
       "      <td>0</td>\n",
       "      <td>0</td>\n",
       "      <td>0</td>\n",
       "      <td>0</td>\n",
       "      <td>0</td>\n",
       "      <td>0</td>\n",
       "      <td>0</td>\n",
       "      <td>18113</td>\n",
       "      <td>Census Tract 9719, Noble County, Indiana</td>\n",
       "      <td>17282.764706</td>\n",
       "    </tr>\n",
       "    <tr>\n",
       "      <th>16829</th>\n",
       "      <td>33f8f477e670b3cac704f4c0faa6e318</td>\n",
       "      <td>20220205</td>\n",
       "      <td>6</td>\n",
       "      <td>18113</td>\n",
       "      <td>971900</td>\n",
       "      <td>Census Tract 9719, Noble County, Indiana</td>\n",
       "      <td>10</td>\n",
       "      <td>0</td>\n",
       "      <td>0</td>\n",
       "      <td>0</td>\n",
       "      <td>...</td>\n",
       "      <td>0</td>\n",
       "      <td>0</td>\n",
       "      <td>0</td>\n",
       "      <td>0</td>\n",
       "      <td>0</td>\n",
       "      <td>0</td>\n",
       "      <td>0</td>\n",
       "      <td>18113</td>\n",
       "      <td>Census Tract 9719, Noble County, Indiana</td>\n",
       "      <td>17282.764706</td>\n",
       "    </tr>\n",
       "    <tr>\n",
       "      <th>16830</th>\n",
       "      <td>33f8f477e670b3cac704f4c0faa6e318</td>\n",
       "      <td>20220730</td>\n",
       "      <td>31</td>\n",
       "      <td>18113</td>\n",
       "      <td>971900</td>\n",
       "      <td>Census Tract 9719, Noble County, Indiana</td>\n",
       "      <td>16</td>\n",
       "      <td>0</td>\n",
       "      <td>0</td>\n",
       "      <td>10</td>\n",
       "      <td>...</td>\n",
       "      <td>0</td>\n",
       "      <td>0</td>\n",
       "      <td>0</td>\n",
       "      <td>0</td>\n",
       "      <td>0</td>\n",
       "      <td>0</td>\n",
       "      <td>0</td>\n",
       "      <td>18113</td>\n",
       "      <td>Census Tract 9719, Noble County, Indiana</td>\n",
       "      <td>17282.764706</td>\n",
       "    </tr>\n",
       "    <tr>\n",
       "      <th>16831</th>\n",
       "      <td>33f8f477e670b3cac704f4c0faa6e318</td>\n",
       "      <td>20220226</td>\n",
       "      <td>9</td>\n",
       "      <td>18113</td>\n",
       "      <td>971900</td>\n",
       "      <td>Census Tract 9719, Noble County, Indiana</td>\n",
       "      <td>23</td>\n",
       "      <td>0</td>\n",
       "      <td>0</td>\n",
       "      <td>19</td>\n",
       "      <td>...</td>\n",
       "      <td>0</td>\n",
       "      <td>0</td>\n",
       "      <td>0</td>\n",
       "      <td>0</td>\n",
       "      <td>0</td>\n",
       "      <td>0</td>\n",
       "      <td>0</td>\n",
       "      <td>18113</td>\n",
       "      <td>Census Tract 9719, Noble County, Indiana</td>\n",
       "      <td>17282.764706</td>\n",
       "    </tr>\n",
       "    <tr>\n",
       "      <th>16832</th>\n",
       "      <td>33f8f477e670b3cac704f4c0faa6e318</td>\n",
       "      <td>20220716</td>\n",
       "      <td>29</td>\n",
       "      <td>18113</td>\n",
       "      <td>971900</td>\n",
       "      <td>Census Tract 9719, Noble County, Indiana</td>\n",
       "      <td>10</td>\n",
       "      <td>0</td>\n",
       "      <td>0</td>\n",
       "      <td>0</td>\n",
       "      <td>...</td>\n",
       "      <td>0</td>\n",
       "      <td>0</td>\n",
       "      <td>0</td>\n",
       "      <td>0</td>\n",
       "      <td>0</td>\n",
       "      <td>0</td>\n",
       "      <td>0</td>\n",
       "      <td>18113</td>\n",
       "      <td>Census Tract 9719, Noble County, Indiana</td>\n",
       "      <td>17282.764706</td>\n",
       "    </tr>\n",
       "  </tbody>\n",
       "</table>\n",
       "<p>16833 rows × 28 columns</p>\n",
       "</div>"
      ],
      "text/plain": [
       "                                  uu_id  timeperiod  week_number  \\\n",
       "0      f013068de98db1470bd986137a0c6d23    20220416           16   \n",
       "1      f013068de98db1470bd986137a0c6d23    20220212            7   \n",
       "2      f013068de98db1470bd986137a0c6d23    20220827           35   \n",
       "3      f013068de98db1470bd986137a0c6d23    20220312           11   \n",
       "4      f013068de98db1470bd986137a0c6d23    20220205            6   \n",
       "...                                 ...         ...          ...   \n",
       "16828  33f8f477e670b3cac704f4c0faa6e318    20220305           10   \n",
       "16829  33f8f477e670b3cac704f4c0faa6e318    20220205            6   \n",
       "16830  33f8f477e670b3cac704f4c0faa6e318    20220730           31   \n",
       "16831  33f8f477e670b3cac704f4c0faa6e318    20220226            9   \n",
       "16832  33f8f477e670b3cac704f4c0faa6e318    20220716           29   \n",
       "\n",
       "       countyfips_x   tract                              tract_name_x  \\\n",
       "0             18003     900     Census Tract 9, Allen County, Indiana   \n",
       "1             18003     900     Census Tract 9, Allen County, Indiana   \n",
       "2             18003     900     Census Tract 9, Allen County, Indiana   \n",
       "3             18003     900     Census Tract 9, Allen County, Indiana   \n",
       "4             18003     900     Census Tract 9, Allen County, Indiana   \n",
       "...             ...     ...                                       ...   \n",
       "16828         18113  971900  Census Tract 9719, Noble County, Indiana   \n",
       "16829         18113  971900  Census Tract 9719, Noble County, Indiana   \n",
       "16830         18113  971900  Census Tract 9719, Noble County, Indiana   \n",
       "16831         18113  971900  Census Tract 9719, Noble County, Indiana   \n",
       "16832         18113  971900  Census Tract 9719, Noble County, Indiana   \n",
       "\n",
       "       total_claims  edu_8th_or_less  edu_grades_9_11  edu_hs_grad_equiv  ...  \\\n",
       "0                22                0                0                 14  ...   \n",
       "1                10                0                0                  0  ...   \n",
       "2                11                0                0                  0  ...   \n",
       "3                11                0                0                  0  ...   \n",
       "4                11                0                0                  0  ...   \n",
       "...             ...              ...              ...                ...  ...   \n",
       "16828            11                0                0                  0  ...   \n",
       "16829            10                0                0                  0  ...   \n",
       "16830            16                0                0                 10  ...   \n",
       "16831            23                0                0                 19  ...   \n",
       "16832            10                0                0                  0  ...   \n",
       "\n",
       "       race_amerindian  race_asian race_black race_noanswer  \\\n",
       "0                    0           0         11             0   \n",
       "1                    0           0          0             0   \n",
       "2                    0           0          0             0   \n",
       "3                    0           0          0             0   \n",
       "4                    0           0          0             0   \n",
       "...                ...         ...        ...           ...   \n",
       "16828                0           0          0             0   \n",
       "16829                0           0          0             0   \n",
       "16830                0           0          0             0   \n",
       "16831                0           0          0             0   \n",
       "16832                0           0          0             0   \n",
       "\n",
       "      race_hawaiiannative  race_other  race_white  countyfips_y  \\\n",
       "0                       0           0           0         18003   \n",
       "1                       0           0           0         18003   \n",
       "2                       0           0           0         18003   \n",
       "3                       0           0           0         18003   \n",
       "4                       0           0           0         18003   \n",
       "...                   ...         ...         ...           ...   \n",
       "16828                   0           0           0         18113   \n",
       "16829                   0           0           0         18113   \n",
       "16830                   0           0           0         18113   \n",
       "16831                   0           0           0         18113   \n",
       "16832                   0           0           0         18113   \n",
       "\n",
       "                                   tract_name_y  average_wage  \n",
       "0         Census Tract 9, Allen County, Indiana   8347.125000  \n",
       "1         Census Tract 9, Allen County, Indiana   8347.125000  \n",
       "2         Census Tract 9, Allen County, Indiana   8347.125000  \n",
       "3         Census Tract 9, Allen County, Indiana   8347.125000  \n",
       "4         Census Tract 9, Allen County, Indiana   8347.125000  \n",
       "...                                         ...           ...  \n",
       "16828  Census Tract 9719, Noble County, Indiana  17282.764706  \n",
       "16829  Census Tract 9719, Noble County, Indiana  17282.764706  \n",
       "16830  Census Tract 9719, Noble County, Indiana  17282.764706  \n",
       "16831  Census Tract 9719, Noble County, Indiana  17282.764706  \n",
       "16832  Census Tract 9719, Noble County, Indiana  17282.764706  \n",
       "\n",
       "[16833 rows x 28 columns]"
      ]
     },
     "execution_count": 22,
     "metadata": {},
     "output_type": "execute_result"
    }
   ],
   "source": [
    "main_df"
   ]
  },
  {
   "cell_type": "code",
   "execution_count": 23,
   "id": "4443982e",
   "metadata": {
    "execution": {
     "iopub.execute_input": "2023-05-09T23:07:53.958848Z",
     "iopub.status.busy": "2023-05-09T23:07:53.958769Z",
     "iopub.status.idle": "2023-05-09T23:07:53.966851Z",
     "shell.execute_reply": "2023-05-09T23:07:53.966500Z"
    }
   },
   "outputs": [],
   "source": [
    "BIGQUERY_PROJECT = 'ironhacks-data'\n",
    "bigquery_client = bigquery.Client(project=BIGQUERY_PROJECT)"
   ]
  },
  {
   "cell_type": "code",
   "execution_count": 24,
   "id": "2f7fef76",
   "metadata": {
    "execution": {
     "iopub.execute_input": "2023-05-09T23:07:53.968428Z",
     "iopub.status.busy": "2023-05-09T23:07:53.968326Z",
     "iopub.status.idle": "2023-05-09T23:07:53.970250Z",
     "shell.execute_reply": "2023-05-09T23:07:53.970039Z"
    }
   },
   "outputs": [],
   "source": [
    "query_main = \"\"\"\n",
    "SELECT *\n",
    "FROM `ironhacks-data.ironhacks_competition.unemployment_data`\n",
    "\"\"\""
   ]
  },
  {
   "cell_type": "code",
   "execution_count": 25,
   "id": "f620289f",
   "metadata": {
    "execution": {
     "iopub.execute_input": "2023-05-09T23:07:53.971597Z",
     "iopub.status.busy": "2023-05-09T23:07:53.971500Z",
     "iopub.status.idle": "2023-05-09T23:07:55.515715Z",
     "shell.execute_reply": "2023-05-09T23:07:55.515002Z"
    }
   },
   "outputs": [],
   "source": [
    "query_job = bigquery_client.query(query_main)\n",
    "unemployment_data = query_job.to_dataframe()"
   ]
  },
  {
   "cell_type": "code",
   "execution_count": 26,
   "id": "9a7bb37a",
   "metadata": {
    "execution": {
     "iopub.execute_input": "2023-05-09T23:07:55.519668Z",
     "iopub.status.busy": "2023-05-09T23:07:55.519015Z",
     "iopub.status.idle": "2023-05-09T23:07:55.522525Z",
     "shell.execute_reply": "2023-05-09T23:07:55.521920Z"
    }
   },
   "outputs": [],
   "source": [
    "query = \"\"\"\n",
    "SELECT *\n",
    "FROM `ironhacks-data.ironhacks_competition.wage_data`\n",
    "\"\"\""
   ]
  },
  {
   "cell_type": "code",
   "execution_count": 27,
   "id": "e0062c2f",
   "metadata": {
    "execution": {
     "iopub.execute_input": "2023-05-09T23:07:55.525331Z",
     "iopub.status.busy": "2023-05-09T23:07:55.525104Z",
     "iopub.status.idle": "2023-05-09T23:07:56.988278Z",
     "shell.execute_reply": "2023-05-09T23:07:56.986801Z"
    }
   },
   "outputs": [],
   "source": [
    "query_job = bigquery_client.query(query)\n",
    "wage_data = query_job.to_dataframe()"
   ]
  },
  {
   "cell_type": "code",
   "execution_count": 28,
   "id": "0476b30a",
   "metadata": {
    "execution": {
     "iopub.execute_input": "2023-05-09T23:07:56.995084Z",
     "iopub.status.busy": "2023-05-09T23:07:56.994573Z",
     "iopub.status.idle": "2023-05-09T23:07:56.999868Z",
     "shell.execute_reply": "2023-05-09T23:07:56.999128Z"
    }
   },
   "outputs": [],
   "source": [
    "query_pred = \"\"\"\n",
    "SELECT * \n",
    "FROM `ironhacks-data.ironhacks_competition.prediction_list`\n",
    "\"\"\""
   ]
  },
  {
   "cell_type": "code",
   "execution_count": 29,
   "id": "8d8496c8",
   "metadata": {
    "execution": {
     "iopub.execute_input": "2023-05-09T23:07:57.004081Z",
     "iopub.status.busy": "2023-05-09T23:07:57.003739Z",
     "iopub.status.idle": "2023-05-09T23:07:58.598243Z",
     "shell.execute_reply": "2023-05-09T23:07:58.596409Z"
    },
    "lines_to_next_cell": 2
   },
   "outputs": [],
   "source": [
    "query_job = bigquery_client.query(query_pred)\n",
    "prediction_list = query_job.to_dataframe()"
   ]
  }
 ],
 "metadata": {
  "jupytext": {
   "cell_metadata_filter": "-all",
   "main_language": "python",
   "notebook_metadata_filter": "-all"
  },
  "language_info": {
   "codemirror_mode": {
    "name": "ipython",
    "version": 3
   },
   "file_extension": ".py",
   "mimetype": "text/x-python",
   "name": "python",
   "nbconvert_exporter": "python",
   "pygments_lexer": "ipython3",
   "version": "3.9.12"
  }
 },
 "nbformat": 4,
 "nbformat_minor": 5
}
