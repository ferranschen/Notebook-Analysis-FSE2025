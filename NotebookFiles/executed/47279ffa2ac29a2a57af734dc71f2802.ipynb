{
 "cells": [
  {
   "cell_type": "code",
   "execution_count": 1,
   "id": "a2ed6f3a",
   "metadata": {
    "execution": {
     "iopub.execute_input": "2023-05-10T01:30:04.942962Z",
     "iopub.status.busy": "2023-05-10T01:30:04.942403Z",
     "iopub.status.idle": "2023-05-10T01:30:08.081679Z",
     "shell.execute_reply": "2023-05-10T01:30:08.081045Z"
    }
   },
   "outputs": [
    {
     "name": "stdout",
     "output_type": "stream",
     "text": [
      "\u001b[33mWARNING: Ignoring invalid distribution -umpy (/opt/anaconda3/lib/python3.9/site-packages)\u001b[0m\r\n",
      "\u001b[33mWARNING: Ignoring invalid distribution -umpy (/opt/anaconda3/lib/python3.9/site-packages)\u001b[0m\r\n",
      "Requirement already satisfied: db-dtypes in /opt/anaconda3/lib/python3.9/site-packages (1.0.5)\r\n",
      "Requirement already satisfied: pyarrow>=3.0.0 in /opt/anaconda3/lib/python3.9/site-packages (from db-dtypes) (10.0.1)\r\n",
      "Requirement already satisfied: pandas<2.0dev,>=0.24.2 in /opt/anaconda3/lib/python3.9/site-packages (from db-dtypes) (1.5.3)\r\n",
      "Requirement already satisfied: packaging>=17.0 in /opt/anaconda3/lib/python3.9/site-packages (from db-dtypes) (21.3)\r\n",
      "Requirement already satisfied: numpy<2.0dev,>=1.16.6 in /opt/anaconda3/lib/python3.9/site-packages (from db-dtypes) (1.22.4)\r\n",
      "Requirement already satisfied: pyparsing!=3.0.5,>=2.0.2 in /opt/anaconda3/lib/python3.9/site-packages (from packaging>=17.0->db-dtypes) (3.0.4)\r\n",
      "Requirement already satisfied: pytz>=2020.1 in /opt/anaconda3/lib/python3.9/site-packages (from pandas<2.0dev,>=0.24.2->db-dtypes) (2021.3)\r\n",
      "Requirement already satisfied: python-dateutil>=2.8.1 in /opt/anaconda3/lib/python3.9/site-packages (from pandas<2.0dev,>=0.24.2->db-dtypes) (2.8.2)\r\n",
      "Requirement already satisfied: six>=1.5 in /opt/anaconda3/lib/python3.9/site-packages (from python-dateutil>=2.8.1->pandas<2.0dev,>=0.24.2->db-dtypes) (1.16.0)\r\n",
      "\u001b[33mWARNING: Ignoring invalid distribution -umpy (/opt/anaconda3/lib/python3.9/site-packages)\u001b[0m\r\n"
     ]
    },
    {
     "name": "stdout",
     "output_type": "stream",
     "text": [
      "\u001b[33mWARNING: Ignoring invalid distribution -umpy (/opt/anaconda3/lib/python3.9/site-packages)\u001b[0m\r\n",
      "\u001b[33mWARNING: Ignoring invalid distribution -umpy (/opt/anaconda3/lib/python3.9/site-packages)\u001b[0m\r\n",
      "\u001b[33mWARNING: Ignoring invalid distribution -umpy (/opt/anaconda3/lib/python3.9/site-packages)\u001b[0m\r\n"
     ]
    }
   ],
   "source": [
    "get_ipython().system('pip install db-dtypes')"
   ]
  },
  {
   "cell_type": "code",
   "execution_count": 2,
   "id": "d22f0f33",
   "metadata": {
    "execution": {
     "iopub.execute_input": "2023-05-10T01:30:08.084883Z",
     "iopub.status.busy": "2023-05-10T01:30:08.084639Z",
     "iopub.status.idle": "2023-05-10T01:30:08.536839Z",
     "shell.execute_reply": "2023-05-10T01:30:08.536554Z"
    }
   },
   "outputs": [],
   "source": [
    "import pandas as pd\n",
    "import numpy as np\n",
    "from google.cloud import bigquery"
   ]
  },
  {
   "cell_type": "code",
   "execution_count": 3,
   "id": "7b04e5d9",
   "metadata": {
    "execution": {
     "iopub.execute_input": "2023-05-10T01:30:08.539113Z",
     "iopub.status.busy": "2023-05-10T01:30:08.538433Z",
     "iopub.status.idle": "2023-05-10T01:30:08.546725Z",
     "shell.execute_reply": "2023-05-10T01:30:08.546163Z"
    }
   },
   "outputs": [],
   "source": [
    "BIGQUERY_PROJECT = 'ironhacks-data'\n",
    "bigquery_client = bigquery.Client(project=BIGQUERY_PROJECT)"
   ]
  },
  {
   "cell_type": "code",
   "execution_count": 4,
   "id": "3274f601",
   "metadata": {
    "execution": {
     "iopub.execute_input": "2023-05-10T01:30:08.548669Z",
     "iopub.status.busy": "2023-05-10T01:30:08.548517Z",
     "iopub.status.idle": "2023-05-10T01:30:08.550616Z",
     "shell.execute_reply": "2023-05-10T01:30:08.550347Z"
    }
   },
   "outputs": [],
   "source": [
    "query = \"\"\"\n",
    "SELECT *\n",
    "FROM `ironhacks-data.ironhacks_competition.unemployment_data`\n",
    "WHERE uu_id='e201385d37b5f6eea30f6d6d4106dc6f'\n",
    "\"\"\""
   ]
  },
  {
   "cell_type": "code",
   "execution_count": 5,
   "id": "815fcdab",
   "metadata": {
    "execution": {
     "iopub.execute_input": "2023-05-10T01:30:08.552030Z",
     "iopub.status.busy": "2023-05-10T01:30:08.551822Z",
     "iopub.status.idle": "2023-05-10T01:30:10.949239Z",
     "shell.execute_reply": "2023-05-10T01:30:10.948449Z"
    }
   },
   "outputs": [],
   "source": [
    "query_job = bigquery_client.query(query)\n",
    "unemployment_data = query_job.to_dataframe()"
   ]
  },
  {
   "cell_type": "code",
   "execution_count": 6,
   "id": "c0da155d",
   "metadata": {
    "execution": {
     "iopub.execute_input": "2023-05-10T01:30:10.955374Z",
     "iopub.status.busy": "2023-05-10T01:30:10.954591Z",
     "iopub.status.idle": "2023-05-10T01:30:10.967491Z",
     "shell.execute_reply": "2023-05-10T01:30:10.967023Z"
    }
   },
   "outputs": [
    {
     "data": {
      "text/plain": [
       "(0, 25)"
      ]
     },
     "execution_count": 6,
     "metadata": {},
     "output_type": "execute_result"
    }
   ],
   "source": [
    "unemployment_data.shape"
   ]
  },
  {
   "cell_type": "code",
   "execution_count": 7,
   "id": "95ae63dc",
   "metadata": {
    "execution": {
     "iopub.execute_input": "2023-05-10T01:30:10.969875Z",
     "iopub.status.busy": "2023-05-10T01:30:10.969663Z",
     "iopub.status.idle": "2023-05-10T01:30:10.980437Z",
     "shell.execute_reply": "2023-05-10T01:30:10.979850Z"
    }
   },
   "outputs": [
    {
     "data": {
      "text/html": [
       "<div>\n",
       "<style scoped>\n",
       "    .dataframe tbody tr th:only-of-type {\n",
       "        vertical-align: middle;\n",
       "    }\n",
       "\n",
       "    .dataframe tbody tr th {\n",
       "        vertical-align: top;\n",
       "    }\n",
       "\n",
       "    .dataframe thead th {\n",
       "        text-align: right;\n",
       "    }\n",
       "</style>\n",
       "<table border=\"1\" class=\"dataframe\">\n",
       "  <thead>\n",
       "    <tr style=\"text-align: right;\">\n",
       "      <th></th>\n",
       "      <th>uu_id</th>\n",
       "      <th>timeperiod</th>\n",
       "      <th>week_number</th>\n",
       "      <th>countyfips</th>\n",
       "      <th>tract</th>\n",
       "      <th>tract_name</th>\n",
       "      <th>total_claims</th>\n",
       "      <th>edu_8th_or_less</th>\n",
       "      <th>edu_grades_9_11</th>\n",
       "      <th>edu_hs_grad_equiv</th>\n",
       "      <th>...</th>\n",
       "      <th>gender_female</th>\n",
       "      <th>gender_male</th>\n",
       "      <th>gender_na</th>\n",
       "      <th>race_amerindian</th>\n",
       "      <th>race_asian</th>\n",
       "      <th>race_black</th>\n",
       "      <th>race_noanswer</th>\n",
       "      <th>race_hawaiiannative</th>\n",
       "      <th>race_other</th>\n",
       "      <th>race_white</th>\n",
       "    </tr>\n",
       "  </thead>\n",
       "  <tbody>\n",
       "  </tbody>\n",
       "</table>\n",
       "<p>0 rows × 25 columns</p>\n",
       "</div>"
      ],
      "text/plain": [
       "Empty DataFrame\n",
       "Columns: [uu_id, timeperiod, week_number, countyfips, tract, tract_name, total_claims, edu_8th_or_less, edu_grades_9_11, edu_hs_grad_equiv, edu_post_hs, edu_unknown, top_category_employer1, top_category_employer2, top_category_employer3, gender_female, gender_male, gender_na, race_amerindian, race_asian, race_black, race_noanswer, race_hawaiiannative, race_other, race_white]\n",
       "Index: []\n",
       "\n",
       "[0 rows x 25 columns]"
      ]
     },
     "execution_count": 7,
     "metadata": {},
     "output_type": "execute_result"
    }
   ],
   "source": [
    "unemployment_data.sort_values(['week_number'])"
   ]
  },
  {
   "cell_type": "code",
   "execution_count": 8,
   "id": "4fa6fddd",
   "metadata": {
    "execution": {
     "iopub.execute_input": "2023-05-10T01:30:10.983472Z",
     "iopub.status.busy": "2023-05-10T01:30:10.983246Z",
     "iopub.status.idle": "2023-05-10T01:30:10.987040Z",
     "shell.execute_reply": "2023-05-10T01:30:10.986559Z"
    }
   },
   "outputs": [
    {
     "data": {
      "text/plain": [
       "Index(['uu_id', 'timeperiod', 'week_number', 'countyfips', 'tract',\n",
       "       'tract_name', 'total_claims', 'edu_8th_or_less', 'edu_grades_9_11',\n",
       "       'edu_hs_grad_equiv', 'edu_post_hs', 'edu_unknown',\n",
       "       'top_category_employer1', 'top_category_employer2',\n",
       "       'top_category_employer3', 'gender_female', 'gender_male', 'gender_na',\n",
       "       'race_amerindian', 'race_asian', 'race_black', 'race_noanswer',\n",
       "       'race_hawaiiannative', 'race_other', 'race_white'],\n",
       "      dtype='object')"
      ]
     },
     "execution_count": 8,
     "metadata": {},
     "output_type": "execute_result"
    }
   ],
   "source": [
    "unemployment_data.columns"
   ]
  },
  {
   "cell_type": "code",
   "execution_count": 9,
   "id": "8ee091b4",
   "metadata": {
    "execution": {
     "iopub.execute_input": "2023-05-10T01:30:10.989495Z",
     "iopub.status.busy": "2023-05-10T01:30:10.989332Z",
     "iopub.status.idle": "2023-05-10T01:30:10.993442Z",
     "shell.execute_reply": "2023-05-10T01:30:10.992954Z"
    }
   },
   "outputs": [],
   "source": [
    "unemployment_data.drop(['uu_id', 'week_number', 'countyfips', 'tract',\n",
    "       'tract_name', 'edu_8th_or_less', 'edu_grades_9_11',\n",
    "       'edu_hs_grad_equiv', 'edu_post_hs', 'edu_unknown',\n",
    "       'top_category_employer1', 'top_category_employer2',\n",
    "       'top_category_employer3', 'gender_female', 'gender_male', 'gender_na',\n",
    "       'race_amerindian', 'race_asian', 'race_black', 'race_noanswer',\n",
    "       'race_hawaiiannative', 'race_other', 'race_white'], axis=1, inplace=True)"
   ]
  },
  {
   "cell_type": "code",
   "execution_count": 10,
   "id": "5b2bd438",
   "metadata": {
    "execution": {
     "iopub.execute_input": "2023-05-10T01:30:10.996228Z",
     "iopub.status.busy": "2023-05-10T01:30:10.995951Z",
     "iopub.status.idle": "2023-05-10T01:30:11.000593Z",
     "shell.execute_reply": "2023-05-10T01:30:11.000173Z"
    }
   },
   "outputs": [
    {
     "data": {
      "text/html": [
       "<div>\n",
       "<style scoped>\n",
       "    .dataframe tbody tr th:only-of-type {\n",
       "        vertical-align: middle;\n",
       "    }\n",
       "\n",
       "    .dataframe tbody tr th {\n",
       "        vertical-align: top;\n",
       "    }\n",
       "\n",
       "    .dataframe thead th {\n",
       "        text-align: right;\n",
       "    }\n",
       "</style>\n",
       "<table border=\"1\" class=\"dataframe\">\n",
       "  <thead>\n",
       "    <tr style=\"text-align: right;\">\n",
       "      <th></th>\n",
       "      <th>timeperiod</th>\n",
       "      <th>total_claims</th>\n",
       "    </tr>\n",
       "  </thead>\n",
       "  <tbody>\n",
       "  </tbody>\n",
       "</table>\n",
       "</div>"
      ],
      "text/plain": [
       "Empty DataFrame\n",
       "Columns: [timeperiod, total_claims]\n",
       "Index: []"
      ]
     },
     "execution_count": 10,
     "metadata": {},
     "output_type": "execute_result"
    }
   ],
   "source": [
    "unemployment_data"
   ]
  },
  {
   "cell_type": "code",
   "execution_count": 11,
   "id": "3443089f",
   "metadata": {
    "execution": {
     "iopub.execute_input": "2023-05-10T01:30:11.002929Z",
     "iopub.status.busy": "2023-05-10T01:30:11.002749Z",
     "iopub.status.idle": "2023-05-10T01:30:11.006632Z",
     "shell.execute_reply": "2023-05-10T01:30:11.006253Z"
    }
   },
   "outputs": [],
   "source": [
    "unemployment_data['year'] = unemployment_data['timeperiod'].apply(lambda x: str(x)[:4])\n",
    "unemployment_data['month'] = unemployment_data['timeperiod'].apply(lambda x: str(x)[4:6])\n",
    "unemployment_data['day'] = unemployment_data['timeperiod'].apply(lambda x: str(x)[6:])"
   ]
  },
  {
   "cell_type": "code",
   "execution_count": 12,
   "id": "aa42564d",
   "metadata": {
    "execution": {
     "iopub.execute_input": "2023-05-10T01:30:11.008485Z",
     "iopub.status.busy": "2023-05-10T01:30:11.008357Z",
     "iopub.status.idle": "2023-05-10T01:30:11.012135Z",
     "shell.execute_reply": "2023-05-10T01:30:11.011700Z"
    }
   },
   "outputs": [
    {
     "data": {
      "text/html": [
       "<div>\n",
       "<style scoped>\n",
       "    .dataframe tbody tr th:only-of-type {\n",
       "        vertical-align: middle;\n",
       "    }\n",
       "\n",
       "    .dataframe tbody tr th {\n",
       "        vertical-align: top;\n",
       "    }\n",
       "\n",
       "    .dataframe thead th {\n",
       "        text-align: right;\n",
       "    }\n",
       "</style>\n",
       "<table border=\"1\" class=\"dataframe\">\n",
       "  <thead>\n",
       "    <tr style=\"text-align: right;\">\n",
       "      <th></th>\n",
       "      <th>timeperiod</th>\n",
       "      <th>total_claims</th>\n",
       "      <th>year</th>\n",
       "      <th>month</th>\n",
       "      <th>day</th>\n",
       "    </tr>\n",
       "  </thead>\n",
       "  <tbody>\n",
       "  </tbody>\n",
       "</table>\n",
       "</div>"
      ],
      "text/plain": [
       "Empty DataFrame\n",
       "Columns: [timeperiod, total_claims, year, month, day]\n",
       "Index: []"
      ]
     },
     "execution_count": 12,
     "metadata": {},
     "output_type": "execute_result"
    }
   ],
   "source": [
    "unemployment_data"
   ]
  },
  {
   "cell_type": "code",
   "execution_count": 13,
   "id": "0bff4646",
   "metadata": {
    "execution": {
     "iopub.execute_input": "2023-05-10T01:30:11.014361Z",
     "iopub.status.busy": "2023-05-10T01:30:11.014181Z",
     "iopub.status.idle": "2023-05-10T01:30:11.017411Z",
     "shell.execute_reply": "2023-05-10T01:30:11.016970Z"
    }
   },
   "outputs": [],
   "source": [
    "unemployment_data['ds'] = pd.DatetimeIndex(unemployment_data['year'] + '-' + unemployment_data['month'] + '-' + unemployment_data['day'])"
   ]
  },
  {
   "cell_type": "code",
   "execution_count": 14,
   "id": "a770e9ef",
   "metadata": {
    "execution": {
     "iopub.execute_input": "2023-05-10T01:30:11.019251Z",
     "iopub.status.busy": "2023-05-10T01:30:11.019127Z",
     "iopub.status.idle": "2023-05-10T01:30:11.023358Z",
     "shell.execute_reply": "2023-05-10T01:30:11.023004Z"
    }
   },
   "outputs": [
    {
     "data": {
      "text/html": [
       "<div>\n",
       "<style scoped>\n",
       "    .dataframe tbody tr th:only-of-type {\n",
       "        vertical-align: middle;\n",
       "    }\n",
       "\n",
       "    .dataframe tbody tr th {\n",
       "        vertical-align: top;\n",
       "    }\n",
       "\n",
       "    .dataframe thead th {\n",
       "        text-align: right;\n",
       "    }\n",
       "</style>\n",
       "<table border=\"1\" class=\"dataframe\">\n",
       "  <thead>\n",
       "    <tr style=\"text-align: right;\">\n",
       "      <th></th>\n",
       "      <th>timeperiod</th>\n",
       "      <th>total_claims</th>\n",
       "      <th>year</th>\n",
       "      <th>month</th>\n",
       "      <th>day</th>\n",
       "      <th>ds</th>\n",
       "    </tr>\n",
       "  </thead>\n",
       "  <tbody>\n",
       "  </tbody>\n",
       "</table>\n",
       "</div>"
      ],
      "text/plain": [
       "Empty DataFrame\n",
       "Columns: [timeperiod, total_claims, year, month, day, ds]\n",
       "Index: []"
      ]
     },
     "execution_count": 14,
     "metadata": {},
     "output_type": "execute_result"
    }
   ],
   "source": [
    "unemployment_data"
   ]
  },
  {
   "cell_type": "code",
   "execution_count": 15,
   "id": "32d33cef",
   "metadata": {
    "execution": {
     "iopub.execute_input": "2023-05-10T01:30:11.025024Z",
     "iopub.status.busy": "2023-05-10T01:30:11.024894Z",
     "iopub.status.idle": "2023-05-10T01:30:11.027464Z",
     "shell.execute_reply": "2023-05-10T01:30:11.027082Z"
    }
   },
   "outputs": [],
   "source": [
    "unemployment_data.drop(['timeperiod', 'year', 'month', 'day'], axis=1, inplace=True)\n",
    "unemployment_data.columns = ['y', 'ds']"
   ]
  },
  {
   "cell_type": "code",
   "execution_count": 16,
   "id": "df0cb0da",
   "metadata": {
    "execution": {
     "iopub.execute_input": "2023-05-10T01:30:11.029254Z",
     "iopub.status.busy": "2023-05-10T01:30:11.029053Z",
     "iopub.status.idle": "2023-05-10T01:30:11.032699Z",
     "shell.execute_reply": "2023-05-10T01:30:11.032331Z"
    }
   },
   "outputs": [
    {
     "data": {
      "text/html": [
       "<div>\n",
       "<style scoped>\n",
       "    .dataframe tbody tr th:only-of-type {\n",
       "        vertical-align: middle;\n",
       "    }\n",
       "\n",
       "    .dataframe tbody tr th {\n",
       "        vertical-align: top;\n",
       "    }\n",
       "\n",
       "    .dataframe thead th {\n",
       "        text-align: right;\n",
       "    }\n",
       "</style>\n",
       "<table border=\"1\" class=\"dataframe\">\n",
       "  <thead>\n",
       "    <tr style=\"text-align: right;\">\n",
       "      <th></th>\n",
       "      <th>y</th>\n",
       "      <th>ds</th>\n",
       "    </tr>\n",
       "  </thead>\n",
       "  <tbody>\n",
       "  </tbody>\n",
       "</table>\n",
       "</div>"
      ],
      "text/plain": [
       "Empty DataFrame\n",
       "Columns: [y, ds]\n",
       "Index: []"
      ]
     },
     "execution_count": 16,
     "metadata": {},
     "output_type": "execute_result"
    }
   ],
   "source": [
    "unemployment_data"
   ]
  },
  {
   "cell_type": "code",
   "execution_count": 17,
   "id": "61ce587a",
   "metadata": {
    "execution": {
     "iopub.execute_input": "2023-05-10T01:30:11.034315Z",
     "iopub.status.busy": "2023-05-10T01:30:11.034225Z",
     "iopub.status.idle": "2023-05-10T01:30:11.036309Z",
     "shell.execute_reply": "2023-05-10T01:30:11.036054Z"
    }
   },
   "outputs": [],
   "source": [
    "unemployment_data.sort_values(['ds'], inplace=True)"
   ]
  },
  {
   "cell_type": "code",
   "execution_count": 18,
   "id": "01d21b65",
   "metadata": {
    "execution": {
     "iopub.execute_input": "2023-05-10T01:30:11.037625Z",
     "iopub.status.busy": "2023-05-10T01:30:11.037550Z",
     "iopub.status.idle": "2023-05-10T01:30:11.040318Z",
     "shell.execute_reply": "2023-05-10T01:30:11.040097Z"
    }
   },
   "outputs": [
    {
     "data": {
      "text/html": [
       "<div>\n",
       "<style scoped>\n",
       "    .dataframe tbody tr th:only-of-type {\n",
       "        vertical-align: middle;\n",
       "    }\n",
       "\n",
       "    .dataframe tbody tr th {\n",
       "        vertical-align: top;\n",
       "    }\n",
       "\n",
       "    .dataframe thead th {\n",
       "        text-align: right;\n",
       "    }\n",
       "</style>\n",
       "<table border=\"1\" class=\"dataframe\">\n",
       "  <thead>\n",
       "    <tr style=\"text-align: right;\">\n",
       "      <th></th>\n",
       "      <th>y</th>\n",
       "      <th>ds</th>\n",
       "    </tr>\n",
       "  </thead>\n",
       "  <tbody>\n",
       "  </tbody>\n",
       "</table>\n",
       "</div>"
      ],
      "text/plain": [
       "Empty DataFrame\n",
       "Columns: [y, ds]\n",
       "Index: []"
      ]
     },
     "execution_count": 18,
     "metadata": {},
     "output_type": "execute_result"
    }
   ],
   "source": [
    "unemployment_data.drop_duplicates(inplace=True)"
   ]
  },
  {
   "cell_type": "code",
   "execution_count": 19,
   "id": "48a777ba",
   "metadata": {
    "execution": {
     "iopub.execute_input": "2023-05-10T01:30:11.041643Z",
     "iopub.status.busy": "2023-05-10T01:30:11.041553Z",
     "iopub.status.idle": "2023-05-10T01:30:11.044192Z",
     "shell.execute_reply": "2023-05-10T01:30:11.043956Z"
    }
   },
   "outputs": [
    {
     "data": {
      "text/html": [
       "<div>\n",
       "<style scoped>\n",
       "    .dataframe tbody tr th:only-of-type {\n",
       "        vertical-align: middle;\n",
       "    }\n",
       "\n",
       "    .dataframe tbody tr th {\n",
       "        vertical-align: top;\n",
       "    }\n",
       "\n",
       "    .dataframe thead th {\n",
       "        text-align: right;\n",
       "    }\n",
       "</style>\n",
       "<table border=\"1\" class=\"dataframe\">\n",
       "  <thead>\n",
       "    <tr style=\"text-align: right;\">\n",
       "      <th></th>\n",
       "      <th>y</th>\n",
       "      <th>ds</th>\n",
       "    </tr>\n",
       "  </thead>\n",
       "  <tbody>\n",
       "  </tbody>\n",
       "</table>\n",
       "</div>"
      ],
      "text/plain": [
       "Empty DataFrame\n",
       "Columns: [y, ds]\n",
       "Index: []"
      ]
     },
     "execution_count": 19,
     "metadata": {},
     "output_type": "execute_result"
    }
   ],
   "source": [
    "unemployment_data"
   ]
  },
  {
   "cell_type": "code",
   "execution_count": 20,
   "id": "996eff7b",
   "metadata": {
    "execution": {
     "iopub.execute_input": "2023-05-10T01:30:11.045755Z",
     "iopub.status.busy": "2023-05-10T01:30:11.045616Z",
     "iopub.status.idle": "2023-05-10T01:30:11.122715Z",
     "shell.execute_reply": "2023-05-10T01:30:11.122463Z"
    }
   },
   "outputs": [
    {
     "ename": "ModuleNotFoundError",
     "evalue": "No module named 'prophet'",
     "output_type": "error",
     "traceback": [
      "\u001b[0;31m---------------------------------------------------------------------------\u001b[0m",
      "\u001b[0;31mModuleNotFoundError\u001b[0m                       Traceback (most recent call last)",
      "Cell \u001b[0;32mIn [20], line 1\u001b[0m\n\u001b[0;32m----> 1\u001b[0m \u001b[38;5;28;01mfrom\u001b[39;00m \u001b[38;5;21;01mprophet\u001b[39;00m \u001b[38;5;28;01mimport\u001b[39;00m Prophet\n",
      "\u001b[0;31mModuleNotFoundError\u001b[0m: No module named 'prophet'"
     ]
    }
   ],
   "source": [
    "from prophet import Prophet"
   ]
  },
  {
   "cell_type": "code",
   "execution_count": 21,
   "id": "d98e5b32",
   "metadata": {
    "execution": {
     "iopub.execute_input": "2023-05-10T01:30:11.124265Z",
     "iopub.status.busy": "2023-05-10T01:30:11.124158Z",
     "iopub.status.idle": "2023-05-10T01:30:13.828636Z",
     "shell.execute_reply": "2023-05-10T01:30:13.828102Z"
    }
   },
   "outputs": [
    {
     "name": "stdout",
     "output_type": "stream",
     "text": [
      "\u001b[33mWARNING: Ignoring invalid distribution -umpy (/opt/anaconda3/lib/python3.9/site-packages)\u001b[0m\r\n",
      "\u001b[33mWARNING: Ignoring invalid distribution -umpy (/opt/anaconda3/lib/python3.9/site-packages)\u001b[0m\r\n",
      "Requirement already satisfied: prophet in /opt/anaconda3/lib/python3.9/site-packages (1.1.2)\r\n",
      "Requirement already satisfied: pandas>=1.0.4 in /opt/anaconda3/lib/python3.9/site-packages (from prophet) (1.5.3)\r\n",
      "Requirement already satisfied: numpy>=1.15.4 in /opt/anaconda3/lib/python3.9/site-packages (from prophet) (1.22.4)\r\n",
      "Requirement already satisfied: python-dateutil>=2.8.0 in /opt/anaconda3/lib/python3.9/site-packages (from prophet) (2.8.2)\r\n",
      "Requirement already satisfied: tqdm>=4.36.1 in /opt/anaconda3/lib/python3.9/site-packages (from prophet) (4.62.3)\r\n",
      "Requirement already satisfied: holidays>=0.14.2 in /opt/anaconda3/lib/python3.9/site-packages (from prophet) (0.21.13)\r\n",
      "Requirement already satisfied: matplotlib>=2.0.0 in /opt/anaconda3/lib/python3.9/site-packages (from prophet) (3.7.1)\r\n",
      "Requirement already satisfied: LunarCalendar>=0.0.9 in /opt/anaconda3/lib/python3.9/site-packages (from prophet) (0.0.9)\r\n",
      "Requirement already satisfied: convertdate>=2.1.2 in /opt/anaconda3/lib/python3.9/site-packages (from prophet) (2.4.0)\r\n",
      "Requirement already satisfied: cmdstanpy>=1.0.4 in /opt/anaconda3/lib/python3.9/site-packages (from prophet) (1.1.0)\r\n"
     ]
    },
    {
     "name": "stdout",
     "output_type": "stream",
     "text": [
      "Requirement already satisfied: pymeeus<=1,>=0.3.13 in /opt/anaconda3/lib/python3.9/site-packages (from convertdate>=2.1.2->prophet) (0.5.12)\r\n",
      "Requirement already satisfied: hijri-converter in /opt/anaconda3/lib/python3.9/site-packages (from holidays>=0.14.2->prophet) (2.2.4)\r\n",
      "Requirement already satisfied: korean-lunar-calendar in /opt/anaconda3/lib/python3.9/site-packages (from holidays>=0.14.2->prophet) (0.3.1)\r\n",
      "Requirement already satisfied: pytz in /opt/anaconda3/lib/python3.9/site-packages (from LunarCalendar>=0.0.9->prophet) (2021.3)\r\n",
      "Requirement already satisfied: ephem>=3.7.5.3 in /opt/anaconda3/lib/python3.9/site-packages (from LunarCalendar>=0.0.9->prophet) (4.1.4)\r\n",
      "Requirement already satisfied: pillow>=6.2.0 in /opt/anaconda3/lib/python3.9/site-packages (from matplotlib>=2.0.0->prophet) (8.4.0)\r\n",
      "Requirement already satisfied: kiwisolver>=1.0.1 in /opt/anaconda3/lib/python3.9/site-packages (from matplotlib>=2.0.0->prophet) (1.3.1)\r\n",
      "Requirement already satisfied: cycler>=0.10 in /opt/anaconda3/lib/python3.9/site-packages (from matplotlib>=2.0.0->prophet) (0.10.0)\r\n",
      "Requirement already satisfied: packaging>=20.0 in /opt/anaconda3/lib/python3.9/site-packages (from matplotlib>=2.0.0->prophet) (21.3)\r\n",
      "Requirement already satisfied: pyparsing>=2.3.1 in /opt/anaconda3/lib/python3.9/site-packages (from matplotlib>=2.0.0->prophet) (3.0.4)\r\n",
      "Requirement already satisfied: fonttools>=4.22.0 in /opt/anaconda3/lib/python3.9/site-packages (from matplotlib>=2.0.0->prophet) (4.25.0)\r\n",
      "Requirement already satisfied: importlib-resources>=3.2.0 in /opt/anaconda3/lib/python3.9/site-packages (from matplotlib>=2.0.0->prophet) (5.12.0)\r\n",
      "Requirement already satisfied: contourpy>=1.0.1 in /opt/anaconda3/lib/python3.9/site-packages (from matplotlib>=2.0.0->prophet) (1.0.7)\r\n",
      "Requirement already satisfied: six in /opt/anaconda3/lib/python3.9/site-packages (from cycler>=0.10->matplotlib>=2.0.0->prophet) (1.16.0)\r\n",
      "Requirement already satisfied: zipp>=3.1.0 in /opt/anaconda3/lib/python3.9/site-packages (from importlib-resources>=3.2.0->matplotlib>=2.0.0->prophet) (3.6.0)\r\n"
     ]
    },
    {
     "name": "stdout",
     "output_type": "stream",
     "text": [
      "\u001b[33mWARNING: Ignoring invalid distribution -umpy (/opt/anaconda3/lib/python3.9/site-packages)\u001b[0m\r\n"
     ]
    },
    {
     "name": "stdout",
     "output_type": "stream",
     "text": [
      "\u001b[33mWARNING: Ignoring invalid distribution -umpy (/opt/anaconda3/lib/python3.9/site-packages)\u001b[0m\r\n"
     ]
    },
    {
     "name": "stdout",
     "output_type": "stream",
     "text": [
      "\u001b[33mWARNING: Ignoring invalid distribution -umpy (/opt/anaconda3/lib/python3.9/site-packages)\u001b[0m\r\n",
      "\u001b[33mWARNING: Ignoring invalid distribution -umpy (/opt/anaconda3/lib/python3.9/site-packages)\u001b[0m\r\n"
     ]
    }
   ],
   "source": [
    "get_ipython().system('pip install prophet')"
   ]
  },
  {
   "cell_type": "code",
   "execution_count": 22,
   "id": "4ac7fb48",
   "metadata": {
    "execution": {
     "iopub.execute_input": "2023-05-10T01:30:13.831371Z",
     "iopub.status.busy": "2023-05-10T01:30:13.830997Z",
     "iopub.status.idle": "2023-05-10T01:30:13.841947Z",
     "shell.execute_reply": "2023-05-10T01:30:13.841642Z"
    }
   },
   "outputs": [
    {
     "ename": "ModuleNotFoundError",
     "evalue": "No module named 'prophet'",
     "output_type": "error",
     "traceback": [
      "\u001b[0;31m---------------------------------------------------------------------------\u001b[0m",
      "\u001b[0;31mModuleNotFoundError\u001b[0m                       Traceback (most recent call last)",
      "Cell \u001b[0;32mIn [22], line 1\u001b[0m\n\u001b[0;32m----> 1\u001b[0m \u001b[38;5;28;01mfrom\u001b[39;00m \u001b[38;5;21;01mprophet\u001b[39;00m \u001b[38;5;28;01mimport\u001b[39;00m Prophet\n",
      "\u001b[0;31mModuleNotFoundError\u001b[0m: No module named 'prophet'"
     ]
    }
   ],
   "source": [
    "from prophet import Prophet"
   ]
  },
  {
   "cell_type": "code",
   "execution_count": 23,
   "id": "ccddfbd1",
   "metadata": {
    "execution": {
     "iopub.execute_input": "2023-05-10T01:30:13.843693Z",
     "iopub.status.busy": "2023-05-10T01:30:13.843560Z",
     "iopub.status.idle": "2023-05-10T01:30:13.845453Z",
     "shell.execute_reply": "2023-05-10T01:30:13.845128Z"
    }
   },
   "outputs": [],
   "source": [
    "ud = unemployment_data"
   ]
  },
  {
   "cell_type": "code",
   "execution_count": 24,
   "id": "1d3196e8",
   "metadata": {
    "execution": {
     "iopub.execute_input": "2023-05-10T01:30:13.847191Z",
     "iopub.status.busy": "2023-05-10T01:30:13.847061Z",
     "iopub.status.idle": "2023-05-10T01:30:13.850136Z",
     "shell.execute_reply": "2023-05-10T01:30:13.849859Z"
    }
   },
   "outputs": [],
   "source": [
    "threshold_date = pd.to_datetime('2022-05-14')\n",
    "mask = ud['ds'] < threshold_date"
   ]
  },
  {
   "cell_type": "code",
   "execution_count": 25,
   "id": "86e2a350",
   "metadata": {
    "execution": {
     "iopub.execute_input": "2023-05-10T01:30:13.851787Z",
     "iopub.status.busy": "2023-05-10T01:30:13.851686Z",
     "iopub.status.idle": "2023-05-10T01:30:13.854683Z",
     "shell.execute_reply": "2023-05-10T01:30:13.854413Z"
    }
   },
   "outputs": [],
   "source": [
    "# Split the data and select `ds` and `y` columns.\n",
    "ud_train = ud[mask][['ds', 'y']]\n",
    "ud_test = ud[~mask][['ds', 'y']]"
   ]
  },
  {
   "cell_type": "code",
   "execution_count": 26,
   "id": "002a24a3",
   "metadata": {
    "execution": {
     "iopub.execute_input": "2023-05-10T01:30:13.856126Z",
     "iopub.status.busy": "2023-05-10T01:30:13.856032Z",
     "iopub.status.idle": "2023-05-10T01:30:13.863232Z",
     "shell.execute_reply": "2023-05-10T01:30:13.862975Z"
    }
   },
   "outputs": [
    {
     "ename": "NameError",
     "evalue": "name 'Prophet' is not defined",
     "output_type": "error",
     "traceback": [
      "\u001b[0;31m---------------------------------------------------------------------------\u001b[0m",
      "\u001b[0;31mNameError\u001b[0m                                 Traceback (most recent call last)",
      "Cell \u001b[0;32mIn [26], line 1\u001b[0m\n\u001b[0;32m----> 1\u001b[0m m \u001b[38;5;241m=\u001b[39m \u001b[43mProphet\u001b[49m()\n",
      "\u001b[0;31mNameError\u001b[0m: name 'Prophet' is not defined"
     ]
    }
   ],
   "source": [
    "m = Prophet()"
   ]
  },
  {
   "cell_type": "code",
   "execution_count": 27,
   "id": "43edf425",
   "metadata": {
    "execution": {
     "iopub.execute_input": "2023-05-10T01:30:13.864706Z",
     "iopub.status.busy": "2023-05-10T01:30:13.864604Z",
     "iopub.status.idle": "2023-05-10T01:30:13.871186Z",
     "shell.execute_reply": "2023-05-10T01:30:13.870942Z"
    }
   },
   "outputs": [
    {
     "ename": "NameError",
     "evalue": "name 'm' is not defined",
     "output_type": "error",
     "traceback": [
      "\u001b[0;31m---------------------------------------------------------------------------\u001b[0m",
      "\u001b[0;31mNameError\u001b[0m                                 Traceback (most recent call last)",
      "Cell \u001b[0;32mIn [27], line 1\u001b[0m\n\u001b[0;32m----> 1\u001b[0m \u001b[43mm\u001b[49m\u001b[38;5;241m.\u001b[39mfit(ud_train)\n",
      "\u001b[0;31mNameError\u001b[0m: name 'm' is not defined"
     ]
    }
   ],
   "source": [
    "m.fit(ud_train)"
   ]
  },
  {
   "cell_type": "code",
   "execution_count": 28,
   "id": "ead31138",
   "metadata": {
    "execution": {
     "iopub.execute_input": "2023-05-10T01:30:13.872606Z",
     "iopub.status.busy": "2023-05-10T01:30:13.872526Z",
     "iopub.status.idle": "2023-05-10T01:30:13.879323Z",
     "shell.execute_reply": "2023-05-10T01:30:13.879062Z"
    }
   },
   "outputs": [
    {
     "ename": "NameError",
     "evalue": "name 'm' is not defined",
     "output_type": "error",
     "traceback": [
      "\u001b[0;31m---------------------------------------------------------------------------\u001b[0m",
      "\u001b[0;31mNameError\u001b[0m                                 Traceback (most recent call last)",
      "Cell \u001b[0;32mIn [28], line 1\u001b[0m\n\u001b[0;32m----> 1\u001b[0m future \u001b[38;5;241m=\u001b[39m \u001b[43mm\u001b[49m\u001b[38;5;241m.\u001b[39mmake_future_dataframe(periods\u001b[38;5;241m=\u001b[39mud_test\u001b[38;5;241m.\u001b[39mshape[\u001b[38;5;241m0\u001b[39m], freq\u001b[38;5;241m=\u001b[39m\u001b[38;5;124m'\u001b[39m\u001b[38;5;124mW\u001b[39m\u001b[38;5;124m'\u001b[39m)\n",
      "\u001b[0;31mNameError\u001b[0m: name 'm' is not defined"
     ]
    }
   ],
   "source": [
    "future = m.make_future_dataframe(periods=ud_test.shape[0], freq='W')"
   ]
  },
  {
   "cell_type": "code",
   "execution_count": 29,
   "id": "cee73f7f",
   "metadata": {
    "execution": {
     "iopub.execute_input": "2023-05-10T01:30:13.880830Z",
     "iopub.status.busy": "2023-05-10T01:30:13.880728Z",
     "iopub.status.idle": "2023-05-10T01:30:13.887208Z",
     "shell.execute_reply": "2023-05-10T01:30:13.886982Z"
    }
   },
   "outputs": [
    {
     "ename": "NameError",
     "evalue": "name 'm' is not defined",
     "output_type": "error",
     "traceback": [
      "\u001b[0;31m---------------------------------------------------------------------------\u001b[0m",
      "\u001b[0;31mNameError\u001b[0m                                 Traceback (most recent call last)",
      "Cell \u001b[0;32mIn [29], line 1\u001b[0m\n\u001b[0;32m----> 1\u001b[0m forecast \u001b[38;5;241m=\u001b[39m \u001b[43mm\u001b[49m\u001b[38;5;241m.\u001b[39mpredict(df\u001b[38;5;241m=\u001b[39mfuture)\n",
      "\u001b[0;31mNameError\u001b[0m: name 'm' is not defined"
     ]
    }
   ],
   "source": [
    "forecast = m.predict(df=future)"
   ]
  },
  {
   "cell_type": "code",
   "execution_count": 30,
   "id": "94d0046d",
   "metadata": {
    "execution": {
     "iopub.execute_input": "2023-05-10T01:30:13.888548Z",
     "iopub.status.busy": "2023-05-10T01:30:13.888465Z",
     "iopub.status.idle": "2023-05-10T01:30:13.895015Z",
     "shell.execute_reply": "2023-05-10T01:30:13.894782Z"
    }
   },
   "outputs": [
    {
     "ename": "NameError",
     "evalue": "name 'forecast' is not defined",
     "output_type": "error",
     "traceback": [
      "\u001b[0;31m---------------------------------------------------------------------------\u001b[0m",
      "\u001b[0;31mNameError\u001b[0m                                 Traceback (most recent call last)",
      "Cell \u001b[0;32mIn [30], line 1\u001b[0m\n\u001b[0;32m----> 1\u001b[0m \u001b[43mforecast\u001b[49m\n",
      "\u001b[0;31mNameError\u001b[0m: name 'forecast' is not defined"
     ]
    }
   ],
   "source": [
    "forecast"
   ]
  },
  {
   "cell_type": "code",
   "execution_count": 31,
   "id": "1954cca3",
   "metadata": {
    "execution": {
     "iopub.execute_input": "2023-05-10T01:30:13.896402Z",
     "iopub.status.busy": "2023-05-10T01:30:13.896322Z",
     "iopub.status.idle": "2023-05-10T01:30:13.903147Z",
     "shell.execute_reply": "2023-05-10T01:30:13.902870Z"
    }
   },
   "outputs": [
    {
     "ename": "NameError",
     "evalue": "name 'm' is not defined",
     "output_type": "error",
     "traceback": [
      "\u001b[0;31m---------------------------------------------------------------------------\u001b[0m",
      "\u001b[0;31mNameError\u001b[0m                                 Traceback (most recent call last)",
      "Cell \u001b[0;32mIn [31], line 1\u001b[0m\n\u001b[0;32m----> 1\u001b[0m plot1 \u001b[38;5;241m=\u001b[39m \u001b[43mm\u001b[49m\u001b[38;5;241m.\u001b[39mplot(forecast)\n",
      "\u001b[0;31mNameError\u001b[0m: name 'm' is not defined"
     ]
    }
   ],
   "source": [
    "plot1 = m.plot(forecast)"
   ]
  },
  {
   "cell_type": "code",
   "execution_count": 32,
   "id": "ff22356b",
   "metadata": {
    "execution": {
     "iopub.execute_input": "2023-05-10T01:30:13.904621Z",
     "iopub.status.busy": "2023-05-10T01:30:13.904515Z",
     "iopub.status.idle": "2023-05-10T01:30:13.907438Z",
     "shell.execute_reply": "2023-05-10T01:30:13.907206Z"
    }
   },
   "outputs": [
    {
     "data": {
      "text/html": [
       "<div>\n",
       "<style scoped>\n",
       "    .dataframe tbody tr th:only-of-type {\n",
       "        vertical-align: middle;\n",
       "    }\n",
       "\n",
       "    .dataframe tbody tr th {\n",
       "        vertical-align: top;\n",
       "    }\n",
       "\n",
       "    .dataframe thead th {\n",
       "        text-align: right;\n",
       "    }\n",
       "</style>\n",
       "<table border=\"1\" class=\"dataframe\">\n",
       "  <thead>\n",
       "    <tr style=\"text-align: right;\">\n",
       "      <th></th>\n",
       "      <th>ds</th>\n",
       "      <th>y</th>\n",
       "    </tr>\n",
       "  </thead>\n",
       "  <tbody>\n",
       "  </tbody>\n",
       "</table>\n",
       "</div>"
      ],
      "text/plain": [
       "Empty DataFrame\n",
       "Columns: [ds, y]\n",
       "Index: []"
      ]
     },
     "execution_count": 32,
     "metadata": {},
     "output_type": "execute_result"
    }
   ],
   "source": [
    "ud_test"
   ]
  },
  {
   "cell_type": "code",
   "execution_count": 33,
   "id": "fbd20ef6",
   "metadata": {
    "execution": {
     "iopub.execute_input": "2023-05-10T01:30:13.908833Z",
     "iopub.status.busy": "2023-05-10T01:30:13.908728Z",
     "iopub.status.idle": "2023-05-10T01:30:13.911255Z",
     "shell.execute_reply": "2023-05-10T01:30:13.911001Z"
    }
   },
   "outputs": [
    {
     "data": {
      "text/html": [
       "<div>\n",
       "<style scoped>\n",
       "    .dataframe tbody tr th:only-of-type {\n",
       "        vertical-align: middle;\n",
       "    }\n",
       "\n",
       "    .dataframe tbody tr th {\n",
       "        vertical-align: top;\n",
       "    }\n",
       "\n",
       "    .dataframe thead th {\n",
       "        text-align: right;\n",
       "    }\n",
       "</style>\n",
       "<table border=\"1\" class=\"dataframe\">\n",
       "  <thead>\n",
       "    <tr style=\"text-align: right;\">\n",
       "      <th></th>\n",
       "      <th>ds</th>\n",
       "      <th>y</th>\n",
       "    </tr>\n",
       "  </thead>\n",
       "  <tbody>\n",
       "  </tbody>\n",
       "</table>\n",
       "</div>"
      ],
      "text/plain": [
       "Empty DataFrame\n",
       "Columns: [ds, y]\n",
       "Index: []"
      ]
     },
     "execution_count": 33,
     "metadata": {},
     "output_type": "execute_result"
    }
   ],
   "source": [
    "ud_test\n",
    "ud_train"
   ]
  },
  {
   "cell_type": "code",
   "execution_count": 34,
   "id": "32c91a57",
   "metadata": {
    "execution": {
     "iopub.execute_input": "2023-05-10T01:30:13.912687Z",
     "iopub.status.busy": "2023-05-10T01:30:13.912581Z",
     "iopub.status.idle": "2023-05-10T01:30:13.914886Z",
     "shell.execute_reply": "2023-05-10T01:30:13.914624Z"
    }
   },
   "outputs": [
    {
     "name": "stdout",
     "output_type": "stream",
     "text": [
      "Empty DataFrame\n",
      "Columns: [ds, y]\n",
      "Index: [] Empty DataFrame\n",
      "Columns: [ds, y]\n",
      "Index: []\n"
     ]
    }
   ],
   "source": [
    "print(ud_train, ud_test)"
   ]
  },
  {
   "cell_type": "code",
   "execution_count": 35,
   "id": "00c1299e",
   "metadata": {
    "execution": {
     "iopub.execute_input": "2023-05-10T01:30:13.916325Z",
     "iopub.status.busy": "2023-05-10T01:30:13.916216Z",
     "iopub.status.idle": "2023-05-10T01:30:13.918851Z",
     "shell.execute_reply": "2023-05-10T01:30:13.918604Z"
    }
   },
   "outputs": [
    {
     "data": {
      "text/html": [
       "<div>\n",
       "<style scoped>\n",
       "    .dataframe tbody tr th:only-of-type {\n",
       "        vertical-align: middle;\n",
       "    }\n",
       "\n",
       "    .dataframe tbody tr th {\n",
       "        vertical-align: top;\n",
       "    }\n",
       "\n",
       "    .dataframe thead th {\n",
       "        text-align: right;\n",
       "    }\n",
       "</style>\n",
       "<table border=\"1\" class=\"dataframe\">\n",
       "  <thead>\n",
       "    <tr style=\"text-align: right;\">\n",
       "      <th></th>\n",
       "      <th>ds</th>\n",
       "      <th>y</th>\n",
       "    </tr>\n",
       "  </thead>\n",
       "  <tbody>\n",
       "  </tbody>\n",
       "</table>\n",
       "</div>"
      ],
      "text/plain": [
       "Empty DataFrame\n",
       "Columns: [ds, y]\n",
       "Index: []"
      ]
     },
     "execution_count": 35,
     "metadata": {},
     "output_type": "execute_result"
    }
   ],
   "source": [
    "ud_train"
   ]
  },
  {
   "cell_type": "code",
   "execution_count": 36,
   "id": "0fe2887d",
   "metadata": {
    "execution": {
     "iopub.execute_input": "2023-05-10T01:30:13.920210Z",
     "iopub.status.busy": "2023-05-10T01:30:13.920113Z",
     "iopub.status.idle": "2023-05-10T01:30:13.922638Z",
     "shell.execute_reply": "2023-05-10T01:30:13.922377Z"
    }
   },
   "outputs": [
    {
     "data": {
      "text/html": [
       "<div>\n",
       "<style scoped>\n",
       "    .dataframe tbody tr th:only-of-type {\n",
       "        vertical-align: middle;\n",
       "    }\n",
       "\n",
       "    .dataframe tbody tr th {\n",
       "        vertical-align: top;\n",
       "    }\n",
       "\n",
       "    .dataframe thead th {\n",
       "        text-align: right;\n",
       "    }\n",
       "</style>\n",
       "<table border=\"1\" class=\"dataframe\">\n",
       "  <thead>\n",
       "    <tr style=\"text-align: right;\">\n",
       "      <th></th>\n",
       "      <th>ds</th>\n",
       "      <th>y</th>\n",
       "    </tr>\n",
       "  </thead>\n",
       "  <tbody>\n",
       "  </tbody>\n",
       "</table>\n",
       "</div>"
      ],
      "text/plain": [
       "Empty DataFrame\n",
       "Columns: [ds, y]\n",
       "Index: []"
      ]
     },
     "execution_count": 36,
     "metadata": {},
     "output_type": "execute_result"
    }
   ],
   "source": [
    "ud_test"
   ]
  },
  {
   "cell_type": "code",
   "execution_count": 37,
   "id": "308019c6",
   "metadata": {
    "execution": {
     "iopub.execute_input": "2023-05-10T01:30:13.923967Z",
     "iopub.status.busy": "2023-05-10T01:30:13.923870Z",
     "iopub.status.idle": "2023-05-10T01:30:14.496643Z",
     "shell.execute_reply": "2023-05-10T01:30:14.496310Z"
    }
   },
   "outputs": [
    {
     "ename": "KeyError",
     "evalue": "\"['uu_id', 'countyfips', 'tract', 'tract_name', 'edu_8th_or_less', 'edu_grades_9_11', 'edu_hs_grad_equiv', 'edu_post_hs', 'edu_unknown', 'top_category_employer1', 'top_category_employer2', 'top_category_employer3', 'gender_female', 'gender_male', 'gender_na', 'race_amerindian', 'race_asian', 'race_black', 'race_noanswer', 'race_hawaiiannative', 'race_other', 'race_white'] not found in axis\"",
     "output_type": "error",
     "traceback": [
      "\u001b[0;31m---------------------------------------------------------------------------\u001b[0m",
      "\u001b[0;31mKeyError\u001b[0m                                  Traceback (most recent call last)",
      "Cell \u001b[0;32mIn [37], line 1\u001b[0m\n\u001b[0;32m----> 1\u001b[0m \u001b[43munemployment_data\u001b[49m\u001b[38;5;241;43m.\u001b[39;49m\u001b[43mdrop\u001b[49m\u001b[43m(\u001b[49m\u001b[43m[\u001b[49m\u001b[38;5;124;43m'\u001b[39;49m\u001b[38;5;124;43muu_id\u001b[39;49m\u001b[38;5;124;43m'\u001b[39;49m\u001b[43m,\u001b[49m\u001b[43m \u001b[49m\u001b[38;5;124;43m'\u001b[39;49m\u001b[38;5;124;43mcountyfips\u001b[39;49m\u001b[38;5;124;43m'\u001b[39;49m\u001b[43m,\u001b[49m\u001b[43m \u001b[49m\u001b[38;5;124;43m'\u001b[39;49m\u001b[38;5;124;43mtract\u001b[39;49m\u001b[38;5;124;43m'\u001b[39;49m\u001b[43m,\u001b[49m\n\u001b[1;32m      2\u001b[0m \u001b[43m       \u001b[49m\u001b[38;5;124;43m'\u001b[39;49m\u001b[38;5;124;43mtract_name\u001b[39;49m\u001b[38;5;124;43m'\u001b[39;49m\u001b[43m,\u001b[49m\u001b[43m \u001b[49m\u001b[38;5;124;43m'\u001b[39;49m\u001b[38;5;124;43medu_8th_or_less\u001b[39;49m\u001b[38;5;124;43m'\u001b[39;49m\u001b[43m,\u001b[49m\u001b[43m \u001b[49m\u001b[38;5;124;43m'\u001b[39;49m\u001b[38;5;124;43medu_grades_9_11\u001b[39;49m\u001b[38;5;124;43m'\u001b[39;49m\u001b[43m,\u001b[49m\n\u001b[1;32m      3\u001b[0m \u001b[43m       \u001b[49m\u001b[38;5;124;43m'\u001b[39;49m\u001b[38;5;124;43medu_hs_grad_equiv\u001b[39;49m\u001b[38;5;124;43m'\u001b[39;49m\u001b[43m,\u001b[49m\u001b[43m \u001b[49m\u001b[38;5;124;43m'\u001b[39;49m\u001b[38;5;124;43medu_post_hs\u001b[39;49m\u001b[38;5;124;43m'\u001b[39;49m\u001b[43m,\u001b[49m\u001b[43m \u001b[49m\u001b[38;5;124;43m'\u001b[39;49m\u001b[38;5;124;43medu_unknown\u001b[39;49m\u001b[38;5;124;43m'\u001b[39;49m\u001b[43m,\u001b[49m\n\u001b[1;32m      4\u001b[0m \u001b[43m       \u001b[49m\u001b[38;5;124;43m'\u001b[39;49m\u001b[38;5;124;43mtop_category_employer1\u001b[39;49m\u001b[38;5;124;43m'\u001b[39;49m\u001b[43m,\u001b[49m\u001b[43m \u001b[49m\u001b[38;5;124;43m'\u001b[39;49m\u001b[38;5;124;43mtop_category_employer2\u001b[39;49m\u001b[38;5;124;43m'\u001b[39;49m\u001b[43m,\u001b[49m\n\u001b[1;32m      5\u001b[0m \u001b[43m       \u001b[49m\u001b[38;5;124;43m'\u001b[39;49m\u001b[38;5;124;43mtop_category_employer3\u001b[39;49m\u001b[38;5;124;43m'\u001b[39;49m\u001b[43m,\u001b[49m\u001b[43m \u001b[49m\u001b[38;5;124;43m'\u001b[39;49m\u001b[38;5;124;43mgender_female\u001b[39;49m\u001b[38;5;124;43m'\u001b[39;49m\u001b[43m,\u001b[49m\u001b[43m \u001b[49m\u001b[38;5;124;43m'\u001b[39;49m\u001b[38;5;124;43mgender_male\u001b[39;49m\u001b[38;5;124;43m'\u001b[39;49m\u001b[43m,\u001b[49m\u001b[43m \u001b[49m\u001b[38;5;124;43m'\u001b[39;49m\u001b[38;5;124;43mgender_na\u001b[39;49m\u001b[38;5;124;43m'\u001b[39;49m\u001b[43m,\u001b[49m\n\u001b[1;32m      6\u001b[0m \u001b[43m       \u001b[49m\u001b[38;5;124;43m'\u001b[39;49m\u001b[38;5;124;43mrace_amerindian\u001b[39;49m\u001b[38;5;124;43m'\u001b[39;49m\u001b[43m,\u001b[49m\u001b[43m \u001b[49m\u001b[38;5;124;43m'\u001b[39;49m\u001b[38;5;124;43mrace_asian\u001b[39;49m\u001b[38;5;124;43m'\u001b[39;49m\u001b[43m,\u001b[49m\u001b[43m \u001b[49m\u001b[38;5;124;43m'\u001b[39;49m\u001b[38;5;124;43mrace_black\u001b[39;49m\u001b[38;5;124;43m'\u001b[39;49m\u001b[43m,\u001b[49m\u001b[43m \u001b[49m\u001b[38;5;124;43m'\u001b[39;49m\u001b[38;5;124;43mrace_noanswer\u001b[39;49m\u001b[38;5;124;43m'\u001b[39;49m\u001b[43m,\u001b[49m\n\u001b[1;32m      7\u001b[0m \u001b[43m       \u001b[49m\u001b[38;5;124;43m'\u001b[39;49m\u001b[38;5;124;43mrace_hawaiiannative\u001b[39;49m\u001b[38;5;124;43m'\u001b[39;49m\u001b[43m,\u001b[49m\u001b[43m \u001b[49m\u001b[38;5;124;43m'\u001b[39;49m\u001b[38;5;124;43mrace_other\u001b[39;49m\u001b[38;5;124;43m'\u001b[39;49m\u001b[43m,\u001b[49m\u001b[43m \u001b[49m\u001b[38;5;124;43m'\u001b[39;49m\u001b[38;5;124;43mrace_white\u001b[39;49m\u001b[38;5;124;43m'\u001b[39;49m\u001b[43m]\u001b[49m\u001b[43m,\u001b[49m\u001b[43m \u001b[49m\u001b[43maxis\u001b[49m\u001b[38;5;241;43m=\u001b[39;49m\u001b[38;5;241;43m1\u001b[39;49m\u001b[43m,\u001b[49m\u001b[43m \u001b[49m\u001b[43minplace\u001b[49m\u001b[38;5;241;43m=\u001b[39;49m\u001b[38;5;28;43;01mTrue\u001b[39;49;00m\u001b[43m)\u001b[49m\n",
      "File \u001b[0;32m/opt/homebrew/lib/python3.9/site-packages/pandas/util/_decorators.py:331\u001b[0m, in \u001b[0;36mdeprecate_nonkeyword_arguments.<locals>.decorate.<locals>.wrapper\u001b[0;34m(*args, **kwargs)\u001b[0m\n\u001b[1;32m    325\u001b[0m \u001b[38;5;28;01mif\u001b[39;00m \u001b[38;5;28mlen\u001b[39m(args) \u001b[38;5;241m>\u001b[39m num_allow_args:\n\u001b[1;32m    326\u001b[0m     warnings\u001b[38;5;241m.\u001b[39mwarn(\n\u001b[1;32m    327\u001b[0m         msg\u001b[38;5;241m.\u001b[39mformat(arguments\u001b[38;5;241m=\u001b[39m_format_argument_list(allow_args)),\n\u001b[1;32m    328\u001b[0m         \u001b[38;5;167;01mFutureWarning\u001b[39;00m,\n\u001b[1;32m    329\u001b[0m         stacklevel\u001b[38;5;241m=\u001b[39mfind_stack_level(),\n\u001b[1;32m    330\u001b[0m     )\n\u001b[0;32m--> 331\u001b[0m \u001b[38;5;28;01mreturn\u001b[39;00m \u001b[43mfunc\u001b[49m\u001b[43m(\u001b[49m\u001b[38;5;241;43m*\u001b[39;49m\u001b[43margs\u001b[49m\u001b[43m,\u001b[49m\u001b[43m \u001b[49m\u001b[38;5;241;43m*\u001b[39;49m\u001b[38;5;241;43m*\u001b[39;49m\u001b[43mkwargs\u001b[49m\u001b[43m)\u001b[49m\n",
      "File \u001b[0;32m/opt/homebrew/lib/python3.9/site-packages/pandas/core/frame.py:5388\u001b[0m, in \u001b[0;36mDataFrame.drop\u001b[0;34m(self, labels, axis, index, columns, level, inplace, errors)\u001b[0m\n\u001b[1;32m   5240\u001b[0m \u001b[38;5;129m@deprecate_nonkeyword_arguments\u001b[39m(version\u001b[38;5;241m=\u001b[39m\u001b[38;5;28;01mNone\u001b[39;00m, allowed_args\u001b[38;5;241m=\u001b[39m[\u001b[38;5;124m\"\u001b[39m\u001b[38;5;124mself\u001b[39m\u001b[38;5;124m\"\u001b[39m, \u001b[38;5;124m\"\u001b[39m\u001b[38;5;124mlabels\u001b[39m\u001b[38;5;124m\"\u001b[39m])\n\u001b[1;32m   5241\u001b[0m \u001b[38;5;28;01mdef\u001b[39;00m \u001b[38;5;21mdrop\u001b[39m(  \u001b[38;5;66;03m# type: ignore[override]\u001b[39;00m\n\u001b[1;32m   5242\u001b[0m     \u001b[38;5;28mself\u001b[39m,\n\u001b[0;32m   (...)\u001b[0m\n\u001b[1;32m   5249\u001b[0m     errors: IgnoreRaise \u001b[38;5;241m=\u001b[39m \u001b[38;5;124m\"\u001b[39m\u001b[38;5;124mraise\u001b[39m\u001b[38;5;124m\"\u001b[39m,\n\u001b[1;32m   5250\u001b[0m ) \u001b[38;5;241m-\u001b[39m\u001b[38;5;241m>\u001b[39m DataFrame \u001b[38;5;241m|\u001b[39m \u001b[38;5;28;01mNone\u001b[39;00m:\n\u001b[1;32m   5251\u001b[0m     \u001b[38;5;124;03m\"\"\"\u001b[39;00m\n\u001b[1;32m   5252\u001b[0m \u001b[38;5;124;03m    Drop specified labels from rows or columns.\u001b[39;00m\n\u001b[1;32m   5253\u001b[0m \n\u001b[0;32m   (...)\u001b[0m\n\u001b[1;32m   5386\u001b[0m \u001b[38;5;124;03m            weight  1.0     0.8\u001b[39;00m\n\u001b[1;32m   5387\u001b[0m \u001b[38;5;124;03m    \"\"\"\u001b[39;00m\n\u001b[0;32m-> 5388\u001b[0m     \u001b[38;5;28;01mreturn\u001b[39;00m \u001b[38;5;28;43msuper\u001b[39;49m\u001b[43m(\u001b[49m\u001b[43m)\u001b[49m\u001b[38;5;241;43m.\u001b[39;49m\u001b[43mdrop\u001b[49m\u001b[43m(\u001b[49m\n\u001b[1;32m   5389\u001b[0m \u001b[43m        \u001b[49m\u001b[43mlabels\u001b[49m\u001b[38;5;241;43m=\u001b[39;49m\u001b[43mlabels\u001b[49m\u001b[43m,\u001b[49m\n\u001b[1;32m   5390\u001b[0m \u001b[43m        \u001b[49m\u001b[43maxis\u001b[49m\u001b[38;5;241;43m=\u001b[39;49m\u001b[43maxis\u001b[49m\u001b[43m,\u001b[49m\n\u001b[1;32m   5391\u001b[0m \u001b[43m        \u001b[49m\u001b[43mindex\u001b[49m\u001b[38;5;241;43m=\u001b[39;49m\u001b[43mindex\u001b[49m\u001b[43m,\u001b[49m\n\u001b[1;32m   5392\u001b[0m \u001b[43m        \u001b[49m\u001b[43mcolumns\u001b[49m\u001b[38;5;241;43m=\u001b[39;49m\u001b[43mcolumns\u001b[49m\u001b[43m,\u001b[49m\n\u001b[1;32m   5393\u001b[0m \u001b[43m        \u001b[49m\u001b[43mlevel\u001b[49m\u001b[38;5;241;43m=\u001b[39;49m\u001b[43mlevel\u001b[49m\u001b[43m,\u001b[49m\n\u001b[1;32m   5394\u001b[0m \u001b[43m        \u001b[49m\u001b[43minplace\u001b[49m\u001b[38;5;241;43m=\u001b[39;49m\u001b[43minplace\u001b[49m\u001b[43m,\u001b[49m\n\u001b[1;32m   5395\u001b[0m \u001b[43m        \u001b[49m\u001b[43merrors\u001b[49m\u001b[38;5;241;43m=\u001b[39;49m\u001b[43merrors\u001b[49m\u001b[43m,\u001b[49m\n\u001b[1;32m   5396\u001b[0m \u001b[43m    \u001b[49m\u001b[43m)\u001b[49m\n",
      "File \u001b[0;32m/opt/homebrew/lib/python3.9/site-packages/pandas/util/_decorators.py:331\u001b[0m, in \u001b[0;36mdeprecate_nonkeyword_arguments.<locals>.decorate.<locals>.wrapper\u001b[0;34m(*args, **kwargs)\u001b[0m\n\u001b[1;32m    325\u001b[0m \u001b[38;5;28;01mif\u001b[39;00m \u001b[38;5;28mlen\u001b[39m(args) \u001b[38;5;241m>\u001b[39m num_allow_args:\n\u001b[1;32m    326\u001b[0m     warnings\u001b[38;5;241m.\u001b[39mwarn(\n\u001b[1;32m    327\u001b[0m         msg\u001b[38;5;241m.\u001b[39mformat(arguments\u001b[38;5;241m=\u001b[39m_format_argument_list(allow_args)),\n\u001b[1;32m    328\u001b[0m         \u001b[38;5;167;01mFutureWarning\u001b[39;00m,\n\u001b[1;32m    329\u001b[0m         stacklevel\u001b[38;5;241m=\u001b[39mfind_stack_level(),\n\u001b[1;32m    330\u001b[0m     )\n\u001b[0;32m--> 331\u001b[0m \u001b[38;5;28;01mreturn\u001b[39;00m \u001b[43mfunc\u001b[49m\u001b[43m(\u001b[49m\u001b[38;5;241;43m*\u001b[39;49m\u001b[43margs\u001b[49m\u001b[43m,\u001b[49m\u001b[43m \u001b[49m\u001b[38;5;241;43m*\u001b[39;49m\u001b[38;5;241;43m*\u001b[39;49m\u001b[43mkwargs\u001b[49m\u001b[43m)\u001b[49m\n",
      "File \u001b[0;32m/opt/homebrew/lib/python3.9/site-packages/pandas/core/generic.py:4505\u001b[0m, in \u001b[0;36mNDFrame.drop\u001b[0;34m(self, labels, axis, index, columns, level, inplace, errors)\u001b[0m\n\u001b[1;32m   4503\u001b[0m \u001b[38;5;28;01mfor\u001b[39;00m axis, labels \u001b[38;5;129;01min\u001b[39;00m axes\u001b[38;5;241m.\u001b[39mitems():\n\u001b[1;32m   4504\u001b[0m     \u001b[38;5;28;01mif\u001b[39;00m labels \u001b[38;5;129;01mis\u001b[39;00m \u001b[38;5;129;01mnot\u001b[39;00m \u001b[38;5;28;01mNone\u001b[39;00m:\n\u001b[0;32m-> 4505\u001b[0m         obj \u001b[38;5;241m=\u001b[39m \u001b[43mobj\u001b[49m\u001b[38;5;241;43m.\u001b[39;49m\u001b[43m_drop_axis\u001b[49m\u001b[43m(\u001b[49m\u001b[43mlabels\u001b[49m\u001b[43m,\u001b[49m\u001b[43m \u001b[49m\u001b[43maxis\u001b[49m\u001b[43m,\u001b[49m\u001b[43m \u001b[49m\u001b[43mlevel\u001b[49m\u001b[38;5;241;43m=\u001b[39;49m\u001b[43mlevel\u001b[49m\u001b[43m,\u001b[49m\u001b[43m \u001b[49m\u001b[43merrors\u001b[49m\u001b[38;5;241;43m=\u001b[39;49m\u001b[43merrors\u001b[49m\u001b[43m)\u001b[49m\n\u001b[1;32m   4507\u001b[0m \u001b[38;5;28;01mif\u001b[39;00m inplace:\n\u001b[1;32m   4508\u001b[0m     \u001b[38;5;28mself\u001b[39m\u001b[38;5;241m.\u001b[39m_update_inplace(obj)\n",
      "File \u001b[0;32m/opt/homebrew/lib/python3.9/site-packages/pandas/core/generic.py:4546\u001b[0m, in \u001b[0;36mNDFrame._drop_axis\u001b[0;34m(self, labels, axis, level, errors, only_slice)\u001b[0m\n\u001b[1;32m   4544\u001b[0m         new_axis \u001b[38;5;241m=\u001b[39m axis\u001b[38;5;241m.\u001b[39mdrop(labels, level\u001b[38;5;241m=\u001b[39mlevel, errors\u001b[38;5;241m=\u001b[39merrors)\n\u001b[1;32m   4545\u001b[0m     \u001b[38;5;28;01melse\u001b[39;00m:\n\u001b[0;32m-> 4546\u001b[0m         new_axis \u001b[38;5;241m=\u001b[39m \u001b[43maxis\u001b[49m\u001b[38;5;241;43m.\u001b[39;49m\u001b[43mdrop\u001b[49m\u001b[43m(\u001b[49m\u001b[43mlabels\u001b[49m\u001b[43m,\u001b[49m\u001b[43m \u001b[49m\u001b[43merrors\u001b[49m\u001b[38;5;241;43m=\u001b[39;49m\u001b[43merrors\u001b[49m\u001b[43m)\u001b[49m\n\u001b[1;32m   4547\u001b[0m     indexer \u001b[38;5;241m=\u001b[39m axis\u001b[38;5;241m.\u001b[39mget_indexer(new_axis)\n\u001b[1;32m   4549\u001b[0m \u001b[38;5;66;03m# Case for non-unique axis\u001b[39;00m\n\u001b[1;32m   4550\u001b[0m \u001b[38;5;28;01melse\u001b[39;00m:\n",
      "File \u001b[0;32m/opt/homebrew/lib/python3.9/site-packages/pandas/core/indexes/base.py:6975\u001b[0m, in \u001b[0;36mIndex.drop\u001b[0;34m(self, labels, errors)\u001b[0m\n\u001b[1;32m   6973\u001b[0m \u001b[38;5;28;01mif\u001b[39;00m mask\u001b[38;5;241m.\u001b[39many():\n\u001b[1;32m   6974\u001b[0m     \u001b[38;5;28;01mif\u001b[39;00m errors \u001b[38;5;241m!=\u001b[39m \u001b[38;5;124m\"\u001b[39m\u001b[38;5;124mignore\u001b[39m\u001b[38;5;124m\"\u001b[39m:\n\u001b[0;32m-> 6975\u001b[0m         \u001b[38;5;28;01mraise\u001b[39;00m \u001b[38;5;167;01mKeyError\u001b[39;00m(\u001b[38;5;124mf\u001b[39m\u001b[38;5;124m\"\u001b[39m\u001b[38;5;132;01m{\u001b[39;00m\u001b[38;5;28mlist\u001b[39m(labels[mask])\u001b[38;5;132;01m}\u001b[39;00m\u001b[38;5;124m not found in axis\u001b[39m\u001b[38;5;124m\"\u001b[39m)\n\u001b[1;32m   6976\u001b[0m     indexer \u001b[38;5;241m=\u001b[39m indexer[\u001b[38;5;241m~\u001b[39mmask]\n\u001b[1;32m   6977\u001b[0m \u001b[38;5;28;01mreturn\u001b[39;00m \u001b[38;5;28mself\u001b[39m\u001b[38;5;241m.\u001b[39mdelete(indexer)\n",
      "\u001b[0;31mKeyError\u001b[0m: \"['uu_id', 'countyfips', 'tract', 'tract_name', 'edu_8th_or_less', 'edu_grades_9_11', 'edu_hs_grad_equiv', 'edu_post_hs', 'edu_unknown', 'top_category_employer1', 'top_category_employer2', 'top_category_employer3', 'gender_female', 'gender_male', 'gender_na', 'race_amerindian', 'race_asian', 'race_black', 'race_noanswer', 'race_hawaiiannative', 'race_other', 'race_white'] not found in axis\""
     ]
    }
   ],
   "source": [
    "unemployment_data.drop(['uu_id', 'countyfips', 'tract',\n",
    "       'tract_name', 'edu_8th_or_less', 'edu_grades_9_11',\n",
    "       'edu_hs_grad_equiv', 'edu_post_hs', 'edu_unknown',\n",
    "       'top_category_employer1', 'top_category_employer2',\n",
    "       'top_category_employer3', 'gender_female', 'gender_male', 'gender_na',\n",
    "       'race_amerindian', 'race_asian', 'race_black', 'race_noanswer',\n",
    "       'race_hawaiiannative', 'race_other', 'race_white'], axis=1, inplace=True)"
   ]
  },
  {
   "cell_type": "code",
   "execution_count": 38,
   "id": "f03ff81b",
   "metadata": {
    "execution": {
     "iopub.execute_input": "2023-05-10T01:30:14.498218Z",
     "iopub.status.busy": "2023-05-10T01:30:14.498104Z",
     "iopub.status.idle": "2023-05-10T01:30:14.499772Z",
     "shell.execute_reply": "2023-05-10T01:30:14.499532Z"
    }
   },
   "outputs": [],
   "source": [
    "query = \"\"\"\n",
    "SELECT *\n",
    "FROM `ironhacks-data.ironhacks_competition.unemployment_data`\n",
    "WHERE uu_id='e201385d37b5f6eea30f6d6d4106dc6f'\n",
    "\"\"\""
   ]
  },
  {
   "cell_type": "code",
   "execution_count": 39,
   "id": "b84f8870",
   "metadata": {
    "execution": {
     "iopub.execute_input": "2023-05-10T01:30:14.501157Z",
     "iopub.status.busy": "2023-05-10T01:30:14.501072Z",
     "iopub.status.idle": "2023-05-10T01:30:15.587618Z",
     "shell.execute_reply": "2023-05-10T01:30:15.586859Z"
    }
   },
   "outputs": [],
   "source": [
    "query_job = bigquery_client.query(query)\n",
    "unemployment_data = query_job.to_dataframe()"
   ]
  },
  {
   "cell_type": "code",
   "execution_count": 40,
   "id": "62843322",
   "metadata": {
    "execution": {
     "iopub.execute_input": "2023-05-10T01:30:15.595091Z",
     "iopub.status.busy": "2023-05-10T01:30:15.594562Z",
     "iopub.status.idle": "2023-05-10T01:30:15.601547Z",
     "shell.execute_reply": "2023-05-10T01:30:15.600597Z"
    }
   },
   "outputs": [
    {
     "data": {
      "text/plain": [
       "(0, 25)"
      ]
     },
     "execution_count": 40,
     "metadata": {},
     "output_type": "execute_result"
    }
   ],
   "source": [
    "unemployment_data.shape"
   ]
  },
  {
   "cell_type": "code",
   "execution_count": 41,
   "id": "47efcb6a",
   "metadata": {
    "execution": {
     "iopub.execute_input": "2023-05-10T01:30:15.607246Z",
     "iopub.status.busy": "2023-05-10T01:30:15.606792Z",
     "iopub.status.idle": "2023-05-10T01:30:15.619166Z",
     "shell.execute_reply": "2023-05-10T01:30:15.618378Z"
    }
   },
   "outputs": [
    {
     "data": {
      "text/html": [
       "<div>\n",
       "<style scoped>\n",
       "    .dataframe tbody tr th:only-of-type {\n",
       "        vertical-align: middle;\n",
       "    }\n",
       "\n",
       "    .dataframe tbody tr th {\n",
       "        vertical-align: top;\n",
       "    }\n",
       "\n",
       "    .dataframe thead th {\n",
       "        text-align: right;\n",
       "    }\n",
       "</style>\n",
       "<table border=\"1\" class=\"dataframe\">\n",
       "  <thead>\n",
       "    <tr style=\"text-align: right;\">\n",
       "      <th></th>\n",
       "      <th>uu_id</th>\n",
       "      <th>timeperiod</th>\n",
       "      <th>week_number</th>\n",
       "      <th>countyfips</th>\n",
       "      <th>tract</th>\n",
       "      <th>tract_name</th>\n",
       "      <th>total_claims</th>\n",
       "      <th>edu_8th_or_less</th>\n",
       "      <th>edu_grades_9_11</th>\n",
       "      <th>edu_hs_grad_equiv</th>\n",
       "      <th>...</th>\n",
       "      <th>gender_female</th>\n",
       "      <th>gender_male</th>\n",
       "      <th>gender_na</th>\n",
       "      <th>race_amerindian</th>\n",
       "      <th>race_asian</th>\n",
       "      <th>race_black</th>\n",
       "      <th>race_noanswer</th>\n",
       "      <th>race_hawaiiannative</th>\n",
       "      <th>race_other</th>\n",
       "      <th>race_white</th>\n",
       "    </tr>\n",
       "  </thead>\n",
       "  <tbody>\n",
       "  </tbody>\n",
       "</table>\n",
       "<p>0 rows × 25 columns</p>\n",
       "</div>"
      ],
      "text/plain": [
       "Empty DataFrame\n",
       "Columns: [uu_id, timeperiod, week_number, countyfips, tract, tract_name, total_claims, edu_8th_or_less, edu_grades_9_11, edu_hs_grad_equiv, edu_post_hs, edu_unknown, top_category_employer1, top_category_employer2, top_category_employer3, gender_female, gender_male, gender_na, race_amerindian, race_asian, race_black, race_noanswer, race_hawaiiannative, race_other, race_white]\n",
       "Index: []\n",
       "\n",
       "[0 rows x 25 columns]"
      ]
     },
     "execution_count": 41,
     "metadata": {},
     "output_type": "execute_result"
    }
   ],
   "source": [
    "unemployment_data.sort_values(['week_number'])"
   ]
  },
  {
   "cell_type": "code",
   "execution_count": 42,
   "id": "0611f0d9",
   "metadata": {
    "execution": {
     "iopub.execute_input": "2023-05-10T01:30:15.622916Z",
     "iopub.status.busy": "2023-05-10T01:30:15.622604Z",
     "iopub.status.idle": "2023-05-10T01:30:15.627016Z",
     "shell.execute_reply": "2023-05-10T01:30:15.626464Z"
    }
   },
   "outputs": [
    {
     "data": {
      "text/plain": [
       "Index(['uu_id', 'timeperiod', 'week_number', 'countyfips', 'tract',\n",
       "       'tract_name', 'total_claims', 'edu_8th_or_less', 'edu_grades_9_11',\n",
       "       'edu_hs_grad_equiv', 'edu_post_hs', 'edu_unknown',\n",
       "       'top_category_employer1', 'top_category_employer2',\n",
       "       'top_category_employer3', 'gender_female', 'gender_male', 'gender_na',\n",
       "       'race_amerindian', 'race_asian', 'race_black', 'race_noanswer',\n",
       "       'race_hawaiiannative', 'race_other', 'race_white'],\n",
       "      dtype='object')"
      ]
     },
     "execution_count": 42,
     "metadata": {},
     "output_type": "execute_result"
    }
   ],
   "source": [
    "unemployment_data.columns"
   ]
  },
  {
   "cell_type": "code",
   "execution_count": 43,
   "id": "24e20ef7",
   "metadata": {
    "execution": {
     "iopub.execute_input": "2023-05-10T01:30:15.629893Z",
     "iopub.status.busy": "2023-05-10T01:30:15.629655Z",
     "iopub.status.idle": "2023-05-10T01:30:15.634108Z",
     "shell.execute_reply": "2023-05-10T01:30:15.633605Z"
    }
   },
   "outputs": [],
   "source": [
    "unemployment_data.drop(['uu_id', 'countyfips', 'tract',\n",
    "       'tract_name', 'edu_8th_or_less', 'edu_grades_9_11',\n",
    "       'edu_hs_grad_equiv', 'edu_post_hs', 'edu_unknown',\n",
    "       'top_category_employer1', 'top_category_employer2',\n",
    "       'top_category_employer3', 'gender_female', 'gender_male', 'gender_na',\n",
    "       'race_amerindian', 'race_asian', 'race_black', 'race_noanswer',\n",
    "       'race_hawaiiannative', 'race_other', 'race_white'], axis=1, inplace=True)"
   ]
  },
  {
   "cell_type": "code",
   "execution_count": 44,
   "id": "b30e0fea",
   "metadata": {
    "execution": {
     "iopub.execute_input": "2023-05-10T01:30:15.636852Z",
     "iopub.status.busy": "2023-05-10T01:30:15.636480Z",
     "iopub.status.idle": "2023-05-10T01:30:15.641201Z",
     "shell.execute_reply": "2023-05-10T01:30:15.640780Z"
    }
   },
   "outputs": [
    {
     "data": {
      "text/html": [
       "<div>\n",
       "<style scoped>\n",
       "    .dataframe tbody tr th:only-of-type {\n",
       "        vertical-align: middle;\n",
       "    }\n",
       "\n",
       "    .dataframe tbody tr th {\n",
       "        vertical-align: top;\n",
       "    }\n",
       "\n",
       "    .dataframe thead th {\n",
       "        text-align: right;\n",
       "    }\n",
       "</style>\n",
       "<table border=\"1\" class=\"dataframe\">\n",
       "  <thead>\n",
       "    <tr style=\"text-align: right;\">\n",
       "      <th></th>\n",
       "      <th>timeperiod</th>\n",
       "      <th>week_number</th>\n",
       "      <th>total_claims</th>\n",
       "    </tr>\n",
       "  </thead>\n",
       "  <tbody>\n",
       "  </tbody>\n",
       "</table>\n",
       "</div>"
      ],
      "text/plain": [
       "Empty DataFrame\n",
       "Columns: [timeperiod, week_number, total_claims]\n",
       "Index: []"
      ]
     },
     "execution_count": 44,
     "metadata": {},
     "output_type": "execute_result"
    }
   ],
   "source": [
    "unemployment_data"
   ]
  },
  {
   "cell_type": "code",
   "execution_count": 45,
   "id": "ae21cd81",
   "metadata": {
    "execution": {
     "iopub.execute_input": "2023-05-10T01:30:15.643375Z",
     "iopub.status.busy": "2023-05-10T01:30:15.643196Z",
     "iopub.status.idle": "2023-05-10T01:30:15.647740Z",
     "shell.execute_reply": "2023-05-10T01:30:15.647311Z"
    }
   },
   "outputs": [
    {
     "data": {
      "text/html": [
       "<div>\n",
       "<style scoped>\n",
       "    .dataframe tbody tr th:only-of-type {\n",
       "        vertical-align: middle;\n",
       "    }\n",
       "\n",
       "    .dataframe tbody tr th {\n",
       "        vertical-align: top;\n",
       "    }\n",
       "\n",
       "    .dataframe thead th {\n",
       "        text-align: right;\n",
       "    }\n",
       "</style>\n",
       "<table border=\"1\" class=\"dataframe\">\n",
       "  <thead>\n",
       "    <tr style=\"text-align: right;\">\n",
       "      <th></th>\n",
       "      <th>timeperiod</th>\n",
       "      <th>week_number</th>\n",
       "      <th>total_claims</th>\n",
       "    </tr>\n",
       "  </thead>\n",
       "  <tbody>\n",
       "  </tbody>\n",
       "</table>\n",
       "</div>"
      ],
      "text/plain": [
       "Empty DataFrame\n",
       "Columns: [timeperiod, week_number, total_claims]\n",
       "Index: []"
      ]
     },
     "execution_count": 45,
     "metadata": {},
     "output_type": "execute_result"
    }
   ],
   "source": [
    "unemployment_data.sort_values(['week_number'])"
   ]
  },
  {
   "cell_type": "code",
   "execution_count": 46,
   "id": "9a605ee3",
   "metadata": {
    "execution": {
     "iopub.execute_input": "2023-05-10T01:30:15.649849Z",
     "iopub.status.busy": "2023-05-10T01:30:15.649673Z",
     "iopub.status.idle": "2023-05-10T01:30:15.654139Z",
     "shell.execute_reply": "2023-05-10T01:30:15.653770Z"
    }
   },
   "outputs": [
    {
     "data": {
      "text/html": [
       "<div>\n",
       "<style scoped>\n",
       "    .dataframe tbody tr th:only-of-type {\n",
       "        vertical-align: middle;\n",
       "    }\n",
       "\n",
       "    .dataframe tbody tr th {\n",
       "        vertical-align: top;\n",
       "    }\n",
       "\n",
       "    .dataframe thead th {\n",
       "        text-align: right;\n",
       "    }\n",
       "</style>\n",
       "<table border=\"1\" class=\"dataframe\">\n",
       "  <thead>\n",
       "    <tr style=\"text-align: right;\">\n",
       "      <th></th>\n",
       "      <th>timeperiod</th>\n",
       "      <th>week_number</th>\n",
       "      <th>total_claims</th>\n",
       "    </tr>\n",
       "  </thead>\n",
       "  <tbody>\n",
       "  </tbody>\n",
       "</table>\n",
       "</div>"
      ],
      "text/plain": [
       "Empty DataFrame\n",
       "Columns: [timeperiod, week_number, total_claims]\n",
       "Index: []"
      ]
     },
     "execution_count": 46,
     "metadata": {},
     "output_type": "execute_result"
    }
   ],
   "source": [
    "unemployment_data.drop_duplicates(inplace=True)\n",
    "unemployment_data.sort_values(['week_number'])"
   ]
  },
  {
   "cell_type": "code",
   "execution_count": 47,
   "id": "82cc8fc9",
   "metadata": {
    "execution": {
     "iopub.execute_input": "2023-05-10T01:30:15.655993Z",
     "iopub.status.busy": "2023-05-10T01:30:15.655852Z",
     "iopub.status.idle": "2023-05-10T01:30:15.664502Z",
     "shell.execute_reply": "2023-05-10T01:30:15.664187Z"
    }
   },
   "outputs": [
    {
     "ename": "NameError",
     "evalue": "name 'm' is not defined",
     "output_type": "error",
     "traceback": [
      "\u001b[0;31m---------------------------------------------------------------------------\u001b[0m",
      "\u001b[0;31mNameError\u001b[0m                                 Traceback (most recent call last)",
      "Cell \u001b[0;32mIn [47], line 1\u001b[0m\n\u001b[0;32m----> 1\u001b[0m future \u001b[38;5;241m=\u001b[39m \u001b[43mm\u001b[49m\u001b[38;5;241m.\u001b[39mmake_future_dataframe(periods\u001b[38;5;241m=\u001b[39m\u001b[38;5;241m35\u001b[39m, freq\u001b[38;5;241m=\u001b[39m\u001b[38;5;124m'\u001b[39m\u001b[38;5;124mW\u001b[39m\u001b[38;5;124m'\u001b[39m)\n",
      "\u001b[0;31mNameError\u001b[0m: name 'm' is not defined"
     ]
    }
   ],
   "source": [
    "future = m.make_future_dataframe(periods=35, freq='W')"
   ]
  },
  {
   "cell_type": "code",
   "execution_count": 48,
   "id": "edc525ba",
   "metadata": {
    "execution": {
     "iopub.execute_input": "2023-05-10T01:30:15.666268Z",
     "iopub.status.busy": "2023-05-10T01:30:15.666122Z",
     "iopub.status.idle": "2023-05-10T01:30:15.673665Z",
     "shell.execute_reply": "2023-05-10T01:30:15.673398Z"
    }
   },
   "outputs": [
    {
     "ename": "NameError",
     "evalue": "name 'm' is not defined",
     "output_type": "error",
     "traceback": [
      "\u001b[0;31m---------------------------------------------------------------------------\u001b[0m",
      "\u001b[0;31mNameError\u001b[0m                                 Traceback (most recent call last)",
      "Cell \u001b[0;32mIn [48], line 1\u001b[0m\n\u001b[0;32m----> 1\u001b[0m forecast \u001b[38;5;241m=\u001b[39m \u001b[43mm\u001b[49m\u001b[38;5;241m.\u001b[39mpredict(df\u001b[38;5;241m=\u001b[39mfuture)\n",
      "\u001b[0;31mNameError\u001b[0m: name 'm' is not defined"
     ]
    }
   ],
   "source": [
    "forecast = m.predict(df=future)"
   ]
  },
  {
   "cell_type": "code",
   "execution_count": 49,
   "id": "5ea45a0e",
   "metadata": {
    "execution": {
     "iopub.execute_input": "2023-05-10T01:30:15.675155Z",
     "iopub.status.busy": "2023-05-10T01:30:15.675037Z",
     "iopub.status.idle": "2023-05-10T01:30:15.681677Z",
     "shell.execute_reply": "2023-05-10T01:30:15.681427Z"
    }
   },
   "outputs": [
    {
     "ename": "NameError",
     "evalue": "name 'forecast' is not defined",
     "output_type": "error",
     "traceback": [
      "\u001b[0;31m---------------------------------------------------------------------------\u001b[0m",
      "\u001b[0;31mNameError\u001b[0m                                 Traceback (most recent call last)",
      "Cell \u001b[0;32mIn [49], line 1\u001b[0m\n\u001b[0;32m----> 1\u001b[0m \u001b[43mforecast\u001b[49m\n",
      "\u001b[0;31mNameError\u001b[0m: name 'forecast' is not defined"
     ]
    }
   ],
   "source": [
    "forecast"
   ]
  },
  {
   "cell_type": "code",
   "execution_count": 50,
   "id": "2ec78ce9",
   "metadata": {
    "execution": {
     "iopub.execute_input": "2023-05-10T01:30:15.683157Z",
     "iopub.status.busy": "2023-05-10T01:30:15.683066Z",
     "iopub.status.idle": "2023-05-10T01:30:15.689539Z",
     "shell.execute_reply": "2023-05-10T01:30:15.689300Z"
    }
   },
   "outputs": [
    {
     "ename": "NameError",
     "evalue": "name 'm' is not defined",
     "output_type": "error",
     "traceback": [
      "\u001b[0;31m---------------------------------------------------------------------------\u001b[0m",
      "\u001b[0;31mNameError\u001b[0m                                 Traceback (most recent call last)",
      "Cell \u001b[0;32mIn [50], line 1\u001b[0m\n\u001b[0;32m----> 1\u001b[0m plot1 \u001b[38;5;241m=\u001b[39m \u001b[43mm\u001b[49m\u001b[38;5;241m.\u001b[39mplot(forecast)\n",
      "\u001b[0;31mNameError\u001b[0m: name 'm' is not defined"
     ]
    }
   ],
   "source": [
    "plot1 = m.plot(forecast)"
   ]
  },
  {
   "cell_type": "code",
   "execution_count": 51,
   "id": "bb55a9de",
   "metadata": {
    "execution": {
     "iopub.execute_input": "2023-05-10T01:30:15.690867Z",
     "iopub.status.busy": "2023-05-10T01:30:15.690786Z",
     "iopub.status.idle": "2023-05-10T01:30:15.697479Z",
     "shell.execute_reply": "2023-05-10T01:30:15.697243Z"
    }
   },
   "outputs": [
    {
     "ename": "NameError",
     "evalue": "name 'Prophet' is not defined",
     "output_type": "error",
     "traceback": [
      "\u001b[0;31m---------------------------------------------------------------------------\u001b[0m",
      "\u001b[0;31mNameError\u001b[0m                                 Traceback (most recent call last)",
      "Cell \u001b[0;32mIn [51], line 1\u001b[0m\n\u001b[0;32m----> 1\u001b[0m m \u001b[38;5;241m=\u001b[39m \u001b[43mProphet\u001b[49m(weekly_seasonality\u001b[38;5;241m=\u001b[39m\u001b[38;5;28;01mFalse\u001b[39;00m,\n\u001b[1;32m      2\u001b[0m         daily_seasonality\u001b[38;5;241m=\u001b[39m\u001b[38;5;28;01mFalse\u001b[39;00m,\n\u001b[1;32m      3\u001b[0m         interval_width\u001b[38;5;241m=\u001b[39m\u001b[38;5;241m0.95\u001b[39m, \n\u001b[1;32m      4\u001b[0m         mcmc_samples \u001b[38;5;241m=\u001b[39m \u001b[38;5;241m500\u001b[39m)\n",
      "\u001b[0;31mNameError\u001b[0m: name 'Prophet' is not defined"
     ]
    }
   ],
   "source": [
    "m = Prophet(weekly_seasonality=False,\n",
    "        daily_seasonality=False,\n",
    "        interval_width=0.95, \n",
    "        mcmc_samples = 500)"
   ]
  },
  {
   "cell_type": "code",
   "execution_count": 52,
   "id": "b97b8e02",
   "metadata": {
    "execution": {
     "iopub.execute_input": "2023-05-10T01:30:15.699033Z",
     "iopub.status.busy": "2023-05-10T01:30:15.698916Z",
     "iopub.status.idle": "2023-05-10T01:30:15.706120Z",
     "shell.execute_reply": "2023-05-10T01:30:15.705874Z"
    }
   },
   "outputs": [
    {
     "ename": "NameError",
     "evalue": "name 'm' is not defined",
     "output_type": "error",
     "traceback": [
      "\u001b[0;31m---------------------------------------------------------------------------\u001b[0m",
      "\u001b[0;31mNameError\u001b[0m                                 Traceback (most recent call last)",
      "Cell \u001b[0;32mIn [52], line 1\u001b[0m\n\u001b[0;32m----> 1\u001b[0m \u001b[43mm\u001b[49m\u001b[38;5;241m.\u001b[39madd_seasonality(\n\u001b[1;32m      2\u001b[0m         name\u001b[38;5;241m=\u001b[39m\u001b[38;5;124m'\u001b[39m\u001b[38;5;124mmonthly\u001b[39m\u001b[38;5;124m'\u001b[39m, \n\u001b[1;32m      3\u001b[0m         period\u001b[38;5;241m=\u001b[39m\u001b[38;5;241m30.5\u001b[39m, \n\u001b[1;32m      4\u001b[0m         fourier_order\u001b[38;5;241m=\u001b[39m\u001b[38;5;241m5\u001b[39m\n\u001b[1;32m      5\u001b[0m     )\n",
      "\u001b[0;31mNameError\u001b[0m: name 'm' is not defined"
     ]
    }
   ],
   "source": [
    "m.add_seasonality(\n",
    "        name='monthly', \n",
    "        period=30.5, \n",
    "        fourier_order=5\n",
    "    )"
   ]
  },
  {
   "cell_type": "code",
   "execution_count": 53,
   "id": "15a85f0d",
   "metadata": {
    "execution": {
     "iopub.execute_input": "2023-05-10T01:30:15.707560Z",
     "iopub.status.busy": "2023-05-10T01:30:15.707479Z",
     "iopub.status.idle": "2023-05-10T01:30:15.713667Z",
     "shell.execute_reply": "2023-05-10T01:30:15.713411Z"
    }
   },
   "outputs": [
    {
     "ename": "NameError",
     "evalue": "name 'm' is not defined",
     "output_type": "error",
     "traceback": [
      "\u001b[0;31m---------------------------------------------------------------------------\u001b[0m",
      "\u001b[0;31mNameError\u001b[0m                                 Traceback (most recent call last)",
      "Cell \u001b[0;32mIn [53], line 1\u001b[0m\n\u001b[0;32m----> 1\u001b[0m \u001b[43mm\u001b[49m\u001b[38;5;241m.\u001b[39mfit(ud_train)\n",
      "\u001b[0;31mNameError\u001b[0m: name 'm' is not defined"
     ]
    }
   ],
   "source": [
    "m.fit(ud_train)"
   ]
  },
  {
   "cell_type": "code",
   "execution_count": 54,
   "id": "d7edacd7",
   "metadata": {
    "execution": {
     "iopub.execute_input": "2023-05-10T01:30:15.715221Z",
     "iopub.status.busy": "2023-05-10T01:30:15.715116Z",
     "iopub.status.idle": "2023-05-10T01:30:15.721658Z",
     "shell.execute_reply": "2023-05-10T01:30:15.721424Z"
    }
   },
   "outputs": [
    {
     "ename": "NameError",
     "evalue": "name 'm' is not defined",
     "output_type": "error",
     "traceback": [
      "\u001b[0;31m---------------------------------------------------------------------------\u001b[0m",
      "\u001b[0;31mNameError\u001b[0m                                 Traceback (most recent call last)",
      "Cell \u001b[0;32mIn [54], line 1\u001b[0m\n\u001b[0;32m----> 1\u001b[0m future \u001b[38;5;241m=\u001b[39m \u001b[43mm\u001b[49m\u001b[38;5;241m.\u001b[39mmake_future_dataframe(periods\u001b[38;5;241m=\u001b[39m\u001b[38;5;241m35\u001b[39m, freq\u001b[38;5;241m=\u001b[39m\u001b[38;5;124m'\u001b[39m\u001b[38;5;124mW\u001b[39m\u001b[38;5;124m'\u001b[39m)\n",
      "\u001b[0;31mNameError\u001b[0m: name 'm' is not defined"
     ]
    }
   ],
   "source": [
    "future = m.make_future_dataframe(periods=35, freq='W')"
   ]
  },
  {
   "cell_type": "code",
   "execution_count": 55,
   "id": "3c0cc1bd",
   "metadata": {
    "execution": {
     "iopub.execute_input": "2023-05-10T01:30:15.723076Z",
     "iopub.status.busy": "2023-05-10T01:30:15.722988Z",
     "iopub.status.idle": "2023-05-10T01:30:15.729397Z",
     "shell.execute_reply": "2023-05-10T01:30:15.729147Z"
    }
   },
   "outputs": [
    {
     "ename": "NameError",
     "evalue": "name 'm' is not defined",
     "output_type": "error",
     "traceback": [
      "\u001b[0;31m---------------------------------------------------------------------------\u001b[0m",
      "\u001b[0;31mNameError\u001b[0m                                 Traceback (most recent call last)",
      "Cell \u001b[0;32mIn [55], line 1\u001b[0m\n\u001b[0;32m----> 1\u001b[0m forecast \u001b[38;5;241m=\u001b[39m \u001b[43mm\u001b[49m\u001b[38;5;241m.\u001b[39mpredict(df\u001b[38;5;241m=\u001b[39mfuture)\n",
      "\u001b[0;31mNameError\u001b[0m: name 'm' is not defined"
     ]
    }
   ],
   "source": [
    "forecast = m.predict(df=future)"
   ]
  },
  {
   "cell_type": "code",
   "execution_count": 56,
   "id": "5b6f43cb",
   "metadata": {
    "execution": {
     "iopub.execute_input": "2023-05-10T01:30:15.730821Z",
     "iopub.status.busy": "2023-05-10T01:30:15.730735Z",
     "iopub.status.idle": "2023-05-10T01:30:15.736939Z",
     "shell.execute_reply": "2023-05-10T01:30:15.736695Z"
    }
   },
   "outputs": [
    {
     "ename": "NameError",
     "evalue": "name 'forecast' is not defined",
     "output_type": "error",
     "traceback": [
      "\u001b[0;31m---------------------------------------------------------------------------\u001b[0m",
      "\u001b[0;31mNameError\u001b[0m                                 Traceback (most recent call last)",
      "Cell \u001b[0;32mIn [56], line 1\u001b[0m\n\u001b[0;32m----> 1\u001b[0m \u001b[43mforecast\u001b[49m\n",
      "\u001b[0;31mNameError\u001b[0m: name 'forecast' is not defined"
     ]
    }
   ],
   "source": [
    "forecast"
   ]
  },
  {
   "cell_type": "code",
   "execution_count": 57,
   "id": "f83fb69e",
   "metadata": {
    "execution": {
     "iopub.execute_input": "2023-05-10T01:30:15.738299Z",
     "iopub.status.busy": "2023-05-10T01:30:15.738217Z",
     "iopub.status.idle": "2023-05-10T01:30:15.744520Z",
     "shell.execute_reply": "2023-05-10T01:30:15.744285Z"
    }
   },
   "outputs": [
    {
     "ename": "NameError",
     "evalue": "name 'm' is not defined",
     "output_type": "error",
     "traceback": [
      "\u001b[0;31m---------------------------------------------------------------------------\u001b[0m",
      "\u001b[0;31mNameError\u001b[0m                                 Traceback (most recent call last)",
      "Cell \u001b[0;32mIn [57], line 1\u001b[0m\n\u001b[0;32m----> 1\u001b[0m plot1 \u001b[38;5;241m=\u001b[39m \u001b[43mm\u001b[49m\u001b[38;5;241m.\u001b[39mplot(forecast)\n",
      "\u001b[0;31mNameError\u001b[0m: name 'm' is not defined"
     ]
    }
   ],
   "source": [
    "plot1 = m.plot(forecast)"
   ]
  },
  {
   "cell_type": "code",
   "execution_count": 58,
   "id": "72ece5a0",
   "metadata": {
    "execution": {
     "iopub.execute_input": "2023-05-10T01:30:15.745884Z",
     "iopub.status.busy": "2023-05-10T01:30:15.745802Z",
     "iopub.status.idle": "2023-05-10T01:30:15.748795Z",
     "shell.execute_reply": "2023-05-10T01:30:15.748478Z"
    }
   },
   "outputs": [
    {
     "data": {
      "text/html": [
       "<div>\n",
       "<style scoped>\n",
       "    .dataframe tbody tr th:only-of-type {\n",
       "        vertical-align: middle;\n",
       "    }\n",
       "\n",
       "    .dataframe tbody tr th {\n",
       "        vertical-align: top;\n",
       "    }\n",
       "\n",
       "    .dataframe thead th {\n",
       "        text-align: right;\n",
       "    }\n",
       "</style>\n",
       "<table border=\"1\" class=\"dataframe\">\n",
       "  <thead>\n",
       "    <tr style=\"text-align: right;\">\n",
       "      <th></th>\n",
       "      <th>ds</th>\n",
       "      <th>y</th>\n",
       "    </tr>\n",
       "  </thead>\n",
       "  <tbody>\n",
       "  </tbody>\n",
       "</table>\n",
       "</div>"
      ],
      "text/plain": [
       "Empty DataFrame\n",
       "Columns: [ds, y]\n",
       "Index: []"
      ]
     },
     "execution_count": 58,
     "metadata": {},
     "output_type": "execute_result"
    }
   ],
   "source": [
    "ud_test"
   ]
  },
  {
   "cell_type": "code",
   "execution_count": 59,
   "id": "e95f398b",
   "metadata": {
    "execution": {
     "iopub.execute_input": "2023-05-10T01:30:15.750224Z",
     "iopub.status.busy": "2023-05-10T01:30:15.750123Z",
     "iopub.status.idle": "2023-05-10T01:30:15.756529Z",
     "shell.execute_reply": "2023-05-10T01:30:15.756291Z"
    }
   },
   "outputs": [
    {
     "ename": "NameError",
     "evalue": "name 'forecast' is not defined",
     "output_type": "error",
     "traceback": [
      "\u001b[0;31m---------------------------------------------------------------------------\u001b[0m",
      "\u001b[0;31mNameError\u001b[0m                                 Traceback (most recent call last)",
      "Cell \u001b[0;32mIn [59], line 1\u001b[0m\n\u001b[0;32m----> 1\u001b[0m \u001b[43mforecast\u001b[49m[\u001b[38;5;124m'\u001b[39m\u001b[38;5;124mds\u001b[39m\u001b[38;5;124m'\u001b[39m]\n",
      "\u001b[0;31mNameError\u001b[0m: name 'forecast' is not defined"
     ]
    }
   ],
   "source": [
    "forecast['ds']"
   ]
  },
  {
   "cell_type": "code",
   "execution_count": 60,
   "id": "9e0cdab6",
   "metadata": {
    "execution": {
     "iopub.execute_input": "2023-05-10T01:30:15.757860Z",
     "iopub.status.busy": "2023-05-10T01:30:15.757781Z",
     "iopub.status.idle": "2023-05-10T01:30:15.759762Z",
     "shell.execute_reply": "2023-05-10T01:30:15.759480Z"
    }
   },
   "outputs": [
    {
     "ename": "SyntaxError",
     "evalue": "unmatched ')' (172832558.py, line 1)",
     "output_type": "error",
     "traceback": [
      "\u001b[0;36m  Cell \u001b[0;32mIn [60], line 1\u001b[0;36m\u001b[0m\n\u001b[0;31m    forecast['ds' == pd.to_datetime('2022-05-14')]).yhat\u001b[0m\n\u001b[0m                                                  ^\u001b[0m\n\u001b[0;31mSyntaxError\u001b[0m\u001b[0;31m:\u001b[0m unmatched ')'\n"
     ]
    }
   ],
   "source": [
    "forecast['ds' == pd.to_datetime('2022-05-14')]).yhat"
   ]
  },
  {
   "cell_type": "code",
   "execution_count": 61,
   "id": "8690fbd3",
   "metadata": {
    "execution": {
     "iopub.execute_input": "2023-05-10T01:30:15.761078Z",
     "iopub.status.busy": "2023-05-10T01:30:15.760999Z",
     "iopub.status.idle": "2023-05-10T01:30:15.762979Z",
     "shell.execute_reply": "2023-05-10T01:30:15.762724Z"
    }
   },
   "outputs": [
    {
     "ename": "SyntaxError",
     "evalue": "unmatched ')' (3281829213.py, line 1)",
     "output_type": "error",
     "traceback": [
      "\u001b[0;36m  Cell \u001b[0;32mIn [61], line 1\u001b[0;36m\u001b[0m\n\u001b[0;31m    forecast['ds' == pd.to_datetime('2022-05-14')])\u001b[0m\n\u001b[0m                                                  ^\u001b[0m\n\u001b[0;31mSyntaxError\u001b[0m\u001b[0;31m:\u001b[0m unmatched ')'\n"
     ]
    }
   ],
   "source": [
    "forecast['ds' == pd.to_datetime('2022-05-14')])"
   ]
  },
  {
   "cell_type": "code",
   "execution_count": 62,
   "id": "fa608b42",
   "metadata": {
    "execution": {
     "iopub.execute_input": "2023-05-10T01:30:15.764359Z",
     "iopub.status.busy": "2023-05-10T01:30:15.764277Z",
     "iopub.status.idle": "2023-05-10T01:30:15.771574Z",
     "shell.execute_reply": "2023-05-10T01:30:15.771325Z"
    }
   },
   "outputs": [
    {
     "ename": "NameError",
     "evalue": "name 'forecast' is not defined",
     "output_type": "error",
     "traceback": [
      "\u001b[0;31m---------------------------------------------------------------------------\u001b[0m",
      "\u001b[0;31mNameError\u001b[0m                                 Traceback (most recent call last)",
      "Cell \u001b[0;32mIn [62], line 1\u001b[0m\n\u001b[0;32m----> 1\u001b[0m \u001b[43mforecast\u001b[49m[\u001b[38;5;124m'\u001b[39m\u001b[38;5;124mds\u001b[39m\u001b[38;5;124m'\u001b[39m \u001b[38;5;241m==\u001b[39m pd\u001b[38;5;241m.\u001b[39mto_datetime(\u001b[38;5;124m'\u001b[39m\u001b[38;5;124m2022-05-14\u001b[39m\u001b[38;5;124m'\u001b[39m)]\u001b[38;5;241m.\u001b[39myhat\n",
      "\u001b[0;31mNameError\u001b[0m: name 'forecast' is not defined"
     ]
    }
   ],
   "source": [
    "forecast['ds' == pd.to_datetime('2022-05-14')].yhat"
   ]
  },
  {
   "cell_type": "code",
   "execution_count": 63,
   "id": "8141d817",
   "metadata": {
    "execution": {
     "iopub.execute_input": "2023-05-10T01:30:15.773011Z",
     "iopub.status.busy": "2023-05-10T01:30:15.772901Z",
     "iopub.status.idle": "2023-05-10T01:30:15.779381Z",
     "shell.execute_reply": "2023-05-10T01:30:15.779136Z"
    }
   },
   "outputs": [
    {
     "ename": "NameError",
     "evalue": "name 'forecast' is not defined",
     "output_type": "error",
     "traceback": [
      "\u001b[0;31m---------------------------------------------------------------------------\u001b[0m",
      "\u001b[0;31mNameError\u001b[0m                                 Traceback (most recent call last)",
      "Cell \u001b[0;32mIn [63], line 1\u001b[0m\n\u001b[0;32m----> 1\u001b[0m \u001b[43mforecast\u001b[49m[\u001b[38;5;124m'\u001b[39m\u001b[38;5;124mds\u001b[39m\u001b[38;5;124m'\u001b[39m \u001b[38;5;241m==\u001b[39m pd\u001b[38;5;241m.\u001b[39mto_datetime(\u001b[38;5;124m'\u001b[39m\u001b[38;5;124m2022-05-14\u001b[39m\u001b[38;5;124m'\u001b[39m)]\n",
      "\u001b[0;31mNameError\u001b[0m: name 'forecast' is not defined"
     ]
    }
   ],
   "source": [
    "forecast['ds' == pd.to_datetime('2022-05-14')]"
   ]
  },
  {
   "cell_type": "code",
   "execution_count": 64,
   "id": "42c12ae9",
   "metadata": {
    "execution": {
     "iopub.execute_input": "2023-05-10T01:30:15.780845Z",
     "iopub.status.busy": "2023-05-10T01:30:15.780765Z",
     "iopub.status.idle": "2023-05-10T01:30:15.787507Z",
     "shell.execute_reply": "2023-05-10T01:30:15.787261Z"
    }
   },
   "outputs": [
    {
     "ename": "NameError",
     "evalue": "name 'Prophet' is not defined",
     "output_type": "error",
     "traceback": [
      "\u001b[0;31m---------------------------------------------------------------------------\u001b[0m",
      "\u001b[0;31mNameError\u001b[0m                                 Traceback (most recent call last)",
      "Cell \u001b[0;32mIn [64], line 1\u001b[0m\n\u001b[0;32m----> 1\u001b[0m m \u001b[38;5;241m=\u001b[39m \u001b[43mProphet\u001b[49m(weekly_seasonality\u001b[38;5;241m=\u001b[39m\u001b[38;5;28;01mFalse\u001b[39;00m,\n\u001b[1;32m      2\u001b[0m         daily_seasonality\u001b[38;5;241m=\u001b[39m\u001b[38;5;28;01mFalse\u001b[39;00m,\n\u001b[1;32m      3\u001b[0m         interval_width\u001b[38;5;241m=\u001b[39m\u001b[38;5;241m0.95\u001b[39m, \n\u001b[1;32m      4\u001b[0m         mcmc_samples \u001b[38;5;241m=\u001b[39m \u001b[38;5;241m500\u001b[39m)\n",
      "\u001b[0;31mNameError\u001b[0m: name 'Prophet' is not defined"
     ]
    }
   ],
   "source": [
    "m = Prophet(weekly_seasonality=False,\n",
    "        daily_seasonality=False,\n",
    "        interval_width=0.95, \n",
    "        mcmc_samples = 500)"
   ]
  },
  {
   "cell_type": "markdown",
   "id": "e235a33a",
   "metadata": {},
   "source": [
    "m.add_seasonality(\n",
    "        name='monthly', \n",
    "        period=30.5, \n",
    "        fourier_order=5\n",
    "    )"
   ]
  },
  {
   "cell_type": "code",
   "execution_count": 65,
   "id": "2ca43f59",
   "metadata": {
    "execution": {
     "iopub.execute_input": "2023-05-10T01:30:15.788900Z",
     "iopub.status.busy": "2023-05-10T01:30:15.788818Z",
     "iopub.status.idle": "2023-05-10T01:30:15.794986Z",
     "shell.execute_reply": "2023-05-10T01:30:15.794747Z"
    }
   },
   "outputs": [
    {
     "ename": "NameError",
     "evalue": "name 'm' is not defined",
     "output_type": "error",
     "traceback": [
      "\u001b[0;31m---------------------------------------------------------------------------\u001b[0m",
      "\u001b[0;31mNameError\u001b[0m                                 Traceback (most recent call last)",
      "Cell \u001b[0;32mIn [65], line 1\u001b[0m\n\u001b[0;32m----> 1\u001b[0m \u001b[43mm\u001b[49m\u001b[38;5;241m.\u001b[39mfit(ud_train)\n",
      "\u001b[0;31mNameError\u001b[0m: name 'm' is not defined"
     ]
    }
   ],
   "source": [
    "m.fit(ud_train)"
   ]
  },
  {
   "cell_type": "code",
   "execution_count": 66,
   "id": "169a5f7f",
   "metadata": {
    "execution": {
     "iopub.execute_input": "2023-05-10T01:30:15.796403Z",
     "iopub.status.busy": "2023-05-10T01:30:15.796319Z",
     "iopub.status.idle": "2023-05-10T01:30:15.803059Z",
     "shell.execute_reply": "2023-05-10T01:30:15.802810Z"
    }
   },
   "outputs": [
    {
     "ename": "NameError",
     "evalue": "name 'm' is not defined",
     "output_type": "error",
     "traceback": [
      "\u001b[0;31m---------------------------------------------------------------------------\u001b[0m",
      "\u001b[0;31mNameError\u001b[0m                                 Traceback (most recent call last)",
      "Cell \u001b[0;32mIn [66], line 1\u001b[0m\n\u001b[0;32m----> 1\u001b[0m future \u001b[38;5;241m=\u001b[39m \u001b[43mm\u001b[49m\u001b[38;5;241m.\u001b[39mmake_future_dataframe(periods\u001b[38;5;241m=\u001b[39m\u001b[38;5;241m35\u001b[39m, freq\u001b[38;5;241m=\u001b[39m\u001b[38;5;124m'\u001b[39m\u001b[38;5;124mW\u001b[39m\u001b[38;5;124m'\u001b[39m)\n",
      "\u001b[0;31mNameError\u001b[0m: name 'm' is not defined"
     ]
    }
   ],
   "source": [
    "future = m.make_future_dataframe(periods=35, freq='W')"
   ]
  },
  {
   "cell_type": "code",
   "execution_count": 67,
   "id": "0ea3293e",
   "metadata": {
    "execution": {
     "iopub.execute_input": "2023-05-10T01:30:15.804520Z",
     "iopub.status.busy": "2023-05-10T01:30:15.804413Z",
     "iopub.status.idle": "2023-05-10T01:30:15.810684Z",
     "shell.execute_reply": "2023-05-10T01:30:15.810457Z"
    }
   },
   "outputs": [
    {
     "ename": "NameError",
     "evalue": "name 'm' is not defined",
     "output_type": "error",
     "traceback": [
      "\u001b[0;31m---------------------------------------------------------------------------\u001b[0m",
      "\u001b[0;31mNameError\u001b[0m                                 Traceback (most recent call last)",
      "Cell \u001b[0;32mIn [67], line 1\u001b[0m\n\u001b[0;32m----> 1\u001b[0m forecast \u001b[38;5;241m=\u001b[39m \u001b[43mm\u001b[49m\u001b[38;5;241m.\u001b[39mpredict(df\u001b[38;5;241m=\u001b[39mfuture)\n",
      "\u001b[0;31mNameError\u001b[0m: name 'm' is not defined"
     ]
    }
   ],
   "source": [
    "forecast = m.predict(df=future)"
   ]
  },
  {
   "cell_type": "code",
   "execution_count": 68,
   "id": "e4b7d68f",
   "metadata": {
    "execution": {
     "iopub.execute_input": "2023-05-10T01:30:15.812092Z",
     "iopub.status.busy": "2023-05-10T01:30:15.812011Z",
     "iopub.status.idle": "2023-05-10T01:30:15.818471Z",
     "shell.execute_reply": "2023-05-10T01:30:15.818232Z"
    }
   },
   "outputs": [
    {
     "ename": "NameError",
     "evalue": "name 'm' is not defined",
     "output_type": "error",
     "traceback": [
      "\u001b[0;31m---------------------------------------------------------------------------\u001b[0m",
      "\u001b[0;31mNameError\u001b[0m                                 Traceback (most recent call last)",
      "Cell \u001b[0;32mIn [68], line 1\u001b[0m\n\u001b[0;32m----> 1\u001b[0m future \u001b[38;5;241m=\u001b[39m \u001b[43mm\u001b[49m\u001b[38;5;241m.\u001b[39mmake_future_dataframe(periods\u001b[38;5;241m=\u001b[39m\u001b[38;5;241m35\u001b[39m, freq\u001b[38;5;241m=\u001b[39m\u001b[38;5;124m'\u001b[39m\u001b[38;5;124mW\u001b[39m\u001b[38;5;124m'\u001b[39m)\n",
      "\u001b[0;31mNameError\u001b[0m: name 'm' is not defined"
     ]
    }
   ],
   "source": [
    "future = m.make_future_dataframe(periods=35, freq='W')"
   ]
  },
  {
   "cell_type": "code",
   "execution_count": 69,
   "id": "61acb644",
   "metadata": {
    "execution": {
     "iopub.execute_input": "2023-05-10T01:30:15.819845Z",
     "iopub.status.busy": "2023-05-10T01:30:15.819764Z",
     "iopub.status.idle": "2023-05-10T01:30:15.825974Z",
     "shell.execute_reply": "2023-05-10T01:30:15.825756Z"
    }
   },
   "outputs": [
    {
     "ename": "NameError",
     "evalue": "name 'm' is not defined",
     "output_type": "error",
     "traceback": [
      "\u001b[0;31m---------------------------------------------------------------------------\u001b[0m",
      "\u001b[0;31mNameError\u001b[0m                                 Traceback (most recent call last)",
      "Cell \u001b[0;32mIn [69], line 1\u001b[0m\n\u001b[0;32m----> 1\u001b[0m forecast \u001b[38;5;241m=\u001b[39m \u001b[43mm\u001b[49m\u001b[38;5;241m.\u001b[39mpredict(df\u001b[38;5;241m=\u001b[39mfuture)\n",
      "\u001b[0;31mNameError\u001b[0m: name 'm' is not defined"
     ]
    }
   ],
   "source": [
    "forecast = m.predict(df=future)"
   ]
  },
  {
   "cell_type": "code",
   "execution_count": 70,
   "id": "e777e33e",
   "metadata": {
    "execution": {
     "iopub.execute_input": "2023-05-10T01:30:15.827310Z",
     "iopub.status.busy": "2023-05-10T01:30:15.827233Z",
     "iopub.status.idle": "2023-05-10T01:30:15.828814Z",
     "shell.execute_reply": "2023-05-10T01:30:15.828594Z"
    }
   },
   "outputs": [],
   "source": [
    "ud = unemployment_data"
   ]
  },
  {
   "cell_type": "code",
   "execution_count": 71,
   "id": "68b9f836",
   "metadata": {
    "execution": {
     "iopub.execute_input": "2023-05-10T01:30:15.830187Z",
     "iopub.status.busy": "2023-05-10T01:30:15.830107Z",
     "iopub.status.idle": "2023-05-10T01:30:15.897990Z",
     "shell.execute_reply": "2023-05-10T01:30:15.897690Z"
    }
   },
   "outputs": [
    {
     "ename": "KeyError",
     "evalue": "'ds'",
     "output_type": "error",
     "traceback": [
      "\u001b[0;31m---------------------------------------------------------------------------\u001b[0m",
      "\u001b[0;31mKeyError\u001b[0m                                  Traceback (most recent call last)",
      "File \u001b[0;32m/opt/homebrew/lib/python3.9/site-packages/pandas/core/indexes/base.py:3803\u001b[0m, in \u001b[0;36mIndex.get_loc\u001b[0;34m(self, key, method, tolerance)\u001b[0m\n\u001b[1;32m   3802\u001b[0m \u001b[38;5;28;01mtry\u001b[39;00m:\n\u001b[0;32m-> 3803\u001b[0m     \u001b[38;5;28;01mreturn\u001b[39;00m \u001b[38;5;28;43mself\u001b[39;49m\u001b[38;5;241;43m.\u001b[39;49m\u001b[43m_engine\u001b[49m\u001b[38;5;241;43m.\u001b[39;49m\u001b[43mget_loc\u001b[49m\u001b[43m(\u001b[49m\u001b[43mcasted_key\u001b[49m\u001b[43m)\u001b[49m\n\u001b[1;32m   3804\u001b[0m \u001b[38;5;28;01mexcept\u001b[39;00m \u001b[38;5;167;01mKeyError\u001b[39;00m \u001b[38;5;28;01mas\u001b[39;00m err:\n",
      "File \u001b[0;32m/opt/homebrew/lib/python3.9/site-packages/pandas/_libs/index.pyx:138\u001b[0m, in \u001b[0;36mpandas._libs.index.IndexEngine.get_loc\u001b[0;34m()\u001b[0m\n",
      "File \u001b[0;32m/opt/homebrew/lib/python3.9/site-packages/pandas/_libs/index.pyx:165\u001b[0m, in \u001b[0;36mpandas._libs.index.IndexEngine.get_loc\u001b[0;34m()\u001b[0m\n",
      "File \u001b[0;32mpandas/_libs/hashtable_class_helper.pxi:5745\u001b[0m, in \u001b[0;36mpandas._libs.hashtable.PyObjectHashTable.get_item\u001b[0;34m()\u001b[0m\n",
      "File \u001b[0;32mpandas/_libs/hashtable_class_helper.pxi:5753\u001b[0m, in \u001b[0;36mpandas._libs.hashtable.PyObjectHashTable.get_item\u001b[0;34m()\u001b[0m\n",
      "\u001b[0;31mKeyError\u001b[0m: 'ds'",
      "\nThe above exception was the direct cause of the following exception:\n",
      "\u001b[0;31mKeyError\u001b[0m                                  Traceback (most recent call last)",
      "Cell \u001b[0;32mIn [71], line 2\u001b[0m\n\u001b[1;32m      1\u001b[0m threshold_date \u001b[38;5;241m=\u001b[39m pd\u001b[38;5;241m.\u001b[39mto_datetime(\u001b[38;5;124m'\u001b[39m\u001b[38;5;124m2022-05-14\u001b[39m\u001b[38;5;124m'\u001b[39m)\n\u001b[0;32m----> 2\u001b[0m mask \u001b[38;5;241m=\u001b[39m \u001b[43mud\u001b[49m\u001b[43m[\u001b[49m\u001b[38;5;124;43m'\u001b[39;49m\u001b[38;5;124;43mds\u001b[39;49m\u001b[38;5;124;43m'\u001b[39;49m\u001b[43m]\u001b[49m \u001b[38;5;241m<\u001b[39m threshold_date\n",
      "File \u001b[0;32m/opt/homebrew/lib/python3.9/site-packages/pandas/core/frame.py:3804\u001b[0m, in \u001b[0;36mDataFrame.__getitem__\u001b[0;34m(self, key)\u001b[0m\n\u001b[1;32m   3802\u001b[0m \u001b[38;5;28;01mif\u001b[39;00m \u001b[38;5;28mself\u001b[39m\u001b[38;5;241m.\u001b[39mcolumns\u001b[38;5;241m.\u001b[39mnlevels \u001b[38;5;241m>\u001b[39m \u001b[38;5;241m1\u001b[39m:\n\u001b[1;32m   3803\u001b[0m     \u001b[38;5;28;01mreturn\u001b[39;00m \u001b[38;5;28mself\u001b[39m\u001b[38;5;241m.\u001b[39m_getitem_multilevel(key)\n\u001b[0;32m-> 3804\u001b[0m indexer \u001b[38;5;241m=\u001b[39m \u001b[38;5;28;43mself\u001b[39;49m\u001b[38;5;241;43m.\u001b[39;49m\u001b[43mcolumns\u001b[49m\u001b[38;5;241;43m.\u001b[39;49m\u001b[43mget_loc\u001b[49m\u001b[43m(\u001b[49m\u001b[43mkey\u001b[49m\u001b[43m)\u001b[49m\n\u001b[1;32m   3805\u001b[0m \u001b[38;5;28;01mif\u001b[39;00m is_integer(indexer):\n\u001b[1;32m   3806\u001b[0m     indexer \u001b[38;5;241m=\u001b[39m [indexer]\n",
      "File \u001b[0;32m/opt/homebrew/lib/python3.9/site-packages/pandas/core/indexes/base.py:3805\u001b[0m, in \u001b[0;36mIndex.get_loc\u001b[0;34m(self, key, method, tolerance)\u001b[0m\n\u001b[1;32m   3803\u001b[0m     \u001b[38;5;28;01mreturn\u001b[39;00m \u001b[38;5;28mself\u001b[39m\u001b[38;5;241m.\u001b[39m_engine\u001b[38;5;241m.\u001b[39mget_loc(casted_key)\n\u001b[1;32m   3804\u001b[0m \u001b[38;5;28;01mexcept\u001b[39;00m \u001b[38;5;167;01mKeyError\u001b[39;00m \u001b[38;5;28;01mas\u001b[39;00m err:\n\u001b[0;32m-> 3805\u001b[0m     \u001b[38;5;28;01mraise\u001b[39;00m \u001b[38;5;167;01mKeyError\u001b[39;00m(key) \u001b[38;5;28;01mfrom\u001b[39;00m \u001b[38;5;21;01merr\u001b[39;00m\n\u001b[1;32m   3806\u001b[0m \u001b[38;5;28;01mexcept\u001b[39;00m \u001b[38;5;167;01mTypeError\u001b[39;00m:\n\u001b[1;32m   3807\u001b[0m     \u001b[38;5;66;03m# If we have a listlike key, _check_indexing_error will raise\u001b[39;00m\n\u001b[1;32m   3808\u001b[0m     \u001b[38;5;66;03m#  InvalidIndexError. Otherwise we fall through and re-raise\u001b[39;00m\n\u001b[1;32m   3809\u001b[0m     \u001b[38;5;66;03m#  the TypeError.\u001b[39;00m\n\u001b[1;32m   3810\u001b[0m     \u001b[38;5;28mself\u001b[39m\u001b[38;5;241m.\u001b[39m_check_indexing_error(key)\n",
      "\u001b[0;31mKeyError\u001b[0m: 'ds'"
     ]
    }
   ],
   "source": [
    "threshold_date = pd.to_datetime('2022-05-14')\n",
    "mask = ud['ds'] < threshold_date"
   ]
  },
  {
   "cell_type": "code",
   "execution_count": 72,
   "id": "a5030553",
   "metadata": {
    "execution": {
     "iopub.execute_input": "2023-05-10T01:30:15.899447Z",
     "iopub.status.busy": "2023-05-10T01:30:15.899360Z",
     "iopub.status.idle": "2023-05-10T01:30:15.962493Z",
     "shell.execute_reply": "2023-05-10T01:30:15.962209Z"
    }
   },
   "outputs": [
    {
     "ename": "KeyError",
     "evalue": "\"None of [Index(['ds', 'y'], dtype='object')] are in the [columns]\"",
     "output_type": "error",
     "traceback": [
      "\u001b[0;31m---------------------------------------------------------------------------\u001b[0m",
      "\u001b[0;31mKeyError\u001b[0m                                  Traceback (most recent call last)",
      "Cell \u001b[0;32mIn [72], line 2\u001b[0m\n\u001b[1;32m      1\u001b[0m \u001b[38;5;66;03m# Split the data and select `ds` and `y` columns.\u001b[39;00m\n\u001b[0;32m----> 2\u001b[0m ud_train \u001b[38;5;241m=\u001b[39m \u001b[43mud\u001b[49m\u001b[43m[\u001b[49m\u001b[43mmask\u001b[49m\u001b[43m]\u001b[49m\u001b[43m[\u001b[49m\u001b[43m[\u001b[49m\u001b[38;5;124;43m'\u001b[39;49m\u001b[38;5;124;43mds\u001b[39;49m\u001b[38;5;124;43m'\u001b[39;49m\u001b[43m,\u001b[49m\u001b[43m \u001b[49m\u001b[38;5;124;43m'\u001b[39;49m\u001b[38;5;124;43my\u001b[39;49m\u001b[38;5;124;43m'\u001b[39;49m\u001b[43m]\u001b[49m\u001b[43m]\u001b[49m\n\u001b[1;32m      3\u001b[0m ud_test \u001b[38;5;241m=\u001b[39m ud[\u001b[38;5;241m~\u001b[39mmask][[\u001b[38;5;124m'\u001b[39m\u001b[38;5;124mds\u001b[39m\u001b[38;5;124m'\u001b[39m, \u001b[38;5;124m'\u001b[39m\u001b[38;5;124my\u001b[39m\u001b[38;5;124m'\u001b[39m]]\n",
      "File \u001b[0;32m/opt/homebrew/lib/python3.9/site-packages/pandas/core/frame.py:3810\u001b[0m, in \u001b[0;36mDataFrame.__getitem__\u001b[0;34m(self, key)\u001b[0m\n\u001b[1;32m   3808\u001b[0m     \u001b[38;5;28;01mif\u001b[39;00m is_iterator(key):\n\u001b[1;32m   3809\u001b[0m         key \u001b[38;5;241m=\u001b[39m \u001b[38;5;28mlist\u001b[39m(key)\n\u001b[0;32m-> 3810\u001b[0m     indexer \u001b[38;5;241m=\u001b[39m \u001b[38;5;28;43mself\u001b[39;49m\u001b[38;5;241;43m.\u001b[39;49m\u001b[43mcolumns\u001b[49m\u001b[38;5;241;43m.\u001b[39;49m\u001b[43m_get_indexer_strict\u001b[49m\u001b[43m(\u001b[49m\u001b[43mkey\u001b[49m\u001b[43m,\u001b[49m\u001b[43m \u001b[49m\u001b[38;5;124;43m\"\u001b[39;49m\u001b[38;5;124;43mcolumns\u001b[39;49m\u001b[38;5;124;43m\"\u001b[39;49m\u001b[43m)\u001b[49m[\u001b[38;5;241m1\u001b[39m]\n\u001b[1;32m   3812\u001b[0m \u001b[38;5;66;03m# take() does not accept boolean indexers\u001b[39;00m\n\u001b[1;32m   3813\u001b[0m \u001b[38;5;28;01mif\u001b[39;00m \u001b[38;5;28mgetattr\u001b[39m(indexer, \u001b[38;5;124m\"\u001b[39m\u001b[38;5;124mdtype\u001b[39m\u001b[38;5;124m\"\u001b[39m, \u001b[38;5;28;01mNone\u001b[39;00m) \u001b[38;5;241m==\u001b[39m \u001b[38;5;28mbool\u001b[39m:\n",
      "File \u001b[0;32m/opt/homebrew/lib/python3.9/site-packages/pandas/core/indexes/base.py:6111\u001b[0m, in \u001b[0;36mIndex._get_indexer_strict\u001b[0;34m(self, key, axis_name)\u001b[0m\n\u001b[1;32m   6108\u001b[0m \u001b[38;5;28;01melse\u001b[39;00m:\n\u001b[1;32m   6109\u001b[0m     keyarr, indexer, new_indexer \u001b[38;5;241m=\u001b[39m \u001b[38;5;28mself\u001b[39m\u001b[38;5;241m.\u001b[39m_reindex_non_unique(keyarr)\n\u001b[0;32m-> 6111\u001b[0m \u001b[38;5;28;43mself\u001b[39;49m\u001b[38;5;241;43m.\u001b[39;49m\u001b[43m_raise_if_missing\u001b[49m\u001b[43m(\u001b[49m\u001b[43mkeyarr\u001b[49m\u001b[43m,\u001b[49m\u001b[43m \u001b[49m\u001b[43mindexer\u001b[49m\u001b[43m,\u001b[49m\u001b[43m \u001b[49m\u001b[43maxis_name\u001b[49m\u001b[43m)\u001b[49m\n\u001b[1;32m   6113\u001b[0m keyarr \u001b[38;5;241m=\u001b[39m \u001b[38;5;28mself\u001b[39m\u001b[38;5;241m.\u001b[39mtake(indexer)\n\u001b[1;32m   6114\u001b[0m \u001b[38;5;28;01mif\u001b[39;00m \u001b[38;5;28misinstance\u001b[39m(key, Index):\n\u001b[1;32m   6115\u001b[0m     \u001b[38;5;66;03m# GH 42790 - Preserve name from an Index\u001b[39;00m\n",
      "File \u001b[0;32m/opt/homebrew/lib/python3.9/site-packages/pandas/core/indexes/base.py:6171\u001b[0m, in \u001b[0;36mIndex._raise_if_missing\u001b[0;34m(self, key, indexer, axis_name)\u001b[0m\n\u001b[1;32m   6169\u001b[0m     \u001b[38;5;28;01mif\u001b[39;00m use_interval_msg:\n\u001b[1;32m   6170\u001b[0m         key \u001b[38;5;241m=\u001b[39m \u001b[38;5;28mlist\u001b[39m(key)\n\u001b[0;32m-> 6171\u001b[0m     \u001b[38;5;28;01mraise\u001b[39;00m \u001b[38;5;167;01mKeyError\u001b[39;00m(\u001b[38;5;124mf\u001b[39m\u001b[38;5;124m\"\u001b[39m\u001b[38;5;124mNone of [\u001b[39m\u001b[38;5;132;01m{\u001b[39;00mkey\u001b[38;5;132;01m}\u001b[39;00m\u001b[38;5;124m] are in the [\u001b[39m\u001b[38;5;132;01m{\u001b[39;00maxis_name\u001b[38;5;132;01m}\u001b[39;00m\u001b[38;5;124m]\u001b[39m\u001b[38;5;124m\"\u001b[39m)\n\u001b[1;32m   6173\u001b[0m not_found \u001b[38;5;241m=\u001b[39m \u001b[38;5;28mlist\u001b[39m(ensure_index(key)[missing_mask\u001b[38;5;241m.\u001b[39mnonzero()[\u001b[38;5;241m0\u001b[39m]]\u001b[38;5;241m.\u001b[39munique())\n\u001b[1;32m   6174\u001b[0m \u001b[38;5;28;01mraise\u001b[39;00m \u001b[38;5;167;01mKeyError\u001b[39;00m(\u001b[38;5;124mf\u001b[39m\u001b[38;5;124m\"\u001b[39m\u001b[38;5;132;01m{\u001b[39;00mnot_found\u001b[38;5;132;01m}\u001b[39;00m\u001b[38;5;124m not in index\u001b[39m\u001b[38;5;124m\"\u001b[39m)\n",
      "\u001b[0;31mKeyError\u001b[0m: \"None of [Index(['ds', 'y'], dtype='object')] are in the [columns]\""
     ]
    }
   ],
   "source": [
    "# Split the data and select `ds` and `y` columns.\n",
    "ud_train = ud[mask][['ds', 'y']]\n",
    "ud_test = ud[~mask][['ds', 'y']]"
   ]
  },
  {
   "cell_type": "code",
   "execution_count": 73,
   "id": "a24c4672",
   "metadata": {
    "execution": {
     "iopub.execute_input": "2023-05-10T01:30:15.964163Z",
     "iopub.status.busy": "2023-05-10T01:30:15.964054Z",
     "iopub.status.idle": "2023-05-10T01:30:15.965686Z",
     "shell.execute_reply": "2023-05-10T01:30:15.965436Z"
    }
   },
   "outputs": [],
   "source": [
    "query = \"\"\"\n",
    "SELECT *\n",
    "FROM `ironhacks-data.ironhacks_competition.unemployment_data`\n",
    "WHERE uu_id='e201385d37b5f6eea30f6d6d4106dc6f'\n",
    "\"\"\""
   ]
  },
  {
   "cell_type": "code",
   "execution_count": 74,
   "id": "9f4a58ca",
   "metadata": {
    "execution": {
     "iopub.execute_input": "2023-05-10T01:30:15.967110Z",
     "iopub.status.busy": "2023-05-10T01:30:15.967029Z",
     "iopub.status.idle": "2023-05-10T01:30:17.037680Z",
     "shell.execute_reply": "2023-05-10T01:30:17.036807Z"
    }
   },
   "outputs": [],
   "source": [
    "query_job = bigquery_client.query(query)\n",
    "unemployment_data = query_job.to_dataframe()"
   ]
  },
  {
   "cell_type": "code",
   "execution_count": 75,
   "id": "a9537de0",
   "metadata": {
    "execution": {
     "iopub.execute_input": "2023-05-10T01:30:17.042653Z",
     "iopub.status.busy": "2023-05-10T01:30:17.042204Z",
     "iopub.status.idle": "2023-05-10T01:30:17.050087Z",
     "shell.execute_reply": "2023-05-10T01:30:17.048811Z"
    }
   },
   "outputs": [],
   "source": [
    "unemployment_data.drop(['uu_id', 'countyfips', 'tract',\n",
    "       'tract_name', 'edu_8th_or_less', 'edu_grades_9_11',\n",
    "       'edu_hs_grad_equiv', 'edu_post_hs', 'edu_unknown',\n",
    "       'top_category_employer1', 'top_category_employer2',\n",
    "       'top_category_employer3', 'gender_female', 'gender_male', 'gender_na',\n",
    "       'race_amerindian', 'race_asian', 'race_black', 'race_noanswer',\n",
    "       'race_hawaiiannative', 'race_other', 'race_white'], axis=1, inplace=True)"
   ]
  },
  {
   "cell_type": "code",
   "execution_count": 76,
   "id": "3385d43a",
   "metadata": {
    "execution": {
     "iopub.execute_input": "2023-05-10T01:30:17.054046Z",
     "iopub.status.busy": "2023-05-10T01:30:17.053622Z",
     "iopub.status.idle": "2023-05-10T01:30:17.064200Z",
     "shell.execute_reply": "2023-05-10T01:30:17.063153Z"
    }
   },
   "outputs": [
    {
     "data": {
      "text/html": [
       "<div>\n",
       "<style scoped>\n",
       "    .dataframe tbody tr th:only-of-type {\n",
       "        vertical-align: middle;\n",
       "    }\n",
       "\n",
       "    .dataframe tbody tr th {\n",
       "        vertical-align: top;\n",
       "    }\n",
       "\n",
       "    .dataframe thead th {\n",
       "        text-align: right;\n",
       "    }\n",
       "</style>\n",
       "<table border=\"1\" class=\"dataframe\">\n",
       "  <thead>\n",
       "    <tr style=\"text-align: right;\">\n",
       "      <th></th>\n",
       "      <th>timeperiod</th>\n",
       "      <th>week_number</th>\n",
       "      <th>total_claims</th>\n",
       "    </tr>\n",
       "  </thead>\n",
       "  <tbody>\n",
       "  </tbody>\n",
       "</table>\n",
       "</div>"
      ],
      "text/plain": [
       "Empty DataFrame\n",
       "Columns: [timeperiod, week_number, total_claims]\n",
       "Index: []"
      ]
     },
     "execution_count": 76,
     "metadata": {},
     "output_type": "execute_result"
    }
   ],
   "source": [
    "unemployment_data.drop_duplicates(inplace=True)\n",
    "unemployment_data.sort_values(['week_number'])"
   ]
  },
  {
   "cell_type": "code",
   "execution_count": 77,
   "id": "64b87f7b",
   "metadata": {
    "execution": {
     "iopub.execute_input": "2023-05-10T01:30:17.068509Z",
     "iopub.status.busy": "2023-05-10T01:30:17.068160Z",
     "iopub.status.idle": "2023-05-10T01:30:17.074363Z",
     "shell.execute_reply": "2023-05-10T01:30:17.073732Z"
    }
   },
   "outputs": [],
   "source": [
    "unemployment_data['year'] = unemployment_data['timeperiod'].apply(lambda x: str(x)[:4])\n",
    "unemployment_data['month'] = unemployment_data['timeperiod'].apply(lambda x: str(x)[4:6])\n",
    "unemployment_data['day'] = unemployment_data['timeperiod'].apply(lambda x: str(x)[6:])"
   ]
  },
  {
   "cell_type": "code",
   "execution_count": 78,
   "id": "0256e86f",
   "metadata": {
    "execution": {
     "iopub.execute_input": "2023-05-10T01:30:17.077276Z",
     "iopub.status.busy": "2023-05-10T01:30:17.077024Z",
     "iopub.status.idle": "2023-05-10T01:30:17.081664Z",
     "shell.execute_reply": "2023-05-10T01:30:17.080902Z"
    }
   },
   "outputs": [],
   "source": [
    "unemployment_data['ds'] = pd.DatetimeIndex(unemployment_data['year'] + '-' + unemployment_data['month'] + '-' + unemployment_data['day'])"
   ]
  },
  {
   "cell_type": "code",
   "execution_count": 79,
   "id": "98be226a",
   "metadata": {
    "execution": {
     "iopub.execute_input": "2023-05-10T01:30:17.084598Z",
     "iopub.status.busy": "2023-05-10T01:30:17.084314Z",
     "iopub.status.idle": "2023-05-10T01:30:17.089693Z",
     "shell.execute_reply": "2023-05-10T01:30:17.089245Z"
    }
   },
   "outputs": [
    {
     "data": {
      "text/html": [
       "<div>\n",
       "<style scoped>\n",
       "    .dataframe tbody tr th:only-of-type {\n",
       "        vertical-align: middle;\n",
       "    }\n",
       "\n",
       "    .dataframe tbody tr th {\n",
       "        vertical-align: top;\n",
       "    }\n",
       "\n",
       "    .dataframe thead th {\n",
       "        text-align: right;\n",
       "    }\n",
       "</style>\n",
       "<table border=\"1\" class=\"dataframe\">\n",
       "  <thead>\n",
       "    <tr style=\"text-align: right;\">\n",
       "      <th></th>\n",
       "      <th>timeperiod</th>\n",
       "      <th>week_number</th>\n",
       "      <th>total_claims</th>\n",
       "      <th>year</th>\n",
       "      <th>month</th>\n",
       "      <th>day</th>\n",
       "      <th>ds</th>\n",
       "    </tr>\n",
       "  </thead>\n",
       "  <tbody>\n",
       "  </tbody>\n",
       "</table>\n",
       "</div>"
      ],
      "text/plain": [
       "Empty DataFrame\n",
       "Columns: [timeperiod, week_number, total_claims, year, month, day, ds]\n",
       "Index: []"
      ]
     },
     "execution_count": 79,
     "metadata": {},
     "output_type": "execute_result"
    }
   ],
   "source": [
    "unemployment_data"
   ]
  },
  {
   "cell_type": "code",
   "execution_count": 80,
   "id": "413569d1",
   "metadata": {
    "execution": {
     "iopub.execute_input": "2023-05-10T01:30:17.091872Z",
     "iopub.status.busy": "2023-05-10T01:30:17.091681Z",
     "iopub.status.idle": "2023-05-10T01:30:17.095054Z",
     "shell.execute_reply": "2023-05-10T01:30:17.094610Z"
    }
   },
   "outputs": [],
   "source": [
    "unemployment_data.drop(['timeperiod', 'year', 'month', 'day', 'week_number'], axis=1, inplace=True)\n",
    "unemployment_data.columns = ['y', 'ds']"
   ]
  },
  {
   "cell_type": "code",
   "execution_count": 81,
   "id": "07ba0974",
   "metadata": {
    "execution": {
     "iopub.execute_input": "2023-05-10T01:30:17.097546Z",
     "iopub.status.busy": "2023-05-10T01:30:17.097381Z",
     "iopub.status.idle": "2023-05-10T01:30:17.101657Z",
     "shell.execute_reply": "2023-05-10T01:30:17.101291Z"
    }
   },
   "outputs": [
    {
     "data": {
      "text/html": [
       "<div>\n",
       "<style scoped>\n",
       "    .dataframe tbody tr th:only-of-type {\n",
       "        vertical-align: middle;\n",
       "    }\n",
       "\n",
       "    .dataframe tbody tr th {\n",
       "        vertical-align: top;\n",
       "    }\n",
       "\n",
       "    .dataframe thead th {\n",
       "        text-align: right;\n",
       "    }\n",
       "</style>\n",
       "<table border=\"1\" class=\"dataframe\">\n",
       "  <thead>\n",
       "    <tr style=\"text-align: right;\">\n",
       "      <th></th>\n",
       "      <th>y</th>\n",
       "      <th>ds</th>\n",
       "    </tr>\n",
       "  </thead>\n",
       "  <tbody>\n",
       "  </tbody>\n",
       "</table>\n",
       "</div>"
      ],
      "text/plain": [
       "Empty DataFrame\n",
       "Columns: [y, ds]\n",
       "Index: []"
      ]
     },
     "execution_count": 81,
     "metadata": {},
     "output_type": "execute_result"
    }
   ],
   "source": [
    "unemployment_data"
   ]
  },
  {
   "cell_type": "code",
   "execution_count": 82,
   "id": "c1456e5f",
   "metadata": {
    "execution": {
     "iopub.execute_input": "2023-05-10T01:30:17.103697Z",
     "iopub.status.busy": "2023-05-10T01:30:17.103544Z",
     "iopub.status.idle": "2023-05-10T01:30:17.105972Z",
     "shell.execute_reply": "2023-05-10T01:30:17.105630Z"
    }
   },
   "outputs": [],
   "source": [
    "unemployment_data.sort_values(['ds'], inplace=True)"
   ]
  },
  {
   "cell_type": "code",
   "execution_count": 83,
   "id": "e71ecf60",
   "metadata": {
    "execution": {
     "iopub.execute_input": "2023-05-10T01:30:17.107756Z",
     "iopub.status.busy": "2023-05-10T01:30:17.107613Z",
     "iopub.status.idle": "2023-05-10T01:30:17.110704Z",
     "shell.execute_reply": "2023-05-10T01:30:17.110410Z"
    }
   },
   "outputs": [
    {
     "data": {
      "text/html": [
       "<div>\n",
       "<style scoped>\n",
       "    .dataframe tbody tr th:only-of-type {\n",
       "        vertical-align: middle;\n",
       "    }\n",
       "\n",
       "    .dataframe tbody tr th {\n",
       "        vertical-align: top;\n",
       "    }\n",
       "\n",
       "    .dataframe thead th {\n",
       "        text-align: right;\n",
       "    }\n",
       "</style>\n",
       "<table border=\"1\" class=\"dataframe\">\n",
       "  <thead>\n",
       "    <tr style=\"text-align: right;\">\n",
       "      <th></th>\n",
       "      <th>y</th>\n",
       "      <th>ds</th>\n",
       "    </tr>\n",
       "  </thead>\n",
       "  <tbody>\n",
       "  </tbody>\n",
       "</table>\n",
       "</div>"
      ],
      "text/plain": [
       "Empty DataFrame\n",
       "Columns: [y, ds]\n",
       "Index: []"
      ]
     },
     "execution_count": 83,
     "metadata": {},
     "output_type": "execute_result"
    }
   ],
   "source": [
    "unemployment_data"
   ]
  },
  {
   "cell_type": "code",
   "execution_count": 84,
   "id": "4af85ddb",
   "metadata": {
    "execution": {
     "iopub.execute_input": "2023-05-10T01:30:17.112608Z",
     "iopub.status.busy": "2023-05-10T01:30:17.112417Z",
     "iopub.status.idle": "2023-05-10T01:30:17.114476Z",
     "shell.execute_reply": "2023-05-10T01:30:17.114148Z"
    }
   },
   "outputs": [],
   "source": [
    "ud = unemployment_data"
   ]
  },
  {
   "cell_type": "code",
   "execution_count": 85,
   "id": "d807dd73",
   "metadata": {
    "execution": {
     "iopub.execute_input": "2023-05-10T01:30:17.116052Z",
     "iopub.status.busy": "2023-05-10T01:30:17.115956Z",
     "iopub.status.idle": "2023-05-10T01:30:17.118177Z",
     "shell.execute_reply": "2023-05-10T01:30:17.117871Z"
    }
   },
   "outputs": [],
   "source": [
    "threshold_date = pd.to_datetime('2022-05-14')\n",
    "mask = ud['ds'] < threshold_date"
   ]
  },
  {
   "cell_type": "code",
   "execution_count": 86,
   "id": "91033269",
   "metadata": {
    "execution": {
     "iopub.execute_input": "2023-05-10T01:30:17.119779Z",
     "iopub.status.busy": "2023-05-10T01:30:17.119672Z",
     "iopub.status.idle": "2023-05-10T01:30:17.122408Z",
     "shell.execute_reply": "2023-05-10T01:30:17.122148Z"
    }
   },
   "outputs": [],
   "source": [
    "# Split the data and select `ds` and `y` columns.\n",
    "ud_train = ud[mask][['ds', 'y']]\n",
    "ud_test = ud[~mask][['ds', 'y']]"
   ]
  },
  {
   "cell_type": "code",
   "execution_count": 87,
   "id": "75ff07af",
   "metadata": {
    "execution": {
     "iopub.execute_input": "2023-05-10T01:30:17.123862Z",
     "iopub.status.busy": "2023-05-10T01:30:17.123771Z",
     "iopub.status.idle": "2023-05-10T01:30:17.130778Z",
     "shell.execute_reply": "2023-05-10T01:30:17.130459Z"
    }
   },
   "outputs": [
    {
     "ename": "NameError",
     "evalue": "name 'm' is not defined",
     "output_type": "error",
     "traceback": [
      "\u001b[0;31m---------------------------------------------------------------------------\u001b[0m",
      "\u001b[0;31mNameError\u001b[0m                                 Traceback (most recent call last)",
      "Cell \u001b[0;32mIn [87], line 1\u001b[0m\n\u001b[0;32m----> 1\u001b[0m \u001b[43mm\u001b[49m\u001b[38;5;241m.\u001b[39mfit(ud_train)\n",
      "\u001b[0;31mNameError\u001b[0m: name 'm' is not defined"
     ]
    }
   ],
   "source": [
    "m.fit(ud_train)"
   ]
  },
  {
   "cell_type": "code",
   "execution_count": 88,
   "id": "ab1bab94",
   "metadata": {
    "execution": {
     "iopub.execute_input": "2023-05-10T01:30:17.132484Z",
     "iopub.status.busy": "2023-05-10T01:30:17.132350Z",
     "iopub.status.idle": "2023-05-10T01:30:17.139039Z",
     "shell.execute_reply": "2023-05-10T01:30:17.138775Z"
    }
   },
   "outputs": [
    {
     "ename": "NameError",
     "evalue": "name 'Prophet' is not defined",
     "output_type": "error",
     "traceback": [
      "\u001b[0;31m---------------------------------------------------------------------------\u001b[0m",
      "\u001b[0;31mNameError\u001b[0m                                 Traceback (most recent call last)",
      "Cell \u001b[0;32mIn [88], line 1\u001b[0m\n\u001b[0;32m----> 1\u001b[0m m \u001b[38;5;241m=\u001b[39m \u001b[43mProphet\u001b[49m(weekly_seasonality\u001b[38;5;241m=\u001b[39m\u001b[38;5;28;01mFalse\u001b[39;00m,\n\u001b[1;32m      2\u001b[0m         daily_seasonality\u001b[38;5;241m=\u001b[39m\u001b[38;5;28;01mFalse\u001b[39;00m,\n\u001b[1;32m      3\u001b[0m         interval_width\u001b[38;5;241m=\u001b[39m\u001b[38;5;241m0.95\u001b[39m, \n\u001b[1;32m      4\u001b[0m         mcmc_samples \u001b[38;5;241m=\u001b[39m \u001b[38;5;241m500\u001b[39m)\n",
      "\u001b[0;31mNameError\u001b[0m: name 'Prophet' is not defined"
     ]
    }
   ],
   "source": [
    "m = Prophet(weekly_seasonality=False,\n",
    "        daily_seasonality=False,\n",
    "        interval_width=0.95, \n",
    "        mcmc_samples = 500)"
   ]
  },
  {
   "cell_type": "markdown",
   "id": "9bcc8022",
   "metadata": {},
   "source": [
    "m.add_seasonality(\n",
    "        name='monthly', \n",
    "        period=30.5, \n",
    "        fourier_order=5\n",
    "    )"
   ]
  },
  {
   "cell_type": "code",
   "execution_count": 89,
   "id": "4fe46d5f",
   "metadata": {
    "execution": {
     "iopub.execute_input": "2023-05-10T01:30:17.140402Z",
     "iopub.status.busy": "2023-05-10T01:30:17.140321Z",
     "iopub.status.idle": "2023-05-10T01:30:17.146577Z",
     "shell.execute_reply": "2023-05-10T01:30:17.146335Z"
    }
   },
   "outputs": [
    {
     "ename": "NameError",
     "evalue": "name 'm' is not defined",
     "output_type": "error",
     "traceback": [
      "\u001b[0;31m---------------------------------------------------------------------------\u001b[0m",
      "\u001b[0;31mNameError\u001b[0m                                 Traceback (most recent call last)",
      "Cell \u001b[0;32mIn [89], line 1\u001b[0m\n\u001b[0;32m----> 1\u001b[0m \u001b[43mm\u001b[49m\u001b[38;5;241m.\u001b[39mfit(ud_train)\n",
      "\u001b[0;31mNameError\u001b[0m: name 'm' is not defined"
     ]
    }
   ],
   "source": [
    "m.fit(ud_train)"
   ]
  },
  {
   "cell_type": "code",
   "execution_count": 90,
   "id": "0aa33e17",
   "metadata": {
    "execution": {
     "iopub.execute_input": "2023-05-10T01:30:17.147958Z",
     "iopub.status.busy": "2023-05-10T01:30:17.147877Z",
     "iopub.status.idle": "2023-05-10T01:30:17.155207Z",
     "shell.execute_reply": "2023-05-10T01:30:17.154952Z"
    }
   },
   "outputs": [
    {
     "ename": "NameError",
     "evalue": "name 'm' is not defined",
     "output_type": "error",
     "traceback": [
      "\u001b[0;31m---------------------------------------------------------------------------\u001b[0m",
      "\u001b[0;31mNameError\u001b[0m                                 Traceback (most recent call last)",
      "Cell \u001b[0;32mIn [90], line 1\u001b[0m\n\u001b[0;32m----> 1\u001b[0m future \u001b[38;5;241m=\u001b[39m \u001b[43mm\u001b[49m\u001b[38;5;241m.\u001b[39mmake_future_dataframe(periods\u001b[38;5;241m=\u001b[39m\u001b[38;5;241m35\u001b[39m, freq\u001b[38;5;241m=\u001b[39m\u001b[38;5;124m'\u001b[39m\u001b[38;5;124mW\u001b[39m\u001b[38;5;124m'\u001b[39m)\n",
      "\u001b[0;31mNameError\u001b[0m: name 'm' is not defined"
     ]
    }
   ],
   "source": [
    "future = m.make_future_dataframe(periods=35, freq='W')"
   ]
  },
  {
   "cell_type": "code",
   "execution_count": 91,
   "id": "3378b69f",
   "metadata": {
    "execution": {
     "iopub.execute_input": "2023-05-10T01:30:17.156668Z",
     "iopub.status.busy": "2023-05-10T01:30:17.156561Z",
     "iopub.status.idle": "2023-05-10T01:30:17.162813Z",
     "shell.execute_reply": "2023-05-10T01:30:17.162574Z"
    }
   },
   "outputs": [
    {
     "ename": "NameError",
     "evalue": "name 'm' is not defined",
     "output_type": "error",
     "traceback": [
      "\u001b[0;31m---------------------------------------------------------------------------\u001b[0m",
      "\u001b[0;31mNameError\u001b[0m                                 Traceback (most recent call last)",
      "Cell \u001b[0;32mIn [91], line 1\u001b[0m\n\u001b[0;32m----> 1\u001b[0m forecast \u001b[38;5;241m=\u001b[39m \u001b[43mm\u001b[49m\u001b[38;5;241m.\u001b[39mpredict(df\u001b[38;5;241m=\u001b[39mfuture)\n",
      "\u001b[0;31mNameError\u001b[0m: name 'm' is not defined"
     ]
    }
   ],
   "source": [
    "forecast = m.predict(df=future)"
   ]
  },
  {
   "cell_type": "code",
   "execution_count": 92,
   "id": "7afde823",
   "metadata": {
    "execution": {
     "iopub.execute_input": "2023-05-10T01:30:17.164318Z",
     "iopub.status.busy": "2023-05-10T01:30:17.164217Z",
     "iopub.status.idle": "2023-05-10T01:30:17.171291Z",
     "shell.execute_reply": "2023-05-10T01:30:17.171049Z"
    }
   },
   "outputs": [
    {
     "ename": "NameError",
     "evalue": "name 'Prophet' is not defined",
     "output_type": "error",
     "traceback": [
      "\u001b[0;31m---------------------------------------------------------------------------\u001b[0m",
      "\u001b[0;31mNameError\u001b[0m                                 Traceback (most recent call last)",
      "Cell \u001b[0;32mIn [92], line 1\u001b[0m\n\u001b[0;32m----> 1\u001b[0m m \u001b[38;5;241m=\u001b[39m \u001b[43mProphet\u001b[49m(weekly_seasonality\u001b[38;5;241m=\u001b[39m\u001b[38;5;28;01mFalse\u001b[39;00m,\n\u001b[1;32m      2\u001b[0m         daily_seasonality\u001b[38;5;241m=\u001b[39m\u001b[38;5;28;01mFalse\u001b[39;00m,\n\u001b[1;32m      3\u001b[0m         interval_width\u001b[38;5;241m=\u001b[39m\u001b[38;5;241m0.95\u001b[39m, \n\u001b[1;32m      4\u001b[0m         mcmc_samples \u001b[38;5;241m=\u001b[39m \u001b[38;5;241m500\u001b[39m)\n",
      "\u001b[0;31mNameError\u001b[0m: name 'Prophet' is not defined"
     ]
    }
   ],
   "source": [
    "m = Prophet(weekly_seasonality=False,\n",
    "        daily_seasonality=False,\n",
    "        interval_width=0.95, \n",
    "        mcmc_samples = 500)"
   ]
  },
  {
   "cell_type": "markdown",
   "id": "7ee84b07",
   "metadata": {},
   "source": [
    "m.add_seasonality(\n",
    "        name='monthly', \n",
    "        period=30.5, \n",
    "        fourier_order=5\n",
    "    )"
   ]
  },
  {
   "cell_type": "code",
   "execution_count": 93,
   "id": "0dce84ea",
   "metadata": {
    "execution": {
     "iopub.execute_input": "2023-05-10T01:30:17.172680Z",
     "iopub.status.busy": "2023-05-10T01:30:17.172599Z",
     "iopub.status.idle": "2023-05-10T01:30:17.178903Z",
     "shell.execute_reply": "2023-05-10T01:30:17.178661Z"
    }
   },
   "outputs": [
    {
     "ename": "NameError",
     "evalue": "name 'm' is not defined",
     "output_type": "error",
     "traceback": [
      "\u001b[0;31m---------------------------------------------------------------------------\u001b[0m",
      "\u001b[0;31mNameError\u001b[0m                                 Traceback (most recent call last)",
      "Cell \u001b[0;32mIn [93], line 1\u001b[0m\n\u001b[0;32m----> 1\u001b[0m \u001b[43mm\u001b[49m\u001b[38;5;241m.\u001b[39mfit(ud_train)\n",
      "\u001b[0;31mNameError\u001b[0m: name 'm' is not defined"
     ]
    }
   ],
   "source": [
    "m.fit(ud_train)"
   ]
  },
  {
   "cell_type": "code",
   "execution_count": 94,
   "id": "92ce845e",
   "metadata": {
    "execution": {
     "iopub.execute_input": "2023-05-10T01:30:17.180760Z",
     "iopub.status.busy": "2023-05-10T01:30:17.180438Z",
     "iopub.status.idle": "2023-05-10T01:30:17.187318Z",
     "shell.execute_reply": "2023-05-10T01:30:17.187054Z"
    }
   },
   "outputs": [
    {
     "ename": "NameError",
     "evalue": "name 'm' is not defined",
     "output_type": "error",
     "traceback": [
      "\u001b[0;31m---------------------------------------------------------------------------\u001b[0m",
      "\u001b[0;31mNameError\u001b[0m                                 Traceback (most recent call last)",
      "Cell \u001b[0;32mIn [94], line 1\u001b[0m\n\u001b[0;32m----> 1\u001b[0m future \u001b[38;5;241m=\u001b[39m \u001b[43mm\u001b[49m\u001b[38;5;241m.\u001b[39mmake_future_dataframe(periods\u001b[38;5;241m=\u001b[39m\u001b[38;5;241m35\u001b[39m, freq\u001b[38;5;241m=\u001b[39m\u001b[38;5;124m'\u001b[39m\u001b[38;5;124mW\u001b[39m\u001b[38;5;124m'\u001b[39m)\n",
      "\u001b[0;31mNameError\u001b[0m: name 'm' is not defined"
     ]
    }
   ],
   "source": [
    "future = m.make_future_dataframe(periods=35, freq='W')"
   ]
  },
  {
   "cell_type": "code",
   "execution_count": 95,
   "id": "87f6c7db",
   "metadata": {
    "execution": {
     "iopub.execute_input": "2023-05-10T01:30:17.188799Z",
     "iopub.status.busy": "2023-05-10T01:30:17.188714Z",
     "iopub.status.idle": "2023-05-10T01:30:17.194999Z",
     "shell.execute_reply": "2023-05-10T01:30:17.194764Z"
    }
   },
   "outputs": [
    {
     "ename": "NameError",
     "evalue": "name 'm' is not defined",
     "output_type": "error",
     "traceback": [
      "\u001b[0;31m---------------------------------------------------------------------------\u001b[0m",
      "\u001b[0;31mNameError\u001b[0m                                 Traceback (most recent call last)",
      "Cell \u001b[0;32mIn [95], line 1\u001b[0m\n\u001b[0;32m----> 1\u001b[0m forecast \u001b[38;5;241m=\u001b[39m \u001b[43mm\u001b[49m\u001b[38;5;241m.\u001b[39mpredict(df\u001b[38;5;241m=\u001b[39mfuture)\n",
      "\u001b[0;31mNameError\u001b[0m: name 'm' is not defined"
     ]
    }
   ],
   "source": [
    "forecast = m.predict(df=future)"
   ]
  },
  {
   "cell_type": "code",
   "execution_count": 96,
   "id": "f636469b",
   "metadata": {
    "execution": {
     "iopub.execute_input": "2023-05-10T01:30:17.196439Z",
     "iopub.status.busy": "2023-05-10T01:30:17.196355Z",
     "iopub.status.idle": "2023-05-10T01:30:17.198453Z",
     "shell.execute_reply": "2023-05-10T01:30:17.198118Z"
    }
   },
   "outputs": [],
   "source": [
    "threshold_date = pd.to_datetime('2022-05-14')\n",
    "mask = ud['ds'] < threshold_date"
   ]
  },
  {
   "cell_type": "code",
   "execution_count": 97,
   "id": "7d6a04cc",
   "metadata": {
    "execution": {
     "iopub.execute_input": "2023-05-10T01:30:17.199869Z",
     "iopub.status.busy": "2023-05-10T01:30:17.199786Z",
     "iopub.status.idle": "2023-05-10T01:30:17.202223Z",
     "shell.execute_reply": "2023-05-10T01:30:17.201981Z"
    }
   },
   "outputs": [],
   "source": [
    "# Split the data and select `ds` and `y` columns.\n",
    "ud_train = ud[mask][['ds', 'y']]\n",
    "ud_test = ud[~mask][['ds', 'y']]"
   ]
  },
  {
   "cell_type": "code",
   "execution_count": 98,
   "id": "caa6e9a0",
   "metadata": {
    "execution": {
     "iopub.execute_input": "2023-05-10T01:30:17.203542Z",
     "iopub.status.busy": "2023-05-10T01:30:17.203462Z",
     "iopub.status.idle": "2023-05-10T01:30:17.205318Z",
     "shell.execute_reply": "2023-05-10T01:30:17.205093Z"
    }
   },
   "outputs": [],
   "source": [
    "threshold_date = pd.to_datetime('2022-05-14')\n",
    "mask = ud['ds'] < threshold_date"
   ]
  },
  {
   "cell_type": "code",
   "execution_count": 99,
   "id": "64bb5afa",
   "metadata": {
    "execution": {
     "iopub.execute_input": "2023-05-10T01:30:17.206733Z",
     "iopub.status.busy": "2023-05-10T01:30:17.206653Z",
     "iopub.status.idle": "2023-05-10T01:30:17.209068Z",
     "shell.execute_reply": "2023-05-10T01:30:17.208846Z"
    }
   },
   "outputs": [],
   "source": [
    "# Split the data and select `ds` and `y` columns.\n",
    "ud_train = ud[mask][['ds', 'y']]\n",
    "ud_test = ud[~mask][['ds', 'y']]"
   ]
  },
  {
   "cell_type": "code",
   "execution_count": 100,
   "id": "7867f7af",
   "metadata": {
    "execution": {
     "iopub.execute_input": "2023-05-10T01:30:17.210439Z",
     "iopub.status.busy": "2023-05-10T01:30:17.210357Z",
     "iopub.status.idle": "2023-05-10T01:30:17.213019Z",
     "shell.execute_reply": "2023-05-10T01:30:17.212785Z"
    }
   },
   "outputs": [
    {
     "data": {
      "text/html": [
       "<div>\n",
       "<style scoped>\n",
       "    .dataframe tbody tr th:only-of-type {\n",
       "        vertical-align: middle;\n",
       "    }\n",
       "\n",
       "    .dataframe tbody tr th {\n",
       "        vertical-align: top;\n",
       "    }\n",
       "\n",
       "    .dataframe thead th {\n",
       "        text-align: right;\n",
       "    }\n",
       "</style>\n",
       "<table border=\"1\" class=\"dataframe\">\n",
       "  <thead>\n",
       "    <tr style=\"text-align: right;\">\n",
       "      <th></th>\n",
       "      <th>ds</th>\n",
       "      <th>y</th>\n",
       "    </tr>\n",
       "  </thead>\n",
       "  <tbody>\n",
       "  </tbody>\n",
       "</table>\n",
       "</div>"
      ],
      "text/plain": [
       "Empty DataFrame\n",
       "Columns: [ds, y]\n",
       "Index: []"
      ]
     },
     "execution_count": 100,
     "metadata": {},
     "output_type": "execute_result"
    }
   ],
   "source": [
    "ud_train"
   ]
  },
  {
   "cell_type": "code",
   "execution_count": 101,
   "id": "606f55cc",
   "metadata": {
    "execution": {
     "iopub.execute_input": "2023-05-10T01:30:17.214392Z",
     "iopub.status.busy": "2023-05-10T01:30:17.214314Z",
     "iopub.status.idle": "2023-05-10T01:30:17.221232Z",
     "shell.execute_reply": "2023-05-10T01:30:17.220985Z"
    }
   },
   "outputs": [
    {
     "ename": "NameError",
     "evalue": "name 'Prophet' is not defined",
     "output_type": "error",
     "traceback": [
      "\u001b[0;31m---------------------------------------------------------------------------\u001b[0m",
      "\u001b[0;31mNameError\u001b[0m                                 Traceback (most recent call last)",
      "Cell \u001b[0;32mIn [101], line 1\u001b[0m\n\u001b[0;32m----> 1\u001b[0m m \u001b[38;5;241m=\u001b[39m \u001b[43mProphet\u001b[49m(weekly_seasonality\u001b[38;5;241m=\u001b[39m\u001b[38;5;28;01mFalse\u001b[39;00m,\n\u001b[1;32m      2\u001b[0m         daily_seasonality\u001b[38;5;241m=\u001b[39m\u001b[38;5;28;01mFalse\u001b[39;00m,\n\u001b[1;32m      3\u001b[0m         interval_width\u001b[38;5;241m=\u001b[39m\u001b[38;5;241m0.95\u001b[39m, \n\u001b[1;32m      4\u001b[0m         mcmc_samples \u001b[38;5;241m=\u001b[39m \u001b[38;5;241m500\u001b[39m)\n",
      "\u001b[0;31mNameError\u001b[0m: name 'Prophet' is not defined"
     ]
    }
   ],
   "source": [
    "m = Prophet(weekly_seasonality=False,\n",
    "        daily_seasonality=False,\n",
    "        interval_width=0.95, \n",
    "        mcmc_samples = 500)"
   ]
  },
  {
   "cell_type": "markdown",
   "id": "17ec652f",
   "metadata": {},
   "source": [
    "m.add_seasonality(\n",
    "        name='monthly', \n",
    "        period=30.5, \n",
    "        fourier_order=5\n",
    "    )"
   ]
  },
  {
   "cell_type": "code",
   "execution_count": 102,
   "id": "ce4e04f4",
   "metadata": {
    "execution": {
     "iopub.execute_input": "2023-05-10T01:30:17.222617Z",
     "iopub.status.busy": "2023-05-10T01:30:17.222513Z",
     "iopub.status.idle": "2023-05-10T01:30:17.228763Z",
     "shell.execute_reply": "2023-05-10T01:30:17.228535Z"
    }
   },
   "outputs": [
    {
     "ename": "NameError",
     "evalue": "name 'm' is not defined",
     "output_type": "error",
     "traceback": [
      "\u001b[0;31m---------------------------------------------------------------------------\u001b[0m",
      "\u001b[0;31mNameError\u001b[0m                                 Traceback (most recent call last)",
      "Cell \u001b[0;32mIn [102], line 1\u001b[0m\n\u001b[0;32m----> 1\u001b[0m \u001b[43mm\u001b[49m\u001b[38;5;241m.\u001b[39mfit(ud_train)\n",
      "\u001b[0;31mNameError\u001b[0m: name 'm' is not defined"
     ]
    }
   ],
   "source": [
    "m.fit(ud_train)"
   ]
  },
  {
   "cell_type": "code",
   "execution_count": 103,
   "id": "a717572c",
   "metadata": {
    "execution": {
     "iopub.execute_input": "2023-05-10T01:30:17.230183Z",
     "iopub.status.busy": "2023-05-10T01:30:17.230096Z",
     "iopub.status.idle": "2023-05-10T01:30:17.237321Z",
     "shell.execute_reply": "2023-05-10T01:30:17.237067Z"
    }
   },
   "outputs": [
    {
     "ename": "NameError",
     "evalue": "name 'm' is not defined",
     "output_type": "error",
     "traceback": [
      "\u001b[0;31m---------------------------------------------------------------------------\u001b[0m",
      "\u001b[0;31mNameError\u001b[0m                                 Traceback (most recent call last)",
      "Cell \u001b[0;32mIn [103], line 1\u001b[0m\n\u001b[0;32m----> 1\u001b[0m future \u001b[38;5;241m=\u001b[39m \u001b[43mm\u001b[49m\u001b[38;5;241m.\u001b[39mmake_future_dataframe(periods\u001b[38;5;241m=\u001b[39m\u001b[38;5;241m35\u001b[39m, freq\u001b[38;5;241m=\u001b[39m\u001b[38;5;124m'\u001b[39m\u001b[38;5;124mW\u001b[39m\u001b[38;5;124m'\u001b[39m)\n",
      "\u001b[0;31mNameError\u001b[0m: name 'm' is not defined"
     ]
    }
   ],
   "source": [
    "future = m.make_future_dataframe(periods=35, freq='W')"
   ]
  },
  {
   "cell_type": "code",
   "execution_count": 104,
   "id": "e5f3764d",
   "metadata": {
    "execution": {
     "iopub.execute_input": "2023-05-10T01:30:17.238680Z",
     "iopub.status.busy": "2023-05-10T01:30:17.238602Z",
     "iopub.status.idle": "2023-05-10T01:30:17.244869Z",
     "shell.execute_reply": "2023-05-10T01:30:17.244632Z"
    }
   },
   "outputs": [
    {
     "ename": "NameError",
     "evalue": "name 'm' is not defined",
     "output_type": "error",
     "traceback": [
      "\u001b[0;31m---------------------------------------------------------------------------\u001b[0m",
      "\u001b[0;31mNameError\u001b[0m                                 Traceback (most recent call last)",
      "Cell \u001b[0;32mIn [104], line 1\u001b[0m\n\u001b[0;32m----> 1\u001b[0m forecast \u001b[38;5;241m=\u001b[39m \u001b[43mm\u001b[49m\u001b[38;5;241m.\u001b[39mpredict(df\u001b[38;5;241m=\u001b[39mfuture)\n",
      "\u001b[0;31mNameError\u001b[0m: name 'm' is not defined"
     ]
    }
   ],
   "source": [
    "forecast = m.predict(df=future)"
   ]
  },
  {
   "cell_type": "code",
   "execution_count": 105,
   "id": "a704422e",
   "metadata": {
    "execution": {
     "iopub.execute_input": "2023-05-10T01:30:17.246258Z",
     "iopub.status.busy": "2023-05-10T01:30:17.246175Z",
     "iopub.status.idle": "2023-05-10T01:30:17.252681Z",
     "shell.execute_reply": "2023-05-10T01:30:17.252435Z"
    }
   },
   "outputs": [
    {
     "ename": "NameError",
     "evalue": "name 'm' is not defined",
     "output_type": "error",
     "traceback": [
      "\u001b[0;31m---------------------------------------------------------------------------\u001b[0m",
      "\u001b[0;31mNameError\u001b[0m                                 Traceback (most recent call last)",
      "Cell \u001b[0;32mIn [105], line 1\u001b[0m\n\u001b[0;32m----> 1\u001b[0m future \u001b[38;5;241m=\u001b[39m \u001b[43mm\u001b[49m\u001b[38;5;241m.\u001b[39mmake_future_dataframe(periods\u001b[38;5;241m=\u001b[39m\u001b[38;5;241m20\u001b[39m, freq\u001b[38;5;241m=\u001b[39m\u001b[38;5;124m'\u001b[39m\u001b[38;5;124mW\u001b[39m\u001b[38;5;124m'\u001b[39m)\n",
      "\u001b[0;31mNameError\u001b[0m: name 'm' is not defined"
     ]
    }
   ],
   "source": [
    "future = m.make_future_dataframe(periods=20, freq='W')"
   ]
  },
  {
   "cell_type": "code",
   "execution_count": 106,
   "id": "085cdd3f",
   "metadata": {
    "execution": {
     "iopub.execute_input": "2023-05-10T01:30:17.254012Z",
     "iopub.status.busy": "2023-05-10T01:30:17.253932Z",
     "iopub.status.idle": "2023-05-10T01:30:17.260178Z",
     "shell.execute_reply": "2023-05-10T01:30:17.259936Z"
    },
    "lines_to_next_cell": 2
   },
   "outputs": [
    {
     "ename": "NameError",
     "evalue": "name 'm' is not defined",
     "output_type": "error",
     "traceback": [
      "\u001b[0;31m---------------------------------------------------------------------------\u001b[0m",
      "\u001b[0;31mNameError\u001b[0m                                 Traceback (most recent call last)",
      "Cell \u001b[0;32mIn [106], line 1\u001b[0m\n\u001b[0;32m----> 1\u001b[0m forecast \u001b[38;5;241m=\u001b[39m \u001b[43mm\u001b[49m\u001b[38;5;241m.\u001b[39mpredict(df\u001b[38;5;241m=\u001b[39mfuture)\n",
      "\u001b[0;31mNameError\u001b[0m: name 'm' is not defined"
     ]
    }
   ],
   "source": [
    "forecast = m.predict(df=future)"
   ]
  }
 ],
 "metadata": {
  "jupytext": {
   "cell_metadata_filter": "-all",
   "main_language": "python",
   "notebook_metadata_filter": "-all"
  },
  "language_info": {
   "codemirror_mode": {
    "name": "ipython",
    "version": 3
   },
   "file_extension": ".py",
   "mimetype": "text/x-python",
   "name": "python",
   "nbconvert_exporter": "python",
   "pygments_lexer": "ipython3",
   "version": "3.9.12"
  }
 },
 "nbformat": 4,
 "nbformat_minor": 5
}
