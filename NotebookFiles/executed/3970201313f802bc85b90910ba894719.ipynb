{
 "cells": [
  {
   "cell_type": "code",
   "execution_count": 1,
   "id": "351b3816",
   "metadata": {
    "execution": {
     "iopub.execute_input": "2023-05-10T00:46:57.086692Z",
     "iopub.status.busy": "2023-05-10T00:46:57.086549Z",
     "iopub.status.idle": "2023-05-10T00:46:57.091680Z",
     "shell.execute_reply": "2023-05-10T00:46:57.091417Z"
    }
   },
   "outputs": [
    {
     "name": "stdout",
     "output_type": "stream",
     "text": [
      "Hello World :)\n"
     ]
    }
   ],
   "source": [
    "print(\"Hello World :)\")"
   ]
  },
  {
   "cell_type": "code",
   "execution_count": 2,
   "id": "caba62df",
   "metadata": {
    "execution": {
     "iopub.execute_input": "2023-05-10T00:46:57.093167Z",
     "iopub.status.busy": "2023-05-10T00:46:57.093054Z",
     "iopub.status.idle": "2023-05-10T00:46:59.626129Z",
     "shell.execute_reply": "2023-05-10T00:46:59.625481Z"
    }
   },
   "outputs": [
    {
     "name": "stdout",
     "output_type": "stream",
     "text": [
      "\u001b[33mWARNING: Ignoring invalid distribution -umpy (/opt/anaconda3/lib/python3.9/site-packages)\u001b[0m\r\n",
      "\u001b[33mWARNING: Ignoring invalid distribution -umpy (/opt/anaconda3/lib/python3.9/site-packages)\u001b[0m\r\n",
      "Requirement already satisfied: db-dtypes in /opt/anaconda3/lib/python3.9/site-packages (1.0.5)\r\n",
      "Requirement already satisfied: packaging>=17.0 in /opt/anaconda3/lib/python3.9/site-packages (from db-dtypes) (21.3)\r\n",
      "Requirement already satisfied: numpy<2.0dev,>=1.16.6 in /opt/anaconda3/lib/python3.9/site-packages (from db-dtypes) (1.22.4)\r\n",
      "Requirement already satisfied: pyarrow>=3.0.0 in /opt/anaconda3/lib/python3.9/site-packages (from db-dtypes) (10.0.1)\r\n",
      "Requirement already satisfied: pandas<2.0dev,>=0.24.2 in /opt/anaconda3/lib/python3.9/site-packages (from db-dtypes) (1.5.3)\r\n",
      "Requirement already satisfied: pyparsing!=3.0.5,>=2.0.2 in /opt/anaconda3/lib/python3.9/site-packages (from packaging>=17.0->db-dtypes) (3.0.4)\r\n",
      "Requirement already satisfied: pytz>=2020.1 in /opt/anaconda3/lib/python3.9/site-packages (from pandas<2.0dev,>=0.24.2->db-dtypes) (2021.3)\r\n",
      "Requirement already satisfied: python-dateutil>=2.8.1 in /opt/anaconda3/lib/python3.9/site-packages (from pandas<2.0dev,>=0.24.2->db-dtypes) (2.8.2)\r\n",
      "Requirement already satisfied: six>=1.5 in /opt/anaconda3/lib/python3.9/site-packages (from python-dateutil>=2.8.1->pandas<2.0dev,>=0.24.2->db-dtypes) (1.16.0)\r\n",
      "\u001b[33mWARNING: Ignoring invalid distribution -umpy (/opt/anaconda3/lib/python3.9/site-packages)\u001b[0m\r\n"
     ]
    },
    {
     "name": "stdout",
     "output_type": "stream",
     "text": [
      "\u001b[33mWARNING: Ignoring invalid distribution -umpy (/opt/anaconda3/lib/python3.9/site-packages)\u001b[0m\r\n",
      "\u001b[33mWARNING: Ignoring invalid distribution -umpy (/opt/anaconda3/lib/python3.9/site-packages)\u001b[0m\r\n",
      "\u001b[33mWARNING: Ignoring invalid distribution -umpy (/opt/anaconda3/lib/python3.9/site-packages)\u001b[0m\r\n"
     ]
    }
   ],
   "source": [
    "get_ipython().system('pip install db-dtypes')"
   ]
  },
  {
   "cell_type": "code",
   "execution_count": 3,
   "id": "34a41585",
   "metadata": {
    "execution": {
     "iopub.execute_input": "2023-05-10T00:46:59.628982Z",
     "iopub.status.busy": "2023-05-10T00:46:59.628775Z",
     "iopub.status.idle": "2023-05-10T00:47:00.058223Z",
     "shell.execute_reply": "2023-05-10T00:47:00.057919Z"
    }
   },
   "outputs": [],
   "source": [
    "import os\n",
    "import pandas\n",
    "from google.cloud import bigquery\n",
    "from google.oauth2 import service_account\n",
    "from google.cloud.bigquery import magics"
   ]
  },
  {
   "cell_type": "code",
   "execution_count": 4,
   "id": "facec2a4",
   "metadata": {
    "execution": {
     "iopub.execute_input": "2023-05-10T00:47:00.059954Z",
     "iopub.status.busy": "2023-05-10T00:47:00.059813Z",
     "iopub.status.idle": "2023-05-10T00:47:00.066634Z",
     "shell.execute_reply": "2023-05-10T00:47:00.066298Z"
    }
   },
   "outputs": [],
   "source": [
    "BIGQUERY_PROJECT = 'ironhacks-data'\n",
    "bigquery_client = bigquery.Client(project=BIGQUERY_PROJECT)"
   ]
  },
  {
   "cell_type": "code",
   "execution_count": 5,
   "id": "9794c541",
   "metadata": {
    "execution": {
     "iopub.execute_input": "2023-05-10T00:47:00.068334Z",
     "iopub.status.busy": "2023-05-10T00:47:00.068234Z",
     "iopub.status.idle": "2023-05-10T00:47:01.987840Z",
     "shell.execute_reply": "2023-05-10T00:47:01.987537Z"
    }
   },
   "outputs": [
    {
     "data": {
      "text/html": [
       "<div>\n",
       "<style scoped>\n",
       "    .dataframe tbody tr th:only-of-type {\n",
       "        vertical-align: middle;\n",
       "    }\n",
       "\n",
       "    .dataframe tbody tr th {\n",
       "        vertical-align: top;\n",
       "    }\n",
       "\n",
       "    .dataframe thead th {\n",
       "        text-align: right;\n",
       "    }\n",
       "</style>\n",
       "<table border=\"1\" class=\"dataframe\">\n",
       "  <thead>\n",
       "    <tr style=\"text-align: right;\">\n",
       "      <th></th>\n",
       "      <th>table_catalog</th>\n",
       "      <th>table_schema</th>\n",
       "      <th>table_name</th>\n",
       "      <th>table_type</th>\n",
       "      <th>is_insertable_into</th>\n",
       "      <th>is_typed</th>\n",
       "      <th>creation_time</th>\n",
       "      <th>base_table_catalog</th>\n",
       "      <th>base_table_schema</th>\n",
       "      <th>base_table_name</th>\n",
       "      <th>snapshot_time_ms</th>\n",
       "      <th>ddl</th>\n",
       "      <th>default_collation_name</th>\n",
       "      <th>upsert_stream_apply_watermark</th>\n",
       "    </tr>\n",
       "  </thead>\n",
       "  <tbody>\n",
       "    <tr>\n",
       "      <th>0</th>\n",
       "      <td>ironhacks-data</td>\n",
       "      <td>ironhacks_competition</td>\n",
       "      <td>wage_data</td>\n",
       "      <td>BASE TABLE</td>\n",
       "      <td>YES</td>\n",
       "      <td>NO</td>\n",
       "      <td>2022-11-29 17:00:10.578000+00:00</td>\n",
       "      <td>None</td>\n",
       "      <td>None</td>\n",
       "      <td>None</td>\n",
       "      <td>NaT</td>\n",
       "      <td>CREATE TABLE `ironhacks-data.ironhacks_competi...</td>\n",
       "      <td>NULL</td>\n",
       "      <td>NaT</td>\n",
       "    </tr>\n",
       "    <tr>\n",
       "      <th>1</th>\n",
       "      <td>ironhacks-data</td>\n",
       "      <td>ironhacks_competition</td>\n",
       "      <td>prediction_list</td>\n",
       "      <td>BASE TABLE</td>\n",
       "      <td>YES</td>\n",
       "      <td>NO</td>\n",
       "      <td>2022-11-29 17:00:10.722000+00:00</td>\n",
       "      <td>None</td>\n",
       "      <td>None</td>\n",
       "      <td>None</td>\n",
       "      <td>NaT</td>\n",
       "      <td>CREATE TABLE `ironhacks-data.ironhacks_competi...</td>\n",
       "      <td>NULL</td>\n",
       "      <td>NaT</td>\n",
       "    </tr>\n",
       "    <tr>\n",
       "      <th>2</th>\n",
       "      <td>ironhacks-data</td>\n",
       "      <td>ironhacks_competition</td>\n",
       "      <td>unemployment_data</td>\n",
       "      <td>BASE TABLE</td>\n",
       "      <td>YES</td>\n",
       "      <td>NO</td>\n",
       "      <td>2022-11-29 17:00:14.588000+00:00</td>\n",
       "      <td>None</td>\n",
       "      <td>None</td>\n",
       "      <td>None</td>\n",
       "      <td>NaT</td>\n",
       "      <td>CREATE TABLE `ironhacks-data.ironhacks_competi...</td>\n",
       "      <td>NULL</td>\n",
       "      <td>NaT</td>\n",
       "    </tr>\n",
       "  </tbody>\n",
       "</table>\n",
       "</div>"
      ],
      "text/plain": [
       "    table_catalog           table_schema         table_name  table_type  \\\n",
       "0  ironhacks-data  ironhacks_competition          wage_data  BASE TABLE   \n",
       "1  ironhacks-data  ironhacks_competition    prediction_list  BASE TABLE   \n",
       "2  ironhacks-data  ironhacks_competition  unemployment_data  BASE TABLE   \n",
       "\n",
       "  is_insertable_into is_typed                    creation_time  \\\n",
       "0                YES       NO 2022-11-29 17:00:10.578000+00:00   \n",
       "1                YES       NO 2022-11-29 17:00:10.722000+00:00   \n",
       "2                YES       NO 2022-11-29 17:00:14.588000+00:00   \n",
       "\n",
       "  base_table_catalog base_table_schema base_table_name snapshot_time_ms  \\\n",
       "0               None              None            None              NaT   \n",
       "1               None              None            None              NaT   \n",
       "2               None              None            None              NaT   \n",
       "\n",
       "                                                 ddl default_collation_name  \\\n",
       "0  CREATE TABLE `ironhacks-data.ironhacks_competi...                   NULL   \n",
       "1  CREATE TABLE `ironhacks-data.ironhacks_competi...                   NULL   \n",
       "2  CREATE TABLE `ironhacks-data.ironhacks_competi...                   NULL   \n",
       "\n",
       "  upsert_stream_apply_watermark  \n",
       "0                           NaT  \n",
       "1                           NaT  \n",
       "2                           NaT  "
      ]
     },
     "execution_count": 5,
     "metadata": {},
     "output_type": "execute_result"
    }
   ],
   "source": [
    "query_get_tables = \"\"\"\n",
    "SELECT * \n",
    "FROM `ironhacks-data.ironhacks_competition.INFORMATION_SCHEMA.TABLES`\n",
    "\"\"\"\n",
    "query_job = bigquery_client.query(query_get_tables)\n",
    "query_job.to_dataframe().head()"
   ]
  },
  {
   "cell_type": "code",
   "execution_count": 6,
   "id": "3cd3d3ab",
   "metadata": {
    "execution": {
     "iopub.execute_input": "2023-05-10T00:47:01.989578Z",
     "iopub.status.busy": "2023-05-10T00:47:01.989425Z",
     "iopub.status.idle": "2023-05-10T00:47:01.991304Z",
     "shell.execute_reply": "2023-05-10T00:47:01.991009Z"
    }
   },
   "outputs": [],
   "source": [
    "query = \"\"\"\n",
    "SELECT *\n",
    "FROM `ironhacks-data.ironhacks_competition.unemployment_data`\n",
    "\"\"\""
   ]
  },
  {
   "cell_type": "code",
   "execution_count": 7,
   "id": "59d7eca6",
   "metadata": {
    "execution": {
     "iopub.execute_input": "2023-05-10T00:47:01.992954Z",
     "iopub.status.busy": "2023-05-10T00:47:01.992838Z",
     "iopub.status.idle": "2023-05-10T00:47:03.590158Z",
     "shell.execute_reply": "2023-05-10T00:47:03.589538Z"
    }
   },
   "outputs": [
    {
     "data": {
      "text/html": [
       "<div>\n",
       "<style scoped>\n",
       "    .dataframe tbody tr th:only-of-type {\n",
       "        vertical-align: middle;\n",
       "    }\n",
       "\n",
       "    .dataframe tbody tr th {\n",
       "        vertical-align: top;\n",
       "    }\n",
       "\n",
       "    .dataframe thead th {\n",
       "        text-align: right;\n",
       "    }\n",
       "</style>\n",
       "<table border=\"1\" class=\"dataframe\">\n",
       "  <thead>\n",
       "    <tr style=\"text-align: right;\">\n",
       "      <th></th>\n",
       "      <th>uu_id</th>\n",
       "      <th>timeperiod</th>\n",
       "      <th>week_number</th>\n",
       "      <th>countyfips</th>\n",
       "      <th>tract</th>\n",
       "      <th>tract_name</th>\n",
       "      <th>total_claims</th>\n",
       "      <th>edu_8th_or_less</th>\n",
       "      <th>edu_grades_9_11</th>\n",
       "      <th>edu_hs_grad_equiv</th>\n",
       "      <th>...</th>\n",
       "      <th>gender_female</th>\n",
       "      <th>gender_male</th>\n",
       "      <th>gender_na</th>\n",
       "      <th>race_amerindian</th>\n",
       "      <th>race_asian</th>\n",
       "      <th>race_black</th>\n",
       "      <th>race_noanswer</th>\n",
       "      <th>race_hawaiiannative</th>\n",
       "      <th>race_other</th>\n",
       "      <th>race_white</th>\n",
       "    </tr>\n",
       "  </thead>\n",
       "  <tbody>\n",
       "    <tr>\n",
       "      <th>0</th>\n",
       "      <td>f013068de98db1470bd986137a0c6d23</td>\n",
       "      <td>20220416</td>\n",
       "      <td>16</td>\n",
       "      <td>18003</td>\n",
       "      <td>900</td>\n",
       "      <td>Census Tract 9, Allen County, Indiana</td>\n",
       "      <td>22</td>\n",
       "      <td>0</td>\n",
       "      <td>&lt;NA&gt;</td>\n",
       "      <td>14</td>\n",
       "      <td>...</td>\n",
       "      <td>&lt;NA&gt;</td>\n",
       "      <td>&lt;NA&gt;</td>\n",
       "      <td>0</td>\n",
       "      <td>0</td>\n",
       "      <td>0</td>\n",
       "      <td>11</td>\n",
       "      <td>0</td>\n",
       "      <td>0</td>\n",
       "      <td>&lt;NA&gt;</td>\n",
       "      <td>&lt;NA&gt;</td>\n",
       "    </tr>\n",
       "    <tr>\n",
       "      <th>1</th>\n",
       "      <td>21957d5517323845818d87623589e1ba</td>\n",
       "      <td>20220319</td>\n",
       "      <td>12</td>\n",
       "      <td>18089</td>\n",
       "      <td>10400</td>\n",
       "      <td>Census Tract 104, Lake County, Indiana</td>\n",
       "      <td>111</td>\n",
       "      <td>0</td>\n",
       "      <td>&lt;NA&gt;</td>\n",
       "      <td>108</td>\n",
       "      <td>...</td>\n",
       "      <td>76</td>\n",
       "      <td>35</td>\n",
       "      <td>0</td>\n",
       "      <td>0</td>\n",
       "      <td>0</td>\n",
       "      <td>&lt;NA&gt;</td>\n",
       "      <td>&lt;NA&gt;</td>\n",
       "      <td>0</td>\n",
       "      <td>0</td>\n",
       "      <td>0</td>\n",
       "    </tr>\n",
       "  </tbody>\n",
       "</table>\n",
       "<p>2 rows × 25 columns</p>\n",
       "</div>"
      ],
      "text/plain": [
       "                              uu_id  timeperiod  week_number  countyfips  \\\n",
       "0  f013068de98db1470bd986137a0c6d23    20220416           16       18003   \n",
       "1  21957d5517323845818d87623589e1ba    20220319           12       18089   \n",
       "\n",
       "   tract                              tract_name  total_claims  \\\n",
       "0    900   Census Tract 9, Allen County, Indiana            22   \n",
       "1  10400  Census Tract 104, Lake County, Indiana           111   \n",
       "\n",
       "   edu_8th_or_less  edu_grades_9_11  edu_hs_grad_equiv  ...  gender_female  \\\n",
       "0                0             <NA>                 14  ...           <NA>   \n",
       "1                0             <NA>                108  ...             76   \n",
       "\n",
       "   gender_male gender_na race_amerindian race_asian  race_black  \\\n",
       "0         <NA>         0               0          0          11   \n",
       "1           35         0               0          0        <NA>   \n",
       "\n",
       "   race_noanswer  race_hawaiiannative  race_other  race_white  \n",
       "0              0                    0        <NA>        <NA>  \n",
       "1           <NA>                    0           0           0  \n",
       "\n",
       "[2 rows x 25 columns]"
      ]
     },
     "execution_count": 7,
     "metadata": {},
     "output_type": "execute_result"
    }
   ],
   "source": [
    "query_job = bigquery_client.query(query)\n",
    "unemployment_data = query_job.to_dataframe()\n",
    "unemployment_data.head(2)"
   ]
  },
  {
   "cell_type": "code",
   "execution_count": 8,
   "id": "f2b0dd7d",
   "metadata": {
    "execution": {
     "iopub.execute_input": "2023-05-10T00:47:03.593030Z",
     "iopub.status.busy": "2023-05-10T00:47:03.592580Z",
     "iopub.status.idle": "2023-05-10T00:47:03.595179Z",
     "shell.execute_reply": "2023-05-10T00:47:03.594723Z"
    }
   },
   "outputs": [],
   "source": [
    "query = \"\"\"\n",
    "SELECT *\n",
    "FROM `ironhacks-data.ironhacks_competition.prediction_list`\n",
    "\"\"\""
   ]
  },
  {
   "cell_type": "code",
   "execution_count": 9,
   "id": "bd9c878b",
   "metadata": {
    "execution": {
     "iopub.execute_input": "2023-05-10T00:47:03.597541Z",
     "iopub.status.busy": "2023-05-10T00:47:03.597341Z",
     "iopub.status.idle": "2023-05-10T00:47:05.459840Z",
     "shell.execute_reply": "2023-05-10T00:47:05.458698Z"
    }
   },
   "outputs": [
    {
     "data": {
      "text/html": [
       "<div>\n",
       "<style scoped>\n",
       "    .dataframe tbody tr th:only-of-type {\n",
       "        vertical-align: middle;\n",
       "    }\n",
       "\n",
       "    .dataframe tbody tr th {\n",
       "        vertical-align: top;\n",
       "    }\n",
       "\n",
       "    .dataframe thead th {\n",
       "        text-align: right;\n",
       "    }\n",
       "</style>\n",
       "<table border=\"1\" class=\"dataframe\">\n",
       "  <thead>\n",
       "    <tr style=\"text-align: right;\">\n",
       "      <th></th>\n",
       "      <th>uu_id</th>\n",
       "      <th>week_number</th>\n",
       "    </tr>\n",
       "  </thead>\n",
       "  <tbody>\n",
       "    <tr>\n",
       "      <th>0</th>\n",
       "      <td>5bf51fc2e162d6faf9e3cf79e4198378</td>\n",
       "      <td>44</td>\n",
       "    </tr>\n",
       "    <tr>\n",
       "      <th>1</th>\n",
       "      <td>420b44cc7e3f55d738df565421e59941</td>\n",
       "      <td>44</td>\n",
       "    </tr>\n",
       "  </tbody>\n",
       "</table>\n",
       "</div>"
      ],
      "text/plain": [
       "                              uu_id  week_number\n",
       "0  5bf51fc2e162d6faf9e3cf79e4198378           44\n",
       "1  420b44cc7e3f55d738df565421e59941           44"
      ]
     },
     "execution_count": 9,
     "metadata": {},
     "output_type": "execute_result"
    }
   ],
   "source": [
    "query_job = bigquery_client.query(query)\n",
    "prediction_list_data = query_job.to_dataframe()\n",
    "prediction_list_data.head(2)"
   ]
  },
  {
   "cell_type": "code",
   "execution_count": 10,
   "id": "d28edc72",
   "metadata": {
    "execution": {
     "iopub.execute_input": "2023-05-10T00:47:05.464641Z",
     "iopub.status.busy": "2023-05-10T00:47:05.464007Z",
     "iopub.status.idle": "2023-05-10T00:47:05.468495Z",
     "shell.execute_reply": "2023-05-10T00:47:05.467262Z"
    }
   },
   "outputs": [],
   "source": [
    "query = \"\"\"\n",
    "SELECT *\n",
    "FROM `ironhacks-data.ironhacks_competition.wage_data`\n",
    "\"\"\""
   ]
  },
  {
   "cell_type": "code",
   "execution_count": 11,
   "id": "914d763c",
   "metadata": {
    "execution": {
     "iopub.execute_input": "2023-05-10T00:47:05.472611Z",
     "iopub.status.busy": "2023-05-10T00:47:05.472281Z",
     "iopub.status.idle": "2023-05-10T00:47:07.314066Z",
     "shell.execute_reply": "2023-05-10T00:47:07.312884Z"
    }
   },
   "outputs": [
    {
     "data": {
      "text/html": [
       "<div>\n",
       "<style scoped>\n",
       "    .dataframe tbody tr th:only-of-type {\n",
       "        vertical-align: middle;\n",
       "    }\n",
       "\n",
       "    .dataframe tbody tr th {\n",
       "        vertical-align: top;\n",
       "    }\n",
       "\n",
       "    .dataframe thead th {\n",
       "        text-align: right;\n",
       "    }\n",
       "</style>\n",
       "<table border=\"1\" class=\"dataframe\">\n",
       "  <thead>\n",
       "    <tr style=\"text-align: right;\">\n",
       "      <th></th>\n",
       "      <th>uu_id</th>\n",
       "      <th>countyfips</th>\n",
       "      <th>tract</th>\n",
       "      <th>tract_name</th>\n",
       "      <th>average_wage</th>\n",
       "    </tr>\n",
       "  </thead>\n",
       "  <tbody>\n",
       "    <tr>\n",
       "      <th>0</th>\n",
       "      <td>585f8731c2255d6b3f817a31180848b9</td>\n",
       "      <td>18177</td>\n",
       "      <td>200</td>\n",
       "      <td>Census Tract 2, Wayne County, Indiana</td>\n",
       "      <td>6612.00</td>\n",
       "    </tr>\n",
       "    <tr>\n",
       "      <th>1</th>\n",
       "      <td>8c9d2aa90948679972a9382aadcc6001</td>\n",
       "      <td>18177</td>\n",
       "      <td>900</td>\n",
       "      <td>Census Tract 9, Wayne County, Indiana</td>\n",
       "      <td>9883.25</td>\n",
       "    </tr>\n",
       "  </tbody>\n",
       "</table>\n",
       "</div>"
      ],
      "text/plain": [
       "                              uu_id  countyfips  tract  \\\n",
       "0  585f8731c2255d6b3f817a31180848b9       18177    200   \n",
       "1  8c9d2aa90948679972a9382aadcc6001       18177    900   \n",
       "\n",
       "                              tract_name  average_wage  \n",
       "0  Census Tract 2, Wayne County, Indiana       6612.00  \n",
       "1  Census Tract 9, Wayne County, Indiana       9883.25  "
      ]
     },
     "execution_count": 11,
     "metadata": {},
     "output_type": "execute_result"
    }
   ],
   "source": [
    "query_job = bigquery_client.query(query)\n",
    "wage_data = query_job.to_dataframe()\n",
    "wage_data.head(2)"
   ]
  },
  {
   "cell_type": "code",
   "execution_count": 12,
   "id": "c5fa77d8",
   "metadata": {
    "execution": {
     "iopub.execute_input": "2023-05-10T00:47:07.321953Z",
     "iopub.status.busy": "2023-05-10T00:47:07.321467Z",
     "iopub.status.idle": "2023-05-10T00:47:07.325560Z",
     "shell.execute_reply": "2023-05-10T00:47:07.325018Z"
    }
   },
   "outputs": [],
   "source": [
    "query = \"\"\"\n",
    "SELECT *\n",
    "FROM `ironhacks-data.ironhacks_competition.unemployment_data`\n",
    "WHERE uu_id IN (SELECT uu_id\n",
    "                FROM `ironhacks-data.ironhacks_competition.prediction_list`\n",
    "                WHERE week_number = (SELECT MAX(week_number) FROM `ironhacks-data.ironhacks_competition.prediction_list`))\n",
    "ORDER BY uu_id,week_number\n",
    "\"\"\""
   ]
  },
  {
   "cell_type": "code",
   "execution_count": 13,
   "id": "0a596244",
   "metadata": {
    "execution": {
     "iopub.execute_input": "2023-05-10T00:47:07.327647Z",
     "iopub.status.busy": "2023-05-10T00:47:07.327478Z",
     "iopub.status.idle": "2023-05-10T00:47:08.901453Z",
     "shell.execute_reply": "2023-05-10T00:47:08.900840Z"
    }
   },
   "outputs": [
    {
     "data": {
      "text/html": [
       "<div>\n",
       "<style scoped>\n",
       "    .dataframe tbody tr th:only-of-type {\n",
       "        vertical-align: middle;\n",
       "    }\n",
       "\n",
       "    .dataframe tbody tr th {\n",
       "        vertical-align: top;\n",
       "    }\n",
       "\n",
       "    .dataframe thead th {\n",
       "        text-align: right;\n",
       "    }\n",
       "</style>\n",
       "<table border=\"1\" class=\"dataframe\">\n",
       "  <thead>\n",
       "    <tr style=\"text-align: right;\">\n",
       "      <th></th>\n",
       "      <th>uu_id</th>\n",
       "      <th>timeperiod</th>\n",
       "      <th>week_number</th>\n",
       "      <th>countyfips</th>\n",
       "      <th>tract</th>\n",
       "      <th>tract_name</th>\n",
       "      <th>total_claims</th>\n",
       "      <th>edu_8th_or_less</th>\n",
       "      <th>edu_grades_9_11</th>\n",
       "      <th>edu_hs_grad_equiv</th>\n",
       "      <th>...</th>\n",
       "      <th>gender_female</th>\n",
       "      <th>gender_male</th>\n",
       "      <th>gender_na</th>\n",
       "      <th>race_amerindian</th>\n",
       "      <th>race_asian</th>\n",
       "      <th>race_black</th>\n",
       "      <th>race_noanswer</th>\n",
       "      <th>race_hawaiiannative</th>\n",
       "      <th>race_other</th>\n",
       "      <th>race_white</th>\n",
       "    </tr>\n",
       "  </thead>\n",
       "  <tbody>\n",
       "    <tr>\n",
       "      <th>0</th>\n",
       "      <td>001cd9ae23064d7f0fd3cd327c873d8d</td>\n",
       "      <td>20220730</td>\n",
       "      <td>31</td>\n",
       "      <td>18099</td>\n",
       "      <td>20102</td>\n",
       "      <td>Census Tract 201.02, Marshall County, Indiana</td>\n",
       "      <td>34</td>\n",
       "      <td>&lt;NA&gt;</td>\n",
       "      <td>0</td>\n",
       "      <td>30</td>\n",
       "      <td>...</td>\n",
       "      <td>&lt;NA&gt;</td>\n",
       "      <td>&lt;NA&gt;</td>\n",
       "      <td>0</td>\n",
       "      <td>0</td>\n",
       "      <td>0</td>\n",
       "      <td>0</td>\n",
       "      <td>0</td>\n",
       "      <td>0</td>\n",
       "      <td>0</td>\n",
       "      <td>34</td>\n",
       "    </tr>\n",
       "    <tr>\n",
       "      <th>1</th>\n",
       "      <td>001cd9ae23064d7f0fd3cd327c873d8d</td>\n",
       "      <td>20220813</td>\n",
       "      <td>33</td>\n",
       "      <td>18099</td>\n",
       "      <td>20102</td>\n",
       "      <td>Census Tract 201.02, Marshall County, Indiana</td>\n",
       "      <td>10</td>\n",
       "      <td>&lt;NA&gt;</td>\n",
       "      <td>0</td>\n",
       "      <td>&lt;NA&gt;</td>\n",
       "      <td>...</td>\n",
       "      <td>&lt;NA&gt;</td>\n",
       "      <td>&lt;NA&gt;</td>\n",
       "      <td>0</td>\n",
       "      <td>0</td>\n",
       "      <td>0</td>\n",
       "      <td>0</td>\n",
       "      <td>0</td>\n",
       "      <td>0</td>\n",
       "      <td>0</td>\n",
       "      <td>10</td>\n",
       "    </tr>\n",
       "  </tbody>\n",
       "</table>\n",
       "<p>2 rows × 25 columns</p>\n",
       "</div>"
      ],
      "text/plain": [
       "                              uu_id  timeperiod  week_number  countyfips  \\\n",
       "0  001cd9ae23064d7f0fd3cd327c873d8d    20220730           31       18099   \n",
       "1  001cd9ae23064d7f0fd3cd327c873d8d    20220813           33       18099   \n",
       "\n",
       "   tract                                     tract_name  total_claims  \\\n",
       "0  20102  Census Tract 201.02, Marshall County, Indiana            34   \n",
       "1  20102  Census Tract 201.02, Marshall County, Indiana            10   \n",
       "\n",
       "   edu_8th_or_less  edu_grades_9_11  edu_hs_grad_equiv  ...  gender_female  \\\n",
       "0             <NA>                0                 30  ...           <NA>   \n",
       "1             <NA>                0               <NA>  ...           <NA>   \n",
       "\n",
       "   gender_male gender_na race_amerindian race_asian  race_black  \\\n",
       "0         <NA>         0               0          0           0   \n",
       "1         <NA>         0               0          0           0   \n",
       "\n",
       "   race_noanswer  race_hawaiiannative  race_other  race_white  \n",
       "0              0                    0           0          34  \n",
       "1              0                    0           0          10  \n",
       "\n",
       "[2 rows x 25 columns]"
      ]
     },
     "execution_count": 13,
     "metadata": {},
     "output_type": "execute_result"
    }
   ],
   "source": [
    "query_job = bigquery_client.query(query)\n",
    "relevant_unemployment_df = query_job.to_dataframe()\n",
    "relevant_unemployment_df.head(2)"
   ]
  },
  {
   "cell_type": "code",
   "execution_count": 14,
   "id": "c29314c3",
   "metadata": {
    "execution": {
     "iopub.execute_input": "2023-05-10T00:47:08.904973Z",
     "iopub.status.busy": "2023-05-10T00:47:08.904537Z",
     "iopub.status.idle": "2023-05-10T00:47:08.917673Z",
     "shell.execute_reply": "2023-05-10T00:47:08.917228Z"
    }
   },
   "outputs": [
    {
     "data": {
      "text/html": [
       "<div>\n",
       "<style scoped>\n",
       "    .dataframe tbody tr th:only-of-type {\n",
       "        vertical-align: middle;\n",
       "    }\n",
       "\n",
       "    .dataframe tbody tr th {\n",
       "        vertical-align: top;\n",
       "    }\n",
       "\n",
       "    .dataframe thead th {\n",
       "        text-align: right;\n",
       "    }\n",
       "</style>\n",
       "<table border=\"1\" class=\"dataframe\">\n",
       "  <thead>\n",
       "    <tr style=\"text-align: right;\">\n",
       "      <th></th>\n",
       "      <th>uu_id</th>\n",
       "      <th>timeperiod</th>\n",
       "      <th>week_number</th>\n",
       "      <th>countyfips</th>\n",
       "      <th>tract</th>\n",
       "      <th>tract_name</th>\n",
       "      <th>total_claims</th>\n",
       "      <th>edu_8th_or_less</th>\n",
       "      <th>edu_grades_9_11</th>\n",
       "      <th>edu_hs_grad_equiv</th>\n",
       "      <th>...</th>\n",
       "      <th>gender_female</th>\n",
       "      <th>gender_male</th>\n",
       "      <th>gender_na</th>\n",
       "      <th>race_amerindian</th>\n",
       "      <th>race_asian</th>\n",
       "      <th>race_black</th>\n",
       "      <th>race_noanswer</th>\n",
       "      <th>race_hawaiiannative</th>\n",
       "      <th>race_other</th>\n",
       "      <th>race_white</th>\n",
       "    </tr>\n",
       "  </thead>\n",
       "  <tbody>\n",
       "    <tr>\n",
       "      <th>0</th>\n",
       "      <td>001cd9ae23064d7f0fd3cd327c873d8d</td>\n",
       "      <td>20220730</td>\n",
       "      <td>31</td>\n",
       "      <td>18099</td>\n",
       "      <td>20102</td>\n",
       "      <td>Census Tract 201.02, Marshall County, Indiana</td>\n",
       "      <td>34</td>\n",
       "      <td>&lt;NA&gt;</td>\n",
       "      <td>0</td>\n",
       "      <td>30</td>\n",
       "      <td>...</td>\n",
       "      <td>&lt;NA&gt;</td>\n",
       "      <td>&lt;NA&gt;</td>\n",
       "      <td>0</td>\n",
       "      <td>0</td>\n",
       "      <td>0</td>\n",
       "      <td>0</td>\n",
       "      <td>0</td>\n",
       "      <td>0</td>\n",
       "      <td>0</td>\n",
       "      <td>34</td>\n",
       "    </tr>\n",
       "    <tr>\n",
       "      <th>1</th>\n",
       "      <td>001cd9ae23064d7f0fd3cd327c873d8d</td>\n",
       "      <td>20220813</td>\n",
       "      <td>33</td>\n",
       "      <td>18099</td>\n",
       "      <td>20102</td>\n",
       "      <td>Census Tract 201.02, Marshall County, Indiana</td>\n",
       "      <td>10</td>\n",
       "      <td>&lt;NA&gt;</td>\n",
       "      <td>0</td>\n",
       "      <td>&lt;NA&gt;</td>\n",
       "      <td>...</td>\n",
       "      <td>&lt;NA&gt;</td>\n",
       "      <td>&lt;NA&gt;</td>\n",
       "      <td>0</td>\n",
       "      <td>0</td>\n",
       "      <td>0</td>\n",
       "      <td>0</td>\n",
       "      <td>0</td>\n",
       "      <td>0</td>\n",
       "      <td>0</td>\n",
       "      <td>10</td>\n",
       "    </tr>\n",
       "    <tr>\n",
       "      <th>2</th>\n",
       "      <td>001cd9ae23064d7f0fd3cd327c873d8d</td>\n",
       "      <td>20220813</td>\n",
       "      <td>33</td>\n",
       "      <td>18099</td>\n",
       "      <td>20102</td>\n",
       "      <td>Census Tract 201.02, Marshall County, Indiana</td>\n",
       "      <td>10</td>\n",
       "      <td>&lt;NA&gt;</td>\n",
       "      <td>0</td>\n",
       "      <td>&lt;NA&gt;</td>\n",
       "      <td>...</td>\n",
       "      <td>&lt;NA&gt;</td>\n",
       "      <td>&lt;NA&gt;</td>\n",
       "      <td>0</td>\n",
       "      <td>0</td>\n",
       "      <td>0</td>\n",
       "      <td>0</td>\n",
       "      <td>0</td>\n",
       "      <td>0</td>\n",
       "      <td>0</td>\n",
       "      <td>10</td>\n",
       "    </tr>\n",
       "  </tbody>\n",
       "</table>\n",
       "<p>3 rows × 25 columns</p>\n",
       "</div>"
      ],
      "text/plain": [
       "                              uu_id  timeperiod  week_number  countyfips  \\\n",
       "0  001cd9ae23064d7f0fd3cd327c873d8d    20220730           31       18099   \n",
       "1  001cd9ae23064d7f0fd3cd327c873d8d    20220813           33       18099   \n",
       "2  001cd9ae23064d7f0fd3cd327c873d8d    20220813           33       18099   \n",
       "\n",
       "   tract                                     tract_name  total_claims  \\\n",
       "0  20102  Census Tract 201.02, Marshall County, Indiana            34   \n",
       "1  20102  Census Tract 201.02, Marshall County, Indiana            10   \n",
       "2  20102  Census Tract 201.02, Marshall County, Indiana            10   \n",
       "\n",
       "   edu_8th_or_less  edu_grades_9_11  edu_hs_grad_equiv  ...  gender_female  \\\n",
       "0             <NA>                0                 30  ...           <NA>   \n",
       "1             <NA>                0               <NA>  ...           <NA>   \n",
       "2             <NA>                0               <NA>  ...           <NA>   \n",
       "\n",
       "   gender_male gender_na race_amerindian race_asian  race_black  \\\n",
       "0         <NA>         0               0          0           0   \n",
       "1         <NA>         0               0          0           0   \n",
       "2         <NA>         0               0          0           0   \n",
       "\n",
       "   race_noanswer  race_hawaiiannative  race_other  race_white  \n",
       "0              0                    0           0          34  \n",
       "1              0                    0           0          10  \n",
       "2              0                    0           0          10  \n",
       "\n",
       "[3 rows x 25 columns]"
      ]
     },
     "execution_count": 14,
     "metadata": {},
     "output_type": "execute_result"
    }
   ],
   "source": [
    "relevant_unemployment_df.head(3)"
   ]
  },
  {
   "cell_type": "code",
   "execution_count": 15,
   "id": "83a977d0",
   "metadata": {
    "execution": {
     "iopub.execute_input": "2023-05-10T00:47:08.919917Z",
     "iopub.status.busy": "2023-05-10T00:47:08.919737Z",
     "iopub.status.idle": "2023-05-10T00:47:08.952474Z",
     "shell.execute_reply": "2023-05-10T00:47:08.952027Z"
    }
   },
   "outputs": [
    {
     "name": "stdout",
     "output_type": "stream",
     "text": [
      "<class 'pandas.core.frame.DataFrame'>\n",
      "Int64Index: 13977 entries, 0 to 16831\n",
      "Data columns (total 25 columns):\n",
      " #   Column                  Non-Null Count  Dtype \n",
      "---  ------                  --------------  ----- \n",
      " 0   uu_id                   13977 non-null  object\n",
      " 1   timeperiod              13977 non-null  Int64 \n",
      " 2   week_number             13977 non-null  Int64 \n",
      " 3   countyfips              13977 non-null  Int64 \n",
      " 4   tract                   13977 non-null  Int64 \n",
      " 5   tract_name              13977 non-null  object\n",
      " 6   total_claims            13977 non-null  Int64 \n",
      " 7   edu_8th_or_less         11445 non-null  Int64 \n",
      " 8   edu_grades_9_11         4893 non-null   Int64 \n",
      " 9   edu_hs_grad_equiv       5082 non-null   Int64 \n",
      " 10  edu_post_hs             2672 non-null   Int64 \n",
      " 11  edu_unknown             10055 non-null  Int64 \n",
      " 12  top_category_employer1  13977 non-null  object\n",
      " 13  top_category_employer2  13977 non-null  object\n",
      " 14  top_category_employer3  13977 non-null  object\n",
      " 15  gender_female           3177 non-null   Int64 \n",
      " 16  gender_male             3274 non-null   Int64 \n",
      " 17  gender_na               13193 non-null  Int64 \n",
      " 18  race_amerindian         12702 non-null  Int64 \n",
      " 19  race_asian              12425 non-null  Int64 \n",
      " 20  race_black              5933 non-null   Int64 \n",
      " 21  race_noanswer           8508 non-null   Int64 \n",
      " 22  race_hawaiiannative     13642 non-null  Int64 \n",
      " 23  race_other              6764 non-null   Int64 \n",
      " 24  race_white              5284 non-null   Int64 \n",
      "dtypes: Int64(20), object(5)\n",
      "memory usage: 3.0+ MB\n"
     ]
    }
   ],
   "source": [
    "relevant_unemployment_df.drop_duplicates(inplace=True)\n",
    "relevant_unemployment_df.isna().sum()\n",
    "relevant_unemployment_df.info()"
   ]
  },
  {
   "cell_type": "code",
   "execution_count": 16,
   "id": "47859c74",
   "metadata": {
    "execution": {
     "iopub.execute_input": "2023-05-10T00:47:08.954600Z",
     "iopub.status.busy": "2023-05-10T00:47:08.954403Z",
     "iopub.status.idle": "2023-05-10T00:47:08.984802Z",
     "shell.execute_reply": "2023-05-10T00:47:08.984201Z"
    }
   },
   "outputs": [
    {
     "name": "stdout",
     "output_type": "stream",
     "text": [
      "<class 'pandas.core.frame.DataFrame'>\n",
      "Int64Index: 13977 entries, 0 to 16831\n",
      "Data columns (total 8 columns):\n",
      " #   Column                  Non-Null Count  Dtype \n",
      "---  ------                  --------------  ----- \n",
      " 0   uu_id                   13977 non-null  string\n",
      " 1   week_number             13977 non-null  Int64 \n",
      " 2   countyfips              13977 non-null  string\n",
      " 3   tract                   13977 non-null  string\n",
      " 4   total_claims            13977 non-null  Int64 \n",
      " 5   top_category_employer1  13977 non-null  string\n",
      " 6   top_category_employer2  13977 non-null  string\n",
      " 7   top_category_employer3  13977 non-null  string\n",
      "dtypes: Int64(2), string(6)\n",
      "memory usage: 1010.1 KB\n"
     ]
    }
   ],
   "source": [
    "# Drop duplicate columns\n",
    "relevant_unemployment_df.drop(['timeperiod', 'tract_name'], axis=1, inplace=True)\n",
    "# Drop columns with excessive null values\n",
    "# NOTE: Revisit this, these columns may still be useful, especially those that aren't missing too many values\n",
    "relevant_unemployment_df.dropna(axis='columns', inplace=True)\n",
    "relevant_unemployment_df = relevant_unemployment_df.convert_dtypes()\n",
    "relevant_unemployment_df['countyfips'] = relevant_unemployment_df['countyfips'].astype(str)\n",
    "relevant_unemployment_df['tract'] = relevant_unemployment_df['tract'].astype(str)\n",
    "relevant_unemployment_df = relevant_unemployment_df.convert_dtypes()\n",
    "relevant_unemployment_df.info()"
   ]
  },
  {
   "cell_type": "code",
   "execution_count": 17,
   "id": "165d5971",
   "metadata": {
    "execution": {
     "iopub.execute_input": "2023-05-10T00:47:08.987814Z",
     "iopub.status.busy": "2023-05-10T00:47:08.987408Z",
     "iopub.status.idle": "2023-05-10T00:47:08.994113Z",
     "shell.execute_reply": "2023-05-10T00:47:08.993475Z"
    }
   },
   "outputs": [
    {
     "name": "stdout",
     "output_type": "stream",
     "text": [
      "7b208b710114a393f20ec464c7849157    35\n",
      "db27f7d84ea8ef691d33dbb715272977    35\n",
      "b1d41e64e8d10b7c427570a7f77f1826    35\n",
      "ae2f6787bb01d859420365f1ab55a3c1    35\n",
      "adf09caf6306aab8015ea16df0efab86    35\n",
      "                                    ..\n",
      "b63efd0868b06138b7c8f9da9027e457     5\n",
      "b67c2c4abede3730932f8d53aba0341a     4\n",
      "747f8bc2b0c8c0a04d29caa4cfe327d2     4\n",
      "f7f087af0599e6b2eaa4045ba1a0be50     3\n",
      "6fbb60a508283bc1fb30c13ac419941a     3\n",
      "Name: uu_id, Length: 525, dtype: Int64\n",
      "31-33    3726\n",
      "23       2931\n",
      "56       2359\n",
      "62       1334\n",
      "72        928\n",
      "44-45     915\n",
      "48-49     521\n",
      "54        263\n",
      "52        220\n",
      "42        206\n",
      "81        161\n",
      "61        121\n",
      "53         61\n",
      "55         61\n",
      "71         56\n",
      "51         49\n",
      "92         45\n",
      "11          6\n",
      "22          5\n",
      "21          5\n",
      "99          4\n",
      "Name: top_category_employer1, dtype: Int64\n"
     ]
    }
   ],
   "source": [
    "print(relevant_unemployment_df['uu_id'].value_counts())\n",
    "print(relevant_unemployment_df['top_category_employer1'].value_counts())"
   ]
  },
  {
   "cell_type": "code",
   "execution_count": 18,
   "id": "1bb20ae2",
   "metadata": {
    "execution": {
     "iopub.execute_input": "2023-05-10T00:47:08.996522Z",
     "iopub.status.busy": "2023-05-10T00:47:08.996358Z",
     "iopub.status.idle": "2023-05-10T00:47:09.003613Z",
     "shell.execute_reply": "2023-05-10T00:47:09.003219Z"
    }
   },
   "outputs": [
    {
     "data": {
      "text/html": [
       "<div>\n",
       "<style scoped>\n",
       "    .dataframe tbody tr th:only-of-type {\n",
       "        vertical-align: middle;\n",
       "    }\n",
       "\n",
       "    .dataframe tbody tr th {\n",
       "        vertical-align: top;\n",
       "    }\n",
       "\n",
       "    .dataframe thead th {\n",
       "        text-align: right;\n",
       "    }\n",
       "</style>\n",
       "<table border=\"1\" class=\"dataframe\">\n",
       "  <thead>\n",
       "    <tr style=\"text-align: right;\">\n",
       "      <th></th>\n",
       "      <th>uu_id</th>\n",
       "      <th>countyfips</th>\n",
       "      <th>tract</th>\n",
       "      <th>tract_name</th>\n",
       "      <th>average_wage</th>\n",
       "    </tr>\n",
       "  </thead>\n",
       "  <tbody>\n",
       "    <tr>\n",
       "      <th>0</th>\n",
       "      <td>585f8731c2255d6b3f817a31180848b9</td>\n",
       "      <td>18177</td>\n",
       "      <td>200</td>\n",
       "      <td>Census Tract 2, Wayne County, Indiana</td>\n",
       "      <td>6612.000000</td>\n",
       "    </tr>\n",
       "    <tr>\n",
       "      <th>1</th>\n",
       "      <td>8c9d2aa90948679972a9382aadcc6001</td>\n",
       "      <td>18177</td>\n",
       "      <td>900</td>\n",
       "      <td>Census Tract 9, Wayne County, Indiana</td>\n",
       "      <td>9883.250000</td>\n",
       "    </tr>\n",
       "    <tr>\n",
       "      <th>2</th>\n",
       "      <td>0f3d45341a5b113b813ffb7be7f58bab</td>\n",
       "      <td>18183</td>\n",
       "      <td>50300</td>\n",
       "      <td>Census Tract 503, Whitley County, Indiana</td>\n",
       "      <td>13992.250000</td>\n",
       "    </tr>\n",
       "    <tr>\n",
       "      <th>3</th>\n",
       "      <td>fb55464f8e34af6d750d06968bf719b8</td>\n",
       "      <td>18183</td>\n",
       "      <td>50400</td>\n",
       "      <td>Census Tract 504, Whitley County, Indiana</td>\n",
       "      <td>13613.500000</td>\n",
       "    </tr>\n",
       "    <tr>\n",
       "      <th>4</th>\n",
       "      <td>983badfd7b568728e39a2344a9006078</td>\n",
       "      <td>18001</td>\n",
       "      <td>30200</td>\n",
       "      <td>Census Tract 302, Adams County, Indiana</td>\n",
       "      <td>11816.666667</td>\n",
       "    </tr>\n",
       "    <tr>\n",
       "      <th>...</th>\n",
       "      <td>...</td>\n",
       "      <td>...</td>\n",
       "      <td>...</td>\n",
       "      <td>...</td>\n",
       "      <td>...</td>\n",
       "    </tr>\n",
       "    <tr>\n",
       "      <th>520</th>\n",
       "      <td>4a6ae3b5be1b9b7c10c177e1b9fded82</td>\n",
       "      <td>18169</td>\n",
       "      <td>102800</td>\n",
       "      <td>Census Tract 1028, Wabash County, Indiana</td>\n",
       "      <td>7061.200000</td>\n",
       "    </tr>\n",
       "    <tr>\n",
       "      <th>521</th>\n",
       "      <td>e0e676badd59e9b1f2ecf853d2ca1ecb</td>\n",
       "      <td>18173</td>\n",
       "      <td>30500</td>\n",
       "      <td>Census Tract 305, Warrick County, Indiana</td>\n",
       "      <td>8687.000000</td>\n",
       "    </tr>\n",
       "    <tr>\n",
       "      <th>522</th>\n",
       "      <td>4338a76c28b57d89da8a28cf06adcf73</td>\n",
       "      <td>18173</td>\n",
       "      <td>30600</td>\n",
       "      <td>Census Tract 306, Warrick County, Indiana</td>\n",
       "      <td>11917.375000</td>\n",
       "    </tr>\n",
       "    <tr>\n",
       "      <th>523</th>\n",
       "      <td>3224483a60925de51923d51b10a00141</td>\n",
       "      <td>18173</td>\n",
       "      <td>30800</td>\n",
       "      <td>Census Tract 308, Warrick County, Indiana</td>\n",
       "      <td>15117.700000</td>\n",
       "    </tr>\n",
       "    <tr>\n",
       "      <th>524</th>\n",
       "      <td>7b67eb2512a721025efe5cb967a38aff</td>\n",
       "      <td>18173</td>\n",
       "      <td>30400</td>\n",
       "      <td>Census Tract 304, Warrick County, Indiana</td>\n",
       "      <td>9386.000000</td>\n",
       "    </tr>\n",
       "  </tbody>\n",
       "</table>\n",
       "<p>525 rows × 5 columns</p>\n",
       "</div>"
      ],
      "text/plain": [
       "                                uu_id  countyfips   tract  \\\n",
       "0    585f8731c2255d6b3f817a31180848b9       18177     200   \n",
       "1    8c9d2aa90948679972a9382aadcc6001       18177     900   \n",
       "2    0f3d45341a5b113b813ffb7be7f58bab       18183   50300   \n",
       "3    fb55464f8e34af6d750d06968bf719b8       18183   50400   \n",
       "4    983badfd7b568728e39a2344a9006078       18001   30200   \n",
       "..                                ...         ...     ...   \n",
       "520  4a6ae3b5be1b9b7c10c177e1b9fded82       18169  102800   \n",
       "521  e0e676badd59e9b1f2ecf853d2ca1ecb       18173   30500   \n",
       "522  4338a76c28b57d89da8a28cf06adcf73       18173   30600   \n",
       "523  3224483a60925de51923d51b10a00141       18173   30800   \n",
       "524  7b67eb2512a721025efe5cb967a38aff       18173   30400   \n",
       "\n",
       "                                    tract_name  average_wage  \n",
       "0        Census Tract 2, Wayne County, Indiana   6612.000000  \n",
       "1        Census Tract 9, Wayne County, Indiana   9883.250000  \n",
       "2    Census Tract 503, Whitley County, Indiana  13992.250000  \n",
       "3    Census Tract 504, Whitley County, Indiana  13613.500000  \n",
       "4      Census Tract 302, Adams County, Indiana  11816.666667  \n",
       "..                                         ...           ...  \n",
       "520  Census Tract 1028, Wabash County, Indiana   7061.200000  \n",
       "521  Census Tract 305, Warrick County, Indiana   8687.000000  \n",
       "522  Census Tract 306, Warrick County, Indiana  11917.375000  \n",
       "523  Census Tract 308, Warrick County, Indiana  15117.700000  \n",
       "524  Census Tract 304, Warrick County, Indiana   9386.000000  \n",
       "\n",
       "[525 rows x 5 columns]"
      ]
     },
     "execution_count": 18,
     "metadata": {},
     "output_type": "execute_result"
    }
   ],
   "source": [
    "wage_data"
   ]
  },
  {
   "cell_type": "code",
   "execution_count": 19,
   "id": "323e91a6",
   "metadata": {
    "execution": {
     "iopub.execute_input": "2023-05-10T00:47:09.005779Z",
     "iopub.status.busy": "2023-05-10T00:47:09.005550Z",
     "iopub.status.idle": "2023-05-10T00:47:09.012753Z",
     "shell.execute_reply": "2023-05-10T00:47:09.012237Z"
    }
   },
   "outputs": [
    {
     "data": {
      "text/plain": [
       "525"
      ]
     },
     "execution_count": 19,
     "metadata": {},
     "output_type": "execute_result"
    }
   ],
   "source": [
    "len(set(relevant_unemployment_df['uu_id']))"
   ]
  },
  {
   "cell_type": "code",
   "execution_count": 20,
   "id": "c9881e65",
   "metadata": {
    "execution": {
     "iopub.execute_input": "2023-05-10T00:47:09.014924Z",
     "iopub.status.busy": "2023-05-10T00:47:09.014740Z",
     "iopub.status.idle": "2023-05-10T00:47:09.431240Z",
     "shell.execute_reply": "2023-05-10T00:47:09.430918Z"
    }
   },
   "outputs": [
    {
     "ename": "ValueError",
     "evalue": "columns overlap but no suffix specified: Index(['uu_id', 'countyfips', 'tract'], dtype='object')",
     "output_type": "error",
     "traceback": [
      "\u001b[0;31m---------------------------------------------------------------------------\u001b[0m",
      "\u001b[0;31mValueError\u001b[0m                                Traceback (most recent call last)",
      "Cell \u001b[0;32mIn [20], line 1\u001b[0m\n\u001b[0;32m----> 1\u001b[0m \u001b[43mrelevant_unemployment_df\u001b[49m\u001b[38;5;241;43m.\u001b[39;49m\u001b[43mjoin\u001b[49m\u001b[43m(\u001b[49m\u001b[43mwage_data\u001b[49m\u001b[43m,\u001b[49m\u001b[43m \u001b[49m\u001b[43mhow\u001b[49m\u001b[38;5;241;43m=\u001b[39;49m\u001b[38;5;124;43m'\u001b[39;49m\u001b[38;5;124;43mleft\u001b[39;49m\u001b[38;5;124;43m'\u001b[39;49m\u001b[43m,\u001b[49m\u001b[43m \u001b[49m\u001b[43mon\u001b[49m\u001b[38;5;241;43m=\u001b[39;49m\u001b[38;5;124;43m'\u001b[39;49m\u001b[38;5;124;43muu_id\u001b[39;49m\u001b[38;5;124;43m'\u001b[39;49m\u001b[43m)\u001b[49m\n",
      "File \u001b[0;32m/opt/homebrew/lib/python3.9/site-packages/pandas/core/frame.py:9966\u001b[0m, in \u001b[0;36mDataFrame.join\u001b[0;34m(self, other, on, how, lsuffix, rsuffix, sort, validate)\u001b[0m\n\u001b[1;32m   9803\u001b[0m \u001b[38;5;28;01mdef\u001b[39;00m \u001b[38;5;21mjoin\u001b[39m(\n\u001b[1;32m   9804\u001b[0m     \u001b[38;5;28mself\u001b[39m,\n\u001b[1;32m   9805\u001b[0m     other: DataFrame \u001b[38;5;241m|\u001b[39m Series \u001b[38;5;241m|\u001b[39m \u001b[38;5;28mlist\u001b[39m[DataFrame \u001b[38;5;241m|\u001b[39m Series],\n\u001b[0;32m   (...)\u001b[0m\n\u001b[1;32m   9811\u001b[0m     validate: \u001b[38;5;28mstr\u001b[39m \u001b[38;5;241m|\u001b[39m \u001b[38;5;28;01mNone\u001b[39;00m \u001b[38;5;241m=\u001b[39m \u001b[38;5;28;01mNone\u001b[39;00m,\n\u001b[1;32m   9812\u001b[0m ) \u001b[38;5;241m-\u001b[39m\u001b[38;5;241m>\u001b[39m DataFrame:\n\u001b[1;32m   9813\u001b[0m     \u001b[38;5;124;03m\"\"\"\u001b[39;00m\n\u001b[1;32m   9814\u001b[0m \u001b[38;5;124;03m    Join columns of another DataFrame.\u001b[39;00m\n\u001b[1;32m   9815\u001b[0m \n\u001b[0;32m   (...)\u001b[0m\n\u001b[1;32m   9964\u001b[0m \u001b[38;5;124;03m    5  K1  A5   B1\u001b[39;00m\n\u001b[1;32m   9965\u001b[0m \u001b[38;5;124;03m    \"\"\"\u001b[39;00m\n\u001b[0;32m-> 9966\u001b[0m     \u001b[38;5;28;01mreturn\u001b[39;00m \u001b[38;5;28;43mself\u001b[39;49m\u001b[38;5;241;43m.\u001b[39;49m\u001b[43m_join_compat\u001b[49m\u001b[43m(\u001b[49m\n\u001b[1;32m   9967\u001b[0m \u001b[43m        \u001b[49m\u001b[43mother\u001b[49m\u001b[43m,\u001b[49m\n\u001b[1;32m   9968\u001b[0m \u001b[43m        \u001b[49m\u001b[43mon\u001b[49m\u001b[38;5;241;43m=\u001b[39;49m\u001b[43mon\u001b[49m\u001b[43m,\u001b[49m\n\u001b[1;32m   9969\u001b[0m \u001b[43m        \u001b[49m\u001b[43mhow\u001b[49m\u001b[38;5;241;43m=\u001b[39;49m\u001b[43mhow\u001b[49m\u001b[43m,\u001b[49m\n\u001b[1;32m   9970\u001b[0m \u001b[43m        \u001b[49m\u001b[43mlsuffix\u001b[49m\u001b[38;5;241;43m=\u001b[39;49m\u001b[43mlsuffix\u001b[49m\u001b[43m,\u001b[49m\n\u001b[1;32m   9971\u001b[0m \u001b[43m        \u001b[49m\u001b[43mrsuffix\u001b[49m\u001b[38;5;241;43m=\u001b[39;49m\u001b[43mrsuffix\u001b[49m\u001b[43m,\u001b[49m\n\u001b[1;32m   9972\u001b[0m \u001b[43m        \u001b[49m\u001b[43msort\u001b[49m\u001b[38;5;241;43m=\u001b[39;49m\u001b[43msort\u001b[49m\u001b[43m,\u001b[49m\n\u001b[1;32m   9973\u001b[0m \u001b[43m        \u001b[49m\u001b[43mvalidate\u001b[49m\u001b[38;5;241;43m=\u001b[39;49m\u001b[43mvalidate\u001b[49m\u001b[43m,\u001b[49m\n\u001b[1;32m   9974\u001b[0m \u001b[43m    \u001b[49m\u001b[43m)\u001b[49m\n",
      "File \u001b[0;32m/opt/homebrew/lib/python3.9/site-packages/pandas/core/frame.py:10005\u001b[0m, in \u001b[0;36mDataFrame._join_compat\u001b[0;34m(self, other, on, how, lsuffix, rsuffix, sort, validate)\u001b[0m\n\u001b[1;32m   9995\u001b[0m     \u001b[38;5;28;01mif\u001b[39;00m how \u001b[38;5;241m==\u001b[39m \u001b[38;5;124m\"\u001b[39m\u001b[38;5;124mcross\u001b[39m\u001b[38;5;124m\"\u001b[39m:\n\u001b[1;32m   9996\u001b[0m         \u001b[38;5;28;01mreturn\u001b[39;00m merge(\n\u001b[1;32m   9997\u001b[0m             \u001b[38;5;28mself\u001b[39m,\n\u001b[1;32m   9998\u001b[0m             other,\n\u001b[0;32m   (...)\u001b[0m\n\u001b[1;32m  10003\u001b[0m             validate\u001b[38;5;241m=\u001b[39mvalidate,\n\u001b[1;32m  10004\u001b[0m         )\n\u001b[0;32m> 10005\u001b[0m     \u001b[38;5;28;01mreturn\u001b[39;00m \u001b[43mmerge\u001b[49m\u001b[43m(\u001b[49m\n\u001b[1;32m  10006\u001b[0m \u001b[43m        \u001b[49m\u001b[38;5;28;43mself\u001b[39;49m\u001b[43m,\u001b[49m\n\u001b[1;32m  10007\u001b[0m \u001b[43m        \u001b[49m\u001b[43mother\u001b[49m\u001b[43m,\u001b[49m\n\u001b[1;32m  10008\u001b[0m \u001b[43m        \u001b[49m\u001b[43mleft_on\u001b[49m\u001b[38;5;241;43m=\u001b[39;49m\u001b[43mon\u001b[49m\u001b[43m,\u001b[49m\n\u001b[1;32m  10009\u001b[0m \u001b[43m        \u001b[49m\u001b[43mhow\u001b[49m\u001b[38;5;241;43m=\u001b[39;49m\u001b[43mhow\u001b[49m\u001b[43m,\u001b[49m\n\u001b[1;32m  10010\u001b[0m \u001b[43m        \u001b[49m\u001b[43mleft_index\u001b[49m\u001b[38;5;241;43m=\u001b[39;49m\u001b[43mon\u001b[49m\u001b[43m \u001b[49m\u001b[38;5;129;43;01mis\u001b[39;49;00m\u001b[43m \u001b[49m\u001b[38;5;28;43;01mNone\u001b[39;49;00m\u001b[43m,\u001b[49m\n\u001b[1;32m  10011\u001b[0m \u001b[43m        \u001b[49m\u001b[43mright_index\u001b[49m\u001b[38;5;241;43m=\u001b[39;49m\u001b[38;5;28;43;01mTrue\u001b[39;49;00m\u001b[43m,\u001b[49m\n\u001b[1;32m  10012\u001b[0m \u001b[43m        \u001b[49m\u001b[43msuffixes\u001b[49m\u001b[38;5;241;43m=\u001b[39;49m\u001b[43m(\u001b[49m\u001b[43mlsuffix\u001b[49m\u001b[43m,\u001b[49m\u001b[43m \u001b[49m\u001b[43mrsuffix\u001b[49m\u001b[43m)\u001b[49m\u001b[43m,\u001b[49m\n\u001b[1;32m  10013\u001b[0m \u001b[43m        \u001b[49m\u001b[43msort\u001b[49m\u001b[38;5;241;43m=\u001b[39;49m\u001b[43msort\u001b[49m\u001b[43m,\u001b[49m\n\u001b[1;32m  10014\u001b[0m \u001b[43m        \u001b[49m\u001b[43mvalidate\u001b[49m\u001b[38;5;241;43m=\u001b[39;49m\u001b[43mvalidate\u001b[49m\u001b[43m,\u001b[49m\n\u001b[1;32m  10015\u001b[0m \u001b[43m    \u001b[49m\u001b[43m)\u001b[49m\n\u001b[1;32m  10016\u001b[0m \u001b[38;5;28;01melse\u001b[39;00m:\n\u001b[1;32m  10017\u001b[0m     \u001b[38;5;28;01mif\u001b[39;00m on \u001b[38;5;129;01mis\u001b[39;00m \u001b[38;5;129;01mnot\u001b[39;00m \u001b[38;5;28;01mNone\u001b[39;00m:\n",
      "File \u001b[0;32m/opt/homebrew/lib/python3.9/site-packages/pandas/core/reshape/merge.py:124\u001b[0m, in \u001b[0;36mmerge\u001b[0;34m(left, right, how, on, left_on, right_on, left_index, right_index, sort, suffixes, copy, indicator, validate)\u001b[0m\n\u001b[1;32m     93\u001b[0m \u001b[38;5;129m@Substitution\u001b[39m(\u001b[38;5;124m\"\u001b[39m\u001b[38;5;130;01m\\n\u001b[39;00m\u001b[38;5;124mleft : DataFrame or named Series\u001b[39m\u001b[38;5;124m\"\u001b[39m)\n\u001b[1;32m     94\u001b[0m \u001b[38;5;129m@Appender\u001b[39m(_merge_doc, indents\u001b[38;5;241m=\u001b[39m\u001b[38;5;241m0\u001b[39m)\n\u001b[1;32m     95\u001b[0m \u001b[38;5;28;01mdef\u001b[39;00m \u001b[38;5;21mmerge\u001b[39m(\n\u001b[0;32m   (...)\u001b[0m\n\u001b[1;32m    108\u001b[0m     validate: \u001b[38;5;28mstr\u001b[39m \u001b[38;5;241m|\u001b[39m \u001b[38;5;28;01mNone\u001b[39;00m \u001b[38;5;241m=\u001b[39m \u001b[38;5;28;01mNone\u001b[39;00m,\n\u001b[1;32m    109\u001b[0m ) \u001b[38;5;241m-\u001b[39m\u001b[38;5;241m>\u001b[39m DataFrame:\n\u001b[1;32m    110\u001b[0m     op \u001b[38;5;241m=\u001b[39m _MergeOperation(\n\u001b[1;32m    111\u001b[0m         left,\n\u001b[1;32m    112\u001b[0m         right,\n\u001b[0;32m   (...)\u001b[0m\n\u001b[1;32m    122\u001b[0m         validate\u001b[38;5;241m=\u001b[39mvalidate,\n\u001b[1;32m    123\u001b[0m     )\n\u001b[0;32m--> 124\u001b[0m     \u001b[38;5;28;01mreturn\u001b[39;00m \u001b[43mop\u001b[49m\u001b[38;5;241;43m.\u001b[39;49m\u001b[43mget_result\u001b[49m\u001b[43m(\u001b[49m\u001b[43mcopy\u001b[49m\u001b[38;5;241;43m=\u001b[39;49m\u001b[43mcopy\u001b[49m\u001b[43m)\u001b[49m\n",
      "File \u001b[0;32m/opt/homebrew/lib/python3.9/site-packages/pandas/core/reshape/merge.py:775\u001b[0m, in \u001b[0;36m_MergeOperation.get_result\u001b[0;34m(self, copy)\u001b[0m\n\u001b[1;32m    771\u001b[0m     \u001b[38;5;28mself\u001b[39m\u001b[38;5;241m.\u001b[39mleft, \u001b[38;5;28mself\u001b[39m\u001b[38;5;241m.\u001b[39mright \u001b[38;5;241m=\u001b[39m \u001b[38;5;28mself\u001b[39m\u001b[38;5;241m.\u001b[39m_indicator_pre_merge(\u001b[38;5;28mself\u001b[39m\u001b[38;5;241m.\u001b[39mleft, \u001b[38;5;28mself\u001b[39m\u001b[38;5;241m.\u001b[39mright)\n\u001b[1;32m    773\u001b[0m join_index, left_indexer, right_indexer \u001b[38;5;241m=\u001b[39m \u001b[38;5;28mself\u001b[39m\u001b[38;5;241m.\u001b[39m_get_join_info()\n\u001b[0;32m--> 775\u001b[0m result \u001b[38;5;241m=\u001b[39m \u001b[38;5;28;43mself\u001b[39;49m\u001b[38;5;241;43m.\u001b[39;49m\u001b[43m_reindex_and_concat\u001b[49m\u001b[43m(\u001b[49m\n\u001b[1;32m    776\u001b[0m \u001b[43m    \u001b[49m\u001b[43mjoin_index\u001b[49m\u001b[43m,\u001b[49m\u001b[43m \u001b[49m\u001b[43mleft_indexer\u001b[49m\u001b[43m,\u001b[49m\u001b[43m \u001b[49m\u001b[43mright_indexer\u001b[49m\u001b[43m,\u001b[49m\u001b[43m \u001b[49m\u001b[43mcopy\u001b[49m\u001b[38;5;241;43m=\u001b[39;49m\u001b[43mcopy\u001b[49m\n\u001b[1;32m    777\u001b[0m \u001b[43m\u001b[49m\u001b[43m)\u001b[49m\n\u001b[1;32m    778\u001b[0m result \u001b[38;5;241m=\u001b[39m result\u001b[38;5;241m.\u001b[39m__finalize__(\u001b[38;5;28mself\u001b[39m, method\u001b[38;5;241m=\u001b[39m\u001b[38;5;28mself\u001b[39m\u001b[38;5;241m.\u001b[39m_merge_type)\n\u001b[1;32m    780\u001b[0m \u001b[38;5;28;01mif\u001b[39;00m \u001b[38;5;28mself\u001b[39m\u001b[38;5;241m.\u001b[39mindicator:\n",
      "File \u001b[0;32m/opt/homebrew/lib/python3.9/site-packages/pandas/core/reshape/merge.py:729\u001b[0m, in \u001b[0;36m_MergeOperation._reindex_and_concat\u001b[0;34m(self, join_index, left_indexer, right_indexer, copy)\u001b[0m\n\u001b[1;32m    726\u001b[0m left \u001b[38;5;241m=\u001b[39m \u001b[38;5;28mself\u001b[39m\u001b[38;5;241m.\u001b[39mleft[:]\n\u001b[1;32m    727\u001b[0m right \u001b[38;5;241m=\u001b[39m \u001b[38;5;28mself\u001b[39m\u001b[38;5;241m.\u001b[39mright[:]\n\u001b[0;32m--> 729\u001b[0m llabels, rlabels \u001b[38;5;241m=\u001b[39m \u001b[43m_items_overlap_with_suffix\u001b[49m\u001b[43m(\u001b[49m\n\u001b[1;32m    730\u001b[0m \u001b[43m    \u001b[49m\u001b[38;5;28;43mself\u001b[39;49m\u001b[38;5;241;43m.\u001b[39;49m\u001b[43mleft\u001b[49m\u001b[38;5;241;43m.\u001b[39;49m\u001b[43m_info_axis\u001b[49m\u001b[43m,\u001b[49m\u001b[43m \u001b[49m\u001b[38;5;28;43mself\u001b[39;49m\u001b[38;5;241;43m.\u001b[39;49m\u001b[43mright\u001b[49m\u001b[38;5;241;43m.\u001b[39;49m\u001b[43m_info_axis\u001b[49m\u001b[43m,\u001b[49m\u001b[43m \u001b[49m\u001b[38;5;28;43mself\u001b[39;49m\u001b[38;5;241;43m.\u001b[39;49m\u001b[43msuffixes\u001b[49m\n\u001b[1;32m    731\u001b[0m \u001b[43m\u001b[49m\u001b[43m)\u001b[49m\n\u001b[1;32m    733\u001b[0m \u001b[38;5;28;01mif\u001b[39;00m left_indexer \u001b[38;5;129;01mis\u001b[39;00m \u001b[38;5;129;01mnot\u001b[39;00m \u001b[38;5;28;01mNone\u001b[39;00m:\n\u001b[1;32m    734\u001b[0m     \u001b[38;5;66;03m# Pinning the index here (and in the right code just below) is not\u001b[39;00m\n\u001b[1;32m    735\u001b[0m     \u001b[38;5;66;03m#  necessary, but makes the `.take` more performant if we have e.g.\u001b[39;00m\n\u001b[1;32m    736\u001b[0m     \u001b[38;5;66;03m#  a MultiIndex for left.index.\u001b[39;00m\n\u001b[1;32m    737\u001b[0m     lmgr \u001b[38;5;241m=\u001b[39m left\u001b[38;5;241m.\u001b[39m_mgr\u001b[38;5;241m.\u001b[39mreindex_indexer(\n\u001b[1;32m    738\u001b[0m         join_index,\n\u001b[1;32m    739\u001b[0m         left_indexer,\n\u001b[0;32m   (...)\u001b[0m\n\u001b[1;32m    744\u001b[0m         use_na_proxy\u001b[38;5;241m=\u001b[39m\u001b[38;5;28;01mTrue\u001b[39;00m,\n\u001b[1;32m    745\u001b[0m     )\n",
      "File \u001b[0;32m/opt/homebrew/lib/python3.9/site-packages/pandas/core/reshape/merge.py:2458\u001b[0m, in \u001b[0;36m_items_overlap_with_suffix\u001b[0;34m(left, right, suffixes)\u001b[0m\n\u001b[1;32m   2455\u001b[0m lsuffix, rsuffix \u001b[38;5;241m=\u001b[39m suffixes\n\u001b[1;32m   2457\u001b[0m \u001b[38;5;28;01mif\u001b[39;00m \u001b[38;5;129;01mnot\u001b[39;00m lsuffix \u001b[38;5;129;01mand\u001b[39;00m \u001b[38;5;129;01mnot\u001b[39;00m rsuffix:\n\u001b[0;32m-> 2458\u001b[0m     \u001b[38;5;28;01mraise\u001b[39;00m \u001b[38;5;167;01mValueError\u001b[39;00m(\u001b[38;5;124mf\u001b[39m\u001b[38;5;124m\"\u001b[39m\u001b[38;5;124mcolumns overlap but no suffix specified: \u001b[39m\u001b[38;5;132;01m{\u001b[39;00mto_rename\u001b[38;5;132;01m}\u001b[39;00m\u001b[38;5;124m\"\u001b[39m)\n\u001b[1;32m   2460\u001b[0m \u001b[38;5;28;01mdef\u001b[39;00m \u001b[38;5;21mrenamer\u001b[39m(x, suffix):\n\u001b[1;32m   2461\u001b[0m     \u001b[38;5;124;03m\"\"\"\u001b[39;00m\n\u001b[1;32m   2462\u001b[0m \u001b[38;5;124;03m    Rename the left and right indices.\u001b[39;00m\n\u001b[1;32m   2463\u001b[0m \n\u001b[0;32m   (...)\u001b[0m\n\u001b[1;32m   2474\u001b[0m \u001b[38;5;124;03m    x : renamed column name\u001b[39;00m\n\u001b[1;32m   2475\u001b[0m \u001b[38;5;124;03m    \"\"\"\u001b[39;00m\n",
      "\u001b[0;31mValueError\u001b[0m: columns overlap but no suffix specified: Index(['uu_id', 'countyfips', 'tract'], dtype='object')"
     ]
    }
   ],
   "source": [
    "relevant_unemployment_df.join(wage_data, how='left', on='uu_id')"
   ]
  },
  {
   "cell_type": "code",
   "execution_count": 21,
   "id": "a80ed50d",
   "metadata": {
    "execution": {
     "iopub.execute_input": "2023-05-10T00:47:09.432814Z",
     "iopub.status.busy": "2023-05-10T00:47:09.432701Z",
     "iopub.status.idle": "2023-05-10T00:47:09.435567Z",
     "shell.execute_reply": "2023-05-10T00:47:09.435346Z"
    }
   },
   "outputs": [],
   "source": [
    "relevant_unemployment_df['wage_data'] = relevant_unemployment_df['uu_id'].map(wage_data.set_index('uu_id')['average_wage'])"
   ]
  },
  {
   "cell_type": "code",
   "execution_count": 22,
   "id": "c86b7b81",
   "metadata": {
    "execution": {
     "iopub.execute_input": "2023-05-10T00:47:09.437001Z",
     "iopub.status.busy": "2023-05-10T00:47:09.436894Z",
     "iopub.status.idle": "2023-05-10T00:47:09.442623Z",
     "shell.execute_reply": "2023-05-10T00:47:09.442379Z"
    }
   },
   "outputs": [
    {
     "data": {
      "text/html": [
       "<div>\n",
       "<style scoped>\n",
       "    .dataframe tbody tr th:only-of-type {\n",
       "        vertical-align: middle;\n",
       "    }\n",
       "\n",
       "    .dataframe tbody tr th {\n",
       "        vertical-align: top;\n",
       "    }\n",
       "\n",
       "    .dataframe thead th {\n",
       "        text-align: right;\n",
       "    }\n",
       "</style>\n",
       "<table border=\"1\" class=\"dataframe\">\n",
       "  <thead>\n",
       "    <tr style=\"text-align: right;\">\n",
       "      <th></th>\n",
       "      <th>uu_id</th>\n",
       "      <th>week_number</th>\n",
       "      <th>countyfips</th>\n",
       "      <th>tract</th>\n",
       "      <th>total_claims</th>\n",
       "      <th>top_category_employer1</th>\n",
       "      <th>top_category_employer2</th>\n",
       "      <th>top_category_employer3</th>\n",
       "      <th>wage_data</th>\n",
       "    </tr>\n",
       "  </thead>\n",
       "  <tbody>\n",
       "    <tr>\n",
       "      <th>0</th>\n",
       "      <td>001cd9ae23064d7f0fd3cd327c873d8d</td>\n",
       "      <td>31</td>\n",
       "      <td>18099</td>\n",
       "      <td>20102</td>\n",
       "      <td>34</td>\n",
       "      <td>31-33</td>\n",
       "      <td>23</td>\n",
       "      <td>81</td>\n",
       "      <td>10484.333333</td>\n",
       "    </tr>\n",
       "    <tr>\n",
       "      <th>1</th>\n",
       "      <td>001cd9ae23064d7f0fd3cd327c873d8d</td>\n",
       "      <td>33</td>\n",
       "      <td>18099</td>\n",
       "      <td>20102</td>\n",
       "      <td>10</td>\n",
       "      <td>31-33</td>\n",
       "      <td>23</td>\n",
       "      <td>81</td>\n",
       "      <td>10484.333333</td>\n",
       "    </tr>\n",
       "    <tr>\n",
       "      <th>3</th>\n",
       "      <td>001cd9ae23064d7f0fd3cd327c873d8d</td>\n",
       "      <td>34</td>\n",
       "      <td>18099</td>\n",
       "      <td>20102</td>\n",
       "      <td>25</td>\n",
       "      <td>62</td>\n",
       "      <td>31-33</td>\n",
       "      <td>23</td>\n",
       "      <td>10484.333333</td>\n",
       "    </tr>\n",
       "    <tr>\n",
       "      <th>5</th>\n",
       "      <td>001cd9ae23064d7f0fd3cd327c873d8d</td>\n",
       "      <td>35</td>\n",
       "      <td>18099</td>\n",
       "      <td>20102</td>\n",
       "      <td>10</td>\n",
       "      <td>31-33</td>\n",
       "      <td>61</td>\n",
       "      <td>23</td>\n",
       "      <td>10484.333333</td>\n",
       "    </tr>\n",
       "    <tr>\n",
       "      <th>7</th>\n",
       "      <td>001cd9ae23064d7f0fd3cd327c873d8d</td>\n",
       "      <td>36</td>\n",
       "      <td>18099</td>\n",
       "      <td>20102</td>\n",
       "      <td>10</td>\n",
       "      <td>31-33</td>\n",
       "      <td>23</td>\n",
       "      <td>81</td>\n",
       "      <td>10484.333333</td>\n",
       "    </tr>\n",
       "    <tr>\n",
       "      <th>...</th>\n",
       "      <td>...</td>\n",
       "      <td>...</td>\n",
       "      <td>...</td>\n",
       "      <td>...</td>\n",
       "      <td>...</td>\n",
       "      <td>...</td>\n",
       "      <td>...</td>\n",
       "      <td>...</td>\n",
       "      <td>...</td>\n",
       "    </tr>\n",
       "    <tr>\n",
       "      <th>16823</th>\n",
       "      <td>fec479d0202d6e1e3f051a9ee902ff5d</td>\n",
       "      <td>33</td>\n",
       "      <td>18089</td>\n",
       "      <td>43300</td>\n",
       "      <td>59</td>\n",
       "      <td>62</td>\n",
       "      <td>23</td>\n",
       "      <td>31-33</td>\n",
       "      <td>9908.312500</td>\n",
       "    </tr>\n",
       "    <tr>\n",
       "      <th>16825</th>\n",
       "      <td>fec479d0202d6e1e3f051a9ee902ff5d</td>\n",
       "      <td>34</td>\n",
       "      <td>18089</td>\n",
       "      <td>43300</td>\n",
       "      <td>34</td>\n",
       "      <td>23</td>\n",
       "      <td>62</td>\n",
       "      <td>61</td>\n",
       "      <td>9908.312500</td>\n",
       "    </tr>\n",
       "    <tr>\n",
       "      <th>16827</th>\n",
       "      <td>fec479d0202d6e1e3f051a9ee902ff5d</td>\n",
       "      <td>35</td>\n",
       "      <td>18089</td>\n",
       "      <td>43300</td>\n",
       "      <td>27</td>\n",
       "      <td>62</td>\n",
       "      <td>23</td>\n",
       "      <td>72</td>\n",
       "      <td>9908.312500</td>\n",
       "    </tr>\n",
       "    <tr>\n",
       "      <th>16829</th>\n",
       "      <td>fec479d0202d6e1e3f051a9ee902ff5d</td>\n",
       "      <td>36</td>\n",
       "      <td>18089</td>\n",
       "      <td>43300</td>\n",
       "      <td>28</td>\n",
       "      <td>23</td>\n",
       "      <td>62</td>\n",
       "      <td>72</td>\n",
       "      <td>9908.312500</td>\n",
       "    </tr>\n",
       "    <tr>\n",
       "      <th>16831</th>\n",
       "      <td>fec479d0202d6e1e3f051a9ee902ff5d</td>\n",
       "      <td>37</td>\n",
       "      <td>18089</td>\n",
       "      <td>43300</td>\n",
       "      <td>28</td>\n",
       "      <td>62</td>\n",
       "      <td>23</td>\n",
       "      <td>72</td>\n",
       "      <td>9908.312500</td>\n",
       "    </tr>\n",
       "  </tbody>\n",
       "</table>\n",
       "<p>13977 rows × 9 columns</p>\n",
       "</div>"
      ],
      "text/plain": [
       "                                  uu_id  week_number countyfips  tract  \\\n",
       "0      001cd9ae23064d7f0fd3cd327c873d8d           31      18099  20102   \n",
       "1      001cd9ae23064d7f0fd3cd327c873d8d           33      18099  20102   \n",
       "3      001cd9ae23064d7f0fd3cd327c873d8d           34      18099  20102   \n",
       "5      001cd9ae23064d7f0fd3cd327c873d8d           35      18099  20102   \n",
       "7      001cd9ae23064d7f0fd3cd327c873d8d           36      18099  20102   \n",
       "...                                 ...          ...        ...    ...   \n",
       "16823  fec479d0202d6e1e3f051a9ee902ff5d           33      18089  43300   \n",
       "16825  fec479d0202d6e1e3f051a9ee902ff5d           34      18089  43300   \n",
       "16827  fec479d0202d6e1e3f051a9ee902ff5d           35      18089  43300   \n",
       "16829  fec479d0202d6e1e3f051a9ee902ff5d           36      18089  43300   \n",
       "16831  fec479d0202d6e1e3f051a9ee902ff5d           37      18089  43300   \n",
       "\n",
       "       total_claims top_category_employer1 top_category_employer2  \\\n",
       "0                34                  31-33                     23   \n",
       "1                10                  31-33                     23   \n",
       "3                25                     62                  31-33   \n",
       "5                10                  31-33                     61   \n",
       "7                10                  31-33                     23   \n",
       "...             ...                    ...                    ...   \n",
       "16823            59                     62                     23   \n",
       "16825            34                     23                     62   \n",
       "16827            27                     62                     23   \n",
       "16829            28                     23                     62   \n",
       "16831            28                     62                     23   \n",
       "\n",
       "      top_category_employer3     wage_data  \n",
       "0                         81  10484.333333  \n",
       "1                         81  10484.333333  \n",
       "3                         23  10484.333333  \n",
       "5                         23  10484.333333  \n",
       "7                         81  10484.333333  \n",
       "...                      ...           ...  \n",
       "16823                  31-33   9908.312500  \n",
       "16825                     61   9908.312500  \n",
       "16827                     72   9908.312500  \n",
       "16829                     72   9908.312500  \n",
       "16831                     72   9908.312500  \n",
       "\n",
       "[13977 rows x 9 columns]"
      ]
     },
     "execution_count": 22,
     "metadata": {},
     "output_type": "execute_result"
    }
   ],
   "source": [
    "relevant_unemployment_df"
   ]
  },
  {
   "cell_type": "code",
   "execution_count": 23,
   "id": "a4589a3f",
   "metadata": {
    "execution": {
     "iopub.execute_input": "2023-05-10T00:47:09.444050Z",
     "iopub.status.busy": "2023-05-10T00:47:09.443965Z",
     "iopub.status.idle": "2023-05-10T00:47:09.647019Z",
     "shell.execute_reply": "2023-05-10T00:47:09.646770Z"
    }
   },
   "outputs": [
    {
     "ename": "AttributeError",
     "evalue": "'DataFrame' object has no attribute 'order_by'",
     "output_type": "error",
     "traceback": [
      "\u001b[0;31m---------------------------------------------------------------------------\u001b[0m",
      "\u001b[0;31mAttributeError\u001b[0m                            Traceback (most recent call last)",
      "Cell \u001b[0;32mIn [23], line 1\u001b[0m\n\u001b[0;32m----> 1\u001b[0m \u001b[43mwage_data\u001b[49m\u001b[38;5;241;43m.\u001b[39;49m\u001b[43morder_by\u001b[49m(\u001b[38;5;124m'\u001b[39m\u001b[38;5;124muu_id\u001b[39m\u001b[38;5;124m'\u001b[39m)\n",
      "File \u001b[0;32m/opt/homebrew/lib/python3.9/site-packages/pandas/core/generic.py:5902\u001b[0m, in \u001b[0;36mNDFrame.__getattr__\u001b[0;34m(self, name)\u001b[0m\n\u001b[1;32m   5895\u001b[0m \u001b[38;5;28;01mif\u001b[39;00m (\n\u001b[1;32m   5896\u001b[0m     name \u001b[38;5;129;01mnot\u001b[39;00m \u001b[38;5;129;01min\u001b[39;00m \u001b[38;5;28mself\u001b[39m\u001b[38;5;241m.\u001b[39m_internal_names_set\n\u001b[1;32m   5897\u001b[0m     \u001b[38;5;129;01mand\u001b[39;00m name \u001b[38;5;129;01mnot\u001b[39;00m \u001b[38;5;129;01min\u001b[39;00m \u001b[38;5;28mself\u001b[39m\u001b[38;5;241m.\u001b[39m_metadata\n\u001b[1;32m   5898\u001b[0m     \u001b[38;5;129;01mand\u001b[39;00m name \u001b[38;5;129;01mnot\u001b[39;00m \u001b[38;5;129;01min\u001b[39;00m \u001b[38;5;28mself\u001b[39m\u001b[38;5;241m.\u001b[39m_accessors\n\u001b[1;32m   5899\u001b[0m     \u001b[38;5;129;01mand\u001b[39;00m \u001b[38;5;28mself\u001b[39m\u001b[38;5;241m.\u001b[39m_info_axis\u001b[38;5;241m.\u001b[39m_can_hold_identifiers_and_holds_name(name)\n\u001b[1;32m   5900\u001b[0m ):\n\u001b[1;32m   5901\u001b[0m     \u001b[38;5;28;01mreturn\u001b[39;00m \u001b[38;5;28mself\u001b[39m[name]\n\u001b[0;32m-> 5902\u001b[0m \u001b[38;5;28;01mreturn\u001b[39;00m \u001b[38;5;28;43mobject\u001b[39;49m\u001b[38;5;241;43m.\u001b[39;49m\u001b[38;5;21;43m__getattribute__\u001b[39;49m\u001b[43m(\u001b[49m\u001b[38;5;28;43mself\u001b[39;49m\u001b[43m,\u001b[49m\u001b[43m \u001b[49m\u001b[43mname\u001b[49m\u001b[43m)\u001b[49m\n",
      "\u001b[0;31mAttributeError\u001b[0m: 'DataFrame' object has no attribute 'order_by'"
     ]
    }
   ],
   "source": [
    "wage_data.order_by('uu_id')"
   ]
  },
  {
   "cell_type": "code",
   "execution_count": 24,
   "id": "75106ad0",
   "metadata": {
    "execution": {
     "iopub.execute_input": "2023-05-10T00:47:09.648544Z",
     "iopub.status.busy": "2023-05-10T00:47:09.648449Z",
     "iopub.status.idle": "2023-05-10T00:47:09.653682Z",
     "shell.execute_reply": "2023-05-10T00:47:09.653439Z"
    }
   },
   "outputs": [
    {
     "data": {
      "text/html": [
       "<div>\n",
       "<style scoped>\n",
       "    .dataframe tbody tr th:only-of-type {\n",
       "        vertical-align: middle;\n",
       "    }\n",
       "\n",
       "    .dataframe tbody tr th {\n",
       "        vertical-align: top;\n",
       "    }\n",
       "\n",
       "    .dataframe thead th {\n",
       "        text-align: right;\n",
       "    }\n",
       "</style>\n",
       "<table border=\"1\" class=\"dataframe\">\n",
       "  <thead>\n",
       "    <tr style=\"text-align: right;\">\n",
       "      <th></th>\n",
       "      <th>uu_id</th>\n",
       "      <th>countyfips</th>\n",
       "      <th>tract</th>\n",
       "      <th>tract_name</th>\n",
       "      <th>average_wage</th>\n",
       "    </tr>\n",
       "  </thead>\n",
       "  <tbody>\n",
       "    <tr>\n",
       "      <th>396</th>\n",
       "      <td>001cd9ae23064d7f0fd3cd327c873d8d</td>\n",
       "      <td>18099</td>\n",
       "      <td>20102</td>\n",
       "      <td>Census Tract 201.02, Marshall County, Indiana</td>\n",
       "      <td>10484.333333</td>\n",
       "    </tr>\n",
       "    <tr>\n",
       "      <th>82</th>\n",
       "      <td>005be9532fd717dc36d4be318fd9ad25</td>\n",
       "      <td>18039</td>\n",
       "      <td>802</td>\n",
       "      <td>Census Tract 8.02, Elkhart County, Indiana</td>\n",
       "      <td>22092.027027</td>\n",
       "    </tr>\n",
       "    <tr>\n",
       "      <th>189</th>\n",
       "      <td>007c1caccff1fbb3a0b8a10790f77141</td>\n",
       "      <td>18081</td>\n",
       "      <td>610900</td>\n",
       "      <td>Census Tract 6109, Johnson County, Indiana</td>\n",
       "      <td>8909.444444</td>\n",
       "    </tr>\n",
       "    <tr>\n",
       "      <th>248</th>\n",
       "      <td>009683350b175edfc6414d664e4ba873</td>\n",
       "      <td>18089</td>\n",
       "      <td>42801</td>\n",
       "      <td>Census Tract 428.01, Lake County, Indiana</td>\n",
       "      <td>16658.000000</td>\n",
       "    </tr>\n",
       "    <tr>\n",
       "      <th>362</th>\n",
       "      <td>00f962ce727b8dbbf20925abd5a253dd</td>\n",
       "      <td>18097</td>\n",
       "      <td>330900</td>\n",
       "      <td>Census Tract 3309, Marion County, Indiana</td>\n",
       "      <td>6953.882353</td>\n",
       "    </tr>\n",
       "    <tr>\n",
       "      <th>...</th>\n",
       "      <td>...</td>\n",
       "      <td>...</td>\n",
       "      <td>...</td>\n",
       "      <td>...</td>\n",
       "      <td>...</td>\n",
       "    </tr>\n",
       "    <tr>\n",
       "      <th>310</th>\n",
       "      <td>fcf9f3effa992cfd552696e4ae7219b6</td>\n",
       "      <td>18097</td>\n",
       "      <td>330103</td>\n",
       "      <td>Census Tract 3301.03, Marion County, Indiana</td>\n",
       "      <td>18272.333333</td>\n",
       "    </tr>\n",
       "    <tr>\n",
       "      <th>493</th>\n",
       "      <td>fcfc60d8240e5a51f878fd92e2a352a3</td>\n",
       "      <td>18157</td>\n",
       "      <td>1300</td>\n",
       "      <td>Census Tract 13, Tippecanoe County, Indiana</td>\n",
       "      <td>11224.545455</td>\n",
       "    </tr>\n",
       "    <tr>\n",
       "      <th>22</th>\n",
       "      <td>fd613eba867c6ad7350a937f743b88f2</td>\n",
       "      <td>18003</td>\n",
       "      <td>11304</td>\n",
       "      <td>Census Tract 113.04, Allen County, Indiana</td>\n",
       "      <td>9753.375000</td>\n",
       "    </tr>\n",
       "    <tr>\n",
       "      <th>105</th>\n",
       "      <td>fe355ff27aa8b2242a558d5e3ec99c18</td>\n",
       "      <td>18053</td>\n",
       "      <td>600</td>\n",
       "      <td>Census Tract 6, Grant County, Indiana</td>\n",
       "      <td>5365.800000</td>\n",
       "    </tr>\n",
       "    <tr>\n",
       "      <th>241</th>\n",
       "      <td>fec479d0202d6e1e3f051a9ee902ff5d</td>\n",
       "      <td>18089</td>\n",
       "      <td>43300</td>\n",
       "      <td>Census Tract 433, Lake County, Indiana</td>\n",
       "      <td>9908.312500</td>\n",
       "    </tr>\n",
       "  </tbody>\n",
       "</table>\n",
       "<p>525 rows × 5 columns</p>\n",
       "</div>"
      ],
      "text/plain": [
       "                                uu_id  countyfips   tract  \\\n",
       "396  001cd9ae23064d7f0fd3cd327c873d8d       18099   20102   \n",
       "82   005be9532fd717dc36d4be318fd9ad25       18039     802   \n",
       "189  007c1caccff1fbb3a0b8a10790f77141       18081  610900   \n",
       "248  009683350b175edfc6414d664e4ba873       18089   42801   \n",
       "362  00f962ce727b8dbbf20925abd5a253dd       18097  330900   \n",
       "..                                ...         ...     ...   \n",
       "310  fcf9f3effa992cfd552696e4ae7219b6       18097  330103   \n",
       "493  fcfc60d8240e5a51f878fd92e2a352a3       18157    1300   \n",
       "22   fd613eba867c6ad7350a937f743b88f2       18003   11304   \n",
       "105  fe355ff27aa8b2242a558d5e3ec99c18       18053     600   \n",
       "241  fec479d0202d6e1e3f051a9ee902ff5d       18089   43300   \n",
       "\n",
       "                                        tract_name  average_wage  \n",
       "396  Census Tract 201.02, Marshall County, Indiana  10484.333333  \n",
       "82      Census Tract 8.02, Elkhart County, Indiana  22092.027027  \n",
       "189     Census Tract 6109, Johnson County, Indiana   8909.444444  \n",
       "248      Census Tract 428.01, Lake County, Indiana  16658.000000  \n",
       "362      Census Tract 3309, Marion County, Indiana   6953.882353  \n",
       "..                                             ...           ...  \n",
       "310   Census Tract 3301.03, Marion County, Indiana  18272.333333  \n",
       "493    Census Tract 13, Tippecanoe County, Indiana  11224.545455  \n",
       "22      Census Tract 113.04, Allen County, Indiana   9753.375000  \n",
       "105          Census Tract 6, Grant County, Indiana   5365.800000  \n",
       "241         Census Tract 433, Lake County, Indiana   9908.312500  \n",
       "\n",
       "[525 rows x 5 columns]"
      ]
     },
     "execution_count": 24,
     "metadata": {},
     "output_type": "execute_result"
    }
   ],
   "source": [
    "wage_data.sort_values('uu_id')"
   ]
  },
  {
   "cell_type": "code",
   "execution_count": 25,
   "id": "a2c583ed",
   "metadata": {
    "execution": {
     "iopub.execute_input": "2023-05-10T00:47:09.655095Z",
     "iopub.status.busy": "2023-05-10T00:47:09.655005Z",
     "iopub.status.idle": "2023-05-10T00:47:09.660354Z",
     "shell.execute_reply": "2023-05-10T00:47:09.660104Z"
    }
   },
   "outputs": [
    {
     "name": "stdout",
     "output_type": "stream",
     "text": [
      "<class 'pandas.core.frame.DataFrame'>\n",
      "Int64Index: 13977 entries, 0 to 16831\n",
      "Data columns (total 9 columns):\n",
      " #   Column                  Non-Null Count  Dtype  \n",
      "---  ------                  --------------  -----  \n",
      " 0   uu_id                   13977 non-null  string \n",
      " 1   week_number             13977 non-null  Int64  \n",
      " 2   countyfips              13977 non-null  string \n",
      " 3   tract                   13977 non-null  string \n",
      " 4   total_claims            13977 non-null  Int64  \n",
      " 5   top_category_employer1  13977 non-null  string \n",
      " 6   top_category_employer2  13977 non-null  string \n",
      " 7   top_category_employer3  13977 non-null  string \n",
      " 8   wage_data               13977 non-null  float64\n",
      "dtypes: Int64(2), float64(1), string(6)\n",
      "memory usage: 1.1 MB\n"
     ]
    }
   ],
   "source": [
    "relevant_unemployment_df.info()"
   ]
  },
  {
   "cell_type": "code",
   "execution_count": 26,
   "id": "6fe7dfa1",
   "metadata": {
    "execution": {
     "iopub.execute_input": "2023-05-10T00:47:09.661749Z",
     "iopub.status.busy": "2023-05-10T00:47:09.661670Z",
     "iopub.status.idle": "2023-05-10T00:47:09.668283Z",
     "shell.execute_reply": "2023-05-10T00:47:09.668036Z"
    }
   },
   "outputs": [
    {
     "data": {
      "text/html": [
       "<div>\n",
       "<style scoped>\n",
       "    .dataframe tbody tr th:only-of-type {\n",
       "        vertical-align: middle;\n",
       "    }\n",
       "\n",
       "    .dataframe tbody tr th {\n",
       "        vertical-align: top;\n",
       "    }\n",
       "\n",
       "    .dataframe thead th {\n",
       "        text-align: right;\n",
       "    }\n",
       "</style>\n",
       "<table border=\"1\" class=\"dataframe\">\n",
       "  <thead>\n",
       "    <tr style=\"text-align: right;\">\n",
       "      <th></th>\n",
       "      <th>uu_id</th>\n",
       "      <th>week_number</th>\n",
       "      <th>countyfips</th>\n",
       "      <th>tract</th>\n",
       "      <th>total_claims</th>\n",
       "      <th>top_category_employer1</th>\n",
       "      <th>top_category_employer2</th>\n",
       "      <th>top_category_employer3</th>\n",
       "      <th>wage_data</th>\n",
       "    </tr>\n",
       "  </thead>\n",
       "  <tbody>\n",
       "    <tr>\n",
       "      <th>0</th>\n",
       "      <td>False</td>\n",
       "      <td>False</td>\n",
       "      <td>False</td>\n",
       "      <td>False</td>\n",
       "      <td>False</td>\n",
       "      <td>False</td>\n",
       "      <td>False</td>\n",
       "      <td>False</td>\n",
       "      <td>False</td>\n",
       "    </tr>\n",
       "    <tr>\n",
       "      <th>1</th>\n",
       "      <td>False</td>\n",
       "      <td>False</td>\n",
       "      <td>False</td>\n",
       "      <td>False</td>\n",
       "      <td>False</td>\n",
       "      <td>False</td>\n",
       "      <td>False</td>\n",
       "      <td>False</td>\n",
       "      <td>False</td>\n",
       "    </tr>\n",
       "    <tr>\n",
       "      <th>3</th>\n",
       "      <td>False</td>\n",
       "      <td>False</td>\n",
       "      <td>False</td>\n",
       "      <td>False</td>\n",
       "      <td>False</td>\n",
       "      <td>False</td>\n",
       "      <td>False</td>\n",
       "      <td>False</td>\n",
       "      <td>False</td>\n",
       "    </tr>\n",
       "    <tr>\n",
       "      <th>5</th>\n",
       "      <td>False</td>\n",
       "      <td>False</td>\n",
       "      <td>False</td>\n",
       "      <td>False</td>\n",
       "      <td>False</td>\n",
       "      <td>False</td>\n",
       "      <td>False</td>\n",
       "      <td>False</td>\n",
       "      <td>False</td>\n",
       "    </tr>\n",
       "    <tr>\n",
       "      <th>7</th>\n",
       "      <td>False</td>\n",
       "      <td>False</td>\n",
       "      <td>False</td>\n",
       "      <td>False</td>\n",
       "      <td>False</td>\n",
       "      <td>False</td>\n",
       "      <td>False</td>\n",
       "      <td>False</td>\n",
       "      <td>False</td>\n",
       "    </tr>\n",
       "    <tr>\n",
       "      <th>...</th>\n",
       "      <td>...</td>\n",
       "      <td>...</td>\n",
       "      <td>...</td>\n",
       "      <td>...</td>\n",
       "      <td>...</td>\n",
       "      <td>...</td>\n",
       "      <td>...</td>\n",
       "      <td>...</td>\n",
       "      <td>...</td>\n",
       "    </tr>\n",
       "    <tr>\n",
       "      <th>16823</th>\n",
       "      <td>False</td>\n",
       "      <td>False</td>\n",
       "      <td>False</td>\n",
       "      <td>False</td>\n",
       "      <td>False</td>\n",
       "      <td>False</td>\n",
       "      <td>False</td>\n",
       "      <td>False</td>\n",
       "      <td>False</td>\n",
       "    </tr>\n",
       "    <tr>\n",
       "      <th>16825</th>\n",
       "      <td>False</td>\n",
       "      <td>False</td>\n",
       "      <td>False</td>\n",
       "      <td>False</td>\n",
       "      <td>False</td>\n",
       "      <td>False</td>\n",
       "      <td>False</td>\n",
       "      <td>False</td>\n",
       "      <td>False</td>\n",
       "    </tr>\n",
       "    <tr>\n",
       "      <th>16827</th>\n",
       "      <td>False</td>\n",
       "      <td>False</td>\n",
       "      <td>False</td>\n",
       "      <td>False</td>\n",
       "      <td>False</td>\n",
       "      <td>False</td>\n",
       "      <td>False</td>\n",
       "      <td>False</td>\n",
       "      <td>False</td>\n",
       "    </tr>\n",
       "    <tr>\n",
       "      <th>16829</th>\n",
       "      <td>False</td>\n",
       "      <td>False</td>\n",
       "      <td>False</td>\n",
       "      <td>False</td>\n",
       "      <td>False</td>\n",
       "      <td>False</td>\n",
       "      <td>False</td>\n",
       "      <td>False</td>\n",
       "      <td>False</td>\n",
       "    </tr>\n",
       "    <tr>\n",
       "      <th>16831</th>\n",
       "      <td>False</td>\n",
       "      <td>False</td>\n",
       "      <td>False</td>\n",
       "      <td>False</td>\n",
       "      <td>False</td>\n",
       "      <td>False</td>\n",
       "      <td>False</td>\n",
       "      <td>False</td>\n",
       "      <td>False</td>\n",
       "    </tr>\n",
       "  </tbody>\n",
       "</table>\n",
       "<p>13977 rows × 9 columns</p>\n",
       "</div>"
      ],
      "text/plain": [
       "       uu_id  week_number  countyfips  tract  total_claims  \\\n",
       "0      False        False       False  False         False   \n",
       "1      False        False       False  False         False   \n",
       "3      False        False       False  False         False   \n",
       "5      False        False       False  False         False   \n",
       "7      False        False       False  False         False   \n",
       "...      ...          ...         ...    ...           ...   \n",
       "16823  False        False       False  False         False   \n",
       "16825  False        False       False  False         False   \n",
       "16827  False        False       False  False         False   \n",
       "16829  False        False       False  False         False   \n",
       "16831  False        False       False  False         False   \n",
       "\n",
       "       top_category_employer1  top_category_employer2  top_category_employer3  \\\n",
       "0                       False                   False                   False   \n",
       "1                       False                   False                   False   \n",
       "3                       False                   False                   False   \n",
       "5                       False                   False                   False   \n",
       "7                       False                   False                   False   \n",
       "...                       ...                     ...                     ...   \n",
       "16823                   False                   False                   False   \n",
       "16825                   False                   False                   False   \n",
       "16827                   False                   False                   False   \n",
       "16829                   False                   False                   False   \n",
       "16831                   False                   False                   False   \n",
       "\n",
       "       wage_data  \n",
       "0          False  \n",
       "1          False  \n",
       "3          False  \n",
       "5          False  \n",
       "7          False  \n",
       "...          ...  \n",
       "16823      False  \n",
       "16825      False  \n",
       "16827      False  \n",
       "16829      False  \n",
       "16831      False  \n",
       "\n",
       "[13977 rows x 9 columns]"
      ]
     },
     "execution_count": 26,
     "metadata": {},
     "output_type": "execute_result"
    }
   ],
   "source": [
    "relevant_unemployment_df.isna()"
   ]
  },
  {
   "cell_type": "code",
   "execution_count": 27,
   "id": "433f3ec8",
   "metadata": {
    "execution": {
     "iopub.execute_input": "2023-05-10T00:47:09.669673Z",
     "iopub.status.busy": "2023-05-10T00:47:09.669590Z",
     "iopub.status.idle": "2023-05-10T00:47:09.681763Z",
     "shell.execute_reply": "2023-05-10T00:47:09.681481Z"
    }
   },
   "outputs": [
    {
     "data": {
      "text/html": [
       "<div>\n",
       "<style scoped>\n",
       "    .dataframe tbody tr th:only-of-type {\n",
       "        vertical-align: middle;\n",
       "    }\n",
       "\n",
       "    .dataframe tbody tr th {\n",
       "        vertical-align: top;\n",
       "    }\n",
       "\n",
       "    .dataframe thead th {\n",
       "        text-align: right;\n",
       "    }\n",
       "</style>\n",
       "<table border=\"1\" class=\"dataframe\">\n",
       "  <thead>\n",
       "    <tr style=\"text-align: right;\">\n",
       "      <th></th>\n",
       "      <th>uu_id</th>\n",
       "      <th>week_number</th>\n",
       "      <th>countyfips</th>\n",
       "      <th>tract</th>\n",
       "      <th>total_claims</th>\n",
       "      <th>top_category_employer1</th>\n",
       "      <th>top_category_employer2</th>\n",
       "      <th>top_category_employer3</th>\n",
       "      <th>wage_data</th>\n",
       "    </tr>\n",
       "  </thead>\n",
       "  <tbody>\n",
       "    <tr>\n",
       "      <th>0</th>\n",
       "      <td>&lt;NA&gt;</td>\n",
       "      <td>&lt;NA&gt;</td>\n",
       "      <td>&lt;NA&gt;</td>\n",
       "      <td>&lt;NA&gt;</td>\n",
       "      <td>&lt;NA&gt;</td>\n",
       "      <td>&lt;NA&gt;</td>\n",
       "      <td>&lt;NA&gt;</td>\n",
       "      <td>&lt;NA&gt;</td>\n",
       "      <td>NaN</td>\n",
       "    </tr>\n",
       "    <tr>\n",
       "      <th>1</th>\n",
       "      <td>&lt;NA&gt;</td>\n",
       "      <td>&lt;NA&gt;</td>\n",
       "      <td>&lt;NA&gt;</td>\n",
       "      <td>&lt;NA&gt;</td>\n",
       "      <td>&lt;NA&gt;</td>\n",
       "      <td>&lt;NA&gt;</td>\n",
       "      <td>&lt;NA&gt;</td>\n",
       "      <td>&lt;NA&gt;</td>\n",
       "      <td>NaN</td>\n",
       "    </tr>\n",
       "    <tr>\n",
       "      <th>3</th>\n",
       "      <td>&lt;NA&gt;</td>\n",
       "      <td>&lt;NA&gt;</td>\n",
       "      <td>&lt;NA&gt;</td>\n",
       "      <td>&lt;NA&gt;</td>\n",
       "      <td>&lt;NA&gt;</td>\n",
       "      <td>&lt;NA&gt;</td>\n",
       "      <td>&lt;NA&gt;</td>\n",
       "      <td>&lt;NA&gt;</td>\n",
       "      <td>NaN</td>\n",
       "    </tr>\n",
       "    <tr>\n",
       "      <th>5</th>\n",
       "      <td>&lt;NA&gt;</td>\n",
       "      <td>&lt;NA&gt;</td>\n",
       "      <td>&lt;NA&gt;</td>\n",
       "      <td>&lt;NA&gt;</td>\n",
       "      <td>&lt;NA&gt;</td>\n",
       "      <td>&lt;NA&gt;</td>\n",
       "      <td>&lt;NA&gt;</td>\n",
       "      <td>&lt;NA&gt;</td>\n",
       "      <td>NaN</td>\n",
       "    </tr>\n",
       "    <tr>\n",
       "      <th>7</th>\n",
       "      <td>&lt;NA&gt;</td>\n",
       "      <td>&lt;NA&gt;</td>\n",
       "      <td>&lt;NA&gt;</td>\n",
       "      <td>&lt;NA&gt;</td>\n",
       "      <td>&lt;NA&gt;</td>\n",
       "      <td>&lt;NA&gt;</td>\n",
       "      <td>&lt;NA&gt;</td>\n",
       "      <td>&lt;NA&gt;</td>\n",
       "      <td>NaN</td>\n",
       "    </tr>\n",
       "    <tr>\n",
       "      <th>...</th>\n",
       "      <td>...</td>\n",
       "      <td>...</td>\n",
       "      <td>...</td>\n",
       "      <td>...</td>\n",
       "      <td>...</td>\n",
       "      <td>...</td>\n",
       "      <td>...</td>\n",
       "      <td>...</td>\n",
       "      <td>...</td>\n",
       "    </tr>\n",
       "    <tr>\n",
       "      <th>16823</th>\n",
       "      <td>&lt;NA&gt;</td>\n",
       "      <td>&lt;NA&gt;</td>\n",
       "      <td>&lt;NA&gt;</td>\n",
       "      <td>&lt;NA&gt;</td>\n",
       "      <td>&lt;NA&gt;</td>\n",
       "      <td>&lt;NA&gt;</td>\n",
       "      <td>&lt;NA&gt;</td>\n",
       "      <td>&lt;NA&gt;</td>\n",
       "      <td>NaN</td>\n",
       "    </tr>\n",
       "    <tr>\n",
       "      <th>16825</th>\n",
       "      <td>&lt;NA&gt;</td>\n",
       "      <td>&lt;NA&gt;</td>\n",
       "      <td>&lt;NA&gt;</td>\n",
       "      <td>&lt;NA&gt;</td>\n",
       "      <td>&lt;NA&gt;</td>\n",
       "      <td>&lt;NA&gt;</td>\n",
       "      <td>&lt;NA&gt;</td>\n",
       "      <td>&lt;NA&gt;</td>\n",
       "      <td>NaN</td>\n",
       "    </tr>\n",
       "    <tr>\n",
       "      <th>16827</th>\n",
       "      <td>&lt;NA&gt;</td>\n",
       "      <td>&lt;NA&gt;</td>\n",
       "      <td>&lt;NA&gt;</td>\n",
       "      <td>&lt;NA&gt;</td>\n",
       "      <td>&lt;NA&gt;</td>\n",
       "      <td>&lt;NA&gt;</td>\n",
       "      <td>&lt;NA&gt;</td>\n",
       "      <td>&lt;NA&gt;</td>\n",
       "      <td>NaN</td>\n",
       "    </tr>\n",
       "    <tr>\n",
       "      <th>16829</th>\n",
       "      <td>&lt;NA&gt;</td>\n",
       "      <td>&lt;NA&gt;</td>\n",
       "      <td>&lt;NA&gt;</td>\n",
       "      <td>&lt;NA&gt;</td>\n",
       "      <td>&lt;NA&gt;</td>\n",
       "      <td>&lt;NA&gt;</td>\n",
       "      <td>&lt;NA&gt;</td>\n",
       "      <td>&lt;NA&gt;</td>\n",
       "      <td>NaN</td>\n",
       "    </tr>\n",
       "    <tr>\n",
       "      <th>16831</th>\n",
       "      <td>&lt;NA&gt;</td>\n",
       "      <td>&lt;NA&gt;</td>\n",
       "      <td>&lt;NA&gt;</td>\n",
       "      <td>&lt;NA&gt;</td>\n",
       "      <td>&lt;NA&gt;</td>\n",
       "      <td>&lt;NA&gt;</td>\n",
       "      <td>&lt;NA&gt;</td>\n",
       "      <td>&lt;NA&gt;</td>\n",
       "      <td>NaN</td>\n",
       "    </tr>\n",
       "  </tbody>\n",
       "</table>\n",
       "<p>13977 rows × 9 columns</p>\n",
       "</div>"
      ],
      "text/plain": [
       "      uu_id  week_number countyfips tract  total_claims  \\\n",
       "0      <NA>         <NA>       <NA>  <NA>          <NA>   \n",
       "1      <NA>         <NA>       <NA>  <NA>          <NA>   \n",
       "3      <NA>         <NA>       <NA>  <NA>          <NA>   \n",
       "5      <NA>         <NA>       <NA>  <NA>          <NA>   \n",
       "7      <NA>         <NA>       <NA>  <NA>          <NA>   \n",
       "...     ...          ...        ...   ...           ...   \n",
       "16823  <NA>         <NA>       <NA>  <NA>          <NA>   \n",
       "16825  <NA>         <NA>       <NA>  <NA>          <NA>   \n",
       "16827  <NA>         <NA>       <NA>  <NA>          <NA>   \n",
       "16829  <NA>         <NA>       <NA>  <NA>          <NA>   \n",
       "16831  <NA>         <NA>       <NA>  <NA>          <NA>   \n",
       "\n",
       "      top_category_employer1 top_category_employer2 top_category_employer3  \\\n",
       "0                       <NA>                   <NA>                   <NA>   \n",
       "1                       <NA>                   <NA>                   <NA>   \n",
       "3                       <NA>                   <NA>                   <NA>   \n",
       "5                       <NA>                   <NA>                   <NA>   \n",
       "7                       <NA>                   <NA>                   <NA>   \n",
       "...                      ...                    ...                    ...   \n",
       "16823                   <NA>                   <NA>                   <NA>   \n",
       "16825                   <NA>                   <NA>                   <NA>   \n",
       "16827                   <NA>                   <NA>                   <NA>   \n",
       "16829                   <NA>                   <NA>                   <NA>   \n",
       "16831                   <NA>                   <NA>                   <NA>   \n",
       "\n",
       "       wage_data  \n",
       "0            NaN  \n",
       "1            NaN  \n",
       "3            NaN  \n",
       "5            NaN  \n",
       "7            NaN  \n",
       "...          ...  \n",
       "16823        NaN  \n",
       "16825        NaN  \n",
       "16827        NaN  \n",
       "16829        NaN  \n",
       "16831        NaN  \n",
       "\n",
       "[13977 rows x 9 columns]"
      ]
     },
     "execution_count": 27,
     "metadata": {},
     "output_type": "execute_result"
    }
   ],
   "source": [
    "relevant_unemployment_df[relevant_unemployment_df.isna()]"
   ]
  },
  {
   "cell_type": "code",
   "execution_count": 28,
   "id": "cb2e9b81",
   "metadata": {
    "execution": {
     "iopub.execute_input": "2023-05-10T00:47:09.683201Z",
     "iopub.status.busy": "2023-05-10T00:47:09.683115Z",
     "iopub.status.idle": "2023-05-10T00:47:09.686444Z",
     "shell.execute_reply": "2023-05-10T00:47:09.686191Z"
    }
   },
   "outputs": [
    {
     "data": {
      "text/html": [
       "<div>\n",
       "<style scoped>\n",
       "    .dataframe tbody tr th:only-of-type {\n",
       "        vertical-align: middle;\n",
       "    }\n",
       "\n",
       "    .dataframe tbody tr th {\n",
       "        vertical-align: top;\n",
       "    }\n",
       "\n",
       "    .dataframe thead th {\n",
       "        text-align: right;\n",
       "    }\n",
       "</style>\n",
       "<table border=\"1\" class=\"dataframe\">\n",
       "  <thead>\n",
       "    <tr style=\"text-align: right;\">\n",
       "      <th></th>\n",
       "      <th>uu_id</th>\n",
       "      <th>week_number</th>\n",
       "      <th>countyfips</th>\n",
       "      <th>tract</th>\n",
       "      <th>total_claims</th>\n",
       "      <th>top_category_employer1</th>\n",
       "      <th>top_category_employer2</th>\n",
       "      <th>top_category_employer3</th>\n",
       "      <th>wage_data</th>\n",
       "    </tr>\n",
       "  </thead>\n",
       "  <tbody>\n",
       "  </tbody>\n",
       "</table>\n",
       "</div>"
      ],
      "text/plain": [
       "Empty DataFrame\n",
       "Columns: [uu_id, week_number, countyfips, tract, total_claims, top_category_employer1, top_category_employer2, top_category_employer3, wage_data]\n",
       "Index: []"
      ]
     },
     "execution_count": 28,
     "metadata": {},
     "output_type": "execute_result"
    }
   ],
   "source": [
    "relevant_unemployment_df.loc[relevant_unemployment_df['wage_data'].isna()]"
   ]
  },
  {
   "cell_type": "code",
   "execution_count": 29,
   "id": "1e969f49",
   "metadata": {
    "execution": {
     "iopub.execute_input": "2023-05-10T00:47:09.687878Z",
     "iopub.status.busy": "2023-05-10T00:47:09.687793Z",
     "iopub.status.idle": "2023-05-10T00:47:09.691764Z",
     "shell.execute_reply": "2023-05-10T00:47:09.691533Z"
    }
   },
   "outputs": [
    {
     "data": {
      "text/html": [
       "<div>\n",
       "<style scoped>\n",
       "    .dataframe tbody tr th:only-of-type {\n",
       "        vertical-align: middle;\n",
       "    }\n",
       "\n",
       "    .dataframe tbody tr th {\n",
       "        vertical-align: top;\n",
       "    }\n",
       "\n",
       "    .dataframe thead th {\n",
       "        text-align: right;\n",
       "    }\n",
       "</style>\n",
       "<table border=\"1\" class=\"dataframe\">\n",
       "  <thead>\n",
       "    <tr style=\"text-align: right;\">\n",
       "      <th></th>\n",
       "      <th>uu_id</th>\n",
       "      <th>week_number</th>\n",
       "      <th>countyfips</th>\n",
       "      <th>tract</th>\n",
       "      <th>total_claims</th>\n",
       "      <th>top_category_employer1</th>\n",
       "      <th>top_category_employer2</th>\n",
       "      <th>top_category_employer3</th>\n",
       "      <th>wage_data</th>\n",
       "    </tr>\n",
       "  </thead>\n",
       "  <tbody>\n",
       "  </tbody>\n",
       "</table>\n",
       "</div>"
      ],
      "text/plain": [
       "Empty DataFrame\n",
       "Columns: [uu_id, week_number, countyfips, tract, total_claims, top_category_employer1, top_category_employer2, top_category_employer3, wage_data]\n",
       "Index: []"
      ]
     },
     "execution_count": 29,
     "metadata": {},
     "output_type": "execute_result"
    }
   ],
   "source": [
    "relevant_unemployment_df.loc[relevant_unemployment_df['uu_id'] == \"a5c6dcff737e183f7931b472f10c3235\"]"
   ]
  },
  {
   "cell_type": "code",
   "execution_count": 30,
   "id": "33758ef3",
   "metadata": {
    "execution": {
     "iopub.execute_input": "2023-05-10T00:47:09.693091Z",
     "iopub.status.busy": "2023-05-10T00:47:09.693010Z",
     "iopub.status.idle": "2023-05-10T00:47:09.696258Z",
     "shell.execute_reply": "2023-05-10T00:47:09.696007Z"
    }
   },
   "outputs": [
    {
     "data": {
      "text/html": [
       "<div>\n",
       "<style scoped>\n",
       "    .dataframe tbody tr th:only-of-type {\n",
       "        vertical-align: middle;\n",
       "    }\n",
       "\n",
       "    .dataframe tbody tr th {\n",
       "        vertical-align: top;\n",
       "    }\n",
       "\n",
       "    .dataframe thead th {\n",
       "        text-align: right;\n",
       "    }\n",
       "</style>\n",
       "<table border=\"1\" class=\"dataframe\">\n",
       "  <thead>\n",
       "    <tr style=\"text-align: right;\">\n",
       "      <th></th>\n",
       "      <th>uu_id</th>\n",
       "      <th>week_number</th>\n",
       "      <th>countyfips</th>\n",
       "      <th>tract</th>\n",
       "      <th>total_claims</th>\n",
       "      <th>top_category_employer1</th>\n",
       "      <th>top_category_employer2</th>\n",
       "      <th>top_category_employer3</th>\n",
       "      <th>wage_data</th>\n",
       "    </tr>\n",
       "  </thead>\n",
       "  <tbody>\n",
       "  </tbody>\n",
       "</table>\n",
       "</div>"
      ],
      "text/plain": [
       "Empty DataFrame\n",
       "Columns: [uu_id, week_number, countyfips, tract, total_claims, top_category_employer1, top_category_employer2, top_category_employer3, wage_data]\n",
       "Index: []"
      ]
     },
     "execution_count": 30,
     "metadata": {},
     "output_type": "execute_result"
    }
   ],
   "source": [
    "relevant_unemployment_df.loc[relevant_unemployment_df['wage_data'].isna()]"
   ]
  },
  {
   "cell_type": "code",
   "execution_count": 31,
   "id": "89bd5878",
   "metadata": {
    "execution": {
     "iopub.execute_input": "2023-05-10T00:47:09.697601Z",
     "iopub.status.busy": "2023-05-10T00:47:09.697522Z",
     "iopub.status.idle": "2023-05-10T00:47:09.699841Z",
     "shell.execute_reply": "2023-05-10T00:47:09.699600Z"
    }
   },
   "outputs": [
    {
     "data": {
      "text/plain": [
       "Series([], Name: uu_id, dtype: string)"
      ]
     },
     "execution_count": 31,
     "metadata": {},
     "output_type": "execute_result"
    }
   ],
   "source": [
    "relevant_unemployment_df.loc[relevant_unemployment_df['wage_data'].isna(),'uu_id']"
   ]
  },
  {
   "cell_type": "code",
   "execution_count": 32,
   "id": "e9c8497b",
   "metadata": {
    "execution": {
     "iopub.execute_input": "2023-05-10T00:47:09.701205Z",
     "iopub.status.busy": "2023-05-10T00:47:09.701128Z",
     "iopub.status.idle": "2023-05-10T00:47:09.703439Z",
     "shell.execute_reply": "2023-05-10T00:47:09.703203Z"
    }
   },
   "outputs": [
    {
     "data": {
      "text/plain": [
       "set()"
      ]
     },
     "execution_count": 32,
     "metadata": {},
     "output_type": "execute_result"
    }
   ],
   "source": [
    "set(relevant_unemployment_df.loc[relevant_unemployment_df['wage_data'].isna(),'uu_id'])"
   ]
  },
  {
   "cell_type": "code",
   "execution_count": 33,
   "id": "aacf3de4",
   "metadata": {
    "execution": {
     "iopub.execute_input": "2023-05-10T00:47:09.704778Z",
     "iopub.status.busy": "2023-05-10T00:47:09.704701Z",
     "iopub.status.idle": "2023-05-10T00:47:09.955589Z",
     "shell.execute_reply": "2023-05-10T00:47:09.955259Z"
    }
   },
   "outputs": [
    {
     "ename": "KeyError",
     "evalue": "\"['timeperiod', 'tract_name'] not found in axis\"",
     "output_type": "error",
     "traceback": [
      "\u001b[0;31m---------------------------------------------------------------------------\u001b[0m",
      "\u001b[0;31mKeyError\u001b[0m                                  Traceback (most recent call last)",
      "Cell \u001b[0;32mIn [33], line 3\u001b[0m\n\u001b[1;32m      1\u001b[0m \u001b[38;5;66;03m# Drop duplicate columns\u001b[39;00m\n\u001b[1;32m      2\u001b[0m relevant_unemployment_df\u001b[38;5;241m.\u001b[39mdrop_duplicates(inplace\u001b[38;5;241m=\u001b[39m\u001b[38;5;28;01mTrue\u001b[39;00m)\n\u001b[0;32m----> 3\u001b[0m \u001b[43mrelevant_unemployment_df\u001b[49m\u001b[38;5;241;43m.\u001b[39;49m\u001b[43mdrop\u001b[49m\u001b[43m(\u001b[49m\u001b[43m[\u001b[49m\u001b[38;5;124;43m'\u001b[39;49m\u001b[38;5;124;43mtimeperiod\u001b[39;49m\u001b[38;5;124;43m'\u001b[39;49m\u001b[43m,\u001b[49m\u001b[43m \u001b[49m\u001b[38;5;124;43m'\u001b[39;49m\u001b[38;5;124;43mtract_name\u001b[39;49m\u001b[38;5;124;43m'\u001b[39;49m\u001b[43m]\u001b[49m\u001b[43m,\u001b[49m\u001b[43m \u001b[49m\u001b[43maxis\u001b[49m\u001b[38;5;241;43m=\u001b[39;49m\u001b[38;5;241;43m1\u001b[39;49m\u001b[43m,\u001b[49m\u001b[43m \u001b[49m\u001b[43minplace\u001b[49m\u001b[38;5;241;43m=\u001b[39;49m\u001b[38;5;28;43;01mTrue\u001b[39;49;00m\u001b[43m)\u001b[49m\n",
      "File \u001b[0;32m/opt/homebrew/lib/python3.9/site-packages/pandas/util/_decorators.py:331\u001b[0m, in \u001b[0;36mdeprecate_nonkeyword_arguments.<locals>.decorate.<locals>.wrapper\u001b[0;34m(*args, **kwargs)\u001b[0m\n\u001b[1;32m    325\u001b[0m \u001b[38;5;28;01mif\u001b[39;00m \u001b[38;5;28mlen\u001b[39m(args) \u001b[38;5;241m>\u001b[39m num_allow_args:\n\u001b[1;32m    326\u001b[0m     warnings\u001b[38;5;241m.\u001b[39mwarn(\n\u001b[1;32m    327\u001b[0m         msg\u001b[38;5;241m.\u001b[39mformat(arguments\u001b[38;5;241m=\u001b[39m_format_argument_list(allow_args)),\n\u001b[1;32m    328\u001b[0m         \u001b[38;5;167;01mFutureWarning\u001b[39;00m,\n\u001b[1;32m    329\u001b[0m         stacklevel\u001b[38;5;241m=\u001b[39mfind_stack_level(),\n\u001b[1;32m    330\u001b[0m     )\n\u001b[0;32m--> 331\u001b[0m \u001b[38;5;28;01mreturn\u001b[39;00m \u001b[43mfunc\u001b[49m\u001b[43m(\u001b[49m\u001b[38;5;241;43m*\u001b[39;49m\u001b[43margs\u001b[49m\u001b[43m,\u001b[49m\u001b[43m \u001b[49m\u001b[38;5;241;43m*\u001b[39;49m\u001b[38;5;241;43m*\u001b[39;49m\u001b[43mkwargs\u001b[49m\u001b[43m)\u001b[49m\n",
      "File \u001b[0;32m/opt/homebrew/lib/python3.9/site-packages/pandas/core/frame.py:5388\u001b[0m, in \u001b[0;36mDataFrame.drop\u001b[0;34m(self, labels, axis, index, columns, level, inplace, errors)\u001b[0m\n\u001b[1;32m   5240\u001b[0m \u001b[38;5;129m@deprecate_nonkeyword_arguments\u001b[39m(version\u001b[38;5;241m=\u001b[39m\u001b[38;5;28;01mNone\u001b[39;00m, allowed_args\u001b[38;5;241m=\u001b[39m[\u001b[38;5;124m\"\u001b[39m\u001b[38;5;124mself\u001b[39m\u001b[38;5;124m\"\u001b[39m, \u001b[38;5;124m\"\u001b[39m\u001b[38;5;124mlabels\u001b[39m\u001b[38;5;124m\"\u001b[39m])\n\u001b[1;32m   5241\u001b[0m \u001b[38;5;28;01mdef\u001b[39;00m \u001b[38;5;21mdrop\u001b[39m(  \u001b[38;5;66;03m# type: ignore[override]\u001b[39;00m\n\u001b[1;32m   5242\u001b[0m     \u001b[38;5;28mself\u001b[39m,\n\u001b[0;32m   (...)\u001b[0m\n\u001b[1;32m   5249\u001b[0m     errors: IgnoreRaise \u001b[38;5;241m=\u001b[39m \u001b[38;5;124m\"\u001b[39m\u001b[38;5;124mraise\u001b[39m\u001b[38;5;124m\"\u001b[39m,\n\u001b[1;32m   5250\u001b[0m ) \u001b[38;5;241m-\u001b[39m\u001b[38;5;241m>\u001b[39m DataFrame \u001b[38;5;241m|\u001b[39m \u001b[38;5;28;01mNone\u001b[39;00m:\n\u001b[1;32m   5251\u001b[0m     \u001b[38;5;124;03m\"\"\"\u001b[39;00m\n\u001b[1;32m   5252\u001b[0m \u001b[38;5;124;03m    Drop specified labels from rows or columns.\u001b[39;00m\n\u001b[1;32m   5253\u001b[0m \n\u001b[0;32m   (...)\u001b[0m\n\u001b[1;32m   5386\u001b[0m \u001b[38;5;124;03m            weight  1.0     0.8\u001b[39;00m\n\u001b[1;32m   5387\u001b[0m \u001b[38;5;124;03m    \"\"\"\u001b[39;00m\n\u001b[0;32m-> 5388\u001b[0m     \u001b[38;5;28;01mreturn\u001b[39;00m \u001b[38;5;28;43msuper\u001b[39;49m\u001b[43m(\u001b[49m\u001b[43m)\u001b[49m\u001b[38;5;241;43m.\u001b[39;49m\u001b[43mdrop\u001b[49m\u001b[43m(\u001b[49m\n\u001b[1;32m   5389\u001b[0m \u001b[43m        \u001b[49m\u001b[43mlabels\u001b[49m\u001b[38;5;241;43m=\u001b[39;49m\u001b[43mlabels\u001b[49m\u001b[43m,\u001b[49m\n\u001b[1;32m   5390\u001b[0m \u001b[43m        \u001b[49m\u001b[43maxis\u001b[49m\u001b[38;5;241;43m=\u001b[39;49m\u001b[43maxis\u001b[49m\u001b[43m,\u001b[49m\n\u001b[1;32m   5391\u001b[0m \u001b[43m        \u001b[49m\u001b[43mindex\u001b[49m\u001b[38;5;241;43m=\u001b[39;49m\u001b[43mindex\u001b[49m\u001b[43m,\u001b[49m\n\u001b[1;32m   5392\u001b[0m \u001b[43m        \u001b[49m\u001b[43mcolumns\u001b[49m\u001b[38;5;241;43m=\u001b[39;49m\u001b[43mcolumns\u001b[49m\u001b[43m,\u001b[49m\n\u001b[1;32m   5393\u001b[0m \u001b[43m        \u001b[49m\u001b[43mlevel\u001b[49m\u001b[38;5;241;43m=\u001b[39;49m\u001b[43mlevel\u001b[49m\u001b[43m,\u001b[49m\n\u001b[1;32m   5394\u001b[0m \u001b[43m        \u001b[49m\u001b[43minplace\u001b[49m\u001b[38;5;241;43m=\u001b[39;49m\u001b[43minplace\u001b[49m\u001b[43m,\u001b[49m\n\u001b[1;32m   5395\u001b[0m \u001b[43m        \u001b[49m\u001b[43merrors\u001b[49m\u001b[38;5;241;43m=\u001b[39;49m\u001b[43merrors\u001b[49m\u001b[43m,\u001b[49m\n\u001b[1;32m   5396\u001b[0m \u001b[43m    \u001b[49m\u001b[43m)\u001b[49m\n",
      "File \u001b[0;32m/opt/homebrew/lib/python3.9/site-packages/pandas/util/_decorators.py:331\u001b[0m, in \u001b[0;36mdeprecate_nonkeyword_arguments.<locals>.decorate.<locals>.wrapper\u001b[0;34m(*args, **kwargs)\u001b[0m\n\u001b[1;32m    325\u001b[0m \u001b[38;5;28;01mif\u001b[39;00m \u001b[38;5;28mlen\u001b[39m(args) \u001b[38;5;241m>\u001b[39m num_allow_args:\n\u001b[1;32m    326\u001b[0m     warnings\u001b[38;5;241m.\u001b[39mwarn(\n\u001b[1;32m    327\u001b[0m         msg\u001b[38;5;241m.\u001b[39mformat(arguments\u001b[38;5;241m=\u001b[39m_format_argument_list(allow_args)),\n\u001b[1;32m    328\u001b[0m         \u001b[38;5;167;01mFutureWarning\u001b[39;00m,\n\u001b[1;32m    329\u001b[0m         stacklevel\u001b[38;5;241m=\u001b[39mfind_stack_level(),\n\u001b[1;32m    330\u001b[0m     )\n\u001b[0;32m--> 331\u001b[0m \u001b[38;5;28;01mreturn\u001b[39;00m \u001b[43mfunc\u001b[49m\u001b[43m(\u001b[49m\u001b[38;5;241;43m*\u001b[39;49m\u001b[43margs\u001b[49m\u001b[43m,\u001b[49m\u001b[43m \u001b[49m\u001b[38;5;241;43m*\u001b[39;49m\u001b[38;5;241;43m*\u001b[39;49m\u001b[43mkwargs\u001b[49m\u001b[43m)\u001b[49m\n",
      "File \u001b[0;32m/opt/homebrew/lib/python3.9/site-packages/pandas/core/generic.py:4505\u001b[0m, in \u001b[0;36mNDFrame.drop\u001b[0;34m(self, labels, axis, index, columns, level, inplace, errors)\u001b[0m\n\u001b[1;32m   4503\u001b[0m \u001b[38;5;28;01mfor\u001b[39;00m axis, labels \u001b[38;5;129;01min\u001b[39;00m axes\u001b[38;5;241m.\u001b[39mitems():\n\u001b[1;32m   4504\u001b[0m     \u001b[38;5;28;01mif\u001b[39;00m labels \u001b[38;5;129;01mis\u001b[39;00m \u001b[38;5;129;01mnot\u001b[39;00m \u001b[38;5;28;01mNone\u001b[39;00m:\n\u001b[0;32m-> 4505\u001b[0m         obj \u001b[38;5;241m=\u001b[39m \u001b[43mobj\u001b[49m\u001b[38;5;241;43m.\u001b[39;49m\u001b[43m_drop_axis\u001b[49m\u001b[43m(\u001b[49m\u001b[43mlabels\u001b[49m\u001b[43m,\u001b[49m\u001b[43m \u001b[49m\u001b[43maxis\u001b[49m\u001b[43m,\u001b[49m\u001b[43m \u001b[49m\u001b[43mlevel\u001b[49m\u001b[38;5;241;43m=\u001b[39;49m\u001b[43mlevel\u001b[49m\u001b[43m,\u001b[49m\u001b[43m \u001b[49m\u001b[43merrors\u001b[49m\u001b[38;5;241;43m=\u001b[39;49m\u001b[43merrors\u001b[49m\u001b[43m)\u001b[49m\n\u001b[1;32m   4507\u001b[0m \u001b[38;5;28;01mif\u001b[39;00m inplace:\n\u001b[1;32m   4508\u001b[0m     \u001b[38;5;28mself\u001b[39m\u001b[38;5;241m.\u001b[39m_update_inplace(obj)\n",
      "File \u001b[0;32m/opt/homebrew/lib/python3.9/site-packages/pandas/core/generic.py:4546\u001b[0m, in \u001b[0;36mNDFrame._drop_axis\u001b[0;34m(self, labels, axis, level, errors, only_slice)\u001b[0m\n\u001b[1;32m   4544\u001b[0m         new_axis \u001b[38;5;241m=\u001b[39m axis\u001b[38;5;241m.\u001b[39mdrop(labels, level\u001b[38;5;241m=\u001b[39mlevel, errors\u001b[38;5;241m=\u001b[39merrors)\n\u001b[1;32m   4545\u001b[0m     \u001b[38;5;28;01melse\u001b[39;00m:\n\u001b[0;32m-> 4546\u001b[0m         new_axis \u001b[38;5;241m=\u001b[39m \u001b[43maxis\u001b[49m\u001b[38;5;241;43m.\u001b[39;49m\u001b[43mdrop\u001b[49m\u001b[43m(\u001b[49m\u001b[43mlabels\u001b[49m\u001b[43m,\u001b[49m\u001b[43m \u001b[49m\u001b[43merrors\u001b[49m\u001b[38;5;241;43m=\u001b[39;49m\u001b[43merrors\u001b[49m\u001b[43m)\u001b[49m\n\u001b[1;32m   4547\u001b[0m     indexer \u001b[38;5;241m=\u001b[39m axis\u001b[38;5;241m.\u001b[39mget_indexer(new_axis)\n\u001b[1;32m   4549\u001b[0m \u001b[38;5;66;03m# Case for non-unique axis\u001b[39;00m\n\u001b[1;32m   4550\u001b[0m \u001b[38;5;28;01melse\u001b[39;00m:\n",
      "File \u001b[0;32m/opt/homebrew/lib/python3.9/site-packages/pandas/core/indexes/base.py:6975\u001b[0m, in \u001b[0;36mIndex.drop\u001b[0;34m(self, labels, errors)\u001b[0m\n\u001b[1;32m   6973\u001b[0m \u001b[38;5;28;01mif\u001b[39;00m mask\u001b[38;5;241m.\u001b[39many():\n\u001b[1;32m   6974\u001b[0m     \u001b[38;5;28;01mif\u001b[39;00m errors \u001b[38;5;241m!=\u001b[39m \u001b[38;5;124m\"\u001b[39m\u001b[38;5;124mignore\u001b[39m\u001b[38;5;124m\"\u001b[39m:\n\u001b[0;32m-> 6975\u001b[0m         \u001b[38;5;28;01mraise\u001b[39;00m \u001b[38;5;167;01mKeyError\u001b[39;00m(\u001b[38;5;124mf\u001b[39m\u001b[38;5;124m\"\u001b[39m\u001b[38;5;132;01m{\u001b[39;00m\u001b[38;5;28mlist\u001b[39m(labels[mask])\u001b[38;5;132;01m}\u001b[39;00m\u001b[38;5;124m not found in axis\u001b[39m\u001b[38;5;124m\"\u001b[39m)\n\u001b[1;32m   6976\u001b[0m     indexer \u001b[38;5;241m=\u001b[39m indexer[\u001b[38;5;241m~\u001b[39mmask]\n\u001b[1;32m   6977\u001b[0m \u001b[38;5;28;01mreturn\u001b[39;00m \u001b[38;5;28mself\u001b[39m\u001b[38;5;241m.\u001b[39mdelete(indexer)\n",
      "\u001b[0;31mKeyError\u001b[0m: \"['timeperiod', 'tract_name'] not found in axis\""
     ]
    }
   ],
   "source": [
    "# Drop duplicate columns\n",
    "relevant_unemployment_df.drop_duplicates(inplace=True)\n",
    "relevant_unemployment_df.drop(['timeperiod', 'tract_name'], axis=1, inplace=True)"
   ]
  },
  {
   "cell_type": "code",
   "execution_count": 34,
   "id": "ac6d7940",
   "metadata": {
    "execution": {
     "iopub.execute_input": "2023-05-10T00:47:09.957430Z",
     "iopub.status.busy": "2023-05-10T00:47:09.957278Z",
     "iopub.status.idle": "2023-05-10T00:47:09.977516Z",
     "shell.execute_reply": "2023-05-10T00:47:09.977213Z"
    }
   },
   "outputs": [
    {
     "name": "stdout",
     "output_type": "stream",
     "text": [
      "<class 'pandas.core.frame.DataFrame'>\n",
      "Int64Index: 13977 entries, 0 to 16831\n",
      "Data columns (total 9 columns):\n",
      " #   Column                  Non-Null Count  Dtype  \n",
      "---  ------                  --------------  -----  \n",
      " 0   uu_id                   13977 non-null  string \n",
      " 1   week_number             13977 non-null  Int64  \n",
      " 2   countyfips              13977 non-null  string \n",
      " 3   tract                   13977 non-null  string \n",
      " 4   total_claims            13977 non-null  Int64  \n",
      " 5   top_category_employer1  13977 non-null  string \n",
      " 6   top_category_employer2  13977 non-null  string \n",
      " 7   top_category_employer3  13977 non-null  string \n",
      " 8   wage_data               13977 non-null  float64\n",
      "dtypes: Int64(2), float64(1), string(6)\n",
      "memory usage: 1.1 MB\n"
     ]
    }
   ],
   "source": [
    "# Drop columns with excessive null values\n",
    "# NOTE: Revisit this, these columns may still be useful, especially those that aren't missing too many values\n",
    "relevant_unemployment_df.dropna(axis='columns', inplace=True)\n",
    "relevant_unemployment_df = relevant_unemployment_df.convert_dtypes()\n",
    "relevant_unemployment_df['countyfips'] = relevant_unemployment_df['countyfips'].astype(str)\n",
    "relevant_unemployment_df['tract'] = relevant_unemployment_df['tract'].astype(str)\n",
    "relevant_unemployment_df = relevant_unemployment_df.convert_dtypes()\n",
    "relevant_unemployment_df['wage_data'] = relevant_unemployment_df['uu_id'].map(wage_data.set_index('uu_id')['average_wage'])\n",
    "relevant_unemployment_df.info()"
   ]
  },
  {
   "cell_type": "code",
   "execution_count": 35,
   "id": "bc9a510d",
   "metadata": {
    "execution": {
     "iopub.execute_input": "2023-05-10T00:47:09.979092Z",
     "iopub.status.busy": "2023-05-10T00:47:09.978979Z",
     "iopub.status.idle": "2023-05-10T00:47:09.987721Z",
     "shell.execute_reply": "2023-05-10T00:47:09.987364Z"
    }
   },
   "outputs": [],
   "source": [
    "# Drop duplicate columns\n",
    "relevant_unemployment_df.drop_duplicates(inplace=True)\n",
    "# relevant_unemployment_df.drop(['timeperiod', 'tract_name'], axis=1, inplace=True)"
   ]
  },
  {
   "cell_type": "code",
   "execution_count": 36,
   "id": "4ad89af6",
   "metadata": {
    "execution": {
     "iopub.execute_input": "2023-05-10T00:47:09.989458Z",
     "iopub.status.busy": "2023-05-10T00:47:09.989351Z",
     "iopub.status.idle": "2023-05-10T00:47:10.009370Z",
     "shell.execute_reply": "2023-05-10T00:47:10.009083Z"
    }
   },
   "outputs": [
    {
     "name": "stdout",
     "output_type": "stream",
     "text": [
      "<class 'pandas.core.frame.DataFrame'>\n",
      "Int64Index: 13977 entries, 0 to 16831\n",
      "Data columns (total 9 columns):\n",
      " #   Column                  Non-Null Count  Dtype  \n",
      "---  ------                  --------------  -----  \n",
      " 0   uu_id                   13977 non-null  string \n",
      " 1   week_number             13977 non-null  Int64  \n",
      " 2   countyfips              13977 non-null  string \n",
      " 3   tract                   13977 non-null  string \n",
      " 4   total_claims            13977 non-null  Int64  \n",
      " 5   top_category_employer1  13977 non-null  string \n",
      " 6   top_category_employer2  13977 non-null  string \n",
      " 7   top_category_employer3  13977 non-null  string \n",
      " 8   wage_data               13977 non-null  float64\n",
      "dtypes: Int64(2), float64(1), string(6)\n",
      "memory usage: 1.1 MB\n"
     ]
    }
   ],
   "source": [
    "# Drop columns with excessive null values\n",
    "# NOTE: Revisit this, these columns may still be useful, especially those that aren't missing too many values\n",
    "relevant_unemployment_df.dropna(axis='columns', inplace=True)\n",
    "relevant_unemployment_df = relevant_unemployment_df.convert_dtypes()\n",
    "relevant_unemployment_df['countyfips'] = relevant_unemployment_df['countyfips'].astype(str)\n",
    "relevant_unemployment_df['tract'] = relevant_unemployment_df['tract'].astype(str)\n",
    "relevant_unemployment_df = relevant_unemployment_df.convert_dtypes()\n",
    "relevant_unemployment_df['wage_data'] = relevant_unemployment_df['uu_id'].map(wage_data.set_index('uu_id')['average_wage'])\n",
    "relevant_unemployment_df.info()"
   ]
  },
  {
   "cell_type": "code",
   "execution_count": 37,
   "id": "9d8a7095",
   "metadata": {
    "execution": {
     "iopub.execute_input": "2023-05-10T00:47:10.010958Z",
     "iopub.status.busy": "2023-05-10T00:47:10.010873Z",
     "iopub.status.idle": "2023-05-10T00:47:10.047305Z",
     "shell.execute_reply": "2023-05-10T00:47:10.046910Z"
    }
   },
   "outputs": [
    {
     "ename": "KeyError",
     "evalue": "\"['timeperiod', 'tract_name'] not found in axis\"",
     "output_type": "error",
     "traceback": [
      "\u001b[0;31m---------------------------------------------------------------------------\u001b[0m",
      "\u001b[0;31mKeyError\u001b[0m                                  Traceback (most recent call last)",
      "Cell \u001b[0;32mIn [37], line 3\u001b[0m\n\u001b[1;32m      1\u001b[0m \u001b[38;5;66;03m# Drop duplicate columns\u001b[39;00m\n\u001b[1;32m      2\u001b[0m relevant_unemployment_df\u001b[38;5;241m.\u001b[39mdrop_duplicates(inplace\u001b[38;5;241m=\u001b[39m\u001b[38;5;28;01mTrue\u001b[39;00m)\n\u001b[0;32m----> 3\u001b[0m \u001b[43mrelevant_unemployment_df\u001b[49m\u001b[38;5;241;43m.\u001b[39;49m\u001b[43mdrop\u001b[49m\u001b[43m(\u001b[49m\u001b[43m[\u001b[49m\u001b[38;5;124;43m'\u001b[39;49m\u001b[38;5;124;43mtimeperiod\u001b[39;49m\u001b[38;5;124;43m'\u001b[39;49m\u001b[43m,\u001b[49m\u001b[43m \u001b[49m\u001b[38;5;124;43m'\u001b[39;49m\u001b[38;5;124;43mtract_name\u001b[39;49m\u001b[38;5;124;43m'\u001b[39;49m\u001b[43m]\u001b[49m\u001b[43m,\u001b[49m\u001b[43m \u001b[49m\u001b[43maxis\u001b[49m\u001b[38;5;241;43m=\u001b[39;49m\u001b[38;5;241;43m1\u001b[39;49m\u001b[43m,\u001b[49m\u001b[43m \u001b[49m\u001b[43minplace\u001b[49m\u001b[38;5;241;43m=\u001b[39;49m\u001b[38;5;28;43;01mTrue\u001b[39;49;00m\u001b[43m)\u001b[49m\n",
      "File \u001b[0;32m/opt/homebrew/lib/python3.9/site-packages/pandas/util/_decorators.py:331\u001b[0m, in \u001b[0;36mdeprecate_nonkeyword_arguments.<locals>.decorate.<locals>.wrapper\u001b[0;34m(*args, **kwargs)\u001b[0m\n\u001b[1;32m    325\u001b[0m \u001b[38;5;28;01mif\u001b[39;00m \u001b[38;5;28mlen\u001b[39m(args) \u001b[38;5;241m>\u001b[39m num_allow_args:\n\u001b[1;32m    326\u001b[0m     warnings\u001b[38;5;241m.\u001b[39mwarn(\n\u001b[1;32m    327\u001b[0m         msg\u001b[38;5;241m.\u001b[39mformat(arguments\u001b[38;5;241m=\u001b[39m_format_argument_list(allow_args)),\n\u001b[1;32m    328\u001b[0m         \u001b[38;5;167;01mFutureWarning\u001b[39;00m,\n\u001b[1;32m    329\u001b[0m         stacklevel\u001b[38;5;241m=\u001b[39mfind_stack_level(),\n\u001b[1;32m    330\u001b[0m     )\n\u001b[0;32m--> 331\u001b[0m \u001b[38;5;28;01mreturn\u001b[39;00m \u001b[43mfunc\u001b[49m\u001b[43m(\u001b[49m\u001b[38;5;241;43m*\u001b[39;49m\u001b[43margs\u001b[49m\u001b[43m,\u001b[49m\u001b[43m \u001b[49m\u001b[38;5;241;43m*\u001b[39;49m\u001b[38;5;241;43m*\u001b[39;49m\u001b[43mkwargs\u001b[49m\u001b[43m)\u001b[49m\n",
      "File \u001b[0;32m/opt/homebrew/lib/python3.9/site-packages/pandas/core/frame.py:5388\u001b[0m, in \u001b[0;36mDataFrame.drop\u001b[0;34m(self, labels, axis, index, columns, level, inplace, errors)\u001b[0m\n\u001b[1;32m   5240\u001b[0m \u001b[38;5;129m@deprecate_nonkeyword_arguments\u001b[39m(version\u001b[38;5;241m=\u001b[39m\u001b[38;5;28;01mNone\u001b[39;00m, allowed_args\u001b[38;5;241m=\u001b[39m[\u001b[38;5;124m\"\u001b[39m\u001b[38;5;124mself\u001b[39m\u001b[38;5;124m\"\u001b[39m, \u001b[38;5;124m\"\u001b[39m\u001b[38;5;124mlabels\u001b[39m\u001b[38;5;124m\"\u001b[39m])\n\u001b[1;32m   5241\u001b[0m \u001b[38;5;28;01mdef\u001b[39;00m \u001b[38;5;21mdrop\u001b[39m(  \u001b[38;5;66;03m# type: ignore[override]\u001b[39;00m\n\u001b[1;32m   5242\u001b[0m     \u001b[38;5;28mself\u001b[39m,\n\u001b[0;32m   (...)\u001b[0m\n\u001b[1;32m   5249\u001b[0m     errors: IgnoreRaise \u001b[38;5;241m=\u001b[39m \u001b[38;5;124m\"\u001b[39m\u001b[38;5;124mraise\u001b[39m\u001b[38;5;124m\"\u001b[39m,\n\u001b[1;32m   5250\u001b[0m ) \u001b[38;5;241m-\u001b[39m\u001b[38;5;241m>\u001b[39m DataFrame \u001b[38;5;241m|\u001b[39m \u001b[38;5;28;01mNone\u001b[39;00m:\n\u001b[1;32m   5251\u001b[0m     \u001b[38;5;124;03m\"\"\"\u001b[39;00m\n\u001b[1;32m   5252\u001b[0m \u001b[38;5;124;03m    Drop specified labels from rows or columns.\u001b[39;00m\n\u001b[1;32m   5253\u001b[0m \n\u001b[0;32m   (...)\u001b[0m\n\u001b[1;32m   5386\u001b[0m \u001b[38;5;124;03m            weight  1.0     0.8\u001b[39;00m\n\u001b[1;32m   5387\u001b[0m \u001b[38;5;124;03m    \"\"\"\u001b[39;00m\n\u001b[0;32m-> 5388\u001b[0m     \u001b[38;5;28;01mreturn\u001b[39;00m \u001b[38;5;28;43msuper\u001b[39;49m\u001b[43m(\u001b[49m\u001b[43m)\u001b[49m\u001b[38;5;241;43m.\u001b[39;49m\u001b[43mdrop\u001b[49m\u001b[43m(\u001b[49m\n\u001b[1;32m   5389\u001b[0m \u001b[43m        \u001b[49m\u001b[43mlabels\u001b[49m\u001b[38;5;241;43m=\u001b[39;49m\u001b[43mlabels\u001b[49m\u001b[43m,\u001b[49m\n\u001b[1;32m   5390\u001b[0m \u001b[43m        \u001b[49m\u001b[43maxis\u001b[49m\u001b[38;5;241;43m=\u001b[39;49m\u001b[43maxis\u001b[49m\u001b[43m,\u001b[49m\n\u001b[1;32m   5391\u001b[0m \u001b[43m        \u001b[49m\u001b[43mindex\u001b[49m\u001b[38;5;241;43m=\u001b[39;49m\u001b[43mindex\u001b[49m\u001b[43m,\u001b[49m\n\u001b[1;32m   5392\u001b[0m \u001b[43m        \u001b[49m\u001b[43mcolumns\u001b[49m\u001b[38;5;241;43m=\u001b[39;49m\u001b[43mcolumns\u001b[49m\u001b[43m,\u001b[49m\n\u001b[1;32m   5393\u001b[0m \u001b[43m        \u001b[49m\u001b[43mlevel\u001b[49m\u001b[38;5;241;43m=\u001b[39;49m\u001b[43mlevel\u001b[49m\u001b[43m,\u001b[49m\n\u001b[1;32m   5394\u001b[0m \u001b[43m        \u001b[49m\u001b[43minplace\u001b[49m\u001b[38;5;241;43m=\u001b[39;49m\u001b[43minplace\u001b[49m\u001b[43m,\u001b[49m\n\u001b[1;32m   5395\u001b[0m \u001b[43m        \u001b[49m\u001b[43merrors\u001b[49m\u001b[38;5;241;43m=\u001b[39;49m\u001b[43merrors\u001b[49m\u001b[43m,\u001b[49m\n\u001b[1;32m   5396\u001b[0m \u001b[43m    \u001b[49m\u001b[43m)\u001b[49m\n",
      "File \u001b[0;32m/opt/homebrew/lib/python3.9/site-packages/pandas/util/_decorators.py:331\u001b[0m, in \u001b[0;36mdeprecate_nonkeyword_arguments.<locals>.decorate.<locals>.wrapper\u001b[0;34m(*args, **kwargs)\u001b[0m\n\u001b[1;32m    325\u001b[0m \u001b[38;5;28;01mif\u001b[39;00m \u001b[38;5;28mlen\u001b[39m(args) \u001b[38;5;241m>\u001b[39m num_allow_args:\n\u001b[1;32m    326\u001b[0m     warnings\u001b[38;5;241m.\u001b[39mwarn(\n\u001b[1;32m    327\u001b[0m         msg\u001b[38;5;241m.\u001b[39mformat(arguments\u001b[38;5;241m=\u001b[39m_format_argument_list(allow_args)),\n\u001b[1;32m    328\u001b[0m         \u001b[38;5;167;01mFutureWarning\u001b[39;00m,\n\u001b[1;32m    329\u001b[0m         stacklevel\u001b[38;5;241m=\u001b[39mfind_stack_level(),\n\u001b[1;32m    330\u001b[0m     )\n\u001b[0;32m--> 331\u001b[0m \u001b[38;5;28;01mreturn\u001b[39;00m \u001b[43mfunc\u001b[49m\u001b[43m(\u001b[49m\u001b[38;5;241;43m*\u001b[39;49m\u001b[43margs\u001b[49m\u001b[43m,\u001b[49m\u001b[43m \u001b[49m\u001b[38;5;241;43m*\u001b[39;49m\u001b[38;5;241;43m*\u001b[39;49m\u001b[43mkwargs\u001b[49m\u001b[43m)\u001b[49m\n",
      "File \u001b[0;32m/opt/homebrew/lib/python3.9/site-packages/pandas/core/generic.py:4505\u001b[0m, in \u001b[0;36mNDFrame.drop\u001b[0;34m(self, labels, axis, index, columns, level, inplace, errors)\u001b[0m\n\u001b[1;32m   4503\u001b[0m \u001b[38;5;28;01mfor\u001b[39;00m axis, labels \u001b[38;5;129;01min\u001b[39;00m axes\u001b[38;5;241m.\u001b[39mitems():\n\u001b[1;32m   4504\u001b[0m     \u001b[38;5;28;01mif\u001b[39;00m labels \u001b[38;5;129;01mis\u001b[39;00m \u001b[38;5;129;01mnot\u001b[39;00m \u001b[38;5;28;01mNone\u001b[39;00m:\n\u001b[0;32m-> 4505\u001b[0m         obj \u001b[38;5;241m=\u001b[39m \u001b[43mobj\u001b[49m\u001b[38;5;241;43m.\u001b[39;49m\u001b[43m_drop_axis\u001b[49m\u001b[43m(\u001b[49m\u001b[43mlabels\u001b[49m\u001b[43m,\u001b[49m\u001b[43m \u001b[49m\u001b[43maxis\u001b[49m\u001b[43m,\u001b[49m\u001b[43m \u001b[49m\u001b[43mlevel\u001b[49m\u001b[38;5;241;43m=\u001b[39;49m\u001b[43mlevel\u001b[49m\u001b[43m,\u001b[49m\u001b[43m \u001b[49m\u001b[43merrors\u001b[49m\u001b[38;5;241;43m=\u001b[39;49m\u001b[43merrors\u001b[49m\u001b[43m)\u001b[49m\n\u001b[1;32m   4507\u001b[0m \u001b[38;5;28;01mif\u001b[39;00m inplace:\n\u001b[1;32m   4508\u001b[0m     \u001b[38;5;28mself\u001b[39m\u001b[38;5;241m.\u001b[39m_update_inplace(obj)\n",
      "File \u001b[0;32m/opt/homebrew/lib/python3.9/site-packages/pandas/core/generic.py:4546\u001b[0m, in \u001b[0;36mNDFrame._drop_axis\u001b[0;34m(self, labels, axis, level, errors, only_slice)\u001b[0m\n\u001b[1;32m   4544\u001b[0m         new_axis \u001b[38;5;241m=\u001b[39m axis\u001b[38;5;241m.\u001b[39mdrop(labels, level\u001b[38;5;241m=\u001b[39mlevel, errors\u001b[38;5;241m=\u001b[39merrors)\n\u001b[1;32m   4545\u001b[0m     \u001b[38;5;28;01melse\u001b[39;00m:\n\u001b[0;32m-> 4546\u001b[0m         new_axis \u001b[38;5;241m=\u001b[39m \u001b[43maxis\u001b[49m\u001b[38;5;241;43m.\u001b[39;49m\u001b[43mdrop\u001b[49m\u001b[43m(\u001b[49m\u001b[43mlabels\u001b[49m\u001b[43m,\u001b[49m\u001b[43m \u001b[49m\u001b[43merrors\u001b[49m\u001b[38;5;241;43m=\u001b[39;49m\u001b[43merrors\u001b[49m\u001b[43m)\u001b[49m\n\u001b[1;32m   4547\u001b[0m     indexer \u001b[38;5;241m=\u001b[39m axis\u001b[38;5;241m.\u001b[39mget_indexer(new_axis)\n\u001b[1;32m   4549\u001b[0m \u001b[38;5;66;03m# Case for non-unique axis\u001b[39;00m\n\u001b[1;32m   4550\u001b[0m \u001b[38;5;28;01melse\u001b[39;00m:\n",
      "File \u001b[0;32m/opt/homebrew/lib/python3.9/site-packages/pandas/core/indexes/base.py:6975\u001b[0m, in \u001b[0;36mIndex.drop\u001b[0;34m(self, labels, errors)\u001b[0m\n\u001b[1;32m   6973\u001b[0m \u001b[38;5;28;01mif\u001b[39;00m mask\u001b[38;5;241m.\u001b[39many():\n\u001b[1;32m   6974\u001b[0m     \u001b[38;5;28;01mif\u001b[39;00m errors \u001b[38;5;241m!=\u001b[39m \u001b[38;5;124m\"\u001b[39m\u001b[38;5;124mignore\u001b[39m\u001b[38;5;124m\"\u001b[39m:\n\u001b[0;32m-> 6975\u001b[0m         \u001b[38;5;28;01mraise\u001b[39;00m \u001b[38;5;167;01mKeyError\u001b[39;00m(\u001b[38;5;124mf\u001b[39m\u001b[38;5;124m\"\u001b[39m\u001b[38;5;132;01m{\u001b[39;00m\u001b[38;5;28mlist\u001b[39m(labels[mask])\u001b[38;5;132;01m}\u001b[39;00m\u001b[38;5;124m not found in axis\u001b[39m\u001b[38;5;124m\"\u001b[39m)\n\u001b[1;32m   6976\u001b[0m     indexer \u001b[38;5;241m=\u001b[39m indexer[\u001b[38;5;241m~\u001b[39mmask]\n\u001b[1;32m   6977\u001b[0m \u001b[38;5;28;01mreturn\u001b[39;00m \u001b[38;5;28mself\u001b[39m\u001b[38;5;241m.\u001b[39mdelete(indexer)\n",
      "\u001b[0;31mKeyError\u001b[0m: \"['timeperiod', 'tract_name'] not found in axis\""
     ]
    }
   ],
   "source": [
    "# Drop duplicate columns\n",
    "relevant_unemployment_df.drop_duplicates(inplace=True)\n",
    "relevant_unemployment_df.drop(['timeperiod', 'tract_name'], axis=1, inplace=True)"
   ]
  },
  {
   "cell_type": "code",
   "execution_count": 38,
   "id": "2a7248e1",
   "metadata": {
    "execution": {
     "iopub.execute_input": "2023-05-10T00:47:10.049223Z",
     "iopub.status.busy": "2023-05-10T00:47:10.049054Z",
     "iopub.status.idle": "2023-05-10T00:47:10.067914Z",
     "shell.execute_reply": "2023-05-10T00:47:10.067519Z"
    }
   },
   "outputs": [],
   "source": [
    "# Drop columns with excessive null values\n",
    "# NOTE: Revisit this, these columns may still be useful, especially those that aren't missing too many values\n",
    "relevant_unemployment_df.dropna(axis='columns', inplace=True)\n",
    "relevant_unemployment_df = relevant_unemployment_df.convert_dtypes()\n",
    "relevant_unemployment_df['countyfips'] = relevant_unemployment_df['countyfips'].astype(str)\n",
    "relevant_unemployment_df['tract'] = relevant_unemployment_df['tract'].astype(str)\n",
    "relevant_unemployment_df = relevant_unemployment_df.convert_dtypes()"
   ]
  },
  {
   "cell_type": "code",
   "execution_count": 39,
   "id": "4feeaf75",
   "metadata": {
    "execution": {
     "iopub.execute_input": "2023-05-10T00:47:10.069871Z",
     "iopub.status.busy": "2023-05-10T00:47:10.069684Z",
     "iopub.status.idle": "2023-05-10T00:47:10.079772Z",
     "shell.execute_reply": "2023-05-10T00:47:10.079429Z"
    }
   },
   "outputs": [
    {
     "name": "stdout",
     "output_type": "stream",
     "text": [
      "<class 'pandas.core.frame.DataFrame'>\n",
      "Int64Index: 13977 entries, 0 to 16831\n",
      "Data columns (total 9 columns):\n",
      " #   Column                  Non-Null Count  Dtype  \n",
      "---  ------                  --------------  -----  \n",
      " 0   uu_id                   13977 non-null  string \n",
      " 1   week_number             13977 non-null  Int64  \n",
      " 2   countyfips              13977 non-null  string \n",
      " 3   tract                   13977 non-null  string \n",
      " 4   total_claims            13977 non-null  Int64  \n",
      " 5   top_category_employer1  13977 non-null  string \n",
      " 6   top_category_employer2  13977 non-null  string \n",
      " 7   top_category_employer3  13977 non-null  string \n",
      " 8   wage_data               13977 non-null  float64\n",
      "dtypes: Int64(2), float64(1), string(6)\n",
      "memory usage: 1.1 MB\n"
     ]
    }
   ],
   "source": [
    "# Add Wage data\n",
    "relevant_unemployment_df['wage_data'] = relevant_unemployment_df['uu_id'].map(wage_data.set_index('uu_id')['average_wage'])\n",
    "relevant_unemployment_df.info()\n",
    "bad_wage_uu_ids = list(set(relevant_unemployment_df.loc[relevant_unemployment_df['wage_data'].isna(),'uu_id']))"
   ]
  },
  {
   "cell_type": "code",
   "execution_count": 40,
   "id": "2f64ab02",
   "metadata": {
    "execution": {
     "iopub.execute_input": "2023-05-10T00:47:10.081432Z",
     "iopub.status.busy": "2023-05-10T00:47:10.081316Z",
     "iopub.status.idle": "2023-05-10T00:47:10.090251Z",
     "shell.execute_reply": "2023-05-10T00:47:10.089958Z"
    }
   },
   "outputs": [],
   "source": [
    "# Drop duplicate columns\n",
    "relevant_unemployment_df.drop_duplicates(inplace=True)\n",
    "# relevant_unemployment_df.drop(['timeperiod', 'tract_name'], axis=1, inplace=True)"
   ]
  },
  {
   "cell_type": "code",
   "execution_count": 41,
   "id": "cf60c615",
   "metadata": {
    "execution": {
     "iopub.execute_input": "2023-05-10T00:47:10.091974Z",
     "iopub.status.busy": "2023-05-10T00:47:10.091878Z",
     "iopub.status.idle": "2023-05-10T00:47:10.107528Z",
     "shell.execute_reply": "2023-05-10T00:47:10.107215Z"
    }
   },
   "outputs": [],
   "source": [
    "# Drop columns with excessive null values\n",
    "# NOTE: Revisit this, these columns may still be useful, especially those that aren't missing too many values\n",
    "relevant_unemployment_df.dropna(axis='columns', inplace=True)\n",
    "relevant_unemployment_df = relevant_unemployment_df.convert_dtypes()\n",
    "relevant_unemployment_df['countyfips'] = relevant_unemployment_df['countyfips'].astype(str)\n",
    "relevant_unemployment_df['tract'] = relevant_unemployment_df['tract'].astype(str)\n",
    "relevant_unemployment_df = relevant_unemployment_df.convert_dtypes()"
   ]
  },
  {
   "cell_type": "code",
   "execution_count": 42,
   "id": "dd1ae4c3",
   "metadata": {
    "execution": {
     "iopub.execute_input": "2023-05-10T00:47:10.109289Z",
     "iopub.status.busy": "2023-05-10T00:47:10.109192Z",
     "iopub.status.idle": "2023-05-10T00:47:10.116351Z",
     "shell.execute_reply": "2023-05-10T00:47:10.116086Z"
    }
   },
   "outputs": [
    {
     "name": "stdout",
     "output_type": "stream",
     "text": [
      "<class 'pandas.core.frame.DataFrame'>\n",
      "Int64Index: 13977 entries, 0 to 16831\n",
      "Data columns (total 9 columns):\n",
      " #   Column                  Non-Null Count  Dtype  \n",
      "---  ------                  --------------  -----  \n",
      " 0   uu_id                   13977 non-null  string \n",
      " 1   week_number             13977 non-null  Int64  \n",
      " 2   countyfips              13977 non-null  string \n",
      " 3   tract                   13977 non-null  string \n",
      " 4   total_claims            13977 non-null  Int64  \n",
      " 5   top_category_employer1  13977 non-null  string \n",
      " 6   top_category_employer2  13977 non-null  string \n",
      " 7   top_category_employer3  13977 non-null  string \n",
      " 8   wage_data               13977 non-null  float64\n",
      "dtypes: Int64(2), float64(1), string(6)\n",
      "memory usage: 1.1 MB\n"
     ]
    }
   ],
   "source": [
    "# Add Wage data\n",
    "relevant_unemployment_df['wage_data'] = relevant_unemployment_df['uu_id'].map(wage_data.set_index('uu_id')['average_wage'])\n",
    "relevant_unemployment_df.info()\n",
    "bad_wage_uu_ids = list(set(relevant_unemployment_df.loc[relevant_unemployment_df['wage_data'].isna(),'uu_id']))"
   ]
  },
  {
   "cell_type": "code",
   "execution_count": 43,
   "id": "93c64b4a",
   "metadata": {
    "execution": {
     "iopub.execute_input": "2023-05-10T00:47:10.117901Z",
     "iopub.status.busy": "2023-05-10T00:47:10.117788Z",
     "iopub.status.idle": "2023-05-10T00:47:10.121785Z",
     "shell.execute_reply": "2023-05-10T00:47:10.121519Z"
    }
   },
   "outputs": [
    {
     "data": {
      "text/plain": [
       "7b208b710114a393f20ec464c7849157    35\n",
       "db27f7d84ea8ef691d33dbb715272977    35\n",
       "b1d41e64e8d10b7c427570a7f77f1826    35\n",
       "ae2f6787bb01d859420365f1ab55a3c1    35\n",
       "adf09caf6306aab8015ea16df0efab86    35\n",
       "                                    ..\n",
       "b63efd0868b06138b7c8f9da9027e457     5\n",
       "b67c2c4abede3730932f8d53aba0341a     4\n",
       "747f8bc2b0c8c0a04d29caa4cfe327d2     4\n",
       "f7f087af0599e6b2eaa4045ba1a0be50     3\n",
       "6fbb60a508283bc1fb30c13ac419941a     3\n",
       "Name: uu_id, Length: 525, dtype: Int64"
      ]
     },
     "execution_count": 43,
     "metadata": {},
     "output_type": "execute_result"
    }
   ],
   "source": [
    "relevant_unemployment_df['uu_id'].value_counts()"
   ]
  },
  {
   "cell_type": "code",
   "execution_count": 44,
   "id": "1e2923ad",
   "metadata": {
    "execution": {
     "iopub.execute_input": "2023-05-10T00:47:10.123273Z",
     "iopub.status.busy": "2023-05-10T00:47:10.123187Z",
     "iopub.status.idle": "2023-05-10T00:47:10.130985Z",
     "shell.execute_reply": "2023-05-10T00:47:10.130666Z"
    }
   },
   "outputs": [
    {
     "data": {
      "text/html": [
       "<div>\n",
       "<style scoped>\n",
       "    .dataframe tbody tr th:only-of-type {\n",
       "        vertical-align: middle;\n",
       "    }\n",
       "\n",
       "    .dataframe tbody tr th {\n",
       "        vertical-align: top;\n",
       "    }\n",
       "\n",
       "    .dataframe thead th {\n",
       "        text-align: right;\n",
       "    }\n",
       "</style>\n",
       "<table border=\"1\" class=\"dataframe\">\n",
       "  <thead>\n",
       "    <tr style=\"text-align: right;\">\n",
       "      <th></th>\n",
       "      <th>uu_id</th>\n",
       "      <th>week_number</th>\n",
       "      <th>countyfips</th>\n",
       "      <th>tract</th>\n",
       "      <th>total_claims</th>\n",
       "      <th>top_category_employer1</th>\n",
       "      <th>top_category_employer2</th>\n",
       "      <th>top_category_employer3</th>\n",
       "      <th>wage_data</th>\n",
       "    </tr>\n",
       "  </thead>\n",
       "  <tbody>\n",
       "    <tr>\n",
       "      <th>16791</th>\n",
       "      <td>fec479d0202d6e1e3f051a9ee902ff5d</td>\n",
       "      <td>1</td>\n",
       "      <td>18089</td>\n",
       "      <td>43300</td>\n",
       "      <td>37</td>\n",
       "      <td>23</td>\n",
       "      <td>44-45</td>\n",
       "      <td>31-33</td>\n",
       "      <td>9908.3125</td>\n",
       "    </tr>\n",
       "    <tr>\n",
       "      <th>16792</th>\n",
       "      <td>fec479d0202d6e1e3f051a9ee902ff5d</td>\n",
       "      <td>2</td>\n",
       "      <td>18089</td>\n",
       "      <td>43300</td>\n",
       "      <td>40</td>\n",
       "      <td>23</td>\n",
       "      <td>44-45</td>\n",
       "      <td>62</td>\n",
       "      <td>9908.3125</td>\n",
       "    </tr>\n",
       "    <tr>\n",
       "      <th>16793</th>\n",
       "      <td>fec479d0202d6e1e3f051a9ee902ff5d</td>\n",
       "      <td>3</td>\n",
       "      <td>18089</td>\n",
       "      <td>43300</td>\n",
       "      <td>30</td>\n",
       "      <td>23</td>\n",
       "      <td>44-45</td>\n",
       "      <td>56</td>\n",
       "      <td>9908.3125</td>\n",
       "    </tr>\n",
       "    <tr>\n",
       "      <th>16794</th>\n",
       "      <td>fec479d0202d6e1e3f051a9ee902ff5d</td>\n",
       "      <td>5</td>\n",
       "      <td>18089</td>\n",
       "      <td>43300</td>\n",
       "      <td>34</td>\n",
       "      <td>23</td>\n",
       "      <td>44-45</td>\n",
       "      <td>54</td>\n",
       "      <td>9908.3125</td>\n",
       "    </tr>\n",
       "    <tr>\n",
       "      <th>16795</th>\n",
       "      <td>fec479d0202d6e1e3f051a9ee902ff5d</td>\n",
       "      <td>6</td>\n",
       "      <td>18089</td>\n",
       "      <td>43300</td>\n",
       "      <td>49</td>\n",
       "      <td>23</td>\n",
       "      <td>44-45</td>\n",
       "      <td>72</td>\n",
       "      <td>9908.3125</td>\n",
       "    </tr>\n",
       "    <tr>\n",
       "      <th>16796</th>\n",
       "      <td>fec479d0202d6e1e3f051a9ee902ff5d</td>\n",
       "      <td>7</td>\n",
       "      <td>18089</td>\n",
       "      <td>43300</td>\n",
       "      <td>38</td>\n",
       "      <td>23</td>\n",
       "      <td>31-33</td>\n",
       "      <td>44-45</td>\n",
       "      <td>9908.3125</td>\n",
       "    </tr>\n",
       "    <tr>\n",
       "      <th>16797</th>\n",
       "      <td>fec479d0202d6e1e3f051a9ee902ff5d</td>\n",
       "      <td>8</td>\n",
       "      <td>18089</td>\n",
       "      <td>43300</td>\n",
       "      <td>34</td>\n",
       "      <td>23</td>\n",
       "      <td>44-45</td>\n",
       "      <td>31-33</td>\n",
       "      <td>9908.3125</td>\n",
       "    </tr>\n",
       "    <tr>\n",
       "      <th>16798</th>\n",
       "      <td>fec479d0202d6e1e3f051a9ee902ff5d</td>\n",
       "      <td>9</td>\n",
       "      <td>18089</td>\n",
       "      <td>43300</td>\n",
       "      <td>45</td>\n",
       "      <td>23</td>\n",
       "      <td>48-49</td>\n",
       "      <td>44-45</td>\n",
       "      <td>9908.3125</td>\n",
       "    </tr>\n",
       "    <tr>\n",
       "      <th>16799</th>\n",
       "      <td>fec479d0202d6e1e3f051a9ee902ff5d</td>\n",
       "      <td>10</td>\n",
       "      <td>18089</td>\n",
       "      <td>43300</td>\n",
       "      <td>40</td>\n",
       "      <td>23</td>\n",
       "      <td>81</td>\n",
       "      <td>31-33</td>\n",
       "      <td>9908.3125</td>\n",
       "    </tr>\n",
       "    <tr>\n",
       "      <th>16800</th>\n",
       "      <td>fec479d0202d6e1e3f051a9ee902ff5d</td>\n",
       "      <td>11</td>\n",
       "      <td>18089</td>\n",
       "      <td>43300</td>\n",
       "      <td>30</td>\n",
       "      <td>23</td>\n",
       "      <td>31-33</td>\n",
       "      <td>44-45</td>\n",
       "      <td>9908.3125</td>\n",
       "    </tr>\n",
       "    <tr>\n",
       "      <th>16801</th>\n",
       "      <td>fec479d0202d6e1e3f051a9ee902ff5d</td>\n",
       "      <td>12</td>\n",
       "      <td>18089</td>\n",
       "      <td>43300</td>\n",
       "      <td>31</td>\n",
       "      <td>23</td>\n",
       "      <td>31-33</td>\n",
       "      <td>62</td>\n",
       "      <td>9908.3125</td>\n",
       "    </tr>\n",
       "    <tr>\n",
       "      <th>16802</th>\n",
       "      <td>fec479d0202d6e1e3f051a9ee902ff5d</td>\n",
       "      <td>13</td>\n",
       "      <td>18089</td>\n",
       "      <td>43300</td>\n",
       "      <td>26</td>\n",
       "      <td>23</td>\n",
       "      <td>44-45</td>\n",
       "      <td>42</td>\n",
       "      <td>9908.3125</td>\n",
       "    </tr>\n",
       "    <tr>\n",
       "      <th>16803</th>\n",
       "      <td>fec479d0202d6e1e3f051a9ee902ff5d</td>\n",
       "      <td>14</td>\n",
       "      <td>18089</td>\n",
       "      <td>43300</td>\n",
       "      <td>21</td>\n",
       "      <td>23</td>\n",
       "      <td>44-45</td>\n",
       "      <td>42</td>\n",
       "      <td>9908.3125</td>\n",
       "    </tr>\n",
       "    <tr>\n",
       "      <th>16804</th>\n",
       "      <td>fec479d0202d6e1e3f051a9ee902ff5d</td>\n",
       "      <td>15</td>\n",
       "      <td>18089</td>\n",
       "      <td>43300</td>\n",
       "      <td>27</td>\n",
       "      <td>23</td>\n",
       "      <td>72</td>\n",
       "      <td>31-33</td>\n",
       "      <td>9908.3125</td>\n",
       "    </tr>\n",
       "    <tr>\n",
       "      <th>16805</th>\n",
       "      <td>fec479d0202d6e1e3f051a9ee902ff5d</td>\n",
       "      <td>16</td>\n",
       "      <td>18089</td>\n",
       "      <td>43300</td>\n",
       "      <td>19</td>\n",
       "      <td>23</td>\n",
       "      <td>42</td>\n",
       "      <td>72</td>\n",
       "      <td>9908.3125</td>\n",
       "    </tr>\n",
       "    <tr>\n",
       "      <th>16806</th>\n",
       "      <td>fec479d0202d6e1e3f051a9ee902ff5d</td>\n",
       "      <td>17</td>\n",
       "      <td>18089</td>\n",
       "      <td>43300</td>\n",
       "      <td>34</td>\n",
       "      <td>23</td>\n",
       "      <td>31-33</td>\n",
       "      <td>44-45</td>\n",
       "      <td>9908.3125</td>\n",
       "    </tr>\n",
       "    <tr>\n",
       "      <th>16807</th>\n",
       "      <td>fec479d0202d6e1e3f051a9ee902ff5d</td>\n",
       "      <td>18</td>\n",
       "      <td>18089</td>\n",
       "      <td>43300</td>\n",
       "      <td>20</td>\n",
       "      <td>56</td>\n",
       "      <td>62</td>\n",
       "      <td>23</td>\n",
       "      <td>9908.3125</td>\n",
       "    </tr>\n",
       "    <tr>\n",
       "      <th>16808</th>\n",
       "      <td>fec479d0202d6e1e3f051a9ee902ff5d</td>\n",
       "      <td>19</td>\n",
       "      <td>18089</td>\n",
       "      <td>43300</td>\n",
       "      <td>17</td>\n",
       "      <td>23</td>\n",
       "      <td>62</td>\n",
       "      <td>56</td>\n",
       "      <td>9908.3125</td>\n",
       "    </tr>\n",
       "    <tr>\n",
       "      <th>16809</th>\n",
       "      <td>fec479d0202d6e1e3f051a9ee902ff5d</td>\n",
       "      <td>20</td>\n",
       "      <td>18089</td>\n",
       "      <td>43300</td>\n",
       "      <td>21</td>\n",
       "      <td>62</td>\n",
       "      <td>31-33</td>\n",
       "      <td>72</td>\n",
       "      <td>9908.3125</td>\n",
       "    </tr>\n",
       "    <tr>\n",
       "      <th>16810</th>\n",
       "      <td>fec479d0202d6e1e3f051a9ee902ff5d</td>\n",
       "      <td>21</td>\n",
       "      <td>18089</td>\n",
       "      <td>43300</td>\n",
       "      <td>22</td>\n",
       "      <td>23</td>\n",
       "      <td>62</td>\n",
       "      <td>56</td>\n",
       "      <td>9908.3125</td>\n",
       "    </tr>\n",
       "    <tr>\n",
       "      <th>16811</th>\n",
       "      <td>fec479d0202d6e1e3f051a9ee902ff5d</td>\n",
       "      <td>22</td>\n",
       "      <td>18089</td>\n",
       "      <td>43300</td>\n",
       "      <td>16</td>\n",
       "      <td>62</td>\n",
       "      <td>56</td>\n",
       "      <td>48-49</td>\n",
       "      <td>9908.3125</td>\n",
       "    </tr>\n",
       "    <tr>\n",
       "      <th>16812</th>\n",
       "      <td>fec479d0202d6e1e3f051a9ee902ff5d</td>\n",
       "      <td>24</td>\n",
       "      <td>18089</td>\n",
       "      <td>43300</td>\n",
       "      <td>27</td>\n",
       "      <td>31-33</td>\n",
       "      <td>62</td>\n",
       "      <td>61</td>\n",
       "      <td>9908.3125</td>\n",
       "    </tr>\n",
       "    <tr>\n",
       "      <th>16813</th>\n",
       "      <td>fec479d0202d6e1e3f051a9ee902ff5d</td>\n",
       "      <td>25</td>\n",
       "      <td>18089</td>\n",
       "      <td>43300</td>\n",
       "      <td>24</td>\n",
       "      <td>23</td>\n",
       "      <td>31-33</td>\n",
       "      <td>62</td>\n",
       "      <td>9908.3125</td>\n",
       "    </tr>\n",
       "    <tr>\n",
       "      <th>16814</th>\n",
       "      <td>fec479d0202d6e1e3f051a9ee902ff5d</td>\n",
       "      <td>26</td>\n",
       "      <td>18089</td>\n",
       "      <td>43300</td>\n",
       "      <td>24</td>\n",
       "      <td>23</td>\n",
       "      <td>31-33</td>\n",
       "      <td>62</td>\n",
       "      <td>9908.3125</td>\n",
       "    </tr>\n",
       "    <tr>\n",
       "      <th>16815</th>\n",
       "      <td>fec479d0202d6e1e3f051a9ee902ff5d</td>\n",
       "      <td>27</td>\n",
       "      <td>18089</td>\n",
       "      <td>43300</td>\n",
       "      <td>22</td>\n",
       "      <td>23</td>\n",
       "      <td>61</td>\n",
       "      <td>31-33</td>\n",
       "      <td>9908.3125</td>\n",
       "    </tr>\n",
       "    <tr>\n",
       "      <th>16816</th>\n",
       "      <td>fec479d0202d6e1e3f051a9ee902ff5d</td>\n",
       "      <td>28</td>\n",
       "      <td>18089</td>\n",
       "      <td>43300</td>\n",
       "      <td>14</td>\n",
       "      <td>62</td>\n",
       "      <td>61</td>\n",
       "      <td>56</td>\n",
       "      <td>9908.3125</td>\n",
       "    </tr>\n",
       "    <tr>\n",
       "      <th>16817</th>\n",
       "      <td>fec479d0202d6e1e3f051a9ee902ff5d</td>\n",
       "      <td>29</td>\n",
       "      <td>18089</td>\n",
       "      <td>43300</td>\n",
       "      <td>37</td>\n",
       "      <td>72</td>\n",
       "      <td>62</td>\n",
       "      <td>61</td>\n",
       "      <td>9908.3125</td>\n",
       "    </tr>\n",
       "    <tr>\n",
       "      <th>16818</th>\n",
       "      <td>fec479d0202d6e1e3f051a9ee902ff5d</td>\n",
       "      <td>30</td>\n",
       "      <td>18089</td>\n",
       "      <td>43300</td>\n",
       "      <td>24</td>\n",
       "      <td>23</td>\n",
       "      <td>62</td>\n",
       "      <td>61</td>\n",
       "      <td>9908.3125</td>\n",
       "    </tr>\n",
       "    <tr>\n",
       "      <th>16819</th>\n",
       "      <td>fec479d0202d6e1e3f051a9ee902ff5d</td>\n",
       "      <td>31</td>\n",
       "      <td>18089</td>\n",
       "      <td>43300</td>\n",
       "      <td>23</td>\n",
       "      <td>62</td>\n",
       "      <td>61</td>\n",
       "      <td>31-33</td>\n",
       "      <td>9908.3125</td>\n",
       "    </tr>\n",
       "    <tr>\n",
       "      <th>16820</th>\n",
       "      <td>fec479d0202d6e1e3f051a9ee902ff5d</td>\n",
       "      <td>32</td>\n",
       "      <td>18089</td>\n",
       "      <td>43300</td>\n",
       "      <td>33</td>\n",
       "      <td>23</td>\n",
       "      <td>62</td>\n",
       "      <td>44-45</td>\n",
       "      <td>9908.3125</td>\n",
       "    </tr>\n",
       "    <tr>\n",
       "      <th>16823</th>\n",
       "      <td>fec479d0202d6e1e3f051a9ee902ff5d</td>\n",
       "      <td>33</td>\n",
       "      <td>18089</td>\n",
       "      <td>43300</td>\n",
       "      <td>59</td>\n",
       "      <td>62</td>\n",
       "      <td>23</td>\n",
       "      <td>31-33</td>\n",
       "      <td>9908.3125</td>\n",
       "    </tr>\n",
       "    <tr>\n",
       "      <th>16825</th>\n",
       "      <td>fec479d0202d6e1e3f051a9ee902ff5d</td>\n",
       "      <td>34</td>\n",
       "      <td>18089</td>\n",
       "      <td>43300</td>\n",
       "      <td>34</td>\n",
       "      <td>23</td>\n",
       "      <td>62</td>\n",
       "      <td>61</td>\n",
       "      <td>9908.3125</td>\n",
       "    </tr>\n",
       "    <tr>\n",
       "      <th>16827</th>\n",
       "      <td>fec479d0202d6e1e3f051a9ee902ff5d</td>\n",
       "      <td>35</td>\n",
       "      <td>18089</td>\n",
       "      <td>43300</td>\n",
       "      <td>27</td>\n",
       "      <td>62</td>\n",
       "      <td>23</td>\n",
       "      <td>72</td>\n",
       "      <td>9908.3125</td>\n",
       "    </tr>\n",
       "    <tr>\n",
       "      <th>16829</th>\n",
       "      <td>fec479d0202d6e1e3f051a9ee902ff5d</td>\n",
       "      <td>36</td>\n",
       "      <td>18089</td>\n",
       "      <td>43300</td>\n",
       "      <td>28</td>\n",
       "      <td>23</td>\n",
       "      <td>62</td>\n",
       "      <td>72</td>\n",
       "      <td>9908.3125</td>\n",
       "    </tr>\n",
       "    <tr>\n",
       "      <th>16831</th>\n",
       "      <td>fec479d0202d6e1e3f051a9ee902ff5d</td>\n",
       "      <td>37</td>\n",
       "      <td>18089</td>\n",
       "      <td>43300</td>\n",
       "      <td>28</td>\n",
       "      <td>62</td>\n",
       "      <td>23</td>\n",
       "      <td>72</td>\n",
       "      <td>9908.3125</td>\n",
       "    </tr>\n",
       "  </tbody>\n",
       "</table>\n",
       "</div>"
      ],
      "text/plain": [
       "                                  uu_id  week_number countyfips  tract  \\\n",
       "16791  fec479d0202d6e1e3f051a9ee902ff5d            1      18089  43300   \n",
       "16792  fec479d0202d6e1e3f051a9ee902ff5d            2      18089  43300   \n",
       "16793  fec479d0202d6e1e3f051a9ee902ff5d            3      18089  43300   \n",
       "16794  fec479d0202d6e1e3f051a9ee902ff5d            5      18089  43300   \n",
       "16795  fec479d0202d6e1e3f051a9ee902ff5d            6      18089  43300   \n",
       "16796  fec479d0202d6e1e3f051a9ee902ff5d            7      18089  43300   \n",
       "16797  fec479d0202d6e1e3f051a9ee902ff5d            8      18089  43300   \n",
       "16798  fec479d0202d6e1e3f051a9ee902ff5d            9      18089  43300   \n",
       "16799  fec479d0202d6e1e3f051a9ee902ff5d           10      18089  43300   \n",
       "16800  fec479d0202d6e1e3f051a9ee902ff5d           11      18089  43300   \n",
       "16801  fec479d0202d6e1e3f051a9ee902ff5d           12      18089  43300   \n",
       "16802  fec479d0202d6e1e3f051a9ee902ff5d           13      18089  43300   \n",
       "16803  fec479d0202d6e1e3f051a9ee902ff5d           14      18089  43300   \n",
       "16804  fec479d0202d6e1e3f051a9ee902ff5d           15      18089  43300   \n",
       "16805  fec479d0202d6e1e3f051a9ee902ff5d           16      18089  43300   \n",
       "16806  fec479d0202d6e1e3f051a9ee902ff5d           17      18089  43300   \n",
       "16807  fec479d0202d6e1e3f051a9ee902ff5d           18      18089  43300   \n",
       "16808  fec479d0202d6e1e3f051a9ee902ff5d           19      18089  43300   \n",
       "16809  fec479d0202d6e1e3f051a9ee902ff5d           20      18089  43300   \n",
       "16810  fec479d0202d6e1e3f051a9ee902ff5d           21      18089  43300   \n",
       "16811  fec479d0202d6e1e3f051a9ee902ff5d           22      18089  43300   \n",
       "16812  fec479d0202d6e1e3f051a9ee902ff5d           24      18089  43300   \n",
       "16813  fec479d0202d6e1e3f051a9ee902ff5d           25      18089  43300   \n",
       "16814  fec479d0202d6e1e3f051a9ee902ff5d           26      18089  43300   \n",
       "16815  fec479d0202d6e1e3f051a9ee902ff5d           27      18089  43300   \n",
       "16816  fec479d0202d6e1e3f051a9ee902ff5d           28      18089  43300   \n",
       "16817  fec479d0202d6e1e3f051a9ee902ff5d           29      18089  43300   \n",
       "16818  fec479d0202d6e1e3f051a9ee902ff5d           30      18089  43300   \n",
       "16819  fec479d0202d6e1e3f051a9ee902ff5d           31      18089  43300   \n",
       "16820  fec479d0202d6e1e3f051a9ee902ff5d           32      18089  43300   \n",
       "16823  fec479d0202d6e1e3f051a9ee902ff5d           33      18089  43300   \n",
       "16825  fec479d0202d6e1e3f051a9ee902ff5d           34      18089  43300   \n",
       "16827  fec479d0202d6e1e3f051a9ee902ff5d           35      18089  43300   \n",
       "16829  fec479d0202d6e1e3f051a9ee902ff5d           36      18089  43300   \n",
       "16831  fec479d0202d6e1e3f051a9ee902ff5d           37      18089  43300   \n",
       "\n",
       "       total_claims top_category_employer1 top_category_employer2  \\\n",
       "16791            37                     23                  44-45   \n",
       "16792            40                     23                  44-45   \n",
       "16793            30                     23                  44-45   \n",
       "16794            34                     23                  44-45   \n",
       "16795            49                     23                  44-45   \n",
       "16796            38                     23                  31-33   \n",
       "16797            34                     23                  44-45   \n",
       "16798            45                     23                  48-49   \n",
       "16799            40                     23                     81   \n",
       "16800            30                     23                  31-33   \n",
       "16801            31                     23                  31-33   \n",
       "16802            26                     23                  44-45   \n",
       "16803            21                     23                  44-45   \n",
       "16804            27                     23                     72   \n",
       "16805            19                     23                     42   \n",
       "16806            34                     23                  31-33   \n",
       "16807            20                     56                     62   \n",
       "16808            17                     23                     62   \n",
       "16809            21                     62                  31-33   \n",
       "16810            22                     23                     62   \n",
       "16811            16                     62                     56   \n",
       "16812            27                  31-33                     62   \n",
       "16813            24                     23                  31-33   \n",
       "16814            24                     23                  31-33   \n",
       "16815            22                     23                     61   \n",
       "16816            14                     62                     61   \n",
       "16817            37                     72                     62   \n",
       "16818            24                     23                     62   \n",
       "16819            23                     62                     61   \n",
       "16820            33                     23                     62   \n",
       "16823            59                     62                     23   \n",
       "16825            34                     23                     62   \n",
       "16827            27                     62                     23   \n",
       "16829            28                     23                     62   \n",
       "16831            28                     62                     23   \n",
       "\n",
       "      top_category_employer3  wage_data  \n",
       "16791                  31-33  9908.3125  \n",
       "16792                     62  9908.3125  \n",
       "16793                     56  9908.3125  \n",
       "16794                     54  9908.3125  \n",
       "16795                     72  9908.3125  \n",
       "16796                  44-45  9908.3125  \n",
       "16797                  31-33  9908.3125  \n",
       "16798                  44-45  9908.3125  \n",
       "16799                  31-33  9908.3125  \n",
       "16800                  44-45  9908.3125  \n",
       "16801                     62  9908.3125  \n",
       "16802                     42  9908.3125  \n",
       "16803                     42  9908.3125  \n",
       "16804                  31-33  9908.3125  \n",
       "16805                     72  9908.3125  \n",
       "16806                  44-45  9908.3125  \n",
       "16807                     23  9908.3125  \n",
       "16808                     56  9908.3125  \n",
       "16809                     72  9908.3125  \n",
       "16810                     56  9908.3125  \n",
       "16811                  48-49  9908.3125  \n",
       "16812                     61  9908.3125  \n",
       "16813                     62  9908.3125  \n",
       "16814                     62  9908.3125  \n",
       "16815                  31-33  9908.3125  \n",
       "16816                     56  9908.3125  \n",
       "16817                     61  9908.3125  \n",
       "16818                     61  9908.3125  \n",
       "16819                  31-33  9908.3125  \n",
       "16820                  44-45  9908.3125  \n",
       "16823                  31-33  9908.3125  \n",
       "16825                     61  9908.3125  \n",
       "16827                     72  9908.3125  \n",
       "16829                     72  9908.3125  \n",
       "16831                     72  9908.3125  "
      ]
     },
     "execution_count": 44,
     "metadata": {},
     "output_type": "execute_result"
    }
   ],
   "source": [
    "relevant_unemployment_df.loc[relevant_unemployment_df['uu_id']=='fec479d0202d6e1e3f051a9ee902ff5d',]"
   ]
  },
  {
   "cell_type": "code",
   "execution_count": 45,
   "id": "e6b8aa3b",
   "metadata": {
    "execution": {
     "iopub.execute_input": "2023-05-10T00:47:10.132796Z",
     "iopub.status.busy": "2023-05-10T00:47:10.132634Z",
     "iopub.status.idle": "2023-05-10T00:47:10.137710Z",
     "shell.execute_reply": "2023-05-10T00:47:10.137228Z"
    }
   },
   "outputs": [
    {
     "data": {
      "text/html": [
       "<div>\n",
       "<style scoped>\n",
       "    .dataframe tbody tr th:only-of-type {\n",
       "        vertical-align: middle;\n",
       "    }\n",
       "\n",
       "    .dataframe tbody tr th {\n",
       "        vertical-align: top;\n",
       "    }\n",
       "\n",
       "    .dataframe thead th {\n",
       "        text-align: right;\n",
       "    }\n",
       "</style>\n",
       "<table border=\"1\" class=\"dataframe\">\n",
       "  <thead>\n",
       "    <tr style=\"text-align: right;\">\n",
       "      <th></th>\n",
       "      <th>uu_id</th>\n",
       "      <th>week_number</th>\n",
       "      <th>countyfips</th>\n",
       "      <th>tract</th>\n",
       "      <th>total_claims</th>\n",
       "      <th>top_category_employer1</th>\n",
       "      <th>top_category_employer2</th>\n",
       "      <th>top_category_employer3</th>\n",
       "      <th>wage_data</th>\n",
       "    </tr>\n",
       "  </thead>\n",
       "  <tbody>\n",
       "  </tbody>\n",
       "</table>\n",
       "</div>"
      ],
      "text/plain": [
       "Empty DataFrame\n",
       "Columns: [uu_id, week_number, countyfips, tract, total_claims, top_category_employer1, top_category_employer2, top_category_employer3, wage_data]\n",
       "Index: []"
      ]
     },
     "execution_count": 45,
     "metadata": {},
     "output_type": "execute_result"
    }
   ],
   "source": [
    "relevant_unemployment_df.loc[relevant_unemployment_df['uu_id']=='e851e672d9f0f6700711449f8426d3b4',]"
   ]
  },
  {
   "cell_type": "code",
   "execution_count": 46,
   "id": "27ed3fe2",
   "metadata": {
    "execution": {
     "iopub.execute_input": "2023-05-10T00:47:10.140078Z",
     "iopub.status.busy": "2023-05-10T00:47:10.139829Z",
     "iopub.status.idle": "2023-05-10T00:47:10.148479Z",
     "shell.execute_reply": "2023-05-10T00:47:10.148136Z"
    }
   },
   "outputs": [
    {
     "data": {
      "text/html": [
       "<div>\n",
       "<style scoped>\n",
       "    .dataframe tbody tr th:only-of-type {\n",
       "        vertical-align: middle;\n",
       "    }\n",
       "\n",
       "    .dataframe tbody tr th {\n",
       "        vertical-align: top;\n",
       "    }\n",
       "\n",
       "    .dataframe thead th {\n",
       "        text-align: right;\n",
       "    }\n",
       "</style>\n",
       "<table border=\"1\" class=\"dataframe\">\n",
       "  <thead>\n",
       "    <tr style=\"text-align: right;\">\n",
       "      <th></th>\n",
       "      <th>uu_id</th>\n",
       "      <th>week_number</th>\n",
       "      <th>countyfips</th>\n",
       "      <th>tract</th>\n",
       "      <th>total_claims</th>\n",
       "      <th>top_category_employer1</th>\n",
       "      <th>top_category_employer2</th>\n",
       "      <th>top_category_employer3</th>\n",
       "      <th>wage_data</th>\n",
       "    </tr>\n",
       "  </thead>\n",
       "  <tbody>\n",
       "    <tr>\n",
       "      <th>6632</th>\n",
       "      <td>5e819ecea31bac6db64c0ccf48818fa8</td>\n",
       "      <td>1</td>\n",
       "      <td>18097</td>\n",
       "      <td>310306</td>\n",
       "      <td>23</td>\n",
       "      <td>56</td>\n",
       "      <td>48-49</td>\n",
       "      <td>62</td>\n",
       "      <td>9311.888889</td>\n",
       "    </tr>\n",
       "    <tr>\n",
       "      <th>6633</th>\n",
       "      <td>5e819ecea31bac6db64c0ccf48818fa8</td>\n",
       "      <td>2</td>\n",
       "      <td>18097</td>\n",
       "      <td>310306</td>\n",
       "      <td>43</td>\n",
       "      <td>56</td>\n",
       "      <td>62</td>\n",
       "      <td>48-49</td>\n",
       "      <td>9311.888889</td>\n",
       "    </tr>\n",
       "    <tr>\n",
       "      <th>6634</th>\n",
       "      <td>5e819ecea31bac6db64c0ccf48818fa8</td>\n",
       "      <td>3</td>\n",
       "      <td>18097</td>\n",
       "      <td>310306</td>\n",
       "      <td>55</td>\n",
       "      <td>81</td>\n",
       "      <td>44-45</td>\n",
       "      <td>42</td>\n",
       "      <td>9311.888889</td>\n",
       "    </tr>\n",
       "    <tr>\n",
       "      <th>6635</th>\n",
       "      <td>5e819ecea31bac6db64c0ccf48818fa8</td>\n",
       "      <td>5</td>\n",
       "      <td>18097</td>\n",
       "      <td>310306</td>\n",
       "      <td>45</td>\n",
       "      <td>44-45</td>\n",
       "      <td>56</td>\n",
       "      <td>42</td>\n",
       "      <td>9311.888889</td>\n",
       "    </tr>\n",
       "    <tr>\n",
       "      <th>6636</th>\n",
       "      <td>5e819ecea31bac6db64c0ccf48818fa8</td>\n",
       "      <td>6</td>\n",
       "      <td>18097</td>\n",
       "      <td>310306</td>\n",
       "      <td>34</td>\n",
       "      <td>56</td>\n",
       "      <td>62</td>\n",
       "      <td>48-49</td>\n",
       "      <td>9311.888889</td>\n",
       "    </tr>\n",
       "    <tr>\n",
       "      <th>6637</th>\n",
       "      <td>5e819ecea31bac6db64c0ccf48818fa8</td>\n",
       "      <td>7</td>\n",
       "      <td>18097</td>\n",
       "      <td>310306</td>\n",
       "      <td>27</td>\n",
       "      <td>56</td>\n",
       "      <td>62</td>\n",
       "      <td>44-45</td>\n",
       "      <td>9311.888889</td>\n",
       "    </tr>\n",
       "    <tr>\n",
       "      <th>6638</th>\n",
       "      <td>5e819ecea31bac6db64c0ccf48818fa8</td>\n",
       "      <td>8</td>\n",
       "      <td>18097</td>\n",
       "      <td>310306</td>\n",
       "      <td>35</td>\n",
       "      <td>72</td>\n",
       "      <td>62</td>\n",
       "      <td>56</td>\n",
       "      <td>9311.888889</td>\n",
       "    </tr>\n",
       "    <tr>\n",
       "      <th>6639</th>\n",
       "      <td>5e819ecea31bac6db64c0ccf48818fa8</td>\n",
       "      <td>9</td>\n",
       "      <td>18097</td>\n",
       "      <td>310306</td>\n",
       "      <td>24</td>\n",
       "      <td>56</td>\n",
       "      <td>44-45</td>\n",
       "      <td>62</td>\n",
       "      <td>9311.888889</td>\n",
       "    </tr>\n",
       "    <tr>\n",
       "      <th>6640</th>\n",
       "      <td>5e819ecea31bac6db64c0ccf48818fa8</td>\n",
       "      <td>10</td>\n",
       "      <td>18097</td>\n",
       "      <td>310306</td>\n",
       "      <td>39</td>\n",
       "      <td>48-49</td>\n",
       "      <td>62</td>\n",
       "      <td>56</td>\n",
       "      <td>9311.888889</td>\n",
       "    </tr>\n",
       "    <tr>\n",
       "      <th>6641</th>\n",
       "      <td>5e819ecea31bac6db64c0ccf48818fa8</td>\n",
       "      <td>11</td>\n",
       "      <td>18097</td>\n",
       "      <td>310306</td>\n",
       "      <td>22</td>\n",
       "      <td>56</td>\n",
       "      <td>54</td>\n",
       "      <td>62</td>\n",
       "      <td>9311.888889</td>\n",
       "    </tr>\n",
       "    <tr>\n",
       "      <th>6642</th>\n",
       "      <td>5e819ecea31bac6db64c0ccf48818fa8</td>\n",
       "      <td>12</td>\n",
       "      <td>18097</td>\n",
       "      <td>310306</td>\n",
       "      <td>19</td>\n",
       "      <td>56</td>\n",
       "      <td>48-49</td>\n",
       "      <td>44-45</td>\n",
       "      <td>9311.888889</td>\n",
       "    </tr>\n",
       "    <tr>\n",
       "      <th>6643</th>\n",
       "      <td>5e819ecea31bac6db64c0ccf48818fa8</td>\n",
       "      <td>13</td>\n",
       "      <td>18097</td>\n",
       "      <td>310306</td>\n",
       "      <td>51</td>\n",
       "      <td>52</td>\n",
       "      <td>56</td>\n",
       "      <td>48-49</td>\n",
       "      <td>9311.888889</td>\n",
       "    </tr>\n",
       "    <tr>\n",
       "      <th>6644</th>\n",
       "      <td>5e819ecea31bac6db64c0ccf48818fa8</td>\n",
       "      <td>14</td>\n",
       "      <td>18097</td>\n",
       "      <td>310306</td>\n",
       "      <td>76</td>\n",
       "      <td>56</td>\n",
       "      <td>72</td>\n",
       "      <td>44-45</td>\n",
       "      <td>9311.888889</td>\n",
       "    </tr>\n",
       "    <tr>\n",
       "      <th>6645</th>\n",
       "      <td>5e819ecea31bac6db64c0ccf48818fa8</td>\n",
       "      <td>15</td>\n",
       "      <td>18097</td>\n",
       "      <td>310306</td>\n",
       "      <td>20</td>\n",
       "      <td>72</td>\n",
       "      <td>56</td>\n",
       "      <td>53</td>\n",
       "      <td>9311.888889</td>\n",
       "    </tr>\n",
       "    <tr>\n",
       "      <th>6646</th>\n",
       "      <td>5e819ecea31bac6db64c0ccf48818fa8</td>\n",
       "      <td>16</td>\n",
       "      <td>18097</td>\n",
       "      <td>310306</td>\n",
       "      <td>21</td>\n",
       "      <td>56</td>\n",
       "      <td>54</td>\n",
       "      <td>48-49</td>\n",
       "      <td>9311.888889</td>\n",
       "    </tr>\n",
       "    <tr>\n",
       "      <th>6647</th>\n",
       "      <td>5e819ecea31bac6db64c0ccf48818fa8</td>\n",
       "      <td>17</td>\n",
       "      <td>18097</td>\n",
       "      <td>310306</td>\n",
       "      <td>46</td>\n",
       "      <td>72</td>\n",
       "      <td>48-49</td>\n",
       "      <td>31-33</td>\n",
       "      <td>9311.888889</td>\n",
       "    </tr>\n",
       "    <tr>\n",
       "      <th>6648</th>\n",
       "      <td>5e819ecea31bac6db64c0ccf48818fa8</td>\n",
       "      <td>18</td>\n",
       "      <td>18097</td>\n",
       "      <td>310306</td>\n",
       "      <td>28</td>\n",
       "      <td>48-49</td>\n",
       "      <td>56</td>\n",
       "      <td>62</td>\n",
       "      <td>9311.888889</td>\n",
       "    </tr>\n",
       "    <tr>\n",
       "      <th>6649</th>\n",
       "      <td>5e819ecea31bac6db64c0ccf48818fa8</td>\n",
       "      <td>19</td>\n",
       "      <td>18097</td>\n",
       "      <td>310306</td>\n",
       "      <td>31</td>\n",
       "      <td>44-45</td>\n",
       "      <td>56</td>\n",
       "      <td>48-49</td>\n",
       "      <td>9311.888889</td>\n",
       "    </tr>\n",
       "    <tr>\n",
       "      <th>6650</th>\n",
       "      <td>5e819ecea31bac6db64c0ccf48818fa8</td>\n",
       "      <td>20</td>\n",
       "      <td>18097</td>\n",
       "      <td>310306</td>\n",
       "      <td>50</td>\n",
       "      <td>56</td>\n",
       "      <td>31-33</td>\n",
       "      <td>48-49</td>\n",
       "      <td>9311.888889</td>\n",
       "    </tr>\n",
       "    <tr>\n",
       "      <th>6651</th>\n",
       "      <td>5e819ecea31bac6db64c0ccf48818fa8</td>\n",
       "      <td>21</td>\n",
       "      <td>18097</td>\n",
       "      <td>310306</td>\n",
       "      <td>21</td>\n",
       "      <td>48-49</td>\n",
       "      <td>62</td>\n",
       "      <td>56</td>\n",
       "      <td>9311.888889</td>\n",
       "    </tr>\n",
       "    <tr>\n",
       "      <th>6652</th>\n",
       "      <td>5e819ecea31bac6db64c0ccf48818fa8</td>\n",
       "      <td>22</td>\n",
       "      <td>18097</td>\n",
       "      <td>310306</td>\n",
       "      <td>45</td>\n",
       "      <td>53</td>\n",
       "      <td>44-45</td>\n",
       "      <td>56</td>\n",
       "      <td>9311.888889</td>\n",
       "    </tr>\n",
       "    <tr>\n",
       "      <th>6653</th>\n",
       "      <td>5e819ecea31bac6db64c0ccf48818fa8</td>\n",
       "      <td>24</td>\n",
       "      <td>18097</td>\n",
       "      <td>310306</td>\n",
       "      <td>58</td>\n",
       "      <td>54</td>\n",
       "      <td>48-49</td>\n",
       "      <td>62</td>\n",
       "      <td>9311.888889</td>\n",
       "    </tr>\n",
       "    <tr>\n",
       "      <th>6654</th>\n",
       "      <td>5e819ecea31bac6db64c0ccf48818fa8</td>\n",
       "      <td>25</td>\n",
       "      <td>18097</td>\n",
       "      <td>310306</td>\n",
       "      <td>20</td>\n",
       "      <td>62</td>\n",
       "      <td>48-49</td>\n",
       "      <td>56</td>\n",
       "      <td>9311.888889</td>\n",
       "    </tr>\n",
       "    <tr>\n",
       "      <th>6655</th>\n",
       "      <td>5e819ecea31bac6db64c0ccf48818fa8</td>\n",
       "      <td>26</td>\n",
       "      <td>18097</td>\n",
       "      <td>310306</td>\n",
       "      <td>59</td>\n",
       "      <td>48-49</td>\n",
       "      <td>92</td>\n",
       "      <td>56</td>\n",
       "      <td>9311.888889</td>\n",
       "    </tr>\n",
       "    <tr>\n",
       "      <th>6656</th>\n",
       "      <td>5e819ecea31bac6db64c0ccf48818fa8</td>\n",
       "      <td>27</td>\n",
       "      <td>18097</td>\n",
       "      <td>310306</td>\n",
       "      <td>30</td>\n",
       "      <td>48-49</td>\n",
       "      <td>52</td>\n",
       "      <td>62</td>\n",
       "      <td>9311.888889</td>\n",
       "    </tr>\n",
       "    <tr>\n",
       "      <th>6657</th>\n",
       "      <td>5e819ecea31bac6db64c0ccf48818fa8</td>\n",
       "      <td>28</td>\n",
       "      <td>18097</td>\n",
       "      <td>310306</td>\n",
       "      <td>24</td>\n",
       "      <td>56</td>\n",
       "      <td>72</td>\n",
       "      <td>44-45</td>\n",
       "      <td>9311.888889</td>\n",
       "    </tr>\n",
       "    <tr>\n",
       "      <th>6658</th>\n",
       "      <td>5e819ecea31bac6db64c0ccf48818fa8</td>\n",
       "      <td>29</td>\n",
       "      <td>18097</td>\n",
       "      <td>310306</td>\n",
       "      <td>29</td>\n",
       "      <td>56</td>\n",
       "      <td>48-49</td>\n",
       "      <td>62</td>\n",
       "      <td>9311.888889</td>\n",
       "    </tr>\n",
       "    <tr>\n",
       "      <th>6659</th>\n",
       "      <td>5e819ecea31bac6db64c0ccf48818fa8</td>\n",
       "      <td>30</td>\n",
       "      <td>18097</td>\n",
       "      <td>310306</td>\n",
       "      <td>29</td>\n",
       "      <td>48-49</td>\n",
       "      <td>62</td>\n",
       "      <td>56</td>\n",
       "      <td>9311.888889</td>\n",
       "    </tr>\n",
       "    <tr>\n",
       "      <th>6660</th>\n",
       "      <td>5e819ecea31bac6db64c0ccf48818fa8</td>\n",
       "      <td>31</td>\n",
       "      <td>18097</td>\n",
       "      <td>310306</td>\n",
       "      <td>31</td>\n",
       "      <td>56</td>\n",
       "      <td>62</td>\n",
       "      <td>48-49</td>\n",
       "      <td>9311.888889</td>\n",
       "    </tr>\n",
       "    <tr>\n",
       "      <th>6661</th>\n",
       "      <td>5e819ecea31bac6db64c0ccf48818fa8</td>\n",
       "      <td>32</td>\n",
       "      <td>18097</td>\n",
       "      <td>310306</td>\n",
       "      <td>36</td>\n",
       "      <td>56</td>\n",
       "      <td>48-49</td>\n",
       "      <td>62</td>\n",
       "      <td>9311.888889</td>\n",
       "    </tr>\n",
       "    <tr>\n",
       "      <th>6664</th>\n",
       "      <td>5e819ecea31bac6db64c0ccf48818fa8</td>\n",
       "      <td>33</td>\n",
       "      <td>18097</td>\n",
       "      <td>310306</td>\n",
       "      <td>24</td>\n",
       "      <td>62</td>\n",
       "      <td>56</td>\n",
       "      <td>48-49</td>\n",
       "      <td>9311.888889</td>\n",
       "    </tr>\n",
       "    <tr>\n",
       "      <th>6666</th>\n",
       "      <td>5e819ecea31bac6db64c0ccf48818fa8</td>\n",
       "      <td>34</td>\n",
       "      <td>18097</td>\n",
       "      <td>310306</td>\n",
       "      <td>17</td>\n",
       "      <td>48-49</td>\n",
       "      <td>62</td>\n",
       "      <td>56</td>\n",
       "      <td>9311.888889</td>\n",
       "    </tr>\n",
       "    <tr>\n",
       "      <th>6668</th>\n",
       "      <td>5e819ecea31bac6db64c0ccf48818fa8</td>\n",
       "      <td>35</td>\n",
       "      <td>18097</td>\n",
       "      <td>310306</td>\n",
       "      <td>23</td>\n",
       "      <td>62</td>\n",
       "      <td>56</td>\n",
       "      <td>44-45</td>\n",
       "      <td>9311.888889</td>\n",
       "    </tr>\n",
       "    <tr>\n",
       "      <th>6670</th>\n",
       "      <td>5e819ecea31bac6db64c0ccf48818fa8</td>\n",
       "      <td>36</td>\n",
       "      <td>18097</td>\n",
       "      <td>310306</td>\n",
       "      <td>47</td>\n",
       "      <td>72</td>\n",
       "      <td>54</td>\n",
       "      <td>56</td>\n",
       "      <td>9311.888889</td>\n",
       "    </tr>\n",
       "    <tr>\n",
       "      <th>6672</th>\n",
       "      <td>5e819ecea31bac6db64c0ccf48818fa8</td>\n",
       "      <td>37</td>\n",
       "      <td>18097</td>\n",
       "      <td>310306</td>\n",
       "      <td>30</td>\n",
       "      <td>62</td>\n",
       "      <td>48-49</td>\n",
       "      <td>44-45</td>\n",
       "      <td>9311.888889</td>\n",
       "    </tr>\n",
       "  </tbody>\n",
       "</table>\n",
       "</div>"
      ],
      "text/plain": [
       "                                 uu_id  week_number countyfips   tract  \\\n",
       "6632  5e819ecea31bac6db64c0ccf48818fa8            1      18097  310306   \n",
       "6633  5e819ecea31bac6db64c0ccf48818fa8            2      18097  310306   \n",
       "6634  5e819ecea31bac6db64c0ccf48818fa8            3      18097  310306   \n",
       "6635  5e819ecea31bac6db64c0ccf48818fa8            5      18097  310306   \n",
       "6636  5e819ecea31bac6db64c0ccf48818fa8            6      18097  310306   \n",
       "6637  5e819ecea31bac6db64c0ccf48818fa8            7      18097  310306   \n",
       "6638  5e819ecea31bac6db64c0ccf48818fa8            8      18097  310306   \n",
       "6639  5e819ecea31bac6db64c0ccf48818fa8            9      18097  310306   \n",
       "6640  5e819ecea31bac6db64c0ccf48818fa8           10      18097  310306   \n",
       "6641  5e819ecea31bac6db64c0ccf48818fa8           11      18097  310306   \n",
       "6642  5e819ecea31bac6db64c0ccf48818fa8           12      18097  310306   \n",
       "6643  5e819ecea31bac6db64c0ccf48818fa8           13      18097  310306   \n",
       "6644  5e819ecea31bac6db64c0ccf48818fa8           14      18097  310306   \n",
       "6645  5e819ecea31bac6db64c0ccf48818fa8           15      18097  310306   \n",
       "6646  5e819ecea31bac6db64c0ccf48818fa8           16      18097  310306   \n",
       "6647  5e819ecea31bac6db64c0ccf48818fa8           17      18097  310306   \n",
       "6648  5e819ecea31bac6db64c0ccf48818fa8           18      18097  310306   \n",
       "6649  5e819ecea31bac6db64c0ccf48818fa8           19      18097  310306   \n",
       "6650  5e819ecea31bac6db64c0ccf48818fa8           20      18097  310306   \n",
       "6651  5e819ecea31bac6db64c0ccf48818fa8           21      18097  310306   \n",
       "6652  5e819ecea31bac6db64c0ccf48818fa8           22      18097  310306   \n",
       "6653  5e819ecea31bac6db64c0ccf48818fa8           24      18097  310306   \n",
       "6654  5e819ecea31bac6db64c0ccf48818fa8           25      18097  310306   \n",
       "6655  5e819ecea31bac6db64c0ccf48818fa8           26      18097  310306   \n",
       "6656  5e819ecea31bac6db64c0ccf48818fa8           27      18097  310306   \n",
       "6657  5e819ecea31bac6db64c0ccf48818fa8           28      18097  310306   \n",
       "6658  5e819ecea31bac6db64c0ccf48818fa8           29      18097  310306   \n",
       "6659  5e819ecea31bac6db64c0ccf48818fa8           30      18097  310306   \n",
       "6660  5e819ecea31bac6db64c0ccf48818fa8           31      18097  310306   \n",
       "6661  5e819ecea31bac6db64c0ccf48818fa8           32      18097  310306   \n",
       "6664  5e819ecea31bac6db64c0ccf48818fa8           33      18097  310306   \n",
       "6666  5e819ecea31bac6db64c0ccf48818fa8           34      18097  310306   \n",
       "6668  5e819ecea31bac6db64c0ccf48818fa8           35      18097  310306   \n",
       "6670  5e819ecea31bac6db64c0ccf48818fa8           36      18097  310306   \n",
       "6672  5e819ecea31bac6db64c0ccf48818fa8           37      18097  310306   \n",
       "\n",
       "      total_claims top_category_employer1 top_category_employer2  \\\n",
       "6632            23                     56                  48-49   \n",
       "6633            43                     56                     62   \n",
       "6634            55                     81                  44-45   \n",
       "6635            45                  44-45                     56   \n",
       "6636            34                     56                     62   \n",
       "6637            27                     56                     62   \n",
       "6638            35                     72                     62   \n",
       "6639            24                     56                  44-45   \n",
       "6640            39                  48-49                     62   \n",
       "6641            22                     56                     54   \n",
       "6642            19                     56                  48-49   \n",
       "6643            51                     52                     56   \n",
       "6644            76                     56                     72   \n",
       "6645            20                     72                     56   \n",
       "6646            21                     56                     54   \n",
       "6647            46                     72                  48-49   \n",
       "6648            28                  48-49                     56   \n",
       "6649            31                  44-45                     56   \n",
       "6650            50                     56                  31-33   \n",
       "6651            21                  48-49                     62   \n",
       "6652            45                     53                  44-45   \n",
       "6653            58                     54                  48-49   \n",
       "6654            20                     62                  48-49   \n",
       "6655            59                  48-49                     92   \n",
       "6656            30                  48-49                     52   \n",
       "6657            24                     56                     72   \n",
       "6658            29                     56                  48-49   \n",
       "6659            29                  48-49                     62   \n",
       "6660            31                     56                     62   \n",
       "6661            36                     56                  48-49   \n",
       "6664            24                     62                     56   \n",
       "6666            17                  48-49                     62   \n",
       "6668            23                     62                     56   \n",
       "6670            47                     72                     54   \n",
       "6672            30                     62                  48-49   \n",
       "\n",
       "     top_category_employer3    wage_data  \n",
       "6632                     62  9311.888889  \n",
       "6633                  48-49  9311.888889  \n",
       "6634                     42  9311.888889  \n",
       "6635                     42  9311.888889  \n",
       "6636                  48-49  9311.888889  \n",
       "6637                  44-45  9311.888889  \n",
       "6638                     56  9311.888889  \n",
       "6639                     62  9311.888889  \n",
       "6640                     56  9311.888889  \n",
       "6641                     62  9311.888889  \n",
       "6642                  44-45  9311.888889  \n",
       "6643                  48-49  9311.888889  \n",
       "6644                  44-45  9311.888889  \n",
       "6645                     53  9311.888889  \n",
       "6646                  48-49  9311.888889  \n",
       "6647                  31-33  9311.888889  \n",
       "6648                     62  9311.888889  \n",
       "6649                  48-49  9311.888889  \n",
       "6650                  48-49  9311.888889  \n",
       "6651                     56  9311.888889  \n",
       "6652                     56  9311.888889  \n",
       "6653                     62  9311.888889  \n",
       "6654                     56  9311.888889  \n",
       "6655                     56  9311.888889  \n",
       "6656                     62  9311.888889  \n",
       "6657                  44-45  9311.888889  \n",
       "6658                     62  9311.888889  \n",
       "6659                     56  9311.888889  \n",
       "6660                  48-49  9311.888889  \n",
       "6661                     62  9311.888889  \n",
       "6664                  48-49  9311.888889  \n",
       "6666                     56  9311.888889  \n",
       "6668                  44-45  9311.888889  \n",
       "6670                     56  9311.888889  \n",
       "6672                  44-45  9311.888889  "
      ]
     },
     "execution_count": 46,
     "metadata": {},
     "output_type": "execute_result"
    }
   ],
   "source": [
    "relevant_unemployment_df.loc[relevant_unemployment_df['uu_id']=='5e819ecea31bac6db64c0ccf48818fa8',]"
   ]
  },
  {
   "cell_type": "code",
   "execution_count": 47,
   "id": "5f970692",
   "metadata": {
    "execution": {
     "iopub.execute_input": "2023-05-10T00:47:10.150226Z",
     "iopub.status.busy": "2023-05-10T00:47:10.150081Z",
     "iopub.status.idle": "2023-05-10T00:47:10.153753Z",
     "shell.execute_reply": "2023-05-10T00:47:10.153413Z"
    }
   },
   "outputs": [
    {
     "data": {
      "text/plain": [
       "2     498\n",
       "3     482\n",
       "1     470\n",
       "5     468\n",
       "6     455\n",
       "7     445\n",
       "8     434\n",
       "36    428\n",
       "37    423\n",
       "16    420\n",
       "9     420\n",
       "15    420\n",
       "33    417\n",
       "34    413\n",
       "17    407\n",
       "31    405\n",
       "10    403\n",
       "35    403\n",
       "11    400\n",
       "18    397\n",
       "12    390\n",
       "29    386\n",
       "32    386\n",
       "14    382\n",
       "30    373\n",
       "26    372\n",
       "25    371\n",
       "13    368\n",
       "27    363\n",
       "21    350\n",
       "24    346\n",
       "20    345\n",
       "19    343\n",
       "22    336\n",
       "28    258\n",
       "Name: week_number, dtype: Int64"
      ]
     },
     "execution_count": 47,
     "metadata": {},
     "output_type": "execute_result"
    }
   ],
   "source": [
    "relevant_unemployment_df['week_number'].value_counts()"
   ]
  },
  {
   "cell_type": "code",
   "execution_count": 48,
   "id": "2c5c1da5",
   "metadata": {
    "execution": {
     "iopub.execute_input": "2023-05-10T00:47:10.155571Z",
     "iopub.status.busy": "2023-05-10T00:47:10.155438Z",
     "iopub.status.idle": "2023-05-10T00:47:10.476159Z",
     "shell.execute_reply": "2023-05-10T00:47:10.475306Z"
    }
   },
   "outputs": [
    {
     "data": {
      "text/plain": [
       "<AxesSubplot: >"
      ]
     },
     "execution_count": 48,
     "metadata": {},
     "output_type": "execute_result"
    },
    {
     "data": {
      "image/png": "[encoded data removed]",
      "text/plain": [
       "<Figure size 640x480 with 1 Axes>"
      ]
     },
     "metadata": {},
     "output_type": "display_data"
    }
   ],
   "source": [
    "relevant_unemployment_df['week_number'].value_counts().plot()"
   ]
  },
  {
   "cell_type": "code",
   "execution_count": 49,
   "id": "6d51abd2",
   "metadata": {
    "execution": {
     "iopub.execute_input": "2023-05-10T00:47:10.488062Z",
     "iopub.status.busy": "2023-05-10T00:47:10.487311Z",
     "iopub.status.idle": "2023-05-10T00:47:10.676768Z",
     "shell.execute_reply": "2023-05-10T00:47:10.676507Z"
    }
   },
   "outputs": [
    {
     "data": {
      "text/plain": [
       "<AxesSubplot: >"
      ]
     },
     "execution_count": 49,
     "metadata": {},
     "output_type": "execute_result"
    },
    {
     "data": {
      "image/png": "[encoded data removed]",
      "text/plain": [
       "<Figure size 640x480 with 1 Axes>"
      ]
     },
     "metadata": {},
     "output_type": "display_data"
    }
   ],
   "source": [
    "relevant_unemployment_df['week_number'].value_counts().plot.bar()"
   ]
  },
  {
   "cell_type": "code",
   "execution_count": 50,
   "id": "34213f44",
   "metadata": {
    "execution": {
     "iopub.execute_input": "2023-05-10T00:47:10.678278Z",
     "iopub.status.busy": "2023-05-10T00:47:10.678173Z",
     "iopub.status.idle": "2023-05-10T00:47:10.787325Z",
     "shell.execute_reply": "2023-05-10T00:47:10.787051Z"
    }
   },
   "outputs": [
    {
     "data": {
      "text/plain": [
       "<AxesSubplot: >"
      ]
     },
     "execution_count": 50,
     "metadata": {},
     "output_type": "execute_result"
    },
    {
     "data": {
      "image/png": "[encoded data removed]",
      "text/plain": [
       "<Figure size 640x480 with 1 Axes>"
      ]
     },
     "metadata": {},
     "output_type": "display_data"
    }
   ],
   "source": [
    "relevant_unemployment_df['week_number'].value_counts().plot.bar(rot=0)"
   ]
  },
  {
   "cell_type": "code",
   "execution_count": 51,
   "id": "fef753db",
   "metadata": {
    "execution": {
     "iopub.execute_input": "2023-05-10T00:47:10.788975Z",
     "iopub.status.busy": "2023-05-10T00:47:10.788858Z",
     "iopub.status.idle": "2023-05-10T00:47:10.898466Z",
     "shell.execute_reply": "2023-05-10T00:47:10.898178Z"
    }
   },
   "outputs": [
    {
     "data": {
      "text/plain": [
       "<AxesSubplot: >"
      ]
     },
     "execution_count": 51,
     "metadata": {},
     "output_type": "execute_result"
    },
    {
     "data": {
      "image/png": "[encoded data removed]",
      "text/plain": [
       "<Figure size 640x480 with 1 Axes>"
      ]
     },
     "metadata": {},
     "output_type": "display_data"
    }
   ],
   "source": [
    "relevant_unemployment_df['week_number'].value_counts().plot.bar()"
   ]
  },
  {
   "cell_type": "code",
   "execution_count": 52,
   "id": "4fd0b6af",
   "metadata": {
    "execution": {
     "iopub.execute_input": "2023-05-10T00:47:10.900006Z",
     "iopub.status.busy": "2023-05-10T00:47:10.899881Z",
     "iopub.status.idle": "2023-05-10T00:47:11.009027Z",
     "shell.execute_reply": "2023-05-10T00:47:11.008749Z"
    }
   },
   "outputs": [
    {
     "data": {
      "text/plain": [
       "<AxesSubplot: >"
      ]
     },
     "execution_count": 52,
     "metadata": {},
     "output_type": "execute_result"
    },
    {
     "data": {
      "image/png": "[encoded data removed]",
      "text/plain": [
       "<Figure size 640x480 with 1 Axes>"
      ]
     },
     "metadata": {},
     "output_type": "display_data"
    }
   ],
   "source": [
    "relevant_unemployment_df['week_number'].value_counts().plot.bar(x='Week', y='Count')"
   ]
  },
  {
   "cell_type": "code",
   "execution_count": 53,
   "id": "137fd9fc",
   "metadata": {
    "execution": {
     "iopub.execute_input": "2023-05-10T00:47:11.010550Z",
     "iopub.status.busy": "2023-05-10T00:47:11.010430Z",
     "iopub.status.idle": "2023-05-10T00:47:11.156387Z",
     "shell.execute_reply": "2023-05-10T00:47:11.155806Z"
    }
   },
   "outputs": [
    {
     "data": {
      "text/plain": [
       "<AxesSubplot: >"
      ]
     },
     "execution_count": 53,
     "metadata": {},
     "output_type": "execute_result"
    },
    {
     "data": {
      "image/png": "[encoded data removed]",
      "text/plain": [
       "<Figure size 640x480 with 1 Axes>"
      ]
     },
     "metadata": {},
     "output_type": "display_data"
    }
   ],
   "source": [
    "relevant_unemployment_df['week_number'].value_counts().plot.bar()"
   ]
  },
  {
   "cell_type": "code",
   "execution_count": 54,
   "id": "adf289c3",
   "metadata": {
    "execution": {
     "iopub.execute_input": "2023-05-10T00:47:11.158081Z",
     "iopub.status.busy": "2023-05-10T00:47:11.157981Z",
     "iopub.status.idle": "2023-05-10T00:47:11.159975Z",
     "shell.execute_reply": "2023-05-10T00:47:11.159706Z"
    }
   },
   "outputs": [],
   "source": [
    "import os\n",
    "import pandas\n",
    "from google.cloud import bigquery\n",
    "from google.oauth2 import service_account\n",
    "from google.cloud.bigquery import magics\n",
    "import matplotlib.pyplot as plt"
   ]
  },
  {
   "cell_type": "code",
   "execution_count": 55,
   "id": "8630923a",
   "metadata": {
    "execution": {
     "iopub.execute_input": "2023-05-10T00:47:11.161378Z",
     "iopub.status.busy": "2023-05-10T00:47:11.161291Z",
     "iopub.status.idle": "2023-05-10T00:47:11.785685Z",
     "shell.execute_reply": "2023-05-10T00:47:11.785361Z"
    }
   },
   "outputs": [
    {
     "ename": "TypeError",
     "evalue": "unhashable type: 'numpy.ndarray'",
     "output_type": "error",
     "traceback": [
      "\u001b[0;31m---------------------------------------------------------------------------\u001b[0m",
      "\u001b[0;31mTypeError\u001b[0m                                 Traceback (most recent call last)",
      "Cell \u001b[0;32mIn [55], line 2\u001b[0m\n\u001b[1;32m      1\u001b[0m relevant_unemployment_df[\u001b[38;5;124m'\u001b[39m\u001b[38;5;124mweek_number\u001b[39m\u001b[38;5;124m'\u001b[39m]\u001b[38;5;241m.\u001b[39mvalue_counts()\u001b[38;5;241m.\u001b[39mplot\u001b[38;5;241m.\u001b[39mbar()\n\u001b[0;32m----> 2\u001b[0m \u001b[43mplt\u001b[49m\u001b[38;5;241;43m.\u001b[39;49m\u001b[43mplot\u001b[49m\u001b[43m(\u001b[49m\u001b[43mrelevant_unemployment_df\u001b[49m\u001b[43m)\u001b[49m\n",
      "File \u001b[0;32m/opt/homebrew/lib/python3.9/site-packages/matplotlib/pyplot.py:2748\u001b[0m, in \u001b[0;36mplot\u001b[0;34m(scalex, scaley, data, *args, **kwargs)\u001b[0m\n\u001b[1;32m   2746\u001b[0m \u001b[38;5;129m@_copy_docstring_and_deprecators\u001b[39m(Axes\u001b[38;5;241m.\u001b[39mplot)\n\u001b[1;32m   2747\u001b[0m \u001b[38;5;28;01mdef\u001b[39;00m \u001b[38;5;21mplot\u001b[39m(\u001b[38;5;241m*\u001b[39margs, scalex\u001b[38;5;241m=\u001b[39m\u001b[38;5;28;01mTrue\u001b[39;00m, scaley\u001b[38;5;241m=\u001b[39m\u001b[38;5;28;01mTrue\u001b[39;00m, data\u001b[38;5;241m=\u001b[39m\u001b[38;5;28;01mNone\u001b[39;00m, \u001b[38;5;241m*\u001b[39m\u001b[38;5;241m*\u001b[39mkwargs):\n\u001b[0;32m-> 2748\u001b[0m     \u001b[38;5;28;01mreturn\u001b[39;00m \u001b[43mgca\u001b[49m\u001b[43m(\u001b[49m\u001b[43m)\u001b[49m\u001b[38;5;241;43m.\u001b[39;49m\u001b[43mplot\u001b[49m\u001b[43m(\u001b[49m\n\u001b[1;32m   2749\u001b[0m \u001b[43m        \u001b[49m\u001b[38;5;241;43m*\u001b[39;49m\u001b[43margs\u001b[49m\u001b[43m,\u001b[49m\u001b[43m \u001b[49m\u001b[43mscalex\u001b[49m\u001b[38;5;241;43m=\u001b[39;49m\u001b[43mscalex\u001b[49m\u001b[43m,\u001b[49m\u001b[43m \u001b[49m\u001b[43mscaley\u001b[49m\u001b[38;5;241;43m=\u001b[39;49m\u001b[43mscaley\u001b[49m\u001b[43m,\u001b[49m\n\u001b[1;32m   2750\u001b[0m \u001b[43m        \u001b[49m\u001b[38;5;241;43m*\u001b[39;49m\u001b[38;5;241;43m*\u001b[39;49m\u001b[43m(\u001b[49m\u001b[43m{\u001b[49m\u001b[38;5;124;43m\"\u001b[39;49m\u001b[38;5;124;43mdata\u001b[39;49m\u001b[38;5;124;43m\"\u001b[39;49m\u001b[43m:\u001b[49m\u001b[43m \u001b[49m\u001b[43mdata\u001b[49m\u001b[43m}\u001b[49m\u001b[43m \u001b[49m\u001b[38;5;28;43;01mif\u001b[39;49;00m\u001b[43m \u001b[49m\u001b[43mdata\u001b[49m\u001b[43m \u001b[49m\u001b[38;5;129;43;01mis\u001b[39;49;00m\u001b[43m \u001b[49m\u001b[38;5;129;43;01mnot\u001b[39;49;00m\u001b[43m \u001b[49m\u001b[38;5;28;43;01mNone\u001b[39;49;00m\u001b[43m \u001b[49m\u001b[38;5;28;43;01melse\u001b[39;49;00m\u001b[43m \u001b[49m\u001b[43m{\u001b[49m\u001b[43m}\u001b[49m\u001b[43m)\u001b[49m\u001b[43m,\u001b[49m\u001b[43m \u001b[49m\u001b[38;5;241;43m*\u001b[39;49m\u001b[38;5;241;43m*\u001b[39;49m\u001b[43mkwargs\u001b[49m\u001b[43m)\u001b[49m\n",
      "File \u001b[0;32m/opt/homebrew/lib/python3.9/site-packages/matplotlib/axes/_axes.py:1668\u001b[0m, in \u001b[0;36mAxes.plot\u001b[0;34m(self, scalex, scaley, data, *args, **kwargs)\u001b[0m\n\u001b[1;32m   1425\u001b[0m \u001b[38;5;124;03m\"\"\"\u001b[39;00m\n\u001b[1;32m   1426\u001b[0m \u001b[38;5;124;03mPlot y versus x as lines and/or markers.\u001b[39;00m\n\u001b[1;32m   1427\u001b[0m \n\u001b[0;32m   (...)\u001b[0m\n\u001b[1;32m   1665\u001b[0m \u001b[38;5;124;03m(``'green'``) or hex strings (``'#008000'``).\u001b[39;00m\n\u001b[1;32m   1666\u001b[0m \u001b[38;5;124;03m\"\"\"\u001b[39;00m\n\u001b[1;32m   1667\u001b[0m kwargs \u001b[38;5;241m=\u001b[39m cbook\u001b[38;5;241m.\u001b[39mnormalize_kwargs(kwargs, mlines\u001b[38;5;241m.\u001b[39mLine2D)\n\u001b[0;32m-> 1668\u001b[0m lines \u001b[38;5;241m=\u001b[39m [\u001b[38;5;241m*\u001b[39m\u001b[38;5;28mself\u001b[39m\u001b[38;5;241m.\u001b[39m_get_lines(\u001b[38;5;241m*\u001b[39margs, data\u001b[38;5;241m=\u001b[39mdata, \u001b[38;5;241m*\u001b[39m\u001b[38;5;241m*\u001b[39mkwargs)]\n\u001b[1;32m   1669\u001b[0m \u001b[38;5;28;01mfor\u001b[39;00m line \u001b[38;5;129;01min\u001b[39;00m lines:\n\u001b[1;32m   1670\u001b[0m     \u001b[38;5;28mself\u001b[39m\u001b[38;5;241m.\u001b[39madd_line(line)\n",
      "File \u001b[0;32m/opt/homebrew/lib/python3.9/site-packages/matplotlib/axes/_base.py:311\u001b[0m, in \u001b[0;36m_process_plot_var_args.__call__\u001b[0;34m(self, data, *args, **kwargs)\u001b[0m\n\u001b[1;32m    309\u001b[0m     this \u001b[38;5;241m+\u001b[39m\u001b[38;5;241m=\u001b[39m args[\u001b[38;5;241m0\u001b[39m],\n\u001b[1;32m    310\u001b[0m     args \u001b[38;5;241m=\u001b[39m args[\u001b[38;5;241m1\u001b[39m:]\n\u001b[0;32m--> 311\u001b[0m \u001b[38;5;28;01myield from\u001b[39;00m \u001b[38;5;28;43mself\u001b[39;49m\u001b[38;5;241;43m.\u001b[39;49m\u001b[43m_plot_args\u001b[49m\u001b[43m(\u001b[49m\n\u001b[1;32m    312\u001b[0m \u001b[43m    \u001b[49m\u001b[43mthis\u001b[49m\u001b[43m,\u001b[49m\u001b[43m \u001b[49m\u001b[43mkwargs\u001b[49m\u001b[43m,\u001b[49m\u001b[43m \u001b[49m\u001b[43mambiguous_fmt_datakey\u001b[49m\u001b[38;5;241;43m=\u001b[39;49m\u001b[43mambiguous_fmt_datakey\u001b[49m\u001b[43m)\u001b[49m\n",
      "File \u001b[0;32m/opt/homebrew/lib/python3.9/site-packages/matplotlib/axes/_base.py:501\u001b[0m, in \u001b[0;36m_process_plot_var_args._plot_args\u001b[0;34m(self, tup, kwargs, return_kwargs, ambiguous_fmt_datakey)\u001b[0m\n\u001b[1;32m    499\u001b[0m     \u001b[38;5;28mself\u001b[39m\u001b[38;5;241m.\u001b[39maxes\u001b[38;5;241m.\u001b[39mxaxis\u001b[38;5;241m.\u001b[39mupdate_units(x)\n\u001b[1;32m    500\u001b[0m \u001b[38;5;28;01mif\u001b[39;00m \u001b[38;5;28mself\u001b[39m\u001b[38;5;241m.\u001b[39maxes\u001b[38;5;241m.\u001b[39myaxis \u001b[38;5;129;01mis\u001b[39;00m \u001b[38;5;129;01mnot\u001b[39;00m \u001b[38;5;28;01mNone\u001b[39;00m:\n\u001b[0;32m--> 501\u001b[0m     \u001b[38;5;28;43mself\u001b[39;49m\u001b[38;5;241;43m.\u001b[39;49m\u001b[43maxes\u001b[49m\u001b[38;5;241;43m.\u001b[39;49m\u001b[43myaxis\u001b[49m\u001b[38;5;241;43m.\u001b[39;49m\u001b[43mupdate_units\u001b[49m\u001b[43m(\u001b[49m\u001b[43my\u001b[49m\u001b[43m)\u001b[49m\n\u001b[1;32m    503\u001b[0m \u001b[38;5;28;01mif\u001b[39;00m x\u001b[38;5;241m.\u001b[39mshape[\u001b[38;5;241m0\u001b[39m] \u001b[38;5;241m!=\u001b[39m y\u001b[38;5;241m.\u001b[39mshape[\u001b[38;5;241m0\u001b[39m]:\n\u001b[1;32m    504\u001b[0m     \u001b[38;5;28;01mraise\u001b[39;00m \u001b[38;5;167;01mValueError\u001b[39;00m(\u001b[38;5;124mf\u001b[39m\u001b[38;5;124m\"\u001b[39m\u001b[38;5;124mx and y must have same first dimension, but \u001b[39m\u001b[38;5;124m\"\u001b[39m\n\u001b[1;32m    505\u001b[0m                      \u001b[38;5;124mf\u001b[39m\u001b[38;5;124m\"\u001b[39m\u001b[38;5;124mhave shapes \u001b[39m\u001b[38;5;132;01m{\u001b[39;00mx\u001b[38;5;241m.\u001b[39mshape\u001b[38;5;132;01m}\u001b[39;00m\u001b[38;5;124m and \u001b[39m\u001b[38;5;132;01m{\u001b[39;00my\u001b[38;5;241m.\u001b[39mshape\u001b[38;5;132;01m}\u001b[39;00m\u001b[38;5;124m\"\u001b[39m)\n",
      "File \u001b[0;32m/opt/homebrew/lib/python3.9/site-packages/matplotlib/axis.py:1608\u001b[0m, in \u001b[0;36mAxis.update_units\u001b[0;34m(self, data)\u001b[0m\n\u001b[1;32m   1606\u001b[0m neednew \u001b[38;5;241m=\u001b[39m \u001b[38;5;28mself\u001b[39m\u001b[38;5;241m.\u001b[39mconverter \u001b[38;5;241m!=\u001b[39m converter\n\u001b[1;32m   1607\u001b[0m \u001b[38;5;28mself\u001b[39m\u001b[38;5;241m.\u001b[39mconverter \u001b[38;5;241m=\u001b[39m converter\n\u001b[0;32m-> 1608\u001b[0m default \u001b[38;5;241m=\u001b[39m \u001b[38;5;28;43mself\u001b[39;49m\u001b[38;5;241;43m.\u001b[39;49m\u001b[43mconverter\u001b[49m\u001b[38;5;241;43m.\u001b[39;49m\u001b[43mdefault_units\u001b[49m\u001b[43m(\u001b[49m\u001b[43mdata\u001b[49m\u001b[43m,\u001b[49m\u001b[43m \u001b[49m\u001b[38;5;28;43mself\u001b[39;49m\u001b[43m)\u001b[49m\n\u001b[1;32m   1609\u001b[0m \u001b[38;5;28;01mif\u001b[39;00m default \u001b[38;5;129;01mis\u001b[39;00m \u001b[38;5;129;01mnot\u001b[39;00m \u001b[38;5;28;01mNone\u001b[39;00m \u001b[38;5;129;01mand\u001b[39;00m \u001b[38;5;28mself\u001b[39m\u001b[38;5;241m.\u001b[39munits \u001b[38;5;129;01mis\u001b[39;00m \u001b[38;5;28;01mNone\u001b[39;00m:\n\u001b[1;32m   1610\u001b[0m     \u001b[38;5;28mself\u001b[39m\u001b[38;5;241m.\u001b[39mset_units(default)\n",
      "File \u001b[0;32m/opt/homebrew/lib/python3.9/site-packages/matplotlib/category.py:116\u001b[0m, in \u001b[0;36mStrCategoryConverter.default_units\u001b[0;34m(data, axis)\u001b[0m\n\u001b[1;32m    114\u001b[0m \u001b[38;5;66;03m# the conversion call stack is default_units -> axis_info -> convert\u001b[39;00m\n\u001b[1;32m    115\u001b[0m \u001b[38;5;28;01mif\u001b[39;00m axis\u001b[38;5;241m.\u001b[39munits \u001b[38;5;129;01mis\u001b[39;00m \u001b[38;5;28;01mNone\u001b[39;00m:\n\u001b[0;32m--> 116\u001b[0m     axis\u001b[38;5;241m.\u001b[39mset_units(\u001b[43mUnitData\u001b[49m\u001b[43m(\u001b[49m\u001b[43mdata\u001b[49m\u001b[43m)\u001b[49m)\n\u001b[1;32m    117\u001b[0m \u001b[38;5;28;01melse\u001b[39;00m:\n\u001b[1;32m    118\u001b[0m     axis\u001b[38;5;241m.\u001b[39munits\u001b[38;5;241m.\u001b[39mupdate(data)\n",
      "File \u001b[0;32m/opt/homebrew/lib/python3.9/site-packages/matplotlib/category.py:192\u001b[0m, in \u001b[0;36mUnitData.__init__\u001b[0;34m(self, data)\u001b[0m\n\u001b[1;32m    190\u001b[0m \u001b[38;5;28mself\u001b[39m\u001b[38;5;241m.\u001b[39m_counter \u001b[38;5;241m=\u001b[39m itertools\u001b[38;5;241m.\u001b[39mcount()\n\u001b[1;32m    191\u001b[0m \u001b[38;5;28;01mif\u001b[39;00m data \u001b[38;5;129;01mis\u001b[39;00m \u001b[38;5;129;01mnot\u001b[39;00m \u001b[38;5;28;01mNone\u001b[39;00m:\n\u001b[0;32m--> 192\u001b[0m     \u001b[38;5;28;43mself\u001b[39;49m\u001b[38;5;241;43m.\u001b[39;49m\u001b[43mupdate\u001b[49m\u001b[43m(\u001b[49m\u001b[43mdata\u001b[49m\u001b[43m)\u001b[49m\n",
      "File \u001b[0;32m/opt/homebrew/lib/python3.9/site-packages/matplotlib/category.py:225\u001b[0m, in \u001b[0;36mUnitData.update\u001b[0;34m(self, data)\u001b[0m\n\u001b[1;32m    223\u001b[0m \u001b[38;5;66;03m# check if convertible to number:\u001b[39;00m\n\u001b[1;32m    224\u001b[0m convertible \u001b[38;5;241m=\u001b[39m \u001b[38;5;28;01mTrue\u001b[39;00m\n\u001b[0;32m--> 225\u001b[0m \u001b[38;5;28;01mfor\u001b[39;00m val \u001b[38;5;129;01min\u001b[39;00m \u001b[43mOrderedDict\u001b[49m\u001b[38;5;241;43m.\u001b[39;49m\u001b[43mfromkeys\u001b[49m\u001b[43m(\u001b[49m\u001b[43mdata\u001b[49m\u001b[43m)\u001b[49m:\n\u001b[1;32m    226\u001b[0m     \u001b[38;5;66;03m# OrderedDict just iterates over unique values in data.\u001b[39;00m\n\u001b[1;32m    227\u001b[0m     _api\u001b[38;5;241m.\u001b[39mcheck_isinstance((\u001b[38;5;28mstr\u001b[39m, \u001b[38;5;28mbytes\u001b[39m), value\u001b[38;5;241m=\u001b[39mval)\n\u001b[1;32m    228\u001b[0m     \u001b[38;5;28;01mif\u001b[39;00m convertible:\n\u001b[1;32m    229\u001b[0m         \u001b[38;5;66;03m# this will only be called so long as convertible is True.\u001b[39;00m\n",
      "\u001b[0;31mTypeError\u001b[0m: unhashable type: 'numpy.ndarray'"
     ]
    },
    {
     "data": {
      "image/png": "[encoded data removed]",
      "text/plain": [
       "<Figure size 640x480 with 1 Axes>"
      ]
     },
     "metadata": {},
     "output_type": "display_data"
    }
   ],
   "source": [
    "relevant_unemployment_df['week_number'].value_counts().plot.bar()\n",
    "plt.plot(relevant_unemployment_df)"
   ]
  },
  {
   "cell_type": "code",
   "execution_count": 56,
   "id": "153c8a81",
   "metadata": {
    "execution": {
     "iopub.execute_input": "2023-05-10T00:47:11.787433Z",
     "iopub.status.busy": "2023-05-10T00:47:11.787318Z",
     "iopub.status.idle": "2023-05-10T00:47:11.970507Z",
     "shell.execute_reply": "2023-05-10T00:47:11.970211Z"
    }
   },
   "outputs": [
    {
     "data": {
      "text/plain": [
       "[<matplotlib.lines.Line2D at 0x13f08b880>]"
      ]
     },
     "execution_count": 56,
     "metadata": {},
     "output_type": "execute_result"
    },
    {
     "data": {
      "image/png": "[encoded data removed]",
      "text/plain": [
       "<Figure size 640x480 with 1 Axes>"
      ]
     },
     "metadata": {},
     "output_type": "display_data"
    }
   ],
   "source": [
    "plt.plot(relevant_unemployment_df['week_number'])"
   ]
  },
  {
   "cell_type": "code",
   "execution_count": 57,
   "id": "40a5d342",
   "metadata": {
    "execution": {
     "iopub.execute_input": "2023-05-10T00:47:11.972056Z",
     "iopub.status.busy": "2023-05-10T00:47:11.971939Z",
     "iopub.status.idle": "2023-05-10T00:47:11.981770Z",
     "shell.execute_reply": "2023-05-10T00:47:11.981340Z"
    }
   },
   "outputs": [
    {
     "ename": "TypeError",
     "evalue": "'IntegerArray' object is not callable",
     "output_type": "error",
     "traceback": [
      "\u001b[0;31m---------------------------------------------------------------------------\u001b[0m",
      "\u001b[0;31mTypeError\u001b[0m                                 Traceback (most recent call last)",
      "Cell \u001b[0;32mIn [57], line 1\u001b[0m\n\u001b[0;32m----> 1\u001b[0m \u001b[43mrelevant_unemployment_df\u001b[49m\u001b[43m[\u001b[49m\u001b[38;5;124;43m'\u001b[39;49m\u001b[38;5;124;43muu_id\u001b[39;49m\u001b[38;5;124;43m'\u001b[39;49m\u001b[43m]\u001b[49m\u001b[38;5;241;43m.\u001b[39;49m\u001b[43mvalue_counts\u001b[49m\u001b[43m(\u001b[49m\u001b[43m)\u001b[49m\u001b[38;5;241;43m.\u001b[39;49m\u001b[43mvalues\u001b[49m\u001b[43m(\u001b[49m\u001b[43m)\u001b[49m\n",
      "\u001b[0;31mTypeError\u001b[0m: 'IntegerArray' object is not callable"
     ]
    }
   ],
   "source": [
    "relevant_unemployment_df['uu_id'].value_counts().values()"
   ]
  },
  {
   "cell_type": "code",
   "execution_count": 58,
   "id": "a9240027",
   "metadata": {
    "execution": {
     "iopub.execute_input": "2023-05-10T00:47:11.984623Z",
     "iopub.status.busy": "2023-05-10T00:47:11.984168Z",
     "iopub.status.idle": "2023-05-10T00:47:11.991742Z",
     "shell.execute_reply": "2023-05-10T00:47:11.990984Z"
    }
   },
   "outputs": [
    {
     "data": {
      "text/plain": [
       "7b208b710114a393f20ec464c7849157    35\n",
       "db27f7d84ea8ef691d33dbb715272977    35\n",
       "b1d41e64e8d10b7c427570a7f77f1826    35\n",
       "ae2f6787bb01d859420365f1ab55a3c1    35\n",
       "adf09caf6306aab8015ea16df0efab86    35\n",
       "                                    ..\n",
       "b63efd0868b06138b7c8f9da9027e457     5\n",
       "b67c2c4abede3730932f8d53aba0341a     4\n",
       "747f8bc2b0c8c0a04d29caa4cfe327d2     4\n",
       "f7f087af0599e6b2eaa4045ba1a0be50     3\n",
       "6fbb60a508283bc1fb30c13ac419941a     3\n",
       "Name: uu_id, Length: 525, dtype: Int64"
      ]
     },
     "execution_count": 58,
     "metadata": {},
     "output_type": "execute_result"
    }
   ],
   "source": [
    "relevant_unemployment_df['uu_id'].value_counts()"
   ]
  },
  {
   "cell_type": "code",
   "execution_count": 59,
   "id": "e8699413",
   "metadata": {
    "execution": {
     "iopub.execute_input": "2023-05-10T00:47:11.995351Z",
     "iopub.status.busy": "2023-05-10T00:47:11.995014Z",
     "iopub.status.idle": "2023-05-10T00:47:12.110041Z",
     "shell.execute_reply": "2023-05-10T00:47:12.109289Z"
    }
   },
   "outputs": [
    {
     "ename": "ValueError",
     "evalue": "x and y must have same first dimension, but have shapes (13977,) and (35,)",
     "output_type": "error",
     "traceback": [
      "\u001b[0;31m---------------------------------------------------------------------------\u001b[0m",
      "\u001b[0;31mValueError\u001b[0m                                Traceback (most recent call last)",
      "Cell \u001b[0;32mIn [59], line 1\u001b[0m\n\u001b[0;32m----> 1\u001b[0m \u001b[43mplt\u001b[49m\u001b[38;5;241;43m.\u001b[39;49m\u001b[43mplot\u001b[49m\u001b[43m(\u001b[49m\u001b[43mrelevant_unemployment_df\u001b[49m\u001b[43m[\u001b[49m\u001b[38;5;124;43m'\u001b[39;49m\u001b[38;5;124;43mweek_number\u001b[39;49m\u001b[38;5;124;43m'\u001b[39;49m\u001b[43m]\u001b[49m\u001b[43m,\u001b[49m\u001b[43mrelevant_unemployment_df\u001b[49m\u001b[43m[\u001b[49m\u001b[38;5;124;43m'\u001b[39;49m\u001b[38;5;124;43mweek_number\u001b[39;49m\u001b[38;5;124;43m'\u001b[39;49m\u001b[43m]\u001b[49m\u001b[38;5;241;43m.\u001b[39;49m\u001b[43mvalue_counts\u001b[49m\u001b[43m(\u001b[49m\u001b[43m)\u001b[49m\u001b[43m)\u001b[49m\n",
      "File \u001b[0;32m/opt/homebrew/lib/python3.9/site-packages/matplotlib/pyplot.py:2748\u001b[0m, in \u001b[0;36mplot\u001b[0;34m(scalex, scaley, data, *args, **kwargs)\u001b[0m\n\u001b[1;32m   2746\u001b[0m \u001b[38;5;129m@_copy_docstring_and_deprecators\u001b[39m(Axes\u001b[38;5;241m.\u001b[39mplot)\n\u001b[1;32m   2747\u001b[0m \u001b[38;5;28;01mdef\u001b[39;00m \u001b[38;5;21mplot\u001b[39m(\u001b[38;5;241m*\u001b[39margs, scalex\u001b[38;5;241m=\u001b[39m\u001b[38;5;28;01mTrue\u001b[39;00m, scaley\u001b[38;5;241m=\u001b[39m\u001b[38;5;28;01mTrue\u001b[39;00m, data\u001b[38;5;241m=\u001b[39m\u001b[38;5;28;01mNone\u001b[39;00m, \u001b[38;5;241m*\u001b[39m\u001b[38;5;241m*\u001b[39mkwargs):\n\u001b[0;32m-> 2748\u001b[0m     \u001b[38;5;28;01mreturn\u001b[39;00m \u001b[43mgca\u001b[49m\u001b[43m(\u001b[49m\u001b[43m)\u001b[49m\u001b[38;5;241;43m.\u001b[39;49m\u001b[43mplot\u001b[49m\u001b[43m(\u001b[49m\n\u001b[1;32m   2749\u001b[0m \u001b[43m        \u001b[49m\u001b[38;5;241;43m*\u001b[39;49m\u001b[43margs\u001b[49m\u001b[43m,\u001b[49m\u001b[43m \u001b[49m\u001b[43mscalex\u001b[49m\u001b[38;5;241;43m=\u001b[39;49m\u001b[43mscalex\u001b[49m\u001b[43m,\u001b[49m\u001b[43m \u001b[49m\u001b[43mscaley\u001b[49m\u001b[38;5;241;43m=\u001b[39;49m\u001b[43mscaley\u001b[49m\u001b[43m,\u001b[49m\n\u001b[1;32m   2750\u001b[0m \u001b[43m        \u001b[49m\u001b[38;5;241;43m*\u001b[39;49m\u001b[38;5;241;43m*\u001b[39;49m\u001b[43m(\u001b[49m\u001b[43m{\u001b[49m\u001b[38;5;124;43m\"\u001b[39;49m\u001b[38;5;124;43mdata\u001b[39;49m\u001b[38;5;124;43m\"\u001b[39;49m\u001b[43m:\u001b[49m\u001b[43m \u001b[49m\u001b[43mdata\u001b[49m\u001b[43m}\u001b[49m\u001b[43m \u001b[49m\u001b[38;5;28;43;01mif\u001b[39;49;00m\u001b[43m \u001b[49m\u001b[43mdata\u001b[49m\u001b[43m \u001b[49m\u001b[38;5;129;43;01mis\u001b[39;49;00m\u001b[43m \u001b[49m\u001b[38;5;129;43;01mnot\u001b[39;49;00m\u001b[43m \u001b[49m\u001b[38;5;28;43;01mNone\u001b[39;49;00m\u001b[43m \u001b[49m\u001b[38;5;28;43;01melse\u001b[39;49;00m\u001b[43m \u001b[49m\u001b[43m{\u001b[49m\u001b[43m}\u001b[49m\u001b[43m)\u001b[49m\u001b[43m,\u001b[49m\u001b[43m \u001b[49m\u001b[38;5;241;43m*\u001b[39;49m\u001b[38;5;241;43m*\u001b[39;49m\u001b[43mkwargs\u001b[49m\u001b[43m)\u001b[49m\n",
      "File \u001b[0;32m/opt/homebrew/lib/python3.9/site-packages/matplotlib/axes/_axes.py:1668\u001b[0m, in \u001b[0;36mAxes.plot\u001b[0;34m(self, scalex, scaley, data, *args, **kwargs)\u001b[0m\n\u001b[1;32m   1425\u001b[0m \u001b[38;5;124;03m\"\"\"\u001b[39;00m\n\u001b[1;32m   1426\u001b[0m \u001b[38;5;124;03mPlot y versus x as lines and/or markers.\u001b[39;00m\n\u001b[1;32m   1427\u001b[0m \n\u001b[0;32m   (...)\u001b[0m\n\u001b[1;32m   1665\u001b[0m \u001b[38;5;124;03m(``'green'``) or hex strings (``'#008000'``).\u001b[39;00m\n\u001b[1;32m   1666\u001b[0m \u001b[38;5;124;03m\"\"\"\u001b[39;00m\n\u001b[1;32m   1667\u001b[0m kwargs \u001b[38;5;241m=\u001b[39m cbook\u001b[38;5;241m.\u001b[39mnormalize_kwargs(kwargs, mlines\u001b[38;5;241m.\u001b[39mLine2D)\n\u001b[0;32m-> 1668\u001b[0m lines \u001b[38;5;241m=\u001b[39m [\u001b[38;5;241m*\u001b[39m\u001b[38;5;28mself\u001b[39m\u001b[38;5;241m.\u001b[39m_get_lines(\u001b[38;5;241m*\u001b[39margs, data\u001b[38;5;241m=\u001b[39mdata, \u001b[38;5;241m*\u001b[39m\u001b[38;5;241m*\u001b[39mkwargs)]\n\u001b[1;32m   1669\u001b[0m \u001b[38;5;28;01mfor\u001b[39;00m line \u001b[38;5;129;01min\u001b[39;00m lines:\n\u001b[1;32m   1670\u001b[0m     \u001b[38;5;28mself\u001b[39m\u001b[38;5;241m.\u001b[39madd_line(line)\n",
      "File \u001b[0;32m/opt/homebrew/lib/python3.9/site-packages/matplotlib/axes/_base.py:311\u001b[0m, in \u001b[0;36m_process_plot_var_args.__call__\u001b[0;34m(self, data, *args, **kwargs)\u001b[0m\n\u001b[1;32m    309\u001b[0m     this \u001b[38;5;241m+\u001b[39m\u001b[38;5;241m=\u001b[39m args[\u001b[38;5;241m0\u001b[39m],\n\u001b[1;32m    310\u001b[0m     args \u001b[38;5;241m=\u001b[39m args[\u001b[38;5;241m1\u001b[39m:]\n\u001b[0;32m--> 311\u001b[0m \u001b[38;5;28;01myield from\u001b[39;00m \u001b[38;5;28;43mself\u001b[39;49m\u001b[38;5;241;43m.\u001b[39;49m\u001b[43m_plot_args\u001b[49m\u001b[43m(\u001b[49m\n\u001b[1;32m    312\u001b[0m \u001b[43m    \u001b[49m\u001b[43mthis\u001b[49m\u001b[43m,\u001b[49m\u001b[43m \u001b[49m\u001b[43mkwargs\u001b[49m\u001b[43m,\u001b[49m\u001b[43m \u001b[49m\u001b[43mambiguous_fmt_datakey\u001b[49m\u001b[38;5;241;43m=\u001b[39;49m\u001b[43mambiguous_fmt_datakey\u001b[49m\u001b[43m)\u001b[49m\n",
      "File \u001b[0;32m/opt/homebrew/lib/python3.9/site-packages/matplotlib/axes/_base.py:504\u001b[0m, in \u001b[0;36m_process_plot_var_args._plot_args\u001b[0;34m(self, tup, kwargs, return_kwargs, ambiguous_fmt_datakey)\u001b[0m\n\u001b[1;32m    501\u001b[0m     \u001b[38;5;28mself\u001b[39m\u001b[38;5;241m.\u001b[39maxes\u001b[38;5;241m.\u001b[39myaxis\u001b[38;5;241m.\u001b[39mupdate_units(y)\n\u001b[1;32m    503\u001b[0m \u001b[38;5;28;01mif\u001b[39;00m x\u001b[38;5;241m.\u001b[39mshape[\u001b[38;5;241m0\u001b[39m] \u001b[38;5;241m!=\u001b[39m y\u001b[38;5;241m.\u001b[39mshape[\u001b[38;5;241m0\u001b[39m]:\n\u001b[0;32m--> 504\u001b[0m     \u001b[38;5;28;01mraise\u001b[39;00m \u001b[38;5;167;01mValueError\u001b[39;00m(\u001b[38;5;124mf\u001b[39m\u001b[38;5;124m\"\u001b[39m\u001b[38;5;124mx and y must have same first dimension, but \u001b[39m\u001b[38;5;124m\"\u001b[39m\n\u001b[1;32m    505\u001b[0m                      \u001b[38;5;124mf\u001b[39m\u001b[38;5;124m\"\u001b[39m\u001b[38;5;124mhave shapes \u001b[39m\u001b[38;5;132;01m{\u001b[39;00mx\u001b[38;5;241m.\u001b[39mshape\u001b[38;5;132;01m}\u001b[39;00m\u001b[38;5;124m and \u001b[39m\u001b[38;5;132;01m{\u001b[39;00my\u001b[38;5;241m.\u001b[39mshape\u001b[38;5;132;01m}\u001b[39;00m\u001b[38;5;124m\"\u001b[39m)\n\u001b[1;32m    506\u001b[0m \u001b[38;5;28;01mif\u001b[39;00m x\u001b[38;5;241m.\u001b[39mndim \u001b[38;5;241m>\u001b[39m \u001b[38;5;241m2\u001b[39m \u001b[38;5;129;01mor\u001b[39;00m y\u001b[38;5;241m.\u001b[39mndim \u001b[38;5;241m>\u001b[39m \u001b[38;5;241m2\u001b[39m:\n\u001b[1;32m    507\u001b[0m     \u001b[38;5;28;01mraise\u001b[39;00m \u001b[38;5;167;01mValueError\u001b[39;00m(\u001b[38;5;124mf\u001b[39m\u001b[38;5;124m\"\u001b[39m\u001b[38;5;124mx and y can be no greater than 2D, but have \u001b[39m\u001b[38;5;124m\"\u001b[39m\n\u001b[1;32m    508\u001b[0m                      \u001b[38;5;124mf\u001b[39m\u001b[38;5;124m\"\u001b[39m\u001b[38;5;124mshapes \u001b[39m\u001b[38;5;132;01m{\u001b[39;00mx\u001b[38;5;241m.\u001b[39mshape\u001b[38;5;132;01m}\u001b[39;00m\u001b[38;5;124m and \u001b[39m\u001b[38;5;132;01m{\u001b[39;00my\u001b[38;5;241m.\u001b[39mshape\u001b[38;5;132;01m}\u001b[39;00m\u001b[38;5;124m\"\u001b[39m)\n",
      "\u001b[0;31mValueError\u001b[0m: x and y must have same first dimension, but have shapes (13977,) and (35,)"
     ]
    },
    {
     "data": {
      "image/png": "[encoded data removed]",
      "text/plain": [
       "<Figure size 640x480 with 1 Axes>"
      ]
     },
     "metadata": {},
     "output_type": "display_data"
    }
   ],
   "source": [
    "plt.plot(relevant_unemployment_df['week_number'],relevant_unemployment_df['week_number'].value_counts())"
   ]
  },
  {
   "cell_type": "code",
   "execution_count": 60,
   "id": "137cdf16",
   "metadata": {
    "execution": {
     "iopub.execute_input": "2023-05-10T00:47:12.113641Z",
     "iopub.status.busy": "2023-05-10T00:47:12.113305Z",
     "iopub.status.idle": "2023-05-10T00:47:12.120773Z",
     "shell.execute_reply": "2023-05-10T00:47:12.119833Z"
    }
   },
   "outputs": [
    {
     "data": {
      "text/plain": [
       "2     498\n",
       "3     482\n",
       "1     470\n",
       "5     468\n",
       "6     455\n",
       "7     445\n",
       "8     434\n",
       "36    428\n",
       "37    423\n",
       "16    420\n",
       "9     420\n",
       "15    420\n",
       "33    417\n",
       "34    413\n",
       "17    407\n",
       "31    405\n",
       "10    403\n",
       "35    403\n",
       "11    400\n",
       "18    397\n",
       "12    390\n",
       "29    386\n",
       "32    386\n",
       "14    382\n",
       "30    373\n",
       "26    372\n",
       "25    371\n",
       "13    368\n",
       "27    363\n",
       "21    350\n",
       "24    346\n",
       "20    345\n",
       "19    343\n",
       "22    336\n",
       "28    258\n",
       "Name: week_number, dtype: Int64"
      ]
     },
     "execution_count": 60,
     "metadata": {},
     "output_type": "execute_result"
    }
   ],
   "source": [
    "relevant_unemployment_df['week_number'].value_counts()"
   ]
  },
  {
   "cell_type": "code",
   "execution_count": 61,
   "id": "4e7a8e0a",
   "metadata": {
    "execution": {
     "iopub.execute_input": "2023-05-10T00:47:12.123705Z",
     "iopub.status.busy": "2023-05-10T00:47:12.123206Z",
     "iopub.status.idle": "2023-05-10T00:47:12.214906Z",
     "shell.execute_reply": "2023-05-10T00:47:12.214591Z"
    }
   },
   "outputs": [
    {
     "data": {
      "text/plain": [
       "[<matplotlib.lines.Line2D at 0x13f1452e0>]"
      ]
     },
     "execution_count": 61,
     "metadata": {},
     "output_type": "execute_result"
    },
    {
     "data": {
      "image/png": "[encoded data removed]",
      "text/plain": [
       "<Figure size 640x480 with 1 Axes>"
      ]
     },
     "metadata": {},
     "output_type": "display_data"
    }
   ],
   "source": [
    "plt.plot(relevant_unemployment_df['week_number'].value_counts())"
   ]
  },
  {
   "cell_type": "code",
   "execution_count": 62,
   "id": "7f196a71",
   "metadata": {
    "execution": {
     "iopub.execute_input": "2023-05-10T00:47:12.216500Z",
     "iopub.status.busy": "2023-05-10T00:47:12.216378Z",
     "iopub.status.idle": "2023-05-10T00:47:12.223753Z",
     "shell.execute_reply": "2023-05-10T00:47:12.223433Z"
    }
   },
   "outputs": [
    {
     "ename": "AttributeError",
     "evalue": "'function' object has no attribute 'plot'",
     "output_type": "error",
     "traceback": [
      "\u001b[0;31m---------------------------------------------------------------------------\u001b[0m",
      "\u001b[0;31mAttributeError\u001b[0m                            Traceback (most recent call last)",
      "Cell \u001b[0;32mIn [62], line 1\u001b[0m\n\u001b[0;32m----> 1\u001b[0m \u001b[43mplt\u001b[49m\u001b[38;5;241;43m.\u001b[39;49m\u001b[43mbar\u001b[49m\u001b[38;5;241;43m.\u001b[39;49m\u001b[43mplot\u001b[49m(relevant_unemployment_df[\u001b[38;5;124m'\u001b[39m\u001b[38;5;124mweek_number\u001b[39m\u001b[38;5;124m'\u001b[39m]\u001b[38;5;241m.\u001b[39mvalue_counts())\n",
      "\u001b[0;31mAttributeError\u001b[0m: 'function' object has no attribute 'plot'"
     ]
    }
   ],
   "source": [
    "plt.bar.plot(relevant_unemployment_df['week_number'].value_counts())"
   ]
  },
  {
   "cell_type": "code",
   "execution_count": 63,
   "id": "212bfd1e",
   "metadata": {
    "execution": {
     "iopub.execute_input": "2023-05-10T00:47:12.225249Z",
     "iopub.status.busy": "2023-05-10T00:47:12.225135Z",
     "iopub.status.idle": "2023-05-10T00:47:12.232776Z",
     "shell.execute_reply": "2023-05-10T00:47:12.232427Z"
    }
   },
   "outputs": [
    {
     "ename": "TypeError",
     "evalue": "bar() missing 1 required positional argument: 'height'",
     "output_type": "error",
     "traceback": [
      "\u001b[0;31m---------------------------------------------------------------------------\u001b[0m",
      "\u001b[0;31mTypeError\u001b[0m                                 Traceback (most recent call last)",
      "Cell \u001b[0;32mIn [63], line 1\u001b[0m\n\u001b[0;32m----> 1\u001b[0m \u001b[43mplt\u001b[49m\u001b[38;5;241;43m.\u001b[39;49m\u001b[43mbar\u001b[49m\u001b[43m(\u001b[49m\u001b[43mrelevant_unemployment_df\u001b[49m\u001b[43m[\u001b[49m\u001b[38;5;124;43m'\u001b[39;49m\u001b[38;5;124;43mweek_number\u001b[39;49m\u001b[38;5;124;43m'\u001b[39;49m\u001b[43m]\u001b[49m\u001b[38;5;241;43m.\u001b[39;49m\u001b[43mvalue_counts\u001b[49m\u001b[43m(\u001b[49m\u001b[43m)\u001b[49m\u001b[43m)\u001b[49m\n",
      "\u001b[0;31mTypeError\u001b[0m: bar() missing 1 required positional argument: 'height'"
     ]
    }
   ],
   "source": [
    "plt.bar(relevant_unemployment_df['week_number'].value_counts())"
   ]
  },
  {
   "cell_type": "code",
   "execution_count": 64,
   "id": "1038f3d3",
   "metadata": {
    "execution": {
     "iopub.execute_input": "2023-05-10T00:47:12.234185Z",
     "iopub.status.busy": "2023-05-10T00:47:12.234081Z",
     "iopub.status.idle": "2023-05-10T00:47:12.237583Z",
     "shell.execute_reply": "2023-05-10T00:47:12.237148Z"
    }
   },
   "outputs": [
    {
     "data": {
      "text/plain": [
       "week_number\n",
       "1     470\n",
       "2     498\n",
       "3     482\n",
       "5     468\n",
       "6     455\n",
       "7     445\n",
       "8     434\n",
       "9     420\n",
       "10    403\n",
       "11    400\n",
       "12    390\n",
       "13    368\n",
       "14    382\n",
       "15    420\n",
       "16    420\n",
       "17    407\n",
       "18    397\n",
       "19    343\n",
       "20    345\n",
       "21    350\n",
       "22    336\n",
       "24    346\n",
       "25    371\n",
       "26    372\n",
       "27    363\n",
       "28    258\n",
       "29    386\n",
       "30    373\n",
       "31    405\n",
       "32    386\n",
       "33    417\n",
       "34    413\n",
       "35    403\n",
       "36    428\n",
       "37    423\n",
       "Name: week_number, dtype: int64"
      ]
     },
     "execution_count": 64,
     "metadata": {},
     "output_type": "execute_result"
    }
   ],
   "source": [
    "relevant_unemployment_df.groupby(['week_number'])['week_number'].count()"
   ]
  },
  {
   "cell_type": "markdown",
   "id": "7cfef330",
   "metadata": {},
   "source": [
    "plt.bar(relevant_unemployment_df['week_number'].value_counts())"
   ]
  },
  {
   "cell_type": "code",
   "execution_count": 65,
   "id": "f2ae952d",
   "metadata": {
    "execution": {
     "iopub.execute_input": "2023-05-10T00:47:12.239048Z",
     "iopub.status.busy": "2023-05-10T00:47:12.238957Z",
     "iopub.status.idle": "2023-05-10T00:47:12.245932Z",
     "shell.execute_reply": "2023-05-10T00:47:12.245676Z"
    }
   },
   "outputs": [
    {
     "ename": "NameError",
     "evalue": "name 'pd' is not defined",
     "output_type": "error",
     "traceback": [
      "\u001b[0;31m---------------------------------------------------------------------------\u001b[0m",
      "\u001b[0;31mNameError\u001b[0m                                 Traceback (most recent call last)",
      "Cell \u001b[0;32mIn [65], line 1\u001b[0m\n\u001b[0;32m----> 1\u001b[0m \u001b[43mpd\u001b[49m\u001b[38;5;241m.\u001b[39mDataFrame(relevant_unemployment_df\u001b[38;5;241m.\u001b[39mgroupby([\u001b[38;5;124m'\u001b[39m\u001b[38;5;124mweek_number\u001b[39m\u001b[38;5;124m'\u001b[39m])[\u001b[38;5;124m'\u001b[39m\u001b[38;5;124mweek_number\u001b[39m\u001b[38;5;124m'\u001b[39m]\u001b[38;5;241m.\u001b[39mcount())\n",
      "\u001b[0;31mNameError\u001b[0m: name 'pd' is not defined"
     ]
    }
   ],
   "source": [
    "pd.DataFrame(relevant_unemployment_df.groupby(['week_number'])['week_number'].count())"
   ]
  },
  {
   "cell_type": "markdown",
   "id": "3643d847",
   "metadata": {},
   "source": [
    "plt.bar(relevant_unemployment_df['week_number'].value_counts())"
   ]
  },
  {
   "cell_type": "code",
   "execution_count": 66,
   "id": "3d073554",
   "metadata": {
    "execution": {
     "iopub.execute_input": "2023-05-10T00:47:12.247339Z",
     "iopub.status.busy": "2023-05-10T00:47:12.247253Z",
     "iopub.status.idle": "2023-05-10T00:47:12.249226Z",
     "shell.execute_reply": "2023-05-10T00:47:12.248986Z"
    }
   },
   "outputs": [],
   "source": [
    "import os\n",
    "import pandas as pd\n",
    "from google.cloud import bigquery\n",
    "from google.oauth2 import service_account\n",
    "from google.cloud.bigquery import magics\n",
    "import matplotlib.pyplot as plt"
   ]
  },
  {
   "cell_type": "code",
   "execution_count": 67,
   "id": "aba1f017",
   "metadata": {
    "execution": {
     "iopub.execute_input": "2023-05-10T00:47:12.250623Z",
     "iopub.status.busy": "2023-05-10T00:47:12.250514Z",
     "iopub.status.idle": "2023-05-10T00:47:12.254591Z",
     "shell.execute_reply": "2023-05-10T00:47:12.254338Z"
    }
   },
   "outputs": [
    {
     "data": {
      "text/html": [
       "<div>\n",
       "<style scoped>\n",
       "    .dataframe tbody tr th:only-of-type {\n",
       "        vertical-align: middle;\n",
       "    }\n",
       "\n",
       "    .dataframe tbody tr th {\n",
       "        vertical-align: top;\n",
       "    }\n",
       "\n",
       "    .dataframe thead th {\n",
       "        text-align: right;\n",
       "    }\n",
       "</style>\n",
       "<table border=\"1\" class=\"dataframe\">\n",
       "  <thead>\n",
       "    <tr style=\"text-align: right;\">\n",
       "      <th></th>\n",
       "      <th>week_number</th>\n",
       "    </tr>\n",
       "    <tr>\n",
       "      <th>week_number</th>\n",
       "      <th></th>\n",
       "    </tr>\n",
       "  </thead>\n",
       "  <tbody>\n",
       "    <tr>\n",
       "      <th>1</th>\n",
       "      <td>470</td>\n",
       "    </tr>\n",
       "    <tr>\n",
       "      <th>2</th>\n",
       "      <td>498</td>\n",
       "    </tr>\n",
       "    <tr>\n",
       "      <th>3</th>\n",
       "      <td>482</td>\n",
       "    </tr>\n",
       "    <tr>\n",
       "      <th>5</th>\n",
       "      <td>468</td>\n",
       "    </tr>\n",
       "    <tr>\n",
       "      <th>6</th>\n",
       "      <td>455</td>\n",
       "    </tr>\n",
       "    <tr>\n",
       "      <th>7</th>\n",
       "      <td>445</td>\n",
       "    </tr>\n",
       "    <tr>\n",
       "      <th>8</th>\n",
       "      <td>434</td>\n",
       "    </tr>\n",
       "    <tr>\n",
       "      <th>9</th>\n",
       "      <td>420</td>\n",
       "    </tr>\n",
       "    <tr>\n",
       "      <th>10</th>\n",
       "      <td>403</td>\n",
       "    </tr>\n",
       "    <tr>\n",
       "      <th>11</th>\n",
       "      <td>400</td>\n",
       "    </tr>\n",
       "    <tr>\n",
       "      <th>12</th>\n",
       "      <td>390</td>\n",
       "    </tr>\n",
       "    <tr>\n",
       "      <th>13</th>\n",
       "      <td>368</td>\n",
       "    </tr>\n",
       "    <tr>\n",
       "      <th>14</th>\n",
       "      <td>382</td>\n",
       "    </tr>\n",
       "    <tr>\n",
       "      <th>15</th>\n",
       "      <td>420</td>\n",
       "    </tr>\n",
       "    <tr>\n",
       "      <th>16</th>\n",
       "      <td>420</td>\n",
       "    </tr>\n",
       "    <tr>\n",
       "      <th>17</th>\n",
       "      <td>407</td>\n",
       "    </tr>\n",
       "    <tr>\n",
       "      <th>18</th>\n",
       "      <td>397</td>\n",
       "    </tr>\n",
       "    <tr>\n",
       "      <th>19</th>\n",
       "      <td>343</td>\n",
       "    </tr>\n",
       "    <tr>\n",
       "      <th>20</th>\n",
       "      <td>345</td>\n",
       "    </tr>\n",
       "    <tr>\n",
       "      <th>21</th>\n",
       "      <td>350</td>\n",
       "    </tr>\n",
       "    <tr>\n",
       "      <th>22</th>\n",
       "      <td>336</td>\n",
       "    </tr>\n",
       "    <tr>\n",
       "      <th>24</th>\n",
       "      <td>346</td>\n",
       "    </tr>\n",
       "    <tr>\n",
       "      <th>25</th>\n",
       "      <td>371</td>\n",
       "    </tr>\n",
       "    <tr>\n",
       "      <th>26</th>\n",
       "      <td>372</td>\n",
       "    </tr>\n",
       "    <tr>\n",
       "      <th>27</th>\n",
       "      <td>363</td>\n",
       "    </tr>\n",
       "    <tr>\n",
       "      <th>28</th>\n",
       "      <td>258</td>\n",
       "    </tr>\n",
       "    <tr>\n",
       "      <th>29</th>\n",
       "      <td>386</td>\n",
       "    </tr>\n",
       "    <tr>\n",
       "      <th>30</th>\n",
       "      <td>373</td>\n",
       "    </tr>\n",
       "    <tr>\n",
       "      <th>31</th>\n",
       "      <td>405</td>\n",
       "    </tr>\n",
       "    <tr>\n",
       "      <th>32</th>\n",
       "      <td>386</td>\n",
       "    </tr>\n",
       "    <tr>\n",
       "      <th>33</th>\n",
       "      <td>417</td>\n",
       "    </tr>\n",
       "    <tr>\n",
       "      <th>34</th>\n",
       "      <td>413</td>\n",
       "    </tr>\n",
       "    <tr>\n",
       "      <th>35</th>\n",
       "      <td>403</td>\n",
       "    </tr>\n",
       "    <tr>\n",
       "      <th>36</th>\n",
       "      <td>428</td>\n",
       "    </tr>\n",
       "    <tr>\n",
       "      <th>37</th>\n",
       "      <td>423</td>\n",
       "    </tr>\n",
       "  </tbody>\n",
       "</table>\n",
       "</div>"
      ],
      "text/plain": [
       "             week_number\n",
       "week_number             \n",
       "1                    470\n",
       "2                    498\n",
       "3                    482\n",
       "5                    468\n",
       "6                    455\n",
       "7                    445\n",
       "8                    434\n",
       "9                    420\n",
       "10                   403\n",
       "11                   400\n",
       "12                   390\n",
       "13                   368\n",
       "14                   382\n",
       "15                   420\n",
       "16                   420\n",
       "17                   407\n",
       "18                   397\n",
       "19                   343\n",
       "20                   345\n",
       "21                   350\n",
       "22                   336\n",
       "24                   346\n",
       "25                   371\n",
       "26                   372\n",
       "27                   363\n",
       "28                   258\n",
       "29                   386\n",
       "30                   373\n",
       "31                   405\n",
       "32                   386\n",
       "33                   417\n",
       "34                   413\n",
       "35                   403\n",
       "36                   428\n",
       "37                   423"
      ]
     },
     "execution_count": 67,
     "metadata": {},
     "output_type": "execute_result"
    }
   ],
   "source": [
    "pd.DataFrame(relevant_unemployment_df.groupby(['week_number'])['week_number'].count())"
   ]
  },
  {
   "cell_type": "markdown",
   "id": "aa90bb7b",
   "metadata": {},
   "source": [
    "plt.bar(relevant_unemployment_df['week_number'].value_counts())"
   ]
  },
  {
   "cell_type": "code",
   "execution_count": 68,
   "id": "3075b2ae",
   "metadata": {
    "execution": {
     "iopub.execute_input": "2023-05-10T00:47:12.256108Z",
     "iopub.status.busy": "2023-05-10T00:47:12.256017Z",
     "iopub.status.idle": "2023-05-10T00:47:12.322837Z",
     "shell.execute_reply": "2023-05-10T00:47:12.322397Z"
    }
   },
   "outputs": [
    {
     "data": {
      "text/plain": [
       "<AxesSubplot: xlabel='week_number'>"
      ]
     },
     "execution_count": 68,
     "metadata": {},
     "output_type": "execute_result"
    },
    {
     "data": {
      "image/png": "[encoded data removed]",
      "text/plain": [
       "<Figure size 640x480 with 1 Axes>"
      ]
     },
     "metadata": {},
     "output_type": "display_data"
    }
   ],
   "source": [
    "pd.DataFrame(relevant_unemployment_df.groupby(['week_number'])['week_number'].count()).plot()"
   ]
  },
  {
   "cell_type": "markdown",
   "id": "0e476e4f",
   "metadata": {},
   "source": [
    "plt.bar(relevant_unemployment_df['week_number'].value_counts())"
   ]
  },
  {
   "cell_type": "code",
   "execution_count": 69,
   "id": "a7cf5764",
   "metadata": {
    "execution": {
     "iopub.execute_input": "2023-05-10T00:47:12.324403Z",
     "iopub.status.busy": "2023-05-10T00:47:12.324284Z",
     "iopub.status.idle": "2023-05-10T00:47:12.328596Z",
     "shell.execute_reply": "2023-05-10T00:47:12.328336Z"
    }
   },
   "outputs": [
    {
     "data": {
      "text/html": [
       "<div>\n",
       "<style scoped>\n",
       "    .dataframe tbody tr th:only-of-type {\n",
       "        vertical-align: middle;\n",
       "    }\n",
       "\n",
       "    .dataframe tbody tr th {\n",
       "        vertical-align: top;\n",
       "    }\n",
       "\n",
       "    .dataframe thead th {\n",
       "        text-align: right;\n",
       "    }\n",
       "</style>\n",
       "<table border=\"1\" class=\"dataframe\">\n",
       "  <thead>\n",
       "    <tr style=\"text-align: right;\">\n",
       "      <th></th>\n",
       "      <th>week_number</th>\n",
       "    </tr>\n",
       "    <tr>\n",
       "      <th>week_number</th>\n",
       "      <th></th>\n",
       "    </tr>\n",
       "  </thead>\n",
       "  <tbody>\n",
       "    <tr>\n",
       "      <th>1</th>\n",
       "      <td>470</td>\n",
       "    </tr>\n",
       "    <tr>\n",
       "      <th>2</th>\n",
       "      <td>498</td>\n",
       "    </tr>\n",
       "    <tr>\n",
       "      <th>3</th>\n",
       "      <td>482</td>\n",
       "    </tr>\n",
       "    <tr>\n",
       "      <th>5</th>\n",
       "      <td>468</td>\n",
       "    </tr>\n",
       "    <tr>\n",
       "      <th>6</th>\n",
       "      <td>455</td>\n",
       "    </tr>\n",
       "    <tr>\n",
       "      <th>7</th>\n",
       "      <td>445</td>\n",
       "    </tr>\n",
       "    <tr>\n",
       "      <th>8</th>\n",
       "      <td>434</td>\n",
       "    </tr>\n",
       "    <tr>\n",
       "      <th>9</th>\n",
       "      <td>420</td>\n",
       "    </tr>\n",
       "    <tr>\n",
       "      <th>10</th>\n",
       "      <td>403</td>\n",
       "    </tr>\n",
       "    <tr>\n",
       "      <th>11</th>\n",
       "      <td>400</td>\n",
       "    </tr>\n",
       "    <tr>\n",
       "      <th>12</th>\n",
       "      <td>390</td>\n",
       "    </tr>\n",
       "    <tr>\n",
       "      <th>13</th>\n",
       "      <td>368</td>\n",
       "    </tr>\n",
       "    <tr>\n",
       "      <th>14</th>\n",
       "      <td>382</td>\n",
       "    </tr>\n",
       "    <tr>\n",
       "      <th>15</th>\n",
       "      <td>420</td>\n",
       "    </tr>\n",
       "    <tr>\n",
       "      <th>16</th>\n",
       "      <td>420</td>\n",
       "    </tr>\n",
       "    <tr>\n",
       "      <th>17</th>\n",
       "      <td>407</td>\n",
       "    </tr>\n",
       "    <tr>\n",
       "      <th>18</th>\n",
       "      <td>397</td>\n",
       "    </tr>\n",
       "    <tr>\n",
       "      <th>19</th>\n",
       "      <td>343</td>\n",
       "    </tr>\n",
       "    <tr>\n",
       "      <th>20</th>\n",
       "      <td>345</td>\n",
       "    </tr>\n",
       "    <tr>\n",
       "      <th>21</th>\n",
       "      <td>350</td>\n",
       "    </tr>\n",
       "    <tr>\n",
       "      <th>22</th>\n",
       "      <td>336</td>\n",
       "    </tr>\n",
       "    <tr>\n",
       "      <th>24</th>\n",
       "      <td>346</td>\n",
       "    </tr>\n",
       "    <tr>\n",
       "      <th>25</th>\n",
       "      <td>371</td>\n",
       "    </tr>\n",
       "    <tr>\n",
       "      <th>26</th>\n",
       "      <td>372</td>\n",
       "    </tr>\n",
       "    <tr>\n",
       "      <th>27</th>\n",
       "      <td>363</td>\n",
       "    </tr>\n",
       "    <tr>\n",
       "      <th>28</th>\n",
       "      <td>258</td>\n",
       "    </tr>\n",
       "    <tr>\n",
       "      <th>29</th>\n",
       "      <td>386</td>\n",
       "    </tr>\n",
       "    <tr>\n",
       "      <th>30</th>\n",
       "      <td>373</td>\n",
       "    </tr>\n",
       "    <tr>\n",
       "      <th>31</th>\n",
       "      <td>405</td>\n",
       "    </tr>\n",
       "    <tr>\n",
       "      <th>32</th>\n",
       "      <td>386</td>\n",
       "    </tr>\n",
       "    <tr>\n",
       "      <th>33</th>\n",
       "      <td>417</td>\n",
       "    </tr>\n",
       "    <tr>\n",
       "      <th>34</th>\n",
       "      <td>413</td>\n",
       "    </tr>\n",
       "    <tr>\n",
       "      <th>35</th>\n",
       "      <td>403</td>\n",
       "    </tr>\n",
       "    <tr>\n",
       "      <th>36</th>\n",
       "      <td>428</td>\n",
       "    </tr>\n",
       "    <tr>\n",
       "      <th>37</th>\n",
       "      <td>423</td>\n",
       "    </tr>\n",
       "  </tbody>\n",
       "</table>\n",
       "</div>"
      ],
      "text/plain": [
       "             week_number\n",
       "week_number             \n",
       "1                    470\n",
       "2                    498\n",
       "3                    482\n",
       "5                    468\n",
       "6                    455\n",
       "7                    445\n",
       "8                    434\n",
       "9                    420\n",
       "10                   403\n",
       "11                   400\n",
       "12                   390\n",
       "13                   368\n",
       "14                   382\n",
       "15                   420\n",
       "16                   420\n",
       "17                   407\n",
       "18                   397\n",
       "19                   343\n",
       "20                   345\n",
       "21                   350\n",
       "22                   336\n",
       "24                   346\n",
       "25                   371\n",
       "26                   372\n",
       "27                   363\n",
       "28                   258\n",
       "29                   386\n",
       "30                   373\n",
       "31                   405\n",
       "32                   386\n",
       "33                   417\n",
       "34                   413\n",
       "35                   403\n",
       "36                   428\n",
       "37                   423"
      ]
     },
     "execution_count": 69,
     "metadata": {},
     "output_type": "execute_result"
    }
   ],
   "source": [
    "pd.DataFrame(relevant_unemployment_df.groupby(['week_number'])['week_number'].count())"
   ]
  },
  {
   "cell_type": "markdown",
   "id": "10f6792c",
   "metadata": {},
   "source": [
    "plt.bar(relevant_unemployment_df['week_number'].value_counts())"
   ]
  },
  {
   "cell_type": "code",
   "execution_count": 70,
   "id": "3f7fcfbc",
   "metadata": {
    "execution": {
     "iopub.execute_input": "2023-05-10T00:47:12.330093Z",
     "iopub.status.busy": "2023-05-10T00:47:12.329999Z",
     "iopub.status.idle": "2023-05-10T00:47:12.396179Z",
     "shell.execute_reply": "2023-05-10T00:47:12.395897Z"
    }
   },
   "outputs": [
    {
     "data": {
      "text/plain": [
       "<AxesSubplot: xlabel='week_number'>"
      ]
     },
     "execution_count": 70,
     "metadata": {},
     "output_type": "execute_result"
    },
    {
     "data": {
      "image/png": "[encoded data removed]",
      "text/plain": [
       "<Figure size 640x480 with 1 Axes>"
      ]
     },
     "metadata": {},
     "output_type": "display_data"
    }
   ],
   "source": [
    "pd.DataFrame(relevant_unemployment_df.groupby(['week_number'])['week_number'].count()).plot()"
   ]
  },
  {
   "cell_type": "markdown",
   "id": "b0d66a64",
   "metadata": {},
   "source": [
    "plt.bar(relevant_unemployment_df['week_number'].value_counts())"
   ]
  },
  {
   "cell_type": "code",
   "execution_count": 71,
   "id": "4c01cc42",
   "metadata": {
    "execution": {
     "iopub.execute_input": "2023-05-10T00:47:12.397692Z",
     "iopub.status.busy": "2023-05-10T00:47:12.397574Z",
     "iopub.status.idle": "2023-05-10T00:47:12.402031Z",
     "shell.execute_reply": "2023-05-10T00:47:12.401780Z"
    }
   },
   "outputs": [
    {
     "data": {
      "text/html": [
       "<div>\n",
       "<style scoped>\n",
       "    .dataframe tbody tr th:only-of-type {\n",
       "        vertical-align: middle;\n",
       "    }\n",
       "\n",
       "    .dataframe tbody tr th {\n",
       "        vertical-align: top;\n",
       "    }\n",
       "\n",
       "    .dataframe thead th {\n",
       "        text-align: right;\n",
       "    }\n",
       "</style>\n",
       "<table border=\"1\" class=\"dataframe\">\n",
       "  <thead>\n",
       "    <tr style=\"text-align: right;\">\n",
       "      <th></th>\n",
       "      <th>week_number</th>\n",
       "    </tr>\n",
       "    <tr>\n",
       "      <th>week_number</th>\n",
       "      <th></th>\n",
       "    </tr>\n",
       "  </thead>\n",
       "  <tbody>\n",
       "    <tr>\n",
       "      <th>1</th>\n",
       "      <td>470</td>\n",
       "    </tr>\n",
       "    <tr>\n",
       "      <th>2</th>\n",
       "      <td>498</td>\n",
       "    </tr>\n",
       "    <tr>\n",
       "      <th>3</th>\n",
       "      <td>482</td>\n",
       "    </tr>\n",
       "    <tr>\n",
       "      <th>5</th>\n",
       "      <td>468</td>\n",
       "    </tr>\n",
       "    <tr>\n",
       "      <th>6</th>\n",
       "      <td>455</td>\n",
       "    </tr>\n",
       "    <tr>\n",
       "      <th>7</th>\n",
       "      <td>445</td>\n",
       "    </tr>\n",
       "    <tr>\n",
       "      <th>8</th>\n",
       "      <td>434</td>\n",
       "    </tr>\n",
       "    <tr>\n",
       "      <th>9</th>\n",
       "      <td>420</td>\n",
       "    </tr>\n",
       "    <tr>\n",
       "      <th>10</th>\n",
       "      <td>403</td>\n",
       "    </tr>\n",
       "    <tr>\n",
       "      <th>11</th>\n",
       "      <td>400</td>\n",
       "    </tr>\n",
       "    <tr>\n",
       "      <th>12</th>\n",
       "      <td>390</td>\n",
       "    </tr>\n",
       "    <tr>\n",
       "      <th>13</th>\n",
       "      <td>368</td>\n",
       "    </tr>\n",
       "    <tr>\n",
       "      <th>14</th>\n",
       "      <td>382</td>\n",
       "    </tr>\n",
       "    <tr>\n",
       "      <th>15</th>\n",
       "      <td>420</td>\n",
       "    </tr>\n",
       "    <tr>\n",
       "      <th>16</th>\n",
       "      <td>420</td>\n",
       "    </tr>\n",
       "    <tr>\n",
       "      <th>17</th>\n",
       "      <td>407</td>\n",
       "    </tr>\n",
       "    <tr>\n",
       "      <th>18</th>\n",
       "      <td>397</td>\n",
       "    </tr>\n",
       "    <tr>\n",
       "      <th>19</th>\n",
       "      <td>343</td>\n",
       "    </tr>\n",
       "    <tr>\n",
       "      <th>20</th>\n",
       "      <td>345</td>\n",
       "    </tr>\n",
       "    <tr>\n",
       "      <th>21</th>\n",
       "      <td>350</td>\n",
       "    </tr>\n",
       "    <tr>\n",
       "      <th>22</th>\n",
       "      <td>336</td>\n",
       "    </tr>\n",
       "    <tr>\n",
       "      <th>24</th>\n",
       "      <td>346</td>\n",
       "    </tr>\n",
       "    <tr>\n",
       "      <th>25</th>\n",
       "      <td>371</td>\n",
       "    </tr>\n",
       "    <tr>\n",
       "      <th>26</th>\n",
       "      <td>372</td>\n",
       "    </tr>\n",
       "    <tr>\n",
       "      <th>27</th>\n",
       "      <td>363</td>\n",
       "    </tr>\n",
       "    <tr>\n",
       "      <th>28</th>\n",
       "      <td>258</td>\n",
       "    </tr>\n",
       "    <tr>\n",
       "      <th>29</th>\n",
       "      <td>386</td>\n",
       "    </tr>\n",
       "    <tr>\n",
       "      <th>30</th>\n",
       "      <td>373</td>\n",
       "    </tr>\n",
       "    <tr>\n",
       "      <th>31</th>\n",
       "      <td>405</td>\n",
       "    </tr>\n",
       "    <tr>\n",
       "      <th>32</th>\n",
       "      <td>386</td>\n",
       "    </tr>\n",
       "    <tr>\n",
       "      <th>33</th>\n",
       "      <td>417</td>\n",
       "    </tr>\n",
       "    <tr>\n",
       "      <th>34</th>\n",
       "      <td>413</td>\n",
       "    </tr>\n",
       "    <tr>\n",
       "      <th>35</th>\n",
       "      <td>403</td>\n",
       "    </tr>\n",
       "    <tr>\n",
       "      <th>36</th>\n",
       "      <td>428</td>\n",
       "    </tr>\n",
       "    <tr>\n",
       "      <th>37</th>\n",
       "      <td>423</td>\n",
       "    </tr>\n",
       "  </tbody>\n",
       "</table>\n",
       "</div>"
      ],
      "text/plain": [
       "             week_number\n",
       "week_number             \n",
       "1                    470\n",
       "2                    498\n",
       "3                    482\n",
       "5                    468\n",
       "6                    455\n",
       "7                    445\n",
       "8                    434\n",
       "9                    420\n",
       "10                   403\n",
       "11                   400\n",
       "12                   390\n",
       "13                   368\n",
       "14                   382\n",
       "15                   420\n",
       "16                   420\n",
       "17                   407\n",
       "18                   397\n",
       "19                   343\n",
       "20                   345\n",
       "21                   350\n",
       "22                   336\n",
       "24                   346\n",
       "25                   371\n",
       "26                   372\n",
       "27                   363\n",
       "28                   258\n",
       "29                   386\n",
       "30                   373\n",
       "31                   405\n",
       "32                   386\n",
       "33                   417\n",
       "34                   413\n",
       "35                   403\n",
       "36                   428\n",
       "37                   423"
      ]
     },
     "execution_count": 71,
     "metadata": {},
     "output_type": "execute_result"
    }
   ],
   "source": [
    "pd.DataFrame(relevant_unemployment_df.groupby(['week_number'])['week_number'].count())"
   ]
  },
  {
   "cell_type": "markdown",
   "id": "f39d4653",
   "metadata": {},
   "source": [
    "plt.bar(relevant_unemployment_df['week_number'].value_counts())"
   ]
  },
  {
   "cell_type": "code",
   "execution_count": 72,
   "id": "251c6e04",
   "metadata": {
    "execution": {
     "iopub.execute_input": "2023-05-10T00:47:12.403474Z",
     "iopub.status.busy": "2023-05-10T00:47:12.403386Z",
     "iopub.status.idle": "2023-05-10T00:47:12.405153Z",
     "shell.execute_reply": "2023-05-10T00:47:12.404925Z"
    }
   },
   "outputs": [],
   "source": [
    "# Constants\n",
    "PRED_WEEK = 39"
   ]
  },
  {
   "cell_type": "code",
   "execution_count": 73,
   "id": "aaf74486",
   "metadata": {
    "execution": {
     "iopub.execute_input": "2023-05-10T00:47:12.406554Z",
     "iopub.status.busy": "2023-05-10T00:47:12.406473Z",
     "iopub.status.idle": "2023-05-10T00:47:12.408860Z",
     "shell.execute_reply": "2023-05-10T00:47:12.408624Z"
    }
   },
   "outputs": [
    {
     "data": {
      "text/plain": [
       "Index(['uu_id', 'week_number', 'countyfips', 'tract', 'total_claims',\n",
       "       'top_category_employer1', 'top_category_employer2',\n",
       "       'top_category_employer3', 'wage_data'],\n",
       "      dtype='object')"
      ]
     },
     "execution_count": 73,
     "metadata": {},
     "output_type": "execute_result"
    }
   ],
   "source": [
    "relevant_unemployment_df.columns"
   ]
  },
  {
   "cell_type": "code",
   "execution_count": 74,
   "id": "685510bd",
   "metadata": {
    "execution": {
     "iopub.execute_input": "2023-05-10T00:47:12.410256Z",
     "iopub.status.busy": "2023-05-10T00:47:12.410156Z",
     "iopub.status.idle": "2023-05-10T00:47:12.412330Z",
     "shell.execute_reply": "2023-05-10T00:47:12.412075Z"
    }
   },
   "outputs": [
    {
     "data": {
      "text/plain": [
       "pandas.core.indexes.base.Index"
      ]
     },
     "execution_count": 74,
     "metadata": {},
     "output_type": "execute_result"
    }
   ],
   "source": [
    "type(relevant_unemployment_df.columns)"
   ]
  },
  {
   "cell_type": "code",
   "execution_count": 75,
   "id": "7014bd3e",
   "metadata": {
    "execution": {
     "iopub.execute_input": "2023-05-10T00:47:12.413721Z",
     "iopub.status.busy": "2023-05-10T00:47:12.413619Z",
     "iopub.status.idle": "2023-05-10T00:47:12.449948Z",
     "shell.execute_reply": "2023-05-10T00:47:12.449640Z"
    }
   },
   "outputs": [
    {
     "ename": "KeyError",
     "evalue": "\"['timeperiod', 'tract_name'] not found in axis\"",
     "output_type": "error",
     "traceback": [
      "\u001b[0;31m---------------------------------------------------------------------------\u001b[0m",
      "\u001b[0;31mKeyError\u001b[0m                                  Traceback (most recent call last)",
      "Cell \u001b[0;32mIn [75], line 3\u001b[0m\n\u001b[1;32m      1\u001b[0m \u001b[38;5;66;03m# Drop duplicate columns\u001b[39;00m\n\u001b[1;32m      2\u001b[0m relevant_unemployment_df\u001b[38;5;241m.\u001b[39mdrop_duplicates(inplace\u001b[38;5;241m=\u001b[39m\u001b[38;5;28;01mTrue\u001b[39;00m)\n\u001b[0;32m----> 3\u001b[0m \u001b[43mrelevant_unemployment_df\u001b[49m\u001b[38;5;241;43m.\u001b[39;49m\u001b[43mdrop\u001b[49m\u001b[43m(\u001b[49m\u001b[43m[\u001b[49m\u001b[38;5;124;43m'\u001b[39;49m\u001b[38;5;124;43mtimeperiod\u001b[39;49m\u001b[38;5;124;43m'\u001b[39;49m\u001b[43m,\u001b[49m\u001b[43m \u001b[49m\u001b[38;5;124;43m'\u001b[39;49m\u001b[38;5;124;43mtract_name\u001b[39;49m\u001b[38;5;124;43m'\u001b[39;49m\u001b[43m]\u001b[49m\u001b[43m,\u001b[49m\u001b[43m \u001b[49m\u001b[43maxis\u001b[49m\u001b[38;5;241;43m=\u001b[39;49m\u001b[38;5;241;43m1\u001b[39;49m\u001b[43m,\u001b[49m\u001b[43m \u001b[49m\u001b[43minplace\u001b[49m\u001b[38;5;241;43m=\u001b[39;49m\u001b[38;5;28;43;01mTrue\u001b[39;49;00m\u001b[43m)\u001b[49m\n",
      "File \u001b[0;32m/opt/homebrew/lib/python3.9/site-packages/pandas/util/_decorators.py:331\u001b[0m, in \u001b[0;36mdeprecate_nonkeyword_arguments.<locals>.decorate.<locals>.wrapper\u001b[0;34m(*args, **kwargs)\u001b[0m\n\u001b[1;32m    325\u001b[0m \u001b[38;5;28;01mif\u001b[39;00m \u001b[38;5;28mlen\u001b[39m(args) \u001b[38;5;241m>\u001b[39m num_allow_args:\n\u001b[1;32m    326\u001b[0m     warnings\u001b[38;5;241m.\u001b[39mwarn(\n\u001b[1;32m    327\u001b[0m         msg\u001b[38;5;241m.\u001b[39mformat(arguments\u001b[38;5;241m=\u001b[39m_format_argument_list(allow_args)),\n\u001b[1;32m    328\u001b[0m         \u001b[38;5;167;01mFutureWarning\u001b[39;00m,\n\u001b[1;32m    329\u001b[0m         stacklevel\u001b[38;5;241m=\u001b[39mfind_stack_level(),\n\u001b[1;32m    330\u001b[0m     )\n\u001b[0;32m--> 331\u001b[0m \u001b[38;5;28;01mreturn\u001b[39;00m \u001b[43mfunc\u001b[49m\u001b[43m(\u001b[49m\u001b[38;5;241;43m*\u001b[39;49m\u001b[43margs\u001b[49m\u001b[43m,\u001b[49m\u001b[43m \u001b[49m\u001b[38;5;241;43m*\u001b[39;49m\u001b[38;5;241;43m*\u001b[39;49m\u001b[43mkwargs\u001b[49m\u001b[43m)\u001b[49m\n",
      "File \u001b[0;32m/opt/homebrew/lib/python3.9/site-packages/pandas/core/frame.py:5388\u001b[0m, in \u001b[0;36mDataFrame.drop\u001b[0;34m(self, labels, axis, index, columns, level, inplace, errors)\u001b[0m\n\u001b[1;32m   5240\u001b[0m \u001b[38;5;129m@deprecate_nonkeyword_arguments\u001b[39m(version\u001b[38;5;241m=\u001b[39m\u001b[38;5;28;01mNone\u001b[39;00m, allowed_args\u001b[38;5;241m=\u001b[39m[\u001b[38;5;124m\"\u001b[39m\u001b[38;5;124mself\u001b[39m\u001b[38;5;124m\"\u001b[39m, \u001b[38;5;124m\"\u001b[39m\u001b[38;5;124mlabels\u001b[39m\u001b[38;5;124m\"\u001b[39m])\n\u001b[1;32m   5241\u001b[0m \u001b[38;5;28;01mdef\u001b[39;00m \u001b[38;5;21mdrop\u001b[39m(  \u001b[38;5;66;03m# type: ignore[override]\u001b[39;00m\n\u001b[1;32m   5242\u001b[0m     \u001b[38;5;28mself\u001b[39m,\n\u001b[0;32m   (...)\u001b[0m\n\u001b[1;32m   5249\u001b[0m     errors: IgnoreRaise \u001b[38;5;241m=\u001b[39m \u001b[38;5;124m\"\u001b[39m\u001b[38;5;124mraise\u001b[39m\u001b[38;5;124m\"\u001b[39m,\n\u001b[1;32m   5250\u001b[0m ) \u001b[38;5;241m-\u001b[39m\u001b[38;5;241m>\u001b[39m DataFrame \u001b[38;5;241m|\u001b[39m \u001b[38;5;28;01mNone\u001b[39;00m:\n\u001b[1;32m   5251\u001b[0m     \u001b[38;5;124;03m\"\"\"\u001b[39;00m\n\u001b[1;32m   5252\u001b[0m \u001b[38;5;124;03m    Drop specified labels from rows or columns.\u001b[39;00m\n\u001b[1;32m   5253\u001b[0m \n\u001b[0;32m   (...)\u001b[0m\n\u001b[1;32m   5386\u001b[0m \u001b[38;5;124;03m            weight  1.0     0.8\u001b[39;00m\n\u001b[1;32m   5387\u001b[0m \u001b[38;5;124;03m    \"\"\"\u001b[39;00m\n\u001b[0;32m-> 5388\u001b[0m     \u001b[38;5;28;01mreturn\u001b[39;00m \u001b[38;5;28;43msuper\u001b[39;49m\u001b[43m(\u001b[49m\u001b[43m)\u001b[49m\u001b[38;5;241;43m.\u001b[39;49m\u001b[43mdrop\u001b[49m\u001b[43m(\u001b[49m\n\u001b[1;32m   5389\u001b[0m \u001b[43m        \u001b[49m\u001b[43mlabels\u001b[49m\u001b[38;5;241;43m=\u001b[39;49m\u001b[43mlabels\u001b[49m\u001b[43m,\u001b[49m\n\u001b[1;32m   5390\u001b[0m \u001b[43m        \u001b[49m\u001b[43maxis\u001b[49m\u001b[38;5;241;43m=\u001b[39;49m\u001b[43maxis\u001b[49m\u001b[43m,\u001b[49m\n\u001b[1;32m   5391\u001b[0m \u001b[43m        \u001b[49m\u001b[43mindex\u001b[49m\u001b[38;5;241;43m=\u001b[39;49m\u001b[43mindex\u001b[49m\u001b[43m,\u001b[49m\n\u001b[1;32m   5392\u001b[0m \u001b[43m        \u001b[49m\u001b[43mcolumns\u001b[49m\u001b[38;5;241;43m=\u001b[39;49m\u001b[43mcolumns\u001b[49m\u001b[43m,\u001b[49m\n\u001b[1;32m   5393\u001b[0m \u001b[43m        \u001b[49m\u001b[43mlevel\u001b[49m\u001b[38;5;241;43m=\u001b[39;49m\u001b[43mlevel\u001b[49m\u001b[43m,\u001b[49m\n\u001b[1;32m   5394\u001b[0m \u001b[43m        \u001b[49m\u001b[43minplace\u001b[49m\u001b[38;5;241;43m=\u001b[39;49m\u001b[43minplace\u001b[49m\u001b[43m,\u001b[49m\n\u001b[1;32m   5395\u001b[0m \u001b[43m        \u001b[49m\u001b[43merrors\u001b[49m\u001b[38;5;241;43m=\u001b[39;49m\u001b[43merrors\u001b[49m\u001b[43m,\u001b[49m\n\u001b[1;32m   5396\u001b[0m \u001b[43m    \u001b[49m\u001b[43m)\u001b[49m\n",
      "File \u001b[0;32m/opt/homebrew/lib/python3.9/site-packages/pandas/util/_decorators.py:331\u001b[0m, in \u001b[0;36mdeprecate_nonkeyword_arguments.<locals>.decorate.<locals>.wrapper\u001b[0;34m(*args, **kwargs)\u001b[0m\n\u001b[1;32m    325\u001b[0m \u001b[38;5;28;01mif\u001b[39;00m \u001b[38;5;28mlen\u001b[39m(args) \u001b[38;5;241m>\u001b[39m num_allow_args:\n\u001b[1;32m    326\u001b[0m     warnings\u001b[38;5;241m.\u001b[39mwarn(\n\u001b[1;32m    327\u001b[0m         msg\u001b[38;5;241m.\u001b[39mformat(arguments\u001b[38;5;241m=\u001b[39m_format_argument_list(allow_args)),\n\u001b[1;32m    328\u001b[0m         \u001b[38;5;167;01mFutureWarning\u001b[39;00m,\n\u001b[1;32m    329\u001b[0m         stacklevel\u001b[38;5;241m=\u001b[39mfind_stack_level(),\n\u001b[1;32m    330\u001b[0m     )\n\u001b[0;32m--> 331\u001b[0m \u001b[38;5;28;01mreturn\u001b[39;00m \u001b[43mfunc\u001b[49m\u001b[43m(\u001b[49m\u001b[38;5;241;43m*\u001b[39;49m\u001b[43margs\u001b[49m\u001b[43m,\u001b[49m\u001b[43m \u001b[49m\u001b[38;5;241;43m*\u001b[39;49m\u001b[38;5;241;43m*\u001b[39;49m\u001b[43mkwargs\u001b[49m\u001b[43m)\u001b[49m\n",
      "File \u001b[0;32m/opt/homebrew/lib/python3.9/site-packages/pandas/core/generic.py:4505\u001b[0m, in \u001b[0;36mNDFrame.drop\u001b[0;34m(self, labels, axis, index, columns, level, inplace, errors)\u001b[0m\n\u001b[1;32m   4503\u001b[0m \u001b[38;5;28;01mfor\u001b[39;00m axis, labels \u001b[38;5;129;01min\u001b[39;00m axes\u001b[38;5;241m.\u001b[39mitems():\n\u001b[1;32m   4504\u001b[0m     \u001b[38;5;28;01mif\u001b[39;00m labels \u001b[38;5;129;01mis\u001b[39;00m \u001b[38;5;129;01mnot\u001b[39;00m \u001b[38;5;28;01mNone\u001b[39;00m:\n\u001b[0;32m-> 4505\u001b[0m         obj \u001b[38;5;241m=\u001b[39m \u001b[43mobj\u001b[49m\u001b[38;5;241;43m.\u001b[39;49m\u001b[43m_drop_axis\u001b[49m\u001b[43m(\u001b[49m\u001b[43mlabels\u001b[49m\u001b[43m,\u001b[49m\u001b[43m \u001b[49m\u001b[43maxis\u001b[49m\u001b[43m,\u001b[49m\u001b[43m \u001b[49m\u001b[43mlevel\u001b[49m\u001b[38;5;241;43m=\u001b[39;49m\u001b[43mlevel\u001b[49m\u001b[43m,\u001b[49m\u001b[43m \u001b[49m\u001b[43merrors\u001b[49m\u001b[38;5;241;43m=\u001b[39;49m\u001b[43merrors\u001b[49m\u001b[43m)\u001b[49m\n\u001b[1;32m   4507\u001b[0m \u001b[38;5;28;01mif\u001b[39;00m inplace:\n\u001b[1;32m   4508\u001b[0m     \u001b[38;5;28mself\u001b[39m\u001b[38;5;241m.\u001b[39m_update_inplace(obj)\n",
      "File \u001b[0;32m/opt/homebrew/lib/python3.9/site-packages/pandas/core/generic.py:4546\u001b[0m, in \u001b[0;36mNDFrame._drop_axis\u001b[0;34m(self, labels, axis, level, errors, only_slice)\u001b[0m\n\u001b[1;32m   4544\u001b[0m         new_axis \u001b[38;5;241m=\u001b[39m axis\u001b[38;5;241m.\u001b[39mdrop(labels, level\u001b[38;5;241m=\u001b[39mlevel, errors\u001b[38;5;241m=\u001b[39merrors)\n\u001b[1;32m   4545\u001b[0m     \u001b[38;5;28;01melse\u001b[39;00m:\n\u001b[0;32m-> 4546\u001b[0m         new_axis \u001b[38;5;241m=\u001b[39m \u001b[43maxis\u001b[49m\u001b[38;5;241;43m.\u001b[39;49m\u001b[43mdrop\u001b[49m\u001b[43m(\u001b[49m\u001b[43mlabels\u001b[49m\u001b[43m,\u001b[49m\u001b[43m \u001b[49m\u001b[43merrors\u001b[49m\u001b[38;5;241;43m=\u001b[39;49m\u001b[43merrors\u001b[49m\u001b[43m)\u001b[49m\n\u001b[1;32m   4547\u001b[0m     indexer \u001b[38;5;241m=\u001b[39m axis\u001b[38;5;241m.\u001b[39mget_indexer(new_axis)\n\u001b[1;32m   4549\u001b[0m \u001b[38;5;66;03m# Case for non-unique axis\u001b[39;00m\n\u001b[1;32m   4550\u001b[0m \u001b[38;5;28;01melse\u001b[39;00m:\n",
      "File \u001b[0;32m/opt/homebrew/lib/python3.9/site-packages/pandas/core/indexes/base.py:6975\u001b[0m, in \u001b[0;36mIndex.drop\u001b[0;34m(self, labels, errors)\u001b[0m\n\u001b[1;32m   6973\u001b[0m \u001b[38;5;28;01mif\u001b[39;00m mask\u001b[38;5;241m.\u001b[39many():\n\u001b[1;32m   6974\u001b[0m     \u001b[38;5;28;01mif\u001b[39;00m errors \u001b[38;5;241m!=\u001b[39m \u001b[38;5;124m\"\u001b[39m\u001b[38;5;124mignore\u001b[39m\u001b[38;5;124m\"\u001b[39m:\n\u001b[0;32m-> 6975\u001b[0m         \u001b[38;5;28;01mraise\u001b[39;00m \u001b[38;5;167;01mKeyError\u001b[39;00m(\u001b[38;5;124mf\u001b[39m\u001b[38;5;124m\"\u001b[39m\u001b[38;5;132;01m{\u001b[39;00m\u001b[38;5;28mlist\u001b[39m(labels[mask])\u001b[38;5;132;01m}\u001b[39;00m\u001b[38;5;124m not found in axis\u001b[39m\u001b[38;5;124m\"\u001b[39m)\n\u001b[1;32m   6976\u001b[0m     indexer \u001b[38;5;241m=\u001b[39m indexer[\u001b[38;5;241m~\u001b[39mmask]\n\u001b[1;32m   6977\u001b[0m \u001b[38;5;28;01mreturn\u001b[39;00m \u001b[38;5;28mself\u001b[39m\u001b[38;5;241m.\u001b[39mdelete(indexer)\n",
      "\u001b[0;31mKeyError\u001b[0m: \"['timeperiod', 'tract_name'] not found in axis\""
     ]
    }
   ],
   "source": [
    "# Drop duplicate columns\n",
    "relevant_unemployment_df.drop_duplicates(inplace=True)\n",
    "relevant_unemployment_df.drop(['timeperiod', 'tract_name'], axis=1, inplace=True)"
   ]
  },
  {
   "cell_type": "code",
   "execution_count": 76,
   "id": "22e05045",
   "metadata": {
    "execution": {
     "iopub.execute_input": "2023-05-10T00:47:12.451528Z",
     "iopub.status.busy": "2023-05-10T00:47:12.451419Z",
     "iopub.status.idle": "2023-05-10T00:47:12.466225Z",
     "shell.execute_reply": "2023-05-10T00:47:12.465957Z"
    }
   },
   "outputs": [],
   "source": [
    "# Drop columns with excessive null values\n",
    "# NOTE: Revisit this, these columns may still be useful, especially those that aren't missing too many values\n",
    "relevant_unemployment_df.dropna(axis='columns', inplace=True)\n",
    "relevant_unemployment_df = relevant_unemployment_df.convert_dtypes()\n",
    "relevant_unemployment_df['countyfips'] = relevant_unemployment_df['countyfips'].astype(str)\n",
    "relevant_unemployment_df['tract'] = relevant_unemployment_df['tract'].astype(str)\n",
    "relevant_unemployment_df = relevant_unemployment_df.convert_dtypes()"
   ]
  },
  {
   "cell_type": "markdown",
   "id": "a4bd24d2",
   "metadata": {
    "lines_to_next_cell": 2
   },
   "source": [
    "Add rows such that every uu_id has rows for weeks 1:max(week_number)"
   ]
  },
  {
   "cell_type": "code",
   "execution_count": 77,
   "id": "80ad2457",
   "metadata": {
    "execution": {
     "iopub.execute_input": "2023-05-10T00:47:12.467699Z",
     "iopub.status.busy": "2023-05-10T00:47:12.467613Z",
     "iopub.status.idle": "2023-05-10T00:47:12.474656Z",
     "shell.execute_reply": "2023-05-10T00:47:12.474403Z"
    }
   },
   "outputs": [
    {
     "name": "stdout",
     "output_type": "stream",
     "text": [
      "<class 'pandas.core.frame.DataFrame'>\n",
      "Int64Index: 13977 entries, 0 to 16831\n",
      "Data columns (total 9 columns):\n",
      " #   Column                  Non-Null Count  Dtype  \n",
      "---  ------                  --------------  -----  \n",
      " 0   uu_id                   13977 non-null  string \n",
      " 1   week_number             13977 non-null  Int64  \n",
      " 2   countyfips              13977 non-null  string \n",
      " 3   tract                   13977 non-null  string \n",
      " 4   total_claims            13977 non-null  Int64  \n",
      " 5   top_category_employer1  13977 non-null  string \n",
      " 6   top_category_employer2  13977 non-null  string \n",
      " 7   top_category_employer3  13977 non-null  string \n",
      " 8   wage_data               13977 non-null  float64\n",
      "dtypes: Int64(2), float64(1), string(6)\n",
      "memory usage: 1.1 MB\n"
     ]
    }
   ],
   "source": [
    "# Add Wage data\n",
    "relevant_unemployment_df['wage_data'] = relevant_unemployment_df['uu_id'].map(wage_data.set_index('uu_id')['average_wage'])\n",
    "relevant_unemployment_df.info()\n",
    "bad_wage_uu_ids = list(set(relevant_unemployment_df.loc[relevant_unemployment_df['wage_data'].isna(),'uu_id']))"
   ]
  },
  {
   "cell_type": "code",
   "execution_count": 78,
   "id": "73e4b5da",
   "metadata": {
    "execution": {
     "iopub.execute_input": "2023-05-10T00:47:12.476088Z",
     "iopub.status.busy": "2023-05-10T00:47:12.475998Z",
     "iopub.status.idle": "2023-05-10T00:47:12.478364Z",
     "shell.execute_reply": "2023-05-10T00:47:12.478110Z"
    }
   },
   "outputs": [
    {
     "data": {
      "text/plain": [
       "Index(['uu_id', 'week_number', 'countyfips', 'tract', 'total_claims',\n",
       "       'top_category_employer1', 'top_category_employer2',\n",
       "       'top_category_employer3', 'wage_data'],\n",
       "      dtype='object')"
      ]
     },
     "execution_count": 78,
     "metadata": {},
     "output_type": "execute_result"
    }
   ],
   "source": [
    "relevant_unemployment_df.columns"
   ]
  },
  {
   "cell_type": "code",
   "execution_count": 79,
   "id": "c9c5df5f",
   "metadata": {
    "execution": {
     "iopub.execute_input": "2023-05-10T00:47:12.479798Z",
     "iopub.status.busy": "2023-05-10T00:47:12.479699Z",
     "iopub.status.idle": "2023-05-10T00:47:12.488075Z",
     "shell.execute_reply": "2023-05-10T00:47:12.487807Z"
    }
   },
   "outputs": [],
   "source": [
    "# Drop duplicate columns\n",
    "relevant_unemployment_df.drop_duplicates(inplace=True)\n",
    "# relevant_unemployment_df.drop(['timeperiod', 'tract_name'], axis=1, inplace=True)"
   ]
  },
  {
   "cell_type": "code",
   "execution_count": 80,
   "id": "4bae0de8",
   "metadata": {
    "execution": {
     "iopub.execute_input": "2023-05-10T00:47:12.489548Z",
     "iopub.status.busy": "2023-05-10T00:47:12.489459Z",
     "iopub.status.idle": "2023-05-10T00:47:12.504450Z",
     "shell.execute_reply": "2023-05-10T00:47:12.504162Z"
    }
   },
   "outputs": [],
   "source": [
    "# Drop columns with excessive null values\n",
    "# NOTE: Revisit this, these columns may still be useful, especially those that aren't missing too many values\n",
    "relevant_unemployment_df.dropna(axis='columns', inplace=True)\n",
    "relevant_unemployment_df = relevant_unemployment_df.convert_dtypes()\n",
    "relevant_unemployment_df['countyfips'] = relevant_unemployment_df['countyfips'].astype(str)\n",
    "relevant_unemployment_df['tract'] = relevant_unemployment_df['tract'].astype(str)\n",
    "relevant_unemployment_df = relevant_unemployment_df.convert_dtypes()"
   ]
  },
  {
   "cell_type": "markdown",
   "id": "840ba9f3",
   "metadata": {
    "lines_to_next_cell": 2
   },
   "source": [
    "Add rows such that every uu_id has rows for weeks 1:max(week_number)"
   ]
  },
  {
   "cell_type": "code",
   "execution_count": 81,
   "id": "ce840339",
   "metadata": {
    "execution": {
     "iopub.execute_input": "2023-05-10T00:47:12.506051Z",
     "iopub.status.busy": "2023-05-10T00:47:12.505955Z",
     "iopub.status.idle": "2023-05-10T00:47:12.512784Z",
     "shell.execute_reply": "2023-05-10T00:47:12.512533Z"
    }
   },
   "outputs": [
    {
     "name": "stdout",
     "output_type": "stream",
     "text": [
      "<class 'pandas.core.frame.DataFrame'>\n",
      "Int64Index: 13977 entries, 0 to 16831\n",
      "Data columns (total 9 columns):\n",
      " #   Column                  Non-Null Count  Dtype  \n",
      "---  ------                  --------------  -----  \n",
      " 0   uu_id                   13977 non-null  string \n",
      " 1   week_number             13977 non-null  Int64  \n",
      " 2   countyfips              13977 non-null  string \n",
      " 3   tract                   13977 non-null  string \n",
      " 4   total_claims            13977 non-null  Int64  \n",
      " 5   top_category_employer1  13977 non-null  string \n",
      " 6   top_category_employer2  13977 non-null  string \n",
      " 7   top_category_employer3  13977 non-null  string \n",
      " 8   wage_data               13977 non-null  float64\n",
      "dtypes: Int64(2), float64(1), string(6)\n",
      "memory usage: 1.1 MB\n"
     ]
    }
   ],
   "source": [
    "# Add Wage data\n",
    "relevant_unemployment_df['wage_data'] = relevant_unemployment_df['uu_id'].map(wage_data.set_index('uu_id')['average_wage'])\n",
    "relevant_unemployment_df.info()\n",
    "bad_wage_uu_ids = list(set(relevant_unemployment_df.loc[relevant_unemployment_df['wage_data'].isna(),'uu_id']))"
   ]
  },
  {
   "cell_type": "code",
   "execution_count": 82,
   "id": "586fb3bb",
   "metadata": {
    "execution": {
     "iopub.execute_input": "2023-05-10T00:47:12.514159Z",
     "iopub.status.busy": "2023-05-10T00:47:12.514067Z",
     "iopub.status.idle": "2023-05-10T00:47:12.516399Z",
     "shell.execute_reply": "2023-05-10T00:47:12.516134Z"
    }
   },
   "outputs": [
    {
     "data": {
      "text/plain": [
       "['uu_id',\n",
       " 'week_number',\n",
       " 'countyfips',\n",
       " 'tract',\n",
       " 'total_claims',\n",
       " 'top_category_employer1',\n",
       " 'top_category_employer2',\n",
       " 'top_category_employer3',\n",
       " 'wage_data']"
      ]
     },
     "execution_count": 82,
     "metadata": {},
     "output_type": "execute_result"
    }
   ],
   "source": [
    "list(relevant_unemployment_df.columns)"
   ]
  },
  {
   "cell_type": "code",
   "execution_count": 83,
   "id": "dc08a03d",
   "metadata": {
    "execution": {
     "iopub.execute_input": "2023-05-10T00:47:12.517769Z",
     "iopub.status.busy": "2023-05-10T00:47:12.517692Z",
     "iopub.status.idle": "2023-05-10T00:47:12.521258Z",
     "shell.execute_reply": "2023-05-10T00:47:12.520971Z"
    }
   },
   "outputs": [
    {
     "data": {
      "text/html": [
       "<div>\n",
       "<style scoped>\n",
       "    .dataframe tbody tr th:only-of-type {\n",
       "        vertical-align: middle;\n",
       "    }\n",
       "\n",
       "    .dataframe tbody tr th {\n",
       "        vertical-align: top;\n",
       "    }\n",
       "\n",
       "    .dataframe thead th {\n",
       "        text-align: right;\n",
       "    }\n",
       "</style>\n",
       "<table border=\"1\" class=\"dataframe\">\n",
       "  <thead>\n",
       "    <tr style=\"text-align: right;\">\n",
       "      <th></th>\n",
       "      <th>uu_id</th>\n",
       "      <th>week_number</th>\n",
       "      <th>countyfips</th>\n",
       "      <th>tract</th>\n",
       "      <th>total_claims</th>\n",
       "      <th>top_category_employer1</th>\n",
       "      <th>top_category_employer2</th>\n",
       "      <th>top_category_employer3</th>\n",
       "      <th>wage_data</th>\n",
       "    </tr>\n",
       "  </thead>\n",
       "  <tbody>\n",
       "  </tbody>\n",
       "</table>\n",
       "</div>"
      ],
      "text/plain": [
       "Empty DataFrame\n",
       "Columns: [uu_id, week_number, countyfips, tract, total_claims, top_category_employer1, top_category_employer2, top_category_employer3, wage_data]\n",
       "Index: []"
      ]
     },
     "execution_count": 83,
     "metadata": {},
     "output_type": "execute_result"
    }
   ],
   "source": [
    "temp_df = pd.DataFrame(columns=list(relevant_unemployment_df.columns))\n",
    "temp_df"
   ]
  },
  {
   "cell_type": "code",
   "execution_count": 84,
   "id": "3c90d1bc",
   "metadata": {
    "execution": {
     "iopub.execute_input": "2023-05-10T00:47:12.522647Z",
     "iopub.status.busy": "2023-05-10T00:47:12.522556Z",
     "iopub.status.idle": "2023-05-10T00:47:12.524028Z",
     "shell.execute_reply": "2023-05-10T00:47:12.523788Z"
    },
    "lines_to_next_cell": 2
   },
   "outputs": [],
   "source": [
    "# for uu_id in set(relevant_unemployment_df['uu_id']):\n",
    "    # for week in range(PRED_WEEK):"
   ]
  },
  {
   "cell_type": "code",
   "execution_count": 85,
   "id": "ccdbd05c",
   "metadata": {
    "execution": {
     "iopub.execute_input": "2023-05-10T00:47:12.525416Z",
     "iopub.status.busy": "2023-05-10T00:47:12.525302Z",
     "iopub.status.idle": "2023-05-10T00:47:12.532659Z",
     "shell.execute_reply": "2023-05-10T00:47:12.532407Z"
    }
   },
   "outputs": [
    {
     "data": {
      "text/html": [
       "<div>\n",
       "<style scoped>\n",
       "    .dataframe tbody tr th:only-of-type {\n",
       "        vertical-align: middle;\n",
       "    }\n",
       "\n",
       "    .dataframe tbody tr th {\n",
       "        vertical-align: top;\n",
       "    }\n",
       "\n",
       "    .dataframe thead th {\n",
       "        text-align: right;\n",
       "    }\n",
       "</style>\n",
       "<table border=\"1\" class=\"dataframe\">\n",
       "  <thead>\n",
       "    <tr style=\"text-align: right;\">\n",
       "      <th></th>\n",
       "      <th>uu_id</th>\n",
       "      <th>week_number</th>\n",
       "      <th>countyfips</th>\n",
       "      <th>tract</th>\n",
       "      <th>total_claims</th>\n",
       "      <th>top_category_employer1</th>\n",
       "      <th>top_category_employer2</th>\n",
       "      <th>top_category_employer3</th>\n",
       "      <th>wage_data</th>\n",
       "    </tr>\n",
       "  </thead>\n",
       "  <tbody>\n",
       "    <tr>\n",
       "      <th>6632</th>\n",
       "      <td>5e819ecea31bac6db64c0ccf48818fa8</td>\n",
       "      <td>1</td>\n",
       "      <td>18097</td>\n",
       "      <td>310306</td>\n",
       "      <td>23</td>\n",
       "      <td>56</td>\n",
       "      <td>48-49</td>\n",
       "      <td>62</td>\n",
       "      <td>9311.888889</td>\n",
       "    </tr>\n",
       "    <tr>\n",
       "      <th>6633</th>\n",
       "      <td>5e819ecea31bac6db64c0ccf48818fa8</td>\n",
       "      <td>2</td>\n",
       "      <td>18097</td>\n",
       "      <td>310306</td>\n",
       "      <td>43</td>\n",
       "      <td>56</td>\n",
       "      <td>62</td>\n",
       "      <td>48-49</td>\n",
       "      <td>9311.888889</td>\n",
       "    </tr>\n",
       "    <tr>\n",
       "      <th>6634</th>\n",
       "      <td>5e819ecea31bac6db64c0ccf48818fa8</td>\n",
       "      <td>3</td>\n",
       "      <td>18097</td>\n",
       "      <td>310306</td>\n",
       "      <td>55</td>\n",
       "      <td>81</td>\n",
       "      <td>44-45</td>\n",
       "      <td>42</td>\n",
       "      <td>9311.888889</td>\n",
       "    </tr>\n",
       "    <tr>\n",
       "      <th>6635</th>\n",
       "      <td>5e819ecea31bac6db64c0ccf48818fa8</td>\n",
       "      <td>5</td>\n",
       "      <td>18097</td>\n",
       "      <td>310306</td>\n",
       "      <td>45</td>\n",
       "      <td>44-45</td>\n",
       "      <td>56</td>\n",
       "      <td>42</td>\n",
       "      <td>9311.888889</td>\n",
       "    </tr>\n",
       "    <tr>\n",
       "      <th>6636</th>\n",
       "      <td>5e819ecea31bac6db64c0ccf48818fa8</td>\n",
       "      <td>6</td>\n",
       "      <td>18097</td>\n",
       "      <td>310306</td>\n",
       "      <td>34</td>\n",
       "      <td>56</td>\n",
       "      <td>62</td>\n",
       "      <td>48-49</td>\n",
       "      <td>9311.888889</td>\n",
       "    </tr>\n",
       "    <tr>\n",
       "      <th>6637</th>\n",
       "      <td>5e819ecea31bac6db64c0ccf48818fa8</td>\n",
       "      <td>7</td>\n",
       "      <td>18097</td>\n",
       "      <td>310306</td>\n",
       "      <td>27</td>\n",
       "      <td>56</td>\n",
       "      <td>62</td>\n",
       "      <td>44-45</td>\n",
       "      <td>9311.888889</td>\n",
       "    </tr>\n",
       "    <tr>\n",
       "      <th>6638</th>\n",
       "      <td>5e819ecea31bac6db64c0ccf48818fa8</td>\n",
       "      <td>8</td>\n",
       "      <td>18097</td>\n",
       "      <td>310306</td>\n",
       "      <td>35</td>\n",
       "      <td>72</td>\n",
       "      <td>62</td>\n",
       "      <td>56</td>\n",
       "      <td>9311.888889</td>\n",
       "    </tr>\n",
       "    <tr>\n",
       "      <th>6639</th>\n",
       "      <td>5e819ecea31bac6db64c0ccf48818fa8</td>\n",
       "      <td>9</td>\n",
       "      <td>18097</td>\n",
       "      <td>310306</td>\n",
       "      <td>24</td>\n",
       "      <td>56</td>\n",
       "      <td>44-45</td>\n",
       "      <td>62</td>\n",
       "      <td>9311.888889</td>\n",
       "    </tr>\n",
       "    <tr>\n",
       "      <th>6640</th>\n",
       "      <td>5e819ecea31bac6db64c0ccf48818fa8</td>\n",
       "      <td>10</td>\n",
       "      <td>18097</td>\n",
       "      <td>310306</td>\n",
       "      <td>39</td>\n",
       "      <td>48-49</td>\n",
       "      <td>62</td>\n",
       "      <td>56</td>\n",
       "      <td>9311.888889</td>\n",
       "    </tr>\n",
       "    <tr>\n",
       "      <th>6641</th>\n",
       "      <td>5e819ecea31bac6db64c0ccf48818fa8</td>\n",
       "      <td>11</td>\n",
       "      <td>18097</td>\n",
       "      <td>310306</td>\n",
       "      <td>22</td>\n",
       "      <td>56</td>\n",
       "      <td>54</td>\n",
       "      <td>62</td>\n",
       "      <td>9311.888889</td>\n",
       "    </tr>\n",
       "    <tr>\n",
       "      <th>6642</th>\n",
       "      <td>5e819ecea31bac6db64c0ccf48818fa8</td>\n",
       "      <td>12</td>\n",
       "      <td>18097</td>\n",
       "      <td>310306</td>\n",
       "      <td>19</td>\n",
       "      <td>56</td>\n",
       "      <td>48-49</td>\n",
       "      <td>44-45</td>\n",
       "      <td>9311.888889</td>\n",
       "    </tr>\n",
       "    <tr>\n",
       "      <th>6643</th>\n",
       "      <td>5e819ecea31bac6db64c0ccf48818fa8</td>\n",
       "      <td>13</td>\n",
       "      <td>18097</td>\n",
       "      <td>310306</td>\n",
       "      <td>51</td>\n",
       "      <td>52</td>\n",
       "      <td>56</td>\n",
       "      <td>48-49</td>\n",
       "      <td>9311.888889</td>\n",
       "    </tr>\n",
       "    <tr>\n",
       "      <th>6644</th>\n",
       "      <td>5e819ecea31bac6db64c0ccf48818fa8</td>\n",
       "      <td>14</td>\n",
       "      <td>18097</td>\n",
       "      <td>310306</td>\n",
       "      <td>76</td>\n",
       "      <td>56</td>\n",
       "      <td>72</td>\n",
       "      <td>44-45</td>\n",
       "      <td>9311.888889</td>\n",
       "    </tr>\n",
       "    <tr>\n",
       "      <th>6645</th>\n",
       "      <td>5e819ecea31bac6db64c0ccf48818fa8</td>\n",
       "      <td>15</td>\n",
       "      <td>18097</td>\n",
       "      <td>310306</td>\n",
       "      <td>20</td>\n",
       "      <td>72</td>\n",
       "      <td>56</td>\n",
       "      <td>53</td>\n",
       "      <td>9311.888889</td>\n",
       "    </tr>\n",
       "    <tr>\n",
       "      <th>6646</th>\n",
       "      <td>5e819ecea31bac6db64c0ccf48818fa8</td>\n",
       "      <td>16</td>\n",
       "      <td>18097</td>\n",
       "      <td>310306</td>\n",
       "      <td>21</td>\n",
       "      <td>56</td>\n",
       "      <td>54</td>\n",
       "      <td>48-49</td>\n",
       "      <td>9311.888889</td>\n",
       "    </tr>\n",
       "    <tr>\n",
       "      <th>6647</th>\n",
       "      <td>5e819ecea31bac6db64c0ccf48818fa8</td>\n",
       "      <td>17</td>\n",
       "      <td>18097</td>\n",
       "      <td>310306</td>\n",
       "      <td>46</td>\n",
       "      <td>72</td>\n",
       "      <td>48-49</td>\n",
       "      <td>31-33</td>\n",
       "      <td>9311.888889</td>\n",
       "    </tr>\n",
       "    <tr>\n",
       "      <th>6648</th>\n",
       "      <td>5e819ecea31bac6db64c0ccf48818fa8</td>\n",
       "      <td>18</td>\n",
       "      <td>18097</td>\n",
       "      <td>310306</td>\n",
       "      <td>28</td>\n",
       "      <td>48-49</td>\n",
       "      <td>56</td>\n",
       "      <td>62</td>\n",
       "      <td>9311.888889</td>\n",
       "    </tr>\n",
       "    <tr>\n",
       "      <th>6649</th>\n",
       "      <td>5e819ecea31bac6db64c0ccf48818fa8</td>\n",
       "      <td>19</td>\n",
       "      <td>18097</td>\n",
       "      <td>310306</td>\n",
       "      <td>31</td>\n",
       "      <td>44-45</td>\n",
       "      <td>56</td>\n",
       "      <td>48-49</td>\n",
       "      <td>9311.888889</td>\n",
       "    </tr>\n",
       "    <tr>\n",
       "      <th>6650</th>\n",
       "      <td>5e819ecea31bac6db64c0ccf48818fa8</td>\n",
       "      <td>20</td>\n",
       "      <td>18097</td>\n",
       "      <td>310306</td>\n",
       "      <td>50</td>\n",
       "      <td>56</td>\n",
       "      <td>31-33</td>\n",
       "      <td>48-49</td>\n",
       "      <td>9311.888889</td>\n",
       "    </tr>\n",
       "    <tr>\n",
       "      <th>6651</th>\n",
       "      <td>5e819ecea31bac6db64c0ccf48818fa8</td>\n",
       "      <td>21</td>\n",
       "      <td>18097</td>\n",
       "      <td>310306</td>\n",
       "      <td>21</td>\n",
       "      <td>48-49</td>\n",
       "      <td>62</td>\n",
       "      <td>56</td>\n",
       "      <td>9311.888889</td>\n",
       "    </tr>\n",
       "    <tr>\n",
       "      <th>6652</th>\n",
       "      <td>5e819ecea31bac6db64c0ccf48818fa8</td>\n",
       "      <td>22</td>\n",
       "      <td>18097</td>\n",
       "      <td>310306</td>\n",
       "      <td>45</td>\n",
       "      <td>53</td>\n",
       "      <td>44-45</td>\n",
       "      <td>56</td>\n",
       "      <td>9311.888889</td>\n",
       "    </tr>\n",
       "    <tr>\n",
       "      <th>6653</th>\n",
       "      <td>5e819ecea31bac6db64c0ccf48818fa8</td>\n",
       "      <td>24</td>\n",
       "      <td>18097</td>\n",
       "      <td>310306</td>\n",
       "      <td>58</td>\n",
       "      <td>54</td>\n",
       "      <td>48-49</td>\n",
       "      <td>62</td>\n",
       "      <td>9311.888889</td>\n",
       "    </tr>\n",
       "    <tr>\n",
       "      <th>6654</th>\n",
       "      <td>5e819ecea31bac6db64c0ccf48818fa8</td>\n",
       "      <td>25</td>\n",
       "      <td>18097</td>\n",
       "      <td>310306</td>\n",
       "      <td>20</td>\n",
       "      <td>62</td>\n",
       "      <td>48-49</td>\n",
       "      <td>56</td>\n",
       "      <td>9311.888889</td>\n",
       "    </tr>\n",
       "    <tr>\n",
       "      <th>6655</th>\n",
       "      <td>5e819ecea31bac6db64c0ccf48818fa8</td>\n",
       "      <td>26</td>\n",
       "      <td>18097</td>\n",
       "      <td>310306</td>\n",
       "      <td>59</td>\n",
       "      <td>48-49</td>\n",
       "      <td>92</td>\n",
       "      <td>56</td>\n",
       "      <td>9311.888889</td>\n",
       "    </tr>\n",
       "    <tr>\n",
       "      <th>6656</th>\n",
       "      <td>5e819ecea31bac6db64c0ccf48818fa8</td>\n",
       "      <td>27</td>\n",
       "      <td>18097</td>\n",
       "      <td>310306</td>\n",
       "      <td>30</td>\n",
       "      <td>48-49</td>\n",
       "      <td>52</td>\n",
       "      <td>62</td>\n",
       "      <td>9311.888889</td>\n",
       "    </tr>\n",
       "    <tr>\n",
       "      <th>6657</th>\n",
       "      <td>5e819ecea31bac6db64c0ccf48818fa8</td>\n",
       "      <td>28</td>\n",
       "      <td>18097</td>\n",
       "      <td>310306</td>\n",
       "      <td>24</td>\n",
       "      <td>56</td>\n",
       "      <td>72</td>\n",
       "      <td>44-45</td>\n",
       "      <td>9311.888889</td>\n",
       "    </tr>\n",
       "    <tr>\n",
       "      <th>6658</th>\n",
       "      <td>5e819ecea31bac6db64c0ccf48818fa8</td>\n",
       "      <td>29</td>\n",
       "      <td>18097</td>\n",
       "      <td>310306</td>\n",
       "      <td>29</td>\n",
       "      <td>56</td>\n",
       "      <td>48-49</td>\n",
       "      <td>62</td>\n",
       "      <td>9311.888889</td>\n",
       "    </tr>\n",
       "    <tr>\n",
       "      <th>6659</th>\n",
       "      <td>5e819ecea31bac6db64c0ccf48818fa8</td>\n",
       "      <td>30</td>\n",
       "      <td>18097</td>\n",
       "      <td>310306</td>\n",
       "      <td>29</td>\n",
       "      <td>48-49</td>\n",
       "      <td>62</td>\n",
       "      <td>56</td>\n",
       "      <td>9311.888889</td>\n",
       "    </tr>\n",
       "    <tr>\n",
       "      <th>6660</th>\n",
       "      <td>5e819ecea31bac6db64c0ccf48818fa8</td>\n",
       "      <td>31</td>\n",
       "      <td>18097</td>\n",
       "      <td>310306</td>\n",
       "      <td>31</td>\n",
       "      <td>56</td>\n",
       "      <td>62</td>\n",
       "      <td>48-49</td>\n",
       "      <td>9311.888889</td>\n",
       "    </tr>\n",
       "    <tr>\n",
       "      <th>6661</th>\n",
       "      <td>5e819ecea31bac6db64c0ccf48818fa8</td>\n",
       "      <td>32</td>\n",
       "      <td>18097</td>\n",
       "      <td>310306</td>\n",
       "      <td>36</td>\n",
       "      <td>56</td>\n",
       "      <td>48-49</td>\n",
       "      <td>62</td>\n",
       "      <td>9311.888889</td>\n",
       "    </tr>\n",
       "    <tr>\n",
       "      <th>6664</th>\n",
       "      <td>5e819ecea31bac6db64c0ccf48818fa8</td>\n",
       "      <td>33</td>\n",
       "      <td>18097</td>\n",
       "      <td>310306</td>\n",
       "      <td>24</td>\n",
       "      <td>62</td>\n",
       "      <td>56</td>\n",
       "      <td>48-49</td>\n",
       "      <td>9311.888889</td>\n",
       "    </tr>\n",
       "    <tr>\n",
       "      <th>6666</th>\n",
       "      <td>5e819ecea31bac6db64c0ccf48818fa8</td>\n",
       "      <td>34</td>\n",
       "      <td>18097</td>\n",
       "      <td>310306</td>\n",
       "      <td>17</td>\n",
       "      <td>48-49</td>\n",
       "      <td>62</td>\n",
       "      <td>56</td>\n",
       "      <td>9311.888889</td>\n",
       "    </tr>\n",
       "    <tr>\n",
       "      <th>6668</th>\n",
       "      <td>5e819ecea31bac6db64c0ccf48818fa8</td>\n",
       "      <td>35</td>\n",
       "      <td>18097</td>\n",
       "      <td>310306</td>\n",
       "      <td>23</td>\n",
       "      <td>62</td>\n",
       "      <td>56</td>\n",
       "      <td>44-45</td>\n",
       "      <td>9311.888889</td>\n",
       "    </tr>\n",
       "    <tr>\n",
       "      <th>6670</th>\n",
       "      <td>5e819ecea31bac6db64c0ccf48818fa8</td>\n",
       "      <td>36</td>\n",
       "      <td>18097</td>\n",
       "      <td>310306</td>\n",
       "      <td>47</td>\n",
       "      <td>72</td>\n",
       "      <td>54</td>\n",
       "      <td>56</td>\n",
       "      <td>9311.888889</td>\n",
       "    </tr>\n",
       "    <tr>\n",
       "      <th>6672</th>\n",
       "      <td>5e819ecea31bac6db64c0ccf48818fa8</td>\n",
       "      <td>37</td>\n",
       "      <td>18097</td>\n",
       "      <td>310306</td>\n",
       "      <td>30</td>\n",
       "      <td>62</td>\n",
       "      <td>48-49</td>\n",
       "      <td>44-45</td>\n",
       "      <td>9311.888889</td>\n",
       "    </tr>\n",
       "  </tbody>\n",
       "</table>\n",
       "</div>"
      ],
      "text/plain": [
       "                                 uu_id  week_number countyfips   tract  \\\n",
       "6632  5e819ecea31bac6db64c0ccf48818fa8            1      18097  310306   \n",
       "6633  5e819ecea31bac6db64c0ccf48818fa8            2      18097  310306   \n",
       "6634  5e819ecea31bac6db64c0ccf48818fa8            3      18097  310306   \n",
       "6635  5e819ecea31bac6db64c0ccf48818fa8            5      18097  310306   \n",
       "6636  5e819ecea31bac6db64c0ccf48818fa8            6      18097  310306   \n",
       "6637  5e819ecea31bac6db64c0ccf48818fa8            7      18097  310306   \n",
       "6638  5e819ecea31bac6db64c0ccf48818fa8            8      18097  310306   \n",
       "6639  5e819ecea31bac6db64c0ccf48818fa8            9      18097  310306   \n",
       "6640  5e819ecea31bac6db64c0ccf48818fa8           10      18097  310306   \n",
       "6641  5e819ecea31bac6db64c0ccf48818fa8           11      18097  310306   \n",
       "6642  5e819ecea31bac6db64c0ccf48818fa8           12      18097  310306   \n",
       "6643  5e819ecea31bac6db64c0ccf48818fa8           13      18097  310306   \n",
       "6644  5e819ecea31bac6db64c0ccf48818fa8           14      18097  310306   \n",
       "6645  5e819ecea31bac6db64c0ccf48818fa8           15      18097  310306   \n",
       "6646  5e819ecea31bac6db64c0ccf48818fa8           16      18097  310306   \n",
       "6647  5e819ecea31bac6db64c0ccf48818fa8           17      18097  310306   \n",
       "6648  5e819ecea31bac6db64c0ccf48818fa8           18      18097  310306   \n",
       "6649  5e819ecea31bac6db64c0ccf48818fa8           19      18097  310306   \n",
       "6650  5e819ecea31bac6db64c0ccf48818fa8           20      18097  310306   \n",
       "6651  5e819ecea31bac6db64c0ccf48818fa8           21      18097  310306   \n",
       "6652  5e819ecea31bac6db64c0ccf48818fa8           22      18097  310306   \n",
       "6653  5e819ecea31bac6db64c0ccf48818fa8           24      18097  310306   \n",
       "6654  5e819ecea31bac6db64c0ccf48818fa8           25      18097  310306   \n",
       "6655  5e819ecea31bac6db64c0ccf48818fa8           26      18097  310306   \n",
       "6656  5e819ecea31bac6db64c0ccf48818fa8           27      18097  310306   \n",
       "6657  5e819ecea31bac6db64c0ccf48818fa8           28      18097  310306   \n",
       "6658  5e819ecea31bac6db64c0ccf48818fa8           29      18097  310306   \n",
       "6659  5e819ecea31bac6db64c0ccf48818fa8           30      18097  310306   \n",
       "6660  5e819ecea31bac6db64c0ccf48818fa8           31      18097  310306   \n",
       "6661  5e819ecea31bac6db64c0ccf48818fa8           32      18097  310306   \n",
       "6664  5e819ecea31bac6db64c0ccf48818fa8           33      18097  310306   \n",
       "6666  5e819ecea31bac6db64c0ccf48818fa8           34      18097  310306   \n",
       "6668  5e819ecea31bac6db64c0ccf48818fa8           35      18097  310306   \n",
       "6670  5e819ecea31bac6db64c0ccf48818fa8           36      18097  310306   \n",
       "6672  5e819ecea31bac6db64c0ccf48818fa8           37      18097  310306   \n",
       "\n",
       "      total_claims top_category_employer1 top_category_employer2  \\\n",
       "6632            23                     56                  48-49   \n",
       "6633            43                     56                     62   \n",
       "6634            55                     81                  44-45   \n",
       "6635            45                  44-45                     56   \n",
       "6636            34                     56                     62   \n",
       "6637            27                     56                     62   \n",
       "6638            35                     72                     62   \n",
       "6639            24                     56                  44-45   \n",
       "6640            39                  48-49                     62   \n",
       "6641            22                     56                     54   \n",
       "6642            19                     56                  48-49   \n",
       "6643            51                     52                     56   \n",
       "6644            76                     56                     72   \n",
       "6645            20                     72                     56   \n",
       "6646            21                     56                     54   \n",
       "6647            46                     72                  48-49   \n",
       "6648            28                  48-49                     56   \n",
       "6649            31                  44-45                     56   \n",
       "6650            50                     56                  31-33   \n",
       "6651            21                  48-49                     62   \n",
       "6652            45                     53                  44-45   \n",
       "6653            58                     54                  48-49   \n",
       "6654            20                     62                  48-49   \n",
       "6655            59                  48-49                     92   \n",
       "6656            30                  48-49                     52   \n",
       "6657            24                     56                     72   \n",
       "6658            29                     56                  48-49   \n",
       "6659            29                  48-49                     62   \n",
       "6660            31                     56                     62   \n",
       "6661            36                     56                  48-49   \n",
       "6664            24                     62                     56   \n",
       "6666            17                  48-49                     62   \n",
       "6668            23                     62                     56   \n",
       "6670            47                     72                     54   \n",
       "6672            30                     62                  48-49   \n",
       "\n",
       "     top_category_employer3    wage_data  \n",
       "6632                     62  9311.888889  \n",
       "6633                  48-49  9311.888889  \n",
       "6634                     42  9311.888889  \n",
       "6635                     42  9311.888889  \n",
       "6636                  48-49  9311.888889  \n",
       "6637                  44-45  9311.888889  \n",
       "6638                     56  9311.888889  \n",
       "6639                     62  9311.888889  \n",
       "6640                     56  9311.888889  \n",
       "6641                     62  9311.888889  \n",
       "6642                  44-45  9311.888889  \n",
       "6643                  48-49  9311.888889  \n",
       "6644                  44-45  9311.888889  \n",
       "6645                     53  9311.888889  \n",
       "6646                  48-49  9311.888889  \n",
       "6647                  31-33  9311.888889  \n",
       "6648                     62  9311.888889  \n",
       "6649                  48-49  9311.888889  \n",
       "6650                  48-49  9311.888889  \n",
       "6651                     56  9311.888889  \n",
       "6652                     56  9311.888889  \n",
       "6653                     62  9311.888889  \n",
       "6654                     56  9311.888889  \n",
       "6655                     56  9311.888889  \n",
       "6656                     62  9311.888889  \n",
       "6657                  44-45  9311.888889  \n",
       "6658                     62  9311.888889  \n",
       "6659                     56  9311.888889  \n",
       "6660                  48-49  9311.888889  \n",
       "6661                     62  9311.888889  \n",
       "6664                  48-49  9311.888889  \n",
       "6666                     56  9311.888889  \n",
       "6668                  44-45  9311.888889  \n",
       "6670                     56  9311.888889  \n",
       "6672                  44-45  9311.888889  "
      ]
     },
     "execution_count": 85,
     "metadata": {},
     "output_type": "execute_result"
    }
   ],
   "source": [
    "relevant_unemployment_df.loc[relevant_unemployment_df.uu_id==\"5e819ecea31bac6db64c0ccf48818fa8\",]"
   ]
  },
  {
   "cell_type": "code",
   "execution_count": 86,
   "id": "70e20361",
   "metadata": {
    "execution": {
     "iopub.execute_input": "2023-05-10T00:47:12.534016Z",
     "iopub.status.busy": "2023-05-10T00:47:12.533936Z",
     "iopub.status.idle": "2023-05-10T00:47:12.732676Z",
     "shell.execute_reply": "2023-05-10T00:47:12.732345Z"
    }
   },
   "outputs": [
    {
     "ename": "TypeError",
     "evalue": "Cannot perform 'rand_' with a dtyped [int64] array and scalar of type [bool]",
     "output_type": "error",
     "traceback": [
      "\u001b[0;31m---------------------------------------------------------------------------\u001b[0m",
      "\u001b[0;31mTypeError\u001b[0m                                 Traceback (most recent call last)",
      "File \u001b[0;32m/opt/homebrew/lib/python3.9/site-packages/pandas/core/ops/array_ops.py:305\u001b[0m, in \u001b[0;36mna_logical_op\u001b[0;34m(x, y, op)\u001b[0m\n\u001b[1;32m    296\u001b[0m \u001b[38;5;28;01mtry\u001b[39;00m:\n\u001b[1;32m    297\u001b[0m     \u001b[38;5;66;03m# For exposition, write:\u001b[39;00m\n\u001b[1;32m    298\u001b[0m     \u001b[38;5;66;03m#  yarr = isinstance(y, np.ndarray)\u001b[39;00m\n\u001b[0;32m   (...)\u001b[0m\n\u001b[1;32m    303\u001b[0m     \u001b[38;5;66;03m# Then Cases where this goes through without raising include:\u001b[39;00m\n\u001b[1;32m    304\u001b[0m     \u001b[38;5;66;03m#  (xint or xbool) and (yint or bool)\u001b[39;00m\n\u001b[0;32m--> 305\u001b[0m     result \u001b[38;5;241m=\u001b[39m \u001b[43mop\u001b[49m\u001b[43m(\u001b[49m\u001b[43mx\u001b[49m\u001b[43m,\u001b[49m\u001b[43m \u001b[49m\u001b[43my\u001b[49m\u001b[43m)\u001b[49m\n\u001b[1;32m    306\u001b[0m \u001b[38;5;28;01mexcept\u001b[39;00m \u001b[38;5;167;01mTypeError\u001b[39;00m:\n",
      "File \u001b[0;32m/opt/homebrew/lib/python3.9/site-packages/pandas/core/roperator.py:54\u001b[0m, in \u001b[0;36mrand_\u001b[0;34m(left, right)\u001b[0m\n\u001b[1;32m     53\u001b[0m \u001b[38;5;28;01mdef\u001b[39;00m \u001b[38;5;21mrand_\u001b[39m(left, right):\n\u001b[0;32m---> 54\u001b[0m     \u001b[38;5;28;01mreturn\u001b[39;00m \u001b[43moperator\u001b[49m\u001b[38;5;241;43m.\u001b[39;49m\u001b[43mand_\u001b[49m\u001b[43m(\u001b[49m\u001b[43mright\u001b[49m\u001b[43m,\u001b[49m\u001b[43m \u001b[49m\u001b[43mleft\u001b[49m\u001b[43m)\u001b[49m\n",
      "\u001b[0;31mTypeError\u001b[0m: ufunc 'bitwise_and' not supported for the input types, and the inputs could not be safely coerced to any supported types according to the casting rule ''safe''",
      "\nDuring handling of the above exception, another exception occurred:\n",
      "\u001b[0;31mValueError\u001b[0m                                Traceback (most recent call last)",
      "File \u001b[0;32m/opt/homebrew/lib/python3.9/site-packages/pandas/core/ops/array_ops.py:319\u001b[0m, in \u001b[0;36mna_logical_op\u001b[0;34m(x, y, op)\u001b[0m\n\u001b[1;32m    318\u001b[0m \u001b[38;5;28;01mtry\u001b[39;00m:\n\u001b[0;32m--> 319\u001b[0m     result \u001b[38;5;241m=\u001b[39m \u001b[43mlibops\u001b[49m\u001b[38;5;241;43m.\u001b[39;49m\u001b[43mscalar_binop\u001b[49m\u001b[43m(\u001b[49m\u001b[43mx\u001b[49m\u001b[43m,\u001b[49m\u001b[43m \u001b[49m\u001b[43my\u001b[49m\u001b[43m,\u001b[49m\u001b[43m \u001b[49m\u001b[43mop\u001b[49m\u001b[43m)\u001b[49m\n\u001b[1;32m    320\u001b[0m \u001b[38;5;28;01mexcept\u001b[39;00m (\n\u001b[1;32m    321\u001b[0m     \u001b[38;5;167;01mTypeError\u001b[39;00m,\n\u001b[1;32m    322\u001b[0m     \u001b[38;5;167;01mValueError\u001b[39;00m,\n\u001b[0;32m   (...)\u001b[0m\n\u001b[1;32m    325\u001b[0m     \u001b[38;5;167;01mNotImplementedError\u001b[39;00m,\n\u001b[1;32m    326\u001b[0m ) \u001b[38;5;28;01mas\u001b[39;00m err:\n",
      "File \u001b[0;32m/opt/homebrew/lib/python3.9/site-packages/pandas/_libs/ops.pyx:180\u001b[0m, in \u001b[0;36mpandas._libs.ops.scalar_binop\u001b[0;34m()\u001b[0m\n",
      "\u001b[0;31mValueError\u001b[0m: Buffer dtype mismatch, expected 'Python object' but got 'long'",
      "\nThe above exception was the direct cause of the following exception:\n",
      "\u001b[0;31mTypeError\u001b[0m                                 Traceback (most recent call last)",
      "Cell \u001b[0;32mIn [86], line 1\u001b[0m\n\u001b[0;32m----> 1\u001b[0m relevant_unemployment_df\u001b[38;5;241m.\u001b[39mloc[relevant_unemployment_df\u001b[38;5;241m.\u001b[39muu_id\u001b[38;5;241m==\u001b[39m\u001b[38;5;124;43m\"\u001b[39;49m\u001b[38;5;124;43m5e819ecea31bac6db64c0ccf48818fa8\u001b[39;49m\u001b[38;5;124;43m\"\u001b[39;49m\u001b[43m \u001b[49m\u001b[38;5;241;43m&\u001b[39;49m\u001b[43m \u001b[49m\u001b[43mrelevant_unemployment_df\u001b[49m\u001b[38;5;241;43m.\u001b[39;49m\u001b[43mweek_number\u001b[49m \u001b[38;5;241m==\u001b[39m \u001b[38;5;241m1\u001b[39m,]\n",
      "File \u001b[0;32m/opt/homebrew/lib/python3.9/site-packages/pandas/core/ops/common.py:72\u001b[0m, in \u001b[0;36m_unpack_zerodim_and_defer.<locals>.new_method\u001b[0;34m(self, other)\u001b[0m\n\u001b[1;32m     68\u001b[0m             \u001b[38;5;28;01mreturn\u001b[39;00m \u001b[38;5;28mNotImplemented\u001b[39m\n\u001b[1;32m     70\u001b[0m other \u001b[38;5;241m=\u001b[39m item_from_zerodim(other)\n\u001b[0;32m---> 72\u001b[0m \u001b[38;5;28;01mreturn\u001b[39;00m \u001b[43mmethod\u001b[49m\u001b[43m(\u001b[49m\u001b[38;5;28;43mself\u001b[39;49m\u001b[43m,\u001b[49m\u001b[43m \u001b[49m\u001b[43mother\u001b[49m\u001b[43m)\u001b[49m\n",
      "File \u001b[0;32m/opt/homebrew/lib/python3.9/site-packages/pandas/core/arraylike.py:76\u001b[0m, in \u001b[0;36mOpsMixin.__rand__\u001b[0;34m(self, other)\u001b[0m\n\u001b[1;32m     74\u001b[0m \u001b[38;5;129m@unpack_zerodim_and_defer\u001b[39m(\u001b[38;5;124m\"\u001b[39m\u001b[38;5;124m__rand__\u001b[39m\u001b[38;5;124m\"\u001b[39m)\n\u001b[1;32m     75\u001b[0m \u001b[38;5;28;01mdef\u001b[39;00m \u001b[38;5;21m__rand__\u001b[39m(\u001b[38;5;28mself\u001b[39m, other):\n\u001b[0;32m---> 76\u001b[0m     \u001b[38;5;28;01mreturn\u001b[39;00m \u001b[38;5;28;43mself\u001b[39;49m\u001b[38;5;241;43m.\u001b[39;49m\u001b[43m_logical_method\u001b[49m\u001b[43m(\u001b[49m\u001b[43mother\u001b[49m\u001b[43m,\u001b[49m\u001b[43m \u001b[49m\u001b[43mroperator\u001b[49m\u001b[38;5;241;43m.\u001b[39;49m\u001b[43mrand_\u001b[49m\u001b[43m)\u001b[49m\n",
      "File \u001b[0;32m/opt/homebrew/lib/python3.9/site-packages/pandas/core/series.py:6254\u001b[0m, in \u001b[0;36mSeries._logical_method\u001b[0;34m(self, other, op)\u001b[0m\n\u001b[1;32m   6251\u001b[0m lvalues \u001b[38;5;241m=\u001b[39m \u001b[38;5;28mself\u001b[39m\u001b[38;5;241m.\u001b[39m_values\n\u001b[1;32m   6252\u001b[0m rvalues \u001b[38;5;241m=\u001b[39m extract_array(other, extract_numpy\u001b[38;5;241m=\u001b[39m\u001b[38;5;28;01mTrue\u001b[39;00m, extract_range\u001b[38;5;241m=\u001b[39m\u001b[38;5;28;01mTrue\u001b[39;00m)\n\u001b[0;32m-> 6254\u001b[0m res_values \u001b[38;5;241m=\u001b[39m \u001b[43mops\u001b[49m\u001b[38;5;241;43m.\u001b[39;49m\u001b[43mlogical_op\u001b[49m\u001b[43m(\u001b[49m\u001b[43mlvalues\u001b[49m\u001b[43m,\u001b[49m\u001b[43m \u001b[49m\u001b[43mrvalues\u001b[49m\u001b[43m,\u001b[49m\u001b[43m \u001b[49m\u001b[43mop\u001b[49m\u001b[43m)\u001b[49m\n\u001b[1;32m   6255\u001b[0m \u001b[38;5;28;01mreturn\u001b[39;00m \u001b[38;5;28mself\u001b[39m\u001b[38;5;241m.\u001b[39m_construct_result(res_values, name\u001b[38;5;241m=\u001b[39mres_name)\n",
      "File \u001b[0;32m/opt/homebrew/lib/python3.9/site-packages/pandas/core/ops/array_ops.py:380\u001b[0m, in \u001b[0;36mlogical_op\u001b[0;34m(left, right, op)\u001b[0m\n\u001b[1;32m    376\u001b[0m rvalues \u001b[38;5;241m=\u001b[39m right\n\u001b[1;32m    378\u001b[0m \u001b[38;5;28;01mif\u001b[39;00m should_extension_dispatch(lvalues, rvalues):\n\u001b[1;32m    379\u001b[0m     \u001b[38;5;66;03m# Call the method on lvalues\u001b[39;00m\n\u001b[0;32m--> 380\u001b[0m     res_values \u001b[38;5;241m=\u001b[39m \u001b[43mop\u001b[49m\u001b[43m(\u001b[49m\u001b[43mlvalues\u001b[49m\u001b[43m,\u001b[49m\u001b[43m \u001b[49m\u001b[43mrvalues\u001b[49m\u001b[43m)\u001b[49m\n\u001b[1;32m    382\u001b[0m \u001b[38;5;28;01melse\u001b[39;00m:\n\u001b[1;32m    383\u001b[0m     \u001b[38;5;28;01mif\u001b[39;00m \u001b[38;5;28misinstance\u001b[39m(rvalues, np\u001b[38;5;241m.\u001b[39mndarray):\n",
      "File \u001b[0;32m/opt/homebrew/lib/python3.9/site-packages/pandas/core/roperator.py:54\u001b[0m, in \u001b[0;36mrand_\u001b[0;34m(left, right)\u001b[0m\n\u001b[1;32m     53\u001b[0m \u001b[38;5;28;01mdef\u001b[39;00m \u001b[38;5;21mrand_\u001b[39m(left, right):\n\u001b[0;32m---> 54\u001b[0m     \u001b[38;5;28;01mreturn\u001b[39;00m \u001b[43moperator\u001b[49m\u001b[38;5;241;43m.\u001b[39;49m\u001b[43mand_\u001b[49m\u001b[43m(\u001b[49m\u001b[43mright\u001b[49m\u001b[43m,\u001b[49m\u001b[43m \u001b[49m\u001b[43mleft\u001b[49m\u001b[43m)\u001b[49m\n",
      "File \u001b[0;32m/opt/homebrew/lib/python3.9/site-packages/pandas/core/ops/common.py:72\u001b[0m, in \u001b[0;36m_unpack_zerodim_and_defer.<locals>.new_method\u001b[0;34m(self, other)\u001b[0m\n\u001b[1;32m     68\u001b[0m             \u001b[38;5;28;01mreturn\u001b[39;00m \u001b[38;5;28mNotImplemented\u001b[39m\n\u001b[1;32m     70\u001b[0m other \u001b[38;5;241m=\u001b[39m item_from_zerodim(other)\n\u001b[0;32m---> 72\u001b[0m \u001b[38;5;28;01mreturn\u001b[39;00m \u001b[43mmethod\u001b[49m\u001b[43m(\u001b[49m\u001b[38;5;28;43mself\u001b[39;49m\u001b[43m,\u001b[49m\u001b[43m \u001b[49m\u001b[43mother\u001b[49m\u001b[43m)\u001b[49m\n",
      "File \u001b[0;32m/opt/homebrew/lib/python3.9/site-packages/pandas/core/arraylike.py:76\u001b[0m, in \u001b[0;36mOpsMixin.__rand__\u001b[0;34m(self, other)\u001b[0m\n\u001b[1;32m     74\u001b[0m \u001b[38;5;129m@unpack_zerodim_and_defer\u001b[39m(\u001b[38;5;124m\"\u001b[39m\u001b[38;5;124m__rand__\u001b[39m\u001b[38;5;124m\"\u001b[39m)\n\u001b[1;32m     75\u001b[0m \u001b[38;5;28;01mdef\u001b[39;00m \u001b[38;5;21m__rand__\u001b[39m(\u001b[38;5;28mself\u001b[39m, other):\n\u001b[0;32m---> 76\u001b[0m     \u001b[38;5;28;01mreturn\u001b[39;00m \u001b[38;5;28;43mself\u001b[39;49m\u001b[38;5;241;43m.\u001b[39;49m\u001b[43m_logical_method\u001b[49m\u001b[43m(\u001b[49m\u001b[43mother\u001b[49m\u001b[43m,\u001b[49m\u001b[43m \u001b[49m\u001b[43mroperator\u001b[49m\u001b[38;5;241;43m.\u001b[39;49m\u001b[43mrand_\u001b[49m\u001b[43m)\u001b[49m\n",
      "File \u001b[0;32m/opt/homebrew/lib/python3.9/site-packages/pandas/core/arrays/masked.py:662\u001b[0m, in \u001b[0;36mBaseMaskedArray._arith_method\u001b[0;34m(self, other, op)\u001b[0m\n\u001b[1;32m    659\u001b[0m         pd_op \u001b[38;5;241m=\u001b[39m op\n\u001b[1;32m    661\u001b[0m     \u001b[38;5;28;01mwith\u001b[39;00m np\u001b[38;5;241m.\u001b[39merrstate(\u001b[38;5;28mall\u001b[39m\u001b[38;5;241m=\u001b[39m\u001b[38;5;124m\"\u001b[39m\u001b[38;5;124mignore\u001b[39m\u001b[38;5;124m\"\u001b[39m):\n\u001b[0;32m--> 662\u001b[0m         result \u001b[38;5;241m=\u001b[39m \u001b[43mpd_op\u001b[49m\u001b[43m(\u001b[49m\u001b[38;5;28;43mself\u001b[39;49m\u001b[38;5;241;43m.\u001b[39;49m\u001b[43m_data\u001b[49m\u001b[43m,\u001b[49m\u001b[43m \u001b[49m\u001b[43mother\u001b[49m\u001b[43m)\u001b[49m\n\u001b[1;32m    664\u001b[0m \u001b[38;5;28;01mif\u001b[39;00m op_name \u001b[38;5;241m==\u001b[39m \u001b[38;5;124m\"\u001b[39m\u001b[38;5;124mpow\u001b[39m\u001b[38;5;124m\"\u001b[39m:\n\u001b[1;32m    665\u001b[0m     \u001b[38;5;66;03m# 1 ** x is 1.\u001b[39;00m\n\u001b[1;32m    666\u001b[0m     mask \u001b[38;5;241m=\u001b[39m np\u001b[38;5;241m.\u001b[39mwhere((\u001b[38;5;28mself\u001b[39m\u001b[38;5;241m.\u001b[39m_data \u001b[38;5;241m==\u001b[39m \u001b[38;5;241m1\u001b[39m) \u001b[38;5;241m&\u001b[39m \u001b[38;5;241m~\u001b[39m\u001b[38;5;28mself\u001b[39m\u001b[38;5;241m.\u001b[39m_mask, \u001b[38;5;28;01mFalse\u001b[39;00m, mask)\n",
      "File \u001b[0;32m/opt/homebrew/lib/python3.9/site-packages/pandas/core/ops/array_ops.py:395\u001b[0m, in \u001b[0;36mlogical_op\u001b[0;34m(left, right, op)\u001b[0m\n\u001b[1;32m    391\u001b[0m \u001b[38;5;66;03m# For int vs int `^`, `|`, `&` are bitwise operators and return\u001b[39;00m\n\u001b[1;32m    392\u001b[0m \u001b[38;5;66;03m#   integer dtypes.  Otherwise these are boolean ops\u001b[39;00m\n\u001b[1;32m    393\u001b[0m filler \u001b[38;5;241m=\u001b[39m fill_int \u001b[38;5;28;01mif\u001b[39;00m is_self_int_dtype \u001b[38;5;129;01mand\u001b[39;00m is_other_int_dtype \u001b[38;5;28;01melse\u001b[39;00m fill_bool\n\u001b[0;32m--> 395\u001b[0m res_values \u001b[38;5;241m=\u001b[39m \u001b[43mna_logical_op\u001b[49m\u001b[43m(\u001b[49m\u001b[43mlvalues\u001b[49m\u001b[43m,\u001b[49m\u001b[43m \u001b[49m\u001b[43mrvalues\u001b[49m\u001b[43m,\u001b[49m\u001b[43m \u001b[49m\u001b[43mop\u001b[49m\u001b[43m)\u001b[49m\n\u001b[1;32m    396\u001b[0m \u001b[38;5;66;03m# error: Cannot call function of unknown type\u001b[39;00m\n\u001b[1;32m    397\u001b[0m res_values \u001b[38;5;241m=\u001b[39m filler(res_values)  \u001b[38;5;66;03m# type: ignore[operator]\u001b[39;00m\n",
      "File \u001b[0;32m/opt/homebrew/lib/python3.9/site-packages/pandas/core/ops/array_ops.py:328\u001b[0m, in \u001b[0;36mna_logical_op\u001b[0;34m(x, y, op)\u001b[0m\n\u001b[1;32m    320\u001b[0m         \u001b[38;5;28;01mexcept\u001b[39;00m (\n\u001b[1;32m    321\u001b[0m             \u001b[38;5;167;01mTypeError\u001b[39;00m,\n\u001b[1;32m    322\u001b[0m             \u001b[38;5;167;01mValueError\u001b[39;00m,\n\u001b[0;32m   (...)\u001b[0m\n\u001b[1;32m    325\u001b[0m             \u001b[38;5;167;01mNotImplementedError\u001b[39;00m,\n\u001b[1;32m    326\u001b[0m         ) \u001b[38;5;28;01mas\u001b[39;00m err:\n\u001b[1;32m    327\u001b[0m             typ \u001b[38;5;241m=\u001b[39m \u001b[38;5;28mtype\u001b[39m(y)\u001b[38;5;241m.\u001b[39m\u001b[38;5;18m__name__\u001b[39m\n\u001b[0;32m--> 328\u001b[0m             \u001b[38;5;28;01mraise\u001b[39;00m \u001b[38;5;167;01mTypeError\u001b[39;00m(\n\u001b[1;32m    329\u001b[0m                 \u001b[38;5;124mf\u001b[39m\u001b[38;5;124m\"\u001b[39m\u001b[38;5;124mCannot perform \u001b[39m\u001b[38;5;124m'\u001b[39m\u001b[38;5;132;01m{\u001b[39;00mop\u001b[38;5;241m.\u001b[39m\u001b[38;5;18m__name__\u001b[39m\u001b[38;5;132;01m}\u001b[39;00m\u001b[38;5;124m'\u001b[39m\u001b[38;5;124m with a dtyped [\u001b[39m\u001b[38;5;132;01m{\u001b[39;00mx\u001b[38;5;241m.\u001b[39mdtype\u001b[38;5;132;01m}\u001b[39;00m\u001b[38;5;124m] array \u001b[39m\u001b[38;5;124m\"\u001b[39m\n\u001b[1;32m    330\u001b[0m                 \u001b[38;5;124mf\u001b[39m\u001b[38;5;124m\"\u001b[39m\u001b[38;5;124mand scalar of type [\u001b[39m\u001b[38;5;132;01m{\u001b[39;00mtyp\u001b[38;5;132;01m}\u001b[39;00m\u001b[38;5;124m]\u001b[39m\u001b[38;5;124m\"\u001b[39m\n\u001b[1;32m    331\u001b[0m             ) \u001b[38;5;28;01mfrom\u001b[39;00m \u001b[38;5;21;01merr\u001b[39;00m\n\u001b[1;32m    333\u001b[0m \u001b[38;5;28;01mreturn\u001b[39;00m result\u001b[38;5;241m.\u001b[39mreshape(x\u001b[38;5;241m.\u001b[39mshape)\n",
      "\u001b[0;31mTypeError\u001b[0m: Cannot perform 'rand_' with a dtyped [int64] array and scalar of type [bool]"
     ]
    }
   ],
   "source": [
    "relevant_unemployment_df.loc[relevant_unemployment_df.uu_id==\"5e819ecea31bac6db64c0ccf48818fa8\" & relevant_unemployment_df.week_number == 1,]"
   ]
  },
  {
   "cell_type": "code",
   "execution_count": 87,
   "id": "040b1b48",
   "metadata": {
    "execution": {
     "iopub.execute_input": "2023-05-10T00:47:12.734212Z",
     "iopub.status.busy": "2023-05-10T00:47:12.734112Z",
     "iopub.status.idle": "2023-05-10T00:47:12.744041Z",
     "shell.execute_reply": "2023-05-10T00:47:12.743778Z"
    }
   },
   "outputs": [
    {
     "ename": "ValueError",
     "evalue": "The truth value of a Series is ambiguous. Use a.empty, a.bool(), a.item(), a.any() or a.all().",
     "output_type": "error",
     "traceback": [
      "\u001b[0;31m---------------------------------------------------------------------------\u001b[0m",
      "\u001b[0;31mValueError\u001b[0m                                Traceback (most recent call last)",
      "Cell \u001b[0;32mIn [87], line 1\u001b[0m\n\u001b[0;32m----> 1\u001b[0m relevant_unemployment_df\u001b[38;5;241m.\u001b[39mloc[relevant_unemployment_df\u001b[38;5;241m.\u001b[39muu_id\u001b[38;5;241m==\u001b[39m\u001b[38;5;124m\"\u001b[39m\u001b[38;5;124m5e819ecea31bac6db64c0ccf48818fa8\u001b[39m\u001b[38;5;124m\"\u001b[39m \u001b[38;5;129;01mand\u001b[39;00m relevant_unemployment_df\u001b[38;5;241m.\u001b[39mweek_number \u001b[38;5;241m==\u001b[39m \u001b[38;5;241m1\u001b[39m,]\n",
      "File \u001b[0;32m/opt/homebrew/lib/python3.9/site-packages/pandas/core/generic.py:1527\u001b[0m, in \u001b[0;36mNDFrame.__nonzero__\u001b[0;34m(self)\u001b[0m\n\u001b[1;32m   1525\u001b[0m \u001b[38;5;129m@final\u001b[39m\n\u001b[1;32m   1526\u001b[0m \u001b[38;5;28;01mdef\u001b[39;00m \u001b[38;5;21m__nonzero__\u001b[39m(\u001b[38;5;28mself\u001b[39m) \u001b[38;5;241m-\u001b[39m\u001b[38;5;241m>\u001b[39m NoReturn:\n\u001b[0;32m-> 1527\u001b[0m     \u001b[38;5;28;01mraise\u001b[39;00m \u001b[38;5;167;01mValueError\u001b[39;00m(\n\u001b[1;32m   1528\u001b[0m         \u001b[38;5;124mf\u001b[39m\u001b[38;5;124m\"\u001b[39m\u001b[38;5;124mThe truth value of a \u001b[39m\u001b[38;5;132;01m{\u001b[39;00m\u001b[38;5;28mtype\u001b[39m(\u001b[38;5;28mself\u001b[39m)\u001b[38;5;241m.\u001b[39m\u001b[38;5;18m__name__\u001b[39m\u001b[38;5;132;01m}\u001b[39;00m\u001b[38;5;124m is ambiguous. \u001b[39m\u001b[38;5;124m\"\u001b[39m\n\u001b[1;32m   1529\u001b[0m         \u001b[38;5;124m\"\u001b[39m\u001b[38;5;124mUse a.empty, a.bool(), a.item(), a.any() or a.all().\u001b[39m\u001b[38;5;124m\"\u001b[39m\n\u001b[1;32m   1530\u001b[0m     )\n",
      "\u001b[0;31mValueError\u001b[0m: The truth value of a Series is ambiguous. Use a.empty, a.bool(), a.item(), a.any() or a.all()."
     ]
    }
   ],
   "source": [
    "relevant_unemployment_df.loc[relevant_unemployment_df.uu_id==\"5e819ecea31bac6db64c0ccf48818fa8\" and relevant_unemployment_df.week_number == 1,]"
   ]
  },
  {
   "cell_type": "code",
   "execution_count": 88,
   "id": "7c6bd781",
   "metadata": {
    "execution": {
     "iopub.execute_input": "2023-05-10T00:47:12.745433Z",
     "iopub.status.busy": "2023-05-10T00:47:12.745356Z",
     "iopub.status.idle": "2023-05-10T00:47:12.755511Z",
     "shell.execute_reply": "2023-05-10T00:47:12.755245Z"
    }
   },
   "outputs": [
    {
     "ename": "ValueError",
     "evalue": "The truth value of a Series is ambiguous. Use a.empty, a.bool(), a.item(), a.any() or a.all().",
     "output_type": "error",
     "traceback": [
      "\u001b[0;31m---------------------------------------------------------------------------\u001b[0m",
      "\u001b[0;31mValueError\u001b[0m                                Traceback (most recent call last)",
      "Cell \u001b[0;32mIn [88], line 1\u001b[0m\n\u001b[0;32m----> 1\u001b[0m relevant_unemployment_df\u001b[38;5;241m.\u001b[39mloc[(relevant_unemployment_df\u001b[38;5;241m.\u001b[39muu_id\u001b[38;5;241m==\u001b[39m\u001b[38;5;124m\"\u001b[39m\u001b[38;5;124m5e819ecea31bac6db64c0ccf48818fa8\u001b[39m\u001b[38;5;124m\"\u001b[39m) \u001b[38;5;129;01mand\u001b[39;00m (relevant_unemployment_df\u001b[38;5;241m.\u001b[39mweek_number \u001b[38;5;241m==\u001b[39m \u001b[38;5;241m1\u001b[39m),]\n",
      "File \u001b[0;32m/opt/homebrew/lib/python3.9/site-packages/pandas/core/generic.py:1527\u001b[0m, in \u001b[0;36mNDFrame.__nonzero__\u001b[0;34m(self)\u001b[0m\n\u001b[1;32m   1525\u001b[0m \u001b[38;5;129m@final\u001b[39m\n\u001b[1;32m   1526\u001b[0m \u001b[38;5;28;01mdef\u001b[39;00m \u001b[38;5;21m__nonzero__\u001b[39m(\u001b[38;5;28mself\u001b[39m) \u001b[38;5;241m-\u001b[39m\u001b[38;5;241m>\u001b[39m NoReturn:\n\u001b[0;32m-> 1527\u001b[0m     \u001b[38;5;28;01mraise\u001b[39;00m \u001b[38;5;167;01mValueError\u001b[39;00m(\n\u001b[1;32m   1528\u001b[0m         \u001b[38;5;124mf\u001b[39m\u001b[38;5;124m\"\u001b[39m\u001b[38;5;124mThe truth value of a \u001b[39m\u001b[38;5;132;01m{\u001b[39;00m\u001b[38;5;28mtype\u001b[39m(\u001b[38;5;28mself\u001b[39m)\u001b[38;5;241m.\u001b[39m\u001b[38;5;18m__name__\u001b[39m\u001b[38;5;132;01m}\u001b[39;00m\u001b[38;5;124m is ambiguous. \u001b[39m\u001b[38;5;124m\"\u001b[39m\n\u001b[1;32m   1529\u001b[0m         \u001b[38;5;124m\"\u001b[39m\u001b[38;5;124mUse a.empty, a.bool(), a.item(), a.any() or a.all().\u001b[39m\u001b[38;5;124m\"\u001b[39m\n\u001b[1;32m   1530\u001b[0m     )\n",
      "\u001b[0;31mValueError\u001b[0m: The truth value of a Series is ambiguous. Use a.empty, a.bool(), a.item(), a.any() or a.all()."
     ]
    }
   ],
   "source": [
    "relevant_unemployment_df.loc[(relevant_unemployment_df.uu_id==\"5e819ecea31bac6db64c0ccf48818fa8\") and (relevant_unemployment_df.week_number == 1),]"
   ]
  },
  {
   "cell_type": "code",
   "execution_count": 89,
   "id": "82c123ff",
   "metadata": {
    "execution": {
     "iopub.execute_input": "2023-05-10T00:47:12.756939Z",
     "iopub.status.busy": "2023-05-10T00:47:12.756852Z",
     "iopub.status.idle": "2023-05-10T00:47:12.766240Z",
     "shell.execute_reply": "2023-05-10T00:47:12.765973Z"
    }
   },
   "outputs": [
    {
     "ename": "ValueError",
     "evalue": "The truth value of a Series is ambiguous. Use a.empty, a.bool(), a.item(), a.any() or a.all().",
     "output_type": "error",
     "traceback": [
      "\u001b[0;31m---------------------------------------------------------------------------\u001b[0m",
      "\u001b[0;31mValueError\u001b[0m                                Traceback (most recent call last)",
      "Cell \u001b[0;32mIn [89], line 1\u001b[0m\n\u001b[0;32m----> 1\u001b[0m relevant_unemployment_df\u001b[38;5;241m.\u001b[39mloc[((relevant_unemployment_df\u001b[38;5;241m.\u001b[39muu_id\u001b[38;5;241m==\u001b[39m\u001b[38;5;124m\"\u001b[39m\u001b[38;5;124m5e819ecea31bac6db64c0ccf48818fa8\u001b[39m\u001b[38;5;124m\"\u001b[39m) \u001b[38;5;129;01mand\u001b[39;00m (relevant_unemployment_df\u001b[38;5;241m.\u001b[39mweek_number \u001b[38;5;241m==\u001b[39m \u001b[38;5;241m1\u001b[39m)),]\n",
      "File \u001b[0;32m/opt/homebrew/lib/python3.9/site-packages/pandas/core/generic.py:1527\u001b[0m, in \u001b[0;36mNDFrame.__nonzero__\u001b[0;34m(self)\u001b[0m\n\u001b[1;32m   1525\u001b[0m \u001b[38;5;129m@final\u001b[39m\n\u001b[1;32m   1526\u001b[0m \u001b[38;5;28;01mdef\u001b[39;00m \u001b[38;5;21m__nonzero__\u001b[39m(\u001b[38;5;28mself\u001b[39m) \u001b[38;5;241m-\u001b[39m\u001b[38;5;241m>\u001b[39m NoReturn:\n\u001b[0;32m-> 1527\u001b[0m     \u001b[38;5;28;01mraise\u001b[39;00m \u001b[38;5;167;01mValueError\u001b[39;00m(\n\u001b[1;32m   1528\u001b[0m         \u001b[38;5;124mf\u001b[39m\u001b[38;5;124m\"\u001b[39m\u001b[38;5;124mThe truth value of a \u001b[39m\u001b[38;5;132;01m{\u001b[39;00m\u001b[38;5;28mtype\u001b[39m(\u001b[38;5;28mself\u001b[39m)\u001b[38;5;241m.\u001b[39m\u001b[38;5;18m__name__\u001b[39m\u001b[38;5;132;01m}\u001b[39;00m\u001b[38;5;124m is ambiguous. \u001b[39m\u001b[38;5;124m\"\u001b[39m\n\u001b[1;32m   1529\u001b[0m         \u001b[38;5;124m\"\u001b[39m\u001b[38;5;124mUse a.empty, a.bool(), a.item(), a.any() or a.all().\u001b[39m\u001b[38;5;124m\"\u001b[39m\n\u001b[1;32m   1530\u001b[0m     )\n",
      "\u001b[0;31mValueError\u001b[0m: The truth value of a Series is ambiguous. Use a.empty, a.bool(), a.item(), a.any() or a.all()."
     ]
    }
   ],
   "source": [
    "relevant_unemployment_df.loc[((relevant_unemployment_df.uu_id==\"5e819ecea31bac6db64c0ccf48818fa8\") and (relevant_unemployment_df.week_number == 1)),]"
   ]
  },
  {
   "cell_type": "code",
   "execution_count": 90,
   "id": "29f7b11d",
   "metadata": {
    "execution": {
     "iopub.execute_input": "2023-05-10T00:47:12.767639Z",
     "iopub.status.busy": "2023-05-10T00:47:12.767561Z",
     "iopub.status.idle": "2023-05-10T00:47:12.769630Z",
     "shell.execute_reply": "2023-05-10T00:47:12.769394Z"
    }
   },
   "outputs": [
    {
     "ename": "SyntaxError",
     "evalue": "invalid syntax (1800675154.py, line 1)",
     "output_type": "error",
     "traceback": [
      "\u001b[0;36m  Cell \u001b[0;32mIn [90], line 1\u001b[0;36m\u001b[0m\n\u001b[0;31m    relevant_unemployment_df.loc[((relevant_unemployment_df.uu_id==\"5e819ecea31bac6db64c0ccf48818fa8\") a&nd (relevant_unemployment_df.week_number == 1)),]\u001b[0m\n\u001b[0m                                                                                                       ^\u001b[0m\n\u001b[0;31mSyntaxError\u001b[0m\u001b[0;31m:\u001b[0m invalid syntax\n"
     ]
    }
   ],
   "source": [
    "relevant_unemployment_df.loc[((relevant_unemployment_df.uu_id==\"5e819ecea31bac6db64c0ccf48818fa8\") a&nd (relevant_unemployment_df.week_number == 1)),]"
   ]
  },
  {
   "cell_type": "code",
   "execution_count": 91,
   "id": "06c568ea",
   "metadata": {
    "execution": {
     "iopub.execute_input": "2023-05-10T00:47:12.770983Z",
     "iopub.status.busy": "2023-05-10T00:47:12.770905Z",
     "iopub.status.idle": "2023-05-10T00:47:12.776027Z",
     "shell.execute_reply": "2023-05-10T00:47:12.775779Z"
    }
   },
   "outputs": [
    {
     "data": {
      "text/html": [
       "<div>\n",
       "<style scoped>\n",
       "    .dataframe tbody tr th:only-of-type {\n",
       "        vertical-align: middle;\n",
       "    }\n",
       "\n",
       "    .dataframe tbody tr th {\n",
       "        vertical-align: top;\n",
       "    }\n",
       "\n",
       "    .dataframe thead th {\n",
       "        text-align: right;\n",
       "    }\n",
       "</style>\n",
       "<table border=\"1\" class=\"dataframe\">\n",
       "  <thead>\n",
       "    <tr style=\"text-align: right;\">\n",
       "      <th></th>\n",
       "      <th>uu_id</th>\n",
       "      <th>week_number</th>\n",
       "      <th>countyfips</th>\n",
       "      <th>tract</th>\n",
       "      <th>total_claims</th>\n",
       "      <th>top_category_employer1</th>\n",
       "      <th>top_category_employer2</th>\n",
       "      <th>top_category_employer3</th>\n",
       "      <th>wage_data</th>\n",
       "    </tr>\n",
       "  </thead>\n",
       "  <tbody>\n",
       "    <tr>\n",
       "      <th>6632</th>\n",
       "      <td>5e819ecea31bac6db64c0ccf48818fa8</td>\n",
       "      <td>1</td>\n",
       "      <td>18097</td>\n",
       "      <td>310306</td>\n",
       "      <td>23</td>\n",
       "      <td>56</td>\n",
       "      <td>48-49</td>\n",
       "      <td>62</td>\n",
       "      <td>9311.888889</td>\n",
       "    </tr>\n",
       "  </tbody>\n",
       "</table>\n",
       "</div>"
      ],
      "text/plain": [
       "                                 uu_id  week_number countyfips   tract  \\\n",
       "6632  5e819ecea31bac6db64c0ccf48818fa8            1      18097  310306   \n",
       "\n",
       "      total_claims top_category_employer1 top_category_employer2  \\\n",
       "6632            23                     56                  48-49   \n",
       "\n",
       "     top_category_employer3    wage_data  \n",
       "6632                     62  9311.888889  "
      ]
     },
     "execution_count": 91,
     "metadata": {},
     "output_type": "execute_result"
    }
   ],
   "source": [
    "relevant_unemployment_df.loc[((relevant_unemployment_df.uu_id==\"5e819ecea31bac6db64c0ccf48818fa8\") & (relevant_unemployment_df.week_number == 1)),]"
   ]
  },
  {
   "cell_type": "code",
   "execution_count": 92,
   "id": "39a21525",
   "metadata": {
    "execution": {
     "iopub.execute_input": "2023-05-10T00:47:12.777377Z",
     "iopub.status.busy": "2023-05-10T00:47:12.777300Z",
     "iopub.status.idle": "2023-05-10T00:47:12.781443Z",
     "shell.execute_reply": "2023-05-10T00:47:12.781207Z"
    }
   },
   "outputs": [
    {
     "data": {
      "text/html": [
       "<div>\n",
       "<style scoped>\n",
       "    .dataframe tbody tr th:only-of-type {\n",
       "        vertical-align: middle;\n",
       "    }\n",
       "\n",
       "    .dataframe tbody tr th {\n",
       "        vertical-align: top;\n",
       "    }\n",
       "\n",
       "    .dataframe thead th {\n",
       "        text-align: right;\n",
       "    }\n",
       "</style>\n",
       "<table border=\"1\" class=\"dataframe\">\n",
       "  <thead>\n",
       "    <tr style=\"text-align: right;\">\n",
       "      <th></th>\n",
       "      <th>uu_id</th>\n",
       "      <th>week_number</th>\n",
       "      <th>countyfips</th>\n",
       "      <th>tract</th>\n",
       "      <th>total_claims</th>\n",
       "      <th>top_category_employer1</th>\n",
       "      <th>top_category_employer2</th>\n",
       "      <th>top_category_employer3</th>\n",
       "      <th>wage_data</th>\n",
       "    </tr>\n",
       "  </thead>\n",
       "  <tbody>\n",
       "  </tbody>\n",
       "</table>\n",
       "</div>"
      ],
      "text/plain": [
       "Empty DataFrame\n",
       "Columns: [uu_id, week_number, countyfips, tract, total_claims, top_category_employer1, top_category_employer2, top_category_employer3, wage_data]\n",
       "Index: []"
      ]
     },
     "execution_count": 92,
     "metadata": {},
     "output_type": "execute_result"
    }
   ],
   "source": [
    "relevant_unemployment_df.loc[((relevant_unemployment_df.uu_id==\"5e819ecea31bac6db4c0ccf48818fa8\") & (relevant_unemployment_df.week_number == 1)),]"
   ]
  },
  {
   "cell_type": "code",
   "execution_count": 93,
   "id": "88cc3296",
   "metadata": {
    "execution": {
     "iopub.execute_input": "2023-05-10T00:47:12.782721Z",
     "iopub.status.busy": "2023-05-10T00:47:12.782645Z",
     "iopub.status.idle": "2023-05-10T00:47:12.787629Z",
     "shell.execute_reply": "2023-05-10T00:47:12.787371Z"
    }
   },
   "outputs": [
    {
     "data": {
      "text/html": [
       "<div>\n",
       "<style scoped>\n",
       "    .dataframe tbody tr th:only-of-type {\n",
       "        vertical-align: middle;\n",
       "    }\n",
       "\n",
       "    .dataframe tbody tr th {\n",
       "        vertical-align: top;\n",
       "    }\n",
       "\n",
       "    .dataframe thead th {\n",
       "        text-align: right;\n",
       "    }\n",
       "</style>\n",
       "<table border=\"1\" class=\"dataframe\">\n",
       "  <thead>\n",
       "    <tr style=\"text-align: right;\">\n",
       "      <th></th>\n",
       "      <th>uu_id</th>\n",
       "      <th>week_number</th>\n",
       "      <th>countyfips</th>\n",
       "      <th>tract</th>\n",
       "      <th>total_claims</th>\n",
       "      <th>top_category_employer1</th>\n",
       "      <th>top_category_employer2</th>\n",
       "      <th>top_category_employer3</th>\n",
       "      <th>wage_data</th>\n",
       "    </tr>\n",
       "  </thead>\n",
       "  <tbody>\n",
       "    <tr>\n",
       "      <th>6632</th>\n",
       "      <td>5e819ecea31bac6db64c0ccf48818fa8</td>\n",
       "      <td>1</td>\n",
       "      <td>18097</td>\n",
       "      <td>310306</td>\n",
       "      <td>23</td>\n",
       "      <td>56</td>\n",
       "      <td>48-49</td>\n",
       "      <td>62</td>\n",
       "      <td>9311.888889</td>\n",
       "    </tr>\n",
       "  </tbody>\n",
       "</table>\n",
       "</div>"
      ],
      "text/plain": [
       "                                 uu_id  week_number countyfips   tract  \\\n",
       "6632  5e819ecea31bac6db64c0ccf48818fa8            1      18097  310306   \n",
       "\n",
       "      total_claims top_category_employer1 top_category_employer2  \\\n",
       "6632            23                     56                  48-49   \n",
       "\n",
       "     top_category_employer3    wage_data  \n",
       "6632                     62  9311.888889  "
      ]
     },
     "execution_count": 93,
     "metadata": {},
     "output_type": "execute_result"
    }
   ],
   "source": [
    "relevant_unemployment_df.loc[((relevant_unemployment_df.uu_id==\"5e819ecea31bac6db64c0ccf48818fa8\") & (relevant_unemployment_df.week_number == 1)),]"
   ]
  },
  {
   "cell_type": "code",
   "execution_count": 94,
   "id": "bb85086b",
   "metadata": {
    "execution": {
     "iopub.execute_input": "2023-05-10T00:47:12.788957Z",
     "iopub.status.busy": "2023-05-10T00:47:12.788879Z",
     "iopub.status.idle": "2023-05-10T00:47:12.792129Z",
     "shell.execute_reply": "2023-05-10T00:47:12.791908Z"
    }
   },
   "outputs": [
    {
     "data": {
      "text/plain": [
       "1"
      ]
     },
     "execution_count": 94,
     "metadata": {},
     "output_type": "execute_result"
    }
   ],
   "source": [
    "len(relevant_unemployment_df.loc[((relevant_unemployment_df.uu_id==\"5e819ecea31bac6db64c0ccf48818fa8\") & (relevant_unemployment_df.week_number == 1)),])"
   ]
  },
  {
   "cell_type": "code",
   "execution_count": 95,
   "id": "ab4afb37",
   "metadata": {
    "execution": {
     "iopub.execute_input": "2023-05-10T00:47:12.793505Z",
     "iopub.status.busy": "2023-05-10T00:47:12.793425Z",
     "iopub.status.idle": "2023-05-10T00:47:12.796575Z",
     "shell.execute_reply": "2023-05-10T00:47:12.796321Z"
    }
   },
   "outputs": [
    {
     "data": {
      "text/plain": [
       "0"
      ]
     },
     "execution_count": 95,
     "metadata": {},
     "output_type": "execute_result"
    }
   ],
   "source": [
    "len(relevant_unemployment_df.loc[((relevant_unemployment_df.uu_id==\"5edd819ecea31bac6db64c0ccf48818fa8\") & (relevant_unemployment_df.week_number == 1)),])"
   ]
  },
  {
   "cell_type": "code",
   "execution_count": 96,
   "id": "88dce7f1",
   "metadata": {
    "execution": {
     "iopub.execute_input": "2023-05-10T00:47:12.797946Z",
     "iopub.status.busy": "2023-05-10T00:47:12.797865Z",
     "iopub.status.idle": "2023-05-10T00:47:12.801134Z",
     "shell.execute_reply": "2023-05-10T00:47:12.800911Z"
    }
   },
   "outputs": [
    {
     "data": {
      "text/plain": [
       "1"
      ]
     },
     "execution_count": 96,
     "metadata": {},
     "output_type": "execute_result"
    }
   ],
   "source": [
    "len(relevant_unemployment_df.loc[((relevant_unemployment_df.uu_id==\"5e819ecea31bac6db64c0ccf48818fa8\") & (relevant_unemployment_df.week_number == 1)),])"
   ]
  },
  {
   "cell_type": "code",
   "execution_count": 97,
   "id": "3044d5da",
   "metadata": {
    "execution": {
     "iopub.execute_input": "2023-05-10T00:47:12.802601Z",
     "iopub.status.busy": "2023-05-10T00:47:12.802517Z",
     "iopub.status.idle": "2023-05-10T00:47:12.807576Z",
     "shell.execute_reply": "2023-05-10T00:47:12.807339Z"
    }
   },
   "outputs": [
    {
     "data": {
      "text/html": [
       "<div>\n",
       "<style scoped>\n",
       "    .dataframe tbody tr th:only-of-type {\n",
       "        vertical-align: middle;\n",
       "    }\n",
       "\n",
       "    .dataframe tbody tr th {\n",
       "        vertical-align: top;\n",
       "    }\n",
       "\n",
       "    .dataframe thead th {\n",
       "        text-align: right;\n",
       "    }\n",
       "</style>\n",
       "<table border=\"1\" class=\"dataframe\">\n",
       "  <thead>\n",
       "    <tr style=\"text-align: right;\">\n",
       "      <th></th>\n",
       "      <th>uu_id</th>\n",
       "      <th>week_number</th>\n",
       "      <th>countyfips</th>\n",
       "      <th>tract</th>\n",
       "      <th>total_claims</th>\n",
       "      <th>top_category_employer1</th>\n",
       "      <th>top_category_employer2</th>\n",
       "      <th>top_category_employer3</th>\n",
       "      <th>wage_data</th>\n",
       "    </tr>\n",
       "  </thead>\n",
       "  <tbody>\n",
       "    <tr>\n",
       "      <th>6632</th>\n",
       "      <td>5e819ecea31bac6db64c0ccf48818fa8</td>\n",
       "      <td>1</td>\n",
       "      <td>18097</td>\n",
       "      <td>310306</td>\n",
       "      <td>23</td>\n",
       "      <td>56</td>\n",
       "      <td>48-49</td>\n",
       "      <td>62</td>\n",
       "      <td>9311.888889</td>\n",
       "    </tr>\n",
       "  </tbody>\n",
       "</table>\n",
       "</div>"
      ],
      "text/plain": [
       "                                 uu_id  week_number countyfips   tract  \\\n",
       "6632  5e819ecea31bac6db64c0ccf48818fa8            1      18097  310306   \n",
       "\n",
       "      total_claims top_category_employer1 top_category_employer2  \\\n",
       "6632            23                     56                  48-49   \n",
       "\n",
       "     top_category_employer3    wage_data  \n",
       "6632                     62  9311.888889  "
      ]
     },
     "execution_count": 97,
     "metadata": {},
     "output_type": "execute_result"
    }
   ],
   "source": [
    "(relevant_unemployment_df.loc[((relevant_unemployment_df.uu_id==\"5e819ecea31bac6db64c0ccf48818fa8\") & (relevant_unemployment_df.week_number == 1)),])"
   ]
  },
  {
   "cell_type": "code",
   "execution_count": 98,
   "id": "65c985cc",
   "metadata": {
    "execution": {
     "iopub.execute_input": "2023-05-10T00:47:12.808919Z",
     "iopub.status.busy": "2023-05-10T00:47:12.808839Z",
     "iopub.status.idle": "2023-05-10T00:47:12.815012Z",
     "shell.execute_reply": "2023-05-10T00:47:12.814788Z"
    }
   },
   "outputs": [
    {
     "ename": "NameError",
     "evalue": "name 'row' is not defined",
     "output_type": "error",
     "traceback": [
      "\u001b[0;31m---------------------------------------------------------------------------\u001b[0m",
      "\u001b[0;31mNameError\u001b[0m                                 Traceback (most recent call last)",
      "Cell \u001b[0;32mIn [98], line 1\u001b[0m\n\u001b[0;32m----> 1\u001b[0m \u001b[43mrow\u001b[49m\n",
      "\u001b[0;31mNameError\u001b[0m: name 'row' is not defined"
     ]
    }
   ],
   "source": [
    "row"
   ]
  },
  {
   "cell_type": "code",
   "execution_count": 99,
   "id": "79b98377",
   "metadata": {
    "execution": {
     "iopub.execute_input": "2023-05-10T00:47:12.816378Z",
     "iopub.status.busy": "2023-05-10T00:47:12.816295Z",
     "iopub.status.idle": "2023-05-10T00:47:12.823080Z",
     "shell.execute_reply": "2023-05-10T00:47:12.822842Z"
    }
   },
   "outputs": [
    {
     "ename": "NameError",
     "evalue": "name 'uu_id' is not defined",
     "output_type": "error",
     "traceback": [
      "\u001b[0;31m---------------------------------------------------------------------------\u001b[0m",
      "\u001b[0;31mNameError\u001b[0m                                 Traceback (most recent call last)",
      "Cell \u001b[0;32mIn [99], line 1\u001b[0m\n\u001b[0;32m----> 1\u001b[0m row \u001b[38;5;241m=\u001b[39m relevant_unemployment_df\u001b[38;5;241m.\u001b[39mloc[((relevant_unemployment_df\u001b[38;5;241m.\u001b[39muu_id\u001b[38;5;241m==\u001b[39m\u001b[43muu_id\u001b[49m) \n\u001b[1;32m      2\u001b[0m                                       \u001b[38;5;241m&\u001b[39m (relevant_unemployment_df\u001b[38;5;241m.\u001b[39mweek_number \u001b[38;5;241m==\u001b[39m week)),]\n\u001b[1;32m      3\u001b[0m row\n",
      "\u001b[0;31mNameError\u001b[0m: name 'uu_id' is not defined"
     ]
    }
   ],
   "source": [
    "row = relevant_unemployment_df.loc[((relevant_unemployment_df.uu_id==uu_id) \n",
    "                                      & (relevant_unemployment_df.week_number == week)),]\n",
    "row"
   ]
  },
  {
   "cell_type": "code",
   "execution_count": 100,
   "id": "70c2afc2",
   "metadata": {
    "execution": {
     "iopub.execute_input": "2023-05-10T00:47:12.824489Z",
     "iopub.status.busy": "2023-05-10T00:47:12.824406Z",
     "iopub.status.idle": "2023-05-10T00:47:12.829582Z",
     "shell.execute_reply": "2023-05-10T00:47:12.829345Z"
    }
   },
   "outputs": [
    {
     "data": {
      "text/html": [
       "<div>\n",
       "<style scoped>\n",
       "    .dataframe tbody tr th:only-of-type {\n",
       "        vertical-align: middle;\n",
       "    }\n",
       "\n",
       "    .dataframe tbody tr th {\n",
       "        vertical-align: top;\n",
       "    }\n",
       "\n",
       "    .dataframe thead th {\n",
       "        text-align: right;\n",
       "    }\n",
       "</style>\n",
       "<table border=\"1\" class=\"dataframe\">\n",
       "  <thead>\n",
       "    <tr style=\"text-align: right;\">\n",
       "      <th></th>\n",
       "      <th>uu_id</th>\n",
       "      <th>week_number</th>\n",
       "      <th>countyfips</th>\n",
       "      <th>tract</th>\n",
       "      <th>total_claims</th>\n",
       "      <th>top_category_employer1</th>\n",
       "      <th>top_category_employer2</th>\n",
       "      <th>top_category_employer3</th>\n",
       "      <th>wage_data</th>\n",
       "    </tr>\n",
       "  </thead>\n",
       "  <tbody>\n",
       "    <tr>\n",
       "      <th>6632</th>\n",
       "      <td>5e819ecea31bac6db64c0ccf48818fa8</td>\n",
       "      <td>1</td>\n",
       "      <td>18097</td>\n",
       "      <td>310306</td>\n",
       "      <td>23</td>\n",
       "      <td>56</td>\n",
       "      <td>48-49</td>\n",
       "      <td>62</td>\n",
       "      <td>9311.888889</td>\n",
       "    </tr>\n",
       "  </tbody>\n",
       "</table>\n",
       "</div>"
      ],
      "text/plain": [
       "                                 uu_id  week_number countyfips   tract  \\\n",
       "6632  5e819ecea31bac6db64c0ccf48818fa8            1      18097  310306   \n",
       "\n",
       "      total_claims top_category_employer1 top_category_employer2  \\\n",
       "6632            23                     56                  48-49   \n",
       "\n",
       "     top_category_employer3    wage_data  \n",
       "6632                     62  9311.888889  "
      ]
     },
     "execution_count": 100,
     "metadata": {},
     "output_type": "execute_result"
    }
   ],
   "source": [
    "row = relevant_unemployment_df.loc[((relevant_unemployment_df.uu_id==\"5e819ecea31bac6db64c0ccf48818fa8\") \n",
    "                                      & (relevant_unemployment_df.week_number == 1)),]\n",
    "row"
   ]
  },
  {
   "cell_type": "code",
   "execution_count": 101,
   "id": "c8c9499b",
   "metadata": {
    "execution": {
     "iopub.execute_input": "2023-05-10T00:47:12.830980Z",
     "iopub.status.busy": "2023-05-10T00:47:12.830892Z",
     "iopub.status.idle": "2023-05-10T00:47:12.835894Z",
     "shell.execute_reply": "2023-05-10T00:47:12.835597Z"
    }
   },
   "outputs": [
    {
     "data": {
      "text/html": [
       "<div>\n",
       "<style scoped>\n",
       "    .dataframe tbody tr th:only-of-type {\n",
       "        vertical-align: middle;\n",
       "    }\n",
       "\n",
       "    .dataframe tbody tr th {\n",
       "        vertical-align: top;\n",
       "    }\n",
       "\n",
       "    .dataframe thead th {\n",
       "        text-align: right;\n",
       "    }\n",
       "</style>\n",
       "<table border=\"1\" class=\"dataframe\">\n",
       "  <thead>\n",
       "    <tr style=\"text-align: right;\">\n",
       "      <th></th>\n",
       "      <th>uu_id</th>\n",
       "      <th>week_number</th>\n",
       "      <th>countyfips</th>\n",
       "      <th>tract</th>\n",
       "      <th>total_claims</th>\n",
       "      <th>top_category_employer1</th>\n",
       "      <th>top_category_employer2</th>\n",
       "      <th>top_category_employer3</th>\n",
       "      <th>wage_data</th>\n",
       "    </tr>\n",
       "  </thead>\n",
       "  <tbody>\n",
       "    <tr>\n",
       "      <th>6632</th>\n",
       "      <td>5e819ecea31bac6db64c0ccf48818fa8</td>\n",
       "      <td>1</td>\n",
       "      <td>18097</td>\n",
       "      <td>310306</td>\n",
       "      <td>23</td>\n",
       "      <td>56</td>\n",
       "      <td>48-49</td>\n",
       "      <td>62</td>\n",
       "      <td>9311.888889</td>\n",
       "    </tr>\n",
       "  </tbody>\n",
       "</table>\n",
       "</div>"
      ],
      "text/plain": [
       "                                 uu_id  week_number countyfips   tract  \\\n",
       "6632  5e819ecea31bac6db64c0ccf48818fa8            1      18097  310306   \n",
       "\n",
       "      total_claims top_category_employer1 top_category_employer2  \\\n",
       "6632            23                     56                  48-49   \n",
       "\n",
       "     top_category_employer3    wage_data  \n",
       "6632                     62  9311.888889  "
      ]
     },
     "execution_count": 101,
     "metadata": {},
     "output_type": "execute_result"
    }
   ],
   "source": [
    "row = relevant_unemployment_df.loc[((relevant_unemployment_df.uu_id==\"5e819ecea31bac6db64c0ccf48818fa8\") \n",
    "                                      & (relevant_unemployment_df.week_number == 1)),]\n",
    "row"
   ]
  },
  {
   "cell_type": "code",
   "execution_count": 102,
   "id": "8f7030ea",
   "metadata": {
    "execution": {
     "iopub.execute_input": "2023-05-10T00:47:12.837312Z",
     "iopub.status.busy": "2023-05-10T00:47:12.837228Z",
     "iopub.status.idle": "2023-05-10T00:47:12.841390Z",
     "shell.execute_reply": "2023-05-10T00:47:12.841163Z"
    }
   },
   "outputs": [
    {
     "data": {
      "text/html": [
       "<div>\n",
       "<style scoped>\n",
       "    .dataframe tbody tr th:only-of-type {\n",
       "        vertical-align: middle;\n",
       "    }\n",
       "\n",
       "    .dataframe tbody tr th {\n",
       "        vertical-align: top;\n",
       "    }\n",
       "\n",
       "    .dataframe thead th {\n",
       "        text-align: right;\n",
       "    }\n",
       "</style>\n",
       "<table border=\"1\" class=\"dataframe\">\n",
       "  <thead>\n",
       "    <tr style=\"text-align: right;\">\n",
       "      <th></th>\n",
       "      <th>uu_id</th>\n",
       "      <th>week_number</th>\n",
       "      <th>countyfips</th>\n",
       "      <th>tract</th>\n",
       "      <th>total_claims</th>\n",
       "      <th>top_category_employer1</th>\n",
       "      <th>top_category_employer2</th>\n",
       "      <th>top_category_employer3</th>\n",
       "      <th>wage_data</th>\n",
       "    </tr>\n",
       "  </thead>\n",
       "  <tbody>\n",
       "  </tbody>\n",
       "</table>\n",
       "</div>"
      ],
      "text/plain": [
       "Empty DataFrame\n",
       "Columns: [uu_id, week_number, countyfips, tract, total_claims, top_category_employer1, top_category_employer2, top_category_employer3, wage_data]\n",
       "Index: []"
      ]
     },
     "execution_count": 102,
     "metadata": {},
     "output_type": "execute_result"
    }
   ],
   "source": [
    "row = relevant_unemployment_df.loc[((relevant_unemployment_df.uu_id==\"d5e819ecea31bac6db64c0ccf48818fa8\") \n",
    "                                      & (relevant_unemployment_df.week_number == 1)),]\n",
    "row"
   ]
  },
  {
   "cell_type": "code",
   "execution_count": 103,
   "id": "a99af1b7",
   "metadata": {
    "execution": {
     "iopub.execute_input": "2023-05-10T00:47:12.842759Z",
     "iopub.status.busy": "2023-05-10T00:47:12.842670Z",
     "iopub.status.idle": "2023-05-10T00:47:12.845893Z",
     "shell.execute_reply": "2023-05-10T00:47:12.845672Z"
    }
   },
   "outputs": [
    {
     "data": {
      "text/plain": [
       "pandas.core.frame.DataFrame"
      ]
     },
     "execution_count": 103,
     "metadata": {},
     "output_type": "execute_result"
    }
   ],
   "source": [
    "row = relevant_unemployment_df.loc[((relevant_unemployment_df.uu_id==\"d5e819ecea31bac6db64c0ccf48818fa8\") \n",
    "                                      & (relevant_unemployment_df.week_number == 1)),]\n",
    "type(row)"
   ]
  },
  {
   "cell_type": "code",
   "execution_count": 104,
   "id": "204faa5f",
   "metadata": {
    "execution": {
     "iopub.execute_input": "2023-05-10T00:47:12.847249Z",
     "iopub.status.busy": "2023-05-10T00:47:12.847170Z",
     "iopub.status.idle": "2023-05-10T00:47:12.851260Z",
     "shell.execute_reply": "2023-05-10T00:47:12.851025Z"
    }
   },
   "outputs": [
    {
     "data": {
      "text/html": [
       "<div>\n",
       "<style scoped>\n",
       "    .dataframe tbody tr th:only-of-type {\n",
       "        vertical-align: middle;\n",
       "    }\n",
       "\n",
       "    .dataframe tbody tr th {\n",
       "        vertical-align: top;\n",
       "    }\n",
       "\n",
       "    .dataframe thead th {\n",
       "        text-align: right;\n",
       "    }\n",
       "</style>\n",
       "<table border=\"1\" class=\"dataframe\">\n",
       "  <thead>\n",
       "    <tr style=\"text-align: right;\">\n",
       "      <th></th>\n",
       "      <th>uu_id</th>\n",
       "      <th>week_number</th>\n",
       "      <th>countyfips</th>\n",
       "      <th>tract</th>\n",
       "      <th>total_claims</th>\n",
       "      <th>top_category_employer1</th>\n",
       "      <th>top_category_employer2</th>\n",
       "      <th>top_category_employer3</th>\n",
       "      <th>wage_data</th>\n",
       "    </tr>\n",
       "  </thead>\n",
       "  <tbody>\n",
       "  </tbody>\n",
       "</table>\n",
       "</div>"
      ],
      "text/plain": [
       "Empty DataFrame\n",
       "Columns: [uu_id, week_number, countyfips, tract, total_claims, top_category_employer1, top_category_employer2, top_category_employer3, wage_data]\n",
       "Index: []"
      ]
     },
     "execution_count": 104,
     "metadata": {},
     "output_type": "execute_result"
    }
   ],
   "source": [
    "row = relevant_unemployment_df.loc[((relevant_unemployment_df.uu_id==\"d5e819ecea31bac6db64c0ccf48818fa8\") \n",
    "                                      & (relevant_unemployment_df.week_number == 1)),]\n",
    "row"
   ]
  },
  {
   "cell_type": "code",
   "execution_count": 105,
   "id": "b2215704",
   "metadata": {
    "execution": {
     "iopub.execute_input": "2023-05-10T00:47:12.852667Z",
     "iopub.status.busy": "2023-05-10T00:47:12.852587Z",
     "iopub.status.idle": "2023-05-10T00:47:12.860001Z",
     "shell.execute_reply": "2023-05-10T00:47:12.859771Z"
    }
   },
   "outputs": [
    {
     "name": "stderr",
     "output_type": "stream",
     "text": [
      "/var/folders/l2/cnhff0_n1470l4xf0p7v7l_40000gn/T/ipykernel_15233/219075651.py:3: FutureWarning: The frame.append method is deprecated and will be removed from pandas in a future version. Use pandas.concat instead.\n",
      "  row.append([None, None, None, None, None, None, None, None, None])\n"
     ]
    },
    {
     "data": {
      "text/html": [
       "<div>\n",
       "<style scoped>\n",
       "    .dataframe tbody tr th:only-of-type {\n",
       "        vertical-align: middle;\n",
       "    }\n",
       "\n",
       "    .dataframe tbody tr th {\n",
       "        vertical-align: top;\n",
       "    }\n",
       "\n",
       "    .dataframe thead th {\n",
       "        text-align: right;\n",
       "    }\n",
       "</style>\n",
       "<table border=\"1\" class=\"dataframe\">\n",
       "  <thead>\n",
       "    <tr style=\"text-align: right;\">\n",
       "      <th></th>\n",
       "      <th>uu_id</th>\n",
       "      <th>week_number</th>\n",
       "      <th>countyfips</th>\n",
       "      <th>tract</th>\n",
       "      <th>total_claims</th>\n",
       "      <th>top_category_employer1</th>\n",
       "      <th>top_category_employer2</th>\n",
       "      <th>top_category_employer3</th>\n",
       "      <th>wage_data</th>\n",
       "      <th>0</th>\n",
       "    </tr>\n",
       "  </thead>\n",
       "  <tbody>\n",
       "    <tr>\n",
       "      <th>0</th>\n",
       "      <td>&lt;NA&gt;</td>\n",
       "      <td>&lt;NA&gt;</td>\n",
       "      <td>&lt;NA&gt;</td>\n",
       "      <td>&lt;NA&gt;</td>\n",
       "      <td>&lt;NA&gt;</td>\n",
       "      <td>&lt;NA&gt;</td>\n",
       "      <td>&lt;NA&gt;</td>\n",
       "      <td>&lt;NA&gt;</td>\n",
       "      <td>NaN</td>\n",
       "      <td>None</td>\n",
       "    </tr>\n",
       "    <tr>\n",
       "      <th>1</th>\n",
       "      <td>&lt;NA&gt;</td>\n",
       "      <td>&lt;NA&gt;</td>\n",
       "      <td>&lt;NA&gt;</td>\n",
       "      <td>&lt;NA&gt;</td>\n",
       "      <td>&lt;NA&gt;</td>\n",
       "      <td>&lt;NA&gt;</td>\n",
       "      <td>&lt;NA&gt;</td>\n",
       "      <td>&lt;NA&gt;</td>\n",
       "      <td>NaN</td>\n",
       "      <td>None</td>\n",
       "    </tr>\n",
       "    <tr>\n",
       "      <th>2</th>\n",
       "      <td>&lt;NA&gt;</td>\n",
       "      <td>&lt;NA&gt;</td>\n",
       "      <td>&lt;NA&gt;</td>\n",
       "      <td>&lt;NA&gt;</td>\n",
       "      <td>&lt;NA&gt;</td>\n",
       "      <td>&lt;NA&gt;</td>\n",
       "      <td>&lt;NA&gt;</td>\n",
       "      <td>&lt;NA&gt;</td>\n",
       "      <td>NaN</td>\n",
       "      <td>None</td>\n",
       "    </tr>\n",
       "    <tr>\n",
       "      <th>3</th>\n",
       "      <td>&lt;NA&gt;</td>\n",
       "      <td>&lt;NA&gt;</td>\n",
       "      <td>&lt;NA&gt;</td>\n",
       "      <td>&lt;NA&gt;</td>\n",
       "      <td>&lt;NA&gt;</td>\n",
       "      <td>&lt;NA&gt;</td>\n",
       "      <td>&lt;NA&gt;</td>\n",
       "      <td>&lt;NA&gt;</td>\n",
       "      <td>NaN</td>\n",
       "      <td>None</td>\n",
       "    </tr>\n",
       "    <tr>\n",
       "      <th>4</th>\n",
       "      <td>&lt;NA&gt;</td>\n",
       "      <td>&lt;NA&gt;</td>\n",
       "      <td>&lt;NA&gt;</td>\n",
       "      <td>&lt;NA&gt;</td>\n",
       "      <td>&lt;NA&gt;</td>\n",
       "      <td>&lt;NA&gt;</td>\n",
       "      <td>&lt;NA&gt;</td>\n",
       "      <td>&lt;NA&gt;</td>\n",
       "      <td>NaN</td>\n",
       "      <td>None</td>\n",
       "    </tr>\n",
       "    <tr>\n",
       "      <th>5</th>\n",
       "      <td>&lt;NA&gt;</td>\n",
       "      <td>&lt;NA&gt;</td>\n",
       "      <td>&lt;NA&gt;</td>\n",
       "      <td>&lt;NA&gt;</td>\n",
       "      <td>&lt;NA&gt;</td>\n",
       "      <td>&lt;NA&gt;</td>\n",
       "      <td>&lt;NA&gt;</td>\n",
       "      <td>&lt;NA&gt;</td>\n",
       "      <td>NaN</td>\n",
       "      <td>None</td>\n",
       "    </tr>\n",
       "    <tr>\n",
       "      <th>6</th>\n",
       "      <td>&lt;NA&gt;</td>\n",
       "      <td>&lt;NA&gt;</td>\n",
       "      <td>&lt;NA&gt;</td>\n",
       "      <td>&lt;NA&gt;</td>\n",
       "      <td>&lt;NA&gt;</td>\n",
       "      <td>&lt;NA&gt;</td>\n",
       "      <td>&lt;NA&gt;</td>\n",
       "      <td>&lt;NA&gt;</td>\n",
       "      <td>NaN</td>\n",
       "      <td>None</td>\n",
       "    </tr>\n",
       "    <tr>\n",
       "      <th>7</th>\n",
       "      <td>&lt;NA&gt;</td>\n",
       "      <td>&lt;NA&gt;</td>\n",
       "      <td>&lt;NA&gt;</td>\n",
       "      <td>&lt;NA&gt;</td>\n",
       "      <td>&lt;NA&gt;</td>\n",
       "      <td>&lt;NA&gt;</td>\n",
       "      <td>&lt;NA&gt;</td>\n",
       "      <td>&lt;NA&gt;</td>\n",
       "      <td>NaN</td>\n",
       "      <td>None</td>\n",
       "    </tr>\n",
       "    <tr>\n",
       "      <th>8</th>\n",
       "      <td>&lt;NA&gt;</td>\n",
       "      <td>&lt;NA&gt;</td>\n",
       "      <td>&lt;NA&gt;</td>\n",
       "      <td>&lt;NA&gt;</td>\n",
       "      <td>&lt;NA&gt;</td>\n",
       "      <td>&lt;NA&gt;</td>\n",
       "      <td>&lt;NA&gt;</td>\n",
       "      <td>&lt;NA&gt;</td>\n",
       "      <td>NaN</td>\n",
       "      <td>None</td>\n",
       "    </tr>\n",
       "  </tbody>\n",
       "</table>\n",
       "</div>"
      ],
      "text/plain": [
       "  uu_id  week_number countyfips tract  total_claims top_category_employer1  \\\n",
       "0  <NA>         <NA>       <NA>  <NA>          <NA>                   <NA>   \n",
       "1  <NA>         <NA>       <NA>  <NA>          <NA>                   <NA>   \n",
       "2  <NA>         <NA>       <NA>  <NA>          <NA>                   <NA>   \n",
       "3  <NA>         <NA>       <NA>  <NA>          <NA>                   <NA>   \n",
       "4  <NA>         <NA>       <NA>  <NA>          <NA>                   <NA>   \n",
       "5  <NA>         <NA>       <NA>  <NA>          <NA>                   <NA>   \n",
       "6  <NA>         <NA>       <NA>  <NA>          <NA>                   <NA>   \n",
       "7  <NA>         <NA>       <NA>  <NA>          <NA>                   <NA>   \n",
       "8  <NA>         <NA>       <NA>  <NA>          <NA>                   <NA>   \n",
       "\n",
       "  top_category_employer2 top_category_employer3  wage_data     0  \n",
       "0                   <NA>                   <NA>        NaN  None  \n",
       "1                   <NA>                   <NA>        NaN  None  \n",
       "2                   <NA>                   <NA>        NaN  None  \n",
       "3                   <NA>                   <NA>        NaN  None  \n",
       "4                   <NA>                   <NA>        NaN  None  \n",
       "5                   <NA>                   <NA>        NaN  None  \n",
       "6                   <NA>                   <NA>        NaN  None  \n",
       "7                   <NA>                   <NA>        NaN  None  \n",
       "8                   <NA>                   <NA>        NaN  None  "
      ]
     },
     "execution_count": 105,
     "metadata": {},
     "output_type": "execute_result"
    }
   ],
   "source": [
    "row = relevant_unemployment_df.loc[((relevant_unemployment_df.uu_id==\"d5e819ecea31bac6db64c0ccf48818fa8\") \n",
    "                                      & (relevant_unemployment_df.week_number == 1)),]\n",
    "row.append([None, None, None, None, None, None, None, None, None])"
   ]
  },
  {
   "cell_type": "code",
   "execution_count": 106,
   "id": "450ef240",
   "metadata": {
    "execution": {
     "iopub.execute_input": "2023-05-10T00:47:12.861364Z",
     "iopub.status.busy": "2023-05-10T00:47:12.861287Z",
     "iopub.status.idle": "2023-05-10T00:47:12.872145Z",
     "shell.execute_reply": "2023-05-10T00:47:12.871888Z"
    }
   },
   "outputs": [
    {
     "ename": "AttributeError",
     "evalue": "'DataFrame' object has no attribute 'concat'",
     "output_type": "error",
     "traceback": [
      "\u001b[0;31m---------------------------------------------------------------------------\u001b[0m",
      "\u001b[0;31mAttributeError\u001b[0m                            Traceback (most recent call last)",
      "Cell \u001b[0;32mIn [106], line 3\u001b[0m\n\u001b[1;32m      1\u001b[0m row \u001b[38;5;241m=\u001b[39m relevant_unemployment_df\u001b[38;5;241m.\u001b[39mloc[((relevant_unemployment_df\u001b[38;5;241m.\u001b[39muu_id\u001b[38;5;241m==\u001b[39m\u001b[38;5;124m\"\u001b[39m\u001b[38;5;124md5e819ecea31bac6db64c0ccf48818fa8\u001b[39m\u001b[38;5;124m\"\u001b[39m) \n\u001b[1;32m      2\u001b[0m                                       \u001b[38;5;241m&\u001b[39m (relevant_unemployment_df\u001b[38;5;241m.\u001b[39mweek_number \u001b[38;5;241m==\u001b[39m \u001b[38;5;241m1\u001b[39m)),]\n\u001b[0;32m----> 3\u001b[0m \u001b[43mrow\u001b[49m\u001b[38;5;241;43m.\u001b[39;49m\u001b[43mconcat\u001b[49m([\u001b[38;5;28;01mNone\u001b[39;00m, \u001b[38;5;28;01mNone\u001b[39;00m, \u001b[38;5;28;01mNone\u001b[39;00m, \u001b[38;5;28;01mNone\u001b[39;00m, \u001b[38;5;28;01mNone\u001b[39;00m, \u001b[38;5;28;01mNone\u001b[39;00m, \u001b[38;5;28;01mNone\u001b[39;00m, \u001b[38;5;28;01mNone\u001b[39;00m, \u001b[38;5;28;01mNone\u001b[39;00m])\n",
      "File \u001b[0;32m/opt/homebrew/lib/python3.9/site-packages/pandas/core/generic.py:5902\u001b[0m, in \u001b[0;36mNDFrame.__getattr__\u001b[0;34m(self, name)\u001b[0m\n\u001b[1;32m   5895\u001b[0m \u001b[38;5;28;01mif\u001b[39;00m (\n\u001b[1;32m   5896\u001b[0m     name \u001b[38;5;129;01mnot\u001b[39;00m \u001b[38;5;129;01min\u001b[39;00m \u001b[38;5;28mself\u001b[39m\u001b[38;5;241m.\u001b[39m_internal_names_set\n\u001b[1;32m   5897\u001b[0m     \u001b[38;5;129;01mand\u001b[39;00m name \u001b[38;5;129;01mnot\u001b[39;00m \u001b[38;5;129;01min\u001b[39;00m \u001b[38;5;28mself\u001b[39m\u001b[38;5;241m.\u001b[39m_metadata\n\u001b[1;32m   5898\u001b[0m     \u001b[38;5;129;01mand\u001b[39;00m name \u001b[38;5;129;01mnot\u001b[39;00m \u001b[38;5;129;01min\u001b[39;00m \u001b[38;5;28mself\u001b[39m\u001b[38;5;241m.\u001b[39m_accessors\n\u001b[1;32m   5899\u001b[0m     \u001b[38;5;129;01mand\u001b[39;00m \u001b[38;5;28mself\u001b[39m\u001b[38;5;241m.\u001b[39m_info_axis\u001b[38;5;241m.\u001b[39m_can_hold_identifiers_and_holds_name(name)\n\u001b[1;32m   5900\u001b[0m ):\n\u001b[1;32m   5901\u001b[0m     \u001b[38;5;28;01mreturn\u001b[39;00m \u001b[38;5;28mself\u001b[39m[name]\n\u001b[0;32m-> 5902\u001b[0m \u001b[38;5;28;01mreturn\u001b[39;00m \u001b[38;5;28;43mobject\u001b[39;49m\u001b[38;5;241;43m.\u001b[39;49m\u001b[38;5;21;43m__getattribute__\u001b[39;49m\u001b[43m(\u001b[49m\u001b[38;5;28;43mself\u001b[39;49m\u001b[43m,\u001b[49m\u001b[43m \u001b[49m\u001b[43mname\u001b[49m\u001b[43m)\u001b[49m\n",
      "\u001b[0;31mAttributeError\u001b[0m: 'DataFrame' object has no attribute 'concat'"
     ]
    }
   ],
   "source": [
    "row = relevant_unemployment_df.loc[((relevant_unemployment_df.uu_id==\"d5e819ecea31bac6db64c0ccf48818fa8\") \n",
    "                                      & (relevant_unemployment_df.week_number == 1)),]\n",
    "row.concat([None, None, None, None, None, None, None, None, None])"
   ]
  },
  {
   "cell_type": "code",
   "execution_count": 107,
   "id": "0b40ef38",
   "metadata": {
    "execution": {
     "iopub.execute_input": "2023-05-10T00:47:12.873585Z",
     "iopub.status.busy": "2023-05-10T00:47:12.873508Z",
     "iopub.status.idle": "2023-05-10T00:47:12.914946Z",
     "shell.execute_reply": "2023-05-10T00:47:12.914615Z"
    }
   },
   "outputs": [
    {
     "name": "stderr",
     "output_type": "stream",
     "text": [
      "/var/folders/l2/cnhff0_n1470l4xf0p7v7l_40000gn/T/ipykernel_15233/3028239011.py:3: FutureWarning: In a future version of pandas all arguments of concat except for the argument 'objs' will be keyword-only.\n",
      "  pd.concat(row, [None, None, None, None, None, None, None, None, None])\n"
     ]
    },
    {
     "ename": "TypeError",
     "evalue": "first argument must be an iterable of pandas objects, you passed an object of type \"DataFrame\"",
     "output_type": "error",
     "traceback": [
      "\u001b[0;31m---------------------------------------------------------------------------\u001b[0m",
      "\u001b[0;31mTypeError\u001b[0m                                 Traceback (most recent call last)",
      "Cell \u001b[0;32mIn [107], line 3\u001b[0m\n\u001b[1;32m      1\u001b[0m row \u001b[38;5;241m=\u001b[39m relevant_unemployment_df\u001b[38;5;241m.\u001b[39mloc[((relevant_unemployment_df\u001b[38;5;241m.\u001b[39muu_id\u001b[38;5;241m==\u001b[39m\u001b[38;5;124m\"\u001b[39m\u001b[38;5;124md5e819ecea31bac6db64c0ccf48818fa8\u001b[39m\u001b[38;5;124m\"\u001b[39m) \n\u001b[1;32m      2\u001b[0m                                       \u001b[38;5;241m&\u001b[39m (relevant_unemployment_df\u001b[38;5;241m.\u001b[39mweek_number \u001b[38;5;241m==\u001b[39m \u001b[38;5;241m1\u001b[39m)),]\n\u001b[0;32m----> 3\u001b[0m \u001b[43mpd\u001b[49m\u001b[38;5;241;43m.\u001b[39;49m\u001b[43mconcat\u001b[49m\u001b[43m(\u001b[49m\u001b[43mrow\u001b[49m\u001b[43m,\u001b[49m\u001b[43m \u001b[49m\u001b[43m[\u001b[49m\u001b[38;5;28;43;01mNone\u001b[39;49;00m\u001b[43m,\u001b[49m\u001b[43m \u001b[49m\u001b[38;5;28;43;01mNone\u001b[39;49;00m\u001b[43m,\u001b[49m\u001b[43m \u001b[49m\u001b[38;5;28;43;01mNone\u001b[39;49;00m\u001b[43m,\u001b[49m\u001b[43m \u001b[49m\u001b[38;5;28;43;01mNone\u001b[39;49;00m\u001b[43m,\u001b[49m\u001b[43m \u001b[49m\u001b[38;5;28;43;01mNone\u001b[39;49;00m\u001b[43m,\u001b[49m\u001b[43m \u001b[49m\u001b[38;5;28;43;01mNone\u001b[39;49;00m\u001b[43m,\u001b[49m\u001b[43m \u001b[49m\u001b[38;5;28;43;01mNone\u001b[39;49;00m\u001b[43m,\u001b[49m\u001b[43m \u001b[49m\u001b[38;5;28;43;01mNone\u001b[39;49;00m\u001b[43m,\u001b[49m\u001b[43m \u001b[49m\u001b[38;5;28;43;01mNone\u001b[39;49;00m\u001b[43m]\u001b[49m\u001b[43m)\u001b[49m\n",
      "File \u001b[0;32m/opt/homebrew/lib/python3.9/site-packages/pandas/util/_decorators.py:331\u001b[0m, in \u001b[0;36mdeprecate_nonkeyword_arguments.<locals>.decorate.<locals>.wrapper\u001b[0;34m(*args, **kwargs)\u001b[0m\n\u001b[1;32m    325\u001b[0m \u001b[38;5;28;01mif\u001b[39;00m \u001b[38;5;28mlen\u001b[39m(args) \u001b[38;5;241m>\u001b[39m num_allow_args:\n\u001b[1;32m    326\u001b[0m     warnings\u001b[38;5;241m.\u001b[39mwarn(\n\u001b[1;32m    327\u001b[0m         msg\u001b[38;5;241m.\u001b[39mformat(arguments\u001b[38;5;241m=\u001b[39m_format_argument_list(allow_args)),\n\u001b[1;32m    328\u001b[0m         \u001b[38;5;167;01mFutureWarning\u001b[39;00m,\n\u001b[1;32m    329\u001b[0m         stacklevel\u001b[38;5;241m=\u001b[39mfind_stack_level(),\n\u001b[1;32m    330\u001b[0m     )\n\u001b[0;32m--> 331\u001b[0m \u001b[38;5;28;01mreturn\u001b[39;00m \u001b[43mfunc\u001b[49m\u001b[43m(\u001b[49m\u001b[38;5;241;43m*\u001b[39;49m\u001b[43margs\u001b[49m\u001b[43m,\u001b[49m\u001b[43m \u001b[49m\u001b[38;5;241;43m*\u001b[39;49m\u001b[38;5;241;43m*\u001b[39;49m\u001b[43mkwargs\u001b[49m\u001b[43m)\u001b[49m\n",
      "File \u001b[0;32m/opt/homebrew/lib/python3.9/site-packages/pandas/core/reshape/concat.py:368\u001b[0m, in \u001b[0;36mconcat\u001b[0;34m(objs, axis, join, ignore_index, keys, levels, names, verify_integrity, sort, copy)\u001b[0m\n\u001b[1;32m    146\u001b[0m \u001b[38;5;129m@deprecate_nonkeyword_arguments\u001b[39m(version\u001b[38;5;241m=\u001b[39m\u001b[38;5;28;01mNone\u001b[39;00m, allowed_args\u001b[38;5;241m=\u001b[39m[\u001b[38;5;124m\"\u001b[39m\u001b[38;5;124mobjs\u001b[39m\u001b[38;5;124m\"\u001b[39m])\n\u001b[1;32m    147\u001b[0m \u001b[38;5;28;01mdef\u001b[39;00m \u001b[38;5;21mconcat\u001b[39m(\n\u001b[1;32m    148\u001b[0m     objs: Iterable[NDFrame] \u001b[38;5;241m|\u001b[39m Mapping[HashableT, NDFrame],\n\u001b[0;32m   (...)\u001b[0m\n\u001b[1;32m    157\u001b[0m     copy: \u001b[38;5;28mbool\u001b[39m \u001b[38;5;241m=\u001b[39m \u001b[38;5;28;01mTrue\u001b[39;00m,\n\u001b[1;32m    158\u001b[0m ) \u001b[38;5;241m-\u001b[39m\u001b[38;5;241m>\u001b[39m DataFrame \u001b[38;5;241m|\u001b[39m Series:\n\u001b[1;32m    159\u001b[0m     \u001b[38;5;124;03m\"\"\"\u001b[39;00m\n\u001b[1;32m    160\u001b[0m \u001b[38;5;124;03m    Concatenate pandas objects along a particular axis.\u001b[39;00m\n\u001b[1;32m    161\u001b[0m \n\u001b[0;32m   (...)\u001b[0m\n\u001b[1;32m    366\u001b[0m \u001b[38;5;124;03m    1   3   4\u001b[39;00m\n\u001b[1;32m    367\u001b[0m \u001b[38;5;124;03m    \"\"\"\u001b[39;00m\n\u001b[0;32m--> 368\u001b[0m     op \u001b[38;5;241m=\u001b[39m \u001b[43m_Concatenator\u001b[49m\u001b[43m(\u001b[49m\n\u001b[1;32m    369\u001b[0m \u001b[43m        \u001b[49m\u001b[43mobjs\u001b[49m\u001b[43m,\u001b[49m\n\u001b[1;32m    370\u001b[0m \u001b[43m        \u001b[49m\u001b[43maxis\u001b[49m\u001b[38;5;241;43m=\u001b[39;49m\u001b[43maxis\u001b[49m\u001b[43m,\u001b[49m\n\u001b[1;32m    371\u001b[0m \u001b[43m        \u001b[49m\u001b[43mignore_index\u001b[49m\u001b[38;5;241;43m=\u001b[39;49m\u001b[43mignore_index\u001b[49m\u001b[43m,\u001b[49m\n\u001b[1;32m    372\u001b[0m \u001b[43m        \u001b[49m\u001b[43mjoin\u001b[49m\u001b[38;5;241;43m=\u001b[39;49m\u001b[43mjoin\u001b[49m\u001b[43m,\u001b[49m\n\u001b[1;32m    373\u001b[0m \u001b[43m        \u001b[49m\u001b[43mkeys\u001b[49m\u001b[38;5;241;43m=\u001b[39;49m\u001b[43mkeys\u001b[49m\u001b[43m,\u001b[49m\n\u001b[1;32m    374\u001b[0m \u001b[43m        \u001b[49m\u001b[43mlevels\u001b[49m\u001b[38;5;241;43m=\u001b[39;49m\u001b[43mlevels\u001b[49m\u001b[43m,\u001b[49m\n\u001b[1;32m    375\u001b[0m \u001b[43m        \u001b[49m\u001b[43mnames\u001b[49m\u001b[38;5;241;43m=\u001b[39;49m\u001b[43mnames\u001b[49m\u001b[43m,\u001b[49m\n\u001b[1;32m    376\u001b[0m \u001b[43m        \u001b[49m\u001b[43mverify_integrity\u001b[49m\u001b[38;5;241;43m=\u001b[39;49m\u001b[43mverify_integrity\u001b[49m\u001b[43m,\u001b[49m\n\u001b[1;32m    377\u001b[0m \u001b[43m        \u001b[49m\u001b[43mcopy\u001b[49m\u001b[38;5;241;43m=\u001b[39;49m\u001b[43mcopy\u001b[49m\u001b[43m,\u001b[49m\n\u001b[1;32m    378\u001b[0m \u001b[43m        \u001b[49m\u001b[43msort\u001b[49m\u001b[38;5;241;43m=\u001b[39;49m\u001b[43msort\u001b[49m\u001b[43m,\u001b[49m\n\u001b[1;32m    379\u001b[0m \u001b[43m    \u001b[49m\u001b[43m)\u001b[49m\n\u001b[1;32m    381\u001b[0m     \u001b[38;5;28;01mreturn\u001b[39;00m op\u001b[38;5;241m.\u001b[39mget_result()\n",
      "File \u001b[0;32m/opt/homebrew/lib/python3.9/site-packages/pandas/core/reshape/concat.py:403\u001b[0m, in \u001b[0;36m_Concatenator.__init__\u001b[0;34m(self, objs, axis, join, keys, levels, names, ignore_index, verify_integrity, copy, sort)\u001b[0m\n\u001b[1;32m    389\u001b[0m \u001b[38;5;28;01mdef\u001b[39;00m \u001b[38;5;21m__init__\u001b[39m(\n\u001b[1;32m    390\u001b[0m     \u001b[38;5;28mself\u001b[39m,\n\u001b[1;32m    391\u001b[0m     objs: Iterable[NDFrame] \u001b[38;5;241m|\u001b[39m Mapping[HashableT, NDFrame],\n\u001b[0;32m   (...)\u001b[0m\n\u001b[1;32m    400\u001b[0m     sort\u001b[38;5;241m=\u001b[39m\u001b[38;5;28;01mFalse\u001b[39;00m,\n\u001b[1;32m    401\u001b[0m ) \u001b[38;5;241m-\u001b[39m\u001b[38;5;241m>\u001b[39m \u001b[38;5;28;01mNone\u001b[39;00m:\n\u001b[1;32m    402\u001b[0m     \u001b[38;5;28;01mif\u001b[39;00m \u001b[38;5;28misinstance\u001b[39m(objs, (ABCSeries, ABCDataFrame, \u001b[38;5;28mstr\u001b[39m)):\n\u001b[0;32m--> 403\u001b[0m         \u001b[38;5;28;01mraise\u001b[39;00m \u001b[38;5;167;01mTypeError\u001b[39;00m(\n\u001b[1;32m    404\u001b[0m             \u001b[38;5;124m\"\u001b[39m\u001b[38;5;124mfirst argument must be an iterable of pandas \u001b[39m\u001b[38;5;124m\"\u001b[39m\n\u001b[1;32m    405\u001b[0m             \u001b[38;5;124mf\u001b[39m\u001b[38;5;124m'\u001b[39m\u001b[38;5;124mobjects, you passed an object of type \u001b[39m\u001b[38;5;124m\"\u001b[39m\u001b[38;5;132;01m{\u001b[39;00m\u001b[38;5;28mtype\u001b[39m(objs)\u001b[38;5;241m.\u001b[39m\u001b[38;5;18m__name__\u001b[39m\u001b[38;5;132;01m}\u001b[39;00m\u001b[38;5;124m\"\u001b[39m\u001b[38;5;124m'\u001b[39m\n\u001b[1;32m    406\u001b[0m         )\n\u001b[1;32m    408\u001b[0m     \u001b[38;5;28;01mif\u001b[39;00m join \u001b[38;5;241m==\u001b[39m \u001b[38;5;124m\"\u001b[39m\u001b[38;5;124mouter\u001b[39m\u001b[38;5;124m\"\u001b[39m:\n\u001b[1;32m    409\u001b[0m         \u001b[38;5;28mself\u001b[39m\u001b[38;5;241m.\u001b[39mintersect \u001b[38;5;241m=\u001b[39m \u001b[38;5;28;01mFalse\u001b[39;00m\n",
      "\u001b[0;31mTypeError\u001b[0m: first argument must be an iterable of pandas objects, you passed an object of type \"DataFrame\""
     ]
    }
   ],
   "source": [
    "row = relevant_unemployment_df.loc[((relevant_unemployment_df.uu_id==\"d5e819ecea31bac6db64c0ccf48818fa8\") \n",
    "                                      & (relevant_unemployment_df.week_number == 1)),]\n",
    "pd.concat(row, [None, None, None, None, None, None, None, None, None])"
   ]
  },
  {
   "cell_type": "code",
   "execution_count": 108,
   "id": "1ebcd640",
   "metadata": {
    "execution": {
     "iopub.execute_input": "2023-05-10T00:47:12.916507Z",
     "iopub.status.busy": "2023-05-10T00:47:12.916404Z",
     "iopub.status.idle": "2023-05-10T00:47:12.940263Z",
     "shell.execute_reply": "2023-05-10T00:47:12.939986Z"
    }
   },
   "outputs": [
    {
     "name": "stderr",
     "output_type": "stream",
     "text": [
      "/var/folders/l2/cnhff0_n1470l4xf0p7v7l_40000gn/T/ipykernel_15233/1634349501.py:3: FutureWarning: In a future version of pandas all arguments of concat except for the argument 'objs' will be keyword-only.\n",
      "  pd.concat(row, pd.Series([None, None, None, None, None, None, None, None, None]))\n"
     ]
    },
    {
     "ename": "TypeError",
     "evalue": "first argument must be an iterable of pandas objects, you passed an object of type \"DataFrame\"",
     "output_type": "error",
     "traceback": [
      "\u001b[0;31m---------------------------------------------------------------------------\u001b[0m",
      "\u001b[0;31mTypeError\u001b[0m                                 Traceback (most recent call last)",
      "Cell \u001b[0;32mIn [108], line 3\u001b[0m\n\u001b[1;32m      1\u001b[0m row \u001b[38;5;241m=\u001b[39m relevant_unemployment_df\u001b[38;5;241m.\u001b[39mloc[((relevant_unemployment_df\u001b[38;5;241m.\u001b[39muu_id\u001b[38;5;241m==\u001b[39m\u001b[38;5;124m\"\u001b[39m\u001b[38;5;124md5e819ecea31bac6db64c0ccf48818fa8\u001b[39m\u001b[38;5;124m\"\u001b[39m) \n\u001b[1;32m      2\u001b[0m                                       \u001b[38;5;241m&\u001b[39m (relevant_unemployment_df\u001b[38;5;241m.\u001b[39mweek_number \u001b[38;5;241m==\u001b[39m \u001b[38;5;241m1\u001b[39m)),]\n\u001b[0;32m----> 3\u001b[0m \u001b[43mpd\u001b[49m\u001b[38;5;241;43m.\u001b[39;49m\u001b[43mconcat\u001b[49m\u001b[43m(\u001b[49m\u001b[43mrow\u001b[49m\u001b[43m,\u001b[49m\u001b[43m \u001b[49m\u001b[43mpd\u001b[49m\u001b[38;5;241;43m.\u001b[39;49m\u001b[43mSeries\u001b[49m\u001b[43m(\u001b[49m\u001b[43m[\u001b[49m\u001b[38;5;28;43;01mNone\u001b[39;49;00m\u001b[43m,\u001b[49m\u001b[43m \u001b[49m\u001b[38;5;28;43;01mNone\u001b[39;49;00m\u001b[43m,\u001b[49m\u001b[43m \u001b[49m\u001b[38;5;28;43;01mNone\u001b[39;49;00m\u001b[43m,\u001b[49m\u001b[43m \u001b[49m\u001b[38;5;28;43;01mNone\u001b[39;49;00m\u001b[43m,\u001b[49m\u001b[43m \u001b[49m\u001b[38;5;28;43;01mNone\u001b[39;49;00m\u001b[43m,\u001b[49m\u001b[43m \u001b[49m\u001b[38;5;28;43;01mNone\u001b[39;49;00m\u001b[43m,\u001b[49m\u001b[43m \u001b[49m\u001b[38;5;28;43;01mNone\u001b[39;49;00m\u001b[43m,\u001b[49m\u001b[43m \u001b[49m\u001b[38;5;28;43;01mNone\u001b[39;49;00m\u001b[43m,\u001b[49m\u001b[43m \u001b[49m\u001b[38;5;28;43;01mNone\u001b[39;49;00m\u001b[43m]\u001b[49m\u001b[43m)\u001b[49m\u001b[43m)\u001b[49m\n",
      "File \u001b[0;32m/opt/homebrew/lib/python3.9/site-packages/pandas/util/_decorators.py:331\u001b[0m, in \u001b[0;36mdeprecate_nonkeyword_arguments.<locals>.decorate.<locals>.wrapper\u001b[0;34m(*args, **kwargs)\u001b[0m\n\u001b[1;32m    325\u001b[0m \u001b[38;5;28;01mif\u001b[39;00m \u001b[38;5;28mlen\u001b[39m(args) \u001b[38;5;241m>\u001b[39m num_allow_args:\n\u001b[1;32m    326\u001b[0m     warnings\u001b[38;5;241m.\u001b[39mwarn(\n\u001b[1;32m    327\u001b[0m         msg\u001b[38;5;241m.\u001b[39mformat(arguments\u001b[38;5;241m=\u001b[39m_format_argument_list(allow_args)),\n\u001b[1;32m    328\u001b[0m         \u001b[38;5;167;01mFutureWarning\u001b[39;00m,\n\u001b[1;32m    329\u001b[0m         stacklevel\u001b[38;5;241m=\u001b[39mfind_stack_level(),\n\u001b[1;32m    330\u001b[0m     )\n\u001b[0;32m--> 331\u001b[0m \u001b[38;5;28;01mreturn\u001b[39;00m \u001b[43mfunc\u001b[49m\u001b[43m(\u001b[49m\u001b[38;5;241;43m*\u001b[39;49m\u001b[43margs\u001b[49m\u001b[43m,\u001b[49m\u001b[43m \u001b[49m\u001b[38;5;241;43m*\u001b[39;49m\u001b[38;5;241;43m*\u001b[39;49m\u001b[43mkwargs\u001b[49m\u001b[43m)\u001b[49m\n",
      "File \u001b[0;32m/opt/homebrew/lib/python3.9/site-packages/pandas/core/reshape/concat.py:368\u001b[0m, in \u001b[0;36mconcat\u001b[0;34m(objs, axis, join, ignore_index, keys, levels, names, verify_integrity, sort, copy)\u001b[0m\n\u001b[1;32m    146\u001b[0m \u001b[38;5;129m@deprecate_nonkeyword_arguments\u001b[39m(version\u001b[38;5;241m=\u001b[39m\u001b[38;5;28;01mNone\u001b[39;00m, allowed_args\u001b[38;5;241m=\u001b[39m[\u001b[38;5;124m\"\u001b[39m\u001b[38;5;124mobjs\u001b[39m\u001b[38;5;124m\"\u001b[39m])\n\u001b[1;32m    147\u001b[0m \u001b[38;5;28;01mdef\u001b[39;00m \u001b[38;5;21mconcat\u001b[39m(\n\u001b[1;32m    148\u001b[0m     objs: Iterable[NDFrame] \u001b[38;5;241m|\u001b[39m Mapping[HashableT, NDFrame],\n\u001b[0;32m   (...)\u001b[0m\n\u001b[1;32m    157\u001b[0m     copy: \u001b[38;5;28mbool\u001b[39m \u001b[38;5;241m=\u001b[39m \u001b[38;5;28;01mTrue\u001b[39;00m,\n\u001b[1;32m    158\u001b[0m ) \u001b[38;5;241m-\u001b[39m\u001b[38;5;241m>\u001b[39m DataFrame \u001b[38;5;241m|\u001b[39m Series:\n\u001b[1;32m    159\u001b[0m     \u001b[38;5;124;03m\"\"\"\u001b[39;00m\n\u001b[1;32m    160\u001b[0m \u001b[38;5;124;03m    Concatenate pandas objects along a particular axis.\u001b[39;00m\n\u001b[1;32m    161\u001b[0m \n\u001b[0;32m   (...)\u001b[0m\n\u001b[1;32m    366\u001b[0m \u001b[38;5;124;03m    1   3   4\u001b[39;00m\n\u001b[1;32m    367\u001b[0m \u001b[38;5;124;03m    \"\"\"\u001b[39;00m\n\u001b[0;32m--> 368\u001b[0m     op \u001b[38;5;241m=\u001b[39m \u001b[43m_Concatenator\u001b[49m\u001b[43m(\u001b[49m\n\u001b[1;32m    369\u001b[0m \u001b[43m        \u001b[49m\u001b[43mobjs\u001b[49m\u001b[43m,\u001b[49m\n\u001b[1;32m    370\u001b[0m \u001b[43m        \u001b[49m\u001b[43maxis\u001b[49m\u001b[38;5;241;43m=\u001b[39;49m\u001b[43maxis\u001b[49m\u001b[43m,\u001b[49m\n\u001b[1;32m    371\u001b[0m \u001b[43m        \u001b[49m\u001b[43mignore_index\u001b[49m\u001b[38;5;241;43m=\u001b[39;49m\u001b[43mignore_index\u001b[49m\u001b[43m,\u001b[49m\n\u001b[1;32m    372\u001b[0m \u001b[43m        \u001b[49m\u001b[43mjoin\u001b[49m\u001b[38;5;241;43m=\u001b[39;49m\u001b[43mjoin\u001b[49m\u001b[43m,\u001b[49m\n\u001b[1;32m    373\u001b[0m \u001b[43m        \u001b[49m\u001b[43mkeys\u001b[49m\u001b[38;5;241;43m=\u001b[39;49m\u001b[43mkeys\u001b[49m\u001b[43m,\u001b[49m\n\u001b[1;32m    374\u001b[0m \u001b[43m        \u001b[49m\u001b[43mlevels\u001b[49m\u001b[38;5;241;43m=\u001b[39;49m\u001b[43mlevels\u001b[49m\u001b[43m,\u001b[49m\n\u001b[1;32m    375\u001b[0m \u001b[43m        \u001b[49m\u001b[43mnames\u001b[49m\u001b[38;5;241;43m=\u001b[39;49m\u001b[43mnames\u001b[49m\u001b[43m,\u001b[49m\n\u001b[1;32m    376\u001b[0m \u001b[43m        \u001b[49m\u001b[43mverify_integrity\u001b[49m\u001b[38;5;241;43m=\u001b[39;49m\u001b[43mverify_integrity\u001b[49m\u001b[43m,\u001b[49m\n\u001b[1;32m    377\u001b[0m \u001b[43m        \u001b[49m\u001b[43mcopy\u001b[49m\u001b[38;5;241;43m=\u001b[39;49m\u001b[43mcopy\u001b[49m\u001b[43m,\u001b[49m\n\u001b[1;32m    378\u001b[0m \u001b[43m        \u001b[49m\u001b[43msort\u001b[49m\u001b[38;5;241;43m=\u001b[39;49m\u001b[43msort\u001b[49m\u001b[43m,\u001b[49m\n\u001b[1;32m    379\u001b[0m \u001b[43m    \u001b[49m\u001b[43m)\u001b[49m\n\u001b[1;32m    381\u001b[0m     \u001b[38;5;28;01mreturn\u001b[39;00m op\u001b[38;5;241m.\u001b[39mget_result()\n",
      "File \u001b[0;32m/opt/homebrew/lib/python3.9/site-packages/pandas/core/reshape/concat.py:403\u001b[0m, in \u001b[0;36m_Concatenator.__init__\u001b[0;34m(self, objs, axis, join, keys, levels, names, ignore_index, verify_integrity, copy, sort)\u001b[0m\n\u001b[1;32m    389\u001b[0m \u001b[38;5;28;01mdef\u001b[39;00m \u001b[38;5;21m__init__\u001b[39m(\n\u001b[1;32m    390\u001b[0m     \u001b[38;5;28mself\u001b[39m,\n\u001b[1;32m    391\u001b[0m     objs: Iterable[NDFrame] \u001b[38;5;241m|\u001b[39m Mapping[HashableT, NDFrame],\n\u001b[0;32m   (...)\u001b[0m\n\u001b[1;32m    400\u001b[0m     sort\u001b[38;5;241m=\u001b[39m\u001b[38;5;28;01mFalse\u001b[39;00m,\n\u001b[1;32m    401\u001b[0m ) \u001b[38;5;241m-\u001b[39m\u001b[38;5;241m>\u001b[39m \u001b[38;5;28;01mNone\u001b[39;00m:\n\u001b[1;32m    402\u001b[0m     \u001b[38;5;28;01mif\u001b[39;00m \u001b[38;5;28misinstance\u001b[39m(objs, (ABCSeries, ABCDataFrame, \u001b[38;5;28mstr\u001b[39m)):\n\u001b[0;32m--> 403\u001b[0m         \u001b[38;5;28;01mraise\u001b[39;00m \u001b[38;5;167;01mTypeError\u001b[39;00m(\n\u001b[1;32m    404\u001b[0m             \u001b[38;5;124m\"\u001b[39m\u001b[38;5;124mfirst argument must be an iterable of pandas \u001b[39m\u001b[38;5;124m\"\u001b[39m\n\u001b[1;32m    405\u001b[0m             \u001b[38;5;124mf\u001b[39m\u001b[38;5;124m'\u001b[39m\u001b[38;5;124mobjects, you passed an object of type \u001b[39m\u001b[38;5;124m\"\u001b[39m\u001b[38;5;132;01m{\u001b[39;00m\u001b[38;5;28mtype\u001b[39m(objs)\u001b[38;5;241m.\u001b[39m\u001b[38;5;18m__name__\u001b[39m\u001b[38;5;132;01m}\u001b[39;00m\u001b[38;5;124m\"\u001b[39m\u001b[38;5;124m'\u001b[39m\n\u001b[1;32m    406\u001b[0m         )\n\u001b[1;32m    408\u001b[0m     \u001b[38;5;28;01mif\u001b[39;00m join \u001b[38;5;241m==\u001b[39m \u001b[38;5;124m\"\u001b[39m\u001b[38;5;124mouter\u001b[39m\u001b[38;5;124m\"\u001b[39m:\n\u001b[1;32m    409\u001b[0m         \u001b[38;5;28mself\u001b[39m\u001b[38;5;241m.\u001b[39mintersect \u001b[38;5;241m=\u001b[39m \u001b[38;5;28;01mFalse\u001b[39;00m\n",
      "\u001b[0;31mTypeError\u001b[0m: first argument must be an iterable of pandas objects, you passed an object of type \"DataFrame\""
     ]
    }
   ],
   "source": [
    "row = relevant_unemployment_df.loc[((relevant_unemployment_df.uu_id==\"d5e819ecea31bac6db64c0ccf48818fa8\") \n",
    "                                      & (relevant_unemployment_df.week_number == 1)),]\n",
    "pd.concat(row, pd.Series([None, None, None, None, None, None, None, None, None]))"
   ]
  },
  {
   "cell_type": "code",
   "execution_count": 109,
   "id": "3f033fc3",
   "metadata": {
    "execution": {
     "iopub.execute_input": "2023-05-10T00:47:12.941767Z",
     "iopub.status.busy": "2023-05-10T00:47:12.941657Z",
     "iopub.status.idle": "2023-05-10T00:47:12.990823Z",
     "shell.execute_reply": "2023-05-10T00:47:12.990560Z"
    }
   },
   "outputs": [
    {
     "ename": "ValueError",
     "evalue": "The truth value of a DataFrame is ambiguous. Use a.empty, a.bool(), a.item(), a.any() or a.all().",
     "output_type": "error",
     "traceback": [
      "\u001b[0;31m---------------------------------------------------------------------------\u001b[0m",
      "\u001b[0;31mValueError\u001b[0m                                Traceback (most recent call last)",
      "Cell \u001b[0;32mIn [109], line 3\u001b[0m\n\u001b[1;32m      1\u001b[0m row \u001b[38;5;241m=\u001b[39m relevant_unemployment_df\u001b[38;5;241m.\u001b[39mloc[((relevant_unemployment_df\u001b[38;5;241m.\u001b[39muu_id\u001b[38;5;241m==\u001b[39m\u001b[38;5;124m\"\u001b[39m\u001b[38;5;124md5e819ecea31bac6db64c0ccf48818fa8\u001b[39m\u001b[38;5;124m\"\u001b[39m) \n\u001b[1;32m      2\u001b[0m                                       \u001b[38;5;241m&\u001b[39m (relevant_unemployment_df\u001b[38;5;241m.\u001b[39mweek_number \u001b[38;5;241m==\u001b[39m \u001b[38;5;241m1\u001b[39m)),]\n\u001b[0;32m----> 3\u001b[0m pd\u001b[38;5;241m.\u001b[39mconcat(\u001b[43mpd\u001b[49m\u001b[38;5;241;43m.\u001b[39;49m\u001b[43mSeries\u001b[49m\u001b[43m(\u001b[49m\u001b[43mrow\u001b[49m\u001b[43m)\u001b[49m, pd\u001b[38;5;241m.\u001b[39mSeries([\u001b[38;5;28;01mNone\u001b[39;00m, \u001b[38;5;28;01mNone\u001b[39;00m, \u001b[38;5;28;01mNone\u001b[39;00m, \u001b[38;5;28;01mNone\u001b[39;00m, \u001b[38;5;28;01mNone\u001b[39;00m, \u001b[38;5;28;01mNone\u001b[39;00m, \u001b[38;5;28;01mNone\u001b[39;00m, \u001b[38;5;28;01mNone\u001b[39;00m, \u001b[38;5;28;01mNone\u001b[39;00m]))\n",
      "File \u001b[0;32m/opt/homebrew/lib/python3.9/site-packages/pandas/core/series.py:386\u001b[0m, in \u001b[0;36mSeries.__init__\u001b[0;34m(self, data, index, dtype, name, copy, fastpath)\u001b[0m\n\u001b[1;32m    382\u001b[0m \u001b[38;5;28;01melse\u001b[39;00m:\n\u001b[1;32m    384\u001b[0m     name \u001b[38;5;241m=\u001b[39m ibase\u001b[38;5;241m.\u001b[39mmaybe_extract_name(name, data, \u001b[38;5;28mtype\u001b[39m(\u001b[38;5;28mself\u001b[39m))\n\u001b[0;32m--> 386\u001b[0m     \u001b[38;5;28;01mif\u001b[39;00m \u001b[43mis_empty_data\u001b[49m\u001b[43m(\u001b[49m\u001b[43mdata\u001b[49m\u001b[43m)\u001b[49m \u001b[38;5;129;01mand\u001b[39;00m dtype \u001b[38;5;129;01mis\u001b[39;00m \u001b[38;5;28;01mNone\u001b[39;00m:\n\u001b[1;32m    387\u001b[0m         \u001b[38;5;66;03m# gh-17261\u001b[39;00m\n\u001b[1;32m    388\u001b[0m         warnings\u001b[38;5;241m.\u001b[39mwarn(\n\u001b[1;32m    389\u001b[0m             \u001b[38;5;124m\"\u001b[39m\u001b[38;5;124mThe default dtype for empty Series will be \u001b[39m\u001b[38;5;124m'\u001b[39m\u001b[38;5;124mobject\u001b[39m\u001b[38;5;124m'\u001b[39m\u001b[38;5;124m instead \u001b[39m\u001b[38;5;124m\"\u001b[39m\n\u001b[1;32m    390\u001b[0m             \u001b[38;5;124m\"\u001b[39m\u001b[38;5;124mof \u001b[39m\u001b[38;5;124m'\u001b[39m\u001b[38;5;124mfloat64\u001b[39m\u001b[38;5;124m'\u001b[39m\u001b[38;5;124m in a future version. Specify a dtype explicitly \u001b[39m\u001b[38;5;124m\"\u001b[39m\n\u001b[0;32m   (...)\u001b[0m\n\u001b[1;32m    393\u001b[0m             stacklevel\u001b[38;5;241m=\u001b[39mfind_stack_level(),\n\u001b[1;32m    394\u001b[0m         )\n\u001b[1;32m    395\u001b[0m         \u001b[38;5;66;03m# uncomment the line below when removing the FutureWarning\u001b[39;00m\n\u001b[1;32m    396\u001b[0m         \u001b[38;5;66;03m# dtype = np.dtype(object)\u001b[39;00m\n",
      "File \u001b[0;32m/opt/homebrew/lib/python3.9/site-packages/pandas/core/construction.py:877\u001b[0m, in \u001b[0;36mis_empty_data\u001b[0;34m(data)\u001b[0m\n\u001b[1;32m    875\u001b[0m is_none \u001b[38;5;241m=\u001b[39m data \u001b[38;5;129;01mis\u001b[39;00m \u001b[38;5;28;01mNone\u001b[39;00m\n\u001b[1;32m    876\u001b[0m is_list_like_without_dtype \u001b[38;5;241m=\u001b[39m is_list_like(data) \u001b[38;5;129;01mand\u001b[39;00m \u001b[38;5;129;01mnot\u001b[39;00m \u001b[38;5;28mhasattr\u001b[39m(data, \u001b[38;5;124m\"\u001b[39m\u001b[38;5;124mdtype\u001b[39m\u001b[38;5;124m\"\u001b[39m)\n\u001b[0;32m--> 877\u001b[0m is_simple_empty \u001b[38;5;241m=\u001b[39m is_list_like_without_dtype \u001b[38;5;129;01mand\u001b[39;00m \u001b[38;5;129;43;01mnot\u001b[39;49;00m\u001b[43m \u001b[49m\u001b[43mdata\u001b[49m\n\u001b[1;32m    878\u001b[0m \u001b[38;5;28;01mreturn\u001b[39;00m is_none \u001b[38;5;129;01mor\u001b[39;00m is_simple_empty\n",
      "File \u001b[0;32m/opt/homebrew/lib/python3.9/site-packages/pandas/core/generic.py:1527\u001b[0m, in \u001b[0;36mNDFrame.__nonzero__\u001b[0;34m(self)\u001b[0m\n\u001b[1;32m   1525\u001b[0m \u001b[38;5;129m@final\u001b[39m\n\u001b[1;32m   1526\u001b[0m \u001b[38;5;28;01mdef\u001b[39;00m \u001b[38;5;21m__nonzero__\u001b[39m(\u001b[38;5;28mself\u001b[39m) \u001b[38;5;241m-\u001b[39m\u001b[38;5;241m>\u001b[39m NoReturn:\n\u001b[0;32m-> 1527\u001b[0m     \u001b[38;5;28;01mraise\u001b[39;00m \u001b[38;5;167;01mValueError\u001b[39;00m(\n\u001b[1;32m   1528\u001b[0m         \u001b[38;5;124mf\u001b[39m\u001b[38;5;124m\"\u001b[39m\u001b[38;5;124mThe truth value of a \u001b[39m\u001b[38;5;132;01m{\u001b[39;00m\u001b[38;5;28mtype\u001b[39m(\u001b[38;5;28mself\u001b[39m)\u001b[38;5;241m.\u001b[39m\u001b[38;5;18m__name__\u001b[39m\u001b[38;5;132;01m}\u001b[39;00m\u001b[38;5;124m is ambiguous. \u001b[39m\u001b[38;5;124m\"\u001b[39m\n\u001b[1;32m   1529\u001b[0m         \u001b[38;5;124m\"\u001b[39m\u001b[38;5;124mUse a.empty, a.bool(), a.item(), a.any() or a.all().\u001b[39m\u001b[38;5;124m\"\u001b[39m\n\u001b[1;32m   1530\u001b[0m     )\n",
      "\u001b[0;31mValueError\u001b[0m: The truth value of a DataFrame is ambiguous. Use a.empty, a.bool(), a.item(), a.any() or a.all()."
     ]
    }
   ],
   "source": [
    "row = relevant_unemployment_df.loc[((relevant_unemployment_df.uu_id==\"d5e819ecea31bac6db64c0ccf48818fa8\") \n",
    "                                      & (relevant_unemployment_df.week_number == 1)),]\n",
    "pd.concat(pd.Series(row), pd.Series([None, None, None, None, None, None, None, None, None]))"
   ]
  },
  {
   "cell_type": "code",
   "execution_count": 110,
   "id": "e20d52e6",
   "metadata": {
    "execution": {
     "iopub.execute_input": "2023-05-10T00:47:12.992180Z",
     "iopub.status.busy": "2023-05-10T00:47:12.992100Z",
     "iopub.status.idle": "2023-05-10T00:47:13.008031Z",
     "shell.execute_reply": "2023-05-10T00:47:13.007779Z"
    }
   },
   "outputs": [
    {
     "ename": "AttributeError",
     "evalue": "module 'pandas' has no attribute 'append'",
     "output_type": "error",
     "traceback": [
      "\u001b[0;31m---------------------------------------------------------------------------\u001b[0m",
      "\u001b[0;31mAttributeError\u001b[0m                            Traceback (most recent call last)",
      "Cell \u001b[0;32mIn [110], line 3\u001b[0m\n\u001b[1;32m      1\u001b[0m row \u001b[38;5;241m=\u001b[39m relevant_unemployment_df\u001b[38;5;241m.\u001b[39mloc[((relevant_unemployment_df\u001b[38;5;241m.\u001b[39muu_id\u001b[38;5;241m==\u001b[39m\u001b[38;5;124m\"\u001b[39m\u001b[38;5;124md5e819ecea31bac6db64c0ccf48818fa8\u001b[39m\u001b[38;5;124m\"\u001b[39m) \n\u001b[1;32m      2\u001b[0m                                       \u001b[38;5;241m&\u001b[39m (relevant_unemployment_df\u001b[38;5;241m.\u001b[39mweek_number \u001b[38;5;241m==\u001b[39m \u001b[38;5;241m1\u001b[39m)),]\n\u001b[0;32m----> 3\u001b[0m \u001b[43mpd\u001b[49m\u001b[38;5;241;43m.\u001b[39;49m\u001b[43mappend\u001b[49m(row, pd\u001b[38;5;241m.\u001b[39mSeries([\u001b[38;5;28;01mNone\u001b[39;00m, \u001b[38;5;28;01mNone\u001b[39;00m, \u001b[38;5;28;01mNone\u001b[39;00m, \u001b[38;5;28;01mNone\u001b[39;00m, \u001b[38;5;28;01mNone\u001b[39;00m, \u001b[38;5;28;01mNone\u001b[39;00m, \u001b[38;5;28;01mNone\u001b[39;00m, \u001b[38;5;28;01mNone\u001b[39;00m, \u001b[38;5;28;01mNone\u001b[39;00m]))\n",
      "File \u001b[0;32m/opt/homebrew/lib/python3.9/site-packages/pandas/__init__.py:264\u001b[0m, in \u001b[0;36m__getattr__\u001b[0;34m(name)\u001b[0m\n\u001b[1;32m    260\u001b[0m     \u001b[38;5;28;01mfrom\u001b[39;00m \u001b[38;5;21;01mpandas\u001b[39;00m\u001b[38;5;21;01m.\u001b[39;00m\u001b[38;5;21;01mcore\u001b[39;00m\u001b[38;5;21;01m.\u001b[39;00m\u001b[38;5;21;01marrays\u001b[39;00m\u001b[38;5;21;01m.\u001b[39;00m\u001b[38;5;21;01msparse\u001b[39;00m \u001b[38;5;28;01mimport\u001b[39;00m SparseArray \u001b[38;5;28;01mas\u001b[39;00m _SparseArray\n\u001b[1;32m    262\u001b[0m     \u001b[38;5;28;01mreturn\u001b[39;00m _SparseArray\n\u001b[0;32m--> 264\u001b[0m \u001b[38;5;28;01mraise\u001b[39;00m \u001b[38;5;167;01mAttributeError\u001b[39;00m(\u001b[38;5;124mf\u001b[39m\u001b[38;5;124m\"\u001b[39m\u001b[38;5;124mmodule \u001b[39m\u001b[38;5;124m'\u001b[39m\u001b[38;5;124mpandas\u001b[39m\u001b[38;5;124m'\u001b[39m\u001b[38;5;124m has no attribute \u001b[39m\u001b[38;5;124m'\u001b[39m\u001b[38;5;132;01m{\u001b[39;00mname\u001b[38;5;132;01m}\u001b[39;00m\u001b[38;5;124m'\u001b[39m\u001b[38;5;124m\"\u001b[39m)\n",
      "\u001b[0;31mAttributeError\u001b[0m: module 'pandas' has no attribute 'append'"
     ]
    }
   ],
   "source": [
    "row = relevant_unemployment_df.loc[((relevant_unemployment_df.uu_id==\"d5e819ecea31bac6db64c0ccf48818fa8\") \n",
    "                                      & (relevant_unemployment_df.week_number == 1)),]\n",
    "pd.append(row, pd.Series([None, None, None, None, None, None, None, None, None]))"
   ]
  },
  {
   "cell_type": "code",
   "execution_count": 111,
   "id": "d7416cef",
   "metadata": {
    "execution": {
     "iopub.execute_input": "2023-05-10T00:47:13.009404Z",
     "iopub.status.busy": "2023-05-10T00:47:13.009324Z",
     "iopub.status.idle": "2023-05-10T00:47:13.047678Z",
     "shell.execute_reply": "2023-05-10T00:47:13.047414Z"
    }
   },
   "outputs": [
    {
     "name": "stderr",
     "output_type": "stream",
     "text": [
      "/var/folders/l2/cnhff0_n1470l4xf0p7v7l_40000gn/T/ipykernel_15233/415037627.py:3: FutureWarning: The frame.append method is deprecated and will be removed from pandas in a future version. Use pandas.concat instead.\n",
      "  row.append(pd.Series([None, None, None, None, None, None, None, None, None]))\n"
     ]
    },
    {
     "ename": "TypeError",
     "evalue": "Can only append a Series if ignore_index=True or if the Series has a name",
     "output_type": "error",
     "traceback": [
      "\u001b[0;31m---------------------------------------------------------------------------\u001b[0m",
      "\u001b[0;31mTypeError\u001b[0m                                 Traceback (most recent call last)",
      "Cell \u001b[0;32mIn [111], line 3\u001b[0m\n\u001b[1;32m      1\u001b[0m row \u001b[38;5;241m=\u001b[39m relevant_unemployment_df\u001b[38;5;241m.\u001b[39mloc[((relevant_unemployment_df\u001b[38;5;241m.\u001b[39muu_id\u001b[38;5;241m==\u001b[39m\u001b[38;5;124m\"\u001b[39m\u001b[38;5;124md5e819ecea31bac6db64c0ccf48818fa8\u001b[39m\u001b[38;5;124m\"\u001b[39m) \n\u001b[1;32m      2\u001b[0m                                       \u001b[38;5;241m&\u001b[39m (relevant_unemployment_df\u001b[38;5;241m.\u001b[39mweek_number \u001b[38;5;241m==\u001b[39m \u001b[38;5;241m1\u001b[39m)),]\n\u001b[0;32m----> 3\u001b[0m \u001b[43mrow\u001b[49m\u001b[38;5;241;43m.\u001b[39;49m\u001b[43mappend\u001b[49m\u001b[43m(\u001b[49m\u001b[43mpd\u001b[49m\u001b[38;5;241;43m.\u001b[39;49m\u001b[43mSeries\u001b[49m\u001b[43m(\u001b[49m\u001b[43m[\u001b[49m\u001b[38;5;28;43;01mNone\u001b[39;49;00m\u001b[43m,\u001b[49m\u001b[43m \u001b[49m\u001b[38;5;28;43;01mNone\u001b[39;49;00m\u001b[43m,\u001b[49m\u001b[43m \u001b[49m\u001b[38;5;28;43;01mNone\u001b[39;49;00m\u001b[43m,\u001b[49m\u001b[43m \u001b[49m\u001b[38;5;28;43;01mNone\u001b[39;49;00m\u001b[43m,\u001b[49m\u001b[43m \u001b[49m\u001b[38;5;28;43;01mNone\u001b[39;49;00m\u001b[43m,\u001b[49m\u001b[43m \u001b[49m\u001b[38;5;28;43;01mNone\u001b[39;49;00m\u001b[43m,\u001b[49m\u001b[43m \u001b[49m\u001b[38;5;28;43;01mNone\u001b[39;49;00m\u001b[43m,\u001b[49m\u001b[43m \u001b[49m\u001b[38;5;28;43;01mNone\u001b[39;49;00m\u001b[43m,\u001b[49m\u001b[43m \u001b[49m\u001b[38;5;28;43;01mNone\u001b[39;49;00m\u001b[43m]\u001b[49m\u001b[43m)\u001b[49m\u001b[43m)\u001b[49m\n",
      "File \u001b[0;32m/opt/homebrew/lib/python3.9/site-packages/pandas/core/frame.py:9755\u001b[0m, in \u001b[0;36mDataFrame.append\u001b[0;34m(self, other, ignore_index, verify_integrity, sort)\u001b[0m\n\u001b[1;32m   9652\u001b[0m \u001b[38;5;124;03m\"\"\"\u001b[39;00m\n\u001b[1;32m   9653\u001b[0m \u001b[38;5;124;03mAppend rows of `other` to the end of caller, returning a new object.\u001b[39;00m\n\u001b[1;32m   9654\u001b[0m \n\u001b[0;32m   (...)\u001b[0m\n\u001b[1;32m   9745\u001b[0m \u001b[38;5;124;03m4  4\u001b[39;00m\n\u001b[1;32m   9746\u001b[0m \u001b[38;5;124;03m\"\"\"\u001b[39;00m\n\u001b[1;32m   9747\u001b[0m warnings\u001b[38;5;241m.\u001b[39mwarn(\n\u001b[1;32m   9748\u001b[0m     \u001b[38;5;124m\"\u001b[39m\u001b[38;5;124mThe frame.append method is deprecated \u001b[39m\u001b[38;5;124m\"\u001b[39m\n\u001b[1;32m   9749\u001b[0m     \u001b[38;5;124m\"\u001b[39m\u001b[38;5;124mand will be removed from pandas in a future version. \u001b[39m\u001b[38;5;124m\"\u001b[39m\n\u001b[0;32m   (...)\u001b[0m\n\u001b[1;32m   9752\u001b[0m     stacklevel\u001b[38;5;241m=\u001b[39mfind_stack_level(),\n\u001b[1;32m   9753\u001b[0m )\n\u001b[0;32m-> 9755\u001b[0m \u001b[38;5;28;01mreturn\u001b[39;00m \u001b[38;5;28;43mself\u001b[39;49m\u001b[38;5;241;43m.\u001b[39;49m\u001b[43m_append\u001b[49m\u001b[43m(\u001b[49m\u001b[43mother\u001b[49m\u001b[43m,\u001b[49m\u001b[43m \u001b[49m\u001b[43mignore_index\u001b[49m\u001b[43m,\u001b[49m\u001b[43m \u001b[49m\u001b[43mverify_integrity\u001b[49m\u001b[43m,\u001b[49m\u001b[43m \u001b[49m\u001b[43msort\u001b[49m\u001b[43m)\u001b[49m\n",
      "File \u001b[0;32m/opt/homebrew/lib/python3.9/site-packages/pandas/core/frame.py:9770\u001b[0m, in \u001b[0;36mDataFrame._append\u001b[0;34m(self, other, ignore_index, verify_integrity, sort)\u001b[0m\n\u001b[1;32m   9768\u001b[0m     other \u001b[38;5;241m=\u001b[39m Series(other)\n\u001b[1;32m   9769\u001b[0m \u001b[38;5;28;01mif\u001b[39;00m other\u001b[38;5;241m.\u001b[39mname \u001b[38;5;129;01mis\u001b[39;00m \u001b[38;5;28;01mNone\u001b[39;00m \u001b[38;5;129;01mand\u001b[39;00m \u001b[38;5;129;01mnot\u001b[39;00m ignore_index:\n\u001b[0;32m-> 9770\u001b[0m     \u001b[38;5;28;01mraise\u001b[39;00m \u001b[38;5;167;01mTypeError\u001b[39;00m(\n\u001b[1;32m   9771\u001b[0m         \u001b[38;5;124m\"\u001b[39m\u001b[38;5;124mCan only append a Series if ignore_index=True \u001b[39m\u001b[38;5;124m\"\u001b[39m\n\u001b[1;32m   9772\u001b[0m         \u001b[38;5;124m\"\u001b[39m\u001b[38;5;124mor if the Series has a name\u001b[39m\u001b[38;5;124m\"\u001b[39m\n\u001b[1;32m   9773\u001b[0m     )\n\u001b[1;32m   9775\u001b[0m index \u001b[38;5;241m=\u001b[39m Index([other\u001b[38;5;241m.\u001b[39mname], name\u001b[38;5;241m=\u001b[39m\u001b[38;5;28mself\u001b[39m\u001b[38;5;241m.\u001b[39mindex\u001b[38;5;241m.\u001b[39mname)\n\u001b[1;32m   9776\u001b[0m row_df \u001b[38;5;241m=\u001b[39m other\u001b[38;5;241m.\u001b[39mto_frame()\u001b[38;5;241m.\u001b[39mT\n",
      "\u001b[0;31mTypeError\u001b[0m: Can only append a Series if ignore_index=True or if the Series has a name"
     ]
    }
   ],
   "source": [
    "row = relevant_unemployment_df.loc[((relevant_unemployment_df.uu_id==\"d5e819ecea31bac6db64c0ccf48818fa8\") \n",
    "                                      & (relevant_unemployment_df.week_number == 1)),]\n",
    "row.append(pd.Series([None, None, None, None, None, None, None, None, None]))"
   ]
  },
  {
   "cell_type": "code",
   "execution_count": 112,
   "id": "b93771e0",
   "metadata": {
    "execution": {
     "iopub.execute_input": "2023-05-10T00:47:13.049202Z",
     "iopub.status.busy": "2023-05-10T00:47:13.049097Z",
     "iopub.status.idle": "2023-05-10T00:47:13.057548Z",
     "shell.execute_reply": "2023-05-10T00:47:13.057310Z"
    }
   },
   "outputs": [
    {
     "ename": "TypeError",
     "evalue": "append() got an unexpected keyword argument 'columns'",
     "output_type": "error",
     "traceback": [
      "\u001b[0;31m---------------------------------------------------------------------------\u001b[0m",
      "\u001b[0;31mTypeError\u001b[0m                                 Traceback (most recent call last)",
      "Cell \u001b[0;32mIn [112], line 3\u001b[0m\n\u001b[1;32m      1\u001b[0m row \u001b[38;5;241m=\u001b[39m relevant_unemployment_df\u001b[38;5;241m.\u001b[39mloc[((relevant_unemployment_df\u001b[38;5;241m.\u001b[39muu_id\u001b[38;5;241m==\u001b[39m\u001b[38;5;124m\"\u001b[39m\u001b[38;5;124md5e819ecea31bac6db64c0ccf48818fa8\u001b[39m\u001b[38;5;124m\"\u001b[39m) \n\u001b[1;32m      2\u001b[0m                                       \u001b[38;5;241m&\u001b[39m (relevant_unemployment_df\u001b[38;5;241m.\u001b[39mweek_number \u001b[38;5;241m==\u001b[39m \u001b[38;5;241m1\u001b[39m)),]\n\u001b[0;32m----> 3\u001b[0m \u001b[43mrow\u001b[49m\u001b[38;5;241;43m.\u001b[39;49m\u001b[43mappend\u001b[49m\u001b[43m(\u001b[49m\u001b[43m[\u001b[49m\u001b[38;5;28;43;01mNone\u001b[39;49;00m\u001b[43m,\u001b[49m\u001b[43m \u001b[49m\u001b[38;5;28;43;01mNone\u001b[39;49;00m\u001b[43m,\u001b[49m\u001b[43m \u001b[49m\u001b[38;5;28;43;01mNone\u001b[39;49;00m\u001b[43m,\u001b[49m\u001b[43m \u001b[49m\u001b[38;5;28;43;01mNone\u001b[39;49;00m\u001b[43m,\u001b[49m\u001b[43m \u001b[49m\u001b[38;5;28;43;01mNone\u001b[39;49;00m\u001b[43m,\u001b[49m\u001b[43m \u001b[49m\u001b[38;5;28;43;01mNone\u001b[39;49;00m\u001b[43m,\u001b[49m\u001b[43m \u001b[49m\u001b[38;5;28;43;01mNone\u001b[39;49;00m\u001b[43m,\u001b[49m\u001b[43m \u001b[49m\u001b[38;5;28;43;01mNone\u001b[39;49;00m\u001b[43m,\u001b[49m\u001b[43m \u001b[49m\u001b[38;5;28;43;01mNone\u001b[39;49;00m\u001b[43m]\u001b[49m\u001b[43m,\u001b[49m\u001b[43m \u001b[49m\u001b[43mcolumns\u001b[49m\u001b[38;5;241;43m=\u001b[39;49m\u001b[43mrow\u001b[49m\u001b[38;5;241;43m.\u001b[39;49m\u001b[43mcolumns\u001b[49m\u001b[43m)\u001b[49m\n",
      "\u001b[0;31mTypeError\u001b[0m: append() got an unexpected keyword argument 'columns'"
     ]
    }
   ],
   "source": [
    "row = relevant_unemployment_df.loc[((relevant_unemployment_df.uu_id==\"d5e819ecea31bac6db64c0ccf48818fa8\") \n",
    "                                      & (relevant_unemployment_df.week_number == 1)),]\n",
    "row.append([None, None, None, None, None, None, None, None, None], columns=row.columns)"
   ]
  },
  {
   "cell_type": "code",
   "execution_count": 113,
   "id": "afa41b9f",
   "metadata": {
    "execution": {
     "iopub.execute_input": "2023-05-10T00:47:13.058952Z",
     "iopub.status.busy": "2023-05-10T00:47:13.058870Z",
     "iopub.status.idle": "2023-05-10T00:47:13.067139Z",
     "shell.execute_reply": "2023-05-10T00:47:13.066839Z"
    }
   },
   "outputs": [
    {
     "name": "stderr",
     "output_type": "stream",
     "text": [
      "/var/folders/l2/cnhff0_n1470l4xf0p7v7l_40000gn/T/ipykernel_15233/219075651.py:3: FutureWarning: The frame.append method is deprecated and will be removed from pandas in a future version. Use pandas.concat instead.\n",
      "  row.append([None, None, None, None, None, None, None, None, None])\n"
     ]
    },
    {
     "data": {
      "text/html": [
       "<div>\n",
       "<style scoped>\n",
       "    .dataframe tbody tr th:only-of-type {\n",
       "        vertical-align: middle;\n",
       "    }\n",
       "\n",
       "    .dataframe tbody tr th {\n",
       "        vertical-align: top;\n",
       "    }\n",
       "\n",
       "    .dataframe thead th {\n",
       "        text-align: right;\n",
       "    }\n",
       "</style>\n",
       "<table border=\"1\" class=\"dataframe\">\n",
       "  <thead>\n",
       "    <tr style=\"text-align: right;\">\n",
       "      <th></th>\n",
       "      <th>uu_id</th>\n",
       "      <th>week_number</th>\n",
       "      <th>countyfips</th>\n",
       "      <th>tract</th>\n",
       "      <th>total_claims</th>\n",
       "      <th>top_category_employer1</th>\n",
       "      <th>top_category_employer2</th>\n",
       "      <th>top_category_employer3</th>\n",
       "      <th>wage_data</th>\n",
       "      <th>0</th>\n",
       "    </tr>\n",
       "  </thead>\n",
       "  <tbody>\n",
       "    <tr>\n",
       "      <th>0</th>\n",
       "      <td>&lt;NA&gt;</td>\n",
       "      <td>&lt;NA&gt;</td>\n",
       "      <td>&lt;NA&gt;</td>\n",
       "      <td>&lt;NA&gt;</td>\n",
       "      <td>&lt;NA&gt;</td>\n",
       "      <td>&lt;NA&gt;</td>\n",
       "      <td>&lt;NA&gt;</td>\n",
       "      <td>&lt;NA&gt;</td>\n",
       "      <td>NaN</td>\n",
       "      <td>None</td>\n",
       "    </tr>\n",
       "    <tr>\n",
       "      <th>1</th>\n",
       "      <td>&lt;NA&gt;</td>\n",
       "      <td>&lt;NA&gt;</td>\n",
       "      <td>&lt;NA&gt;</td>\n",
       "      <td>&lt;NA&gt;</td>\n",
       "      <td>&lt;NA&gt;</td>\n",
       "      <td>&lt;NA&gt;</td>\n",
       "      <td>&lt;NA&gt;</td>\n",
       "      <td>&lt;NA&gt;</td>\n",
       "      <td>NaN</td>\n",
       "      <td>None</td>\n",
       "    </tr>\n",
       "    <tr>\n",
       "      <th>2</th>\n",
       "      <td>&lt;NA&gt;</td>\n",
       "      <td>&lt;NA&gt;</td>\n",
       "      <td>&lt;NA&gt;</td>\n",
       "      <td>&lt;NA&gt;</td>\n",
       "      <td>&lt;NA&gt;</td>\n",
       "      <td>&lt;NA&gt;</td>\n",
       "      <td>&lt;NA&gt;</td>\n",
       "      <td>&lt;NA&gt;</td>\n",
       "      <td>NaN</td>\n",
       "      <td>None</td>\n",
       "    </tr>\n",
       "    <tr>\n",
       "      <th>3</th>\n",
       "      <td>&lt;NA&gt;</td>\n",
       "      <td>&lt;NA&gt;</td>\n",
       "      <td>&lt;NA&gt;</td>\n",
       "      <td>&lt;NA&gt;</td>\n",
       "      <td>&lt;NA&gt;</td>\n",
       "      <td>&lt;NA&gt;</td>\n",
       "      <td>&lt;NA&gt;</td>\n",
       "      <td>&lt;NA&gt;</td>\n",
       "      <td>NaN</td>\n",
       "      <td>None</td>\n",
       "    </tr>\n",
       "    <tr>\n",
       "      <th>4</th>\n",
       "      <td>&lt;NA&gt;</td>\n",
       "      <td>&lt;NA&gt;</td>\n",
       "      <td>&lt;NA&gt;</td>\n",
       "      <td>&lt;NA&gt;</td>\n",
       "      <td>&lt;NA&gt;</td>\n",
       "      <td>&lt;NA&gt;</td>\n",
       "      <td>&lt;NA&gt;</td>\n",
       "      <td>&lt;NA&gt;</td>\n",
       "      <td>NaN</td>\n",
       "      <td>None</td>\n",
       "    </tr>\n",
       "    <tr>\n",
       "      <th>5</th>\n",
       "      <td>&lt;NA&gt;</td>\n",
       "      <td>&lt;NA&gt;</td>\n",
       "      <td>&lt;NA&gt;</td>\n",
       "      <td>&lt;NA&gt;</td>\n",
       "      <td>&lt;NA&gt;</td>\n",
       "      <td>&lt;NA&gt;</td>\n",
       "      <td>&lt;NA&gt;</td>\n",
       "      <td>&lt;NA&gt;</td>\n",
       "      <td>NaN</td>\n",
       "      <td>None</td>\n",
       "    </tr>\n",
       "    <tr>\n",
       "      <th>6</th>\n",
       "      <td>&lt;NA&gt;</td>\n",
       "      <td>&lt;NA&gt;</td>\n",
       "      <td>&lt;NA&gt;</td>\n",
       "      <td>&lt;NA&gt;</td>\n",
       "      <td>&lt;NA&gt;</td>\n",
       "      <td>&lt;NA&gt;</td>\n",
       "      <td>&lt;NA&gt;</td>\n",
       "      <td>&lt;NA&gt;</td>\n",
       "      <td>NaN</td>\n",
       "      <td>None</td>\n",
       "    </tr>\n",
       "    <tr>\n",
       "      <th>7</th>\n",
       "      <td>&lt;NA&gt;</td>\n",
       "      <td>&lt;NA&gt;</td>\n",
       "      <td>&lt;NA&gt;</td>\n",
       "      <td>&lt;NA&gt;</td>\n",
       "      <td>&lt;NA&gt;</td>\n",
       "      <td>&lt;NA&gt;</td>\n",
       "      <td>&lt;NA&gt;</td>\n",
       "      <td>&lt;NA&gt;</td>\n",
       "      <td>NaN</td>\n",
       "      <td>None</td>\n",
       "    </tr>\n",
       "    <tr>\n",
       "      <th>8</th>\n",
       "      <td>&lt;NA&gt;</td>\n",
       "      <td>&lt;NA&gt;</td>\n",
       "      <td>&lt;NA&gt;</td>\n",
       "      <td>&lt;NA&gt;</td>\n",
       "      <td>&lt;NA&gt;</td>\n",
       "      <td>&lt;NA&gt;</td>\n",
       "      <td>&lt;NA&gt;</td>\n",
       "      <td>&lt;NA&gt;</td>\n",
       "      <td>NaN</td>\n",
       "      <td>None</td>\n",
       "    </tr>\n",
       "  </tbody>\n",
       "</table>\n",
       "</div>"
      ],
      "text/plain": [
       "  uu_id  week_number countyfips tract  total_claims top_category_employer1  \\\n",
       "0  <NA>         <NA>       <NA>  <NA>          <NA>                   <NA>   \n",
       "1  <NA>         <NA>       <NA>  <NA>          <NA>                   <NA>   \n",
       "2  <NA>         <NA>       <NA>  <NA>          <NA>                   <NA>   \n",
       "3  <NA>         <NA>       <NA>  <NA>          <NA>                   <NA>   \n",
       "4  <NA>         <NA>       <NA>  <NA>          <NA>                   <NA>   \n",
       "5  <NA>         <NA>       <NA>  <NA>          <NA>                   <NA>   \n",
       "6  <NA>         <NA>       <NA>  <NA>          <NA>                   <NA>   \n",
       "7  <NA>         <NA>       <NA>  <NA>          <NA>                   <NA>   \n",
       "8  <NA>         <NA>       <NA>  <NA>          <NA>                   <NA>   \n",
       "\n",
       "  top_category_employer2 top_category_employer3  wage_data     0  \n",
       "0                   <NA>                   <NA>        NaN  None  \n",
       "1                   <NA>                   <NA>        NaN  None  \n",
       "2                   <NA>                   <NA>        NaN  None  \n",
       "3                   <NA>                   <NA>        NaN  None  \n",
       "4                   <NA>                   <NA>        NaN  None  \n",
       "5                   <NA>                   <NA>        NaN  None  \n",
       "6                   <NA>                   <NA>        NaN  None  \n",
       "7                   <NA>                   <NA>        NaN  None  \n",
       "8                   <NA>                   <NA>        NaN  None  "
      ]
     },
     "execution_count": 113,
     "metadata": {},
     "output_type": "execute_result"
    }
   ],
   "source": [
    "row = relevant_unemployment_df.loc[((relevant_unemployment_df.uu_id==\"d5e819ecea31bac6db64c0ccf48818fa8\") \n",
    "                                      & (relevant_unemployment_df.week_number == 1)),]\n",
    "row.append([None, None, None, None, None, None, None, None, None])"
   ]
  },
  {
   "cell_type": "code",
   "execution_count": 114,
   "id": "687abf29",
   "metadata": {
    "execution": {
     "iopub.execute_input": "2023-05-10T00:47:13.068859Z",
     "iopub.status.busy": "2023-05-10T00:47:13.068723Z",
     "iopub.status.idle": "2023-05-10T00:47:13.077880Z",
     "shell.execute_reply": "2023-05-10T00:47:13.077458Z"
    }
   },
   "outputs": [
    {
     "name": "stderr",
     "output_type": "stream",
     "text": [
      "/var/folders/l2/cnhff0_n1470l4xf0p7v7l_40000gn/T/ipykernel_15233/2177737267.py:3: FutureWarning: The frame.append method is deprecated and will be removed from pandas in a future version. Use pandas.concat instead.\n",
      "  row.append([None, None, None, None, None, None, None, None, None])\n"
     ]
    },
    {
     "data": {
      "text/html": [
       "<div>\n",
       "<style scoped>\n",
       "    .dataframe tbody tr th:only-of-type {\n",
       "        vertical-align: middle;\n",
       "    }\n",
       "\n",
       "    .dataframe tbody tr th {\n",
       "        vertical-align: top;\n",
       "    }\n",
       "\n",
       "    .dataframe thead th {\n",
       "        text-align: right;\n",
       "    }\n",
       "</style>\n",
       "<table border=\"1\" class=\"dataframe\">\n",
       "  <thead>\n",
       "    <tr style=\"text-align: right;\">\n",
       "      <th></th>\n",
       "      <th>uu_id</th>\n",
       "      <th>week_number</th>\n",
       "      <th>countyfips</th>\n",
       "      <th>tract</th>\n",
       "      <th>total_claims</th>\n",
       "      <th>top_category_employer1</th>\n",
       "      <th>top_category_employer2</th>\n",
       "      <th>top_category_employer3</th>\n",
       "      <th>wage_data</th>\n",
       "    </tr>\n",
       "  </thead>\n",
       "  <tbody>\n",
       "  </tbody>\n",
       "</table>\n",
       "</div>"
      ],
      "text/plain": [
       "Empty DataFrame\n",
       "Columns: [uu_id, week_number, countyfips, tract, total_claims, top_category_employer1, top_category_employer2, top_category_employer3, wage_data]\n",
       "Index: []"
      ]
     },
     "execution_count": 114,
     "metadata": {},
     "output_type": "execute_result"
    }
   ],
   "source": [
    "row = relevant_unemployment_df.loc[((relevant_unemployment_df.uu_id==\"d5e819ecea31bac6db64c0ccf48818fa8\") \n",
    "                                      & (relevant_unemployment_df.week_number == 1)),]\n",
    "row.append([None, None, None, None, None, None, None, None, None])\n",
    "row"
   ]
  },
  {
   "cell_type": "code",
   "execution_count": 115,
   "id": "994ddc1c",
   "metadata": {
    "execution": {
     "iopub.execute_input": "2023-05-10T00:47:13.080494Z",
     "iopub.status.busy": "2023-05-10T00:47:13.080285Z",
     "iopub.status.idle": "2023-05-10T00:47:13.091520Z",
     "shell.execute_reply": "2023-05-10T00:47:13.091055Z"
    }
   },
   "outputs": [
    {
     "name": "stderr",
     "output_type": "stream",
     "text": [
      "/var/folders/l2/cnhff0_n1470l4xf0p7v7l_40000gn/T/ipykernel_15233/219075651.py:3: FutureWarning: The frame.append method is deprecated and will be removed from pandas in a future version. Use pandas.concat instead.\n",
      "  row.append([None, None, None, None, None, None, None, None, None])\n"
     ]
    },
    {
     "data": {
      "text/html": [
       "<div>\n",
       "<style scoped>\n",
       "    .dataframe tbody tr th:only-of-type {\n",
       "        vertical-align: middle;\n",
       "    }\n",
       "\n",
       "    .dataframe tbody tr th {\n",
       "        vertical-align: top;\n",
       "    }\n",
       "\n",
       "    .dataframe thead th {\n",
       "        text-align: right;\n",
       "    }\n",
       "</style>\n",
       "<table border=\"1\" class=\"dataframe\">\n",
       "  <thead>\n",
       "    <tr style=\"text-align: right;\">\n",
       "      <th></th>\n",
       "      <th>uu_id</th>\n",
       "      <th>week_number</th>\n",
       "      <th>countyfips</th>\n",
       "      <th>tract</th>\n",
       "      <th>total_claims</th>\n",
       "      <th>top_category_employer1</th>\n",
       "      <th>top_category_employer2</th>\n",
       "      <th>top_category_employer3</th>\n",
       "      <th>wage_data</th>\n",
       "      <th>0</th>\n",
       "    </tr>\n",
       "  </thead>\n",
       "  <tbody>\n",
       "    <tr>\n",
       "      <th>0</th>\n",
       "      <td>&lt;NA&gt;</td>\n",
       "      <td>&lt;NA&gt;</td>\n",
       "      <td>&lt;NA&gt;</td>\n",
       "      <td>&lt;NA&gt;</td>\n",
       "      <td>&lt;NA&gt;</td>\n",
       "      <td>&lt;NA&gt;</td>\n",
       "      <td>&lt;NA&gt;</td>\n",
       "      <td>&lt;NA&gt;</td>\n",
       "      <td>NaN</td>\n",
       "      <td>None</td>\n",
       "    </tr>\n",
       "    <tr>\n",
       "      <th>1</th>\n",
       "      <td>&lt;NA&gt;</td>\n",
       "      <td>&lt;NA&gt;</td>\n",
       "      <td>&lt;NA&gt;</td>\n",
       "      <td>&lt;NA&gt;</td>\n",
       "      <td>&lt;NA&gt;</td>\n",
       "      <td>&lt;NA&gt;</td>\n",
       "      <td>&lt;NA&gt;</td>\n",
       "      <td>&lt;NA&gt;</td>\n",
       "      <td>NaN</td>\n",
       "      <td>None</td>\n",
       "    </tr>\n",
       "    <tr>\n",
       "      <th>2</th>\n",
       "      <td>&lt;NA&gt;</td>\n",
       "      <td>&lt;NA&gt;</td>\n",
       "      <td>&lt;NA&gt;</td>\n",
       "      <td>&lt;NA&gt;</td>\n",
       "      <td>&lt;NA&gt;</td>\n",
       "      <td>&lt;NA&gt;</td>\n",
       "      <td>&lt;NA&gt;</td>\n",
       "      <td>&lt;NA&gt;</td>\n",
       "      <td>NaN</td>\n",
       "      <td>None</td>\n",
       "    </tr>\n",
       "    <tr>\n",
       "      <th>3</th>\n",
       "      <td>&lt;NA&gt;</td>\n",
       "      <td>&lt;NA&gt;</td>\n",
       "      <td>&lt;NA&gt;</td>\n",
       "      <td>&lt;NA&gt;</td>\n",
       "      <td>&lt;NA&gt;</td>\n",
       "      <td>&lt;NA&gt;</td>\n",
       "      <td>&lt;NA&gt;</td>\n",
       "      <td>&lt;NA&gt;</td>\n",
       "      <td>NaN</td>\n",
       "      <td>None</td>\n",
       "    </tr>\n",
       "    <tr>\n",
       "      <th>4</th>\n",
       "      <td>&lt;NA&gt;</td>\n",
       "      <td>&lt;NA&gt;</td>\n",
       "      <td>&lt;NA&gt;</td>\n",
       "      <td>&lt;NA&gt;</td>\n",
       "      <td>&lt;NA&gt;</td>\n",
       "      <td>&lt;NA&gt;</td>\n",
       "      <td>&lt;NA&gt;</td>\n",
       "      <td>&lt;NA&gt;</td>\n",
       "      <td>NaN</td>\n",
       "      <td>None</td>\n",
       "    </tr>\n",
       "    <tr>\n",
       "      <th>5</th>\n",
       "      <td>&lt;NA&gt;</td>\n",
       "      <td>&lt;NA&gt;</td>\n",
       "      <td>&lt;NA&gt;</td>\n",
       "      <td>&lt;NA&gt;</td>\n",
       "      <td>&lt;NA&gt;</td>\n",
       "      <td>&lt;NA&gt;</td>\n",
       "      <td>&lt;NA&gt;</td>\n",
       "      <td>&lt;NA&gt;</td>\n",
       "      <td>NaN</td>\n",
       "      <td>None</td>\n",
       "    </tr>\n",
       "    <tr>\n",
       "      <th>6</th>\n",
       "      <td>&lt;NA&gt;</td>\n",
       "      <td>&lt;NA&gt;</td>\n",
       "      <td>&lt;NA&gt;</td>\n",
       "      <td>&lt;NA&gt;</td>\n",
       "      <td>&lt;NA&gt;</td>\n",
       "      <td>&lt;NA&gt;</td>\n",
       "      <td>&lt;NA&gt;</td>\n",
       "      <td>&lt;NA&gt;</td>\n",
       "      <td>NaN</td>\n",
       "      <td>None</td>\n",
       "    </tr>\n",
       "    <tr>\n",
       "      <th>7</th>\n",
       "      <td>&lt;NA&gt;</td>\n",
       "      <td>&lt;NA&gt;</td>\n",
       "      <td>&lt;NA&gt;</td>\n",
       "      <td>&lt;NA&gt;</td>\n",
       "      <td>&lt;NA&gt;</td>\n",
       "      <td>&lt;NA&gt;</td>\n",
       "      <td>&lt;NA&gt;</td>\n",
       "      <td>&lt;NA&gt;</td>\n",
       "      <td>NaN</td>\n",
       "      <td>None</td>\n",
       "    </tr>\n",
       "    <tr>\n",
       "      <th>8</th>\n",
       "      <td>&lt;NA&gt;</td>\n",
       "      <td>&lt;NA&gt;</td>\n",
       "      <td>&lt;NA&gt;</td>\n",
       "      <td>&lt;NA&gt;</td>\n",
       "      <td>&lt;NA&gt;</td>\n",
       "      <td>&lt;NA&gt;</td>\n",
       "      <td>&lt;NA&gt;</td>\n",
       "      <td>&lt;NA&gt;</td>\n",
       "      <td>NaN</td>\n",
       "      <td>None</td>\n",
       "    </tr>\n",
       "  </tbody>\n",
       "</table>\n",
       "</div>"
      ],
      "text/plain": [
       "  uu_id  week_number countyfips tract  total_claims top_category_employer1  \\\n",
       "0  <NA>         <NA>       <NA>  <NA>          <NA>                   <NA>   \n",
       "1  <NA>         <NA>       <NA>  <NA>          <NA>                   <NA>   \n",
       "2  <NA>         <NA>       <NA>  <NA>          <NA>                   <NA>   \n",
       "3  <NA>         <NA>       <NA>  <NA>          <NA>                   <NA>   \n",
       "4  <NA>         <NA>       <NA>  <NA>          <NA>                   <NA>   \n",
       "5  <NA>         <NA>       <NA>  <NA>          <NA>                   <NA>   \n",
       "6  <NA>         <NA>       <NA>  <NA>          <NA>                   <NA>   \n",
       "7  <NA>         <NA>       <NA>  <NA>          <NA>                   <NA>   \n",
       "8  <NA>         <NA>       <NA>  <NA>          <NA>                   <NA>   \n",
       "\n",
       "  top_category_employer2 top_category_employer3  wage_data     0  \n",
       "0                   <NA>                   <NA>        NaN  None  \n",
       "1                   <NA>                   <NA>        NaN  None  \n",
       "2                   <NA>                   <NA>        NaN  None  \n",
       "3                   <NA>                   <NA>        NaN  None  \n",
       "4                   <NA>                   <NA>        NaN  None  \n",
       "5                   <NA>                   <NA>        NaN  None  \n",
       "6                   <NA>                   <NA>        NaN  None  \n",
       "7                   <NA>                   <NA>        NaN  None  \n",
       "8                   <NA>                   <NA>        NaN  None  "
      ]
     },
     "execution_count": 115,
     "metadata": {},
     "output_type": "execute_result"
    }
   ],
   "source": [
    "row = relevant_unemployment_df.loc[((relevant_unemployment_df.uu_id==\"d5e819ecea31bac6db64c0ccf48818fa8\") \n",
    "                                      & (relevant_unemployment_df.week_number == 1)),]\n",
    "row.append([None, None, None, None, None, None, None, None, None])"
   ]
  },
  {
   "cell_type": "code",
   "execution_count": 116,
   "id": "06e0cec0",
   "metadata": {
    "execution": {
     "iopub.execute_input": "2023-05-10T00:47:13.094556Z",
     "iopub.status.busy": "2023-05-10T00:47:13.094183Z",
     "iopub.status.idle": "2023-05-10T00:47:13.105321Z",
     "shell.execute_reply": "2023-05-10T00:47:13.104557Z"
    },
    "lines_to_next_cell": 2
   },
   "outputs": [
    {
     "name": "stderr",
     "output_type": "stream",
     "text": [
      "/var/folders/l2/cnhff0_n1470l4xf0p7v7l_40000gn/T/ipykernel_15233/2020497354.py:3: FutureWarning: The frame.append method is deprecated and will be removed from pandas in a future version. Use pandas.concat instead.\n",
      "  row.append([None, None, None, None, None, None, None, None])\n"
     ]
    },
    {
     "data": {
      "text/html": [
       "<div>\n",
       "<style scoped>\n",
       "    .dataframe tbody tr th:only-of-type {\n",
       "        vertical-align: middle;\n",
       "    }\n",
       "\n",
       "    .dataframe tbody tr th {\n",
       "        vertical-align: top;\n",
       "    }\n",
       "\n",
       "    .dataframe thead th {\n",
       "        text-align: right;\n",
       "    }\n",
       "</style>\n",
       "<table border=\"1\" class=\"dataframe\">\n",
       "  <thead>\n",
       "    <tr style=\"text-align: right;\">\n",
       "      <th></th>\n",
       "      <th>uu_id</th>\n",
       "      <th>week_number</th>\n",
       "      <th>countyfips</th>\n",
       "      <th>tract</th>\n",
       "      <th>total_claims</th>\n",
       "      <th>top_category_employer1</th>\n",
       "      <th>top_category_employer2</th>\n",
       "      <th>top_category_employer3</th>\n",
       "      <th>wage_data</th>\n",
       "      <th>0</th>\n",
       "    </tr>\n",
       "  </thead>\n",
       "  <tbody>\n",
       "    <tr>\n",
       "      <th>0</th>\n",
       "      <td>&lt;NA&gt;</td>\n",
       "      <td>&lt;NA&gt;</td>\n",
       "      <td>&lt;NA&gt;</td>\n",
       "      <td>&lt;NA&gt;</td>\n",
       "      <td>&lt;NA&gt;</td>\n",
       "      <td>&lt;NA&gt;</td>\n",
       "      <td>&lt;NA&gt;</td>\n",
       "      <td>&lt;NA&gt;</td>\n",
       "      <td>NaN</td>\n",
       "      <td>None</td>\n",
       "    </tr>\n",
       "    <tr>\n",
       "      <th>1</th>\n",
       "      <td>&lt;NA&gt;</td>\n",
       "      <td>&lt;NA&gt;</td>\n",
       "      <td>&lt;NA&gt;</td>\n",
       "      <td>&lt;NA&gt;</td>\n",
       "      <td>&lt;NA&gt;</td>\n",
       "      <td>&lt;NA&gt;</td>\n",
       "      <td>&lt;NA&gt;</td>\n",
       "      <td>&lt;NA&gt;</td>\n",
       "      <td>NaN</td>\n",
       "      <td>None</td>\n",
       "    </tr>\n",
       "    <tr>\n",
       "      <th>2</th>\n",
       "      <td>&lt;NA&gt;</td>\n",
       "      <td>&lt;NA&gt;</td>\n",
       "      <td>&lt;NA&gt;</td>\n",
       "      <td>&lt;NA&gt;</td>\n",
       "      <td>&lt;NA&gt;</td>\n",
       "      <td>&lt;NA&gt;</td>\n",
       "      <td>&lt;NA&gt;</td>\n",
       "      <td>&lt;NA&gt;</td>\n",
       "      <td>NaN</td>\n",
       "      <td>None</td>\n",
       "    </tr>\n",
       "    <tr>\n",
       "      <th>3</th>\n",
       "      <td>&lt;NA&gt;</td>\n",
       "      <td>&lt;NA&gt;</td>\n",
       "      <td>&lt;NA&gt;</td>\n",
       "      <td>&lt;NA&gt;</td>\n",
       "      <td>&lt;NA&gt;</td>\n",
       "      <td>&lt;NA&gt;</td>\n",
       "      <td>&lt;NA&gt;</td>\n",
       "      <td>&lt;NA&gt;</td>\n",
       "      <td>NaN</td>\n",
       "      <td>None</td>\n",
       "    </tr>\n",
       "    <tr>\n",
       "      <th>4</th>\n",
       "      <td>&lt;NA&gt;</td>\n",
       "      <td>&lt;NA&gt;</td>\n",
       "      <td>&lt;NA&gt;</td>\n",
       "      <td>&lt;NA&gt;</td>\n",
       "      <td>&lt;NA&gt;</td>\n",
       "      <td>&lt;NA&gt;</td>\n",
       "      <td>&lt;NA&gt;</td>\n",
       "      <td>&lt;NA&gt;</td>\n",
       "      <td>NaN</td>\n",
       "      <td>None</td>\n",
       "    </tr>\n",
       "    <tr>\n",
       "      <th>5</th>\n",
       "      <td>&lt;NA&gt;</td>\n",
       "      <td>&lt;NA&gt;</td>\n",
       "      <td>&lt;NA&gt;</td>\n",
       "      <td>&lt;NA&gt;</td>\n",
       "      <td>&lt;NA&gt;</td>\n",
       "      <td>&lt;NA&gt;</td>\n",
       "      <td>&lt;NA&gt;</td>\n",
       "      <td>&lt;NA&gt;</td>\n",
       "      <td>NaN</td>\n",
       "      <td>None</td>\n",
       "    </tr>\n",
       "    <tr>\n",
       "      <th>6</th>\n",
       "      <td>&lt;NA&gt;</td>\n",
       "      <td>&lt;NA&gt;</td>\n",
       "      <td>&lt;NA&gt;</td>\n",
       "      <td>&lt;NA&gt;</td>\n",
       "      <td>&lt;NA&gt;</td>\n",
       "      <td>&lt;NA&gt;</td>\n",
       "      <td>&lt;NA&gt;</td>\n",
       "      <td>&lt;NA&gt;</td>\n",
       "      <td>NaN</td>\n",
       "      <td>None</td>\n",
       "    </tr>\n",
       "    <tr>\n",
       "      <th>7</th>\n",
       "      <td>&lt;NA&gt;</td>\n",
       "      <td>&lt;NA&gt;</td>\n",
       "      <td>&lt;NA&gt;</td>\n",
       "      <td>&lt;NA&gt;</td>\n",
       "      <td>&lt;NA&gt;</td>\n",
       "      <td>&lt;NA&gt;</td>\n",
       "      <td>&lt;NA&gt;</td>\n",
       "      <td>&lt;NA&gt;</td>\n",
       "      <td>NaN</td>\n",
       "      <td>None</td>\n",
       "    </tr>\n",
       "  </tbody>\n",
       "</table>\n",
       "</div>"
      ],
      "text/plain": [
       "  uu_id  week_number countyfips tract  total_claims top_category_employer1  \\\n",
       "0  <NA>         <NA>       <NA>  <NA>          <NA>                   <NA>   \n",
       "1  <NA>         <NA>       <NA>  <NA>          <NA>                   <NA>   \n",
       "2  <NA>         <NA>       <NA>  <NA>          <NA>                   <NA>   \n",
       "3  <NA>         <NA>       <NA>  <NA>          <NA>                   <NA>   \n",
       "4  <NA>         <NA>       <NA>  <NA>          <NA>                   <NA>   \n",
       "5  <NA>         <NA>       <NA>  <NA>          <NA>                   <NA>   \n",
       "6  <NA>         <NA>       <NA>  <NA>          <NA>                   <NA>   \n",
       "7  <NA>         <NA>       <NA>  <NA>          <NA>                   <NA>   \n",
       "\n",
       "  top_category_employer2 top_category_employer3  wage_data     0  \n",
       "0                   <NA>                   <NA>        NaN  None  \n",
       "1                   <NA>                   <NA>        NaN  None  \n",
       "2                   <NA>                   <NA>        NaN  None  \n",
       "3                   <NA>                   <NA>        NaN  None  \n",
       "4                   <NA>                   <NA>        NaN  None  \n",
       "5                   <NA>                   <NA>        NaN  None  \n",
       "6                   <NA>                   <NA>        NaN  None  \n",
       "7                   <NA>                   <NA>        NaN  None  "
      ]
     },
     "execution_count": 116,
     "metadata": {},
     "output_type": "execute_result"
    }
   ],
   "source": [
    "row = relevant_unemployment_df.loc[((relevant_unemployment_df.uu_id==\"d5e819ecea31bac6db64c0ccf48818fa8\") \n",
    "                                      & (relevant_unemployment_df.week_number == 1)),]\n",
    "row.append([None, None, None, None, None, None, None, None])"
   ]
  }
 ],
 "metadata": {
  "jupytext": {
   "cell_metadata_filter": "-all",
   "main_language": "python",
   "notebook_metadata_filter": "-all"
  },
  "kernelspec": {
   "display_name": "base",
   "language": "python",
   "name": "python3"
  },
  "language_info": {
   "codemirror_mode": {
    "name": "ipython",
    "version": 3
   },
   "file_extension": ".py",
   "mimetype": "text/x-python",
   "name": "python",
   "nbconvert_exporter": "python",
   "pygments_lexer": "ipython3",
   "version": "3.9.12"
  }
 },
 "nbformat": 4,
 "nbformat_minor": 5
}
