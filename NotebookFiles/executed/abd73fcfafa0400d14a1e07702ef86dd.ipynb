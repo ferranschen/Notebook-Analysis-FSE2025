{
 "cells": [
  {
   "cell_type": "code",
   "execution_count": 1,
   "id": "f9a17db5",
   "metadata": {
    "execution": {
     "iopub.execute_input": "2023-05-10T02:52:51.421736Z",
     "iopub.status.busy": "2023-05-10T02:52:51.421309Z",
     "iopub.status.idle": "2023-05-10T02:52:51.434064Z",
     "shell.execute_reply": "2023-05-10T02:52:51.433224Z"
    },
    "lines_to_next_cell": 2
   },
   "outputs": [
    {
     "name": "stdout",
     "output_type": "stream",
     "text": [
      "   1: get_ipython().run_line_magic('history', '-g')\n"
     ]
    }
   ],
   "source": [
    "get_ipython().run_line_magic('history', '-g')"
   ]
  }
 ],
 "metadata": {
  "jupytext": {
   "cell_metadata_filter": "-all",
   "main_language": "python",
   "notebook_metadata_filter": "-all"
  },
  "language_info": {
   "codemirror_mode": {
    "name": "ipython",
    "version": 3
   },
   "file_extension": ".py",
   "mimetype": "text/x-python",
   "name": "python",
   "nbconvert_exporter": "python",
   "pygments_lexer": "ipython3",
   "version": "3.9.12"
  }
 },
 "nbformat": 4,
 "nbformat_minor": 5
}
