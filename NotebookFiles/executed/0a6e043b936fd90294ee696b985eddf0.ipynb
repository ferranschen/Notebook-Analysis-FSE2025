{
 "cells": [
  {
   "cell_type": "code",
   "execution_count": 1,
   "id": "f0d8d620",
   "metadata": {
    "execution": {
     "iopub.execute_input": "2023-05-10T02:16:53.072697Z",
     "iopub.status.busy": "2023-05-10T02:16:53.072597Z",
     "iopub.status.idle": "2023-05-10T02:16:53.080421Z",
     "shell.execute_reply": "2023-05-10T02:16:53.080123Z"
    }
   },
   "outputs": [],
   "source": [
    "get_ipython().run_cell_magic('capture', '', \"%logstop\\n%logstart -t -r -q ipython_command_log.py global\\n\\n#- IRONHACKS RESEARCH TRACKING CODE\\n#----------------------------------\\n# The following code is used to help our research team understand how you \\n# our notebook environment. We do not collect any personal information with\\n# the following code, it is used to measure when and how often you work on\\n# your submission files.\\n\\nimport os\\nfrom datetime import datetime\\nimport IPython.core.history as history\\n\\nha = history.HistoryAccessor()\\nha_tail = ha.get_tail(1)\\nha_cmd = next(ha_tail)\\nsession_id = str(ha_cmd[0])\\ncommand_id = str(ha_cmd[1])\\ntimestamp = datetime.utcnow().isoformat()\\nhistory_line = ','.join([session_id, command_id, timestamp]) + '\\\\n'\\nlogfile = open(os.environ['HOME']+'/ipython_session_log.csv', 'a')\\nlogfile.write(history_line)\\nlogfile.close()\\n\")"
   ]
  },
  {
   "cell_type": "code",
   "execution_count": 2,
   "id": "1d556ae4",
   "metadata": {
    "execution": {
     "iopub.execute_input": "2023-05-10T02:16:53.082321Z",
     "iopub.status.busy": "2023-05-10T02:16:53.082172Z",
     "iopub.status.idle": "2023-05-10T02:16:53.084746Z",
     "shell.execute_reply": "2023-05-10T02:16:53.084496Z"
    }
   },
   "outputs": [],
   "source": [
    "get_ipython().run_cell_magic('capture', '', \"\\n#- INSTALL ADDITIONAL LIBRARIES IF REQUIRED\\n#------------------------------------------\\n# This is normally not required. The hub environment comes preinstaled with \\n# many packages that you can already use without setup. In case there is some\\n# other library you would like to use that isn't on the list you run this command\\n# once to install them.  If it is already installed this command has no effect.\\n\\n#!python3 -m pip install pandas\\n\")"
   ]
  },
  {
   "cell_type": "markdown",
   "id": "ae3da6f3",
   "metadata": {},
   "source": [
    "- IMPORT THE LIBRARIES YOU WILL USE\n",
    "------------------------------------------\n",
    "You only need to import packages one time per notebook session. To keep your\n",
    "notebook clean and organized you can handle all imports at the top of your file.\n",
    "The following are included for example purposed, feel free to modify or delete \n",
    "anything in this section."
   ]
  },
  {
   "cell_type": "code",
   "execution_count": 3,
   "id": "a1e99c64",
   "metadata": {
    "execution": {
     "iopub.execute_input": "2023-05-10T02:16:53.086209Z",
     "iopub.status.busy": "2023-05-10T02:16:53.086108Z",
     "iopub.status.idle": "2023-05-10T02:16:53.475784Z",
     "shell.execute_reply": "2023-05-10T02:16:53.475487Z"
    }
   },
   "outputs": [],
   "source": [
    "import csv\n",
    "import pandas as pd\n",
    "import numpy as np\n",
    "from google.cloud import bigquery\n",
    "from google.oauth2 import service_account\n",
    "from google.cloud.bigquery import magics"
   ]
  },
  {
   "cell_type": "markdown",
   "id": "6ccc3736",
   "metadata": {},
   "source": [
    "- DEFINE YOUR CLASSES AND FUNCTIONS \n",
    "-----------------------------------\n",
    "This is not required, but is helpful in keeping your notebook organized. \n",
    "You can use the following cell or several cells to define your functions\n",
    "and classes to keep them separate from your analysis or results code.\n",
    "In general it useful to define your methods in a separate cell from where\n",
    "it is run."
   ]
  },
  {
   "cell_type": "code",
   "execution_count": 4,
   "id": "6a430c6a",
   "metadata": {
    "execution": {
     "iopub.execute_input": "2023-05-10T02:16:53.477423Z",
     "iopub.status.busy": "2023-05-10T02:16:53.477288Z",
     "iopub.status.idle": "2023-05-10T02:16:53.484652Z",
     "shell.execute_reply": "2023-05-10T02:16:53.484301Z"
    }
   },
   "outputs": [],
   "source": [
    "BIGQUERY_PROJECT = 'ironhacks-data'\n",
    "bigquery_client = bigquery.Client(project=BIGQUERY_PROJECT)"
   ]
  },
  {
   "cell_type": "code",
   "execution_count": 5,
   "id": "95266d6b",
   "metadata": {
    "execution": {
     "iopub.execute_input": "2023-05-10T02:16:53.486195Z",
     "iopub.status.busy": "2023-05-10T02:16:53.486111Z",
     "iopub.status.idle": "2023-05-10T02:16:57.645930Z",
     "shell.execute_reply": "2023-05-10T02:16:57.645152Z"
    }
   },
   "outputs": [
    {
     "name": "stdout",
     "output_type": "stream",
     "text": [
      "\u001b[33mWARNING: Ignoring invalid distribution -umpy (/opt/anaconda3/lib/python3.9/site-packages)\u001b[0m\r\n",
      "\u001b[33mWARNING: Ignoring invalid distribution -umpy (/opt/anaconda3/lib/python3.9/site-packages)\u001b[0m\r\n",
      "Requirement already satisfied: db-dtypes in /opt/anaconda3/lib/python3.9/site-packages (1.0.5)\r\n",
      "Requirement already satisfied: pyarrow>=3.0.0 in /opt/anaconda3/lib/python3.9/site-packages (from db-dtypes) (10.0.1)\r\n",
      "Requirement already satisfied: pandas<2.0dev,>=0.24.2 in /opt/anaconda3/lib/python3.9/site-packages (from db-dtypes) (1.5.3)\r\n",
      "Requirement already satisfied: packaging>=17.0 in /opt/anaconda3/lib/python3.9/site-packages (from db-dtypes) (21.3)\r\n",
      "Requirement already satisfied: numpy<2.0dev,>=1.16.6 in /opt/anaconda3/lib/python3.9/site-packages (from db-dtypes) (1.22.4)\r\n",
      "Requirement already satisfied: pyparsing!=3.0.5,>=2.0.2 in /opt/anaconda3/lib/python3.9/site-packages (from packaging>=17.0->db-dtypes) (3.0.4)\r\n",
      "Requirement already satisfied: pytz>=2020.1 in /opt/anaconda3/lib/python3.9/site-packages (from pandas<2.0dev,>=0.24.2->db-dtypes) (2021.3)\r\n",
      "Requirement already satisfied: python-dateutil>=2.8.1 in /opt/anaconda3/lib/python3.9/site-packages (from pandas<2.0dev,>=0.24.2->db-dtypes) (2.8.2)\r\n",
      "Requirement already satisfied: six>=1.5 in /opt/anaconda3/lib/python3.9/site-packages (from python-dateutil>=2.8.1->pandas<2.0dev,>=0.24.2->db-dtypes) (1.16.0)\r\n",
      "\u001b[33mWARNING: Ignoring invalid distribution -umpy (/opt/anaconda3/lib/python3.9/site-packages)\u001b[0m\r\n"
     ]
    },
    {
     "name": "stdout",
     "output_type": "stream",
     "text": [
      "\u001b[33mWARNING: Ignoring invalid distribution -umpy (/opt/anaconda3/lib/python3.9/site-packages)\u001b[0m\r\n",
      "\u001b[33mWARNING: Ignoring invalid distribution -umpy (/opt/anaconda3/lib/python3.9/site-packages)\u001b[0m\r\n",
      "\u001b[33mWARNING: Ignoring invalid distribution -umpy (/opt/anaconda3/lib/python3.9/site-packages)\u001b[0m\r\n"
     ]
    }
   ],
   "source": [
    "!pip install db-dtypes\n",
    "query_unemployment = \"\"\"\n",
    "SELECT *\n",
    "FROM `ironhacks-data.ironhacks_competition.unemployment_data` \n",
    "\"\"\"\n",
    "query = bigquery_client.query(query_unemployment)\n",
    "df_unemployment = query.to_dataframe()\n",
    "#df_unemployment.head()"
   ]
  },
  {
   "cell_type": "code",
   "execution_count": 6,
   "id": "1287c6c5",
   "metadata": {
    "execution": {
     "iopub.execute_input": "2023-05-10T02:16:57.650023Z",
     "iopub.status.busy": "2023-05-10T02:16:57.649731Z",
     "iopub.status.idle": "2023-05-10T02:16:59.187745Z",
     "shell.execute_reply": "2023-05-10T02:16:59.186612Z"
    }
   },
   "outputs": [],
   "source": [
    "query_wage = \"\"\"\n",
    "SELECT *\n",
    "FROM `ironhacks-data.ironhacks_competition.wage_data`\n",
    "\"\"\"\n",
    "query = bigquery_client.query(query_wage)\n",
    "df_wage = query.to_dataframe()\n",
    "#df_wage.head()"
   ]
  },
  {
   "cell_type": "code",
   "execution_count": 7,
   "id": "e97ca87a",
   "metadata": {
    "execution": {
     "iopub.execute_input": "2023-05-10T02:16:59.193863Z",
     "iopub.status.busy": "2023-05-10T02:16:59.193360Z",
     "iopub.status.idle": "2023-05-10T02:17:00.610636Z",
     "shell.execute_reply": "2023-05-10T02:17:00.609513Z"
    }
   },
   "outputs": [],
   "source": [
    "query_pred_list = \"\"\"\n",
    "SELECT *\n",
    "FROM `ironhacks-data.ironhacks_competition.prediction_list`\n",
    "\"\"\"\n",
    "query = bigquery_client.query(query_pred_list)\n",
    "df_pred_list = query.to_dataframe()\n",
    "#df_pred_list.head()"
   ]
  },
  {
   "cell_type": "code",
   "execution_count": 8,
   "id": "d9eac5e9",
   "metadata": {
    "execution": {
     "iopub.execute_input": "2023-05-10T02:17:00.616493Z",
     "iopub.status.busy": "2023-05-10T02:17:00.616128Z",
     "iopub.status.idle": "2023-05-10T02:17:02.304449Z",
     "shell.execute_reply": "2023-05-10T02:17:02.303518Z"
    }
   },
   "outputs": [],
   "source": [
    "query_schema = \"\"\"\n",
    "SELECT *\n",
    "FROM `ironhacks-data.ironhacks_competition.INFORMATION_SCHEMA.TABLES`\n",
    "\"\"\"\n",
    "query = bigquery_client.query(query_schema)\n",
    "df_schema = query.to_dataframe()\n",
    "#df_schema.head()"
   ]
  },
  {
   "cell_type": "code",
   "execution_count": 9,
   "id": "d0e5ec1e",
   "metadata": {
    "execution": {
     "iopub.execute_input": "2023-05-10T02:17:02.309378Z",
     "iopub.status.busy": "2023-05-10T02:17:02.308727Z",
     "iopub.status.idle": "2023-05-10T02:17:02.315073Z",
     "shell.execute_reply": "2023-05-10T02:17:02.313920Z"
    }
   },
   "outputs": [],
   "source": [
    "df_three_col = df_unemployment[[\"uu_id\", \"week_number\", \"total_claims\"]]"
   ]
  },
  {
   "cell_type": "code",
   "execution_count": 10,
   "id": "39f381cb",
   "metadata": {
    "execution": {
     "iopub.execute_input": "2023-05-10T02:17:02.318244Z",
     "iopub.status.busy": "2023-05-10T02:17:02.317951Z",
     "iopub.status.idle": "2023-05-10T02:17:02.348041Z",
     "shell.execute_reply": "2023-05-10T02:17:02.347633Z"
    }
   },
   "outputs": [],
   "source": [
    "df_three_col.to_csv(\"three_col.txt\",index=False,sep=\"\\t\")"
   ]
  },
  {
   "cell_type": "code",
   "execution_count": 11,
   "id": "ffa75345",
   "metadata": {
    "execution": {
     "iopub.execute_input": "2023-05-10T02:17:02.350429Z",
     "iopub.status.busy": "2023-05-10T02:17:02.350086Z",
     "iopub.status.idle": "2023-05-10T02:17:02.356578Z",
     "shell.execute_reply": "2023-05-10T02:17:02.356227Z"
    }
   },
   "outputs": [
    {
     "data": {
      "text/plain": [
       "(16833, 3)"
      ]
     },
     "execution_count": 11,
     "metadata": {},
     "output_type": "execute_result"
    }
   ],
   "source": [
    "df_three_col = df_unemployment[[\"uu_id\", \"week_number\", \"total_claims\"]]\n",
    "df_three_col.shape"
   ]
  },
  {
   "cell_type": "code",
   "execution_count": 12,
   "id": "3977421e",
   "metadata": {
    "execution": {
     "iopub.execute_input": "2023-05-10T02:17:02.358334Z",
     "iopub.status.busy": "2023-05-10T02:17:02.358193Z",
     "iopub.status.idle": "2023-05-10T02:17:02.365013Z",
     "shell.execute_reply": "2023-05-10T02:17:02.364680Z"
    }
   },
   "outputs": [
    {
     "data": {
      "text/plain": [
       "(13977, 3)"
      ]
     },
     "execution_count": 12,
     "metadata": {},
     "output_type": "execute_result"
    }
   ],
   "source": [
    "df_three_col = df_three_col.drop_duplicates()\n",
    "df_three_col.shape"
   ]
  },
  {
   "cell_type": "code",
   "execution_count": 13,
   "id": "a6230143",
   "metadata": {
    "execution": {
     "iopub.execute_input": "2023-05-10T02:17:02.366732Z",
     "iopub.status.busy": "2023-05-10T02:17:02.366603Z",
     "iopub.status.idle": "2023-05-10T02:17:02.369882Z",
     "shell.execute_reply": "2023-05-10T02:17:02.369555Z"
    }
   },
   "outputs": [
    {
     "data": {
      "text/plain": [
       "(16833, 3)"
      ]
     },
     "execution_count": 13,
     "metadata": {},
     "output_type": "execute_result"
    }
   ],
   "source": [
    "df_three_col = df_unemployment[[\"uu_id\", \"week_number\", \"total_claims\"]]\n",
    "df_three_col.shape"
   ]
  },
  {
   "cell_type": "code",
   "execution_count": 14,
   "id": "56f6b0a9",
   "metadata": {
    "execution": {
     "iopub.execute_input": "2023-05-10T02:17:02.371672Z",
     "iopub.status.busy": "2023-05-10T02:17:02.371549Z",
     "iopub.status.idle": "2023-05-10T02:17:02.376519Z",
     "shell.execute_reply": "2023-05-10T02:17:02.376059Z"
    }
   },
   "outputs": [
    {
     "data": {
      "text/plain": [
       "(13977, 3)"
      ]
     },
     "execution_count": 14,
     "metadata": {},
     "output_type": "execute_result"
    }
   ],
   "source": [
    "df_three_col = df_three_col.drop_duplicates()\n",
    "df_three_col.shape"
   ]
  },
  {
   "cell_type": "code",
   "execution_count": 15,
   "id": "a902685f",
   "metadata": {
    "execution": {
     "iopub.execute_input": "2023-05-10T02:17:02.378765Z",
     "iopub.status.busy": "2023-05-10T02:17:02.378565Z",
     "iopub.status.idle": "2023-05-10T02:17:02.383093Z",
     "shell.execute_reply": "2023-05-10T02:17:02.382764Z"
    }
   },
   "outputs": [
    {
     "data": {
      "text/plain": [
       "(13977, 3)"
      ]
     },
     "execution_count": 15,
     "metadata": {},
     "output_type": "execute_result"
    }
   ],
   "source": [
    "df_three_col = df_three_col.drop_duplicates()\n",
    "df_three_col.shape"
   ]
  },
  {
   "cell_type": "code",
   "execution_count": 16,
   "id": "d21c1015",
   "metadata": {
    "execution": {
     "iopub.execute_input": "2023-05-10T02:17:02.384623Z",
     "iopub.status.busy": "2023-05-10T02:17:02.384525Z",
     "iopub.status.idle": "2023-05-10T02:17:02.463942Z",
     "shell.execute_reply": "2023-05-10T02:17:02.463661Z"
    }
   },
   "outputs": [
    {
     "ename": "NameError",
     "evalue": "name 'head' is not defined",
     "output_type": "error",
     "traceback": [
      "\u001b[0;31m---------------------------------------------------------------------------\u001b[0m",
      "\u001b[0;31mNameError\u001b[0m                                 Traceback (most recent call last)",
      "Cell \u001b[0;32mIn [16], line 2\u001b[0m\n\u001b[1;32m      1\u001b[0m df_three_col\u001b[38;5;241m.\u001b[39msort_values(by\u001b[38;5;241m=\u001b[39m[\u001b[38;5;124m'\u001b[39m\u001b[38;5;124muu_id\u001b[39m\u001b[38;5;124m'\u001b[39m, \u001b[38;5;124m\"\u001b[39m\u001b[38;5;124mweek_number\u001b[39m\u001b[38;5;124m\"\u001b[39m],inplace\u001b[38;5;241m=\u001b[39m\u001b[38;5;28;01mTrue\u001b[39;00m)\n\u001b[0;32m----> 2\u001b[0m \u001b[43mhead\u001b[49m(df_three_col)\n",
      "\u001b[0;31mNameError\u001b[0m: name 'head' is not defined"
     ]
    }
   ],
   "source": [
    "df_three_col.sort_values(by=['uu_id', \"week_number\"],inplace=True)\n",
    "head(df_three_col)"
   ]
  },
  {
   "cell_type": "code",
   "execution_count": 17,
   "id": "ee8d02ad",
   "metadata": {
    "execution": {
     "iopub.execute_input": "2023-05-10T02:17:02.465451Z",
     "iopub.status.busy": "2023-05-10T02:17:02.465340Z",
     "iopub.status.idle": "2023-05-10T02:17:02.468792Z",
     "shell.execute_reply": "2023-05-10T02:17:02.468531Z"
    }
   },
   "outputs": [
    {
     "name": "stdout",
     "output_type": "stream",
     "text": [
      "(13977, 3)\n"
     ]
    }
   ],
   "source": [
    "df_three_col = df_three_col.drop_duplicates()\n",
    "print(df_three_col.shape)"
   ]
  },
  {
   "cell_type": "code",
   "execution_count": 18,
   "id": "4dffa985",
   "metadata": {
    "execution": {
     "iopub.execute_input": "2023-05-10T02:17:02.470167Z",
     "iopub.status.busy": "2023-05-10T02:17:02.470085Z",
     "iopub.status.idle": "2023-05-10T02:17:02.476122Z",
     "shell.execute_reply": "2023-05-10T02:17:02.475761Z"
    }
   },
   "outputs": [
    {
     "data": {
      "text/html": [
       "<div>\n",
       "<style scoped>\n",
       "    .dataframe tbody tr th:only-of-type {\n",
       "        vertical-align: middle;\n",
       "    }\n",
       "\n",
       "    .dataframe tbody tr th {\n",
       "        vertical-align: top;\n",
       "    }\n",
       "\n",
       "    .dataframe thead th {\n",
       "        text-align: right;\n",
       "    }\n",
       "</style>\n",
       "<table border=\"1\" class=\"dataframe\">\n",
       "  <thead>\n",
       "    <tr style=\"text-align: right;\">\n",
       "      <th></th>\n",
       "      <th>uu_id</th>\n",
       "      <th>week_number</th>\n",
       "      <th>total_claims</th>\n",
       "    </tr>\n",
       "  </thead>\n",
       "  <tbody>\n",
       "    <tr>\n",
       "      <th>1877</th>\n",
       "      <td>001cd9ae23064d7f0fd3cd327c873d8d</td>\n",
       "      <td>31</td>\n",
       "      <td>34</td>\n",
       "    </tr>\n",
       "    <tr>\n",
       "      <th>1873</th>\n",
       "      <td>001cd9ae23064d7f0fd3cd327c873d8d</td>\n",
       "      <td>33</td>\n",
       "      <td>10</td>\n",
       "    </tr>\n",
       "    <tr>\n",
       "      <th>14073</th>\n",
       "      <td>001cd9ae23064d7f0fd3cd327c873d8d</td>\n",
       "      <td>34</td>\n",
       "      <td>25</td>\n",
       "    </tr>\n",
       "    <tr>\n",
       "      <th>7254</th>\n",
       "      <td>001cd9ae23064d7f0fd3cd327c873d8d</td>\n",
       "      <td>35</td>\n",
       "      <td>10</td>\n",
       "    </tr>\n",
       "    <tr>\n",
       "      <th>1872</th>\n",
       "      <td>001cd9ae23064d7f0fd3cd327c873d8d</td>\n",
       "      <td>36</td>\n",
       "      <td>10</td>\n",
       "    </tr>\n",
       "  </tbody>\n",
       "</table>\n",
       "</div>"
      ],
      "text/plain": [
       "                                  uu_id  week_number  total_claims\n",
       "1877   001cd9ae23064d7f0fd3cd327c873d8d           31            34\n",
       "1873   001cd9ae23064d7f0fd3cd327c873d8d           33            10\n",
       "14073  001cd9ae23064d7f0fd3cd327c873d8d           34            25\n",
       "7254   001cd9ae23064d7f0fd3cd327c873d8d           35            10\n",
       "1872   001cd9ae23064d7f0fd3cd327c873d8d           36            10"
      ]
     },
     "execution_count": 18,
     "metadata": {},
     "output_type": "execute_result"
    }
   ],
   "source": [
    "df_three_col.sort_values(by=['uu_id', \"week_number\"],inplace=True)\n",
    "df_three_col.head()"
   ]
  },
  {
   "cell_type": "code",
   "execution_count": 19,
   "id": "dae5a5b0",
   "metadata": {
    "execution": {
     "iopub.execute_input": "2023-05-10T02:17:02.477540Z",
     "iopub.status.busy": "2023-05-10T02:17:02.477453Z",
     "iopub.status.idle": "2023-05-10T02:17:02.480981Z",
     "shell.execute_reply": "2023-05-10T02:17:02.480699Z"
    }
   },
   "outputs": [
    {
     "name": "stdout",
     "output_type": "stream",
     "text": [
      "(13977, 3)\n"
     ]
    }
   ],
   "source": [
    "df_three_col = df_three_col.drop_duplicates()\n",
    "print(df_three_col.shape)"
   ]
  },
  {
   "cell_type": "code",
   "execution_count": 20,
   "id": "b82c5924",
   "metadata": {
    "execution": {
     "iopub.execute_input": "2023-05-10T02:17:02.482391Z",
     "iopub.status.busy": "2023-05-10T02:17:02.482306Z",
     "iopub.status.idle": "2023-05-10T02:17:02.847743Z",
     "shell.execute_reply": "2023-05-10T02:17:02.847435Z"
    }
   },
   "outputs": [
    {
     "ename": "InvalidIndexError",
     "evalue": "(slice(0, 21, None),)",
     "output_type": "error",
     "traceback": [
      "\u001b[0;31m---------------------------------------------------------------------------\u001b[0m",
      "\u001b[0;31mTypeError\u001b[0m                                 Traceback (most recent call last)",
      "File \u001b[0;32m/opt/homebrew/lib/python3.9/site-packages/pandas/core/indexes/base.py:3803\u001b[0m, in \u001b[0;36mIndex.get_loc\u001b[0;34m(self, key, method, tolerance)\u001b[0m\n\u001b[1;32m   3802\u001b[0m \u001b[38;5;28;01mtry\u001b[39;00m:\n\u001b[0;32m-> 3803\u001b[0m     \u001b[38;5;28;01mreturn\u001b[39;00m \u001b[38;5;28;43mself\u001b[39;49m\u001b[38;5;241;43m.\u001b[39;49m\u001b[43m_engine\u001b[49m\u001b[38;5;241;43m.\u001b[39;49m\u001b[43mget_loc\u001b[49m\u001b[43m(\u001b[49m\u001b[43mcasted_key\u001b[49m\u001b[43m)\u001b[49m\n\u001b[1;32m   3804\u001b[0m \u001b[38;5;28;01mexcept\u001b[39;00m \u001b[38;5;167;01mKeyError\u001b[39;00m \u001b[38;5;28;01mas\u001b[39;00m err:\n",
      "File \u001b[0;32m/opt/homebrew/lib/python3.9/site-packages/pandas/_libs/index.pyx:138\u001b[0m, in \u001b[0;36mpandas._libs.index.IndexEngine.get_loc\u001b[0;34m()\u001b[0m\n",
      "File \u001b[0;32m/opt/homebrew/lib/python3.9/site-packages/pandas/_libs/index.pyx:144\u001b[0m, in \u001b[0;36mpandas._libs.index.IndexEngine.get_loc\u001b[0;34m()\u001b[0m\n",
      "\u001b[0;31mTypeError\u001b[0m: '(slice(0, 21, None),)' is an invalid key",
      "\nDuring handling of the above exception, another exception occurred:\n",
      "\u001b[0;31mInvalidIndexError\u001b[0m                         Traceback (most recent call last)",
      "Cell \u001b[0;32mIn [20], line 2\u001b[0m\n\u001b[1;32m      1\u001b[0m df_three_col\u001b[38;5;241m.\u001b[39msort_values(by\u001b[38;5;241m=\u001b[39m[\u001b[38;5;124m'\u001b[39m\u001b[38;5;124muu_id\u001b[39m\u001b[38;5;124m'\u001b[39m, \u001b[38;5;124m\"\u001b[39m\u001b[38;5;124mweek_number\u001b[39m\u001b[38;5;124m\"\u001b[39m],inplace\u001b[38;5;241m=\u001b[39m\u001b[38;5;28;01mTrue\u001b[39;00m)\n\u001b[0;32m----> 2\u001b[0m \u001b[43mdf_three_col\u001b[49m\u001b[43m[\u001b[49m\u001b[38;5;241;43m0\u001b[39;49m\u001b[43m:\u001b[49m\u001b[38;5;241;43m21\u001b[39;49m\u001b[43m,\u001b[49m\u001b[43m]\u001b[49m\n",
      "File \u001b[0;32m/opt/homebrew/lib/python3.9/site-packages/pandas/core/frame.py:3804\u001b[0m, in \u001b[0;36mDataFrame.__getitem__\u001b[0;34m(self, key)\u001b[0m\n\u001b[1;32m   3802\u001b[0m \u001b[38;5;28;01mif\u001b[39;00m \u001b[38;5;28mself\u001b[39m\u001b[38;5;241m.\u001b[39mcolumns\u001b[38;5;241m.\u001b[39mnlevels \u001b[38;5;241m>\u001b[39m \u001b[38;5;241m1\u001b[39m:\n\u001b[1;32m   3803\u001b[0m     \u001b[38;5;28;01mreturn\u001b[39;00m \u001b[38;5;28mself\u001b[39m\u001b[38;5;241m.\u001b[39m_getitem_multilevel(key)\n\u001b[0;32m-> 3804\u001b[0m indexer \u001b[38;5;241m=\u001b[39m \u001b[38;5;28;43mself\u001b[39;49m\u001b[38;5;241;43m.\u001b[39;49m\u001b[43mcolumns\u001b[49m\u001b[38;5;241;43m.\u001b[39;49m\u001b[43mget_loc\u001b[49m\u001b[43m(\u001b[49m\u001b[43mkey\u001b[49m\u001b[43m)\u001b[49m\n\u001b[1;32m   3805\u001b[0m \u001b[38;5;28;01mif\u001b[39;00m is_integer(indexer):\n\u001b[1;32m   3806\u001b[0m     indexer \u001b[38;5;241m=\u001b[39m [indexer]\n",
      "File \u001b[0;32m/opt/homebrew/lib/python3.9/site-packages/pandas/core/indexes/base.py:3810\u001b[0m, in \u001b[0;36mIndex.get_loc\u001b[0;34m(self, key, method, tolerance)\u001b[0m\n\u001b[1;32m   3805\u001b[0m         \u001b[38;5;28;01mraise\u001b[39;00m \u001b[38;5;167;01mKeyError\u001b[39;00m(key) \u001b[38;5;28;01mfrom\u001b[39;00m \u001b[38;5;21;01merr\u001b[39;00m\n\u001b[1;32m   3806\u001b[0m     \u001b[38;5;28;01mexcept\u001b[39;00m \u001b[38;5;167;01mTypeError\u001b[39;00m:\n\u001b[1;32m   3807\u001b[0m         \u001b[38;5;66;03m# If we have a listlike key, _check_indexing_error will raise\u001b[39;00m\n\u001b[1;32m   3808\u001b[0m         \u001b[38;5;66;03m#  InvalidIndexError. Otherwise we fall through and re-raise\u001b[39;00m\n\u001b[1;32m   3809\u001b[0m         \u001b[38;5;66;03m#  the TypeError.\u001b[39;00m\n\u001b[0;32m-> 3810\u001b[0m         \u001b[38;5;28;43mself\u001b[39;49m\u001b[38;5;241;43m.\u001b[39;49m\u001b[43m_check_indexing_error\u001b[49m\u001b[43m(\u001b[49m\u001b[43mkey\u001b[49m\u001b[43m)\u001b[49m\n\u001b[1;32m   3811\u001b[0m         \u001b[38;5;28;01mraise\u001b[39;00m\n\u001b[1;32m   3813\u001b[0m \u001b[38;5;66;03m# GH#42269\u001b[39;00m\n",
      "File \u001b[0;32m/opt/homebrew/lib/python3.9/site-packages/pandas/core/indexes/base.py:5966\u001b[0m, in \u001b[0;36mIndex._check_indexing_error\u001b[0;34m(self, key)\u001b[0m\n\u001b[1;32m   5962\u001b[0m \u001b[38;5;28;01mdef\u001b[39;00m \u001b[38;5;21m_check_indexing_error\u001b[39m(\u001b[38;5;28mself\u001b[39m, key):\n\u001b[1;32m   5963\u001b[0m     \u001b[38;5;28;01mif\u001b[39;00m \u001b[38;5;129;01mnot\u001b[39;00m is_scalar(key):\n\u001b[1;32m   5964\u001b[0m         \u001b[38;5;66;03m# if key is not a scalar, directly raise an error (the code below\u001b[39;00m\n\u001b[1;32m   5965\u001b[0m         \u001b[38;5;66;03m# would convert to numpy arrays and raise later any way) - GH29926\u001b[39;00m\n\u001b[0;32m-> 5966\u001b[0m         \u001b[38;5;28;01mraise\u001b[39;00m InvalidIndexError(key)\n",
      "\u001b[0;31mInvalidIndexError\u001b[0m: (slice(0, 21, None),)"
     ]
    }
   ],
   "source": [
    "df_three_col.sort_values(by=['uu_id', \"week_number\"],inplace=True)\n",
    "df_three_col[0:21,]"
   ]
  },
  {
   "cell_type": "code",
   "execution_count": 21,
   "id": "801eb0fe",
   "metadata": {
    "execution": {
     "iopub.execute_input": "2023-05-10T02:17:02.849391Z",
     "iopub.status.busy": "2023-05-10T02:17:02.849278Z",
     "iopub.status.idle": "2023-05-10T02:17:02.852818Z",
     "shell.execute_reply": "2023-05-10T02:17:02.852551Z"
    }
   },
   "outputs": [
    {
     "name": "stdout",
     "output_type": "stream",
     "text": [
      "(13977, 3)\n"
     ]
    }
   ],
   "source": [
    "df_three_col = df_three_col.drop_duplicates()\n",
    "print(df_three_col.shape)"
   ]
  },
  {
   "cell_type": "code",
   "execution_count": 22,
   "id": "9586cdb7",
   "metadata": {
    "execution": {
     "iopub.execute_input": "2023-05-10T02:17:02.854246Z",
     "iopub.status.busy": "2023-05-10T02:17:02.854160Z",
     "iopub.status.idle": "2023-05-10T02:17:02.866677Z",
     "shell.execute_reply": "2023-05-10T02:17:02.866169Z"
    }
   },
   "outputs": [
    {
     "data": {
      "text/html": [
       "<div>\n",
       "<style scoped>\n",
       "    .dataframe tbody tr th:only-of-type {\n",
       "        vertical-align: middle;\n",
       "    }\n",
       "\n",
       "    .dataframe tbody tr th {\n",
       "        vertical-align: top;\n",
       "    }\n",
       "\n",
       "    .dataframe thead th {\n",
       "        text-align: right;\n",
       "    }\n",
       "</style>\n",
       "<table border=\"1\" class=\"dataframe\">\n",
       "  <thead>\n",
       "    <tr style=\"text-align: right;\">\n",
       "      <th></th>\n",
       "      <th>uu_id</th>\n",
       "      <th>week_number</th>\n",
       "      <th>total_claims</th>\n",
       "    </tr>\n",
       "  </thead>\n",
       "  <tbody>\n",
       "    <tr>\n",
       "      <th>1877</th>\n",
       "      <td>001cd9ae23064d7f0fd3cd327c873d8d</td>\n",
       "      <td>31</td>\n",
       "      <td>34</td>\n",
       "    </tr>\n",
       "    <tr>\n",
       "      <th>1873</th>\n",
       "      <td>001cd9ae23064d7f0fd3cd327c873d8d</td>\n",
       "      <td>33</td>\n",
       "      <td>10</td>\n",
       "    </tr>\n",
       "    <tr>\n",
       "      <th>14073</th>\n",
       "      <td>001cd9ae23064d7f0fd3cd327c873d8d</td>\n",
       "      <td>34</td>\n",
       "      <td>25</td>\n",
       "    </tr>\n",
       "    <tr>\n",
       "      <th>7254</th>\n",
       "      <td>001cd9ae23064d7f0fd3cd327c873d8d</td>\n",
       "      <td>35</td>\n",
       "      <td>10</td>\n",
       "    </tr>\n",
       "    <tr>\n",
       "      <th>1872</th>\n",
       "      <td>001cd9ae23064d7f0fd3cd327c873d8d</td>\n",
       "      <td>36</td>\n",
       "      <td>10</td>\n",
       "    </tr>\n",
       "    <tr>\n",
       "      <th>1871</th>\n",
       "      <td>001cd9ae23064d7f0fd3cd327c873d8d</td>\n",
       "      <td>37</td>\n",
       "      <td>13</td>\n",
       "    </tr>\n",
       "    <tr>\n",
       "      <th>10905</th>\n",
       "      <td>005be9532fd717dc36d4be318fd9ad25</td>\n",
       "      <td>1</td>\n",
       "      <td>20</td>\n",
       "    </tr>\n",
       "    <tr>\n",
       "      <th>10906</th>\n",
       "      <td>005be9532fd717dc36d4be318fd9ad25</td>\n",
       "      <td>2</td>\n",
       "      <td>19</td>\n",
       "    </tr>\n",
       "    <tr>\n",
       "      <th>10910</th>\n",
       "      <td>005be9532fd717dc36d4be318fd9ad25</td>\n",
       "      <td>3</td>\n",
       "      <td>19</td>\n",
       "    </tr>\n",
       "    <tr>\n",
       "      <th>8603</th>\n",
       "      <td>005be9532fd717dc36d4be318fd9ad25</td>\n",
       "      <td>5</td>\n",
       "      <td>15</td>\n",
       "    </tr>\n",
       "    <tr>\n",
       "      <th>8604</th>\n",
       "      <td>005be9532fd717dc36d4be318fd9ad25</td>\n",
       "      <td>6</td>\n",
       "      <td>10</td>\n",
       "    </tr>\n",
       "    <tr>\n",
       "      <th>10907</th>\n",
       "      <td>005be9532fd717dc36d4be318fd9ad25</td>\n",
       "      <td>7</td>\n",
       "      <td>11</td>\n",
       "    </tr>\n",
       "    <tr>\n",
       "      <th>3813</th>\n",
       "      <td>005be9532fd717dc36d4be318fd9ad25</td>\n",
       "      <td>8</td>\n",
       "      <td>19</td>\n",
       "    </tr>\n",
       "    <tr>\n",
       "      <th>10902</th>\n",
       "      <td>005be9532fd717dc36d4be318fd9ad25</td>\n",
       "      <td>9</td>\n",
       "      <td>18</td>\n",
       "    </tr>\n",
       "    <tr>\n",
       "      <th>8602</th>\n",
       "      <td>005be9532fd717dc36d4be318fd9ad25</td>\n",
       "      <td>10</td>\n",
       "      <td>12</td>\n",
       "    </tr>\n",
       "    <tr>\n",
       "      <th>3350</th>\n",
       "      <td>005be9532fd717dc36d4be318fd9ad25</td>\n",
       "      <td>14</td>\n",
       "      <td>11</td>\n",
       "    </tr>\n",
       "    <tr>\n",
       "      <th>3814</th>\n",
       "      <td>005be9532fd717dc36d4be318fd9ad25</td>\n",
       "      <td>16</td>\n",
       "      <td>11</td>\n",
       "    </tr>\n",
       "    <tr>\n",
       "      <th>10903</th>\n",
       "      <td>005be9532fd717dc36d4be318fd9ad25</td>\n",
       "      <td>19</td>\n",
       "      <td>10</td>\n",
       "    </tr>\n",
       "    <tr>\n",
       "      <th>13455</th>\n",
       "      <td>005be9532fd717dc36d4be318fd9ad25</td>\n",
       "      <td>20</td>\n",
       "      <td>27</td>\n",
       "    </tr>\n",
       "    <tr>\n",
       "      <th>8601</th>\n",
       "      <td>005be9532fd717dc36d4be318fd9ad25</td>\n",
       "      <td>24</td>\n",
       "      <td>10</td>\n",
       "    </tr>\n",
       "    <tr>\n",
       "      <th>13456</th>\n",
       "      <td>005be9532fd717dc36d4be318fd9ad25</td>\n",
       "      <td>25</td>\n",
       "      <td>24</td>\n",
       "    </tr>\n",
       "  </tbody>\n",
       "</table>\n",
       "</div>"
      ],
      "text/plain": [
       "                                  uu_id  week_number  total_claims\n",
       "1877   001cd9ae23064d7f0fd3cd327c873d8d           31            34\n",
       "1873   001cd9ae23064d7f0fd3cd327c873d8d           33            10\n",
       "14073  001cd9ae23064d7f0fd3cd327c873d8d           34            25\n",
       "7254   001cd9ae23064d7f0fd3cd327c873d8d           35            10\n",
       "1872   001cd9ae23064d7f0fd3cd327c873d8d           36            10\n",
       "1871   001cd9ae23064d7f0fd3cd327c873d8d           37            13\n",
       "10905  005be9532fd717dc36d4be318fd9ad25            1            20\n",
       "10906  005be9532fd717dc36d4be318fd9ad25            2            19\n",
       "10910  005be9532fd717dc36d4be318fd9ad25            3            19\n",
       "8603   005be9532fd717dc36d4be318fd9ad25            5            15\n",
       "8604   005be9532fd717dc36d4be318fd9ad25            6            10\n",
       "10907  005be9532fd717dc36d4be318fd9ad25            7            11\n",
       "3813   005be9532fd717dc36d4be318fd9ad25            8            19\n",
       "10902  005be9532fd717dc36d4be318fd9ad25            9            18\n",
       "8602   005be9532fd717dc36d4be318fd9ad25           10            12\n",
       "3350   005be9532fd717dc36d4be318fd9ad25           14            11\n",
       "3814   005be9532fd717dc36d4be318fd9ad25           16            11\n",
       "10903  005be9532fd717dc36d4be318fd9ad25           19            10\n",
       "13455  005be9532fd717dc36d4be318fd9ad25           20            27\n",
       "8601   005be9532fd717dc36d4be318fd9ad25           24            10\n",
       "13456  005be9532fd717dc36d4be318fd9ad25           25            24"
      ]
     },
     "execution_count": 22,
     "metadata": {},
     "output_type": "execute_result"
    }
   ],
   "source": [
    "df_three_col.sort_values(by=['uu_id', \"week_number\"],inplace=True)\n",
    "df_three_col.head(21)"
   ]
  },
  {
   "cell_type": "code",
   "execution_count": 23,
   "id": "7f250db2",
   "metadata": {
    "execution": {
     "iopub.execute_input": "2023-05-10T02:17:02.870685Z",
     "iopub.status.busy": "2023-05-10T02:17:02.870282Z",
     "iopub.status.idle": "2023-05-10T02:17:02.876136Z",
     "shell.execute_reply": "2023-05-10T02:17:02.875698Z"
    }
   },
   "outputs": [],
   "source": [
    "df_three_col = df_three_col.drop_duplicates()\n",
    "#print(df_three_col.shape)"
   ]
  },
  {
   "cell_type": "code",
   "execution_count": 24,
   "id": "40831874",
   "metadata": {
    "execution": {
     "iopub.execute_input": "2023-05-10T02:17:02.878784Z",
     "iopub.status.busy": "2023-05-10T02:17:02.878620Z",
     "iopub.status.idle": "2023-05-10T02:17:02.885542Z",
     "shell.execute_reply": "2023-05-10T02:17:02.885063Z"
    }
   },
   "outputs": [
    {
     "data": {
      "text/html": [
       "<div>\n",
       "<style scoped>\n",
       "    .dataframe tbody tr th:only-of-type {\n",
       "        vertical-align: middle;\n",
       "    }\n",
       "\n",
       "    .dataframe tbody tr th {\n",
       "        vertical-align: top;\n",
       "    }\n",
       "\n",
       "    .dataframe thead th {\n",
       "        text-align: right;\n",
       "    }\n",
       "</style>\n",
       "<table border=\"1\" class=\"dataframe\">\n",
       "  <thead>\n",
       "    <tr style=\"text-align: right;\">\n",
       "      <th></th>\n",
       "      <th>uu_id</th>\n",
       "      <th>week_number</th>\n",
       "      <th>total_claims</th>\n",
       "    </tr>\n",
       "  </thead>\n",
       "  <tbody>\n",
       "    <tr>\n",
       "      <th>411</th>\n",
       "      <td>fec479d0202d6e1e3f051a9ee902ff5d</td>\n",
       "      <td>35</td>\n",
       "      <td>27</td>\n",
       "    </tr>\n",
       "    <tr>\n",
       "      <th>7566</th>\n",
       "      <td>fec479d0202d6e1e3f051a9ee902ff5d</td>\n",
       "      <td>36</td>\n",
       "      <td>28</td>\n",
       "    </tr>\n",
       "    <tr>\n",
       "      <th>410</th>\n",
       "      <td>fec479d0202d6e1e3f051a9ee902ff5d</td>\n",
       "      <td>37</td>\n",
       "      <td>28</td>\n",
       "    </tr>\n",
       "  </tbody>\n",
       "</table>\n",
       "</div>"
      ],
      "text/plain": [
       "                                 uu_id  week_number  total_claims\n",
       "411   fec479d0202d6e1e3f051a9ee902ff5d           35            27\n",
       "7566  fec479d0202d6e1e3f051a9ee902ff5d           36            28\n",
       "410   fec479d0202d6e1e3f051a9ee902ff5d           37            28"
      ]
     },
     "execution_count": 24,
     "metadata": {},
     "output_type": "execute_result"
    }
   ],
   "source": [
    "df_three_col.sort_values(by=['uu_id', \"week_number\"],inplace=True)\n",
    "#df_three_col.head(21)\n",
    "df_three_col.tail(3)"
   ]
  },
  {
   "cell_type": "code",
   "execution_count": 25,
   "id": "88b52f45",
   "metadata": {
    "execution": {
     "iopub.execute_input": "2023-05-10T02:17:02.887404Z",
     "iopub.status.busy": "2023-05-10T02:17:02.887257Z",
     "iopub.status.idle": "2023-05-10T02:17:02.890459Z",
     "shell.execute_reply": "2023-05-10T02:17:02.890113Z"
    }
   },
   "outputs": [],
   "source": [
    "res = pd.DataFrame(columns = ['uu_id', 'total_claims', 'week_number'])"
   ]
  },
  {
   "cell_type": "code",
   "execution_count": 26,
   "id": "26cbbe5a",
   "metadata": {
    "execution": {
     "iopub.execute_input": "2023-05-10T02:17:02.891896Z",
     "iopub.status.busy": "2023-05-10T02:17:02.891802Z",
     "iopub.status.idle": "2023-05-10T02:17:03.155735Z",
     "shell.execute_reply": "2023-05-10T02:17:03.155419Z"
    },
    "lines_to_next_cell": 2
   },
   "outputs": [],
   "source": [
    "for cur_uu_id in df_pred_list['uu_id']:\n",
    "    #print(uu_id)\n",
    "    test_data = df_three_col[df_three_col[\"uu_id\"].isin([cur_uu_id]) ]\n",
    "    test_data = test_data.tail(3)\n",
    "    y_pred = int(test_data[\"total_claims\"].mean())\n",
    "    cur_row =  pd.DataFrame([[cur_uu_id, y_pred, 41]], columns=['uu_id', 'total_claims', 'week_number'] )\n",
    "    res = pd.concat([res,cur_row] ,ignore_index = True)"
   ]
  },
  {
   "cell_type": "code",
   "execution_count": 27,
   "id": "bb3ad244",
   "metadata": {
    "execution": {
     "iopub.execute_input": "2023-05-10T02:17:03.157449Z",
     "iopub.status.busy": "2023-05-10T02:17:03.157353Z",
     "iopub.status.idle": "2023-05-10T02:17:03.160432Z",
     "shell.execute_reply": "2023-05-10T02:17:03.160143Z"
    },
    "lines_to_next_cell": 2
   },
   "outputs": [],
   "source": [
    "res.to_csv(\"Nov19_submission_prediction_output.csv\", index=False)"
   ]
  }
 ],
 "metadata": {
  "jupytext": {
   "cell_metadata_filter": "-all",
   "main_language": "python",
   "notebook_metadata_filter": "-all"
  },
  "language_info": {
   "codemirror_mode": {
    "name": "ipython",
    "version": 3
   },
   "file_extension": ".py",
   "mimetype": "text/x-python",
   "name": "python",
   "nbconvert_exporter": "python",
   "pygments_lexer": "ipython3",
   "version": "3.9.12"
  }
 },
 "nbformat": 4,
 "nbformat_minor": 5
}
