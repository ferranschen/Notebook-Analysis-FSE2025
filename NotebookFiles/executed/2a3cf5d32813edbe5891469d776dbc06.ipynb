{
 "cells": [
  {
   "cell_type": "code",
   "execution_count": 1,
   "id": "64a27b60",
   "metadata": {
    "execution": {
     "iopub.execute_input": "2023-05-10T02:15:34.176132Z",
     "iopub.status.busy": "2023-05-10T02:15:34.175696Z",
     "iopub.status.idle": "2023-05-10T02:15:35.110587Z",
     "shell.execute_reply": "2023-05-10T02:15:35.110171Z"
    }
   },
   "outputs": [],
   "source": [
    "import db_dtypes\n",
    "import matplotlib.pyplot as plt\n",
    "import os\n",
    "import pandas as pd\n",
    "from google.cloud import bigquery\n",
    "from google.oauth2 import service_account\n",
    "from google.cloud.bigquery import magics\n",
    "from sklearn.model_selection import train_test_split \n",
    "from sklearn.linear_model import LinearRegression\n",
    "from sklearn.ensemble import RandomForestRegressor\n",
    "from sklearn import metrics\n",
    "import numpy as np\n",
    "import seaborn as sns"
   ]
  },
  {
   "cell_type": "code",
   "execution_count": 2,
   "id": "6a9c0694",
   "metadata": {
    "execution": {
     "iopub.execute_input": "2023-05-10T02:15:35.113328Z",
     "iopub.status.busy": "2023-05-10T02:15:35.112980Z",
     "iopub.status.idle": "2023-05-10T02:15:35.121769Z",
     "shell.execute_reply": "2023-05-10T02:15:35.121389Z"
    }
   },
   "outputs": [],
   "source": [
    "BIGQUERY_PROJECT = 'ironhacks-data'\n",
    "bigquery_client = bigquery.Client(project=BIGQUERY_PROJECT)"
   ]
  },
  {
   "cell_type": "code",
   "execution_count": 3,
   "id": "9ea64df7",
   "metadata": {
    "execution": {
     "iopub.execute_input": "2023-05-10T02:15:35.123539Z",
     "iopub.status.busy": "2023-05-10T02:15:35.123424Z",
     "iopub.status.idle": "2023-05-10T02:15:35.125372Z",
     "shell.execute_reply": "2023-05-10T02:15:35.125112Z"
    }
   },
   "outputs": [],
   "source": [
    "query = \"\"\"\n",
    "SELECT *\n",
    "FROM `ironhacks-data.ironhacks_competition.unemployment_data`\n",
    "\"\"\""
   ]
  },
  {
   "cell_type": "code",
   "execution_count": 4,
   "id": "e17e311f",
   "metadata": {
    "execution": {
     "iopub.execute_input": "2023-05-10T02:15:35.126859Z",
     "iopub.status.busy": "2023-05-10T02:15:35.126737Z",
     "iopub.status.idle": "2023-05-10T02:15:37.721142Z",
     "shell.execute_reply": "2023-05-10T02:15:37.720368Z"
    }
   },
   "outputs": [],
   "source": [
    "query_job = bigquery_client.query(query)\n",
    "unemployment_data = query_job.to_dataframe()"
   ]
  },
  {
   "cell_type": "code",
   "execution_count": 5,
   "id": "bebe5c81",
   "metadata": {
    "execution": {
     "iopub.execute_input": "2023-05-10T02:15:37.725173Z",
     "iopub.status.busy": "2023-05-10T02:15:37.724850Z",
     "iopub.status.idle": "2023-05-10T02:15:37.750002Z",
     "shell.execute_reply": "2023-05-10T02:15:37.749552Z"
    }
   },
   "outputs": [],
   "source": [
    "unemployment_data = unemployment_data.drop_duplicates()"
   ]
  },
  {
   "cell_type": "code",
   "execution_count": 6,
   "id": "d0cd7e50",
   "metadata": {
    "execution": {
     "iopub.execute_input": "2023-05-10T02:15:37.752551Z",
     "iopub.status.busy": "2023-05-10T02:15:37.752360Z",
     "iopub.status.idle": "2023-05-10T02:15:37.764656Z",
     "shell.execute_reply": "2023-05-10T02:15:37.764305Z"
    }
   },
   "outputs": [],
   "source": [
    "unemployment_data.fillna(0, inplace=True)"
   ]
  },
  {
   "cell_type": "code",
   "execution_count": 7,
   "id": "631ebc87",
   "metadata": {
    "execution": {
     "iopub.execute_input": "2023-05-10T02:15:37.766664Z",
     "iopub.status.busy": "2023-05-10T02:15:37.766495Z",
     "iopub.status.idle": "2023-05-10T02:15:37.769879Z",
     "shell.execute_reply": "2023-05-10T02:15:37.769467Z"
    }
   },
   "outputs": [],
   "source": [
    "unemployment_data = unemployment_data.filter(['uu_id', 'week_number','total_claims','edu_8th_or_less', 'edu_grades_9_11',\n",
    "       'edu_hs_grad_equiv', 'edu_post_hs','race_amerindian', 'race_asian', 'race_black','race_white'])"
   ]
  },
  {
   "cell_type": "code",
   "execution_count": 8,
   "id": "195aa934",
   "metadata": {
    "execution": {
     "iopub.execute_input": "2023-05-10T02:15:37.771763Z",
     "iopub.status.busy": "2023-05-10T02:15:37.771636Z",
     "iopub.status.idle": "2023-05-10T02:15:37.780517Z",
     "shell.execute_reply": "2023-05-10T02:15:37.780169Z"
    }
   },
   "outputs": [
    {
     "data": {
      "text/plain": [
       "uu_id                0\n",
       "week_number          0\n",
       "total_claims         0\n",
       "edu_8th_or_less      0\n",
       "edu_grades_9_11      0\n",
       "edu_hs_grad_equiv    0\n",
       "edu_post_hs          0\n",
       "race_amerindian      0\n",
       "race_asian           0\n",
       "race_black           0\n",
       "race_white           0\n",
       "dtype: int64"
      ]
     },
     "execution_count": 8,
     "metadata": {},
     "output_type": "execute_result"
    }
   ],
   "source": [
    "unemployment_data.isnull().sum()"
   ]
  },
  {
   "cell_type": "code",
   "execution_count": 9,
   "id": "46120628",
   "metadata": {
    "execution": {
     "iopub.execute_input": "2023-05-10T02:15:37.782183Z",
     "iopub.status.busy": "2023-05-10T02:15:37.782049Z",
     "iopub.status.idle": "2023-05-10T02:15:37.788140Z",
     "shell.execute_reply": "2023-05-10T02:15:37.787844Z"
    }
   },
   "outputs": [],
   "source": [
    "unemployment_data = unemployment_data.sort_values(by=['uu_id','week_number']).reset_index()"
   ]
  },
  {
   "cell_type": "code",
   "execution_count": 10,
   "id": "5fce7878",
   "metadata": {
    "execution": {
     "iopub.execute_input": "2023-05-10T02:15:37.789820Z",
     "iopub.status.busy": "2023-05-10T02:15:37.789710Z",
     "iopub.status.idle": "2023-05-10T02:15:37.792236Z",
     "shell.execute_reply": "2023-05-10T02:15:37.791943Z"
    }
   },
   "outputs": [],
   "source": [
    "unemployment_data = unemployment_data.drop('index', axis=1)"
   ]
  },
  {
   "cell_type": "code",
   "execution_count": 11,
   "id": "3473fb51",
   "metadata": {
    "execution": {
     "iopub.execute_input": "2023-05-10T02:15:37.793835Z",
     "iopub.status.busy": "2023-05-10T02:15:37.793725Z",
     "iopub.status.idle": "2023-05-10T02:15:37.799535Z",
     "shell.execute_reply": "2023-05-10T02:15:37.799284Z"
    },
    "lines_to_next_cell": 1
   },
   "outputs": [
    {
     "data": {
      "text/html": [
       "<div>\n",
       "<style scoped>\n",
       "    .dataframe tbody tr th:only-of-type {\n",
       "        vertical-align: middle;\n",
       "    }\n",
       "\n",
       "    .dataframe tbody tr th {\n",
       "        vertical-align: top;\n",
       "    }\n",
       "\n",
       "    .dataframe thead th {\n",
       "        text-align: right;\n",
       "    }\n",
       "</style>\n",
       "<table border=\"1\" class=\"dataframe\">\n",
       "  <thead>\n",
       "    <tr style=\"text-align: right;\">\n",
       "      <th></th>\n",
       "      <th>uu_id</th>\n",
       "      <th>week_number</th>\n",
       "      <th>total_claims</th>\n",
       "      <th>edu_8th_or_less</th>\n",
       "      <th>edu_grades_9_11</th>\n",
       "      <th>edu_hs_grad_equiv</th>\n",
       "      <th>edu_post_hs</th>\n",
       "      <th>race_amerindian</th>\n",
       "      <th>race_asian</th>\n",
       "      <th>race_black</th>\n",
       "      <th>race_white</th>\n",
       "    </tr>\n",
       "  </thead>\n",
       "  <tbody>\n",
       "    <tr>\n",
       "      <th>0</th>\n",
       "      <td>001cd9ae23064d7f0fd3cd327c873d8d</td>\n",
       "      <td>31</td>\n",
       "      <td>34</td>\n",
       "      <td>0</td>\n",
       "      <td>0</td>\n",
       "      <td>30</td>\n",
       "      <td>0</td>\n",
       "      <td>0</td>\n",
       "      <td>0</td>\n",
       "      <td>0</td>\n",
       "      <td>34</td>\n",
       "    </tr>\n",
       "    <tr>\n",
       "      <th>1</th>\n",
       "      <td>001cd9ae23064d7f0fd3cd327c873d8d</td>\n",
       "      <td>33</td>\n",
       "      <td>10</td>\n",
       "      <td>0</td>\n",
       "      <td>0</td>\n",
       "      <td>0</td>\n",
       "      <td>0</td>\n",
       "      <td>0</td>\n",
       "      <td>0</td>\n",
       "      <td>0</td>\n",
       "      <td>10</td>\n",
       "    </tr>\n",
       "    <tr>\n",
       "      <th>2</th>\n",
       "      <td>001cd9ae23064d7f0fd3cd327c873d8d</td>\n",
       "      <td>34</td>\n",
       "      <td>25</td>\n",
       "      <td>0</td>\n",
       "      <td>0</td>\n",
       "      <td>0</td>\n",
       "      <td>0</td>\n",
       "      <td>0</td>\n",
       "      <td>0</td>\n",
       "      <td>0</td>\n",
       "      <td>0</td>\n",
       "    </tr>\n",
       "    <tr>\n",
       "      <th>3</th>\n",
       "      <td>001cd9ae23064d7f0fd3cd327c873d8d</td>\n",
       "      <td>35</td>\n",
       "      <td>10</td>\n",
       "      <td>0</td>\n",
       "      <td>0</td>\n",
       "      <td>0</td>\n",
       "      <td>0</td>\n",
       "      <td>0</td>\n",
       "      <td>0</td>\n",
       "      <td>0</td>\n",
       "      <td>0</td>\n",
       "    </tr>\n",
       "    <tr>\n",
       "      <th>4</th>\n",
       "      <td>001cd9ae23064d7f0fd3cd327c873d8d</td>\n",
       "      <td>36</td>\n",
       "      <td>10</td>\n",
       "      <td>0</td>\n",
       "      <td>0</td>\n",
       "      <td>0</td>\n",
       "      <td>0</td>\n",
       "      <td>0</td>\n",
       "      <td>0</td>\n",
       "      <td>0</td>\n",
       "      <td>0</td>\n",
       "    </tr>\n",
       "  </tbody>\n",
       "</table>\n",
       "</div>"
      ],
      "text/plain": [
       "                              uu_id  week_number  total_claims  \\\n",
       "0  001cd9ae23064d7f0fd3cd327c873d8d           31            34   \n",
       "1  001cd9ae23064d7f0fd3cd327c873d8d           33            10   \n",
       "2  001cd9ae23064d7f0fd3cd327c873d8d           34            25   \n",
       "3  001cd9ae23064d7f0fd3cd327c873d8d           35            10   \n",
       "4  001cd9ae23064d7f0fd3cd327c873d8d           36            10   \n",
       "\n",
       "   edu_8th_or_less  edu_grades_9_11  edu_hs_grad_equiv  edu_post_hs  \\\n",
       "0                0                0                 30            0   \n",
       "1                0                0                  0            0   \n",
       "2                0                0                  0            0   \n",
       "3                0                0                  0            0   \n",
       "4                0                0                  0            0   \n",
       "\n",
       "   race_amerindian  race_asian  race_black  race_white  \n",
       "0                0           0           0          34  \n",
       "1                0           0           0          10  \n",
       "2                0           0           0           0  \n",
       "3                0           0           0           0  \n",
       "4                0           0           0           0  "
      ]
     },
     "execution_count": 11,
     "metadata": {},
     "output_type": "execute_result"
    }
   ],
   "source": [
    "unemployment_data.head()"
   ]
  },
  {
   "cell_type": "code",
   "execution_count": 12,
   "id": "c6cde598",
   "metadata": {
    "execution": {
     "iopub.execute_input": "2023-05-10T02:15:37.801037Z",
     "iopub.status.busy": "2023-05-10T02:15:37.800948Z",
     "iopub.status.idle": "2023-05-10T02:15:37.803913Z",
     "shell.execute_reply": "2023-05-10T02:15:37.803641Z"
    }
   },
   "outputs": [],
   "source": [
    "def predict_claims(uuid, week):\n",
    "    data = unemployment_data[unemployment_data.uu_id == uuid].copy()\n",
    "\n",
    "    # plt.plot(data.week_number, data.total_claims)\n",
    "    # plt.show()\n",
    "    \n",
    "    X = data.drop(['uu_id','total_claims'], axis = 1)\n",
    "    y = data[['total_claims']]\n",
    "    \n",
    "    \n",
    "    \n",
    "    # Splitting data into training and test sets\n",
    "    X_train, X_test, y_train, y_test = train_test_split(X, y, test_size = 0.8, random_state = 101)\n",
    "    # Train the Model\n",
    "\n",
    "    regr = RandomForestRegressor(n_estimators = 10, max_depth = 10, random_state = 101)\n",
    "    regr.fit(X_train, y_train.values.ravel())\n",
    "    \n",
    "    predictions = regr.predict(X_test)\n",
    "    \n",
    "    result = X_test\n",
    "    result['total_claims'] = y_test\n",
    "    result['prediction'] = predictions.tolist()\n",
    "    \n",
    "    x_axis = X_test.week_number"
   ]
  },
  {
   "cell_type": "markdown",
   "id": "e821a8d5",
   "metadata": {},
   "source": [
    "    plt.scatter(x_axis, y_test, c = 'b', alpha = 0.5, marker = '.', label = 'Real')\n",
    "    plt.scatter(x_axis, predictions, c = 'r', alpha = 0.5, marker = '.', label = 'Predicted')"
   ]
  },
  {
   "cell_type": "markdown",
   "id": "42bd5a75",
   "metadata": {},
   "source": [
    "    plt.xlabel('Week Number')\n",
    "    plt.ylabel('Total Claims')\n",
    "    plt.title('Tract: '+uuid)"
   ]
  },
  {
   "cell_type": "markdown",
   "id": "e79b39ca",
   "metadata": {},
   "source": [
    "    plt.grid(color = '#D3D3D3', linestyle = 'solid')"
   ]
  },
  {
   "cell_type": "markdown",
   "id": "a5fca0fa",
   "metadata": {},
   "source": [
    "    plt.legend(loc = 'lower right')"
   ]
  },
  {
   "cell_type": "markdown",
   "id": "c958bd67",
   "metadata": {},
   "source": [
    "    plt.show()"
   ]
  },
  {
   "cell_type": "code",
   "execution_count": 13,
   "id": "df6294a0",
   "metadata": {
    "execution": {
     "iopub.execute_input": "2023-05-10T02:15:37.805327Z",
     "iopub.status.busy": "2023-05-10T02:15:37.805243Z",
     "iopub.status.idle": "2023-05-10T02:15:37.921565Z",
     "shell.execute_reply": "2023-05-10T02:15:37.921300Z"
    }
   },
   "outputs": [
    {
     "ename": "NameError",
     "evalue": "name 'result' is not defined",
     "output_type": "error",
     "traceback": [
      "\u001b[0;31m---------------------------------------------------------------------------\u001b[0m",
      "\u001b[0;31mNameError\u001b[0m                                 Traceback (most recent call last)",
      "Cell \u001b[0;32mIn [13], line 1\u001b[0m\n\u001b[0;32m----> 1\u001b[0m result \u001b[38;5;241m=\u001b[39m \u001b[43mresult\u001b[49m\u001b[38;5;241m.\u001b[39msort_values(by \u001b[38;5;241m=\u001b[39m \u001b[38;5;124m'\u001b[39m\u001b[38;5;124mweek_number\u001b[39m\u001b[38;5;124m'\u001b[39m)\n\u001b[1;32m      3\u001b[0m \u001b[38;5;28;01mreturn\u001b[39;00m result\u001b[38;5;241m.\u001b[39mprediction\u001b[38;5;241m.\u001b[39miloc[\u001b[38;5;241m-\u001b[39m\u001b[38;5;241m1\u001b[39m]\u001b[38;5;241m.\u001b[39mround()\n",
      "\u001b[0;31mNameError\u001b[0m: name 'result' is not defined"
     ]
    }
   ],
   "source": [
    "    result = result.sort_values(by = 'week_number')\n",
    "    \n",
    "    return result.prediction.iloc[-1].round()"
   ]
  },
  {
   "cell_type": "code",
   "execution_count": null,
   "id": "65db406c",
   "metadata": {},
   "outputs": [],
   "source": [
    "    "
   ]
  },
  {
   "cell_type": "code",
   "execution_count": 14,
   "id": "15539cf4",
   "metadata": {
    "execution": {
     "iopub.execute_input": "2023-05-10T02:15:37.923029Z",
     "iopub.status.busy": "2023-05-10T02:15:37.922944Z",
     "iopub.status.idle": "2023-05-10T02:15:37.980613Z",
     "shell.execute_reply": "2023-05-10T02:15:37.980346Z"
    }
   },
   "outputs": [
    {
     "ename": "ValueError",
     "evalue": "With n_samples=0, test_size=0.8 and train_size=None, the resulting train set will be empty. Adjust any of the aforementioned parameters.",
     "output_type": "error",
     "traceback": [
      "\u001b[0;31m---------------------------------------------------------------------------\u001b[0m",
      "\u001b[0;31mValueError\u001b[0m                                Traceback (most recent call last)",
      "Cell \u001b[0;32mIn [14], line 1\u001b[0m\n\u001b[0;32m----> 1\u001b[0m \u001b[43mpredict_claims\u001b[49m\u001b[43m(\u001b[49m\u001b[38;5;124;43m'\u001b[39;49m\u001b[38;5;124;43m0392ee82d61e6b95e117d22d8f732b12\u001b[39;49m\u001b[38;5;124;43m'\u001b[39;49m\u001b[43m,\u001b[49m\u001b[38;5;241;43m39\u001b[39;49m\u001b[43m)\u001b[49m\n",
      "Cell \u001b[0;32mIn [12], line 13\u001b[0m, in \u001b[0;36mpredict_claims\u001b[0;34m(uuid, week)\u001b[0m\n\u001b[1;32m      8\u001b[0m y \u001b[38;5;241m=\u001b[39m data[[\u001b[38;5;124m'\u001b[39m\u001b[38;5;124mtotal_claims\u001b[39m\u001b[38;5;124m'\u001b[39m]]\n\u001b[1;32m     12\u001b[0m \u001b[38;5;66;03m# Splitting data into training and test sets\u001b[39;00m\n\u001b[0;32m---> 13\u001b[0m X_train, X_test, y_train, y_test \u001b[38;5;241m=\u001b[39m \u001b[43mtrain_test_split\u001b[49m\u001b[43m(\u001b[49m\u001b[43mX\u001b[49m\u001b[43m,\u001b[49m\u001b[43m \u001b[49m\u001b[43my\u001b[49m\u001b[43m,\u001b[49m\u001b[43m \u001b[49m\u001b[43mtest_size\u001b[49m\u001b[43m \u001b[49m\u001b[38;5;241;43m=\u001b[39;49m\u001b[43m \u001b[49m\u001b[38;5;241;43m0.8\u001b[39;49m\u001b[43m,\u001b[49m\u001b[43m \u001b[49m\u001b[43mrandom_state\u001b[49m\u001b[43m \u001b[49m\u001b[38;5;241;43m=\u001b[39;49m\u001b[43m \u001b[49m\u001b[38;5;241;43m101\u001b[39;49m\u001b[43m)\u001b[49m\n\u001b[1;32m     14\u001b[0m \u001b[38;5;66;03m# Train the Model\u001b[39;00m\n\u001b[1;32m     16\u001b[0m regr \u001b[38;5;241m=\u001b[39m RandomForestRegressor(n_estimators \u001b[38;5;241m=\u001b[39m \u001b[38;5;241m10\u001b[39m, max_depth \u001b[38;5;241m=\u001b[39m \u001b[38;5;241m10\u001b[39m, random_state \u001b[38;5;241m=\u001b[39m \u001b[38;5;241m101\u001b[39m)\n",
      "File \u001b[0;32m/opt/homebrew/lib/python3.9/site-packages/sklearn/model_selection/_split.py:2562\u001b[0m, in \u001b[0;36mtrain_test_split\u001b[0;34m(test_size, train_size, random_state, shuffle, stratify, *arrays)\u001b[0m\n\u001b[1;32m   2559\u001b[0m arrays \u001b[38;5;241m=\u001b[39m indexable(\u001b[38;5;241m*\u001b[39marrays)\n\u001b[1;32m   2561\u001b[0m n_samples \u001b[38;5;241m=\u001b[39m _num_samples(arrays[\u001b[38;5;241m0\u001b[39m])\n\u001b[0;32m-> 2562\u001b[0m n_train, n_test \u001b[38;5;241m=\u001b[39m \u001b[43m_validate_shuffle_split\u001b[49m\u001b[43m(\u001b[49m\n\u001b[1;32m   2563\u001b[0m \u001b[43m    \u001b[49m\u001b[43mn_samples\u001b[49m\u001b[43m,\u001b[49m\u001b[43m \u001b[49m\u001b[43mtest_size\u001b[49m\u001b[43m,\u001b[49m\u001b[43m \u001b[49m\u001b[43mtrain_size\u001b[49m\u001b[43m,\u001b[49m\u001b[43m \u001b[49m\u001b[43mdefault_test_size\u001b[49m\u001b[38;5;241;43m=\u001b[39;49m\u001b[38;5;241;43m0.25\u001b[39;49m\n\u001b[1;32m   2564\u001b[0m \u001b[43m\u001b[49m\u001b[43m)\u001b[49m\n\u001b[1;32m   2566\u001b[0m \u001b[38;5;28;01mif\u001b[39;00m shuffle \u001b[38;5;129;01mis\u001b[39;00m \u001b[38;5;28;01mFalse\u001b[39;00m:\n\u001b[1;32m   2567\u001b[0m     \u001b[38;5;28;01mif\u001b[39;00m stratify \u001b[38;5;129;01mis\u001b[39;00m \u001b[38;5;129;01mnot\u001b[39;00m \u001b[38;5;28;01mNone\u001b[39;00m:\n",
      "File \u001b[0;32m/opt/homebrew/lib/python3.9/site-packages/sklearn/model_selection/_split.py:2236\u001b[0m, in \u001b[0;36m_validate_shuffle_split\u001b[0;34m(n_samples, test_size, train_size, default_test_size)\u001b[0m\n\u001b[1;32m   2233\u001b[0m n_train, n_test \u001b[38;5;241m=\u001b[39m \u001b[38;5;28mint\u001b[39m(n_train), \u001b[38;5;28mint\u001b[39m(n_test)\n\u001b[1;32m   2235\u001b[0m \u001b[38;5;28;01mif\u001b[39;00m n_train \u001b[38;5;241m==\u001b[39m \u001b[38;5;241m0\u001b[39m:\n\u001b[0;32m-> 2236\u001b[0m     \u001b[38;5;28;01mraise\u001b[39;00m \u001b[38;5;167;01mValueError\u001b[39;00m(\n\u001b[1;32m   2237\u001b[0m         \u001b[38;5;124m\"\u001b[39m\u001b[38;5;124mWith n_samples=\u001b[39m\u001b[38;5;132;01m{}\u001b[39;00m\u001b[38;5;124m, test_size=\u001b[39m\u001b[38;5;132;01m{}\u001b[39;00m\u001b[38;5;124m and train_size=\u001b[39m\u001b[38;5;132;01m{}\u001b[39;00m\u001b[38;5;124m, the \u001b[39m\u001b[38;5;124m\"\u001b[39m\n\u001b[1;32m   2238\u001b[0m         \u001b[38;5;124m\"\u001b[39m\u001b[38;5;124mresulting train set will be empty. Adjust any of the \u001b[39m\u001b[38;5;124m\"\u001b[39m\n\u001b[1;32m   2239\u001b[0m         \u001b[38;5;124m\"\u001b[39m\u001b[38;5;124maforementioned parameters.\u001b[39m\u001b[38;5;124m\"\u001b[39m\u001b[38;5;241m.\u001b[39mformat(n_samples, test_size, train_size)\n\u001b[1;32m   2240\u001b[0m     )\n\u001b[1;32m   2242\u001b[0m \u001b[38;5;28;01mreturn\u001b[39;00m n_train, n_test\n",
      "\u001b[0;31mValueError\u001b[0m: With n_samples=0, test_size=0.8 and train_size=None, the resulting train set will be empty. Adjust any of the aforementioned parameters."
     ]
    }
   ],
   "source": [
    "predict_claims('0392ee82d61e6b95e117d22d8f732b12',39)"
   ]
  },
  {
   "cell_type": "code",
   "execution_count": 15,
   "id": "76b3ec33",
   "metadata": {
    "execution": {
     "iopub.execute_input": "2023-05-10T02:15:37.982085Z",
     "iopub.status.busy": "2023-05-10T02:15:37.982002Z",
     "iopub.status.idle": "2023-05-10T02:15:37.983678Z",
     "shell.execute_reply": "2023-05-10T02:15:37.983430Z"
    }
   },
   "outputs": [],
   "source": [
    "query = \"\"\"\n",
    "SELECT *\n",
    "FROM `ironhacks-data.ironhacks_competition.prediction_list`\n",
    "\"\"\""
   ]
  },
  {
   "cell_type": "code",
   "execution_count": 16,
   "id": "a79cd80a",
   "metadata": {
    "execution": {
     "iopub.execute_input": "2023-05-10T02:15:37.985935Z",
     "iopub.status.busy": "2023-05-10T02:15:37.985627Z",
     "iopub.status.idle": "2023-05-10T02:15:39.560515Z",
     "shell.execute_reply": "2023-05-10T02:15:39.558339Z"
    }
   },
   "outputs": [],
   "source": [
    "query_job = bigquery_client.query(query)\n",
    "prediction_list = query_job.to_dataframe()"
   ]
  },
  {
   "cell_type": "code",
   "execution_count": 17,
   "id": "f9ee71a1",
   "metadata": {
    "execution": {
     "iopub.execute_input": "2023-05-10T02:15:39.568265Z",
     "iopub.status.busy": "2023-05-10T02:15:39.567639Z",
     "iopub.status.idle": "2023-05-10T02:15:39.583745Z",
     "shell.execute_reply": "2023-05-10T02:15:39.583031Z"
    }
   },
   "outputs": [
    {
     "data": {
      "text/html": [
       "<div>\n",
       "<style scoped>\n",
       "    .dataframe tbody tr th:only-of-type {\n",
       "        vertical-align: middle;\n",
       "    }\n",
       "\n",
       "    .dataframe tbody tr th {\n",
       "        vertical-align: top;\n",
       "    }\n",
       "\n",
       "    .dataframe thead th {\n",
       "        text-align: right;\n",
       "    }\n",
       "</style>\n",
       "<table border=\"1\" class=\"dataframe\">\n",
       "  <thead>\n",
       "    <tr style=\"text-align: right;\">\n",
       "      <th></th>\n",
       "      <th>uu_id</th>\n",
       "      <th>week_number</th>\n",
       "    </tr>\n",
       "  </thead>\n",
       "  <tbody>\n",
       "    <tr>\n",
       "      <th>0</th>\n",
       "      <td>5bf51fc2e162d6faf9e3cf79e4198378</td>\n",
       "      <td>44</td>\n",
       "    </tr>\n",
       "    <tr>\n",
       "      <th>1</th>\n",
       "      <td>420b44cc7e3f55d738df565421e59941</td>\n",
       "      <td>44</td>\n",
       "    </tr>\n",
       "    <tr>\n",
       "      <th>2</th>\n",
       "      <td>e39c66ecceec76ee8f9f811fa4a2d246</td>\n",
       "      <td>44</td>\n",
       "    </tr>\n",
       "    <tr>\n",
       "      <th>3</th>\n",
       "      <td>a90462cd11ae4e43144239bf7c4828a4</td>\n",
       "      <td>44</td>\n",
       "    </tr>\n",
       "    <tr>\n",
       "      <th>4</th>\n",
       "      <td>8b20a6749088c7ff1237983076ebfeaa</td>\n",
       "      <td>44</td>\n",
       "    </tr>\n",
       "    <tr>\n",
       "      <th>...</th>\n",
       "      <td>...</td>\n",
       "      <td>...</td>\n",
       "    </tr>\n",
       "    <tr>\n",
       "      <th>520</th>\n",
       "      <td>46c4f6c75e663b1ca82ea7994e6d83d3</td>\n",
       "      <td>44</td>\n",
       "    </tr>\n",
       "    <tr>\n",
       "      <th>521</th>\n",
       "      <td>1deebda501712e7595b531b8337bc31a</td>\n",
       "      <td>44</td>\n",
       "    </tr>\n",
       "    <tr>\n",
       "      <th>522</th>\n",
       "      <td>5a9758f65f001b6432ff31ff64a459d7</td>\n",
       "      <td>44</td>\n",
       "    </tr>\n",
       "    <tr>\n",
       "      <th>523</th>\n",
       "      <td>e8b3b95e93a6dc7dbb90f4e72e7ac065</td>\n",
       "      <td>44</td>\n",
       "    </tr>\n",
       "    <tr>\n",
       "      <th>524</th>\n",
       "      <td>932a58530abff8a48558e2a15639d453</td>\n",
       "      <td>44</td>\n",
       "    </tr>\n",
       "  </tbody>\n",
       "</table>\n",
       "<p>525 rows × 2 columns</p>\n",
       "</div>"
      ],
      "text/plain": [
       "                                uu_id  week_number\n",
       "0    5bf51fc2e162d6faf9e3cf79e4198378           44\n",
       "1    420b44cc7e3f55d738df565421e59941           44\n",
       "2    e39c66ecceec76ee8f9f811fa4a2d246           44\n",
       "3    a90462cd11ae4e43144239bf7c4828a4           44\n",
       "4    8b20a6749088c7ff1237983076ebfeaa           44\n",
       "..                                ...          ...\n",
       "520  46c4f6c75e663b1ca82ea7994e6d83d3           44\n",
       "521  1deebda501712e7595b531b8337bc31a           44\n",
       "522  5a9758f65f001b6432ff31ff64a459d7           44\n",
       "523  e8b3b95e93a6dc7dbb90f4e72e7ac065           44\n",
       "524  932a58530abff8a48558e2a15639d453           44\n",
       "\n",
       "[525 rows x 2 columns]"
      ]
     },
     "execution_count": 17,
     "metadata": {},
     "output_type": "execute_result"
    }
   ],
   "source": [
    "prediction_list"
   ]
  },
  {
   "cell_type": "code",
   "execution_count": 18,
   "id": "9d8b5ae1",
   "metadata": {
    "execution": {
     "iopub.execute_input": "2023-05-10T02:15:39.587618Z",
     "iopub.status.busy": "2023-05-10T02:15:39.587286Z",
     "iopub.status.idle": "2023-05-10T02:15:39.590944Z",
     "shell.execute_reply": "2023-05-10T02:15:39.590376Z"
    }
   },
   "outputs": [],
   "source": [
    "uuids = prediction_list.uu_id.tolist()"
   ]
  },
  {
   "cell_type": "code",
   "execution_count": 19,
   "id": "c3843bc5",
   "metadata": {
    "execution": {
     "iopub.execute_input": "2023-05-10T02:15:39.593815Z",
     "iopub.status.busy": "2023-05-10T02:15:39.593582Z",
     "iopub.status.idle": "2023-05-10T02:15:39.596315Z",
     "shell.execute_reply": "2023-05-10T02:15:39.595800Z"
    }
   },
   "outputs": [],
   "source": [
    "import csv "
   ]
  },
  {
   "cell_type": "code",
   "execution_count": 20,
   "id": "2678a6fd",
   "metadata": {
    "execution": {
     "iopub.execute_input": "2023-05-10T02:15:39.599043Z",
     "iopub.status.busy": "2023-05-10T02:15:39.598812Z",
     "iopub.status.idle": "2023-05-10T02:15:39.768861Z",
     "shell.execute_reply": "2023-05-10T02:15:39.768590Z"
    }
   },
   "outputs": [
    {
     "ename": "ValueError",
     "evalue": "With n_samples=4, test_size=0.8 and train_size=None, the resulting train set will be empty. Adjust any of the aforementioned parameters.",
     "output_type": "error",
     "traceback": [
      "\u001b[0;31m---------------------------------------------------------------------------\u001b[0m",
      "\u001b[0;31mValueError\u001b[0m                                Traceback (most recent call last)",
      "Cell \u001b[0;32mIn [20], line 4\u001b[0m\n\u001b[1;32m      2\u001b[0m rows \u001b[38;5;241m=\u001b[39m []\n\u001b[1;32m      3\u001b[0m \u001b[38;5;28;01mfor\u001b[39;00m uuid \u001b[38;5;129;01min\u001b[39;00m uuids:\n\u001b[0;32m----> 4\u001b[0m     rows\u001b[38;5;241m.\u001b[39mappend([uuid, \u001b[38;5;241m39\u001b[39m, \u001b[43mpredict_claims\u001b[49m\u001b[43m(\u001b[49m\u001b[43muuid\u001b[49m\u001b[43m,\u001b[49m\u001b[43m \u001b[49m\u001b[38;5;241;43m39\u001b[39;49m\u001b[43m)\u001b[49m])\n",
      "Cell \u001b[0;32mIn [12], line 13\u001b[0m, in \u001b[0;36mpredict_claims\u001b[0;34m(uuid, week)\u001b[0m\n\u001b[1;32m      8\u001b[0m y \u001b[38;5;241m=\u001b[39m data[[\u001b[38;5;124m'\u001b[39m\u001b[38;5;124mtotal_claims\u001b[39m\u001b[38;5;124m'\u001b[39m]]\n\u001b[1;32m     12\u001b[0m \u001b[38;5;66;03m# Splitting data into training and test sets\u001b[39;00m\n\u001b[0;32m---> 13\u001b[0m X_train, X_test, y_train, y_test \u001b[38;5;241m=\u001b[39m \u001b[43mtrain_test_split\u001b[49m\u001b[43m(\u001b[49m\u001b[43mX\u001b[49m\u001b[43m,\u001b[49m\u001b[43m \u001b[49m\u001b[43my\u001b[49m\u001b[43m,\u001b[49m\u001b[43m \u001b[49m\u001b[43mtest_size\u001b[49m\u001b[43m \u001b[49m\u001b[38;5;241;43m=\u001b[39;49m\u001b[43m \u001b[49m\u001b[38;5;241;43m0.8\u001b[39;49m\u001b[43m,\u001b[49m\u001b[43m \u001b[49m\u001b[43mrandom_state\u001b[49m\u001b[43m \u001b[49m\u001b[38;5;241;43m=\u001b[39;49m\u001b[43m \u001b[49m\u001b[38;5;241;43m101\u001b[39;49m\u001b[43m)\u001b[49m\n\u001b[1;32m     14\u001b[0m \u001b[38;5;66;03m# Train the Model\u001b[39;00m\n\u001b[1;32m     16\u001b[0m regr \u001b[38;5;241m=\u001b[39m RandomForestRegressor(n_estimators \u001b[38;5;241m=\u001b[39m \u001b[38;5;241m10\u001b[39m, max_depth \u001b[38;5;241m=\u001b[39m \u001b[38;5;241m10\u001b[39m, random_state \u001b[38;5;241m=\u001b[39m \u001b[38;5;241m101\u001b[39m)\n",
      "File \u001b[0;32m/opt/homebrew/lib/python3.9/site-packages/sklearn/model_selection/_split.py:2562\u001b[0m, in \u001b[0;36mtrain_test_split\u001b[0;34m(test_size, train_size, random_state, shuffle, stratify, *arrays)\u001b[0m\n\u001b[1;32m   2559\u001b[0m arrays \u001b[38;5;241m=\u001b[39m indexable(\u001b[38;5;241m*\u001b[39marrays)\n\u001b[1;32m   2561\u001b[0m n_samples \u001b[38;5;241m=\u001b[39m _num_samples(arrays[\u001b[38;5;241m0\u001b[39m])\n\u001b[0;32m-> 2562\u001b[0m n_train, n_test \u001b[38;5;241m=\u001b[39m \u001b[43m_validate_shuffle_split\u001b[49m\u001b[43m(\u001b[49m\n\u001b[1;32m   2563\u001b[0m \u001b[43m    \u001b[49m\u001b[43mn_samples\u001b[49m\u001b[43m,\u001b[49m\u001b[43m \u001b[49m\u001b[43mtest_size\u001b[49m\u001b[43m,\u001b[49m\u001b[43m \u001b[49m\u001b[43mtrain_size\u001b[49m\u001b[43m,\u001b[49m\u001b[43m \u001b[49m\u001b[43mdefault_test_size\u001b[49m\u001b[38;5;241;43m=\u001b[39;49m\u001b[38;5;241;43m0.25\u001b[39;49m\n\u001b[1;32m   2564\u001b[0m \u001b[43m\u001b[49m\u001b[43m)\u001b[49m\n\u001b[1;32m   2566\u001b[0m \u001b[38;5;28;01mif\u001b[39;00m shuffle \u001b[38;5;129;01mis\u001b[39;00m \u001b[38;5;28;01mFalse\u001b[39;00m:\n\u001b[1;32m   2567\u001b[0m     \u001b[38;5;28;01mif\u001b[39;00m stratify \u001b[38;5;129;01mis\u001b[39;00m \u001b[38;5;129;01mnot\u001b[39;00m \u001b[38;5;28;01mNone\u001b[39;00m:\n",
      "File \u001b[0;32m/opt/homebrew/lib/python3.9/site-packages/sklearn/model_selection/_split.py:2236\u001b[0m, in \u001b[0;36m_validate_shuffle_split\u001b[0;34m(n_samples, test_size, train_size, default_test_size)\u001b[0m\n\u001b[1;32m   2233\u001b[0m n_train, n_test \u001b[38;5;241m=\u001b[39m \u001b[38;5;28mint\u001b[39m(n_train), \u001b[38;5;28mint\u001b[39m(n_test)\n\u001b[1;32m   2235\u001b[0m \u001b[38;5;28;01mif\u001b[39;00m n_train \u001b[38;5;241m==\u001b[39m \u001b[38;5;241m0\u001b[39m:\n\u001b[0;32m-> 2236\u001b[0m     \u001b[38;5;28;01mraise\u001b[39;00m \u001b[38;5;167;01mValueError\u001b[39;00m(\n\u001b[1;32m   2237\u001b[0m         \u001b[38;5;124m\"\u001b[39m\u001b[38;5;124mWith n_samples=\u001b[39m\u001b[38;5;132;01m{}\u001b[39;00m\u001b[38;5;124m, test_size=\u001b[39m\u001b[38;5;132;01m{}\u001b[39;00m\u001b[38;5;124m and train_size=\u001b[39m\u001b[38;5;132;01m{}\u001b[39;00m\u001b[38;5;124m, the \u001b[39m\u001b[38;5;124m\"\u001b[39m\n\u001b[1;32m   2238\u001b[0m         \u001b[38;5;124m\"\u001b[39m\u001b[38;5;124mresulting train set will be empty. Adjust any of the \u001b[39m\u001b[38;5;124m\"\u001b[39m\n\u001b[1;32m   2239\u001b[0m         \u001b[38;5;124m\"\u001b[39m\u001b[38;5;124maforementioned parameters.\u001b[39m\u001b[38;5;124m\"\u001b[39m\u001b[38;5;241m.\u001b[39mformat(n_samples, test_size, train_size)\n\u001b[1;32m   2240\u001b[0m     )\n\u001b[1;32m   2242\u001b[0m \u001b[38;5;28;01mreturn\u001b[39;00m n_train, n_test\n",
      "\u001b[0;31mValueError\u001b[0m: With n_samples=4, test_size=0.8 and train_size=None, the resulting train set will be empty. Adjust any of the aforementioned parameters."
     ]
    }
   ],
   "source": [
    "fields = ['uu_id', 'week_number', 'total_claims']\n",
    "rows = []\n",
    "for uuid in uuids:\n",
    "    rows.append([uuid, 39, predict_claims(uuid, 39)])"
   ]
  },
  {
   "cell_type": "code",
   "execution_count": 21,
   "id": "3e61d2c1",
   "metadata": {
    "execution": {
     "iopub.execute_input": "2023-05-10T02:15:39.770444Z",
     "iopub.status.busy": "2023-05-10T02:15:39.770326Z",
     "iopub.status.idle": "2023-05-10T02:15:39.771975Z",
     "shell.execute_reply": "2023-05-10T02:15:39.771723Z"
    },
    "lines_to_next_cell": 1
   },
   "outputs": [],
   "source": [
    "filename = 'submission_prediction_output.csv'"
   ]
  },
  {
   "cell_type": "code",
   "execution_count": 22,
   "id": "63d71bd9",
   "metadata": {
    "execution": {
     "iopub.execute_input": "2023-05-10T02:15:39.773444Z",
     "iopub.status.busy": "2023-05-10T02:15:39.773347Z",
     "iopub.status.idle": "2023-05-10T02:15:39.775894Z",
     "shell.execute_reply": "2023-05-10T02:15:39.775659Z"
    }
   },
   "outputs": [],
   "source": [
    "def predict_claims(uuid, week):\n",
    "    data = unemployment_data[unemployment_data.uu_id == uuid]\n",
    "\n",
    "    # plt.plot(data.week_number, data.total_claims)\n",
    "    # plt.show()\n",
    "    \n",
    "    X = data.drop(['uu_id','total_claims'], axis = 1)\n",
    "    y = data[['total_claims']]\n",
    "    \n",
    "    \n",
    "    \n",
    "    # Splitting data into training and test sets\n",
    "    X_train, X_test, y_train, y_test = train_test_split(X, y, test_size = 0.8, random_state = 101)\n",
    "    # Train the Model\n",
    "\n",
    "    regr = RandomForestRegressor(n_estimators = 10, max_depth = 10, random_state = 101)\n",
    "    regr.fit(X_train, y_train.values.ravel())\n",
    "    \n",
    "    predictions = regr.predict(X_test)\n",
    "    \n",
    "    result = X_test\n",
    "    result['total_claims'] = y_test\n",
    "    result['prediction'] = predictions.tolist()\n",
    "    \n",
    "    x_axis = X_test.week_number"
   ]
  },
  {
   "cell_type": "markdown",
   "id": "1074ebb6",
   "metadata": {},
   "source": [
    "    plt.scatter(x_axis, y_test, c = 'b', alpha = 0.5, marker = '.', label = 'Real')\n",
    "    plt.scatter(x_axis, predictions, c = 'r', alpha = 0.5, marker = '.', label = 'Predicted')"
   ]
  },
  {
   "cell_type": "markdown",
   "id": "613a9d33",
   "metadata": {},
   "source": [
    "    plt.xlabel('Week Number')\n",
    "    plt.ylabel('Total Claims')\n",
    "    plt.title('Tract: '+uuid)"
   ]
  },
  {
   "cell_type": "markdown",
   "id": "e8be0d19",
   "metadata": {},
   "source": [
    "    plt.grid(color = '#D3D3D3', linestyle = 'solid')"
   ]
  },
  {
   "cell_type": "markdown",
   "id": "dd107c56",
   "metadata": {},
   "source": [
    "    plt.legend(loc = 'lower right')"
   ]
  },
  {
   "cell_type": "markdown",
   "id": "9e9ae931",
   "metadata": {},
   "source": [
    "    plt.show()"
   ]
  },
  {
   "cell_type": "code",
   "execution_count": 23,
   "id": "0bf7d8da",
   "metadata": {
    "execution": {
     "iopub.execute_input": "2023-05-10T02:15:39.777309Z",
     "iopub.status.busy": "2023-05-10T02:15:39.777201Z",
     "iopub.status.idle": "2023-05-10T02:15:39.783616Z",
     "shell.execute_reply": "2023-05-10T02:15:39.783383Z"
    }
   },
   "outputs": [
    {
     "ename": "NameError",
     "evalue": "name 'result' is not defined",
     "output_type": "error",
     "traceback": [
      "\u001b[0;31m---------------------------------------------------------------------------\u001b[0m",
      "\u001b[0;31mNameError\u001b[0m                                 Traceback (most recent call last)",
      "Cell \u001b[0;32mIn [23], line 1\u001b[0m\n\u001b[0;32m----> 1\u001b[0m result \u001b[38;5;241m=\u001b[39m \u001b[43mresult\u001b[49m\u001b[38;5;241m.\u001b[39msort_values(by \u001b[38;5;241m=\u001b[39m \u001b[38;5;124m'\u001b[39m\u001b[38;5;124mweek_number\u001b[39m\u001b[38;5;124m'\u001b[39m)\n\u001b[1;32m      3\u001b[0m \u001b[38;5;28;01mreturn\u001b[39;00m result\u001b[38;5;241m.\u001b[39mprediction\u001b[38;5;241m.\u001b[39miloc[\u001b[38;5;241m-\u001b[39m\u001b[38;5;241m1\u001b[39m]\u001b[38;5;241m.\u001b[39mround()\n",
      "\u001b[0;31mNameError\u001b[0m: name 'result' is not defined"
     ]
    }
   ],
   "source": [
    "    result = result.sort_values(by = 'week_number')\n",
    "    \n",
    "    return result.prediction.iloc[-1].round()"
   ]
  },
  {
   "cell_type": "code",
   "execution_count": null,
   "id": "6739dabc",
   "metadata": {},
   "outputs": [],
   "source": [
    "    "
   ]
  },
  {
   "cell_type": "code",
   "execution_count": 24,
   "id": "0bf68c5d",
   "metadata": {
    "execution": {
     "iopub.execute_input": "2023-05-10T02:15:39.784956Z",
     "iopub.status.busy": "2023-05-10T02:15:39.784870Z",
     "iopub.status.idle": "2023-05-10T02:15:39.805685Z",
     "shell.execute_reply": "2023-05-10T02:15:39.805443Z"
    }
   },
   "outputs": [
    {
     "ename": "ValueError",
     "evalue": "With n_samples=0, test_size=0.8 and train_size=None, the resulting train set will be empty. Adjust any of the aforementioned parameters.",
     "output_type": "error",
     "traceback": [
      "\u001b[0;31m---------------------------------------------------------------------------\u001b[0m",
      "\u001b[0;31mValueError\u001b[0m                                Traceback (most recent call last)",
      "Cell \u001b[0;32mIn [24], line 1\u001b[0m\n\u001b[0;32m----> 1\u001b[0m \u001b[43mpredict_claims\u001b[49m\u001b[43m(\u001b[49m\u001b[38;5;124;43m'\u001b[39;49m\u001b[38;5;124;43m0392ee82d61e6b95e117d22d8f732b12\u001b[39;49m\u001b[38;5;124;43m'\u001b[39;49m\u001b[43m,\u001b[49m\u001b[38;5;241;43m39\u001b[39;49m\u001b[43m)\u001b[49m\n",
      "Cell \u001b[0;32mIn [22], line 13\u001b[0m, in \u001b[0;36mpredict_claims\u001b[0;34m(uuid, week)\u001b[0m\n\u001b[1;32m      8\u001b[0m y \u001b[38;5;241m=\u001b[39m data[[\u001b[38;5;124m'\u001b[39m\u001b[38;5;124mtotal_claims\u001b[39m\u001b[38;5;124m'\u001b[39m]]\n\u001b[1;32m     12\u001b[0m \u001b[38;5;66;03m# Splitting data into training and test sets\u001b[39;00m\n\u001b[0;32m---> 13\u001b[0m X_train, X_test, y_train, y_test \u001b[38;5;241m=\u001b[39m \u001b[43mtrain_test_split\u001b[49m\u001b[43m(\u001b[49m\u001b[43mX\u001b[49m\u001b[43m,\u001b[49m\u001b[43m \u001b[49m\u001b[43my\u001b[49m\u001b[43m,\u001b[49m\u001b[43m \u001b[49m\u001b[43mtest_size\u001b[49m\u001b[43m \u001b[49m\u001b[38;5;241;43m=\u001b[39;49m\u001b[43m \u001b[49m\u001b[38;5;241;43m0.8\u001b[39;49m\u001b[43m,\u001b[49m\u001b[43m \u001b[49m\u001b[43mrandom_state\u001b[49m\u001b[43m \u001b[49m\u001b[38;5;241;43m=\u001b[39;49m\u001b[43m \u001b[49m\u001b[38;5;241;43m101\u001b[39;49m\u001b[43m)\u001b[49m\n\u001b[1;32m     14\u001b[0m \u001b[38;5;66;03m# Train the Model\u001b[39;00m\n\u001b[1;32m     16\u001b[0m regr \u001b[38;5;241m=\u001b[39m RandomForestRegressor(n_estimators \u001b[38;5;241m=\u001b[39m \u001b[38;5;241m10\u001b[39m, max_depth \u001b[38;5;241m=\u001b[39m \u001b[38;5;241m10\u001b[39m, random_state \u001b[38;5;241m=\u001b[39m \u001b[38;5;241m101\u001b[39m)\n",
      "File \u001b[0;32m/opt/homebrew/lib/python3.9/site-packages/sklearn/model_selection/_split.py:2562\u001b[0m, in \u001b[0;36mtrain_test_split\u001b[0;34m(test_size, train_size, random_state, shuffle, stratify, *arrays)\u001b[0m\n\u001b[1;32m   2559\u001b[0m arrays \u001b[38;5;241m=\u001b[39m indexable(\u001b[38;5;241m*\u001b[39marrays)\n\u001b[1;32m   2561\u001b[0m n_samples \u001b[38;5;241m=\u001b[39m _num_samples(arrays[\u001b[38;5;241m0\u001b[39m])\n\u001b[0;32m-> 2562\u001b[0m n_train, n_test \u001b[38;5;241m=\u001b[39m \u001b[43m_validate_shuffle_split\u001b[49m\u001b[43m(\u001b[49m\n\u001b[1;32m   2563\u001b[0m \u001b[43m    \u001b[49m\u001b[43mn_samples\u001b[49m\u001b[43m,\u001b[49m\u001b[43m \u001b[49m\u001b[43mtest_size\u001b[49m\u001b[43m,\u001b[49m\u001b[43m \u001b[49m\u001b[43mtrain_size\u001b[49m\u001b[43m,\u001b[49m\u001b[43m \u001b[49m\u001b[43mdefault_test_size\u001b[49m\u001b[38;5;241;43m=\u001b[39;49m\u001b[38;5;241;43m0.25\u001b[39;49m\n\u001b[1;32m   2564\u001b[0m \u001b[43m\u001b[49m\u001b[43m)\u001b[49m\n\u001b[1;32m   2566\u001b[0m \u001b[38;5;28;01mif\u001b[39;00m shuffle \u001b[38;5;129;01mis\u001b[39;00m \u001b[38;5;28;01mFalse\u001b[39;00m:\n\u001b[1;32m   2567\u001b[0m     \u001b[38;5;28;01mif\u001b[39;00m stratify \u001b[38;5;129;01mis\u001b[39;00m \u001b[38;5;129;01mnot\u001b[39;00m \u001b[38;5;28;01mNone\u001b[39;00m:\n",
      "File \u001b[0;32m/opt/homebrew/lib/python3.9/site-packages/sklearn/model_selection/_split.py:2236\u001b[0m, in \u001b[0;36m_validate_shuffle_split\u001b[0;34m(n_samples, test_size, train_size, default_test_size)\u001b[0m\n\u001b[1;32m   2233\u001b[0m n_train, n_test \u001b[38;5;241m=\u001b[39m \u001b[38;5;28mint\u001b[39m(n_train), \u001b[38;5;28mint\u001b[39m(n_test)\n\u001b[1;32m   2235\u001b[0m \u001b[38;5;28;01mif\u001b[39;00m n_train \u001b[38;5;241m==\u001b[39m \u001b[38;5;241m0\u001b[39m:\n\u001b[0;32m-> 2236\u001b[0m     \u001b[38;5;28;01mraise\u001b[39;00m \u001b[38;5;167;01mValueError\u001b[39;00m(\n\u001b[1;32m   2237\u001b[0m         \u001b[38;5;124m\"\u001b[39m\u001b[38;5;124mWith n_samples=\u001b[39m\u001b[38;5;132;01m{}\u001b[39;00m\u001b[38;5;124m, test_size=\u001b[39m\u001b[38;5;132;01m{}\u001b[39;00m\u001b[38;5;124m and train_size=\u001b[39m\u001b[38;5;132;01m{}\u001b[39;00m\u001b[38;5;124m, the \u001b[39m\u001b[38;5;124m\"\u001b[39m\n\u001b[1;32m   2238\u001b[0m         \u001b[38;5;124m\"\u001b[39m\u001b[38;5;124mresulting train set will be empty. Adjust any of the \u001b[39m\u001b[38;5;124m\"\u001b[39m\n\u001b[1;32m   2239\u001b[0m         \u001b[38;5;124m\"\u001b[39m\u001b[38;5;124maforementioned parameters.\u001b[39m\u001b[38;5;124m\"\u001b[39m\u001b[38;5;241m.\u001b[39mformat(n_samples, test_size, train_size)\n\u001b[1;32m   2240\u001b[0m     )\n\u001b[1;32m   2242\u001b[0m \u001b[38;5;28;01mreturn\u001b[39;00m n_train, n_test\n",
      "\u001b[0;31mValueError\u001b[0m: With n_samples=0, test_size=0.8 and train_size=None, the resulting train set will be empty. Adjust any of the aforementioned parameters."
     ]
    }
   ],
   "source": [
    "predict_claims('0392ee82d61e6b95e117d22d8f732b12',39)"
   ]
  },
  {
   "cell_type": "code",
   "execution_count": 25,
   "id": "330d70ac",
   "metadata": {
    "execution": {
     "iopub.execute_input": "2023-05-10T02:15:39.807119Z",
     "iopub.status.busy": "2023-05-10T02:15:39.807037Z",
     "iopub.status.idle": "2023-05-10T02:15:39.960272Z",
     "shell.execute_reply": "2023-05-10T02:15:39.959988Z"
    }
   },
   "outputs": [
    {
     "ename": "ValueError",
     "evalue": "With n_samples=4, test_size=0.8 and train_size=None, the resulting train set will be empty. Adjust any of the aforementioned parameters.",
     "output_type": "error",
     "traceback": [
      "\u001b[0;31m---------------------------------------------------------------------------\u001b[0m",
      "\u001b[0;31mValueError\u001b[0m                                Traceback (most recent call last)",
      "Cell \u001b[0;32mIn [25], line 4\u001b[0m\n\u001b[1;32m      2\u001b[0m rows \u001b[38;5;241m=\u001b[39m []\n\u001b[1;32m      3\u001b[0m \u001b[38;5;28;01mfor\u001b[39;00m uuid \u001b[38;5;129;01min\u001b[39;00m uuids:\n\u001b[0;32m----> 4\u001b[0m     rows\u001b[38;5;241m.\u001b[39mappend([uuid, \u001b[38;5;241m39\u001b[39m, \u001b[43mpredict_claims\u001b[49m\u001b[43m(\u001b[49m\u001b[43muuid\u001b[49m\u001b[43m,\u001b[49m\u001b[43m \u001b[49m\u001b[38;5;241;43m39\u001b[39;49m\u001b[43m)\u001b[49m])\n",
      "Cell \u001b[0;32mIn [22], line 13\u001b[0m, in \u001b[0;36mpredict_claims\u001b[0;34m(uuid, week)\u001b[0m\n\u001b[1;32m      8\u001b[0m y \u001b[38;5;241m=\u001b[39m data[[\u001b[38;5;124m'\u001b[39m\u001b[38;5;124mtotal_claims\u001b[39m\u001b[38;5;124m'\u001b[39m]]\n\u001b[1;32m     12\u001b[0m \u001b[38;5;66;03m# Splitting data into training and test sets\u001b[39;00m\n\u001b[0;32m---> 13\u001b[0m X_train, X_test, y_train, y_test \u001b[38;5;241m=\u001b[39m \u001b[43mtrain_test_split\u001b[49m\u001b[43m(\u001b[49m\u001b[43mX\u001b[49m\u001b[43m,\u001b[49m\u001b[43m \u001b[49m\u001b[43my\u001b[49m\u001b[43m,\u001b[49m\u001b[43m \u001b[49m\u001b[43mtest_size\u001b[49m\u001b[43m \u001b[49m\u001b[38;5;241;43m=\u001b[39;49m\u001b[43m \u001b[49m\u001b[38;5;241;43m0.8\u001b[39;49m\u001b[43m,\u001b[49m\u001b[43m \u001b[49m\u001b[43mrandom_state\u001b[49m\u001b[43m \u001b[49m\u001b[38;5;241;43m=\u001b[39;49m\u001b[43m \u001b[49m\u001b[38;5;241;43m101\u001b[39;49m\u001b[43m)\u001b[49m\n\u001b[1;32m     14\u001b[0m \u001b[38;5;66;03m# Train the Model\u001b[39;00m\n\u001b[1;32m     16\u001b[0m regr \u001b[38;5;241m=\u001b[39m RandomForestRegressor(n_estimators \u001b[38;5;241m=\u001b[39m \u001b[38;5;241m10\u001b[39m, max_depth \u001b[38;5;241m=\u001b[39m \u001b[38;5;241m10\u001b[39m, random_state \u001b[38;5;241m=\u001b[39m \u001b[38;5;241m101\u001b[39m)\n",
      "File \u001b[0;32m/opt/homebrew/lib/python3.9/site-packages/sklearn/model_selection/_split.py:2562\u001b[0m, in \u001b[0;36mtrain_test_split\u001b[0;34m(test_size, train_size, random_state, shuffle, stratify, *arrays)\u001b[0m\n\u001b[1;32m   2559\u001b[0m arrays \u001b[38;5;241m=\u001b[39m indexable(\u001b[38;5;241m*\u001b[39marrays)\n\u001b[1;32m   2561\u001b[0m n_samples \u001b[38;5;241m=\u001b[39m _num_samples(arrays[\u001b[38;5;241m0\u001b[39m])\n\u001b[0;32m-> 2562\u001b[0m n_train, n_test \u001b[38;5;241m=\u001b[39m \u001b[43m_validate_shuffle_split\u001b[49m\u001b[43m(\u001b[49m\n\u001b[1;32m   2563\u001b[0m \u001b[43m    \u001b[49m\u001b[43mn_samples\u001b[49m\u001b[43m,\u001b[49m\u001b[43m \u001b[49m\u001b[43mtest_size\u001b[49m\u001b[43m,\u001b[49m\u001b[43m \u001b[49m\u001b[43mtrain_size\u001b[49m\u001b[43m,\u001b[49m\u001b[43m \u001b[49m\u001b[43mdefault_test_size\u001b[49m\u001b[38;5;241;43m=\u001b[39;49m\u001b[38;5;241;43m0.25\u001b[39;49m\n\u001b[1;32m   2564\u001b[0m \u001b[43m\u001b[49m\u001b[43m)\u001b[49m\n\u001b[1;32m   2566\u001b[0m \u001b[38;5;28;01mif\u001b[39;00m shuffle \u001b[38;5;129;01mis\u001b[39;00m \u001b[38;5;28;01mFalse\u001b[39;00m:\n\u001b[1;32m   2567\u001b[0m     \u001b[38;5;28;01mif\u001b[39;00m stratify \u001b[38;5;129;01mis\u001b[39;00m \u001b[38;5;129;01mnot\u001b[39;00m \u001b[38;5;28;01mNone\u001b[39;00m:\n",
      "File \u001b[0;32m/opt/homebrew/lib/python3.9/site-packages/sklearn/model_selection/_split.py:2236\u001b[0m, in \u001b[0;36m_validate_shuffle_split\u001b[0;34m(n_samples, test_size, train_size, default_test_size)\u001b[0m\n\u001b[1;32m   2233\u001b[0m n_train, n_test \u001b[38;5;241m=\u001b[39m \u001b[38;5;28mint\u001b[39m(n_train), \u001b[38;5;28mint\u001b[39m(n_test)\n\u001b[1;32m   2235\u001b[0m \u001b[38;5;28;01mif\u001b[39;00m n_train \u001b[38;5;241m==\u001b[39m \u001b[38;5;241m0\u001b[39m:\n\u001b[0;32m-> 2236\u001b[0m     \u001b[38;5;28;01mraise\u001b[39;00m \u001b[38;5;167;01mValueError\u001b[39;00m(\n\u001b[1;32m   2237\u001b[0m         \u001b[38;5;124m\"\u001b[39m\u001b[38;5;124mWith n_samples=\u001b[39m\u001b[38;5;132;01m{}\u001b[39;00m\u001b[38;5;124m, test_size=\u001b[39m\u001b[38;5;132;01m{}\u001b[39;00m\u001b[38;5;124m and train_size=\u001b[39m\u001b[38;5;132;01m{}\u001b[39;00m\u001b[38;5;124m, the \u001b[39m\u001b[38;5;124m\"\u001b[39m\n\u001b[1;32m   2238\u001b[0m         \u001b[38;5;124m\"\u001b[39m\u001b[38;5;124mresulting train set will be empty. Adjust any of the \u001b[39m\u001b[38;5;124m\"\u001b[39m\n\u001b[1;32m   2239\u001b[0m         \u001b[38;5;124m\"\u001b[39m\u001b[38;5;124maforementioned parameters.\u001b[39m\u001b[38;5;124m\"\u001b[39m\u001b[38;5;241m.\u001b[39mformat(n_samples, test_size, train_size)\n\u001b[1;32m   2240\u001b[0m     )\n\u001b[1;32m   2242\u001b[0m \u001b[38;5;28;01mreturn\u001b[39;00m n_train, n_test\n",
      "\u001b[0;31mValueError\u001b[0m: With n_samples=4, test_size=0.8 and train_size=None, the resulting train set will be empty. Adjust any of the aforementioned parameters."
     ]
    }
   ],
   "source": [
    "fields = ['uu_id', 'week_number', 'total_claims']\n",
    "rows = []\n",
    "for uuid in uuids:\n",
    "    rows.append([uuid, 39, predict_claims(uuid, 39)])"
   ]
  },
  {
   "cell_type": "code",
   "execution_count": 26,
   "id": "522acb17",
   "metadata": {
    "execution": {
     "iopub.execute_input": "2023-05-10T02:15:39.961790Z",
     "iopub.status.busy": "2023-05-10T02:15:39.961680Z",
     "iopub.status.idle": "2023-05-10T02:15:39.963269Z",
     "shell.execute_reply": "2023-05-10T02:15:39.963041Z"
    }
   },
   "outputs": [],
   "source": [
    "filename = 'submission_prediction_output.csv'"
   ]
  },
  {
   "cell_type": "code",
   "execution_count": 27,
   "id": "cee6f53a",
   "metadata": {
    "execution": {
     "iopub.execute_input": "2023-05-10T02:15:39.964648Z",
     "iopub.status.busy": "2023-05-10T02:15:39.964563Z",
     "iopub.status.idle": "2023-05-10T02:15:41.268758Z",
     "shell.execute_reply": "2023-05-10T02:15:41.268093Z"
    }
   },
   "outputs": [
    {
     "name": "stdout",
     "output_type": "stream",
     "text": [
      "\u001b[33mDEPRECATION: Configuring installation scheme with distutils config files is deprecated and will no longer work in the near future. If you are using a Homebrew or Linuxbrew Python, please see discussion at https://github.com/Homebrew/homebrew-core/issues/76621\u001b[0m\u001b[33m\r\n",
      "\u001b[0m"
     ]
    },
    {
     "name": "stdout",
     "output_type": "stream",
     "text": [
      "Requirement already satisfied: db-dtypes in /opt/homebrew/lib/python3.9/site-packages (1.0.5)\r\n",
      "Requirement already satisfied: pandas<2.0dev,>=0.24.2 in /opt/homebrew/lib/python3.9/site-packages (from db-dtypes) (1.5.1)\r\n",
      "Requirement already satisfied: numpy<2.0dev,>=1.16.6 in /opt/homebrew/lib/python3.9/site-packages (from db-dtypes) (1.23.4)\r\n",
      "Requirement already satisfied: packaging>=17.0 in /Users/weihaochen/Library/Python/3.9/lib/python/site-packages (from db-dtypes) (21.3)\r\n",
      "Requirement already satisfied: pyarrow>=3.0.0 in /opt/homebrew/lib/python3.9/site-packages (from db-dtypes) (10.0.0)\r\n",
      "Requirement already satisfied: pyparsing!=3.0.5,>=2.0.2 in /Users/weihaochen/Library/Python/3.9/lib/python/site-packages (from packaging>=17.0->db-dtypes) (3.0.9)\r\n",
      "Requirement already satisfied: pytz>=2020.1 in /opt/homebrew/lib/python3.9/site-packages (from pandas<2.0dev,>=0.24.2->db-dtypes) (2022.6)\r\n",
      "Requirement already satisfied: python-dateutil>=2.8.1 in /Users/weihaochen/Library/Python/3.9/lib/python/site-packages (from pandas<2.0dev,>=0.24.2->db-dtypes) (2.8.2)\r\n",
      "Requirement already satisfied: six>=1.5 in /Users/weihaochen/Library/Python/3.9/lib/python/site-packages (from python-dateutil>=2.8.1->pandas<2.0dev,>=0.24.2->db-dtypes) (1.16.0)\r\n"
     ]
    },
    {
     "name": "stdout",
     "output_type": "stream",
     "text": [
      "\u001b[33mDEPRECATION: Configuring installation scheme with distutils config files is deprecated and will no longer work in the near future. If you are using a Homebrew or Linuxbrew Python, please see discussion at https://github.com/Homebrew/homebrew-core/issues/76621\u001b[0m\u001b[33m\r\n",
      "\u001b[0m\u001b[33mWARNING: You are using pip version 22.0.4; however, version 23.1.2 is available.\r\n",
      "You should consider upgrading via the '/opt/homebrew/opt/python@3.9/bin/python3.9 -m pip install --upgrade pip' command.\u001b[0m\u001b[33m\r\n",
      "\u001b[0m"
     ]
    },
    {
     "name": "stdout",
     "output_type": "stream",
     "text": [
      "Note: you may need to restart the kernel to use updated packages.\n"
     ]
    }
   ],
   "source": [
    "get_ipython().run_line_magic('pip', 'install db-dtypes')"
   ]
  },
  {
   "cell_type": "code",
   "execution_count": 28,
   "id": "d44ab24e",
   "metadata": {
    "execution": {
     "iopub.execute_input": "2023-05-10T02:15:41.271364Z",
     "iopub.status.busy": "2023-05-10T02:15:41.271152Z",
     "iopub.status.idle": "2023-05-10T02:15:41.274846Z",
     "shell.execute_reply": "2023-05-10T02:15:41.274451Z"
    }
   },
   "outputs": [],
   "source": [
    "import db_dtypes\n",
    "import matplotlib.pyplot as plt\n",
    "import os\n",
    "import pandas as pd\n",
    "from google.cloud import bigquery\n",
    "from google.oauth2 import service_account\n",
    "from google.cloud.bigquery import magics\n",
    "from sklearn.model_selection import train_test_split \n",
    "from sklearn.linear_model import LinearRegression\n",
    "from sklearn.ensemble import RandomForestRegressor\n",
    "from sklearn import metrics\n",
    "import numpy as np\n",
    "import seaborn as sns"
   ]
  },
  {
   "cell_type": "code",
   "execution_count": 29,
   "id": "953ae8ce",
   "metadata": {
    "execution": {
     "iopub.execute_input": "2023-05-10T02:15:41.276921Z",
     "iopub.status.busy": "2023-05-10T02:15:41.276784Z",
     "iopub.status.idle": "2023-05-10T02:15:41.280222Z",
     "shell.execute_reply": "2023-05-10T02:15:41.279766Z"
    }
   },
   "outputs": [],
   "source": [
    "import db_dtypes\n",
    "import matplotlib.pyplot as plt\n",
    "import os\n",
    "import pandas as pd\n",
    "from google.cloud import bigquery\n",
    "from google.oauth2 import service_account\n",
    "from google.cloud.bigquery import magics\n",
    "from sklearn.model_selection import train_test_split \n",
    "from sklearn.linear_model import LinearRegression\n",
    "from sklearn.ensemble import RandomForestRegressor\n",
    "from sklearn import metrics\n",
    "import numpy as np\n",
    "import seaborn as sns"
   ]
  },
  {
   "cell_type": "code",
   "execution_count": 30,
   "id": "b47d579f",
   "metadata": {
    "execution": {
     "iopub.execute_input": "2023-05-10T02:15:41.282234Z",
     "iopub.status.busy": "2023-05-10T02:15:41.282068Z",
     "iopub.status.idle": "2023-05-10T02:15:41.290834Z",
     "shell.execute_reply": "2023-05-10T02:15:41.290350Z"
    }
   },
   "outputs": [],
   "source": [
    "BIGQUERY_PROJECT = 'ironhacks-data'\n",
    "bigquery_client = bigquery.Client(project=BIGQUERY_PROJECT)"
   ]
  },
  {
   "cell_type": "code",
   "execution_count": 31,
   "id": "270d5038",
   "metadata": {
    "execution": {
     "iopub.execute_input": "2023-05-10T02:15:41.293095Z",
     "iopub.status.busy": "2023-05-10T02:15:41.292930Z",
     "iopub.status.idle": "2023-05-10T02:15:41.295705Z",
     "shell.execute_reply": "2023-05-10T02:15:41.294903Z"
    }
   },
   "outputs": [],
   "source": [
    "query = \"\"\"\n",
    "SELECT *\n",
    "FROM `ironhacks-data.ironhacks_competition.unemployment_data`\n",
    "\"\"\""
   ]
  },
  {
   "cell_type": "code",
   "execution_count": 32,
   "id": "a1b927bc",
   "metadata": {
    "execution": {
     "iopub.execute_input": "2023-05-10T02:15:41.298136Z",
     "iopub.status.busy": "2023-05-10T02:15:41.297945Z",
     "iopub.status.idle": "2023-05-10T02:15:42.928885Z",
     "shell.execute_reply": "2023-05-10T02:15:42.927948Z"
    }
   },
   "outputs": [],
   "source": [
    "query_job = bigquery_client.query(query)\n",
    "unemployment_data = query_job.to_dataframe()"
   ]
  },
  {
   "cell_type": "code",
   "execution_count": 33,
   "id": "b6f8d419",
   "metadata": {
    "execution": {
     "iopub.execute_input": "2023-05-10T02:15:42.933293Z",
     "iopub.status.busy": "2023-05-10T02:15:42.932766Z",
     "iopub.status.idle": "2023-05-10T02:15:42.959253Z",
     "shell.execute_reply": "2023-05-10T02:15:42.958680Z"
    }
   },
   "outputs": [],
   "source": [
    "unemployment_data = unemployment_data.drop_duplicates()"
   ]
  },
  {
   "cell_type": "code",
   "execution_count": 34,
   "id": "38b5db8c",
   "metadata": {
    "execution": {
     "iopub.execute_input": "2023-05-10T02:15:42.962755Z",
     "iopub.status.busy": "2023-05-10T02:15:42.962444Z",
     "iopub.status.idle": "2023-05-10T02:15:42.976321Z",
     "shell.execute_reply": "2023-05-10T02:15:42.975911Z"
    }
   },
   "outputs": [],
   "source": [
    "unemployment_data.fillna(0, inplace=True)"
   ]
  },
  {
   "cell_type": "code",
   "execution_count": 35,
   "id": "fb48f4f5",
   "metadata": {
    "execution": {
     "iopub.execute_input": "2023-05-10T02:15:42.978802Z",
     "iopub.status.busy": "2023-05-10T02:15:42.978555Z",
     "iopub.status.idle": "2023-05-10T02:15:42.982379Z",
     "shell.execute_reply": "2023-05-10T02:15:42.981964Z"
    }
   },
   "outputs": [],
   "source": [
    "unemployment_data = unemployment_data.filter(['uu_id', 'week_number','total_claims','edu_8th_or_less', 'edu_grades_9_11',\n",
    "       'edu_hs_grad_equiv', 'edu_post_hs','race_amerindian', 'race_asian', 'race_black','race_white'])"
   ]
  },
  {
   "cell_type": "code",
   "execution_count": 36,
   "id": "6e72c51c",
   "metadata": {
    "execution": {
     "iopub.execute_input": "2023-05-10T02:15:42.984369Z",
     "iopub.status.busy": "2023-05-10T02:15:42.984230Z",
     "iopub.status.idle": "2023-05-10T02:15:42.989701Z",
     "shell.execute_reply": "2023-05-10T02:15:42.989401Z"
    }
   },
   "outputs": [
    {
     "data": {
      "text/plain": [
       "uu_id                0\n",
       "week_number          0\n",
       "total_claims         0\n",
       "edu_8th_or_less      0\n",
       "edu_grades_9_11      0\n",
       "edu_hs_grad_equiv    0\n",
       "edu_post_hs          0\n",
       "race_amerindian      0\n",
       "race_asian           0\n",
       "race_black           0\n",
       "race_white           0\n",
       "dtype: int64"
      ]
     },
     "execution_count": 36,
     "metadata": {},
     "output_type": "execute_result"
    }
   ],
   "source": [
    "unemployment_data.isnull().sum()"
   ]
  },
  {
   "cell_type": "code",
   "execution_count": 37,
   "id": "ccab3936",
   "metadata": {
    "execution": {
     "iopub.execute_input": "2023-05-10T02:15:42.991365Z",
     "iopub.status.busy": "2023-05-10T02:15:42.991228Z",
     "iopub.status.idle": "2023-05-10T02:15:42.997915Z",
     "shell.execute_reply": "2023-05-10T02:15:42.997571Z"
    }
   },
   "outputs": [],
   "source": [
    "unemployment_data = unemployment_data.sort_values(by=['uu_id','week_number']).reset_index()"
   ]
  },
  {
   "cell_type": "code",
   "execution_count": 38,
   "id": "4ffa0bd5",
   "metadata": {
    "execution": {
     "iopub.execute_input": "2023-05-10T02:15:42.999737Z",
     "iopub.status.busy": "2023-05-10T02:15:42.999606Z",
     "iopub.status.idle": "2023-05-10T02:15:43.002654Z",
     "shell.execute_reply": "2023-05-10T02:15:43.002301Z"
    }
   },
   "outputs": [],
   "source": [
    "unemployment_data = unemployment_data.drop('index', axis=1)"
   ]
  },
  {
   "cell_type": "code",
   "execution_count": 39,
   "id": "cbfcadb1",
   "metadata": {
    "execution": {
     "iopub.execute_input": "2023-05-10T02:15:43.004320Z",
     "iopub.status.busy": "2023-05-10T02:15:43.004209Z",
     "iopub.status.idle": "2023-05-10T02:15:43.009961Z",
     "shell.execute_reply": "2023-05-10T02:15:43.009601Z"
    }
   },
   "outputs": [
    {
     "data": {
      "text/html": [
       "<div>\n",
       "<style scoped>\n",
       "    .dataframe tbody tr th:only-of-type {\n",
       "        vertical-align: middle;\n",
       "    }\n",
       "\n",
       "    .dataframe tbody tr th {\n",
       "        vertical-align: top;\n",
       "    }\n",
       "\n",
       "    .dataframe thead th {\n",
       "        text-align: right;\n",
       "    }\n",
       "</style>\n",
       "<table border=\"1\" class=\"dataframe\">\n",
       "  <thead>\n",
       "    <tr style=\"text-align: right;\">\n",
       "      <th></th>\n",
       "      <th>uu_id</th>\n",
       "      <th>week_number</th>\n",
       "      <th>total_claims</th>\n",
       "      <th>edu_8th_or_less</th>\n",
       "      <th>edu_grades_9_11</th>\n",
       "      <th>edu_hs_grad_equiv</th>\n",
       "      <th>edu_post_hs</th>\n",
       "      <th>race_amerindian</th>\n",
       "      <th>race_asian</th>\n",
       "      <th>race_black</th>\n",
       "      <th>race_white</th>\n",
       "    </tr>\n",
       "  </thead>\n",
       "  <tbody>\n",
       "    <tr>\n",
       "      <th>0</th>\n",
       "      <td>001cd9ae23064d7f0fd3cd327c873d8d</td>\n",
       "      <td>31</td>\n",
       "      <td>34</td>\n",
       "      <td>0</td>\n",
       "      <td>0</td>\n",
       "      <td>30</td>\n",
       "      <td>0</td>\n",
       "      <td>0</td>\n",
       "      <td>0</td>\n",
       "      <td>0</td>\n",
       "      <td>34</td>\n",
       "    </tr>\n",
       "    <tr>\n",
       "      <th>1</th>\n",
       "      <td>001cd9ae23064d7f0fd3cd327c873d8d</td>\n",
       "      <td>33</td>\n",
       "      <td>10</td>\n",
       "      <td>0</td>\n",
       "      <td>0</td>\n",
       "      <td>0</td>\n",
       "      <td>0</td>\n",
       "      <td>0</td>\n",
       "      <td>0</td>\n",
       "      <td>0</td>\n",
       "      <td>10</td>\n",
       "    </tr>\n",
       "    <tr>\n",
       "      <th>2</th>\n",
       "      <td>001cd9ae23064d7f0fd3cd327c873d8d</td>\n",
       "      <td>34</td>\n",
       "      <td>25</td>\n",
       "      <td>0</td>\n",
       "      <td>0</td>\n",
       "      <td>0</td>\n",
       "      <td>0</td>\n",
       "      <td>0</td>\n",
       "      <td>0</td>\n",
       "      <td>0</td>\n",
       "      <td>0</td>\n",
       "    </tr>\n",
       "    <tr>\n",
       "      <th>3</th>\n",
       "      <td>001cd9ae23064d7f0fd3cd327c873d8d</td>\n",
       "      <td>35</td>\n",
       "      <td>10</td>\n",
       "      <td>0</td>\n",
       "      <td>0</td>\n",
       "      <td>0</td>\n",
       "      <td>0</td>\n",
       "      <td>0</td>\n",
       "      <td>0</td>\n",
       "      <td>0</td>\n",
       "      <td>0</td>\n",
       "    </tr>\n",
       "    <tr>\n",
       "      <th>4</th>\n",
       "      <td>001cd9ae23064d7f0fd3cd327c873d8d</td>\n",
       "      <td>36</td>\n",
       "      <td>10</td>\n",
       "      <td>0</td>\n",
       "      <td>0</td>\n",
       "      <td>0</td>\n",
       "      <td>0</td>\n",
       "      <td>0</td>\n",
       "      <td>0</td>\n",
       "      <td>0</td>\n",
       "      <td>0</td>\n",
       "    </tr>\n",
       "  </tbody>\n",
       "</table>\n",
       "</div>"
      ],
      "text/plain": [
       "                              uu_id  week_number  total_claims  \\\n",
       "0  001cd9ae23064d7f0fd3cd327c873d8d           31            34   \n",
       "1  001cd9ae23064d7f0fd3cd327c873d8d           33            10   \n",
       "2  001cd9ae23064d7f0fd3cd327c873d8d           34            25   \n",
       "3  001cd9ae23064d7f0fd3cd327c873d8d           35            10   \n",
       "4  001cd9ae23064d7f0fd3cd327c873d8d           36            10   \n",
       "\n",
       "   edu_8th_or_less  edu_grades_9_11  edu_hs_grad_equiv  edu_post_hs  \\\n",
       "0                0                0                 30            0   \n",
       "1                0                0                  0            0   \n",
       "2                0                0                  0            0   \n",
       "3                0                0                  0            0   \n",
       "4                0                0                  0            0   \n",
       "\n",
       "   race_amerindian  race_asian  race_black  race_white  \n",
       "0                0           0           0          34  \n",
       "1                0           0           0          10  \n",
       "2                0           0           0           0  \n",
       "3                0           0           0           0  \n",
       "4                0           0           0           0  "
      ]
     },
     "execution_count": 39,
     "metadata": {},
     "output_type": "execute_result"
    }
   ],
   "source": [
    "unemployment_data.head()"
   ]
  },
  {
   "cell_type": "code",
   "execution_count": 40,
   "id": "c407a338",
   "metadata": {
    "execution": {
     "iopub.execute_input": "2023-05-10T02:15:43.011965Z",
     "iopub.status.busy": "2023-05-10T02:15:43.011677Z",
     "iopub.status.idle": "2023-05-10T02:15:43.014558Z",
     "shell.execute_reply": "2023-05-10T02:15:43.014270Z"
    }
   },
   "outputs": [],
   "source": [
    "uuids = unemployment_data.uu_id.unique()"
   ]
  },
  {
   "cell_type": "code",
   "execution_count": 41,
   "id": "ca92bd7a",
   "metadata": {
    "execution": {
     "iopub.execute_input": "2023-05-10T02:15:43.016081Z",
     "iopub.status.busy": "2023-05-10T02:15:43.015973Z",
     "iopub.status.idle": "2023-05-10T02:15:43.018111Z",
     "shell.execute_reply": "2023-05-10T02:15:43.017868Z"
    },
    "lines_to_next_cell": 1
   },
   "outputs": [
    {
     "data": {
      "text/plain": [
       "array(['001cd9ae23064d7f0fd3cd327c873d8d',\n",
       "       '005be9532fd717dc36d4be318fd9ad25',\n",
       "       '007c1caccff1fbb3a0b8a10790f77141',\n",
       "       '009683350b175edfc6414d664e4ba873',\n",
       "       '00f962ce727b8dbbf20925abd5a253dd',\n",
       "       '02a7b845ab6b3fc2c09a50cdc486db2a',\n",
       "       '03ba3a9a63be1a5423457246f2846292',\n",
       "       '050a624d618a68e43fe31189909c644f',\n",
       "       '05298117cbe0fd69f04f89c83aaac091',\n",
       "       '05f47cc80d60a67d61e891e2b90c2045'], dtype=object)"
      ]
     },
     "execution_count": 41,
     "metadata": {},
     "output_type": "execute_result"
    }
   ],
   "source": [
    "uuids[:10]"
   ]
  },
  {
   "cell_type": "code",
   "execution_count": 42,
   "id": "2fcc2697",
   "metadata": {
    "execution": {
     "iopub.execute_input": "2023-05-10T02:15:43.019895Z",
     "iopub.status.busy": "2023-05-10T02:15:43.019767Z",
     "iopub.status.idle": "2023-05-10T02:15:43.022576Z",
     "shell.execute_reply": "2023-05-10T02:15:43.022319Z"
    }
   },
   "outputs": [],
   "source": [
    "def predict_claims(uuid, week):\n",
    "    data = unemployment_data[unemployment_data.uu_id == uuid]\n",
    "\n",
    "    # plt.plot(data.week_number, data.total_claims)\n",
    "    # plt.show()\n",
    "    \n",
    "    X = data.drop(['uu_id','total_claims'], axis = 1)\n",
    "    y = data[['total_claims']]\n",
    "    \n",
    "    \n",
    "    \n",
    "    # Splitting data into training and test sets\n",
    "    X_train, X_test, y_train, y_test = train_test_split(X, y, test_size = 0.8, random_state = 101)\n",
    "    # Train the Model\n",
    "\n",
    "    regr = RandomForestRegressor(n_estimators = 10, max_depth = 10, random_state = 101)\n",
    "    regr.fit(X_train, y_train.values.ravel())\n",
    "    \n",
    "    predictions = regr.predict(X_test)\n",
    "    \n",
    "    result = X_test\n",
    "    result['total_claims'] = y_test\n",
    "    result['prediction'] = predictions.tolist()\n",
    "    \n",
    "    x_axis = X_test.week_number"
   ]
  },
  {
   "cell_type": "markdown",
   "id": "e9fedc35",
   "metadata": {},
   "source": [
    "    plt.scatter(x_axis, y_test, c = 'b', alpha = 0.5, marker = '.', label = 'Real')\n",
    "    plt.scatter(x_axis, predictions, c = 'r', alpha = 0.5, marker = '.', label = 'Predicted')"
   ]
  },
  {
   "cell_type": "markdown",
   "id": "fc47b9b1",
   "metadata": {},
   "source": [
    "    plt.xlabel('Week Number')\n",
    "    plt.ylabel('Total Claims')\n",
    "    plt.title('Tract: '+uuid)"
   ]
  },
  {
   "cell_type": "markdown",
   "id": "a7cafdb7",
   "metadata": {},
   "source": [
    "    plt.grid(color = '#D3D3D3', linestyle = 'solid')"
   ]
  },
  {
   "cell_type": "markdown",
   "id": "4a986022",
   "metadata": {},
   "source": [
    "    plt.legend(loc = 'lower right')"
   ]
  },
  {
   "cell_type": "markdown",
   "id": "8180990b",
   "metadata": {},
   "source": [
    "    plt.show()"
   ]
  },
  {
   "cell_type": "code",
   "execution_count": 43,
   "id": "44155679",
   "metadata": {
    "execution": {
     "iopub.execute_input": "2023-05-10T02:15:43.024107Z",
     "iopub.status.busy": "2023-05-10T02:15:43.023988Z",
     "iopub.status.idle": "2023-05-10T02:15:43.032248Z",
     "shell.execute_reply": "2023-05-10T02:15:43.031955Z"
    }
   },
   "outputs": [
    {
     "ename": "NameError",
     "evalue": "name 'result' is not defined",
     "output_type": "error",
     "traceback": [
      "\u001b[0;31m---------------------------------------------------------------------------\u001b[0m",
      "\u001b[0;31mNameError\u001b[0m                                 Traceback (most recent call last)",
      "Cell \u001b[0;32mIn [43], line 1\u001b[0m\n\u001b[0;32m----> 1\u001b[0m result \u001b[38;5;241m=\u001b[39m \u001b[43mresult\u001b[49m\u001b[38;5;241m.\u001b[39msort_values(by \u001b[38;5;241m=\u001b[39m \u001b[38;5;124m'\u001b[39m\u001b[38;5;124mweek_number\u001b[39m\u001b[38;5;124m'\u001b[39m)\n\u001b[1;32m      3\u001b[0m \u001b[38;5;28;01mreturn\u001b[39;00m result\u001b[38;5;241m.\u001b[39mprediction\u001b[38;5;241m.\u001b[39miloc[\u001b[38;5;241m-\u001b[39m\u001b[38;5;241m1\u001b[39m]\u001b[38;5;241m.\u001b[39mround()\n",
      "\u001b[0;31mNameError\u001b[0m: name 'result' is not defined"
     ]
    }
   ],
   "source": [
    "    result = result.sort_values(by = 'week_number')\n",
    "    \n",
    "    return result.prediction.iloc[-1].round()"
   ]
  },
  {
   "cell_type": "code",
   "execution_count": null,
   "id": "79624d5e",
   "metadata": {},
   "outputs": [],
   "source": [
    "    "
   ]
  },
  {
   "cell_type": "code",
   "execution_count": 44,
   "id": "5e76a826",
   "metadata": {
    "execution": {
     "iopub.execute_input": "2023-05-10T02:15:43.033737Z",
     "iopub.status.busy": "2023-05-10T02:15:43.033629Z",
     "iopub.status.idle": "2023-05-10T02:15:43.056106Z",
     "shell.execute_reply": "2023-05-10T02:15:43.055806Z"
    }
   },
   "outputs": [
    {
     "ename": "ValueError",
     "evalue": "With n_samples=0, test_size=0.8 and train_size=None, the resulting train set will be empty. Adjust any of the aforementioned parameters.",
     "output_type": "error",
     "traceback": [
      "\u001b[0;31m---------------------------------------------------------------------------\u001b[0m",
      "\u001b[0;31mValueError\u001b[0m                                Traceback (most recent call last)",
      "Cell \u001b[0;32mIn [44], line 1\u001b[0m\n\u001b[0;32m----> 1\u001b[0m \u001b[43mpredict_claims\u001b[49m\u001b[43m(\u001b[49m\u001b[38;5;124;43m'\u001b[39;49m\u001b[38;5;124;43m0392ee82d61e6b95e117d22d8f732b12\u001b[39;49m\u001b[38;5;124;43m'\u001b[39;49m\u001b[43m,\u001b[49m\u001b[38;5;241;43m39\u001b[39;49m\u001b[43m)\u001b[49m\n",
      "Cell \u001b[0;32mIn [42], line 13\u001b[0m, in \u001b[0;36mpredict_claims\u001b[0;34m(uuid, week)\u001b[0m\n\u001b[1;32m      8\u001b[0m y \u001b[38;5;241m=\u001b[39m data[[\u001b[38;5;124m'\u001b[39m\u001b[38;5;124mtotal_claims\u001b[39m\u001b[38;5;124m'\u001b[39m]]\n\u001b[1;32m     12\u001b[0m \u001b[38;5;66;03m# Splitting data into training and test sets\u001b[39;00m\n\u001b[0;32m---> 13\u001b[0m X_train, X_test, y_train, y_test \u001b[38;5;241m=\u001b[39m \u001b[43mtrain_test_split\u001b[49m\u001b[43m(\u001b[49m\u001b[43mX\u001b[49m\u001b[43m,\u001b[49m\u001b[43m \u001b[49m\u001b[43my\u001b[49m\u001b[43m,\u001b[49m\u001b[43m \u001b[49m\u001b[43mtest_size\u001b[49m\u001b[43m \u001b[49m\u001b[38;5;241;43m=\u001b[39;49m\u001b[43m \u001b[49m\u001b[38;5;241;43m0.8\u001b[39;49m\u001b[43m,\u001b[49m\u001b[43m \u001b[49m\u001b[43mrandom_state\u001b[49m\u001b[43m \u001b[49m\u001b[38;5;241;43m=\u001b[39;49m\u001b[43m \u001b[49m\u001b[38;5;241;43m101\u001b[39;49m\u001b[43m)\u001b[49m\n\u001b[1;32m     14\u001b[0m \u001b[38;5;66;03m# Train the Model\u001b[39;00m\n\u001b[1;32m     16\u001b[0m regr \u001b[38;5;241m=\u001b[39m RandomForestRegressor(n_estimators \u001b[38;5;241m=\u001b[39m \u001b[38;5;241m10\u001b[39m, max_depth \u001b[38;5;241m=\u001b[39m \u001b[38;5;241m10\u001b[39m, random_state \u001b[38;5;241m=\u001b[39m \u001b[38;5;241m101\u001b[39m)\n",
      "File \u001b[0;32m/opt/homebrew/lib/python3.9/site-packages/sklearn/model_selection/_split.py:2562\u001b[0m, in \u001b[0;36mtrain_test_split\u001b[0;34m(test_size, train_size, random_state, shuffle, stratify, *arrays)\u001b[0m\n\u001b[1;32m   2559\u001b[0m arrays \u001b[38;5;241m=\u001b[39m indexable(\u001b[38;5;241m*\u001b[39marrays)\n\u001b[1;32m   2561\u001b[0m n_samples \u001b[38;5;241m=\u001b[39m _num_samples(arrays[\u001b[38;5;241m0\u001b[39m])\n\u001b[0;32m-> 2562\u001b[0m n_train, n_test \u001b[38;5;241m=\u001b[39m \u001b[43m_validate_shuffle_split\u001b[49m\u001b[43m(\u001b[49m\n\u001b[1;32m   2563\u001b[0m \u001b[43m    \u001b[49m\u001b[43mn_samples\u001b[49m\u001b[43m,\u001b[49m\u001b[43m \u001b[49m\u001b[43mtest_size\u001b[49m\u001b[43m,\u001b[49m\u001b[43m \u001b[49m\u001b[43mtrain_size\u001b[49m\u001b[43m,\u001b[49m\u001b[43m \u001b[49m\u001b[43mdefault_test_size\u001b[49m\u001b[38;5;241;43m=\u001b[39;49m\u001b[38;5;241;43m0.25\u001b[39;49m\n\u001b[1;32m   2564\u001b[0m \u001b[43m\u001b[49m\u001b[43m)\u001b[49m\n\u001b[1;32m   2566\u001b[0m \u001b[38;5;28;01mif\u001b[39;00m shuffle \u001b[38;5;129;01mis\u001b[39;00m \u001b[38;5;28;01mFalse\u001b[39;00m:\n\u001b[1;32m   2567\u001b[0m     \u001b[38;5;28;01mif\u001b[39;00m stratify \u001b[38;5;129;01mis\u001b[39;00m \u001b[38;5;129;01mnot\u001b[39;00m \u001b[38;5;28;01mNone\u001b[39;00m:\n",
      "File \u001b[0;32m/opt/homebrew/lib/python3.9/site-packages/sklearn/model_selection/_split.py:2236\u001b[0m, in \u001b[0;36m_validate_shuffle_split\u001b[0;34m(n_samples, test_size, train_size, default_test_size)\u001b[0m\n\u001b[1;32m   2233\u001b[0m n_train, n_test \u001b[38;5;241m=\u001b[39m \u001b[38;5;28mint\u001b[39m(n_train), \u001b[38;5;28mint\u001b[39m(n_test)\n\u001b[1;32m   2235\u001b[0m \u001b[38;5;28;01mif\u001b[39;00m n_train \u001b[38;5;241m==\u001b[39m \u001b[38;5;241m0\u001b[39m:\n\u001b[0;32m-> 2236\u001b[0m     \u001b[38;5;28;01mraise\u001b[39;00m \u001b[38;5;167;01mValueError\u001b[39;00m(\n\u001b[1;32m   2237\u001b[0m         \u001b[38;5;124m\"\u001b[39m\u001b[38;5;124mWith n_samples=\u001b[39m\u001b[38;5;132;01m{}\u001b[39;00m\u001b[38;5;124m, test_size=\u001b[39m\u001b[38;5;132;01m{}\u001b[39;00m\u001b[38;5;124m and train_size=\u001b[39m\u001b[38;5;132;01m{}\u001b[39;00m\u001b[38;5;124m, the \u001b[39m\u001b[38;5;124m\"\u001b[39m\n\u001b[1;32m   2238\u001b[0m         \u001b[38;5;124m\"\u001b[39m\u001b[38;5;124mresulting train set will be empty. Adjust any of the \u001b[39m\u001b[38;5;124m\"\u001b[39m\n\u001b[1;32m   2239\u001b[0m         \u001b[38;5;124m\"\u001b[39m\u001b[38;5;124maforementioned parameters.\u001b[39m\u001b[38;5;124m\"\u001b[39m\u001b[38;5;241m.\u001b[39mformat(n_samples, test_size, train_size)\n\u001b[1;32m   2240\u001b[0m     )\n\u001b[1;32m   2242\u001b[0m \u001b[38;5;28;01mreturn\u001b[39;00m n_train, n_test\n",
      "\u001b[0;31mValueError\u001b[0m: With n_samples=0, test_size=0.8 and train_size=None, the resulting train set will be empty. Adjust any of the aforementioned parameters."
     ]
    }
   ],
   "source": [
    "predict_claims('0392ee82d61e6b95e117d22d8f732b12',39)"
   ]
  },
  {
   "cell_type": "code",
   "execution_count": 45,
   "id": "c5a443f5",
   "metadata": {
    "execution": {
     "iopub.execute_input": "2023-05-10T02:15:43.057587Z",
     "iopub.status.busy": "2023-05-10T02:15:43.057487Z",
     "iopub.status.idle": "2023-05-10T02:15:43.059121Z",
     "shell.execute_reply": "2023-05-10T02:15:43.058844Z"
    }
   },
   "outputs": [],
   "source": [
    "query = \"\"\"\n",
    "SELECT *\n",
    "FROM `ironhacks-data.ironhacks_competition.prediction_list`\n",
    "\"\"\""
   ]
  },
  {
   "cell_type": "code",
   "execution_count": 46,
   "id": "0fa620c9",
   "metadata": {
    "execution": {
     "iopub.execute_input": "2023-05-10T02:15:43.061250Z",
     "iopub.status.busy": "2023-05-10T02:15:43.061073Z",
     "iopub.status.idle": "2023-05-10T02:15:44.766323Z",
     "shell.execute_reply": "2023-05-10T02:15:44.765230Z"
    }
   },
   "outputs": [],
   "source": [
    "query_job = bigquery_client.query(query)\n",
    "prediction_list = query_job.to_dataframe()"
   ]
  },
  {
   "cell_type": "code",
   "execution_count": 47,
   "id": "447b2caf",
   "metadata": {
    "execution": {
     "iopub.execute_input": "2023-05-10T02:15:44.771973Z",
     "iopub.status.busy": "2023-05-10T02:15:44.771596Z",
     "iopub.status.idle": "2023-05-10T02:15:44.784521Z",
     "shell.execute_reply": "2023-05-10T02:15:44.783557Z"
    }
   },
   "outputs": [
    {
     "data": {
      "text/html": [
       "<div>\n",
       "<style scoped>\n",
       "    .dataframe tbody tr th:only-of-type {\n",
       "        vertical-align: middle;\n",
       "    }\n",
       "\n",
       "    .dataframe tbody tr th {\n",
       "        vertical-align: top;\n",
       "    }\n",
       "\n",
       "    .dataframe thead th {\n",
       "        text-align: right;\n",
       "    }\n",
       "</style>\n",
       "<table border=\"1\" class=\"dataframe\">\n",
       "  <thead>\n",
       "    <tr style=\"text-align: right;\">\n",
       "      <th></th>\n",
       "      <th>uu_id</th>\n",
       "      <th>week_number</th>\n",
       "    </tr>\n",
       "  </thead>\n",
       "  <tbody>\n",
       "    <tr>\n",
       "      <th>0</th>\n",
       "      <td>5bf51fc2e162d6faf9e3cf79e4198378</td>\n",
       "      <td>44</td>\n",
       "    </tr>\n",
       "    <tr>\n",
       "      <th>1</th>\n",
       "      <td>420b44cc7e3f55d738df565421e59941</td>\n",
       "      <td>44</td>\n",
       "    </tr>\n",
       "    <tr>\n",
       "      <th>2</th>\n",
       "      <td>e39c66ecceec76ee8f9f811fa4a2d246</td>\n",
       "      <td>44</td>\n",
       "    </tr>\n",
       "    <tr>\n",
       "      <th>3</th>\n",
       "      <td>a90462cd11ae4e43144239bf7c4828a4</td>\n",
       "      <td>44</td>\n",
       "    </tr>\n",
       "    <tr>\n",
       "      <th>4</th>\n",
       "      <td>8b20a6749088c7ff1237983076ebfeaa</td>\n",
       "      <td>44</td>\n",
       "    </tr>\n",
       "    <tr>\n",
       "      <th>...</th>\n",
       "      <td>...</td>\n",
       "      <td>...</td>\n",
       "    </tr>\n",
       "    <tr>\n",
       "      <th>520</th>\n",
       "      <td>46c4f6c75e663b1ca82ea7994e6d83d3</td>\n",
       "      <td>44</td>\n",
       "    </tr>\n",
       "    <tr>\n",
       "      <th>521</th>\n",
       "      <td>1deebda501712e7595b531b8337bc31a</td>\n",
       "      <td>44</td>\n",
       "    </tr>\n",
       "    <tr>\n",
       "      <th>522</th>\n",
       "      <td>5a9758f65f001b6432ff31ff64a459d7</td>\n",
       "      <td>44</td>\n",
       "    </tr>\n",
       "    <tr>\n",
       "      <th>523</th>\n",
       "      <td>e8b3b95e93a6dc7dbb90f4e72e7ac065</td>\n",
       "      <td>44</td>\n",
       "    </tr>\n",
       "    <tr>\n",
       "      <th>524</th>\n",
       "      <td>932a58530abff8a48558e2a15639d453</td>\n",
       "      <td>44</td>\n",
       "    </tr>\n",
       "  </tbody>\n",
       "</table>\n",
       "<p>525 rows × 2 columns</p>\n",
       "</div>"
      ],
      "text/plain": [
       "                                uu_id  week_number\n",
       "0    5bf51fc2e162d6faf9e3cf79e4198378           44\n",
       "1    420b44cc7e3f55d738df565421e59941           44\n",
       "2    e39c66ecceec76ee8f9f811fa4a2d246           44\n",
       "3    a90462cd11ae4e43144239bf7c4828a4           44\n",
       "4    8b20a6749088c7ff1237983076ebfeaa           44\n",
       "..                                ...          ...\n",
       "520  46c4f6c75e663b1ca82ea7994e6d83d3           44\n",
       "521  1deebda501712e7595b531b8337bc31a           44\n",
       "522  5a9758f65f001b6432ff31ff64a459d7           44\n",
       "523  e8b3b95e93a6dc7dbb90f4e72e7ac065           44\n",
       "524  932a58530abff8a48558e2a15639d453           44\n",
       "\n",
       "[525 rows x 2 columns]"
      ]
     },
     "execution_count": 47,
     "metadata": {},
     "output_type": "execute_result"
    }
   ],
   "source": [
    "prediction_list"
   ]
  },
  {
   "cell_type": "code",
   "execution_count": 48,
   "id": "2f3dddb0",
   "metadata": {
    "execution": {
     "iopub.execute_input": "2023-05-10T02:15:44.788209Z",
     "iopub.status.busy": "2023-05-10T02:15:44.787724Z",
     "iopub.status.idle": "2023-05-10T02:15:44.791206Z",
     "shell.execute_reply": "2023-05-10T02:15:44.790635Z"
    }
   },
   "outputs": [],
   "source": [
    "uuids = prediction_list.uu_id.tolist()"
   ]
  },
  {
   "cell_type": "code",
   "execution_count": 49,
   "id": "3de4f2e5",
   "metadata": {
    "execution": {
     "iopub.execute_input": "2023-05-10T02:15:44.794267Z",
     "iopub.status.busy": "2023-05-10T02:15:44.793957Z",
     "iopub.status.idle": "2023-05-10T02:15:44.797497Z",
     "shell.execute_reply": "2023-05-10T02:15:44.796696Z"
    }
   },
   "outputs": [],
   "source": [
    "import csv "
   ]
  },
  {
   "cell_type": "code",
   "execution_count": 50,
   "id": "86364b76",
   "metadata": {
    "execution": {
     "iopub.execute_input": "2023-05-10T02:15:44.800719Z",
     "iopub.status.busy": "2023-05-10T02:15:44.800298Z",
     "iopub.status.idle": "2023-05-10T02:15:44.973568Z",
     "shell.execute_reply": "2023-05-10T02:15:44.973302Z"
    }
   },
   "outputs": [
    {
     "ename": "ValueError",
     "evalue": "With n_samples=4, test_size=0.8 and train_size=None, the resulting train set will be empty. Adjust any of the aforementioned parameters.",
     "output_type": "error",
     "traceback": [
      "\u001b[0;31m---------------------------------------------------------------------------\u001b[0m",
      "\u001b[0;31mValueError\u001b[0m                                Traceback (most recent call last)",
      "Cell \u001b[0;32mIn [50], line 4\u001b[0m\n\u001b[1;32m      2\u001b[0m rows \u001b[38;5;241m=\u001b[39m []\n\u001b[1;32m      3\u001b[0m \u001b[38;5;28;01mfor\u001b[39;00m uuid \u001b[38;5;129;01min\u001b[39;00m uuids:\n\u001b[0;32m----> 4\u001b[0m     rows\u001b[38;5;241m.\u001b[39mappend([uuid, \u001b[38;5;241m39\u001b[39m, \u001b[43mpredict_claims\u001b[49m\u001b[43m(\u001b[49m\u001b[43muuid\u001b[49m\u001b[43m,\u001b[49m\u001b[43m \u001b[49m\u001b[38;5;241;43m39\u001b[39;49m\u001b[43m)\u001b[49m])\n",
      "Cell \u001b[0;32mIn [42], line 13\u001b[0m, in \u001b[0;36mpredict_claims\u001b[0;34m(uuid, week)\u001b[0m\n\u001b[1;32m      8\u001b[0m y \u001b[38;5;241m=\u001b[39m data[[\u001b[38;5;124m'\u001b[39m\u001b[38;5;124mtotal_claims\u001b[39m\u001b[38;5;124m'\u001b[39m]]\n\u001b[1;32m     12\u001b[0m \u001b[38;5;66;03m# Splitting data into training and test sets\u001b[39;00m\n\u001b[0;32m---> 13\u001b[0m X_train, X_test, y_train, y_test \u001b[38;5;241m=\u001b[39m \u001b[43mtrain_test_split\u001b[49m\u001b[43m(\u001b[49m\u001b[43mX\u001b[49m\u001b[43m,\u001b[49m\u001b[43m \u001b[49m\u001b[43my\u001b[49m\u001b[43m,\u001b[49m\u001b[43m \u001b[49m\u001b[43mtest_size\u001b[49m\u001b[43m \u001b[49m\u001b[38;5;241;43m=\u001b[39;49m\u001b[43m \u001b[49m\u001b[38;5;241;43m0.8\u001b[39;49m\u001b[43m,\u001b[49m\u001b[43m \u001b[49m\u001b[43mrandom_state\u001b[49m\u001b[43m \u001b[49m\u001b[38;5;241;43m=\u001b[39;49m\u001b[43m \u001b[49m\u001b[38;5;241;43m101\u001b[39;49m\u001b[43m)\u001b[49m\n\u001b[1;32m     14\u001b[0m \u001b[38;5;66;03m# Train the Model\u001b[39;00m\n\u001b[1;32m     16\u001b[0m regr \u001b[38;5;241m=\u001b[39m RandomForestRegressor(n_estimators \u001b[38;5;241m=\u001b[39m \u001b[38;5;241m10\u001b[39m, max_depth \u001b[38;5;241m=\u001b[39m \u001b[38;5;241m10\u001b[39m, random_state \u001b[38;5;241m=\u001b[39m \u001b[38;5;241m101\u001b[39m)\n",
      "File \u001b[0;32m/opt/homebrew/lib/python3.9/site-packages/sklearn/model_selection/_split.py:2562\u001b[0m, in \u001b[0;36mtrain_test_split\u001b[0;34m(test_size, train_size, random_state, shuffle, stratify, *arrays)\u001b[0m\n\u001b[1;32m   2559\u001b[0m arrays \u001b[38;5;241m=\u001b[39m indexable(\u001b[38;5;241m*\u001b[39marrays)\n\u001b[1;32m   2561\u001b[0m n_samples \u001b[38;5;241m=\u001b[39m _num_samples(arrays[\u001b[38;5;241m0\u001b[39m])\n\u001b[0;32m-> 2562\u001b[0m n_train, n_test \u001b[38;5;241m=\u001b[39m \u001b[43m_validate_shuffle_split\u001b[49m\u001b[43m(\u001b[49m\n\u001b[1;32m   2563\u001b[0m \u001b[43m    \u001b[49m\u001b[43mn_samples\u001b[49m\u001b[43m,\u001b[49m\u001b[43m \u001b[49m\u001b[43mtest_size\u001b[49m\u001b[43m,\u001b[49m\u001b[43m \u001b[49m\u001b[43mtrain_size\u001b[49m\u001b[43m,\u001b[49m\u001b[43m \u001b[49m\u001b[43mdefault_test_size\u001b[49m\u001b[38;5;241;43m=\u001b[39;49m\u001b[38;5;241;43m0.25\u001b[39;49m\n\u001b[1;32m   2564\u001b[0m \u001b[43m\u001b[49m\u001b[43m)\u001b[49m\n\u001b[1;32m   2566\u001b[0m \u001b[38;5;28;01mif\u001b[39;00m shuffle \u001b[38;5;129;01mis\u001b[39;00m \u001b[38;5;28;01mFalse\u001b[39;00m:\n\u001b[1;32m   2567\u001b[0m     \u001b[38;5;28;01mif\u001b[39;00m stratify \u001b[38;5;129;01mis\u001b[39;00m \u001b[38;5;129;01mnot\u001b[39;00m \u001b[38;5;28;01mNone\u001b[39;00m:\n",
      "File \u001b[0;32m/opt/homebrew/lib/python3.9/site-packages/sklearn/model_selection/_split.py:2236\u001b[0m, in \u001b[0;36m_validate_shuffle_split\u001b[0;34m(n_samples, test_size, train_size, default_test_size)\u001b[0m\n\u001b[1;32m   2233\u001b[0m n_train, n_test \u001b[38;5;241m=\u001b[39m \u001b[38;5;28mint\u001b[39m(n_train), \u001b[38;5;28mint\u001b[39m(n_test)\n\u001b[1;32m   2235\u001b[0m \u001b[38;5;28;01mif\u001b[39;00m n_train \u001b[38;5;241m==\u001b[39m \u001b[38;5;241m0\u001b[39m:\n\u001b[0;32m-> 2236\u001b[0m     \u001b[38;5;28;01mraise\u001b[39;00m \u001b[38;5;167;01mValueError\u001b[39;00m(\n\u001b[1;32m   2237\u001b[0m         \u001b[38;5;124m\"\u001b[39m\u001b[38;5;124mWith n_samples=\u001b[39m\u001b[38;5;132;01m{}\u001b[39;00m\u001b[38;5;124m, test_size=\u001b[39m\u001b[38;5;132;01m{}\u001b[39;00m\u001b[38;5;124m and train_size=\u001b[39m\u001b[38;5;132;01m{}\u001b[39;00m\u001b[38;5;124m, the \u001b[39m\u001b[38;5;124m\"\u001b[39m\n\u001b[1;32m   2238\u001b[0m         \u001b[38;5;124m\"\u001b[39m\u001b[38;5;124mresulting train set will be empty. Adjust any of the \u001b[39m\u001b[38;5;124m\"\u001b[39m\n\u001b[1;32m   2239\u001b[0m         \u001b[38;5;124m\"\u001b[39m\u001b[38;5;124maforementioned parameters.\u001b[39m\u001b[38;5;124m\"\u001b[39m\u001b[38;5;241m.\u001b[39mformat(n_samples, test_size, train_size)\n\u001b[1;32m   2240\u001b[0m     )\n\u001b[1;32m   2242\u001b[0m \u001b[38;5;28;01mreturn\u001b[39;00m n_train, n_test\n",
      "\u001b[0;31mValueError\u001b[0m: With n_samples=4, test_size=0.8 and train_size=None, the resulting train set will be empty. Adjust any of the aforementioned parameters."
     ]
    }
   ],
   "source": [
    "fields = ['uu_id', 'week_number', 'total_claims']\n",
    "rows = []\n",
    "for uuid in uuids:\n",
    "    rows.append([uuid, 39, predict_claims(uuid, 39)])"
   ]
  },
  {
   "cell_type": "code",
   "execution_count": 51,
   "id": "7a49d674",
   "metadata": {
    "execution": {
     "iopub.execute_input": "2023-05-10T02:15:44.975118Z",
     "iopub.status.busy": "2023-05-10T02:15:44.974996Z",
     "iopub.status.idle": "2023-05-10T02:15:44.976645Z",
     "shell.execute_reply": "2023-05-10T02:15:44.976415Z"
    }
   },
   "outputs": [],
   "source": [
    "filename = 'submission_prediction_output.csv'"
   ]
  },
  {
   "cell_type": "code",
   "execution_count": 52,
   "id": "5312459d",
   "metadata": {
    "execution": {
     "iopub.execute_input": "2023-05-10T02:15:44.977987Z",
     "iopub.status.busy": "2023-05-10T02:15:44.977904Z",
     "iopub.status.idle": "2023-05-10T02:15:44.998757Z",
     "shell.execute_reply": "2023-05-10T02:15:44.998482Z"
    }
   },
   "outputs": [
    {
     "ename": "ValueError",
     "evalue": "With n_samples=0, test_size=0.8 and train_size=None, the resulting train set will be empty. Adjust any of the aforementioned parameters.",
     "output_type": "error",
     "traceback": [
      "\u001b[0;31m---------------------------------------------------------------------------\u001b[0m",
      "\u001b[0;31mValueError\u001b[0m                                Traceback (most recent call last)",
      "Cell \u001b[0;32mIn [52], line 1\u001b[0m\n\u001b[0;32m----> 1\u001b[0m \u001b[43mpredict_claims\u001b[49m\u001b[43m(\u001b[49m\u001b[38;5;124;43m'\u001b[39;49m\u001b[38;5;124;43m2a63ff5339efc0d6ac8023f6d06746e2\u001b[39;49m\u001b[38;5;124;43m'\u001b[39;49m\u001b[43m,\u001b[49m\u001b[43m \u001b[49m\u001b[38;5;241;43m39\u001b[39;49m\u001b[43m)\u001b[49m\n",
      "Cell \u001b[0;32mIn [42], line 13\u001b[0m, in \u001b[0;36mpredict_claims\u001b[0;34m(uuid, week)\u001b[0m\n\u001b[1;32m      8\u001b[0m y \u001b[38;5;241m=\u001b[39m data[[\u001b[38;5;124m'\u001b[39m\u001b[38;5;124mtotal_claims\u001b[39m\u001b[38;5;124m'\u001b[39m]]\n\u001b[1;32m     12\u001b[0m \u001b[38;5;66;03m# Splitting data into training and test sets\u001b[39;00m\n\u001b[0;32m---> 13\u001b[0m X_train, X_test, y_train, y_test \u001b[38;5;241m=\u001b[39m \u001b[43mtrain_test_split\u001b[49m\u001b[43m(\u001b[49m\u001b[43mX\u001b[49m\u001b[43m,\u001b[49m\u001b[43m \u001b[49m\u001b[43my\u001b[49m\u001b[43m,\u001b[49m\u001b[43m \u001b[49m\u001b[43mtest_size\u001b[49m\u001b[43m \u001b[49m\u001b[38;5;241;43m=\u001b[39;49m\u001b[43m \u001b[49m\u001b[38;5;241;43m0.8\u001b[39;49m\u001b[43m,\u001b[49m\u001b[43m \u001b[49m\u001b[43mrandom_state\u001b[49m\u001b[43m \u001b[49m\u001b[38;5;241;43m=\u001b[39;49m\u001b[43m \u001b[49m\u001b[38;5;241;43m101\u001b[39;49m\u001b[43m)\u001b[49m\n\u001b[1;32m     14\u001b[0m \u001b[38;5;66;03m# Train the Model\u001b[39;00m\n\u001b[1;32m     16\u001b[0m regr \u001b[38;5;241m=\u001b[39m RandomForestRegressor(n_estimators \u001b[38;5;241m=\u001b[39m \u001b[38;5;241m10\u001b[39m, max_depth \u001b[38;5;241m=\u001b[39m \u001b[38;5;241m10\u001b[39m, random_state \u001b[38;5;241m=\u001b[39m \u001b[38;5;241m101\u001b[39m)\n",
      "File \u001b[0;32m/opt/homebrew/lib/python3.9/site-packages/sklearn/model_selection/_split.py:2562\u001b[0m, in \u001b[0;36mtrain_test_split\u001b[0;34m(test_size, train_size, random_state, shuffle, stratify, *arrays)\u001b[0m\n\u001b[1;32m   2559\u001b[0m arrays \u001b[38;5;241m=\u001b[39m indexable(\u001b[38;5;241m*\u001b[39marrays)\n\u001b[1;32m   2561\u001b[0m n_samples \u001b[38;5;241m=\u001b[39m _num_samples(arrays[\u001b[38;5;241m0\u001b[39m])\n\u001b[0;32m-> 2562\u001b[0m n_train, n_test \u001b[38;5;241m=\u001b[39m \u001b[43m_validate_shuffle_split\u001b[49m\u001b[43m(\u001b[49m\n\u001b[1;32m   2563\u001b[0m \u001b[43m    \u001b[49m\u001b[43mn_samples\u001b[49m\u001b[43m,\u001b[49m\u001b[43m \u001b[49m\u001b[43mtest_size\u001b[49m\u001b[43m,\u001b[49m\u001b[43m \u001b[49m\u001b[43mtrain_size\u001b[49m\u001b[43m,\u001b[49m\u001b[43m \u001b[49m\u001b[43mdefault_test_size\u001b[49m\u001b[38;5;241;43m=\u001b[39;49m\u001b[38;5;241;43m0.25\u001b[39;49m\n\u001b[1;32m   2564\u001b[0m \u001b[43m\u001b[49m\u001b[43m)\u001b[49m\n\u001b[1;32m   2566\u001b[0m \u001b[38;5;28;01mif\u001b[39;00m shuffle \u001b[38;5;129;01mis\u001b[39;00m \u001b[38;5;28;01mFalse\u001b[39;00m:\n\u001b[1;32m   2567\u001b[0m     \u001b[38;5;28;01mif\u001b[39;00m stratify \u001b[38;5;129;01mis\u001b[39;00m \u001b[38;5;129;01mnot\u001b[39;00m \u001b[38;5;28;01mNone\u001b[39;00m:\n",
      "File \u001b[0;32m/opt/homebrew/lib/python3.9/site-packages/sklearn/model_selection/_split.py:2236\u001b[0m, in \u001b[0;36m_validate_shuffle_split\u001b[0;34m(n_samples, test_size, train_size, default_test_size)\u001b[0m\n\u001b[1;32m   2233\u001b[0m n_train, n_test \u001b[38;5;241m=\u001b[39m \u001b[38;5;28mint\u001b[39m(n_train), \u001b[38;5;28mint\u001b[39m(n_test)\n\u001b[1;32m   2235\u001b[0m \u001b[38;5;28;01mif\u001b[39;00m n_train \u001b[38;5;241m==\u001b[39m \u001b[38;5;241m0\u001b[39m:\n\u001b[0;32m-> 2236\u001b[0m     \u001b[38;5;28;01mraise\u001b[39;00m \u001b[38;5;167;01mValueError\u001b[39;00m(\n\u001b[1;32m   2237\u001b[0m         \u001b[38;5;124m\"\u001b[39m\u001b[38;5;124mWith n_samples=\u001b[39m\u001b[38;5;132;01m{}\u001b[39;00m\u001b[38;5;124m, test_size=\u001b[39m\u001b[38;5;132;01m{}\u001b[39;00m\u001b[38;5;124m and train_size=\u001b[39m\u001b[38;5;132;01m{}\u001b[39;00m\u001b[38;5;124m, the \u001b[39m\u001b[38;5;124m\"\u001b[39m\n\u001b[1;32m   2238\u001b[0m         \u001b[38;5;124m\"\u001b[39m\u001b[38;5;124mresulting train set will be empty. Adjust any of the \u001b[39m\u001b[38;5;124m\"\u001b[39m\n\u001b[1;32m   2239\u001b[0m         \u001b[38;5;124m\"\u001b[39m\u001b[38;5;124maforementioned parameters.\u001b[39m\u001b[38;5;124m\"\u001b[39m\u001b[38;5;241m.\u001b[39mformat(n_samples, test_size, train_size)\n\u001b[1;32m   2240\u001b[0m     )\n\u001b[1;32m   2242\u001b[0m \u001b[38;5;28;01mreturn\u001b[39;00m n_train, n_test\n",
      "\u001b[0;31mValueError\u001b[0m: With n_samples=0, test_size=0.8 and train_size=None, the resulting train set will be empty. Adjust any of the aforementioned parameters."
     ]
    }
   ],
   "source": [
    "predict_claims('2a63ff5339efc0d6ac8023f6d06746e2', 39)"
   ]
  },
  {
   "cell_type": "code",
   "execution_count": 53,
   "id": "6c313f95",
   "metadata": {
    "execution": {
     "iopub.execute_input": "2023-05-10T02:15:45.000264Z",
     "iopub.status.busy": "2023-05-10T02:15:45.000159Z",
     "iopub.status.idle": "2023-05-10T02:15:45.157228Z",
     "shell.execute_reply": "2023-05-10T02:15:45.156937Z"
    }
   },
   "outputs": [
    {
     "ename": "ValueError",
     "evalue": "With n_samples=4, test_size=0.8 and train_size=None, the resulting train set will be empty. Adjust any of the aforementioned parameters.",
     "output_type": "error",
     "traceback": [
      "\u001b[0;31m---------------------------------------------------------------------------\u001b[0m",
      "\u001b[0;31mValueError\u001b[0m                                Traceback (most recent call last)",
      "Cell \u001b[0;32mIn [53], line 4\u001b[0m\n\u001b[1;32m      2\u001b[0m rows \u001b[38;5;241m=\u001b[39m []\n\u001b[1;32m      3\u001b[0m \u001b[38;5;28;01mfor\u001b[39;00m uuid \u001b[38;5;129;01min\u001b[39;00m uuids:\n\u001b[0;32m----> 4\u001b[0m     claims \u001b[38;5;241m=\u001b[39m \u001b[43mpredict_claims\u001b[49m\u001b[43m(\u001b[49m\u001b[43muuid\u001b[49m\u001b[43m,\u001b[49m\u001b[43m \u001b[49m\u001b[38;5;241;43m39\u001b[39;49m\u001b[43m)\u001b[49m\n\u001b[1;32m      5\u001b[0m     rows\u001b[38;5;241m.\u001b[39mappend([uuid, \u001b[38;5;241m39\u001b[39m, claims])\n",
      "Cell \u001b[0;32mIn [42], line 13\u001b[0m, in \u001b[0;36mpredict_claims\u001b[0;34m(uuid, week)\u001b[0m\n\u001b[1;32m      8\u001b[0m y \u001b[38;5;241m=\u001b[39m data[[\u001b[38;5;124m'\u001b[39m\u001b[38;5;124mtotal_claims\u001b[39m\u001b[38;5;124m'\u001b[39m]]\n\u001b[1;32m     12\u001b[0m \u001b[38;5;66;03m# Splitting data into training and test sets\u001b[39;00m\n\u001b[0;32m---> 13\u001b[0m X_train, X_test, y_train, y_test \u001b[38;5;241m=\u001b[39m \u001b[43mtrain_test_split\u001b[49m\u001b[43m(\u001b[49m\u001b[43mX\u001b[49m\u001b[43m,\u001b[49m\u001b[43m \u001b[49m\u001b[43my\u001b[49m\u001b[43m,\u001b[49m\u001b[43m \u001b[49m\u001b[43mtest_size\u001b[49m\u001b[43m \u001b[49m\u001b[38;5;241;43m=\u001b[39;49m\u001b[43m \u001b[49m\u001b[38;5;241;43m0.8\u001b[39;49m\u001b[43m,\u001b[49m\u001b[43m \u001b[49m\u001b[43mrandom_state\u001b[49m\u001b[43m \u001b[49m\u001b[38;5;241;43m=\u001b[39;49m\u001b[43m \u001b[49m\u001b[38;5;241;43m101\u001b[39;49m\u001b[43m)\u001b[49m\n\u001b[1;32m     14\u001b[0m \u001b[38;5;66;03m# Train the Model\u001b[39;00m\n\u001b[1;32m     16\u001b[0m regr \u001b[38;5;241m=\u001b[39m RandomForestRegressor(n_estimators \u001b[38;5;241m=\u001b[39m \u001b[38;5;241m10\u001b[39m, max_depth \u001b[38;5;241m=\u001b[39m \u001b[38;5;241m10\u001b[39m, random_state \u001b[38;5;241m=\u001b[39m \u001b[38;5;241m101\u001b[39m)\n",
      "File \u001b[0;32m/opt/homebrew/lib/python3.9/site-packages/sklearn/model_selection/_split.py:2562\u001b[0m, in \u001b[0;36mtrain_test_split\u001b[0;34m(test_size, train_size, random_state, shuffle, stratify, *arrays)\u001b[0m\n\u001b[1;32m   2559\u001b[0m arrays \u001b[38;5;241m=\u001b[39m indexable(\u001b[38;5;241m*\u001b[39marrays)\n\u001b[1;32m   2561\u001b[0m n_samples \u001b[38;5;241m=\u001b[39m _num_samples(arrays[\u001b[38;5;241m0\u001b[39m])\n\u001b[0;32m-> 2562\u001b[0m n_train, n_test \u001b[38;5;241m=\u001b[39m \u001b[43m_validate_shuffle_split\u001b[49m\u001b[43m(\u001b[49m\n\u001b[1;32m   2563\u001b[0m \u001b[43m    \u001b[49m\u001b[43mn_samples\u001b[49m\u001b[43m,\u001b[49m\u001b[43m \u001b[49m\u001b[43mtest_size\u001b[49m\u001b[43m,\u001b[49m\u001b[43m \u001b[49m\u001b[43mtrain_size\u001b[49m\u001b[43m,\u001b[49m\u001b[43m \u001b[49m\u001b[43mdefault_test_size\u001b[49m\u001b[38;5;241;43m=\u001b[39;49m\u001b[38;5;241;43m0.25\u001b[39;49m\n\u001b[1;32m   2564\u001b[0m \u001b[43m\u001b[49m\u001b[43m)\u001b[49m\n\u001b[1;32m   2566\u001b[0m \u001b[38;5;28;01mif\u001b[39;00m shuffle \u001b[38;5;129;01mis\u001b[39;00m \u001b[38;5;28;01mFalse\u001b[39;00m:\n\u001b[1;32m   2567\u001b[0m     \u001b[38;5;28;01mif\u001b[39;00m stratify \u001b[38;5;129;01mis\u001b[39;00m \u001b[38;5;129;01mnot\u001b[39;00m \u001b[38;5;28;01mNone\u001b[39;00m:\n",
      "File \u001b[0;32m/opt/homebrew/lib/python3.9/site-packages/sklearn/model_selection/_split.py:2236\u001b[0m, in \u001b[0;36m_validate_shuffle_split\u001b[0;34m(n_samples, test_size, train_size, default_test_size)\u001b[0m\n\u001b[1;32m   2233\u001b[0m n_train, n_test \u001b[38;5;241m=\u001b[39m \u001b[38;5;28mint\u001b[39m(n_train), \u001b[38;5;28mint\u001b[39m(n_test)\n\u001b[1;32m   2235\u001b[0m \u001b[38;5;28;01mif\u001b[39;00m n_train \u001b[38;5;241m==\u001b[39m \u001b[38;5;241m0\u001b[39m:\n\u001b[0;32m-> 2236\u001b[0m     \u001b[38;5;28;01mraise\u001b[39;00m \u001b[38;5;167;01mValueError\u001b[39;00m(\n\u001b[1;32m   2237\u001b[0m         \u001b[38;5;124m\"\u001b[39m\u001b[38;5;124mWith n_samples=\u001b[39m\u001b[38;5;132;01m{}\u001b[39;00m\u001b[38;5;124m, test_size=\u001b[39m\u001b[38;5;132;01m{}\u001b[39;00m\u001b[38;5;124m and train_size=\u001b[39m\u001b[38;5;132;01m{}\u001b[39;00m\u001b[38;5;124m, the \u001b[39m\u001b[38;5;124m\"\u001b[39m\n\u001b[1;32m   2238\u001b[0m         \u001b[38;5;124m\"\u001b[39m\u001b[38;5;124mresulting train set will be empty. Adjust any of the \u001b[39m\u001b[38;5;124m\"\u001b[39m\n\u001b[1;32m   2239\u001b[0m         \u001b[38;5;124m\"\u001b[39m\u001b[38;5;124maforementioned parameters.\u001b[39m\u001b[38;5;124m\"\u001b[39m\u001b[38;5;241m.\u001b[39mformat(n_samples, test_size, train_size)\n\u001b[1;32m   2240\u001b[0m     )\n\u001b[1;32m   2242\u001b[0m \u001b[38;5;28;01mreturn\u001b[39;00m n_train, n_test\n",
      "\u001b[0;31mValueError\u001b[0m: With n_samples=4, test_size=0.8 and train_size=None, the resulting train set will be empty. Adjust any of the aforementioned parameters."
     ]
    }
   ],
   "source": [
    "fields = ['uu_id', 'week_number', 'total_claims']\n",
    "rows = []\n",
    "for uuid in uuids:\n",
    "    claims = predict_claims(uuid, 39)\n",
    "    rows.append([uuid, 39, claims])"
   ]
  },
  {
   "cell_type": "code",
   "execution_count": 54,
   "id": "3f637ef6",
   "metadata": {
    "execution": {
     "iopub.execute_input": "2023-05-10T02:15:45.158830Z",
     "iopub.status.busy": "2023-05-10T02:15:45.158716Z",
     "iopub.status.idle": "2023-05-10T02:15:45.160348Z",
     "shell.execute_reply": "2023-05-10T02:15:45.160121Z"
    }
   },
   "outputs": [],
   "source": [
    "filename = 'submission_prediction_output.csv'"
   ]
  },
  {
   "cell_type": "code",
   "execution_count": 55,
   "id": "5ade029b",
   "metadata": {
    "execution": {
     "iopub.execute_input": "2023-05-10T02:15:45.161750Z",
     "iopub.status.busy": "2023-05-10T02:15:45.161659Z",
     "iopub.status.idle": "2023-05-10T02:15:45.183422Z",
     "shell.execute_reply": "2023-05-10T02:15:45.183124Z"
    }
   },
   "outputs": [
    {
     "ename": "ValueError",
     "evalue": "With n_samples=0, test_size=0.8 and train_size=None, the resulting train set will be empty. Adjust any of the aforementioned parameters.",
     "output_type": "error",
     "traceback": [
      "\u001b[0;31m---------------------------------------------------------------------------\u001b[0m",
      "\u001b[0;31mValueError\u001b[0m                                Traceback (most recent call last)",
      "Cell \u001b[0;32mIn [55], line 1\u001b[0m\n\u001b[0;32m----> 1\u001b[0m a \u001b[38;5;241m=\u001b[39m \u001b[43mpredict_claims\u001b[49m\u001b[43m(\u001b[49m\u001b[38;5;124;43m'\u001b[39;49m\u001b[38;5;124;43m2a63ff5339efc0d6ac8023f6d06746e2\u001b[39;49m\u001b[38;5;124;43m'\u001b[39;49m\u001b[43m,\u001b[49m\u001b[43m \u001b[49m\u001b[38;5;241;43m39\u001b[39;49m\u001b[43m)\u001b[49m\n",
      "Cell \u001b[0;32mIn [42], line 13\u001b[0m, in \u001b[0;36mpredict_claims\u001b[0;34m(uuid, week)\u001b[0m\n\u001b[1;32m      8\u001b[0m y \u001b[38;5;241m=\u001b[39m data[[\u001b[38;5;124m'\u001b[39m\u001b[38;5;124mtotal_claims\u001b[39m\u001b[38;5;124m'\u001b[39m]]\n\u001b[1;32m     12\u001b[0m \u001b[38;5;66;03m# Splitting data into training and test sets\u001b[39;00m\n\u001b[0;32m---> 13\u001b[0m X_train, X_test, y_train, y_test \u001b[38;5;241m=\u001b[39m \u001b[43mtrain_test_split\u001b[49m\u001b[43m(\u001b[49m\u001b[43mX\u001b[49m\u001b[43m,\u001b[49m\u001b[43m \u001b[49m\u001b[43my\u001b[49m\u001b[43m,\u001b[49m\u001b[43m \u001b[49m\u001b[43mtest_size\u001b[49m\u001b[43m \u001b[49m\u001b[38;5;241;43m=\u001b[39;49m\u001b[43m \u001b[49m\u001b[38;5;241;43m0.8\u001b[39;49m\u001b[43m,\u001b[49m\u001b[43m \u001b[49m\u001b[43mrandom_state\u001b[49m\u001b[43m \u001b[49m\u001b[38;5;241;43m=\u001b[39;49m\u001b[43m \u001b[49m\u001b[38;5;241;43m101\u001b[39;49m\u001b[43m)\u001b[49m\n\u001b[1;32m     14\u001b[0m \u001b[38;5;66;03m# Train the Model\u001b[39;00m\n\u001b[1;32m     16\u001b[0m regr \u001b[38;5;241m=\u001b[39m RandomForestRegressor(n_estimators \u001b[38;5;241m=\u001b[39m \u001b[38;5;241m10\u001b[39m, max_depth \u001b[38;5;241m=\u001b[39m \u001b[38;5;241m10\u001b[39m, random_state \u001b[38;5;241m=\u001b[39m \u001b[38;5;241m101\u001b[39m)\n",
      "File \u001b[0;32m/opt/homebrew/lib/python3.9/site-packages/sklearn/model_selection/_split.py:2562\u001b[0m, in \u001b[0;36mtrain_test_split\u001b[0;34m(test_size, train_size, random_state, shuffle, stratify, *arrays)\u001b[0m\n\u001b[1;32m   2559\u001b[0m arrays \u001b[38;5;241m=\u001b[39m indexable(\u001b[38;5;241m*\u001b[39marrays)\n\u001b[1;32m   2561\u001b[0m n_samples \u001b[38;5;241m=\u001b[39m _num_samples(arrays[\u001b[38;5;241m0\u001b[39m])\n\u001b[0;32m-> 2562\u001b[0m n_train, n_test \u001b[38;5;241m=\u001b[39m \u001b[43m_validate_shuffle_split\u001b[49m\u001b[43m(\u001b[49m\n\u001b[1;32m   2563\u001b[0m \u001b[43m    \u001b[49m\u001b[43mn_samples\u001b[49m\u001b[43m,\u001b[49m\u001b[43m \u001b[49m\u001b[43mtest_size\u001b[49m\u001b[43m,\u001b[49m\u001b[43m \u001b[49m\u001b[43mtrain_size\u001b[49m\u001b[43m,\u001b[49m\u001b[43m \u001b[49m\u001b[43mdefault_test_size\u001b[49m\u001b[38;5;241;43m=\u001b[39;49m\u001b[38;5;241;43m0.25\u001b[39;49m\n\u001b[1;32m   2564\u001b[0m \u001b[43m\u001b[49m\u001b[43m)\u001b[49m\n\u001b[1;32m   2566\u001b[0m \u001b[38;5;28;01mif\u001b[39;00m shuffle \u001b[38;5;129;01mis\u001b[39;00m \u001b[38;5;28;01mFalse\u001b[39;00m:\n\u001b[1;32m   2567\u001b[0m     \u001b[38;5;28;01mif\u001b[39;00m stratify \u001b[38;5;129;01mis\u001b[39;00m \u001b[38;5;129;01mnot\u001b[39;00m \u001b[38;5;28;01mNone\u001b[39;00m:\n",
      "File \u001b[0;32m/opt/homebrew/lib/python3.9/site-packages/sklearn/model_selection/_split.py:2236\u001b[0m, in \u001b[0;36m_validate_shuffle_split\u001b[0;34m(n_samples, test_size, train_size, default_test_size)\u001b[0m\n\u001b[1;32m   2233\u001b[0m n_train, n_test \u001b[38;5;241m=\u001b[39m \u001b[38;5;28mint\u001b[39m(n_train), \u001b[38;5;28mint\u001b[39m(n_test)\n\u001b[1;32m   2235\u001b[0m \u001b[38;5;28;01mif\u001b[39;00m n_train \u001b[38;5;241m==\u001b[39m \u001b[38;5;241m0\u001b[39m:\n\u001b[0;32m-> 2236\u001b[0m     \u001b[38;5;28;01mraise\u001b[39;00m \u001b[38;5;167;01mValueError\u001b[39;00m(\n\u001b[1;32m   2237\u001b[0m         \u001b[38;5;124m\"\u001b[39m\u001b[38;5;124mWith n_samples=\u001b[39m\u001b[38;5;132;01m{}\u001b[39;00m\u001b[38;5;124m, test_size=\u001b[39m\u001b[38;5;132;01m{}\u001b[39;00m\u001b[38;5;124m and train_size=\u001b[39m\u001b[38;5;132;01m{}\u001b[39;00m\u001b[38;5;124m, the \u001b[39m\u001b[38;5;124m\"\u001b[39m\n\u001b[1;32m   2238\u001b[0m         \u001b[38;5;124m\"\u001b[39m\u001b[38;5;124mresulting train set will be empty. Adjust any of the \u001b[39m\u001b[38;5;124m\"\u001b[39m\n\u001b[1;32m   2239\u001b[0m         \u001b[38;5;124m\"\u001b[39m\u001b[38;5;124maforementioned parameters.\u001b[39m\u001b[38;5;124m\"\u001b[39m\u001b[38;5;241m.\u001b[39mformat(n_samples, test_size, train_size)\n\u001b[1;32m   2240\u001b[0m     )\n\u001b[1;32m   2242\u001b[0m \u001b[38;5;28;01mreturn\u001b[39;00m n_train, n_test\n",
      "\u001b[0;31mValueError\u001b[0m: With n_samples=0, test_size=0.8 and train_size=None, the resulting train set will be empty. Adjust any of the aforementioned parameters."
     ]
    }
   ],
   "source": [
    "a = predict_claims('2a63ff5339efc0d6ac8023f6d06746e2', 39)"
   ]
  },
  {
   "cell_type": "code",
   "execution_count": 56,
   "id": "18d1a555",
   "metadata": {
    "execution": {
     "iopub.execute_input": "2023-05-10T02:15:45.184881Z",
     "iopub.status.busy": "2023-05-10T02:15:45.184771Z",
     "iopub.status.idle": "2023-05-10T02:15:45.191030Z",
     "shell.execute_reply": "2023-05-10T02:15:45.190773Z"
    }
   },
   "outputs": [
    {
     "ename": "NameError",
     "evalue": "name 'a' is not defined",
     "output_type": "error",
     "traceback": [
      "\u001b[0;31m---------------------------------------------------------------------------\u001b[0m",
      "\u001b[0;31mNameError\u001b[0m                                 Traceback (most recent call last)",
      "Cell \u001b[0;32mIn [56], line 1\u001b[0m\n\u001b[0;32m----> 1\u001b[0m \u001b[43ma\u001b[49m\n",
      "\u001b[0;31mNameError\u001b[0m: name 'a' is not defined"
     ]
    }
   ],
   "source": [
    "a"
   ]
  },
  {
   "cell_type": "code",
   "execution_count": 57,
   "id": "7f197154",
   "metadata": {
    "execution": {
     "iopub.execute_input": "2023-05-10T02:15:45.192484Z",
     "iopub.status.busy": "2023-05-10T02:15:45.192404Z",
     "iopub.status.idle": "2023-05-10T02:15:45.344199Z",
     "shell.execute_reply": "2023-05-10T02:15:45.343905Z"
    }
   },
   "outputs": [
    {
     "name": "stdout",
     "output_type": "stream",
     "text": [
      "5bf51fc2e162d6faf9e3cf79e4198378\n",
      "420b44cc7e3f55d738df565421e59941\n",
      "e39c66ecceec76ee8f9f811fa4a2d246\n",
      "a90462cd11ae4e43144239bf7c4828a4\n",
      "8b20a6749088c7ff1237983076ebfeaa\n",
      "489a93264d03adecc4589fd9cd34ad36\n",
      "f61f291c865fe4fe2bfd6dad53e5d058\n",
      "f4520092ddd64f380cc29f27329112a6\n",
      "447d5984bb8a8179bff002ccd1bba162\n",
      "56d73815bdda97aca8e26051183ed3ba\n",
      "050a624d618a68e43fe31189909c644f\n",
      "5c43cbf8f0d860e91a9160706ea9b7d8\n",
      "1400fd6122c6fe7582a30ee1280beb4b\n",
      "02a7b845ab6b3fc2c09a50cdc486db2a\n",
      "a993d47c7143bed2a187b0cac7d17983\n",
      "09fbf26479f644ad33186ec51a90d65d\n",
      "ce8723e47ce346b09bc20deb5d27749e\n",
      "b67c2c4abede3730932f8d53aba0341a\n"
     ]
    },
    {
     "ename": "ValueError",
     "evalue": "With n_samples=4, test_size=0.8 and train_size=None, the resulting train set will be empty. Adjust any of the aforementioned parameters.",
     "output_type": "error",
     "traceback": [
      "\u001b[0;31m---------------------------------------------------------------------------\u001b[0m",
      "\u001b[0;31mValueError\u001b[0m                                Traceback (most recent call last)",
      "Cell \u001b[0;32mIn [57], line 5\u001b[0m\n\u001b[1;32m      3\u001b[0m \u001b[38;5;28;01mfor\u001b[39;00m uuid \u001b[38;5;129;01min\u001b[39;00m uuids:\n\u001b[1;32m      4\u001b[0m     \u001b[38;5;28mprint\u001b[39m(uuid)\n\u001b[0;32m----> 5\u001b[0m     claims \u001b[38;5;241m=\u001b[39m \u001b[43mpredict_claims\u001b[49m\u001b[43m(\u001b[49m\u001b[43muuid\u001b[49m\u001b[43m,\u001b[49m\u001b[43m \u001b[49m\u001b[38;5;241;43m39\u001b[39;49m\u001b[43m)\u001b[49m\n\u001b[1;32m      6\u001b[0m     rows\u001b[38;5;241m.\u001b[39mappend([uuid, \u001b[38;5;241m39\u001b[39m, claims])\n",
      "Cell \u001b[0;32mIn [42], line 13\u001b[0m, in \u001b[0;36mpredict_claims\u001b[0;34m(uuid, week)\u001b[0m\n\u001b[1;32m      8\u001b[0m y \u001b[38;5;241m=\u001b[39m data[[\u001b[38;5;124m'\u001b[39m\u001b[38;5;124mtotal_claims\u001b[39m\u001b[38;5;124m'\u001b[39m]]\n\u001b[1;32m     12\u001b[0m \u001b[38;5;66;03m# Splitting data into training and test sets\u001b[39;00m\n\u001b[0;32m---> 13\u001b[0m X_train, X_test, y_train, y_test \u001b[38;5;241m=\u001b[39m \u001b[43mtrain_test_split\u001b[49m\u001b[43m(\u001b[49m\u001b[43mX\u001b[49m\u001b[43m,\u001b[49m\u001b[43m \u001b[49m\u001b[43my\u001b[49m\u001b[43m,\u001b[49m\u001b[43m \u001b[49m\u001b[43mtest_size\u001b[49m\u001b[43m \u001b[49m\u001b[38;5;241;43m=\u001b[39;49m\u001b[43m \u001b[49m\u001b[38;5;241;43m0.8\u001b[39;49m\u001b[43m,\u001b[49m\u001b[43m \u001b[49m\u001b[43mrandom_state\u001b[49m\u001b[43m \u001b[49m\u001b[38;5;241;43m=\u001b[39;49m\u001b[43m \u001b[49m\u001b[38;5;241;43m101\u001b[39;49m\u001b[43m)\u001b[49m\n\u001b[1;32m     14\u001b[0m \u001b[38;5;66;03m# Train the Model\u001b[39;00m\n\u001b[1;32m     16\u001b[0m regr \u001b[38;5;241m=\u001b[39m RandomForestRegressor(n_estimators \u001b[38;5;241m=\u001b[39m \u001b[38;5;241m10\u001b[39m, max_depth \u001b[38;5;241m=\u001b[39m \u001b[38;5;241m10\u001b[39m, random_state \u001b[38;5;241m=\u001b[39m \u001b[38;5;241m101\u001b[39m)\n",
      "File \u001b[0;32m/opt/homebrew/lib/python3.9/site-packages/sklearn/model_selection/_split.py:2562\u001b[0m, in \u001b[0;36mtrain_test_split\u001b[0;34m(test_size, train_size, random_state, shuffle, stratify, *arrays)\u001b[0m\n\u001b[1;32m   2559\u001b[0m arrays \u001b[38;5;241m=\u001b[39m indexable(\u001b[38;5;241m*\u001b[39marrays)\n\u001b[1;32m   2561\u001b[0m n_samples \u001b[38;5;241m=\u001b[39m _num_samples(arrays[\u001b[38;5;241m0\u001b[39m])\n\u001b[0;32m-> 2562\u001b[0m n_train, n_test \u001b[38;5;241m=\u001b[39m \u001b[43m_validate_shuffle_split\u001b[49m\u001b[43m(\u001b[49m\n\u001b[1;32m   2563\u001b[0m \u001b[43m    \u001b[49m\u001b[43mn_samples\u001b[49m\u001b[43m,\u001b[49m\u001b[43m \u001b[49m\u001b[43mtest_size\u001b[49m\u001b[43m,\u001b[49m\u001b[43m \u001b[49m\u001b[43mtrain_size\u001b[49m\u001b[43m,\u001b[49m\u001b[43m \u001b[49m\u001b[43mdefault_test_size\u001b[49m\u001b[38;5;241;43m=\u001b[39;49m\u001b[38;5;241;43m0.25\u001b[39;49m\n\u001b[1;32m   2564\u001b[0m \u001b[43m\u001b[49m\u001b[43m)\u001b[49m\n\u001b[1;32m   2566\u001b[0m \u001b[38;5;28;01mif\u001b[39;00m shuffle \u001b[38;5;129;01mis\u001b[39;00m \u001b[38;5;28;01mFalse\u001b[39;00m:\n\u001b[1;32m   2567\u001b[0m     \u001b[38;5;28;01mif\u001b[39;00m stratify \u001b[38;5;129;01mis\u001b[39;00m \u001b[38;5;129;01mnot\u001b[39;00m \u001b[38;5;28;01mNone\u001b[39;00m:\n",
      "File \u001b[0;32m/opt/homebrew/lib/python3.9/site-packages/sklearn/model_selection/_split.py:2236\u001b[0m, in \u001b[0;36m_validate_shuffle_split\u001b[0;34m(n_samples, test_size, train_size, default_test_size)\u001b[0m\n\u001b[1;32m   2233\u001b[0m n_train, n_test \u001b[38;5;241m=\u001b[39m \u001b[38;5;28mint\u001b[39m(n_train), \u001b[38;5;28mint\u001b[39m(n_test)\n\u001b[1;32m   2235\u001b[0m \u001b[38;5;28;01mif\u001b[39;00m n_train \u001b[38;5;241m==\u001b[39m \u001b[38;5;241m0\u001b[39m:\n\u001b[0;32m-> 2236\u001b[0m     \u001b[38;5;28;01mraise\u001b[39;00m \u001b[38;5;167;01mValueError\u001b[39;00m(\n\u001b[1;32m   2237\u001b[0m         \u001b[38;5;124m\"\u001b[39m\u001b[38;5;124mWith n_samples=\u001b[39m\u001b[38;5;132;01m{}\u001b[39;00m\u001b[38;5;124m, test_size=\u001b[39m\u001b[38;5;132;01m{}\u001b[39;00m\u001b[38;5;124m and train_size=\u001b[39m\u001b[38;5;132;01m{}\u001b[39;00m\u001b[38;5;124m, the \u001b[39m\u001b[38;5;124m\"\u001b[39m\n\u001b[1;32m   2238\u001b[0m         \u001b[38;5;124m\"\u001b[39m\u001b[38;5;124mresulting train set will be empty. Adjust any of the \u001b[39m\u001b[38;5;124m\"\u001b[39m\n\u001b[1;32m   2239\u001b[0m         \u001b[38;5;124m\"\u001b[39m\u001b[38;5;124maforementioned parameters.\u001b[39m\u001b[38;5;124m\"\u001b[39m\u001b[38;5;241m.\u001b[39mformat(n_samples, test_size, train_size)\n\u001b[1;32m   2240\u001b[0m     )\n\u001b[1;32m   2242\u001b[0m \u001b[38;5;28;01mreturn\u001b[39;00m n_train, n_test\n",
      "\u001b[0;31mValueError\u001b[0m: With n_samples=4, test_size=0.8 and train_size=None, the resulting train set will be empty. Adjust any of the aforementioned parameters."
     ]
    }
   ],
   "source": [
    "fields = ['uu_id', 'week_number', 'total_claims']\n",
    "rows = []\n",
    "for uuid in uuids:\n",
    "    print(uuid)\n",
    "    claims = predict_claims(uuid, 39)\n",
    "    rows.append([uuid, 39, claims])"
   ]
  },
  {
   "cell_type": "code",
   "execution_count": 58,
   "id": "fdeedda6",
   "metadata": {
    "execution": {
     "iopub.execute_input": "2023-05-10T02:15:45.345802Z",
     "iopub.status.busy": "2023-05-10T02:15:45.345688Z",
     "iopub.status.idle": "2023-05-10T02:15:45.347399Z",
     "shell.execute_reply": "2023-05-10T02:15:45.347145Z"
    }
   },
   "outputs": [],
   "source": [
    "filename = 'submission_prediction_output.csv'"
   ]
  },
  {
   "cell_type": "code",
   "execution_count": 59,
   "id": "68b7878a",
   "metadata": {
    "execution": {
     "iopub.execute_input": "2023-05-10T02:15:45.348957Z",
     "iopub.status.busy": "2023-05-10T02:15:45.348851Z",
     "iopub.status.idle": "2023-05-10T02:15:45.359365Z",
     "shell.execute_reply": "2023-05-10T02:15:45.359088Z"
    }
   },
   "outputs": [],
   "source": [
    "a = predict_claims('2a62116efd5f9a6da7b4ce2803eba96d', 39)"
   ]
  },
  {
   "cell_type": "code",
   "execution_count": 60,
   "id": "d0d0e082",
   "metadata": {
    "execution": {
     "iopub.execute_input": "2023-05-10T02:15:45.360796Z",
     "iopub.status.busy": "2023-05-10T02:15:45.360713Z",
     "iopub.status.idle": "2023-05-10T02:15:45.362458Z",
     "shell.execute_reply": "2023-05-10T02:15:45.362183Z"
    }
   },
   "outputs": [],
   "source": [
    "a"
   ]
  },
  {
   "cell_type": "code",
   "execution_count": 61,
   "id": "5a5e240a",
   "metadata": {
    "execution": {
     "iopub.execute_input": "2023-05-10T02:15:45.364021Z",
     "iopub.status.busy": "2023-05-10T02:15:45.363915Z",
     "iopub.status.idle": "2023-05-10T02:15:45.515329Z",
     "shell.execute_reply": "2023-05-10T02:15:45.515016Z"
    }
   },
   "outputs": [
    {
     "ename": "ValueError",
     "evalue": "With n_samples=4, test_size=0.8 and train_size=None, the resulting train set will be empty. Adjust any of the aforementioned parameters.",
     "output_type": "error",
     "traceback": [
      "\u001b[0;31m---------------------------------------------------------------------------\u001b[0m",
      "\u001b[0;31mValueError\u001b[0m                                Traceback (most recent call last)",
      "Cell \u001b[0;32mIn [61], line 4\u001b[0m\n\u001b[1;32m      2\u001b[0m claims \u001b[38;5;241m=\u001b[39m []\n\u001b[1;32m      3\u001b[0m \u001b[38;5;28;01mfor\u001b[39;00m uuid \u001b[38;5;129;01min\u001b[39;00m uuids:\n\u001b[0;32m----> 4\u001b[0m     claim \u001b[38;5;241m=\u001b[39m \u001b[43mpredict_claims\u001b[49m\u001b[43m(\u001b[49m\u001b[43muuid\u001b[49m\u001b[43m,\u001b[49m\u001b[43m \u001b[49m\u001b[38;5;241;43m39\u001b[39;49m\u001b[43m)\u001b[49m\n\u001b[1;32m      5\u001b[0m     claims\u001b[38;5;241m.\u001b[39mappend(claim)\n",
      "Cell \u001b[0;32mIn [42], line 13\u001b[0m, in \u001b[0;36mpredict_claims\u001b[0;34m(uuid, week)\u001b[0m\n\u001b[1;32m      8\u001b[0m y \u001b[38;5;241m=\u001b[39m data[[\u001b[38;5;124m'\u001b[39m\u001b[38;5;124mtotal_claims\u001b[39m\u001b[38;5;124m'\u001b[39m]]\n\u001b[1;32m     12\u001b[0m \u001b[38;5;66;03m# Splitting data into training and test sets\u001b[39;00m\n\u001b[0;32m---> 13\u001b[0m X_train, X_test, y_train, y_test \u001b[38;5;241m=\u001b[39m \u001b[43mtrain_test_split\u001b[49m\u001b[43m(\u001b[49m\u001b[43mX\u001b[49m\u001b[43m,\u001b[49m\u001b[43m \u001b[49m\u001b[43my\u001b[49m\u001b[43m,\u001b[49m\u001b[43m \u001b[49m\u001b[43mtest_size\u001b[49m\u001b[43m \u001b[49m\u001b[38;5;241;43m=\u001b[39;49m\u001b[43m \u001b[49m\u001b[38;5;241;43m0.8\u001b[39;49m\u001b[43m,\u001b[49m\u001b[43m \u001b[49m\u001b[43mrandom_state\u001b[49m\u001b[43m \u001b[49m\u001b[38;5;241;43m=\u001b[39;49m\u001b[43m \u001b[49m\u001b[38;5;241;43m101\u001b[39;49m\u001b[43m)\u001b[49m\n\u001b[1;32m     14\u001b[0m \u001b[38;5;66;03m# Train the Model\u001b[39;00m\n\u001b[1;32m     16\u001b[0m regr \u001b[38;5;241m=\u001b[39m RandomForestRegressor(n_estimators \u001b[38;5;241m=\u001b[39m \u001b[38;5;241m10\u001b[39m, max_depth \u001b[38;5;241m=\u001b[39m \u001b[38;5;241m10\u001b[39m, random_state \u001b[38;5;241m=\u001b[39m \u001b[38;5;241m101\u001b[39m)\n",
      "File \u001b[0;32m/opt/homebrew/lib/python3.9/site-packages/sklearn/model_selection/_split.py:2562\u001b[0m, in \u001b[0;36mtrain_test_split\u001b[0;34m(test_size, train_size, random_state, shuffle, stratify, *arrays)\u001b[0m\n\u001b[1;32m   2559\u001b[0m arrays \u001b[38;5;241m=\u001b[39m indexable(\u001b[38;5;241m*\u001b[39marrays)\n\u001b[1;32m   2561\u001b[0m n_samples \u001b[38;5;241m=\u001b[39m _num_samples(arrays[\u001b[38;5;241m0\u001b[39m])\n\u001b[0;32m-> 2562\u001b[0m n_train, n_test \u001b[38;5;241m=\u001b[39m \u001b[43m_validate_shuffle_split\u001b[49m\u001b[43m(\u001b[49m\n\u001b[1;32m   2563\u001b[0m \u001b[43m    \u001b[49m\u001b[43mn_samples\u001b[49m\u001b[43m,\u001b[49m\u001b[43m \u001b[49m\u001b[43mtest_size\u001b[49m\u001b[43m,\u001b[49m\u001b[43m \u001b[49m\u001b[43mtrain_size\u001b[49m\u001b[43m,\u001b[49m\u001b[43m \u001b[49m\u001b[43mdefault_test_size\u001b[49m\u001b[38;5;241;43m=\u001b[39;49m\u001b[38;5;241;43m0.25\u001b[39;49m\n\u001b[1;32m   2564\u001b[0m \u001b[43m\u001b[49m\u001b[43m)\u001b[49m\n\u001b[1;32m   2566\u001b[0m \u001b[38;5;28;01mif\u001b[39;00m shuffle \u001b[38;5;129;01mis\u001b[39;00m \u001b[38;5;28;01mFalse\u001b[39;00m:\n\u001b[1;32m   2567\u001b[0m     \u001b[38;5;28;01mif\u001b[39;00m stratify \u001b[38;5;129;01mis\u001b[39;00m \u001b[38;5;129;01mnot\u001b[39;00m \u001b[38;5;28;01mNone\u001b[39;00m:\n",
      "File \u001b[0;32m/opt/homebrew/lib/python3.9/site-packages/sklearn/model_selection/_split.py:2236\u001b[0m, in \u001b[0;36m_validate_shuffle_split\u001b[0;34m(n_samples, test_size, train_size, default_test_size)\u001b[0m\n\u001b[1;32m   2233\u001b[0m n_train, n_test \u001b[38;5;241m=\u001b[39m \u001b[38;5;28mint\u001b[39m(n_train), \u001b[38;5;28mint\u001b[39m(n_test)\n\u001b[1;32m   2235\u001b[0m \u001b[38;5;28;01mif\u001b[39;00m n_train \u001b[38;5;241m==\u001b[39m \u001b[38;5;241m0\u001b[39m:\n\u001b[0;32m-> 2236\u001b[0m     \u001b[38;5;28;01mraise\u001b[39;00m \u001b[38;5;167;01mValueError\u001b[39;00m(\n\u001b[1;32m   2237\u001b[0m         \u001b[38;5;124m\"\u001b[39m\u001b[38;5;124mWith n_samples=\u001b[39m\u001b[38;5;132;01m{}\u001b[39;00m\u001b[38;5;124m, test_size=\u001b[39m\u001b[38;5;132;01m{}\u001b[39;00m\u001b[38;5;124m and train_size=\u001b[39m\u001b[38;5;132;01m{}\u001b[39;00m\u001b[38;5;124m, the \u001b[39m\u001b[38;5;124m\"\u001b[39m\n\u001b[1;32m   2238\u001b[0m         \u001b[38;5;124m\"\u001b[39m\u001b[38;5;124mresulting train set will be empty. Adjust any of the \u001b[39m\u001b[38;5;124m\"\u001b[39m\n\u001b[1;32m   2239\u001b[0m         \u001b[38;5;124m\"\u001b[39m\u001b[38;5;124maforementioned parameters.\u001b[39m\u001b[38;5;124m\"\u001b[39m\u001b[38;5;241m.\u001b[39mformat(n_samples, test_size, train_size)\n\u001b[1;32m   2240\u001b[0m     )\n\u001b[1;32m   2242\u001b[0m \u001b[38;5;28;01mreturn\u001b[39;00m n_train, n_test\n",
      "\u001b[0;31mValueError\u001b[0m: With n_samples=4, test_size=0.8 and train_size=None, the resulting train set will be empty. Adjust any of the aforementioned parameters."
     ]
    }
   ],
   "source": [
    "fields = ['uu_id', 'week_number', 'total_claims']\n",
    "claims = []\n",
    "for uuid in uuids:\n",
    "    claim = predict_claims(uuid, 39)\n",
    "    claims.append(claim)"
   ]
  },
  {
   "cell_type": "code",
   "execution_count": 62,
   "id": "1bbde542",
   "metadata": {
    "execution": {
     "iopub.execute_input": "2023-05-10T02:15:45.516881Z",
     "iopub.status.busy": "2023-05-10T02:15:45.516774Z",
     "iopub.status.idle": "2023-05-10T02:15:45.518380Z",
     "shell.execute_reply": "2023-05-10T02:15:45.518152Z"
    }
   },
   "outputs": [],
   "source": [
    "filename = 'submission_prediction_output.csv'"
   ]
  },
  {
   "cell_type": "code",
   "execution_count": 63,
   "id": "e8291798",
   "metadata": {
    "execution": {
     "iopub.execute_input": "2023-05-10T02:15:45.519705Z",
     "iopub.status.busy": "2023-05-10T02:15:45.519619Z",
     "iopub.status.idle": "2023-05-10T02:15:45.521376Z",
     "shell.execute_reply": "2023-05-10T02:15:45.521154Z"
    }
   },
   "outputs": [],
   "source": [
    "fields = ['uu_id', 'week_number', 'total_claims']\n",
    "filename = 'submission_prediction_output.csv'"
   ]
  },
  {
   "cell_type": "code",
   "execution_count": 64,
   "id": "ea44c6f0",
   "metadata": {
    "execution": {
     "iopub.execute_input": "2023-05-10T02:15:45.522688Z",
     "iopub.status.busy": "2023-05-10T02:15:45.522612Z",
     "iopub.status.idle": "2023-05-10T02:15:45.524210Z",
     "shell.execute_reply": "2023-05-10T02:15:45.523994Z"
    }
   },
   "outputs": [],
   "source": [
    "uuid = '2a62116efd5f9a6da7b4ce2803eba96d'"
   ]
  },
  {
   "cell_type": "code",
   "execution_count": 65,
   "id": "21968afb",
   "metadata": {
    "execution": {
     "iopub.execute_input": "2023-05-10T02:15:45.525514Z",
     "iopub.status.busy": "2023-05-10T02:15:45.525426Z",
     "iopub.status.idle": "2023-05-10T02:15:45.535954Z",
     "shell.execute_reply": "2023-05-10T02:15:45.535666Z"
    }
   },
   "outputs": [],
   "source": [
    "a = predict_claims(uuid, 39)"
   ]
  },
  {
   "cell_type": "code",
   "execution_count": 66,
   "id": "3265419c",
   "metadata": {
    "execution": {
     "iopub.execute_input": "2023-05-10T02:15:45.537302Z",
     "iopub.status.busy": "2023-05-10T02:15:45.537219Z",
     "iopub.status.idle": "2023-05-10T02:15:45.538831Z",
     "shell.execute_reply": "2023-05-10T02:15:45.538595Z"
    }
   },
   "outputs": [],
   "source": [
    "a"
   ]
  },
  {
   "cell_type": "code",
   "execution_count": 67,
   "id": "7d8e7d17",
   "metadata": {
    "execution": {
     "iopub.execute_input": "2023-05-10T02:15:45.540190Z",
     "iopub.status.busy": "2023-05-10T02:15:45.540111Z",
     "iopub.status.idle": "2023-05-10T02:15:45.696944Z",
     "shell.execute_reply": "2023-05-10T02:15:45.696623Z"
    }
   },
   "outputs": [
    {
     "name": "stdout",
     "output_type": "stream",
     "text": [
      "None\n",
      "None\n",
      "None\n",
      "None\n",
      "None\n",
      "None\n",
      "None\n",
      "None\n",
      "None\n",
      "None\n",
      "None\n",
      "None\n",
      "None\n",
      "None\n",
      "None\n",
      "None\n",
      "None\n"
     ]
    },
    {
     "ename": "ValueError",
     "evalue": "With n_samples=4, test_size=0.8 and train_size=None, the resulting train set will be empty. Adjust any of the aforementioned parameters.",
     "output_type": "error",
     "traceback": [
      "\u001b[0;31m---------------------------------------------------------------------------\u001b[0m",
      "\u001b[0;31mValueError\u001b[0m                                Traceback (most recent call last)",
      "Cell \u001b[0;32mIn [67], line 2\u001b[0m\n\u001b[1;32m      1\u001b[0m \u001b[38;5;28;01mfor\u001b[39;00m i \u001b[38;5;129;01min\u001b[39;00m \u001b[38;5;28mrange\u001b[39m(\u001b[38;5;28mlen\u001b[39m(uuids)):\n\u001b[0;32m----> 2\u001b[0m     c \u001b[38;5;241m=\u001b[39m \u001b[43mpredict_claims\u001b[49m\u001b[43m(\u001b[49m\u001b[43muuids\u001b[49m\u001b[43m[\u001b[49m\u001b[43mi\u001b[49m\u001b[43m]\u001b[49m\u001b[43m,\u001b[49m\u001b[43m \u001b[49m\u001b[38;5;241;43m39\u001b[39;49m\u001b[43m)\u001b[49m\n\u001b[1;32m      3\u001b[0m     \u001b[38;5;28mprint\u001b[39m(c)\n",
      "Cell \u001b[0;32mIn [42], line 13\u001b[0m, in \u001b[0;36mpredict_claims\u001b[0;34m(uuid, week)\u001b[0m\n\u001b[1;32m      8\u001b[0m y \u001b[38;5;241m=\u001b[39m data[[\u001b[38;5;124m'\u001b[39m\u001b[38;5;124mtotal_claims\u001b[39m\u001b[38;5;124m'\u001b[39m]]\n\u001b[1;32m     12\u001b[0m \u001b[38;5;66;03m# Splitting data into training and test sets\u001b[39;00m\n\u001b[0;32m---> 13\u001b[0m X_train, X_test, y_train, y_test \u001b[38;5;241m=\u001b[39m \u001b[43mtrain_test_split\u001b[49m\u001b[43m(\u001b[49m\u001b[43mX\u001b[49m\u001b[43m,\u001b[49m\u001b[43m \u001b[49m\u001b[43my\u001b[49m\u001b[43m,\u001b[49m\u001b[43m \u001b[49m\u001b[43mtest_size\u001b[49m\u001b[43m \u001b[49m\u001b[38;5;241;43m=\u001b[39;49m\u001b[43m \u001b[49m\u001b[38;5;241;43m0.8\u001b[39;49m\u001b[43m,\u001b[49m\u001b[43m \u001b[49m\u001b[43mrandom_state\u001b[49m\u001b[43m \u001b[49m\u001b[38;5;241;43m=\u001b[39;49m\u001b[43m \u001b[49m\u001b[38;5;241;43m101\u001b[39;49m\u001b[43m)\u001b[49m\n\u001b[1;32m     14\u001b[0m \u001b[38;5;66;03m# Train the Model\u001b[39;00m\n\u001b[1;32m     16\u001b[0m regr \u001b[38;5;241m=\u001b[39m RandomForestRegressor(n_estimators \u001b[38;5;241m=\u001b[39m \u001b[38;5;241m10\u001b[39m, max_depth \u001b[38;5;241m=\u001b[39m \u001b[38;5;241m10\u001b[39m, random_state \u001b[38;5;241m=\u001b[39m \u001b[38;5;241m101\u001b[39m)\n",
      "File \u001b[0;32m/opt/homebrew/lib/python3.9/site-packages/sklearn/model_selection/_split.py:2562\u001b[0m, in \u001b[0;36mtrain_test_split\u001b[0;34m(test_size, train_size, random_state, shuffle, stratify, *arrays)\u001b[0m\n\u001b[1;32m   2559\u001b[0m arrays \u001b[38;5;241m=\u001b[39m indexable(\u001b[38;5;241m*\u001b[39marrays)\n\u001b[1;32m   2561\u001b[0m n_samples \u001b[38;5;241m=\u001b[39m _num_samples(arrays[\u001b[38;5;241m0\u001b[39m])\n\u001b[0;32m-> 2562\u001b[0m n_train, n_test \u001b[38;5;241m=\u001b[39m \u001b[43m_validate_shuffle_split\u001b[49m\u001b[43m(\u001b[49m\n\u001b[1;32m   2563\u001b[0m \u001b[43m    \u001b[49m\u001b[43mn_samples\u001b[49m\u001b[43m,\u001b[49m\u001b[43m \u001b[49m\u001b[43mtest_size\u001b[49m\u001b[43m,\u001b[49m\u001b[43m \u001b[49m\u001b[43mtrain_size\u001b[49m\u001b[43m,\u001b[49m\u001b[43m \u001b[49m\u001b[43mdefault_test_size\u001b[49m\u001b[38;5;241;43m=\u001b[39;49m\u001b[38;5;241;43m0.25\u001b[39;49m\n\u001b[1;32m   2564\u001b[0m \u001b[43m\u001b[49m\u001b[43m)\u001b[49m\n\u001b[1;32m   2566\u001b[0m \u001b[38;5;28;01mif\u001b[39;00m shuffle \u001b[38;5;129;01mis\u001b[39;00m \u001b[38;5;28;01mFalse\u001b[39;00m:\n\u001b[1;32m   2567\u001b[0m     \u001b[38;5;28;01mif\u001b[39;00m stratify \u001b[38;5;129;01mis\u001b[39;00m \u001b[38;5;129;01mnot\u001b[39;00m \u001b[38;5;28;01mNone\u001b[39;00m:\n",
      "File \u001b[0;32m/opt/homebrew/lib/python3.9/site-packages/sklearn/model_selection/_split.py:2236\u001b[0m, in \u001b[0;36m_validate_shuffle_split\u001b[0;34m(n_samples, test_size, train_size, default_test_size)\u001b[0m\n\u001b[1;32m   2233\u001b[0m n_train, n_test \u001b[38;5;241m=\u001b[39m \u001b[38;5;28mint\u001b[39m(n_train), \u001b[38;5;28mint\u001b[39m(n_test)\n\u001b[1;32m   2235\u001b[0m \u001b[38;5;28;01mif\u001b[39;00m n_train \u001b[38;5;241m==\u001b[39m \u001b[38;5;241m0\u001b[39m:\n\u001b[0;32m-> 2236\u001b[0m     \u001b[38;5;28;01mraise\u001b[39;00m \u001b[38;5;167;01mValueError\u001b[39;00m(\n\u001b[1;32m   2237\u001b[0m         \u001b[38;5;124m\"\u001b[39m\u001b[38;5;124mWith n_samples=\u001b[39m\u001b[38;5;132;01m{}\u001b[39;00m\u001b[38;5;124m, test_size=\u001b[39m\u001b[38;5;132;01m{}\u001b[39;00m\u001b[38;5;124m and train_size=\u001b[39m\u001b[38;5;132;01m{}\u001b[39;00m\u001b[38;5;124m, the \u001b[39m\u001b[38;5;124m\"\u001b[39m\n\u001b[1;32m   2238\u001b[0m         \u001b[38;5;124m\"\u001b[39m\u001b[38;5;124mresulting train set will be empty. Adjust any of the \u001b[39m\u001b[38;5;124m\"\u001b[39m\n\u001b[1;32m   2239\u001b[0m         \u001b[38;5;124m\"\u001b[39m\u001b[38;5;124maforementioned parameters.\u001b[39m\u001b[38;5;124m\"\u001b[39m\u001b[38;5;241m.\u001b[39mformat(n_samples, test_size, train_size)\n\u001b[1;32m   2240\u001b[0m     )\n\u001b[1;32m   2242\u001b[0m \u001b[38;5;28;01mreturn\u001b[39;00m n_train, n_test\n",
      "\u001b[0;31mValueError\u001b[0m: With n_samples=4, test_size=0.8 and train_size=None, the resulting train set will be empty. Adjust any of the aforementioned parameters."
     ]
    }
   ],
   "source": [
    "for i in range(len(uuids)):\n",
    "    c = predict_claims(uuids[i], 39)\n",
    "    print(c)"
   ]
  },
  {
   "cell_type": "code",
   "execution_count": 68,
   "id": "467b80a0",
   "metadata": {
    "execution": {
     "iopub.execute_input": "2023-05-10T02:15:45.698598Z",
     "iopub.status.busy": "2023-05-10T02:15:45.698483Z",
     "iopub.status.idle": "2023-05-10T02:15:45.919878Z",
     "shell.execute_reply": "2023-05-10T02:15:45.919592Z"
    }
   },
   "outputs": [
    {
     "ename": "AttributeError",
     "evalue": "'DataFrame' object has no attribute 'uu_ids'",
     "output_type": "error",
     "traceback": [
      "\u001b[0;31m---------------------------------------------------------------------------\u001b[0m",
      "\u001b[0;31mAttributeError\u001b[0m                            Traceback (most recent call last)",
      "Cell \u001b[0;32mIn [68], line 1\u001b[0m\n\u001b[0;32m----> 1\u001b[0m \u001b[43munemployment_data\u001b[49m\u001b[38;5;241;43m.\u001b[39;49m\u001b[43muu_ids\u001b[49m\u001b[38;5;241m.\u001b[39mcount_values()\n",
      "File \u001b[0;32m/opt/homebrew/lib/python3.9/site-packages/pandas/core/generic.py:5902\u001b[0m, in \u001b[0;36mNDFrame.__getattr__\u001b[0;34m(self, name)\u001b[0m\n\u001b[1;32m   5895\u001b[0m \u001b[38;5;28;01mif\u001b[39;00m (\n\u001b[1;32m   5896\u001b[0m     name \u001b[38;5;129;01mnot\u001b[39;00m \u001b[38;5;129;01min\u001b[39;00m \u001b[38;5;28mself\u001b[39m\u001b[38;5;241m.\u001b[39m_internal_names_set\n\u001b[1;32m   5897\u001b[0m     \u001b[38;5;129;01mand\u001b[39;00m name \u001b[38;5;129;01mnot\u001b[39;00m \u001b[38;5;129;01min\u001b[39;00m \u001b[38;5;28mself\u001b[39m\u001b[38;5;241m.\u001b[39m_metadata\n\u001b[1;32m   5898\u001b[0m     \u001b[38;5;129;01mand\u001b[39;00m name \u001b[38;5;129;01mnot\u001b[39;00m \u001b[38;5;129;01min\u001b[39;00m \u001b[38;5;28mself\u001b[39m\u001b[38;5;241m.\u001b[39m_accessors\n\u001b[1;32m   5899\u001b[0m     \u001b[38;5;129;01mand\u001b[39;00m \u001b[38;5;28mself\u001b[39m\u001b[38;5;241m.\u001b[39m_info_axis\u001b[38;5;241m.\u001b[39m_can_hold_identifiers_and_holds_name(name)\n\u001b[1;32m   5900\u001b[0m ):\n\u001b[1;32m   5901\u001b[0m     \u001b[38;5;28;01mreturn\u001b[39;00m \u001b[38;5;28mself\u001b[39m[name]\n\u001b[0;32m-> 5902\u001b[0m \u001b[38;5;28;01mreturn\u001b[39;00m \u001b[38;5;28;43mobject\u001b[39;49m\u001b[38;5;241;43m.\u001b[39;49m\u001b[38;5;21;43m__getattribute__\u001b[39;49m\u001b[43m(\u001b[49m\u001b[38;5;28;43mself\u001b[39;49m\u001b[43m,\u001b[49m\u001b[43m \u001b[49m\u001b[43mname\u001b[49m\u001b[43m)\u001b[49m\n",
      "\u001b[0;31mAttributeError\u001b[0m: 'DataFrame' object has no attribute 'uu_ids'"
     ]
    }
   ],
   "source": [
    "unemployment_data.uu_ids.count_values()"
   ]
  },
  {
   "cell_type": "code",
   "execution_count": 69,
   "id": "82e3ee7c",
   "metadata": {
    "execution": {
     "iopub.execute_input": "2023-05-10T02:15:45.921358Z",
     "iopub.status.busy": "2023-05-10T02:15:45.921266Z",
     "iopub.status.idle": "2023-05-10T02:15:45.930415Z",
     "shell.execute_reply": "2023-05-10T02:15:45.930107Z"
    }
   },
   "outputs": [
    {
     "ename": "AttributeError",
     "evalue": "'Series' object has no attribute 'count_values'",
     "output_type": "error",
     "traceback": [
      "\u001b[0;31m---------------------------------------------------------------------------\u001b[0m",
      "\u001b[0;31mAttributeError\u001b[0m                            Traceback (most recent call last)",
      "Cell \u001b[0;32mIn [69], line 1\u001b[0m\n\u001b[0;32m----> 1\u001b[0m \u001b[43munemployment_data\u001b[49m\u001b[38;5;241;43m.\u001b[39;49m\u001b[43muu_id\u001b[49m\u001b[38;5;241;43m.\u001b[39;49m\u001b[43mcount_values\u001b[49m()\n",
      "File \u001b[0;32m/opt/homebrew/lib/python3.9/site-packages/pandas/core/generic.py:5902\u001b[0m, in \u001b[0;36mNDFrame.__getattr__\u001b[0;34m(self, name)\u001b[0m\n\u001b[1;32m   5895\u001b[0m \u001b[38;5;28;01mif\u001b[39;00m (\n\u001b[1;32m   5896\u001b[0m     name \u001b[38;5;129;01mnot\u001b[39;00m \u001b[38;5;129;01min\u001b[39;00m \u001b[38;5;28mself\u001b[39m\u001b[38;5;241m.\u001b[39m_internal_names_set\n\u001b[1;32m   5897\u001b[0m     \u001b[38;5;129;01mand\u001b[39;00m name \u001b[38;5;129;01mnot\u001b[39;00m \u001b[38;5;129;01min\u001b[39;00m \u001b[38;5;28mself\u001b[39m\u001b[38;5;241m.\u001b[39m_metadata\n\u001b[1;32m   5898\u001b[0m     \u001b[38;5;129;01mand\u001b[39;00m name \u001b[38;5;129;01mnot\u001b[39;00m \u001b[38;5;129;01min\u001b[39;00m \u001b[38;5;28mself\u001b[39m\u001b[38;5;241m.\u001b[39m_accessors\n\u001b[1;32m   5899\u001b[0m     \u001b[38;5;129;01mand\u001b[39;00m \u001b[38;5;28mself\u001b[39m\u001b[38;5;241m.\u001b[39m_info_axis\u001b[38;5;241m.\u001b[39m_can_hold_identifiers_and_holds_name(name)\n\u001b[1;32m   5900\u001b[0m ):\n\u001b[1;32m   5901\u001b[0m     \u001b[38;5;28;01mreturn\u001b[39;00m \u001b[38;5;28mself\u001b[39m[name]\n\u001b[0;32m-> 5902\u001b[0m \u001b[38;5;28;01mreturn\u001b[39;00m \u001b[38;5;28;43mobject\u001b[39;49m\u001b[38;5;241;43m.\u001b[39;49m\u001b[38;5;21;43m__getattribute__\u001b[39;49m\u001b[43m(\u001b[49m\u001b[38;5;28;43mself\u001b[39;49m\u001b[43m,\u001b[49m\u001b[43m \u001b[49m\u001b[43mname\u001b[49m\u001b[43m)\u001b[49m\n",
      "\u001b[0;31mAttributeError\u001b[0m: 'Series' object has no attribute 'count_values'"
     ]
    }
   ],
   "source": [
    "unemployment_data.uu_id.count_values()"
   ]
  },
  {
   "cell_type": "code",
   "execution_count": 70,
   "id": "681bd91f",
   "metadata": {
    "execution": {
     "iopub.execute_input": "2023-05-10T02:15:45.931861Z",
     "iopub.status.busy": "2023-05-10T02:15:45.931774Z",
     "iopub.status.idle": "2023-05-10T02:15:45.935123Z",
     "shell.execute_reply": "2023-05-10T02:15:45.934847Z"
    }
   },
   "outputs": [
    {
     "data": {
      "text/plain": [
       "7b208b710114a393f20ec464c7849157    35\n",
       "7953cef088684d6a82637fe6a9e7e7a8    35\n",
       "5f9844eb68630b75decbafdfa4974943    35\n",
       "618bd975f55a022bd54daf828c1f7ce5    35\n",
       "627f0516c61e02f14a399ff99aaf141c    35\n",
       "                                    ..\n",
       "b63efd0868b06138b7c8f9da9027e457     5\n",
       "b67c2c4abede3730932f8d53aba0341a     4\n",
       "747f8bc2b0c8c0a04d29caa4cfe327d2     4\n",
       "f7f087af0599e6b2eaa4045ba1a0be50     3\n",
       "6fbb60a508283bc1fb30c13ac419941a     3\n",
       "Name: uu_id, Length: 525, dtype: int64"
      ]
     },
     "execution_count": 70,
     "metadata": {},
     "output_type": "execute_result"
    }
   ],
   "source": [
    "unemployment_data.uu_id.value_counts()"
   ]
  },
  {
   "cell_type": "code",
   "execution_count": 71,
   "id": "df11c37d",
   "metadata": {
    "execution": {
     "iopub.execute_input": "2023-05-10T02:15:45.936452Z",
     "iopub.status.busy": "2023-05-10T02:15:45.936370Z",
     "iopub.status.idle": "2023-05-10T02:15:45.947187Z",
     "shell.execute_reply": "2023-05-10T02:15:45.946905Z"
    }
   },
   "outputs": [
    {
     "ename": "AttributeError",
     "evalue": "'Series' object has no attribute 'sort'",
     "output_type": "error",
     "traceback": [
      "\u001b[0;31m---------------------------------------------------------------------------\u001b[0m",
      "\u001b[0;31mAttributeError\u001b[0m                            Traceback (most recent call last)",
      "Cell \u001b[0;32mIn [71], line 1\u001b[0m\n\u001b[0;32m----> 1\u001b[0m \u001b[43munemployment_data\u001b[49m\u001b[38;5;241;43m.\u001b[39;49m\u001b[43muu_id\u001b[49m\u001b[38;5;241;43m.\u001b[39;49m\u001b[43mvalue_counts\u001b[49m\u001b[43m(\u001b[49m\u001b[43m)\u001b[49m\u001b[38;5;241;43m.\u001b[39;49m\u001b[43msort\u001b[49m()\n",
      "File \u001b[0;32m/opt/homebrew/lib/python3.9/site-packages/pandas/core/generic.py:5902\u001b[0m, in \u001b[0;36mNDFrame.__getattr__\u001b[0;34m(self, name)\u001b[0m\n\u001b[1;32m   5895\u001b[0m \u001b[38;5;28;01mif\u001b[39;00m (\n\u001b[1;32m   5896\u001b[0m     name \u001b[38;5;129;01mnot\u001b[39;00m \u001b[38;5;129;01min\u001b[39;00m \u001b[38;5;28mself\u001b[39m\u001b[38;5;241m.\u001b[39m_internal_names_set\n\u001b[1;32m   5897\u001b[0m     \u001b[38;5;129;01mand\u001b[39;00m name \u001b[38;5;129;01mnot\u001b[39;00m \u001b[38;5;129;01min\u001b[39;00m \u001b[38;5;28mself\u001b[39m\u001b[38;5;241m.\u001b[39m_metadata\n\u001b[1;32m   5898\u001b[0m     \u001b[38;5;129;01mand\u001b[39;00m name \u001b[38;5;129;01mnot\u001b[39;00m \u001b[38;5;129;01min\u001b[39;00m \u001b[38;5;28mself\u001b[39m\u001b[38;5;241m.\u001b[39m_accessors\n\u001b[1;32m   5899\u001b[0m     \u001b[38;5;129;01mand\u001b[39;00m \u001b[38;5;28mself\u001b[39m\u001b[38;5;241m.\u001b[39m_info_axis\u001b[38;5;241m.\u001b[39m_can_hold_identifiers_and_holds_name(name)\n\u001b[1;32m   5900\u001b[0m ):\n\u001b[1;32m   5901\u001b[0m     \u001b[38;5;28;01mreturn\u001b[39;00m \u001b[38;5;28mself\u001b[39m[name]\n\u001b[0;32m-> 5902\u001b[0m \u001b[38;5;28;01mreturn\u001b[39;00m \u001b[38;5;28;43mobject\u001b[39;49m\u001b[38;5;241;43m.\u001b[39;49m\u001b[38;5;21;43m__getattribute__\u001b[39;49m\u001b[43m(\u001b[49m\u001b[38;5;28;43mself\u001b[39;49m\u001b[43m,\u001b[49m\u001b[43m \u001b[49m\u001b[43mname\u001b[49m\u001b[43m)\u001b[49m\n",
      "\u001b[0;31mAttributeError\u001b[0m: 'Series' object has no attribute 'sort'"
     ]
    }
   ],
   "source": [
    "unemployment_data.uu_id.value_counts().sort()"
   ]
  },
  {
   "cell_type": "code",
   "execution_count": 72,
   "id": "dc7b7581",
   "metadata": {
    "execution": {
     "iopub.execute_input": "2023-05-10T02:15:45.948719Z",
     "iopub.status.busy": "2023-05-10T02:15:45.948600Z",
     "iopub.status.idle": "2023-05-10T02:15:45.953862Z",
     "shell.execute_reply": "2023-05-10T02:15:45.953627Z"
    }
   },
   "outputs": [
    {
     "data": {
      "text/plain": [
       "[35,\n",
       " 35,\n",
       " 35,\n",
       " 35,\n",
       " 35,\n",
       " 35,\n",
       " 35,\n",
       " 35,\n",
       " 35,\n",
       " 35,\n",
       " 35,\n",
       " 35,\n",
       " 35,\n",
       " 35,\n",
       " 35,\n",
       " 35,\n",
       " 35,\n",
       " 35,\n",
       " 35,\n",
       " 35,\n",
       " 35,\n",
       " 35,\n",
       " 35,\n",
       " 35,\n",
       " 35,\n",
       " 35,\n",
       " 35,\n",
       " 35,\n",
       " 35,\n",
       " 35,\n",
       " 35,\n",
       " 35,\n",
       " 35,\n",
       " 35,\n",
       " 35,\n",
       " 35,\n",
       " 35,\n",
       " 35,\n",
       " 35,\n",
       " 35,\n",
       " 35,\n",
       " 35,\n",
       " 35,\n",
       " 35,\n",
       " 35,\n",
       " 35,\n",
       " 35,\n",
       " 35,\n",
       " 35,\n",
       " 35,\n",
       " 35,\n",
       " 35,\n",
       " 35,\n",
       " 35,\n",
       " 35,\n",
       " 35,\n",
       " 35,\n",
       " 35,\n",
       " 35,\n",
       " 35,\n",
       " 35,\n",
       " 35,\n",
       " 35,\n",
       " 35,\n",
       " 35,\n",
       " 35,\n",
       " 35,\n",
       " 35,\n",
       " 35,\n",
       " 35,\n",
       " 35,\n",
       " 35,\n",
       " 35,\n",
       " 35,\n",
       " 35,\n",
       " 35,\n",
       " 35,\n",
       " 35,\n",
       " 35,\n",
       " 35,\n",
       " 35,\n",
       " 35,\n",
       " 35,\n",
       " 35,\n",
       " 35,\n",
       " 35,\n",
       " 35,\n",
       " 35,\n",
       " 35,\n",
       " 35,\n",
       " 35,\n",
       " 35,\n",
       " 35,\n",
       " 35,\n",
       " 35,\n",
       " 35,\n",
       " 34,\n",
       " 34,\n",
       " 34,\n",
       " 34,\n",
       " 34,\n",
       " 34,\n",
       " 34,\n",
       " 34,\n",
       " 34,\n",
       " 34,\n",
       " 34,\n",
       " 34,\n",
       " 34,\n",
       " 34,\n",
       " 34,\n",
       " 34,\n",
       " 34,\n",
       " 34,\n",
       " 34,\n",
       " 34,\n",
       " 34,\n",
       " 34,\n",
       " 34,\n",
       " 34,\n",
       " 34,\n",
       " 34,\n",
       " 34,\n",
       " 34,\n",
       " 34,\n",
       " 34,\n",
       " 34,\n",
       " 34,\n",
       " 34,\n",
       " 34,\n",
       " 34,\n",
       " 34,\n",
       " 34,\n",
       " 34,\n",
       " 34,\n",
       " 34,\n",
       " 34,\n",
       " 34,\n",
       " 34,\n",
       " 34,\n",
       " 34,\n",
       " 34,\n",
       " 34,\n",
       " 34,\n",
       " 34,\n",
       " 34,\n",
       " 34,\n",
       " 34,\n",
       " 33,\n",
       " 33,\n",
       " 33,\n",
       " 33,\n",
       " 33,\n",
       " 33,\n",
       " 33,\n",
       " 33,\n",
       " 33,\n",
       " 33,\n",
       " 33,\n",
       " 33,\n",
       " 33,\n",
       " 33,\n",
       " 33,\n",
       " 33,\n",
       " 33,\n",
       " 33,\n",
       " 33,\n",
       " 33,\n",
       " 33,\n",
       " 33,\n",
       " 33,\n",
       " 33,\n",
       " 33,\n",
       " 33,\n",
       " 33,\n",
       " 33,\n",
       " 33,\n",
       " 33,\n",
       " 33,\n",
       " 33,\n",
       " 33,\n",
       " 33,\n",
       " 33,\n",
       " 33,\n",
       " 33,\n",
       " 32,\n",
       " 32,\n",
       " 32,\n",
       " 32,\n",
       " 32,\n",
       " 32,\n",
       " 32,\n",
       " 32,\n",
       " 32,\n",
       " 32,\n",
       " 32,\n",
       " 32,\n",
       " 32,\n",
       " 32,\n",
       " 32,\n",
       " 32,\n",
       " 32,\n",
       " 32,\n",
       " 32,\n",
       " 32,\n",
       " 32,\n",
       " 32,\n",
       " 32,\n",
       " 32,\n",
       " 32,\n",
       " 32,\n",
       " 32,\n",
       " 32,\n",
       " 31,\n",
       " 31,\n",
       " 31,\n",
       " 31,\n",
       " 31,\n",
       " 31,\n",
       " 31,\n",
       " 31,\n",
       " 31,\n",
       " 31,\n",
       " 31,\n",
       " 31,\n",
       " 31,\n",
       " 31,\n",
       " 31,\n",
       " 31,\n",
       " 31,\n",
       " 31,\n",
       " 31,\n",
       " 30,\n",
       " 30,\n",
       " 30,\n",
       " 30,\n",
       " 30,\n",
       " 30,\n",
       " 30,\n",
       " 30,\n",
       " 30,\n",
       " 30,\n",
       " 30,\n",
       " 30,\n",
       " 30,\n",
       " 30,\n",
       " 30,\n",
       " 30,\n",
       " 30,\n",
       " 30,\n",
       " 30,\n",
       " 30,\n",
       " 30,\n",
       " 30,\n",
       " 30,\n",
       " 30,\n",
       " 30,\n",
       " 30,\n",
       " 30,\n",
       " 29,\n",
       " 29,\n",
       " 29,\n",
       " 29,\n",
       " 29,\n",
       " 29,\n",
       " 29,\n",
       " 29,\n",
       " 29,\n",
       " 29,\n",
       " 29,\n",
       " 29,\n",
       " 29,\n",
       " 29,\n",
       " 29,\n",
       " 29,\n",
       " 29,\n",
       " 29,\n",
       " 29,\n",
       " 29,\n",
       " 29,\n",
       " 28,\n",
       " 28,\n",
       " 28,\n",
       " 28,\n",
       " 28,\n",
       " 28,\n",
       " 28,\n",
       " 28,\n",
       " 28,\n",
       " 28,\n",
       " 28,\n",
       " 28,\n",
       " 28,\n",
       " 28,\n",
       " 28,\n",
       " 28,\n",
       " 28,\n",
       " 28,\n",
       " 27,\n",
       " 27,\n",
       " 27,\n",
       " 27,\n",
       " 27,\n",
       " 27,\n",
       " 27,\n",
       " 27,\n",
       " 27,\n",
       " 27,\n",
       " 27,\n",
       " 27,\n",
       " 27,\n",
       " 27,\n",
       " 27,\n",
       " 27,\n",
       " 27,\n",
       " 27,\n",
       " 26,\n",
       " 26,\n",
       " 26,\n",
       " 26,\n",
       " 26,\n",
       " 26,\n",
       " 26,\n",
       " 26,\n",
       " 26,\n",
       " 26,\n",
       " 26,\n",
       " 26,\n",
       " 26,\n",
       " 26,\n",
       " 25,\n",
       " 25,\n",
       " 25,\n",
       " 25,\n",
       " 25,\n",
       " 25,\n",
       " 25,\n",
       " 25,\n",
       " 25,\n",
       " 25,\n",
       " 25,\n",
       " 25,\n",
       " 25,\n",
       " 25,\n",
       " 25,\n",
       " 25,\n",
       " 25,\n",
       " 25,\n",
       " 25,\n",
       " 25,\n",
       " 25,\n",
       " 24,\n",
       " 24,\n",
       " 24,\n",
       " 24,\n",
       " 24,\n",
       " 24,\n",
       " 24,\n",
       " 24,\n",
       " 24,\n",
       " 24,\n",
       " 24,\n",
       " 24,\n",
       " 24,\n",
       " 24,\n",
       " 23,\n",
       " 23,\n",
       " 23,\n",
       " 23,\n",
       " 23,\n",
       " 23,\n",
       " 23,\n",
       " 23,\n",
       " 23,\n",
       " 22,\n",
       " 22,\n",
       " 22,\n",
       " 22,\n",
       " 22,\n",
       " 22,\n",
       " 22,\n",
       " 22,\n",
       " 22,\n",
       " 22,\n",
       " 22,\n",
       " 22,\n",
       " 22,\n",
       " 22,\n",
       " 21,\n",
       " 21,\n",
       " 21,\n",
       " 21,\n",
       " 21,\n",
       " 21,\n",
       " 21,\n",
       " 20,\n",
       " 20,\n",
       " 20,\n",
       " 20,\n",
       " 20,\n",
       " 20,\n",
       " 20,\n",
       " 20,\n",
       " 20,\n",
       " 20,\n",
       " 20,\n",
       " 20,\n",
       " 20,\n",
       " 20,\n",
       " 19,\n",
       " 19,\n",
       " 19,\n",
       " 19,\n",
       " 19,\n",
       " 19,\n",
       " 19,\n",
       " 19,\n",
       " 19,\n",
       " 19,\n",
       " 19,\n",
       " 19,\n",
       " 18,\n",
       " 18,\n",
       " 18,\n",
       " 18,\n",
       " 18,\n",
       " 18,\n",
       " 18,\n",
       " 18,\n",
       " 18,\n",
       " 18,\n",
       " 18,\n",
       " 18,\n",
       " 18,\n",
       " 18,\n",
       " 18,\n",
       " 17,\n",
       " 17,\n",
       " 17,\n",
       " 17,\n",
       " 17,\n",
       " 17,\n",
       " 17,\n",
       " 17,\n",
       " 16,\n",
       " 16,\n",
       " 16,\n",
       " 16,\n",
       " 16,\n",
       " 16,\n",
       " 16,\n",
       " 16,\n",
       " 16,\n",
       " 16,\n",
       " 16,\n",
       " 16,\n",
       " 16,\n",
       " 15,\n",
       " 15,\n",
       " 15,\n",
       " 15,\n",
       " 15,\n",
       " 15,\n",
       " 14,\n",
       " 14,\n",
       " 14,\n",
       " 14,\n",
       " 14,\n",
       " 14,\n",
       " 14,\n",
       " 14,\n",
       " 13,\n",
       " 13,\n",
       " 13,\n",
       " 13,\n",
       " 13,\n",
       " 13,\n",
       " 13,\n",
       " 13,\n",
       " 12,\n",
       " 12,\n",
       " 12,\n",
       " 12,\n",
       " 12,\n",
       " 12,\n",
       " 12,\n",
       " 12,\n",
       " 12,\n",
       " 12,\n",
       " 12,\n",
       " 12,\n",
       " 11,\n",
       " 11,\n",
       " 11,\n",
       " 11,\n",
       " 11,\n",
       " 11,\n",
       " 11,\n",
       " 11,\n",
       " 10,\n",
       " 10,\n",
       " 10,\n",
       " 10,\n",
       " 10,\n",
       " 9,\n",
       " 9,\n",
       " 9,\n",
       " 8,\n",
       " 8,\n",
       " 8,\n",
       " 8,\n",
       " 8,\n",
       " 7,\n",
       " 7,\n",
       " 7,\n",
       " 7,\n",
       " 6,\n",
       " 6,\n",
       " 6,\n",
       " 5,\n",
       " 5,\n",
       " 4,\n",
       " 4,\n",
       " 3,\n",
       " 3]"
      ]
     },
     "execution_count": 72,
     "metadata": {},
     "output_type": "execute_result"
    }
   ],
   "source": [
    "unemployment_data.uu_id.value_counts().tolist()"
   ]
  },
  {
   "cell_type": "code",
   "execution_count": 73,
   "id": "38b0195c",
   "metadata": {
    "execution": {
     "iopub.execute_input": "2023-05-10T02:15:45.955263Z",
     "iopub.status.busy": "2023-05-10T02:15:45.955176Z",
     "iopub.status.idle": "2023-05-10T02:15:45.958150Z",
     "shell.execute_reply": "2023-05-10T02:15:45.957942Z"
    }
   },
   "outputs": [
    {
     "data": {
      "text/plain": [
       "7b208b710114a393f20ec464c7849157    35\n",
       "7953cef088684d6a82637fe6a9e7e7a8    35\n",
       "5f9844eb68630b75decbafdfa4974943    35\n",
       "618bd975f55a022bd54daf828c1f7ce5    35\n",
       "627f0516c61e02f14a399ff99aaf141c    35\n",
       "                                    ..\n",
       "b63efd0868b06138b7c8f9da9027e457     5\n",
       "b67c2c4abede3730932f8d53aba0341a     4\n",
       "747f8bc2b0c8c0a04d29caa4cfe327d2     4\n",
       "f7f087af0599e6b2eaa4045ba1a0be50     3\n",
       "6fbb60a508283bc1fb30c13ac419941a     3\n",
       "Name: uu_id, Length: 525, dtype: int64"
      ]
     },
     "execution_count": 73,
     "metadata": {},
     "output_type": "execute_result"
    }
   ],
   "source": [
    "unemployment_data.uu_id.value_counts()"
   ]
  },
  {
   "cell_type": "code",
   "execution_count": 74,
   "id": "f50fe690",
   "metadata": {
    "execution": {
     "iopub.execute_input": "2023-05-10T02:15:45.959476Z",
     "iopub.status.busy": "2023-05-10T02:15:45.959399Z",
     "iopub.status.idle": "2023-05-10T02:15:46.093923Z",
     "shell.execute_reply": "2023-05-10T02:15:46.093648Z"
    }
   },
   "outputs": [
    {
     "ename": "IndexingError",
     "evalue": "Unalignable boolean Series provided as indexer (index of the boolean Series and of the indexed object do not match).",
     "output_type": "error",
     "traceback": [
      "\u001b[0;31m---------------------------------------------------------------------------\u001b[0m",
      "\u001b[0;31mIndexingError\u001b[0m                             Traceback (most recent call last)",
      "Cell \u001b[0;32mIn [74], line 1\u001b[0m\n\u001b[0;32m----> 1\u001b[0m less_than_ten \u001b[38;5;241m=\u001b[39m \u001b[43munemployment_data\u001b[49m\u001b[38;5;241;43m.\u001b[39;49m\u001b[43muu_id\u001b[49m\u001b[43m[\u001b[49m\u001b[43munemployment_data\u001b[49m\u001b[38;5;241;43m.\u001b[39;49m\u001b[43muu_id\u001b[49m\u001b[38;5;241;43m.\u001b[39;49m\u001b[43mvalue_counts\u001b[49m\u001b[43m(\u001b[49m\u001b[43m)\u001b[49m\u001b[38;5;241;43m<\u001b[39;49m\u001b[38;5;241;43m10\u001b[39;49m\u001b[43m]\u001b[49m\n",
      "File \u001b[0;32m/opt/homebrew/lib/python3.9/site-packages/pandas/core/series.py:1003\u001b[0m, in \u001b[0;36mSeries.__getitem__\u001b[0;34m(self, key)\u001b[0m\n\u001b[1;32m   1000\u001b[0m     key \u001b[38;5;241m=\u001b[39m \u001b[38;5;28mlist\u001b[39m(key)\n\u001b[1;32m   1002\u001b[0m \u001b[38;5;28;01mif\u001b[39;00m com\u001b[38;5;241m.\u001b[39mis_bool_indexer(key):\n\u001b[0;32m-> 1003\u001b[0m     key \u001b[38;5;241m=\u001b[39m \u001b[43mcheck_bool_indexer\u001b[49m\u001b[43m(\u001b[49m\u001b[38;5;28;43mself\u001b[39;49m\u001b[38;5;241;43m.\u001b[39;49m\u001b[43mindex\u001b[49m\u001b[43m,\u001b[49m\u001b[43m \u001b[49m\u001b[43mkey\u001b[49m\u001b[43m)\u001b[49m\n\u001b[1;32m   1004\u001b[0m     key \u001b[38;5;241m=\u001b[39m np\u001b[38;5;241m.\u001b[39masarray(key, dtype\u001b[38;5;241m=\u001b[39m\u001b[38;5;28mbool\u001b[39m)\n\u001b[1;32m   1005\u001b[0m     \u001b[38;5;28;01mreturn\u001b[39;00m \u001b[38;5;28mself\u001b[39m\u001b[38;5;241m.\u001b[39m_get_values(key)\n",
      "File \u001b[0;32m/opt/homebrew/lib/python3.9/site-packages/pandas/core/indexing.py:2552\u001b[0m, in \u001b[0;36mcheck_bool_indexer\u001b[0;34m(index, key)\u001b[0m\n\u001b[1;32m   2550\u001b[0m indexer \u001b[38;5;241m=\u001b[39m result\u001b[38;5;241m.\u001b[39mindex\u001b[38;5;241m.\u001b[39mget_indexer_for(index)\n\u001b[1;32m   2551\u001b[0m \u001b[38;5;28;01mif\u001b[39;00m \u001b[38;5;241m-\u001b[39m\u001b[38;5;241m1\u001b[39m \u001b[38;5;129;01min\u001b[39;00m indexer:\n\u001b[0;32m-> 2552\u001b[0m     \u001b[38;5;28;01mraise\u001b[39;00m IndexingError(\n\u001b[1;32m   2553\u001b[0m         \u001b[38;5;124m\"\u001b[39m\u001b[38;5;124mUnalignable boolean Series provided as \u001b[39m\u001b[38;5;124m\"\u001b[39m\n\u001b[1;32m   2554\u001b[0m         \u001b[38;5;124m\"\u001b[39m\u001b[38;5;124mindexer (index of the boolean Series and of \u001b[39m\u001b[38;5;124m\"\u001b[39m\n\u001b[1;32m   2555\u001b[0m         \u001b[38;5;124m\"\u001b[39m\u001b[38;5;124mthe indexed object do not match).\u001b[39m\u001b[38;5;124m\"\u001b[39m\n\u001b[1;32m   2556\u001b[0m     )\n\u001b[1;32m   2558\u001b[0m result \u001b[38;5;241m=\u001b[39m result\u001b[38;5;241m.\u001b[39mtake(indexer)\n\u001b[1;32m   2560\u001b[0m \u001b[38;5;66;03m# fall through for boolean\u001b[39;00m\n",
      "\u001b[0;31mIndexingError\u001b[0m: Unalignable boolean Series provided as indexer (index of the boolean Series and of the indexed object do not match)."
     ]
    }
   ],
   "source": [
    "less_than_ten = unemployment_data.uu_id[unemployment_data.uu_id.value_counts()<10]"
   ]
  },
  {
   "cell_type": "code",
   "execution_count": 75,
   "id": "0518a8a1",
   "metadata": {
    "execution": {
     "iopub.execute_input": "2023-05-10T02:15:46.095511Z",
     "iopub.status.busy": "2023-05-10T02:15:46.095392Z",
     "iopub.status.idle": "2023-05-10T02:15:46.098007Z",
     "shell.execute_reply": "2023-05-10T02:15:46.097757Z"
    }
   },
   "outputs": [],
   "source": [
    "data_count = unemployment_data.uu_id.value_counts().to_dict()"
   ]
  },
  {
   "cell_type": "code",
   "execution_count": 76,
   "id": "e3e1bc7d",
   "metadata": {
    "execution": {
     "iopub.execute_input": "2023-05-10T02:15:46.099436Z",
     "iopub.status.busy": "2023-05-10T02:15:46.099329Z",
     "iopub.status.idle": "2023-05-10T02:15:46.101723Z",
     "shell.execute_reply": "2023-05-10T02:15:46.101486Z"
    }
   },
   "outputs": [
    {
     "data": {
      "text/plain": [
       "['47f0290645712229fd4f8f1fe7dc6b05',\n",
       " '6657c9871fa2f67cd168e6f94354060e',\n",
       " '38e264ca88c300dc19938de0abc88ec4',\n",
       " '420b44cc7e3f55d738df565421e59941',\n",
       " 'a20575f25400fc50aa8377e345b97d41',\n",
       " '5bf51fc2e162d6faf9e3cf79e4198378',\n",
       " '65c933853ba6f9ad80097936c2924aa6',\n",
       " 'd6a4947ec7c2a78bd32ba4e30f3bba53',\n",
       " '248b6a72aba270fd9794b41f53813d5e',\n",
       " 'f25446d4d951867ca7b984ad17c6c1e0',\n",
       " 'b63901e116eff9653b0bb68135364147',\n",
       " '0aed17ab54d56c6651d331418e8db6be',\n",
       " '3934b01a1e31d0a6af96867e1afbf03c',\n",
       " '676fffaaecefffe4ce93ca264c5c3c36',\n",
       " '001cd9ae23064d7f0fd3cd327c873d8d',\n",
       " '99c1cb11273b064dc48649886138eb8e',\n",
       " 'b63efd0868b06138b7c8f9da9027e457',\n",
       " 'b67c2c4abede3730932f8d53aba0341a',\n",
       " '747f8bc2b0c8c0a04d29caa4cfe327d2',\n",
       " 'f7f087af0599e6b2eaa4045ba1a0be50',\n",
       " '6fbb60a508283bc1fb30c13ac419941a']"
      ]
     },
     "execution_count": 76,
     "metadata": {},
     "output_type": "execute_result"
    }
   ],
   "source": [
    "lessthanten = []\n",
    "for uuid, cnt in data_count.items():\n",
    "    if cnt <10:\n",
    "        lessthanten.append(uuid)\n",
    "lessthanten"
   ]
  },
  {
   "cell_type": "code",
   "execution_count": 77,
   "id": "f871061c",
   "metadata": {
    "execution": {
     "iopub.execute_input": "2023-05-10T02:15:46.103071Z",
     "iopub.status.busy": "2023-05-10T02:15:46.102966Z",
     "iopub.status.idle": "2023-05-10T02:15:46.104714Z",
     "shell.execute_reply": "2023-05-10T02:15:46.104485Z"
    }
   },
   "outputs": [],
   "source": [
    "lessthanten = []\n",
    "for uuid, cnt in data_count.items():\n",
    "    if cnt <10:\n",
    "        lessthanten.append(uuid)"
   ]
  },
  {
   "cell_type": "code",
   "execution_count": 78,
   "id": "89746b66",
   "metadata": {
    "execution": {
     "iopub.execute_input": "2023-05-10T02:15:46.105949Z",
     "iopub.status.busy": "2023-05-10T02:15:46.105872Z",
     "iopub.status.idle": "2023-05-10T02:15:46.113094Z",
     "shell.execute_reply": "2023-05-10T02:15:46.112826Z"
    }
   },
   "outputs": [
    {
     "ename": "TypeError",
     "evalue": "unsupported operand type(s) for -: 'list' and 'list'",
     "output_type": "error",
     "traceback": [
      "\u001b[0;31m---------------------------------------------------------------------------\u001b[0m",
      "\u001b[0;31mTypeError\u001b[0m                                 Traceback (most recent call last)",
      "Cell \u001b[0;32mIn [78], line 1\u001b[0m\n\u001b[0;32m----> 1\u001b[0m \u001b[38;5;28mlen\u001b[39m(\u001b[43muuids\u001b[49m\u001b[43m \u001b[49m\u001b[38;5;241;43m-\u001b[39;49m\u001b[43m \u001b[49m\u001b[43mlessthanten\u001b[49m)\n",
      "\u001b[0;31mTypeError\u001b[0m: unsupported operand type(s) for -: 'list' and 'list'"
     ]
    }
   ],
   "source": [
    "len(uuids - lessthanten)"
   ]
  },
  {
   "cell_type": "code",
   "execution_count": 79,
   "id": "187aa74b",
   "metadata": {
    "execution": {
     "iopub.execute_input": "2023-05-10T02:15:46.114550Z",
     "iopub.status.busy": "2023-05-10T02:15:46.114466Z",
     "iopub.status.idle": "2023-05-10T02:15:46.116604Z",
     "shell.execute_reply": "2023-05-10T02:15:46.116365Z"
    }
   },
   "outputs": [
    {
     "data": {
      "text/plain": [
       "525"
      ]
     },
     "execution_count": 79,
     "metadata": {},
     "output_type": "execute_result"
    }
   ],
   "source": [
    "len(uuids)"
   ]
  },
  {
   "cell_type": "code",
   "execution_count": 80,
   "id": "f1f0a9a0",
   "metadata": {
    "execution": {
     "iopub.execute_input": "2023-05-10T02:15:46.117960Z",
     "iopub.status.busy": "2023-05-10T02:15:46.117856Z",
     "iopub.status.idle": "2023-05-10T02:15:46.119431Z",
     "shell.execute_reply": "2023-05-10T02:15:46.119222Z"
    }
   },
   "outputs": [],
   "source": [
    "for i in lessthanten:\n",
    "    uuids.remove(i)"
   ]
  },
  {
   "cell_type": "code",
   "execution_count": 81,
   "id": "421282a5",
   "metadata": {
    "execution": {
     "iopub.execute_input": "2023-05-10T02:15:46.120746Z",
     "iopub.status.busy": "2023-05-10T02:15:46.120664Z",
     "iopub.status.idle": "2023-05-10T02:15:46.122629Z",
     "shell.execute_reply": "2023-05-10T02:15:46.122402Z"
    }
   },
   "outputs": [
    {
     "data": {
      "text/plain": [
       "504"
      ]
     },
     "execution_count": 81,
     "metadata": {},
     "output_type": "execute_result"
    }
   ],
   "source": [
    "len(uuids)"
   ]
  },
  {
   "cell_type": "code",
   "execution_count": 82,
   "id": "ce63997a",
   "metadata": {
    "execution": {
     "iopub.execute_input": "2023-05-10T02:15:46.123965Z",
     "iopub.status.busy": "2023-05-10T02:15:46.123885Z",
     "iopub.status.idle": "2023-05-10T02:15:49.905432Z",
     "shell.execute_reply": "2023-05-10T02:15:49.905094Z"
    }
   },
   "outputs": [],
   "source": [
    "fields = ['uu_id', 'week_number', 'total_claims']\n",
    "rows = []\n",
    "for uuid in uuids:\n",
    "    rows.append([uuid, 39, predict_claims(uuid, 39)])\n",
    "filename = 'submission_prediction_output.csv'"
   ]
  },
  {
   "cell_type": "code",
   "execution_count": 83,
   "id": "43cae5d1",
   "metadata": {
    "execution": {
     "iopub.execute_input": "2023-05-10T02:15:49.907147Z",
     "iopub.status.busy": "2023-05-10T02:15:49.907051Z",
     "iopub.status.idle": "2023-05-10T02:15:49.909367Z",
     "shell.execute_reply": "2023-05-10T02:15:49.909135Z"
    }
   },
   "outputs": [
    {
     "data": {
      "text/plain": [
       "[['e39c66ecceec76ee8f9f811fa4a2d246', 39, None],\n",
       " ['a90462cd11ae4e43144239bf7c4828a4', 39, None],\n",
       " ['8b20a6749088c7ff1237983076ebfeaa', 39, None],\n",
       " ['489a93264d03adecc4589fd9cd34ad36', 39, None],\n",
       " ['f61f291c865fe4fe2bfd6dad53e5d058', 39, None]]"
      ]
     },
     "execution_count": 83,
     "metadata": {},
     "output_type": "execute_result"
    }
   ],
   "source": [
    "rows[:5]"
   ]
  },
  {
   "cell_type": "code",
   "execution_count": 84,
   "id": "74368c8b",
   "metadata": {
    "execution": {
     "iopub.execute_input": "2023-05-10T02:15:49.910758Z",
     "iopub.status.busy": "2023-05-10T02:15:49.910658Z",
     "iopub.status.idle": "2023-05-10T02:15:49.926841Z",
     "shell.execute_reply": "2023-05-10T02:15:49.926567Z"
    }
   },
   "outputs": [
    {
     "ename": "TypeError",
     "evalue": "int() argument must be a string, a bytes-like object or a number, not 'NoneType'",
     "output_type": "error",
     "traceback": [
      "\u001b[0;31m---------------------------------------------------------------------------\u001b[0m",
      "\u001b[0;31mTypeError\u001b[0m                                 Traceback (most recent call last)",
      "Cell \u001b[0;32mIn [84], line 4\u001b[0m\n\u001b[1;32m      2\u001b[0m rows \u001b[38;5;241m=\u001b[39m []\n\u001b[1;32m      3\u001b[0m \u001b[38;5;28;01mfor\u001b[39;00m uuid \u001b[38;5;129;01min\u001b[39;00m uuids:\n\u001b[0;32m----> 4\u001b[0m     rows\u001b[38;5;241m.\u001b[39mappend([uuid, \u001b[38;5;241m39\u001b[39m, \u001b[38;5;28;43mint\u001b[39;49m\u001b[43m(\u001b[49m\u001b[43mpredict_claims\u001b[49m\u001b[43m(\u001b[49m\u001b[43muuid\u001b[49m\u001b[43m,\u001b[49m\u001b[43m \u001b[49m\u001b[38;5;241;43m39\u001b[39;49m\u001b[43m)\u001b[49m\u001b[43m)\u001b[49m])\n\u001b[1;32m      5\u001b[0m filename \u001b[38;5;241m=\u001b[39m \u001b[38;5;124m'\u001b[39m\u001b[38;5;124msubmission_prediction_output.csv\u001b[39m\u001b[38;5;124m'\u001b[39m\n",
      "\u001b[0;31mTypeError\u001b[0m: int() argument must be a string, a bytes-like object or a number, not 'NoneType'"
     ]
    }
   ],
   "source": [
    "fields = ['uu_id', 'week_number', 'total_claims']\n",
    "rows = []\n",
    "for uuid in uuids:\n",
    "    rows.append([uuid, 39, int(predict_claims(uuid, 39))])\n",
    "filename = 'submission_prediction_output.csv'"
   ]
  },
  {
   "cell_type": "code",
   "execution_count": 85,
   "id": "59de2893",
   "metadata": {
    "execution": {
     "iopub.execute_input": "2023-05-10T02:15:49.928252Z",
     "iopub.status.busy": "2023-05-10T02:15:49.928161Z",
     "iopub.status.idle": "2023-05-10T02:15:49.930354Z",
     "shell.execute_reply": "2023-05-10T02:15:49.930093Z"
    }
   },
   "outputs": [
    {
     "data": {
      "text/plain": [
       "[]"
      ]
     },
     "execution_count": 85,
     "metadata": {},
     "output_type": "execute_result"
    }
   ],
   "source": [
    "rows[:5]"
   ]
  },
  {
   "cell_type": "code",
   "execution_count": 86,
   "id": "aec3f134",
   "metadata": {
    "execution": {
     "iopub.execute_input": "2023-05-10T02:15:49.931710Z",
     "iopub.status.busy": "2023-05-10T02:15:49.931626Z",
     "iopub.status.idle": "2023-05-10T02:15:49.941248Z",
     "shell.execute_reply": "2023-05-10T02:15:49.941010Z"
    }
   },
   "outputs": [
    {
     "data": {
      "text/html": [
       "<div>\n",
       "<style scoped>\n",
       "    .dataframe tbody tr th:only-of-type {\n",
       "        vertical-align: middle;\n",
       "    }\n",
       "\n",
       "    .dataframe tbody tr th {\n",
       "        vertical-align: top;\n",
       "    }\n",
       "\n",
       "    .dataframe thead th {\n",
       "        text-align: right;\n",
       "    }\n",
       "</style>\n",
       "<table border=\"1\" class=\"dataframe\">\n",
       "  <thead>\n",
       "    <tr style=\"text-align: right;\">\n",
       "      <th></th>\n",
       "      <th>week_number</th>\n",
       "      <th>total_claims</th>\n",
       "      <th>edu_8th_or_less</th>\n",
       "      <th>edu_grades_9_11</th>\n",
       "      <th>edu_hs_grad_equiv</th>\n",
       "      <th>edu_post_hs</th>\n",
       "      <th>race_amerindian</th>\n",
       "      <th>race_asian</th>\n",
       "      <th>race_black</th>\n",
       "      <th>race_white</th>\n",
       "    </tr>\n",
       "    <tr>\n",
       "      <th>uu_id</th>\n",
       "      <th></th>\n",
       "      <th></th>\n",
       "      <th></th>\n",
       "      <th></th>\n",
       "      <th></th>\n",
       "      <th></th>\n",
       "      <th></th>\n",
       "      <th></th>\n",
       "      <th></th>\n",
       "      <th></th>\n",
       "    </tr>\n",
       "  </thead>\n",
       "  <tbody>\n",
       "    <tr>\n",
       "      <th>001cd9ae23064d7f0fd3cd327c873d8d</th>\n",
       "      <td>34.5</td>\n",
       "      <td>11.5</td>\n",
       "      <td>0.0</td>\n",
       "      <td>0.0</td>\n",
       "      <td>0.0</td>\n",
       "      <td>0.0</td>\n",
       "      <td>0.0</td>\n",
       "      <td>0.0</td>\n",
       "      <td>0.0</td>\n",
       "      <td>0.0</td>\n",
       "    </tr>\n",
       "    <tr>\n",
       "      <th>005be9532fd717dc36d4be318fd9ad25</th>\n",
       "      <td>24.0</td>\n",
       "      <td>19.0</td>\n",
       "      <td>0.0</td>\n",
       "      <td>0.0</td>\n",
       "      <td>0.0</td>\n",
       "      <td>0.0</td>\n",
       "      <td>0.0</td>\n",
       "      <td>0.0</td>\n",
       "      <td>0.0</td>\n",
       "      <td>11.0</td>\n",
       "    </tr>\n",
       "    <tr>\n",
       "      <th>007c1caccff1fbb3a0b8a10790f77141</th>\n",
       "      <td>15.5</td>\n",
       "      <td>12.0</td>\n",
       "      <td>0.0</td>\n",
       "      <td>0.0</td>\n",
       "      <td>0.0</td>\n",
       "      <td>0.0</td>\n",
       "      <td>0.0</td>\n",
       "      <td>0.0</td>\n",
       "      <td>0.0</td>\n",
       "      <td>10.0</td>\n",
       "    </tr>\n",
       "    <tr>\n",
       "      <th>009683350b175edfc6414d664e4ba873</th>\n",
       "      <td>14.0</td>\n",
       "      <td>17.0</td>\n",
       "      <td>0.0</td>\n",
       "      <td>0.0</td>\n",
       "      <td>0.0</td>\n",
       "      <td>0.0</td>\n",
       "      <td>0.0</td>\n",
       "      <td>0.0</td>\n",
       "      <td>0.0</td>\n",
       "      <td>0.0</td>\n",
       "    </tr>\n",
       "    <tr>\n",
       "      <th>00f962ce727b8dbbf20925abd5a253dd</th>\n",
       "      <td>19.0</td>\n",
       "      <td>35.0</td>\n",
       "      <td>0.0</td>\n",
       "      <td>0.0</td>\n",
       "      <td>18.0</td>\n",
       "      <td>0.0</td>\n",
       "      <td>0.0</td>\n",
       "      <td>0.0</td>\n",
       "      <td>25.0</td>\n",
       "      <td>0.0</td>\n",
       "    </tr>\n",
       "    <tr>\n",
       "      <th>...</th>\n",
       "      <td>...</td>\n",
       "      <td>...</td>\n",
       "      <td>...</td>\n",
       "      <td>...</td>\n",
       "      <td>...</td>\n",
       "      <td>...</td>\n",
       "      <td>...</td>\n",
       "      <td>...</td>\n",
       "      <td>...</td>\n",
       "      <td>...</td>\n",
       "    </tr>\n",
       "    <tr>\n",
       "      <th>fcf9f3effa992cfd552696e4ae7219b6</th>\n",
       "      <td>19.0</td>\n",
       "      <td>15.0</td>\n",
       "      <td>0.0</td>\n",
       "      <td>0.0</td>\n",
       "      <td>0.0</td>\n",
       "      <td>10.0</td>\n",
       "      <td>0.0</td>\n",
       "      <td>0.0</td>\n",
       "      <td>0.0</td>\n",
       "      <td>0.0</td>\n",
       "    </tr>\n",
       "    <tr>\n",
       "      <th>fcfc60d8240e5a51f878fd92e2a352a3</th>\n",
       "      <td>17.0</td>\n",
       "      <td>15.0</td>\n",
       "      <td>0.0</td>\n",
       "      <td>0.0</td>\n",
       "      <td>0.0</td>\n",
       "      <td>0.0</td>\n",
       "      <td>0.0</td>\n",
       "      <td>0.0</td>\n",
       "      <td>0.0</td>\n",
       "      <td>0.0</td>\n",
       "    </tr>\n",
       "    <tr>\n",
       "      <th>fd613eba867c6ad7350a937f743b88f2</th>\n",
       "      <td>17.0</td>\n",
       "      <td>18.0</td>\n",
       "      <td>0.0</td>\n",
       "      <td>0.0</td>\n",
       "      <td>0.0</td>\n",
       "      <td>0.0</td>\n",
       "      <td>0.0</td>\n",
       "      <td>0.0</td>\n",
       "      <td>0.0</td>\n",
       "      <td>0.0</td>\n",
       "    </tr>\n",
       "    <tr>\n",
       "      <th>fe355ff27aa8b2242a558d5e3ec99c18</th>\n",
       "      <td>16.5</td>\n",
       "      <td>13.0</td>\n",
       "      <td>0.0</td>\n",
       "      <td>0.0</td>\n",
       "      <td>0.0</td>\n",
       "      <td>0.0</td>\n",
       "      <td>0.0</td>\n",
       "      <td>0.0</td>\n",
       "      <td>0.0</td>\n",
       "      <td>0.0</td>\n",
       "    </tr>\n",
       "    <tr>\n",
       "      <th>fec479d0202d6e1e3f051a9ee902ff5d</th>\n",
       "      <td>19.0</td>\n",
       "      <td>28.0</td>\n",
       "      <td>0.0</td>\n",
       "      <td>0.0</td>\n",
       "      <td>0.0</td>\n",
       "      <td>11.0</td>\n",
       "      <td>0.0</td>\n",
       "      <td>0.0</td>\n",
       "      <td>0.0</td>\n",
       "      <td>20.0</td>\n",
       "    </tr>\n",
       "  </tbody>\n",
       "</table>\n",
       "<p>525 rows × 10 columns</p>\n",
       "</div>"
      ],
      "text/plain": [
       "                                  week_number  total_claims  edu_8th_or_less  \\\n",
       "uu_id                                                                          \n",
       "001cd9ae23064d7f0fd3cd327c873d8d         34.5          11.5              0.0   \n",
       "005be9532fd717dc36d4be318fd9ad25         24.0          19.0              0.0   \n",
       "007c1caccff1fbb3a0b8a10790f77141         15.5          12.0              0.0   \n",
       "009683350b175edfc6414d664e4ba873         14.0          17.0              0.0   \n",
       "00f962ce727b8dbbf20925abd5a253dd         19.0          35.0              0.0   \n",
       "...                                       ...           ...              ...   \n",
       "fcf9f3effa992cfd552696e4ae7219b6         19.0          15.0              0.0   \n",
       "fcfc60d8240e5a51f878fd92e2a352a3         17.0          15.0              0.0   \n",
       "fd613eba867c6ad7350a937f743b88f2         17.0          18.0              0.0   \n",
       "fe355ff27aa8b2242a558d5e3ec99c18         16.5          13.0              0.0   \n",
       "fec479d0202d6e1e3f051a9ee902ff5d         19.0          28.0              0.0   \n",
       "\n",
       "                                  edu_grades_9_11  edu_hs_grad_equiv  \\\n",
       "uu_id                                                                  \n",
       "001cd9ae23064d7f0fd3cd327c873d8d              0.0                0.0   \n",
       "005be9532fd717dc36d4be318fd9ad25              0.0                0.0   \n",
       "007c1caccff1fbb3a0b8a10790f77141              0.0                0.0   \n",
       "009683350b175edfc6414d664e4ba873              0.0                0.0   \n",
       "00f962ce727b8dbbf20925abd5a253dd              0.0               18.0   \n",
       "...                                           ...                ...   \n",
       "fcf9f3effa992cfd552696e4ae7219b6              0.0                0.0   \n",
       "fcfc60d8240e5a51f878fd92e2a352a3              0.0                0.0   \n",
       "fd613eba867c6ad7350a937f743b88f2              0.0                0.0   \n",
       "fe355ff27aa8b2242a558d5e3ec99c18              0.0                0.0   \n",
       "fec479d0202d6e1e3f051a9ee902ff5d              0.0                0.0   \n",
       "\n",
       "                                  edu_post_hs  race_amerindian  race_asian  \\\n",
       "uu_id                                                                        \n",
       "001cd9ae23064d7f0fd3cd327c873d8d          0.0              0.0         0.0   \n",
       "005be9532fd717dc36d4be318fd9ad25          0.0              0.0         0.0   \n",
       "007c1caccff1fbb3a0b8a10790f77141          0.0              0.0         0.0   \n",
       "009683350b175edfc6414d664e4ba873          0.0              0.0         0.0   \n",
       "00f962ce727b8dbbf20925abd5a253dd          0.0              0.0         0.0   \n",
       "...                                       ...              ...         ...   \n",
       "fcf9f3effa992cfd552696e4ae7219b6         10.0              0.0         0.0   \n",
       "fcfc60d8240e5a51f878fd92e2a352a3          0.0              0.0         0.0   \n",
       "fd613eba867c6ad7350a937f743b88f2          0.0              0.0         0.0   \n",
       "fe355ff27aa8b2242a558d5e3ec99c18          0.0              0.0         0.0   \n",
       "fec479d0202d6e1e3f051a9ee902ff5d         11.0              0.0         0.0   \n",
       "\n",
       "                                  race_black  race_white  \n",
       "uu_id                                                     \n",
       "001cd9ae23064d7f0fd3cd327c873d8d         0.0         0.0  \n",
       "005be9532fd717dc36d4be318fd9ad25         0.0        11.0  \n",
       "007c1caccff1fbb3a0b8a10790f77141         0.0        10.0  \n",
       "009683350b175edfc6414d664e4ba873         0.0         0.0  \n",
       "00f962ce727b8dbbf20925abd5a253dd        25.0         0.0  \n",
       "...                                      ...         ...  \n",
       "fcf9f3effa992cfd552696e4ae7219b6         0.0         0.0  \n",
       "fcfc60d8240e5a51f878fd92e2a352a3         0.0         0.0  \n",
       "fd613eba867c6ad7350a937f743b88f2         0.0         0.0  \n",
       "fe355ff27aa8b2242a558d5e3ec99c18         0.0         0.0  \n",
       "fec479d0202d6e1e3f051a9ee902ff5d         0.0        20.0  \n",
       "\n",
       "[525 rows x 10 columns]"
      ]
     },
     "execution_count": 86,
     "metadata": {},
     "output_type": "execute_result"
    }
   ],
   "source": [
    "unemployment_data.groupby('uu_id').median()"
   ]
  },
  {
   "cell_type": "code",
   "execution_count": 87,
   "id": "29973bc8",
   "metadata": {
    "execution": {
     "iopub.execute_input": "2023-05-10T02:15:49.942698Z",
     "iopub.status.busy": "2023-05-10T02:15:49.942614Z",
     "iopub.status.idle": "2023-05-10T02:15:49.955493Z",
     "shell.execute_reply": "2023-05-10T02:15:49.955223Z"
    }
   },
   "outputs": [
    {
     "ename": "AttributeError",
     "evalue": "'DataFrame' object has no attribute 'get_group'",
     "output_type": "error",
     "traceback": [
      "\u001b[0;31m---------------------------------------------------------------------------\u001b[0m",
      "\u001b[0;31mAttributeError\u001b[0m                            Traceback (most recent call last)",
      "Cell \u001b[0;32mIn [87], line 2\u001b[0m\n\u001b[1;32m      1\u001b[0m \u001b[38;5;66;03m# 005be9532fd717dc36d4be318fd9ad25\u001b[39;00m\n\u001b[0;32m----> 2\u001b[0m \u001b[43munemployment_data\u001b[49m\u001b[38;5;241;43m.\u001b[39;49m\u001b[43mgroupby\u001b[49m\u001b[43m(\u001b[49m\u001b[38;5;124;43m'\u001b[39;49m\u001b[38;5;124;43muu_id\u001b[39;49m\u001b[38;5;124;43m'\u001b[39;49m\u001b[43m)\u001b[49m\u001b[38;5;241;43m.\u001b[39;49m\u001b[43mmedian\u001b[49m\u001b[43m(\u001b[49m\u001b[43m)\u001b[49m\u001b[38;5;241;43m.\u001b[39;49m\u001b[43mget_group\u001b[49m(\u001b[38;5;124m'\u001b[39m\u001b[38;5;124m005be9532fd717dc36d4be318fd9ad25\u001b[39m\u001b[38;5;124m'\u001b[39m)\n",
      "File \u001b[0;32m/opt/homebrew/lib/python3.9/site-packages/pandas/core/generic.py:5902\u001b[0m, in \u001b[0;36mNDFrame.__getattr__\u001b[0;34m(self, name)\u001b[0m\n\u001b[1;32m   5895\u001b[0m \u001b[38;5;28;01mif\u001b[39;00m (\n\u001b[1;32m   5896\u001b[0m     name \u001b[38;5;129;01mnot\u001b[39;00m \u001b[38;5;129;01min\u001b[39;00m \u001b[38;5;28mself\u001b[39m\u001b[38;5;241m.\u001b[39m_internal_names_set\n\u001b[1;32m   5897\u001b[0m     \u001b[38;5;129;01mand\u001b[39;00m name \u001b[38;5;129;01mnot\u001b[39;00m \u001b[38;5;129;01min\u001b[39;00m \u001b[38;5;28mself\u001b[39m\u001b[38;5;241m.\u001b[39m_metadata\n\u001b[1;32m   5898\u001b[0m     \u001b[38;5;129;01mand\u001b[39;00m name \u001b[38;5;129;01mnot\u001b[39;00m \u001b[38;5;129;01min\u001b[39;00m \u001b[38;5;28mself\u001b[39m\u001b[38;5;241m.\u001b[39m_accessors\n\u001b[1;32m   5899\u001b[0m     \u001b[38;5;129;01mand\u001b[39;00m \u001b[38;5;28mself\u001b[39m\u001b[38;5;241m.\u001b[39m_info_axis\u001b[38;5;241m.\u001b[39m_can_hold_identifiers_and_holds_name(name)\n\u001b[1;32m   5900\u001b[0m ):\n\u001b[1;32m   5901\u001b[0m     \u001b[38;5;28;01mreturn\u001b[39;00m \u001b[38;5;28mself\u001b[39m[name]\n\u001b[0;32m-> 5902\u001b[0m \u001b[38;5;28;01mreturn\u001b[39;00m \u001b[38;5;28;43mobject\u001b[39;49m\u001b[38;5;241;43m.\u001b[39;49m\u001b[38;5;21;43m__getattribute__\u001b[39;49m\u001b[43m(\u001b[49m\u001b[38;5;28;43mself\u001b[39;49m\u001b[43m,\u001b[49m\u001b[43m \u001b[49m\u001b[43mname\u001b[49m\u001b[43m)\u001b[49m\n",
      "\u001b[0;31mAttributeError\u001b[0m: 'DataFrame' object has no attribute 'get_group'"
     ]
    }
   ],
   "source": [
    "# 005be9532fd717dc36d4be318fd9ad25\n",
    "unemployment_data.groupby('uu_id').median().get_group('005be9532fd717dc36d4be318fd9ad25')"
   ]
  },
  {
   "cell_type": "code",
   "execution_count": 88,
   "id": "3cb8058d",
   "metadata": {
    "execution": {
     "iopub.execute_input": "2023-05-10T02:15:49.956933Z",
     "iopub.status.busy": "2023-05-10T02:15:49.956850Z",
     "iopub.status.idle": "2023-05-10T02:15:49.966418Z",
     "shell.execute_reply": "2023-05-10T02:15:49.966141Z"
    }
   },
   "outputs": [
    {
     "data": {
      "text/html": [
       "<div>\n",
       "<style scoped>\n",
       "    .dataframe tbody tr th:only-of-type {\n",
       "        vertical-align: middle;\n",
       "    }\n",
       "\n",
       "    .dataframe tbody tr th {\n",
       "        vertical-align: top;\n",
       "    }\n",
       "\n",
       "    .dataframe thead th {\n",
       "        text-align: right;\n",
       "    }\n",
       "</style>\n",
       "<table border=\"1\" class=\"dataframe\">\n",
       "  <thead>\n",
       "    <tr style=\"text-align: right;\">\n",
       "      <th></th>\n",
       "      <th>week_number</th>\n",
       "      <th>total_claims</th>\n",
       "      <th>edu_8th_or_less</th>\n",
       "      <th>edu_grades_9_11</th>\n",
       "      <th>edu_hs_grad_equiv</th>\n",
       "      <th>edu_post_hs</th>\n",
       "      <th>race_amerindian</th>\n",
       "      <th>race_asian</th>\n",
       "      <th>race_black</th>\n",
       "      <th>race_white</th>\n",
       "    </tr>\n",
       "    <tr>\n",
       "      <th>uu_id</th>\n",
       "      <th></th>\n",
       "      <th></th>\n",
       "      <th></th>\n",
       "      <th></th>\n",
       "      <th></th>\n",
       "      <th></th>\n",
       "      <th></th>\n",
       "      <th></th>\n",
       "      <th></th>\n",
       "      <th></th>\n",
       "    </tr>\n",
       "  </thead>\n",
       "  <tbody>\n",
       "    <tr>\n",
       "      <th>001cd9ae23064d7f0fd3cd327c873d8d</th>\n",
       "      <td>34.5</td>\n",
       "      <td>11.5</td>\n",
       "      <td>0.0</td>\n",
       "      <td>0.0</td>\n",
       "      <td>0.0</td>\n",
       "      <td>0.0</td>\n",
       "      <td>0.0</td>\n",
       "      <td>0.0</td>\n",
       "      <td>0.0</td>\n",
       "      <td>0.0</td>\n",
       "    </tr>\n",
       "    <tr>\n",
       "      <th>005be9532fd717dc36d4be318fd9ad25</th>\n",
       "      <td>24.0</td>\n",
       "      <td>19.0</td>\n",
       "      <td>0.0</td>\n",
       "      <td>0.0</td>\n",
       "      <td>0.0</td>\n",
       "      <td>0.0</td>\n",
       "      <td>0.0</td>\n",
       "      <td>0.0</td>\n",
       "      <td>0.0</td>\n",
       "      <td>11.0</td>\n",
       "    </tr>\n",
       "    <tr>\n",
       "      <th>007c1caccff1fbb3a0b8a10790f77141</th>\n",
       "      <td>15.5</td>\n",
       "      <td>12.0</td>\n",
       "      <td>0.0</td>\n",
       "      <td>0.0</td>\n",
       "      <td>0.0</td>\n",
       "      <td>0.0</td>\n",
       "      <td>0.0</td>\n",
       "      <td>0.0</td>\n",
       "      <td>0.0</td>\n",
       "      <td>10.0</td>\n",
       "    </tr>\n",
       "    <tr>\n",
       "      <th>009683350b175edfc6414d664e4ba873</th>\n",
       "      <td>14.0</td>\n",
       "      <td>17.0</td>\n",
       "      <td>0.0</td>\n",
       "      <td>0.0</td>\n",
       "      <td>0.0</td>\n",
       "      <td>0.0</td>\n",
       "      <td>0.0</td>\n",
       "      <td>0.0</td>\n",
       "      <td>0.0</td>\n",
       "      <td>0.0</td>\n",
       "    </tr>\n",
       "    <tr>\n",
       "      <th>00f962ce727b8dbbf20925abd5a253dd</th>\n",
       "      <td>19.0</td>\n",
       "      <td>35.0</td>\n",
       "      <td>0.0</td>\n",
       "      <td>0.0</td>\n",
       "      <td>18.0</td>\n",
       "      <td>0.0</td>\n",
       "      <td>0.0</td>\n",
       "      <td>0.0</td>\n",
       "      <td>25.0</td>\n",
       "      <td>0.0</td>\n",
       "    </tr>\n",
       "    <tr>\n",
       "      <th>...</th>\n",
       "      <td>...</td>\n",
       "      <td>...</td>\n",
       "      <td>...</td>\n",
       "      <td>...</td>\n",
       "      <td>...</td>\n",
       "      <td>...</td>\n",
       "      <td>...</td>\n",
       "      <td>...</td>\n",
       "      <td>...</td>\n",
       "      <td>...</td>\n",
       "    </tr>\n",
       "    <tr>\n",
       "      <th>fcf9f3effa992cfd552696e4ae7219b6</th>\n",
       "      <td>19.0</td>\n",
       "      <td>15.0</td>\n",
       "      <td>0.0</td>\n",
       "      <td>0.0</td>\n",
       "      <td>0.0</td>\n",
       "      <td>10.0</td>\n",
       "      <td>0.0</td>\n",
       "      <td>0.0</td>\n",
       "      <td>0.0</td>\n",
       "      <td>0.0</td>\n",
       "    </tr>\n",
       "    <tr>\n",
       "      <th>fcfc60d8240e5a51f878fd92e2a352a3</th>\n",
       "      <td>17.0</td>\n",
       "      <td>15.0</td>\n",
       "      <td>0.0</td>\n",
       "      <td>0.0</td>\n",
       "      <td>0.0</td>\n",
       "      <td>0.0</td>\n",
       "      <td>0.0</td>\n",
       "      <td>0.0</td>\n",
       "      <td>0.0</td>\n",
       "      <td>0.0</td>\n",
       "    </tr>\n",
       "    <tr>\n",
       "      <th>fd613eba867c6ad7350a937f743b88f2</th>\n",
       "      <td>17.0</td>\n",
       "      <td>18.0</td>\n",
       "      <td>0.0</td>\n",
       "      <td>0.0</td>\n",
       "      <td>0.0</td>\n",
       "      <td>0.0</td>\n",
       "      <td>0.0</td>\n",
       "      <td>0.0</td>\n",
       "      <td>0.0</td>\n",
       "      <td>0.0</td>\n",
       "    </tr>\n",
       "    <tr>\n",
       "      <th>fe355ff27aa8b2242a558d5e3ec99c18</th>\n",
       "      <td>16.5</td>\n",
       "      <td>13.0</td>\n",
       "      <td>0.0</td>\n",
       "      <td>0.0</td>\n",
       "      <td>0.0</td>\n",
       "      <td>0.0</td>\n",
       "      <td>0.0</td>\n",
       "      <td>0.0</td>\n",
       "      <td>0.0</td>\n",
       "      <td>0.0</td>\n",
       "    </tr>\n",
       "    <tr>\n",
       "      <th>fec479d0202d6e1e3f051a9ee902ff5d</th>\n",
       "      <td>19.0</td>\n",
       "      <td>28.0</td>\n",
       "      <td>0.0</td>\n",
       "      <td>0.0</td>\n",
       "      <td>0.0</td>\n",
       "      <td>11.0</td>\n",
       "      <td>0.0</td>\n",
       "      <td>0.0</td>\n",
       "      <td>0.0</td>\n",
       "      <td>20.0</td>\n",
       "    </tr>\n",
       "  </tbody>\n",
       "</table>\n",
       "<p>525 rows × 10 columns</p>\n",
       "</div>"
      ],
      "text/plain": [
       "                                  week_number  total_claims  edu_8th_or_less  \\\n",
       "uu_id                                                                          \n",
       "001cd9ae23064d7f0fd3cd327c873d8d         34.5          11.5              0.0   \n",
       "005be9532fd717dc36d4be318fd9ad25         24.0          19.0              0.0   \n",
       "007c1caccff1fbb3a0b8a10790f77141         15.5          12.0              0.0   \n",
       "009683350b175edfc6414d664e4ba873         14.0          17.0              0.0   \n",
       "00f962ce727b8dbbf20925abd5a253dd         19.0          35.0              0.0   \n",
       "...                                       ...           ...              ...   \n",
       "fcf9f3effa992cfd552696e4ae7219b6         19.0          15.0              0.0   \n",
       "fcfc60d8240e5a51f878fd92e2a352a3         17.0          15.0              0.0   \n",
       "fd613eba867c6ad7350a937f743b88f2         17.0          18.0              0.0   \n",
       "fe355ff27aa8b2242a558d5e3ec99c18         16.5          13.0              0.0   \n",
       "fec479d0202d6e1e3f051a9ee902ff5d         19.0          28.0              0.0   \n",
       "\n",
       "                                  edu_grades_9_11  edu_hs_grad_equiv  \\\n",
       "uu_id                                                                  \n",
       "001cd9ae23064d7f0fd3cd327c873d8d              0.0                0.0   \n",
       "005be9532fd717dc36d4be318fd9ad25              0.0                0.0   \n",
       "007c1caccff1fbb3a0b8a10790f77141              0.0                0.0   \n",
       "009683350b175edfc6414d664e4ba873              0.0                0.0   \n",
       "00f962ce727b8dbbf20925abd5a253dd              0.0               18.0   \n",
       "...                                           ...                ...   \n",
       "fcf9f3effa992cfd552696e4ae7219b6              0.0                0.0   \n",
       "fcfc60d8240e5a51f878fd92e2a352a3              0.0                0.0   \n",
       "fd613eba867c6ad7350a937f743b88f2              0.0                0.0   \n",
       "fe355ff27aa8b2242a558d5e3ec99c18              0.0                0.0   \n",
       "fec479d0202d6e1e3f051a9ee902ff5d              0.0                0.0   \n",
       "\n",
       "                                  edu_post_hs  race_amerindian  race_asian  \\\n",
       "uu_id                                                                        \n",
       "001cd9ae23064d7f0fd3cd327c873d8d          0.0              0.0         0.0   \n",
       "005be9532fd717dc36d4be318fd9ad25          0.0              0.0         0.0   \n",
       "007c1caccff1fbb3a0b8a10790f77141          0.0              0.0         0.0   \n",
       "009683350b175edfc6414d664e4ba873          0.0              0.0         0.0   \n",
       "00f962ce727b8dbbf20925abd5a253dd          0.0              0.0         0.0   \n",
       "...                                       ...              ...         ...   \n",
       "fcf9f3effa992cfd552696e4ae7219b6         10.0              0.0         0.0   \n",
       "fcfc60d8240e5a51f878fd92e2a352a3          0.0              0.0         0.0   \n",
       "fd613eba867c6ad7350a937f743b88f2          0.0              0.0         0.0   \n",
       "fe355ff27aa8b2242a558d5e3ec99c18          0.0              0.0         0.0   \n",
       "fec479d0202d6e1e3f051a9ee902ff5d         11.0              0.0         0.0   \n",
       "\n",
       "                                  race_black  race_white  \n",
       "uu_id                                                     \n",
       "001cd9ae23064d7f0fd3cd327c873d8d         0.0         0.0  \n",
       "005be9532fd717dc36d4be318fd9ad25         0.0        11.0  \n",
       "007c1caccff1fbb3a0b8a10790f77141         0.0        10.0  \n",
       "009683350b175edfc6414d664e4ba873         0.0         0.0  \n",
       "00f962ce727b8dbbf20925abd5a253dd        25.0         0.0  \n",
       "...                                      ...         ...  \n",
       "fcf9f3effa992cfd552696e4ae7219b6         0.0         0.0  \n",
       "fcfc60d8240e5a51f878fd92e2a352a3         0.0         0.0  \n",
       "fd613eba867c6ad7350a937f743b88f2         0.0         0.0  \n",
       "fe355ff27aa8b2242a558d5e3ec99c18         0.0         0.0  \n",
       "fec479d0202d6e1e3f051a9ee902ff5d         0.0        20.0  \n",
       "\n",
       "[525 rows x 10 columns]"
      ]
     },
     "execution_count": 88,
     "metadata": {},
     "output_type": "execute_result"
    }
   ],
   "source": [
    "# 005be9532fd717dc36d4be318fd9ad25\n",
    "groupby_id = unemployment_data.groupby('uu_id').median()\n",
    "groupby_id"
   ]
  },
  {
   "cell_type": "code",
   "execution_count": 89,
   "id": "d4b7321d",
   "metadata": {
    "execution": {
     "iopub.execute_input": "2023-05-10T02:15:49.967847Z",
     "iopub.status.busy": "2023-05-10T02:15:49.967760Z",
     "iopub.status.idle": "2023-05-10T02:15:49.980157Z",
     "shell.execute_reply": "2023-05-10T02:15:49.979883Z"
    }
   },
   "outputs": [
    {
     "ename": "AttributeError",
     "evalue": "'DataFrame' object has no attribute 'get_group'",
     "output_type": "error",
     "traceback": [
      "\u001b[0;31m---------------------------------------------------------------------------\u001b[0m",
      "\u001b[0;31mAttributeError\u001b[0m                            Traceback (most recent call last)",
      "Cell \u001b[0;32mIn [89], line 3\u001b[0m\n\u001b[1;32m      1\u001b[0m \u001b[38;5;66;03m# 005be9532fd717dc36d4be318fd9ad25\u001b[39;00m\n\u001b[1;32m      2\u001b[0m groupby_id \u001b[38;5;241m=\u001b[39m unemployment_data\u001b[38;5;241m.\u001b[39mgroupby(\u001b[38;5;124m'\u001b[39m\u001b[38;5;124muu_id\u001b[39m\u001b[38;5;124m'\u001b[39m)\u001b[38;5;241m.\u001b[39mmedian()\n\u001b[0;32m----> 3\u001b[0m \u001b[43mgroupby_id\u001b[49m\u001b[38;5;241;43m.\u001b[39;49m\u001b[43mget_group\u001b[49m(\u001b[38;5;124m'\u001b[39m\u001b[38;5;124m005be9532fd717dc36d4be318fd9ad25\u001b[39m\u001b[38;5;124m'\u001b[39m)\n",
      "File \u001b[0;32m/opt/homebrew/lib/python3.9/site-packages/pandas/core/generic.py:5902\u001b[0m, in \u001b[0;36mNDFrame.__getattr__\u001b[0;34m(self, name)\u001b[0m\n\u001b[1;32m   5895\u001b[0m \u001b[38;5;28;01mif\u001b[39;00m (\n\u001b[1;32m   5896\u001b[0m     name \u001b[38;5;129;01mnot\u001b[39;00m \u001b[38;5;129;01min\u001b[39;00m \u001b[38;5;28mself\u001b[39m\u001b[38;5;241m.\u001b[39m_internal_names_set\n\u001b[1;32m   5897\u001b[0m     \u001b[38;5;129;01mand\u001b[39;00m name \u001b[38;5;129;01mnot\u001b[39;00m \u001b[38;5;129;01min\u001b[39;00m \u001b[38;5;28mself\u001b[39m\u001b[38;5;241m.\u001b[39m_metadata\n\u001b[1;32m   5898\u001b[0m     \u001b[38;5;129;01mand\u001b[39;00m name \u001b[38;5;129;01mnot\u001b[39;00m \u001b[38;5;129;01min\u001b[39;00m \u001b[38;5;28mself\u001b[39m\u001b[38;5;241m.\u001b[39m_accessors\n\u001b[1;32m   5899\u001b[0m     \u001b[38;5;129;01mand\u001b[39;00m \u001b[38;5;28mself\u001b[39m\u001b[38;5;241m.\u001b[39m_info_axis\u001b[38;5;241m.\u001b[39m_can_hold_identifiers_and_holds_name(name)\n\u001b[1;32m   5900\u001b[0m ):\n\u001b[1;32m   5901\u001b[0m     \u001b[38;5;28;01mreturn\u001b[39;00m \u001b[38;5;28mself\u001b[39m[name]\n\u001b[0;32m-> 5902\u001b[0m \u001b[38;5;28;01mreturn\u001b[39;00m \u001b[38;5;28;43mobject\u001b[39;49m\u001b[38;5;241;43m.\u001b[39;49m\u001b[38;5;21;43m__getattribute__\u001b[39;49m\u001b[43m(\u001b[49m\u001b[38;5;28;43mself\u001b[39;49m\u001b[43m,\u001b[49m\u001b[43m \u001b[49m\u001b[43mname\u001b[49m\u001b[43m)\u001b[49m\n",
      "\u001b[0;31mAttributeError\u001b[0m: 'DataFrame' object has no attribute 'get_group'"
     ]
    }
   ],
   "source": [
    "# 005be9532fd717dc36d4be318fd9ad25\n",
    "groupby_id = unemployment_data.groupby('uu_id').median()\n",
    "groupby_id.get_group('005be9532fd717dc36d4be318fd9ad25')"
   ]
  },
  {
   "cell_type": "code",
   "execution_count": 90,
   "id": "cb6390e8",
   "metadata": {
    "execution": {
     "iopub.execute_input": "2023-05-10T02:15:49.981700Z",
     "iopub.status.busy": "2023-05-10T02:15:49.981607Z",
     "iopub.status.idle": "2023-05-10T02:15:49.991296Z",
     "shell.execute_reply": "2023-05-10T02:15:49.991060Z"
    }
   },
   "outputs": [
    {
     "ename": "TypeError",
     "evalue": "first() missing 1 required positional argument: 'offset'",
     "output_type": "error",
     "traceback": [
      "\u001b[0;31m---------------------------------------------------------------------------\u001b[0m",
      "\u001b[0;31mTypeError\u001b[0m                                 Traceback (most recent call last)",
      "Cell \u001b[0;32mIn [90], line 3\u001b[0m\n\u001b[1;32m      1\u001b[0m \u001b[38;5;66;03m# 005be9532fd717dc36d4be318fd9ad25\u001b[39;00m\n\u001b[1;32m      2\u001b[0m groupby_id \u001b[38;5;241m=\u001b[39m unemployment_data\u001b[38;5;241m.\u001b[39mgroupby(\u001b[38;5;124m'\u001b[39m\u001b[38;5;124muu_id\u001b[39m\u001b[38;5;124m'\u001b[39m)\u001b[38;5;241m.\u001b[39mmedian()\n\u001b[0;32m----> 3\u001b[0m \u001b[43mgroupby_id\u001b[49m\u001b[38;5;241;43m.\u001b[39;49m\u001b[43mfirst\u001b[49m\u001b[43m(\u001b[49m\u001b[43m)\u001b[49m\n",
      "\u001b[0;31mTypeError\u001b[0m: first() missing 1 required positional argument: 'offset'"
     ]
    }
   ],
   "source": [
    "# 005be9532fd717dc36d4be318fd9ad25\n",
    "groupby_id = unemployment_data.groupby('uu_id').median()\n",
    "groupby_id.first()"
   ]
  },
  {
   "cell_type": "code",
   "execution_count": 91,
   "id": "7c84926c",
   "metadata": {
    "execution": {
     "iopub.execute_input": "2023-05-10T02:15:49.992698Z",
     "iopub.status.busy": "2023-05-10T02:15:49.992613Z",
     "iopub.status.idle": "2023-05-10T02:15:50.001926Z",
     "shell.execute_reply": "2023-05-10T02:15:50.001671Z"
    }
   },
   "outputs": [
    {
     "data": {
      "text/html": [
       "<div>\n",
       "<style scoped>\n",
       "    .dataframe tbody tr th:only-of-type {\n",
       "        vertical-align: middle;\n",
       "    }\n",
       "\n",
       "    .dataframe tbody tr th {\n",
       "        vertical-align: top;\n",
       "    }\n",
       "\n",
       "    .dataframe thead th {\n",
       "        text-align: right;\n",
       "    }\n",
       "</style>\n",
       "<table border=\"1\" class=\"dataframe\">\n",
       "  <thead>\n",
       "    <tr style=\"text-align: right;\">\n",
       "      <th></th>\n",
       "      <th>week_number</th>\n",
       "      <th>total_claims</th>\n",
       "      <th>edu_8th_or_less</th>\n",
       "      <th>edu_grades_9_11</th>\n",
       "      <th>edu_hs_grad_equiv</th>\n",
       "      <th>edu_post_hs</th>\n",
       "      <th>race_amerindian</th>\n",
       "      <th>race_asian</th>\n",
       "      <th>race_black</th>\n",
       "      <th>race_white</th>\n",
       "    </tr>\n",
       "    <tr>\n",
       "      <th>uu_id</th>\n",
       "      <th></th>\n",
       "      <th></th>\n",
       "      <th></th>\n",
       "      <th></th>\n",
       "      <th></th>\n",
       "      <th></th>\n",
       "      <th></th>\n",
       "      <th></th>\n",
       "      <th></th>\n",
       "      <th></th>\n",
       "    </tr>\n",
       "  </thead>\n",
       "  <tbody>\n",
       "    <tr>\n",
       "      <th>001cd9ae23064d7f0fd3cd327c873d8d</th>\n",
       "      <td>34.5</td>\n",
       "      <td>11.5</td>\n",
       "      <td>0.0</td>\n",
       "      <td>0.0</td>\n",
       "      <td>0.0</td>\n",
       "      <td>0.0</td>\n",
       "      <td>0.0</td>\n",
       "      <td>0.0</td>\n",
       "      <td>0.0</td>\n",
       "      <td>0.0</td>\n",
       "    </tr>\n",
       "    <tr>\n",
       "      <th>005be9532fd717dc36d4be318fd9ad25</th>\n",
       "      <td>24.0</td>\n",
       "      <td>19.0</td>\n",
       "      <td>0.0</td>\n",
       "      <td>0.0</td>\n",
       "      <td>0.0</td>\n",
       "      <td>0.0</td>\n",
       "      <td>0.0</td>\n",
       "      <td>0.0</td>\n",
       "      <td>0.0</td>\n",
       "      <td>11.0</td>\n",
       "    </tr>\n",
       "    <tr>\n",
       "      <th>007c1caccff1fbb3a0b8a10790f77141</th>\n",
       "      <td>15.5</td>\n",
       "      <td>12.0</td>\n",
       "      <td>0.0</td>\n",
       "      <td>0.0</td>\n",
       "      <td>0.0</td>\n",
       "      <td>0.0</td>\n",
       "      <td>0.0</td>\n",
       "      <td>0.0</td>\n",
       "      <td>0.0</td>\n",
       "      <td>10.0</td>\n",
       "    </tr>\n",
       "    <tr>\n",
       "      <th>009683350b175edfc6414d664e4ba873</th>\n",
       "      <td>14.0</td>\n",
       "      <td>17.0</td>\n",
       "      <td>0.0</td>\n",
       "      <td>0.0</td>\n",
       "      <td>0.0</td>\n",
       "      <td>0.0</td>\n",
       "      <td>0.0</td>\n",
       "      <td>0.0</td>\n",
       "      <td>0.0</td>\n",
       "      <td>0.0</td>\n",
       "    </tr>\n",
       "    <tr>\n",
       "      <th>00f962ce727b8dbbf20925abd5a253dd</th>\n",
       "      <td>19.0</td>\n",
       "      <td>35.0</td>\n",
       "      <td>0.0</td>\n",
       "      <td>0.0</td>\n",
       "      <td>18.0</td>\n",
       "      <td>0.0</td>\n",
       "      <td>0.0</td>\n",
       "      <td>0.0</td>\n",
       "      <td>25.0</td>\n",
       "      <td>0.0</td>\n",
       "    </tr>\n",
       "    <tr>\n",
       "      <th>...</th>\n",
       "      <td>...</td>\n",
       "      <td>...</td>\n",
       "      <td>...</td>\n",
       "      <td>...</td>\n",
       "      <td>...</td>\n",
       "      <td>...</td>\n",
       "      <td>...</td>\n",
       "      <td>...</td>\n",
       "      <td>...</td>\n",
       "      <td>...</td>\n",
       "    </tr>\n",
       "    <tr>\n",
       "      <th>fcf9f3effa992cfd552696e4ae7219b6</th>\n",
       "      <td>19.0</td>\n",
       "      <td>15.0</td>\n",
       "      <td>0.0</td>\n",
       "      <td>0.0</td>\n",
       "      <td>0.0</td>\n",
       "      <td>10.0</td>\n",
       "      <td>0.0</td>\n",
       "      <td>0.0</td>\n",
       "      <td>0.0</td>\n",
       "      <td>0.0</td>\n",
       "    </tr>\n",
       "    <tr>\n",
       "      <th>fcfc60d8240e5a51f878fd92e2a352a3</th>\n",
       "      <td>17.0</td>\n",
       "      <td>15.0</td>\n",
       "      <td>0.0</td>\n",
       "      <td>0.0</td>\n",
       "      <td>0.0</td>\n",
       "      <td>0.0</td>\n",
       "      <td>0.0</td>\n",
       "      <td>0.0</td>\n",
       "      <td>0.0</td>\n",
       "      <td>0.0</td>\n",
       "    </tr>\n",
       "    <tr>\n",
       "      <th>fd613eba867c6ad7350a937f743b88f2</th>\n",
       "      <td>17.0</td>\n",
       "      <td>18.0</td>\n",
       "      <td>0.0</td>\n",
       "      <td>0.0</td>\n",
       "      <td>0.0</td>\n",
       "      <td>0.0</td>\n",
       "      <td>0.0</td>\n",
       "      <td>0.0</td>\n",
       "      <td>0.0</td>\n",
       "      <td>0.0</td>\n",
       "    </tr>\n",
       "    <tr>\n",
       "      <th>fe355ff27aa8b2242a558d5e3ec99c18</th>\n",
       "      <td>16.5</td>\n",
       "      <td>13.0</td>\n",
       "      <td>0.0</td>\n",
       "      <td>0.0</td>\n",
       "      <td>0.0</td>\n",
       "      <td>0.0</td>\n",
       "      <td>0.0</td>\n",
       "      <td>0.0</td>\n",
       "      <td>0.0</td>\n",
       "      <td>0.0</td>\n",
       "    </tr>\n",
       "    <tr>\n",
       "      <th>fec479d0202d6e1e3f051a9ee902ff5d</th>\n",
       "      <td>19.0</td>\n",
       "      <td>28.0</td>\n",
       "      <td>0.0</td>\n",
       "      <td>0.0</td>\n",
       "      <td>0.0</td>\n",
       "      <td>11.0</td>\n",
       "      <td>0.0</td>\n",
       "      <td>0.0</td>\n",
       "      <td>0.0</td>\n",
       "      <td>20.0</td>\n",
       "    </tr>\n",
       "  </tbody>\n",
       "</table>\n",
       "<p>525 rows × 10 columns</p>\n",
       "</div>"
      ],
      "text/plain": [
       "                                  week_number  total_claims  edu_8th_or_less  \\\n",
       "uu_id                                                                          \n",
       "001cd9ae23064d7f0fd3cd327c873d8d         34.5          11.5              0.0   \n",
       "005be9532fd717dc36d4be318fd9ad25         24.0          19.0              0.0   \n",
       "007c1caccff1fbb3a0b8a10790f77141         15.5          12.0              0.0   \n",
       "009683350b175edfc6414d664e4ba873         14.0          17.0              0.0   \n",
       "00f962ce727b8dbbf20925abd5a253dd         19.0          35.0              0.0   \n",
       "...                                       ...           ...              ...   \n",
       "fcf9f3effa992cfd552696e4ae7219b6         19.0          15.0              0.0   \n",
       "fcfc60d8240e5a51f878fd92e2a352a3         17.0          15.0              0.0   \n",
       "fd613eba867c6ad7350a937f743b88f2         17.0          18.0              0.0   \n",
       "fe355ff27aa8b2242a558d5e3ec99c18         16.5          13.0              0.0   \n",
       "fec479d0202d6e1e3f051a9ee902ff5d         19.0          28.0              0.0   \n",
       "\n",
       "                                  edu_grades_9_11  edu_hs_grad_equiv  \\\n",
       "uu_id                                                                  \n",
       "001cd9ae23064d7f0fd3cd327c873d8d              0.0                0.0   \n",
       "005be9532fd717dc36d4be318fd9ad25              0.0                0.0   \n",
       "007c1caccff1fbb3a0b8a10790f77141              0.0                0.0   \n",
       "009683350b175edfc6414d664e4ba873              0.0                0.0   \n",
       "00f962ce727b8dbbf20925abd5a253dd              0.0               18.0   \n",
       "...                                           ...                ...   \n",
       "fcf9f3effa992cfd552696e4ae7219b6              0.0                0.0   \n",
       "fcfc60d8240e5a51f878fd92e2a352a3              0.0                0.0   \n",
       "fd613eba867c6ad7350a937f743b88f2              0.0                0.0   \n",
       "fe355ff27aa8b2242a558d5e3ec99c18              0.0                0.0   \n",
       "fec479d0202d6e1e3f051a9ee902ff5d              0.0                0.0   \n",
       "\n",
       "                                  edu_post_hs  race_amerindian  race_asian  \\\n",
       "uu_id                                                                        \n",
       "001cd9ae23064d7f0fd3cd327c873d8d          0.0              0.0         0.0   \n",
       "005be9532fd717dc36d4be318fd9ad25          0.0              0.0         0.0   \n",
       "007c1caccff1fbb3a0b8a10790f77141          0.0              0.0         0.0   \n",
       "009683350b175edfc6414d664e4ba873          0.0              0.0         0.0   \n",
       "00f962ce727b8dbbf20925abd5a253dd          0.0              0.0         0.0   \n",
       "...                                       ...              ...         ...   \n",
       "fcf9f3effa992cfd552696e4ae7219b6         10.0              0.0         0.0   \n",
       "fcfc60d8240e5a51f878fd92e2a352a3          0.0              0.0         0.0   \n",
       "fd613eba867c6ad7350a937f743b88f2          0.0              0.0         0.0   \n",
       "fe355ff27aa8b2242a558d5e3ec99c18          0.0              0.0         0.0   \n",
       "fec479d0202d6e1e3f051a9ee902ff5d         11.0              0.0         0.0   \n",
       "\n",
       "                                  race_black  race_white  \n",
       "uu_id                                                     \n",
       "001cd9ae23064d7f0fd3cd327c873d8d         0.0         0.0  \n",
       "005be9532fd717dc36d4be318fd9ad25         0.0        11.0  \n",
       "007c1caccff1fbb3a0b8a10790f77141         0.0        10.0  \n",
       "009683350b175edfc6414d664e4ba873         0.0         0.0  \n",
       "00f962ce727b8dbbf20925abd5a253dd        25.0         0.0  \n",
       "...                                      ...         ...  \n",
       "fcf9f3effa992cfd552696e4ae7219b6         0.0         0.0  \n",
       "fcfc60d8240e5a51f878fd92e2a352a3         0.0         0.0  \n",
       "fd613eba867c6ad7350a937f743b88f2         0.0         0.0  \n",
       "fe355ff27aa8b2242a558d5e3ec99c18         0.0         0.0  \n",
       "fec479d0202d6e1e3f051a9ee902ff5d         0.0        20.0  \n",
       "\n",
       "[525 rows x 10 columns]"
      ]
     },
     "execution_count": 91,
     "metadata": {},
     "output_type": "execute_result"
    }
   ],
   "source": [
    "# 005be9532fd717dc36d4be318fd9ad25\n",
    "groupby_id = unemployment_data.groupby('uu_id').median()\n",
    "groupby_id"
   ]
  },
  {
   "cell_type": "code",
   "execution_count": 92,
   "id": "22362b00",
   "metadata": {
    "execution": {
     "iopub.execute_input": "2023-05-10T02:15:50.003317Z",
     "iopub.status.busy": "2023-05-10T02:15:50.003236Z",
     "iopub.status.idle": "2023-05-10T02:15:50.009043Z",
     "shell.execute_reply": "2023-05-10T02:15:50.008819Z"
    }
   },
   "outputs": [
    {
     "data": {
      "text/plain": [
       "uu_id\n",
       "001cd9ae23064d7f0fd3cd327c873d8d    11.5\n",
       "005be9532fd717dc36d4be318fd9ad25    19.0\n",
       "007c1caccff1fbb3a0b8a10790f77141    12.0\n",
       "009683350b175edfc6414d664e4ba873    17.0\n",
       "00f962ce727b8dbbf20925abd5a253dd    35.0\n",
       "                                    ... \n",
       "fcf9f3effa992cfd552696e4ae7219b6    15.0\n",
       "fcfc60d8240e5a51f878fd92e2a352a3    15.0\n",
       "fd613eba867c6ad7350a937f743b88f2    18.0\n",
       "fe355ff27aa8b2242a558d5e3ec99c18    13.0\n",
       "fec479d0202d6e1e3f051a9ee902ff5d    28.0\n",
       "Name: total_claims, Length: 525, dtype: Float64"
      ]
     },
     "execution_count": 92,
     "metadata": {},
     "output_type": "execute_result"
    }
   ],
   "source": [
    "# 005be9532fd717dc36d4be318fd9ad25\n",
    "groupby_id = unemployment_data.groupby('uu_id').median()\n",
    "groupby_id.total_claims"
   ]
  },
  {
   "cell_type": "code",
   "execution_count": 93,
   "id": "e2546433",
   "metadata": {
    "execution": {
     "iopub.execute_input": "2023-05-10T02:15:50.010392Z",
     "iopub.status.busy": "2023-05-10T02:15:50.010305Z",
     "iopub.status.idle": "2023-05-10T02:15:50.016218Z",
     "shell.execute_reply": "2023-05-10T02:15:50.015962Z"
    }
   },
   "outputs": [
    {
     "data": {
      "text/plain": [
       "uu_id\n",
       "001cd9ae23064d7f0fd3cd327c873d8d    11.5\n",
       "005be9532fd717dc36d4be318fd9ad25    19.0\n",
       "007c1caccff1fbb3a0b8a10790f77141    12.0\n",
       "009683350b175edfc6414d664e4ba873    17.0\n",
       "00f962ce727b8dbbf20925abd5a253dd    35.0\n",
       "                                    ... \n",
       "fcf9f3effa992cfd552696e4ae7219b6    15.0\n",
       "fcfc60d8240e5a51f878fd92e2a352a3    15.0\n",
       "fd613eba867c6ad7350a937f743b88f2    18.0\n",
       "fe355ff27aa8b2242a558d5e3ec99c18    13.0\n",
       "fec479d0202d6e1e3f051a9ee902ff5d    28.0\n",
       "Name: total_claims, Length: 525, dtype: Float64"
      ]
     },
     "execution_count": 93,
     "metadata": {},
     "output_type": "execute_result"
    }
   ],
   "source": [
    "# 005be9532fd717dc36d4be318fd9ad25\n",
    "groupby_id = unemployment_data.groupby('uu_id').median().total_claims\n",
    "groupby_id"
   ]
  },
  {
   "cell_type": "code",
   "execution_count": 94,
   "id": "3ef1dbbc",
   "metadata": {
    "execution": {
     "iopub.execute_input": "2023-05-10T02:15:50.017619Z",
     "iopub.status.busy": "2023-05-10T02:15:50.017534Z",
     "iopub.status.idle": "2023-05-10T02:15:50.026638Z",
     "shell.execute_reply": "2023-05-10T02:15:50.026390Z"
    }
   },
   "outputs": [
    {
     "data": {
      "text/plain": [
       "{'001cd9ae23064d7f0fd3cd327c873d8d': 11.5,\n",
       " '005be9532fd717dc36d4be318fd9ad25': 19.0,\n",
       " '007c1caccff1fbb3a0b8a10790f77141': 12.0,\n",
       " '009683350b175edfc6414d664e4ba873': 17.0,\n",
       " '00f962ce727b8dbbf20925abd5a253dd': 35.0,\n",
       " '02a7b845ab6b3fc2c09a50cdc486db2a': 23.0,\n",
       " '03ba3a9a63be1a5423457246f2846292': 18.0,\n",
       " '050a624d618a68e43fe31189909c644f': 19.0,\n",
       " '05298117cbe0fd69f04f89c83aaac091': 15.0,\n",
       " '05f47cc80d60a67d61e891e2b90c2045': 14.0,\n",
       " '06c78e49b4daedfeb808c42e58fb25e4': 15.5,\n",
       " '06e492b4f29d153af26c659d1f7da2a1': 15.5,\n",
       " '07306ce64b3496b7955efaaf7509d73c': 13.5,\n",
       " '074f501122885ab9aef5e9d07004209d': 16.5,\n",
       " '09fbf26479f644ad33186ec51a90d65d': 16.0,\n",
       " '0abaea6bbc30d7cf8dbacc64727e7091': 14.0,\n",
       " '0ad94f09274e2c9cb0ef5cb77eb334b4': 51.0,\n",
       " '0aed17ab54d56c6651d331418e8db6be': 13.0,\n",
       " '0bdc0df962a3c10541c2aa5220ded58b': 13.0,\n",
       " '0d165590afad07ce71727d690f4aad80': 17.0,\n",
       " '0dc217a2798a141c59b99f5bcff29fa9': 12.5,\n",
       " '0e6523fb3fc17f6a2ac7050972bd4bfd': 13.5,\n",
       " '0eadc4f22396980ecc2e7878ffbaf14a': 15.0,\n",
       " '0f3d45341a5b113b813ffb7be7f58bab': 15.5,\n",
       " '10bd992d086c48a05cb0f1e3df1e20f1': 19.5,\n",
       " '10f34862aa77995d009553a1de67db4f': 12.0,\n",
       " '11a50500827cd49f0ae130201184724f': 13.0,\n",
       " '124fe6d04692c372ffc4f84fc99f480d': 20.0,\n",
       " '12fbd01c7d92945acd93e0d44a8bed88': 16.0,\n",
       " '13b7d682e844ec03d93ed9b77e08e022': 12.0,\n",
       " '1400fd6122c6fe7582a30ee1280beb4b': 18.0,\n",
       " '142aacf840a655687cc387024c43dada': 16.0,\n",
       " '147837d751cb44500754e9620204f8d6': 27.0,\n",
       " '14ceb8012cb1b912044297c8933cfcfc': 22.0,\n",
       " '15118b0768fba87d2ac7770249b5fb36': 14.5,\n",
       " '152a373901a20ade58dc56c1f6ef9b96': 20.0,\n",
       " '16b7c822c473ad7ae97c31f156448fd1': 15.0,\n",
       " '16b9d35c6d253c30527eb2de8d2d1bb9': 13.0,\n",
       " '179a3fb4630992ff1f9112970d61f00f': 14.0,\n",
       " '17eb58bb239f3bad95a6cac384c3db8f': 17.0,\n",
       " '17f8641c080bd91fd39d6767f211beb1': 17.0,\n",
       " '184e8a1febbf737c9865b40ac43d92ee': 13.0,\n",
       " '18792af8852f8d0c77371eb582a87ef9': 21.0,\n",
       " '1901b891f05515a8c22c05ef58baba38': 15.0,\n",
       " '196c37e49c98e0b8cdd142c001431a7a': 16.0,\n",
       " '1988578e35b2d1211f45cee910250ca6': 25.0,\n",
       " '19c0ba2728a6971ff9c1301f3bf17f59': 12.0,\n",
       " '1a37add233259107b266614f22bffd9b': 12.0,\n",
       " '1b7425c1ee8dc2465ef939286316744c': 23.0,\n",
       " '1ba8e8f6caf333a10ab33d1add51b960': 17.5,\n",
       " '1baabe619d226c9e7f1ef756fb41432b': 17.0,\n",
       " '1bd2241076381b8c9e85d660512a013e': 12.5,\n",
       " '1deebda501712e7595b531b8337bc31a': 13.0,\n",
       " '1e86730cef0c1021f0048c175fc96184': 17.5,\n",
       " '1ec881fbb0021331b2b29c95049284fb': 33.0,\n",
       " '1f24014b092a7ba6a1faaac5edaac47b': 16.0,\n",
       " '1f53903c302f96fd0e8a36d02364bbca': 20.0,\n",
       " '1f74f4cecfe9b89fd0350fc0995e8362': 11.5,\n",
       " '1fc50fb37c0734d85581fe5e605fe7c5': 33.0,\n",
       " '1fe978b588e12780393047c4294e4c8a': 12.0,\n",
       " '2094eb904cf826728093f0e2713d2e30': 13.5,\n",
       " '20db450280ec6846d7a829a6ba40ccac': 22.0,\n",
       " '20f6fd3e9f0d1f997481861655cad7e4': 20.0,\n",
       " '21957d5517323845818d87623589e1ba': 22.0,\n",
       " '221c00f760916b30c2df9eff2bc6dc25': 13.0,\n",
       " '241f741bee0eb0ce595304d106811776': 14.0,\n",
       " '2420ca4ef50459c0bcc8fdeb8ee35a68': 15.0,\n",
       " '2456c31231ec5a6931f78f305668d39a': 16.0,\n",
       " '248b6a72aba270fd9794b41f53813d5e': 12.0,\n",
       " '24c8b349877e075f8d1b3b4e73dd4a53': 17.5,\n",
       " '24f871b664684c15caad90bc237ff40d': 14.0,\n",
       " '258c76c5552e3c876c3e24e9658c0205': 24.0,\n",
       " '25a57fe39e03c632125308737a7d3769': 22.0,\n",
       " '25f9cfb8488ebf12f28e2bf44754984d': 21.0,\n",
       " '2686710e45843273cb902096aee8d8ab': 17.0,\n",
       " '26c71b31d464bc7bedc8aed7e5c6e641': 24.0,\n",
       " '2788f24947b2fc8fcc0ded4a4403d9ff': 13.0,\n",
       " '27a707c98b1a2316dd00df2309a628c4': 23.0,\n",
       " '2835004b63bf80d6929a55a6d14842e1': 18.0,\n",
       " '2a0f380e277560b810399f7c6a01e76e': 30.0,\n",
       " '2a62116efd5f9a6da7b4ce2803eba96d': 17.0,\n",
       " '2a7f196a773a4dce36a9f57828d1104f': 33.0,\n",
       " '2abe33dadcdb70181a2f693df31247a7': 16.0,\n",
       " '2af35a38ee1416c5532a5e35425ecbb8': 17.0,\n",
       " '2b4f94600254e0f271c110161e841358': 27.0,\n",
       " '2b6b2f2e6d3340e7d9ae46cd41eaef1b': 12.0,\n",
       " '2ce8c1fbabbed69343d1af45e99c4839': 14.5,\n",
       " '2d19305e3ee06c83f1247ddda5c70d57': 19.0,\n",
       " '2db2c67aed99c51c9d00d01f14030608': 17.0,\n",
       " '2ddb832dc6e28aba32224f559c5f0b63': 13.0,\n",
       " '2dedb86602589ad3cf8a09380ce032d1': 18.0,\n",
       " '2e6f7ee3f6f1ea9096625cbcb38e54cd': 15.0,\n",
       " '3098ba7b30da9acf99e1d491a22e01e5': 19.0,\n",
       " '318f8580dab148310f87b072fd9f6c9f': 17.5,\n",
       " '3193b3205553224c47be06622d7b044d': 15.0,\n",
       " '3224483a60925de51923d51b10a00141': 15.0,\n",
       " '32686c399e21429791a419c0146217c9': 32.0,\n",
       " '32ce6ba7f7da17932e0e3c53f69f366b': 14.0,\n",
       " '33c4302fb88e93ea520a346fe2853209': 44.0,\n",
       " '33eee76748953453ca6ea4ba51515157': 15.5,\n",
       " '33f8f477e670b3cac704f4c0faa6e318': 13.5,\n",
       " '348c852abba65f89cd8af9395d6069d8': 17.0,\n",
       " '34ace0fda1bd8217d5cd6928f682a2c7': 13.0,\n",
       " '34e6adeedc3b344eb183a0b5e8b4b774': 38.0,\n",
       " '358cb073759d71d8abe8d6eaf7a3ead5': 23.0,\n",
       " '35ada71743cfb77aca10c389e36caa28': 15.0,\n",
       " '3611ab4b321d4532f1f18b13d1fd3b93': 16.0,\n",
       " '36c489a05d6a987ff961fdc67ccadbc1': 14.0,\n",
       " '370a5fb730297d91eb3443d50582515e': 18.5,\n",
       " '37495d17e82f7df326bfc2c4c090f7b7': 22.0,\n",
       " '38e264ca88c300dc19938de0abc88ec4': 13.0,\n",
       " '3934b01a1e31d0a6af96867e1afbf03c': 15.0,\n",
       " '395702b93c95499f70d36073ba97df97': 16.5,\n",
       " '39a100d6d185266c9a61f621e3461ca9': 14.0,\n",
       " '3a40f9f36533037a0dc9f426b87bf8d5': 31.0,\n",
       " '3a6f00be69a3da3b1cacfd1019865c0c': 14.0,\n",
       " '3aa0a81e436042726e3913394182a6eb': 15.0,\n",
       " '3ac19461ea7efd6c892f9aba99ca55cd': 16.0,\n",
       " '3b64b154b842527478b03e19c11e300b': 14.0,\n",
       " '3c887b182d660a9a6b874c5f9b4f3f61': 36.5,\n",
       " '3d5c4d633d7c5171d91cc9a073eceb3a': 21.0,\n",
       " '3eaeeb015822cc1c6b77c914fae0d087': 18.0,\n",
       " '3ebec5c7e13f05f1772dae73f3a1f5e0': 18.0,\n",
       " '3f20a7038f07e774663e01dea8a04cd0': 12.5,\n",
       " '3fafd824892198e078c4dfcd6a26d7cf': 27.0,\n",
       " '4084f9199d73deb5cf6dd200a5db1c80': 20.0,\n",
       " '420b44cc7e3f55d738df565421e59941': 13.0,\n",
       " '4258714000b9209afeb28e3032d8873d': 21.0,\n",
       " '42606376eba36d3065753ab0013f4c14': 17.0,\n",
       " '42dec75b5a3b02de7908789cc6649e6d': 27.0,\n",
       " '4338a76c28b57d89da8a28cf06adcf73': 19.0,\n",
       " '4368ac6502dd50bc209781d0d0f660f4': 15.0,\n",
       " '437523120b5bcbb4f6f5502c8216f2d0': 12.0,\n",
       " '441519fbb02b948549a2593f0c6a8211': 25.0,\n",
       " '442a1b8f964352b0845991efdfe0a83a': 14.0,\n",
       " '44585653fcc97ff048845c7718889631': 13.0,\n",
       " '445ccda085809824099ff41f0ed427e5': 35.0,\n",
       " '44610534f2a03a72609764f95834c7f8': 15.0,\n",
       " '447d5984bb8a8179bff002ccd1bba162': 15.0,\n",
       " '451262a076827ead70bf9e87ef6d4840': 22.0,\n",
       " '45c8cf419dd4c4b442dbf3603ba94379': 17.5,\n",
       " '461637d0edf7d72b7ca711e7b019553e': 24.0,\n",
       " '461f4a6d476cf7257e9b4ab8b9371885': 17.0,\n",
       " '46b2882ec4c373527ec33f7bd4f1388d': 32.5,\n",
       " '46c4f6c75e663b1ca82ea7994e6d83d3': 19.0,\n",
       " '46c92d587470f0bc73b7474ac0fd41ca': 17.0,\n",
       " '46e96d9a3529a65f56d9e6a8dd33fc87': 16.0,\n",
       " '471301a66d4c4feb1f474cf934be8999': 17.0,\n",
       " '4765514a954c2fc3eb7c1993662e60e9': 14.0,\n",
       " '47ef7e3c1efab409502a8e4c675654f6': 12.0,\n",
       " '47f0290645712229fd4f8f1fe7dc6b05': 15.0,\n",
       " '481b365a771dc6d05bcfa5e38cf33731': 17.0,\n",
       " '4869240f378dd59f04a0a083c0fe6c03': 31.0,\n",
       " '48752f9ac7c72819e56bcccceefee7a6': 17.0,\n",
       " '489a93264d03adecc4589fd9cd34ad36': 12.0,\n",
       " '48ac5846d8d781fd5b7c6a863a572359': 20.0,\n",
       " '48d1b41c0e356998f9f60ea534f1326f': 18.0,\n",
       " '4988189262a81dbef85220422f5277fd': 14.0,\n",
       " '4a22571b2563761671604973ba849ef5': 23.0,\n",
       " '4a6ae3b5be1b9b7c10c177e1b9fded82': 14.0,\n",
       " '4b64982fb643e7eee44ce1ef8929cb44': 17.5,\n",
       " '4c612ffd5f49d054536c369580b91474': 27.0,\n",
       " '4ca0a1c6a388982e4526ff6843825010': 36.0,\n",
       " '4cf5a6ca5bc512af4d9c656eaeb4d279': 24.0,\n",
       " '4da27496ea51392169807ce30edde6bf': 17.0,\n",
       " '4e47a34030916597b6293593de5016a2': 24.0,\n",
       " '4ed4b67acaf7b9c4d039e01d9d8c4b6a': 14.0,\n",
       " '4f38233021d41195c29f0a206e75a77e': 13.5,\n",
       " '4fcf06b3645f8cb516215da638ce5f7f': 16.0,\n",
       " '50088293eaca82f8c05e74c7aa38733f': 19.5,\n",
       " '50247c509e6c47b550a516f66e35c1d1': 21.0,\n",
       " '5091d0be49e94dc89756d9b0dd743214': 33.0,\n",
       " '516a760c644c21ff41a8cd20b6fb73bf': 33.0,\n",
       " '51a955afdcc0c4de1b57a881226925c0': 17.0,\n",
       " '51af2e559924bc5ac87f549c8779ba37': 16.0,\n",
       " '52341b7215e0fb673d35b8a9638eeecf': 30.0,\n",
       " '52f393e27a5d94231575ab9bfa341bcf': 24.0,\n",
       " '53405bf66812a9f2623a307de572c11e': 30.0,\n",
       " '5530c743ed9acfbd5d9ce30aa9b5a394': 14.0,\n",
       " '55b3a08bb5ac8ee0f151cd2f7440f246': 23.0,\n",
       " '56851c8621607ae081c4e5bfc667057d': 19.5,\n",
       " '56d73815bdda97aca8e26051183ed3ba': 17.0,\n",
       " '5744a323eb20d22fbe14f2913989cb86': 17.0,\n",
       " '574ff76bf046909190b36c41ec5ad4ad': 24.0,\n",
       " '58313733000358ab97030c3688616a8b': 21.0,\n",
       " '5846c7b267dc6e4b00863277e3582f80': 15.0,\n",
       " '585f8731c2255d6b3f817a31180848b9': 18.0,\n",
       " '58c85b68415bc08c49b2a430cee9f2f9': 20.5,\n",
       " '592a852d462dffe18312976a3da5b7d8': 15.0,\n",
       " '592f2bae77a77f0721533ce7f3926d64': 18.0,\n",
       " '5977eb9301db6dd318dcf44eee64439c': 17.0,\n",
       " '5a2c726a9af1492d08478394a7938cc8': 16.0,\n",
       " '5a9758f65f001b6432ff31ff64a459d7': 14.0,\n",
       " '5aef70478b1bb50e1207bb1864a03ab0': 16.5,\n",
       " '5b266c11201654ddb90d1a80cf294645': 15.0,\n",
       " '5b5f642bf566e944c9bdac9840bf1e81': 16.0,\n",
       " '5b8dd5be2b1e709f1cde61ab9438a8cb': 18.0,\n",
       " '5ba7caaa7b10591d00eec45bf939284c': 15.0,\n",
       " '5bf51fc2e162d6faf9e3cf79e4198378': 16.5,\n",
       " '5c034ab90d217bb1b993b22daaf1c27e': 14.0,\n",
       " '5c04f20bd2f8552aa7ac210dc01292fb': 24.0,\n",
       " '5c16723691805b4b6a90bce32128b6c9': 16.0,\n",
       " '5c43cbf8f0d860e91a9160706ea9b7d8': 15.0,\n",
       " '5c79d376ac31aa05924b3adaf6460644': 14.0,\n",
       " '5db93f554d0a9df617e6e51043049dc4': 19.0,\n",
       " '5e819ecea31bac6db64c0ccf48818fa8': 30.0,\n",
       " '5e9480dba0f8de932f4d9fb55fa6b8b1': 15.0,\n",
       " '5f7f03a3797bb112aaadac83bc654303': 16.0,\n",
       " '5f9844eb68630b75decbafdfa4974943': 30.0,\n",
       " '5fe0dbe328785bc4e6bfe3b5609cf17d': 16.0,\n",
       " '601ff2c0fd709298f6644ad0e766b2d6': 16.0,\n",
       " '60946318ef5818fdfd1e931128ef391a': 14.0,\n",
       " '6167d550c0cdd68c799d372c5df97acb': 14.0,\n",
       " '618bd975f55a022bd54daf828c1f7ce5': 33.0,\n",
       " '6239669cbfe444abd0a46536a670d150': 15.5,\n",
       " '627f0516c61e02f14a399ff99aaf141c': 20.0,\n",
       " '639c126e54c9418b800800b6626d118e': 17.5,\n",
       " '63b65e67206ef8201d3df16a8fc518b7': 20.5,\n",
       " '63cf0d83a2d02d554965073e71e93e08': 27.0,\n",
       " '63fc3e82740fcc3de0e5cf76fb4f96fe': 15.0,\n",
       " '6505dba31a2e5fa96251a7ba5d2fc1a0': 15.0,\n",
       " '65c933853ba6f9ad80097936c2924aa6': 10.5,\n",
       " '65f24aac652de33abaf3f227b41e2641': 13.0,\n",
       " '663b0660c9f85a475e5b7ce499dc48a3': 20.5,\n",
       " '6657c9871fa2f67cd168e6f94354060e': 19.0,\n",
       " '666c7361f0603c0cb4b783beddb796d8': 13.5,\n",
       " '66d134a595bd52251321d496ae2f4e0b': 16.0,\n",
       " '67407bf95ef751acc3accd630226b53d': 25.0,\n",
       " '676fffaaecefffe4ce93ca264c5c3c36': 11.0,\n",
       " '67bbd99237964244c2ad3d0531394291': 23.0,\n",
       " '6803d35ef14c26cc19b7d9dacaa80672': 23.0,\n",
       " '68153b89651358b0e4dab495d4feb3e9': 16.0,\n",
       " '6877b5946ab2ee471e4c546252057f29': 32.0,\n",
       " '68e5bdd9fde563b534c8a38dfddb6146': 23.0,\n",
       " '69274b987d26fbed84eb7d2b157badb6': 12.5,\n",
       " '695e104bd84215f8226793190ee20baf': 17.0,\n",
       " '6a5609f385912113b6f1014b958ed748': 17.0,\n",
       " '6ac331ecae4b7e4dd2750893612331f9': 19.0,\n",
       " '6b22ecccaddde4516a88c6981373daf3': 11.0,\n",
       " '6b778af080e42bb4b461bbc4ed1b666c': 28.0,\n",
       " '6bc590ccd895d32877228c363a07d90f': 19.0,\n",
       " '6bdcabb0a40d03f8901d1d0e4a5124dc': 17.0,\n",
       " '6c1ad176e4007cf241439f6113a927ca': 16.0,\n",
       " '6c316cb2fc150a2f9fd50925926fc1f8': 20.0,\n",
       " '6cd923e2eebf6dbd10f781e8a35e4a99': 13.5,\n",
       " '6d4dc6590c52c9b265d5003bf90ddbbb': 13.5,\n",
       " '6e585a6e6fc9cd621d7f73b92c292214': 28.0,\n",
       " '6f483941cceef95c97d28b4f904a0d57': 17.5,\n",
       " '6fbb60a508283bc1fb30c13ac419941a': 12.0,\n",
       " '70077360c4805acada195b59cbbe1c78': 16.0,\n",
       " '7322dfe92403d20403f7a527ba733641': 12.5,\n",
       " '733d0fa66aa7cad3330acffe30d6dc17': 18.0,\n",
       " '747f8bc2b0c8c0a04d29caa4cfe327d2': 11.5,\n",
       " '74c5fdc6aac736fa7cf9b5d45c501a03': 18.0,\n",
       " '75db3baff27b92ecda8651b35117d356': 22.0,\n",
       " '772f54511e2ccdad04e4fc903bbd19cc': 14.0,\n",
       " '778946d9696cd6c95f57e8b1e6336389': 15.5,\n",
       " '7953cef088684d6a82637fe6a9e7e7a8': 34.0,\n",
       " '7a3c45dff186e7416bc95abd6668f65b': 16.0,\n",
       " '7aad2bd27761397960e7f2e139ad0b9e': 14.0,\n",
       " '7ab86f26bdf5e743b0f0adf08df559e3': 15.0,\n",
       " '7b1f33221592c5bc981035ecfcd359f9': 19.5,\n",
       " '7b208b710114a393f20ec464c7849157': 28.0,\n",
       " '7b4b81e3e66af9462dc475aa2e7427a1': 23.0,\n",
       " '7b67eb2512a721025efe5cb967a38aff': 13.0,\n",
       " '7bff91298a7f07d1cdcc7cb13c49eb41': 21.0,\n",
       " '7c570ea23642d08f4e1dac443dfca6c0': 30.0,\n",
       " '7c8e4a2171c253411138d6e3a4399620': 20.0,\n",
       " '7cf24c78c601ab6a16ab1607a5426d29': 13.5,\n",
       " '7dd5fff353cd08adc694aa74d7fa31af': 14.0,\n",
       " '7df3e38fbdab0a32ca0fa9fb6c8bd8c4': 14.0,\n",
       " '7e1a4171a3a5fdf83696d9179174d4cd': 16.0,\n",
       " '7e2478517261a19d87c0ab2e737fb25f': 20.0,\n",
       " '7e3e3d2f2f2b4f20fa63c425271e08e4': 25.0,\n",
       " '7ee27423441d3bced123afcec6335da8': 18.0,\n",
       " '7eeae8c98cf4678be80f35a01f25fe6c': 20.0,\n",
       " '7f9c903be0e820137bd63ee9e9a97af8': 17.0,\n",
       " '81594c0c7e4ef4c4cdbb7133d01cb361': 21.0,\n",
       " '8236e0d2df83f079ad33ff54ad4e518b': 17.0,\n",
       " '8267c703abd7db102110ec19c18ae372': 18.0,\n",
       " '82b9ea58ff3d04a35df8deba80644a0e': 15.0,\n",
       " '842c96eacb965c2a1c0cbd6e51a7f741': 17.0,\n",
       " '85093fc593ca8c7bc3d9f86346c0c830': 15.0,\n",
       " '862f88264e4bdb239089465784dbe203': 16.0,\n",
       " '8932b66a9b94dcf03c942facc50ff401': 28.0,\n",
       " '89399fcb71863c561d2a2703d8bd4a15': 20.0,\n",
       " '89ca758dd8e4958d6e8e32ccb439c638': 18.5,\n",
       " '8ac85c3e00e200910bf73b909d6f970b': 18.5,\n",
       " '8b20a6749088c7ff1237983076ebfeaa': 12.0,\n",
       " '8b3b762a9010e36e084aae4c305d1b06': 17.0,\n",
       " '8b737a167ef2e623abed4c4243ed8b8d': 21.0,\n",
       " '8baa08eb0d7462333382e51f72737b14': 19.0,\n",
       " '8c9d2aa90948679972a9382aadcc6001': 16.0,\n",
       " '8cc5579ada546380bcf2663e0692e520': 12.0,\n",
       " '8ce569bbea13d8c92615e2cff87dcb0d': 16.5,\n",
       " '8d4837b174344462ac0acf31aced69e2': 16.0,\n",
       " '8d7022c454fc05456cfb4b9cadf5f109': 20.0,\n",
       " '8dad735d80cf4a1768bbf15c68e3afa7': 14.0,\n",
       " '8ed377ac3767ffda176fcdea40bcd7e4': 20.5,\n",
       " '8eef3f1453830d1939aae4e774e87c53': 21.0,\n",
       " '8f782a6153268c6031e31784e2d4eae2': 20.0,\n",
       " '9059885d1cfb186d078f691eafd6a24d': 14.0,\n",
       " '9067053e8719d5cd878ba6351d817310': 22.0,\n",
       " '91ec70e2da02ad3cb9ae962a7452be48': 14.0,\n",
       " '9200a2b83d869882f514fa76e6bcd05c': 18.0,\n",
       " '931e7312a52b294244e6e05d33134c1e': 30.0,\n",
       " '932a58530abff8a48558e2a15639d453': 22.0,\n",
       " '939e1edba462129ca3442d7e80e3a6df': 21.5,\n",
       " '93c603c6ec0389076b9f852f9250a231': 24.0,\n",
       " '94cfe2eeb9088207be40c491c2b8524e': 18.5,\n",
       " '94f1f3cc229ef12ee0659de4ab3b4e94': 19.0,\n",
       " '953e68b130eaa59a171dc28d594d5303': 11.0,\n",
       " '96b3d9311ce32f929ecc8f989d9656e2': 20.5,\n",
       " '9748c8d4f8762b4636a18fc95cb596a4': 19.0,\n",
       " '97e5bdffc50e369922a89c3946a92e44': 26.0,\n",
       " '983badfd7b568728e39a2344a9006078': 15.0,\n",
       " '984ffa38c6fdcecc2b57bbcadee3f81f': 14.0,\n",
       " '9883a286690ddb549fd39aff729f83ee': 19.0,\n",
       " '98c85fec4b8bf095a732ab363e0b2ff3': 17.0,\n",
       " '98e63567a2f4907c9cb2637247651530': 18.5,\n",
       " '99b418342eb86b3aba7061fb1b7584a8': 28.0,\n",
       " '99c1cb11273b064dc48649886138eb8e': 11.0,\n",
       " '99c75ff0ed83b04f57a0f99dfc1b05b2': 14.0,\n",
       " '99fc3cb44cdaf10cc69506d7c92b6466': 20.5,\n",
       " '9a890bcd3def2cd1ad8270f81fe8adaf': 29.0,\n",
       " '9a8d8797ae3765b4ca946803c38b8ea6': 17.0,\n",
       " '9b461ff4ed0094dc132cb01b2e1db9ba': 15.5,\n",
       " '9c62c3bead53d866799d5195059566e6': 14.5,\n",
       " '9c7e7feff195285d5b7a47369b68bc4e': 12.0,\n",
       " '9d137c34d4598e4f67aac16df77037e0': 27.0,\n",
       " '9dd9614f2619fd1b8397cabdb3f2248a': 16.0,\n",
       " '9e943f3dccee65ed33733a794a4d030e': 23.0,\n",
       " '9ee08e65a6fc00045b2c609903e65603': 16.0,\n",
       " 'a01b6cfa3022893470d884ca2534202c': 24.0,\n",
       " 'a01d4790949ed9261a56c55a5eb2c239': 20.0,\n",
       " 'a04177f6fbc3ba8065f2681089a0fad7': 14.0,\n",
       " 'a086a7bd8569dff6d9c4fe7db247e86d': 13.0,\n",
       " 'a0875049afbd1cb4735e07c03fb8baae': 18.0,\n",
       " 'a0c62bdce75bc5e1d047eae6ab6046ad': 24.0,\n",
       " 'a0e42a2440ccd1dffe96a0d4cc4a8952': 13.0,\n",
       " 'a20575f25400fc50aa8377e345b97d41': 14.0,\n",
       " 'a21252ae119bf94fb9343a9d279b1f09': 14.0,\n",
       " 'a21afcba89ef782fc3d2696b6a60f9c2': 15.0,\n",
       " 'a253da9e1d743c9579e25c1b69a05eb2': 16.5,\n",
       " 'a490a9038c51aee1aa41a969308340a8': 15.5,\n",
       " 'a514bda8b5262164df92063a50786753': 17.0,\n",
       " 'a5af04cc361abb2597b7aeda9c8f05f5': 14.0,\n",
       " 'a5c01f891423feb7623ecfbeea6d103c': 22.0,\n",
       " 'a5d7cec02c6005b044e40dd7a42ce4d2': 21.0,\n",
       " 'a633db168b2c85a2f98be4bd877894d6': 17.0,\n",
       " 'a7745ca5549c5be27faf5ff747401ccc': 23.0,\n",
       " 'a7a6e62bcc876979d5f02bdec82c9869': 17.0,\n",
       " 'a7dee09e9fbf07ce1c880016b3e69f35': 13.0,\n",
       " 'a90462cd11ae4e43144239bf7c4828a4': 22.0,\n",
       " 'a949965ca25205c4fb8f47bac724b832': 44.0,\n",
       " 'a993d47c7143bed2a187b0cac7d17983': 25.0,\n",
       " 'ab1993483e82e85b729f5d958120d50d': 14.0,\n",
       " 'abd614b6bace46049b465469a384ac0b': 12.0,\n",
       " 'abf354f67e94370068c7141648efe147': 13.0,\n",
       " 'adef8f4cb061376c14393d4fb9ab3f89': 15.5,\n",
       " 'adf09caf6306aab8015ea16df0efab86': 30.0,\n",
       " 'adf57413c8c1462b6c066f14034bea53': 16.0,\n",
       " 'ae2f6787bb01d859420365f1ab55a3c1': 28.0,\n",
       " 'aea09a8d8901d51bb5c67eabc50f4379': 14.0,\n",
       " 'aeb668565350951c2e5b983ca5d18873': 21.0,\n",
       " 'aef08e5cd6bbf488ae574e9462f3e47b': 16.0,\n",
       " 'b08f608e6e2018affd0eadc6217cd9d6': 16.0,\n",
       " 'b1d41e64e8d10b7c427570a7f77f1826': 42.0,\n",
       " 'b249b93771413c68f826e6583566f645': 21.0,\n",
       " 'b25e809679da1728ba3638a9fb418257': 13.0,\n",
       " 'b2aedbc721bb3852961092b0c46eab8e': 17.0,\n",
       " 'b3a4cfbf22f45360e7fb11d1f8f86b9e': 17.0,\n",
       " 'b49552ef5ef12e825e2ac8be26b54033': 18.5,\n",
       " 'b537d7f73173f1a4227001cef49d1222': 15.5,\n",
       " 'b57c8824284adeabf73b43cf206b3819': 13.5,\n",
       " 'b5dd82a5d296b283ded47e0110ce386d': 20.0,\n",
       " 'b63901e116eff9653b0bb68135364147': 11.0,\n",
       " 'b63efd0868b06138b7c8f9da9027e457': 13.0,\n",
       " 'b67c2c4abede3730932f8d53aba0341a': 14.5,\n",
       " 'b768694827b9ce3faa76db5daf06e523': 20.0,\n",
       " 'b7d1ab1b8c062f0098dc3ce8ff59a821': 14.5,\n",
       " 'b7dd087ca5fc64edaad0e6d8ea34bd82': 20.0,\n",
       " 'b8114861c419dc4c0cdbbc07a943b2b9': 38.0,\n",
       " 'b81bda93a68e51718e7e3f272961f9b4': 15.0,\n",
       " 'b84d48cb3e210ed3d4ae5522c752bd43': 12.0,\n",
       " 'b8801e9acd413ba93922af95ab5bc392': 27.5,\n",
       " 'b94dcf22caa499f548c25164e13a8aba': 22.0,\n",
       " 'b96eda75e8ffe638fff75143380a7ae6': 16.0,\n",
       " 'ba71cfee2a23d7d3f0845cb5d6f1476f': 16.0,\n",
       " 'bba6b4d023cec7812f6b6c30c570b278': 30.0,\n",
       " 'bbcb018f0e5e49e13636f6e78ce9f60f': 24.0,\n",
       " 'bc281215b12aa7a7b7ef1c769027e041': 22.0,\n",
       " 'bc7ebe1813e2b66f084289e1b1172f21': 20.0,\n",
       " 'bc9128e5845a9ef736ccbd42b96f0030': 19.5,\n",
       " 'bcf10911a28373ba22a779145eaa9942': 21.0,\n",
       " 'bd42c9bae54ed298a8281caf7b699ff6': 15.0,\n",
       " 'bd98af28b14ebbd3d45f05570ad9b72b': 14.0,\n",
       " 'bef4a61635998c4d1b2b18327892a332': 15.0,\n",
       " 'bf3bb60ad8c35a1dc9aba30880f8dbb8': 20.5,\n",
       " 'bf8df4bed5c89ab2aca38cc649b8038e': 18.0,\n",
       " 'bf9e1cf78ce5a29fb59c7e634d596263': 17.0,\n",
       " 'bff474e03c775cd4d326df7044b6911e': 15.0,\n",
       " 'c008e7a443149c9d5894c5b3d5373140': 18.0,\n",
       " 'c0391823af85ef75df9d031878d35b5d': 21.0,\n",
       " 'c06321bd819be6f5c537c67a2797bd12': 14.0,\n",
       " 'c08958366558975968a93e9087aed6db': 21.0,\n",
       " 'c1f22c61eea660c6176bb4452a7f58b9': 13.0,\n",
       " 'c2e8e1c1da5aa1482049619b9f50efca': 25.0,\n",
       " 'c3f6bd78c860c5b2f1f94361ce313085': 14.0,\n",
       " 'c54e262cc40c41b9095dcb5e08ce6e71': 16.0,\n",
       " 'c5db45ff8e2b39f40b282e2cb7e5584a': 23.0,\n",
       " 'c5ec684089ebc4b152d4bc616685ad1d': 36.0,\n",
       " 'c672051724f43ece79af744a5e47668f': 16.5,\n",
       " 'c676fe3aef9660b4e225ac44d2e1174b': 20.0,\n",
       " 'c82ff1f157906a6e9c37a08989544676': 64.0,\n",
       " 'c8c87872fa559a2fd200ded474e8a8ad': 18.5,\n",
       " 'ca479a7052cd4e84391854e800362169': 17.5,\n",
       " 'cb09047c9bc2c7afd2d74daa905f68bf': 14.0,\n",
       " 'cb304c84e572423d939db1dbb2009609': 40.0,\n",
       " 'cbbc75242459ad8a30fba8f8119a5521': 13.0,\n",
       " 'cbc5bb11c092796a7127a349ae8ab045': 15.0,\n",
       " 'cbcb0e04d6b21520dd35c88e304e0a08': 17.0,\n",
       " 'cc4a424e97a09fe72e5e9597c12af1df': 25.0,\n",
       " 'cd070689c07788f255dab0f996474640': 19.0,\n",
       " 'cd572640b6e423db8fd7ad50ef0b4473': 13.5,\n",
       " 'cd9e56779d1e78b55ee14e0e9d48f5ab': 17.0,\n",
       " 'cdfe175e21e14759b98d9dc9ad03fb10': 15.0,\n",
       " 'ce3e58980b9240213bd8ea1fbbefd044': 17.0,\n",
       " 'ce64452a172b006bd45b3c1f147c88c1': 17.0,\n",
       " 'ce8723e47ce346b09bc20deb5d27749e': 18.0,\n",
       " 'ce8b2c0e11c538921c39c06b298d2393': 12.0,\n",
       " 'ce9d46e559d5457a59ce3b288f2f8e7d': 16.0,\n",
       " 'cf7ee51cf57f0c735f70a2696fff59a8': 11.0,\n",
       " 'cfd973395338c6049c4ffea98214e90c': 14.5,\n",
       " 'cfeb7a55105a6e277ebef7dc3df83ffc': 14.0,\n",
       " 'd022be7b24f488153a47c5ebaec904eb': 15.0,\n",
       " 'd0808351616eaf2e1d5d36d52e6cb669': 17.0,\n",
       " 'd192c7de73aa0a21fb4d99766e5b1b89': 15.5,\n",
       " 'd199aebcfab8dd5f47f9a2d645e5e25d': 15.0,\n",
       " 'd1e34bb3edb270f7321788fd307f170e': 24.5,\n",
       " 'd2fb0b2935cd696dc7681a74797e86b7': 19.0,\n",
       " 'd3bf31d4fda5dd60330943a904ac5d5a': 14.0,\n",
       " 'd42203d57e7b727be6c74adb6ec01f29': 13.0,\n",
       " 'd44e7a9d13d3730892b6ffff9af4d595': 28.0,\n",
       " 'd4ab328be737d00b398dc4d48963e2a1': 20.0,\n",
       " 'd4b2ea25bfcbac86f18ca67712e9ab4f': 15.0,\n",
       " 'd4ce127aa5a02d0660970041b98e3005': 32.5,\n",
       " 'd526897e467bdc956bbf1d1a7d1f22c0': 25.0,\n",
       " 'd637ac269ed7d8542ec0a524d629ffaf': 20.0,\n",
       " 'd65e188a0e2d9d0b2efdfcf6a1b81783': 28.0,\n",
       " 'd6623f71978a56f75cbc167fd3b935f4': 12.0,\n",
       " 'd6a4947ec7c2a78bd32ba4e30f3bba53': 14.5,\n",
       " 'd6d6aa73853ad771aaf7f972661fd2e6': 12.0,\n",
       " 'd75d4e493e871d3eb24b1d348ef440a0': 14.0,\n",
       " 'd78d5eaa3a43f2a71683ae0f05ce3a8f': 24.0,\n",
       " 'd7a8af51ca8eb58392ab833bc0ae516b': 15.0,\n",
       " 'd7fccf988f1d2e7ec1a105f974835ef8': 13.5,\n",
       " 'd9f6293ea290fd5f01904c594b5a90b9': 15.0,\n",
       " 'da68e5b292b530606ce5e2f7d9fb4342': 15.0,\n",
       " 'dacd3e932f6546f12ba6b7f3e711a0ed': 22.0,\n",
       " 'db0fbb4c6e88a74d6387efab221c1a7a': 30.0,\n",
       " 'db27f7d84ea8ef691d33dbb715272977': 25.0,\n",
       " 'dbaba98befa4fc0363b337d5148dd896': 23.0,\n",
       " 'dbe44146ae677a77353f803391928966': 19.0,\n",
       " 'dc2a4f701fccdca97a2a8522f607db76': 30.0,\n",
       " 'dc370d6cb5c3688ac7fa00f9ee56b4bd': 22.0,\n",
       " 'dc43d4854e85174fd42fe2e9c3c66f12': 17.5,\n",
       " 'dce4bc75ebe72c6785278052e0af100c': 15.0,\n",
       " 'dd012c5266c9843f1049d7d012b18ed0': 16.0,\n",
       " 'dd240f0580c98aeff68dfc9ab6a19b4a': 12.0,\n",
       " 'dd4faebf6a4c2dc95a361236f215caee': 18.0,\n",
       " 'def0c3fa02633394cd2b5041de7710ac': 14.0,\n",
       " 'dfa86215568c869a2e94ce3e5fcf1661': 12.5,\n",
       " 'dfaf614469f9c8f10d64ceefd9cde4a9': 22.0,\n",
       " 'e0e676badd59e9b1f2ecf853d2ca1ecb': 24.0,\n",
       " 'e36c60ce269cf6f779cc1e9957f80857': 22.0,\n",
       " 'e39c66ecceec76ee8f9f811fa4a2d246': 13.0,\n",
       " 'e4786a617066d9d27fc324a1120c76f8': 20.0,\n",
       " 'e4c3463c4a946e9301a4f64830eac663': 15.0,\n",
       " 'e4e2fbc655aa5270695f8a48f7180cab': 17.0,\n",
       " 'e50bc1df1b2b46879a29c009cf17654e': 14.0,\n",
       " 'e654962bff96a16d2ce4a43206ca72b1': 19.0,\n",
       " 'e76b18c02d69bdf2a261b733fd441673': 11.5,\n",
       " 'e7e08825e5ce14c08ad265c2bfc40227': 20.0,\n",
       " 'e8110fa2ab61007365cb825240af25dd': 27.0,\n",
       " 'e847a8217e0447f92b06d59fa7c88982': 25.0,\n",
       " 'e8b3b95e93a6dc7dbb90f4e72e7ac065': 15.0,\n",
       " 'e8f426c17a7172179be379cb926bd278': 19.0,\n",
       " 'e99e2af4a924268f8dae0beba680b0bf': 25.0,\n",
       " 'eb17558d218dbd25eef1e19ecc78248a': 16.0,\n",
       " 'eccf545fec3a624430ee4b264e4d7c3e': 17.5,\n",
       " 'edcb2ff4e70a0437347f07e2dd6867e8': 12.0,\n",
       " 'ee9da2a37f88c1f0e922757286c26270': 18.5,\n",
       " 'ef76030f911b99b664285c543a238775': 13.0,\n",
       " 'f013068de98db1470bd986137a0c6d23': 14.0,\n",
       " 'f0c359ea042cfbb7b690ca3b78fd7f60': 19.0,\n",
       " 'f0fdfe3859cd89a7d30ff7f15e2f06df': 19.0,\n",
       " 'f142e2854cb3408a0daf85c0d1f97e74': 17.0,\n",
       " 'f1bebcc62175d8c0c05ba9e63aa68b2e': 14.0,\n",
       " 'f25446d4d951867ca7b984ad17c6c1e0': 15.0,\n",
       " 'f328006c7c2a699678d33c97ed0b5dde': 21.0,\n",
       " 'f35320206f3dd1ffc411e4ac127caf92': 17.0,\n",
       " 'f38aacf279329cbb0fd7807a9ddc6f6c': 18.0,\n",
       " 'f4156396854199e5d45a23248e03e379': 20.0,\n",
       " 'f43fb9e90c5ecf879016b159aaa17fcb': 22.0,\n",
       " 'f4520092ddd64f380cc29f27329112a6': 13.5,\n",
       " 'f45fb7ce83b62c22c577bca121fdb2c1': 18.0,\n",
       " 'f4f5baac978b6ad7f401d5925bc77311': 15.0,\n",
       " 'f5702bec0e2b40b4c9987e6d656b2721': 14.0,\n",
       " 'f61f291c865fe4fe2bfd6dad53e5d058': 16.0,\n",
       " 'f63ddd4e3eb78163c5b06897f160db5f': 23.0,\n",
       " 'f6d5c6d9c9f4d5b9e178ba482f663970': 26.0,\n",
       " 'f70960d492c2fd067680a14baa0f66e9': 20.0,\n",
       " 'f75b648bd705d4bce859fb3cbb02997f': 40.0,\n",
       " 'f7f087af0599e6b2eaa4045ba1a0be50': 11.0,\n",
       " 'f85ba39277c72bdc3ded77985721b991': 21.5,\n",
       " 'fa18717cd28da214ea9a38210fd9dd14': 12.0,\n",
       " 'fa339582e0e0e47497dbe039bb00b19f': 14.0,\n",
       " 'fb55464f8e34af6d750d06968bf719b8': 15.5,\n",
       " 'fca0703f480d461a24d0b68fd994815e': 14.5,\n",
       " 'fcf9f3effa992cfd552696e4ae7219b6': 15.0,\n",
       " 'fcfc60d8240e5a51f878fd92e2a352a3': 15.0,\n",
       " 'fd613eba867c6ad7350a937f743b88f2': 18.0,\n",
       " 'fe355ff27aa8b2242a558d5e3ec99c18': 13.0,\n",
       " 'fec479d0202d6e1e3f051a9ee902ff5d': 28.0}"
      ]
     },
     "execution_count": 94,
     "metadata": {},
     "output_type": "execute_result"
    }
   ],
   "source": [
    "# 005be9532fd717dc36d4be318fd9ad25\n",
    "groupby_id = unemployment_data.groupby('uu_id').median().total_claims\n",
    "groupby_id.to_dict()"
   ]
  },
  {
   "cell_type": "code",
   "execution_count": 95,
   "id": "4db1f608",
   "metadata": {
    "execution": {
     "iopub.execute_input": "2023-05-10T02:15:50.028043Z",
     "iopub.status.busy": "2023-05-10T02:15:50.027955Z",
     "iopub.status.idle": "2023-05-10T02:15:50.096895Z",
     "shell.execute_reply": "2023-05-10T02:15:50.096590Z"
    }
   },
   "outputs": [
    {
     "ename": "AttributeError",
     "evalue": "'Series' object has no attribute 'uu_id'",
     "output_type": "error",
     "traceback": [
      "\u001b[0;31m---------------------------------------------------------------------------\u001b[0m",
      "\u001b[0;31mAttributeError\u001b[0m                            Traceback (most recent call last)",
      "Cell \u001b[0;32mIn [95], line 3\u001b[0m\n\u001b[1;32m      1\u001b[0m \u001b[38;5;66;03m# 005be9532fd717dc36d4be318fd9ad25\u001b[39;00m\n\u001b[1;32m      2\u001b[0m groupby_id \u001b[38;5;241m=\u001b[39m unemployment_data\u001b[38;5;241m.\u001b[39mgroupby(\u001b[38;5;124m'\u001b[39m\u001b[38;5;124muu_id\u001b[39m\u001b[38;5;124m'\u001b[39m)\u001b[38;5;241m.\u001b[39mmedian()\u001b[38;5;241m.\u001b[39mtotal_claims\n\u001b[0;32m----> 3\u001b[0m groupby_id[\u001b[43mgroupby_id\u001b[49m\u001b[38;5;241;43m.\u001b[39;49m\u001b[43muu_id\u001b[49m \u001b[38;5;241m==\u001b[39m \u001b[38;5;124m'\u001b[39m\u001b[38;5;124m005be9532fd717dc36d4be318fd9ad25\u001b[39m\u001b[38;5;124m'\u001b[39m]\n",
      "File \u001b[0;32m/opt/homebrew/lib/python3.9/site-packages/pandas/core/generic.py:5902\u001b[0m, in \u001b[0;36mNDFrame.__getattr__\u001b[0;34m(self, name)\u001b[0m\n\u001b[1;32m   5895\u001b[0m \u001b[38;5;28;01mif\u001b[39;00m (\n\u001b[1;32m   5896\u001b[0m     name \u001b[38;5;129;01mnot\u001b[39;00m \u001b[38;5;129;01min\u001b[39;00m \u001b[38;5;28mself\u001b[39m\u001b[38;5;241m.\u001b[39m_internal_names_set\n\u001b[1;32m   5897\u001b[0m     \u001b[38;5;129;01mand\u001b[39;00m name \u001b[38;5;129;01mnot\u001b[39;00m \u001b[38;5;129;01min\u001b[39;00m \u001b[38;5;28mself\u001b[39m\u001b[38;5;241m.\u001b[39m_metadata\n\u001b[1;32m   5898\u001b[0m     \u001b[38;5;129;01mand\u001b[39;00m name \u001b[38;5;129;01mnot\u001b[39;00m \u001b[38;5;129;01min\u001b[39;00m \u001b[38;5;28mself\u001b[39m\u001b[38;5;241m.\u001b[39m_accessors\n\u001b[1;32m   5899\u001b[0m     \u001b[38;5;129;01mand\u001b[39;00m \u001b[38;5;28mself\u001b[39m\u001b[38;5;241m.\u001b[39m_info_axis\u001b[38;5;241m.\u001b[39m_can_hold_identifiers_and_holds_name(name)\n\u001b[1;32m   5900\u001b[0m ):\n\u001b[1;32m   5901\u001b[0m     \u001b[38;5;28;01mreturn\u001b[39;00m \u001b[38;5;28mself\u001b[39m[name]\n\u001b[0;32m-> 5902\u001b[0m \u001b[38;5;28;01mreturn\u001b[39;00m \u001b[38;5;28;43mobject\u001b[39;49m\u001b[38;5;241;43m.\u001b[39;49m\u001b[38;5;21;43m__getattribute__\u001b[39;49m\u001b[43m(\u001b[49m\u001b[38;5;28;43mself\u001b[39;49m\u001b[43m,\u001b[49m\u001b[43m \u001b[49m\u001b[43mname\u001b[49m\u001b[43m)\u001b[49m\n",
      "\u001b[0;31mAttributeError\u001b[0m: 'Series' object has no attribute 'uu_id'"
     ]
    }
   ],
   "source": [
    "# 005be9532fd717dc36d4be318fd9ad25\n",
    "groupby_id = unemployment_data.groupby('uu_id').median().total_claims\n",
    "groupby_id[groupby_id.uu_id == '005be9532fd717dc36d4be318fd9ad25']"
   ]
  },
  {
   "cell_type": "code",
   "execution_count": 96,
   "id": "6f887da3",
   "metadata": {
    "execution": {
     "iopub.execute_input": "2023-05-10T02:15:50.098572Z",
     "iopub.status.busy": "2023-05-10T02:15:50.098406Z",
     "iopub.status.idle": "2023-05-10T02:15:50.104423Z",
     "shell.execute_reply": "2023-05-10T02:15:50.104145Z"
    }
   },
   "outputs": [
    {
     "data": {
      "text/plain": [
       "Series([], Name: total_claims, dtype: Float64)"
      ]
     },
     "execution_count": 96,
     "metadata": {},
     "output_type": "execute_result"
    }
   ],
   "source": [
    "# 005be9532fd717dc36d4be318fd9ad25\n",
    "groupby_id = unemployment_data.groupby('uu_id').median().total_claims\n",
    "groupby_id[groupby_id == '005be9532fd717dc36d4be318fd9ad25']"
   ]
  },
  {
   "cell_type": "code",
   "execution_count": 97,
   "id": "249c919b",
   "metadata": {
    "execution": {
     "iopub.execute_input": "2023-05-10T02:15:50.105841Z",
     "iopub.status.busy": "2023-05-10T02:15:50.105757Z",
     "iopub.status.idle": "2023-05-10T02:15:50.111257Z",
     "shell.execute_reply": "2023-05-10T02:15:50.110973Z"
    }
   },
   "outputs": [
    {
     "data": {
      "text/plain": [
       "19.0"
      ]
     },
     "execution_count": 97,
     "metadata": {},
     "output_type": "execute_result"
    }
   ],
   "source": [
    "# 005be9532fd717dc36d4be318fd9ad25\n",
    "groupby_id = unemployment_data.groupby('uu_id').median().total_claims\n",
    "groupby_id['005be9532fd717dc36d4be318fd9ad25']"
   ]
  },
  {
   "cell_type": "code",
   "execution_count": 98,
   "id": "fe660f79",
   "metadata": {
    "execution": {
     "iopub.execute_input": "2023-05-10T02:15:50.112774Z",
     "iopub.status.busy": "2023-05-10T02:15:50.112687Z",
     "iopub.status.idle": "2023-05-10T02:15:50.179652Z",
     "shell.execute_reply": "2023-05-10T02:15:50.179007Z"
    }
   },
   "outputs": [],
   "source": [
    "for uuid in lessthanten:\n",
    "    rows.append([uuid, 39, int(unemployment_data.groupby('uu_id').median().total_claims[uuid])])"
   ]
  },
  {
   "cell_type": "code",
   "execution_count": 99,
   "id": "bc87a119",
   "metadata": {
    "execution": {
     "iopub.execute_input": "2023-05-10T02:15:50.181701Z",
     "iopub.status.busy": "2023-05-10T02:15:50.181512Z",
     "iopub.status.idle": "2023-05-10T02:15:50.184094Z",
     "shell.execute_reply": "2023-05-10T02:15:50.183801Z"
    }
   },
   "outputs": [
    {
     "data": {
      "text/plain": [
       "21"
      ]
     },
     "execution_count": 99,
     "metadata": {},
     "output_type": "execute_result"
    }
   ],
   "source": [
    "len(rows)"
   ]
  },
  {
   "cell_type": "code",
   "execution_count": 100,
   "id": "1916918d",
   "metadata": {
    "execution": {
     "iopub.execute_input": "2023-05-10T02:15:50.185530Z",
     "iopub.status.busy": "2023-05-10T02:15:50.185414Z",
     "iopub.status.idle": "2023-05-10T02:15:50.187721Z",
     "shell.execute_reply": "2023-05-10T02:15:50.187466Z"
    }
   },
   "outputs": [
    {
     "data": {
      "text/plain": [
       "[['0aed17ab54d56c6651d331418e8db6be', 39, 13],\n",
       " ['3934b01a1e31d0a6af96867e1afbf03c', 39, 15],\n",
       " ['676fffaaecefffe4ce93ca264c5c3c36', 39, 11],\n",
       " ['001cd9ae23064d7f0fd3cd327c873d8d', 39, 11],\n",
       " ['99c1cb11273b064dc48649886138eb8e', 39, 11],\n",
       " ['b63efd0868b06138b7c8f9da9027e457', 39, 13],\n",
       " ['b67c2c4abede3730932f8d53aba0341a', 39, 14],\n",
       " ['747f8bc2b0c8c0a04d29caa4cfe327d2', 39, 11],\n",
       " ['f7f087af0599e6b2eaa4045ba1a0be50', 39, 11]]"
      ]
     },
     "execution_count": 100,
     "metadata": {},
     "output_type": "execute_result"
    }
   ],
   "source": [
    "rows[-10:-1]"
   ]
  },
  {
   "cell_type": "code",
   "execution_count": 101,
   "id": "1a651c44",
   "metadata": {
    "execution": {
     "iopub.execute_input": "2023-05-10T02:15:50.189118Z",
     "iopub.status.busy": "2023-05-10T02:15:50.189008Z",
     "iopub.status.idle": "2023-05-10T02:15:50.191009Z",
     "shell.execute_reply": "2023-05-10T02:15:50.190771Z"
    }
   },
   "outputs": [],
   "source": [
    "with open(filename, 'w') as csvfile: \n",
    "     \n",
    "    csvwriter = csv.writer(csvfile) \n",
    "\n",
    "    csvwriter.writerow(fields) \n",
    "\n",
    "    csvwriter.writerows(rows)"
   ]
  },
  {
   "cell_type": "code",
   "execution_count": 102,
   "id": "033ee9d4",
   "metadata": {
    "execution": {
     "iopub.execute_input": "2023-05-10T02:15:50.192370Z",
     "iopub.status.busy": "2023-05-10T02:15:50.192257Z",
     "iopub.status.idle": "2023-05-10T02:15:50.198681Z",
     "shell.execute_reply": "2023-05-10T02:15:50.198411Z"
    }
   },
   "outputs": [],
   "source": [
    "get_ipython().run_cell_magic('capture', '', \"%logstop\\n%logstart -t -r -q ipython_command_log.py global\\n\\n#- IRONHACKS RESEARCH TRACKING CODE\\n#----------------------------------\\n# The following code is used to help our research team understand how you \\n# our notebook environment. We do not collect any personal information with\\n# the following code, it is used to measure when and how often you work on\\n# your submission files.\\n\\nimport os\\nfrom datetime import datetime\\nimport IPython.core.history as history\\n\\nha = history.HistoryAccessor()\\nha_tail = ha.get_tail(1)\\nha_cmd = next(ha_tail)\\nsession_id = str(ha_cmd[0])\\ncommand_id = str(ha_cmd[1])\\ntimestamp = datetime.utcnow().isoformat()\\nhistory_line = ','.join([session_id, command_id, timestamp]) + '\\\\n'\\nlogfile = open(os.environ['HOME']+'/ipython_session_log.csv', 'a')\\nlogfile.write(history_line)\\nlogfile.close()\\n\")"
   ]
  },
  {
   "cell_type": "code",
   "execution_count": 103,
   "id": "65beceff",
   "metadata": {
    "execution": {
     "iopub.execute_input": "2023-05-10T02:15:50.200229Z",
     "iopub.status.busy": "2023-05-10T02:15:50.200112Z",
     "iopub.status.idle": "2023-05-10T02:15:50.215391Z",
     "shell.execute_reply": "2023-05-10T02:15:50.215043Z"
    }
   },
   "outputs": [
    {
     "ename": "IndexingError",
     "evalue": "Unalignable boolean Series provided as indexer (index of the boolean Series and of the indexed object do not match).",
     "output_type": "error",
     "traceback": [
      "\u001b[0;31m---------------------------------------------------------------------------\u001b[0m",
      "\u001b[0;31mIndexingError\u001b[0m                             Traceback (most recent call last)",
      "Cell \u001b[0;32mIn [103], line 1\u001b[0m\n\u001b[0;32m----> 1\u001b[0m less_than_ten \u001b[38;5;241m=\u001b[39m \u001b[43munemployment_data\u001b[49m\u001b[38;5;241;43m.\u001b[39;49m\u001b[43muu_id\u001b[49m\u001b[43m[\u001b[49m\u001b[43munemployment_data\u001b[49m\u001b[38;5;241;43m.\u001b[39;49m\u001b[43muu_id\u001b[49m\u001b[38;5;241;43m.\u001b[39;49m\u001b[43mvalue_counts\u001b[49m\u001b[43m(\u001b[49m\u001b[43m)\u001b[49m\u001b[38;5;241;43m<\u001b[39;49m\u001b[38;5;241;43m10\u001b[39;49m\u001b[43m]\u001b[49m\n",
      "File \u001b[0;32m/opt/homebrew/lib/python3.9/site-packages/pandas/core/series.py:1003\u001b[0m, in \u001b[0;36mSeries.__getitem__\u001b[0;34m(self, key)\u001b[0m\n\u001b[1;32m   1000\u001b[0m     key \u001b[38;5;241m=\u001b[39m \u001b[38;5;28mlist\u001b[39m(key)\n\u001b[1;32m   1002\u001b[0m \u001b[38;5;28;01mif\u001b[39;00m com\u001b[38;5;241m.\u001b[39mis_bool_indexer(key):\n\u001b[0;32m-> 1003\u001b[0m     key \u001b[38;5;241m=\u001b[39m \u001b[43mcheck_bool_indexer\u001b[49m\u001b[43m(\u001b[49m\u001b[38;5;28;43mself\u001b[39;49m\u001b[38;5;241;43m.\u001b[39;49m\u001b[43mindex\u001b[49m\u001b[43m,\u001b[49m\u001b[43m \u001b[49m\u001b[43mkey\u001b[49m\u001b[43m)\u001b[49m\n\u001b[1;32m   1004\u001b[0m     key \u001b[38;5;241m=\u001b[39m np\u001b[38;5;241m.\u001b[39masarray(key, dtype\u001b[38;5;241m=\u001b[39m\u001b[38;5;28mbool\u001b[39m)\n\u001b[1;32m   1005\u001b[0m     \u001b[38;5;28;01mreturn\u001b[39;00m \u001b[38;5;28mself\u001b[39m\u001b[38;5;241m.\u001b[39m_get_values(key)\n",
      "File \u001b[0;32m/opt/homebrew/lib/python3.9/site-packages/pandas/core/indexing.py:2552\u001b[0m, in \u001b[0;36mcheck_bool_indexer\u001b[0;34m(index, key)\u001b[0m\n\u001b[1;32m   2550\u001b[0m indexer \u001b[38;5;241m=\u001b[39m result\u001b[38;5;241m.\u001b[39mindex\u001b[38;5;241m.\u001b[39mget_indexer_for(index)\n\u001b[1;32m   2551\u001b[0m \u001b[38;5;28;01mif\u001b[39;00m \u001b[38;5;241m-\u001b[39m\u001b[38;5;241m1\u001b[39m \u001b[38;5;129;01min\u001b[39;00m indexer:\n\u001b[0;32m-> 2552\u001b[0m     \u001b[38;5;28;01mraise\u001b[39;00m IndexingError(\n\u001b[1;32m   2553\u001b[0m         \u001b[38;5;124m\"\u001b[39m\u001b[38;5;124mUnalignable boolean Series provided as \u001b[39m\u001b[38;5;124m\"\u001b[39m\n\u001b[1;32m   2554\u001b[0m         \u001b[38;5;124m\"\u001b[39m\u001b[38;5;124mindexer (index of the boolean Series and of \u001b[39m\u001b[38;5;124m\"\u001b[39m\n\u001b[1;32m   2555\u001b[0m         \u001b[38;5;124m\"\u001b[39m\u001b[38;5;124mthe indexed object do not match).\u001b[39m\u001b[38;5;124m\"\u001b[39m\n\u001b[1;32m   2556\u001b[0m     )\n\u001b[1;32m   2558\u001b[0m result \u001b[38;5;241m=\u001b[39m result\u001b[38;5;241m.\u001b[39mtake(indexer)\n\u001b[1;32m   2560\u001b[0m \u001b[38;5;66;03m# fall through for boolean\u001b[39;00m\n",
      "\u001b[0;31mIndexingError\u001b[0m: Unalignable boolean Series provided as indexer (index of the boolean Series and of the indexed object do not match)."
     ]
    }
   ],
   "source": [
    "less_than_ten = unemployment_data.uu_id[unemployment_data.uu_id.value_counts()<10]"
   ]
  },
  {
   "cell_type": "code",
   "execution_count": 104,
   "id": "fa0c1010",
   "metadata": {
    "execution": {
     "iopub.execute_input": "2023-05-10T02:15:50.216967Z",
     "iopub.status.busy": "2023-05-10T02:15:50.216837Z",
     "iopub.status.idle": "2023-05-10T02:15:50.219603Z",
     "shell.execute_reply": "2023-05-10T02:15:50.219260Z"
    },
    "lines_to_next_cell": 2
   },
   "outputs": [
    {
     "ename": "SyntaxError",
     "evalue": "invalid syntax (111755279.py, line 1)",
     "output_type": "error",
     "traceback": [
      "\u001b[0;36m  Cell \u001b[0;32mIn [104], line 1\u001b[0;36m\u001b[0m\n\u001b[0;31m    Since the test is not workable for ids that the number of recorded weeks is less than 3, I separated the ids whose data count is less than 10 to predict the claim different.\u001b[0m\n\u001b[0m          ^\u001b[0m\n\u001b[0;31mSyntaxError\u001b[0m\u001b[0;31m:\u001b[0m invalid syntax\n"
     ]
    }
   ],
   "source": [
    "Since the test is not workable for ids that the number of recorded weeks is less than 3, I separated the ids whose data count is less than 10 to predict the claim different."
   ]
  }
 ],
 "metadata": {
  "jupytext": {
   "cell_metadata_filter": "-all",
   "main_language": "python",
   "notebook_metadata_filter": "-all"
  },
  "kernelspec": {
   "display_name": "base",
   "language": "python",
   "name": "python3"
  },
  "language_info": {
   "codemirror_mode": {
    "name": "ipython",
    "version": 3
   },
   "file_extension": ".py",
   "mimetype": "text/x-python",
   "name": "python",
   "nbconvert_exporter": "python",
   "pygments_lexer": "ipython3",
   "version": "3.9.12"
  }
 },
 "nbformat": 4,
 "nbformat_minor": 5
}
