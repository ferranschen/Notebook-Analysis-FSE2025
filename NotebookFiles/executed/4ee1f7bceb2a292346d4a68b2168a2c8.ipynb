{
 "cells": [
  {
   "cell_type": "code",
   "execution_count": 1,
   "id": "3558b4f7",
   "metadata": {
    "execution": {
     "iopub.execute_input": "2023-05-10T02:28:46.721101Z",
     "iopub.status.busy": "2023-05-10T02:28:46.720915Z",
     "iopub.status.idle": "2023-05-10T02:28:46.732772Z",
     "shell.execute_reply": "2023-05-10T02:28:46.732383Z"
    }
   },
   "outputs": [],
   "source": [
    "get_ipython().run_cell_magic('capture', '', \"%logstop\\n%logstart -t -r -q ipython_command_log.py global\\n\\n#- IRONHACKS RESEARCH TRACKING CODE\\n#----------------------------------\\n# The following code is used to help our research team understand how you \\n# our notebook environment. We do not collect any personal information with\\n# the following code, it is used to measure when and how often you work on\\n# your submission files.\\n\\nimport os\\nfrom datetime import datetime\\nimport IPython.core.history as history\\n\\nha = history.HistoryAccessor()\\nha_tail = ha.get_tail(1)\\nha_cmd = next(ha_tail)\\nsession_id = str(ha_cmd[0])\\ncommand_id = str(ha_cmd[1])\\ntimestamp = datetime.utcnow().isoformat()\\nhistory_line = ','.join([session_id, command_id, timestamp]) + '\\\\n'\\nlogfile = open(os.environ['HOME']+'/ipython_session_log.csv', 'a')\\nlogfile.write(history_line)\\nlogfile.close()\\n\")"
   ]
  },
  {
   "cell_type": "markdown",
   "id": "242d0d7b",
   "metadata": {},
   "source": [
    "SUBMISSION 11 Milestone\n",
    "The task was to predict the total_claims for week 42\n",
    "For each week there is a distinct list of uu_ids with unique uu_id in the table called prediction_list\n",
    "Predict a value for each of those uu_ids\n",
    "The list is changing over time (given the streaming nature of the data)"
   ]
  },
  {
   "cell_type": "code",
   "execution_count": 2,
   "id": "8263039d",
   "metadata": {
    "execution": {
     "iopub.execute_input": "2023-05-10T02:28:46.734675Z",
     "iopub.status.busy": "2023-05-10T02:28:46.734535Z",
     "iopub.status.idle": "2023-05-10T02:28:48.926299Z",
     "shell.execute_reply": "2023-05-10T02:28:48.925861Z"
    }
   },
   "outputs": [],
   "source": [
    "get_ipython().run_cell_magic('capture', '', \"\\n# INSTALL ADDITIONAL LIBRARIES IF REQUIRED\\n# ------------------------------------------\\n# This is normally not required. The hub environment comes preinstaled with \\n# many packages that you can already use without setup. In case there is some\\n# other library you would like to use that isn't on the list you run this command\\n# once to install them.  If it is already installed this command has no effect.\\n\\n!python3 -m pip install pandas\\n!python3 -m pip install [ensorflow]\\n!python3 -m pip install [Keras]\\n!python3 -m pip install [Pytorch]\\n\")"
   ]
  },
  {
   "cell_type": "markdown",
   "id": "46b4fa46",
   "metadata": {},
   "source": [
    "INSTALL PACKAGES"
   ]
  },
  {
   "cell_type": "code",
   "execution_count": 3,
   "id": "22241b31",
   "metadata": {
    "execution": {
     "iopub.execute_input": "2023-05-10T02:28:48.928420Z",
     "iopub.status.busy": "2023-05-10T02:28:48.928260Z",
     "iopub.status.idle": "2023-05-10T02:28:51.578278Z",
     "shell.execute_reply": "2023-05-10T02:28:51.577718Z"
    }
   },
   "outputs": [
    {
     "name": "stdout",
     "output_type": "stream",
     "text": [
      "\u001b[33mWARNING: Ignoring invalid distribution -umpy (/opt/anaconda3/lib/python3.9/site-packages)\u001b[0m\r\n",
      "\u001b[33mWARNING: Ignoring invalid distribution -umpy (/opt/anaconda3/lib/python3.9/site-packages)\u001b[0m\r\n",
      "Requirement already satisfied: db-dtypes in /opt/anaconda3/lib/python3.9/site-packages (1.0.5)\r\n",
      "Requirement already satisfied: numpy<2.0dev,>=1.16.6 in /opt/anaconda3/lib/python3.9/site-packages (from db-dtypes) (1.22.4)\r\n",
      "Requirement already satisfied: pandas<2.0dev,>=0.24.2 in /opt/anaconda3/lib/python3.9/site-packages (from db-dtypes) (1.5.3)\r\n",
      "Requirement already satisfied: packaging>=17.0 in /opt/anaconda3/lib/python3.9/site-packages (from db-dtypes) (21.3)\r\n",
      "Requirement already satisfied: pyarrow>=3.0.0 in /opt/anaconda3/lib/python3.9/site-packages (from db-dtypes) (10.0.1)\r\n",
      "Requirement already satisfied: pyparsing!=3.0.5,>=2.0.2 in /opt/anaconda3/lib/python3.9/site-packages (from packaging>=17.0->db-dtypes) (3.0.4)\r\n",
      "Requirement already satisfied: pytz>=2020.1 in /opt/anaconda3/lib/python3.9/site-packages (from pandas<2.0dev,>=0.24.2->db-dtypes) (2021.3)\r\n",
      "Requirement already satisfied: python-dateutil>=2.8.1 in /opt/anaconda3/lib/python3.9/site-packages (from pandas<2.0dev,>=0.24.2->db-dtypes) (2.8.2)\r\n"
     ]
    },
    {
     "name": "stdout",
     "output_type": "stream",
     "text": [
      "Requirement already satisfied: six>=1.5 in /opt/anaconda3/lib/python3.9/site-packages (from python-dateutil>=2.8.1->pandas<2.0dev,>=0.24.2->db-dtypes) (1.16.0)\r\n",
      "\u001b[33mWARNING: Ignoring invalid distribution -umpy (/opt/anaconda3/lib/python3.9/site-packages)\u001b[0m\r\n"
     ]
    },
    {
     "name": "stdout",
     "output_type": "stream",
     "text": [
      "\u001b[33mWARNING: Ignoring invalid distribution -umpy (/opt/anaconda3/lib/python3.9/site-packages)\u001b[0m\r\n",
      "\u001b[33mWARNING: Ignoring invalid distribution -umpy (/opt/anaconda3/lib/python3.9/site-packages)\u001b[0m\r\n",
      "\u001b[33mWARNING: Ignoring invalid distribution -umpy (/opt/anaconda3/lib/python3.9/site-packages)\u001b[0m\r\n"
     ]
    }
   ],
   "source": [
    "get_ipython().system('pip install db-dtypes')"
   ]
  },
  {
   "cell_type": "markdown",
   "id": "45d92162",
   "metadata": {},
   "source": [
    "IMPORT THE LIBRARIES YOU WILL USE\n",
    "------------------------------------------\n",
    "You only need to import packages one time per notebook session. To keep your\n",
    "notebook clean and organized you can handle all imports at the top of your file.\n",
    "The following are included for example purposed, feel free to modify or delete \n",
    "anything in this section."
   ]
  },
  {
   "cell_type": "code",
   "execution_count": 4,
   "id": "02e2cc8a",
   "metadata": {
    "execution": {
     "iopub.execute_input": "2023-05-10T02:28:51.581063Z",
     "iopub.status.busy": "2023-05-10T02:28:51.580857Z",
     "iopub.status.idle": "2023-05-10T02:28:52.395923Z",
     "shell.execute_reply": "2023-05-10T02:28:52.395630Z"
    }
   },
   "outputs": [],
   "source": [
    "import csv\n",
    "import pandas as pd\n",
    "import numpy as np\n",
    "from google.cloud import bigquery\n",
    "from google.oauth2 import service_account\n",
    "from google.cloud.bigquery import magics\n",
    "import statsmodels.api as sm\n",
    "import math"
   ]
  },
  {
   "cell_type": "markdown",
   "id": "a6807e3d",
   "metadata": {},
   "source": [
    "IMPORT THE DATASET"
   ]
  },
  {
   "cell_type": "code",
   "execution_count": 5,
   "id": "5fe42d32",
   "metadata": {
    "execution": {
     "iopub.execute_input": "2023-05-10T02:28:52.397651Z",
     "iopub.status.busy": "2023-05-10T02:28:52.397483Z",
     "iopub.status.idle": "2023-05-10T02:28:52.611530Z",
     "shell.execute_reply": "2023-05-10T02:28:52.611235Z"
    }
   },
   "outputs": [],
   "source": [
    "import pandas as pd\n",
    "import numpy as np\n",
    "import matplotlib.pyplot as plt\n",
    "import seaborn as sns\n",
    "get_ipython().run_line_magic('matplotlib', 'inline')"
   ]
  },
  {
   "cell_type": "code",
   "execution_count": 6,
   "id": "6b53d72e",
   "metadata": {
    "execution": {
     "iopub.execute_input": "2023-05-10T02:28:52.613220Z",
     "iopub.status.busy": "2023-05-10T02:28:52.613068Z",
     "iopub.status.idle": "2023-05-10T02:28:52.615022Z",
     "shell.execute_reply": "2023-05-10T02:28:52.614786Z"
    }
   },
   "outputs": [],
   "source": [
    "import os\n",
    "from google.cloud import bigquery\n",
    "from google.oauth2 import service_account\n",
    "from google.cloud.bigquery import magics"
   ]
  },
  {
   "cell_type": "markdown",
   "id": "175881bc",
   "metadata": {},
   "source": [
    "IMPORT IRONHACKS DATA"
   ]
  },
  {
   "cell_type": "code",
   "execution_count": 7,
   "id": "36bcb96b",
   "metadata": {
    "execution": {
     "iopub.execute_input": "2023-05-10T02:28:52.616396Z",
     "iopub.status.busy": "2023-05-10T02:28:52.616314Z",
     "iopub.status.idle": "2023-05-10T02:28:52.618002Z",
     "shell.execute_reply": "2023-05-10T02:28:52.617781Z"
    }
   },
   "outputs": [],
   "source": [
    "import os\n",
    "BIGQUERY_PROJECT = 'ironhacks-data'"
   ]
  },
  {
   "cell_type": "code",
   "execution_count": 8,
   "id": "4c3c5896",
   "metadata": {
    "execution": {
     "iopub.execute_input": "2023-05-10T02:28:52.619385Z",
     "iopub.status.busy": "2023-05-10T02:28:52.619313Z",
     "iopub.status.idle": "2023-05-10T02:28:52.629126Z",
     "shell.execute_reply": "2023-05-10T02:28:52.628823Z"
    }
   },
   "outputs": [
    {
     "data": {
      "text/plain": [
       "<google.cloud.bigquery.client.Client at 0x28548db80>"
      ]
     },
     "execution_count": 8,
     "metadata": {},
     "output_type": "execute_result"
    }
   ],
   "source": [
    "bigquery.Client(project=BIGQUERY_PROJECT)"
   ]
  },
  {
   "cell_type": "markdown",
   "id": "e7b2d067",
   "metadata": {},
   "source": [
    "IMPORT THE LINEAR REGRESSION MODEL"
   ]
  },
  {
   "cell_type": "code",
   "execution_count": 9,
   "id": "728698be",
   "metadata": {
    "execution": {
     "iopub.execute_input": "2023-05-10T02:28:52.630687Z",
     "iopub.status.busy": "2023-05-10T02:28:52.630569Z",
     "iopub.status.idle": "2023-05-10T02:28:52.695810Z",
     "shell.execute_reply": "2023-05-10T02:28:52.695516Z"
    }
   },
   "outputs": [],
   "source": [
    "import csv\n",
    "import pandas as pd\n",
    "import numpy as np\n",
    "from google.cloud import bigquery\n",
    "from google.oauth2 import service_account\n",
    "from google.cloud.bigquery import magics\n",
    "from sklearn.model_selection import train_test_split \n",
    "from sklearn.linear_model import LinearRegression\n",
    "from sklearn import metrics\n",
    "import matplotlib.pyplot as plt  "
   ]
  },
  {
   "cell_type": "markdown",
   "id": "ba64fd12",
   "metadata": {},
   "source": [
    "IMPORT PACKAGE THE LINEAR REGRESSION MODEL- SCIKIT-LEARN \n",
    "SOURCE: https://realpython.com/linear-regression-in-python/#simple-linear-regression-with-scikit-learn\n",
    "NUMPY IS A FUNDAMENTAL PUYTHON SCIENTIFIC PACKAGE THAT ALLOWS MANY HIGH PEROFORMATION OPERATION SON A SINGLE AND MULTI DIMENSIONAL ARRAYS.\n",
    "SOURCE: https://realpython.com/linear-regression-in-python/#python-packages-for-linear-regression"
   ]
  },
  {
   "cell_type": "code",
   "execution_count": 10,
   "id": "b5f04f88",
   "metadata": {
    "execution": {
     "iopub.execute_input": "2023-05-10T02:28:52.697508Z",
     "iopub.status.busy": "2023-05-10T02:28:52.697413Z",
     "iopub.status.idle": "2023-05-10T02:28:52.699206Z",
     "shell.execute_reply": "2023-05-10T02:28:52.698979Z"
    }
   },
   "outputs": [],
   "source": [
    "import numpy as np\n",
    "from sklearn.linear_model import LinearRegression"
   ]
  },
  {
   "cell_type": "code",
   "execution_count": 11,
   "id": "0023bda2",
   "metadata": {
    "execution": {
     "iopub.execute_input": "2023-05-10T02:28:52.700545Z",
     "iopub.status.busy": "2023-05-10T02:28:52.700459Z",
     "iopub.status.idle": "2023-05-10T02:28:52.702403Z",
     "shell.execute_reply": "2023-05-10T02:28:52.702178Z"
    },
    "lines_to_next_cell": 1
   },
   "outputs": [],
   "source": [
    "# DEFINING THE DATA; INPUTS (REGRESSOR.X) AND OUTPUTS (RESPONSE.Y)\n",
    "x = np.array([5, 15, 25, 35, 45, 55]).reshape((-1, 1))\n",
    "y = np.array([5, 20, 14, 32, 22, 38])"
   ]
  },
  {
   "cell_type": "markdown",
   "id": "bc8140ba",
   "metadata": {},
   "source": [
    "DEFINE YOUR CLASSES AND FUNCTIONS \n",
    "-----------------------------------\n",
    "This is not required, but is helpful in keeping your notebook organized. \n",
    "You can use the following cell or several cells to define your functions\n",
    "and classes to keep them separate from your analysis or results code.\n",
    "In general it useful to define your methods in a separate cell from where\n",
    "it is run."
   ]
  },
  {
   "cell_type": "code",
   "execution_count": 12,
   "id": "d6ae04c3",
   "metadata": {
    "execution": {
     "iopub.execute_input": "2023-05-10T02:28:52.703756Z",
     "iopub.status.busy": "2023-05-10T02:28:52.703676Z",
     "iopub.status.idle": "2023-05-10T02:28:52.705426Z",
     "shell.execute_reply": "2023-05-10T02:28:52.705170Z"
    },
    "lines_to_next_cell": 1
   },
   "outputs": [],
   "source": [
    "def example_function():\n",
    "    print('Hello World')"
   ]
  },
  {
   "cell_type": "code",
   "execution_count": 13,
   "id": "113a01e9",
   "metadata": {
    "execution": {
     "iopub.execute_input": "2023-05-10T02:28:52.706846Z",
     "iopub.status.busy": "2023-05-10T02:28:52.706764Z",
     "iopub.status.idle": "2023-05-10T02:28:52.708514Z",
     "shell.execute_reply": "2023-05-10T02:28:52.708245Z"
    }
   },
   "outputs": [],
   "source": [
    "# CREATE A LINEAR REGRESSION MODEL\n",
    "model = LinearRegression()"
   ]
  },
  {
   "cell_type": "code",
   "execution_count": 14,
   "id": "0a1c70a9",
   "metadata": {
    "execution": {
     "iopub.execute_input": "2023-05-10T02:28:52.709829Z",
     "iopub.status.busy": "2023-05-10T02:28:52.709746Z",
     "iopub.status.idle": "2023-05-10T02:28:52.712521Z",
     "shell.execute_reply": "2023-05-10T02:28:52.712268Z"
    }
   },
   "outputs": [
    {
     "data": {
      "text/plain": [
       "sklearn.linear_model._base.LinearRegression"
      ]
     },
     "execution_count": 14,
     "metadata": {},
     "output_type": "execute_result"
    }
   ],
   "source": [
    "# START USING A MODEL - .fit() fits the model\n",
    "# SOURCE: REAL PYTHON - https://realpython.com/linear-regression-in-python/#simple-linear-regression-with-scikit-learn\n",
    "model.fit(x,y)\n",
    "LinearRegression"
   ]
  },
  {
   "cell_type": "code",
   "execution_count": 15,
   "id": "44c56692",
   "metadata": {
    "execution": {
     "iopub.execute_input": "2023-05-10T02:28:52.713843Z",
     "iopub.status.busy": "2023-05-10T02:28:52.713766Z",
     "iopub.status.idle": "2023-05-10T02:28:52.715625Z",
     "shell.execute_reply": "2023-05-10T02:28:52.715402Z"
    }
   },
   "outputs": [],
   "source": [
    "# START USING A MODEL - Same statement written differently\n",
    "model = LinearRegression().fit(x,y)"
   ]
  },
  {
   "cell_type": "code",
   "execution_count": 16,
   "id": "6ab5b25e",
   "metadata": {
    "execution": {
     "iopub.execute_input": "2023-05-10T02:28:52.717016Z",
     "iopub.status.busy": "2023-05-10T02:28:52.716934Z",
     "iopub.status.idle": "2023-05-10T02:28:52.718903Z",
     "shell.execute_reply": "2023-05-10T02:28:52.718673Z"
    }
   },
   "outputs": [
    {
     "name": "stdout",
     "output_type": "stream",
     "text": [
      "coefficient of determination: 0.715875613747954\n"
     ]
    }
   ],
   "source": [
    "# GET RESULTS - NOW THAT THE MODEL HAS BEEN FITTED; LET SEE IF IT WORKS!\n",
    "r_sq = model.score(x, y)\n",
    "print(f\"coefficient of determination: {r_sq}\")"
   ]
  },
  {
   "cell_type": "markdown",
   "id": "7018a1d2",
   "metadata": {},
   "source": [
    "THE RETURN VALUE SHOULD BE R2"
   ]
  },
  {
   "cell_type": "markdown",
   "id": "224553bd",
   "metadata": {},
   "source": [
    "DETERMIINE HOW TO GET b0 and b1 (scikit-learn)\n",
    "intercept and coefficient are estimated values"
   ]
  },
  {
   "cell_type": "code",
   "execution_count": 17,
   "id": "3f68ab19",
   "metadata": {
    "execution": {
     "iopub.execute_input": "2023-05-10T02:28:52.720234Z",
     "iopub.status.busy": "2023-05-10T02:28:52.720158Z",
     "iopub.status.idle": "2023-05-10T02:28:52.722432Z",
     "shell.execute_reply": "2023-05-10T02:28:52.722191Z"
    }
   },
   "outputs": [
    {
     "name": "stdout",
     "output_type": "stream",
     "text": [
      "intercept: [5.63333333]\n"
     ]
    }
   ],
   "source": [
    "new_model = LinearRegression().fit(x,y.reshape((-1,1)))\n",
    "print(f\"intercept: {new_model.intercept_}\")"
   ]
  },
  {
   "cell_type": "code",
   "execution_count": 18,
   "id": "c43ad66c",
   "metadata": {
    "execution": {
     "iopub.execute_input": "2023-05-10T02:28:52.723934Z",
     "iopub.status.busy": "2023-05-10T02:28:52.723815Z",
     "iopub.status.idle": "2023-05-10T02:28:52.725813Z",
     "shell.execute_reply": "2023-05-10T02:28:52.725568Z"
    }
   },
   "outputs": [
    {
     "name": "stdout",
     "output_type": "stream",
     "text": [
      "slope: [[0.54]]\n"
     ]
    }
   ],
   "source": [
    "# DETERMIINE HOW TO GET b0 and b1 (scikit-learn)\n",
    "# intercept and coefficient are estimated values\n",
    "print(f\"slope: {new_model.coef_}\")"
   ]
  },
  {
   "cell_type": "code",
   "execution_count": 19,
   "id": "14a0fa04",
   "metadata": {
    "execution": {
     "iopub.execute_input": "2023-05-10T02:28:52.727167Z",
     "iopub.status.busy": "2023-05-10T02:28:52.727081Z",
     "iopub.status.idle": "2023-05-10T02:28:52.729175Z",
     "shell.execute_reply": "2023-05-10T02:28:52.728931Z"
    }
   },
   "outputs": [
    {
     "name": "stdout",
     "output_type": "stream",
     "text": [
      "predicted response:\n",
      "[ 8.33333333 13.73333333 19.13333333 24.53333333 29.93333333 35.33333333]\n"
     ]
    }
   ],
   "source": [
    "# NOW THAT WE KNOW OUR MODEL IS WORKING; LET'S PREDICT A RESPONSE!\n",
    "y_pred = model.predict(x)\n",
    "print(f\"predicted response:\\n{y_pred}\")"
   ]
  },
  {
   "cell_type": "markdown",
   "id": "000b3317",
   "metadata": {},
   "source": [
    "HERE'S ANOTHER WAY TO PREDICT THE RESPONSE\n",
    "THIS IS WERE EACH ELEMENT OF X WERE MULTIPLIED BY WITH THE MODEL COEFFICIENT"
   ]
  },
  {
   "cell_type": "code",
   "execution_count": 20,
   "id": "48e653b6",
   "metadata": {
    "execution": {
     "iopub.execute_input": "2023-05-10T02:28:52.730478Z",
     "iopub.status.busy": "2023-05-10T02:28:52.730395Z",
     "iopub.status.idle": "2023-05-10T02:28:52.732186Z",
     "shell.execute_reply": "2023-05-10T02:28:52.731944Z"
    }
   },
   "outputs": [
    {
     "name": "stdout",
     "output_type": "stream",
     "text": [
      "predicted response:\n",
      "[[ 8.33333333]\n",
      " [13.73333333]\n",
      " [19.13333333]\n",
      " [24.53333333]\n",
      " [29.93333333]\n",
      " [35.33333333]]\n"
     ]
    }
   ],
   "source": [
    "y_pred = model.intercept_ + model.coef_ * x\n",
    "print(f\"predicted response:\\n{y_pred}\")"
   ]
  },
  {
   "cell_type": "markdown",
   "id": "623718c5",
   "metadata": {},
   "source": [
    "REGRESSION MODELS ARE TYPCIALLY USED FOR FORECASTS\n",
    "FITTED MODELS CAN BE USED TO CALCULATE THE OUTPUTS"
   ]
  },
  {
   "cell_type": "code",
   "execution_count": 21,
   "id": "8ab281dc",
   "metadata": {
    "execution": {
     "iopub.execute_input": "2023-05-10T02:28:52.733517Z",
     "iopub.status.busy": "2023-05-10T02:28:52.733437Z",
     "iopub.status.idle": "2023-05-10T02:28:52.735652Z",
     "shell.execute_reply": "2023-05-10T02:28:52.735432Z"
    }
   },
   "outputs": [
    {
     "data": {
      "text/plain": [
       "array([[0],\n",
       "       [1],\n",
       "       [2],\n",
       "       [3],\n",
       "       [4]])"
      ]
     },
     "execution_count": 21,
     "metadata": {},
     "output_type": "execute_result"
    }
   ],
   "source": [
    "x_new = np.arange(5). reshape((-1, 1))\n",
    "x_new"
   ]
  },
  {
   "cell_type": "code",
   "execution_count": 22,
   "id": "a47a1253",
   "metadata": {
    "execution": {
     "iopub.execute_input": "2023-05-10T02:28:52.736931Z",
     "iopub.status.busy": "2023-05-10T02:28:52.736857Z",
     "iopub.status.idle": "2023-05-10T02:28:52.739065Z",
     "shell.execute_reply": "2023-05-10T02:28:52.738849Z"
    }
   },
   "outputs": [
    {
     "data": {
      "text/plain": [
       "array([5.63333333, 6.17333333, 6.71333333, 7.25333333, 7.79333333])"
      ]
     },
     "execution_count": 22,
     "metadata": {},
     "output_type": "execute_result"
    }
   ],
   "source": [
    "# REGRESSION MODELS ARE TYPCIALLY USED FOR FORECASTS\n",
    "# FITTED MODELS CAN BE USED TO CALCULATE THE OUTPUTS\n",
    "y_new = model.predict(x_new)\n",
    "y_new"
   ]
  },
  {
   "cell_type": "markdown",
   "id": "f19e91f9",
   "metadata": {},
   "source": [
    "Obtain data using BigQuery"
   ]
  },
  {
   "cell_type": "code",
   "execution_count": 23,
   "id": "dedbf3e9",
   "metadata": {
    "execution": {
     "iopub.execute_input": "2023-05-10T02:28:52.740478Z",
     "iopub.status.busy": "2023-05-10T02:28:52.740395Z",
     "iopub.status.idle": "2023-05-10T02:28:52.747222Z",
     "shell.execute_reply": "2023-05-10T02:28:52.746886Z"
    }
   },
   "outputs": [],
   "source": [
    "BIGQUERY_PROJECT = 'ironhacks-data'\n",
    "bigquery_client = bigquery.Client(project=BIGQUERY_PROJECT)"
   ]
  },
  {
   "cell_type": "code",
   "execution_count": 24,
   "id": "71dabcbf",
   "metadata": {
    "execution": {
     "iopub.execute_input": "2023-05-10T02:28:52.748831Z",
     "iopub.status.busy": "2023-05-10T02:28:52.748738Z",
     "iopub.status.idle": "2023-05-10T02:28:52.750774Z",
     "shell.execute_reply": "2023-05-10T02:28:52.750516Z"
    }
   },
   "outputs": [],
   "source": [
    "query = \"\"\"\n",
    "SELECT\n",
    "x.*,\n",
    "y.average_wage\n",
    "FROM\n",
    "(SELECT\n",
    "*\n",
    "FROM `ironhacks-data.ironhacks_competition.unemployment_data`) x\n",
    "JOIN `ironhacks-data.ironhacks_competition.wage_data` y\n",
    "ON x.uu_id = y.uu_id\n",
    "\"\"\""
   ]
  },
  {
   "cell_type": "code",
   "execution_count": 25,
   "id": "e441dc71",
   "metadata": {
    "execution": {
     "iopub.execute_input": "2023-05-10T02:28:52.752130Z",
     "iopub.status.busy": "2023-05-10T02:28:52.752035Z",
     "iopub.status.idle": "2023-05-10T02:28:54.890979Z",
     "shell.execute_reply": "2023-05-10T02:28:54.889737Z"
    }
   },
   "outputs": [],
   "source": [
    "query_job = bigquery_client.query(query)\n",
    "data = query_job.to_dataframe()"
   ]
  },
  {
   "cell_type": "code",
   "execution_count": 26,
   "id": "67876cbe",
   "metadata": {
    "execution": {
     "iopub.execute_input": "2023-05-10T02:28:54.895558Z",
     "iopub.status.busy": "2023-05-10T02:28:54.895182Z",
     "iopub.status.idle": "2023-05-10T02:28:54.899008Z",
     "shell.execute_reply": "2023-05-10T02:28:54.898353Z"
    }
   },
   "outputs": [],
   "source": [
    "query_pred = \"\"\"\n",
    "SELECT * FROM `ironhacks-data.ironhacks_competition.prediction_list`\n",
    "\"\"\""
   ]
  },
  {
   "cell_type": "code",
   "execution_count": 27,
   "id": "4f73c34b",
   "metadata": {
    "execution": {
     "iopub.execute_input": "2023-05-10T02:28:54.902248Z",
     "iopub.status.busy": "2023-05-10T02:28:54.901993Z",
     "iopub.status.idle": "2023-05-10T02:28:56.513724Z",
     "shell.execute_reply": "2023-05-10T02:28:56.512734Z"
    }
   },
   "outputs": [],
   "source": [
    "query_job_pred = bigquery_client.query(query_pred)\n",
    "data_pred_query= query_job_pred.to_dataframe()"
   ]
  },
  {
   "cell_type": "code",
   "execution_count": 28,
   "id": "a00fd9f4",
   "metadata": {
    "execution": {
     "iopub.execute_input": "2023-05-10T02:28:56.520805Z",
     "iopub.status.busy": "2023-05-10T02:28:56.520206Z",
     "iopub.status.idle": "2023-05-10T02:28:56.527584Z",
     "shell.execute_reply": "2023-05-10T02:28:56.526673Z"
    }
   },
   "outputs": [],
   "source": [
    "# START USING A MODEL - Same statement written differently\n",
    "model = LinearRegression().fit(x,y)"
   ]
  },
  {
   "cell_type": "code",
   "execution_count": 29,
   "id": "9efafd5e",
   "metadata": {
    "execution": {
     "iopub.execute_input": "2023-05-10T02:28:56.531897Z",
     "iopub.status.busy": "2023-05-10T02:28:56.531452Z",
     "iopub.status.idle": "2023-05-10T02:28:56.538070Z",
     "shell.execute_reply": "2023-05-10T02:28:56.537409Z"
    }
   },
   "outputs": [
    {
     "name": "stdout",
     "output_type": "stream",
     "text": [
      "coefficient of determination: 0.715875613747954\n"
     ]
    }
   ],
   "source": [
    "# GET RESULTS - NOW THAT THE MODEL HAS BEEN FITTED; LET SEE IF IT WORKS!\n",
    "r_sq = model.score(x, y)\n",
    "print(f\"coefficient of determination: {r_sq}\")"
   ]
  },
  {
   "cell_type": "markdown",
   "id": "fd1a8e4b",
   "metadata": {},
   "source": [
    "THE RETURN VALUE SHOULD BE R2"
   ]
  },
  {
   "cell_type": "code",
   "execution_count": 30,
   "id": "83c53198",
   "metadata": {
    "execution": {
     "iopub.execute_input": "2023-05-10T02:28:56.541814Z",
     "iopub.status.busy": "2023-05-10T02:28:56.541476Z",
     "iopub.status.idle": "2023-05-10T02:28:56.549776Z",
     "shell.execute_reply": "2023-05-10T02:28:56.549265Z"
    }
   },
   "outputs": [
    {
     "data": {
      "text/html": [
       "<style>#sk-container-id-1 {color: black;background-color: white;}#sk-container-id-1 pre{padding: 0;}#sk-container-id-1 div.sk-toggleable {background-color: white;}#sk-container-id-1 label.sk-toggleable__label {cursor: pointer;display: block;width: 100%;margin-bottom: 0;padding: 0.3em;box-sizing: border-box;text-align: center;}#sk-container-id-1 label.sk-toggleable__label-arrow:before {content: \"▸\";float: left;margin-right: 0.25em;color: #696969;}#sk-container-id-1 label.sk-toggleable__label-arrow:hover:before {color: black;}#sk-container-id-1 div.sk-estimator:hover label.sk-toggleable__label-arrow:before {color: black;}#sk-container-id-1 div.sk-toggleable__content {max-height: 0;max-width: 0;overflow: hidden;text-align: left;background-color: #f0f8ff;}#sk-container-id-1 div.sk-toggleable__content pre {margin: 0.2em;color: black;border-radius: 0.25em;background-color: #f0f8ff;}#sk-container-id-1 input.sk-toggleable__control:checked~div.sk-toggleable__content {max-height: 200px;max-width: 100%;overflow: auto;}#sk-container-id-1 input.sk-toggleable__control:checked~label.sk-toggleable__label-arrow:before {content: \"▾\";}#sk-container-id-1 div.sk-estimator input.sk-toggleable__control:checked~label.sk-toggleable__label {background-color: #d4ebff;}#sk-container-id-1 div.sk-label input.sk-toggleable__control:checked~label.sk-toggleable__label {background-color: #d4ebff;}#sk-container-id-1 input.sk-hidden--visually {border: 0;clip: rect(1px 1px 1px 1px);clip: rect(1px, 1px, 1px, 1px);height: 1px;margin: -1px;overflow: hidden;padding: 0;position: absolute;width: 1px;}#sk-container-id-1 div.sk-estimator {font-family: monospace;background-color: #f0f8ff;border: 1px dotted black;border-radius: 0.25em;box-sizing: border-box;margin-bottom: 0.5em;}#sk-container-id-1 div.sk-estimator:hover {background-color: #d4ebff;}#sk-container-id-1 div.sk-parallel-item::after {content: \"\";width: 100%;border-bottom: 1px solid gray;flex-grow: 1;}#sk-container-id-1 div.sk-label:hover label.sk-toggleable__label {background-color: #d4ebff;}#sk-container-id-1 div.sk-serial::before {content: \"\";position: absolute;border-left: 1px solid gray;box-sizing: border-box;top: 0;bottom: 0;left: 50%;z-index: 0;}#sk-container-id-1 div.sk-serial {display: flex;flex-direction: column;align-items: center;background-color: white;padding-right: 0.2em;padding-left: 0.2em;position: relative;}#sk-container-id-1 div.sk-item {position: relative;z-index: 1;}#sk-container-id-1 div.sk-parallel {display: flex;align-items: stretch;justify-content: center;background-color: white;position: relative;}#sk-container-id-1 div.sk-item::before, #sk-container-id-1 div.sk-parallel-item::before {content: \"\";position: absolute;border-left: 1px solid gray;box-sizing: border-box;top: 0;bottom: 0;left: 50%;z-index: -1;}#sk-container-id-1 div.sk-parallel-item {display: flex;flex-direction: column;z-index: 1;position: relative;background-color: white;}#sk-container-id-1 div.sk-parallel-item:first-child::after {align-self: flex-end;width: 50%;}#sk-container-id-1 div.sk-parallel-item:last-child::after {align-self: flex-start;width: 50%;}#sk-container-id-1 div.sk-parallel-item:only-child::after {width: 0;}#sk-container-id-1 div.sk-dashed-wrapped {border: 1px dashed gray;margin: 0 0.4em 0.5em 0.4em;box-sizing: border-box;padding-bottom: 0.4em;background-color: white;}#sk-container-id-1 div.sk-label label {font-family: monospace;font-weight: bold;display: inline-block;line-height: 1.2em;}#sk-container-id-1 div.sk-label-container {text-align: center;}#sk-container-id-1 div.sk-container {/* jupyter's `normalize.less` sets `[hidden] { display: none; }` but bootstrap.min.css set `[hidden] { display: none !important; }` so we also need the `!important` here to be able to override the default hidden behavior on the sphinx rendered scikit-learn.org. See: https://github.com/scikit-learn/scikit-learn/issues/21755 */display: inline-block !important;position: relative;}#sk-container-id-1 div.sk-text-repr-fallback {display: none;}</style><div id=\"sk-container-id-1\" class=\"sk-top-container\"><div class=\"sk-text-repr-fallback\"><pre>LinearRegression()</pre><b>In a Jupyter environment, please rerun this cell to show the HTML representation or trust the notebook. <br />On GitHub, the HTML representation is unable to render, please try loading this page with nbviewer.org.</b></div><div class=\"sk-container\" hidden><div class=\"sk-item\"><div class=\"sk-estimator sk-toggleable\"><input class=\"sk-toggleable__control sk-hidden--visually\" id=\"sk-estimator-id-1\" type=\"checkbox\" checked><label for=\"sk-estimator-id-1\" class=\"sk-toggleable__label sk-toggleable__label-arrow\">LinearRegression</label><div class=\"sk-toggleable__content\"><pre>LinearRegression()</pre></div></div></div></div></div>"
      ],
      "text/plain": [
       "LinearRegression()"
      ]
     },
     "execution_count": 30,
     "metadata": {},
     "output_type": "execute_result"
    }
   ],
   "source": [
    "# Linear Regression\n",
    "model.fit(x, y)\n",
    "LinearRegression()"
   ]
  },
  {
   "cell_type": "code",
   "execution_count": 31,
   "id": "8c15a361",
   "metadata": {
    "execution": {
     "iopub.execute_input": "2023-05-10T02:28:56.552731Z",
     "iopub.status.busy": "2023-05-10T02:28:56.552483Z",
     "iopub.status.idle": "2023-05-10T02:28:56.556318Z",
     "shell.execute_reply": "2023-05-10T02:28:56.555783Z"
    }
   },
   "outputs": [],
   "source": [
    "# Test Linear Regression\n",
    "model = LinearRegression().fit(x, y)"
   ]
  },
  {
   "cell_type": "code",
   "execution_count": 32,
   "id": "cb62dcbe",
   "metadata": {
    "execution": {
     "iopub.execute_input": "2023-05-10T02:28:56.559585Z",
     "iopub.status.busy": "2023-05-10T02:28:56.559167Z",
     "iopub.status.idle": "2023-05-10T02:28:56.562656Z",
     "shell.execute_reply": "2023-05-10T02:28:56.562210Z"
    }
   },
   "outputs": [
    {
     "name": "stdout",
     "output_type": "stream",
     "text": [
      "coefficient of determination: 0.715875613747954\n"
     ]
    }
   ],
   "source": [
    "# Test Linear Regression\n",
    "r_sq = model.score(x, y)\n",
    "print(f\"coefficient of determination: {r_sq}\")"
   ]
  },
  {
   "cell_type": "code",
   "execution_count": 33,
   "id": "62e7d7da",
   "metadata": {
    "execution": {
     "iopub.execute_input": "2023-05-10T02:28:56.564981Z",
     "iopub.status.busy": "2023-05-10T02:28:56.564837Z",
     "iopub.status.idle": "2023-05-10T02:28:56.567620Z",
     "shell.execute_reply": "2023-05-10T02:28:56.567208Z"
    }
   },
   "outputs": [
    {
     "name": "stdout",
     "output_type": "stream",
     "text": [
      "predicted response:\n",
      "[[ 8.33333333]\n",
      " [13.73333333]\n",
      " [19.13333333]\n",
      " [24.53333333]\n",
      " [29.93333333]\n",
      " [35.33333333]]\n"
     ]
    }
   ],
   "source": [
    "# Test Linear Regression\n",
    "print(f\"predicted response:\\n{y_pred}\")"
   ]
  },
  {
   "cell_type": "code",
   "execution_count": 34,
   "id": "b6efbb90",
   "metadata": {
    "execution": {
     "iopub.execute_input": "2023-05-10T02:28:56.569694Z",
     "iopub.status.busy": "2023-05-10T02:28:56.569521Z",
     "iopub.status.idle": "2023-05-10T02:28:56.573041Z",
     "shell.execute_reply": "2023-05-10T02:28:56.572631Z"
    }
   },
   "outputs": [
    {
     "name": "stdout",
     "output_type": "stream",
     "text": [
      "intercept: [5.63333333]\n"
     ]
    }
   ],
   "source": [
    "# Test Linear Regression\n",
    "new_model = LinearRegression().fit(x, y.reshape((-1, 1)))\n",
    "print(f\"intercept: {new_model.intercept_}\")"
   ]
  },
  {
   "cell_type": "code",
   "execution_count": 35,
   "id": "9bf3d10c",
   "metadata": {
    "execution": {
     "iopub.execute_input": "2023-05-10T02:28:56.575045Z",
     "iopub.status.busy": "2023-05-10T02:28:56.574902Z",
     "iopub.status.idle": "2023-05-10T02:28:56.577578Z",
     "shell.execute_reply": "2023-05-10T02:28:56.577239Z"
    },
    "lines_to_next_cell": 2
   },
   "outputs": [
    {
     "name": "stdout",
     "output_type": "stream",
     "text": [
      "slope: [[0.54]]\n"
     ]
    }
   ],
   "source": [
    "print(f\"slope: {new_model.coef_}\")"
   ]
  },
  {
   "cell_type": "code",
   "execution_count": 36,
   "id": "52faaecf",
   "metadata": {
    "execution": {
     "iopub.execute_input": "2023-05-10T02:28:56.579446Z",
     "iopub.status.busy": "2023-05-10T02:28:56.579291Z",
     "iopub.status.idle": "2023-05-10T02:28:56.582146Z",
     "shell.execute_reply": "2023-05-10T02:28:56.581835Z"
    }
   },
   "outputs": [
    {
     "data": {
      "text/plain": [
       "array([[0],\n",
       "       [1],\n",
       "       [2],\n",
       "       [3],\n",
       "       [4]])"
      ]
     },
     "execution_count": 36,
     "metadata": {},
     "output_type": "execute_result"
    }
   ],
   "source": [
    "# Test Linear Regression\n",
    "x_new = np.arange(5).reshape((-1, 1))\n",
    "x_new"
   ]
  },
  {
   "cell_type": "code",
   "execution_count": 37,
   "id": "4929de6c",
   "metadata": {
    "execution": {
     "iopub.execute_input": "2023-05-10T02:28:56.583881Z",
     "iopub.status.busy": "2023-05-10T02:28:56.583741Z",
     "iopub.status.idle": "2023-05-10T02:28:56.586143Z",
     "shell.execute_reply": "2023-05-10T02:28:56.585831Z"
    }
   },
   "outputs": [
    {
     "data": {
      "text/plain": [
       "array([[ 5],\n",
       "       [15],\n",
       "       [25],\n",
       "       [35],\n",
       "       [45],\n",
       "       [55]])"
      ]
     },
     "execution_count": 37,
     "metadata": {},
     "output_type": "execute_result"
    }
   ],
   "source": [
    "# Test Linear Regression\n",
    "x"
   ]
  },
  {
   "cell_type": "code",
   "execution_count": 38,
   "id": "328d0e04",
   "metadata": {
    "execution": {
     "iopub.execute_input": "2023-05-10T02:28:56.587864Z",
     "iopub.status.busy": "2023-05-10T02:28:56.587730Z",
     "iopub.status.idle": "2023-05-10T02:28:56.590172Z",
     "shell.execute_reply": "2023-05-10T02:28:56.589868Z"
    }
   },
   "outputs": [
    {
     "data": {
      "text/plain": [
       "array([ 5, 20, 14, 32, 22, 38])"
      ]
     },
     "execution_count": 38,
     "metadata": {},
     "output_type": "execute_result"
    }
   ],
   "source": [
    "# Test Linear Regression\n",
    "y"
   ]
  },
  {
   "cell_type": "code",
   "execution_count": 39,
   "id": "dafd3c90",
   "metadata": {
    "execution": {
     "iopub.execute_input": "2023-05-10T02:28:56.591805Z",
     "iopub.status.busy": "2023-05-10T02:28:56.591681Z",
     "iopub.status.idle": "2023-05-10T02:28:56.593941Z",
     "shell.execute_reply": "2023-05-10T02:28:56.593682Z"
    }
   },
   "outputs": [],
   "source": [
    "# Test Linear Regression\n",
    "model = LinearRegression().fit(x, y)"
   ]
  },
  {
   "cell_type": "code",
   "execution_count": 40,
   "id": "76ec5170",
   "metadata": {
    "execution": {
     "iopub.execute_input": "2023-05-10T02:28:56.595403Z",
     "iopub.status.busy": "2023-05-10T02:28:56.595297Z",
     "iopub.status.idle": "2023-05-10T02:28:56.597237Z",
     "shell.execute_reply": "2023-05-10T02:28:56.596988Z"
    }
   },
   "outputs": [],
   "source": [
    "# Test Linear Regression\n",
    "model = sm.OLS(y, x)"
   ]
  },
  {
   "cell_type": "code",
   "execution_count": 41,
   "id": "9c20b3d2",
   "metadata": {
    "execution": {
     "iopub.execute_input": "2023-05-10T02:28:56.598551Z",
     "iopub.status.busy": "2023-05-10T02:28:56.598455Z",
     "iopub.status.idle": "2023-05-10T02:28:56.600283Z",
     "shell.execute_reply": "2023-05-10T02:28:56.600029Z"
    }
   },
   "outputs": [],
   "source": [
    "# Test Linear Regression\n",
    "results = model.fit()"
   ]
  },
  {
   "cell_type": "code",
   "execution_count": 42,
   "id": "8005ff30",
   "metadata": {
    "execution": {
     "iopub.execute_input": "2023-05-10T02:28:56.601658Z",
     "iopub.status.busy": "2023-05-10T02:28:56.601552Z",
     "iopub.status.idle": "2023-05-10T02:28:56.607625Z",
     "shell.execute_reply": "2023-05-10T02:28:56.607354Z"
    },
    "lines_to_next_cell": 1
   },
   "outputs": [
    {
     "name": "stdout",
     "output_type": "stream",
     "text": [
      "                                 OLS Regression Results                                \n",
      "=======================================================================================\n",
      "Dep. Variable:                      y   R-squared (uncentered):                   0.930\n",
      "Model:                            OLS   Adj. R-squared (uncentered):              0.916\n",
      "Method:                 Least Squares   F-statistic:                              66.71\n",
      "Date:                Tue, 09 May 2023   Prob (F-statistic):                    0.000447\n",
      "Time:                        22:28:56   Log-Likelihood:                         -19.692\n",
      "No. Observations:                   6   AIC:                                      41.38\n",
      "Df Residuals:                       5   BIC:                                      41.18\n",
      "Df Model:                           1                                                  \n",
      "Covariance Type:            nonrobust                                                  \n",
      "==============================================================================\n",
      "                 coef    std err          t      P>|t|      [0.025      0.975]\n",
      "------------------------------------------------------------------------------\n",
      "x1             0.6818      0.083      8.167      0.000       0.467       0.896\n",
      "==============================================================================\n",
      "Omnibus:                          nan   Durbin-Watson:                   2.904\n",
      "Prob(Omnibus):                    nan   Jarque-Bera (JB):                0.334\n",
      "Skew:                          -0.137   Prob(JB):                        0.846\n",
      "Kurtosis:                       1.877   Cond. No.                         1.00\n",
      "==============================================================================\n",
      "\n",
      "Notes:\n",
      "[1] R² is computed without centering (uncentered) since the model does not contain a constant.\n",
      "[2] Standard Errors assume that the covariance matrix of the errors is correctly specified.\n"
     ]
    },
    {
     "name": "stderr",
     "output_type": "stream",
     "text": [
      "/opt/homebrew/lib/python3.9/site-packages/statsmodels/stats/stattools.py:74: ValueWarning: omni_normtest is not valid with less than 8 observations; 6 samples were given.\n",
      "  warn(\"omni_normtest is not valid with less than 8 observations; %i \"\n"
     ]
    }
   ],
   "source": [
    "# Test Linear Regression\n",
    "print(results.summary())"
   ]
  },
  {
   "cell_type": "markdown",
   "id": "d1ee7f13",
   "metadata": {},
   "source": [
    "VISUALIZE THE RESULTS\n",
    "CREDIT: ASK PYTHON\n",
    "PLOT GRAPHS USING MATPLOTLIB\n",
    "PLOT for the TRAIN"
   ]
  },
  {
   "cell_type": "code",
   "execution_count": 43,
   "id": "02555c37",
   "metadata": {
    "execution": {
     "iopub.execute_input": "2023-05-10T02:28:56.609207Z",
     "iopub.status.busy": "2023-05-10T02:28:56.609106Z",
     "iopub.status.idle": "2023-05-10T02:28:56.611553Z",
     "shell.execute_reply": "2023-05-10T02:28:56.611269Z"
    }
   },
   "outputs": [
    {
     "ename": "SyntaxError",
     "evalue": "invalid syntax (533664152.py, line 1)",
     "output_type": "error",
     "traceback": [
      "\u001b[0;36m  Cell \u001b[0;32mIn [43], line 1\u001b[0;36m\u001b[0m\n\u001b[0;31m    def plot_regression\u001b[0m\n\u001b[0m                       ^\u001b[0m\n\u001b[0;31mSyntaxError\u001b[0m\u001b[0;31m:\u001b[0m invalid syntax\n"
     ]
    }
   ],
   "source": [
    "def plot_regression\n",
    "plt.scatter(X_train, y_train, color='red') #plotting the observation line"
   ]
  },
  {
   "cell_type": "code",
   "execution_count": 44,
   "id": "711258ee",
   "metadata": {
    "execution": {
     "iopub.execute_input": "2023-05-10T02:28:56.613206Z",
     "iopub.status.busy": "2023-05-10T02:28:56.613088Z",
     "iopub.status.idle": "2023-05-10T02:28:56.689320Z",
     "shell.execute_reply": "2023-05-10T02:28:56.688985Z"
    }
   },
   "outputs": [
    {
     "ename": "NameError",
     "evalue": "name 'X_train' is not defined",
     "output_type": "error",
     "traceback": [
      "\u001b[0;31m---------------------------------------------------------------------------\u001b[0m",
      "\u001b[0;31mNameError\u001b[0m                                 Traceback (most recent call last)",
      "Cell \u001b[0;32mIn [44], line 1\u001b[0m\n\u001b[0;32m----> 1\u001b[0m plt\u001b[38;5;241m.\u001b[39mplot(\u001b[43mX_train\u001b[49m, regressor\u001b[38;5;241m.\u001b[39mpredict(X_train), color\u001b[38;5;241m=\u001b[39m\u001b[38;5;124m'\u001b[39m\u001b[38;5;124mblue\u001b[39m\u001b[38;5;124m'\u001b[39m) \u001b[38;5;66;03m#plotting the regression line\u001b[39;00m\n",
      "\u001b[0;31mNameError\u001b[0m: name 'X_train' is not defined"
     ]
    }
   ],
   "source": [
    "plt.plot(X_train, regressor.predict(X_train), color='blue') #plotting the regression line"
   ]
  },
  {
   "cell_type": "code",
   "execution_count": 45,
   "id": "f73ed5b0",
   "metadata": {
    "execution": {
     "iopub.execute_input": "2023-05-10T02:28:56.691179Z",
     "iopub.status.busy": "2023-05-10T02:28:56.691003Z",
     "iopub.status.idle": "2023-05-10T02:28:56.693263Z",
     "shell.execute_reply": "2023-05-10T02:28:56.693016Z"
    }
   },
   "outputs": [
    {
     "ename": "SyntaxError",
     "evalue": "invalid syntax (2093449847.py, line 1)",
     "output_type": "error",
     "traceback": [
      "\u001b[0;36m  Cell \u001b[0;32mIn [45], line 1\u001b[0;36m\u001b[0m\n\u001b[0;31m    plt.title('Week_number') vs (\"uu_Id\"(Training Set))\u001b[0m\n\u001b[0m                             ^\u001b[0m\n\u001b[0;31mSyntaxError\u001b[0m\u001b[0;31m:\u001b[0m invalid syntax\n"
     ]
    }
   ],
   "source": [
    "plt.title('Week_number') vs (\"uu_Id\"(Training Set)) \n",
    "# stating the title of the graph"
   ]
  },
  {
   "cell_type": "code",
   "execution_count": 46,
   "id": "aa192b26",
   "metadata": {
    "execution": {
     "iopub.execute_input": "2023-05-10T02:28:56.694669Z",
     "iopub.status.busy": "2023-05-10T02:28:56.694569Z",
     "iopub.status.idle": "2023-05-10T02:28:56.780133Z",
     "shell.execute_reply": "2023-05-10T02:28:56.779385Z"
    },
    "lines_to_next_cell": 1
   },
   "outputs": [
    {
     "data": {
      "image/png": "[encoded data removed]",
      "text/plain": [
       "<Figure size 640x480 with 1 Axes>"
      ]
     },
     "metadata": {},
     "output_type": "display_data"
    }
   ],
   "source": [
    "plt.xlabel('Week_Number') #adding the name of x-axis\n",
    "plt.ylabel('uu_Id') #adding the name of y-axis\n",
    "plt.show() #specifies end of graph"
   ]
  },
  {
   "cell_type": "markdown",
   "id": "e6de14e8",
   "metadata": {},
   "source": [
    "Build a linear model"
   ]
  },
  {
   "cell_type": "code",
   "execution_count": 47,
   "id": "f85964aa",
   "metadata": {
    "execution": {
     "iopub.execute_input": "2023-05-10T02:28:56.790640Z",
     "iopub.status.busy": "2023-05-10T02:28:56.787294Z",
     "iopub.status.idle": "2023-05-10T02:28:56.797737Z",
     "shell.execute_reply": "2023-05-10T02:28:56.797052Z"
    },
    "lines_to_next_cell": 1
   },
   "outputs": [],
   "source": [
    "def plot_regression(d):    \n",
    "    e = d.loc[:, COL_MAP['edu'] + ['total_claims']].reset_index(0, drop=True)\n",
    "    e = e.fillna(0)\n",
    "    X = e[COL_MAP['edu']]\n",
    "    y = e['total_claims']\n",
    "    model = sklearn.linear_model.LinearRegression()\n",
    "    model.fit(X, y)\n",
    "    fig, ax = plt.subplots()\n",
    "    ax.plot(X.index, model.predict(X), label='predict')\n",
    "    ax.plot(X.index, y, label='observed', ls='--')\n",
    "    ax.legend()\n",
    "    ax.set_xlabel('index')\n",
    "    ax.set_ylabel('total_claims')"
   ]
  },
  {
   "cell_type": "code",
   "execution_count": 48,
   "id": "cf23be27",
   "metadata": {
    "execution": {
     "iopub.execute_input": "2023-05-10T02:28:56.801139Z",
     "iopub.status.busy": "2023-05-10T02:28:56.800856Z",
     "iopub.status.idle": "2023-05-10T02:28:56.816301Z",
     "shell.execute_reply": "2023-05-10T02:28:56.815524Z"
    },
    "lines_to_next_cell": 1
   },
   "outputs": [
    {
     "ename": "NameError",
     "evalue": "name 'd' is not defined",
     "output_type": "error",
     "traceback": [
      "\u001b[0;31m---------------------------------------------------------------------------\u001b[0m",
      "\u001b[0;31mNameError\u001b[0m                                 Traceback (most recent call last)",
      "Cell \u001b[0;32mIn [48], line 1\u001b[0m\n\u001b[0;32m----> 1\u001b[0m plot_regression(\u001b[43md\u001b[49m)\n",
      "\u001b[0;31mNameError\u001b[0m: name 'd' is not defined"
     ]
    }
   ],
   "source": [
    "plot_regression(d)"
   ]
  },
  {
   "cell_type": "markdown",
   "id": "e0e8f8b0",
   "metadata": {},
   "source": [
    "Build a linear model"
   ]
  },
  {
   "cell_type": "code",
   "execution_count": 49,
   "id": "077ad9cf",
   "metadata": {
    "execution": {
     "iopub.execute_input": "2023-05-10T02:28:56.820382Z",
     "iopub.status.busy": "2023-05-10T02:28:56.819670Z",
     "iopub.status.idle": "2023-05-10T02:28:56.824709Z",
     "shell.execute_reply": "2023-05-10T02:28:56.824025Z"
    },
    "lines_to_next_cell": 1
   },
   "outputs": [],
   "source": [
    "def load_imp_industry(csv_name='4_imp_industry.csv'):\n",
    "    if not os.path.isfile(csv_name):\n",
    "        d = load_clean()\n",
    "        d = d.groupby('uu_id').apply(impute_industry).reset_index(0, drop=True)\n",
    "        d.to_csv(csv_name, index=False)\n",
    "    else:\n",
    "        d = pd.read_csv(csv_name)\n",
    "    return d"
   ]
  },
  {
   "cell_type": "code",
   "execution_count": 50,
   "id": "b3bb21c6",
   "metadata": {
    "execution": {
     "iopub.execute_input": "2023-05-10T02:28:56.828084Z",
     "iopub.status.busy": "2023-05-10T02:28:56.827786Z",
     "iopub.status.idle": "2023-05-10T02:28:56.868851Z",
     "shell.execute_reply": "2023-05-10T02:28:56.868006Z"
    },
    "lines_to_next_cell": 1
   },
   "outputs": [],
   "source": [
    "d = load_imp_industry()\n",
    "d\n",
    "def plot_regression(d):    \n",
    "    e = d.loc[:, COL_MAP['edu'] + ['total_claims']].reset_index(0, drop=True)\n",
    "    e = e.fillna(0)\n",
    "    X = e[COL_MAP['edu']]\n",
    "    y = e['total_claims']\n",
    "    model = sklearn.linear_model.LinearRegression()\n",
    "    model.fit(X, y)\n",
    "    fig, ax = plt.subplots()\n",
    "    ax.plot(X.index, model.predict(X), label='predict')\n",
    "    ax.plot(X.index, y, label='observed', ls='--')\n",
    "    ax.legend()\n",
    "    ax.set_xlabel('index')\n",
    "    ax.set_ylabel('total_claims')"
   ]
  },
  {
   "cell_type": "code",
   "execution_count": 51,
   "id": "cf5ef1f0",
   "metadata": {
    "execution": {
     "iopub.execute_input": "2023-05-10T02:28:56.875302Z",
     "iopub.status.busy": "2023-05-10T02:28:56.874923Z",
     "iopub.status.idle": "2023-05-10T02:28:56.910704Z",
     "shell.execute_reply": "2023-05-10T02:28:56.909752Z"
    }
   },
   "outputs": [
    {
     "ename": "NameError",
     "evalue": "name 'COL_MAP' is not defined",
     "output_type": "error",
     "traceback": [
      "\u001b[0;31m---------------------------------------------------------------------------\u001b[0m",
      "\u001b[0;31mNameError\u001b[0m                                 Traceback (most recent call last)",
      "Cell \u001b[0;32mIn [51], line 1\u001b[0m\n\u001b[0;32m----> 1\u001b[0m \u001b[43mplot_regression\u001b[49m\u001b[43m(\u001b[49m\u001b[43md\u001b[49m\u001b[43m)\u001b[49m\n",
      "Cell \u001b[0;32mIn [50], line 4\u001b[0m, in \u001b[0;36mplot_regression\u001b[0;34m(d)\u001b[0m\n\u001b[1;32m      3\u001b[0m \u001b[38;5;28;01mdef\u001b[39;00m \u001b[38;5;21mplot_regression\u001b[39m(d):    \n\u001b[0;32m----> 4\u001b[0m     e \u001b[38;5;241m=\u001b[39m d\u001b[38;5;241m.\u001b[39mloc[:, \u001b[43mCOL_MAP\u001b[49m[\u001b[38;5;124m'\u001b[39m\u001b[38;5;124medu\u001b[39m\u001b[38;5;124m'\u001b[39m] \u001b[38;5;241m+\u001b[39m [\u001b[38;5;124m'\u001b[39m\u001b[38;5;124mtotal_claims\u001b[39m\u001b[38;5;124m'\u001b[39m]]\u001b[38;5;241m.\u001b[39mreset_index(\u001b[38;5;241m0\u001b[39m, drop\u001b[38;5;241m=\u001b[39m\u001b[38;5;28;01mTrue\u001b[39;00m)\n\u001b[1;32m      5\u001b[0m     e \u001b[38;5;241m=\u001b[39m e\u001b[38;5;241m.\u001b[39mfillna(\u001b[38;5;241m0\u001b[39m)\n\u001b[1;32m      6\u001b[0m     X \u001b[38;5;241m=\u001b[39m e[COL_MAP[\u001b[38;5;124m'\u001b[39m\u001b[38;5;124medu\u001b[39m\u001b[38;5;124m'\u001b[39m]]\n",
      "\u001b[0;31mNameError\u001b[0m: name 'COL_MAP' is not defined"
     ]
    }
   ],
   "source": [
    "plot_regression(d)"
   ]
  },
  {
   "cell_type": "markdown",
   "id": "a0ef0b47",
   "metadata": {},
   "source": [
    "Build a linear model"
   ]
  },
  {
   "cell_type": "code",
   "execution_count": 52,
   "id": "e538d856",
   "metadata": {
    "execution": {
     "iopub.execute_input": "2023-05-10T02:28:56.915866Z",
     "iopub.status.busy": "2023-05-10T02:28:56.915391Z",
     "iopub.status.idle": "2023-05-10T02:28:56.929635Z",
     "shell.execute_reply": "2023-05-10T02:28:56.928864Z"
    },
    "lines_to_next_cell": 1
   },
   "outputs": [
    {
     "ename": "IndentationError",
     "evalue": "unindent does not match any outer indentation level (<tokenize>, line 3)",
     "output_type": "error",
     "traceback": [
      "\u001b[0;36m  File \u001b[0;32m<tokenize>:3\u001b[0;36m\u001b[0m\n\u001b[0;31m    g.loc[~mask_train, ycols] = yhat\u001b[0m\n\u001b[0m    ^\u001b[0m\n\u001b[0;31mIndentationError\u001b[0m\u001b[0;31m:\u001b[0m unindent does not match any outer indentation level\n"
     ]
    }
   ],
   "source": [
    "sklearn.linear_model.LogisticRegression(multi_class='multinomial', solver='lbfgs', max_iter=10000).fit(x_train, y_train.values.ravel())\n",
    "        yhat = model.predict(x_test)\n",
    "    g.loc[~mask_train, ycols] = yhat\n",
    "    return g[ycol]"
   ]
  },
  {
   "cell_type": "code",
   "execution_count": 53,
   "id": "d5bf4e83",
   "metadata": {
    "execution": {
     "iopub.execute_input": "2023-05-10T02:28:56.943117Z",
     "iopub.status.busy": "2023-05-10T02:28:56.942651Z",
     "iopub.status.idle": "2023-05-10T02:28:56.948519Z",
     "shell.execute_reply": "2023-05-10T02:28:56.947721Z"
    },
    "lines_to_next_cell": 1
   },
   "outputs": [],
   "source": [
    "def impute_industry(g, max_week_number=37):\n",
    "    g = g.loc[g.week_number <= max_week_number, :]\n",
    "    x = g.copy()\n",
    "    for colname in COL_MAP['industry']:\n",
    "        x[colname] = impute_logistic(g, colname)\n",
    "    return x"
   ]
  },
  {
   "cell_type": "code",
   "execution_count": 54,
   "id": "67dff3d0",
   "metadata": {
    "execution": {
     "iopub.execute_input": "2023-05-10T02:28:56.960485Z",
     "iopub.status.busy": "2023-05-10T02:28:56.959829Z",
     "iopub.status.idle": "2023-05-10T02:28:56.967253Z",
     "shell.execute_reply": "2023-05-10T02:28:56.966233Z"
    },
    "lines_to_next_cell": 1
   },
   "outputs": [],
   "source": [
    "def load_imp_industry(csv_name='4_imp_industry.csv'):\n",
    "    if not os.path.isfile(csv_name):\n",
    "        d = load_clean()\n",
    "        d = d.groupby('uu_id').apply(impute_industry).reset_index(0, drop=True)\n",
    "        d.to_csv(csv_name, index=False)\n",
    "    else:\n",
    "        d = pd.read_csv(csv_name)\n",
    "    return d"
   ]
  },
  {
   "cell_type": "code",
   "execution_count": 55,
   "id": "2324be04",
   "metadata": {
    "execution": {
     "iopub.execute_input": "2023-05-10T02:28:56.973779Z",
     "iopub.status.busy": "2023-05-10T02:28:56.973629Z",
     "iopub.status.idle": "2023-05-10T02:28:57.001728Z",
     "shell.execute_reply": "2023-05-10T02:28:57.001414Z"
    },
    "lines_to_next_cell": 1
   },
   "outputs": [],
   "source": [
    "d = load_imp_industry()\n",
    "d\n",
    "def plot_regression(d):    \n",
    "    e = d.loc[:, COL_MAP['edu'] + ['total_claims']].reset_index(0, drop=True)\n",
    "    e = e.fillna(0)\n",
    "    X = e[COL_MAP['edu']]\n",
    "    y = e['total_claims']\n",
    "    model = sklearn.linear_model.LinearRegression()\n",
    "    model.fit(X, y)\n",
    "    fig, ax = plt.subplots()\n",
    "    ax.plot(X.index, model.predict(X), label='predict')\n",
    "    ax.plot(X.index, y, label='observed', ls='--')\n",
    "    ax.legend()\n",
    "    ax.set_xlabel('index')\n",
    "    ax.set_ylabel('total_claims')"
   ]
  },
  {
   "cell_type": "code",
   "execution_count": 56,
   "id": "47bd89ea",
   "metadata": {
    "execution": {
     "iopub.execute_input": "2023-05-10T02:28:57.003421Z",
     "iopub.status.busy": "2023-05-10T02:28:57.003331Z",
     "iopub.status.idle": "2023-05-10T02:28:57.014481Z",
     "shell.execute_reply": "2023-05-10T02:28:57.014239Z"
    },
    "lines_to_next_cell": 1
   },
   "outputs": [
    {
     "ename": "NameError",
     "evalue": "name 'COL_MAP' is not defined",
     "output_type": "error",
     "traceback": [
      "\u001b[0;31m---------------------------------------------------------------------------\u001b[0m",
      "\u001b[0;31mNameError\u001b[0m                                 Traceback (most recent call last)",
      "Cell \u001b[0;32mIn [57], line 1\u001b[0m\n\u001b[0;32m----> 1\u001b[0m \u001b[43mplot_regression\u001b[49m\u001b[43m(\u001b[49m\u001b[43md\u001b[49m\u001b[43m)\u001b[49m\n",
      "Cell \u001b[0;32mIn [56], line 4\u001b[0m, in \u001b[0;36mplot_regression\u001b[0;34m(d)\u001b[0m\n\u001b[1;32m      3\u001b[0m \u001b[38;5;28;01mdef\u001b[39;00m \u001b[38;5;21mplot_regression\u001b[39m(d):    \n\u001b[0;32m----> 4\u001b[0m     e \u001b[38;5;241m=\u001b[39m d\u001b[38;5;241m.\u001b[39mloc[:, \u001b[43mCOL_MAP\u001b[49m[\u001b[38;5;124m'\u001b[39m\u001b[38;5;124medu\u001b[39m\u001b[38;5;124m'\u001b[39m] \u001b[38;5;241m+\u001b[39m [\u001b[38;5;124m'\u001b[39m\u001b[38;5;124mtotal_claims\u001b[39m\u001b[38;5;124m'\u001b[39m]]\u001b[38;5;241m.\u001b[39mreset_index(\u001b[38;5;241m0\u001b[39m, drop\u001b[38;5;241m=\u001b[39m\u001b[38;5;28;01mTrue\u001b[39;00m)\n\u001b[1;32m      5\u001b[0m     e \u001b[38;5;241m=\u001b[39m e\u001b[38;5;241m.\u001b[39mfillna(\u001b[38;5;241m0\u001b[39m)\n\u001b[1;32m      6\u001b[0m     X \u001b[38;5;241m=\u001b[39m e[COL_MAP[\u001b[38;5;124m'\u001b[39m\u001b[38;5;124medu\u001b[39m\u001b[38;5;124m'\u001b[39m]]\n",
      "\u001b[0;31mNameError\u001b[0m: name 'COL_MAP' is not defined"
     ]
    }
   ],
   "source": [
    "plot_regression(d)"
   ]
  },
  {
   "cell_type": "markdown",
   "id": "c645910e",
   "metadata": {},
   "source": [
    "Build a linear model"
   ]
  },
  {
   "cell_type": "code",
   "execution_count": 57,
   "id": "4e0cbc87",
   "metadata": {
    "execution": {
     "iopub.execute_input": "2023-05-10T02:28:57.015887Z",
     "iopub.status.busy": "2023-05-10T02:28:57.015796Z",
     "iopub.status.idle": "2023-05-10T02:28:57.019064Z",
     "shell.execute_reply": "2023-05-10T02:28:57.018829Z"
    },
    "lines_to_next_cell": 1
   },
   "outputs": [
    {
     "ename": "SyntaxError",
     "evalue": "invalid syntax (2105669826.py, line 18)",
     "output_type": "error",
     "traceback": [
      "\u001b[0;36m  Cell \u001b[0;32mIn [58], line 18\u001b[0;36m\u001b[0m\n\u001b[0;31m    model =\u001b[0m\n\u001b[0m            ^\u001b[0m\n\u001b[0;31mSyntaxError\u001b[0m\u001b[0;31m:\u001b[0m invalid syntax\n"
     ]
    }
   ],
   "source": [
    "def impute_logistic(g, ycol):\n",
    "    g = g[[ycol, 'week_number', 'total_claims']]\n",
    "    xcols = ['week_number', 'total_claims']\n",
    "    ycols = [ycol]\n",
    "    \n",
    "    mask_train = ~g[ycol].isnull()\n",
    "    x_train, x_test = g.loc[mask_train, xcols], g.loc[~mask_train, xcols]\n",
    "    y_train, y_test = g.loc[mask_train, ycols], g.loc[~mask_train, ycols]\n",
    "    \n",
    "    if y_train.shape[0] == 0:\n",
    "        g[ycol] = None\n",
    "        return g[ycol]\n",
    "    \n",
    "    classes = y_train[ycol].unique()\n",
    "    if len(classes) == 1:\n",
    "        yhat = [classes[0]]\n",
    "    else:\n",
    "        model = \n",
    "        sklearn.linear_model.LogisticRegression(multi_class='multinomial', solver='lbfgs', max_iter=10000).fit(x_train, y_train.values.ravel())\n",
    "        yhat = model.predict(x_test)\n",
    "    g.loc[~mask_train, ycols] = yhat\n",
    "    return g[ycol]"
   ]
  },
  {
   "cell_type": "code",
   "execution_count": 58,
   "id": "38a0fc92",
   "metadata": {
    "execution": {
     "iopub.execute_input": "2023-05-10T02:28:57.020423Z",
     "iopub.status.busy": "2023-05-10T02:28:57.020341Z",
     "iopub.status.idle": "2023-05-10T02:28:57.022334Z",
     "shell.execute_reply": "2023-05-10T02:28:57.022077Z"
    },
    "lines_to_next_cell": 1
   },
   "outputs": [],
   "source": [
    "def impute_industry(g, max_week_number=37):\n",
    "    g = g.loc[g.week_number <= max_week_number, :]\n",
    "    x = g.copy()\n",
    "    for colname in COL_MAP['industry']:\n",
    "        x[colname] = impute_logistic(g, colname)\n",
    "    return x"
   ]
  },
  {
   "cell_type": "code",
   "execution_count": 59,
   "id": "8649f890",
   "metadata": {
    "execution": {
     "iopub.execute_input": "2023-05-10T02:28:57.023991Z",
     "iopub.status.busy": "2023-05-10T02:28:57.023882Z",
     "iopub.status.idle": "2023-05-10T02:28:57.026954Z",
     "shell.execute_reply": "2023-05-10T02:28:57.025995Z"
    },
    "lines_to_next_cell": 1
   },
   "outputs": [],
   "source": [
    "def load_imp_industry(csv_name='4_imp_industry.csv'):\n",
    "    if not os.path.isfile(csv_name):\n",
    "        d = load_clean()\n",
    "        d = d.groupby('uu_id').apply(impute_industry).reset_index(0, drop=True)\n",
    "        d.to_csv(csv_name, index=False)\n",
    "    else:\n",
    "        d = pd.read_csv(csv_name)\n",
    "    return d"
   ]
  },
  {
   "cell_type": "code",
   "execution_count": 60,
   "id": "328495a1",
   "metadata": {
    "execution": {
     "iopub.execute_input": "2023-05-10T02:28:57.028589Z",
     "iopub.status.busy": "2023-05-10T02:28:57.028478Z",
     "iopub.status.idle": "2023-05-10T02:28:57.054782Z",
     "shell.execute_reply": "2023-05-10T02:28:57.054508Z"
    },
    "lines_to_next_cell": 1
   },
   "outputs": [],
   "source": [
    "d = load_imp_industry()\n",
    "d\n",
    "def plot_regression(d):    \n",
    "    e = d.loc[:, COL_MAP['edu'] + ['total_claims']].reset_index(0, drop=True)\n",
    "    e = e.fillna(0)\n",
    "    X = e[COL_MAP['edu']]\n",
    "    y = e['total_claims']\n",
    "    model = sklearn.linear_model.LinearRegression()\n",
    "    model.fit(X, y)\n",
    "    fig, ax = plt.subplots()\n",
    "    ax.plot(X.index, model.predict(X), label='predict')\n",
    "    ax.plot(X.index, y, label='observed', ls='--')\n",
    "    ax.legend()\n",
    "    ax.set_xlabel('index')\n",
    "    ax.set_ylabel('total_claims')"
   ]
  },
  {
   "cell_type": "code",
   "execution_count": 61,
   "id": "94f0bb9e",
   "metadata": {
    "execution": {
     "iopub.execute_input": "2023-05-10T02:28:57.056486Z",
     "iopub.status.busy": "2023-05-10T02:28:57.056394Z",
     "iopub.status.idle": "2023-05-10T02:28:57.066861Z",
     "shell.execute_reply": "2023-05-10T02:28:57.066608Z"
    }
   },
   "outputs": [
    {
     "ename": "NameError",
     "evalue": "name 'COL_MAP' is not defined",
     "output_type": "error",
     "traceback": [
      "\u001b[0;31m---------------------------------------------------------------------------\u001b[0m",
      "\u001b[0;31mNameError\u001b[0m                                 Traceback (most recent call last)",
      "Cell \u001b[0;32mIn [62], line 1\u001b[0m\n\u001b[0;32m----> 1\u001b[0m \u001b[43mplot_regression\u001b[49m\u001b[43m(\u001b[49m\u001b[43md\u001b[49m\u001b[43m)\u001b[49m\n",
      "Cell \u001b[0;32mIn [61], line 4\u001b[0m, in \u001b[0;36mplot_regression\u001b[0;34m(d)\u001b[0m\n\u001b[1;32m      3\u001b[0m \u001b[38;5;28;01mdef\u001b[39;00m \u001b[38;5;21mplot_regression\u001b[39m(d):    \n\u001b[0;32m----> 4\u001b[0m     e \u001b[38;5;241m=\u001b[39m d\u001b[38;5;241m.\u001b[39mloc[:, \u001b[43mCOL_MAP\u001b[49m[\u001b[38;5;124m'\u001b[39m\u001b[38;5;124medu\u001b[39m\u001b[38;5;124m'\u001b[39m] \u001b[38;5;241m+\u001b[39m [\u001b[38;5;124m'\u001b[39m\u001b[38;5;124mtotal_claims\u001b[39m\u001b[38;5;124m'\u001b[39m]]\u001b[38;5;241m.\u001b[39mreset_index(\u001b[38;5;241m0\u001b[39m, drop\u001b[38;5;241m=\u001b[39m\u001b[38;5;28;01mTrue\u001b[39;00m)\n\u001b[1;32m      5\u001b[0m     e \u001b[38;5;241m=\u001b[39m e\u001b[38;5;241m.\u001b[39mfillna(\u001b[38;5;241m0\u001b[39m)\n\u001b[1;32m      6\u001b[0m     X \u001b[38;5;241m=\u001b[39m e[COL_MAP[\u001b[38;5;124m'\u001b[39m\u001b[38;5;124medu\u001b[39m\u001b[38;5;124m'\u001b[39m]]\n",
      "\u001b[0;31mNameError\u001b[0m: name 'COL_MAP' is not defined"
     ]
    }
   ],
   "source": [
    "plot_regression(d)"
   ]
  },
  {
   "cell_type": "code",
   "execution_count": 62,
   "id": "2c96d934",
   "metadata": {
    "execution": {
     "iopub.execute_input": "2023-05-10T02:28:57.068244Z",
     "iopub.status.busy": "2023-05-10T02:28:57.068164Z",
     "iopub.status.idle": "2023-05-10T02:28:57.069837Z",
     "shell.execute_reply": "2023-05-10T02:28:57.069575Z"
    }
   },
   "outputs": [],
   "source": [
    "# Importing necessary libraries\n",
    "import numpy as np\n",
    "import pandas as pd"
   ]
  },
  {
   "cell_type": "code",
   "execution_count": 63,
   "id": "9f05e56d",
   "metadata": {
    "execution": {
     "iopub.execute_input": "2023-05-10T02:28:57.071231Z",
     "iopub.status.busy": "2023-05-10T02:28:57.071150Z",
     "iopub.status.idle": "2023-05-10T02:28:57.284443Z",
     "shell.execute_reply": "2023-05-10T02:28:57.284142Z"
    },
    "lines_to_next_cell": 1
   },
   "outputs": [
    {
     "ename": "FileNotFoundError",
     "evalue": "[Errno 2] No such file or directory: 'Housing.csv'",
     "output_type": "error",
     "traceback": [
      "\u001b[0;31m---------------------------------------------------------------------------\u001b[0m",
      "\u001b[0;31mFileNotFoundError\u001b[0m                         Traceback (most recent call last)",
      "Cell \u001b[0;32mIn [64], line 1\u001b[0m\n\u001b[0;32m----> 1\u001b[0m housing \u001b[38;5;241m=\u001b[39m \u001b[43mpd\u001b[49m\u001b[38;5;241;43m.\u001b[39;49m\u001b[43mread_csv\u001b[49m\u001b[43m(\u001b[49m\u001b[38;5;124;43m\"\u001b[39;49m\u001b[38;5;124;43mHousing.csv\u001b[39;49m\u001b[38;5;124;43m\"\u001b[39;49m\u001b[43m)\u001b[49m\n\u001b[1;32m      2\u001b[0m housing\u001b[38;5;241m.\u001b[39mhead()\n",
      "File \u001b[0;32m/opt/homebrew/lib/python3.9/site-packages/pandas/util/_decorators.py:211\u001b[0m, in \u001b[0;36mdeprecate_kwarg.<locals>._deprecate_kwarg.<locals>.wrapper\u001b[0;34m(*args, **kwargs)\u001b[0m\n\u001b[1;32m    209\u001b[0m     \u001b[38;5;28;01melse\u001b[39;00m:\n\u001b[1;32m    210\u001b[0m         kwargs[new_arg_name] \u001b[38;5;241m=\u001b[39m new_arg_value\n\u001b[0;32m--> 211\u001b[0m \u001b[38;5;28;01mreturn\u001b[39;00m \u001b[43mfunc\u001b[49m\u001b[43m(\u001b[49m\u001b[38;5;241;43m*\u001b[39;49m\u001b[43margs\u001b[49m\u001b[43m,\u001b[49m\u001b[43m \u001b[49m\u001b[38;5;241;43m*\u001b[39;49m\u001b[38;5;241;43m*\u001b[39;49m\u001b[43mkwargs\u001b[49m\u001b[43m)\u001b[49m\n",
      "File \u001b[0;32m/opt/homebrew/lib/python3.9/site-packages/pandas/util/_decorators.py:331\u001b[0m, in \u001b[0;36mdeprecate_nonkeyword_arguments.<locals>.decorate.<locals>.wrapper\u001b[0;34m(*args, **kwargs)\u001b[0m\n\u001b[1;32m    325\u001b[0m \u001b[38;5;28;01mif\u001b[39;00m \u001b[38;5;28mlen\u001b[39m(args) \u001b[38;5;241m>\u001b[39m num_allow_args:\n\u001b[1;32m    326\u001b[0m     warnings\u001b[38;5;241m.\u001b[39mwarn(\n\u001b[1;32m    327\u001b[0m         msg\u001b[38;5;241m.\u001b[39mformat(arguments\u001b[38;5;241m=\u001b[39m_format_argument_list(allow_args)),\n\u001b[1;32m    328\u001b[0m         \u001b[38;5;167;01mFutureWarning\u001b[39;00m,\n\u001b[1;32m    329\u001b[0m         stacklevel\u001b[38;5;241m=\u001b[39mfind_stack_level(),\n\u001b[1;32m    330\u001b[0m     )\n\u001b[0;32m--> 331\u001b[0m \u001b[38;5;28;01mreturn\u001b[39;00m \u001b[43mfunc\u001b[49m\u001b[43m(\u001b[49m\u001b[38;5;241;43m*\u001b[39;49m\u001b[43margs\u001b[49m\u001b[43m,\u001b[49m\u001b[43m \u001b[49m\u001b[38;5;241;43m*\u001b[39;49m\u001b[38;5;241;43m*\u001b[39;49m\u001b[43mkwargs\u001b[49m\u001b[43m)\u001b[49m\n",
      "File \u001b[0;32m/opt/homebrew/lib/python3.9/site-packages/pandas/io/parsers/readers.py:950\u001b[0m, in \u001b[0;36mread_csv\u001b[0;34m(filepath_or_buffer, sep, delimiter, header, names, index_col, usecols, squeeze, prefix, mangle_dupe_cols, dtype, engine, converters, true_values, false_values, skipinitialspace, skiprows, skipfooter, nrows, na_values, keep_default_na, na_filter, verbose, skip_blank_lines, parse_dates, infer_datetime_format, keep_date_col, date_parser, dayfirst, cache_dates, iterator, chunksize, compression, thousands, decimal, lineterminator, quotechar, quoting, doublequote, escapechar, comment, encoding, encoding_errors, dialect, error_bad_lines, warn_bad_lines, on_bad_lines, delim_whitespace, low_memory, memory_map, float_precision, storage_options)\u001b[0m\n\u001b[1;32m    935\u001b[0m kwds_defaults \u001b[38;5;241m=\u001b[39m _refine_defaults_read(\n\u001b[1;32m    936\u001b[0m     dialect,\n\u001b[1;32m    937\u001b[0m     delimiter,\n\u001b[0;32m   (...)\u001b[0m\n\u001b[1;32m    946\u001b[0m     defaults\u001b[38;5;241m=\u001b[39m{\u001b[38;5;124m\"\u001b[39m\u001b[38;5;124mdelimiter\u001b[39m\u001b[38;5;124m\"\u001b[39m: \u001b[38;5;124m\"\u001b[39m\u001b[38;5;124m,\u001b[39m\u001b[38;5;124m\"\u001b[39m},\n\u001b[1;32m    947\u001b[0m )\n\u001b[1;32m    948\u001b[0m kwds\u001b[38;5;241m.\u001b[39mupdate(kwds_defaults)\n\u001b[0;32m--> 950\u001b[0m \u001b[38;5;28;01mreturn\u001b[39;00m \u001b[43m_read\u001b[49m\u001b[43m(\u001b[49m\u001b[43mfilepath_or_buffer\u001b[49m\u001b[43m,\u001b[49m\u001b[43m \u001b[49m\u001b[43mkwds\u001b[49m\u001b[43m)\u001b[49m\n",
      "File \u001b[0;32m/opt/homebrew/lib/python3.9/site-packages/pandas/io/parsers/readers.py:605\u001b[0m, in \u001b[0;36m_read\u001b[0;34m(filepath_or_buffer, kwds)\u001b[0m\n\u001b[1;32m    602\u001b[0m _validate_names(kwds\u001b[38;5;241m.\u001b[39mget(\u001b[38;5;124m\"\u001b[39m\u001b[38;5;124mnames\u001b[39m\u001b[38;5;124m\"\u001b[39m, \u001b[38;5;28;01mNone\u001b[39;00m))\n\u001b[1;32m    604\u001b[0m \u001b[38;5;66;03m# Create the parser.\u001b[39;00m\n\u001b[0;32m--> 605\u001b[0m parser \u001b[38;5;241m=\u001b[39m \u001b[43mTextFileReader\u001b[49m\u001b[43m(\u001b[49m\u001b[43mfilepath_or_buffer\u001b[49m\u001b[43m,\u001b[49m\u001b[43m \u001b[49m\u001b[38;5;241;43m*\u001b[39;49m\u001b[38;5;241;43m*\u001b[39;49m\u001b[43mkwds\u001b[49m\u001b[43m)\u001b[49m\n\u001b[1;32m    607\u001b[0m \u001b[38;5;28;01mif\u001b[39;00m chunksize \u001b[38;5;129;01mor\u001b[39;00m iterator:\n\u001b[1;32m    608\u001b[0m     \u001b[38;5;28;01mreturn\u001b[39;00m parser\n",
      "File \u001b[0;32m/opt/homebrew/lib/python3.9/site-packages/pandas/io/parsers/readers.py:1442\u001b[0m, in \u001b[0;36mTextFileReader.__init__\u001b[0;34m(self, f, engine, **kwds)\u001b[0m\n\u001b[1;32m   1439\u001b[0m     \u001b[38;5;28mself\u001b[39m\u001b[38;5;241m.\u001b[39moptions[\u001b[38;5;124m\"\u001b[39m\u001b[38;5;124mhas_index_names\u001b[39m\u001b[38;5;124m\"\u001b[39m] \u001b[38;5;241m=\u001b[39m kwds[\u001b[38;5;124m\"\u001b[39m\u001b[38;5;124mhas_index_names\u001b[39m\u001b[38;5;124m\"\u001b[39m]\n\u001b[1;32m   1441\u001b[0m \u001b[38;5;28mself\u001b[39m\u001b[38;5;241m.\u001b[39mhandles: IOHandles \u001b[38;5;241m|\u001b[39m \u001b[38;5;28;01mNone\u001b[39;00m \u001b[38;5;241m=\u001b[39m \u001b[38;5;28;01mNone\u001b[39;00m\n\u001b[0;32m-> 1442\u001b[0m \u001b[38;5;28mself\u001b[39m\u001b[38;5;241m.\u001b[39m_engine \u001b[38;5;241m=\u001b[39m \u001b[38;5;28;43mself\u001b[39;49m\u001b[38;5;241;43m.\u001b[39;49m\u001b[43m_make_engine\u001b[49m\u001b[43m(\u001b[49m\u001b[43mf\u001b[49m\u001b[43m,\u001b[49m\u001b[43m \u001b[49m\u001b[38;5;28;43mself\u001b[39;49m\u001b[38;5;241;43m.\u001b[39;49m\u001b[43mengine\u001b[49m\u001b[43m)\u001b[49m\n",
      "File \u001b[0;32m/opt/homebrew/lib/python3.9/site-packages/pandas/io/parsers/readers.py:1735\u001b[0m, in \u001b[0;36mTextFileReader._make_engine\u001b[0;34m(self, f, engine)\u001b[0m\n\u001b[1;32m   1733\u001b[0m     \u001b[38;5;28;01mif\u001b[39;00m \u001b[38;5;124m\"\u001b[39m\u001b[38;5;124mb\u001b[39m\u001b[38;5;124m\"\u001b[39m \u001b[38;5;129;01mnot\u001b[39;00m \u001b[38;5;129;01min\u001b[39;00m mode:\n\u001b[1;32m   1734\u001b[0m         mode \u001b[38;5;241m+\u001b[39m\u001b[38;5;241m=\u001b[39m \u001b[38;5;124m\"\u001b[39m\u001b[38;5;124mb\u001b[39m\u001b[38;5;124m\"\u001b[39m\n\u001b[0;32m-> 1735\u001b[0m \u001b[38;5;28mself\u001b[39m\u001b[38;5;241m.\u001b[39mhandles \u001b[38;5;241m=\u001b[39m \u001b[43mget_handle\u001b[49m\u001b[43m(\u001b[49m\n\u001b[1;32m   1736\u001b[0m \u001b[43m    \u001b[49m\u001b[43mf\u001b[49m\u001b[43m,\u001b[49m\n\u001b[1;32m   1737\u001b[0m \u001b[43m    \u001b[49m\u001b[43mmode\u001b[49m\u001b[43m,\u001b[49m\n\u001b[1;32m   1738\u001b[0m \u001b[43m    \u001b[49m\u001b[43mencoding\u001b[49m\u001b[38;5;241;43m=\u001b[39;49m\u001b[38;5;28;43mself\u001b[39;49m\u001b[38;5;241;43m.\u001b[39;49m\u001b[43moptions\u001b[49m\u001b[38;5;241;43m.\u001b[39;49m\u001b[43mget\u001b[49m\u001b[43m(\u001b[49m\u001b[38;5;124;43m\"\u001b[39;49m\u001b[38;5;124;43mencoding\u001b[39;49m\u001b[38;5;124;43m\"\u001b[39;49m\u001b[43m,\u001b[49m\u001b[43m \u001b[49m\u001b[38;5;28;43;01mNone\u001b[39;49;00m\u001b[43m)\u001b[49m\u001b[43m,\u001b[49m\n\u001b[1;32m   1739\u001b[0m \u001b[43m    \u001b[49m\u001b[43mcompression\u001b[49m\u001b[38;5;241;43m=\u001b[39;49m\u001b[38;5;28;43mself\u001b[39;49m\u001b[38;5;241;43m.\u001b[39;49m\u001b[43moptions\u001b[49m\u001b[38;5;241;43m.\u001b[39;49m\u001b[43mget\u001b[49m\u001b[43m(\u001b[49m\u001b[38;5;124;43m\"\u001b[39;49m\u001b[38;5;124;43mcompression\u001b[39;49m\u001b[38;5;124;43m\"\u001b[39;49m\u001b[43m,\u001b[49m\u001b[43m \u001b[49m\u001b[38;5;28;43;01mNone\u001b[39;49;00m\u001b[43m)\u001b[49m\u001b[43m,\u001b[49m\n\u001b[1;32m   1740\u001b[0m \u001b[43m    \u001b[49m\u001b[43mmemory_map\u001b[49m\u001b[38;5;241;43m=\u001b[39;49m\u001b[38;5;28;43mself\u001b[39;49m\u001b[38;5;241;43m.\u001b[39;49m\u001b[43moptions\u001b[49m\u001b[38;5;241;43m.\u001b[39;49m\u001b[43mget\u001b[49m\u001b[43m(\u001b[49m\u001b[38;5;124;43m\"\u001b[39;49m\u001b[38;5;124;43mmemory_map\u001b[39;49m\u001b[38;5;124;43m\"\u001b[39;49m\u001b[43m,\u001b[49m\u001b[43m \u001b[49m\u001b[38;5;28;43;01mFalse\u001b[39;49;00m\u001b[43m)\u001b[49m\u001b[43m,\u001b[49m\n\u001b[1;32m   1741\u001b[0m \u001b[43m    \u001b[49m\u001b[43mis_text\u001b[49m\u001b[38;5;241;43m=\u001b[39;49m\u001b[43mis_text\u001b[49m\u001b[43m,\u001b[49m\n\u001b[1;32m   1742\u001b[0m \u001b[43m    \u001b[49m\u001b[43merrors\u001b[49m\u001b[38;5;241;43m=\u001b[39;49m\u001b[38;5;28;43mself\u001b[39;49m\u001b[38;5;241;43m.\u001b[39;49m\u001b[43moptions\u001b[49m\u001b[38;5;241;43m.\u001b[39;49m\u001b[43mget\u001b[49m\u001b[43m(\u001b[49m\u001b[38;5;124;43m\"\u001b[39;49m\u001b[38;5;124;43mencoding_errors\u001b[39;49m\u001b[38;5;124;43m\"\u001b[39;49m\u001b[43m,\u001b[49m\u001b[43m \u001b[49m\u001b[38;5;124;43m\"\u001b[39;49m\u001b[38;5;124;43mstrict\u001b[39;49m\u001b[38;5;124;43m\"\u001b[39;49m\u001b[43m)\u001b[49m\u001b[43m,\u001b[49m\n\u001b[1;32m   1743\u001b[0m \u001b[43m    \u001b[49m\u001b[43mstorage_options\u001b[49m\u001b[38;5;241;43m=\u001b[39;49m\u001b[38;5;28;43mself\u001b[39;49m\u001b[38;5;241;43m.\u001b[39;49m\u001b[43moptions\u001b[49m\u001b[38;5;241;43m.\u001b[39;49m\u001b[43mget\u001b[49m\u001b[43m(\u001b[49m\u001b[38;5;124;43m\"\u001b[39;49m\u001b[38;5;124;43mstorage_options\u001b[39;49m\u001b[38;5;124;43m\"\u001b[39;49m\u001b[43m,\u001b[49m\u001b[43m \u001b[49m\u001b[38;5;28;43;01mNone\u001b[39;49;00m\u001b[43m)\u001b[49m\u001b[43m,\u001b[49m\n\u001b[1;32m   1744\u001b[0m \u001b[43m\u001b[49m\u001b[43m)\u001b[49m\n\u001b[1;32m   1745\u001b[0m \u001b[38;5;28;01massert\u001b[39;00m \u001b[38;5;28mself\u001b[39m\u001b[38;5;241m.\u001b[39mhandles \u001b[38;5;129;01mis\u001b[39;00m \u001b[38;5;129;01mnot\u001b[39;00m \u001b[38;5;28;01mNone\u001b[39;00m\n\u001b[1;32m   1746\u001b[0m f \u001b[38;5;241m=\u001b[39m \u001b[38;5;28mself\u001b[39m\u001b[38;5;241m.\u001b[39mhandles\u001b[38;5;241m.\u001b[39mhandle\n",
      "File \u001b[0;32m/opt/homebrew/lib/python3.9/site-packages/pandas/io/common.py:856\u001b[0m, in \u001b[0;36mget_handle\u001b[0;34m(path_or_buf, mode, encoding, compression, memory_map, is_text, errors, storage_options)\u001b[0m\n\u001b[1;32m    851\u001b[0m \u001b[38;5;28;01melif\u001b[39;00m \u001b[38;5;28misinstance\u001b[39m(handle, \u001b[38;5;28mstr\u001b[39m):\n\u001b[1;32m    852\u001b[0m     \u001b[38;5;66;03m# Check whether the filename is to be opened in binary mode.\u001b[39;00m\n\u001b[1;32m    853\u001b[0m     \u001b[38;5;66;03m# Binary mode does not support 'encoding' and 'newline'.\u001b[39;00m\n\u001b[1;32m    854\u001b[0m     \u001b[38;5;28;01mif\u001b[39;00m ioargs\u001b[38;5;241m.\u001b[39mencoding \u001b[38;5;129;01mand\u001b[39;00m \u001b[38;5;124m\"\u001b[39m\u001b[38;5;124mb\u001b[39m\u001b[38;5;124m\"\u001b[39m \u001b[38;5;129;01mnot\u001b[39;00m \u001b[38;5;129;01min\u001b[39;00m ioargs\u001b[38;5;241m.\u001b[39mmode:\n\u001b[1;32m    855\u001b[0m         \u001b[38;5;66;03m# Encoding\u001b[39;00m\n\u001b[0;32m--> 856\u001b[0m         handle \u001b[38;5;241m=\u001b[39m \u001b[38;5;28;43mopen\u001b[39;49m\u001b[43m(\u001b[49m\n\u001b[1;32m    857\u001b[0m \u001b[43m            \u001b[49m\u001b[43mhandle\u001b[49m\u001b[43m,\u001b[49m\n\u001b[1;32m    858\u001b[0m \u001b[43m            \u001b[49m\u001b[43mioargs\u001b[49m\u001b[38;5;241;43m.\u001b[39;49m\u001b[43mmode\u001b[49m\u001b[43m,\u001b[49m\n\u001b[1;32m    859\u001b[0m \u001b[43m            \u001b[49m\u001b[43mencoding\u001b[49m\u001b[38;5;241;43m=\u001b[39;49m\u001b[43mioargs\u001b[49m\u001b[38;5;241;43m.\u001b[39;49m\u001b[43mencoding\u001b[49m\u001b[43m,\u001b[49m\n\u001b[1;32m    860\u001b[0m \u001b[43m            \u001b[49m\u001b[43merrors\u001b[49m\u001b[38;5;241;43m=\u001b[39;49m\u001b[43merrors\u001b[49m\u001b[43m,\u001b[49m\n\u001b[1;32m    861\u001b[0m \u001b[43m            \u001b[49m\u001b[43mnewline\u001b[49m\u001b[38;5;241;43m=\u001b[39;49m\u001b[38;5;124;43m\"\u001b[39;49m\u001b[38;5;124;43m\"\u001b[39;49m\u001b[43m,\u001b[49m\n\u001b[1;32m    862\u001b[0m \u001b[43m        \u001b[49m\u001b[43m)\u001b[49m\n\u001b[1;32m    863\u001b[0m     \u001b[38;5;28;01melse\u001b[39;00m:\n\u001b[1;32m    864\u001b[0m         \u001b[38;5;66;03m# Binary mode\u001b[39;00m\n\u001b[1;32m    865\u001b[0m         handle \u001b[38;5;241m=\u001b[39m \u001b[38;5;28mopen\u001b[39m(handle, ioargs\u001b[38;5;241m.\u001b[39mmode)\n",
      "\u001b[0;31mFileNotFoundError\u001b[0m: [Errno 2] No such file or directory: 'Housing.csv'"
     ]
    }
   ],
   "source": [
    "housing = pd.read_csv(\"Housing.csv\")\n",
    "housing.head()"
   ]
  },
  {
   "cell_type": "markdown",
   "id": "d28bb38d",
   "metadata": {},
   "source": [
    "Build a linear model"
   ]
  },
  {
   "cell_type": "code",
   "execution_count": 64,
   "id": "3b358a20",
   "metadata": {
    "execution": {
     "iopub.execute_input": "2023-05-10T02:28:57.286079Z",
     "iopub.status.busy": "2023-05-10T02:28:57.285965Z",
     "iopub.status.idle": "2023-05-10T02:28:57.289369Z",
     "shell.execute_reply": "2023-05-10T02:28:57.289133Z"
    },
    "lines_to_next_cell": 1
   },
   "outputs": [
    {
     "ename": "SyntaxError",
     "evalue": "invalid syntax (4119033176.py, line 18)",
     "output_type": "error",
     "traceback": [
      "\u001b[0;36m  Cell \u001b[0;32mIn [65], line 18\u001b[0;36m\u001b[0m\n\u001b[0;31m    model =\u001b[0m\n\u001b[0m           ^\u001b[0m\n\u001b[0;31mSyntaxError\u001b[0m\u001b[0;31m:\u001b[0m invalid syntax\n"
     ]
    }
   ],
   "source": [
    "def impute_logistic(g, ycol):\n",
    "    g = g[[ycol, 'week_number', 'total_claims']]\n",
    "    xcols = ['week_number', 'total_claims']\n",
    "    ycols = [ycol]\n",
    "    \n",
    "    mask_train = ~g[ycol].isnull()\n",
    "    x_train, x_test = g.loc[mask_train, xcols], g.loc[~mask_train, xcols]\n",
    "    y_train, y_test = g.loc[mask_train, ycols], g.loc[~mask_train, ycols]\n",
    "    \n",
    "    if y_train.shape[0] == 0:\n",
    "        g[ycol] = None\n",
    "        return g[ycol]\n",
    "    \n",
    "    classes = y_train[ycol].unique()\n",
    "    if len(classes) == 1:\n",
    "        yhat = [classes[0]]\n",
    "    else:\n",
    "        model =\n",
    "        \n",
    "        sklearn.linear_model.LogisticRegression(multi_class='multinomial', solver='lbfgs', max_iter=10000).fit(x_train, y_train.values.ravel())\n",
    "        yhat = model.predict(x_test)\n",
    "    g.loc[~mask_train, ycols] = yhat\n",
    "    return g[ycol]"
   ]
  },
  {
   "cell_type": "code",
   "execution_count": 65,
   "id": "9f48bc51",
   "metadata": {
    "execution": {
     "iopub.execute_input": "2023-05-10T02:28:57.290895Z",
     "iopub.status.busy": "2023-05-10T02:28:57.290801Z",
     "iopub.status.idle": "2023-05-10T02:28:57.292921Z",
     "shell.execute_reply": "2023-05-10T02:28:57.292681Z"
    },
    "lines_to_next_cell": 1
   },
   "outputs": [],
   "source": [
    "def impute_industry(g, max_week_number=37):\n",
    "    g = g.loc[g.week_number <= max_week_number, :]\n",
    "    x = g.copy()\n",
    "    for colname in COL_MAP['industry']:\n",
    "        x[colname] = impute_logistic(g, colname)\n",
    "    return x"
   ]
  },
  {
   "cell_type": "code",
   "execution_count": 66,
   "id": "2d1918de",
   "metadata": {
    "execution": {
     "iopub.execute_input": "2023-05-10T02:28:57.294302Z",
     "iopub.status.busy": "2023-05-10T02:28:57.294221Z",
     "iopub.status.idle": "2023-05-10T02:28:57.296346Z",
     "shell.execute_reply": "2023-05-10T02:28:57.296106Z"
    },
    "lines_to_next_cell": 1
   },
   "outputs": [],
   "source": [
    "def load_imp_industry(csv_name='4_imp_industry.csv'):\n",
    "    if not os.path.isfile(csv_name):\n",
    "        d = load_clean()\n",
    "        d = d.groupby('uu_id').apply(impute_industry).reset_index(0, drop=True)\n",
    "        d.to_csv(csv_name, index=False)\n",
    "    else:\n",
    "        d = pd.read_csv(csv_name)\n",
    "    return d"
   ]
  },
  {
   "cell_type": "code",
   "execution_count": 67,
   "id": "63188062",
   "metadata": {
    "execution": {
     "iopub.execute_input": "2023-05-10T02:28:57.297626Z",
     "iopub.status.busy": "2023-05-10T02:28:57.297543Z",
     "iopub.status.idle": "2023-05-10T02:28:57.324039Z",
     "shell.execute_reply": "2023-05-10T02:28:57.323778Z"
    },
    "lines_to_next_cell": 1
   },
   "outputs": [],
   "source": [
    "d = load_imp_industry()\n",
    "d\n",
    "def plot_regression(d):    \n",
    "    e = d.loc[:, COL_MAP['edu'] + ['total_claims']].reset_index(0, drop=True)\n",
    "    e = e.fillna(0)\n",
    "    X = e[COL_MAP['edu']]\n",
    "    y = e['total_claims']\n",
    "    model = sklearn.linear_model.LinearRegression()\n",
    "    model.fit(X, y)\n",
    "    fig, ax = plt.subplots()\n",
    "    ax.plot(X.index, model.predict(X), label='predict')\n",
    "    ax.plot(X.index, y, label='observed', ls='--')\n",
    "    ax.legend()\n",
    "    ax.set_xlabel('index')\n",
    "    ax.set_ylabel('total_claims')"
   ]
  },
  {
   "cell_type": "code",
   "execution_count": 68,
   "id": "2cea582d",
   "metadata": {
    "execution": {
     "iopub.execute_input": "2023-05-10T02:28:57.325724Z",
     "iopub.status.busy": "2023-05-10T02:28:57.325629Z",
     "iopub.status.idle": "2023-05-10T02:28:57.336496Z",
     "shell.execute_reply": "2023-05-10T02:28:57.336280Z"
    },
    "lines_to_next_cell": 1
   },
   "outputs": [
    {
     "ename": "NameError",
     "evalue": "name 'COL_MAP' is not defined",
     "output_type": "error",
     "traceback": [
      "\u001b[0;31m---------------------------------------------------------------------------\u001b[0m",
      "\u001b[0;31mNameError\u001b[0m                                 Traceback (most recent call last)",
      "Cell \u001b[0;32mIn [69], line 1\u001b[0m\n\u001b[0;32m----> 1\u001b[0m \u001b[43mplot_regression\u001b[49m\u001b[43m(\u001b[49m\u001b[43md\u001b[49m\u001b[43m)\u001b[49m\n",
      "Cell \u001b[0;32mIn [68], line 4\u001b[0m, in \u001b[0;36mplot_regression\u001b[0;34m(d)\u001b[0m\n\u001b[1;32m      3\u001b[0m \u001b[38;5;28;01mdef\u001b[39;00m \u001b[38;5;21mplot_regression\u001b[39m(d):    \n\u001b[0;32m----> 4\u001b[0m     e \u001b[38;5;241m=\u001b[39m d\u001b[38;5;241m.\u001b[39mloc[:, \u001b[43mCOL_MAP\u001b[49m[\u001b[38;5;124m'\u001b[39m\u001b[38;5;124medu\u001b[39m\u001b[38;5;124m'\u001b[39m] \u001b[38;5;241m+\u001b[39m [\u001b[38;5;124m'\u001b[39m\u001b[38;5;124mtotal_claims\u001b[39m\u001b[38;5;124m'\u001b[39m]]\u001b[38;5;241m.\u001b[39mreset_index(\u001b[38;5;241m0\u001b[39m, drop\u001b[38;5;241m=\u001b[39m\u001b[38;5;28;01mTrue\u001b[39;00m)\n\u001b[1;32m      5\u001b[0m     e \u001b[38;5;241m=\u001b[39m e\u001b[38;5;241m.\u001b[39mfillna(\u001b[38;5;241m0\u001b[39m)\n\u001b[1;32m      6\u001b[0m     X \u001b[38;5;241m=\u001b[39m e[COL_MAP[\u001b[38;5;124m'\u001b[39m\u001b[38;5;124medu\u001b[39m\u001b[38;5;124m'\u001b[39m]]\n",
      "\u001b[0;31mNameError\u001b[0m: name 'COL_MAP' is not defined"
     ]
    }
   ],
   "source": [
    "plot_regression(d)"
   ]
  },
  {
   "cell_type": "markdown",
   "id": "8f362391",
   "metadata": {},
   "source": [
    "Build a linear model"
   ]
  },
  {
   "cell_type": "code",
   "execution_count": 69,
   "id": "e40a38b8",
   "metadata": {
    "execution": {
     "iopub.execute_input": "2023-05-10T02:28:57.337933Z",
     "iopub.status.busy": "2023-05-10T02:28:57.337853Z",
     "iopub.status.idle": "2023-05-10T02:28:57.339743Z",
     "shell.execute_reply": "2023-05-10T02:28:57.339509Z"
    },
    "lines_to_next_cell": 1
   },
   "outputs": [],
   "source": [
    "def impute_logistic(g, ycol):\n",
    "    g = g[[ycol, 'week_number', 'total_claims']]\n",
    "    xcols = ['week_number', 'total_claims']\n",
    "    ycols = [ycol]"
   ]
  },
  {
   "cell_type": "code",
   "execution_count": 70,
   "id": "a6b814c4",
   "metadata": {
    "execution": {
     "iopub.execute_input": "2023-05-10T02:28:57.341120Z",
     "iopub.status.busy": "2023-05-10T02:28:57.341039Z",
     "iopub.status.idle": "2023-05-10T02:28:57.343161Z",
     "shell.execute_reply": "2023-05-10T02:28:57.342933Z"
    }
   },
   "outputs": [
    {
     "ename": "IndentationError",
     "evalue": "unexpected indent (3797937319.py, line 2)",
     "output_type": "error",
     "traceback": [
      "\u001b[0;36m  Cell \u001b[0;32mIn [71], line 2\u001b[0;36m\u001b[0m\n\u001b[0;31m    x_train, x_test = g.loc[mask_train, xcols], g.loc[~mask_train, xcols]\u001b[0m\n\u001b[0m    ^\u001b[0m\n\u001b[0;31mIndentationError\u001b[0m\u001b[0;31m:\u001b[0m unexpected indent\n"
     ]
    }
   ],
   "source": [
    "mask_train = ~g[ycol].isnull()\n",
    "    x_train, x_test = g.loc[mask_train, xcols], g.loc[~mask_train, xcols]\n",
    "    y_train, y_test = g.loc[mask_train, ycols], g.loc[~mask_train, ycols]"
   ]
  },
  {
   "cell_type": "code",
   "execution_count": 71,
   "id": "ead2ea00",
   "metadata": {
    "execution": {
     "iopub.execute_input": "2023-05-10T02:28:57.344457Z",
     "iopub.status.busy": "2023-05-10T02:28:57.344380Z",
     "iopub.status.idle": "2023-05-10T02:28:57.346967Z",
     "shell.execute_reply": "2023-05-10T02:28:57.346709Z"
    },
    "lines_to_next_cell": 1
   },
   "outputs": [
    {
     "ename": "SyntaxError",
     "evalue": "invalid syntax (188009504.py, line 9)",
     "output_type": "error",
     "traceback": [
      "\u001b[0;36m  Cell \u001b[0;32mIn [72], line 9\u001b[0;36m\u001b[0m\n\u001b[0;31m    model =\u001b[0m\n\u001b[0m           ^\u001b[0m\n\u001b[0;31mSyntaxError\u001b[0m\u001b[0;31m:\u001b[0m invalid syntax\n"
     ]
    }
   ],
   "source": [
    "if y_train.shape[0] == 0:\n",
    "    g[ycol] = None\n",
    "    return g[ycol]\n",
    "    \n",
    "    classes = y_train[ycol].unique()\n",
    "    if len(classes) == 1:\n",
    "        yhat = [classes[0]]\n",
    "    else:\n",
    "        model =\n",
    "        \n",
    "        sklearn.linear_model.LogisticRegression(multi_class='multinomial', solver='lbfgs', max_iter=10000).fit(x_train, y_train.values.ravel())\n",
    "        yhat = model.predict(x_test)\n",
    "    g.loc[~mask_train, ycols] = yhat\n",
    "    return g[ycol]"
   ]
  },
  {
   "cell_type": "code",
   "execution_count": 72,
   "id": "093ba5b8",
   "metadata": {
    "execution": {
     "iopub.execute_input": "2023-05-10T02:28:57.348268Z",
     "iopub.status.busy": "2023-05-10T02:28:57.348189Z",
     "iopub.status.idle": "2023-05-10T02:28:57.350084Z",
     "shell.execute_reply": "2023-05-10T02:28:57.349869Z"
    },
    "lines_to_next_cell": 1
   },
   "outputs": [],
   "source": [
    "def impute_industry(g, max_week_number=37):\n",
    "    g = g.loc[g.week_number <= max_week_number, :]\n",
    "    x = g.copy()\n",
    "    for colname in COL_MAP['industry']:\n",
    "        x[colname] = impute_logistic(g, colname)\n",
    "    return x"
   ]
  },
  {
   "cell_type": "code",
   "execution_count": 73,
   "id": "c3a1774e",
   "metadata": {
    "execution": {
     "iopub.execute_input": "2023-05-10T02:28:57.351400Z",
     "iopub.status.busy": "2023-05-10T02:28:57.351325Z",
     "iopub.status.idle": "2023-05-10T02:28:57.353319Z",
     "shell.execute_reply": "2023-05-10T02:28:57.353091Z"
    },
    "lines_to_next_cell": 1
   },
   "outputs": [],
   "source": [
    "def load_imp_industry(csv_name='4_imp_industry.csv'):\n",
    "    if not os.path.isfile(csv_name):\n",
    "        d = load_clean()\n",
    "        d = d.groupby('uu_id').apply(impute_industry).reset_index(0, drop=True)\n",
    "        d.to_csv(csv_name, index=False)\n",
    "    else:\n",
    "        d = pd.read_csv(csv_name)\n",
    "    return d"
   ]
  },
  {
   "cell_type": "code",
   "execution_count": 74,
   "id": "d8655939",
   "metadata": {
    "execution": {
     "iopub.execute_input": "2023-05-10T02:28:57.354622Z",
     "iopub.status.busy": "2023-05-10T02:28:57.354549Z",
     "iopub.status.idle": "2023-05-10T02:28:57.383496Z",
     "shell.execute_reply": "2023-05-10T02:28:57.383157Z"
    },
    "lines_to_next_cell": 1
   },
   "outputs": [],
   "source": [
    "d = load_imp_industry()\n",
    "d\n",
    "def plot_regression(d):    \n",
    "    e = d.loc[:, COL_MAP['edu'] + ['total_claims']].reset_index(0, drop=True)\n",
    "    e = e.fillna(0)\n",
    "    X = e[COL_MAP['edu']]\n",
    "    y = e['total_claims']\n",
    "    model = sklearn.linear_model.LinearRegression()\n",
    "    model.fit(X, y)\n",
    "    fig, ax = plt.subplots()\n",
    "    ax.plot(X.index, model.predict(X), label='predict')\n",
    "    ax.plot(X.index, y, label='observed', ls='--')\n",
    "    ax.legend()\n",
    "    ax.set_xlabel('index')\n",
    "    ax.set_ylabel('total_claims')"
   ]
  },
  {
   "cell_type": "code",
   "execution_count": 75,
   "id": "05b28784",
   "metadata": {
    "execution": {
     "iopub.execute_input": "2023-05-10T02:28:57.385453Z",
     "iopub.status.busy": "2023-05-10T02:28:57.385303Z",
     "iopub.status.idle": "2023-05-10T02:28:57.397952Z",
     "shell.execute_reply": "2023-05-10T02:28:57.397586Z"
    },
    "lines_to_next_cell": 1
   },
   "outputs": [
    {
     "ename": "NameError",
     "evalue": "name 'COL_MAP' is not defined",
     "output_type": "error",
     "traceback": [
      "\u001b[0;31m---------------------------------------------------------------------------\u001b[0m",
      "\u001b[0;31mNameError\u001b[0m                                 Traceback (most recent call last)",
      "Cell \u001b[0;32mIn [76], line 1\u001b[0m\n\u001b[0;32m----> 1\u001b[0m \u001b[43mplot_regression\u001b[49m\u001b[43m(\u001b[49m\u001b[43md\u001b[49m\u001b[43m)\u001b[49m\n",
      "Cell \u001b[0;32mIn [75], line 4\u001b[0m, in \u001b[0;36mplot_regression\u001b[0;34m(d)\u001b[0m\n\u001b[1;32m      3\u001b[0m \u001b[38;5;28;01mdef\u001b[39;00m \u001b[38;5;21mplot_regression\u001b[39m(d):    \n\u001b[0;32m----> 4\u001b[0m     e \u001b[38;5;241m=\u001b[39m d\u001b[38;5;241m.\u001b[39mloc[:, \u001b[43mCOL_MAP\u001b[49m[\u001b[38;5;124m'\u001b[39m\u001b[38;5;124medu\u001b[39m\u001b[38;5;124m'\u001b[39m] \u001b[38;5;241m+\u001b[39m [\u001b[38;5;124m'\u001b[39m\u001b[38;5;124mtotal_claims\u001b[39m\u001b[38;5;124m'\u001b[39m]]\u001b[38;5;241m.\u001b[39mreset_index(\u001b[38;5;241m0\u001b[39m, drop\u001b[38;5;241m=\u001b[39m\u001b[38;5;28;01mTrue\u001b[39;00m)\n\u001b[1;32m      5\u001b[0m     e \u001b[38;5;241m=\u001b[39m e\u001b[38;5;241m.\u001b[39mfillna(\u001b[38;5;241m0\u001b[39m)\n\u001b[1;32m      6\u001b[0m     X \u001b[38;5;241m=\u001b[39m e[COL_MAP[\u001b[38;5;124m'\u001b[39m\u001b[38;5;124medu\u001b[39m\u001b[38;5;124m'\u001b[39m]]\n",
      "\u001b[0;31mNameError\u001b[0m: name 'COL_MAP' is not defined"
     ]
    }
   ],
   "source": [
    "plot_regression(d)"
   ]
  },
  {
   "cell_type": "markdown",
   "id": "3a117561",
   "metadata": {},
   "source": [
    "Build a linear model"
   ]
  },
  {
   "cell_type": "code",
   "execution_count": 76,
   "id": "2fa268eb",
   "metadata": {
    "execution": {
     "iopub.execute_input": "2023-05-10T02:28:57.399765Z",
     "iopub.status.busy": "2023-05-10T02:28:57.399634Z",
     "iopub.status.idle": "2023-05-10T02:28:57.401692Z",
     "shell.execute_reply": "2023-05-10T02:28:57.401412Z"
    },
    "lines_to_next_cell": 1
   },
   "outputs": [],
   "source": [
    "def impute_logistic(g, ycol):\n",
    "    g = g[[ycol, 'week_number', 'total_claims']]\n",
    "    xcols = ['week_number', 'total_claims']\n",
    "    ycols = [ycol]"
   ]
  },
  {
   "cell_type": "code",
   "execution_count": 77,
   "id": "a212e820",
   "metadata": {
    "execution": {
     "iopub.execute_input": "2023-05-10T02:28:57.403108Z",
     "iopub.status.busy": "2023-05-10T02:28:57.402994Z",
     "iopub.status.idle": "2023-05-10T02:28:57.411218Z",
     "shell.execute_reply": "2023-05-10T02:28:57.410963Z"
    }
   },
   "outputs": [
    {
     "ename": "NameError",
     "evalue": "name 'g' is not defined",
     "output_type": "error",
     "traceback": [
      "\u001b[0;31m---------------------------------------------------------------------------\u001b[0m",
      "\u001b[0;31mNameError\u001b[0m                                 Traceback (most recent call last)",
      "Cell \u001b[0;32mIn [78], line 1\u001b[0m\n\u001b[0;32m----> 1\u001b[0m mask_train \u001b[38;5;241m=\u001b[39m \u001b[38;5;241m~\u001b[39m\u001b[43mg\u001b[49m[ycol]\u001b[38;5;241m.\u001b[39misnull()\n\u001b[1;32m      2\u001b[0m x_train, x_test \u001b[38;5;241m=\u001b[39m g\u001b[38;5;241m.\u001b[39mloc[mask_train, xcols], g\u001b[38;5;241m.\u001b[39mloc[\u001b[38;5;241m~\u001b[39mmask_train, xcols]\n\u001b[1;32m      3\u001b[0m y_train, y_test \u001b[38;5;241m=\u001b[39m g\u001b[38;5;241m.\u001b[39mloc[mask_train, ycols], g\u001b[38;5;241m.\u001b[39mloc[\u001b[38;5;241m~\u001b[39mmask_train, ycols]\n",
      "\u001b[0;31mNameError\u001b[0m: name 'g' is not defined"
     ]
    }
   ],
   "source": [
    "mask_train = ~g[ycol].isnull()\n",
    "x_train, x_test = g.loc[mask_train, xcols], g.loc[~mask_train, xcols]\n",
    "y_train, y_test = g.loc[mask_train, ycols], g.loc[~mask_train, ycols]"
   ]
  },
  {
   "cell_type": "code",
   "execution_count": 78,
   "id": "6ee61f59",
   "metadata": {
    "execution": {
     "iopub.execute_input": "2023-05-10T02:28:57.412684Z",
     "iopub.status.busy": "2023-05-10T02:28:57.412578Z",
     "iopub.status.idle": "2023-05-10T02:28:57.415354Z",
     "shell.execute_reply": "2023-05-10T02:28:57.415138Z"
    },
    "lines_to_next_cell": 1
   },
   "outputs": [
    {
     "ename": "SyntaxError",
     "evalue": "invalid syntax (188009504.py, line 9)",
     "output_type": "error",
     "traceback": [
      "\u001b[0;36m  Cell \u001b[0;32mIn [79], line 9\u001b[0;36m\u001b[0m\n\u001b[0;31m    model =\u001b[0m\n\u001b[0m           ^\u001b[0m\n\u001b[0;31mSyntaxError\u001b[0m\u001b[0;31m:\u001b[0m invalid syntax\n"
     ]
    }
   ],
   "source": [
    "if y_train.shape[0] == 0:\n",
    "    g[ycol] = None\n",
    "    return g[ycol]\n",
    "    \n",
    "    classes = y_train[ycol].unique()\n",
    "    if len(classes) == 1:\n",
    "        yhat = [classes[0]]\n",
    "    else:\n",
    "        model =\n",
    "        \n",
    "        sklearn.linear_model.LogisticRegression(multi_class='multinomial', solver='lbfgs', max_iter=10000).fit(x_train, y_train.values.ravel())\n",
    "        yhat = model.predict(x_test)\n",
    "    g.loc[~mask_train, ycols] = yhat\n",
    "    return g[ycol]"
   ]
  },
  {
   "cell_type": "code",
   "execution_count": 79,
   "id": "70011ecf",
   "metadata": {
    "execution": {
     "iopub.execute_input": "2023-05-10T02:28:57.416814Z",
     "iopub.status.busy": "2023-05-10T02:28:57.416720Z",
     "iopub.status.idle": "2023-05-10T02:28:57.419139Z",
     "shell.execute_reply": "2023-05-10T02:28:57.418922Z"
    },
    "lines_to_next_cell": 1
   },
   "outputs": [],
   "source": [
    "def impute_industry(g, max_week_number=37):\n",
    "    g = g.loc[g.week_number <= max_week_number, :]\n",
    "    x = g.copy()\n",
    "    for colname in COL_MAP['industry']:\n",
    "        x[colname] = impute_logistic(g, colname)\n",
    "    return x"
   ]
  },
  {
   "cell_type": "code",
   "execution_count": 80,
   "id": "f44a44e6",
   "metadata": {
    "execution": {
     "iopub.execute_input": "2023-05-10T02:28:57.421205Z",
     "iopub.status.busy": "2023-05-10T02:28:57.421033Z",
     "iopub.status.idle": "2023-05-10T02:28:57.423946Z",
     "shell.execute_reply": "2023-05-10T02:28:57.423686Z"
    },
    "lines_to_next_cell": 1
   },
   "outputs": [],
   "source": [
    "def load_imp_industry(csv_name='4_imp_industry.csv'):\n",
    "    if not os.path.isfile(csv_name):\n",
    "        d = load_clean()\n",
    "        d = d.groupby('uu_id').apply(impute_industry).reset_index(0, drop=True)\n",
    "        d.to_csv(csv_name, index=False)\n",
    "    else:\n",
    "        d = pd.read_csv(csv_name)\n",
    "    return d"
   ]
  },
  {
   "cell_type": "code",
   "execution_count": 81,
   "id": "a7839460",
   "metadata": {
    "execution": {
     "iopub.execute_input": "2023-05-10T02:28:57.425501Z",
     "iopub.status.busy": "2023-05-10T02:28:57.425389Z",
     "iopub.status.idle": "2023-05-10T02:28:57.453640Z",
     "shell.execute_reply": "2023-05-10T02:28:57.453231Z"
    },
    "lines_to_next_cell": 1
   },
   "outputs": [],
   "source": [
    "d = load_imp_industry()\n",
    "d\n",
    "def plot_regression(d):    \n",
    "    e = d.loc[:, COL_MAP['edu'] + ['total_claims']].reset_index(0, drop=True)\n",
    "    e = e.fillna(0)\n",
    "    X = e[COL_MAP['edu']]\n",
    "    y = e['total_claims']\n",
    "    model = sklearn.linear_model.LinearRegression()\n",
    "    model.fit(X, y)\n",
    "    fig, ax = plt.subplots()\n",
    "    ax.plot(X.index, model.predict(X), label='predict')\n",
    "    ax.plot(X.index, y, label='observed', ls='--')\n",
    "    ax.legend()\n",
    "    ax.set_xlabel('index')\n",
    "    ax.set_ylabel('total_claims')"
   ]
  },
  {
   "cell_type": "code",
   "execution_count": 82,
   "id": "98f097b1",
   "metadata": {
    "execution": {
     "iopub.execute_input": "2023-05-10T02:28:57.455830Z",
     "iopub.status.busy": "2023-05-10T02:28:57.455609Z",
     "iopub.status.idle": "2023-05-10T02:28:57.466215Z",
     "shell.execute_reply": "2023-05-10T02:28:57.465963Z"
    },
    "lines_to_next_cell": 1
   },
   "outputs": [
    {
     "ename": "NameError",
     "evalue": "name 'COL_MAP' is not defined",
     "output_type": "error",
     "traceback": [
      "\u001b[0;31m---------------------------------------------------------------------------\u001b[0m",
      "\u001b[0;31mNameError\u001b[0m                                 Traceback (most recent call last)",
      "Cell \u001b[0;32mIn [83], line 1\u001b[0m\n\u001b[0;32m----> 1\u001b[0m \u001b[43mplot_regression\u001b[49m\u001b[43m(\u001b[49m\u001b[43md\u001b[49m\u001b[43m)\u001b[49m\n",
      "Cell \u001b[0;32mIn [82], line 4\u001b[0m, in \u001b[0;36mplot_regression\u001b[0;34m(d)\u001b[0m\n\u001b[1;32m      3\u001b[0m \u001b[38;5;28;01mdef\u001b[39;00m \u001b[38;5;21mplot_regression\u001b[39m(d):    \n\u001b[0;32m----> 4\u001b[0m     e \u001b[38;5;241m=\u001b[39m d\u001b[38;5;241m.\u001b[39mloc[:, \u001b[43mCOL_MAP\u001b[49m[\u001b[38;5;124m'\u001b[39m\u001b[38;5;124medu\u001b[39m\u001b[38;5;124m'\u001b[39m] \u001b[38;5;241m+\u001b[39m [\u001b[38;5;124m'\u001b[39m\u001b[38;5;124mtotal_claims\u001b[39m\u001b[38;5;124m'\u001b[39m]]\u001b[38;5;241m.\u001b[39mreset_index(\u001b[38;5;241m0\u001b[39m, drop\u001b[38;5;241m=\u001b[39m\u001b[38;5;28;01mTrue\u001b[39;00m)\n\u001b[1;32m      5\u001b[0m     e \u001b[38;5;241m=\u001b[39m e\u001b[38;5;241m.\u001b[39mfillna(\u001b[38;5;241m0\u001b[39m)\n\u001b[1;32m      6\u001b[0m     X \u001b[38;5;241m=\u001b[39m e[COL_MAP[\u001b[38;5;124m'\u001b[39m\u001b[38;5;124medu\u001b[39m\u001b[38;5;124m'\u001b[39m]]\n",
      "\u001b[0;31mNameError\u001b[0m: name 'COL_MAP' is not defined"
     ]
    }
   ],
   "source": [
    "plot_regression(d)"
   ]
  },
  {
   "cell_type": "markdown",
   "id": "da4432e9",
   "metadata": {},
   "source": [
    "Build a linear model"
   ]
  },
  {
   "cell_type": "code",
   "execution_count": 83,
   "id": "0cd58aee",
   "metadata": {
    "execution": {
     "iopub.execute_input": "2023-05-10T02:28:57.467662Z",
     "iopub.status.busy": "2023-05-10T02:28:57.467583Z",
     "iopub.status.idle": "2023-05-10T02:28:57.469479Z",
     "shell.execute_reply": "2023-05-10T02:28:57.469242Z"
    },
    "lines_to_next_cell": 1
   },
   "outputs": [],
   "source": [
    "def impute_logistic(g, ycol):\n",
    "    g = g[[ycol, 'week_number', 'total_claims']]\n",
    "    xcols = ['week_number', 'total_claims']\n",
    "    ycols = [ycol]"
   ]
  },
  {
   "cell_type": "code",
   "execution_count": 84,
   "id": "04462e91",
   "metadata": {
    "execution": {
     "iopub.execute_input": "2023-05-10T02:28:57.471083Z",
     "iopub.status.busy": "2023-05-10T02:28:57.470978Z",
     "iopub.status.idle": "2023-05-10T02:28:57.478388Z",
     "shell.execute_reply": "2023-05-10T02:28:57.478146Z"
    }
   },
   "outputs": [
    {
     "ename": "NameError",
     "evalue": "name 'g' is not defined",
     "output_type": "error",
     "traceback": [
      "\u001b[0;31m---------------------------------------------------------------------------\u001b[0m",
      "\u001b[0;31mNameError\u001b[0m                                 Traceback (most recent call last)",
      "Cell \u001b[0;32mIn [85], line 1\u001b[0m\n\u001b[0;32m----> 1\u001b[0m mask_train \u001b[38;5;241m=\u001b[39m \u001b[38;5;241m~\u001b[39m\u001b[43mg\u001b[49m[ycol]\u001b[38;5;241m.\u001b[39misnull()\n\u001b[1;32m      2\u001b[0m x_train, x_test \u001b[38;5;241m=\u001b[39m g\u001b[38;5;241m.\u001b[39mloc[mask_train, xcols], g\u001b[38;5;241m.\u001b[39mloc[\u001b[38;5;241m~\u001b[39mmask_train, xcols]\n\u001b[1;32m      3\u001b[0m y_train, y_test \u001b[38;5;241m=\u001b[39m g\u001b[38;5;241m.\u001b[39mloc[mask_train, ycols], g\u001b[38;5;241m.\u001b[39mloc[\u001b[38;5;241m~\u001b[39mmask_train, ycols]\n",
      "\u001b[0;31mNameError\u001b[0m: name 'g' is not defined"
     ]
    }
   ],
   "source": [
    "mask_train = ~g[ycol].isnull()\n",
    "x_train, x_test = g.loc[mask_train, xcols], g.loc[~mask_train, xcols]\n",
    "y_train, y_test = g.loc[mask_train, ycols], g.loc[~mask_train, ycols]"
   ]
  },
  {
   "cell_type": "code",
   "execution_count": 85,
   "id": "fe272497",
   "metadata": {
    "execution": {
     "iopub.execute_input": "2023-05-10T02:28:57.480069Z",
     "iopub.status.busy": "2023-05-10T02:28:57.479937Z",
     "iopub.status.idle": "2023-05-10T02:28:57.482798Z",
     "shell.execute_reply": "2023-05-10T02:28:57.482549Z"
    },
    "lines_to_next_cell": 1
   },
   "outputs": [
    {
     "ename": "SyntaxError",
     "evalue": "invalid syntax (2202387406.py, line 9)",
     "output_type": "error",
     "traceback": [
      "\u001b[0;36m  Cell \u001b[0;32mIn [86], line 9\u001b[0;36m\u001b[0m\n\u001b[0;31m    model =\u001b[0m\n\u001b[0m           ^\u001b[0m\n\u001b[0;31mSyntaxError\u001b[0m\u001b[0;31m:\u001b[0m invalid syntax\n"
     ]
    }
   ],
   "source": [
    "if y_train.shape[0] == 0:\n",
    "    g[ycol] = None\n",
    "    return g[ycol]\n",
    "    \n",
    "    classes = y_train[ycol].unique()\n",
    "    if len(classes) == 1:\n",
    "        yhat = [classes[0]]\n",
    "else:\n",
    "    model =\n",
    "        \n",
    "        sklearn.linear_model.LogisticRegression(multi_class='multinomial', solver='lbfgs', max_iter=10000).fit(x_train, y_train.values.ravel())\n",
    "        yhat = model.predict(x_test)\n",
    "    g.loc[~mask_train, ycols] = yhat\n",
    "    return g[ycol]"
   ]
  },
  {
   "cell_type": "code",
   "execution_count": 86,
   "id": "2dfa366d",
   "metadata": {
    "execution": {
     "iopub.execute_input": "2023-05-10T02:28:57.484190Z",
     "iopub.status.busy": "2023-05-10T02:28:57.484083Z",
     "iopub.status.idle": "2023-05-10T02:28:57.486125Z",
     "shell.execute_reply": "2023-05-10T02:28:57.485903Z"
    },
    "lines_to_next_cell": 1
   },
   "outputs": [],
   "source": [
    "def impute_industry(g, max_week_number=37):\n",
    "    g = g.loc[g.week_number <= max_week_number, :]\n",
    "    x = g.copy()\n",
    "    for colname in COL_MAP['industry']:\n",
    "        x[colname] = impute_logistic(g, colname)\n",
    "    return x"
   ]
  },
  {
   "cell_type": "code",
   "execution_count": 87,
   "id": "d8cfc25d",
   "metadata": {
    "execution": {
     "iopub.execute_input": "2023-05-10T02:28:57.487880Z",
     "iopub.status.busy": "2023-05-10T02:28:57.487730Z",
     "iopub.status.idle": "2023-05-10T02:28:57.490249Z",
     "shell.execute_reply": "2023-05-10T02:28:57.489982Z"
    },
    "lines_to_next_cell": 1
   },
   "outputs": [],
   "source": [
    "def load_imp_industry(csv_name='4_imp_industry.csv'):\n",
    "    if not os.path.isfile(csv_name):\n",
    "        d = load_clean()\n",
    "        d = d.groupby('uu_id').apply(impute_industry).reset_index(0, drop=True)\n",
    "        d.to_csv(csv_name, index=False)\n",
    "    else:\n",
    "        d = pd.read_csv(csv_name)\n",
    "    return d"
   ]
  },
  {
   "cell_type": "code",
   "execution_count": 88,
   "id": "1413190f",
   "metadata": {
    "execution": {
     "iopub.execute_input": "2023-05-10T02:28:57.491668Z",
     "iopub.status.busy": "2023-05-10T02:28:57.491565Z",
     "iopub.status.idle": "2023-05-10T02:28:57.519061Z",
     "shell.execute_reply": "2023-05-10T02:28:57.518786Z"
    },
    "lines_to_next_cell": 1
   },
   "outputs": [],
   "source": [
    "d = load_imp_industry()\n",
    "d\n",
    "def plot_regression(d):    \n",
    "    e = d.loc[:, COL_MAP['edu'] + ['total_claims']].reset_index(0, drop=True)\n",
    "    e = e.fillna(0)\n",
    "    X = e[COL_MAP['edu']]\n",
    "    y = e['total_claims']\n",
    "    model = sklearn.linear_model.LinearRegression()\n",
    "    model.fit(X, y)\n",
    "    fig, ax = plt.subplots()\n",
    "    ax.plot(X.index, model.predict(X), label='predict')\n",
    "    ax.plot(X.index, y, label='observed', ls='--')\n",
    "    ax.legend()\n",
    "    ax.set_xlabel('index')\n",
    "    ax.set_ylabel('total_claims')"
   ]
  },
  {
   "cell_type": "code",
   "execution_count": 89,
   "id": "d11ebe67",
   "metadata": {
    "execution": {
     "iopub.execute_input": "2023-05-10T02:28:57.520715Z",
     "iopub.status.busy": "2023-05-10T02:28:57.520632Z",
     "iopub.status.idle": "2023-05-10T02:28:57.533224Z",
     "shell.execute_reply": "2023-05-10T02:28:57.532959Z"
    },
    "lines_to_next_cell": 1
   },
   "outputs": [
    {
     "ename": "NameError",
     "evalue": "name 'COL_MAP' is not defined",
     "output_type": "error",
     "traceback": [
      "\u001b[0;31m---------------------------------------------------------------------------\u001b[0m",
      "\u001b[0;31mNameError\u001b[0m                                 Traceback (most recent call last)",
      "Cell \u001b[0;32mIn [90], line 1\u001b[0m\n\u001b[0;32m----> 1\u001b[0m \u001b[43mplot_regression\u001b[49m\u001b[43m(\u001b[49m\u001b[43md\u001b[49m\u001b[43m)\u001b[49m\n",
      "Cell \u001b[0;32mIn [89], line 4\u001b[0m, in \u001b[0;36mplot_regression\u001b[0;34m(d)\u001b[0m\n\u001b[1;32m      3\u001b[0m \u001b[38;5;28;01mdef\u001b[39;00m \u001b[38;5;21mplot_regression\u001b[39m(d):    \n\u001b[0;32m----> 4\u001b[0m     e \u001b[38;5;241m=\u001b[39m d\u001b[38;5;241m.\u001b[39mloc[:, \u001b[43mCOL_MAP\u001b[49m[\u001b[38;5;124m'\u001b[39m\u001b[38;5;124medu\u001b[39m\u001b[38;5;124m'\u001b[39m] \u001b[38;5;241m+\u001b[39m [\u001b[38;5;124m'\u001b[39m\u001b[38;5;124mtotal_claims\u001b[39m\u001b[38;5;124m'\u001b[39m]]\u001b[38;5;241m.\u001b[39mreset_index(\u001b[38;5;241m0\u001b[39m, drop\u001b[38;5;241m=\u001b[39m\u001b[38;5;28;01mTrue\u001b[39;00m)\n\u001b[1;32m      5\u001b[0m     e \u001b[38;5;241m=\u001b[39m e\u001b[38;5;241m.\u001b[39mfillna(\u001b[38;5;241m0\u001b[39m)\n\u001b[1;32m      6\u001b[0m     X \u001b[38;5;241m=\u001b[39m e[COL_MAP[\u001b[38;5;124m'\u001b[39m\u001b[38;5;124medu\u001b[39m\u001b[38;5;124m'\u001b[39m]]\n",
      "\u001b[0;31mNameError\u001b[0m: name 'COL_MAP' is not defined"
     ]
    }
   ],
   "source": [
    "plot_regression(d)"
   ]
  },
  {
   "cell_type": "markdown",
   "id": "109f0a72",
   "metadata": {},
   "source": [
    "Build a linear model"
   ]
  },
  {
   "cell_type": "code",
   "execution_count": 90,
   "id": "5ee90f26",
   "metadata": {
    "execution": {
     "iopub.execute_input": "2023-05-10T02:28:57.534731Z",
     "iopub.status.busy": "2023-05-10T02:28:57.534622Z",
     "iopub.status.idle": "2023-05-10T02:28:57.536575Z",
     "shell.execute_reply": "2023-05-10T02:28:57.536356Z"
    },
    "lines_to_next_cell": 1
   },
   "outputs": [],
   "source": [
    "def impute_logistic(g, ycol):\n",
    "    g = g[[ycol, 'week_number', 'total_claims']]\n",
    "    xcols = ['week_number', 'total_claims']\n",
    "    ycols = [ycol]"
   ]
  },
  {
   "cell_type": "code",
   "execution_count": 91,
   "id": "5103ad8c",
   "metadata": {
    "execution": {
     "iopub.execute_input": "2023-05-10T02:28:57.538724Z",
     "iopub.status.busy": "2023-05-10T02:28:57.538531Z",
     "iopub.status.idle": "2023-05-10T02:28:57.545890Z",
     "shell.execute_reply": "2023-05-10T02:28:57.545658Z"
    }
   },
   "outputs": [
    {
     "ename": "NameError",
     "evalue": "name 'g' is not defined",
     "output_type": "error",
     "traceback": [
      "\u001b[0;31m---------------------------------------------------------------------------\u001b[0m",
      "\u001b[0;31mNameError\u001b[0m                                 Traceback (most recent call last)",
      "Cell \u001b[0;32mIn [92], line 1\u001b[0m\n\u001b[0;32m----> 1\u001b[0m mask_train \u001b[38;5;241m=\u001b[39m \u001b[38;5;241m~\u001b[39m\u001b[43mg\u001b[49m[ycol]\u001b[38;5;241m.\u001b[39misnull()\n\u001b[1;32m      2\u001b[0m x_train, x_test \u001b[38;5;241m=\u001b[39m g\u001b[38;5;241m.\u001b[39mloc[mask_train, xcols], g\u001b[38;5;241m.\u001b[39mloc[\u001b[38;5;241m~\u001b[39mmask_train, xcols]\n\u001b[1;32m      3\u001b[0m y_train, y_test \u001b[38;5;241m=\u001b[39m g\u001b[38;5;241m.\u001b[39mloc[mask_train, ycols], g\u001b[38;5;241m.\u001b[39mloc[\u001b[38;5;241m~\u001b[39mmask_train, ycols]\n",
      "\u001b[0;31mNameError\u001b[0m: name 'g' is not defined"
     ]
    }
   ],
   "source": [
    "mask_train = ~g[ycol].isnull()\n",
    "x_train, x_test = g.loc[mask_train, xcols], g.loc[~mask_train, xcols]\n",
    "y_train, y_test = g.loc[mask_train, ycols], g.loc[~mask_train, ycols]"
   ]
  },
  {
   "cell_type": "code",
   "execution_count": 92,
   "id": "fcd84d86",
   "metadata": {
    "execution": {
     "iopub.execute_input": "2023-05-10T02:28:57.547338Z",
     "iopub.status.busy": "2023-05-10T02:28:57.547253Z",
     "iopub.status.idle": "2023-05-10T02:28:57.549921Z",
     "shell.execute_reply": "2023-05-10T02:28:57.549692Z"
    },
    "lines_to_next_cell": 1
   },
   "outputs": [
    {
     "ename": "SyntaxError",
     "evalue": "invalid syntax (664185722.py, line 9)",
     "output_type": "error",
     "traceback": [
      "\u001b[0;36m  Cell \u001b[0;32mIn [93], line 9\u001b[0;36m\u001b[0m\n\u001b[0;31m    model =\u001b[0m\n\u001b[0m           ^\u001b[0m\n\u001b[0;31mSyntaxError\u001b[0m\u001b[0;31m:\u001b[0m invalid syntax\n"
     ]
    }
   ],
   "source": [
    "if y_train.shape[0] == 0:\n",
    "    g[ycol] = None\n",
    "    return g[ycol]\n",
    "    \n",
    "    classes = y_train[ycol].unique()\n",
    "    if len(classes) == 1:\n",
    "        yhat = [classes[0]]\n",
    "else:\n",
    "    model =\n",
    "        sklearn.linear_model.LogisticRegression(multi_class='multinomial', solver='lbfgs', max_iter=10000).fit(x_train, y_train.values.ravel())\n",
    "        yhat = model.predict(x_test)\n",
    "    g.loc[~mask_train, ycols] = yhat\n",
    "    return g[ycol]"
   ]
  },
  {
   "cell_type": "code",
   "execution_count": 93,
   "id": "839c9214",
   "metadata": {
    "execution": {
     "iopub.execute_input": "2023-05-10T02:28:57.551248Z",
     "iopub.status.busy": "2023-05-10T02:28:57.551172Z",
     "iopub.status.idle": "2023-05-10T02:28:57.553155Z",
     "shell.execute_reply": "2023-05-10T02:28:57.552958Z"
    },
    "lines_to_next_cell": 1
   },
   "outputs": [],
   "source": [
    "def impute_industry(g, max_week_number=37):\n",
    "    g = g.loc[g.week_number <= max_week_number, :]\n",
    "    x = g.copy()\n",
    "    for colname in COL_MAP['industry']:\n",
    "        x[colname] = impute_logistic(g, colname)\n",
    "    return x"
   ]
  },
  {
   "cell_type": "code",
   "execution_count": 94,
   "id": "b38352de",
   "metadata": {
    "execution": {
     "iopub.execute_input": "2023-05-10T02:28:57.554503Z",
     "iopub.status.busy": "2023-05-10T02:28:57.554421Z",
     "iopub.status.idle": "2023-05-10T02:28:57.556532Z",
     "shell.execute_reply": "2023-05-10T02:28:57.556279Z"
    },
    "lines_to_next_cell": 1
   },
   "outputs": [],
   "source": [
    "def load_imp_industry(csv_name='4_imp_industry.csv'):\n",
    "    if not os.path.isfile(csv_name):\n",
    "        d = load_clean()\n",
    "        d = d.groupby('uu_id').apply(impute_industry).reset_index(0, drop=True)\n",
    "        d.to_csv(csv_name, index=False)\n",
    "    else:\n",
    "        d = pd.read_csv(csv_name)\n",
    "    return d"
   ]
  },
  {
   "cell_type": "code",
   "execution_count": 95,
   "id": "ecd58500",
   "metadata": {
    "execution": {
     "iopub.execute_input": "2023-05-10T02:28:57.558033Z",
     "iopub.status.busy": "2023-05-10T02:28:57.557946Z",
     "iopub.status.idle": "2023-05-10T02:28:57.585230Z",
     "shell.execute_reply": "2023-05-10T02:28:57.584957Z"
    },
    "lines_to_next_cell": 1
   },
   "outputs": [],
   "source": [
    "d = load_imp_industry()\n",
    "d\n",
    "def plot_regression(d):    \n",
    "    e = d.loc[:, COL_MAP['edu'] + ['total_claims']].reset_index(0, drop=True)\n",
    "    e = e.fillna(0)\n",
    "    X = e[COL_MAP['edu']]\n",
    "    y = e['total_claims']\n",
    "    model = sklearn.linear_model.LinearRegression()\n",
    "    model.fit(X, y)\n",
    "    fig, ax = plt.subplots()\n",
    "    ax.plot(X.index, model.predict(X), label='predict')\n",
    "    ax.plot(X.index, y, label='observed', ls='--')\n",
    "    ax.legend()\n",
    "    ax.set_xlabel('index')\n",
    "    ax.set_ylabel('total_claims')"
   ]
  },
  {
   "cell_type": "code",
   "execution_count": 96,
   "id": "39d0effb",
   "metadata": {
    "execution": {
     "iopub.execute_input": "2023-05-10T02:28:57.586755Z",
     "iopub.status.busy": "2023-05-10T02:28:57.586674Z",
     "iopub.status.idle": "2023-05-10T02:28:57.597189Z",
     "shell.execute_reply": "2023-05-10T02:28:57.596917Z"
    },
    "lines_to_next_cell": 1
   },
   "outputs": [
    {
     "ename": "NameError",
     "evalue": "name 'COL_MAP' is not defined",
     "output_type": "error",
     "traceback": [
      "\u001b[0;31m---------------------------------------------------------------------------\u001b[0m",
      "\u001b[0;31mNameError\u001b[0m                                 Traceback (most recent call last)",
      "Cell \u001b[0;32mIn [97], line 1\u001b[0m\n\u001b[0;32m----> 1\u001b[0m \u001b[43mplot_regression\u001b[49m\u001b[43m(\u001b[49m\u001b[43md\u001b[49m\u001b[43m)\u001b[49m\n",
      "Cell \u001b[0;32mIn [96], line 4\u001b[0m, in \u001b[0;36mplot_regression\u001b[0;34m(d)\u001b[0m\n\u001b[1;32m      3\u001b[0m \u001b[38;5;28;01mdef\u001b[39;00m \u001b[38;5;21mplot_regression\u001b[39m(d):    \n\u001b[0;32m----> 4\u001b[0m     e \u001b[38;5;241m=\u001b[39m d\u001b[38;5;241m.\u001b[39mloc[:, \u001b[43mCOL_MAP\u001b[49m[\u001b[38;5;124m'\u001b[39m\u001b[38;5;124medu\u001b[39m\u001b[38;5;124m'\u001b[39m] \u001b[38;5;241m+\u001b[39m [\u001b[38;5;124m'\u001b[39m\u001b[38;5;124mtotal_claims\u001b[39m\u001b[38;5;124m'\u001b[39m]]\u001b[38;5;241m.\u001b[39mreset_index(\u001b[38;5;241m0\u001b[39m, drop\u001b[38;5;241m=\u001b[39m\u001b[38;5;28;01mTrue\u001b[39;00m)\n\u001b[1;32m      5\u001b[0m     e \u001b[38;5;241m=\u001b[39m e\u001b[38;5;241m.\u001b[39mfillna(\u001b[38;5;241m0\u001b[39m)\n\u001b[1;32m      6\u001b[0m     X \u001b[38;5;241m=\u001b[39m e[COL_MAP[\u001b[38;5;124m'\u001b[39m\u001b[38;5;124medu\u001b[39m\u001b[38;5;124m'\u001b[39m]]\n",
      "\u001b[0;31mNameError\u001b[0m: name 'COL_MAP' is not defined"
     ]
    }
   ],
   "source": [
    "plot_regression(d)"
   ]
  },
  {
   "cell_type": "markdown",
   "id": "82ab0754",
   "metadata": {},
   "source": [
    "Build a linear model"
   ]
  },
  {
   "cell_type": "code",
   "execution_count": 97,
   "id": "1212a503",
   "metadata": {
    "execution": {
     "iopub.execute_input": "2023-05-10T02:28:57.598552Z",
     "iopub.status.busy": "2023-05-10T02:28:57.598464Z",
     "iopub.status.idle": "2023-05-10T02:28:57.600292Z",
     "shell.execute_reply": "2023-05-10T02:28:57.600081Z"
    },
    "lines_to_next_cell": 1
   },
   "outputs": [],
   "source": [
    "def impute_logistic(g, ycol):\n",
    "    g = g[[ycol, 'week_number', 'total_claims']]\n",
    "    xcols = ['week_number', 'total_claims']\n",
    "    ycols = [ycol]"
   ]
  },
  {
   "cell_type": "code",
   "execution_count": 98,
   "id": "008f70c5",
   "metadata": {
    "execution": {
     "iopub.execute_input": "2023-05-10T02:28:57.601673Z",
     "iopub.status.busy": "2023-05-10T02:28:57.601593Z",
     "iopub.status.idle": "2023-05-10T02:28:57.609186Z",
     "shell.execute_reply": "2023-05-10T02:28:57.608168Z"
    }
   },
   "outputs": [
    {
     "ename": "NameError",
     "evalue": "name 'g' is not defined",
     "output_type": "error",
     "traceback": [
      "\u001b[0;31m---------------------------------------------------------------------------\u001b[0m",
      "\u001b[0;31mNameError\u001b[0m                                 Traceback (most recent call last)",
      "Cell \u001b[0;32mIn [99], line 1\u001b[0m\n\u001b[0;32m----> 1\u001b[0m mask_train \u001b[38;5;241m=\u001b[39m \u001b[38;5;241m~\u001b[39m\u001b[43mg\u001b[49m[ycol]\u001b[38;5;241m.\u001b[39misnull()\n\u001b[1;32m      2\u001b[0m x_train, x_test \u001b[38;5;241m=\u001b[39m g\u001b[38;5;241m.\u001b[39mloc[mask_train, xcols], g\u001b[38;5;241m.\u001b[39mloc[\u001b[38;5;241m~\u001b[39mmask_train, xcols]\n\u001b[1;32m      3\u001b[0m y_train, y_test \u001b[38;5;241m=\u001b[39m g\u001b[38;5;241m.\u001b[39mloc[mask_train, ycols], g\u001b[38;5;241m.\u001b[39mloc[\u001b[38;5;241m~\u001b[39mmask_train, ycols]\n",
      "\u001b[0;31mNameError\u001b[0m: name 'g' is not defined"
     ]
    }
   ],
   "source": [
    "mask_train = ~g[ycol].isnull()\n",
    "x_train, x_test = g.loc[mask_train, xcols], g.loc[~mask_train, xcols]\n",
    "y_train, y_test = g.loc[mask_train, ycols], g.loc[~mask_train, ycols]"
   ]
  },
  {
   "cell_type": "code",
   "execution_count": 99,
   "id": "78430321",
   "metadata": {
    "execution": {
     "iopub.execute_input": "2023-05-10T02:28:57.610974Z",
     "iopub.status.busy": "2023-05-10T02:28:57.610847Z",
     "iopub.status.idle": "2023-05-10T02:28:57.613192Z",
     "shell.execute_reply": "2023-05-10T02:28:57.612963Z"
    },
    "lines_to_next_cell": 1
   },
   "outputs": [
    {
     "ename": "IndentationError",
     "evalue": "unindent does not match any outer indentation level (<tokenize>, line 12)",
     "output_type": "error",
     "traceback": [
      "\u001b[0;36m  File \u001b[0;32m<tokenize>:12\u001b[0;36m\u001b[0m\n\u001b[0;31m    g.loc[~mask_train, ycols] = yhat\u001b[0m\n\u001b[0m    ^\u001b[0m\n\u001b[0;31mIndentationError\u001b[0m\u001b[0;31m:\u001b[0m unindent does not match any outer indentation level\n"
     ]
    }
   ],
   "source": [
    "if y_train.shape[0] == 0:\n",
    "    g[ycol] = None\n",
    "    return g[ycol]\n",
    "    \n",
    "    classes = y_train[ycol].unique()\n",
    "    if len(classes) == 1:\n",
    "        yhat = [classes[0]]\n",
    "else:\n",
    "    model =\n",
    "sklearn.linear_model.LogisticRegression(multi_class='multinomial', solver='lbfgs', max_iter=10000).fit(x_train, y_train.values.ravel())\n",
    "        yhat = model.predict(x_test)\n",
    "    g.loc[~mask_train, ycols] = yhat\n",
    "    return g[ycol]"
   ]
  },
  {
   "cell_type": "code",
   "execution_count": 100,
   "id": "63d060ec",
   "metadata": {
    "execution": {
     "iopub.execute_input": "2023-05-10T02:28:57.614510Z",
     "iopub.status.busy": "2023-05-10T02:28:57.614417Z",
     "iopub.status.idle": "2023-05-10T02:28:57.616378Z",
     "shell.execute_reply": "2023-05-10T02:28:57.616142Z"
    },
    "lines_to_next_cell": 1
   },
   "outputs": [],
   "source": [
    "def impute_industry(g, max_week_number=37):\n",
    "    g = g.loc[g.week_number <= max_week_number, :]\n",
    "    x = g.copy()\n",
    "    for colname in COL_MAP['industry']:\n",
    "        x[colname] = impute_logistic(g, colname)\n",
    "    return x"
   ]
  },
  {
   "cell_type": "code",
   "execution_count": 101,
   "id": "ebdeaac0",
   "metadata": {
    "execution": {
     "iopub.execute_input": "2023-05-10T02:28:57.617670Z",
     "iopub.status.busy": "2023-05-10T02:28:57.617572Z",
     "iopub.status.idle": "2023-05-10T02:28:57.619675Z",
     "shell.execute_reply": "2023-05-10T02:28:57.619455Z"
    },
    "lines_to_next_cell": 1
   },
   "outputs": [],
   "source": [
    "def load_imp_industry(csv_name='4_imp_industry.csv'):\n",
    "    if not os.path.isfile(csv_name):\n",
    "        d = load_clean()\n",
    "        d = d.groupby('uu_id').apply(impute_industry).reset_index(0, drop=True)\n",
    "        d.to_csv(csv_name, index=False)\n",
    "    else:\n",
    "        d = pd.read_csv(csv_name)\n",
    "    return d"
   ]
  },
  {
   "cell_type": "code",
   "execution_count": 102,
   "id": "da381bb8",
   "metadata": {
    "execution": {
     "iopub.execute_input": "2023-05-10T02:28:57.621019Z",
     "iopub.status.busy": "2023-05-10T02:28:57.620918Z",
     "iopub.status.idle": "2023-05-10T02:28:57.648487Z",
     "shell.execute_reply": "2023-05-10T02:28:57.648217Z"
    },
    "lines_to_next_cell": 1
   },
   "outputs": [],
   "source": [
    "d = load_imp_industry()\n",
    "d\n",
    "def plot_regression(d):    \n",
    "    e = d.loc[:, COL_MAP['edu'] + ['total_claims']].reset_index(0, drop=True)\n",
    "    e = e.fillna(0)\n",
    "    X = e[COL_MAP['edu']]\n",
    "    y = e['total_claims']\n",
    "    model = sklearn.linear_model.LinearRegression()\n",
    "    model.fit(X, y)\n",
    "    fig, ax = plt.subplots()\n",
    "    ax.plot(X.index, model.predict(X), label='predict')\n",
    "    ax.plot(X.index, y, label='observed', ls='--')\n",
    "    ax.legend()\n",
    "    ax.set_xlabel('index')\n",
    "    ax.set_ylabel('total_claims')"
   ]
  },
  {
   "cell_type": "code",
   "execution_count": 103,
   "id": "b96cf2cd",
   "metadata": {
    "execution": {
     "iopub.execute_input": "2023-05-10T02:28:57.650044Z",
     "iopub.status.busy": "2023-05-10T02:28:57.649957Z",
     "iopub.status.idle": "2023-05-10T02:28:57.660728Z",
     "shell.execute_reply": "2023-05-10T02:28:57.660442Z"
    },
    "lines_to_next_cell": 1
   },
   "outputs": [
    {
     "ename": "NameError",
     "evalue": "name 'COL_MAP' is not defined",
     "output_type": "error",
     "traceback": [
      "\u001b[0;31m---------------------------------------------------------------------------\u001b[0m",
      "\u001b[0;31mNameError\u001b[0m                                 Traceback (most recent call last)",
      "Cell \u001b[0;32mIn [105], line 1\u001b[0m\n\u001b[0;32m----> 1\u001b[0m \u001b[43mplot_regression\u001b[49m\u001b[43m(\u001b[49m\u001b[43md\u001b[49m\u001b[43m)\u001b[49m\n",
      "Cell \u001b[0;32mIn [104], line 4\u001b[0m, in \u001b[0;36mplot_regression\u001b[0;34m(d)\u001b[0m\n\u001b[1;32m      3\u001b[0m \u001b[38;5;28;01mdef\u001b[39;00m \u001b[38;5;21mplot_regression\u001b[39m(d):    \n\u001b[0;32m----> 4\u001b[0m     e \u001b[38;5;241m=\u001b[39m d\u001b[38;5;241m.\u001b[39mloc[:, \u001b[43mCOL_MAP\u001b[49m[\u001b[38;5;124m'\u001b[39m\u001b[38;5;124medu\u001b[39m\u001b[38;5;124m'\u001b[39m] \u001b[38;5;241m+\u001b[39m [\u001b[38;5;124m'\u001b[39m\u001b[38;5;124mtotal_claims\u001b[39m\u001b[38;5;124m'\u001b[39m]]\u001b[38;5;241m.\u001b[39mreset_index(\u001b[38;5;241m0\u001b[39m, drop\u001b[38;5;241m=\u001b[39m\u001b[38;5;28;01mTrue\u001b[39;00m)\n\u001b[1;32m      5\u001b[0m     e \u001b[38;5;241m=\u001b[39m e\u001b[38;5;241m.\u001b[39mfillna(\u001b[38;5;241m0\u001b[39m)\n\u001b[1;32m      6\u001b[0m     X \u001b[38;5;241m=\u001b[39m e[COL_MAP[\u001b[38;5;124m'\u001b[39m\u001b[38;5;124medu\u001b[39m\u001b[38;5;124m'\u001b[39m]]\n",
      "\u001b[0;31mNameError\u001b[0m: name 'COL_MAP' is not defined"
     ]
    }
   ],
   "source": [
    "plot_regression(d)"
   ]
  },
  {
   "cell_type": "markdown",
   "id": "af571ec0",
   "metadata": {},
   "source": [
    "Build a linear model"
   ]
  },
  {
   "cell_type": "code",
   "execution_count": 104,
   "id": "8771de5c",
   "metadata": {
    "execution": {
     "iopub.execute_input": "2023-05-10T02:28:57.662226Z",
     "iopub.status.busy": "2023-05-10T02:28:57.662123Z",
     "iopub.status.idle": "2023-05-10T02:28:57.663925Z",
     "shell.execute_reply": "2023-05-10T02:28:57.663723Z"
    },
    "lines_to_next_cell": 1
   },
   "outputs": [],
   "source": [
    "def impute_logistic(g, ycol):\n",
    "    g = g[[ycol, 'week_number', 'total_claims']]\n",
    "    xcols = ['week_number', 'total_claims']\n",
    "    ycols = [ycol]"
   ]
  },
  {
   "cell_type": "code",
   "execution_count": 105,
   "id": "64466b88",
   "metadata": {
    "execution": {
     "iopub.execute_input": "2023-05-10T02:28:57.665311Z",
     "iopub.status.busy": "2023-05-10T02:28:57.665210Z",
     "iopub.status.idle": "2023-05-10T02:28:57.672951Z",
     "shell.execute_reply": "2023-05-10T02:28:57.672687Z"
    }
   },
   "outputs": [
    {
     "ename": "NameError",
     "evalue": "name 'g' is not defined",
     "output_type": "error",
     "traceback": [
      "\u001b[0;31m---------------------------------------------------------------------------\u001b[0m",
      "\u001b[0;31mNameError\u001b[0m                                 Traceback (most recent call last)",
      "Cell \u001b[0;32mIn [107], line 1\u001b[0m\n\u001b[0;32m----> 1\u001b[0m mask_train \u001b[38;5;241m=\u001b[39m \u001b[38;5;241m~\u001b[39m\u001b[43mg\u001b[49m[ycol]\u001b[38;5;241m.\u001b[39misnull()\n\u001b[1;32m      2\u001b[0m x_train, x_test \u001b[38;5;241m=\u001b[39m g\u001b[38;5;241m.\u001b[39mloc[mask_train, xcols], g\u001b[38;5;241m.\u001b[39mloc[\u001b[38;5;241m~\u001b[39mmask_train, xcols]\n\u001b[1;32m      3\u001b[0m y_train, y_test \u001b[38;5;241m=\u001b[39m g\u001b[38;5;241m.\u001b[39mloc[mask_train, ycols], g\u001b[38;5;241m.\u001b[39mloc[\u001b[38;5;241m~\u001b[39mmask_train, ycols]\n",
      "\u001b[0;31mNameError\u001b[0m: name 'g' is not defined"
     ]
    }
   ],
   "source": [
    "mask_train = ~g[ycol].isnull()\n",
    "x_train, x_test = g.loc[mask_train, xcols], g.loc[~mask_train, xcols]\n",
    "y_train, y_test = g.loc[mask_train, ycols], g.loc[~mask_train, ycols]"
   ]
  },
  {
   "cell_type": "code",
   "execution_count": 106,
   "id": "465e4410",
   "metadata": {
    "execution": {
     "iopub.execute_input": "2023-05-10T02:28:57.674458Z",
     "iopub.status.busy": "2023-05-10T02:28:57.674355Z",
     "iopub.status.idle": "2023-05-10T02:28:57.676598Z",
     "shell.execute_reply": "2023-05-10T02:28:57.676348Z"
    }
   },
   "outputs": [
    {
     "ename": "SyntaxError",
     "evalue": "'return' outside function (1746719097.py, line 3)",
     "output_type": "error",
     "traceback": [
      "\u001b[0;36m  Cell \u001b[0;32mIn [108], line 3\u001b[0;36m\u001b[0m\n\u001b[0;31m    return g[ycol]\u001b[0m\n\u001b[0m    ^\u001b[0m\n\u001b[0;31mSyntaxError\u001b[0m\u001b[0;31m:\u001b[0m 'return' outside function\n"
     ]
    }
   ],
   "source": [
    "if y_train.shape[0] == 0:\n",
    "    g[ycol] = None\n",
    "    return g[ycol]"
   ]
  },
  {
   "cell_type": "code",
   "execution_count": 107,
   "id": "b8578aac",
   "metadata": {
    "execution": {
     "iopub.execute_input": "2023-05-10T02:28:57.677986Z",
     "iopub.status.busy": "2023-05-10T02:28:57.677883Z",
     "iopub.status.idle": "2023-05-10T02:28:57.679909Z",
     "shell.execute_reply": "2023-05-10T02:28:57.679669Z"
    },
    "lines_to_next_cell": 1
   },
   "outputs": [
    {
     "ename": "IndentationError",
     "evalue": "unindent does not match any outer indentation level (<tokenize>, line 8)",
     "output_type": "error",
     "traceback": [
      "\u001b[0;36m  File \u001b[0;32m<tokenize>:8\u001b[0;36m\u001b[0m\n\u001b[0;31m    g.loc[~mask_train, ycols] = yhat\u001b[0m\n\u001b[0m    ^\u001b[0m\n\u001b[0;31mIndentationError\u001b[0m\u001b[0;31m:\u001b[0m unindent does not match any outer indentation level\n"
     ]
    }
   ],
   "source": [
    "classes = y_train[ycol].unique()\n",
    "if len(classes) == 1:\n",
    "        yhat = [classes[0]]\n",
    "else:\n",
    "    model =\n",
    "sklearn.linear_model.LogisticRegression(multi_class='multinomial', solver='lbfgs', max_iter=10000).fit(x_train, y_train.values.ravel())\n",
    "        yhat = model.predict(x_test)\n",
    "    g.loc[~mask_train, ycols] = yhat\n",
    "    return g[ycol]"
   ]
  },
  {
   "cell_type": "code",
   "execution_count": 108,
   "id": "b4cb42f2",
   "metadata": {
    "execution": {
     "iopub.execute_input": "2023-05-10T02:28:57.681264Z",
     "iopub.status.busy": "2023-05-10T02:28:57.681171Z",
     "iopub.status.idle": "2023-05-10T02:28:57.683102Z",
     "shell.execute_reply": "2023-05-10T02:28:57.682892Z"
    },
    "lines_to_next_cell": 1
   },
   "outputs": [],
   "source": [
    "def impute_industry(g, max_week_number=37):\n",
    "    g = g.loc[g.week_number <= max_week_number, :]\n",
    "    x = g.copy()\n",
    "    for colname in COL_MAP['industry']:\n",
    "        x[colname] = impute_logistic(g, colname)\n",
    "    return x"
   ]
  },
  {
   "cell_type": "code",
   "execution_count": 109,
   "id": "2dde1a0d",
   "metadata": {
    "execution": {
     "iopub.execute_input": "2023-05-10T02:28:57.684428Z",
     "iopub.status.busy": "2023-05-10T02:28:57.684330Z",
     "iopub.status.idle": "2023-05-10T02:28:57.686428Z",
     "shell.execute_reply": "2023-05-10T02:28:57.686191Z"
    },
    "lines_to_next_cell": 1
   },
   "outputs": [],
   "source": [
    "def load_imp_industry(csv_name='4_imp_industry.csv'):\n",
    "    if not os.path.isfile(csv_name):\n",
    "        d = load_clean()\n",
    "        d = d.groupby('uu_id').apply(impute_industry).reset_index(0, drop=True)\n",
    "        d.to_csv(csv_name, index=False)\n",
    "    else:\n",
    "        d = pd.read_csv(csv_name)\n",
    "    return d"
   ]
  },
  {
   "cell_type": "code",
   "execution_count": 110,
   "id": "75877733",
   "metadata": {
    "execution": {
     "iopub.execute_input": "2023-05-10T02:28:57.687813Z",
     "iopub.status.busy": "2023-05-10T02:28:57.687712Z",
     "iopub.status.idle": "2023-05-10T02:28:57.714557Z",
     "shell.execute_reply": "2023-05-10T02:28:57.714274Z"
    },
    "lines_to_next_cell": 1
   },
   "outputs": [],
   "source": [
    "d = load_imp_industry()\n",
    "d\n",
    "def plot_regression(d):    \n",
    "    e = d.loc[:, COL_MAP['edu'] + ['total_claims']].reset_index(0, drop=True)\n",
    "    e = e.fillna(0)\n",
    "    X = e[COL_MAP['edu']]\n",
    "    y = e['total_claims']\n",
    "    model = sklearn.linear_model.LinearRegression()\n",
    "    model.fit(X, y)\n",
    "    fig, ax = plt.subplots()\n",
    "    ax.plot(X.index, model.predict(X), label='predict')\n",
    "    ax.plot(X.index, y, label='observed', ls='--')\n",
    "    ax.legend()\n",
    "    ax.set_xlabel('index')\n",
    "    ax.set_ylabel('total_claims')"
   ]
  },
  {
   "cell_type": "code",
   "execution_count": 111,
   "id": "fb6fe456",
   "metadata": {
    "execution": {
     "iopub.execute_input": "2023-05-10T02:28:57.716297Z",
     "iopub.status.busy": "2023-05-10T02:28:57.716201Z",
     "iopub.status.idle": "2023-05-10T02:28:57.727485Z",
     "shell.execute_reply": "2023-05-10T02:28:57.726946Z"
    },
    "lines_to_next_cell": 1
   },
   "outputs": [
    {
     "ename": "NameError",
     "evalue": "name 'COL_MAP' is not defined",
     "output_type": "error",
     "traceback": [
      "\u001b[0;31m---------------------------------------------------------------------------\u001b[0m",
      "\u001b[0;31mNameError\u001b[0m                                 Traceback (most recent call last)",
      "Cell \u001b[0;32mIn [114], line 1\u001b[0m\n\u001b[0;32m----> 1\u001b[0m \u001b[43mplot_regression\u001b[49m\u001b[43m(\u001b[49m\u001b[43md\u001b[49m\u001b[43m)\u001b[49m\n",
      "Cell \u001b[0;32mIn [113], line 4\u001b[0m, in \u001b[0;36mplot_regression\u001b[0;34m(d)\u001b[0m\n\u001b[1;32m      3\u001b[0m \u001b[38;5;28;01mdef\u001b[39;00m \u001b[38;5;21mplot_regression\u001b[39m(d):    \n\u001b[0;32m----> 4\u001b[0m     e \u001b[38;5;241m=\u001b[39m d\u001b[38;5;241m.\u001b[39mloc[:, \u001b[43mCOL_MAP\u001b[49m[\u001b[38;5;124m'\u001b[39m\u001b[38;5;124medu\u001b[39m\u001b[38;5;124m'\u001b[39m] \u001b[38;5;241m+\u001b[39m [\u001b[38;5;124m'\u001b[39m\u001b[38;5;124mtotal_claims\u001b[39m\u001b[38;5;124m'\u001b[39m]]\u001b[38;5;241m.\u001b[39mreset_index(\u001b[38;5;241m0\u001b[39m, drop\u001b[38;5;241m=\u001b[39m\u001b[38;5;28;01mTrue\u001b[39;00m)\n\u001b[1;32m      5\u001b[0m     e \u001b[38;5;241m=\u001b[39m e\u001b[38;5;241m.\u001b[39mfillna(\u001b[38;5;241m0\u001b[39m)\n\u001b[1;32m      6\u001b[0m     X \u001b[38;5;241m=\u001b[39m e[COL_MAP[\u001b[38;5;124m'\u001b[39m\u001b[38;5;124medu\u001b[39m\u001b[38;5;124m'\u001b[39m]]\n",
      "\u001b[0;31mNameError\u001b[0m: name 'COL_MAP' is not defined"
     ]
    }
   ],
   "source": [
    "plot_regression(d)"
   ]
  },
  {
   "cell_type": "markdown",
   "id": "888f71e8",
   "metadata": {},
   "source": [
    "Build a linear model"
   ]
  },
  {
   "cell_type": "code",
   "execution_count": 112,
   "id": "d1568faa",
   "metadata": {
    "execution": {
     "iopub.execute_input": "2023-05-10T02:28:57.729240Z",
     "iopub.status.busy": "2023-05-10T02:28:57.729124Z",
     "iopub.status.idle": "2023-05-10T02:28:57.731164Z",
     "shell.execute_reply": "2023-05-10T02:28:57.730896Z"
    },
    "lines_to_next_cell": 1
   },
   "outputs": [],
   "source": [
    "def impute_logistic(g, ycol):\n",
    "    g = g[[ycol, 'week_number', 'total_claims']]\n",
    "    xcols = ['week_number', 'total_claims']\n",
    "    ycols = [ycol]"
   ]
  },
  {
   "cell_type": "code",
   "execution_count": 113,
   "id": "22a92db5",
   "metadata": {
    "execution": {
     "iopub.execute_input": "2023-05-10T02:28:57.732578Z",
     "iopub.status.busy": "2023-05-10T02:28:57.732474Z",
     "iopub.status.idle": "2023-05-10T02:28:57.734555Z",
     "shell.execute_reply": "2023-05-10T02:28:57.734315Z"
    }
   },
   "outputs": [
    {
     "ename": "IndentationError",
     "evalue": "unexpected indent (3797937319.py, line 2)",
     "output_type": "error",
     "traceback": [
      "\u001b[0;36m  Cell \u001b[0;32mIn [116], line 2\u001b[0;36m\u001b[0m\n\u001b[0;31m    x_train, x_test = g.loc[mask_train, xcols], g.loc[~mask_train, xcols]\u001b[0m\n\u001b[0m    ^\u001b[0m\n\u001b[0;31mIndentationError\u001b[0m\u001b[0;31m:\u001b[0m unexpected indent\n"
     ]
    }
   ],
   "source": [
    "mask_train = ~g[ycol].isnull()\n",
    "    x_train, x_test = g.loc[mask_train, xcols], g.loc[~mask_train, xcols]\n",
    "    y_train, y_test = g.loc[mask_train, ycols], g.loc[~mask_train, ycols]"
   ]
  },
  {
   "cell_type": "code",
   "execution_count": 114,
   "id": "eccf6e16",
   "metadata": {
    "execution": {
     "iopub.execute_input": "2023-05-10T02:28:57.735861Z",
     "iopub.status.busy": "2023-05-10T02:28:57.735766Z",
     "iopub.status.idle": "2023-05-10T02:28:57.737874Z",
     "shell.execute_reply": "2023-05-10T02:28:57.737628Z"
    },
    "lines_to_next_cell": 1
   },
   "outputs": [
    {
     "ename": "IndentationError",
     "evalue": "unindent does not match any outer indentation level (<tokenize>, line 12)",
     "output_type": "error",
     "traceback": [
      "\u001b[0;36m  File \u001b[0;32m<tokenize>:12\u001b[0;36m\u001b[0m\n\u001b[0;31m    g.loc[~mask_train, ycols] = yhat\u001b[0m\n\u001b[0m    ^\u001b[0m\n\u001b[0;31mIndentationError\u001b[0m\u001b[0;31m:\u001b[0m unindent does not match any outer indentation level\n"
     ]
    }
   ],
   "source": [
    "if y_train.shape[0] == 0:\n",
    "    g[ycol] = None\n",
    "return g[ycol]\n",
    "    \n",
    "    classes = y_train[ycol].unique()\n",
    "if len(classes) == 1:\n",
    "        yhat = [classes[0]]\n",
    "else:\n",
    "    model =\n",
    "sklearn.linear_model.LogisticRegression(multi_class='multinomial', solver='lbfgs', max_iter=10000).fit(x_train, y_train.values.ravel())\n",
    "        yhat = model.predict(x_test)\n",
    "    g.loc[~mask_train, ycols] = yhat\n",
    "return g[ycol]"
   ]
  },
  {
   "cell_type": "code",
   "execution_count": 115,
   "id": "1b68e3b9",
   "metadata": {
    "execution": {
     "iopub.execute_input": "2023-05-10T02:28:57.739311Z",
     "iopub.status.busy": "2023-05-10T02:28:57.739211Z",
     "iopub.status.idle": "2023-05-10T02:28:57.741222Z",
     "shell.execute_reply": "2023-05-10T02:28:57.740951Z"
    },
    "lines_to_next_cell": 1
   },
   "outputs": [],
   "source": [
    "def impute_industry(g, max_week_number=37):\n",
    "    g = g.loc[g.week_number <= max_week_number, :]\n",
    "    x = g.copy()\n",
    "    for colname in COL_MAP['industry']:\n",
    "        x[colname] = impute_logistic(g, colname)\n",
    "    return x"
   ]
  },
  {
   "cell_type": "code",
   "execution_count": 116,
   "id": "e1914dd2",
   "metadata": {
    "execution": {
     "iopub.execute_input": "2023-05-10T02:28:57.742607Z",
     "iopub.status.busy": "2023-05-10T02:28:57.742508Z",
     "iopub.status.idle": "2023-05-10T02:28:57.744623Z",
     "shell.execute_reply": "2023-05-10T02:28:57.744409Z"
    },
    "lines_to_next_cell": 1
   },
   "outputs": [],
   "source": [
    "def load_imp_industry(csv_name='4_imp_industry.csv'):\n",
    "    if not os.path.isfile(csv_name):\n",
    "        d = load_clean()\n",
    "        d = d.groupby('uu_id').apply(impute_industry).reset_index(0, drop=True)\n",
    "        d.to_csv(csv_name, index=False)\n",
    "    else:\n",
    "        d = pd.read_csv(csv_name)\n",
    "    return d"
   ]
  },
  {
   "cell_type": "code",
   "execution_count": 117,
   "id": "23503293",
   "metadata": {
    "execution": {
     "iopub.execute_input": "2023-05-10T02:28:57.745936Z",
     "iopub.status.busy": "2023-05-10T02:28:57.745837Z",
     "iopub.status.idle": "2023-05-10T02:28:57.773104Z",
     "shell.execute_reply": "2023-05-10T02:28:57.772822Z"
    },
    "lines_to_next_cell": 1
   },
   "outputs": [],
   "source": [
    "d = load_imp_industry()\n",
    "d\n",
    "def plot_regression(d):    \n",
    "    e = d.loc[:, COL_MAP['edu'] + ['total_claims']].reset_index(0, drop=True)\n",
    "    e = e.fillna(0)\n",
    "    X = e[COL_MAP['edu']]\n",
    "    y = e['total_claims']\n",
    "    model = sklearn.linear_model.LinearRegression()\n",
    "    model.fit(X, y)\n",
    "    fig, ax = plt.subplots()\n",
    "    ax.plot(X.index, model.predict(X), label='predict')\n",
    "    ax.plot(X.index, y, label='observed', ls='--')\n",
    "    ax.legend()\n",
    "    ax.set_xlabel('index')\n",
    "    ax.set_ylabel('total_claims')"
   ]
  },
  {
   "cell_type": "code",
   "execution_count": 118,
   "id": "290ebd3b",
   "metadata": {
    "execution": {
     "iopub.execute_input": "2023-05-10T02:28:57.774706Z",
     "iopub.status.busy": "2023-05-10T02:28:57.774621Z",
     "iopub.status.idle": "2023-05-10T02:28:57.785078Z",
     "shell.execute_reply": "2023-05-10T02:28:57.784799Z"
    },
    "lines_to_next_cell": 1
   },
   "outputs": [
    {
     "ename": "NameError",
     "evalue": "name 'COL_MAP' is not defined",
     "output_type": "error",
     "traceback": [
      "\u001b[0;31m---------------------------------------------------------------------------\u001b[0m",
      "\u001b[0;31mNameError\u001b[0m                                 Traceback (most recent call last)",
      "Cell \u001b[0;32mIn [122], line 1\u001b[0m\n\u001b[0;32m----> 1\u001b[0m \u001b[43mplot_regression\u001b[49m\u001b[43m(\u001b[49m\u001b[43md\u001b[49m\u001b[43m)\u001b[49m\n",
      "Cell \u001b[0;32mIn [121], line 4\u001b[0m, in \u001b[0;36mplot_regression\u001b[0;34m(d)\u001b[0m\n\u001b[1;32m      3\u001b[0m \u001b[38;5;28;01mdef\u001b[39;00m \u001b[38;5;21mplot_regression\u001b[39m(d):    \n\u001b[0;32m----> 4\u001b[0m     e \u001b[38;5;241m=\u001b[39m d\u001b[38;5;241m.\u001b[39mloc[:, \u001b[43mCOL_MAP\u001b[49m[\u001b[38;5;124m'\u001b[39m\u001b[38;5;124medu\u001b[39m\u001b[38;5;124m'\u001b[39m] \u001b[38;5;241m+\u001b[39m [\u001b[38;5;124m'\u001b[39m\u001b[38;5;124mtotal_claims\u001b[39m\u001b[38;5;124m'\u001b[39m]]\u001b[38;5;241m.\u001b[39mreset_index(\u001b[38;5;241m0\u001b[39m, drop\u001b[38;5;241m=\u001b[39m\u001b[38;5;28;01mTrue\u001b[39;00m)\n\u001b[1;32m      5\u001b[0m     e \u001b[38;5;241m=\u001b[39m e\u001b[38;5;241m.\u001b[39mfillna(\u001b[38;5;241m0\u001b[39m)\n\u001b[1;32m      6\u001b[0m     X \u001b[38;5;241m=\u001b[39m e[COL_MAP[\u001b[38;5;124m'\u001b[39m\u001b[38;5;124medu\u001b[39m\u001b[38;5;124m'\u001b[39m]]\n",
      "\u001b[0;31mNameError\u001b[0m: name 'COL_MAP' is not defined"
     ]
    }
   ],
   "source": [
    "plot_regression(d)"
   ]
  },
  {
   "cell_type": "markdown",
   "id": "8576ac5f",
   "metadata": {},
   "source": [
    "Build a linear model"
   ]
  },
  {
   "cell_type": "code",
   "execution_count": 119,
   "id": "24ae7b85",
   "metadata": {
    "execution": {
     "iopub.execute_input": "2023-05-10T02:28:57.786406Z",
     "iopub.status.busy": "2023-05-10T02:28:57.786322Z",
     "iopub.status.idle": "2023-05-10T02:28:57.788121Z",
     "shell.execute_reply": "2023-05-10T02:28:57.787883Z"
    },
    "lines_to_next_cell": 1
   },
   "outputs": [],
   "source": [
    "def impute_logistic(g, ycol):\n",
    "    g = g[[ycol, 'week_number', 'total_claims']]\n",
    "    xcols = ['week_number', 'total_claims']\n",
    "    ycols = [ycol]"
   ]
  },
  {
   "cell_type": "code",
   "execution_count": 120,
   "id": "60412a5b",
   "metadata": {
    "execution": {
     "iopub.execute_input": "2023-05-10T02:28:57.789487Z",
     "iopub.status.busy": "2023-05-10T02:28:57.789402Z",
     "iopub.status.idle": "2023-05-10T02:28:57.791553Z",
     "shell.execute_reply": "2023-05-10T02:28:57.791293Z"
    }
   },
   "outputs": [
    {
     "ename": "IndentationError",
     "evalue": "unexpected indent (3797937319.py, line 2)",
     "output_type": "error",
     "traceback": [
      "\u001b[0;36m  Cell \u001b[0;32mIn [124], line 2\u001b[0;36m\u001b[0m\n\u001b[0;31m    x_train, x_test = g.loc[mask_train, xcols], g.loc[~mask_train, xcols]\u001b[0m\n\u001b[0m    ^\u001b[0m\n\u001b[0;31mIndentationError\u001b[0m\u001b[0;31m:\u001b[0m unexpected indent\n"
     ]
    }
   ],
   "source": [
    "mask_train = ~g[ycol].isnull()\n",
    "    x_train, x_test = g.loc[mask_train, xcols], g.loc[~mask_train, xcols]\n",
    "    y_train, y_test = g.loc[mask_train, ycols], g.loc[~mask_train, ycols]"
   ]
  },
  {
   "cell_type": "code",
   "execution_count": 121,
   "id": "5eb109ea",
   "metadata": {
    "execution": {
     "iopub.execute_input": "2023-05-10T02:28:57.792970Z",
     "iopub.status.busy": "2023-05-10T02:28:57.792892Z",
     "iopub.status.idle": "2023-05-10T02:28:57.795028Z",
     "shell.execute_reply": "2023-05-10T02:28:57.794787Z"
    },
    "lines_to_next_cell": 1
   },
   "outputs": [
    {
     "ename": "IndentationError",
     "evalue": "unindent does not match any outer indentation level (<tokenize>, line 12)",
     "output_type": "error",
     "traceback": [
      "\u001b[0;36m  File \u001b[0;32m<tokenize>:12\u001b[0;36m\u001b[0m\n\u001b[0;31m    g.loc[~mask_train, ycols] = yhat\u001b[0m\n\u001b[0m    ^\u001b[0m\n\u001b[0;31mIndentationError\u001b[0m\u001b[0;31m:\u001b[0m unindent does not match any outer indentation level\n"
     ]
    }
   ],
   "source": [
    "if y_train.shape[0] == 0:\n",
    "    g[ycol] = None\n",
    "return g[ycol]\n",
    "    \n",
    "    classes = y_train[ycol].unique()\n",
    "if len(classes) == 1:\n",
    "        yhat = [classes[0]]\n",
    "else:\n",
    "    model =\n",
    "sklearn.linear_model.LogisticRegression(multi_class='multinomial', solver='lbfgs', max_iter=10000).fit(x_train, y_train.values.ravel())\n",
    "        yhat = model.predict(x_test)\n",
    "    g.loc[~mask_train, ycols] = yhat\n",
    "return g[ycol]"
   ]
  },
  {
   "cell_type": "code",
   "execution_count": 122,
   "id": "d83f7352",
   "metadata": {
    "execution": {
     "iopub.execute_input": "2023-05-10T02:28:57.796372Z",
     "iopub.status.busy": "2023-05-10T02:28:57.796292Z",
     "iopub.status.idle": "2023-05-10T02:28:57.798304Z",
     "shell.execute_reply": "2023-05-10T02:28:57.798062Z"
    },
    "lines_to_next_cell": 1
   },
   "outputs": [],
   "source": [
    "def impute_industry(g, max_week_number=37):\n",
    "    g = g.loc[g.week_number <= max_week_number, :]\n",
    "    x = g.copy()\n",
    "    for colname in COL_MAP['industry']:\n",
    "        x[colname] = impute_logistic(g, colname)\n",
    "    return x"
   ]
  },
  {
   "cell_type": "code",
   "execution_count": 123,
   "id": "df3107f9",
   "metadata": {
    "execution": {
     "iopub.execute_input": "2023-05-10T02:28:57.799650Z",
     "iopub.status.busy": "2023-05-10T02:28:57.799575Z",
     "iopub.status.idle": "2023-05-10T02:28:57.801610Z",
     "shell.execute_reply": "2023-05-10T02:28:57.801375Z"
    },
    "lines_to_next_cell": 1
   },
   "outputs": [],
   "source": [
    "def load_imp_industry(csv_name='4_imp_industry.csv'):\n",
    "    if not os.path.isfile(csv_name):\n",
    "        d = load_clean()\n",
    "        d = d.groupby('uu_id').apply(impute_industry).reset_index(0, drop=True)\n",
    "        d.to_csv(csv_name, index=False)\n",
    "    else:\n",
    "        d = pd.read_csv(csv_name)\n",
    "    return d"
   ]
  },
  {
   "cell_type": "code",
   "execution_count": 124,
   "id": "f173a305",
   "metadata": {
    "execution": {
     "iopub.execute_input": "2023-05-10T02:28:57.802914Z",
     "iopub.status.busy": "2023-05-10T02:28:57.802836Z",
     "iopub.status.idle": "2023-05-10T02:28:57.843182Z",
     "shell.execute_reply": "2023-05-10T02:28:57.842911Z"
    },
    "lines_to_next_cell": 1
   },
   "outputs": [
    {
     "data": {
      "text/html": [
       "<div>\n",
       "<style scoped>\n",
       "    .dataframe tbody tr th:only-of-type {\n",
       "        vertical-align: middle;\n",
       "    }\n",
       "\n",
       "    .dataframe tbody tr th {\n",
       "        vertical-align: top;\n",
       "    }\n",
       "\n",
       "    .dataframe thead th {\n",
       "        text-align: right;\n",
       "    }\n",
       "</style>\n",
       "<table border=\"1\" class=\"dataframe\">\n",
       "  <thead>\n",
       "    <tr style=\"text-align: right;\">\n",
       "      <th></th>\n",
       "      <th>uu_id</th>\n",
       "      <th>total_claims</th>\n",
       "      <th>edu_8th_or_less</th>\n",
       "      <th>edu_grades_9_11</th>\n",
       "      <th>edu_hs_grad_equiv</th>\n",
       "      <th>edu_post_hs</th>\n",
       "      <th>edu_unknown</th>\n",
       "      <th>top_category_employer1</th>\n",
       "      <th>top_category_employer2</th>\n",
       "      <th>top_category_employer3</th>\n",
       "      <th>...</th>\n",
       "      <th>race_amerindian</th>\n",
       "      <th>race_asian</th>\n",
       "      <th>race_black</th>\n",
       "      <th>race_noanswer</th>\n",
       "      <th>race_hawaiiannative</th>\n",
       "      <th>race_other</th>\n",
       "      <th>race_white</th>\n",
       "      <th>average_wage</th>\n",
       "      <th>week_number</th>\n",
       "      <th>date</th>\n",
       "    </tr>\n",
       "  </thead>\n",
       "  <tbody>\n",
       "    <tr>\n",
       "      <th>0</th>\n",
       "      <td>001cd9ae23064d7f0fd3cd327c873d8d</td>\n",
       "      <td>104.323590</td>\n",
       "      <td>0.0</td>\n",
       "      <td>0.0</td>\n",
       "      <td>104.323590</td>\n",
       "      <td>0.0</td>\n",
       "      <td>0.0</td>\n",
       "      <td>31-33</td>\n",
       "      <td>23</td>\n",
       "      <td>81</td>\n",
       "      <td>...</td>\n",
       "      <td>0.0</td>\n",
       "      <td>0.0</td>\n",
       "      <td>0.0</td>\n",
       "      <td>0.0</td>\n",
       "      <td>0.0</td>\n",
       "      <td>0.0</td>\n",
       "      <td>104.323590</td>\n",
       "      <td>10484.333333</td>\n",
       "      <td>1</td>\n",
       "      <td>2022-01-01</td>\n",
       "    </tr>\n",
       "    <tr>\n",
       "      <th>1</th>\n",
       "      <td>001cd9ae23064d7f0fd3cd327c873d8d</td>\n",
       "      <td>101.703882</td>\n",
       "      <td>0.0</td>\n",
       "      <td>0.0</td>\n",
       "      <td>101.703882</td>\n",
       "      <td>0.0</td>\n",
       "      <td>0.0</td>\n",
       "      <td>31-33</td>\n",
       "      <td>23</td>\n",
       "      <td>81</td>\n",
       "      <td>...</td>\n",
       "      <td>0.0</td>\n",
       "      <td>0.0</td>\n",
       "      <td>0.0</td>\n",
       "      <td>0.0</td>\n",
       "      <td>0.0</td>\n",
       "      <td>0.0</td>\n",
       "      <td>101.703882</td>\n",
       "      <td>10484.333333</td>\n",
       "      <td>2</td>\n",
       "      <td>2022-01-08</td>\n",
       "    </tr>\n",
       "    <tr>\n",
       "      <th>2</th>\n",
       "      <td>001cd9ae23064d7f0fd3cd327c873d8d</td>\n",
       "      <td>99.084175</td>\n",
       "      <td>0.0</td>\n",
       "      <td>0.0</td>\n",
       "      <td>99.084175</td>\n",
       "      <td>0.0</td>\n",
       "      <td>0.0</td>\n",
       "      <td>31-33</td>\n",
       "      <td>23</td>\n",
       "      <td>81</td>\n",
       "      <td>...</td>\n",
       "      <td>0.0</td>\n",
       "      <td>0.0</td>\n",
       "      <td>0.0</td>\n",
       "      <td>0.0</td>\n",
       "      <td>0.0</td>\n",
       "      <td>0.0</td>\n",
       "      <td>99.084175</td>\n",
       "      <td>10484.333333</td>\n",
       "      <td>3</td>\n",
       "      <td>2022-01-15</td>\n",
       "    </tr>\n",
       "    <tr>\n",
       "      <th>3</th>\n",
       "      <td>001cd9ae23064d7f0fd3cd327c873d8d</td>\n",
       "      <td>96.464467</td>\n",
       "      <td>0.0</td>\n",
       "      <td>0.0</td>\n",
       "      <td>96.464467</td>\n",
       "      <td>0.0</td>\n",
       "      <td>0.0</td>\n",
       "      <td>31-33</td>\n",
       "      <td>23</td>\n",
       "      <td>81</td>\n",
       "      <td>...</td>\n",
       "      <td>0.0</td>\n",
       "      <td>0.0</td>\n",
       "      <td>0.0</td>\n",
       "      <td>0.0</td>\n",
       "      <td>0.0</td>\n",
       "      <td>0.0</td>\n",
       "      <td>96.464467</td>\n",
       "      <td>10484.333333</td>\n",
       "      <td>4</td>\n",
       "      <td>2022-01-22</td>\n",
       "    </tr>\n",
       "    <tr>\n",
       "      <th>4</th>\n",
       "      <td>001cd9ae23064d7f0fd3cd327c873d8d</td>\n",
       "      <td>93.844759</td>\n",
       "      <td>0.0</td>\n",
       "      <td>0.0</td>\n",
       "      <td>93.844759</td>\n",
       "      <td>0.0</td>\n",
       "      <td>0.0</td>\n",
       "      <td>31-33</td>\n",
       "      <td>23</td>\n",
       "      <td>81</td>\n",
       "      <td>...</td>\n",
       "      <td>0.0</td>\n",
       "      <td>0.0</td>\n",
       "      <td>0.0</td>\n",
       "      <td>0.0</td>\n",
       "      <td>0.0</td>\n",
       "      <td>0.0</td>\n",
       "      <td>93.844759</td>\n",
       "      <td>10484.333333</td>\n",
       "      <td>5</td>\n",
       "      <td>2022-01-29</td>\n",
       "    </tr>\n",
       "    <tr>\n",
       "      <th>...</th>\n",
       "      <td>...</td>\n",
       "      <td>...</td>\n",
       "      <td>...</td>\n",
       "      <td>...</td>\n",
       "      <td>...</td>\n",
       "      <td>...</td>\n",
       "      <td>...</td>\n",
       "      <td>...</td>\n",
       "      <td>...</td>\n",
       "      <td>...</td>\n",
       "      <td>...</td>\n",
       "      <td>...</td>\n",
       "      <td>...</td>\n",
       "      <td>...</td>\n",
       "      <td>...</td>\n",
       "      <td>...</td>\n",
       "      <td>...</td>\n",
       "      <td>...</td>\n",
       "      <td>...</td>\n",
       "      <td>...</td>\n",
       "      <td>...</td>\n",
       "    </tr>\n",
       "    <tr>\n",
       "      <th>19420</th>\n",
       "      <td>fec479d0202d6e1e3f051a9ee902ff5d</td>\n",
       "      <td>59.000000</td>\n",
       "      <td>0.0</td>\n",
       "      <td>0.0</td>\n",
       "      <td>10.000000</td>\n",
       "      <td>49.0</td>\n",
       "      <td>0.0</td>\n",
       "      <td>62</td>\n",
       "      <td>23</td>\n",
       "      <td>31-33</td>\n",
       "      <td>...</td>\n",
       "      <td>0.0</td>\n",
       "      <td>0.0</td>\n",
       "      <td>7.0</td>\n",
       "      <td>0.0</td>\n",
       "      <td>0.0</td>\n",
       "      <td>0.0</td>\n",
       "      <td>52.000000</td>\n",
       "      <td>9908.312500</td>\n",
       "      <td>33</td>\n",
       "      <td>2022-08-13</td>\n",
       "    </tr>\n",
       "    <tr>\n",
       "      <th>19421</th>\n",
       "      <td>fec479d0202d6e1e3f051a9ee902ff5d</td>\n",
       "      <td>34.000000</td>\n",
       "      <td>0.0</td>\n",
       "      <td>0.0</td>\n",
       "      <td>9.000000</td>\n",
       "      <td>25.0</td>\n",
       "      <td>0.0</td>\n",
       "      <td>23</td>\n",
       "      <td>62</td>\n",
       "      <td>61</td>\n",
       "      <td>...</td>\n",
       "      <td>0.0</td>\n",
       "      <td>0.0</td>\n",
       "      <td>8.0</td>\n",
       "      <td>0.0</td>\n",
       "      <td>0.0</td>\n",
       "      <td>0.0</td>\n",
       "      <td>26.000000</td>\n",
       "      <td>9908.312500</td>\n",
       "      <td>34</td>\n",
       "      <td>2022-08-20</td>\n",
       "    </tr>\n",
       "    <tr>\n",
       "      <th>19422</th>\n",
       "      <td>fec479d0202d6e1e3f051a9ee902ff5d</td>\n",
       "      <td>27.000000</td>\n",
       "      <td>0.0</td>\n",
       "      <td>0.0</td>\n",
       "      <td>12.000000</td>\n",
       "      <td>15.0</td>\n",
       "      <td>0.0</td>\n",
       "      <td>62</td>\n",
       "      <td>23</td>\n",
       "      <td>72</td>\n",
       "      <td>...</td>\n",
       "      <td>0.0</td>\n",
       "      <td>0.0</td>\n",
       "      <td>8.0</td>\n",
       "      <td>0.0</td>\n",
       "      <td>0.0</td>\n",
       "      <td>0.0</td>\n",
       "      <td>19.000000</td>\n",
       "      <td>9908.312500</td>\n",
       "      <td>35</td>\n",
       "      <td>2022-08-27</td>\n",
       "    </tr>\n",
       "    <tr>\n",
       "      <th>19423</th>\n",
       "      <td>fec479d0202d6e1e3f051a9ee902ff5d</td>\n",
       "      <td>28.000000</td>\n",
       "      <td>0.0</td>\n",
       "      <td>0.0</td>\n",
       "      <td>10.000000</td>\n",
       "      <td>18.0</td>\n",
       "      <td>0.0</td>\n",
       "      <td>23</td>\n",
       "      <td>62</td>\n",
       "      <td>72</td>\n",
       "      <td>...</td>\n",
       "      <td>0.0</td>\n",
       "      <td>0.0</td>\n",
       "      <td>10.0</td>\n",
       "      <td>0.0</td>\n",
       "      <td>0.0</td>\n",
       "      <td>0.0</td>\n",
       "      <td>18.000000</td>\n",
       "      <td>9908.312500</td>\n",
       "      <td>36</td>\n",
       "      <td>2022-09-03</td>\n",
       "    </tr>\n",
       "    <tr>\n",
       "      <th>19424</th>\n",
       "      <td>fec479d0202d6e1e3f051a9ee902ff5d</td>\n",
       "      <td>28.000000</td>\n",
       "      <td>0.0</td>\n",
       "      <td>0.0</td>\n",
       "      <td>11.000000</td>\n",
       "      <td>17.0</td>\n",
       "      <td>0.0</td>\n",
       "      <td>62</td>\n",
       "      <td>23</td>\n",
       "      <td>72</td>\n",
       "      <td>...</td>\n",
       "      <td>0.0</td>\n",
       "      <td>0.0</td>\n",
       "      <td>8.0</td>\n",
       "      <td>0.0</td>\n",
       "      <td>0.0</td>\n",
       "      <td>0.0</td>\n",
       "      <td>20.000000</td>\n",
       "      <td>9908.312500</td>\n",
       "      <td>37</td>\n",
       "      <td>2022-09-10</td>\n",
       "    </tr>\n",
       "  </tbody>\n",
       "</table>\n",
       "<p>19425 rows × 23 columns</p>\n",
       "</div>"
      ],
      "text/plain": [
       "                                  uu_id  total_claims  edu_8th_or_less  \\\n",
       "0      001cd9ae23064d7f0fd3cd327c873d8d    104.323590              0.0   \n",
       "1      001cd9ae23064d7f0fd3cd327c873d8d    101.703882              0.0   \n",
       "2      001cd9ae23064d7f0fd3cd327c873d8d     99.084175              0.0   \n",
       "3      001cd9ae23064d7f0fd3cd327c873d8d     96.464467              0.0   \n",
       "4      001cd9ae23064d7f0fd3cd327c873d8d     93.844759              0.0   \n",
       "...                                 ...           ...              ...   \n",
       "19420  fec479d0202d6e1e3f051a9ee902ff5d     59.000000              0.0   \n",
       "19421  fec479d0202d6e1e3f051a9ee902ff5d     34.000000              0.0   \n",
       "19422  fec479d0202d6e1e3f051a9ee902ff5d     27.000000              0.0   \n",
       "19423  fec479d0202d6e1e3f051a9ee902ff5d     28.000000              0.0   \n",
       "19424  fec479d0202d6e1e3f051a9ee902ff5d     28.000000              0.0   \n",
       "\n",
       "       edu_grades_9_11  edu_hs_grad_equiv  edu_post_hs  edu_unknown  \\\n",
       "0                  0.0         104.323590          0.0          0.0   \n",
       "1                  0.0         101.703882          0.0          0.0   \n",
       "2                  0.0          99.084175          0.0          0.0   \n",
       "3                  0.0          96.464467          0.0          0.0   \n",
       "4                  0.0          93.844759          0.0          0.0   \n",
       "...                ...                ...          ...          ...   \n",
       "19420              0.0          10.000000         49.0          0.0   \n",
       "19421              0.0           9.000000         25.0          0.0   \n",
       "19422              0.0          12.000000         15.0          0.0   \n",
       "19423              0.0          10.000000         18.0          0.0   \n",
       "19424              0.0          11.000000         17.0          0.0   \n",
       "\n",
       "      top_category_employer1 top_category_employer2 top_category_employer3  \\\n",
       "0                      31-33                     23                     81   \n",
       "1                      31-33                     23                     81   \n",
       "2                      31-33                     23                     81   \n",
       "3                      31-33                     23                     81   \n",
       "4                      31-33                     23                     81   \n",
       "...                      ...                    ...                    ...   \n",
       "19420                     62                     23                  31-33   \n",
       "19421                     23                     62                     61   \n",
       "19422                     62                     23                     72   \n",
       "19423                     23                     62                     72   \n",
       "19424                     62                     23                     72   \n",
       "\n",
       "       ...  race_amerindian  race_asian  race_black  race_noanswer  \\\n",
       "0      ...              0.0         0.0         0.0            0.0   \n",
       "1      ...              0.0         0.0         0.0            0.0   \n",
       "2      ...              0.0         0.0         0.0            0.0   \n",
       "3      ...              0.0         0.0         0.0            0.0   \n",
       "4      ...              0.0         0.0         0.0            0.0   \n",
       "...    ...              ...         ...         ...            ...   \n",
       "19420  ...              0.0         0.0         7.0            0.0   \n",
       "19421  ...              0.0         0.0         8.0            0.0   \n",
       "19422  ...              0.0         0.0         8.0            0.0   \n",
       "19423  ...              0.0         0.0        10.0            0.0   \n",
       "19424  ...              0.0         0.0         8.0            0.0   \n",
       "\n",
       "       race_hawaiiannative  race_other  race_white  average_wage  week_number  \\\n",
       "0                      0.0         0.0  104.323590  10484.333333            1   \n",
       "1                      0.0         0.0  101.703882  10484.333333            2   \n",
       "2                      0.0         0.0   99.084175  10484.333333            3   \n",
       "3                      0.0         0.0   96.464467  10484.333333            4   \n",
       "4                      0.0         0.0   93.844759  10484.333333            5   \n",
       "...                    ...         ...         ...           ...          ...   \n",
       "19420                  0.0         0.0   52.000000   9908.312500           33   \n",
       "19421                  0.0         0.0   26.000000   9908.312500           34   \n",
       "19422                  0.0         0.0   19.000000   9908.312500           35   \n",
       "19423                  0.0         0.0   18.000000   9908.312500           36   \n",
       "19424                  0.0         0.0   20.000000   9908.312500           37   \n",
       "\n",
       "             date  \n",
       "0      2022-01-01  \n",
       "1      2022-01-08  \n",
       "2      2022-01-15  \n",
       "3      2022-01-22  \n",
       "4      2022-01-29  \n",
       "...           ...  \n",
       "19420  2022-08-13  \n",
       "19421  2022-08-20  \n",
       "19422  2022-08-27  \n",
       "19423  2022-09-03  \n",
       "19424  2022-09-10  \n",
       "\n",
       "[19425 rows x 23 columns]"
      ]
     },
     "execution_count": 129,
     "metadata": {},
     "output_type": "execute_result"
    }
   ],
   "source": [
    "d = load_imp_industry()\n",
    "d"
   ]
  },
  {
   "cell_type": "code",
   "execution_count": 125,
   "id": "229c9d06",
   "metadata": {
    "execution": {
     "iopub.execute_input": "2023-05-10T02:28:57.844635Z",
     "iopub.status.busy": "2023-05-10T02:28:57.844521Z",
     "iopub.status.idle": "2023-05-10T02:28:57.847234Z",
     "shell.execute_reply": "2023-05-10T02:28:57.847023Z"
    },
    "lines_to_next_cell": 1
   },
   "outputs": [],
   "source": [
    "def plot_regression(d):    \n",
    "    e = d.loc[:, COL_MAP['edu'] + ['total_claims']].reset_index(0, drop=True)\n",
    "    e = e.fillna(0)\n",
    "    X = e[COL_MAP['edu']]\n",
    "    y = e['total_claims']\n",
    "    model = sklearn.linear_model.LinearRegression()\n",
    "    model.fit(X, y)\n",
    "    fig, ax = plt.subplots()\n",
    "    ax.plot(X.index, model.predict(X), label='predict')\n",
    "    ax.plot(X.index, y, label='observed', ls='--')\n",
    "    ax.legend()\n",
    "    ax.set_xlabel('index')\n",
    "    ax.set_ylabel('total_claims')"
   ]
  },
  {
   "cell_type": "code",
   "execution_count": 126,
   "id": "64a0def3",
   "metadata": {
    "execution": {
     "iopub.execute_input": "2023-05-10T02:28:57.848546Z",
     "iopub.status.busy": "2023-05-10T02:28:57.848444Z",
     "iopub.status.idle": "2023-05-10T02:28:57.860590Z",
     "shell.execute_reply": "2023-05-10T02:28:57.860330Z"
    },
    "lines_to_next_cell": 1
   },
   "outputs": [
    {
     "ename": "NameError",
     "evalue": "name 'COL_MAP' is not defined",
     "output_type": "error",
     "traceback": [
      "\u001b[0;31m---------------------------------------------------------------------------\u001b[0m",
      "\u001b[0;31mNameError\u001b[0m                                 Traceback (most recent call last)",
      "Cell \u001b[0;32mIn [131], line 1\u001b[0m\n\u001b[0;32m----> 1\u001b[0m \u001b[43mplot_regression\u001b[49m\u001b[43m(\u001b[49m\u001b[43md\u001b[49m\u001b[43m)\u001b[49m\n",
      "Cell \u001b[0;32mIn [130], line 2\u001b[0m, in \u001b[0;36mplot_regression\u001b[0;34m(d)\u001b[0m\n\u001b[1;32m      1\u001b[0m \u001b[38;5;28;01mdef\u001b[39;00m \u001b[38;5;21mplot_regression\u001b[39m(d):    \n\u001b[0;32m----> 2\u001b[0m     e \u001b[38;5;241m=\u001b[39m d\u001b[38;5;241m.\u001b[39mloc[:, \u001b[43mCOL_MAP\u001b[49m[\u001b[38;5;124m'\u001b[39m\u001b[38;5;124medu\u001b[39m\u001b[38;5;124m'\u001b[39m] \u001b[38;5;241m+\u001b[39m [\u001b[38;5;124m'\u001b[39m\u001b[38;5;124mtotal_claims\u001b[39m\u001b[38;5;124m'\u001b[39m]]\u001b[38;5;241m.\u001b[39mreset_index(\u001b[38;5;241m0\u001b[39m, drop\u001b[38;5;241m=\u001b[39m\u001b[38;5;28;01mTrue\u001b[39;00m)\n\u001b[1;32m      3\u001b[0m     e \u001b[38;5;241m=\u001b[39m e\u001b[38;5;241m.\u001b[39mfillna(\u001b[38;5;241m0\u001b[39m)\n\u001b[1;32m      4\u001b[0m     X \u001b[38;5;241m=\u001b[39m e[COL_MAP[\u001b[38;5;124m'\u001b[39m\u001b[38;5;124medu\u001b[39m\u001b[38;5;124m'\u001b[39m]]\n",
      "\u001b[0;31mNameError\u001b[0m: name 'COL_MAP' is not defined"
     ]
    }
   ],
   "source": [
    "plot_regression(d)"
   ]
  },
  {
   "cell_type": "markdown",
   "id": "0f15b01e",
   "metadata": {},
   "source": [
    "Build a linear model"
   ]
  },
  {
   "cell_type": "code",
   "execution_count": 127,
   "id": "cfb771b1",
   "metadata": {
    "execution": {
     "iopub.execute_input": "2023-05-10T02:28:57.861962Z",
     "iopub.status.busy": "2023-05-10T02:28:57.861882Z",
     "iopub.status.idle": "2023-05-10T02:28:57.863950Z",
     "shell.execute_reply": "2023-05-10T02:28:57.863692Z"
    },
    "lines_to_next_cell": 1
   },
   "outputs": [],
   "source": [
    "def impute_logistic(g, ycol):\n",
    "    g = g[[ycol, 'week_number', 'total_claims']]\n",
    "    xcols = ['week_number', 'total_claims']\n",
    "    ycols = [ycol]"
   ]
  },
  {
   "cell_type": "code",
   "execution_count": 128,
   "id": "e7965a3b",
   "metadata": {
    "execution": {
     "iopub.execute_input": "2023-05-10T02:28:57.865316Z",
     "iopub.status.busy": "2023-05-10T02:28:57.865230Z",
     "iopub.status.idle": "2023-05-10T02:28:57.867362Z",
     "shell.execute_reply": "2023-05-10T02:28:57.867127Z"
    }
   },
   "outputs": [
    {
     "ename": "IndentationError",
     "evalue": "unexpected indent (3797937319.py, line 2)",
     "output_type": "error",
     "traceback": [
      "\u001b[0;36m  Cell \u001b[0;32mIn [133], line 2\u001b[0;36m\u001b[0m\n\u001b[0;31m    x_train, x_test = g.loc[mask_train, xcols], g.loc[~mask_train, xcols]\u001b[0m\n\u001b[0m    ^\u001b[0m\n\u001b[0;31mIndentationError\u001b[0m\u001b[0;31m:\u001b[0m unexpected indent\n"
     ]
    }
   ],
   "source": [
    "mask_train = ~g[ycol].isnull()\n",
    "    x_train, x_test = g.loc[mask_train, xcols], g.loc[~mask_train, xcols]\n",
    "    y_train, y_test = g.loc[mask_train, ycols], g.loc[~mask_train, ycols]"
   ]
  },
  {
   "cell_type": "code",
   "execution_count": 129,
   "id": "68556c5c",
   "metadata": {
    "execution": {
     "iopub.execute_input": "2023-05-10T02:28:57.868671Z",
     "iopub.status.busy": "2023-05-10T02:28:57.868592Z",
     "iopub.status.idle": "2023-05-10T02:28:57.870782Z",
     "shell.execute_reply": "2023-05-10T02:28:57.870526Z"
    },
    "lines_to_next_cell": 1
   },
   "outputs": [
    {
     "ename": "IndentationError",
     "evalue": "unindent does not match any outer indentation level (<tokenize>, line 12)",
     "output_type": "error",
     "traceback": [
      "\u001b[0;36m  File \u001b[0;32m<tokenize>:12\u001b[0;36m\u001b[0m\n\u001b[0;31m    g.loc[~mask_train, ycols] = yhat\u001b[0m\n\u001b[0m    ^\u001b[0m\n\u001b[0;31mIndentationError\u001b[0m\u001b[0;31m:\u001b[0m unindent does not match any outer indentation level\n"
     ]
    }
   ],
   "source": [
    "if y_train.shape[0] == 0:\n",
    "    g[ycol] = None\n",
    "return g[ycol]\n",
    "    \n",
    "    classes = y_train[ycol].unique()\n",
    "if len(classes) == 1:\n",
    "        yhat = [classes[0]]\n",
    "else:\n",
    "    model =\n",
    "sklearn.linear_model.LogisticRegression(multi_class='multinomial', solver='lbfgs', max_iter=10000).fit(x_train, y_train.values.ravel())\n",
    "        yhat = model.predict(x_test)\n",
    "    g.loc[~mask_train, ycols] = yhat\n",
    "return g[ycol]"
   ]
  },
  {
   "cell_type": "code",
   "execution_count": 130,
   "id": "0380934a",
   "metadata": {
    "execution": {
     "iopub.execute_input": "2023-05-10T02:28:57.872203Z",
     "iopub.status.busy": "2023-05-10T02:28:57.872122Z",
     "iopub.status.idle": "2023-05-10T02:28:57.874126Z",
     "shell.execute_reply": "2023-05-10T02:28:57.873842Z"
    },
    "lines_to_next_cell": 1
   },
   "outputs": [],
   "source": [
    "def impute_industry(g, max_week_number=37):\n",
    "    g = g.loc[g.week_number <= max_week_number, :]\n",
    "    x = g.copy()\n",
    "    for colname in COL_MAP['industry']:\n",
    "        x[colname] = impute_logistic(g, colname)\n",
    "    return x"
   ]
  },
  {
   "cell_type": "code",
   "execution_count": 131,
   "id": "da8b5fb9",
   "metadata": {
    "execution": {
     "iopub.execute_input": "2023-05-10T02:28:57.875773Z",
     "iopub.status.busy": "2023-05-10T02:28:57.875665Z",
     "iopub.status.idle": "2023-05-10T02:28:57.877860Z",
     "shell.execute_reply": "2023-05-10T02:28:57.877631Z"
    },
    "lines_to_next_cell": 1
   },
   "outputs": [],
   "source": [
    "def load_imp_industry(csv_name='4_imp_industry.csv'):\n",
    "    if not os.path.isfile(csv_name):\n",
    "        d = load_clean()\n",
    "        d = d.groupby('uu_id').apply(impute_industry).reset_index(0, drop=True)\n",
    "        d.to_csv(csv_name, index=False)\n",
    "    else:\n",
    "        d = pd.read_csv(csv_name)\n",
    "    return d"
   ]
  },
  {
   "cell_type": "code",
   "execution_count": 132,
   "id": "d03a0ce3",
   "metadata": {
    "execution": {
     "iopub.execute_input": "2023-05-10T02:28:57.879174Z",
     "iopub.status.busy": "2023-05-10T02:28:57.879097Z",
     "iopub.status.idle": "2023-05-10T02:28:57.917174Z",
     "shell.execute_reply": "2023-05-10T02:28:57.916905Z"
    },
    "lines_to_next_cell": 1
   },
   "outputs": [
    {
     "data": {
      "text/html": [
       "<div>\n",
       "<style scoped>\n",
       "    .dataframe tbody tr th:only-of-type {\n",
       "        vertical-align: middle;\n",
       "    }\n",
       "\n",
       "    .dataframe tbody tr th {\n",
       "        vertical-align: top;\n",
       "    }\n",
       "\n",
       "    .dataframe thead th {\n",
       "        text-align: right;\n",
       "    }\n",
       "</style>\n",
       "<table border=\"1\" class=\"dataframe\">\n",
       "  <thead>\n",
       "    <tr style=\"text-align: right;\">\n",
       "      <th></th>\n",
       "      <th>uu_id</th>\n",
       "      <th>total_claims</th>\n",
       "      <th>edu_8th_or_less</th>\n",
       "      <th>edu_grades_9_11</th>\n",
       "      <th>edu_hs_grad_equiv</th>\n",
       "      <th>edu_post_hs</th>\n",
       "      <th>edu_unknown</th>\n",
       "      <th>top_category_employer1</th>\n",
       "      <th>top_category_employer2</th>\n",
       "      <th>top_category_employer3</th>\n",
       "      <th>...</th>\n",
       "      <th>race_amerindian</th>\n",
       "      <th>race_asian</th>\n",
       "      <th>race_black</th>\n",
       "      <th>race_noanswer</th>\n",
       "      <th>race_hawaiiannative</th>\n",
       "      <th>race_other</th>\n",
       "      <th>race_white</th>\n",
       "      <th>average_wage</th>\n",
       "      <th>week_number</th>\n",
       "      <th>date</th>\n",
       "    </tr>\n",
       "  </thead>\n",
       "  <tbody>\n",
       "    <tr>\n",
       "      <th>0</th>\n",
       "      <td>001cd9ae23064d7f0fd3cd327c873d8d</td>\n",
       "      <td>104.323590</td>\n",
       "      <td>0.0</td>\n",
       "      <td>0.0</td>\n",
       "      <td>104.323590</td>\n",
       "      <td>0.0</td>\n",
       "      <td>0.0</td>\n",
       "      <td>31-33</td>\n",
       "      <td>23</td>\n",
       "      <td>81</td>\n",
       "      <td>...</td>\n",
       "      <td>0.0</td>\n",
       "      <td>0.0</td>\n",
       "      <td>0.0</td>\n",
       "      <td>0.0</td>\n",
       "      <td>0.0</td>\n",
       "      <td>0.0</td>\n",
       "      <td>104.323590</td>\n",
       "      <td>10484.333333</td>\n",
       "      <td>1</td>\n",
       "      <td>2022-01-01</td>\n",
       "    </tr>\n",
       "    <tr>\n",
       "      <th>1</th>\n",
       "      <td>001cd9ae23064d7f0fd3cd327c873d8d</td>\n",
       "      <td>101.703882</td>\n",
       "      <td>0.0</td>\n",
       "      <td>0.0</td>\n",
       "      <td>101.703882</td>\n",
       "      <td>0.0</td>\n",
       "      <td>0.0</td>\n",
       "      <td>31-33</td>\n",
       "      <td>23</td>\n",
       "      <td>81</td>\n",
       "      <td>...</td>\n",
       "      <td>0.0</td>\n",
       "      <td>0.0</td>\n",
       "      <td>0.0</td>\n",
       "      <td>0.0</td>\n",
       "      <td>0.0</td>\n",
       "      <td>0.0</td>\n",
       "      <td>101.703882</td>\n",
       "      <td>10484.333333</td>\n",
       "      <td>2</td>\n",
       "      <td>2022-01-08</td>\n",
       "    </tr>\n",
       "    <tr>\n",
       "      <th>2</th>\n",
       "      <td>001cd9ae23064d7f0fd3cd327c873d8d</td>\n",
       "      <td>99.084175</td>\n",
       "      <td>0.0</td>\n",
       "      <td>0.0</td>\n",
       "      <td>99.084175</td>\n",
       "      <td>0.0</td>\n",
       "      <td>0.0</td>\n",
       "      <td>31-33</td>\n",
       "      <td>23</td>\n",
       "      <td>81</td>\n",
       "      <td>...</td>\n",
       "      <td>0.0</td>\n",
       "      <td>0.0</td>\n",
       "      <td>0.0</td>\n",
       "      <td>0.0</td>\n",
       "      <td>0.0</td>\n",
       "      <td>0.0</td>\n",
       "      <td>99.084175</td>\n",
       "      <td>10484.333333</td>\n",
       "      <td>3</td>\n",
       "      <td>2022-01-15</td>\n",
       "    </tr>\n",
       "    <tr>\n",
       "      <th>3</th>\n",
       "      <td>001cd9ae23064d7f0fd3cd327c873d8d</td>\n",
       "      <td>96.464467</td>\n",
       "      <td>0.0</td>\n",
       "      <td>0.0</td>\n",
       "      <td>96.464467</td>\n",
       "      <td>0.0</td>\n",
       "      <td>0.0</td>\n",
       "      <td>31-33</td>\n",
       "      <td>23</td>\n",
       "      <td>81</td>\n",
       "      <td>...</td>\n",
       "      <td>0.0</td>\n",
       "      <td>0.0</td>\n",
       "      <td>0.0</td>\n",
       "      <td>0.0</td>\n",
       "      <td>0.0</td>\n",
       "      <td>0.0</td>\n",
       "      <td>96.464467</td>\n",
       "      <td>10484.333333</td>\n",
       "      <td>4</td>\n",
       "      <td>2022-01-22</td>\n",
       "    </tr>\n",
       "    <tr>\n",
       "      <th>4</th>\n",
       "      <td>001cd9ae23064d7f0fd3cd327c873d8d</td>\n",
       "      <td>93.844759</td>\n",
       "      <td>0.0</td>\n",
       "      <td>0.0</td>\n",
       "      <td>93.844759</td>\n",
       "      <td>0.0</td>\n",
       "      <td>0.0</td>\n",
       "      <td>31-33</td>\n",
       "      <td>23</td>\n",
       "      <td>81</td>\n",
       "      <td>...</td>\n",
       "      <td>0.0</td>\n",
       "      <td>0.0</td>\n",
       "      <td>0.0</td>\n",
       "      <td>0.0</td>\n",
       "      <td>0.0</td>\n",
       "      <td>0.0</td>\n",
       "      <td>93.844759</td>\n",
       "      <td>10484.333333</td>\n",
       "      <td>5</td>\n",
       "      <td>2022-01-29</td>\n",
       "    </tr>\n",
       "    <tr>\n",
       "      <th>...</th>\n",
       "      <td>...</td>\n",
       "      <td>...</td>\n",
       "      <td>...</td>\n",
       "      <td>...</td>\n",
       "      <td>...</td>\n",
       "      <td>...</td>\n",
       "      <td>...</td>\n",
       "      <td>...</td>\n",
       "      <td>...</td>\n",
       "      <td>...</td>\n",
       "      <td>...</td>\n",
       "      <td>...</td>\n",
       "      <td>...</td>\n",
       "      <td>...</td>\n",
       "      <td>...</td>\n",
       "      <td>...</td>\n",
       "      <td>...</td>\n",
       "      <td>...</td>\n",
       "      <td>...</td>\n",
       "      <td>...</td>\n",
       "      <td>...</td>\n",
       "    </tr>\n",
       "    <tr>\n",
       "      <th>19420</th>\n",
       "      <td>fec479d0202d6e1e3f051a9ee902ff5d</td>\n",
       "      <td>59.000000</td>\n",
       "      <td>0.0</td>\n",
       "      <td>0.0</td>\n",
       "      <td>10.000000</td>\n",
       "      <td>49.0</td>\n",
       "      <td>0.0</td>\n",
       "      <td>62</td>\n",
       "      <td>23</td>\n",
       "      <td>31-33</td>\n",
       "      <td>...</td>\n",
       "      <td>0.0</td>\n",
       "      <td>0.0</td>\n",
       "      <td>7.0</td>\n",
       "      <td>0.0</td>\n",
       "      <td>0.0</td>\n",
       "      <td>0.0</td>\n",
       "      <td>52.000000</td>\n",
       "      <td>9908.312500</td>\n",
       "      <td>33</td>\n",
       "      <td>2022-08-13</td>\n",
       "    </tr>\n",
       "    <tr>\n",
       "      <th>19421</th>\n",
       "      <td>fec479d0202d6e1e3f051a9ee902ff5d</td>\n",
       "      <td>34.000000</td>\n",
       "      <td>0.0</td>\n",
       "      <td>0.0</td>\n",
       "      <td>9.000000</td>\n",
       "      <td>25.0</td>\n",
       "      <td>0.0</td>\n",
       "      <td>23</td>\n",
       "      <td>62</td>\n",
       "      <td>61</td>\n",
       "      <td>...</td>\n",
       "      <td>0.0</td>\n",
       "      <td>0.0</td>\n",
       "      <td>8.0</td>\n",
       "      <td>0.0</td>\n",
       "      <td>0.0</td>\n",
       "      <td>0.0</td>\n",
       "      <td>26.000000</td>\n",
       "      <td>9908.312500</td>\n",
       "      <td>34</td>\n",
       "      <td>2022-08-20</td>\n",
       "    </tr>\n",
       "    <tr>\n",
       "      <th>19422</th>\n",
       "      <td>fec479d0202d6e1e3f051a9ee902ff5d</td>\n",
       "      <td>27.000000</td>\n",
       "      <td>0.0</td>\n",
       "      <td>0.0</td>\n",
       "      <td>12.000000</td>\n",
       "      <td>15.0</td>\n",
       "      <td>0.0</td>\n",
       "      <td>62</td>\n",
       "      <td>23</td>\n",
       "      <td>72</td>\n",
       "      <td>...</td>\n",
       "      <td>0.0</td>\n",
       "      <td>0.0</td>\n",
       "      <td>8.0</td>\n",
       "      <td>0.0</td>\n",
       "      <td>0.0</td>\n",
       "      <td>0.0</td>\n",
       "      <td>19.000000</td>\n",
       "      <td>9908.312500</td>\n",
       "      <td>35</td>\n",
       "      <td>2022-08-27</td>\n",
       "    </tr>\n",
       "    <tr>\n",
       "      <th>19423</th>\n",
       "      <td>fec479d0202d6e1e3f051a9ee902ff5d</td>\n",
       "      <td>28.000000</td>\n",
       "      <td>0.0</td>\n",
       "      <td>0.0</td>\n",
       "      <td>10.000000</td>\n",
       "      <td>18.0</td>\n",
       "      <td>0.0</td>\n",
       "      <td>23</td>\n",
       "      <td>62</td>\n",
       "      <td>72</td>\n",
       "      <td>...</td>\n",
       "      <td>0.0</td>\n",
       "      <td>0.0</td>\n",
       "      <td>10.0</td>\n",
       "      <td>0.0</td>\n",
       "      <td>0.0</td>\n",
       "      <td>0.0</td>\n",
       "      <td>18.000000</td>\n",
       "      <td>9908.312500</td>\n",
       "      <td>36</td>\n",
       "      <td>2022-09-03</td>\n",
       "    </tr>\n",
       "    <tr>\n",
       "      <th>19424</th>\n",
       "      <td>fec479d0202d6e1e3f051a9ee902ff5d</td>\n",
       "      <td>28.000000</td>\n",
       "      <td>0.0</td>\n",
       "      <td>0.0</td>\n",
       "      <td>11.000000</td>\n",
       "      <td>17.0</td>\n",
       "      <td>0.0</td>\n",
       "      <td>62</td>\n",
       "      <td>23</td>\n",
       "      <td>72</td>\n",
       "      <td>...</td>\n",
       "      <td>0.0</td>\n",
       "      <td>0.0</td>\n",
       "      <td>8.0</td>\n",
       "      <td>0.0</td>\n",
       "      <td>0.0</td>\n",
       "      <td>0.0</td>\n",
       "      <td>20.000000</td>\n",
       "      <td>9908.312500</td>\n",
       "      <td>37</td>\n",
       "      <td>2022-09-10</td>\n",
       "    </tr>\n",
       "  </tbody>\n",
       "</table>\n",
       "<p>19425 rows × 23 columns</p>\n",
       "</div>"
      ],
      "text/plain": [
       "                                  uu_id  total_claims  edu_8th_or_less  \\\n",
       "0      001cd9ae23064d7f0fd3cd327c873d8d    104.323590              0.0   \n",
       "1      001cd9ae23064d7f0fd3cd327c873d8d    101.703882              0.0   \n",
       "2      001cd9ae23064d7f0fd3cd327c873d8d     99.084175              0.0   \n",
       "3      001cd9ae23064d7f0fd3cd327c873d8d     96.464467              0.0   \n",
       "4      001cd9ae23064d7f0fd3cd327c873d8d     93.844759              0.0   \n",
       "...                                 ...           ...              ...   \n",
       "19420  fec479d0202d6e1e3f051a9ee902ff5d     59.000000              0.0   \n",
       "19421  fec479d0202d6e1e3f051a9ee902ff5d     34.000000              0.0   \n",
       "19422  fec479d0202d6e1e3f051a9ee902ff5d     27.000000              0.0   \n",
       "19423  fec479d0202d6e1e3f051a9ee902ff5d     28.000000              0.0   \n",
       "19424  fec479d0202d6e1e3f051a9ee902ff5d     28.000000              0.0   \n",
       "\n",
       "       edu_grades_9_11  edu_hs_grad_equiv  edu_post_hs  edu_unknown  \\\n",
       "0                  0.0         104.323590          0.0          0.0   \n",
       "1                  0.0         101.703882          0.0          0.0   \n",
       "2                  0.0          99.084175          0.0          0.0   \n",
       "3                  0.0          96.464467          0.0          0.0   \n",
       "4                  0.0          93.844759          0.0          0.0   \n",
       "...                ...                ...          ...          ...   \n",
       "19420              0.0          10.000000         49.0          0.0   \n",
       "19421              0.0           9.000000         25.0          0.0   \n",
       "19422              0.0          12.000000         15.0          0.0   \n",
       "19423              0.0          10.000000         18.0          0.0   \n",
       "19424              0.0          11.000000         17.0          0.0   \n",
       "\n",
       "      top_category_employer1 top_category_employer2 top_category_employer3  \\\n",
       "0                      31-33                     23                     81   \n",
       "1                      31-33                     23                     81   \n",
       "2                      31-33                     23                     81   \n",
       "3                      31-33                     23                     81   \n",
       "4                      31-33                     23                     81   \n",
       "...                      ...                    ...                    ...   \n",
       "19420                     62                     23                  31-33   \n",
       "19421                     23                     62                     61   \n",
       "19422                     62                     23                     72   \n",
       "19423                     23                     62                     72   \n",
       "19424                     62                     23                     72   \n",
       "\n",
       "       ...  race_amerindian  race_asian  race_black  race_noanswer  \\\n",
       "0      ...              0.0         0.0         0.0            0.0   \n",
       "1      ...              0.0         0.0         0.0            0.0   \n",
       "2      ...              0.0         0.0         0.0            0.0   \n",
       "3      ...              0.0         0.0         0.0            0.0   \n",
       "4      ...              0.0         0.0         0.0            0.0   \n",
       "...    ...              ...         ...         ...            ...   \n",
       "19420  ...              0.0         0.0         7.0            0.0   \n",
       "19421  ...              0.0         0.0         8.0            0.0   \n",
       "19422  ...              0.0         0.0         8.0            0.0   \n",
       "19423  ...              0.0         0.0        10.0            0.0   \n",
       "19424  ...              0.0         0.0         8.0            0.0   \n",
       "\n",
       "       race_hawaiiannative  race_other  race_white  average_wage  week_number  \\\n",
       "0                      0.0         0.0  104.323590  10484.333333            1   \n",
       "1                      0.0         0.0  101.703882  10484.333333            2   \n",
       "2                      0.0         0.0   99.084175  10484.333333            3   \n",
       "3                      0.0         0.0   96.464467  10484.333333            4   \n",
       "4                      0.0         0.0   93.844759  10484.333333            5   \n",
       "...                    ...         ...         ...           ...          ...   \n",
       "19420                  0.0         0.0   52.000000   9908.312500           33   \n",
       "19421                  0.0         0.0   26.000000   9908.312500           34   \n",
       "19422                  0.0         0.0   19.000000   9908.312500           35   \n",
       "19423                  0.0         0.0   18.000000   9908.312500           36   \n",
       "19424                  0.0         0.0   20.000000   9908.312500           37   \n",
       "\n",
       "             date  \n",
       "0      2022-01-01  \n",
       "1      2022-01-08  \n",
       "2      2022-01-15  \n",
       "3      2022-01-22  \n",
       "4      2022-01-29  \n",
       "...           ...  \n",
       "19420  2022-08-13  \n",
       "19421  2022-08-20  \n",
       "19422  2022-08-27  \n",
       "19423  2022-09-03  \n",
       "19424  2022-09-10  \n",
       "\n",
       "[19425 rows x 23 columns]"
      ]
     },
     "execution_count": 138,
     "metadata": {},
     "output_type": "execute_result"
    }
   ],
   "source": [
    "d = load_imp_industry()\n",
    "d"
   ]
  },
  {
   "cell_type": "code",
   "execution_count": 133,
   "id": "118eb8a0",
   "metadata": {
    "execution": {
     "iopub.execute_input": "2023-05-10T02:28:57.918644Z",
     "iopub.status.busy": "2023-05-10T02:28:57.918555Z",
     "iopub.status.idle": "2023-05-10T02:28:57.921257Z",
     "shell.execute_reply": "2023-05-10T02:28:57.920996Z"
    },
    "lines_to_next_cell": 1
   },
   "outputs": [],
   "source": [
    "def plot_regression(d):    \n",
    "    e = d.loc[:, COL_MAP['edu'] + ['total_claims']].reset_index(0, drop=True)\n",
    "    e = e.fillna(0)\n",
    "    X = e[COL_MAP['edu']]\n",
    "    y = e['total_claims']\n",
    "    model = sklearn.linear_model.LinearRegression()\n",
    "    model.fit(X, y)\n",
    "    fig, ax = plt.subplots()\n",
    "    ax.plot(X.index, model.predict(X), label='predict')\n",
    "    ax.plot(X.index, y, label='observed', ls='--')\n",
    "    ax.legend()\n",
    "    ax.set_xlabel('index')\n",
    "    ax.set_ylabel('total_claims')"
   ]
  },
  {
   "cell_type": "code",
   "execution_count": 134,
   "id": "c1d1b9b3",
   "metadata": {
    "execution": {
     "iopub.execute_input": "2023-05-10T02:28:57.922692Z",
     "iopub.status.busy": "2023-05-10T02:28:57.922590Z",
     "iopub.status.idle": "2023-05-10T02:28:57.933078Z",
     "shell.execute_reply": "2023-05-10T02:28:57.932845Z"
    }
   },
   "outputs": [
    {
     "ename": "NameError",
     "evalue": "name 'COL_MAP' is not defined",
     "output_type": "error",
     "traceback": [
      "\u001b[0;31m---------------------------------------------------------------------------\u001b[0m",
      "\u001b[0;31mNameError\u001b[0m                                 Traceback (most recent call last)",
      "Cell \u001b[0;32mIn [140], line 1\u001b[0m\n\u001b[0;32m----> 1\u001b[0m \u001b[43mplot_regression\u001b[49m\u001b[43m(\u001b[49m\u001b[43md\u001b[49m\u001b[43m)\u001b[49m\n",
      "Cell \u001b[0;32mIn [139], line 2\u001b[0m, in \u001b[0;36mplot_regression\u001b[0;34m(d)\u001b[0m\n\u001b[1;32m      1\u001b[0m \u001b[38;5;28;01mdef\u001b[39;00m \u001b[38;5;21mplot_regression\u001b[39m(d):    \n\u001b[0;32m----> 2\u001b[0m     e \u001b[38;5;241m=\u001b[39m d\u001b[38;5;241m.\u001b[39mloc[:, \u001b[43mCOL_MAP\u001b[49m[\u001b[38;5;124m'\u001b[39m\u001b[38;5;124medu\u001b[39m\u001b[38;5;124m'\u001b[39m] \u001b[38;5;241m+\u001b[39m [\u001b[38;5;124m'\u001b[39m\u001b[38;5;124mtotal_claims\u001b[39m\u001b[38;5;124m'\u001b[39m]]\u001b[38;5;241m.\u001b[39mreset_index(\u001b[38;5;241m0\u001b[39m, drop\u001b[38;5;241m=\u001b[39m\u001b[38;5;28;01mTrue\u001b[39;00m)\n\u001b[1;32m      3\u001b[0m     e \u001b[38;5;241m=\u001b[39m e\u001b[38;5;241m.\u001b[39mfillna(\u001b[38;5;241m0\u001b[39m)\n\u001b[1;32m      4\u001b[0m     X \u001b[38;5;241m=\u001b[39m e[COL_MAP[\u001b[38;5;124m'\u001b[39m\u001b[38;5;124medu\u001b[39m\u001b[38;5;124m'\u001b[39m]]\n",
      "\u001b[0;31mNameError\u001b[0m: name 'COL_MAP' is not defined"
     ]
    }
   ],
   "source": [
    "plot_regression(d)"
   ]
  },
  {
   "cell_type": "code",
   "execution_count": 135,
   "id": "f5a33194",
   "metadata": {
    "execution": {
     "iopub.execute_input": "2023-05-10T02:28:57.934523Z",
     "iopub.status.busy": "2023-05-10T02:28:57.934440Z",
     "iopub.status.idle": "2023-05-10T02:28:57.939613Z",
     "shell.execute_reply": "2023-05-10T02:28:57.939347Z"
    }
   },
   "outputs": [],
   "source": [
    "get_ipython().run_cell_magic('capture', '', \"%logstop\\n%logstart -t -r -q ipython_command_log.py global\\n\\n#- IRONHACKS RESEARCH TRACKING CODE\\n#----------------------------------\\n# The following code is used to help our research team understand how you \\n# our notebook environment. We do not collect any personal information with\\n# the following code, it is used to measure when and how often you work on\\n# your submission files.\\n\\nimport os\\nfrom datetime import datetime\\nimport IPython.core.history as history\\n\\nha = history.HistoryAccessor()\\nha_tail = ha.get_tail(1)\\nha_cmd = next(ha_tail)\\nsession_id = str(ha_cmd[0])\\ncommand_id = str(ha_cmd[1])\\ntimestamp = datetime.utcnow().isoformat()\\nhistory_line = ','.join([session_id, command_id, timestamp]) + '\\\\n'\\nlogfile = open(os.environ['HOME']+'/ipython_session_log.csv', 'a')\\nlogfile.write(history_line)\\nlogfile.close()\\n\")"
   ]
  },
  {
   "cell_type": "markdown",
   "id": "0031756f",
   "metadata": {},
   "source": [
    "SUBMISSION 11 Milestone\n",
    "The task was to predict the total_claims for week 42\n",
    "For each week there is a distinct list of uu_ids with unique uu_id in the table called prediction_list\n",
    "Predict a value for each of those uu_ids\n",
    "The list is changing over time (given the streaming nature of the data)"
   ]
  },
  {
   "cell_type": "code",
   "execution_count": 136,
   "id": "a874a55d",
   "metadata": {
    "execution": {
     "iopub.execute_input": "2023-05-10T02:28:57.941127Z",
     "iopub.status.busy": "2023-05-10T02:28:57.941022Z",
     "iopub.status.idle": "2023-05-10T02:29:00.043099Z",
     "shell.execute_reply": "2023-05-10T02:29:00.042370Z"
    }
   },
   "outputs": [],
   "source": [
    "get_ipython().run_cell_magic('capture', '', \"\\n# INSTALL ADDITIONAL LIBRARIES IF REQUIRED\\n# ------------------------------------------\\n# This is normally not required. The hub environment comes preinstaled with \\n# many packages that you can already use without setup. In case there is some\\n# other library you would like to use that isn't on the list you run this command\\n# once to install them.  If it is already installed this command has no effect.\\n\\n!python3 -m pip install pandas\\n!python3 -m pip install [ensorflow]\\n!python3 -m pip install [Keras]\\n!python3 -m pip install [Pytorch]\\n\")"
   ]
  },
  {
   "cell_type": "markdown",
   "id": "962b4baa",
   "metadata": {},
   "source": [
    "INSTALL PACKAGES"
   ]
  },
  {
   "cell_type": "code",
   "execution_count": 137,
   "id": "8698d8bc",
   "metadata": {
    "execution": {
     "iopub.execute_input": "2023-05-10T02:29:00.046196Z",
     "iopub.status.busy": "2023-05-10T02:29:00.045948Z",
     "iopub.status.idle": "2023-05-10T02:29:02.728179Z",
     "shell.execute_reply": "2023-05-10T02:29:02.727561Z"
    }
   },
   "outputs": [
    {
     "name": "stdout",
     "output_type": "stream",
     "text": [
      "\u001b[33mWARNING: Ignoring invalid distribution -umpy (/opt/anaconda3/lib/python3.9/site-packages)\u001b[0m\r\n",
      "\u001b[33mWARNING: Ignoring invalid distribution -umpy (/opt/anaconda3/lib/python3.9/site-packages)\u001b[0m\r\n",
      "Requirement already satisfied: db-dtypes in /opt/anaconda3/lib/python3.9/site-packages (1.0.5)\r\n",
      "Requirement already satisfied: numpy<2.0dev,>=1.16.6 in /opt/anaconda3/lib/python3.9/site-packages (from db-dtypes) (1.22.4)\r\n",
      "Requirement already satisfied: packaging>=17.0 in /opt/anaconda3/lib/python3.9/site-packages (from db-dtypes) (21.3)\r\n",
      "Requirement already satisfied: pyarrow>=3.0.0 in /opt/anaconda3/lib/python3.9/site-packages (from db-dtypes) (10.0.1)\r\n",
      "Requirement already satisfied: pandas<2.0dev,>=0.24.2 in /opt/anaconda3/lib/python3.9/site-packages (from db-dtypes) (1.5.3)\r\n",
      "Requirement already satisfied: pyparsing!=3.0.5,>=2.0.2 in /opt/anaconda3/lib/python3.9/site-packages (from packaging>=17.0->db-dtypes) (3.0.4)\r\n",
      "Requirement already satisfied: pytz>=2020.1 in /opt/anaconda3/lib/python3.9/site-packages (from pandas<2.0dev,>=0.24.2->db-dtypes) (2021.3)\r\n",
      "Requirement already satisfied: python-dateutil>=2.8.1 in /opt/anaconda3/lib/python3.9/site-packages (from pandas<2.0dev,>=0.24.2->db-dtypes) (2.8.2)\r\n"
     ]
    },
    {
     "name": "stdout",
     "output_type": "stream",
     "text": [
      "Requirement already satisfied: six>=1.5 in /opt/anaconda3/lib/python3.9/site-packages (from python-dateutil>=2.8.1->pandas<2.0dev,>=0.24.2->db-dtypes) (1.16.0)\r\n",
      "\u001b[33mWARNING: Ignoring invalid distribution -umpy (/opt/anaconda3/lib/python3.9/site-packages)\u001b[0m\r\n"
     ]
    },
    {
     "name": "stdout",
     "output_type": "stream",
     "text": [
      "\u001b[33mWARNING: Ignoring invalid distribution -umpy (/opt/anaconda3/lib/python3.9/site-packages)\u001b[0m\r\n",
      "\u001b[33mWARNING: Ignoring invalid distribution -umpy (/opt/anaconda3/lib/python3.9/site-packages)\u001b[0m\r\n",
      "\u001b[33mWARNING: Ignoring invalid distribution -umpy (/opt/anaconda3/lib/python3.9/site-packages)\u001b[0m\r\n"
     ]
    }
   ],
   "source": [
    "get_ipython().system('pip install db-dtypes')"
   ]
  },
  {
   "cell_type": "markdown",
   "id": "91247035",
   "metadata": {},
   "source": [
    "IMPORT THE LIBRARIES YOU WILL USE\n",
    "------------------------------------------\n",
    "You only need to import packages one time per notebook session. To keep your\n",
    "notebook clean and organized you can handle all imports at the top of your file.\n",
    "The following are included for example purposed, feel free to modify or delete \n",
    "anything in this section."
   ]
  },
  {
   "cell_type": "code",
   "execution_count": 138,
   "id": "42153ee1",
   "metadata": {
    "execution": {
     "iopub.execute_input": "2023-05-10T02:29:02.731120Z",
     "iopub.status.busy": "2023-05-10T02:29:02.730887Z",
     "iopub.status.idle": "2023-05-10T02:29:02.734426Z",
     "shell.execute_reply": "2023-05-10T02:29:02.733979Z"
    }
   },
   "outputs": [],
   "source": [
    "import csv\n",
    "import pandas as pd\n",
    "import numpy as np\n",
    "from google.cloud import bigquery\n",
    "from google.oauth2 import service_account\n",
    "from google.cloud.bigquery import magics\n",
    "import statsmodels.api as sm\n",
    "import math"
   ]
  },
  {
   "cell_type": "markdown",
   "id": "12968969",
   "metadata": {},
   "source": [
    "IMPORT THE DATASET"
   ]
  },
  {
   "cell_type": "code",
   "execution_count": 139,
   "id": "4c1346ba",
   "metadata": {
    "execution": {
     "iopub.execute_input": "2023-05-10T02:29:02.736840Z",
     "iopub.status.busy": "2023-05-10T02:29:02.736658Z",
     "iopub.status.idle": "2023-05-10T02:29:02.740904Z",
     "shell.execute_reply": "2023-05-10T02:29:02.740476Z"
    }
   },
   "outputs": [],
   "source": [
    "import pandas as pd\n",
    "import numpy as np\n",
    "import matplotlib.pyplot as plt\n",
    "import seaborn as sns\n",
    "get_ipython().run_line_magic('matplotlib', 'inline')"
   ]
  },
  {
   "cell_type": "code",
   "execution_count": 140,
   "id": "f3144b8a",
   "metadata": {
    "execution": {
     "iopub.execute_input": "2023-05-10T02:29:02.743053Z",
     "iopub.status.busy": "2023-05-10T02:29:02.742876Z",
     "iopub.status.idle": "2023-05-10T02:29:02.745373Z",
     "shell.execute_reply": "2023-05-10T02:29:02.745031Z"
    }
   },
   "outputs": [],
   "source": [
    "import os\n",
    "from google.cloud import bigquery\n",
    "from google.oauth2 import service_account\n",
    "from google.cloud.bigquery import magics"
   ]
  },
  {
   "cell_type": "markdown",
   "id": "11488da8",
   "metadata": {},
   "source": [
    "IMPORT IRONHACKS DATA"
   ]
  },
  {
   "cell_type": "code",
   "execution_count": 141,
   "id": "d93cbf30",
   "metadata": {
    "execution": {
     "iopub.execute_input": "2023-05-10T02:29:02.747099Z",
     "iopub.status.busy": "2023-05-10T02:29:02.746952Z",
     "iopub.status.idle": "2023-05-10T02:29:02.749027Z",
     "shell.execute_reply": "2023-05-10T02:29:02.748704Z"
    }
   },
   "outputs": [],
   "source": [
    "import os\n",
    "BIGQUERY_PROJECT = 'ironhacks-data'"
   ]
  },
  {
   "cell_type": "code",
   "execution_count": 142,
   "id": "a2f1c753",
   "metadata": {
    "execution": {
     "iopub.execute_input": "2023-05-10T02:29:02.750783Z",
     "iopub.status.busy": "2023-05-10T02:29:02.750633Z",
     "iopub.status.idle": "2023-05-10T02:29:02.760253Z",
     "shell.execute_reply": "2023-05-10T02:29:02.759908Z"
    }
   },
   "outputs": [
    {
     "data": {
      "text/plain": [
       "<google.cloud.bigquery.client.Client at 0x286fa4610>"
      ]
     },
     "execution_count": 148,
     "metadata": {},
     "output_type": "execute_result"
    }
   ],
   "source": [
    "bigquery.Client(project=BIGQUERY_PROJECT)"
   ]
  },
  {
   "cell_type": "markdown",
   "id": "72fafba9",
   "metadata": {},
   "source": [
    "IMPORT THE LINEAR REGRESSION MODEL"
   ]
  },
  {
   "cell_type": "code",
   "execution_count": 143,
   "id": "6317f26a",
   "metadata": {
    "execution": {
     "iopub.execute_input": "2023-05-10T02:29:02.762007Z",
     "iopub.status.busy": "2023-05-10T02:29:02.761877Z",
     "iopub.status.idle": "2023-05-10T02:29:02.764519Z",
     "shell.execute_reply": "2023-05-10T02:29:02.764232Z"
    }
   },
   "outputs": [],
   "source": [
    "import csv\n",
    "import pandas as pd\n",
    "import numpy as np\n",
    "from google.cloud import bigquery\n",
    "from google.oauth2 import service_account\n",
    "from google.cloud.bigquery import magics\n",
    "from sklearn.model_selection import train_test_split \n",
    "from sklearn.linear_model import LinearRegression\n",
    "from sklearn import metrics\n",
    "import matplotlib.pyplot as plt  "
   ]
  },
  {
   "cell_type": "markdown",
   "id": "378ed274",
   "metadata": {},
   "source": [
    "IMPORT PACKAGE THE LINEAR REGRESSION MODEL- SCIKIT-LEARN \n",
    "SOURCE: https://realpython.com/linear-regression-in-python/#simple-linear-regression-with-scikit-learn\n",
    "NUMPY IS A FUNDAMENTAL PUYTHON SCIENTIFIC PACKAGE THAT ALLOWS MANY HIGH PEROFORMATION OPERATION SON A SINGLE AND MULTI DIMENSIONAL ARRAYS.\n",
    "SOURCE: https://realpython.com/linear-regression-in-python/#python-packages-for-linear-regression"
   ]
  },
  {
   "cell_type": "code",
   "execution_count": 144,
   "id": "5767aa3f",
   "metadata": {
    "execution": {
     "iopub.execute_input": "2023-05-10T02:29:02.766012Z",
     "iopub.status.busy": "2023-05-10T02:29:02.765900Z",
     "iopub.status.idle": "2023-05-10T02:29:02.767705Z",
     "shell.execute_reply": "2023-05-10T02:29:02.767444Z"
    }
   },
   "outputs": [],
   "source": [
    "import numpy as np\n",
    "from sklearn.linear_model import LinearRegression"
   ]
  },
  {
   "cell_type": "code",
   "execution_count": 145,
   "id": "5229f3f5",
   "metadata": {
    "execution": {
     "iopub.execute_input": "2023-05-10T02:29:02.769091Z",
     "iopub.status.busy": "2023-05-10T02:29:02.768995Z",
     "iopub.status.idle": "2023-05-10T02:29:02.770956Z",
     "shell.execute_reply": "2023-05-10T02:29:02.770682Z"
    },
    "lines_to_next_cell": 1
   },
   "outputs": [],
   "source": [
    "# DEFINING THE DATA; INPUTS (REGRESSOR.X) AND OUTPUTS (RESPONSE.Y)\n",
    "x = np.array([5, 15, 25, 35, 45, 55]).reshape((-1, 1))\n",
    "y = np.array([5, 20, 14, 32, 22, 38])"
   ]
  },
  {
   "cell_type": "markdown",
   "id": "09c26445",
   "metadata": {},
   "source": [
    "DEFINE YOUR CLASSES AND FUNCTIONS \n",
    "-----------------------------------\n",
    "This is not required, but is helpful in keeping your notebook organized. \n",
    "You can use the following cell or several cells to define your functions\n",
    "and classes to keep them separate from your analysis or results code.\n",
    "In general it useful to define your methods in a separate cell from where\n",
    "it is run."
   ]
  },
  {
   "cell_type": "code",
   "execution_count": 146,
   "id": "5e60aaeb",
   "metadata": {
    "execution": {
     "iopub.execute_input": "2023-05-10T02:29:02.772361Z",
     "iopub.status.busy": "2023-05-10T02:29:02.772260Z",
     "iopub.status.idle": "2023-05-10T02:29:02.774015Z",
     "shell.execute_reply": "2023-05-10T02:29:02.773719Z"
    },
    "lines_to_next_cell": 1
   },
   "outputs": [],
   "source": [
    "def example_function():\n",
    "    print('Hello World')"
   ]
  },
  {
   "cell_type": "code",
   "execution_count": 147,
   "id": "9d7e91ab",
   "metadata": {
    "execution": {
     "iopub.execute_input": "2023-05-10T02:29:02.775275Z",
     "iopub.status.busy": "2023-05-10T02:29:02.775197Z",
     "iopub.status.idle": "2023-05-10T02:29:02.776740Z",
     "shell.execute_reply": "2023-05-10T02:29:02.776506Z"
    }
   },
   "outputs": [],
   "source": [
    "# CREATE A LINEAR REGRESSION MODEL\n",
    "model = LinearRegression()"
   ]
  },
  {
   "cell_type": "code",
   "execution_count": 148,
   "id": "318d01dc",
   "metadata": {
    "execution": {
     "iopub.execute_input": "2023-05-10T02:29:02.778074Z",
     "iopub.status.busy": "2023-05-10T02:29:02.777998Z",
     "iopub.status.idle": "2023-05-10T02:29:02.781016Z",
     "shell.execute_reply": "2023-05-10T02:29:02.780738Z"
    }
   },
   "outputs": [
    {
     "data": {
      "text/plain": [
       "sklearn.linear_model._base.LinearRegression"
      ]
     },
     "execution_count": 154,
     "metadata": {},
     "output_type": "execute_result"
    }
   ],
   "source": [
    "# START USING A MODEL - .fit() fits the model\n",
    "# SOURCE: REAL PYTHON - https://realpython.com/linear-regression-in-python/#simple-linear-regression-with-scikit-learn\n",
    "model.fit(x,y)\n",
    "LinearRegression"
   ]
  },
  {
   "cell_type": "code",
   "execution_count": 149,
   "id": "593aeab6",
   "metadata": {
    "execution": {
     "iopub.execute_input": "2023-05-10T02:29:02.782428Z",
     "iopub.status.busy": "2023-05-10T02:29:02.782335Z",
     "iopub.status.idle": "2023-05-10T02:29:02.784342Z",
     "shell.execute_reply": "2023-05-10T02:29:02.784110Z"
    }
   },
   "outputs": [],
   "source": [
    "# START USING A MODEL - Same statement written differently\n",
    "model = LinearRegression().fit(x,y)"
   ]
  },
  {
   "cell_type": "code",
   "execution_count": 150,
   "id": "efae5544",
   "metadata": {
    "execution": {
     "iopub.execute_input": "2023-05-10T02:29:02.785645Z",
     "iopub.status.busy": "2023-05-10T02:29:02.785549Z",
     "iopub.status.idle": "2023-05-10T02:29:02.787501Z",
     "shell.execute_reply": "2023-05-10T02:29:02.787279Z"
    }
   },
   "outputs": [
    {
     "name": "stdout",
     "output_type": "stream",
     "text": [
      "coefficient of determination: 0.715875613747954\n"
     ]
    }
   ],
   "source": [
    "# GET RESULTS - NOW THAT THE MODEL HAS BEEN FITTED; LET SEE IF IT WORKS!\n",
    "r_sq = model.score(x, y)\n",
    "print(f\"coefficient of determination: {r_sq}\")"
   ]
  },
  {
   "cell_type": "markdown",
   "id": "dd02eb71",
   "metadata": {},
   "source": [
    "THE RETURN VALUE SHOULD BE R2"
   ]
  },
  {
   "cell_type": "markdown",
   "id": "8715f3b2",
   "metadata": {},
   "source": [
    "DETERMIINE HOW TO GET b0 and b1 (scikit-learn)\n",
    "intercept and coefficient are estimated values"
   ]
  },
  {
   "cell_type": "code",
   "execution_count": 151,
   "id": "a2c1b959",
   "metadata": {
    "execution": {
     "iopub.execute_input": "2023-05-10T02:29:02.788906Z",
     "iopub.status.busy": "2023-05-10T02:29:02.788806Z",
     "iopub.status.idle": "2023-05-10T02:29:02.791278Z",
     "shell.execute_reply": "2023-05-10T02:29:02.790957Z"
    }
   },
   "outputs": [
    {
     "name": "stdout",
     "output_type": "stream",
     "text": [
      "intercept: [5.63333333]\n"
     ]
    }
   ],
   "source": [
    "new_model = LinearRegression().fit(x,y.reshape((-1,1)))\n",
    "print(f\"intercept: {new_model.intercept_}\")"
   ]
  },
  {
   "cell_type": "code",
   "execution_count": 152,
   "id": "e844986b",
   "metadata": {
    "execution": {
     "iopub.execute_input": "2023-05-10T02:29:02.792753Z",
     "iopub.status.busy": "2023-05-10T02:29:02.792642Z",
     "iopub.status.idle": "2023-05-10T02:29:02.794609Z",
     "shell.execute_reply": "2023-05-10T02:29:02.794373Z"
    }
   },
   "outputs": [
    {
     "name": "stdout",
     "output_type": "stream",
     "text": [
      "slope: [[0.54]]\n"
     ]
    }
   ],
   "source": [
    "# DETERMIINE HOW TO GET b0 and b1 (scikit-learn)\n",
    "# intercept and coefficient are estimated values\n",
    "print(f\"slope: {new_model.coef_}\")"
   ]
  },
  {
   "cell_type": "code",
   "execution_count": 153,
   "id": "9d40069c",
   "metadata": {
    "execution": {
     "iopub.execute_input": "2023-05-10T02:29:02.795949Z",
     "iopub.status.busy": "2023-05-10T02:29:02.795849Z",
     "iopub.status.idle": "2023-05-10T02:29:02.797811Z",
     "shell.execute_reply": "2023-05-10T02:29:02.797571Z"
    }
   },
   "outputs": [
    {
     "name": "stdout",
     "output_type": "stream",
     "text": [
      "predicted response:\n",
      "[ 8.33333333 13.73333333 19.13333333 24.53333333 29.93333333 35.33333333]\n"
     ]
    }
   ],
   "source": [
    "# NOW THAT WE KNOW OUR MODEL IS WORKING; LET'S PREDICT A RESPONSE!\n",
    "y_pred = model.predict(x)\n",
    "print(f\"predicted response:\\n{y_pred}\")"
   ]
  },
  {
   "cell_type": "markdown",
   "id": "1a291b50",
   "metadata": {},
   "source": [
    "HERE'S ANOTHER WAY TO PREDICT THE RESPONSE\n",
    "THIS IS WERE EACH ELEMENT OF X WERE MULTIPLIED BY WITH THE MODEL COEFFICIENT"
   ]
  },
  {
   "cell_type": "code",
   "execution_count": 154,
   "id": "ca4822af",
   "metadata": {
    "execution": {
     "iopub.execute_input": "2023-05-10T02:29:02.799131Z",
     "iopub.status.busy": "2023-05-10T02:29:02.799031Z",
     "iopub.status.idle": "2023-05-10T02:29:02.800765Z",
     "shell.execute_reply": "2023-05-10T02:29:02.800520Z"
    }
   },
   "outputs": [
    {
     "name": "stdout",
     "output_type": "stream",
     "text": [
      "predicted response:\n",
      "[[ 8.33333333]\n",
      " [13.73333333]\n",
      " [19.13333333]\n",
      " [24.53333333]\n",
      " [29.93333333]\n",
      " [35.33333333]]\n"
     ]
    }
   ],
   "source": [
    "y_pred = model.intercept_ + model.coef_ * x\n",
    "print(f\"predicted response:\\n{y_pred}\")"
   ]
  },
  {
   "cell_type": "markdown",
   "id": "d9b3d25f",
   "metadata": {},
   "source": [
    "REGRESSION MODELS ARE TYPCIALLY USED FOR FORECASTS\n",
    "FITTED MODELS CAN BE USED TO CALCULATE THE OUTPUTS"
   ]
  },
  {
   "cell_type": "code",
   "execution_count": 155,
   "id": "de7e8a01",
   "metadata": {
    "execution": {
     "iopub.execute_input": "2023-05-10T02:29:02.802213Z",
     "iopub.status.busy": "2023-05-10T02:29:02.802116Z",
     "iopub.status.idle": "2023-05-10T02:29:02.804965Z",
     "shell.execute_reply": "2023-05-10T02:29:02.804635Z"
    }
   },
   "outputs": [
    {
     "data": {
      "text/plain": [
       "array([[0],\n",
       "       [1],\n",
       "       [2],\n",
       "       [3],\n",
       "       [4]])"
      ]
     },
     "execution_count": 161,
     "metadata": {},
     "output_type": "execute_result"
    }
   ],
   "source": [
    "x_new = np.arange(5). reshape((-1, 1))\n",
    "x_new"
   ]
  },
  {
   "cell_type": "code",
   "execution_count": 156,
   "id": "b62c9e48",
   "metadata": {
    "execution": {
     "iopub.execute_input": "2023-05-10T02:29:02.806709Z",
     "iopub.status.busy": "2023-05-10T02:29:02.806587Z",
     "iopub.status.idle": "2023-05-10T02:29:02.809116Z",
     "shell.execute_reply": "2023-05-10T02:29:02.808853Z"
    }
   },
   "outputs": [
    {
     "data": {
      "text/plain": [
       "array([5.63333333, 6.17333333, 6.71333333, 7.25333333, 7.79333333])"
      ]
     },
     "execution_count": 162,
     "metadata": {},
     "output_type": "execute_result"
    }
   ],
   "source": [
    "# REGRESSION MODELS ARE TYPCIALLY USED FOR FORECASTS\n",
    "# FITTED MODELS CAN BE USED TO CALCULATE THE OUTPUTS\n",
    "y_new = model.predict(x_new)\n",
    "y_new"
   ]
  },
  {
   "cell_type": "markdown",
   "id": "0b67ea43",
   "metadata": {},
   "source": [
    "Obtain data using BigQuery"
   ]
  },
  {
   "cell_type": "code",
   "execution_count": 157,
   "id": "94fcba38",
   "metadata": {
    "execution": {
     "iopub.execute_input": "2023-05-10T02:29:02.810552Z",
     "iopub.status.busy": "2023-05-10T02:29:02.810455Z",
     "iopub.status.idle": "2023-05-10T02:29:02.817654Z",
     "shell.execute_reply": "2023-05-10T02:29:02.817317Z"
    }
   },
   "outputs": [],
   "source": [
    "BIGQUERY_PROJECT = 'ironhacks-data'\n",
    "bigquery_client = bigquery.Client(project=BIGQUERY_PROJECT)"
   ]
  },
  {
   "cell_type": "code",
   "execution_count": 158,
   "id": "989b2f0d",
   "metadata": {
    "execution": {
     "iopub.execute_input": "2023-05-10T02:29:02.819297Z",
     "iopub.status.busy": "2023-05-10T02:29:02.819209Z",
     "iopub.status.idle": "2023-05-10T02:29:02.821227Z",
     "shell.execute_reply": "2023-05-10T02:29:02.820999Z"
    }
   },
   "outputs": [],
   "source": [
    "query = \"\"\"\n",
    "SELECT\n",
    "x.*,\n",
    "y.average_wage\n",
    "FROM\n",
    "(SELECT\n",
    "*\n",
    "FROM `ironhacks-data.ironhacks_competition.unemployment_data`) x\n",
    "JOIN `ironhacks-data.ironhacks_competition.wage_data` y\n",
    "ON x.uu_id = y.uu_id\n",
    "\"\"\""
   ]
  },
  {
   "cell_type": "code",
   "execution_count": 159,
   "id": "e15c67d6",
   "metadata": {
    "execution": {
     "iopub.execute_input": "2023-05-10T02:29:02.822723Z",
     "iopub.status.busy": "2023-05-10T02:29:02.822605Z",
     "iopub.status.idle": "2023-05-10T02:29:04.331645Z",
     "shell.execute_reply": "2023-05-10T02:29:04.331000Z"
    }
   },
   "outputs": [],
   "source": [
    "query_job = bigquery_client.query(query)\n",
    "data = query_job.to_dataframe()"
   ]
  },
  {
   "cell_type": "code",
   "execution_count": 160,
   "id": "5bafaaf6",
   "metadata": {
    "execution": {
     "iopub.execute_input": "2023-05-10T02:29:04.335023Z",
     "iopub.status.busy": "2023-05-10T02:29:04.334756Z",
     "iopub.status.idle": "2023-05-10T02:29:04.338685Z",
     "shell.execute_reply": "2023-05-10T02:29:04.337826Z"
    }
   },
   "outputs": [],
   "source": [
    "query_pred = \"\"\"\n",
    "SELECT * FROM `ironhacks-data.ironhacks_competition.prediction_list`\n",
    "\"\"\""
   ]
  },
  {
   "cell_type": "code",
   "execution_count": 161,
   "id": "2ff4acd3",
   "metadata": {
    "execution": {
     "iopub.execute_input": "2023-05-10T02:29:04.342391Z",
     "iopub.status.busy": "2023-05-10T02:29:04.342086Z",
     "iopub.status.idle": "2023-05-10T02:29:05.818129Z",
     "shell.execute_reply": "2023-05-10T02:29:05.817330Z"
    }
   },
   "outputs": [],
   "source": [
    "query_job_pred = bigquery_client.query(query_pred)\n",
    "data_pred_query= query_job_pred.to_dataframe()"
   ]
  },
  {
   "cell_type": "code",
   "execution_count": 162,
   "id": "fd69571c",
   "metadata": {
    "execution": {
     "iopub.execute_input": "2023-05-10T02:29:05.822362Z",
     "iopub.status.busy": "2023-05-10T02:29:05.822011Z",
     "iopub.status.idle": "2023-05-10T02:29:05.826868Z",
     "shell.execute_reply": "2023-05-10T02:29:05.826297Z"
    }
   },
   "outputs": [],
   "source": [
    "# START USING A MODEL - Same statement written differently\n",
    "model = LinearRegression().fit(x,y)"
   ]
  },
  {
   "cell_type": "code",
   "execution_count": 163,
   "id": "31c87669",
   "metadata": {
    "execution": {
     "iopub.execute_input": "2023-05-10T02:29:05.830228Z",
     "iopub.status.busy": "2023-05-10T02:29:05.829826Z",
     "iopub.status.idle": "2023-05-10T02:29:05.834968Z",
     "shell.execute_reply": "2023-05-10T02:29:05.834409Z"
    }
   },
   "outputs": [
    {
     "name": "stdout",
     "output_type": "stream",
     "text": [
      "coefficient of determination: 0.715875613747954\n"
     ]
    }
   ],
   "source": [
    "# GET RESULTS - NOW THAT THE MODEL HAS BEEN FITTED; LET SEE IF IT WORKS!\n",
    "r_sq = model.score(x, y)\n",
    "print(f\"coefficient of determination: {r_sq}\")"
   ]
  },
  {
   "cell_type": "markdown",
   "id": "741f420d",
   "metadata": {},
   "source": [
    "THE RETURN VALUE SHOULD BE R2"
   ]
  },
  {
   "cell_type": "code",
   "execution_count": 164,
   "id": "2bcc9d25",
   "metadata": {
    "execution": {
     "iopub.execute_input": "2023-05-10T02:29:05.838587Z",
     "iopub.status.busy": "2023-05-10T02:29:05.838267Z",
     "iopub.status.idle": "2023-05-10T02:29:05.843485Z",
     "shell.execute_reply": "2023-05-10T02:29:05.843174Z"
    }
   },
   "outputs": [
    {
     "data": {
      "text/html": [
       "<style>#sk-container-id-2 {color: black;background-color: white;}#sk-container-id-2 pre{padding: 0;}#sk-container-id-2 div.sk-toggleable {background-color: white;}#sk-container-id-2 label.sk-toggleable__label {cursor: pointer;display: block;width: 100%;margin-bottom: 0;padding: 0.3em;box-sizing: border-box;text-align: center;}#sk-container-id-2 label.sk-toggleable__label-arrow:before {content: \"▸\";float: left;margin-right: 0.25em;color: #696969;}#sk-container-id-2 label.sk-toggleable__label-arrow:hover:before {color: black;}#sk-container-id-2 div.sk-estimator:hover label.sk-toggleable__label-arrow:before {color: black;}#sk-container-id-2 div.sk-toggleable__content {max-height: 0;max-width: 0;overflow: hidden;text-align: left;background-color: #f0f8ff;}#sk-container-id-2 div.sk-toggleable__content pre {margin: 0.2em;color: black;border-radius: 0.25em;background-color: #f0f8ff;}#sk-container-id-2 input.sk-toggleable__control:checked~div.sk-toggleable__content {max-height: 200px;max-width: 100%;overflow: auto;}#sk-container-id-2 input.sk-toggleable__control:checked~label.sk-toggleable__label-arrow:before {content: \"▾\";}#sk-container-id-2 div.sk-estimator input.sk-toggleable__control:checked~label.sk-toggleable__label {background-color: #d4ebff;}#sk-container-id-2 div.sk-label input.sk-toggleable__control:checked~label.sk-toggleable__label {background-color: #d4ebff;}#sk-container-id-2 input.sk-hidden--visually {border: 0;clip: rect(1px 1px 1px 1px);clip: rect(1px, 1px, 1px, 1px);height: 1px;margin: -1px;overflow: hidden;padding: 0;position: absolute;width: 1px;}#sk-container-id-2 div.sk-estimator {font-family: monospace;background-color: #f0f8ff;border: 1px dotted black;border-radius: 0.25em;box-sizing: border-box;margin-bottom: 0.5em;}#sk-container-id-2 div.sk-estimator:hover {background-color: #d4ebff;}#sk-container-id-2 div.sk-parallel-item::after {content: \"\";width: 100%;border-bottom: 1px solid gray;flex-grow: 1;}#sk-container-id-2 div.sk-label:hover label.sk-toggleable__label {background-color: #d4ebff;}#sk-container-id-2 div.sk-serial::before {content: \"\";position: absolute;border-left: 1px solid gray;box-sizing: border-box;top: 0;bottom: 0;left: 50%;z-index: 0;}#sk-container-id-2 div.sk-serial {display: flex;flex-direction: column;align-items: center;background-color: white;padding-right: 0.2em;padding-left: 0.2em;position: relative;}#sk-container-id-2 div.sk-item {position: relative;z-index: 1;}#sk-container-id-2 div.sk-parallel {display: flex;align-items: stretch;justify-content: center;background-color: white;position: relative;}#sk-container-id-2 div.sk-item::before, #sk-container-id-2 div.sk-parallel-item::before {content: \"\";position: absolute;border-left: 1px solid gray;box-sizing: border-box;top: 0;bottom: 0;left: 50%;z-index: -1;}#sk-container-id-2 div.sk-parallel-item {display: flex;flex-direction: column;z-index: 1;position: relative;background-color: white;}#sk-container-id-2 div.sk-parallel-item:first-child::after {align-self: flex-end;width: 50%;}#sk-container-id-2 div.sk-parallel-item:last-child::after {align-self: flex-start;width: 50%;}#sk-container-id-2 div.sk-parallel-item:only-child::after {width: 0;}#sk-container-id-2 div.sk-dashed-wrapped {border: 1px dashed gray;margin: 0 0.4em 0.5em 0.4em;box-sizing: border-box;padding-bottom: 0.4em;background-color: white;}#sk-container-id-2 div.sk-label label {font-family: monospace;font-weight: bold;display: inline-block;line-height: 1.2em;}#sk-container-id-2 div.sk-label-container {text-align: center;}#sk-container-id-2 div.sk-container {/* jupyter's `normalize.less` sets `[hidden] { display: none; }` but bootstrap.min.css set `[hidden] { display: none !important; }` so we also need the `!important` here to be able to override the default hidden behavior on the sphinx rendered scikit-learn.org. See: https://github.com/scikit-learn/scikit-learn/issues/21755 */display: inline-block !important;position: relative;}#sk-container-id-2 div.sk-text-repr-fallback {display: none;}</style><div id=\"sk-container-id-2\" class=\"sk-top-container\"><div class=\"sk-text-repr-fallback\"><pre>LinearRegression()</pre><b>In a Jupyter environment, please rerun this cell to show the HTML representation or trust the notebook. <br />On GitHub, the HTML representation is unable to render, please try loading this page with nbviewer.org.</b></div><div class=\"sk-container\" hidden><div class=\"sk-item\"><div class=\"sk-estimator sk-toggleable\"><input class=\"sk-toggleable__control sk-hidden--visually\" id=\"sk-estimator-id-2\" type=\"checkbox\" checked><label for=\"sk-estimator-id-2\" class=\"sk-toggleable__label sk-toggleable__label-arrow\">LinearRegression</label><div class=\"sk-toggleable__content\"><pre>LinearRegression()</pre></div></div></div></div></div>"
      ],
      "text/plain": [
       "LinearRegression()"
      ]
     },
     "execution_count": 170,
     "metadata": {},
     "output_type": "execute_result"
    }
   ],
   "source": [
    "# Linear Regression\n",
    "model.fit(x, y)\n",
    "LinearRegression()"
   ]
  },
  {
   "cell_type": "code",
   "execution_count": 165,
   "id": "ff5777b0",
   "metadata": {
    "execution": {
     "iopub.execute_input": "2023-05-10T02:29:05.845469Z",
     "iopub.status.busy": "2023-05-10T02:29:05.845208Z",
     "iopub.status.idle": "2023-05-10T02:29:05.847899Z",
     "shell.execute_reply": "2023-05-10T02:29:05.847596Z"
    }
   },
   "outputs": [],
   "source": [
    "# Test Linear Regression\n",
    "model = LinearRegression().fit(x, y)"
   ]
  },
  {
   "cell_type": "code",
   "execution_count": 166,
   "id": "144b845c",
   "metadata": {
    "execution": {
     "iopub.execute_input": "2023-05-10T02:29:05.849506Z",
     "iopub.status.busy": "2023-05-10T02:29:05.849391Z",
     "iopub.status.idle": "2023-05-10T02:29:05.851815Z",
     "shell.execute_reply": "2023-05-10T02:29:05.851460Z"
    }
   },
   "outputs": [
    {
     "name": "stdout",
     "output_type": "stream",
     "text": [
      "coefficient of determination: 0.715875613747954\n"
     ]
    }
   ],
   "source": [
    "# Test Linear Regression\n",
    "r_sq = model.score(x, y)\n",
    "print(f\"coefficient of determination: {r_sq}\")"
   ]
  },
  {
   "cell_type": "code",
   "execution_count": 167,
   "id": "2087e75b",
   "metadata": {
    "execution": {
     "iopub.execute_input": "2023-05-10T02:29:05.853385Z",
     "iopub.status.busy": "2023-05-10T02:29:05.853256Z",
     "iopub.status.idle": "2023-05-10T02:29:05.855372Z",
     "shell.execute_reply": "2023-05-10T02:29:05.855031Z"
    }
   },
   "outputs": [
    {
     "name": "stdout",
     "output_type": "stream",
     "text": [
      "predicted response:\n",
      "[[ 8.33333333]\n",
      " [13.73333333]\n",
      " [19.13333333]\n",
      " [24.53333333]\n",
      " [29.93333333]\n",
      " [35.33333333]]\n"
     ]
    }
   ],
   "source": [
    "# Test Linear Regression\n",
    "print(f\"predicted response:\\n{y_pred}\")"
   ]
  },
  {
   "cell_type": "code",
   "execution_count": 168,
   "id": "3f2dcb50",
   "metadata": {
    "execution": {
     "iopub.execute_input": "2023-05-10T02:29:05.857086Z",
     "iopub.status.busy": "2023-05-10T02:29:05.856966Z",
     "iopub.status.idle": "2023-05-10T02:29:05.859578Z",
     "shell.execute_reply": "2023-05-10T02:29:05.859218Z"
    }
   },
   "outputs": [
    {
     "name": "stdout",
     "output_type": "stream",
     "text": [
      "intercept: [5.63333333]\n"
     ]
    }
   ],
   "source": [
    "# Test Linear Regression\n",
    "new_model = LinearRegression().fit(x, y.reshape((-1, 1)))\n",
    "print(f\"intercept: {new_model.intercept_}\")"
   ]
  },
  {
   "cell_type": "code",
   "execution_count": 169,
   "id": "71396c75",
   "metadata": {
    "execution": {
     "iopub.execute_input": "2023-05-10T02:29:05.861144Z",
     "iopub.status.busy": "2023-05-10T02:29:05.861012Z",
     "iopub.status.idle": "2023-05-10T02:29:05.863044Z",
     "shell.execute_reply": "2023-05-10T02:29:05.862771Z"
    },
    "lines_to_next_cell": 2
   },
   "outputs": [
    {
     "name": "stdout",
     "output_type": "stream",
     "text": [
      "slope: [[0.54]]\n"
     ]
    }
   ],
   "source": [
    "print(f\"slope: {new_model.coef_}\")"
   ]
  },
  {
   "cell_type": "code",
   "execution_count": 170,
   "id": "f8a58e77",
   "metadata": {
    "execution": {
     "iopub.execute_input": "2023-05-10T02:29:05.864481Z",
     "iopub.status.busy": "2023-05-10T02:29:05.864358Z",
     "iopub.status.idle": "2023-05-10T02:29:05.866923Z",
     "shell.execute_reply": "2023-05-10T02:29:05.866642Z"
    }
   },
   "outputs": [
    {
     "data": {
      "text/plain": [
       "array([[0],\n",
       "       [1],\n",
       "       [2],\n",
       "       [3],\n",
       "       [4]])"
      ]
     },
     "execution_count": 176,
     "metadata": {},
     "output_type": "execute_result"
    }
   ],
   "source": [
    "# Test Linear Regression\n",
    "x_new = np.arange(5).reshape((-1, 1))\n",
    "x_new"
   ]
  },
  {
   "cell_type": "code",
   "execution_count": 171,
   "id": "098027d0",
   "metadata": {
    "execution": {
     "iopub.execute_input": "2023-05-10T02:29:05.868485Z",
     "iopub.status.busy": "2023-05-10T02:29:05.868372Z",
     "iopub.status.idle": "2023-05-10T02:29:05.870736Z",
     "shell.execute_reply": "2023-05-10T02:29:05.870475Z"
    }
   },
   "outputs": [
    {
     "data": {
      "text/plain": [
       "array([[ 5],\n",
       "       [15],\n",
       "       [25],\n",
       "       [35],\n",
       "       [45],\n",
       "       [55]])"
      ]
     },
     "execution_count": 177,
     "metadata": {},
     "output_type": "execute_result"
    }
   ],
   "source": [
    "# Test Linear Regression\n",
    "x"
   ]
  },
  {
   "cell_type": "code",
   "execution_count": 172,
   "id": "22bbe1f9",
   "metadata": {
    "execution": {
     "iopub.execute_input": "2023-05-10T02:29:05.872343Z",
     "iopub.status.busy": "2023-05-10T02:29:05.872207Z",
     "iopub.status.idle": "2023-05-10T02:29:05.874569Z",
     "shell.execute_reply": "2023-05-10T02:29:05.874286Z"
    }
   },
   "outputs": [
    {
     "data": {
      "text/plain": [
       "array([ 5, 20, 14, 32, 22, 38])"
      ]
     },
     "execution_count": 178,
     "metadata": {},
     "output_type": "execute_result"
    }
   ],
   "source": [
    "# Test Linear Regression\n",
    "y"
   ]
  },
  {
   "cell_type": "code",
   "execution_count": 173,
   "id": "04c4f58b",
   "metadata": {
    "execution": {
     "iopub.execute_input": "2023-05-10T02:29:05.876146Z",
     "iopub.status.busy": "2023-05-10T02:29:05.876029Z",
     "iopub.status.idle": "2023-05-10T02:29:05.878377Z",
     "shell.execute_reply": "2023-05-10T02:29:05.878090Z"
    }
   },
   "outputs": [],
   "source": [
    "# Test Linear Regression\n",
    "model = LinearRegression().fit(x, y)"
   ]
  },
  {
   "cell_type": "code",
   "execution_count": 174,
   "id": "07272b1e",
   "metadata": {
    "execution": {
     "iopub.execute_input": "2023-05-10T02:29:05.879878Z",
     "iopub.status.busy": "2023-05-10T02:29:05.879762Z",
     "iopub.status.idle": "2023-05-10T02:29:05.881742Z",
     "shell.execute_reply": "2023-05-10T02:29:05.881475Z"
    }
   },
   "outputs": [],
   "source": [
    "# Test Linear Regression\n",
    "model = sm.OLS(y, x)"
   ]
  },
  {
   "cell_type": "code",
   "execution_count": 175,
   "id": "ebaf5903",
   "metadata": {
    "execution": {
     "iopub.execute_input": "2023-05-10T02:29:05.883207Z",
     "iopub.status.busy": "2023-05-10T02:29:05.883088Z",
     "iopub.status.idle": "2023-05-10T02:29:05.884997Z",
     "shell.execute_reply": "2023-05-10T02:29:05.884751Z"
    }
   },
   "outputs": [],
   "source": [
    "# Test Linear Regression\n",
    "results = model.fit()"
   ]
  },
  {
   "cell_type": "code",
   "execution_count": 176,
   "id": "3fed1812",
   "metadata": {
    "execution": {
     "iopub.execute_input": "2023-05-10T02:29:05.886465Z",
     "iopub.status.busy": "2023-05-10T02:29:05.886354Z",
     "iopub.status.idle": "2023-05-10T02:29:05.891225Z",
     "shell.execute_reply": "2023-05-10T02:29:05.890964Z"
    },
    "lines_to_next_cell": 1
   },
   "outputs": [
    {
     "name": "stdout",
     "output_type": "stream",
     "text": [
      "                                 OLS Regression Results                                \n",
      "=======================================================================================\n",
      "Dep. Variable:                      y   R-squared (uncentered):                   0.930\n",
      "Model:                            OLS   Adj. R-squared (uncentered):              0.916\n",
      "Method:                 Least Squares   F-statistic:                              66.71\n",
      "Date:                Tue, 09 May 2023   Prob (F-statistic):                    0.000447\n",
      "Time:                        22:29:05   Log-Likelihood:                         -19.692\n",
      "No. Observations:                   6   AIC:                                      41.38\n",
      "Df Residuals:                       5   BIC:                                      41.18\n",
      "Df Model:                           1                                                  \n",
      "Covariance Type:            nonrobust                                                  \n",
      "==============================================================================\n",
      "                 coef    std err          t      P>|t|      [0.025      0.975]\n",
      "------------------------------------------------------------------------------\n",
      "x1             0.6818      0.083      8.167      0.000       0.467       0.896\n",
      "==============================================================================\n",
      "Omnibus:                          nan   Durbin-Watson:                   2.904\n",
      "Prob(Omnibus):                    nan   Jarque-Bera (JB):                0.334\n",
      "Skew:                          -0.137   Prob(JB):                        0.846\n",
      "Kurtosis:                       1.877   Cond. No.                         1.00\n",
      "==============================================================================\n",
      "\n",
      "Notes:\n",
      "[1] R² is computed without centering (uncentered) since the model does not contain a constant.\n",
      "[2] Standard Errors assume that the covariance matrix of the errors is correctly specified.\n"
     ]
    },
    {
     "name": "stderr",
     "output_type": "stream",
     "text": [
      "/opt/homebrew/lib/python3.9/site-packages/statsmodels/stats/stattools.py:74: ValueWarning: omni_normtest is not valid with less than 8 observations; 6 samples were given.\n",
      "  warn(\"omni_normtest is not valid with less than 8 observations; %i \"\n"
     ]
    }
   ],
   "source": [
    "# Test Linear Regression\n",
    "print(results.summary())"
   ]
  },
  {
   "cell_type": "markdown",
   "id": "a9a2b069",
   "metadata": {},
   "source": [
    "VISUALIZE THE RESULTS\n",
    "CREDIT: ASK PYTHON\n",
    "PLOT GRAPHS USING MATPLOTLIB\n",
    "PLOT for the TRAIN"
   ]
  },
  {
   "cell_type": "code",
   "execution_count": 177,
   "id": "a3e8017a",
   "metadata": {
    "execution": {
     "iopub.execute_input": "2023-05-10T02:29:05.892955Z",
     "iopub.status.busy": "2023-05-10T02:29:05.892824Z",
     "iopub.status.idle": "2023-05-10T02:29:05.895217Z",
     "shell.execute_reply": "2023-05-10T02:29:05.894924Z"
    }
   },
   "outputs": [
    {
     "ename": "SyntaxError",
     "evalue": "invalid syntax (533664152.py, line 1)",
     "output_type": "error",
     "traceback": [
      "\u001b[0;36m  Cell \u001b[0;32mIn [183], line 1\u001b[0;36m\u001b[0m\n\u001b[0;31m    def plot_regression\u001b[0m\n\u001b[0m                       ^\u001b[0m\n\u001b[0;31mSyntaxError\u001b[0m\u001b[0;31m:\u001b[0m invalid syntax\n"
     ]
    }
   ],
   "source": [
    "def plot_regression\n",
    "plt.scatter(X_train, y_train, color='red') #plotting the observation line"
   ]
  },
  {
   "cell_type": "code",
   "execution_count": 178,
   "id": "1e226228",
   "metadata": {
    "execution": {
     "iopub.execute_input": "2023-05-10T02:29:05.896782Z",
     "iopub.status.busy": "2023-05-10T02:29:05.896665Z",
     "iopub.status.idle": "2023-05-10T02:29:05.904345Z",
     "shell.execute_reply": "2023-05-10T02:29:05.904074Z"
    }
   },
   "outputs": [
    {
     "ename": "NameError",
     "evalue": "name 'X_train' is not defined",
     "output_type": "error",
     "traceback": [
      "\u001b[0;31m---------------------------------------------------------------------------\u001b[0m",
      "\u001b[0;31mNameError\u001b[0m                                 Traceback (most recent call last)",
      "Cell \u001b[0;32mIn [184], line 1\u001b[0m\n\u001b[0;32m----> 1\u001b[0m plt\u001b[38;5;241m.\u001b[39mplot(\u001b[43mX_train\u001b[49m, regressor\u001b[38;5;241m.\u001b[39mpredict(X_train), color\u001b[38;5;241m=\u001b[39m\u001b[38;5;124m'\u001b[39m\u001b[38;5;124mblue\u001b[39m\u001b[38;5;124m'\u001b[39m) \u001b[38;5;66;03m#plotting the regression line\u001b[39;00m\n",
      "\u001b[0;31mNameError\u001b[0m: name 'X_train' is not defined"
     ]
    }
   ],
   "source": [
    "plt.plot(X_train, regressor.predict(X_train), color='blue') #plotting the regression line"
   ]
  },
  {
   "cell_type": "code",
   "execution_count": 179,
   "id": "420f540e",
   "metadata": {
    "execution": {
     "iopub.execute_input": "2023-05-10T02:29:05.905963Z",
     "iopub.status.busy": "2023-05-10T02:29:05.905844Z",
     "iopub.status.idle": "2023-05-10T02:29:05.908013Z",
     "shell.execute_reply": "2023-05-10T02:29:05.907755Z"
    }
   },
   "outputs": [
    {
     "ename": "SyntaxError",
     "evalue": "invalid syntax (2093449847.py, line 1)",
     "output_type": "error",
     "traceback": [
      "\u001b[0;36m  Cell \u001b[0;32mIn [185], line 1\u001b[0;36m\u001b[0m\n\u001b[0;31m    plt.title('Week_number') vs (\"uu_Id\"(Training Set))\u001b[0m\n\u001b[0m                             ^\u001b[0m\n\u001b[0;31mSyntaxError\u001b[0m\u001b[0;31m:\u001b[0m invalid syntax\n"
     ]
    }
   ],
   "source": [
    "plt.title('Week_number') vs (\"uu_Id\"(Training Set)) \n",
    "# stating the title of the graph"
   ]
  },
  {
   "cell_type": "code",
   "execution_count": 180,
   "id": "1fd44807",
   "metadata": {
    "execution": {
     "iopub.execute_input": "2023-05-10T02:29:05.909569Z",
     "iopub.status.busy": "2023-05-10T02:29:05.909458Z",
     "iopub.status.idle": "2023-05-10T02:29:06.005059Z",
     "shell.execute_reply": "2023-05-10T02:29:06.004353Z"
    },
    "lines_to_next_cell": 1
   },
   "outputs": [
    {
     "data": {
      "image/png": "[encoded data removed]",
      "text/plain": [
       "<Figure size 640x480 with 1 Axes>"
      ]
     },
     "metadata": {},
     "output_type": "display_data"
    }
   ],
   "source": [
    "plt.xlabel('Week_Number') #adding the name of x-axis\n",
    "plt.ylabel('uu_Id') #adding the name of y-axis\n",
    "plt.show() #specifies end of graph"
   ]
  },
  {
   "cell_type": "markdown",
   "id": "f0f3619b",
   "metadata": {},
   "source": [
    "Build a linear model"
   ]
  },
  {
   "cell_type": "code",
   "execution_count": 181,
   "id": "5ac01372",
   "metadata": {
    "execution": {
     "iopub.execute_input": "2023-05-10T02:29:06.009278Z",
     "iopub.status.busy": "2023-05-10T02:29:06.008689Z",
     "iopub.status.idle": "2023-05-10T02:29:06.014188Z",
     "shell.execute_reply": "2023-05-10T02:29:06.013391Z"
    },
    "lines_to_next_cell": 1
   },
   "outputs": [],
   "source": [
    "def impute_logistic(g, ycol):\n",
    "    g = g[[ycol, 'week_number', 'total_claims']]\n",
    "    xcols = ['week_number', 'total_claims']\n",
    "    ycols = [ycol]"
   ]
  },
  {
   "cell_type": "code",
   "execution_count": 182,
   "id": "26a404b8",
   "metadata": {
    "execution": {
     "iopub.execute_input": "2023-05-10T02:29:06.018924Z",
     "iopub.status.busy": "2023-05-10T02:29:06.018205Z",
     "iopub.status.idle": "2023-05-10T02:29:06.025986Z",
     "shell.execute_reply": "2023-05-10T02:29:06.025323Z"
    }
   },
   "outputs": [
    {
     "ename": "IndentationError",
     "evalue": "unexpected indent (3797937319.py, line 2)",
     "output_type": "error",
     "traceback": [
      "\u001b[0;36m  Cell \u001b[0;32mIn [188], line 2\u001b[0;36m\u001b[0m\n\u001b[0;31m    x_train, x_test = g.loc[mask_train, xcols], g.loc[~mask_train, xcols]\u001b[0m\n\u001b[0m    ^\u001b[0m\n\u001b[0;31mIndentationError\u001b[0m\u001b[0;31m:\u001b[0m unexpected indent\n"
     ]
    }
   ],
   "source": [
    "mask_train = ~g[ycol].isnull()\n",
    "    x_train, x_test = g.loc[mask_train, xcols], g.loc[~mask_train, xcols]\n",
    "    y_train, y_test = g.loc[mask_train, ycols], g.loc[~mask_train, ycols]"
   ]
  },
  {
   "cell_type": "code",
   "execution_count": 183,
   "id": "0c34c210",
   "metadata": {
    "execution": {
     "iopub.execute_input": "2023-05-10T02:29:06.029953Z",
     "iopub.status.busy": "2023-05-10T02:29:06.029647Z",
     "iopub.status.idle": "2023-05-10T02:29:06.037784Z",
     "shell.execute_reply": "2023-05-10T02:29:06.037074Z"
    },
    "lines_to_next_cell": 1
   },
   "outputs": [
    {
     "ename": "IndentationError",
     "evalue": "unindent does not match any outer indentation level (<tokenize>, line 12)",
     "output_type": "error",
     "traceback": [
      "\u001b[0;36m  File \u001b[0;32m<tokenize>:12\u001b[0;36m\u001b[0m\n\u001b[0;31m    g.loc[~mask_train, ycols] = yhat\u001b[0m\n\u001b[0m    ^\u001b[0m\n\u001b[0;31mIndentationError\u001b[0m\u001b[0;31m:\u001b[0m unindent does not match any outer indentation level\n"
     ]
    }
   ],
   "source": [
    "if y_train.shape[0] == 0:\n",
    "    g[ycol] = None\n",
    "return g[ycol]\n",
    "    \n",
    "    classes = y_train[ycol].unique()\n",
    "if len(classes) == 1:\n",
    "        yhat = [classes[0]]\n",
    "else:\n",
    "    model =\n",
    "sklearn.linear_model.LogisticRegression(multi_class='multinomial', solver='lbfgs', max_iter=10000).fit(x_train, y_train.values.ravel())\n",
    "        yhat = model.predict(x_test)\n",
    "    g.loc[~mask_train, ycols] = yhat\n",
    "return g[ycol]"
   ]
  },
  {
   "cell_type": "code",
   "execution_count": 184,
   "id": "2f7b58dc",
   "metadata": {
    "execution": {
     "iopub.execute_input": "2023-05-10T02:29:06.041873Z",
     "iopub.status.busy": "2023-05-10T02:29:06.041222Z",
     "iopub.status.idle": "2023-05-10T02:29:06.047309Z",
     "shell.execute_reply": "2023-05-10T02:29:06.046658Z"
    },
    "lines_to_next_cell": 1
   },
   "outputs": [],
   "source": [
    "def impute_industry(g, max_week_number=37):\n",
    "    g = g.loc[g.week_number <= max_week_number, :]\n",
    "    x = g.copy()\n",
    "    for colname in COL_MAP['industry']:\n",
    "        x[colname] = impute_logistic(g, colname)\n",
    "    return x"
   ]
  },
  {
   "cell_type": "code",
   "execution_count": 185,
   "id": "dcb6afeb",
   "metadata": {
    "execution": {
     "iopub.execute_input": "2023-05-10T02:29:06.051134Z",
     "iopub.status.busy": "2023-05-10T02:29:06.050708Z",
     "iopub.status.idle": "2023-05-10T02:29:06.055708Z",
     "shell.execute_reply": "2023-05-10T02:29:06.054996Z"
    },
    "lines_to_next_cell": 1
   },
   "outputs": [],
   "source": [
    "def load_imp_industry(csv_name='4_imp_industry.csv'):\n",
    "    if not os.path.isfile(csv_name):\n",
    "        d = load_clean()\n",
    "        d = d.groupby('uu_id').apply(impute_industry).reset_index(0, drop=True)\n",
    "        d.to_csv(csv_name, index=False)\n",
    "    else:\n",
    "        d = pd.read_csv(csv_name)\n",
    "    return d"
   ]
  },
  {
   "cell_type": "code",
   "execution_count": 186,
   "id": "8246ecbf",
   "metadata": {
    "execution": {
     "iopub.execute_input": "2023-05-10T02:29:06.058797Z",
     "iopub.status.busy": "2023-05-10T02:29:06.058523Z",
     "iopub.status.idle": "2023-05-10T02:29:06.109714Z",
     "shell.execute_reply": "2023-05-10T02:29:06.108072Z"
    },
    "lines_to_next_cell": 1
   },
   "outputs": [
    {
     "data": {
      "text/html": [
       "<div>\n",
       "<style scoped>\n",
       "    .dataframe tbody tr th:only-of-type {\n",
       "        vertical-align: middle;\n",
       "    }\n",
       "\n",
       "    .dataframe tbody tr th {\n",
       "        vertical-align: top;\n",
       "    }\n",
       "\n",
       "    .dataframe thead th {\n",
       "        text-align: right;\n",
       "    }\n",
       "</style>\n",
       "<table border=\"1\" class=\"dataframe\">\n",
       "  <thead>\n",
       "    <tr style=\"text-align: right;\">\n",
       "      <th></th>\n",
       "      <th>uu_id</th>\n",
       "      <th>total_claims</th>\n",
       "      <th>edu_8th_or_less</th>\n",
       "      <th>edu_grades_9_11</th>\n",
       "      <th>edu_hs_grad_equiv</th>\n",
       "      <th>edu_post_hs</th>\n",
       "      <th>edu_unknown</th>\n",
       "      <th>top_category_employer1</th>\n",
       "      <th>top_category_employer2</th>\n",
       "      <th>top_category_employer3</th>\n",
       "      <th>...</th>\n",
       "      <th>race_amerindian</th>\n",
       "      <th>race_asian</th>\n",
       "      <th>race_black</th>\n",
       "      <th>race_noanswer</th>\n",
       "      <th>race_hawaiiannative</th>\n",
       "      <th>race_other</th>\n",
       "      <th>race_white</th>\n",
       "      <th>average_wage</th>\n",
       "      <th>week_number</th>\n",
       "      <th>date</th>\n",
       "    </tr>\n",
       "  </thead>\n",
       "  <tbody>\n",
       "    <tr>\n",
       "      <th>0</th>\n",
       "      <td>001cd9ae23064d7f0fd3cd327c873d8d</td>\n",
       "      <td>104.323590</td>\n",
       "      <td>0.0</td>\n",
       "      <td>0.0</td>\n",
       "      <td>104.323590</td>\n",
       "      <td>0.0</td>\n",
       "      <td>0.0</td>\n",
       "      <td>31-33</td>\n",
       "      <td>23</td>\n",
       "      <td>81</td>\n",
       "      <td>...</td>\n",
       "      <td>0.0</td>\n",
       "      <td>0.0</td>\n",
       "      <td>0.0</td>\n",
       "      <td>0.0</td>\n",
       "      <td>0.0</td>\n",
       "      <td>0.0</td>\n",
       "      <td>104.323590</td>\n",
       "      <td>10484.333333</td>\n",
       "      <td>1</td>\n",
       "      <td>2022-01-01</td>\n",
       "    </tr>\n",
       "    <tr>\n",
       "      <th>1</th>\n",
       "      <td>001cd9ae23064d7f0fd3cd327c873d8d</td>\n",
       "      <td>101.703882</td>\n",
       "      <td>0.0</td>\n",
       "      <td>0.0</td>\n",
       "      <td>101.703882</td>\n",
       "      <td>0.0</td>\n",
       "      <td>0.0</td>\n",
       "      <td>31-33</td>\n",
       "      <td>23</td>\n",
       "      <td>81</td>\n",
       "      <td>...</td>\n",
       "      <td>0.0</td>\n",
       "      <td>0.0</td>\n",
       "      <td>0.0</td>\n",
       "      <td>0.0</td>\n",
       "      <td>0.0</td>\n",
       "      <td>0.0</td>\n",
       "      <td>101.703882</td>\n",
       "      <td>10484.333333</td>\n",
       "      <td>2</td>\n",
       "      <td>2022-01-08</td>\n",
       "    </tr>\n",
       "    <tr>\n",
       "      <th>2</th>\n",
       "      <td>001cd9ae23064d7f0fd3cd327c873d8d</td>\n",
       "      <td>99.084175</td>\n",
       "      <td>0.0</td>\n",
       "      <td>0.0</td>\n",
       "      <td>99.084175</td>\n",
       "      <td>0.0</td>\n",
       "      <td>0.0</td>\n",
       "      <td>31-33</td>\n",
       "      <td>23</td>\n",
       "      <td>81</td>\n",
       "      <td>...</td>\n",
       "      <td>0.0</td>\n",
       "      <td>0.0</td>\n",
       "      <td>0.0</td>\n",
       "      <td>0.0</td>\n",
       "      <td>0.0</td>\n",
       "      <td>0.0</td>\n",
       "      <td>99.084175</td>\n",
       "      <td>10484.333333</td>\n",
       "      <td>3</td>\n",
       "      <td>2022-01-15</td>\n",
       "    </tr>\n",
       "    <tr>\n",
       "      <th>3</th>\n",
       "      <td>001cd9ae23064d7f0fd3cd327c873d8d</td>\n",
       "      <td>96.464467</td>\n",
       "      <td>0.0</td>\n",
       "      <td>0.0</td>\n",
       "      <td>96.464467</td>\n",
       "      <td>0.0</td>\n",
       "      <td>0.0</td>\n",
       "      <td>31-33</td>\n",
       "      <td>23</td>\n",
       "      <td>81</td>\n",
       "      <td>...</td>\n",
       "      <td>0.0</td>\n",
       "      <td>0.0</td>\n",
       "      <td>0.0</td>\n",
       "      <td>0.0</td>\n",
       "      <td>0.0</td>\n",
       "      <td>0.0</td>\n",
       "      <td>96.464467</td>\n",
       "      <td>10484.333333</td>\n",
       "      <td>4</td>\n",
       "      <td>2022-01-22</td>\n",
       "    </tr>\n",
       "    <tr>\n",
       "      <th>4</th>\n",
       "      <td>001cd9ae23064d7f0fd3cd327c873d8d</td>\n",
       "      <td>93.844759</td>\n",
       "      <td>0.0</td>\n",
       "      <td>0.0</td>\n",
       "      <td>93.844759</td>\n",
       "      <td>0.0</td>\n",
       "      <td>0.0</td>\n",
       "      <td>31-33</td>\n",
       "      <td>23</td>\n",
       "      <td>81</td>\n",
       "      <td>...</td>\n",
       "      <td>0.0</td>\n",
       "      <td>0.0</td>\n",
       "      <td>0.0</td>\n",
       "      <td>0.0</td>\n",
       "      <td>0.0</td>\n",
       "      <td>0.0</td>\n",
       "      <td>93.844759</td>\n",
       "      <td>10484.333333</td>\n",
       "      <td>5</td>\n",
       "      <td>2022-01-29</td>\n",
       "    </tr>\n",
       "    <tr>\n",
       "      <th>...</th>\n",
       "      <td>...</td>\n",
       "      <td>...</td>\n",
       "      <td>...</td>\n",
       "      <td>...</td>\n",
       "      <td>...</td>\n",
       "      <td>...</td>\n",
       "      <td>...</td>\n",
       "      <td>...</td>\n",
       "      <td>...</td>\n",
       "      <td>...</td>\n",
       "      <td>...</td>\n",
       "      <td>...</td>\n",
       "      <td>...</td>\n",
       "      <td>...</td>\n",
       "      <td>...</td>\n",
       "      <td>...</td>\n",
       "      <td>...</td>\n",
       "      <td>...</td>\n",
       "      <td>...</td>\n",
       "      <td>...</td>\n",
       "      <td>...</td>\n",
       "    </tr>\n",
       "    <tr>\n",
       "      <th>19420</th>\n",
       "      <td>fec479d0202d6e1e3f051a9ee902ff5d</td>\n",
       "      <td>59.000000</td>\n",
       "      <td>0.0</td>\n",
       "      <td>0.0</td>\n",
       "      <td>10.000000</td>\n",
       "      <td>49.0</td>\n",
       "      <td>0.0</td>\n",
       "      <td>62</td>\n",
       "      <td>23</td>\n",
       "      <td>31-33</td>\n",
       "      <td>...</td>\n",
       "      <td>0.0</td>\n",
       "      <td>0.0</td>\n",
       "      <td>7.0</td>\n",
       "      <td>0.0</td>\n",
       "      <td>0.0</td>\n",
       "      <td>0.0</td>\n",
       "      <td>52.000000</td>\n",
       "      <td>9908.312500</td>\n",
       "      <td>33</td>\n",
       "      <td>2022-08-13</td>\n",
       "    </tr>\n",
       "    <tr>\n",
       "      <th>19421</th>\n",
       "      <td>fec479d0202d6e1e3f051a9ee902ff5d</td>\n",
       "      <td>34.000000</td>\n",
       "      <td>0.0</td>\n",
       "      <td>0.0</td>\n",
       "      <td>9.000000</td>\n",
       "      <td>25.0</td>\n",
       "      <td>0.0</td>\n",
       "      <td>23</td>\n",
       "      <td>62</td>\n",
       "      <td>61</td>\n",
       "      <td>...</td>\n",
       "      <td>0.0</td>\n",
       "      <td>0.0</td>\n",
       "      <td>8.0</td>\n",
       "      <td>0.0</td>\n",
       "      <td>0.0</td>\n",
       "      <td>0.0</td>\n",
       "      <td>26.000000</td>\n",
       "      <td>9908.312500</td>\n",
       "      <td>34</td>\n",
       "      <td>2022-08-20</td>\n",
       "    </tr>\n",
       "    <tr>\n",
       "      <th>19422</th>\n",
       "      <td>fec479d0202d6e1e3f051a9ee902ff5d</td>\n",
       "      <td>27.000000</td>\n",
       "      <td>0.0</td>\n",
       "      <td>0.0</td>\n",
       "      <td>12.000000</td>\n",
       "      <td>15.0</td>\n",
       "      <td>0.0</td>\n",
       "      <td>62</td>\n",
       "      <td>23</td>\n",
       "      <td>72</td>\n",
       "      <td>...</td>\n",
       "      <td>0.0</td>\n",
       "      <td>0.0</td>\n",
       "      <td>8.0</td>\n",
       "      <td>0.0</td>\n",
       "      <td>0.0</td>\n",
       "      <td>0.0</td>\n",
       "      <td>19.000000</td>\n",
       "      <td>9908.312500</td>\n",
       "      <td>35</td>\n",
       "      <td>2022-08-27</td>\n",
       "    </tr>\n",
       "    <tr>\n",
       "      <th>19423</th>\n",
       "      <td>fec479d0202d6e1e3f051a9ee902ff5d</td>\n",
       "      <td>28.000000</td>\n",
       "      <td>0.0</td>\n",
       "      <td>0.0</td>\n",
       "      <td>10.000000</td>\n",
       "      <td>18.0</td>\n",
       "      <td>0.0</td>\n",
       "      <td>23</td>\n",
       "      <td>62</td>\n",
       "      <td>72</td>\n",
       "      <td>...</td>\n",
       "      <td>0.0</td>\n",
       "      <td>0.0</td>\n",
       "      <td>10.0</td>\n",
       "      <td>0.0</td>\n",
       "      <td>0.0</td>\n",
       "      <td>0.0</td>\n",
       "      <td>18.000000</td>\n",
       "      <td>9908.312500</td>\n",
       "      <td>36</td>\n",
       "      <td>2022-09-03</td>\n",
       "    </tr>\n",
       "    <tr>\n",
       "      <th>19424</th>\n",
       "      <td>fec479d0202d6e1e3f051a9ee902ff5d</td>\n",
       "      <td>28.000000</td>\n",
       "      <td>0.0</td>\n",
       "      <td>0.0</td>\n",
       "      <td>11.000000</td>\n",
       "      <td>17.0</td>\n",
       "      <td>0.0</td>\n",
       "      <td>62</td>\n",
       "      <td>23</td>\n",
       "      <td>72</td>\n",
       "      <td>...</td>\n",
       "      <td>0.0</td>\n",
       "      <td>0.0</td>\n",
       "      <td>8.0</td>\n",
       "      <td>0.0</td>\n",
       "      <td>0.0</td>\n",
       "      <td>0.0</td>\n",
       "      <td>20.000000</td>\n",
       "      <td>9908.312500</td>\n",
       "      <td>37</td>\n",
       "      <td>2022-09-10</td>\n",
       "    </tr>\n",
       "  </tbody>\n",
       "</table>\n",
       "<p>19425 rows × 23 columns</p>\n",
       "</div>"
      ],
      "text/plain": [
       "                                  uu_id  total_claims  edu_8th_or_less  \\\n",
       "0      001cd9ae23064d7f0fd3cd327c873d8d    104.323590              0.0   \n",
       "1      001cd9ae23064d7f0fd3cd327c873d8d    101.703882              0.0   \n",
       "2      001cd9ae23064d7f0fd3cd327c873d8d     99.084175              0.0   \n",
       "3      001cd9ae23064d7f0fd3cd327c873d8d     96.464467              0.0   \n",
       "4      001cd9ae23064d7f0fd3cd327c873d8d     93.844759              0.0   \n",
       "...                                 ...           ...              ...   \n",
       "19420  fec479d0202d6e1e3f051a9ee902ff5d     59.000000              0.0   \n",
       "19421  fec479d0202d6e1e3f051a9ee902ff5d     34.000000              0.0   \n",
       "19422  fec479d0202d6e1e3f051a9ee902ff5d     27.000000              0.0   \n",
       "19423  fec479d0202d6e1e3f051a9ee902ff5d     28.000000              0.0   \n",
       "19424  fec479d0202d6e1e3f051a9ee902ff5d     28.000000              0.0   \n",
       "\n",
       "       edu_grades_9_11  edu_hs_grad_equiv  edu_post_hs  edu_unknown  \\\n",
       "0                  0.0         104.323590          0.0          0.0   \n",
       "1                  0.0         101.703882          0.0          0.0   \n",
       "2                  0.0          99.084175          0.0          0.0   \n",
       "3                  0.0          96.464467          0.0          0.0   \n",
       "4                  0.0          93.844759          0.0          0.0   \n",
       "...                ...                ...          ...          ...   \n",
       "19420              0.0          10.000000         49.0          0.0   \n",
       "19421              0.0           9.000000         25.0          0.0   \n",
       "19422              0.0          12.000000         15.0          0.0   \n",
       "19423              0.0          10.000000         18.0          0.0   \n",
       "19424              0.0          11.000000         17.0          0.0   \n",
       "\n",
       "      top_category_employer1 top_category_employer2 top_category_employer3  \\\n",
       "0                      31-33                     23                     81   \n",
       "1                      31-33                     23                     81   \n",
       "2                      31-33                     23                     81   \n",
       "3                      31-33                     23                     81   \n",
       "4                      31-33                     23                     81   \n",
       "...                      ...                    ...                    ...   \n",
       "19420                     62                     23                  31-33   \n",
       "19421                     23                     62                     61   \n",
       "19422                     62                     23                     72   \n",
       "19423                     23                     62                     72   \n",
       "19424                     62                     23                     72   \n",
       "\n",
       "       ...  race_amerindian  race_asian  race_black  race_noanswer  \\\n",
       "0      ...              0.0         0.0         0.0            0.0   \n",
       "1      ...              0.0         0.0         0.0            0.0   \n",
       "2      ...              0.0         0.0         0.0            0.0   \n",
       "3      ...              0.0         0.0         0.0            0.0   \n",
       "4      ...              0.0         0.0         0.0            0.0   \n",
       "...    ...              ...         ...         ...            ...   \n",
       "19420  ...              0.0         0.0         7.0            0.0   \n",
       "19421  ...              0.0         0.0         8.0            0.0   \n",
       "19422  ...              0.0         0.0         8.0            0.0   \n",
       "19423  ...              0.0         0.0        10.0            0.0   \n",
       "19424  ...              0.0         0.0         8.0            0.0   \n",
       "\n",
       "       race_hawaiiannative  race_other  race_white  average_wage  week_number  \\\n",
       "0                      0.0         0.0  104.323590  10484.333333            1   \n",
       "1                      0.0         0.0  101.703882  10484.333333            2   \n",
       "2                      0.0         0.0   99.084175  10484.333333            3   \n",
       "3                      0.0         0.0   96.464467  10484.333333            4   \n",
       "4                      0.0         0.0   93.844759  10484.333333            5   \n",
       "...                    ...         ...         ...           ...          ...   \n",
       "19420                  0.0         0.0   52.000000   9908.312500           33   \n",
       "19421                  0.0         0.0   26.000000   9908.312500           34   \n",
       "19422                  0.0         0.0   19.000000   9908.312500           35   \n",
       "19423                  0.0         0.0   18.000000   9908.312500           36   \n",
       "19424                  0.0         0.0   20.000000   9908.312500           37   \n",
       "\n",
       "             date  \n",
       "0      2022-01-01  \n",
       "1      2022-01-08  \n",
       "2      2022-01-15  \n",
       "3      2022-01-22  \n",
       "4      2022-01-29  \n",
       "...           ...  \n",
       "19420  2022-08-13  \n",
       "19421  2022-08-20  \n",
       "19422  2022-08-27  \n",
       "19423  2022-09-03  \n",
       "19424  2022-09-10  \n",
       "\n",
       "[19425 rows x 23 columns]"
      ]
     },
     "execution_count": 193,
     "metadata": {},
     "output_type": "execute_result"
    }
   ],
   "source": [
    "d = load_imp_industry()\n",
    "d"
   ]
  },
  {
   "cell_type": "code",
   "execution_count": 187,
   "id": "b90b7160",
   "metadata": {
    "execution": {
     "iopub.execute_input": "2023-05-10T02:29:06.113133Z",
     "iopub.status.busy": "2023-05-10T02:29:06.112852Z",
     "iopub.status.idle": "2023-05-10T02:29:06.119428Z",
     "shell.execute_reply": "2023-05-10T02:29:06.118799Z"
    },
    "lines_to_next_cell": 1
   },
   "outputs": [],
   "source": [
    "def plot_regression(d):    \n",
    "    e = d.loc[:, COL_MAP['edu'] + ['total_claims']].reset_index(0, drop=True)\n",
    "    e = e.fillna(0)\n",
    "    X = e[COL_MAP['edu']]\n",
    "    y = e['total_claims']\n",
    "    model = sklearn.linear_model.LinearRegression()\n",
    "    model.fit(X, y)\n",
    "    fig, ax = plt.subplots()\n",
    "    ax.plot(X.index, model.predict(X), label='predict')\n",
    "    ax.plot(X.index, y, label='observed', ls='--')\n",
    "    ax.legend()\n",
    "    ax.set_xlabel('index')\n",
    "    ax.set_ylabel('total_claims')"
   ]
  },
  {
   "cell_type": "code",
   "execution_count": 188,
   "id": "53cdca3e",
   "metadata": {
    "execution": {
     "iopub.execute_input": "2023-05-10T02:29:06.122690Z",
     "iopub.status.busy": "2023-05-10T02:29:06.122427Z",
     "iopub.status.idle": "2023-05-10T02:29:06.145718Z",
     "shell.execute_reply": "2023-05-10T02:29:06.144594Z"
    },
    "lines_to_next_cell": 1
   },
   "outputs": [
    {
     "ename": "NameError",
     "evalue": "name 'COL_MAP' is not defined",
     "output_type": "error",
     "traceback": [
      "\u001b[0;31m---------------------------------------------------------------------------\u001b[0m",
      "\u001b[0;31mNameError\u001b[0m                                 Traceback (most recent call last)",
      "Cell \u001b[0;32mIn [195], line 1\u001b[0m\n\u001b[0;32m----> 1\u001b[0m \u001b[43mplot_regression\u001b[49m\u001b[43m(\u001b[49m\u001b[43md\u001b[49m\u001b[43m)\u001b[49m\n",
      "Cell \u001b[0;32mIn [194], line 2\u001b[0m, in \u001b[0;36mplot_regression\u001b[0;34m(d)\u001b[0m\n\u001b[1;32m      1\u001b[0m \u001b[38;5;28;01mdef\u001b[39;00m \u001b[38;5;21mplot_regression\u001b[39m(d):    \n\u001b[0;32m----> 2\u001b[0m     e \u001b[38;5;241m=\u001b[39m d\u001b[38;5;241m.\u001b[39mloc[:, \u001b[43mCOL_MAP\u001b[49m[\u001b[38;5;124m'\u001b[39m\u001b[38;5;124medu\u001b[39m\u001b[38;5;124m'\u001b[39m] \u001b[38;5;241m+\u001b[39m [\u001b[38;5;124m'\u001b[39m\u001b[38;5;124mtotal_claims\u001b[39m\u001b[38;5;124m'\u001b[39m]]\u001b[38;5;241m.\u001b[39mreset_index(\u001b[38;5;241m0\u001b[39m, drop\u001b[38;5;241m=\u001b[39m\u001b[38;5;28;01mTrue\u001b[39;00m)\n\u001b[1;32m      3\u001b[0m     e \u001b[38;5;241m=\u001b[39m e\u001b[38;5;241m.\u001b[39mfillna(\u001b[38;5;241m0\u001b[39m)\n\u001b[1;32m      4\u001b[0m     X \u001b[38;5;241m=\u001b[39m e[COL_MAP[\u001b[38;5;124m'\u001b[39m\u001b[38;5;124medu\u001b[39m\u001b[38;5;124m'\u001b[39m]]\n",
      "\u001b[0;31mNameError\u001b[0m: name 'COL_MAP' is not defined"
     ]
    }
   ],
   "source": [
    "plot_regression(d)"
   ]
  },
  {
   "cell_type": "markdown",
   "id": "de58e17e",
   "metadata": {},
   "source": [
    "Build a linear model"
   ]
  },
  {
   "cell_type": "code",
   "execution_count": 189,
   "id": "341d0b8f",
   "metadata": {
    "execution": {
     "iopub.execute_input": "2023-05-10T02:29:06.148870Z",
     "iopub.status.busy": "2023-05-10T02:29:06.148599Z",
     "iopub.status.idle": "2023-05-10T02:29:06.152850Z",
     "shell.execute_reply": "2023-05-10T02:29:06.151866Z"
    },
    "lines_to_next_cell": 1
   },
   "outputs": [],
   "source": [
    "def impute_logistic(g, ycol):\n",
    "    g = g[[ycol, 'week_number', 'total_claims']]\n",
    "    xcols = ['week_number', 'total_claims']\n",
    "    ycols = [ycol]"
   ]
  },
  {
   "cell_type": "code",
   "execution_count": 190,
   "id": "761dfa47",
   "metadata": {
    "execution": {
     "iopub.execute_input": "2023-05-10T02:29:06.155999Z",
     "iopub.status.busy": "2023-05-10T02:29:06.155728Z",
     "iopub.status.idle": "2023-05-10T02:29:06.161206Z",
     "shell.execute_reply": "2023-05-10T02:29:06.160617Z"
    }
   },
   "outputs": [
    {
     "ename": "IndentationError",
     "evalue": "unexpected indent (3797937319.py, line 2)",
     "output_type": "error",
     "traceback": [
      "\u001b[0;36m  Cell \u001b[0;32mIn [197], line 2\u001b[0;36m\u001b[0m\n\u001b[0;31m    x_train, x_test = g.loc[mask_train, xcols], g.loc[~mask_train, xcols]\u001b[0m\n\u001b[0m    ^\u001b[0m\n\u001b[0;31mIndentationError\u001b[0m\u001b[0;31m:\u001b[0m unexpected indent\n"
     ]
    }
   ],
   "source": [
    "mask_train = ~g[ycol].isnull()\n",
    "    x_train, x_test = g.loc[mask_train, xcols], g.loc[~mask_train, xcols]\n",
    "    y_train, y_test = g.loc[mask_train, ycols], g.loc[~mask_train, ycols]"
   ]
  },
  {
   "cell_type": "code",
   "execution_count": 191,
   "id": "ae4e5b93",
   "metadata": {
    "execution": {
     "iopub.execute_input": "2023-05-10T02:29:06.164469Z",
     "iopub.status.busy": "2023-05-10T02:29:06.164193Z",
     "iopub.status.idle": "2023-05-10T02:29:06.169599Z",
     "shell.execute_reply": "2023-05-10T02:29:06.168796Z"
    },
    "lines_to_next_cell": 1
   },
   "outputs": [
    {
     "ename": "IndentationError",
     "evalue": "unindent does not match any outer indentation level (<tokenize>, line 12)",
     "output_type": "error",
     "traceback": [
      "\u001b[0;36m  File \u001b[0;32m<tokenize>:12\u001b[0;36m\u001b[0m\n\u001b[0;31m    g.loc[~mask_train, ycols] = yhat\u001b[0m\n\u001b[0m    ^\u001b[0m\n\u001b[0;31mIndentationError\u001b[0m\u001b[0;31m:\u001b[0m unindent does not match any outer indentation level\n"
     ]
    }
   ],
   "source": [
    "if y_train.shape[0] == 0:\n",
    "    g[ycol] = None\n",
    "return g[ycol]\n",
    "    \n",
    "    classes = y_train[ycol].unique()\n",
    "if len(classes) == 1:\n",
    "        yhat = [classes[0]]\n",
    "else:\n",
    "    model =\n",
    "sklearn.linear_model.LogisticRegression(multi_class='multinomial', solver='lbfgs', max_iter=10000).fit(x_train, y_train.values.ravel())\n",
    "        yhat = model.predict(x_test)\n",
    "    g.loc[~mask_train, ycols] = yhat\n",
    "return g[ycol]"
   ]
  },
  {
   "cell_type": "code",
   "execution_count": 192,
   "id": "500e0c87",
   "metadata": {
    "execution": {
     "iopub.execute_input": "2023-05-10T02:29:06.172697Z",
     "iopub.status.busy": "2023-05-10T02:29:06.172434Z",
     "iopub.status.idle": "2023-05-10T02:29:06.176806Z",
     "shell.execute_reply": "2023-05-10T02:29:06.176191Z"
    },
    "lines_to_next_cell": 1
   },
   "outputs": [],
   "source": [
    "def impute_industry(g, max_week_number=37):\n",
    "    g = g.loc[g.week_number <= max_week_number, :]\n",
    "    x = g.copy()\n",
    "    for colname in COL_MAP['industry']:\n",
    "        x[colname] = impute_logistic(g, colname)\n",
    "    return x"
   ]
  },
  {
   "cell_type": "code",
   "execution_count": 193,
   "id": "09ad9063",
   "metadata": {
    "execution": {
     "iopub.execute_input": "2023-05-10T02:29:06.179931Z",
     "iopub.status.busy": "2023-05-10T02:29:06.179664Z",
     "iopub.status.idle": "2023-05-10T02:29:06.184663Z",
     "shell.execute_reply": "2023-05-10T02:29:06.183711Z"
    },
    "lines_to_next_cell": 1
   },
   "outputs": [],
   "source": [
    "def load_imp_industry(csv_name='4_imp_industry.csv'):\n",
    "    if not os.path.isfile(csv_name):\n",
    "        d = load_clean()\n",
    "        d = d.groupby('uu_id').apply(impute_industry).reset_index(0, drop=True)\n",
    "        d.to_csv(csv_name, index=False)\n",
    "    else:\n",
    "        d = pd.read_csv(csv_name)\n",
    "    return d"
   ]
  },
  {
   "cell_type": "code",
   "execution_count": 194,
   "id": "2d91e01c",
   "metadata": {
    "execution": {
     "iopub.execute_input": "2023-05-10T02:29:06.186994Z",
     "iopub.status.busy": "2023-05-10T02:29:06.186836Z",
     "iopub.status.idle": "2023-05-10T02:29:06.224975Z",
     "shell.execute_reply": "2023-05-10T02:29:06.224691Z"
    },
    "lines_to_next_cell": 1
   },
   "outputs": [
    {
     "data": {
      "text/html": [
       "<div>\n",
       "<style scoped>\n",
       "    .dataframe tbody tr th:only-of-type {\n",
       "        vertical-align: middle;\n",
       "    }\n",
       "\n",
       "    .dataframe tbody tr th {\n",
       "        vertical-align: top;\n",
       "    }\n",
       "\n",
       "    .dataframe thead th {\n",
       "        text-align: right;\n",
       "    }\n",
       "</style>\n",
       "<table border=\"1\" class=\"dataframe\">\n",
       "  <thead>\n",
       "    <tr style=\"text-align: right;\">\n",
       "      <th></th>\n",
       "      <th>uu_id</th>\n",
       "      <th>total_claims</th>\n",
       "      <th>edu_8th_or_less</th>\n",
       "      <th>edu_grades_9_11</th>\n",
       "      <th>edu_hs_grad_equiv</th>\n",
       "      <th>edu_post_hs</th>\n",
       "      <th>edu_unknown</th>\n",
       "      <th>top_category_employer1</th>\n",
       "      <th>top_category_employer2</th>\n",
       "      <th>top_category_employer3</th>\n",
       "      <th>...</th>\n",
       "      <th>race_amerindian</th>\n",
       "      <th>race_asian</th>\n",
       "      <th>race_black</th>\n",
       "      <th>race_noanswer</th>\n",
       "      <th>race_hawaiiannative</th>\n",
       "      <th>race_other</th>\n",
       "      <th>race_white</th>\n",
       "      <th>average_wage</th>\n",
       "      <th>week_number</th>\n",
       "      <th>date</th>\n",
       "    </tr>\n",
       "  </thead>\n",
       "  <tbody>\n",
       "    <tr>\n",
       "      <th>0</th>\n",
       "      <td>001cd9ae23064d7f0fd3cd327c873d8d</td>\n",
       "      <td>104.323590</td>\n",
       "      <td>0.0</td>\n",
       "      <td>0.0</td>\n",
       "      <td>104.323590</td>\n",
       "      <td>0.0</td>\n",
       "      <td>0.0</td>\n",
       "      <td>31-33</td>\n",
       "      <td>23</td>\n",
       "      <td>81</td>\n",
       "      <td>...</td>\n",
       "      <td>0.0</td>\n",
       "      <td>0.0</td>\n",
       "      <td>0.0</td>\n",
       "      <td>0.0</td>\n",
       "      <td>0.0</td>\n",
       "      <td>0.0</td>\n",
       "      <td>104.323590</td>\n",
       "      <td>10484.333333</td>\n",
       "      <td>1</td>\n",
       "      <td>2022-01-01</td>\n",
       "    </tr>\n",
       "    <tr>\n",
       "      <th>1</th>\n",
       "      <td>001cd9ae23064d7f0fd3cd327c873d8d</td>\n",
       "      <td>101.703882</td>\n",
       "      <td>0.0</td>\n",
       "      <td>0.0</td>\n",
       "      <td>101.703882</td>\n",
       "      <td>0.0</td>\n",
       "      <td>0.0</td>\n",
       "      <td>31-33</td>\n",
       "      <td>23</td>\n",
       "      <td>81</td>\n",
       "      <td>...</td>\n",
       "      <td>0.0</td>\n",
       "      <td>0.0</td>\n",
       "      <td>0.0</td>\n",
       "      <td>0.0</td>\n",
       "      <td>0.0</td>\n",
       "      <td>0.0</td>\n",
       "      <td>101.703882</td>\n",
       "      <td>10484.333333</td>\n",
       "      <td>2</td>\n",
       "      <td>2022-01-08</td>\n",
       "    </tr>\n",
       "    <tr>\n",
       "      <th>2</th>\n",
       "      <td>001cd9ae23064d7f0fd3cd327c873d8d</td>\n",
       "      <td>99.084175</td>\n",
       "      <td>0.0</td>\n",
       "      <td>0.0</td>\n",
       "      <td>99.084175</td>\n",
       "      <td>0.0</td>\n",
       "      <td>0.0</td>\n",
       "      <td>31-33</td>\n",
       "      <td>23</td>\n",
       "      <td>81</td>\n",
       "      <td>...</td>\n",
       "      <td>0.0</td>\n",
       "      <td>0.0</td>\n",
       "      <td>0.0</td>\n",
       "      <td>0.0</td>\n",
       "      <td>0.0</td>\n",
       "      <td>0.0</td>\n",
       "      <td>99.084175</td>\n",
       "      <td>10484.333333</td>\n",
       "      <td>3</td>\n",
       "      <td>2022-01-15</td>\n",
       "    </tr>\n",
       "    <tr>\n",
       "      <th>3</th>\n",
       "      <td>001cd9ae23064d7f0fd3cd327c873d8d</td>\n",
       "      <td>96.464467</td>\n",
       "      <td>0.0</td>\n",
       "      <td>0.0</td>\n",
       "      <td>96.464467</td>\n",
       "      <td>0.0</td>\n",
       "      <td>0.0</td>\n",
       "      <td>31-33</td>\n",
       "      <td>23</td>\n",
       "      <td>81</td>\n",
       "      <td>...</td>\n",
       "      <td>0.0</td>\n",
       "      <td>0.0</td>\n",
       "      <td>0.0</td>\n",
       "      <td>0.0</td>\n",
       "      <td>0.0</td>\n",
       "      <td>0.0</td>\n",
       "      <td>96.464467</td>\n",
       "      <td>10484.333333</td>\n",
       "      <td>4</td>\n",
       "      <td>2022-01-22</td>\n",
       "    </tr>\n",
       "    <tr>\n",
       "      <th>4</th>\n",
       "      <td>001cd9ae23064d7f0fd3cd327c873d8d</td>\n",
       "      <td>93.844759</td>\n",
       "      <td>0.0</td>\n",
       "      <td>0.0</td>\n",
       "      <td>93.844759</td>\n",
       "      <td>0.0</td>\n",
       "      <td>0.0</td>\n",
       "      <td>31-33</td>\n",
       "      <td>23</td>\n",
       "      <td>81</td>\n",
       "      <td>...</td>\n",
       "      <td>0.0</td>\n",
       "      <td>0.0</td>\n",
       "      <td>0.0</td>\n",
       "      <td>0.0</td>\n",
       "      <td>0.0</td>\n",
       "      <td>0.0</td>\n",
       "      <td>93.844759</td>\n",
       "      <td>10484.333333</td>\n",
       "      <td>5</td>\n",
       "      <td>2022-01-29</td>\n",
       "    </tr>\n",
       "    <tr>\n",
       "      <th>...</th>\n",
       "      <td>...</td>\n",
       "      <td>...</td>\n",
       "      <td>...</td>\n",
       "      <td>...</td>\n",
       "      <td>...</td>\n",
       "      <td>...</td>\n",
       "      <td>...</td>\n",
       "      <td>...</td>\n",
       "      <td>...</td>\n",
       "      <td>...</td>\n",
       "      <td>...</td>\n",
       "      <td>...</td>\n",
       "      <td>...</td>\n",
       "      <td>...</td>\n",
       "      <td>...</td>\n",
       "      <td>...</td>\n",
       "      <td>...</td>\n",
       "      <td>...</td>\n",
       "      <td>...</td>\n",
       "      <td>...</td>\n",
       "      <td>...</td>\n",
       "    </tr>\n",
       "    <tr>\n",
       "      <th>19420</th>\n",
       "      <td>fec479d0202d6e1e3f051a9ee902ff5d</td>\n",
       "      <td>59.000000</td>\n",
       "      <td>0.0</td>\n",
       "      <td>0.0</td>\n",
       "      <td>10.000000</td>\n",
       "      <td>49.0</td>\n",
       "      <td>0.0</td>\n",
       "      <td>62</td>\n",
       "      <td>23</td>\n",
       "      <td>31-33</td>\n",
       "      <td>...</td>\n",
       "      <td>0.0</td>\n",
       "      <td>0.0</td>\n",
       "      <td>7.0</td>\n",
       "      <td>0.0</td>\n",
       "      <td>0.0</td>\n",
       "      <td>0.0</td>\n",
       "      <td>52.000000</td>\n",
       "      <td>9908.312500</td>\n",
       "      <td>33</td>\n",
       "      <td>2022-08-13</td>\n",
       "    </tr>\n",
       "    <tr>\n",
       "      <th>19421</th>\n",
       "      <td>fec479d0202d6e1e3f051a9ee902ff5d</td>\n",
       "      <td>34.000000</td>\n",
       "      <td>0.0</td>\n",
       "      <td>0.0</td>\n",
       "      <td>9.000000</td>\n",
       "      <td>25.0</td>\n",
       "      <td>0.0</td>\n",
       "      <td>23</td>\n",
       "      <td>62</td>\n",
       "      <td>61</td>\n",
       "      <td>...</td>\n",
       "      <td>0.0</td>\n",
       "      <td>0.0</td>\n",
       "      <td>8.0</td>\n",
       "      <td>0.0</td>\n",
       "      <td>0.0</td>\n",
       "      <td>0.0</td>\n",
       "      <td>26.000000</td>\n",
       "      <td>9908.312500</td>\n",
       "      <td>34</td>\n",
       "      <td>2022-08-20</td>\n",
       "    </tr>\n",
       "    <tr>\n",
       "      <th>19422</th>\n",
       "      <td>fec479d0202d6e1e3f051a9ee902ff5d</td>\n",
       "      <td>27.000000</td>\n",
       "      <td>0.0</td>\n",
       "      <td>0.0</td>\n",
       "      <td>12.000000</td>\n",
       "      <td>15.0</td>\n",
       "      <td>0.0</td>\n",
       "      <td>62</td>\n",
       "      <td>23</td>\n",
       "      <td>72</td>\n",
       "      <td>...</td>\n",
       "      <td>0.0</td>\n",
       "      <td>0.0</td>\n",
       "      <td>8.0</td>\n",
       "      <td>0.0</td>\n",
       "      <td>0.0</td>\n",
       "      <td>0.0</td>\n",
       "      <td>19.000000</td>\n",
       "      <td>9908.312500</td>\n",
       "      <td>35</td>\n",
       "      <td>2022-08-27</td>\n",
       "    </tr>\n",
       "    <tr>\n",
       "      <th>19423</th>\n",
       "      <td>fec479d0202d6e1e3f051a9ee902ff5d</td>\n",
       "      <td>28.000000</td>\n",
       "      <td>0.0</td>\n",
       "      <td>0.0</td>\n",
       "      <td>10.000000</td>\n",
       "      <td>18.0</td>\n",
       "      <td>0.0</td>\n",
       "      <td>23</td>\n",
       "      <td>62</td>\n",
       "      <td>72</td>\n",
       "      <td>...</td>\n",
       "      <td>0.0</td>\n",
       "      <td>0.0</td>\n",
       "      <td>10.0</td>\n",
       "      <td>0.0</td>\n",
       "      <td>0.0</td>\n",
       "      <td>0.0</td>\n",
       "      <td>18.000000</td>\n",
       "      <td>9908.312500</td>\n",
       "      <td>36</td>\n",
       "      <td>2022-09-03</td>\n",
       "    </tr>\n",
       "    <tr>\n",
       "      <th>19424</th>\n",
       "      <td>fec479d0202d6e1e3f051a9ee902ff5d</td>\n",
       "      <td>28.000000</td>\n",
       "      <td>0.0</td>\n",
       "      <td>0.0</td>\n",
       "      <td>11.000000</td>\n",
       "      <td>17.0</td>\n",
       "      <td>0.0</td>\n",
       "      <td>62</td>\n",
       "      <td>23</td>\n",
       "      <td>72</td>\n",
       "      <td>...</td>\n",
       "      <td>0.0</td>\n",
       "      <td>0.0</td>\n",
       "      <td>8.0</td>\n",
       "      <td>0.0</td>\n",
       "      <td>0.0</td>\n",
       "      <td>0.0</td>\n",
       "      <td>20.000000</td>\n",
       "      <td>9908.312500</td>\n",
       "      <td>37</td>\n",
       "      <td>2022-09-10</td>\n",
       "    </tr>\n",
       "  </tbody>\n",
       "</table>\n",
       "<p>19425 rows × 23 columns</p>\n",
       "</div>"
      ],
      "text/plain": [
       "                                  uu_id  total_claims  edu_8th_or_less  \\\n",
       "0      001cd9ae23064d7f0fd3cd327c873d8d    104.323590              0.0   \n",
       "1      001cd9ae23064d7f0fd3cd327c873d8d    101.703882              0.0   \n",
       "2      001cd9ae23064d7f0fd3cd327c873d8d     99.084175              0.0   \n",
       "3      001cd9ae23064d7f0fd3cd327c873d8d     96.464467              0.0   \n",
       "4      001cd9ae23064d7f0fd3cd327c873d8d     93.844759              0.0   \n",
       "...                                 ...           ...              ...   \n",
       "19420  fec479d0202d6e1e3f051a9ee902ff5d     59.000000              0.0   \n",
       "19421  fec479d0202d6e1e3f051a9ee902ff5d     34.000000              0.0   \n",
       "19422  fec479d0202d6e1e3f051a9ee902ff5d     27.000000              0.0   \n",
       "19423  fec479d0202d6e1e3f051a9ee902ff5d     28.000000              0.0   \n",
       "19424  fec479d0202d6e1e3f051a9ee902ff5d     28.000000              0.0   \n",
       "\n",
       "       edu_grades_9_11  edu_hs_grad_equiv  edu_post_hs  edu_unknown  \\\n",
       "0                  0.0         104.323590          0.0          0.0   \n",
       "1                  0.0         101.703882          0.0          0.0   \n",
       "2                  0.0          99.084175          0.0          0.0   \n",
       "3                  0.0          96.464467          0.0          0.0   \n",
       "4                  0.0          93.844759          0.0          0.0   \n",
       "...                ...                ...          ...          ...   \n",
       "19420              0.0          10.000000         49.0          0.0   \n",
       "19421              0.0           9.000000         25.0          0.0   \n",
       "19422              0.0          12.000000         15.0          0.0   \n",
       "19423              0.0          10.000000         18.0          0.0   \n",
       "19424              0.0          11.000000         17.0          0.0   \n",
       "\n",
       "      top_category_employer1 top_category_employer2 top_category_employer3  \\\n",
       "0                      31-33                     23                     81   \n",
       "1                      31-33                     23                     81   \n",
       "2                      31-33                     23                     81   \n",
       "3                      31-33                     23                     81   \n",
       "4                      31-33                     23                     81   \n",
       "...                      ...                    ...                    ...   \n",
       "19420                     62                     23                  31-33   \n",
       "19421                     23                     62                     61   \n",
       "19422                     62                     23                     72   \n",
       "19423                     23                     62                     72   \n",
       "19424                     62                     23                     72   \n",
       "\n",
       "       ...  race_amerindian  race_asian  race_black  race_noanswer  \\\n",
       "0      ...              0.0         0.0         0.0            0.0   \n",
       "1      ...              0.0         0.0         0.0            0.0   \n",
       "2      ...              0.0         0.0         0.0            0.0   \n",
       "3      ...              0.0         0.0         0.0            0.0   \n",
       "4      ...              0.0         0.0         0.0            0.0   \n",
       "...    ...              ...         ...         ...            ...   \n",
       "19420  ...              0.0         0.0         7.0            0.0   \n",
       "19421  ...              0.0         0.0         8.0            0.0   \n",
       "19422  ...              0.0         0.0         8.0            0.0   \n",
       "19423  ...              0.0         0.0        10.0            0.0   \n",
       "19424  ...              0.0         0.0         8.0            0.0   \n",
       "\n",
       "       race_hawaiiannative  race_other  race_white  average_wage  week_number  \\\n",
       "0                      0.0         0.0  104.323590  10484.333333            1   \n",
       "1                      0.0         0.0  101.703882  10484.333333            2   \n",
       "2                      0.0         0.0   99.084175  10484.333333            3   \n",
       "3                      0.0         0.0   96.464467  10484.333333            4   \n",
       "4                      0.0         0.0   93.844759  10484.333333            5   \n",
       "...                    ...         ...         ...           ...          ...   \n",
       "19420                  0.0         0.0   52.000000   9908.312500           33   \n",
       "19421                  0.0         0.0   26.000000   9908.312500           34   \n",
       "19422                  0.0         0.0   19.000000   9908.312500           35   \n",
       "19423                  0.0         0.0   18.000000   9908.312500           36   \n",
       "19424                  0.0         0.0   20.000000   9908.312500           37   \n",
       "\n",
       "             date  \n",
       "0      2022-01-01  \n",
       "1      2022-01-08  \n",
       "2      2022-01-15  \n",
       "3      2022-01-22  \n",
       "4      2022-01-29  \n",
       "...           ...  \n",
       "19420  2022-08-13  \n",
       "19421  2022-08-20  \n",
       "19422  2022-08-27  \n",
       "19423  2022-09-03  \n",
       "19424  2022-09-10  \n",
       "\n",
       "[19425 rows x 23 columns]"
      ]
     },
     "execution_count": 202,
     "metadata": {},
     "output_type": "execute_result"
    }
   ],
   "source": [
    "d = load_imp_industry()\n",
    "d"
   ]
  },
  {
   "cell_type": "code",
   "execution_count": 195,
   "id": "4c2c52fe",
   "metadata": {
    "execution": {
     "iopub.execute_input": "2023-05-10T02:29:06.226511Z",
     "iopub.status.busy": "2023-05-10T02:29:06.226393Z",
     "iopub.status.idle": "2023-05-10T02:29:06.229091Z",
     "shell.execute_reply": "2023-05-10T02:29:06.228864Z"
    },
    "lines_to_next_cell": 1
   },
   "outputs": [],
   "source": [
    "def plot_regression(d):    \n",
    "    e = d.loc[:, COL_MAP['edu'] + ['total_claims']].reset_index(0, drop=True)\n",
    "    e = e.fillna(0)\n",
    "    X = e[COL_MAP['edu']]\n",
    "    y = e['total_claims']\n",
    "    model = sklearn.linear_model.LinearRegression()\n",
    "    model.fit(X, y)\n",
    "    fig, ax = plt.subplots()\n",
    "    ax.plot(X.index, model.predict(X), label='predict')\n",
    "    ax.plot(X.index, y, label='observed', ls='--')\n",
    "    ax.legend()\n",
    "    ax.set_xlabel('index')\n",
    "    ax.set_ylabel('total_claims')"
   ]
  },
  {
   "cell_type": "code",
   "execution_count": 196,
   "id": "8e3f7554",
   "metadata": {
    "execution": {
     "iopub.execute_input": "2023-05-10T02:29:06.230596Z",
     "iopub.status.busy": "2023-05-10T02:29:06.230429Z",
     "iopub.status.idle": "2023-05-10T02:29:06.240798Z",
     "shell.execute_reply": "2023-05-10T02:29:06.240531Z"
    },
    "lines_to_next_cell": 2
   },
   "outputs": [
    {
     "ename": "NameError",
     "evalue": "name 'COL_MAP' is not defined",
     "output_type": "error",
     "traceback": [
      "\u001b[0;31m---------------------------------------------------------------------------\u001b[0m",
      "\u001b[0;31mNameError\u001b[0m                                 Traceback (most recent call last)",
      "Cell \u001b[0;32mIn [204], line 1\u001b[0m\n\u001b[0;32m----> 1\u001b[0m \u001b[43mplot_regression\u001b[49m\u001b[43m(\u001b[49m\u001b[43md\u001b[49m\u001b[43m)\u001b[49m\n",
      "Cell \u001b[0;32mIn [203], line 2\u001b[0m, in \u001b[0;36mplot_regression\u001b[0;34m(d)\u001b[0m\n\u001b[1;32m      1\u001b[0m \u001b[38;5;28;01mdef\u001b[39;00m \u001b[38;5;21mplot_regression\u001b[39m(d):    \n\u001b[0;32m----> 2\u001b[0m     e \u001b[38;5;241m=\u001b[39m d\u001b[38;5;241m.\u001b[39mloc[:, \u001b[43mCOL_MAP\u001b[49m[\u001b[38;5;124m'\u001b[39m\u001b[38;5;124medu\u001b[39m\u001b[38;5;124m'\u001b[39m] \u001b[38;5;241m+\u001b[39m [\u001b[38;5;124m'\u001b[39m\u001b[38;5;124mtotal_claims\u001b[39m\u001b[38;5;124m'\u001b[39m]]\u001b[38;5;241m.\u001b[39mreset_index(\u001b[38;5;241m0\u001b[39m, drop\u001b[38;5;241m=\u001b[39m\u001b[38;5;28;01mTrue\u001b[39;00m)\n\u001b[1;32m      3\u001b[0m     e \u001b[38;5;241m=\u001b[39m e\u001b[38;5;241m.\u001b[39mfillna(\u001b[38;5;241m0\u001b[39m)\n\u001b[1;32m      4\u001b[0m     X \u001b[38;5;241m=\u001b[39m e[COL_MAP[\u001b[38;5;124m'\u001b[39m\u001b[38;5;124medu\u001b[39m\u001b[38;5;124m'\u001b[39m]]\n",
      "\u001b[0;31mNameError\u001b[0m: name 'COL_MAP' is not defined"
     ]
    }
   ],
   "source": [
    "plot_regression(d)"
   ]
  }
 ],
 "metadata": {
  "jupytext": {
   "cell_metadata_filter": "-all",
   "main_language": "python",
   "notebook_metadata_filter": "-all"
  },
  "kernelspec": {
   "display_name": "base",
   "language": "python",
   "name": "python3"
  },
  "language_info": {
   "codemirror_mode": {
    "name": "ipython",
    "version": 3
   },
   "file_extension": ".py",
   "mimetype": "text/x-python",
   "name": "python",
   "nbconvert_exporter": "python",
   "pygments_lexer": "ipython3",
   "version": "3.9.12"
  }
 },
 "nbformat": 4,
 "nbformat_minor": 5
}
