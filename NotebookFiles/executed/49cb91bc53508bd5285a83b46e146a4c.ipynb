{
 "cells": [
  {
   "cell_type": "code",
   "execution_count": 1,
   "id": "7359fc31",
   "metadata": {
    "execution": {
     "iopub.execute_input": "2023-05-10T00:57:32.243389Z",
     "iopub.status.busy": "2023-05-10T00:57:32.242700Z",
     "iopub.status.idle": "2023-05-10T00:57:32.363644Z",
     "shell.execute_reply": "2023-05-10T00:57:32.363338Z"
    }
   },
   "outputs": [
    {
     "ename": "NameError",
     "evalue": "name 'unemployment_data' is not defined",
     "output_type": "error",
     "traceback": [
      "\u001b[0;31m---------------------------------------------------------------------------\u001b[0m",
      "\u001b[0;31mNameError\u001b[0m                                 Traceback (most recent call last)",
      "Cell \u001b[0;32mIn [1], line 2\u001b[0m\n\u001b[1;32m      1\u001b[0m \u001b[38;5;66;03m# remove unnecessary colomns and combine unemployment data together with wages\u001b[39;00m\n\u001b[0;32m----> 2\u001b[0m unemployment_sample \u001b[38;5;241m=\u001b[39m \u001b[43munemployment_data\u001b[49m\u001b[38;5;241m.\u001b[39mcopy()\n\u001b[1;32m      3\u001b[0m unemployment_sample \u001b[38;5;241m=\u001b[39m unemployment_sample\u001b[38;5;241m.\u001b[39mdrop([\u001b[38;5;124m'\u001b[39m\u001b[38;5;124mtimeperiod\u001b[39m\u001b[38;5;124m'\u001b[39m, \u001b[38;5;124m'\u001b[39m\u001b[38;5;124mtract\u001b[39m\u001b[38;5;124m'\u001b[39m, \u001b[38;5;124m'\u001b[39m\u001b[38;5;124mtract_name\u001b[39m\u001b[38;5;124m'\u001b[39m, \u001b[38;5;124m'\u001b[39m\u001b[38;5;124medu_8th_or_less\u001b[39m\u001b[38;5;124m'\u001b[39m, \u001b[38;5;124m'\u001b[39m\u001b[38;5;124medu_grades_9_11\u001b[39m\u001b[38;5;124m'\u001b[39m, \u001b[38;5;124m'\u001b[39m\u001b[38;5;124medu_hs_grad_equiv\u001b[39m\u001b[38;5;124m'\u001b[39m, \u001b[38;5;124m'\u001b[39m\u001b[38;5;124medu_post_hs\u001b[39m\u001b[38;5;124m'\u001b[39m,\\\n\u001b[1;32m      4\u001b[0m                                                \u001b[38;5;124m'\u001b[39m\u001b[38;5;124medu_unknown\u001b[39m\u001b[38;5;124m'\u001b[39m, \u001b[38;5;124m'\u001b[39m\u001b[38;5;124mtop_category_employer1\u001b[39m\u001b[38;5;124m'\u001b[39m, \u001b[38;5;124m'\u001b[39m\u001b[38;5;124mtop_category_employer2\u001b[39m\u001b[38;5;124m'\u001b[39m, \u001b[38;5;124m'\u001b[39m\u001b[38;5;124mtop_category_employer3\u001b[39m\u001b[38;5;124m'\u001b[39m, \u001b[38;5;124m'\u001b[39m\u001b[38;5;124mgender_female\u001b[39m\u001b[38;5;124m'\u001b[39m, \u001b[38;5;124m'\u001b[39m\u001b[38;5;124mgender_male\u001b[39m\u001b[38;5;124m'\u001b[39m,\\\n\u001b[1;32m      5\u001b[0m                                                 \u001b[38;5;124m'\u001b[39m\u001b[38;5;124mgender_na\u001b[39m\u001b[38;5;124m'\u001b[39m, \u001b[38;5;124m'\u001b[39m\u001b[38;5;124mrace_amerindian\u001b[39m\u001b[38;5;124m'\u001b[39m, \u001b[38;5;124m'\u001b[39m\u001b[38;5;124mrace_asian\u001b[39m\u001b[38;5;124m'\u001b[39m, \u001b[38;5;124m'\u001b[39m\u001b[38;5;124mrace_black\u001b[39m\u001b[38;5;124m'\u001b[39m, \u001b[38;5;124m'\u001b[39m\u001b[38;5;124mrace_noanswer\u001b[39m\u001b[38;5;124m'\u001b[39m, \u001b[38;5;124m'\u001b[39m\u001b[38;5;124mrace_hawaiiannative\u001b[39m\u001b[38;5;124m'\u001b[39m,\\\n\u001b[1;32m      6\u001b[0m                                                \u001b[38;5;124m'\u001b[39m\u001b[38;5;124mrace_other\u001b[39m\u001b[38;5;124m'\u001b[39m, \u001b[38;5;124m'\u001b[39m\u001b[38;5;124mrace_white\u001b[39m\u001b[38;5;124m'\u001b[39m], axis\u001b[38;5;241m=\u001b[39m\u001b[38;5;241m1\u001b[39m)\n\u001b[1;32m      7\u001b[0m wage_sample \u001b[38;5;241m=\u001b[39m wage_data\u001b[38;5;241m.\u001b[39mcopy()\n",
      "\u001b[0;31mNameError\u001b[0m: name 'unemployment_data' is not defined"
     ]
    }
   ],
   "source": [
    "# remove unnecessary colomns and combine unemployment data together with wages\n",
    "unemployment_sample = unemployment_data.copy()\n",
    "unemployment_sample = unemployment_sample.drop(['timeperiod', 'tract', 'tract_name', 'edu_8th_or_less', 'edu_grades_9_11', 'edu_hs_grad_equiv', 'edu_post_hs',\\\n",
    "                                               'edu_unknown', 'top_category_employer1', 'top_category_employer2', 'top_category_employer3', 'gender_female', 'gender_male',\\\n",
    "                                                'gender_na', 'race_amerindian', 'race_asian', 'race_black', 'race_noanswer', 'race_hawaiiannative',\\\n",
    "                                               'race_other', 'race_white'], axis=1)\n",
    "wage_sample = wage_data.copy()\n",
    "wage_sample.drop(['tract', 'tract_name'], axis=1)\n",
    "prediction_sample = prediction_list.copy()\n",
    "wages_dict = {i:wage_sample[\"average_wage\"].values[k] for k,i in enumerate(wage_sample[\"uu_id\"])}\n",
    "wage_list = [wages_dict[i]  for i in unemployment_sample[\"uu_id\"]]\n",
    "print(wages_dict)\n",
    "unemployment_sample[\"average_wage\"] = wage_list"
   ]
  },
  {
   "cell_type": "code",
   "execution_count": 2,
   "id": "2beb70b3",
   "metadata": {
    "execution": {
     "iopub.execute_input": "2023-05-10T00:57:32.365137Z",
     "iopub.status.busy": "2023-05-10T00:57:32.365029Z",
     "iopub.status.idle": "2023-05-10T00:57:32.371729Z",
     "shell.execute_reply": "2023-05-10T00:57:32.371485Z"
    }
   },
   "outputs": [
    {
     "ename": "NameError",
     "evalue": "name 'wage_sample' is not defined",
     "output_type": "error",
     "traceback": [
      "\u001b[0;31m---------------------------------------------------------------------------\u001b[0m",
      "\u001b[0;31mNameError\u001b[0m                                 Traceback (most recent call last)",
      "Cell \u001b[0;32mIn [2], line 1\u001b[0m\n\u001b[0;32m----> 1\u001b[0m tract_dic \u001b[38;5;241m=\u001b[39m {i:k \u001b[38;5;28;01mfor\u001b[39;00m k,i \u001b[38;5;129;01min\u001b[39;00m \u001b[38;5;28menumerate\u001b[39m(\u001b[43mwage_sample\u001b[49m[\u001b[38;5;124m\"\u001b[39m\u001b[38;5;124muu_id\u001b[39m\u001b[38;5;124m\"\u001b[39m])}\n",
      "\u001b[0;31mNameError\u001b[0m: name 'wage_sample' is not defined"
     ]
    }
   ],
   "source": [
    "tract_dic = {i:k for k,i in enumerate(wage_sample[\"uu_id\"])}"
   ]
  },
  {
   "cell_type": "code",
   "execution_count": 3,
   "id": "81d1bc77",
   "metadata": {
    "execution": {
     "iopub.execute_input": "2023-05-10T00:57:32.373148Z",
     "iopub.status.busy": "2023-05-10T00:57:32.373068Z",
     "iopub.status.idle": "2023-05-10T00:57:32.379693Z",
     "shell.execute_reply": "2023-05-10T00:57:32.379467Z"
    }
   },
   "outputs": [
    {
     "ename": "NameError",
     "evalue": "name 'unemployment_sample' is not defined",
     "output_type": "error",
     "traceback": [
      "\u001b[0;31m---------------------------------------------------------------------------\u001b[0m",
      "\u001b[0;31mNameError\u001b[0m                                 Traceback (most recent call last)",
      "Cell \u001b[0;32mIn [3], line 1\u001b[0m\n\u001b[0;32m----> 1\u001b[0m unemployment_sample[\u001b[38;5;124m\"\u001b[39m\u001b[38;5;124muu_id\u001b[39m\u001b[38;5;124m\"\u001b[39m] \u001b[38;5;241m=\u001b[39m [tract_dic[i] \u001b[38;5;28;01mfor\u001b[39;00m i \u001b[38;5;129;01min\u001b[39;00m \u001b[43munemployment_sample\u001b[49m[\u001b[38;5;124m\"\u001b[39m\u001b[38;5;124muu_id\u001b[39m\u001b[38;5;124m\"\u001b[39m]]\n",
      "\u001b[0;31mNameError\u001b[0m: name 'unemployment_sample' is not defined"
     ]
    }
   ],
   "source": [
    "unemployment_sample[\"uu_id\"] = [tract_dic[i] for i in unemployment_sample[\"uu_id\"]]"
   ]
  },
  {
   "cell_type": "code",
   "execution_count": 4,
   "id": "da9d2665",
   "metadata": {
    "execution": {
     "iopub.execute_input": "2023-05-10T00:57:32.381040Z",
     "iopub.status.busy": "2023-05-10T00:57:32.380956Z",
     "iopub.status.idle": "2023-05-10T00:57:32.389965Z",
     "shell.execute_reply": "2023-05-10T00:57:32.389731Z"
    }
   },
   "outputs": [
    {
     "ename": "NameError",
     "evalue": "name 'unemployment_data' is not defined",
     "output_type": "error",
     "traceback": [
      "\u001b[0;31m---------------------------------------------------------------------------\u001b[0m",
      "\u001b[0;31mNameError\u001b[0m                                 Traceback (most recent call last)",
      "Cell \u001b[0;32mIn [4], line 2\u001b[0m\n\u001b[1;32m      1\u001b[0m \u001b[38;5;66;03m# remove unnecessary colomns and combine unemployment data together with wages\u001b[39;00m\n\u001b[0;32m----> 2\u001b[0m unemployment_sample \u001b[38;5;241m=\u001b[39m \u001b[43munemployment_data\u001b[49m\u001b[38;5;241m.\u001b[39mcopy()\n\u001b[1;32m      3\u001b[0m unemployment_sample \u001b[38;5;241m=\u001b[39m unemployment_sample\u001b[38;5;241m.\u001b[39mdrop([\u001b[38;5;124m'\u001b[39m\u001b[38;5;124mtimeperiod\u001b[39m\u001b[38;5;124m'\u001b[39m, \u001b[38;5;124m'\u001b[39m\u001b[38;5;124mtract\u001b[39m\u001b[38;5;124m'\u001b[39m, \u001b[38;5;124m'\u001b[39m\u001b[38;5;124mtract_name\u001b[39m\u001b[38;5;124m'\u001b[39m, \u001b[38;5;124m'\u001b[39m\u001b[38;5;124medu_8th_or_less\u001b[39m\u001b[38;5;124m'\u001b[39m, \u001b[38;5;124m'\u001b[39m\u001b[38;5;124medu_grades_9_11\u001b[39m\u001b[38;5;124m'\u001b[39m, \u001b[38;5;124m'\u001b[39m\u001b[38;5;124medu_hs_grad_equiv\u001b[39m\u001b[38;5;124m'\u001b[39m, \u001b[38;5;124m'\u001b[39m\u001b[38;5;124medu_post_hs\u001b[39m\u001b[38;5;124m'\u001b[39m,\\\n\u001b[1;32m      4\u001b[0m                                                \u001b[38;5;124m'\u001b[39m\u001b[38;5;124medu_unknown\u001b[39m\u001b[38;5;124m'\u001b[39m, \u001b[38;5;124m'\u001b[39m\u001b[38;5;124mtop_category_employer1\u001b[39m\u001b[38;5;124m'\u001b[39m, \u001b[38;5;124m'\u001b[39m\u001b[38;5;124mtop_category_employer2\u001b[39m\u001b[38;5;124m'\u001b[39m, \u001b[38;5;124m'\u001b[39m\u001b[38;5;124mtop_category_employer3\u001b[39m\u001b[38;5;124m'\u001b[39m, \u001b[38;5;124m'\u001b[39m\u001b[38;5;124mgender_female\u001b[39m\u001b[38;5;124m'\u001b[39m, \u001b[38;5;124m'\u001b[39m\u001b[38;5;124mgender_male\u001b[39m\u001b[38;5;124m'\u001b[39m,\\\n\u001b[1;32m      5\u001b[0m                                                 \u001b[38;5;124m'\u001b[39m\u001b[38;5;124mgender_na\u001b[39m\u001b[38;5;124m'\u001b[39m, \u001b[38;5;124m'\u001b[39m\u001b[38;5;124mrace_amerindian\u001b[39m\u001b[38;5;124m'\u001b[39m, \u001b[38;5;124m'\u001b[39m\u001b[38;5;124mrace_asian\u001b[39m\u001b[38;5;124m'\u001b[39m, \u001b[38;5;124m'\u001b[39m\u001b[38;5;124mrace_black\u001b[39m\u001b[38;5;124m'\u001b[39m, \u001b[38;5;124m'\u001b[39m\u001b[38;5;124mrace_noanswer\u001b[39m\u001b[38;5;124m'\u001b[39m, \u001b[38;5;124m'\u001b[39m\u001b[38;5;124mrace_hawaiiannative\u001b[39m\u001b[38;5;124m'\u001b[39m,\\\n\u001b[1;32m      6\u001b[0m                                                \u001b[38;5;124m'\u001b[39m\u001b[38;5;124mrace_other\u001b[39m\u001b[38;5;124m'\u001b[39m, \u001b[38;5;124m'\u001b[39m\u001b[38;5;124mrace_white\u001b[39m\u001b[38;5;124m'\u001b[39m], axis\u001b[38;5;241m=\u001b[39m\u001b[38;5;241m1\u001b[39m)\n\u001b[1;32m      7\u001b[0m wage_sample \u001b[38;5;241m=\u001b[39m wage_data\u001b[38;5;241m.\u001b[39mcopy()\n",
      "\u001b[0;31mNameError\u001b[0m: name 'unemployment_data' is not defined"
     ]
    }
   ],
   "source": [
    "# remove unnecessary colomns and combine unemployment data together with wages\n",
    "unemployment_sample = unemployment_data.copy()\n",
    "unemployment_sample = unemployment_sample.drop(['timeperiod', 'tract', 'tract_name', 'edu_8th_or_less', 'edu_grades_9_11', 'edu_hs_grad_equiv', 'edu_post_hs',\\\n",
    "                                               'edu_unknown', 'top_category_employer1', 'top_category_employer2', 'top_category_employer3', 'gender_female', 'gender_male',\\\n",
    "                                                'gender_na', 'race_amerindian', 'race_asian', 'race_black', 'race_noanswer', 'race_hawaiiannative',\\\n",
    "                                               'race_other', 'race_white'], axis=1)\n",
    "wage_sample = wage_data.copy()\n",
    "wage_sample.drop(['tract', 'tract_name'], axis=1)\n",
    "prediction_sample = prediction_list.copy()\n",
    "wages_dict = {i:wage_sample[\"average_wage\"].values[k] for k,i in enumerate(wage_sample[\"uu_id\"])}\n",
    "wage_list = [wages_dict[i]  for i in unemployment_sample[\"uu_id\"]]\n",
    "# print(wages_dict)\n",
    "unemployment_sample[\"average_wage\"] = wage_list"
   ]
  },
  {
   "cell_type": "code",
   "execution_count": 5,
   "id": "b681479d",
   "metadata": {
    "execution": {
     "iopub.execute_input": "2023-05-10T00:57:32.391362Z",
     "iopub.status.busy": "2023-05-10T00:57:32.391280Z",
     "iopub.status.idle": "2023-05-10T00:57:32.412444Z",
     "shell.execute_reply": "2023-05-10T00:57:32.412167Z"
    }
   },
   "outputs": [
    {
     "ename": "NameError",
     "evalue": "name 'wage_sample' is not defined",
     "output_type": "error",
     "traceback": [
      "\u001b[0;31m---------------------------------------------------------------------------\u001b[0m",
      "\u001b[0;31mNameError\u001b[0m                                 Traceback (most recent call last)",
      "Cell \u001b[0;32mIn [5], line 1\u001b[0m\n\u001b[0;32m----> 1\u001b[0m tract_dic \u001b[38;5;241m=\u001b[39m {i:k \u001b[38;5;28;01mfor\u001b[39;00m k,i \u001b[38;5;129;01min\u001b[39;00m \u001b[38;5;28menumerate\u001b[39m(\u001b[43mwage_sample\u001b[49m[\u001b[38;5;124m\"\u001b[39m\u001b[38;5;124muu_id\u001b[39m\u001b[38;5;124m\"\u001b[39m])}\n",
      "\u001b[0;31mNameError\u001b[0m: name 'wage_sample' is not defined"
     ]
    }
   ],
   "source": [
    "tract_dic = {i:k for k,i in enumerate(wage_sample[\"uu_id\"])}"
   ]
  },
  {
   "cell_type": "code",
   "execution_count": 6,
   "id": "c1bdd6a1",
   "metadata": {
    "execution": {
     "iopub.execute_input": "2023-05-10T00:57:32.413931Z",
     "iopub.status.busy": "2023-05-10T00:57:32.413825Z",
     "iopub.status.idle": "2023-05-10T00:57:32.420505Z",
     "shell.execute_reply": "2023-05-10T00:57:32.420235Z"
    }
   },
   "outputs": [
    {
     "ename": "NameError",
     "evalue": "name 'unemployment_sample' is not defined",
     "output_type": "error",
     "traceback": [
      "\u001b[0;31m---------------------------------------------------------------------------\u001b[0m",
      "\u001b[0;31mNameError\u001b[0m                                 Traceback (most recent call last)",
      "Cell \u001b[0;32mIn [6], line 1\u001b[0m\n\u001b[0;32m----> 1\u001b[0m unemployment_sample[\u001b[38;5;124m\"\u001b[39m\u001b[38;5;124muu_id\u001b[39m\u001b[38;5;124m\"\u001b[39m] \u001b[38;5;241m=\u001b[39m [tract_dic[i] \u001b[38;5;28;01mfor\u001b[39;00m i \u001b[38;5;129;01min\u001b[39;00m \u001b[43munemployment_sample\u001b[49m[\u001b[38;5;124m\"\u001b[39m\u001b[38;5;124muu_id\u001b[39m\u001b[38;5;124m\"\u001b[39m]]\n",
      "\u001b[0;31mNameError\u001b[0m: name 'unemployment_sample' is not defined"
     ]
    }
   ],
   "source": [
    "unemployment_sample[\"uu_id\"] = [tract_dic[i] for i in unemployment_sample[\"uu_id\"]]"
   ]
  },
  {
   "cell_type": "code",
   "execution_count": 7,
   "id": "477becb0",
   "metadata": {
    "execution": {
     "iopub.execute_input": "2023-05-10T00:57:32.421915Z",
     "iopub.status.busy": "2023-05-10T00:57:32.421833Z",
     "iopub.status.idle": "2023-05-10T00:57:32.427700Z",
     "shell.execute_reply": "2023-05-10T00:57:32.427443Z"
    }
   },
   "outputs": [],
   "source": [
    "get_ipython().run_cell_magic('capture', '', \"%logstop\\n%logstart -t -r -q ipython_command_log.py global\\n\\n#- IRONHACKS RESEARCH TRACKING CODE\\n#----------------------------------\\n# The following code is used to help our research team understand how you \\n# our notebook environment. We do not collect any personal information with\\n# the following code, it is used to measure when and how often you work on\\n# your submission files.\\n\\nimport os\\nfrom datetime import datetime\\nimport IPython.core.history as history\\n\\nha = history.HistoryAccessor()\\nha_tail = ha.get_tail(1)\\nha_cmd = next(ha_tail)\\nsession_id = str(ha_cmd[0])\\ncommand_id = str(ha_cmd[1])\\ntimestamp = datetime.utcnow().isoformat()\\nhistory_line = ','.join([session_id, command_id, timestamp]) + '\\\\n'\\nlogfile = open(os.environ['HOME']+'/ipython_session_log.csv', 'a')\\nlogfile.write(history_line)\\nlogfile.close()\\n\")"
   ]
  },
  {
   "cell_type": "code",
   "execution_count": 8,
   "id": "07866f11",
   "metadata": {
    "execution": {
     "iopub.execute_input": "2023-05-10T00:57:32.429299Z",
     "iopub.status.busy": "2023-05-10T00:57:32.429207Z",
     "iopub.status.idle": "2023-05-10T00:57:33.525781Z",
     "shell.execute_reply": "2023-05-10T00:57:33.525029Z"
    }
   },
   "outputs": [],
   "source": [
    "get_ipython().run_cell_magic('capture', '', \"\\n#- INSTALL ADDITIONAL LIBRARIES IF REQUIRED\\n#------------------------------------------\\n# This is normally not required. The hub environment comes preinstaled with \\n# many packages that you can already use without setup. In case there is some\\n# other library you would like to use that isn't on the list you run this command\\n# once to install them.  If it is already installed this command has no effect.\\n\\n!python3 -m pip install pandas\\n\")"
   ]
  },
  {
   "cell_type": "markdown",
   "id": "ec096408",
   "metadata": {},
   "source": [
    "- IMPORT THE LIBRARIES YOU WILL USE\n",
    "------------------------------------------\n",
    "You only need to import packages one time per notebook session. To keep your\n",
    "notebook clean and organized you can handle all imports at the top of your file.\n",
    "The following are included for example purposed, feel free to modify or delete \n",
    "anything in this section."
   ]
  },
  {
   "cell_type": "code",
   "execution_count": 9,
   "id": "bd71a2d5",
   "metadata": {
    "execution": {
     "iopub.execute_input": "2023-05-10T00:57:33.529020Z",
     "iopub.status.busy": "2023-05-10T00:57:33.528662Z",
     "iopub.status.idle": "2023-05-10T00:57:33.911006Z",
     "shell.execute_reply": "2023-05-10T00:57:33.910730Z"
    },
    "lines_to_next_cell": 1
   },
   "outputs": [],
   "source": [
    "import csv\n",
    "import pandas as pd\n",
    "import numpy as np\n",
    "from google.cloud import bigquery\n",
    "from google.oauth2 import service_account\n",
    "from google.cloud.bigquery import magics"
   ]
  },
  {
   "cell_type": "markdown",
   "id": "bf4b6129",
   "metadata": {},
   "source": [
    "- DEFINE YOUR CLASSES AND FUNCTIONS \n",
    "-----------------------------------\n",
    "This is not required, but is helpful in keeping your notebook organized. \n",
    "You can use the following cell or several cells to define your functions\n",
    "and classes to keep them separate from your analysis or results code.\n",
    "In general it useful to define your methods in a separate cell from where\n",
    "it is run."
   ]
  },
  {
   "cell_type": "code",
   "execution_count": 10,
   "id": "2a38286e",
   "metadata": {
    "execution": {
     "iopub.execute_input": "2023-05-10T00:57:33.912716Z",
     "iopub.status.busy": "2023-05-10T00:57:33.912577Z",
     "iopub.status.idle": "2023-05-10T00:57:33.914337Z",
     "shell.execute_reply": "2023-05-10T00:57:33.914120Z"
    },
    "lines_to_next_cell": 1
   },
   "outputs": [],
   "source": [
    "def example_function():\n",
    "    print('Hello World')"
   ]
  },
  {
   "cell_type": "code",
   "execution_count": 11,
   "id": "7fd605fb",
   "metadata": {
    "execution": {
     "iopub.execute_input": "2023-05-10T00:57:33.915678Z",
     "iopub.status.busy": "2023-05-10T00:57:33.915599Z",
     "iopub.status.idle": "2023-05-10T00:57:33.922181Z",
     "shell.execute_reply": "2023-05-10T00:57:33.921853Z"
    }
   },
   "outputs": [],
   "source": [
    "BIGQUERY_PROJECT = 'ironhacks-data'\n",
    "bigquery_client = bigquery.Client(project=BIGQUERY_PROJECT)"
   ]
  },
  {
   "cell_type": "code",
   "execution_count": 12,
   "id": "1d438ba7",
   "metadata": {
    "execution": {
     "iopub.execute_input": "2023-05-10T00:57:33.923770Z",
     "iopub.status.busy": "2023-05-10T00:57:33.923688Z",
     "iopub.status.idle": "2023-05-10T00:57:33.925555Z",
     "shell.execute_reply": "2023-05-10T00:57:33.925310Z"
    }
   },
   "outputs": [],
   "source": [
    "query = \"\"\"\n",
    "SELECT *\n",
    "FROM `ironhacks-data.ironhacks_competition.unemployment_data`\n",
    "\"\"\""
   ]
  },
  {
   "cell_type": "code",
   "execution_count": 13,
   "id": "07298c9d",
   "metadata": {
    "execution": {
     "iopub.execute_input": "2023-05-10T00:57:33.926889Z",
     "iopub.status.busy": "2023-05-10T00:57:33.926814Z",
     "iopub.status.idle": "2023-05-10T00:57:36.868382Z",
     "shell.execute_reply": "2023-05-10T00:57:36.867814Z"
    }
   },
   "outputs": [
    {
     "name": "stdout",
     "output_type": "stream",
     "text": [
      "                                  uu_id  timeperiod  week_number  countyfips  \\\n",
      "0      f013068de98db1470bd986137a0c6d23    20220416           16       18003   \n",
      "1      21957d5517323845818d87623589e1ba    20220319           12       18089   \n",
      "2      6a5609f385912113b6f1014b958ed748    20220326           13       18089   \n",
      "3      46b2882ec4c373527ec33f7bd4f1388d    20220716           29       18089   \n",
      "4      37495d17e82f7df326bfc2c4c090f7b7    20220409           15       18089   \n",
      "...                                 ...         ...          ...         ...   \n",
      "16828  f35320206f3dd1ffc411e4ac127caf92    20220618           25       18163   \n",
      "16829  f35320206f3dd1ffc411e4ac127caf92    20220827           35       18163   \n",
      "16830  f35320206f3dd1ffc411e4ac127caf92    20220827           35       18163   \n",
      "16831  bbcb018f0e5e49e13636f6e78ce9f60f    20220326           13       18163   \n",
      "16832  bbcb018f0e5e49e13636f6e78ce9f60f    20220416           16       18163   \n",
      "\n",
      "       tract                                        tract_name  total_claims  \\\n",
      "0        900             Census Tract 9, Allen County, Indiana            22   \n",
      "1      10400            Census Tract 104, Lake County, Indiana           111   \n",
      "2      11500            Census Tract 115, Lake County, Indiana            39   \n",
      "3      20700            Census Tract 207, Lake County, Indiana            14   \n",
      "4      21900            Census Tract 219, Lake County, Indiana           155   \n",
      "...      ...                                               ...           ...   \n",
      "16828   3804   Census Tract 38.04, Vanderburgh County, Indiana            21   \n",
      "16829   3804   Census Tract 38.04, Vanderburgh County, Indiana            22   \n",
      "16830   3804   Census Tract 38.04, Vanderburgh County, Indiana            22   \n",
      "16831  10203  Census Tract 102.03, Vanderburgh County, Indiana            53   \n",
      "16832  10203  Census Tract 102.03, Vanderburgh County, Indiana            24   \n",
      "\n",
      "       edu_8th_or_less  edu_grades_9_11  edu_hs_grad_equiv  ...  \\\n",
      "0                    0             <NA>                 14  ...   \n",
      "1                    0             <NA>                108  ...   \n",
      "2                    0             <NA>               <NA>  ...   \n",
      "3                    0             <NA>               <NA>  ...   \n",
      "4                    0             <NA>                 69  ...   \n",
      "...                ...              ...                ...  ...   \n",
      "16828                0             <NA>               <NA>  ...   \n",
      "16829                0             <NA>                 13  ...   \n",
      "16830                0             <NA>                 13  ...   \n",
      "16831                0             <NA>                 48  ...   \n",
      "16832                0             <NA>                 18  ...   \n",
      "\n",
      "       gender_female  gender_male gender_na race_amerindian race_asian  \\\n",
      "0               <NA>         <NA>         0               0          0   \n",
      "1                 76           35         0               0          0   \n",
      "2               <NA>         <NA>         0               0          0   \n",
      "3               <NA>         <NA>         0               0       <NA>   \n",
      "4                 90           65         0               0          0   \n",
      "...              ...          ...       ...             ...        ...   \n",
      "16828           <NA>         <NA>         0               0          0   \n",
      "16829           <NA>         <NA>         0               0          0   \n",
      "16830           <NA>         <NA>         0               0          0   \n",
      "16831           <NA>         <NA>         0               0          0   \n",
      "16832             11           13         0               0       <NA>   \n",
      "\n",
      "       race_black  race_noanswer  race_hawaiiannative  race_other  race_white  \n",
      "0              11              0                    0        <NA>        <NA>  \n",
      "1            <NA>           <NA>                    0           0           0  \n",
      "2              39              0                    0           0           0  \n",
      "3              10              0                    0        <NA>        <NA>  \n",
      "4             135           <NA>                 <NA>        <NA>        <NA>  \n",
      "...           ...            ...                  ...         ...         ...  \n",
      "16828        <NA>           <NA>                    0        <NA>          14  \n",
      "16829        <NA>           <NA>                    0        <NA>        <NA>  \n",
      "16830        <NA>           <NA>                    0        <NA>        <NA>  \n",
      "16831        <NA>           <NA>                    0           0        <NA>  \n",
      "16832        <NA>           <NA>                    0           0        <NA>  \n",
      "\n",
      "[16833 rows x 25 columns]\n"
     ]
    }
   ],
   "source": [
    "query_job = bigquery_client.query(query)\n",
    "unemployment_data = query_job.to_dataframe()\n",
    "print(unemployment_data)"
   ]
  },
  {
   "cell_type": "code",
   "execution_count": 14,
   "id": "91d402e2",
   "metadata": {
    "execution": {
     "iopub.execute_input": "2023-05-10T00:57:36.871246Z",
     "iopub.status.busy": "2023-05-10T00:57:36.871031Z",
     "iopub.status.idle": "2023-05-10T00:57:36.884977Z",
     "shell.execute_reply": "2023-05-10T00:57:36.884559Z"
    }
   },
   "outputs": [
    {
     "ename": "NameError",
     "evalue": "name 'unemployment_sample' is not defined",
     "output_type": "error",
     "traceback": [
      "\u001b[0;31m---------------------------------------------------------------------------\u001b[0m",
      "\u001b[0;31mNameError\u001b[0m                                 Traceback (most recent call last)",
      "Cell \u001b[0;32mIn [14], line 1\u001b[0m\n\u001b[0;32m----> 1\u001b[0m \u001b[38;5;28mprint\u001b[39m(\u001b[43munemployment_sample\u001b[49m\u001b[38;5;241m.\u001b[39mloc[\u001b[38;5;241m1\u001b[39m])\n",
      "\u001b[0;31mNameError\u001b[0m: name 'unemployment_sample' is not defined"
     ]
    }
   ],
   "source": [
    "print(unemployment_sample.loc[1])"
   ]
  },
  {
   "cell_type": "code",
   "execution_count": 15,
   "id": "ad5bad4a",
   "metadata": {
    "execution": {
     "iopub.execute_input": "2023-05-10T00:57:36.886990Z",
     "iopub.status.busy": "2023-05-10T00:57:36.886829Z",
     "iopub.status.idle": "2023-05-10T00:57:36.896414Z",
     "shell.execute_reply": "2023-05-10T00:57:36.896087Z"
    }
   },
   "outputs": [
    {
     "ename": "NameError",
     "evalue": "name 'unemployment_sample' is not defined",
     "output_type": "error",
     "traceback": [
      "\u001b[0;31m---------------------------------------------------------------------------\u001b[0m",
      "\u001b[0;31mNameError\u001b[0m                                 Traceback (most recent call last)",
      "Cell \u001b[0;32mIn [15], line 1\u001b[0m\n\u001b[0;32m----> 1\u001b[0m X \u001b[38;5;241m=\u001b[39m \u001b[43munemployment_sample\u001b[49m\u001b[38;5;241m.\u001b[39mdrop([\u001b[38;5;124m\"\u001b[39m\u001b[38;5;124mtotal_claims\u001b[39m\u001b[38;5;124m\"\u001b[39m], axis\u001b[38;5;241m=\u001b[39m\u001b[38;5;241m1\u001b[39m)\u001b[38;5;241m.\u001b[39mto_numpy() \u001b[38;5;66;03m#to_numpy() values\u001b[39;00m\n\u001b[1;32m      2\u001b[0m y \u001b[38;5;241m=\u001b[39m unemployment_sample[\u001b[38;5;124m'\u001b[39m\u001b[38;5;124mtotal_claims\u001b[39m\u001b[38;5;124m'\u001b[39m]\u001b[38;5;241m.\u001b[39mto_numpy()   \u001b[38;5;66;03m#to_numpy() values\u001b[39;00m\n\u001b[1;32m      3\u001b[0m \u001b[38;5;66;03m# print(X.shape,y.shape)\u001b[39;00m\n",
      "\u001b[0;31mNameError\u001b[0m: name 'unemployment_sample' is not defined"
     ]
    }
   ],
   "source": [
    "X = unemployment_sample.drop([\"total_claims\"], axis=1).to_numpy() #to_numpy() values\n",
    "y = unemployment_sample['total_claims'].to_numpy()   #to_numpy() values\n",
    "# print(X.shape,y.shape)"
   ]
  },
  {
   "cell_type": "code",
   "execution_count": 16,
   "id": "10d55812",
   "metadata": {
    "execution": {
     "iopub.execute_input": "2023-05-10T00:57:36.898136Z",
     "iopub.status.busy": "2023-05-10T00:57:36.898010Z",
     "iopub.status.idle": "2023-05-10T00:57:36.904324Z",
     "shell.execute_reply": "2023-05-10T00:57:36.904046Z"
    }
   },
   "outputs": [],
   "source": [
    "get_ipython().run_cell_magic('capture', '', \"%logstop\\n%logstart -t -r -q ipython_command_log.py global\\n\\n#- IRONHACKS RESEARCH TRACKING CODE\\n#----------------------------------\\n# The following code is used to help our research team understand how you \\n# our notebook environment. We do not collect any personal information with\\n# the following code, it is used to measure when and how often you work on\\n# your submission files.\\n\\nimport os\\nfrom datetime import datetime\\nimport IPython.core.history as history\\n\\nha = history.HistoryAccessor()\\nha_tail = ha.get_tail(1)\\nha_cmd = next(ha_tail)\\nsession_id = str(ha_cmd[0])\\ncommand_id = str(ha_cmd[1])\\ntimestamp = datetime.utcnow().isoformat()\\nhistory_line = ','.join([session_id, command_id, timestamp]) + '\\\\n'\\nlogfile = open(os.environ['HOME']+'/ipython_session_log.csv', 'a')\\nlogfile.write(history_line)\\nlogfile.close()\\n\")"
   ]
  },
  {
   "cell_type": "code",
   "execution_count": 17,
   "id": "2467e22f",
   "metadata": {
    "execution": {
     "iopub.execute_input": "2023-05-10T00:57:36.905964Z",
     "iopub.status.busy": "2023-05-10T00:57:36.905837Z",
     "iopub.status.idle": "2023-05-10T00:57:37.996903Z",
     "shell.execute_reply": "2023-05-10T00:57:37.996127Z"
    }
   },
   "outputs": [],
   "source": [
    "get_ipython().run_cell_magic('capture', '', \"\\n#- INSTALL ADDITIONAL LIBRARIES IF REQUIRED\\n#------------------------------------------\\n# This is normally not required. The hub environment comes preinstaled with \\n# many packages that you can already use without setup. In case there is some\\n# other library you would like to use that isn't on the list you run this command\\n# once to install them.  If it is already installed this command has no effect.\\n\\n!python3 -m pip install pandas db-dtypes\\n\")"
   ]
  },
  {
   "cell_type": "markdown",
   "id": "c75c6f3f",
   "metadata": {},
   "source": [
    "- IMPORT THE LIBRARIES YOU WILL USE\n",
    "------------------------------------------\n",
    "You only need to import packages one time per notebook session. To keep your\n",
    "notebook clean and organized you can handle all imports at the top of your file.\n",
    "The following are included for example purposed, feel free to modify or delete \n",
    "anything in this section."
   ]
  },
  {
   "cell_type": "code",
   "execution_count": 18,
   "id": "eda568ae",
   "metadata": {
    "execution": {
     "iopub.execute_input": "2023-05-10T00:57:38.000043Z",
     "iopub.status.busy": "2023-05-10T00:57:37.999771Z",
     "iopub.status.idle": "2023-05-10T00:57:38.003289Z",
     "shell.execute_reply": "2023-05-10T00:57:38.002848Z"
    },
    "lines_to_next_cell": 1
   },
   "outputs": [],
   "source": [
    "import csv\n",
    "import pandas as pd\n",
    "import numpy as np\n",
    "from google.cloud import bigquery\n",
    "from google.oauth2 import service_account\n",
    "from google.cloud.bigquery import magics"
   ]
  },
  {
   "cell_type": "markdown",
   "id": "01b156e7",
   "metadata": {},
   "source": [
    "- DEFINE YOUR CLASSES AND FUNCTIONS \n",
    "-----------------------------------\n",
    "This is not required, but is helpful in keeping your notebook organized. \n",
    "You can use the following cell or several cells to define your functions\n",
    "and classes to keep them separate from your analysis or results code.\n",
    "In general it useful to define your methods in a separate cell from where\n",
    "it is run."
   ]
  },
  {
   "cell_type": "code",
   "execution_count": 19,
   "id": "8131d07e",
   "metadata": {
    "execution": {
     "iopub.execute_input": "2023-05-10T00:57:38.005413Z",
     "iopub.status.busy": "2023-05-10T00:57:38.005265Z",
     "iopub.status.idle": "2023-05-10T00:57:38.007763Z",
     "shell.execute_reply": "2023-05-10T00:57:38.007352Z"
    },
    "lines_to_next_cell": 1
   },
   "outputs": [],
   "source": [
    "def example_function():\n",
    "    print('Hello World')"
   ]
  },
  {
   "cell_type": "code",
   "execution_count": 20,
   "id": "af5b6cc7",
   "metadata": {
    "execution": {
     "iopub.execute_input": "2023-05-10T00:57:38.009868Z",
     "iopub.status.busy": "2023-05-10T00:57:38.009692Z",
     "iopub.status.idle": "2023-05-10T00:57:38.017858Z",
     "shell.execute_reply": "2023-05-10T00:57:38.017378Z"
    }
   },
   "outputs": [],
   "source": [
    "BIGQUERY_PROJECT = 'ironhacks-data'\n",
    "bigquery_client = bigquery.Client(project=BIGQUERY_PROJECT)"
   ]
  },
  {
   "cell_type": "code",
   "execution_count": 21,
   "id": "ee6818b2",
   "metadata": {
    "execution": {
     "iopub.execute_input": "2023-05-10T00:57:38.020255Z",
     "iopub.status.busy": "2023-05-10T00:57:38.020077Z",
     "iopub.status.idle": "2023-05-10T00:57:38.022534Z",
     "shell.execute_reply": "2023-05-10T00:57:38.022186Z"
    }
   },
   "outputs": [],
   "source": [
    "query = \"\"\"\n",
    "SELECT *\n",
    "FROM `ironhacks-data.ironhacks_competition.unemployment_data`\n",
    "\"\"\""
   ]
  },
  {
   "cell_type": "code",
   "execution_count": 22,
   "id": "f528d296",
   "metadata": {
    "execution": {
     "iopub.execute_input": "2023-05-10T00:57:38.024329Z",
     "iopub.status.busy": "2023-05-10T00:57:38.024189Z",
     "iopub.status.idle": "2023-05-10T00:57:39.541310Z",
     "shell.execute_reply": "2023-05-10T00:57:39.540742Z"
    },
    "lines_to_next_cell": 2
   },
   "outputs": [
    {
     "name": "stdout",
     "output_type": "stream",
     "text": [
      "                                  uu_id  timeperiod  week_number  countyfips  \\\n",
      "0      f013068de98db1470bd986137a0c6d23    20220416           16       18003   \n",
      "1      21957d5517323845818d87623589e1ba    20220319           12       18089   \n",
      "2      6a5609f385912113b6f1014b958ed748    20220326           13       18089   \n",
      "3      46b2882ec4c373527ec33f7bd4f1388d    20220716           29       18089   \n",
      "4      37495d17e82f7df326bfc2c4c090f7b7    20220409           15       18089   \n",
      "...                                 ...         ...          ...         ...   \n",
      "16828  f35320206f3dd1ffc411e4ac127caf92    20220618           25       18163   \n",
      "16829  f35320206f3dd1ffc411e4ac127caf92    20220827           35       18163   \n",
      "16830  f35320206f3dd1ffc411e4ac127caf92    20220827           35       18163   \n",
      "16831  bbcb018f0e5e49e13636f6e78ce9f60f    20220326           13       18163   \n",
      "16832  bbcb018f0e5e49e13636f6e78ce9f60f    20220416           16       18163   \n",
      "\n",
      "       tract                                        tract_name  total_claims  \\\n",
      "0        900             Census Tract 9, Allen County, Indiana            22   \n",
      "1      10400            Census Tract 104, Lake County, Indiana           111   \n",
      "2      11500            Census Tract 115, Lake County, Indiana            39   \n",
      "3      20700            Census Tract 207, Lake County, Indiana            14   \n",
      "4      21900            Census Tract 219, Lake County, Indiana           155   \n",
      "...      ...                                               ...           ...   \n",
      "16828   3804   Census Tract 38.04, Vanderburgh County, Indiana            21   \n",
      "16829   3804   Census Tract 38.04, Vanderburgh County, Indiana            22   \n",
      "16830   3804   Census Tract 38.04, Vanderburgh County, Indiana            22   \n",
      "16831  10203  Census Tract 102.03, Vanderburgh County, Indiana            53   \n",
      "16832  10203  Census Tract 102.03, Vanderburgh County, Indiana            24   \n",
      "\n",
      "       edu_8th_or_less  edu_grades_9_11  edu_hs_grad_equiv  ...  \\\n",
      "0                    0             <NA>                 14  ...   \n",
      "1                    0             <NA>                108  ...   \n",
      "2                    0             <NA>               <NA>  ...   \n",
      "3                    0             <NA>               <NA>  ...   \n",
      "4                    0             <NA>                 69  ...   \n",
      "...                ...              ...                ...  ...   \n",
      "16828                0             <NA>               <NA>  ...   \n",
      "16829                0             <NA>                 13  ...   \n",
      "16830                0             <NA>                 13  ...   \n",
      "16831                0             <NA>                 48  ...   \n",
      "16832                0             <NA>                 18  ...   \n",
      "\n",
      "       gender_female  gender_male gender_na race_amerindian race_asian  \\\n",
      "0               <NA>         <NA>         0               0          0   \n",
      "1                 76           35         0               0          0   \n",
      "2               <NA>         <NA>         0               0          0   \n",
      "3               <NA>         <NA>         0               0       <NA>   \n",
      "4                 90           65         0               0          0   \n",
      "...              ...          ...       ...             ...        ...   \n",
      "16828           <NA>         <NA>         0               0          0   \n",
      "16829           <NA>         <NA>         0               0          0   \n",
      "16830           <NA>         <NA>         0               0          0   \n",
      "16831           <NA>         <NA>         0               0          0   \n",
      "16832             11           13         0               0       <NA>   \n",
      "\n",
      "       race_black  race_noanswer  race_hawaiiannative  race_other  race_white  \n",
      "0              11              0                    0        <NA>        <NA>  \n",
      "1            <NA>           <NA>                    0           0           0  \n",
      "2              39              0                    0           0           0  \n",
      "3              10              0                    0        <NA>        <NA>  \n",
      "4             135           <NA>                 <NA>        <NA>        <NA>  \n",
      "...           ...            ...                  ...         ...         ...  \n",
      "16828        <NA>           <NA>                    0        <NA>          14  \n",
      "16829        <NA>           <NA>                    0        <NA>        <NA>  \n",
      "16830        <NA>           <NA>                    0        <NA>        <NA>  \n",
      "16831        <NA>           <NA>                    0           0        <NA>  \n",
      "16832        <NA>           <NA>                    0           0        <NA>  \n",
      "\n",
      "[16833 rows x 25 columns]\n"
     ]
    }
   ],
   "source": [
    "query_job = bigquery_client.query(query)\n",
    "unemployment_data = query_job.to_dataframe()\n",
    "print(unemployment_data)"
   ]
  }
 ],
 "metadata": {
  "jupytext": {
   "cell_metadata_filter": "-all",
   "main_language": "python",
   "notebook_metadata_filter": "-all"
  },
  "language_info": {
   "codemirror_mode": {
    "name": "ipython",
    "version": 3
   },
   "file_extension": ".py",
   "mimetype": "text/x-python",
   "name": "python",
   "nbconvert_exporter": "python",
   "pygments_lexer": "ipython3",
   "version": "3.9.12"
  }
 },
 "nbformat": 4,
 "nbformat_minor": 5
}
