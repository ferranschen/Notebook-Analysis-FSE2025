{
 "cells": [
  {
   "cell_type": "code",
   "execution_count": 1,
   "id": "887c8f3a",
   "metadata": {
    "execution": {
     "iopub.execute_input": "2023-05-10T02:50:33.936268Z",
     "iopub.status.busy": "2023-05-10T02:50:33.935678Z",
     "iopub.status.idle": "2023-05-10T02:50:34.057739Z",
     "shell.execute_reply": "2023-05-10T02:50:34.056748Z"
    },
    "lines_to_next_cell": 2
   },
   "outputs": [
    {
     "ename": "NameError",
     "evalue": "name 'stats' is not defined",
     "output_type": "error",
     "traceback": [
      "\u001b[0;31m---------------------------------------------------------------------------\u001b[0m",
      "\u001b[0;31mNameError\u001b[0m                                 Traceback (most recent call last)",
      "Cell \u001b[0;32mIn [1], line 1\u001b[0m\n\u001b[0;32m----> 1\u001b[0m \u001b[43mstats\u001b[49m\u001b[38;5;241m.\u001b[39mprobplot(scaled[\u001b[38;5;124m\"\u001b[39m\u001b[38;5;124mtotal_claims\u001b[39m\u001b[38;5;124m\"\u001b[39m],dist\u001b[38;5;241m=\u001b[39m\u001b[38;5;124m\"\u001b[39m\u001b[38;5;124mnorm\u001b[39m\u001b[38;5;124m\"\u001b[39m,plot\u001b[38;5;241m=\u001b[39mpylab)\n\u001b[1;32m      2\u001b[0m pylab\u001b[38;5;241m.\u001b[39mshow()\n",
      "\u001b[0;31mNameError\u001b[0m: name 'stats' is not defined"
     ]
    }
   ],
   "source": [
    "stats.probplot(scaled[\"total_claims\"],dist=\"norm\",plot=pylab)\n",
    "pylab.show()"
   ]
  }
 ],
 "metadata": {
  "jupytext": {
   "cell_metadata_filter": "-all",
   "main_language": "python",
   "notebook_metadata_filter": "-all"
  },
  "language_info": {
   "codemirror_mode": {
    "name": "ipython",
    "version": 3
   },
   "file_extension": ".py",
   "mimetype": "text/x-python",
   "name": "python",
   "nbconvert_exporter": "python",
   "pygments_lexer": "ipython3",
   "version": "3.9.12"
  }
 },
 "nbformat": 4,
 "nbformat_minor": 5
}
