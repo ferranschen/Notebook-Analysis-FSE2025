{
 "cells": [
  {
   "cell_type": "markdown",
   "id": "34db42ce",
   "metadata": {},
   "source": [
    "CONFIGURE THE BIGQUERY SETTINGS"
   ]
  },
  {
   "cell_type": "code",
   "execution_count": 1,
   "id": "75f08502",
   "metadata": {
    "execution": {
     "iopub.execute_input": "2023-05-10T02:09:25.720958Z",
     "iopub.status.busy": "2023-05-10T02:09:25.720563Z",
     "iopub.status.idle": "2023-05-10T02:09:25.833115Z",
     "shell.execute_reply": "2023-05-10T02:09:25.832804Z"
    }
   },
   "outputs": [
    {
     "ename": "AttributeError",
     "evalue": "'str' object has no attribute 'Client'",
     "output_type": "error",
     "traceback": [
      "\u001b[0;31m---------------------------------------------------------------------------\u001b[0m",
      "\u001b[0;31mAttributeError\u001b[0m                            Traceback (most recent call last)",
      "Cell \u001b[0;32mIn [1], line 2\u001b[0m\n\u001b[1;32m      1\u001b[0m BIGQUERY_PROJECT \u001b[38;5;241m=\u001b[39m \u001b[38;5;124m'\u001b[39m\u001b[38;5;124mironhacks-data\u001b[39m\u001b[38;5;124m'\u001b[39m\n\u001b[0;32m----> 2\u001b[0m bigquery_client \u001b[38;5;241m=\u001b[39m \u001b[43mBIGQUERY_PROJECT\u001b[49m\u001b[38;5;241;43m.\u001b[39;49m\u001b[43mClient\u001b[49m(project\u001b[38;5;241m=\u001b[39mBIGQUERY_PROJECT)\n",
      "\u001b[0;31mAttributeError\u001b[0m: 'str' object has no attribute 'Client'"
     ]
    }
   ],
   "source": [
    "BIGQUERY_PROJECT = 'ironhacks-data'\n",
    "bigquery_client = BIGQUERY_PROJECT.Client(project=BIGQUERY_PROJECT)"
   ]
  },
  {
   "cell_type": "markdown",
   "id": "2bd2cdac",
   "metadata": {},
   "source": [
    "CONFIGURE THE BIGQUERY SETTINGS"
   ]
  },
  {
   "cell_type": "code",
   "execution_count": 2,
   "id": "ffea8923",
   "metadata": {
    "execution": {
     "iopub.execute_input": "2023-05-10T02:09:25.834693Z",
     "iopub.status.busy": "2023-05-10T02:09:25.834582Z",
     "iopub.status.idle": "2023-05-10T02:09:25.841838Z",
     "shell.execute_reply": "2023-05-10T02:09:25.841583Z"
    }
   },
   "outputs": [
    {
     "ename": "NameError",
     "evalue": "name 'ironhacks' is not defined",
     "output_type": "error",
     "traceback": [
      "\u001b[0;31m---------------------------------------------------------------------------\u001b[0m",
      "\u001b[0;31mNameError\u001b[0m                                 Traceback (most recent call last)",
      "Cell \u001b[0;32mIn [2], line 2\u001b[0m\n\u001b[1;32m      1\u001b[0m BIGQUERY_PROJECT \u001b[38;5;241m=\u001b[39m \u001b[38;5;124m'\u001b[39m\u001b[38;5;124mironhacks-data\u001b[39m\u001b[38;5;124m'\u001b[39m\n\u001b[0;32m----> 2\u001b[0m bigquery_client \u001b[38;5;241m=\u001b[39m \u001b[43mironhacks\u001b[49m\u001b[38;5;241m-\u001b[39mdata\u001b[38;5;241m.\u001b[39mClient(project\u001b[38;5;241m=\u001b[39mBIGQUERY_PROJECT)\n",
      "\u001b[0;31mNameError\u001b[0m: name 'ironhacks' is not defined"
     ]
    }
   ],
   "source": [
    "BIGQUERY_PROJECT = 'ironhacks-data'\n",
    "bigquery_client = ironhacks-data.Client(project=BIGQUERY_PROJECT)"
   ]
  },
  {
   "cell_type": "code",
   "execution_count": 3,
   "id": "1c108155",
   "metadata": {
    "execution": {
     "iopub.execute_input": "2023-05-10T02:09:25.843314Z",
     "iopub.status.busy": "2023-05-10T02:09:25.843204Z",
     "iopub.status.idle": "2023-05-10T02:09:26.229667Z",
     "shell.execute_reply": "2023-05-10T02:09:26.229382Z"
    }
   },
   "outputs": [],
   "source": [
    "import os\n",
    "import pandas\n",
    "from google.cloud import bigquery\n",
    "from google.oauth2 import service_account\n",
    "from google.cloud.bigquery import magics"
   ]
  },
  {
   "cell_type": "markdown",
   "id": "23f2300a",
   "metadata": {},
   "source": [
    "CONFIGURE THE BIGQUERY SETTINGS"
   ]
  },
  {
   "cell_type": "code",
   "execution_count": 4,
   "id": "47efa2ec",
   "metadata": {
    "execution": {
     "iopub.execute_input": "2023-05-10T02:09:26.231608Z",
     "iopub.status.busy": "2023-05-10T02:09:26.231432Z",
     "iopub.status.idle": "2023-05-10T02:09:26.238311Z",
     "shell.execute_reply": "2023-05-10T02:09:26.238054Z"
    }
   },
   "outputs": [
    {
     "ename": "NameError",
     "evalue": "name 'BIGQUERY' is not defined",
     "output_type": "error",
     "traceback": [
      "\u001b[0;31m---------------------------------------------------------------------------\u001b[0m",
      "\u001b[0;31mNameError\u001b[0m                                 Traceback (most recent call last)",
      "Cell \u001b[0;32mIn [4], line 2\u001b[0m\n\u001b[1;32m      1\u001b[0m BIGQUERY_PROJECT \u001b[38;5;241m=\u001b[39m \u001b[38;5;124m'\u001b[39m\u001b[38;5;124mironhacks-data\u001b[39m\u001b[38;5;124m'\u001b[39m\n\u001b[0;32m----> 2\u001b[0m bigquery_client \u001b[38;5;241m=\u001b[39m \u001b[43mBIGQUERY\u001b[49m\u001b[38;5;241m.\u001b[39mClient(project\u001b[38;5;241m=\u001b[39mBIGQUERY_PROJECT)\n",
      "\u001b[0;31mNameError\u001b[0m: name 'BIGQUERY' is not defined"
     ]
    }
   ],
   "source": [
    "BIGQUERY_PROJECT = 'ironhacks-data'\n",
    "bigquery_client = BIGQUERY.Client(project=BIGQUERY_PROJECT)"
   ]
  },
  {
   "cell_type": "markdown",
   "id": "c5efc975",
   "metadata": {},
   "source": [
    "CONFIGURE THE BIGQUERY SETTINGS"
   ]
  },
  {
   "cell_type": "code",
   "execution_count": 5,
   "id": "bf8af49c",
   "metadata": {
    "execution": {
     "iopub.execute_input": "2023-05-10T02:09:26.239746Z",
     "iopub.status.busy": "2023-05-10T02:09:26.239665Z",
     "iopub.status.idle": "2023-05-10T02:09:26.246376Z",
     "shell.execute_reply": "2023-05-10T02:09:26.246005Z"
    }
   },
   "outputs": [],
   "source": [
    "BIGQUERY_PROJECT = 'ironhacks-data'\n",
    "bigquery_client = bigquery.Client(project=BIGQUERY_PROJECT)"
   ]
  },
  {
   "cell_type": "markdown",
   "id": "1f57f192",
   "metadata": {},
   "source": [
    "CONFIGURE THE BIGQUERY SETTINGS"
   ]
  },
  {
   "cell_type": "code",
   "execution_count": 6,
   "id": "ecb0c0ac",
   "metadata": {
    "execution": {
     "iopub.execute_input": "2023-05-10T02:09:26.248577Z",
     "iopub.status.busy": "2023-05-10T02:09:26.248410Z",
     "iopub.status.idle": "2023-05-10T02:09:26.253870Z",
     "shell.execute_reply": "2023-05-10T02:09:26.253548Z"
    }
   },
   "outputs": [],
   "source": [
    "BIGQUERY_PROJECT = 'ironhacks-data'\n",
    "bigquery_client = bigquery.Client(project=BIGQUERY_PROJECT)"
   ]
  },
  {
   "cell_type": "code",
   "execution_count": 7,
   "id": "e4a7b996",
   "metadata": {
    "execution": {
     "iopub.execute_input": "2023-05-10T02:09:26.255396Z",
     "iopub.status.busy": "2023-05-10T02:09:26.255307Z",
     "iopub.status.idle": "2023-05-10T02:09:26.257263Z",
     "shell.execute_reply": "2023-05-10T02:09:26.257011Z"
    }
   },
   "outputs": [],
   "source": [
    "query = \"\"\"\n",
    "SELECT *\n",
    "FROM `ironhacks-data.ironhacks_training.covid19_cases`\n",
    "\"\"\""
   ]
  },
  {
   "cell_type": "code",
   "execution_count": 8,
   "id": "48c6f36b",
   "metadata": {
    "execution": {
     "iopub.execute_input": "2023-05-10T02:09:26.258530Z",
     "iopub.status.busy": "2023-05-10T02:09:26.258449Z",
     "iopub.status.idle": "2023-05-10T02:09:29.175630Z",
     "shell.execute_reply": "2023-05-10T02:09:29.174828Z"
    }
   },
   "outputs": [],
   "source": [
    "# QUERY THE DATA ONCE\n",
    "query_job = bigquery_client.query(query)\n",
    "covid19_cases_data = query_job.to_dataframe()"
   ]
  },
  {
   "cell_type": "code",
   "execution_count": 9,
   "id": "040a7e8b",
   "metadata": {
    "execution": {
     "iopub.execute_input": "2023-05-10T02:09:29.179806Z",
     "iopub.status.busy": "2023-05-10T02:09:29.179420Z",
     "iopub.status.idle": "2023-05-10T02:09:29.188544Z",
     "shell.execute_reply": "2023-05-10T02:09:29.187939Z"
    }
   },
   "outputs": [
    {
     "name": "stdout",
     "output_type": "stream",
     "text": [
      "Columns:\n",
      "week_number\n",
      "start_date\n",
      "county\n",
      "fips\n",
      "cases\n",
      "deaths\n",
      "\n",
      "Results:\n",
      "   week_number  start_date  county   fips  cases  deaths\n",
      "0            9  2021-03-01  Marion  18097    664      23\n",
      "1           12  2021-03-22  Marion  18097    623      11\n",
      "2           19  2021-05-10  Marion  18097   1156       4\n",
      "3           11  2021-03-15  Marion  18097    560      13\n",
      "4            6  2021-02-08  Marion  18097   1542     219\n"
     ]
    }
   ],
   "source": [
    "# THEN WORK BELOW TO DO SOMETHING THE RESULTS\n",
    "print(\"Columns:\")\n",
    "print('\\n'.join(covid19_cases_data.columns))\n",
    "print(\"\\nResults:\")\n",
    "print(covid19_cases_data.head())"
   ]
  },
  {
   "cell_type": "code",
   "execution_count": 10,
   "id": "657d8b47",
   "metadata": {
    "execution": {
     "iopub.execute_input": "2023-05-10T02:09:29.191578Z",
     "iopub.status.busy": "2023-05-10T02:09:29.191324Z",
     "iopub.status.idle": "2023-05-10T02:09:29.194267Z",
     "shell.execute_reply": "2023-05-10T02:09:29.193731Z"
    }
   },
   "outputs": [],
   "source": [
    "query = \"\"\"\n",
    "SELECT COUNT(*)\n",
    "FROM `ironhacks-data.ironhacks_training.covid19_cases`\n",
    "\"\"\""
   ]
  },
  {
   "cell_type": "code",
   "execution_count": 11,
   "id": "0af6706b",
   "metadata": {
    "execution": {
     "iopub.execute_input": "2023-05-10T02:09:29.197043Z",
     "iopub.status.busy": "2023-05-10T02:09:29.196835Z",
     "iopub.status.idle": "2023-05-10T02:09:30.846735Z",
     "shell.execute_reply": "2023-05-10T02:09:30.845586Z"
    }
   },
   "outputs": [],
   "source": [
    "query_job = bigquery_client.query(query)\n",
    "covid19_cases_data = query_job.to_dataframe()"
   ]
  },
  {
   "cell_type": "code",
   "execution_count": 12,
   "id": "7ef6b281",
   "metadata": {
    "execution": {
     "iopub.execute_input": "2023-05-10T02:09:30.852252Z",
     "iopub.status.busy": "2023-05-10T02:09:30.851857Z",
     "iopub.status.idle": "2023-05-10T02:09:30.859313Z",
     "shell.execute_reply": "2023-05-10T02:09:30.858436Z"
    }
   },
   "outputs": [
    {
     "name": "stdout",
     "output_type": "stream",
     "text": [
      "   f0_\n",
      "0   46\n"
     ]
    }
   ],
   "source": [
    "print(covid19_cases_data)"
   ]
  },
  {
   "cell_type": "code",
   "execution_count": 13,
   "id": "63061cc6",
   "metadata": {
    "execution": {
     "iopub.execute_input": "2023-05-10T02:09:30.865929Z",
     "iopub.status.busy": "2023-05-10T02:09:30.865142Z",
     "iopub.status.idle": "2023-05-10T02:09:30.869913Z",
     "shell.execute_reply": "2023-05-10T02:09:30.869043Z"
    }
   },
   "outputs": [],
   "source": [
    "query = \"\"\"\n",
    "SELECT \n",
    "week_number,\n",
    "cases \n",
    "FROM `ironhacks-data.ironhacks_training.covid19_cases`\n",
    "Where week_number between 1 and 3\n",
    "order by week_number\n",
    "\"\"\""
   ]
  },
  {
   "cell_type": "code",
   "execution_count": 14,
   "id": "07c3a5ae",
   "metadata": {
    "execution": {
     "iopub.execute_input": "2023-05-10T02:09:30.873379Z",
     "iopub.status.busy": "2023-05-10T02:09:30.873058Z",
     "iopub.status.idle": "2023-05-10T02:09:32.462083Z",
     "shell.execute_reply": "2023-05-10T02:09:32.461113Z"
    }
   },
   "outputs": [],
   "source": [
    "query_job = bigquery_client.query(query)\n",
    "covid19_cases_data = query_job.to_dataframe()"
   ]
  },
  {
   "cell_type": "code",
   "execution_count": 15,
   "id": "e85dac9b",
   "metadata": {
    "execution": {
     "iopub.execute_input": "2023-05-10T02:09:32.469096Z",
     "iopub.status.busy": "2023-05-10T02:09:32.468688Z",
     "iopub.status.idle": "2023-05-10T02:09:32.476357Z",
     "shell.execute_reply": "2023-05-10T02:09:32.475595Z"
    },
    "lines_to_next_cell": 2
   },
   "outputs": [
    {
     "name": "stdout",
     "output_type": "stream",
     "text": [
      "mean:  cases    2732.666667\n",
      "dtype: float64\n"
     ]
    }
   ],
   "source": [
    "df = pandas.DataFrame(covid19_cases_data, columns = ['cases'])\n",
    "print(\"mean: \", df.mean()); "
   ]
  }
 ],
 "metadata": {
  "jupytext": {
   "cell_metadata_filter": "-all",
   "main_language": "python",
   "notebook_metadata_filter": "-all"
  },
  "kernelspec": {
   "display_name": "base",
   "language": "python",
   "name": "python3"
  },
  "language_info": {
   "codemirror_mode": {
    "name": "ipython",
    "version": 3
   },
   "file_extension": ".py",
   "mimetype": "text/x-python",
   "name": "python",
   "nbconvert_exporter": "python",
   "pygments_lexer": "ipython3",
   "version": "3.9.12"
  }
 },
 "nbformat": 4,
 "nbformat_minor": 5
}
