{
 "cells": [
  {
   "cell_type": "code",
   "execution_count": 1,
   "id": "a04d9e4b",
   "metadata": {
    "execution": {
     "iopub.execute_input": "2023-05-10T00:54:07.022123Z",
     "iopub.status.busy": "2023-05-10T00:54:07.021729Z",
     "iopub.status.idle": "2023-05-10T00:54:07.477580Z",
     "shell.execute_reply": "2023-05-10T00:54:07.477302Z"
    }
   },
   "outputs": [],
   "source": [
    "import os\n",
    "import pandas\n",
    "from google.cloud import bigquery\n",
    "from google.oauth2 import service_account\n",
    "from google.cloud.bigquery import magics"
   ]
  },
  {
   "cell_type": "code",
   "execution_count": 2,
   "id": "f988ee73",
   "metadata": {
    "execution": {
     "iopub.execute_input": "2023-05-10T00:54:07.479347Z",
     "iopub.status.busy": "2023-05-10T00:54:07.479205Z",
     "iopub.status.idle": "2023-05-10T00:54:07.486532Z",
     "shell.execute_reply": "2023-05-10T00:54:07.486186Z"
    }
   },
   "outputs": [],
   "source": [
    "BIGQUERY_PROJECT = 'ironhacks-data'\n",
    "bigquery_client = bigquery.Client(project=BIGQUERY_PROJECT)\n",
    "query = \"\"\"\n",
    "SELECT COUNT(*)\n",
    "FROM `ironhacks-data.ironhacks_training.covid19_cases`\n",
    "\"\"\""
   ]
  },
  {
   "cell_type": "code",
   "execution_count": 3,
   "id": "3a22f651",
   "metadata": {
    "execution": {
     "iopub.execute_input": "2023-05-10T00:54:07.488210Z",
     "iopub.status.busy": "2023-05-10T00:54:07.488121Z",
     "iopub.status.idle": "2023-05-10T00:54:09.138862Z",
     "shell.execute_reply": "2023-05-10T00:54:09.138105Z"
    }
   },
   "outputs": [
    {
     "name": "stdout",
     "output_type": "stream",
     "text": [
      "Columns:\n",
      "f0_\n",
      "\n",
      "Results:\n",
      "   f0_\n",
      "0   46\n"
     ]
    }
   ],
   "source": [
    "query_job = bigquery_client.query(query)\n",
    "covid19_cases_data = query_job.to_dataframe()\n",
    "print(\"Columns:\")\n",
    "print('\\n'.join(covid19_cases_data.columns))\n",
    "print(\"\\nResults:\")\n",
    "print(covid19_cases_data.head())"
   ]
  },
  {
   "cell_type": "code",
   "execution_count": 4,
   "id": "9847e5bd",
   "metadata": {
    "execution": {
     "iopub.execute_input": "2023-05-10T00:54:09.143725Z",
     "iopub.status.busy": "2023-05-10T00:54:09.143313Z",
     "iopub.status.idle": "2023-05-10T00:54:09.148821Z",
     "shell.execute_reply": "2023-05-10T00:54:09.148107Z"
    }
   },
   "outputs": [],
   "source": [
    "import os\n",
    "import pandas\n",
    "from google.cloud import bigquery\n",
    "from google.oauth2 import service_account\n",
    "from google.cloud.bigquery import magics"
   ]
  },
  {
   "cell_type": "code",
   "execution_count": 5,
   "id": "2d12688d",
   "metadata": {
    "execution": {
     "iopub.execute_input": "2023-05-10T00:54:09.151937Z",
     "iopub.status.busy": "2023-05-10T00:54:09.151652Z",
     "iopub.status.idle": "2023-05-10T00:54:09.166192Z",
     "shell.execute_reply": "2023-05-10T00:54:09.165405Z"
    }
   },
   "outputs": [],
   "source": [
    "BIGQUERY_PROJECT = 'ironhacks-data'\n",
    "bigquery_client = bigquery.Client(project=BIGQUERY_PROJECT)\n",
    "query = \"\"\"\n",
    "SELECT COUNT(*)\n",
    "FROM `ironhacks-data.ironhacks_training.covid19_cases`\n",
    "\"\"\""
   ]
  },
  {
   "cell_type": "code",
   "execution_count": 6,
   "id": "85e38045",
   "metadata": {
    "execution": {
     "iopub.execute_input": "2023-05-10T00:54:09.169867Z",
     "iopub.status.busy": "2023-05-10T00:54:09.169419Z",
     "iopub.status.idle": "2023-05-10T00:54:10.763949Z",
     "shell.execute_reply": "2023-05-10T00:54:10.762685Z"
    }
   },
   "outputs": [
    {
     "name": "stdout",
     "output_type": "stream",
     "text": [
      "Columns:\n",
      "f0_\n",
      "\n",
      "Results:\n",
      "   f0_\n",
      "0   46\n"
     ]
    }
   ],
   "source": [
    "query_job = bigquery_client.query(query)\n",
    "covid19_cases_data = query_job.to_dataframe()\n",
    "print(\"Columns:\")\n",
    "print('\\n'.join(covid19_cases_data.columns))\n",
    "print(\"\\nResults:\")\n",
    "print(covid19_cases_data.head())"
   ]
  },
  {
   "cell_type": "code",
   "execution_count": 7,
   "id": "06ab4f27",
   "metadata": {
    "execution": {
     "iopub.execute_input": "2023-05-10T00:54:10.768612Z",
     "iopub.status.busy": "2023-05-10T00:54:10.768138Z",
     "iopub.status.idle": "2023-05-10T00:54:10.773122Z",
     "shell.execute_reply": "2023-05-10T00:54:10.772396Z"
    }
   },
   "outputs": [],
   "source": [
    "import os\n",
    "import pandas\n",
    "from google.cloud import bigquery\n",
    "from google.oauth2 import service_account\n",
    "from google.cloud.bigquery import magics"
   ]
  },
  {
   "cell_type": "code",
   "execution_count": 8,
   "id": "e8026256",
   "metadata": {
    "execution": {
     "iopub.execute_input": "2023-05-10T00:54:10.777103Z",
     "iopub.status.busy": "2023-05-10T00:54:10.776721Z",
     "iopub.status.idle": "2023-05-10T00:54:10.792332Z",
     "shell.execute_reply": "2023-05-10T00:54:10.791532Z"
    }
   },
   "outputs": [],
   "source": [
    "BIGQUERY_PROJECT = 'ironhacks-data'\n",
    "bigquery_client = bigquery.Client(project=BIGQUERY_PROJECT)\n",
    "query = \"\"\"\n",
    "SELECT COUNT(*)\n",
    "FROM `ironhacks-data.ironhacks_training.covid19_cases`\n",
    "\"\"\""
   ]
  },
  {
   "cell_type": "code",
   "execution_count": 9,
   "id": "13e4fe01",
   "metadata": {
    "execution": {
     "iopub.execute_input": "2023-05-10T00:54:10.795981Z",
     "iopub.status.busy": "2023-05-10T00:54:10.795656Z",
     "iopub.status.idle": "2023-05-10T00:54:14.181255Z",
     "shell.execute_reply": "2023-05-10T00:54:14.179647Z"
    },
    "lines_to_next_cell": 2
   },
   "outputs": [
    {
     "name": "stdout",
     "output_type": "stream",
     "text": [
      "   f0_\n",
      "0   46\n"
     ]
    }
   ],
   "source": [
    "query_job = bigquery_client.query(query)\n",
    "covid19_cases_data = query_job.to_dataframe()\n",
    "query_job = bigquery_client.query(query)\n",
    "covid19_cases_data = query_job.to_dataframe()\n",
    "print(covid19_cases_data)"
   ]
  }
 ],
 "metadata": {
  "jupytext": {
   "cell_metadata_filter": "-all",
   "main_language": "python",
   "notebook_metadata_filter": "-all"
  },
  "kernelspec": {
   "display_name": "base",
   "language": "python",
   "name": "python3"
  },
  "language_info": {
   "codemirror_mode": {
    "name": "ipython",
    "version": 3
   },
   "file_extension": ".py",
   "mimetype": "text/x-python",
   "name": "python",
   "nbconvert_exporter": "python",
   "pygments_lexer": "ipython3",
   "version": "3.9.12"
  }
 },
 "nbformat": 4,
 "nbformat_minor": 5
}
