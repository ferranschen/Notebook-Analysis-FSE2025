{
 "cells": [
  {
   "cell_type": "code",
   "execution_count": 1,
   "id": "d1090cce",
   "metadata": {
    "execution": {
     "iopub.execute_input": "2023-05-09T23:15:20.142650Z",
     "iopub.status.busy": "2023-05-09T23:15:20.142501Z",
     "iopub.status.idle": "2023-05-09T23:15:20.514752Z",
     "shell.execute_reply": "2023-05-09T23:15:20.514419Z"
    }
   },
   "outputs": [],
   "source": [
    "import os\n",
    "import pandas\n",
    "from google.cloud import bigquery\n",
    "from google.oauth2 import service_account\n",
    "from google.cloud.bigquery import magics"
   ]
  },
  {
   "cell_type": "markdown",
   "id": "7eb6cc70",
   "metadata": {},
   "source": [
    "CONFIGURE THE BIGQUERY SETTINGS"
   ]
  },
  {
   "cell_type": "code",
   "execution_count": 2,
   "id": "de4e1aa0",
   "metadata": {
    "execution": {
     "iopub.execute_input": "2023-05-09T23:15:20.516565Z",
     "iopub.status.busy": "2023-05-09T23:15:20.516406Z",
     "iopub.status.idle": "2023-05-09T23:15:20.523313Z",
     "shell.execute_reply": "2023-05-09T23:15:20.522997Z"
    }
   },
   "outputs": [],
   "source": [
    "BIGQUERY_PROJECT = 'ironhacks-data'\n",
    "bigquery_client = bigquery.Client(project=BIGQUERY_PROJECT)"
   ]
  },
  {
   "cell_type": "code",
   "execution_count": 3,
   "id": "20cbf5c3",
   "metadata": {
    "execution": {
     "iopub.execute_input": "2023-05-09T23:15:20.524957Z",
     "iopub.status.busy": "2023-05-09T23:15:20.524845Z",
     "iopub.status.idle": "2023-05-09T23:15:20.526795Z",
     "shell.execute_reply": "2023-05-09T23:15:20.526564Z"
    }
   },
   "outputs": [],
   "source": [
    "query = \"\"\"\n",
    "SELECT *\n",
    "FROM `ironhacks-data.ironhacks_training.covid19_cases`\n",
    "\"\"\""
   ]
  },
  {
   "cell_type": "code",
   "execution_count": 4,
   "id": "2fe38288",
   "metadata": {
    "execution": {
     "iopub.execute_input": "2023-05-09T23:15:20.528175Z",
     "iopub.status.busy": "2023-05-09T23:15:20.528078Z",
     "iopub.status.idle": "2023-05-09T23:15:23.491087Z",
     "shell.execute_reply": "2023-05-09T23:15:23.490340Z"
    }
   },
   "outputs": [],
   "source": [
    "# QUERY THE DATA ONCE\n",
    "query_job = bigquery_client.query(query)\n",
    "covid19_cases_data = query_job.to_dataframe()"
   ]
  },
  {
   "cell_type": "code",
   "execution_count": 5,
   "id": "4d3f95ab",
   "metadata": {
    "execution": {
     "iopub.execute_input": "2023-05-09T23:15:23.495104Z",
     "iopub.status.busy": "2023-05-09T23:15:23.494797Z",
     "iopub.status.idle": "2023-05-09T23:15:23.503856Z",
     "shell.execute_reply": "2023-05-09T23:15:23.503299Z"
    }
   },
   "outputs": [
    {
     "name": "stdout",
     "output_type": "stream",
     "text": [
      "Columns:\n",
      "week_number\n",
      "start_date\n",
      "county\n",
      "fips\n",
      "cases\n",
      "deaths\n",
      "\n",
      "Results:\n",
      "   week_number  start_date  county   fips  cases  deaths\n",
      "0            9  2021-03-01  Marion  18097    664      23\n",
      "1           12  2021-03-22  Marion  18097    623      11\n",
      "2           19  2021-05-10  Marion  18097   1156       4\n",
      "3           11  2021-03-15  Marion  18097    560      13\n",
      "4            6  2021-02-08  Marion  18097   1542     219\n"
     ]
    }
   ],
   "source": [
    "# THEN WORK BELOW TO DO SOMETHING THE RESULTS\n",
    "print(\"Columns:\")\n",
    "print('\\n'.join(covid19_cases_data.columns))\n",
    "print(\"\\nResults:\")\n",
    "print(covid19_cases_data.head())"
   ]
  },
  {
   "cell_type": "code",
   "execution_count": 6,
   "id": "8a916df8",
   "metadata": {
    "execution": {
     "iopub.execute_input": "2023-05-09T23:15:23.506913Z",
     "iopub.status.busy": "2023-05-09T23:15:23.506439Z",
     "iopub.status.idle": "2023-05-09T23:15:23.509441Z",
     "shell.execute_reply": "2023-05-09T23:15:23.508918Z"
    }
   },
   "outputs": [],
   "source": [
    "query = \"\"\"\n",
    "SELECT COUNT(*)\n",
    "FROM `ironhacks-data.ironhacks_training.covid19_cases`\n",
    "\"\"\""
   ]
  },
  {
   "cell_type": "code",
   "execution_count": 7,
   "id": "820c04ca",
   "metadata": {
    "execution": {
     "iopub.execute_input": "2023-05-09T23:15:23.512004Z",
     "iopub.status.busy": "2023-05-09T23:15:23.511794Z",
     "iopub.status.idle": "2023-05-09T23:15:25.153632Z",
     "shell.execute_reply": "2023-05-09T23:15:25.152614Z"
    }
   },
   "outputs": [],
   "source": [
    "query_job = bigquery_client.query(query)\n",
    "covid19_cases_data = query_job.to_dataframe()"
   ]
  },
  {
   "cell_type": "code",
   "execution_count": 8,
   "id": "a02cb431",
   "metadata": {
    "execution": {
     "iopub.execute_input": "2023-05-09T23:15:25.158479Z",
     "iopub.status.busy": "2023-05-09T23:15:25.158067Z",
     "iopub.status.idle": "2023-05-09T23:15:25.163843Z",
     "shell.execute_reply": "2023-05-09T23:15:25.163237Z"
    }
   },
   "outputs": [
    {
     "name": "stdout",
     "output_type": "stream",
     "text": [
      "   f0_\n",
      "0   46\n"
     ]
    }
   ],
   "source": [
    "print(covid19_cases_data)"
   ]
  },
  {
   "cell_type": "code",
   "execution_count": 9,
   "id": "ab97e3a6",
   "metadata": {
    "execution": {
     "iopub.execute_input": "2023-05-09T23:15:25.167919Z",
     "iopub.status.busy": "2023-05-09T23:15:25.167436Z",
     "iopub.status.idle": "2023-05-09T23:15:25.170876Z",
     "shell.execute_reply": "2023-05-09T23:15:25.170272Z"
    }
   },
   "outputs": [],
   "source": [
    "query = \"\"\"\n",
    "SELECT \n",
    "week_number,\n",
    "cases \n",
    "FROM `ironhacks-data.ironhacks_training.covid19_cases`\n",
    "Where week_number between 1 and 3\n",
    "order by week_number\n",
    "\"\"\""
   ]
  },
  {
   "cell_type": "code",
   "execution_count": 10,
   "id": "1b614925",
   "metadata": {
    "execution": {
     "iopub.execute_input": "2023-05-09T23:15:25.173499Z",
     "iopub.status.busy": "2023-05-09T23:15:25.173313Z",
     "iopub.status.idle": "2023-05-09T23:15:26.840142Z",
     "shell.execute_reply": "2023-05-09T23:15:26.838320Z"
    }
   },
   "outputs": [],
   "source": [
    "query_job = bigquery_client.query(query)\n",
    "covid19_cases_data = query_job.to_dataframe()"
   ]
  },
  {
   "cell_type": "code",
   "execution_count": 11,
   "id": "22dab596",
   "metadata": {
    "execution": {
     "iopub.execute_input": "2023-05-09T23:15:26.848193Z",
     "iopub.status.busy": "2023-05-09T23:15:26.847701Z",
     "iopub.status.idle": "2023-05-09T23:15:26.856558Z",
     "shell.execute_reply": "2023-05-09T23:15:26.855642Z"
    }
   },
   "outputs": [
    {
     "name": "stdout",
     "output_type": "stream",
     "text": [
      "   week_number  cases\n",
      "0            1   4714\n",
      "1            1    964\n",
      "2            2   5289\n",
      "3            2   1232\n",
      "4            3   3460\n"
     ]
    }
   ],
   "source": [
    "print(covid19_cases_data.head())"
   ]
  },
  {
   "cell_type": "code",
   "execution_count": 12,
   "id": "31ec69ce",
   "metadata": {
    "execution": {
     "iopub.execute_input": "2023-05-09T23:15:26.861995Z",
     "iopub.status.busy": "2023-05-09T23:15:26.861613Z",
     "iopub.status.idle": "2023-05-09T23:15:26.868471Z",
     "shell.execute_reply": "2023-05-09T23:15:26.867826Z"
    },
    "lines_to_next_cell": 2
   },
   "outputs": [
    {
     "name": "stdout",
     "output_type": "stream",
     "text": [
      "mean:  cases    2732.666667\n",
      "dtype: float64\n"
     ]
    }
   ],
   "source": [
    "df = pandas.DataFrame(covid19_cases_data, columns = ['cases'])\n",
    "print(\"mean: \", df.mean()); "
   ]
  }
 ],
 "metadata": {
  "jupytext": {
   "cell_metadata_filter": "-all",
   "main_language": "python",
   "notebook_metadata_filter": "-all"
  },
  "kernelspec": {
   "display_name": "base",
   "language": "python",
   "name": "python3"
  },
  "language_info": {
   "codemirror_mode": {
    "name": "ipython",
    "version": 3
   },
   "file_extension": ".py",
   "mimetype": "text/x-python",
   "name": "python",
   "nbconvert_exporter": "python",
   "pygments_lexer": "ipython3",
   "version": "3.9.12"
  }
 },
 "nbformat": 4,
 "nbformat_minor": 5
}
